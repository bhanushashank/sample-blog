{
 "cells": [
  {
   "cell_type": "markdown",
   "id": "98380cd3",
   "metadata": {
    "papermill": {
     "duration": 0.030043,
     "end_time": "2022-07-15T00:45:45.595903",
     "exception": false,
     "start_time": "2022-07-15T00:45:45.565860",
     "status": "completed"
    },
    "tags": []
   },
   "source": [
    "# Distinguish Your Own Digits (DYOD)"
   ]
  },
  {
   "cell_type": "markdown",
   "id": "ef31240d",
   "metadata": {
    "papermill": {
     "duration": 0.024079,
     "end_time": "2022-07-15T00:45:45.644598",
     "exception": false,
     "start_time": "2022-07-15T00:45:45.620519",
     "status": "completed"
    },
    "tags": []
   },
   "source": [
    "You are going to write a classifier that distinguishes between the number 3 and number 8."
   ]
  },
  {
   "cell_type": "code",
   "execution_count": 1,
   "id": "b15c8646",
   "metadata": {
    "execution": {
     "iopub.execute_input": "2022-07-15T00:45:45.703148Z",
     "iopub.status.busy": "2022-07-15T00:45:45.702473Z",
     "iopub.status.idle": "2022-07-15T00:45:45.712961Z",
     "shell.execute_reply": "2022-07-15T00:45:45.713423Z"
    },
    "papermill": {
     "duration": 0.045133,
     "end_time": "2022-07-15T00:45:45.713584",
     "exception": false,
     "start_time": "2022-07-15T00:45:45.668451",
     "status": "completed"
    },
    "tags": []
   },
   "outputs": [],
   "source": [
    "%load_ext autoreload\n",
    "%autoreload 2"
   ]
  },
  {
   "cell_type": "code",
   "execution_count": 2,
   "id": "22ef38dc",
   "metadata": {
    "execution": {
     "iopub.execute_input": "2022-07-15T00:45:45.766139Z",
     "iopub.status.busy": "2022-07-15T00:45:45.765544Z",
     "iopub.status.idle": "2022-07-15T00:45:46.313230Z",
     "shell.execute_reply": "2022-07-15T00:45:46.312210Z"
    },
    "papermill": {
     "duration": 0.575725,
     "end_time": "2022-07-15T00:45:46.313373",
     "exception": false,
     "start_time": "2022-07-15T00:45:45.737648",
     "status": "completed"
    },
    "tags": []
   },
   "outputs": [],
   "source": [
    "%matplotlib inline\n",
    "import numpy as np\n",
    "import matplotlib.pyplot as plt\n",
    "import pandas as pd"
   ]
  },
  {
   "cell_type": "markdown",
   "id": "ba036198",
   "metadata": {
    "papermill": {
     "duration": 0.023946,
     "end_time": "2022-07-15T00:45:46.361938",
     "exception": false,
     "start_time": "2022-07-15T00:45:46.337992",
     "status": "completed"
    },
    "tags": []
   },
   "source": [
    "From the command line run `pip install mnist`. This is a library that will help you bring down the mnist dataset. If you run this from a notebook, you need to put  `!pip install mnist` in a cell by itself."
   ]
  },
  {
   "cell_type": "code",
   "execution_count": 3,
   "id": "bb6ad8a1",
   "metadata": {
    "execution": {
     "iopub.execute_input": "2022-07-15T00:45:46.425771Z",
     "iopub.status.busy": "2022-07-15T00:45:46.424763Z",
     "iopub.status.idle": "2022-07-15T00:45:48.144225Z",
     "shell.execute_reply": "2022-07-15T00:45:48.143626Z"
    },
    "papermill": {
     "duration": 1.75841,
     "end_time": "2022-07-15T00:45:48.144356",
     "exception": false,
     "start_time": "2022-07-15T00:45:46.385946",
     "status": "completed"
    },
    "tags": []
   },
   "outputs": [
    {
     "name": "stdout",
     "output_type": "stream",
     "text": [
      "Collecting mnist\r\n"
     ]
    },
    {
     "name": "stdout",
     "output_type": "stream",
     "text": [
      "  Downloading mnist-0.2.2-py2.py3-none-any.whl (3.5 kB)\r\n",
      "Requirement already satisfied: numpy in /opt/hostedtoolcache/Python/3.6.15/x64/lib/python3.6/site-packages (from mnist) (1.19.5)\r\n"
     ]
    },
    {
     "name": "stdout",
     "output_type": "stream",
     "text": [
      "Installing collected packages: mnist\r\n"
     ]
    },
    {
     "name": "stdout",
     "output_type": "stream",
     "text": [
      "Successfully installed mnist-0.2.2\r\n"
     ]
    }
   ],
   "source": [
    "!pip install mnist"
   ]
  },
  {
   "cell_type": "markdown",
   "id": "69df9c9a",
   "metadata": {
    "papermill": {
     "duration": 0.025187,
     "end_time": "2022-07-15T00:45:48.195619",
     "exception": false,
     "start_time": "2022-07-15T00:45:48.170432",
     "status": "completed"
    },
    "tags": []
   },
   "source": [
    "## Preparing the Data"
   ]
  },
  {
   "cell_type": "code",
   "execution_count": 4,
   "id": "7f69d806",
   "metadata": {
    "execution": {
     "iopub.execute_input": "2022-07-15T00:45:48.250173Z",
     "iopub.status.busy": "2022-07-15T00:45:48.249578Z",
     "iopub.status.idle": "2022-07-15T00:45:48.264503Z",
     "shell.execute_reply": "2022-07-15T00:45:48.264002Z"
    },
    "papermill": {
     "duration": 0.044013,
     "end_time": "2022-07-15T00:45:48.264621",
     "exception": false,
     "start_time": "2022-07-15T00:45:48.220608",
     "status": "completed"
    },
    "tags": []
   },
   "outputs": [],
   "source": [
    "import mnist"
   ]
  },
  {
   "cell_type": "code",
   "execution_count": 5,
   "id": "a411e44f",
   "metadata": {
    "execution": {
     "iopub.execute_input": "2022-07-15T00:45:48.318892Z",
     "iopub.status.busy": "2022-07-15T00:45:48.318277Z",
     "iopub.status.idle": "2022-07-15T00:45:48.900431Z",
     "shell.execute_reply": "2022-07-15T00:45:48.899829Z"
    },
    "papermill": {
     "duration": 0.610735,
     "end_time": "2022-07-15T00:45:48.900565",
     "exception": false,
     "start_time": "2022-07-15T00:45:48.289830",
     "status": "completed"
    },
    "tags": []
   },
   "outputs": [],
   "source": [
    "train_images = mnist.train_images()\n",
    "train_labels = mnist.train_labels()"
   ]
  },
  {
   "cell_type": "code",
   "execution_count": 6,
   "id": "dceab3a5",
   "metadata": {
    "execution": {
     "iopub.execute_input": "2022-07-15T00:45:48.966588Z",
     "iopub.status.busy": "2022-07-15T00:45:48.963945Z",
     "iopub.status.idle": "2022-07-15T00:45:48.974234Z",
     "shell.execute_reply": "2022-07-15T00:45:48.974686Z"
    },
    "papermill": {
     "duration": 0.04855,
     "end_time": "2022-07-15T00:45:48.974833",
     "exception": false,
     "start_time": "2022-07-15T00:45:48.926283",
     "status": "completed"
    },
    "tags": []
   },
   "outputs": [
    {
     "data": {
      "text/plain": [
       "((60000, 28, 28), (60000,))"
      ]
     },
     "execution_count": 6,
     "metadata": {},
     "output_type": "execute_result"
    }
   ],
   "source": [
    "train_images.shape, train_labels.shape"
   ]
  },
  {
   "cell_type": "code",
   "execution_count": 7,
   "id": "f50dc2bb",
   "metadata": {
    "execution": {
     "iopub.execute_input": "2022-07-15T00:45:49.036151Z",
     "iopub.status.busy": "2022-07-15T00:45:49.029447Z",
     "iopub.status.idle": "2022-07-15T00:45:49.177522Z",
     "shell.execute_reply": "2022-07-15T00:45:49.176916Z"
    },
    "papermill": {
     "duration": 0.177591,
     "end_time": "2022-07-15T00:45:49.177709",
     "exception": false,
     "start_time": "2022-07-15T00:45:49.000118",
     "status": "completed"
    },
    "tags": []
   },
   "outputs": [],
   "source": [
    "test_images = mnist.test_images()\n",
    "test_labels = mnist.test_labels()"
   ]
  },
  {
   "cell_type": "code",
   "execution_count": 8,
   "id": "fc38cf1b",
   "metadata": {
    "execution": {
     "iopub.execute_input": "2022-07-15T00:45:49.232972Z",
     "iopub.status.busy": "2022-07-15T00:45:49.232385Z",
     "iopub.status.idle": "2022-07-15T00:45:49.246233Z",
     "shell.execute_reply": "2022-07-15T00:45:49.245660Z"
    },
    "papermill": {
     "duration": 0.042589,
     "end_time": "2022-07-15T00:45:49.246348",
     "exception": false,
     "start_time": "2022-07-15T00:45:49.203759",
     "status": "completed"
    },
    "tags": []
   },
   "outputs": [
    {
     "data": {
      "text/plain": [
       "((10000, 28, 28), (10000,))"
      ]
     },
     "execution_count": 8,
     "metadata": {},
     "output_type": "execute_result"
    }
   ],
   "source": [
    "test_images.shape, test_labels.shape"
   ]
  },
  {
   "cell_type": "code",
   "execution_count": 9,
   "id": "f9ed8fe0",
   "metadata": {
    "execution": {
     "iopub.execute_input": "2022-07-15T00:45:49.305195Z",
     "iopub.status.busy": "2022-07-15T00:45:49.304599Z",
     "iopub.status.idle": "2022-07-15T00:45:49.442299Z",
     "shell.execute_reply": "2022-07-15T00:45:49.441813Z"
    },
    "papermill": {
     "duration": 0.170527,
     "end_time": "2022-07-15T00:45:49.442425",
     "exception": false,
     "start_time": "2022-07-15T00:45:49.271898",
     "status": "completed"
    },
    "tags": []
   },
   "outputs": [
    {
     "name": "stdout",
     "output_type": "stream",
     "text": [
      "2\n"
     ]
    },
    {
     "data": {
      "text/plain": [
       "<matplotlib.image.AxesImage at 0x7f31236574a8>"
      ]
     },
     "execution_count": 9,
     "metadata": {},
     "output_type": "execute_result"
    },
    {
     "data": {
      "image/png": "[encoded data removed]",
      "text/plain": [
       "<Figure size 432x288 with 1 Axes>"
      ]
     },
     "metadata": {
      "needs_background": "light"
     },
     "output_type": "display_data"
    }
   ],
   "source": [
    "image_index = 7776 # You may select anything up to 60,000\n",
    "print(train_labels[image_index]) \n",
    "plt.imshow(train_images[image_index], cmap='Greys')"
   ]
  },
  {
   "cell_type": "markdown",
   "id": "a8d2388d",
   "metadata": {
    "papermill": {
     "duration": 0.027332,
     "end_time": "2022-07-15T00:45:49.496714",
     "exception": false,
     "start_time": "2022-07-15T00:45:49.469382",
     "status": "completed"
    },
    "tags": []
   },
   "source": [
    "## Filter data to get 3 and 8 out"
   ]
  },
  {
   "cell_type": "code",
   "execution_count": 10,
   "id": "776f7fc7",
   "metadata": {
    "execution": {
     "iopub.execute_input": "2022-07-15T00:45:49.554993Z",
     "iopub.status.busy": "2022-07-15T00:45:49.554348Z",
     "iopub.status.idle": "2022-07-15T00:45:49.571344Z",
     "shell.execute_reply": "2022-07-15T00:45:49.570833Z"
    },
    "papermill": {
     "duration": 0.048072,
     "end_time": "2022-07-15T00:45:49.571462",
     "exception": false,
     "start_time": "2022-07-15T00:45:49.523390",
     "status": "completed"
    },
    "tags": []
   },
   "outputs": [],
   "source": [
    "train_filter = np.where((train_labels == 3 ) | (train_labels == 8))\n",
    "test_filter = np.where((test_labels == 3) | (test_labels == 8))\n",
    "X_train, y_train = train_images[train_filter], train_labels[train_filter]\n",
    "X_test, y_test = test_images[test_filter], test_labels[test_filter]"
   ]
  },
  {
   "cell_type": "markdown",
   "id": "948f0b7e",
   "metadata": {
    "papermill": {
     "duration": 0.027087,
     "end_time": "2022-07-15T00:45:49.625404",
     "exception": false,
     "start_time": "2022-07-15T00:45:49.598317",
     "status": "completed"
    },
    "tags": []
   },
   "source": [
    "We normalize the pizel values in the 0 to 1 range"
   ]
  },
  {
   "cell_type": "code",
   "execution_count": 11,
   "id": "ee4c2166",
   "metadata": {
    "execution": {
     "iopub.execute_input": "2022-07-15T00:45:49.683475Z",
     "iopub.status.busy": "2022-07-15T00:45:49.682880Z",
     "iopub.status.idle": "2022-07-15T00:45:49.730283Z",
     "shell.execute_reply": "2022-07-15T00:45:49.729703Z"
    },
    "papermill": {
     "duration": 0.078281,
     "end_time": "2022-07-15T00:45:49.730418",
     "exception": false,
     "start_time": "2022-07-15T00:45:49.652137",
     "status": "completed"
    },
    "tags": []
   },
   "outputs": [],
   "source": [
    "X_train = X_train/255.\n",
    "X_test = X_test/255."
   ]
  },
  {
   "cell_type": "markdown",
   "id": "ddcf4fab",
   "metadata": {
    "papermill": {
     "duration": 0.027201,
     "end_time": "2022-07-15T00:45:49.784885",
     "exception": false,
     "start_time": "2022-07-15T00:45:49.757684",
     "status": "completed"
    },
    "tags": []
   },
   "source": [
    "And setup the labels as 1 (when the digit is 3) and 0 (when the digit is 8)"
   ]
  },
  {
   "cell_type": "code",
   "execution_count": 12,
   "id": "7dc908f2",
   "metadata": {
    "execution": {
     "iopub.execute_input": "2022-07-15T00:45:49.842996Z",
     "iopub.status.busy": "2022-07-15T00:45:49.842376Z",
     "iopub.status.idle": "2022-07-15T00:45:49.857012Z",
     "shell.execute_reply": "2022-07-15T00:45:49.856518Z"
    },
    "papermill": {
     "duration": 0.045051,
     "end_time": "2022-07-15T00:45:49.857127",
     "exception": false,
     "start_time": "2022-07-15T00:45:49.812076",
     "status": "completed"
    },
    "tags": []
   },
   "outputs": [],
   "source": [
    "y_train = 1*(y_train==3)\n",
    "y_test = 1*(y_test==3)"
   ]
  },
  {
   "cell_type": "code",
   "execution_count": 13,
   "id": "01e4e969",
   "metadata": {
    "execution": {
     "iopub.execute_input": "2022-07-15T00:45:49.915291Z",
     "iopub.status.busy": "2022-07-15T00:45:49.914661Z",
     "iopub.status.idle": "2022-07-15T00:45:49.928782Z",
     "shell.execute_reply": "2022-07-15T00:45:49.928301Z"
    },
    "papermill": {
     "duration": 0.044888,
     "end_time": "2022-07-15T00:45:49.928897",
     "exception": false,
     "start_time": "2022-07-15T00:45:49.884009",
     "status": "completed"
    },
    "tags": []
   },
   "outputs": [
    {
     "data": {
      "text/plain": [
       "((11982, 28, 28), (1984, 28, 28))"
      ]
     },
     "execution_count": 13,
     "metadata": {},
     "output_type": "execute_result"
    }
   ],
   "source": [
    "X_train.shape, X_test.shape"
   ]
  },
  {
   "cell_type": "markdown",
   "id": "5ccf3f85",
   "metadata": {
    "papermill": {
     "duration": 0.026794,
     "end_time": "2022-07-15T00:45:49.982812",
     "exception": false,
     "start_time": "2022-07-15T00:45:49.956018",
     "status": "completed"
    },
    "tags": []
   },
   "source": [
    "We reshape the data to flatten the image pixels into a set of features or co-variates:"
   ]
  },
  {
   "cell_type": "code",
   "execution_count": 14,
   "id": "5286a4a3",
   "metadata": {
    "execution": {
     "iopub.execute_input": "2022-07-15T00:45:50.041522Z",
     "iopub.status.busy": "2022-07-15T00:45:50.040918Z",
     "iopub.status.idle": "2022-07-15T00:45:50.054949Z",
     "shell.execute_reply": "2022-07-15T00:45:50.054439Z"
    },
    "papermill": {
     "duration": 0.045075,
     "end_time": "2022-07-15T00:45:50.055069",
     "exception": false,
     "start_time": "2022-07-15T00:45:50.009994",
     "status": "completed"
    },
    "tags": []
   },
   "outputs": [
    {
     "data": {
      "text/plain": [
       "((11982, 784), (1984, 784))"
      ]
     },
     "execution_count": 14,
     "metadata": {},
     "output_type": "execute_result"
    }
   ],
   "source": [
    "X_train = X_train.reshape(X_train.shape[0], -1)\n",
    "X_test = X_test.reshape(X_test.shape[0], -1)\n",
    "X_train.shape, X_test.shape"
   ]
  },
  {
   "cell_type": "code",
   "execution_count": 15,
   "id": "73c5f88a",
   "metadata": {
    "execution": {
     "iopub.execute_input": "2022-07-15T00:45:50.114849Z",
     "iopub.status.busy": "2022-07-15T00:45:50.114207Z",
     "iopub.status.idle": "2022-07-15T00:45:50.133227Z",
     "shell.execute_reply": "2022-07-15T00:45:50.132749Z"
    },
    "papermill": {
     "duration": 0.050995,
     "end_time": "2022-07-15T00:45:50.133345",
     "exception": false,
     "start_time": "2022-07-15T00:45:50.082350",
     "status": "completed"
    },
    "tags": []
   },
   "outputs": [],
   "source": [
    "#Impoting functions from 'Kudzu'\n",
    "from kudzu.model import Model\n",
    "from kudzu.train import Learner\n",
    "from kudzu.optim import GD\n",
    "from kudzu.data import Data, Sampler,Dataloader\n",
    "\n",
    "from kudzu.callbacks import AccCallback\n",
    "from kudzu.callbacks import ClfCallback\n",
    "\n",
    "from kudzu.loss import MSE\n",
    "\n",
    "from kudzu.layer import Sigmoid,Relu\n",
    "from kudzu.layer import Affine"
   ]
  },
  {
   "cell_type": "markdown",
   "id": "bc01172a",
   "metadata": {
    "papermill": {
     "duration": 0.027293,
     "end_time": "2022-07-15T00:45:50.188329",
     "exception": false,
     "start_time": "2022-07-15T00:45:50.161036",
     "status": "completed"
    },
    "tags": []
   },
   "source": [
    "### Let us create a `Config` class, to store important parameters. \n",
    "This class essentially plays the role of a dictionary."
   ]
  },
  {
   "cell_type": "code",
   "execution_count": 16,
   "id": "978281aa",
   "metadata": {
    "execution": {
     "iopub.execute_input": "2022-07-15T00:45:50.247214Z",
     "iopub.status.busy": "2022-07-15T00:45:50.246581Z",
     "iopub.status.idle": "2022-07-15T00:45:50.260161Z",
     "shell.execute_reply": "2022-07-15T00:45:50.259670Z"
    },
    "papermill": {
     "duration": 0.044699,
     "end_time": "2022-07-15T00:45:50.260280",
     "exception": false,
     "start_time": "2022-07-15T00:45:50.215581",
     "status": "completed"
    },
    "tags": []
   },
   "outputs": [],
   "source": [
    "class Config:\n",
    "    pass\n",
    "config = Config()\n",
    "config.lr = 0.001\n",
    "config.num_epochs = 250\n",
    "config.bs = 50"
   ]
  },
  {
   "cell_type": "markdown",
   "id": "1385fa59",
   "metadata": {
    "papermill": {
     "duration": 0.027238,
     "end_time": "2022-07-15T00:45:50.315043",
     "exception": false,
     "start_time": "2022-07-15T00:45:50.287805",
     "status": "completed"
    },
    "tags": []
   },
   "source": [
    "### Running Models with the Training data\n",
    "Details about the network layers:\n",
    "- A first affine layer has 784 inputs and does 100 affine transforms. These are followed by a Relu\n",
    "- A second affine layer has 100 inputs from the 100 activations of the past layer, and does 100 affine transforms. These are followed by a Relu\n",
    "- A third affine layer has 100 activations and does 2 affine transformations to create an embedding for visualization. There is no non-linearity here.\n",
    "- A final \"logistic regression\" which has an affine transform from 2 inputs to 1 output, which is squeezed through a sigmoid.\n"
   ]
  },
  {
   "cell_type": "code",
   "execution_count": 17,
   "id": "2b9c66db",
   "metadata": {
    "execution": {
     "iopub.execute_input": "2022-07-15T00:45:50.387912Z",
     "iopub.status.busy": "2022-07-15T00:45:50.383680Z",
     "iopub.status.idle": "2022-07-15T00:45:50.390459Z",
     "shell.execute_reply": "2022-07-15T00:45:50.389871Z"
    },
    "papermill": {
     "duration": 0.048358,
     "end_time": "2022-07-15T00:45:50.390578",
     "exception": false,
     "start_time": "2022-07-15T00:45:50.342220",
     "status": "completed"
    },
    "tags": []
   },
   "outputs": [],
   "source": [
    "data = Data(X_train, y_train.reshape(-1,1))\n",
    "sampler = Sampler(data, config.bs, shuffle=True)\n",
    "\n",
    "dl = Dataloader(data, sampler)\n",
    "\n",
    "opt = GD(config.lr)\n",
    "loss = MSE()"
   ]
  },
  {
   "cell_type": "code",
   "execution_count": 18,
   "id": "b275e4c2",
   "metadata": {
    "execution": {
     "iopub.execute_input": "2022-07-15T00:45:50.459632Z",
     "iopub.status.busy": "2022-07-15T00:45:50.448974Z",
     "iopub.status.idle": "2022-07-15T00:45:50.464505Z",
     "shell.execute_reply": "2022-07-15T00:45:50.464961Z"
    },
    "papermill": {
     "duration": 0.047156,
     "end_time": "2022-07-15T00:45:50.465099",
     "exception": false,
     "start_time": "2022-07-15T00:45:50.417943",
     "status": "completed"
    },
    "tags": []
   },
   "outputs": [],
   "source": [
    "training_data_x = X_train\n",
    "testing_data_x = X_test\n",
    "training_data_y = y_train.reshape(-1,1)\n",
    "testing_data_y = y_test.reshape(-1,1)"
   ]
  },
  {
   "cell_type": "code",
   "execution_count": 19,
   "id": "76951160",
   "metadata": {
    "execution": {
     "iopub.execute_input": "2022-07-15T00:45:50.531418Z",
     "iopub.status.busy": "2022-07-15T00:45:50.523767Z",
     "iopub.status.idle": "2022-07-15T00:45:50.542908Z",
     "shell.execute_reply": "2022-07-15T00:45:50.542094Z"
    },
    "papermill": {
     "duration": 0.050577,
     "end_time": "2022-07-15T00:45:50.543028",
     "exception": false,
     "start_time": "2022-07-15T00:45:50.492451",
     "status": "completed"
    },
    "tags": []
   },
   "outputs": [
    {
     "name": "stdout",
     "output_type": "stream",
     "text": [
      "xavier\n",
      "xavier\n",
      "xavier\n",
      "xavier\n",
      "xavier\n"
     ]
    }
   ],
   "source": [
    "layers = [Affine(\"first\", 784, 100), Relu(\"first\"), Affine(\"second\", 100, 100), Relu(\"second\"), Affine(\"third\", 100, 2), Affine(\"last\", 2, 1), Sigmoid(\"last\")]\n",
    "model_nn = Model(layers)\n",
    "model_lr = Model([Affine(\"logits\", 784, 1), Sigmoid(\"sigmoid\")])"
   ]
  },
  {
   "cell_type": "code",
   "execution_count": 20,
   "id": "6eede77a",
   "metadata": {
    "execution": {
     "iopub.execute_input": "2022-07-15T00:45:50.602923Z",
     "iopub.status.busy": "2022-07-15T00:45:50.602300Z",
     "iopub.status.idle": "2022-07-15T00:45:50.614780Z",
     "shell.execute_reply": "2022-07-15T00:45:50.614273Z"
    },
    "papermill": {
     "duration": 0.044176,
     "end_time": "2022-07-15T00:45:50.614899",
     "exception": false,
     "start_time": "2022-07-15T00:45:50.570723",
     "status": "completed"
    },
    "tags": []
   },
   "outputs": [],
   "source": [
    "nn_learner = Learner(loss, model_nn, opt, config.num_epochs)\n",
    "acc_nn = ClfCallback(nn_learner, config.bs, training_data_x , testing_data_x, training_data_y, testing_data_y)\n",
    "nn_learner.set_callbacks([acc_nn])"
   ]
  },
  {
   "cell_type": "code",
   "execution_count": 21,
   "id": "877b6cc7",
   "metadata": {
    "execution": {
     "iopub.execute_input": "2022-07-15T00:45:50.674558Z",
     "iopub.status.busy": "2022-07-15T00:45:50.673972Z",
     "iopub.status.idle": "2022-07-15T00:45:50.686562Z",
     "shell.execute_reply": "2022-07-15T00:45:50.686071Z"
    },
    "papermill": {
     "duration": 0.04424,
     "end_time": "2022-07-15T00:45:50.686697",
     "exception": false,
     "start_time": "2022-07-15T00:45:50.642457",
     "status": "completed"
    },
    "tags": []
   },
   "outputs": [],
   "source": [
    "lr_learner = Learner(loss, model_lr, opt, config.num_epochs)\n",
    "acc_lr = ClfCallback(lr_learner, config.bs, training_data_x , testing_data_x, training_data_y, testing_data_y)\n",
    "lr_learner.set_callbacks([acc_lr])"
   ]
  },
  {
   "cell_type": "code",
   "execution_count": 22,
   "id": "d9b133c3",
   "metadata": {
    "execution": {
     "iopub.execute_input": "2022-07-15T00:45:50.747456Z",
     "iopub.status.busy": "2022-07-15T00:45:50.746851Z",
     "iopub.status.idle": "2022-07-15T00:47:10.359500Z",
     "shell.execute_reply": "2022-07-15T00:47:10.360373Z"
    },
    "papermill": {
     "duration": 79.646187,
     "end_time": "2022-07-15T00:47:10.360526",
     "exception": false,
     "start_time": "2022-07-15T00:45:50.714339",
     "status": "completed"
    },
    "tags": []
   },
   "outputs": [
    {
     "name": "stdout",
     "output_type": "stream",
     "text": [
      "Epoch 0, Loss 0.2316\n",
      "Training Accuracy: 0.7654, Testing Accuracy: 0.7792\n",
      "\n"
     ]
    },
    {
     "name": "stdout",
     "output_type": "stream",
     "text": [
      "Epoch 10, Loss 0.0625\n",
      "Training Accuracy: 0.9375, Testing Accuracy: 0.9451\n",
      "\n"
     ]
    },
    {
     "name": "stdout",
     "output_type": "stream",
     "text": [
      "Epoch 20, Loss 0.0434\n",
      "Training Accuracy: 0.9542, Testing Accuracy: 0.9652\n",
      "\n"
     ]
    },
    {
     "name": "stdout",
     "output_type": "stream",
     "text": [
      "Epoch 30, Loss 0.0357\n",
      "Training Accuracy: 0.9624, Testing Accuracy: 0.9698\n",
      "\n"
     ]
    },
    {
     "name": "stdout",
     "output_type": "stream",
     "text": [
      "Epoch 40, Loss 0.0314\n",
      "Training Accuracy: 0.9660, Testing Accuracy: 0.9723\n",
      "\n"
     ]
    },
    {
     "name": "stdout",
     "output_type": "stream",
     "text": [
      "Epoch 50, Loss 0.0286\n",
      "Training Accuracy: 0.9691, Testing Accuracy: 0.9738\n",
      "\n"
     ]
    },
    {
     "name": "stdout",
     "output_type": "stream",
     "text": [
      "Epoch 60, Loss 0.0266\n",
      "Training Accuracy: 0.9713, Testing Accuracy: 0.9768\n",
      "\n"
     ]
    },
    {
     "name": "stdout",
     "output_type": "stream",
     "text": [
      "Epoch 70, Loss 0.025\n",
      "Training Accuracy: 0.9725, Testing Accuracy: 0.9763\n",
      "\n"
     ]
    },
    {
     "name": "stdout",
     "output_type": "stream",
     "text": [
      "Epoch 80, Loss 0.0238\n",
      "Training Accuracy: 0.9742, Testing Accuracy: 0.9768\n",
      "\n"
     ]
    },
    {
     "name": "stdout",
     "output_type": "stream",
     "text": [
      "Epoch 90, Loss 0.0227\n",
      "Training Accuracy: 0.9752, Testing Accuracy: 0.9768\n",
      "\n"
     ]
    },
    {
     "name": "stdout",
     "output_type": "stream",
     "text": [
      "Epoch 100, Loss 0.0218\n",
      "Training Accuracy: 0.9763, Testing Accuracy: 0.9763\n",
      "\n"
     ]
    },
    {
     "name": "stdout",
     "output_type": "stream",
     "text": [
      "Epoch 110, Loss 0.021\n",
      "Training Accuracy: 0.9775, Testing Accuracy: 0.9763\n",
      "\n"
     ]
    },
    {
     "name": "stdout",
     "output_type": "stream",
     "text": [
      "Epoch 120, Loss 0.0203\n",
      "Training Accuracy: 0.9783, Testing Accuracy: 0.9773\n",
      "\n"
     ]
    },
    {
     "name": "stdout",
     "output_type": "stream",
     "text": [
      "Epoch 130, Loss 0.0197\n",
      "Training Accuracy: 0.9791, Testing Accuracy: 0.9773\n",
      "\n"
     ]
    },
    {
     "name": "stdout",
     "output_type": "stream",
     "text": [
      "Epoch 140, Loss 0.0191\n",
      "Training Accuracy: 0.9793, Testing Accuracy: 0.9773\n",
      "\n"
     ]
    },
    {
     "name": "stdout",
     "output_type": "stream",
     "text": [
      "Epoch 150, Loss 0.0185\n",
      "Training Accuracy: 0.9801, Testing Accuracy: 0.9768\n",
      "\n"
     ]
    },
    {
     "name": "stdout",
     "output_type": "stream",
     "text": [
      "Epoch 160, Loss 0.018\n",
      "Training Accuracy: 0.9802, Testing Accuracy: 0.9768\n",
      "\n"
     ]
    },
    {
     "name": "stdout",
     "output_type": "stream",
     "text": [
      "Epoch 170, Loss 0.0175\n",
      "Training Accuracy: 0.9812, Testing Accuracy: 0.9773\n",
      "\n"
     ]
    },
    {
     "name": "stdout",
     "output_type": "stream",
     "text": [
      "Epoch 180, Loss 0.017\n",
      "Training Accuracy: 0.9819, Testing Accuracy: 0.9778\n",
      "\n"
     ]
    },
    {
     "name": "stdout",
     "output_type": "stream",
     "text": [
      "Epoch 190, Loss 0.0165\n",
      "Training Accuracy: 0.9825, Testing Accuracy: 0.9783\n",
      "\n"
     ]
    },
    {
     "name": "stdout",
     "output_type": "stream",
     "text": [
      "Epoch 200, Loss 0.0161\n",
      "Training Accuracy: 0.9830, Testing Accuracy: 0.9783\n",
      "\n"
     ]
    },
    {
     "name": "stdout",
     "output_type": "stream",
     "text": [
      "Epoch 210, Loss 0.0157\n",
      "Training Accuracy: 0.9834, Testing Accuracy: 0.9793\n",
      "\n"
     ]
    },
    {
     "name": "stdout",
     "output_type": "stream",
     "text": [
      "Epoch 220, Loss 0.0153\n",
      "Training Accuracy: 0.9839, Testing Accuracy: 0.9803\n",
      "\n"
     ]
    },
    {
     "name": "stdout",
     "output_type": "stream",
     "text": [
      "Epoch 230, Loss 0.0149\n",
      "Training Accuracy: 0.9844, Testing Accuracy: 0.9803\n",
      "\n"
     ]
    },
    {
     "name": "stdout",
     "output_type": "stream",
     "text": [
      "Epoch 240, Loss 0.0146\n",
      "Training Accuracy: 0.9847, Testing Accuracy: 0.9808\n",
      "\n"
     ]
    },
    {
     "data": {
      "text/plain": [
       "0.005232365568146008"
      ]
     },
     "execution_count": 22,
     "metadata": {},
     "output_type": "execute_result"
    }
   ],
   "source": [
    "nn_learner.train_loop(dl)"
   ]
  },
  {
   "cell_type": "code",
   "execution_count": 23,
   "id": "e0163366",
   "metadata": {
    "execution": {
     "iopub.execute_input": "2022-07-15T00:47:10.440865Z",
     "iopub.status.busy": "2022-07-15T00:47:10.440258Z",
     "iopub.status.idle": "2022-07-15T00:47:24.223069Z",
     "shell.execute_reply": "2022-07-15T00:47:24.223911Z"
    },
    "papermill": {
     "duration": 13.828344,
     "end_time": "2022-07-15T00:47:24.224064",
     "exception": false,
     "start_time": "2022-07-15T00:47:10.395720",
     "status": "completed"
    },
    "tags": []
   },
   "outputs": [
    {
     "name": "stdout",
     "output_type": "stream",
     "text": [
      "Epoch 0, Loss 0.2411\n",
      "Training Accuracy: 0.7174, Testing Accuracy: 0.7273\n",
      "\n"
     ]
    },
    {
     "name": "stdout",
     "output_type": "stream",
     "text": [
      "Epoch 10, Loss 0.1003\n",
      "Training Accuracy: 0.9142, Testing Accuracy: 0.9254\n",
      "\n"
     ]
    },
    {
     "name": "stdout",
     "output_type": "stream",
     "text": [
      "Epoch 20, Loss 0.0777\n",
      "Training Accuracy: 0.9301, Testing Accuracy: 0.9400\n",
      "\n"
     ]
    },
    {
     "name": "stdout",
     "output_type": "stream",
     "text": [
      "Epoch 30, Loss 0.0671\n",
      "Training Accuracy: 0.9386, Testing Accuracy: 0.9471\n",
      "\n"
     ]
    },
    {
     "name": "stdout",
     "output_type": "stream",
     "text": [
      "Epoch 40, Loss 0.0607\n",
      "Training Accuracy: 0.9436, Testing Accuracy: 0.9521\n",
      "\n"
     ]
    },
    {
     "name": "stdout",
     "output_type": "stream",
     "text": [
      "Epoch 50, Loss 0.0563\n",
      "Training Accuracy: 0.9471, Testing Accuracy: 0.9561\n",
      "\n"
     ]
    },
    {
     "name": "stdout",
     "output_type": "stream",
     "text": [
      "Epoch 60, Loss 0.0531\n",
      "Training Accuracy: 0.9498, Testing Accuracy: 0.9556\n",
      "\n"
     ]
    },
    {
     "name": "stdout",
     "output_type": "stream",
     "text": [
      "Epoch 70, Loss 0.0506\n",
      "Training Accuracy: 0.9512, Testing Accuracy: 0.9577\n",
      "\n"
     ]
    },
    {
     "name": "stdout",
     "output_type": "stream",
     "text": [
      "Epoch 80, Loss 0.0486\n",
      "Training Accuracy: 0.9523, Testing Accuracy: 0.9592\n",
      "\n"
     ]
    },
    {
     "name": "stdout",
     "output_type": "stream",
     "text": [
      "Epoch 90, Loss 0.047\n",
      "Training Accuracy: 0.9538, Testing Accuracy: 0.9592\n",
      "\n"
     ]
    },
    {
     "name": "stdout",
     "output_type": "stream",
     "text": [
      "Epoch 100, Loss 0.0456\n",
      "Training Accuracy: 0.9544, Testing Accuracy: 0.9612\n",
      "\n"
     ]
    },
    {
     "name": "stdout",
     "output_type": "stream",
     "text": [
      "Epoch 110, Loss 0.0444\n",
      "Training Accuracy: 0.9556, Testing Accuracy: 0.9632\n",
      "\n"
     ]
    },
    {
     "name": "stdout",
     "output_type": "stream",
     "text": [
      "Epoch 120, Loss 0.0434\n",
      "Training Accuracy: 0.9566, Testing Accuracy: 0.9637\n",
      "\n"
     ]
    },
    {
     "name": "stdout",
     "output_type": "stream",
     "text": [
      "Epoch 130, Loss 0.0425\n",
      "Training Accuracy: 0.9574, Testing Accuracy: 0.9647\n",
      "\n"
     ]
    },
    {
     "name": "stdout",
     "output_type": "stream",
     "text": [
      "Epoch 140, Loss 0.0417\n",
      "Training Accuracy: 0.9580, Testing Accuracy: 0.9652\n",
      "\n"
     ]
    },
    {
     "name": "stdout",
     "output_type": "stream",
     "text": [
      "Epoch 150, Loss 0.041\n",
      "Training Accuracy: 0.9589, Testing Accuracy: 0.9652\n",
      "\n"
     ]
    },
    {
     "name": "stdout",
     "output_type": "stream",
     "text": [
      "Epoch 160, Loss 0.0403\n",
      "Training Accuracy: 0.9592, Testing Accuracy: 0.9652\n",
      "\n"
     ]
    },
    {
     "name": "stdout",
     "output_type": "stream",
     "text": [
      "Epoch 170, Loss 0.0397\n",
      "Training Accuracy: 0.9597, Testing Accuracy: 0.9647\n",
      "\n"
     ]
    },
    {
     "name": "stdout",
     "output_type": "stream",
     "text": [
      "Epoch 180, Loss 0.0392\n",
      "Training Accuracy: 0.9599, Testing Accuracy: 0.9657\n",
      "\n"
     ]
    },
    {
     "name": "stdout",
     "output_type": "stream",
     "text": [
      "Epoch 190, Loss 0.0387\n",
      "Training Accuracy: 0.9606, Testing Accuracy: 0.9657\n",
      "\n"
     ]
    },
    {
     "name": "stdout",
     "output_type": "stream",
     "text": [
      "Epoch 200, Loss 0.0382\n",
      "Training Accuracy: 0.9609, Testing Accuracy: 0.9662\n",
      "\n"
     ]
    },
    {
     "name": "stdout",
     "output_type": "stream",
     "text": [
      "Epoch 210, Loss 0.0378\n",
      "Training Accuracy: 0.9610, Testing Accuracy: 0.9662\n",
      "\n"
     ]
    },
    {
     "name": "stdout",
     "output_type": "stream",
     "text": [
      "Epoch 220, Loss 0.0374\n",
      "Training Accuracy: 0.9614, Testing Accuracy: 0.9672\n",
      "\n"
     ]
    },
    {
     "name": "stdout",
     "output_type": "stream",
     "text": [
      "Epoch 230, Loss 0.037\n",
      "Training Accuracy: 0.9618, Testing Accuracy: 0.9672\n",
      "\n"
     ]
    },
    {
     "name": "stdout",
     "output_type": "stream",
     "text": [
      "Epoch 240, Loss 0.0366\n",
      "Training Accuracy: 0.9617, Testing Accuracy: 0.9667\n",
      "\n"
     ]
    },
    {
     "data": {
      "text/plain": [
       "0.03917102016357996"
      ]
     },
     "execution_count": 23,
     "metadata": {},
     "output_type": "execute_result"
    }
   ],
   "source": [
    "lr_learner.train_loop(dl)"
   ]
  },
  {
   "cell_type": "code",
   "execution_count": 24,
   "id": "ca410940",
   "metadata": {
    "execution": {
     "iopub.execute_input": "2022-07-15T00:47:24.316502Z",
     "iopub.status.busy": "2022-07-15T00:47:24.315860Z",
     "iopub.status.idle": "2022-07-15T00:47:24.537525Z",
     "shell.execute_reply": "2022-07-15T00:47:24.537985Z"
    },
    "papermill": {
     "duration": 0.272249,
     "end_time": "2022-07-15T00:47:24.538124",
     "exception": false,
     "start_time": "2022-07-15T00:47:24.265875",
     "status": "completed"
    },
    "tags": []
   },
   "outputs": [
    {
     "data": {
      "text/plain": [
       "<matplotlib.legend.Legend at 0x7f3115e2da58>"
      ]
     },
     "execution_count": 24,
     "metadata": {},
     "output_type": "execute_result"
    },
    {
     "data": {
      "image/png": "[encoded data removed]",
      "text/plain": [
       "<Figure size 1080x720 with 1 Axes>"
      ]
     },
     "metadata": {
      "needs_background": "light"
     },
     "output_type": "display_data"
    }
   ],
   "source": [
    "#comparing the results of NN and LR\n",
    "plt.figure(figsize=(15,10))\n",
    "\n",
    "# Neural Network plots\n",
    "plt.plot(acc_nn.accuracies, 'r-', label = \"Training Accuracies - NN\")\n",
    "plt.plot(acc_nn.test_accuracies, 'g-', label = \"Testing Accuracies - NN\")\n",
    "\n",
    "# Logistic Regression plots\n",
    "plt.plot(acc_lr.accuracies, 'k-', label = \"Training Accuracies - LR\")\n",
    "plt.plot(acc_lr.test_accuracies, 'b-', label = \"Testing Accuracies - LR\")\n",
    "plt.legend()"
   ]
  },
  {
   "cell_type": "markdown",
   "id": "80dfb35c",
   "metadata": {
    "papermill": {
     "duration": 0.042245,
     "end_time": "2022-07-15T00:47:24.623031",
     "exception": false,
     "start_time": "2022-07-15T00:47:24.580786",
     "status": "completed"
    },
    "tags": []
   },
   "source": [
    "#### Plotting the outputs of this layer of the NN.\n"
   ]
  },
  {
   "cell_type": "code",
   "execution_count": 25,
   "id": "45eb2ff5",
   "metadata": {
    "execution": {
     "iopub.execute_input": "2022-07-15T00:47:24.718084Z",
     "iopub.status.busy": "2022-07-15T00:47:24.717440Z",
     "iopub.status.idle": "2022-07-15T00:47:24.735019Z",
     "shell.execute_reply": "2022-07-15T00:47:24.734454Z"
    },
    "papermill": {
     "duration": 0.069959,
     "end_time": "2022-07-15T00:47:24.735142",
     "exception": false,
     "start_time": "2022-07-15T00:47:24.665183",
     "status": "completed"
    },
    "tags": []
   },
   "outputs": [],
   "source": [
    "new_model = Model(layers[:-2])\n",
    "testing_plot = new_model(testing_data_x)"
   ]
  },
  {
   "cell_type": "code",
   "execution_count": 26,
   "id": "4c0a5485",
   "metadata": {
    "execution": {
     "iopub.execute_input": "2022-07-15T00:47:24.824603Z",
     "iopub.status.busy": "2022-07-15T00:47:24.823989Z",
     "iopub.status.idle": "2022-07-15T00:47:25.019452Z",
     "shell.execute_reply": "2022-07-15T00:47:25.018435Z"
    },
    "papermill": {
     "duration": 0.241915,
     "end_time": "2022-07-15T00:47:25.019581",
     "exception": false,
     "start_time": "2022-07-15T00:47:24.777666",
     "status": "completed"
    },
    "tags": []
   },
   "outputs": [
    {
     "data": {
      "text/plain": [
       "Text(0.5, 1.0, 'Outputs')"
      ]
     },
     "execution_count": 26,
     "metadata": {},
     "output_type": "execute_result"
    },
    {
     "data": {
      "image/png": "[encoded data removed]",
      "text/plain": [
       "<Figure size 576x504 with 1 Axes>"
      ]
     },
     "metadata": {
      "needs_background": "light"
     },
     "output_type": "display_data"
    }
   ],
   "source": [
    "# Plotting the scatter plot of points and color coding by class\n",
    "plt.figure(figsize=(8,7))\n",
    "plt.scatter(testing_plot[:,0], testing_plot[:,1], alpha = 0.1, c = y_test.ravel());\n",
    "plt.title('Outputs')"
   ]
  },
  {
   "cell_type": "markdown",
   "id": "a74fcf8f",
   "metadata": {
    "papermill": {
     "duration": 0.044681,
     "end_time": "2022-07-15T00:47:25.109087",
     "exception": false,
     "start_time": "2022-07-15T00:47:25.064406",
     "status": "completed"
    },
    "tags": []
   },
   "source": [
    "Probability contours"
   ]
  },
  {
   "cell_type": "code",
   "execution_count": 27,
   "id": "d0afc8e3",
   "metadata": {
    "execution": {
     "iopub.execute_input": "2022-07-15T00:47:25.238437Z",
     "iopub.status.busy": "2022-07-15T00:47:25.235521Z",
     "iopub.status.idle": "2022-07-15T00:47:25.247208Z",
     "shell.execute_reply": "2022-07-15T00:47:25.247643Z"
    },
    "papermill": {
     "duration": 0.093845,
     "end_time": "2022-07-15T00:47:25.247787",
     "exception": false,
     "start_time": "2022-07-15T00:47:25.153942",
     "status": "completed"
    },
    "tags": []
   },
   "outputs": [],
   "source": [
    "model_prob = Model(layers[-2:]) "
   ]
  },
  {
   "cell_type": "code",
   "execution_count": 28,
   "id": "9b96e238",
   "metadata": {
    "execution": {
     "iopub.execute_input": "2022-07-15T00:47:25.353267Z",
     "iopub.status.busy": "2022-07-15T00:47:25.352092Z",
     "iopub.status.idle": "2022-07-15T00:47:25.362121Z",
     "shell.execute_reply": "2022-07-15T00:47:25.361577Z"
    },
    "papermill": {
     "duration": 0.069645,
     "end_time": "2022-07-15T00:47:25.362242",
     "exception": false,
     "start_time": "2022-07-15T00:47:25.292597",
     "status": "completed"
    },
    "tags": []
   },
   "outputs": [],
   "source": [
    "#creating the x and y ranges according to the above generated plot.\n",
    "x_range = np.linspace(-4, 1, 100) \n",
    "y_range = np.linspace(-6, 6, 100) \n",
    "x_grid, y_grid = np.meshgrid(x_range, y_range) # x_grid and y_grig are of size 100 X 100\n",
    "\n",
    "# converting x_grid and y_grid to continuous arrays\n",
    "x_gridflat = np.ravel(x_grid)\n",
    "y_gridflat = np.ravel(y_grid)\n",
    "\n",
    "# The last layer of the current model takes two columns as input. Hence transpose of np.vstack() is required.\n",
    "X = np.vstack((x_gridflat, y_gridflat)).T\n",
    "\n",
    "prob_contour = model_prob(X).reshape(100,100) "
   ]
  },
  {
   "cell_type": "code",
   "execution_count": 29,
   "id": "da72499a",
   "metadata": {
    "execution": {
     "iopub.execute_input": "2022-07-15T00:47:25.464355Z",
     "iopub.status.busy": "2022-07-15T00:47:25.463763Z",
     "iopub.status.idle": "2022-07-15T00:47:25.709324Z",
     "shell.execute_reply": "2022-07-15T00:47:25.709772Z"
    },
    "papermill": {
     "duration": 0.300075,
     "end_time": "2022-07-15T00:47:25.709911",
     "exception": false,
     "start_time": "2022-07-15T00:47:25.409836",
     "status": "completed"
    },
    "tags": []
   },
   "outputs": [
    {
     "data": {
      "image/png": "[encoded data removed]",
      "text/plain": [
       "<Figure size 720x648 with 1 Axes>"
      ]
     },
     "metadata": {
      "needs_background": "light"
     },
     "output_type": "display_data"
    }
   ],
   "source": [
    "plt.figure(figsize=(10,9))\n",
    "plt.scatter(testing_plot[:,0], testing_plot[:,1], alpha = 0.1, c = y_test.ravel())\n",
    "contours = plt.contour(x_grid,y_grid,prob_contour)\n",
    "plt.title('Probability Contours')\n",
    "plt.clabel(contours, inline = True );"
   ]
  },
  {
   "cell_type": "code",
   "execution_count": null,
   "id": "e81b4ac7",
   "metadata": {
    "papermill": {
     "duration": 0.048093,
     "end_time": "2022-07-15T00:47:25.806685",
     "exception": false,
     "start_time": "2022-07-15T00:47:25.758592",
     "status": "completed"
    },
    "tags": []
   },
   "outputs": [],
   "source": []
  }
 ],
 "metadata": {
  "kernelspec": {
   "display_name": "Python 3",
   "language": "python",
   "name": "python3"
  },
  "language_info": {
   "codemirror_mode": {
    "name": "ipython",
    "version": 3
   },
   "file_extension": ".py",
   "mimetype": "text/x-python",
   "name": "python",
   "nbconvert_exporter": "python",
   "pygments_lexer": "ipython3",
   "version": "3.6.15"
  },
  "papermill": {
   "default_parameters": {},
   "duration": 101.754651,
   "end_time": "2022-07-15T00:47:26.273446",
   "environment_variables": {},
   "exception": null,
   "input_path": "2020-08-11-part2.ipynb",
   "output_path": "2020-08-11-part2.ipynb",
   "parameters": {},
   "start_time": "2022-07-15T00:45:44.518795",
   "version": "2.3.3"
  }
 },
 "nbformat": 4,
 "nbformat_minor": 5
}