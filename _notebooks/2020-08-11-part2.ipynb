{
 "cells": [
  {
   "cell_type": "markdown",
   "id": "98380cd3",
   "metadata": {
    "papermill": {
     "duration": 0.035596,
     "end_time": "2022-11-27T10:09:44.794854",
     "exception": false,
     "start_time": "2022-11-27T10:09:44.759258",
     "status": "completed"
    },
    "tags": []
   },
   "source": [
    "# Distinguish Your Own Digits (DYOD)"
   ]
  },
  {
   "cell_type": "markdown",
   "id": "ef31240d",
   "metadata": {
    "papermill": {
     "duration": 0.029571,
     "end_time": "2022-11-27T10:09:44.853947",
     "exception": false,
     "start_time": "2022-11-27T10:09:44.824376",
     "status": "completed"
    },
    "tags": []
   },
   "source": [
    "You are going to write a classifier that distinguishes between the number 3 and number 8."
   ]
  },
  {
   "cell_type": "code",
   "execution_count": 1,
   "id": "b15c8646",
   "metadata": {
    "execution": {
     "iopub.execute_input": "2022-11-27T10:09:44.927548Z",
     "iopub.status.busy": "2022-11-27T10:09:44.926800Z",
     "iopub.status.idle": "2022-11-27T10:09:44.939906Z",
     "shell.execute_reply": "2022-11-27T10:09:44.939284Z"
    },
    "papermill": {
     "duration": 0.055836,
     "end_time": "2022-11-27T10:09:44.940070",
     "exception": false,
     "start_time": "2022-11-27T10:09:44.884234",
     "status": "completed"
    },
    "tags": []
   },
   "outputs": [],
   "source": [
    "%load_ext autoreload\n",
    "%autoreload 2"
   ]
  },
  {
   "cell_type": "code",
   "execution_count": 2,
   "id": "22ef38dc",
   "metadata": {
    "execution": {
     "iopub.execute_input": "2022-11-27T10:09:45.013500Z",
     "iopub.status.busy": "2022-11-27T10:09:45.012718Z",
     "iopub.status.idle": "2022-11-27T10:09:45.647499Z",
     "shell.execute_reply": "2022-11-27T10:09:45.646861Z"
    },
    "papermill": {
     "duration": 0.676751,
     "end_time": "2022-11-27T10:09:45.647663",
     "exception": false,
     "start_time": "2022-11-27T10:09:44.970912",
     "status": "completed"
    },
    "tags": []
   },
   "outputs": [],
   "source": [
    "%matplotlib inline\n",
    "import numpy as np\n",
    "import matplotlib.pyplot as plt\n",
    "import pandas as pd"
   ]
  },
  {
   "cell_type": "markdown",
   "id": "ba036198",
   "metadata": {
    "papermill": {
     "duration": 0.029777,
     "end_time": "2022-11-27T10:09:45.707948",
     "exception": false,
     "start_time": "2022-11-27T10:09:45.678171",
     "status": "completed"
    },
    "tags": []
   },
   "source": [
    "From the command line run `pip install mnist`. This is a library that will help you bring down the mnist dataset. If you run this from a notebook, you need to put  `!pip install mnist` in a cell by itself."
   ]
  },
  {
   "cell_type": "code",
   "execution_count": 3,
   "id": "bb6ad8a1",
   "metadata": {
    "execution": {
     "iopub.execute_input": "2022-11-27T10:09:45.771870Z",
     "iopub.status.busy": "2022-11-27T10:09:45.770655Z",
     "iopub.status.idle": "2022-11-27T10:09:47.668952Z",
     "shell.execute_reply": "2022-11-27T10:09:47.668334Z"
    },
    "papermill": {
     "duration": 1.932696,
     "end_time": "2022-11-27T10:09:47.669116",
     "exception": false,
     "start_time": "2022-11-27T10:09:45.736420",
     "status": "completed"
    },
    "tags": []
   },
   "outputs": [
    {
     "name": "stdout",
     "output_type": "stream",
     "text": [
      "Collecting mnist\r\n",
      "  Downloading mnist-0.2.2-py2.py3-none-any.whl (3.5 kB)\r\n",
      "Requirement already satisfied: numpy in /opt/hostedtoolcache/Python/3.6.15/x64/lib/python3.6/site-packages (from mnist) (1.19.5)\r\n"
     ]
    },
    {
     "name": "stdout",
     "output_type": "stream",
     "text": [
      "Installing collected packages: mnist\r\n"
     ]
    },
    {
     "name": "stdout",
     "output_type": "stream",
     "text": [
      "Successfully installed mnist-0.2.2\r\n"
     ]
    }
   ],
   "source": [
    "!pip install mnist"
   ]
  },
  {
   "cell_type": "markdown",
   "id": "69df9c9a",
   "metadata": {
    "papermill": {
     "duration": 0.030362,
     "end_time": "2022-11-27T10:09:47.732394",
     "exception": false,
     "start_time": "2022-11-27T10:09:47.702032",
     "status": "completed"
    },
    "tags": []
   },
   "source": [
    "## Preparing the Data"
   ]
  },
  {
   "cell_type": "code",
   "execution_count": 4,
   "id": "7f69d806",
   "metadata": {
    "execution": {
     "iopub.execute_input": "2022-11-27T10:09:47.803686Z",
     "iopub.status.busy": "2022-11-27T10:09:47.802970Z",
     "iopub.status.idle": "2022-11-27T10:09:47.814622Z",
     "shell.execute_reply": "2022-11-27T10:09:47.814091Z"
    },
    "papermill": {
     "duration": 0.053689,
     "end_time": "2022-11-27T10:09:47.814747",
     "exception": false,
     "start_time": "2022-11-27T10:09:47.761058",
     "status": "completed"
    },
    "tags": []
   },
   "outputs": [],
   "source": [
    "import mnist"
   ]
  },
  {
   "cell_type": "code",
   "execution_count": 5,
   "id": "a411e44f",
   "metadata": {
    "execution": {
     "iopub.execute_input": "2022-11-27T10:09:47.881239Z",
     "iopub.status.busy": "2022-11-27T10:09:47.880512Z",
     "iopub.status.idle": "2022-11-27T10:09:48.382582Z",
     "shell.execute_reply": "2022-11-27T10:09:48.383299Z"
    },
    "papermill": {
     "duration": 0.540016,
     "end_time": "2022-11-27T10:09:48.383463",
     "exception": false,
     "start_time": "2022-11-27T10:09:47.843447",
     "status": "completed"
    },
    "tags": []
   },
   "outputs": [],
   "source": [
    "train_images = mnist.train_images()\n",
    "train_labels = mnist.train_labels()"
   ]
  },
  {
   "cell_type": "code",
   "execution_count": 6,
   "id": "dceab3a5",
   "metadata": {
    "execution": {
     "iopub.execute_input": "2022-11-27T10:09:48.452903Z",
     "iopub.status.busy": "2022-11-27T10:09:48.452164Z",
     "iopub.status.idle": "2022-11-27T10:09:48.469825Z",
     "shell.execute_reply": "2022-11-27T10:09:48.470388Z"
    },
    "papermill": {
     "duration": 0.054381,
     "end_time": "2022-11-27T10:09:48.470542",
     "exception": false,
     "start_time": "2022-11-27T10:09:48.416161",
     "status": "completed"
    },
    "tags": []
   },
   "outputs": [
    {
     "data": {
      "text/plain": [
       "((60000, 28, 28), (60000,))"
      ]
     },
     "execution_count": 6,
     "metadata": {},
     "output_type": "execute_result"
    }
   ],
   "source": [
    "train_images.shape, train_labels.shape"
   ]
  },
  {
   "cell_type": "code",
   "execution_count": 7,
   "id": "f50dc2bb",
   "metadata": {
    "execution": {
     "iopub.execute_input": "2022-11-27T10:09:48.536902Z",
     "iopub.status.busy": "2022-11-27T10:09:48.536160Z",
     "iopub.status.idle": "2022-11-27T10:09:48.666679Z",
     "shell.execute_reply": "2022-11-27T10:09:48.666010Z"
    },
    "papermill": {
     "duration": 0.165164,
     "end_time": "2022-11-27T10:09:48.666827",
     "exception": false,
     "start_time": "2022-11-27T10:09:48.501663",
     "status": "completed"
    },
    "tags": []
   },
   "outputs": [],
   "source": [
    "test_images = mnist.test_images()\n",
    "test_labels = mnist.test_labels()"
   ]
  },
  {
   "cell_type": "code",
   "execution_count": 8,
   "id": "fc38cf1b",
   "metadata": {
    "execution": {
     "iopub.execute_input": "2022-11-27T10:09:48.741824Z",
     "iopub.status.busy": "2022-11-27T10:09:48.740780Z",
     "iopub.status.idle": "2022-11-27T10:09:48.750607Z",
     "shell.execute_reply": "2022-11-27T10:09:48.749837Z"
    },
    "papermill": {
     "duration": 0.052294,
     "end_time": "2022-11-27T10:09:48.750731",
     "exception": false,
     "start_time": "2022-11-27T10:09:48.698437",
     "status": "completed"
    },
    "tags": []
   },
   "outputs": [
    {
     "data": {
      "text/plain": [
       "((10000, 28, 28), (10000,))"
      ]
     },
     "execution_count": 8,
     "metadata": {},
     "output_type": "execute_result"
    }
   ],
   "source": [
    "test_images.shape, test_labels.shape"
   ]
  },
  {
   "cell_type": "code",
   "execution_count": 9,
   "id": "f9ed8fe0",
   "metadata": {
    "execution": {
     "iopub.execute_input": "2022-11-27T10:09:48.820150Z",
     "iopub.status.busy": "2022-11-27T10:09:48.819346Z",
     "iopub.status.idle": "2022-11-27T10:09:48.993205Z",
     "shell.execute_reply": "2022-11-27T10:09:48.993829Z"
    },
    "papermill": {
     "duration": 0.211581,
     "end_time": "2022-11-27T10:09:48.993993",
     "exception": false,
     "start_time": "2022-11-27T10:09:48.782412",
     "status": "completed"
    },
    "tags": []
   },
   "outputs": [
    {
     "name": "stdout",
     "output_type": "stream",
     "text": [
      "2\n"
     ]
    },
    {
     "data": {
      "text/plain": [
       "<matplotlib.image.AxesImage at 0x7f0442e0dda0>"
      ]
     },
     "execution_count": 9,
     "metadata": {},
     "output_type": "execute_result"
    },
    {
     "data": {
      "image/png": "[encoded data removed]",
      "text/plain": [
       "<Figure size 432x288 with 1 Axes>"
      ]
     },
     "metadata": {
      "needs_background": "light"
     },
     "output_type": "display_data"
    }
   ],
   "source": [
    "image_index = 7776 # You may select anything up to 60,000\n",
    "print(train_labels[image_index]) \n",
    "plt.imshow(train_images[image_index], cmap='Greys')"
   ]
  },
  {
   "cell_type": "markdown",
   "id": "a8d2388d",
   "metadata": {
    "papermill": {
     "duration": 0.03309,
     "end_time": "2022-11-27T10:09:49.059774",
     "exception": false,
     "start_time": "2022-11-27T10:09:49.026684",
     "status": "completed"
    },
    "tags": []
   },
   "source": [
    "## Filter data to get 3 and 8 out"
   ]
  },
  {
   "cell_type": "code",
   "execution_count": 10,
   "id": "776f7fc7",
   "metadata": {
    "execution": {
     "iopub.execute_input": "2022-11-27T10:09:49.133664Z",
     "iopub.status.busy": "2022-11-27T10:09:49.132553Z",
     "iopub.status.idle": "2022-11-27T10:09:49.151530Z",
     "shell.execute_reply": "2022-11-27T10:09:49.152085Z"
    },
    "papermill": {
     "duration": 0.060731,
     "end_time": "2022-11-27T10:09:49.152246",
     "exception": false,
     "start_time": "2022-11-27T10:09:49.091515",
     "status": "completed"
    },
    "tags": []
   },
   "outputs": [],
   "source": [
    "train_filter = np.where((train_labels == 3 ) | (train_labels == 8))\n",
    "test_filter = np.where((test_labels == 3) | (test_labels == 8))\n",
    "X_train, y_train = train_images[train_filter], train_labels[train_filter]\n",
    "X_test, y_test = test_images[test_filter], test_labels[test_filter]"
   ]
  },
  {
   "cell_type": "markdown",
   "id": "948f0b7e",
   "metadata": {
    "papermill": {
     "duration": 0.033071,
     "end_time": "2022-11-27T10:09:49.219049",
     "exception": false,
     "start_time": "2022-11-27T10:09:49.185978",
     "status": "completed"
    },
    "tags": []
   },
   "source": [
    "We normalize the pizel values in the 0 to 1 range"
   ]
  },
  {
   "cell_type": "code",
   "execution_count": 11,
   "id": "ee4c2166",
   "metadata": {
    "execution": {
     "iopub.execute_input": "2022-11-27T10:09:49.289977Z",
     "iopub.status.busy": "2022-11-27T10:09:49.289241Z",
     "iopub.status.idle": "2022-11-27T10:09:49.355290Z",
     "shell.execute_reply": "2022-11-27T10:09:49.354561Z"
    },
    "papermill": {
     "duration": 0.105406,
     "end_time": "2022-11-27T10:09:49.355448",
     "exception": false,
     "start_time": "2022-11-27T10:09:49.250042",
     "status": "completed"
    },
    "tags": []
   },
   "outputs": [],
   "source": [
    "X_train = X_train/255.\n",
    "X_test = X_test/255."
   ]
  },
  {
   "cell_type": "markdown",
   "id": "ddcf4fab",
   "metadata": {
    "papermill": {
     "duration": 0.032518,
     "end_time": "2022-11-27T10:09:49.422429",
     "exception": false,
     "start_time": "2022-11-27T10:09:49.389911",
     "status": "completed"
    },
    "tags": []
   },
   "source": [
    "And setup the labels as 1 (when the digit is 3) and 0 (when the digit is 8)"
   ]
  },
  {
   "cell_type": "code",
   "execution_count": 12,
   "id": "7dc908f2",
   "metadata": {
    "execution": {
     "iopub.execute_input": "2022-11-27T10:09:49.495239Z",
     "iopub.status.busy": "2022-11-27T10:09:49.494541Z",
     "iopub.status.idle": "2022-11-27T10:09:49.508110Z",
     "shell.execute_reply": "2022-11-27T10:09:49.507437Z"
    },
    "papermill": {
     "duration": 0.051131,
     "end_time": "2022-11-27T10:09:49.508237",
     "exception": false,
     "start_time": "2022-11-27T10:09:49.457106",
     "status": "completed"
    },
    "tags": []
   },
   "outputs": [],
   "source": [
    "y_train = 1*(y_train==3)\n",
    "y_test = 1*(y_test==3)"
   ]
  },
  {
   "cell_type": "code",
   "execution_count": 13,
   "id": "01e4e969",
   "metadata": {
    "execution": {
     "iopub.execute_input": "2022-11-27T10:09:49.578172Z",
     "iopub.status.busy": "2022-11-27T10:09:49.577349Z",
     "iopub.status.idle": "2022-11-27T10:09:49.592774Z",
     "shell.execute_reply": "2022-11-27T10:09:49.593412Z"
    },
    "papermill": {
     "duration": 0.052522,
     "end_time": "2022-11-27T10:09:49.593549",
     "exception": false,
     "start_time": "2022-11-27T10:09:49.541027",
     "status": "completed"
    },
    "tags": []
   },
   "outputs": [
    {
     "data": {
      "text/plain": [
       "((11982, 28, 28), (1984, 28, 28))"
      ]
     },
     "execution_count": 13,
     "metadata": {},
     "output_type": "execute_result"
    }
   ],
   "source": [
    "X_train.shape, X_test.shape"
   ]
  },
  {
   "cell_type": "markdown",
   "id": "5ccf3f85",
   "metadata": {
    "papermill": {
     "duration": 0.030983,
     "end_time": "2022-11-27T10:09:49.655351",
     "exception": false,
     "start_time": "2022-11-27T10:09:49.624368",
     "status": "completed"
    },
    "tags": []
   },
   "source": [
    "We reshape the data to flatten the image pixels into a set of features or co-variates:"
   ]
  },
  {
   "cell_type": "code",
   "execution_count": 14,
   "id": "5286a4a3",
   "metadata": {
    "execution": {
     "iopub.execute_input": "2022-11-27T10:09:49.730902Z",
     "iopub.status.busy": "2022-11-27T10:09:49.729484Z",
     "iopub.status.idle": "2022-11-27T10:09:49.742025Z",
     "shell.execute_reply": "2022-11-27T10:09:49.742797Z"
    },
    "papermill": {
     "duration": 0.05543,
     "end_time": "2022-11-27T10:09:49.742973",
     "exception": false,
     "start_time": "2022-11-27T10:09:49.687543",
     "status": "completed"
    },
    "tags": []
   },
   "outputs": [
    {
     "data": {
      "text/plain": [
       "((11982, 784), (1984, 784))"
      ]
     },
     "execution_count": 14,
     "metadata": {},
     "output_type": "execute_result"
    }
   ],
   "source": [
    "X_train = X_train.reshape(X_train.shape[0], -1)\n",
    "X_test = X_test.reshape(X_test.shape[0], -1)\n",
    "X_train.shape, X_test.shape"
   ]
  },
  {
   "cell_type": "code",
   "execution_count": 15,
   "id": "73c5f88a",
   "metadata": {
    "execution": {
     "iopub.execute_input": "2022-11-27T10:09:49.820485Z",
     "iopub.status.busy": "2022-11-27T10:09:49.818715Z",
     "iopub.status.idle": "2022-11-27T10:09:49.838301Z",
     "shell.execute_reply": "2022-11-27T10:09:49.837755Z"
    },
    "papermill": {
     "duration": 0.06309,
     "end_time": "2022-11-27T10:09:49.838425",
     "exception": false,
     "start_time": "2022-11-27T10:09:49.775335",
     "status": "completed"
    },
    "tags": []
   },
   "outputs": [],
   "source": [
    "#Impoting functions from 'Kudzu'\n",
    "from kudzu.model import Model\n",
    "from kudzu.train import Learner\n",
    "from kudzu.optim import GD\n",
    "from kudzu.data import Data, Sampler,Dataloader\n",
    "\n",
    "from kudzu.callbacks import AccCallback\n",
    "from kudzu.callbacks import ClfCallback\n",
    "\n",
    "from kudzu.loss import MSE\n",
    "\n",
    "from kudzu.layer import Sigmoid,Relu\n",
    "from kudzu.layer import Affine"
   ]
  },
  {
   "cell_type": "markdown",
   "id": "bc01172a",
   "metadata": {
    "papermill": {
     "duration": 0.033302,
     "end_time": "2022-11-27T10:09:49.904419",
     "exception": false,
     "start_time": "2022-11-27T10:09:49.871117",
     "status": "completed"
    },
    "tags": []
   },
   "source": [
    "### Let us create a `Config` class, to store important parameters. \n",
    "This class essentially plays the role of a dictionary."
   ]
  },
  {
   "cell_type": "code",
   "execution_count": 16,
   "id": "978281aa",
   "metadata": {
    "execution": {
     "iopub.execute_input": "2022-11-27T10:09:49.973873Z",
     "iopub.status.busy": "2022-11-27T10:09:49.973206Z",
     "iopub.status.idle": "2022-11-27T10:09:49.986279Z",
     "shell.execute_reply": "2022-11-27T10:09:49.985704Z"
    },
    "papermill": {
     "duration": 0.050273,
     "end_time": "2022-11-27T10:09:49.986398",
     "exception": false,
     "start_time": "2022-11-27T10:09:49.936125",
     "status": "completed"
    },
    "tags": []
   },
   "outputs": [],
   "source": [
    "class Config:\n",
    "    pass\n",
    "config = Config()\n",
    "config.lr = 0.001\n",
    "config.num_epochs = 250\n",
    "config.bs = 50"
   ]
  },
  {
   "cell_type": "markdown",
   "id": "1385fa59",
   "metadata": {
    "papermill": {
     "duration": 0.037564,
     "end_time": "2022-11-27T10:09:50.060392",
     "exception": false,
     "start_time": "2022-11-27T10:09:50.022828",
     "status": "completed"
    },
    "tags": []
   },
   "source": [
    "### Running Models with the Training data\n",
    "Details about the network layers:\n",
    "- A first affine layer has 784 inputs and does 100 affine transforms. These are followed by a Relu\n",
    "- A second affine layer has 100 inputs from the 100 activations of the past layer, and does 100 affine transforms. These are followed by a Relu\n",
    "- A third affine layer has 100 activations and does 2 affine transformations to create an embedding for visualization. There is no non-linearity here.\n",
    "- A final \"logistic regression\" which has an affine transform from 2 inputs to 1 output, which is squeezed through a sigmoid.\n"
   ]
  },
  {
   "cell_type": "code",
   "execution_count": 17,
   "id": "2b9c66db",
   "metadata": {
    "execution": {
     "iopub.execute_input": "2022-11-27T10:09:50.132737Z",
     "iopub.status.busy": "2022-11-27T10:09:50.131921Z",
     "iopub.status.idle": "2022-11-27T10:09:50.145883Z",
     "shell.execute_reply": "2022-11-27T10:09:50.145270Z"
    },
    "papermill": {
     "duration": 0.052316,
     "end_time": "2022-11-27T10:09:50.146004",
     "exception": false,
     "start_time": "2022-11-27T10:09:50.093688",
     "status": "completed"
    },
    "tags": []
   },
   "outputs": [],
   "source": [
    "data = Data(X_train, y_train.reshape(-1,1))\n",
    "sampler = Sampler(data, config.bs, shuffle=True)\n",
    "\n",
    "dl = Dataloader(data, sampler)\n",
    "\n",
    "opt = GD(config.lr)\n",
    "loss = MSE()"
   ]
  },
  {
   "cell_type": "code",
   "execution_count": 18,
   "id": "b275e4c2",
   "metadata": {
    "execution": {
     "iopub.execute_input": "2022-11-27T10:09:50.214153Z",
     "iopub.status.busy": "2022-11-27T10:09:50.213485Z",
     "iopub.status.idle": "2022-11-27T10:09:50.227662Z",
     "shell.execute_reply": "2022-11-27T10:09:50.227118Z"
    },
    "papermill": {
     "duration": 0.048845,
     "end_time": "2022-11-27T10:09:50.227821",
     "exception": false,
     "start_time": "2022-11-27T10:09:50.178976",
     "status": "completed"
    },
    "tags": []
   },
   "outputs": [],
   "source": [
    "training_data_x = X_train\n",
    "testing_data_x = X_test\n",
    "training_data_y = y_train.reshape(-1,1)\n",
    "testing_data_y = y_test.reshape(-1,1)"
   ]
  },
  {
   "cell_type": "code",
   "execution_count": 19,
   "id": "76951160",
   "metadata": {
    "execution": {
     "iopub.execute_input": "2022-11-27T10:09:50.300397Z",
     "iopub.status.busy": "2022-11-27T10:09:50.299584Z",
     "iopub.status.idle": "2022-11-27T10:09:50.318636Z",
     "shell.execute_reply": "2022-11-27T10:09:50.319283Z"
    },
    "papermill": {
     "duration": 0.058589,
     "end_time": "2022-11-27T10:09:50.319449",
     "exception": false,
     "start_time": "2022-11-27T10:09:50.260860",
     "status": "completed"
    },
    "tags": []
   },
   "outputs": [
    {
     "name": "stdout",
     "output_type": "stream",
     "text": [
      "xavier\n",
      "xavier\n",
      "xavier\n",
      "xavier\n",
      "xavier\n"
     ]
    }
   ],
   "source": [
    "layers = [Affine(\"first\", 784, 100), Relu(\"first\"), Affine(\"second\", 100, 100), Relu(\"second\"), Affine(\"third\", 100, 2), Affine(\"last\", 2, 1), Sigmoid(\"last\")]\n",
    "model_nn = Model(layers)\n",
    "model_lr = Model([Affine(\"logits\", 784, 1), Sigmoid(\"sigmoid\")])"
   ]
  },
  {
   "cell_type": "code",
   "execution_count": 20,
   "id": "6eede77a",
   "metadata": {
    "execution": {
     "iopub.execute_input": "2022-11-27T10:09:50.394206Z",
     "iopub.status.busy": "2022-11-27T10:09:50.393459Z",
     "iopub.status.idle": "2022-11-27T10:09:50.410878Z",
     "shell.execute_reply": "2022-11-27T10:09:50.409847Z"
    },
    "papermill": {
     "duration": 0.055105,
     "end_time": "2022-11-27T10:09:50.411030",
     "exception": false,
     "start_time": "2022-11-27T10:09:50.355925",
     "status": "completed"
    },
    "tags": []
   },
   "outputs": [],
   "source": [
    "nn_learner = Learner(loss, model_nn, opt, config.num_epochs)\n",
    "acc_nn = ClfCallback(nn_learner, config.bs, training_data_x , testing_data_x, training_data_y, testing_data_y)\n",
    "nn_learner.set_callbacks([acc_nn])"
   ]
  },
  {
   "cell_type": "code",
   "execution_count": 21,
   "id": "877b6cc7",
   "metadata": {
    "execution": {
     "iopub.execute_input": "2022-11-27T10:09:50.500232Z",
     "iopub.status.busy": "2022-11-27T10:09:50.499121Z",
     "iopub.status.idle": "2022-11-27T10:09:50.519629Z",
     "shell.execute_reply": "2022-11-27T10:09:50.518346Z"
    },
    "papermill": {
     "duration": 0.070525,
     "end_time": "2022-11-27T10:09:50.519819",
     "exception": false,
     "start_time": "2022-11-27T10:09:50.449294",
     "status": "completed"
    },
    "tags": []
   },
   "outputs": [],
   "source": [
    "lr_learner = Learner(loss, model_lr, opt, config.num_epochs)\n",
    "acc_lr = ClfCallback(lr_learner, config.bs, training_data_x , testing_data_x, training_data_y, testing_data_y)\n",
    "lr_learner.set_callbacks([acc_lr])"
   ]
  },
  {
   "cell_type": "code",
   "execution_count": 22,
   "id": "d9b133c3",
   "metadata": {
    "execution": {
     "iopub.execute_input": "2022-11-27T10:09:50.593513Z",
     "iopub.status.busy": "2022-11-27T10:09:50.592748Z",
     "iopub.status.idle": "2022-11-27T10:12:01.583584Z",
     "shell.execute_reply": "2022-11-27T10:12:01.584577Z"
    },
    "papermill": {
     "duration": 131.02965,
     "end_time": "2022-11-27T10:12:01.584763",
     "exception": false,
     "start_time": "2022-11-27T10:09:50.555113",
     "status": "completed"
    },
    "tags": []
   },
   "outputs": [
    {
     "name": "stdout",
     "output_type": "stream",
     "text": [
      "Epoch 0, Loss 0.2618\n",
      "Training Accuracy: 0.5197, Testing Accuracy: 0.5111\n",
      "\n"
     ]
    },
    {
     "name": "stdout",
     "output_type": "stream",
     "text": [
      "Epoch 10, Loss 0.1065\n",
      "Training Accuracy: 0.9084, Testing Accuracy: 0.9183\n",
      "\n"
     ]
    },
    {
     "name": "stdout",
     "output_type": "stream",
     "text": [
      "Epoch 20, Loss 0.0627\n",
      "Training Accuracy: 0.9363, Testing Accuracy: 0.9471\n",
      "\n"
     ]
    },
    {
     "name": "stdout",
     "output_type": "stream",
     "text": [
      "Epoch 30, Loss 0.0479\n",
      "Training Accuracy: 0.9475, Testing Accuracy: 0.9572\n",
      "\n"
     ]
    },
    {
     "name": "stdout",
     "output_type": "stream",
     "text": [
      "Epoch 40, Loss 0.0408\n",
      "Training Accuracy: 0.9540, Testing Accuracy: 0.9627\n",
      "\n"
     ]
    },
    {
     "name": "stdout",
     "output_type": "stream",
     "text": [
      "Epoch 50, Loss 0.0365\n",
      "Training Accuracy: 0.9574, Testing Accuracy: 0.9657\n",
      "\n"
     ]
    },
    {
     "name": "stdout",
     "output_type": "stream",
     "text": [
      "Epoch 60, Loss 0.0337\n",
      "Training Accuracy: 0.9599, Testing Accuracy: 0.9662\n",
      "\n"
     ]
    },
    {
     "name": "stdout",
     "output_type": "stream",
     "text": [
      "Epoch 70, Loss 0.0316\n",
      "Training Accuracy: 0.9619, Testing Accuracy: 0.9688\n",
      "\n"
     ]
    },
    {
     "name": "stdout",
     "output_type": "stream",
     "text": [
      "Epoch 80, Loss 0.0299\n",
      "Training Accuracy: 0.9648, Testing Accuracy: 0.9688\n",
      "\n"
     ]
    },
    {
     "name": "stdout",
     "output_type": "stream",
     "text": [
      "Epoch 90, Loss 0.0286\n",
      "Training Accuracy: 0.9662, Testing Accuracy: 0.9703\n",
      "\n"
     ]
    },
    {
     "name": "stdout",
     "output_type": "stream",
     "text": [
      "Epoch 100, Loss 0.0274\n",
      "Training Accuracy: 0.9674, Testing Accuracy: 0.9703\n",
      "\n"
     ]
    },
    {
     "name": "stdout",
     "output_type": "stream",
     "text": [
      "Epoch 110, Loss 0.0264\n",
      "Training Accuracy: 0.9685, Testing Accuracy: 0.9713\n",
      "\n"
     ]
    },
    {
     "name": "stdout",
     "output_type": "stream",
     "text": [
      "Epoch 120, Loss 0.0256\n",
      "Training Accuracy: 0.9695, Testing Accuracy: 0.9708\n",
      "\n"
     ]
    },
    {
     "name": "stdout",
     "output_type": "stream",
     "text": [
      "Epoch 130, Loss 0.0248\n",
      "Training Accuracy: 0.9705, Testing Accuracy: 0.9708\n",
      "\n"
     ]
    },
    {
     "name": "stdout",
     "output_type": "stream",
     "text": [
      "Epoch 140, Loss 0.0241\n",
      "Training Accuracy: 0.9712, Testing Accuracy: 0.9703\n",
      "\n"
     ]
    },
    {
     "name": "stdout",
     "output_type": "stream",
     "text": [
      "Epoch 150, Loss 0.0235\n",
      "Training Accuracy: 0.9718, Testing Accuracy: 0.9713\n",
      "\n"
     ]
    },
    {
     "name": "stdout",
     "output_type": "stream",
     "text": [
      "Epoch 160, Loss 0.0229\n",
      "Training Accuracy: 0.9723, Testing Accuracy: 0.9718\n",
      "\n"
     ]
    },
    {
     "name": "stdout",
     "output_type": "stream",
     "text": [
      "Epoch 170, Loss 0.0224\n",
      "Training Accuracy: 0.9731, Testing Accuracy: 0.9718\n",
      "\n"
     ]
    },
    {
     "name": "stdout",
     "output_type": "stream",
     "text": [
      "Epoch 180, Loss 0.0219\n",
      "Training Accuracy: 0.9745, Testing Accuracy: 0.9718\n",
      "\n"
     ]
    },
    {
     "name": "stdout",
     "output_type": "stream",
     "text": [
      "Epoch 190, Loss 0.0214\n",
      "Training Accuracy: 0.9750, Testing Accuracy: 0.9723\n",
      "\n"
     ]
    },
    {
     "name": "stdout",
     "output_type": "stream",
     "text": [
      "Epoch 200, Loss 0.0209\n",
      "Training Accuracy: 0.9755, Testing Accuracy: 0.9733\n",
      "\n"
     ]
    },
    {
     "name": "stdout",
     "output_type": "stream",
     "text": [
      "Epoch 210, Loss 0.0205\n",
      "Training Accuracy: 0.9759, Testing Accuracy: 0.9738\n",
      "\n"
     ]
    },
    {
     "name": "stdout",
     "output_type": "stream",
     "text": [
      "Epoch 220, Loss 0.0201\n",
      "Training Accuracy: 0.9763, Testing Accuracy: 0.9743\n",
      "\n"
     ]
    },
    {
     "name": "stdout",
     "output_type": "stream",
     "text": [
      "Epoch 230, Loss 0.0197\n",
      "Training Accuracy: 0.9770, Testing Accuracy: 0.9743\n",
      "\n"
     ]
    },
    {
     "name": "stdout",
     "output_type": "stream",
     "text": [
      "Epoch 240, Loss 0.0193\n",
      "Training Accuracy: 0.9773, Testing Accuracy: 0.9753\n",
      "\n"
     ]
    },
    {
     "data": {
      "text/plain": [
       "0.003265712574009511"
      ]
     },
     "execution_count": 22,
     "metadata": {},
     "output_type": "execute_result"
    }
   ],
   "source": [
    "nn_learner.train_loop(dl)"
   ]
  },
  {
   "cell_type": "code",
   "execution_count": 23,
   "id": "e0163366",
   "metadata": {
    "execution": {
     "iopub.execute_input": "2022-11-27T10:12:01.683007Z",
     "iopub.status.busy": "2022-11-27T10:12:01.682263Z",
     "iopub.status.idle": "2022-11-27T10:12:20.696128Z",
     "shell.execute_reply": "2022-11-27T10:12:20.696862Z"
    },
    "papermill": {
     "duration": 19.067822,
     "end_time": "2022-11-27T10:12:20.697019",
     "exception": false,
     "start_time": "2022-11-27T10:12:01.629197",
     "status": "completed"
    },
    "tags": []
   },
   "outputs": [
    {
     "name": "stdout",
     "output_type": "stream",
     "text": [
      "Epoch 0, Loss 0.2302\n",
      "Training Accuracy: 0.7329, Testing Accuracy: 0.7132\n",
      "\n"
     ]
    },
    {
     "name": "stdout",
     "output_type": "stream",
     "text": [
      "Epoch 10, Loss 0.1025\n",
      "Training Accuracy: 0.9086, Testing Accuracy: 0.9209\n",
      "\n"
     ]
    },
    {
     "name": "stdout",
     "output_type": "stream",
     "text": [
      "Epoch 20, Loss 0.0789\n",
      "Training Accuracy: 0.9275, Testing Accuracy: 0.9400\n",
      "\n"
     ]
    },
    {
     "name": "stdout",
     "output_type": "stream",
     "text": [
      "Epoch 30, Loss 0.068\n",
      "Training Accuracy: 0.9368, Testing Accuracy: 0.9491\n",
      "\n"
     ]
    },
    {
     "name": "stdout",
     "output_type": "stream",
     "text": [
      "Epoch 40, Loss 0.0615\n",
      "Training Accuracy: 0.9424, Testing Accuracy: 0.9551\n",
      "\n"
     ]
    },
    {
     "name": "stdout",
     "output_type": "stream",
     "text": [
      "Epoch 50, Loss 0.057\n",
      "Training Accuracy: 0.9463, Testing Accuracy: 0.9577\n",
      "\n"
     ]
    },
    {
     "name": "stdout",
     "output_type": "stream",
     "text": [
      "Epoch 60, Loss 0.0537\n",
      "Training Accuracy: 0.9485, Testing Accuracy: 0.9587\n",
      "\n"
     ]
    },
    {
     "name": "stdout",
     "output_type": "stream",
     "text": [
      "Epoch 70, Loss 0.0512\n",
      "Training Accuracy: 0.9509, Testing Accuracy: 0.9607\n",
      "\n"
     ]
    },
    {
     "name": "stdout",
     "output_type": "stream",
     "text": [
      "Epoch 80, Loss 0.0492\n",
      "Training Accuracy: 0.9518, Testing Accuracy: 0.9617\n",
      "\n"
     ]
    },
    {
     "name": "stdout",
     "output_type": "stream",
     "text": [
      "Epoch 90, Loss 0.0475\n",
      "Training Accuracy: 0.9531, Testing Accuracy: 0.9637\n",
      "\n"
     ]
    },
    {
     "name": "stdout",
     "output_type": "stream",
     "text": [
      "Epoch 100, Loss 0.0461\n",
      "Training Accuracy: 0.9537, Testing Accuracy: 0.9637\n",
      "\n"
     ]
    },
    {
     "name": "stdout",
     "output_type": "stream",
     "text": [
      "Epoch 110, Loss 0.0449\n",
      "Training Accuracy: 0.9547, Testing Accuracy: 0.9642\n",
      "\n"
     ]
    },
    {
     "name": "stdout",
     "output_type": "stream",
     "text": [
      "Epoch 120, Loss 0.0439\n",
      "Training Accuracy: 0.9556, Testing Accuracy: 0.9657\n",
      "\n"
     ]
    },
    {
     "name": "stdout",
     "output_type": "stream",
     "text": [
      "Epoch 130, Loss 0.043\n",
      "Training Accuracy: 0.9564, Testing Accuracy: 0.9657\n",
      "\n"
     ]
    },
    {
     "name": "stdout",
     "output_type": "stream",
     "text": [
      "Epoch 140, Loss 0.0421\n",
      "Training Accuracy: 0.9571, Testing Accuracy: 0.9652\n",
      "\n"
     ]
    },
    {
     "name": "stdout",
     "output_type": "stream",
     "text": [
      "Epoch 150, Loss 0.0414\n",
      "Training Accuracy: 0.9575, Testing Accuracy: 0.9657\n",
      "\n"
     ]
    },
    {
     "name": "stdout",
     "output_type": "stream",
     "text": [
      "Epoch 160, Loss 0.0407\n",
      "Training Accuracy: 0.9580, Testing Accuracy: 0.9657\n",
      "\n"
     ]
    },
    {
     "name": "stdout",
     "output_type": "stream",
     "text": [
      "Epoch 170, Loss 0.0401\n",
      "Training Accuracy: 0.9586, Testing Accuracy: 0.9652\n",
      "\n"
     ]
    },
    {
     "name": "stdout",
     "output_type": "stream",
     "text": [
      "Epoch 180, Loss 0.0396\n",
      "Training Accuracy: 0.9587, Testing Accuracy: 0.9652\n",
      "\n"
     ]
    },
    {
     "name": "stdout",
     "output_type": "stream",
     "text": [
      "Epoch 190, Loss 0.0391\n",
      "Training Accuracy: 0.9591, Testing Accuracy: 0.9652\n",
      "\n"
     ]
    },
    {
     "name": "stdout",
     "output_type": "stream",
     "text": [
      "Epoch 200, Loss 0.0386\n",
      "Training Accuracy: 0.9594, Testing Accuracy: 0.9652\n",
      "\n"
     ]
    },
    {
     "name": "stdout",
     "output_type": "stream",
     "text": [
      "Epoch 210, Loss 0.0382\n",
      "Training Accuracy: 0.9599, Testing Accuracy: 0.9662\n",
      "\n"
     ]
    },
    {
     "name": "stdout",
     "output_type": "stream",
     "text": [
      "Epoch 220, Loss 0.0378\n",
      "Training Accuracy: 0.9602, Testing Accuracy: 0.9667\n",
      "\n"
     ]
    },
    {
     "name": "stdout",
     "output_type": "stream",
     "text": [
      "Epoch 230, Loss 0.0374\n",
      "Training Accuracy: 0.9603, Testing Accuracy: 0.9667\n",
      "\n"
     ]
    },
    {
     "name": "stdout",
     "output_type": "stream",
     "text": [
      "Epoch 240, Loss 0.037\n",
      "Training Accuracy: 0.9609, Testing Accuracy: 0.9667\n",
      "\n"
     ]
    },
    {
     "data": {
      "text/plain": [
       "0.07757806987278137"
      ]
     },
     "execution_count": 23,
     "metadata": {},
     "output_type": "execute_result"
    }
   ],
   "source": [
    "lr_learner.train_loop(dl)"
   ]
  },
  {
   "cell_type": "code",
   "execution_count": 24,
   "id": "ca410940",
   "metadata": {
    "execution": {
     "iopub.execute_input": "2022-11-27T10:12:20.805589Z",
     "iopub.status.busy": "2022-11-27T10:12:20.804835Z",
     "iopub.status.idle": "2022-11-27T10:12:21.099502Z",
     "shell.execute_reply": "2022-11-27T10:12:21.098856Z"
    },
    "papermill": {
     "duration": 0.351867,
     "end_time": "2022-11-27T10:12:21.099659",
     "exception": false,
     "start_time": "2022-11-27T10:12:20.747792",
     "status": "completed"
    },
    "tags": []
   },
   "outputs": [
    {
     "data": {
      "text/plain": [
       "<matplotlib.legend.Legend at 0x7f0442978470>"
      ]
     },
     "execution_count": 24,
     "metadata": {},
     "output_type": "execute_result"
    },
    {
     "data": {
      "image/png": "[encoded data removed]",
      "text/plain": [
       "<Figure size 1080x720 with 1 Axes>"
      ]
     },
     "metadata": {
      "needs_background": "light"
     },
     "output_type": "display_data"
    }
   ],
   "source": [
    "#comparing the results of NN and LR\n",
    "plt.figure(figsize=(15,10))\n",
    "\n",
    "# Neural Network plots\n",
    "plt.plot(acc_nn.accuracies, 'r-', label = \"Training Accuracies - NN\")\n",
    "plt.plot(acc_nn.test_accuracies, 'g-', label = \"Testing Accuracies - NN\")\n",
    "\n",
    "# Logistic Regression plots\n",
    "plt.plot(acc_lr.accuracies, 'k-', label = \"Training Accuracies - LR\")\n",
    "plt.plot(acc_lr.test_accuracies, 'b-', label = \"Testing Accuracies - LR\")\n",
    "plt.legend()"
   ]
  },
  {
   "cell_type": "markdown",
   "id": "80dfb35c",
   "metadata": {
    "papermill": {
     "duration": 0.053405,
     "end_time": "2022-11-27T10:12:21.208829",
     "exception": false,
     "start_time": "2022-11-27T10:12:21.155424",
     "status": "completed"
    },
    "tags": []
   },
   "source": [
    "#### Plotting the outputs of this layer of the NN.\n"
   ]
  },
  {
   "cell_type": "code",
   "execution_count": 25,
   "id": "45eb2ff5",
   "metadata": {
    "execution": {
     "iopub.execute_input": "2022-11-27T10:12:21.319953Z",
     "iopub.status.busy": "2022-11-27T10:12:21.319247Z",
     "iopub.status.idle": "2022-11-27T10:12:21.344197Z",
     "shell.execute_reply": "2022-11-27T10:12:21.343523Z"
    },
    "papermill": {
     "duration": 0.083321,
     "end_time": "2022-11-27T10:12:21.344362",
     "exception": false,
     "start_time": "2022-11-27T10:12:21.261041",
     "status": "completed"
    },
    "tags": []
   },
   "outputs": [],
   "source": [
    "new_model = Model(layers[:-2])\n",
    "testing_plot = new_model(testing_data_x)"
   ]
  },
  {
   "cell_type": "code",
   "execution_count": 26,
   "id": "4c0a5485",
   "metadata": {
    "execution": {
     "iopub.execute_input": "2022-11-27T10:12:21.463576Z",
     "iopub.status.busy": "2022-11-27T10:12:21.462828Z",
     "iopub.status.idle": "2022-11-27T10:12:21.727381Z",
     "shell.execute_reply": "2022-11-27T10:12:21.727996Z"
    },
    "papermill": {
     "duration": 0.33074,
     "end_time": "2022-11-27T10:12:21.728179",
     "exception": false,
     "start_time": "2022-11-27T10:12:21.397439",
     "status": "completed"
    },
    "tags": []
   },
   "outputs": [
    {
     "data": {
      "text/plain": [
       "Text(0.5, 1.0, 'Outputs')"
      ]
     },
     "execution_count": 26,
     "metadata": {},
     "output_type": "execute_result"
    },
    {
     "data": {
      "image/png": "[encoded data removed]",
      "text/plain": [
       "<Figure size 576x504 with 1 Axes>"
      ]
     },
     "metadata": {
      "needs_background": "light"
     },
     "output_type": "display_data"
    }
   ],
   "source": [
    "# Plotting the scatter plot of points and color coding by class\n",
    "plt.figure(figsize=(8,7))\n",
    "plt.scatter(testing_plot[:,0], testing_plot[:,1], alpha = 0.1, c = y_test.ravel());\n",
    "plt.title('Outputs')"
   ]
  },
  {
   "cell_type": "markdown",
   "id": "a74fcf8f",
   "metadata": {
    "papermill": {
     "duration": 0.054715,
     "end_time": "2022-11-27T10:12:21.839677",
     "exception": false,
     "start_time": "2022-11-27T10:12:21.784962",
     "status": "completed"
    },
    "tags": []
   },
   "source": [
    "Probability contours"
   ]
  },
  {
   "cell_type": "code",
   "execution_count": 27,
   "id": "d0afc8e3",
   "metadata": {
    "execution": {
     "iopub.execute_input": "2022-11-27T10:12:21.948703Z",
     "iopub.status.busy": "2022-11-27T10:12:21.947995Z",
     "iopub.status.idle": "2022-11-27T10:12:21.962090Z",
     "shell.execute_reply": "2022-11-27T10:12:21.961281Z"
    },
    "papermill": {
     "duration": 0.070661,
     "end_time": "2022-11-27T10:12:21.962254",
     "exception": false,
     "start_time": "2022-11-27T10:12:21.891593",
     "status": "completed"
    },
    "tags": []
   },
   "outputs": [],
   "source": [
    "model_prob = Model(layers[-2:]) "
   ]
  },
  {
   "cell_type": "code",
   "execution_count": 28,
   "id": "9b96e238",
   "metadata": {
    "execution": {
     "iopub.execute_input": "2022-11-27T10:12:22.133236Z",
     "iopub.status.busy": "2022-11-27T10:12:22.131451Z",
     "iopub.status.idle": "2022-11-27T10:12:22.143649Z",
     "shell.execute_reply": "2022-11-27T10:12:22.144311Z"
    },
    "papermill": {
     "duration": 0.093072,
     "end_time": "2022-11-27T10:12:22.144491",
     "exception": false,
     "start_time": "2022-11-27T10:12:22.051419",
     "status": "completed"
    },
    "tags": []
   },
   "outputs": [],
   "source": [
    "#creating the x and y ranges according to the above generated plot.\n",
    "x_range = np.linspace(-4, 1, 100) \n",
    "y_range = np.linspace(-6, 6, 100) \n",
    "x_grid, y_grid = np.meshgrid(x_range, y_range) # x_grid and y_grig are of size 100 X 100\n",
    "\n",
    "# converting x_grid and y_grid to continuous arrays\n",
    "x_gridflat = np.ravel(x_grid)\n",
    "y_gridflat = np.ravel(y_grid)\n",
    "\n",
    "# The last layer of the current model takes two columns as input. Hence transpose of np.vstack() is required.\n",
    "X = np.vstack((x_gridflat, y_gridflat)).T\n",
    "\n",
    "prob_contour = model_prob(X).reshape(100,100) "
   ]
  },
  {
   "cell_type": "code",
   "execution_count": 29,
   "id": "da72499a",
   "metadata": {
    "execution": {
     "iopub.execute_input": "2022-11-27T10:12:22.266352Z",
     "iopub.status.busy": "2022-11-27T10:12:22.265597Z",
     "iopub.status.idle": "2022-11-27T10:12:22.591825Z",
     "shell.execute_reply": "2022-11-27T10:12:22.591062Z"
    },
    "papermill": {
     "duration": 0.389846,
     "end_time": "2022-11-27T10:12:22.591984",
     "exception": false,
     "start_time": "2022-11-27T10:12:22.202138",
     "status": "completed"
    },
    "tags": []
   },
   "outputs": [
    {
     "data": {
      "image/png": "[encoded data removed]",
      "text/plain": [
       "<Figure size 720x648 with 1 Axes>"
      ]
     },
     "metadata": {
      "needs_background": "light"
     },
     "output_type": "display_data"
    }
   ],
   "source": [
    "plt.figure(figsize=(10,9))\n",
    "plt.scatter(testing_plot[:,0], testing_plot[:,1], alpha = 0.1, c = y_test.ravel())\n",
    "contours = plt.contour(x_grid,y_grid,prob_contour)\n",
    "plt.title('Probability Contours')\n",
    "plt.clabel(contours, inline = True );"
   ]
  },
  {
   "cell_type": "code",
   "execution_count": null,
   "id": "e81b4ac7",
   "metadata": {
    "papermill": {
     "duration": 0.058024,
     "end_time": "2022-11-27T10:12:22.712938",
     "exception": false,
     "start_time": "2022-11-27T10:12:22.654914",
     "status": "completed"
    },
    "tags": []
   },
   "outputs": [],
   "source": []
  }
 ],
 "metadata": {
  "kernelspec": {
   "display_name": "Python 3",
   "language": "python",
   "name": "python3"
  },
  "language_info": {
   "codemirror_mode": {
    "name": "ipython",
    "version": 3
   },
   "file_extension": ".py",
   "mimetype": "text/x-python",
   "name": "python",
   "nbconvert_exporter": "python",
   "pygments_lexer": "ipython3",
   "version": "3.6.15"
  },
  "papermill": {
   "default_parameters": {},
   "duration": 159.781122,
   "end_time": "2022-11-27T10:12:23.195507",
   "environment_variables": {},
   "exception": null,
   "input_path": "2020-08-11-part2.ipynb",
   "output_path": "2020-08-11-part2.ipynb",
   "parameters": {},
   "start_time": "2022-11-27T10:09:43.414385",
   "version": "2.3.3"
  }
 },
 "nbformat": 4,
 "nbformat_minor": 5
}