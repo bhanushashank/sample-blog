{
 "cells": [
  {
   "cell_type": "markdown",
   "id": "98380cd3",
   "metadata": {
    "papermill": {
     "duration": 0.040299,
     "end_time": "2022-07-11T20:12:18.401357",
     "exception": false,
     "start_time": "2022-07-11T20:12:18.361058",
     "status": "completed"
    },
    "tags": []
   },
   "source": [
    "# Distinguish Your Own Digits (DYOD)"
   ]
  },
  {
   "cell_type": "markdown",
   "id": "ef31240d",
   "metadata": {
    "papermill": {
     "duration": 0.035852,
     "end_time": "2022-07-11T20:12:18.473455",
     "exception": false,
     "start_time": "2022-07-11T20:12:18.437603",
     "status": "completed"
    },
    "tags": []
   },
   "source": [
    "You are going to write a classifier that distinguishes between the number 3 and number 8."
   ]
  },
  {
   "cell_type": "code",
   "execution_count": 1,
   "id": "b15c8646",
   "metadata": {
    "execution": {
     "iopub.execute_input": "2022-07-11T20:12:18.568154Z",
     "iopub.status.busy": "2022-07-11T20:12:18.567168Z",
     "iopub.status.idle": "2022-07-11T20:12:18.581501Z",
     "shell.execute_reply": "2022-07-11T20:12:18.580778Z"
    },
    "papermill": {
     "duration": 0.067577,
     "end_time": "2022-07-11T20:12:18.581691",
     "exception": false,
     "start_time": "2022-07-11T20:12:18.514114",
     "status": "completed"
    },
    "tags": []
   },
   "outputs": [],
   "source": [
    "%load_ext autoreload\n",
    "%autoreload 2"
   ]
  },
  {
   "cell_type": "code",
   "execution_count": 2,
   "id": "22ef38dc",
   "metadata": {
    "execution": {
     "iopub.execute_input": "2022-07-11T20:12:18.661978Z",
     "iopub.status.busy": "2022-07-11T20:12:18.660826Z",
     "iopub.status.idle": "2022-07-11T20:12:19.398102Z",
     "shell.execute_reply": "2022-07-11T20:12:19.397235Z"
    },
    "papermill": {
     "duration": 0.779539,
     "end_time": "2022-07-11T20:12:19.398278",
     "exception": false,
     "start_time": "2022-07-11T20:12:18.618739",
     "status": "completed"
    },
    "tags": []
   },
   "outputs": [],
   "source": [
    "%matplotlib inline\n",
    "import numpy as np\n",
    "import matplotlib.pyplot as plt\n",
    "import pandas as pd"
   ]
  },
  {
   "cell_type": "markdown",
   "id": "ba036198",
   "metadata": {
    "papermill": {
     "duration": 0.040009,
     "end_time": "2022-07-11T20:12:19.478427",
     "exception": false,
     "start_time": "2022-07-11T20:12:19.438418",
     "status": "completed"
    },
    "tags": []
   },
   "source": [
    "From the command line run `pip install mnist`. This is a library that will help you bring down the mnist dataset. If you run this from a notebook, you need to put  `!pip install mnist` in a cell by itself."
   ]
  },
  {
   "cell_type": "code",
   "execution_count": 3,
   "id": "bb6ad8a1",
   "metadata": {
    "execution": {
     "iopub.execute_input": "2022-07-11T20:12:19.559010Z",
     "iopub.status.busy": "2022-07-11T20:12:19.558121Z",
     "iopub.status.idle": "2022-07-11T20:12:21.788849Z",
     "shell.execute_reply": "2022-07-11T20:12:21.789497Z"
    },
    "papermill": {
     "duration": 2.275466,
     "end_time": "2022-07-11T20:12:21.789678",
     "exception": false,
     "start_time": "2022-07-11T20:12:19.514212",
     "status": "completed"
    },
    "tags": []
   },
   "outputs": [
    {
     "name": "stdout",
     "output_type": "stream",
     "text": [
      "Collecting mnist\r\n"
     ]
    },
    {
     "name": "stdout",
     "output_type": "stream",
     "text": [
      "  Downloading mnist-0.2.2-py2.py3-none-any.whl (3.5 kB)\r\n",
      "Requirement already satisfied: numpy in /opt/hostedtoolcache/Python/3.6.15/x64/lib/python3.6/site-packages (from mnist) (1.19.5)\r\n"
     ]
    },
    {
     "name": "stdout",
     "output_type": "stream",
     "text": [
      "Installing collected packages: mnist\r\n"
     ]
    },
    {
     "name": "stdout",
     "output_type": "stream",
     "text": [
      "Successfully installed mnist-0.2.2\r\n"
     ]
    }
   ],
   "source": [
    "!pip install mnist"
   ]
  },
  {
   "cell_type": "markdown",
   "id": "69df9c9a",
   "metadata": {
    "papermill": {
     "duration": 0.039975,
     "end_time": "2022-07-11T20:12:21.868895",
     "exception": false,
     "start_time": "2022-07-11T20:12:21.828920",
     "status": "completed"
    },
    "tags": []
   },
   "source": [
    "## Preparing the Data"
   ]
  },
  {
   "cell_type": "code",
   "execution_count": 4,
   "id": "7f69d806",
   "metadata": {
    "execution": {
     "iopub.execute_input": "2022-07-11T20:12:21.956157Z",
     "iopub.status.busy": "2022-07-11T20:12:21.950121Z",
     "iopub.status.idle": "2022-07-11T20:12:21.968781Z",
     "shell.execute_reply": "2022-07-11T20:12:21.969403Z"
    },
    "papermill": {
     "duration": 0.061882,
     "end_time": "2022-07-11T20:12:21.969554",
     "exception": false,
     "start_time": "2022-07-11T20:12:21.907672",
     "status": "completed"
    },
    "tags": []
   },
   "outputs": [],
   "source": [
    "import mnist"
   ]
  },
  {
   "cell_type": "code",
   "execution_count": 5,
   "id": "a411e44f",
   "metadata": {
    "execution": {
     "iopub.execute_input": "2022-07-11T20:12:22.054919Z",
     "iopub.status.busy": "2022-07-11T20:12:22.050901Z",
     "iopub.status.idle": "2022-07-11T20:12:22.663257Z",
     "shell.execute_reply": "2022-07-11T20:12:22.662559Z"
    },
    "papermill": {
     "duration": 0.657099,
     "end_time": "2022-07-11T20:12:22.663404",
     "exception": false,
     "start_time": "2022-07-11T20:12:22.006305",
     "status": "completed"
    },
    "tags": []
   },
   "outputs": [],
   "source": [
    "train_images = mnist.train_images()\n",
    "train_labels = mnist.train_labels()"
   ]
  },
  {
   "cell_type": "code",
   "execution_count": 6,
   "id": "dceab3a5",
   "metadata": {
    "execution": {
     "iopub.execute_input": "2022-07-11T20:12:22.740291Z",
     "iopub.status.busy": "2022-07-11T20:12:22.739518Z",
     "iopub.status.idle": "2022-07-11T20:12:22.757744Z",
     "shell.execute_reply": "2022-07-11T20:12:22.758449Z"
    },
    "papermill": {
     "duration": 0.060461,
     "end_time": "2022-07-11T20:12:22.758602",
     "exception": false,
     "start_time": "2022-07-11T20:12:22.698141",
     "status": "completed"
    },
    "tags": []
   },
   "outputs": [
    {
     "data": {
      "text/plain": [
       "((60000, 28, 28), (60000,))"
      ]
     },
     "execution_count": 6,
     "metadata": {},
     "output_type": "execute_result"
    }
   ],
   "source": [
    "train_images.shape, train_labels.shape"
   ]
  },
  {
   "cell_type": "code",
   "execution_count": 7,
   "id": "f50dc2bb",
   "metadata": {
    "execution": {
     "iopub.execute_input": "2022-07-11T20:12:22.834651Z",
     "iopub.status.busy": "2022-07-11T20:12:22.833875Z",
     "iopub.status.idle": "2022-07-11T20:12:22.976175Z",
     "shell.execute_reply": "2022-07-11T20:12:22.976809Z"
    },
    "papermill": {
     "duration": 0.184594,
     "end_time": "2022-07-11T20:12:22.977008",
     "exception": false,
     "start_time": "2022-07-11T20:12:22.792414",
     "status": "completed"
    },
    "tags": []
   },
   "outputs": [],
   "source": [
    "test_images = mnist.test_images()\n",
    "test_labels = mnist.test_labels()"
   ]
  },
  {
   "cell_type": "code",
   "execution_count": 8,
   "id": "fc38cf1b",
   "metadata": {
    "execution": {
     "iopub.execute_input": "2022-07-11T20:12:23.069240Z",
     "iopub.status.busy": "2022-07-11T20:12:23.068059Z",
     "iopub.status.idle": "2022-07-11T20:12:23.085381Z",
     "shell.execute_reply": "2022-07-11T20:12:23.086147Z"
    },
    "papermill": {
     "duration": 0.065271,
     "end_time": "2022-07-11T20:12:23.086326",
     "exception": false,
     "start_time": "2022-07-11T20:12:23.021055",
     "status": "completed"
    },
    "tags": []
   },
   "outputs": [
    {
     "data": {
      "text/plain": [
       "((10000, 28, 28), (10000,))"
      ]
     },
     "execution_count": 8,
     "metadata": {},
     "output_type": "execute_result"
    }
   ],
   "source": [
    "test_images.shape, test_labels.shape"
   ]
  },
  {
   "cell_type": "code",
   "execution_count": 9,
   "id": "f9ed8fe0",
   "metadata": {
    "execution": {
     "iopub.execute_input": "2022-07-11T20:12:23.167427Z",
     "iopub.status.busy": "2022-07-11T20:12:23.166654Z",
     "iopub.status.idle": "2022-07-11T20:12:23.386117Z",
     "shell.execute_reply": "2022-07-11T20:12:23.385397Z"
    },
    "papermill": {
     "duration": 0.26064,
     "end_time": "2022-07-11T20:12:23.386268",
     "exception": false,
     "start_time": "2022-07-11T20:12:23.125628",
     "status": "completed"
    },
    "tags": []
   },
   "outputs": [
    {
     "name": "stdout",
     "output_type": "stream",
     "text": [
      "2\n"
     ]
    },
    {
     "data": {
      "text/plain": [
       "<matplotlib.image.AxesImage at 0x7f5214741400>"
      ]
     },
     "execution_count": 9,
     "metadata": {},
     "output_type": "execute_result"
    },
    {
     "data": {
      "image/png": "[encoded data removed]",
      "text/plain": [
       "<Figure size 432x288 with 1 Axes>"
      ]
     },
     "metadata": {
      "needs_background": "light"
     },
     "output_type": "display_data"
    }
   ],
   "source": [
    "image_index = 7776 # You may select anything up to 60,000\n",
    "print(train_labels[image_index]) \n",
    "plt.imshow(train_images[image_index], cmap='Greys')"
   ]
  },
  {
   "cell_type": "markdown",
   "id": "a8d2388d",
   "metadata": {
    "papermill": {
     "duration": 0.037263,
     "end_time": "2022-07-11T20:12:23.463949",
     "exception": false,
     "start_time": "2022-07-11T20:12:23.426686",
     "status": "completed"
    },
    "tags": []
   },
   "source": [
    "## Filter data to get 3 and 8 out"
   ]
  },
  {
   "cell_type": "code",
   "execution_count": 10,
   "id": "776f7fc7",
   "metadata": {
    "execution": {
     "iopub.execute_input": "2022-07-11T20:12:23.545993Z",
     "iopub.status.busy": "2022-07-11T20:12:23.544579Z",
     "iopub.status.idle": "2022-07-11T20:12:23.569505Z",
     "shell.execute_reply": "2022-07-11T20:12:23.568743Z"
    },
    "papermill": {
     "duration": 0.068363,
     "end_time": "2022-07-11T20:12:23.569656",
     "exception": false,
     "start_time": "2022-07-11T20:12:23.501293",
     "status": "completed"
    },
    "tags": []
   },
   "outputs": [],
   "source": [
    "train_filter = np.where((train_labels == 3 ) | (train_labels == 8))\n",
    "test_filter = np.where((test_labels == 3) | (test_labels == 8))\n",
    "X_train, y_train = train_images[train_filter], train_labels[train_filter]\n",
    "X_test, y_test = test_images[test_filter], test_labels[test_filter]"
   ]
  },
  {
   "cell_type": "markdown",
   "id": "948f0b7e",
   "metadata": {
    "papermill": {
     "duration": 0.05401,
     "end_time": "2022-07-11T20:12:23.663591",
     "exception": false,
     "start_time": "2022-07-11T20:12:23.609581",
     "status": "completed"
    },
    "tags": []
   },
   "source": [
    "We normalize the pizel values in the 0 to 1 range"
   ]
  },
  {
   "cell_type": "code",
   "execution_count": 11,
   "id": "ee4c2166",
   "metadata": {
    "execution": {
     "iopub.execute_input": "2022-07-11T20:12:23.770974Z",
     "iopub.status.busy": "2022-07-11T20:12:23.766341Z",
     "iopub.status.idle": "2022-07-11T20:12:23.838218Z",
     "shell.execute_reply": "2022-07-11T20:12:23.838877Z"
    },
    "papermill": {
     "duration": 0.126755,
     "end_time": "2022-07-11T20:12:23.839074",
     "exception": false,
     "start_time": "2022-07-11T20:12:23.712319",
     "status": "completed"
    },
    "tags": []
   },
   "outputs": [],
   "source": [
    "X_train = X_train/255.\n",
    "X_test = X_test/255."
   ]
  },
  {
   "cell_type": "markdown",
   "id": "ddcf4fab",
   "metadata": {
    "papermill": {
     "duration": 0.036955,
     "end_time": "2022-07-11T20:12:23.915776",
     "exception": false,
     "start_time": "2022-07-11T20:12:23.878821",
     "status": "completed"
    },
    "tags": []
   },
   "source": [
    "And setup the labels as 1 (when the digit is 3) and 0 (when the digit is 8)"
   ]
  },
  {
   "cell_type": "code",
   "execution_count": 12,
   "id": "7dc908f2",
   "metadata": {
    "execution": {
     "iopub.execute_input": "2022-07-11T20:12:23.995132Z",
     "iopub.status.busy": "2022-07-11T20:12:23.994150Z",
     "iopub.status.idle": "2022-07-11T20:12:24.009033Z",
     "shell.execute_reply": "2022-07-11T20:12:24.009834Z"
    },
    "papermill": {
     "duration": 0.058122,
     "end_time": "2022-07-11T20:12:24.010095",
     "exception": false,
     "start_time": "2022-07-11T20:12:23.951973",
     "status": "completed"
    },
    "tags": []
   },
   "outputs": [],
   "source": [
    "y_train = 1*(y_train==3)\n",
    "y_test = 1*(y_test==3)"
   ]
  },
  {
   "cell_type": "code",
   "execution_count": 13,
   "id": "01e4e969",
   "metadata": {
    "execution": {
     "iopub.execute_input": "2022-07-11T20:12:24.093276Z",
     "iopub.status.busy": "2022-07-11T20:12:24.092311Z",
     "iopub.status.idle": "2022-07-11T20:12:24.109721Z",
     "shell.execute_reply": "2022-07-11T20:12:24.108838Z"
    },
    "papermill": {
     "duration": 0.061794,
     "end_time": "2022-07-11T20:12:24.109937",
     "exception": false,
     "start_time": "2022-07-11T20:12:24.048143",
     "status": "completed"
    },
    "tags": []
   },
   "outputs": [
    {
     "data": {
      "text/plain": [
       "((11982, 28, 28), (1984, 28, 28))"
      ]
     },
     "execution_count": 13,
     "metadata": {},
     "output_type": "execute_result"
    }
   ],
   "source": [
    "X_train.shape, X_test.shape"
   ]
  },
  {
   "cell_type": "markdown",
   "id": "5ccf3f85",
   "metadata": {
    "papermill": {
     "duration": 0.036936,
     "end_time": "2022-07-11T20:12:24.189603",
     "exception": false,
     "start_time": "2022-07-11T20:12:24.152667",
     "status": "completed"
    },
    "tags": []
   },
   "source": [
    "We reshape the data to flatten the image pixels into a set of features or co-variates:"
   ]
  },
  {
   "cell_type": "code",
   "execution_count": 14,
   "id": "5286a4a3",
   "metadata": {
    "execution": {
     "iopub.execute_input": "2022-07-11T20:12:24.282827Z",
     "iopub.status.busy": "2022-07-11T20:12:24.278443Z",
     "iopub.status.idle": "2022-07-11T20:12:24.293973Z",
     "shell.execute_reply": "2022-07-11T20:12:24.293192Z"
    },
    "papermill": {
     "duration": 0.059452,
     "end_time": "2022-07-11T20:12:24.294111",
     "exception": false,
     "start_time": "2022-07-11T20:12:24.234659",
     "status": "completed"
    },
    "tags": []
   },
   "outputs": [
    {
     "data": {
      "text/plain": [
       "((11982, 784), (1984, 784))"
      ]
     },
     "execution_count": 14,
     "metadata": {},
     "output_type": "execute_result"
    }
   ],
   "source": [
    "X_train = X_train.reshape(X_train.shape[0], -1)\n",
    "X_test = X_test.reshape(X_test.shape[0], -1)\n",
    "X_train.shape, X_test.shape"
   ]
  },
  {
   "cell_type": "code",
   "execution_count": 15,
   "id": "73c5f88a",
   "metadata": {
    "execution": {
     "iopub.execute_input": "2022-07-11T20:12:24.374682Z",
     "iopub.status.busy": "2022-07-11T20:12:24.373536Z",
     "iopub.status.idle": "2022-07-11T20:12:24.397733Z",
     "shell.execute_reply": "2022-07-11T20:12:24.397106Z"
    },
    "papermill": {
     "duration": 0.066816,
     "end_time": "2022-07-11T20:12:24.397943",
     "exception": false,
     "start_time": "2022-07-11T20:12:24.331127",
     "status": "completed"
    },
    "tags": []
   },
   "outputs": [],
   "source": [
    "#Impoting functions from 'Kudzu'\n",
    "from kudzu.model import Model\n",
    "from kudzu.train import Learner\n",
    "from kudzu.optim import GD\n",
    "from kudzu.data import Data, Sampler,Dataloader\n",
    "\n",
    "from kudzu.callbacks import AccCallback\n",
    "from kudzu.callbacks import ClfCallback\n",
    "\n",
    "from kudzu.loss import MSE\n",
    "\n",
    "from kudzu.layer import Sigmoid,Relu\n",
    "from kudzu.layer import Affine"
   ]
  },
  {
   "cell_type": "markdown",
   "id": "bc01172a",
   "metadata": {
    "papermill": {
     "duration": 0.037398,
     "end_time": "2022-07-11T20:12:24.472099",
     "exception": false,
     "start_time": "2022-07-11T20:12:24.434701",
     "status": "completed"
    },
    "tags": []
   },
   "source": [
    "### Let us create a `Config` class, to store important parameters. \n",
    "This class essentially plays the role of a dictionary."
   ]
  },
  {
   "cell_type": "code",
   "execution_count": 16,
   "id": "978281aa",
   "metadata": {
    "execution": {
     "iopub.execute_input": "2022-07-11T20:12:24.552714Z",
     "iopub.status.busy": "2022-07-11T20:12:24.551907Z",
     "iopub.status.idle": "2022-07-11T20:12:24.567416Z",
     "shell.execute_reply": "2022-07-11T20:12:24.566708Z"
    },
    "papermill": {
     "duration": 0.058234,
     "end_time": "2022-07-11T20:12:24.567551",
     "exception": false,
     "start_time": "2022-07-11T20:12:24.509317",
     "status": "completed"
    },
    "tags": []
   },
   "outputs": [],
   "source": [
    "class Config:\n",
    "    pass\n",
    "config = Config()\n",
    "config.lr = 0.001\n",
    "config.num_epochs = 250\n",
    "config.bs = 50"
   ]
  },
  {
   "cell_type": "markdown",
   "id": "1385fa59",
   "metadata": {
    "papermill": {
     "duration": 0.038276,
     "end_time": "2022-07-11T20:12:24.644607",
     "exception": false,
     "start_time": "2022-07-11T20:12:24.606331",
     "status": "completed"
    },
    "tags": []
   },
   "source": [
    "### Running Models with the Training data\n",
    "Details about the network layers:\n",
    "- A first affine layer has 784 inputs and does 100 affine transforms. These are followed by a Relu\n",
    "- A second affine layer has 100 inputs from the 100 activations of the past layer, and does 100 affine transforms. These are followed by a Relu\n",
    "- A third affine layer has 100 activations and does 2 affine transformations to create an embedding for visualization. There is no non-linearity here.\n",
    "- A final \"logistic regression\" which has an affine transform from 2 inputs to 1 output, which is squeezed through a sigmoid.\n"
   ]
  },
  {
   "cell_type": "code",
   "execution_count": 17,
   "id": "2b9c66db",
   "metadata": {
    "execution": {
     "iopub.execute_input": "2022-07-11T20:12:24.729935Z",
     "iopub.status.busy": "2022-07-11T20:12:24.729075Z",
     "iopub.status.idle": "2022-07-11T20:12:24.744363Z",
     "shell.execute_reply": "2022-07-11T20:12:24.744982Z"
    },
    "papermill": {
     "duration": 0.061622,
     "end_time": "2022-07-11T20:12:24.745184",
     "exception": false,
     "start_time": "2022-07-11T20:12:24.683562",
     "status": "completed"
    },
    "tags": []
   },
   "outputs": [],
   "source": [
    "data = Data(X_train, y_train.reshape(-1,1))\n",
    "sampler = Sampler(data, config.bs, shuffle=True)\n",
    "\n",
    "dl = Dataloader(data, sampler)\n",
    "\n",
    "opt = GD(config.lr)\n",
    "loss = MSE()"
   ]
  },
  {
   "cell_type": "code",
   "execution_count": 18,
   "id": "b275e4c2",
   "metadata": {
    "execution": {
     "iopub.execute_input": "2022-07-11T20:12:24.822440Z",
     "iopub.status.busy": "2022-07-11T20:12:24.821394Z",
     "iopub.status.idle": "2022-07-11T20:12:24.839418Z",
     "shell.execute_reply": "2022-07-11T20:12:24.838258Z"
    },
    "papermill": {
     "duration": 0.058253,
     "end_time": "2022-07-11T20:12:24.839677",
     "exception": false,
     "start_time": "2022-07-11T20:12:24.781424",
     "status": "completed"
    },
    "tags": []
   },
   "outputs": [],
   "source": [
    "training_data_x = X_train\n",
    "testing_data_x = X_test\n",
    "training_data_y = y_train.reshape(-1,1)\n",
    "testing_data_y = y_test.reshape(-1,1)"
   ]
  },
  {
   "cell_type": "code",
   "execution_count": 19,
   "id": "76951160",
   "metadata": {
    "execution": {
     "iopub.execute_input": "2022-07-11T20:12:24.927795Z",
     "iopub.status.busy": "2022-07-11T20:12:24.926887Z",
     "iopub.status.idle": "2022-07-11T20:12:24.946664Z",
     "shell.execute_reply": "2022-07-11T20:12:24.946055Z"
    },
    "papermill": {
     "duration": 0.066801,
     "end_time": "2022-07-11T20:12:24.946801",
     "exception": false,
     "start_time": "2022-07-11T20:12:24.880000",
     "status": "completed"
    },
    "tags": []
   },
   "outputs": [
    {
     "name": "stdout",
     "output_type": "stream",
     "text": [
      "xavier\n",
      "xavier\n",
      "xavier\n",
      "xavier\n",
      "xavier\n"
     ]
    }
   ],
   "source": [
    "layers = [Affine(\"first\", 784, 100), Relu(\"first\"), Affine(\"second\", 100, 100), Relu(\"second\"), Affine(\"third\", 100, 2), Affine(\"last\", 2, 1), Sigmoid(\"last\")]\n",
    "model_nn = Model(layers)\n",
    "model_lr = Model([Affine(\"logits\", 784, 1), Sigmoid(\"sigmoid\")])"
   ]
  },
  {
   "cell_type": "code",
   "execution_count": 20,
   "id": "6eede77a",
   "metadata": {
    "execution": {
     "iopub.execute_input": "2022-07-11T20:12:25.040668Z",
     "iopub.status.busy": "2022-07-11T20:12:25.039595Z",
     "iopub.status.idle": "2022-07-11T20:12:25.055163Z",
     "shell.execute_reply": "2022-07-11T20:12:25.056281Z"
    },
    "papermill": {
     "duration": 0.067423,
     "end_time": "2022-07-11T20:12:25.056458",
     "exception": false,
     "start_time": "2022-07-11T20:12:24.989035",
     "status": "completed"
    },
    "tags": []
   },
   "outputs": [],
   "source": [
    "nn_learner = Learner(loss, model_nn, opt, config.num_epochs)\n",
    "acc_nn = ClfCallback(nn_learner, config.bs, training_data_x , testing_data_x, training_data_y, testing_data_y)\n",
    "nn_learner.set_callbacks([acc_nn])"
   ]
  },
  {
   "cell_type": "code",
   "execution_count": 21,
   "id": "877b6cc7",
   "metadata": {
    "execution": {
     "iopub.execute_input": "2022-07-11T20:12:25.148289Z",
     "iopub.status.busy": "2022-07-11T20:12:25.147515Z",
     "iopub.status.idle": "2022-07-11T20:12:25.163393Z",
     "shell.execute_reply": "2022-07-11T20:12:25.162787Z"
    },
    "papermill": {
     "duration": 0.059758,
     "end_time": "2022-07-11T20:12:25.163530",
     "exception": false,
     "start_time": "2022-07-11T20:12:25.103772",
     "status": "completed"
    },
    "tags": []
   },
   "outputs": [],
   "source": [
    "lr_learner = Learner(loss, model_lr, opt, config.num_epochs)\n",
    "acc_lr = ClfCallback(lr_learner, config.bs, training_data_x , testing_data_x, training_data_y, testing_data_y)\n",
    "lr_learner.set_callbacks([acc_lr])"
   ]
  },
  {
   "cell_type": "code",
   "execution_count": 22,
   "id": "d9b133c3",
   "metadata": {
    "execution": {
     "iopub.execute_input": "2022-07-11T20:12:25.248016Z",
     "iopub.status.busy": "2022-07-11T20:12:25.247141Z",
     "iopub.status.idle": "2022-07-11T20:14:57.981216Z",
     "shell.execute_reply": "2022-07-11T20:14:57.982266Z"
    },
    "papermill": {
     "duration": 152.779714,
     "end_time": "2022-07-11T20:14:57.982437",
     "exception": false,
     "start_time": "2022-07-11T20:12:25.202723",
     "status": "completed"
    },
    "tags": []
   },
   "outputs": [
    {
     "name": "stdout",
     "output_type": "stream",
     "text": [
      "Epoch 0, Loss 0.2518\n",
      "Training Accuracy: 0.5232, Testing Accuracy: 0.5348\n",
      "\n"
     ]
    },
    {
     "name": "stdout",
     "output_type": "stream",
     "text": [
      "Epoch 10, Loss 0.1063\n",
      "Training Accuracy: 0.8983, Testing Accuracy: 0.9088\n",
      "\n"
     ]
    },
    {
     "name": "stdout",
     "output_type": "stream",
     "text": [
      "Epoch 20, Loss 0.0621\n",
      "Training Accuracy: 0.9355, Testing Accuracy: 0.9486\n",
      "\n"
     ]
    },
    {
     "name": "stdout",
     "output_type": "stream",
     "text": [
      "Epoch 30, Loss 0.0476\n",
      "Training Accuracy: 0.9465, Testing Accuracy: 0.9612\n",
      "\n"
     ]
    },
    {
     "name": "stdout",
     "output_type": "stream",
     "text": [
      "Epoch 40, Loss 0.0407\n",
      "Training Accuracy: 0.9528, Testing Accuracy: 0.9652\n",
      "\n"
     ]
    },
    {
     "name": "stdout",
     "output_type": "stream",
     "text": [
      "Epoch 50, Loss 0.0367\n",
      "Training Accuracy: 0.9574, Testing Accuracy: 0.9657\n",
      "\n"
     ]
    },
    {
     "name": "stdout",
     "output_type": "stream",
     "text": [
      "Epoch 60, Loss 0.034\n",
      "Training Accuracy: 0.9600, Testing Accuracy: 0.9667\n",
      "\n"
     ]
    },
    {
     "name": "stdout",
     "output_type": "stream",
     "text": [
      "Epoch 70, Loss 0.032\n",
      "Training Accuracy: 0.9623, Testing Accuracy: 0.9667\n",
      "\n"
     ]
    },
    {
     "name": "stdout",
     "output_type": "stream",
     "text": [
      "Epoch 80, Loss 0.0305\n",
      "Training Accuracy: 0.9642, Testing Accuracy: 0.9698\n",
      "\n"
     ]
    },
    {
     "name": "stdout",
     "output_type": "stream",
     "text": [
      "Epoch 90, Loss 0.0292\n",
      "Training Accuracy: 0.9649, Testing Accuracy: 0.9698\n",
      "\n"
     ]
    },
    {
     "name": "stdout",
     "output_type": "stream",
     "text": [
      "Epoch 100, Loss 0.0282\n",
      "Training Accuracy: 0.9659, Testing Accuracy: 0.9713\n",
      "\n"
     ]
    },
    {
     "name": "stdout",
     "output_type": "stream",
     "text": [
      "Epoch 110, Loss 0.0273\n",
      "Training Accuracy: 0.9675, Testing Accuracy: 0.9718\n",
      "\n"
     ]
    },
    {
     "name": "stdout",
     "output_type": "stream",
     "text": [
      "Epoch 120, Loss 0.0265\n",
      "Training Accuracy: 0.9684, Testing Accuracy: 0.9723\n",
      "\n"
     ]
    },
    {
     "name": "stdout",
     "output_type": "stream",
     "text": [
      "Epoch 130, Loss 0.0257\n",
      "Training Accuracy: 0.9691, Testing Accuracy: 0.9728\n",
      "\n"
     ]
    },
    {
     "name": "stdout",
     "output_type": "stream",
     "text": [
      "Epoch 140, Loss 0.0251\n",
      "Training Accuracy: 0.9705, Testing Accuracy: 0.9723\n",
      "\n"
     ]
    },
    {
     "name": "stdout",
     "output_type": "stream",
     "text": [
      "Epoch 150, Loss 0.0245\n",
      "Training Accuracy: 0.9708, Testing Accuracy: 0.9713\n",
      "\n"
     ]
    },
    {
     "name": "stdout",
     "output_type": "stream",
     "text": [
      "Epoch 160, Loss 0.0239\n",
      "Training Accuracy: 0.9722, Testing Accuracy: 0.9718\n",
      "\n"
     ]
    },
    {
     "name": "stdout",
     "output_type": "stream",
     "text": [
      "Epoch 170, Loss 0.0234\n",
      "Training Accuracy: 0.9725, Testing Accuracy: 0.9718\n",
      "\n"
     ]
    },
    {
     "name": "stdout",
     "output_type": "stream",
     "text": [
      "Epoch 180, Loss 0.0229\n",
      "Training Accuracy: 0.9732, Testing Accuracy: 0.9718\n",
      "\n"
     ]
    },
    {
     "name": "stdout",
     "output_type": "stream",
     "text": [
      "Epoch 190, Loss 0.0225\n",
      "Training Accuracy: 0.9742, Testing Accuracy: 0.9713\n",
      "\n"
     ]
    },
    {
     "name": "stdout",
     "output_type": "stream",
     "text": [
      "Epoch 200, Loss 0.0221\n",
      "Training Accuracy: 0.9750, Testing Accuracy: 0.9718\n",
      "\n"
     ]
    },
    {
     "name": "stdout",
     "output_type": "stream",
     "text": [
      "Epoch 210, Loss 0.0216\n",
      "Training Accuracy: 0.9754, Testing Accuracy: 0.9718\n",
      "\n"
     ]
    },
    {
     "name": "stdout",
     "output_type": "stream",
     "text": [
      "Epoch 220, Loss 0.0213\n",
      "Training Accuracy: 0.9760, Testing Accuracy: 0.9718\n",
      "\n"
     ]
    },
    {
     "name": "stdout",
     "output_type": "stream",
     "text": [
      "Epoch 230, Loss 0.0209\n",
      "Training Accuracy: 0.9761, Testing Accuracy: 0.9718\n",
      "\n"
     ]
    },
    {
     "name": "stdout",
     "output_type": "stream",
     "text": [
      "Epoch 240, Loss 0.0205\n",
      "Training Accuracy: 0.9768, Testing Accuracy: 0.9723\n",
      "\n"
     ]
    },
    {
     "data": {
      "text/plain": [
       "0.015605661288125874"
      ]
     },
     "execution_count": 22,
     "metadata": {},
     "output_type": "execute_result"
    }
   ],
   "source": [
    "nn_learner.train_loop(dl)"
   ]
  },
  {
   "cell_type": "code",
   "execution_count": 23,
   "id": "e0163366",
   "metadata": {
    "execution": {
     "iopub.execute_input": "2022-07-11T20:14:58.091886Z",
     "iopub.status.busy": "2022-07-11T20:14:58.091004Z",
     "iopub.status.idle": "2022-07-11T20:15:19.976869Z",
     "shell.execute_reply": "2022-07-11T20:15:19.978164Z"
    },
    "papermill": {
     "duration": 21.946055,
     "end_time": "2022-07-11T20:15:19.978345",
     "exception": false,
     "start_time": "2022-07-11T20:14:58.032290",
     "status": "completed"
    },
    "tags": []
   },
   "outputs": [
    {
     "name": "stdout",
     "output_type": "stream",
     "text": [
      "Epoch 0, Loss 0.2433\n",
      "Training Accuracy: 0.6967, Testing Accuracy: 0.7006\n",
      "\n"
     ]
    },
    {
     "name": "stdout",
     "output_type": "stream",
     "text": [
      "Epoch 10, Loss 0.1035\n",
      "Training Accuracy: 0.9079, Testing Accuracy: 0.9178\n",
      "\n"
     ]
    },
    {
     "name": "stdout",
     "output_type": "stream",
     "text": [
      "Epoch 20, Loss 0.0799\n",
      "Training Accuracy: 0.9255, Testing Accuracy: 0.9335\n",
      "\n"
     ]
    },
    {
     "name": "stdout",
     "output_type": "stream",
     "text": [
      "Epoch 30, Loss 0.0689\n",
      "Training Accuracy: 0.9348, Testing Accuracy: 0.9466\n",
      "\n"
     ]
    },
    {
     "name": "stdout",
     "output_type": "stream",
     "text": [
      "Epoch 40, Loss 0.0622\n",
      "Training Accuracy: 0.9404, Testing Accuracy: 0.9501\n",
      "\n"
     ]
    },
    {
     "name": "stdout",
     "output_type": "stream",
     "text": [
      "Epoch 50, Loss 0.0576\n",
      "Training Accuracy: 0.9437, Testing Accuracy: 0.9516\n",
      "\n"
     ]
    },
    {
     "name": "stdout",
     "output_type": "stream",
     "text": [
      "Epoch 60, Loss 0.0543\n",
      "Training Accuracy: 0.9466, Testing Accuracy: 0.9541\n",
      "\n"
     ]
    },
    {
     "name": "stdout",
     "output_type": "stream",
     "text": [
      "Epoch 70, Loss 0.0517\n",
      "Training Accuracy: 0.9484, Testing Accuracy: 0.9556\n",
      "\n"
     ]
    },
    {
     "name": "stdout",
     "output_type": "stream",
     "text": [
      "Epoch 80, Loss 0.0496\n",
      "Training Accuracy: 0.9500, Testing Accuracy: 0.9582\n",
      "\n"
     ]
    },
    {
     "name": "stdout",
     "output_type": "stream",
     "text": [
      "Epoch 90, Loss 0.0479\n",
      "Training Accuracy: 0.9508, Testing Accuracy: 0.9587\n",
      "\n"
     ]
    },
    {
     "name": "stdout",
     "output_type": "stream",
     "text": [
      "Epoch 100, Loss 0.0464\n",
      "Training Accuracy: 0.9519, Testing Accuracy: 0.9602\n",
      "\n"
     ]
    },
    {
     "name": "stdout",
     "output_type": "stream",
     "text": [
      "Epoch 110, Loss 0.0452\n",
      "Training Accuracy: 0.9533, Testing Accuracy: 0.9612\n",
      "\n"
     ]
    },
    {
     "name": "stdout",
     "output_type": "stream",
     "text": [
      "Epoch 120, Loss 0.0441\n",
      "Training Accuracy: 0.9541, Testing Accuracy: 0.9627\n",
      "\n"
     ]
    },
    {
     "name": "stdout",
     "output_type": "stream",
     "text": [
      "Epoch 130, Loss 0.0432\n",
      "Training Accuracy: 0.9548, Testing Accuracy: 0.9622\n",
      "\n"
     ]
    },
    {
     "name": "stdout",
     "output_type": "stream",
     "text": [
      "Epoch 140, Loss 0.0423\n",
      "Training Accuracy: 0.9558, Testing Accuracy: 0.9627\n",
      "\n"
     ]
    },
    {
     "name": "stdout",
     "output_type": "stream",
     "text": [
      "Epoch 150, Loss 0.0416\n",
      "Training Accuracy: 0.9566, Testing Accuracy: 0.9632\n",
      "\n"
     ]
    },
    {
     "name": "stdout",
     "output_type": "stream",
     "text": [
      "Epoch 160, Loss 0.0409\n",
      "Training Accuracy: 0.9569, Testing Accuracy: 0.9632\n",
      "\n"
     ]
    },
    {
     "name": "stdout",
     "output_type": "stream",
     "text": [
      "Epoch 170, Loss 0.0403\n",
      "Training Accuracy: 0.9573, Testing Accuracy: 0.9642\n",
      "\n"
     ]
    },
    {
     "name": "stdout",
     "output_type": "stream",
     "text": [
      "Epoch 180, Loss 0.0397\n",
      "Training Accuracy: 0.9577, Testing Accuracy: 0.9642\n",
      "\n"
     ]
    },
    {
     "name": "stdout",
     "output_type": "stream",
     "text": [
      "Epoch 190, Loss 0.0392\n",
      "Training Accuracy: 0.9581, Testing Accuracy: 0.9652\n",
      "\n"
     ]
    },
    {
     "name": "stdout",
     "output_type": "stream",
     "text": [
      "Epoch 200, Loss 0.0387\n",
      "Training Accuracy: 0.9586, Testing Accuracy: 0.9657\n",
      "\n"
     ]
    },
    {
     "name": "stdout",
     "output_type": "stream",
     "text": [
      "Epoch 210, Loss 0.0383\n",
      "Training Accuracy: 0.9589, Testing Accuracy: 0.9672\n",
      "\n"
     ]
    },
    {
     "name": "stdout",
     "output_type": "stream",
     "text": [
      "Epoch 220, Loss 0.0378\n",
      "Training Accuracy: 0.9594, Testing Accuracy: 0.9667\n",
      "\n"
     ]
    },
    {
     "name": "stdout",
     "output_type": "stream",
     "text": [
      "Epoch 230, Loss 0.0374\n",
      "Training Accuracy: 0.9598, Testing Accuracy: 0.9667\n",
      "\n"
     ]
    },
    {
     "name": "stdout",
     "output_type": "stream",
     "text": [
      "Epoch 240, Loss 0.0371\n",
      "Training Accuracy: 0.9604, Testing Accuracy: 0.9672\n",
      "\n"
     ]
    },
    {
     "data": {
      "text/plain": [
       "0.05346540826418662"
      ]
     },
     "execution_count": 23,
     "metadata": {},
     "output_type": "execute_result"
    }
   ],
   "source": [
    "lr_learner.train_loop(dl)"
   ]
  },
  {
   "cell_type": "code",
   "execution_count": 24,
   "id": "ca410940",
   "metadata": {
    "execution": {
     "iopub.execute_input": "2022-07-11T20:15:20.111247Z",
     "iopub.status.busy": "2022-07-11T20:15:20.110433Z",
     "iopub.status.idle": "2022-07-11T20:15:20.426199Z",
     "shell.execute_reply": "2022-07-11T20:15:20.424993Z"
    },
    "papermill": {
     "duration": 0.386711,
     "end_time": "2022-07-11T20:15:20.426345",
     "exception": false,
     "start_time": "2022-07-11T20:15:20.039634",
     "status": "completed"
    },
    "tags": []
   },
   "outputs": [
    {
     "data": {
      "text/plain": [
       "<matplotlib.legend.Legend at 0x7f52142a0ac8>"
      ]
     },
     "execution_count": 24,
     "metadata": {},
     "output_type": "execute_result"
    },
    {
     "data": {
      "image/png": "[encoded data removed]",
      "text/plain": [
       "<Figure size 1080x720 with 1 Axes>"
      ]
     },
     "metadata": {
      "needs_background": "light"
     },
     "output_type": "display_data"
    }
   ],
   "source": [
    "#comparing the results of NN and LR\n",
    "plt.figure(figsize=(15,10))\n",
    "\n",
    "# Neural Network plots\n",
    "plt.plot(acc_nn.accuracies, 'r-', label = \"Training Accuracies - NN\")\n",
    "plt.plot(acc_nn.test_accuracies, 'g-', label = \"Testing Accuracies - NN\")\n",
    "\n",
    "# Logistic Regression plots\n",
    "plt.plot(acc_lr.accuracies, 'k-', label = \"Training Accuracies - LR\")\n",
    "plt.plot(acc_lr.test_accuracies, 'b-', label = \"Testing Accuracies - LR\")\n",
    "plt.legend()"
   ]
  },
  {
   "cell_type": "markdown",
   "id": "80dfb35c",
   "metadata": {
    "papermill": {
     "duration": 0.057132,
     "end_time": "2022-07-11T20:15:20.542954",
     "exception": false,
     "start_time": "2022-07-11T20:15:20.485822",
     "status": "completed"
    },
    "tags": []
   },
   "source": [
    "#### Plotting the outputs of this layer of the NN.\n"
   ]
  },
  {
   "cell_type": "code",
   "execution_count": 25,
   "id": "45eb2ff5",
   "metadata": {
    "execution": {
     "iopub.execute_input": "2022-07-11T20:15:20.664514Z",
     "iopub.status.busy": "2022-07-11T20:15:20.663804Z",
     "iopub.status.idle": "2022-07-11T20:15:20.695059Z",
     "shell.execute_reply": "2022-07-11T20:15:20.694393Z"
    },
    "papermill": {
     "duration": 0.094989,
     "end_time": "2022-07-11T20:15:20.695256",
     "exception": false,
     "start_time": "2022-07-11T20:15:20.600267",
     "status": "completed"
    },
    "tags": []
   },
   "outputs": [],
   "source": [
    "new_model = Model(layers[:-2])\n",
    "testing_plot = new_model(testing_data_x)"
   ]
  },
  {
   "cell_type": "code",
   "execution_count": 26,
   "id": "4c0a5485",
   "metadata": {
    "execution": {
     "iopub.execute_input": "2022-07-11T20:15:20.815638Z",
     "iopub.status.busy": "2022-07-11T20:15:20.814884Z",
     "iopub.status.idle": "2022-07-11T20:15:21.128625Z",
     "shell.execute_reply": "2022-07-11T20:15:21.127975Z"
    },
    "papermill": {
     "duration": 0.376196,
     "end_time": "2022-07-11T20:15:21.128777",
     "exception": false,
     "start_time": "2022-07-11T20:15:20.752581",
     "status": "completed"
    },
    "tags": []
   },
   "outputs": [
    {
     "data": {
      "text/plain": [
       "Text(0.5, 1.0, 'Outputs')"
      ]
     },
     "execution_count": 26,
     "metadata": {},
     "output_type": "execute_result"
    },
    {
     "data": {
      "image/png": "[encoded data removed]",
      "text/plain": [
       "<Figure size 576x504 with 1 Axes>"
      ]
     },
     "metadata": {
      "needs_background": "light"
     },
     "output_type": "display_data"
    }
   ],
   "source": [
    "# Plotting the scatter plot of points and color coding by class\n",
    "plt.figure(figsize=(8,7))\n",
    "plt.scatter(testing_plot[:,0], testing_plot[:,1], alpha = 0.1, c = y_test.ravel());\n",
    "plt.title('Outputs')"
   ]
  },
  {
   "cell_type": "markdown",
   "id": "a74fcf8f",
   "metadata": {
    "papermill": {
     "duration": 0.067718,
     "end_time": "2022-07-11T20:15:21.292460",
     "exception": false,
     "start_time": "2022-07-11T20:15:21.224742",
     "status": "completed"
    },
    "tags": []
   },
   "source": [
    "Probability contours"
   ]
  },
  {
   "cell_type": "code",
   "execution_count": 27,
   "id": "d0afc8e3",
   "metadata": {
    "execution": {
     "iopub.execute_input": "2022-07-11T20:15:21.432810Z",
     "iopub.status.busy": "2022-07-11T20:15:21.431914Z",
     "iopub.status.idle": "2022-07-11T20:15:21.452098Z",
     "shell.execute_reply": "2022-07-11T20:15:21.452918Z"
    },
    "papermill": {
     "duration": 0.099009,
     "end_time": "2022-07-11T20:15:21.453092",
     "exception": false,
     "start_time": "2022-07-11T20:15:21.354083",
     "status": "completed"
    },
    "tags": []
   },
   "outputs": [],
   "source": [
    "model_prob = Model(layers[-2:]) "
   ]
  },
  {
   "cell_type": "code",
   "execution_count": 28,
   "id": "9b96e238",
   "metadata": {
    "execution": {
     "iopub.execute_input": "2022-07-11T20:15:21.589062Z",
     "iopub.status.busy": "2022-07-11T20:15:21.588377Z",
     "iopub.status.idle": "2022-07-11T20:15:21.604432Z",
     "shell.execute_reply": "2022-07-11T20:15:21.604958Z"
    },
    "papermill": {
     "duration": 0.082807,
     "end_time": "2022-07-11T20:15:21.605111",
     "exception": false,
     "start_time": "2022-07-11T20:15:21.522304",
     "status": "completed"
    },
    "tags": []
   },
   "outputs": [],
   "source": [
    "#creating the x and y ranges according to the above generated plot.\n",
    "x_range = np.linspace(-4, 1, 100) \n",
    "y_range = np.linspace(-6, 6, 100) \n",
    "x_grid, y_grid = np.meshgrid(x_range, y_range) # x_grid and y_grig are of size 100 X 100\n",
    "\n",
    "# converting x_grid and y_grid to continuous arrays\n",
    "x_gridflat = np.ravel(x_grid)\n",
    "y_gridflat = np.ravel(y_grid)\n",
    "\n",
    "# The last layer of the current model takes two columns as input. Hence transpose of np.vstack() is required.\n",
    "X = np.vstack((x_gridflat, y_gridflat)).T\n",
    "\n",
    "prob_contour = model_prob(X).reshape(100,100) "
   ]
  },
  {
   "cell_type": "code",
   "execution_count": 29,
   "id": "da72499a",
   "metadata": {
    "execution": {
     "iopub.execute_input": "2022-07-11T20:15:21.737453Z",
     "iopub.status.busy": "2022-07-11T20:15:21.736510Z",
     "iopub.status.idle": "2022-07-11T20:15:22.106492Z",
     "shell.execute_reply": "2022-07-11T20:15:22.105623Z"
    },
    "papermill": {
     "duration": 0.435862,
     "end_time": "2022-07-11T20:15:22.106762",
     "exception": false,
     "start_time": "2022-07-11T20:15:21.670900",
     "status": "completed"
    },
    "tags": []
   },
   "outputs": [
    {
     "data": {
      "image/png": "[encoded data removed]",
      "text/plain": [
       "<Figure size 720x648 with 1 Axes>"
      ]
     },
     "metadata": {
      "needs_background": "light"
     },
     "output_type": "display_data"
    }
   ],
   "source": [
    "plt.figure(figsize=(10,9))\n",
    "plt.scatter(testing_plot[:,0], testing_plot[:,1], alpha = 0.1, c = y_test.ravel())\n",
    "contours = plt.contour(x_grid,y_grid,prob_contour)\n",
    "plt.title('Probability Contours')\n",
    "plt.clabel(contours, inline = True );"
   ]
  },
  {
   "cell_type": "code",
   "execution_count": null,
   "id": "e81b4ac7",
   "metadata": {
    "papermill": {
     "duration": 0.069498,
     "end_time": "2022-07-11T20:15:22.246179",
     "exception": false,
     "start_time": "2022-07-11T20:15:22.176681",
     "status": "completed"
    },
    "tags": []
   },
   "outputs": [],
   "source": []
  }
 ],
 "metadata": {
  "kernelspec": {
   "display_name": "Python 3",
   "language": "python",
   "name": "python3"
  },
  "language_info": {
   "codemirror_mode": {
    "name": "ipython",
    "version": 3
   },
   "file_extension": ".py",
   "mimetype": "text/x-python",
   "name": "python",
   "nbconvert_exporter": "python",
   "pygments_lexer": "ipython3",
   "version": "3.6.15"
  },
  "papermill": {
   "default_parameters": {},
   "duration": 185.662885,
   "end_time": "2022-07-11T20:15:22.739787",
   "environment_variables": {},
   "exception": null,
   "input_path": "2020-08-11-part2.ipynb",
   "output_path": "2020-08-11-part2.ipynb",
   "parameters": {},
   "start_time": "2022-07-11T20:12:17.076902",
   "version": "2.3.3"
  }
 },
 "nbformat": 4,
 "nbformat_minor": 5
}