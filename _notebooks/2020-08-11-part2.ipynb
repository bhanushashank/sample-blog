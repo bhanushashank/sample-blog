{
 "cells": [
  {
   "cell_type": "markdown",
   "id": "98380cd3",
   "metadata": {
    "papermill": {
     "duration": 0.03017,
     "end_time": "2022-08-17T20:10:25.459443",
     "exception": false,
     "start_time": "2022-08-17T20:10:25.429273",
     "status": "completed"
    },
    "tags": []
   },
   "source": [
    "# Distinguish Your Own Digits (DYOD)"
   ]
  },
  {
   "cell_type": "markdown",
   "id": "ef31240d",
   "metadata": {
    "papermill": {
     "duration": 0.023773,
     "end_time": "2022-08-17T20:10:25.505556",
     "exception": false,
     "start_time": "2022-08-17T20:10:25.481783",
     "status": "completed"
    },
    "tags": []
   },
   "source": [
    "You are going to write a classifier that distinguishes between the number 3 and number 8."
   ]
  },
  {
   "cell_type": "code",
   "execution_count": 1,
   "id": "b15c8646",
   "metadata": {
    "execution": {
     "iopub.execute_input": "2022-08-17T20:10:25.563467Z",
     "iopub.status.busy": "2022-08-17T20:10:25.558004Z",
     "iopub.status.idle": "2022-08-17T20:10:25.574140Z",
     "shell.execute_reply": "2022-08-17T20:10:25.573734Z"
    },
    "papermill": {
     "duration": 0.04726,
     "end_time": "2022-08-17T20:10:25.574240",
     "exception": false,
     "start_time": "2022-08-17T20:10:25.526980",
     "status": "completed"
    },
    "tags": []
   },
   "outputs": [],
   "source": [
    "%load_ext autoreload\n",
    "%autoreload 2"
   ]
  },
  {
   "cell_type": "code",
   "execution_count": 2,
   "id": "22ef38dc",
   "metadata": {
    "execution": {
     "iopub.execute_input": "2022-08-17T20:10:25.622060Z",
     "iopub.status.busy": "2022-08-17T20:10:25.621436Z",
     "iopub.status.idle": "2022-08-17T20:10:26.117979Z",
     "shell.execute_reply": "2022-08-17T20:10:26.118568Z"
    },
    "papermill": {
     "duration": 0.522903,
     "end_time": "2022-08-17T20:10:26.118730",
     "exception": false,
     "start_time": "2022-08-17T20:10:25.595827",
     "status": "completed"
    },
    "tags": []
   },
   "outputs": [],
   "source": [
    "%matplotlib inline\n",
    "import numpy as np\n",
    "import matplotlib.pyplot as plt\n",
    "import pandas as pd"
   ]
  },
  {
   "cell_type": "markdown",
   "id": "ba036198",
   "metadata": {
    "papermill": {
     "duration": 0.021486,
     "end_time": "2022-08-17T20:10:26.160100",
     "exception": false,
     "start_time": "2022-08-17T20:10:26.138614",
     "status": "completed"
    },
    "tags": []
   },
   "source": [
    "From the command line run `pip install mnist`. This is a library that will help you bring down the mnist dataset. If you run this from a notebook, you need to put  `!pip install mnist` in a cell by itself."
   ]
  },
  {
   "cell_type": "code",
   "execution_count": 3,
   "id": "bb6ad8a1",
   "metadata": {
    "execution": {
     "iopub.execute_input": "2022-08-17T20:10:26.208987Z",
     "iopub.status.busy": "2022-08-17T20:10:26.208328Z",
     "iopub.status.idle": "2022-08-17T20:10:27.755543Z",
     "shell.execute_reply": "2022-08-17T20:10:27.754759Z"
    },
    "papermill": {
     "duration": 1.57346,
     "end_time": "2022-08-17T20:10:27.755713",
     "exception": false,
     "start_time": "2022-08-17T20:10:26.182253",
     "status": "completed"
    },
    "tags": []
   },
   "outputs": [
    {
     "name": "stdout",
     "output_type": "stream",
     "text": [
      "Collecting mnist\r\n"
     ]
    },
    {
     "name": "stdout",
     "output_type": "stream",
     "text": [
      "  Downloading mnist-0.2.2-py2.py3-none-any.whl (3.5 kB)\r\n",
      "Requirement already satisfied: numpy in /opt/hostedtoolcache/Python/3.6.15/x64/lib/python3.6/site-packages (from mnist) (1.19.5)\r\n"
     ]
    },
    {
     "name": "stdout",
     "output_type": "stream",
     "text": [
      "Installing collected packages: mnist\r\n",
      "Successfully installed mnist-0.2.2\r\n"
     ]
    }
   ],
   "source": [
    "!pip install mnist"
   ]
  },
  {
   "cell_type": "markdown",
   "id": "69df9c9a",
   "metadata": {
    "papermill": {
     "duration": 0.022232,
     "end_time": "2022-08-17T20:10:27.802303",
     "exception": false,
     "start_time": "2022-08-17T20:10:27.780071",
     "status": "completed"
    },
    "tags": []
   },
   "source": [
    "## Preparing the Data"
   ]
  },
  {
   "cell_type": "code",
   "execution_count": 4,
   "id": "7f69d806",
   "metadata": {
    "execution": {
     "iopub.execute_input": "2022-08-17T20:10:27.853823Z",
     "iopub.status.busy": "2022-08-17T20:10:27.853151Z",
     "iopub.status.idle": "2022-08-17T20:10:27.866880Z",
     "shell.execute_reply": "2022-08-17T20:10:27.866428Z"
    },
    "papermill": {
     "duration": 0.040053,
     "end_time": "2022-08-17T20:10:27.866970",
     "exception": false,
     "start_time": "2022-08-17T20:10:27.826917",
     "status": "completed"
    },
    "tags": []
   },
   "outputs": [],
   "source": [
    "import mnist"
   ]
  },
  {
   "cell_type": "code",
   "execution_count": 5,
   "id": "a411e44f",
   "metadata": {
    "execution": {
     "iopub.execute_input": "2022-08-17T20:10:27.915355Z",
     "iopub.status.busy": "2022-08-17T20:10:27.914680Z",
     "iopub.status.idle": "2022-08-17T20:10:28.573839Z",
     "shell.execute_reply": "2022-08-17T20:10:28.573197Z"
    },
    "papermill": {
     "duration": 0.685083,
     "end_time": "2022-08-17T20:10:28.573974",
     "exception": false,
     "start_time": "2022-08-17T20:10:27.888891",
     "status": "completed"
    },
    "tags": []
   },
   "outputs": [],
   "source": [
    "train_images = mnist.train_images()\n",
    "train_labels = mnist.train_labels()"
   ]
  },
  {
   "cell_type": "code",
   "execution_count": 6,
   "id": "dceab3a5",
   "metadata": {
    "execution": {
     "iopub.execute_input": "2022-08-17T20:10:28.625370Z",
     "iopub.status.busy": "2022-08-17T20:10:28.624872Z",
     "iopub.status.idle": "2022-08-17T20:10:28.639715Z",
     "shell.execute_reply": "2022-08-17T20:10:28.640160Z"
    },
    "papermill": {
     "duration": 0.04293,
     "end_time": "2022-08-17T20:10:28.640262",
     "exception": false,
     "start_time": "2022-08-17T20:10:28.597332",
     "status": "completed"
    },
    "tags": []
   },
   "outputs": [
    {
     "data": {
      "text/plain": [
       "((60000, 28, 28), (60000,))"
      ]
     },
     "execution_count": 6,
     "metadata": {},
     "output_type": "execute_result"
    }
   ],
   "source": [
    "train_images.shape, train_labels.shape"
   ]
  },
  {
   "cell_type": "code",
   "execution_count": 7,
   "id": "f50dc2bb",
   "metadata": {
    "execution": {
     "iopub.execute_input": "2022-08-17T20:10:28.687257Z",
     "iopub.status.busy": "2022-08-17T20:10:28.686781Z",
     "iopub.status.idle": "2022-08-17T20:10:28.957541Z",
     "shell.execute_reply": "2022-08-17T20:10:28.955960Z"
    },
    "papermill": {
     "duration": 0.296251,
     "end_time": "2022-08-17T20:10:28.957683",
     "exception": false,
     "start_time": "2022-08-17T20:10:28.661432",
     "status": "completed"
    },
    "tags": []
   },
   "outputs": [],
   "source": [
    "test_images = mnist.test_images()\n",
    "test_labels = mnist.test_labels()"
   ]
  },
  {
   "cell_type": "code",
   "execution_count": 8,
   "id": "fc38cf1b",
   "metadata": {
    "execution": {
     "iopub.execute_input": "2022-08-17T20:10:29.013255Z",
     "iopub.status.busy": "2022-08-17T20:10:29.012676Z",
     "iopub.status.idle": "2022-08-17T20:10:29.028543Z",
     "shell.execute_reply": "2022-08-17T20:10:29.028128Z"
    },
    "papermill": {
     "duration": 0.044767,
     "end_time": "2022-08-17T20:10:29.028668",
     "exception": false,
     "start_time": "2022-08-17T20:10:28.983901",
     "status": "completed"
    },
    "tags": []
   },
   "outputs": [
    {
     "data": {
      "text/plain": [
       "((10000, 28, 28), (10000,))"
      ]
     },
     "execution_count": 8,
     "metadata": {},
     "output_type": "execute_result"
    }
   ],
   "source": [
    "test_images.shape, test_labels.shape"
   ]
  },
  {
   "cell_type": "code",
   "execution_count": 9,
   "id": "f9ed8fe0",
   "metadata": {
    "execution": {
     "iopub.execute_input": "2022-08-17T20:10:29.082548Z",
     "iopub.status.busy": "2022-08-17T20:10:29.081881Z",
     "iopub.status.idle": "2022-08-17T20:10:29.222827Z",
     "shell.execute_reply": "2022-08-17T20:10:29.221951Z"
    },
    "papermill": {
     "duration": 0.1705,
     "end_time": "2022-08-17T20:10:29.222961",
     "exception": false,
     "start_time": "2022-08-17T20:10:29.052461",
     "status": "completed"
    },
    "tags": []
   },
   "outputs": [
    {
     "name": "stdout",
     "output_type": "stream",
     "text": [
      "2\n"
     ]
    },
    {
     "data": {
      "text/plain": [
       "<matplotlib.image.AxesImage at 0x7fab2fddd978>"
      ]
     },
     "execution_count": 9,
     "metadata": {},
     "output_type": "execute_result"
    },
    {
     "data": {
      "image/png": "[encoded data removed]",
      "text/plain": [
       "<Figure size 432x288 with 1 Axes>"
      ]
     },
     "metadata": {
      "needs_background": "light"
     },
     "output_type": "display_data"
    }
   ],
   "source": [
    "image_index = 7776 # You may select anything up to 60,000\n",
    "print(train_labels[image_index]) \n",
    "plt.imshow(train_images[image_index], cmap='Greys')"
   ]
  },
  {
   "cell_type": "markdown",
   "id": "a8d2388d",
   "metadata": {
    "papermill": {
     "duration": 0.025372,
     "end_time": "2022-08-17T20:10:29.273462",
     "exception": false,
     "start_time": "2022-08-17T20:10:29.248090",
     "status": "completed"
    },
    "tags": []
   },
   "source": [
    "## Filter data to get 3 and 8 out"
   ]
  },
  {
   "cell_type": "code",
   "execution_count": 10,
   "id": "776f7fc7",
   "metadata": {
    "execution": {
     "iopub.execute_input": "2022-08-17T20:10:29.327397Z",
     "iopub.status.busy": "2022-08-17T20:10:29.326913Z",
     "iopub.status.idle": "2022-08-17T20:10:29.348476Z",
     "shell.execute_reply": "2022-08-17T20:10:29.347879Z"
    },
    "papermill": {
     "duration": 0.049905,
     "end_time": "2022-08-17T20:10:29.348634",
     "exception": false,
     "start_time": "2022-08-17T20:10:29.298729",
     "status": "completed"
    },
    "tags": []
   },
   "outputs": [],
   "source": [
    "train_filter = np.where((train_labels == 3 ) | (train_labels == 8))\n",
    "test_filter = np.where((test_labels == 3) | (test_labels == 8))\n",
    "X_train, y_train = train_images[train_filter], train_labels[train_filter]\n",
    "X_test, y_test = test_images[test_filter], test_labels[test_filter]"
   ]
  },
  {
   "cell_type": "markdown",
   "id": "948f0b7e",
   "metadata": {
    "papermill": {
     "duration": 0.025304,
     "end_time": "2022-08-17T20:10:29.399986",
     "exception": false,
     "start_time": "2022-08-17T20:10:29.374682",
     "status": "completed"
    },
    "tags": []
   },
   "source": [
    "We normalize the pizel values in the 0 to 1 range"
   ]
  },
  {
   "cell_type": "code",
   "execution_count": 11,
   "id": "ee4c2166",
   "metadata": {
    "execution": {
     "iopub.execute_input": "2022-08-17T20:10:29.451414Z",
     "iopub.status.busy": "2022-08-17T20:10:29.450786Z",
     "iopub.status.idle": "2022-08-17T20:10:29.502112Z",
     "shell.execute_reply": "2022-08-17T20:10:29.501502Z"
    },
    "papermill": {
     "duration": 0.078274,
     "end_time": "2022-08-17T20:10:29.502247",
     "exception": false,
     "start_time": "2022-08-17T20:10:29.423973",
     "status": "completed"
    },
    "tags": []
   },
   "outputs": [],
   "source": [
    "X_train = X_train/255.\n",
    "X_test = X_test/255."
   ]
  },
  {
   "cell_type": "markdown",
   "id": "ddcf4fab",
   "metadata": {
    "papermill": {
     "duration": 0.023357,
     "end_time": "2022-08-17T20:10:29.553173",
     "exception": false,
     "start_time": "2022-08-17T20:10:29.529816",
     "status": "completed"
    },
    "tags": []
   },
   "source": [
    "And setup the labels as 1 (when the digit is 3) and 0 (when the digit is 8)"
   ]
  },
  {
   "cell_type": "code",
   "execution_count": 12,
   "id": "7dc908f2",
   "metadata": {
    "execution": {
     "iopub.execute_input": "2022-08-17T20:10:29.604425Z",
     "iopub.status.busy": "2022-08-17T20:10:29.603752Z",
     "iopub.status.idle": "2022-08-17T20:10:29.618280Z",
     "shell.execute_reply": "2022-08-17T20:10:29.617766Z"
    },
    "papermill": {
     "duration": 0.041928,
     "end_time": "2022-08-17T20:10:29.618395",
     "exception": false,
     "start_time": "2022-08-17T20:10:29.576467",
     "status": "completed"
    },
    "tags": []
   },
   "outputs": [],
   "source": [
    "y_train = 1*(y_train==3)\n",
    "y_test = 1*(y_test==3)"
   ]
  },
  {
   "cell_type": "code",
   "execution_count": 13,
   "id": "01e4e969",
   "metadata": {
    "execution": {
     "iopub.execute_input": "2022-08-17T20:10:29.669928Z",
     "iopub.status.busy": "2022-08-17T20:10:29.669360Z",
     "iopub.status.idle": "2022-08-17T20:10:29.681521Z",
     "shell.execute_reply": "2022-08-17T20:10:29.681991Z"
    },
    "papermill": {
     "duration": 0.039576,
     "end_time": "2022-08-17T20:10:29.682116",
     "exception": false,
     "start_time": "2022-08-17T20:10:29.642540",
     "status": "completed"
    },
    "tags": []
   },
   "outputs": [
    {
     "data": {
      "text/plain": [
       "((11982, 28, 28), (1984, 28, 28))"
      ]
     },
     "execution_count": 13,
     "metadata": {},
     "output_type": "execute_result"
    }
   ],
   "source": [
    "X_train.shape, X_test.shape"
   ]
  },
  {
   "cell_type": "markdown",
   "id": "5ccf3f85",
   "metadata": {
    "papermill": {
     "duration": 0.023652,
     "end_time": "2022-08-17T20:10:29.728418",
     "exception": false,
     "start_time": "2022-08-17T20:10:29.704766",
     "status": "completed"
    },
    "tags": []
   },
   "source": [
    "We reshape the data to flatten the image pixels into a set of features or co-variates:"
   ]
  },
  {
   "cell_type": "code",
   "execution_count": 14,
   "id": "5286a4a3",
   "metadata": {
    "execution": {
     "iopub.execute_input": "2022-08-17T20:10:29.781797Z",
     "iopub.status.busy": "2022-08-17T20:10:29.781319Z",
     "iopub.status.idle": "2022-08-17T20:10:29.794198Z",
     "shell.execute_reply": "2022-08-17T20:10:29.793665Z"
    },
    "papermill": {
     "duration": 0.040859,
     "end_time": "2022-08-17T20:10:29.794303",
     "exception": false,
     "start_time": "2022-08-17T20:10:29.753444",
     "status": "completed"
    },
    "tags": []
   },
   "outputs": [
    {
     "data": {
      "text/plain": [
       "((11982, 784), (1984, 784))"
      ]
     },
     "execution_count": 14,
     "metadata": {},
     "output_type": "execute_result"
    }
   ],
   "source": [
    "X_train = X_train.reshape(X_train.shape[0], -1)\n",
    "X_test = X_test.reshape(X_test.shape[0], -1)\n",
    "X_train.shape, X_test.shape"
   ]
  },
  {
   "cell_type": "code",
   "execution_count": 15,
   "id": "73c5f88a",
   "metadata": {
    "execution": {
     "iopub.execute_input": "2022-08-17T20:10:29.844252Z",
     "iopub.status.busy": "2022-08-17T20:10:29.843771Z",
     "iopub.status.idle": "2022-08-17T20:10:29.861429Z",
     "shell.execute_reply": "2022-08-17T20:10:29.860874Z"
    },
    "papermill": {
     "duration": 0.044819,
     "end_time": "2022-08-17T20:10:29.861545",
     "exception": false,
     "start_time": "2022-08-17T20:10:29.816726",
     "status": "completed"
    },
    "tags": []
   },
   "outputs": [],
   "source": [
    "#Impoting functions from 'Kudzu'\n",
    "from kudzu.model import Model\n",
    "from kudzu.train import Learner\n",
    "from kudzu.optim import GD\n",
    "from kudzu.data import Data, Sampler,Dataloader\n",
    "\n",
    "from kudzu.callbacks import AccCallback\n",
    "from kudzu.callbacks import ClfCallback\n",
    "\n",
    "from kudzu.loss import MSE\n",
    "\n",
    "from kudzu.layer import Sigmoid,Relu\n",
    "from kudzu.layer import Affine"
   ]
  },
  {
   "cell_type": "markdown",
   "id": "bc01172a",
   "metadata": {
    "papermill": {
     "duration": 0.023172,
     "end_time": "2022-08-17T20:10:29.907615",
     "exception": false,
     "start_time": "2022-08-17T20:10:29.884443",
     "status": "completed"
    },
    "tags": []
   },
   "source": [
    "### Let us create a `Config` class, to store important parameters. \n",
    "This class essentially plays the role of a dictionary."
   ]
  },
  {
   "cell_type": "code",
   "execution_count": 16,
   "id": "978281aa",
   "metadata": {
    "execution": {
     "iopub.execute_input": "2022-08-17T20:10:29.961611Z",
     "iopub.status.busy": "2022-08-17T20:10:29.961062Z",
     "iopub.status.idle": "2022-08-17T20:10:29.974863Z",
     "shell.execute_reply": "2022-08-17T20:10:29.974419Z"
    },
    "papermill": {
     "duration": 0.044375,
     "end_time": "2022-08-17T20:10:29.974957",
     "exception": false,
     "start_time": "2022-08-17T20:10:29.930582",
     "status": "completed"
    },
    "tags": []
   },
   "outputs": [],
   "source": [
    "class Config:\n",
    "    pass\n",
    "config = Config()\n",
    "config.lr = 0.001\n",
    "config.num_epochs = 250\n",
    "config.bs = 50"
   ]
  },
  {
   "cell_type": "markdown",
   "id": "1385fa59",
   "metadata": {
    "papermill": {
     "duration": 0.022961,
     "end_time": "2022-08-17T20:10:30.021653",
     "exception": false,
     "start_time": "2022-08-17T20:10:29.998692",
     "status": "completed"
    },
    "tags": []
   },
   "source": [
    "### Running Models with the Training data\n",
    "Details about the network layers:\n",
    "- A first affine layer has 784 inputs and does 100 affine transforms. These are followed by a Relu\n",
    "- A second affine layer has 100 inputs from the 100 activations of the past layer, and does 100 affine transforms. These are followed by a Relu\n",
    "- A third affine layer has 100 activations and does 2 affine transformations to create an embedding for visualization. There is no non-linearity here.\n",
    "- A final \"logistic regression\" which has an affine transform from 2 inputs to 1 output, which is squeezed through a sigmoid.\n"
   ]
  },
  {
   "cell_type": "code",
   "execution_count": 17,
   "id": "2b9c66db",
   "metadata": {
    "execution": {
     "iopub.execute_input": "2022-08-17T20:10:30.079175Z",
     "iopub.status.busy": "2022-08-17T20:10:30.078619Z",
     "iopub.status.idle": "2022-08-17T20:10:30.091205Z",
     "shell.execute_reply": "2022-08-17T20:10:30.090663Z"
    },
    "papermill": {
     "duration": 0.045566,
     "end_time": "2022-08-17T20:10:30.091315",
     "exception": false,
     "start_time": "2022-08-17T20:10:30.045749",
     "status": "completed"
    },
    "tags": []
   },
   "outputs": [],
   "source": [
    "data = Data(X_train, y_train.reshape(-1,1))\n",
    "sampler = Sampler(data, config.bs, shuffle=True)\n",
    "\n",
    "dl = Dataloader(data, sampler)\n",
    "\n",
    "opt = GD(config.lr)\n",
    "loss = MSE()"
   ]
  },
  {
   "cell_type": "code",
   "execution_count": 18,
   "id": "b275e4c2",
   "metadata": {
    "execution": {
     "iopub.execute_input": "2022-08-17T20:10:30.144280Z",
     "iopub.status.busy": "2022-08-17T20:10:30.143803Z",
     "iopub.status.idle": "2022-08-17T20:10:30.158066Z",
     "shell.execute_reply": "2022-08-17T20:10:30.158593Z"
    },
    "papermill": {
     "duration": 0.043417,
     "end_time": "2022-08-17T20:10:30.158691",
     "exception": false,
     "start_time": "2022-08-17T20:10:30.115274",
     "status": "completed"
    },
    "tags": []
   },
   "outputs": [],
   "source": [
    "training_data_x = X_train\n",
    "testing_data_x = X_test\n",
    "training_data_y = y_train.reshape(-1,1)\n",
    "testing_data_y = y_test.reshape(-1,1)"
   ]
  },
  {
   "cell_type": "code",
   "execution_count": 19,
   "id": "76951160",
   "metadata": {
    "execution": {
     "iopub.execute_input": "2022-08-17T20:10:30.215216Z",
     "iopub.status.busy": "2022-08-17T20:10:30.214701Z",
     "iopub.status.idle": "2022-08-17T20:10:30.234023Z",
     "shell.execute_reply": "2022-08-17T20:10:30.233412Z"
    },
    "papermill": {
     "duration": 0.051049,
     "end_time": "2022-08-17T20:10:30.234123",
     "exception": false,
     "start_time": "2022-08-17T20:10:30.183074",
     "status": "completed"
    },
    "tags": []
   },
   "outputs": [
    {
     "name": "stdout",
     "output_type": "stream",
     "text": [
      "xavier\n",
      "xavier\n",
      "xavier\n",
      "xavier\n",
      "xavier\n"
     ]
    }
   ],
   "source": [
    "layers = [Affine(\"first\", 784, 100), Relu(\"first\"), Affine(\"second\", 100, 100), Relu(\"second\"), Affine(\"third\", 100, 2), Affine(\"last\", 2, 1), Sigmoid(\"last\")]\n",
    "model_nn = Model(layers)\n",
    "model_lr = Model([Affine(\"logits\", 784, 1), Sigmoid(\"sigmoid\")])"
   ]
  },
  {
   "cell_type": "code",
   "execution_count": 20,
   "id": "6eede77a",
   "metadata": {
    "execution": {
     "iopub.execute_input": "2022-08-17T20:10:30.287939Z",
     "iopub.status.busy": "2022-08-17T20:10:30.287393Z",
     "iopub.status.idle": "2022-08-17T20:10:30.301034Z",
     "shell.execute_reply": "2022-08-17T20:10:30.301562Z"
    },
    "papermill": {
     "duration": 0.043772,
     "end_time": "2022-08-17T20:10:30.301662",
     "exception": false,
     "start_time": "2022-08-17T20:10:30.257890",
     "status": "completed"
    },
    "tags": []
   },
   "outputs": [],
   "source": [
    "nn_learner = Learner(loss, model_nn, opt, config.num_epochs)\n",
    "acc_nn = ClfCallback(nn_learner, config.bs, training_data_x , testing_data_x, training_data_y, testing_data_y)\n",
    "nn_learner.set_callbacks([acc_nn])"
   ]
  },
  {
   "cell_type": "code",
   "execution_count": 21,
   "id": "877b6cc7",
   "metadata": {
    "execution": {
     "iopub.execute_input": "2022-08-17T20:10:30.355061Z",
     "iopub.status.busy": "2022-08-17T20:10:30.354567Z",
     "iopub.status.idle": "2022-08-17T20:10:30.369384Z",
     "shell.execute_reply": "2022-08-17T20:10:30.368995Z"
    },
    "papermill": {
     "duration": 0.044092,
     "end_time": "2022-08-17T20:10:30.369470",
     "exception": false,
     "start_time": "2022-08-17T20:10:30.325378",
     "status": "completed"
    },
    "tags": []
   },
   "outputs": [],
   "source": [
    "lr_learner = Learner(loss, model_lr, opt, config.num_epochs)\n",
    "acc_lr = ClfCallback(lr_learner, config.bs, training_data_x , testing_data_x, training_data_y, testing_data_y)\n",
    "lr_learner.set_callbacks([acc_lr])"
   ]
  },
  {
   "cell_type": "code",
   "execution_count": 22,
   "id": "d9b133c3",
   "metadata": {
    "execution": {
     "iopub.execute_input": "2022-08-17T20:10:30.422227Z",
     "iopub.status.busy": "2022-08-17T20:10:30.421558Z",
     "iopub.status.idle": "2022-08-17T20:11:46.925754Z",
     "shell.execute_reply": "2022-08-17T20:11:46.926736Z"
    },
    "papermill": {
     "duration": 76.532839,
     "end_time": "2022-08-17T20:11:46.926893",
     "exception": false,
     "start_time": "2022-08-17T20:10:30.394054",
     "status": "completed"
    },
    "tags": []
   },
   "outputs": [
    {
     "name": "stdout",
     "output_type": "stream",
     "text": [
      "Epoch 0, Loss 0.2473\n",
      "Training Accuracy: 0.5058, Testing Accuracy: 0.5086\n",
      "\n"
     ]
    },
    {
     "name": "stdout",
     "output_type": "stream",
     "text": [
      "Epoch 10, Loss 0.1871\n",
      "Training Accuracy: 0.8841, Testing Accuracy: 0.8926\n",
      "\n"
     ]
    },
    {
     "name": "stdout",
     "output_type": "stream",
     "text": [
      "Epoch 20, Loss 0.0937\n",
      "Training Accuracy: 0.9147, Testing Accuracy: 0.9239\n",
      "\n"
     ]
    },
    {
     "name": "stdout",
     "output_type": "stream",
     "text": [
      "Epoch 30, Loss 0.0605\n",
      "Training Accuracy: 0.9357, Testing Accuracy: 0.9481\n",
      "\n"
     ]
    },
    {
     "name": "stdout",
     "output_type": "stream",
     "text": [
      "Epoch 40, Loss 0.0475\n",
      "Training Accuracy: 0.9472, Testing Accuracy: 0.9572\n",
      "\n"
     ]
    },
    {
     "name": "stdout",
     "output_type": "stream",
     "text": [
      "Epoch 50, Loss 0.0408\n",
      "Training Accuracy: 0.9539, Testing Accuracy: 0.9617\n",
      "\n"
     ]
    },
    {
     "name": "stdout",
     "output_type": "stream",
     "text": [
      "Epoch 60, Loss 0.0368\n",
      "Training Accuracy: 0.9582, Testing Accuracy: 0.9667\n",
      "\n"
     ]
    },
    {
     "name": "stdout",
     "output_type": "stream",
     "text": [
      "Epoch 70, Loss 0.0341\n",
      "Training Accuracy: 0.9604, Testing Accuracy: 0.9698\n",
      "\n"
     ]
    },
    {
     "name": "stdout",
     "output_type": "stream",
     "text": [
      "Epoch 80, Loss 0.0322\n",
      "Training Accuracy: 0.9624, Testing Accuracy: 0.9698\n",
      "\n"
     ]
    },
    {
     "name": "stdout",
     "output_type": "stream",
     "text": [
      "Epoch 90, Loss 0.0307\n",
      "Training Accuracy: 0.9639, Testing Accuracy: 0.9703\n",
      "\n"
     ]
    },
    {
     "name": "stdout",
     "output_type": "stream",
     "text": [
      "Epoch 100, Loss 0.0294\n",
      "Training Accuracy: 0.9654, Testing Accuracy: 0.9693\n",
      "\n"
     ]
    },
    {
     "name": "stdout",
     "output_type": "stream",
     "text": [
      "Epoch 110, Loss 0.0284\n",
      "Training Accuracy: 0.9664, Testing Accuracy: 0.9698\n",
      "\n"
     ]
    },
    {
     "name": "stdout",
     "output_type": "stream",
     "text": [
      "Epoch 120, Loss 0.0275\n",
      "Training Accuracy: 0.9675, Testing Accuracy: 0.9703\n",
      "\n"
     ]
    },
    {
     "name": "stdout",
     "output_type": "stream",
     "text": [
      "Epoch 130, Loss 0.0268\n",
      "Training Accuracy: 0.9683, Testing Accuracy: 0.9703\n",
      "\n"
     ]
    },
    {
     "name": "stdout",
     "output_type": "stream",
     "text": [
      "Epoch 140, Loss 0.0261\n",
      "Training Accuracy: 0.9692, Testing Accuracy: 0.9713\n",
      "\n"
     ]
    },
    {
     "name": "stdout",
     "output_type": "stream",
     "text": [
      "Epoch 150, Loss 0.0254\n",
      "Training Accuracy: 0.9703, Testing Accuracy: 0.9713\n",
      "\n"
     ]
    },
    {
     "name": "stdout",
     "output_type": "stream",
     "text": [
      "Epoch 160, Loss 0.0249\n",
      "Training Accuracy: 0.9710, Testing Accuracy: 0.9728\n",
      "\n"
     ]
    },
    {
     "name": "stdout",
     "output_type": "stream",
     "text": [
      "Epoch 170, Loss 0.0243\n",
      "Training Accuracy: 0.9718, Testing Accuracy: 0.9718\n",
      "\n"
     ]
    },
    {
     "name": "stdout",
     "output_type": "stream",
     "text": [
      "Epoch 180, Loss 0.0238\n",
      "Training Accuracy: 0.9726, Testing Accuracy: 0.9718\n",
      "\n"
     ]
    },
    {
     "name": "stdout",
     "output_type": "stream",
     "text": [
      "Epoch 190, Loss 0.0233\n",
      "Training Accuracy: 0.9730, Testing Accuracy: 0.9718\n",
      "\n"
     ]
    },
    {
     "name": "stdout",
     "output_type": "stream",
     "text": [
      "Epoch 200, Loss 0.0228\n",
      "Training Accuracy: 0.9740, Testing Accuracy: 0.9723\n",
      "\n"
     ]
    },
    {
     "name": "stdout",
     "output_type": "stream",
     "text": [
      "Epoch 210, Loss 0.0224\n",
      "Training Accuracy: 0.9746, Testing Accuracy: 0.9723\n",
      "\n"
     ]
    },
    {
     "name": "stdout",
     "output_type": "stream",
     "text": [
      "Epoch 220, Loss 0.022\n",
      "Training Accuracy: 0.9753, Testing Accuracy: 0.9718\n",
      "\n"
     ]
    },
    {
     "name": "stdout",
     "output_type": "stream",
     "text": [
      "Epoch 230, Loss 0.0216\n",
      "Training Accuracy: 0.9756, Testing Accuracy: 0.9718\n",
      "\n"
     ]
    },
    {
     "name": "stdout",
     "output_type": "stream",
     "text": [
      "Epoch 240, Loss 0.0212\n",
      "Training Accuracy: 0.9760, Testing Accuracy: 0.9723\n",
      "\n"
     ]
    },
    {
     "data": {
      "text/plain": [
       "0.0013982264014884111"
      ]
     },
     "execution_count": 22,
     "metadata": {},
     "output_type": "execute_result"
    }
   ],
   "source": [
    "nn_learner.train_loop(dl)"
   ]
  },
  {
   "cell_type": "code",
   "execution_count": 23,
   "id": "e0163366",
   "metadata": {
    "execution": {
     "iopub.execute_input": "2022-08-17T20:11:47.005868Z",
     "iopub.status.busy": "2022-08-17T20:11:47.005325Z",
     "iopub.status.idle": "2022-08-17T20:12:00.261275Z",
     "shell.execute_reply": "2022-08-17T20:12:00.262170Z"
    },
    "papermill": {
     "duration": 13.300636,
     "end_time": "2022-08-17T20:12:00.262332",
     "exception": false,
     "start_time": "2022-08-17T20:11:46.961696",
     "status": "completed"
    },
    "tags": []
   },
   "outputs": [
    {
     "name": "stdout",
     "output_type": "stream",
     "text": [
      "Epoch 0, Loss 0.2313\n",
      "Training Accuracy: 0.7523, Testing Accuracy: 0.7893\n",
      "\n"
     ]
    },
    {
     "name": "stdout",
     "output_type": "stream",
     "text": [
      "Epoch 10, Loss 0.0997\n",
      "Training Accuracy: 0.9168, Testing Accuracy: 0.9284\n",
      "\n"
     ]
    },
    {
     "name": "stdout",
     "output_type": "stream",
     "text": [
      "Epoch 20, Loss 0.0775\n",
      "Training Accuracy: 0.9307, Testing Accuracy: 0.9405\n",
      "\n"
     ]
    },
    {
     "name": "stdout",
     "output_type": "stream",
     "text": [
      "Epoch 30, Loss 0.0671\n",
      "Training Accuracy: 0.9367, Testing Accuracy: 0.9476\n",
      "\n"
     ]
    },
    {
     "name": "stdout",
     "output_type": "stream",
     "text": [
      "Epoch 40, Loss 0.0608\n",
      "Training Accuracy: 0.9412, Testing Accuracy: 0.9536\n",
      "\n"
     ]
    },
    {
     "name": "stdout",
     "output_type": "stream",
     "text": [
      "Epoch 50, Loss 0.0565\n",
      "Training Accuracy: 0.9447, Testing Accuracy: 0.9561\n",
      "\n"
     ]
    },
    {
     "name": "stdout",
     "output_type": "stream",
     "text": [
      "Epoch 60, Loss 0.0533\n",
      "Training Accuracy: 0.9472, Testing Accuracy: 0.9597\n",
      "\n"
     ]
    },
    {
     "name": "stdout",
     "output_type": "stream",
     "text": [
      "Epoch 70, Loss 0.0508\n",
      "Training Accuracy: 0.9493, Testing Accuracy: 0.9622\n",
      "\n"
     ]
    },
    {
     "name": "stdout",
     "output_type": "stream",
     "text": [
      "Epoch 80, Loss 0.0488\n",
      "Training Accuracy: 0.9511, Testing Accuracy: 0.9632\n",
      "\n"
     ]
    },
    {
     "name": "stdout",
     "output_type": "stream",
     "text": [
      "Epoch 90, Loss 0.0472\n",
      "Training Accuracy: 0.9523, Testing Accuracy: 0.9637\n",
      "\n"
     ]
    },
    {
     "name": "stdout",
     "output_type": "stream",
     "text": [
      "Epoch 100, Loss 0.0458\n",
      "Training Accuracy: 0.9538, Testing Accuracy: 0.9647\n",
      "\n"
     ]
    },
    {
     "name": "stdout",
     "output_type": "stream",
     "text": [
      "Epoch 110, Loss 0.0446\n",
      "Training Accuracy: 0.9550, Testing Accuracy: 0.9657\n",
      "\n"
     ]
    },
    {
     "name": "stdout",
     "output_type": "stream",
     "text": [
      "Epoch 120, Loss 0.0435\n",
      "Training Accuracy: 0.9559, Testing Accuracy: 0.9642\n",
      "\n"
     ]
    },
    {
     "name": "stdout",
     "output_type": "stream",
     "text": [
      "Epoch 130, Loss 0.0426\n",
      "Training Accuracy: 0.9567, Testing Accuracy: 0.9642\n",
      "\n"
     ]
    },
    {
     "name": "stdout",
     "output_type": "stream",
     "text": [
      "Epoch 140, Loss 0.0418\n",
      "Training Accuracy: 0.9570, Testing Accuracy: 0.9637\n",
      "\n"
     ]
    },
    {
     "name": "stdout",
     "output_type": "stream",
     "text": [
      "Epoch 150, Loss 0.0411\n",
      "Training Accuracy: 0.9579, Testing Accuracy: 0.9642\n",
      "\n"
     ]
    },
    {
     "name": "stdout",
     "output_type": "stream",
     "text": [
      "Epoch 160, Loss 0.0404\n",
      "Training Accuracy: 0.9582, Testing Accuracy: 0.9647\n",
      "\n"
     ]
    },
    {
     "name": "stdout",
     "output_type": "stream",
     "text": [
      "Epoch 170, Loss 0.0398\n",
      "Training Accuracy: 0.9589, Testing Accuracy: 0.9652\n",
      "\n"
     ]
    },
    {
     "name": "stdout",
     "output_type": "stream",
     "text": [
      "Epoch 180, Loss 0.0393\n",
      "Training Accuracy: 0.9592, Testing Accuracy: 0.9652\n",
      "\n"
     ]
    },
    {
     "name": "stdout",
     "output_type": "stream",
     "text": [
      "Epoch 190, Loss 0.0388\n",
      "Training Accuracy: 0.9594, Testing Accuracy: 0.9657\n",
      "\n"
     ]
    },
    {
     "name": "stdout",
     "output_type": "stream",
     "text": [
      "Epoch 200, Loss 0.0383\n",
      "Training Accuracy: 0.9596, Testing Accuracy: 0.9657\n",
      "\n"
     ]
    },
    {
     "name": "stdout",
     "output_type": "stream",
     "text": [
      "Epoch 210, Loss 0.0378\n",
      "Training Accuracy: 0.9599, Testing Accuracy: 0.9657\n",
      "\n"
     ]
    },
    {
     "name": "stdout",
     "output_type": "stream",
     "text": [
      "Epoch 220, Loss 0.0374\n",
      "Training Accuracy: 0.9604, Testing Accuracy: 0.9662\n",
      "\n"
     ]
    },
    {
     "name": "stdout",
     "output_type": "stream",
     "text": [
      "Epoch 230, Loss 0.0371\n",
      "Training Accuracy: 0.9607, Testing Accuracy: 0.9672\n",
      "\n"
     ]
    },
    {
     "name": "stdout",
     "output_type": "stream",
     "text": [
      "Epoch 240, Loss 0.0367\n",
      "Training Accuracy: 0.9612, Testing Accuracy: 0.9672\n",
      "\n"
     ]
    },
    {
     "data": {
      "text/plain": [
       "0.042778969986626746"
      ]
     },
     "execution_count": 23,
     "metadata": {},
     "output_type": "execute_result"
    }
   ],
   "source": [
    "lr_learner.train_loop(dl)"
   ]
  },
  {
   "cell_type": "code",
   "execution_count": 24,
   "id": "ca410940",
   "metadata": {
    "execution": {
     "iopub.execute_input": "2022-08-17T20:12:00.357871Z",
     "iopub.status.busy": "2022-08-17T20:12:00.357289Z",
     "iopub.status.idle": "2022-08-17T20:12:00.575308Z",
     "shell.execute_reply": "2022-08-17T20:12:00.574813Z"
    },
    "papermill": {
     "duration": 0.270726,
     "end_time": "2022-08-17T20:12:00.575411",
     "exception": false,
     "start_time": "2022-08-17T20:12:00.304685",
     "status": "completed"
    },
    "tags": []
   },
   "outputs": [
    {
     "data": {
      "text/plain": [
       "<matplotlib.legend.Legend at 0x7fab2f93dfd0>"
      ]
     },
     "execution_count": 24,
     "metadata": {},
     "output_type": "execute_result"
    },
    {
     "data": {
      "image/png": "[encoded data removed]",
      "text/plain": [
       "<Figure size 1080x720 with 1 Axes>"
      ]
     },
     "metadata": {
      "needs_background": "light"
     },
     "output_type": "display_data"
    }
   ],
   "source": [
    "#comparing the results of NN and LR\n",
    "plt.figure(figsize=(15,10))\n",
    "\n",
    "# Neural Network plots\n",
    "plt.plot(acc_nn.accuracies, 'r-', label = \"Training Accuracies - NN\")\n",
    "plt.plot(acc_nn.test_accuracies, 'g-', label = \"Testing Accuracies - NN\")\n",
    "\n",
    "# Logistic Regression plots\n",
    "plt.plot(acc_lr.accuracies, 'k-', label = \"Training Accuracies - LR\")\n",
    "plt.plot(acc_lr.test_accuracies, 'b-', label = \"Testing Accuracies - LR\")\n",
    "plt.legend()"
   ]
  },
  {
   "cell_type": "markdown",
   "id": "80dfb35c",
   "metadata": {
    "papermill": {
     "duration": 0.037718,
     "end_time": "2022-08-17T20:12:00.651897",
     "exception": false,
     "start_time": "2022-08-17T20:12:00.614179",
     "status": "completed"
    },
    "tags": []
   },
   "source": [
    "#### Plotting the outputs of this layer of the NN.\n"
   ]
  },
  {
   "cell_type": "code",
   "execution_count": 25,
   "id": "45eb2ff5",
   "metadata": {
    "execution": {
     "iopub.execute_input": "2022-08-17T20:12:00.734049Z",
     "iopub.status.busy": "2022-08-17T20:12:00.733273Z",
     "iopub.status.idle": "2022-08-17T20:12:00.752963Z",
     "shell.execute_reply": "2022-08-17T20:12:00.753400Z"
    },
    "papermill": {
     "duration": 0.065435,
     "end_time": "2022-08-17T20:12:00.753526",
     "exception": false,
     "start_time": "2022-08-17T20:12:00.688091",
     "status": "completed"
    },
    "tags": []
   },
   "outputs": [],
   "source": [
    "new_model = Model(layers[:-2])\n",
    "testing_plot = new_model(testing_data_x)"
   ]
  },
  {
   "cell_type": "code",
   "execution_count": 26,
   "id": "4c0a5485",
   "metadata": {
    "execution": {
     "iopub.execute_input": "2022-08-17T20:12:00.841626Z",
     "iopub.status.busy": "2022-08-17T20:12:00.839362Z",
     "iopub.status.idle": "2022-08-17T20:12:01.033683Z",
     "shell.execute_reply": "2022-08-17T20:12:01.033198Z"
    },
    "papermill": {
     "duration": 0.242761,
     "end_time": "2022-08-17T20:12:01.033784",
     "exception": false,
     "start_time": "2022-08-17T20:12:00.791023",
     "status": "completed"
    },
    "tags": []
   },
   "outputs": [
    {
     "data": {
      "text/plain": [
       "Text(0.5, 1.0, 'Outputs')"
      ]
     },
     "execution_count": 26,
     "metadata": {},
     "output_type": "execute_result"
    },
    {
     "data": {
      "image/png": "[encoded data removed]",
      "text/plain": [
       "<Figure size 576x504 with 1 Axes>"
      ]
     },
     "metadata": {
      "needs_background": "light"
     },
     "output_type": "display_data"
    }
   ],
   "source": [
    "# Plotting the scatter plot of points and color coding by class\n",
    "plt.figure(figsize=(8,7))\n",
    "plt.scatter(testing_plot[:,0], testing_plot[:,1], alpha = 0.1, c = y_test.ravel());\n",
    "plt.title('Outputs')"
   ]
  },
  {
   "cell_type": "markdown",
   "id": "a74fcf8f",
   "metadata": {
    "papermill": {
     "duration": 0.039131,
     "end_time": "2022-08-17T20:12:01.113540",
     "exception": false,
     "start_time": "2022-08-17T20:12:01.074409",
     "status": "completed"
    },
    "tags": []
   },
   "source": [
    "Probability contours"
   ]
  },
  {
   "cell_type": "code",
   "execution_count": 27,
   "id": "d0afc8e3",
   "metadata": {
    "execution": {
     "iopub.execute_input": "2022-08-17T20:12:01.206793Z",
     "iopub.status.busy": "2022-08-17T20:12:01.206166Z",
     "iopub.status.idle": "2022-08-17T20:12:01.221410Z",
     "shell.execute_reply": "2022-08-17T20:12:01.220883Z"
    },
    "papermill": {
     "duration": 0.066526,
     "end_time": "2022-08-17T20:12:01.221527",
     "exception": false,
     "start_time": "2022-08-17T20:12:01.155001",
     "status": "completed"
    },
    "tags": []
   },
   "outputs": [],
   "source": [
    "model_prob = Model(layers[-2:]) "
   ]
  },
  {
   "cell_type": "code",
   "execution_count": 28,
   "id": "9b96e238",
   "metadata": {
    "execution": {
     "iopub.execute_input": "2022-08-17T20:12:01.332875Z",
     "iopub.status.busy": "2022-08-17T20:12:01.332362Z",
     "iopub.status.idle": "2022-08-17T20:12:01.345505Z",
     "shell.execute_reply": "2022-08-17T20:12:01.345949Z"
    },
    "papermill": {
     "duration": 0.084611,
     "end_time": "2022-08-17T20:12:01.346081",
     "exception": false,
     "start_time": "2022-08-17T20:12:01.261470",
     "status": "completed"
    },
    "tags": []
   },
   "outputs": [],
   "source": [
    "#creating the x and y ranges according to the above generated plot.\n",
    "x_range = np.linspace(-4, 1, 100) \n",
    "y_range = np.linspace(-6, 6, 100) \n",
    "x_grid, y_grid = np.meshgrid(x_range, y_range) # x_grid and y_grig are of size 100 X 100\n",
    "\n",
    "# converting x_grid and y_grid to continuous arrays\n",
    "x_gridflat = np.ravel(x_grid)\n",
    "y_gridflat = np.ravel(y_grid)\n",
    "\n",
    "# The last layer of the current model takes two columns as input. Hence transpose of np.vstack() is required.\n",
    "X = np.vstack((x_gridflat, y_gridflat)).T\n",
    "\n",
    "prob_contour = model_prob(X).reshape(100,100) "
   ]
  },
  {
   "cell_type": "code",
   "execution_count": 29,
   "id": "da72499a",
   "metadata": {
    "execution": {
     "iopub.execute_input": "2022-08-17T20:12:01.434628Z",
     "iopub.status.busy": "2022-08-17T20:12:01.434076Z",
     "iopub.status.idle": "2022-08-17T20:12:01.659293Z",
     "shell.execute_reply": "2022-08-17T20:12:01.658463Z"
    },
    "papermill": {
     "duration": 0.273632,
     "end_time": "2022-08-17T20:12:01.659429",
     "exception": false,
     "start_time": "2022-08-17T20:12:01.385797",
     "status": "completed"
    },
    "tags": []
   },
   "outputs": [
    {
     "data": {
      "image/png": "[encoded data removed]",
      "text/plain": [
       "<Figure size 720x648 with 1 Axes>"
      ]
     },
     "metadata": {
      "needs_background": "light"
     },
     "output_type": "display_data"
    }
   ],
   "source": [
    "plt.figure(figsize=(10,9))\n",
    "plt.scatter(testing_plot[:,0], testing_plot[:,1], alpha = 0.1, c = y_test.ravel())\n",
    "contours = plt.contour(x_grid,y_grid,prob_contour)\n",
    "plt.title('Probability Contours')\n",
    "plt.clabel(contours, inline = True );"
   ]
  },
  {
   "cell_type": "code",
   "execution_count": null,
   "id": "e81b4ac7",
   "metadata": {
    "papermill": {
     "duration": 0.042025,
     "end_time": "2022-08-17T20:12:01.743167",
     "exception": false,
     "start_time": "2022-08-17T20:12:01.701142",
     "status": "completed"
    },
    "tags": []
   },
   "outputs": [],
   "source": []
  }
 ],
 "metadata": {
  "kernelspec": {
   "display_name": "Python 3",
   "language": "python",
   "name": "python3"
  },
  "language_info": {
   "codemirror_mode": {
    "name": "ipython",
    "version": 3
   },
   "file_extension": ".py",
   "mimetype": "text/x-python",
   "name": "python",
   "nbconvert_exporter": "python",
   "pygments_lexer": "ipython3",
   "version": "3.6.15"
  },
  "papermill": {
   "default_parameters": {},
   "duration": 97.699582,
   "end_time": "2022-08-17T20:12:02.206257",
   "environment_variables": {},
   "exception": null,
   "input_path": "2020-08-11-part2.ipynb",
   "output_path": "2020-08-11-part2.ipynb",
   "parameters": {},
   "start_time": "2022-08-17T20:10:24.506675",
   "version": "2.3.3"
  }
 },
 "nbformat": 4,
 "nbformat_minor": 5
}