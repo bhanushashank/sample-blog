{
 "cells": [
  {
   "cell_type": "markdown",
   "id": "98380cd3",
   "metadata": {
    "papermill": {
     "duration": 0.041201,
     "end_time": "2022-03-16T00:30:44.749912",
     "exception": false,
     "start_time": "2022-03-16T00:30:44.708711",
     "status": "completed"
    },
    "tags": []
   },
   "source": [
    "# Distinguish Your Own Digits (DYOD)"
   ]
  },
  {
   "cell_type": "markdown",
   "id": "ef31240d",
   "metadata": {
    "papermill": {
     "duration": 0.028764,
     "end_time": "2022-03-16T00:30:44.808851",
     "exception": false,
     "start_time": "2022-03-16T00:30:44.780087",
     "status": "completed"
    },
    "tags": []
   },
   "source": [
    "You are going to write a classifier that distinguishes between the number 3 and number 8."
   ]
  },
  {
   "cell_type": "code",
   "execution_count": 1,
   "id": "b15c8646",
   "metadata": {
    "execution": {
     "iopub.execute_input": "2022-03-16T00:30:44.875658Z",
     "iopub.status.busy": "2022-03-16T00:30:44.875040Z",
     "iopub.status.idle": "2022-03-16T00:30:44.887502Z",
     "shell.execute_reply": "2022-03-16T00:30:44.886897Z"
    },
    "papermill": {
     "duration": 0.051764,
     "end_time": "2022-03-16T00:30:44.887641",
     "exception": false,
     "start_time": "2022-03-16T00:30:44.835877",
     "status": "completed"
    },
    "tags": []
   },
   "outputs": [],
   "source": [
    "%load_ext autoreload\n",
    "%autoreload 2"
   ]
  },
  {
   "cell_type": "code",
   "execution_count": 2,
   "id": "22ef38dc",
   "metadata": {
    "execution": {
     "iopub.execute_input": "2022-03-16T00:30:44.948648Z",
     "iopub.status.busy": "2022-03-16T00:30:44.948028Z",
     "iopub.status.idle": "2022-03-16T00:30:45.652815Z",
     "shell.execute_reply": "2022-03-16T00:30:45.652247Z"
    },
    "papermill": {
     "duration": 0.738021,
     "end_time": "2022-03-16T00:30:45.652958",
     "exception": false,
     "start_time": "2022-03-16T00:30:44.914937",
     "status": "completed"
    },
    "tags": []
   },
   "outputs": [],
   "source": [
    "%matplotlib inline\n",
    "import numpy as np\n",
    "import matplotlib.pyplot as plt\n",
    "import pandas as pd"
   ]
  },
  {
   "cell_type": "markdown",
   "id": "ba036198",
   "metadata": {
    "papermill": {
     "duration": 0.029409,
     "end_time": "2022-03-16T00:30:45.713172",
     "exception": false,
     "start_time": "2022-03-16T00:30:45.683763",
     "status": "completed"
    },
    "tags": []
   },
   "source": [
    "From the command line run `pip install mnist`. This is a library that will help you bring down the mnist dataset. If you run this from a notebook, you need to put  `!pip install mnist` in a cell by itself."
   ]
  },
  {
   "cell_type": "code",
   "execution_count": 3,
   "id": "bb6ad8a1",
   "metadata": {
    "execution": {
     "iopub.execute_input": "2022-03-16T00:30:45.775987Z",
     "iopub.status.busy": "2022-03-16T00:30:45.774403Z",
     "iopub.status.idle": "2022-03-16T00:30:48.540994Z",
     "shell.execute_reply": "2022-03-16T00:30:48.540384Z"
    },
    "papermill": {
     "duration": 2.800427,
     "end_time": "2022-03-16T00:30:48.541135",
     "exception": false,
     "start_time": "2022-03-16T00:30:45.740708",
     "status": "completed"
    },
    "tags": []
   },
   "outputs": [
    {
     "name": "stdout",
     "output_type": "stream",
     "text": [
      "Collecting mnist\r\n"
     ]
    },
    {
     "name": "stdout",
     "output_type": "stream",
     "text": [
      "  Downloading mnist-0.2.2-py2.py3-none-any.whl (3.5 kB)\r\n",
      "Requirement already satisfied: numpy in /opt/hostedtoolcache/Python/3.6.15/x64/lib/python3.6/site-packages (from mnist) (1.19.5)\r\n"
     ]
    },
    {
     "name": "stdout",
     "output_type": "stream",
     "text": [
      "Installing collected packages: mnist\r\n"
     ]
    },
    {
     "name": "stdout",
     "output_type": "stream",
     "text": [
      "Successfully installed mnist-0.2.2\r\n"
     ]
    }
   ],
   "source": [
    "!pip install mnist"
   ]
  },
  {
   "cell_type": "markdown",
   "id": "69df9c9a",
   "metadata": {
    "papermill": {
     "duration": 0.028829,
     "end_time": "2022-03-16T00:30:48.598823",
     "exception": false,
     "start_time": "2022-03-16T00:30:48.569994",
     "status": "completed"
    },
    "tags": []
   },
   "source": [
    "## Preparing the Data"
   ]
  },
  {
   "cell_type": "code",
   "execution_count": 4,
   "id": "7f69d806",
   "metadata": {
    "execution": {
     "iopub.execute_input": "2022-03-16T00:30:48.660441Z",
     "iopub.status.busy": "2022-03-16T00:30:48.659761Z",
     "iopub.status.idle": "2022-03-16T00:30:48.678456Z",
     "shell.execute_reply": "2022-03-16T00:30:48.677939Z"
    },
    "papermill": {
     "duration": 0.051507,
     "end_time": "2022-03-16T00:30:48.678591",
     "exception": false,
     "start_time": "2022-03-16T00:30:48.627084",
     "status": "completed"
    },
    "tags": []
   },
   "outputs": [],
   "source": [
    "import mnist"
   ]
  },
  {
   "cell_type": "code",
   "execution_count": 5,
   "id": "a411e44f",
   "metadata": {
    "execution": {
     "iopub.execute_input": "2022-03-16T00:30:48.740695Z",
     "iopub.status.busy": "2022-03-16T00:30:48.740074Z",
     "iopub.status.idle": "2022-03-16T00:30:49.318191Z",
     "shell.execute_reply": "2022-03-16T00:30:49.317152Z"
    },
    "papermill": {
     "duration": 0.61074,
     "end_time": "2022-03-16T00:30:49.318332",
     "exception": false,
     "start_time": "2022-03-16T00:30:48.707592",
     "status": "completed"
    },
    "tags": []
   },
   "outputs": [],
   "source": [
    "train_images = mnist.train_images()\n",
    "train_labels = mnist.train_labels()"
   ]
  },
  {
   "cell_type": "code",
   "execution_count": 6,
   "id": "dceab3a5",
   "metadata": {
    "execution": {
     "iopub.execute_input": "2022-03-16T00:30:49.379846Z",
     "iopub.status.busy": "2022-03-16T00:30:49.378667Z",
     "iopub.status.idle": "2022-03-16T00:30:49.398242Z",
     "shell.execute_reply": "2022-03-16T00:30:49.397786Z"
    },
    "papermill": {
     "duration": 0.05154,
     "end_time": "2022-03-16T00:30:49.398364",
     "exception": false,
     "start_time": "2022-03-16T00:30:49.346824",
     "status": "completed"
    },
    "tags": []
   },
   "outputs": [
    {
     "data": {
      "text/plain": [
       "((60000, 28, 28), (60000,))"
      ]
     },
     "execution_count": 6,
     "metadata": {},
     "output_type": "execute_result"
    }
   ],
   "source": [
    "train_images.shape, train_labels.shape"
   ]
  },
  {
   "cell_type": "code",
   "execution_count": 7,
   "id": "f50dc2bb",
   "metadata": {
    "execution": {
     "iopub.execute_input": "2022-03-16T00:30:49.460406Z",
     "iopub.status.busy": "2022-03-16T00:30:49.459701Z",
     "iopub.status.idle": "2022-03-16T00:30:49.655808Z",
     "shell.execute_reply": "2022-03-16T00:30:49.654019Z"
    },
    "papermill": {
     "duration": 0.229481,
     "end_time": "2022-03-16T00:30:49.655973",
     "exception": false,
     "start_time": "2022-03-16T00:30:49.426492",
     "status": "completed"
    },
    "tags": []
   },
   "outputs": [],
   "source": [
    "test_images = mnist.test_images()\n",
    "test_labels = mnist.test_labels()"
   ]
  },
  {
   "cell_type": "code",
   "execution_count": 8,
   "id": "fc38cf1b",
   "metadata": {
    "execution": {
     "iopub.execute_input": "2022-03-16T00:30:49.720527Z",
     "iopub.status.busy": "2022-03-16T00:30:49.719887Z",
     "iopub.status.idle": "2022-03-16T00:30:49.740205Z",
     "shell.execute_reply": "2022-03-16T00:30:49.739633Z"
    },
    "papermill": {
     "duration": 0.054611,
     "end_time": "2022-03-16T00:30:49.740349",
     "exception": false,
     "start_time": "2022-03-16T00:30:49.685738",
     "status": "completed"
    },
    "tags": []
   },
   "outputs": [
    {
     "data": {
      "text/plain": [
       "((10000, 28, 28), (10000,))"
      ]
     },
     "execution_count": 8,
     "metadata": {},
     "output_type": "execute_result"
    }
   ],
   "source": [
    "test_images.shape, test_labels.shape"
   ]
  },
  {
   "cell_type": "code",
   "execution_count": 9,
   "id": "f9ed8fe0",
   "metadata": {
    "execution": {
     "iopub.execute_input": "2022-03-16T00:30:49.804744Z",
     "iopub.status.busy": "2022-03-16T00:30:49.804116Z",
     "iopub.status.idle": "2022-03-16T00:30:49.970661Z",
     "shell.execute_reply": "2022-03-16T00:30:49.970026Z"
    },
    "papermill": {
     "duration": 0.20137,
     "end_time": "2022-03-16T00:30:49.970823",
     "exception": false,
     "start_time": "2022-03-16T00:30:49.769453",
     "status": "completed"
    },
    "tags": []
   },
   "outputs": [
    {
     "name": "stdout",
     "output_type": "stream",
     "text": [
      "2\n"
     ]
    },
    {
     "data": {
      "text/plain": [
       "<matplotlib.image.AxesImage at 0x7f9124843630>"
      ]
     },
     "execution_count": 9,
     "metadata": {},
     "output_type": "execute_result"
    },
    {
     "data": {
      "image/png": "[encoded data removed]",
      "text/plain": [
       "<Figure size 432x288 with 1 Axes>"
      ]
     },
     "metadata": {
      "needs_background": "light"
     },
     "output_type": "display_data"
    }
   ],
   "source": [
    "image_index = 7776 # You may select anything up to 60,000\n",
    "print(train_labels[image_index]) \n",
    "plt.imshow(train_images[image_index], cmap='Greys')"
   ]
  },
  {
   "cell_type": "markdown",
   "id": "a8d2388d",
   "metadata": {
    "papermill": {
     "duration": 0.030097,
     "end_time": "2022-03-16T00:30:50.032541",
     "exception": false,
     "start_time": "2022-03-16T00:30:50.002444",
     "status": "completed"
    },
    "tags": []
   },
   "source": [
    "## Filter data to get 3 and 8 out"
   ]
  },
  {
   "cell_type": "code",
   "execution_count": 10,
   "id": "776f7fc7",
   "metadata": {
    "execution": {
     "iopub.execute_input": "2022-03-16T00:30:50.103273Z",
     "iopub.status.busy": "2022-03-16T00:30:50.102635Z",
     "iopub.status.idle": "2022-03-16T00:30:50.126193Z",
     "shell.execute_reply": "2022-03-16T00:30:50.125676Z"
    },
    "papermill": {
     "duration": 0.061899,
     "end_time": "2022-03-16T00:30:50.126328",
     "exception": false,
     "start_time": "2022-03-16T00:30:50.064429",
     "status": "completed"
    },
    "tags": []
   },
   "outputs": [],
   "source": [
    "train_filter = np.where((train_labels == 3 ) | (train_labels == 8))\n",
    "test_filter = np.where((test_labels == 3) | (test_labels == 8))\n",
    "X_train, y_train = train_images[train_filter], train_labels[train_filter]\n",
    "X_test, y_test = test_images[test_filter], test_labels[test_filter]"
   ]
  },
  {
   "cell_type": "markdown",
   "id": "948f0b7e",
   "metadata": {
    "papermill": {
     "duration": 0.035005,
     "end_time": "2022-03-16T00:30:50.192347",
     "exception": false,
     "start_time": "2022-03-16T00:30:50.157342",
     "status": "completed"
    },
    "tags": []
   },
   "source": [
    "We normalize the pizel values in the 0 to 1 range"
   ]
  },
  {
   "cell_type": "code",
   "execution_count": 11,
   "id": "ee4c2166",
   "metadata": {
    "execution": {
     "iopub.execute_input": "2022-03-16T00:30:50.260044Z",
     "iopub.status.busy": "2022-03-16T00:30:50.259401Z",
     "iopub.status.idle": "2022-03-16T00:30:50.317884Z",
     "shell.execute_reply": "2022-03-16T00:30:50.316972Z"
    },
    "papermill": {
     "duration": 0.094115,
     "end_time": "2022-03-16T00:30:50.318107",
     "exception": false,
     "start_time": "2022-03-16T00:30:50.223992",
     "status": "completed"
    },
    "tags": []
   },
   "outputs": [],
   "source": [
    "X_train = X_train/255.\n",
    "X_test = X_test/255."
   ]
  },
  {
   "cell_type": "markdown",
   "id": "ddcf4fab",
   "metadata": {
    "papermill": {
     "duration": 0.033568,
     "end_time": "2022-03-16T00:30:50.382921",
     "exception": false,
     "start_time": "2022-03-16T00:30:50.349353",
     "status": "completed"
    },
    "tags": []
   },
   "source": [
    "And setup the labels as 1 (when the digit is 3) and 0 (when the digit is 8)"
   ]
  },
  {
   "cell_type": "code",
   "execution_count": 12,
   "id": "7dc908f2",
   "metadata": {
    "execution": {
     "iopub.execute_input": "2022-03-16T00:30:50.448664Z",
     "iopub.status.busy": "2022-03-16T00:30:50.448041Z",
     "iopub.status.idle": "2022-03-16T00:30:50.461594Z",
     "shell.execute_reply": "2022-03-16T00:30:50.461075Z"
    },
    "papermill": {
     "duration": 0.048106,
     "end_time": "2022-03-16T00:30:50.461721",
     "exception": false,
     "start_time": "2022-03-16T00:30:50.413615",
     "status": "completed"
    },
    "tags": []
   },
   "outputs": [],
   "source": [
    "y_train = 1*(y_train==3)\n",
    "y_test = 1*(y_test==3)"
   ]
  },
  {
   "cell_type": "code",
   "execution_count": 13,
   "id": "01e4e969",
   "metadata": {
    "execution": {
     "iopub.execute_input": "2022-03-16T00:30:50.530173Z",
     "iopub.status.busy": "2022-03-16T00:30:50.529564Z",
     "iopub.status.idle": "2022-03-16T00:30:50.545227Z",
     "shell.execute_reply": "2022-03-16T00:30:50.544740Z"
    },
    "papermill": {
     "duration": 0.051019,
     "end_time": "2022-03-16T00:30:50.545356",
     "exception": false,
     "start_time": "2022-03-16T00:30:50.494337",
     "status": "completed"
    },
    "tags": []
   },
   "outputs": [
    {
     "data": {
      "text/plain": [
       "((11982, 28, 28), (1984, 28, 28))"
      ]
     },
     "execution_count": 13,
     "metadata": {},
     "output_type": "execute_result"
    }
   ],
   "source": [
    "X_train.shape, X_test.shape"
   ]
  },
  {
   "cell_type": "markdown",
   "id": "5ccf3f85",
   "metadata": {
    "papermill": {
     "duration": 0.031833,
     "end_time": "2022-03-16T00:30:50.610312",
     "exception": false,
     "start_time": "2022-03-16T00:30:50.578479",
     "status": "completed"
    },
    "tags": []
   },
   "source": [
    "We reshape the data to flatten the image pixels into a set of features or co-variates:"
   ]
  },
  {
   "cell_type": "code",
   "execution_count": 14,
   "id": "5286a4a3",
   "metadata": {
    "execution": {
     "iopub.execute_input": "2022-03-16T00:30:50.680457Z",
     "iopub.status.busy": "2022-03-16T00:30:50.679836Z",
     "iopub.status.idle": "2022-03-16T00:30:50.695190Z",
     "shell.execute_reply": "2022-03-16T00:30:50.694673Z"
    },
    "papermill": {
     "duration": 0.052654,
     "end_time": "2022-03-16T00:30:50.695315",
     "exception": false,
     "start_time": "2022-03-16T00:30:50.642661",
     "status": "completed"
    },
    "tags": []
   },
   "outputs": [
    {
     "data": {
      "text/plain": [
       "((11982, 784), (1984, 784))"
      ]
     },
     "execution_count": 14,
     "metadata": {},
     "output_type": "execute_result"
    }
   ],
   "source": [
    "X_train = X_train.reshape(X_train.shape[0], -1)\n",
    "X_test = X_test.reshape(X_test.shape[0], -1)\n",
    "X_train.shape, X_test.shape"
   ]
  },
  {
   "cell_type": "code",
   "execution_count": 15,
   "id": "73c5f88a",
   "metadata": {
    "execution": {
     "iopub.execute_input": "2022-03-16T00:30:50.767406Z",
     "iopub.status.busy": "2022-03-16T00:30:50.766498Z",
     "iopub.status.idle": "2022-03-16T00:30:50.788555Z",
     "shell.execute_reply": "2022-03-16T00:30:50.788032Z"
    },
    "papermill": {
     "duration": 0.059307,
     "end_time": "2022-03-16T00:30:50.788689",
     "exception": false,
     "start_time": "2022-03-16T00:30:50.729382",
     "status": "completed"
    },
    "tags": []
   },
   "outputs": [],
   "source": [
    "#Impoting functions from 'Kudzu'\n",
    "from kudzu.model import Model\n",
    "from kudzu.train import Learner\n",
    "from kudzu.optim import GD\n",
    "from kudzu.data import Data, Sampler,Dataloader\n",
    "\n",
    "from kudzu.callbacks import AccCallback\n",
    "from kudzu.callbacks import ClfCallback\n",
    "\n",
    "from kudzu.loss import MSE\n",
    "\n",
    "from kudzu.layer import Sigmoid,Relu\n",
    "from kudzu.layer import Affine"
   ]
  },
  {
   "cell_type": "markdown",
   "id": "bc01172a",
   "metadata": {
    "papermill": {
     "duration": 0.031146,
     "end_time": "2022-03-16T00:30:50.851128",
     "exception": false,
     "start_time": "2022-03-16T00:30:50.819982",
     "status": "completed"
    },
    "tags": []
   },
   "source": [
    "### Let us create a `Config` class, to store important parameters. \n",
    "This class essentially plays the role of a dictionary."
   ]
  },
  {
   "cell_type": "code",
   "execution_count": 16,
   "id": "978281aa",
   "metadata": {
    "execution": {
     "iopub.execute_input": "2022-03-16T00:30:50.922152Z",
     "iopub.status.busy": "2022-03-16T00:30:50.920776Z",
     "iopub.status.idle": "2022-03-16T00:30:50.937829Z",
     "shell.execute_reply": "2022-03-16T00:30:50.937283Z"
    },
    "papermill": {
     "duration": 0.05325,
     "end_time": "2022-03-16T00:30:50.937958",
     "exception": false,
     "start_time": "2022-03-16T00:30:50.884708",
     "status": "completed"
    },
    "tags": []
   },
   "outputs": [],
   "source": [
    "class Config:\n",
    "    pass\n",
    "config = Config()\n",
    "config.lr = 0.001\n",
    "config.num_epochs = 250\n",
    "config.bs = 50"
   ]
  },
  {
   "cell_type": "markdown",
   "id": "1385fa59",
   "metadata": {
    "papermill": {
     "duration": 0.031837,
     "end_time": "2022-03-16T00:30:51.001119",
     "exception": false,
     "start_time": "2022-03-16T00:30:50.969282",
     "status": "completed"
    },
    "tags": []
   },
   "source": [
    "### Running Models with the Training data\n",
    "Details about the network layers:\n",
    "- A first affine layer has 784 inputs and does 100 affine transforms. These are followed by a Relu\n",
    "- A second affine layer has 100 inputs from the 100 activations of the past layer, and does 100 affine transforms. These are followed by a Relu\n",
    "- A third affine layer has 100 activations and does 2 affine transformations to create an embedding for visualization. There is no non-linearity here.\n",
    "- A final \"logistic regression\" which has an affine transform from 2 inputs to 1 output, which is squeezed through a sigmoid.\n"
   ]
  },
  {
   "cell_type": "code",
   "execution_count": 17,
   "id": "2b9c66db",
   "metadata": {
    "execution": {
     "iopub.execute_input": "2022-03-16T00:30:51.070260Z",
     "iopub.status.busy": "2022-03-16T00:30:51.069640Z",
     "iopub.status.idle": "2022-03-16T00:30:51.085783Z",
     "shell.execute_reply": "2022-03-16T00:30:51.085238Z"
    },
    "papermill": {
     "duration": 0.053174,
     "end_time": "2022-03-16T00:30:51.085925",
     "exception": false,
     "start_time": "2022-03-16T00:30:51.032751",
     "status": "completed"
    },
    "tags": []
   },
   "outputs": [],
   "source": [
    "data = Data(X_train, y_train.reshape(-1,1))\n",
    "sampler = Sampler(data, config.bs, shuffle=True)\n",
    "\n",
    "dl = Dataloader(data, sampler)\n",
    "\n",
    "opt = GD(config.lr)\n",
    "loss = MSE()"
   ]
  },
  {
   "cell_type": "code",
   "execution_count": 18,
   "id": "b275e4c2",
   "metadata": {
    "execution": {
     "iopub.execute_input": "2022-03-16T00:30:51.155900Z",
     "iopub.status.busy": "2022-03-16T00:30:51.155231Z",
     "iopub.status.idle": "2022-03-16T00:30:51.171525Z",
     "shell.execute_reply": "2022-03-16T00:30:51.170999Z"
    },
    "papermill": {
     "duration": 0.054067,
     "end_time": "2022-03-16T00:30:51.171663",
     "exception": false,
     "start_time": "2022-03-16T00:30:51.117596",
     "status": "completed"
    },
    "tags": []
   },
   "outputs": [],
   "source": [
    "training_data_x = X_train\n",
    "testing_data_x = X_test\n",
    "training_data_y = y_train.reshape(-1,1)\n",
    "testing_data_y = y_test.reshape(-1,1)"
   ]
  },
  {
   "cell_type": "code",
   "execution_count": 19,
   "id": "76951160",
   "metadata": {
    "execution": {
     "iopub.execute_input": "2022-03-16T00:30:51.242928Z",
     "iopub.status.busy": "2022-03-16T00:30:51.242254Z",
     "iopub.status.idle": "2022-03-16T00:30:51.262812Z",
     "shell.execute_reply": "2022-03-16T00:30:51.262301Z"
    },
    "papermill": {
     "duration": 0.057983,
     "end_time": "2022-03-16T00:30:51.262950",
     "exception": false,
     "start_time": "2022-03-16T00:30:51.204967",
     "status": "completed"
    },
    "tags": []
   },
   "outputs": [
    {
     "name": "stdout",
     "output_type": "stream",
     "text": [
      "xavier\n",
      "xavier\n",
      "xavier\n",
      "xavier\n",
      "xavier\n"
     ]
    }
   ],
   "source": [
    "layers = [Affine(\"first\", 784, 100), Relu(\"first\"), Affine(\"second\", 100, 100), Relu(\"second\"), Affine(\"third\", 100, 2), Affine(\"last\", 2, 1), Sigmoid(\"last\")]\n",
    "model_nn = Model(layers)\n",
    "model_lr = Model([Affine(\"logits\", 784, 1), Sigmoid(\"sigmoid\")])"
   ]
  },
  {
   "cell_type": "code",
   "execution_count": 20,
   "id": "6eede77a",
   "metadata": {
    "execution": {
     "iopub.execute_input": "2022-03-16T00:30:51.335244Z",
     "iopub.status.busy": "2022-03-16T00:30:51.334636Z",
     "iopub.status.idle": "2022-03-16T00:30:51.349267Z",
     "shell.execute_reply": "2022-03-16T00:30:51.348746Z"
    },
    "papermill": {
     "duration": 0.052075,
     "end_time": "2022-03-16T00:30:51.349406",
     "exception": false,
     "start_time": "2022-03-16T00:30:51.297331",
     "status": "completed"
    },
    "tags": []
   },
   "outputs": [],
   "source": [
    "nn_learner = Learner(loss, model_nn, opt, config.num_epochs)\n",
    "acc_nn = ClfCallback(nn_learner, config.bs, training_data_x , testing_data_x, training_data_y, testing_data_y)\n",
    "nn_learner.set_callbacks([acc_nn])"
   ]
  },
  {
   "cell_type": "code",
   "execution_count": 21,
   "id": "877b6cc7",
   "metadata": {
    "execution": {
     "iopub.execute_input": "2022-03-16T00:30:51.422503Z",
     "iopub.status.busy": "2022-03-16T00:30:51.421846Z",
     "iopub.status.idle": "2022-03-16T00:30:51.438833Z",
     "shell.execute_reply": "2022-03-16T00:30:51.439345Z"
    },
    "papermill": {
     "duration": 0.053589,
     "end_time": "2022-03-16T00:30:51.439511",
     "exception": false,
     "start_time": "2022-03-16T00:30:51.385922",
     "status": "completed"
    },
    "tags": []
   },
   "outputs": [],
   "source": [
    "lr_learner = Learner(loss, model_lr, opt, config.num_epochs)\n",
    "acc_lr = ClfCallback(lr_learner, config.bs, training_data_x , testing_data_x, training_data_y, testing_data_y)\n",
    "lr_learner.set_callbacks([acc_lr])"
   ]
  },
  {
   "cell_type": "code",
   "execution_count": 22,
   "id": "d9b133c3",
   "metadata": {
    "execution": {
     "iopub.execute_input": "2022-03-16T00:30:51.529576Z",
     "iopub.status.busy": "2022-03-16T00:30:51.528975Z",
     "iopub.status.idle": "2022-03-16T00:32:19.613160Z",
     "shell.execute_reply": "2022-03-16T00:32:19.614043Z"
    },
    "papermill": {
     "duration": 88.132233,
     "end_time": "2022-03-16T00:32:19.614209",
     "exception": false,
     "start_time": "2022-03-16T00:30:51.481976",
     "status": "completed"
    },
    "tags": []
   },
   "outputs": [
    {
     "name": "stdout",
     "output_type": "stream",
     "text": [
      "Epoch 0, Loss 0.248\n",
      "Training Accuracy: 0.5890, Testing Accuracy: 0.5842\n",
      "\n"
     ]
    },
    {
     "name": "stdout",
     "output_type": "stream",
     "text": [
      "Epoch 10, Loss 0.1115\n",
      "Training Accuracy: 0.9044, Testing Accuracy: 0.9168\n",
      "\n"
     ]
    },
    {
     "name": "stdout",
     "output_type": "stream",
     "text": [
      "Epoch 20, Loss 0.0632\n",
      "Training Accuracy: 0.9351, Testing Accuracy: 0.9461\n",
      "\n"
     ]
    },
    {
     "name": "stdout",
     "output_type": "stream",
     "text": [
      "Epoch 30, Loss 0.0477\n",
      "Training Accuracy: 0.9479, Testing Accuracy: 0.9587\n",
      "\n"
     ]
    },
    {
     "name": "stdout",
     "output_type": "stream",
     "text": [
      "Epoch 40, Loss 0.0405\n",
      "Training Accuracy: 0.9537, Testing Accuracy: 0.9657\n",
      "\n"
     ]
    },
    {
     "name": "stdout",
     "output_type": "stream",
     "text": [
      "Epoch 50, Loss 0.0364\n",
      "Training Accuracy: 0.9577, Testing Accuracy: 0.9667\n",
      "\n"
     ]
    },
    {
     "name": "stdout",
     "output_type": "stream",
     "text": [
      "Epoch 60, Loss 0.0336\n",
      "Training Accuracy: 0.9604, Testing Accuracy: 0.9693\n",
      "\n"
     ]
    },
    {
     "name": "stdout",
     "output_type": "stream",
     "text": [
      "Epoch 70, Loss 0.0316\n",
      "Training Accuracy: 0.9630, Testing Accuracy: 0.9708\n",
      "\n"
     ]
    },
    {
     "name": "stdout",
     "output_type": "stream",
     "text": [
      "Epoch 80, Loss 0.03\n",
      "Training Accuracy: 0.9648, Testing Accuracy: 0.9713\n",
      "\n"
     ]
    },
    {
     "name": "stdout",
     "output_type": "stream",
     "text": [
      "Epoch 90, Loss 0.0287\n",
      "Training Accuracy: 0.9663, Testing Accuracy: 0.9713\n",
      "\n"
     ]
    },
    {
     "name": "stdout",
     "output_type": "stream",
     "text": [
      "Epoch 100, Loss 0.0277\n",
      "Training Accuracy: 0.9678, Testing Accuracy: 0.9723\n",
      "\n"
     ]
    },
    {
     "name": "stdout",
     "output_type": "stream",
     "text": [
      "Epoch 110, Loss 0.0267\n",
      "Training Accuracy: 0.9698, Testing Accuracy: 0.9723\n",
      "\n"
     ]
    },
    {
     "name": "stdout",
     "output_type": "stream",
     "text": [
      "Epoch 120, Loss 0.0259\n",
      "Training Accuracy: 0.9704, Testing Accuracy: 0.9723\n",
      "\n"
     ]
    },
    {
     "name": "stdout",
     "output_type": "stream",
     "text": [
      "Epoch 130, Loss 0.0252\n",
      "Training Accuracy: 0.9711, Testing Accuracy: 0.9733\n",
      "\n"
     ]
    },
    {
     "name": "stdout",
     "output_type": "stream",
     "text": [
      "Epoch 140, Loss 0.0245\n",
      "Training Accuracy: 0.9721, Testing Accuracy: 0.9723\n",
      "\n"
     ]
    },
    {
     "name": "stdout",
     "output_type": "stream",
     "text": [
      "Epoch 150, Loss 0.0239\n",
      "Training Accuracy: 0.9725, Testing Accuracy: 0.9718\n",
      "\n"
     ]
    },
    {
     "name": "stdout",
     "output_type": "stream",
     "text": [
      "Epoch 160, Loss 0.0233\n",
      "Training Accuracy: 0.9735, Testing Accuracy: 0.9718\n",
      "\n"
     ]
    },
    {
     "name": "stdout",
     "output_type": "stream",
     "text": [
      "Epoch 170, Loss 0.0228\n",
      "Training Accuracy: 0.9740, Testing Accuracy: 0.9723\n",
      "\n"
     ]
    },
    {
     "name": "stdout",
     "output_type": "stream",
     "text": [
      "Epoch 180, Loss 0.0223\n",
      "Training Accuracy: 0.9741, Testing Accuracy: 0.9728\n",
      "\n"
     ]
    },
    {
     "name": "stdout",
     "output_type": "stream",
     "text": [
      "Epoch 190, Loss 0.0219\n",
      "Training Accuracy: 0.9747, Testing Accuracy: 0.9733\n",
      "\n"
     ]
    },
    {
     "name": "stdout",
     "output_type": "stream",
     "text": [
      "Epoch 200, Loss 0.0215\n",
      "Training Accuracy: 0.9755, Testing Accuracy: 0.9738\n",
      "\n"
     ]
    },
    {
     "name": "stdout",
     "output_type": "stream",
     "text": [
      "Epoch 210, Loss 0.021\n",
      "Training Accuracy: 0.9757, Testing Accuracy: 0.9738\n",
      "\n"
     ]
    },
    {
     "name": "stdout",
     "output_type": "stream",
     "text": [
      "Epoch 220, Loss 0.0207\n",
      "Training Accuracy: 0.9763, Testing Accuracy: 0.9738\n",
      "\n"
     ]
    },
    {
     "name": "stdout",
     "output_type": "stream",
     "text": [
      "Epoch 230, Loss 0.0203\n",
      "Training Accuracy: 0.9765, Testing Accuracy: 0.9733\n",
      "\n"
     ]
    },
    {
     "name": "stdout",
     "output_type": "stream",
     "text": [
      "Epoch 240, Loss 0.0199\n",
      "Training Accuracy: 0.9774, Testing Accuracy: 0.9733\n",
      "\n"
     ]
    },
    {
     "data": {
      "text/plain": [
       "0.010382679840668176"
      ]
     },
     "execution_count": 22,
     "metadata": {},
     "output_type": "execute_result"
    }
   ],
   "source": [
    "nn_learner.train_loop(dl)"
   ]
  },
  {
   "cell_type": "code",
   "execution_count": 23,
   "id": "e0163366",
   "metadata": {
    "execution": {
     "iopub.execute_input": "2022-03-16T00:32:19.723533Z",
     "iopub.status.busy": "2022-03-16T00:32:19.722935Z",
     "iopub.status.idle": "2022-03-16T00:32:35.427870Z",
     "shell.execute_reply": "2022-03-16T00:32:35.428715Z"
    },
    "papermill": {
     "duration": 15.775571,
     "end_time": "2022-03-16T00:32:35.428878",
     "exception": false,
     "start_time": "2022-03-16T00:32:19.653307",
     "status": "completed"
    },
    "tags": []
   },
   "outputs": [
    {
     "name": "stdout",
     "output_type": "stream",
     "text": [
      "Epoch 0, Loss 0.2473\n",
      "Training Accuracy: 0.6747, Testing Accuracy: 0.6673\n",
      "\n"
     ]
    },
    {
     "name": "stdout",
     "output_type": "stream",
     "text": [
      "Epoch 10, Loss 0.1045\n",
      "Training Accuracy: 0.9054, Testing Accuracy: 0.9128\n",
      "\n"
     ]
    },
    {
     "name": "stdout",
     "output_type": "stream",
     "text": [
      "Epoch 20, Loss 0.0804\n",
      "Training Accuracy: 0.9251, Testing Accuracy: 0.9325\n",
      "\n"
     ]
    },
    {
     "name": "stdout",
     "output_type": "stream",
     "text": [
      "Epoch 30, Loss 0.0694\n",
      "Training Accuracy: 0.9346, Testing Accuracy: 0.9451\n",
      "\n"
     ]
    },
    {
     "name": "stdout",
     "output_type": "stream",
     "text": [
      "Epoch 40, Loss 0.0627\n",
      "Training Accuracy: 0.9396, Testing Accuracy: 0.9511\n",
      "\n"
     ]
    },
    {
     "name": "stdout",
     "output_type": "stream",
     "text": [
      "Epoch 50, Loss 0.0581\n",
      "Training Accuracy: 0.9428, Testing Accuracy: 0.9521\n",
      "\n"
     ]
    },
    {
     "name": "stdout",
     "output_type": "stream",
     "text": [
      "Epoch 60, Loss 0.0547\n",
      "Training Accuracy: 0.9450, Testing Accuracy: 0.9541\n",
      "\n"
     ]
    },
    {
     "name": "stdout",
     "output_type": "stream",
     "text": [
      "Epoch 70, Loss 0.0521\n",
      "Training Accuracy: 0.9481, Testing Accuracy: 0.9551\n",
      "\n"
     ]
    },
    {
     "name": "stdout",
     "output_type": "stream",
     "text": [
      "Epoch 80, Loss 0.05\n",
      "Training Accuracy: 0.9500, Testing Accuracy: 0.9572\n",
      "\n"
     ]
    },
    {
     "name": "stdout",
     "output_type": "stream",
     "text": [
      "Epoch 90, Loss 0.0482\n",
      "Training Accuracy: 0.9517, Testing Accuracy: 0.9597\n",
      "\n"
     ]
    },
    {
     "name": "stdout",
     "output_type": "stream",
     "text": [
      "Epoch 100, Loss 0.0467\n",
      "Training Accuracy: 0.9527, Testing Accuracy: 0.9607\n",
      "\n"
     ]
    },
    {
     "name": "stdout",
     "output_type": "stream",
     "text": [
      "Epoch 110, Loss 0.0455\n",
      "Training Accuracy: 0.9537, Testing Accuracy: 0.9617\n",
      "\n"
     ]
    },
    {
     "name": "stdout",
     "output_type": "stream",
     "text": [
      "Epoch 120, Loss 0.0444\n",
      "Training Accuracy: 0.9553, Testing Accuracy: 0.9622\n",
      "\n"
     ]
    },
    {
     "name": "stdout",
     "output_type": "stream",
     "text": [
      "Epoch 130, Loss 0.0434\n",
      "Training Accuracy: 0.9559, Testing Accuracy: 0.9632\n",
      "\n"
     ]
    },
    {
     "name": "stdout",
     "output_type": "stream",
     "text": [
      "Epoch 140, Loss 0.0425\n",
      "Training Accuracy: 0.9565, Testing Accuracy: 0.9627\n",
      "\n"
     ]
    },
    {
     "name": "stdout",
     "output_type": "stream",
     "text": [
      "Epoch 150, Loss 0.0417\n",
      "Training Accuracy: 0.9569, Testing Accuracy: 0.9632\n",
      "\n"
     ]
    },
    {
     "name": "stdout",
     "output_type": "stream",
     "text": [
      "Epoch 160, Loss 0.041\n",
      "Training Accuracy: 0.9577, Testing Accuracy: 0.9642\n",
      "\n"
     ]
    },
    {
     "name": "stdout",
     "output_type": "stream",
     "text": [
      "Epoch 170, Loss 0.0404\n",
      "Training Accuracy: 0.9583, Testing Accuracy: 0.9647\n",
      "\n"
     ]
    },
    {
     "name": "stdout",
     "output_type": "stream",
     "text": [
      "Epoch 180, Loss 0.0398\n",
      "Training Accuracy: 0.9586, Testing Accuracy: 0.9647\n",
      "\n"
     ]
    },
    {
     "name": "stdout",
     "output_type": "stream",
     "text": [
      "Epoch 190, Loss 0.0393\n",
      "Training Accuracy: 0.9589, Testing Accuracy: 0.9652\n",
      "\n"
     ]
    },
    {
     "name": "stdout",
     "output_type": "stream",
     "text": [
      "Epoch 200, Loss 0.0388\n",
      "Training Accuracy: 0.9593, Testing Accuracy: 0.9657\n",
      "\n"
     ]
    },
    {
     "name": "stdout",
     "output_type": "stream",
     "text": [
      "Epoch 210, Loss 0.0383\n",
      "Training Accuracy: 0.9595, Testing Accuracy: 0.9662\n",
      "\n"
     ]
    },
    {
     "name": "stdout",
     "output_type": "stream",
     "text": [
      "Epoch 220, Loss 0.0379\n",
      "Training Accuracy: 0.9598, Testing Accuracy: 0.9667\n",
      "\n"
     ]
    },
    {
     "name": "stdout",
     "output_type": "stream",
     "text": [
      "Epoch 230, Loss 0.0375\n",
      "Training Accuracy: 0.9601, Testing Accuracy: 0.9667\n",
      "\n"
     ]
    },
    {
     "name": "stdout",
     "output_type": "stream",
     "text": [
      "Epoch 240, Loss 0.0371\n",
      "Training Accuracy: 0.9607, Testing Accuracy: 0.9667\n",
      "\n"
     ]
    },
    {
     "data": {
      "text/plain": [
       "0.010669610882641078"
      ]
     },
     "execution_count": 23,
     "metadata": {},
     "output_type": "execute_result"
    }
   ],
   "source": [
    "lr_learner.train_loop(dl)"
   ]
  },
  {
   "cell_type": "code",
   "execution_count": 24,
   "id": "ca410940",
   "metadata": {
    "execution": {
     "iopub.execute_input": "2022-03-16T00:32:35.533454Z",
     "iopub.status.busy": "2022-03-16T00:32:35.532820Z",
     "iopub.status.idle": "2022-03-16T00:32:35.808249Z",
     "shell.execute_reply": "2022-03-16T00:32:35.807311Z"
    },
    "papermill": {
     "duration": 0.332399,
     "end_time": "2022-03-16T00:32:35.808462",
     "exception": false,
     "start_time": "2022-03-16T00:32:35.476063",
     "status": "completed"
    },
    "tags": []
   },
   "outputs": [
    {
     "data": {
      "text/plain": [
       "<matplotlib.legend.Legend at 0x7f912441ed68>"
      ]
     },
     "execution_count": 24,
     "metadata": {},
     "output_type": "execute_result"
    },
    {
     "data": {
      "image/png": "[encoded data removed]",
      "text/plain": [
       "<Figure size 1080x720 with 1 Axes>"
      ]
     },
     "metadata": {
      "needs_background": "light"
     },
     "output_type": "display_data"
    }
   ],
   "source": [
    "#comparing the results of NN and LR\n",
    "plt.figure(figsize=(15,10))\n",
    "\n",
    "# Neural Network plots\n",
    "plt.plot(acc_nn.accuracies, 'r-', label = \"Training Accuracies - NN\")\n",
    "plt.plot(acc_nn.test_accuracies, 'g-', label = \"Testing Accuracies - NN\")\n",
    "\n",
    "# Logistic Regression plots\n",
    "plt.plot(acc_lr.accuracies, 'k-', label = \"Training Accuracies - LR\")\n",
    "plt.plot(acc_lr.test_accuracies, 'b-', label = \"Testing Accuracies - LR\")\n",
    "plt.legend()"
   ]
  },
  {
   "cell_type": "markdown",
   "id": "80dfb35c",
   "metadata": {
    "papermill": {
     "duration": 0.049062,
     "end_time": "2022-03-16T00:32:35.913404",
     "exception": false,
     "start_time": "2022-03-16T00:32:35.864342",
     "status": "completed"
    },
    "tags": []
   },
   "source": [
    "#### Plotting the outputs of this layer of the NN.\n"
   ]
  },
  {
   "cell_type": "code",
   "execution_count": 25,
   "id": "45eb2ff5",
   "metadata": {
    "execution": {
     "iopub.execute_input": "2022-03-16T00:32:36.015653Z",
     "iopub.status.busy": "2022-03-16T00:32:36.014997Z",
     "iopub.status.idle": "2022-03-16T00:32:36.037933Z",
     "shell.execute_reply": "2022-03-16T00:32:36.037358Z"
    },
    "papermill": {
     "duration": 0.074702,
     "end_time": "2022-03-16T00:32:36.038068",
     "exception": false,
     "start_time": "2022-03-16T00:32:35.963366",
     "status": "completed"
    },
    "tags": []
   },
   "outputs": [],
   "source": [
    "new_model = Model(layers[:-2])\n",
    "testing_plot = new_model(testing_data_x)"
   ]
  },
  {
   "cell_type": "code",
   "execution_count": 26,
   "id": "4c0a5485",
   "metadata": {
    "execution": {
     "iopub.execute_input": "2022-03-16T00:32:36.145897Z",
     "iopub.status.busy": "2022-03-16T00:32:36.145246Z",
     "iopub.status.idle": "2022-03-16T00:32:36.395629Z",
     "shell.execute_reply": "2022-03-16T00:32:36.395009Z"
    },
    "papermill": {
     "duration": 0.30874,
     "end_time": "2022-03-16T00:32:36.395760",
     "exception": false,
     "start_time": "2022-03-16T00:32:36.087020",
     "status": "completed"
    },
    "tags": []
   },
   "outputs": [
    {
     "data": {
      "text/plain": [
       "Text(0.5, 1.0, 'Outputs')"
      ]
     },
     "execution_count": 26,
     "metadata": {},
     "output_type": "execute_result"
    },
    {
     "data": {
      "image/png": "[encoded data removed]",
      "text/plain": [
       "<Figure size 576x504 with 1 Axes>"
      ]
     },
     "metadata": {
      "needs_background": "light"
     },
     "output_type": "display_data"
    }
   ],
   "source": [
    "# Plotting the scatter plot of points and color coding by class\n",
    "plt.figure(figsize=(8,7))\n",
    "plt.scatter(testing_plot[:,0], testing_plot[:,1], alpha = 0.1, c = y_test.ravel());\n",
    "plt.title('Outputs')"
   ]
  },
  {
   "cell_type": "markdown",
   "id": "a74fcf8f",
   "metadata": {
    "papermill": {
     "duration": 0.051061,
     "end_time": "2022-03-16T00:32:36.497768",
     "exception": false,
     "start_time": "2022-03-16T00:32:36.446707",
     "status": "completed"
    },
    "tags": []
   },
   "source": [
    "Probability contours"
   ]
  },
  {
   "cell_type": "code",
   "execution_count": 27,
   "id": "d0afc8e3",
   "metadata": {
    "execution": {
     "iopub.execute_input": "2022-03-16T00:32:36.640169Z",
     "iopub.status.busy": "2022-03-16T00:32:36.638999Z",
     "iopub.status.idle": "2022-03-16T00:32:36.654166Z",
     "shell.execute_reply": "2022-03-16T00:32:36.653600Z"
    },
    "papermill": {
     "duration": 0.105012,
     "end_time": "2022-03-16T00:32:36.654301",
     "exception": false,
     "start_time": "2022-03-16T00:32:36.549289",
     "status": "completed"
    },
    "tags": []
   },
   "outputs": [],
   "source": [
    "model_prob = Model(layers[-2:]) "
   ]
  },
  {
   "cell_type": "code",
   "execution_count": 28,
   "id": "9b96e238",
   "metadata": {
    "execution": {
     "iopub.execute_input": "2022-03-16T00:32:36.765669Z",
     "iopub.status.busy": "2022-03-16T00:32:36.765049Z",
     "iopub.status.idle": "2022-03-16T00:32:36.779870Z",
     "shell.execute_reply": "2022-03-16T00:32:36.780366Z"
    },
    "papermill": {
     "duration": 0.073926,
     "end_time": "2022-03-16T00:32:36.780534",
     "exception": false,
     "start_time": "2022-03-16T00:32:36.706608",
     "status": "completed"
    },
    "tags": []
   },
   "outputs": [],
   "source": [
    "#creating the x and y ranges according to the above generated plot.\n",
    "x_range = np.linspace(-4, 1, 100) \n",
    "y_range = np.linspace(-6, 6, 100) \n",
    "x_grid, y_grid = np.meshgrid(x_range, y_range) # x_grid and y_grig are of size 100 X 100\n",
    "\n",
    "# converting x_grid and y_grid to continuous arrays\n",
    "x_gridflat = np.ravel(x_grid)\n",
    "y_gridflat = np.ravel(y_grid)\n",
    "\n",
    "# The last layer of the current model takes two columns as input. Hence transpose of np.vstack() is required.\n",
    "X = np.vstack((x_gridflat, y_gridflat)).T\n",
    "\n",
    "prob_contour = model_prob(X).reshape(100,100) "
   ]
  },
  {
   "cell_type": "code",
   "execution_count": 29,
   "id": "da72499a",
   "metadata": {
    "execution": {
     "iopub.execute_input": "2022-03-16T00:32:36.905329Z",
     "iopub.status.busy": "2022-03-16T00:32:36.904724Z",
     "iopub.status.idle": "2022-03-16T00:32:37.195802Z",
     "shell.execute_reply": "2022-03-16T00:32:37.196313Z"
    },
    "papermill": {
     "duration": 0.361756,
     "end_time": "2022-03-16T00:32:37.196471",
     "exception": false,
     "start_time": "2022-03-16T00:32:36.834715",
     "status": "completed"
    },
    "tags": []
   },
   "outputs": [
    {
     "data": {
      "image/png": "[encoded data removed]",
      "text/plain": [
       "<Figure size 720x648 with 1 Axes>"
      ]
     },
     "metadata": {
      "needs_background": "light"
     },
     "output_type": "display_data"
    }
   ],
   "source": [
    "plt.figure(figsize=(10,9))\n",
    "plt.scatter(testing_plot[:,0], testing_plot[:,1], alpha = 0.1, c = y_test.ravel())\n",
    "contours = plt.contour(x_grid,y_grid,prob_contour)\n",
    "plt.title('Probability Contours')\n",
    "plt.clabel(contours, inline = True );"
   ]
  },
  {
   "cell_type": "code",
   "execution_count": null,
   "id": "e81b4ac7",
   "metadata": {
    "papermill": {
     "duration": 0.054051,
     "end_time": "2022-03-16T00:32:37.304581",
     "exception": false,
     "start_time": "2022-03-16T00:32:37.250530",
     "status": "completed"
    },
    "tags": []
   },
   "outputs": [],
   "source": []
  }
 ],
 "metadata": {
  "kernelspec": {
   "display_name": "Python 3",
   "language": "python",
   "name": "python3"
  },
  "language_info": {
   "codemirror_mode": {
    "name": "ipython",
    "version": 3
   },
   "file_extension": ".py",
   "mimetype": "text/x-python",
   "name": "python",
   "nbconvert_exporter": "python",
   "pygments_lexer": "ipython3",
   "version": "3.6.15"
  },
  "papermill": {
   "default_parameters": {},
   "duration": 114.359565,
   "end_time": "2022-03-16T00:32:37.778173",
   "environment_variables": {},
   "exception": null,
   "input_path": "2020-08-11-part2.ipynb",
   "output_path": "2020-08-11-part2.ipynb",
   "parameters": {},
   "start_time": "2022-03-16T00:30:43.418608",
   "version": "2.3.3"
  }
 },
 "nbformat": 4,
 "nbformat_minor": 5
}