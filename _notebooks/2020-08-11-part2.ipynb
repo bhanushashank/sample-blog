{
 "cells": [
  {
   "cell_type": "markdown",
   "id": "98380cd3",
   "metadata": {
    "papermill": {
     "duration": 0.034275,
     "end_time": "2021-08-28T20:06:59.919596",
     "exception": false,
     "start_time": "2021-08-28T20:06:59.885321",
     "status": "completed"
    },
    "tags": []
   },
   "source": [
    "# Distinguish Your Own Digits (DYOD)"
   ]
  },
  {
   "cell_type": "markdown",
   "id": "ef31240d",
   "metadata": {
    "papermill": {
     "duration": 0.032078,
     "end_time": "2021-08-28T20:06:59.981856",
     "exception": false,
     "start_time": "2021-08-28T20:06:59.949778",
     "status": "completed"
    },
    "tags": []
   },
   "source": [
    "You are going to write a classifier that distinguishes between the number 3 and number 8."
   ]
  },
  {
   "cell_type": "code",
   "execution_count": 1,
   "id": "b15c8646",
   "metadata": {
    "execution": {
     "iopub.execute_input": "2021-08-28T20:07:00.057127Z",
     "iopub.status.busy": "2021-08-28T20:07:00.056375Z",
     "iopub.status.idle": "2021-08-28T20:07:00.068379Z",
     "shell.execute_reply": "2021-08-28T20:07:00.067646Z"
    },
    "papermill": {
     "duration": 0.055376,
     "end_time": "2021-08-28T20:07:00.068538",
     "exception": false,
     "start_time": "2021-08-28T20:07:00.013162",
     "status": "completed"
    },
    "tags": []
   },
   "outputs": [],
   "source": [
    "%load_ext autoreload\n",
    "%autoreload 2"
   ]
  },
  {
   "cell_type": "code",
   "execution_count": 2,
   "id": "22ef38dc",
   "metadata": {
    "execution": {
     "iopub.execute_input": "2021-08-28T20:07:00.138378Z",
     "iopub.status.busy": "2021-08-28T20:07:00.137645Z",
     "iopub.status.idle": "2021-08-28T20:07:00.771460Z",
     "shell.execute_reply": "2021-08-28T20:07:00.770925Z"
    },
    "papermill": {
     "duration": 0.67042,
     "end_time": "2021-08-28T20:07:00.771589",
     "exception": false,
     "start_time": "2021-08-28T20:07:00.101169",
     "status": "completed"
    },
    "tags": []
   },
   "outputs": [],
   "source": [
    "%matplotlib inline\n",
    "import numpy as np\n",
    "import matplotlib.pyplot as plt\n",
    "import pandas as pd"
   ]
  },
  {
   "cell_type": "markdown",
   "id": "ba036198",
   "metadata": {
    "papermill": {
     "duration": 0.032788,
     "end_time": "2021-08-28T20:07:00.834511",
     "exception": false,
     "start_time": "2021-08-28T20:07:00.801723",
     "status": "completed"
    },
    "tags": []
   },
   "source": [
    "From the command line run `pip install mnist`. This is a library that will help you bring down the mnist dataset. If you run this from a notebook, you need to put  `!pip install mnist` in a cell by itself."
   ]
  },
  {
   "cell_type": "code",
   "execution_count": 3,
   "id": "bb6ad8a1",
   "metadata": {
    "execution": {
     "iopub.execute_input": "2021-08-28T20:07:00.898941Z",
     "iopub.status.busy": "2021-08-28T20:07:00.898333Z",
     "iopub.status.idle": "2021-08-28T20:07:02.835521Z",
     "shell.execute_reply": "2021-08-28T20:07:02.834979Z"
    },
    "papermill": {
     "duration": 1.971597,
     "end_time": "2021-08-28T20:07:02.835649",
     "exception": false,
     "start_time": "2021-08-28T20:07:00.864052",
     "status": "completed"
    },
    "tags": []
   },
   "outputs": [
    {
     "name": "stdout",
     "output_type": "stream",
     "text": [
      "Collecting mnist\r\n"
     ]
    },
    {
     "name": "stdout",
     "output_type": "stream",
     "text": [
      "  Downloading mnist-0.2.2-py2.py3-none-any.whl (3.5 kB)\r\n",
      "Requirement already satisfied: numpy in /opt/hostedtoolcache/Python/3.6.14/x64/lib/python3.6/site-packages (from mnist) (1.19.5)\r\n"
     ]
    },
    {
     "name": "stdout",
     "output_type": "stream",
     "text": [
      "Installing collected packages: mnist\r\n"
     ]
    },
    {
     "name": "stdout",
     "output_type": "stream",
     "text": [
      "Successfully installed mnist-0.2.2\r\n"
     ]
    }
   ],
   "source": [
    "!pip install mnist"
   ]
  },
  {
   "cell_type": "markdown",
   "id": "69df9c9a",
   "metadata": {
    "papermill": {
     "duration": 0.030389,
     "end_time": "2021-08-28T20:07:02.896862",
     "exception": false,
     "start_time": "2021-08-28T20:07:02.866473",
     "status": "completed"
    },
    "tags": []
   },
   "source": [
    "## Preparing the Data"
   ]
  },
  {
   "cell_type": "code",
   "execution_count": 4,
   "id": "7f69d806",
   "metadata": {
    "execution": {
     "iopub.execute_input": "2021-08-28T20:07:02.966793Z",
     "iopub.status.busy": "2021-08-28T20:07:02.966111Z",
     "iopub.status.idle": "2021-08-28T20:07:02.982017Z",
     "shell.execute_reply": "2021-08-28T20:07:02.981514Z"
    },
    "papermill": {
     "duration": 0.051735,
     "end_time": "2021-08-28T20:07:02.982166",
     "exception": false,
     "start_time": "2021-08-28T20:07:02.930431",
     "status": "completed"
    },
    "tags": []
   },
   "outputs": [],
   "source": [
    "import mnist"
   ]
  },
  {
   "cell_type": "code",
   "execution_count": 5,
   "id": "a411e44f",
   "metadata": {
    "execution": {
     "iopub.execute_input": "2021-08-28T20:07:03.050434Z",
     "iopub.status.busy": "2021-08-28T20:07:03.049640Z",
     "iopub.status.idle": "2021-08-28T20:07:03.623096Z",
     "shell.execute_reply": "2021-08-28T20:07:03.622512Z"
    },
    "papermill": {
     "duration": 0.609292,
     "end_time": "2021-08-28T20:07:03.623324",
     "exception": false,
     "start_time": "2021-08-28T20:07:03.014032",
     "status": "completed"
    },
    "tags": []
   },
   "outputs": [],
   "source": [
    "train_images = mnist.train_images()\n",
    "train_labels = mnist.train_labels()"
   ]
  },
  {
   "cell_type": "code",
   "execution_count": 6,
   "id": "dceab3a5",
   "metadata": {
    "execution": {
     "iopub.execute_input": "2021-08-28T20:07:03.690254Z",
     "iopub.status.busy": "2021-08-28T20:07:03.689640Z",
     "iopub.status.idle": "2021-08-28T20:07:03.705933Z",
     "shell.execute_reply": "2021-08-28T20:07:03.705261Z"
    },
    "papermill": {
     "duration": 0.050415,
     "end_time": "2021-08-28T20:07:03.706089",
     "exception": false,
     "start_time": "2021-08-28T20:07:03.655674",
     "status": "completed"
    },
    "tags": []
   },
   "outputs": [
    {
     "data": {
      "text/plain": [
       "((60000, 28, 28), (60000,))"
      ]
     },
     "execution_count": 6,
     "metadata": {},
     "output_type": "execute_result"
    }
   ],
   "source": [
    "train_images.shape, train_labels.shape"
   ]
  },
  {
   "cell_type": "code",
   "execution_count": 7,
   "id": "f50dc2bb",
   "metadata": {
    "execution": {
     "iopub.execute_input": "2021-08-28T20:07:03.781106Z",
     "iopub.status.busy": "2021-08-28T20:07:03.780467Z",
     "iopub.status.idle": "2021-08-28T20:07:03.940661Z",
     "shell.execute_reply": "2021-08-28T20:07:03.940033Z"
    },
    "papermill": {
     "duration": 0.196717,
     "end_time": "2021-08-28T20:07:03.940798",
     "exception": false,
     "start_time": "2021-08-28T20:07:03.744081",
     "status": "completed"
    },
    "tags": []
   },
   "outputs": [],
   "source": [
    "test_images = mnist.test_images()\n",
    "test_labels = mnist.test_labels()"
   ]
  },
  {
   "cell_type": "code",
   "execution_count": 8,
   "id": "fc38cf1b",
   "metadata": {
    "execution": {
     "iopub.execute_input": "2021-08-28T20:07:04.017301Z",
     "iopub.status.busy": "2021-08-28T20:07:04.016549Z",
     "iopub.status.idle": "2021-08-28T20:07:04.031769Z",
     "shell.execute_reply": "2021-08-28T20:07:04.031195Z"
    },
    "papermill": {
     "duration": 0.055199,
     "end_time": "2021-08-28T20:07:04.031906",
     "exception": false,
     "start_time": "2021-08-28T20:07:03.976707",
     "status": "completed"
    },
    "tags": []
   },
   "outputs": [
    {
     "data": {
      "text/plain": [
       "((10000, 28, 28), (10000,))"
      ]
     },
     "execution_count": 8,
     "metadata": {},
     "output_type": "execute_result"
    }
   ],
   "source": [
    "test_images.shape, test_labels.shape"
   ]
  },
  {
   "cell_type": "code",
   "execution_count": 9,
   "id": "f9ed8fe0",
   "metadata": {
    "execution": {
     "iopub.execute_input": "2021-08-28T20:07:04.107303Z",
     "iopub.status.busy": "2021-08-28T20:07:04.106558Z",
     "iopub.status.idle": "2021-08-28T20:07:04.325414Z",
     "shell.execute_reply": "2021-08-28T20:07:04.324808Z"
    },
    "papermill": {
     "duration": 0.259342,
     "end_time": "2021-08-28T20:07:04.325552",
     "exception": false,
     "start_time": "2021-08-28T20:07:04.066210",
     "status": "completed"
    },
    "tags": []
   },
   "outputs": [
    {
     "name": "stdout",
     "output_type": "stream",
     "text": [
      "2\n"
     ]
    },
    {
     "data": {
      "text/plain": [
       "<matplotlib.image.AxesImage at 0x7f331f9a8908>"
      ]
     },
     "execution_count": 9,
     "metadata": {},
     "output_type": "execute_result"
    },
    {
     "data": {
      "image/png": "[encoded data removed]",
      "text/plain": [
       "<Figure size 432x288 with 1 Axes>"
      ]
     },
     "metadata": {
      "needs_background": "light"
     },
     "output_type": "display_data"
    }
   ],
   "source": [
    "image_index = 7776 # You may select anything up to 60,000\n",
    "print(train_labels[image_index]) \n",
    "plt.imshow(train_images[image_index], cmap='Greys')"
   ]
  },
  {
   "cell_type": "markdown",
   "id": "a8d2388d",
   "metadata": {
    "papermill": {
     "duration": 0.034143,
     "end_time": "2021-08-28T20:07:04.395002",
     "exception": false,
     "start_time": "2021-08-28T20:07:04.360859",
     "status": "completed"
    },
    "tags": []
   },
   "source": [
    "## Filter data to get 3 and 8 out"
   ]
  },
  {
   "cell_type": "code",
   "execution_count": 10,
   "id": "776f7fc7",
   "metadata": {
    "execution": {
     "iopub.execute_input": "2021-08-28T20:07:04.473063Z",
     "iopub.status.busy": "2021-08-28T20:07:04.469779Z",
     "iopub.status.idle": "2021-08-28T20:07:04.488417Z",
     "shell.execute_reply": "2021-08-28T20:07:04.487749Z"
    },
    "papermill": {
     "duration": 0.0574,
     "end_time": "2021-08-28T20:07:04.488581",
     "exception": false,
     "start_time": "2021-08-28T20:07:04.431181",
     "status": "completed"
    },
    "tags": []
   },
   "outputs": [],
   "source": [
    "train_filter = np.where((train_labels == 3 ) | (train_labels == 8))\n",
    "test_filter = np.where((test_labels == 3) | (test_labels == 8))\n",
    "X_train, y_train = train_images[train_filter], train_labels[train_filter]\n",
    "X_test, y_test = test_images[test_filter], test_labels[test_filter]"
   ]
  },
  {
   "cell_type": "markdown",
   "id": "948f0b7e",
   "metadata": {
    "papermill": {
     "duration": 0.032429,
     "end_time": "2021-08-28T20:07:04.555395",
     "exception": false,
     "start_time": "2021-08-28T20:07:04.522966",
     "status": "completed"
    },
    "tags": []
   },
   "source": [
    "We normalize the pizel values in the 0 to 1 range"
   ]
  },
  {
   "cell_type": "code",
   "execution_count": 11,
   "id": "ee4c2166",
   "metadata": {
    "execution": {
     "iopub.execute_input": "2021-08-28T20:07:04.629590Z",
     "iopub.status.busy": "2021-08-28T20:07:04.628908Z",
     "iopub.status.idle": "2021-08-28T20:07:04.697523Z",
     "shell.execute_reply": "2021-08-28T20:07:04.696942Z"
    },
    "papermill": {
     "duration": 0.106914,
     "end_time": "2021-08-28T20:07:04.697658",
     "exception": false,
     "start_time": "2021-08-28T20:07:04.590744",
     "status": "completed"
    },
    "tags": []
   },
   "outputs": [],
   "source": [
    "X_train = X_train/255.\n",
    "X_test = X_test/255."
   ]
  },
  {
   "cell_type": "markdown",
   "id": "ddcf4fab",
   "metadata": {
    "papermill": {
     "duration": 0.03326,
     "end_time": "2021-08-28T20:07:04.765093",
     "exception": false,
     "start_time": "2021-08-28T20:07:04.731833",
     "status": "completed"
    },
    "tags": []
   },
   "source": [
    "And setup the labels as 1 (when the digit is 3) and 0 (when the digit is 8)"
   ]
  },
  {
   "cell_type": "code",
   "execution_count": 12,
   "id": "7dc908f2",
   "metadata": {
    "execution": {
     "iopub.execute_input": "2021-08-28T20:07:04.837587Z",
     "iopub.status.busy": "2021-08-28T20:07:04.836865Z",
     "iopub.status.idle": "2021-08-28T20:07:04.850368Z",
     "shell.execute_reply": "2021-08-28T20:07:04.849796Z"
    },
    "papermill": {
     "duration": 0.051726,
     "end_time": "2021-08-28T20:07:04.850496",
     "exception": false,
     "start_time": "2021-08-28T20:07:04.798770",
     "status": "completed"
    },
    "tags": []
   },
   "outputs": [],
   "source": [
    "y_train = 1*(y_train==3)\n",
    "y_test = 1*(y_test==3)"
   ]
  },
  {
   "cell_type": "code",
   "execution_count": 13,
   "id": "01e4e969",
   "metadata": {
    "execution": {
     "iopub.execute_input": "2021-08-28T20:07:04.921072Z",
     "iopub.status.busy": "2021-08-28T20:07:04.920439Z",
     "iopub.status.idle": "2021-08-28T20:07:04.936205Z",
     "shell.execute_reply": "2021-08-28T20:07:04.935308Z"
    },
    "papermill": {
     "duration": 0.054062,
     "end_time": "2021-08-28T20:07:04.936328",
     "exception": false,
     "start_time": "2021-08-28T20:07:04.882266",
     "status": "completed"
    },
    "tags": []
   },
   "outputs": [
    {
     "data": {
      "text/plain": [
       "((11982, 28, 28), (1984, 28, 28))"
      ]
     },
     "execution_count": 13,
     "metadata": {},
     "output_type": "execute_result"
    }
   ],
   "source": [
    "X_train.shape, X_test.shape"
   ]
  },
  {
   "cell_type": "markdown",
   "id": "5ccf3f85",
   "metadata": {
    "papermill": {
     "duration": 0.032239,
     "end_time": "2021-08-28T20:07:05.001766",
     "exception": false,
     "start_time": "2021-08-28T20:07:04.969527",
     "status": "completed"
    },
    "tags": []
   },
   "source": [
    "We reshape the data to flatten the image pixels into a set of features or co-variates:"
   ]
  },
  {
   "cell_type": "code",
   "execution_count": 14,
   "id": "5286a4a3",
   "metadata": {
    "execution": {
     "iopub.execute_input": "2021-08-28T20:07:05.073164Z",
     "iopub.status.busy": "2021-08-28T20:07:05.072482Z",
     "iopub.status.idle": "2021-08-28T20:07:05.087809Z",
     "shell.execute_reply": "2021-08-28T20:07:05.087244Z"
    },
    "papermill": {
     "duration": 0.053909,
     "end_time": "2021-08-28T20:07:05.087942",
     "exception": false,
     "start_time": "2021-08-28T20:07:05.034033",
     "status": "completed"
    },
    "tags": []
   },
   "outputs": [
    {
     "data": {
      "text/plain": [
       "((11982, 784), (1984, 784))"
      ]
     },
     "execution_count": 14,
     "metadata": {},
     "output_type": "execute_result"
    }
   ],
   "source": [
    "X_train = X_train.reshape(X_train.shape[0], -1)\n",
    "X_test = X_test.reshape(X_test.shape[0], -1)\n",
    "X_train.shape, X_test.shape"
   ]
  },
  {
   "cell_type": "code",
   "execution_count": 15,
   "id": "73c5f88a",
   "metadata": {
    "execution": {
     "iopub.execute_input": "2021-08-28T20:07:05.164252Z",
     "iopub.status.busy": "2021-08-28T20:07:05.163435Z",
     "iopub.status.idle": "2021-08-28T20:07:05.184927Z",
     "shell.execute_reply": "2021-08-28T20:07:05.185575Z"
    },
    "papermill": {
     "duration": 0.065229,
     "end_time": "2021-08-28T20:07:05.185752",
     "exception": false,
     "start_time": "2021-08-28T20:07:05.120523",
     "status": "completed"
    },
    "tags": []
   },
   "outputs": [],
   "source": [
    "#Impoting functions from 'Kudzu'\n",
    "from kudzu.model import Model\n",
    "from kudzu.train import Learner\n",
    "from kudzu.optim import GD\n",
    "from kudzu.data import Data, Sampler,Dataloader\n",
    "\n",
    "from kudzu.callbacks import AccCallback\n",
    "from kudzu.callbacks import ClfCallback\n",
    "\n",
    "from kudzu.loss import MSE\n",
    "\n",
    "from kudzu.layer import Sigmoid,Relu\n",
    "from kudzu.layer import Affine"
   ]
  },
  {
   "cell_type": "markdown",
   "id": "bc01172a",
   "metadata": {
    "papermill": {
     "duration": 0.034959,
     "end_time": "2021-08-28T20:07:05.255270",
     "exception": false,
     "start_time": "2021-08-28T20:07:05.220311",
     "status": "completed"
    },
    "tags": []
   },
   "source": [
    "### Let us create a `Config` class, to store important parameters. \n",
    "This class essentially plays the role of a dictionary."
   ]
  },
  {
   "cell_type": "code",
   "execution_count": 16,
   "id": "978281aa",
   "metadata": {
    "execution": {
     "iopub.execute_input": "2021-08-28T20:07:05.327728Z",
     "iopub.status.busy": "2021-08-28T20:07:05.327006Z",
     "iopub.status.idle": "2021-08-28T20:07:05.340635Z",
     "shell.execute_reply": "2021-08-28T20:07:05.339924Z"
    },
    "papermill": {
     "duration": 0.051684,
     "end_time": "2021-08-28T20:07:05.340762",
     "exception": false,
     "start_time": "2021-08-28T20:07:05.289078",
     "status": "completed"
    },
    "tags": []
   },
   "outputs": [],
   "source": [
    "class Config:\n",
    "    pass\n",
    "config = Config()\n",
    "config.lr = 0.001\n",
    "config.num_epochs = 250\n",
    "config.bs = 50"
   ]
  },
  {
   "cell_type": "markdown",
   "id": "1385fa59",
   "metadata": {
    "papermill": {
     "duration": 0.032657,
     "end_time": "2021-08-28T20:07:05.408719",
     "exception": false,
     "start_time": "2021-08-28T20:07:05.376062",
     "status": "completed"
    },
    "tags": []
   },
   "source": [
    "### Running Models with the Training data\n",
    "Details about the network layers:\n",
    "- A first affine layer has 784 inputs and does 100 affine transforms. These are followed by a Relu\n",
    "- A second affine layer has 100 inputs from the 100 activations of the past layer, and does 100 affine transforms. These are followed by a Relu\n",
    "- A third affine layer has 100 activations and does 2 affine transformations to create an embedding for visualization. There is no non-linearity here.\n",
    "- A final \"logistic regression\" which has an affine transform from 2 inputs to 1 output, which is squeezed through a sigmoid.\n"
   ]
  },
  {
   "cell_type": "code",
   "execution_count": 17,
   "id": "2b9c66db",
   "metadata": {
    "execution": {
     "iopub.execute_input": "2021-08-28T20:07:05.483888Z",
     "iopub.status.busy": "2021-08-28T20:07:05.483242Z",
     "iopub.status.idle": "2021-08-28T20:07:05.495763Z",
     "shell.execute_reply": "2021-08-28T20:07:05.496326Z"
    },
    "papermill": {
     "duration": 0.052684,
     "end_time": "2021-08-28T20:07:05.496473",
     "exception": false,
     "start_time": "2021-08-28T20:07:05.443789",
     "status": "completed"
    },
    "tags": []
   },
   "outputs": [],
   "source": [
    "data = Data(X_train, y_train.reshape(-1,1))\n",
    "sampler = Sampler(data, config.bs, shuffle=True)\n",
    "\n",
    "dl = Dataloader(data, sampler)\n",
    "\n",
    "opt = GD(config.lr)\n",
    "loss = MSE()"
   ]
  },
  {
   "cell_type": "code",
   "execution_count": 18,
   "id": "b275e4c2",
   "metadata": {
    "execution": {
     "iopub.execute_input": "2021-08-28T20:07:05.566698Z",
     "iopub.status.busy": "2021-08-28T20:07:05.566073Z",
     "iopub.status.idle": "2021-08-28T20:07:05.578600Z",
     "shell.execute_reply": "2021-08-28T20:07:05.579080Z"
    },
    "papermill": {
     "duration": 0.049412,
     "end_time": "2021-08-28T20:07:05.579215",
     "exception": false,
     "start_time": "2021-08-28T20:07:05.529803",
     "status": "completed"
    },
    "tags": []
   },
   "outputs": [],
   "source": [
    "training_data_x = X_train\n",
    "testing_data_x = X_test\n",
    "training_data_y = y_train.reshape(-1,1)\n",
    "testing_data_y = y_test.reshape(-1,1)"
   ]
  },
  {
   "cell_type": "code",
   "execution_count": 19,
   "id": "76951160",
   "metadata": {
    "execution": {
     "iopub.execute_input": "2021-08-28T20:07:05.653808Z",
     "iopub.status.busy": "2021-08-28T20:07:05.653149Z",
     "iopub.status.idle": "2021-08-28T20:07:05.670500Z",
     "shell.execute_reply": "2021-08-28T20:07:05.671034Z"
    },
    "papermill": {
     "duration": 0.055299,
     "end_time": "2021-08-28T20:07:05.671194",
     "exception": false,
     "start_time": "2021-08-28T20:07:05.615895",
     "status": "completed"
    },
    "tags": []
   },
   "outputs": [
    {
     "name": "stdout",
     "output_type": "stream",
     "text": [
      "xavier\n",
      "xavier\n",
      "xavier\n",
      "xavier\n",
      "xavier\n"
     ]
    }
   ],
   "source": [
    "layers = [Affine(\"first\", 784, 100), Relu(\"first\"), Affine(\"second\", 100, 100), Relu(\"second\"), Affine(\"third\", 100, 2), Affine(\"last\", 2, 1), Sigmoid(\"last\")]\n",
    "model_nn = Model(layers)\n",
    "model_lr = Model([Affine(\"logits\", 784, 1), Sigmoid(\"sigmoid\")])"
   ]
  },
  {
   "cell_type": "code",
   "execution_count": 20,
   "id": "6eede77a",
   "metadata": {
    "execution": {
     "iopub.execute_input": "2021-08-28T20:07:05.750716Z",
     "iopub.status.busy": "2021-08-28T20:07:05.750095Z",
     "iopub.status.idle": "2021-08-28T20:07:05.763343Z",
     "shell.execute_reply": "2021-08-28T20:07:05.762727Z"
    },
    "papermill": {
     "duration": 0.058189,
     "end_time": "2021-08-28T20:07:05.763492",
     "exception": false,
     "start_time": "2021-08-28T20:07:05.705303",
     "status": "completed"
    },
    "tags": []
   },
   "outputs": [],
   "source": [
    "nn_learner = Learner(loss, model_nn, opt, config.num_epochs)\n",
    "acc_nn = ClfCallback(nn_learner, config.bs, training_data_x , testing_data_x, training_data_y, testing_data_y)\n",
    "nn_learner.set_callbacks([acc_nn])"
   ]
  },
  {
   "cell_type": "code",
   "execution_count": 21,
   "id": "877b6cc7",
   "metadata": {
    "execution": {
     "iopub.execute_input": "2021-08-28T20:07:05.836437Z",
     "iopub.status.busy": "2021-08-28T20:07:05.835656Z",
     "iopub.status.idle": "2021-08-28T20:07:05.848877Z",
     "shell.execute_reply": "2021-08-28T20:07:05.848365Z"
    },
    "papermill": {
     "duration": 0.051908,
     "end_time": "2021-08-28T20:07:05.849002",
     "exception": false,
     "start_time": "2021-08-28T20:07:05.797094",
     "status": "completed"
    },
    "tags": []
   },
   "outputs": [],
   "source": [
    "lr_learner = Learner(loss, model_lr, opt, config.num_epochs)\n",
    "acc_lr = ClfCallback(lr_learner, config.bs, training_data_x , testing_data_x, training_data_y, testing_data_y)\n",
    "lr_learner.set_callbacks([acc_lr])"
   ]
  },
  {
   "cell_type": "code",
   "execution_count": 22,
   "id": "d9b133c3",
   "metadata": {
    "execution": {
     "iopub.execute_input": "2021-08-28T20:07:05.920439Z",
     "iopub.status.busy": "2021-08-28T20:07:05.919641Z",
     "iopub.status.idle": "2021-08-28T20:09:33.464890Z",
     "shell.execute_reply": "2021-08-28T20:09:33.466027Z"
    },
    "papermill": {
     "duration": 147.583816,
     "end_time": "2021-08-28T20:09:33.466185",
     "exception": false,
     "start_time": "2021-08-28T20:07:05.882369",
     "status": "completed"
    },
    "tags": []
   },
   "outputs": [
    {
     "name": "stdout",
     "output_type": "stream",
     "text": [
      "Epoch 0, Loss 0.23\n",
      "Training Accuracy: 0.7666, Testing Accuracy: 0.7747\n",
      "\n"
     ]
    },
    {
     "name": "stdout",
     "output_type": "stream",
     "text": [
      "Epoch 10, Loss 0.0624\n",
      "Training Accuracy: 0.9369, Testing Accuracy: 0.9461\n",
      "\n"
     ]
    },
    {
     "name": "stdout",
     "output_type": "stream",
     "text": [
      "Epoch 20, Loss 0.0436\n",
      "Training Accuracy: 0.9532, Testing Accuracy: 0.9612\n",
      "\n"
     ]
    },
    {
     "name": "stdout",
     "output_type": "stream",
     "text": [
      "Epoch 30, Loss 0.0365\n",
      "Training Accuracy: 0.9595, Testing Accuracy: 0.9662\n",
      "\n"
     ]
    },
    {
     "name": "stdout",
     "output_type": "stream",
     "text": [
      "Epoch 40, Loss 0.0325\n",
      "Training Accuracy: 0.9623, Testing Accuracy: 0.9667\n",
      "\n"
     ]
    },
    {
     "name": "stdout",
     "output_type": "stream",
     "text": [
      "Epoch 50, Loss 0.0299\n",
      "Training Accuracy: 0.9653, Testing Accuracy: 0.9682\n",
      "\n"
     ]
    },
    {
     "name": "stdout",
     "output_type": "stream",
     "text": [
      "Epoch 60, Loss 0.0279\n",
      "Training Accuracy: 0.9677, Testing Accuracy: 0.9693\n",
      "\n"
     ]
    },
    {
     "name": "stdout",
     "output_type": "stream",
     "text": [
      "Epoch 70, Loss 0.0264\n",
      "Training Accuracy: 0.9695, Testing Accuracy: 0.9698\n",
      "\n"
     ]
    },
    {
     "name": "stdout",
     "output_type": "stream",
     "text": [
      "Epoch 80, Loss 0.0251\n",
      "Training Accuracy: 0.9706, Testing Accuracy: 0.9698\n",
      "\n"
     ]
    },
    {
     "name": "stdout",
     "output_type": "stream",
     "text": [
      "Epoch 90, Loss 0.0241\n",
      "Training Accuracy: 0.9718, Testing Accuracy: 0.9708\n",
      "\n"
     ]
    },
    {
     "name": "stdout",
     "output_type": "stream",
     "text": [
      "Epoch 100, Loss 0.0231\n",
      "Training Accuracy: 0.9733, Testing Accuracy: 0.9713\n",
      "\n"
     ]
    },
    {
     "name": "stdout",
     "output_type": "stream",
     "text": [
      "Epoch 110, Loss 0.0223\n",
      "Training Accuracy: 0.9738, Testing Accuracy: 0.9713\n",
      "\n"
     ]
    },
    {
     "name": "stdout",
     "output_type": "stream",
     "text": [
      "Epoch 120, Loss 0.0215\n",
      "Training Accuracy: 0.9746, Testing Accuracy: 0.9713\n",
      "\n"
     ]
    },
    {
     "name": "stdout",
     "output_type": "stream",
     "text": [
      "Epoch 130, Loss 0.0209\n",
      "Training Accuracy: 0.9761, Testing Accuracy: 0.9713\n",
      "\n"
     ]
    },
    {
     "name": "stdout",
     "output_type": "stream",
     "text": [
      "Epoch 140, Loss 0.0202\n",
      "Training Accuracy: 0.9770, Testing Accuracy: 0.9723\n",
      "\n"
     ]
    },
    {
     "name": "stdout",
     "output_type": "stream",
     "text": [
      "Epoch 150, Loss 0.0196\n",
      "Training Accuracy: 0.9775, Testing Accuracy: 0.9728\n",
      "\n"
     ]
    },
    {
     "name": "stdout",
     "output_type": "stream",
     "text": [
      "Epoch 160, Loss 0.0191\n",
      "Training Accuracy: 0.9783, Testing Accuracy: 0.9738\n",
      "\n"
     ]
    },
    {
     "name": "stdout",
     "output_type": "stream",
     "text": [
      "Epoch 170, Loss 0.0186\n",
      "Training Accuracy: 0.9791, Testing Accuracy: 0.9748\n",
      "\n"
     ]
    },
    {
     "name": "stdout",
     "output_type": "stream",
     "text": [
      "Epoch 180, Loss 0.0181\n",
      "Training Accuracy: 0.9797, Testing Accuracy: 0.9748\n",
      "\n"
     ]
    },
    {
     "name": "stdout",
     "output_type": "stream",
     "text": [
      "Epoch 190, Loss 0.0176\n",
      "Training Accuracy: 0.9805, Testing Accuracy: 0.9753\n",
      "\n"
     ]
    },
    {
     "name": "stdout",
     "output_type": "stream",
     "text": [
      "Epoch 200, Loss 0.0172\n",
      "Training Accuracy: 0.9810, Testing Accuracy: 0.9763\n",
      "\n"
     ]
    },
    {
     "name": "stdout",
     "output_type": "stream",
     "text": [
      "Epoch 210, Loss 0.0167\n",
      "Training Accuracy: 0.9813, Testing Accuracy: 0.9763\n",
      "\n"
     ]
    },
    {
     "name": "stdout",
     "output_type": "stream",
     "text": [
      "Epoch 220, Loss 0.0163\n",
      "Training Accuracy: 0.9820, Testing Accuracy: 0.9768\n",
      "\n"
     ]
    },
    {
     "name": "stdout",
     "output_type": "stream",
     "text": [
      "Epoch 230, Loss 0.0159\n",
      "Training Accuracy: 0.9822, Testing Accuracy: 0.9768\n",
      "\n"
     ]
    },
    {
     "name": "stdout",
     "output_type": "stream",
     "text": [
      "Epoch 240, Loss 0.0156\n",
      "Training Accuracy: 0.9827, Testing Accuracy: 0.9768\n",
      "\n"
     ]
    },
    {
     "data": {
      "text/plain": [
       "0.00523070268815969"
      ]
     },
     "execution_count": 22,
     "metadata": {},
     "output_type": "execute_result"
    }
   ],
   "source": [
    "nn_learner.train_loop(dl)"
   ]
  },
  {
   "cell_type": "code",
   "execution_count": 23,
   "id": "e0163366",
   "metadata": {
    "execution": {
     "iopub.execute_input": "2021-08-28T20:09:33.565935Z",
     "iopub.status.busy": "2021-08-28T20:09:33.565222Z",
     "iopub.status.idle": "2021-08-28T20:09:54.279946Z",
     "shell.execute_reply": "2021-08-28T20:09:54.280588Z"
    },
    "papermill": {
     "duration": 20.769181,
     "end_time": "2021-08-28T20:09:54.280752",
     "exception": false,
     "start_time": "2021-08-28T20:09:33.511571",
     "status": "completed"
    },
    "tags": []
   },
   "outputs": [
    {
     "name": "stdout",
     "output_type": "stream",
     "text": [
      "Epoch 0, Loss 0.2274\n",
      "Training Accuracy: 0.7382, Testing Accuracy: 0.7404\n",
      "\n"
     ]
    },
    {
     "name": "stdout",
     "output_type": "stream",
     "text": [
      "Epoch 10, Loss 0.101\n",
      "Training Accuracy: 0.9121, Testing Accuracy: 0.9183\n",
      "\n"
     ]
    },
    {
     "name": "stdout",
     "output_type": "stream",
     "text": [
      "Epoch 20, Loss 0.078\n",
      "Training Accuracy: 0.9295, Testing Accuracy: 0.9405\n",
      "\n"
     ]
    },
    {
     "name": "stdout",
     "output_type": "stream",
     "text": [
      "Epoch 30, Loss 0.0674\n",
      "Training Accuracy: 0.9379, Testing Accuracy: 0.9476\n",
      "\n"
     ]
    },
    {
     "name": "stdout",
     "output_type": "stream",
     "text": [
      "Epoch 40, Loss 0.0611\n",
      "Training Accuracy: 0.9418, Testing Accuracy: 0.9526\n",
      "\n"
     ]
    },
    {
     "name": "stdout",
     "output_type": "stream",
     "text": [
      "Epoch 50, Loss 0.0567\n",
      "Training Accuracy: 0.9449, Testing Accuracy: 0.9546\n",
      "\n"
     ]
    },
    {
     "name": "stdout",
     "output_type": "stream",
     "text": [
      "Epoch 60, Loss 0.0535\n",
      "Training Accuracy: 0.9479, Testing Accuracy: 0.9582\n",
      "\n"
     ]
    },
    {
     "name": "stdout",
     "output_type": "stream",
     "text": [
      "Epoch 70, Loss 0.0511\n",
      "Training Accuracy: 0.9490, Testing Accuracy: 0.9587\n",
      "\n"
     ]
    },
    {
     "name": "stdout",
     "output_type": "stream",
     "text": [
      "Epoch 80, Loss 0.0491\n",
      "Training Accuracy: 0.9508, Testing Accuracy: 0.9587\n",
      "\n"
     ]
    },
    {
     "name": "stdout",
     "output_type": "stream",
     "text": [
      "Epoch 90, Loss 0.0474\n",
      "Training Accuracy: 0.9519, Testing Accuracy: 0.9607\n",
      "\n"
     ]
    },
    {
     "name": "stdout",
     "output_type": "stream",
     "text": [
      "Epoch 100, Loss 0.046\n",
      "Training Accuracy: 0.9527, Testing Accuracy: 0.9627\n",
      "\n"
     ]
    },
    {
     "name": "stdout",
     "output_type": "stream",
     "text": [
      "Epoch 110, Loss 0.0448\n",
      "Training Accuracy: 0.9533, Testing Accuracy: 0.9627\n",
      "\n"
     ]
    },
    {
     "name": "stdout",
     "output_type": "stream",
     "text": [
      "Epoch 120, Loss 0.0438\n",
      "Training Accuracy: 0.9543, Testing Accuracy: 0.9637\n",
      "\n"
     ]
    },
    {
     "name": "stdout",
     "output_type": "stream",
     "text": [
      "Epoch 130, Loss 0.0429\n",
      "Training Accuracy: 0.9552, Testing Accuracy: 0.9632\n",
      "\n"
     ]
    },
    {
     "name": "stdout",
     "output_type": "stream",
     "text": [
      "Epoch 140, Loss 0.0421\n",
      "Training Accuracy: 0.9558, Testing Accuracy: 0.9642\n",
      "\n"
     ]
    },
    {
     "name": "stdout",
     "output_type": "stream",
     "text": [
      "Epoch 150, Loss 0.0413\n",
      "Training Accuracy: 0.9560, Testing Accuracy: 0.9642\n",
      "\n"
     ]
    },
    {
     "name": "stdout",
     "output_type": "stream",
     "text": [
      "Epoch 160, Loss 0.0407\n",
      "Training Accuracy: 0.9569, Testing Accuracy: 0.9642\n",
      "\n"
     ]
    },
    {
     "name": "stdout",
     "output_type": "stream",
     "text": [
      "Epoch 170, Loss 0.0401\n",
      "Training Accuracy: 0.9574, Testing Accuracy: 0.9647\n",
      "\n"
     ]
    },
    {
     "name": "stdout",
     "output_type": "stream",
     "text": [
      "Epoch 180, Loss 0.0395\n",
      "Training Accuracy: 0.9581, Testing Accuracy: 0.9652\n",
      "\n"
     ]
    },
    {
     "name": "stdout",
     "output_type": "stream",
     "text": [
      "Epoch 190, Loss 0.039\n",
      "Training Accuracy: 0.9591, Testing Accuracy: 0.9657\n",
      "\n"
     ]
    },
    {
     "name": "stdout",
     "output_type": "stream",
     "text": [
      "Epoch 200, Loss 0.0385\n",
      "Training Accuracy: 0.9597, Testing Accuracy: 0.9657\n",
      "\n"
     ]
    },
    {
     "name": "stdout",
     "output_type": "stream",
     "text": [
      "Epoch 210, Loss 0.0381\n",
      "Training Accuracy: 0.9599, Testing Accuracy: 0.9657\n",
      "\n"
     ]
    },
    {
     "name": "stdout",
     "output_type": "stream",
     "text": [
      "Epoch 220, Loss 0.0377\n",
      "Training Accuracy: 0.9602, Testing Accuracy: 0.9657\n",
      "\n"
     ]
    },
    {
     "name": "stdout",
     "output_type": "stream",
     "text": [
      "Epoch 230, Loss 0.0373\n",
      "Training Accuracy: 0.9604, Testing Accuracy: 0.9657\n",
      "\n"
     ]
    },
    {
     "name": "stdout",
     "output_type": "stream",
     "text": [
      "Epoch 240, Loss 0.0369\n",
      "Training Accuracy: 0.9606, Testing Accuracy: 0.9657\n",
      "\n"
     ]
    },
    {
     "data": {
      "text/plain": [
       "0.03682685086066249"
      ]
     },
     "execution_count": 23,
     "metadata": {},
     "output_type": "execute_result"
    }
   ],
   "source": [
    "lr_learner.train_loop(dl)"
   ]
  },
  {
   "cell_type": "code",
   "execution_count": 24,
   "id": "ca410940",
   "metadata": {
    "execution": {
     "iopub.execute_input": "2021-08-28T20:09:54.407705Z",
     "iopub.status.busy": "2021-08-28T20:09:54.406149Z",
     "iopub.status.idle": "2021-08-28T20:09:54.714429Z",
     "shell.execute_reply": "2021-08-28T20:09:54.714942Z"
    },
    "papermill": {
     "duration": 0.372855,
     "end_time": "2021-08-28T20:09:54.715103",
     "exception": false,
     "start_time": "2021-08-28T20:09:54.342248",
     "status": "completed"
    },
    "tags": []
   },
   "outputs": [
    {
     "data": {
      "text/plain": [
       "<matplotlib.legend.Legend at 0x7f3312181940>"
      ]
     },
     "execution_count": 24,
     "metadata": {},
     "output_type": "execute_result"
    },
    {
     "data": {
      "image/png": "[encoded data removed]",
      "text/plain": [
       "<Figure size 1080x720 with 1 Axes>"
      ]
     },
     "metadata": {
      "needs_background": "light"
     },
     "output_type": "display_data"
    }
   ],
   "source": [
    "#comparing the results of NN and LR\n",
    "plt.figure(figsize=(15,10))\n",
    "\n",
    "# Neural Network plots\n",
    "plt.plot(acc_nn.accuracies, 'r-', label = \"Training Accuracies - NN\")\n",
    "plt.plot(acc_nn.test_accuracies, 'g-', label = \"Testing Accuracies - NN\")\n",
    "\n",
    "# Logistic Regression plots\n",
    "plt.plot(acc_lr.accuracies, 'k-', label = \"Training Accuracies - LR\")\n",
    "plt.plot(acc_lr.test_accuracies, 'b-', label = \"Testing Accuracies - LR\")\n",
    "plt.legend()"
   ]
  },
  {
   "cell_type": "markdown",
   "id": "80dfb35c",
   "metadata": {
    "papermill": {
     "duration": 0.05458,
     "end_time": "2021-08-28T20:09:54.824281",
     "exception": false,
     "start_time": "2021-08-28T20:09:54.769701",
     "status": "completed"
    },
    "tags": []
   },
   "source": [
    "#### Plotting the outputs of this layer of the NN.\n"
   ]
  },
  {
   "cell_type": "code",
   "execution_count": 25,
   "id": "45eb2ff5",
   "metadata": {
    "execution": {
     "iopub.execute_input": "2021-08-28T20:09:54.936367Z",
     "iopub.status.busy": "2021-08-28T20:09:54.935654Z",
     "iopub.status.idle": "2021-08-28T20:09:54.962939Z",
     "shell.execute_reply": "2021-08-28T20:09:54.963850Z"
    },
    "papermill": {
     "duration": 0.088377,
     "end_time": "2021-08-28T20:09:54.964020",
     "exception": false,
     "start_time": "2021-08-28T20:09:54.875643",
     "status": "completed"
    },
    "tags": []
   },
   "outputs": [],
   "source": [
    "new_model = Model(layers[:-2])\n",
    "testing_plot = new_model(testing_data_x)"
   ]
  },
  {
   "cell_type": "code",
   "execution_count": 26,
   "id": "4c0a5485",
   "metadata": {
    "execution": {
     "iopub.execute_input": "2021-08-28T20:09:55.084995Z",
     "iopub.status.busy": "2021-08-28T20:09:55.084286Z",
     "iopub.status.idle": "2021-08-28T20:09:55.339256Z",
     "shell.execute_reply": "2021-08-28T20:09:55.339739Z"
    },
    "papermill": {
     "duration": 0.321102,
     "end_time": "2021-08-28T20:09:55.339904",
     "exception": false,
     "start_time": "2021-08-28T20:09:55.018802",
     "status": "completed"
    },
    "tags": []
   },
   "outputs": [
    {
     "data": {
      "text/plain": [
       "Text(0.5, 1.0, 'Outputs')"
      ]
     },
     "execution_count": 26,
     "metadata": {},
     "output_type": "execute_result"
    },
    {
     "data": {
      "image/png": "[encoded data removed]",
      "text/plain": [
       "<Figure size 576x504 with 1 Axes>"
      ]
     },
     "metadata": {
      "needs_background": "light"
     },
     "output_type": "display_data"
    }
   ],
   "source": [
    "# Plotting the scatter plot of points and color coding by class\n",
    "plt.figure(figsize=(8,7))\n",
    "plt.scatter(testing_plot[:,0], testing_plot[:,1], alpha = 0.1, c = y_test.ravel());\n",
    "plt.title('Outputs')"
   ]
  },
  {
   "cell_type": "markdown",
   "id": "a74fcf8f",
   "metadata": {
    "papermill": {
     "duration": 0.055771,
     "end_time": "2021-08-28T20:09:55.453502",
     "exception": false,
     "start_time": "2021-08-28T20:09:55.397731",
     "status": "completed"
    },
    "tags": []
   },
   "source": [
    "Probability contours"
   ]
  },
  {
   "cell_type": "code",
   "execution_count": 27,
   "id": "d0afc8e3",
   "metadata": {
    "execution": {
     "iopub.execute_input": "2021-08-28T20:09:55.573563Z",
     "iopub.status.busy": "2021-08-28T20:09:55.572960Z",
     "iopub.status.idle": "2021-08-28T20:09:55.581815Z",
     "shell.execute_reply": "2021-08-28T20:09:55.582456Z"
    },
    "papermill": {
     "duration": 0.071506,
     "end_time": "2021-08-28T20:09:55.582602",
     "exception": false,
     "start_time": "2021-08-28T20:09:55.511096",
     "status": "completed"
    },
    "tags": []
   },
   "outputs": [],
   "source": [
    "model_prob = Model(layers[-2:]) "
   ]
  },
  {
   "cell_type": "code",
   "execution_count": 28,
   "id": "9b96e238",
   "metadata": {
    "execution": {
     "iopub.execute_input": "2021-08-28T20:09:55.733035Z",
     "iopub.status.busy": "2021-08-28T20:09:55.728750Z",
     "iopub.status.idle": "2021-08-28T20:09:55.740662Z",
     "shell.execute_reply": "2021-08-28T20:09:55.741167Z"
    },
    "papermill": {
     "duration": 0.102714,
     "end_time": "2021-08-28T20:09:55.741311",
     "exception": false,
     "start_time": "2021-08-28T20:09:55.638597",
     "status": "completed"
    },
    "tags": []
   },
   "outputs": [],
   "source": [
    "#creating the x and y ranges according to the above generated plot.\n",
    "x_range = np.linspace(-4, 1, 100) \n",
    "y_range = np.linspace(-6, 6, 100) \n",
    "x_grid, y_grid = np.meshgrid(x_range, y_range) # x_grid and y_grig are of size 100 X 100\n",
    "\n",
    "# converting x_grid and y_grid to continuous arrays\n",
    "x_gridflat = np.ravel(x_grid)\n",
    "y_gridflat = np.ravel(y_grid)\n",
    "\n",
    "# The last layer of the current model takes two columns as input. Hence transpose of np.vstack() is required.\n",
    "X = np.vstack((x_gridflat, y_gridflat)).T\n",
    "\n",
    "prob_contour = model_prob(X).reshape(100,100) "
   ]
  },
  {
   "cell_type": "code",
   "execution_count": 29,
   "id": "da72499a",
   "metadata": {
    "execution": {
     "iopub.execute_input": "2021-08-28T20:09:55.859435Z",
     "iopub.status.busy": "2021-08-28T20:09:55.858902Z",
     "iopub.status.idle": "2021-08-28T20:09:56.195805Z",
     "shell.execute_reply": "2021-08-28T20:09:56.196439Z"
    },
    "papermill": {
     "duration": 0.396775,
     "end_time": "2021-08-28T20:09:56.196611",
     "exception": false,
     "start_time": "2021-08-28T20:09:55.799836",
     "status": "completed"
    },
    "tags": []
   },
   "outputs": [
    {
     "data": {
      "image/png": "[encoded data removed]",
      "text/plain": [
       "<Figure size 720x648 with 1 Axes>"
      ]
     },
     "metadata": {
      "needs_background": "light"
     },
     "output_type": "display_data"
    }
   ],
   "source": [
    "plt.figure(figsize=(10,9))\n",
    "plt.scatter(testing_plot[:,0], testing_plot[:,1], alpha = 0.1, c = y_test.ravel())\n",
    "contours = plt.contour(x_grid,y_grid,prob_contour)\n",
    "plt.title('Probability Contours')\n",
    "plt.clabel(contours, inline = True );"
   ]
  },
  {
   "cell_type": "code",
   "execution_count": null,
   "id": "e81b4ac7",
   "metadata": {
    "papermill": {
     "duration": 0.056329,
     "end_time": "2021-08-28T20:09:56.317318",
     "exception": false,
     "start_time": "2021-08-28T20:09:56.260989",
     "status": "completed"
    },
    "tags": []
   },
   "outputs": [],
   "source": []
  }
 ],
 "metadata": {
  "kernelspec": {
   "display_name": "Python 3",
   "language": "python",
   "name": "python3"
  },
  "language_info": {
   "codemirror_mode": {
    "name": "ipython",
    "version": 3
   },
   "file_extension": ".py",
   "mimetype": "text/x-python",
   "name": "python",
   "nbconvert_exporter": "python",
   "pygments_lexer": "ipython3",
   "version": "3.6.14"
  },
  "papermill": {
   "default_parameters": {},
   "duration": 178.016574,
   "end_time": "2021-08-28T20:09:56.782451",
   "environment_variables": {},
   "exception": null,
   "input_path": "2020-08-11-part2.ipynb",
   "output_path": "2020-08-11-part2.ipynb",
   "parameters": {},
   "start_time": "2021-08-28T20:06:58.765877",
   "version": "2.3.3"
  }
 },
 "nbformat": 4,
 "nbformat_minor": 5
}