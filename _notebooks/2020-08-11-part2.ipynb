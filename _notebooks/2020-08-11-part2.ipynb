{
 "cells": [
  {
   "cell_type": "markdown",
   "id": "98380cd3",
   "metadata": {
    "papermill": {
     "duration": 0.029644,
     "end_time": "2022-06-18T10:09:54.421503",
     "exception": false,
     "start_time": "2022-06-18T10:09:54.391859",
     "status": "completed"
    },
    "tags": []
   },
   "source": [
    "# Distinguish Your Own Digits (DYOD)"
   ]
  },
  {
   "cell_type": "markdown",
   "id": "ef31240d",
   "metadata": {
    "papermill": {
     "duration": 0.023914,
     "end_time": "2022-06-18T10:09:54.469642",
     "exception": false,
     "start_time": "2022-06-18T10:09:54.445728",
     "status": "completed"
    },
    "tags": []
   },
   "source": [
    "You are going to write a classifier that distinguishes between the number 3 and number 8."
   ]
  },
  {
   "cell_type": "code",
   "execution_count": 1,
   "id": "b15c8646",
   "metadata": {
    "execution": {
     "iopub.execute_input": "2022-06-18T10:09:54.526591Z",
     "iopub.status.busy": "2022-06-18T10:09:54.525998Z",
     "iopub.status.idle": "2022-06-18T10:09:54.537087Z",
     "shell.execute_reply": "2022-06-18T10:09:54.536501Z"
    },
    "papermill": {
     "duration": 0.044082,
     "end_time": "2022-06-18T10:09:54.537205",
     "exception": false,
     "start_time": "2022-06-18T10:09:54.493123",
     "status": "completed"
    },
    "tags": []
   },
   "outputs": [],
   "source": [
    "%load_ext autoreload\n",
    "%autoreload 2"
   ]
  },
  {
   "cell_type": "code",
   "execution_count": 2,
   "id": "22ef38dc",
   "metadata": {
    "execution": {
     "iopub.execute_input": "2022-06-18T10:09:54.588171Z",
     "iopub.status.busy": "2022-06-18T10:09:54.587550Z",
     "iopub.status.idle": "2022-06-18T10:09:55.110069Z",
     "shell.execute_reply": "2022-06-18T10:09:55.110609Z"
    },
    "papermill": {
     "duration": 0.550056,
     "end_time": "2022-06-18T10:09:55.110779",
     "exception": false,
     "start_time": "2022-06-18T10:09:54.560723",
     "status": "completed"
    },
    "tags": []
   },
   "outputs": [],
   "source": [
    "%matplotlib inline\n",
    "import numpy as np\n",
    "import matplotlib.pyplot as plt\n",
    "import pandas as pd"
   ]
  },
  {
   "cell_type": "markdown",
   "id": "ba036198",
   "metadata": {
    "papermill": {
     "duration": 0.023652,
     "end_time": "2022-06-18T10:09:55.159273",
     "exception": false,
     "start_time": "2022-06-18T10:09:55.135621",
     "status": "completed"
    },
    "tags": []
   },
   "source": [
    "From the command line run `pip install mnist`. This is a library that will help you bring down the mnist dataset. If you run this from a notebook, you need to put  `!pip install mnist` in a cell by itself."
   ]
  },
  {
   "cell_type": "code",
   "execution_count": 3,
   "id": "bb6ad8a1",
   "metadata": {
    "execution": {
     "iopub.execute_input": "2022-06-18T10:09:55.213522Z",
     "iopub.status.busy": "2022-06-18T10:09:55.212936Z",
     "iopub.status.idle": "2022-06-18T10:09:56.847607Z",
     "shell.execute_reply": "2022-06-18T10:09:56.846996Z"
    },
    "papermill": {
     "duration": 1.664888,
     "end_time": "2022-06-18T10:09:56.847774",
     "exception": false,
     "start_time": "2022-06-18T10:09:55.182886",
     "status": "completed"
    },
    "tags": []
   },
   "outputs": [
    {
     "name": "stdout",
     "output_type": "stream",
     "text": [
      "Collecting mnist\r\n"
     ]
    },
    {
     "name": "stdout",
     "output_type": "stream",
     "text": [
      "  Downloading mnist-0.2.2-py2.py3-none-any.whl (3.5 kB)\r\n",
      "Requirement already satisfied: numpy in /opt/hostedtoolcache/Python/3.6.15/x64/lib/python3.6/site-packages (from mnist) (1.19.5)\r\n"
     ]
    },
    {
     "name": "stdout",
     "output_type": "stream",
     "text": [
      "Installing collected packages: mnist\r\n",
      "Successfully installed mnist-0.2.2\r\n"
     ]
    }
   ],
   "source": [
    "!pip install mnist"
   ]
  },
  {
   "cell_type": "markdown",
   "id": "69df9c9a",
   "metadata": {
    "papermill": {
     "duration": 0.02482,
     "end_time": "2022-06-18T10:09:56.897833",
     "exception": false,
     "start_time": "2022-06-18T10:09:56.873013",
     "status": "completed"
    },
    "tags": []
   },
   "source": [
    "## Preparing the Data"
   ]
  },
  {
   "cell_type": "code",
   "execution_count": 4,
   "id": "7f69d806",
   "metadata": {
    "execution": {
     "iopub.execute_input": "2022-06-18T10:09:56.952411Z",
     "iopub.status.busy": "2022-06-18T10:09:56.951812Z",
     "iopub.status.idle": "2022-06-18T10:09:56.965474Z",
     "shell.execute_reply": "2022-06-18T10:09:56.965900Z"
    },
    "papermill": {
     "duration": 0.04397,
     "end_time": "2022-06-18T10:09:56.966028",
     "exception": false,
     "start_time": "2022-06-18T10:09:56.922058",
     "status": "completed"
    },
    "tags": []
   },
   "outputs": [],
   "source": [
    "import mnist"
   ]
  },
  {
   "cell_type": "code",
   "execution_count": 5,
   "id": "a411e44f",
   "metadata": {
    "execution": {
     "iopub.execute_input": "2022-06-18T10:09:57.019717Z",
     "iopub.status.busy": "2022-06-18T10:09:57.019125Z",
     "iopub.status.idle": "2022-06-18T10:09:57.526255Z",
     "shell.execute_reply": "2022-06-18T10:09:57.526788Z"
    },
    "papermill": {
     "duration": 0.536565,
     "end_time": "2022-06-18T10:09:57.526962",
     "exception": false,
     "start_time": "2022-06-18T10:09:56.990397",
     "status": "completed"
    },
    "tags": []
   },
   "outputs": [],
   "source": [
    "train_images = mnist.train_images()\n",
    "train_labels = mnist.train_labels()"
   ]
  },
  {
   "cell_type": "code",
   "execution_count": 6,
   "id": "dceab3a5",
   "metadata": {
    "execution": {
     "iopub.execute_input": "2022-06-18T10:09:57.580437Z",
     "iopub.status.busy": "2022-06-18T10:09:57.579838Z",
     "iopub.status.idle": "2022-06-18T10:09:57.595051Z",
     "shell.execute_reply": "2022-06-18T10:09:57.594474Z"
    },
    "papermill": {
     "duration": 0.043038,
     "end_time": "2022-06-18T10:09:57.595163",
     "exception": false,
     "start_time": "2022-06-18T10:09:57.552125",
     "status": "completed"
    },
    "tags": []
   },
   "outputs": [
    {
     "data": {
      "text/plain": [
       "((60000, 28, 28), (60000,))"
      ]
     },
     "execution_count": 6,
     "metadata": {},
     "output_type": "execute_result"
    }
   ],
   "source": [
    "train_images.shape, train_labels.shape"
   ]
  },
  {
   "cell_type": "code",
   "execution_count": 7,
   "id": "f50dc2bb",
   "metadata": {
    "execution": {
     "iopub.execute_input": "2022-06-18T10:09:57.648973Z",
     "iopub.status.busy": "2022-06-18T10:09:57.648398Z",
     "iopub.status.idle": "2022-06-18T10:09:57.808326Z",
     "shell.execute_reply": "2022-06-18T10:09:57.807728Z"
    },
    "papermill": {
     "duration": 0.18855,
     "end_time": "2022-06-18T10:09:57.808470",
     "exception": false,
     "start_time": "2022-06-18T10:09:57.619920",
     "status": "completed"
    },
    "tags": []
   },
   "outputs": [],
   "source": [
    "test_images = mnist.test_images()\n",
    "test_labels = mnist.test_labels()"
   ]
  },
  {
   "cell_type": "code",
   "execution_count": 8,
   "id": "fc38cf1b",
   "metadata": {
    "execution": {
     "iopub.execute_input": "2022-06-18T10:09:57.862488Z",
     "iopub.status.busy": "2022-06-18T10:09:57.861908Z",
     "iopub.status.idle": "2022-06-18T10:09:57.875548Z",
     "shell.execute_reply": "2022-06-18T10:09:57.874974Z"
    },
    "papermill": {
     "duration": 0.041442,
     "end_time": "2022-06-18T10:09:57.875655",
     "exception": false,
     "start_time": "2022-06-18T10:09:57.834213",
     "status": "completed"
    },
    "tags": []
   },
   "outputs": [
    {
     "data": {
      "text/plain": [
       "((10000, 28, 28), (10000,))"
      ]
     },
     "execution_count": 8,
     "metadata": {},
     "output_type": "execute_result"
    }
   ],
   "source": [
    "test_images.shape, test_labels.shape"
   ]
  },
  {
   "cell_type": "code",
   "execution_count": 9,
   "id": "f9ed8fe0",
   "metadata": {
    "execution": {
     "iopub.execute_input": "2022-06-18T10:09:57.928763Z",
     "iopub.status.busy": "2022-06-18T10:09:57.928194Z",
     "iopub.status.idle": "2022-06-18T10:09:58.067080Z",
     "shell.execute_reply": "2022-06-18T10:09:58.066546Z"
    },
    "papermill": {
     "duration": 0.166706,
     "end_time": "2022-06-18T10:09:58.067212",
     "exception": false,
     "start_time": "2022-06-18T10:09:57.900506",
     "status": "completed"
    },
    "tags": []
   },
   "outputs": [
    {
     "name": "stdout",
     "output_type": "stream",
     "text": [
      "2\n"
     ]
    },
    {
     "data": {
      "text/plain": [
       "<matplotlib.image.AxesImage at 0x7f5e9087f3c8>"
      ]
     },
     "execution_count": 9,
     "metadata": {},
     "output_type": "execute_result"
    },
    {
     "data": {
      "image/png": "[encoded data removed]",
      "text/plain": [
       "<Figure size 432x288 with 1 Axes>"
      ]
     },
     "metadata": {
      "needs_background": "light"
     },
     "output_type": "display_data"
    }
   ],
   "source": [
    "image_index = 7776 # You may select anything up to 60,000\n",
    "print(train_labels[image_index]) \n",
    "plt.imshow(train_images[image_index], cmap='Greys')"
   ]
  },
  {
   "cell_type": "markdown",
   "id": "a8d2388d",
   "metadata": {
    "papermill": {
     "duration": 0.026073,
     "end_time": "2022-06-18T10:09:58.119471",
     "exception": false,
     "start_time": "2022-06-18T10:09:58.093398",
     "status": "completed"
    },
    "tags": []
   },
   "source": [
    "## Filter data to get 3 and 8 out"
   ]
  },
  {
   "cell_type": "code",
   "execution_count": 10,
   "id": "776f7fc7",
   "metadata": {
    "execution": {
     "iopub.execute_input": "2022-06-18T10:09:58.175752Z",
     "iopub.status.busy": "2022-06-18T10:09:58.175137Z",
     "iopub.status.idle": "2022-06-18T10:09:58.194709Z",
     "shell.execute_reply": "2022-06-18T10:09:58.194227Z"
    },
    "papermill": {
     "duration": 0.049315,
     "end_time": "2022-06-18T10:09:58.194818",
     "exception": false,
     "start_time": "2022-06-18T10:09:58.145503",
     "status": "completed"
    },
    "tags": []
   },
   "outputs": [],
   "source": [
    "train_filter = np.where((train_labels == 3 ) | (train_labels == 8))\n",
    "test_filter = np.where((test_labels == 3) | (test_labels == 8))\n",
    "X_train, y_train = train_images[train_filter], train_labels[train_filter]\n",
    "X_test, y_test = test_images[test_filter], test_labels[test_filter]"
   ]
  },
  {
   "cell_type": "markdown",
   "id": "948f0b7e",
   "metadata": {
    "papermill": {
     "duration": 0.026013,
     "end_time": "2022-06-18T10:09:58.247039",
     "exception": false,
     "start_time": "2022-06-18T10:09:58.221026",
     "status": "completed"
    },
    "tags": []
   },
   "source": [
    "We normalize the pizel values in the 0 to 1 range"
   ]
  },
  {
   "cell_type": "code",
   "execution_count": 11,
   "id": "ee4c2166",
   "metadata": {
    "execution": {
     "iopub.execute_input": "2022-06-18T10:09:58.316553Z",
     "iopub.status.busy": "2022-06-18T10:09:58.312721Z",
     "iopub.status.idle": "2022-06-18T10:09:58.354615Z",
     "shell.execute_reply": "2022-06-18T10:09:58.354041Z"
    },
    "papermill": {
     "duration": 0.081852,
     "end_time": "2022-06-18T10:09:58.354752",
     "exception": false,
     "start_time": "2022-06-18T10:09:58.272900",
     "status": "completed"
    },
    "tags": []
   },
   "outputs": [],
   "source": [
    "X_train = X_train/255.\n",
    "X_test = X_test/255."
   ]
  },
  {
   "cell_type": "markdown",
   "id": "ddcf4fab",
   "metadata": {
    "papermill": {
     "duration": 0.026041,
     "end_time": "2022-06-18T10:09:58.408044",
     "exception": false,
     "start_time": "2022-06-18T10:09:58.382003",
     "status": "completed"
    },
    "tags": []
   },
   "source": [
    "And setup the labels as 1 (when the digit is 3) and 0 (when the digit is 8)"
   ]
  },
  {
   "cell_type": "code",
   "execution_count": 12,
   "id": "7dc908f2",
   "metadata": {
    "execution": {
     "iopub.execute_input": "2022-06-18T10:09:58.476758Z",
     "iopub.status.busy": "2022-06-18T10:09:58.472671Z",
     "iopub.status.idle": "2022-06-18T10:09:58.479439Z",
     "shell.execute_reply": "2022-06-18T10:09:58.478967Z"
    },
    "papermill": {
     "duration": 0.045674,
     "end_time": "2022-06-18T10:09:58.479548",
     "exception": false,
     "start_time": "2022-06-18T10:09:58.433874",
     "status": "completed"
    },
    "tags": []
   },
   "outputs": [],
   "source": [
    "y_train = 1*(y_train==3)\n",
    "y_test = 1*(y_test==3)"
   ]
  },
  {
   "cell_type": "code",
   "execution_count": 13,
   "id": "01e4e969",
   "metadata": {
    "execution": {
     "iopub.execute_input": "2022-06-18T10:09:58.534850Z",
     "iopub.status.busy": "2022-06-18T10:09:58.534277Z",
     "iopub.status.idle": "2022-06-18T10:09:58.547248Z",
     "shell.execute_reply": "2022-06-18T10:09:58.547722Z"
    },
    "papermill": {
     "duration": 0.042291,
     "end_time": "2022-06-18T10:09:58.547854",
     "exception": false,
     "start_time": "2022-06-18T10:09:58.505563",
     "status": "completed"
    },
    "tags": []
   },
   "outputs": [
    {
     "data": {
      "text/plain": [
       "((11982, 28, 28), (1984, 28, 28))"
      ]
     },
     "execution_count": 13,
     "metadata": {},
     "output_type": "execute_result"
    }
   ],
   "source": [
    "X_train.shape, X_test.shape"
   ]
  },
  {
   "cell_type": "markdown",
   "id": "5ccf3f85",
   "metadata": {
    "papermill": {
     "duration": 0.026226,
     "end_time": "2022-06-18T10:09:58.600266",
     "exception": false,
     "start_time": "2022-06-18T10:09:58.574040",
     "status": "completed"
    },
    "tags": []
   },
   "source": [
    "We reshape the data to flatten the image pixels into a set of features or co-variates:"
   ]
  },
  {
   "cell_type": "code",
   "execution_count": 14,
   "id": "5286a4a3",
   "metadata": {
    "execution": {
     "iopub.execute_input": "2022-06-18T10:09:58.657982Z",
     "iopub.status.busy": "2022-06-18T10:09:58.657390Z",
     "iopub.status.idle": "2022-06-18T10:09:58.671306Z",
     "shell.execute_reply": "2022-06-18T10:09:58.671777Z"
    },
    "papermill": {
     "duration": 0.045211,
     "end_time": "2022-06-18T10:09:58.671915",
     "exception": false,
     "start_time": "2022-06-18T10:09:58.626704",
     "status": "completed"
    },
    "tags": []
   },
   "outputs": [
    {
     "data": {
      "text/plain": [
       "((11982, 784), (1984, 784))"
      ]
     },
     "execution_count": 14,
     "metadata": {},
     "output_type": "execute_result"
    }
   ],
   "source": [
    "X_train = X_train.reshape(X_train.shape[0], -1)\n",
    "X_test = X_test.reshape(X_test.shape[0], -1)\n",
    "X_train.shape, X_test.shape"
   ]
  },
  {
   "cell_type": "code",
   "execution_count": 15,
   "id": "73c5f88a",
   "metadata": {
    "execution": {
     "iopub.execute_input": "2022-06-18T10:09:58.740593Z",
     "iopub.status.busy": "2022-06-18T10:09:58.732448Z",
     "iopub.status.idle": "2022-06-18T10:09:58.749730Z",
     "shell.execute_reply": "2022-06-18T10:09:58.749247Z"
    },
    "papermill": {
     "duration": 0.051468,
     "end_time": "2022-06-18T10:09:58.749840",
     "exception": false,
     "start_time": "2022-06-18T10:09:58.698372",
     "status": "completed"
    },
    "tags": []
   },
   "outputs": [],
   "source": [
    "#Impoting functions from 'Kudzu'\n",
    "from kudzu.model import Model\n",
    "from kudzu.train import Learner\n",
    "from kudzu.optim import GD\n",
    "from kudzu.data import Data, Sampler,Dataloader\n",
    "\n",
    "from kudzu.callbacks import AccCallback\n",
    "from kudzu.callbacks import ClfCallback\n",
    "\n",
    "from kudzu.loss import MSE\n",
    "\n",
    "from kudzu.layer import Sigmoid,Relu\n",
    "from kudzu.layer import Affine"
   ]
  },
  {
   "cell_type": "markdown",
   "id": "bc01172a",
   "metadata": {
    "papermill": {
     "duration": 0.026525,
     "end_time": "2022-06-18T10:09:58.802980",
     "exception": false,
     "start_time": "2022-06-18T10:09:58.776455",
     "status": "completed"
    },
    "tags": []
   },
   "source": [
    "### Let us create a `Config` class, to store important parameters. \n",
    "This class essentially plays the role of a dictionary."
   ]
  },
  {
   "cell_type": "code",
   "execution_count": 16,
   "id": "978281aa",
   "metadata": {
    "execution": {
     "iopub.execute_input": "2022-06-18T10:09:58.859537Z",
     "iopub.status.busy": "2022-06-18T10:09:58.858945Z",
     "iopub.status.idle": "2022-06-18T10:09:58.872514Z",
     "shell.execute_reply": "2022-06-18T10:09:58.872994Z"
    },
    "papermill": {
     "duration": 0.043805,
     "end_time": "2022-06-18T10:09:58.873118",
     "exception": false,
     "start_time": "2022-06-18T10:09:58.829313",
     "status": "completed"
    },
    "tags": []
   },
   "outputs": [],
   "source": [
    "class Config:\n",
    "    pass\n",
    "config = Config()\n",
    "config.lr = 0.001\n",
    "config.num_epochs = 250\n",
    "config.bs = 50"
   ]
  },
  {
   "cell_type": "markdown",
   "id": "1385fa59",
   "metadata": {
    "papermill": {
     "duration": 0.026583,
     "end_time": "2022-06-18T10:09:58.926235",
     "exception": false,
     "start_time": "2022-06-18T10:09:58.899652",
     "status": "completed"
    },
    "tags": []
   },
   "source": [
    "### Running Models with the Training data\n",
    "Details about the network layers:\n",
    "- A first affine layer has 784 inputs and does 100 affine transforms. These are followed by a Relu\n",
    "- A second affine layer has 100 inputs from the 100 activations of the past layer, and does 100 affine transforms. These are followed by a Relu\n",
    "- A third affine layer has 100 activations and does 2 affine transformations to create an embedding for visualization. There is no non-linearity here.\n",
    "- A final \"logistic regression\" which has an affine transform from 2 inputs to 1 output, which is squeezed through a sigmoid.\n"
   ]
  },
  {
   "cell_type": "code",
   "execution_count": 17,
   "id": "2b9c66db",
   "metadata": {
    "execution": {
     "iopub.execute_input": "2022-06-18T10:09:58.983820Z",
     "iopub.status.busy": "2022-06-18T10:09:58.983204Z",
     "iopub.status.idle": "2022-06-18T10:09:58.996509Z",
     "shell.execute_reply": "2022-06-18T10:09:58.996014Z"
    },
    "papermill": {
     "duration": 0.043946,
     "end_time": "2022-06-18T10:09:58.996621",
     "exception": false,
     "start_time": "2022-06-18T10:09:58.952675",
     "status": "completed"
    },
    "tags": []
   },
   "outputs": [],
   "source": [
    "data = Data(X_train, y_train.reshape(-1,1))\n",
    "sampler = Sampler(data, config.bs, shuffle=True)\n",
    "\n",
    "dl = Dataloader(data, sampler)\n",
    "\n",
    "opt = GD(config.lr)\n",
    "loss = MSE()"
   ]
  },
  {
   "cell_type": "code",
   "execution_count": 18,
   "id": "b275e4c2",
   "metadata": {
    "execution": {
     "iopub.execute_input": "2022-06-18T10:09:59.055551Z",
     "iopub.status.busy": "2022-06-18T10:09:59.054954Z",
     "iopub.status.idle": "2022-06-18T10:09:59.067952Z",
     "shell.execute_reply": "2022-06-18T10:09:59.067448Z"
    },
    "papermill": {
     "duration": 0.043037,
     "end_time": "2022-06-18T10:09:59.068065",
     "exception": false,
     "start_time": "2022-06-18T10:09:59.025028",
     "status": "completed"
    },
    "tags": []
   },
   "outputs": [],
   "source": [
    "training_data_x = X_train\n",
    "testing_data_x = X_test\n",
    "training_data_y = y_train.reshape(-1,1)\n",
    "testing_data_y = y_test.reshape(-1,1)"
   ]
  },
  {
   "cell_type": "code",
   "execution_count": 19,
   "id": "76951160",
   "metadata": {
    "execution": {
     "iopub.execute_input": "2022-06-18T10:09:59.126384Z",
     "iopub.status.busy": "2022-06-18T10:09:59.125784Z",
     "iopub.status.idle": "2022-06-18T10:09:59.142289Z",
     "shell.execute_reply": "2022-06-18T10:09:59.141710Z"
    },
    "papermill": {
     "duration": 0.047949,
     "end_time": "2022-06-18T10:09:59.142399",
     "exception": false,
     "start_time": "2022-06-18T10:09:59.094450",
     "status": "completed"
    },
    "tags": []
   },
   "outputs": [
    {
     "name": "stdout",
     "output_type": "stream",
     "text": [
      "xavier\n",
      "xavier\n",
      "xavier\n",
      "xavier\n",
      "xavier\n"
     ]
    }
   ],
   "source": [
    "layers = [Affine(\"first\", 784, 100), Relu(\"first\"), Affine(\"second\", 100, 100), Relu(\"second\"), Affine(\"third\", 100, 2), Affine(\"last\", 2, 1), Sigmoid(\"last\")]\n",
    "model_nn = Model(layers)\n",
    "model_lr = Model([Affine(\"logits\", 784, 1), Sigmoid(\"sigmoid\")])"
   ]
  },
  {
   "cell_type": "code",
   "execution_count": 20,
   "id": "6eede77a",
   "metadata": {
    "execution": {
     "iopub.execute_input": "2022-06-18T10:09:59.200603Z",
     "iopub.status.busy": "2022-06-18T10:09:59.200005Z",
     "iopub.status.idle": "2022-06-18T10:09:59.212329Z",
     "shell.execute_reply": "2022-06-18T10:09:59.212897Z"
    },
    "papermill": {
     "duration": 0.043652,
     "end_time": "2022-06-18T10:09:59.213027",
     "exception": false,
     "start_time": "2022-06-18T10:09:59.169375",
     "status": "completed"
    },
    "tags": []
   },
   "outputs": [],
   "source": [
    "nn_learner = Learner(loss, model_nn, opt, config.num_epochs)\n",
    "acc_nn = ClfCallback(nn_learner, config.bs, training_data_x , testing_data_x, training_data_y, testing_data_y)\n",
    "nn_learner.set_callbacks([acc_nn])"
   ]
  },
  {
   "cell_type": "code",
   "execution_count": 21,
   "id": "877b6cc7",
   "metadata": {
    "execution": {
     "iopub.execute_input": "2022-06-18T10:09:59.270936Z",
     "iopub.status.busy": "2022-06-18T10:09:59.270355Z",
     "iopub.status.idle": "2022-06-18T10:09:59.283175Z",
     "shell.execute_reply": "2022-06-18T10:09:59.282689Z"
    },
    "papermill": {
     "duration": 0.043387,
     "end_time": "2022-06-18T10:09:59.283284",
     "exception": false,
     "start_time": "2022-06-18T10:09:59.239897",
     "status": "completed"
    },
    "tags": []
   },
   "outputs": [],
   "source": [
    "lr_learner = Learner(loss, model_lr, opt, config.num_epochs)\n",
    "acc_lr = ClfCallback(lr_learner, config.bs, training_data_x , testing_data_x, training_data_y, testing_data_y)\n",
    "lr_learner.set_callbacks([acc_lr])"
   ]
  },
  {
   "cell_type": "code",
   "execution_count": 22,
   "id": "d9b133c3",
   "metadata": {
    "execution": {
     "iopub.execute_input": "2022-06-18T10:09:59.341054Z",
     "iopub.status.busy": "2022-06-18T10:09:59.340457Z",
     "iopub.status.idle": "2022-06-18T10:11:12.753951Z",
     "shell.execute_reply": "2022-06-18T10:11:12.754513Z"
    },
    "papermill": {
     "duration": 73.444458,
     "end_time": "2022-06-18T10:11:12.754660",
     "exception": false,
     "start_time": "2022-06-18T10:09:59.310202",
     "status": "completed"
    },
    "tags": []
   },
   "outputs": [
    {
     "name": "stdout",
     "output_type": "stream",
     "text": [
      "Epoch 0, Loss 0.2414\n",
      "Training Accuracy: 0.7472, Testing Accuracy: 0.7460\n",
      "\n"
     ]
    },
    {
     "name": "stdout",
     "output_type": "stream",
     "text": [
      "Epoch 10, Loss 0.0575\n",
      "Training Accuracy: 0.9402, Testing Accuracy: 0.9501\n",
      "\n"
     ]
    },
    {
     "name": "stdout",
     "output_type": "stream",
     "text": [
      "Epoch 20, Loss 0.0405\n",
      "Training Accuracy: 0.9547, Testing Accuracy: 0.9647\n",
      "\n"
     ]
    },
    {
     "name": "stdout",
     "output_type": "stream",
     "text": [
      "Epoch 30, Loss 0.0342\n",
      "Training Accuracy: 0.9608, Testing Accuracy: 0.9688\n",
      "\n"
     ]
    },
    {
     "name": "stdout",
     "output_type": "stream",
     "text": [
      "Epoch 40, Loss 0.0306\n",
      "Training Accuracy: 0.9639, Testing Accuracy: 0.9698\n",
      "\n"
     ]
    },
    {
     "name": "stdout",
     "output_type": "stream",
     "text": [
      "Epoch 50, Loss 0.0282\n",
      "Training Accuracy: 0.9669, Testing Accuracy: 0.9713\n",
      "\n"
     ]
    },
    {
     "name": "stdout",
     "output_type": "stream",
     "text": [
      "Epoch 60, Loss 0.0265\n",
      "Training Accuracy: 0.9685, Testing Accuracy: 0.9713\n",
      "\n"
     ]
    },
    {
     "name": "stdout",
     "output_type": "stream",
     "text": [
      "Epoch 70, Loss 0.0251\n",
      "Training Accuracy: 0.9700, Testing Accuracy: 0.9738\n",
      "\n"
     ]
    },
    {
     "name": "stdout",
     "output_type": "stream",
     "text": [
      "Epoch 80, Loss 0.024\n",
      "Training Accuracy: 0.9713, Testing Accuracy: 0.9733\n",
      "\n"
     ]
    },
    {
     "name": "stdout",
     "output_type": "stream",
     "text": [
      "Epoch 90, Loss 0.023\n",
      "Training Accuracy: 0.9729, Testing Accuracy: 0.9738\n",
      "\n"
     ]
    },
    {
     "name": "stdout",
     "output_type": "stream",
     "text": [
      "Epoch 100, Loss 0.0221\n",
      "Training Accuracy: 0.9741, Testing Accuracy: 0.9738\n",
      "\n"
     ]
    },
    {
     "name": "stdout",
     "output_type": "stream",
     "text": [
      "Epoch 110, Loss 0.0213\n",
      "Training Accuracy: 0.9751, Testing Accuracy: 0.9743\n",
      "\n"
     ]
    },
    {
     "name": "stdout",
     "output_type": "stream",
     "text": [
      "Epoch 120, Loss 0.0206\n",
      "Training Accuracy: 0.9764, Testing Accuracy: 0.9748\n",
      "\n"
     ]
    },
    {
     "name": "stdout",
     "output_type": "stream",
     "text": [
      "Epoch 130, Loss 0.02\n",
      "Training Accuracy: 0.9772, Testing Accuracy: 0.9753\n",
      "\n"
     ]
    },
    {
     "name": "stdout",
     "output_type": "stream",
     "text": [
      "Epoch 140, Loss 0.0194\n",
      "Training Accuracy: 0.9777, Testing Accuracy: 0.9758\n",
      "\n"
     ]
    },
    {
     "name": "stdout",
     "output_type": "stream",
     "text": [
      "Epoch 150, Loss 0.0189\n",
      "Training Accuracy: 0.9789, Testing Accuracy: 0.9753\n",
      "\n"
     ]
    },
    {
     "name": "stdout",
     "output_type": "stream",
     "text": [
      "Epoch 160, Loss 0.0183\n",
      "Training Accuracy: 0.9799, Testing Accuracy: 0.9753\n",
      "\n"
     ]
    },
    {
     "name": "stdout",
     "output_type": "stream",
     "text": [
      "Epoch 170, Loss 0.0178\n",
      "Training Accuracy: 0.9803, Testing Accuracy: 0.9753\n",
      "\n"
     ]
    },
    {
     "name": "stdout",
     "output_type": "stream",
     "text": [
      "Epoch 180, Loss 0.0174\n",
      "Training Accuracy: 0.9809, Testing Accuracy: 0.9753\n",
      "\n"
     ]
    },
    {
     "name": "stdout",
     "output_type": "stream",
     "text": [
      "Epoch 190, Loss 0.0169\n",
      "Training Accuracy: 0.9817, Testing Accuracy: 0.9758\n",
      "\n"
     ]
    },
    {
     "name": "stdout",
     "output_type": "stream",
     "text": [
      "Epoch 200, Loss 0.0165\n",
      "Training Accuracy: 0.9822, Testing Accuracy: 0.9763\n",
      "\n"
     ]
    },
    {
     "name": "stdout",
     "output_type": "stream",
     "text": [
      "Epoch 210, Loss 0.0161\n",
      "Training Accuracy: 0.9828, Testing Accuracy: 0.9768\n",
      "\n"
     ]
    },
    {
     "name": "stdout",
     "output_type": "stream",
     "text": [
      "Epoch 220, Loss 0.0157\n",
      "Training Accuracy: 0.9836, Testing Accuracy: 0.9773\n",
      "\n"
     ]
    },
    {
     "name": "stdout",
     "output_type": "stream",
     "text": [
      "Epoch 230, Loss 0.0153\n",
      "Training Accuracy: 0.9839, Testing Accuracy: 0.9773\n",
      "\n"
     ]
    },
    {
     "name": "stdout",
     "output_type": "stream",
     "text": [
      "Epoch 240, Loss 0.0149\n",
      "Training Accuracy: 0.9843, Testing Accuracy: 0.9783\n",
      "\n"
     ]
    },
    {
     "data": {
      "text/plain": [
       "0.006561105812468812"
      ]
     },
     "execution_count": 22,
     "metadata": {},
     "output_type": "execute_result"
    }
   ],
   "source": [
    "nn_learner.train_loop(dl)"
   ]
  },
  {
   "cell_type": "code",
   "execution_count": 23,
   "id": "e0163366",
   "metadata": {
    "execution": {
     "iopub.execute_input": "2022-06-18T10:11:12.833206Z",
     "iopub.status.busy": "2022-06-18T10:11:12.832626Z",
     "iopub.status.idle": "2022-06-18T10:11:26.074974Z",
     "shell.execute_reply": "2022-06-18T10:11:26.074472Z"
    },
    "papermill": {
     "duration": 13.28539,
     "end_time": "2022-06-18T10:11:26.075097",
     "exception": false,
     "start_time": "2022-06-18T10:11:12.789707",
     "status": "completed"
    },
    "tags": []
   },
   "outputs": [
    {
     "name": "stdout",
     "output_type": "stream",
     "text": [
      "Epoch 0, Loss 0.2412\n",
      "Training Accuracy: 0.6784, Testing Accuracy: 0.6704\n",
      "\n"
     ]
    },
    {
     "name": "stdout",
     "output_type": "stream",
     "text": [
      "Epoch 10, Loss 0.1002\n",
      "Training Accuracy: 0.9172, Testing Accuracy: 0.9304\n",
      "\n"
     ]
    },
    {
     "name": "stdout",
     "output_type": "stream",
     "text": [
      "Epoch 20, Loss 0.0773\n",
      "Training Accuracy: 0.9327, Testing Accuracy: 0.9456\n",
      "\n"
     ]
    },
    {
     "name": "stdout",
     "output_type": "stream",
     "text": [
      "Epoch 30, Loss 0.067\n",
      "Training Accuracy: 0.9392, Testing Accuracy: 0.9491\n",
      "\n"
     ]
    },
    {
     "name": "stdout",
     "output_type": "stream",
     "text": [
      "Epoch 40, Loss 0.0608\n",
      "Training Accuracy: 0.9425, Testing Accuracy: 0.9556\n",
      "\n"
     ]
    },
    {
     "name": "stdout",
     "output_type": "stream",
     "text": [
      "Epoch 50, Loss 0.0566\n",
      "Training Accuracy: 0.9453, Testing Accuracy: 0.9572\n",
      "\n"
     ]
    },
    {
     "name": "stdout",
     "output_type": "stream",
     "text": [
      "Epoch 60, Loss 0.0535\n",
      "Training Accuracy: 0.9478, Testing Accuracy: 0.9592\n",
      "\n"
     ]
    },
    {
     "name": "stdout",
     "output_type": "stream",
     "text": [
      "Epoch 70, Loss 0.051\n",
      "Training Accuracy: 0.9492, Testing Accuracy: 0.9617\n",
      "\n"
     ]
    },
    {
     "name": "stdout",
     "output_type": "stream",
     "text": [
      "Epoch 80, Loss 0.0491\n",
      "Training Accuracy: 0.9507, Testing Accuracy: 0.9617\n",
      "\n"
     ]
    },
    {
     "name": "stdout",
     "output_type": "stream",
     "text": [
      "Epoch 90, Loss 0.0474\n",
      "Training Accuracy: 0.9524, Testing Accuracy: 0.9622\n",
      "\n"
     ]
    },
    {
     "name": "stdout",
     "output_type": "stream",
     "text": [
      "Epoch 100, Loss 0.0461\n",
      "Training Accuracy: 0.9535, Testing Accuracy: 0.9632\n",
      "\n"
     ]
    },
    {
     "name": "stdout",
     "output_type": "stream",
     "text": [
      "Epoch 110, Loss 0.0449\n",
      "Training Accuracy: 0.9543, Testing Accuracy: 0.9637\n",
      "\n"
     ]
    },
    {
     "name": "stdout",
     "output_type": "stream",
     "text": [
      "Epoch 120, Loss 0.0438\n",
      "Training Accuracy: 0.9545, Testing Accuracy: 0.9647\n",
      "\n"
     ]
    },
    {
     "name": "stdout",
     "output_type": "stream",
     "text": [
      "Epoch 130, Loss 0.0429\n",
      "Training Accuracy: 0.9548, Testing Accuracy: 0.9652\n",
      "\n"
     ]
    },
    {
     "name": "stdout",
     "output_type": "stream",
     "text": [
      "Epoch 140, Loss 0.0421\n",
      "Training Accuracy: 0.9557, Testing Accuracy: 0.9662\n",
      "\n"
     ]
    },
    {
     "name": "stdout",
     "output_type": "stream",
     "text": [
      "Epoch 150, Loss 0.0414\n",
      "Training Accuracy: 0.9568, Testing Accuracy: 0.9662\n",
      "\n"
     ]
    },
    {
     "name": "stdout",
     "output_type": "stream",
     "text": [
      "Epoch 160, Loss 0.0407\n",
      "Training Accuracy: 0.9574, Testing Accuracy: 0.9667\n",
      "\n"
     ]
    },
    {
     "name": "stdout",
     "output_type": "stream",
     "text": [
      "Epoch 170, Loss 0.0401\n",
      "Training Accuracy: 0.9577, Testing Accuracy: 0.9672\n",
      "\n"
     ]
    },
    {
     "name": "stdout",
     "output_type": "stream",
     "text": [
      "Epoch 180, Loss 0.0395\n",
      "Training Accuracy: 0.9583, Testing Accuracy: 0.9672\n",
      "\n"
     ]
    },
    {
     "name": "stdout",
     "output_type": "stream",
     "text": [
      "Epoch 190, Loss 0.039\n",
      "Training Accuracy: 0.9587, Testing Accuracy: 0.9672\n",
      "\n"
     ]
    },
    {
     "name": "stdout",
     "output_type": "stream",
     "text": [
      "Epoch 200, Loss 0.0385\n",
      "Training Accuracy: 0.9590, Testing Accuracy: 0.9672\n",
      "\n"
     ]
    },
    {
     "name": "stdout",
     "output_type": "stream",
     "text": [
      "Epoch 210, Loss 0.0381\n",
      "Training Accuracy: 0.9593, Testing Accuracy: 0.9672\n",
      "\n"
     ]
    },
    {
     "name": "stdout",
     "output_type": "stream",
     "text": [
      "Epoch 220, Loss 0.0377\n",
      "Training Accuracy: 0.9599, Testing Accuracy: 0.9667\n",
      "\n"
     ]
    },
    {
     "name": "stdout",
     "output_type": "stream",
     "text": [
      "Epoch 230, Loss 0.0373\n",
      "Training Accuracy: 0.9608, Testing Accuracy: 0.9672\n",
      "\n"
     ]
    },
    {
     "name": "stdout",
     "output_type": "stream",
     "text": [
      "Epoch 240, Loss 0.037\n",
      "Training Accuracy: 0.9614, Testing Accuracy: 0.9677\n",
      "\n"
     ]
    },
    {
     "data": {
      "text/plain": [
       "0.04779638835284861"
      ]
     },
     "execution_count": 23,
     "metadata": {},
     "output_type": "execute_result"
    }
   ],
   "source": [
    "lr_learner.train_loop(dl)"
   ]
  },
  {
   "cell_type": "code",
   "execution_count": 24,
   "id": "ca410940",
   "metadata": {
    "execution": {
     "iopub.execute_input": "2022-06-18T10:11:26.165371Z",
     "iopub.status.busy": "2022-06-18T10:11:26.164747Z",
     "iopub.status.idle": "2022-06-18T10:11:26.396897Z",
     "shell.execute_reply": "2022-06-18T10:11:26.397407Z"
    },
    "papermill": {
     "duration": 0.281506,
     "end_time": "2022-06-18T10:11:26.397562",
     "exception": false,
     "start_time": "2022-06-18T10:11:26.116056",
     "status": "completed"
    },
    "tags": []
   },
   "outputs": [
    {
     "data": {
      "text/plain": [
       "<matplotlib.legend.Legend at 0x7f5e903e0b00>"
      ]
     },
     "execution_count": 24,
     "metadata": {},
     "output_type": "execute_result"
    },
    {
     "data": {
      "image/png": "[encoded data removed]",
      "text/plain": [
       "<Figure size 1080x720 with 1 Axes>"
      ]
     },
     "metadata": {
      "needs_background": "light"
     },
     "output_type": "display_data"
    }
   ],
   "source": [
    "#comparing the results of NN and LR\n",
    "plt.figure(figsize=(15,10))\n",
    "\n",
    "# Neural Network plots\n",
    "plt.plot(acc_nn.accuracies, 'r-', label = \"Training Accuracies - NN\")\n",
    "plt.plot(acc_nn.test_accuracies, 'g-', label = \"Testing Accuracies - NN\")\n",
    "\n",
    "# Logistic Regression plots\n",
    "plt.plot(acc_lr.accuracies, 'k-', label = \"Training Accuracies - LR\")\n",
    "plt.plot(acc_lr.test_accuracies, 'b-', label = \"Testing Accuracies - LR\")\n",
    "plt.legend()"
   ]
  },
  {
   "cell_type": "markdown",
   "id": "80dfb35c",
   "metadata": {
    "papermill": {
     "duration": 0.041472,
     "end_time": "2022-06-18T10:11:26.481254",
     "exception": false,
     "start_time": "2022-06-18T10:11:26.439782",
     "status": "completed"
    },
    "tags": []
   },
   "source": [
    "#### Plotting the outputs of this layer of the NN.\n"
   ]
  },
  {
   "cell_type": "code",
   "execution_count": 25,
   "id": "45eb2ff5",
   "metadata": {
    "execution": {
     "iopub.execute_input": "2022-06-18T10:11:26.577595Z",
     "iopub.status.busy": "2022-06-18T10:11:26.576684Z",
     "iopub.status.idle": "2022-06-18T10:11:26.591274Z",
     "shell.execute_reply": "2022-06-18T10:11:26.592039Z"
    },
    "papermill": {
     "duration": 0.069621,
     "end_time": "2022-06-18T10:11:26.592184",
     "exception": false,
     "start_time": "2022-06-18T10:11:26.522563",
     "status": "completed"
    },
    "tags": []
   },
   "outputs": [],
   "source": [
    "new_model = Model(layers[:-2])\n",
    "testing_plot = new_model(testing_data_x)"
   ]
  },
  {
   "cell_type": "code",
   "execution_count": 26,
   "id": "4c0a5485",
   "metadata": {
    "execution": {
     "iopub.execute_input": "2022-06-18T10:11:26.684953Z",
     "iopub.status.busy": "2022-06-18T10:11:26.684355Z",
     "iopub.status.idle": "2022-06-18T10:11:26.872865Z",
     "shell.execute_reply": "2022-06-18T10:11:26.873442Z"
    },
    "papermill": {
     "duration": 0.239359,
     "end_time": "2022-06-18T10:11:26.873585",
     "exception": false,
     "start_time": "2022-06-18T10:11:26.634226",
     "status": "completed"
    },
    "tags": []
   },
   "outputs": [
    {
     "data": {
      "text/plain": [
       "Text(0.5, 1.0, 'Outputs')"
      ]
     },
     "execution_count": 26,
     "metadata": {},
     "output_type": "execute_result"
    },
    {
     "data": {
      "image/png": "[encoded data removed]",
      "text/plain": [
       "<Figure size 576x504 with 1 Axes>"
      ]
     },
     "metadata": {
      "needs_background": "light"
     },
     "output_type": "display_data"
    }
   ],
   "source": [
    "# Plotting the scatter plot of points and color coding by class\n",
    "plt.figure(figsize=(8,7))\n",
    "plt.scatter(testing_plot[:,0], testing_plot[:,1], alpha = 0.1, c = y_test.ravel());\n",
    "plt.title('Outputs')"
   ]
  },
  {
   "cell_type": "markdown",
   "id": "a74fcf8f",
   "metadata": {
    "papermill": {
     "duration": 0.043747,
     "end_time": "2022-06-18T10:11:26.961397",
     "exception": false,
     "start_time": "2022-06-18T10:11:26.917650",
     "status": "completed"
    },
    "tags": []
   },
   "source": [
    "Probability contours"
   ]
  },
  {
   "cell_type": "code",
   "execution_count": 27,
   "id": "d0afc8e3",
   "metadata": {
    "execution": {
     "iopub.execute_input": "2022-06-18T10:11:27.052761Z",
     "iopub.status.busy": "2022-06-18T10:11:27.052191Z",
     "iopub.status.idle": "2022-06-18T10:11:27.065838Z",
     "shell.execute_reply": "2022-06-18T10:11:27.065368Z"
    },
    "papermill": {
     "duration": 0.060476,
     "end_time": "2022-06-18T10:11:27.065942",
     "exception": false,
     "start_time": "2022-06-18T10:11:27.005466",
     "status": "completed"
    },
    "tags": []
   },
   "outputs": [],
   "source": [
    "model_prob = Model(layers[-2:]) "
   ]
  },
  {
   "cell_type": "code",
   "execution_count": 28,
   "id": "9b96e238",
   "metadata": {
    "execution": {
     "iopub.execute_input": "2022-06-18T10:11:27.159065Z",
     "iopub.status.busy": "2022-06-18T10:11:27.158477Z",
     "iopub.status.idle": "2022-06-18T10:11:27.171976Z",
     "shell.execute_reply": "2022-06-18T10:11:27.172407Z"
    },
    "papermill": {
     "duration": 0.062304,
     "end_time": "2022-06-18T10:11:27.172538",
     "exception": false,
     "start_time": "2022-06-18T10:11:27.110234",
     "status": "completed"
    },
    "tags": []
   },
   "outputs": [],
   "source": [
    "#creating the x and y ranges according to the above generated plot.\n",
    "x_range = np.linspace(-4, 1, 100) \n",
    "y_range = np.linspace(-6, 6, 100) \n",
    "x_grid, y_grid = np.meshgrid(x_range, y_range) # x_grid and y_grig are of size 100 X 100\n",
    "\n",
    "# converting x_grid and y_grid to continuous arrays\n",
    "x_gridflat = np.ravel(x_grid)\n",
    "y_gridflat = np.ravel(y_grid)\n",
    "\n",
    "# The last layer of the current model takes two columns as input. Hence transpose of np.vstack() is required.\n",
    "X = np.vstack((x_gridflat, y_gridflat)).T\n",
    "\n",
    "prob_contour = model_prob(X).reshape(100,100) "
   ]
  },
  {
   "cell_type": "code",
   "execution_count": 29,
   "id": "da72499a",
   "metadata": {
    "execution": {
     "iopub.execute_input": "2022-06-18T10:11:27.293637Z",
     "iopub.status.busy": "2022-06-18T10:11:27.292975Z",
     "iopub.status.idle": "2022-06-18T10:11:27.537069Z",
     "shell.execute_reply": "2022-06-18T10:11:27.536551Z"
    },
    "papermill": {
     "duration": 0.292152,
     "end_time": "2022-06-18T10:11:27.537189",
     "exception": false,
     "start_time": "2022-06-18T10:11:27.245037",
     "status": "completed"
    },
    "tags": []
   },
   "outputs": [
    {
     "data": {
      "image/png": "[encoded data removed]",
      "text/plain": [
       "<Figure size 720x648 with 1 Axes>"
      ]
     },
     "metadata": {
      "needs_background": "light"
     },
     "output_type": "display_data"
    }
   ],
   "source": [
    "plt.figure(figsize=(10,9))\n",
    "plt.scatter(testing_plot[:,0], testing_plot[:,1], alpha = 0.1, c = y_test.ravel())\n",
    "contours = plt.contour(x_grid,y_grid,prob_contour)\n",
    "plt.title('Probability Contours')\n",
    "plt.clabel(contours, inline = True );"
   ]
  },
  {
   "cell_type": "code",
   "execution_count": null,
   "id": "e81b4ac7",
   "metadata": {
    "papermill": {
     "duration": 0.046962,
     "end_time": "2022-06-18T10:11:27.631794",
     "exception": false,
     "start_time": "2022-06-18T10:11:27.584832",
     "status": "completed"
    },
    "tags": []
   },
   "outputs": [],
   "source": []
  }
 ],
 "metadata": {
  "kernelspec": {
   "display_name": "Python 3",
   "language": "python",
   "name": "python3"
  },
  "language_info": {
   "codemirror_mode": {
    "name": "ipython",
    "version": 3
   },
   "file_extension": ".py",
   "mimetype": "text/x-python",
   "name": "python",
   "nbconvert_exporter": "python",
   "pygments_lexer": "ipython3",
   "version": "3.6.15"
  },
  "papermill": {
   "default_parameters": {},
   "duration": 94.627258,
   "end_time": "2022-06-18T10:11:28.097039",
   "environment_variables": {},
   "exception": null,
   "input_path": "2020-08-11-part2.ipynb",
   "output_path": "2020-08-11-part2.ipynb",
   "parameters": {},
   "start_time": "2022-06-18T10:09:53.469781",
   "version": "2.3.3"
  }
 },
 "nbformat": 4,
 "nbformat_minor": 5
}