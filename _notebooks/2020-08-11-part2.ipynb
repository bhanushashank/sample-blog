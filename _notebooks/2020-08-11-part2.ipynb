{
 "cells": [
  {
   "cell_type": "markdown",
   "id": "98380cd3",
   "metadata": {
    "papermill": {
     "duration": 0.035747,
     "end_time": "2021-11-30T20:08:54.084062",
     "exception": false,
     "start_time": "2021-11-30T20:08:54.048315",
     "status": "completed"
    },
    "tags": []
   },
   "source": [
    "# Distinguish Your Own Digits (DYOD)"
   ]
  },
  {
   "cell_type": "markdown",
   "id": "ef31240d",
   "metadata": {
    "papermill": {
     "duration": 0.027001,
     "end_time": "2021-11-30T20:08:54.138913",
     "exception": false,
     "start_time": "2021-11-30T20:08:54.111912",
     "status": "completed"
    },
    "tags": []
   },
   "source": [
    "You are going to write a classifier that distinguishes between the number 3 and number 8."
   ]
  },
  {
   "cell_type": "code",
   "execution_count": 1,
   "id": "b15c8646",
   "metadata": {
    "execution": {
     "iopub.execute_input": "2021-11-30T20:08:54.207953Z",
     "iopub.status.busy": "2021-11-30T20:08:54.207286Z",
     "iopub.status.idle": "2021-11-30T20:08:54.220278Z",
     "shell.execute_reply": "2021-11-30T20:08:54.220736Z"
    },
    "papermill": {
     "duration": 0.054619,
     "end_time": "2021-11-30T20:08:54.220920",
     "exception": false,
     "start_time": "2021-11-30T20:08:54.166301",
     "status": "completed"
    },
    "tags": []
   },
   "outputs": [],
   "source": [
    "%load_ext autoreload\n",
    "%autoreload 2"
   ]
  },
  {
   "cell_type": "code",
   "execution_count": 2,
   "id": "22ef38dc",
   "metadata": {
    "execution": {
     "iopub.execute_input": "2021-11-30T20:08:54.280253Z",
     "iopub.status.busy": "2021-11-30T20:08:54.279567Z",
     "iopub.status.idle": "2021-11-30T20:08:54.990297Z",
     "shell.execute_reply": "2021-11-30T20:08:54.989759Z"
    },
    "papermill": {
     "duration": 0.742282,
     "end_time": "2021-11-30T20:08:54.990443",
     "exception": false,
     "start_time": "2021-11-30T20:08:54.248161",
     "status": "completed"
    },
    "tags": []
   },
   "outputs": [],
   "source": [
    "%matplotlib inline\n",
    "import numpy as np\n",
    "import matplotlib.pyplot as plt\n",
    "import pandas as pd"
   ]
  },
  {
   "cell_type": "markdown",
   "id": "ba036198",
   "metadata": {
    "papermill": {
     "duration": 0.032484,
     "end_time": "2021-11-30T20:08:55.051001",
     "exception": false,
     "start_time": "2021-11-30T20:08:55.018517",
     "status": "completed"
    },
    "tags": []
   },
   "source": [
    "From the command line run `pip install mnist`. This is a library that will help you bring down the mnist dataset. If you run this from a notebook, you need to put  `!pip install mnist` in a cell by itself."
   ]
  },
  {
   "cell_type": "code",
   "execution_count": 3,
   "id": "bb6ad8a1",
   "metadata": {
    "execution": {
     "iopub.execute_input": "2021-11-30T20:08:55.112534Z",
     "iopub.status.busy": "2021-11-30T20:08:55.111890Z",
     "iopub.status.idle": "2021-11-30T20:08:58.009495Z",
     "shell.execute_reply": "2021-11-30T20:08:58.008237Z"
    },
    "papermill": {
     "duration": 2.931723,
     "end_time": "2021-11-30T20:08:58.009707",
     "exception": false,
     "start_time": "2021-11-30T20:08:55.077984",
     "status": "completed"
    },
    "tags": []
   },
   "outputs": [
    {
     "name": "stdout",
     "output_type": "stream",
     "text": [
      "Collecting mnist\r\n"
     ]
    },
    {
     "name": "stdout",
     "output_type": "stream",
     "text": [
      "  Downloading mnist-0.2.2-py2.py3-none-any.whl (3.5 kB)\r\n",
      "Requirement already satisfied: numpy in /opt/hostedtoolcache/Python/3.6.15/x64/lib/python3.6/site-packages (from mnist) (1.19.5)\r\n"
     ]
    },
    {
     "name": "stdout",
     "output_type": "stream",
     "text": [
      "Installing collected packages: mnist\r\n",
      "Successfully installed mnist-0.2.2\r\n"
     ]
    }
   ],
   "source": [
    "!pip install mnist"
   ]
  },
  {
   "cell_type": "markdown",
   "id": "69df9c9a",
   "metadata": {
    "papermill": {
     "duration": 0.0281,
     "end_time": "2021-11-30T20:08:58.068184",
     "exception": false,
     "start_time": "2021-11-30T20:08:58.040084",
     "status": "completed"
    },
    "tags": []
   },
   "source": [
    "## Preparing the Data"
   ]
  },
  {
   "cell_type": "code",
   "execution_count": 4,
   "id": "7f69d806",
   "metadata": {
    "execution": {
     "iopub.execute_input": "2021-11-30T20:08:58.128953Z",
     "iopub.status.busy": "2021-11-30T20:08:58.128292Z",
     "iopub.status.idle": "2021-11-30T20:08:58.147205Z",
     "shell.execute_reply": "2021-11-30T20:08:58.147895Z"
    },
    "papermill": {
     "duration": 0.051988,
     "end_time": "2021-11-30T20:08:58.148054",
     "exception": false,
     "start_time": "2021-11-30T20:08:58.096066",
     "status": "completed"
    },
    "tags": []
   },
   "outputs": [],
   "source": [
    "import mnist"
   ]
  },
  {
   "cell_type": "code",
   "execution_count": 5,
   "id": "a411e44f",
   "metadata": {
    "execution": {
     "iopub.execute_input": "2021-11-30T20:08:58.209180Z",
     "iopub.status.busy": "2021-11-30T20:08:58.208060Z",
     "iopub.status.idle": "2021-11-30T20:08:59.095190Z",
     "shell.execute_reply": "2021-11-30T20:08:59.093806Z"
    },
    "papermill": {
     "duration": 0.919178,
     "end_time": "2021-11-30T20:08:59.095341",
     "exception": false,
     "start_time": "2021-11-30T20:08:58.176163",
     "status": "completed"
    },
    "tags": []
   },
   "outputs": [],
   "source": [
    "train_images = mnist.train_images()\n",
    "train_labels = mnist.train_labels()"
   ]
  },
  {
   "cell_type": "code",
   "execution_count": 6,
   "id": "dceab3a5",
   "metadata": {
    "execution": {
     "iopub.execute_input": "2021-11-30T20:08:59.162505Z",
     "iopub.status.busy": "2021-11-30T20:08:59.161887Z",
     "iopub.status.idle": "2021-11-30T20:08:59.179057Z",
     "shell.execute_reply": "2021-11-30T20:08:59.178456Z"
    },
    "papermill": {
     "duration": 0.055044,
     "end_time": "2021-11-30T20:08:59.179191",
     "exception": false,
     "start_time": "2021-11-30T20:08:59.124147",
     "status": "completed"
    },
    "tags": []
   },
   "outputs": [
    {
     "data": {
      "text/plain": [
       "((60000, 28, 28), (60000,))"
      ]
     },
     "execution_count": 6,
     "metadata": {},
     "output_type": "execute_result"
    }
   ],
   "source": [
    "train_images.shape, train_labels.shape"
   ]
  },
  {
   "cell_type": "code",
   "execution_count": 7,
   "id": "f50dc2bb",
   "metadata": {
    "execution": {
     "iopub.execute_input": "2021-11-30T20:08:59.248546Z",
     "iopub.status.busy": "2021-11-30T20:08:59.243178Z",
     "iopub.status.idle": "2021-11-30T20:08:59.594487Z",
     "shell.execute_reply": "2021-11-30T20:08:59.593401Z"
    },
    "papermill": {
     "duration": 0.384721,
     "end_time": "2021-11-30T20:08:59.594702",
     "exception": false,
     "start_time": "2021-11-30T20:08:59.209981",
     "status": "completed"
    },
    "tags": []
   },
   "outputs": [],
   "source": [
    "test_images = mnist.test_images()\n",
    "test_labels = mnist.test_labels()"
   ]
  },
  {
   "cell_type": "code",
   "execution_count": 8,
   "id": "fc38cf1b",
   "metadata": {
    "execution": {
     "iopub.execute_input": "2021-11-30T20:08:59.658565Z",
     "iopub.status.busy": "2021-11-30T20:08:59.657955Z",
     "iopub.status.idle": "2021-11-30T20:08:59.673873Z",
     "shell.execute_reply": "2021-11-30T20:08:59.673357Z"
    },
    "papermill": {
     "duration": 0.04929,
     "end_time": "2021-11-30T20:08:59.674008",
     "exception": false,
     "start_time": "2021-11-30T20:08:59.624718",
     "status": "completed"
    },
    "tags": []
   },
   "outputs": [
    {
     "data": {
      "text/plain": [
       "((10000, 28, 28), (10000,))"
      ]
     },
     "execution_count": 8,
     "metadata": {},
     "output_type": "execute_result"
    }
   ],
   "source": [
    "test_images.shape, test_labels.shape"
   ]
  },
  {
   "cell_type": "code",
   "execution_count": 9,
   "id": "f9ed8fe0",
   "metadata": {
    "execution": {
     "iopub.execute_input": "2021-11-30T20:08:59.736067Z",
     "iopub.status.busy": "2021-11-30T20:08:59.735428Z",
     "iopub.status.idle": "2021-11-30T20:08:59.930515Z",
     "shell.execute_reply": "2021-11-30T20:08:59.931342Z"
    },
    "papermill": {
     "duration": 0.228906,
     "end_time": "2021-11-30T20:08:59.931604",
     "exception": false,
     "start_time": "2021-11-30T20:08:59.702698",
     "status": "completed"
    },
    "tags": []
   },
   "outputs": [
    {
     "name": "stdout",
     "output_type": "stream",
     "text": [
      "2\n"
     ]
    },
    {
     "data": {
      "text/plain": [
       "<matplotlib.image.AxesImage at 0x7f84f81bc4e0>"
      ]
     },
     "execution_count": 9,
     "metadata": {},
     "output_type": "execute_result"
    },
    {
     "data": {
      "image/png": "[encoded data removed]",
      "text/plain": [
       "<Figure size 432x288 with 1 Axes>"
      ]
     },
     "metadata": {
      "needs_background": "light"
     },
     "output_type": "display_data"
    }
   ],
   "source": [
    "image_index = 7776 # You may select anything up to 60,000\n",
    "print(train_labels[image_index]) \n",
    "plt.imshow(train_images[image_index], cmap='Greys')"
   ]
  },
  {
   "cell_type": "markdown",
   "id": "a8d2388d",
   "metadata": {
    "papermill": {
     "duration": 0.03013,
     "end_time": "2021-11-30T20:08:59.992759",
     "exception": false,
     "start_time": "2021-11-30T20:08:59.962629",
     "status": "completed"
    },
    "tags": []
   },
   "source": [
    "## Filter data to get 3 and 8 out"
   ]
  },
  {
   "cell_type": "code",
   "execution_count": 10,
   "id": "776f7fc7",
   "metadata": {
    "execution": {
     "iopub.execute_input": "2021-11-30T20:09:00.058357Z",
     "iopub.status.busy": "2021-11-30T20:09:00.057726Z",
     "iopub.status.idle": "2021-11-30T20:09:00.079552Z",
     "shell.execute_reply": "2021-11-30T20:09:00.078871Z"
    },
    "papermill": {
     "duration": 0.056882,
     "end_time": "2021-11-30T20:09:00.079769",
     "exception": false,
     "start_time": "2021-11-30T20:09:00.022887",
     "status": "completed"
    },
    "tags": []
   },
   "outputs": [],
   "source": [
    "train_filter = np.where((train_labels == 3 ) | (train_labels == 8))\n",
    "test_filter = np.where((test_labels == 3) | (test_labels == 8))\n",
    "X_train, y_train = train_images[train_filter], train_labels[train_filter]\n",
    "X_test, y_test = test_images[test_filter], test_labels[test_filter]"
   ]
  },
  {
   "cell_type": "markdown",
   "id": "948f0b7e",
   "metadata": {
    "papermill": {
     "duration": 0.030487,
     "end_time": "2021-11-30T20:09:00.142088",
     "exception": false,
     "start_time": "2021-11-30T20:09:00.111601",
     "status": "completed"
    },
    "tags": []
   },
   "source": [
    "We normalize the pizel values in the 0 to 1 range"
   ]
  },
  {
   "cell_type": "code",
   "execution_count": 11,
   "id": "ee4c2166",
   "metadata": {
    "execution": {
     "iopub.execute_input": "2021-11-30T20:09:00.208083Z",
     "iopub.status.busy": "2021-11-30T20:09:00.207430Z",
     "iopub.status.idle": "2021-11-30T20:09:00.262724Z",
     "shell.execute_reply": "2021-11-30T20:09:00.261856Z"
    },
    "papermill": {
     "duration": 0.090943,
     "end_time": "2021-11-30T20:09:00.262948",
     "exception": false,
     "start_time": "2021-11-30T20:09:00.172005",
     "status": "completed"
    },
    "tags": []
   },
   "outputs": [],
   "source": [
    "X_train = X_train/255.\n",
    "X_test = X_test/255."
   ]
  },
  {
   "cell_type": "markdown",
   "id": "ddcf4fab",
   "metadata": {
    "papermill": {
     "duration": 0.029852,
     "end_time": "2021-11-30T20:09:00.325018",
     "exception": false,
     "start_time": "2021-11-30T20:09:00.295166",
     "status": "completed"
    },
    "tags": []
   },
   "source": [
    "And setup the labels as 1 (when the digit is 3) and 0 (when the digit is 8)"
   ]
  },
  {
   "cell_type": "code",
   "execution_count": 12,
   "id": "7dc908f2",
   "metadata": {
    "execution": {
     "iopub.execute_input": "2021-11-30T20:09:00.390878Z",
     "iopub.status.busy": "2021-11-30T20:09:00.390244Z",
     "iopub.status.idle": "2021-11-30T20:09:00.404263Z",
     "shell.execute_reply": "2021-11-30T20:09:00.403759Z"
    },
    "papermill": {
     "duration": 0.049725,
     "end_time": "2021-11-30T20:09:00.404401",
     "exception": false,
     "start_time": "2021-11-30T20:09:00.354676",
     "status": "completed"
    },
    "tags": []
   },
   "outputs": [],
   "source": [
    "y_train = 1*(y_train==3)\n",
    "y_test = 1*(y_test==3)"
   ]
  },
  {
   "cell_type": "code",
   "execution_count": 13,
   "id": "01e4e969",
   "metadata": {
    "execution": {
     "iopub.execute_input": "2021-11-30T20:09:00.469028Z",
     "iopub.status.busy": "2021-11-30T20:09:00.468402Z",
     "iopub.status.idle": "2021-11-30T20:09:00.484723Z",
     "shell.execute_reply": "2021-11-30T20:09:00.485496Z"
    },
    "papermill": {
     "duration": 0.051241,
     "end_time": "2021-11-30T20:09:00.485662",
     "exception": false,
     "start_time": "2021-11-30T20:09:00.434421",
     "status": "completed"
    },
    "tags": []
   },
   "outputs": [
    {
     "data": {
      "text/plain": [
       "((11982, 28, 28), (1984, 28, 28))"
      ]
     },
     "execution_count": 13,
     "metadata": {},
     "output_type": "execute_result"
    }
   ],
   "source": [
    "X_train.shape, X_test.shape"
   ]
  },
  {
   "cell_type": "markdown",
   "id": "5ccf3f85",
   "metadata": {
    "papermill": {
     "duration": 0.029959,
     "end_time": "2021-11-30T20:09:00.545763",
     "exception": false,
     "start_time": "2021-11-30T20:09:00.515804",
     "status": "completed"
    },
    "tags": []
   },
   "source": [
    "We reshape the data to flatten the image pixels into a set of features or co-variates:"
   ]
  },
  {
   "cell_type": "code",
   "execution_count": 14,
   "id": "5286a4a3",
   "metadata": {
    "execution": {
     "iopub.execute_input": "2021-11-30T20:09:00.611482Z",
     "iopub.status.busy": "2021-11-30T20:09:00.610882Z",
     "iopub.status.idle": "2021-11-30T20:09:00.626946Z",
     "shell.execute_reply": "2021-11-30T20:09:00.626467Z"
    },
    "papermill": {
     "duration": 0.051217,
     "end_time": "2021-11-30T20:09:00.627080",
     "exception": false,
     "start_time": "2021-11-30T20:09:00.575863",
     "status": "completed"
    },
    "tags": []
   },
   "outputs": [
    {
     "data": {
      "text/plain": [
       "((11982, 784), (1984, 784))"
      ]
     },
     "execution_count": 14,
     "metadata": {},
     "output_type": "execute_result"
    }
   ],
   "source": [
    "X_train = X_train.reshape(X_train.shape[0], -1)\n",
    "X_test = X_test.reshape(X_test.shape[0], -1)\n",
    "X_train.shape, X_test.shape"
   ]
  },
  {
   "cell_type": "code",
   "execution_count": 15,
   "id": "73c5f88a",
   "metadata": {
    "execution": {
     "iopub.execute_input": "2021-11-30T20:09:00.693988Z",
     "iopub.status.busy": "2021-11-30T20:09:00.693380Z",
     "iopub.status.idle": "2021-11-30T20:09:00.716364Z",
     "shell.execute_reply": "2021-11-30T20:09:00.715642Z"
    },
    "papermill": {
     "duration": 0.059269,
     "end_time": "2021-11-30T20:09:00.716545",
     "exception": false,
     "start_time": "2021-11-30T20:09:00.657276",
     "status": "completed"
    },
    "tags": []
   },
   "outputs": [],
   "source": [
    "#Impoting functions from 'Kudzu'\n",
    "from kudzu.model import Model\n",
    "from kudzu.train import Learner\n",
    "from kudzu.optim import GD\n",
    "from kudzu.data import Data, Sampler,Dataloader\n",
    "\n",
    "from kudzu.callbacks import AccCallback\n",
    "from kudzu.callbacks import ClfCallback\n",
    "\n",
    "from kudzu.loss import MSE\n",
    "\n",
    "from kudzu.layer import Sigmoid,Relu\n",
    "from kudzu.layer import Affine"
   ]
  },
  {
   "cell_type": "markdown",
   "id": "bc01172a",
   "metadata": {
    "papermill": {
     "duration": 0.030183,
     "end_time": "2021-11-30T20:09:00.779112",
     "exception": false,
     "start_time": "2021-11-30T20:09:00.748929",
     "status": "completed"
    },
    "tags": []
   },
   "source": [
    "### Let us create a `Config` class, to store important parameters. \n",
    "This class essentially plays the role of a dictionary."
   ]
  },
  {
   "cell_type": "code",
   "execution_count": 16,
   "id": "978281aa",
   "metadata": {
    "execution": {
     "iopub.execute_input": "2021-11-30T20:09:00.844883Z",
     "iopub.status.busy": "2021-11-30T20:09:00.844250Z",
     "iopub.status.idle": "2021-11-30T20:09:00.858908Z",
     "shell.execute_reply": "2021-11-30T20:09:00.859398Z"
    },
    "papermill": {
     "duration": 0.050117,
     "end_time": "2021-11-30T20:09:00.859559",
     "exception": false,
     "start_time": "2021-11-30T20:09:00.809442",
     "status": "completed"
    },
    "tags": []
   },
   "outputs": [],
   "source": [
    "class Config:\n",
    "    pass\n",
    "config = Config()\n",
    "config.lr = 0.001\n",
    "config.num_epochs = 250\n",
    "config.bs = 50"
   ]
  },
  {
   "cell_type": "markdown",
   "id": "1385fa59",
   "metadata": {
    "papermill": {
     "duration": 0.030275,
     "end_time": "2021-11-30T20:09:00.920482",
     "exception": false,
     "start_time": "2021-11-30T20:09:00.890207",
     "status": "completed"
    },
    "tags": []
   },
   "source": [
    "### Running Models with the Training data\n",
    "Details about the network layers:\n",
    "- A first affine layer has 784 inputs and does 100 affine transforms. These are followed by a Relu\n",
    "- A second affine layer has 100 inputs from the 100 activations of the past layer, and does 100 affine transforms. These are followed by a Relu\n",
    "- A third affine layer has 100 activations and does 2 affine transformations to create an embedding for visualization. There is no non-linearity here.\n",
    "- A final \"logistic regression\" which has an affine transform from 2 inputs to 1 output, which is squeezed through a sigmoid.\n"
   ]
  },
  {
   "cell_type": "code",
   "execution_count": 17,
   "id": "2b9c66db",
   "metadata": {
    "execution": {
     "iopub.execute_input": "2021-11-30T20:09:00.985821Z",
     "iopub.status.busy": "2021-11-30T20:09:00.985210Z",
     "iopub.status.idle": "2021-11-30T20:09:01.001411Z",
     "shell.execute_reply": "2021-11-30T20:09:01.000883Z"
    },
    "papermill": {
     "duration": 0.050688,
     "end_time": "2021-11-30T20:09:01.001545",
     "exception": false,
     "start_time": "2021-11-30T20:09:00.950857",
     "status": "completed"
    },
    "tags": []
   },
   "outputs": [],
   "source": [
    "data = Data(X_train, y_train.reshape(-1,1))\n",
    "sampler = Sampler(data, config.bs, shuffle=True)\n",
    "\n",
    "dl = Dataloader(data, sampler)\n",
    "\n",
    "opt = GD(config.lr)\n",
    "loss = MSE()"
   ]
  },
  {
   "cell_type": "code",
   "execution_count": 18,
   "id": "b275e4c2",
   "metadata": {
    "execution": {
     "iopub.execute_input": "2021-11-30T20:09:01.066903Z",
     "iopub.status.busy": "2021-11-30T20:09:01.066299Z",
     "iopub.status.idle": "2021-11-30T20:09:01.082157Z",
     "shell.execute_reply": "2021-11-30T20:09:01.081668Z"
    },
    "papermill": {
     "duration": 0.050137,
     "end_time": "2021-11-30T20:09:01.082296",
     "exception": false,
     "start_time": "2021-11-30T20:09:01.032159",
     "status": "completed"
    },
    "tags": []
   },
   "outputs": [],
   "source": [
    "training_data_x = X_train\n",
    "testing_data_x = X_test\n",
    "training_data_y = y_train.reshape(-1,1)\n",
    "testing_data_y = y_test.reshape(-1,1)"
   ]
  },
  {
   "cell_type": "code",
   "execution_count": 19,
   "id": "76951160",
   "metadata": {
    "execution": {
     "iopub.execute_input": "2021-11-30T20:09:01.149552Z",
     "iopub.status.busy": "2021-11-30T20:09:01.148940Z",
     "iopub.status.idle": "2021-11-30T20:09:01.167174Z",
     "shell.execute_reply": "2021-11-30T20:09:01.167688Z"
    },
    "papermill": {
     "duration": 0.053865,
     "end_time": "2021-11-30T20:09:01.167879",
     "exception": false,
     "start_time": "2021-11-30T20:09:01.114014",
     "status": "completed"
    },
    "tags": []
   },
   "outputs": [
    {
     "name": "stdout",
     "output_type": "stream",
     "text": [
      "xavier\n",
      "xavier\n",
      "xavier\n",
      "xavier\n",
      "xavier\n"
     ]
    }
   ],
   "source": [
    "layers = [Affine(\"first\", 784, 100), Relu(\"first\"), Affine(\"second\", 100, 100), Relu(\"second\"), Affine(\"third\", 100, 2), Affine(\"last\", 2, 1), Sigmoid(\"last\")]\n",
    "model_nn = Model(layers)\n",
    "model_lr = Model([Affine(\"logits\", 784, 1), Sigmoid(\"sigmoid\")])"
   ]
  },
  {
   "cell_type": "code",
   "execution_count": 20,
   "id": "6eede77a",
   "metadata": {
    "execution": {
     "iopub.execute_input": "2021-11-30T20:09:01.234413Z",
     "iopub.status.busy": "2021-11-30T20:09:01.233802Z",
     "iopub.status.idle": "2021-11-30T20:09:01.249410Z",
     "shell.execute_reply": "2021-11-30T20:09:01.249926Z"
    },
    "papermill": {
     "duration": 0.051056,
     "end_time": "2021-11-30T20:09:01.250083",
     "exception": false,
     "start_time": "2021-11-30T20:09:01.199027",
     "status": "completed"
    },
    "tags": []
   },
   "outputs": [],
   "source": [
    "nn_learner = Learner(loss, model_nn, opt, config.num_epochs)\n",
    "acc_nn = ClfCallback(nn_learner, config.bs, training_data_x , testing_data_x, training_data_y, testing_data_y)\n",
    "nn_learner.set_callbacks([acc_nn])"
   ]
  },
  {
   "cell_type": "code",
   "execution_count": 21,
   "id": "877b6cc7",
   "metadata": {
    "execution": {
     "iopub.execute_input": "2021-11-30T20:09:01.316213Z",
     "iopub.status.busy": "2021-11-30T20:09:01.315569Z",
     "iopub.status.idle": "2021-11-30T20:09:01.329927Z",
     "shell.execute_reply": "2021-11-30T20:09:01.329413Z"
    },
    "papermill": {
     "duration": 0.049196,
     "end_time": "2021-11-30T20:09:01.330058",
     "exception": false,
     "start_time": "2021-11-30T20:09:01.280862",
     "status": "completed"
    },
    "tags": []
   },
   "outputs": [],
   "source": [
    "lr_learner = Learner(loss, model_lr, opt, config.num_epochs)\n",
    "acc_lr = ClfCallback(lr_learner, config.bs, training_data_x , testing_data_x, training_data_y, testing_data_y)\n",
    "lr_learner.set_callbacks([acc_lr])"
   ]
  },
  {
   "cell_type": "code",
   "execution_count": 22,
   "id": "d9b133c3",
   "metadata": {
    "execution": {
     "iopub.execute_input": "2021-11-30T20:09:01.397925Z",
     "iopub.status.busy": "2021-11-30T20:09:01.397328Z",
     "iopub.status.idle": "2021-11-30T20:10:33.258084Z",
     "shell.execute_reply": "2021-11-30T20:10:33.258948Z"
    },
    "papermill": {
     "duration": 91.89809,
     "end_time": "2021-11-30T20:10:33.259117",
     "exception": false,
     "start_time": "2021-11-30T20:09:01.361027",
     "status": "completed"
    },
    "tags": []
   },
   "outputs": [
    {
     "name": "stdout",
     "output_type": "stream",
     "text": [
      "Epoch 0, Loss 0.2339\n",
      "Training Accuracy: 0.7453, Testing Accuracy: 0.7596\n",
      "\n"
     ]
    },
    {
     "name": "stdout",
     "output_type": "stream",
     "text": [
      "Epoch 10, Loss 0.0879\n",
      "Training Accuracy: 0.9205, Testing Accuracy: 0.9294\n",
      "\n"
     ]
    },
    {
     "name": "stdout",
     "output_type": "stream",
     "text": [
      "Epoch 20, Loss 0.0549\n",
      "Training Accuracy: 0.9434, Testing Accuracy: 0.9521\n",
      "\n"
     ]
    },
    {
     "name": "stdout",
     "output_type": "stream",
     "text": [
      "Epoch 30, Loss 0.0434\n",
      "Training Accuracy: 0.9528, Testing Accuracy: 0.9612\n",
      "\n"
     ]
    },
    {
     "name": "stdout",
     "output_type": "stream",
     "text": [
      "Epoch 40, Loss 0.0377\n",
      "Training Accuracy: 0.9580, Testing Accuracy: 0.9637\n",
      "\n"
     ]
    },
    {
     "name": "stdout",
     "output_type": "stream",
     "text": [
      "Epoch 50, Loss 0.0343\n",
      "Training Accuracy: 0.9611, Testing Accuracy: 0.9657\n",
      "\n"
     ]
    },
    {
     "name": "stdout",
     "output_type": "stream",
     "text": [
      "Epoch 60, Loss 0.0318\n",
      "Training Accuracy: 0.9633, Testing Accuracy: 0.9688\n",
      "\n"
     ]
    },
    {
     "name": "stdout",
     "output_type": "stream",
     "text": [
      "Epoch 70, Loss 0.03\n",
      "Training Accuracy: 0.9652, Testing Accuracy: 0.9718\n",
      "\n"
     ]
    },
    {
     "name": "stdout",
     "output_type": "stream",
     "text": [
      "Epoch 80, Loss 0.0285\n",
      "Training Accuracy: 0.9667, Testing Accuracy: 0.9713\n",
      "\n"
     ]
    },
    {
     "name": "stdout",
     "output_type": "stream",
     "text": [
      "Epoch 90, Loss 0.0273\n",
      "Training Accuracy: 0.9680, Testing Accuracy: 0.9728\n",
      "\n"
     ]
    },
    {
     "name": "stdout",
     "output_type": "stream",
     "text": [
      "Epoch 100, Loss 0.0263\n",
      "Training Accuracy: 0.9695, Testing Accuracy: 0.9733\n",
      "\n"
     ]
    },
    {
     "name": "stdout",
     "output_type": "stream",
     "text": [
      "Epoch 110, Loss 0.0254\n",
      "Training Accuracy: 0.9704, Testing Accuracy: 0.9733\n",
      "\n"
     ]
    },
    {
     "name": "stdout",
     "output_type": "stream",
     "text": [
      "Epoch 120, Loss 0.0246\n",
      "Training Accuracy: 0.9710, Testing Accuracy: 0.9743\n",
      "\n"
     ]
    },
    {
     "name": "stdout",
     "output_type": "stream",
     "text": [
      "Epoch 130, Loss 0.0238\n",
      "Training Accuracy: 0.9712, Testing Accuracy: 0.9743\n",
      "\n"
     ]
    },
    {
     "name": "stdout",
     "output_type": "stream",
     "text": [
      "Epoch 140, Loss 0.0231\n",
      "Training Accuracy: 0.9722, Testing Accuracy: 0.9748\n",
      "\n"
     ]
    },
    {
     "name": "stdout",
     "output_type": "stream",
     "text": [
      "Epoch 150, Loss 0.0225\n",
      "Training Accuracy: 0.9737, Testing Accuracy: 0.9753\n",
      "\n"
     ]
    },
    {
     "name": "stdout",
     "output_type": "stream",
     "text": [
      "Epoch 160, Loss 0.0219\n",
      "Training Accuracy: 0.9741, Testing Accuracy: 0.9763\n",
      "\n"
     ]
    },
    {
     "name": "stdout",
     "output_type": "stream",
     "text": [
      "Epoch 170, Loss 0.0214\n",
      "Training Accuracy: 0.9751, Testing Accuracy: 0.9763\n",
      "\n"
     ]
    },
    {
     "name": "stdout",
     "output_type": "stream",
     "text": [
      "Epoch 180, Loss 0.0209\n",
      "Training Accuracy: 0.9759, Testing Accuracy: 0.9758\n",
      "\n"
     ]
    },
    {
     "name": "stdout",
     "output_type": "stream",
     "text": [
      "Epoch 190, Loss 0.0204\n",
      "Training Accuracy: 0.9767, Testing Accuracy: 0.9758\n",
      "\n"
     ]
    },
    {
     "name": "stdout",
     "output_type": "stream",
     "text": [
      "Epoch 200, Loss 0.0199\n",
      "Training Accuracy: 0.9774, Testing Accuracy: 0.9758\n",
      "\n"
     ]
    },
    {
     "name": "stdout",
     "output_type": "stream",
     "text": [
      "Epoch 210, Loss 0.0194\n",
      "Training Accuracy: 0.9780, Testing Accuracy: 0.9758\n",
      "\n"
     ]
    },
    {
     "name": "stdout",
     "output_type": "stream",
     "text": [
      "Epoch 220, Loss 0.019\n",
      "Training Accuracy: 0.9788, Testing Accuracy: 0.9758\n",
      "\n"
     ]
    },
    {
     "name": "stdout",
     "output_type": "stream",
     "text": [
      "Epoch 230, Loss 0.0186\n",
      "Training Accuracy: 0.9793, Testing Accuracy: 0.9773\n",
      "\n"
     ]
    },
    {
     "name": "stdout",
     "output_type": "stream",
     "text": [
      "Epoch 240, Loss 0.0181\n",
      "Training Accuracy: 0.9802, Testing Accuracy: 0.9778\n",
      "\n"
     ]
    },
    {
     "data": {
      "text/plain": [
       "0.031769307765125994"
      ]
     },
     "execution_count": 22,
     "metadata": {},
     "output_type": "execute_result"
    }
   ],
   "source": [
    "nn_learner.train_loop(dl)"
   ]
  },
  {
   "cell_type": "code",
   "execution_count": 23,
   "id": "e0163366",
   "metadata": {
    "execution": {
     "iopub.execute_input": "2021-11-30T20:10:33.346318Z",
     "iopub.status.busy": "2021-11-30T20:10:33.345689Z",
     "iopub.status.idle": "2021-11-30T20:10:49.800233Z",
     "shell.execute_reply": "2021-11-30T20:10:49.801046Z"
    },
    "papermill": {
     "duration": 16.503014,
     "end_time": "2021-11-30T20:10:49.801219",
     "exception": false,
     "start_time": "2021-11-30T20:10:33.298205",
     "status": "completed"
    },
    "tags": []
   },
   "outputs": [
    {
     "name": "stdout",
     "output_type": "stream",
     "text": [
      "Epoch 0, Loss 0.2583\n",
      "Training Accuracy: 0.6117, Testing Accuracy: 0.6225\n",
      "\n"
     ]
    },
    {
     "name": "stdout",
     "output_type": "stream",
     "text": [
      "Epoch 10, Loss 0.1064\n",
      "Training Accuracy: 0.9035, Testing Accuracy: 0.9073\n",
      "\n"
     ]
    },
    {
     "name": "stdout",
     "output_type": "stream",
     "text": [
      "Epoch 20, Loss 0.081\n",
      "Training Accuracy: 0.9230, Testing Accuracy: 0.9299\n",
      "\n"
     ]
    },
    {
     "name": "stdout",
     "output_type": "stream",
     "text": [
      "Epoch 30, Loss 0.0695\n",
      "Training Accuracy: 0.9335, Testing Accuracy: 0.9430\n",
      "\n"
     ]
    },
    {
     "name": "stdout",
     "output_type": "stream",
     "text": [
      "Epoch 40, Loss 0.0626\n",
      "Training Accuracy: 0.9408, Testing Accuracy: 0.9486\n",
      "\n"
     ]
    },
    {
     "name": "stdout",
     "output_type": "stream",
     "text": [
      "Epoch 50, Loss 0.0579\n",
      "Training Accuracy: 0.9432, Testing Accuracy: 0.9511\n",
      "\n"
     ]
    },
    {
     "name": "stdout",
     "output_type": "stream",
     "text": [
      "Epoch 60, Loss 0.0545\n",
      "Training Accuracy: 0.9458, Testing Accuracy: 0.9531\n",
      "\n"
     ]
    },
    {
     "name": "stdout",
     "output_type": "stream",
     "text": [
      "Epoch 70, Loss 0.0518\n",
      "Training Accuracy: 0.9478, Testing Accuracy: 0.9567\n",
      "\n"
     ]
    },
    {
     "name": "stdout",
     "output_type": "stream",
     "text": [
      "Epoch 80, Loss 0.0497\n",
      "Training Accuracy: 0.9502, Testing Accuracy: 0.9587\n",
      "\n"
     ]
    },
    {
     "name": "stdout",
     "output_type": "stream",
     "text": [
      "Epoch 90, Loss 0.0479\n",
      "Training Accuracy: 0.9509, Testing Accuracy: 0.9592\n",
      "\n"
     ]
    },
    {
     "name": "stdout",
     "output_type": "stream",
     "text": [
      "Epoch 100, Loss 0.0465\n",
      "Training Accuracy: 0.9518, Testing Accuracy: 0.9602\n",
      "\n"
     ]
    },
    {
     "name": "stdout",
     "output_type": "stream",
     "text": [
      "Epoch 110, Loss 0.0452\n",
      "Training Accuracy: 0.9533, Testing Accuracy: 0.9602\n",
      "\n"
     ]
    },
    {
     "name": "stdout",
     "output_type": "stream",
     "text": [
      "Epoch 120, Loss 0.0441\n",
      "Training Accuracy: 0.9542, Testing Accuracy: 0.9627\n",
      "\n"
     ]
    },
    {
     "name": "stdout",
     "output_type": "stream",
     "text": [
      "Epoch 130, Loss 0.0432\n",
      "Training Accuracy: 0.9549, Testing Accuracy: 0.9622\n",
      "\n"
     ]
    },
    {
     "name": "stdout",
     "output_type": "stream",
     "text": [
      "Epoch 140, Loss 0.0423\n",
      "Training Accuracy: 0.9555, Testing Accuracy: 0.9617\n",
      "\n"
     ]
    },
    {
     "name": "stdout",
     "output_type": "stream",
     "text": [
      "Epoch 150, Loss 0.0415\n",
      "Training Accuracy: 0.9560, Testing Accuracy: 0.9622\n",
      "\n"
     ]
    },
    {
     "name": "stdout",
     "output_type": "stream",
     "text": [
      "Epoch 160, Loss 0.0409\n",
      "Training Accuracy: 0.9569, Testing Accuracy: 0.9617\n",
      "\n"
     ]
    },
    {
     "name": "stdout",
     "output_type": "stream",
     "text": [
      "Epoch 170, Loss 0.0402\n",
      "Training Accuracy: 0.9574, Testing Accuracy: 0.9627\n",
      "\n"
     ]
    },
    {
     "name": "stdout",
     "output_type": "stream",
     "text": [
      "Epoch 180, Loss 0.0397\n",
      "Training Accuracy: 0.9582, Testing Accuracy: 0.9632\n",
      "\n"
     ]
    },
    {
     "name": "stdout",
     "output_type": "stream",
     "text": [
      "Epoch 190, Loss 0.0391\n",
      "Training Accuracy: 0.9587, Testing Accuracy: 0.9637\n",
      "\n"
     ]
    },
    {
     "name": "stdout",
     "output_type": "stream",
     "text": [
      "Epoch 200, Loss 0.0386\n",
      "Training Accuracy: 0.9587, Testing Accuracy: 0.9637\n",
      "\n"
     ]
    },
    {
     "name": "stdout",
     "output_type": "stream",
     "text": [
      "Epoch 210, Loss 0.0382\n",
      "Training Accuracy: 0.9593, Testing Accuracy: 0.9637\n",
      "\n"
     ]
    },
    {
     "name": "stdout",
     "output_type": "stream",
     "text": [
      "Epoch 220, Loss 0.0378\n",
      "Training Accuracy: 0.9598, Testing Accuracy: 0.9637\n",
      "\n"
     ]
    },
    {
     "name": "stdout",
     "output_type": "stream",
     "text": [
      "Epoch 230, Loss 0.0374\n",
      "Training Accuracy: 0.9603, Testing Accuracy: 0.9637\n",
      "\n"
     ]
    },
    {
     "name": "stdout",
     "output_type": "stream",
     "text": [
      "Epoch 240, Loss 0.037\n",
      "Training Accuracy: 0.9609, Testing Accuracy: 0.9627\n",
      "\n"
     ]
    },
    {
     "data": {
      "text/plain": [
       "0.03970747341609282"
      ]
     },
     "execution_count": 23,
     "metadata": {},
     "output_type": "execute_result"
    }
   ],
   "source": [
    "lr_learner.train_loop(dl)"
   ]
  },
  {
   "cell_type": "code",
   "execution_count": 24,
   "id": "ca410940",
   "metadata": {
    "execution": {
     "iopub.execute_input": "2021-11-30T20:10:49.909256Z",
     "iopub.status.busy": "2021-11-30T20:10:49.908617Z",
     "iopub.status.idle": "2021-11-30T20:10:50.178539Z",
     "shell.execute_reply": "2021-11-30T20:10:50.179157Z"
    },
    "papermill": {
     "duration": 0.331051,
     "end_time": "2021-11-30T20:10:50.179348",
     "exception": false,
     "start_time": "2021-11-30T20:10:49.848297",
     "status": "completed"
    },
    "tags": []
   },
   "outputs": [
    {
     "data": {
      "text/plain": [
       "<matplotlib.legend.Legend at 0x7f84f7d97cc0>"
      ]
     },
     "execution_count": 24,
     "metadata": {},
     "output_type": "execute_result"
    },
    {
     "data": {
      "image/png": "[encoded data removed]",
      "text/plain": [
       "<Figure size 1080x720 with 1 Axes>"
      ]
     },
     "metadata": {
      "needs_background": "light"
     },
     "output_type": "display_data"
    }
   ],
   "source": [
    "#comparing the results of NN and LR\n",
    "plt.figure(figsize=(15,10))\n",
    "\n",
    "# Neural Network plots\n",
    "plt.plot(acc_nn.accuracies, 'r-', label = \"Training Accuracies - NN\")\n",
    "plt.plot(acc_nn.test_accuracies, 'g-', label = \"Testing Accuracies - NN\")\n",
    "\n",
    "# Logistic Regression plots\n",
    "plt.plot(acc_lr.accuracies, 'k-', label = \"Training Accuracies - LR\")\n",
    "plt.plot(acc_lr.test_accuracies, 'b-', label = \"Testing Accuracies - LR\")\n",
    "plt.legend()"
   ]
  },
  {
   "cell_type": "markdown",
   "id": "80dfb35c",
   "metadata": {
    "papermill": {
     "duration": 0.048316,
     "end_time": "2021-11-30T20:10:50.278001",
     "exception": false,
     "start_time": "2021-11-30T20:10:50.229685",
     "status": "completed"
    },
    "tags": []
   },
   "source": [
    "#### Plotting the outputs of this layer of the NN.\n"
   ]
  },
  {
   "cell_type": "code",
   "execution_count": 25,
   "id": "45eb2ff5",
   "metadata": {
    "execution": {
     "iopub.execute_input": "2021-11-30T20:10:50.378966Z",
     "iopub.status.busy": "2021-11-30T20:10:50.378344Z",
     "iopub.status.idle": "2021-11-30T20:10:50.403564Z",
     "shell.execute_reply": "2021-11-30T20:10:50.404471Z"
    },
    "papermill": {
     "duration": 0.078702,
     "end_time": "2021-11-30T20:10:50.404656",
     "exception": false,
     "start_time": "2021-11-30T20:10:50.325954",
     "status": "completed"
    },
    "tags": []
   },
   "outputs": [],
   "source": [
    "new_model = Model(layers[:-2])\n",
    "testing_plot = new_model(testing_data_x)"
   ]
  },
  {
   "cell_type": "code",
   "execution_count": 26,
   "id": "4c0a5485",
   "metadata": {
    "execution": {
     "iopub.execute_input": "2021-11-30T20:10:50.521207Z",
     "iopub.status.busy": "2021-11-30T20:10:50.520570Z",
     "iopub.status.idle": "2021-11-30T20:10:50.750851Z",
     "shell.execute_reply": "2021-11-30T20:10:50.751345Z"
    },
    "papermill": {
     "duration": 0.294462,
     "end_time": "2021-11-30T20:10:50.751512",
     "exception": false,
     "start_time": "2021-11-30T20:10:50.457050",
     "status": "completed"
    },
    "tags": []
   },
   "outputs": [
    {
     "data": {
      "text/plain": [
       "Text(0.5, 1.0, 'Outputs')"
      ]
     },
     "execution_count": 26,
     "metadata": {},
     "output_type": "execute_result"
    },
    {
     "data": {
      "image/png": "[encoded data removed]",
      "text/plain": [
       "<Figure size 576x504 with 1 Axes>"
      ]
     },
     "metadata": {
      "needs_background": "light"
     },
     "output_type": "display_data"
    }
   ],
   "source": [
    "# Plotting the scatter plot of points and color coding by class\n",
    "plt.figure(figsize=(8,7))\n",
    "plt.scatter(testing_plot[:,0], testing_plot[:,1], alpha = 0.1, c = y_test.ravel());\n",
    "plt.title('Outputs')"
   ]
  },
  {
   "cell_type": "markdown",
   "id": "a74fcf8f",
   "metadata": {
    "papermill": {
     "duration": 0.050129,
     "end_time": "2021-11-30T20:10:50.852159",
     "exception": false,
     "start_time": "2021-11-30T20:10:50.802030",
     "status": "completed"
    },
    "tags": []
   },
   "source": [
    "Probability contours"
   ]
  },
  {
   "cell_type": "code",
   "execution_count": 27,
   "id": "d0afc8e3",
   "metadata": {
    "execution": {
     "iopub.execute_input": "2021-11-30T20:10:50.956818Z",
     "iopub.status.busy": "2021-11-30T20:10:50.956191Z",
     "iopub.status.idle": "2021-11-30T20:10:50.969975Z",
     "shell.execute_reply": "2021-11-30T20:10:50.969460Z"
    },
    "papermill": {
     "duration": 0.067706,
     "end_time": "2021-11-30T20:10:50.970118",
     "exception": false,
     "start_time": "2021-11-30T20:10:50.902412",
     "status": "completed"
    },
    "tags": []
   },
   "outputs": [],
   "source": [
    "model_prob = Model(layers[-2:]) "
   ]
  },
  {
   "cell_type": "code",
   "execution_count": 28,
   "id": "9b96e238",
   "metadata": {
    "execution": {
     "iopub.execute_input": "2021-11-30T20:10:51.076533Z",
     "iopub.status.busy": "2021-11-30T20:10:51.075894Z",
     "iopub.status.idle": "2021-11-30T20:10:51.093992Z",
     "shell.execute_reply": "2021-11-30T20:10:51.094481Z"
    },
    "papermill": {
     "duration": 0.07412,
     "end_time": "2021-11-30T20:10:51.094645",
     "exception": false,
     "start_time": "2021-11-30T20:10:51.020525",
     "status": "completed"
    },
    "tags": []
   },
   "outputs": [],
   "source": [
    "#creating the x and y ranges according to the above generated plot.\n",
    "x_range = np.linspace(-4, 1, 100) \n",
    "y_range = np.linspace(-6, 6, 100) \n",
    "x_grid, y_grid = np.meshgrid(x_range, y_range) # x_grid and y_grig are of size 100 X 100\n",
    "\n",
    "# converting x_grid and y_grid to continuous arrays\n",
    "x_gridflat = np.ravel(x_grid)\n",
    "y_gridflat = np.ravel(y_grid)\n",
    "\n",
    "# The last layer of the current model takes two columns as input. Hence transpose of np.vstack() is required.\n",
    "X = np.vstack((x_gridflat, y_gridflat)).T\n",
    "\n",
    "prob_contour = model_prob(X).reshape(100,100) "
   ]
  },
  {
   "cell_type": "code",
   "execution_count": 29,
   "id": "da72499a",
   "metadata": {
    "execution": {
     "iopub.execute_input": "2021-11-30T20:10:51.235302Z",
     "iopub.status.busy": "2021-11-30T20:10:51.234666Z",
     "iopub.status.idle": "2021-11-30T20:10:51.535229Z",
     "shell.execute_reply": "2021-11-30T20:10:51.534721Z"
    },
    "papermill": {
     "duration": 0.390061,
     "end_time": "2021-11-30T20:10:51.535372",
     "exception": false,
     "start_time": "2021-11-30T20:10:51.145311",
     "status": "completed"
    },
    "tags": []
   },
   "outputs": [
    {
     "data": {
      "image/png": "[encoded data removed]",
      "text/plain": [
       "<Figure size 720x648 with 1 Axes>"
      ]
     },
     "metadata": {
      "needs_background": "light"
     },
     "output_type": "display_data"
    }
   ],
   "source": [
    "plt.figure(figsize=(10,9))\n",
    "plt.scatter(testing_plot[:,0], testing_plot[:,1], alpha = 0.1, c = y_test.ravel())\n",
    "contours = plt.contour(x_grid,y_grid,prob_contour)\n",
    "plt.title('Probability Contours')\n",
    "plt.clabel(contours, inline = True );"
   ]
  },
  {
   "cell_type": "code",
   "execution_count": null,
   "id": "e81b4ac7",
   "metadata": {
    "papermill": {
     "duration": 0.05312,
     "end_time": "2021-11-30T20:10:51.642235",
     "exception": false,
     "start_time": "2021-11-30T20:10:51.589115",
     "status": "completed"
    },
    "tags": []
   },
   "outputs": [],
   "source": []
  }
 ],
 "metadata": {
  "kernelspec": {
   "display_name": "Python 3",
   "language": "python",
   "name": "python3"
  },
  "language_info": {
   "codemirror_mode": {
    "name": "ipython",
    "version": 3
   },
   "file_extension": ".py",
   "mimetype": "text/x-python",
   "name": "python",
   "nbconvert_exporter": "python",
   "pygments_lexer": "ipython3",
   "version": "3.6.15"
  },
  "papermill": {
   "default_parameters": {},
   "duration": 119.358808,
   "end_time": "2021-11-30T20:10:52.106651",
   "environment_variables": {},
   "exception": null,
   "input_path": "2020-08-11-part2.ipynb",
   "output_path": "2020-08-11-part2.ipynb",
   "parameters": {},
   "start_time": "2021-11-30T20:08:52.747843",
   "version": "2.3.3"
  }
 },
 "nbformat": 4,
 "nbformat_minor": 5
}