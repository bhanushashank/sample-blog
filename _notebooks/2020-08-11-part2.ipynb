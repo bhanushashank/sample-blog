{
 "cells": [
  {
   "cell_type": "markdown",
   "id": "98380cd3",
   "metadata": {
    "papermill": {
     "duration": 0.03029,
     "end_time": "2022-10-15T20:10:44.485803",
     "exception": false,
     "start_time": "2022-10-15T20:10:44.455513",
     "status": "completed"
    },
    "tags": []
   },
   "source": [
    "# Distinguish Your Own Digits (DYOD)"
   ]
  },
  {
   "cell_type": "markdown",
   "id": "ef31240d",
   "metadata": {
    "papermill": {
     "duration": 0.021778,
     "end_time": "2022-10-15T20:10:44.529262",
     "exception": false,
     "start_time": "2022-10-15T20:10:44.507484",
     "status": "completed"
    },
    "tags": []
   },
   "source": [
    "You are going to write a classifier that distinguishes between the number 3 and number 8."
   ]
  },
  {
   "cell_type": "code",
   "execution_count": 1,
   "id": "b15c8646",
   "metadata": {
    "execution": {
     "iopub.execute_input": "2022-10-15T20:10:44.584756Z",
     "iopub.status.busy": "2022-10-15T20:10:44.581458Z",
     "iopub.status.idle": "2022-10-15T20:10:44.596041Z",
     "shell.execute_reply": "2022-10-15T20:10:44.595579Z"
    },
    "papermill": {
     "duration": 0.044974,
     "end_time": "2022-10-15T20:10:44.596153",
     "exception": false,
     "start_time": "2022-10-15T20:10:44.551179",
     "status": "completed"
    },
    "tags": []
   },
   "outputs": [],
   "source": [
    "%load_ext autoreload\n",
    "%autoreload 2"
   ]
  },
  {
   "cell_type": "code",
   "execution_count": 2,
   "id": "22ef38dc",
   "metadata": {
    "execution": {
     "iopub.execute_input": "2022-10-15T20:10:44.645525Z",
     "iopub.status.busy": "2022-10-15T20:10:44.644973Z",
     "iopub.status.idle": "2022-10-15T20:10:45.181333Z",
     "shell.execute_reply": "2022-10-15T20:10:45.180594Z"
    },
    "papermill": {
     "duration": 0.564501,
     "end_time": "2022-10-15T20:10:45.181462",
     "exception": false,
     "start_time": "2022-10-15T20:10:44.616961",
     "status": "completed"
    },
    "tags": []
   },
   "outputs": [],
   "source": [
    "%matplotlib inline\n",
    "import numpy as np\n",
    "import matplotlib.pyplot as plt\n",
    "import pandas as pd"
   ]
  },
  {
   "cell_type": "markdown",
   "id": "ba036198",
   "metadata": {
    "papermill": {
     "duration": 0.024381,
     "end_time": "2022-10-15T20:10:45.229722",
     "exception": false,
     "start_time": "2022-10-15T20:10:45.205341",
     "status": "completed"
    },
    "tags": []
   },
   "source": [
    "From the command line run `pip install mnist`. This is a library that will help you bring down the mnist dataset. If you run this from a notebook, you need to put  `!pip install mnist` in a cell by itself."
   ]
  },
  {
   "cell_type": "code",
   "execution_count": 3,
   "id": "bb6ad8a1",
   "metadata": {
    "execution": {
     "iopub.execute_input": "2022-10-15T20:10:45.279073Z",
     "iopub.status.busy": "2022-10-15T20:10:45.278577Z",
     "iopub.status.idle": "2022-10-15T20:10:46.865992Z",
     "shell.execute_reply": "2022-10-15T20:10:46.864926Z"
    },
    "papermill": {
     "duration": 1.612798,
     "end_time": "2022-10-15T20:10:46.866212",
     "exception": false,
     "start_time": "2022-10-15T20:10:45.253414",
     "status": "completed"
    },
    "tags": []
   },
   "outputs": [
    {
     "name": "stdout",
     "output_type": "stream",
     "text": [
      "Collecting mnist\r\n"
     ]
    },
    {
     "name": "stdout",
     "output_type": "stream",
     "text": [
      "  Downloading mnist-0.2.2-py2.py3-none-any.whl (3.5 kB)\r\n",
      "Requirement already satisfied: numpy in /opt/hostedtoolcache/Python/3.6.15/x64/lib/python3.6/site-packages (from mnist) (1.19.5)\r\n"
     ]
    },
    {
     "name": "stdout",
     "output_type": "stream",
     "text": [
      "Installing collected packages: mnist\r\n"
     ]
    },
    {
     "name": "stdout",
     "output_type": "stream",
     "text": [
      "Successfully installed mnist-0.2.2\r\n"
     ]
    }
   ],
   "source": [
    "!pip install mnist"
   ]
  },
  {
   "cell_type": "markdown",
   "id": "69df9c9a",
   "metadata": {
    "papermill": {
     "duration": 0.021965,
     "end_time": "2022-10-15T20:10:46.912729",
     "exception": false,
     "start_time": "2022-10-15T20:10:46.890764",
     "status": "completed"
    },
    "tags": []
   },
   "source": [
    "## Preparing the Data"
   ]
  },
  {
   "cell_type": "code",
   "execution_count": 4,
   "id": "7f69d806",
   "metadata": {
    "execution": {
     "iopub.execute_input": "2022-10-15T20:10:46.964057Z",
     "iopub.status.busy": "2022-10-15T20:10:46.963423Z",
     "iopub.status.idle": "2022-10-15T20:10:46.978861Z",
     "shell.execute_reply": "2022-10-15T20:10:46.978349Z"
    },
    "papermill": {
     "duration": 0.043988,
     "end_time": "2022-10-15T20:10:46.978961",
     "exception": false,
     "start_time": "2022-10-15T20:10:46.934973",
     "status": "completed"
    },
    "tags": []
   },
   "outputs": [],
   "source": [
    "import mnist"
   ]
  },
  {
   "cell_type": "code",
   "execution_count": 5,
   "id": "a411e44f",
   "metadata": {
    "execution": {
     "iopub.execute_input": "2022-10-15T20:10:47.033567Z",
     "iopub.status.busy": "2022-10-15T20:10:47.032411Z",
     "iopub.status.idle": "2022-10-15T20:10:47.704531Z",
     "shell.execute_reply": "2022-10-15T20:10:47.703616Z"
    },
    "papermill": {
     "duration": 0.701482,
     "end_time": "2022-10-15T20:10:47.704740",
     "exception": false,
     "start_time": "2022-10-15T20:10:47.003258",
     "status": "completed"
    },
    "tags": []
   },
   "outputs": [],
   "source": [
    "train_images = mnist.train_images()\n",
    "train_labels = mnist.train_labels()"
   ]
  },
  {
   "cell_type": "code",
   "execution_count": 6,
   "id": "dceab3a5",
   "metadata": {
    "execution": {
     "iopub.execute_input": "2022-10-15T20:10:47.760228Z",
     "iopub.status.busy": "2022-10-15T20:10:47.759575Z",
     "iopub.status.idle": "2022-10-15T20:10:47.774887Z",
     "shell.execute_reply": "2022-10-15T20:10:47.775354Z"
    },
    "papermill": {
     "duration": 0.044927,
     "end_time": "2022-10-15T20:10:47.775470",
     "exception": false,
     "start_time": "2022-10-15T20:10:47.730543",
     "status": "completed"
    },
    "tags": []
   },
   "outputs": [
    {
     "data": {
      "text/plain": [
       "((60000, 28, 28), (60000,))"
      ]
     },
     "execution_count": 6,
     "metadata": {},
     "output_type": "execute_result"
    }
   ],
   "source": [
    "train_images.shape, train_labels.shape"
   ]
  },
  {
   "cell_type": "code",
   "execution_count": 7,
   "id": "f50dc2bb",
   "metadata": {
    "execution": {
     "iopub.execute_input": "2022-10-15T20:10:47.825544Z",
     "iopub.status.busy": "2022-10-15T20:10:47.824998Z",
     "iopub.status.idle": "2022-10-15T20:10:48.045930Z",
     "shell.execute_reply": "2022-10-15T20:10:48.045286Z"
    },
    "papermill": {
     "duration": 0.248123,
     "end_time": "2022-10-15T20:10:48.046064",
     "exception": false,
     "start_time": "2022-10-15T20:10:47.797941",
     "status": "completed"
    },
    "tags": []
   },
   "outputs": [],
   "source": [
    "test_images = mnist.test_images()\n",
    "test_labels = mnist.test_labels()"
   ]
  },
  {
   "cell_type": "code",
   "execution_count": 8,
   "id": "fc38cf1b",
   "metadata": {
    "execution": {
     "iopub.execute_input": "2022-10-15T20:10:48.107387Z",
     "iopub.status.busy": "2022-10-15T20:10:48.106783Z",
     "iopub.status.idle": "2022-10-15T20:10:48.118994Z",
     "shell.execute_reply": "2022-10-15T20:10:48.118540Z"
    },
    "papermill": {
     "duration": 0.045381,
     "end_time": "2022-10-15T20:10:48.119119",
     "exception": false,
     "start_time": "2022-10-15T20:10:48.073738",
     "status": "completed"
    },
    "tags": []
   },
   "outputs": [
    {
     "data": {
      "text/plain": [
       "((10000, 28, 28), (10000,))"
      ]
     },
     "execution_count": 8,
     "metadata": {},
     "output_type": "execute_result"
    }
   ],
   "source": [
    "test_images.shape, test_labels.shape"
   ]
  },
  {
   "cell_type": "code",
   "execution_count": 9,
   "id": "f9ed8fe0",
   "metadata": {
    "execution": {
     "iopub.execute_input": "2022-10-15T20:10:48.177851Z",
     "iopub.status.busy": "2022-10-15T20:10:48.177167Z",
     "iopub.status.idle": "2022-10-15T20:10:48.319805Z",
     "shell.execute_reply": "2022-10-15T20:10:48.318932Z"
    },
    "papermill": {
     "duration": 0.174001,
     "end_time": "2022-10-15T20:10:48.319928",
     "exception": false,
     "start_time": "2022-10-15T20:10:48.145927",
     "status": "completed"
    },
    "tags": []
   },
   "outputs": [
    {
     "name": "stdout",
     "output_type": "stream",
     "text": [
      "2\n"
     ]
    },
    {
     "data": {
      "text/plain": [
       "<matplotlib.image.AxesImage at 0x7fe7213bfcf8>"
      ]
     },
     "execution_count": 9,
     "metadata": {},
     "output_type": "execute_result"
    },
    {
     "data": {
      "image/png": "[encoded data removed]",
      "text/plain": [
       "<Figure size 432x288 with 1 Axes>"
      ]
     },
     "metadata": {
      "needs_background": "light"
     },
     "output_type": "display_data"
    }
   ],
   "source": [
    "image_index = 7776 # You may select anything up to 60,000\n",
    "print(train_labels[image_index]) \n",
    "plt.imshow(train_images[image_index], cmap='Greys')"
   ]
  },
  {
   "cell_type": "markdown",
   "id": "a8d2388d",
   "metadata": {
    "papermill": {
     "duration": 0.024973,
     "end_time": "2022-10-15T20:10:48.368906",
     "exception": false,
     "start_time": "2022-10-15T20:10:48.343933",
     "status": "completed"
    },
    "tags": []
   },
   "source": [
    "## Filter data to get 3 and 8 out"
   ]
  },
  {
   "cell_type": "code",
   "execution_count": 10,
   "id": "776f7fc7",
   "metadata": {
    "execution": {
     "iopub.execute_input": "2022-10-15T20:10:48.423296Z",
     "iopub.status.busy": "2022-10-15T20:10:48.422668Z",
     "iopub.status.idle": "2022-10-15T20:10:48.442167Z",
     "shell.execute_reply": "2022-10-15T20:10:48.442742Z"
    },
    "papermill": {
     "duration": 0.0513,
     "end_time": "2022-10-15T20:10:48.442894",
     "exception": false,
     "start_time": "2022-10-15T20:10:48.391594",
     "status": "completed"
    },
    "tags": []
   },
   "outputs": [],
   "source": [
    "train_filter = np.where((train_labels == 3 ) | (train_labels == 8))\n",
    "test_filter = np.where((test_labels == 3) | (test_labels == 8))\n",
    "X_train, y_train = train_images[train_filter], train_labels[train_filter]\n",
    "X_test, y_test = test_images[test_filter], test_labels[test_filter]"
   ]
  },
  {
   "cell_type": "markdown",
   "id": "948f0b7e",
   "metadata": {
    "papermill": {
     "duration": 0.02483,
     "end_time": "2022-10-15T20:10:48.495083",
     "exception": false,
     "start_time": "2022-10-15T20:10:48.470253",
     "status": "completed"
    },
    "tags": []
   },
   "source": [
    "We normalize the pizel values in the 0 to 1 range"
   ]
  },
  {
   "cell_type": "code",
   "execution_count": 11,
   "id": "ee4c2166",
   "metadata": {
    "execution": {
     "iopub.execute_input": "2022-10-15T20:10:48.550623Z",
     "iopub.status.busy": "2022-10-15T20:10:48.550059Z",
     "iopub.status.idle": "2022-10-15T20:10:48.602235Z",
     "shell.execute_reply": "2022-10-15T20:10:48.601413Z"
    },
    "papermill": {
     "duration": 0.081773,
     "end_time": "2022-10-15T20:10:48.602363",
     "exception": false,
     "start_time": "2022-10-15T20:10:48.520590",
     "status": "completed"
    },
    "tags": []
   },
   "outputs": [],
   "source": [
    "X_train = X_train/255.\n",
    "X_test = X_test/255."
   ]
  },
  {
   "cell_type": "markdown",
   "id": "ddcf4fab",
   "metadata": {
    "papermill": {
     "duration": 0.02632,
     "end_time": "2022-10-15T20:10:48.653902",
     "exception": false,
     "start_time": "2022-10-15T20:10:48.627582",
     "status": "completed"
    },
    "tags": []
   },
   "source": [
    "And setup the labels as 1 (when the digit is 3) and 0 (when the digit is 8)"
   ]
  },
  {
   "cell_type": "code",
   "execution_count": 12,
   "id": "7dc908f2",
   "metadata": {
    "execution": {
     "iopub.execute_input": "2022-10-15T20:10:48.708078Z",
     "iopub.status.busy": "2022-10-15T20:10:48.707452Z",
     "iopub.status.idle": "2022-10-15T20:10:48.722969Z",
     "shell.execute_reply": "2022-10-15T20:10:48.722516Z"
    },
    "papermill": {
     "duration": 0.043598,
     "end_time": "2022-10-15T20:10:48.723068",
     "exception": false,
     "start_time": "2022-10-15T20:10:48.679470",
     "status": "completed"
    },
    "tags": []
   },
   "outputs": [],
   "source": [
    "y_train = 1*(y_train==3)\n",
    "y_test = 1*(y_test==3)"
   ]
  },
  {
   "cell_type": "code",
   "execution_count": 13,
   "id": "01e4e969",
   "metadata": {
    "execution": {
     "iopub.execute_input": "2022-10-15T20:10:48.786776Z",
     "iopub.status.busy": "2022-10-15T20:10:48.784680Z",
     "iopub.status.idle": "2022-10-15T20:10:48.797108Z",
     "shell.execute_reply": "2022-10-15T20:10:48.796571Z"
    },
    "papermill": {
     "duration": 0.049789,
     "end_time": "2022-10-15T20:10:48.797207",
     "exception": false,
     "start_time": "2022-10-15T20:10:48.747418",
     "status": "completed"
    },
    "tags": []
   },
   "outputs": [
    {
     "data": {
      "text/plain": [
       "((11982, 28, 28), (1984, 28, 28))"
      ]
     },
     "execution_count": 13,
     "metadata": {},
     "output_type": "execute_result"
    }
   ],
   "source": [
    "X_train.shape, X_test.shape"
   ]
  },
  {
   "cell_type": "markdown",
   "id": "5ccf3f85",
   "metadata": {
    "papermill": {
     "duration": 0.026346,
     "end_time": "2022-10-15T20:10:48.848199",
     "exception": false,
     "start_time": "2022-10-15T20:10:48.821853",
     "status": "completed"
    },
    "tags": []
   },
   "source": [
    "We reshape the data to flatten the image pixels into a set of features or co-variates:"
   ]
  },
  {
   "cell_type": "code",
   "execution_count": 14,
   "id": "5286a4a3",
   "metadata": {
    "execution": {
     "iopub.execute_input": "2022-10-15T20:10:48.910845Z",
     "iopub.status.busy": "2022-10-15T20:10:48.906331Z",
     "iopub.status.idle": "2022-10-15T20:10:48.920017Z",
     "shell.execute_reply": "2022-10-15T20:10:48.920444Z"
    },
    "papermill": {
     "duration": 0.045434,
     "end_time": "2022-10-15T20:10:48.920566",
     "exception": false,
     "start_time": "2022-10-15T20:10:48.875132",
     "status": "completed"
    },
    "tags": []
   },
   "outputs": [
    {
     "data": {
      "text/plain": [
       "((11982, 784), (1984, 784))"
      ]
     },
     "execution_count": 14,
     "metadata": {},
     "output_type": "execute_result"
    }
   ],
   "source": [
    "X_train = X_train.reshape(X_train.shape[0], -1)\n",
    "X_test = X_test.reshape(X_test.shape[0], -1)\n",
    "X_train.shape, X_test.shape"
   ]
  },
  {
   "cell_type": "code",
   "execution_count": 15,
   "id": "73c5f88a",
   "metadata": {
    "execution": {
     "iopub.execute_input": "2022-10-15T20:10:48.978463Z",
     "iopub.status.busy": "2022-10-15T20:10:48.977726Z",
     "iopub.status.idle": "2022-10-15T20:10:48.996155Z",
     "shell.execute_reply": "2022-10-15T20:10:48.995681Z"
    },
    "papermill": {
     "duration": 0.049227,
     "end_time": "2022-10-15T20:10:48.996247",
     "exception": false,
     "start_time": "2022-10-15T20:10:48.947020",
     "status": "completed"
    },
    "tags": []
   },
   "outputs": [],
   "source": [
    "#Impoting functions from 'Kudzu'\n",
    "from kudzu.model import Model\n",
    "from kudzu.train import Learner\n",
    "from kudzu.optim import GD\n",
    "from kudzu.data import Data, Sampler,Dataloader\n",
    "\n",
    "from kudzu.callbacks import AccCallback\n",
    "from kudzu.callbacks import ClfCallback\n",
    "\n",
    "from kudzu.loss import MSE\n",
    "\n",
    "from kudzu.layer import Sigmoid,Relu\n",
    "from kudzu.layer import Affine"
   ]
  },
  {
   "cell_type": "markdown",
   "id": "bc01172a",
   "metadata": {
    "papermill": {
     "duration": 0.024827,
     "end_time": "2022-10-15T20:10:49.045518",
     "exception": false,
     "start_time": "2022-10-15T20:10:49.020691",
     "status": "completed"
    },
    "tags": []
   },
   "source": [
    "### Let us create a `Config` class, to store important parameters. \n",
    "This class essentially plays the role of a dictionary."
   ]
  },
  {
   "cell_type": "code",
   "execution_count": 16,
   "id": "978281aa",
   "metadata": {
    "execution": {
     "iopub.execute_input": "2022-10-15T20:10:49.102469Z",
     "iopub.status.busy": "2022-10-15T20:10:49.101900Z",
     "iopub.status.idle": "2022-10-15T20:10:49.116512Z",
     "shell.execute_reply": "2022-10-15T20:10:49.117034Z"
    },
    "papermill": {
     "duration": 0.046946,
     "end_time": "2022-10-15T20:10:49.117152",
     "exception": false,
     "start_time": "2022-10-15T20:10:49.070206",
     "status": "completed"
    },
    "tags": []
   },
   "outputs": [],
   "source": [
    "class Config:\n",
    "    pass\n",
    "config = Config()\n",
    "config.lr = 0.001\n",
    "config.num_epochs = 250\n",
    "config.bs = 50"
   ]
  },
  {
   "cell_type": "markdown",
   "id": "1385fa59",
   "metadata": {
    "papermill": {
     "duration": 0.026114,
     "end_time": "2022-10-15T20:10:49.169024",
     "exception": false,
     "start_time": "2022-10-15T20:10:49.142910",
     "status": "completed"
    },
    "tags": []
   },
   "source": [
    "### Running Models with the Training data\n",
    "Details about the network layers:\n",
    "- A first affine layer has 784 inputs and does 100 affine transforms. These are followed by a Relu\n",
    "- A second affine layer has 100 inputs from the 100 activations of the past layer, and does 100 affine transforms. These are followed by a Relu\n",
    "- A third affine layer has 100 activations and does 2 affine transformations to create an embedding for visualization. There is no non-linearity here.\n",
    "- A final \"logistic regression\" which has an affine transform from 2 inputs to 1 output, which is squeezed through a sigmoid.\n"
   ]
  },
  {
   "cell_type": "code",
   "execution_count": 17,
   "id": "2b9c66db",
   "metadata": {
    "execution": {
     "iopub.execute_input": "2022-10-15T20:10:49.223406Z",
     "iopub.status.busy": "2022-10-15T20:10:49.222759Z",
     "iopub.status.idle": "2022-10-15T20:10:49.238345Z",
     "shell.execute_reply": "2022-10-15T20:10:49.238829Z"
    },
    "papermill": {
     "duration": 0.045941,
     "end_time": "2022-10-15T20:10:49.238955",
     "exception": false,
     "start_time": "2022-10-15T20:10:49.193014",
     "status": "completed"
    },
    "tags": []
   },
   "outputs": [],
   "source": [
    "data = Data(X_train, y_train.reshape(-1,1))\n",
    "sampler = Sampler(data, config.bs, shuffle=True)\n",
    "\n",
    "dl = Dataloader(data, sampler)\n",
    "\n",
    "opt = GD(config.lr)\n",
    "loss = MSE()"
   ]
  },
  {
   "cell_type": "code",
   "execution_count": 18,
   "id": "b275e4c2",
   "metadata": {
    "execution": {
     "iopub.execute_input": "2022-10-15T20:10:49.294045Z",
     "iopub.status.busy": "2022-10-15T20:10:49.293350Z",
     "iopub.status.idle": "2022-10-15T20:10:49.308260Z",
     "shell.execute_reply": "2022-10-15T20:10:49.307715Z"
    },
    "papermill": {
     "duration": 0.043036,
     "end_time": "2022-10-15T20:10:49.308358",
     "exception": false,
     "start_time": "2022-10-15T20:10:49.265322",
     "status": "completed"
    },
    "tags": []
   },
   "outputs": [],
   "source": [
    "training_data_x = X_train\n",
    "testing_data_x = X_test\n",
    "training_data_y = y_train.reshape(-1,1)\n",
    "testing_data_y = y_test.reshape(-1,1)"
   ]
  },
  {
   "cell_type": "code",
   "execution_count": 19,
   "id": "76951160",
   "metadata": {
    "execution": {
     "iopub.execute_input": "2022-10-15T20:10:49.361858Z",
     "iopub.status.busy": "2022-10-15T20:10:49.361365Z",
     "iopub.status.idle": "2022-10-15T20:10:49.377174Z",
     "shell.execute_reply": "2022-10-15T20:10:49.376570Z"
    },
    "papermill": {
     "duration": 0.044548,
     "end_time": "2022-10-15T20:10:49.377281",
     "exception": false,
     "start_time": "2022-10-15T20:10:49.332733",
     "status": "completed"
    },
    "tags": []
   },
   "outputs": [
    {
     "name": "stdout",
     "output_type": "stream",
     "text": [
      "xavier\n",
      "xavier\n",
      "xavier\n",
      "xavier\n",
      "xavier\n"
     ]
    }
   ],
   "source": [
    "layers = [Affine(\"first\", 784, 100), Relu(\"first\"), Affine(\"second\", 100, 100), Relu(\"second\"), Affine(\"third\", 100, 2), Affine(\"last\", 2, 1), Sigmoid(\"last\")]\n",
    "model_nn = Model(layers)\n",
    "model_lr = Model([Affine(\"logits\", 784, 1), Sigmoid(\"sigmoid\")])"
   ]
  },
  {
   "cell_type": "code",
   "execution_count": 20,
   "id": "6eede77a",
   "metadata": {
    "execution": {
     "iopub.execute_input": "2022-10-15T20:10:49.431655Z",
     "iopub.status.busy": "2022-10-15T20:10:49.431105Z",
     "iopub.status.idle": "2022-10-15T20:10:49.442082Z",
     "shell.execute_reply": "2022-10-15T20:10:49.442493Z"
    },
    "papermill": {
     "duration": 0.040352,
     "end_time": "2022-10-15T20:10:49.442602",
     "exception": false,
     "start_time": "2022-10-15T20:10:49.402250",
     "status": "completed"
    },
    "tags": []
   },
   "outputs": [],
   "source": [
    "nn_learner = Learner(loss, model_nn, opt, config.num_epochs)\n",
    "acc_nn = ClfCallback(nn_learner, config.bs, training_data_x , testing_data_x, training_data_y, testing_data_y)\n",
    "nn_learner.set_callbacks([acc_nn])"
   ]
  },
  {
   "cell_type": "code",
   "execution_count": 21,
   "id": "877b6cc7",
   "metadata": {
    "execution": {
     "iopub.execute_input": "2022-10-15T20:10:49.494433Z",
     "iopub.status.busy": "2022-10-15T20:10:49.493952Z",
     "iopub.status.idle": "2022-10-15T20:10:49.509835Z",
     "shell.execute_reply": "2022-10-15T20:10:49.509385Z"
    },
    "papermill": {
     "duration": 0.043913,
     "end_time": "2022-10-15T20:10:49.509949",
     "exception": false,
     "start_time": "2022-10-15T20:10:49.466036",
     "status": "completed"
    },
    "tags": []
   },
   "outputs": [],
   "source": [
    "lr_learner = Learner(loss, model_lr, opt, config.num_epochs)\n",
    "acc_lr = ClfCallback(lr_learner, config.bs, training_data_x , testing_data_x, training_data_y, testing_data_y)\n",
    "lr_learner.set_callbacks([acc_lr])"
   ]
  },
  {
   "cell_type": "code",
   "execution_count": 22,
   "id": "d9b133c3",
   "metadata": {
    "execution": {
     "iopub.execute_input": "2022-10-15T20:10:49.563688Z",
     "iopub.status.busy": "2022-10-15T20:10:49.563132Z",
     "iopub.status.idle": "2022-10-15T20:12:07.994082Z",
     "shell.execute_reply": "2022-10-15T20:12:07.995074Z"
    },
    "papermill": {
     "duration": 78.461048,
     "end_time": "2022-10-15T20:12:07.995235",
     "exception": false,
     "start_time": "2022-10-15T20:10:49.534187",
     "status": "completed"
    },
    "tags": []
   },
   "outputs": [
    {
     "name": "stdout",
     "output_type": "stream",
     "text": [
      "Epoch 0, Loss 0.2313\n",
      "Training Accuracy: 0.7606, Testing Accuracy: 0.7535\n",
      "\n"
     ]
    },
    {
     "name": "stdout",
     "output_type": "stream",
     "text": [
      "Epoch 10, Loss 0.0612\n",
      "Training Accuracy: 0.9413, Testing Accuracy: 0.9461\n",
      "\n"
     ]
    },
    {
     "name": "stdout",
     "output_type": "stream",
     "text": [
      "Epoch 20, Loss 0.0417\n",
      "Training Accuracy: 0.9561, Testing Accuracy: 0.9607\n",
      "\n"
     ]
    },
    {
     "name": "stdout",
     "output_type": "stream",
     "text": [
      "Epoch 30, Loss 0.0346\n",
      "Training Accuracy: 0.9626, Testing Accuracy: 0.9657\n",
      "\n"
     ]
    },
    {
     "name": "stdout",
     "output_type": "stream",
     "text": [
      "Epoch 40, Loss 0.0307\n",
      "Training Accuracy: 0.9661, Testing Accuracy: 0.9682\n",
      "\n"
     ]
    },
    {
     "name": "stdout",
     "output_type": "stream",
     "text": [
      "Epoch 50, Loss 0.0282\n",
      "Training Accuracy: 0.9685, Testing Accuracy: 0.9688\n",
      "\n"
     ]
    },
    {
     "name": "stdout",
     "output_type": "stream",
     "text": [
      "Epoch 60, Loss 0.0264\n",
      "Training Accuracy: 0.9704, Testing Accuracy: 0.9703\n",
      "\n"
     ]
    },
    {
     "name": "stdout",
     "output_type": "stream",
     "text": [
      "Epoch 70, Loss 0.0251\n",
      "Training Accuracy: 0.9723, Testing Accuracy: 0.9713\n",
      "\n"
     ]
    },
    {
     "name": "stdout",
     "output_type": "stream",
     "text": [
      "Epoch 80, Loss 0.0239\n",
      "Training Accuracy: 0.9731, Testing Accuracy: 0.9728\n",
      "\n"
     ]
    },
    {
     "name": "stdout",
     "output_type": "stream",
     "text": [
      "Epoch 90, Loss 0.023\n",
      "Training Accuracy: 0.9741, Testing Accuracy: 0.9728\n",
      "\n"
     ]
    },
    {
     "name": "stdout",
     "output_type": "stream",
     "text": [
      "Epoch 100, Loss 0.0221\n",
      "Training Accuracy: 0.9747, Testing Accuracy: 0.9738\n",
      "\n"
     ]
    },
    {
     "name": "stdout",
     "output_type": "stream",
     "text": [
      "Epoch 110, Loss 0.0214\n",
      "Training Accuracy: 0.9752, Testing Accuracy: 0.9733\n",
      "\n"
     ]
    },
    {
     "name": "stdout",
     "output_type": "stream",
     "text": [
      "Epoch 120, Loss 0.0208\n",
      "Training Accuracy: 0.9759, Testing Accuracy: 0.9733\n",
      "\n"
     ]
    },
    {
     "name": "stdout",
     "output_type": "stream",
     "text": [
      "Epoch 130, Loss 0.0202\n",
      "Training Accuracy: 0.9765, Testing Accuracy: 0.9733\n",
      "\n"
     ]
    },
    {
     "name": "stdout",
     "output_type": "stream",
     "text": [
      "Epoch 140, Loss 0.0196\n",
      "Training Accuracy: 0.9777, Testing Accuracy: 0.9743\n",
      "\n"
     ]
    },
    {
     "name": "stdout",
     "output_type": "stream",
     "text": [
      "Epoch 150, Loss 0.019\n",
      "Training Accuracy: 0.9783, Testing Accuracy: 0.9743\n",
      "\n"
     ]
    },
    {
     "name": "stdout",
     "output_type": "stream",
     "text": [
      "Epoch 160, Loss 0.0185\n",
      "Training Accuracy: 0.9787, Testing Accuracy: 0.9743\n",
      "\n"
     ]
    },
    {
     "name": "stdout",
     "output_type": "stream",
     "text": [
      "Epoch 170, Loss 0.0181\n",
      "Training Accuracy: 0.9793, Testing Accuracy: 0.9748\n",
      "\n"
     ]
    },
    {
     "name": "stdout",
     "output_type": "stream",
     "text": [
      "Epoch 180, Loss 0.0176\n",
      "Training Accuracy: 0.9796, Testing Accuracy: 0.9753\n",
      "\n"
     ]
    },
    {
     "name": "stdout",
     "output_type": "stream",
     "text": [
      "Epoch 190, Loss 0.0172\n",
      "Training Accuracy: 0.9802, Testing Accuracy: 0.9768\n",
      "\n"
     ]
    },
    {
     "name": "stdout",
     "output_type": "stream",
     "text": [
      "Epoch 200, Loss 0.0168\n",
      "Training Accuracy: 0.9811, Testing Accuracy: 0.9768\n",
      "\n"
     ]
    },
    {
     "name": "stdout",
     "output_type": "stream",
     "text": [
      "Epoch 210, Loss 0.0164\n",
      "Training Accuracy: 0.9819, Testing Accuracy: 0.9768\n",
      "\n"
     ]
    },
    {
     "name": "stdout",
     "output_type": "stream",
     "text": [
      "Epoch 220, Loss 0.016\n",
      "Training Accuracy: 0.9827, Testing Accuracy: 0.9768\n",
      "\n"
     ]
    },
    {
     "name": "stdout",
     "output_type": "stream",
     "text": [
      "Epoch 230, Loss 0.0156\n",
      "Training Accuracy: 0.9835, Testing Accuracy: 0.9783\n",
      "\n"
     ]
    },
    {
     "name": "stdout",
     "output_type": "stream",
     "text": [
      "Epoch 240, Loss 0.0152\n",
      "Training Accuracy: 0.9841, Testing Accuracy: 0.9783\n",
      "\n"
     ]
    },
    {
     "data": {
      "text/plain": [
       "0.0014651121756421334"
      ]
     },
     "execution_count": 22,
     "metadata": {},
     "output_type": "execute_result"
    }
   ],
   "source": [
    "nn_learner.train_loop(dl)"
   ]
  },
  {
   "cell_type": "code",
   "execution_count": 23,
   "id": "e0163366",
   "metadata": {
    "execution": {
     "iopub.execute_input": "2022-10-15T20:12:08.083184Z",
     "iopub.status.busy": "2022-10-15T20:12:08.082533Z",
     "iopub.status.idle": "2022-10-15T20:12:22.208853Z",
     "shell.execute_reply": "2022-10-15T20:12:22.209624Z"
    },
    "papermill": {
     "duration": 14.176958,
     "end_time": "2022-10-15T20:12:22.209767",
     "exception": false,
     "start_time": "2022-10-15T20:12:08.032809",
     "status": "completed"
    },
    "tags": []
   },
   "outputs": [
    {
     "name": "stdout",
     "output_type": "stream",
     "text": [
      "Epoch 0, Loss 0.2472\n",
      "Training Accuracy: 0.6538, Testing Accuracy: 0.6694\n",
      "\n"
     ]
    },
    {
     "name": "stdout",
     "output_type": "stream",
     "text": [
      "Epoch 10, Loss 0.1029\n",
      "Training Accuracy: 0.9118, Testing Accuracy: 0.9239\n",
      "\n"
     ]
    },
    {
     "name": "stdout",
     "output_type": "stream",
     "text": [
      "Epoch 20, Loss 0.079\n",
      "Training Accuracy: 0.9265, Testing Accuracy: 0.9395\n",
      "\n"
     ]
    },
    {
     "name": "stdout",
     "output_type": "stream",
     "text": [
      "Epoch 30, Loss 0.0684\n",
      "Training Accuracy: 0.9342, Testing Accuracy: 0.9481\n",
      "\n"
     ]
    },
    {
     "name": "stdout",
     "output_type": "stream",
     "text": [
      "Epoch 40, Loss 0.0619\n",
      "Training Accuracy: 0.9402, Testing Accuracy: 0.9511\n",
      "\n"
     ]
    },
    {
     "name": "stdout",
     "output_type": "stream",
     "text": [
      "Epoch 50, Loss 0.0575\n",
      "Training Accuracy: 0.9430, Testing Accuracy: 0.9541\n",
      "\n"
     ]
    },
    {
     "name": "stdout",
     "output_type": "stream",
     "text": [
      "Epoch 60, Loss 0.0542\n",
      "Training Accuracy: 0.9458, Testing Accuracy: 0.9572\n",
      "\n"
     ]
    },
    {
     "name": "stdout",
     "output_type": "stream",
     "text": [
      "Epoch 70, Loss 0.0517\n",
      "Training Accuracy: 0.9483, Testing Accuracy: 0.9602\n",
      "\n"
     ]
    },
    {
     "name": "stdout",
     "output_type": "stream",
     "text": [
      "Epoch 80, Loss 0.0496\n",
      "Training Accuracy: 0.9502, Testing Accuracy: 0.9612\n",
      "\n"
     ]
    },
    {
     "name": "stdout",
     "output_type": "stream",
     "text": [
      "Epoch 90, Loss 0.0479\n",
      "Training Accuracy: 0.9516, Testing Accuracy: 0.9632\n",
      "\n"
     ]
    },
    {
     "name": "stdout",
     "output_type": "stream",
     "text": [
      "Epoch 100, Loss 0.0465\n",
      "Training Accuracy: 0.9525, Testing Accuracy: 0.9637\n",
      "\n"
     ]
    },
    {
     "name": "stdout",
     "output_type": "stream",
     "text": [
      "Epoch 110, Loss 0.0453\n",
      "Training Accuracy: 0.9532, Testing Accuracy: 0.9642\n",
      "\n"
     ]
    },
    {
     "name": "stdout",
     "output_type": "stream",
     "text": [
      "Epoch 120, Loss 0.0442\n",
      "Training Accuracy: 0.9538, Testing Accuracy: 0.9642\n",
      "\n"
     ]
    },
    {
     "name": "stdout",
     "output_type": "stream",
     "text": [
      "Epoch 130, Loss 0.0432\n",
      "Training Accuracy: 0.9549, Testing Accuracy: 0.9647\n",
      "\n"
     ]
    },
    {
     "name": "stdout",
     "output_type": "stream",
     "text": [
      "Epoch 140, Loss 0.0424\n",
      "Training Accuracy: 0.9558, Testing Accuracy: 0.9652\n",
      "\n"
     ]
    },
    {
     "name": "stdout",
     "output_type": "stream",
     "text": [
      "Epoch 150, Loss 0.0416\n",
      "Training Accuracy: 0.9564, Testing Accuracy: 0.9647\n",
      "\n"
     ]
    },
    {
     "name": "stdout",
     "output_type": "stream",
     "text": [
      "Epoch 160, Loss 0.0409\n",
      "Training Accuracy: 0.9569, Testing Accuracy: 0.9657\n",
      "\n"
     ]
    },
    {
     "name": "stdout",
     "output_type": "stream",
     "text": [
      "Epoch 170, Loss 0.0403\n",
      "Training Accuracy: 0.9573, Testing Accuracy: 0.9657\n",
      "\n"
     ]
    },
    {
     "name": "stdout",
     "output_type": "stream",
     "text": [
      "Epoch 180, Loss 0.0397\n",
      "Training Accuracy: 0.9583, Testing Accuracy: 0.9657\n",
      "\n"
     ]
    },
    {
     "name": "stdout",
     "output_type": "stream",
     "text": [
      "Epoch 190, Loss 0.0392\n",
      "Training Accuracy: 0.9585, Testing Accuracy: 0.9657\n",
      "\n"
     ]
    },
    {
     "name": "stdout",
     "output_type": "stream",
     "text": [
      "Epoch 200, Loss 0.0387\n",
      "Training Accuracy: 0.9588, Testing Accuracy: 0.9657\n",
      "\n"
     ]
    },
    {
     "name": "stdout",
     "output_type": "stream",
     "text": [
      "Epoch 210, Loss 0.0382\n",
      "Training Accuracy: 0.9589, Testing Accuracy: 0.9662\n",
      "\n"
     ]
    },
    {
     "name": "stdout",
     "output_type": "stream",
     "text": [
      "Epoch 220, Loss 0.0378\n",
      "Training Accuracy: 0.9595, Testing Accuracy: 0.9667\n",
      "\n"
     ]
    },
    {
     "name": "stdout",
     "output_type": "stream",
     "text": [
      "Epoch 230, Loss 0.0374\n",
      "Training Accuracy: 0.9599, Testing Accuracy: 0.9667\n",
      "\n"
     ]
    },
    {
     "name": "stdout",
     "output_type": "stream",
     "text": [
      "Epoch 240, Loss 0.037\n",
      "Training Accuracy: 0.9603, Testing Accuracy: 0.9667\n",
      "\n"
     ]
    },
    {
     "data": {
      "text/plain": [
       "0.051663083249783755"
      ]
     },
     "execution_count": 23,
     "metadata": {},
     "output_type": "execute_result"
    }
   ],
   "source": [
    "lr_learner.train_loop(dl)"
   ]
  },
  {
   "cell_type": "code",
   "execution_count": 24,
   "id": "ca410940",
   "metadata": {
    "execution": {
     "iopub.execute_input": "2022-10-15T20:12:22.304048Z",
     "iopub.status.busy": "2022-10-15T20:12:22.303344Z",
     "iopub.status.idle": "2022-10-15T20:12:22.541515Z",
     "shell.execute_reply": "2022-10-15T20:12:22.540931Z"
    },
    "papermill": {
     "duration": 0.290378,
     "end_time": "2022-10-15T20:12:22.541665",
     "exception": false,
     "start_time": "2022-10-15T20:12:22.251287",
     "status": "completed"
    },
    "tags": []
   },
   "outputs": [
    {
     "data": {
      "text/plain": [
       "<matplotlib.legend.Legend at 0x7fe720f2d320>"
      ]
     },
     "execution_count": 24,
     "metadata": {},
     "output_type": "execute_result"
    },
    {
     "data": {
      "image/png": "[encoded data removed]",
      "text/plain": [
       "<Figure size 1080x720 with 1 Axes>"
      ]
     },
     "metadata": {
      "needs_background": "light"
     },
     "output_type": "display_data"
    }
   ],
   "source": [
    "#comparing the results of NN and LR\n",
    "plt.figure(figsize=(15,10))\n",
    "\n",
    "# Neural Network plots\n",
    "plt.plot(acc_nn.accuracies, 'r-', label = \"Training Accuracies - NN\")\n",
    "plt.plot(acc_nn.test_accuracies, 'g-', label = \"Testing Accuracies - NN\")\n",
    "\n",
    "# Logistic Regression plots\n",
    "plt.plot(acc_lr.accuracies, 'k-', label = \"Training Accuracies - LR\")\n",
    "plt.plot(acc_lr.test_accuracies, 'b-', label = \"Testing Accuracies - LR\")\n",
    "plt.legend()"
   ]
  },
  {
   "cell_type": "markdown",
   "id": "80dfb35c",
   "metadata": {
    "papermill": {
     "duration": 0.040277,
     "end_time": "2022-10-15T20:12:22.622829",
     "exception": false,
     "start_time": "2022-10-15T20:12:22.582552",
     "status": "completed"
    },
    "tags": []
   },
   "source": [
    "#### Plotting the outputs of this layer of the NN.\n"
   ]
  },
  {
   "cell_type": "code",
   "execution_count": 25,
   "id": "45eb2ff5",
   "metadata": {
    "execution": {
     "iopub.execute_input": "2022-10-15T20:12:22.712001Z",
     "iopub.status.busy": "2022-10-15T20:12:22.709723Z",
     "iopub.status.idle": "2022-10-15T20:12:22.730724Z",
     "shell.execute_reply": "2022-10-15T20:12:22.730144Z"
    },
    "papermill": {
     "duration": 0.067561,
     "end_time": "2022-10-15T20:12:22.730853",
     "exception": false,
     "start_time": "2022-10-15T20:12:22.663292",
     "status": "completed"
    },
    "tags": []
   },
   "outputs": [],
   "source": [
    "new_model = Model(layers[:-2])\n",
    "testing_plot = new_model(testing_data_x)"
   ]
  },
  {
   "cell_type": "code",
   "execution_count": 26,
   "id": "4c0a5485",
   "metadata": {
    "execution": {
     "iopub.execute_input": "2022-10-15T20:12:22.829485Z",
     "iopub.status.busy": "2022-10-15T20:12:22.826818Z",
     "iopub.status.idle": "2022-10-15T20:12:23.037235Z",
     "shell.execute_reply": "2022-10-15T20:12:23.036733Z"
    },
    "papermill": {
     "duration": 0.261456,
     "end_time": "2022-10-15T20:12:23.037336",
     "exception": false,
     "start_time": "2022-10-15T20:12:22.775880",
     "status": "completed"
    },
    "tags": []
   },
   "outputs": [
    {
     "data": {
      "text/plain": [
       "Text(0.5, 1.0, 'Outputs')"
      ]
     },
     "execution_count": 26,
     "metadata": {},
     "output_type": "execute_result"
    },
    {
     "data": {
      "image/png": "[encoded data removed]",
      "text/plain": [
       "<Figure size 576x504 with 1 Axes>"
      ]
     },
     "metadata": {
      "needs_background": "light"
     },
     "output_type": "display_data"
    }
   ],
   "source": [
    "# Plotting the scatter plot of points and color coding by class\n",
    "plt.figure(figsize=(8,7))\n",
    "plt.scatter(testing_plot[:,0], testing_plot[:,1], alpha = 0.1, c = y_test.ravel());\n",
    "plt.title('Outputs')"
   ]
  },
  {
   "cell_type": "markdown",
   "id": "a74fcf8f",
   "metadata": {
    "papermill": {
     "duration": 0.040011,
     "end_time": "2022-10-15T20:12:23.120866",
     "exception": false,
     "start_time": "2022-10-15T20:12:23.080855",
     "status": "completed"
    },
    "tags": []
   },
   "source": [
    "Probability contours"
   ]
  },
  {
   "cell_type": "code",
   "execution_count": 27,
   "id": "d0afc8e3",
   "metadata": {
    "execution": {
     "iopub.execute_input": "2022-10-15T20:12:23.232901Z",
     "iopub.status.busy": "2022-10-15T20:12:23.232320Z",
     "iopub.status.idle": "2022-10-15T20:12:23.244873Z",
     "shell.execute_reply": "2022-10-15T20:12:23.245337Z"
    },
    "papermill": {
     "duration": 0.082988,
     "end_time": "2022-10-15T20:12:23.245469",
     "exception": false,
     "start_time": "2022-10-15T20:12:23.162481",
     "status": "completed"
    },
    "tags": []
   },
   "outputs": [],
   "source": [
    "model_prob = Model(layers[-2:]) "
   ]
  },
  {
   "cell_type": "code",
   "execution_count": 28,
   "id": "9b96e238",
   "metadata": {
    "execution": {
     "iopub.execute_input": "2022-10-15T20:12:23.332343Z",
     "iopub.status.busy": "2022-10-15T20:12:23.331634Z",
     "iopub.status.idle": "2022-10-15T20:12:23.346162Z",
     "shell.execute_reply": "2022-10-15T20:12:23.346600Z"
    },
    "papermill": {
     "duration": 0.058121,
     "end_time": "2022-10-15T20:12:23.346715",
     "exception": false,
     "start_time": "2022-10-15T20:12:23.288594",
     "status": "completed"
    },
    "tags": []
   },
   "outputs": [],
   "source": [
    "#creating the x and y ranges according to the above generated plot.\n",
    "x_range = np.linspace(-4, 1, 100) \n",
    "y_range = np.linspace(-6, 6, 100) \n",
    "x_grid, y_grid = np.meshgrid(x_range, y_range) # x_grid and y_grig are of size 100 X 100\n",
    "\n",
    "# converting x_grid and y_grid to continuous arrays\n",
    "x_gridflat = np.ravel(x_grid)\n",
    "y_gridflat = np.ravel(y_grid)\n",
    "\n",
    "# The last layer of the current model takes two columns as input. Hence transpose of np.vstack() is required.\n",
    "X = np.vstack((x_gridflat, y_gridflat)).T\n",
    "\n",
    "prob_contour = model_prob(X).reshape(100,100) "
   ]
  },
  {
   "cell_type": "code",
   "execution_count": 29,
   "id": "da72499a",
   "metadata": {
    "execution": {
     "iopub.execute_input": "2022-10-15T20:12:23.443538Z",
     "iopub.status.busy": "2022-10-15T20:12:23.442709Z",
     "iopub.status.idle": "2022-10-15T20:12:23.684350Z",
     "shell.execute_reply": "2022-10-15T20:12:23.683499Z"
    },
    "papermill": {
     "duration": 0.295772,
     "end_time": "2022-10-15T20:12:23.684488",
     "exception": false,
     "start_time": "2022-10-15T20:12:23.388716",
     "status": "completed"
    },
    "tags": []
   },
   "outputs": [
    {
     "data": {
      "image/png": "[encoded data removed]",
      "text/plain": [
       "<Figure size 720x648 with 1 Axes>"
      ]
     },
     "metadata": {
      "needs_background": "light"
     },
     "output_type": "display_data"
    }
   ],
   "source": [
    "plt.figure(figsize=(10,9))\n",
    "plt.scatter(testing_plot[:,0], testing_plot[:,1], alpha = 0.1, c = y_test.ravel())\n",
    "contours = plt.contour(x_grid,y_grid,prob_contour)\n",
    "plt.title('Probability Contours')\n",
    "plt.clabel(contours, inline = True );"
   ]
  },
  {
   "cell_type": "code",
   "execution_count": null,
   "id": "e81b4ac7",
   "metadata": {
    "papermill": {
     "duration": 0.050248,
     "end_time": "2022-10-15T20:12:23.782377",
     "exception": false,
     "start_time": "2022-10-15T20:12:23.732129",
     "status": "completed"
    },
    "tags": []
   },
   "outputs": [],
   "source": []
  }
 ],
 "metadata": {
  "kernelspec": {
   "display_name": "Python 3",
   "language": "python",
   "name": "python3"
  },
  "language_info": {
   "codemirror_mode": {
    "name": "ipython",
    "version": 3
   },
   "file_extension": ".py",
   "mimetype": "text/x-python",
   "name": "python",
   "nbconvert_exporter": "python",
   "pygments_lexer": "ipython3",
   "version": "3.6.15"
  },
  "papermill": {
   "default_parameters": {},
   "duration": 100.724128,
   "end_time": "2022-10-15T20:12:24.249549",
   "environment_variables": {},
   "exception": null,
   "input_path": "2020-08-11-part2.ipynb",
   "output_path": "2020-08-11-part2.ipynb",
   "parameters": {},
   "start_time": "2022-10-15T20:10:43.525421",
   "version": "2.3.3"
  }
 },
 "nbformat": 4,
 "nbformat_minor": 5
}