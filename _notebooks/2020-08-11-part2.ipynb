{
 "cells": [
  {
   "cell_type": "markdown",
   "id": "98380cd3",
   "metadata": {
    "papermill": {
     "duration": 0.029757,
     "end_time": "2022-09-23T20:10:47.187452",
     "exception": false,
     "start_time": "2022-09-23T20:10:47.157695",
     "status": "completed"
    },
    "tags": []
   },
   "source": [
    "# Distinguish Your Own Digits (DYOD)"
   ]
  },
  {
   "cell_type": "markdown",
   "id": "ef31240d",
   "metadata": {
    "papermill": {
     "duration": 0.024266,
     "end_time": "2022-09-23T20:10:47.238145",
     "exception": false,
     "start_time": "2022-09-23T20:10:47.213879",
     "status": "completed"
    },
    "tags": []
   },
   "source": [
    "You are going to write a classifier that distinguishes between the number 3 and number 8."
   ]
  },
  {
   "cell_type": "code",
   "execution_count": 1,
   "id": "b15c8646",
   "metadata": {
    "execution": {
     "iopub.execute_input": "2022-09-23T20:10:47.296139Z",
     "iopub.status.busy": "2022-09-23T20:10:47.295572Z",
     "iopub.status.idle": "2022-09-23T20:10:47.306136Z",
     "shell.execute_reply": "2022-09-23T20:10:47.305585Z"
    },
    "papermill": {
     "duration": 0.044063,
     "end_time": "2022-09-23T20:10:47.306251",
     "exception": false,
     "start_time": "2022-09-23T20:10:47.262188",
     "status": "completed"
    },
    "tags": []
   },
   "outputs": [],
   "source": [
    "%load_ext autoreload\n",
    "%autoreload 2"
   ]
  },
  {
   "cell_type": "code",
   "execution_count": 2,
   "id": "22ef38dc",
   "metadata": {
    "execution": {
     "iopub.execute_input": "2022-09-23T20:10:47.358731Z",
     "iopub.status.busy": "2022-09-23T20:10:47.358146Z",
     "iopub.status.idle": "2022-09-23T20:10:47.861227Z",
     "shell.execute_reply": "2022-09-23T20:10:47.860296Z"
    },
    "papermill": {
     "duration": 0.530854,
     "end_time": "2022-09-23T20:10:47.861348",
     "exception": false,
     "start_time": "2022-09-23T20:10:47.330494",
     "status": "completed"
    },
    "tags": []
   },
   "outputs": [],
   "source": [
    "%matplotlib inline\n",
    "import numpy as np\n",
    "import matplotlib.pyplot as plt\n",
    "import pandas as pd"
   ]
  },
  {
   "cell_type": "markdown",
   "id": "ba036198",
   "metadata": {
    "papermill": {
     "duration": 0.023764,
     "end_time": "2022-09-23T20:10:47.912423",
     "exception": false,
     "start_time": "2022-09-23T20:10:47.888659",
     "status": "completed"
    },
    "tags": []
   },
   "source": [
    "From the command line run `pip install mnist`. This is a library that will help you bring down the mnist dataset. If you run this from a notebook, you need to put  `!pip install mnist` in a cell by itself."
   ]
  },
  {
   "cell_type": "code",
   "execution_count": 3,
   "id": "bb6ad8a1",
   "metadata": {
    "execution": {
     "iopub.execute_input": "2022-09-23T20:10:47.966195Z",
     "iopub.status.busy": "2022-09-23T20:10:47.962964Z",
     "iopub.status.idle": "2022-09-23T20:10:49.503058Z",
     "shell.execute_reply": "2022-09-23T20:10:49.502271Z"
    },
    "papermill": {
     "duration": 1.566972,
     "end_time": "2022-09-23T20:10:49.503174",
     "exception": false,
     "start_time": "2022-09-23T20:10:47.936202",
     "status": "completed"
    },
    "tags": []
   },
   "outputs": [
    {
     "name": "stdout",
     "output_type": "stream",
     "text": [
      "Collecting mnist\r\n"
     ]
    },
    {
     "name": "stdout",
     "output_type": "stream",
     "text": [
      "  Downloading mnist-0.2.2-py2.py3-none-any.whl (3.5 kB)\r\n",
      "Requirement already satisfied: numpy in /opt/hostedtoolcache/Python/3.6.15/x64/lib/python3.6/site-packages (from mnist) (1.19.5)\r\n"
     ]
    },
    {
     "name": "stdout",
     "output_type": "stream",
     "text": [
      "Installing collected packages: mnist\r\n",
      "Successfully installed mnist-0.2.2\r\n"
     ]
    }
   ],
   "source": [
    "!pip install mnist"
   ]
  },
  {
   "cell_type": "markdown",
   "id": "69df9c9a",
   "metadata": {
    "papermill": {
     "duration": 0.024539,
     "end_time": "2022-09-23T20:10:49.553026",
     "exception": false,
     "start_time": "2022-09-23T20:10:49.528487",
     "status": "completed"
    },
    "tags": []
   },
   "source": [
    "## Preparing the Data"
   ]
  },
  {
   "cell_type": "code",
   "execution_count": 4,
   "id": "7f69d806",
   "metadata": {
    "execution": {
     "iopub.execute_input": "2022-09-23T20:10:49.605509Z",
     "iopub.status.busy": "2022-09-23T20:10:49.604945Z",
     "iopub.status.idle": "2022-09-23T20:10:49.618801Z",
     "shell.execute_reply": "2022-09-23T20:10:49.619322Z"
    },
    "papermill": {
     "duration": 0.041965,
     "end_time": "2022-09-23T20:10:49.619435",
     "exception": false,
     "start_time": "2022-09-23T20:10:49.577470",
     "status": "completed"
    },
    "tags": []
   },
   "outputs": [],
   "source": [
    "import mnist"
   ]
  },
  {
   "cell_type": "code",
   "execution_count": 5,
   "id": "a411e44f",
   "metadata": {
    "execution": {
     "iopub.execute_input": "2022-09-23T20:10:49.671367Z",
     "iopub.status.busy": "2022-09-23T20:10:49.670810Z",
     "iopub.status.idle": "2022-09-23T20:10:50.155247Z",
     "shell.execute_reply": "2022-09-23T20:10:50.154633Z"
    },
    "papermill": {
     "duration": 0.511453,
     "end_time": "2022-09-23T20:10:50.155358",
     "exception": false,
     "start_time": "2022-09-23T20:10:49.643905",
     "status": "completed"
    },
    "tags": []
   },
   "outputs": [],
   "source": [
    "train_images = mnist.train_images()\n",
    "train_labels = mnist.train_labels()"
   ]
  },
  {
   "cell_type": "code",
   "execution_count": 6,
   "id": "dceab3a5",
   "metadata": {
    "execution": {
     "iopub.execute_input": "2022-09-23T20:10:50.208191Z",
     "iopub.status.busy": "2022-09-23T20:10:50.207640Z",
     "iopub.status.idle": "2022-09-23T20:10:50.221611Z",
     "shell.execute_reply": "2022-09-23T20:10:50.222132Z"
    },
    "papermill": {
     "duration": 0.042,
     "end_time": "2022-09-23T20:10:50.222250",
     "exception": false,
     "start_time": "2022-09-23T20:10:50.180250",
     "status": "completed"
    },
    "tags": []
   },
   "outputs": [
    {
     "data": {
      "text/plain": [
       "((60000, 28, 28), (60000,))"
      ]
     },
     "execution_count": 6,
     "metadata": {},
     "output_type": "execute_result"
    }
   ],
   "source": [
    "train_images.shape, train_labels.shape"
   ]
  },
  {
   "cell_type": "code",
   "execution_count": 7,
   "id": "f50dc2bb",
   "metadata": {
    "execution": {
     "iopub.execute_input": "2022-09-23T20:10:50.275183Z",
     "iopub.status.busy": "2022-09-23T20:10:50.274621Z",
     "iopub.status.idle": "2022-09-23T20:10:50.390916Z",
     "shell.execute_reply": "2022-09-23T20:10:50.390288Z"
    },
    "papermill": {
     "duration": 0.143926,
     "end_time": "2022-09-23T20:10:50.391028",
     "exception": false,
     "start_time": "2022-09-23T20:10:50.247102",
     "status": "completed"
    },
    "tags": []
   },
   "outputs": [],
   "source": [
    "test_images = mnist.test_images()\n",
    "test_labels = mnist.test_labels()"
   ]
  },
  {
   "cell_type": "code",
   "execution_count": 8,
   "id": "fc38cf1b",
   "metadata": {
    "execution": {
     "iopub.execute_input": "2022-09-23T20:10:50.444260Z",
     "iopub.status.busy": "2022-09-23T20:10:50.443706Z",
     "iopub.status.idle": "2022-09-23T20:10:50.456328Z",
     "shell.execute_reply": "2022-09-23T20:10:50.456741Z"
    },
    "papermill": {
     "duration": 0.040777,
     "end_time": "2022-09-23T20:10:50.456854",
     "exception": false,
     "start_time": "2022-09-23T20:10:50.416077",
     "status": "completed"
    },
    "tags": []
   },
   "outputs": [
    {
     "data": {
      "text/plain": [
       "((10000, 28, 28), (10000,))"
      ]
     },
     "execution_count": 8,
     "metadata": {},
     "output_type": "execute_result"
    }
   ],
   "source": [
    "test_images.shape, test_labels.shape"
   ]
  },
  {
   "cell_type": "code",
   "execution_count": 9,
   "id": "f9ed8fe0",
   "metadata": {
    "execution": {
     "iopub.execute_input": "2022-09-23T20:10:50.510143Z",
     "iopub.status.busy": "2022-09-23T20:10:50.509579Z",
     "iopub.status.idle": "2022-09-23T20:10:50.642234Z",
     "shell.execute_reply": "2022-09-23T20:10:50.642689Z"
    },
    "papermill": {
     "duration": 0.160944,
     "end_time": "2022-09-23T20:10:50.642812",
     "exception": false,
     "start_time": "2022-09-23T20:10:50.481868",
     "status": "completed"
    },
    "tags": []
   },
   "outputs": [
    {
     "name": "stdout",
     "output_type": "stream",
     "text": [
      "2\n"
     ]
    },
    {
     "data": {
      "text/plain": [
       "<matplotlib.image.AxesImage at 0x7efc416aec50>"
      ]
     },
     "execution_count": 9,
     "metadata": {},
     "output_type": "execute_result"
    },
    {
     "data": {
      "image/png": "[encoded data removed]",
      "text/plain": [
       "<Figure size 432x288 with 1 Axes>"
      ]
     },
     "metadata": {
      "needs_background": "light"
     },
     "output_type": "display_data"
    }
   ],
   "source": [
    "image_index = 7776 # You may select anything up to 60,000\n",
    "print(train_labels[image_index]) \n",
    "plt.imshow(train_images[image_index], cmap='Greys')"
   ]
  },
  {
   "cell_type": "markdown",
   "id": "a8d2388d",
   "metadata": {
    "papermill": {
     "duration": 0.026459,
     "end_time": "2022-09-23T20:10:50.696398",
     "exception": false,
     "start_time": "2022-09-23T20:10:50.669939",
     "status": "completed"
    },
    "tags": []
   },
   "source": [
    "## Filter data to get 3 and 8 out"
   ]
  },
  {
   "cell_type": "code",
   "execution_count": 10,
   "id": "776f7fc7",
   "metadata": {
    "execution": {
     "iopub.execute_input": "2022-09-23T20:10:50.752555Z",
     "iopub.status.busy": "2022-09-23T20:10:50.751998Z",
     "iopub.status.idle": "2022-09-23T20:10:50.769160Z",
     "shell.execute_reply": "2022-09-23T20:10:50.769621Z"
    },
    "papermill": {
     "duration": 0.047147,
     "end_time": "2022-09-23T20:10:50.769733",
     "exception": false,
     "start_time": "2022-09-23T20:10:50.722586",
     "status": "completed"
    },
    "tags": []
   },
   "outputs": [],
   "source": [
    "train_filter = np.where((train_labels == 3 ) | (train_labels == 8))\n",
    "test_filter = np.where((test_labels == 3) | (test_labels == 8))\n",
    "X_train, y_train = train_images[train_filter], train_labels[train_filter]\n",
    "X_test, y_test = test_images[test_filter], test_labels[test_filter]"
   ]
  },
  {
   "cell_type": "markdown",
   "id": "948f0b7e",
   "metadata": {
    "papermill": {
     "duration": 0.026408,
     "end_time": "2022-09-23T20:10:50.822491",
     "exception": false,
     "start_time": "2022-09-23T20:10:50.796083",
     "status": "completed"
    },
    "tags": []
   },
   "source": [
    "We normalize the pizel values in the 0 to 1 range"
   ]
  },
  {
   "cell_type": "code",
   "execution_count": 11,
   "id": "ee4c2166",
   "metadata": {
    "execution": {
     "iopub.execute_input": "2022-09-23T20:10:50.877997Z",
     "iopub.status.busy": "2022-09-23T20:10:50.877434Z",
     "iopub.status.idle": "2022-09-23T20:10:50.917267Z",
     "shell.execute_reply": "2022-09-23T20:10:50.916785Z"
    },
    "papermill": {
     "duration": 0.068776,
     "end_time": "2022-09-23T20:10:50.917372",
     "exception": false,
     "start_time": "2022-09-23T20:10:50.848596",
     "status": "completed"
    },
    "tags": []
   },
   "outputs": [],
   "source": [
    "X_train = X_train/255.\n",
    "X_test = X_test/255."
   ]
  },
  {
   "cell_type": "markdown",
   "id": "ddcf4fab",
   "metadata": {
    "papermill": {
     "duration": 0.026531,
     "end_time": "2022-09-23T20:10:50.970548",
     "exception": false,
     "start_time": "2022-09-23T20:10:50.944017",
     "status": "completed"
    },
    "tags": []
   },
   "source": [
    "And setup the labels as 1 (when the digit is 3) and 0 (when the digit is 8)"
   ]
  },
  {
   "cell_type": "code",
   "execution_count": 12,
   "id": "7dc908f2",
   "metadata": {
    "execution": {
     "iopub.execute_input": "2022-09-23T20:10:51.026307Z",
     "iopub.status.busy": "2022-09-23T20:10:51.025748Z",
     "iopub.status.idle": "2022-09-23T20:10:51.037592Z",
     "shell.execute_reply": "2022-09-23T20:10:51.037152Z"
    },
    "papermill": {
     "duration": 0.04098,
     "end_time": "2022-09-23T20:10:51.037688",
     "exception": false,
     "start_time": "2022-09-23T20:10:50.996708",
     "status": "completed"
    },
    "tags": []
   },
   "outputs": [],
   "source": [
    "y_train = 1*(y_train==3)\n",
    "y_test = 1*(y_test==3)"
   ]
  },
  {
   "cell_type": "code",
   "execution_count": 13,
   "id": "01e4e969",
   "metadata": {
    "execution": {
     "iopub.execute_input": "2022-09-23T20:10:51.093617Z",
     "iopub.status.busy": "2022-09-23T20:10:51.093059Z",
     "iopub.status.idle": "2022-09-23T20:10:51.105921Z",
     "shell.execute_reply": "2022-09-23T20:10:51.105464Z"
    },
    "papermill": {
     "duration": 0.042032,
     "end_time": "2022-09-23T20:10:51.106020",
     "exception": false,
     "start_time": "2022-09-23T20:10:51.063988",
     "status": "completed"
    },
    "tags": []
   },
   "outputs": [
    {
     "data": {
      "text/plain": [
       "((11982, 28, 28), (1984, 28, 28))"
      ]
     },
     "execution_count": 13,
     "metadata": {},
     "output_type": "execute_result"
    }
   ],
   "source": [
    "X_train.shape, X_test.shape"
   ]
  },
  {
   "cell_type": "markdown",
   "id": "5ccf3f85",
   "metadata": {
    "papermill": {
     "duration": 0.026444,
     "end_time": "2022-09-23T20:10:51.158794",
     "exception": false,
     "start_time": "2022-09-23T20:10:51.132350",
     "status": "completed"
    },
    "tags": []
   },
   "source": [
    "We reshape the data to flatten the image pixels into a set of features or co-variates:"
   ]
  },
  {
   "cell_type": "code",
   "execution_count": 14,
   "id": "5286a4a3",
   "metadata": {
    "execution": {
     "iopub.execute_input": "2022-09-23T20:10:51.215661Z",
     "iopub.status.busy": "2022-09-23T20:10:51.215094Z",
     "iopub.status.idle": "2022-09-23T20:10:51.227735Z",
     "shell.execute_reply": "2022-09-23T20:10:51.228189Z"
    },
    "papermill": {
     "duration": 0.042938,
     "end_time": "2022-09-23T20:10:51.228306",
     "exception": false,
     "start_time": "2022-09-23T20:10:51.185368",
     "status": "completed"
    },
    "tags": []
   },
   "outputs": [
    {
     "data": {
      "text/plain": [
       "((11982, 784), (1984, 784))"
      ]
     },
     "execution_count": 14,
     "metadata": {},
     "output_type": "execute_result"
    }
   ],
   "source": [
    "X_train = X_train.reshape(X_train.shape[0], -1)\n",
    "X_test = X_test.reshape(X_test.shape[0], -1)\n",
    "X_train.shape, X_test.shape"
   ]
  },
  {
   "cell_type": "code",
   "execution_count": 15,
   "id": "73c5f88a",
   "metadata": {
    "execution": {
     "iopub.execute_input": "2022-09-23T20:10:51.338965Z",
     "iopub.status.busy": "2022-09-23T20:10:51.338365Z",
     "iopub.status.idle": "2022-09-23T20:10:51.356543Z",
     "shell.execute_reply": "2022-09-23T20:10:51.356095Z"
    },
    "papermill": {
     "duration": 0.101339,
     "end_time": "2022-09-23T20:10:51.356641",
     "exception": false,
     "start_time": "2022-09-23T20:10:51.255302",
     "status": "completed"
    },
    "tags": []
   },
   "outputs": [],
   "source": [
    "#Impoting functions from 'Kudzu'\n",
    "from kudzu.model import Model\n",
    "from kudzu.train import Learner\n",
    "from kudzu.optim import GD\n",
    "from kudzu.data import Data, Sampler,Dataloader\n",
    "\n",
    "from kudzu.callbacks import AccCallback\n",
    "from kudzu.callbacks import ClfCallback\n",
    "\n",
    "from kudzu.loss import MSE\n",
    "\n",
    "from kudzu.layer import Sigmoid,Relu\n",
    "from kudzu.layer import Affine"
   ]
  },
  {
   "cell_type": "markdown",
   "id": "bc01172a",
   "metadata": {
    "papermill": {
     "duration": 0.02704,
     "end_time": "2022-09-23T20:10:51.410644",
     "exception": false,
     "start_time": "2022-09-23T20:10:51.383604",
     "status": "completed"
    },
    "tags": []
   },
   "source": [
    "### Let us create a `Config` class, to store important parameters. \n",
    "This class essentially plays the role of a dictionary."
   ]
  },
  {
   "cell_type": "code",
   "execution_count": 16,
   "id": "978281aa",
   "metadata": {
    "execution": {
     "iopub.execute_input": "2022-09-23T20:10:51.468130Z",
     "iopub.status.busy": "2022-09-23T20:10:51.467559Z",
     "iopub.status.idle": "2022-09-23T20:10:51.478976Z",
     "shell.execute_reply": "2022-09-23T20:10:51.479485Z"
    },
    "papermill": {
     "duration": 0.042149,
     "end_time": "2022-09-23T20:10:51.479595",
     "exception": false,
     "start_time": "2022-09-23T20:10:51.437446",
     "status": "completed"
    },
    "tags": []
   },
   "outputs": [],
   "source": [
    "class Config:\n",
    "    pass\n",
    "config = Config()\n",
    "config.lr = 0.001\n",
    "config.num_epochs = 250\n",
    "config.bs = 50"
   ]
  },
  {
   "cell_type": "markdown",
   "id": "1385fa59",
   "metadata": {
    "papermill": {
     "duration": 0.027114,
     "end_time": "2022-09-23T20:10:51.533712",
     "exception": false,
     "start_time": "2022-09-23T20:10:51.506598",
     "status": "completed"
    },
    "tags": []
   },
   "source": [
    "### Running Models with the Training data\n",
    "Details about the network layers:\n",
    "- A first affine layer has 784 inputs and does 100 affine transforms. These are followed by a Relu\n",
    "- A second affine layer has 100 inputs from the 100 activations of the past layer, and does 100 affine transforms. These are followed by a Relu\n",
    "- A third affine layer has 100 activations and does 2 affine transformations to create an embedding for visualization. There is no non-linearity here.\n",
    "- A final \"logistic regression\" which has an affine transform from 2 inputs to 1 output, which is squeezed through a sigmoid.\n"
   ]
  },
  {
   "cell_type": "code",
   "execution_count": 17,
   "id": "2b9c66db",
   "metadata": {
    "execution": {
     "iopub.execute_input": "2022-09-23T20:10:51.591317Z",
     "iopub.status.busy": "2022-09-23T20:10:51.590748Z",
     "iopub.status.idle": "2022-09-23T20:10:51.602861Z",
     "shell.execute_reply": "2022-09-23T20:10:51.602304Z"
    },
    "papermill": {
     "duration": 0.042463,
     "end_time": "2022-09-23T20:10:51.602962",
     "exception": false,
     "start_time": "2022-09-23T20:10:51.560499",
     "status": "completed"
    },
    "tags": []
   },
   "outputs": [],
   "source": [
    "data = Data(X_train, y_train.reshape(-1,1))\n",
    "sampler = Sampler(data, config.bs, shuffle=True)\n",
    "\n",
    "dl = Dataloader(data, sampler)\n",
    "\n",
    "opt = GD(config.lr)\n",
    "loss = MSE()"
   ]
  },
  {
   "cell_type": "code",
   "execution_count": 18,
   "id": "b275e4c2",
   "metadata": {
    "execution": {
     "iopub.execute_input": "2022-09-23T20:10:51.660379Z",
     "iopub.status.busy": "2022-09-23T20:10:51.659810Z",
     "iopub.status.idle": "2022-09-23T20:10:51.671796Z",
     "shell.execute_reply": "2022-09-23T20:10:51.672203Z"
    },
    "papermill": {
     "duration": 0.042382,
     "end_time": "2022-09-23T20:10:51.672316",
     "exception": false,
     "start_time": "2022-09-23T20:10:51.629934",
     "status": "completed"
    },
    "tags": []
   },
   "outputs": [],
   "source": [
    "training_data_x = X_train\n",
    "testing_data_x = X_test\n",
    "training_data_y = y_train.reshape(-1,1)\n",
    "testing_data_y = y_test.reshape(-1,1)"
   ]
  },
  {
   "cell_type": "code",
   "execution_count": 19,
   "id": "76951160",
   "metadata": {
    "execution": {
     "iopub.execute_input": "2022-09-23T20:10:51.729612Z",
     "iopub.status.busy": "2022-09-23T20:10:51.729057Z",
     "iopub.status.idle": "2022-09-23T20:10:51.745045Z",
     "shell.execute_reply": "2022-09-23T20:10:51.744498Z"
    },
    "papermill": {
     "duration": 0.046034,
     "end_time": "2022-09-23T20:10:51.745139",
     "exception": false,
     "start_time": "2022-09-23T20:10:51.699105",
     "status": "completed"
    },
    "tags": []
   },
   "outputs": [
    {
     "name": "stdout",
     "output_type": "stream",
     "text": [
      "xavier\n",
      "xavier\n",
      "xavier\n",
      "xavier\n",
      "xavier\n"
     ]
    }
   ],
   "source": [
    "layers = [Affine(\"first\", 784, 100), Relu(\"first\"), Affine(\"second\", 100, 100), Relu(\"second\"), Affine(\"third\", 100, 2), Affine(\"last\", 2, 1), Sigmoid(\"last\")]\n",
    "model_nn = Model(layers)\n",
    "model_lr = Model([Affine(\"logits\", 784, 1), Sigmoid(\"sigmoid\")])"
   ]
  },
  {
   "cell_type": "code",
   "execution_count": 20,
   "id": "6eede77a",
   "metadata": {
    "execution": {
     "iopub.execute_input": "2022-09-23T20:10:51.803129Z",
     "iopub.status.busy": "2022-09-23T20:10:51.802562Z",
     "iopub.status.idle": "2022-09-23T20:10:51.813783Z",
     "shell.execute_reply": "2022-09-23T20:10:51.813324Z"
    },
    "papermill": {
     "duration": 0.0414,
     "end_time": "2022-09-23T20:10:51.813877",
     "exception": false,
     "start_time": "2022-09-23T20:10:51.772477",
     "status": "completed"
    },
    "tags": []
   },
   "outputs": [],
   "source": [
    "nn_learner = Learner(loss, model_nn, opt, config.num_epochs)\n",
    "acc_nn = ClfCallback(nn_learner, config.bs, training_data_x , testing_data_x, training_data_y, testing_data_y)\n",
    "nn_learner.set_callbacks([acc_nn])"
   ]
  },
  {
   "cell_type": "code",
   "execution_count": 21,
   "id": "877b6cc7",
   "metadata": {
    "execution": {
     "iopub.execute_input": "2022-09-23T20:10:51.871357Z",
     "iopub.status.busy": "2022-09-23T20:10:51.870793Z",
     "iopub.status.idle": "2022-09-23T20:10:51.881616Z",
     "shell.execute_reply": "2022-09-23T20:10:51.882031Z"
    },
    "papermill": {
     "duration": 0.041157,
     "end_time": "2022-09-23T20:10:51.882137",
     "exception": false,
     "start_time": "2022-09-23T20:10:51.840980",
     "status": "completed"
    },
    "tags": []
   },
   "outputs": [],
   "source": [
    "lr_learner = Learner(loss, model_lr, opt, config.num_epochs)\n",
    "acc_lr = ClfCallback(lr_learner, config.bs, training_data_x , testing_data_x, training_data_y, testing_data_y)\n",
    "lr_learner.set_callbacks([acc_lr])"
   ]
  },
  {
   "cell_type": "code",
   "execution_count": 22,
   "id": "d9b133c3",
   "metadata": {
    "execution": {
     "iopub.execute_input": "2022-09-23T20:10:51.943136Z",
     "iopub.status.busy": "2022-09-23T20:10:51.940803Z",
     "iopub.status.idle": "2022-09-23T20:13:49.184356Z",
     "shell.execute_reply": "2022-09-23T20:13:49.184801Z"
    },
    "papermill": {
     "duration": 177.275512,
     "end_time": "2022-09-23T20:13:49.184927",
     "exception": false,
     "start_time": "2022-09-23T20:10:51.909415",
     "status": "completed"
    },
    "tags": []
   },
   "outputs": [
    {
     "name": "stdout",
     "output_type": "stream",
     "text": [
      "Epoch 0, Loss 0.2429\n",
      "Training Accuracy: 0.6649, Testing Accuracy: 0.6542\n",
      "\n"
     ]
    },
    {
     "name": "stdout",
     "output_type": "stream",
     "text": [
      "Epoch 10, Loss 0.0835\n",
      "Training Accuracy: 0.9204, Testing Accuracy: 0.9194\n",
      "\n"
     ]
    },
    {
     "name": "stdout",
     "output_type": "stream",
     "text": [
      "Epoch 20, Loss 0.0525\n",
      "Training Accuracy: 0.9463, Testing Accuracy: 0.9551\n",
      "\n"
     ]
    },
    {
     "name": "stdout",
     "output_type": "stream",
     "text": [
      "Epoch 30, Loss 0.042\n",
      "Training Accuracy: 0.9548, Testing Accuracy: 0.9622\n",
      "\n"
     ]
    },
    {
     "name": "stdout",
     "output_type": "stream",
     "text": [
      "Epoch 40, Loss 0.0368\n",
      "Training Accuracy: 0.9598, Testing Accuracy: 0.9647\n",
      "\n"
     ]
    },
    {
     "name": "stdout",
     "output_type": "stream",
     "text": [
      "Epoch 50, Loss 0.0335\n",
      "Training Accuracy: 0.9629, Testing Accuracy: 0.9667\n",
      "\n"
     ]
    },
    {
     "name": "stdout",
     "output_type": "stream",
     "text": [
      "Epoch 60, Loss 0.0312\n",
      "Training Accuracy: 0.9654, Testing Accuracy: 0.9688\n",
      "\n"
     ]
    },
    {
     "name": "stdout",
     "output_type": "stream",
     "text": [
      "Epoch 70, Loss 0.0294\n",
      "Training Accuracy: 0.9674, Testing Accuracy: 0.9682\n",
      "\n"
     ]
    },
    {
     "name": "stdout",
     "output_type": "stream",
     "text": [
      "Epoch 80, Loss 0.028\n",
      "Training Accuracy: 0.9688, Testing Accuracy: 0.9693\n",
      "\n"
     ]
    },
    {
     "name": "stdout",
     "output_type": "stream",
     "text": [
      "Epoch 90, Loss 0.0269\n",
      "Training Accuracy: 0.9696, Testing Accuracy: 0.9688\n",
      "\n"
     ]
    },
    {
     "name": "stdout",
     "output_type": "stream",
     "text": [
      "Epoch 100, Loss 0.0259\n",
      "Training Accuracy: 0.9707, Testing Accuracy: 0.9688\n",
      "\n"
     ]
    },
    {
     "name": "stdout",
     "output_type": "stream",
     "text": [
      "Epoch 110, Loss 0.0251\n",
      "Training Accuracy: 0.9715, Testing Accuracy: 0.9698\n",
      "\n"
     ]
    },
    {
     "name": "stdout",
     "output_type": "stream",
     "text": [
      "Epoch 120, Loss 0.0243\n",
      "Training Accuracy: 0.9725, Testing Accuracy: 0.9698\n",
      "\n"
     ]
    },
    {
     "name": "stdout",
     "output_type": "stream",
     "text": [
      "Epoch 130, Loss 0.0236\n",
      "Training Accuracy: 0.9735, Testing Accuracy: 0.9713\n",
      "\n"
     ]
    },
    {
     "name": "stdout",
     "output_type": "stream",
     "text": [
      "Epoch 140, Loss 0.023\n",
      "Training Accuracy: 0.9739, Testing Accuracy: 0.9708\n",
      "\n"
     ]
    },
    {
     "name": "stdout",
     "output_type": "stream",
     "text": [
      "Epoch 150, Loss 0.0224\n",
      "Training Accuracy: 0.9747, Testing Accuracy: 0.9713\n",
      "\n"
     ]
    },
    {
     "name": "stdout",
     "output_type": "stream",
     "text": [
      "Epoch 160, Loss 0.0218\n",
      "Training Accuracy: 0.9754, Testing Accuracy: 0.9713\n",
      "\n"
     ]
    },
    {
     "name": "stdout",
     "output_type": "stream",
     "text": [
      "Epoch 170, Loss 0.0213\n",
      "Training Accuracy: 0.9757, Testing Accuracy: 0.9713\n",
      "\n"
     ]
    },
    {
     "name": "stdout",
     "output_type": "stream",
     "text": [
      "Epoch 180, Loss 0.0208\n",
      "Training Accuracy: 0.9765, Testing Accuracy: 0.9718\n",
      "\n"
     ]
    },
    {
     "name": "stdout",
     "output_type": "stream",
     "text": [
      "Epoch 190, Loss 0.0203\n",
      "Training Accuracy: 0.9776, Testing Accuracy: 0.9723\n",
      "\n"
     ]
    },
    {
     "name": "stdout",
     "output_type": "stream",
     "text": [
      "Epoch 200, Loss 0.0199\n",
      "Training Accuracy: 0.9781, Testing Accuracy: 0.9733\n",
      "\n"
     ]
    },
    {
     "name": "stdout",
     "output_type": "stream",
     "text": [
      "Epoch 210, Loss 0.0195\n",
      "Training Accuracy: 0.9788, Testing Accuracy: 0.9728\n",
      "\n"
     ]
    },
    {
     "name": "stdout",
     "output_type": "stream",
     "text": [
      "Epoch 220, Loss 0.0191\n",
      "Training Accuracy: 0.9791, Testing Accuracy: 0.9728\n",
      "\n"
     ]
    },
    {
     "name": "stdout",
     "output_type": "stream",
     "text": [
      "Epoch 230, Loss 0.0187\n",
      "Training Accuracy: 0.9793, Testing Accuracy: 0.9738\n",
      "\n"
     ]
    },
    {
     "name": "stdout",
     "output_type": "stream",
     "text": [
      "Epoch 240, Loss 0.0183\n",
      "Training Accuracy: 0.9801, Testing Accuracy: 0.9738\n",
      "\n"
     ]
    },
    {
     "data": {
      "text/plain": [
       "0.001175649076061653"
      ]
     },
     "execution_count": 22,
     "metadata": {},
     "output_type": "execute_result"
    }
   ],
   "source": [
    "nn_learner.train_loop(dl)"
   ]
  },
  {
   "cell_type": "code",
   "execution_count": 23,
   "id": "e0163366",
   "metadata": {
    "execution": {
     "iopub.execute_input": "2022-09-23T20:13:49.258936Z",
     "iopub.status.busy": "2022-09-23T20:13:49.257497Z",
     "iopub.status.idle": "2022-09-23T20:14:01.535648Z",
     "shell.execute_reply": "2022-09-23T20:14:01.536415Z"
    },
    "papermill": {
     "duration": 12.31709,
     "end_time": "2022-09-23T20:14:01.536546",
     "exception": false,
     "start_time": "2022-09-23T20:13:49.219456",
     "status": "completed"
    },
    "tags": []
   },
   "outputs": [
    {
     "name": "stdout",
     "output_type": "stream",
     "text": [
      "Epoch 0, Loss 0.2905\n",
      "Training Accuracy: 0.5295, Testing Accuracy: 0.5292\n",
      "\n"
     ]
    },
    {
     "name": "stdout",
     "output_type": "stream",
     "text": [
      "Epoch 10, Loss 0.1103\n",
      "Training Accuracy: 0.8964, Testing Accuracy: 0.9032\n",
      "\n"
     ]
    },
    {
     "name": "stdout",
     "output_type": "stream",
     "text": [
      "Epoch 20, Loss 0.0827\n",
      "Training Accuracy: 0.9225, Testing Accuracy: 0.9309\n",
      "\n"
     ]
    },
    {
     "name": "stdout",
     "output_type": "stream",
     "text": [
      "Epoch 30, Loss 0.0704\n",
      "Training Accuracy: 0.9310, Testing Accuracy: 0.9446\n",
      "\n"
     ]
    },
    {
     "name": "stdout",
     "output_type": "stream",
     "text": [
      "Epoch 40, Loss 0.0631\n",
      "Training Accuracy: 0.9373, Testing Accuracy: 0.9506\n",
      "\n"
     ]
    },
    {
     "name": "stdout",
     "output_type": "stream",
     "text": [
      "Epoch 50, Loss 0.0583\n",
      "Training Accuracy: 0.9417, Testing Accuracy: 0.9546\n",
      "\n"
     ]
    },
    {
     "name": "stdout",
     "output_type": "stream",
     "text": [
      "Epoch 60, Loss 0.0547\n",
      "Training Accuracy: 0.9448, Testing Accuracy: 0.9546\n",
      "\n"
     ]
    },
    {
     "name": "stdout",
     "output_type": "stream",
     "text": [
      "Epoch 70, Loss 0.052\n",
      "Training Accuracy: 0.9470, Testing Accuracy: 0.9577\n",
      "\n"
     ]
    },
    {
     "name": "stdout",
     "output_type": "stream",
     "text": [
      "Epoch 80, Loss 0.0498\n",
      "Training Accuracy: 0.9486, Testing Accuracy: 0.9587\n",
      "\n"
     ]
    },
    {
     "name": "stdout",
     "output_type": "stream",
     "text": [
      "Epoch 90, Loss 0.048\n",
      "Training Accuracy: 0.9503, Testing Accuracy: 0.9602\n",
      "\n"
     ]
    },
    {
     "name": "stdout",
     "output_type": "stream",
     "text": [
      "Epoch 100, Loss 0.0465\n",
      "Training Accuracy: 0.9518, Testing Accuracy: 0.9617\n",
      "\n"
     ]
    },
    {
     "name": "stdout",
     "output_type": "stream",
     "text": [
      "Epoch 110, Loss 0.0452\n",
      "Training Accuracy: 0.9533, Testing Accuracy: 0.9632\n",
      "\n"
     ]
    },
    {
     "name": "stdout",
     "output_type": "stream",
     "text": [
      "Epoch 120, Loss 0.0441\n",
      "Training Accuracy: 0.9546, Testing Accuracy: 0.9637\n",
      "\n"
     ]
    },
    {
     "name": "stdout",
     "output_type": "stream",
     "text": [
      "Epoch 130, Loss 0.0432\n",
      "Training Accuracy: 0.9550, Testing Accuracy: 0.9642\n",
      "\n"
     ]
    },
    {
     "name": "stdout",
     "output_type": "stream",
     "text": [
      "Epoch 140, Loss 0.0423\n",
      "Training Accuracy: 0.9553, Testing Accuracy: 0.9652\n",
      "\n"
     ]
    },
    {
     "name": "stdout",
     "output_type": "stream",
     "text": [
      "Epoch 150, Loss 0.0415\n",
      "Training Accuracy: 0.9559, Testing Accuracy: 0.9652\n",
      "\n"
     ]
    },
    {
     "name": "stdout",
     "output_type": "stream",
     "text": [
      "Epoch 160, Loss 0.0408\n",
      "Training Accuracy: 0.9566, Testing Accuracy: 0.9652\n",
      "\n"
     ]
    },
    {
     "name": "stdout",
     "output_type": "stream",
     "text": [
      "Epoch 170, Loss 0.0402\n",
      "Training Accuracy: 0.9572, Testing Accuracy: 0.9652\n",
      "\n"
     ]
    },
    {
     "name": "stdout",
     "output_type": "stream",
     "text": [
      "Epoch 180, Loss 0.0396\n",
      "Training Accuracy: 0.9581, Testing Accuracy: 0.9662\n",
      "\n"
     ]
    },
    {
     "name": "stdout",
     "output_type": "stream",
     "text": [
      "Epoch 190, Loss 0.0391\n",
      "Training Accuracy: 0.9587, Testing Accuracy: 0.9667\n",
      "\n"
     ]
    },
    {
     "name": "stdout",
     "output_type": "stream",
     "text": [
      "Epoch 200, Loss 0.0386\n",
      "Training Accuracy: 0.9592, Testing Accuracy: 0.9672\n",
      "\n"
     ]
    },
    {
     "name": "stdout",
     "output_type": "stream",
     "text": [
      "Epoch 210, Loss 0.0381\n",
      "Training Accuracy: 0.9597, Testing Accuracy: 0.9672\n",
      "\n"
     ]
    },
    {
     "name": "stdout",
     "output_type": "stream",
     "text": [
      "Epoch 220, Loss 0.0377\n",
      "Training Accuracy: 0.9601, Testing Accuracy: 0.9662\n",
      "\n"
     ]
    },
    {
     "name": "stdout",
     "output_type": "stream",
     "text": [
      "Epoch 230, Loss 0.0373\n",
      "Training Accuracy: 0.9601, Testing Accuracy: 0.9662\n",
      "\n"
     ]
    },
    {
     "name": "stdout",
     "output_type": "stream",
     "text": [
      "Epoch 240, Loss 0.037\n",
      "Training Accuracy: 0.9603, Testing Accuracy: 0.9662\n",
      "\n"
     ]
    },
    {
     "data": {
      "text/plain": [
       "0.03168691321011961"
      ]
     },
     "execution_count": 23,
     "metadata": {},
     "output_type": "execute_result"
    }
   ],
   "source": [
    "lr_learner.train_loop(dl)"
   ]
  },
  {
   "cell_type": "code",
   "execution_count": 24,
   "id": "ca410940",
   "metadata": {
    "execution": {
     "iopub.execute_input": "2022-09-23T20:14:01.629511Z",
     "iopub.status.busy": "2022-09-23T20:14:01.628715Z",
     "iopub.status.idle": "2022-09-23T20:14:01.847808Z",
     "shell.execute_reply": "2022-09-23T20:14:01.848239Z"
    },
    "papermill": {
     "duration": 0.270067,
     "end_time": "2022-09-23T20:14:01.848367",
     "exception": false,
     "start_time": "2022-09-23T20:14:01.578300",
     "status": "completed"
    },
    "tags": []
   },
   "outputs": [
    {
     "data": {
      "text/plain": [
       "<matplotlib.legend.Legend at 0x7efc4121c320>"
      ]
     },
     "execution_count": 24,
     "metadata": {},
     "output_type": "execute_result"
    },
    {
     "data": {
      "image/png": "[encoded data removed]",
      "text/plain": [
       "<Figure size 1080x720 with 1 Axes>"
      ]
     },
     "metadata": {
      "needs_background": "light"
     },
     "output_type": "display_data"
    }
   ],
   "source": [
    "#comparing the results of NN and LR\n",
    "plt.figure(figsize=(15,10))\n",
    "\n",
    "# Neural Network plots\n",
    "plt.plot(acc_nn.accuracies, 'r-', label = \"Training Accuracies - NN\")\n",
    "plt.plot(acc_nn.test_accuracies, 'g-', label = \"Testing Accuracies - NN\")\n",
    "\n",
    "# Logistic Regression plots\n",
    "plt.plot(acc_lr.accuracies, 'k-', label = \"Training Accuracies - LR\")\n",
    "plt.plot(acc_lr.test_accuracies, 'b-', label = \"Testing Accuracies - LR\")\n",
    "plt.legend()"
   ]
  },
  {
   "cell_type": "markdown",
   "id": "80dfb35c",
   "metadata": {
    "papermill": {
     "duration": 0.041468,
     "end_time": "2022-09-23T20:14:01.931555",
     "exception": false,
     "start_time": "2022-09-23T20:14:01.890087",
     "status": "completed"
    },
    "tags": []
   },
   "source": [
    "#### Plotting the outputs of this layer of the NN.\n"
   ]
  },
  {
   "cell_type": "code",
   "execution_count": 25,
   "id": "45eb2ff5",
   "metadata": {
    "execution": {
     "iopub.execute_input": "2022-09-23T20:14:02.018011Z",
     "iopub.status.busy": "2022-09-23T20:14:02.017453Z",
     "iopub.status.idle": "2022-09-23T20:14:02.054228Z",
     "shell.execute_reply": "2022-09-23T20:14:02.055024Z"
    },
    "papermill": {
     "duration": 0.082097,
     "end_time": "2022-09-23T20:14:02.055159",
     "exception": false,
     "start_time": "2022-09-23T20:14:01.973062",
     "status": "completed"
    },
    "tags": []
   },
   "outputs": [],
   "source": [
    "new_model = Model(layers[:-2])\n",
    "testing_plot = new_model(testing_data_x)"
   ]
  },
  {
   "cell_type": "code",
   "execution_count": 26,
   "id": "4c0a5485",
   "metadata": {
    "execution": {
     "iopub.execute_input": "2022-09-23T20:14:02.148870Z",
     "iopub.status.busy": "2022-09-23T20:14:02.148309Z",
     "iopub.status.idle": "2022-09-23T20:14:02.361145Z",
     "shell.execute_reply": "2022-09-23T20:14:02.360665Z"
    },
    "papermill": {
     "duration": 0.263372,
     "end_time": "2022-09-23T20:14:02.361254",
     "exception": false,
     "start_time": "2022-09-23T20:14:02.097882",
     "status": "completed"
    },
    "tags": []
   },
   "outputs": [
    {
     "data": {
      "text/plain": [
       "Text(0.5, 1.0, 'Outputs')"
      ]
     },
     "execution_count": 26,
     "metadata": {},
     "output_type": "execute_result"
    },
    {
     "data": {
      "image/png": "[encoded data removed]",
      "text/plain": [
       "<Figure size 576x504 with 1 Axes>"
      ]
     },
     "metadata": {
      "needs_background": "light"
     },
     "output_type": "display_data"
    }
   ],
   "source": [
    "# Plotting the scatter plot of points and color coding by class\n",
    "plt.figure(figsize=(8,7))\n",
    "plt.scatter(testing_plot[:,0], testing_plot[:,1], alpha = 0.1, c = y_test.ravel());\n",
    "plt.title('Outputs')"
   ]
  },
  {
   "cell_type": "markdown",
   "id": "a74fcf8f",
   "metadata": {
    "papermill": {
     "duration": 0.044622,
     "end_time": "2022-09-23T20:14:02.450899",
     "exception": false,
     "start_time": "2022-09-23T20:14:02.406277",
     "status": "completed"
    },
    "tags": []
   },
   "source": [
    "Probability contours"
   ]
  },
  {
   "cell_type": "code",
   "execution_count": 27,
   "id": "d0afc8e3",
   "metadata": {
    "execution": {
     "iopub.execute_input": "2022-09-23T20:14:02.571623Z",
     "iopub.status.busy": "2022-09-23T20:14:02.571064Z",
     "iopub.status.idle": "2022-09-23T20:14:02.578530Z",
     "shell.execute_reply": "2022-09-23T20:14:02.577728Z"
    },
    "papermill": {
     "duration": 0.082968,
     "end_time": "2022-09-23T20:14:02.578638",
     "exception": false,
     "start_time": "2022-09-23T20:14:02.495670",
     "status": "completed"
    },
    "tags": []
   },
   "outputs": [],
   "source": [
    "model_prob = Model(layers[-2:]) "
   ]
  },
  {
   "cell_type": "code",
   "execution_count": 28,
   "id": "9b96e238",
   "metadata": {
    "execution": {
     "iopub.execute_input": "2022-09-23T20:14:02.673065Z",
     "iopub.status.busy": "2022-09-23T20:14:02.672493Z",
     "iopub.status.idle": "2022-09-23T20:14:02.684937Z",
     "shell.execute_reply": "2022-09-23T20:14:02.685380Z"
    },
    "papermill": {
     "duration": 0.061589,
     "end_time": "2022-09-23T20:14:02.685498",
     "exception": false,
     "start_time": "2022-09-23T20:14:02.623909",
     "status": "completed"
    },
    "tags": []
   },
   "outputs": [],
   "source": [
    "#creating the x and y ranges according to the above generated plot.\n",
    "x_range = np.linspace(-4, 1, 100) \n",
    "y_range = np.linspace(-6, 6, 100) \n",
    "x_grid, y_grid = np.meshgrid(x_range, y_range) # x_grid and y_grig are of size 100 X 100\n",
    "\n",
    "# converting x_grid and y_grid to continuous arrays\n",
    "x_gridflat = np.ravel(x_grid)\n",
    "y_gridflat = np.ravel(y_grid)\n",
    "\n",
    "# The last layer of the current model takes two columns as input. Hence transpose of np.vstack() is required.\n",
    "X = np.vstack((x_gridflat, y_gridflat)).T\n",
    "\n",
    "prob_contour = model_prob(X).reshape(100,100) "
   ]
  },
  {
   "cell_type": "code",
   "execution_count": 29,
   "id": "da72499a",
   "metadata": {
    "execution": {
     "iopub.execute_input": "2022-09-23T20:14:02.780077Z",
     "iopub.status.busy": "2022-09-23T20:14:02.778958Z",
     "iopub.status.idle": "2022-09-23T20:14:03.023424Z",
     "shell.execute_reply": "2022-09-23T20:14:03.022678Z"
    },
    "papermill": {
     "duration": 0.292924,
     "end_time": "2022-09-23T20:14:03.023533",
     "exception": false,
     "start_time": "2022-09-23T20:14:02.730609",
     "status": "completed"
    },
    "tags": []
   },
   "outputs": [
    {
     "data": {
      "image/png": "[encoded data removed]",
      "text/plain": [
       "<Figure size 720x648 with 1 Axes>"
      ]
     },
     "metadata": {
      "needs_background": "light"
     },
     "output_type": "display_data"
    }
   ],
   "source": [
    "plt.figure(figsize=(10,9))\n",
    "plt.scatter(testing_plot[:,0], testing_plot[:,1], alpha = 0.1, c = y_test.ravel())\n",
    "contours = plt.contour(x_grid,y_grid,prob_contour)\n",
    "plt.title('Probability Contours')\n",
    "plt.clabel(contours, inline = True );"
   ]
  },
  {
   "cell_type": "code",
   "execution_count": null,
   "id": "e81b4ac7",
   "metadata": {
    "papermill": {
     "duration": 0.046736,
     "end_time": "2022-09-23T20:14:03.117583",
     "exception": false,
     "start_time": "2022-09-23T20:14:03.070847",
     "status": "completed"
    },
    "tags": []
   },
   "outputs": [],
   "source": []
  }
 ],
 "metadata": {
  "kernelspec": {
   "display_name": "Python 3",
   "language": "python",
   "name": "python3"
  },
  "language_info": {
   "codemirror_mode": {
    "name": "ipython",
    "version": 3
   },
   "file_extension": ".py",
   "mimetype": "text/x-python",
   "name": "python",
   "nbconvert_exporter": "python",
   "pygments_lexer": "ipython3",
   "version": "3.6.15"
  },
  "papermill": {
   "default_parameters": {},
   "duration": 197.251227,
   "end_time": "2022-09-23T20:14:03.483958",
   "environment_variables": {},
   "exception": null,
   "input_path": "2020-08-11-part2.ipynb",
   "output_path": "2020-08-11-part2.ipynb",
   "parameters": {},
   "start_time": "2022-09-23T20:10:46.232731",
   "version": "2.3.3"
  }
 },
 "nbformat": 4,
 "nbformat_minor": 5
}