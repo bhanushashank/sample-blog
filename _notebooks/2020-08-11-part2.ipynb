{
 "cells": [
  {
   "cell_type": "markdown",
   "id": "98380cd3",
   "metadata": {
    "papermill": {
     "duration": 0.029749,
     "end_time": "2022-09-23T00:52:36.156030",
     "exception": false,
     "start_time": "2022-09-23T00:52:36.126281",
     "status": "completed"
    },
    "tags": []
   },
   "source": [
    "# Distinguish Your Own Digits (DYOD)"
   ]
  },
  {
   "cell_type": "markdown",
   "id": "ef31240d",
   "metadata": {
    "papermill": {
     "duration": 0.023842,
     "end_time": "2022-09-23T00:52:36.205042",
     "exception": false,
     "start_time": "2022-09-23T00:52:36.181200",
     "status": "completed"
    },
    "tags": []
   },
   "source": [
    "You are going to write a classifier that distinguishes between the number 3 and number 8."
   ]
  },
  {
   "cell_type": "code",
   "execution_count": 1,
   "id": "b15c8646",
   "metadata": {
    "execution": {
     "iopub.execute_input": "2022-09-23T00:52:36.262949Z",
     "iopub.status.busy": "2022-09-23T00:52:36.262269Z",
     "iopub.status.idle": "2022-09-23T00:52:36.273278Z",
     "shell.execute_reply": "2022-09-23T00:52:36.272772Z"
    },
    "papermill": {
     "duration": 0.044645,
     "end_time": "2022-09-23T00:52:36.273409",
     "exception": false,
     "start_time": "2022-09-23T00:52:36.228764",
     "status": "completed"
    },
    "tags": []
   },
   "outputs": [],
   "source": [
    "%load_ext autoreload\n",
    "%autoreload 2"
   ]
  },
  {
   "cell_type": "code",
   "execution_count": 2,
   "id": "22ef38dc",
   "metadata": {
    "execution": {
     "iopub.execute_input": "2022-09-23T00:52:36.325932Z",
     "iopub.status.busy": "2022-09-23T00:52:36.325343Z",
     "iopub.status.idle": "2022-09-23T00:52:36.867779Z",
     "shell.execute_reply": "2022-09-23T00:52:36.867188Z"
    },
    "papermill": {
     "duration": 0.570479,
     "end_time": "2022-09-23T00:52:36.867912",
     "exception": false,
     "start_time": "2022-09-23T00:52:36.297433",
     "status": "completed"
    },
    "tags": []
   },
   "outputs": [],
   "source": [
    "%matplotlib inline\n",
    "import numpy as np\n",
    "import matplotlib.pyplot as plt\n",
    "import pandas as pd"
   ]
  },
  {
   "cell_type": "markdown",
   "id": "ba036198",
   "metadata": {
    "papermill": {
     "duration": 0.025791,
     "end_time": "2022-09-23T00:52:36.917889",
     "exception": false,
     "start_time": "2022-09-23T00:52:36.892098",
     "status": "completed"
    },
    "tags": []
   },
   "source": [
    "From the command line run `pip install mnist`. This is a library that will help you bring down the mnist dataset. If you run this from a notebook, you need to put  `!pip install mnist` in a cell by itself."
   ]
  },
  {
   "cell_type": "code",
   "execution_count": 3,
   "id": "bb6ad8a1",
   "metadata": {
    "execution": {
     "iopub.execute_input": "2022-09-23T00:52:36.969941Z",
     "iopub.status.busy": "2022-09-23T00:52:36.969355Z",
     "iopub.status.idle": "2022-09-23T00:52:38.598621Z",
     "shell.execute_reply": "2022-09-23T00:52:38.597704Z"
    },
    "papermill": {
     "duration": 1.657073,
     "end_time": "2022-09-23T00:52:38.598762",
     "exception": false,
     "start_time": "2022-09-23T00:52:36.941689",
     "status": "completed"
    },
    "tags": []
   },
   "outputs": [
    {
     "name": "stdout",
     "output_type": "stream",
     "text": [
      "Collecting mnist\r\n"
     ]
    },
    {
     "name": "stdout",
     "output_type": "stream",
     "text": [
      "  Downloading mnist-0.2.2-py2.py3-none-any.whl (3.5 kB)\r\n",
      "Requirement already satisfied: numpy in /opt/hostedtoolcache/Python/3.6.15/x64/lib/python3.6/site-packages (from mnist) (1.19.5)\r\n"
     ]
    },
    {
     "name": "stdout",
     "output_type": "stream",
     "text": [
      "Installing collected packages: mnist\r\n"
     ]
    },
    {
     "name": "stdout",
     "output_type": "stream",
     "text": [
      "Successfully installed mnist-0.2.2\r\n"
     ]
    }
   ],
   "source": [
    "!pip install mnist"
   ]
  },
  {
   "cell_type": "markdown",
   "id": "69df9c9a",
   "metadata": {
    "papermill": {
     "duration": 0.025154,
     "end_time": "2022-09-23T00:52:38.649246",
     "exception": false,
     "start_time": "2022-09-23T00:52:38.624092",
     "status": "completed"
    },
    "tags": []
   },
   "source": [
    "## Preparing the Data"
   ]
  },
  {
   "cell_type": "code",
   "execution_count": 4,
   "id": "7f69d806",
   "metadata": {
    "execution": {
     "iopub.execute_input": "2022-09-23T00:52:38.705277Z",
     "iopub.status.busy": "2022-09-23T00:52:38.704629Z",
     "iopub.status.idle": "2022-09-23T00:52:38.719588Z",
     "shell.execute_reply": "2022-09-23T00:52:38.719069Z"
    },
    "papermill": {
     "duration": 0.045497,
     "end_time": "2022-09-23T00:52:38.719708",
     "exception": false,
     "start_time": "2022-09-23T00:52:38.674211",
     "status": "completed"
    },
    "tags": []
   },
   "outputs": [],
   "source": [
    "import mnist"
   ]
  },
  {
   "cell_type": "code",
   "execution_count": 5,
   "id": "a411e44f",
   "metadata": {
    "execution": {
     "iopub.execute_input": "2022-09-23T00:52:38.776483Z",
     "iopub.status.busy": "2022-09-23T00:52:38.775862Z",
     "iopub.status.idle": "2022-09-23T00:52:39.349360Z",
     "shell.execute_reply": "2022-09-23T00:52:39.348778Z"
    },
    "papermill": {
     "duration": 0.604715,
     "end_time": "2022-09-23T00:52:39.349504",
     "exception": false,
     "start_time": "2022-09-23T00:52:38.744789",
     "status": "completed"
    },
    "tags": []
   },
   "outputs": [],
   "source": [
    "train_images = mnist.train_images()\n",
    "train_labels = mnist.train_labels()"
   ]
  },
  {
   "cell_type": "code",
   "execution_count": 6,
   "id": "dceab3a5",
   "metadata": {
    "execution": {
     "iopub.execute_input": "2022-09-23T00:52:39.404226Z",
     "iopub.status.busy": "2022-09-23T00:52:39.403632Z",
     "iopub.status.idle": "2022-09-23T00:52:39.419071Z",
     "shell.execute_reply": "2022-09-23T00:52:39.418582Z"
    },
    "papermill": {
     "duration": 0.043932,
     "end_time": "2022-09-23T00:52:39.419185",
     "exception": false,
     "start_time": "2022-09-23T00:52:39.375253",
     "status": "completed"
    },
    "tags": []
   },
   "outputs": [
    {
     "data": {
      "text/plain": [
       "((60000, 28, 28), (60000,))"
      ]
     },
     "execution_count": 6,
     "metadata": {},
     "output_type": "execute_result"
    }
   ],
   "source": [
    "train_images.shape, train_labels.shape"
   ]
  },
  {
   "cell_type": "code",
   "execution_count": 7,
   "id": "f50dc2bb",
   "metadata": {
    "execution": {
     "iopub.execute_input": "2022-09-23T00:52:39.476521Z",
     "iopub.status.busy": "2022-09-23T00:52:39.475915Z",
     "iopub.status.idle": "2022-09-23T00:52:39.656104Z",
     "shell.execute_reply": "2022-09-23T00:52:39.655504Z"
    },
    "papermill": {
     "duration": 0.211893,
     "end_time": "2022-09-23T00:52:39.656237",
     "exception": false,
     "start_time": "2022-09-23T00:52:39.444344",
     "status": "completed"
    },
    "tags": []
   },
   "outputs": [],
   "source": [
    "test_images = mnist.test_images()\n",
    "test_labels = mnist.test_labels()"
   ]
  },
  {
   "cell_type": "code",
   "execution_count": 8,
   "id": "fc38cf1b",
   "metadata": {
    "execution": {
     "iopub.execute_input": "2022-09-23T00:52:39.716276Z",
     "iopub.status.busy": "2022-09-23T00:52:39.715663Z",
     "iopub.status.idle": "2022-09-23T00:52:39.725837Z",
     "shell.execute_reply": "2022-09-23T00:52:39.726411Z"
    },
    "papermill": {
     "duration": 0.044277,
     "end_time": "2022-09-23T00:52:39.726547",
     "exception": false,
     "start_time": "2022-09-23T00:52:39.682270",
     "status": "completed"
    },
    "tags": []
   },
   "outputs": [
    {
     "data": {
      "text/plain": [
       "((10000, 28, 28), (10000,))"
      ]
     },
     "execution_count": 8,
     "metadata": {},
     "output_type": "execute_result"
    }
   ],
   "source": [
    "test_images.shape, test_labels.shape"
   ]
  },
  {
   "cell_type": "code",
   "execution_count": 9,
   "id": "f9ed8fe0",
   "metadata": {
    "execution": {
     "iopub.execute_input": "2022-09-23T00:52:39.784766Z",
     "iopub.status.busy": "2022-09-23T00:52:39.783829Z",
     "iopub.status.idle": "2022-09-23T00:52:39.921440Z",
     "shell.execute_reply": "2022-09-23T00:52:39.921879Z"
    },
    "papermill": {
     "duration": 0.170046,
     "end_time": "2022-09-23T00:52:39.922025",
     "exception": false,
     "start_time": "2022-09-23T00:52:39.751979",
     "status": "completed"
    },
    "tags": []
   },
   "outputs": [
    {
     "name": "stdout",
     "output_type": "stream",
     "text": [
      "2\n"
     ]
    },
    {
     "data": {
      "text/plain": [
       "<matplotlib.image.AxesImage at 0x7f0a7586dc88>"
      ]
     },
     "execution_count": 9,
     "metadata": {},
     "output_type": "execute_result"
    },
    {
     "data": {
      "image/png": "[encoded data removed]",
      "text/plain": [
       "<Figure size 432x288 with 1 Axes>"
      ]
     },
     "metadata": {
      "needs_background": "light"
     },
     "output_type": "display_data"
    }
   ],
   "source": [
    "image_index = 7776 # You may select anything up to 60,000\n",
    "print(train_labels[image_index]) \n",
    "plt.imshow(train_images[image_index], cmap='Greys')"
   ]
  },
  {
   "cell_type": "markdown",
   "id": "a8d2388d",
   "metadata": {
    "papermill": {
     "duration": 0.02658,
     "end_time": "2022-09-23T00:52:39.975375",
     "exception": false,
     "start_time": "2022-09-23T00:52:39.948795",
     "status": "completed"
    },
    "tags": []
   },
   "source": [
    "## Filter data to get 3 and 8 out"
   ]
  },
  {
   "cell_type": "code",
   "execution_count": 10,
   "id": "776f7fc7",
   "metadata": {
    "execution": {
     "iopub.execute_input": "2022-09-23T00:52:40.034638Z",
     "iopub.status.busy": "2022-09-23T00:52:40.033998Z",
     "iopub.status.idle": "2022-09-23T00:52:40.051954Z",
     "shell.execute_reply": "2022-09-23T00:52:40.052425Z"
    },
    "papermill": {
     "duration": 0.050655,
     "end_time": "2022-09-23T00:52:40.052563",
     "exception": false,
     "start_time": "2022-09-23T00:52:40.001908",
     "status": "completed"
    },
    "tags": []
   },
   "outputs": [],
   "source": [
    "train_filter = np.where((train_labels == 3 ) | (train_labels == 8))\n",
    "test_filter = np.where((test_labels == 3) | (test_labels == 8))\n",
    "X_train, y_train = train_images[train_filter], train_labels[train_filter]\n",
    "X_test, y_test = test_images[test_filter], test_labels[test_filter]"
   ]
  },
  {
   "cell_type": "markdown",
   "id": "948f0b7e",
   "metadata": {
    "papermill": {
     "duration": 0.02655,
     "end_time": "2022-09-23T00:52:40.106043",
     "exception": false,
     "start_time": "2022-09-23T00:52:40.079493",
     "status": "completed"
    },
    "tags": []
   },
   "source": [
    "We normalize the pizel values in the 0 to 1 range"
   ]
  },
  {
   "cell_type": "code",
   "execution_count": 11,
   "id": "ee4c2166",
   "metadata": {
    "execution": {
     "iopub.execute_input": "2022-09-23T00:52:40.163185Z",
     "iopub.status.busy": "2022-09-23T00:52:40.162591Z",
     "iopub.status.idle": "2022-09-23T00:52:40.211102Z",
     "shell.execute_reply": "2022-09-23T00:52:40.210484Z"
    },
    "papermill": {
     "duration": 0.078665,
     "end_time": "2022-09-23T00:52:40.211237",
     "exception": false,
     "start_time": "2022-09-23T00:52:40.132572",
     "status": "completed"
    },
    "tags": []
   },
   "outputs": [],
   "source": [
    "X_train = X_train/255.\n",
    "X_test = X_test/255."
   ]
  },
  {
   "cell_type": "markdown",
   "id": "ddcf4fab",
   "metadata": {
    "papermill": {
     "duration": 0.026634,
     "end_time": "2022-09-23T00:52:40.265144",
     "exception": false,
     "start_time": "2022-09-23T00:52:40.238510",
     "status": "completed"
    },
    "tags": []
   },
   "source": [
    "And setup the labels as 1 (when the digit is 3) and 0 (when the digit is 8)"
   ]
  },
  {
   "cell_type": "code",
   "execution_count": 12,
   "id": "7dc908f2",
   "metadata": {
    "execution": {
     "iopub.execute_input": "2022-09-23T00:52:40.322328Z",
     "iopub.status.busy": "2022-09-23T00:52:40.321750Z",
     "iopub.status.idle": "2022-09-23T00:52:40.334691Z",
     "shell.execute_reply": "2022-09-23T00:52:40.334197Z"
    },
    "papermill": {
     "duration": 0.043134,
     "end_time": "2022-09-23T00:52:40.334809",
     "exception": false,
     "start_time": "2022-09-23T00:52:40.291675",
     "status": "completed"
    },
    "tags": []
   },
   "outputs": [],
   "source": [
    "y_train = 1*(y_train==3)\n",
    "y_test = 1*(y_test==3)"
   ]
  },
  {
   "cell_type": "code",
   "execution_count": 13,
   "id": "01e4e969",
   "metadata": {
    "execution": {
     "iopub.execute_input": "2022-09-23T00:52:40.392241Z",
     "iopub.status.busy": "2022-09-23T00:52:40.391660Z",
     "iopub.status.idle": "2022-09-23T00:52:40.405880Z",
     "shell.execute_reply": "2022-09-23T00:52:40.406384Z"
    },
    "papermill": {
     "duration": 0.044883,
     "end_time": "2022-09-23T00:52:40.406522",
     "exception": false,
     "start_time": "2022-09-23T00:52:40.361639",
     "status": "completed"
    },
    "tags": []
   },
   "outputs": [
    {
     "data": {
      "text/plain": [
       "((11982, 28, 28), (1984, 28, 28))"
      ]
     },
     "execution_count": 13,
     "metadata": {},
     "output_type": "execute_result"
    }
   ],
   "source": [
    "X_train.shape, X_test.shape"
   ]
  },
  {
   "cell_type": "markdown",
   "id": "5ccf3f85",
   "metadata": {
    "papermill": {
     "duration": 0.026681,
     "end_time": "2022-09-23T00:52:40.460001",
     "exception": false,
     "start_time": "2022-09-23T00:52:40.433320",
     "status": "completed"
    },
    "tags": []
   },
   "source": [
    "We reshape the data to flatten the image pixels into a set of features or co-variates:"
   ]
  },
  {
   "cell_type": "code",
   "execution_count": 14,
   "id": "5286a4a3",
   "metadata": {
    "execution": {
     "iopub.execute_input": "2022-09-23T00:52:40.518975Z",
     "iopub.status.busy": "2022-09-23T00:52:40.518161Z",
     "iopub.status.idle": "2022-09-23T00:52:40.533330Z",
     "shell.execute_reply": "2022-09-23T00:52:40.532767Z"
    },
    "papermill": {
     "duration": 0.046499,
     "end_time": "2022-09-23T00:52:40.533455",
     "exception": false,
     "start_time": "2022-09-23T00:52:40.486956",
     "status": "completed"
    },
    "tags": []
   },
   "outputs": [
    {
     "data": {
      "text/plain": [
       "((11982, 784), (1984, 784))"
      ]
     },
     "execution_count": 14,
     "metadata": {},
     "output_type": "execute_result"
    }
   ],
   "source": [
    "X_train = X_train.reshape(X_train.shape[0], -1)\n",
    "X_test = X_test.reshape(X_test.shape[0], -1)\n",
    "X_train.shape, X_test.shape"
   ]
  },
  {
   "cell_type": "code",
   "execution_count": 15,
   "id": "73c5f88a",
   "metadata": {
    "execution": {
     "iopub.execute_input": "2022-09-23T00:52:40.598169Z",
     "iopub.status.busy": "2022-09-23T00:52:40.597552Z",
     "iopub.status.idle": "2022-09-23T00:52:40.617875Z",
     "shell.execute_reply": "2022-09-23T00:52:40.616925Z"
    },
    "papermill": {
     "duration": 0.054551,
     "end_time": "2022-09-23T00:52:40.618014",
     "exception": false,
     "start_time": "2022-09-23T00:52:40.563463",
     "status": "completed"
    },
    "tags": []
   },
   "outputs": [],
   "source": [
    "#Impoting functions from 'Kudzu'\n",
    "from kudzu.model import Model\n",
    "from kudzu.train import Learner\n",
    "from kudzu.optim import GD\n",
    "from kudzu.data import Data, Sampler,Dataloader\n",
    "\n",
    "from kudzu.callbacks import AccCallback\n",
    "from kudzu.callbacks import ClfCallback\n",
    "\n",
    "from kudzu.loss import MSE\n",
    "\n",
    "from kudzu.layer import Sigmoid,Relu\n",
    "from kudzu.layer import Affine"
   ]
  },
  {
   "cell_type": "markdown",
   "id": "bc01172a",
   "metadata": {
    "papermill": {
     "duration": 0.027179,
     "end_time": "2022-09-23T00:52:40.673314",
     "exception": false,
     "start_time": "2022-09-23T00:52:40.646135",
     "status": "completed"
    },
    "tags": []
   },
   "source": [
    "### Let us create a `Config` class, to store important parameters. \n",
    "This class essentially plays the role of a dictionary."
   ]
  },
  {
   "cell_type": "code",
   "execution_count": 16,
   "id": "978281aa",
   "metadata": {
    "execution": {
     "iopub.execute_input": "2022-09-23T00:52:40.731981Z",
     "iopub.status.busy": "2022-09-23T00:52:40.731369Z",
     "iopub.status.idle": "2022-09-23T00:52:40.744972Z",
     "shell.execute_reply": "2022-09-23T00:52:40.744470Z"
    },
    "papermill": {
     "duration": 0.044652,
     "end_time": "2022-09-23T00:52:40.745092",
     "exception": false,
     "start_time": "2022-09-23T00:52:40.700440",
     "status": "completed"
    },
    "tags": []
   },
   "outputs": [],
   "source": [
    "class Config:\n",
    "    pass\n",
    "config = Config()\n",
    "config.lr = 0.001\n",
    "config.num_epochs = 250\n",
    "config.bs = 50"
   ]
  },
  {
   "cell_type": "markdown",
   "id": "1385fa59",
   "metadata": {
    "papermill": {
     "duration": 0.027121,
     "end_time": "2022-09-23T00:52:40.799611",
     "exception": false,
     "start_time": "2022-09-23T00:52:40.772490",
     "status": "completed"
    },
    "tags": []
   },
   "source": [
    "### Running Models with the Training data\n",
    "Details about the network layers:\n",
    "- A first affine layer has 784 inputs and does 100 affine transforms. These are followed by a Relu\n",
    "- A second affine layer has 100 inputs from the 100 activations of the past layer, and does 100 affine transforms. These are followed by a Relu\n",
    "- A third affine layer has 100 activations and does 2 affine transformations to create an embedding for visualization. There is no non-linearity here.\n",
    "- A final \"logistic regression\" which has an affine transform from 2 inputs to 1 output, which is squeezed through a sigmoid.\n"
   ]
  },
  {
   "cell_type": "code",
   "execution_count": 17,
   "id": "2b9c66db",
   "metadata": {
    "execution": {
     "iopub.execute_input": "2022-09-23T00:52:40.858675Z",
     "iopub.status.busy": "2022-09-23T00:52:40.858059Z",
     "iopub.status.idle": "2022-09-23T00:52:40.871287Z",
     "shell.execute_reply": "2022-09-23T00:52:40.870788Z"
    },
    "papermill": {
     "duration": 0.04453,
     "end_time": "2022-09-23T00:52:40.871402",
     "exception": false,
     "start_time": "2022-09-23T00:52:40.826872",
     "status": "completed"
    },
    "tags": []
   },
   "outputs": [],
   "source": [
    "data = Data(X_train, y_train.reshape(-1,1))\n",
    "sampler = Sampler(data, config.bs, shuffle=True)\n",
    "\n",
    "dl = Dataloader(data, sampler)\n",
    "\n",
    "opt = GD(config.lr)\n",
    "loss = MSE()"
   ]
  },
  {
   "cell_type": "code",
   "execution_count": 18,
   "id": "b275e4c2",
   "metadata": {
    "execution": {
     "iopub.execute_input": "2022-09-23T00:52:40.930097Z",
     "iopub.status.busy": "2022-09-23T00:52:40.929500Z",
     "iopub.status.idle": "2022-09-23T00:52:40.942598Z",
     "shell.execute_reply": "2022-09-23T00:52:40.941978Z"
    },
    "papermill": {
     "duration": 0.04402,
     "end_time": "2022-09-23T00:52:40.942717",
     "exception": false,
     "start_time": "2022-09-23T00:52:40.898697",
     "status": "completed"
    },
    "tags": []
   },
   "outputs": [],
   "source": [
    "training_data_x = X_train\n",
    "testing_data_x = X_test\n",
    "training_data_y = y_train.reshape(-1,1)\n",
    "testing_data_y = y_test.reshape(-1,1)"
   ]
  },
  {
   "cell_type": "code",
   "execution_count": 19,
   "id": "76951160",
   "metadata": {
    "execution": {
     "iopub.execute_input": "2022-09-23T00:52:41.002110Z",
     "iopub.status.busy": "2022-09-23T00:52:41.001510Z",
     "iopub.status.idle": "2022-09-23T00:52:41.017797Z",
     "shell.execute_reply": "2022-09-23T00:52:41.018384Z"
    },
    "papermill": {
     "duration": 0.048731,
     "end_time": "2022-09-23T00:52:41.018524",
     "exception": false,
     "start_time": "2022-09-23T00:52:40.969793",
     "status": "completed"
    },
    "tags": []
   },
   "outputs": [
    {
     "name": "stdout",
     "output_type": "stream",
     "text": [
      "xavier\n",
      "xavier\n",
      "xavier\n",
      "xavier\n",
      "xavier\n"
     ]
    }
   ],
   "source": [
    "layers = [Affine(\"first\", 784, 100), Relu(\"first\"), Affine(\"second\", 100, 100), Relu(\"second\"), Affine(\"third\", 100, 2), Affine(\"last\", 2, 1), Sigmoid(\"last\")]\n",
    "model_nn = Model(layers)\n",
    "model_lr = Model([Affine(\"logits\", 784, 1), Sigmoid(\"sigmoid\")])"
   ]
  },
  {
   "cell_type": "code",
   "execution_count": 20,
   "id": "6eede77a",
   "metadata": {
    "execution": {
     "iopub.execute_input": "2022-09-23T00:52:41.077797Z",
     "iopub.status.busy": "2022-09-23T00:52:41.077196Z",
     "iopub.status.idle": "2022-09-23T00:52:41.089660Z",
     "shell.execute_reply": "2022-09-23T00:52:41.089078Z"
    },
    "papermill": {
     "duration": 0.043844,
     "end_time": "2022-09-23T00:52:41.089775",
     "exception": false,
     "start_time": "2022-09-23T00:52:41.045931",
     "status": "completed"
    },
    "tags": []
   },
   "outputs": [],
   "source": [
    "nn_learner = Learner(loss, model_nn, opt, config.num_epochs)\n",
    "acc_nn = ClfCallback(nn_learner, config.bs, training_data_x , testing_data_x, training_data_y, testing_data_y)\n",
    "nn_learner.set_callbacks([acc_nn])"
   ]
  },
  {
   "cell_type": "code",
   "execution_count": 21,
   "id": "877b6cc7",
   "metadata": {
    "execution": {
     "iopub.execute_input": "2022-09-23T00:52:41.148965Z",
     "iopub.status.busy": "2022-09-23T00:52:41.148383Z",
     "iopub.status.idle": "2022-09-23T00:52:41.160702Z",
     "shell.execute_reply": "2022-09-23T00:52:41.160218Z"
    },
    "papermill": {
     "duration": 0.043605,
     "end_time": "2022-09-23T00:52:41.160816",
     "exception": false,
     "start_time": "2022-09-23T00:52:41.117211",
     "status": "completed"
    },
    "tags": []
   },
   "outputs": [],
   "source": [
    "lr_learner = Learner(loss, model_lr, opt, config.num_epochs)\n",
    "acc_lr = ClfCallback(lr_learner, config.bs, training_data_x , testing_data_x, training_data_y, testing_data_y)\n",
    "lr_learner.set_callbacks([acc_lr])"
   ]
  },
  {
   "cell_type": "code",
   "execution_count": 22,
   "id": "d9b133c3",
   "metadata": {
    "execution": {
     "iopub.execute_input": "2022-09-23T00:52:41.219202Z",
     "iopub.status.busy": "2022-09-23T00:52:41.218616Z",
     "iopub.status.idle": "2022-09-23T00:53:59.079989Z",
     "shell.execute_reply": "2022-09-23T00:53:59.080850Z"
    },
    "papermill": {
     "duration": 77.892664,
     "end_time": "2022-09-23T00:53:59.080996",
     "exception": false,
     "start_time": "2022-09-23T00:52:41.188332",
     "status": "completed"
    },
    "tags": []
   },
   "outputs": [
    {
     "name": "stdout",
     "output_type": "stream",
     "text": [
      "Epoch 0, Loss 0.2461\n",
      "Training Accuracy: 0.7017, Testing Accuracy: 0.7067\n",
      "\n"
     ]
    },
    {
     "name": "stdout",
     "output_type": "stream",
     "text": [
      "Epoch 10, Loss 0.0679\n",
      "Training Accuracy: 0.9325, Testing Accuracy: 0.9385\n",
      "\n"
     ]
    },
    {
     "name": "stdout",
     "output_type": "stream",
     "text": [
      "Epoch 20, Loss 0.0461\n",
      "Training Accuracy: 0.9508, Testing Accuracy: 0.9567\n",
      "\n"
     ]
    },
    {
     "name": "stdout",
     "output_type": "stream",
     "text": [
      "Epoch 30, Loss 0.0381\n",
      "Training Accuracy: 0.9581, Testing Accuracy: 0.9617\n",
      "\n"
     ]
    },
    {
     "name": "stdout",
     "output_type": "stream",
     "text": [
      "Epoch 40, Loss 0.0337\n",
      "Training Accuracy: 0.9614, Testing Accuracy: 0.9642\n",
      "\n"
     ]
    },
    {
     "name": "stdout",
     "output_type": "stream",
     "text": [
      "Epoch 50, Loss 0.0308\n",
      "Training Accuracy: 0.9643, Testing Accuracy: 0.9682\n",
      "\n"
     ]
    },
    {
     "name": "stdout",
     "output_type": "stream",
     "text": [
      "Epoch 60, Loss 0.0287\n",
      "Training Accuracy: 0.9666, Testing Accuracy: 0.9682\n",
      "\n"
     ]
    },
    {
     "name": "stdout",
     "output_type": "stream",
     "text": [
      "Epoch 70, Loss 0.027\n",
      "Training Accuracy: 0.9683, Testing Accuracy: 0.9703\n",
      "\n"
     ]
    },
    {
     "name": "stdout",
     "output_type": "stream",
     "text": [
      "Epoch 80, Loss 0.0256\n",
      "Training Accuracy: 0.9699, Testing Accuracy: 0.9698\n",
      "\n"
     ]
    },
    {
     "name": "stdout",
     "output_type": "stream",
     "text": [
      "Epoch 90, Loss 0.0244\n",
      "Training Accuracy: 0.9717, Testing Accuracy: 0.9718\n",
      "\n"
     ]
    },
    {
     "name": "stdout",
     "output_type": "stream",
     "text": [
      "Epoch 100, Loss 0.0233\n",
      "Training Accuracy: 0.9734, Testing Accuracy: 0.9738\n",
      "\n"
     ]
    },
    {
     "name": "stdout",
     "output_type": "stream",
     "text": [
      "Epoch 110, Loss 0.0224\n",
      "Training Accuracy: 0.9749, Testing Accuracy: 0.9748\n",
      "\n"
     ]
    },
    {
     "name": "stdout",
     "output_type": "stream",
     "text": [
      "Epoch 120, Loss 0.0216\n",
      "Training Accuracy: 0.9756, Testing Accuracy: 0.9758\n",
      "\n"
     ]
    },
    {
     "name": "stdout",
     "output_type": "stream",
     "text": [
      "Epoch 130, Loss 0.0208\n",
      "Training Accuracy: 0.9766, Testing Accuracy: 0.9753\n",
      "\n"
     ]
    },
    {
     "name": "stdout",
     "output_type": "stream",
     "text": [
      "Epoch 140, Loss 0.0201\n",
      "Training Accuracy: 0.9774, Testing Accuracy: 0.9753\n",
      "\n"
     ]
    },
    {
     "name": "stdout",
     "output_type": "stream",
     "text": [
      "Epoch 150, Loss 0.0194\n",
      "Training Accuracy: 0.9782, Testing Accuracy: 0.9758\n",
      "\n"
     ]
    },
    {
     "name": "stdout",
     "output_type": "stream",
     "text": [
      "Epoch 160, Loss 0.0188\n",
      "Training Accuracy: 0.9790, Testing Accuracy: 0.9763\n",
      "\n"
     ]
    },
    {
     "name": "stdout",
     "output_type": "stream",
     "text": [
      "Epoch 170, Loss 0.0182\n",
      "Training Accuracy: 0.9796, Testing Accuracy: 0.9758\n",
      "\n"
     ]
    },
    {
     "name": "stdout",
     "output_type": "stream",
     "text": [
      "Epoch 180, Loss 0.0177\n",
      "Training Accuracy: 0.9803, Testing Accuracy: 0.9758\n",
      "\n"
     ]
    },
    {
     "name": "stdout",
     "output_type": "stream",
     "text": [
      "Epoch 190, Loss 0.0172\n",
      "Training Accuracy: 0.9814, Testing Accuracy: 0.9758\n",
      "\n"
     ]
    },
    {
     "name": "stdout",
     "output_type": "stream",
     "text": [
      "Epoch 200, Loss 0.0167\n",
      "Training Accuracy: 0.9820, Testing Accuracy: 0.9758\n",
      "\n"
     ]
    },
    {
     "name": "stdout",
     "output_type": "stream",
     "text": [
      "Epoch 210, Loss 0.0162\n",
      "Training Accuracy: 0.9825, Testing Accuracy: 0.9758\n",
      "\n"
     ]
    },
    {
     "name": "stdout",
     "output_type": "stream",
     "text": [
      "Epoch 220, Loss 0.0158\n",
      "Training Accuracy: 0.9830, Testing Accuracy: 0.9758\n",
      "\n"
     ]
    },
    {
     "name": "stdout",
     "output_type": "stream",
     "text": [
      "Epoch 230, Loss 0.0154\n",
      "Training Accuracy: 0.9838, Testing Accuracy: 0.9758\n",
      "\n"
     ]
    },
    {
     "name": "stdout",
     "output_type": "stream",
     "text": [
      "Epoch 240, Loss 0.015\n",
      "Training Accuracy: 0.9841, Testing Accuracy: 0.9758\n",
      "\n"
     ]
    },
    {
     "data": {
      "text/plain": [
       "0.011144260385123141"
      ]
     },
     "execution_count": 22,
     "metadata": {},
     "output_type": "execute_result"
    }
   ],
   "source": [
    "nn_learner.train_loop(dl)"
   ]
  },
  {
   "cell_type": "code",
   "execution_count": 23,
   "id": "e0163366",
   "metadata": {
    "execution": {
     "iopub.execute_input": "2022-09-23T00:53:59.160481Z",
     "iopub.status.busy": "2022-09-23T00:53:59.159863Z",
     "iopub.status.idle": "2022-09-23T00:54:13.546525Z",
     "shell.execute_reply": "2022-09-23T00:54:13.547363Z"
    },
    "papermill": {
     "duration": 14.431031,
     "end_time": "2022-09-23T00:54:13.547507",
     "exception": false,
     "start_time": "2022-09-23T00:53:59.116476",
     "status": "completed"
    },
    "tags": []
   },
   "outputs": [
    {
     "name": "stdout",
     "output_type": "stream",
     "text": [
      "Epoch 0, Loss 0.2445\n",
      "Training Accuracy: 0.6680, Testing Accuracy: 0.6976\n",
      "\n"
     ]
    },
    {
     "name": "stdout",
     "output_type": "stream",
     "text": [
      "Epoch 10, Loss 0.1061\n",
      "Training Accuracy: 0.9016, Testing Accuracy: 0.9108\n",
      "\n"
     ]
    },
    {
     "name": "stdout",
     "output_type": "stream",
     "text": [
      "Epoch 20, Loss 0.0807\n",
      "Training Accuracy: 0.9245, Testing Accuracy: 0.9350\n",
      "\n"
     ]
    },
    {
     "name": "stdout",
     "output_type": "stream",
     "text": [
      "Epoch 30, Loss 0.0689\n",
      "Training Accuracy: 0.9346, Testing Accuracy: 0.9441\n",
      "\n"
     ]
    },
    {
     "name": "stdout",
     "output_type": "stream",
     "text": [
      "Epoch 40, Loss 0.0619\n",
      "Training Accuracy: 0.9407, Testing Accuracy: 0.9501\n",
      "\n"
     ]
    },
    {
     "name": "stdout",
     "output_type": "stream",
     "text": [
      "Epoch 50, Loss 0.0571\n",
      "Training Accuracy: 0.9451, Testing Accuracy: 0.9531\n",
      "\n"
     ]
    },
    {
     "name": "stdout",
     "output_type": "stream",
     "text": [
      "Epoch 60, Loss 0.0537\n",
      "Training Accuracy: 0.9480, Testing Accuracy: 0.9556\n",
      "\n"
     ]
    },
    {
     "name": "stdout",
     "output_type": "stream",
     "text": [
      "Epoch 70, Loss 0.051\n",
      "Training Accuracy: 0.9512, Testing Accuracy: 0.9592\n",
      "\n"
     ]
    },
    {
     "name": "stdout",
     "output_type": "stream",
     "text": [
      "Epoch 80, Loss 0.0489\n",
      "Training Accuracy: 0.9526, Testing Accuracy: 0.9617\n",
      "\n"
     ]
    },
    {
     "name": "stdout",
     "output_type": "stream",
     "text": [
      "Epoch 90, Loss 0.0472\n",
      "Training Accuracy: 0.9540, Testing Accuracy: 0.9632\n",
      "\n"
     ]
    },
    {
     "name": "stdout",
     "output_type": "stream",
     "text": [
      "Epoch 100, Loss 0.0458\n",
      "Training Accuracy: 0.9548, Testing Accuracy: 0.9637\n",
      "\n"
     ]
    },
    {
     "name": "stdout",
     "output_type": "stream",
     "text": [
      "Epoch 110, Loss 0.0446\n",
      "Training Accuracy: 0.9560, Testing Accuracy: 0.9642\n",
      "\n"
     ]
    },
    {
     "name": "stdout",
     "output_type": "stream",
     "text": [
      "Epoch 120, Loss 0.0435\n",
      "Training Accuracy: 0.9569, Testing Accuracy: 0.9647\n",
      "\n"
     ]
    },
    {
     "name": "stdout",
     "output_type": "stream",
     "text": [
      "Epoch 130, Loss 0.0426\n",
      "Training Accuracy: 0.9571, Testing Accuracy: 0.9652\n",
      "\n"
     ]
    },
    {
     "name": "stdout",
     "output_type": "stream",
     "text": [
      "Epoch 140, Loss 0.0417\n",
      "Training Accuracy: 0.9574, Testing Accuracy: 0.9657\n",
      "\n"
     ]
    },
    {
     "name": "stdout",
     "output_type": "stream",
     "text": [
      "Epoch 150, Loss 0.041\n",
      "Training Accuracy: 0.9579, Testing Accuracy: 0.9662\n",
      "\n"
     ]
    },
    {
     "name": "stdout",
     "output_type": "stream",
     "text": [
      "Epoch 160, Loss 0.0403\n",
      "Training Accuracy: 0.9587, Testing Accuracy: 0.9667\n",
      "\n"
     ]
    },
    {
     "name": "stdout",
     "output_type": "stream",
     "text": [
      "Epoch 170, Loss 0.0397\n",
      "Training Accuracy: 0.9592, Testing Accuracy: 0.9667\n",
      "\n"
     ]
    },
    {
     "name": "stdout",
     "output_type": "stream",
     "text": [
      "Epoch 180, Loss 0.0391\n",
      "Training Accuracy: 0.9595, Testing Accuracy: 0.9662\n",
      "\n"
     ]
    },
    {
     "name": "stdout",
     "output_type": "stream",
     "text": [
      "Epoch 190, Loss 0.0386\n",
      "Training Accuracy: 0.9599, Testing Accuracy: 0.9667\n",
      "\n"
     ]
    },
    {
     "name": "stdout",
     "output_type": "stream",
     "text": [
      "Epoch 200, Loss 0.0382\n",
      "Training Accuracy: 0.9599, Testing Accuracy: 0.9662\n",
      "\n"
     ]
    },
    {
     "name": "stdout",
     "output_type": "stream",
     "text": [
      "Epoch 210, Loss 0.0377\n",
      "Training Accuracy: 0.9602, Testing Accuracy: 0.9672\n",
      "\n"
     ]
    },
    {
     "name": "stdout",
     "output_type": "stream",
     "text": [
      "Epoch 220, Loss 0.0373\n",
      "Training Accuracy: 0.9608, Testing Accuracy: 0.9677\n",
      "\n"
     ]
    },
    {
     "name": "stdout",
     "output_type": "stream",
     "text": [
      "Epoch 230, Loss 0.0369\n",
      "Training Accuracy: 0.9607, Testing Accuracy: 0.9677\n",
      "\n"
     ]
    },
    {
     "name": "stdout",
     "output_type": "stream",
     "text": [
      "Epoch 240, Loss 0.0366\n",
      "Training Accuracy: 0.9609, Testing Accuracy: 0.9677\n",
      "\n"
     ]
    },
    {
     "data": {
      "text/plain": [
       "0.015183115044190905"
      ]
     },
     "execution_count": 23,
     "metadata": {},
     "output_type": "execute_result"
    }
   ],
   "source": [
    "lr_learner.train_loop(dl)"
   ]
  },
  {
   "cell_type": "code",
   "execution_count": 24,
   "id": "ca410940",
   "metadata": {
    "execution": {
     "iopub.execute_input": "2022-09-23T00:54:13.644043Z",
     "iopub.status.busy": "2022-09-23T00:54:13.643416Z",
     "iopub.status.idle": "2022-09-23T00:54:13.872612Z",
     "shell.execute_reply": "2022-09-23T00:54:13.872043Z"
    },
    "papermill": {
     "duration": 0.283329,
     "end_time": "2022-09-23T00:54:13.872752",
     "exception": false,
     "start_time": "2022-09-23T00:54:13.589423",
     "status": "completed"
    },
    "tags": []
   },
   "outputs": [
    {
     "data": {
      "text/plain": [
       "<matplotlib.legend.Legend at 0x7f0a753db358>"
      ]
     },
     "execution_count": 24,
     "metadata": {},
     "output_type": "execute_result"
    },
    {
     "data": {
      "image/png": "[encoded data removed]",
      "text/plain": [
       "<Figure size 1080x720 with 1 Axes>"
      ]
     },
     "metadata": {
      "needs_background": "light"
     },
     "output_type": "display_data"
    }
   ],
   "source": [
    "#comparing the results of NN and LR\n",
    "plt.figure(figsize=(15,10))\n",
    "\n",
    "# Neural Network plots\n",
    "plt.plot(acc_nn.accuracies, 'r-', label = \"Training Accuracies - NN\")\n",
    "plt.plot(acc_nn.test_accuracies, 'g-', label = \"Testing Accuracies - NN\")\n",
    "\n",
    "# Logistic Regression plots\n",
    "plt.plot(acc_lr.accuracies, 'k-', label = \"Training Accuracies - LR\")\n",
    "plt.plot(acc_lr.test_accuracies, 'b-', label = \"Testing Accuracies - LR\")\n",
    "plt.legend()"
   ]
  },
  {
   "cell_type": "markdown",
   "id": "80dfb35c",
   "metadata": {
    "papermill": {
     "duration": 0.04222,
     "end_time": "2022-09-23T00:54:13.957734",
     "exception": false,
     "start_time": "2022-09-23T00:54:13.915514",
     "status": "completed"
    },
    "tags": []
   },
   "source": [
    "#### Plotting the outputs of this layer of the NN.\n"
   ]
  },
  {
   "cell_type": "code",
   "execution_count": 25,
   "id": "45eb2ff5",
   "metadata": {
    "execution": {
     "iopub.execute_input": "2022-09-23T00:54:14.046520Z",
     "iopub.status.busy": "2022-09-23T00:54:14.045896Z",
     "iopub.status.idle": "2022-09-23T00:54:14.067578Z",
     "shell.execute_reply": "2022-09-23T00:54:14.067067Z"
    },
    "papermill": {
     "duration": 0.067765,
     "end_time": "2022-09-23T00:54:14.067703",
     "exception": false,
     "start_time": "2022-09-23T00:54:13.999938",
     "status": "completed"
    },
    "tags": []
   },
   "outputs": [],
   "source": [
    "new_model = Model(layers[:-2])\n",
    "testing_plot = new_model(testing_data_x)"
   ]
  },
  {
   "cell_type": "code",
   "execution_count": 26,
   "id": "4c0a5485",
   "metadata": {
    "execution": {
     "iopub.execute_input": "2022-09-23T00:54:14.161077Z",
     "iopub.status.busy": "2022-09-23T00:54:14.158983Z",
     "iopub.status.idle": "2022-09-23T00:54:14.349525Z",
     "shell.execute_reply": "2022-09-23T00:54:14.349049Z"
    },
    "papermill": {
     "duration": 0.239395,
     "end_time": "2022-09-23T00:54:14.349649",
     "exception": false,
     "start_time": "2022-09-23T00:54:14.110254",
     "status": "completed"
    },
    "tags": []
   },
   "outputs": [
    {
     "data": {
      "text/plain": [
       "Text(0.5, 1.0, 'Outputs')"
      ]
     },
     "execution_count": 26,
     "metadata": {},
     "output_type": "execute_result"
    },
    {
     "data": {
      "image/png": "[encoded data removed]",
      "text/plain": [
       "<Figure size 576x504 with 1 Axes>"
      ]
     },
     "metadata": {
      "needs_background": "light"
     },
     "output_type": "display_data"
    }
   ],
   "source": [
    "# Plotting the scatter plot of points and color coding by class\n",
    "plt.figure(figsize=(8,7))\n",
    "plt.scatter(testing_plot[:,0], testing_plot[:,1], alpha = 0.1, c = y_test.ravel());\n",
    "plt.title('Outputs')"
   ]
  },
  {
   "cell_type": "markdown",
   "id": "a74fcf8f",
   "metadata": {
    "papermill": {
     "duration": 0.044397,
     "end_time": "2022-09-23T00:54:14.438687",
     "exception": false,
     "start_time": "2022-09-23T00:54:14.394290",
     "status": "completed"
    },
    "tags": []
   },
   "source": [
    "Probability contours"
   ]
  },
  {
   "cell_type": "code",
   "execution_count": 27,
   "id": "d0afc8e3",
   "metadata": {
    "execution": {
     "iopub.execute_input": "2022-09-23T00:54:14.560101Z",
     "iopub.status.busy": "2022-09-23T00:54:14.559504Z",
     "iopub.status.idle": "2022-09-23T00:54:14.571751Z",
     "shell.execute_reply": "2022-09-23T00:54:14.571261Z"
    },
    "papermill": {
     "duration": 0.088713,
     "end_time": "2022-09-23T00:54:14.571868",
     "exception": false,
     "start_time": "2022-09-23T00:54:14.483155",
     "status": "completed"
    },
    "tags": []
   },
   "outputs": [],
   "source": [
    "model_prob = Model(layers[-2:]) "
   ]
  },
  {
   "cell_type": "code",
   "execution_count": 28,
   "id": "9b96e238",
   "metadata": {
    "execution": {
     "iopub.execute_input": "2022-09-23T00:54:14.666125Z",
     "iopub.status.busy": "2022-09-23T00:54:14.665522Z",
     "iopub.status.idle": "2022-09-23T00:54:14.681338Z",
     "shell.execute_reply": "2022-09-23T00:54:14.681769Z"
    },
    "papermill": {
     "duration": 0.065445,
     "end_time": "2022-09-23T00:54:14.681909",
     "exception": false,
     "start_time": "2022-09-23T00:54:14.616464",
     "status": "completed"
    },
    "tags": []
   },
   "outputs": [],
   "source": [
    "#creating the x and y ranges according to the above generated plot.\n",
    "x_range = np.linspace(-4, 1, 100) \n",
    "y_range = np.linspace(-6, 6, 100) \n",
    "x_grid, y_grid = np.meshgrid(x_range, y_range) # x_grid and y_grig are of size 100 X 100\n",
    "\n",
    "# converting x_grid and y_grid to continuous arrays\n",
    "x_gridflat = np.ravel(x_grid)\n",
    "y_gridflat = np.ravel(y_grid)\n",
    "\n",
    "# The last layer of the current model takes two columns as input. Hence transpose of np.vstack() is required.\n",
    "X = np.vstack((x_gridflat, y_gridflat)).T\n",
    "\n",
    "prob_contour = model_prob(X).reshape(100,100) "
   ]
  },
  {
   "cell_type": "code",
   "execution_count": 29,
   "id": "da72499a",
   "metadata": {
    "execution": {
     "iopub.execute_input": "2022-09-23T00:54:14.778853Z",
     "iopub.status.busy": "2022-09-23T00:54:14.776522Z",
     "iopub.status.idle": "2022-09-23T00:54:15.017042Z",
     "shell.execute_reply": "2022-09-23T00:54:15.017557Z"
    },
    "papermill": {
     "duration": 0.291131,
     "end_time": "2022-09-23T00:54:15.017708",
     "exception": false,
     "start_time": "2022-09-23T00:54:14.726577",
     "status": "completed"
    },
    "tags": []
   },
   "outputs": [
    {
     "data": {
      "image/png": "[encoded data removed]",
      "text/plain": [
       "<Figure size 720x648 with 1 Axes>"
      ]
     },
     "metadata": {
      "needs_background": "light"
     },
     "output_type": "display_data"
    }
   ],
   "source": [
    "plt.figure(figsize=(10,9))\n",
    "plt.scatter(testing_plot[:,0], testing_plot[:,1], alpha = 0.1, c = y_test.ravel())\n",
    "contours = plt.contour(x_grid,y_grid,prob_contour)\n",
    "plt.title('Probability Contours')\n",
    "plt.clabel(contours, inline = True );"
   ]
  },
  {
   "cell_type": "code",
   "execution_count": null,
   "id": "e81b4ac7",
   "metadata": {
    "papermill": {
     "duration": 0.047712,
     "end_time": "2022-09-23T00:54:15.113191",
     "exception": false,
     "start_time": "2022-09-23T00:54:15.065479",
     "status": "completed"
    },
    "tags": []
   },
   "outputs": [],
   "source": []
  }
 ],
 "metadata": {
  "kernelspec": {
   "display_name": "Python 3",
   "language": "python",
   "name": "python3"
  },
  "language_info": {
   "codemirror_mode": {
    "name": "ipython",
    "version": 3
   },
   "file_extension": ".py",
   "mimetype": "text/x-python",
   "name": "python",
   "nbconvert_exporter": "python",
   "pygments_lexer": "ipython3",
   "version": "3.6.15"
  },
  "papermill": {
   "default_parameters": {},
   "duration": 100.704324,
   "end_time": "2022-09-23T00:54:15.579413",
   "environment_variables": {},
   "exception": null,
   "input_path": "2020-08-11-part2.ipynb",
   "output_path": "2020-08-11-part2.ipynb",
   "parameters": {},
   "start_time": "2022-09-23T00:52:34.875089",
   "version": "2.3.3"
  }
 },
 "nbformat": 4,
 "nbformat_minor": 5
}