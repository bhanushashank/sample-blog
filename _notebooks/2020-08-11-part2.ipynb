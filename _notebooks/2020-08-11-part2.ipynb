{
 "cells": [
  {
   "cell_type": "markdown",
   "id": "98380cd3",
   "metadata": {
    "papermill": {
     "duration": 0.028429,
     "end_time": "2021-12-01T20:08:54.421790",
     "exception": false,
     "start_time": "2021-12-01T20:08:54.393361",
     "status": "completed"
    },
    "tags": []
   },
   "source": [
    "# Distinguish Your Own Digits (DYOD)"
   ]
  },
  {
   "cell_type": "markdown",
   "id": "ef31240d",
   "metadata": {
    "papermill": {
     "duration": 0.023914,
     "end_time": "2021-12-01T20:08:54.471832",
     "exception": false,
     "start_time": "2021-12-01T20:08:54.447918",
     "status": "completed"
    },
    "tags": []
   },
   "source": [
    "You are going to write a classifier that distinguishes between the number 3 and number 8."
   ]
  },
  {
   "cell_type": "code",
   "execution_count": 1,
   "id": "b15c8646",
   "metadata": {
    "execution": {
     "iopub.execute_input": "2021-12-01T20:08:54.529502Z",
     "iopub.status.busy": "2021-12-01T20:08:54.528917Z",
     "iopub.status.idle": "2021-12-01T20:08:54.538512Z",
     "shell.execute_reply": "2021-12-01T20:08:54.539093Z"
    },
    "papermill": {
     "duration": 0.043815,
     "end_time": "2021-12-01T20:08:54.539240",
     "exception": false,
     "start_time": "2021-12-01T20:08:54.495425",
     "status": "completed"
    },
    "tags": []
   },
   "outputs": [],
   "source": [
    "%load_ext autoreload\n",
    "%autoreload 2"
   ]
  },
  {
   "cell_type": "code",
   "execution_count": 2,
   "id": "22ef38dc",
   "metadata": {
    "execution": {
     "iopub.execute_input": "2021-12-01T20:08:54.590071Z",
     "iopub.status.busy": "2021-12-01T20:08:54.589503Z",
     "iopub.status.idle": "2021-12-01T20:08:55.157381Z",
     "shell.execute_reply": "2021-12-01T20:08:55.156860Z"
    },
    "papermill": {
     "duration": 0.594567,
     "end_time": "2021-12-01T20:08:55.157515",
     "exception": false,
     "start_time": "2021-12-01T20:08:54.562948",
     "status": "completed"
    },
    "tags": []
   },
   "outputs": [],
   "source": [
    "%matplotlib inline\n",
    "import numpy as np\n",
    "import matplotlib.pyplot as plt\n",
    "import pandas as pd"
   ]
  },
  {
   "cell_type": "markdown",
   "id": "ba036198",
   "metadata": {
    "papermill": {
     "duration": 0.026135,
     "end_time": "2021-12-01T20:08:55.212252",
     "exception": false,
     "start_time": "2021-12-01T20:08:55.186117",
     "status": "completed"
    },
    "tags": []
   },
   "source": [
    "From the command line run `pip install mnist`. This is a library that will help you bring down the mnist dataset. If you run this from a notebook, you need to put  `!pip install mnist` in a cell by itself."
   ]
  },
  {
   "cell_type": "code",
   "execution_count": 3,
   "id": "bb6ad8a1",
   "metadata": {
    "execution": {
     "iopub.execute_input": "2021-12-01T20:08:55.267481Z",
     "iopub.status.busy": "2021-12-01T20:08:55.266921Z",
     "iopub.status.idle": "2021-12-01T20:08:57.062427Z",
     "shell.execute_reply": "2021-12-01T20:08:57.061957Z"
    },
    "papermill": {
     "duration": 1.824987,
     "end_time": "2021-12-01T20:08:57.062557",
     "exception": false,
     "start_time": "2021-12-01T20:08:55.237570",
     "status": "completed"
    },
    "tags": []
   },
   "outputs": [
    {
     "name": "stdout",
     "output_type": "stream",
     "text": [
      "Collecting mnist\r\n"
     ]
    },
    {
     "name": "stdout",
     "output_type": "stream",
     "text": [
      "  Downloading mnist-0.2.2-py2.py3-none-any.whl (3.5 kB)\r\n",
      "Requirement already satisfied: numpy in /opt/hostedtoolcache/Python/3.6.15/x64/lib/python3.6/site-packages (from mnist) (1.19.5)\r\n"
     ]
    },
    {
     "name": "stdout",
     "output_type": "stream",
     "text": [
      "Installing collected packages: mnist\r\n"
     ]
    },
    {
     "name": "stdout",
     "output_type": "stream",
     "text": [
      "Successfully installed mnist-0.2.2\r\n"
     ]
    }
   ],
   "source": [
    "!pip install mnist"
   ]
  },
  {
   "cell_type": "markdown",
   "id": "69df9c9a",
   "metadata": {
    "papermill": {
     "duration": 0.025911,
     "end_time": "2021-12-01T20:08:57.116941",
     "exception": false,
     "start_time": "2021-12-01T20:08:57.091030",
     "status": "completed"
    },
    "tags": []
   },
   "source": [
    "## Preparing the Data"
   ]
  },
  {
   "cell_type": "code",
   "execution_count": 4,
   "id": "7f69d806",
   "metadata": {
    "execution": {
     "iopub.execute_input": "2021-12-01T20:08:57.174223Z",
     "iopub.status.busy": "2021-12-01T20:08:57.173519Z",
     "iopub.status.idle": "2021-12-01T20:08:57.187941Z",
     "shell.execute_reply": "2021-12-01T20:08:57.188562Z"
    },
    "papermill": {
     "duration": 0.045829,
     "end_time": "2021-12-01T20:08:57.188685",
     "exception": false,
     "start_time": "2021-12-01T20:08:57.142856",
     "status": "completed"
    },
    "tags": []
   },
   "outputs": [],
   "source": [
    "import mnist"
   ]
  },
  {
   "cell_type": "code",
   "execution_count": 5,
   "id": "a411e44f",
   "metadata": {
    "execution": {
     "iopub.execute_input": "2021-12-01T20:08:57.244963Z",
     "iopub.status.busy": "2021-12-01T20:08:57.244357Z",
     "iopub.status.idle": "2021-12-01T20:08:57.743622Z",
     "shell.execute_reply": "2021-12-01T20:08:57.743116Z"
    },
    "papermill": {
     "duration": 0.52832,
     "end_time": "2021-12-01T20:08:57.743759",
     "exception": false,
     "start_time": "2021-12-01T20:08:57.215439",
     "status": "completed"
    },
    "tags": []
   },
   "outputs": [],
   "source": [
    "train_images = mnist.train_images()\n",
    "train_labels = mnist.train_labels()"
   ]
  },
  {
   "cell_type": "code",
   "execution_count": 6,
   "id": "dceab3a5",
   "metadata": {
    "execution": {
     "iopub.execute_input": "2021-12-01T20:08:57.802244Z",
     "iopub.status.busy": "2021-12-01T20:08:57.801682Z",
     "iopub.status.idle": "2021-12-01T20:08:57.816184Z",
     "shell.execute_reply": "2021-12-01T20:08:57.816758Z"
    },
    "papermill": {
     "duration": 0.044437,
     "end_time": "2021-12-01T20:08:57.816873",
     "exception": false,
     "start_time": "2021-12-01T20:08:57.772436",
     "status": "completed"
    },
    "tags": []
   },
   "outputs": [
    {
     "data": {
      "text/plain": [
       "((60000, 28, 28), (60000,))"
      ]
     },
     "execution_count": 6,
     "metadata": {},
     "output_type": "execute_result"
    }
   ],
   "source": [
    "train_images.shape, train_labels.shape"
   ]
  },
  {
   "cell_type": "code",
   "execution_count": 7,
   "id": "f50dc2bb",
   "metadata": {
    "execution": {
     "iopub.execute_input": "2021-12-01T20:08:57.873253Z",
     "iopub.status.busy": "2021-12-01T20:08:57.872612Z",
     "iopub.status.idle": "2021-12-01T20:08:58.050298Z",
     "shell.execute_reply": "2021-12-01T20:08:58.050754Z"
    },
    "papermill": {
     "duration": 0.207516,
     "end_time": "2021-12-01T20:08:58.050903",
     "exception": false,
     "start_time": "2021-12-01T20:08:57.843387",
     "status": "completed"
    },
    "tags": []
   },
   "outputs": [],
   "source": [
    "test_images = mnist.test_images()\n",
    "test_labels = mnist.test_labels()"
   ]
  },
  {
   "cell_type": "code",
   "execution_count": 8,
   "id": "fc38cf1b",
   "metadata": {
    "execution": {
     "iopub.execute_input": "2021-12-01T20:08:58.106271Z",
     "iopub.status.busy": "2021-12-01T20:08:58.105714Z",
     "iopub.status.idle": "2021-12-01T20:08:58.118452Z",
     "shell.execute_reply": "2021-12-01T20:08:58.117788Z"
    },
    "papermill": {
     "duration": 0.041195,
     "end_time": "2021-12-01T20:08:58.118640",
     "exception": false,
     "start_time": "2021-12-01T20:08:58.077445",
     "status": "completed"
    },
    "tags": []
   },
   "outputs": [
    {
     "data": {
      "text/plain": [
       "((10000, 28, 28), (10000,))"
      ]
     },
     "execution_count": 8,
     "metadata": {},
     "output_type": "execute_result"
    }
   ],
   "source": [
    "test_images.shape, test_labels.shape"
   ]
  },
  {
   "cell_type": "code",
   "execution_count": 9,
   "id": "f9ed8fe0",
   "metadata": {
    "execution": {
     "iopub.execute_input": "2021-12-01T20:08:58.173162Z",
     "iopub.status.busy": "2021-12-01T20:08:58.172536Z",
     "iopub.status.idle": "2021-12-01T20:08:58.341368Z",
     "shell.execute_reply": "2021-12-01T20:08:58.340617Z"
    },
    "papermill": {
     "duration": 0.197629,
     "end_time": "2021-12-01T20:08:58.341519",
     "exception": false,
     "start_time": "2021-12-01T20:08:58.143890",
     "status": "completed"
    },
    "tags": []
   },
   "outputs": [
    {
     "name": "stdout",
     "output_type": "stream",
     "text": [
      "2\n"
     ]
    },
    {
     "data": {
      "text/plain": [
       "<matplotlib.image.AxesImage at 0x7f8bcf329518>"
      ]
     },
     "execution_count": 9,
     "metadata": {},
     "output_type": "execute_result"
    },
    {
     "data": {
      "image/png": "[encoded data removed]",
      "text/plain": [
       "<Figure size 432x288 with 1 Axes>"
      ]
     },
     "metadata": {
      "needs_background": "light"
     },
     "output_type": "display_data"
    }
   ],
   "source": [
    "image_index = 7776 # You may select anything up to 60,000\n",
    "print(train_labels[image_index]) \n",
    "plt.imshow(train_images[image_index], cmap='Greys')"
   ]
  },
  {
   "cell_type": "markdown",
   "id": "a8d2388d",
   "metadata": {
    "papermill": {
     "duration": 0.027337,
     "end_time": "2021-12-01T20:08:58.394754",
     "exception": false,
     "start_time": "2021-12-01T20:08:58.367417",
     "status": "completed"
    },
    "tags": []
   },
   "source": [
    "## Filter data to get 3 and 8 out"
   ]
  },
  {
   "cell_type": "code",
   "execution_count": 10,
   "id": "776f7fc7",
   "metadata": {
    "execution": {
     "iopub.execute_input": "2021-12-01T20:08:58.460946Z",
     "iopub.status.busy": "2021-12-01T20:08:58.456756Z",
     "iopub.status.idle": "2021-12-01T20:08:58.475542Z",
     "shell.execute_reply": "2021-12-01T20:08:58.476138Z"
    },
    "papermill": {
     "duration": 0.053244,
     "end_time": "2021-12-01T20:08:58.476303",
     "exception": false,
     "start_time": "2021-12-01T20:08:58.423059",
     "status": "completed"
    },
    "tags": []
   },
   "outputs": [],
   "source": [
    "train_filter = np.where((train_labels == 3 ) | (train_labels == 8))\n",
    "test_filter = np.where((test_labels == 3) | (test_labels == 8))\n",
    "X_train, y_train = train_images[train_filter], train_labels[train_filter]\n",
    "X_test, y_test = test_images[test_filter], test_labels[test_filter]"
   ]
  },
  {
   "cell_type": "markdown",
   "id": "948f0b7e",
   "metadata": {
    "papermill": {
     "duration": 0.02831,
     "end_time": "2021-12-01T20:08:58.533777",
     "exception": false,
     "start_time": "2021-12-01T20:08:58.505467",
     "status": "completed"
    },
    "tags": []
   },
   "source": [
    "We normalize the pizel values in the 0 to 1 range"
   ]
  },
  {
   "cell_type": "code",
   "execution_count": 11,
   "id": "ee4c2166",
   "metadata": {
    "execution": {
     "iopub.execute_input": "2021-12-01T20:08:58.590946Z",
     "iopub.status.busy": "2021-12-01T20:08:58.590362Z",
     "iopub.status.idle": "2021-12-01T20:08:58.645098Z",
     "shell.execute_reply": "2021-12-01T20:08:58.644473Z"
    },
    "papermill": {
     "duration": 0.084635,
     "end_time": "2021-12-01T20:08:58.645230",
     "exception": false,
     "start_time": "2021-12-01T20:08:58.560595",
     "status": "completed"
    },
    "tags": []
   },
   "outputs": [],
   "source": [
    "X_train = X_train/255.\n",
    "X_test = X_test/255."
   ]
  },
  {
   "cell_type": "markdown",
   "id": "ddcf4fab",
   "metadata": {
    "papermill": {
     "duration": 0.028752,
     "end_time": "2021-12-01T20:08:58.704464",
     "exception": false,
     "start_time": "2021-12-01T20:08:58.675712",
     "status": "completed"
    },
    "tags": []
   },
   "source": [
    "And setup the labels as 1 (when the digit is 3) and 0 (when the digit is 8)"
   ]
  },
  {
   "cell_type": "code",
   "execution_count": 12,
   "id": "7dc908f2",
   "metadata": {
    "execution": {
     "iopub.execute_input": "2021-12-01T20:08:58.762919Z",
     "iopub.status.busy": "2021-12-01T20:08:58.762310Z",
     "iopub.status.idle": "2021-12-01T20:08:58.774392Z",
     "shell.execute_reply": "2021-12-01T20:08:58.774920Z"
    },
    "papermill": {
     "duration": 0.042908,
     "end_time": "2021-12-01T20:08:58.775038",
     "exception": false,
     "start_time": "2021-12-01T20:08:58.732130",
     "status": "completed"
    },
    "tags": []
   },
   "outputs": [],
   "source": [
    "y_train = 1*(y_train==3)\n",
    "y_test = 1*(y_test==3)"
   ]
  },
  {
   "cell_type": "code",
   "execution_count": 13,
   "id": "01e4e969",
   "metadata": {
    "execution": {
     "iopub.execute_input": "2021-12-01T20:08:58.835867Z",
     "iopub.status.busy": "2021-12-01T20:08:58.835190Z",
     "iopub.status.idle": "2021-12-01T20:08:58.847441Z",
     "shell.execute_reply": "2021-12-01T20:08:58.848041Z"
    },
    "papermill": {
     "duration": 0.046068,
     "end_time": "2021-12-01T20:08:58.848215",
     "exception": false,
     "start_time": "2021-12-01T20:08:58.802147",
     "status": "completed"
    },
    "tags": []
   },
   "outputs": [
    {
     "data": {
      "text/plain": [
       "((11982, 28, 28), (1984, 28, 28))"
      ]
     },
     "execution_count": 13,
     "metadata": {},
     "output_type": "execute_result"
    }
   ],
   "source": [
    "X_train.shape, X_test.shape"
   ]
  },
  {
   "cell_type": "markdown",
   "id": "5ccf3f85",
   "metadata": {
    "papermill": {
     "duration": 0.029534,
     "end_time": "2021-12-01T20:08:58.907711",
     "exception": false,
     "start_time": "2021-12-01T20:08:58.878177",
     "status": "completed"
    },
    "tags": []
   },
   "source": [
    "We reshape the data to flatten the image pixels into a set of features or co-variates:"
   ]
  },
  {
   "cell_type": "code",
   "execution_count": 14,
   "id": "5286a4a3",
   "metadata": {
    "execution": {
     "iopub.execute_input": "2021-12-01T20:08:58.970598Z",
     "iopub.status.busy": "2021-12-01T20:08:58.970038Z",
     "iopub.status.idle": "2021-12-01T20:08:58.980727Z",
     "shell.execute_reply": "2021-12-01T20:08:58.980293Z"
    },
    "papermill": {
     "duration": 0.044372,
     "end_time": "2021-12-01T20:08:58.980834",
     "exception": false,
     "start_time": "2021-12-01T20:08:58.936462",
     "status": "completed"
    },
    "tags": []
   },
   "outputs": [
    {
     "data": {
      "text/plain": [
       "((11982, 784), (1984, 784))"
      ]
     },
     "execution_count": 14,
     "metadata": {},
     "output_type": "execute_result"
    }
   ],
   "source": [
    "X_train = X_train.reshape(X_train.shape[0], -1)\n",
    "X_test = X_test.reshape(X_test.shape[0], -1)\n",
    "X_train.shape, X_test.shape"
   ]
  },
  {
   "cell_type": "code",
   "execution_count": 15,
   "id": "73c5f88a",
   "metadata": {
    "execution": {
     "iopub.execute_input": "2021-12-01T20:08:59.039221Z",
     "iopub.status.busy": "2021-12-01T20:08:59.038612Z",
     "iopub.status.idle": "2021-12-01T20:08:59.054301Z",
     "shell.execute_reply": "2021-12-01T20:08:59.054827Z"
    },
    "papermill": {
     "duration": 0.046948,
     "end_time": "2021-12-01T20:08:59.054959",
     "exception": false,
     "start_time": "2021-12-01T20:08:59.008011",
     "status": "completed"
    },
    "tags": []
   },
   "outputs": [],
   "source": [
    "#Impoting functions from 'Kudzu'\n",
    "from kudzu.model import Model\n",
    "from kudzu.train import Learner\n",
    "from kudzu.optim import GD\n",
    "from kudzu.data import Data, Sampler,Dataloader\n",
    "\n",
    "from kudzu.callbacks import AccCallback\n",
    "from kudzu.callbacks import ClfCallback\n",
    "\n",
    "from kudzu.loss import MSE\n",
    "\n",
    "from kudzu.layer import Sigmoid,Relu\n",
    "from kudzu.layer import Affine"
   ]
  },
  {
   "cell_type": "markdown",
   "id": "bc01172a",
   "metadata": {
    "papermill": {
     "duration": 0.028799,
     "end_time": "2021-12-01T20:08:59.112166",
     "exception": false,
     "start_time": "2021-12-01T20:08:59.083367",
     "status": "completed"
    },
    "tags": []
   },
   "source": [
    "### Let us create a `Config` class, to store important parameters. \n",
    "This class essentially plays the role of a dictionary."
   ]
  },
  {
   "cell_type": "code",
   "execution_count": 16,
   "id": "978281aa",
   "metadata": {
    "execution": {
     "iopub.execute_input": "2021-12-01T20:08:59.170416Z",
     "iopub.status.busy": "2021-12-01T20:08:59.169869Z",
     "iopub.status.idle": "2021-12-01T20:08:59.179949Z",
     "shell.execute_reply": "2021-12-01T20:08:59.180480Z"
    },
    "papermill": {
     "duration": 0.040369,
     "end_time": "2021-12-01T20:08:59.180591",
     "exception": false,
     "start_time": "2021-12-01T20:08:59.140222",
     "status": "completed"
    },
    "tags": []
   },
   "outputs": [],
   "source": [
    "class Config:\n",
    "    pass\n",
    "config = Config()\n",
    "config.lr = 0.001\n",
    "config.num_epochs = 250\n",
    "config.bs = 50"
   ]
  },
  {
   "cell_type": "markdown",
   "id": "1385fa59",
   "metadata": {
    "papermill": {
     "duration": 0.026782,
     "end_time": "2021-12-01T20:08:59.233543",
     "exception": false,
     "start_time": "2021-12-01T20:08:59.206761",
     "status": "completed"
    },
    "tags": []
   },
   "source": [
    "### Running Models with the Training data\n",
    "Details about the network layers:\n",
    "- A first affine layer has 784 inputs and does 100 affine transforms. These are followed by a Relu\n",
    "- A second affine layer has 100 inputs from the 100 activations of the past layer, and does 100 affine transforms. These are followed by a Relu\n",
    "- A third affine layer has 100 activations and does 2 affine transformations to create an embedding for visualization. There is no non-linearity here.\n",
    "- A final \"logistic regression\" which has an affine transform from 2 inputs to 1 output, which is squeezed through a sigmoid.\n"
   ]
  },
  {
   "cell_type": "code",
   "execution_count": 17,
   "id": "2b9c66db",
   "metadata": {
    "execution": {
     "iopub.execute_input": "2021-12-01T20:08:59.293415Z",
     "iopub.status.busy": "2021-12-01T20:08:59.292809Z",
     "iopub.status.idle": "2021-12-01T20:08:59.302373Z",
     "shell.execute_reply": "2021-12-01T20:08:59.302819Z"
    },
    "papermill": {
     "duration": 0.042383,
     "end_time": "2021-12-01T20:08:59.302929",
     "exception": false,
     "start_time": "2021-12-01T20:08:59.260546",
     "status": "completed"
    },
    "tags": []
   },
   "outputs": [],
   "source": [
    "data = Data(X_train, y_train.reshape(-1,1))\n",
    "sampler = Sampler(data, config.bs, shuffle=True)\n",
    "\n",
    "dl = Dataloader(data, sampler)\n",
    "\n",
    "opt = GD(config.lr)\n",
    "loss = MSE()"
   ]
  },
  {
   "cell_type": "code",
   "execution_count": 18,
   "id": "b275e4c2",
   "metadata": {
    "execution": {
     "iopub.execute_input": "2021-12-01T20:08:59.362191Z",
     "iopub.status.busy": "2021-12-01T20:08:59.361554Z",
     "iopub.status.idle": "2021-12-01T20:08:59.373274Z",
     "shell.execute_reply": "2021-12-01T20:08:59.373750Z"
    },
    "papermill": {
     "duration": 0.044265,
     "end_time": "2021-12-01T20:08:59.373899",
     "exception": false,
     "start_time": "2021-12-01T20:08:59.329634",
     "status": "completed"
    },
    "tags": []
   },
   "outputs": [],
   "source": [
    "training_data_x = X_train\n",
    "testing_data_x = X_test\n",
    "training_data_y = y_train.reshape(-1,1)\n",
    "testing_data_y = y_test.reshape(-1,1)"
   ]
  },
  {
   "cell_type": "code",
   "execution_count": 19,
   "id": "76951160",
   "metadata": {
    "execution": {
     "iopub.execute_input": "2021-12-01T20:08:59.433845Z",
     "iopub.status.busy": "2021-12-01T20:08:59.433229Z",
     "iopub.status.idle": "2021-12-01T20:08:59.447251Z",
     "shell.execute_reply": "2021-12-01T20:08:59.447725Z"
    },
    "papermill": {
     "duration": 0.045786,
     "end_time": "2021-12-01T20:08:59.447837",
     "exception": false,
     "start_time": "2021-12-01T20:08:59.402051",
     "status": "completed"
    },
    "tags": []
   },
   "outputs": [
    {
     "name": "stdout",
     "output_type": "stream",
     "text": [
      "xavier\n",
      "xavier\n",
      "xavier\n",
      "xavier\n",
      "xavier\n"
     ]
    }
   ],
   "source": [
    "layers = [Affine(\"first\", 784, 100), Relu(\"first\"), Affine(\"second\", 100, 100), Relu(\"second\"), Affine(\"third\", 100, 2), Affine(\"last\", 2, 1), Sigmoid(\"last\")]\n",
    "model_nn = Model(layers)\n",
    "model_lr = Model([Affine(\"logits\", 784, 1), Sigmoid(\"sigmoid\")])"
   ]
  },
  {
   "cell_type": "code",
   "execution_count": 20,
   "id": "6eede77a",
   "metadata": {
    "execution": {
     "iopub.execute_input": "2021-12-01T20:08:59.507082Z",
     "iopub.status.busy": "2021-12-01T20:08:59.506339Z",
     "iopub.status.idle": "2021-12-01T20:08:59.516534Z",
     "shell.execute_reply": "2021-12-01T20:08:59.516092Z"
    },
    "papermill": {
     "duration": 0.041358,
     "end_time": "2021-12-01T20:08:59.516652",
     "exception": false,
     "start_time": "2021-12-01T20:08:59.475294",
     "status": "completed"
    },
    "tags": []
   },
   "outputs": [],
   "source": [
    "nn_learner = Learner(loss, model_nn, opt, config.num_epochs)\n",
    "acc_nn = ClfCallback(nn_learner, config.bs, training_data_x , testing_data_x, training_data_y, testing_data_y)\n",
    "nn_learner.set_callbacks([acc_nn])"
   ]
  },
  {
   "cell_type": "code",
   "execution_count": 21,
   "id": "877b6cc7",
   "metadata": {
    "execution": {
     "iopub.execute_input": "2021-12-01T20:08:59.575630Z",
     "iopub.status.busy": "2021-12-01T20:08:59.575082Z",
     "iopub.status.idle": "2021-12-01T20:08:59.585978Z",
     "shell.execute_reply": "2021-12-01T20:08:59.586401Z"
    },
    "papermill": {
     "duration": 0.042171,
     "end_time": "2021-12-01T20:08:59.586514",
     "exception": false,
     "start_time": "2021-12-01T20:08:59.544343",
     "status": "completed"
    },
    "tags": []
   },
   "outputs": [],
   "source": [
    "lr_learner = Learner(loss, model_lr, opt, config.num_epochs)\n",
    "acc_lr = ClfCallback(lr_learner, config.bs, training_data_x , testing_data_x, training_data_y, testing_data_y)\n",
    "lr_learner.set_callbacks([acc_lr])"
   ]
  },
  {
   "cell_type": "code",
   "execution_count": 22,
   "id": "d9b133c3",
   "metadata": {
    "execution": {
     "iopub.execute_input": "2021-12-01T20:08:59.646002Z",
     "iopub.status.busy": "2021-12-01T20:08:59.645391Z",
     "iopub.status.idle": "2021-12-01T20:11:12.686592Z",
     "shell.execute_reply": "2021-12-01T20:11:12.687326Z"
    },
    "papermill": {
     "duration": 133.072367,
     "end_time": "2021-12-01T20:11:12.687494",
     "exception": false,
     "start_time": "2021-12-01T20:08:59.615127",
     "status": "completed"
    },
    "tags": []
   },
   "outputs": [
    {
     "name": "stdout",
     "output_type": "stream",
     "text": [
      "Epoch 0, Loss 0.2468\n",
      "Training Accuracy: 0.6257, Testing Accuracy: 0.6341\n",
      "\n"
     ]
    },
    {
     "name": "stdout",
     "output_type": "stream",
     "text": [
      "Epoch 10, Loss 0.1416\n",
      "Training Accuracy: 0.9142, Testing Accuracy: 0.9239\n",
      "\n"
     ]
    },
    {
     "name": "stdout",
     "output_type": "stream",
     "text": [
      "Epoch 20, Loss 0.0681\n",
      "Training Accuracy: 0.9351, Testing Accuracy: 0.9425\n",
      "\n"
     ]
    },
    {
     "name": "stdout",
     "output_type": "stream",
     "text": [
      "Epoch 30, Loss 0.0496\n",
      "Training Accuracy: 0.9460, Testing Accuracy: 0.9541\n",
      "\n"
     ]
    },
    {
     "name": "stdout",
     "output_type": "stream",
     "text": [
      "Epoch 40, Loss 0.0418\n",
      "Training Accuracy: 0.9521, Testing Accuracy: 0.9587\n",
      "\n"
     ]
    },
    {
     "name": "stdout",
     "output_type": "stream",
     "text": [
      "Epoch 50, Loss 0.0373\n",
      "Training Accuracy: 0.9556, Testing Accuracy: 0.9612\n",
      "\n"
     ]
    },
    {
     "name": "stdout",
     "output_type": "stream",
     "text": [
      "Epoch 60, Loss 0.0344\n",
      "Training Accuracy: 0.9594, Testing Accuracy: 0.9617\n",
      "\n"
     ]
    },
    {
     "name": "stdout",
     "output_type": "stream",
     "text": [
      "Epoch 70, Loss 0.0323\n",
      "Training Accuracy: 0.9618, Testing Accuracy: 0.9632\n",
      "\n"
     ]
    },
    {
     "name": "stdout",
     "output_type": "stream",
     "text": [
      "Epoch 80, Loss 0.0307\n",
      "Training Accuracy: 0.9634, Testing Accuracy: 0.9647\n",
      "\n"
     ]
    },
    {
     "name": "stdout",
     "output_type": "stream",
     "text": [
      "Epoch 90, Loss 0.0294\n",
      "Training Accuracy: 0.9649, Testing Accuracy: 0.9652\n",
      "\n"
     ]
    },
    {
     "name": "stdout",
     "output_type": "stream",
     "text": [
      "Epoch 100, Loss 0.0284\n",
      "Training Accuracy: 0.9668, Testing Accuracy: 0.9667\n",
      "\n"
     ]
    },
    {
     "name": "stdout",
     "output_type": "stream",
     "text": [
      "Epoch 110, Loss 0.0275\n",
      "Training Accuracy: 0.9680, Testing Accuracy: 0.9667\n",
      "\n"
     ]
    },
    {
     "name": "stdout",
     "output_type": "stream",
     "text": [
      "Epoch 120, Loss 0.0267\n",
      "Training Accuracy: 0.9686, Testing Accuracy: 0.9677\n",
      "\n"
     ]
    },
    {
     "name": "stdout",
     "output_type": "stream",
     "text": [
      "Epoch 130, Loss 0.026\n",
      "Training Accuracy: 0.9694, Testing Accuracy: 0.9688\n",
      "\n"
     ]
    },
    {
     "name": "stdout",
     "output_type": "stream",
     "text": [
      "Epoch 140, Loss 0.0253\n",
      "Training Accuracy: 0.9706, Testing Accuracy: 0.9688\n",
      "\n"
     ]
    },
    {
     "name": "stdout",
     "output_type": "stream",
     "text": [
      "Epoch 150, Loss 0.0248\n",
      "Training Accuracy: 0.9712, Testing Accuracy: 0.9688\n",
      "\n"
     ]
    },
    {
     "name": "stdout",
     "output_type": "stream",
     "text": [
      "Epoch 160, Loss 0.0242\n",
      "Training Accuracy: 0.9720, Testing Accuracy: 0.9693\n",
      "\n"
     ]
    },
    {
     "name": "stdout",
     "output_type": "stream",
     "text": [
      "Epoch 170, Loss 0.0237\n",
      "Training Accuracy: 0.9721, Testing Accuracy: 0.9693\n",
      "\n"
     ]
    },
    {
     "name": "stdout",
     "output_type": "stream",
     "text": [
      "Epoch 180, Loss 0.0233\n",
      "Training Accuracy: 0.9730, Testing Accuracy: 0.9698\n",
      "\n"
     ]
    },
    {
     "name": "stdout",
     "output_type": "stream",
     "text": [
      "Epoch 190, Loss 0.0229\n",
      "Training Accuracy: 0.9738, Testing Accuracy: 0.9693\n",
      "\n"
     ]
    },
    {
     "name": "stdout",
     "output_type": "stream",
     "text": [
      "Epoch 200, Loss 0.0224\n",
      "Training Accuracy: 0.9743, Testing Accuracy: 0.9703\n",
      "\n"
     ]
    },
    {
     "name": "stdout",
     "output_type": "stream",
     "text": [
      "Epoch 210, Loss 0.0221\n",
      "Training Accuracy: 0.9747, Testing Accuracy: 0.9698\n",
      "\n"
     ]
    },
    {
     "name": "stdout",
     "output_type": "stream",
     "text": [
      "Epoch 220, Loss 0.0217\n",
      "Training Accuracy: 0.9752, Testing Accuracy: 0.9688\n",
      "\n"
     ]
    },
    {
     "name": "stdout",
     "output_type": "stream",
     "text": [
      "Epoch 230, Loss 0.0213\n",
      "Training Accuracy: 0.9757, Testing Accuracy: 0.9688\n",
      "\n"
     ]
    },
    {
     "name": "stdout",
     "output_type": "stream",
     "text": [
      "Epoch 240, Loss 0.021\n",
      "Training Accuracy: 0.9759, Testing Accuracy: 0.9693\n",
      "\n"
     ]
    },
    {
     "data": {
      "text/plain": [
       "0.04177207333078004"
      ]
     },
     "execution_count": 22,
     "metadata": {},
     "output_type": "execute_result"
    }
   ],
   "source": [
    "nn_learner.train_loop(dl)"
   ]
  },
  {
   "cell_type": "code",
   "execution_count": 23,
   "id": "e0163366",
   "metadata": {
    "execution": {
     "iopub.execute_input": "2021-12-01T20:11:12.773168Z",
     "iopub.status.busy": "2021-12-01T20:11:12.772473Z",
     "iopub.status.idle": "2021-12-01T20:11:31.587182Z",
     "shell.execute_reply": "2021-12-01T20:11:31.588123Z"
    },
    "papermill": {
     "duration": 18.862471,
     "end_time": "2021-12-01T20:11:31.588300",
     "exception": false,
     "start_time": "2021-12-01T20:11:12.725829",
     "status": "completed"
    },
    "tags": []
   },
   "outputs": [
    {
     "name": "stdout",
     "output_type": "stream",
     "text": [
      "Epoch 0, Loss 0.2721\n",
      "Training Accuracy: 0.5490, Testing Accuracy: 0.5197\n",
      "\n"
     ]
    },
    {
     "name": "stdout",
     "output_type": "stream",
     "text": [
      "Epoch 10, Loss 0.1016\n",
      "Training Accuracy: 0.9190, Testing Accuracy: 0.9259\n",
      "\n"
     ]
    },
    {
     "name": "stdout",
     "output_type": "stream",
     "text": [
      "Epoch 20, Loss 0.0771\n",
      "Training Accuracy: 0.9348, Testing Accuracy: 0.9441\n",
      "\n"
     ]
    },
    {
     "name": "stdout",
     "output_type": "stream",
     "text": [
      "Epoch 30, Loss 0.0666\n",
      "Training Accuracy: 0.9404, Testing Accuracy: 0.9486\n",
      "\n"
     ]
    },
    {
     "name": "stdout",
     "output_type": "stream",
     "text": [
      "Epoch 40, Loss 0.0604\n",
      "Training Accuracy: 0.9443, Testing Accuracy: 0.9516\n",
      "\n"
     ]
    },
    {
     "name": "stdout",
     "output_type": "stream",
     "text": [
      "Epoch 50, Loss 0.0562\n",
      "Training Accuracy: 0.9469, Testing Accuracy: 0.9556\n",
      "\n"
     ]
    },
    {
     "name": "stdout",
     "output_type": "stream",
     "text": [
      "Epoch 60, Loss 0.0531\n",
      "Training Accuracy: 0.9485, Testing Accuracy: 0.9561\n",
      "\n"
     ]
    },
    {
     "name": "stdout",
     "output_type": "stream",
     "text": [
      "Epoch 70, Loss 0.0507\n",
      "Training Accuracy: 0.9508, Testing Accuracy: 0.9577\n",
      "\n"
     ]
    },
    {
     "name": "stdout",
     "output_type": "stream",
     "text": [
      "Epoch 80, Loss 0.0487\n",
      "Training Accuracy: 0.9518, Testing Accuracy: 0.9567\n",
      "\n"
     ]
    },
    {
     "name": "stdout",
     "output_type": "stream",
     "text": [
      "Epoch 90, Loss 0.0471\n",
      "Training Accuracy: 0.9533, Testing Accuracy: 0.9582\n",
      "\n"
     ]
    },
    {
     "name": "stdout",
     "output_type": "stream",
     "text": [
      "Epoch 100, Loss 0.0457\n",
      "Training Accuracy: 0.9543, Testing Accuracy: 0.9602\n",
      "\n"
     ]
    },
    {
     "name": "stdout",
     "output_type": "stream",
     "text": [
      "Epoch 110, Loss 0.0446\n",
      "Training Accuracy: 0.9549, Testing Accuracy: 0.9612\n",
      "\n"
     ]
    },
    {
     "name": "stdout",
     "output_type": "stream",
     "text": [
      "Epoch 120, Loss 0.0436\n",
      "Training Accuracy: 0.9554, Testing Accuracy: 0.9617\n",
      "\n"
     ]
    },
    {
     "name": "stdout",
     "output_type": "stream",
     "text": [
      "Epoch 130, Loss 0.0427\n",
      "Training Accuracy: 0.9560, Testing Accuracy: 0.9627\n",
      "\n"
     ]
    },
    {
     "name": "stdout",
     "output_type": "stream",
     "text": [
      "Epoch 140, Loss 0.0419\n",
      "Training Accuracy: 0.9562, Testing Accuracy: 0.9627\n",
      "\n"
     ]
    },
    {
     "name": "stdout",
     "output_type": "stream",
     "text": [
      "Epoch 150, Loss 0.0411\n",
      "Training Accuracy: 0.9569, Testing Accuracy: 0.9627\n",
      "\n"
     ]
    },
    {
     "name": "stdout",
     "output_type": "stream",
     "text": [
      "Epoch 160, Loss 0.0405\n",
      "Training Accuracy: 0.9576, Testing Accuracy: 0.9632\n",
      "\n"
     ]
    },
    {
     "name": "stdout",
     "output_type": "stream",
     "text": [
      "Epoch 170, Loss 0.0399\n",
      "Training Accuracy: 0.9582, Testing Accuracy: 0.9637\n",
      "\n"
     ]
    },
    {
     "name": "stdout",
     "output_type": "stream",
     "text": [
      "Epoch 180, Loss 0.0393\n",
      "Training Accuracy: 0.9587, Testing Accuracy: 0.9642\n",
      "\n"
     ]
    },
    {
     "name": "stdout",
     "output_type": "stream",
     "text": [
      "Epoch 190, Loss 0.0388\n",
      "Training Accuracy: 0.9589, Testing Accuracy: 0.9657\n",
      "\n"
     ]
    },
    {
     "name": "stdout",
     "output_type": "stream",
     "text": [
      "Epoch 200, Loss 0.0384\n",
      "Training Accuracy: 0.9597, Testing Accuracy: 0.9662\n",
      "\n"
     ]
    },
    {
     "name": "stdout",
     "output_type": "stream",
     "text": [
      "Epoch 210, Loss 0.0379\n",
      "Training Accuracy: 0.9599, Testing Accuracy: 0.9662\n",
      "\n"
     ]
    },
    {
     "name": "stdout",
     "output_type": "stream",
     "text": [
      "Epoch 220, Loss 0.0375\n",
      "Training Accuracy: 0.9600, Testing Accuracy: 0.9662\n",
      "\n"
     ]
    },
    {
     "name": "stdout",
     "output_type": "stream",
     "text": [
      "Epoch 230, Loss 0.0372\n",
      "Training Accuracy: 0.9606, Testing Accuracy: 0.9667\n",
      "\n"
     ]
    },
    {
     "name": "stdout",
     "output_type": "stream",
     "text": [
      "Epoch 240, Loss 0.0368\n",
      "Training Accuracy: 0.9608, Testing Accuracy: 0.9672\n",
      "\n"
     ]
    },
    {
     "data": {
      "text/plain": [
       "0.04473862503676482"
      ]
     },
     "execution_count": 23,
     "metadata": {},
     "output_type": "execute_result"
    }
   ],
   "source": [
    "lr_learner.train_loop(dl)"
   ]
  },
  {
   "cell_type": "code",
   "execution_count": 24,
   "id": "ca410940",
   "metadata": {
    "execution": {
     "iopub.execute_input": "2021-12-01T20:11:31.714131Z",
     "iopub.status.busy": "2021-12-01T20:11:31.713548Z",
     "iopub.status.idle": "2021-12-01T20:11:31.967936Z",
     "shell.execute_reply": "2021-12-01T20:11:31.967426Z"
    },
    "papermill": {
     "duration": 0.321378,
     "end_time": "2021-12-01T20:11:31.968119",
     "exception": false,
     "start_time": "2021-12-01T20:11:31.646741",
     "status": "completed"
    },
    "tags": []
   },
   "outputs": [
    {
     "data": {
      "text/plain": [
       "<matplotlib.legend.Legend at 0x7f8bcef02c50>"
      ]
     },
     "execution_count": 24,
     "metadata": {},
     "output_type": "execute_result"
    },
    {
     "data": {
      "image/png": "[encoded data removed]",
      "text/plain": [
       "<Figure size 1080x720 with 1 Axes>"
      ]
     },
     "metadata": {
      "needs_background": "light"
     },
     "output_type": "display_data"
    }
   ],
   "source": [
    "#comparing the results of NN and LR\n",
    "plt.figure(figsize=(15,10))\n",
    "\n",
    "# Neural Network plots\n",
    "plt.plot(acc_nn.accuracies, 'r-', label = \"Training Accuracies - NN\")\n",
    "plt.plot(acc_nn.test_accuracies, 'g-', label = \"Testing Accuracies - NN\")\n",
    "\n",
    "# Logistic Regression plots\n",
    "plt.plot(acc_lr.accuracies, 'k-', label = \"Training Accuracies - LR\")\n",
    "plt.plot(acc_lr.test_accuracies, 'b-', label = \"Testing Accuracies - LR\")\n",
    "plt.legend()"
   ]
  },
  {
   "cell_type": "markdown",
   "id": "80dfb35c",
   "metadata": {
    "papermill": {
     "duration": 0.041881,
     "end_time": "2021-12-01T20:11:32.053068",
     "exception": false,
     "start_time": "2021-12-01T20:11:32.011187",
     "status": "completed"
    },
    "tags": []
   },
   "source": [
    "#### Plotting the outputs of this layer of the NN.\n"
   ]
  },
  {
   "cell_type": "code",
   "execution_count": 25,
   "id": "45eb2ff5",
   "metadata": {
    "execution": {
     "iopub.execute_input": "2021-12-01T20:11:32.143311Z",
     "iopub.status.busy": "2021-12-01T20:11:32.142756Z",
     "iopub.status.idle": "2021-12-01T20:11:32.165551Z",
     "shell.execute_reply": "2021-12-01T20:11:32.166254Z"
    },
    "papermill": {
     "duration": 0.070477,
     "end_time": "2021-12-01T20:11:32.166379",
     "exception": false,
     "start_time": "2021-12-01T20:11:32.095902",
     "status": "completed"
    },
    "tags": []
   },
   "outputs": [],
   "source": [
    "new_model = Model(layers[:-2])\n",
    "testing_plot = new_model(testing_data_x)"
   ]
  },
  {
   "cell_type": "code",
   "execution_count": 26,
   "id": "4c0a5485",
   "metadata": {
    "execution": {
     "iopub.execute_input": "2021-12-01T20:11:32.256628Z",
     "iopub.status.busy": "2021-12-01T20:11:32.255989Z",
     "iopub.status.idle": "2021-12-01T20:11:32.478300Z",
     "shell.execute_reply": "2021-12-01T20:11:32.477750Z"
    },
    "papermill": {
     "duration": 0.269005,
     "end_time": "2021-12-01T20:11:32.478414",
     "exception": false,
     "start_time": "2021-12-01T20:11:32.209409",
     "status": "completed"
    },
    "tags": []
   },
   "outputs": [
    {
     "data": {
      "text/plain": [
       "Text(0.5, 1.0, 'Outputs')"
      ]
     },
     "execution_count": 26,
     "metadata": {},
     "output_type": "execute_result"
    },
    {
     "data": {
      "image/png": "[encoded data removed]",
      "text/plain": [
       "<Figure size 576x504 with 1 Axes>"
      ]
     },
     "metadata": {
      "needs_background": "light"
     },
     "output_type": "display_data"
    }
   ],
   "source": [
    "# Plotting the scatter plot of points and color coding by class\n",
    "plt.figure(figsize=(8,7))\n",
    "plt.scatter(testing_plot[:,0], testing_plot[:,1], alpha = 0.1, c = y_test.ravel());\n",
    "plt.title('Outputs')"
   ]
  },
  {
   "cell_type": "markdown",
   "id": "a74fcf8f",
   "metadata": {
    "papermill": {
     "duration": 0.047998,
     "end_time": "2021-12-01T20:11:32.571808",
     "exception": false,
     "start_time": "2021-12-01T20:11:32.523810",
     "status": "completed"
    },
    "tags": []
   },
   "source": [
    "Probability contours"
   ]
  },
  {
   "cell_type": "code",
   "execution_count": 27,
   "id": "d0afc8e3",
   "metadata": {
    "execution": {
     "iopub.execute_input": "2021-12-01T20:11:32.685816Z",
     "iopub.status.busy": "2021-12-01T20:11:32.685278Z",
     "iopub.status.idle": "2021-12-01T20:11:32.697014Z",
     "shell.execute_reply": "2021-12-01T20:11:32.697453Z"
    },
    "papermill": {
     "duration": 0.081039,
     "end_time": "2021-12-01T20:11:32.697641",
     "exception": false,
     "start_time": "2021-12-01T20:11:32.616602",
     "status": "completed"
    },
    "tags": []
   },
   "outputs": [],
   "source": [
    "model_prob = Model(layers[-2:]) "
   ]
  },
  {
   "cell_type": "code",
   "execution_count": 28,
   "id": "9b96e238",
   "metadata": {
    "execution": {
     "iopub.execute_input": "2021-12-01T20:11:32.795561Z",
     "iopub.status.busy": "2021-12-01T20:11:32.795008Z",
     "iopub.status.idle": "2021-12-01T20:11:32.807950Z",
     "shell.execute_reply": "2021-12-01T20:11:32.808426Z"
    },
    "papermill": {
     "duration": 0.065178,
     "end_time": "2021-12-01T20:11:32.808589",
     "exception": false,
     "start_time": "2021-12-01T20:11:32.743411",
     "status": "completed"
    },
    "tags": []
   },
   "outputs": [],
   "source": [
    "#creating the x and y ranges according to the above generated plot.\n",
    "x_range = np.linspace(-4, 1, 100) \n",
    "y_range = np.linspace(-6, 6, 100) \n",
    "x_grid, y_grid = np.meshgrid(x_range, y_range) # x_grid and y_grig are of size 100 X 100\n",
    "\n",
    "# converting x_grid and y_grid to continuous arrays\n",
    "x_gridflat = np.ravel(x_grid)\n",
    "y_gridflat = np.ravel(y_grid)\n",
    "\n",
    "# The last layer of the current model takes two columns as input. Hence transpose of np.vstack() is required.\n",
    "X = np.vstack((x_gridflat, y_gridflat)).T\n",
    "\n",
    "prob_contour = model_prob(X).reshape(100,100) "
   ]
  },
  {
   "cell_type": "code",
   "execution_count": 29,
   "id": "da72499a",
   "metadata": {
    "execution": {
     "iopub.execute_input": "2021-12-01T20:11:32.912219Z",
     "iopub.status.busy": "2021-12-01T20:11:32.910663Z",
     "iopub.status.idle": "2021-12-01T20:11:33.213298Z",
     "shell.execute_reply": "2021-12-01T20:11:33.212318Z"
    },
    "papermill": {
     "duration": 0.355914,
     "end_time": "2021-12-01T20:11:33.213419",
     "exception": false,
     "start_time": "2021-12-01T20:11:32.857505",
     "status": "completed"
    },
    "tags": []
   },
   "outputs": [
    {
     "data": {
      "image/png": "[encoded data removed]",
      "text/plain": [
       "<Figure size 720x648 with 1 Axes>"
      ]
     },
     "metadata": {
      "needs_background": "light"
     },
     "output_type": "display_data"
    }
   ],
   "source": [
    "plt.figure(figsize=(10,9))\n",
    "plt.scatter(testing_plot[:,0], testing_plot[:,1], alpha = 0.1, c = y_test.ravel())\n",
    "contours = plt.contour(x_grid,y_grid,prob_contour)\n",
    "plt.title('Probability Contours')\n",
    "plt.clabel(contours, inline = True );"
   ]
  },
  {
   "cell_type": "code",
   "execution_count": null,
   "id": "e81b4ac7",
   "metadata": {
    "papermill": {
     "duration": 0.04923,
     "end_time": "2021-12-01T20:11:33.309119",
     "exception": false,
     "start_time": "2021-12-01T20:11:33.259889",
     "status": "completed"
    },
    "tags": []
   },
   "outputs": [],
   "source": []
  }
 ],
 "metadata": {
  "kernelspec": {
   "display_name": "Python 3",
   "language": "python",
   "name": "python3"
  },
  "language_info": {
   "codemirror_mode": {
    "name": "ipython",
    "version": 3
   },
   "file_extension": ".py",
   "mimetype": "text/x-python",
   "name": "python",
   "nbconvert_exporter": "python",
   "pygments_lexer": "ipython3",
   "version": "3.6.15"
  },
  "papermill": {
   "default_parameters": {},
   "duration": 160.208846,
   "end_time": "2021-12-01T20:11:33.667058",
   "environment_variables": {},
   "exception": null,
   "input_path": "2020-08-11-part2.ipynb",
   "output_path": "2020-08-11-part2.ipynb",
   "parameters": {},
   "start_time": "2021-12-01T20:08:53.458212",
   "version": "2.3.3"
  }
 },
 "nbformat": 4,
 "nbformat_minor": 5
}