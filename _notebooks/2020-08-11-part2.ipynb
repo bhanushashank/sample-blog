{
 "cells": [
  {
   "cell_type": "markdown",
   "id": "98380cd3",
   "metadata": {
    "papermill": {
     "duration": 0.033621,
     "end_time": "2022-08-04T00:44:33.044509",
     "exception": false,
     "start_time": "2022-08-04T00:44:33.010888",
     "status": "completed"
    },
    "tags": []
   },
   "source": [
    "# Distinguish Your Own Digits (DYOD)"
   ]
  },
  {
   "cell_type": "markdown",
   "id": "ef31240d",
   "metadata": {
    "papermill": {
     "duration": 0.026344,
     "end_time": "2022-08-04T00:44:33.097458",
     "exception": false,
     "start_time": "2022-08-04T00:44:33.071114",
     "status": "completed"
    },
    "tags": []
   },
   "source": [
    "You are going to write a classifier that distinguishes between the number 3 and number 8."
   ]
  },
  {
   "cell_type": "code",
   "execution_count": 1,
   "id": "b15c8646",
   "metadata": {
    "execution": {
     "iopub.execute_input": "2022-08-04T00:44:33.156802Z",
     "iopub.status.busy": "2022-08-04T00:44:33.156227Z",
     "iopub.status.idle": "2022-08-04T00:44:33.167346Z",
     "shell.execute_reply": "2022-08-04T00:44:33.166689Z"
    },
    "papermill": {
     "duration": 0.044673,
     "end_time": "2022-08-04T00:44:33.167488",
     "exception": false,
     "start_time": "2022-08-04T00:44:33.122815",
     "status": "completed"
    },
    "tags": []
   },
   "outputs": [],
   "source": [
    "%load_ext autoreload\n",
    "%autoreload 2"
   ]
  },
  {
   "cell_type": "code",
   "execution_count": 2,
   "id": "22ef38dc",
   "metadata": {
    "execution": {
     "iopub.execute_input": "2022-08-04T00:44:33.220553Z",
     "iopub.status.busy": "2022-08-04T00:44:33.219916Z",
     "iopub.status.idle": "2022-08-04T00:44:33.791090Z",
     "shell.execute_reply": "2022-08-04T00:44:33.789748Z"
    },
    "papermill": {
     "duration": 0.599506,
     "end_time": "2022-08-04T00:44:33.791218",
     "exception": false,
     "start_time": "2022-08-04T00:44:33.191712",
     "status": "completed"
    },
    "tags": []
   },
   "outputs": [],
   "source": [
    "%matplotlib inline\n",
    "import numpy as np\n",
    "import matplotlib.pyplot as plt\n",
    "import pandas as pd"
   ]
  },
  {
   "cell_type": "markdown",
   "id": "ba036198",
   "metadata": {
    "papermill": {
     "duration": 0.024663,
     "end_time": "2022-08-04T00:44:33.842106",
     "exception": false,
     "start_time": "2022-08-04T00:44:33.817443",
     "status": "completed"
    },
    "tags": []
   },
   "source": [
    "From the command line run `pip install mnist`. This is a library that will help you bring down the mnist dataset. If you run this from a notebook, you need to put  `!pip install mnist` in a cell by itself."
   ]
  },
  {
   "cell_type": "code",
   "execution_count": 3,
   "id": "bb6ad8a1",
   "metadata": {
    "execution": {
     "iopub.execute_input": "2022-08-04T00:44:33.896028Z",
     "iopub.status.busy": "2022-08-04T00:44:33.895394Z",
     "iopub.status.idle": "2022-08-04T00:44:35.640021Z",
     "shell.execute_reply": "2022-08-04T00:44:35.638829Z"
    },
    "papermill": {
     "duration": 1.773739,
     "end_time": "2022-08-04T00:44:35.640139",
     "exception": false,
     "start_time": "2022-08-04T00:44:33.866400",
     "status": "completed"
    },
    "tags": []
   },
   "outputs": [
    {
     "name": "stdout",
     "output_type": "stream",
     "text": [
      "Collecting mnist\r\n"
     ]
    },
    {
     "name": "stdout",
     "output_type": "stream",
     "text": [
      "  Downloading mnist-0.2.2-py2.py3-none-any.whl (3.5 kB)\r\n",
      "Requirement already satisfied: numpy in /opt/hostedtoolcache/Python/3.6.15/x64/lib/python3.6/site-packages (from mnist) (1.19.5)\r\n"
     ]
    },
    {
     "name": "stdout",
     "output_type": "stream",
     "text": [
      "Installing collected packages: mnist\r\n"
     ]
    },
    {
     "name": "stdout",
     "output_type": "stream",
     "text": [
      "Successfully installed mnist-0.2.2\r\n"
     ]
    }
   ],
   "source": [
    "!pip install mnist"
   ]
  },
  {
   "cell_type": "markdown",
   "id": "69df9c9a",
   "metadata": {
    "papermill": {
     "duration": 0.023412,
     "end_time": "2022-08-04T00:44:35.686655",
     "exception": false,
     "start_time": "2022-08-04T00:44:35.663243",
     "status": "completed"
    },
    "tags": []
   },
   "source": [
    "## Preparing the Data"
   ]
  },
  {
   "cell_type": "code",
   "execution_count": 4,
   "id": "7f69d806",
   "metadata": {
    "execution": {
     "iopub.execute_input": "2022-08-04T00:44:35.742276Z",
     "iopub.status.busy": "2022-08-04T00:44:35.736803Z",
     "iopub.status.idle": "2022-08-04T00:44:35.755718Z",
     "shell.execute_reply": "2022-08-04T00:44:35.755203Z"
    },
    "papermill": {
     "duration": 0.047035,
     "end_time": "2022-08-04T00:44:35.755834",
     "exception": false,
     "start_time": "2022-08-04T00:44:35.708799",
     "status": "completed"
    },
    "tags": []
   },
   "outputs": [],
   "source": [
    "import mnist"
   ]
  },
  {
   "cell_type": "code",
   "execution_count": 5,
   "id": "a411e44f",
   "metadata": {
    "execution": {
     "iopub.execute_input": "2022-08-04T00:44:35.808335Z",
     "iopub.status.busy": "2022-08-04T00:44:35.807699Z",
     "iopub.status.idle": "2022-08-04T00:44:36.470055Z",
     "shell.execute_reply": "2022-08-04T00:44:36.468975Z"
    },
    "papermill": {
     "duration": 0.691864,
     "end_time": "2022-08-04T00:44:36.470278",
     "exception": false,
     "start_time": "2022-08-04T00:44:35.778414",
     "status": "completed"
    },
    "tags": []
   },
   "outputs": [],
   "source": [
    "train_images = mnist.train_images()\n",
    "train_labels = mnist.train_labels()"
   ]
  },
  {
   "cell_type": "code",
   "execution_count": 6,
   "id": "dceab3a5",
   "metadata": {
    "execution": {
     "iopub.execute_input": "2022-08-04T00:44:36.524249Z",
     "iopub.status.busy": "2022-08-04T00:44:36.523572Z",
     "iopub.status.idle": "2022-08-04T00:44:36.539377Z",
     "shell.execute_reply": "2022-08-04T00:44:36.539006Z"
    },
    "papermill": {
     "duration": 0.044606,
     "end_time": "2022-08-04T00:44:36.539488",
     "exception": false,
     "start_time": "2022-08-04T00:44:36.494882",
     "status": "completed"
    },
    "tags": []
   },
   "outputs": [
    {
     "data": {
      "text/plain": [
       "((60000, 28, 28), (60000,))"
      ]
     },
     "execution_count": 6,
     "metadata": {},
     "output_type": "execute_result"
    }
   ],
   "source": [
    "train_images.shape, train_labels.shape"
   ]
  },
  {
   "cell_type": "code",
   "execution_count": 7,
   "id": "f50dc2bb",
   "metadata": {
    "execution": {
     "iopub.execute_input": "2022-08-04T00:44:36.593510Z",
     "iopub.status.busy": "2022-08-04T00:44:36.593003Z",
     "iopub.status.idle": "2022-08-04T00:44:36.775839Z",
     "shell.execute_reply": "2022-08-04T00:44:36.774618Z"
    },
    "papermill": {
     "duration": 0.211196,
     "end_time": "2022-08-04T00:44:36.776056",
     "exception": false,
     "start_time": "2022-08-04T00:44:36.564860",
     "status": "completed"
    },
    "tags": []
   },
   "outputs": [],
   "source": [
    "test_images = mnist.test_images()\n",
    "test_labels = mnist.test_labels()"
   ]
  },
  {
   "cell_type": "code",
   "execution_count": 8,
   "id": "fc38cf1b",
   "metadata": {
    "execution": {
     "iopub.execute_input": "2022-08-04T00:44:36.831587Z",
     "iopub.status.busy": "2022-08-04T00:44:36.830996Z",
     "iopub.status.idle": "2022-08-04T00:44:36.847405Z",
     "shell.execute_reply": "2022-08-04T00:44:36.847965Z"
    },
    "papermill": {
     "duration": 0.045622,
     "end_time": "2022-08-04T00:44:36.848097",
     "exception": false,
     "start_time": "2022-08-04T00:44:36.802475",
     "status": "completed"
    },
    "tags": []
   },
   "outputs": [
    {
     "data": {
      "text/plain": [
       "((10000, 28, 28), (10000,))"
      ]
     },
     "execution_count": 8,
     "metadata": {},
     "output_type": "execute_result"
    }
   ],
   "source": [
    "test_images.shape, test_labels.shape"
   ]
  },
  {
   "cell_type": "code",
   "execution_count": 9,
   "id": "f9ed8fe0",
   "metadata": {
    "execution": {
     "iopub.execute_input": "2022-08-04T00:44:36.903805Z",
     "iopub.status.busy": "2022-08-04T00:44:36.903171Z",
     "iopub.status.idle": "2022-08-04T00:44:37.042331Z",
     "shell.execute_reply": "2022-08-04T00:44:37.041914Z"
    },
    "papermill": {
     "duration": 0.170491,
     "end_time": "2022-08-04T00:44:37.042435",
     "exception": false,
     "start_time": "2022-08-04T00:44:36.871944",
     "status": "completed"
    },
    "tags": []
   },
   "outputs": [
    {
     "name": "stdout",
     "output_type": "stream",
     "text": [
      "2\n"
     ]
    },
    {
     "data": {
      "text/plain": [
       "<matplotlib.image.AxesImage at 0x7ff92fd2f518>"
      ]
     },
     "execution_count": 9,
     "metadata": {},
     "output_type": "execute_result"
    },
    {
     "data": {
      "image/png": "[encoded data removed]",
      "text/plain": [
       "<Figure size 432x288 with 1 Axes>"
      ]
     },
     "metadata": {
      "needs_background": "light"
     },
     "output_type": "display_data"
    }
   ],
   "source": [
    "image_index = 7776 # You may select anything up to 60,000\n",
    "print(train_labels[image_index]) \n",
    "plt.imshow(train_images[image_index], cmap='Greys')"
   ]
  },
  {
   "cell_type": "markdown",
   "id": "a8d2388d",
   "metadata": {
    "papermill": {
     "duration": 0.025508,
     "end_time": "2022-08-04T00:44:37.092333",
     "exception": false,
     "start_time": "2022-08-04T00:44:37.066825",
     "status": "completed"
    },
    "tags": []
   },
   "source": [
    "## Filter data to get 3 and 8 out"
   ]
  },
  {
   "cell_type": "code",
   "execution_count": 10,
   "id": "776f7fc7",
   "metadata": {
    "execution": {
     "iopub.execute_input": "2022-08-04T00:44:37.151330Z",
     "iopub.status.busy": "2022-08-04T00:44:37.146221Z",
     "iopub.status.idle": "2022-08-04T00:44:37.166943Z",
     "shell.execute_reply": "2022-08-04T00:44:37.167396Z"
    },
    "papermill": {
     "duration": 0.051257,
     "end_time": "2022-08-04T00:44:37.167524",
     "exception": false,
     "start_time": "2022-08-04T00:44:37.116267",
     "status": "completed"
    },
    "tags": []
   },
   "outputs": [],
   "source": [
    "train_filter = np.where((train_labels == 3 ) | (train_labels == 8))\n",
    "test_filter = np.where((test_labels == 3) | (test_labels == 8))\n",
    "X_train, y_train = train_images[train_filter], train_labels[train_filter]\n",
    "X_test, y_test = test_images[test_filter], test_labels[test_filter]"
   ]
  },
  {
   "cell_type": "markdown",
   "id": "948f0b7e",
   "metadata": {
    "papermill": {
     "duration": 0.024642,
     "end_time": "2022-08-04T00:44:37.216772",
     "exception": false,
     "start_time": "2022-08-04T00:44:37.192130",
     "status": "completed"
    },
    "tags": []
   },
   "source": [
    "We normalize the pizel values in the 0 to 1 range"
   ]
  },
  {
   "cell_type": "code",
   "execution_count": 11,
   "id": "ee4c2166",
   "metadata": {
    "execution": {
     "iopub.execute_input": "2022-08-04T00:44:37.275647Z",
     "iopub.status.busy": "2022-08-04T00:44:37.274952Z",
     "iopub.status.idle": "2022-08-04T00:44:37.330132Z",
     "shell.execute_reply": "2022-08-04T00:44:37.329054Z"
    },
    "papermill": {
     "duration": 0.087895,
     "end_time": "2022-08-04T00:44:37.330355",
     "exception": false,
     "start_time": "2022-08-04T00:44:37.242460",
     "status": "completed"
    },
    "tags": []
   },
   "outputs": [],
   "source": [
    "X_train = X_train/255.\n",
    "X_test = X_test/255."
   ]
  },
  {
   "cell_type": "markdown",
   "id": "ddcf4fab",
   "metadata": {
    "papermill": {
     "duration": 0.025888,
     "end_time": "2022-08-04T00:44:37.384266",
     "exception": false,
     "start_time": "2022-08-04T00:44:37.358378",
     "status": "completed"
    },
    "tags": []
   },
   "source": [
    "And setup the labels as 1 (when the digit is 3) and 0 (when the digit is 8)"
   ]
  },
  {
   "cell_type": "code",
   "execution_count": 12,
   "id": "7dc908f2",
   "metadata": {
    "execution": {
     "iopub.execute_input": "2022-08-04T00:44:37.440675Z",
     "iopub.status.busy": "2022-08-04T00:44:37.440088Z",
     "iopub.status.idle": "2022-08-04T00:44:37.455588Z",
     "shell.execute_reply": "2022-08-04T00:44:37.454921Z"
    },
    "papermill": {
     "duration": 0.047216,
     "end_time": "2022-08-04T00:44:37.455714",
     "exception": false,
     "start_time": "2022-08-04T00:44:37.408498",
     "status": "completed"
    },
    "tags": []
   },
   "outputs": [],
   "source": [
    "y_train = 1*(y_train==3)\n",
    "y_test = 1*(y_test==3)"
   ]
  },
  {
   "cell_type": "code",
   "execution_count": 13,
   "id": "01e4e969",
   "metadata": {
    "execution": {
     "iopub.execute_input": "2022-08-04T00:44:37.512150Z",
     "iopub.status.busy": "2022-08-04T00:44:37.511518Z",
     "iopub.status.idle": "2022-08-04T00:44:37.527669Z",
     "shell.execute_reply": "2022-08-04T00:44:37.527147Z"
    },
    "papermill": {
     "duration": 0.047191,
     "end_time": "2022-08-04T00:44:37.527787",
     "exception": false,
     "start_time": "2022-08-04T00:44:37.480596",
     "status": "completed"
    },
    "tags": []
   },
   "outputs": [
    {
     "data": {
      "text/plain": [
       "((11982, 28, 28), (1984, 28, 28))"
      ]
     },
     "execution_count": 13,
     "metadata": {},
     "output_type": "execute_result"
    }
   ],
   "source": [
    "X_train.shape, X_test.shape"
   ]
  },
  {
   "cell_type": "markdown",
   "id": "5ccf3f85",
   "metadata": {
    "papermill": {
     "duration": 0.024636,
     "end_time": "2022-08-04T00:44:37.577129",
     "exception": false,
     "start_time": "2022-08-04T00:44:37.552493",
     "status": "completed"
    },
    "tags": []
   },
   "source": [
    "We reshape the data to flatten the image pixels into a set of features or co-variates:"
   ]
  },
  {
   "cell_type": "code",
   "execution_count": 14,
   "id": "5286a4a3",
   "metadata": {
    "execution": {
     "iopub.execute_input": "2022-08-04T00:44:37.632650Z",
     "iopub.status.busy": "2022-08-04T00:44:37.632101Z",
     "iopub.status.idle": "2022-08-04T00:44:37.650508Z",
     "shell.execute_reply": "2022-08-04T00:44:37.650023Z"
    },
    "papermill": {
     "duration": 0.0485,
     "end_time": "2022-08-04T00:44:37.650611",
     "exception": false,
     "start_time": "2022-08-04T00:44:37.602111",
     "status": "completed"
    },
    "tags": []
   },
   "outputs": [
    {
     "data": {
      "text/plain": [
       "((11982, 784), (1984, 784))"
      ]
     },
     "execution_count": 14,
     "metadata": {},
     "output_type": "execute_result"
    }
   ],
   "source": [
    "X_train = X_train.reshape(X_train.shape[0], -1)\n",
    "X_test = X_test.reshape(X_test.shape[0], -1)\n",
    "X_train.shape, X_test.shape"
   ]
  },
  {
   "cell_type": "code",
   "execution_count": 15,
   "id": "73c5f88a",
   "metadata": {
    "execution": {
     "iopub.execute_input": "2022-08-04T00:44:37.710281Z",
     "iopub.status.busy": "2022-08-04T00:44:37.709578Z",
     "iopub.status.idle": "2022-08-04T00:44:37.729114Z",
     "shell.execute_reply": "2022-08-04T00:44:37.729745Z"
    },
    "papermill": {
     "duration": 0.053883,
     "end_time": "2022-08-04T00:44:37.729892",
     "exception": false,
     "start_time": "2022-08-04T00:44:37.676009",
     "status": "completed"
    },
    "tags": []
   },
   "outputs": [],
   "source": [
    "#Impoting functions from 'Kudzu'\n",
    "from kudzu.model import Model\n",
    "from kudzu.train import Learner\n",
    "from kudzu.optim import GD\n",
    "from kudzu.data import Data, Sampler,Dataloader\n",
    "\n",
    "from kudzu.callbacks import AccCallback\n",
    "from kudzu.callbacks import ClfCallback\n",
    "\n",
    "from kudzu.loss import MSE\n",
    "\n",
    "from kudzu.layer import Sigmoid,Relu\n",
    "from kudzu.layer import Affine"
   ]
  },
  {
   "cell_type": "markdown",
   "id": "bc01172a",
   "metadata": {
    "papermill": {
     "duration": 0.025624,
     "end_time": "2022-08-04T00:44:37.784830",
     "exception": false,
     "start_time": "2022-08-04T00:44:37.759206",
     "status": "completed"
    },
    "tags": []
   },
   "source": [
    "### Let us create a `Config` class, to store important parameters. \n",
    "This class essentially plays the role of a dictionary."
   ]
  },
  {
   "cell_type": "code",
   "execution_count": 16,
   "id": "978281aa",
   "metadata": {
    "execution": {
     "iopub.execute_input": "2022-08-04T00:44:37.845772Z",
     "iopub.status.busy": "2022-08-04T00:44:37.845041Z",
     "iopub.status.idle": "2022-08-04T00:44:37.860732Z",
     "shell.execute_reply": "2022-08-04T00:44:37.860057Z"
    },
    "papermill": {
     "duration": 0.04961,
     "end_time": "2022-08-04T00:44:37.860850",
     "exception": false,
     "start_time": "2022-08-04T00:44:37.811240",
     "status": "completed"
    },
    "tags": []
   },
   "outputs": [],
   "source": [
    "class Config:\n",
    "    pass\n",
    "config = Config()\n",
    "config.lr = 0.001\n",
    "config.num_epochs = 250\n",
    "config.bs = 50"
   ]
  },
  {
   "cell_type": "markdown",
   "id": "1385fa59",
   "metadata": {
    "papermill": {
     "duration": 0.029227,
     "end_time": "2022-08-04T00:44:37.919658",
     "exception": false,
     "start_time": "2022-08-04T00:44:37.890431",
     "status": "completed"
    },
    "tags": []
   },
   "source": [
    "### Running Models with the Training data\n",
    "Details about the network layers:\n",
    "- A first affine layer has 784 inputs and does 100 affine transforms. These are followed by a Relu\n",
    "- A second affine layer has 100 inputs from the 100 activations of the past layer, and does 100 affine transforms. These are followed by a Relu\n",
    "- A third affine layer has 100 activations and does 2 affine transformations to create an embedding for visualization. There is no non-linearity here.\n",
    "- A final \"logistic regression\" which has an affine transform from 2 inputs to 1 output, which is squeezed through a sigmoid.\n"
   ]
  },
  {
   "cell_type": "code",
   "execution_count": 17,
   "id": "2b9c66db",
   "metadata": {
    "execution": {
     "iopub.execute_input": "2022-08-04T00:44:37.980062Z",
     "iopub.status.busy": "2022-08-04T00:44:37.979417Z",
     "iopub.status.idle": "2022-08-04T00:44:37.993690Z",
     "shell.execute_reply": "2022-08-04T00:44:37.994255Z"
    },
    "papermill": {
     "duration": 0.046815,
     "end_time": "2022-08-04T00:44:37.994402",
     "exception": false,
     "start_time": "2022-08-04T00:44:37.947587",
     "status": "completed"
    },
    "tags": []
   },
   "outputs": [],
   "source": [
    "data = Data(X_train, y_train.reshape(-1,1))\n",
    "sampler = Sampler(data, config.bs, shuffle=True)\n",
    "\n",
    "dl = Dataloader(data, sampler)\n",
    "\n",
    "opt = GD(config.lr)\n",
    "loss = MSE()"
   ]
  },
  {
   "cell_type": "code",
   "execution_count": 18,
   "id": "b275e4c2",
   "metadata": {
    "execution": {
     "iopub.execute_input": "2022-08-04T00:44:38.053714Z",
     "iopub.status.busy": "2022-08-04T00:44:38.053138Z",
     "iopub.status.idle": "2022-08-04T00:44:38.065930Z",
     "shell.execute_reply": "2022-08-04T00:44:38.065359Z"
    },
    "papermill": {
     "duration": 0.044989,
     "end_time": "2022-08-04T00:44:38.066047",
     "exception": false,
     "start_time": "2022-08-04T00:44:38.021058",
     "status": "completed"
    },
    "tags": []
   },
   "outputs": [],
   "source": [
    "training_data_x = X_train\n",
    "testing_data_x = X_test\n",
    "training_data_y = y_train.reshape(-1,1)\n",
    "testing_data_y = y_test.reshape(-1,1)"
   ]
  },
  {
   "cell_type": "code",
   "execution_count": 19,
   "id": "76951160",
   "metadata": {
    "execution": {
     "iopub.execute_input": "2022-08-04T00:44:38.122425Z",
     "iopub.status.busy": "2022-08-04T00:44:38.121937Z",
     "iopub.status.idle": "2022-08-04T00:44:38.138134Z",
     "shell.execute_reply": "2022-08-04T00:44:38.137739Z"
    },
    "papermill": {
     "duration": 0.046845,
     "end_time": "2022-08-04T00:44:38.138223",
     "exception": false,
     "start_time": "2022-08-04T00:44:38.091378",
     "status": "completed"
    },
    "tags": []
   },
   "outputs": [
    {
     "name": "stdout",
     "output_type": "stream",
     "text": [
      "xavier\n",
      "xavier\n",
      "xavier\n",
      "xavier\n",
      "xavier\n"
     ]
    }
   ],
   "source": [
    "layers = [Affine(\"first\", 784, 100), Relu(\"first\"), Affine(\"second\", 100, 100), Relu(\"second\"), Affine(\"third\", 100, 2), Affine(\"last\", 2, 1), Sigmoid(\"last\")]\n",
    "model_nn = Model(layers)\n",
    "model_lr = Model([Affine(\"logits\", 784, 1), Sigmoid(\"sigmoid\")])"
   ]
  },
  {
   "cell_type": "code",
   "execution_count": 20,
   "id": "6eede77a",
   "metadata": {
    "execution": {
     "iopub.execute_input": "2022-08-04T00:44:38.191661Z",
     "iopub.status.busy": "2022-08-04T00:44:38.190774Z",
     "iopub.status.idle": "2022-08-04T00:44:38.205684Z",
     "shell.execute_reply": "2022-08-04T00:44:38.206088Z"
    },
    "papermill": {
     "duration": 0.042922,
     "end_time": "2022-08-04T00:44:38.206207",
     "exception": false,
     "start_time": "2022-08-04T00:44:38.163285",
     "status": "completed"
    },
    "tags": []
   },
   "outputs": [],
   "source": [
    "nn_learner = Learner(loss, model_nn, opt, config.num_epochs)\n",
    "acc_nn = ClfCallback(nn_learner, config.bs, training_data_x , testing_data_x, training_data_y, testing_data_y)\n",
    "nn_learner.set_callbacks([acc_nn])"
   ]
  },
  {
   "cell_type": "code",
   "execution_count": 21,
   "id": "877b6cc7",
   "metadata": {
    "execution": {
     "iopub.execute_input": "2022-08-04T00:44:38.259959Z",
     "iopub.status.busy": "2022-08-04T00:44:38.259291Z",
     "iopub.status.idle": "2022-08-04T00:44:38.274403Z",
     "shell.execute_reply": "2022-08-04T00:44:38.274856Z"
    },
    "papermill": {
     "duration": 0.044825,
     "end_time": "2022-08-04T00:44:38.274970",
     "exception": false,
     "start_time": "2022-08-04T00:44:38.230145",
     "status": "completed"
    },
    "tags": []
   },
   "outputs": [],
   "source": [
    "lr_learner = Learner(loss, model_lr, opt, config.num_epochs)\n",
    "acc_lr = ClfCallback(lr_learner, config.bs, training_data_x , testing_data_x, training_data_y, testing_data_y)\n",
    "lr_learner.set_callbacks([acc_lr])"
   ]
  },
  {
   "cell_type": "code",
   "execution_count": 22,
   "id": "d9b133c3",
   "metadata": {
    "execution": {
     "iopub.execute_input": "2022-08-04T00:44:38.327931Z",
     "iopub.status.busy": "2022-08-04T00:44:38.327397Z",
     "iopub.status.idle": "2022-08-04T00:45:59.917533Z",
     "shell.execute_reply": "2022-08-04T00:45:59.918567Z"
    },
    "papermill": {
     "duration": 81.620454,
     "end_time": "2022-08-04T00:45:59.918739",
     "exception": false,
     "start_time": "2022-08-04T00:44:38.298285",
     "status": "completed"
    },
    "tags": []
   },
   "outputs": [
    {
     "name": "stdout",
     "output_type": "stream",
     "text": [
      "Epoch 0, Loss 0.2333\n",
      "Training Accuracy: 0.6882, Testing Accuracy: 0.6754\n",
      "\n"
     ]
    },
    {
     "name": "stdout",
     "output_type": "stream",
     "text": [
      "Epoch 10, Loss 0.0984\n",
      "Training Accuracy: 0.9124, Testing Accuracy: 0.9269\n",
      "\n"
     ]
    },
    {
     "name": "stdout",
     "output_type": "stream",
     "text": [
      "Epoch 20, Loss 0.058\n",
      "Training Accuracy: 0.9413, Testing Accuracy: 0.9521\n",
      "\n"
     ]
    },
    {
     "name": "stdout",
     "output_type": "stream",
     "text": [
      "Epoch 30, Loss 0.0447\n",
      "Training Accuracy: 0.9531, Testing Accuracy: 0.9587\n",
      "\n"
     ]
    },
    {
     "name": "stdout",
     "output_type": "stream",
     "text": [
      "Epoch 40, Loss 0.0383\n",
      "Training Accuracy: 0.9577, Testing Accuracy: 0.9667\n",
      "\n"
     ]
    },
    {
     "name": "stdout",
     "output_type": "stream",
     "text": [
      "Epoch 50, Loss 0.0346\n",
      "Training Accuracy: 0.9605, Testing Accuracy: 0.9672\n",
      "\n"
     ]
    },
    {
     "name": "stdout",
     "output_type": "stream",
     "text": [
      "Epoch 60, Loss 0.0321\n",
      "Training Accuracy: 0.9642, Testing Accuracy: 0.9688\n",
      "\n"
     ]
    },
    {
     "name": "stdout",
     "output_type": "stream",
     "text": [
      "Epoch 70, Loss 0.0302\n",
      "Training Accuracy: 0.9649, Testing Accuracy: 0.9693\n",
      "\n"
     ]
    },
    {
     "name": "stdout",
     "output_type": "stream",
     "text": [
      "Epoch 80, Loss 0.0287\n",
      "Training Accuracy: 0.9668, Testing Accuracy: 0.9708\n",
      "\n"
     ]
    },
    {
     "name": "stdout",
     "output_type": "stream",
     "text": [
      "Epoch 90, Loss 0.0276\n",
      "Training Accuracy: 0.9682, Testing Accuracy: 0.9693\n",
      "\n"
     ]
    },
    {
     "name": "stdout",
     "output_type": "stream",
     "text": [
      "Epoch 100, Loss 0.0265\n",
      "Training Accuracy: 0.9695, Testing Accuracy: 0.9693\n",
      "\n"
     ]
    },
    {
     "name": "stdout",
     "output_type": "stream",
     "text": [
      "Epoch 110, Loss 0.0257\n",
      "Training Accuracy: 0.9705, Testing Accuracy: 0.9698\n",
      "\n"
     ]
    },
    {
     "name": "stdout",
     "output_type": "stream",
     "text": [
      "Epoch 120, Loss 0.0249\n",
      "Training Accuracy: 0.9719, Testing Accuracy: 0.9713\n",
      "\n"
     ]
    },
    {
     "name": "stdout",
     "output_type": "stream",
     "text": [
      "Epoch 130, Loss 0.0242\n",
      "Training Accuracy: 0.9727, Testing Accuracy: 0.9713\n",
      "\n"
     ]
    },
    {
     "name": "stdout",
     "output_type": "stream",
     "text": [
      "Epoch 140, Loss 0.0235\n",
      "Training Accuracy: 0.9733, Testing Accuracy: 0.9708\n",
      "\n"
     ]
    },
    {
     "name": "stdout",
     "output_type": "stream",
     "text": [
      "Epoch 150, Loss 0.023\n",
      "Training Accuracy: 0.9739, Testing Accuracy: 0.9718\n",
      "\n"
     ]
    },
    {
     "name": "stdout",
     "output_type": "stream",
     "text": [
      "Epoch 160, Loss 0.0224\n",
      "Training Accuracy: 0.9748, Testing Accuracy: 0.9708\n",
      "\n"
     ]
    },
    {
     "name": "stdout",
     "output_type": "stream",
     "text": [
      "Epoch 170, Loss 0.0219\n",
      "Training Accuracy: 0.9754, Testing Accuracy: 0.9708\n",
      "\n"
     ]
    },
    {
     "name": "stdout",
     "output_type": "stream",
     "text": [
      "Epoch 180, Loss 0.0215\n",
      "Training Accuracy: 0.9759, Testing Accuracy: 0.9708\n",
      "\n"
     ]
    },
    {
     "name": "stdout",
     "output_type": "stream",
     "text": [
      "Epoch 190, Loss 0.021\n",
      "Training Accuracy: 0.9761, Testing Accuracy: 0.9708\n",
      "\n"
     ]
    },
    {
     "name": "stdout",
     "output_type": "stream",
     "text": [
      "Epoch 200, Loss 0.0206\n",
      "Training Accuracy: 0.9766, Testing Accuracy: 0.9708\n",
      "\n"
     ]
    },
    {
     "name": "stdout",
     "output_type": "stream",
     "text": [
      "Epoch 210, Loss 0.0202\n",
      "Training Accuracy: 0.9773, Testing Accuracy: 0.9708\n",
      "\n"
     ]
    },
    {
     "name": "stdout",
     "output_type": "stream",
     "text": [
      "Epoch 220, Loss 0.0198\n",
      "Training Accuracy: 0.9779, Testing Accuracy: 0.9708\n",
      "\n"
     ]
    },
    {
     "name": "stdout",
     "output_type": "stream",
     "text": [
      "Epoch 230, Loss 0.0195\n",
      "Training Accuracy: 0.9781, Testing Accuracy: 0.9713\n",
      "\n"
     ]
    },
    {
     "name": "stdout",
     "output_type": "stream",
     "text": [
      "Epoch 240, Loss 0.0191\n",
      "Training Accuracy: 0.9786, Testing Accuracy: 0.9713\n",
      "\n"
     ]
    },
    {
     "data": {
      "text/plain": [
       "0.006537865987299482"
      ]
     },
     "execution_count": 22,
     "metadata": {},
     "output_type": "execute_result"
    }
   ],
   "source": [
    "nn_learner.train_loop(dl)"
   ]
  },
  {
   "cell_type": "code",
   "execution_count": 23,
   "id": "e0163366",
   "metadata": {
    "execution": {
     "iopub.execute_input": "2022-08-04T00:46:00.011076Z",
     "iopub.status.busy": "2022-08-04T00:46:00.010376Z",
     "iopub.status.idle": "2022-08-04T00:46:14.487696Z",
     "shell.execute_reply": "2022-08-04T00:46:14.488659Z"
    },
    "papermill": {
     "duration": 14.530543,
     "end_time": "2022-08-04T00:46:14.488830",
     "exception": false,
     "start_time": "2022-08-04T00:45:59.958287",
     "status": "completed"
    },
    "tags": []
   },
   "outputs": [
    {
     "name": "stdout",
     "output_type": "stream",
     "text": [
      "Epoch 0, Loss 0.2394\n",
      "Training Accuracy: 0.6957, Testing Accuracy: 0.6794\n",
      "\n"
     ]
    },
    {
     "name": "stdout",
     "output_type": "stream",
     "text": [
      "Epoch 10, Loss 0.1035\n",
      "Training Accuracy: 0.9077, Testing Accuracy: 0.9204\n",
      "\n"
     ]
    },
    {
     "name": "stdout",
     "output_type": "stream",
     "text": [
      "Epoch 20, Loss 0.0797\n",
      "Training Accuracy: 0.9244, Testing Accuracy: 0.9420\n",
      "\n"
     ]
    },
    {
     "name": "stdout",
     "output_type": "stream",
     "text": [
      "Epoch 30, Loss 0.0688\n",
      "Training Accuracy: 0.9337, Testing Accuracy: 0.9486\n",
      "\n"
     ]
    },
    {
     "name": "stdout",
     "output_type": "stream",
     "text": [
      "Epoch 40, Loss 0.0622\n",
      "Training Accuracy: 0.9392, Testing Accuracy: 0.9521\n",
      "\n"
     ]
    },
    {
     "name": "stdout",
     "output_type": "stream",
     "text": [
      "Epoch 50, Loss 0.0577\n",
      "Training Accuracy: 0.9433, Testing Accuracy: 0.9541\n",
      "\n"
     ]
    },
    {
     "name": "stdout",
     "output_type": "stream",
     "text": [
      "Epoch 60, Loss 0.0544\n",
      "Training Accuracy: 0.9461, Testing Accuracy: 0.9556\n",
      "\n"
     ]
    },
    {
     "name": "stdout",
     "output_type": "stream",
     "text": [
      "Epoch 70, Loss 0.0518\n",
      "Training Accuracy: 0.9483, Testing Accuracy: 0.9597\n",
      "\n"
     ]
    },
    {
     "name": "stdout",
     "output_type": "stream",
     "text": [
      "Epoch 80, Loss 0.0497\n",
      "Training Accuracy: 0.9502, Testing Accuracy: 0.9607\n",
      "\n"
     ]
    },
    {
     "name": "stdout",
     "output_type": "stream",
     "text": [
      "Epoch 90, Loss 0.048\n",
      "Training Accuracy: 0.9513, Testing Accuracy: 0.9612\n",
      "\n"
     ]
    },
    {
     "name": "stdout",
     "output_type": "stream",
     "text": [
      "Epoch 100, Loss 0.0466\n",
      "Training Accuracy: 0.9526, Testing Accuracy: 0.9612\n",
      "\n"
     ]
    },
    {
     "name": "stdout",
     "output_type": "stream",
     "text": [
      "Epoch 110, Loss 0.0454\n",
      "Training Accuracy: 0.9541, Testing Accuracy: 0.9622\n",
      "\n"
     ]
    },
    {
     "name": "stdout",
     "output_type": "stream",
     "text": [
      "Epoch 120, Loss 0.0443\n",
      "Training Accuracy: 0.9544, Testing Accuracy: 0.9637\n",
      "\n"
     ]
    },
    {
     "name": "stdout",
     "output_type": "stream",
     "text": [
      "Epoch 130, Loss 0.0433\n",
      "Training Accuracy: 0.9549, Testing Accuracy: 0.9637\n",
      "\n"
     ]
    },
    {
     "name": "stdout",
     "output_type": "stream",
     "text": [
      "Epoch 140, Loss 0.0425\n",
      "Training Accuracy: 0.9558, Testing Accuracy: 0.9642\n",
      "\n"
     ]
    },
    {
     "name": "stdout",
     "output_type": "stream",
     "text": [
      "Epoch 150, Loss 0.0417\n",
      "Training Accuracy: 0.9564, Testing Accuracy: 0.9647\n",
      "\n"
     ]
    },
    {
     "name": "stdout",
     "output_type": "stream",
     "text": [
      "Epoch 160, Loss 0.0411\n",
      "Training Accuracy: 0.9569, Testing Accuracy: 0.9657\n",
      "\n"
     ]
    },
    {
     "name": "stdout",
     "output_type": "stream",
     "text": [
      "Epoch 170, Loss 0.0404\n",
      "Training Accuracy: 0.9576, Testing Accuracy: 0.9667\n",
      "\n"
     ]
    },
    {
     "name": "stdout",
     "output_type": "stream",
     "text": [
      "Epoch 180, Loss 0.0399\n",
      "Training Accuracy: 0.9585, Testing Accuracy: 0.9677\n",
      "\n"
     ]
    },
    {
     "name": "stdout",
     "output_type": "stream",
     "text": [
      "Epoch 190, Loss 0.0394\n",
      "Training Accuracy: 0.9586, Testing Accuracy: 0.9677\n",
      "\n"
     ]
    },
    {
     "name": "stdout",
     "output_type": "stream",
     "text": [
      "Epoch 200, Loss 0.0389\n",
      "Training Accuracy: 0.9593, Testing Accuracy: 0.9682\n",
      "\n"
     ]
    },
    {
     "name": "stdout",
     "output_type": "stream",
     "text": [
      "Epoch 210, Loss 0.0384\n",
      "Training Accuracy: 0.9597, Testing Accuracy: 0.9682\n",
      "\n"
     ]
    },
    {
     "name": "stdout",
     "output_type": "stream",
     "text": [
      "Epoch 220, Loss 0.038\n",
      "Training Accuracy: 0.9599, Testing Accuracy: 0.9682\n",
      "\n"
     ]
    },
    {
     "name": "stdout",
     "output_type": "stream",
     "text": [
      "Epoch 230, Loss 0.0376\n",
      "Training Accuracy: 0.9603, Testing Accuracy: 0.9682\n",
      "\n"
     ]
    },
    {
     "name": "stdout",
     "output_type": "stream",
     "text": [
      "Epoch 240, Loss 0.0372\n",
      "Training Accuracy: 0.9606, Testing Accuracy: 0.9682\n",
      "\n"
     ]
    },
    {
     "data": {
      "text/plain": [
       "0.014249550283624086"
      ]
     },
     "execution_count": 23,
     "metadata": {},
     "output_type": "execute_result"
    }
   ],
   "source": [
    "lr_learner.train_loop(dl)"
   ]
  },
  {
   "cell_type": "code",
   "execution_count": 24,
   "id": "ca410940",
   "metadata": {
    "execution": {
     "iopub.execute_input": "2022-08-04T00:46:14.583629Z",
     "iopub.status.busy": "2022-08-04T00:46:14.582763Z",
     "iopub.status.idle": "2022-08-04T00:46:14.812385Z",
     "shell.execute_reply": "2022-08-04T00:46:14.812804Z"
    },
    "papermill": {
     "duration": 0.280781,
     "end_time": "2022-08-04T00:46:14.812944",
     "exception": false,
     "start_time": "2022-08-04T00:46:14.532163",
     "status": "completed"
    },
    "tags": []
   },
   "outputs": [
    {
     "data": {
      "text/plain": [
       "<matplotlib.legend.Legend at 0x7ff92f88fb38>"
      ]
     },
     "execution_count": 24,
     "metadata": {},
     "output_type": "execute_result"
    },
    {
     "data": {
      "image/png": "[encoded data removed]",
      "text/plain": [
       "<Figure size 1080x720 with 1 Axes>"
      ]
     },
     "metadata": {
      "needs_background": "light"
     },
     "output_type": "display_data"
    }
   ],
   "source": [
    "#comparing the results of NN and LR\n",
    "plt.figure(figsize=(15,10))\n",
    "\n",
    "# Neural Network plots\n",
    "plt.plot(acc_nn.accuracies, 'r-', label = \"Training Accuracies - NN\")\n",
    "plt.plot(acc_nn.test_accuracies, 'g-', label = \"Testing Accuracies - NN\")\n",
    "\n",
    "# Logistic Regression plots\n",
    "plt.plot(acc_lr.accuracies, 'k-', label = \"Training Accuracies - LR\")\n",
    "plt.plot(acc_lr.test_accuracies, 'b-', label = \"Testing Accuracies - LR\")\n",
    "plt.legend()"
   ]
  },
  {
   "cell_type": "markdown",
   "id": "80dfb35c",
   "metadata": {
    "papermill": {
     "duration": 0.041033,
     "end_time": "2022-08-04T00:46:14.894813",
     "exception": false,
     "start_time": "2022-08-04T00:46:14.853780",
     "status": "completed"
    },
    "tags": []
   },
   "source": [
    "#### Plotting the outputs of this layer of the NN.\n"
   ]
  },
  {
   "cell_type": "code",
   "execution_count": 25,
   "id": "45eb2ff5",
   "metadata": {
    "execution": {
     "iopub.execute_input": "2022-08-04T00:46:14.983364Z",
     "iopub.status.busy": "2022-08-04T00:46:14.980608Z",
     "iopub.status.idle": "2022-08-04T00:46:15.001929Z",
     "shell.execute_reply": "2022-08-04T00:46:15.002460Z"
    },
    "papermill": {
     "duration": 0.068352,
     "end_time": "2022-08-04T00:46:15.002591",
     "exception": false,
     "start_time": "2022-08-04T00:46:14.934239",
     "status": "completed"
    },
    "tags": []
   },
   "outputs": [],
   "source": [
    "new_model = Model(layers[:-2])\n",
    "testing_plot = new_model(testing_data_x)"
   ]
  },
  {
   "cell_type": "code",
   "execution_count": 26,
   "id": "4c0a5485",
   "metadata": {
    "execution": {
     "iopub.execute_input": "2022-08-04T00:46:15.092951Z",
     "iopub.status.busy": "2022-08-04T00:46:15.088961Z",
     "iopub.status.idle": "2022-08-04T00:46:15.309078Z",
     "shell.execute_reply": "2022-08-04T00:46:15.308548Z"
    },
    "papermill": {
     "duration": 0.265554,
     "end_time": "2022-08-04T00:46:15.309180",
     "exception": false,
     "start_time": "2022-08-04T00:46:15.043626",
     "status": "completed"
    },
    "tags": []
   },
   "outputs": [
    {
     "data": {
      "text/plain": [
       "Text(0.5, 1.0, 'Outputs')"
      ]
     },
     "execution_count": 26,
     "metadata": {},
     "output_type": "execute_result"
    },
    {
     "data": {
      "image/png": "[encoded data removed]",
      "text/plain": [
       "<Figure size 576x504 with 1 Axes>"
      ]
     },
     "metadata": {
      "needs_background": "light"
     },
     "output_type": "display_data"
    }
   ],
   "source": [
    "# Plotting the scatter plot of points and color coding by class\n",
    "plt.figure(figsize=(8,7))\n",
    "plt.scatter(testing_plot[:,0], testing_plot[:,1], alpha = 0.1, c = y_test.ravel());\n",
    "plt.title('Outputs')"
   ]
  },
  {
   "cell_type": "markdown",
   "id": "a74fcf8f",
   "metadata": {
    "papermill": {
     "duration": 0.048187,
     "end_time": "2022-08-04T00:46:15.406132",
     "exception": false,
     "start_time": "2022-08-04T00:46:15.357945",
     "status": "completed"
    },
    "tags": []
   },
   "source": [
    "Probability contours"
   ]
  },
  {
   "cell_type": "code",
   "execution_count": 27,
   "id": "d0afc8e3",
   "metadata": {
    "execution": {
     "iopub.execute_input": "2022-08-04T00:46:15.539680Z",
     "iopub.status.busy": "2022-08-04T00:46:15.538501Z",
     "iopub.status.idle": "2022-08-04T00:46:15.550889Z",
     "shell.execute_reply": "2022-08-04T00:46:15.550329Z"
    },
    "papermill": {
     "duration": 0.096098,
     "end_time": "2022-08-04T00:46:15.551013",
     "exception": false,
     "start_time": "2022-08-04T00:46:15.454915",
     "status": "completed"
    },
    "tags": []
   },
   "outputs": [],
   "source": [
    "model_prob = Model(layers[-2:]) "
   ]
  },
  {
   "cell_type": "code",
   "execution_count": 28,
   "id": "9b96e238",
   "metadata": {
    "execution": {
     "iopub.execute_input": "2022-08-04T00:46:15.647878Z",
     "iopub.status.busy": "2022-08-04T00:46:15.647175Z",
     "iopub.status.idle": "2022-08-04T00:46:15.664889Z",
     "shell.execute_reply": "2022-08-04T00:46:15.665381Z"
    },
    "papermill": {
     "duration": 0.06737,
     "end_time": "2022-08-04T00:46:15.665514",
     "exception": false,
     "start_time": "2022-08-04T00:46:15.598144",
     "status": "completed"
    },
    "tags": []
   },
   "outputs": [],
   "source": [
    "#creating the x and y ranges according to the above generated plot.\n",
    "x_range = np.linspace(-4, 1, 100) \n",
    "y_range = np.linspace(-6, 6, 100) \n",
    "x_grid, y_grid = np.meshgrid(x_range, y_range) # x_grid and y_grig are of size 100 X 100\n",
    "\n",
    "# converting x_grid and y_grid to continuous arrays\n",
    "x_gridflat = np.ravel(x_grid)\n",
    "y_gridflat = np.ravel(y_grid)\n",
    "\n",
    "# The last layer of the current model takes two columns as input. Hence transpose of np.vstack() is required.\n",
    "X = np.vstack((x_gridflat, y_gridflat)).T\n",
    "\n",
    "prob_contour = model_prob(X).reshape(100,100) "
   ]
  },
  {
   "cell_type": "code",
   "execution_count": 29,
   "id": "da72499a",
   "metadata": {
    "execution": {
     "iopub.execute_input": "2022-08-04T00:46:15.768440Z",
     "iopub.status.busy": "2022-08-04T00:46:15.767797Z",
     "iopub.status.idle": "2022-08-04T00:46:16.024815Z",
     "shell.execute_reply": "2022-08-04T00:46:16.025481Z"
    },
    "papermill": {
     "duration": 0.31117,
     "end_time": "2022-08-04T00:46:16.025668",
     "exception": false,
     "start_time": "2022-08-04T00:46:15.714498",
     "status": "completed"
    },
    "tags": []
   },
   "outputs": [
    {
     "data": {
      "image/png": "[encoded data removed]",
      "text/plain": [
       "<Figure size 720x648 with 1 Axes>"
      ]
     },
     "metadata": {
      "needs_background": "light"
     },
     "output_type": "display_data"
    }
   ],
   "source": [
    "plt.figure(figsize=(10,9))\n",
    "plt.scatter(testing_plot[:,0], testing_plot[:,1], alpha = 0.1, c = y_test.ravel())\n",
    "contours = plt.contour(x_grid,y_grid,prob_contour)\n",
    "plt.title('Probability Contours')\n",
    "plt.clabel(contours, inline = True );"
   ]
  },
  {
   "cell_type": "code",
   "execution_count": null,
   "id": "e81b4ac7",
   "metadata": {
    "papermill": {
     "duration": 0.044471,
     "end_time": "2022-08-04T00:46:16.118961",
     "exception": false,
     "start_time": "2022-08-04T00:46:16.074490",
     "status": "completed"
    },
    "tags": []
   },
   "outputs": [],
   "source": []
  }
 ],
 "metadata": {
  "kernelspec": {
   "display_name": "Python 3",
   "language": "python",
   "name": "python3"
  },
  "language_info": {
   "codemirror_mode": {
    "name": "ipython",
    "version": 3
   },
   "file_extension": ".py",
   "mimetype": "text/x-python",
   "name": "python",
   "nbconvert_exporter": "python",
   "pygments_lexer": "ipython3",
   "version": "3.6.15"
  },
  "papermill": {
   "default_parameters": {},
   "duration": 104.840378,
   "end_time": "2022-08-04T00:46:16.584764",
   "environment_variables": {},
   "exception": null,
   "input_path": "2020-08-11-part2.ipynb",
   "output_path": "2020-08-11-part2.ipynb",
   "parameters": {},
   "start_time": "2022-08-04T00:44:31.744386",
   "version": "2.3.3"
  }
 },
 "nbformat": 4,
 "nbformat_minor": 5
}