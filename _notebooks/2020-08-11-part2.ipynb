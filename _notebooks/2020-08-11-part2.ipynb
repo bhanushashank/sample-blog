{
 "cells": [
  {
   "cell_type": "markdown",
   "id": "98380cd3",
   "metadata": {
    "papermill": {
     "duration": 0.035878,
     "end_time": "2022-02-22T10:10:47.924500",
     "exception": false,
     "start_time": "2022-02-22T10:10:47.888622",
     "status": "completed"
    },
    "tags": []
   },
   "source": [
    "# Distinguish Your Own Digits (DYOD)"
   ]
  },
  {
   "cell_type": "markdown",
   "id": "ef31240d",
   "metadata": {
    "papermill": {
     "duration": 0.03258,
     "end_time": "2022-02-22T10:10:47.990940",
     "exception": false,
     "start_time": "2022-02-22T10:10:47.958360",
     "status": "completed"
    },
    "tags": []
   },
   "source": [
    "You are going to write a classifier that distinguishes between the number 3 and number 8."
   ]
  },
  {
   "cell_type": "code",
   "execution_count": 1,
   "id": "b15c8646",
   "metadata": {
    "execution": {
     "iopub.execute_input": "2022-02-22T10:10:48.066048Z",
     "iopub.status.busy": "2022-02-22T10:10:48.065302Z",
     "iopub.status.idle": "2022-02-22T10:10:48.078762Z",
     "shell.execute_reply": "2022-02-22T10:10:48.079304Z"
    },
    "papermill": {
     "duration": 0.057849,
     "end_time": "2022-02-22T10:10:48.079513",
     "exception": false,
     "start_time": "2022-02-22T10:10:48.021664",
     "status": "completed"
    },
    "tags": []
   },
   "outputs": [],
   "source": [
    "%load_ext autoreload\n",
    "%autoreload 2"
   ]
  },
  {
   "cell_type": "code",
   "execution_count": 2,
   "id": "22ef38dc",
   "metadata": {
    "execution": {
     "iopub.execute_input": "2022-02-22T10:10:48.146711Z",
     "iopub.status.busy": "2022-02-22T10:10:48.145922Z",
     "iopub.status.idle": "2022-02-22T10:10:48.898622Z",
     "shell.execute_reply": "2022-02-22T10:10:48.897980Z"
    },
    "papermill": {
     "duration": 0.788128,
     "end_time": "2022-02-22T10:10:48.898785",
     "exception": false,
     "start_time": "2022-02-22T10:10:48.110657",
     "status": "completed"
    },
    "tags": []
   },
   "outputs": [],
   "source": [
    "%matplotlib inline\n",
    "import numpy as np\n",
    "import matplotlib.pyplot as plt\n",
    "import pandas as pd"
   ]
  },
  {
   "cell_type": "markdown",
   "id": "ba036198",
   "metadata": {
    "papermill": {
     "duration": 0.031774,
     "end_time": "2022-02-22T10:10:48.962014",
     "exception": false,
     "start_time": "2022-02-22T10:10:48.930240",
     "status": "completed"
    },
    "tags": []
   },
   "source": [
    "From the command line run `pip install mnist`. This is a library that will help you bring down the mnist dataset. If you run this from a notebook, you need to put  `!pip install mnist` in a cell by itself."
   ]
  },
  {
   "cell_type": "code",
   "execution_count": 3,
   "id": "bb6ad8a1",
   "metadata": {
    "execution": {
     "iopub.execute_input": "2022-02-22T10:10:49.031530Z",
     "iopub.status.busy": "2022-02-22T10:10:49.030821Z",
     "iopub.status.idle": "2022-02-22T10:10:51.950156Z",
     "shell.execute_reply": "2022-02-22T10:10:51.948891Z"
    },
    "papermill": {
     "duration": 2.954827,
     "end_time": "2022-02-22T10:10:51.950316",
     "exception": false,
     "start_time": "2022-02-22T10:10:48.995489",
     "status": "completed"
    },
    "tags": []
   },
   "outputs": [
    {
     "name": "stdout",
     "output_type": "stream",
     "text": [
      "Collecting mnist\r\n"
     ]
    },
    {
     "name": "stdout",
     "output_type": "stream",
     "text": [
      "  Downloading mnist-0.2.2-py2.py3-none-any.whl (3.5 kB)\r\n",
      "Requirement already satisfied: numpy in /opt/hostedtoolcache/Python/3.6.15/x64/lib/python3.6/site-packages (from mnist) (1.19.5)\r\n"
     ]
    },
    {
     "name": "stdout",
     "output_type": "stream",
     "text": [
      "Installing collected packages: mnist\r\n"
     ]
    },
    {
     "name": "stdout",
     "output_type": "stream",
     "text": [
      "Successfully installed mnist-0.2.2\r\n"
     ]
    }
   ],
   "source": [
    "!pip install mnist"
   ]
  },
  {
   "cell_type": "markdown",
   "id": "69df9c9a",
   "metadata": {
    "papermill": {
     "duration": 0.033296,
     "end_time": "2022-02-22T10:10:52.018723",
     "exception": false,
     "start_time": "2022-02-22T10:10:51.985427",
     "status": "completed"
    },
    "tags": []
   },
   "source": [
    "## Preparing the Data"
   ]
  },
  {
   "cell_type": "code",
   "execution_count": 4,
   "id": "7f69d806",
   "metadata": {
    "execution": {
     "iopub.execute_input": "2022-02-22T10:10:52.097060Z",
     "iopub.status.busy": "2022-02-22T10:10:52.093012Z",
     "iopub.status.idle": "2022-02-22T10:10:52.110173Z",
     "shell.execute_reply": "2022-02-22T10:10:52.109598Z"
    },
    "papermill": {
     "duration": 0.056376,
     "end_time": "2022-02-22T10:10:52.110329",
     "exception": false,
     "start_time": "2022-02-22T10:10:52.053953",
     "status": "completed"
    },
    "tags": []
   },
   "outputs": [],
   "source": [
    "import mnist"
   ]
  },
  {
   "cell_type": "code",
   "execution_count": 5,
   "id": "a411e44f",
   "metadata": {
    "execution": {
     "iopub.execute_input": "2022-02-22T10:10:52.181451Z",
     "iopub.status.busy": "2022-02-22T10:10:52.180763Z",
     "iopub.status.idle": "2022-02-22T10:10:52.774703Z",
     "shell.execute_reply": "2022-02-22T10:10:52.773946Z"
    },
    "papermill": {
     "duration": 0.631992,
     "end_time": "2022-02-22T10:10:52.774868",
     "exception": false,
     "start_time": "2022-02-22T10:10:52.142876",
     "status": "completed"
    },
    "tags": []
   },
   "outputs": [],
   "source": [
    "train_images = mnist.train_images()\n",
    "train_labels = mnist.train_labels()"
   ]
  },
  {
   "cell_type": "code",
   "execution_count": 6,
   "id": "dceab3a5",
   "metadata": {
    "execution": {
     "iopub.execute_input": "2022-02-22T10:10:52.847751Z",
     "iopub.status.busy": "2022-02-22T10:10:52.847052Z",
     "iopub.status.idle": "2022-02-22T10:10:52.862727Z",
     "shell.execute_reply": "2022-02-22T10:10:52.862078Z"
    },
    "papermill": {
     "duration": 0.055134,
     "end_time": "2022-02-22T10:10:52.862875",
     "exception": false,
     "start_time": "2022-02-22T10:10:52.807741",
     "status": "completed"
    },
    "tags": []
   },
   "outputs": [
    {
     "data": {
      "text/plain": [
       "((60000, 28, 28), (60000,))"
      ]
     },
     "execution_count": 6,
     "metadata": {},
     "output_type": "execute_result"
    }
   ],
   "source": [
    "train_images.shape, train_labels.shape"
   ]
  },
  {
   "cell_type": "code",
   "execution_count": 7,
   "id": "f50dc2bb",
   "metadata": {
    "execution": {
     "iopub.execute_input": "2022-02-22T10:10:52.938073Z",
     "iopub.status.busy": "2022-02-22T10:10:52.935624Z",
     "iopub.status.idle": "2022-02-22T10:10:53.080983Z",
     "shell.execute_reply": "2022-02-22T10:10:53.080310Z"
    },
    "papermill": {
     "duration": 0.184903,
     "end_time": "2022-02-22T10:10:53.081139",
     "exception": false,
     "start_time": "2022-02-22T10:10:52.896236",
     "status": "completed"
    },
    "tags": []
   },
   "outputs": [],
   "source": [
    "test_images = mnist.test_images()\n",
    "test_labels = mnist.test_labels()"
   ]
  },
  {
   "cell_type": "code",
   "execution_count": 8,
   "id": "fc38cf1b",
   "metadata": {
    "execution": {
     "iopub.execute_input": "2022-02-22T10:10:53.153633Z",
     "iopub.status.busy": "2022-02-22T10:10:53.152959Z",
     "iopub.status.idle": "2022-02-22T10:10:53.166757Z",
     "shell.execute_reply": "2022-02-22T10:10:53.166140Z"
    },
    "papermill": {
     "duration": 0.053079,
     "end_time": "2022-02-22T10:10:53.166907",
     "exception": false,
     "start_time": "2022-02-22T10:10:53.113828",
     "status": "completed"
    },
    "tags": []
   },
   "outputs": [
    {
     "data": {
      "text/plain": [
       "((10000, 28, 28), (10000,))"
      ]
     },
     "execution_count": 8,
     "metadata": {},
     "output_type": "execute_result"
    }
   ],
   "source": [
    "test_images.shape, test_labels.shape"
   ]
  },
  {
   "cell_type": "code",
   "execution_count": 9,
   "id": "f9ed8fe0",
   "metadata": {
    "execution": {
     "iopub.execute_input": "2022-02-22T10:10:53.259767Z",
     "iopub.status.busy": "2022-02-22T10:10:53.258917Z",
     "iopub.status.idle": "2022-02-22T10:10:53.447447Z",
     "shell.execute_reply": "2022-02-22T10:10:53.448003Z"
    },
    "papermill": {
     "duration": 0.240057,
     "end_time": "2022-02-22T10:10:53.448177",
     "exception": false,
     "start_time": "2022-02-22T10:10:53.208120",
     "status": "completed"
    },
    "tags": []
   },
   "outputs": [
    {
     "name": "stdout",
     "output_type": "stream",
     "text": [
      "2\n"
     ]
    },
    {
     "data": {
      "text/plain": [
       "<matplotlib.image.AxesImage at 0x7fc3824e2518>"
      ]
     },
     "execution_count": 9,
     "metadata": {},
     "output_type": "execute_result"
    },
    {
     "data": {
      "image/png": "[encoded data removed]",
      "text/plain": [
       "<Figure size 432x288 with 1 Axes>"
      ]
     },
     "metadata": {
      "needs_background": "light"
     },
     "output_type": "display_data"
    }
   ],
   "source": [
    "image_index = 7776 # You may select anything up to 60,000\n",
    "print(train_labels[image_index]) \n",
    "plt.imshow(train_images[image_index], cmap='Greys')"
   ]
  },
  {
   "cell_type": "markdown",
   "id": "a8d2388d",
   "metadata": {
    "papermill": {
     "duration": 0.034589,
     "end_time": "2022-02-22T10:10:53.516966",
     "exception": false,
     "start_time": "2022-02-22T10:10:53.482377",
     "status": "completed"
    },
    "tags": []
   },
   "source": [
    "## Filter data to get 3 and 8 out"
   ]
  },
  {
   "cell_type": "code",
   "execution_count": 10,
   "id": "776f7fc7",
   "metadata": {
    "execution": {
     "iopub.execute_input": "2022-02-22T10:10:53.595130Z",
     "iopub.status.busy": "2022-02-22T10:10:53.594403Z",
     "iopub.status.idle": "2022-02-22T10:10:53.615189Z",
     "shell.execute_reply": "2022-02-22T10:10:53.614588Z"
    },
    "papermill": {
     "duration": 0.063039,
     "end_time": "2022-02-22T10:10:53.615349",
     "exception": false,
     "start_time": "2022-02-22T10:10:53.552310",
     "status": "completed"
    },
    "tags": []
   },
   "outputs": [],
   "source": [
    "train_filter = np.where((train_labels == 3 ) | (train_labels == 8))\n",
    "test_filter = np.where((test_labels == 3) | (test_labels == 8))\n",
    "X_train, y_train = train_images[train_filter], train_labels[train_filter]\n",
    "X_test, y_test = test_images[test_filter], test_labels[test_filter]"
   ]
  },
  {
   "cell_type": "markdown",
   "id": "948f0b7e",
   "metadata": {
    "papermill": {
     "duration": 0.034349,
     "end_time": "2022-02-22T10:10:53.686588",
     "exception": false,
     "start_time": "2022-02-22T10:10:53.652239",
     "status": "completed"
    },
    "tags": []
   },
   "source": [
    "We normalize the pizel values in the 0 to 1 range"
   ]
  },
  {
   "cell_type": "code",
   "execution_count": 11,
   "id": "ee4c2166",
   "metadata": {
    "execution": {
     "iopub.execute_input": "2022-02-22T10:10:53.760381Z",
     "iopub.status.busy": "2022-02-22T10:10:53.759682Z",
     "iopub.status.idle": "2022-02-22T10:10:53.821994Z",
     "shell.execute_reply": "2022-02-22T10:10:53.822565Z"
    },
    "papermill": {
     "duration": 0.102046,
     "end_time": "2022-02-22T10:10:53.822756",
     "exception": false,
     "start_time": "2022-02-22T10:10:53.720710",
     "status": "completed"
    },
    "tags": []
   },
   "outputs": [],
   "source": [
    "X_train = X_train/255.\n",
    "X_test = X_test/255."
   ]
  },
  {
   "cell_type": "markdown",
   "id": "ddcf4fab",
   "metadata": {
    "papermill": {
     "duration": 0.034468,
     "end_time": "2022-02-22T10:10:53.894967",
     "exception": false,
     "start_time": "2022-02-22T10:10:53.860499",
     "status": "completed"
    },
    "tags": []
   },
   "source": [
    "And setup the labels as 1 (when the digit is 3) and 0 (when the digit is 8)"
   ]
  },
  {
   "cell_type": "code",
   "execution_count": 12,
   "id": "7dc908f2",
   "metadata": {
    "execution": {
     "iopub.execute_input": "2022-02-22T10:10:53.974322Z",
     "iopub.status.busy": "2022-02-22T10:10:53.973648Z",
     "iopub.status.idle": "2022-02-22T10:10:53.986102Z",
     "shell.execute_reply": "2022-02-22T10:10:53.985541Z"
    },
    "papermill": {
     "duration": 0.055821,
     "end_time": "2022-02-22T10:10:53.986255",
     "exception": false,
     "start_time": "2022-02-22T10:10:53.930434",
     "status": "completed"
    },
    "tags": []
   },
   "outputs": [],
   "source": [
    "y_train = 1*(y_train==3)\n",
    "y_test = 1*(y_test==3)"
   ]
  },
  {
   "cell_type": "code",
   "execution_count": 13,
   "id": "01e4e969",
   "metadata": {
    "execution": {
     "iopub.execute_input": "2022-02-22T10:10:54.060454Z",
     "iopub.status.busy": "2022-02-22T10:10:54.059576Z",
     "iopub.status.idle": "2022-02-22T10:10:54.074832Z",
     "shell.execute_reply": "2022-02-22T10:10:54.074245Z"
    },
    "papermill": {
     "duration": 0.054232,
     "end_time": "2022-02-22T10:10:54.074984",
     "exception": false,
     "start_time": "2022-02-22T10:10:54.020752",
     "status": "completed"
    },
    "tags": []
   },
   "outputs": [
    {
     "data": {
      "text/plain": [
       "((11982, 28, 28), (1984, 28, 28))"
      ]
     },
     "execution_count": 13,
     "metadata": {},
     "output_type": "execute_result"
    }
   ],
   "source": [
    "X_train.shape, X_test.shape"
   ]
  },
  {
   "cell_type": "markdown",
   "id": "5ccf3f85",
   "metadata": {
    "papermill": {
     "duration": 0.034504,
     "end_time": "2022-02-22T10:10:54.144409",
     "exception": false,
     "start_time": "2022-02-22T10:10:54.109905",
     "status": "completed"
    },
    "tags": []
   },
   "source": [
    "We reshape the data to flatten the image pixels into a set of features or co-variates:"
   ]
  },
  {
   "cell_type": "code",
   "execution_count": 14,
   "id": "5286a4a3",
   "metadata": {
    "execution": {
     "iopub.execute_input": "2022-02-22T10:10:54.220878Z",
     "iopub.status.busy": "2022-02-22T10:10:54.220189Z",
     "iopub.status.idle": "2022-02-22T10:10:54.234693Z",
     "shell.execute_reply": "2022-02-22T10:10:54.235276Z"
    },
    "papermill": {
     "duration": 0.056308,
     "end_time": "2022-02-22T10:10:54.235451",
     "exception": false,
     "start_time": "2022-02-22T10:10:54.179143",
     "status": "completed"
    },
    "tags": []
   },
   "outputs": [
    {
     "data": {
      "text/plain": [
       "((11982, 784), (1984, 784))"
      ]
     },
     "execution_count": 14,
     "metadata": {},
     "output_type": "execute_result"
    }
   ],
   "source": [
    "X_train = X_train.reshape(X_train.shape[0], -1)\n",
    "X_test = X_test.reshape(X_test.shape[0], -1)\n",
    "X_train.shape, X_test.shape"
   ]
  },
  {
   "cell_type": "code",
   "execution_count": 15,
   "id": "73c5f88a",
   "metadata": {
    "execution": {
     "iopub.execute_input": "2022-02-22T10:10:54.311943Z",
     "iopub.status.busy": "2022-02-22T10:10:54.311263Z",
     "iopub.status.idle": "2022-02-22T10:10:54.332763Z",
     "shell.execute_reply": "2022-02-22T10:10:54.333326Z"
    },
    "papermill": {
     "duration": 0.06183,
     "end_time": "2022-02-22T10:10:54.333505",
     "exception": false,
     "start_time": "2022-02-22T10:10:54.271675",
     "status": "completed"
    },
    "tags": []
   },
   "outputs": [],
   "source": [
    "#Impoting functions from 'Kudzu'\n",
    "from kudzu.model import Model\n",
    "from kudzu.train import Learner\n",
    "from kudzu.optim import GD\n",
    "from kudzu.data import Data, Sampler,Dataloader\n",
    "\n",
    "from kudzu.callbacks import AccCallback\n",
    "from kudzu.callbacks import ClfCallback\n",
    "\n",
    "from kudzu.loss import MSE\n",
    "\n",
    "from kudzu.layer import Sigmoid,Relu\n",
    "from kudzu.layer import Affine"
   ]
  },
  {
   "cell_type": "markdown",
   "id": "bc01172a",
   "metadata": {
    "papermill": {
     "duration": 0.035218,
     "end_time": "2022-02-22T10:10:54.405190",
     "exception": false,
     "start_time": "2022-02-22T10:10:54.369972",
     "status": "completed"
    },
    "tags": []
   },
   "source": [
    "### Let us create a `Config` class, to store important parameters. \n",
    "This class essentially plays the role of a dictionary."
   ]
  },
  {
   "cell_type": "code",
   "execution_count": 16,
   "id": "978281aa",
   "metadata": {
    "execution": {
     "iopub.execute_input": "2022-02-22T10:10:54.480738Z",
     "iopub.status.busy": "2022-02-22T10:10:54.480064Z",
     "iopub.status.idle": "2022-02-22T10:10:54.494973Z",
     "shell.execute_reply": "2022-02-22T10:10:54.494346Z"
    },
    "papermill": {
     "duration": 0.055157,
     "end_time": "2022-02-22T10:10:54.495126",
     "exception": false,
     "start_time": "2022-02-22T10:10:54.439969",
     "status": "completed"
    },
    "tags": []
   },
   "outputs": [],
   "source": [
    "class Config:\n",
    "    pass\n",
    "config = Config()\n",
    "config.lr = 0.001\n",
    "config.num_epochs = 250\n",
    "config.bs = 50"
   ]
  },
  {
   "cell_type": "markdown",
   "id": "1385fa59",
   "metadata": {
    "papermill": {
     "duration": 0.035715,
     "end_time": "2022-02-22T10:10:54.565884",
     "exception": false,
     "start_time": "2022-02-22T10:10:54.530169",
     "status": "completed"
    },
    "tags": []
   },
   "source": [
    "### Running Models with the Training data\n",
    "Details about the network layers:\n",
    "- A first affine layer has 784 inputs and does 100 affine transforms. These are followed by a Relu\n",
    "- A second affine layer has 100 inputs from the 100 activations of the past layer, and does 100 affine transforms. These are followed by a Relu\n",
    "- A third affine layer has 100 activations and does 2 affine transformations to create an embedding for visualization. There is no non-linearity here.\n",
    "- A final \"logistic regression\" which has an affine transform from 2 inputs to 1 output, which is squeezed through a sigmoid.\n"
   ]
  },
  {
   "cell_type": "code",
   "execution_count": 17,
   "id": "2b9c66db",
   "metadata": {
    "execution": {
     "iopub.execute_input": "2022-02-22T10:10:54.642304Z",
     "iopub.status.busy": "2022-02-22T10:10:54.641629Z",
     "iopub.status.idle": "2022-02-22T10:10:54.657038Z",
     "shell.execute_reply": "2022-02-22T10:10:54.656418Z"
    },
    "papermill": {
     "duration": 0.056342,
     "end_time": "2022-02-22T10:10:54.657190",
     "exception": false,
     "start_time": "2022-02-22T10:10:54.600848",
     "status": "completed"
    },
    "tags": []
   },
   "outputs": [],
   "source": [
    "data = Data(X_train, y_train.reshape(-1,1))\n",
    "sampler = Sampler(data, config.bs, shuffle=True)\n",
    "\n",
    "dl = Dataloader(data, sampler)\n",
    "\n",
    "opt = GD(config.lr)\n",
    "loss = MSE()"
   ]
  },
  {
   "cell_type": "code",
   "execution_count": 18,
   "id": "b275e4c2",
   "metadata": {
    "execution": {
     "iopub.execute_input": "2022-02-22T10:10:54.733819Z",
     "iopub.status.busy": "2022-02-22T10:10:54.733137Z",
     "iopub.status.idle": "2022-02-22T10:10:54.747063Z",
     "shell.execute_reply": "2022-02-22T10:10:54.746331Z"
    },
    "papermill": {
     "duration": 0.055008,
     "end_time": "2022-02-22T10:10:54.747215",
     "exception": false,
     "start_time": "2022-02-22T10:10:54.692207",
     "status": "completed"
    },
    "tags": []
   },
   "outputs": [],
   "source": [
    "training_data_x = X_train\n",
    "testing_data_x = X_test\n",
    "training_data_y = y_train.reshape(-1,1)\n",
    "testing_data_y = y_test.reshape(-1,1)"
   ]
  },
  {
   "cell_type": "code",
   "execution_count": 19,
   "id": "76951160",
   "metadata": {
    "execution": {
     "iopub.execute_input": "2022-02-22T10:10:54.830856Z",
     "iopub.status.busy": "2022-02-22T10:10:54.829981Z",
     "iopub.status.idle": "2022-02-22T10:10:54.843394Z",
     "shell.execute_reply": "2022-02-22T10:10:54.843994Z"
    },
    "papermill": {
     "duration": 0.059917,
     "end_time": "2022-02-22T10:10:54.844173",
     "exception": false,
     "start_time": "2022-02-22T10:10:54.784256",
     "status": "completed"
    },
    "tags": []
   },
   "outputs": [
    {
     "name": "stdout",
     "output_type": "stream",
     "text": [
      "xavier\n",
      "xavier\n",
      "xavier\n",
      "xavier\n",
      "xavier\n"
     ]
    }
   ],
   "source": [
    "layers = [Affine(\"first\", 784, 100), Relu(\"first\"), Affine(\"second\", 100, 100), Relu(\"second\"), Affine(\"third\", 100, 2), Affine(\"last\", 2, 1), Sigmoid(\"last\")]\n",
    "model_nn = Model(layers)\n",
    "model_lr = Model([Affine(\"logits\", 784, 1), Sigmoid(\"sigmoid\")])"
   ]
  },
  {
   "cell_type": "code",
   "execution_count": 20,
   "id": "6eede77a",
   "metadata": {
    "execution": {
     "iopub.execute_input": "2022-02-22T10:10:54.923179Z",
     "iopub.status.busy": "2022-02-22T10:10:54.922452Z",
     "iopub.status.idle": "2022-02-22T10:10:54.936378Z",
     "shell.execute_reply": "2022-02-22T10:10:54.937175Z"
    },
    "papermill": {
     "duration": 0.055597,
     "end_time": "2022-02-22T10:10:54.937366",
     "exception": false,
     "start_time": "2022-02-22T10:10:54.881769",
     "status": "completed"
    },
    "tags": []
   },
   "outputs": [],
   "source": [
    "nn_learner = Learner(loss, model_nn, opt, config.num_epochs)\n",
    "acc_nn = ClfCallback(nn_learner, config.bs, training_data_x , testing_data_x, training_data_y, testing_data_y)\n",
    "nn_learner.set_callbacks([acc_nn])"
   ]
  },
  {
   "cell_type": "code",
   "execution_count": 21,
   "id": "877b6cc7",
   "metadata": {
    "execution": {
     "iopub.execute_input": "2022-02-22T10:10:55.027365Z",
     "iopub.status.busy": "2022-02-22T10:10:55.018544Z",
     "iopub.status.idle": "2022-02-22T10:10:55.030818Z",
     "shell.execute_reply": "2022-02-22T10:10:55.031387Z"
    },
    "papermill": {
     "duration": 0.05861,
     "end_time": "2022-02-22T10:10:55.031567",
     "exception": false,
     "start_time": "2022-02-22T10:10:54.972957",
     "status": "completed"
    },
    "tags": []
   },
   "outputs": [],
   "source": [
    "lr_learner = Learner(loss, model_lr, opt, config.num_epochs)\n",
    "acc_lr = ClfCallback(lr_learner, config.bs, training_data_x , testing_data_x, training_data_y, testing_data_y)\n",
    "lr_learner.set_callbacks([acc_lr])"
   ]
  },
  {
   "cell_type": "code",
   "execution_count": 22,
   "id": "d9b133c3",
   "metadata": {
    "execution": {
     "iopub.execute_input": "2022-02-22T10:10:55.109045Z",
     "iopub.status.busy": "2022-02-22T10:10:55.108346Z",
     "iopub.status.idle": "2022-02-22T10:13:17.858910Z",
     "shell.execute_reply": "2022-02-22T10:13:17.859848Z"
    },
    "papermill": {
     "duration": 142.79137,
     "end_time": "2022-02-22T10:13:17.860032",
     "exception": false,
     "start_time": "2022-02-22T10:10:55.068662",
     "status": "completed"
    },
    "tags": []
   },
   "outputs": [
    {
     "name": "stdout",
     "output_type": "stream",
     "text": [
      "Epoch 0, Loss 0.2558\n",
      "Training Accuracy: 0.5180, Testing Accuracy: 0.5292\n",
      "\n"
     ]
    },
    {
     "name": "stdout",
     "output_type": "stream",
     "text": [
      "Epoch 10, Loss 0.1076\n",
      "Training Accuracy: 0.9126, Testing Accuracy: 0.9274\n",
      "\n"
     ]
    },
    {
     "name": "stdout",
     "output_type": "stream",
     "text": [
      "Epoch 20, Loss 0.0594\n",
      "Training Accuracy: 0.9369, Testing Accuracy: 0.9511\n",
      "\n"
     ]
    },
    {
     "name": "stdout",
     "output_type": "stream",
     "text": [
      "Epoch 30, Loss 0.0457\n",
      "Training Accuracy: 0.9494, Testing Accuracy: 0.9572\n",
      "\n"
     ]
    },
    {
     "name": "stdout",
     "output_type": "stream",
     "text": [
      "Epoch 40, Loss 0.0393\n",
      "Training Accuracy: 0.9553, Testing Accuracy: 0.9617\n",
      "\n"
     ]
    },
    {
     "name": "stdout",
     "output_type": "stream",
     "text": [
      "Epoch 50, Loss 0.0355\n",
      "Training Accuracy: 0.9608, Testing Accuracy: 0.9642\n",
      "\n"
     ]
    },
    {
     "name": "stdout",
     "output_type": "stream",
     "text": [
      "Epoch 60, Loss 0.0329\n",
      "Training Accuracy: 0.9636, Testing Accuracy: 0.9662\n",
      "\n"
     ]
    },
    {
     "name": "stdout",
     "output_type": "stream",
     "text": [
      "Epoch 70, Loss 0.0309\n",
      "Training Accuracy: 0.9649, Testing Accuracy: 0.9662\n",
      "\n"
     ]
    },
    {
     "name": "stdout",
     "output_type": "stream",
     "text": [
      "Epoch 80, Loss 0.0293\n",
      "Training Accuracy: 0.9665, Testing Accuracy: 0.9672\n",
      "\n"
     ]
    },
    {
     "name": "stdout",
     "output_type": "stream",
     "text": [
      "Epoch 90, Loss 0.0281\n",
      "Training Accuracy: 0.9680, Testing Accuracy: 0.9688\n",
      "\n"
     ]
    },
    {
     "name": "stdout",
     "output_type": "stream",
     "text": [
      "Epoch 100, Loss 0.027\n",
      "Training Accuracy: 0.9693, Testing Accuracy: 0.9698\n",
      "\n"
     ]
    },
    {
     "name": "stdout",
     "output_type": "stream",
     "text": [
      "Epoch 110, Loss 0.026\n",
      "Training Accuracy: 0.9705, Testing Accuracy: 0.9693\n",
      "\n"
     ]
    },
    {
     "name": "stdout",
     "output_type": "stream",
     "text": [
      "Epoch 120, Loss 0.0252\n",
      "Training Accuracy: 0.9720, Testing Accuracy: 0.9693\n",
      "\n"
     ]
    },
    {
     "name": "stdout",
     "output_type": "stream",
     "text": [
      "Epoch 130, Loss 0.0245\n",
      "Training Accuracy: 0.9728, Testing Accuracy: 0.9698\n",
      "\n"
     ]
    },
    {
     "name": "stdout",
     "output_type": "stream",
     "text": [
      "Epoch 140, Loss 0.0238\n",
      "Training Accuracy: 0.9738, Testing Accuracy: 0.9708\n",
      "\n"
     ]
    },
    {
     "name": "stdout",
     "output_type": "stream",
     "text": [
      "Epoch 150, Loss 0.0232\n",
      "Training Accuracy: 0.9747, Testing Accuracy: 0.9713\n",
      "\n"
     ]
    },
    {
     "name": "stdout",
     "output_type": "stream",
     "text": [
      "Epoch 160, Loss 0.0227\n",
      "Training Accuracy: 0.9753, Testing Accuracy: 0.9718\n",
      "\n"
     ]
    },
    {
     "name": "stdout",
     "output_type": "stream",
     "text": [
      "Epoch 170, Loss 0.0222\n",
      "Training Accuracy: 0.9758, Testing Accuracy: 0.9718\n",
      "\n"
     ]
    },
    {
     "name": "stdout",
     "output_type": "stream",
     "text": [
      "Epoch 180, Loss 0.0217\n",
      "Training Accuracy: 0.9763, Testing Accuracy: 0.9728\n",
      "\n"
     ]
    },
    {
     "name": "stdout",
     "output_type": "stream",
     "text": [
      "Epoch 190, Loss 0.0212\n",
      "Training Accuracy: 0.9769, Testing Accuracy: 0.9733\n",
      "\n"
     ]
    },
    {
     "name": "stdout",
     "output_type": "stream",
     "text": [
      "Epoch 200, Loss 0.0208\n",
      "Training Accuracy: 0.9777, Testing Accuracy: 0.9738\n",
      "\n"
     ]
    },
    {
     "name": "stdout",
     "output_type": "stream",
     "text": [
      "Epoch 210, Loss 0.0204\n",
      "Training Accuracy: 0.9781, Testing Accuracy: 0.9738\n",
      "\n"
     ]
    },
    {
     "name": "stdout",
     "output_type": "stream",
     "text": [
      "Epoch 220, Loss 0.0201\n",
      "Training Accuracy: 0.9786, Testing Accuracy: 0.9743\n",
      "\n"
     ]
    },
    {
     "name": "stdout",
     "output_type": "stream",
     "text": [
      "Epoch 230, Loss 0.0197\n",
      "Training Accuracy: 0.9790, Testing Accuracy: 0.9743\n",
      "\n"
     ]
    },
    {
     "name": "stdout",
     "output_type": "stream",
     "text": [
      "Epoch 240, Loss 0.0194\n",
      "Training Accuracy: 0.9796, Testing Accuracy: 0.9743\n",
      "\n"
     ]
    },
    {
     "data": {
      "text/plain": [
       "0.032443967787659206"
      ]
     },
     "execution_count": 22,
     "metadata": {},
     "output_type": "execute_result"
    }
   ],
   "source": [
    "nn_learner.train_loop(dl)"
   ]
  },
  {
   "cell_type": "code",
   "execution_count": 23,
   "id": "e0163366",
   "metadata": {
    "execution": {
     "iopub.execute_input": "2022-02-22T10:13:17.995249Z",
     "iopub.status.busy": "2022-02-22T10:13:17.994472Z",
     "iopub.status.idle": "2022-02-22T10:13:38.504864Z",
     "shell.execute_reply": "2022-02-22T10:13:38.505723Z"
    },
    "papermill": {
     "duration": 20.599753,
     "end_time": "2022-02-22T10:13:38.505900",
     "exception": false,
     "start_time": "2022-02-22T10:13:17.906147",
     "status": "completed"
    },
    "tags": []
   },
   "outputs": [
    {
     "name": "stdout",
     "output_type": "stream",
     "text": [
      "Epoch 0, Loss 0.2217\n",
      "Training Accuracy: 0.7774, Testing Accuracy: 0.8014\n",
      "\n"
     ]
    },
    {
     "name": "stdout",
     "output_type": "stream",
     "text": [
      "Epoch 10, Loss 0.1015\n",
      "Training Accuracy: 0.9097, Testing Accuracy: 0.9214\n",
      "\n"
     ]
    },
    {
     "name": "stdout",
     "output_type": "stream",
     "text": [
      "Epoch 20, Loss 0.0788\n",
      "Training Accuracy: 0.9269, Testing Accuracy: 0.9380\n",
      "\n"
     ]
    },
    {
     "name": "stdout",
     "output_type": "stream",
     "text": [
      "Epoch 30, Loss 0.0681\n",
      "Training Accuracy: 0.9357, Testing Accuracy: 0.9491\n",
      "\n"
     ]
    },
    {
     "name": "stdout",
     "output_type": "stream",
     "text": [
      "Epoch 40, Loss 0.0616\n",
      "Training Accuracy: 0.9410, Testing Accuracy: 0.9521\n",
      "\n"
     ]
    },
    {
     "name": "stdout",
     "output_type": "stream",
     "text": [
      "Epoch 50, Loss 0.0572\n",
      "Training Accuracy: 0.9447, Testing Accuracy: 0.9556\n",
      "\n"
     ]
    },
    {
     "name": "stdout",
     "output_type": "stream",
     "text": [
      "Epoch 60, Loss 0.0539\n",
      "Training Accuracy: 0.9469, Testing Accuracy: 0.9572\n",
      "\n"
     ]
    },
    {
     "name": "stdout",
     "output_type": "stream",
     "text": [
      "Epoch 70, Loss 0.0514\n",
      "Training Accuracy: 0.9485, Testing Accuracy: 0.9592\n",
      "\n"
     ]
    },
    {
     "name": "stdout",
     "output_type": "stream",
     "text": [
      "Epoch 80, Loss 0.0493\n",
      "Training Accuracy: 0.9496, Testing Accuracy: 0.9597\n",
      "\n"
     ]
    },
    {
     "name": "stdout",
     "output_type": "stream",
     "text": [
      "Epoch 90, Loss 0.0477\n",
      "Training Accuracy: 0.9516, Testing Accuracy: 0.9612\n",
      "\n"
     ]
    },
    {
     "name": "stdout",
     "output_type": "stream",
     "text": [
      "Epoch 100, Loss 0.0462\n",
      "Training Accuracy: 0.9523, Testing Accuracy: 0.9627\n",
      "\n"
     ]
    },
    {
     "name": "stdout",
     "output_type": "stream",
     "text": [
      "Epoch 110, Loss 0.045\n",
      "Training Accuracy: 0.9535, Testing Accuracy: 0.9632\n",
      "\n"
     ]
    },
    {
     "name": "stdout",
     "output_type": "stream",
     "text": [
      "Epoch 120, Loss 0.044\n",
      "Training Accuracy: 0.9542, Testing Accuracy: 0.9622\n",
      "\n"
     ]
    },
    {
     "name": "stdout",
     "output_type": "stream",
     "text": [
      "Epoch 130, Loss 0.043\n",
      "Training Accuracy: 0.9548, Testing Accuracy: 0.9637\n",
      "\n"
     ]
    },
    {
     "name": "stdout",
     "output_type": "stream",
     "text": [
      "Epoch 140, Loss 0.0422\n",
      "Training Accuracy: 0.9555, Testing Accuracy: 0.9647\n",
      "\n"
     ]
    },
    {
     "name": "stdout",
     "output_type": "stream",
     "text": [
      "Epoch 150, Loss 0.0415\n",
      "Training Accuracy: 0.9561, Testing Accuracy: 0.9647\n",
      "\n"
     ]
    },
    {
     "name": "stdout",
     "output_type": "stream",
     "text": [
      "Epoch 160, Loss 0.0408\n",
      "Training Accuracy: 0.9563, Testing Accuracy: 0.9647\n",
      "\n"
     ]
    },
    {
     "name": "stdout",
     "output_type": "stream",
     "text": [
      "Epoch 170, Loss 0.0402\n",
      "Training Accuracy: 0.9572, Testing Accuracy: 0.9647\n",
      "\n"
     ]
    },
    {
     "name": "stdout",
     "output_type": "stream",
     "text": [
      "Epoch 180, Loss 0.0396\n",
      "Training Accuracy: 0.9579, Testing Accuracy: 0.9652\n",
      "\n"
     ]
    },
    {
     "name": "stdout",
     "output_type": "stream",
     "text": [
      "Epoch 190, Loss 0.0391\n",
      "Training Accuracy: 0.9587, Testing Accuracy: 0.9652\n",
      "\n"
     ]
    },
    {
     "name": "stdout",
     "output_type": "stream",
     "text": [
      "Epoch 200, Loss 0.0387\n",
      "Training Accuracy: 0.9594, Testing Accuracy: 0.9652\n",
      "\n"
     ]
    },
    {
     "name": "stdout",
     "output_type": "stream",
     "text": [
      "Epoch 210, Loss 0.0382\n",
      "Training Accuracy: 0.9599, Testing Accuracy: 0.9652\n",
      "\n"
     ]
    },
    {
     "name": "stdout",
     "output_type": "stream",
     "text": [
      "Epoch 220, Loss 0.0378\n",
      "Training Accuracy: 0.9601, Testing Accuracy: 0.9647\n",
      "\n"
     ]
    },
    {
     "name": "stdout",
     "output_type": "stream",
     "text": [
      "Epoch 230, Loss 0.0374\n",
      "Training Accuracy: 0.9604, Testing Accuracy: 0.9647\n",
      "\n"
     ]
    },
    {
     "name": "stdout",
     "output_type": "stream",
     "text": [
      "Epoch 240, Loss 0.0371\n",
      "Training Accuracy: 0.9605, Testing Accuracy: 0.9647\n",
      "\n"
     ]
    },
    {
     "data": {
      "text/plain": [
       "0.04447373229125984"
      ]
     },
     "execution_count": 23,
     "metadata": {},
     "output_type": "execute_result"
    }
   ],
   "source": [
    "lr_learner.train_loop(dl)"
   ]
  },
  {
   "cell_type": "code",
   "execution_count": 24,
   "id": "ca410940",
   "metadata": {
    "execution": {
     "iopub.execute_input": "2022-02-22T10:13:38.621025Z",
     "iopub.status.busy": "2022-02-22T10:13:38.620305Z",
     "iopub.status.idle": "2022-02-22T10:13:38.929806Z",
     "shell.execute_reply": "2022-02-22T10:13:38.929247Z"
    },
    "papermill": {
     "duration": 0.367708,
     "end_time": "2022-02-22T10:13:38.929961",
     "exception": false,
     "start_time": "2022-02-22T10:13:38.562253",
     "status": "completed"
    },
    "tags": []
   },
   "outputs": [
    {
     "data": {
      "text/plain": [
       "<matplotlib.legend.Legend at 0x7fc3820bec88>"
      ]
     },
     "execution_count": 24,
     "metadata": {},
     "output_type": "execute_result"
    },
    {
     "data": {
      "image/png": "[encoded data removed]",
      "text/plain": [
       "<Figure size 1080x720 with 1 Axes>"
      ]
     },
     "metadata": {
      "needs_background": "light"
     },
     "output_type": "display_data"
    }
   ],
   "source": [
    "#comparing the results of NN and LR\n",
    "plt.figure(figsize=(15,10))\n",
    "\n",
    "# Neural Network plots\n",
    "plt.plot(acc_nn.accuracies, 'r-', label = \"Training Accuracies - NN\")\n",
    "plt.plot(acc_nn.test_accuracies, 'g-', label = \"Testing Accuracies - NN\")\n",
    "\n",
    "# Logistic Regression plots\n",
    "plt.plot(acc_lr.accuracies, 'k-', label = \"Training Accuracies - LR\")\n",
    "plt.plot(acc_lr.test_accuracies, 'b-', label = \"Testing Accuracies - LR\")\n",
    "plt.legend()"
   ]
  },
  {
   "cell_type": "markdown",
   "id": "80dfb35c",
   "metadata": {
    "papermill": {
     "duration": 0.055737,
     "end_time": "2022-02-22T10:13:39.039882",
     "exception": false,
     "start_time": "2022-02-22T10:13:38.984145",
     "status": "completed"
    },
    "tags": []
   },
   "source": [
    "#### Plotting the outputs of this layer of the NN.\n"
   ]
  },
  {
   "cell_type": "code",
   "execution_count": 25,
   "id": "45eb2ff5",
   "metadata": {
    "execution": {
     "iopub.execute_input": "2022-02-22T10:13:39.159188Z",
     "iopub.status.busy": "2022-02-22T10:13:39.158457Z",
     "iopub.status.idle": "2022-02-22T10:13:39.187972Z",
     "shell.execute_reply": "2022-02-22T10:13:39.188554Z"
    },
    "papermill": {
     "duration": 0.093934,
     "end_time": "2022-02-22T10:13:39.188740",
     "exception": false,
     "start_time": "2022-02-22T10:13:39.094806",
     "status": "completed"
    },
    "tags": []
   },
   "outputs": [],
   "source": [
    "new_model = Model(layers[:-2])\n",
    "testing_plot = new_model(testing_data_x)"
   ]
  },
  {
   "cell_type": "code",
   "execution_count": 26,
   "id": "4c0a5485",
   "metadata": {
    "execution": {
     "iopub.execute_input": "2022-02-22T10:13:39.319743Z",
     "iopub.status.busy": "2022-02-22T10:13:39.319048Z",
     "iopub.status.idle": "2022-02-22T10:13:39.577391Z",
     "shell.execute_reply": "2022-02-22T10:13:39.577926Z"
    },
    "papermill": {
     "duration": 0.320748,
     "end_time": "2022-02-22T10:13:39.578107",
     "exception": false,
     "start_time": "2022-02-22T10:13:39.257359",
     "status": "completed"
    },
    "tags": []
   },
   "outputs": [
    {
     "data": {
      "text/plain": [
       "Text(0.5, 1.0, 'Outputs')"
      ]
     },
     "execution_count": 26,
     "metadata": {},
     "output_type": "execute_result"
    },
    {
     "data": {
      "image/png": "[encoded data removed]",
      "text/plain": [
       "<Figure size 576x504 with 1 Axes>"
      ]
     },
     "metadata": {
      "needs_background": "light"
     },
     "output_type": "display_data"
    }
   ],
   "source": [
    "# Plotting the scatter plot of points and color coding by class\n",
    "plt.figure(figsize=(8,7))\n",
    "plt.scatter(testing_plot[:,0], testing_plot[:,1], alpha = 0.1, c = y_test.ravel());\n",
    "plt.title('Outputs')"
   ]
  },
  {
   "cell_type": "markdown",
   "id": "a74fcf8f",
   "metadata": {
    "papermill": {
     "duration": 0.059451,
     "end_time": "2022-02-22T10:13:39.694982",
     "exception": false,
     "start_time": "2022-02-22T10:13:39.635531",
     "status": "completed"
    },
    "tags": []
   },
   "source": [
    "Probability contours"
   ]
  },
  {
   "cell_type": "code",
   "execution_count": 27,
   "id": "d0afc8e3",
   "metadata": {
    "execution": {
     "iopub.execute_input": "2022-02-22T10:13:39.849312Z",
     "iopub.status.busy": "2022-02-22T10:13:39.848608Z",
     "iopub.status.idle": "2022-02-22T10:13:39.861765Z",
     "shell.execute_reply": "2022-02-22T10:13:39.862350Z"
    },
    "papermill": {
     "duration": 0.077193,
     "end_time": "2022-02-22T10:13:39.862554",
     "exception": false,
     "start_time": "2022-02-22T10:13:39.785361",
     "status": "completed"
    },
    "tags": []
   },
   "outputs": [],
   "source": [
    "model_prob = Model(layers[-2:]) "
   ]
  },
  {
   "cell_type": "code",
   "execution_count": 28,
   "id": "9b96e238",
   "metadata": {
    "execution": {
     "iopub.execute_input": "2022-02-22T10:13:39.988150Z",
     "iopub.status.busy": "2022-02-22T10:13:39.987452Z",
     "iopub.status.idle": "2022-02-22T10:13:40.000916Z",
     "shell.execute_reply": "2022-02-22T10:13:40.001453Z"
    },
    "papermill": {
     "duration": 0.081265,
     "end_time": "2022-02-22T10:13:40.001643",
     "exception": false,
     "start_time": "2022-02-22T10:13:39.920378",
     "status": "completed"
    },
    "tags": []
   },
   "outputs": [],
   "source": [
    "#creating the x and y ranges according to the above generated plot.\n",
    "x_range = np.linspace(-4, 1, 100) \n",
    "y_range = np.linspace(-6, 6, 100) \n",
    "x_grid, y_grid = np.meshgrid(x_range, y_range) # x_grid and y_grig are of size 100 X 100\n",
    "\n",
    "# converting x_grid and y_grid to continuous arrays\n",
    "x_gridflat = np.ravel(x_grid)\n",
    "y_gridflat = np.ravel(y_grid)\n",
    "\n",
    "# The last layer of the current model takes two columns as input. Hence transpose of np.vstack() is required.\n",
    "X = np.vstack((x_gridflat, y_gridflat)).T\n",
    "\n",
    "prob_contour = model_prob(X).reshape(100,100) "
   ]
  },
  {
   "cell_type": "code",
   "execution_count": 29,
   "id": "da72499a",
   "metadata": {
    "execution": {
     "iopub.execute_input": "2022-02-22T10:13:40.129621Z",
     "iopub.status.busy": "2022-02-22T10:13:40.128894Z",
     "iopub.status.idle": "2022-02-22T10:13:40.453702Z",
     "shell.execute_reply": "2022-02-22T10:13:40.454255Z"
    },
    "papermill": {
     "duration": 0.393855,
     "end_time": "2022-02-22T10:13:40.454432",
     "exception": false,
     "start_time": "2022-02-22T10:13:40.060577",
     "status": "completed"
    },
    "tags": []
   },
   "outputs": [
    {
     "data": {
      "image/png": "[encoded data removed]",
      "text/plain": [
       "<Figure size 720x648 with 1 Axes>"
      ]
     },
     "metadata": {
      "needs_background": "light"
     },
     "output_type": "display_data"
    }
   ],
   "source": [
    "plt.figure(figsize=(10,9))\n",
    "plt.scatter(testing_plot[:,0], testing_plot[:,1], alpha = 0.1, c = y_test.ravel())\n",
    "contours = plt.contour(x_grid,y_grid,prob_contour)\n",
    "plt.title('Probability Contours')\n",
    "plt.clabel(contours, inline = True );"
   ]
  },
  {
   "cell_type": "code",
   "execution_count": null,
   "id": "e81b4ac7",
   "metadata": {
    "papermill": {
     "duration": 0.060395,
     "end_time": "2022-02-22T10:13:40.578226",
     "exception": false,
     "start_time": "2022-02-22T10:13:40.517831",
     "status": "completed"
    },
    "tags": []
   },
   "outputs": [],
   "source": []
  }
 ],
 "metadata": {
  "kernelspec": {
   "display_name": "Python 3",
   "language": "python",
   "name": "python3"
  },
  "language_info": {
   "codemirror_mode": {
    "name": "ipython",
    "version": 3
   },
   "file_extension": ".py",
   "mimetype": "text/x-python",
   "name": "python",
   "nbconvert_exporter": "python",
   "pygments_lexer": "ipython3",
   "version": "3.6.15"
  },
  "papermill": {
   "default_parameters": {},
   "duration": 174.543049,
   "end_time": "2022-02-22T10:13:41.059335",
   "environment_variables": {},
   "exception": null,
   "input_path": "2020-08-11-part2.ipynb",
   "output_path": "2020-08-11-part2.ipynb",
   "parameters": {},
   "start_time": "2022-02-22T10:10:46.516286",
   "version": "2.3.3"
  }
 },
 "nbformat": 4,
 "nbformat_minor": 5
}