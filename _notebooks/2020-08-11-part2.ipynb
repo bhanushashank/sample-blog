{
 "cells": [
  {
   "cell_type": "markdown",
   "id": "98380cd3",
   "metadata": {
    "papermill": {
     "duration": 0.029679,
     "end_time": "2021-11-16T10:07:31.323257",
     "exception": false,
     "start_time": "2021-11-16T10:07:31.293578",
     "status": "completed"
    },
    "tags": []
   },
   "source": [
    "# Distinguish Your Own Digits (DYOD)"
   ]
  },
  {
   "cell_type": "markdown",
   "id": "ef31240d",
   "metadata": {
    "papermill": {
     "duration": 0.025771,
     "end_time": "2021-11-16T10:07:31.373852",
     "exception": false,
     "start_time": "2021-11-16T10:07:31.348081",
     "status": "completed"
    },
    "tags": []
   },
   "source": [
    "You are going to write a classifier that distinguishes between the number 3 and number 8."
   ]
  },
  {
   "cell_type": "code",
   "execution_count": 1,
   "id": "b15c8646",
   "metadata": {
    "execution": {
     "iopub.execute_input": "2021-11-16T10:07:31.432439Z",
     "iopub.status.busy": "2021-11-16T10:07:31.431897Z",
     "iopub.status.idle": "2021-11-16T10:07:31.442759Z",
     "shell.execute_reply": "2021-11-16T10:07:31.442309Z"
    },
    "papermill": {
     "duration": 0.044928,
     "end_time": "2021-11-16T10:07:31.442899",
     "exception": false,
     "start_time": "2021-11-16T10:07:31.397971",
     "status": "completed"
    },
    "tags": []
   },
   "outputs": [],
   "source": [
    "%load_ext autoreload\n",
    "%autoreload 2"
   ]
  },
  {
   "cell_type": "code",
   "execution_count": 2,
   "id": "22ef38dc",
   "metadata": {
    "execution": {
     "iopub.execute_input": "2021-11-16T10:07:31.496296Z",
     "iopub.status.busy": "2021-11-16T10:07:31.495754Z",
     "iopub.status.idle": "2021-11-16T10:07:32.035704Z",
     "shell.execute_reply": "2021-11-16T10:07:32.036506Z"
    },
    "papermill": {
     "duration": 0.569089,
     "end_time": "2021-11-16T10:07:32.036685",
     "exception": false,
     "start_time": "2021-11-16T10:07:31.467596",
     "status": "completed"
    },
    "tags": []
   },
   "outputs": [],
   "source": [
    "%matplotlib inline\n",
    "import numpy as np\n",
    "import matplotlib.pyplot as plt\n",
    "import pandas as pd"
   ]
  },
  {
   "cell_type": "markdown",
   "id": "ba036198",
   "metadata": {
    "papermill": {
     "duration": 0.024365,
     "end_time": "2021-11-16T10:07:32.085389",
     "exception": false,
     "start_time": "2021-11-16T10:07:32.061024",
     "status": "completed"
    },
    "tags": []
   },
   "source": [
    "From the command line run `pip install mnist`. This is a library that will help you bring down the mnist dataset. If you run this from a notebook, you need to put  `!pip install mnist` in a cell by itself."
   ]
  },
  {
   "cell_type": "code",
   "execution_count": 3,
   "id": "bb6ad8a1",
   "metadata": {
    "execution": {
     "iopub.execute_input": "2021-11-16T10:07:32.143035Z",
     "iopub.status.busy": "2021-11-16T10:07:32.138393Z",
     "iopub.status.idle": "2021-11-16T10:07:33.843233Z",
     "shell.execute_reply": "2021-11-16T10:07:33.842691Z"
    },
    "papermill": {
     "duration": 1.733464,
     "end_time": "2021-11-16T10:07:33.843381",
     "exception": false,
     "start_time": "2021-11-16T10:07:32.109917",
     "status": "completed"
    },
    "tags": []
   },
   "outputs": [
    {
     "name": "stdout",
     "output_type": "stream",
     "text": [
      "Collecting mnist\r\n",
      "  Downloading mnist-0.2.2-py2.py3-none-any.whl (3.5 kB)\r\n"
     ]
    },
    {
     "name": "stdout",
     "output_type": "stream",
     "text": [
      "Requirement already satisfied: numpy in /opt/hostedtoolcache/Python/3.6.15/x64/lib/python3.6/site-packages (from mnist) (1.19.5)\r\n"
     ]
    },
    {
     "name": "stdout",
     "output_type": "stream",
     "text": [
      "Installing collected packages: mnist\r\n",
      "Successfully installed mnist-0.2.2\r\n"
     ]
    }
   ],
   "source": [
    "!pip install mnist"
   ]
  },
  {
   "cell_type": "markdown",
   "id": "69df9c9a",
   "metadata": {
    "papermill": {
     "duration": 0.025304,
     "end_time": "2021-11-16T10:07:33.894813",
     "exception": false,
     "start_time": "2021-11-16T10:07:33.869509",
     "status": "completed"
    },
    "tags": []
   },
   "source": [
    "## Preparing the Data"
   ]
  },
  {
   "cell_type": "code",
   "execution_count": 4,
   "id": "7f69d806",
   "metadata": {
    "execution": {
     "iopub.execute_input": "2021-11-16T10:07:33.949336Z",
     "iopub.status.busy": "2021-11-16T10:07:33.948812Z",
     "iopub.status.idle": "2021-11-16T10:07:33.963366Z",
     "shell.execute_reply": "2021-11-16T10:07:33.963809Z"
    },
    "papermill": {
     "duration": 0.043879,
     "end_time": "2021-11-16T10:07:33.963950",
     "exception": false,
     "start_time": "2021-11-16T10:07:33.920071",
     "status": "completed"
    },
    "tags": []
   },
   "outputs": [],
   "source": [
    "import mnist"
   ]
  },
  {
   "cell_type": "code",
   "execution_count": 5,
   "id": "a411e44f",
   "metadata": {
    "execution": {
     "iopub.execute_input": "2021-11-16T10:07:34.028869Z",
     "iopub.status.busy": "2021-11-16T10:07:34.023722Z",
     "iopub.status.idle": "2021-11-16T10:07:34.571418Z",
     "shell.execute_reply": "2021-11-16T10:07:34.570832Z"
    },
    "papermill": {
     "duration": 0.582484,
     "end_time": "2021-11-16T10:07:34.571564",
     "exception": false,
     "start_time": "2021-11-16T10:07:33.989080",
     "status": "completed"
    },
    "tags": []
   },
   "outputs": [],
   "source": [
    "train_images = mnist.train_images()\n",
    "train_labels = mnist.train_labels()"
   ]
  },
  {
   "cell_type": "code",
   "execution_count": 6,
   "id": "dceab3a5",
   "metadata": {
    "execution": {
     "iopub.execute_input": "2021-11-16T10:07:34.621555Z",
     "iopub.status.busy": "2021-11-16T10:07:34.620330Z",
     "iopub.status.idle": "2021-11-16T10:07:34.633176Z",
     "shell.execute_reply": "2021-11-16T10:07:34.633586Z"
    },
    "papermill": {
     "duration": 0.039266,
     "end_time": "2021-11-16T10:07:34.633727",
     "exception": false,
     "start_time": "2021-11-16T10:07:34.594461",
     "status": "completed"
    },
    "tags": []
   },
   "outputs": [
    {
     "data": {
      "text/plain": [
       "((60000, 28, 28), (60000,))"
      ]
     },
     "execution_count": 6,
     "metadata": {},
     "output_type": "execute_result"
    }
   ],
   "source": [
    "train_images.shape, train_labels.shape"
   ]
  },
  {
   "cell_type": "code",
   "execution_count": 7,
   "id": "f50dc2bb",
   "metadata": {
    "execution": {
     "iopub.execute_input": "2021-11-16T10:07:34.698855Z",
     "iopub.status.busy": "2021-11-16T10:07:34.695963Z",
     "iopub.status.idle": "2021-11-16T10:07:34.832917Z",
     "shell.execute_reply": "2021-11-16T10:07:34.832356Z"
    },
    "papermill": {
     "duration": 0.17405,
     "end_time": "2021-11-16T10:07:34.833057",
     "exception": false,
     "start_time": "2021-11-16T10:07:34.659007",
     "status": "completed"
    },
    "tags": []
   },
   "outputs": [],
   "source": [
    "test_images = mnist.test_images()\n",
    "test_labels = mnist.test_labels()"
   ]
  },
  {
   "cell_type": "code",
   "execution_count": 8,
   "id": "fc38cf1b",
   "metadata": {
    "execution": {
     "iopub.execute_input": "2021-11-16T10:07:34.889301Z",
     "iopub.status.busy": "2021-11-16T10:07:34.888283Z",
     "iopub.status.idle": "2021-11-16T10:07:34.901373Z",
     "shell.execute_reply": "2021-11-16T10:07:34.901872Z"
    },
    "papermill": {
     "duration": 0.042664,
     "end_time": "2021-11-16T10:07:34.902037",
     "exception": false,
     "start_time": "2021-11-16T10:07:34.859373",
     "status": "completed"
    },
    "tags": []
   },
   "outputs": [
    {
     "data": {
      "text/plain": [
       "((10000, 28, 28), (10000,))"
      ]
     },
     "execution_count": 8,
     "metadata": {},
     "output_type": "execute_result"
    }
   ],
   "source": [
    "test_images.shape, test_labels.shape"
   ]
  },
  {
   "cell_type": "code",
   "execution_count": 9,
   "id": "f9ed8fe0",
   "metadata": {
    "execution": {
     "iopub.execute_input": "2021-11-16T10:07:34.957763Z",
     "iopub.status.busy": "2021-11-16T10:07:34.956796Z",
     "iopub.status.idle": "2021-11-16T10:07:35.086909Z",
     "shell.execute_reply": "2021-11-16T10:07:35.087386Z"
    },
    "papermill": {
     "duration": 0.160033,
     "end_time": "2021-11-16T10:07:35.087539",
     "exception": false,
     "start_time": "2021-11-16T10:07:34.927506",
     "status": "completed"
    },
    "tags": []
   },
   "outputs": [
    {
     "name": "stdout",
     "output_type": "stream",
     "text": [
      "2\n"
     ]
    },
    {
     "data": {
      "text/plain": [
       "<matplotlib.image.AxesImage at 0x7f75603f10f0>"
      ]
     },
     "execution_count": 9,
     "metadata": {},
     "output_type": "execute_result"
    },
    {
     "data": {
      "image/png": "[encoded data removed]",
      "text/plain": [
       "<Figure size 432x288 with 1 Axes>"
      ]
     },
     "metadata": {
      "needs_background": "light"
     },
     "output_type": "display_data"
    }
   ],
   "source": [
    "image_index = 7776 # You may select anything up to 60,000\n",
    "print(train_labels[image_index]) \n",
    "plt.imshow(train_images[image_index], cmap='Greys')"
   ]
  },
  {
   "cell_type": "markdown",
   "id": "a8d2388d",
   "metadata": {
    "papermill": {
     "duration": 0.027135,
     "end_time": "2021-11-16T10:07:35.141972",
     "exception": false,
     "start_time": "2021-11-16T10:07:35.114837",
     "status": "completed"
    },
    "tags": []
   },
   "source": [
    "## Filter data to get 3 and 8 out"
   ]
  },
  {
   "cell_type": "code",
   "execution_count": 10,
   "id": "776f7fc7",
   "metadata": {
    "execution": {
     "iopub.execute_input": "2021-11-16T10:07:35.200844Z",
     "iopub.status.busy": "2021-11-16T10:07:35.199642Z",
     "iopub.status.idle": "2021-11-16T10:07:35.221265Z",
     "shell.execute_reply": "2021-11-16T10:07:35.220757Z"
    },
    "papermill": {
     "duration": 0.052839,
     "end_time": "2021-11-16T10:07:35.221396",
     "exception": false,
     "start_time": "2021-11-16T10:07:35.168557",
     "status": "completed"
    },
    "tags": []
   },
   "outputs": [],
   "source": [
    "train_filter = np.where((train_labels == 3 ) | (train_labels == 8))\n",
    "test_filter = np.where((test_labels == 3) | (test_labels == 8))\n",
    "X_train, y_train = train_images[train_filter], train_labels[train_filter]\n",
    "X_test, y_test = test_images[test_filter], test_labels[test_filter]"
   ]
  },
  {
   "cell_type": "markdown",
   "id": "948f0b7e",
   "metadata": {
    "papermill": {
     "duration": 0.026703,
     "end_time": "2021-11-16T10:07:35.275032",
     "exception": false,
     "start_time": "2021-11-16T10:07:35.248329",
     "status": "completed"
    },
    "tags": []
   },
   "source": [
    "We normalize the pizel values in the 0 to 1 range"
   ]
  },
  {
   "cell_type": "code",
   "execution_count": 11,
   "id": "ee4c2166",
   "metadata": {
    "execution": {
     "iopub.execute_input": "2021-11-16T10:07:35.332741Z",
     "iopub.status.busy": "2021-11-16T10:07:35.331805Z",
     "iopub.status.idle": "2021-11-16T10:07:35.379836Z",
     "shell.execute_reply": "2021-11-16T10:07:35.379286Z"
    },
    "papermill": {
     "duration": 0.078302,
     "end_time": "2021-11-16T10:07:35.379987",
     "exception": false,
     "start_time": "2021-11-16T10:07:35.301685",
     "status": "completed"
    },
    "tags": []
   },
   "outputs": [],
   "source": [
    "X_train = X_train/255.\n",
    "X_test = X_test/255."
   ]
  },
  {
   "cell_type": "markdown",
   "id": "ddcf4fab",
   "metadata": {
    "papermill": {
     "duration": 0.026657,
     "end_time": "2021-11-16T10:07:35.434602",
     "exception": false,
     "start_time": "2021-11-16T10:07:35.407945",
     "status": "completed"
    },
    "tags": []
   },
   "source": [
    "And setup the labels as 1 (when the digit is 3) and 0 (when the digit is 8)"
   ]
  },
  {
   "cell_type": "code",
   "execution_count": 12,
   "id": "7dc908f2",
   "metadata": {
    "execution": {
     "iopub.execute_input": "2021-11-16T10:07:35.491908Z",
     "iopub.status.busy": "2021-11-16T10:07:35.491359Z",
     "iopub.status.idle": "2021-11-16T10:07:35.502552Z",
     "shell.execute_reply": "2021-11-16T10:07:35.502117Z"
    },
    "papermill": {
     "duration": 0.041733,
     "end_time": "2021-11-16T10:07:35.502680",
     "exception": false,
     "start_time": "2021-11-16T10:07:35.460947",
     "status": "completed"
    },
    "tags": []
   },
   "outputs": [],
   "source": [
    "y_train = 1*(y_train==3)\n",
    "y_test = 1*(y_test==3)"
   ]
  },
  {
   "cell_type": "code",
   "execution_count": 13,
   "id": "01e4e969",
   "metadata": {
    "execution": {
     "iopub.execute_input": "2021-11-16T10:07:35.561176Z",
     "iopub.status.busy": "2021-11-16T10:07:35.560610Z",
     "iopub.status.idle": "2021-11-16T10:07:35.575277Z",
     "shell.execute_reply": "2021-11-16T10:07:35.575694Z"
    },
    "papermill": {
     "duration": 0.046393,
     "end_time": "2021-11-16T10:07:35.575845",
     "exception": false,
     "start_time": "2021-11-16T10:07:35.529452",
     "status": "completed"
    },
    "tags": []
   },
   "outputs": [
    {
     "data": {
      "text/plain": [
       "((11982, 28, 28), (1984, 28, 28))"
      ]
     },
     "execution_count": 13,
     "metadata": {},
     "output_type": "execute_result"
    }
   ],
   "source": [
    "X_train.shape, X_test.shape"
   ]
  },
  {
   "cell_type": "markdown",
   "id": "5ccf3f85",
   "metadata": {
    "papermill": {
     "duration": 0.026721,
     "end_time": "2021-11-16T10:07:35.629354",
     "exception": false,
     "start_time": "2021-11-16T10:07:35.602633",
     "status": "completed"
    },
    "tags": []
   },
   "source": [
    "We reshape the data to flatten the image pixels into a set of features or co-variates:"
   ]
  },
  {
   "cell_type": "code",
   "execution_count": 14,
   "id": "5286a4a3",
   "metadata": {
    "execution": {
     "iopub.execute_input": "2021-11-16T10:07:35.687814Z",
     "iopub.status.busy": "2021-11-16T10:07:35.687262Z",
     "iopub.status.idle": "2021-11-16T10:07:35.701841Z",
     "shell.execute_reply": "2021-11-16T10:07:35.702282Z"
    },
    "papermill": {
     "duration": 0.046067,
     "end_time": "2021-11-16T10:07:35.702432",
     "exception": false,
     "start_time": "2021-11-16T10:07:35.656365",
     "status": "completed"
    },
    "tags": []
   },
   "outputs": [
    {
     "data": {
      "text/plain": [
       "((11982, 784), (1984, 784))"
      ]
     },
     "execution_count": 14,
     "metadata": {},
     "output_type": "execute_result"
    }
   ],
   "source": [
    "X_train = X_train.reshape(X_train.shape[0], -1)\n",
    "X_test = X_test.reshape(X_test.shape[0], -1)\n",
    "X_train.shape, X_test.shape"
   ]
  },
  {
   "cell_type": "code",
   "execution_count": 15,
   "id": "73c5f88a",
   "metadata": {
    "execution": {
     "iopub.execute_input": "2021-11-16T10:07:35.759586Z",
     "iopub.status.busy": "2021-11-16T10:07:35.759022Z",
     "iopub.status.idle": "2021-11-16T10:07:35.779019Z",
     "shell.execute_reply": "2021-11-16T10:07:35.778529Z"
    },
    "papermill": {
     "duration": 0.049687,
     "end_time": "2021-11-16T10:07:35.779148",
     "exception": false,
     "start_time": "2021-11-16T10:07:35.729461",
     "status": "completed"
    },
    "tags": []
   },
   "outputs": [],
   "source": [
    "#Impoting functions from 'Kudzu'\n",
    "from kudzu.model import Model\n",
    "from kudzu.train import Learner\n",
    "from kudzu.optim import GD\n",
    "from kudzu.data import Data, Sampler,Dataloader\n",
    "\n",
    "from kudzu.callbacks import AccCallback\n",
    "from kudzu.callbacks import ClfCallback\n",
    "\n",
    "from kudzu.loss import MSE\n",
    "\n",
    "from kudzu.layer import Sigmoid,Relu\n",
    "from kudzu.layer import Affine"
   ]
  },
  {
   "cell_type": "markdown",
   "id": "bc01172a",
   "metadata": {
    "papermill": {
     "duration": 0.026961,
     "end_time": "2021-11-16T10:07:35.833624",
     "exception": false,
     "start_time": "2021-11-16T10:07:35.806663",
     "status": "completed"
    },
    "tags": []
   },
   "source": [
    "### Let us create a `Config` class, to store important parameters. \n",
    "This class essentially plays the role of a dictionary."
   ]
  },
  {
   "cell_type": "code",
   "execution_count": 16,
   "id": "978281aa",
   "metadata": {
    "execution": {
     "iopub.execute_input": "2021-11-16T10:07:35.895526Z",
     "iopub.status.busy": "2021-11-16T10:07:35.894976Z",
     "iopub.status.idle": "2021-11-16T10:07:35.904721Z",
     "shell.execute_reply": "2021-11-16T10:07:35.904282Z"
    },
    "papermill": {
     "duration": 0.044302,
     "end_time": "2021-11-16T10:07:35.904843",
     "exception": false,
     "start_time": "2021-11-16T10:07:35.860541",
     "status": "completed"
    },
    "tags": []
   },
   "outputs": [],
   "source": [
    "class Config:\n",
    "    pass\n",
    "config = Config()\n",
    "config.lr = 0.001\n",
    "config.num_epochs = 250\n",
    "config.bs = 50"
   ]
  },
  {
   "cell_type": "markdown",
   "id": "1385fa59",
   "metadata": {
    "papermill": {
     "duration": 0.026962,
     "end_time": "2021-11-16T10:07:35.959156",
     "exception": false,
     "start_time": "2021-11-16T10:07:35.932194",
     "status": "completed"
    },
    "tags": []
   },
   "source": [
    "### Running Models with the Training data\n",
    "Details about the network layers:\n",
    "- A first affine layer has 784 inputs and does 100 affine transforms. These are followed by a Relu\n",
    "- A second affine layer has 100 inputs from the 100 activations of the past layer, and does 100 affine transforms. These are followed by a Relu\n",
    "- A third affine layer has 100 activations and does 2 affine transformations to create an embedding for visualization. There is no non-linearity here.\n",
    "- A final \"logistic regression\" which has an affine transform from 2 inputs to 1 output, which is squeezed through a sigmoid.\n"
   ]
  },
  {
   "cell_type": "code",
   "execution_count": 17,
   "id": "2b9c66db",
   "metadata": {
    "execution": {
     "iopub.execute_input": "2021-11-16T10:07:36.019027Z",
     "iopub.status.busy": "2021-11-16T10:07:36.018457Z",
     "iopub.status.idle": "2021-11-16T10:07:36.030152Z",
     "shell.execute_reply": "2021-11-16T10:07:36.029676Z"
    },
    "papermill": {
     "duration": 0.043926,
     "end_time": "2021-11-16T10:07:36.030287",
     "exception": false,
     "start_time": "2021-11-16T10:07:35.986361",
     "status": "completed"
    },
    "tags": []
   },
   "outputs": [],
   "source": [
    "data = Data(X_train, y_train.reshape(-1,1))\n",
    "sampler = Sampler(data, config.bs, shuffle=True)\n",
    "\n",
    "dl = Dataloader(data, sampler)\n",
    "\n",
    "opt = GD(config.lr)\n",
    "loss = MSE()"
   ]
  },
  {
   "cell_type": "code",
   "execution_count": 18,
   "id": "b275e4c2",
   "metadata": {
    "execution": {
     "iopub.execute_input": "2021-11-16T10:07:36.089393Z",
     "iopub.status.busy": "2021-11-16T10:07:36.088843Z",
     "iopub.status.idle": "2021-11-16T10:07:36.101187Z",
     "shell.execute_reply": "2021-11-16T10:07:36.100753Z"
    },
    "papermill": {
     "duration": 0.043729,
     "end_time": "2021-11-16T10:07:36.101316",
     "exception": false,
     "start_time": "2021-11-16T10:07:36.057587",
     "status": "completed"
    },
    "tags": []
   },
   "outputs": [],
   "source": [
    "training_data_x = X_train\n",
    "testing_data_x = X_test\n",
    "training_data_y = y_train.reshape(-1,1)\n",
    "testing_data_y = y_test.reshape(-1,1)"
   ]
  },
  {
   "cell_type": "code",
   "execution_count": 19,
   "id": "76951160",
   "metadata": {
    "execution": {
     "iopub.execute_input": "2021-11-16T10:07:36.162892Z",
     "iopub.status.busy": "2021-11-16T10:07:36.162318Z",
     "iopub.status.idle": "2021-11-16T10:07:36.178154Z",
     "shell.execute_reply": "2021-11-16T10:07:36.177675Z"
    },
    "papermill": {
     "duration": 0.049867,
     "end_time": "2021-11-16T10:07:36.178294",
     "exception": false,
     "start_time": "2021-11-16T10:07:36.128427",
     "status": "completed"
    },
    "tags": []
   },
   "outputs": [
    {
     "name": "stdout",
     "output_type": "stream",
     "text": [
      "xavier\n",
      "xavier\n",
      "xavier\n",
      "xavier\n",
      "xavier\n"
     ]
    }
   ],
   "source": [
    "layers = [Affine(\"first\", 784, 100), Relu(\"first\"), Affine(\"second\", 100, 100), Relu(\"second\"), Affine(\"third\", 100, 2), Affine(\"last\", 2, 1), Sigmoid(\"last\")]\n",
    "model_nn = Model(layers)\n",
    "model_lr = Model([Affine(\"logits\", 784, 1), Sigmoid(\"sigmoid\")])"
   ]
  },
  {
   "cell_type": "code",
   "execution_count": 20,
   "id": "6eede77a",
   "metadata": {
    "execution": {
     "iopub.execute_input": "2021-11-16T10:07:36.247819Z",
     "iopub.status.busy": "2021-11-16T10:07:36.247215Z",
     "iopub.status.idle": "2021-11-16T10:07:36.254539Z",
     "shell.execute_reply": "2021-11-16T10:07:36.254021Z"
    },
    "papermill": {
     "duration": 0.048622,
     "end_time": "2021-11-16T10:07:36.254676",
     "exception": false,
     "start_time": "2021-11-16T10:07:36.206054",
     "status": "completed"
    },
    "tags": []
   },
   "outputs": [],
   "source": [
    "nn_learner = Learner(loss, model_nn, opt, config.num_epochs)\n",
    "acc_nn = ClfCallback(nn_learner, config.bs, training_data_x , testing_data_x, training_data_y, testing_data_y)\n",
    "nn_learner.set_callbacks([acc_nn])"
   ]
  },
  {
   "cell_type": "code",
   "execution_count": 21,
   "id": "877b6cc7",
   "metadata": {
    "execution": {
     "iopub.execute_input": "2021-11-16T10:07:36.315657Z",
     "iopub.status.busy": "2021-11-16T10:07:36.315106Z",
     "iopub.status.idle": "2021-11-16T10:07:36.326766Z",
     "shell.execute_reply": "2021-11-16T10:07:36.326316Z"
    },
    "papermill": {
     "duration": 0.044598,
     "end_time": "2021-11-16T10:07:36.326894",
     "exception": false,
     "start_time": "2021-11-16T10:07:36.282296",
     "status": "completed"
    },
    "tags": []
   },
   "outputs": [],
   "source": [
    "lr_learner = Learner(loss, model_lr, opt, config.num_epochs)\n",
    "acc_lr = ClfCallback(lr_learner, config.bs, training_data_x , testing_data_x, training_data_y, testing_data_y)\n",
    "lr_learner.set_callbacks([acc_lr])"
   ]
  },
  {
   "cell_type": "code",
   "execution_count": 22,
   "id": "d9b133c3",
   "metadata": {
    "execution": {
     "iopub.execute_input": "2021-11-16T10:07:36.387859Z",
     "iopub.status.busy": "2021-11-16T10:07:36.387327Z",
     "iopub.status.idle": "2021-11-16T10:08:58.406732Z",
     "shell.execute_reply": "2021-11-16T10:08:58.407228Z"
    },
    "papermill": {
     "duration": 82.052896,
     "end_time": "2021-11-16T10:08:58.407380",
     "exception": false,
     "start_time": "2021-11-16T10:07:36.354484",
     "status": "completed"
    },
    "tags": []
   },
   "outputs": [
    {
     "name": "stdout",
     "output_type": "stream",
     "text": [
      "Epoch 0, Loss 0.2447\n",
      "Training Accuracy: 0.7043, Testing Accuracy: 0.6981\n",
      "\n"
     ]
    },
    {
     "name": "stdout",
     "output_type": "stream",
     "text": [
      "Epoch 10, Loss 0.071\n",
      "Training Accuracy: 0.9296, Testing Accuracy: 0.9360\n",
      "\n"
     ]
    },
    {
     "name": "stdout",
     "output_type": "stream",
     "text": [
      "Epoch 20, Loss 0.0472\n",
      "Training Accuracy: 0.9510, Testing Accuracy: 0.9526\n",
      "\n"
     ]
    },
    {
     "name": "stdout",
     "output_type": "stream",
     "text": [
      "Epoch 30, Loss 0.0386\n",
      "Training Accuracy: 0.9581, Testing Accuracy: 0.9632\n",
      "\n"
     ]
    },
    {
     "name": "stdout",
     "output_type": "stream",
     "text": [
      "Epoch 40, Loss 0.034\n",
      "Training Accuracy: 0.9626, Testing Accuracy: 0.9667\n",
      "\n"
     ]
    },
    {
     "name": "stdout",
     "output_type": "stream",
     "text": [
      "Epoch 50, Loss 0.0312\n",
      "Training Accuracy: 0.9649, Testing Accuracy: 0.9672\n",
      "\n"
     ]
    },
    {
     "name": "stdout",
     "output_type": "stream",
     "text": [
      "Epoch 60, Loss 0.0291\n",
      "Training Accuracy: 0.9668, Testing Accuracy: 0.9677\n",
      "\n"
     ]
    },
    {
     "name": "stdout",
     "output_type": "stream",
     "text": [
      "Epoch 70, Loss 0.0276\n",
      "Training Accuracy: 0.9683, Testing Accuracy: 0.9703\n",
      "\n"
     ]
    },
    {
     "name": "stdout",
     "output_type": "stream",
     "text": [
      "Epoch 80, Loss 0.0263\n",
      "Training Accuracy: 0.9695, Testing Accuracy: 0.9708\n",
      "\n"
     ]
    },
    {
     "name": "stdout",
     "output_type": "stream",
     "text": [
      "Epoch 90, Loss 0.0252\n",
      "Training Accuracy: 0.9703, Testing Accuracy: 0.9713\n",
      "\n"
     ]
    },
    {
     "name": "stdout",
     "output_type": "stream",
     "text": [
      "Epoch 100, Loss 0.0243\n",
      "Training Accuracy: 0.9714, Testing Accuracy: 0.9728\n",
      "\n"
     ]
    },
    {
     "name": "stdout",
     "output_type": "stream",
     "text": [
      "Epoch 110, Loss 0.0234\n",
      "Training Accuracy: 0.9724, Testing Accuracy: 0.9718\n",
      "\n"
     ]
    },
    {
     "name": "stdout",
     "output_type": "stream",
     "text": [
      "Epoch 120, Loss 0.0227\n",
      "Training Accuracy: 0.9738, Testing Accuracy: 0.9723\n",
      "\n"
     ]
    },
    {
     "name": "stdout",
     "output_type": "stream",
     "text": [
      "Epoch 130, Loss 0.022\n",
      "Training Accuracy: 0.9749, Testing Accuracy: 0.9723\n",
      "\n"
     ]
    },
    {
     "name": "stdout",
     "output_type": "stream",
     "text": [
      "Epoch 140, Loss 0.0213\n",
      "Training Accuracy: 0.9755, Testing Accuracy: 0.9728\n",
      "\n"
     ]
    },
    {
     "name": "stdout",
     "output_type": "stream",
     "text": [
      "Epoch 150, Loss 0.0208\n",
      "Training Accuracy: 0.9760, Testing Accuracy: 0.9733\n",
      "\n"
     ]
    },
    {
     "name": "stdout",
     "output_type": "stream",
     "text": [
      "Epoch 160, Loss 0.0202\n",
      "Training Accuracy: 0.9765, Testing Accuracy: 0.9743\n",
      "\n"
     ]
    },
    {
     "name": "stdout",
     "output_type": "stream",
     "text": [
      "Epoch 170, Loss 0.0197\n",
      "Training Accuracy: 0.9778, Testing Accuracy: 0.9748\n",
      "\n"
     ]
    },
    {
     "name": "stdout",
     "output_type": "stream",
     "text": [
      "Epoch 180, Loss 0.0191\n",
      "Training Accuracy: 0.9785, Testing Accuracy: 0.9748\n",
      "\n"
     ]
    },
    {
     "name": "stdout",
     "output_type": "stream",
     "text": [
      "Epoch 190, Loss 0.0187\n",
      "Training Accuracy: 0.9790, Testing Accuracy: 0.9748\n",
      "\n"
     ]
    },
    {
     "name": "stdout",
     "output_type": "stream",
     "text": [
      "Epoch 200, Loss 0.0182\n",
      "Training Accuracy: 0.9800, Testing Accuracy: 0.9758\n",
      "\n"
     ]
    },
    {
     "name": "stdout",
     "output_type": "stream",
     "text": [
      "Epoch 210, Loss 0.0177\n",
      "Training Accuracy: 0.9806, Testing Accuracy: 0.9748\n",
      "\n"
     ]
    },
    {
     "name": "stdout",
     "output_type": "stream",
     "text": [
      "Epoch 220, Loss 0.0173\n",
      "Training Accuracy: 0.9813, Testing Accuracy: 0.9758\n",
      "\n"
     ]
    },
    {
     "name": "stdout",
     "output_type": "stream",
     "text": [
      "Epoch 230, Loss 0.0168\n",
      "Training Accuracy: 0.9816, Testing Accuracy: 0.9758\n",
      "\n"
     ]
    },
    {
     "name": "stdout",
     "output_type": "stream",
     "text": [
      "Epoch 240, Loss 0.0164\n",
      "Training Accuracy: 0.9819, Testing Accuracy: 0.9778\n",
      "\n"
     ]
    },
    {
     "data": {
      "text/plain": [
       "0.035836163539824675"
      ]
     },
     "execution_count": 22,
     "metadata": {},
     "output_type": "execute_result"
    }
   ],
   "source": [
    "nn_learner.train_loop(dl)"
   ]
  },
  {
   "cell_type": "code",
   "execution_count": 23,
   "id": "e0163366",
   "metadata": {
    "execution": {
     "iopub.execute_input": "2021-11-16T10:08:58.503664Z",
     "iopub.status.busy": "2021-11-16T10:08:58.503110Z",
     "iopub.status.idle": "2021-11-16T10:09:13.724063Z",
     "shell.execute_reply": "2021-11-16T10:09:13.724827Z"
    },
    "papermill": {
     "duration": 15.282957,
     "end_time": "2021-11-16T10:09:13.724984",
     "exception": false,
     "start_time": "2021-11-16T10:08:58.442027",
     "status": "completed"
    },
    "tags": []
   },
   "outputs": [
    {
     "name": "stdout",
     "output_type": "stream",
     "text": [
      "Epoch 0, Loss 0.2485\n",
      "Training Accuracy: 0.6565, Testing Accuracy: 0.6401\n",
      "\n"
     ]
    },
    {
     "name": "stdout",
     "output_type": "stream",
     "text": [
      "Epoch 10, Loss 0.104\n",
      "Training Accuracy: 0.9087, Testing Accuracy: 0.9214\n",
      "\n"
     ]
    },
    {
     "name": "stdout",
     "output_type": "stream",
     "text": [
      "Epoch 20, Loss 0.0798\n",
      "Training Accuracy: 0.9254, Testing Accuracy: 0.9425\n",
      "\n"
     ]
    },
    {
     "name": "stdout",
     "output_type": "stream",
     "text": [
      "Epoch 30, Loss 0.0687\n",
      "Training Accuracy: 0.9339, Testing Accuracy: 0.9491\n",
      "\n"
     ]
    },
    {
     "name": "stdout",
     "output_type": "stream",
     "text": [
      "Epoch 40, Loss 0.062\n",
      "Training Accuracy: 0.9402, Testing Accuracy: 0.9516\n",
      "\n"
     ]
    },
    {
     "name": "stdout",
     "output_type": "stream",
     "text": [
      "Epoch 50, Loss 0.0575\n",
      "Training Accuracy: 0.9447, Testing Accuracy: 0.9536\n",
      "\n"
     ]
    },
    {
     "name": "stdout",
     "output_type": "stream",
     "text": [
      "Epoch 60, Loss 0.0541\n",
      "Training Accuracy: 0.9480, Testing Accuracy: 0.9567\n",
      "\n"
     ]
    },
    {
     "name": "stdout",
     "output_type": "stream",
     "text": [
      "Epoch 70, Loss 0.0515\n",
      "Training Accuracy: 0.9496, Testing Accuracy: 0.9582\n",
      "\n"
     ]
    },
    {
     "name": "stdout",
     "output_type": "stream",
     "text": [
      "Epoch 80, Loss 0.0495\n",
      "Training Accuracy: 0.9513, Testing Accuracy: 0.9582\n",
      "\n"
     ]
    },
    {
     "name": "stdout",
     "output_type": "stream",
     "text": [
      "Epoch 90, Loss 0.0478\n",
      "Training Accuracy: 0.9528, Testing Accuracy: 0.9582\n",
      "\n"
     ]
    },
    {
     "name": "stdout",
     "output_type": "stream",
     "text": [
      "Epoch 100, Loss 0.0463\n",
      "Training Accuracy: 0.9532, Testing Accuracy: 0.9592\n",
      "\n"
     ]
    },
    {
     "name": "stdout",
     "output_type": "stream",
     "text": [
      "Epoch 110, Loss 0.0451\n",
      "Training Accuracy: 0.9540, Testing Accuracy: 0.9607\n",
      "\n"
     ]
    },
    {
     "name": "stdout",
     "output_type": "stream",
     "text": [
      "Epoch 120, Loss 0.044\n",
      "Training Accuracy: 0.9548, Testing Accuracy: 0.9617\n",
      "\n"
     ]
    },
    {
     "name": "stdout",
     "output_type": "stream",
     "text": [
      "Epoch 130, Loss 0.0431\n",
      "Training Accuracy: 0.9552, Testing Accuracy: 0.9617\n",
      "\n"
     ]
    },
    {
     "name": "stdout",
     "output_type": "stream",
     "text": [
      "Epoch 140, Loss 0.0423\n",
      "Training Accuracy: 0.9559, Testing Accuracy: 0.9627\n",
      "\n"
     ]
    },
    {
     "name": "stdout",
     "output_type": "stream",
     "text": [
      "Epoch 150, Loss 0.0415\n",
      "Training Accuracy: 0.9567, Testing Accuracy: 0.9642\n",
      "\n"
     ]
    },
    {
     "name": "stdout",
     "output_type": "stream",
     "text": [
      "Epoch 160, Loss 0.0408\n",
      "Training Accuracy: 0.9576, Testing Accuracy: 0.9647\n",
      "\n"
     ]
    },
    {
     "name": "stdout",
     "output_type": "stream",
     "text": [
      "Epoch 170, Loss 0.0402\n",
      "Training Accuracy: 0.9581, Testing Accuracy: 0.9647\n",
      "\n"
     ]
    },
    {
     "name": "stdout",
     "output_type": "stream",
     "text": [
      "Epoch 180, Loss 0.0397\n",
      "Training Accuracy: 0.9582, Testing Accuracy: 0.9642\n",
      "\n"
     ]
    },
    {
     "name": "stdout",
     "output_type": "stream",
     "text": [
      "Epoch 190, Loss 0.0391\n",
      "Training Accuracy: 0.9584, Testing Accuracy: 0.9642\n",
      "\n"
     ]
    },
    {
     "name": "stdout",
     "output_type": "stream",
     "text": [
      "Epoch 200, Loss 0.0387\n",
      "Training Accuracy: 0.9594, Testing Accuracy: 0.9647\n",
      "\n"
     ]
    },
    {
     "name": "stdout",
     "output_type": "stream",
     "text": [
      "Epoch 210, Loss 0.0382\n",
      "Training Accuracy: 0.9594, Testing Accuracy: 0.9642\n",
      "\n"
     ]
    },
    {
     "name": "stdout",
     "output_type": "stream",
     "text": [
      "Epoch 220, Loss 0.0378\n",
      "Training Accuracy: 0.9598, Testing Accuracy: 0.9647\n",
      "\n"
     ]
    },
    {
     "name": "stdout",
     "output_type": "stream",
     "text": [
      "Epoch 230, Loss 0.0374\n",
      "Training Accuracy: 0.9602, Testing Accuracy: 0.9647\n",
      "\n"
     ]
    },
    {
     "name": "stdout",
     "output_type": "stream",
     "text": [
      "Epoch 240, Loss 0.037\n",
      "Training Accuracy: 0.9605, Testing Accuracy: 0.9647\n",
      "\n"
     ]
    },
    {
     "data": {
      "text/plain": [
       "0.03296064695037493"
      ]
     },
     "execution_count": 23,
     "metadata": {},
     "output_type": "execute_result"
    }
   ],
   "source": [
    "lr_learner.train_loop(dl)"
   ]
  },
  {
   "cell_type": "code",
   "execution_count": 24,
   "id": "ca410940",
   "metadata": {
    "execution": {
     "iopub.execute_input": "2021-11-16T10:09:13.815915Z",
     "iopub.status.busy": "2021-11-16T10:09:13.815360Z",
     "iopub.status.idle": "2021-11-16T10:09:14.051082Z",
     "shell.execute_reply": "2021-11-16T10:09:14.050646Z"
    },
    "papermill": {
     "duration": 0.284414,
     "end_time": "2021-11-16T10:09:14.051216",
     "exception": false,
     "start_time": "2021-11-16T10:09:13.766802",
     "status": "completed"
    },
    "tags": []
   },
   "outputs": [
    {
     "data": {
      "text/plain": [
       "<matplotlib.legend.Legend at 0x7f755ff537f0>"
      ]
     },
     "execution_count": 24,
     "metadata": {},
     "output_type": "execute_result"
    },
    {
     "data": {
      "image/png": "[encoded data removed]",
      "text/plain": [
       "<Figure size 1080x720 with 1 Axes>"
      ]
     },
     "metadata": {
      "needs_background": "light"
     },
     "output_type": "display_data"
    }
   ],
   "source": [
    "#comparing the results of NN and LR\n",
    "plt.figure(figsize=(15,10))\n",
    "\n",
    "# Neural Network plots\n",
    "plt.plot(acc_nn.accuracies, 'r-', label = \"Training Accuracies - NN\")\n",
    "plt.plot(acc_nn.test_accuracies, 'g-', label = \"Testing Accuracies - NN\")\n",
    "\n",
    "# Logistic Regression plots\n",
    "plt.plot(acc_lr.accuracies, 'k-', label = \"Training Accuracies - LR\")\n",
    "plt.plot(acc_lr.test_accuracies, 'b-', label = \"Testing Accuracies - LR\")\n",
    "plt.legend()"
   ]
  },
  {
   "cell_type": "markdown",
   "id": "80dfb35c",
   "metadata": {
    "papermill": {
     "duration": 0.042289,
     "end_time": "2021-11-16T10:09:14.136175",
     "exception": false,
     "start_time": "2021-11-16T10:09:14.093886",
     "status": "completed"
    },
    "tags": []
   },
   "source": [
    "#### Plotting the outputs of this layer of the NN.\n"
   ]
  },
  {
   "cell_type": "code",
   "execution_count": 25,
   "id": "45eb2ff5",
   "metadata": {
    "execution": {
     "iopub.execute_input": "2021-11-16T10:09:14.232242Z",
     "iopub.status.busy": "2021-11-16T10:09:14.231668Z",
     "iopub.status.idle": "2021-11-16T10:09:14.249584Z",
     "shell.execute_reply": "2021-11-16T10:09:14.250054Z"
    },
    "papermill": {
     "duration": 0.07146,
     "end_time": "2021-11-16T10:09:14.250209",
     "exception": false,
     "start_time": "2021-11-16T10:09:14.178749",
     "status": "completed"
    },
    "tags": []
   },
   "outputs": [],
   "source": [
    "new_model = Model(layers[:-2])\n",
    "testing_plot = new_model(testing_data_x)"
   ]
  },
  {
   "cell_type": "code",
   "execution_count": 26,
   "id": "4c0a5485",
   "metadata": {
    "execution": {
     "iopub.execute_input": "2021-11-16T10:09:14.341111Z",
     "iopub.status.busy": "2021-11-16T10:09:14.340550Z",
     "iopub.status.idle": "2021-11-16T10:09:14.584488Z",
     "shell.execute_reply": "2021-11-16T10:09:14.584041Z"
    },
    "papermill": {
     "duration": 0.291642,
     "end_time": "2021-11-16T10:09:14.584615",
     "exception": false,
     "start_time": "2021-11-16T10:09:14.292973",
     "status": "completed"
    },
    "tags": []
   },
   "outputs": [
    {
     "data": {
      "text/plain": [
       "Text(0.5, 1.0, 'Outputs')"
      ]
     },
     "execution_count": 26,
     "metadata": {},
     "output_type": "execute_result"
    },
    {
     "data": {
      "image/png": "[encoded data removed]",
      "text/plain": [
       "<Figure size 576x504 with 1 Axes>"
      ]
     },
     "metadata": {
      "needs_background": "light"
     },
     "output_type": "display_data"
    }
   ],
   "source": [
    "# Plotting the scatter plot of points and color coding by class\n",
    "plt.figure(figsize=(8,7))\n",
    "plt.scatter(testing_plot[:,0], testing_plot[:,1], alpha = 0.1, c = y_test.ravel());\n",
    "plt.title('Outputs')"
   ]
  },
  {
   "cell_type": "markdown",
   "id": "a74fcf8f",
   "metadata": {
    "papermill": {
     "duration": 0.046047,
     "end_time": "2021-11-16T10:09:14.676884",
     "exception": false,
     "start_time": "2021-11-16T10:09:14.630837",
     "status": "completed"
    },
    "tags": []
   },
   "source": [
    "Probability contours"
   ]
  },
  {
   "cell_type": "code",
   "execution_count": 27,
   "id": "d0afc8e3",
   "metadata": {
    "execution": {
     "iopub.execute_input": "2021-11-16T10:09:14.775566Z",
     "iopub.status.busy": "2021-11-16T10:09:14.774921Z",
     "iopub.status.idle": "2021-11-16T10:09:14.785109Z",
     "shell.execute_reply": "2021-11-16T10:09:14.785531Z"
    },
    "papermill": {
     "duration": 0.062445,
     "end_time": "2021-11-16T10:09:14.785696",
     "exception": false,
     "start_time": "2021-11-16T10:09:14.723251",
     "status": "completed"
    },
    "tags": []
   },
   "outputs": [],
   "source": [
    "model_prob = Model(layers[-2:]) "
   ]
  },
  {
   "cell_type": "code",
   "execution_count": 28,
   "id": "9b96e238",
   "metadata": {
    "execution": {
     "iopub.execute_input": "2021-11-16T10:09:14.883432Z",
     "iopub.status.busy": "2021-11-16T10:09:14.882893Z",
     "iopub.status.idle": "2021-11-16T10:09:14.897604Z",
     "shell.execute_reply": "2021-11-16T10:09:14.898021Z"
    },
    "papermill": {
     "duration": 0.066205,
     "end_time": "2021-11-16T10:09:14.898185",
     "exception": false,
     "start_time": "2021-11-16T10:09:14.831980",
     "status": "completed"
    },
    "tags": []
   },
   "outputs": [],
   "source": [
    "#creating the x and y ranges according to the above generated plot.\n",
    "x_range = np.linspace(-4, 1, 100) \n",
    "y_range = np.linspace(-6, 6, 100) \n",
    "x_grid, y_grid = np.meshgrid(x_range, y_range) # x_grid and y_grig are of size 100 X 100\n",
    "\n",
    "# converting x_grid and y_grid to continuous arrays\n",
    "x_gridflat = np.ravel(x_grid)\n",
    "y_gridflat = np.ravel(y_grid)\n",
    "\n",
    "# The last layer of the current model takes two columns as input. Hence transpose of np.vstack() is required.\n",
    "X = np.vstack((x_gridflat, y_gridflat)).T\n",
    "\n",
    "prob_contour = model_prob(X).reshape(100,100) "
   ]
  },
  {
   "cell_type": "code",
   "execution_count": 29,
   "id": "da72499a",
   "metadata": {
    "execution": {
     "iopub.execute_input": "2021-11-16T10:09:15.037583Z",
     "iopub.status.busy": "2021-11-16T10:09:15.037029Z",
     "iopub.status.idle": "2021-11-16T10:09:15.285239Z",
     "shell.execute_reply": "2021-11-16T10:09:15.284740Z"
    },
    "papermill": {
     "duration": 0.303107,
     "end_time": "2021-11-16T10:09:15.285382",
     "exception": false,
     "start_time": "2021-11-16T10:09:14.982275",
     "status": "completed"
    },
    "tags": []
   },
   "outputs": [
    {
     "data": {
      "image/png": "[encoded data removed]",
      "text/plain": [
       "<Figure size 720x648 with 1 Axes>"
      ]
     },
     "metadata": {
      "needs_background": "light"
     },
     "output_type": "display_data"
    }
   ],
   "source": [
    "plt.figure(figsize=(10,9))\n",
    "plt.scatter(testing_plot[:,0], testing_plot[:,1], alpha = 0.1, c = y_test.ravel())\n",
    "contours = plt.contour(x_grid,y_grid,prob_contour)\n",
    "plt.title('Probability Contours')\n",
    "plt.clabel(contours, inline = True );"
   ]
  },
  {
   "cell_type": "code",
   "execution_count": null,
   "id": "e81b4ac7",
   "metadata": {
    "papermill": {
     "duration": 0.048169,
     "end_time": "2021-11-16T10:09:15.382460",
     "exception": false,
     "start_time": "2021-11-16T10:09:15.334291",
     "status": "completed"
    },
    "tags": []
   },
   "outputs": [],
   "source": []
  }
 ],
 "metadata": {
  "kernelspec": {
   "display_name": "Python 3",
   "language": "python",
   "name": "python3"
  },
  "language_info": {
   "codemirror_mode": {
    "name": "ipython",
    "version": 3
   },
   "file_extension": ".py",
   "mimetype": "text/x-python",
   "name": "python",
   "nbconvert_exporter": "python",
   "pygments_lexer": "ipython3",
   "version": "3.6.15"
  },
  "papermill": {
   "default_parameters": {},
   "duration": 105.589637,
   "end_time": "2021-11-16T10:09:15.840190",
   "environment_variables": {},
   "exception": null,
   "input_path": "2020-08-11-part2.ipynb",
   "output_path": "2020-08-11-part2.ipynb",
   "parameters": {},
   "start_time": "2021-11-16T10:07:30.250553",
   "version": "2.3.3"
  }
 },
 "nbformat": 4,
 "nbformat_minor": 5
}