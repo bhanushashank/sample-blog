{
 "cells": [
  {
   "cell_type": "markdown",
   "id": "98380cd3",
   "metadata": {
    "papermill": {
     "duration": 0.037491,
     "end_time": "2021-10-22T10:08:20.186675",
     "exception": false,
     "start_time": "2021-10-22T10:08:20.149184",
     "status": "completed"
    },
    "tags": []
   },
   "source": [
    "# Distinguish Your Own Digits (DYOD)"
   ]
  },
  {
   "cell_type": "markdown",
   "id": "ef31240d",
   "metadata": {
    "papermill": {
     "duration": 0.029857,
     "end_time": "2021-10-22T10:08:20.248762",
     "exception": false,
     "start_time": "2021-10-22T10:08:20.218905",
     "status": "completed"
    },
    "tags": []
   },
   "source": [
    "You are going to write a classifier that distinguishes between the number 3 and number 8."
   ]
  },
  {
   "cell_type": "code",
   "execution_count": 1,
   "id": "b15c8646",
   "metadata": {
    "execution": {
     "iopub.execute_input": "2021-10-22T10:08:20.322735Z",
     "iopub.status.busy": "2021-10-22T10:08:20.322138Z",
     "iopub.status.idle": "2021-10-22T10:08:20.334572Z",
     "shell.execute_reply": "2021-10-22T10:08:20.335073Z"
    },
    "papermill": {
     "duration": 0.054382,
     "end_time": "2021-10-22T10:08:20.335227",
     "exception": false,
     "start_time": "2021-10-22T10:08:20.280845",
     "status": "completed"
    },
    "tags": []
   },
   "outputs": [],
   "source": [
    "%load_ext autoreload\n",
    "%autoreload 2"
   ]
  },
  {
   "cell_type": "code",
   "execution_count": 2,
   "id": "22ef38dc",
   "metadata": {
    "execution": {
     "iopub.execute_input": "2021-10-22T10:08:20.400263Z",
     "iopub.status.busy": "2021-10-22T10:08:20.399645Z",
     "iopub.status.idle": "2021-10-22T10:08:21.029521Z",
     "shell.execute_reply": "2021-10-22T10:08:21.030017Z"
    },
    "papermill": {
     "duration": 0.663903,
     "end_time": "2021-10-22T10:08:21.030206",
     "exception": false,
     "start_time": "2021-10-22T10:08:20.366303",
     "status": "completed"
    },
    "tags": []
   },
   "outputs": [],
   "source": [
    "%matplotlib inline\n",
    "import numpy as np\n",
    "import matplotlib.pyplot as plt\n",
    "import pandas as pd"
   ]
  },
  {
   "cell_type": "markdown",
   "id": "ba036198",
   "metadata": {
    "papermill": {
     "duration": 0.029734,
     "end_time": "2021-10-22T10:08:21.096587",
     "exception": false,
     "start_time": "2021-10-22T10:08:21.066853",
     "status": "completed"
    },
    "tags": []
   },
   "source": [
    "From the command line run `pip install mnist`. This is a library that will help you bring down the mnist dataset. If you run this from a notebook, you need to put  `!pip install mnist` in a cell by itself."
   ]
  },
  {
   "cell_type": "code",
   "execution_count": 3,
   "id": "bb6ad8a1",
   "metadata": {
    "execution": {
     "iopub.execute_input": "2021-10-22T10:08:21.164461Z",
     "iopub.status.busy": "2021-10-22T10:08:21.163678Z",
     "iopub.status.idle": "2021-10-22T10:08:23.211250Z",
     "shell.execute_reply": "2021-10-22T10:08:23.211844Z"
    },
    "papermill": {
     "duration": 2.085608,
     "end_time": "2021-10-22T10:08:23.212050",
     "exception": false,
     "start_time": "2021-10-22T10:08:21.126442",
     "status": "completed"
    },
    "tags": []
   },
   "outputs": [
    {
     "name": "stdout",
     "output_type": "stream",
     "text": [
      "Collecting mnist\r\n"
     ]
    },
    {
     "name": "stdout",
     "output_type": "stream",
     "text": [
      "  Downloading mnist-0.2.2-py2.py3-none-any.whl (3.5 kB)\r\n",
      "Requirement already satisfied: numpy in /opt/hostedtoolcache/Python/3.6.15/x64/lib/python3.6/site-packages (from mnist) (1.19.5)\r\n"
     ]
    },
    {
     "name": "stdout",
     "output_type": "stream",
     "text": [
      "Installing collected packages: mnist\r\n"
     ]
    },
    {
     "name": "stdout",
     "output_type": "stream",
     "text": [
      "Successfully installed mnist-0.2.2\r\n"
     ]
    }
   ],
   "source": [
    "!pip install mnist"
   ]
  },
  {
   "cell_type": "markdown",
   "id": "69df9c9a",
   "metadata": {
    "papermill": {
     "duration": 0.034264,
     "end_time": "2021-10-22T10:08:23.281051",
     "exception": false,
     "start_time": "2021-10-22T10:08:23.246787",
     "status": "completed"
    },
    "tags": []
   },
   "source": [
    "## Preparing the Data"
   ]
  },
  {
   "cell_type": "code",
   "execution_count": 4,
   "id": "7f69d806",
   "metadata": {
    "execution": {
     "iopub.execute_input": "2021-10-22T10:08:23.349386Z",
     "iopub.status.busy": "2021-10-22T10:08:23.348724Z",
     "iopub.status.idle": "2021-10-22T10:08:23.366440Z",
     "shell.execute_reply": "2021-10-22T10:08:23.365828Z"
    },
    "papermill": {
     "duration": 0.054295,
     "end_time": "2021-10-22T10:08:23.366581",
     "exception": false,
     "start_time": "2021-10-22T10:08:23.312286",
     "status": "completed"
    },
    "tags": []
   },
   "outputs": [],
   "source": [
    "import mnist"
   ]
  },
  {
   "cell_type": "code",
   "execution_count": 5,
   "id": "a411e44f",
   "metadata": {
    "execution": {
     "iopub.execute_input": "2021-10-22T10:08:23.431819Z",
     "iopub.status.busy": "2021-10-22T10:08:23.431156Z",
     "iopub.status.idle": "2021-10-22T10:08:24.018737Z",
     "shell.execute_reply": "2021-10-22T10:08:24.018110Z"
    },
    "papermill": {
     "duration": 0.620758,
     "end_time": "2021-10-22T10:08:24.018898",
     "exception": false,
     "start_time": "2021-10-22T10:08:23.398140",
     "status": "completed"
    },
    "tags": []
   },
   "outputs": [],
   "source": [
    "train_images = mnist.train_images()\n",
    "train_labels = mnist.train_labels()"
   ]
  },
  {
   "cell_type": "code",
   "execution_count": 6,
   "id": "dceab3a5",
   "metadata": {
    "execution": {
     "iopub.execute_input": "2021-10-22T10:08:24.089003Z",
     "iopub.status.busy": "2021-10-22T10:08:24.088318Z",
     "iopub.status.idle": "2021-10-22T10:08:24.106172Z",
     "shell.execute_reply": "2021-10-22T10:08:24.105632Z"
    },
    "papermill": {
     "duration": 0.055776,
     "end_time": "2021-10-22T10:08:24.106308",
     "exception": false,
     "start_time": "2021-10-22T10:08:24.050532",
     "status": "completed"
    },
    "tags": []
   },
   "outputs": [
    {
     "data": {
      "text/plain": [
       "((60000, 28, 28), (60000,))"
      ]
     },
     "execution_count": 6,
     "metadata": {},
     "output_type": "execute_result"
    }
   ],
   "source": [
    "train_images.shape, train_labels.shape"
   ]
  },
  {
   "cell_type": "code",
   "execution_count": 7,
   "id": "f50dc2bb",
   "metadata": {
    "execution": {
     "iopub.execute_input": "2021-10-22T10:08:24.173602Z",
     "iopub.status.busy": "2021-10-22T10:08:24.172680Z",
     "iopub.status.idle": "2021-10-22T10:08:24.349266Z",
     "shell.execute_reply": "2021-10-22T10:08:24.348582Z"
    },
    "papermill": {
     "duration": 0.211936,
     "end_time": "2021-10-22T10:08:24.349422",
     "exception": false,
     "start_time": "2021-10-22T10:08:24.137486",
     "status": "completed"
    },
    "tags": []
   },
   "outputs": [],
   "source": [
    "test_images = mnist.test_images()\n",
    "test_labels = mnist.test_labels()"
   ]
  },
  {
   "cell_type": "code",
   "execution_count": 8,
   "id": "fc38cf1b",
   "metadata": {
    "execution": {
     "iopub.execute_input": "2021-10-22T10:08:24.422884Z",
     "iopub.status.busy": "2021-10-22T10:08:24.422180Z",
     "iopub.status.idle": "2021-10-22T10:08:24.434487Z",
     "shell.execute_reply": "2021-10-22T10:08:24.434992Z"
    },
    "papermill": {
     "duration": 0.052376,
     "end_time": "2021-10-22T10:08:24.435118",
     "exception": false,
     "start_time": "2021-10-22T10:08:24.382742",
     "status": "completed"
    },
    "tags": []
   },
   "outputs": [
    {
     "data": {
      "text/plain": [
       "((10000, 28, 28), (10000,))"
      ]
     },
     "execution_count": 8,
     "metadata": {},
     "output_type": "execute_result"
    }
   ],
   "source": [
    "test_images.shape, test_labels.shape"
   ]
  },
  {
   "cell_type": "code",
   "execution_count": 9,
   "id": "f9ed8fe0",
   "metadata": {
    "execution": {
     "iopub.execute_input": "2021-10-22T10:08:24.506594Z",
     "iopub.status.busy": "2021-10-22T10:08:24.505854Z",
     "iopub.status.idle": "2021-10-22T10:08:24.696310Z",
     "shell.execute_reply": "2021-10-22T10:08:24.696869Z"
    },
    "papermill": {
     "duration": 0.2319,
     "end_time": "2021-10-22T10:08:24.697039",
     "exception": false,
     "start_time": "2021-10-22T10:08:24.465139",
     "status": "completed"
    },
    "tags": []
   },
   "outputs": [
    {
     "name": "stdout",
     "output_type": "stream",
     "text": [
      "2\n"
     ]
    },
    {
     "data": {
      "text/plain": [
       "<matplotlib.image.AxesImage at 0x7f8e664f6f98>"
      ]
     },
     "execution_count": 9,
     "metadata": {},
     "output_type": "execute_result"
    },
    {
     "data": {
      "image/png": "[encoded data removed]",
      "text/plain": [
       "<Figure size 432x288 with 1 Axes>"
      ]
     },
     "metadata": {
      "needs_background": "light"
     },
     "output_type": "display_data"
    }
   ],
   "source": [
    "image_index = 7776 # You may select anything up to 60,000\n",
    "print(train_labels[image_index]) \n",
    "plt.imshow(train_images[image_index], cmap='Greys')"
   ]
  },
  {
   "cell_type": "markdown",
   "id": "a8d2388d",
   "metadata": {
    "papermill": {
     "duration": 0.032988,
     "end_time": "2021-10-22T10:08:24.763291",
     "exception": false,
     "start_time": "2021-10-22T10:08:24.730303",
     "status": "completed"
    },
    "tags": []
   },
   "source": [
    "## Filter data to get 3 and 8 out"
   ]
  },
  {
   "cell_type": "code",
   "execution_count": 10,
   "id": "776f7fc7",
   "metadata": {
    "execution": {
     "iopub.execute_input": "2021-10-22T10:08:24.838775Z",
     "iopub.status.busy": "2021-10-22T10:08:24.834408Z",
     "iopub.status.idle": "2021-10-22T10:08:24.855848Z",
     "shell.execute_reply": "2021-10-22T10:08:24.856437Z"
    },
    "papermill": {
     "duration": 0.06004,
     "end_time": "2021-10-22T10:08:24.856608",
     "exception": false,
     "start_time": "2021-10-22T10:08:24.796568",
     "status": "completed"
    },
    "tags": []
   },
   "outputs": [],
   "source": [
    "train_filter = np.where((train_labels == 3 ) | (train_labels == 8))\n",
    "test_filter = np.where((test_labels == 3) | (test_labels == 8))\n",
    "X_train, y_train = train_images[train_filter], train_labels[train_filter]\n",
    "X_test, y_test = test_images[test_filter], test_labels[test_filter]"
   ]
  },
  {
   "cell_type": "markdown",
   "id": "948f0b7e",
   "metadata": {
    "papermill": {
     "duration": 0.034568,
     "end_time": "2021-10-22T10:08:24.925858",
     "exception": false,
     "start_time": "2021-10-22T10:08:24.891290",
     "status": "completed"
    },
    "tags": []
   },
   "source": [
    "We normalize the pizel values in the 0 to 1 range"
   ]
  },
  {
   "cell_type": "code",
   "execution_count": 11,
   "id": "ee4c2166",
   "metadata": {
    "execution": {
     "iopub.execute_input": "2021-10-22T10:08:24.995787Z",
     "iopub.status.busy": "2021-10-22T10:08:24.995118Z",
     "iopub.status.idle": "2021-10-22T10:08:25.063579Z",
     "shell.execute_reply": "2021-10-22T10:08:25.062956Z"
    },
    "papermill": {
     "duration": 0.107047,
     "end_time": "2021-10-22T10:08:25.063750",
     "exception": false,
     "start_time": "2021-10-22T10:08:24.956703",
     "status": "completed"
    },
    "tags": []
   },
   "outputs": [],
   "source": [
    "X_train = X_train/255.\n",
    "X_test = X_test/255."
   ]
  },
  {
   "cell_type": "markdown",
   "id": "ddcf4fab",
   "metadata": {
    "papermill": {
     "duration": 0.032805,
     "end_time": "2021-10-22T10:08:25.132111",
     "exception": false,
     "start_time": "2021-10-22T10:08:25.099306",
     "status": "completed"
    },
    "tags": []
   },
   "source": [
    "And setup the labels as 1 (when the digit is 3) and 0 (when the digit is 8)"
   ]
  },
  {
   "cell_type": "code",
   "execution_count": 12,
   "id": "7dc908f2",
   "metadata": {
    "execution": {
     "iopub.execute_input": "2021-10-22T10:08:25.201498Z",
     "iopub.status.busy": "2021-10-22T10:08:25.200759Z",
     "iopub.status.idle": "2021-10-22T10:08:25.215642Z",
     "shell.execute_reply": "2021-10-22T10:08:25.216184Z"
    },
    "papermill": {
     "duration": 0.052415,
     "end_time": "2021-10-22T10:08:25.216322",
     "exception": false,
     "start_time": "2021-10-22T10:08:25.163907",
     "status": "completed"
    },
    "tags": []
   },
   "outputs": [],
   "source": [
    "y_train = 1*(y_train==3)\n",
    "y_test = 1*(y_test==3)"
   ]
  },
  {
   "cell_type": "code",
   "execution_count": 13,
   "id": "01e4e969",
   "metadata": {
    "execution": {
     "iopub.execute_input": "2021-10-22T10:08:25.288023Z",
     "iopub.status.busy": "2021-10-22T10:08:25.287281Z",
     "iopub.status.idle": "2021-10-22T10:08:25.301397Z",
     "shell.execute_reply": "2021-10-22T10:08:25.300884Z"
    },
    "papermill": {
     "duration": 0.052553,
     "end_time": "2021-10-22T10:08:25.301528",
     "exception": false,
     "start_time": "2021-10-22T10:08:25.248975",
     "status": "completed"
    },
    "tags": []
   },
   "outputs": [
    {
     "data": {
      "text/plain": [
       "((11982, 28, 28), (1984, 28, 28))"
      ]
     },
     "execution_count": 13,
     "metadata": {},
     "output_type": "execute_result"
    }
   ],
   "source": [
    "X_train.shape, X_test.shape"
   ]
  },
  {
   "cell_type": "markdown",
   "id": "5ccf3f85",
   "metadata": {
    "papermill": {
     "duration": 0.033888,
     "end_time": "2021-10-22T10:08:25.368107",
     "exception": false,
     "start_time": "2021-10-22T10:08:25.334219",
     "status": "completed"
    },
    "tags": []
   },
   "source": [
    "We reshape the data to flatten the image pixels into a set of features or co-variates:"
   ]
  },
  {
   "cell_type": "code",
   "execution_count": 14,
   "id": "5286a4a3",
   "metadata": {
    "execution": {
     "iopub.execute_input": "2021-10-22T10:08:25.438059Z",
     "iopub.status.busy": "2021-10-22T10:08:25.437474Z",
     "iopub.status.idle": "2021-10-22T10:08:25.452560Z",
     "shell.execute_reply": "2021-10-22T10:08:25.453057Z"
    },
    "papermill": {
     "duration": 0.052121,
     "end_time": "2021-10-22T10:08:25.453185",
     "exception": false,
     "start_time": "2021-10-22T10:08:25.401064",
     "status": "completed"
    },
    "tags": []
   },
   "outputs": [
    {
     "data": {
      "text/plain": [
       "((11982, 784), (1984, 784))"
      ]
     },
     "execution_count": 14,
     "metadata": {},
     "output_type": "execute_result"
    }
   ],
   "source": [
    "X_train = X_train.reshape(X_train.shape[0], -1)\n",
    "X_test = X_test.reshape(X_test.shape[0], -1)\n",
    "X_train.shape, X_test.shape"
   ]
  },
  {
   "cell_type": "code",
   "execution_count": 15,
   "id": "73c5f88a",
   "metadata": {
    "execution": {
     "iopub.execute_input": "2021-10-22T10:08:25.523569Z",
     "iopub.status.busy": "2021-10-22T10:08:25.522918Z",
     "iopub.status.idle": "2021-10-22T10:08:25.543024Z",
     "shell.execute_reply": "2021-10-22T10:08:25.543637Z"
    },
    "papermill": {
     "duration": 0.057857,
     "end_time": "2021-10-22T10:08:25.543774",
     "exception": false,
     "start_time": "2021-10-22T10:08:25.485917",
     "status": "completed"
    },
    "tags": []
   },
   "outputs": [],
   "source": [
    "#Impoting functions from 'Kudzu'\n",
    "from kudzu.model import Model\n",
    "from kudzu.train import Learner\n",
    "from kudzu.optim import GD\n",
    "from kudzu.data import Data, Sampler,Dataloader\n",
    "\n",
    "from kudzu.callbacks import AccCallback\n",
    "from kudzu.callbacks import ClfCallback\n",
    "\n",
    "from kudzu.loss import MSE\n",
    "\n",
    "from kudzu.layer import Sigmoid,Relu\n",
    "from kudzu.layer import Affine"
   ]
  },
  {
   "cell_type": "markdown",
   "id": "bc01172a",
   "metadata": {
    "papermill": {
     "duration": 0.035377,
     "end_time": "2021-10-22T10:08:25.610934",
     "exception": false,
     "start_time": "2021-10-22T10:08:25.575557",
     "status": "completed"
    },
    "tags": []
   },
   "source": [
    "### Let us create a `Config` class, to store important parameters. \n",
    "This class essentially plays the role of a dictionary."
   ]
  },
  {
   "cell_type": "code",
   "execution_count": 16,
   "id": "978281aa",
   "metadata": {
    "execution": {
     "iopub.execute_input": "2021-10-22T10:08:25.686025Z",
     "iopub.status.busy": "2021-10-22T10:08:25.685172Z",
     "iopub.status.idle": "2021-10-22T10:08:25.698089Z",
     "shell.execute_reply": "2021-10-22T10:08:25.698846Z"
    },
    "papermill": {
     "duration": 0.053417,
     "end_time": "2021-10-22T10:08:25.698987",
     "exception": false,
     "start_time": "2021-10-22T10:08:25.645570",
     "status": "completed"
    },
    "tags": []
   },
   "outputs": [],
   "source": [
    "class Config:\n",
    "    pass\n",
    "config = Config()\n",
    "config.lr = 0.001\n",
    "config.num_epochs = 250\n",
    "config.bs = 50"
   ]
  },
  {
   "cell_type": "markdown",
   "id": "1385fa59",
   "metadata": {
    "papermill": {
     "duration": 0.035017,
     "end_time": "2021-10-22T10:08:25.766797",
     "exception": false,
     "start_time": "2021-10-22T10:08:25.731780",
     "status": "completed"
    },
    "tags": []
   },
   "source": [
    "### Running Models with the Training data\n",
    "Details about the network layers:\n",
    "- A first affine layer has 784 inputs and does 100 affine transforms. These are followed by a Relu\n",
    "- A second affine layer has 100 inputs from the 100 activations of the past layer, and does 100 affine transforms. These are followed by a Relu\n",
    "- A third affine layer has 100 activations and does 2 affine transformations to create an embedding for visualization. There is no non-linearity here.\n",
    "- A final \"logistic regression\" which has an affine transform from 2 inputs to 1 output, which is squeezed through a sigmoid.\n"
   ]
  },
  {
   "cell_type": "code",
   "execution_count": 17,
   "id": "2b9c66db",
   "metadata": {
    "execution": {
     "iopub.execute_input": "2021-10-22T10:08:25.840688Z",
     "iopub.status.busy": "2021-10-22T10:08:25.840018Z",
     "iopub.status.idle": "2021-10-22T10:08:25.853536Z",
     "shell.execute_reply": "2021-10-22T10:08:25.854126Z"
    },
    "papermill": {
     "duration": 0.052509,
     "end_time": "2021-10-22T10:08:25.854269",
     "exception": false,
     "start_time": "2021-10-22T10:08:25.801760",
     "status": "completed"
    },
    "tags": []
   },
   "outputs": [],
   "source": [
    "data = Data(X_train, y_train.reshape(-1,1))\n",
    "sampler = Sampler(data, config.bs, shuffle=True)\n",
    "\n",
    "dl = Dataloader(data, sampler)\n",
    "\n",
    "opt = GD(config.lr)\n",
    "loss = MSE()"
   ]
  },
  {
   "cell_type": "code",
   "execution_count": 18,
   "id": "b275e4c2",
   "metadata": {
    "execution": {
     "iopub.execute_input": "2021-10-22T10:08:25.940227Z",
     "iopub.status.busy": "2021-10-22T10:08:25.936307Z",
     "iopub.status.idle": "2021-10-22T10:08:25.945643Z",
     "shell.execute_reply": "2021-10-22T10:08:25.946112Z"
    },
    "papermill": {
     "duration": 0.054923,
     "end_time": "2021-10-22T10:08:25.946240",
     "exception": false,
     "start_time": "2021-10-22T10:08:25.891317",
     "status": "completed"
    },
    "tags": []
   },
   "outputs": [],
   "source": [
    "training_data_x = X_train\n",
    "testing_data_x = X_test\n",
    "training_data_y = y_train.reshape(-1,1)\n",
    "testing_data_y = y_test.reshape(-1,1)"
   ]
  },
  {
   "cell_type": "code",
   "execution_count": 19,
   "id": "76951160",
   "metadata": {
    "execution": {
     "iopub.execute_input": "2021-10-22T10:08:26.023599Z",
     "iopub.status.busy": "2021-10-22T10:08:26.022842Z",
     "iopub.status.idle": "2021-10-22T10:08:26.041700Z",
     "shell.execute_reply": "2021-10-22T10:08:26.041033Z"
    },
    "papermill": {
     "duration": 0.060966,
     "end_time": "2021-10-22T10:08:26.041850",
     "exception": false,
     "start_time": "2021-10-22T10:08:25.980884",
     "status": "completed"
    },
    "tags": []
   },
   "outputs": [
    {
     "name": "stdout",
     "output_type": "stream",
     "text": [
      "xavier\n",
      "xavier\n",
      "xavier\n",
      "xavier\n",
      "xavier\n"
     ]
    }
   ],
   "source": [
    "layers = [Affine(\"first\", 784, 100), Relu(\"first\"), Affine(\"second\", 100, 100), Relu(\"second\"), Affine(\"third\", 100, 2), Affine(\"last\", 2, 1), Sigmoid(\"last\")]\n",
    "model_nn = Model(layers)\n",
    "model_lr = Model([Affine(\"logits\", 784, 1), Sigmoid(\"sigmoid\")])"
   ]
  },
  {
   "cell_type": "code",
   "execution_count": 20,
   "id": "6eede77a",
   "metadata": {
    "execution": {
     "iopub.execute_input": "2021-10-22T10:08:26.120754Z",
     "iopub.status.busy": "2021-10-22T10:08:26.119794Z",
     "iopub.status.idle": "2021-10-22T10:08:26.133101Z",
     "shell.execute_reply": "2021-10-22T10:08:26.133733Z"
    },
    "papermill": {
     "duration": 0.052274,
     "end_time": "2021-10-22T10:08:26.133867",
     "exception": false,
     "start_time": "2021-10-22T10:08:26.081593",
     "status": "completed"
    },
    "tags": []
   },
   "outputs": [],
   "source": [
    "nn_learner = Learner(loss, model_nn, opt, config.num_epochs)\n",
    "acc_nn = ClfCallback(nn_learner, config.bs, training_data_x , testing_data_x, training_data_y, testing_data_y)\n",
    "nn_learner.set_callbacks([acc_nn])"
   ]
  },
  {
   "cell_type": "code",
   "execution_count": 21,
   "id": "877b6cc7",
   "metadata": {
    "execution": {
     "iopub.execute_input": "2021-10-22T10:08:26.204334Z",
     "iopub.status.busy": "2021-10-22T10:08:26.203746Z",
     "iopub.status.idle": "2021-10-22T10:08:26.215870Z",
     "shell.execute_reply": "2021-10-22T10:08:26.216452Z"
    },
    "papermill": {
     "duration": 0.048934,
     "end_time": "2021-10-22T10:08:26.216586",
     "exception": false,
     "start_time": "2021-10-22T10:08:26.167652",
     "status": "completed"
    },
    "tags": []
   },
   "outputs": [],
   "source": [
    "lr_learner = Learner(loss, model_lr, opt, config.num_epochs)\n",
    "acc_lr = ClfCallback(lr_learner, config.bs, training_data_x , testing_data_x, training_data_y, testing_data_y)\n",
    "lr_learner.set_callbacks([acc_lr])"
   ]
  },
  {
   "cell_type": "code",
   "execution_count": 22,
   "id": "d9b133c3",
   "metadata": {
    "execution": {
     "iopub.execute_input": "2021-10-22T10:08:26.289466Z",
     "iopub.status.busy": "2021-10-22T10:08:26.288596Z",
     "iopub.status.idle": "2021-10-22T10:10:50.730631Z",
     "shell.execute_reply": "2021-10-22T10:10:50.731211Z"
    },
    "papermill": {
     "duration": 144.481148,
     "end_time": "2021-10-22T10:10:50.731447",
     "exception": false,
     "start_time": "2021-10-22T10:08:26.250299",
     "status": "completed"
    },
    "tags": []
   },
   "outputs": [
    {
     "name": "stdout",
     "output_type": "stream",
     "text": [
      "Epoch 0, Loss 0.2536\n",
      "Training Accuracy: 0.5298, Testing Accuracy: 0.4919\n",
      "\n"
     ]
    },
    {
     "name": "stdout",
     "output_type": "stream",
     "text": [
      "Epoch 10, Loss 0.1397\n",
      "Training Accuracy: 0.9034, Testing Accuracy: 0.9168\n",
      "\n"
     ]
    },
    {
     "name": "stdout",
     "output_type": "stream",
     "text": [
      "Epoch 20, Loss 0.0728\n",
      "Training Accuracy: 0.9291, Testing Accuracy: 0.9390\n",
      "\n"
     ]
    },
    {
     "name": "stdout",
     "output_type": "stream",
     "text": [
      "Epoch 30, Loss 0.0524\n",
      "Training Accuracy: 0.9426, Testing Accuracy: 0.9526\n",
      "\n"
     ]
    },
    {
     "name": "stdout",
     "output_type": "stream",
     "text": [
      "Epoch 40, Loss 0.0432\n",
      "Training Accuracy: 0.9510, Testing Accuracy: 0.9582\n",
      "\n"
     ]
    },
    {
     "name": "stdout",
     "output_type": "stream",
     "text": [
      "Epoch 50, Loss 0.038\n",
      "Training Accuracy: 0.9564, Testing Accuracy: 0.9627\n",
      "\n"
     ]
    },
    {
     "name": "stdout",
     "output_type": "stream",
     "text": [
      "Epoch 60, Loss 0.0346\n",
      "Training Accuracy: 0.9595, Testing Accuracy: 0.9657\n",
      "\n"
     ]
    },
    {
     "name": "stdout",
     "output_type": "stream",
     "text": [
      "Epoch 70, Loss 0.0322\n",
      "Training Accuracy: 0.9622, Testing Accuracy: 0.9667\n",
      "\n"
     ]
    },
    {
     "name": "stdout",
     "output_type": "stream",
     "text": [
      "Epoch 80, Loss 0.0304\n",
      "Training Accuracy: 0.9643, Testing Accuracy: 0.9688\n",
      "\n"
     ]
    },
    {
     "name": "stdout",
     "output_type": "stream",
     "text": [
      "Epoch 90, Loss 0.0289\n",
      "Training Accuracy: 0.9667, Testing Accuracy: 0.9698\n",
      "\n"
     ]
    },
    {
     "name": "stdout",
     "output_type": "stream",
     "text": [
      "Epoch 100, Loss 0.0277\n",
      "Training Accuracy: 0.9682, Testing Accuracy: 0.9708\n",
      "\n"
     ]
    },
    {
     "name": "stdout",
     "output_type": "stream",
     "text": [
      "Epoch 110, Loss 0.0267\n",
      "Training Accuracy: 0.9700, Testing Accuracy: 0.9723\n",
      "\n"
     ]
    },
    {
     "name": "stdout",
     "output_type": "stream",
     "text": [
      "Epoch 120, Loss 0.0258\n",
      "Training Accuracy: 0.9707, Testing Accuracy: 0.9713\n",
      "\n"
     ]
    },
    {
     "name": "stdout",
     "output_type": "stream",
     "text": [
      "Epoch 130, Loss 0.025\n",
      "Training Accuracy: 0.9713, Testing Accuracy: 0.9708\n",
      "\n"
     ]
    },
    {
     "name": "stdout",
     "output_type": "stream",
     "text": [
      "Epoch 140, Loss 0.0243\n",
      "Training Accuracy: 0.9720, Testing Accuracy: 0.9708\n",
      "\n"
     ]
    },
    {
     "name": "stdout",
     "output_type": "stream",
     "text": [
      "Epoch 150, Loss 0.0236\n",
      "Training Accuracy: 0.9727, Testing Accuracy: 0.9718\n",
      "\n"
     ]
    },
    {
     "name": "stdout",
     "output_type": "stream",
     "text": [
      "Epoch 160, Loss 0.023\n",
      "Training Accuracy: 0.9734, Testing Accuracy: 0.9713\n",
      "\n"
     ]
    },
    {
     "name": "stdout",
     "output_type": "stream",
     "text": [
      "Epoch 170, Loss 0.0225\n",
      "Training Accuracy: 0.9743, Testing Accuracy: 0.9723\n",
      "\n"
     ]
    },
    {
     "name": "stdout",
     "output_type": "stream",
     "text": [
      "Epoch 180, Loss 0.022\n",
      "Training Accuracy: 0.9744, Testing Accuracy: 0.9728\n",
      "\n"
     ]
    },
    {
     "name": "stdout",
     "output_type": "stream",
     "text": [
      "Epoch 190, Loss 0.0215\n",
      "Training Accuracy: 0.9755, Testing Accuracy: 0.9738\n",
      "\n"
     ]
    },
    {
     "name": "stdout",
     "output_type": "stream",
     "text": [
      "Epoch 200, Loss 0.021\n",
      "Training Accuracy: 0.9759, Testing Accuracy: 0.9743\n",
      "\n"
     ]
    },
    {
     "name": "stdout",
     "output_type": "stream",
     "text": [
      "Epoch 210, Loss 0.0206\n",
      "Training Accuracy: 0.9765, Testing Accuracy: 0.9738\n",
      "\n"
     ]
    },
    {
     "name": "stdout",
     "output_type": "stream",
     "text": [
      "Epoch 220, Loss 0.0202\n",
      "Training Accuracy: 0.9775, Testing Accuracy: 0.9738\n",
      "\n"
     ]
    },
    {
     "name": "stdout",
     "output_type": "stream",
     "text": [
      "Epoch 230, Loss 0.0198\n",
      "Training Accuracy: 0.9781, Testing Accuracy: 0.9743\n",
      "\n"
     ]
    },
    {
     "name": "stdout",
     "output_type": "stream",
     "text": [
      "Epoch 240, Loss 0.0194\n",
      "Training Accuracy: 0.9785, Testing Accuracy: 0.9748\n",
      "\n"
     ]
    },
    {
     "data": {
      "text/plain": [
       "0.006453718459626617"
      ]
     },
     "execution_count": 22,
     "metadata": {},
     "output_type": "execute_result"
    }
   ],
   "source": [
    "nn_learner.train_loop(dl)"
   ]
  },
  {
   "cell_type": "code",
   "execution_count": 23,
   "id": "e0163366",
   "metadata": {
    "execution": {
     "iopub.execute_input": "2021-10-22T10:10:50.837189Z",
     "iopub.status.busy": "2021-10-22T10:10:50.836306Z",
     "iopub.status.idle": "2021-10-22T10:11:12.068068Z",
     "shell.execute_reply": "2021-10-22T10:11:12.069330Z"
    },
    "papermill": {
     "duration": 21.289058,
     "end_time": "2021-10-22T10:11:12.069521",
     "exception": false,
     "start_time": "2021-10-22T10:10:50.780463",
     "status": "completed"
    },
    "tags": []
   },
   "outputs": [
    {
     "name": "stdout",
     "output_type": "stream",
     "text": [
      "Epoch 0, Loss 0.2451\n",
      "Training Accuracy: 0.6715, Testing Accuracy: 0.6668\n",
      "\n"
     ]
    },
    {
     "name": "stdout",
     "output_type": "stream",
     "text": [
      "Epoch 10, Loss 0.1065\n",
      "Training Accuracy: 0.8982, Testing Accuracy: 0.9088\n",
      "\n"
     ]
    },
    {
     "name": "stdout",
     "output_type": "stream",
     "text": [
      "Epoch 20, Loss 0.0817\n",
      "Training Accuracy: 0.9195, Testing Accuracy: 0.9309\n",
      "\n"
     ]
    },
    {
     "name": "stdout",
     "output_type": "stream",
     "text": [
      "Epoch 30, Loss 0.0701\n",
      "Training Accuracy: 0.9301, Testing Accuracy: 0.9430\n",
      "\n"
     ]
    },
    {
     "name": "stdout",
     "output_type": "stream",
     "text": [
      "Epoch 40, Loss 0.0631\n",
      "Training Accuracy: 0.9377, Testing Accuracy: 0.9471\n",
      "\n"
     ]
    },
    {
     "name": "stdout",
     "output_type": "stream",
     "text": [
      "Epoch 50, Loss 0.0583\n",
      "Training Accuracy: 0.9426, Testing Accuracy: 0.9516\n",
      "\n"
     ]
    },
    {
     "name": "stdout",
     "output_type": "stream",
     "text": [
      "Epoch 60, Loss 0.0548\n",
      "Training Accuracy: 0.9462, Testing Accuracy: 0.9531\n",
      "\n"
     ]
    },
    {
     "name": "stdout",
     "output_type": "stream",
     "text": [
      "Epoch 70, Loss 0.0521\n",
      "Training Accuracy: 0.9480, Testing Accuracy: 0.9556\n",
      "\n"
     ]
    },
    {
     "name": "stdout",
     "output_type": "stream",
     "text": [
      "Epoch 80, Loss 0.05\n",
      "Training Accuracy: 0.9498, Testing Accuracy: 0.9592\n",
      "\n"
     ]
    },
    {
     "name": "stdout",
     "output_type": "stream",
     "text": [
      "Epoch 90, Loss 0.0482\n",
      "Training Accuracy: 0.9508, Testing Accuracy: 0.9607\n",
      "\n"
     ]
    },
    {
     "name": "stdout",
     "output_type": "stream",
     "text": [
      "Epoch 100, Loss 0.0467\n",
      "Training Accuracy: 0.9515, Testing Accuracy: 0.9602\n",
      "\n"
     ]
    },
    {
     "name": "stdout",
     "output_type": "stream",
     "text": [
      "Epoch 110, Loss 0.0455\n",
      "Training Accuracy: 0.9527, Testing Accuracy: 0.9612\n",
      "\n"
     ]
    },
    {
     "name": "stdout",
     "output_type": "stream",
     "text": [
      "Epoch 120, Loss 0.0444\n",
      "Training Accuracy: 0.9537, Testing Accuracy: 0.9612\n",
      "\n"
     ]
    },
    {
     "name": "stdout",
     "output_type": "stream",
     "text": [
      "Epoch 130, Loss 0.0434\n",
      "Training Accuracy: 0.9545, Testing Accuracy: 0.9617\n",
      "\n"
     ]
    },
    {
     "name": "stdout",
     "output_type": "stream",
     "text": [
      "Epoch 140, Loss 0.0425\n",
      "Training Accuracy: 0.9556, Testing Accuracy: 0.9612\n",
      "\n"
     ]
    },
    {
     "name": "stdout",
     "output_type": "stream",
     "text": [
      "Epoch 150, Loss 0.0417\n",
      "Training Accuracy: 0.9563, Testing Accuracy: 0.9617\n",
      "\n"
     ]
    },
    {
     "name": "stdout",
     "output_type": "stream",
     "text": [
      "Epoch 160, Loss 0.041\n",
      "Training Accuracy: 0.9567, Testing Accuracy: 0.9627\n",
      "\n"
     ]
    },
    {
     "name": "stdout",
     "output_type": "stream",
     "text": [
      "Epoch 170, Loss 0.0404\n",
      "Training Accuracy: 0.9573, Testing Accuracy: 0.9622\n",
      "\n"
     ]
    },
    {
     "name": "stdout",
     "output_type": "stream",
     "text": [
      "Epoch 180, Loss 0.0398\n",
      "Training Accuracy: 0.9577, Testing Accuracy: 0.9642\n",
      "\n"
     ]
    },
    {
     "name": "stdout",
     "output_type": "stream",
     "text": [
      "Epoch 190, Loss 0.0393\n",
      "Training Accuracy: 0.9579, Testing Accuracy: 0.9642\n",
      "\n"
     ]
    },
    {
     "name": "stdout",
     "output_type": "stream",
     "text": [
      "Epoch 200, Loss 0.0388\n",
      "Training Accuracy: 0.9584, Testing Accuracy: 0.9652\n",
      "\n"
     ]
    },
    {
     "name": "stdout",
     "output_type": "stream",
     "text": [
      "Epoch 210, Loss 0.0383\n",
      "Training Accuracy: 0.9586, Testing Accuracy: 0.9657\n",
      "\n"
     ]
    },
    {
     "name": "stdout",
     "output_type": "stream",
     "text": [
      "Epoch 220, Loss 0.0379\n",
      "Training Accuracy: 0.9588, Testing Accuracy: 0.9662\n",
      "\n"
     ]
    },
    {
     "name": "stdout",
     "output_type": "stream",
     "text": [
      "Epoch 230, Loss 0.0375\n",
      "Training Accuracy: 0.9591, Testing Accuracy: 0.9662\n",
      "\n"
     ]
    },
    {
     "name": "stdout",
     "output_type": "stream",
     "text": [
      "Epoch 240, Loss 0.0371\n",
      "Training Accuracy: 0.9599, Testing Accuracy: 0.9662\n",
      "\n"
     ]
    },
    {
     "data": {
      "text/plain": [
       "0.044932594580265856"
      ]
     },
     "execution_count": 23,
     "metadata": {},
     "output_type": "execute_result"
    }
   ],
   "source": [
    "lr_learner.train_loop(dl)"
   ]
  },
  {
   "cell_type": "code",
   "execution_count": 24,
   "id": "ca410940",
   "metadata": {
    "execution": {
     "iopub.execute_input": "2021-10-22T10:11:12.181013Z",
     "iopub.status.busy": "2021-10-22T10:11:12.180366Z",
     "iopub.status.idle": "2021-10-22T10:11:12.482054Z",
     "shell.execute_reply": "2021-10-22T10:11:12.482536Z"
    },
    "papermill": {
     "duration": 0.360826,
     "end_time": "2021-10-22T10:11:12.482706",
     "exception": false,
     "start_time": "2021-10-22T10:11:12.121880",
     "status": "completed"
    },
    "tags": []
   },
   "outputs": [
    {
     "data": {
      "text/plain": [
       "<matplotlib.legend.Legend at 0x7f8e58cdd748>"
      ]
     },
     "execution_count": 24,
     "metadata": {},
     "output_type": "execute_result"
    },
    {
     "data": {
      "image/png": "[encoded data removed]",
      "text/plain": [
       "<Figure size 1080x720 with 1 Axes>"
      ]
     },
     "metadata": {
      "needs_background": "light"
     },
     "output_type": "display_data"
    }
   ],
   "source": [
    "#comparing the results of NN and LR\n",
    "plt.figure(figsize=(15,10))\n",
    "\n",
    "# Neural Network plots\n",
    "plt.plot(acc_nn.accuracies, 'r-', label = \"Training Accuracies - NN\")\n",
    "plt.plot(acc_nn.test_accuracies, 'g-', label = \"Testing Accuracies - NN\")\n",
    "\n",
    "# Logistic Regression plots\n",
    "plt.plot(acc_lr.accuracies, 'k-', label = \"Training Accuracies - LR\")\n",
    "plt.plot(acc_lr.test_accuracies, 'b-', label = \"Testing Accuracies - LR\")\n",
    "plt.legend()"
   ]
  },
  {
   "cell_type": "markdown",
   "id": "80dfb35c",
   "metadata": {
    "papermill": {
     "duration": 0.051561,
     "end_time": "2021-10-22T10:11:12.589327",
     "exception": false,
     "start_time": "2021-10-22T10:11:12.537766",
     "status": "completed"
    },
    "tags": []
   },
   "source": [
    "#### Plotting the outputs of this layer of the NN.\n"
   ]
  },
  {
   "cell_type": "code",
   "execution_count": 25,
   "id": "45eb2ff5",
   "metadata": {
    "execution": {
     "iopub.execute_input": "2021-10-22T10:11:12.698315Z",
     "iopub.status.busy": "2021-10-22T10:11:12.697644Z",
     "iopub.status.idle": "2021-10-22T10:11:12.726500Z",
     "shell.execute_reply": "2021-10-22T10:11:12.727071Z"
    },
    "papermill": {
     "duration": 0.086204,
     "end_time": "2021-10-22T10:11:12.727228",
     "exception": false,
     "start_time": "2021-10-22T10:11:12.641024",
     "status": "completed"
    },
    "tags": []
   },
   "outputs": [],
   "source": [
    "new_model = Model(layers[:-2])\n",
    "testing_plot = new_model(testing_data_x)"
   ]
  },
  {
   "cell_type": "code",
   "execution_count": 26,
   "id": "4c0a5485",
   "metadata": {
    "execution": {
     "iopub.execute_input": "2021-10-22T10:11:12.846912Z",
     "iopub.status.busy": "2021-10-22T10:11:12.846117Z",
     "iopub.status.idle": "2021-10-22T10:11:13.135120Z",
     "shell.execute_reply": "2021-10-22T10:11:13.134407Z"
    },
    "papermill": {
     "duration": 0.350472,
     "end_time": "2021-10-22T10:11:13.135335",
     "exception": false,
     "start_time": "2021-10-22T10:11:12.784863",
     "status": "completed"
    },
    "tags": []
   },
   "outputs": [
    {
     "data": {
      "text/plain": [
       "Text(0.5, 1.0, 'Outputs')"
      ]
     },
     "execution_count": 26,
     "metadata": {},
     "output_type": "execute_result"
    },
    {
     "data": {
      "image/png": "[encoded data removed]",
      "text/plain": [
       "<Figure size 576x504 with 1 Axes>"
      ]
     },
     "metadata": {
      "needs_background": "light"
     },
     "output_type": "display_data"
    }
   ],
   "source": [
    "# Plotting the scatter plot of points and color coding by class\n",
    "plt.figure(figsize=(8,7))\n",
    "plt.scatter(testing_plot[:,0], testing_plot[:,1], alpha = 0.1, c = y_test.ravel());\n",
    "plt.title('Outputs')"
   ]
  },
  {
   "cell_type": "markdown",
   "id": "a74fcf8f",
   "metadata": {
    "papermill": {
     "duration": 0.053947,
     "end_time": "2021-10-22T10:11:13.245960",
     "exception": false,
     "start_time": "2021-10-22T10:11:13.192013",
     "status": "completed"
    },
    "tags": []
   },
   "source": [
    "Probability contours"
   ]
  },
  {
   "cell_type": "code",
   "execution_count": 27,
   "id": "d0afc8e3",
   "metadata": {
    "execution": {
     "iopub.execute_input": "2021-10-22T10:11:13.406023Z",
     "iopub.status.busy": "2021-10-22T10:11:13.401381Z",
     "iopub.status.idle": "2021-10-22T10:11:13.412414Z",
     "shell.execute_reply": "2021-10-22T10:11:13.411660Z"
    },
    "papermill": {
     "duration": 0.109938,
     "end_time": "2021-10-22T10:11:13.412539",
     "exception": false,
     "start_time": "2021-10-22T10:11:13.302601",
     "status": "completed"
    },
    "tags": []
   },
   "outputs": [],
   "source": [
    "model_prob = Model(layers[-2:]) "
   ]
  },
  {
   "cell_type": "code",
   "execution_count": 28,
   "id": "9b96e238",
   "metadata": {
    "execution": {
     "iopub.execute_input": "2021-10-22T10:11:13.532959Z",
     "iopub.status.busy": "2021-10-22T10:11:13.531952Z",
     "iopub.status.idle": "2021-10-22T10:11:13.548577Z",
     "shell.execute_reply": "2021-10-22T10:11:13.548098Z"
    },
    "papermill": {
     "duration": 0.080435,
     "end_time": "2021-10-22T10:11:13.548890",
     "exception": false,
     "start_time": "2021-10-22T10:11:13.468455",
     "status": "completed"
    },
    "tags": []
   },
   "outputs": [],
   "source": [
    "#creating the x and y ranges according to the above generated plot.\n",
    "x_range = np.linspace(-4, 1, 100) \n",
    "y_range = np.linspace(-6, 6, 100) \n",
    "x_grid, y_grid = np.meshgrid(x_range, y_range) # x_grid and y_grig are of size 100 X 100\n",
    "\n",
    "# converting x_grid and y_grid to continuous arrays\n",
    "x_gridflat = np.ravel(x_grid)\n",
    "y_gridflat = np.ravel(y_grid)\n",
    "\n",
    "# The last layer of the current model takes two columns as input. Hence transpose of np.vstack() is required.\n",
    "X = np.vstack((x_gridflat, y_gridflat)).T\n",
    "\n",
    "prob_contour = model_prob(X).reshape(100,100) "
   ]
  },
  {
   "cell_type": "code",
   "execution_count": 29,
   "id": "da72499a",
   "metadata": {
    "execution": {
     "iopub.execute_input": "2021-10-22T10:11:13.673968Z",
     "iopub.status.busy": "2021-10-22T10:11:13.673230Z",
     "iopub.status.idle": "2021-10-22T10:11:14.005055Z",
     "shell.execute_reply": "2021-10-22T10:11:14.005657Z"
    },
    "papermill": {
     "duration": 0.393204,
     "end_time": "2021-10-22T10:11:14.005885",
     "exception": false,
     "start_time": "2021-10-22T10:11:13.612681",
     "status": "completed"
    },
    "tags": []
   },
   "outputs": [
    {
     "data": {
      "image/png": "[encoded data removed]",
      "text/plain": [
       "<Figure size 720x648 with 1 Axes>"
      ]
     },
     "metadata": {
      "needs_background": "light"
     },
     "output_type": "display_data"
    }
   ],
   "source": [
    "plt.figure(figsize=(10,9))\n",
    "plt.scatter(testing_plot[:,0], testing_plot[:,1], alpha = 0.1, c = y_test.ravel())\n",
    "contours = plt.contour(x_grid,y_grid,prob_contour)\n",
    "plt.title('Probability Contours')\n",
    "plt.clabel(contours, inline = True );"
   ]
  },
  {
   "cell_type": "code",
   "execution_count": null,
   "id": "e81b4ac7",
   "metadata": {
    "papermill": {
     "duration": 0.055946,
     "end_time": "2021-10-22T10:11:14.123824",
     "exception": false,
     "start_time": "2021-10-22T10:11:14.067878",
     "status": "completed"
    },
    "tags": []
   },
   "outputs": [],
   "source": []
  }
 ],
 "metadata": {
  "kernelspec": {
   "display_name": "Python 3",
   "language": "python",
   "name": "python3"
  },
  "language_info": {
   "codemirror_mode": {
    "name": "ipython",
    "version": 3
   },
   "file_extension": ".py",
   "mimetype": "text/x-python",
   "name": "python",
   "nbconvert_exporter": "python",
   "pygments_lexer": "ipython3",
   "version": "3.6.15"
  },
  "papermill": {
   "default_parameters": {},
   "duration": 175.568328,
   "end_time": "2021-10-22T10:11:14.590701",
   "environment_variables": {},
   "exception": null,
   "input_path": "2020-08-11-part2.ipynb",
   "output_path": "2020-08-11-part2.ipynb",
   "parameters": {},
   "start_time": "2021-10-22T10:08:19.022373",
   "version": "2.3.3"
  }
 },
 "nbformat": 4,
 "nbformat_minor": 5
}