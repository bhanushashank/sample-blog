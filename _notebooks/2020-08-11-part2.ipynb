{
 "cells": [
  {
   "cell_type": "markdown",
   "id": "98380cd3",
   "metadata": {
    "papermill": {
     "duration": 0.035579,
     "end_time": "2022-10-17T10:18:16.235193",
     "exception": false,
     "start_time": "2022-10-17T10:18:16.199614",
     "status": "completed"
    },
    "tags": []
   },
   "source": [
    "# Distinguish Your Own Digits (DYOD)"
   ]
  },
  {
   "cell_type": "markdown",
   "id": "ef31240d",
   "metadata": {
    "papermill": {
     "duration": 0.027093,
     "end_time": "2022-10-17T10:18:16.289844",
     "exception": false,
     "start_time": "2022-10-17T10:18:16.262751",
     "status": "completed"
    },
    "tags": []
   },
   "source": [
    "You are going to write a classifier that distinguishes between the number 3 and number 8."
   ]
  },
  {
   "cell_type": "code",
   "execution_count": 1,
   "id": "b15c8646",
   "metadata": {
    "execution": {
     "iopub.execute_input": "2022-10-17T10:18:16.357675Z",
     "iopub.status.busy": "2022-10-17T10:18:16.356323Z",
     "iopub.status.idle": "2022-10-17T10:18:16.370865Z",
     "shell.execute_reply": "2022-10-17T10:18:16.370167Z"
    },
    "papermill": {
     "duration": 0.054426,
     "end_time": "2022-10-17T10:18:16.371011",
     "exception": false,
     "start_time": "2022-10-17T10:18:16.316585",
     "status": "completed"
    },
    "tags": []
   },
   "outputs": [],
   "source": [
    "%load_ext autoreload\n",
    "%autoreload 2"
   ]
  },
  {
   "cell_type": "code",
   "execution_count": 2,
   "id": "22ef38dc",
   "metadata": {
    "execution": {
     "iopub.execute_input": "2022-10-17T10:18:16.430170Z",
     "iopub.status.busy": "2022-10-17T10:18:16.429459Z",
     "iopub.status.idle": "2022-10-17T10:18:17.052759Z",
     "shell.execute_reply": "2022-10-17T10:18:17.052170Z"
    },
    "papermill": {
     "duration": 0.654998,
     "end_time": "2022-10-17T10:18:17.052954",
     "exception": false,
     "start_time": "2022-10-17T10:18:16.397956",
     "status": "completed"
    },
    "tags": []
   },
   "outputs": [],
   "source": [
    "%matplotlib inline\n",
    "import numpy as np\n",
    "import matplotlib.pyplot as plt\n",
    "import pandas as pd"
   ]
  },
  {
   "cell_type": "markdown",
   "id": "ba036198",
   "metadata": {
    "papermill": {
     "duration": 0.027347,
     "end_time": "2022-10-17T10:18:17.111419",
     "exception": false,
     "start_time": "2022-10-17T10:18:17.084072",
     "status": "completed"
    },
    "tags": []
   },
   "source": [
    "From the command line run `pip install mnist`. This is a library that will help you bring down the mnist dataset. If you run this from a notebook, you need to put  `!pip install mnist` in a cell by itself."
   ]
  },
  {
   "cell_type": "code",
   "execution_count": 3,
   "id": "bb6ad8a1",
   "metadata": {
    "execution": {
     "iopub.execute_input": "2022-10-17T10:18:17.172423Z",
     "iopub.status.busy": "2022-10-17T10:18:17.171746Z",
     "iopub.status.idle": "2022-10-17T10:18:19.515899Z",
     "shell.execute_reply": "2022-10-17T10:18:19.515291Z"
    },
    "papermill": {
     "duration": 2.377833,
     "end_time": "2022-10-17T10:18:19.516035",
     "exception": false,
     "start_time": "2022-10-17T10:18:17.138202",
     "status": "completed"
    },
    "tags": []
   },
   "outputs": [
    {
     "name": "stdout",
     "output_type": "stream",
     "text": [
      "Collecting mnist\r\n"
     ]
    },
    {
     "name": "stdout",
     "output_type": "stream",
     "text": [
      "  Downloading mnist-0.2.2-py2.py3-none-any.whl (3.5 kB)\r\n",
      "Requirement already satisfied: numpy in /opt/hostedtoolcache/Python/3.6.15/x64/lib/python3.6/site-packages (from mnist) (1.19.5)\r\n"
     ]
    },
    {
     "name": "stdout",
     "output_type": "stream",
     "text": [
      "Installing collected packages: mnist\r\n"
     ]
    },
    {
     "name": "stdout",
     "output_type": "stream",
     "text": [
      "Successfully installed mnist-0.2.2\r\n"
     ]
    }
   ],
   "source": [
    "!pip install mnist"
   ]
  },
  {
   "cell_type": "markdown",
   "id": "69df9c9a",
   "metadata": {
    "papermill": {
     "duration": 0.028618,
     "end_time": "2022-10-17T10:18:19.573745",
     "exception": false,
     "start_time": "2022-10-17T10:18:19.545127",
     "status": "completed"
    },
    "tags": []
   },
   "source": [
    "## Preparing the Data"
   ]
  },
  {
   "cell_type": "code",
   "execution_count": 4,
   "id": "7f69d806",
   "metadata": {
    "execution": {
     "iopub.execute_input": "2022-10-17T10:18:19.637757Z",
     "iopub.status.busy": "2022-10-17T10:18:19.634002Z",
     "iopub.status.idle": "2022-10-17T10:18:19.652421Z",
     "shell.execute_reply": "2022-10-17T10:18:19.652975Z"
    },
    "papermill": {
     "duration": 0.051176,
     "end_time": "2022-10-17T10:18:19.653129",
     "exception": false,
     "start_time": "2022-10-17T10:18:19.601953",
     "status": "completed"
    },
    "tags": []
   },
   "outputs": [],
   "source": [
    "import mnist"
   ]
  },
  {
   "cell_type": "code",
   "execution_count": 5,
   "id": "a411e44f",
   "metadata": {
    "execution": {
     "iopub.execute_input": "2022-10-17T10:18:19.714239Z",
     "iopub.status.busy": "2022-10-17T10:18:19.713566Z",
     "iopub.status.idle": "2022-10-17T10:18:20.287378Z",
     "shell.execute_reply": "2022-10-17T10:18:20.286737Z"
    },
    "papermill": {
     "duration": 0.606146,
     "end_time": "2022-10-17T10:18:20.287515",
     "exception": false,
     "start_time": "2022-10-17T10:18:19.681369",
     "status": "completed"
    },
    "tags": []
   },
   "outputs": [],
   "source": [
    "train_images = mnist.train_images()\n",
    "train_labels = mnist.train_labels()"
   ]
  },
  {
   "cell_type": "code",
   "execution_count": 6,
   "id": "dceab3a5",
   "metadata": {
    "execution": {
     "iopub.execute_input": "2022-10-17T10:18:20.353551Z",
     "iopub.status.busy": "2022-10-17T10:18:20.352582Z",
     "iopub.status.idle": "2022-10-17T10:18:20.370950Z",
     "shell.execute_reply": "2022-10-17T10:18:20.370265Z"
    },
    "papermill": {
     "duration": 0.053634,
     "end_time": "2022-10-17T10:18:20.371094",
     "exception": false,
     "start_time": "2022-10-17T10:18:20.317460",
     "status": "completed"
    },
    "tags": []
   },
   "outputs": [
    {
     "data": {
      "text/plain": [
       "((60000, 28, 28), (60000,))"
      ]
     },
     "execution_count": 6,
     "metadata": {},
     "output_type": "execute_result"
    }
   ],
   "source": [
    "train_images.shape, train_labels.shape"
   ]
  },
  {
   "cell_type": "code",
   "execution_count": 7,
   "id": "f50dc2bb",
   "metadata": {
    "execution": {
     "iopub.execute_input": "2022-10-17T10:18:20.438046Z",
     "iopub.status.busy": "2022-10-17T10:18:20.437306Z",
     "iopub.status.idle": "2022-10-17T10:18:20.570207Z",
     "shell.execute_reply": "2022-10-17T10:18:20.569424Z"
    },
    "papermill": {
     "duration": 0.169217,
     "end_time": "2022-10-17T10:18:20.570350",
     "exception": false,
     "start_time": "2022-10-17T10:18:20.401133",
     "status": "completed"
    },
    "tags": []
   },
   "outputs": [],
   "source": [
    "test_images = mnist.test_images()\n",
    "test_labels = mnist.test_labels()"
   ]
  },
  {
   "cell_type": "code",
   "execution_count": 8,
   "id": "fc38cf1b",
   "metadata": {
    "execution": {
     "iopub.execute_input": "2022-10-17T10:18:20.641288Z",
     "iopub.status.busy": "2022-10-17T10:18:20.640292Z",
     "iopub.status.idle": "2022-10-17T10:18:20.659250Z",
     "shell.execute_reply": "2022-10-17T10:18:20.658597Z"
    },
    "papermill": {
     "duration": 0.054026,
     "end_time": "2022-10-17T10:18:20.659393",
     "exception": false,
     "start_time": "2022-10-17T10:18:20.605367",
     "status": "completed"
    },
    "tags": []
   },
   "outputs": [
    {
     "data": {
      "text/plain": [
       "((10000, 28, 28), (10000,))"
      ]
     },
     "execution_count": 8,
     "metadata": {},
     "output_type": "execute_result"
    }
   ],
   "source": [
    "test_images.shape, test_labels.shape"
   ]
  },
  {
   "cell_type": "code",
   "execution_count": 9,
   "id": "f9ed8fe0",
   "metadata": {
    "execution": {
     "iopub.execute_input": "2022-10-17T10:18:20.727946Z",
     "iopub.status.busy": "2022-10-17T10:18:20.727266Z",
     "iopub.status.idle": "2022-10-17T10:18:20.898203Z",
     "shell.execute_reply": "2022-10-17T10:18:20.897626Z"
    },
    "papermill": {
     "duration": 0.204098,
     "end_time": "2022-10-17T10:18:20.898339",
     "exception": false,
     "start_time": "2022-10-17T10:18:20.694241",
     "status": "completed"
    },
    "tags": []
   },
   "outputs": [
    {
     "name": "stdout",
     "output_type": "stream",
     "text": [
      "2\n"
     ]
    },
    {
     "data": {
      "text/plain": [
       "<matplotlib.image.AxesImage at 0x7f2aa8ceccc0>"
      ]
     },
     "execution_count": 9,
     "metadata": {},
     "output_type": "execute_result"
    },
    {
     "data": {
      "image/png": "[encoded data removed]",
      "text/plain": [
       "<Figure size 432x288 with 1 Axes>"
      ]
     },
     "metadata": {
      "needs_background": "light"
     },
     "output_type": "display_data"
    }
   ],
   "source": [
    "image_index = 7776 # You may select anything up to 60,000\n",
    "print(train_labels[image_index]) \n",
    "plt.imshow(train_images[image_index], cmap='Greys')"
   ]
  },
  {
   "cell_type": "markdown",
   "id": "a8d2388d",
   "metadata": {
    "papermill": {
     "duration": 0.032777,
     "end_time": "2022-10-17T10:18:20.962442",
     "exception": false,
     "start_time": "2022-10-17T10:18:20.929665",
     "status": "completed"
    },
    "tags": []
   },
   "source": [
    "## Filter data to get 3 and 8 out"
   ]
  },
  {
   "cell_type": "code",
   "execution_count": 10,
   "id": "776f7fc7",
   "metadata": {
    "execution": {
     "iopub.execute_input": "2022-10-17T10:18:21.040237Z",
     "iopub.status.busy": "2022-10-17T10:18:21.031775Z",
     "iopub.status.idle": "2022-10-17T10:18:21.057117Z",
     "shell.execute_reply": "2022-10-17T10:18:21.056512Z"
    },
    "papermill": {
     "duration": 0.064563,
     "end_time": "2022-10-17T10:18:21.057256",
     "exception": false,
     "start_time": "2022-10-17T10:18:20.992693",
     "status": "completed"
    },
    "tags": []
   },
   "outputs": [],
   "source": [
    "train_filter = np.where((train_labels == 3 ) | (train_labels == 8))\n",
    "test_filter = np.where((test_labels == 3) | (test_labels == 8))\n",
    "X_train, y_train = train_images[train_filter], train_labels[train_filter]\n",
    "X_test, y_test = test_images[test_filter], test_labels[test_filter]"
   ]
  },
  {
   "cell_type": "markdown",
   "id": "948f0b7e",
   "metadata": {
    "papermill": {
     "duration": 0.030658,
     "end_time": "2022-10-17T10:18:21.126089",
     "exception": false,
     "start_time": "2022-10-17T10:18:21.095431",
     "status": "completed"
    },
    "tags": []
   },
   "source": [
    "We normalize the pizel values in the 0 to 1 range"
   ]
  },
  {
   "cell_type": "code",
   "execution_count": 11,
   "id": "ee4c2166",
   "metadata": {
    "execution": {
     "iopub.execute_input": "2022-10-17T10:18:21.195513Z",
     "iopub.status.busy": "2022-10-17T10:18:21.194811Z",
     "iopub.status.idle": "2022-10-17T10:18:21.251917Z",
     "shell.execute_reply": "2022-10-17T10:18:21.251281Z"
    },
    "papermill": {
     "duration": 0.094216,
     "end_time": "2022-10-17T10:18:21.252051",
     "exception": false,
     "start_time": "2022-10-17T10:18:21.157835",
     "status": "completed"
    },
    "tags": []
   },
   "outputs": [],
   "source": [
    "X_train = X_train/255.\n",
    "X_test = X_test/255."
   ]
  },
  {
   "cell_type": "markdown",
   "id": "ddcf4fab",
   "metadata": {
    "papermill": {
     "duration": 0.029742,
     "end_time": "2022-10-17T10:18:21.312059",
     "exception": false,
     "start_time": "2022-10-17T10:18:21.282317",
     "status": "completed"
    },
    "tags": []
   },
   "source": [
    "And setup the labels as 1 (when the digit is 3) and 0 (when the digit is 8)"
   ]
  },
  {
   "cell_type": "code",
   "execution_count": 12,
   "id": "7dc908f2",
   "metadata": {
    "execution": {
     "iopub.execute_input": "2022-10-17T10:18:21.378669Z",
     "iopub.status.busy": "2022-10-17T10:18:21.378004Z",
     "iopub.status.idle": "2022-10-17T10:18:21.390739Z",
     "shell.execute_reply": "2022-10-17T10:18:21.390201Z"
    },
    "papermill": {
     "duration": 0.04929,
     "end_time": "2022-10-17T10:18:21.390860",
     "exception": false,
     "start_time": "2022-10-17T10:18:21.341570",
     "status": "completed"
    },
    "tags": []
   },
   "outputs": [],
   "source": [
    "y_train = 1*(y_train==3)\n",
    "y_test = 1*(y_test==3)"
   ]
  },
  {
   "cell_type": "code",
   "execution_count": 13,
   "id": "01e4e969",
   "metadata": {
    "execution": {
     "iopub.execute_input": "2022-10-17T10:18:21.454696Z",
     "iopub.status.busy": "2022-10-17T10:18:21.454015Z",
     "iopub.status.idle": "2022-10-17T10:18:21.470422Z",
     "shell.execute_reply": "2022-10-17T10:18:21.469754Z"
    },
    "papermill": {
     "duration": 0.050017,
     "end_time": "2022-10-17T10:18:21.470544",
     "exception": false,
     "start_time": "2022-10-17T10:18:21.420527",
     "status": "completed"
    },
    "tags": []
   },
   "outputs": [
    {
     "data": {
      "text/plain": [
       "((11982, 28, 28), (1984, 28, 28))"
      ]
     },
     "execution_count": 13,
     "metadata": {},
     "output_type": "execute_result"
    }
   ],
   "source": [
    "X_train.shape, X_test.shape"
   ]
  },
  {
   "cell_type": "markdown",
   "id": "5ccf3f85",
   "metadata": {
    "papermill": {
     "duration": 0.030334,
     "end_time": "2022-10-17T10:18:21.532124",
     "exception": false,
     "start_time": "2022-10-17T10:18:21.501790",
     "status": "completed"
    },
    "tags": []
   },
   "source": [
    "We reshape the data to flatten the image pixels into a set of features or co-variates:"
   ]
  },
  {
   "cell_type": "code",
   "execution_count": 14,
   "id": "5286a4a3",
   "metadata": {
    "execution": {
     "iopub.execute_input": "2022-10-17T10:18:21.601696Z",
     "iopub.status.busy": "2022-10-17T10:18:21.601004Z",
     "iopub.status.idle": "2022-10-17T10:18:21.617179Z",
     "shell.execute_reply": "2022-10-17T10:18:21.616603Z"
    },
    "papermill": {
     "duration": 0.05229,
     "end_time": "2022-10-17T10:18:21.617307",
     "exception": false,
     "start_time": "2022-10-17T10:18:21.565017",
     "status": "completed"
    },
    "tags": []
   },
   "outputs": [
    {
     "data": {
      "text/plain": [
       "((11982, 784), (1984, 784))"
      ]
     },
     "execution_count": 14,
     "metadata": {},
     "output_type": "execute_result"
    }
   ],
   "source": [
    "X_train = X_train.reshape(X_train.shape[0], -1)\n",
    "X_test = X_test.reshape(X_test.shape[0], -1)\n",
    "X_train.shape, X_test.shape"
   ]
  },
  {
   "cell_type": "code",
   "execution_count": 15,
   "id": "73c5f88a",
   "metadata": {
    "execution": {
     "iopub.execute_input": "2022-10-17T10:18:21.688082Z",
     "iopub.status.busy": "2022-10-17T10:18:21.687415Z",
     "iopub.status.idle": "2022-10-17T10:18:21.708615Z",
     "shell.execute_reply": "2022-10-17T10:18:21.708070Z"
    },
    "papermill": {
     "duration": 0.05986,
     "end_time": "2022-10-17T10:18:21.708737",
     "exception": false,
     "start_time": "2022-10-17T10:18:21.648877",
     "status": "completed"
    },
    "tags": []
   },
   "outputs": [],
   "source": [
    "#Impoting functions from 'Kudzu'\n",
    "from kudzu.model import Model\n",
    "from kudzu.train import Learner\n",
    "from kudzu.optim import GD\n",
    "from kudzu.data import Data, Sampler,Dataloader\n",
    "\n",
    "from kudzu.callbacks import AccCallback\n",
    "from kudzu.callbacks import ClfCallback\n",
    "\n",
    "from kudzu.loss import MSE\n",
    "\n",
    "from kudzu.layer import Sigmoid,Relu\n",
    "from kudzu.layer import Affine"
   ]
  },
  {
   "cell_type": "markdown",
   "id": "bc01172a",
   "metadata": {
    "papermill": {
     "duration": 0.033003,
     "end_time": "2022-10-17T10:18:21.773258",
     "exception": false,
     "start_time": "2022-10-17T10:18:21.740255",
     "status": "completed"
    },
    "tags": []
   },
   "source": [
    "### Let us create a `Config` class, to store important parameters. \n",
    "This class essentially plays the role of a dictionary."
   ]
  },
  {
   "cell_type": "code",
   "execution_count": 16,
   "id": "978281aa",
   "metadata": {
    "execution": {
     "iopub.execute_input": "2022-10-17T10:18:21.842610Z",
     "iopub.status.busy": "2022-10-17T10:18:21.841504Z",
     "iopub.status.idle": "2022-10-17T10:18:21.855856Z",
     "shell.execute_reply": "2022-10-17T10:18:21.855332Z"
    },
    "papermill": {
     "duration": 0.050979,
     "end_time": "2022-10-17T10:18:21.855970",
     "exception": false,
     "start_time": "2022-10-17T10:18:21.804991",
     "status": "completed"
    },
    "tags": []
   },
   "outputs": [],
   "source": [
    "class Config:\n",
    "    pass\n",
    "config = Config()\n",
    "config.lr = 0.001\n",
    "config.num_epochs = 250\n",
    "config.bs = 50"
   ]
  },
  {
   "cell_type": "markdown",
   "id": "1385fa59",
   "metadata": {
    "papermill": {
     "duration": 0.030295,
     "end_time": "2022-10-17T10:18:21.918873",
     "exception": false,
     "start_time": "2022-10-17T10:18:21.888578",
     "status": "completed"
    },
    "tags": []
   },
   "source": [
    "### Running Models with the Training data\n",
    "Details about the network layers:\n",
    "- A first affine layer has 784 inputs and does 100 affine transforms. These are followed by a Relu\n",
    "- A second affine layer has 100 inputs from the 100 activations of the past layer, and does 100 affine transforms. These are followed by a Relu\n",
    "- A third affine layer has 100 activations and does 2 affine transformations to create an embedding for visualization. There is no non-linearity here.\n",
    "- A final \"logistic regression\" which has an affine transform from 2 inputs to 1 output, which is squeezed through a sigmoid.\n"
   ]
  },
  {
   "cell_type": "code",
   "execution_count": 17,
   "id": "2b9c66db",
   "metadata": {
    "execution": {
     "iopub.execute_input": "2022-10-17T10:18:21.985606Z",
     "iopub.status.busy": "2022-10-17T10:18:21.984907Z",
     "iopub.status.idle": "2022-10-17T10:18:21.999668Z",
     "shell.execute_reply": "2022-10-17T10:18:21.999013Z"
    },
    "papermill": {
     "duration": 0.050649,
     "end_time": "2022-10-17T10:18:21.999792",
     "exception": false,
     "start_time": "2022-10-17T10:18:21.949143",
     "status": "completed"
    },
    "tags": []
   },
   "outputs": [],
   "source": [
    "data = Data(X_train, y_train.reshape(-1,1))\n",
    "sampler = Sampler(data, config.bs, shuffle=True)\n",
    "\n",
    "dl = Dataloader(data, sampler)\n",
    "\n",
    "opt = GD(config.lr)\n",
    "loss = MSE()"
   ]
  },
  {
   "cell_type": "code",
   "execution_count": 18,
   "id": "b275e4c2",
   "metadata": {
    "execution": {
     "iopub.execute_input": "2022-10-17T10:18:22.065766Z",
     "iopub.status.busy": "2022-10-17T10:18:22.065073Z",
     "iopub.status.idle": "2022-10-17T10:18:22.080262Z",
     "shell.execute_reply": "2022-10-17T10:18:22.079569Z"
    },
    "papermill": {
     "duration": 0.050477,
     "end_time": "2022-10-17T10:18:22.080394",
     "exception": false,
     "start_time": "2022-10-17T10:18:22.029917",
     "status": "completed"
    },
    "tags": []
   },
   "outputs": [],
   "source": [
    "training_data_x = X_train\n",
    "testing_data_x = X_test\n",
    "training_data_y = y_train.reshape(-1,1)\n",
    "testing_data_y = y_test.reshape(-1,1)"
   ]
  },
  {
   "cell_type": "code",
   "execution_count": 19,
   "id": "76951160",
   "metadata": {
    "execution": {
     "iopub.execute_input": "2022-10-17T10:18:22.150115Z",
     "iopub.status.busy": "2022-10-17T10:18:22.149441Z",
     "iopub.status.idle": "2022-10-17T10:18:22.168295Z",
     "shell.execute_reply": "2022-10-17T10:18:22.168878Z"
    },
    "papermill": {
     "duration": 0.056348,
     "end_time": "2022-10-17T10:18:22.169032",
     "exception": false,
     "start_time": "2022-10-17T10:18:22.112684",
     "status": "completed"
    },
    "tags": []
   },
   "outputs": [
    {
     "name": "stdout",
     "output_type": "stream",
     "text": [
      "xavier\n",
      "xavier\n",
      "xavier\n",
      "xavier\n",
      "xavier\n"
     ]
    }
   ],
   "source": [
    "layers = [Affine(\"first\", 784, 100), Relu(\"first\"), Affine(\"second\", 100, 100), Relu(\"second\"), Affine(\"third\", 100, 2), Affine(\"last\", 2, 1), Sigmoid(\"last\")]\n",
    "model_nn = Model(layers)\n",
    "model_lr = Model([Affine(\"logits\", 784, 1), Sigmoid(\"sigmoid\")])"
   ]
  },
  {
   "cell_type": "code",
   "execution_count": 20,
   "id": "6eede77a",
   "metadata": {
    "execution": {
     "iopub.execute_input": "2022-10-17T10:18:22.239550Z",
     "iopub.status.busy": "2022-10-17T10:18:22.236360Z",
     "iopub.status.idle": "2022-10-17T10:18:22.251843Z",
     "shell.execute_reply": "2022-10-17T10:18:22.251194Z"
    },
    "papermill": {
     "duration": 0.05203,
     "end_time": "2022-10-17T10:18:22.251965",
     "exception": false,
     "start_time": "2022-10-17T10:18:22.199935",
     "status": "completed"
    },
    "tags": []
   },
   "outputs": [],
   "source": [
    "nn_learner = Learner(loss, model_nn, opt, config.num_epochs)\n",
    "acc_nn = ClfCallback(nn_learner, config.bs, training_data_x , testing_data_x, training_data_y, testing_data_y)\n",
    "nn_learner.set_callbacks([acc_nn])"
   ]
  },
  {
   "cell_type": "code",
   "execution_count": 21,
   "id": "877b6cc7",
   "metadata": {
    "execution": {
     "iopub.execute_input": "2022-10-17T10:18:22.322026Z",
     "iopub.status.busy": "2022-10-17T10:18:22.318049Z",
     "iopub.status.idle": "2022-10-17T10:18:22.333059Z",
     "shell.execute_reply": "2022-10-17T10:18:22.332484Z"
    },
    "papermill": {
     "duration": 0.050777,
     "end_time": "2022-10-17T10:18:22.333186",
     "exception": false,
     "start_time": "2022-10-17T10:18:22.282409",
     "status": "completed"
    },
    "tags": []
   },
   "outputs": [],
   "source": [
    "lr_learner = Learner(loss, model_lr, opt, config.num_epochs)\n",
    "acc_lr = ClfCallback(lr_learner, config.bs, training_data_x , testing_data_x, training_data_y, testing_data_y)\n",
    "lr_learner.set_callbacks([acc_lr])"
   ]
  },
  {
   "cell_type": "code",
   "execution_count": 22,
   "id": "d9b133c3",
   "metadata": {
    "execution": {
     "iopub.execute_input": "2022-10-17T10:18:22.401952Z",
     "iopub.status.busy": "2022-10-17T10:18:22.398814Z",
     "iopub.status.idle": "2022-10-17T10:19:50.377966Z",
     "shell.execute_reply": "2022-10-17T10:19:50.378926Z"
    },
    "papermill": {
     "duration": 88.015205,
     "end_time": "2022-10-17T10:19:50.379088",
     "exception": false,
     "start_time": "2022-10-17T10:18:22.363883",
     "status": "completed"
    },
    "tags": []
   },
   "outputs": [
    {
     "name": "stdout",
     "output_type": "stream",
     "text": [
      "Epoch 0, Loss 0.2386\n",
      "Training Accuracy: 0.7455, Testing Accuracy: 0.7419\n",
      "\n"
     ]
    },
    {
     "name": "stdout",
     "output_type": "stream",
     "text": [
      "Epoch 10, Loss 0.0606\n",
      "Training Accuracy: 0.9382, Testing Accuracy: 0.9410\n",
      "\n"
     ]
    },
    {
     "name": "stdout",
     "output_type": "stream",
     "text": [
      "Epoch 20, Loss 0.0432\n",
      "Training Accuracy: 0.9524, Testing Accuracy: 0.9536\n",
      "\n"
     ]
    },
    {
     "name": "stdout",
     "output_type": "stream",
     "text": [
      "Epoch 30, Loss 0.0362\n",
      "Training Accuracy: 0.9588, Testing Accuracy: 0.9602\n",
      "\n"
     ]
    },
    {
     "name": "stdout",
     "output_type": "stream",
     "text": [
      "Epoch 40, Loss 0.0322\n",
      "Training Accuracy: 0.9633, Testing Accuracy: 0.9667\n",
      "\n"
     ]
    },
    {
     "name": "stdout",
     "output_type": "stream",
     "text": [
      "Epoch 50, Loss 0.0296\n",
      "Training Accuracy: 0.9660, Testing Accuracy: 0.9693\n",
      "\n"
     ]
    },
    {
     "name": "stdout",
     "output_type": "stream",
     "text": [
      "Epoch 60, Loss 0.0276\n",
      "Training Accuracy: 0.9687, Testing Accuracy: 0.9713\n",
      "\n"
     ]
    },
    {
     "name": "stdout",
     "output_type": "stream",
     "text": [
      "Epoch 70, Loss 0.0261\n",
      "Training Accuracy: 0.9705, Testing Accuracy: 0.9708\n",
      "\n"
     ]
    },
    {
     "name": "stdout",
     "output_type": "stream",
     "text": [
      "Epoch 80, Loss 0.0248\n",
      "Training Accuracy: 0.9717, Testing Accuracy: 0.9733\n",
      "\n"
     ]
    },
    {
     "name": "stdout",
     "output_type": "stream",
     "text": [
      "Epoch 90, Loss 0.0237\n",
      "Training Accuracy: 0.9727, Testing Accuracy: 0.9723\n",
      "\n"
     ]
    },
    {
     "name": "stdout",
     "output_type": "stream",
     "text": [
      "Epoch 100, Loss 0.0228\n",
      "Training Accuracy: 0.9744, Testing Accuracy: 0.9733\n",
      "\n"
     ]
    },
    {
     "name": "stdout",
     "output_type": "stream",
     "text": [
      "Epoch 110, Loss 0.0219\n",
      "Training Accuracy: 0.9753, Testing Accuracy: 0.9728\n",
      "\n"
     ]
    },
    {
     "name": "stdout",
     "output_type": "stream",
     "text": [
      "Epoch 120, Loss 0.0211\n",
      "Training Accuracy: 0.9758, Testing Accuracy: 0.9728\n",
      "\n"
     ]
    },
    {
     "name": "stdout",
     "output_type": "stream",
     "text": [
      "Epoch 130, Loss 0.0204\n",
      "Training Accuracy: 0.9770, Testing Accuracy: 0.9728\n",
      "\n"
     ]
    },
    {
     "name": "stdout",
     "output_type": "stream",
     "text": [
      "Epoch 140, Loss 0.0197\n",
      "Training Accuracy: 0.9780, Testing Accuracy: 0.9738\n",
      "\n"
     ]
    },
    {
     "name": "stdout",
     "output_type": "stream",
     "text": [
      "Epoch 150, Loss 0.0191\n",
      "Training Accuracy: 0.9789, Testing Accuracy: 0.9743\n",
      "\n"
     ]
    },
    {
     "name": "stdout",
     "output_type": "stream",
     "text": [
      "Epoch 160, Loss 0.0186\n",
      "Training Accuracy: 0.9798, Testing Accuracy: 0.9753\n",
      "\n"
     ]
    },
    {
     "name": "stdout",
     "output_type": "stream",
     "text": [
      "Epoch 170, Loss 0.0181\n",
      "Training Accuracy: 0.9811, Testing Accuracy: 0.9748\n",
      "\n"
     ]
    },
    {
     "name": "stdout",
     "output_type": "stream",
     "text": [
      "Epoch 180, Loss 0.0175\n",
      "Training Accuracy: 0.9823, Testing Accuracy: 0.9743\n",
      "\n"
     ]
    },
    {
     "name": "stdout",
     "output_type": "stream",
     "text": [
      "Epoch 190, Loss 0.0171\n",
      "Training Accuracy: 0.9824, Testing Accuracy: 0.9753\n",
      "\n"
     ]
    },
    {
     "name": "stdout",
     "output_type": "stream",
     "text": [
      "Epoch 200, Loss 0.0166\n",
      "Training Accuracy: 0.9833, Testing Accuracy: 0.9758\n",
      "\n"
     ]
    },
    {
     "name": "stdout",
     "output_type": "stream",
     "text": [
      "Epoch 210, Loss 0.0162\n",
      "Training Accuracy: 0.9836, Testing Accuracy: 0.9753\n",
      "\n"
     ]
    },
    {
     "name": "stdout",
     "output_type": "stream",
     "text": [
      "Epoch 220, Loss 0.0158\n",
      "Training Accuracy: 0.9841, Testing Accuracy: 0.9758\n",
      "\n"
     ]
    },
    {
     "name": "stdout",
     "output_type": "stream",
     "text": [
      "Epoch 230, Loss 0.0154\n",
      "Training Accuracy: 0.9846, Testing Accuracy: 0.9758\n",
      "\n"
     ]
    },
    {
     "name": "stdout",
     "output_type": "stream",
     "text": [
      "Epoch 240, Loss 0.015\n",
      "Training Accuracy: 0.9849, Testing Accuracy: 0.9758\n",
      "\n"
     ]
    },
    {
     "data": {
      "text/plain": [
       "0.010531409901431315"
      ]
     },
     "execution_count": 22,
     "metadata": {},
     "output_type": "execute_result"
    }
   ],
   "source": [
    "nn_learner.train_loop(dl)"
   ]
  },
  {
   "cell_type": "code",
   "execution_count": 23,
   "id": "e0163366",
   "metadata": {
    "execution": {
     "iopub.execute_input": "2022-10-17T10:19:50.467126Z",
     "iopub.status.busy": "2022-10-17T10:19:50.466444Z",
     "iopub.status.idle": "2022-10-17T10:20:06.286756Z",
     "shell.execute_reply": "2022-10-17T10:20:06.287702Z"
    },
    "papermill": {
     "duration": 15.869361,
     "end_time": "2022-10-17T10:20:06.287867",
     "exception": false,
     "start_time": "2022-10-17T10:19:50.418506",
     "status": "completed"
    },
    "tags": []
   },
   "outputs": [
    {
     "name": "stdout",
     "output_type": "stream",
     "text": [
      "Epoch 0, Loss 0.2202\n",
      "Training Accuracy: 0.7530, Testing Accuracy: 0.7883\n",
      "\n"
     ]
    },
    {
     "name": "stdout",
     "output_type": "stream",
     "text": [
      "Epoch 10, Loss 0.1018\n",
      "Training Accuracy: 0.9069, Testing Accuracy: 0.9168\n",
      "\n"
     ]
    },
    {
     "name": "stdout",
     "output_type": "stream",
     "text": [
      "Epoch 20, Loss 0.0789\n",
      "Training Accuracy: 0.9257, Testing Accuracy: 0.9370\n",
      "\n"
     ]
    },
    {
     "name": "stdout",
     "output_type": "stream",
     "text": [
      "Epoch 30, Loss 0.068\n",
      "Training Accuracy: 0.9364, Testing Accuracy: 0.9471\n",
      "\n"
     ]
    },
    {
     "name": "stdout",
     "output_type": "stream",
     "text": [
      "Epoch 40, Loss 0.0614\n",
      "Training Accuracy: 0.9415, Testing Accuracy: 0.9516\n",
      "\n"
     ]
    },
    {
     "name": "stdout",
     "output_type": "stream",
     "text": [
      "Epoch 50, Loss 0.057\n",
      "Training Accuracy: 0.9446, Testing Accuracy: 0.9556\n",
      "\n"
     ]
    },
    {
     "name": "stdout",
     "output_type": "stream",
     "text": [
      "Epoch 60, Loss 0.0537\n",
      "Training Accuracy: 0.9479, Testing Accuracy: 0.9577\n",
      "\n"
     ]
    },
    {
     "name": "stdout",
     "output_type": "stream",
     "text": [
      "Epoch 70, Loss 0.0512\n",
      "Training Accuracy: 0.9500, Testing Accuracy: 0.9587\n",
      "\n"
     ]
    },
    {
     "name": "stdout",
     "output_type": "stream",
     "text": [
      "Epoch 80, Loss 0.0492\n",
      "Training Accuracy: 0.9514, Testing Accuracy: 0.9592\n",
      "\n"
     ]
    },
    {
     "name": "stdout",
     "output_type": "stream",
     "text": [
      "Epoch 90, Loss 0.0475\n",
      "Training Accuracy: 0.9525, Testing Accuracy: 0.9592\n",
      "\n"
     ]
    },
    {
     "name": "stdout",
     "output_type": "stream",
     "text": [
      "Epoch 100, Loss 0.0461\n",
      "Training Accuracy: 0.9533, Testing Accuracy: 0.9612\n",
      "\n"
     ]
    },
    {
     "name": "stdout",
     "output_type": "stream",
     "text": [
      "Epoch 110, Loss 0.0449\n",
      "Training Accuracy: 0.9547, Testing Accuracy: 0.9627\n",
      "\n"
     ]
    },
    {
     "name": "stdout",
     "output_type": "stream",
     "text": [
      "Epoch 120, Loss 0.0439\n",
      "Training Accuracy: 0.9549, Testing Accuracy: 0.9622\n",
      "\n"
     ]
    },
    {
     "name": "stdout",
     "output_type": "stream",
     "text": [
      "Epoch 130, Loss 0.043\n",
      "Training Accuracy: 0.9559, Testing Accuracy: 0.9642\n",
      "\n"
     ]
    },
    {
     "name": "stdout",
     "output_type": "stream",
     "text": [
      "Epoch 140, Loss 0.0421\n",
      "Training Accuracy: 0.9566, Testing Accuracy: 0.9647\n",
      "\n"
     ]
    },
    {
     "name": "stdout",
     "output_type": "stream",
     "text": [
      "Epoch 150, Loss 0.0414\n",
      "Training Accuracy: 0.9572, Testing Accuracy: 0.9647\n",
      "\n"
     ]
    },
    {
     "name": "stdout",
     "output_type": "stream",
     "text": [
      "Epoch 160, Loss 0.0407\n",
      "Training Accuracy: 0.9579, Testing Accuracy: 0.9657\n",
      "\n"
     ]
    },
    {
     "name": "stdout",
     "output_type": "stream",
     "text": [
      "Epoch 170, Loss 0.0401\n",
      "Training Accuracy: 0.9581, Testing Accuracy: 0.9657\n",
      "\n"
     ]
    },
    {
     "name": "stdout",
     "output_type": "stream",
     "text": [
      "Epoch 180, Loss 0.0396\n",
      "Training Accuracy: 0.9582, Testing Accuracy: 0.9652\n",
      "\n"
     ]
    },
    {
     "name": "stdout",
     "output_type": "stream",
     "text": [
      "Epoch 190, Loss 0.0391\n",
      "Training Accuracy: 0.9584, Testing Accuracy: 0.9652\n",
      "\n"
     ]
    },
    {
     "name": "stdout",
     "output_type": "stream",
     "text": [
      "Epoch 200, Loss 0.0386\n",
      "Training Accuracy: 0.9589, Testing Accuracy: 0.9652\n",
      "\n"
     ]
    },
    {
     "name": "stdout",
     "output_type": "stream",
     "text": [
      "Epoch 210, Loss 0.0382\n",
      "Training Accuracy: 0.9593, Testing Accuracy: 0.9652\n",
      "\n"
     ]
    },
    {
     "name": "stdout",
     "output_type": "stream",
     "text": [
      "Epoch 220, Loss 0.0378\n",
      "Training Accuracy: 0.9597, Testing Accuracy: 0.9652\n",
      "\n"
     ]
    },
    {
     "name": "stdout",
     "output_type": "stream",
     "text": [
      "Epoch 230, Loss 0.0374\n",
      "Training Accuracy: 0.9600, Testing Accuracy: 0.9652\n",
      "\n"
     ]
    },
    {
     "name": "stdout",
     "output_type": "stream",
     "text": [
      "Epoch 240, Loss 0.037\n",
      "Training Accuracy: 0.9602, Testing Accuracy: 0.9652\n",
      "\n"
     ]
    },
    {
     "data": {
      "text/plain": [
       "0.014648596218881984"
      ]
     },
     "execution_count": 23,
     "metadata": {},
     "output_type": "execute_result"
    }
   ],
   "source": [
    "lr_learner.train_loop(dl)"
   ]
  },
  {
   "cell_type": "code",
   "execution_count": 24,
   "id": "ca410940",
   "metadata": {
    "execution": {
     "iopub.execute_input": "2022-10-17T10:20:06.394588Z",
     "iopub.status.busy": "2022-10-17T10:20:06.393895Z",
     "iopub.status.idle": "2022-10-17T10:20:06.649212Z",
     "shell.execute_reply": "2022-10-17T10:20:06.648224Z"
    },
    "papermill": {
     "duration": 0.314428,
     "end_time": "2022-10-17T10:20:06.649359",
     "exception": false,
     "start_time": "2022-10-17T10:20:06.334931",
     "status": "completed"
    },
    "tags": []
   },
   "outputs": [
    {
     "data": {
      "text/plain": [
       "<matplotlib.legend.Legend at 0x7f2aa8858390>"
      ]
     },
     "execution_count": 24,
     "metadata": {},
     "output_type": "execute_result"
    },
    {
     "data": {
      "image/png": "[encoded data removed]",
      "text/plain": [
       "<Figure size 1080x720 with 1 Axes>"
      ]
     },
     "metadata": {
      "needs_background": "light"
     },
     "output_type": "display_data"
    }
   ],
   "source": [
    "#comparing the results of NN and LR\n",
    "plt.figure(figsize=(15,10))\n",
    "\n",
    "# Neural Network plots\n",
    "plt.plot(acc_nn.accuracies, 'r-', label = \"Training Accuracies - NN\")\n",
    "plt.plot(acc_nn.test_accuracies, 'g-', label = \"Testing Accuracies - NN\")\n",
    "\n",
    "# Logistic Regression plots\n",
    "plt.plot(acc_lr.accuracies, 'k-', label = \"Training Accuracies - LR\")\n",
    "plt.plot(acc_lr.test_accuracies, 'b-', label = \"Testing Accuracies - LR\")\n",
    "plt.legend()"
   ]
  },
  {
   "cell_type": "markdown",
   "id": "80dfb35c",
   "metadata": {
    "papermill": {
     "duration": 0.048076,
     "end_time": "2022-10-17T10:20:06.746372",
     "exception": false,
     "start_time": "2022-10-17T10:20:06.698296",
     "status": "completed"
    },
    "tags": []
   },
   "source": [
    "#### Plotting the outputs of this layer of the NN.\n"
   ]
  },
  {
   "cell_type": "code",
   "execution_count": 25,
   "id": "45eb2ff5",
   "metadata": {
    "execution": {
     "iopub.execute_input": "2022-10-17T10:20:06.846575Z",
     "iopub.status.busy": "2022-10-17T10:20:06.845892Z",
     "iopub.status.idle": "2022-10-17T10:20:06.868638Z",
     "shell.execute_reply": "2022-10-17T10:20:06.869552Z"
    },
    "papermill": {
     "duration": 0.075752,
     "end_time": "2022-10-17T10:20:06.869721",
     "exception": false,
     "start_time": "2022-10-17T10:20:06.793969",
     "status": "completed"
    },
    "tags": []
   },
   "outputs": [],
   "source": [
    "new_model = Model(layers[:-2])\n",
    "testing_plot = new_model(testing_data_x)"
   ]
  },
  {
   "cell_type": "code",
   "execution_count": 26,
   "id": "4c0a5485",
   "metadata": {
    "execution": {
     "iopub.execute_input": "2022-10-17T10:20:06.980084Z",
     "iopub.status.busy": "2022-10-17T10:20:06.979432Z",
     "iopub.status.idle": "2022-10-17T10:20:07.196371Z",
     "shell.execute_reply": "2022-10-17T10:20:07.195834Z"
    },
    "papermill": {
     "duration": 0.273378,
     "end_time": "2022-10-17T10:20:07.196510",
     "exception": false,
     "start_time": "2022-10-17T10:20:06.923132",
     "status": "completed"
    },
    "tags": []
   },
   "outputs": [
    {
     "data": {
      "text/plain": [
       "Text(0.5, 1.0, 'Outputs')"
      ]
     },
     "execution_count": 26,
     "metadata": {},
     "output_type": "execute_result"
    },
    {
     "data": {
      "image/png": "[encoded data removed]",
      "text/plain": [
       "<Figure size 576x504 with 1 Axes>"
      ]
     },
     "metadata": {
      "needs_background": "light"
     },
     "output_type": "display_data"
    }
   ],
   "source": [
    "# Plotting the scatter plot of points and color coding by class\n",
    "plt.figure(figsize=(8,7))\n",
    "plt.scatter(testing_plot[:,0], testing_plot[:,1], alpha = 0.1, c = y_test.ravel());\n",
    "plt.title('Outputs')"
   ]
  },
  {
   "cell_type": "markdown",
   "id": "a74fcf8f",
   "metadata": {
    "papermill": {
     "duration": 0.050268,
     "end_time": "2022-10-17T10:20:07.297393",
     "exception": false,
     "start_time": "2022-10-17T10:20:07.247125",
     "status": "completed"
    },
    "tags": []
   },
   "source": [
    "Probability contours"
   ]
  },
  {
   "cell_type": "code",
   "execution_count": 27,
   "id": "d0afc8e3",
   "metadata": {
    "execution": {
     "iopub.execute_input": "2022-10-17T10:20:07.433520Z",
     "iopub.status.busy": "2022-10-17T10:20:07.432791Z",
     "iopub.status.idle": "2022-10-17T10:20:07.447819Z",
     "shell.execute_reply": "2022-10-17T10:20:07.446967Z"
    },
    "papermill": {
     "duration": 0.071438,
     "end_time": "2022-10-17T10:20:07.448023",
     "exception": false,
     "start_time": "2022-10-17T10:20:07.376585",
     "status": "completed"
    },
    "tags": []
   },
   "outputs": [],
   "source": [
    "model_prob = Model(layers[-2:]) "
   ]
  },
  {
   "cell_type": "code",
   "execution_count": 28,
   "id": "9b96e238",
   "metadata": {
    "execution": {
     "iopub.execute_input": "2022-10-17T10:20:07.565774Z",
     "iopub.status.busy": "2022-10-17T10:20:07.564869Z",
     "iopub.status.idle": "2022-10-17T10:20:07.581622Z",
     "shell.execute_reply": "2022-10-17T10:20:07.582113Z"
    },
    "papermill": {
     "duration": 0.079355,
     "end_time": "2022-10-17T10:20:07.582262",
     "exception": false,
     "start_time": "2022-10-17T10:20:07.502907",
     "status": "completed"
    },
    "tags": []
   },
   "outputs": [],
   "source": [
    "#creating the x and y ranges according to the above generated plot.\n",
    "x_range = np.linspace(-4, 1, 100) \n",
    "y_range = np.linspace(-6, 6, 100) \n",
    "x_grid, y_grid = np.meshgrid(x_range, y_range) # x_grid and y_grig are of size 100 X 100\n",
    "\n",
    "# converting x_grid and y_grid to continuous arrays\n",
    "x_gridflat = np.ravel(x_grid)\n",
    "y_gridflat = np.ravel(y_grid)\n",
    "\n",
    "# The last layer of the current model takes two columns as input. Hence transpose of np.vstack() is required.\n",
    "X = np.vstack((x_gridflat, y_gridflat)).T\n",
    "\n",
    "prob_contour = model_prob(X).reshape(100,100) "
   ]
  },
  {
   "cell_type": "code",
   "execution_count": 29,
   "id": "da72499a",
   "metadata": {
    "execution": {
     "iopub.execute_input": "2022-10-17T10:20:07.693679Z",
     "iopub.status.busy": "2022-10-17T10:20:07.692995Z",
     "iopub.status.idle": "2022-10-17T10:20:07.992574Z",
     "shell.execute_reply": "2022-10-17T10:20:07.993138Z"
    },
    "papermill": {
     "duration": 0.359091,
     "end_time": "2022-10-17T10:20:07.993298",
     "exception": false,
     "start_time": "2022-10-17T10:20:07.634207",
     "status": "completed"
    },
    "tags": []
   },
   "outputs": [
    {
     "data": {
      "image/png": "[encoded data removed]",
      "text/plain": [
       "<Figure size 720x648 with 1 Axes>"
      ]
     },
     "metadata": {
      "needs_background": "light"
     },
     "output_type": "display_data"
    }
   ],
   "source": [
    "plt.figure(figsize=(10,9))\n",
    "plt.scatter(testing_plot[:,0], testing_plot[:,1], alpha = 0.1, c = y_test.ravel())\n",
    "contours = plt.contour(x_grid,y_grid,prob_contour)\n",
    "plt.title('Probability Contours')\n",
    "plt.clabel(contours, inline = True );"
   ]
  },
  {
   "cell_type": "code",
   "execution_count": null,
   "id": "e81b4ac7",
   "metadata": {
    "papermill": {
     "duration": 0.054129,
     "end_time": "2022-10-17T10:20:08.101996",
     "exception": false,
     "start_time": "2022-10-17T10:20:08.047867",
     "status": "completed"
    },
    "tags": []
   },
   "outputs": [],
   "source": []
  }
 ],
 "metadata": {
  "kernelspec": {
   "display_name": "Python 3",
   "language": "python",
   "name": "python3"
  },
  "language_info": {
   "codemirror_mode": {
    "name": "ipython",
    "version": 3
   },
   "file_extension": ".py",
   "mimetype": "text/x-python",
   "name": "python",
   "nbconvert_exporter": "python",
   "pygments_lexer": "ipython3",
   "version": "3.6.15"
  },
  "papermill": {
   "default_parameters": {},
   "duration": 113.541096,
   "end_time": "2022-10-17T10:20:08.577118",
   "environment_variables": {},
   "exception": null,
   "input_path": "2020-08-11-part2.ipynb",
   "output_path": "2020-08-11-part2.ipynb",
   "parameters": {},
   "start_time": "2022-10-17T10:18:15.036022",
   "version": "2.3.3"
  }
 },
 "nbformat": 4,
 "nbformat_minor": 5
}