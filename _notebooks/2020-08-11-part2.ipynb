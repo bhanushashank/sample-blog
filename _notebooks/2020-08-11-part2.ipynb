{
 "cells": [
  {
   "cell_type": "markdown",
   "id": "98380cd3",
   "metadata": {
    "papermill": {
     "duration": 0.029211,
     "end_time": "2022-05-24T20:11:19.767055",
     "exception": false,
     "start_time": "2022-05-24T20:11:19.737844",
     "status": "completed"
    },
    "tags": []
   },
   "source": [
    "# Distinguish Your Own Digits (DYOD)"
   ]
  },
  {
   "cell_type": "markdown",
   "id": "ef31240d",
   "metadata": {
    "papermill": {
     "duration": 0.023816,
     "end_time": "2022-05-24T20:11:19.815376",
     "exception": false,
     "start_time": "2022-05-24T20:11:19.791560",
     "status": "completed"
    },
    "tags": []
   },
   "source": [
    "You are going to write a classifier that distinguishes between the number 3 and number 8."
   ]
  },
  {
   "cell_type": "code",
   "execution_count": 1,
   "id": "b15c8646",
   "metadata": {
    "execution": {
     "iopub.execute_input": "2022-05-24T20:11:19.873984Z",
     "iopub.status.busy": "2022-05-24T20:11:19.873397Z",
     "iopub.status.idle": "2022-05-24T20:11:19.884445Z",
     "shell.execute_reply": "2022-05-24T20:11:19.884953Z"
    },
    "papermill": {
     "duration": 0.045943,
     "end_time": "2022-05-24T20:11:19.885103",
     "exception": false,
     "start_time": "2022-05-24T20:11:19.839160",
     "status": "completed"
    },
    "tags": []
   },
   "outputs": [],
   "source": [
    "%load_ext autoreload\n",
    "%autoreload 2"
   ]
  },
  {
   "cell_type": "code",
   "execution_count": 2,
   "id": "22ef38dc",
   "metadata": {
    "execution": {
     "iopub.execute_input": "2022-05-24T20:11:19.953505Z",
     "iopub.status.busy": "2022-05-24T20:11:19.945428Z",
     "iopub.status.idle": "2022-05-24T20:11:20.455120Z",
     "shell.execute_reply": "2022-05-24T20:11:20.455602Z"
    },
    "papermill": {
     "duration": 0.546724,
     "end_time": "2022-05-24T20:11:20.455751",
     "exception": false,
     "start_time": "2022-05-24T20:11:19.909027",
     "status": "completed"
    },
    "tags": []
   },
   "outputs": [],
   "source": [
    "%matplotlib inline\n",
    "import numpy as np\n",
    "import matplotlib.pyplot as plt\n",
    "import pandas as pd"
   ]
  },
  {
   "cell_type": "markdown",
   "id": "ba036198",
   "metadata": {
    "papermill": {
     "duration": 0.023792,
     "end_time": "2022-05-24T20:11:20.503547",
     "exception": false,
     "start_time": "2022-05-24T20:11:20.479755",
     "status": "completed"
    },
    "tags": []
   },
   "source": [
    "From the command line run `pip install mnist`. This is a library that will help you bring down the mnist dataset. If you run this from a notebook, you need to put  `!pip install mnist` in a cell by itself."
   ]
  },
  {
   "cell_type": "code",
   "execution_count": 3,
   "id": "bb6ad8a1",
   "metadata": {
    "execution": {
     "iopub.execute_input": "2022-05-24T20:11:20.563042Z",
     "iopub.status.busy": "2022-05-24T20:11:20.562468Z",
     "iopub.status.idle": "2022-05-24T20:11:23.186722Z",
     "shell.execute_reply": "2022-05-24T20:11:23.186121Z"
    },
    "papermill": {
     "duration": 2.65938,
     "end_time": "2022-05-24T20:11:23.186857",
     "exception": false,
     "start_time": "2022-05-24T20:11:20.527477",
     "status": "completed"
    },
    "tags": []
   },
   "outputs": [
    {
     "name": "stdout",
     "output_type": "stream",
     "text": [
      "Collecting mnist\r\n"
     ]
    },
    {
     "name": "stdout",
     "output_type": "stream",
     "text": [
      "  Downloading mnist-0.2.2-py2.py3-none-any.whl (3.5 kB)\r\n",
      "Requirement already satisfied: numpy in /opt/hostedtoolcache/Python/3.6.15/x64/lib/python3.6/site-packages (from mnist) (1.19.5)\r\n"
     ]
    },
    {
     "name": "stdout",
     "output_type": "stream",
     "text": [
      "Installing collected packages: mnist\r\n"
     ]
    },
    {
     "name": "stdout",
     "output_type": "stream",
     "text": [
      "Successfully installed mnist-0.2.2\r\n"
     ]
    }
   ],
   "source": [
    "!pip install mnist"
   ]
  },
  {
   "cell_type": "markdown",
   "id": "69df9c9a",
   "metadata": {
    "papermill": {
     "duration": 0.025076,
     "end_time": "2022-05-24T20:11:23.237844",
     "exception": false,
     "start_time": "2022-05-24T20:11:23.212768",
     "status": "completed"
    },
    "tags": []
   },
   "source": [
    "## Preparing the Data"
   ]
  },
  {
   "cell_type": "code",
   "execution_count": 4,
   "id": "7f69d806",
   "metadata": {
    "execution": {
     "iopub.execute_input": "2022-05-24T20:11:23.297384Z",
     "iopub.status.busy": "2022-05-24T20:11:23.296731Z",
     "iopub.status.idle": "2022-05-24T20:11:23.308781Z",
     "shell.execute_reply": "2022-05-24T20:11:23.308286Z"
    },
    "papermill": {
     "duration": 0.046254,
     "end_time": "2022-05-24T20:11:23.308919",
     "exception": false,
     "start_time": "2022-05-24T20:11:23.262665",
     "status": "completed"
    },
    "tags": []
   },
   "outputs": [],
   "source": [
    "import mnist"
   ]
  },
  {
   "cell_type": "code",
   "execution_count": 5,
   "id": "a411e44f",
   "metadata": {
    "execution": {
     "iopub.execute_input": "2022-05-24T20:11:23.377867Z",
     "iopub.status.busy": "2022-05-24T20:11:23.377268Z",
     "iopub.status.idle": "2022-05-24T20:11:24.125635Z",
     "shell.execute_reply": "2022-05-24T20:11:24.124314Z"
    },
    "papermill": {
     "duration": 0.791596,
     "end_time": "2022-05-24T20:11:24.125780",
     "exception": false,
     "start_time": "2022-05-24T20:11:23.334184",
     "status": "completed"
    },
    "tags": []
   },
   "outputs": [],
   "source": [
    "train_images = mnist.train_images()\n",
    "train_labels = mnist.train_labels()"
   ]
  },
  {
   "cell_type": "code",
   "execution_count": 6,
   "id": "dceab3a5",
   "metadata": {
    "execution": {
     "iopub.execute_input": "2022-05-24T20:11:24.186043Z",
     "iopub.status.busy": "2022-05-24T20:11:24.185444Z",
     "iopub.status.idle": "2022-05-24T20:11:24.196648Z",
     "shell.execute_reply": "2022-05-24T20:11:24.196082Z"
    },
    "papermill": {
     "duration": 0.045262,
     "end_time": "2022-05-24T20:11:24.196760",
     "exception": false,
     "start_time": "2022-05-24T20:11:24.151498",
     "status": "completed"
    },
    "tags": []
   },
   "outputs": [
    {
     "data": {
      "text/plain": [
       "((60000, 28, 28), (60000,))"
      ]
     },
     "execution_count": 6,
     "metadata": {},
     "output_type": "execute_result"
    }
   ],
   "source": [
    "train_images.shape, train_labels.shape"
   ]
  },
  {
   "cell_type": "code",
   "execution_count": 7,
   "id": "f50dc2bb",
   "metadata": {
    "execution": {
     "iopub.execute_input": "2022-05-24T20:11:24.253610Z",
     "iopub.status.busy": "2022-05-24T20:11:24.250433Z",
     "iopub.status.idle": "2022-05-24T20:11:24.499490Z",
     "shell.execute_reply": "2022-05-24T20:11:24.498941Z"
    },
    "papermill": {
     "duration": 0.277494,
     "end_time": "2022-05-24T20:11:24.499614",
     "exception": false,
     "start_time": "2022-05-24T20:11:24.222120",
     "status": "completed"
    },
    "tags": []
   },
   "outputs": [],
   "source": [
    "test_images = mnist.test_images()\n",
    "test_labels = mnist.test_labels()"
   ]
  },
  {
   "cell_type": "code",
   "execution_count": 8,
   "id": "fc38cf1b",
   "metadata": {
    "execution": {
     "iopub.execute_input": "2022-05-24T20:11:24.563635Z",
     "iopub.status.busy": "2022-05-24T20:11:24.553571Z",
     "iopub.status.idle": "2022-05-24T20:11:24.570671Z",
     "shell.execute_reply": "2022-05-24T20:11:24.571118Z"
    },
    "papermill": {
     "duration": 0.04609,
     "end_time": "2022-05-24T20:11:24.571244",
     "exception": false,
     "start_time": "2022-05-24T20:11:24.525154",
     "status": "completed"
    },
    "tags": []
   },
   "outputs": [
    {
     "data": {
      "text/plain": [
       "((10000, 28, 28), (10000,))"
      ]
     },
     "execution_count": 8,
     "metadata": {},
     "output_type": "execute_result"
    }
   ],
   "source": [
    "test_images.shape, test_labels.shape"
   ]
  },
  {
   "cell_type": "code",
   "execution_count": 9,
   "id": "f9ed8fe0",
   "metadata": {
    "execution": {
     "iopub.execute_input": "2022-05-24T20:11:24.630746Z",
     "iopub.status.busy": "2022-05-24T20:11:24.630169Z",
     "iopub.status.idle": "2022-05-24T20:11:24.769920Z",
     "shell.execute_reply": "2022-05-24T20:11:24.769377Z"
    },
    "papermill": {
     "duration": 0.17348,
     "end_time": "2022-05-24T20:11:24.770056",
     "exception": false,
     "start_time": "2022-05-24T20:11:24.596576",
     "status": "completed"
    },
    "tags": []
   },
   "outputs": [
    {
     "name": "stdout",
     "output_type": "stream",
     "text": [
      "2\n"
     ]
    },
    {
     "data": {
      "text/plain": [
       "<matplotlib.image.AxesImage at 0x7fe4a4045eb8>"
      ]
     },
     "execution_count": 9,
     "metadata": {},
     "output_type": "execute_result"
    },
    {
     "data": {
      "image/png": "[encoded data removed]",
      "text/plain": [
       "<Figure size 432x288 with 1 Axes>"
      ]
     },
     "metadata": {
      "needs_background": "light"
     },
     "output_type": "display_data"
    }
   ],
   "source": [
    "image_index = 7776 # You may select anything up to 60,000\n",
    "print(train_labels[image_index]) \n",
    "plt.imshow(train_images[image_index], cmap='Greys')"
   ]
  },
  {
   "cell_type": "markdown",
   "id": "a8d2388d",
   "metadata": {
    "papermill": {
     "duration": 0.026553,
     "end_time": "2022-05-24T20:11:24.823340",
     "exception": false,
     "start_time": "2022-05-24T20:11:24.796787",
     "status": "completed"
    },
    "tags": []
   },
   "source": [
    "## Filter data to get 3 and 8 out"
   ]
  },
  {
   "cell_type": "code",
   "execution_count": 10,
   "id": "776f7fc7",
   "metadata": {
    "execution": {
     "iopub.execute_input": "2022-05-24T20:11:24.889661Z",
     "iopub.status.busy": "2022-05-24T20:11:24.885464Z",
     "iopub.status.idle": "2022-05-24T20:11:24.898428Z",
     "shell.execute_reply": "2022-05-24T20:11:24.898911Z"
    },
    "papermill": {
     "duration": 0.049371,
     "end_time": "2022-05-24T20:11:24.899041",
     "exception": false,
     "start_time": "2022-05-24T20:11:24.849670",
     "status": "completed"
    },
    "tags": []
   },
   "outputs": [],
   "source": [
    "train_filter = np.where((train_labels == 3 ) | (train_labels == 8))\n",
    "test_filter = np.where((test_labels == 3) | (test_labels == 8))\n",
    "X_train, y_train = train_images[train_filter], train_labels[train_filter]\n",
    "X_test, y_test = test_images[test_filter], test_labels[test_filter]"
   ]
  },
  {
   "cell_type": "markdown",
   "id": "948f0b7e",
   "metadata": {
    "papermill": {
     "duration": 0.026364,
     "end_time": "2022-05-24T20:11:24.951891",
     "exception": false,
     "start_time": "2022-05-24T20:11:24.925527",
     "status": "completed"
    },
    "tags": []
   },
   "source": [
    "We normalize the pizel values in the 0 to 1 range"
   ]
  },
  {
   "cell_type": "code",
   "execution_count": 11,
   "id": "ee4c2166",
   "metadata": {
    "execution": {
     "iopub.execute_input": "2022-05-24T20:11:25.022006Z",
     "iopub.status.busy": "2022-05-24T20:11:25.017301Z",
     "iopub.status.idle": "2022-05-24T20:11:25.056640Z",
     "shell.execute_reply": "2022-05-24T20:11:25.056114Z"
    },
    "papermill": {
     "duration": 0.07851,
     "end_time": "2022-05-24T20:11:25.056772",
     "exception": false,
     "start_time": "2022-05-24T20:11:24.978262",
     "status": "completed"
    },
    "tags": []
   },
   "outputs": [],
   "source": [
    "X_train = X_train/255.\n",
    "X_test = X_test/255."
   ]
  },
  {
   "cell_type": "markdown",
   "id": "ddcf4fab",
   "metadata": {
    "papermill": {
     "duration": 0.027084,
     "end_time": "2022-05-24T20:11:25.110989",
     "exception": false,
     "start_time": "2022-05-24T20:11:25.083905",
     "status": "completed"
    },
    "tags": []
   },
   "source": [
    "And setup the labels as 1 (when the digit is 3) and 0 (when the digit is 8)"
   ]
  },
  {
   "cell_type": "code",
   "execution_count": 12,
   "id": "7dc908f2",
   "metadata": {
    "execution": {
     "iopub.execute_input": "2022-05-24T20:11:25.167819Z",
     "iopub.status.busy": "2022-05-24T20:11:25.167233Z",
     "iopub.status.idle": "2022-05-24T20:11:25.179608Z",
     "shell.execute_reply": "2022-05-24T20:11:25.179131Z"
    },
    "papermill": {
     "duration": 0.042274,
     "end_time": "2022-05-24T20:11:25.179717",
     "exception": false,
     "start_time": "2022-05-24T20:11:25.137443",
     "status": "completed"
    },
    "tags": []
   },
   "outputs": [],
   "source": [
    "y_train = 1*(y_train==3)\n",
    "y_test = 1*(y_test==3)"
   ]
  },
  {
   "cell_type": "code",
   "execution_count": 13,
   "id": "01e4e969",
   "metadata": {
    "execution": {
     "iopub.execute_input": "2022-05-24T20:11:25.236028Z",
     "iopub.status.busy": "2022-05-24T20:11:25.235457Z",
     "iopub.status.idle": "2022-05-24T20:11:25.249357Z",
     "shell.execute_reply": "2022-05-24T20:11:25.248876Z"
    },
    "papermill": {
     "duration": 0.043246,
     "end_time": "2022-05-24T20:11:25.249467",
     "exception": false,
     "start_time": "2022-05-24T20:11:25.206221",
     "status": "completed"
    },
    "tags": []
   },
   "outputs": [
    {
     "data": {
      "text/plain": [
       "((11982, 28, 28), (1984, 28, 28))"
      ]
     },
     "execution_count": 13,
     "metadata": {},
     "output_type": "execute_result"
    }
   ],
   "source": [
    "X_train.shape, X_test.shape"
   ]
  },
  {
   "cell_type": "markdown",
   "id": "5ccf3f85",
   "metadata": {
    "papermill": {
     "duration": 0.027083,
     "end_time": "2022-05-24T20:11:25.303068",
     "exception": false,
     "start_time": "2022-05-24T20:11:25.275985",
     "status": "completed"
    },
    "tags": []
   },
   "source": [
    "We reshape the data to flatten the image pixels into a set of features or co-variates:"
   ]
  },
  {
   "cell_type": "code",
   "execution_count": 14,
   "id": "5286a4a3",
   "metadata": {
    "execution": {
     "iopub.execute_input": "2022-05-24T20:11:25.362308Z",
     "iopub.status.busy": "2022-05-24T20:11:25.361710Z",
     "iopub.status.idle": "2022-05-24T20:11:25.374591Z",
     "shell.execute_reply": "2022-05-24T20:11:25.374115Z"
    },
    "papermill": {
     "duration": 0.04483,
     "end_time": "2022-05-24T20:11:25.374701",
     "exception": false,
     "start_time": "2022-05-24T20:11:25.329871",
     "status": "completed"
    },
    "tags": []
   },
   "outputs": [
    {
     "data": {
      "text/plain": [
       "((11982, 784), (1984, 784))"
      ]
     },
     "execution_count": 14,
     "metadata": {},
     "output_type": "execute_result"
    }
   ],
   "source": [
    "X_train = X_train.reshape(X_train.shape[0], -1)\n",
    "X_test = X_test.reshape(X_test.shape[0], -1)\n",
    "X_train.shape, X_test.shape"
   ]
  },
  {
   "cell_type": "code",
   "execution_count": 15,
   "id": "73c5f88a",
   "metadata": {
    "execution": {
     "iopub.execute_input": "2022-05-24T20:11:25.433408Z",
     "iopub.status.busy": "2022-05-24T20:11:25.432779Z",
     "iopub.status.idle": "2022-05-24T20:11:25.451413Z",
     "shell.execute_reply": "2022-05-24T20:11:25.450951Z"
    },
    "papermill": {
     "duration": 0.049718,
     "end_time": "2022-05-24T20:11:25.451530",
     "exception": false,
     "start_time": "2022-05-24T20:11:25.401812",
     "status": "completed"
    },
    "tags": []
   },
   "outputs": [],
   "source": [
    "#Impoting functions from 'Kudzu'\n",
    "from kudzu.model import Model\n",
    "from kudzu.train import Learner\n",
    "from kudzu.optim import GD\n",
    "from kudzu.data import Data, Sampler,Dataloader\n",
    "\n",
    "from kudzu.callbacks import AccCallback\n",
    "from kudzu.callbacks import ClfCallback\n",
    "\n",
    "from kudzu.loss import MSE\n",
    "\n",
    "from kudzu.layer import Sigmoid,Relu\n",
    "from kudzu.layer import Affine"
   ]
  },
  {
   "cell_type": "markdown",
   "id": "bc01172a",
   "metadata": {
    "papermill": {
     "duration": 0.026948,
     "end_time": "2022-05-24T20:11:25.505629",
     "exception": false,
     "start_time": "2022-05-24T20:11:25.478681",
     "status": "completed"
    },
    "tags": []
   },
   "source": [
    "### Let us create a `Config` class, to store important parameters. \n",
    "This class essentially plays the role of a dictionary."
   ]
  },
  {
   "cell_type": "code",
   "execution_count": 16,
   "id": "978281aa",
   "metadata": {
    "execution": {
     "iopub.execute_input": "2022-05-24T20:11:25.564530Z",
     "iopub.status.busy": "2022-05-24T20:11:25.563941Z",
     "iopub.status.idle": "2022-05-24T20:11:25.575884Z",
     "shell.execute_reply": "2022-05-24T20:11:25.576332Z"
    },
    "papermill": {
     "duration": 0.043953,
     "end_time": "2022-05-24T20:11:25.576461",
     "exception": false,
     "start_time": "2022-05-24T20:11:25.532508",
     "status": "completed"
    },
    "tags": []
   },
   "outputs": [],
   "source": [
    "class Config:\n",
    "    pass\n",
    "config = Config()\n",
    "config.lr = 0.001\n",
    "config.num_epochs = 250\n",
    "config.bs = 50"
   ]
  },
  {
   "cell_type": "markdown",
   "id": "1385fa59",
   "metadata": {
    "papermill": {
     "duration": 0.026854,
     "end_time": "2022-05-24T20:11:25.630301",
     "exception": false,
     "start_time": "2022-05-24T20:11:25.603447",
     "status": "completed"
    },
    "tags": []
   },
   "source": [
    "### Running Models with the Training data\n",
    "Details about the network layers:\n",
    "- A first affine layer has 784 inputs and does 100 affine transforms. These are followed by a Relu\n",
    "- A second affine layer has 100 inputs from the 100 activations of the past layer, and does 100 affine transforms. These are followed by a Relu\n",
    "- A third affine layer has 100 activations and does 2 affine transformations to create an embedding for visualization. There is no non-linearity here.\n",
    "- A final \"logistic regression\" which has an affine transform from 2 inputs to 1 output, which is squeezed through a sigmoid.\n"
   ]
  },
  {
   "cell_type": "code",
   "execution_count": 17,
   "id": "2b9c66db",
   "metadata": {
    "execution": {
     "iopub.execute_input": "2022-05-24T20:11:25.701552Z",
     "iopub.status.busy": "2022-05-24T20:11:25.697816Z",
     "iopub.status.idle": "2022-05-24T20:11:25.703715Z",
     "shell.execute_reply": "2022-05-24T20:11:25.704137Z"
    },
    "papermill": {
     "duration": 0.046997,
     "end_time": "2022-05-24T20:11:25.704265",
     "exception": false,
     "start_time": "2022-05-24T20:11:25.657268",
     "status": "completed"
    },
    "tags": []
   },
   "outputs": [],
   "source": [
    "data = Data(X_train, y_train.reshape(-1,1))\n",
    "sampler = Sampler(data, config.bs, shuffle=True)\n",
    "\n",
    "dl = Dataloader(data, sampler)\n",
    "\n",
    "opt = GD(config.lr)\n",
    "loss = MSE()"
   ]
  },
  {
   "cell_type": "code",
   "execution_count": 18,
   "id": "b275e4c2",
   "metadata": {
    "execution": {
     "iopub.execute_input": "2022-05-24T20:11:25.766396Z",
     "iopub.status.busy": "2022-05-24T20:11:25.765727Z",
     "iopub.status.idle": "2022-05-24T20:11:25.775407Z",
     "shell.execute_reply": "2022-05-24T20:11:25.774922Z"
    },
    "papermill": {
     "duration": 0.044287,
     "end_time": "2022-05-24T20:11:25.775516",
     "exception": false,
     "start_time": "2022-05-24T20:11:25.731229",
     "status": "completed"
    },
    "tags": []
   },
   "outputs": [],
   "source": [
    "training_data_x = X_train\n",
    "testing_data_x = X_test\n",
    "training_data_y = y_train.reshape(-1,1)\n",
    "testing_data_y = y_test.reshape(-1,1)"
   ]
  },
  {
   "cell_type": "code",
   "execution_count": 19,
   "id": "76951160",
   "metadata": {
    "execution": {
     "iopub.execute_input": "2022-05-24T20:11:25.833239Z",
     "iopub.status.busy": "2022-05-24T20:11:25.832635Z",
     "iopub.status.idle": "2022-05-24T20:11:25.849215Z",
     "shell.execute_reply": "2022-05-24T20:11:25.849671Z"
    },
    "papermill": {
     "duration": 0.04752,
     "end_time": "2022-05-24T20:11:25.849797",
     "exception": false,
     "start_time": "2022-05-24T20:11:25.802277",
     "status": "completed"
    },
    "tags": []
   },
   "outputs": [
    {
     "name": "stdout",
     "output_type": "stream",
     "text": [
      "xavier\n",
      "xavier\n",
      "xavier\n",
      "xavier\n",
      "xavier\n"
     ]
    }
   ],
   "source": [
    "layers = [Affine(\"first\", 784, 100), Relu(\"first\"), Affine(\"second\", 100, 100), Relu(\"second\"), Affine(\"third\", 100, 2), Affine(\"last\", 2, 1), Sigmoid(\"last\")]\n",
    "model_nn = Model(layers)\n",
    "model_lr = Model([Affine(\"logits\", 784, 1), Sigmoid(\"sigmoid\")])"
   ]
  },
  {
   "cell_type": "code",
   "execution_count": 20,
   "id": "6eede77a",
   "metadata": {
    "execution": {
     "iopub.execute_input": "2022-05-24T20:11:25.908152Z",
     "iopub.status.busy": "2022-05-24T20:11:25.907580Z",
     "iopub.status.idle": "2022-05-24T20:11:25.920342Z",
     "shell.execute_reply": "2022-05-24T20:11:25.919869Z"
    },
    "papermill": {
     "duration": 0.043415,
     "end_time": "2022-05-24T20:11:25.920454",
     "exception": false,
     "start_time": "2022-05-24T20:11:25.877039",
     "status": "completed"
    },
    "tags": []
   },
   "outputs": [],
   "source": [
    "nn_learner = Learner(loss, model_nn, opt, config.num_epochs)\n",
    "acc_nn = ClfCallback(nn_learner, config.bs, training_data_x , testing_data_x, training_data_y, testing_data_y)\n",
    "nn_learner.set_callbacks([acc_nn])"
   ]
  },
  {
   "cell_type": "code",
   "execution_count": 21,
   "id": "877b6cc7",
   "metadata": {
    "execution": {
     "iopub.execute_input": "2022-05-24T20:11:25.978979Z",
     "iopub.status.busy": "2022-05-24T20:11:25.978398Z",
     "iopub.status.idle": "2022-05-24T20:11:25.991339Z",
     "shell.execute_reply": "2022-05-24T20:11:25.990859Z"
    },
    "papermill": {
     "duration": 0.043844,
     "end_time": "2022-05-24T20:11:25.991453",
     "exception": false,
     "start_time": "2022-05-24T20:11:25.947609",
     "status": "completed"
    },
    "tags": []
   },
   "outputs": [],
   "source": [
    "lr_learner = Learner(loss, model_lr, opt, config.num_epochs)\n",
    "acc_lr = ClfCallback(lr_learner, config.bs, training_data_x , testing_data_x, training_data_y, testing_data_y)\n",
    "lr_learner.set_callbacks([acc_lr])"
   ]
  },
  {
   "cell_type": "code",
   "execution_count": 22,
   "id": "d9b133c3",
   "metadata": {
    "execution": {
     "iopub.execute_input": "2022-05-24T20:11:26.049769Z",
     "iopub.status.busy": "2022-05-24T20:11:26.049188Z",
     "iopub.status.idle": "2022-05-24T20:12:39.366336Z",
     "shell.execute_reply": "2022-05-24T20:12:39.366901Z"
    },
    "papermill": {
     "duration": 73.348148,
     "end_time": "2022-05-24T20:12:39.367041",
     "exception": false,
     "start_time": "2022-05-24T20:11:26.018893",
     "status": "completed"
    },
    "tags": []
   },
   "outputs": [
    {
     "name": "stdout",
     "output_type": "stream",
     "text": [
      "Epoch 0, Loss 0.2496\n",
      "Training Accuracy: 0.6038, Testing Accuracy: 0.6048\n",
      "\n"
     ]
    },
    {
     "name": "stdout",
     "output_type": "stream",
     "text": [
      "Epoch 10, Loss 0.1004\n",
      "Training Accuracy: 0.9206, Testing Accuracy: 0.9284\n",
      "\n"
     ]
    },
    {
     "name": "stdout",
     "output_type": "stream",
     "text": [
      "Epoch 20, Loss 0.0589\n",
      "Training Accuracy: 0.9426, Testing Accuracy: 0.9521\n",
      "\n"
     ]
    },
    {
     "name": "stdout",
     "output_type": "stream",
     "text": [
      "Epoch 30, Loss 0.0458\n",
      "Training Accuracy: 0.9514, Testing Accuracy: 0.9607\n",
      "\n"
     ]
    },
    {
     "name": "stdout",
     "output_type": "stream",
     "text": [
      "Epoch 40, Loss 0.0396\n",
      "Training Accuracy: 0.9566, Testing Accuracy: 0.9657\n",
      "\n"
     ]
    },
    {
     "name": "stdout",
     "output_type": "stream",
     "text": [
      "Epoch 50, Loss 0.0359\n",
      "Training Accuracy: 0.9601, Testing Accuracy: 0.9667\n",
      "\n"
     ]
    },
    {
     "name": "stdout",
     "output_type": "stream",
     "text": [
      "Epoch 60, Loss 0.0333\n",
      "Training Accuracy: 0.9627, Testing Accuracy: 0.9682\n",
      "\n"
     ]
    },
    {
     "name": "stdout",
     "output_type": "stream",
     "text": [
      "Epoch 70, Loss 0.0314\n",
      "Training Accuracy: 0.9637, Testing Accuracy: 0.9677\n",
      "\n"
     ]
    },
    {
     "name": "stdout",
     "output_type": "stream",
     "text": [
      "Epoch 80, Loss 0.0298\n",
      "Training Accuracy: 0.9658, Testing Accuracy: 0.9672\n",
      "\n"
     ]
    },
    {
     "name": "stdout",
     "output_type": "stream",
     "text": [
      "Epoch 90, Loss 0.0286\n",
      "Training Accuracy: 0.9670, Testing Accuracy: 0.9688\n",
      "\n"
     ]
    },
    {
     "name": "stdout",
     "output_type": "stream",
     "text": [
      "Epoch 100, Loss 0.0275\n",
      "Training Accuracy: 0.9679, Testing Accuracy: 0.9698\n",
      "\n"
     ]
    },
    {
     "name": "stdout",
     "output_type": "stream",
     "text": [
      "Epoch 110, Loss 0.0265\n",
      "Training Accuracy: 0.9694, Testing Accuracy: 0.9698\n",
      "\n"
     ]
    },
    {
     "name": "stdout",
     "output_type": "stream",
     "text": [
      "Epoch 120, Loss 0.0256\n",
      "Training Accuracy: 0.9707, Testing Accuracy: 0.9718\n",
      "\n"
     ]
    },
    {
     "name": "stdout",
     "output_type": "stream",
     "text": [
      "Epoch 130, Loss 0.0249\n",
      "Training Accuracy: 0.9719, Testing Accuracy: 0.9718\n",
      "\n"
     ]
    },
    {
     "name": "stdout",
     "output_type": "stream",
     "text": [
      "Epoch 140, Loss 0.0242\n",
      "Training Accuracy: 0.9720, Testing Accuracy: 0.9728\n",
      "\n"
     ]
    },
    {
     "name": "stdout",
     "output_type": "stream",
     "text": [
      "Epoch 150, Loss 0.0236\n",
      "Training Accuracy: 0.9725, Testing Accuracy: 0.9728\n",
      "\n"
     ]
    },
    {
     "name": "stdout",
     "output_type": "stream",
     "text": [
      "Epoch 160, Loss 0.023\n",
      "Training Accuracy: 0.9729, Testing Accuracy: 0.9728\n",
      "\n"
     ]
    },
    {
     "name": "stdout",
     "output_type": "stream",
     "text": [
      "Epoch 170, Loss 0.0224\n",
      "Training Accuracy: 0.9738, Testing Accuracy: 0.9733\n",
      "\n"
     ]
    },
    {
     "name": "stdout",
     "output_type": "stream",
     "text": [
      "Epoch 180, Loss 0.0219\n",
      "Training Accuracy: 0.9746, Testing Accuracy: 0.9738\n",
      "\n"
     ]
    },
    {
     "name": "stdout",
     "output_type": "stream",
     "text": [
      "Epoch 190, Loss 0.0214\n",
      "Training Accuracy: 0.9753, Testing Accuracy: 0.9738\n",
      "\n"
     ]
    },
    {
     "name": "stdout",
     "output_type": "stream",
     "text": [
      "Epoch 200, Loss 0.021\n",
      "Training Accuracy: 0.9760, Testing Accuracy: 0.9738\n",
      "\n"
     ]
    },
    {
     "name": "stdout",
     "output_type": "stream",
     "text": [
      "Epoch 210, Loss 0.0205\n",
      "Training Accuracy: 0.9764, Testing Accuracy: 0.9738\n",
      "\n"
     ]
    },
    {
     "name": "stdout",
     "output_type": "stream",
     "text": [
      "Epoch 220, Loss 0.0201\n",
      "Training Accuracy: 0.9767, Testing Accuracy: 0.9738\n",
      "\n"
     ]
    },
    {
     "name": "stdout",
     "output_type": "stream",
     "text": [
      "Epoch 230, Loss 0.0197\n",
      "Training Accuracy: 0.9774, Testing Accuracy: 0.9738\n",
      "\n"
     ]
    },
    {
     "name": "stdout",
     "output_type": "stream",
     "text": [
      "Epoch 240, Loss 0.0193\n",
      "Training Accuracy: 0.9777, Testing Accuracy: 0.9743\n",
      "\n"
     ]
    },
    {
     "data": {
      "text/plain": [
       "0.06387740554787757"
      ]
     },
     "execution_count": 22,
     "metadata": {},
     "output_type": "execute_result"
    }
   ],
   "source": [
    "nn_learner.train_loop(dl)"
   ]
  },
  {
   "cell_type": "code",
   "execution_count": 23,
   "id": "e0163366",
   "metadata": {
    "execution": {
     "iopub.execute_input": "2022-05-24T20:12:39.442368Z",
     "iopub.status.busy": "2022-05-24T20:12:39.441800Z",
     "iopub.status.idle": "2022-05-24T20:12:52.260444Z",
     "shell.execute_reply": "2022-05-24T20:12:52.261352Z"
    },
    "papermill": {
     "duration": 12.859747,
     "end_time": "2022-05-24T20:12:52.261507",
     "exception": false,
     "start_time": "2022-05-24T20:12:39.401760",
     "status": "completed"
    },
    "tags": []
   },
   "outputs": [
    {
     "name": "stdout",
     "output_type": "stream",
     "text": [
      "Epoch 0, Loss 0.2661\n",
      "Training Accuracy: 0.5832, Testing Accuracy: 0.5746\n",
      "\n"
     ]
    },
    {
     "name": "stdout",
     "output_type": "stream",
     "text": [
      "Epoch 10, Loss 0.1049\n",
      "Training Accuracy: 0.9075, Testing Accuracy: 0.9204\n",
      "\n"
     ]
    },
    {
     "name": "stdout",
     "output_type": "stream",
     "text": [
      "Epoch 20, Loss 0.0799\n",
      "Training Accuracy: 0.9268, Testing Accuracy: 0.9395\n",
      "\n"
     ]
    },
    {
     "name": "stdout",
     "output_type": "stream",
     "text": [
      "Epoch 30, Loss 0.0687\n",
      "Training Accuracy: 0.9352, Testing Accuracy: 0.9461\n",
      "\n"
     ]
    },
    {
     "name": "stdout",
     "output_type": "stream",
     "text": [
      "Epoch 40, Loss 0.0621\n",
      "Training Accuracy: 0.9399, Testing Accuracy: 0.9511\n",
      "\n"
     ]
    },
    {
     "name": "stdout",
     "output_type": "stream",
     "text": [
      "Epoch 50, Loss 0.0576\n",
      "Training Accuracy: 0.9438, Testing Accuracy: 0.9536\n",
      "\n"
     ]
    },
    {
     "name": "stdout",
     "output_type": "stream",
     "text": [
      "Epoch 60, Loss 0.0543\n",
      "Training Accuracy: 0.9467, Testing Accuracy: 0.9572\n",
      "\n"
     ]
    },
    {
     "name": "stdout",
     "output_type": "stream",
     "text": [
      "Epoch 70, Loss 0.0517\n",
      "Training Accuracy: 0.9489, Testing Accuracy: 0.9592\n",
      "\n"
     ]
    },
    {
     "name": "stdout",
     "output_type": "stream",
     "text": [
      "Epoch 80, Loss 0.0497\n",
      "Training Accuracy: 0.9507, Testing Accuracy: 0.9602\n",
      "\n"
     ]
    },
    {
     "name": "stdout",
     "output_type": "stream",
     "text": [
      "Epoch 90, Loss 0.048\n",
      "Training Accuracy: 0.9517, Testing Accuracy: 0.9612\n",
      "\n"
     ]
    },
    {
     "name": "stdout",
     "output_type": "stream",
     "text": [
      "Epoch 100, Loss 0.0465\n",
      "Training Accuracy: 0.9523, Testing Accuracy: 0.9622\n",
      "\n"
     ]
    },
    {
     "name": "stdout",
     "output_type": "stream",
     "text": [
      "Epoch 110, Loss 0.0453\n",
      "Training Accuracy: 0.9536, Testing Accuracy: 0.9622\n",
      "\n"
     ]
    },
    {
     "name": "stdout",
     "output_type": "stream",
     "text": [
      "Epoch 120, Loss 0.0442\n",
      "Training Accuracy: 0.9546, Testing Accuracy: 0.9627\n",
      "\n"
     ]
    },
    {
     "name": "stdout",
     "output_type": "stream",
     "text": [
      "Epoch 130, Loss 0.0433\n",
      "Training Accuracy: 0.9552, Testing Accuracy: 0.9632\n",
      "\n"
     ]
    },
    {
     "name": "stdout",
     "output_type": "stream",
     "text": [
      "Epoch 140, Loss 0.0425\n",
      "Training Accuracy: 0.9557, Testing Accuracy: 0.9637\n",
      "\n"
     ]
    },
    {
     "name": "stdout",
     "output_type": "stream",
     "text": [
      "Epoch 150, Loss 0.0417\n",
      "Training Accuracy: 0.9564, Testing Accuracy: 0.9642\n",
      "\n"
     ]
    },
    {
     "name": "stdout",
     "output_type": "stream",
     "text": [
      "Epoch 160, Loss 0.041\n",
      "Training Accuracy: 0.9574, Testing Accuracy: 0.9642\n",
      "\n"
     ]
    },
    {
     "name": "stdout",
     "output_type": "stream",
     "text": [
      "Epoch 170, Loss 0.0404\n",
      "Training Accuracy: 0.9578, Testing Accuracy: 0.9642\n",
      "\n"
     ]
    },
    {
     "name": "stdout",
     "output_type": "stream",
     "text": [
      "Epoch 180, Loss 0.0398\n",
      "Training Accuracy: 0.9583, Testing Accuracy: 0.9637\n",
      "\n"
     ]
    },
    {
     "name": "stdout",
     "output_type": "stream",
     "text": [
      "Epoch 190, Loss 0.0393\n",
      "Training Accuracy: 0.9587, Testing Accuracy: 0.9642\n",
      "\n"
     ]
    },
    {
     "name": "stdout",
     "output_type": "stream",
     "text": [
      "Epoch 200, Loss 0.0388\n",
      "Training Accuracy: 0.9589, Testing Accuracy: 0.9647\n",
      "\n"
     ]
    },
    {
     "name": "stdout",
     "output_type": "stream",
     "text": [
      "Epoch 210, Loss 0.0384\n",
      "Training Accuracy: 0.9595, Testing Accuracy: 0.9642\n",
      "\n"
     ]
    },
    {
     "name": "stdout",
     "output_type": "stream",
     "text": [
      "Epoch 220, Loss 0.038\n",
      "Training Accuracy: 0.9599, Testing Accuracy: 0.9642\n",
      "\n"
     ]
    },
    {
     "name": "stdout",
     "output_type": "stream",
     "text": [
      "Epoch 230, Loss 0.0376\n",
      "Training Accuracy: 0.9600, Testing Accuracy: 0.9642\n",
      "\n"
     ]
    },
    {
     "name": "stdout",
     "output_type": "stream",
     "text": [
      "Epoch 240, Loss 0.0372\n",
      "Training Accuracy: 0.9604, Testing Accuracy: 0.9647\n",
      "\n"
     ]
    },
    {
     "data": {
      "text/plain": [
       "0.07179702616226985"
      ]
     },
     "execution_count": 23,
     "metadata": {},
     "output_type": "execute_result"
    }
   ],
   "source": [
    "lr_learner.train_loop(dl)"
   ]
  },
  {
   "cell_type": "code",
   "execution_count": 24,
   "id": "ca410940",
   "metadata": {
    "execution": {
     "iopub.execute_input": "2022-05-24T20:12:52.356459Z",
     "iopub.status.busy": "2022-05-24T20:12:52.354631Z",
     "iopub.status.idle": "2022-05-24T20:12:52.590185Z",
     "shell.execute_reply": "2022-05-24T20:12:52.590940Z"
    },
    "papermill": {
     "duration": 0.286813,
     "end_time": "2022-05-24T20:12:52.591082",
     "exception": false,
     "start_time": "2022-05-24T20:12:52.304269",
     "status": "completed"
    },
    "tags": []
   },
   "outputs": [
    {
     "data": {
      "text/plain": [
       "<matplotlib.legend.Legend at 0x7fe49740a4e0>"
      ]
     },
     "execution_count": 24,
     "metadata": {},
     "output_type": "execute_result"
    },
    {
     "data": {
      "image/png": "[encoded data removed]",
      "text/plain": [
       "<Figure size 1080x720 with 1 Axes>"
      ]
     },
     "metadata": {
      "needs_background": "light"
     },
     "output_type": "display_data"
    }
   ],
   "source": [
    "#comparing the results of NN and LR\n",
    "plt.figure(figsize=(15,10))\n",
    "\n",
    "# Neural Network plots\n",
    "plt.plot(acc_nn.accuracies, 'r-', label = \"Training Accuracies - NN\")\n",
    "plt.plot(acc_nn.test_accuracies, 'g-', label = \"Testing Accuracies - NN\")\n",
    "\n",
    "# Logistic Regression plots\n",
    "plt.plot(acc_lr.accuracies, 'k-', label = \"Training Accuracies - LR\")\n",
    "plt.plot(acc_lr.test_accuracies, 'b-', label = \"Testing Accuracies - LR\")\n",
    "plt.legend()"
   ]
  },
  {
   "cell_type": "markdown",
   "id": "80dfb35c",
   "metadata": {
    "papermill": {
     "duration": 0.042001,
     "end_time": "2022-05-24T20:12:52.675724",
     "exception": false,
     "start_time": "2022-05-24T20:12:52.633723",
     "status": "completed"
    },
    "tags": []
   },
   "source": [
    "#### Plotting the outputs of this layer of the NN.\n"
   ]
  },
  {
   "cell_type": "code",
   "execution_count": 25,
   "id": "45eb2ff5",
   "metadata": {
    "execution": {
     "iopub.execute_input": "2022-05-24T20:12:52.764099Z",
     "iopub.status.busy": "2022-05-24T20:12:52.763507Z",
     "iopub.status.idle": "2022-05-24T20:12:52.785110Z",
     "shell.execute_reply": "2022-05-24T20:12:52.784574Z"
    },
    "papermill": {
     "duration": 0.067493,
     "end_time": "2022-05-24T20:12:52.785236",
     "exception": false,
     "start_time": "2022-05-24T20:12:52.717743",
     "status": "completed"
    },
    "tags": []
   },
   "outputs": [],
   "source": [
    "new_model = Model(layers[:-2])\n",
    "testing_plot = new_model(testing_data_x)"
   ]
  },
  {
   "cell_type": "code",
   "execution_count": 26,
   "id": "4c0a5485",
   "metadata": {
    "execution": {
     "iopub.execute_input": "2022-05-24T20:12:52.874601Z",
     "iopub.status.busy": "2022-05-24T20:12:52.874006Z",
     "iopub.status.idle": "2022-05-24T20:12:53.081527Z",
     "shell.execute_reply": "2022-05-24T20:12:53.080959Z"
    },
    "papermill": {
     "duration": 0.253904,
     "end_time": "2022-05-24T20:12:53.081661",
     "exception": false,
     "start_time": "2022-05-24T20:12:52.827757",
     "status": "completed"
    },
    "tags": []
   },
   "outputs": [
    {
     "data": {
      "text/plain": [
       "Text(0.5, 1.0, 'Outputs')"
      ]
     },
     "execution_count": 26,
     "metadata": {},
     "output_type": "execute_result"
    },
    {
     "data": {
      "image/png": "[encoded data removed]",
      "text/plain": [
       "<Figure size 576x504 with 1 Axes>"
      ]
     },
     "metadata": {
      "needs_background": "light"
     },
     "output_type": "display_data"
    }
   ],
   "source": [
    "# Plotting the scatter plot of points and color coding by class\n",
    "plt.figure(figsize=(8,7))\n",
    "plt.scatter(testing_plot[:,0], testing_plot[:,1], alpha = 0.1, c = y_test.ravel());\n",
    "plt.title('Outputs')"
   ]
  },
  {
   "cell_type": "markdown",
   "id": "a74fcf8f",
   "metadata": {
    "papermill": {
     "duration": 0.044961,
     "end_time": "2022-05-24T20:12:53.171993",
     "exception": false,
     "start_time": "2022-05-24T20:12:53.127032",
     "status": "completed"
    },
    "tags": []
   },
   "source": [
    "Probability contours"
   ]
  },
  {
   "cell_type": "code",
   "execution_count": 27,
   "id": "d0afc8e3",
   "metadata": {
    "execution": {
     "iopub.execute_input": "2022-05-24T20:12:53.293474Z",
     "iopub.status.busy": "2022-05-24T20:12:53.292871Z",
     "iopub.status.idle": "2022-05-24T20:12:53.304320Z",
     "shell.execute_reply": "2022-05-24T20:12:53.303817Z"
    },
    "papermill": {
     "duration": 0.087694,
     "end_time": "2022-05-24T20:12:53.304433",
     "exception": false,
     "start_time": "2022-05-24T20:12:53.216739",
     "status": "completed"
    },
    "tags": []
   },
   "outputs": [],
   "source": [
    "model_prob = Model(layers[-2:]) "
   ]
  },
  {
   "cell_type": "code",
   "execution_count": 28,
   "id": "9b96e238",
   "metadata": {
    "execution": {
     "iopub.execute_input": "2022-05-24T20:12:53.411969Z",
     "iopub.status.busy": "2022-05-24T20:12:53.411371Z",
     "iopub.status.idle": "2022-05-24T20:12:53.418397Z",
     "shell.execute_reply": "2022-05-24T20:12:53.417838Z"
    },
    "papermill": {
     "duration": 0.069367,
     "end_time": "2022-05-24T20:12:53.418511",
     "exception": false,
     "start_time": "2022-05-24T20:12:53.349144",
     "status": "completed"
    },
    "tags": []
   },
   "outputs": [],
   "source": [
    "#creating the x and y ranges according to the above generated plot.\n",
    "x_range = np.linspace(-4, 1, 100) \n",
    "y_range = np.linspace(-6, 6, 100) \n",
    "x_grid, y_grid = np.meshgrid(x_range, y_range) # x_grid and y_grig are of size 100 X 100\n",
    "\n",
    "# converting x_grid and y_grid to continuous arrays\n",
    "x_gridflat = np.ravel(x_grid)\n",
    "y_gridflat = np.ravel(y_grid)\n",
    "\n",
    "# The last layer of the current model takes two columns as input. Hence transpose of np.vstack() is required.\n",
    "X = np.vstack((x_gridflat, y_gridflat)).T\n",
    "\n",
    "prob_contour = model_prob(X).reshape(100,100) "
   ]
  },
  {
   "cell_type": "code",
   "execution_count": 29,
   "id": "da72499a",
   "metadata": {
    "execution": {
     "iopub.execute_input": "2022-05-24T20:12:53.518550Z",
     "iopub.status.busy": "2022-05-24T20:12:53.517968Z",
     "iopub.status.idle": "2022-05-24T20:12:53.751502Z",
     "shell.execute_reply": "2022-05-24T20:12:53.752012Z"
    },
    "papermill": {
     "duration": 0.288729,
     "end_time": "2022-05-24T20:12:53.752165",
     "exception": false,
     "start_time": "2022-05-24T20:12:53.463436",
     "status": "completed"
    },
    "tags": []
   },
   "outputs": [
    {
     "data": {
      "image/png": "[encoded data removed]",
      "text/plain": [
       "<Figure size 720x648 with 1 Axes>"
      ]
     },
     "metadata": {
      "needs_background": "light"
     },
     "output_type": "display_data"
    }
   ],
   "source": [
    "plt.figure(figsize=(10,9))\n",
    "plt.scatter(testing_plot[:,0], testing_plot[:,1], alpha = 0.1, c = y_test.ravel())\n",
    "contours = plt.contour(x_grid,y_grid,prob_contour)\n",
    "plt.title('Probability Contours')\n",
    "plt.clabel(contours, inline = True );"
   ]
  },
  {
   "cell_type": "code",
   "execution_count": null,
   "id": "e81b4ac7",
   "metadata": {
    "papermill": {
     "duration": 0.047244,
     "end_time": "2022-05-24T20:12:53.847821",
     "exception": false,
     "start_time": "2022-05-24T20:12:53.800577",
     "status": "completed"
    },
    "tags": []
   },
   "outputs": [],
   "source": []
  }
 ],
 "metadata": {
  "kernelspec": {
   "display_name": "Python 3",
   "language": "python",
   "name": "python3"
  },
  "language_info": {
   "codemirror_mode": {
    "name": "ipython",
    "version": 3
   },
   "file_extension": ".py",
   "mimetype": "text/x-python",
   "name": "python",
   "nbconvert_exporter": "python",
   "pygments_lexer": "ipython3",
   "version": "3.6.15"
  },
  "papermill": {
   "default_parameters": {},
   "duration": 95.500789,
   "end_time": "2022-05-24T20:12:54.313071",
   "environment_variables": {},
   "exception": null,
   "input_path": "2020-08-11-part2.ipynb",
   "output_path": "2020-08-11-part2.ipynb",
   "parameters": {},
   "start_time": "2022-05-24T20:11:18.812282",
   "version": "2.3.3"
  }
 },
 "nbformat": 4,
 "nbformat_minor": 5
}