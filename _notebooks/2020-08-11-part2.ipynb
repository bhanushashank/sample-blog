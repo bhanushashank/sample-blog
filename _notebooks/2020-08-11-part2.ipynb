{
 "cells": [
  {
   "cell_type": "markdown",
   "id": "98380cd3",
   "metadata": {
    "papermill": {
     "duration": 0.025517,
     "end_time": "2022-05-14T10:10:02.207319",
     "exception": false,
     "start_time": "2022-05-14T10:10:02.181802",
     "status": "completed"
    },
    "tags": []
   },
   "source": [
    "# Distinguish Your Own Digits (DYOD)"
   ]
  },
  {
   "cell_type": "markdown",
   "id": "ef31240d",
   "metadata": {
    "papermill": {
     "duration": 0.022681,
     "end_time": "2022-05-14T10:10:02.252084",
     "exception": false,
     "start_time": "2022-05-14T10:10:02.229403",
     "status": "completed"
    },
    "tags": []
   },
   "source": [
    "You are going to write a classifier that distinguishes between the number 3 and number 8."
   ]
  },
  {
   "cell_type": "code",
   "execution_count": 1,
   "id": "b15c8646",
   "metadata": {
    "execution": {
     "iopub.execute_input": "2022-05-14T10:10:02.305686Z",
     "iopub.status.busy": "2022-05-14T10:10:02.305196Z",
     "iopub.status.idle": "2022-05-14T10:10:02.315205Z",
     "shell.execute_reply": "2022-05-14T10:10:02.315583Z"
    },
    "papermill": {
     "duration": 0.042546,
     "end_time": "2022-05-14T10:10:02.315726",
     "exception": false,
     "start_time": "2022-05-14T10:10:02.273180",
     "status": "completed"
    },
    "tags": []
   },
   "outputs": [],
   "source": [
    "%load_ext autoreload\n",
    "%autoreload 2"
   ]
  },
  {
   "cell_type": "code",
   "execution_count": 2,
   "id": "22ef38dc",
   "metadata": {
    "execution": {
     "iopub.execute_input": "2022-05-14T10:10:02.362265Z",
     "iopub.status.busy": "2022-05-14T10:10:02.361784Z",
     "iopub.status.idle": "2022-05-14T10:10:02.875272Z",
     "shell.execute_reply": "2022-05-14T10:10:02.874737Z"
    },
    "papermill": {
     "duration": 0.538411,
     "end_time": "2022-05-14T10:10:02.875410",
     "exception": false,
     "start_time": "2022-05-14T10:10:02.336999",
     "status": "completed"
    },
    "tags": []
   },
   "outputs": [],
   "source": [
    "%matplotlib inline\n",
    "import numpy as np\n",
    "import matplotlib.pyplot as plt\n",
    "import pandas as pd"
   ]
  },
  {
   "cell_type": "markdown",
   "id": "ba036198",
   "metadata": {
    "papermill": {
     "duration": 0.024036,
     "end_time": "2022-05-14T10:10:02.923882",
     "exception": false,
     "start_time": "2022-05-14T10:10:02.899846",
     "status": "completed"
    },
    "tags": []
   },
   "source": [
    "From the command line run `pip install mnist`. This is a library that will help you bring down the mnist dataset. If you run this from a notebook, you need to put  `!pip install mnist` in a cell by itself."
   ]
  },
  {
   "cell_type": "code",
   "execution_count": 3,
   "id": "bb6ad8a1",
   "metadata": {
    "execution": {
     "iopub.execute_input": "2022-05-14T10:10:02.978571Z",
     "iopub.status.busy": "2022-05-14T10:10:02.977772Z",
     "iopub.status.idle": "2022-05-14T10:10:04.688387Z",
     "shell.execute_reply": "2022-05-14T10:10:04.687824Z"
    },
    "papermill": {
     "duration": 1.74048,
     "end_time": "2022-05-14T10:10:04.688523",
     "exception": false,
     "start_time": "2022-05-14T10:10:02.948043",
     "status": "completed"
    },
    "tags": []
   },
   "outputs": [
    {
     "name": "stdout",
     "output_type": "stream",
     "text": [
      "Collecting mnist\r\n"
     ]
    },
    {
     "name": "stdout",
     "output_type": "stream",
     "text": [
      "  Downloading mnist-0.2.2-py2.py3-none-any.whl (3.5 kB)\r\n",
      "Requirement already satisfied: numpy in /opt/hostedtoolcache/Python/3.6.15/x64/lib/python3.6/site-packages (from mnist) (1.19.5)\r\n"
     ]
    },
    {
     "name": "stdout",
     "output_type": "stream",
     "text": [
      "Installing collected packages: mnist\r\n"
     ]
    },
    {
     "name": "stdout",
     "output_type": "stream",
     "text": [
      "Successfully installed mnist-0.2.2\r\n"
     ]
    }
   ],
   "source": [
    "!pip install mnist"
   ]
  },
  {
   "cell_type": "markdown",
   "id": "69df9c9a",
   "metadata": {
    "papermill": {
     "duration": 0.021909,
     "end_time": "2022-05-14T10:10:04.733324",
     "exception": false,
     "start_time": "2022-05-14T10:10:04.711415",
     "status": "completed"
    },
    "tags": []
   },
   "source": [
    "## Preparing the Data"
   ]
  },
  {
   "cell_type": "code",
   "execution_count": 4,
   "id": "7f69d806",
   "metadata": {
    "execution": {
     "iopub.execute_input": "2022-05-14T10:10:04.782040Z",
     "iopub.status.busy": "2022-05-14T10:10:04.781578Z",
     "iopub.status.idle": "2022-05-14T10:10:04.795564Z",
     "shell.execute_reply": "2022-05-14T10:10:04.795191Z"
    },
    "papermill": {
     "duration": 0.040442,
     "end_time": "2022-05-14T10:10:04.795668",
     "exception": false,
     "start_time": "2022-05-14T10:10:04.755226",
     "status": "completed"
    },
    "tags": []
   },
   "outputs": [],
   "source": [
    "import mnist"
   ]
  },
  {
   "cell_type": "code",
   "execution_count": 5,
   "id": "a411e44f",
   "metadata": {
    "execution": {
     "iopub.execute_input": "2022-05-14T10:10:04.843294Z",
     "iopub.status.busy": "2022-05-14T10:10:04.842713Z",
     "iopub.status.idle": "2022-05-14T10:10:05.338321Z",
     "shell.execute_reply": "2022-05-14T10:10:05.338835Z"
    },
    "papermill": {
     "duration": 0.521215,
     "end_time": "2022-05-14T10:10:05.339023",
     "exception": false,
     "start_time": "2022-05-14T10:10:04.817808",
     "status": "completed"
    },
    "tags": []
   },
   "outputs": [],
   "source": [
    "train_images = mnist.train_images()\n",
    "train_labels = mnist.train_labels()"
   ]
  },
  {
   "cell_type": "code",
   "execution_count": 6,
   "id": "dceab3a5",
   "metadata": {
    "execution": {
     "iopub.execute_input": "2022-05-14T10:10:05.391159Z",
     "iopub.status.busy": "2022-05-14T10:10:05.390656Z",
     "iopub.status.idle": "2022-05-14T10:10:05.404319Z",
     "shell.execute_reply": "2022-05-14T10:10:05.403926Z"
    },
    "papermill": {
     "duration": 0.041983,
     "end_time": "2022-05-14T10:10:05.404420",
     "exception": false,
     "start_time": "2022-05-14T10:10:05.362437",
     "status": "completed"
    },
    "tags": []
   },
   "outputs": [
    {
     "data": {
      "text/plain": [
       "((60000, 28, 28), (60000,))"
      ]
     },
     "execution_count": 6,
     "metadata": {},
     "output_type": "execute_result"
    }
   ],
   "source": [
    "train_images.shape, train_labels.shape"
   ]
  },
  {
   "cell_type": "code",
   "execution_count": 7,
   "id": "f50dc2bb",
   "metadata": {
    "execution": {
     "iopub.execute_input": "2022-05-14T10:10:05.458251Z",
     "iopub.status.busy": "2022-05-14T10:10:05.457769Z",
     "iopub.status.idle": "2022-05-14T10:10:05.591492Z",
     "shell.execute_reply": "2022-05-14T10:10:05.590937Z"
    },
    "papermill": {
     "duration": 0.164895,
     "end_time": "2022-05-14T10:10:05.591635",
     "exception": false,
     "start_time": "2022-05-14T10:10:05.426740",
     "status": "completed"
    },
    "tags": []
   },
   "outputs": [],
   "source": [
    "test_images = mnist.test_images()\n",
    "test_labels = mnist.test_labels()"
   ]
  },
  {
   "cell_type": "code",
   "execution_count": 8,
   "id": "fc38cf1b",
   "metadata": {
    "execution": {
     "iopub.execute_input": "2022-05-14T10:10:05.648498Z",
     "iopub.status.busy": "2022-05-14T10:10:05.647978Z",
     "iopub.status.idle": "2022-05-14T10:10:05.660453Z",
     "shell.execute_reply": "2022-05-14T10:10:05.659990Z"
    },
    "papermill": {
     "duration": 0.042854,
     "end_time": "2022-05-14T10:10:05.660566",
     "exception": false,
     "start_time": "2022-05-14T10:10:05.617712",
     "status": "completed"
    },
    "tags": []
   },
   "outputs": [
    {
     "data": {
      "text/plain": [
       "((10000, 28, 28), (10000,))"
      ]
     },
     "execution_count": 8,
     "metadata": {},
     "output_type": "execute_result"
    }
   ],
   "source": [
    "test_images.shape, test_labels.shape"
   ]
  },
  {
   "cell_type": "code",
   "execution_count": 9,
   "id": "f9ed8fe0",
   "metadata": {
    "execution": {
     "iopub.execute_input": "2022-05-14T10:10:05.716366Z",
     "iopub.status.busy": "2022-05-14T10:10:05.715842Z",
     "iopub.status.idle": "2022-05-14T10:10:05.853555Z",
     "shell.execute_reply": "2022-05-14T10:10:05.853960Z"
    },
    "papermill": {
     "duration": 0.16814,
     "end_time": "2022-05-14T10:10:05.854110",
     "exception": false,
     "start_time": "2022-05-14T10:10:05.685970",
     "status": "completed"
    },
    "tags": []
   },
   "outputs": [
    {
     "name": "stdout",
     "output_type": "stream",
     "text": [
      "2\n"
     ]
    },
    {
     "data": {
      "text/plain": [
       "<matplotlib.image.AxesImage at 0x7fd1e539e470>"
      ]
     },
     "execution_count": 9,
     "metadata": {},
     "output_type": "execute_result"
    },
    {
     "data": {
      "image/png": "[encoded data removed]",
      "text/plain": [
       "<Figure size 432x288 with 1 Axes>"
      ]
     },
     "metadata": {
      "needs_background": "light"
     },
     "output_type": "display_data"
    }
   ],
   "source": [
    "image_index = 7776 # You may select anything up to 60,000\n",
    "print(train_labels[image_index]) \n",
    "plt.imshow(train_images[image_index], cmap='Greys')"
   ]
  },
  {
   "cell_type": "markdown",
   "id": "a8d2388d",
   "metadata": {
    "papermill": {
     "duration": 0.026226,
     "end_time": "2022-05-14T10:10:05.907095",
     "exception": false,
     "start_time": "2022-05-14T10:10:05.880869",
     "status": "completed"
    },
    "tags": []
   },
   "source": [
    "## Filter data to get 3 and 8 out"
   ]
  },
  {
   "cell_type": "code",
   "execution_count": 10,
   "id": "776f7fc7",
   "metadata": {
    "execution": {
     "iopub.execute_input": "2022-05-14T10:10:05.964148Z",
     "iopub.status.busy": "2022-05-14T10:10:05.963619Z",
     "iopub.status.idle": "2022-05-14T10:10:05.981806Z",
     "shell.execute_reply": "2022-05-14T10:10:05.981376Z"
    },
    "papermill": {
     "duration": 0.048462,
     "end_time": "2022-05-14T10:10:05.981924",
     "exception": false,
     "start_time": "2022-05-14T10:10:05.933462",
     "status": "completed"
    },
    "tags": []
   },
   "outputs": [],
   "source": [
    "train_filter = np.where((train_labels == 3 ) | (train_labels == 8))\n",
    "test_filter = np.where((test_labels == 3) | (test_labels == 8))\n",
    "X_train, y_train = train_images[train_filter], train_labels[train_filter]\n",
    "X_test, y_test = test_images[test_filter], test_labels[test_filter]"
   ]
  },
  {
   "cell_type": "markdown",
   "id": "948f0b7e",
   "metadata": {
    "papermill": {
     "duration": 0.026323,
     "end_time": "2022-05-14T10:10:06.035027",
     "exception": false,
     "start_time": "2022-05-14T10:10:06.008704",
     "status": "completed"
    },
    "tags": []
   },
   "source": [
    "We normalize the pizel values in the 0 to 1 range"
   ]
  },
  {
   "cell_type": "code",
   "execution_count": 11,
   "id": "ee4c2166",
   "metadata": {
    "execution": {
     "iopub.execute_input": "2022-05-14T10:10:06.091067Z",
     "iopub.status.busy": "2022-05-14T10:10:06.090520Z",
     "iopub.status.idle": "2022-05-14T10:10:06.137434Z",
     "shell.execute_reply": "2022-05-14T10:10:06.136920Z"
    },
    "papermill": {
     "duration": 0.076372,
     "end_time": "2022-05-14T10:10:06.137576",
     "exception": false,
     "start_time": "2022-05-14T10:10:06.061204",
     "status": "completed"
    },
    "tags": []
   },
   "outputs": [],
   "source": [
    "X_train = X_train/255.\n",
    "X_test = X_test/255."
   ]
  },
  {
   "cell_type": "markdown",
   "id": "ddcf4fab",
   "metadata": {
    "papermill": {
     "duration": 0.026372,
     "end_time": "2022-05-14T10:10:06.191735",
     "exception": false,
     "start_time": "2022-05-14T10:10:06.165363",
     "status": "completed"
    },
    "tags": []
   },
   "source": [
    "And setup the labels as 1 (when the digit is 3) and 0 (when the digit is 8)"
   ]
  },
  {
   "cell_type": "code",
   "execution_count": 12,
   "id": "7dc908f2",
   "metadata": {
    "execution": {
     "iopub.execute_input": "2022-05-14T10:10:06.250178Z",
     "iopub.status.busy": "2022-05-14T10:10:06.249670Z",
     "iopub.status.idle": "2022-05-14T10:10:06.259298Z",
     "shell.execute_reply": "2022-05-14T10:10:06.259734Z"
    },
    "papermill": {
     "duration": 0.041715,
     "end_time": "2022-05-14T10:10:06.259860",
     "exception": false,
     "start_time": "2022-05-14T10:10:06.218145",
     "status": "completed"
    },
    "tags": []
   },
   "outputs": [],
   "source": [
    "y_train = 1*(y_train==3)\n",
    "y_test = 1*(y_test==3)"
   ]
  },
  {
   "cell_type": "code",
   "execution_count": 13,
   "id": "01e4e969",
   "metadata": {
    "execution": {
     "iopub.execute_input": "2022-05-14T10:10:06.315684Z",
     "iopub.status.busy": "2022-05-14T10:10:06.315174Z",
     "iopub.status.idle": "2022-05-14T10:10:06.327576Z",
     "shell.execute_reply": "2022-05-14T10:10:06.327981Z"
    },
    "papermill": {
     "duration": 0.041872,
     "end_time": "2022-05-14T10:10:06.328107",
     "exception": false,
     "start_time": "2022-05-14T10:10:06.286235",
     "status": "completed"
    },
    "tags": []
   },
   "outputs": [
    {
     "data": {
      "text/plain": [
       "((11982, 28, 28), (1984, 28, 28))"
      ]
     },
     "execution_count": 13,
     "metadata": {},
     "output_type": "execute_result"
    }
   ],
   "source": [
    "X_train.shape, X_test.shape"
   ]
  },
  {
   "cell_type": "markdown",
   "id": "5ccf3f85",
   "metadata": {
    "papermill": {
     "duration": 0.026355,
     "end_time": "2022-05-14T10:10:06.380985",
     "exception": false,
     "start_time": "2022-05-14T10:10:06.354630",
     "status": "completed"
    },
    "tags": []
   },
   "source": [
    "We reshape the data to flatten the image pixels into a set of features or co-variates:"
   ]
  },
  {
   "cell_type": "code",
   "execution_count": 14,
   "id": "5286a4a3",
   "metadata": {
    "execution": {
     "iopub.execute_input": "2022-05-14T10:10:06.437966Z",
     "iopub.status.busy": "2022-05-14T10:10:06.437460Z",
     "iopub.status.idle": "2022-05-14T10:10:06.450080Z",
     "shell.execute_reply": "2022-05-14T10:10:06.450484Z"
    },
    "papermill": {
     "duration": 0.042963,
     "end_time": "2022-05-14T10:10:06.450613",
     "exception": false,
     "start_time": "2022-05-14T10:10:06.407650",
     "status": "completed"
    },
    "tags": []
   },
   "outputs": [
    {
     "data": {
      "text/plain": [
       "((11982, 784), (1984, 784))"
      ]
     },
     "execution_count": 14,
     "metadata": {},
     "output_type": "execute_result"
    }
   ],
   "source": [
    "X_train = X_train.reshape(X_train.shape[0], -1)\n",
    "X_test = X_test.reshape(X_test.shape[0], -1)\n",
    "X_train.shape, X_test.shape"
   ]
  },
  {
   "cell_type": "code",
   "execution_count": 15,
   "id": "73c5f88a",
   "metadata": {
    "execution": {
     "iopub.execute_input": "2022-05-14T10:10:06.507895Z",
     "iopub.status.busy": "2022-05-14T10:10:06.507394Z",
     "iopub.status.idle": "2022-05-14T10:10:06.524969Z",
     "shell.execute_reply": "2022-05-14T10:10:06.524523Z"
    },
    "papermill": {
     "duration": 0.047666,
     "end_time": "2022-05-14T10:10:06.525077",
     "exception": false,
     "start_time": "2022-05-14T10:10:06.477411",
     "status": "completed"
    },
    "tags": []
   },
   "outputs": [],
   "source": [
    "#Impoting functions from 'Kudzu'\n",
    "from kudzu.model import Model\n",
    "from kudzu.train import Learner\n",
    "from kudzu.optim import GD\n",
    "from kudzu.data import Data, Sampler,Dataloader\n",
    "\n",
    "from kudzu.callbacks import AccCallback\n",
    "from kudzu.callbacks import ClfCallback\n",
    "\n",
    "from kudzu.loss import MSE\n",
    "\n",
    "from kudzu.layer import Sigmoid,Relu\n",
    "from kudzu.layer import Affine"
   ]
  },
  {
   "cell_type": "markdown",
   "id": "bc01172a",
   "metadata": {
    "papermill": {
     "duration": 0.027019,
     "end_time": "2022-05-14T10:10:06.579233",
     "exception": false,
     "start_time": "2022-05-14T10:10:06.552214",
     "status": "completed"
    },
    "tags": []
   },
   "source": [
    "### Let us create a `Config` class, to store important parameters. \n",
    "This class essentially plays the role of a dictionary."
   ]
  },
  {
   "cell_type": "code",
   "execution_count": 16,
   "id": "978281aa",
   "metadata": {
    "execution": {
     "iopub.execute_input": "2022-05-14T10:10:06.650526Z",
     "iopub.status.busy": "2022-05-14T10:10:06.647577Z",
     "iopub.status.idle": "2022-05-14T10:10:06.652377Z",
     "shell.execute_reply": "2022-05-14T10:10:06.652763Z"
    },
    "papermill": {
     "duration": 0.046904,
     "end_time": "2022-05-14T10:10:06.652897",
     "exception": false,
     "start_time": "2022-05-14T10:10:06.605993",
     "status": "completed"
    },
    "tags": []
   },
   "outputs": [],
   "source": [
    "class Config:\n",
    "    pass\n",
    "config = Config()\n",
    "config.lr = 0.001\n",
    "config.num_epochs = 250\n",
    "config.bs = 50"
   ]
  },
  {
   "cell_type": "markdown",
   "id": "1385fa59",
   "metadata": {
    "papermill": {
     "duration": 0.026778,
     "end_time": "2022-05-14T10:10:06.706988",
     "exception": false,
     "start_time": "2022-05-14T10:10:06.680210",
     "status": "completed"
    },
    "tags": []
   },
   "source": [
    "### Running Models with the Training data\n",
    "Details about the network layers:\n",
    "- A first affine layer has 784 inputs and does 100 affine transforms. These are followed by a Relu\n",
    "- A second affine layer has 100 inputs from the 100 activations of the past layer, and does 100 affine transforms. These are followed by a Relu\n",
    "- A third affine layer has 100 activations and does 2 affine transformations to create an embedding for visualization. There is no non-linearity here.\n",
    "- A final \"logistic regression\" which has an affine transform from 2 inputs to 1 output, which is squeezed through a sigmoid.\n"
   ]
  },
  {
   "cell_type": "code",
   "execution_count": 17,
   "id": "2b9c66db",
   "metadata": {
    "execution": {
     "iopub.execute_input": "2022-05-14T10:10:06.765482Z",
     "iopub.status.busy": "2022-05-14T10:10:06.764954Z",
     "iopub.status.idle": "2022-05-14T10:10:06.777016Z",
     "shell.execute_reply": "2022-05-14T10:10:06.776596Z"
    },
    "papermill": {
     "duration": 0.043205,
     "end_time": "2022-05-14T10:10:06.777136",
     "exception": false,
     "start_time": "2022-05-14T10:10:06.733931",
     "status": "completed"
    },
    "tags": []
   },
   "outputs": [],
   "source": [
    "data = Data(X_train, y_train.reshape(-1,1))\n",
    "sampler = Sampler(data, config.bs, shuffle=True)\n",
    "\n",
    "dl = Dataloader(data, sampler)\n",
    "\n",
    "opt = GD(config.lr)\n",
    "loss = MSE()"
   ]
  },
  {
   "cell_type": "code",
   "execution_count": 18,
   "id": "b275e4c2",
   "metadata": {
    "execution": {
     "iopub.execute_input": "2022-05-14T10:10:06.836059Z",
     "iopub.status.busy": "2022-05-14T10:10:06.835545Z",
     "iopub.status.idle": "2022-05-14T10:10:06.847252Z",
     "shell.execute_reply": "2022-05-14T10:10:06.846776Z"
    },
    "papermill": {
     "duration": 0.043165,
     "end_time": "2022-05-14T10:10:06.847365",
     "exception": false,
     "start_time": "2022-05-14T10:10:06.804200",
     "status": "completed"
    },
    "tags": []
   },
   "outputs": [],
   "source": [
    "training_data_x = X_train\n",
    "testing_data_x = X_test\n",
    "training_data_y = y_train.reshape(-1,1)\n",
    "testing_data_y = y_test.reshape(-1,1)"
   ]
  },
  {
   "cell_type": "code",
   "execution_count": 19,
   "id": "76951160",
   "metadata": {
    "execution": {
     "iopub.execute_input": "2022-05-14T10:10:06.904655Z",
     "iopub.status.busy": "2022-05-14T10:10:06.904124Z",
     "iopub.status.idle": "2022-05-14T10:10:06.919297Z",
     "shell.execute_reply": "2022-05-14T10:10:06.918838Z"
    },
    "papermill": {
     "duration": 0.045223,
     "end_time": "2022-05-14T10:10:06.919401",
     "exception": false,
     "start_time": "2022-05-14T10:10:06.874178",
     "status": "completed"
    },
    "tags": []
   },
   "outputs": [
    {
     "name": "stdout",
     "output_type": "stream",
     "text": [
      "xavier\n",
      "xavier\n",
      "xavier\n",
      "xavier\n",
      "xavier\n"
     ]
    }
   ],
   "source": [
    "layers = [Affine(\"first\", 784, 100), Relu(\"first\"), Affine(\"second\", 100, 100), Relu(\"second\"), Affine(\"third\", 100, 2), Affine(\"last\", 2, 1), Sigmoid(\"last\")]\n",
    "model_nn = Model(layers)\n",
    "model_lr = Model([Affine(\"logits\", 784, 1), Sigmoid(\"sigmoid\")])"
   ]
  },
  {
   "cell_type": "code",
   "execution_count": 20,
   "id": "6eede77a",
   "metadata": {
    "execution": {
     "iopub.execute_input": "2022-05-14T10:10:06.979581Z",
     "iopub.status.busy": "2022-05-14T10:10:06.975411Z",
     "iopub.status.idle": "2022-05-14T10:10:06.985648Z",
     "shell.execute_reply": "2022-05-14T10:10:06.985274Z"
    },
    "papermill": {
     "duration": 0.042274,
     "end_time": "2022-05-14T10:10:06.985749",
     "exception": false,
     "start_time": "2022-05-14T10:10:06.943475",
     "status": "completed"
    },
    "tags": []
   },
   "outputs": [],
   "source": [
    "nn_learner = Learner(loss, model_nn, opt, config.num_epochs)\n",
    "acc_nn = ClfCallback(nn_learner, config.bs, training_data_x , testing_data_x, training_data_y, testing_data_y)\n",
    "nn_learner.set_callbacks([acc_nn])"
   ]
  },
  {
   "cell_type": "code",
   "execution_count": 21,
   "id": "877b6cc7",
   "metadata": {
    "execution": {
     "iopub.execute_input": "2022-05-14T10:10:07.037062Z",
     "iopub.status.busy": "2022-05-14T10:10:07.036614Z",
     "iopub.status.idle": "2022-05-14T10:10:07.049316Z",
     "shell.execute_reply": "2022-05-14T10:10:07.048931Z"
    },
    "papermill": {
     "duration": 0.039626,
     "end_time": "2022-05-14T10:10:07.049408",
     "exception": false,
     "start_time": "2022-05-14T10:10:07.009782",
     "status": "completed"
    },
    "tags": []
   },
   "outputs": [],
   "source": [
    "lr_learner = Learner(loss, model_lr, opt, config.num_epochs)\n",
    "acc_lr = ClfCallback(lr_learner, config.bs, training_data_x , testing_data_x, training_data_y, testing_data_y)\n",
    "lr_learner.set_callbacks([acc_lr])"
   ]
  },
  {
   "cell_type": "code",
   "execution_count": 22,
   "id": "d9b133c3",
   "metadata": {
    "execution": {
     "iopub.execute_input": "2022-05-14T10:10:07.100728Z",
     "iopub.status.busy": "2022-05-14T10:10:07.100280Z",
     "iopub.status.idle": "2022-05-14T10:11:31.614831Z",
     "shell.execute_reply": "2022-05-14T10:11:31.615519Z"
    },
    "papermill": {
     "duration": 84.542277,
     "end_time": "2022-05-14T10:11:31.615670",
     "exception": false,
     "start_time": "2022-05-14T10:10:07.073393",
     "status": "completed"
    },
    "tags": []
   },
   "outputs": [
    {
     "name": "stdout",
     "output_type": "stream",
     "text": [
      "Epoch 0, Loss 0.2162\n",
      "Training Accuracy: 0.7948, Testing Accuracy: 0.8140\n",
      "\n"
     ]
    },
    {
     "name": "stdout",
     "output_type": "stream",
     "text": [
      "Epoch 10, Loss 0.062\n",
      "Training Accuracy: 0.9385, Testing Accuracy: 0.9501\n",
      "\n"
     ]
    },
    {
     "name": "stdout",
     "output_type": "stream",
     "text": [
      "Epoch 20, Loss 0.0431\n",
      "Training Accuracy: 0.9523, Testing Accuracy: 0.9642\n",
      "\n"
     ]
    },
    {
     "name": "stdout",
     "output_type": "stream",
     "text": [
      "Epoch 30, Loss 0.0363\n",
      "Training Accuracy: 0.9592, Testing Accuracy: 0.9657\n",
      "\n"
     ]
    },
    {
     "name": "stdout",
     "output_type": "stream",
     "text": [
      "Epoch 40, Loss 0.0326\n",
      "Training Accuracy: 0.9626, Testing Accuracy: 0.9672\n",
      "\n"
     ]
    },
    {
     "name": "stdout",
     "output_type": "stream",
     "text": [
      "Epoch 50, Loss 0.0302\n",
      "Training Accuracy: 0.9651, Testing Accuracy: 0.9677\n",
      "\n"
     ]
    },
    {
     "name": "stdout",
     "output_type": "stream",
     "text": [
      "Epoch 60, Loss 0.0284\n",
      "Training Accuracy: 0.9674, Testing Accuracy: 0.9688\n",
      "\n"
     ]
    },
    {
     "name": "stdout",
     "output_type": "stream",
     "text": [
      "Epoch 70, Loss 0.027\n",
      "Training Accuracy: 0.9690, Testing Accuracy: 0.9682\n",
      "\n"
     ]
    },
    {
     "name": "stdout",
     "output_type": "stream",
     "text": [
      "Epoch 80, Loss 0.0259\n",
      "Training Accuracy: 0.9699, Testing Accuracy: 0.9688\n",
      "\n"
     ]
    },
    {
     "name": "stdout",
     "output_type": "stream",
     "text": [
      "Epoch 90, Loss 0.0249\n",
      "Training Accuracy: 0.9708, Testing Accuracy: 0.9688\n",
      "\n"
     ]
    },
    {
     "name": "stdout",
     "output_type": "stream",
     "text": [
      "Epoch 100, Loss 0.024\n",
      "Training Accuracy: 0.9719, Testing Accuracy: 0.9693\n",
      "\n"
     ]
    },
    {
     "name": "stdout",
     "output_type": "stream",
     "text": [
      "Epoch 110, Loss 0.0233\n",
      "Training Accuracy: 0.9730, Testing Accuracy: 0.9708\n",
      "\n"
     ]
    },
    {
     "name": "stdout",
     "output_type": "stream",
     "text": [
      "Epoch 120, Loss 0.0226\n",
      "Training Accuracy: 0.9737, Testing Accuracy: 0.9708\n",
      "\n"
     ]
    },
    {
     "name": "stdout",
     "output_type": "stream",
     "text": [
      "Epoch 130, Loss 0.0219\n",
      "Training Accuracy: 0.9750, Testing Accuracy: 0.9708\n",
      "\n"
     ]
    },
    {
     "name": "stdout",
     "output_type": "stream",
     "text": [
      "Epoch 140, Loss 0.0213\n",
      "Training Accuracy: 0.9757, Testing Accuracy: 0.9713\n",
      "\n"
     ]
    },
    {
     "name": "stdout",
     "output_type": "stream",
     "text": [
      "Epoch 150, Loss 0.0207\n",
      "Training Accuracy: 0.9766, Testing Accuracy: 0.9723\n",
      "\n"
     ]
    },
    {
     "name": "stdout",
     "output_type": "stream",
     "text": [
      "Epoch 160, Loss 0.0202\n",
      "Training Accuracy: 0.9768, Testing Accuracy: 0.9723\n",
      "\n"
     ]
    },
    {
     "name": "stdout",
     "output_type": "stream",
     "text": [
      "Epoch 170, Loss 0.0197\n",
      "Training Accuracy: 0.9774, Testing Accuracy: 0.9733\n",
      "\n"
     ]
    },
    {
     "name": "stdout",
     "output_type": "stream",
     "text": [
      "Epoch 180, Loss 0.0192\n",
      "Training Accuracy: 0.9781, Testing Accuracy: 0.9733\n",
      "\n"
     ]
    },
    {
     "name": "stdout",
     "output_type": "stream",
     "text": [
      "Epoch 190, Loss 0.0188\n",
      "Training Accuracy: 0.9791, Testing Accuracy: 0.9733\n",
      "\n"
     ]
    },
    {
     "name": "stdout",
     "output_type": "stream",
     "text": [
      "Epoch 200, Loss 0.0183\n",
      "Training Accuracy: 0.9797, Testing Accuracy: 0.9738\n",
      "\n"
     ]
    },
    {
     "name": "stdout",
     "output_type": "stream",
     "text": [
      "Epoch 210, Loss 0.0179\n",
      "Training Accuracy: 0.9802, Testing Accuracy: 0.9743\n",
      "\n"
     ]
    },
    {
     "name": "stdout",
     "output_type": "stream",
     "text": [
      "Epoch 220, Loss 0.0174\n",
      "Training Accuracy: 0.9805, Testing Accuracy: 0.9743\n",
      "\n"
     ]
    },
    {
     "name": "stdout",
     "output_type": "stream",
     "text": [
      "Epoch 230, Loss 0.017\n",
      "Training Accuracy: 0.9806, Testing Accuracy: 0.9748\n",
      "\n"
     ]
    },
    {
     "name": "stdout",
     "output_type": "stream",
     "text": [
      "Epoch 240, Loss 0.0166\n",
      "Training Accuracy: 0.9814, Testing Accuracy: 0.9758\n",
      "\n"
     ]
    },
    {
     "data": {
      "text/plain": [
       "0.004264585529693734"
      ]
     },
     "execution_count": 22,
     "metadata": {},
     "output_type": "execute_result"
    }
   ],
   "source": [
    "nn_learner.train_loop(dl)"
   ]
  },
  {
   "cell_type": "code",
   "execution_count": 23,
   "id": "e0163366",
   "metadata": {
    "execution": {
     "iopub.execute_input": "2022-05-14T10:11:31.688810Z",
     "iopub.status.busy": "2022-05-14T10:11:31.688307Z",
     "iopub.status.idle": "2022-05-14T10:11:47.408695Z",
     "shell.execute_reply": "2022-05-14T10:11:47.409394Z"
    },
    "papermill": {
     "duration": 15.762525,
     "end_time": "2022-05-14T10:11:47.409544",
     "exception": false,
     "start_time": "2022-05-14T10:11:31.647019",
     "status": "completed"
    },
    "tags": []
   },
   "outputs": [
    {
     "name": "stdout",
     "output_type": "stream",
     "text": [
      "Epoch 0, Loss 0.2642\n",
      "Training Accuracy: 0.5785, Testing Accuracy: 0.5837\n",
      "\n"
     ]
    },
    {
     "name": "stdout",
     "output_type": "stream",
     "text": [
      "Epoch 10, Loss 0.1077\n",
      "Training Accuracy: 0.9020, Testing Accuracy: 0.9103\n",
      "\n"
     ]
    },
    {
     "name": "stdout",
     "output_type": "stream",
     "text": [
      "Epoch 20, Loss 0.0819\n",
      "Training Accuracy: 0.9214, Testing Accuracy: 0.9400\n",
      "\n"
     ]
    },
    {
     "name": "stdout",
     "output_type": "stream",
     "text": [
      "Epoch 30, Loss 0.07\n",
      "Training Accuracy: 0.9331, Testing Accuracy: 0.9466\n",
      "\n"
     ]
    },
    {
     "name": "stdout",
     "output_type": "stream",
     "text": [
      "Epoch 40, Loss 0.0629\n",
      "Training Accuracy: 0.9390, Testing Accuracy: 0.9506\n",
      "\n"
     ]
    },
    {
     "name": "stdout",
     "output_type": "stream",
     "text": [
      "Epoch 50, Loss 0.0581\n",
      "Training Accuracy: 0.9429, Testing Accuracy: 0.9536\n",
      "\n"
     ]
    },
    {
     "name": "stdout",
     "output_type": "stream",
     "text": [
      "Epoch 60, Loss 0.0547\n",
      "Training Accuracy: 0.9463, Testing Accuracy: 0.9577\n",
      "\n"
     ]
    },
    {
     "name": "stdout",
     "output_type": "stream",
     "text": [
      "Epoch 70, Loss 0.052\n",
      "Training Accuracy: 0.9491, Testing Accuracy: 0.9597\n",
      "\n"
     ]
    },
    {
     "name": "stdout",
     "output_type": "stream",
     "text": [
      "Epoch 80, Loss 0.0498\n",
      "Training Accuracy: 0.9508, Testing Accuracy: 0.9602\n",
      "\n"
     ]
    },
    {
     "name": "stdout",
     "output_type": "stream",
     "text": [
      "Epoch 90, Loss 0.0481\n",
      "Training Accuracy: 0.9522, Testing Accuracy: 0.9612\n",
      "\n"
     ]
    },
    {
     "name": "stdout",
     "output_type": "stream",
     "text": [
      "Epoch 100, Loss 0.0466\n",
      "Training Accuracy: 0.9533, Testing Accuracy: 0.9627\n",
      "\n"
     ]
    },
    {
     "name": "stdout",
     "output_type": "stream",
     "text": [
      "Epoch 110, Loss 0.0453\n",
      "Training Accuracy: 0.9539, Testing Accuracy: 0.9637\n",
      "\n"
     ]
    },
    {
     "name": "stdout",
     "output_type": "stream",
     "text": [
      "Epoch 120, Loss 0.0443\n",
      "Training Accuracy: 0.9542, Testing Accuracy: 0.9642\n",
      "\n"
     ]
    },
    {
     "name": "stdout",
     "output_type": "stream",
     "text": [
      "Epoch 130, Loss 0.0433\n",
      "Training Accuracy: 0.9548, Testing Accuracy: 0.9647\n",
      "\n"
     ]
    },
    {
     "name": "stdout",
     "output_type": "stream",
     "text": [
      "Epoch 140, Loss 0.0424\n",
      "Training Accuracy: 0.9563, Testing Accuracy: 0.9657\n",
      "\n"
     ]
    },
    {
     "name": "stdout",
     "output_type": "stream",
     "text": [
      "Epoch 150, Loss 0.0417\n",
      "Training Accuracy: 0.9568, Testing Accuracy: 0.9657\n",
      "\n"
     ]
    },
    {
     "name": "stdout",
     "output_type": "stream",
     "text": [
      "Epoch 160, Loss 0.041\n",
      "Training Accuracy: 0.9574, Testing Accuracy: 0.9667\n",
      "\n"
     ]
    },
    {
     "name": "stdout",
     "output_type": "stream",
     "text": [
      "Epoch 170, Loss 0.0404\n",
      "Training Accuracy: 0.9582, Testing Accuracy: 0.9667\n",
      "\n"
     ]
    },
    {
     "name": "stdout",
     "output_type": "stream",
     "text": [
      "Epoch 180, Loss 0.0398\n",
      "Training Accuracy: 0.9584, Testing Accuracy: 0.9667\n",
      "\n"
     ]
    },
    {
     "name": "stdout",
     "output_type": "stream",
     "text": [
      "Epoch 190, Loss 0.0393\n",
      "Training Accuracy: 0.9586, Testing Accuracy: 0.9662\n",
      "\n"
     ]
    },
    {
     "name": "stdout",
     "output_type": "stream",
     "text": [
      "Epoch 200, Loss 0.0388\n",
      "Training Accuracy: 0.9593, Testing Accuracy: 0.9662\n",
      "\n"
     ]
    },
    {
     "name": "stdout",
     "output_type": "stream",
     "text": [
      "Epoch 210, Loss 0.0383\n",
      "Training Accuracy: 0.9597, Testing Accuracy: 0.9662\n",
      "\n"
     ]
    },
    {
     "name": "stdout",
     "output_type": "stream",
     "text": [
      "Epoch 220, Loss 0.0379\n",
      "Training Accuracy: 0.9599, Testing Accuracy: 0.9677\n",
      "\n"
     ]
    },
    {
     "name": "stdout",
     "output_type": "stream",
     "text": [
      "Epoch 230, Loss 0.0375\n",
      "Training Accuracy: 0.9601, Testing Accuracy: 0.9682\n",
      "\n"
     ]
    },
    {
     "name": "stdout",
     "output_type": "stream",
     "text": [
      "Epoch 240, Loss 0.0372\n",
      "Training Accuracy: 0.9603, Testing Accuracy: 0.9682\n",
      "\n"
     ]
    },
    {
     "data": {
      "text/plain": [
       "0.02006459778859164"
      ]
     },
     "execution_count": 23,
     "metadata": {},
     "output_type": "execute_result"
    }
   ],
   "source": [
    "lr_learner.train_loop(dl)"
   ]
  },
  {
   "cell_type": "code",
   "execution_count": 24,
   "id": "ca410940",
   "metadata": {
    "execution": {
     "iopub.execute_input": "2022-05-14T10:11:47.496512Z",
     "iopub.status.busy": "2022-05-14T10:11:47.496016Z",
     "iopub.status.idle": "2022-05-14T10:11:47.725457Z",
     "shell.execute_reply": "2022-05-14T10:11:47.724989Z"
    },
    "papermill": {
     "duration": 0.278803,
     "end_time": "2022-05-14T10:11:47.725582",
     "exception": false,
     "start_time": "2022-05-14T10:11:47.446779",
     "status": "completed"
    },
    "tags": []
   },
   "outputs": [
    {
     "data": {
      "text/plain": [
       "<matplotlib.legend.Legend at 0x7fd1e4f7dbe0>"
      ]
     },
     "execution_count": 24,
     "metadata": {},
     "output_type": "execute_result"
    },
    {
     "data": {
      "image/png": "[encoded data removed]",
      "text/plain": [
       "<Figure size 1080x720 with 1 Axes>"
      ]
     },
     "metadata": {
      "needs_background": "light"
     },
     "output_type": "display_data"
    }
   ],
   "source": [
    "#comparing the results of NN and LR\n",
    "plt.figure(figsize=(15,10))\n",
    "\n",
    "# Neural Network plots\n",
    "plt.plot(acc_nn.accuracies, 'r-', label = \"Training Accuracies - NN\")\n",
    "plt.plot(acc_nn.test_accuracies, 'g-', label = \"Testing Accuracies - NN\")\n",
    "\n",
    "# Logistic Regression plots\n",
    "plt.plot(acc_lr.accuracies, 'k-', label = \"Training Accuracies - LR\")\n",
    "plt.plot(acc_lr.test_accuracies, 'b-', label = \"Testing Accuracies - LR\")\n",
    "plt.legend()"
   ]
  },
  {
   "cell_type": "markdown",
   "id": "80dfb35c",
   "metadata": {
    "papermill": {
     "duration": 0.042445,
     "end_time": "2022-05-14T10:11:47.814368",
     "exception": false,
     "start_time": "2022-05-14T10:11:47.771923",
     "status": "completed"
    },
    "tags": []
   },
   "source": [
    "#### Plotting the outputs of this layer of the NN.\n"
   ]
  },
  {
   "cell_type": "code",
   "execution_count": 25,
   "id": "45eb2ff5",
   "metadata": {
    "execution": {
     "iopub.execute_input": "2022-05-14T10:11:47.903686Z",
     "iopub.status.busy": "2022-05-14T10:11:47.903135Z",
     "iopub.status.idle": "2022-05-14T10:11:47.923518Z",
     "shell.execute_reply": "2022-05-14T10:11:47.923936Z"
    },
    "papermill": {
     "duration": 0.067369,
     "end_time": "2022-05-14T10:11:47.924086",
     "exception": false,
     "start_time": "2022-05-14T10:11:47.856717",
     "status": "completed"
    },
    "tags": []
   },
   "outputs": [],
   "source": [
    "new_model = Model(layers[:-2])\n",
    "testing_plot = new_model(testing_data_x)"
   ]
  },
  {
   "cell_type": "code",
   "execution_count": 26,
   "id": "4c0a5485",
   "metadata": {
    "execution": {
     "iopub.execute_input": "2022-05-14T10:11:48.017881Z",
     "iopub.status.busy": "2022-05-14T10:11:48.017286Z",
     "iopub.status.idle": "2022-05-14T10:11:48.195543Z",
     "shell.execute_reply": "2022-05-14T10:11:48.195966Z"
    },
    "papermill": {
     "duration": 0.228028,
     "end_time": "2022-05-14T10:11:48.196122",
     "exception": false,
     "start_time": "2022-05-14T10:11:47.968094",
     "status": "completed"
    },
    "tags": []
   },
   "outputs": [
    {
     "data": {
      "text/plain": [
       "Text(0.5, 1.0, 'Outputs')"
      ]
     },
     "execution_count": 26,
     "metadata": {},
     "output_type": "execute_result"
    },
    {
     "data": {
      "image/png": "[encoded data removed]",
      "text/plain": [
       "<Figure size 576x504 with 1 Axes>"
      ]
     },
     "metadata": {
      "needs_background": "light"
     },
     "output_type": "display_data"
    }
   ],
   "source": [
    "# Plotting the scatter plot of points and color coding by class\n",
    "plt.figure(figsize=(8,7))\n",
    "plt.scatter(testing_plot[:,0], testing_plot[:,1], alpha = 0.1, c = y_test.ravel());\n",
    "plt.title('Outputs')"
   ]
  },
  {
   "cell_type": "markdown",
   "id": "a74fcf8f",
   "metadata": {
    "papermill": {
     "duration": 0.044286,
     "end_time": "2022-05-14T10:11:48.285300",
     "exception": false,
     "start_time": "2022-05-14T10:11:48.241014",
     "status": "completed"
    },
    "tags": []
   },
   "source": [
    "Probability contours"
   ]
  },
  {
   "cell_type": "code",
   "execution_count": 27,
   "id": "d0afc8e3",
   "metadata": {
    "execution": {
     "iopub.execute_input": "2022-05-14T10:11:48.418236Z",
     "iopub.status.busy": "2022-05-14T10:11:48.417704Z",
     "iopub.status.idle": "2022-05-14T10:11:48.429207Z",
     "shell.execute_reply": "2022-05-14T10:11:48.429853Z"
    },
    "papermill": {
     "duration": 0.100244,
     "end_time": "2022-05-14T10:11:48.429987",
     "exception": false,
     "start_time": "2022-05-14T10:11:48.329743",
     "status": "completed"
    },
    "tags": []
   },
   "outputs": [],
   "source": [
    "model_prob = Model(layers[-2:]) "
   ]
  },
  {
   "cell_type": "code",
   "execution_count": 28,
   "id": "9b96e238",
   "metadata": {
    "execution": {
     "iopub.execute_input": "2022-05-14T10:11:48.515926Z",
     "iopub.status.busy": "2022-05-14T10:11:48.515421Z",
     "iopub.status.idle": "2022-05-14T10:11:48.531680Z",
     "shell.execute_reply": "2022-05-14T10:11:48.532257Z"
    },
    "papermill": {
     "duration": 0.062424,
     "end_time": "2022-05-14T10:11:48.532435",
     "exception": false,
     "start_time": "2022-05-14T10:11:48.470011",
     "status": "completed"
    },
    "tags": []
   },
   "outputs": [],
   "source": [
    "#creating the x and y ranges according to the above generated plot.\n",
    "x_range = np.linspace(-4, 1, 100) \n",
    "y_range = np.linspace(-6, 6, 100) \n",
    "x_grid, y_grid = np.meshgrid(x_range, y_range) # x_grid and y_grig are of size 100 X 100\n",
    "\n",
    "# converting x_grid and y_grid to continuous arrays\n",
    "x_gridflat = np.ravel(x_grid)\n",
    "y_gridflat = np.ravel(y_grid)\n",
    "\n",
    "# The last layer of the current model takes two columns as input. Hence transpose of np.vstack() is required.\n",
    "X = np.vstack((x_gridflat, y_gridflat)).T\n",
    "\n",
    "prob_contour = model_prob(X).reshape(100,100) "
   ]
  },
  {
   "cell_type": "code",
   "execution_count": 29,
   "id": "da72499a",
   "metadata": {
    "execution": {
     "iopub.execute_input": "2022-05-14T10:11:48.632087Z",
     "iopub.status.busy": "2022-05-14T10:11:48.631589Z",
     "iopub.status.idle": "2022-05-14T10:11:48.877376Z",
     "shell.execute_reply": "2022-05-14T10:11:48.877782Z"
    },
    "papermill": {
     "duration": 0.299505,
     "end_time": "2022-05-14T10:11:48.877925",
     "exception": false,
     "start_time": "2022-05-14T10:11:48.578420",
     "status": "completed"
    },
    "tags": []
   },
   "outputs": [
    {
     "data": {
      "image/png": "[encoded data removed]",
      "text/plain": [
       "<Figure size 720x648 with 1 Axes>"
      ]
     },
     "metadata": {
      "needs_background": "light"
     },
     "output_type": "display_data"
    }
   ],
   "source": [
    "plt.figure(figsize=(10,9))\n",
    "plt.scatter(testing_plot[:,0], testing_plot[:,1], alpha = 0.1, c = y_test.ravel())\n",
    "contours = plt.contour(x_grid,y_grid,prob_contour)\n",
    "plt.title('Probability Contours')\n",
    "plt.clabel(contours, inline = True );"
   ]
  },
  {
   "cell_type": "code",
   "execution_count": null,
   "id": "e81b4ac7",
   "metadata": {
    "papermill": {
     "duration": 0.047157,
     "end_time": "2022-05-14T10:11:48.972708",
     "exception": false,
     "start_time": "2022-05-14T10:11:48.925551",
     "status": "completed"
    },
    "tags": []
   },
   "outputs": [],
   "source": []
  }
 ],
 "metadata": {
  "kernelspec": {
   "display_name": "Python 3",
   "language": "python",
   "name": "python3"
  },
  "language_info": {
   "codemirror_mode": {
    "name": "ipython",
    "version": 3
   },
   "file_extension": ".py",
   "mimetype": "text/x-python",
   "name": "python",
   "nbconvert_exporter": "python",
   "pygments_lexer": "ipython3",
   "version": "3.6.15"
  },
  "papermill": {
   "default_parameters": {},
   "duration": 108.169604,
   "end_time": "2022-05-14T10:11:49.438892",
   "environment_variables": {},
   "exception": null,
   "input_path": "2020-08-11-part2.ipynb",
   "output_path": "2020-08-11-part2.ipynb",
   "parameters": {},
   "start_time": "2022-05-14T10:10:01.269288",
   "version": "2.3.3"
  }
 },
 "nbformat": 4,
 "nbformat_minor": 5
}