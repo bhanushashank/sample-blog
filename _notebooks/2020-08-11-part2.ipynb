{
 "cells": [
  {
   "cell_type": "markdown",
   "id": "98380cd3",
   "metadata": {
    "papermill": {
     "duration": 0.025624,
     "end_time": "2021-10-10T20:06:51.351407",
     "exception": false,
     "start_time": "2021-10-10T20:06:51.325783",
     "status": "completed"
    },
    "tags": []
   },
   "source": [
    "# Distinguish Your Own Digits (DYOD)"
   ]
  },
  {
   "cell_type": "markdown",
   "id": "ef31240d",
   "metadata": {
    "papermill": {
     "duration": 0.021232,
     "end_time": "2021-10-10T20:06:51.394535",
     "exception": false,
     "start_time": "2021-10-10T20:06:51.373303",
     "status": "completed"
    },
    "tags": []
   },
   "source": [
    "You are going to write a classifier that distinguishes between the number 3 and number 8."
   ]
  },
  {
   "cell_type": "code",
   "execution_count": 1,
   "id": "b15c8646",
   "metadata": {
    "execution": {
     "iopub.execute_input": "2021-10-10T20:06:51.446852Z",
     "iopub.status.busy": "2021-10-10T20:06:51.446376Z",
     "iopub.status.idle": "2021-10-10T20:06:51.455856Z",
     "shell.execute_reply": "2021-10-10T20:06:51.455446Z"
    },
    "papermill": {
     "duration": 0.040323,
     "end_time": "2021-10-10T20:06:51.455978",
     "exception": false,
     "start_time": "2021-10-10T20:06:51.415655",
     "status": "completed"
    },
    "tags": []
   },
   "outputs": [],
   "source": [
    "%load_ext autoreload\n",
    "%autoreload 2"
   ]
  },
  {
   "cell_type": "code",
   "execution_count": 2,
   "id": "22ef38dc",
   "metadata": {
    "execution": {
     "iopub.execute_input": "2021-10-10T20:06:51.502463Z",
     "iopub.status.busy": "2021-10-10T20:06:51.502000Z",
     "iopub.status.idle": "2021-10-10T20:06:51.967558Z",
     "shell.execute_reply": "2021-10-10T20:06:51.968100Z"
    },
    "papermill": {
     "duration": 0.490921,
     "end_time": "2021-10-10T20:06:51.968274",
     "exception": false,
     "start_time": "2021-10-10T20:06:51.477353",
     "status": "completed"
    },
    "tags": []
   },
   "outputs": [],
   "source": [
    "%matplotlib inline\n",
    "import numpy as np\n",
    "import matplotlib.pyplot as plt\n",
    "import pandas as pd"
   ]
  },
  {
   "cell_type": "markdown",
   "id": "ba036198",
   "metadata": {
    "papermill": {
     "duration": 0.021347,
     "end_time": "2021-10-10T20:06:52.011661",
     "exception": false,
     "start_time": "2021-10-10T20:06:51.990314",
     "status": "completed"
    },
    "tags": []
   },
   "source": [
    "From the command line run `pip install mnist`. This is a library that will help you bring down the mnist dataset. If you run this from a notebook, you need to put  `!pip install mnist` in a cell by itself."
   ]
  },
  {
   "cell_type": "code",
   "execution_count": 3,
   "id": "bb6ad8a1",
   "metadata": {
    "execution": {
     "iopub.execute_input": "2021-10-10T20:06:52.058439Z",
     "iopub.status.busy": "2021-10-10T20:06:52.057974Z",
     "iopub.status.idle": "2021-10-10T20:06:53.528360Z",
     "shell.execute_reply": "2021-10-10T20:06:53.527812Z"
    },
    "papermill": {
     "duration": 1.495419,
     "end_time": "2021-10-10T20:06:53.528503",
     "exception": false,
     "start_time": "2021-10-10T20:06:52.033084",
     "status": "completed"
    },
    "tags": []
   },
   "outputs": [
    {
     "name": "stdout",
     "output_type": "stream",
     "text": [
      "Collecting mnist\r\n"
     ]
    },
    {
     "name": "stdout",
     "output_type": "stream",
     "text": [
      "  Downloading mnist-0.2.2-py2.py3-none-any.whl (3.5 kB)\r\n",
      "Requirement already satisfied: numpy in /opt/hostedtoolcache/Python/3.6.15/x64/lib/python3.6/site-packages (from mnist) (1.19.5)\r\n"
     ]
    },
    {
     "name": "stdout",
     "output_type": "stream",
     "text": [
      "Installing collected packages: mnist\r\n"
     ]
    },
    {
     "name": "stdout",
     "output_type": "stream",
     "text": [
      "Successfully installed mnist-0.2.2\r\n"
     ]
    }
   ],
   "source": [
    "!pip install mnist"
   ]
  },
  {
   "cell_type": "markdown",
   "id": "69df9c9a",
   "metadata": {
    "papermill": {
     "duration": 0.02234,
     "end_time": "2021-10-10T20:06:53.576631",
     "exception": false,
     "start_time": "2021-10-10T20:06:53.554291",
     "status": "completed"
    },
    "tags": []
   },
   "source": [
    "## Preparing the Data"
   ]
  },
  {
   "cell_type": "code",
   "execution_count": 4,
   "id": "7f69d806",
   "metadata": {
    "execution": {
     "iopub.execute_input": "2021-10-10T20:06:53.625451Z",
     "iopub.status.busy": "2021-10-10T20:06:53.624961Z",
     "iopub.status.idle": "2021-10-10T20:06:53.638865Z",
     "shell.execute_reply": "2021-10-10T20:06:53.638460Z"
    },
    "papermill": {
     "duration": 0.039807,
     "end_time": "2021-10-10T20:06:53.638967",
     "exception": false,
     "start_time": "2021-10-10T20:06:53.599160",
     "status": "completed"
    },
    "tags": []
   },
   "outputs": [],
   "source": [
    "import mnist"
   ]
  },
  {
   "cell_type": "code",
   "execution_count": 5,
   "id": "a411e44f",
   "metadata": {
    "execution": {
     "iopub.execute_input": "2021-10-10T20:06:53.689635Z",
     "iopub.status.busy": "2021-10-10T20:06:53.689175Z",
     "iopub.status.idle": "2021-10-10T20:06:54.171868Z",
     "shell.execute_reply": "2021-10-10T20:06:54.171326Z"
    },
    "papermill": {
     "duration": 0.510675,
     "end_time": "2021-10-10T20:06:54.172013",
     "exception": false,
     "start_time": "2021-10-10T20:06:53.661338",
     "status": "completed"
    },
    "tags": []
   },
   "outputs": [],
   "source": [
    "train_images = mnist.train_images()\n",
    "train_labels = mnist.train_labels()"
   ]
  },
  {
   "cell_type": "code",
   "execution_count": 6,
   "id": "dceab3a5",
   "metadata": {
    "execution": {
     "iopub.execute_input": "2021-10-10T20:06:54.233522Z",
     "iopub.status.busy": "2021-10-10T20:06:54.232613Z",
     "iopub.status.idle": "2021-10-10T20:06:54.240974Z",
     "shell.execute_reply": "2021-10-10T20:06:54.241322Z"
    },
    "papermill": {
     "duration": 0.046232,
     "end_time": "2021-10-10T20:06:54.241455",
     "exception": false,
     "start_time": "2021-10-10T20:06:54.195223",
     "status": "completed"
    },
    "tags": []
   },
   "outputs": [
    {
     "data": {
      "text/plain": [
       "((60000, 28, 28), (60000,))"
      ]
     },
     "execution_count": 6,
     "metadata": {},
     "output_type": "execute_result"
    }
   ],
   "source": [
    "train_images.shape, train_labels.shape"
   ]
  },
  {
   "cell_type": "code",
   "execution_count": 7,
   "id": "f50dc2bb",
   "metadata": {
    "execution": {
     "iopub.execute_input": "2021-10-10T20:06:54.294688Z",
     "iopub.status.busy": "2021-10-10T20:06:54.290055Z",
     "iopub.status.idle": "2021-10-10T20:06:54.438901Z",
     "shell.execute_reply": "2021-10-10T20:06:54.438445Z"
    },
    "papermill": {
     "duration": 0.174398,
     "end_time": "2021-10-10T20:06:54.439028",
     "exception": false,
     "start_time": "2021-10-10T20:06:54.264630",
     "status": "completed"
    },
    "tags": []
   },
   "outputs": [],
   "source": [
    "test_images = mnist.test_images()\n",
    "test_labels = mnist.test_labels()"
   ]
  },
  {
   "cell_type": "code",
   "execution_count": 8,
   "id": "fc38cf1b",
   "metadata": {
    "execution": {
     "iopub.execute_input": "2021-10-10T20:06:54.496255Z",
     "iopub.status.busy": "2021-10-10T20:06:54.495695Z",
     "iopub.status.idle": "2021-10-10T20:06:54.507055Z",
     "shell.execute_reply": "2021-10-10T20:06:54.506619Z"
    },
    "papermill": {
     "duration": 0.040127,
     "end_time": "2021-10-10T20:06:54.507168",
     "exception": false,
     "start_time": "2021-10-10T20:06:54.467041",
     "status": "completed"
    },
    "tags": []
   },
   "outputs": [
    {
     "data": {
      "text/plain": [
       "((10000, 28, 28), (10000,))"
      ]
     },
     "execution_count": 8,
     "metadata": {},
     "output_type": "execute_result"
    }
   ],
   "source": [
    "test_images.shape, test_labels.shape"
   ]
  },
  {
   "cell_type": "code",
   "execution_count": 9,
   "id": "f9ed8fe0",
   "metadata": {
    "execution": {
     "iopub.execute_input": "2021-10-10T20:06:54.564628Z",
     "iopub.status.busy": "2021-10-10T20:06:54.564100Z",
     "iopub.status.idle": "2021-10-10T20:06:54.690776Z",
     "shell.execute_reply": "2021-10-10T20:06:54.690370Z"
    },
    "papermill": {
     "duration": 0.158005,
     "end_time": "2021-10-10T20:06:54.690882",
     "exception": false,
     "start_time": "2021-10-10T20:06:54.532877",
     "status": "completed"
    },
    "tags": []
   },
   "outputs": [
    {
     "name": "stdout",
     "output_type": "stream",
     "text": [
      "2\n"
     ]
    },
    {
     "data": {
      "text/plain": [
       "<matplotlib.image.AxesImage at 0x7f61d10ef860>"
      ]
     },
     "execution_count": 9,
     "metadata": {},
     "output_type": "execute_result"
    },
    {
     "data": {
      "image/png": "[encoded data removed]",
      "text/plain": [
       "<Figure size 432x288 with 1 Axes>"
      ]
     },
     "metadata": {
      "needs_background": "light"
     },
     "output_type": "display_data"
    }
   ],
   "source": [
    "image_index = 7776 # You may select anything up to 60,000\n",
    "print(train_labels[image_index]) \n",
    "plt.imshow(train_images[image_index], cmap='Greys')"
   ]
  },
  {
   "cell_type": "markdown",
   "id": "a8d2388d",
   "metadata": {
    "papermill": {
     "duration": 0.023946,
     "end_time": "2021-10-10T20:06:54.738734",
     "exception": false,
     "start_time": "2021-10-10T20:06:54.714788",
     "status": "completed"
    },
    "tags": []
   },
   "source": [
    "## Filter data to get 3 and 8 out"
   ]
  },
  {
   "cell_type": "code",
   "execution_count": 10,
   "id": "776f7fc7",
   "metadata": {
    "execution": {
     "iopub.execute_input": "2021-10-10T20:06:54.792657Z",
     "iopub.status.busy": "2021-10-10T20:06:54.792171Z",
     "iopub.status.idle": "2021-10-10T20:06:54.807522Z",
     "shell.execute_reply": "2021-10-10T20:06:54.807143Z"
    },
    "papermill": {
     "duration": 0.045153,
     "end_time": "2021-10-10T20:06:54.807630",
     "exception": false,
     "start_time": "2021-10-10T20:06:54.762477",
     "status": "completed"
    },
    "tags": []
   },
   "outputs": [],
   "source": [
    "train_filter = np.where((train_labels == 3 ) | (train_labels == 8))\n",
    "test_filter = np.where((test_labels == 3) | (test_labels == 8))\n",
    "X_train, y_train = train_images[train_filter], train_labels[train_filter]\n",
    "X_test, y_test = test_images[test_filter], test_labels[test_filter]"
   ]
  },
  {
   "cell_type": "markdown",
   "id": "948f0b7e",
   "metadata": {
    "papermill": {
     "duration": 0.023622,
     "end_time": "2021-10-10T20:06:54.855022",
     "exception": false,
     "start_time": "2021-10-10T20:06:54.831400",
     "status": "completed"
    },
    "tags": []
   },
   "source": [
    "We normalize the pizel values in the 0 to 1 range"
   ]
  },
  {
   "cell_type": "code",
   "execution_count": 11,
   "id": "ee4c2166",
   "metadata": {
    "execution": {
     "iopub.execute_input": "2021-10-10T20:06:54.914560Z",
     "iopub.status.busy": "2021-10-10T20:06:54.913990Z",
     "iopub.status.idle": "2021-10-10T20:06:54.952484Z",
     "shell.execute_reply": "2021-10-10T20:06:54.952034Z"
    },
    "papermill": {
     "duration": 0.073301,
     "end_time": "2021-10-10T20:06:54.952610",
     "exception": false,
     "start_time": "2021-10-10T20:06:54.879309",
     "status": "completed"
    },
    "tags": []
   },
   "outputs": [],
   "source": [
    "X_train = X_train/255.\n",
    "X_test = X_test/255."
   ]
  },
  {
   "cell_type": "markdown",
   "id": "ddcf4fab",
   "metadata": {
    "papermill": {
     "duration": 0.023684,
     "end_time": "2021-10-10T20:06:55.000400",
     "exception": false,
     "start_time": "2021-10-10T20:06:54.976716",
     "status": "completed"
    },
    "tags": []
   },
   "source": [
    "And setup the labels as 1 (when the digit is 3) and 0 (when the digit is 8)"
   ]
  },
  {
   "cell_type": "code",
   "execution_count": 12,
   "id": "7dc908f2",
   "metadata": {
    "execution": {
     "iopub.execute_input": "2021-10-10T20:06:55.050882Z",
     "iopub.status.busy": "2021-10-10T20:06:55.050418Z",
     "iopub.status.idle": "2021-10-10T20:06:55.066681Z",
     "shell.execute_reply": "2021-10-10T20:06:55.066183Z"
    },
    "papermill": {
     "duration": 0.042731,
     "end_time": "2021-10-10T20:06:55.066799",
     "exception": false,
     "start_time": "2021-10-10T20:06:55.024068",
     "status": "completed"
    },
    "tags": []
   },
   "outputs": [],
   "source": [
    "y_train = 1*(y_train==3)\n",
    "y_test = 1*(y_test==3)"
   ]
  },
  {
   "cell_type": "code",
   "execution_count": 13,
   "id": "01e4e969",
   "metadata": {
    "execution": {
     "iopub.execute_input": "2021-10-10T20:06:55.128336Z",
     "iopub.status.busy": "2021-10-10T20:06:55.127799Z",
     "iopub.status.idle": "2021-10-10T20:06:55.137102Z",
     "shell.execute_reply": "2021-10-10T20:06:55.137483Z"
    },
    "papermill": {
     "duration": 0.044023,
     "end_time": "2021-10-10T20:06:55.137618",
     "exception": false,
     "start_time": "2021-10-10T20:06:55.093595",
     "status": "completed"
    },
    "tags": []
   },
   "outputs": [
    {
     "data": {
      "text/plain": [
       "((11982, 28, 28), (1984, 28, 28))"
      ]
     },
     "execution_count": 13,
     "metadata": {},
     "output_type": "execute_result"
    }
   ],
   "source": [
    "X_train.shape, X_test.shape"
   ]
  },
  {
   "cell_type": "markdown",
   "id": "5ccf3f85",
   "metadata": {
    "papermill": {
     "duration": 0.026901,
     "end_time": "2021-10-10T20:06:55.191553",
     "exception": false,
     "start_time": "2021-10-10T20:06:55.164652",
     "status": "completed"
    },
    "tags": []
   },
   "source": [
    "We reshape the data to flatten the image pixels into a set of features or co-variates:"
   ]
  },
  {
   "cell_type": "code",
   "execution_count": 14,
   "id": "5286a4a3",
   "metadata": {
    "execution": {
     "iopub.execute_input": "2021-10-10T20:06:55.251063Z",
     "iopub.status.busy": "2021-10-10T20:06:55.250544Z",
     "iopub.status.idle": "2021-10-10T20:06:55.261433Z",
     "shell.execute_reply": "2021-10-10T20:06:55.261862Z"
    },
    "papermill": {
     "duration": 0.043294,
     "end_time": "2021-10-10T20:06:55.261989",
     "exception": false,
     "start_time": "2021-10-10T20:06:55.218695",
     "status": "completed"
    },
    "tags": []
   },
   "outputs": [
    {
     "data": {
      "text/plain": [
       "((11982, 784), (1984, 784))"
      ]
     },
     "execution_count": 14,
     "metadata": {},
     "output_type": "execute_result"
    }
   ],
   "source": [
    "X_train = X_train.reshape(X_train.shape[0], -1)\n",
    "X_test = X_test.reshape(X_test.shape[0], -1)\n",
    "X_train.shape, X_test.shape"
   ]
  },
  {
   "cell_type": "code",
   "execution_count": 15,
   "id": "73c5f88a",
   "metadata": {
    "execution": {
     "iopub.execute_input": "2021-10-10T20:06:55.321589Z",
     "iopub.status.busy": "2021-10-10T20:06:55.321076Z",
     "iopub.status.idle": "2021-10-10T20:06:55.336282Z",
     "shell.execute_reply": "2021-10-10T20:06:55.335874Z"
    },
    "papermill": {
     "duration": 0.047187,
     "end_time": "2021-10-10T20:06:55.336391",
     "exception": false,
     "start_time": "2021-10-10T20:06:55.289204",
     "status": "completed"
    },
    "tags": []
   },
   "outputs": [],
   "source": [
    "#Impoting functions from 'Kudzu'\n",
    "from kudzu.model import Model\n",
    "from kudzu.train import Learner\n",
    "from kudzu.optim import GD\n",
    "from kudzu.data import Data, Sampler,Dataloader\n",
    "\n",
    "from kudzu.callbacks import AccCallback\n",
    "from kudzu.callbacks import ClfCallback\n",
    "\n",
    "from kudzu.loss import MSE\n",
    "\n",
    "from kudzu.layer import Sigmoid,Relu\n",
    "from kudzu.layer import Affine"
   ]
  },
  {
   "cell_type": "markdown",
   "id": "bc01172a",
   "metadata": {
    "papermill": {
     "duration": 0.027186,
     "end_time": "2021-10-10T20:06:55.390768",
     "exception": false,
     "start_time": "2021-10-10T20:06:55.363582",
     "status": "completed"
    },
    "tags": []
   },
   "source": [
    "### Let us create a `Config` class, to store important parameters. \n",
    "This class essentially plays the role of a dictionary."
   ]
  },
  {
   "cell_type": "code",
   "execution_count": 16,
   "id": "978281aa",
   "metadata": {
    "execution": {
     "iopub.execute_input": "2021-10-10T20:06:55.448827Z",
     "iopub.status.busy": "2021-10-10T20:06:55.448311Z",
     "iopub.status.idle": "2021-10-10T20:06:55.460134Z",
     "shell.execute_reply": "2021-10-10T20:06:55.459697Z"
    },
    "papermill": {
     "duration": 0.042365,
     "end_time": "2021-10-10T20:06:55.460247",
     "exception": false,
     "start_time": "2021-10-10T20:06:55.417882",
     "status": "completed"
    },
    "tags": []
   },
   "outputs": [],
   "source": [
    "class Config:\n",
    "    pass\n",
    "config = Config()\n",
    "config.lr = 0.001\n",
    "config.num_epochs = 250\n",
    "config.bs = 50"
   ]
  },
  {
   "cell_type": "markdown",
   "id": "1385fa59",
   "metadata": {
    "papermill": {
     "duration": 0.027183,
     "end_time": "2021-10-10T20:06:55.514583",
     "exception": false,
     "start_time": "2021-10-10T20:06:55.487400",
     "status": "completed"
    },
    "tags": []
   },
   "source": [
    "### Running Models with the Training data\n",
    "Details about the network layers:\n",
    "- A first affine layer has 784 inputs and does 100 affine transforms. These are followed by a Relu\n",
    "- A second affine layer has 100 inputs from the 100 activations of the past layer, and does 100 affine transforms. These are followed by a Relu\n",
    "- A third affine layer has 100 activations and does 2 affine transformations to create an embedding for visualization. There is no non-linearity here.\n",
    "- A final \"logistic regression\" which has an affine transform from 2 inputs to 1 output, which is squeezed through a sigmoid.\n"
   ]
  },
  {
   "cell_type": "code",
   "execution_count": 17,
   "id": "2b9c66db",
   "metadata": {
    "execution": {
     "iopub.execute_input": "2021-10-10T20:06:55.573129Z",
     "iopub.status.busy": "2021-10-10T20:06:55.572613Z",
     "iopub.status.idle": "2021-10-10T20:06:55.584841Z",
     "shell.execute_reply": "2021-10-10T20:06:55.584393Z"
    },
    "papermill": {
     "duration": 0.043168,
     "end_time": "2021-10-10T20:06:55.584946",
     "exception": false,
     "start_time": "2021-10-10T20:06:55.541778",
     "status": "completed"
    },
    "tags": []
   },
   "outputs": [],
   "source": [
    "data = Data(X_train, y_train.reshape(-1,1))\n",
    "sampler = Sampler(data, config.bs, shuffle=True)\n",
    "\n",
    "dl = Dataloader(data, sampler)\n",
    "\n",
    "opt = GD(config.lr)\n",
    "loss = MSE()"
   ]
  },
  {
   "cell_type": "code",
   "execution_count": 18,
   "id": "b275e4c2",
   "metadata": {
    "execution": {
     "iopub.execute_input": "2021-10-10T20:06:55.636417Z",
     "iopub.status.busy": "2021-10-10T20:06:55.635954Z",
     "iopub.status.idle": "2021-10-10T20:06:55.646102Z",
     "shell.execute_reply": "2021-10-10T20:06:55.646443Z"
    },
    "papermill": {
     "duration": 0.03724,
     "end_time": "2021-10-10T20:06:55.646554",
     "exception": false,
     "start_time": "2021-10-10T20:06:55.609314",
     "status": "completed"
    },
    "tags": []
   },
   "outputs": [],
   "source": [
    "training_data_x = X_train\n",
    "testing_data_x = X_test\n",
    "training_data_y = y_train.reshape(-1,1)\n",
    "testing_data_y = y_test.reshape(-1,1)"
   ]
  },
  {
   "cell_type": "code",
   "execution_count": 19,
   "id": "76951160",
   "metadata": {
    "execution": {
     "iopub.execute_input": "2021-10-10T20:06:55.714050Z",
     "iopub.status.busy": "2021-10-10T20:06:55.710958Z",
     "iopub.status.idle": "2021-10-10T20:06:55.716590Z",
     "shell.execute_reply": "2021-10-10T20:06:55.716203Z"
    },
    "papermill": {
     "duration": 0.046313,
     "end_time": "2021-10-10T20:06:55.716690",
     "exception": false,
     "start_time": "2021-10-10T20:06:55.670377",
     "status": "completed"
    },
    "tags": []
   },
   "outputs": [
    {
     "name": "stdout",
     "output_type": "stream",
     "text": [
      "xavier\n",
      "xavier\n",
      "xavier\n",
      "xavier\n",
      "xavier\n"
     ]
    }
   ],
   "source": [
    "layers = [Affine(\"first\", 784, 100), Relu(\"first\"), Affine(\"second\", 100, 100), Relu(\"second\"), Affine(\"third\", 100, 2), Affine(\"last\", 2, 1), Sigmoid(\"last\")]\n",
    "model_nn = Model(layers)\n",
    "model_lr = Model([Affine(\"logits\", 784, 1), Sigmoid(\"sigmoid\")])"
   ]
  },
  {
   "cell_type": "code",
   "execution_count": 20,
   "id": "6eede77a",
   "metadata": {
    "execution": {
     "iopub.execute_input": "2021-10-10T20:06:55.772406Z",
     "iopub.status.busy": "2021-10-10T20:06:55.771898Z",
     "iopub.status.idle": "2021-10-10T20:06:55.781820Z",
     "shell.execute_reply": "2021-10-10T20:06:55.781454Z"
    },
    "papermill": {
     "duration": 0.039993,
     "end_time": "2021-10-10T20:06:55.781922",
     "exception": false,
     "start_time": "2021-10-10T20:06:55.741929",
     "status": "completed"
    },
    "tags": []
   },
   "outputs": [],
   "source": [
    "nn_learner = Learner(loss, model_nn, opt, config.num_epochs)\n",
    "acc_nn = ClfCallback(nn_learner, config.bs, training_data_x , testing_data_x, training_data_y, testing_data_y)\n",
    "nn_learner.set_callbacks([acc_nn])"
   ]
  },
  {
   "cell_type": "code",
   "execution_count": 21,
   "id": "877b6cc7",
   "metadata": {
    "execution": {
     "iopub.execute_input": "2021-10-10T20:06:55.847669Z",
     "iopub.status.busy": "2021-10-10T20:06:55.844375Z",
     "iopub.status.idle": "2021-10-10T20:06:55.849774Z",
     "shell.execute_reply": "2021-10-10T20:06:55.849412Z"
    },
    "papermill": {
     "duration": 0.042433,
     "end_time": "2021-10-10T20:06:55.849873",
     "exception": false,
     "start_time": "2021-10-10T20:06:55.807440",
     "status": "completed"
    },
    "tags": []
   },
   "outputs": [],
   "source": [
    "lr_learner = Learner(loss, model_lr, opt, config.num_epochs)\n",
    "acc_lr = ClfCallback(lr_learner, config.bs, training_data_x , testing_data_x, training_data_y, testing_data_y)\n",
    "lr_learner.set_callbacks([acc_lr])"
   ]
  },
  {
   "cell_type": "code",
   "execution_count": 22,
   "id": "d9b133c3",
   "metadata": {
    "execution": {
     "iopub.execute_input": "2021-10-10T20:06:55.901876Z",
     "iopub.status.busy": "2021-10-10T20:06:55.901433Z",
     "iopub.status.idle": "2021-10-10T20:08:16.284464Z",
     "shell.execute_reply": "2021-10-10T20:08:16.285132Z"
    },
    "papermill": {
     "duration": 80.410995,
     "end_time": "2021-10-10T20:08:16.285268",
     "exception": false,
     "start_time": "2021-10-10T20:06:55.874273",
     "status": "completed"
    },
    "tags": []
   },
   "outputs": [
    {
     "name": "stdout",
     "output_type": "stream",
     "text": [
      "Epoch 0, Loss 0.2502\n",
      "Training Accuracy: 0.4961, Testing Accuracy: 0.4814\n",
      "\n"
     ]
    },
    {
     "name": "stdout",
     "output_type": "stream",
     "text": [
      "Epoch 10, Loss 0.2459\n",
      "Training Accuracy: 0.7522, Testing Accuracy: 0.7515\n",
      "\n"
     ]
    },
    {
     "name": "stdout",
     "output_type": "stream",
     "text": [
      "Epoch 20, Loss 0.2305\n",
      "Training Accuracy: 0.8466, Testing Accuracy: 0.8644\n",
      "\n"
     ]
    },
    {
     "name": "stdout",
     "output_type": "stream",
     "text": [
      "Epoch 30, Loss 0.1596\n",
      "Training Accuracy: 0.9011, Testing Accuracy: 0.9153\n",
      "\n"
     ]
    },
    {
     "name": "stdout",
     "output_type": "stream",
     "text": [
      "Epoch 40, Loss 0.0771\n",
      "Training Accuracy: 0.9301, Testing Accuracy: 0.9420\n",
      "\n"
     ]
    },
    {
     "name": "stdout",
     "output_type": "stream",
     "text": [
      "Epoch 50, Loss 0.0523\n",
      "Training Accuracy: 0.9444, Testing Accuracy: 0.9546\n",
      "\n"
     ]
    },
    {
     "name": "stdout",
     "output_type": "stream",
     "text": [
      "Epoch 60, Loss 0.0429\n",
      "Training Accuracy: 0.9524, Testing Accuracy: 0.9622\n",
      "\n"
     ]
    },
    {
     "name": "stdout",
     "output_type": "stream",
     "text": [
      "Epoch 70, Loss 0.0379\n",
      "Training Accuracy: 0.9565, Testing Accuracy: 0.9688\n",
      "\n"
     ]
    },
    {
     "name": "stdout",
     "output_type": "stream",
     "text": [
      "Epoch 80, Loss 0.0348\n",
      "Training Accuracy: 0.9591, Testing Accuracy: 0.9698\n",
      "\n"
     ]
    },
    {
     "name": "stdout",
     "output_type": "stream",
     "text": [
      "Epoch 90, Loss 0.0326\n",
      "Training Accuracy: 0.9614, Testing Accuracy: 0.9718\n",
      "\n"
     ]
    },
    {
     "name": "stdout",
     "output_type": "stream",
     "text": [
      "Epoch 100, Loss 0.0309\n",
      "Training Accuracy: 0.9627, Testing Accuracy: 0.9713\n",
      "\n"
     ]
    },
    {
     "name": "stdout",
     "output_type": "stream",
     "text": [
      "Epoch 110, Loss 0.0296\n",
      "Training Accuracy: 0.9642, Testing Accuracy: 0.9713\n",
      "\n"
     ]
    },
    {
     "name": "stdout",
     "output_type": "stream",
     "text": [
      "Epoch 120, Loss 0.0285\n",
      "Training Accuracy: 0.9659, Testing Accuracy: 0.9723\n",
      "\n"
     ]
    },
    {
     "name": "stdout",
     "output_type": "stream",
     "text": [
      "Epoch 130, Loss 0.0275\n",
      "Training Accuracy: 0.9669, Testing Accuracy: 0.9723\n",
      "\n"
     ]
    },
    {
     "name": "stdout",
     "output_type": "stream",
     "text": [
      "Epoch 140, Loss 0.0267\n",
      "Training Accuracy: 0.9681, Testing Accuracy: 0.9713\n",
      "\n"
     ]
    },
    {
     "name": "stdout",
     "output_type": "stream",
     "text": [
      "Epoch 150, Loss 0.0259\n",
      "Training Accuracy: 0.9687, Testing Accuracy: 0.9708\n",
      "\n"
     ]
    },
    {
     "name": "stdout",
     "output_type": "stream",
     "text": [
      "Epoch 160, Loss 0.0252\n",
      "Training Accuracy: 0.9693, Testing Accuracy: 0.9708\n",
      "\n"
     ]
    },
    {
     "name": "stdout",
     "output_type": "stream",
     "text": [
      "Epoch 170, Loss 0.0246\n",
      "Training Accuracy: 0.9705, Testing Accuracy: 0.9708\n",
      "\n"
     ]
    },
    {
     "name": "stdout",
     "output_type": "stream",
     "text": [
      "Epoch 180, Loss 0.0241\n",
      "Training Accuracy: 0.9710, Testing Accuracy: 0.9718\n",
      "\n"
     ]
    },
    {
     "name": "stdout",
     "output_type": "stream",
     "text": [
      "Epoch 190, Loss 0.0235\n",
      "Training Accuracy: 0.9721, Testing Accuracy: 0.9718\n",
      "\n"
     ]
    },
    {
     "name": "stdout",
     "output_type": "stream",
     "text": [
      "Epoch 200, Loss 0.023\n",
      "Training Accuracy: 0.9729, Testing Accuracy: 0.9723\n",
      "\n"
     ]
    },
    {
     "name": "stdout",
     "output_type": "stream",
     "text": [
      "Epoch 210, Loss 0.0226\n",
      "Training Accuracy: 0.9736, Testing Accuracy: 0.9728\n",
      "\n"
     ]
    },
    {
     "name": "stdout",
     "output_type": "stream",
     "text": [
      "Epoch 220, Loss 0.0221\n",
      "Training Accuracy: 0.9746, Testing Accuracy: 0.9738\n",
      "\n"
     ]
    },
    {
     "name": "stdout",
     "output_type": "stream",
     "text": [
      "Epoch 230, Loss 0.0217\n",
      "Training Accuracy: 0.9755, Testing Accuracy: 0.9728\n",
      "\n"
     ]
    },
    {
     "name": "stdout",
     "output_type": "stream",
     "text": [
      "Epoch 240, Loss 0.0213\n",
      "Training Accuracy: 0.9760, Testing Accuracy: 0.9733\n",
      "\n"
     ]
    },
    {
     "data": {
      "text/plain": [
       "0.0370193302621293"
      ]
     },
     "execution_count": 22,
     "metadata": {},
     "output_type": "execute_result"
    }
   ],
   "source": [
    "nn_learner.train_loop(dl)"
   ]
  },
  {
   "cell_type": "code",
   "execution_count": 23,
   "id": "e0163366",
   "metadata": {
    "execution": {
     "iopub.execute_input": "2021-10-10T20:08:16.354815Z",
     "iopub.status.busy": "2021-10-10T20:08:16.354333Z",
     "iopub.status.idle": "2021-10-10T20:08:30.691245Z",
     "shell.execute_reply": "2021-10-10T20:08:30.691926Z"
    },
    "papermill": {
     "duration": 14.375669,
     "end_time": "2021-10-10T20:08:30.692071",
     "exception": false,
     "start_time": "2021-10-10T20:08:16.316402",
     "status": "completed"
    },
    "tags": []
   },
   "outputs": [
    {
     "name": "stdout",
     "output_type": "stream",
     "text": [
      "Epoch 0, Loss 0.2294\n",
      "Training Accuracy: 0.7507, Testing Accuracy: 0.7601\n",
      "\n"
     ]
    },
    {
     "name": "stdout",
     "output_type": "stream",
     "text": [
      "Epoch 10, Loss 0.1007\n",
      "Training Accuracy: 0.9135, Testing Accuracy: 0.9309\n",
      "\n"
     ]
    },
    {
     "name": "stdout",
     "output_type": "stream",
     "text": [
      "Epoch 20, Loss 0.0784\n",
      "Training Accuracy: 0.9296, Testing Accuracy: 0.9461\n",
      "\n"
     ]
    },
    {
     "name": "stdout",
     "output_type": "stream",
     "text": [
      "Epoch 30, Loss 0.068\n",
      "Training Accuracy: 0.9375, Testing Accuracy: 0.9506\n",
      "\n"
     ]
    },
    {
     "name": "stdout",
     "output_type": "stream",
     "text": [
      "Epoch 40, Loss 0.0616\n",
      "Training Accuracy: 0.9411, Testing Accuracy: 0.9551\n",
      "\n"
     ]
    },
    {
     "name": "stdout",
     "output_type": "stream",
     "text": [
      "Epoch 50, Loss 0.0572\n",
      "Training Accuracy: 0.9442, Testing Accuracy: 0.9567\n",
      "\n"
     ]
    },
    {
     "name": "stdout",
     "output_type": "stream",
     "text": [
      "Epoch 60, Loss 0.054\n",
      "Training Accuracy: 0.9458, Testing Accuracy: 0.9572\n",
      "\n"
     ]
    },
    {
     "name": "stdout",
     "output_type": "stream",
     "text": [
      "Epoch 70, Loss 0.0515\n",
      "Training Accuracy: 0.9482, Testing Accuracy: 0.9577\n",
      "\n"
     ]
    },
    {
     "name": "stdout",
     "output_type": "stream",
     "text": [
      "Epoch 80, Loss 0.0495\n",
      "Training Accuracy: 0.9497, Testing Accuracy: 0.9587\n",
      "\n"
     ]
    },
    {
     "name": "stdout",
     "output_type": "stream",
     "text": [
      "Epoch 90, Loss 0.0478\n",
      "Training Accuracy: 0.9511, Testing Accuracy: 0.9592\n",
      "\n"
     ]
    },
    {
     "name": "stdout",
     "output_type": "stream",
     "text": [
      "Epoch 100, Loss 0.0464\n",
      "Training Accuracy: 0.9523, Testing Accuracy: 0.9607\n",
      "\n"
     ]
    },
    {
     "name": "stdout",
     "output_type": "stream",
     "text": [
      "Epoch 110, Loss 0.0452\n",
      "Training Accuracy: 0.9531, Testing Accuracy: 0.9617\n",
      "\n"
     ]
    },
    {
     "name": "stdout",
     "output_type": "stream",
     "text": [
      "Epoch 120, Loss 0.0441\n",
      "Training Accuracy: 0.9546, Testing Accuracy: 0.9622\n",
      "\n"
     ]
    },
    {
     "name": "stdout",
     "output_type": "stream",
     "text": [
      "Epoch 130, Loss 0.0432\n",
      "Training Accuracy: 0.9555, Testing Accuracy: 0.9627\n",
      "\n"
     ]
    },
    {
     "name": "stdout",
     "output_type": "stream",
     "text": [
      "Epoch 140, Loss 0.0423\n",
      "Training Accuracy: 0.9562, Testing Accuracy: 0.9647\n",
      "\n"
     ]
    },
    {
     "name": "stdout",
     "output_type": "stream",
     "text": [
      "Epoch 150, Loss 0.0416\n",
      "Training Accuracy: 0.9569, Testing Accuracy: 0.9667\n",
      "\n"
     ]
    },
    {
     "name": "stdout",
     "output_type": "stream",
     "text": [
      "Epoch 160, Loss 0.0409\n",
      "Training Accuracy: 0.9573, Testing Accuracy: 0.9677\n",
      "\n"
     ]
    },
    {
     "name": "stdout",
     "output_type": "stream",
     "text": [
      "Epoch 170, Loss 0.0403\n",
      "Training Accuracy: 0.9578, Testing Accuracy: 0.9677\n",
      "\n"
     ]
    },
    {
     "name": "stdout",
     "output_type": "stream",
     "text": [
      "Epoch 180, Loss 0.0397\n",
      "Training Accuracy: 0.9580, Testing Accuracy: 0.9682\n",
      "\n"
     ]
    },
    {
     "name": "stdout",
     "output_type": "stream",
     "text": [
      "Epoch 190, Loss 0.0392\n",
      "Training Accuracy: 0.9582, Testing Accuracy: 0.9677\n",
      "\n"
     ]
    },
    {
     "name": "stdout",
     "output_type": "stream",
     "text": [
      "Epoch 200, Loss 0.0387\n",
      "Training Accuracy: 0.9585, Testing Accuracy: 0.9677\n",
      "\n"
     ]
    },
    {
     "name": "stdout",
     "output_type": "stream",
     "text": [
      "Epoch 210, Loss 0.0383\n",
      "Training Accuracy: 0.9590, Testing Accuracy: 0.9667\n",
      "\n"
     ]
    },
    {
     "name": "stdout",
     "output_type": "stream",
     "text": [
      "Epoch 220, Loss 0.0379\n",
      "Training Accuracy: 0.9594, Testing Accuracy: 0.9667\n",
      "\n"
     ]
    },
    {
     "name": "stdout",
     "output_type": "stream",
     "text": [
      "Epoch 230, Loss 0.0375\n",
      "Training Accuracy: 0.9598, Testing Accuracy: 0.9672\n",
      "\n"
     ]
    },
    {
     "name": "stdout",
     "output_type": "stream",
     "text": [
      "Epoch 240, Loss 0.0371\n",
      "Training Accuracy: 0.9600, Testing Accuracy: 0.9677\n",
      "\n"
     ]
    },
    {
     "data": {
      "text/plain": [
       "0.0348464459794757"
      ]
     },
     "execution_count": 23,
     "metadata": {},
     "output_type": "execute_result"
    }
   ],
   "source": [
    "lr_learner.train_loop(dl)"
   ]
  },
  {
   "cell_type": "code",
   "execution_count": 24,
   "id": "ca410940",
   "metadata": {
    "execution": {
     "iopub.execute_input": "2021-10-10T20:08:30.780949Z",
     "iopub.status.busy": "2021-10-10T20:08:30.780476Z",
     "iopub.status.idle": "2021-10-10T20:08:30.981014Z",
     "shell.execute_reply": "2021-10-10T20:08:30.980505Z"
    },
    "papermill": {
     "duration": 0.25157,
     "end_time": "2021-10-10T20:08:30.981153",
     "exception": false,
     "start_time": "2021-10-10T20:08:30.729583",
     "status": "completed"
    },
    "tags": []
   },
   "outputs": [
    {
     "data": {
      "text/plain": [
       "<matplotlib.legend.Legend at 0x7f61c38c8940>"
      ]
     },
     "execution_count": 24,
     "metadata": {},
     "output_type": "execute_result"
    },
    {
     "data": {
      "image/png": "[encoded data removed]",
      "text/plain": [
       "<Figure size 1080x720 with 1 Axes>"
      ]
     },
     "metadata": {
      "needs_background": "light"
     },
     "output_type": "display_data"
    }
   ],
   "source": [
    "#comparing the results of NN and LR\n",
    "plt.figure(figsize=(15,10))\n",
    "\n",
    "# Neural Network plots\n",
    "plt.plot(acc_nn.accuracies, 'r-', label = \"Training Accuracies - NN\")\n",
    "plt.plot(acc_nn.test_accuracies, 'g-', label = \"Testing Accuracies - NN\")\n",
    "\n",
    "# Logistic Regression plots\n",
    "plt.plot(acc_lr.accuracies, 'k-', label = \"Training Accuracies - LR\")\n",
    "plt.plot(acc_lr.test_accuracies, 'b-', label = \"Testing Accuracies - LR\")\n",
    "plt.legend()"
   ]
  },
  {
   "cell_type": "markdown",
   "id": "80dfb35c",
   "metadata": {
    "papermill": {
     "duration": 0.038173,
     "end_time": "2021-10-10T20:08:31.058017",
     "exception": false,
     "start_time": "2021-10-10T20:08:31.019844",
     "status": "completed"
    },
    "tags": []
   },
   "source": [
    "#### Plotting the outputs of this layer of the NN.\n"
   ]
  },
  {
   "cell_type": "code",
   "execution_count": 25,
   "id": "45eb2ff5",
   "metadata": {
    "execution": {
     "iopub.execute_input": "2021-10-10T20:08:31.141580Z",
     "iopub.status.busy": "2021-10-10T20:08:31.141070Z",
     "iopub.status.idle": "2021-10-10T20:08:31.157195Z",
     "shell.execute_reply": "2021-10-10T20:08:31.157586Z"
    },
    "papermill": {
     "duration": 0.061972,
     "end_time": "2021-10-10T20:08:31.157721",
     "exception": false,
     "start_time": "2021-10-10T20:08:31.095749",
     "status": "completed"
    },
    "tags": []
   },
   "outputs": [],
   "source": [
    "new_model = Model(layers[:-2])\n",
    "testing_plot = new_model(testing_data_x)"
   ]
  },
  {
   "cell_type": "code",
   "execution_count": 26,
   "id": "4c0a5485",
   "metadata": {
    "execution": {
     "iopub.execute_input": "2021-10-10T20:08:31.242439Z",
     "iopub.status.busy": "2021-10-10T20:08:31.241954Z",
     "iopub.status.idle": "2021-10-10T20:08:31.413776Z",
     "shell.execute_reply": "2021-10-10T20:08:31.413365Z"
    },
    "papermill": {
     "duration": 0.213961,
     "end_time": "2021-10-10T20:08:31.413888",
     "exception": false,
     "start_time": "2021-10-10T20:08:31.199927",
     "status": "completed"
    },
    "tags": []
   },
   "outputs": [
    {
     "data": {
      "text/plain": [
       "Text(0.5, 1.0, 'Outputs')"
      ]
     },
     "execution_count": 26,
     "metadata": {},
     "output_type": "execute_result"
    },
    {
     "data": {
      "image/png": "[encoded data removed]",
      "text/plain": [
       "<Figure size 576x504 with 1 Axes>"
      ]
     },
     "metadata": {
      "needs_background": "light"
     },
     "output_type": "display_data"
    }
   ],
   "source": [
    "# Plotting the scatter plot of points and color coding by class\n",
    "plt.figure(figsize=(8,7))\n",
    "plt.scatter(testing_plot[:,0], testing_plot[:,1], alpha = 0.1, c = y_test.ravel());\n",
    "plt.title('Outputs')"
   ]
  },
  {
   "cell_type": "markdown",
   "id": "a74fcf8f",
   "metadata": {
    "papermill": {
     "duration": 0.03921,
     "end_time": "2021-10-10T20:08:31.493923",
     "exception": false,
     "start_time": "2021-10-10T20:08:31.454713",
     "status": "completed"
    },
    "tags": []
   },
   "source": [
    "Probability contours"
   ]
  },
  {
   "cell_type": "code",
   "execution_count": 27,
   "id": "d0afc8e3",
   "metadata": {
    "execution": {
     "iopub.execute_input": "2021-10-10T20:08:31.576456Z",
     "iopub.status.busy": "2021-10-10T20:08:31.575965Z",
     "iopub.status.idle": "2021-10-10T20:08:31.586358Z",
     "shell.execute_reply": "2021-10-10T20:08:31.585982Z"
    },
    "papermill": {
     "duration": 0.053132,
     "end_time": "2021-10-10T20:08:31.586465",
     "exception": false,
     "start_time": "2021-10-10T20:08:31.533333",
     "status": "completed"
    },
    "tags": []
   },
   "outputs": [],
   "source": [
    "model_prob = Model(layers[-2:]) "
   ]
  },
  {
   "cell_type": "code",
   "execution_count": 28,
   "id": "9b96e238",
   "metadata": {
    "execution": {
     "iopub.execute_input": "2021-10-10T20:08:31.699757Z",
     "iopub.status.busy": "2021-10-10T20:08:31.699253Z",
     "iopub.status.idle": "2021-10-10T20:08:31.713069Z",
     "shell.execute_reply": "2021-10-10T20:08:31.712671Z"
    },
    "papermill": {
     "duration": 0.087542,
     "end_time": "2021-10-10T20:08:31.713184",
     "exception": false,
     "start_time": "2021-10-10T20:08:31.625642",
     "status": "completed"
    },
    "tags": []
   },
   "outputs": [],
   "source": [
    "#creating the x and y ranges according to the above generated plot.\n",
    "x_range = np.linspace(-4, 1, 100) \n",
    "y_range = np.linspace(-6, 6, 100) \n",
    "x_grid, y_grid = np.meshgrid(x_range, y_range) # x_grid and y_grig are of size 100 X 100\n",
    "\n",
    "# converting x_grid and y_grid to continuous arrays\n",
    "x_gridflat = np.ravel(x_grid)\n",
    "y_gridflat = np.ravel(y_grid)\n",
    "\n",
    "# The last layer of the current model takes two columns as input. Hence transpose of np.vstack() is required.\n",
    "X = np.vstack((x_gridflat, y_gridflat)).T\n",
    "\n",
    "prob_contour = model_prob(X).reshape(100,100) "
   ]
  },
  {
   "cell_type": "code",
   "execution_count": 29,
   "id": "da72499a",
   "metadata": {
    "execution": {
     "iopub.execute_input": "2021-10-10T20:08:31.806998Z",
     "iopub.status.busy": "2021-10-10T20:08:31.806379Z",
     "iopub.status.idle": "2021-10-10T20:08:32.030845Z",
     "shell.execute_reply": "2021-10-10T20:08:32.031230Z"
    },
    "papermill": {
     "duration": 0.27287,
     "end_time": "2021-10-10T20:08:32.031369",
     "exception": false,
     "start_time": "2021-10-10T20:08:31.758499",
     "status": "completed"
    },
    "tags": []
   },
   "outputs": [
    {
     "data": {
      "image/png": "[encoded data removed]",
      "text/plain": [
       "<Figure size 720x648 with 1 Axes>"
      ]
     },
     "metadata": {
      "needs_background": "light"
     },
     "output_type": "display_data"
    }
   ],
   "source": [
    "plt.figure(figsize=(10,9))\n",
    "plt.scatter(testing_plot[:,0], testing_plot[:,1], alpha = 0.1, c = y_test.ravel())\n",
    "contours = plt.contour(x_grid,y_grid,prob_contour)\n",
    "plt.title('Probability Contours')\n",
    "plt.clabel(contours, inline = True );"
   ]
  },
  {
   "cell_type": "code",
   "execution_count": null,
   "id": "e81b4ac7",
   "metadata": {
    "papermill": {
     "duration": 0.041913,
     "end_time": "2021-10-10T20:08:32.115406",
     "exception": false,
     "start_time": "2021-10-10T20:08:32.073493",
     "status": "completed"
    },
    "tags": []
   },
   "outputs": [],
   "source": []
  }
 ],
 "metadata": {
  "kernelspec": {
   "display_name": "Python 3",
   "language": "python",
   "name": "python3"
  },
  "language_info": {
   "codemirror_mode": {
    "name": "ipython",
    "version": 3
   },
   "file_extension": ".py",
   "mimetype": "text/x-python",
   "name": "python",
   "nbconvert_exporter": "python",
   "pygments_lexer": "ipython3",
   "version": "3.6.15"
  },
  "papermill": {
   "default_parameters": {},
   "duration": 102.117612,
   "end_time": "2021-10-10T20:08:32.565553",
   "environment_variables": {},
   "exception": null,
   "input_path": "2020-08-11-part2.ipynb",
   "output_path": "2020-08-11-part2.ipynb",
   "parameters": {},
   "start_time": "2021-10-10T20:06:50.447941",
   "version": "2.3.3"
  }
 },
 "nbformat": 4,
 "nbformat_minor": 5
}