{
 "cells": [
  {
   "cell_type": "markdown",
   "id": "98380cd3",
   "metadata": {
    "papermill": {
     "duration": 0.035846,
     "end_time": "2021-09-24T20:07:57.244558",
     "exception": false,
     "start_time": "2021-09-24T20:07:57.208712",
     "status": "completed"
    },
    "tags": []
   },
   "source": [
    "# Distinguish Your Own Digits (DYOD)"
   ]
  },
  {
   "cell_type": "markdown",
   "id": "ef31240d",
   "metadata": {
    "papermill": {
     "duration": 0.028876,
     "end_time": "2021-09-24T20:07:57.304151",
     "exception": false,
     "start_time": "2021-09-24T20:07:57.275275",
     "status": "completed"
    },
    "tags": []
   },
   "source": [
    "You are going to write a classifier that distinguishes between the number 3 and number 8."
   ]
  },
  {
   "cell_type": "code",
   "execution_count": 1,
   "id": "b15c8646",
   "metadata": {
    "execution": {
     "iopub.execute_input": "2021-09-24T20:07:57.371318Z",
     "iopub.status.busy": "2021-09-24T20:07:57.370653Z",
     "iopub.status.idle": "2021-09-24T20:07:57.382105Z",
     "shell.execute_reply": "2021-09-24T20:07:57.381597Z"
    },
    "papermill": {
     "duration": 0.049907,
     "end_time": "2021-09-24T20:07:57.382246",
     "exception": false,
     "start_time": "2021-09-24T20:07:57.332339",
     "status": "completed"
    },
    "tags": []
   },
   "outputs": [],
   "source": [
    "%load_ext autoreload\n",
    "%autoreload 2"
   ]
  },
  {
   "cell_type": "code",
   "execution_count": 2,
   "id": "22ef38dc",
   "metadata": {
    "execution": {
     "iopub.execute_input": "2021-09-24T20:07:57.442028Z",
     "iopub.status.busy": "2021-09-24T20:07:57.441392Z",
     "iopub.status.idle": "2021-09-24T20:07:57.974706Z",
     "shell.execute_reply": "2021-09-24T20:07:57.974176Z"
    },
    "papermill": {
     "duration": 0.5638,
     "end_time": "2021-09-24T20:07:57.974847",
     "exception": false,
     "start_time": "2021-09-24T20:07:57.411047",
     "status": "completed"
    },
    "tags": []
   },
   "outputs": [],
   "source": [
    "%matplotlib inline\n",
    "import numpy as np\n",
    "import matplotlib.pyplot as plt\n",
    "import pandas as pd"
   ]
  },
  {
   "cell_type": "markdown",
   "id": "ba036198",
   "metadata": {
    "papermill": {
     "duration": 0.026659,
     "end_time": "2021-09-24T20:07:58.029741",
     "exception": false,
     "start_time": "2021-09-24T20:07:58.003082",
     "status": "completed"
    },
    "tags": []
   },
   "source": [
    "From the command line run `pip install mnist`. This is a library that will help you bring down the mnist dataset. If you run this from a notebook, you need to put  `!pip install mnist` in a cell by itself."
   ]
  },
  {
   "cell_type": "code",
   "execution_count": 3,
   "id": "bb6ad8a1",
   "metadata": {
    "execution": {
     "iopub.execute_input": "2021-09-24T20:07:58.088342Z",
     "iopub.status.busy": "2021-09-24T20:07:58.087703Z",
     "iopub.status.idle": "2021-09-24T20:07:59.888488Z",
     "shell.execute_reply": "2021-09-24T20:07:59.887773Z"
    },
    "papermill": {
     "duration": 1.832005,
     "end_time": "2021-09-24T20:07:59.888653",
     "exception": false,
     "start_time": "2021-09-24T20:07:58.056648",
     "status": "completed"
    },
    "tags": []
   },
   "outputs": [
    {
     "name": "stdout",
     "output_type": "stream",
     "text": [
      "Collecting mnist\r\n"
     ]
    },
    {
     "name": "stdout",
     "output_type": "stream",
     "text": [
      "  Downloading mnist-0.2.2-py2.py3-none-any.whl (3.5 kB)\r\n",
      "Requirement already satisfied: numpy in /opt/hostedtoolcache/Python/3.6.15/x64/lib/python3.6/site-packages (from mnist) (1.19.5)\r\n"
     ]
    },
    {
     "name": "stdout",
     "output_type": "stream",
     "text": [
      "Installing collected packages: mnist\r\n"
     ]
    },
    {
     "name": "stdout",
     "output_type": "stream",
     "text": [
      "Successfully installed mnist-0.2.2\r\n"
     ]
    }
   ],
   "source": [
    "!pip install mnist"
   ]
  },
  {
   "cell_type": "markdown",
   "id": "69df9c9a",
   "metadata": {
    "papermill": {
     "duration": 0.028247,
     "end_time": "2021-09-24T20:07:59.949093",
     "exception": false,
     "start_time": "2021-09-24T20:07:59.920846",
     "status": "completed"
    },
    "tags": []
   },
   "source": [
    "## Preparing the Data"
   ]
  },
  {
   "cell_type": "code",
   "execution_count": 4,
   "id": "7f69d806",
   "metadata": {
    "execution": {
     "iopub.execute_input": "2021-09-24T20:08:00.018802Z",
     "iopub.status.busy": "2021-09-24T20:08:00.017960Z",
     "iopub.status.idle": "2021-09-24T20:08:00.026999Z",
     "shell.execute_reply": "2021-09-24T20:08:00.027477Z"
    },
    "papermill": {
     "duration": 0.050713,
     "end_time": "2021-09-24T20:08:00.027610",
     "exception": false,
     "start_time": "2021-09-24T20:07:59.976897",
     "status": "completed"
    },
    "tags": []
   },
   "outputs": [],
   "source": [
    "import mnist"
   ]
  },
  {
   "cell_type": "code",
   "execution_count": 5,
   "id": "a411e44f",
   "metadata": {
    "execution": {
     "iopub.execute_input": "2021-09-24T20:08:00.093519Z",
     "iopub.status.busy": "2021-09-24T20:08:00.089250Z",
     "iopub.status.idle": "2021-09-24T20:08:00.645059Z",
     "shell.execute_reply": "2021-09-24T20:08:00.644228Z"
    },
    "papermill": {
     "duration": 0.588681,
     "end_time": "2021-09-24T20:08:00.645202",
     "exception": false,
     "start_time": "2021-09-24T20:08:00.056521",
     "status": "completed"
    },
    "tags": []
   },
   "outputs": [],
   "source": [
    "train_images = mnist.train_images()\n",
    "train_labels = mnist.train_labels()"
   ]
  },
  {
   "cell_type": "code",
   "execution_count": 6,
   "id": "dceab3a5",
   "metadata": {
    "execution": {
     "iopub.execute_input": "2021-09-24T20:08:00.716080Z",
     "iopub.status.busy": "2021-09-24T20:08:00.715453Z",
     "iopub.status.idle": "2021-09-24T20:08:00.729650Z",
     "shell.execute_reply": "2021-09-24T20:08:00.729142Z"
    },
    "papermill": {
     "duration": 0.051378,
     "end_time": "2021-09-24T20:08:00.729772",
     "exception": false,
     "start_time": "2021-09-24T20:08:00.678394",
     "status": "completed"
    },
    "tags": []
   },
   "outputs": [
    {
     "data": {
      "text/plain": [
       "((60000, 28, 28), (60000,))"
      ]
     },
     "execution_count": 6,
     "metadata": {},
     "output_type": "execute_result"
    }
   ],
   "source": [
    "train_images.shape, train_labels.shape"
   ]
  },
  {
   "cell_type": "code",
   "execution_count": 7,
   "id": "f50dc2bb",
   "metadata": {
    "execution": {
     "iopub.execute_input": "2021-09-24T20:08:00.793242Z",
     "iopub.status.busy": "2021-09-24T20:08:00.792614Z",
     "iopub.status.idle": "2021-09-24T20:08:00.970042Z",
     "shell.execute_reply": "2021-09-24T20:08:00.969517Z"
    },
    "papermill": {
     "duration": 0.21163,
     "end_time": "2021-09-24T20:08:00.970185",
     "exception": false,
     "start_time": "2021-09-24T20:08:00.758555",
     "status": "completed"
    },
    "tags": []
   },
   "outputs": [],
   "source": [
    "test_images = mnist.test_images()\n",
    "test_labels = mnist.test_labels()"
   ]
  },
  {
   "cell_type": "code",
   "execution_count": 8,
   "id": "fc38cf1b",
   "metadata": {
    "execution": {
     "iopub.execute_input": "2021-09-24T20:08:01.037397Z",
     "iopub.status.busy": "2021-09-24T20:08:01.036683Z",
     "iopub.status.idle": "2021-09-24T20:08:01.046755Z",
     "shell.execute_reply": "2021-09-24T20:08:01.047610Z"
    },
    "papermill": {
     "duration": 0.048618,
     "end_time": "2021-09-24T20:08:01.047784",
     "exception": false,
     "start_time": "2021-09-24T20:08:00.999166",
     "status": "completed"
    },
    "tags": []
   },
   "outputs": [
    {
     "data": {
      "text/plain": [
       "((10000, 28, 28), (10000,))"
      ]
     },
     "execution_count": 8,
     "metadata": {},
     "output_type": "execute_result"
    }
   ],
   "source": [
    "test_images.shape, test_labels.shape"
   ]
  },
  {
   "cell_type": "code",
   "execution_count": 9,
   "id": "f9ed8fe0",
   "metadata": {
    "execution": {
     "iopub.execute_input": "2021-09-24T20:08:01.118368Z",
     "iopub.status.busy": "2021-09-24T20:08:01.116630Z",
     "iopub.status.idle": "2021-09-24T20:08:01.284988Z",
     "shell.execute_reply": "2021-09-24T20:08:01.285481Z"
    },
    "papermill": {
     "duration": 0.207384,
     "end_time": "2021-09-24T20:08:01.285637",
     "exception": false,
     "start_time": "2021-09-24T20:08:01.078253",
     "status": "completed"
    },
    "tags": []
   },
   "outputs": [
    {
     "name": "stdout",
     "output_type": "stream",
     "text": [
      "2\n"
     ]
    },
    {
     "data": {
      "text/plain": [
       "<matplotlib.image.AxesImage at 0x7ff3a2f00908>"
      ]
     },
     "execution_count": 9,
     "metadata": {},
     "output_type": "execute_result"
    },
    {
     "data": {
      "image/png": "[encoded data removed]",
      "text/plain": [
       "<Figure size 432x288 with 1 Axes>"
      ]
     },
     "metadata": {
      "needs_background": "light"
     },
     "output_type": "display_data"
    }
   ],
   "source": [
    "image_index = 7776 # You may select anything up to 60,000\n",
    "print(train_labels[image_index]) \n",
    "plt.imshow(train_images[image_index], cmap='Greys')"
   ]
  },
  {
   "cell_type": "markdown",
   "id": "a8d2388d",
   "metadata": {
    "papermill": {
     "duration": 0.031209,
     "end_time": "2021-09-24T20:08:01.346998",
     "exception": false,
     "start_time": "2021-09-24T20:08:01.315789",
     "status": "completed"
    },
    "tags": []
   },
   "source": [
    "## Filter data to get 3 and 8 out"
   ]
  },
  {
   "cell_type": "code",
   "execution_count": 10,
   "id": "776f7fc7",
   "metadata": {
    "execution": {
     "iopub.execute_input": "2021-09-24T20:08:01.416734Z",
     "iopub.status.busy": "2021-09-24T20:08:01.413332Z",
     "iopub.status.idle": "2021-09-24T20:08:01.430948Z",
     "shell.execute_reply": "2021-09-24T20:08:01.430278Z"
    },
    "papermill": {
     "duration": 0.054497,
     "end_time": "2021-09-24T20:08:01.431109",
     "exception": false,
     "start_time": "2021-09-24T20:08:01.376612",
     "status": "completed"
    },
    "tags": []
   },
   "outputs": [],
   "source": [
    "train_filter = np.where((train_labels == 3 ) | (train_labels == 8))\n",
    "test_filter = np.where((test_labels == 3) | (test_labels == 8))\n",
    "X_train, y_train = train_images[train_filter], train_labels[train_filter]\n",
    "X_test, y_test = test_images[test_filter], test_labels[test_filter]"
   ]
  },
  {
   "cell_type": "markdown",
   "id": "948f0b7e",
   "metadata": {
    "papermill": {
     "duration": 0.031462,
     "end_time": "2021-09-24T20:08:01.496115",
     "exception": false,
     "start_time": "2021-09-24T20:08:01.464653",
     "status": "completed"
    },
    "tags": []
   },
   "source": [
    "We normalize the pizel values in the 0 to 1 range"
   ]
  },
  {
   "cell_type": "code",
   "execution_count": 11,
   "id": "ee4c2166",
   "metadata": {
    "execution": {
     "iopub.execute_input": "2021-09-24T20:08:01.576714Z",
     "iopub.status.busy": "2021-09-24T20:08:01.561744Z",
     "iopub.status.idle": "2021-09-24T20:08:01.626525Z",
     "shell.execute_reply": "2021-09-24T20:08:01.625972Z"
    },
    "papermill": {
     "duration": 0.100044,
     "end_time": "2021-09-24T20:08:01.626676",
     "exception": false,
     "start_time": "2021-09-24T20:08:01.526632",
     "status": "completed"
    },
    "tags": []
   },
   "outputs": [],
   "source": [
    "X_train = X_train/255.\n",
    "X_test = X_test/255."
   ]
  },
  {
   "cell_type": "markdown",
   "id": "ddcf4fab",
   "metadata": {
    "papermill": {
     "duration": 0.031377,
     "end_time": "2021-09-24T20:08:01.691320",
     "exception": false,
     "start_time": "2021-09-24T20:08:01.659943",
     "status": "completed"
    },
    "tags": []
   },
   "source": [
    "And setup the labels as 1 (when the digit is 3) and 0 (when the digit is 8)"
   ]
  },
  {
   "cell_type": "code",
   "execution_count": 12,
   "id": "7dc908f2",
   "metadata": {
    "execution": {
     "iopub.execute_input": "2021-09-24T20:08:01.764096Z",
     "iopub.status.busy": "2021-09-24T20:08:01.763427Z",
     "iopub.status.idle": "2021-09-24T20:08:01.774510Z",
     "shell.execute_reply": "2021-09-24T20:08:01.775061Z"
    },
    "papermill": {
     "duration": 0.050435,
     "end_time": "2021-09-24T20:08:01.775198",
     "exception": false,
     "start_time": "2021-09-24T20:08:01.724763",
     "status": "completed"
    },
    "tags": []
   },
   "outputs": [],
   "source": [
    "y_train = 1*(y_train==3)\n",
    "y_test = 1*(y_test==3)"
   ]
  },
  {
   "cell_type": "code",
   "execution_count": 13,
   "id": "01e4e969",
   "metadata": {
    "execution": {
     "iopub.execute_input": "2021-09-24T20:08:01.841229Z",
     "iopub.status.busy": "2021-09-24T20:08:01.840646Z",
     "iopub.status.idle": "2021-09-24T20:08:01.851196Z",
     "shell.execute_reply": "2021-09-24T20:08:01.851766Z"
    },
    "papermill": {
     "duration": 0.04725,
     "end_time": "2021-09-24T20:08:01.851895",
     "exception": false,
     "start_time": "2021-09-24T20:08:01.804645",
     "status": "completed"
    },
    "tags": []
   },
   "outputs": [
    {
     "data": {
      "text/plain": [
       "((11982, 28, 28), (1984, 28, 28))"
      ]
     },
     "execution_count": 13,
     "metadata": {},
     "output_type": "execute_result"
    }
   ],
   "source": [
    "X_train.shape, X_test.shape"
   ]
  },
  {
   "cell_type": "markdown",
   "id": "5ccf3f85",
   "metadata": {
    "papermill": {
     "duration": 0.030104,
     "end_time": "2021-09-24T20:08:01.912485",
     "exception": false,
     "start_time": "2021-09-24T20:08:01.882381",
     "status": "completed"
    },
    "tags": []
   },
   "source": [
    "We reshape the data to flatten the image pixels into a set of features or co-variates:"
   ]
  },
  {
   "cell_type": "code",
   "execution_count": 14,
   "id": "5286a4a3",
   "metadata": {
    "execution": {
     "iopub.execute_input": "2021-09-24T20:08:01.978827Z",
     "iopub.status.busy": "2021-09-24T20:08:01.978212Z",
     "iopub.status.idle": "2021-09-24T20:08:01.991083Z",
     "shell.execute_reply": "2021-09-24T20:08:01.991661Z"
    },
    "papermill": {
     "duration": 0.047187,
     "end_time": "2021-09-24T20:08:01.991790",
     "exception": false,
     "start_time": "2021-09-24T20:08:01.944603",
     "status": "completed"
    },
    "tags": []
   },
   "outputs": [
    {
     "data": {
      "text/plain": [
       "((11982, 784), (1984, 784))"
      ]
     },
     "execution_count": 14,
     "metadata": {},
     "output_type": "execute_result"
    }
   ],
   "source": [
    "X_train = X_train.reshape(X_train.shape[0], -1)\n",
    "X_test = X_test.reshape(X_test.shape[0], -1)\n",
    "X_train.shape, X_test.shape"
   ]
  },
  {
   "cell_type": "code",
   "execution_count": 15,
   "id": "73c5f88a",
   "metadata": {
    "execution": {
     "iopub.execute_input": "2021-09-24T20:08:02.060533Z",
     "iopub.status.busy": "2021-09-24T20:08:02.059763Z",
     "iopub.status.idle": "2021-09-24T20:08:02.079171Z",
     "shell.execute_reply": "2021-09-24T20:08:02.079628Z"
    },
    "papermill": {
     "duration": 0.056309,
     "end_time": "2021-09-24T20:08:02.079765",
     "exception": false,
     "start_time": "2021-09-24T20:08:02.023456",
     "status": "completed"
    },
    "tags": []
   },
   "outputs": [],
   "source": [
    "#Impoting functions from 'Kudzu'\n",
    "from kudzu.model import Model\n",
    "from kudzu.train import Learner\n",
    "from kudzu.optim import GD\n",
    "from kudzu.data import Data, Sampler,Dataloader\n",
    "\n",
    "from kudzu.callbacks import AccCallback\n",
    "from kudzu.callbacks import ClfCallback\n",
    "\n",
    "from kudzu.loss import MSE\n",
    "\n",
    "from kudzu.layer import Sigmoid,Relu\n",
    "from kudzu.layer import Affine"
   ]
  },
  {
   "cell_type": "markdown",
   "id": "bc01172a",
   "metadata": {
    "papermill": {
     "duration": 0.031665,
     "end_time": "2021-09-24T20:08:02.142697",
     "exception": false,
     "start_time": "2021-09-24T20:08:02.111032",
     "status": "completed"
    },
    "tags": []
   },
   "source": [
    "### Let us create a `Config` class, to store important parameters. \n",
    "This class essentially plays the role of a dictionary."
   ]
  },
  {
   "cell_type": "code",
   "execution_count": 16,
   "id": "978281aa",
   "metadata": {
    "execution": {
     "iopub.execute_input": "2021-09-24T20:08:02.214366Z",
     "iopub.status.busy": "2021-09-24T20:08:02.213677Z",
     "iopub.status.idle": "2021-09-24T20:08:02.228735Z",
     "shell.execute_reply": "2021-09-24T20:08:02.229247Z"
    },
    "papermill": {
     "duration": 0.055766,
     "end_time": "2021-09-24T20:08:02.229387",
     "exception": false,
     "start_time": "2021-09-24T20:08:02.173621",
     "status": "completed"
    },
    "tags": []
   },
   "outputs": [],
   "source": [
    "class Config:\n",
    "    pass\n",
    "config = Config()\n",
    "config.lr = 0.001\n",
    "config.num_epochs = 250\n",
    "config.bs = 50"
   ]
  },
  {
   "cell_type": "markdown",
   "id": "1385fa59",
   "metadata": {
    "papermill": {
     "duration": 0.030479,
     "end_time": "2021-09-24T20:08:02.293495",
     "exception": false,
     "start_time": "2021-09-24T20:08:02.263016",
     "status": "completed"
    },
    "tags": []
   },
   "source": [
    "### Running Models with the Training data\n",
    "Details about the network layers:\n",
    "- A first affine layer has 784 inputs and does 100 affine transforms. These are followed by a Relu\n",
    "- A second affine layer has 100 inputs from the 100 activations of the past layer, and does 100 affine transforms. These are followed by a Relu\n",
    "- A third affine layer has 100 activations and does 2 affine transformations to create an embedding for visualization. There is no non-linearity here.\n",
    "- A final \"logistic regression\" which has an affine transform from 2 inputs to 1 output, which is squeezed through a sigmoid.\n"
   ]
  },
  {
   "cell_type": "code",
   "execution_count": 17,
   "id": "2b9c66db",
   "metadata": {
    "execution": {
     "iopub.execute_input": "2021-09-24T20:08:02.368572Z",
     "iopub.status.busy": "2021-09-24T20:08:02.367969Z",
     "iopub.status.idle": "2021-09-24T20:08:02.375989Z",
     "shell.execute_reply": "2021-09-24T20:08:02.375453Z"
    },
    "papermill": {
     "duration": 0.05102,
     "end_time": "2021-09-24T20:08:02.376110",
     "exception": false,
     "start_time": "2021-09-24T20:08:02.325090",
     "status": "completed"
    },
    "tags": []
   },
   "outputs": [],
   "source": [
    "data = Data(X_train, y_train.reshape(-1,1))\n",
    "sampler = Sampler(data, config.bs, shuffle=True)\n",
    "\n",
    "dl = Dataloader(data, sampler)\n",
    "\n",
    "opt = GD(config.lr)\n",
    "loss = MSE()"
   ]
  },
  {
   "cell_type": "code",
   "execution_count": 18,
   "id": "b275e4c2",
   "metadata": {
    "execution": {
     "iopub.execute_input": "2021-09-24T20:08:02.451211Z",
     "iopub.status.busy": "2021-09-24T20:08:02.441723Z",
     "iopub.status.idle": "2021-09-24T20:08:02.453413Z",
     "shell.execute_reply": "2021-09-24T20:08:02.453897Z"
    },
    "papermill": {
     "duration": 0.046452,
     "end_time": "2021-09-24T20:08:02.454033",
     "exception": false,
     "start_time": "2021-09-24T20:08:02.407581",
     "status": "completed"
    },
    "tags": []
   },
   "outputs": [],
   "source": [
    "training_data_x = X_train\n",
    "testing_data_x = X_test\n",
    "training_data_y = y_train.reshape(-1,1)\n",
    "testing_data_y = y_test.reshape(-1,1)"
   ]
  },
  {
   "cell_type": "code",
   "execution_count": 19,
   "id": "76951160",
   "metadata": {
    "execution": {
     "iopub.execute_input": "2021-09-24T20:08:02.521886Z",
     "iopub.status.busy": "2021-09-24T20:08:02.521291Z",
     "iopub.status.idle": "2021-09-24T20:08:02.535675Z",
     "shell.execute_reply": "2021-09-24T20:08:02.536318Z"
    },
    "papermill": {
     "duration": 0.051225,
     "end_time": "2021-09-24T20:08:02.536446",
     "exception": false,
     "start_time": "2021-09-24T20:08:02.485221",
     "status": "completed"
    },
    "tags": []
   },
   "outputs": [
    {
     "name": "stdout",
     "output_type": "stream",
     "text": [
      "xavier\n",
      "xavier\n",
      "xavier\n",
      "xavier\n",
      "xavier\n"
     ]
    }
   ],
   "source": [
    "layers = [Affine(\"first\", 784, 100), Relu(\"first\"), Affine(\"second\", 100, 100), Relu(\"second\"), Affine(\"third\", 100, 2), Affine(\"last\", 2, 1), Sigmoid(\"last\")]\n",
    "model_nn = Model(layers)\n",
    "model_lr = Model([Affine(\"logits\", 784, 1), Sigmoid(\"sigmoid\")])"
   ]
  },
  {
   "cell_type": "code",
   "execution_count": 20,
   "id": "6eede77a",
   "metadata": {
    "execution": {
     "iopub.execute_input": "2021-09-24T20:08:02.604152Z",
     "iopub.status.busy": "2021-09-24T20:08:02.603501Z",
     "iopub.status.idle": "2021-09-24T20:08:02.615746Z",
     "shell.execute_reply": "2021-09-24T20:08:02.615242Z"
    },
    "papermill": {
     "duration": 0.04676,
     "end_time": "2021-09-24T20:08:02.615861",
     "exception": false,
     "start_time": "2021-09-24T20:08:02.569101",
     "status": "completed"
    },
    "tags": []
   },
   "outputs": [],
   "source": [
    "nn_learner = Learner(loss, model_nn, opt, config.num_epochs)\n",
    "acc_nn = ClfCallback(nn_learner, config.bs, training_data_x , testing_data_x, training_data_y, testing_data_y)\n",
    "nn_learner.set_callbacks([acc_nn])"
   ]
  },
  {
   "cell_type": "code",
   "execution_count": 21,
   "id": "877b6cc7",
   "metadata": {
    "execution": {
     "iopub.execute_input": "2021-09-24T20:08:02.693476Z",
     "iopub.status.busy": "2021-09-24T20:08:02.687398Z",
     "iopub.status.idle": "2021-09-24T20:08:02.698303Z",
     "shell.execute_reply": "2021-09-24T20:08:02.697801Z"
    },
    "papermill": {
     "duration": 0.051925,
     "end_time": "2021-09-24T20:08:02.698418",
     "exception": false,
     "start_time": "2021-09-24T20:08:02.646493",
     "status": "completed"
    },
    "tags": []
   },
   "outputs": [],
   "source": [
    "lr_learner = Learner(loss, model_lr, opt, config.num_epochs)\n",
    "acc_lr = ClfCallback(lr_learner, config.bs, training_data_x , testing_data_x, training_data_y, testing_data_y)\n",
    "lr_learner.set_callbacks([acc_lr])"
   ]
  },
  {
   "cell_type": "code",
   "execution_count": 22,
   "id": "d9b133c3",
   "metadata": {
    "execution": {
     "iopub.execute_input": "2021-09-24T20:08:02.768892Z",
     "iopub.status.busy": "2021-09-24T20:08:02.768268Z",
     "iopub.status.idle": "2021-09-24T20:10:03.851693Z",
     "shell.execute_reply": "2021-09-24T20:10:03.853253Z"
    },
    "papermill": {
     "duration": 121.120897,
     "end_time": "2021-09-24T20:10:03.853432",
     "exception": false,
     "start_time": "2021-09-24T20:08:02.732535",
     "status": "completed"
    },
    "tags": []
   },
   "outputs": [
    {
     "name": "stdout",
     "output_type": "stream",
     "text": [
      "Epoch 0, Loss 0.2464\n",
      "Training Accuracy: 0.6562, Testing Accuracy: 0.6744\n",
      "\n"
     ]
    },
    {
     "name": "stdout",
     "output_type": "stream",
     "text": [
      "Epoch 10, Loss 0.1638\n",
      "Training Accuracy: 0.8907, Testing Accuracy: 0.9007\n",
      "\n"
     ]
    },
    {
     "name": "stdout",
     "output_type": "stream",
     "text": [
      "Epoch 20, Loss 0.0833\n",
      "Training Accuracy: 0.9211, Testing Accuracy: 0.9299\n",
      "\n"
     ]
    },
    {
     "name": "stdout",
     "output_type": "stream",
     "text": [
      "Epoch 30, Loss 0.0565\n",
      "Training Accuracy: 0.9402, Testing Accuracy: 0.9496\n",
      "\n"
     ]
    },
    {
     "name": "stdout",
     "output_type": "stream",
     "text": [
      "Epoch 40, Loss 0.0453\n",
      "Training Accuracy: 0.9505, Testing Accuracy: 0.9572\n",
      "\n"
     ]
    },
    {
     "name": "stdout",
     "output_type": "stream",
     "text": [
      "Epoch 50, Loss 0.0393\n",
      "Training Accuracy: 0.9556, Testing Accuracy: 0.9602\n",
      "\n"
     ]
    },
    {
     "name": "stdout",
     "output_type": "stream",
     "text": [
      "Epoch 60, Loss 0.0356\n",
      "Training Accuracy: 0.9591, Testing Accuracy: 0.9632\n",
      "\n"
     ]
    },
    {
     "name": "stdout",
     "output_type": "stream",
     "text": [
      "Epoch 70, Loss 0.033\n",
      "Training Accuracy: 0.9619, Testing Accuracy: 0.9672\n",
      "\n"
     ]
    },
    {
     "name": "stdout",
     "output_type": "stream",
     "text": [
      "Epoch 80, Loss 0.0311\n",
      "Training Accuracy: 0.9634, Testing Accuracy: 0.9667\n",
      "\n"
     ]
    },
    {
     "name": "stdout",
     "output_type": "stream",
     "text": [
      "Epoch 90, Loss 0.0295\n",
      "Training Accuracy: 0.9652, Testing Accuracy: 0.9693\n",
      "\n"
     ]
    },
    {
     "name": "stdout",
     "output_type": "stream",
     "text": [
      "Epoch 100, Loss 0.0283\n",
      "Training Accuracy: 0.9670, Testing Accuracy: 0.9698\n",
      "\n"
     ]
    },
    {
     "name": "stdout",
     "output_type": "stream",
     "text": [
      "Epoch 110, Loss 0.0272\n",
      "Training Accuracy: 0.9676, Testing Accuracy: 0.9693\n",
      "\n"
     ]
    },
    {
     "name": "stdout",
     "output_type": "stream",
     "text": [
      "Epoch 120, Loss 0.0263\n",
      "Training Accuracy: 0.9689, Testing Accuracy: 0.9693\n",
      "\n"
     ]
    },
    {
     "name": "stdout",
     "output_type": "stream",
     "text": [
      "Epoch 130, Loss 0.0255\n",
      "Training Accuracy: 0.9700, Testing Accuracy: 0.9693\n",
      "\n"
     ]
    },
    {
     "name": "stdout",
     "output_type": "stream",
     "text": [
      "Epoch 140, Loss 0.0248\n",
      "Training Accuracy: 0.9707, Testing Accuracy: 0.9698\n",
      "\n"
     ]
    },
    {
     "name": "stdout",
     "output_type": "stream",
     "text": [
      "Epoch 150, Loss 0.0242\n",
      "Training Accuracy: 0.9725, Testing Accuracy: 0.9698\n",
      "\n"
     ]
    },
    {
     "name": "stdout",
     "output_type": "stream",
     "text": [
      "Epoch 160, Loss 0.0236\n",
      "Training Accuracy: 0.9733, Testing Accuracy: 0.9703\n",
      "\n"
     ]
    },
    {
     "name": "stdout",
     "output_type": "stream",
     "text": [
      "Epoch 170, Loss 0.023\n",
      "Training Accuracy: 0.9740, Testing Accuracy: 0.9693\n",
      "\n"
     ]
    },
    {
     "name": "stdout",
     "output_type": "stream",
     "text": [
      "Epoch 180, Loss 0.0225\n",
      "Training Accuracy: 0.9745, Testing Accuracy: 0.9693\n",
      "\n"
     ]
    },
    {
     "name": "stdout",
     "output_type": "stream",
     "text": [
      "Epoch 190, Loss 0.022\n",
      "Training Accuracy: 0.9750, Testing Accuracy: 0.9688\n",
      "\n"
     ]
    },
    {
     "name": "stdout",
     "output_type": "stream",
     "text": [
      "Epoch 200, Loss 0.0215\n",
      "Training Accuracy: 0.9758, Testing Accuracy: 0.9688\n",
      "\n"
     ]
    },
    {
     "name": "stdout",
     "output_type": "stream",
     "text": [
      "Epoch 210, Loss 0.0211\n",
      "Training Accuracy: 0.9764, Testing Accuracy: 0.9698\n",
      "\n"
     ]
    },
    {
     "name": "stdout",
     "output_type": "stream",
     "text": [
      "Epoch 220, Loss 0.0207\n",
      "Training Accuracy: 0.9770, Testing Accuracy: 0.9698\n",
      "\n"
     ]
    },
    {
     "name": "stdout",
     "output_type": "stream",
     "text": [
      "Epoch 230, Loss 0.0203\n",
      "Training Accuracy: 0.9777, Testing Accuracy: 0.9698\n",
      "\n"
     ]
    },
    {
     "name": "stdout",
     "output_type": "stream",
     "text": [
      "Epoch 240, Loss 0.0199\n",
      "Training Accuracy: 0.9778, Testing Accuracy: 0.9703\n",
      "\n"
     ]
    },
    {
     "data": {
      "text/plain": [
       "0.052970885339819584"
      ]
     },
     "execution_count": 22,
     "metadata": {},
     "output_type": "execute_result"
    }
   ],
   "source": [
    "nn_learner.train_loop(dl)"
   ]
  },
  {
   "cell_type": "code",
   "execution_count": 23,
   "id": "e0163366",
   "metadata": {
    "execution": {
     "iopub.execute_input": "2021-09-24T20:10:03.945569Z",
     "iopub.status.busy": "2021-09-24T20:10:03.944976Z",
     "iopub.status.idle": "2021-09-24T20:10:21.532898Z",
     "shell.execute_reply": "2021-09-24T20:10:21.533784Z"
    },
    "papermill": {
     "duration": 17.63885,
     "end_time": "2021-09-24T20:10:21.534058",
     "exception": false,
     "start_time": "2021-09-24T20:10:03.895208",
     "status": "completed"
    },
    "tags": []
   },
   "outputs": [
    {
     "name": "stdout",
     "output_type": "stream",
     "text": [
      "Epoch 0, Loss 0.236\n",
      "Training Accuracy: 0.7210, Testing Accuracy: 0.7571\n",
      "\n"
     ]
    },
    {
     "name": "stdout",
     "output_type": "stream",
     "text": [
      "Epoch 10, Loss 0.0982\n",
      "Training Accuracy: 0.9231, Testing Accuracy: 0.9365\n",
      "\n"
     ]
    },
    {
     "name": "stdout",
     "output_type": "stream",
     "text": [
      "Epoch 20, Loss 0.076\n",
      "Training Accuracy: 0.9340, Testing Accuracy: 0.9461\n",
      "\n"
     ]
    },
    {
     "name": "stdout",
     "output_type": "stream",
     "text": [
      "Epoch 30, Loss 0.0659\n",
      "Training Accuracy: 0.9409, Testing Accuracy: 0.9526\n",
      "\n"
     ]
    },
    {
     "name": "stdout",
     "output_type": "stream",
     "text": [
      "Epoch 40, Loss 0.0598\n",
      "Training Accuracy: 0.9450, Testing Accuracy: 0.9536\n",
      "\n"
     ]
    },
    {
     "name": "stdout",
     "output_type": "stream",
     "text": [
      "Epoch 50, Loss 0.0557\n",
      "Training Accuracy: 0.9479, Testing Accuracy: 0.9572\n",
      "\n"
     ]
    },
    {
     "name": "stdout",
     "output_type": "stream",
     "text": [
      "Epoch 60, Loss 0.0526\n",
      "Training Accuracy: 0.9503, Testing Accuracy: 0.9587\n",
      "\n"
     ]
    },
    {
     "name": "stdout",
     "output_type": "stream",
     "text": [
      "Epoch 70, Loss 0.0502\n",
      "Training Accuracy: 0.9523, Testing Accuracy: 0.9607\n",
      "\n"
     ]
    },
    {
     "name": "stdout",
     "output_type": "stream",
     "text": [
      "Epoch 80, Loss 0.0483\n",
      "Training Accuracy: 0.9532, Testing Accuracy: 0.9627\n",
      "\n"
     ]
    },
    {
     "name": "stdout",
     "output_type": "stream",
     "text": [
      "Epoch 90, Loss 0.0467\n",
      "Training Accuracy: 0.9546, Testing Accuracy: 0.9627\n",
      "\n"
     ]
    },
    {
     "name": "stdout",
     "output_type": "stream",
     "text": [
      "Epoch 100, Loss 0.0454\n",
      "Training Accuracy: 0.9553, Testing Accuracy: 0.9637\n",
      "\n"
     ]
    },
    {
     "name": "stdout",
     "output_type": "stream",
     "text": [
      "Epoch 110, Loss 0.0442\n",
      "Training Accuracy: 0.9564, Testing Accuracy: 0.9637\n",
      "\n"
     ]
    },
    {
     "name": "stdout",
     "output_type": "stream",
     "text": [
      "Epoch 120, Loss 0.0432\n",
      "Training Accuracy: 0.9567, Testing Accuracy: 0.9647\n",
      "\n"
     ]
    },
    {
     "name": "stdout",
     "output_type": "stream",
     "text": [
      "Epoch 130, Loss 0.0424\n",
      "Training Accuracy: 0.9575, Testing Accuracy: 0.9652\n",
      "\n"
     ]
    },
    {
     "name": "stdout",
     "output_type": "stream",
     "text": [
      "Epoch 140, Loss 0.0416\n",
      "Training Accuracy: 0.9581, Testing Accuracy: 0.9657\n",
      "\n"
     ]
    },
    {
     "name": "stdout",
     "output_type": "stream",
     "text": [
      "Epoch 150, Loss 0.0409\n",
      "Training Accuracy: 0.9584, Testing Accuracy: 0.9657\n",
      "\n"
     ]
    },
    {
     "name": "stdout",
     "output_type": "stream",
     "text": [
      "Epoch 160, Loss 0.0402\n",
      "Training Accuracy: 0.9587, Testing Accuracy: 0.9657\n",
      "\n"
     ]
    },
    {
     "name": "stdout",
     "output_type": "stream",
     "text": [
      "Epoch 170, Loss 0.0396\n",
      "Training Accuracy: 0.9593, Testing Accuracy: 0.9657\n",
      "\n"
     ]
    },
    {
     "name": "stdout",
     "output_type": "stream",
     "text": [
      "Epoch 180, Loss 0.0391\n",
      "Training Accuracy: 0.9594, Testing Accuracy: 0.9652\n",
      "\n"
     ]
    },
    {
     "name": "stdout",
     "output_type": "stream",
     "text": [
      "Epoch 190, Loss 0.0386\n",
      "Training Accuracy: 0.9598, Testing Accuracy: 0.9657\n",
      "\n"
     ]
    },
    {
     "name": "stdout",
     "output_type": "stream",
     "text": [
      "Epoch 200, Loss 0.0381\n",
      "Training Accuracy: 0.9602, Testing Accuracy: 0.9672\n",
      "\n"
     ]
    },
    {
     "name": "stdout",
     "output_type": "stream",
     "text": [
      "Epoch 210, Loss 0.0377\n",
      "Training Accuracy: 0.9603, Testing Accuracy: 0.9672\n",
      "\n"
     ]
    },
    {
     "name": "stdout",
     "output_type": "stream",
     "text": [
      "Epoch 220, Loss 0.0373\n",
      "Training Accuracy: 0.9604, Testing Accuracy: 0.9677\n",
      "\n"
     ]
    },
    {
     "name": "stdout",
     "output_type": "stream",
     "text": [
      "Epoch 230, Loss 0.037\n",
      "Training Accuracy: 0.9607, Testing Accuracy: 0.9682\n",
      "\n"
     ]
    },
    {
     "name": "stdout",
     "output_type": "stream",
     "text": [
      "Epoch 240, Loss 0.0366\n",
      "Training Accuracy: 0.9607, Testing Accuracy: 0.9682\n",
      "\n"
     ]
    },
    {
     "data": {
      "text/plain": [
       "0.017020739902713123"
      ]
     },
     "execution_count": 23,
     "metadata": {},
     "output_type": "execute_result"
    }
   ],
   "source": [
    "lr_learner.train_loop(dl)"
   ]
  },
  {
   "cell_type": "code",
   "execution_count": 24,
   "id": "ca410940",
   "metadata": {
    "execution": {
     "iopub.execute_input": "2021-09-24T20:10:21.648913Z",
     "iopub.status.busy": "2021-09-24T20:10:21.648313Z",
     "iopub.status.idle": "2021-09-24T20:10:21.920317Z",
     "shell.execute_reply": "2021-09-24T20:10:21.919795Z"
    },
    "papermill": {
     "duration": 0.335165,
     "end_time": "2021-09-24T20:10:21.920456",
     "exception": false,
     "start_time": "2021-09-24T20:10:21.585291",
     "status": "completed"
    },
    "tags": []
   },
   "outputs": [
    {
     "data": {
      "text/plain": [
       "<matplotlib.legend.Legend at 0x7ff3956d69b0>"
      ]
     },
     "execution_count": 24,
     "metadata": {},
     "output_type": "execute_result"
    },
    {
     "data": {
      "image/png": "[encoded data removed]",
      "text/plain": [
       "<Figure size 1080x720 with 1 Axes>"
      ]
     },
     "metadata": {
      "needs_background": "light"
     },
     "output_type": "display_data"
    }
   ],
   "source": [
    "#comparing the results of NN and LR\n",
    "plt.figure(figsize=(15,10))\n",
    "\n",
    "# Neural Network plots\n",
    "plt.plot(acc_nn.accuracies, 'r-', label = \"Training Accuracies - NN\")\n",
    "plt.plot(acc_nn.test_accuracies, 'g-', label = \"Testing Accuracies - NN\")\n",
    "\n",
    "# Logistic Regression plots\n",
    "plt.plot(acc_lr.accuracies, 'k-', label = \"Training Accuracies - LR\")\n",
    "plt.plot(acc_lr.test_accuracies, 'b-', label = \"Testing Accuracies - LR\")\n",
    "plt.legend()"
   ]
  },
  {
   "cell_type": "markdown",
   "id": "80dfb35c",
   "metadata": {
    "papermill": {
     "duration": 0.049333,
     "end_time": "2021-09-24T20:10:22.018130",
     "exception": false,
     "start_time": "2021-09-24T20:10:21.968797",
     "status": "completed"
    },
    "tags": []
   },
   "source": [
    "#### Plotting the outputs of this layer of the NN.\n"
   ]
  },
  {
   "cell_type": "code",
   "execution_count": 25,
   "id": "45eb2ff5",
   "metadata": {
    "execution": {
     "iopub.execute_input": "2021-09-24T20:10:22.129743Z",
     "iopub.status.busy": "2021-09-24T20:10:22.125681Z",
     "iopub.status.idle": "2021-09-24T20:10:22.150683Z",
     "shell.execute_reply": "2021-09-24T20:10:22.151181Z"
    },
    "papermill": {
     "duration": 0.081149,
     "end_time": "2021-09-24T20:10:22.151339",
     "exception": false,
     "start_time": "2021-09-24T20:10:22.070190",
     "status": "completed"
    },
    "tags": []
   },
   "outputs": [],
   "source": [
    "new_model = Model(layers[:-2])\n",
    "testing_plot = new_model(testing_data_x)"
   ]
  },
  {
   "cell_type": "code",
   "execution_count": 26,
   "id": "4c0a5485",
   "metadata": {
    "execution": {
     "iopub.execute_input": "2021-09-24T20:10:22.265247Z",
     "iopub.status.busy": "2021-09-24T20:10:22.264650Z",
     "iopub.status.idle": "2021-09-24T20:10:22.482855Z",
     "shell.execute_reply": "2021-09-24T20:10:22.482087Z"
    },
    "papermill": {
     "duration": 0.27834,
     "end_time": "2021-09-24T20:10:22.482991",
     "exception": false,
     "start_time": "2021-09-24T20:10:22.204651",
     "status": "completed"
    },
    "tags": []
   },
   "outputs": [
    {
     "data": {
      "text/plain": [
       "Text(0.5, 1.0, 'Outputs')"
      ]
     },
     "execution_count": 26,
     "metadata": {},
     "output_type": "execute_result"
    },
    {
     "data": {
      "image/png": "[encoded data removed]",
      "text/plain": [
       "<Figure size 576x504 with 1 Axes>"
      ]
     },
     "metadata": {
      "needs_background": "light"
     },
     "output_type": "display_data"
    }
   ],
   "source": [
    "# Plotting the scatter plot of points and color coding by class\n",
    "plt.figure(figsize=(8,7))\n",
    "plt.scatter(testing_plot[:,0], testing_plot[:,1], alpha = 0.1, c = y_test.ravel());\n",
    "plt.title('Outputs')"
   ]
  },
  {
   "cell_type": "markdown",
   "id": "a74fcf8f",
   "metadata": {
    "papermill": {
     "duration": 0.054305,
     "end_time": "2021-09-24T20:10:22.591475",
     "exception": false,
     "start_time": "2021-09-24T20:10:22.537170",
     "status": "completed"
    },
    "tags": []
   },
   "source": [
    "Probability contours"
   ]
  },
  {
   "cell_type": "code",
   "execution_count": 27,
   "id": "d0afc8e3",
   "metadata": {
    "execution": {
     "iopub.execute_input": "2021-09-24T20:10:22.726000Z",
     "iopub.status.busy": "2021-09-24T20:10:22.725378Z",
     "iopub.status.idle": "2021-09-24T20:10:22.738150Z",
     "shell.execute_reply": "2021-09-24T20:10:22.738743Z"
    },
    "papermill": {
     "duration": 0.091793,
     "end_time": "2021-09-24T20:10:22.738912",
     "exception": false,
     "start_time": "2021-09-24T20:10:22.647119",
     "status": "completed"
    },
    "tags": []
   },
   "outputs": [],
   "source": [
    "model_prob = Model(layers[-2:]) "
   ]
  },
  {
   "cell_type": "code",
   "execution_count": 28,
   "id": "9b96e238",
   "metadata": {
    "execution": {
     "iopub.execute_input": "2021-09-24T20:10:22.859703Z",
     "iopub.status.busy": "2021-09-24T20:10:22.856157Z",
     "iopub.status.idle": "2021-09-24T20:10:22.871473Z",
     "shell.execute_reply": "2021-09-24T20:10:22.871972Z"
    },
    "papermill": {
     "duration": 0.076692,
     "end_time": "2021-09-24T20:10:22.872121",
     "exception": false,
     "start_time": "2021-09-24T20:10:22.795429",
     "status": "completed"
    },
    "tags": []
   },
   "outputs": [],
   "source": [
    "#creating the x and y ranges according to the above generated plot.\n",
    "x_range = np.linspace(-4, 1, 100) \n",
    "y_range = np.linspace(-6, 6, 100) \n",
    "x_grid, y_grid = np.meshgrid(x_range, y_range) # x_grid and y_grig are of size 100 X 100\n",
    "\n",
    "# converting x_grid and y_grid to continuous arrays\n",
    "x_gridflat = np.ravel(x_grid)\n",
    "y_gridflat = np.ravel(y_grid)\n",
    "\n",
    "# The last layer of the current model takes two columns as input. Hence transpose of np.vstack() is required.\n",
    "X = np.vstack((x_gridflat, y_gridflat)).T\n",
    "\n",
    "prob_contour = model_prob(X).reshape(100,100) "
   ]
  },
  {
   "cell_type": "code",
   "execution_count": 29,
   "id": "da72499a",
   "metadata": {
    "execution": {
     "iopub.execute_input": "2021-09-24T20:10:23.013744Z",
     "iopub.status.busy": "2021-09-24T20:10:22.995596Z",
     "iopub.status.idle": "2021-09-24T20:10:23.289491Z",
     "shell.execute_reply": "2021-09-24T20:10:23.289954Z"
    },
    "papermill": {
     "duration": 0.361578,
     "end_time": "2021-09-24T20:10:23.290115",
     "exception": false,
     "start_time": "2021-09-24T20:10:22.928537",
     "status": "completed"
    },
    "tags": []
   },
   "outputs": [
    {
     "data": {
      "image/png": "[encoded data removed]",
      "text/plain": [
       "<Figure size 720x648 with 1 Axes>"
      ]
     },
     "metadata": {
      "needs_background": "light"
     },
     "output_type": "display_data"
    }
   ],
   "source": [
    "plt.figure(figsize=(10,9))\n",
    "plt.scatter(testing_plot[:,0], testing_plot[:,1], alpha = 0.1, c = y_test.ravel())\n",
    "contours = plt.contour(x_grid,y_grid,prob_contour)\n",
    "plt.title('Probability Contours')\n",
    "plt.clabel(contours, inline = True );"
   ]
  },
  {
   "cell_type": "code",
   "execution_count": null,
   "id": "e81b4ac7",
   "metadata": {
    "papermill": {
     "duration": 0.051737,
     "end_time": "2021-09-24T20:10:23.394235",
     "exception": false,
     "start_time": "2021-09-24T20:10:23.342498",
     "status": "completed"
    },
    "tags": []
   },
   "outputs": [],
   "source": []
  }
 ],
 "metadata": {
  "kernelspec": {
   "display_name": "Python 3",
   "language": "python",
   "name": "python3"
  },
  "language_info": {
   "codemirror_mode": {
    "name": "ipython",
    "version": 3
   },
   "file_extension": ".py",
   "mimetype": "text/x-python",
   "name": "python",
   "nbconvert_exporter": "python",
   "pygments_lexer": "ipython3",
   "version": "3.6.15"
  },
  "papermill": {
   "default_parameters": {},
   "duration": 147.714295,
   "end_time": "2021-09-24T20:10:23.857242",
   "environment_variables": {},
   "exception": null,
   "input_path": "2020-08-11-part2.ipynb",
   "output_path": "2020-08-11-part2.ipynb",
   "parameters": {},
   "start_time": "2021-09-24T20:07:56.142947",
   "version": "2.3.3"
  }
 },
 "nbformat": 4,
 "nbformat_minor": 5
}