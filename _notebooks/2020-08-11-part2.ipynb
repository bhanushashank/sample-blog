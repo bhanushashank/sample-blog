{
 "cells": [
  {
   "cell_type": "markdown",
   "id": "98380cd3",
   "metadata": {
    "papermill": {
     "duration": 0.039408,
     "end_time": "2022-01-21T20:08:35.910229",
     "exception": false,
     "start_time": "2022-01-21T20:08:35.870821",
     "status": "completed"
    },
    "tags": []
   },
   "source": [
    "# Distinguish Your Own Digits (DYOD)"
   ]
  },
  {
   "cell_type": "markdown",
   "id": "ef31240d",
   "metadata": {
    "papermill": {
     "duration": 0.034412,
     "end_time": "2022-01-21T20:08:35.979161",
     "exception": false,
     "start_time": "2022-01-21T20:08:35.944749",
     "status": "completed"
    },
    "tags": []
   },
   "source": [
    "You are going to write a classifier that distinguishes between the number 3 and number 8."
   ]
  },
  {
   "cell_type": "code",
   "execution_count": 1,
   "id": "b15c8646",
   "metadata": {
    "execution": {
     "iopub.execute_input": "2022-01-21T20:08:36.062532Z",
     "iopub.status.busy": "2022-01-21T20:08:36.061726Z",
     "iopub.status.idle": "2022-01-21T20:08:36.073851Z",
     "shell.execute_reply": "2022-01-21T20:08:36.074418Z"
    },
    "papermill": {
     "duration": 0.061708,
     "end_time": "2022-01-21T20:08:36.074593",
     "exception": false,
     "start_time": "2022-01-21T20:08:36.012885",
     "status": "completed"
    },
    "tags": []
   },
   "outputs": [],
   "source": [
    "%load_ext autoreload\n",
    "%autoreload 2"
   ]
  },
  {
   "cell_type": "code",
   "execution_count": 2,
   "id": "22ef38dc",
   "metadata": {
    "execution": {
     "iopub.execute_input": "2022-01-21T20:08:36.148610Z",
     "iopub.status.busy": "2022-01-21T20:08:36.147851Z",
     "iopub.status.idle": "2022-01-21T20:08:36.920287Z",
     "shell.execute_reply": "2022-01-21T20:08:36.919664Z"
    },
    "papermill": {
     "duration": 0.812002,
     "end_time": "2022-01-21T20:08:36.920498",
     "exception": false,
     "start_time": "2022-01-21T20:08:36.108496",
     "status": "completed"
    },
    "tags": []
   },
   "outputs": [],
   "source": [
    "%matplotlib inline\n",
    "import numpy as np\n",
    "import matplotlib.pyplot as plt\n",
    "import pandas as pd"
   ]
  },
  {
   "cell_type": "markdown",
   "id": "ba036198",
   "metadata": {
    "papermill": {
     "duration": 0.033926,
     "end_time": "2022-01-21T20:08:36.988332",
     "exception": false,
     "start_time": "2022-01-21T20:08:36.954406",
     "status": "completed"
    },
    "tags": []
   },
   "source": [
    "From the command line run `pip install mnist`. This is a library that will help you bring down the mnist dataset. If you run this from a notebook, you need to put  `!pip install mnist` in a cell by itself."
   ]
  },
  {
   "cell_type": "code",
   "execution_count": 3,
   "id": "bb6ad8a1",
   "metadata": {
    "execution": {
     "iopub.execute_input": "2022-01-21T20:08:37.059794Z",
     "iopub.status.busy": "2022-01-21T20:08:37.059030Z",
     "iopub.status.idle": "2022-01-21T20:08:39.271872Z",
     "shell.execute_reply": "2022-01-21T20:08:39.270685Z"
    },
    "papermill": {
     "duration": 2.251552,
     "end_time": "2022-01-21T20:08:39.272026",
     "exception": false,
     "start_time": "2022-01-21T20:08:37.020474",
     "status": "completed"
    },
    "tags": []
   },
   "outputs": [
    {
     "name": "stdout",
     "output_type": "stream",
     "text": [
      "Collecting mnist\r\n"
     ]
    },
    {
     "name": "stdout",
     "output_type": "stream",
     "text": [
      "  Downloading mnist-0.2.2-py2.py3-none-any.whl (3.5 kB)\r\n",
      "Requirement already satisfied: numpy in /opt/hostedtoolcache/Python/3.6.15/x64/lib/python3.6/site-packages (from mnist) (1.19.5)\r\n"
     ]
    },
    {
     "name": "stdout",
     "output_type": "stream",
     "text": [
      "Installing collected packages: mnist\r\n"
     ]
    },
    {
     "name": "stdout",
     "output_type": "stream",
     "text": [
      "Successfully installed mnist-0.2.2\r\n"
     ]
    }
   ],
   "source": [
    "!pip install mnist"
   ]
  },
  {
   "cell_type": "markdown",
   "id": "69df9c9a",
   "metadata": {
    "papermill": {
     "duration": 0.036896,
     "end_time": "2022-01-21T20:08:39.344456",
     "exception": false,
     "start_time": "2022-01-21T20:08:39.307560",
     "status": "completed"
    },
    "tags": []
   },
   "source": [
    "## Preparing the Data"
   ]
  },
  {
   "cell_type": "code",
   "execution_count": 4,
   "id": "7f69d806",
   "metadata": {
    "execution": {
     "iopub.execute_input": "2022-01-21T20:08:39.420456Z",
     "iopub.status.busy": "2022-01-21T20:08:39.418888Z",
     "iopub.status.idle": "2022-01-21T20:08:39.436348Z",
     "shell.execute_reply": "2022-01-21T20:08:39.436958Z"
    },
    "papermill": {
     "duration": 0.057818,
     "end_time": "2022-01-21T20:08:39.437146",
     "exception": false,
     "start_time": "2022-01-21T20:08:39.379328",
     "status": "completed"
    },
    "tags": []
   },
   "outputs": [],
   "source": [
    "import mnist"
   ]
  },
  {
   "cell_type": "code",
   "execution_count": 5,
   "id": "a411e44f",
   "metadata": {
    "execution": {
     "iopub.execute_input": "2022-01-21T20:08:39.512458Z",
     "iopub.status.busy": "2022-01-21T20:08:39.509818Z",
     "iopub.status.idle": "2022-01-21T20:08:40.153945Z",
     "shell.execute_reply": "2022-01-21T20:08:40.153279Z"
    },
    "papermill": {
     "duration": 0.681905,
     "end_time": "2022-01-21T20:08:40.154134",
     "exception": false,
     "start_time": "2022-01-21T20:08:39.472229",
     "status": "completed"
    },
    "tags": []
   },
   "outputs": [],
   "source": [
    "train_images = mnist.train_images()\n",
    "train_labels = mnist.train_labels()"
   ]
  },
  {
   "cell_type": "code",
   "execution_count": 6,
   "id": "dceab3a5",
   "metadata": {
    "execution": {
     "iopub.execute_input": "2022-01-21T20:08:40.228180Z",
     "iopub.status.busy": "2022-01-21T20:08:40.227485Z",
     "iopub.status.idle": "2022-01-21T20:08:40.245244Z",
     "shell.execute_reply": "2022-01-21T20:08:40.245749Z"
    },
    "papermill": {
     "duration": 0.056571,
     "end_time": "2022-01-21T20:08:40.245942",
     "exception": false,
     "start_time": "2022-01-21T20:08:40.189371",
     "status": "completed"
    },
    "tags": []
   },
   "outputs": [
    {
     "data": {
      "text/plain": [
       "((60000, 28, 28), (60000,))"
      ]
     },
     "execution_count": 6,
     "metadata": {},
     "output_type": "execute_result"
    }
   ],
   "source": [
    "train_images.shape, train_labels.shape"
   ]
  },
  {
   "cell_type": "code",
   "execution_count": 7,
   "id": "f50dc2bb",
   "metadata": {
    "execution": {
     "iopub.execute_input": "2022-01-21T20:08:40.321750Z",
     "iopub.status.busy": "2022-01-21T20:08:40.320955Z",
     "iopub.status.idle": "2022-01-21T20:08:40.475726Z",
     "shell.execute_reply": "2022-01-21T20:08:40.474882Z"
    },
    "papermill": {
     "duration": 0.194033,
     "end_time": "2022-01-21T20:08:40.475875",
     "exception": false,
     "start_time": "2022-01-21T20:08:40.281842",
     "status": "completed"
    },
    "tags": []
   },
   "outputs": [],
   "source": [
    "test_images = mnist.test_images()\n",
    "test_labels = mnist.test_labels()"
   ]
  },
  {
   "cell_type": "code",
   "execution_count": 8,
   "id": "fc38cf1b",
   "metadata": {
    "execution": {
     "iopub.execute_input": "2022-01-21T20:08:40.553809Z",
     "iopub.status.busy": "2022-01-21T20:08:40.552772Z",
     "iopub.status.idle": "2022-01-21T20:08:40.568530Z",
     "shell.execute_reply": "2022-01-21T20:08:40.569235Z"
    },
    "papermill": {
     "duration": 0.056481,
     "end_time": "2022-01-21T20:08:40.569480",
     "exception": false,
     "start_time": "2022-01-21T20:08:40.512999",
     "status": "completed"
    },
    "tags": []
   },
   "outputs": [
    {
     "data": {
      "text/plain": [
       "((10000, 28, 28), (10000,))"
      ]
     },
     "execution_count": 8,
     "metadata": {},
     "output_type": "execute_result"
    }
   ],
   "source": [
    "test_images.shape, test_labels.shape"
   ]
  },
  {
   "cell_type": "code",
   "execution_count": 9,
   "id": "f9ed8fe0",
   "metadata": {
    "execution": {
     "iopub.execute_input": "2022-01-21T20:08:40.648990Z",
     "iopub.status.busy": "2022-01-21T20:08:40.648008Z",
     "iopub.status.idle": "2022-01-21T20:08:40.862807Z",
     "shell.execute_reply": "2022-01-21T20:08:40.863832Z"
    },
    "papermill": {
     "duration": 0.255298,
     "end_time": "2022-01-21T20:08:40.864001",
     "exception": false,
     "start_time": "2022-01-21T20:08:40.608703",
     "status": "completed"
    },
    "tags": []
   },
   "outputs": [
    {
     "name": "stdout",
     "output_type": "stream",
     "text": [
      "2\n"
     ]
    },
    {
     "data": {
      "text/plain": [
       "<matplotlib.image.AxesImage at 0x7fb140059b00>"
      ]
     },
     "execution_count": 9,
     "metadata": {},
     "output_type": "execute_result"
    },
    {
     "data": {
      "image/png": "[encoded data removed]",
      "text/plain": [
       "<Figure size 432x288 with 1 Axes>"
      ]
     },
     "metadata": {
      "needs_background": "light"
     },
     "output_type": "display_data"
    }
   ],
   "source": [
    "image_index = 7776 # You may select anything up to 60,000\n",
    "print(train_labels[image_index]) \n",
    "plt.imshow(train_images[image_index], cmap='Greys')"
   ]
  },
  {
   "cell_type": "markdown",
   "id": "a8d2388d",
   "metadata": {
    "papermill": {
     "duration": 0.037517,
     "end_time": "2022-01-21T20:08:40.944984",
     "exception": false,
     "start_time": "2022-01-21T20:08:40.907467",
     "status": "completed"
    },
    "tags": []
   },
   "source": [
    "## Filter data to get 3 and 8 out"
   ]
  },
  {
   "cell_type": "code",
   "execution_count": 10,
   "id": "776f7fc7",
   "metadata": {
    "execution": {
     "iopub.execute_input": "2022-01-21T20:08:41.027098Z",
     "iopub.status.busy": "2022-01-21T20:08:41.026320Z",
     "iopub.status.idle": "2022-01-21T20:08:41.055804Z",
     "shell.execute_reply": "2022-01-21T20:08:41.055113Z"
    },
    "papermill": {
     "duration": 0.072007,
     "end_time": "2022-01-21T20:08:41.055962",
     "exception": false,
     "start_time": "2022-01-21T20:08:40.983955",
     "status": "completed"
    },
    "tags": []
   },
   "outputs": [],
   "source": [
    "train_filter = np.where((train_labels == 3 ) | (train_labels == 8))\n",
    "test_filter = np.where((test_labels == 3) | (test_labels == 8))\n",
    "X_train, y_train = train_images[train_filter], train_labels[train_filter]\n",
    "X_test, y_test = test_images[test_filter], test_labels[test_filter]"
   ]
  },
  {
   "cell_type": "markdown",
   "id": "948f0b7e",
   "metadata": {
    "papermill": {
     "duration": 0.037618,
     "end_time": "2022-01-21T20:08:41.137233",
     "exception": false,
     "start_time": "2022-01-21T20:08:41.099615",
     "status": "completed"
    },
    "tags": []
   },
   "source": [
    "We normalize the pizel values in the 0 to 1 range"
   ]
  },
  {
   "cell_type": "code",
   "execution_count": 11,
   "id": "ee4c2166",
   "metadata": {
    "execution": {
     "iopub.execute_input": "2022-01-21T20:08:41.217185Z",
     "iopub.status.busy": "2022-01-21T20:08:41.216402Z",
     "iopub.status.idle": "2022-01-21T20:08:41.286172Z",
     "shell.execute_reply": "2022-01-21T20:08:41.286803Z"
    },
    "papermill": {
     "duration": 0.112302,
     "end_time": "2022-01-21T20:08:41.287005",
     "exception": false,
     "start_time": "2022-01-21T20:08:41.174703",
     "status": "completed"
    },
    "tags": []
   },
   "outputs": [],
   "source": [
    "X_train = X_train/255.\n",
    "X_test = X_test/255."
   ]
  },
  {
   "cell_type": "markdown",
   "id": "ddcf4fab",
   "metadata": {
    "papermill": {
     "duration": 0.037733,
     "end_time": "2022-01-21T20:08:41.364442",
     "exception": false,
     "start_time": "2022-01-21T20:08:41.326709",
     "status": "completed"
    },
    "tags": []
   },
   "source": [
    "And setup the labels as 1 (when the digit is 3) and 0 (when the digit is 8)"
   ]
  },
  {
   "cell_type": "code",
   "execution_count": 12,
   "id": "7dc908f2",
   "metadata": {
    "execution": {
     "iopub.execute_input": "2022-01-21T20:08:41.444363Z",
     "iopub.status.busy": "2022-01-21T20:08:41.443673Z",
     "iopub.status.idle": "2022-01-21T20:08:41.458739Z",
     "shell.execute_reply": "2022-01-21T20:08:41.457953Z"
    },
    "papermill": {
     "duration": 0.056199,
     "end_time": "2022-01-21T20:08:41.458865",
     "exception": false,
     "start_time": "2022-01-21T20:08:41.402666",
     "status": "completed"
    },
    "tags": []
   },
   "outputs": [],
   "source": [
    "y_train = 1*(y_train==3)\n",
    "y_test = 1*(y_test==3)"
   ]
  },
  {
   "cell_type": "code",
   "execution_count": 13,
   "id": "01e4e969",
   "metadata": {
    "execution": {
     "iopub.execute_input": "2022-01-21T20:08:41.538012Z",
     "iopub.status.busy": "2022-01-21T20:08:41.537256Z",
     "iopub.status.idle": "2022-01-21T20:08:41.552982Z",
     "shell.execute_reply": "2022-01-21T20:08:41.552357Z"
    },
    "papermill": {
     "duration": 0.057007,
     "end_time": "2022-01-21T20:08:41.553170",
     "exception": false,
     "start_time": "2022-01-21T20:08:41.496163",
     "status": "completed"
    },
    "tags": []
   },
   "outputs": [
    {
     "data": {
      "text/plain": [
       "((11982, 28, 28), (1984, 28, 28))"
      ]
     },
     "execution_count": 13,
     "metadata": {},
     "output_type": "execute_result"
    }
   ],
   "source": [
    "X_train.shape, X_test.shape"
   ]
  },
  {
   "cell_type": "markdown",
   "id": "5ccf3f85",
   "metadata": {
    "papermill": {
     "duration": 0.037639,
     "end_time": "2022-01-21T20:08:41.628154",
     "exception": false,
     "start_time": "2022-01-21T20:08:41.590515",
     "status": "completed"
    },
    "tags": []
   },
   "source": [
    "We reshape the data to flatten the image pixels into a set of features or co-variates:"
   ]
  },
  {
   "cell_type": "code",
   "execution_count": 14,
   "id": "5286a4a3",
   "metadata": {
    "execution": {
     "iopub.execute_input": "2022-01-21T20:08:41.708251Z",
     "iopub.status.busy": "2022-01-21T20:08:41.707523Z",
     "iopub.status.idle": "2022-01-21T20:08:41.724164Z",
     "shell.execute_reply": "2022-01-21T20:08:41.724942Z"
    },
    "papermill": {
     "duration": 0.058929,
     "end_time": "2022-01-21T20:08:41.725152",
     "exception": false,
     "start_time": "2022-01-21T20:08:41.666223",
     "status": "completed"
    },
    "tags": []
   },
   "outputs": [
    {
     "data": {
      "text/plain": [
       "((11982, 784), (1984, 784))"
      ]
     },
     "execution_count": 14,
     "metadata": {},
     "output_type": "execute_result"
    }
   ],
   "source": [
    "X_train = X_train.reshape(X_train.shape[0], -1)\n",
    "X_test = X_test.reshape(X_test.shape[0], -1)\n",
    "X_train.shape, X_test.shape"
   ]
  },
  {
   "cell_type": "code",
   "execution_count": 15,
   "id": "73c5f88a",
   "metadata": {
    "execution": {
     "iopub.execute_input": "2022-01-21T20:08:41.806599Z",
     "iopub.status.busy": "2022-01-21T20:08:41.805770Z",
     "iopub.status.idle": "2022-01-21T20:08:41.828536Z",
     "shell.execute_reply": "2022-01-21T20:08:41.829211Z"
    },
    "papermill": {
     "duration": 0.066482,
     "end_time": "2022-01-21T20:08:41.829358",
     "exception": false,
     "start_time": "2022-01-21T20:08:41.762876",
     "status": "completed"
    },
    "tags": []
   },
   "outputs": [],
   "source": [
    "#Impoting functions from 'Kudzu'\n",
    "from kudzu.model import Model\n",
    "from kudzu.train import Learner\n",
    "from kudzu.optim import GD\n",
    "from kudzu.data import Data, Sampler,Dataloader\n",
    "\n",
    "from kudzu.callbacks import AccCallback\n",
    "from kudzu.callbacks import ClfCallback\n",
    "\n",
    "from kudzu.loss import MSE\n",
    "\n",
    "from kudzu.layer import Sigmoid,Relu\n",
    "from kudzu.layer import Affine"
   ]
  },
  {
   "cell_type": "markdown",
   "id": "bc01172a",
   "metadata": {
    "papermill": {
     "duration": 0.037692,
     "end_time": "2022-01-21T20:08:41.908956",
     "exception": false,
     "start_time": "2022-01-21T20:08:41.871264",
     "status": "completed"
    },
    "tags": []
   },
   "source": [
    "### Let us create a `Config` class, to store important parameters. \n",
    "This class essentially plays the role of a dictionary."
   ]
  },
  {
   "cell_type": "code",
   "execution_count": 16,
   "id": "978281aa",
   "metadata": {
    "execution": {
     "iopub.execute_input": "2022-01-21T20:08:41.988876Z",
     "iopub.status.busy": "2022-01-21T20:08:41.988140Z",
     "iopub.status.idle": "2022-01-21T20:08:42.002275Z",
     "shell.execute_reply": "2022-01-21T20:08:42.002837Z"
    },
    "papermill": {
     "duration": 0.056191,
     "end_time": "2022-01-21T20:08:42.002992",
     "exception": false,
     "start_time": "2022-01-21T20:08:41.946801",
     "status": "completed"
    },
    "tags": []
   },
   "outputs": [],
   "source": [
    "class Config:\n",
    "    pass\n",
    "config = Config()\n",
    "config.lr = 0.001\n",
    "config.num_epochs = 250\n",
    "config.bs = 50"
   ]
  },
  {
   "cell_type": "markdown",
   "id": "1385fa59",
   "metadata": {
    "papermill": {
     "duration": 0.044004,
     "end_time": "2022-01-21T20:08:42.088739",
     "exception": false,
     "start_time": "2022-01-21T20:08:42.044735",
     "status": "completed"
    },
    "tags": []
   },
   "source": [
    "### Running Models with the Training data\n",
    "Details about the network layers:\n",
    "- A first affine layer has 784 inputs and does 100 affine transforms. These are followed by a Relu\n",
    "- A second affine layer has 100 inputs from the 100 activations of the past layer, and does 100 affine transforms. These are followed by a Relu\n",
    "- A third affine layer has 100 activations and does 2 affine transformations to create an embedding for visualization. There is no non-linearity here.\n",
    "- A final \"logistic regression\" which has an affine transform from 2 inputs to 1 output, which is squeezed through a sigmoid.\n"
   ]
  },
  {
   "cell_type": "code",
   "execution_count": 17,
   "id": "2b9c66db",
   "metadata": {
    "execution": {
     "iopub.execute_input": "2022-01-21T20:08:42.178545Z",
     "iopub.status.busy": "2022-01-21T20:08:42.177834Z",
     "iopub.status.idle": "2022-01-21T20:08:42.193529Z",
     "shell.execute_reply": "2022-01-21T20:08:42.192873Z"
    },
    "papermill": {
     "duration": 0.058513,
     "end_time": "2022-01-21T20:08:42.193708",
     "exception": false,
     "start_time": "2022-01-21T20:08:42.135195",
     "status": "completed"
    },
    "tags": []
   },
   "outputs": [],
   "source": [
    "data = Data(X_train, y_train.reshape(-1,1))\n",
    "sampler = Sampler(data, config.bs, shuffle=True)\n",
    "\n",
    "dl = Dataloader(data, sampler)\n",
    "\n",
    "opt = GD(config.lr)\n",
    "loss = MSE()"
   ]
  },
  {
   "cell_type": "code",
   "execution_count": 18,
   "id": "b275e4c2",
   "metadata": {
    "execution": {
     "iopub.execute_input": "2022-01-21T20:08:42.277168Z",
     "iopub.status.busy": "2022-01-21T20:08:42.276372Z",
     "iopub.status.idle": "2022-01-21T20:08:42.290854Z",
     "shell.execute_reply": "2022-01-21T20:08:42.291492Z"
    },
    "papermill": {
     "duration": 0.059344,
     "end_time": "2022-01-21T20:08:42.291680",
     "exception": false,
     "start_time": "2022-01-21T20:08:42.232336",
     "status": "completed"
    },
    "tags": []
   },
   "outputs": [],
   "source": [
    "training_data_x = X_train\n",
    "testing_data_x = X_test\n",
    "training_data_y = y_train.reshape(-1,1)\n",
    "testing_data_y = y_test.reshape(-1,1)"
   ]
  },
  {
   "cell_type": "code",
   "execution_count": 19,
   "id": "76951160",
   "metadata": {
    "execution": {
     "iopub.execute_input": "2022-01-21T20:08:42.379481Z",
     "iopub.status.busy": "2022-01-21T20:08:42.378165Z",
     "iopub.status.idle": "2022-01-21T20:08:42.398185Z",
     "shell.execute_reply": "2022-01-21T20:08:42.397522Z"
    },
    "papermill": {
     "duration": 0.066959,
     "end_time": "2022-01-21T20:08:42.398315",
     "exception": false,
     "start_time": "2022-01-21T20:08:42.331356",
     "status": "completed"
    },
    "tags": []
   },
   "outputs": [
    {
     "name": "stdout",
     "output_type": "stream",
     "text": [
      "xavier\n",
      "xavier\n",
      "xavier\n",
      "xavier\n",
      "xavier\n"
     ]
    }
   ],
   "source": [
    "layers = [Affine(\"first\", 784, 100), Relu(\"first\"), Affine(\"second\", 100, 100), Relu(\"second\"), Affine(\"third\", 100, 2), Affine(\"last\", 2, 1), Sigmoid(\"last\")]\n",
    "model_nn = Model(layers)\n",
    "model_lr = Model([Affine(\"logits\", 784, 1), Sigmoid(\"sigmoid\")])"
   ]
  },
  {
   "cell_type": "code",
   "execution_count": 20,
   "id": "6eede77a",
   "metadata": {
    "execution": {
     "iopub.execute_input": "2022-01-21T20:08:42.479756Z",
     "iopub.status.busy": "2022-01-21T20:08:42.478952Z",
     "iopub.status.idle": "2022-01-21T20:08:42.493254Z",
     "shell.execute_reply": "2022-01-21T20:08:42.492661Z"
    },
    "papermill": {
     "duration": 0.057091,
     "end_time": "2022-01-21T20:08:42.493385",
     "exception": false,
     "start_time": "2022-01-21T20:08:42.436294",
     "status": "completed"
    },
    "tags": []
   },
   "outputs": [],
   "source": [
    "nn_learner = Learner(loss, model_nn, opt, config.num_epochs)\n",
    "acc_nn = ClfCallback(nn_learner, config.bs, training_data_x , testing_data_x, training_data_y, testing_data_y)\n",
    "nn_learner.set_callbacks([acc_nn])"
   ]
  },
  {
   "cell_type": "code",
   "execution_count": 21,
   "id": "877b6cc7",
   "metadata": {
    "execution": {
     "iopub.execute_input": "2022-01-21T20:08:42.573493Z",
     "iopub.status.busy": "2022-01-21T20:08:42.572804Z",
     "iopub.status.idle": "2022-01-21T20:08:42.586948Z",
     "shell.execute_reply": "2022-01-21T20:08:42.586299Z"
    },
    "papermill": {
     "duration": 0.055677,
     "end_time": "2022-01-21T20:08:42.587055",
     "exception": false,
     "start_time": "2022-01-21T20:08:42.531378",
     "status": "completed"
    },
    "tags": []
   },
   "outputs": [],
   "source": [
    "lr_learner = Learner(loss, model_lr, opt, config.num_epochs)\n",
    "acc_lr = ClfCallback(lr_learner, config.bs, training_data_x , testing_data_x, training_data_y, testing_data_y)\n",
    "lr_learner.set_callbacks([acc_lr])"
   ]
  },
  {
   "cell_type": "code",
   "execution_count": 22,
   "id": "d9b133c3",
   "metadata": {
    "execution": {
     "iopub.execute_input": "2022-01-21T20:08:42.667072Z",
     "iopub.status.busy": "2022-01-21T20:08:42.666250Z",
     "iopub.status.idle": "2022-01-21T20:11:12.219071Z",
     "shell.execute_reply": "2022-01-21T20:11:12.220239Z"
    },
    "papermill": {
     "duration": 149.595894,
     "end_time": "2022-01-21T20:11:12.220405",
     "exception": false,
     "start_time": "2022-01-21T20:08:42.624511",
     "status": "completed"
    },
    "tags": []
   },
   "outputs": [
    {
     "name": "stdout",
     "output_type": "stream",
     "text": [
      "Epoch 0, Loss 0.2507\n",
      "Training Accuracy: 0.4968, Testing Accuracy: 0.4919\n",
      "\n"
     ]
    },
    {
     "name": "stdout",
     "output_type": "stream",
     "text": [
      "Epoch 10, Loss 0.247\n",
      "Training Accuracy: 0.6822, Testing Accuracy: 0.6850\n",
      "\n"
     ]
    },
    {
     "name": "stdout",
     "output_type": "stream",
     "text": [
      "Epoch 20, Loss 0.2356\n",
      "Training Accuracy: 0.7925, Testing Accuracy: 0.8140\n",
      "\n"
     ]
    },
    {
     "name": "stdout",
     "output_type": "stream",
     "text": [
      "Epoch 30, Loss 0.1841\n",
      "Training Accuracy: 0.8655, Testing Accuracy: 0.8841\n",
      "\n"
     ]
    },
    {
     "name": "stdout",
     "output_type": "stream",
     "text": [
      "Epoch 40, Loss 0.0951\n",
      "Training Accuracy: 0.9092, Testing Accuracy: 0.9158\n",
      "\n"
     ]
    },
    {
     "name": "stdout",
     "output_type": "stream",
     "text": [
      "Epoch 50, Loss 0.0615\n",
      "Training Accuracy: 0.9328, Testing Accuracy: 0.9425\n",
      "\n"
     ]
    },
    {
     "name": "stdout",
     "output_type": "stream",
     "text": [
      "Epoch 60, Loss 0.048\n",
      "Training Accuracy: 0.9468, Testing Accuracy: 0.9561\n",
      "\n"
     ]
    },
    {
     "name": "stdout",
     "output_type": "stream",
     "text": [
      "Epoch 70, Loss 0.0411\n",
      "Training Accuracy: 0.9528, Testing Accuracy: 0.9617\n",
      "\n"
     ]
    },
    {
     "name": "stdout",
     "output_type": "stream",
     "text": [
      "Epoch 80, Loss 0.0369\n",
      "Training Accuracy: 0.9580, Testing Accuracy: 0.9662\n",
      "\n"
     ]
    },
    {
     "name": "stdout",
     "output_type": "stream",
     "text": [
      "Epoch 90, Loss 0.0342\n",
      "Training Accuracy: 0.9604, Testing Accuracy: 0.9672\n",
      "\n"
     ]
    },
    {
     "name": "stdout",
     "output_type": "stream",
     "text": [
      "Epoch 100, Loss 0.0321\n",
      "Training Accuracy: 0.9625, Testing Accuracy: 0.9672\n",
      "\n"
     ]
    },
    {
     "name": "stdout",
     "output_type": "stream",
     "text": [
      "Epoch 110, Loss 0.0306\n",
      "Training Accuracy: 0.9634, Testing Accuracy: 0.9667\n",
      "\n"
     ]
    },
    {
     "name": "stdout",
     "output_type": "stream",
     "text": [
      "Epoch 120, Loss 0.0293\n",
      "Training Accuracy: 0.9653, Testing Accuracy: 0.9677\n",
      "\n"
     ]
    },
    {
     "name": "stdout",
     "output_type": "stream",
     "text": [
      "Epoch 130, Loss 0.0282\n",
      "Training Accuracy: 0.9666, Testing Accuracy: 0.9682\n",
      "\n"
     ]
    },
    {
     "name": "stdout",
     "output_type": "stream",
     "text": [
      "Epoch 140, Loss 0.0272\n",
      "Training Accuracy: 0.9685, Testing Accuracy: 0.9693\n",
      "\n"
     ]
    },
    {
     "name": "stdout",
     "output_type": "stream",
     "text": [
      "Epoch 150, Loss 0.0264\n",
      "Training Accuracy: 0.9697, Testing Accuracy: 0.9682\n",
      "\n"
     ]
    },
    {
     "name": "stdout",
     "output_type": "stream",
     "text": [
      "Epoch 160, Loss 0.0257\n",
      "Training Accuracy: 0.9707, Testing Accuracy: 0.9693\n",
      "\n"
     ]
    },
    {
     "name": "stdout",
     "output_type": "stream",
     "text": [
      "Epoch 170, Loss 0.025\n",
      "Training Accuracy: 0.9716, Testing Accuracy: 0.9703\n",
      "\n"
     ]
    },
    {
     "name": "stdout",
     "output_type": "stream",
     "text": [
      "Epoch 180, Loss 0.0244\n",
      "Training Accuracy: 0.9718, Testing Accuracy: 0.9708\n",
      "\n"
     ]
    },
    {
     "name": "stdout",
     "output_type": "stream",
     "text": [
      "Epoch 190, Loss 0.0239\n",
      "Training Accuracy: 0.9723, Testing Accuracy: 0.9703\n",
      "\n"
     ]
    },
    {
     "name": "stdout",
     "output_type": "stream",
     "text": [
      "Epoch 200, Loss 0.0233\n",
      "Training Accuracy: 0.9726, Testing Accuracy: 0.9703\n",
      "\n"
     ]
    },
    {
     "name": "stdout",
     "output_type": "stream",
     "text": [
      "Epoch 210, Loss 0.0229\n",
      "Training Accuracy: 0.9730, Testing Accuracy: 0.9708\n",
      "\n"
     ]
    },
    {
     "name": "stdout",
     "output_type": "stream",
     "text": [
      "Epoch 220, Loss 0.0224\n",
      "Training Accuracy: 0.9737, Testing Accuracy: 0.9713\n",
      "\n"
     ]
    },
    {
     "name": "stdout",
     "output_type": "stream",
     "text": [
      "Epoch 230, Loss 0.022\n",
      "Training Accuracy: 0.9744, Testing Accuracy: 0.9713\n",
      "\n"
     ]
    },
    {
     "name": "stdout",
     "output_type": "stream",
     "text": [
      "Epoch 240, Loss 0.0216\n",
      "Training Accuracy: 0.9749, Testing Accuracy: 0.9713\n",
      "\n"
     ]
    },
    {
     "data": {
      "text/plain": [
       "0.005809685444939482"
      ]
     },
     "execution_count": 22,
     "metadata": {},
     "output_type": "execute_result"
    }
   ],
   "source": [
    "nn_learner.train_loop(dl)"
   ]
  },
  {
   "cell_type": "code",
   "execution_count": 23,
   "id": "e0163366",
   "metadata": {
    "execution": {
     "iopub.execute_input": "2022-01-21T20:11:12.330079Z",
     "iopub.status.busy": "2022-01-21T20:11:12.329319Z",
     "iopub.status.idle": "2022-01-21T20:11:33.778197Z",
     "shell.execute_reply": "2022-01-21T20:11:33.779252Z"
    },
    "papermill": {
     "duration": 21.510578,
     "end_time": "2022-01-21T20:11:33.779475",
     "exception": false,
     "start_time": "2022-01-21T20:11:12.268897",
     "status": "completed"
    },
    "tags": []
   },
   "outputs": [
    {
     "name": "stdout",
     "output_type": "stream",
     "text": [
      "Epoch 0, Loss 0.2509\n",
      "Training Accuracy: 0.6886, Testing Accuracy: 0.7036\n",
      "\n"
     ]
    },
    {
     "name": "stdout",
     "output_type": "stream",
     "text": [
      "Epoch 10, Loss 0.0987\n",
      "Training Accuracy: 0.9220, Testing Accuracy: 0.9325\n",
      "\n"
     ]
    },
    {
     "name": "stdout",
     "output_type": "stream",
     "text": [
      "Epoch 20, Loss 0.0768\n",
      "Training Accuracy: 0.9337, Testing Accuracy: 0.9425\n",
      "\n"
     ]
    },
    {
     "name": "stdout",
     "output_type": "stream",
     "text": [
      "Epoch 30, Loss 0.0668\n",
      "Training Accuracy: 0.9387, Testing Accuracy: 0.9486\n",
      "\n"
     ]
    },
    {
     "name": "stdout",
     "output_type": "stream",
     "text": [
      "Epoch 40, Loss 0.0607\n",
      "Training Accuracy: 0.9419, Testing Accuracy: 0.9531\n",
      "\n"
     ]
    },
    {
     "name": "stdout",
     "output_type": "stream",
     "text": [
      "Epoch 50, Loss 0.0564\n",
      "Training Accuracy: 0.9441, Testing Accuracy: 0.9556\n",
      "\n"
     ]
    },
    {
     "name": "stdout",
     "output_type": "stream",
     "text": [
      "Epoch 60, Loss 0.0533\n",
      "Training Accuracy: 0.9468, Testing Accuracy: 0.9567\n",
      "\n"
     ]
    },
    {
     "name": "stdout",
     "output_type": "stream",
     "text": [
      "Epoch 70, Loss 0.0509\n",
      "Training Accuracy: 0.9483, Testing Accuracy: 0.9582\n",
      "\n"
     ]
    },
    {
     "name": "stdout",
     "output_type": "stream",
     "text": [
      "Epoch 80, Loss 0.0489\n",
      "Training Accuracy: 0.9507, Testing Accuracy: 0.9597\n",
      "\n"
     ]
    },
    {
     "name": "stdout",
     "output_type": "stream",
     "text": [
      "Epoch 90, Loss 0.0473\n",
      "Training Accuracy: 0.9523, Testing Accuracy: 0.9602\n",
      "\n"
     ]
    },
    {
     "name": "stdout",
     "output_type": "stream",
     "text": [
      "Epoch 100, Loss 0.0459\n",
      "Training Accuracy: 0.9530, Testing Accuracy: 0.9602\n",
      "\n"
     ]
    },
    {
     "name": "stdout",
     "output_type": "stream",
     "text": [
      "Epoch 110, Loss 0.0447\n",
      "Training Accuracy: 0.9540, Testing Accuracy: 0.9622\n",
      "\n"
     ]
    },
    {
     "name": "stdout",
     "output_type": "stream",
     "text": [
      "Epoch 120, Loss 0.0437\n",
      "Training Accuracy: 0.9547, Testing Accuracy: 0.9632\n",
      "\n"
     ]
    },
    {
     "name": "stdout",
     "output_type": "stream",
     "text": [
      "Epoch 130, Loss 0.0428\n",
      "Training Accuracy: 0.9552, Testing Accuracy: 0.9637\n",
      "\n"
     ]
    },
    {
     "name": "stdout",
     "output_type": "stream",
     "text": [
      "Epoch 140, Loss 0.042\n",
      "Training Accuracy: 0.9555, Testing Accuracy: 0.9637\n",
      "\n"
     ]
    },
    {
     "name": "stdout",
     "output_type": "stream",
     "text": [
      "Epoch 150, Loss 0.0413\n",
      "Training Accuracy: 0.9564, Testing Accuracy: 0.9637\n",
      "\n"
     ]
    },
    {
     "name": "stdout",
     "output_type": "stream",
     "text": [
      "Epoch 160, Loss 0.0406\n",
      "Training Accuracy: 0.9567, Testing Accuracy: 0.9642\n",
      "\n"
     ]
    },
    {
     "name": "stdout",
     "output_type": "stream",
     "text": [
      "Epoch 170, Loss 0.04\n",
      "Training Accuracy: 0.9570, Testing Accuracy: 0.9652\n",
      "\n"
     ]
    },
    {
     "name": "stdout",
     "output_type": "stream",
     "text": [
      "Epoch 180, Loss 0.0394\n",
      "Training Accuracy: 0.9571, Testing Accuracy: 0.9657\n",
      "\n"
     ]
    },
    {
     "name": "stdout",
     "output_type": "stream",
     "text": [
      "Epoch 190, Loss 0.0389\n",
      "Training Accuracy: 0.9581, Testing Accuracy: 0.9667\n",
      "\n"
     ]
    },
    {
     "name": "stdout",
     "output_type": "stream",
     "text": [
      "Epoch 200, Loss 0.0384\n",
      "Training Accuracy: 0.9585, Testing Accuracy: 0.9672\n",
      "\n"
     ]
    },
    {
     "name": "stdout",
     "output_type": "stream",
     "text": [
      "Epoch 210, Loss 0.038\n",
      "Training Accuracy: 0.9590, Testing Accuracy: 0.9672\n",
      "\n"
     ]
    },
    {
     "name": "stdout",
     "output_type": "stream",
     "text": [
      "Epoch 220, Loss 0.0376\n",
      "Training Accuracy: 0.9595, Testing Accuracy: 0.9677\n",
      "\n"
     ]
    },
    {
     "name": "stdout",
     "output_type": "stream",
     "text": [
      "Epoch 230, Loss 0.0372\n",
      "Training Accuracy: 0.9599, Testing Accuracy: 0.9677\n",
      "\n"
     ]
    },
    {
     "name": "stdout",
     "output_type": "stream",
     "text": [
      "Epoch 240, Loss 0.0369\n",
      "Training Accuracy: 0.9601, Testing Accuracy: 0.9677\n",
      "\n"
     ]
    },
    {
     "data": {
      "text/plain": [
       "0.06840684275427106"
      ]
     },
     "execution_count": 23,
     "metadata": {},
     "output_type": "execute_result"
    }
   ],
   "source": [
    "lr_learner.train_loop(dl)"
   ]
  },
  {
   "cell_type": "code",
   "execution_count": 24,
   "id": "ca410940",
   "metadata": {
    "execution": {
     "iopub.execute_input": "2022-01-21T20:11:33.904844Z",
     "iopub.status.busy": "2022-01-21T20:11:33.904112Z",
     "iopub.status.idle": "2022-01-21T20:11:34.227454Z",
     "shell.execute_reply": "2022-01-21T20:11:34.226311Z"
    },
    "papermill": {
     "duration": 0.391375,
     "end_time": "2022-01-21T20:11:34.227586",
     "exception": false,
     "start_time": "2022-01-21T20:11:33.836211",
     "status": "completed"
    },
    "tags": []
   },
   "outputs": [
    {
     "data": {
      "text/plain": [
       "<matplotlib.legend.Legend at 0x7fb13fbca2e8>"
      ]
     },
     "execution_count": 24,
     "metadata": {},
     "output_type": "execute_result"
    },
    {
     "data": {
      "image/png": "[encoded data removed]",
      "text/plain": [
       "<Figure size 1080x720 with 1 Axes>"
      ]
     },
     "metadata": {
      "needs_background": "light"
     },
     "output_type": "display_data"
    }
   ],
   "source": [
    "#comparing the results of NN and LR\n",
    "plt.figure(figsize=(15,10))\n",
    "\n",
    "# Neural Network plots\n",
    "plt.plot(acc_nn.accuracies, 'r-', label = \"Training Accuracies - NN\")\n",
    "plt.plot(acc_nn.test_accuracies, 'g-', label = \"Testing Accuracies - NN\")\n",
    "\n",
    "# Logistic Regression plots\n",
    "plt.plot(acc_lr.accuracies, 'k-', label = \"Training Accuracies - LR\")\n",
    "plt.plot(acc_lr.test_accuracies, 'b-', label = \"Testing Accuracies - LR\")\n",
    "plt.legend()"
   ]
  },
  {
   "cell_type": "markdown",
   "id": "80dfb35c",
   "metadata": {
    "papermill": {
     "duration": 0.058027,
     "end_time": "2022-01-21T20:11:34.345558",
     "exception": false,
     "start_time": "2022-01-21T20:11:34.287531",
     "status": "completed"
    },
    "tags": []
   },
   "source": [
    "#### Plotting the outputs of this layer of the NN.\n"
   ]
  },
  {
   "cell_type": "code",
   "execution_count": 25,
   "id": "45eb2ff5",
   "metadata": {
    "execution": {
     "iopub.execute_input": "2022-01-21T20:11:34.468068Z",
     "iopub.status.busy": "2022-01-21T20:11:34.467271Z",
     "iopub.status.idle": "2022-01-21T20:11:34.497215Z",
     "shell.execute_reply": "2022-01-21T20:11:34.497850Z"
    },
    "papermill": {
     "duration": 0.093093,
     "end_time": "2022-01-21T20:11:34.498041",
     "exception": false,
     "start_time": "2022-01-21T20:11:34.404948",
     "status": "completed"
    },
    "tags": []
   },
   "outputs": [],
   "source": [
    "new_model = Model(layers[:-2])\n",
    "testing_plot = new_model(testing_data_x)"
   ]
  },
  {
   "cell_type": "code",
   "execution_count": 26,
   "id": "4c0a5485",
   "metadata": {
    "execution": {
     "iopub.execute_input": "2022-01-21T20:11:34.624739Z",
     "iopub.status.busy": "2022-01-21T20:11:34.624012Z",
     "iopub.status.idle": "2022-01-21T20:11:34.917360Z",
     "shell.execute_reply": "2022-01-21T20:11:34.916683Z"
    },
    "papermill": {
     "duration": 0.359334,
     "end_time": "2022-01-21T20:11:34.917537",
     "exception": false,
     "start_time": "2022-01-21T20:11:34.558203",
     "status": "completed"
    },
    "tags": []
   },
   "outputs": [
    {
     "data": {
      "text/plain": [
       "Text(0.5, 1.0, 'Outputs')"
      ]
     },
     "execution_count": 26,
     "metadata": {},
     "output_type": "execute_result"
    },
    {
     "data": {
      "image/png": "[encoded data removed]",
      "text/plain": [
       "<Figure size 576x504 with 1 Axes>"
      ]
     },
     "metadata": {
      "needs_background": "light"
     },
     "output_type": "display_data"
    }
   ],
   "source": [
    "# Plotting the scatter plot of points and color coding by class\n",
    "plt.figure(figsize=(8,7))\n",
    "plt.scatter(testing_plot[:,0], testing_plot[:,1], alpha = 0.1, c = y_test.ravel());\n",
    "plt.title('Outputs')"
   ]
  },
  {
   "cell_type": "markdown",
   "id": "a74fcf8f",
   "metadata": {
    "papermill": {
     "duration": 0.061726,
     "end_time": "2022-01-21T20:11:35.041706",
     "exception": false,
     "start_time": "2022-01-21T20:11:34.979980",
     "status": "completed"
    },
    "tags": []
   },
   "source": [
    "Probability contours"
   ]
  },
  {
   "cell_type": "code",
   "execution_count": 27,
   "id": "d0afc8e3",
   "metadata": {
    "execution": {
     "iopub.execute_input": "2022-01-21T20:11:35.196033Z",
     "iopub.status.busy": "2022-01-21T20:11:35.195188Z",
     "iopub.status.idle": "2022-01-21T20:11:35.209847Z",
     "shell.execute_reply": "2022-01-21T20:11:35.210574Z"
    },
    "papermill": {
     "duration": 0.107183,
     "end_time": "2022-01-21T20:11:35.210733",
     "exception": false,
     "start_time": "2022-01-21T20:11:35.103550",
     "status": "completed"
    },
    "tags": []
   },
   "outputs": [],
   "source": [
    "model_prob = Model(layers[-2:]) "
   ]
  },
  {
   "cell_type": "code",
   "execution_count": 28,
   "id": "9b96e238",
   "metadata": {
    "execution": {
     "iopub.execute_input": "2022-01-21T20:11:35.343590Z",
     "iopub.status.busy": "2022-01-21T20:11:35.342756Z",
     "iopub.status.idle": "2022-01-21T20:11:35.359023Z",
     "shell.execute_reply": "2022-01-21T20:11:35.359643Z"
    },
    "papermill": {
     "duration": 0.085104,
     "end_time": "2022-01-21T20:11:35.359815",
     "exception": false,
     "start_time": "2022-01-21T20:11:35.274711",
     "status": "completed"
    },
    "tags": []
   },
   "outputs": [],
   "source": [
    "#creating the x and y ranges according to the above generated plot.\n",
    "x_range = np.linspace(-4, 1, 100) \n",
    "y_range = np.linspace(-6, 6, 100) \n",
    "x_grid, y_grid = np.meshgrid(x_range, y_range) # x_grid and y_grig are of size 100 X 100\n",
    "\n",
    "# converting x_grid and y_grid to continuous arrays\n",
    "x_gridflat = np.ravel(x_grid)\n",
    "y_gridflat = np.ravel(y_grid)\n",
    "\n",
    "# The last layer of the current model takes two columns as input. Hence transpose of np.vstack() is required.\n",
    "X = np.vstack((x_gridflat, y_gridflat)).T\n",
    "\n",
    "prob_contour = model_prob(X).reshape(100,100) "
   ]
  },
  {
   "cell_type": "code",
   "execution_count": 29,
   "id": "da72499a",
   "metadata": {
    "execution": {
     "iopub.execute_input": "2022-01-21T20:11:35.491350Z",
     "iopub.status.busy": "2022-01-21T20:11:35.490598Z",
     "iopub.status.idle": "2022-01-21T20:11:35.850176Z",
     "shell.execute_reply": "2022-01-21T20:11:35.850744Z"
    },
    "papermill": {
     "duration": 0.427681,
     "end_time": "2022-01-21T20:11:35.850953",
     "exception": false,
     "start_time": "2022-01-21T20:11:35.423272",
     "status": "completed"
    },
    "tags": []
   },
   "outputs": [
    {
     "data": {
      "image/png": "[encoded data removed]",
      "text/plain": [
       "<Figure size 720x648 with 1 Axes>"
      ]
     },
     "metadata": {
      "needs_background": "light"
     },
     "output_type": "display_data"
    }
   ],
   "source": [
    "plt.figure(figsize=(10,9))\n",
    "plt.scatter(testing_plot[:,0], testing_plot[:,1], alpha = 0.1, c = y_test.ravel())\n",
    "contours = plt.contour(x_grid,y_grid,prob_contour)\n",
    "plt.title('Probability Contours')\n",
    "plt.clabel(contours, inline = True );"
   ]
  },
  {
   "cell_type": "code",
   "execution_count": null,
   "id": "e81b4ac7",
   "metadata": {
    "papermill": {
     "duration": 0.066714,
     "end_time": "2022-01-21T20:11:35.982687",
     "exception": false,
     "start_time": "2022-01-21T20:11:35.915973",
     "status": "completed"
    },
    "tags": []
   },
   "outputs": [],
   "source": []
  }
 ],
 "metadata": {
  "kernelspec": {
   "display_name": "Python 3",
   "language": "python",
   "name": "python3"
  },
  "language_info": {
   "codemirror_mode": {
    "name": "ipython",
    "version": 3
   },
   "file_extension": ".py",
   "mimetype": "text/x-python",
   "name": "python",
   "nbconvert_exporter": "python",
   "pygments_lexer": "ipython3",
   "version": "3.6.15"
  },
  "papermill": {
   "default_parameters": {},
   "duration": 182.002434,
   "end_time": "2022-01-21T20:11:36.469621",
   "environment_variables": {},
   "exception": null,
   "input_path": "2020-08-11-part2.ipynb",
   "output_path": "2020-08-11-part2.ipynb",
   "parameters": {},
   "start_time": "2022-01-21T20:08:34.467187",
   "version": "2.3.3"
  }
 },
 "nbformat": 4,
 "nbformat_minor": 5
}