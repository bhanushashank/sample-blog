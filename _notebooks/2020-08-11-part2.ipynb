{
 "cells": [
  {
   "cell_type": "markdown",
   "id": "98380cd3",
   "metadata": {
    "papermill": {
     "duration": 0.029639,
     "end_time": "2022-08-04T10:10:08.047989",
     "exception": false,
     "start_time": "2022-08-04T10:10:08.018350",
     "status": "completed"
    },
    "tags": []
   },
   "source": [
    "# Distinguish Your Own Digits (DYOD)"
   ]
  },
  {
   "cell_type": "markdown",
   "id": "ef31240d",
   "metadata": {
    "papermill": {
     "duration": 0.02444,
     "end_time": "2022-08-04T10:10:08.097357",
     "exception": false,
     "start_time": "2022-08-04T10:10:08.072917",
     "status": "completed"
    },
    "tags": []
   },
   "source": [
    "You are going to write a classifier that distinguishes between the number 3 and number 8."
   ]
  },
  {
   "cell_type": "code",
   "execution_count": 1,
   "id": "b15c8646",
   "metadata": {
    "execution": {
     "iopub.execute_input": "2022-08-04T10:10:08.155889Z",
     "iopub.status.busy": "2022-08-04T10:10:08.155323Z",
     "iopub.status.idle": "2022-08-04T10:10:08.165757Z",
     "shell.execute_reply": "2022-08-04T10:10:08.166169Z"
    },
    "papermill": {
     "duration": 0.044684,
     "end_time": "2022-08-04T10:10:08.166313",
     "exception": false,
     "start_time": "2022-08-04T10:10:08.121629",
     "status": "completed"
    },
    "tags": []
   },
   "outputs": [],
   "source": [
    "%load_ext autoreload\n",
    "%autoreload 2"
   ]
  },
  {
   "cell_type": "code",
   "execution_count": 2,
   "id": "22ef38dc",
   "metadata": {
    "execution": {
     "iopub.execute_input": "2022-08-04T10:10:08.219229Z",
     "iopub.status.busy": "2022-08-04T10:10:08.218658Z",
     "iopub.status.idle": "2022-08-04T10:10:08.722969Z",
     "shell.execute_reply": "2022-08-04T10:10:08.721986Z"
    },
    "papermill": {
     "duration": 0.532574,
     "end_time": "2022-08-04T10:10:08.723095",
     "exception": false,
     "start_time": "2022-08-04T10:10:08.190521",
     "status": "completed"
    },
    "tags": []
   },
   "outputs": [],
   "source": [
    "%matplotlib inline\n",
    "import numpy as np\n",
    "import matplotlib.pyplot as plt\n",
    "import pandas as pd"
   ]
  },
  {
   "cell_type": "markdown",
   "id": "ba036198",
   "metadata": {
    "papermill": {
     "duration": 0.024393,
     "end_time": "2022-08-04T10:10:08.771907",
     "exception": false,
     "start_time": "2022-08-04T10:10:08.747514",
     "status": "completed"
    },
    "tags": []
   },
   "source": [
    "From the command line run `pip install mnist`. This is a library that will help you bring down the mnist dataset. If you run this from a notebook, you need to put  `!pip install mnist` in a cell by itself."
   ]
  },
  {
   "cell_type": "code",
   "execution_count": 3,
   "id": "bb6ad8a1",
   "metadata": {
    "execution": {
     "iopub.execute_input": "2022-08-04T10:10:08.830475Z",
     "iopub.status.busy": "2022-08-04T10:10:08.823928Z",
     "iopub.status.idle": "2022-08-04T10:10:10.413706Z",
     "shell.execute_reply": "2022-08-04T10:10:10.412842Z"
    },
    "papermill": {
     "duration": 1.617516,
     "end_time": "2022-08-04T10:10:10.413832",
     "exception": false,
     "start_time": "2022-08-04T10:10:08.796316",
     "status": "completed"
    },
    "tags": []
   },
   "outputs": [
    {
     "name": "stdout",
     "output_type": "stream",
     "text": [
      "Collecting mnist\r\n"
     ]
    },
    {
     "name": "stdout",
     "output_type": "stream",
     "text": [
      "  Downloading mnist-0.2.2-py2.py3-none-any.whl (3.5 kB)\r\n",
      "Requirement already satisfied: numpy in /opt/hostedtoolcache/Python/3.6.15/x64/lib/python3.6/site-packages (from mnist) (1.19.5)\r\n"
     ]
    },
    {
     "name": "stdout",
     "output_type": "stream",
     "text": [
      "Installing collected packages: mnist\r\n",
      "Successfully installed mnist-0.2.2\r\n"
     ]
    }
   ],
   "source": [
    "!pip install mnist"
   ]
  },
  {
   "cell_type": "markdown",
   "id": "69df9c9a",
   "metadata": {
    "papermill": {
     "duration": 0.025184,
     "end_time": "2022-08-04T10:10:10.464350",
     "exception": false,
     "start_time": "2022-08-04T10:10:10.439166",
     "status": "completed"
    },
    "tags": []
   },
   "source": [
    "## Preparing the Data"
   ]
  },
  {
   "cell_type": "code",
   "execution_count": 4,
   "id": "7f69d806",
   "metadata": {
    "execution": {
     "iopub.execute_input": "2022-08-04T10:10:10.518535Z",
     "iopub.status.busy": "2022-08-04T10:10:10.517975Z",
     "iopub.status.idle": "2022-08-04T10:10:10.532108Z",
     "shell.execute_reply": "2022-08-04T10:10:10.531668Z"
    },
    "papermill": {
     "duration": 0.042843,
     "end_time": "2022-08-04T10:10:10.532212",
     "exception": false,
     "start_time": "2022-08-04T10:10:10.489369",
     "status": "completed"
    },
    "tags": []
   },
   "outputs": [],
   "source": [
    "import mnist"
   ]
  },
  {
   "cell_type": "code",
   "execution_count": 5,
   "id": "a411e44f",
   "metadata": {
    "execution": {
     "iopub.execute_input": "2022-08-04T10:10:10.585717Z",
     "iopub.status.busy": "2022-08-04T10:10:10.585133Z",
     "iopub.status.idle": "2022-08-04T10:10:11.134893Z",
     "shell.execute_reply": "2022-08-04T10:10:11.134416Z"
    },
    "papermill": {
     "duration": 0.577637,
     "end_time": "2022-08-04T10:10:11.135013",
     "exception": false,
     "start_time": "2022-08-04T10:10:10.557376",
     "status": "completed"
    },
    "tags": []
   },
   "outputs": [],
   "source": [
    "train_images = mnist.train_images()\n",
    "train_labels = mnist.train_labels()"
   ]
  },
  {
   "cell_type": "code",
   "execution_count": 6,
   "id": "dceab3a5",
   "metadata": {
    "execution": {
     "iopub.execute_input": "2022-08-04T10:10:11.189250Z",
     "iopub.status.busy": "2022-08-04T10:10:11.188681Z",
     "iopub.status.idle": "2022-08-04T10:10:11.202555Z",
     "shell.execute_reply": "2022-08-04T10:10:11.203012Z"
    },
    "papermill": {
     "duration": 0.042898,
     "end_time": "2022-08-04T10:10:11.203132",
     "exception": false,
     "start_time": "2022-08-04T10:10:11.160234",
     "status": "completed"
    },
    "tags": []
   },
   "outputs": [
    {
     "data": {
      "text/plain": [
       "((60000, 28, 28), (60000,))"
      ]
     },
     "execution_count": 6,
     "metadata": {},
     "output_type": "execute_result"
    }
   ],
   "source": [
    "train_images.shape, train_labels.shape"
   ]
  },
  {
   "cell_type": "code",
   "execution_count": 7,
   "id": "f50dc2bb",
   "metadata": {
    "execution": {
     "iopub.execute_input": "2022-08-04T10:10:11.257108Z",
     "iopub.status.busy": "2022-08-04T10:10:11.256554Z",
     "iopub.status.idle": "2022-08-04T10:10:11.400659Z",
     "shell.execute_reply": "2022-08-04T10:10:11.400150Z"
    },
    "papermill": {
     "duration": 0.172419,
     "end_time": "2022-08-04T10:10:11.400772",
     "exception": false,
     "start_time": "2022-08-04T10:10:11.228353",
     "status": "completed"
    },
    "tags": []
   },
   "outputs": [],
   "source": [
    "test_images = mnist.test_images()\n",
    "test_labels = mnist.test_labels()"
   ]
  },
  {
   "cell_type": "code",
   "execution_count": 8,
   "id": "fc38cf1b",
   "metadata": {
    "execution": {
     "iopub.execute_input": "2022-08-04T10:10:11.455448Z",
     "iopub.status.busy": "2022-08-04T10:10:11.454873Z",
     "iopub.status.idle": "2022-08-04T10:10:11.467506Z",
     "shell.execute_reply": "2022-08-04T10:10:11.467055Z"
    },
    "papermill": {
     "duration": 0.041159,
     "end_time": "2022-08-04T10:10:11.467608",
     "exception": false,
     "start_time": "2022-08-04T10:10:11.426449",
     "status": "completed"
    },
    "tags": []
   },
   "outputs": [
    {
     "data": {
      "text/plain": [
       "((10000, 28, 28), (10000,))"
      ]
     },
     "execution_count": 8,
     "metadata": {},
     "output_type": "execute_result"
    }
   ],
   "source": [
    "test_images.shape, test_labels.shape"
   ]
  },
  {
   "cell_type": "code",
   "execution_count": 9,
   "id": "f9ed8fe0",
   "metadata": {
    "execution": {
     "iopub.execute_input": "2022-08-04T10:10:11.522043Z",
     "iopub.status.busy": "2022-08-04T10:10:11.521452Z",
     "iopub.status.idle": "2022-08-04T10:10:11.653699Z",
     "shell.execute_reply": "2022-08-04T10:10:11.654137Z"
    },
    "papermill": {
     "duration": 0.16116,
     "end_time": "2022-08-04T10:10:11.654262",
     "exception": false,
     "start_time": "2022-08-04T10:10:11.493102",
     "status": "completed"
    },
    "tags": []
   },
   "outputs": [
    {
     "name": "stdout",
     "output_type": "stream",
     "text": [
      "2\n"
     ]
    },
    {
     "data": {
      "text/plain": [
       "<matplotlib.image.AxesImage at 0x7fb71ee9d4e0>"
      ]
     },
     "execution_count": 9,
     "metadata": {},
     "output_type": "execute_result"
    },
    {
     "data": {
      "image/png": "[encoded data removed]",
      "text/plain": [
       "<Figure size 432x288 with 1 Axes>"
      ]
     },
     "metadata": {
      "needs_background": "light"
     },
     "output_type": "display_data"
    }
   ],
   "source": [
    "image_index = 7776 # You may select anything up to 60,000\n",
    "print(train_labels[image_index]) \n",
    "plt.imshow(train_images[image_index], cmap='Greys')"
   ]
  },
  {
   "cell_type": "markdown",
   "id": "a8d2388d",
   "metadata": {
    "papermill": {
     "duration": 0.027052,
     "end_time": "2022-08-04T10:10:11.708358",
     "exception": false,
     "start_time": "2022-08-04T10:10:11.681306",
     "status": "completed"
    },
    "tags": []
   },
   "source": [
    "## Filter data to get 3 and 8 out"
   ]
  },
  {
   "cell_type": "code",
   "execution_count": 10,
   "id": "776f7fc7",
   "metadata": {
    "execution": {
     "iopub.execute_input": "2022-08-04T10:10:11.766307Z",
     "iopub.status.busy": "2022-08-04T10:10:11.765726Z",
     "iopub.status.idle": "2022-08-04T10:10:11.782732Z",
     "shell.execute_reply": "2022-08-04T10:10:11.782272Z"
    },
    "papermill": {
     "duration": 0.047642,
     "end_time": "2022-08-04T10:10:11.782840",
     "exception": false,
     "start_time": "2022-08-04T10:10:11.735198",
     "status": "completed"
    },
    "tags": []
   },
   "outputs": [],
   "source": [
    "train_filter = np.where((train_labels == 3 ) | (train_labels == 8))\n",
    "test_filter = np.where((test_labels == 3) | (test_labels == 8))\n",
    "X_train, y_train = train_images[train_filter], train_labels[train_filter]\n",
    "X_test, y_test = test_images[test_filter], test_labels[test_filter]"
   ]
  },
  {
   "cell_type": "markdown",
   "id": "948f0b7e",
   "metadata": {
    "papermill": {
     "duration": 0.026761,
     "end_time": "2022-08-04T10:10:11.836678",
     "exception": false,
     "start_time": "2022-08-04T10:10:11.809917",
     "status": "completed"
    },
    "tags": []
   },
   "source": [
    "We normalize the pizel values in the 0 to 1 range"
   ]
  },
  {
   "cell_type": "code",
   "execution_count": 11,
   "id": "ee4c2166",
   "metadata": {
    "execution": {
     "iopub.execute_input": "2022-08-04T10:10:11.893788Z",
     "iopub.status.busy": "2022-08-04T10:10:11.893198Z",
     "iopub.status.idle": "2022-08-04T10:10:11.934318Z",
     "shell.execute_reply": "2022-08-04T10:10:11.933836Z"
    },
    "papermill": {
     "duration": 0.07098,
     "end_time": "2022-08-04T10:10:11.934429",
     "exception": false,
     "start_time": "2022-08-04T10:10:11.863449",
     "status": "completed"
    },
    "tags": []
   },
   "outputs": [],
   "source": [
    "X_train = X_train/255.\n",
    "X_test = X_test/255."
   ]
  },
  {
   "cell_type": "markdown",
   "id": "ddcf4fab",
   "metadata": {
    "papermill": {
     "duration": 0.026728,
     "end_time": "2022-08-04T10:10:11.988043",
     "exception": false,
     "start_time": "2022-08-04T10:10:11.961315",
     "status": "completed"
    },
    "tags": []
   },
   "source": [
    "And setup the labels as 1 (when the digit is 3) and 0 (when the digit is 8)"
   ]
  },
  {
   "cell_type": "code",
   "execution_count": 12,
   "id": "7dc908f2",
   "metadata": {
    "execution": {
     "iopub.execute_input": "2022-08-04T10:10:12.044978Z",
     "iopub.status.busy": "2022-08-04T10:10:12.044434Z",
     "iopub.status.idle": "2022-08-04T10:10:12.056496Z",
     "shell.execute_reply": "2022-08-04T10:10:12.056039Z"
    },
    "papermill": {
     "duration": 0.04174,
     "end_time": "2022-08-04T10:10:12.056598",
     "exception": false,
     "start_time": "2022-08-04T10:10:12.014858",
     "status": "completed"
    },
    "tags": []
   },
   "outputs": [],
   "source": [
    "y_train = 1*(y_train==3)\n",
    "y_test = 1*(y_test==3)"
   ]
  },
  {
   "cell_type": "code",
   "execution_count": 13,
   "id": "01e4e969",
   "metadata": {
    "execution": {
     "iopub.execute_input": "2022-08-04T10:10:12.113172Z",
     "iopub.status.busy": "2022-08-04T10:10:12.112620Z",
     "iopub.status.idle": "2022-08-04T10:10:12.125396Z",
     "shell.execute_reply": "2022-08-04T10:10:12.125856Z"
    },
    "papermill": {
     "duration": 0.04255,
     "end_time": "2022-08-04T10:10:12.125972",
     "exception": false,
     "start_time": "2022-08-04T10:10:12.083422",
     "status": "completed"
    },
    "tags": []
   },
   "outputs": [
    {
     "data": {
      "text/plain": [
       "((11982, 28, 28), (1984, 28, 28))"
      ]
     },
     "execution_count": 13,
     "metadata": {},
     "output_type": "execute_result"
    }
   ],
   "source": [
    "X_train.shape, X_test.shape"
   ]
  },
  {
   "cell_type": "markdown",
   "id": "5ccf3f85",
   "metadata": {
    "papermill": {
     "duration": 0.026831,
     "end_time": "2022-08-04T10:10:12.179693",
     "exception": false,
     "start_time": "2022-08-04T10:10:12.152862",
     "status": "completed"
    },
    "tags": []
   },
   "source": [
    "We reshape the data to flatten the image pixels into a set of features or co-variates:"
   ]
  },
  {
   "cell_type": "code",
   "execution_count": 14,
   "id": "5286a4a3",
   "metadata": {
    "execution": {
     "iopub.execute_input": "2022-08-04T10:10:12.237431Z",
     "iopub.status.busy": "2022-08-04T10:10:12.236858Z",
     "iopub.status.idle": "2022-08-04T10:10:12.250632Z",
     "shell.execute_reply": "2022-08-04T10:10:12.250183Z"
    },
    "papermill": {
     "duration": 0.044015,
     "end_time": "2022-08-04T10:10:12.250733",
     "exception": false,
     "start_time": "2022-08-04T10:10:12.206718",
     "status": "completed"
    },
    "tags": []
   },
   "outputs": [
    {
     "data": {
      "text/plain": [
       "((11982, 784), (1984, 784))"
      ]
     },
     "execution_count": 14,
     "metadata": {},
     "output_type": "execute_result"
    }
   ],
   "source": [
    "X_train = X_train.reshape(X_train.shape[0], -1)\n",
    "X_test = X_test.reshape(X_test.shape[0], -1)\n",
    "X_train.shape, X_test.shape"
   ]
  },
  {
   "cell_type": "code",
   "execution_count": 15,
   "id": "73c5f88a",
   "metadata": {
    "execution": {
     "iopub.execute_input": "2022-08-04T10:10:12.309442Z",
     "iopub.status.busy": "2022-08-04T10:10:12.308872Z",
     "iopub.status.idle": "2022-08-04T10:10:12.327024Z",
     "shell.execute_reply": "2022-08-04T10:10:12.326561Z"
    },
    "papermill": {
     "duration": 0.049107,
     "end_time": "2022-08-04T10:10:12.327124",
     "exception": false,
     "start_time": "2022-08-04T10:10:12.278017",
     "status": "completed"
    },
    "tags": []
   },
   "outputs": [],
   "source": [
    "#Impoting functions from 'Kudzu'\n",
    "from kudzu.model import Model\n",
    "from kudzu.train import Learner\n",
    "from kudzu.optim import GD\n",
    "from kudzu.data import Data, Sampler,Dataloader\n",
    "\n",
    "from kudzu.callbacks import AccCallback\n",
    "from kudzu.callbacks import ClfCallback\n",
    "\n",
    "from kudzu.loss import MSE\n",
    "\n",
    "from kudzu.layer import Sigmoid,Relu\n",
    "from kudzu.layer import Affine"
   ]
  },
  {
   "cell_type": "markdown",
   "id": "bc01172a",
   "metadata": {
    "papermill": {
     "duration": 0.027975,
     "end_time": "2022-08-04T10:10:12.382418",
     "exception": false,
     "start_time": "2022-08-04T10:10:12.354443",
     "status": "completed"
    },
    "tags": []
   },
   "source": [
    "### Let us create a `Config` class, to store important parameters. \n",
    "This class essentially plays the role of a dictionary."
   ]
  },
  {
   "cell_type": "code",
   "execution_count": 16,
   "id": "978281aa",
   "metadata": {
    "execution": {
     "iopub.execute_input": "2022-08-04T10:10:12.440982Z",
     "iopub.status.busy": "2022-08-04T10:10:12.440417Z",
     "iopub.status.idle": "2022-08-04T10:10:12.452405Z",
     "shell.execute_reply": "2022-08-04T10:10:12.451953Z"
    },
    "papermill": {
     "duration": 0.042821,
     "end_time": "2022-08-04T10:10:12.452508",
     "exception": false,
     "start_time": "2022-08-04T10:10:12.409687",
     "status": "completed"
    },
    "tags": []
   },
   "outputs": [],
   "source": [
    "class Config:\n",
    "    pass\n",
    "config = Config()\n",
    "config.lr = 0.001\n",
    "config.num_epochs = 250\n",
    "config.bs = 50"
   ]
  },
  {
   "cell_type": "markdown",
   "id": "1385fa59",
   "metadata": {
    "papermill": {
     "duration": 0.027464,
     "end_time": "2022-08-04T10:10:12.507200",
     "exception": false,
     "start_time": "2022-08-04T10:10:12.479736",
     "status": "completed"
    },
    "tags": []
   },
   "source": [
    "### Running Models with the Training data\n",
    "Details about the network layers:\n",
    "- A first affine layer has 784 inputs and does 100 affine transforms. These are followed by a Relu\n",
    "- A second affine layer has 100 inputs from the 100 activations of the past layer, and does 100 affine transforms. These are followed by a Relu\n",
    "- A third affine layer has 100 activations and does 2 affine transformations to create an embedding for visualization. There is no non-linearity here.\n",
    "- A final \"logistic regression\" which has an affine transform from 2 inputs to 1 output, which is squeezed through a sigmoid.\n"
   ]
  },
  {
   "cell_type": "code",
   "execution_count": 17,
   "id": "2b9c66db",
   "metadata": {
    "execution": {
     "iopub.execute_input": "2022-08-04T10:10:12.565485Z",
     "iopub.status.busy": "2022-08-04T10:10:12.564934Z",
     "iopub.status.idle": "2022-08-04T10:10:12.577265Z",
     "shell.execute_reply": "2022-08-04T10:10:12.576811Z"
    },
    "papermill": {
     "duration": 0.042872,
     "end_time": "2022-08-04T10:10:12.577366",
     "exception": false,
     "start_time": "2022-08-04T10:10:12.534494",
     "status": "completed"
    },
    "tags": []
   },
   "outputs": [],
   "source": [
    "data = Data(X_train, y_train.reshape(-1,1))\n",
    "sampler = Sampler(data, config.bs, shuffle=True)\n",
    "\n",
    "dl = Dataloader(data, sampler)\n",
    "\n",
    "opt = GD(config.lr)\n",
    "loss = MSE()"
   ]
  },
  {
   "cell_type": "code",
   "execution_count": 18,
   "id": "b275e4c2",
   "metadata": {
    "execution": {
     "iopub.execute_input": "2022-08-04T10:10:12.635199Z",
     "iopub.status.busy": "2022-08-04T10:10:12.634633Z",
     "iopub.status.idle": "2022-08-04T10:10:12.647031Z",
     "shell.execute_reply": "2022-08-04T10:10:12.646589Z"
    },
    "papermill": {
     "duration": 0.042525,
     "end_time": "2022-08-04T10:10:12.647131",
     "exception": false,
     "start_time": "2022-08-04T10:10:12.604606",
     "status": "completed"
    },
    "tags": []
   },
   "outputs": [],
   "source": [
    "training_data_x = X_train\n",
    "testing_data_x = X_test\n",
    "training_data_y = y_train.reshape(-1,1)\n",
    "testing_data_y = y_test.reshape(-1,1)"
   ]
  },
  {
   "cell_type": "code",
   "execution_count": 19,
   "id": "76951160",
   "metadata": {
    "execution": {
     "iopub.execute_input": "2022-08-04T10:10:12.705127Z",
     "iopub.status.busy": "2022-08-04T10:10:12.704565Z",
     "iopub.status.idle": "2022-08-04T10:10:12.721101Z",
     "shell.execute_reply": "2022-08-04T10:10:12.720544Z"
    },
    "papermill": {
     "duration": 0.046932,
     "end_time": "2022-08-04T10:10:12.721202",
     "exception": false,
     "start_time": "2022-08-04T10:10:12.674270",
     "status": "completed"
    },
    "tags": []
   },
   "outputs": [
    {
     "name": "stdout",
     "output_type": "stream",
     "text": [
      "xavier\n",
      "xavier\n",
      "xavier\n",
      "xavier\n",
      "xavier\n"
     ]
    }
   ],
   "source": [
    "layers = [Affine(\"first\", 784, 100), Relu(\"first\"), Affine(\"second\", 100, 100), Relu(\"second\"), Affine(\"third\", 100, 2), Affine(\"last\", 2, 1), Sigmoid(\"last\")]\n",
    "model_nn = Model(layers)\n",
    "model_lr = Model([Affine(\"logits\", 784, 1), Sigmoid(\"sigmoid\")])"
   ]
  },
  {
   "cell_type": "code",
   "execution_count": 20,
   "id": "6eede77a",
   "metadata": {
    "execution": {
     "iopub.execute_input": "2022-08-04T10:10:12.779244Z",
     "iopub.status.busy": "2022-08-04T10:10:12.778698Z",
     "iopub.status.idle": "2022-08-04T10:10:12.789831Z",
     "shell.execute_reply": "2022-08-04T10:10:12.790238Z"
    },
    "papermill": {
     "duration": 0.041645,
     "end_time": "2022-08-04T10:10:12.790351",
     "exception": false,
     "start_time": "2022-08-04T10:10:12.748706",
     "status": "completed"
    },
    "tags": []
   },
   "outputs": [],
   "source": [
    "nn_learner = Learner(loss, model_nn, opt, config.num_epochs)\n",
    "acc_nn = ClfCallback(nn_learner, config.bs, training_data_x , testing_data_x, training_data_y, testing_data_y)\n",
    "nn_learner.set_callbacks([acc_nn])"
   ]
  },
  {
   "cell_type": "code",
   "execution_count": 21,
   "id": "877b6cc7",
   "metadata": {
    "execution": {
     "iopub.execute_input": "2022-08-04T10:10:12.849276Z",
     "iopub.status.busy": "2022-08-04T10:10:12.848721Z",
     "iopub.status.idle": "2022-08-04T10:10:12.860682Z",
     "shell.execute_reply": "2022-08-04T10:10:12.861089Z"
    },
    "papermill": {
     "duration": 0.04308,
     "end_time": "2022-08-04T10:10:12.861211",
     "exception": false,
     "start_time": "2022-08-04T10:10:12.818131",
     "status": "completed"
    },
    "tags": []
   },
   "outputs": [],
   "source": [
    "lr_learner = Learner(loss, model_lr, opt, config.num_epochs)\n",
    "acc_lr = ClfCallback(lr_learner, config.bs, training_data_x , testing_data_x, training_data_y, testing_data_y)\n",
    "lr_learner.set_callbacks([acc_lr])"
   ]
  },
  {
   "cell_type": "code",
   "execution_count": 22,
   "id": "d9b133c3",
   "metadata": {
    "execution": {
     "iopub.execute_input": "2022-08-04T10:10:12.918940Z",
     "iopub.status.busy": "2022-08-04T10:10:12.918379Z",
     "iopub.status.idle": "2022-08-04T10:13:09.742888Z",
     "shell.execute_reply": "2022-08-04T10:13:09.743359Z"
    },
    "papermill": {
     "duration": 176.854626,
     "end_time": "2022-08-04T10:13:09.743492",
     "exception": false,
     "start_time": "2022-08-04T10:10:12.888866",
     "status": "completed"
    },
    "tags": []
   },
   "outputs": [
    {
     "name": "stdout",
     "output_type": "stream",
     "text": [
      "Epoch 0, Loss 0.2494\n",
      "Training Accuracy: 0.6473, Testing Accuracy: 0.6517\n",
      "\n"
     ]
    },
    {
     "name": "stdout",
     "output_type": "stream",
     "text": [
      "Epoch 10, Loss 0.072\n",
      "Training Accuracy: 0.9279, Testing Accuracy: 0.9309\n",
      "\n"
     ]
    },
    {
     "name": "stdout",
     "output_type": "stream",
     "text": [
      "Epoch 20, Loss 0.0478\n",
      "Training Accuracy: 0.9491, Testing Accuracy: 0.9561\n",
      "\n"
     ]
    },
    {
     "name": "stdout",
     "output_type": "stream",
     "text": [
      "Epoch 30, Loss 0.0387\n",
      "Training Accuracy: 0.9576, Testing Accuracy: 0.9622\n",
      "\n"
     ]
    },
    {
     "name": "stdout",
     "output_type": "stream",
     "text": [
      "Epoch 40, Loss 0.0338\n",
      "Training Accuracy: 0.9620, Testing Accuracy: 0.9652\n",
      "\n"
     ]
    },
    {
     "name": "stdout",
     "output_type": "stream",
     "text": [
      "Epoch 50, Loss 0.0308\n",
      "Training Accuracy: 0.9654, Testing Accuracy: 0.9677\n",
      "\n"
     ]
    },
    {
     "name": "stdout",
     "output_type": "stream",
     "text": [
      "Epoch 60, Loss 0.0287\n",
      "Training Accuracy: 0.9675, Testing Accuracy: 0.9698\n",
      "\n"
     ]
    },
    {
     "name": "stdout",
     "output_type": "stream",
     "text": [
      "Epoch 70, Loss 0.0271\n",
      "Training Accuracy: 0.9690, Testing Accuracy: 0.9718\n",
      "\n"
     ]
    },
    {
     "name": "stdout",
     "output_type": "stream",
     "text": [
      "Epoch 80, Loss 0.0258\n",
      "Training Accuracy: 0.9703, Testing Accuracy: 0.9718\n",
      "\n"
     ]
    },
    {
     "name": "stdout",
     "output_type": "stream",
     "text": [
      "Epoch 90, Loss 0.0247\n",
      "Training Accuracy: 0.9713, Testing Accuracy: 0.9728\n",
      "\n"
     ]
    },
    {
     "name": "stdout",
     "output_type": "stream",
     "text": [
      "Epoch 100, Loss 0.0238\n",
      "Training Accuracy: 0.9722, Testing Accuracy: 0.9733\n",
      "\n"
     ]
    },
    {
     "name": "stdout",
     "output_type": "stream",
     "text": [
      "Epoch 110, Loss 0.023\n",
      "Training Accuracy: 0.9735, Testing Accuracy: 0.9743\n",
      "\n"
     ]
    },
    {
     "name": "stdout",
     "output_type": "stream",
     "text": [
      "Epoch 120, Loss 0.0222\n",
      "Training Accuracy: 0.9740, Testing Accuracy: 0.9743\n",
      "\n"
     ]
    },
    {
     "name": "stdout",
     "output_type": "stream",
     "text": [
      "Epoch 130, Loss 0.0216\n",
      "Training Accuracy: 0.9746, Testing Accuracy: 0.9738\n",
      "\n"
     ]
    },
    {
     "name": "stdout",
     "output_type": "stream",
     "text": [
      "Epoch 140, Loss 0.021\n",
      "Training Accuracy: 0.9755, Testing Accuracy: 0.9748\n",
      "\n"
     ]
    },
    {
     "name": "stdout",
     "output_type": "stream",
     "text": [
      "Epoch 150, Loss 0.0204\n",
      "Training Accuracy: 0.9765, Testing Accuracy: 0.9753\n",
      "\n"
     ]
    },
    {
     "name": "stdout",
     "output_type": "stream",
     "text": [
      "Epoch 160, Loss 0.0199\n",
      "Training Accuracy: 0.9778, Testing Accuracy: 0.9758\n",
      "\n"
     ]
    },
    {
     "name": "stdout",
     "output_type": "stream",
     "text": [
      "Epoch 170, Loss 0.0194\n",
      "Training Accuracy: 0.9786, Testing Accuracy: 0.9758\n",
      "\n"
     ]
    },
    {
     "name": "stdout",
     "output_type": "stream",
     "text": [
      "Epoch 180, Loss 0.0189\n",
      "Training Accuracy: 0.9792, Testing Accuracy: 0.9758\n",
      "\n"
     ]
    },
    {
     "name": "stdout",
     "output_type": "stream",
     "text": [
      "Epoch 190, Loss 0.0184\n",
      "Training Accuracy: 0.9801, Testing Accuracy: 0.9758\n",
      "\n"
     ]
    },
    {
     "name": "stdout",
     "output_type": "stream",
     "text": [
      "Epoch 200, Loss 0.018\n",
      "Training Accuracy: 0.9811, Testing Accuracy: 0.9748\n",
      "\n"
     ]
    },
    {
     "name": "stdout",
     "output_type": "stream",
     "text": [
      "Epoch 210, Loss 0.0176\n",
      "Training Accuracy: 0.9813, Testing Accuracy: 0.9748\n",
      "\n"
     ]
    },
    {
     "name": "stdout",
     "output_type": "stream",
     "text": [
      "Epoch 220, Loss 0.0172\n",
      "Training Accuracy: 0.9817, Testing Accuracy: 0.9748\n",
      "\n"
     ]
    },
    {
     "name": "stdout",
     "output_type": "stream",
     "text": [
      "Epoch 230, Loss 0.0168\n",
      "Training Accuracy: 0.9821, Testing Accuracy: 0.9758\n",
      "\n"
     ]
    },
    {
     "name": "stdout",
     "output_type": "stream",
     "text": [
      "Epoch 240, Loss 0.0165\n",
      "Training Accuracy: 0.9830, Testing Accuracy: 0.9758\n",
      "\n"
     ]
    },
    {
     "data": {
      "text/plain": [
       "0.0056476334368318086"
      ]
     },
     "execution_count": 22,
     "metadata": {},
     "output_type": "execute_result"
    }
   ],
   "source": [
    "nn_learner.train_loop(dl)"
   ]
  },
  {
   "cell_type": "code",
   "execution_count": 23,
   "id": "e0163366",
   "metadata": {
    "execution": {
     "iopub.execute_input": "2022-08-04T10:13:09.818823Z",
     "iopub.status.busy": "2022-08-04T10:13:09.818244Z",
     "iopub.status.idle": "2022-08-04T10:13:22.020818Z",
     "shell.execute_reply": "2022-08-04T10:13:22.021635Z"
    },
    "papermill": {
     "duration": 12.24319,
     "end_time": "2022-08-04T10:13:22.021773",
     "exception": false,
     "start_time": "2022-08-04T10:13:09.778583",
     "status": "completed"
    },
    "tags": []
   },
   "outputs": [
    {
     "name": "stdout",
     "output_type": "stream",
     "text": [
      "Epoch 0, Loss 0.2366\n",
      "Training Accuracy: 0.6911, Testing Accuracy: 0.6920\n",
      "\n"
     ]
    },
    {
     "name": "stdout",
     "output_type": "stream",
     "text": [
      "Epoch 10, Loss 0.1088\n",
      "Training Accuracy: 0.8938, Testing Accuracy: 0.9022\n",
      "\n"
     ]
    },
    {
     "name": "stdout",
     "output_type": "stream",
     "text": [
      "Epoch 20, Loss 0.0826\n",
      "Training Accuracy: 0.9211, Testing Accuracy: 0.9299\n",
      "\n"
     ]
    },
    {
     "name": "stdout",
     "output_type": "stream",
     "text": [
      "Epoch 30, Loss 0.0704\n",
      "Training Accuracy: 0.9325, Testing Accuracy: 0.9425\n",
      "\n"
     ]
    },
    {
     "name": "stdout",
     "output_type": "stream",
     "text": [
      "Epoch 40, Loss 0.0632\n",
      "Training Accuracy: 0.9403, Testing Accuracy: 0.9481\n",
      "\n"
     ]
    },
    {
     "name": "stdout",
     "output_type": "stream",
     "text": [
      "Epoch 50, Loss 0.0583\n",
      "Training Accuracy: 0.9443, Testing Accuracy: 0.9531\n",
      "\n"
     ]
    },
    {
     "name": "stdout",
     "output_type": "stream",
     "text": [
      "Epoch 60, Loss 0.0547\n",
      "Training Accuracy: 0.9463, Testing Accuracy: 0.9577\n",
      "\n"
     ]
    },
    {
     "name": "stdout",
     "output_type": "stream",
     "text": [
      "Epoch 70, Loss 0.052\n",
      "Training Accuracy: 0.9493, Testing Accuracy: 0.9577\n",
      "\n"
     ]
    },
    {
     "name": "stdout",
     "output_type": "stream",
     "text": [
      "Epoch 80, Loss 0.0499\n",
      "Training Accuracy: 0.9508, Testing Accuracy: 0.9582\n",
      "\n"
     ]
    },
    {
     "name": "stdout",
     "output_type": "stream",
     "text": [
      "Epoch 90, Loss 0.0481\n",
      "Training Accuracy: 0.9521, Testing Accuracy: 0.9602\n",
      "\n"
     ]
    },
    {
     "name": "stdout",
     "output_type": "stream",
     "text": [
      "Epoch 100, Loss 0.0466\n",
      "Training Accuracy: 0.9528, Testing Accuracy: 0.9622\n",
      "\n"
     ]
    },
    {
     "name": "stdout",
     "output_type": "stream",
     "text": [
      "Epoch 110, Loss 0.0453\n",
      "Training Accuracy: 0.9533, Testing Accuracy: 0.9622\n",
      "\n"
     ]
    },
    {
     "name": "stdout",
     "output_type": "stream",
     "text": [
      "Epoch 120, Loss 0.0442\n",
      "Training Accuracy: 0.9543, Testing Accuracy: 0.9627\n",
      "\n"
     ]
    },
    {
     "name": "stdout",
     "output_type": "stream",
     "text": [
      "Epoch 130, Loss 0.0432\n",
      "Training Accuracy: 0.9552, Testing Accuracy: 0.9632\n",
      "\n"
     ]
    },
    {
     "name": "stdout",
     "output_type": "stream",
     "text": [
      "Epoch 140, Loss 0.0424\n",
      "Training Accuracy: 0.9559, Testing Accuracy: 0.9637\n",
      "\n"
     ]
    },
    {
     "name": "stdout",
     "output_type": "stream",
     "text": [
      "Epoch 150, Loss 0.0416\n",
      "Training Accuracy: 0.9567, Testing Accuracy: 0.9637\n",
      "\n"
     ]
    },
    {
     "name": "stdout",
     "output_type": "stream",
     "text": [
      "Epoch 160, Loss 0.0409\n",
      "Training Accuracy: 0.9570, Testing Accuracy: 0.9662\n",
      "\n"
     ]
    },
    {
     "name": "stdout",
     "output_type": "stream",
     "text": [
      "Epoch 170, Loss 0.0403\n",
      "Training Accuracy: 0.9577, Testing Accuracy: 0.9667\n",
      "\n"
     ]
    },
    {
     "name": "stdout",
     "output_type": "stream",
     "text": [
      "Epoch 180, Loss 0.0397\n",
      "Training Accuracy: 0.9583, Testing Accuracy: 0.9667\n",
      "\n"
     ]
    },
    {
     "name": "stdout",
     "output_type": "stream",
     "text": [
      "Epoch 190, Loss 0.0392\n",
      "Training Accuracy: 0.9588, Testing Accuracy: 0.9667\n",
      "\n"
     ]
    },
    {
     "name": "stdout",
     "output_type": "stream",
     "text": [
      "Epoch 200, Loss 0.0387\n",
      "Training Accuracy: 0.9592, Testing Accuracy: 0.9672\n",
      "\n"
     ]
    },
    {
     "name": "stdout",
     "output_type": "stream",
     "text": [
      "Epoch 210, Loss 0.0382\n",
      "Training Accuracy: 0.9595, Testing Accuracy: 0.9672\n",
      "\n"
     ]
    },
    {
     "name": "stdout",
     "output_type": "stream",
     "text": [
      "Epoch 220, Loss 0.0378\n",
      "Training Accuracy: 0.9598, Testing Accuracy: 0.9672\n",
      "\n"
     ]
    },
    {
     "name": "stdout",
     "output_type": "stream",
     "text": [
      "Epoch 230, Loss 0.0374\n",
      "Training Accuracy: 0.9604, Testing Accuracy: 0.9677\n",
      "\n"
     ]
    },
    {
     "name": "stdout",
     "output_type": "stream",
     "text": [
      "Epoch 240, Loss 0.0371\n",
      "Training Accuracy: 0.9604, Testing Accuracy: 0.9682\n",
      "\n"
     ]
    },
    {
     "data": {
      "text/plain": [
       "0.06124520641127479"
      ]
     },
     "execution_count": 23,
     "metadata": {},
     "output_type": "execute_result"
    }
   ],
   "source": [
    "lr_learner.train_loop(dl)"
   ]
  },
  {
   "cell_type": "code",
   "execution_count": 24,
   "id": "ca410940",
   "metadata": {
    "execution": {
     "iopub.execute_input": "2022-08-04T10:13:22.118928Z",
     "iopub.status.busy": "2022-08-04T10:13:22.118371Z",
     "iopub.status.idle": "2022-08-04T10:13:22.341103Z",
     "shell.execute_reply": "2022-08-04T10:13:22.340645Z"
    },
    "papermill": {
     "duration": 0.277049,
     "end_time": "2022-08-04T10:13:22.341219",
     "exception": false,
     "start_time": "2022-08-04T10:13:22.064170",
     "status": "completed"
    },
    "tags": []
   },
   "outputs": [
    {
     "data": {
      "text/plain": [
       "<matplotlib.legend.Legend at 0x7fb71e9fcb70>"
      ]
     },
     "execution_count": 24,
     "metadata": {},
     "output_type": "execute_result"
    },
    {
     "data": {
      "image/png": "[encoded data removed]",
      "text/plain": [
       "<Figure size 1080x720 with 1 Axes>"
      ]
     },
     "metadata": {
      "needs_background": "light"
     },
     "output_type": "display_data"
    }
   ],
   "source": [
    "#comparing the results of NN and LR\n",
    "plt.figure(figsize=(15,10))\n",
    "\n",
    "# Neural Network plots\n",
    "plt.plot(acc_nn.accuracies, 'r-', label = \"Training Accuracies - NN\")\n",
    "plt.plot(acc_nn.test_accuracies, 'g-', label = \"Testing Accuracies - NN\")\n",
    "\n",
    "# Logistic Regression plots\n",
    "plt.plot(acc_lr.accuracies, 'k-', label = \"Training Accuracies - LR\")\n",
    "plt.plot(acc_lr.test_accuracies, 'b-', label = \"Testing Accuracies - LR\")\n",
    "plt.legend()"
   ]
  },
  {
   "cell_type": "markdown",
   "id": "80dfb35c",
   "metadata": {
    "papermill": {
     "duration": 0.042398,
     "end_time": "2022-08-04T10:13:22.426389",
     "exception": false,
     "start_time": "2022-08-04T10:13:22.383991",
     "status": "completed"
    },
    "tags": []
   },
   "source": [
    "#### Plotting the outputs of this layer of the NN.\n"
   ]
  },
  {
   "cell_type": "code",
   "execution_count": 25,
   "id": "45eb2ff5",
   "metadata": {
    "execution": {
     "iopub.execute_input": "2022-08-04T10:13:22.517123Z",
     "iopub.status.busy": "2022-08-04T10:13:22.516563Z",
     "iopub.status.idle": "2022-08-04T10:13:22.570538Z",
     "shell.execute_reply": "2022-08-04T10:13:22.570036Z"
    },
    "papermill": {
     "duration": 0.101377,
     "end_time": "2022-08-04T10:13:22.570650",
     "exception": false,
     "start_time": "2022-08-04T10:13:22.469273",
     "status": "completed"
    },
    "tags": []
   },
   "outputs": [],
   "source": [
    "new_model = Model(layers[:-2])\n",
    "testing_plot = new_model(testing_data_x)"
   ]
  },
  {
   "cell_type": "code",
   "execution_count": 26,
   "id": "4c0a5485",
   "metadata": {
    "execution": {
     "iopub.execute_input": "2022-08-04T10:13:22.664101Z",
     "iopub.status.busy": "2022-08-04T10:13:22.663551Z",
     "iopub.status.idle": "2022-08-04T10:13:22.871913Z",
     "shell.execute_reply": "2022-08-04T10:13:22.871455Z"
    },
    "papermill": {
     "duration": 0.25839,
     "end_time": "2022-08-04T10:13:22.872026",
     "exception": false,
     "start_time": "2022-08-04T10:13:22.613636",
     "status": "completed"
    },
    "tags": []
   },
   "outputs": [
    {
     "data": {
      "text/plain": [
       "Text(0.5, 1.0, 'Outputs')"
      ]
     },
     "execution_count": 26,
     "metadata": {},
     "output_type": "execute_result"
    },
    {
     "data": {
      "image/png": "[encoded data removed]",
      "text/plain": [
       "<Figure size 576x504 with 1 Axes>"
      ]
     },
     "metadata": {
      "needs_background": "light"
     },
     "output_type": "display_data"
    }
   ],
   "source": [
    "# Plotting the scatter plot of points and color coding by class\n",
    "plt.figure(figsize=(8,7))\n",
    "plt.scatter(testing_plot[:,0], testing_plot[:,1], alpha = 0.1, c = y_test.ravel());\n",
    "plt.title('Outputs')"
   ]
  },
  {
   "cell_type": "markdown",
   "id": "a74fcf8f",
   "metadata": {
    "papermill": {
     "duration": 0.04552,
     "end_time": "2022-08-04T10:13:22.963232",
     "exception": false,
     "start_time": "2022-08-04T10:13:22.917712",
     "status": "completed"
    },
    "tags": []
   },
   "source": [
    "Probability contours"
   ]
  },
  {
   "cell_type": "code",
   "execution_count": 27,
   "id": "d0afc8e3",
   "metadata": {
    "execution": {
     "iopub.execute_input": "2022-08-04T10:13:23.082730Z",
     "iopub.status.busy": "2022-08-04T10:13:23.082163Z",
     "iopub.status.idle": "2022-08-04T10:13:23.092564Z",
     "shell.execute_reply": "2022-08-04T10:13:23.092011Z"
    },
    "papermill": {
     "duration": 0.083554,
     "end_time": "2022-08-04T10:13:23.092670",
     "exception": false,
     "start_time": "2022-08-04T10:13:23.009116",
     "status": "completed"
    },
    "tags": []
   },
   "outputs": [],
   "source": [
    "model_prob = Model(layers[-2:]) "
   ]
  },
  {
   "cell_type": "code",
   "execution_count": 28,
   "id": "9b96e238",
   "metadata": {
    "execution": {
     "iopub.execute_input": "2022-08-04T10:13:23.188801Z",
     "iopub.status.busy": "2022-08-04T10:13:23.188229Z",
     "iopub.status.idle": "2022-08-04T10:13:23.201932Z",
     "shell.execute_reply": "2022-08-04T10:13:23.202647Z"
    },
    "papermill": {
     "duration": 0.064489,
     "end_time": "2022-08-04T10:13:23.202776",
     "exception": false,
     "start_time": "2022-08-04T10:13:23.138287",
     "status": "completed"
    },
    "tags": []
   },
   "outputs": [],
   "source": [
    "#creating the x and y ranges according to the above generated plot.\n",
    "x_range = np.linspace(-4, 1, 100) \n",
    "y_range = np.linspace(-6, 6, 100) \n",
    "x_grid, y_grid = np.meshgrid(x_range, y_range) # x_grid and y_grig are of size 100 X 100\n",
    "\n",
    "# converting x_grid and y_grid to continuous arrays\n",
    "x_gridflat = np.ravel(x_grid)\n",
    "y_gridflat = np.ravel(y_grid)\n",
    "\n",
    "# The last layer of the current model takes two columns as input. Hence transpose of np.vstack() is required.\n",
    "X = np.vstack((x_gridflat, y_gridflat)).T\n",
    "\n",
    "prob_contour = model_prob(X).reshape(100,100) "
   ]
  },
  {
   "cell_type": "code",
   "execution_count": 29,
   "id": "da72499a",
   "metadata": {
    "execution": {
     "iopub.execute_input": "2022-08-04T10:13:23.302230Z",
     "iopub.status.busy": "2022-08-04T10:13:23.300563Z",
     "iopub.status.idle": "2022-08-04T10:13:23.543295Z",
     "shell.execute_reply": "2022-08-04T10:13:23.543716Z"
    },
    "papermill": {
     "duration": 0.294775,
     "end_time": "2022-08-04T10:13:23.543847",
     "exception": false,
     "start_time": "2022-08-04T10:13:23.249072",
     "status": "completed"
    },
    "tags": []
   },
   "outputs": [
    {
     "data": {
      "image/png": "[encoded data removed]",
      "text/plain": [
       "<Figure size 720x648 with 1 Axes>"
      ]
     },
     "metadata": {
      "needs_background": "light"
     },
     "output_type": "display_data"
    }
   ],
   "source": [
    "plt.figure(figsize=(10,9))\n",
    "plt.scatter(testing_plot[:,0], testing_plot[:,1], alpha = 0.1, c = y_test.ravel())\n",
    "contours = plt.contour(x_grid,y_grid,prob_contour)\n",
    "plt.title('Probability Contours')\n",
    "plt.clabel(contours, inline = True );"
   ]
  },
  {
   "cell_type": "code",
   "execution_count": null,
   "id": "e81b4ac7",
   "metadata": {
    "papermill": {
     "duration": 0.048161,
     "end_time": "2022-08-04T10:13:23.640589",
     "exception": false,
     "start_time": "2022-08-04T10:13:23.592428",
     "status": "completed"
    },
    "tags": []
   },
   "outputs": [],
   "source": []
  }
 ],
 "metadata": {
  "kernelspec": {
   "display_name": "Python 3",
   "language": "python",
   "name": "python3"
  },
  "language_info": {
   "codemirror_mode": {
    "name": "ipython",
    "version": 3
   },
   "file_extension": ".py",
   "mimetype": "text/x-python",
   "name": "python",
   "nbconvert_exporter": "python",
   "pygments_lexer": "ipython3",
   "version": "3.6.15"
  },
  "papermill": {
   "default_parameters": {},
   "duration": 196.914171,
   "end_time": "2022-08-04T10:13:24.006203",
   "environment_variables": {},
   "exception": null,
   "input_path": "2020-08-11-part2.ipynb",
   "output_path": "2020-08-11-part2.ipynb",
   "parameters": {},
   "start_time": "2022-08-04T10:10:07.092032",
   "version": "2.3.3"
  }
 },
 "nbformat": 4,
 "nbformat_minor": 5
}