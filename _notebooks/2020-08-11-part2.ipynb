{
 "cells": [
  {
   "cell_type": "markdown",
   "id": "98380cd3",
   "metadata": {
    "papermill": {
     "duration": 0.034643,
     "end_time": "2022-10-27T00:48:04.576639",
     "exception": false,
     "start_time": "2022-10-27T00:48:04.541996",
     "status": "completed"
    },
    "tags": []
   },
   "source": [
    "# Distinguish Your Own Digits (DYOD)"
   ]
  },
  {
   "cell_type": "markdown",
   "id": "ef31240d",
   "metadata": {
    "papermill": {
     "duration": 0.030236,
     "end_time": "2022-10-27T00:48:04.635672",
     "exception": false,
     "start_time": "2022-10-27T00:48:04.605436",
     "status": "completed"
    },
    "tags": []
   },
   "source": [
    "You are going to write a classifier that distinguishes between the number 3 and number 8."
   ]
  },
  {
   "cell_type": "code",
   "execution_count": 1,
   "id": "b15c8646",
   "metadata": {
    "execution": {
     "iopub.execute_input": "2022-10-27T00:48:04.705742Z",
     "iopub.status.busy": "2022-10-27T00:48:04.705039Z",
     "iopub.status.idle": "2022-10-27T00:48:04.718202Z",
     "shell.execute_reply": "2022-10-27T00:48:04.717636Z"
    },
    "papermill": {
     "duration": 0.053968,
     "end_time": "2022-10-27T00:48:04.718354",
     "exception": false,
     "start_time": "2022-10-27T00:48:04.664386",
     "status": "completed"
    },
    "tags": []
   },
   "outputs": [],
   "source": [
    "%load_ext autoreload\n",
    "%autoreload 2"
   ]
  },
  {
   "cell_type": "code",
   "execution_count": 2,
   "id": "22ef38dc",
   "metadata": {
    "execution": {
     "iopub.execute_input": "2022-10-27T00:48:04.781191Z",
     "iopub.status.busy": "2022-10-27T00:48:04.780502Z",
     "iopub.status.idle": "2022-10-27T00:48:05.470858Z",
     "shell.execute_reply": "2022-10-27T00:48:05.470301Z"
    },
    "papermill": {
     "duration": 0.724358,
     "end_time": "2022-10-27T00:48:05.470995",
     "exception": false,
     "start_time": "2022-10-27T00:48:04.746637",
     "status": "completed"
    },
    "tags": []
   },
   "outputs": [],
   "source": [
    "%matplotlib inline\n",
    "import numpy as np\n",
    "import matplotlib.pyplot as plt\n",
    "import pandas as pd"
   ]
  },
  {
   "cell_type": "markdown",
   "id": "ba036198",
   "metadata": {
    "papermill": {
     "duration": 0.029262,
     "end_time": "2022-10-27T00:48:05.528055",
     "exception": false,
     "start_time": "2022-10-27T00:48:05.498793",
     "status": "completed"
    },
    "tags": []
   },
   "source": [
    "From the command line run `pip install mnist`. This is a library that will help you bring down the mnist dataset. If you run this from a notebook, you need to put  `!pip install mnist` in a cell by itself."
   ]
  },
  {
   "cell_type": "code",
   "execution_count": 3,
   "id": "bb6ad8a1",
   "metadata": {
    "execution": {
     "iopub.execute_input": "2022-10-27T00:48:05.596466Z",
     "iopub.status.busy": "2022-10-27T00:48:05.595667Z",
     "iopub.status.idle": "2022-10-27T00:48:07.557599Z",
     "shell.execute_reply": "2022-10-27T00:48:07.556842Z"
    },
    "papermill": {
     "duration": 2.000219,
     "end_time": "2022-10-27T00:48:07.557756",
     "exception": false,
     "start_time": "2022-10-27T00:48:05.557537",
     "status": "completed"
    },
    "tags": []
   },
   "outputs": [
    {
     "name": "stdout",
     "output_type": "stream",
     "text": [
      "Collecting mnist\r\n"
     ]
    },
    {
     "name": "stdout",
     "output_type": "stream",
     "text": [
      "  Downloading mnist-0.2.2-py2.py3-none-any.whl (3.5 kB)\r\n",
      "Requirement already satisfied: numpy in /opt/hostedtoolcache/Python/3.6.15/x64/lib/python3.6/site-packages (from mnist) (1.19.5)\r\n"
     ]
    },
    {
     "name": "stdout",
     "output_type": "stream",
     "text": [
      "Installing collected packages: mnist\r\n"
     ]
    },
    {
     "name": "stdout",
     "output_type": "stream",
     "text": [
      "Successfully installed mnist-0.2.2\r\n"
     ]
    }
   ],
   "source": [
    "!pip install mnist"
   ]
  },
  {
   "cell_type": "markdown",
   "id": "69df9c9a",
   "metadata": {
    "papermill": {
     "duration": 0.031805,
     "end_time": "2022-10-27T00:48:07.620051",
     "exception": false,
     "start_time": "2022-10-27T00:48:07.588246",
     "status": "completed"
    },
    "tags": []
   },
   "source": [
    "## Preparing the Data"
   ]
  },
  {
   "cell_type": "code",
   "execution_count": 4,
   "id": "7f69d806",
   "metadata": {
    "execution": {
     "iopub.execute_input": "2022-10-27T00:48:07.685076Z",
     "iopub.status.busy": "2022-10-27T00:48:07.684325Z",
     "iopub.status.idle": "2022-10-27T00:48:07.700574Z",
     "shell.execute_reply": "2022-10-27T00:48:07.699853Z"
    },
    "papermill": {
     "duration": 0.05116,
     "end_time": "2022-10-27T00:48:07.700699",
     "exception": false,
     "start_time": "2022-10-27T00:48:07.649539",
     "status": "completed"
    },
    "tags": []
   },
   "outputs": [],
   "source": [
    "import mnist"
   ]
  },
  {
   "cell_type": "code",
   "execution_count": 5,
   "id": "a411e44f",
   "metadata": {
    "execution": {
     "iopub.execute_input": "2022-10-27T00:48:07.770559Z",
     "iopub.status.busy": "2022-10-27T00:48:07.769888Z",
     "iopub.status.idle": "2022-10-27T00:48:08.345695Z",
     "shell.execute_reply": "2022-10-27T00:48:08.344971Z"
    },
    "papermill": {
     "duration": 0.614607,
     "end_time": "2022-10-27T00:48:08.345931",
     "exception": false,
     "start_time": "2022-10-27T00:48:07.731324",
     "status": "completed"
    },
    "tags": []
   },
   "outputs": [],
   "source": [
    "train_images = mnist.train_images()\n",
    "train_labels = mnist.train_labels()"
   ]
  },
  {
   "cell_type": "code",
   "execution_count": 6,
   "id": "dceab3a5",
   "metadata": {
    "execution": {
     "iopub.execute_input": "2022-10-27T00:48:08.420256Z",
     "iopub.status.busy": "2022-10-27T00:48:08.419464Z",
     "iopub.status.idle": "2022-10-27T00:48:08.435678Z",
     "shell.execute_reply": "2022-10-27T00:48:08.436299Z"
    },
    "papermill": {
     "duration": 0.057515,
     "end_time": "2022-10-27T00:48:08.436480",
     "exception": false,
     "start_time": "2022-10-27T00:48:08.378965",
     "status": "completed"
    },
    "tags": []
   },
   "outputs": [
    {
     "data": {
      "text/plain": [
       "((60000, 28, 28), (60000,))"
      ]
     },
     "execution_count": 6,
     "metadata": {},
     "output_type": "execute_result"
    }
   ],
   "source": [
    "train_images.shape, train_labels.shape"
   ]
  },
  {
   "cell_type": "code",
   "execution_count": 7,
   "id": "f50dc2bb",
   "metadata": {
    "execution": {
     "iopub.execute_input": "2022-10-27T00:48:08.508876Z",
     "iopub.status.busy": "2022-10-27T00:48:08.508210Z",
     "iopub.status.idle": "2022-10-27T00:48:08.630341Z",
     "shell.execute_reply": "2022-10-27T00:48:08.628744Z"
    },
    "papermill": {
     "duration": 0.162793,
     "end_time": "2022-10-27T00:48:08.630538",
     "exception": false,
     "start_time": "2022-10-27T00:48:08.467745",
     "status": "completed"
    },
    "tags": []
   },
   "outputs": [],
   "source": [
    "test_images = mnist.test_images()\n",
    "test_labels = mnist.test_labels()"
   ]
  },
  {
   "cell_type": "code",
   "execution_count": 8,
   "id": "fc38cf1b",
   "metadata": {
    "execution": {
     "iopub.execute_input": "2022-10-27T00:48:08.695171Z",
     "iopub.status.busy": "2022-10-27T00:48:08.694501Z",
     "iopub.status.idle": "2022-10-27T00:48:08.709270Z",
     "shell.execute_reply": "2022-10-27T00:48:08.708465Z"
    },
    "papermill": {
     "duration": 0.049858,
     "end_time": "2022-10-27T00:48:08.709392",
     "exception": false,
     "start_time": "2022-10-27T00:48:08.659534",
     "status": "completed"
    },
    "tags": []
   },
   "outputs": [
    {
     "data": {
      "text/plain": [
       "((10000, 28, 28), (10000,))"
      ]
     },
     "execution_count": 8,
     "metadata": {},
     "output_type": "execute_result"
    }
   ],
   "source": [
    "test_images.shape, test_labels.shape"
   ]
  },
  {
   "cell_type": "code",
   "execution_count": 9,
   "id": "f9ed8fe0",
   "metadata": {
    "execution": {
     "iopub.execute_input": "2022-10-27T00:48:08.777888Z",
     "iopub.status.busy": "2022-10-27T00:48:08.777122Z",
     "iopub.status.idle": "2022-10-27T00:48:08.979887Z",
     "shell.execute_reply": "2022-10-27T00:48:08.979202Z"
    },
    "papermill": {
     "duration": 0.239875,
     "end_time": "2022-10-27T00:48:08.980075",
     "exception": false,
     "start_time": "2022-10-27T00:48:08.740200",
     "status": "completed"
    },
    "tags": []
   },
   "outputs": [
    {
     "name": "stdout",
     "output_type": "stream",
     "text": [
      "2\n"
     ]
    },
    {
     "data": {
      "text/plain": [
       "<matplotlib.image.AxesImage at 0x7f6142602c88>"
      ]
     },
     "execution_count": 9,
     "metadata": {},
     "output_type": "execute_result"
    },
    {
     "data": {
      "image/png": "[encoded data removed]",
      "text/plain": [
       "<Figure size 432x288 with 1 Axes>"
      ]
     },
     "metadata": {
      "needs_background": "light"
     },
     "output_type": "display_data"
    }
   ],
   "source": [
    "image_index = 7776 # You may select anything up to 60,000\n",
    "print(train_labels[image_index]) \n",
    "plt.imshow(train_images[image_index], cmap='Greys')"
   ]
  },
  {
   "cell_type": "markdown",
   "id": "a8d2388d",
   "metadata": {
    "papermill": {
     "duration": 0.037181,
     "end_time": "2022-10-27T00:48:09.055443",
     "exception": false,
     "start_time": "2022-10-27T00:48:09.018262",
     "status": "completed"
    },
    "tags": []
   },
   "source": [
    "## Filter data to get 3 and 8 out"
   ]
  },
  {
   "cell_type": "code",
   "execution_count": 10,
   "id": "776f7fc7",
   "metadata": {
    "execution": {
     "iopub.execute_input": "2022-10-27T00:48:09.144190Z",
     "iopub.status.busy": "2022-10-27T00:48:09.143377Z",
     "iopub.status.idle": "2022-10-27T00:48:09.166314Z",
     "shell.execute_reply": "2022-10-27T00:48:09.165769Z"
    },
    "papermill": {
     "duration": 0.06119,
     "end_time": "2022-10-27T00:48:09.166453",
     "exception": false,
     "start_time": "2022-10-27T00:48:09.105263",
     "status": "completed"
    },
    "tags": []
   },
   "outputs": [],
   "source": [
    "train_filter = np.where((train_labels == 3 ) | (train_labels == 8))\n",
    "test_filter = np.where((test_labels == 3) | (test_labels == 8))\n",
    "X_train, y_train = train_images[train_filter], train_labels[train_filter]\n",
    "X_test, y_test = test_images[test_filter], test_labels[test_filter]"
   ]
  },
  {
   "cell_type": "markdown",
   "id": "948f0b7e",
   "metadata": {
    "papermill": {
     "duration": 0.033352,
     "end_time": "2022-10-27T00:48:09.234111",
     "exception": false,
     "start_time": "2022-10-27T00:48:09.200759",
     "status": "completed"
    },
    "tags": []
   },
   "source": [
    "We normalize the pizel values in the 0 to 1 range"
   ]
  },
  {
   "cell_type": "code",
   "execution_count": 11,
   "id": "ee4c2166",
   "metadata": {
    "execution": {
     "iopub.execute_input": "2022-10-27T00:48:09.310015Z",
     "iopub.status.busy": "2022-10-27T00:48:09.309270Z",
     "iopub.status.idle": "2022-10-27T00:48:09.390663Z",
     "shell.execute_reply": "2022-10-27T00:48:09.390024Z"
    },
    "papermill": {
     "duration": 0.124581,
     "end_time": "2022-10-27T00:48:09.390850",
     "exception": false,
     "start_time": "2022-10-27T00:48:09.266269",
     "status": "completed"
    },
    "tags": []
   },
   "outputs": [],
   "source": [
    "X_train = X_train/255.\n",
    "X_test = X_test/255."
   ]
  },
  {
   "cell_type": "markdown",
   "id": "ddcf4fab",
   "metadata": {
    "papermill": {
     "duration": 0.041501,
     "end_time": "2022-10-27T00:48:09.480113",
     "exception": false,
     "start_time": "2022-10-27T00:48:09.438612",
     "status": "completed"
    },
    "tags": []
   },
   "source": [
    "And setup the labels as 1 (when the digit is 3) and 0 (when the digit is 8)"
   ]
  },
  {
   "cell_type": "code",
   "execution_count": 12,
   "id": "7dc908f2",
   "metadata": {
    "execution": {
     "iopub.execute_input": "2022-10-27T00:48:09.552969Z",
     "iopub.status.busy": "2022-10-27T00:48:09.552242Z",
     "iopub.status.idle": "2022-10-27T00:48:09.566926Z",
     "shell.execute_reply": "2022-10-27T00:48:09.566320Z"
    },
    "papermill": {
     "duration": 0.052594,
     "end_time": "2022-10-27T00:48:09.567139",
     "exception": false,
     "start_time": "2022-10-27T00:48:09.514545",
     "status": "completed"
    },
    "tags": []
   },
   "outputs": [],
   "source": [
    "y_train = 1*(y_train==3)\n",
    "y_test = 1*(y_test==3)"
   ]
  },
  {
   "cell_type": "code",
   "execution_count": 13,
   "id": "01e4e969",
   "metadata": {
    "execution": {
     "iopub.execute_input": "2022-10-27T00:48:09.634992Z",
     "iopub.status.busy": "2022-10-27T00:48:09.634311Z",
     "iopub.status.idle": "2022-10-27T00:48:09.649800Z",
     "shell.execute_reply": "2022-10-27T00:48:09.649088Z"
    },
    "papermill": {
     "duration": 0.052199,
     "end_time": "2022-10-27T00:48:09.649987",
     "exception": false,
     "start_time": "2022-10-27T00:48:09.597788",
     "status": "completed"
    },
    "tags": []
   },
   "outputs": [
    {
     "data": {
      "text/plain": [
       "((11982, 28, 28), (1984, 28, 28))"
      ]
     },
     "execution_count": 13,
     "metadata": {},
     "output_type": "execute_result"
    }
   ],
   "source": [
    "X_train.shape, X_test.shape"
   ]
  },
  {
   "cell_type": "markdown",
   "id": "5ccf3f85",
   "metadata": {
    "papermill": {
     "duration": 0.031668,
     "end_time": "2022-10-27T00:48:09.714031",
     "exception": false,
     "start_time": "2022-10-27T00:48:09.682363",
     "status": "completed"
    },
    "tags": []
   },
   "source": [
    "We reshape the data to flatten the image pixels into a set of features or co-variates:"
   ]
  },
  {
   "cell_type": "code",
   "execution_count": 14,
   "id": "5286a4a3",
   "metadata": {
    "execution": {
     "iopub.execute_input": "2022-10-27T00:48:09.786262Z",
     "iopub.status.busy": "2022-10-27T00:48:09.785557Z",
     "iopub.status.idle": "2022-10-27T00:48:09.800270Z",
     "shell.execute_reply": "2022-10-27T00:48:09.800914Z"
    },
    "papermill": {
     "duration": 0.055302,
     "end_time": "2022-10-27T00:48:09.801178",
     "exception": false,
     "start_time": "2022-10-27T00:48:09.745876",
     "status": "completed"
    },
    "tags": []
   },
   "outputs": [
    {
     "data": {
      "text/plain": [
       "((11982, 784), (1984, 784))"
      ]
     },
     "execution_count": 14,
     "metadata": {},
     "output_type": "execute_result"
    }
   ],
   "source": [
    "X_train = X_train.reshape(X_train.shape[0], -1)\n",
    "X_test = X_test.reshape(X_test.shape[0], -1)\n",
    "X_train.shape, X_test.shape"
   ]
  },
  {
   "cell_type": "code",
   "execution_count": 15,
   "id": "73c5f88a",
   "metadata": {
    "execution": {
     "iopub.execute_input": "2022-10-27T00:48:09.881921Z",
     "iopub.status.busy": "2022-10-27T00:48:09.881162Z",
     "iopub.status.idle": "2022-10-27T00:48:09.905228Z",
     "shell.execute_reply": "2022-10-27T00:48:09.905794Z"
    },
    "papermill": {
     "duration": 0.069135,
     "end_time": "2022-10-27T00:48:09.905974",
     "exception": false,
     "start_time": "2022-10-27T00:48:09.836839",
     "status": "completed"
    },
    "tags": []
   },
   "outputs": [],
   "source": [
    "#Impoting functions from 'Kudzu'\n",
    "from kudzu.model import Model\n",
    "from kudzu.train import Learner\n",
    "from kudzu.optim import GD\n",
    "from kudzu.data import Data, Sampler,Dataloader\n",
    "\n",
    "from kudzu.callbacks import AccCallback\n",
    "from kudzu.callbacks import ClfCallback\n",
    "\n",
    "from kudzu.loss import MSE\n",
    "\n",
    "from kudzu.layer import Sigmoid,Relu\n",
    "from kudzu.layer import Affine"
   ]
  },
  {
   "cell_type": "markdown",
   "id": "bc01172a",
   "metadata": {
    "papermill": {
     "duration": 0.033482,
     "end_time": "2022-10-27T00:48:09.974148",
     "exception": false,
     "start_time": "2022-10-27T00:48:09.940666",
     "status": "completed"
    },
    "tags": []
   },
   "source": [
    "### Let us create a `Config` class, to store important parameters. \n",
    "This class essentially plays the role of a dictionary."
   ]
  },
  {
   "cell_type": "code",
   "execution_count": 16,
   "id": "978281aa",
   "metadata": {
    "execution": {
     "iopub.execute_input": "2022-10-27T00:48:10.047560Z",
     "iopub.status.busy": "2022-10-27T00:48:10.046894Z",
     "iopub.status.idle": "2022-10-27T00:48:10.061077Z",
     "shell.execute_reply": "2022-10-27T00:48:10.061840Z"
    },
    "papermill": {
     "duration": 0.055237,
     "end_time": "2022-10-27T00:48:10.062044",
     "exception": false,
     "start_time": "2022-10-27T00:48:10.006807",
     "status": "completed"
    },
    "tags": []
   },
   "outputs": [],
   "source": [
    "class Config:\n",
    "    pass\n",
    "config = Config()\n",
    "config.lr = 0.001\n",
    "config.num_epochs = 250\n",
    "config.bs = 50"
   ]
  },
  {
   "cell_type": "markdown",
   "id": "1385fa59",
   "metadata": {
    "papermill": {
     "duration": 0.030728,
     "end_time": "2022-10-27T00:48:10.128478",
     "exception": false,
     "start_time": "2022-10-27T00:48:10.097750",
     "status": "completed"
    },
    "tags": []
   },
   "source": [
    "### Running Models with the Training data\n",
    "Details about the network layers:\n",
    "- A first affine layer has 784 inputs and does 100 affine transforms. These are followed by a Relu\n",
    "- A second affine layer has 100 inputs from the 100 activations of the past layer, and does 100 affine transforms. These are followed by a Relu\n",
    "- A third affine layer has 100 activations and does 2 affine transformations to create an embedding for visualization. There is no non-linearity here.\n",
    "- A final \"logistic regression\" which has an affine transform from 2 inputs to 1 output, which is squeezed through a sigmoid.\n"
   ]
  },
  {
   "cell_type": "code",
   "execution_count": 17,
   "id": "2b9c66db",
   "metadata": {
    "execution": {
     "iopub.execute_input": "2022-10-27T00:48:10.201667Z",
     "iopub.status.busy": "2022-10-27T00:48:10.200922Z",
     "iopub.status.idle": "2022-10-27T00:48:10.216266Z",
     "shell.execute_reply": "2022-10-27T00:48:10.215565Z"
    },
    "papermill": {
     "duration": 0.055868,
     "end_time": "2022-10-27T00:48:10.216422",
     "exception": false,
     "start_time": "2022-10-27T00:48:10.160554",
     "status": "completed"
    },
    "tags": []
   },
   "outputs": [],
   "source": [
    "data = Data(X_train, y_train.reshape(-1,1))\n",
    "sampler = Sampler(data, config.bs, shuffle=True)\n",
    "\n",
    "dl = Dataloader(data, sampler)\n",
    "\n",
    "opt = GD(config.lr)\n",
    "loss = MSE()"
   ]
  },
  {
   "cell_type": "code",
   "execution_count": 18,
   "id": "b275e4c2",
   "metadata": {
    "execution": {
     "iopub.execute_input": "2022-10-27T00:48:10.292121Z",
     "iopub.status.busy": "2022-10-27T00:48:10.291443Z",
     "iopub.status.idle": "2022-10-27T00:48:10.305708Z",
     "shell.execute_reply": "2022-10-27T00:48:10.305094Z"
    },
    "papermill": {
     "duration": 0.054017,
     "end_time": "2022-10-27T00:48:10.305838",
     "exception": false,
     "start_time": "2022-10-27T00:48:10.251821",
     "status": "completed"
    },
    "tags": []
   },
   "outputs": [],
   "source": [
    "training_data_x = X_train\n",
    "testing_data_x = X_test\n",
    "training_data_y = y_train.reshape(-1,1)\n",
    "testing_data_y = y_test.reshape(-1,1)"
   ]
  },
  {
   "cell_type": "code",
   "execution_count": 19,
   "id": "76951160",
   "metadata": {
    "execution": {
     "iopub.execute_input": "2022-10-27T00:48:10.380433Z",
     "iopub.status.busy": "2022-10-27T00:48:10.379266Z",
     "iopub.status.idle": "2022-10-27T00:48:10.399119Z",
     "shell.execute_reply": "2022-10-27T00:48:10.398439Z"
    },
    "papermill": {
     "duration": 0.060275,
     "end_time": "2022-10-27T00:48:10.399257",
     "exception": false,
     "start_time": "2022-10-27T00:48:10.338982",
     "status": "completed"
    },
    "tags": []
   },
   "outputs": [
    {
     "name": "stdout",
     "output_type": "stream",
     "text": [
      "xavier\n",
      "xavier\n",
      "xavier\n",
      "xavier\n",
      "xavier\n"
     ]
    }
   ],
   "source": [
    "layers = [Affine(\"first\", 784, 100), Relu(\"first\"), Affine(\"second\", 100, 100), Relu(\"second\"), Affine(\"third\", 100, 2), Affine(\"last\", 2, 1), Sigmoid(\"last\")]\n",
    "model_nn = Model(layers)\n",
    "model_lr = Model([Affine(\"logits\", 784, 1), Sigmoid(\"sigmoid\")])"
   ]
  },
  {
   "cell_type": "code",
   "execution_count": 20,
   "id": "6eede77a",
   "metadata": {
    "execution": {
     "iopub.execute_input": "2022-10-27T00:48:10.472813Z",
     "iopub.status.busy": "2022-10-27T00:48:10.472105Z",
     "iopub.status.idle": "2022-10-27T00:48:10.488007Z",
     "shell.execute_reply": "2022-10-27T00:48:10.487451Z"
    },
    "papermill": {
     "duration": 0.055057,
     "end_time": "2022-10-27T00:48:10.488138",
     "exception": false,
     "start_time": "2022-10-27T00:48:10.433081",
     "status": "completed"
    },
    "tags": []
   },
   "outputs": [],
   "source": [
    "nn_learner = Learner(loss, model_nn, opt, config.num_epochs)\n",
    "acc_nn = ClfCallback(nn_learner, config.bs, training_data_x , testing_data_x, training_data_y, testing_data_y)\n",
    "nn_learner.set_callbacks([acc_nn])"
   ]
  },
  {
   "cell_type": "code",
   "execution_count": 21,
   "id": "877b6cc7",
   "metadata": {
    "execution": {
     "iopub.execute_input": "2022-10-27T00:48:10.558919Z",
     "iopub.status.busy": "2022-10-27T00:48:10.558034Z",
     "iopub.status.idle": "2022-10-27T00:48:10.572441Z",
     "shell.execute_reply": "2022-10-27T00:48:10.572978Z"
    },
    "papermill": {
     "duration": 0.052219,
     "end_time": "2022-10-27T00:48:10.573141",
     "exception": false,
     "start_time": "2022-10-27T00:48:10.520922",
     "status": "completed"
    },
    "tags": []
   },
   "outputs": [],
   "source": [
    "lr_learner = Learner(loss, model_lr, opt, config.num_epochs)\n",
    "acc_lr = ClfCallback(lr_learner, config.bs, training_data_x , testing_data_x, training_data_y, testing_data_y)\n",
    "lr_learner.set_callbacks([acc_lr])"
   ]
  },
  {
   "cell_type": "code",
   "execution_count": 22,
   "id": "d9b133c3",
   "metadata": {
    "execution": {
     "iopub.execute_input": "2022-10-27T00:48:10.648270Z",
     "iopub.status.busy": "2022-10-27T00:48:10.647401Z",
     "iopub.status.idle": "2022-10-27T00:50:35.281236Z",
     "shell.execute_reply": "2022-10-27T00:50:35.282233Z"
    },
    "papermill": {
     "duration": 144.674197,
     "end_time": "2022-10-27T00:50:35.282419",
     "exception": false,
     "start_time": "2022-10-27T00:48:10.608222",
     "status": "completed"
    },
    "tags": []
   },
   "outputs": [
    {
     "name": "stdout",
     "output_type": "stream",
     "text": [
      "Epoch 0, Loss 0.2435\n",
      "Training Accuracy: 0.6669, Testing Accuracy: 0.6991\n",
      "\n"
     ]
    },
    {
     "name": "stdout",
     "output_type": "stream",
     "text": [
      "Epoch 10, Loss 0.1187\n",
      "Training Accuracy: 0.9100, Testing Accuracy: 0.9204\n",
      "\n"
     ]
    },
    {
     "name": "stdout",
     "output_type": "stream",
     "text": [
      "Epoch 20, Loss 0.0637\n",
      "Training Accuracy: 0.9370, Testing Accuracy: 0.9496\n",
      "\n"
     ]
    },
    {
     "name": "stdout",
     "output_type": "stream",
     "text": [
      "Epoch 30, Loss 0.0478\n",
      "Training Accuracy: 0.9490, Testing Accuracy: 0.9561\n",
      "\n"
     ]
    },
    {
     "name": "stdout",
     "output_type": "stream",
     "text": [
      "Epoch 40, Loss 0.0407\n",
      "Training Accuracy: 0.9538, Testing Accuracy: 0.9612\n",
      "\n"
     ]
    },
    {
     "name": "stdout",
     "output_type": "stream",
     "text": [
      "Epoch 50, Loss 0.0365\n",
      "Training Accuracy: 0.9578, Testing Accuracy: 0.9647\n",
      "\n"
     ]
    },
    {
     "name": "stdout",
     "output_type": "stream",
     "text": [
      "Epoch 60, Loss 0.0338\n",
      "Training Accuracy: 0.9603, Testing Accuracy: 0.9667\n",
      "\n"
     ]
    },
    {
     "name": "stdout",
     "output_type": "stream",
     "text": [
      "Epoch 70, Loss 0.0318\n",
      "Training Accuracy: 0.9620, Testing Accuracy: 0.9672\n",
      "\n"
     ]
    },
    {
     "name": "stdout",
     "output_type": "stream",
     "text": [
      "Epoch 80, Loss 0.0302\n",
      "Training Accuracy: 0.9639, Testing Accuracy: 0.9703\n",
      "\n"
     ]
    },
    {
     "name": "stdout",
     "output_type": "stream",
     "text": [
      "Epoch 90, Loss 0.0289\n",
      "Training Accuracy: 0.9649, Testing Accuracy: 0.9688\n",
      "\n"
     ]
    },
    {
     "name": "stdout",
     "output_type": "stream",
     "text": [
      "Epoch 100, Loss 0.0279\n",
      "Training Accuracy: 0.9665, Testing Accuracy: 0.9698\n",
      "\n"
     ]
    },
    {
     "name": "stdout",
     "output_type": "stream",
     "text": [
      "Epoch 110, Loss 0.027\n",
      "Training Accuracy: 0.9679, Testing Accuracy: 0.9698\n",
      "\n"
     ]
    },
    {
     "name": "stdout",
     "output_type": "stream",
     "text": [
      "Epoch 120, Loss 0.0261\n",
      "Training Accuracy: 0.9690, Testing Accuracy: 0.9713\n",
      "\n"
     ]
    },
    {
     "name": "stdout",
     "output_type": "stream",
     "text": [
      "Epoch 130, Loss 0.0254\n",
      "Training Accuracy: 0.9700, Testing Accuracy: 0.9718\n",
      "\n"
     ]
    },
    {
     "name": "stdout",
     "output_type": "stream",
     "text": [
      "Epoch 140, Loss 0.0248\n",
      "Training Accuracy: 0.9707, Testing Accuracy: 0.9708\n",
      "\n"
     ]
    },
    {
     "name": "stdout",
     "output_type": "stream",
     "text": [
      "Epoch 150, Loss 0.0241\n",
      "Training Accuracy: 0.9717, Testing Accuracy: 0.9708\n",
      "\n"
     ]
    },
    {
     "name": "stdout",
     "output_type": "stream",
     "text": [
      "Epoch 160, Loss 0.0236\n",
      "Training Accuracy: 0.9725, Testing Accuracy: 0.9703\n",
      "\n"
     ]
    },
    {
     "name": "stdout",
     "output_type": "stream",
     "text": [
      "Epoch 170, Loss 0.023\n",
      "Training Accuracy: 0.9734, Testing Accuracy: 0.9703\n",
      "\n"
     ]
    },
    {
     "name": "stdout",
     "output_type": "stream",
     "text": [
      "Epoch 180, Loss 0.0225\n",
      "Training Accuracy: 0.9740, Testing Accuracy: 0.9703\n",
      "\n"
     ]
    },
    {
     "name": "stdout",
     "output_type": "stream",
     "text": [
      "Epoch 190, Loss 0.0221\n",
      "Training Accuracy: 0.9750, Testing Accuracy: 0.9703\n",
      "\n"
     ]
    },
    {
     "name": "stdout",
     "output_type": "stream",
     "text": [
      "Epoch 200, Loss 0.0216\n",
      "Training Accuracy: 0.9755, Testing Accuracy: 0.9703\n",
      "\n"
     ]
    },
    {
     "name": "stdout",
     "output_type": "stream",
     "text": [
      "Epoch 210, Loss 0.0212\n",
      "Training Accuracy: 0.9760, Testing Accuracy: 0.9708\n",
      "\n"
     ]
    },
    {
     "name": "stdout",
     "output_type": "stream",
     "text": [
      "Epoch 220, Loss 0.0207\n",
      "Training Accuracy: 0.9766, Testing Accuracy: 0.9713\n",
      "\n"
     ]
    },
    {
     "name": "stdout",
     "output_type": "stream",
     "text": [
      "Epoch 230, Loss 0.0203\n",
      "Training Accuracy: 0.9774, Testing Accuracy: 0.9713\n",
      "\n"
     ]
    },
    {
     "name": "stdout",
     "output_type": "stream",
     "text": [
      "Epoch 240, Loss 0.0199\n",
      "Training Accuracy: 0.9778, Testing Accuracy: 0.9718\n",
      "\n"
     ]
    },
    {
     "data": {
      "text/plain": [
       "0.00493471169836402"
      ]
     },
     "execution_count": 22,
     "metadata": {},
     "output_type": "execute_result"
    }
   ],
   "source": [
    "nn_learner.train_loop(dl)"
   ]
  },
  {
   "cell_type": "code",
   "execution_count": 23,
   "id": "e0163366",
   "metadata": {
    "execution": {
     "iopub.execute_input": "2022-10-27T00:50:35.373179Z",
     "iopub.status.busy": "2022-10-27T00:50:35.372547Z",
     "iopub.status.idle": "2022-10-27T00:50:56.230268Z",
     "shell.execute_reply": "2022-10-27T00:50:56.231378Z"
    },
    "papermill": {
     "duration": 20.907997,
     "end_time": "2022-10-27T00:50:56.231548",
     "exception": false,
     "start_time": "2022-10-27T00:50:35.323551",
     "status": "completed"
    },
    "tags": []
   },
   "outputs": [
    {
     "name": "stdout",
     "output_type": "stream",
     "text": [
      "Epoch 0, Loss 0.228\n",
      "Training Accuracy: 0.7236, Testing Accuracy: 0.6951\n",
      "\n"
     ]
    },
    {
     "name": "stdout",
     "output_type": "stream",
     "text": [
      "Epoch 10, Loss 0.1046\n",
      "Training Accuracy: 0.8999, Testing Accuracy: 0.9108\n",
      "\n"
     ]
    },
    {
     "name": "stdout",
     "output_type": "stream",
     "text": [
      "Epoch 20, Loss 0.0807\n",
      "Training Accuracy: 0.9231, Testing Accuracy: 0.9294\n",
      "\n"
     ]
    },
    {
     "name": "stdout",
     "output_type": "stream",
     "text": [
      "Epoch 30, Loss 0.0694\n",
      "Training Accuracy: 0.9327, Testing Accuracy: 0.9430\n",
      "\n"
     ]
    },
    {
     "name": "stdout",
     "output_type": "stream",
     "text": [
      "Epoch 40, Loss 0.0626\n",
      "Training Accuracy: 0.9393, Testing Accuracy: 0.9491\n",
      "\n"
     ]
    },
    {
     "name": "stdout",
     "output_type": "stream",
     "text": [
      "Epoch 50, Loss 0.0579\n",
      "Training Accuracy: 0.9426, Testing Accuracy: 0.9546\n",
      "\n"
     ]
    },
    {
     "name": "stdout",
     "output_type": "stream",
     "text": [
      "Epoch 60, Loss 0.0545\n",
      "Training Accuracy: 0.9452, Testing Accuracy: 0.9567\n",
      "\n"
     ]
    },
    {
     "name": "stdout",
     "output_type": "stream",
     "text": [
      "Epoch 70, Loss 0.0519\n",
      "Training Accuracy: 0.9475, Testing Accuracy: 0.9561\n",
      "\n"
     ]
    },
    {
     "name": "stdout",
     "output_type": "stream",
     "text": [
      "Epoch 80, Loss 0.0498\n",
      "Training Accuracy: 0.9494, Testing Accuracy: 0.9582\n",
      "\n"
     ]
    },
    {
     "name": "stdout",
     "output_type": "stream",
     "text": [
      "Epoch 90, Loss 0.0481\n",
      "Training Accuracy: 0.9511, Testing Accuracy: 0.9597\n",
      "\n"
     ]
    },
    {
     "name": "stdout",
     "output_type": "stream",
     "text": [
      "Epoch 100, Loss 0.0466\n",
      "Training Accuracy: 0.9517, Testing Accuracy: 0.9607\n",
      "\n"
     ]
    },
    {
     "name": "stdout",
     "output_type": "stream",
     "text": [
      "Epoch 110, Loss 0.0454\n",
      "Training Accuracy: 0.9528, Testing Accuracy: 0.9607\n",
      "\n"
     ]
    },
    {
     "name": "stdout",
     "output_type": "stream",
     "text": [
      "Epoch 120, Loss 0.0443\n",
      "Training Accuracy: 0.9538, Testing Accuracy: 0.9607\n",
      "\n"
     ]
    },
    {
     "name": "stdout",
     "output_type": "stream",
     "text": [
      "Epoch 130, Loss 0.0433\n",
      "Training Accuracy: 0.9545, Testing Accuracy: 0.9617\n",
      "\n"
     ]
    },
    {
     "name": "stdout",
     "output_type": "stream",
     "text": [
      "Epoch 140, Loss 0.0425\n",
      "Training Accuracy: 0.9553, Testing Accuracy: 0.9632\n",
      "\n"
     ]
    },
    {
     "name": "stdout",
     "output_type": "stream",
     "text": [
      "Epoch 150, Loss 0.0417\n",
      "Training Accuracy: 0.9564, Testing Accuracy: 0.9642\n",
      "\n"
     ]
    },
    {
     "name": "stdout",
     "output_type": "stream",
     "text": [
      "Epoch 160, Loss 0.041\n",
      "Training Accuracy: 0.9569, Testing Accuracy: 0.9652\n",
      "\n"
     ]
    },
    {
     "name": "stdout",
     "output_type": "stream",
     "text": [
      "Epoch 170, Loss 0.0404\n",
      "Training Accuracy: 0.9571, Testing Accuracy: 0.9652\n",
      "\n"
     ]
    },
    {
     "name": "stdout",
     "output_type": "stream",
     "text": [
      "Epoch 180, Loss 0.0398\n",
      "Training Accuracy: 0.9575, Testing Accuracy: 0.9657\n",
      "\n"
     ]
    },
    {
     "name": "stdout",
     "output_type": "stream",
     "text": [
      "Epoch 190, Loss 0.0393\n",
      "Training Accuracy: 0.9584, Testing Accuracy: 0.9662\n",
      "\n"
     ]
    },
    {
     "name": "stdout",
     "output_type": "stream",
     "text": [
      "Epoch 200, Loss 0.0388\n",
      "Training Accuracy: 0.9587, Testing Accuracy: 0.9667\n",
      "\n"
     ]
    },
    {
     "name": "stdout",
     "output_type": "stream",
     "text": [
      "Epoch 210, Loss 0.0383\n",
      "Training Accuracy: 0.9590, Testing Accuracy: 0.9667\n",
      "\n"
     ]
    },
    {
     "name": "stdout",
     "output_type": "stream",
     "text": [
      "Epoch 220, Loss 0.0379\n",
      "Training Accuracy: 0.9594, Testing Accuracy: 0.9662\n",
      "\n"
     ]
    },
    {
     "name": "stdout",
     "output_type": "stream",
     "text": [
      "Epoch 230, Loss 0.0375\n",
      "Training Accuracy: 0.9595, Testing Accuracy: 0.9667\n",
      "\n"
     ]
    },
    {
     "name": "stdout",
     "output_type": "stream",
     "text": [
      "Epoch 240, Loss 0.0371\n",
      "Training Accuracy: 0.9599, Testing Accuracy: 0.9667\n",
      "\n"
     ]
    },
    {
     "data": {
      "text/plain": [
       "0.0381914210556897"
      ]
     },
     "execution_count": 23,
     "metadata": {},
     "output_type": "execute_result"
    }
   ],
   "source": [
    "lr_learner.train_loop(dl)"
   ]
  },
  {
   "cell_type": "code",
   "execution_count": 24,
   "id": "ca410940",
   "metadata": {
    "execution": {
     "iopub.execute_input": "2022-10-27T00:50:56.342904Z",
     "iopub.status.busy": "2022-10-27T00:50:56.342144Z",
     "iopub.status.idle": "2022-10-27T00:50:56.622269Z",
     "shell.execute_reply": "2022-10-27T00:50:56.622855Z"
    },
    "papermill": {
     "duration": 0.344321,
     "end_time": "2022-10-27T00:50:56.623000",
     "exception": false,
     "start_time": "2022-10-27T00:50:56.278679",
     "status": "completed"
    },
    "tags": []
   },
   "outputs": [
    {
     "data": {
      "text/plain": [
       "<matplotlib.legend.Legend at 0x7f614216f470>"
      ]
     },
     "execution_count": 24,
     "metadata": {},
     "output_type": "execute_result"
    },
    {
     "data": {
      "image/png": "[encoded data removed]",
      "text/plain": [
       "<Figure size 1080x720 with 1 Axes>"
      ]
     },
     "metadata": {
      "needs_background": "light"
     },
     "output_type": "display_data"
    }
   ],
   "source": [
    "#comparing the results of NN and LR\n",
    "plt.figure(figsize=(15,10))\n",
    "\n",
    "# Neural Network plots\n",
    "plt.plot(acc_nn.accuracies, 'r-', label = \"Training Accuracies - NN\")\n",
    "plt.plot(acc_nn.test_accuracies, 'g-', label = \"Testing Accuracies - NN\")\n",
    "\n",
    "# Logistic Regression plots\n",
    "plt.plot(acc_lr.accuracies, 'k-', label = \"Training Accuracies - LR\")\n",
    "plt.plot(acc_lr.test_accuracies, 'b-', label = \"Testing Accuracies - LR\")\n",
    "plt.legend()"
   ]
  },
  {
   "cell_type": "markdown",
   "id": "80dfb35c",
   "metadata": {
    "papermill": {
     "duration": 0.056075,
     "end_time": "2022-10-27T00:50:56.728085",
     "exception": false,
     "start_time": "2022-10-27T00:50:56.672010",
     "status": "completed"
    },
    "tags": []
   },
   "source": [
    "#### Plotting the outputs of this layer of the NN.\n"
   ]
  },
  {
   "cell_type": "code",
   "execution_count": 25,
   "id": "45eb2ff5",
   "metadata": {
    "execution": {
     "iopub.execute_input": "2022-10-27T00:50:56.832812Z",
     "iopub.status.busy": "2022-10-27T00:50:56.831990Z",
     "iopub.status.idle": "2022-10-27T00:50:56.857840Z",
     "shell.execute_reply": "2022-10-27T00:50:56.858739Z"
    },
    "papermill": {
     "duration": 0.082873,
     "end_time": "2022-10-27T00:50:56.859011",
     "exception": false,
     "start_time": "2022-10-27T00:50:56.776138",
     "status": "completed"
    },
    "tags": []
   },
   "outputs": [],
   "source": [
    "new_model = Model(layers[:-2])\n",
    "testing_plot = new_model(testing_data_x)"
   ]
  },
  {
   "cell_type": "code",
   "execution_count": 26,
   "id": "4c0a5485",
   "metadata": {
    "execution": {
     "iopub.execute_input": "2022-10-27T00:50:56.982505Z",
     "iopub.status.busy": "2022-10-27T00:50:56.981797Z",
     "iopub.status.idle": "2022-10-27T00:50:57.262771Z",
     "shell.execute_reply": "2022-10-27T00:50:57.262281Z"
    },
    "papermill": {
     "duration": 0.346479,
     "end_time": "2022-10-27T00:50:57.262920",
     "exception": false,
     "start_time": "2022-10-27T00:50:56.916441",
     "status": "completed"
    },
    "tags": []
   },
   "outputs": [
    {
     "data": {
      "text/plain": [
       "Text(0.5, 1.0, 'Outputs')"
      ]
     },
     "execution_count": 26,
     "metadata": {},
     "output_type": "execute_result"
    },
    {
     "data": {
      "image/png": "[encoded data removed]",
      "text/plain": [
       "<Figure size 576x504 with 1 Axes>"
      ]
     },
     "metadata": {
      "needs_background": "light"
     },
     "output_type": "display_data"
    }
   ],
   "source": [
    "# Plotting the scatter plot of points and color coding by class\n",
    "plt.figure(figsize=(8,7))\n",
    "plt.scatter(testing_plot[:,0], testing_plot[:,1], alpha = 0.1, c = y_test.ravel());\n",
    "plt.title('Outputs')"
   ]
  },
  {
   "cell_type": "markdown",
   "id": "a74fcf8f",
   "metadata": {
    "papermill": {
     "duration": 0.079833,
     "end_time": "2022-10-27T00:50:57.396420",
     "exception": false,
     "start_time": "2022-10-27T00:50:57.316587",
     "status": "completed"
    },
    "tags": []
   },
   "source": [
    "Probability contours"
   ]
  },
  {
   "cell_type": "code",
   "execution_count": 27,
   "id": "d0afc8e3",
   "metadata": {
    "execution": {
     "iopub.execute_input": "2022-10-27T00:50:57.512107Z",
     "iopub.status.busy": "2022-10-27T00:50:57.511388Z",
     "iopub.status.idle": "2022-10-27T00:50:57.534347Z",
     "shell.execute_reply": "2022-10-27T00:50:57.533528Z"
    },
    "papermill": {
     "duration": 0.085022,
     "end_time": "2022-10-27T00:50:57.534517",
     "exception": false,
     "start_time": "2022-10-27T00:50:57.449495",
     "status": "completed"
    },
    "tags": []
   },
   "outputs": [],
   "source": [
    "model_prob = Model(layers[-2:]) "
   ]
  },
  {
   "cell_type": "code",
   "execution_count": 28,
   "id": "9b96e238",
   "metadata": {
    "execution": {
     "iopub.execute_input": "2022-10-27T00:50:57.643224Z",
     "iopub.status.busy": "2022-10-27T00:50:57.642538Z",
     "iopub.status.idle": "2022-10-27T00:50:57.657903Z",
     "shell.execute_reply": "2022-10-27T00:50:57.658393Z"
    },
    "papermill": {
     "duration": 0.072414,
     "end_time": "2022-10-27T00:50:57.658536",
     "exception": false,
     "start_time": "2022-10-27T00:50:57.586122",
     "status": "completed"
    },
    "tags": []
   },
   "outputs": [],
   "source": [
    "#creating the x and y ranges according to the above generated plot.\n",
    "x_range = np.linspace(-4, 1, 100) \n",
    "y_range = np.linspace(-6, 6, 100) \n",
    "x_grid, y_grid = np.meshgrid(x_range, y_range) # x_grid and y_grig are of size 100 X 100\n",
    "\n",
    "# converting x_grid and y_grid to continuous arrays\n",
    "x_gridflat = np.ravel(x_grid)\n",
    "y_gridflat = np.ravel(y_grid)\n",
    "\n",
    "# The last layer of the current model takes two columns as input. Hence transpose of np.vstack() is required.\n",
    "X = np.vstack((x_gridflat, y_gridflat)).T\n",
    "\n",
    "prob_contour = model_prob(X).reshape(100,100) "
   ]
  },
  {
   "cell_type": "code",
   "execution_count": 29,
   "id": "da72499a",
   "metadata": {
    "execution": {
     "iopub.execute_input": "2022-10-27T00:50:57.771699Z",
     "iopub.status.busy": "2022-10-27T00:50:57.770995Z",
     "iopub.status.idle": "2022-10-27T00:50:58.122721Z",
     "shell.execute_reply": "2022-10-27T00:50:58.123396Z"
    },
    "papermill": {
     "duration": 0.411212,
     "end_time": "2022-10-27T00:50:58.123572",
     "exception": false,
     "start_time": "2022-10-27T00:50:57.712360",
     "status": "completed"
    },
    "tags": []
   },
   "outputs": [
    {
     "data": {
      "image/png": "[encoded data removed]",
      "text/plain": [
       "<Figure size 720x648 with 1 Axes>"
      ]
     },
     "metadata": {
      "needs_background": "light"
     },
     "output_type": "display_data"
    }
   ],
   "source": [
    "plt.figure(figsize=(10,9))\n",
    "plt.scatter(testing_plot[:,0], testing_plot[:,1], alpha = 0.1, c = y_test.ravel())\n",
    "contours = plt.contour(x_grid,y_grid,prob_contour)\n",
    "plt.title('Probability Contours')\n",
    "plt.clabel(contours, inline = True );"
   ]
  },
  {
   "cell_type": "code",
   "execution_count": null,
   "id": "e81b4ac7",
   "metadata": {
    "papermill": {
     "duration": 0.052866,
     "end_time": "2022-10-27T00:50:58.233879",
     "exception": false,
     "start_time": "2022-10-27T00:50:58.181013",
     "status": "completed"
    },
    "tags": []
   },
   "outputs": [],
   "source": []
  }
 ],
 "metadata": {
  "kernelspec": {
   "display_name": "Python 3",
   "language": "python",
   "name": "python3"
  },
  "language_info": {
   "codemirror_mode": {
    "name": "ipython",
    "version": 3
   },
   "file_extension": ".py",
   "mimetype": "text/x-python",
   "name": "python",
   "nbconvert_exporter": "python",
   "pygments_lexer": "ipython3",
   "version": "3.6.15"
  },
  "papermill": {
   "default_parameters": {},
   "duration": 175.493342,
   "end_time": "2022-10-27T00:50:58.713209",
   "environment_variables": {},
   "exception": null,
   "input_path": "2020-08-11-part2.ipynb",
   "output_path": "2020-08-11-part2.ipynb",
   "parameters": {},
   "start_time": "2022-10-27T00:48:03.219867",
   "version": "2.3.3"
  }
 },
 "nbformat": 4,
 "nbformat_minor": 5
}