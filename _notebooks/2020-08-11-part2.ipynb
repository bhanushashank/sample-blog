{
 "cells": [
  {
   "cell_type": "markdown",
   "id": "98380cd3",
   "metadata": {
    "papermill": {
     "duration": 0.027494,
     "end_time": "2022-02-21T20:09:09.622138",
     "exception": false,
     "start_time": "2022-02-21T20:09:09.594644",
     "status": "completed"
    },
    "tags": []
   },
   "source": [
    "# Distinguish Your Own Digits (DYOD)"
   ]
  },
  {
   "cell_type": "markdown",
   "id": "ef31240d",
   "metadata": {
    "papermill": {
     "duration": 0.025259,
     "end_time": "2022-02-21T20:09:09.671698",
     "exception": false,
     "start_time": "2022-02-21T20:09:09.646439",
     "status": "completed"
    },
    "tags": []
   },
   "source": [
    "You are going to write a classifier that distinguishes between the number 3 and number 8."
   ]
  },
  {
   "cell_type": "code",
   "execution_count": 1,
   "id": "b15c8646",
   "metadata": {
    "execution": {
     "iopub.execute_input": "2022-02-21T20:09:09.729001Z",
     "iopub.status.busy": "2022-02-21T20:09:09.728451Z",
     "iopub.status.idle": "2022-02-21T20:09:09.738645Z",
     "shell.execute_reply": "2022-02-21T20:09:09.738204Z"
    },
    "papermill": {
     "duration": 0.043653,
     "end_time": "2022-02-21T20:09:09.738780",
     "exception": false,
     "start_time": "2022-02-21T20:09:09.695127",
     "status": "completed"
    },
    "tags": []
   },
   "outputs": [],
   "source": [
    "%load_ext autoreload\n",
    "%autoreload 2"
   ]
  },
  {
   "cell_type": "code",
   "execution_count": 2,
   "id": "22ef38dc",
   "metadata": {
    "execution": {
     "iopub.execute_input": "2022-02-21T20:09:09.791555Z",
     "iopub.status.busy": "2022-02-21T20:09:09.790607Z",
     "iopub.status.idle": "2022-02-21T20:09:10.335107Z",
     "shell.execute_reply": "2022-02-21T20:09:10.334645Z"
    },
    "papermill": {
     "duration": 0.572375,
     "end_time": "2022-02-21T20:09:10.335223",
     "exception": false,
     "start_time": "2022-02-21T20:09:09.762848",
     "status": "completed"
    },
    "tags": []
   },
   "outputs": [],
   "source": [
    "%matplotlib inline\n",
    "import numpy as np\n",
    "import matplotlib.pyplot as plt\n",
    "import pandas as pd"
   ]
  },
  {
   "cell_type": "markdown",
   "id": "ba036198",
   "metadata": {
    "papermill": {
     "duration": 0.021107,
     "end_time": "2022-02-21T20:09:10.377465",
     "exception": false,
     "start_time": "2022-02-21T20:09:10.356358",
     "status": "completed"
    },
    "tags": []
   },
   "source": [
    "From the command line run `pip install mnist`. This is a library that will help you bring down the mnist dataset. If you run this from a notebook, you need to put  `!pip install mnist` in a cell by itself."
   ]
  },
  {
   "cell_type": "code",
   "execution_count": 3,
   "id": "bb6ad8a1",
   "metadata": {
    "execution": {
     "iopub.execute_input": "2022-02-21T20:09:10.424705Z",
     "iopub.status.busy": "2022-02-21T20:09:10.424236Z",
     "iopub.status.idle": "2022-02-21T20:09:12.192403Z",
     "shell.execute_reply": "2022-02-21T20:09:12.192882Z"
    },
    "papermill": {
     "duration": 1.794333,
     "end_time": "2022-02-21T20:09:12.193054",
     "exception": false,
     "start_time": "2022-02-21T20:09:10.398721",
     "status": "completed"
    },
    "tags": []
   },
   "outputs": [
    {
     "name": "stdout",
     "output_type": "stream",
     "text": [
      "Collecting mnist\r\n",
      "  Downloading mnist-0.2.2-py2.py3-none-any.whl (3.5 kB)\r\n",
      "Requirement already satisfied: numpy in /opt/hostedtoolcache/Python/3.6.15/x64/lib/python3.6/site-packages (from mnist) (1.19.5)\r\n"
     ]
    },
    {
     "name": "stdout",
     "output_type": "stream",
     "text": [
      "Installing collected packages: mnist\r\n"
     ]
    },
    {
     "name": "stdout",
     "output_type": "stream",
     "text": [
      "Successfully installed mnist-0.2.2\r\n"
     ]
    }
   ],
   "source": [
    "!pip install mnist"
   ]
  },
  {
   "cell_type": "markdown",
   "id": "69df9c9a",
   "metadata": {
    "papermill": {
     "duration": 0.0221,
     "end_time": "2022-02-21T20:09:12.238211",
     "exception": false,
     "start_time": "2022-02-21T20:09:12.216111",
     "status": "completed"
    },
    "tags": []
   },
   "source": [
    "## Preparing the Data"
   ]
  },
  {
   "cell_type": "code",
   "execution_count": 4,
   "id": "7f69d806",
   "metadata": {
    "execution": {
     "iopub.execute_input": "2022-02-21T20:09:12.285734Z",
     "iopub.status.busy": "2022-02-21T20:09:12.285262Z",
     "iopub.status.idle": "2022-02-21T20:09:12.300584Z",
     "shell.execute_reply": "2022-02-21T20:09:12.300204Z"
    },
    "papermill": {
     "duration": 0.040858,
     "end_time": "2022-02-21T20:09:12.300711",
     "exception": false,
     "start_time": "2022-02-21T20:09:12.259853",
     "status": "completed"
    },
    "tags": []
   },
   "outputs": [],
   "source": [
    "import mnist"
   ]
  },
  {
   "cell_type": "code",
   "execution_count": 5,
   "id": "a411e44f",
   "metadata": {
    "execution": {
     "iopub.execute_input": "2022-02-21T20:09:12.348207Z",
     "iopub.status.busy": "2022-02-21T20:09:12.347733Z",
     "iopub.status.idle": "2022-02-21T20:09:12.892691Z",
     "shell.execute_reply": "2022-02-21T20:09:12.893099Z"
    },
    "papermill": {
     "duration": 0.5706,
     "end_time": "2022-02-21T20:09:12.893247",
     "exception": false,
     "start_time": "2022-02-21T20:09:12.322647",
     "status": "completed"
    },
    "tags": []
   },
   "outputs": [],
   "source": [
    "train_images = mnist.train_images()\n",
    "train_labels = mnist.train_labels()"
   ]
  },
  {
   "cell_type": "code",
   "execution_count": 6,
   "id": "dceab3a5",
   "metadata": {
    "execution": {
     "iopub.execute_input": "2022-02-21T20:09:12.940595Z",
     "iopub.status.busy": "2022-02-21T20:09:12.940128Z",
     "iopub.status.idle": "2022-02-21T20:09:12.953381Z",
     "shell.execute_reply": "2022-02-21T20:09:12.952975Z"
    },
    "papermill": {
     "duration": 0.038222,
     "end_time": "2022-02-21T20:09:12.953484",
     "exception": false,
     "start_time": "2022-02-21T20:09:12.915262",
     "status": "completed"
    },
    "tags": []
   },
   "outputs": [
    {
     "data": {
      "text/plain": [
       "((60000, 28, 28), (60000,))"
      ]
     },
     "execution_count": 6,
     "metadata": {},
     "output_type": "execute_result"
    }
   ],
   "source": [
    "train_images.shape, train_labels.shape"
   ]
  },
  {
   "cell_type": "code",
   "execution_count": 7,
   "id": "f50dc2bb",
   "metadata": {
    "execution": {
     "iopub.execute_input": "2022-02-21T20:09:13.001493Z",
     "iopub.status.busy": "2022-02-21T20:09:13.001029Z",
     "iopub.status.idle": "2022-02-21T20:09:13.132316Z",
     "shell.execute_reply": "2022-02-21T20:09:13.132843Z"
    },
    "papermill": {
     "duration": 0.157725,
     "end_time": "2022-02-21T20:09:13.133010",
     "exception": false,
     "start_time": "2022-02-21T20:09:12.975285",
     "status": "completed"
    },
    "tags": []
   },
   "outputs": [],
   "source": [
    "test_images = mnist.test_images()\n",
    "test_labels = mnist.test_labels()"
   ]
  },
  {
   "cell_type": "code",
   "execution_count": 8,
   "id": "fc38cf1b",
   "metadata": {
    "execution": {
     "iopub.execute_input": "2022-02-21T20:09:13.184763Z",
     "iopub.status.busy": "2022-02-21T20:09:13.184272Z",
     "iopub.status.idle": "2022-02-21T20:09:13.194925Z",
     "shell.execute_reply": "2022-02-21T20:09:13.195366Z"
    },
    "papermill": {
     "duration": 0.039289,
     "end_time": "2022-02-21T20:09:13.195512",
     "exception": false,
     "start_time": "2022-02-21T20:09:13.156223",
     "status": "completed"
    },
    "tags": []
   },
   "outputs": [
    {
     "data": {
      "text/plain": [
       "((10000, 28, 28), (10000,))"
      ]
     },
     "execution_count": 8,
     "metadata": {},
     "output_type": "execute_result"
    }
   ],
   "source": [
    "test_images.shape, test_labels.shape"
   ]
  },
  {
   "cell_type": "code",
   "execution_count": 9,
   "id": "f9ed8fe0",
   "metadata": {
    "execution": {
     "iopub.execute_input": "2022-02-21T20:09:13.244274Z",
     "iopub.status.busy": "2022-02-21T20:09:13.243792Z",
     "iopub.status.idle": "2022-02-21T20:09:13.369870Z",
     "shell.execute_reply": "2022-02-21T20:09:13.370232Z"
    },
    "papermill": {
     "duration": 0.152529,
     "end_time": "2022-02-21T20:09:13.370371",
     "exception": false,
     "start_time": "2022-02-21T20:09:13.217842",
     "status": "completed"
    },
    "tags": []
   },
   "outputs": [
    {
     "name": "stdout",
     "output_type": "stream",
     "text": [
      "2\n"
     ]
    },
    {
     "data": {
      "text/plain": [
       "<matplotlib.image.AxesImage at 0x7ff2158ee588>"
      ]
     },
     "execution_count": 9,
     "metadata": {},
     "output_type": "execute_result"
    },
    {
     "data": {
      "image/png": "[encoded data removed]",
      "text/plain": [
       "<Figure size 432x288 with 1 Axes>"
      ]
     },
     "metadata": {
      "needs_background": "light"
     },
     "output_type": "display_data"
    }
   ],
   "source": [
    "image_index = 7776 # You may select anything up to 60,000\n",
    "print(train_labels[image_index]) \n",
    "plt.imshow(train_images[image_index], cmap='Greys')"
   ]
  },
  {
   "cell_type": "markdown",
   "id": "a8d2388d",
   "metadata": {
    "papermill": {
     "duration": 0.023231,
     "end_time": "2022-02-21T20:09:13.417067",
     "exception": false,
     "start_time": "2022-02-21T20:09:13.393836",
     "status": "completed"
    },
    "tags": []
   },
   "source": [
    "## Filter data to get 3 and 8 out"
   ]
  },
  {
   "cell_type": "code",
   "execution_count": 10,
   "id": "776f7fc7",
   "metadata": {
    "execution": {
     "iopub.execute_input": "2022-02-21T20:09:13.466169Z",
     "iopub.status.busy": "2022-02-21T20:09:13.465683Z",
     "iopub.status.idle": "2022-02-21T20:09:13.485675Z",
     "shell.execute_reply": "2022-02-21T20:09:13.485204Z"
    },
    "papermill": {
     "duration": 0.04564,
     "end_time": "2022-02-21T20:09:13.485802",
     "exception": false,
     "start_time": "2022-02-21T20:09:13.440162",
     "status": "completed"
    },
    "tags": []
   },
   "outputs": [],
   "source": [
    "train_filter = np.where((train_labels == 3 ) | (train_labels == 8))\n",
    "test_filter = np.where((test_labels == 3) | (test_labels == 8))\n",
    "X_train, y_train = train_images[train_filter], train_labels[train_filter]\n",
    "X_test, y_test = test_images[test_filter], test_labels[test_filter]"
   ]
  },
  {
   "cell_type": "markdown",
   "id": "948f0b7e",
   "metadata": {
    "papermill": {
     "duration": 0.022976,
     "end_time": "2022-02-21T20:09:13.533527",
     "exception": false,
     "start_time": "2022-02-21T20:09:13.510551",
     "status": "completed"
    },
    "tags": []
   },
   "source": [
    "We normalize the pizel values in the 0 to 1 range"
   ]
  },
  {
   "cell_type": "code",
   "execution_count": 11,
   "id": "ee4c2166",
   "metadata": {
    "execution": {
     "iopub.execute_input": "2022-02-21T20:09:13.584423Z",
     "iopub.status.busy": "2022-02-21T20:09:13.583938Z",
     "iopub.status.idle": "2022-02-21T20:09:13.629871Z",
     "shell.execute_reply": "2022-02-21T20:09:13.629321Z"
    },
    "papermill": {
     "duration": 0.07308,
     "end_time": "2022-02-21T20:09:13.630018",
     "exception": false,
     "start_time": "2022-02-21T20:09:13.556938",
     "status": "completed"
    },
    "tags": []
   },
   "outputs": [],
   "source": [
    "X_train = X_train/255.\n",
    "X_test = X_test/255."
   ]
  },
  {
   "cell_type": "markdown",
   "id": "ddcf4fab",
   "metadata": {
    "papermill": {
     "duration": 0.023171,
     "end_time": "2022-02-21T20:09:13.677910",
     "exception": false,
     "start_time": "2022-02-21T20:09:13.654739",
     "status": "completed"
    },
    "tags": []
   },
   "source": [
    "And setup the labels as 1 (when the digit is 3) and 0 (when the digit is 8)"
   ]
  },
  {
   "cell_type": "code",
   "execution_count": 12,
   "id": "7dc908f2",
   "metadata": {
    "execution": {
     "iopub.execute_input": "2022-02-21T20:09:13.728165Z",
     "iopub.status.busy": "2022-02-21T20:09:13.727687Z",
     "iopub.status.idle": "2022-02-21T20:09:13.739028Z",
     "shell.execute_reply": "2022-02-21T20:09:13.738652Z"
    },
    "papermill": {
     "duration": 0.037878,
     "end_time": "2022-02-21T20:09:13.739136",
     "exception": false,
     "start_time": "2022-02-21T20:09:13.701258",
     "status": "completed"
    },
    "tags": []
   },
   "outputs": [],
   "source": [
    "y_train = 1*(y_train==3)\n",
    "y_test = 1*(y_test==3)"
   ]
  },
  {
   "cell_type": "code",
   "execution_count": 13,
   "id": "01e4e969",
   "metadata": {
    "execution": {
     "iopub.execute_input": "2022-02-21T20:09:13.789194Z",
     "iopub.status.busy": "2022-02-21T20:09:13.788737Z",
     "iopub.status.idle": "2022-02-21T20:09:13.800319Z",
     "shell.execute_reply": "2022-02-21T20:09:13.800685Z"
    },
    "papermill": {
     "duration": 0.038501,
     "end_time": "2022-02-21T20:09:13.800805",
     "exception": false,
     "start_time": "2022-02-21T20:09:13.762304",
     "status": "completed"
    },
    "tags": []
   },
   "outputs": [
    {
     "data": {
      "text/plain": [
       "((11982, 28, 28), (1984, 28, 28))"
      ]
     },
     "execution_count": 13,
     "metadata": {},
     "output_type": "execute_result"
    }
   ],
   "source": [
    "X_train.shape, X_test.shape"
   ]
  },
  {
   "cell_type": "markdown",
   "id": "5ccf3f85",
   "metadata": {
    "papermill": {
     "duration": 0.023334,
     "end_time": "2022-02-21T20:09:13.847352",
     "exception": false,
     "start_time": "2022-02-21T20:09:13.824018",
     "status": "completed"
    },
    "tags": []
   },
   "source": [
    "We reshape the data to flatten the image pixels into a set of features or co-variates:"
   ]
  },
  {
   "cell_type": "code",
   "execution_count": 14,
   "id": "5286a4a3",
   "metadata": {
    "execution": {
     "iopub.execute_input": "2022-02-21T20:09:13.898019Z",
     "iopub.status.busy": "2022-02-21T20:09:13.897544Z",
     "iopub.status.idle": "2022-02-21T20:09:13.910600Z",
     "shell.execute_reply": "2022-02-21T20:09:13.910206Z"
    },
    "papermill": {
     "duration": 0.03981,
     "end_time": "2022-02-21T20:09:13.910705",
     "exception": false,
     "start_time": "2022-02-21T20:09:13.870895",
     "status": "completed"
    },
    "tags": []
   },
   "outputs": [
    {
     "data": {
      "text/plain": [
       "((11982, 784), (1984, 784))"
      ]
     },
     "execution_count": 14,
     "metadata": {},
     "output_type": "execute_result"
    }
   ],
   "source": [
    "X_train = X_train.reshape(X_train.shape[0], -1)\n",
    "X_test = X_test.reshape(X_test.shape[0], -1)\n",
    "X_train.shape, X_test.shape"
   ]
  },
  {
   "cell_type": "code",
   "execution_count": 15,
   "id": "73c5f88a",
   "metadata": {
    "execution": {
     "iopub.execute_input": "2022-02-21T20:09:13.962622Z",
     "iopub.status.busy": "2022-02-21T20:09:13.962149Z",
     "iopub.status.idle": "2022-02-21T20:09:13.978375Z",
     "shell.execute_reply": "2022-02-21T20:09:13.978001Z"
    },
    "papermill": {
     "duration": 0.044289,
     "end_time": "2022-02-21T20:09:13.978476",
     "exception": false,
     "start_time": "2022-02-21T20:09:13.934187",
     "status": "completed"
    },
    "tags": []
   },
   "outputs": [],
   "source": [
    "#Impoting functions from 'Kudzu'\n",
    "from kudzu.model import Model\n",
    "from kudzu.train import Learner\n",
    "from kudzu.optim import GD\n",
    "from kudzu.data import Data, Sampler,Dataloader\n",
    "\n",
    "from kudzu.callbacks import AccCallback\n",
    "from kudzu.callbacks import ClfCallback\n",
    "\n",
    "from kudzu.loss import MSE\n",
    "\n",
    "from kudzu.layer import Sigmoid,Relu\n",
    "from kudzu.layer import Affine"
   ]
  },
  {
   "cell_type": "markdown",
   "id": "bc01172a",
   "metadata": {
    "papermill": {
     "duration": 0.023354,
     "end_time": "2022-02-21T20:09:14.025280",
     "exception": false,
     "start_time": "2022-02-21T20:09:14.001926",
     "status": "completed"
    },
    "tags": []
   },
   "source": [
    "### Let us create a `Config` class, to store important parameters. \n",
    "This class essentially plays the role of a dictionary."
   ]
  },
  {
   "cell_type": "code",
   "execution_count": 16,
   "id": "978281aa",
   "metadata": {
    "execution": {
     "iopub.execute_input": "2022-02-21T20:09:14.075753Z",
     "iopub.status.busy": "2022-02-21T20:09:14.075242Z",
     "iopub.status.idle": "2022-02-21T20:09:14.087807Z",
     "shell.execute_reply": "2022-02-21T20:09:14.087406Z"
    },
    "papermill": {
     "duration": 0.039339,
     "end_time": "2022-02-21T20:09:14.087909",
     "exception": false,
     "start_time": "2022-02-21T20:09:14.048570",
     "status": "completed"
    },
    "tags": []
   },
   "outputs": [],
   "source": [
    "class Config:\n",
    "    pass\n",
    "config = Config()\n",
    "config.lr = 0.001\n",
    "config.num_epochs = 250\n",
    "config.bs = 50"
   ]
  },
  {
   "cell_type": "markdown",
   "id": "1385fa59",
   "metadata": {
    "papermill": {
     "duration": 0.02343,
     "end_time": "2022-02-21T20:09:14.135051",
     "exception": false,
     "start_time": "2022-02-21T20:09:14.111621",
     "status": "completed"
    },
    "tags": []
   },
   "source": [
    "### Running Models with the Training data\n",
    "Details about the network layers:\n",
    "- A first affine layer has 784 inputs and does 100 affine transforms. These are followed by a Relu\n",
    "- A second affine layer has 100 inputs from the 100 activations of the past layer, and does 100 affine transforms. These are followed by a Relu\n",
    "- A third affine layer has 100 activations and does 2 affine transformations to create an embedding for visualization. There is no non-linearity here.\n",
    "- A final \"logistic regression\" which has an affine transform from 2 inputs to 1 output, which is squeezed through a sigmoid.\n"
   ]
  },
  {
   "cell_type": "code",
   "execution_count": 17,
   "id": "2b9c66db",
   "metadata": {
    "execution": {
     "iopub.execute_input": "2022-02-21T20:09:14.185877Z",
     "iopub.status.busy": "2022-02-21T20:09:14.185406Z",
     "iopub.status.idle": "2022-02-21T20:09:14.196808Z",
     "shell.execute_reply": "2022-02-21T20:09:14.196414Z"
    },
    "papermill": {
     "duration": 0.038396,
     "end_time": "2022-02-21T20:09:14.196911",
     "exception": false,
     "start_time": "2022-02-21T20:09:14.158515",
     "status": "completed"
    },
    "tags": []
   },
   "outputs": [],
   "source": [
    "data = Data(X_train, y_train.reshape(-1,1))\n",
    "sampler = Sampler(data, config.bs, shuffle=True)\n",
    "\n",
    "dl = Dataloader(data, sampler)\n",
    "\n",
    "opt = GD(config.lr)\n",
    "loss = MSE()"
   ]
  },
  {
   "cell_type": "code",
   "execution_count": 18,
   "id": "b275e4c2",
   "metadata": {
    "execution": {
     "iopub.execute_input": "2022-02-21T20:09:14.258726Z",
     "iopub.status.busy": "2022-02-21T20:09:14.252693Z",
     "iopub.status.idle": "2022-02-21T20:09:14.260899Z",
     "shell.execute_reply": "2022-02-21T20:09:14.260524Z"
    },
    "papermill": {
     "duration": 0.04052,
     "end_time": "2022-02-21T20:09:14.261002",
     "exception": false,
     "start_time": "2022-02-21T20:09:14.220482",
     "status": "completed"
    },
    "tags": []
   },
   "outputs": [],
   "source": [
    "training_data_x = X_train\n",
    "testing_data_x = X_test\n",
    "training_data_y = y_train.reshape(-1,1)\n",
    "testing_data_y = y_test.reshape(-1,1)"
   ]
  },
  {
   "cell_type": "code",
   "execution_count": 19,
   "id": "76951160",
   "metadata": {
    "execution": {
     "iopub.execute_input": "2022-02-21T20:09:14.315300Z",
     "iopub.status.busy": "2022-02-21T20:09:14.314705Z",
     "iopub.status.idle": "2022-02-21T20:09:14.327277Z",
     "shell.execute_reply": "2022-02-21T20:09:14.326887Z"
    },
    "papermill": {
     "duration": 0.042881,
     "end_time": "2022-02-21T20:09:14.327376",
     "exception": false,
     "start_time": "2022-02-21T20:09:14.284495",
     "status": "completed"
    },
    "tags": []
   },
   "outputs": [
    {
     "name": "stdout",
     "output_type": "stream",
     "text": [
      "xavier\n",
      "xavier\n",
      "xavier\n",
      "xavier\n",
      "xavier\n"
     ]
    }
   ],
   "source": [
    "layers = [Affine(\"first\", 784, 100), Relu(\"first\"), Affine(\"second\", 100, 100), Relu(\"second\"), Affine(\"third\", 100, 2), Affine(\"last\", 2, 1), Sigmoid(\"last\")]\n",
    "model_nn = Model(layers)\n",
    "model_lr = Model([Affine(\"logits\", 784, 1), Sigmoid(\"sigmoid\")])"
   ]
  },
  {
   "cell_type": "code",
   "execution_count": 20,
   "id": "6eede77a",
   "metadata": {
    "execution": {
     "iopub.execute_input": "2022-02-21T20:09:14.381475Z",
     "iopub.status.busy": "2022-02-21T20:09:14.380928Z",
     "iopub.status.idle": "2022-02-21T20:09:14.390362Z",
     "shell.execute_reply": "2022-02-21T20:09:14.389994Z"
    },
    "papermill": {
     "duration": 0.039428,
     "end_time": "2022-02-21T20:09:14.390477",
     "exception": false,
     "start_time": "2022-02-21T20:09:14.351049",
     "status": "completed"
    },
    "tags": []
   },
   "outputs": [],
   "source": [
    "nn_learner = Learner(loss, model_nn, opt, config.num_epochs)\n",
    "acc_nn = ClfCallback(nn_learner, config.bs, training_data_x , testing_data_x, training_data_y, testing_data_y)\n",
    "nn_learner.set_callbacks([acc_nn])"
   ]
  },
  {
   "cell_type": "code",
   "execution_count": 21,
   "id": "877b6cc7",
   "metadata": {
    "execution": {
     "iopub.execute_input": "2022-02-21T20:09:14.441358Z",
     "iopub.status.busy": "2022-02-21T20:09:14.440912Z",
     "iopub.status.idle": "2022-02-21T20:09:14.454285Z",
     "shell.execute_reply": "2022-02-21T20:09:14.454645Z"
    },
    "papermill": {
     "duration": 0.040454,
     "end_time": "2022-02-21T20:09:14.454762",
     "exception": false,
     "start_time": "2022-02-21T20:09:14.414308",
     "status": "completed"
    },
    "tags": []
   },
   "outputs": [],
   "source": [
    "lr_learner = Learner(loss, model_lr, opt, config.num_epochs)\n",
    "acc_lr = ClfCallback(lr_learner, config.bs, training_data_x , testing_data_x, training_data_y, testing_data_y)\n",
    "lr_learner.set_callbacks([acc_lr])"
   ]
  },
  {
   "cell_type": "code",
   "execution_count": 22,
   "id": "d9b133c3",
   "metadata": {
    "execution": {
     "iopub.execute_input": "2022-02-21T20:09:14.516174Z",
     "iopub.status.busy": "2022-02-21T20:09:14.513554Z",
     "iopub.status.idle": "2022-02-21T20:10:32.783390Z",
     "shell.execute_reply": "2022-02-21T20:10:32.783863Z"
    },
    "papermill": {
     "duration": 78.305598,
     "end_time": "2022-02-21T20:10:32.784000",
     "exception": false,
     "start_time": "2022-02-21T20:09:14.478402",
     "status": "completed"
    },
    "tags": []
   },
   "outputs": [
    {
     "name": "stdout",
     "output_type": "stream",
     "text": [
      "Epoch 0, Loss 0.2262\n",
      "Training Accuracy: 0.7571, Testing Accuracy: 0.7671\n",
      "\n"
     ]
    },
    {
     "name": "stdout",
     "output_type": "stream",
     "text": [
      "Epoch 10, Loss 0.085\n",
      "Training Accuracy: 0.9234, Testing Accuracy: 0.9274\n",
      "\n"
     ]
    },
    {
     "name": "stdout",
     "output_type": "stream",
     "text": [
      "Epoch 20, Loss 0.0533\n",
      "Training Accuracy: 0.9450, Testing Accuracy: 0.9546\n",
      "\n"
     ]
    },
    {
     "name": "stdout",
     "output_type": "stream",
     "text": [
      "Epoch 30, Loss 0.0422\n",
      "Training Accuracy: 0.9544, Testing Accuracy: 0.9612\n",
      "\n"
     ]
    },
    {
     "name": "stdout",
     "output_type": "stream",
     "text": [
      "Epoch 40, Loss 0.0366\n",
      "Training Accuracy: 0.9593, Testing Accuracy: 0.9652\n",
      "\n"
     ]
    },
    {
     "name": "stdout",
     "output_type": "stream",
     "text": [
      "Epoch 50, Loss 0.0333\n",
      "Training Accuracy: 0.9627, Testing Accuracy: 0.9667\n",
      "\n"
     ]
    },
    {
     "name": "stdout",
     "output_type": "stream",
     "text": [
      "Epoch 60, Loss 0.031\n",
      "Training Accuracy: 0.9644, Testing Accuracy: 0.9677\n",
      "\n"
     ]
    },
    {
     "name": "stdout",
     "output_type": "stream",
     "text": [
      "Epoch 70, Loss 0.0293\n",
      "Training Accuracy: 0.9660, Testing Accuracy: 0.9688\n",
      "\n"
     ]
    },
    {
     "name": "stdout",
     "output_type": "stream",
     "text": [
      "Epoch 80, Loss 0.028\n",
      "Training Accuracy: 0.9675, Testing Accuracy: 0.9703\n",
      "\n"
     ]
    },
    {
     "name": "stdout",
     "output_type": "stream",
     "text": [
      "Epoch 90, Loss 0.0269\n",
      "Training Accuracy: 0.9683, Testing Accuracy: 0.9698\n",
      "\n"
     ]
    },
    {
     "name": "stdout",
     "output_type": "stream",
     "text": [
      "Epoch 100, Loss 0.0259\n",
      "Training Accuracy: 0.9700, Testing Accuracy: 0.9703\n",
      "\n"
     ]
    },
    {
     "name": "stdout",
     "output_type": "stream",
     "text": [
      "Epoch 110, Loss 0.0251\n",
      "Training Accuracy: 0.9714, Testing Accuracy: 0.9703\n",
      "\n"
     ]
    },
    {
     "name": "stdout",
     "output_type": "stream",
     "text": [
      "Epoch 120, Loss 0.0243\n",
      "Training Accuracy: 0.9722, Testing Accuracy: 0.9703\n",
      "\n"
     ]
    },
    {
     "name": "stdout",
     "output_type": "stream",
     "text": [
      "Epoch 130, Loss 0.0236\n",
      "Training Accuracy: 0.9733, Testing Accuracy: 0.9703\n",
      "\n"
     ]
    },
    {
     "name": "stdout",
     "output_type": "stream",
     "text": [
      "Epoch 140, Loss 0.0229\n",
      "Training Accuracy: 0.9738, Testing Accuracy: 0.9708\n",
      "\n"
     ]
    },
    {
     "name": "stdout",
     "output_type": "stream",
     "text": [
      "Epoch 150, Loss 0.0223\n",
      "Training Accuracy: 0.9747, Testing Accuracy: 0.9708\n",
      "\n"
     ]
    },
    {
     "name": "stdout",
     "output_type": "stream",
     "text": [
      "Epoch 160, Loss 0.0218\n",
      "Training Accuracy: 0.9753, Testing Accuracy: 0.9723\n",
      "\n"
     ]
    },
    {
     "name": "stdout",
     "output_type": "stream",
     "text": [
      "Epoch 170, Loss 0.0212\n",
      "Training Accuracy: 0.9760, Testing Accuracy: 0.9718\n",
      "\n"
     ]
    },
    {
     "name": "stdout",
     "output_type": "stream",
     "text": [
      "Epoch 180, Loss 0.0207\n",
      "Training Accuracy: 0.9765, Testing Accuracy: 0.9723\n",
      "\n"
     ]
    },
    {
     "name": "stdout",
     "output_type": "stream",
     "text": [
      "Epoch 190, Loss 0.0203\n",
      "Training Accuracy: 0.9773, Testing Accuracy: 0.9728\n",
      "\n"
     ]
    },
    {
     "name": "stdout",
     "output_type": "stream",
     "text": [
      "Epoch 200, Loss 0.0198\n",
      "Training Accuracy: 0.9779, Testing Accuracy: 0.9728\n",
      "\n"
     ]
    },
    {
     "name": "stdout",
     "output_type": "stream",
     "text": [
      "Epoch 210, Loss 0.0194\n",
      "Training Accuracy: 0.9785, Testing Accuracy: 0.9728\n",
      "\n"
     ]
    },
    {
     "name": "stdout",
     "output_type": "stream",
     "text": [
      "Epoch 220, Loss 0.019\n",
      "Training Accuracy: 0.9791, Testing Accuracy: 0.9733\n",
      "\n"
     ]
    },
    {
     "name": "stdout",
     "output_type": "stream",
     "text": [
      "Epoch 230, Loss 0.0187\n",
      "Training Accuracy: 0.9797, Testing Accuracy: 0.9743\n",
      "\n"
     ]
    },
    {
     "name": "stdout",
     "output_type": "stream",
     "text": [
      "Epoch 240, Loss 0.0183\n",
      "Training Accuracy: 0.9801, Testing Accuracy: 0.9743\n",
      "\n"
     ]
    },
    {
     "data": {
      "text/plain": [
       "0.014331999671163961"
      ]
     },
     "execution_count": 22,
     "metadata": {},
     "output_type": "execute_result"
    }
   ],
   "source": [
    "nn_learner.train_loop(dl)"
   ]
  },
  {
   "cell_type": "code",
   "execution_count": 23,
   "id": "e0163366",
   "metadata": {
    "execution": {
     "iopub.execute_input": "2022-02-21T20:10:32.855965Z",
     "iopub.status.busy": "2022-02-21T20:10:32.855449Z",
     "iopub.status.idle": "2022-02-21T20:10:46.617629Z",
     "shell.execute_reply": "2022-02-21T20:10:46.618303Z"
    },
    "papermill": {
     "duration": 13.80393,
     "end_time": "2022-02-21T20:10:46.618447",
     "exception": false,
     "start_time": "2022-02-21T20:10:32.814517",
     "status": "completed"
    },
    "tags": []
   },
   "outputs": [
    {
     "name": "stdout",
     "output_type": "stream",
     "text": [
      "Epoch 0, Loss 0.2803\n",
      "Training Accuracy: 0.5402, Testing Accuracy: 0.5373\n",
      "\n"
     ]
    },
    {
     "name": "stdout",
     "output_type": "stream",
     "text": [
      "Epoch 10, Loss 0.1063\n",
      "Training Accuracy: 0.9054, Testing Accuracy: 0.9153\n",
      "\n"
     ]
    },
    {
     "name": "stdout",
     "output_type": "stream",
     "text": [
      "Epoch 20, Loss 0.08\n",
      "Training Accuracy: 0.9266, Testing Accuracy: 0.9410\n",
      "\n"
     ]
    },
    {
     "name": "stdout",
     "output_type": "stream",
     "text": [
      "Epoch 30, Loss 0.0683\n",
      "Training Accuracy: 0.9363, Testing Accuracy: 0.9481\n",
      "\n"
     ]
    },
    {
     "name": "stdout",
     "output_type": "stream",
     "text": [
      "Epoch 40, Loss 0.0614\n",
      "Training Accuracy: 0.9416, Testing Accuracy: 0.9546\n",
      "\n"
     ]
    },
    {
     "name": "stdout",
     "output_type": "stream",
     "text": [
      "Epoch 50, Loss 0.0568\n",
      "Training Accuracy: 0.9443, Testing Accuracy: 0.9582\n",
      "\n"
     ]
    },
    {
     "name": "stdout",
     "output_type": "stream",
     "text": [
      "Epoch 60, Loss 0.0535\n",
      "Training Accuracy: 0.9466, Testing Accuracy: 0.9602\n",
      "\n"
     ]
    },
    {
     "name": "stdout",
     "output_type": "stream",
     "text": [
      "Epoch 70, Loss 0.0509\n",
      "Training Accuracy: 0.9495, Testing Accuracy: 0.9627\n",
      "\n"
     ]
    },
    {
     "name": "stdout",
     "output_type": "stream",
     "text": [
      "Epoch 80, Loss 0.0488\n",
      "Training Accuracy: 0.9509, Testing Accuracy: 0.9637\n",
      "\n"
     ]
    },
    {
     "name": "stdout",
     "output_type": "stream",
     "text": [
      "Epoch 90, Loss 0.0471\n",
      "Training Accuracy: 0.9530, Testing Accuracy: 0.9642\n",
      "\n"
     ]
    },
    {
     "name": "stdout",
     "output_type": "stream",
     "text": [
      "Epoch 100, Loss 0.0457\n",
      "Training Accuracy: 0.9540, Testing Accuracy: 0.9642\n",
      "\n"
     ]
    },
    {
     "name": "stdout",
     "output_type": "stream",
     "text": [
      "Epoch 110, Loss 0.0445\n",
      "Training Accuracy: 0.9551, Testing Accuracy: 0.9652\n",
      "\n"
     ]
    },
    {
     "name": "stdout",
     "output_type": "stream",
     "text": [
      "Epoch 120, Loss 0.0434\n",
      "Training Accuracy: 0.9560, Testing Accuracy: 0.9662\n",
      "\n"
     ]
    },
    {
     "name": "stdout",
     "output_type": "stream",
     "text": [
      "Epoch 130, Loss 0.0425\n",
      "Training Accuracy: 0.9566, Testing Accuracy: 0.9672\n",
      "\n"
     ]
    },
    {
     "name": "stdout",
     "output_type": "stream",
     "text": [
      "Epoch 140, Loss 0.0417\n",
      "Training Accuracy: 0.9569, Testing Accuracy: 0.9677\n",
      "\n"
     ]
    },
    {
     "name": "stdout",
     "output_type": "stream",
     "text": [
      "Epoch 150, Loss 0.041\n",
      "Training Accuracy: 0.9577, Testing Accuracy: 0.9677\n",
      "\n"
     ]
    },
    {
     "name": "stdout",
     "output_type": "stream",
     "text": [
      "Epoch 160, Loss 0.0403\n",
      "Training Accuracy: 0.9584, Testing Accuracy: 0.9672\n",
      "\n"
     ]
    },
    {
     "name": "stdout",
     "output_type": "stream",
     "text": [
      "Epoch 170, Loss 0.0397\n",
      "Training Accuracy: 0.9591, Testing Accuracy: 0.9657\n",
      "\n"
     ]
    },
    {
     "name": "stdout",
     "output_type": "stream",
     "text": [
      "Epoch 180, Loss 0.0391\n",
      "Training Accuracy: 0.9595, Testing Accuracy: 0.9657\n",
      "\n"
     ]
    },
    {
     "name": "stdout",
     "output_type": "stream",
     "text": [
      "Epoch 190, Loss 0.0386\n",
      "Training Accuracy: 0.9595, Testing Accuracy: 0.9657\n",
      "\n"
     ]
    },
    {
     "name": "stdout",
     "output_type": "stream",
     "text": [
      "Epoch 200, Loss 0.0382\n",
      "Training Accuracy: 0.9598, Testing Accuracy: 0.9657\n",
      "\n"
     ]
    },
    {
     "name": "stdout",
     "output_type": "stream",
     "text": [
      "Epoch 210, Loss 0.0377\n",
      "Training Accuracy: 0.9602, Testing Accuracy: 0.9662\n",
      "\n"
     ]
    },
    {
     "name": "stdout",
     "output_type": "stream",
     "text": [
      "Epoch 220, Loss 0.0373\n",
      "Training Accuracy: 0.9602, Testing Accuracy: 0.9672\n",
      "\n"
     ]
    },
    {
     "name": "stdout",
     "output_type": "stream",
     "text": [
      "Epoch 230, Loss 0.037\n",
      "Training Accuracy: 0.9606, Testing Accuracy: 0.9682\n",
      "\n"
     ]
    },
    {
     "name": "stdout",
     "output_type": "stream",
     "text": [
      "Epoch 240, Loss 0.0366\n",
      "Training Accuracy: 0.9607, Testing Accuracy: 0.9682\n",
      "\n"
     ]
    },
    {
     "data": {
      "text/plain": [
       "0.011829130167780496"
      ]
     },
     "execution_count": 23,
     "metadata": {},
     "output_type": "execute_result"
    }
   ],
   "source": [
    "lr_learner.train_loop(dl)"
   ]
  },
  {
   "cell_type": "code",
   "execution_count": 24,
   "id": "ca410940",
   "metadata": {
    "execution": {
     "iopub.execute_input": "2022-02-21T20:10:46.704697Z",
     "iopub.status.busy": "2022-02-21T20:10:46.704217Z",
     "iopub.status.idle": "2022-02-21T20:10:46.897172Z",
     "shell.execute_reply": "2022-02-21T20:10:46.896321Z"
    },
    "papermill": {
     "duration": 0.242606,
     "end_time": "2022-02-21T20:10:46.897298",
     "exception": false,
     "start_time": "2022-02-21T20:10:46.654692",
     "status": "completed"
    },
    "tags": []
   },
   "outputs": [
    {
     "data": {
      "text/plain": [
       "<matplotlib.legend.Legend at 0x7ff2154c9d68>"
      ]
     },
     "execution_count": 24,
     "metadata": {},
     "output_type": "execute_result"
    },
    {
     "data": {
      "image/png": "[encoded data removed]",
      "text/plain": [
       "<Figure size 1080x720 with 1 Axes>"
      ]
     },
     "metadata": {
      "needs_background": "light"
     },
     "output_type": "display_data"
    }
   ],
   "source": [
    "#comparing the results of NN and LR\n",
    "plt.figure(figsize=(15,10))\n",
    "\n",
    "# Neural Network plots\n",
    "plt.plot(acc_nn.accuracies, 'r-', label = \"Training Accuracies - NN\")\n",
    "plt.plot(acc_nn.test_accuracies, 'g-', label = \"Testing Accuracies - NN\")\n",
    "\n",
    "# Logistic Regression plots\n",
    "plt.plot(acc_lr.accuracies, 'k-', label = \"Training Accuracies - LR\")\n",
    "plt.plot(acc_lr.test_accuracies, 'b-', label = \"Testing Accuracies - LR\")\n",
    "plt.legend()"
   ]
  },
  {
   "cell_type": "markdown",
   "id": "80dfb35c",
   "metadata": {
    "papermill": {
     "duration": 0.036456,
     "end_time": "2022-02-21T20:10:46.971022",
     "exception": false,
     "start_time": "2022-02-21T20:10:46.934566",
     "status": "completed"
    },
    "tags": []
   },
   "source": [
    "#### Plotting the outputs of this layer of the NN.\n"
   ]
  },
  {
   "cell_type": "code",
   "execution_count": 25,
   "id": "45eb2ff5",
   "metadata": {
    "execution": {
     "iopub.execute_input": "2022-02-21T20:10:47.048811Z",
     "iopub.status.busy": "2022-02-21T20:10:47.048333Z",
     "iopub.status.idle": "2022-02-21T20:10:47.067376Z",
     "shell.execute_reply": "2022-02-21T20:10:47.067817Z"
    },
    "papermill": {
     "duration": 0.06049,
     "end_time": "2022-02-21T20:10:47.067956",
     "exception": false,
     "start_time": "2022-02-21T20:10:47.007466",
     "status": "completed"
    },
    "tags": []
   },
   "outputs": [],
   "source": [
    "new_model = Model(layers[:-2])\n",
    "testing_plot = new_model(testing_data_x)"
   ]
  },
  {
   "cell_type": "code",
   "execution_count": 26,
   "id": "4c0a5485",
   "metadata": {
    "execution": {
     "iopub.execute_input": "2022-02-21T20:10:47.146479Z",
     "iopub.status.busy": "2022-02-21T20:10:47.145990Z",
     "iopub.status.idle": "2022-02-21T20:10:47.330539Z",
     "shell.execute_reply": "2022-02-21T20:10:47.330129Z"
    },
    "papermill": {
     "duration": 0.225806,
     "end_time": "2022-02-21T20:10:47.330652",
     "exception": false,
     "start_time": "2022-02-21T20:10:47.104846",
     "status": "completed"
    },
    "tags": []
   },
   "outputs": [
    {
     "data": {
      "text/plain": [
       "Text(0.5, 1.0, 'Outputs')"
      ]
     },
     "execution_count": 26,
     "metadata": {},
     "output_type": "execute_result"
    },
    {
     "data": {
      "image/png": "[encoded data removed]",
      "text/plain": [
       "<Figure size 576x504 with 1 Axes>"
      ]
     },
     "metadata": {
      "needs_background": "light"
     },
     "output_type": "display_data"
    }
   ],
   "source": [
    "# Plotting the scatter plot of points and color coding by class\n",
    "plt.figure(figsize=(8,7))\n",
    "plt.scatter(testing_plot[:,0], testing_plot[:,1], alpha = 0.1, c = y_test.ravel());\n",
    "plt.title('Outputs')"
   ]
  },
  {
   "cell_type": "markdown",
   "id": "a74fcf8f",
   "metadata": {
    "papermill": {
     "duration": 0.038702,
     "end_time": "2022-02-21T20:10:47.408075",
     "exception": false,
     "start_time": "2022-02-21T20:10:47.369373",
     "status": "completed"
    },
    "tags": []
   },
   "source": [
    "Probability contours"
   ]
  },
  {
   "cell_type": "code",
   "execution_count": 27,
   "id": "d0afc8e3",
   "metadata": {
    "execution": {
     "iopub.execute_input": "2022-02-21T20:10:47.490499Z",
     "iopub.status.busy": "2022-02-21T20:10:47.490031Z",
     "iopub.status.idle": "2022-02-21T20:10:47.499631Z",
     "shell.execute_reply": "2022-02-21T20:10:47.499981Z"
    },
    "papermill": {
     "duration": 0.053264,
     "end_time": "2022-02-21T20:10:47.500113",
     "exception": false,
     "start_time": "2022-02-21T20:10:47.446849",
     "status": "completed"
    },
    "tags": []
   },
   "outputs": [],
   "source": [
    "model_prob = Model(layers[-2:]) "
   ]
  },
  {
   "cell_type": "code",
   "execution_count": 28,
   "id": "9b96e238",
   "metadata": {
    "execution": {
     "iopub.execute_input": "2022-02-21T20:10:47.581958Z",
     "iopub.status.busy": "2022-02-21T20:10:47.581468Z",
     "iopub.status.idle": "2022-02-21T20:10:47.593988Z",
     "shell.execute_reply": "2022-02-21T20:10:47.594635Z"
    },
    "papermill": {
     "duration": 0.056212,
     "end_time": "2022-02-21T20:10:47.594764",
     "exception": false,
     "start_time": "2022-02-21T20:10:47.538552",
     "status": "completed"
    },
    "tags": []
   },
   "outputs": [],
   "source": [
    "#creating the x and y ranges according to the above generated plot.\n",
    "x_range = np.linspace(-4, 1, 100) \n",
    "y_range = np.linspace(-6, 6, 100) \n",
    "x_grid, y_grid = np.meshgrid(x_range, y_range) # x_grid and y_grig are of size 100 X 100\n",
    "\n",
    "# converting x_grid and y_grid to continuous arrays\n",
    "x_gridflat = np.ravel(x_grid)\n",
    "y_gridflat = np.ravel(y_grid)\n",
    "\n",
    "# The last layer of the current model takes two columns as input. Hence transpose of np.vstack() is required.\n",
    "X = np.vstack((x_gridflat, y_gridflat)).T\n",
    "\n",
    "prob_contour = model_prob(X).reshape(100,100) "
   ]
  },
  {
   "cell_type": "code",
   "execution_count": 29,
   "id": "da72499a",
   "metadata": {
    "execution": {
     "iopub.execute_input": "2022-02-21T20:10:47.706222Z",
     "iopub.status.busy": "2022-02-21T20:10:47.705742Z",
     "iopub.status.idle": "2022-02-21T20:10:47.924687Z",
     "shell.execute_reply": "2022-02-21T20:10:47.924186Z"
    },
    "papermill": {
     "duration": 0.290775,
     "end_time": "2022-02-21T20:10:47.924826",
     "exception": false,
     "start_time": "2022-02-21T20:10:47.634051",
     "status": "completed"
    },
    "tags": []
   },
   "outputs": [
    {
     "data": {
      "image/png": "[encoded data removed]",
      "text/plain": [
       "<Figure size 720x648 with 1 Axes>"
      ]
     },
     "metadata": {
      "needs_background": "light"
     },
     "output_type": "display_data"
    }
   ],
   "source": [
    "plt.figure(figsize=(10,9))\n",
    "plt.scatter(testing_plot[:,0], testing_plot[:,1], alpha = 0.1, c = y_test.ravel())\n",
    "contours = plt.contour(x_grid,y_grid,prob_contour)\n",
    "plt.title('Probability Contours')\n",
    "plt.clabel(contours, inline = True );"
   ]
  },
  {
   "cell_type": "code",
   "execution_count": null,
   "id": "e81b4ac7",
   "metadata": {
    "papermill": {
     "duration": 0.040877,
     "end_time": "2022-02-21T20:10:48.007692",
     "exception": false,
     "start_time": "2022-02-21T20:10:47.966815",
     "status": "completed"
    },
    "tags": []
   },
   "outputs": [],
   "source": []
  }
 ],
 "metadata": {
  "kernelspec": {
   "display_name": "Python 3",
   "language": "python",
   "name": "python3"
  },
  "language_info": {
   "codemirror_mode": {
    "name": "ipython",
    "version": 3
   },
   "file_extension": ".py",
   "mimetype": "text/x-python",
   "name": "python",
   "nbconvert_exporter": "python",
   "pygments_lexer": "ipython3",
   "version": "3.6.15"
  },
  "papermill": {
   "default_parameters": {},
   "duration": 99.960024,
   "end_time": "2022-02-21T20:10:48.466967",
   "environment_variables": {},
   "exception": null,
   "input_path": "2020-08-11-part2.ipynb",
   "output_path": "2020-08-11-part2.ipynb",
   "parameters": {},
   "start_time": "2022-02-21T20:09:08.506943",
   "version": "2.3.3"
  }
 },
 "nbformat": 4,
 "nbformat_minor": 5
}