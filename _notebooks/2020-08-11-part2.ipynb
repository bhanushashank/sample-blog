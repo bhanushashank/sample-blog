{
 "cells": [
  {
   "cell_type": "markdown",
   "id": "98380cd3",
   "metadata": {
    "papermill": {
     "duration": 0.032203,
     "end_time": "2021-10-16T00:22:41.941127",
     "exception": false,
     "start_time": "2021-10-16T00:22:41.908924",
     "status": "completed"
    },
    "tags": []
   },
   "source": [
    "# Distinguish Your Own Digits (DYOD)"
   ]
  },
  {
   "cell_type": "markdown",
   "id": "ef31240d",
   "metadata": {
    "papermill": {
     "duration": 0.02564,
     "end_time": "2021-10-16T00:22:41.993727",
     "exception": false,
     "start_time": "2021-10-16T00:22:41.968087",
     "status": "completed"
    },
    "tags": []
   },
   "source": [
    "You are going to write a classifier that distinguishes between the number 3 and number 8."
   ]
  },
  {
   "cell_type": "code",
   "execution_count": 1,
   "id": "b15c8646",
   "metadata": {
    "execution": {
     "iopub.execute_input": "2021-10-16T00:22:42.055267Z",
     "iopub.status.busy": "2021-10-16T00:22:42.054688Z",
     "iopub.status.idle": "2021-10-16T00:22:42.066758Z",
     "shell.execute_reply": "2021-10-16T00:22:42.066280Z"
    },
    "papermill": {
     "duration": 0.049476,
     "end_time": "2021-10-16T00:22:42.066909",
     "exception": false,
     "start_time": "2021-10-16T00:22:42.017433",
     "status": "completed"
    },
    "tags": []
   },
   "outputs": [],
   "source": [
    "%load_ext autoreload\n",
    "%autoreload 2"
   ]
  },
  {
   "cell_type": "code",
   "execution_count": 2,
   "id": "22ef38dc",
   "metadata": {
    "execution": {
     "iopub.execute_input": "2021-10-16T00:22:42.120673Z",
     "iopub.status.busy": "2021-10-16T00:22:42.120028Z",
     "iopub.status.idle": "2021-10-16T00:22:42.696614Z",
     "shell.execute_reply": "2021-10-16T00:22:42.695603Z"
    },
    "papermill": {
     "duration": 0.606472,
     "end_time": "2021-10-16T00:22:42.696857",
     "exception": false,
     "start_time": "2021-10-16T00:22:42.090385",
     "status": "completed"
    },
    "tags": []
   },
   "outputs": [],
   "source": [
    "%matplotlib inline\n",
    "import numpy as np\n",
    "import matplotlib.pyplot as plt\n",
    "import pandas as pd"
   ]
  },
  {
   "cell_type": "markdown",
   "id": "ba036198",
   "metadata": {
    "papermill": {
     "duration": 0.026197,
     "end_time": "2021-10-16T00:22:42.749089",
     "exception": false,
     "start_time": "2021-10-16T00:22:42.722892",
     "status": "completed"
    },
    "tags": []
   },
   "source": [
    "From the command line run `pip install mnist`. This is a library that will help you bring down the mnist dataset. If you run this from a notebook, you need to put  `!pip install mnist` in a cell by itself."
   ]
  },
  {
   "cell_type": "code",
   "execution_count": 3,
   "id": "bb6ad8a1",
   "metadata": {
    "execution": {
     "iopub.execute_input": "2021-10-16T00:22:42.802144Z",
     "iopub.status.busy": "2021-10-16T00:22:42.801573Z",
     "iopub.status.idle": "2021-10-16T00:22:45.357413Z",
     "shell.execute_reply": "2021-10-16T00:22:45.358045Z"
    },
    "papermill": {
     "duration": 2.586522,
     "end_time": "2021-10-16T00:22:45.358264",
     "exception": false,
     "start_time": "2021-10-16T00:22:42.771742",
     "status": "completed"
    },
    "tags": []
   },
   "outputs": [
    {
     "name": "stdout",
     "output_type": "stream",
     "text": [
      "Collecting mnist\r\n"
     ]
    },
    {
     "name": "stdout",
     "output_type": "stream",
     "text": [
      "  Downloading mnist-0.2.2-py2.py3-none-any.whl (3.5 kB)\r\n",
      "Requirement already satisfied: numpy in /opt/hostedtoolcache/Python/3.6.15/x64/lib/python3.6/site-packages (from mnist) (1.19.5)\r\n"
     ]
    },
    {
     "name": "stdout",
     "output_type": "stream",
     "text": [
      "Installing collected packages: mnist\r\n"
     ]
    },
    {
     "name": "stdout",
     "output_type": "stream",
     "text": [
      "Successfully installed mnist-0.2.2\r\n"
     ]
    },
    {
     "name": "stdout",
     "output_type": "stream",
     "text": [
      "\u001b[33mWARNING: You are using pip version 21.2.4; however, version 21.3 is available.\r\n",
      "You should consider upgrading via the '/opt/hostedtoolcache/Python/3.6.15/x64/bin/python -m pip install --upgrade pip' command.\u001b[0m\r\n"
     ]
    }
   ],
   "source": [
    "!pip install mnist"
   ]
  },
  {
   "cell_type": "markdown",
   "id": "69df9c9a",
   "metadata": {
    "papermill": {
     "duration": 0.024022,
     "end_time": "2021-10-16T00:22:45.408040",
     "exception": false,
     "start_time": "2021-10-16T00:22:45.384018",
     "status": "completed"
    },
    "tags": []
   },
   "source": [
    "## Preparing the Data"
   ]
  },
  {
   "cell_type": "code",
   "execution_count": 4,
   "id": "7f69d806",
   "metadata": {
    "execution": {
     "iopub.execute_input": "2021-10-16T00:22:45.476287Z",
     "iopub.status.busy": "2021-10-16T00:22:45.468591Z",
     "iopub.status.idle": "2021-10-16T00:22:45.483499Z",
     "shell.execute_reply": "2021-10-16T00:22:45.483014Z"
    },
    "papermill": {
     "duration": 0.050795,
     "end_time": "2021-10-16T00:22:45.483628",
     "exception": false,
     "start_time": "2021-10-16T00:22:45.432833",
     "status": "completed"
    },
    "tags": []
   },
   "outputs": [],
   "source": [
    "import mnist"
   ]
  },
  {
   "cell_type": "code",
   "execution_count": 5,
   "id": "a411e44f",
   "metadata": {
    "execution": {
     "iopub.execute_input": "2021-10-16T00:22:45.537227Z",
     "iopub.status.busy": "2021-10-16T00:22:45.536802Z",
     "iopub.status.idle": "2021-10-16T00:22:46.114543Z",
     "shell.execute_reply": "2021-10-16T00:22:46.113883Z"
    },
    "papermill": {
     "duration": 0.607101,
     "end_time": "2021-10-16T00:22:46.114684",
     "exception": false,
     "start_time": "2021-10-16T00:22:45.507583",
     "status": "completed"
    },
    "tags": []
   },
   "outputs": [],
   "source": [
    "train_images = mnist.train_images()\n",
    "train_labels = mnist.train_labels()"
   ]
  },
  {
   "cell_type": "code",
   "execution_count": 6,
   "id": "dceab3a5",
   "metadata": {
    "execution": {
     "iopub.execute_input": "2021-10-16T00:22:46.168931Z",
     "iopub.status.busy": "2021-10-16T00:22:46.168352Z",
     "iopub.status.idle": "2021-10-16T00:22:46.186723Z",
     "shell.execute_reply": "2021-10-16T00:22:46.186247Z"
    },
    "papermill": {
     "duration": 0.0465,
     "end_time": "2021-10-16T00:22:46.186843",
     "exception": false,
     "start_time": "2021-10-16T00:22:46.140343",
     "status": "completed"
    },
    "tags": []
   },
   "outputs": [
    {
     "data": {
      "text/plain": [
       "((60000, 28, 28), (60000,))"
      ]
     },
     "execution_count": 6,
     "metadata": {},
     "output_type": "execute_result"
    }
   ],
   "source": [
    "train_images.shape, train_labels.shape"
   ]
  },
  {
   "cell_type": "code",
   "execution_count": 7,
   "id": "f50dc2bb",
   "metadata": {
    "execution": {
     "iopub.execute_input": "2021-10-16T00:22:46.240159Z",
     "iopub.status.busy": "2021-10-16T00:22:46.239576Z",
     "iopub.status.idle": "2021-10-16T00:22:46.364470Z",
     "shell.execute_reply": "2021-10-16T00:22:46.363435Z"
    },
    "papermill": {
     "duration": 0.152604,
     "end_time": "2021-10-16T00:22:46.364704",
     "exception": false,
     "start_time": "2021-10-16T00:22:46.212100",
     "status": "completed"
    },
    "tags": []
   },
   "outputs": [],
   "source": [
    "test_images = mnist.test_images()\n",
    "test_labels = mnist.test_labels()"
   ]
  },
  {
   "cell_type": "code",
   "execution_count": 8,
   "id": "fc38cf1b",
   "metadata": {
    "execution": {
     "iopub.execute_input": "2021-10-16T00:22:46.426604Z",
     "iopub.status.busy": "2021-10-16T00:22:46.425397Z",
     "iopub.status.idle": "2021-10-16T00:22:46.441882Z",
     "shell.execute_reply": "2021-10-16T00:22:46.442356Z"
    },
    "papermill": {
     "duration": 0.048295,
     "end_time": "2021-10-16T00:22:46.442501",
     "exception": false,
     "start_time": "2021-10-16T00:22:46.394206",
     "status": "completed"
    },
    "tags": []
   },
   "outputs": [
    {
     "data": {
      "text/plain": [
       "((10000, 28, 28), (10000,))"
      ]
     },
     "execution_count": 8,
     "metadata": {},
     "output_type": "execute_result"
    }
   ],
   "source": [
    "test_images.shape, test_labels.shape"
   ]
  },
  {
   "cell_type": "code",
   "execution_count": 9,
   "id": "f9ed8fe0",
   "metadata": {
    "execution": {
     "iopub.execute_input": "2021-10-16T00:22:46.502242Z",
     "iopub.status.busy": "2021-10-16T00:22:46.501647Z",
     "iopub.status.idle": "2021-10-16T00:22:46.661089Z",
     "shell.execute_reply": "2021-10-16T00:22:46.660550Z"
    },
    "papermill": {
     "duration": 0.192153,
     "end_time": "2021-10-16T00:22:46.661228",
     "exception": false,
     "start_time": "2021-10-16T00:22:46.469075",
     "status": "completed"
    },
    "tags": []
   },
   "outputs": [
    {
     "name": "stdout",
     "output_type": "stream",
     "text": [
      "2\n"
     ]
    },
    {
     "data": {
      "text/plain": [
       "<matplotlib.image.AxesImage at 0x7fd2015a69b0>"
      ]
     },
     "execution_count": 9,
     "metadata": {},
     "output_type": "execute_result"
    },
    {
     "data": {
      "image/png": "[encoded data removed]",
      "text/plain": [
       "<Figure size 432x288 with 1 Axes>"
      ]
     },
     "metadata": {
      "needs_background": "light"
     },
     "output_type": "display_data"
    }
   ],
   "source": [
    "image_index = 7776 # You may select anything up to 60,000\n",
    "print(train_labels[image_index]) \n",
    "plt.imshow(train_images[image_index], cmap='Greys')"
   ]
  },
  {
   "cell_type": "markdown",
   "id": "a8d2388d",
   "metadata": {
    "papermill": {
     "duration": 0.029517,
     "end_time": "2021-10-16T00:22:46.720721",
     "exception": false,
     "start_time": "2021-10-16T00:22:46.691204",
     "status": "completed"
    },
    "tags": []
   },
   "source": [
    "## Filter data to get 3 and 8 out"
   ]
  },
  {
   "cell_type": "code",
   "execution_count": 10,
   "id": "776f7fc7",
   "metadata": {
    "execution": {
     "iopub.execute_input": "2021-10-16T00:22:46.784511Z",
     "iopub.status.busy": "2021-10-16T00:22:46.783855Z",
     "iopub.status.idle": "2021-10-16T00:22:46.803655Z",
     "shell.execute_reply": "2021-10-16T00:22:46.803152Z"
    },
    "papermill": {
     "duration": 0.053028,
     "end_time": "2021-10-16T00:22:46.803796",
     "exception": false,
     "start_time": "2021-10-16T00:22:46.750768",
     "status": "completed"
    },
    "tags": []
   },
   "outputs": [],
   "source": [
    "train_filter = np.where((train_labels == 3 ) | (train_labels == 8))\n",
    "test_filter = np.where((test_labels == 3) | (test_labels == 8))\n",
    "X_train, y_train = train_images[train_filter], train_labels[train_filter]\n",
    "X_test, y_test = test_images[test_filter], test_labels[test_filter]"
   ]
  },
  {
   "cell_type": "markdown",
   "id": "948f0b7e",
   "metadata": {
    "papermill": {
     "duration": 0.028146,
     "end_time": "2021-10-16T00:22:46.860066",
     "exception": false,
     "start_time": "2021-10-16T00:22:46.831920",
     "status": "completed"
    },
    "tags": []
   },
   "source": [
    "We normalize the pizel values in the 0 to 1 range"
   ]
  },
  {
   "cell_type": "code",
   "execution_count": 11,
   "id": "ee4c2166",
   "metadata": {
    "execution": {
     "iopub.execute_input": "2021-10-16T00:22:46.919996Z",
     "iopub.status.busy": "2021-10-16T00:22:46.919397Z",
     "iopub.status.idle": "2021-10-16T00:22:46.988398Z",
     "shell.execute_reply": "2021-10-16T00:22:46.989098Z"
    },
    "papermill": {
     "duration": 0.102563,
     "end_time": "2021-10-16T00:22:46.989333",
     "exception": false,
     "start_time": "2021-10-16T00:22:46.886770",
     "status": "completed"
    },
    "tags": []
   },
   "outputs": [],
   "source": [
    "X_train = X_train/255.\n",
    "X_test = X_test/255."
   ]
  },
  {
   "cell_type": "markdown",
   "id": "ddcf4fab",
   "metadata": {
    "papermill": {
     "duration": 0.026974,
     "end_time": "2021-10-16T00:22:47.046479",
     "exception": false,
     "start_time": "2021-10-16T00:22:47.019505",
     "status": "completed"
    },
    "tags": []
   },
   "source": [
    "And setup the labels as 1 (when the digit is 3) and 0 (when the digit is 8)"
   ]
  },
  {
   "cell_type": "code",
   "execution_count": 12,
   "id": "7dc908f2",
   "metadata": {
    "execution": {
     "iopub.execute_input": "2021-10-16T00:22:47.105777Z",
     "iopub.status.busy": "2021-10-16T00:22:47.105126Z",
     "iopub.status.idle": "2021-10-16T00:22:47.121612Z",
     "shell.execute_reply": "2021-10-16T00:22:47.120507Z"
    },
    "papermill": {
     "duration": 0.047742,
     "end_time": "2021-10-16T00:22:47.121748",
     "exception": false,
     "start_time": "2021-10-16T00:22:47.074006",
     "status": "completed"
    },
    "tags": []
   },
   "outputs": [],
   "source": [
    "y_train = 1*(y_train==3)\n",
    "y_test = 1*(y_test==3)"
   ]
  },
  {
   "cell_type": "code",
   "execution_count": 13,
   "id": "01e4e969",
   "metadata": {
    "execution": {
     "iopub.execute_input": "2021-10-16T00:22:47.185756Z",
     "iopub.status.busy": "2021-10-16T00:22:47.184154Z",
     "iopub.status.idle": "2021-10-16T00:22:47.199297Z",
     "shell.execute_reply": "2021-10-16T00:22:47.198809Z"
    },
    "papermill": {
     "duration": 0.048756,
     "end_time": "2021-10-16T00:22:47.199434",
     "exception": false,
     "start_time": "2021-10-16T00:22:47.150678",
     "status": "completed"
    },
    "tags": []
   },
   "outputs": [
    {
     "data": {
      "text/plain": [
       "((11982, 28, 28), (1984, 28, 28))"
      ]
     },
     "execution_count": 13,
     "metadata": {},
     "output_type": "execute_result"
    }
   ],
   "source": [
    "X_train.shape, X_test.shape"
   ]
  },
  {
   "cell_type": "markdown",
   "id": "5ccf3f85",
   "metadata": {
    "papermill": {
     "duration": 0.027471,
     "end_time": "2021-10-16T00:22:47.255840",
     "exception": false,
     "start_time": "2021-10-16T00:22:47.228369",
     "status": "completed"
    },
    "tags": []
   },
   "source": [
    "We reshape the data to flatten the image pixels into a set of features or co-variates:"
   ]
  },
  {
   "cell_type": "code",
   "execution_count": 14,
   "id": "5286a4a3",
   "metadata": {
    "execution": {
     "iopub.execute_input": "2021-10-16T00:22:47.319422Z",
     "iopub.status.busy": "2021-10-16T00:22:47.318853Z",
     "iopub.status.idle": "2021-10-16T00:22:47.334767Z",
     "shell.execute_reply": "2021-10-16T00:22:47.334364Z"
    },
    "papermill": {
     "duration": 0.050172,
     "end_time": "2021-10-16T00:22:47.334884",
     "exception": false,
     "start_time": "2021-10-16T00:22:47.284712",
     "status": "completed"
    },
    "tags": []
   },
   "outputs": [
    {
     "data": {
      "text/plain": [
       "((11982, 784), (1984, 784))"
      ]
     },
     "execution_count": 14,
     "metadata": {},
     "output_type": "execute_result"
    }
   ],
   "source": [
    "X_train = X_train.reshape(X_train.shape[0], -1)\n",
    "X_test = X_test.reshape(X_test.shape[0], -1)\n",
    "X_train.shape, X_test.shape"
   ]
  },
  {
   "cell_type": "code",
   "execution_count": 15,
   "id": "73c5f88a",
   "metadata": {
    "execution": {
     "iopub.execute_input": "2021-10-16T00:22:47.399221Z",
     "iopub.status.busy": "2021-10-16T00:22:47.398598Z",
     "iopub.status.idle": "2021-10-16T00:22:47.421133Z",
     "shell.execute_reply": "2021-10-16T00:22:47.421585Z"
    },
    "papermill": {
     "duration": 0.059292,
     "end_time": "2021-10-16T00:22:47.421748",
     "exception": false,
     "start_time": "2021-10-16T00:22:47.362456",
     "status": "completed"
    },
    "tags": []
   },
   "outputs": [],
   "source": [
    "#Impoting functions from 'Kudzu'\n",
    "from kudzu.model import Model\n",
    "from kudzu.train import Learner\n",
    "from kudzu.optim import GD\n",
    "from kudzu.data import Data, Sampler,Dataloader\n",
    "\n",
    "from kudzu.callbacks import AccCallback\n",
    "from kudzu.callbacks import ClfCallback\n",
    "\n",
    "from kudzu.loss import MSE\n",
    "\n",
    "from kudzu.layer import Sigmoid,Relu\n",
    "from kudzu.layer import Affine"
   ]
  },
  {
   "cell_type": "markdown",
   "id": "bc01172a",
   "metadata": {
    "papermill": {
     "duration": 0.029952,
     "end_time": "2021-10-16T00:22:47.482015",
     "exception": false,
     "start_time": "2021-10-16T00:22:47.452063",
     "status": "completed"
    },
    "tags": []
   },
   "source": [
    "### Let us create a `Config` class, to store important parameters. \n",
    "This class essentially plays the role of a dictionary."
   ]
  },
  {
   "cell_type": "code",
   "execution_count": 16,
   "id": "978281aa",
   "metadata": {
    "execution": {
     "iopub.execute_input": "2021-10-16T00:22:47.545781Z",
     "iopub.status.busy": "2021-10-16T00:22:47.545195Z",
     "iopub.status.idle": "2021-10-16T00:22:47.559337Z",
     "shell.execute_reply": "2021-10-16T00:22:47.558875Z"
    },
    "papermill": {
     "duration": 0.048052,
     "end_time": "2021-10-16T00:22:47.559461",
     "exception": false,
     "start_time": "2021-10-16T00:22:47.511409",
     "status": "completed"
    },
    "tags": []
   },
   "outputs": [],
   "source": [
    "class Config:\n",
    "    pass\n",
    "config = Config()\n",
    "config.lr = 0.001\n",
    "config.num_epochs = 250\n",
    "config.bs = 50"
   ]
  },
  {
   "cell_type": "markdown",
   "id": "1385fa59",
   "metadata": {
    "papermill": {
     "duration": 0.027335,
     "end_time": "2021-10-16T00:22:47.615319",
     "exception": false,
     "start_time": "2021-10-16T00:22:47.587984",
     "status": "completed"
    },
    "tags": []
   },
   "source": [
    "### Running Models with the Training data\n",
    "Details about the network layers:\n",
    "- A first affine layer has 784 inputs and does 100 affine transforms. These are followed by a Relu\n",
    "- A second affine layer has 100 inputs from the 100 activations of the past layer, and does 100 affine transforms. These are followed by a Relu\n",
    "- A third affine layer has 100 activations and does 2 affine transformations to create an embedding for visualization. There is no non-linearity here.\n",
    "- A final \"logistic regression\" which has an affine transform from 2 inputs to 1 output, which is squeezed through a sigmoid.\n"
   ]
  },
  {
   "cell_type": "code",
   "execution_count": 17,
   "id": "2b9c66db",
   "metadata": {
    "execution": {
     "iopub.execute_input": "2021-10-16T00:22:47.671380Z",
     "iopub.status.busy": "2021-10-16T00:22:47.670875Z",
     "iopub.status.idle": "2021-10-16T00:22:47.685322Z",
     "shell.execute_reply": "2021-10-16T00:22:47.685720Z"
    },
    "papermill": {
     "duration": 0.04534,
     "end_time": "2021-10-16T00:22:47.685851",
     "exception": false,
     "start_time": "2021-10-16T00:22:47.640511",
     "status": "completed"
    },
    "tags": []
   },
   "outputs": [],
   "source": [
    "data = Data(X_train, y_train.reshape(-1,1))\n",
    "sampler = Sampler(data, config.bs, shuffle=True)\n",
    "\n",
    "dl = Dataloader(data, sampler)\n",
    "\n",
    "opt = GD(config.lr)\n",
    "loss = MSE()"
   ]
  },
  {
   "cell_type": "code",
   "execution_count": 18,
   "id": "b275e4c2",
   "metadata": {
    "execution": {
     "iopub.execute_input": "2021-10-16T00:22:47.746960Z",
     "iopub.status.busy": "2021-10-16T00:22:47.746356Z",
     "iopub.status.idle": "2021-10-16T00:22:47.759595Z",
     "shell.execute_reply": "2021-10-16T00:22:47.760046Z"
    },
    "papermill": {
     "duration": 0.048545,
     "end_time": "2021-10-16T00:22:47.760220",
     "exception": false,
     "start_time": "2021-10-16T00:22:47.711675",
     "status": "completed"
    },
    "tags": []
   },
   "outputs": [],
   "source": [
    "training_data_x = X_train\n",
    "testing_data_x = X_test\n",
    "training_data_y = y_train.reshape(-1,1)\n",
    "testing_data_y = y_test.reshape(-1,1)"
   ]
  },
  {
   "cell_type": "code",
   "execution_count": 19,
   "id": "76951160",
   "metadata": {
    "execution": {
     "iopub.execute_input": "2021-10-16T00:22:47.822586Z",
     "iopub.status.busy": "2021-10-16T00:22:47.822000Z",
     "iopub.status.idle": "2021-10-16T00:22:47.840871Z",
     "shell.execute_reply": "2021-10-16T00:22:47.840375Z"
    },
    "papermill": {
     "duration": 0.052965,
     "end_time": "2021-10-16T00:22:47.840999",
     "exception": false,
     "start_time": "2021-10-16T00:22:47.788034",
     "status": "completed"
    },
    "tags": []
   },
   "outputs": [
    {
     "name": "stdout",
     "output_type": "stream",
     "text": [
      "xavier\n",
      "xavier\n",
      "xavier\n",
      "xavier\n",
      "xavier\n"
     ]
    }
   ],
   "source": [
    "layers = [Affine(\"first\", 784, 100), Relu(\"first\"), Affine(\"second\", 100, 100), Relu(\"second\"), Affine(\"third\", 100, 2), Affine(\"last\", 2, 1), Sigmoid(\"last\")]\n",
    "model_nn = Model(layers)\n",
    "model_lr = Model([Affine(\"logits\", 784, 1), Sigmoid(\"sigmoid\")])"
   ]
  },
  {
   "cell_type": "code",
   "execution_count": 20,
   "id": "6eede77a",
   "metadata": {
    "execution": {
     "iopub.execute_input": "2021-10-16T00:22:47.901607Z",
     "iopub.status.busy": "2021-10-16T00:22:47.901051Z",
     "iopub.status.idle": "2021-10-16T00:22:47.916336Z",
     "shell.execute_reply": "2021-10-16T00:22:47.915906Z"
    },
    "papermill": {
     "duration": 0.045739,
     "end_time": "2021-10-16T00:22:47.916431",
     "exception": false,
     "start_time": "2021-10-16T00:22:47.870692",
     "status": "completed"
    },
    "tags": []
   },
   "outputs": [],
   "source": [
    "nn_learner = Learner(loss, model_nn, opt, config.num_epochs)\n",
    "acc_nn = ClfCallback(nn_learner, config.bs, training_data_x , testing_data_x, training_data_y, testing_data_y)\n",
    "nn_learner.set_callbacks([acc_nn])"
   ]
  },
  {
   "cell_type": "code",
   "execution_count": 21,
   "id": "877b6cc7",
   "metadata": {
    "execution": {
     "iopub.execute_input": "2021-10-16T00:22:47.971408Z",
     "iopub.status.busy": "2021-10-16T00:22:47.970988Z",
     "iopub.status.idle": "2021-10-16T00:22:47.988618Z",
     "shell.execute_reply": "2021-10-16T00:22:47.989036Z"
    },
    "papermill": {
     "duration": 0.047857,
     "end_time": "2021-10-16T00:22:47.989148",
     "exception": false,
     "start_time": "2021-10-16T00:22:47.941291",
     "status": "completed"
    },
    "tags": []
   },
   "outputs": [],
   "source": [
    "lr_learner = Learner(loss, model_lr, opt, config.num_epochs)\n",
    "acc_lr = ClfCallback(lr_learner, config.bs, training_data_x , testing_data_x, training_data_y, testing_data_y)\n",
    "lr_learner.set_callbacks([acc_lr])"
   ]
  },
  {
   "cell_type": "code",
   "execution_count": 22,
   "id": "d9b133c3",
   "metadata": {
    "execution": {
     "iopub.execute_input": "2021-10-16T00:22:48.050644Z",
     "iopub.status.busy": "2021-10-16T00:22:48.049904Z",
     "iopub.status.idle": "2021-10-16T00:24:15.602876Z",
     "shell.execute_reply": "2021-10-16T00:24:15.603456Z"
    },
    "papermill": {
     "duration": 87.585911,
     "end_time": "2021-10-16T00:24:15.603649",
     "exception": false,
     "start_time": "2021-10-16T00:22:48.017738",
     "status": "completed"
    },
    "tags": []
   },
   "outputs": [
    {
     "name": "stdout",
     "output_type": "stream",
     "text": [
      "Epoch 0, Loss 0.237\n",
      "Training Accuracy: 0.7145, Testing Accuracy: 0.6986\n",
      "\n"
     ]
    },
    {
     "name": "stdout",
     "output_type": "stream",
     "text": [
      "Epoch 10, Loss 0.0732\n",
      "Training Accuracy: 0.9256, Testing Accuracy: 0.9380\n",
      "\n"
     ]
    },
    {
     "name": "stdout",
     "output_type": "stream",
     "text": [
      "Epoch 20, Loss 0.0491\n",
      "Training Accuracy: 0.9481, Testing Accuracy: 0.9551\n",
      "\n"
     ]
    },
    {
     "name": "stdout",
     "output_type": "stream",
     "text": [
      "Epoch 30, Loss 0.0399\n",
      "Training Accuracy: 0.9559, Testing Accuracy: 0.9642\n",
      "\n"
     ]
    },
    {
     "name": "stdout",
     "output_type": "stream",
     "text": [
      "Epoch 40, Loss 0.0351\n",
      "Training Accuracy: 0.9600, Testing Accuracy: 0.9657\n",
      "\n"
     ]
    },
    {
     "name": "stdout",
     "output_type": "stream",
     "text": [
      "Epoch 50, Loss 0.0321\n",
      "Training Accuracy: 0.9632, Testing Accuracy: 0.9657\n",
      "\n"
     ]
    },
    {
     "name": "stdout",
     "output_type": "stream",
     "text": [
      "Epoch 60, Loss 0.0299\n",
      "Training Accuracy: 0.9656, Testing Accuracy: 0.9662\n",
      "\n"
     ]
    },
    {
     "name": "stdout",
     "output_type": "stream",
     "text": [
      "Epoch 70, Loss 0.0283\n",
      "Training Accuracy: 0.9675, Testing Accuracy: 0.9672\n",
      "\n"
     ]
    },
    {
     "name": "stdout",
     "output_type": "stream",
     "text": [
      "Epoch 80, Loss 0.0271\n",
      "Training Accuracy: 0.9690, Testing Accuracy: 0.9677\n",
      "\n"
     ]
    },
    {
     "name": "stdout",
     "output_type": "stream",
     "text": [
      "Epoch 90, Loss 0.026\n",
      "Training Accuracy: 0.9697, Testing Accuracy: 0.9677\n",
      "\n"
     ]
    },
    {
     "name": "stdout",
     "output_type": "stream",
     "text": [
      "Epoch 100, Loss 0.0251\n",
      "Training Accuracy: 0.9705, Testing Accuracy: 0.9677\n",
      "\n"
     ]
    },
    {
     "name": "stdout",
     "output_type": "stream",
     "text": [
      "Epoch 110, Loss 0.0244\n",
      "Training Accuracy: 0.9715, Testing Accuracy: 0.9677\n",
      "\n"
     ]
    },
    {
     "name": "stdout",
     "output_type": "stream",
     "text": [
      "Epoch 120, Loss 0.0237\n",
      "Training Accuracy: 0.9727, Testing Accuracy: 0.9677\n",
      "\n"
     ]
    },
    {
     "name": "stdout",
     "output_type": "stream",
     "text": [
      "Epoch 130, Loss 0.0231\n",
      "Training Accuracy: 0.9737, Testing Accuracy: 0.9688\n",
      "\n"
     ]
    },
    {
     "name": "stdout",
     "output_type": "stream",
     "text": [
      "Epoch 140, Loss 0.0226\n",
      "Training Accuracy: 0.9745, Testing Accuracy: 0.9693\n",
      "\n"
     ]
    },
    {
     "name": "stdout",
     "output_type": "stream",
     "text": [
      "Epoch 150, Loss 0.0221\n",
      "Training Accuracy: 0.9750, Testing Accuracy: 0.9693\n",
      "\n"
     ]
    },
    {
     "name": "stdout",
     "output_type": "stream",
     "text": [
      "Epoch 160, Loss 0.0216\n",
      "Training Accuracy: 0.9755, Testing Accuracy: 0.9698\n",
      "\n"
     ]
    },
    {
     "name": "stdout",
     "output_type": "stream",
     "text": [
      "Epoch 170, Loss 0.0212\n",
      "Training Accuracy: 0.9760, Testing Accuracy: 0.9693\n",
      "\n"
     ]
    },
    {
     "name": "stdout",
     "output_type": "stream",
     "text": [
      "Epoch 180, Loss 0.0208\n",
      "Training Accuracy: 0.9763, Testing Accuracy: 0.9703\n",
      "\n"
     ]
    },
    {
     "name": "stdout",
     "output_type": "stream",
     "text": [
      "Epoch 190, Loss 0.0204\n",
      "Training Accuracy: 0.9770, Testing Accuracy: 0.9698\n",
      "\n"
     ]
    },
    {
     "name": "stdout",
     "output_type": "stream",
     "text": [
      "Epoch 200, Loss 0.02\n",
      "Training Accuracy: 0.9772, Testing Accuracy: 0.9698\n",
      "\n"
     ]
    },
    {
     "name": "stdout",
     "output_type": "stream",
     "text": [
      "Epoch 210, Loss 0.0196\n",
      "Training Accuracy: 0.9780, Testing Accuracy: 0.9698\n",
      "\n"
     ]
    },
    {
     "name": "stdout",
     "output_type": "stream",
     "text": [
      "Epoch 220, Loss 0.0193\n",
      "Training Accuracy: 0.9790, Testing Accuracy: 0.9698\n",
      "\n"
     ]
    },
    {
     "name": "stdout",
     "output_type": "stream",
     "text": [
      "Epoch 230, Loss 0.019\n",
      "Training Accuracy: 0.9794, Testing Accuracy: 0.9698\n",
      "\n"
     ]
    },
    {
     "name": "stdout",
     "output_type": "stream",
     "text": [
      "Epoch 240, Loss 0.0187\n",
      "Training Accuracy: 0.9796, Testing Accuracy: 0.9703\n",
      "\n"
     ]
    },
    {
     "data": {
      "text/plain": [
       "0.004301168349424438"
      ]
     },
     "execution_count": 22,
     "metadata": {},
     "output_type": "execute_result"
    }
   ],
   "source": [
    "nn_learner.train_loop(dl)"
   ]
  },
  {
   "cell_type": "code",
   "execution_count": 23,
   "id": "e0163366",
   "metadata": {
    "execution": {
     "iopub.execute_input": "2021-10-16T00:24:15.689267Z",
     "iopub.status.busy": "2021-10-16T00:24:15.688769Z",
     "iopub.status.idle": "2021-10-16T00:24:31.248394Z",
     "shell.execute_reply": "2021-10-16T00:24:31.249130Z"
    },
    "papermill": {
     "duration": 15.606986,
     "end_time": "2021-10-16T00:24:31.249287",
     "exception": false,
     "start_time": "2021-10-16T00:24:15.642301",
     "status": "completed"
    },
    "tags": []
   },
   "outputs": [
    {
     "name": "stdout",
     "output_type": "stream",
     "text": [
      "Epoch 0, Loss 0.2492\n",
      "Training Accuracy: 0.6617, Testing Accuracy: 0.6588\n",
      "\n"
     ]
    },
    {
     "name": "stdout",
     "output_type": "stream",
     "text": [
      "Epoch 10, Loss 0.1043\n",
      "Training Accuracy: 0.9062, Testing Accuracy: 0.9163\n",
      "\n"
     ]
    },
    {
     "name": "stdout",
     "output_type": "stream",
     "text": [
      "Epoch 20, Loss 0.08\n",
      "Training Accuracy: 0.9265, Testing Accuracy: 0.9345\n",
      "\n"
     ]
    },
    {
     "name": "stdout",
     "output_type": "stream",
     "text": [
      "Epoch 30, Loss 0.0689\n",
      "Training Accuracy: 0.9357, Testing Accuracy: 0.9461\n",
      "\n"
     ]
    },
    {
     "name": "stdout",
     "output_type": "stream",
     "text": [
      "Epoch 40, Loss 0.0622\n",
      "Training Accuracy: 0.9401, Testing Accuracy: 0.9516\n",
      "\n"
     ]
    },
    {
     "name": "stdout",
     "output_type": "stream",
     "text": [
      "Epoch 50, Loss 0.0576\n",
      "Training Accuracy: 0.9435, Testing Accuracy: 0.9541\n",
      "\n"
     ]
    },
    {
     "name": "stdout",
     "output_type": "stream",
     "text": [
      "Epoch 60, Loss 0.0543\n",
      "Training Accuracy: 0.9458, Testing Accuracy: 0.9561\n",
      "\n"
     ]
    },
    {
     "name": "stdout",
     "output_type": "stream",
     "text": [
      "Epoch 70, Loss 0.0517\n",
      "Training Accuracy: 0.9480, Testing Accuracy: 0.9577\n",
      "\n"
     ]
    },
    {
     "name": "stdout",
     "output_type": "stream",
     "text": [
      "Epoch 80, Loss 0.0496\n",
      "Training Accuracy: 0.9497, Testing Accuracy: 0.9582\n",
      "\n"
     ]
    },
    {
     "name": "stdout",
     "output_type": "stream",
     "text": [
      "Epoch 90, Loss 0.0479\n",
      "Training Accuracy: 0.9509, Testing Accuracy: 0.9597\n",
      "\n"
     ]
    },
    {
     "name": "stdout",
     "output_type": "stream",
     "text": [
      "Epoch 100, Loss 0.0465\n",
      "Training Accuracy: 0.9517, Testing Accuracy: 0.9622\n",
      "\n"
     ]
    },
    {
     "name": "stdout",
     "output_type": "stream",
     "text": [
      "Epoch 110, Loss 0.0452\n",
      "Training Accuracy: 0.9528, Testing Accuracy: 0.9637\n",
      "\n"
     ]
    },
    {
     "name": "stdout",
     "output_type": "stream",
     "text": [
      "Epoch 120, Loss 0.0441\n",
      "Training Accuracy: 0.9541, Testing Accuracy: 0.9647\n",
      "\n"
     ]
    },
    {
     "name": "stdout",
     "output_type": "stream",
     "text": [
      "Epoch 130, Loss 0.0432\n",
      "Training Accuracy: 0.9547, Testing Accuracy: 0.9657\n",
      "\n"
     ]
    },
    {
     "name": "stdout",
     "output_type": "stream",
     "text": [
      "Epoch 140, Loss 0.0424\n",
      "Training Accuracy: 0.9553, Testing Accuracy: 0.9652\n",
      "\n"
     ]
    },
    {
     "name": "stdout",
     "output_type": "stream",
     "text": [
      "Epoch 150, Loss 0.0416\n",
      "Training Accuracy: 0.9564, Testing Accuracy: 0.9652\n",
      "\n"
     ]
    },
    {
     "name": "stdout",
     "output_type": "stream",
     "text": [
      "Epoch 160, Loss 0.0409\n",
      "Training Accuracy: 0.9570, Testing Accuracy: 0.9647\n",
      "\n"
     ]
    },
    {
     "name": "stdout",
     "output_type": "stream",
     "text": [
      "Epoch 170, Loss 0.0403\n",
      "Training Accuracy: 0.9574, Testing Accuracy: 0.9647\n",
      "\n"
     ]
    },
    {
     "name": "stdout",
     "output_type": "stream",
     "text": [
      "Epoch 180, Loss 0.0397\n",
      "Training Accuracy: 0.9578, Testing Accuracy: 0.9652\n",
      "\n"
     ]
    },
    {
     "name": "stdout",
     "output_type": "stream",
     "text": [
      "Epoch 190, Loss 0.0392\n",
      "Training Accuracy: 0.9585, Testing Accuracy: 0.9652\n",
      "\n"
     ]
    },
    {
     "name": "stdout",
     "output_type": "stream",
     "text": [
      "Epoch 200, Loss 0.0387\n",
      "Training Accuracy: 0.9588, Testing Accuracy: 0.9657\n",
      "\n"
     ]
    },
    {
     "name": "stdout",
     "output_type": "stream",
     "text": [
      "Epoch 210, Loss 0.0383\n",
      "Training Accuracy: 0.9594, Testing Accuracy: 0.9662\n",
      "\n"
     ]
    },
    {
     "name": "stdout",
     "output_type": "stream",
     "text": [
      "Epoch 220, Loss 0.0379\n",
      "Training Accuracy: 0.9599, Testing Accuracy: 0.9662\n",
      "\n"
     ]
    },
    {
     "name": "stdout",
     "output_type": "stream",
     "text": [
      "Epoch 230, Loss 0.0375\n",
      "Training Accuracy: 0.9603, Testing Accuracy: 0.9662\n",
      "\n"
     ]
    },
    {
     "name": "stdout",
     "output_type": "stream",
     "text": [
      "Epoch 240, Loss 0.0371\n",
      "Training Accuracy: 0.9606, Testing Accuracy: 0.9662\n",
      "\n"
     ]
    },
    {
     "data": {
      "text/plain": [
       "0.03404152249819829"
      ]
     },
     "execution_count": 23,
     "metadata": {},
     "output_type": "execute_result"
    }
   ],
   "source": [
    "lr_learner.train_loop(dl)"
   ]
  },
  {
   "cell_type": "code",
   "execution_count": 24,
   "id": "ca410940",
   "metadata": {
    "execution": {
     "iopub.execute_input": "2021-10-16T00:24:31.345670Z",
     "iopub.status.busy": "2021-10-16T00:24:31.345045Z",
     "iopub.status.idle": "2021-10-16T00:24:31.590999Z",
     "shell.execute_reply": "2021-10-16T00:24:31.591439Z"
    },
    "papermill": {
     "duration": 0.300069,
     "end_time": "2021-10-16T00:24:31.591612",
     "exception": false,
     "start_time": "2021-10-16T00:24:31.291543",
     "status": "completed"
    },
    "tags": []
   },
   "outputs": [
    {
     "data": {
      "text/plain": [
       "<matplotlib.legend.Legend at 0x7fd1f3d7deb8>"
      ]
     },
     "execution_count": 24,
     "metadata": {},
     "output_type": "execute_result"
    },
    {
     "data": {
      "image/png": "[encoded data removed]",
      "text/plain": [
       "<Figure size 1080x720 with 1 Axes>"
      ]
     },
     "metadata": {
      "needs_background": "light"
     },
     "output_type": "display_data"
    }
   ],
   "source": [
    "#comparing the results of NN and LR\n",
    "plt.figure(figsize=(15,10))\n",
    "\n",
    "# Neural Network plots\n",
    "plt.plot(acc_nn.accuracies, 'r-', label = \"Training Accuracies - NN\")\n",
    "plt.plot(acc_nn.test_accuracies, 'g-', label = \"Testing Accuracies - NN\")\n",
    "\n",
    "# Logistic Regression plots\n",
    "plt.plot(acc_lr.accuracies, 'k-', label = \"Training Accuracies - LR\")\n",
    "plt.plot(acc_lr.test_accuracies, 'b-', label = \"Testing Accuracies - LR\")\n",
    "plt.legend()"
   ]
  },
  {
   "cell_type": "markdown",
   "id": "80dfb35c",
   "metadata": {
    "papermill": {
     "duration": 0.0437,
     "end_time": "2021-10-16T00:24:31.681054",
     "exception": false,
     "start_time": "2021-10-16T00:24:31.637354",
     "status": "completed"
    },
    "tags": []
   },
   "source": [
    "#### Plotting the outputs of this layer of the NN.\n"
   ]
  },
  {
   "cell_type": "code",
   "execution_count": 25,
   "id": "45eb2ff5",
   "metadata": {
    "execution": {
     "iopub.execute_input": "2021-10-16T00:24:31.775427Z",
     "iopub.status.busy": "2021-10-16T00:24:31.774852Z",
     "iopub.status.idle": "2021-10-16T00:24:31.795984Z",
     "shell.execute_reply": "2021-10-16T00:24:31.796406Z"
    },
    "papermill": {
     "duration": 0.070414,
     "end_time": "2021-10-16T00:24:31.796563",
     "exception": false,
     "start_time": "2021-10-16T00:24:31.726149",
     "status": "completed"
    },
    "tags": []
   },
   "outputs": [],
   "source": [
    "new_model = Model(layers[:-2])\n",
    "testing_plot = new_model(testing_data_x)"
   ]
  },
  {
   "cell_type": "code",
   "execution_count": 26,
   "id": "4c0a5485",
   "metadata": {
    "execution": {
     "iopub.execute_input": "2021-10-16T00:24:31.909538Z",
     "iopub.status.busy": "2021-10-16T00:24:31.908978Z",
     "iopub.status.idle": "2021-10-16T00:24:32.095785Z",
     "shell.execute_reply": "2021-10-16T00:24:32.094942Z"
    },
    "papermill": {
     "duration": 0.246581,
     "end_time": "2021-10-16T00:24:32.095938",
     "exception": false,
     "start_time": "2021-10-16T00:24:31.849357",
     "status": "completed"
    },
    "tags": []
   },
   "outputs": [
    {
     "data": {
      "text/plain": [
       "Text(0.5, 1.0, 'Outputs')"
      ]
     },
     "execution_count": 26,
     "metadata": {},
     "output_type": "execute_result"
    },
    {
     "data": {
      "image/png": "[encoded data removed]",
      "text/plain": [
       "<Figure size 576x504 with 1 Axes>"
      ]
     },
     "metadata": {
      "needs_background": "light"
     },
     "output_type": "display_data"
    }
   ],
   "source": [
    "# Plotting the scatter plot of points and color coding by class\n",
    "plt.figure(figsize=(8,7))\n",
    "plt.scatter(testing_plot[:,0], testing_plot[:,1], alpha = 0.1, c = y_test.ravel());\n",
    "plt.title('Outputs')"
   ]
  },
  {
   "cell_type": "markdown",
   "id": "a74fcf8f",
   "metadata": {
    "papermill": {
     "duration": 0.044413,
     "end_time": "2021-10-16T00:24:32.188784",
     "exception": false,
     "start_time": "2021-10-16T00:24:32.144371",
     "status": "completed"
    },
    "tags": []
   },
   "source": [
    "Probability contours"
   ]
  },
  {
   "cell_type": "code",
   "execution_count": 27,
   "id": "d0afc8e3",
   "metadata": {
    "execution": {
     "iopub.execute_input": "2021-10-16T00:24:32.285338Z",
     "iopub.status.busy": "2021-10-16T00:24:32.284766Z",
     "iopub.status.idle": "2021-10-16T00:24:32.298938Z",
     "shell.execute_reply": "2021-10-16T00:24:32.299362Z"
    },
    "papermill": {
     "duration": 0.064635,
     "end_time": "2021-10-16T00:24:32.299487",
     "exception": false,
     "start_time": "2021-10-16T00:24:32.234852",
     "status": "completed"
    },
    "tags": []
   },
   "outputs": [],
   "source": [
    "model_prob = Model(layers[-2:]) "
   ]
  },
  {
   "cell_type": "code",
   "execution_count": 28,
   "id": "9b96e238",
   "metadata": {
    "execution": {
     "iopub.execute_input": "2021-10-16T00:24:32.427152Z",
     "iopub.status.busy": "2021-10-16T00:24:32.426612Z",
     "iopub.status.idle": "2021-10-16T00:24:32.441261Z",
     "shell.execute_reply": "2021-10-16T00:24:32.441703Z"
    },
    "papermill": {
     "duration": 0.06614,
     "end_time": "2021-10-16T00:24:32.441838",
     "exception": false,
     "start_time": "2021-10-16T00:24:32.375698",
     "status": "completed"
    },
    "tags": []
   },
   "outputs": [],
   "source": [
    "#creating the x and y ranges according to the above generated plot.\n",
    "x_range = np.linspace(-4, 1, 100) \n",
    "y_range = np.linspace(-6, 6, 100) \n",
    "x_grid, y_grid = np.meshgrid(x_range, y_range) # x_grid and y_grig are of size 100 X 100\n",
    "\n",
    "# converting x_grid and y_grid to continuous arrays\n",
    "x_gridflat = np.ravel(x_grid)\n",
    "y_gridflat = np.ravel(y_grid)\n",
    "\n",
    "# The last layer of the current model takes two columns as input. Hence transpose of np.vstack() is required.\n",
    "X = np.vstack((x_gridflat, y_gridflat)).T\n",
    "\n",
    "prob_contour = model_prob(X).reshape(100,100) "
   ]
  },
  {
   "cell_type": "code",
   "execution_count": 29,
   "id": "da72499a",
   "metadata": {
    "execution": {
     "iopub.execute_input": "2021-10-16T00:24:32.536478Z",
     "iopub.status.busy": "2021-10-16T00:24:32.535945Z",
     "iopub.status.idle": "2021-10-16T00:24:32.794358Z",
     "shell.execute_reply": "2021-10-16T00:24:32.793841Z"
    },
    "papermill": {
     "duration": 0.307126,
     "end_time": "2021-10-16T00:24:32.794482",
     "exception": false,
     "start_time": "2021-10-16T00:24:32.487356",
     "status": "completed"
    },
    "tags": []
   },
   "outputs": [
    {
     "data": {
      "image/png": "[encoded data removed]",
      "text/plain": [
       "<Figure size 720x648 with 1 Axes>"
      ]
     },
     "metadata": {
      "needs_background": "light"
     },
     "output_type": "display_data"
    }
   ],
   "source": [
    "plt.figure(figsize=(10,9))\n",
    "plt.scatter(testing_plot[:,0], testing_plot[:,1], alpha = 0.1, c = y_test.ravel())\n",
    "contours = plt.contour(x_grid,y_grid,prob_contour)\n",
    "plt.title('Probability Contours')\n",
    "plt.clabel(contours, inline = True );"
   ]
  },
  {
   "cell_type": "code",
   "execution_count": null,
   "id": "e81b4ac7",
   "metadata": {
    "papermill": {
     "duration": 0.050548,
     "end_time": "2021-10-16T00:24:32.894535",
     "exception": false,
     "start_time": "2021-10-16T00:24:32.843987",
     "status": "completed"
    },
    "tags": []
   },
   "outputs": [],
   "source": []
  }
 ],
 "metadata": {
  "kernelspec": {
   "display_name": "Python 3",
   "language": "python",
   "name": "python3"
  },
  "language_info": {
   "codemirror_mode": {
    "name": "ipython",
    "version": 3
   },
   "file_extension": ".py",
   "mimetype": "text/x-python",
   "name": "python",
   "nbconvert_exporter": "python",
   "pygments_lexer": "ipython3",
   "version": "3.6.15"
  },
  "papermill": {
   "default_parameters": {},
   "duration": 112.483248,
   "end_time": "2021-10-16T00:24:33.353208",
   "environment_variables": {},
   "exception": null,
   "input_path": "2020-08-11-part2.ipynb",
   "output_path": "2020-08-11-part2.ipynb",
   "parameters": {},
   "start_time": "2021-10-16T00:22:40.869960",
   "version": "2.3.3"
  }
 },
 "nbformat": 4,
 "nbformat_minor": 5
}