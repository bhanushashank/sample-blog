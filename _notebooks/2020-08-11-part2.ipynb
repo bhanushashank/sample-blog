{
 "cells": [
  {
   "cell_type": "markdown",
   "id": "98380cd3",
   "metadata": {
    "papermill": {
     "duration": 0.038431,
     "end_time": "2022-10-11T20:15:03.984396",
     "exception": false,
     "start_time": "2022-10-11T20:15:03.945965",
     "status": "completed"
    },
    "tags": []
   },
   "source": [
    "# Distinguish Your Own Digits (DYOD)"
   ]
  },
  {
   "cell_type": "markdown",
   "id": "ef31240d",
   "metadata": {
    "papermill": {
     "duration": 0.033547,
     "end_time": "2022-10-11T20:15:04.051177",
     "exception": false,
     "start_time": "2022-10-11T20:15:04.017630",
     "status": "completed"
    },
    "tags": []
   },
   "source": [
    "You are going to write a classifier that distinguishes between the number 3 and number 8."
   ]
  },
  {
   "cell_type": "code",
   "execution_count": 1,
   "id": "b15c8646",
   "metadata": {
    "execution": {
     "iopub.execute_input": "2022-10-11T20:15:04.140241Z",
     "iopub.status.busy": "2022-10-11T20:15:04.139437Z",
     "iopub.status.idle": "2022-10-11T20:15:04.153920Z",
     "shell.execute_reply": "2022-10-11T20:15:04.153274Z"
    },
    "papermill": {
     "duration": 0.066252,
     "end_time": "2022-10-11T20:15:04.154175",
     "exception": false,
     "start_time": "2022-10-11T20:15:04.087923",
     "status": "completed"
    },
    "tags": []
   },
   "outputs": [],
   "source": [
    "%load_ext autoreload\n",
    "%autoreload 2"
   ]
  },
  {
   "cell_type": "code",
   "execution_count": 2,
   "id": "22ef38dc",
   "metadata": {
    "execution": {
     "iopub.execute_input": "2022-10-11T20:15:04.227240Z",
     "iopub.status.busy": "2022-10-11T20:15:04.226420Z",
     "iopub.status.idle": "2022-10-11T20:15:04.961563Z",
     "shell.execute_reply": "2022-10-11T20:15:04.960917Z"
    },
    "papermill": {
     "duration": 0.775537,
     "end_time": "2022-10-11T20:15:04.961716",
     "exception": false,
     "start_time": "2022-10-11T20:15:04.186179",
     "status": "completed"
    },
    "tags": []
   },
   "outputs": [],
   "source": [
    "%matplotlib inline\n",
    "import numpy as np\n",
    "import matplotlib.pyplot as plt\n",
    "import pandas as pd"
   ]
  },
  {
   "cell_type": "markdown",
   "id": "ba036198",
   "metadata": {
    "papermill": {
     "duration": 0.031309,
     "end_time": "2022-10-11T20:15:05.024562",
     "exception": false,
     "start_time": "2022-10-11T20:15:04.993253",
     "status": "completed"
    },
    "tags": []
   },
   "source": [
    "From the command line run `pip install mnist`. This is a library that will help you bring down the mnist dataset. If you run this from a notebook, you need to put  `!pip install mnist` in a cell by itself."
   ]
  },
  {
   "cell_type": "code",
   "execution_count": 3,
   "id": "bb6ad8a1",
   "metadata": {
    "execution": {
     "iopub.execute_input": "2022-10-11T20:15:05.098975Z",
     "iopub.status.busy": "2022-10-11T20:15:05.098216Z",
     "iopub.status.idle": "2022-10-11T20:15:07.311200Z",
     "shell.execute_reply": "2022-10-11T20:15:07.311790Z"
    },
    "papermill": {
     "duration": 2.254685,
     "end_time": "2022-10-11T20:15:07.311973",
     "exception": false,
     "start_time": "2022-10-11T20:15:05.057288",
     "status": "completed"
    },
    "tags": []
   },
   "outputs": [
    {
     "name": "stdout",
     "output_type": "stream",
     "text": [
      "Collecting mnist\r\n"
     ]
    },
    {
     "name": "stdout",
     "output_type": "stream",
     "text": [
      "  Downloading mnist-0.2.2-py2.py3-none-any.whl (3.5 kB)\r\n"
     ]
    },
    {
     "name": "stdout",
     "output_type": "stream",
     "text": [
      "Requirement already satisfied: numpy in /opt/hostedtoolcache/Python/3.6.15/x64/lib/python3.6/site-packages (from mnist) (1.19.5)\r\n"
     ]
    },
    {
     "name": "stdout",
     "output_type": "stream",
     "text": [
      "Installing collected packages: mnist\r\n"
     ]
    },
    {
     "name": "stdout",
     "output_type": "stream",
     "text": [
      "Successfully installed mnist-0.2.2\r\n"
     ]
    }
   ],
   "source": [
    "!pip install mnist"
   ]
  },
  {
   "cell_type": "markdown",
   "id": "69df9c9a",
   "metadata": {
    "papermill": {
     "duration": 0.034764,
     "end_time": "2022-10-11T20:15:07.381424",
     "exception": false,
     "start_time": "2022-10-11T20:15:07.346660",
     "status": "completed"
    },
    "tags": []
   },
   "source": [
    "## Preparing the Data"
   ]
  },
  {
   "cell_type": "code",
   "execution_count": 4,
   "id": "7f69d806",
   "metadata": {
    "execution": {
     "iopub.execute_input": "2022-10-11T20:15:07.460629Z",
     "iopub.status.busy": "2022-10-11T20:15:07.456289Z",
     "iopub.status.idle": "2022-10-11T20:15:07.475752Z",
     "shell.execute_reply": "2022-10-11T20:15:07.475061Z"
    },
    "papermill": {
     "duration": 0.061034,
     "end_time": "2022-10-11T20:15:07.475901",
     "exception": false,
     "start_time": "2022-10-11T20:15:07.414867",
     "status": "completed"
    },
    "tags": []
   },
   "outputs": [],
   "source": [
    "import mnist"
   ]
  },
  {
   "cell_type": "code",
   "execution_count": 5,
   "id": "a411e44f",
   "metadata": {
    "execution": {
     "iopub.execute_input": "2022-10-11T20:15:07.549096Z",
     "iopub.status.busy": "2022-10-11T20:15:07.548336Z",
     "iopub.status.idle": "2022-10-11T20:15:08.143430Z",
     "shell.execute_reply": "2022-10-11T20:15:08.144091Z"
    },
    "papermill": {
     "duration": 0.634719,
     "end_time": "2022-10-11T20:15:08.144284",
     "exception": false,
     "start_time": "2022-10-11T20:15:07.509565",
     "status": "completed"
    },
    "tags": []
   },
   "outputs": [],
   "source": [
    "train_images = mnist.train_images()\n",
    "train_labels = mnist.train_labels()"
   ]
  },
  {
   "cell_type": "code",
   "execution_count": 6,
   "id": "dceab3a5",
   "metadata": {
    "execution": {
     "iopub.execute_input": "2022-10-11T20:15:08.218613Z",
     "iopub.status.busy": "2022-10-11T20:15:08.217861Z",
     "iopub.status.idle": "2022-10-11T20:15:08.237188Z",
     "shell.execute_reply": "2022-10-11T20:15:08.236037Z"
    },
    "papermill": {
     "duration": 0.060138,
     "end_time": "2022-10-11T20:15:08.237439",
     "exception": false,
     "start_time": "2022-10-11T20:15:08.177301",
     "status": "completed"
    },
    "tags": []
   },
   "outputs": [
    {
     "data": {
      "text/plain": [
       "((60000, 28, 28), (60000,))"
      ]
     },
     "execution_count": 6,
     "metadata": {},
     "output_type": "execute_result"
    }
   ],
   "source": [
    "train_images.shape, train_labels.shape"
   ]
  },
  {
   "cell_type": "code",
   "execution_count": 7,
   "id": "f50dc2bb",
   "metadata": {
    "execution": {
     "iopub.execute_input": "2022-10-11T20:15:08.317601Z",
     "iopub.status.busy": "2022-10-11T20:15:08.316833Z",
     "iopub.status.idle": "2022-10-11T20:15:08.446246Z",
     "shell.execute_reply": "2022-10-11T20:15:08.445606Z"
    },
    "papermill": {
     "duration": 0.173878,
     "end_time": "2022-10-11T20:15:08.446396",
     "exception": false,
     "start_time": "2022-10-11T20:15:08.272518",
     "status": "completed"
    },
    "tags": []
   },
   "outputs": [],
   "source": [
    "test_images = mnist.test_images()\n",
    "test_labels = mnist.test_labels()"
   ]
  },
  {
   "cell_type": "code",
   "execution_count": 8,
   "id": "fc38cf1b",
   "metadata": {
    "execution": {
     "iopub.execute_input": "2022-10-11T20:15:08.520896Z",
     "iopub.status.busy": "2022-10-11T20:15:08.520069Z",
     "iopub.status.idle": "2022-10-11T20:15:08.537283Z",
     "shell.execute_reply": "2022-10-11T20:15:08.537920Z"
    },
    "papermill": {
     "duration": 0.057439,
     "end_time": "2022-10-11T20:15:08.538088",
     "exception": false,
     "start_time": "2022-10-11T20:15:08.480649",
     "status": "completed"
    },
    "tags": []
   },
   "outputs": [
    {
     "data": {
      "text/plain": [
       "((10000, 28, 28), (10000,))"
      ]
     },
     "execution_count": 8,
     "metadata": {},
     "output_type": "execute_result"
    }
   ],
   "source": [
    "test_images.shape, test_labels.shape"
   ]
  },
  {
   "cell_type": "code",
   "execution_count": 9,
   "id": "f9ed8fe0",
   "metadata": {
    "execution": {
     "iopub.execute_input": "2022-10-11T20:15:08.612131Z",
     "iopub.status.busy": "2022-10-11T20:15:08.611380Z",
     "iopub.status.idle": "2022-10-11T20:15:08.819855Z",
     "shell.execute_reply": "2022-10-11T20:15:08.819216Z"
    },
    "papermill": {
     "duration": 0.247694,
     "end_time": "2022-10-11T20:15:08.820028",
     "exception": false,
     "start_time": "2022-10-11T20:15:08.572334",
     "status": "completed"
    },
    "tags": []
   },
   "outputs": [
    {
     "name": "stdout",
     "output_type": "stream",
     "text": [
      "2\n"
     ]
    },
    {
     "data": {
      "text/plain": [
       "<matplotlib.image.AxesImage at 0x7f127d786d30>"
      ]
     },
     "execution_count": 9,
     "metadata": {},
     "output_type": "execute_result"
    },
    {
     "data": {
      "image/png": "[encoded data removed]",
      "text/plain": [
       "<Figure size 432x288 with 1 Axes>"
      ]
     },
     "metadata": {
      "needs_background": "light"
     },
     "output_type": "display_data"
    }
   ],
   "source": [
    "image_index = 7776 # You may select anything up to 60,000\n",
    "print(train_labels[image_index]) \n",
    "plt.imshow(train_images[image_index], cmap='Greys')"
   ]
  },
  {
   "cell_type": "markdown",
   "id": "a8d2388d",
   "metadata": {
    "papermill": {
     "duration": 0.037908,
     "end_time": "2022-10-11T20:15:08.895853",
     "exception": false,
     "start_time": "2022-10-11T20:15:08.857945",
     "status": "completed"
    },
    "tags": []
   },
   "source": [
    "## Filter data to get 3 and 8 out"
   ]
  },
  {
   "cell_type": "code",
   "execution_count": 10,
   "id": "776f7fc7",
   "metadata": {
    "execution": {
     "iopub.execute_input": "2022-10-11T20:15:08.974743Z",
     "iopub.status.busy": "2022-10-11T20:15:08.973948Z",
     "iopub.status.idle": "2022-10-11T20:15:08.997981Z",
     "shell.execute_reply": "2022-10-11T20:15:08.998601Z"
    },
    "papermill": {
     "duration": 0.066254,
     "end_time": "2022-10-11T20:15:08.998840",
     "exception": false,
     "start_time": "2022-10-11T20:15:08.932586",
     "status": "completed"
    },
    "tags": []
   },
   "outputs": [],
   "source": [
    "train_filter = np.where((train_labels == 3 ) | (train_labels == 8))\n",
    "test_filter = np.where((test_labels == 3) | (test_labels == 8))\n",
    "X_train, y_train = train_images[train_filter], train_labels[train_filter]\n",
    "X_test, y_test = test_images[test_filter], test_labels[test_filter]"
   ]
  },
  {
   "cell_type": "markdown",
   "id": "948f0b7e",
   "metadata": {
    "papermill": {
     "duration": 0.036245,
     "end_time": "2022-10-11T20:15:09.072765",
     "exception": false,
     "start_time": "2022-10-11T20:15:09.036520",
     "status": "completed"
    },
    "tags": []
   },
   "source": [
    "We normalize the pizel values in the 0 to 1 range"
   ]
  },
  {
   "cell_type": "code",
   "execution_count": 11,
   "id": "ee4c2166",
   "metadata": {
    "execution": {
     "iopub.execute_input": "2022-10-11T20:15:09.150313Z",
     "iopub.status.busy": "2022-10-11T20:15:09.149502Z",
     "iopub.status.idle": "2022-10-11T20:15:09.217752Z",
     "shell.execute_reply": "2022-10-11T20:15:09.217083Z"
    },
    "papermill": {
     "duration": 0.108904,
     "end_time": "2022-10-11T20:15:09.217903",
     "exception": false,
     "start_time": "2022-10-11T20:15:09.108999",
     "status": "completed"
    },
    "tags": []
   },
   "outputs": [],
   "source": [
    "X_train = X_train/255.\n",
    "X_test = X_test/255."
   ]
  },
  {
   "cell_type": "markdown",
   "id": "ddcf4fab",
   "metadata": {
    "papermill": {
     "duration": 0.036241,
     "end_time": "2022-10-11T20:15:09.291564",
     "exception": false,
     "start_time": "2022-10-11T20:15:09.255323",
     "status": "completed"
    },
    "tags": []
   },
   "source": [
    "And setup the labels as 1 (when the digit is 3) and 0 (when the digit is 8)"
   ]
  },
  {
   "cell_type": "code",
   "execution_count": 12,
   "id": "7dc908f2",
   "metadata": {
    "execution": {
     "iopub.execute_input": "2022-10-11T20:15:09.370620Z",
     "iopub.status.busy": "2022-10-11T20:15:09.369877Z",
     "iopub.status.idle": "2022-10-11T20:15:09.384500Z",
     "shell.execute_reply": "2022-10-11T20:15:09.383690Z"
    },
    "papermill": {
     "duration": 0.05744,
     "end_time": "2022-10-11T20:15:09.384643",
     "exception": false,
     "start_time": "2022-10-11T20:15:09.327203",
     "status": "completed"
    },
    "tags": []
   },
   "outputs": [],
   "source": [
    "y_train = 1*(y_train==3)\n",
    "y_test = 1*(y_test==3)"
   ]
  },
  {
   "cell_type": "code",
   "execution_count": 13,
   "id": "01e4e969",
   "metadata": {
    "execution": {
     "iopub.execute_input": "2022-10-11T20:15:09.463669Z",
     "iopub.status.busy": "2022-10-11T20:15:09.462861Z",
     "iopub.status.idle": "2022-10-11T20:15:09.478932Z",
     "shell.execute_reply": "2022-10-11T20:15:09.479560Z"
    },
    "papermill": {
     "duration": 0.058972,
     "end_time": "2022-10-11T20:15:09.479731",
     "exception": false,
     "start_time": "2022-10-11T20:15:09.420759",
     "status": "completed"
    },
    "tags": []
   },
   "outputs": [
    {
     "data": {
      "text/plain": [
       "((11982, 28, 28), (1984, 28, 28))"
      ]
     },
     "execution_count": 13,
     "metadata": {},
     "output_type": "execute_result"
    }
   ],
   "source": [
    "X_train.shape, X_test.shape"
   ]
  },
  {
   "cell_type": "markdown",
   "id": "5ccf3f85",
   "metadata": {
    "papermill": {
     "duration": 0.036613,
     "end_time": "2022-10-11T20:15:09.552174",
     "exception": false,
     "start_time": "2022-10-11T20:15:09.515561",
     "status": "completed"
    },
    "tags": []
   },
   "source": [
    "We reshape the data to flatten the image pixels into a set of features or co-variates:"
   ]
  },
  {
   "cell_type": "code",
   "execution_count": 14,
   "id": "5286a4a3",
   "metadata": {
    "execution": {
     "iopub.execute_input": "2022-10-11T20:15:09.633029Z",
     "iopub.status.busy": "2022-10-11T20:15:09.632242Z",
     "iopub.status.idle": "2022-10-11T20:15:09.649446Z",
     "shell.execute_reply": "2022-10-11T20:15:09.648809Z"
    },
    "papermill": {
     "duration": 0.060303,
     "end_time": "2022-10-11T20:15:09.649597",
     "exception": false,
     "start_time": "2022-10-11T20:15:09.589294",
     "status": "completed"
    },
    "tags": []
   },
   "outputs": [
    {
     "data": {
      "text/plain": [
       "((11982, 784), (1984, 784))"
      ]
     },
     "execution_count": 14,
     "metadata": {},
     "output_type": "execute_result"
    }
   ],
   "source": [
    "X_train = X_train.reshape(X_train.shape[0], -1)\n",
    "X_test = X_test.reshape(X_test.shape[0], -1)\n",
    "X_train.shape, X_test.shape"
   ]
  },
  {
   "cell_type": "code",
   "execution_count": 15,
   "id": "73c5f88a",
   "metadata": {
    "execution": {
     "iopub.execute_input": "2022-10-11T20:15:09.728817Z",
     "iopub.status.busy": "2022-10-11T20:15:09.728042Z",
     "iopub.status.idle": "2022-10-11T20:15:09.759739Z",
     "shell.execute_reply": "2022-10-11T20:15:09.760322Z"
    },
    "papermill": {
     "duration": 0.074795,
     "end_time": "2022-10-11T20:15:09.760503",
     "exception": false,
     "start_time": "2022-10-11T20:15:09.685708",
     "status": "completed"
    },
    "tags": []
   },
   "outputs": [],
   "source": [
    "#Impoting functions from 'Kudzu'\n",
    "from kudzu.model import Model\n",
    "from kudzu.train import Learner\n",
    "from kudzu.optim import GD\n",
    "from kudzu.data import Data, Sampler,Dataloader\n",
    "\n",
    "from kudzu.callbacks import AccCallback\n",
    "from kudzu.callbacks import ClfCallback\n",
    "\n",
    "from kudzu.loss import MSE\n",
    "\n",
    "from kudzu.layer import Sigmoid,Relu\n",
    "from kudzu.layer import Affine"
   ]
  },
  {
   "cell_type": "markdown",
   "id": "bc01172a",
   "metadata": {
    "papermill": {
     "duration": 0.041837,
     "end_time": "2022-10-11T20:15:09.839657",
     "exception": false,
     "start_time": "2022-10-11T20:15:09.797820",
     "status": "completed"
    },
    "tags": []
   },
   "source": [
    "### Let us create a `Config` class, to store important parameters. \n",
    "This class essentially plays the role of a dictionary."
   ]
  },
  {
   "cell_type": "code",
   "execution_count": 16,
   "id": "978281aa",
   "metadata": {
    "execution": {
     "iopub.execute_input": "2022-10-11T20:15:09.923376Z",
     "iopub.status.busy": "2022-10-11T20:15:09.922421Z",
     "iopub.status.idle": "2022-10-11T20:15:09.939140Z",
     "shell.execute_reply": "2022-10-11T20:15:09.938368Z"
    },
    "papermill": {
     "duration": 0.063374,
     "end_time": "2022-10-11T20:15:09.939296",
     "exception": false,
     "start_time": "2022-10-11T20:15:09.875922",
     "status": "completed"
    },
    "tags": []
   },
   "outputs": [],
   "source": [
    "class Config:\n",
    "    pass\n",
    "config = Config()\n",
    "config.lr = 0.001\n",
    "config.num_epochs = 250\n",
    "config.bs = 50"
   ]
  },
  {
   "cell_type": "markdown",
   "id": "1385fa59",
   "metadata": {
    "papermill": {
     "duration": 0.036563,
     "end_time": "2022-10-11T20:15:10.011931",
     "exception": false,
     "start_time": "2022-10-11T20:15:09.975368",
     "status": "completed"
    },
    "tags": []
   },
   "source": [
    "### Running Models with the Training data\n",
    "Details about the network layers:\n",
    "- A first affine layer has 784 inputs and does 100 affine transforms. These are followed by a Relu\n",
    "- A second affine layer has 100 inputs from the 100 activations of the past layer, and does 100 affine transforms. These are followed by a Relu\n",
    "- A third affine layer has 100 activations and does 2 affine transformations to create an embedding for visualization. There is no non-linearity here.\n",
    "- A final \"logistic regression\" which has an affine transform from 2 inputs to 1 output, which is squeezed through a sigmoid.\n"
   ]
  },
  {
   "cell_type": "code",
   "execution_count": 17,
   "id": "2b9c66db",
   "metadata": {
    "execution": {
     "iopub.execute_input": "2022-10-11T20:15:10.098067Z",
     "iopub.status.busy": "2022-10-11T20:15:10.097123Z",
     "iopub.status.idle": "2022-10-11T20:15:10.112741Z",
     "shell.execute_reply": "2022-10-11T20:15:10.112101Z"
    },
    "papermill": {
     "duration": 0.064227,
     "end_time": "2022-10-11T20:15:10.112893",
     "exception": false,
     "start_time": "2022-10-11T20:15:10.048666",
     "status": "completed"
    },
    "tags": []
   },
   "outputs": [],
   "source": [
    "data = Data(X_train, y_train.reshape(-1,1))\n",
    "sampler = Sampler(data, config.bs, shuffle=True)\n",
    "\n",
    "dl = Dataloader(data, sampler)\n",
    "\n",
    "opt = GD(config.lr)\n",
    "loss = MSE()"
   ]
  },
  {
   "cell_type": "code",
   "execution_count": 18,
   "id": "b275e4c2",
   "metadata": {
    "execution": {
     "iopub.execute_input": "2022-10-11T20:15:10.194492Z",
     "iopub.status.busy": "2022-10-11T20:15:10.193247Z",
     "iopub.status.idle": "2022-10-11T20:15:10.209417Z",
     "shell.execute_reply": "2022-10-11T20:15:10.208790Z"
    },
    "papermill": {
     "duration": 0.057849,
     "end_time": "2022-10-11T20:15:10.209571",
     "exception": false,
     "start_time": "2022-10-11T20:15:10.151722",
     "status": "completed"
    },
    "tags": []
   },
   "outputs": [],
   "source": [
    "training_data_x = X_train\n",
    "testing_data_x = X_test\n",
    "training_data_y = y_train.reshape(-1,1)\n",
    "testing_data_y = y_test.reshape(-1,1)"
   ]
  },
  {
   "cell_type": "code",
   "execution_count": 19,
   "id": "76951160",
   "metadata": {
    "execution": {
     "iopub.execute_input": "2022-10-11T20:15:10.292820Z",
     "iopub.status.busy": "2022-10-11T20:15:10.292020Z",
     "iopub.status.idle": "2022-10-11T20:15:10.311164Z",
     "shell.execute_reply": "2022-10-11T20:15:10.311904Z"
    },
    "papermill": {
     "duration": 0.064556,
     "end_time": "2022-10-11T20:15:10.312093",
     "exception": false,
     "start_time": "2022-10-11T20:15:10.247537",
     "status": "completed"
    },
    "tags": []
   },
   "outputs": [
    {
     "name": "stdout",
     "output_type": "stream",
     "text": [
      "xavier\n",
      "xavier\n",
      "xavier\n",
      "xavier\n",
      "xavier\n"
     ]
    }
   ],
   "source": [
    "layers = [Affine(\"first\", 784, 100), Relu(\"first\"), Affine(\"second\", 100, 100), Relu(\"second\"), Affine(\"third\", 100, 2), Affine(\"last\", 2, 1), Sigmoid(\"last\")]\n",
    "model_nn = Model(layers)\n",
    "model_lr = Model([Affine(\"logits\", 784, 1), Sigmoid(\"sigmoid\")])"
   ]
  },
  {
   "cell_type": "code",
   "execution_count": 20,
   "id": "6eede77a",
   "metadata": {
    "execution": {
     "iopub.execute_input": "2022-10-11T20:15:10.399703Z",
     "iopub.status.busy": "2022-10-11T20:15:10.398888Z",
     "iopub.status.idle": "2022-10-11T20:15:10.416374Z",
     "shell.execute_reply": "2022-10-11T20:15:10.415700Z"
    },
    "papermill": {
     "duration": 0.063639,
     "end_time": "2022-10-11T20:15:10.416531",
     "exception": false,
     "start_time": "2022-10-11T20:15:10.352892",
     "status": "completed"
    },
    "tags": []
   },
   "outputs": [],
   "source": [
    "nn_learner = Learner(loss, model_nn, opt, config.num_epochs)\n",
    "acc_nn = ClfCallback(nn_learner, config.bs, training_data_x , testing_data_x, training_data_y, testing_data_y)\n",
    "nn_learner.set_callbacks([acc_nn])"
   ]
  },
  {
   "cell_type": "code",
   "execution_count": 21,
   "id": "877b6cc7",
   "metadata": {
    "execution": {
     "iopub.execute_input": "2022-10-11T20:15:10.498344Z",
     "iopub.status.busy": "2022-10-11T20:15:10.497552Z",
     "iopub.status.idle": "2022-10-11T20:15:10.513249Z",
     "shell.execute_reply": "2022-10-11T20:15:10.512637Z"
    },
    "papermill": {
     "duration": 0.058139,
     "end_time": "2022-10-11T20:15:10.513392",
     "exception": false,
     "start_time": "2022-10-11T20:15:10.455253",
     "status": "completed"
    },
    "tags": []
   },
   "outputs": [],
   "source": [
    "lr_learner = Learner(loss, model_lr, opt, config.num_epochs)\n",
    "acc_lr = ClfCallback(lr_learner, config.bs, training_data_x , testing_data_x, training_data_y, testing_data_y)\n",
    "lr_learner.set_callbacks([acc_lr])"
   ]
  },
  {
   "cell_type": "code",
   "execution_count": 22,
   "id": "d9b133c3",
   "metadata": {
    "execution": {
     "iopub.execute_input": "2022-10-11T20:15:10.596162Z",
     "iopub.status.busy": "2022-10-11T20:15:10.595173Z",
     "iopub.status.idle": "2022-10-11T20:17:36.172622Z",
     "shell.execute_reply": "2022-10-11T20:17:36.173714Z"
    },
    "papermill": {
     "duration": 145.621273,
     "end_time": "2022-10-11T20:17:36.173904",
     "exception": false,
     "start_time": "2022-10-11T20:15:10.552631",
     "status": "completed"
    },
    "tags": []
   },
   "outputs": [
    {
     "name": "stdout",
     "output_type": "stream",
     "text": [
      "Epoch 0, Loss 0.2501\n",
      "Training Accuracy: 0.5441, Testing Accuracy: 0.5484\n",
      "\n"
     ]
    },
    {
     "name": "stdout",
     "output_type": "stream",
     "text": [
      "Epoch 10, Loss 0.1402\n",
      "Training Accuracy: 0.9029, Testing Accuracy: 0.9108\n",
      "\n"
     ]
    },
    {
     "name": "stdout",
     "output_type": "stream",
     "text": [
      "Epoch 20, Loss 0.0721\n",
      "Training Accuracy: 0.9308, Testing Accuracy: 0.9415\n",
      "\n"
     ]
    },
    {
     "name": "stdout",
     "output_type": "stream",
     "text": [
      "Epoch 30, Loss 0.0514\n",
      "Training Accuracy: 0.9460, Testing Accuracy: 0.9551\n",
      "\n"
     ]
    },
    {
     "name": "stdout",
     "output_type": "stream",
     "text": [
      "Epoch 40, Loss 0.0426\n",
      "Training Accuracy: 0.9529, Testing Accuracy: 0.9612\n",
      "\n"
     ]
    },
    {
     "name": "stdout",
     "output_type": "stream",
     "text": [
      "Epoch 50, Loss 0.0378\n",
      "Training Accuracy: 0.9576, Testing Accuracy: 0.9637\n",
      "\n"
     ]
    },
    {
     "name": "stdout",
     "output_type": "stream",
     "text": [
      "Epoch 60, Loss 0.0346\n",
      "Training Accuracy: 0.9609, Testing Accuracy: 0.9647\n",
      "\n"
     ]
    },
    {
     "name": "stdout",
     "output_type": "stream",
     "text": [
      "Epoch 70, Loss 0.0323\n",
      "Training Accuracy: 0.9629, Testing Accuracy: 0.9662\n",
      "\n"
     ]
    },
    {
     "name": "stdout",
     "output_type": "stream",
     "text": [
      "Epoch 80, Loss 0.0305\n",
      "Training Accuracy: 0.9643, Testing Accuracy: 0.9667\n",
      "\n"
     ]
    },
    {
     "name": "stdout",
     "output_type": "stream",
     "text": [
      "Epoch 90, Loss 0.0291\n",
      "Training Accuracy: 0.9664, Testing Accuracy: 0.9677\n",
      "\n"
     ]
    },
    {
     "name": "stdout",
     "output_type": "stream",
     "text": [
      "Epoch 100, Loss 0.0278\n",
      "Training Accuracy: 0.9680, Testing Accuracy: 0.9677\n",
      "\n"
     ]
    },
    {
     "name": "stdout",
     "output_type": "stream",
     "text": [
      "Epoch 110, Loss 0.0268\n",
      "Training Accuracy: 0.9690, Testing Accuracy: 0.9682\n",
      "\n"
     ]
    },
    {
     "name": "stdout",
     "output_type": "stream",
     "text": [
      "Epoch 120, Loss 0.0259\n",
      "Training Accuracy: 0.9700, Testing Accuracy: 0.9703\n",
      "\n"
     ]
    },
    {
     "name": "stdout",
     "output_type": "stream",
     "text": [
      "Epoch 130, Loss 0.025\n",
      "Training Accuracy: 0.9708, Testing Accuracy: 0.9708\n",
      "\n"
     ]
    },
    {
     "name": "stdout",
     "output_type": "stream",
     "text": [
      "Epoch 140, Loss 0.0243\n",
      "Training Accuracy: 0.9720, Testing Accuracy: 0.9708\n",
      "\n"
     ]
    },
    {
     "name": "stdout",
     "output_type": "stream",
     "text": [
      "Epoch 150, Loss 0.0236\n",
      "Training Accuracy: 0.9729, Testing Accuracy: 0.9703\n",
      "\n"
     ]
    },
    {
     "name": "stdout",
     "output_type": "stream",
     "text": [
      "Epoch 160, Loss 0.023\n",
      "Training Accuracy: 0.9735, Testing Accuracy: 0.9718\n",
      "\n"
     ]
    },
    {
     "name": "stdout",
     "output_type": "stream",
     "text": [
      "Epoch 170, Loss 0.0224\n",
      "Training Accuracy: 0.9737, Testing Accuracy: 0.9718\n",
      "\n"
     ]
    },
    {
     "name": "stdout",
     "output_type": "stream",
     "text": [
      "Epoch 180, Loss 0.0218\n",
      "Training Accuracy: 0.9747, Testing Accuracy: 0.9718\n",
      "\n"
     ]
    },
    {
     "name": "stdout",
     "output_type": "stream",
     "text": [
      "Epoch 190, Loss 0.0213\n",
      "Training Accuracy: 0.9755, Testing Accuracy: 0.9723\n",
      "\n"
     ]
    },
    {
     "name": "stdout",
     "output_type": "stream",
     "text": [
      "Epoch 200, Loss 0.0209\n",
      "Training Accuracy: 0.9762, Testing Accuracy: 0.9728\n",
      "\n"
     ]
    },
    {
     "name": "stdout",
     "output_type": "stream",
     "text": [
      "Epoch 210, Loss 0.0204\n",
      "Training Accuracy: 0.9766, Testing Accuracy: 0.9728\n",
      "\n"
     ]
    },
    {
     "name": "stdout",
     "output_type": "stream",
     "text": [
      "Epoch 220, Loss 0.02\n",
      "Training Accuracy: 0.9772, Testing Accuracy: 0.9733\n",
      "\n"
     ]
    },
    {
     "name": "stdout",
     "output_type": "stream",
     "text": [
      "Epoch 230, Loss 0.0195\n",
      "Training Accuracy: 0.9775, Testing Accuracy: 0.9738\n",
      "\n"
     ]
    },
    {
     "name": "stdout",
     "output_type": "stream",
     "text": [
      "Epoch 240, Loss 0.0191\n",
      "Training Accuracy: 0.9779, Testing Accuracy: 0.9738\n",
      "\n"
     ]
    },
    {
     "data": {
      "text/plain": [
       "0.022446429130650276"
      ]
     },
     "execution_count": 22,
     "metadata": {},
     "output_type": "execute_result"
    }
   ],
   "source": [
    "nn_learner.train_loop(dl)"
   ]
  },
  {
   "cell_type": "code",
   "execution_count": 23,
   "id": "e0163366",
   "metadata": {
    "execution": {
     "iopub.execute_input": "2022-10-11T20:17:36.277912Z",
     "iopub.status.busy": "2022-10-11T20:17:36.277106Z",
     "iopub.status.idle": "2022-10-11T20:17:57.025063Z",
     "shell.execute_reply": "2022-10-11T20:17:57.026077Z"
    },
    "papermill": {
     "duration": 20.804643,
     "end_time": "2022-10-11T20:17:57.026254",
     "exception": false,
     "start_time": "2022-10-11T20:17:36.221611",
     "status": "completed"
    },
    "tags": []
   },
   "outputs": [
    {
     "name": "stdout",
     "output_type": "stream",
     "text": [
      "Epoch 0, Loss 0.2588\n",
      "Training Accuracy: 0.6226, Testing Accuracy: 0.5852\n",
      "\n"
     ]
    },
    {
     "name": "stdout",
     "output_type": "stream",
     "text": [
      "Epoch 10, Loss 0.106\n",
      "Training Accuracy: 0.9035, Testing Accuracy: 0.9128\n",
      "\n"
     ]
    },
    {
     "name": "stdout",
     "output_type": "stream",
     "text": [
      "Epoch 20, Loss 0.0809\n",
      "Training Accuracy: 0.9239, Testing Accuracy: 0.9350\n",
      "\n"
     ]
    },
    {
     "name": "stdout",
     "output_type": "stream",
     "text": [
      "Epoch 30, Loss 0.0694\n",
      "Training Accuracy: 0.9327, Testing Accuracy: 0.9461\n",
      "\n"
     ]
    },
    {
     "name": "stdout",
     "output_type": "stream",
     "text": [
      "Epoch 40, Loss 0.0626\n",
      "Training Accuracy: 0.9388, Testing Accuracy: 0.9521\n",
      "\n"
     ]
    },
    {
     "name": "stdout",
     "output_type": "stream",
     "text": [
      "Epoch 50, Loss 0.0579\n",
      "Training Accuracy: 0.9436, Testing Accuracy: 0.9551\n",
      "\n"
     ]
    },
    {
     "name": "stdout",
     "output_type": "stream",
     "text": [
      "Epoch 60, Loss 0.0545\n",
      "Training Accuracy: 0.9457, Testing Accuracy: 0.9577\n",
      "\n"
     ]
    },
    {
     "name": "stdout",
     "output_type": "stream",
     "text": [
      "Epoch 70, Loss 0.0519\n",
      "Training Accuracy: 0.9475, Testing Accuracy: 0.9597\n",
      "\n"
     ]
    },
    {
     "name": "stdout",
     "output_type": "stream",
     "text": [
      "Epoch 80, Loss 0.0498\n",
      "Training Accuracy: 0.9497, Testing Accuracy: 0.9617\n",
      "\n"
     ]
    },
    {
     "name": "stdout",
     "output_type": "stream",
     "text": [
      "Epoch 90, Loss 0.0481\n",
      "Training Accuracy: 0.9509, Testing Accuracy: 0.9637\n",
      "\n"
     ]
    },
    {
     "name": "stdout",
     "output_type": "stream",
     "text": [
      "Epoch 100, Loss 0.0467\n",
      "Training Accuracy: 0.9520, Testing Accuracy: 0.9632\n",
      "\n"
     ]
    },
    {
     "name": "stdout",
     "output_type": "stream",
     "text": [
      "Epoch 110, Loss 0.0454\n",
      "Training Accuracy: 0.9533, Testing Accuracy: 0.9642\n",
      "\n"
     ]
    },
    {
     "name": "stdout",
     "output_type": "stream",
     "text": [
      "Epoch 120, Loss 0.0443\n",
      "Training Accuracy: 0.9544, Testing Accuracy: 0.9657\n",
      "\n"
     ]
    },
    {
     "name": "stdout",
     "output_type": "stream",
     "text": [
      "Epoch 130, Loss 0.0434\n",
      "Training Accuracy: 0.9551, Testing Accuracy: 0.9662\n",
      "\n"
     ]
    },
    {
     "name": "stdout",
     "output_type": "stream",
     "text": [
      "Epoch 140, Loss 0.0425\n",
      "Training Accuracy: 0.9559, Testing Accuracy: 0.9667\n",
      "\n"
     ]
    },
    {
     "name": "stdout",
     "output_type": "stream",
     "text": [
      "Epoch 150, Loss 0.0418\n",
      "Training Accuracy: 0.9565, Testing Accuracy: 0.9662\n",
      "\n"
     ]
    },
    {
     "name": "stdout",
     "output_type": "stream",
     "text": [
      "Epoch 160, Loss 0.0411\n",
      "Training Accuracy: 0.9569, Testing Accuracy: 0.9667\n",
      "\n"
     ]
    },
    {
     "name": "stdout",
     "output_type": "stream",
     "text": [
      "Epoch 170, Loss 0.0405\n",
      "Training Accuracy: 0.9572, Testing Accuracy: 0.9667\n",
      "\n"
     ]
    },
    {
     "name": "stdout",
     "output_type": "stream",
     "text": [
      "Epoch 180, Loss 0.0399\n",
      "Training Accuracy: 0.9578, Testing Accuracy: 0.9667\n",
      "\n"
     ]
    },
    {
     "name": "stdout",
     "output_type": "stream",
     "text": [
      "Epoch 190, Loss 0.0394\n",
      "Training Accuracy: 0.9580, Testing Accuracy: 0.9682\n",
      "\n"
     ]
    },
    {
     "name": "stdout",
     "output_type": "stream",
     "text": [
      "Epoch 200, Loss 0.0389\n",
      "Training Accuracy: 0.9588, Testing Accuracy: 0.9672\n",
      "\n"
     ]
    },
    {
     "name": "stdout",
     "output_type": "stream",
     "text": [
      "Epoch 210, Loss 0.0384\n",
      "Training Accuracy: 0.9590, Testing Accuracy: 0.9672\n",
      "\n"
     ]
    },
    {
     "name": "stdout",
     "output_type": "stream",
     "text": [
      "Epoch 220, Loss 0.038\n",
      "Training Accuracy: 0.9592, Testing Accuracy: 0.9667\n",
      "\n"
     ]
    },
    {
     "name": "stdout",
     "output_type": "stream",
     "text": [
      "Epoch 230, Loss 0.0376\n",
      "Training Accuracy: 0.9595, Testing Accuracy: 0.9672\n",
      "\n"
     ]
    },
    {
     "name": "stdout",
     "output_type": "stream",
     "text": [
      "Epoch 240, Loss 0.0372\n",
      "Training Accuracy: 0.9599, Testing Accuracy: 0.9672\n",
      "\n"
     ]
    },
    {
     "data": {
      "text/plain": [
       "0.01151932734443938"
      ]
     },
     "execution_count": 23,
     "metadata": {},
     "output_type": "execute_result"
    }
   ],
   "source": [
    "lr_learner.train_loop(dl)"
   ]
  },
  {
   "cell_type": "code",
   "execution_count": 24,
   "id": "ca410940",
   "metadata": {
    "execution": {
     "iopub.execute_input": "2022-10-11T20:17:57.148751Z",
     "iopub.status.busy": "2022-10-11T20:17:57.147981Z",
     "iopub.status.idle": "2022-10-11T20:17:57.471310Z",
     "shell.execute_reply": "2022-10-11T20:17:57.471930Z"
    },
    "papermill": {
     "duration": 0.388536,
     "end_time": "2022-10-11T20:17:57.472100",
     "exception": false,
     "start_time": "2022-10-11T20:17:57.083564",
     "status": "completed"
    },
    "tags": []
   },
   "outputs": [
    {
     "data": {
      "text/plain": [
       "<matplotlib.legend.Legend at 0x7f127d2f54e0>"
      ]
     },
     "execution_count": 24,
     "metadata": {},
     "output_type": "execute_result"
    },
    {
     "data": {
      "image/png": "[encoded data removed]",
      "text/plain": [
       "<Figure size 1080x720 with 1 Axes>"
      ]
     },
     "metadata": {
      "needs_background": "light"
     },
     "output_type": "display_data"
    }
   ],
   "source": [
    "#comparing the results of NN and LR\n",
    "plt.figure(figsize=(15,10))\n",
    "\n",
    "# Neural Network plots\n",
    "plt.plot(acc_nn.accuracies, 'r-', label = \"Training Accuracies - NN\")\n",
    "plt.plot(acc_nn.test_accuracies, 'g-', label = \"Testing Accuracies - NN\")\n",
    "\n",
    "# Logistic Regression plots\n",
    "plt.plot(acc_lr.accuracies, 'k-', label = \"Training Accuracies - LR\")\n",
    "plt.plot(acc_lr.test_accuracies, 'b-', label = \"Testing Accuracies - LR\")\n",
    "plt.legend()"
   ]
  },
  {
   "cell_type": "markdown",
   "id": "80dfb35c",
   "metadata": {
    "papermill": {
     "duration": 0.056471,
     "end_time": "2022-10-11T20:17:57.585710",
     "exception": false,
     "start_time": "2022-10-11T20:17:57.529239",
     "status": "completed"
    },
    "tags": []
   },
   "source": [
    "#### Plotting the outputs of this layer of the NN.\n"
   ]
  },
  {
   "cell_type": "code",
   "execution_count": 25,
   "id": "45eb2ff5",
   "metadata": {
    "execution": {
     "iopub.execute_input": "2022-10-11T20:17:57.707608Z",
     "iopub.status.busy": "2022-10-11T20:17:57.706433Z",
     "iopub.status.idle": "2022-10-11T20:17:57.740812Z",
     "shell.execute_reply": "2022-10-11T20:17:57.740113Z"
    },
    "papermill": {
     "duration": 0.098159,
     "end_time": "2022-10-11T20:17:57.740963",
     "exception": false,
     "start_time": "2022-10-11T20:17:57.642804",
     "status": "completed"
    },
    "tags": []
   },
   "outputs": [],
   "source": [
    "new_model = Model(layers[:-2])\n",
    "testing_plot = new_model(testing_data_x)"
   ]
  },
  {
   "cell_type": "code",
   "execution_count": 26,
   "id": "4c0a5485",
   "metadata": {
    "execution": {
     "iopub.execute_input": "2022-10-11T20:17:57.864438Z",
     "iopub.status.busy": "2022-10-11T20:17:57.863653Z",
     "iopub.status.idle": "2022-10-11T20:17:58.138394Z",
     "shell.execute_reply": "2022-10-11T20:17:58.138932Z"
    },
    "papermill": {
     "duration": 0.340499,
     "end_time": "2022-10-11T20:17:58.139174",
     "exception": false,
     "start_time": "2022-10-11T20:17:57.798675",
     "status": "completed"
    },
    "tags": []
   },
   "outputs": [
    {
     "data": {
      "text/plain": [
       "Text(0.5, 1.0, 'Outputs')"
      ]
     },
     "execution_count": 26,
     "metadata": {},
     "output_type": "execute_result"
    },
    {
     "data": {
      "image/png": "[encoded data removed]",
      "text/plain": [
       "<Figure size 576x504 with 1 Axes>"
      ]
     },
     "metadata": {
      "needs_background": "light"
     },
     "output_type": "display_data"
    }
   ],
   "source": [
    "# Plotting the scatter plot of points and color coding by class\n",
    "plt.figure(figsize=(8,7))\n",
    "plt.scatter(testing_plot[:,0], testing_plot[:,1], alpha = 0.1, c = y_test.ravel());\n",
    "plt.title('Outputs')"
   ]
  },
  {
   "cell_type": "markdown",
   "id": "a74fcf8f",
   "metadata": {
    "papermill": {
     "duration": 0.084126,
     "end_time": "2022-10-11T20:17:58.282878",
     "exception": false,
     "start_time": "2022-10-11T20:17:58.198752",
     "status": "completed"
    },
    "tags": []
   },
   "source": [
    "Probability contours"
   ]
  },
  {
   "cell_type": "code",
   "execution_count": 27,
   "id": "d0afc8e3",
   "metadata": {
    "execution": {
     "iopub.execute_input": "2022-10-11T20:17:58.400725Z",
     "iopub.status.busy": "2022-10-11T20:17:58.399975Z",
     "iopub.status.idle": "2022-10-11T20:17:58.414153Z",
     "shell.execute_reply": "2022-10-11T20:17:58.413531Z"
    },
    "papermill": {
     "duration": 0.073932,
     "end_time": "2022-10-11T20:17:58.414319",
     "exception": false,
     "start_time": "2022-10-11T20:17:58.340387",
     "status": "completed"
    },
    "tags": []
   },
   "outputs": [],
   "source": [
    "model_prob = Model(layers[-2:]) "
   ]
  },
  {
   "cell_type": "code",
   "execution_count": 28,
   "id": "9b96e238",
   "metadata": {
    "execution": {
     "iopub.execute_input": "2022-10-11T20:17:58.534477Z",
     "iopub.status.busy": "2022-10-11T20:17:58.533552Z",
     "iopub.status.idle": "2022-10-11T20:17:58.549908Z",
     "shell.execute_reply": "2022-10-11T20:17:58.550564Z"
    },
    "papermill": {
     "duration": 0.079742,
     "end_time": "2022-10-11T20:17:58.550725",
     "exception": false,
     "start_time": "2022-10-11T20:17:58.470983",
     "status": "completed"
    },
    "tags": []
   },
   "outputs": [],
   "source": [
    "#creating the x and y ranges according to the above generated plot.\n",
    "x_range = np.linspace(-4, 1, 100) \n",
    "y_range = np.linspace(-6, 6, 100) \n",
    "x_grid, y_grid = np.meshgrid(x_range, y_range) # x_grid and y_grig are of size 100 X 100\n",
    "\n",
    "# converting x_grid and y_grid to continuous arrays\n",
    "x_gridflat = np.ravel(x_grid)\n",
    "y_gridflat = np.ravel(y_grid)\n",
    "\n",
    "# The last layer of the current model takes two columns as input. Hence transpose of np.vstack() is required.\n",
    "X = np.vstack((x_gridflat, y_gridflat)).T\n",
    "\n",
    "prob_contour = model_prob(X).reshape(100,100) "
   ]
  },
  {
   "cell_type": "code",
   "execution_count": 29,
   "id": "da72499a",
   "metadata": {
    "execution": {
     "iopub.execute_input": "2022-10-11T20:17:58.670611Z",
     "iopub.status.busy": "2022-10-11T20:17:58.669866Z",
     "iopub.status.idle": "2022-10-11T20:17:59.021924Z",
     "shell.execute_reply": "2022-10-11T20:17:59.021035Z"
    },
    "papermill": {
     "duration": 0.413808,
     "end_time": "2022-10-11T20:17:59.022074",
     "exception": false,
     "start_time": "2022-10-11T20:17:58.608266",
     "status": "completed"
    },
    "tags": []
   },
   "outputs": [
    {
     "data": {
      "image/png": "[encoded data removed]",
      "text/plain": [
       "<Figure size 720x648 with 1 Axes>"
      ]
     },
     "metadata": {
      "needs_background": "light"
     },
     "output_type": "display_data"
    }
   ],
   "source": [
    "plt.figure(figsize=(10,9))\n",
    "plt.scatter(testing_plot[:,0], testing_plot[:,1], alpha = 0.1, c = y_test.ravel())\n",
    "contours = plt.contour(x_grid,y_grid,prob_contour)\n",
    "plt.title('Probability Contours')\n",
    "plt.clabel(contours, inline = True );"
   ]
  },
  {
   "cell_type": "code",
   "execution_count": null,
   "id": "e81b4ac7",
   "metadata": {
    "papermill": {
     "duration": 0.063445,
     "end_time": "2022-10-11T20:17:59.150326",
     "exception": false,
     "start_time": "2022-10-11T20:17:59.086881",
     "status": "completed"
    },
    "tags": []
   },
   "outputs": [],
   "source": []
  }
 ],
 "metadata": {
  "kernelspec": {
   "display_name": "Python 3",
   "language": "python",
   "name": "python3"
  },
  "language_info": {
   "codemirror_mode": {
    "name": "ipython",
    "version": 3
   },
   "file_extension": ".py",
   "mimetype": "text/x-python",
   "name": "python",
   "nbconvert_exporter": "python",
   "pygments_lexer": "ipython3",
   "version": "3.6.15"
  },
  "papermill": {
   "default_parameters": {},
   "duration": 177.044425,
   "end_time": "2022-10-11T20:17:59.736395",
   "environment_variables": {},
   "exception": null,
   "input_path": "2020-08-11-part2.ipynb",
   "output_path": "2020-08-11-part2.ipynb",
   "parameters": {},
   "start_time": "2022-10-11T20:15:02.691970",
   "version": "2.3.3"
  }
 },
 "nbformat": 4,
 "nbformat_minor": 5
}