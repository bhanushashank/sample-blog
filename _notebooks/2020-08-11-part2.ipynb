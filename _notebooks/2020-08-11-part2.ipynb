{
 "cells": [
  {
   "cell_type": "markdown",
   "id": "98380cd3",
   "metadata": {
    "papermill": {
     "duration": 0.029493,
     "end_time": "2022-07-28T00:39:56.666673",
     "exception": false,
     "start_time": "2022-07-28T00:39:56.637180",
     "status": "completed"
    },
    "tags": []
   },
   "source": [
    "# Distinguish Your Own Digits (DYOD)"
   ]
  },
  {
   "cell_type": "markdown",
   "id": "ef31240d",
   "metadata": {
    "papermill": {
     "duration": 0.02357,
     "end_time": "2022-07-28T00:39:56.714527",
     "exception": false,
     "start_time": "2022-07-28T00:39:56.690957",
     "status": "completed"
    },
    "tags": []
   },
   "source": [
    "You are going to write a classifier that distinguishes between the number 3 and number 8."
   ]
  },
  {
   "cell_type": "code",
   "execution_count": 1,
   "id": "b15c8646",
   "metadata": {
    "execution": {
     "iopub.execute_input": "2022-07-28T00:39:56.772730Z",
     "iopub.status.busy": "2022-07-28T00:39:56.772130Z",
     "iopub.status.idle": "2022-07-28T00:39:56.783679Z",
     "shell.execute_reply": "2022-07-28T00:39:56.783107Z"
    },
    "papermill": {
     "duration": 0.045787,
     "end_time": "2022-07-28T00:39:56.783792",
     "exception": false,
     "start_time": "2022-07-28T00:39:56.738005",
     "status": "completed"
    },
    "tags": []
   },
   "outputs": [],
   "source": [
    "%load_ext autoreload\n",
    "%autoreload 2"
   ]
  },
  {
   "cell_type": "code",
   "execution_count": 2,
   "id": "22ef38dc",
   "metadata": {
    "execution": {
     "iopub.execute_input": "2022-07-28T00:39:56.834715Z",
     "iopub.status.busy": "2022-07-28T00:39:56.834135Z",
     "iopub.status.idle": "2022-07-28T00:39:57.361312Z",
     "shell.execute_reply": "2022-07-28T00:39:57.360814Z"
    },
    "papermill": {
     "duration": 0.554105,
     "end_time": "2022-07-28T00:39:57.361439",
     "exception": false,
     "start_time": "2022-07-28T00:39:56.807334",
     "status": "completed"
    },
    "tags": []
   },
   "outputs": [],
   "source": [
    "%matplotlib inline\n",
    "import numpy as np\n",
    "import matplotlib.pyplot as plt\n",
    "import pandas as pd"
   ]
  },
  {
   "cell_type": "markdown",
   "id": "ba036198",
   "metadata": {
    "papermill": {
     "duration": 0.023807,
     "end_time": "2022-07-28T00:39:57.415338",
     "exception": false,
     "start_time": "2022-07-28T00:39:57.391531",
     "status": "completed"
    },
    "tags": []
   },
   "source": [
    "From the command line run `pip install mnist`. This is a library that will help you bring down the mnist dataset. If you run this from a notebook, you need to put  `!pip install mnist` in a cell by itself."
   ]
  },
  {
   "cell_type": "code",
   "execution_count": 3,
   "id": "bb6ad8a1",
   "metadata": {
    "execution": {
     "iopub.execute_input": "2022-07-28T00:39:57.466348Z",
     "iopub.status.busy": "2022-07-28T00:39:57.465727Z",
     "iopub.status.idle": "2022-07-28T00:39:59.060252Z",
     "shell.execute_reply": "2022-07-28T00:39:59.059658Z"
    },
    "papermill": {
     "duration": 1.621431,
     "end_time": "2022-07-28T00:39:59.060385",
     "exception": false,
     "start_time": "2022-07-28T00:39:57.438954",
     "status": "completed"
    },
    "tags": []
   },
   "outputs": [
    {
     "name": "stdout",
     "output_type": "stream",
     "text": [
      "Collecting mnist\r\n"
     ]
    },
    {
     "name": "stdout",
     "output_type": "stream",
     "text": [
      "  Downloading mnist-0.2.2-py2.py3-none-any.whl (3.5 kB)\r\n",
      "Requirement already satisfied: numpy in /opt/hostedtoolcache/Python/3.6.15/x64/lib/python3.6/site-packages (from mnist) (1.19.5)\r\n"
     ]
    },
    {
     "name": "stdout",
     "output_type": "stream",
     "text": [
      "Installing collected packages: mnist\r\n",
      "Successfully installed mnist-0.2.2\r\n"
     ]
    }
   ],
   "source": [
    "!pip install mnist"
   ]
  },
  {
   "cell_type": "markdown",
   "id": "69df9c9a",
   "metadata": {
    "papermill": {
     "duration": 0.024384,
     "end_time": "2022-07-28T00:39:59.109888",
     "exception": false,
     "start_time": "2022-07-28T00:39:59.085504",
     "status": "completed"
    },
    "tags": []
   },
   "source": [
    "## Preparing the Data"
   ]
  },
  {
   "cell_type": "code",
   "execution_count": 4,
   "id": "7f69d806",
   "metadata": {
    "execution": {
     "iopub.execute_input": "2022-07-28T00:39:59.163921Z",
     "iopub.status.busy": "2022-07-28T00:39:59.163345Z",
     "iopub.status.idle": "2022-07-28T00:39:59.179183Z",
     "shell.execute_reply": "2022-07-28T00:39:59.178714Z"
    },
    "papermill": {
     "duration": 0.045078,
     "end_time": "2022-07-28T00:39:59.179288",
     "exception": false,
     "start_time": "2022-07-28T00:39:59.134210",
     "status": "completed"
    },
    "tags": []
   },
   "outputs": [],
   "source": [
    "import mnist"
   ]
  },
  {
   "cell_type": "code",
   "execution_count": 5,
   "id": "a411e44f",
   "metadata": {
    "execution": {
     "iopub.execute_input": "2022-07-28T00:39:59.231489Z",
     "iopub.status.busy": "2022-07-28T00:39:59.230929Z",
     "iopub.status.idle": "2022-07-28T00:39:59.811636Z",
     "shell.execute_reply": "2022-07-28T00:39:59.811031Z"
    },
    "papermill": {
     "duration": 0.608102,
     "end_time": "2022-07-28T00:39:59.811770",
     "exception": false,
     "start_time": "2022-07-28T00:39:59.203668",
     "status": "completed"
    },
    "tags": []
   },
   "outputs": [],
   "source": [
    "train_images = mnist.train_images()\n",
    "train_labels = mnist.train_labels()"
   ]
  },
  {
   "cell_type": "code",
   "execution_count": 6,
   "id": "dceab3a5",
   "metadata": {
    "execution": {
     "iopub.execute_input": "2022-07-28T00:39:59.865302Z",
     "iopub.status.busy": "2022-07-28T00:39:59.864742Z",
     "iopub.status.idle": "2022-07-28T00:39:59.879351Z",
     "shell.execute_reply": "2022-07-28T00:39:59.879812Z"
    },
    "papermill": {
     "duration": 0.042904,
     "end_time": "2022-07-28T00:39:59.879924",
     "exception": false,
     "start_time": "2022-07-28T00:39:59.837020",
     "status": "completed"
    },
    "tags": []
   },
   "outputs": [
    {
     "data": {
      "text/plain": [
       "((60000, 28, 28), (60000,))"
      ]
     },
     "execution_count": 6,
     "metadata": {},
     "output_type": "execute_result"
    }
   ],
   "source": [
    "train_images.shape, train_labels.shape"
   ]
  },
  {
   "cell_type": "code",
   "execution_count": 7,
   "id": "f50dc2bb",
   "metadata": {
    "execution": {
     "iopub.execute_input": "2022-07-28T00:39:59.932997Z",
     "iopub.status.busy": "2022-07-28T00:39:59.932345Z",
     "iopub.status.idle": "2022-07-28T00:40:00.101034Z",
     "shell.execute_reply": "2022-07-28T00:40:00.100431Z"
    },
    "papermill": {
     "duration": 0.196694,
     "end_time": "2022-07-28T00:40:00.101170",
     "exception": false,
     "start_time": "2022-07-28T00:39:59.904476",
     "status": "completed"
    },
    "tags": []
   },
   "outputs": [],
   "source": [
    "test_images = mnist.test_images()\n",
    "test_labels = mnist.test_labels()"
   ]
  },
  {
   "cell_type": "code",
   "execution_count": 8,
   "id": "fc38cf1b",
   "metadata": {
    "execution": {
     "iopub.execute_input": "2022-07-28T00:40:00.155005Z",
     "iopub.status.busy": "2022-07-28T00:40:00.154418Z",
     "iopub.status.idle": "2022-07-28T00:40:00.169159Z",
     "shell.execute_reply": "2022-07-28T00:40:00.168696Z"
    },
    "papermill": {
     "duration": 0.042829,
     "end_time": "2022-07-28T00:40:00.169269",
     "exception": false,
     "start_time": "2022-07-28T00:40:00.126440",
     "status": "completed"
    },
    "tags": []
   },
   "outputs": [
    {
     "data": {
      "text/plain": [
       "((10000, 28, 28), (10000,))"
      ]
     },
     "execution_count": 8,
     "metadata": {},
     "output_type": "execute_result"
    }
   ],
   "source": [
    "test_images.shape, test_labels.shape"
   ]
  },
  {
   "cell_type": "code",
   "execution_count": 9,
   "id": "f9ed8fe0",
   "metadata": {
    "execution": {
     "iopub.execute_input": "2022-07-28T00:40:00.222897Z",
     "iopub.status.busy": "2022-07-28T00:40:00.222320Z",
     "iopub.status.idle": "2022-07-28T00:40:00.359386Z",
     "shell.execute_reply": "2022-07-28T00:40:00.359886Z"
    },
    "papermill": {
     "duration": 0.165846,
     "end_time": "2022-07-28T00:40:00.360034",
     "exception": false,
     "start_time": "2022-07-28T00:40:00.194188",
     "status": "completed"
    },
    "tags": []
   },
   "outputs": [
    {
     "name": "stdout",
     "output_type": "stream",
     "text": [
      "2\n"
     ]
    },
    {
     "data": {
      "text/plain": [
       "<matplotlib.image.AxesImage at 0x7f4d6ec8fa20>"
      ]
     },
     "execution_count": 9,
     "metadata": {},
     "output_type": "execute_result"
    },
    {
     "data": {
      "image/png": "[encoded data removed]",
      "text/plain": [
       "<Figure size 432x288 with 1 Axes>"
      ]
     },
     "metadata": {
      "needs_background": "light"
     },
     "output_type": "display_data"
    }
   ],
   "source": [
    "image_index = 7776 # You may select anything up to 60,000\n",
    "print(train_labels[image_index]) \n",
    "plt.imshow(train_images[image_index], cmap='Greys')"
   ]
  },
  {
   "cell_type": "markdown",
   "id": "a8d2388d",
   "metadata": {
    "papermill": {
     "duration": 0.025933,
     "end_time": "2022-07-28T00:40:00.412764",
     "exception": false,
     "start_time": "2022-07-28T00:40:00.386831",
     "status": "completed"
    },
    "tags": []
   },
   "source": [
    "## Filter data to get 3 and 8 out"
   ]
  },
  {
   "cell_type": "code",
   "execution_count": 10,
   "id": "776f7fc7",
   "metadata": {
    "execution": {
     "iopub.execute_input": "2022-07-28T00:40:00.468827Z",
     "iopub.status.busy": "2022-07-28T00:40:00.468241Z",
     "iopub.status.idle": "2022-07-28T00:40:00.488463Z",
     "shell.execute_reply": "2022-07-28T00:40:00.487900Z"
    },
    "papermill": {
     "duration": 0.049887,
     "end_time": "2022-07-28T00:40:00.488570",
     "exception": false,
     "start_time": "2022-07-28T00:40:00.438683",
     "status": "completed"
    },
    "tags": []
   },
   "outputs": [],
   "source": [
    "train_filter = np.where((train_labels == 3 ) | (train_labels == 8))\n",
    "test_filter = np.where((test_labels == 3) | (test_labels == 8))\n",
    "X_train, y_train = train_images[train_filter], train_labels[train_filter]\n",
    "X_test, y_test = test_images[test_filter], test_labels[test_filter]"
   ]
  },
  {
   "cell_type": "markdown",
   "id": "948f0b7e",
   "metadata": {
    "papermill": {
     "duration": 0.025907,
     "end_time": "2022-07-28T00:40:00.540566",
     "exception": false,
     "start_time": "2022-07-28T00:40:00.514659",
     "status": "completed"
    },
    "tags": []
   },
   "source": [
    "We normalize the pizel values in the 0 to 1 range"
   ]
  },
  {
   "cell_type": "code",
   "execution_count": 11,
   "id": "ee4c2166",
   "metadata": {
    "execution": {
     "iopub.execute_input": "2022-07-28T00:40:00.595730Z",
     "iopub.status.busy": "2022-07-28T00:40:00.595169Z",
     "iopub.status.idle": "2022-07-28T00:40:00.643369Z",
     "shell.execute_reply": "2022-07-28T00:40:00.642804Z"
    },
    "papermill": {
     "duration": 0.077065,
     "end_time": "2022-07-28T00:40:00.643503",
     "exception": false,
     "start_time": "2022-07-28T00:40:00.566438",
     "status": "completed"
    },
    "tags": []
   },
   "outputs": [],
   "source": [
    "X_train = X_train/255.\n",
    "X_test = X_test/255."
   ]
  },
  {
   "cell_type": "markdown",
   "id": "ddcf4fab",
   "metadata": {
    "papermill": {
     "duration": 0.025956,
     "end_time": "2022-07-28T00:40:00.696662",
     "exception": false,
     "start_time": "2022-07-28T00:40:00.670706",
     "status": "completed"
    },
    "tags": []
   },
   "source": [
    "And setup the labels as 1 (when the digit is 3) and 0 (when the digit is 8)"
   ]
  },
  {
   "cell_type": "code",
   "execution_count": 12,
   "id": "7dc908f2",
   "metadata": {
    "execution": {
     "iopub.execute_input": "2022-07-28T00:40:00.763529Z",
     "iopub.status.busy": "2022-07-28T00:40:00.762955Z",
     "iopub.status.idle": "2022-07-28T00:40:00.768608Z",
     "shell.execute_reply": "2022-07-28T00:40:00.769046Z"
    },
    "papermill": {
     "duration": 0.046554,
     "end_time": "2022-07-28T00:40:00.769170",
     "exception": false,
     "start_time": "2022-07-28T00:40:00.722616",
     "status": "completed"
    },
    "tags": []
   },
   "outputs": [],
   "source": [
    "y_train = 1*(y_train==3)\n",
    "y_test = 1*(y_test==3)"
   ]
  },
  {
   "cell_type": "code",
   "execution_count": 13,
   "id": "01e4e969",
   "metadata": {
    "execution": {
     "iopub.execute_input": "2022-07-28T00:40:00.834904Z",
     "iopub.status.busy": "2022-07-28T00:40:00.824146Z",
     "iopub.status.idle": "2022-07-28T00:40:00.840307Z",
     "shell.execute_reply": "2022-07-28T00:40:00.839557Z"
    },
    "papermill": {
     "duration": 0.045124,
     "end_time": "2022-07-28T00:40:00.840417",
     "exception": false,
     "start_time": "2022-07-28T00:40:00.795293",
     "status": "completed"
    },
    "tags": []
   },
   "outputs": [
    {
     "data": {
      "text/plain": [
       "((11982, 28, 28), (1984, 28, 28))"
      ]
     },
     "execution_count": 13,
     "metadata": {},
     "output_type": "execute_result"
    }
   ],
   "source": [
    "X_train.shape, X_test.shape"
   ]
  },
  {
   "cell_type": "markdown",
   "id": "5ccf3f85",
   "metadata": {
    "papermill": {
     "duration": 0.026071,
     "end_time": "2022-07-28T00:40:00.892714",
     "exception": false,
     "start_time": "2022-07-28T00:40:00.866643",
     "status": "completed"
    },
    "tags": []
   },
   "source": [
    "We reshape the data to flatten the image pixels into a set of features or co-variates:"
   ]
  },
  {
   "cell_type": "code",
   "execution_count": 14,
   "id": "5286a4a3",
   "metadata": {
    "execution": {
     "iopub.execute_input": "2022-07-28T00:40:00.953805Z",
     "iopub.status.busy": "2022-07-28T00:40:00.948666Z",
     "iopub.status.idle": "2022-07-28T00:40:00.964362Z",
     "shell.execute_reply": "2022-07-28T00:40:00.963902Z"
    },
    "papermill": {
     "duration": 0.045456,
     "end_time": "2022-07-28T00:40:00.964465",
     "exception": false,
     "start_time": "2022-07-28T00:40:00.919009",
     "status": "completed"
    },
    "tags": []
   },
   "outputs": [
    {
     "data": {
      "text/plain": [
       "((11982, 784), (1984, 784))"
      ]
     },
     "execution_count": 14,
     "metadata": {},
     "output_type": "execute_result"
    }
   ],
   "source": [
    "X_train = X_train.reshape(X_train.shape[0], -1)\n",
    "X_test = X_test.reshape(X_test.shape[0], -1)\n",
    "X_train.shape, X_test.shape"
   ]
  },
  {
   "cell_type": "code",
   "execution_count": 15,
   "id": "73c5f88a",
   "metadata": {
    "execution": {
     "iopub.execute_input": "2022-07-28T00:40:01.022050Z",
     "iopub.status.busy": "2022-07-28T00:40:01.021468Z",
     "iopub.status.idle": "2022-07-28T00:40:01.040524Z",
     "shell.execute_reply": "2022-07-28T00:40:01.040062Z"
    },
    "papermill": {
     "duration": 0.049164,
     "end_time": "2022-07-28T00:40:01.040634",
     "exception": false,
     "start_time": "2022-07-28T00:40:00.991470",
     "status": "completed"
    },
    "tags": []
   },
   "outputs": [],
   "source": [
    "#Impoting functions from 'Kudzu'\n",
    "from kudzu.model import Model\n",
    "from kudzu.train import Learner\n",
    "from kudzu.optim import GD\n",
    "from kudzu.data import Data, Sampler,Dataloader\n",
    "\n",
    "from kudzu.callbacks import AccCallback\n",
    "from kudzu.callbacks import ClfCallback\n",
    "\n",
    "from kudzu.loss import MSE\n",
    "\n",
    "from kudzu.layer import Sigmoid,Relu\n",
    "from kudzu.layer import Affine"
   ]
  },
  {
   "cell_type": "markdown",
   "id": "bc01172a",
   "metadata": {
    "papermill": {
     "duration": 0.026377,
     "end_time": "2022-07-28T00:40:01.093549",
     "exception": false,
     "start_time": "2022-07-28T00:40:01.067172",
     "status": "completed"
    },
    "tags": []
   },
   "source": [
    "### Let us create a `Config` class, to store important parameters. \n",
    "This class essentially plays the role of a dictionary."
   ]
  },
  {
   "cell_type": "code",
   "execution_count": 16,
   "id": "978281aa",
   "metadata": {
    "execution": {
     "iopub.execute_input": "2022-07-28T00:40:01.150179Z",
     "iopub.status.busy": "2022-07-28T00:40:01.149571Z",
     "iopub.status.idle": "2022-07-28T00:40:01.162085Z",
     "shell.execute_reply": "2022-07-28T00:40:01.162537Z"
    },
    "papermill": {
     "duration": 0.042692,
     "end_time": "2022-07-28T00:40:01.162659",
     "exception": false,
     "start_time": "2022-07-28T00:40:01.119967",
     "status": "completed"
    },
    "tags": []
   },
   "outputs": [],
   "source": [
    "class Config:\n",
    "    pass\n",
    "config = Config()\n",
    "config.lr = 0.001\n",
    "config.num_epochs = 250\n",
    "config.bs = 50"
   ]
  },
  {
   "cell_type": "markdown",
   "id": "1385fa59",
   "metadata": {
    "papermill": {
     "duration": 0.026431,
     "end_time": "2022-07-28T00:40:01.215658",
     "exception": false,
     "start_time": "2022-07-28T00:40:01.189227",
     "status": "completed"
    },
    "tags": []
   },
   "source": [
    "### Running Models with the Training data\n",
    "Details about the network layers:\n",
    "- A first affine layer has 784 inputs and does 100 affine transforms. These are followed by a Relu\n",
    "- A second affine layer has 100 inputs from the 100 activations of the past layer, and does 100 affine transforms. These are followed by a Relu\n",
    "- A third affine layer has 100 activations and does 2 affine transformations to create an embedding for visualization. There is no non-linearity here.\n",
    "- A final \"logistic regression\" which has an affine transform from 2 inputs to 1 output, which is squeezed through a sigmoid.\n"
   ]
  },
  {
   "cell_type": "code",
   "execution_count": 17,
   "id": "2b9c66db",
   "metadata": {
    "execution": {
     "iopub.execute_input": "2022-07-28T00:40:01.272667Z",
     "iopub.status.busy": "2022-07-28T00:40:01.272098Z",
     "iopub.status.idle": "2022-07-28T00:40:01.285551Z",
     "shell.execute_reply": "2022-07-28T00:40:01.285085Z"
    },
    "papermill": {
     "duration": 0.043512,
     "end_time": "2022-07-28T00:40:01.285654",
     "exception": false,
     "start_time": "2022-07-28T00:40:01.242142",
     "status": "completed"
    },
    "tags": []
   },
   "outputs": [],
   "source": [
    "data = Data(X_train, y_train.reshape(-1,1))\n",
    "sampler = Sampler(data, config.bs, shuffle=True)\n",
    "\n",
    "dl = Dataloader(data, sampler)\n",
    "\n",
    "opt = GD(config.lr)\n",
    "loss = MSE()"
   ]
  },
  {
   "cell_type": "code",
   "execution_count": 18,
   "id": "b275e4c2",
   "metadata": {
    "execution": {
     "iopub.execute_input": "2022-07-28T00:40:01.354580Z",
     "iopub.status.busy": "2022-07-28T00:40:01.350498Z",
     "iopub.status.idle": "2022-07-28T00:40:01.356755Z",
     "shell.execute_reply": "2022-07-28T00:40:01.357165Z"
    },
    "papermill": {
     "duration": 0.045179,
     "end_time": "2022-07-28T00:40:01.357282",
     "exception": false,
     "start_time": "2022-07-28T00:40:01.312103",
     "status": "completed"
    },
    "tags": []
   },
   "outputs": [],
   "source": [
    "training_data_x = X_train\n",
    "testing_data_x = X_test\n",
    "training_data_y = y_train.reshape(-1,1)\n",
    "testing_data_y = y_test.reshape(-1,1)"
   ]
  },
  {
   "cell_type": "code",
   "execution_count": 19,
   "id": "76951160",
   "metadata": {
    "execution": {
     "iopub.execute_input": "2022-07-28T00:40:01.413981Z",
     "iopub.status.busy": "2022-07-28T00:40:01.413408Z",
     "iopub.status.idle": "2022-07-28T00:40:01.430576Z",
     "shell.execute_reply": "2022-07-28T00:40:01.431040Z"
    },
    "papermill": {
     "duration": 0.047539,
     "end_time": "2022-07-28T00:40:01.431152",
     "exception": false,
     "start_time": "2022-07-28T00:40:01.383613",
     "status": "completed"
    },
    "tags": []
   },
   "outputs": [
    {
     "name": "stdout",
     "output_type": "stream",
     "text": [
      "xavier\n",
      "xavier\n",
      "xavier\n",
      "xavier\n",
      "xavier\n"
     ]
    }
   ],
   "source": [
    "layers = [Affine(\"first\", 784, 100), Relu(\"first\"), Affine(\"second\", 100, 100), Relu(\"second\"), Affine(\"third\", 100, 2), Affine(\"last\", 2, 1), Sigmoid(\"last\")]\n",
    "model_nn = Model(layers)\n",
    "model_lr = Model([Affine(\"logits\", 784, 1), Sigmoid(\"sigmoid\")])"
   ]
  },
  {
   "cell_type": "code",
   "execution_count": 20,
   "id": "6eede77a",
   "metadata": {
    "execution": {
     "iopub.execute_input": "2022-07-28T00:40:01.492121Z",
     "iopub.status.busy": "2022-07-28T00:40:01.491554Z",
     "iopub.status.idle": "2022-07-28T00:40:01.502479Z",
     "shell.execute_reply": "2022-07-28T00:40:01.501962Z"
    },
    "papermill": {
     "duration": 0.044641,
     "end_time": "2022-07-28T00:40:01.502583",
     "exception": false,
     "start_time": "2022-07-28T00:40:01.457942",
     "status": "completed"
    },
    "tags": []
   },
   "outputs": [],
   "source": [
    "nn_learner = Learner(loss, model_nn, opt, config.num_epochs)\n",
    "acc_nn = ClfCallback(nn_learner, config.bs, training_data_x , testing_data_x, training_data_y, testing_data_y)\n",
    "nn_learner.set_callbacks([acc_nn])"
   ]
  },
  {
   "cell_type": "code",
   "execution_count": 21,
   "id": "877b6cc7",
   "metadata": {
    "execution": {
     "iopub.execute_input": "2022-07-28T00:40:01.562716Z",
     "iopub.status.busy": "2022-07-28T00:40:01.562137Z",
     "iopub.status.idle": "2022-07-28T00:40:01.572223Z",
     "shell.execute_reply": "2022-07-28T00:40:01.571761Z"
    },
    "papermill": {
     "duration": 0.043044,
     "end_time": "2022-07-28T00:40:01.572324",
     "exception": false,
     "start_time": "2022-07-28T00:40:01.529280",
     "status": "completed"
    },
    "tags": []
   },
   "outputs": [],
   "source": [
    "lr_learner = Learner(loss, model_lr, opt, config.num_epochs)\n",
    "acc_lr = ClfCallback(lr_learner, config.bs, training_data_x , testing_data_x, training_data_y, testing_data_y)\n",
    "lr_learner.set_callbacks([acc_lr])"
   ]
  },
  {
   "cell_type": "code",
   "execution_count": 22,
   "id": "d9b133c3",
   "metadata": {
    "execution": {
     "iopub.execute_input": "2022-07-28T00:40:01.629725Z",
     "iopub.status.busy": "2022-07-28T00:40:01.629159Z",
     "iopub.status.idle": "2022-07-28T00:41:15.836682Z",
     "shell.execute_reply": "2022-07-28T00:41:15.837233Z"
    },
    "papermill": {
     "duration": 74.238141,
     "end_time": "2022-07-28T00:41:15.837376",
     "exception": false,
     "start_time": "2022-07-28T00:40:01.599235",
     "status": "completed"
    },
    "tags": []
   },
   "outputs": [
    {
     "name": "stdout",
     "output_type": "stream",
     "text": [
      "Epoch 0, Loss 0.2446\n",
      "Training Accuracy: 0.6832, Testing Accuracy: 0.6749\n",
      "\n"
     ]
    },
    {
     "name": "stdout",
     "output_type": "stream",
     "text": [
      "Epoch 10, Loss 0.1798\n",
      "Training Accuracy: 0.8923, Testing Accuracy: 0.9022\n",
      "\n"
     ]
    },
    {
     "name": "stdout",
     "output_type": "stream",
     "text": [
      "Epoch 20, Loss 0.0885\n",
      "Training Accuracy: 0.9200, Testing Accuracy: 0.9304\n",
      "\n"
     ]
    },
    {
     "name": "stdout",
     "output_type": "stream",
     "text": [
      "Epoch 30, Loss 0.0578\n",
      "Training Accuracy: 0.9397, Testing Accuracy: 0.9516\n",
      "\n"
     ]
    },
    {
     "name": "stdout",
     "output_type": "stream",
     "text": [
      "Epoch 40, Loss 0.0458\n",
      "Training Accuracy: 0.9497, Testing Accuracy: 0.9622\n",
      "\n"
     ]
    },
    {
     "name": "stdout",
     "output_type": "stream",
     "text": [
      "Epoch 50, Loss 0.0397\n",
      "Training Accuracy: 0.9559, Testing Accuracy: 0.9672\n",
      "\n"
     ]
    },
    {
     "name": "stdout",
     "output_type": "stream",
     "text": [
      "Epoch 60, Loss 0.0359\n",
      "Training Accuracy: 0.9599, Testing Accuracy: 0.9688\n",
      "\n"
     ]
    },
    {
     "name": "stdout",
     "output_type": "stream",
     "text": [
      "Epoch 70, Loss 0.0333\n",
      "Training Accuracy: 0.9621, Testing Accuracy: 0.9703\n",
      "\n"
     ]
    },
    {
     "name": "stdout",
     "output_type": "stream",
     "text": [
      "Epoch 80, Loss 0.0313\n",
      "Training Accuracy: 0.9639, Testing Accuracy: 0.9713\n",
      "\n"
     ]
    },
    {
     "name": "stdout",
     "output_type": "stream",
     "text": [
      "Epoch 90, Loss 0.0298\n",
      "Training Accuracy: 0.9655, Testing Accuracy: 0.9708\n",
      "\n"
     ]
    },
    {
     "name": "stdout",
     "output_type": "stream",
     "text": [
      "Epoch 100, Loss 0.0285\n",
      "Training Accuracy: 0.9679, Testing Accuracy: 0.9708\n",
      "\n"
     ]
    },
    {
     "name": "stdout",
     "output_type": "stream",
     "text": [
      "Epoch 110, Loss 0.0274\n",
      "Training Accuracy: 0.9691, Testing Accuracy: 0.9713\n",
      "\n"
     ]
    },
    {
     "name": "stdout",
     "output_type": "stream",
     "text": [
      "Epoch 120, Loss 0.0265\n",
      "Training Accuracy: 0.9701, Testing Accuracy: 0.9713\n",
      "\n"
     ]
    },
    {
     "name": "stdout",
     "output_type": "stream",
     "text": [
      "Epoch 130, Loss 0.0257\n",
      "Training Accuracy: 0.9714, Testing Accuracy: 0.9713\n",
      "\n"
     ]
    },
    {
     "name": "stdout",
     "output_type": "stream",
     "text": [
      "Epoch 140, Loss 0.0249\n",
      "Training Accuracy: 0.9721, Testing Accuracy: 0.9708\n",
      "\n"
     ]
    },
    {
     "name": "stdout",
     "output_type": "stream",
     "text": [
      "Epoch 150, Loss 0.0243\n",
      "Training Accuracy: 0.9730, Testing Accuracy: 0.9713\n",
      "\n"
     ]
    },
    {
     "name": "stdout",
     "output_type": "stream",
     "text": [
      "Epoch 160, Loss 0.0237\n",
      "Training Accuracy: 0.9737, Testing Accuracy: 0.9713\n",
      "\n"
     ]
    },
    {
     "name": "stdout",
     "output_type": "stream",
     "text": [
      "Epoch 170, Loss 0.0231\n",
      "Training Accuracy: 0.9743, Testing Accuracy: 0.9708\n",
      "\n"
     ]
    },
    {
     "name": "stdout",
     "output_type": "stream",
     "text": [
      "Epoch 180, Loss 0.0226\n",
      "Training Accuracy: 0.9747, Testing Accuracy: 0.9718\n",
      "\n"
     ]
    },
    {
     "name": "stdout",
     "output_type": "stream",
     "text": [
      "Epoch 190, Loss 0.0221\n",
      "Training Accuracy: 0.9754, Testing Accuracy: 0.9718\n",
      "\n"
     ]
    },
    {
     "name": "stdout",
     "output_type": "stream",
     "text": [
      "Epoch 200, Loss 0.0217\n",
      "Training Accuracy: 0.9755, Testing Accuracy: 0.9728\n",
      "\n"
     ]
    },
    {
     "name": "stdout",
     "output_type": "stream",
     "text": [
      "Epoch 210, Loss 0.0212\n",
      "Training Accuracy: 0.9760, Testing Accuracy: 0.9733\n",
      "\n"
     ]
    },
    {
     "name": "stdout",
     "output_type": "stream",
     "text": [
      "Epoch 220, Loss 0.0208\n",
      "Training Accuracy: 0.9763, Testing Accuracy: 0.9728\n",
      "\n"
     ]
    },
    {
     "name": "stdout",
     "output_type": "stream",
     "text": [
      "Epoch 230, Loss 0.0204\n",
      "Training Accuracy: 0.9770, Testing Accuracy: 0.9728\n",
      "\n"
     ]
    },
    {
     "name": "stdout",
     "output_type": "stream",
     "text": [
      "Epoch 240, Loss 0.0201\n",
      "Training Accuracy: 0.9769, Testing Accuracy: 0.9733\n",
      "\n"
     ]
    },
    {
     "data": {
      "text/plain": [
       "0.02862028942525074"
      ]
     },
     "execution_count": 22,
     "metadata": {},
     "output_type": "execute_result"
    }
   ],
   "source": [
    "nn_learner.train_loop(dl)"
   ]
  },
  {
   "cell_type": "code",
   "execution_count": 23,
   "id": "e0163366",
   "metadata": {
    "execution": {
     "iopub.execute_input": "2022-07-28T00:41:15.915573Z",
     "iopub.status.busy": "2022-07-28T00:41:15.915001Z",
     "iopub.status.idle": "2022-07-28T00:41:29.311672Z",
     "shell.execute_reply": "2022-07-28T00:41:29.312133Z"
    },
    "papermill": {
     "duration": 13.440657,
     "end_time": "2022-07-28T00:41:29.312280",
     "exception": false,
     "start_time": "2022-07-28T00:41:15.871623",
     "status": "completed"
    },
    "tags": []
   },
   "outputs": [
    {
     "name": "stdout",
     "output_type": "stream",
     "text": [
      "Epoch 0, Loss 0.2595\n",
      "Training Accuracy: 0.5994, Testing Accuracy: 0.6205\n",
      "\n"
     ]
    },
    {
     "name": "stdout",
     "output_type": "stream",
     "text": [
      "Epoch 10, Loss 0.1034\n",
      "Training Accuracy: 0.9140, Testing Accuracy: 0.9234\n",
      "\n"
     ]
    },
    {
     "name": "stdout",
     "output_type": "stream",
     "text": [
      "Epoch 20, Loss 0.0788\n",
      "Training Accuracy: 0.9304, Testing Accuracy: 0.9400\n",
      "\n"
     ]
    },
    {
     "name": "stdout",
     "output_type": "stream",
     "text": [
      "Epoch 30, Loss 0.0678\n",
      "Training Accuracy: 0.9362, Testing Accuracy: 0.9486\n",
      "\n"
     ]
    },
    {
     "name": "stdout",
     "output_type": "stream",
     "text": [
      "Epoch 40, Loss 0.0612\n",
      "Training Accuracy: 0.9409, Testing Accuracy: 0.9521\n",
      "\n"
     ]
    },
    {
     "name": "stdout",
     "output_type": "stream",
     "text": [
      "Epoch 50, Loss 0.0568\n",
      "Training Accuracy: 0.9444, Testing Accuracy: 0.9561\n",
      "\n"
     ]
    },
    {
     "name": "stdout",
     "output_type": "stream",
     "text": [
      "Epoch 60, Loss 0.0535\n",
      "Training Accuracy: 0.9467, Testing Accuracy: 0.9561\n",
      "\n"
     ]
    },
    {
     "name": "stdout",
     "output_type": "stream",
     "text": [
      "Epoch 70, Loss 0.051\n",
      "Training Accuracy: 0.9485, Testing Accuracy: 0.9556\n",
      "\n"
     ]
    },
    {
     "name": "stdout",
     "output_type": "stream",
     "text": [
      "Epoch 80, Loss 0.049\n",
      "Training Accuracy: 0.9508, Testing Accuracy: 0.9582\n",
      "\n"
     ]
    },
    {
     "name": "stdout",
     "output_type": "stream",
     "text": [
      "Epoch 90, Loss 0.0474\n",
      "Training Accuracy: 0.9520, Testing Accuracy: 0.9612\n",
      "\n"
     ]
    },
    {
     "name": "stdout",
     "output_type": "stream",
     "text": [
      "Epoch 100, Loss 0.046\n",
      "Training Accuracy: 0.9527, Testing Accuracy: 0.9622\n",
      "\n"
     ]
    },
    {
     "name": "stdout",
     "output_type": "stream",
     "text": [
      "Epoch 110, Loss 0.0448\n",
      "Training Accuracy: 0.9535, Testing Accuracy: 0.9637\n",
      "\n"
     ]
    },
    {
     "name": "stdout",
     "output_type": "stream",
     "text": [
      "Epoch 120, Loss 0.0437\n",
      "Training Accuracy: 0.9547, Testing Accuracy: 0.9637\n",
      "\n"
     ]
    },
    {
     "name": "stdout",
     "output_type": "stream",
     "text": [
      "Epoch 130, Loss 0.0428\n",
      "Training Accuracy: 0.9559, Testing Accuracy: 0.9652\n",
      "\n"
     ]
    },
    {
     "name": "stdout",
     "output_type": "stream",
     "text": [
      "Epoch 140, Loss 0.042\n",
      "Training Accuracy: 0.9562, Testing Accuracy: 0.9652\n",
      "\n"
     ]
    },
    {
     "name": "stdout",
     "output_type": "stream",
     "text": [
      "Epoch 150, Loss 0.0413\n",
      "Training Accuracy: 0.9569, Testing Accuracy: 0.9652\n",
      "\n"
     ]
    },
    {
     "name": "stdout",
     "output_type": "stream",
     "text": [
      "Epoch 160, Loss 0.0406\n",
      "Training Accuracy: 0.9575, Testing Accuracy: 0.9652\n",
      "\n"
     ]
    },
    {
     "name": "stdout",
     "output_type": "stream",
     "text": [
      "Epoch 170, Loss 0.04\n",
      "Training Accuracy: 0.9583, Testing Accuracy: 0.9657\n",
      "\n"
     ]
    },
    {
     "name": "stdout",
     "output_type": "stream",
     "text": [
      "Epoch 180, Loss 0.0395\n",
      "Training Accuracy: 0.9584, Testing Accuracy: 0.9657\n",
      "\n"
     ]
    },
    {
     "name": "stdout",
     "output_type": "stream",
     "text": [
      "Epoch 190, Loss 0.039\n",
      "Training Accuracy: 0.9591, Testing Accuracy: 0.9657\n",
      "\n"
     ]
    },
    {
     "name": "stdout",
     "output_type": "stream",
     "text": [
      "Epoch 200, Loss 0.0385\n",
      "Training Accuracy: 0.9594, Testing Accuracy: 0.9662\n",
      "\n"
     ]
    },
    {
     "name": "stdout",
     "output_type": "stream",
     "text": [
      "Epoch 210, Loss 0.0381\n",
      "Training Accuracy: 0.9595, Testing Accuracy: 0.9667\n",
      "\n"
     ]
    },
    {
     "name": "stdout",
     "output_type": "stream",
     "text": [
      "Epoch 220, Loss 0.0376\n",
      "Training Accuracy: 0.9599, Testing Accuracy: 0.9667\n",
      "\n"
     ]
    },
    {
     "name": "stdout",
     "output_type": "stream",
     "text": [
      "Epoch 230, Loss 0.0373\n",
      "Training Accuracy: 0.9602, Testing Accuracy: 0.9667\n",
      "\n"
     ]
    },
    {
     "name": "stdout",
     "output_type": "stream",
     "text": [
      "Epoch 240, Loss 0.0369\n",
      "Training Accuracy: 0.9604, Testing Accuracy: 0.9667\n",
      "\n"
     ]
    },
    {
     "data": {
      "text/plain": [
       "0.0154666336780371"
      ]
     },
     "execution_count": 23,
     "metadata": {},
     "output_type": "execute_result"
    }
   ],
   "source": [
    "lr_learner.train_loop(dl)"
   ]
  },
  {
   "cell_type": "code",
   "execution_count": 24,
   "id": "ca410940",
   "metadata": {
    "execution": {
     "iopub.execute_input": "2022-07-28T00:41:29.399343Z",
     "iopub.status.busy": "2022-07-28T00:41:29.398754Z",
     "iopub.status.idle": "2022-07-28T00:41:29.637075Z",
     "shell.execute_reply": "2022-07-28T00:41:29.637903Z"
    },
    "papermill": {
     "duration": 0.28449,
     "end_time": "2022-07-28T00:41:29.638075",
     "exception": false,
     "start_time": "2022-07-28T00:41:29.353585",
     "status": "completed"
    },
    "tags": []
   },
   "outputs": [
    {
     "data": {
      "text/plain": [
       "<matplotlib.legend.Legend at 0x7f4d6e7f9b38>"
      ]
     },
     "execution_count": 24,
     "metadata": {},
     "output_type": "execute_result"
    },
    {
     "data": {
      "image/png": "[encoded data removed]",
      "text/plain": [
       "<Figure size 1080x720 with 1 Axes>"
      ]
     },
     "metadata": {
      "needs_background": "light"
     },
     "output_type": "display_data"
    }
   ],
   "source": [
    "#comparing the results of NN and LR\n",
    "plt.figure(figsize=(15,10))\n",
    "\n",
    "# Neural Network plots\n",
    "plt.plot(acc_nn.accuracies, 'r-', label = \"Training Accuracies - NN\")\n",
    "plt.plot(acc_nn.test_accuracies, 'g-', label = \"Testing Accuracies - NN\")\n",
    "\n",
    "# Logistic Regression plots\n",
    "plt.plot(acc_lr.accuracies, 'k-', label = \"Training Accuracies - LR\")\n",
    "plt.plot(acc_lr.test_accuracies, 'b-', label = \"Testing Accuracies - LR\")\n",
    "plt.legend()"
   ]
  },
  {
   "cell_type": "markdown",
   "id": "80dfb35c",
   "metadata": {
    "papermill": {
     "duration": 0.041189,
     "end_time": "2022-07-28T00:41:29.720909",
     "exception": false,
     "start_time": "2022-07-28T00:41:29.679720",
     "status": "completed"
    },
    "tags": []
   },
   "source": [
    "#### Plotting the outputs of this layer of the NN.\n"
   ]
  },
  {
   "cell_type": "code",
   "execution_count": 25,
   "id": "45eb2ff5",
   "metadata": {
    "execution": {
     "iopub.execute_input": "2022-07-28T00:41:29.807189Z",
     "iopub.status.busy": "2022-07-28T00:41:29.806609Z",
     "iopub.status.idle": "2022-07-28T00:41:29.827049Z",
     "shell.execute_reply": "2022-07-28T00:41:29.827736Z"
    },
    "papermill": {
     "duration": 0.065721,
     "end_time": "2022-07-28T00:41:29.827871",
     "exception": false,
     "start_time": "2022-07-28T00:41:29.762150",
     "status": "completed"
    },
    "tags": []
   },
   "outputs": [],
   "source": [
    "new_model = Model(layers[:-2])\n",
    "testing_plot = new_model(testing_data_x)"
   ]
  },
  {
   "cell_type": "code",
   "execution_count": 26,
   "id": "4c0a5485",
   "metadata": {
    "execution": {
     "iopub.execute_input": "2022-07-28T00:41:29.915566Z",
     "iopub.status.busy": "2022-07-28T00:41:29.915001Z",
     "iopub.status.idle": "2022-07-28T00:41:30.108749Z",
     "shell.execute_reply": "2022-07-28T00:41:30.109438Z"
    },
    "papermill": {
     "duration": 0.24027,
     "end_time": "2022-07-28T00:41:30.109580",
     "exception": false,
     "start_time": "2022-07-28T00:41:29.869310",
     "status": "completed"
    },
    "tags": []
   },
   "outputs": [
    {
     "data": {
      "text/plain": [
       "Text(0.5, 1.0, 'Outputs')"
      ]
     },
     "execution_count": 26,
     "metadata": {},
     "output_type": "execute_result"
    },
    {
     "data": {
      "image/png": "[encoded data removed]",
      "text/plain": [
       "<Figure size 576x504 with 1 Axes>"
      ]
     },
     "metadata": {
      "needs_background": "light"
     },
     "output_type": "display_data"
    }
   ],
   "source": [
    "# Plotting the scatter plot of points and color coding by class\n",
    "plt.figure(figsize=(8,7))\n",
    "plt.scatter(testing_plot[:,0], testing_plot[:,1], alpha = 0.1, c = y_test.ravel());\n",
    "plt.title('Outputs')"
   ]
  },
  {
   "cell_type": "markdown",
   "id": "a74fcf8f",
   "metadata": {
    "papermill": {
     "duration": 0.042871,
     "end_time": "2022-07-28T00:41:30.195703",
     "exception": false,
     "start_time": "2022-07-28T00:41:30.152832",
     "status": "completed"
    },
    "tags": []
   },
   "source": [
    "Probability contours"
   ]
  },
  {
   "cell_type": "code",
   "execution_count": 27,
   "id": "d0afc8e3",
   "metadata": {
    "execution": {
     "iopub.execute_input": "2022-07-28T00:41:30.290805Z",
     "iopub.status.busy": "2022-07-28T00:41:30.290220Z",
     "iopub.status.idle": "2022-07-28T00:41:30.300747Z",
     "shell.execute_reply": "2022-07-28T00:41:30.301209Z"
    },
    "papermill": {
     "duration": 0.062589,
     "end_time": "2022-07-28T00:41:30.301330",
     "exception": false,
     "start_time": "2022-07-28T00:41:30.238741",
     "status": "completed"
    },
    "tags": []
   },
   "outputs": [],
   "source": [
    "model_prob = Model(layers[-2:]) "
   ]
  },
  {
   "cell_type": "code",
   "execution_count": 28,
   "id": "9b96e238",
   "metadata": {
    "execution": {
     "iopub.execute_input": "2022-07-28T00:41:30.399596Z",
     "iopub.status.busy": "2022-07-28T00:41:30.398672Z",
     "iopub.status.idle": "2022-07-28T00:41:30.409020Z",
     "shell.execute_reply": "2022-07-28T00:41:30.408468Z"
    },
    "papermill": {
     "duration": 0.06468,
     "end_time": "2022-07-28T00:41:30.409124",
     "exception": false,
     "start_time": "2022-07-28T00:41:30.344444",
     "status": "completed"
    },
    "tags": []
   },
   "outputs": [],
   "source": [
    "#creating the x and y ranges according to the above generated plot.\n",
    "x_range = np.linspace(-4, 1, 100) \n",
    "y_range = np.linspace(-6, 6, 100) \n",
    "x_grid, y_grid = np.meshgrid(x_range, y_range) # x_grid and y_grig are of size 100 X 100\n",
    "\n",
    "# converting x_grid and y_grid to continuous arrays\n",
    "x_gridflat = np.ravel(x_grid)\n",
    "y_gridflat = np.ravel(y_grid)\n",
    "\n",
    "# The last layer of the current model takes two columns as input. Hence transpose of np.vstack() is required.\n",
    "X = np.vstack((x_gridflat, y_gridflat)).T\n",
    "\n",
    "prob_contour = model_prob(X).reshape(100,100) "
   ]
  },
  {
   "cell_type": "code",
   "execution_count": 29,
   "id": "da72499a",
   "metadata": {
    "execution": {
     "iopub.execute_input": "2022-07-28T00:41:30.539554Z",
     "iopub.status.busy": "2022-07-28T00:41:30.538980Z",
     "iopub.status.idle": "2022-07-28T00:41:30.784975Z",
     "shell.execute_reply": "2022-07-28T00:41:30.784398Z"
    },
    "papermill": {
     "duration": 0.30399,
     "end_time": "2022-07-28T00:41:30.785095",
     "exception": false,
     "start_time": "2022-07-28T00:41:30.481105",
     "status": "completed"
    },
    "tags": []
   },
   "outputs": [
    {
     "data": {
      "image/png": "[encoded data removed]",
      "text/plain": [
       "<Figure size 720x648 with 1 Axes>"
      ]
     },
     "metadata": {
      "needs_background": "light"
     },
     "output_type": "display_data"
    }
   ],
   "source": [
    "plt.figure(figsize=(10,9))\n",
    "plt.scatter(testing_plot[:,0], testing_plot[:,1], alpha = 0.1, c = y_test.ravel())\n",
    "contours = plt.contour(x_grid,y_grid,prob_contour)\n",
    "plt.title('Probability Contours')\n",
    "plt.clabel(contours, inline = True );"
   ]
  },
  {
   "cell_type": "code",
   "execution_count": null,
   "id": "e81b4ac7",
   "metadata": {
    "papermill": {
     "duration": 0.045624,
     "end_time": "2022-07-28T00:41:30.876832",
     "exception": false,
     "start_time": "2022-07-28T00:41:30.831208",
     "status": "completed"
    },
    "tags": []
   },
   "outputs": [],
   "source": []
  }
 ],
 "metadata": {
  "kernelspec": {
   "display_name": "Python 3",
   "language": "python",
   "name": "python3"
  },
  "language_info": {
   "codemirror_mode": {
    "name": "ipython",
    "version": 3
   },
   "file_extension": ".py",
   "mimetype": "text/x-python",
   "name": "python",
   "nbconvert_exporter": "python",
   "pygments_lexer": "ipython3",
   "version": "3.6.15"
  },
  "papermill": {
   "default_parameters": {},
   "duration": 95.638806,
   "end_time": "2022-07-28T00:41:31.341325",
   "environment_variables": {},
   "exception": null,
   "input_path": "2020-08-11-part2.ipynb",
   "output_path": "2020-08-11-part2.ipynb",
   "parameters": {},
   "start_time": "2022-07-28T00:39:55.702519",
   "version": "2.3.3"
  }
 },
 "nbformat": 4,
 "nbformat_minor": 5
}