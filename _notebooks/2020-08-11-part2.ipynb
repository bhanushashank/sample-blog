{
 "cells": [
  {
   "cell_type": "markdown",
   "id": "98380cd3",
   "metadata": {
    "papermill": {
     "duration": 0.029923,
     "end_time": "2022-08-17T00:45:14.955433",
     "exception": false,
     "start_time": "2022-08-17T00:45:14.925510",
     "status": "completed"
    },
    "tags": []
   },
   "source": [
    "# Distinguish Your Own Digits (DYOD)"
   ]
  },
  {
   "cell_type": "markdown",
   "id": "ef31240d",
   "metadata": {
    "papermill": {
     "duration": 0.023978,
     "end_time": "2022-08-17T00:45:15.003847",
     "exception": false,
     "start_time": "2022-08-17T00:45:14.979869",
     "status": "completed"
    },
    "tags": []
   },
   "source": [
    "You are going to write a classifier that distinguishes between the number 3 and number 8."
   ]
  },
  {
   "cell_type": "code",
   "execution_count": 1,
   "id": "b15c8646",
   "metadata": {
    "execution": {
     "iopub.execute_input": "2022-08-17T00:45:15.062407Z",
     "iopub.status.busy": "2022-08-17T00:45:15.061790Z",
     "iopub.status.idle": "2022-08-17T00:45:15.072900Z",
     "shell.execute_reply": "2022-08-17T00:45:15.072391Z"
    },
    "papermill": {
     "duration": 0.045055,
     "end_time": "2022-08-17T00:45:15.073028",
     "exception": false,
     "start_time": "2022-08-17T00:45:15.027973",
     "status": "completed"
    },
    "tags": []
   },
   "outputs": [],
   "source": [
    "%load_ext autoreload\n",
    "%autoreload 2"
   ]
  },
  {
   "cell_type": "code",
   "execution_count": 2,
   "id": "22ef38dc",
   "metadata": {
    "execution": {
     "iopub.execute_input": "2022-08-17T00:45:15.125501Z",
     "iopub.status.busy": "2022-08-17T00:45:15.124910Z",
     "iopub.status.idle": "2022-08-17T00:45:15.662894Z",
     "shell.execute_reply": "2022-08-17T00:45:15.662277Z"
    },
    "papermill": {
     "duration": 0.565942,
     "end_time": "2022-08-17T00:45:15.663036",
     "exception": false,
     "start_time": "2022-08-17T00:45:15.097094",
     "status": "completed"
    },
    "tags": []
   },
   "outputs": [],
   "source": [
    "%matplotlib inline\n",
    "import numpy as np\n",
    "import matplotlib.pyplot as plt\n",
    "import pandas as pd"
   ]
  },
  {
   "cell_type": "markdown",
   "id": "ba036198",
   "metadata": {
    "papermill": {
     "duration": 0.02396,
     "end_time": "2022-08-17T00:45:15.711130",
     "exception": false,
     "start_time": "2022-08-17T00:45:15.687170",
     "status": "completed"
    },
    "tags": []
   },
   "source": [
    "From the command line run `pip install mnist`. This is a library that will help you bring down the mnist dataset. If you run this from a notebook, you need to put  `!pip install mnist` in a cell by itself."
   ]
  },
  {
   "cell_type": "code",
   "execution_count": 3,
   "id": "bb6ad8a1",
   "metadata": {
    "execution": {
     "iopub.execute_input": "2022-08-17T00:45:15.765424Z",
     "iopub.status.busy": "2022-08-17T00:45:15.764825Z",
     "iopub.status.idle": "2022-08-17T00:45:18.341900Z",
     "shell.execute_reply": "2022-08-17T00:45:18.341361Z"
    },
    "papermill": {
     "duration": 2.606603,
     "end_time": "2022-08-17T00:45:18.342022",
     "exception": false,
     "start_time": "2022-08-17T00:45:15.735419",
     "status": "completed"
    },
    "tags": []
   },
   "outputs": [
    {
     "name": "stdout",
     "output_type": "stream",
     "text": [
      "Collecting mnist\r\n"
     ]
    },
    {
     "name": "stdout",
     "output_type": "stream",
     "text": [
      "  Downloading mnist-0.2.2-py2.py3-none-any.whl (3.5 kB)\r\n",
      "Requirement already satisfied: numpy in /opt/hostedtoolcache/Python/3.6.15/x64/lib/python3.6/site-packages (from mnist) (1.19.5)\r\n"
     ]
    },
    {
     "name": "stdout",
     "output_type": "stream",
     "text": [
      "Installing collected packages: mnist\r\n"
     ]
    },
    {
     "name": "stdout",
     "output_type": "stream",
     "text": [
      "Successfully installed mnist-0.2.2\r\n"
     ]
    }
   ],
   "source": [
    "!pip install mnist"
   ]
  },
  {
   "cell_type": "markdown",
   "id": "69df9c9a",
   "metadata": {
    "papermill": {
     "duration": 0.025065,
     "end_time": "2022-08-17T00:45:18.392351",
     "exception": false,
     "start_time": "2022-08-17T00:45:18.367286",
     "status": "completed"
    },
    "tags": []
   },
   "source": [
    "## Preparing the Data"
   ]
  },
  {
   "cell_type": "code",
   "execution_count": 4,
   "id": "7f69d806",
   "metadata": {
    "execution": {
     "iopub.execute_input": "2022-08-17T00:45:18.446812Z",
     "iopub.status.busy": "2022-08-17T00:45:18.446183Z",
     "iopub.status.idle": "2022-08-17T00:45:18.461565Z",
     "shell.execute_reply": "2022-08-17T00:45:18.461075Z"
    },
    "papermill": {
     "duration": 0.044305,
     "end_time": "2022-08-17T00:45:18.461680",
     "exception": false,
     "start_time": "2022-08-17T00:45:18.417375",
     "status": "completed"
    },
    "tags": []
   },
   "outputs": [],
   "source": [
    "import mnist"
   ]
  },
  {
   "cell_type": "code",
   "execution_count": 5,
   "id": "a411e44f",
   "metadata": {
    "execution": {
     "iopub.execute_input": "2022-08-17T00:45:18.516120Z",
     "iopub.status.busy": "2022-08-17T00:45:18.515529Z",
     "iopub.status.idle": "2022-08-17T00:45:19.203861Z",
     "shell.execute_reply": "2022-08-17T00:45:19.203333Z"
    },
    "papermill": {
     "duration": 0.71683,
     "end_time": "2022-08-17T00:45:19.203980",
     "exception": false,
     "start_time": "2022-08-17T00:45:18.487150",
     "status": "completed"
    },
    "tags": []
   },
   "outputs": [],
   "source": [
    "train_images = mnist.train_images()\n",
    "train_labels = mnist.train_labels()"
   ]
  },
  {
   "cell_type": "code",
   "execution_count": 6,
   "id": "dceab3a5",
   "metadata": {
    "execution": {
     "iopub.execute_input": "2022-08-17T00:45:19.259139Z",
     "iopub.status.busy": "2022-08-17T00:45:19.258526Z",
     "iopub.status.idle": "2022-08-17T00:45:19.273755Z",
     "shell.execute_reply": "2022-08-17T00:45:19.273280Z"
    },
    "papermill": {
     "duration": 0.044734,
     "end_time": "2022-08-17T00:45:19.273869",
     "exception": false,
     "start_time": "2022-08-17T00:45:19.229135",
     "status": "completed"
    },
    "tags": []
   },
   "outputs": [
    {
     "data": {
      "text/plain": [
       "((60000, 28, 28), (60000,))"
      ]
     },
     "execution_count": 6,
     "metadata": {},
     "output_type": "execute_result"
    }
   ],
   "source": [
    "train_images.shape, train_labels.shape"
   ]
  },
  {
   "cell_type": "code",
   "execution_count": 7,
   "id": "f50dc2bb",
   "metadata": {
    "execution": {
     "iopub.execute_input": "2022-08-17T00:45:19.334089Z",
     "iopub.status.busy": "2022-08-17T00:45:19.333486Z",
     "iopub.status.idle": "2022-08-17T00:45:19.619259Z",
     "shell.execute_reply": "2022-08-17T00:45:19.618628Z"
    },
    "papermill": {
     "duration": 0.320267,
     "end_time": "2022-08-17T00:45:19.619414",
     "exception": false,
     "start_time": "2022-08-17T00:45:19.299147",
     "status": "completed"
    },
    "tags": []
   },
   "outputs": [],
   "source": [
    "test_images = mnist.test_images()\n",
    "test_labels = mnist.test_labels()"
   ]
  },
  {
   "cell_type": "code",
   "execution_count": 8,
   "id": "fc38cf1b",
   "metadata": {
    "execution": {
     "iopub.execute_input": "2022-08-17T00:45:19.678204Z",
     "iopub.status.busy": "2022-08-17T00:45:19.677621Z",
     "iopub.status.idle": "2022-08-17T00:45:19.688750Z",
     "shell.execute_reply": "2022-08-17T00:45:19.689172Z"
    },
    "papermill": {
     "duration": 0.044424,
     "end_time": "2022-08-17T00:45:19.689308",
     "exception": false,
     "start_time": "2022-08-17T00:45:19.644884",
     "status": "completed"
    },
    "tags": []
   },
   "outputs": [
    {
     "data": {
      "text/plain": [
       "((10000, 28, 28), (10000,))"
      ]
     },
     "execution_count": 8,
     "metadata": {},
     "output_type": "execute_result"
    }
   ],
   "source": [
    "test_images.shape, test_labels.shape"
   ]
  },
  {
   "cell_type": "code",
   "execution_count": 9,
   "id": "f9ed8fe0",
   "metadata": {
    "execution": {
     "iopub.execute_input": "2022-08-17T00:45:19.751531Z",
     "iopub.status.busy": "2022-08-17T00:45:19.750924Z",
     "iopub.status.idle": "2022-08-17T00:45:19.885960Z",
     "shell.execute_reply": "2022-08-17T00:45:19.885468Z"
    },
    "papermill": {
     "duration": 0.171289,
     "end_time": "2022-08-17T00:45:19.886081",
     "exception": false,
     "start_time": "2022-08-17T00:45:19.714792",
     "status": "completed"
    },
    "tags": []
   },
   "outputs": [
    {
     "name": "stdout",
     "output_type": "stream",
     "text": [
      "2\n"
     ]
    },
    {
     "data": {
      "text/plain": [
       "<matplotlib.image.AxesImage at 0x7f78d9b419b0>"
      ]
     },
     "execution_count": 9,
     "metadata": {},
     "output_type": "execute_result"
    },
    {
     "data": {
      "image/png": "[encoded data removed]",
      "text/plain": [
       "<Figure size 432x288 with 1 Axes>"
      ]
     },
     "metadata": {
      "needs_background": "light"
     },
     "output_type": "display_data"
    }
   ],
   "source": [
    "image_index = 7776 # You may select anything up to 60,000\n",
    "print(train_labels[image_index]) \n",
    "plt.imshow(train_images[image_index], cmap='Greys')"
   ]
  },
  {
   "cell_type": "markdown",
   "id": "a8d2388d",
   "metadata": {
    "papermill": {
     "duration": 0.026801,
     "end_time": "2022-08-17T00:45:19.939855",
     "exception": false,
     "start_time": "2022-08-17T00:45:19.913054",
     "status": "completed"
    },
    "tags": []
   },
   "source": [
    "## Filter data to get 3 and 8 out"
   ]
  },
  {
   "cell_type": "code",
   "execution_count": 10,
   "id": "776f7fc7",
   "metadata": {
    "execution": {
     "iopub.execute_input": "2022-08-17T00:45:19.998764Z",
     "iopub.status.busy": "2022-08-17T00:45:19.998125Z",
     "iopub.status.idle": "2022-08-17T00:45:20.016797Z",
     "shell.execute_reply": "2022-08-17T00:45:20.016305Z"
    },
    "papermill": {
     "duration": 0.050334,
     "end_time": "2022-08-17T00:45:20.016918",
     "exception": false,
     "start_time": "2022-08-17T00:45:19.966584",
     "status": "completed"
    },
    "tags": []
   },
   "outputs": [],
   "source": [
    "train_filter = np.where((train_labels == 3 ) | (train_labels == 8))\n",
    "test_filter = np.where((test_labels == 3) | (test_labels == 8))\n",
    "X_train, y_train = train_images[train_filter], train_labels[train_filter]\n",
    "X_test, y_test = test_images[test_filter], test_labels[test_filter]"
   ]
  },
  {
   "cell_type": "markdown",
   "id": "948f0b7e",
   "metadata": {
    "papermill": {
     "duration": 0.026807,
     "end_time": "2022-08-17T00:45:20.070602",
     "exception": false,
     "start_time": "2022-08-17T00:45:20.043795",
     "status": "completed"
    },
    "tags": []
   },
   "source": [
    "We normalize the pizel values in the 0 to 1 range"
   ]
  },
  {
   "cell_type": "code",
   "execution_count": 11,
   "id": "ee4c2166",
   "metadata": {
    "execution": {
     "iopub.execute_input": "2022-08-17T00:45:20.131772Z",
     "iopub.status.busy": "2022-08-17T00:45:20.131176Z",
     "iopub.status.idle": "2022-08-17T00:45:20.177665Z",
     "shell.execute_reply": "2022-08-17T00:45:20.177060Z"
    },
    "papermill": {
     "duration": 0.080501,
     "end_time": "2022-08-17T00:45:20.177801",
     "exception": false,
     "start_time": "2022-08-17T00:45:20.097300",
     "status": "completed"
    },
    "tags": []
   },
   "outputs": [],
   "source": [
    "X_train = X_train/255.\n",
    "X_test = X_test/255."
   ]
  },
  {
   "cell_type": "markdown",
   "id": "ddcf4fab",
   "metadata": {
    "papermill": {
     "duration": 0.026849,
     "end_time": "2022-08-17T00:45:20.231763",
     "exception": false,
     "start_time": "2022-08-17T00:45:20.204914",
     "status": "completed"
    },
    "tags": []
   },
   "source": [
    "And setup the labels as 1 (when the digit is 3) and 0 (when the digit is 8)"
   ]
  },
  {
   "cell_type": "code",
   "execution_count": 12,
   "id": "7dc908f2",
   "metadata": {
    "execution": {
     "iopub.execute_input": "2022-08-17T00:45:20.296497Z",
     "iopub.status.busy": "2022-08-17T00:45:20.295901Z",
     "iopub.status.idle": "2022-08-17T00:45:20.305583Z",
     "shell.execute_reply": "2022-08-17T00:45:20.306039Z"
    },
    "papermill": {
     "duration": 0.044733,
     "end_time": "2022-08-17T00:45:20.306173",
     "exception": false,
     "start_time": "2022-08-17T00:45:20.261440",
     "status": "completed"
    },
    "tags": []
   },
   "outputs": [],
   "source": [
    "y_train = 1*(y_train==3)\n",
    "y_test = 1*(y_test==3)"
   ]
  },
  {
   "cell_type": "code",
   "execution_count": 13,
   "id": "01e4e969",
   "metadata": {
    "execution": {
     "iopub.execute_input": "2022-08-17T00:45:20.373566Z",
     "iopub.status.busy": "2022-08-17T00:45:20.363500Z",
     "iopub.status.idle": "2022-08-17T00:45:20.380328Z",
     "shell.execute_reply": "2022-08-17T00:45:20.380778Z"
    },
    "papermill": {
     "duration": 0.047859,
     "end_time": "2022-08-17T00:45:20.380912",
     "exception": false,
     "start_time": "2022-08-17T00:45:20.333053",
     "status": "completed"
    },
    "tags": []
   },
   "outputs": [
    {
     "data": {
      "text/plain": [
       "((11982, 28, 28), (1984, 28, 28))"
      ]
     },
     "execution_count": 13,
     "metadata": {},
     "output_type": "execute_result"
    }
   ],
   "source": [
    "X_train.shape, X_test.shape"
   ]
  },
  {
   "cell_type": "markdown",
   "id": "5ccf3f85",
   "metadata": {
    "papermill": {
     "duration": 0.027018,
     "end_time": "2022-08-17T00:45:20.434811",
     "exception": false,
     "start_time": "2022-08-17T00:45:20.407793",
     "status": "completed"
    },
    "tags": []
   },
   "source": [
    "We reshape the data to flatten the image pixels into a set of features or co-variates:"
   ]
  },
  {
   "cell_type": "code",
   "execution_count": 14,
   "id": "5286a4a3",
   "metadata": {
    "execution": {
     "iopub.execute_input": "2022-08-17T00:45:20.499462Z",
     "iopub.status.busy": "2022-08-17T00:45:20.498827Z",
     "iopub.status.idle": "2022-08-17T00:45:20.512238Z",
     "shell.execute_reply": "2022-08-17T00:45:20.512689Z"
    },
    "papermill": {
     "duration": 0.050201,
     "end_time": "2022-08-17T00:45:20.512827",
     "exception": false,
     "start_time": "2022-08-17T00:45:20.462626",
     "status": "completed"
    },
    "tags": []
   },
   "outputs": [
    {
     "data": {
      "text/plain": [
       "((11982, 784), (1984, 784))"
      ]
     },
     "execution_count": 14,
     "metadata": {},
     "output_type": "execute_result"
    }
   ],
   "source": [
    "X_train = X_train.reshape(X_train.shape[0], -1)\n",
    "X_test = X_test.reshape(X_test.shape[0], -1)\n",
    "X_train.shape, X_test.shape"
   ]
  },
  {
   "cell_type": "code",
   "execution_count": 15,
   "id": "73c5f88a",
   "metadata": {
    "execution": {
     "iopub.execute_input": "2022-08-17T00:45:20.575366Z",
     "iopub.status.busy": "2022-08-17T00:45:20.572821Z",
     "iopub.status.idle": "2022-08-17T00:45:20.591862Z",
     "shell.execute_reply": "2022-08-17T00:45:20.591367Z"
    },
    "papermill": {
     "duration": 0.051759,
     "end_time": "2022-08-17T00:45:20.591979",
     "exception": false,
     "start_time": "2022-08-17T00:45:20.540220",
     "status": "completed"
    },
    "tags": []
   },
   "outputs": [],
   "source": [
    "#Impoting functions from 'Kudzu'\n",
    "from kudzu.model import Model\n",
    "from kudzu.train import Learner\n",
    "from kudzu.optim import GD\n",
    "from kudzu.data import Data, Sampler,Dataloader\n",
    "\n",
    "from kudzu.callbacks import AccCallback\n",
    "from kudzu.callbacks import ClfCallback\n",
    "\n",
    "from kudzu.loss import MSE\n",
    "\n",
    "from kudzu.layer import Sigmoid,Relu\n",
    "from kudzu.layer import Affine"
   ]
  },
  {
   "cell_type": "markdown",
   "id": "bc01172a",
   "metadata": {
    "papermill": {
     "duration": 0.027056,
     "end_time": "2022-08-17T00:45:20.646434",
     "exception": false,
     "start_time": "2022-08-17T00:45:20.619378",
     "status": "completed"
    },
    "tags": []
   },
   "source": [
    "### Let us create a `Config` class, to store important parameters. \n",
    "This class essentially plays the role of a dictionary."
   ]
  },
  {
   "cell_type": "code",
   "execution_count": 16,
   "id": "978281aa",
   "metadata": {
    "execution": {
     "iopub.execute_input": "2022-08-17T00:45:20.704910Z",
     "iopub.status.busy": "2022-08-17T00:45:20.704323Z",
     "iopub.status.idle": "2022-08-17T00:45:20.717238Z",
     "shell.execute_reply": "2022-08-17T00:45:20.717664Z"
    },
    "papermill": {
     "duration": 0.044199,
     "end_time": "2022-08-17T00:45:20.717798",
     "exception": false,
     "start_time": "2022-08-17T00:45:20.673599",
     "status": "completed"
    },
    "tags": []
   },
   "outputs": [],
   "source": [
    "class Config:\n",
    "    pass\n",
    "config = Config()\n",
    "config.lr = 0.001\n",
    "config.num_epochs = 250\n",
    "config.bs = 50"
   ]
  },
  {
   "cell_type": "markdown",
   "id": "1385fa59",
   "metadata": {
    "papermill": {
     "duration": 0.027037,
     "end_time": "2022-08-17T00:45:20.772065",
     "exception": false,
     "start_time": "2022-08-17T00:45:20.745028",
     "status": "completed"
    },
    "tags": []
   },
   "source": [
    "### Running Models with the Training data\n",
    "Details about the network layers:\n",
    "- A first affine layer has 784 inputs and does 100 affine transforms. These are followed by a Relu\n",
    "- A second affine layer has 100 inputs from the 100 activations of the past layer, and does 100 affine transforms. These are followed by a Relu\n",
    "- A third affine layer has 100 activations and does 2 affine transformations to create an embedding for visualization. There is no non-linearity here.\n",
    "- A final \"logistic regression\" which has an affine transform from 2 inputs to 1 output, which is squeezed through a sigmoid.\n"
   ]
  },
  {
   "cell_type": "code",
   "execution_count": 17,
   "id": "2b9c66db",
   "metadata": {
    "execution": {
     "iopub.execute_input": "2022-08-17T00:45:20.831042Z",
     "iopub.status.busy": "2022-08-17T00:45:20.830410Z",
     "iopub.status.idle": "2022-08-17T00:45:20.843456Z",
     "shell.execute_reply": "2022-08-17T00:45:20.842974Z"
    },
    "papermill": {
     "duration": 0.044307,
     "end_time": "2022-08-17T00:45:20.843571",
     "exception": false,
     "start_time": "2022-08-17T00:45:20.799264",
     "status": "completed"
    },
    "tags": []
   },
   "outputs": [],
   "source": [
    "data = Data(X_train, y_train.reshape(-1,1))\n",
    "sampler = Sampler(data, config.bs, shuffle=True)\n",
    "\n",
    "dl = Dataloader(data, sampler)\n",
    "\n",
    "opt = GD(config.lr)\n",
    "loss = MSE()"
   ]
  },
  {
   "cell_type": "code",
   "execution_count": 18,
   "id": "b275e4c2",
   "metadata": {
    "execution": {
     "iopub.execute_input": "2022-08-17T00:45:20.904807Z",
     "iopub.status.busy": "2022-08-17T00:45:20.904213Z",
     "iopub.status.idle": "2022-08-17T00:45:20.914884Z",
     "shell.execute_reply": "2022-08-17T00:45:20.915339Z"
    },
    "papermill": {
     "duration": 0.044553,
     "end_time": "2022-08-17T00:45:20.915473",
     "exception": false,
     "start_time": "2022-08-17T00:45:20.870920",
     "status": "completed"
    },
    "tags": []
   },
   "outputs": [],
   "source": [
    "training_data_x = X_train\n",
    "testing_data_x = X_test\n",
    "training_data_y = y_train.reshape(-1,1)\n",
    "testing_data_y = y_test.reshape(-1,1)"
   ]
  },
  {
   "cell_type": "code",
   "execution_count": 19,
   "id": "76951160",
   "metadata": {
    "execution": {
     "iopub.execute_input": "2022-08-17T00:45:20.974361Z",
     "iopub.status.busy": "2022-08-17T00:45:20.973766Z",
     "iopub.status.idle": "2022-08-17T00:45:20.991193Z",
     "shell.execute_reply": "2022-08-17T00:45:20.990615Z"
    },
    "papermill": {
     "duration": 0.048741,
     "end_time": "2022-08-17T00:45:20.991308",
     "exception": false,
     "start_time": "2022-08-17T00:45:20.942567",
     "status": "completed"
    },
    "tags": []
   },
   "outputs": [
    {
     "name": "stdout",
     "output_type": "stream",
     "text": [
      "xavier\n",
      "xavier\n",
      "xavier\n",
      "xavier\n",
      "xavier\n"
     ]
    }
   ],
   "source": [
    "layers = [Affine(\"first\", 784, 100), Relu(\"first\"), Affine(\"second\", 100, 100), Relu(\"second\"), Affine(\"third\", 100, 2), Affine(\"last\", 2, 1), Sigmoid(\"last\")]\n",
    "model_nn = Model(layers)\n",
    "model_lr = Model([Affine(\"logits\", 784, 1), Sigmoid(\"sigmoid\")])"
   ]
  },
  {
   "cell_type": "code",
   "execution_count": 20,
   "id": "6eede77a",
   "metadata": {
    "execution": {
     "iopub.execute_input": "2022-08-17T00:45:21.050549Z",
     "iopub.status.busy": "2022-08-17T00:45:21.049947Z",
     "iopub.status.idle": "2022-08-17T00:45:21.063369Z",
     "shell.execute_reply": "2022-08-17T00:45:21.062876Z"
    },
    "papermill": {
     "duration": 0.044694,
     "end_time": "2022-08-17T00:45:21.063485",
     "exception": false,
     "start_time": "2022-08-17T00:45:21.018791",
     "status": "completed"
    },
    "tags": []
   },
   "outputs": [],
   "source": [
    "nn_learner = Learner(loss, model_nn, opt, config.num_epochs)\n",
    "acc_nn = ClfCallback(nn_learner, config.bs, training_data_x , testing_data_x, training_data_y, testing_data_y)\n",
    "nn_learner.set_callbacks([acc_nn])"
   ]
  },
  {
   "cell_type": "code",
   "execution_count": 21,
   "id": "877b6cc7",
   "metadata": {
    "execution": {
     "iopub.execute_input": "2022-08-17T00:45:21.131484Z",
     "iopub.status.busy": "2022-08-17T00:45:21.127702Z",
     "iopub.status.idle": "2022-08-17T00:45:21.137264Z",
     "shell.execute_reply": "2022-08-17T00:45:21.137728Z"
    },
    "papermill": {
     "duration": 0.04675,
     "end_time": "2022-08-17T00:45:21.137865",
     "exception": false,
     "start_time": "2022-08-17T00:45:21.091115",
     "status": "completed"
    },
    "tags": []
   },
   "outputs": [],
   "source": [
    "lr_learner = Learner(loss, model_lr, opt, config.num_epochs)\n",
    "acc_lr = ClfCallback(lr_learner, config.bs, training_data_x , testing_data_x, training_data_y, testing_data_y)\n",
    "lr_learner.set_callbacks([acc_lr])"
   ]
  },
  {
   "cell_type": "code",
   "execution_count": 22,
   "id": "d9b133c3",
   "metadata": {
    "execution": {
     "iopub.execute_input": "2022-08-17T00:45:21.207563Z",
     "iopub.status.busy": "2022-08-17T00:45:21.202533Z",
     "iopub.status.idle": "2022-08-17T00:46:38.066686Z",
     "shell.execute_reply": "2022-08-17T00:46:38.067278Z"
    },
    "papermill": {
     "duration": 76.901787,
     "end_time": "2022-08-17T00:46:38.067421",
     "exception": false,
     "start_time": "2022-08-17T00:45:21.165634",
     "status": "completed"
    },
    "tags": []
   },
   "outputs": [
    {
     "name": "stdout",
     "output_type": "stream",
     "text": [
      "Epoch 0, Loss 0.2561\n",
      "Training Accuracy: 0.5156, Testing Accuracy: 0.5176\n",
      "\n"
     ]
    },
    {
     "name": "stdout",
     "output_type": "stream",
     "text": [
      "Epoch 10, Loss 0.1251\n",
      "Training Accuracy: 0.8977, Testing Accuracy: 0.9143\n",
      "\n"
     ]
    },
    {
     "name": "stdout",
     "output_type": "stream",
     "text": [
      "Epoch 20, Loss 0.0696\n",
      "Training Accuracy: 0.9296, Testing Accuracy: 0.9395\n",
      "\n"
     ]
    },
    {
     "name": "stdout",
     "output_type": "stream",
     "text": [
      "Epoch 30, Loss 0.0514\n",
      "Training Accuracy: 0.9434, Testing Accuracy: 0.9561\n",
      "\n"
     ]
    },
    {
     "name": "stdout",
     "output_type": "stream",
     "text": [
      "Epoch 40, Loss 0.0426\n",
      "Training Accuracy: 0.9523, Testing Accuracy: 0.9632\n",
      "\n"
     ]
    },
    {
     "name": "stdout",
     "output_type": "stream",
     "text": [
      "Epoch 50, Loss 0.0375\n",
      "Training Accuracy: 0.9578, Testing Accuracy: 0.9657\n",
      "\n"
     ]
    },
    {
     "name": "stdout",
     "output_type": "stream",
     "text": [
      "Epoch 60, Loss 0.0341\n",
      "Training Accuracy: 0.9608, Testing Accuracy: 0.9667\n",
      "\n"
     ]
    },
    {
     "name": "stdout",
     "output_type": "stream",
     "text": [
      "Epoch 70, Loss 0.0317\n",
      "Training Accuracy: 0.9625, Testing Accuracy: 0.9682\n",
      "\n"
     ]
    },
    {
     "name": "stdout",
     "output_type": "stream",
     "text": [
      "Epoch 80, Loss 0.0299\n",
      "Training Accuracy: 0.9646, Testing Accuracy: 0.9693\n",
      "\n"
     ]
    },
    {
     "name": "stdout",
     "output_type": "stream",
     "text": [
      "Epoch 90, Loss 0.0285\n",
      "Training Accuracy: 0.9667, Testing Accuracy: 0.9708\n",
      "\n"
     ]
    },
    {
     "name": "stdout",
     "output_type": "stream",
     "text": [
      "Epoch 100, Loss 0.0273\n",
      "Training Accuracy: 0.9683, Testing Accuracy: 0.9713\n",
      "\n"
     ]
    },
    {
     "name": "stdout",
     "output_type": "stream",
     "text": [
      "Epoch 110, Loss 0.0263\n",
      "Training Accuracy: 0.9690, Testing Accuracy: 0.9713\n",
      "\n"
     ]
    },
    {
     "name": "stdout",
     "output_type": "stream",
     "text": [
      "Epoch 120, Loss 0.0254\n",
      "Training Accuracy: 0.9701, Testing Accuracy: 0.9688\n",
      "\n"
     ]
    },
    {
     "name": "stdout",
     "output_type": "stream",
     "text": [
      "Epoch 130, Loss 0.0247\n",
      "Training Accuracy: 0.9713, Testing Accuracy: 0.9703\n",
      "\n"
     ]
    },
    {
     "name": "stdout",
     "output_type": "stream",
     "text": [
      "Epoch 140, Loss 0.024\n",
      "Training Accuracy: 0.9722, Testing Accuracy: 0.9708\n",
      "\n"
     ]
    },
    {
     "name": "stdout",
     "output_type": "stream",
     "text": [
      "Epoch 150, Loss 0.0234\n",
      "Training Accuracy: 0.9729, Testing Accuracy: 0.9713\n",
      "\n"
     ]
    },
    {
     "name": "stdout",
     "output_type": "stream",
     "text": [
      "Epoch 160, Loss 0.0228\n",
      "Training Accuracy: 0.9737, Testing Accuracy: 0.9708\n",
      "\n"
     ]
    },
    {
     "name": "stdout",
     "output_type": "stream",
     "text": [
      "Epoch 170, Loss 0.0223\n",
      "Training Accuracy: 0.9745, Testing Accuracy: 0.9713\n",
      "\n"
     ]
    },
    {
     "name": "stdout",
     "output_type": "stream",
     "text": [
      "Epoch 180, Loss 0.0218\n",
      "Training Accuracy: 0.9752, Testing Accuracy: 0.9718\n",
      "\n"
     ]
    },
    {
     "name": "stdout",
     "output_type": "stream",
     "text": [
      "Epoch 190, Loss 0.0213\n",
      "Training Accuracy: 0.9759, Testing Accuracy: 0.9723\n",
      "\n"
     ]
    },
    {
     "name": "stdout",
     "output_type": "stream",
     "text": [
      "Epoch 200, Loss 0.0209\n",
      "Training Accuracy: 0.9767, Testing Accuracy: 0.9723\n",
      "\n"
     ]
    },
    {
     "name": "stdout",
     "output_type": "stream",
     "text": [
      "Epoch 210, Loss 0.0205\n",
      "Training Accuracy: 0.9772, Testing Accuracy: 0.9723\n",
      "\n"
     ]
    },
    {
     "name": "stdout",
     "output_type": "stream",
     "text": [
      "Epoch 220, Loss 0.0201\n",
      "Training Accuracy: 0.9777, Testing Accuracy: 0.9738\n",
      "\n"
     ]
    },
    {
     "name": "stdout",
     "output_type": "stream",
     "text": [
      "Epoch 230, Loss 0.0198\n",
      "Training Accuracy: 0.9780, Testing Accuracy: 0.9743\n",
      "\n"
     ]
    },
    {
     "name": "stdout",
     "output_type": "stream",
     "text": [
      "Epoch 240, Loss 0.0194\n",
      "Training Accuracy: 0.9786, Testing Accuracy: 0.9738\n",
      "\n"
     ]
    },
    {
     "data": {
      "text/plain": [
       "0.013056057367000367"
      ]
     },
     "execution_count": 22,
     "metadata": {},
     "output_type": "execute_result"
    }
   ],
   "source": [
    "nn_learner.train_loop(dl)"
   ]
  },
  {
   "cell_type": "code",
   "execution_count": 23,
   "id": "e0163366",
   "metadata": {
    "execution": {
     "iopub.execute_input": "2022-08-17T00:46:38.148404Z",
     "iopub.status.busy": "2022-08-17T00:46:38.147779Z",
     "iopub.status.idle": "2022-08-17T00:46:52.254316Z",
     "shell.execute_reply": "2022-08-17T00:46:52.255197Z"
    },
    "papermill": {
     "duration": 14.152624,
     "end_time": "2022-08-17T00:46:52.255344",
     "exception": false,
     "start_time": "2022-08-17T00:46:38.102720",
     "status": "completed"
    },
    "tags": []
   },
   "outputs": [
    {
     "name": "stdout",
     "output_type": "stream",
     "text": [
      "Epoch 0, Loss 0.2293\n",
      "Training Accuracy: 0.7615, Testing Accuracy: 0.7767\n",
      "\n"
     ]
    },
    {
     "name": "stdout",
     "output_type": "stream",
     "text": [
      "Epoch 10, Loss 0.0998\n",
      "Training Accuracy: 0.9160, Testing Accuracy: 0.9254\n",
      "\n"
     ]
    },
    {
     "name": "stdout",
     "output_type": "stream",
     "text": [
      "Epoch 20, Loss 0.0774\n",
      "Training Accuracy: 0.9314, Testing Accuracy: 0.9375\n",
      "\n"
     ]
    },
    {
     "name": "stdout",
     "output_type": "stream",
     "text": [
      "Epoch 30, Loss 0.0668\n",
      "Training Accuracy: 0.9392, Testing Accuracy: 0.9466\n",
      "\n"
     ]
    },
    {
     "name": "stdout",
     "output_type": "stream",
     "text": [
      "Epoch 40, Loss 0.0605\n",
      "Training Accuracy: 0.9443, Testing Accuracy: 0.9511\n",
      "\n"
     ]
    },
    {
     "name": "stdout",
     "output_type": "stream",
     "text": [
      "Epoch 50, Loss 0.0561\n",
      "Training Accuracy: 0.9475, Testing Accuracy: 0.9536\n",
      "\n"
     ]
    },
    {
     "name": "stdout",
     "output_type": "stream",
     "text": [
      "Epoch 60, Loss 0.0529\n",
      "Training Accuracy: 0.9489, Testing Accuracy: 0.9582\n",
      "\n"
     ]
    },
    {
     "name": "stdout",
     "output_type": "stream",
     "text": [
      "Epoch 70, Loss 0.0504\n",
      "Training Accuracy: 0.9510, Testing Accuracy: 0.9592\n",
      "\n"
     ]
    },
    {
     "name": "stdout",
     "output_type": "stream",
     "text": [
      "Epoch 80, Loss 0.0484\n",
      "Training Accuracy: 0.9529, Testing Accuracy: 0.9607\n",
      "\n"
     ]
    },
    {
     "name": "stdout",
     "output_type": "stream",
     "text": [
      "Epoch 90, Loss 0.0468\n",
      "Training Accuracy: 0.9544, Testing Accuracy: 0.9627\n",
      "\n"
     ]
    },
    {
     "name": "stdout",
     "output_type": "stream",
     "text": [
      "Epoch 100, Loss 0.0454\n",
      "Training Accuracy: 0.9550, Testing Accuracy: 0.9632\n",
      "\n"
     ]
    },
    {
     "name": "stdout",
     "output_type": "stream",
     "text": [
      "Epoch 110, Loss 0.0442\n",
      "Training Accuracy: 0.9557, Testing Accuracy: 0.9642\n",
      "\n"
     ]
    },
    {
     "name": "stdout",
     "output_type": "stream",
     "text": [
      "Epoch 120, Loss 0.0432\n",
      "Training Accuracy: 0.9560, Testing Accuracy: 0.9652\n",
      "\n"
     ]
    },
    {
     "name": "stdout",
     "output_type": "stream",
     "text": [
      "Epoch 130, Loss 0.0423\n",
      "Training Accuracy: 0.9565, Testing Accuracy: 0.9662\n",
      "\n"
     ]
    },
    {
     "name": "stdout",
     "output_type": "stream",
     "text": [
      "Epoch 140, Loss 0.0415\n",
      "Training Accuracy: 0.9573, Testing Accuracy: 0.9662\n",
      "\n"
     ]
    },
    {
     "name": "stdout",
     "output_type": "stream",
     "text": [
      "Epoch 150, Loss 0.0408\n",
      "Training Accuracy: 0.9583, Testing Accuracy: 0.9672\n",
      "\n"
     ]
    },
    {
     "name": "stdout",
     "output_type": "stream",
     "text": [
      "Epoch 160, Loss 0.0401\n",
      "Training Accuracy: 0.9591, Testing Accuracy: 0.9667\n",
      "\n"
     ]
    },
    {
     "name": "stdout",
     "output_type": "stream",
     "text": [
      "Epoch 170, Loss 0.0395\n",
      "Training Accuracy: 0.9595, Testing Accuracy: 0.9667\n",
      "\n"
     ]
    },
    {
     "name": "stdout",
     "output_type": "stream",
     "text": [
      "Epoch 180, Loss 0.039\n",
      "Training Accuracy: 0.9598, Testing Accuracy: 0.9667\n",
      "\n"
     ]
    },
    {
     "name": "stdout",
     "output_type": "stream",
     "text": [
      "Epoch 190, Loss 0.0385\n",
      "Training Accuracy: 0.9599, Testing Accuracy: 0.9667\n",
      "\n"
     ]
    },
    {
     "name": "stdout",
     "output_type": "stream",
     "text": [
      "Epoch 200, Loss 0.038\n",
      "Training Accuracy: 0.9602, Testing Accuracy: 0.9672\n",
      "\n"
     ]
    },
    {
     "name": "stdout",
     "output_type": "stream",
     "text": [
      "Epoch 210, Loss 0.0376\n",
      "Training Accuracy: 0.9608, Testing Accuracy: 0.9672\n",
      "\n"
     ]
    },
    {
     "name": "stdout",
     "output_type": "stream",
     "text": [
      "Epoch 220, Loss 0.0372\n",
      "Training Accuracy: 0.9614, Testing Accuracy: 0.9677\n",
      "\n"
     ]
    },
    {
     "name": "stdout",
     "output_type": "stream",
     "text": [
      "Epoch 230, Loss 0.0368\n",
      "Training Accuracy: 0.9618, Testing Accuracy: 0.9677\n",
      "\n"
     ]
    },
    {
     "name": "stdout",
     "output_type": "stream",
     "text": [
      "Epoch 240, Loss 0.0365\n",
      "Training Accuracy: 0.9621, Testing Accuracy: 0.9677\n",
      "\n"
     ]
    },
    {
     "data": {
      "text/plain": [
       "0.03078535805251655"
      ]
     },
     "execution_count": 23,
     "metadata": {},
     "output_type": "execute_result"
    }
   ],
   "source": [
    "lr_learner.train_loop(dl)"
   ]
  },
  {
   "cell_type": "code",
   "execution_count": 24,
   "id": "ca410940",
   "metadata": {
    "execution": {
     "iopub.execute_input": "2022-08-17T00:46:52.349361Z",
     "iopub.status.busy": "2022-08-17T00:46:52.348737Z",
     "iopub.status.idle": "2022-08-17T00:46:52.572870Z",
     "shell.execute_reply": "2022-08-17T00:46:52.572024Z"
    },
    "papermill": {
     "duration": 0.275932,
     "end_time": "2022-08-17T00:46:52.572996",
     "exception": false,
     "start_time": "2022-08-17T00:46:52.297064",
     "status": "completed"
    },
    "tags": []
   },
   "outputs": [
    {
     "data": {
      "text/plain": [
       "<matplotlib.legend.Legend at 0x7f78d96a1fd0>"
      ]
     },
     "execution_count": 24,
     "metadata": {},
     "output_type": "execute_result"
    },
    {
     "data": {
      "image/png": "[encoded data removed]",
      "text/plain": [
       "<Figure size 1080x720 with 1 Axes>"
      ]
     },
     "metadata": {
      "needs_background": "light"
     },
     "output_type": "display_data"
    }
   ],
   "source": [
    "#comparing the results of NN and LR\n",
    "plt.figure(figsize=(15,10))\n",
    "\n",
    "# Neural Network plots\n",
    "plt.plot(acc_nn.accuracies, 'r-', label = \"Training Accuracies - NN\")\n",
    "plt.plot(acc_nn.test_accuracies, 'g-', label = \"Testing Accuracies - NN\")\n",
    "\n",
    "# Logistic Regression plots\n",
    "plt.plot(acc_lr.accuracies, 'k-', label = \"Training Accuracies - LR\")\n",
    "plt.plot(acc_lr.test_accuracies, 'b-', label = \"Testing Accuracies - LR\")\n",
    "plt.legend()"
   ]
  },
  {
   "cell_type": "markdown",
   "id": "80dfb35c",
   "metadata": {
    "papermill": {
     "duration": 0.04255,
     "end_time": "2022-08-17T00:46:52.658213",
     "exception": false,
     "start_time": "2022-08-17T00:46:52.615663",
     "status": "completed"
    },
    "tags": []
   },
   "source": [
    "#### Plotting the outputs of this layer of the NN.\n"
   ]
  },
  {
   "cell_type": "code",
   "execution_count": 25,
   "id": "45eb2ff5",
   "metadata": {
    "execution": {
     "iopub.execute_input": "2022-08-17T00:46:52.746998Z",
     "iopub.status.busy": "2022-08-17T00:46:52.746340Z",
     "iopub.status.idle": "2022-08-17T00:46:52.766822Z",
     "shell.execute_reply": "2022-08-17T00:46:52.766303Z"
    },
    "papermill": {
     "duration": 0.066535,
     "end_time": "2022-08-17T00:46:52.766951",
     "exception": false,
     "start_time": "2022-08-17T00:46:52.700416",
     "status": "completed"
    },
    "tags": []
   },
   "outputs": [],
   "source": [
    "new_model = Model(layers[:-2])\n",
    "testing_plot = new_model(testing_data_x)"
   ]
  },
  {
   "cell_type": "code",
   "execution_count": 26,
   "id": "4c0a5485",
   "metadata": {
    "execution": {
     "iopub.execute_input": "2022-08-17T00:46:52.860671Z",
     "iopub.status.busy": "2022-08-17T00:46:52.860038Z",
     "iopub.status.idle": "2022-08-17T00:46:53.050344Z",
     "shell.execute_reply": "2022-08-17T00:46:53.049393Z"
    },
    "papermill": {
     "duration": 0.24117,
     "end_time": "2022-08-17T00:46:53.050486",
     "exception": false,
     "start_time": "2022-08-17T00:46:52.809316",
     "status": "completed"
    },
    "tags": []
   },
   "outputs": [
    {
     "data": {
      "text/plain": [
       "Text(0.5, 1.0, 'Outputs')"
      ]
     },
     "execution_count": 26,
     "metadata": {},
     "output_type": "execute_result"
    },
    {
     "data": {
      "image/png": "[encoded data removed]",
      "text/plain": [
       "<Figure size 576x504 with 1 Axes>"
      ]
     },
     "metadata": {
      "needs_background": "light"
     },
     "output_type": "display_data"
    }
   ],
   "source": [
    "# Plotting the scatter plot of points and color coding by class\n",
    "plt.figure(figsize=(8,7))\n",
    "plt.scatter(testing_plot[:,0], testing_plot[:,1], alpha = 0.1, c = y_test.ravel());\n",
    "plt.title('Outputs')"
   ]
  },
  {
   "cell_type": "markdown",
   "id": "a74fcf8f",
   "metadata": {
    "papermill": {
     "duration": 0.044513,
     "end_time": "2022-08-17T00:46:53.139894",
     "exception": false,
     "start_time": "2022-08-17T00:46:53.095381",
     "status": "completed"
    },
    "tags": []
   },
   "source": [
    "Probability contours"
   ]
  },
  {
   "cell_type": "code",
   "execution_count": 27,
   "id": "d0afc8e3",
   "metadata": {
    "execution": {
     "iopub.execute_input": "2022-08-17T00:46:53.262353Z",
     "iopub.status.busy": "2022-08-17T00:46:53.261757Z",
     "iopub.status.idle": "2022-08-17T00:46:53.273880Z",
     "shell.execute_reply": "2022-08-17T00:46:53.274330Z"
    },
    "papermill": {
     "duration": 0.090477,
     "end_time": "2022-08-17T00:46:53.274460",
     "exception": false,
     "start_time": "2022-08-17T00:46:53.183983",
     "status": "completed"
    },
    "tags": []
   },
   "outputs": [],
   "source": [
    "model_prob = Model(layers[-2:]) "
   ]
  },
  {
   "cell_type": "code",
   "execution_count": 28,
   "id": "9b96e238",
   "metadata": {
    "execution": {
     "iopub.execute_input": "2022-08-17T00:46:53.372209Z",
     "iopub.status.busy": "2022-08-17T00:46:53.369510Z",
     "iopub.status.idle": "2022-08-17T00:46:53.385607Z",
     "shell.execute_reply": "2022-08-17T00:46:53.386041Z"
    },
    "papermill": {
     "duration": 0.067148,
     "end_time": "2022-08-17T00:46:53.386181",
     "exception": false,
     "start_time": "2022-08-17T00:46:53.319033",
     "status": "completed"
    },
    "tags": []
   },
   "outputs": [],
   "source": [
    "#creating the x and y ranges according to the above generated plot.\n",
    "x_range = np.linspace(-4, 1, 100) \n",
    "y_range = np.linspace(-6, 6, 100) \n",
    "x_grid, y_grid = np.meshgrid(x_range, y_range) # x_grid and y_grig are of size 100 X 100\n",
    "\n",
    "# converting x_grid and y_grid to continuous arrays\n",
    "x_gridflat = np.ravel(x_grid)\n",
    "y_gridflat = np.ravel(y_grid)\n",
    "\n",
    "# The last layer of the current model takes two columns as input. Hence transpose of np.vstack() is required.\n",
    "X = np.vstack((x_gridflat, y_gridflat)).T\n",
    "\n",
    "prob_contour = model_prob(X).reshape(100,100) "
   ]
  },
  {
   "cell_type": "code",
   "execution_count": 29,
   "id": "da72499a",
   "metadata": {
    "execution": {
     "iopub.execute_input": "2022-08-17T00:46:53.487944Z",
     "iopub.status.busy": "2022-08-17T00:46:53.487337Z",
     "iopub.status.idle": "2022-08-17T00:46:53.730090Z",
     "shell.execute_reply": "2022-08-17T00:46:53.729596Z"
    },
    "papermill": {
     "duration": 0.294954,
     "end_time": "2022-08-17T00:46:53.730212",
     "exception": false,
     "start_time": "2022-08-17T00:46:53.435258",
     "status": "completed"
    },
    "tags": []
   },
   "outputs": [
    {
     "data": {
      "image/png": "[encoded data removed]",
      "text/plain": [
       "<Figure size 720x648 with 1 Axes>"
      ]
     },
     "metadata": {
      "needs_background": "light"
     },
     "output_type": "display_data"
    }
   ],
   "source": [
    "plt.figure(figsize=(10,9))\n",
    "plt.scatter(testing_plot[:,0], testing_plot[:,1], alpha = 0.1, c = y_test.ravel())\n",
    "contours = plt.contour(x_grid,y_grid,prob_contour)\n",
    "plt.title('Probability Contours')\n",
    "plt.clabel(contours, inline = True );"
   ]
  },
  {
   "cell_type": "code",
   "execution_count": null,
   "id": "e81b4ac7",
   "metadata": {
    "papermill": {
     "duration": 0.047187,
     "end_time": "2022-08-17T00:46:53.824610",
     "exception": false,
     "start_time": "2022-08-17T00:46:53.777423",
     "status": "completed"
    },
    "tags": []
   },
   "outputs": [],
   "source": []
  }
 ],
 "metadata": {
  "kernelspec": {
   "display_name": "Python 3",
   "language": "python",
   "name": "python3"
  },
  "language_info": {
   "codemirror_mode": {
    "name": "ipython",
    "version": 3
   },
   "file_extension": ".py",
   "mimetype": "text/x-python",
   "name": "python",
   "nbconvert_exporter": "python",
   "pygments_lexer": "ipython3",
   "version": "3.6.15"
  },
  "papermill": {
   "default_parameters": {},
   "duration": 100.314988,
   "end_time": "2022-08-17T00:46:54.290471",
   "environment_variables": {},
   "exception": null,
   "input_path": "2020-08-11-part2.ipynb",
   "output_path": "2020-08-11-part2.ipynb",
   "parameters": {},
   "start_time": "2022-08-17T00:45:13.975483",
   "version": "2.3.3"
  }
 },
 "nbformat": 4,
 "nbformat_minor": 5
}