{
 "cells": [
  {
   "cell_type": "markdown",
   "id": "98380cd3",
   "metadata": {
    "papermill": {
     "duration": 0.036586,
     "end_time": "2021-10-14T00:21:29.528144",
     "exception": false,
     "start_time": "2021-10-14T00:21:29.491558",
     "status": "completed"
    },
    "tags": []
   },
   "source": [
    "# Distinguish Your Own Digits (DYOD)"
   ]
  },
  {
   "cell_type": "markdown",
   "id": "ef31240d",
   "metadata": {
    "papermill": {
     "duration": 0.033602,
     "end_time": "2021-10-14T00:21:29.597036",
     "exception": false,
     "start_time": "2021-10-14T00:21:29.563434",
     "status": "completed"
    },
    "tags": []
   },
   "source": [
    "You are going to write a classifier that distinguishes between the number 3 and number 8."
   ]
  },
  {
   "cell_type": "code",
   "execution_count": 1,
   "id": "b15c8646",
   "metadata": {
    "execution": {
     "iopub.execute_input": "2021-10-14T00:21:29.679088Z",
     "iopub.status.busy": "2021-10-14T00:21:29.678425Z",
     "iopub.status.idle": "2021-10-14T00:21:29.691187Z",
     "shell.execute_reply": "2021-10-14T00:21:29.690641Z"
    },
    "papermill": {
     "duration": 0.061022,
     "end_time": "2021-10-14T00:21:29.691495",
     "exception": false,
     "start_time": "2021-10-14T00:21:29.630473",
     "status": "completed"
    },
    "tags": []
   },
   "outputs": [],
   "source": [
    "%load_ext autoreload\n",
    "%autoreload 2"
   ]
  },
  {
   "cell_type": "code",
   "execution_count": 2,
   "id": "22ef38dc",
   "metadata": {
    "execution": {
     "iopub.execute_input": "2021-10-14T00:21:29.759293Z",
     "iopub.status.busy": "2021-10-14T00:21:29.758392Z",
     "iopub.status.idle": "2021-10-14T00:21:30.442373Z",
     "shell.execute_reply": "2021-10-14T00:21:30.441217Z"
    },
    "papermill": {
     "duration": 0.720711,
     "end_time": "2021-10-14T00:21:30.443152",
     "exception": false,
     "start_time": "2021-10-14T00:21:29.722441",
     "status": "completed"
    },
    "tags": []
   },
   "outputs": [],
   "source": [
    "%matplotlib inline\n",
    "import numpy as np\n",
    "import matplotlib.pyplot as plt\n",
    "import pandas as pd"
   ]
  },
  {
   "cell_type": "markdown",
   "id": "ba036198",
   "metadata": {
    "papermill": {
     "duration": 0.034621,
     "end_time": "2021-10-14T00:21:30.517876",
     "exception": false,
     "start_time": "2021-10-14T00:21:30.483255",
     "status": "completed"
    },
    "tags": []
   },
   "source": [
    "From the command line run `pip install mnist`. This is a library that will help you bring down the mnist dataset. If you run this from a notebook, you need to put  `!pip install mnist` in a cell by itself."
   ]
  },
  {
   "cell_type": "code",
   "execution_count": 3,
   "id": "bb6ad8a1",
   "metadata": {
    "execution": {
     "iopub.execute_input": "2021-10-14T00:21:30.587087Z",
     "iopub.status.busy": "2021-10-14T00:21:30.586328Z",
     "iopub.status.idle": "2021-10-14T00:21:32.741854Z",
     "shell.execute_reply": "2021-10-14T00:21:32.742446Z"
    },
    "papermill": {
     "duration": 2.193019,
     "end_time": "2021-10-14T00:21:32.742631",
     "exception": false,
     "start_time": "2021-10-14T00:21:30.549612",
     "status": "completed"
    },
    "tags": []
   },
   "outputs": [
    {
     "name": "stdout",
     "output_type": "stream",
     "text": [
      "Collecting mnist\r\n"
     ]
    },
    {
     "name": "stdout",
     "output_type": "stream",
     "text": [
      "  Downloading mnist-0.2.2-py2.py3-none-any.whl (3.5 kB)\r\n",
      "Requirement already satisfied: numpy in /opt/hostedtoolcache/Python/3.6.15/x64/lib/python3.6/site-packages (from mnist) (1.19.5)\r\n"
     ]
    },
    {
     "name": "stdout",
     "output_type": "stream",
     "text": [
      "Installing collected packages: mnist\r\n"
     ]
    },
    {
     "name": "stdout",
     "output_type": "stream",
     "text": [
      "Successfully installed mnist-0.2.2\r\n"
     ]
    },
    {
     "name": "stdout",
     "output_type": "stream",
     "text": [
      "\u001b[33mWARNING: You are using pip version 21.2.4; however, version 21.3 is available.\r\n",
      "You should consider upgrading via the '/opt/hostedtoolcache/Python/3.6.15/x64/bin/python -m pip install --upgrade pip' command.\u001b[0m\r\n"
     ]
    }
   ],
   "source": [
    "!pip install mnist"
   ]
  },
  {
   "cell_type": "markdown",
   "id": "69df9c9a",
   "metadata": {
    "papermill": {
     "duration": 0.037316,
     "end_time": "2021-10-14T00:21:32.816361",
     "exception": false,
     "start_time": "2021-10-14T00:21:32.779045",
     "status": "completed"
    },
    "tags": []
   },
   "source": [
    "## Preparing the Data"
   ]
  },
  {
   "cell_type": "code",
   "execution_count": 4,
   "id": "7f69d806",
   "metadata": {
    "execution": {
     "iopub.execute_input": "2021-10-14T00:21:32.889091Z",
     "iopub.status.busy": "2021-10-14T00:21:32.887997Z",
     "iopub.status.idle": "2021-10-14T00:21:32.904682Z",
     "shell.execute_reply": "2021-10-14T00:21:32.905185Z"
    },
    "papermill": {
     "duration": 0.056959,
     "end_time": "2021-10-14T00:21:32.905354",
     "exception": false,
     "start_time": "2021-10-14T00:21:32.848395",
     "status": "completed"
    },
    "tags": []
   },
   "outputs": [],
   "source": [
    "import mnist"
   ]
  },
  {
   "cell_type": "code",
   "execution_count": 5,
   "id": "a411e44f",
   "metadata": {
    "execution": {
     "iopub.execute_input": "2021-10-14T00:21:32.979337Z",
     "iopub.status.busy": "2021-10-14T00:21:32.978670Z",
     "iopub.status.idle": "2021-10-14T00:21:33.705403Z",
     "shell.execute_reply": "2021-10-14T00:21:33.704713Z"
    },
    "papermill": {
     "duration": 0.768254,
     "end_time": "2021-10-14T00:21:33.705593",
     "exception": false,
     "start_time": "2021-10-14T00:21:32.937339",
     "status": "completed"
    },
    "tags": []
   },
   "outputs": [],
   "source": [
    "train_images = mnist.train_images()\n",
    "train_labels = mnist.train_labels()"
   ]
  },
  {
   "cell_type": "code",
   "execution_count": 6,
   "id": "dceab3a5",
   "metadata": {
    "execution": {
     "iopub.execute_input": "2021-10-14T00:21:33.787416Z",
     "iopub.status.busy": "2021-10-14T00:21:33.786720Z",
     "iopub.status.idle": "2021-10-14T00:21:33.798163Z",
     "shell.execute_reply": "2021-10-14T00:21:33.798675Z"
    },
    "papermill": {
     "duration": 0.059951,
     "end_time": "2021-10-14T00:21:33.798842",
     "exception": false,
     "start_time": "2021-10-14T00:21:33.738891",
     "status": "completed"
    },
    "tags": []
   },
   "outputs": [
    {
     "data": {
      "text/plain": [
       "((60000, 28, 28), (60000,))"
      ]
     },
     "execution_count": 6,
     "metadata": {},
     "output_type": "execute_result"
    }
   ],
   "source": [
    "train_images.shape, train_labels.shape"
   ]
  },
  {
   "cell_type": "code",
   "execution_count": 7,
   "id": "f50dc2bb",
   "metadata": {
    "execution": {
     "iopub.execute_input": "2021-10-14T00:21:33.869261Z",
     "iopub.status.busy": "2021-10-14T00:21:33.868628Z",
     "iopub.status.idle": "2021-10-14T00:21:34.092553Z",
     "shell.execute_reply": "2021-10-14T00:21:34.091968Z"
    },
    "papermill": {
     "duration": 0.257074,
     "end_time": "2021-10-14T00:21:34.092692",
     "exception": false,
     "start_time": "2021-10-14T00:21:33.835618",
     "status": "completed"
    },
    "tags": []
   },
   "outputs": [],
   "source": [
    "test_images = mnist.test_images()\n",
    "test_labels = mnist.test_labels()"
   ]
  },
  {
   "cell_type": "code",
   "execution_count": 8,
   "id": "fc38cf1b",
   "metadata": {
    "execution": {
     "iopub.execute_input": "2021-10-14T00:21:34.169342Z",
     "iopub.status.busy": "2021-10-14T00:21:34.168485Z",
     "iopub.status.idle": "2021-10-14T00:21:34.189335Z",
     "shell.execute_reply": "2021-10-14T00:21:34.188776Z"
    },
    "papermill": {
     "duration": 0.060563,
     "end_time": "2021-10-14T00:21:34.189473",
     "exception": false,
     "start_time": "2021-10-14T00:21:34.128910",
     "status": "completed"
    },
    "tags": []
   },
   "outputs": [
    {
     "data": {
      "text/plain": [
       "((10000, 28, 28), (10000,))"
      ]
     },
     "execution_count": 8,
     "metadata": {},
     "output_type": "execute_result"
    }
   ],
   "source": [
    "test_images.shape, test_labels.shape"
   ]
  },
  {
   "cell_type": "code",
   "execution_count": 9,
   "id": "f9ed8fe0",
   "metadata": {
    "execution": {
     "iopub.execute_input": "2021-10-14T00:21:34.253705Z",
     "iopub.status.busy": "2021-10-14T00:21:34.252982Z",
     "iopub.status.idle": "2021-10-14T00:21:34.435095Z",
     "shell.execute_reply": "2021-10-14T00:21:34.435647Z"
    },
    "papermill": {
     "duration": 0.216641,
     "end_time": "2021-10-14T00:21:34.435852",
     "exception": false,
     "start_time": "2021-10-14T00:21:34.219211",
     "status": "completed"
    },
    "tags": []
   },
   "outputs": [
    {
     "name": "stdout",
     "output_type": "stream",
     "text": [
      "2\n"
     ]
    },
    {
     "data": {
      "text/plain": [
       "<matplotlib.image.AxesImage at 0x7fed0fed7780>"
      ]
     },
     "execution_count": 9,
     "metadata": {},
     "output_type": "execute_result"
    },
    {
     "data": {
      "image/png": "[encoded data removed]",
      "text/plain": [
       "<Figure size 432x288 with 1 Axes>"
      ]
     },
     "metadata": {
      "needs_background": "light"
     },
     "output_type": "display_data"
    }
   ],
   "source": [
    "image_index = 7776 # You may select anything up to 60,000\n",
    "print(train_labels[image_index]) \n",
    "plt.imshow(train_images[image_index], cmap='Greys')"
   ]
  },
  {
   "cell_type": "markdown",
   "id": "a8d2388d",
   "metadata": {
    "papermill": {
     "duration": 0.034075,
     "end_time": "2021-10-14T00:21:34.503118",
     "exception": false,
     "start_time": "2021-10-14T00:21:34.469043",
     "status": "completed"
    },
    "tags": []
   },
   "source": [
    "## Filter data to get 3 and 8 out"
   ]
  },
  {
   "cell_type": "code",
   "execution_count": 10,
   "id": "776f7fc7",
   "metadata": {
    "execution": {
     "iopub.execute_input": "2021-10-14T00:21:34.571824Z",
     "iopub.status.busy": "2021-10-14T00:21:34.571206Z",
     "iopub.status.idle": "2021-10-14T00:21:34.589869Z",
     "shell.execute_reply": "2021-10-14T00:21:34.589359Z"
    },
    "papermill": {
     "duration": 0.055419,
     "end_time": "2021-10-14T00:21:34.590001",
     "exception": false,
     "start_time": "2021-10-14T00:21:34.534582",
     "status": "completed"
    },
    "tags": []
   },
   "outputs": [],
   "source": [
    "train_filter = np.where((train_labels == 3 ) | (train_labels == 8))\n",
    "test_filter = np.where((test_labels == 3) | (test_labels == 8))\n",
    "X_train, y_train = train_images[train_filter], train_labels[train_filter]\n",
    "X_test, y_test = test_images[test_filter], test_labels[test_filter]"
   ]
  },
  {
   "cell_type": "markdown",
   "id": "948f0b7e",
   "metadata": {
    "papermill": {
     "duration": 0.032719,
     "end_time": "2021-10-14T00:21:34.655118",
     "exception": false,
     "start_time": "2021-10-14T00:21:34.622399",
     "status": "completed"
    },
    "tags": []
   },
   "source": [
    "We normalize the pizel values in the 0 to 1 range"
   ]
  },
  {
   "cell_type": "code",
   "execution_count": 11,
   "id": "ee4c2166",
   "metadata": {
    "execution": {
     "iopub.execute_input": "2021-10-14T00:21:34.726808Z",
     "iopub.status.busy": "2021-10-14T00:21:34.726137Z",
     "iopub.status.idle": "2021-10-14T00:21:34.781981Z",
     "shell.execute_reply": "2021-10-14T00:21:34.781434Z"
    },
    "papermill": {
     "duration": 0.095303,
     "end_time": "2021-10-14T00:21:34.782126",
     "exception": false,
     "start_time": "2021-10-14T00:21:34.686823",
     "status": "completed"
    },
    "tags": []
   },
   "outputs": [],
   "source": [
    "X_train = X_train/255.\n",
    "X_test = X_test/255."
   ]
  },
  {
   "cell_type": "markdown",
   "id": "ddcf4fab",
   "metadata": {
    "papermill": {
     "duration": 0.031702,
     "end_time": "2021-10-14T00:21:34.845909",
     "exception": false,
     "start_time": "2021-10-14T00:21:34.814207",
     "status": "completed"
    },
    "tags": []
   },
   "source": [
    "And setup the labels as 1 (when the digit is 3) and 0 (when the digit is 8)"
   ]
  },
  {
   "cell_type": "code",
   "execution_count": 12,
   "id": "7dc908f2",
   "metadata": {
    "execution": {
     "iopub.execute_input": "2021-10-14T00:21:34.914891Z",
     "iopub.status.busy": "2021-10-14T00:21:34.914270Z",
     "iopub.status.idle": "2021-10-14T00:21:34.928567Z",
     "shell.execute_reply": "2021-10-14T00:21:34.927945Z"
    },
    "papermill": {
     "duration": 0.051005,
     "end_time": "2021-10-14T00:21:34.928701",
     "exception": false,
     "start_time": "2021-10-14T00:21:34.877696",
     "status": "completed"
    },
    "tags": []
   },
   "outputs": [],
   "source": [
    "y_train = 1*(y_train==3)\n",
    "y_test = 1*(y_test==3)"
   ]
  },
  {
   "cell_type": "code",
   "execution_count": 13,
   "id": "01e4e969",
   "metadata": {
    "execution": {
     "iopub.execute_input": "2021-10-14T00:21:34.998330Z",
     "iopub.status.busy": "2021-10-14T00:21:34.997736Z",
     "iopub.status.idle": "2021-10-14T00:21:35.012986Z",
     "shell.execute_reply": "2021-10-14T00:21:35.013531Z"
    },
    "papermill": {
     "duration": 0.051689,
     "end_time": "2021-10-14T00:21:35.013678",
     "exception": false,
     "start_time": "2021-10-14T00:21:34.961989",
     "status": "completed"
    },
    "tags": []
   },
   "outputs": [
    {
     "data": {
      "text/plain": [
       "((11982, 28, 28), (1984, 28, 28))"
      ]
     },
     "execution_count": 13,
     "metadata": {},
     "output_type": "execute_result"
    }
   ],
   "source": [
    "X_train.shape, X_test.shape"
   ]
  },
  {
   "cell_type": "markdown",
   "id": "5ccf3f85",
   "metadata": {
    "papermill": {
     "duration": 0.032035,
     "end_time": "2021-10-14T00:21:35.081132",
     "exception": false,
     "start_time": "2021-10-14T00:21:35.049097",
     "status": "completed"
    },
    "tags": []
   },
   "source": [
    "We reshape the data to flatten the image pixels into a set of features or co-variates:"
   ]
  },
  {
   "cell_type": "code",
   "execution_count": 14,
   "id": "5286a4a3",
   "metadata": {
    "execution": {
     "iopub.execute_input": "2021-10-14T00:21:35.152083Z",
     "iopub.status.busy": "2021-10-14T00:21:35.151406Z",
     "iopub.status.idle": "2021-10-14T00:21:35.167698Z",
     "shell.execute_reply": "2021-10-14T00:21:35.167214Z"
    },
    "papermill": {
     "duration": 0.054123,
     "end_time": "2021-10-14T00:21:35.167830",
     "exception": false,
     "start_time": "2021-10-14T00:21:35.113707",
     "status": "completed"
    },
    "tags": []
   },
   "outputs": [
    {
     "data": {
      "text/plain": [
       "((11982, 784), (1984, 784))"
      ]
     },
     "execution_count": 14,
     "metadata": {},
     "output_type": "execute_result"
    }
   ],
   "source": [
    "X_train = X_train.reshape(X_train.shape[0], -1)\n",
    "X_test = X_test.reshape(X_test.shape[0], -1)\n",
    "X_train.shape, X_test.shape"
   ]
  },
  {
   "cell_type": "code",
   "execution_count": 15,
   "id": "73c5f88a",
   "metadata": {
    "execution": {
     "iopub.execute_input": "2021-10-14T00:21:35.245819Z",
     "iopub.status.busy": "2021-10-14T00:21:35.244837Z",
     "iopub.status.idle": "2021-10-14T00:21:35.268024Z",
     "shell.execute_reply": "2021-10-14T00:21:35.267494Z"
    },
    "papermill": {
     "duration": 0.063007,
     "end_time": "2021-10-14T00:21:35.268154",
     "exception": false,
     "start_time": "2021-10-14T00:21:35.205147",
     "status": "completed"
    },
    "tags": []
   },
   "outputs": [],
   "source": [
    "#Impoting functions from 'Kudzu'\n",
    "from kudzu.model import Model\n",
    "from kudzu.train import Learner\n",
    "from kudzu.optim import GD\n",
    "from kudzu.data import Data, Sampler,Dataloader\n",
    "\n",
    "from kudzu.callbacks import AccCallback\n",
    "from kudzu.callbacks import ClfCallback\n",
    "\n",
    "from kudzu.loss import MSE\n",
    "\n",
    "from kudzu.layer import Sigmoid,Relu\n",
    "from kudzu.layer import Affine"
   ]
  },
  {
   "cell_type": "markdown",
   "id": "bc01172a",
   "metadata": {
    "papermill": {
     "duration": 0.038376,
     "end_time": "2021-10-14T00:21:35.339975",
     "exception": false,
     "start_time": "2021-10-14T00:21:35.301599",
     "status": "completed"
    },
    "tags": []
   },
   "source": [
    "### Let us create a `Config` class, to store important parameters. \n",
    "This class essentially plays the role of a dictionary."
   ]
  },
  {
   "cell_type": "code",
   "execution_count": 16,
   "id": "978281aa",
   "metadata": {
    "execution": {
     "iopub.execute_input": "2021-10-14T00:21:35.407300Z",
     "iopub.status.busy": "2021-10-14T00:21:35.406643Z",
     "iopub.status.idle": "2021-10-14T00:21:35.419729Z",
     "shell.execute_reply": "2021-10-14T00:21:35.420251Z"
    },
    "papermill": {
     "duration": 0.048679,
     "end_time": "2021-10-14T00:21:35.420400",
     "exception": false,
     "start_time": "2021-10-14T00:21:35.371721",
     "status": "completed"
    },
    "tags": []
   },
   "outputs": [],
   "source": [
    "class Config:\n",
    "    pass\n",
    "config = Config()\n",
    "config.lr = 0.001\n",
    "config.num_epochs = 250\n",
    "config.bs = 50"
   ]
  },
  {
   "cell_type": "markdown",
   "id": "1385fa59",
   "metadata": {
    "papermill": {
     "duration": 0.033603,
     "end_time": "2021-10-14T00:21:35.487263",
     "exception": false,
     "start_time": "2021-10-14T00:21:35.453660",
     "status": "completed"
    },
    "tags": []
   },
   "source": [
    "### Running Models with the Training data\n",
    "Details about the network layers:\n",
    "- A first affine layer has 784 inputs and does 100 affine transforms. These are followed by a Relu\n",
    "- A second affine layer has 100 inputs from the 100 activations of the past layer, and does 100 affine transforms. These are followed by a Relu\n",
    "- A third affine layer has 100 activations and does 2 affine transformations to create an embedding for visualization. There is no non-linearity here.\n",
    "- A final \"logistic regression\" which has an affine transform from 2 inputs to 1 output, which is squeezed through a sigmoid.\n"
   ]
  },
  {
   "cell_type": "code",
   "execution_count": 17,
   "id": "2b9c66db",
   "metadata": {
    "execution": {
     "iopub.execute_input": "2021-10-14T00:21:35.558892Z",
     "iopub.status.busy": "2021-10-14T00:21:35.558195Z",
     "iopub.status.idle": "2021-10-14T00:21:35.572586Z",
     "shell.execute_reply": "2021-10-14T00:21:35.572082Z"
    },
    "papermill": {
     "duration": 0.05315,
     "end_time": "2021-10-14T00:21:35.572717",
     "exception": false,
     "start_time": "2021-10-14T00:21:35.519567",
     "status": "completed"
    },
    "tags": []
   },
   "outputs": [],
   "source": [
    "data = Data(X_train, y_train.reshape(-1,1))\n",
    "sampler = Sampler(data, config.bs, shuffle=True)\n",
    "\n",
    "dl = Dataloader(data, sampler)\n",
    "\n",
    "opt = GD(config.lr)\n",
    "loss = MSE()"
   ]
  },
  {
   "cell_type": "code",
   "execution_count": 18,
   "id": "b275e4c2",
   "metadata": {
    "execution": {
     "iopub.execute_input": "2021-10-14T00:21:35.644764Z",
     "iopub.status.busy": "2021-10-14T00:21:35.642760Z",
     "iopub.status.idle": "2021-10-14T00:21:35.656947Z",
     "shell.execute_reply": "2021-10-14T00:21:35.656415Z"
    },
    "papermill": {
     "duration": 0.051237,
     "end_time": "2021-10-14T00:21:35.657107",
     "exception": false,
     "start_time": "2021-10-14T00:21:35.605870",
     "status": "completed"
    },
    "tags": []
   },
   "outputs": [],
   "source": [
    "training_data_x = X_train\n",
    "testing_data_x = X_test\n",
    "training_data_y = y_train.reshape(-1,1)\n",
    "testing_data_y = y_test.reshape(-1,1)"
   ]
  },
  {
   "cell_type": "code",
   "execution_count": 19,
   "id": "76951160",
   "metadata": {
    "execution": {
     "iopub.execute_input": "2021-10-14T00:21:35.725220Z",
     "iopub.status.busy": "2021-10-14T00:21:35.724575Z",
     "iopub.status.idle": "2021-10-14T00:21:35.747525Z",
     "shell.execute_reply": "2021-10-14T00:21:35.747014Z"
    },
    "papermill": {
     "duration": 0.059472,
     "end_time": "2021-10-14T00:21:35.747653",
     "exception": false,
     "start_time": "2021-10-14T00:21:35.688181",
     "status": "completed"
    },
    "tags": []
   },
   "outputs": [
    {
     "name": "stdout",
     "output_type": "stream",
     "text": [
      "xavier\n",
      "xavier\n",
      "xavier\n",
      "xavier\n",
      "xavier\n"
     ]
    }
   ],
   "source": [
    "layers = [Affine(\"first\", 784, 100), Relu(\"first\"), Affine(\"second\", 100, 100), Relu(\"second\"), Affine(\"third\", 100, 2), Affine(\"last\", 2, 1), Sigmoid(\"last\")]\n",
    "model_nn = Model(layers)\n",
    "model_lr = Model([Affine(\"logits\", 784, 1), Sigmoid(\"sigmoid\")])"
   ]
  },
  {
   "cell_type": "code",
   "execution_count": 20,
   "id": "6eede77a",
   "metadata": {
    "execution": {
     "iopub.execute_input": "2021-10-14T00:21:35.818469Z",
     "iopub.status.busy": "2021-10-14T00:21:35.817866Z",
     "iopub.status.idle": "2021-10-14T00:21:35.836268Z",
     "shell.execute_reply": "2021-10-14T00:21:35.835376Z"
    },
    "papermill": {
     "duration": 0.054881,
     "end_time": "2021-10-14T00:21:35.836521",
     "exception": false,
     "start_time": "2021-10-14T00:21:35.781640",
     "status": "completed"
    },
    "tags": []
   },
   "outputs": [],
   "source": [
    "nn_learner = Learner(loss, model_nn, opt, config.num_epochs)\n",
    "acc_nn = ClfCallback(nn_learner, config.bs, training_data_x , testing_data_x, training_data_y, testing_data_y)\n",
    "nn_learner.set_callbacks([acc_nn])"
   ]
  },
  {
   "cell_type": "code",
   "execution_count": 21,
   "id": "877b6cc7",
   "metadata": {
    "execution": {
     "iopub.execute_input": "2021-10-14T00:21:35.911121Z",
     "iopub.status.busy": "2021-10-14T00:21:35.910455Z",
     "iopub.status.idle": "2021-10-14T00:21:35.925381Z",
     "shell.execute_reply": "2021-10-14T00:21:35.924851Z"
    },
    "papermill": {
     "duration": 0.055616,
     "end_time": "2021-10-14T00:21:35.925519",
     "exception": false,
     "start_time": "2021-10-14T00:21:35.869903",
     "status": "completed"
    },
    "tags": []
   },
   "outputs": [],
   "source": [
    "lr_learner = Learner(loss, model_lr, opt, config.num_epochs)\n",
    "acc_lr = ClfCallback(lr_learner, config.bs, training_data_x , testing_data_x, training_data_y, testing_data_y)\n",
    "lr_learner.set_callbacks([acc_lr])"
   ]
  },
  {
   "cell_type": "code",
   "execution_count": 22,
   "id": "d9b133c3",
   "metadata": {
    "execution": {
     "iopub.execute_input": "2021-10-14T00:21:35.999865Z",
     "iopub.status.busy": "2021-10-14T00:21:35.999226Z",
     "iopub.status.idle": "2021-10-14T00:23:21.189347Z",
     "shell.execute_reply": "2021-10-14T00:23:21.190201Z"
    },
    "papermill": {
     "duration": 105.228768,
     "end_time": "2021-10-14T00:23:21.190364",
     "exception": false,
     "start_time": "2021-10-14T00:21:35.961596",
     "status": "completed"
    },
    "tags": []
   },
   "outputs": [
    {
     "name": "stdout",
     "output_type": "stream",
     "text": [
      "Epoch 0, Loss 0.2517\n",
      "Training Accuracy: 0.5357, Testing Accuracy: 0.5580\n",
      "\n"
     ]
    },
    {
     "name": "stdout",
     "output_type": "stream",
     "text": [
      "Epoch 10, Loss 0.1582\n",
      "Training Accuracy: 0.9000, Testing Accuracy: 0.9158\n",
      "\n"
     ]
    },
    {
     "name": "stdout",
     "output_type": "stream",
     "text": [
      "Epoch 20, Loss 0.077\n",
      "Training Accuracy: 0.9280, Testing Accuracy: 0.9430\n",
      "\n"
     ]
    },
    {
     "name": "stdout",
     "output_type": "stream",
     "text": [
      "Epoch 30, Loss 0.0533\n",
      "Training Accuracy: 0.9429, Testing Accuracy: 0.9536\n",
      "\n"
     ]
    },
    {
     "name": "stdout",
     "output_type": "stream",
     "text": [
      "Epoch 40, Loss 0.0434\n",
      "Training Accuracy: 0.9513, Testing Accuracy: 0.9607\n",
      "\n"
     ]
    },
    {
     "name": "stdout",
     "output_type": "stream",
     "text": [
      "Epoch 50, Loss 0.0381\n",
      "Training Accuracy: 0.9564, Testing Accuracy: 0.9627\n",
      "\n"
     ]
    },
    {
     "name": "stdout",
     "output_type": "stream",
     "text": [
      "Epoch 60, Loss 0.0348\n",
      "Training Accuracy: 0.9595, Testing Accuracy: 0.9672\n",
      "\n"
     ]
    },
    {
     "name": "stdout",
     "output_type": "stream",
     "text": [
      "Epoch 70, Loss 0.0325\n",
      "Training Accuracy: 0.9611, Testing Accuracy: 0.9698\n",
      "\n"
     ]
    },
    {
     "name": "stdout",
     "output_type": "stream",
     "text": [
      "Epoch 80, Loss 0.0307\n",
      "Training Accuracy: 0.9639, Testing Accuracy: 0.9698\n",
      "\n"
     ]
    },
    {
     "name": "stdout",
     "output_type": "stream",
     "text": [
      "Epoch 90, Loss 0.0293\n",
      "Training Accuracy: 0.9653, Testing Accuracy: 0.9693\n",
      "\n"
     ]
    },
    {
     "name": "stdout",
     "output_type": "stream",
     "text": [
      "Epoch 100, Loss 0.0281\n",
      "Training Accuracy: 0.9669, Testing Accuracy: 0.9688\n",
      "\n"
     ]
    },
    {
     "name": "stdout",
     "output_type": "stream",
     "text": [
      "Epoch 110, Loss 0.0271\n",
      "Training Accuracy: 0.9678, Testing Accuracy: 0.9698\n",
      "\n"
     ]
    },
    {
     "name": "stdout",
     "output_type": "stream",
     "text": [
      "Epoch 120, Loss 0.0262\n",
      "Training Accuracy: 0.9689, Testing Accuracy: 0.9698\n",
      "\n"
     ]
    },
    {
     "name": "stdout",
     "output_type": "stream",
     "text": [
      "Epoch 130, Loss 0.0254\n",
      "Training Accuracy: 0.9700, Testing Accuracy: 0.9698\n",
      "\n"
     ]
    },
    {
     "name": "stdout",
     "output_type": "stream",
     "text": [
      "Epoch 140, Loss 0.0247\n",
      "Training Accuracy: 0.9711, Testing Accuracy: 0.9698\n",
      "\n"
     ]
    },
    {
     "name": "stdout",
     "output_type": "stream",
     "text": [
      "Epoch 150, Loss 0.024\n",
      "Training Accuracy: 0.9718, Testing Accuracy: 0.9708\n",
      "\n"
     ]
    },
    {
     "name": "stdout",
     "output_type": "stream",
     "text": [
      "Epoch 160, Loss 0.0234\n",
      "Training Accuracy: 0.9723, Testing Accuracy: 0.9728\n",
      "\n"
     ]
    },
    {
     "name": "stdout",
     "output_type": "stream",
     "text": [
      "Epoch 170, Loss 0.0228\n",
      "Training Accuracy: 0.9726, Testing Accuracy: 0.9738\n",
      "\n"
     ]
    },
    {
     "name": "stdout",
     "output_type": "stream",
     "text": [
      "Epoch 180, Loss 0.0223\n",
      "Training Accuracy: 0.9737, Testing Accuracy: 0.9738\n",
      "\n"
     ]
    },
    {
     "name": "stdout",
     "output_type": "stream",
     "text": [
      "Epoch 190, Loss 0.0218\n",
      "Training Accuracy: 0.9743, Testing Accuracy: 0.9743\n",
      "\n"
     ]
    },
    {
     "name": "stdout",
     "output_type": "stream",
     "text": [
      "Epoch 200, Loss 0.0213\n",
      "Training Accuracy: 0.9755, Testing Accuracy: 0.9743\n",
      "\n"
     ]
    },
    {
     "name": "stdout",
     "output_type": "stream",
     "text": [
      "Epoch 210, Loss 0.0209\n",
      "Training Accuracy: 0.9760, Testing Accuracy: 0.9738\n",
      "\n"
     ]
    },
    {
     "name": "stdout",
     "output_type": "stream",
     "text": [
      "Epoch 220, Loss 0.0204\n",
      "Training Accuracy: 0.9765, Testing Accuracy: 0.9748\n",
      "\n"
     ]
    },
    {
     "name": "stdout",
     "output_type": "stream",
     "text": [
      "Epoch 230, Loss 0.02\n",
      "Training Accuracy: 0.9768, Testing Accuracy: 0.9748\n",
      "\n"
     ]
    },
    {
     "name": "stdout",
     "output_type": "stream",
     "text": [
      "Epoch 240, Loss 0.0196\n",
      "Training Accuracy: 0.9774, Testing Accuracy: 0.9753\n",
      "\n"
     ]
    },
    {
     "data": {
      "text/plain": [
       "0.02183167392707596"
      ]
     },
     "execution_count": 22,
     "metadata": {},
     "output_type": "execute_result"
    }
   ],
   "source": [
    "nn_learner.train_loop(dl)"
   ]
  },
  {
   "cell_type": "code",
   "execution_count": 23,
   "id": "e0163366",
   "metadata": {
    "execution": {
     "iopub.execute_input": "2021-10-14T00:23:21.298678Z",
     "iopub.status.busy": "2021-10-14T00:23:21.298066Z",
     "iopub.status.idle": "2021-10-14T00:23:41.118849Z",
     "shell.execute_reply": "2021-10-14T00:23:41.119712Z"
    },
    "papermill": {
     "duration": 19.873344,
     "end_time": "2021-10-14T00:23:41.119875",
     "exception": false,
     "start_time": "2021-10-14T00:23:21.246531",
     "status": "completed"
    },
    "tags": []
   },
   "outputs": [
    {
     "name": "stdout",
     "output_type": "stream",
     "text": [
      "Epoch 0, Loss 0.2886\n",
      "Training Accuracy: 0.5209, Testing Accuracy: 0.5312\n",
      "\n"
     ]
    },
    {
     "name": "stdout",
     "output_type": "stream",
     "text": [
      "Epoch 10, Loss 0.108\n",
      "Training Accuracy: 0.8995, Testing Accuracy: 0.9078\n",
      "\n"
     ]
    },
    {
     "name": "stdout",
     "output_type": "stream",
     "text": [
      "Epoch 20, Loss 0.0818\n",
      "Training Accuracy: 0.9227, Testing Accuracy: 0.9345\n",
      "\n"
     ]
    },
    {
     "name": "stdout",
     "output_type": "stream",
     "text": [
      "Epoch 30, Loss 0.07\n",
      "Training Accuracy: 0.9333, Testing Accuracy: 0.9435\n",
      "\n"
     ]
    },
    {
     "name": "stdout",
     "output_type": "stream",
     "text": [
      "Epoch 40, Loss 0.063\n",
      "Training Accuracy: 0.9392, Testing Accuracy: 0.9491\n",
      "\n"
     ]
    },
    {
     "name": "stdout",
     "output_type": "stream",
     "text": [
      "Epoch 50, Loss 0.0583\n",
      "Training Accuracy: 0.9423, Testing Accuracy: 0.9536\n",
      "\n"
     ]
    },
    {
     "name": "stdout",
     "output_type": "stream",
     "text": [
      "Epoch 60, Loss 0.0548\n",
      "Training Accuracy: 0.9461, Testing Accuracy: 0.9556\n",
      "\n"
     ]
    },
    {
     "name": "stdout",
     "output_type": "stream",
     "text": [
      "Epoch 70, Loss 0.0521\n",
      "Training Accuracy: 0.9478, Testing Accuracy: 0.9567\n",
      "\n"
     ]
    },
    {
     "name": "stdout",
     "output_type": "stream",
     "text": [
      "Epoch 80, Loss 0.05\n",
      "Training Accuracy: 0.9497, Testing Accuracy: 0.9582\n",
      "\n"
     ]
    },
    {
     "name": "stdout",
     "output_type": "stream",
     "text": [
      "Epoch 90, Loss 0.0482\n",
      "Training Accuracy: 0.9505, Testing Accuracy: 0.9602\n",
      "\n"
     ]
    },
    {
     "name": "stdout",
     "output_type": "stream",
     "text": [
      "Epoch 100, Loss 0.0468\n",
      "Training Accuracy: 0.9518, Testing Accuracy: 0.9612\n",
      "\n"
     ]
    },
    {
     "name": "stdout",
     "output_type": "stream",
     "text": [
      "Epoch 110, Loss 0.0455\n",
      "Training Accuracy: 0.9528, Testing Accuracy: 0.9612\n",
      "\n"
     ]
    },
    {
     "name": "stdout",
     "output_type": "stream",
     "text": [
      "Epoch 120, Loss 0.0444\n",
      "Training Accuracy: 0.9535, Testing Accuracy: 0.9632\n",
      "\n"
     ]
    },
    {
     "name": "stdout",
     "output_type": "stream",
     "text": [
      "Epoch 130, Loss 0.0434\n",
      "Training Accuracy: 0.9546, Testing Accuracy: 0.9637\n",
      "\n"
     ]
    },
    {
     "name": "stdout",
     "output_type": "stream",
     "text": [
      "Epoch 140, Loss 0.0426\n",
      "Training Accuracy: 0.9549, Testing Accuracy: 0.9632\n",
      "\n"
     ]
    },
    {
     "name": "stdout",
     "output_type": "stream",
     "text": [
      "Epoch 150, Loss 0.0418\n",
      "Training Accuracy: 0.9552, Testing Accuracy: 0.9647\n",
      "\n"
     ]
    },
    {
     "name": "stdout",
     "output_type": "stream",
     "text": [
      "Epoch 160, Loss 0.0411\n",
      "Training Accuracy: 0.9559, Testing Accuracy: 0.9642\n",
      "\n"
     ]
    },
    {
     "name": "stdout",
     "output_type": "stream",
     "text": [
      "Epoch 170, Loss 0.0405\n",
      "Training Accuracy: 0.9568, Testing Accuracy: 0.9642\n",
      "\n"
     ]
    },
    {
     "name": "stdout",
     "output_type": "stream",
     "text": [
      "Epoch 180, Loss 0.0399\n",
      "Training Accuracy: 0.9571, Testing Accuracy: 0.9642\n",
      "\n"
     ]
    },
    {
     "name": "stdout",
     "output_type": "stream",
     "text": [
      "Epoch 190, Loss 0.0393\n",
      "Training Accuracy: 0.9579, Testing Accuracy: 0.9642\n",
      "\n"
     ]
    },
    {
     "name": "stdout",
     "output_type": "stream",
     "text": [
      "Epoch 200, Loss 0.0389\n",
      "Training Accuracy: 0.9584, Testing Accuracy: 0.9642\n",
      "\n"
     ]
    },
    {
     "name": "stdout",
     "output_type": "stream",
     "text": [
      "Epoch 210, Loss 0.0384\n",
      "Training Accuracy: 0.9587, Testing Accuracy: 0.9647\n",
      "\n"
     ]
    },
    {
     "name": "stdout",
     "output_type": "stream",
     "text": [
      "Epoch 220, Loss 0.038\n",
      "Training Accuracy: 0.9594, Testing Accuracy: 0.9647\n",
      "\n"
     ]
    },
    {
     "name": "stdout",
     "output_type": "stream",
     "text": [
      "Epoch 230, Loss 0.0376\n",
      "Training Accuracy: 0.9599, Testing Accuracy: 0.9647\n",
      "\n"
     ]
    },
    {
     "name": "stdout",
     "output_type": "stream",
     "text": [
      "Epoch 240, Loss 0.0372\n",
      "Training Accuracy: 0.9599, Testing Accuracy: 0.9647\n",
      "\n"
     ]
    },
    {
     "data": {
      "text/plain": [
       "0.03949111870226738"
      ]
     },
     "execution_count": 23,
     "metadata": {},
     "output_type": "execute_result"
    }
   ],
   "source": [
    "lr_learner.train_loop(dl)"
   ]
  },
  {
   "cell_type": "code",
   "execution_count": 24,
   "id": "ca410940",
   "metadata": {
    "execution": {
     "iopub.execute_input": "2021-10-14T00:23:41.230598Z",
     "iopub.status.busy": "2021-10-14T00:23:41.229981Z",
     "iopub.status.idle": "2021-10-14T00:23:41.496405Z",
     "shell.execute_reply": "2021-10-14T00:23:41.494884Z"
    },
    "papermill": {
     "duration": 0.32723,
     "end_time": "2021-10-14T00:23:41.496563",
     "exception": false,
     "start_time": "2021-10-14T00:23:41.169333",
     "status": "completed"
    },
    "tags": []
   },
   "outputs": [
    {
     "data": {
      "text/plain": [
       "<matplotlib.legend.Legend at 0x7fed026b1860>"
      ]
     },
     "execution_count": 24,
     "metadata": {},
     "output_type": "execute_result"
    },
    {
     "data": {
      "image/png": "[encoded data removed]",
      "text/plain": [
       "<Figure size 1080x720 with 1 Axes>"
      ]
     },
     "metadata": {
      "needs_background": "light"
     },
     "output_type": "display_data"
    }
   ],
   "source": [
    "#comparing the results of NN and LR\n",
    "plt.figure(figsize=(15,10))\n",
    "\n",
    "# Neural Network plots\n",
    "plt.plot(acc_nn.accuracies, 'r-', label = \"Training Accuracies - NN\")\n",
    "plt.plot(acc_nn.test_accuracies, 'g-', label = \"Testing Accuracies - NN\")\n",
    "\n",
    "# Logistic Regression plots\n",
    "plt.plot(acc_lr.accuracies, 'k-', label = \"Training Accuracies - LR\")\n",
    "plt.plot(acc_lr.test_accuracies, 'b-', label = \"Testing Accuracies - LR\")\n",
    "plt.legend()"
   ]
  },
  {
   "cell_type": "markdown",
   "id": "80dfb35c",
   "metadata": {
    "papermill": {
     "duration": 0.05216,
     "end_time": "2021-10-14T00:23:41.597726",
     "exception": false,
     "start_time": "2021-10-14T00:23:41.545566",
     "status": "completed"
    },
    "tags": []
   },
   "source": [
    "#### Plotting the outputs of this layer of the NN.\n"
   ]
  },
  {
   "cell_type": "code",
   "execution_count": 25,
   "id": "45eb2ff5",
   "metadata": {
    "execution": {
     "iopub.execute_input": "2021-10-14T00:23:41.719153Z",
     "iopub.status.busy": "2021-10-14T00:23:41.718293Z",
     "iopub.status.idle": "2021-10-14T00:23:41.740260Z",
     "shell.execute_reply": "2021-10-14T00:23:41.739713Z"
    },
    "papermill": {
     "duration": 0.090508,
     "end_time": "2021-10-14T00:23:41.740392",
     "exception": false,
     "start_time": "2021-10-14T00:23:41.649884",
     "status": "completed"
    },
    "tags": []
   },
   "outputs": [],
   "source": [
    "new_model = Model(layers[:-2])\n",
    "testing_plot = new_model(testing_data_x)"
   ]
  },
  {
   "cell_type": "code",
   "execution_count": 26,
   "id": "4c0a5485",
   "metadata": {
    "execution": {
     "iopub.execute_input": "2021-10-14T00:23:41.852734Z",
     "iopub.status.busy": "2021-10-14T00:23:41.852132Z",
     "iopub.status.idle": "2021-10-14T00:23:42.101737Z",
     "shell.execute_reply": "2021-10-14T00:23:42.100825Z"
    },
    "papermill": {
     "duration": 0.304844,
     "end_time": "2021-10-14T00:23:42.101881",
     "exception": false,
     "start_time": "2021-10-14T00:23:41.797037",
     "status": "completed"
    },
    "tags": []
   },
   "outputs": [
    {
     "data": {
      "text/plain": [
       "Text(0.5, 1.0, 'Outputs')"
      ]
     },
     "execution_count": 26,
     "metadata": {},
     "output_type": "execute_result"
    },
    {
     "data": {
      "image/png": "[encoded data removed]",
      "text/plain": [
       "<Figure size 576x504 with 1 Axes>"
      ]
     },
     "metadata": {
      "needs_background": "light"
     },
     "output_type": "display_data"
    }
   ],
   "source": [
    "# Plotting the scatter plot of points and color coding by class\n",
    "plt.figure(figsize=(8,7))\n",
    "plt.scatter(testing_plot[:,0], testing_plot[:,1], alpha = 0.1, c = y_test.ravel());\n",
    "plt.title('Outputs')"
   ]
  },
  {
   "cell_type": "markdown",
   "id": "a74fcf8f",
   "metadata": {
    "papermill": {
     "duration": 0.064827,
     "end_time": "2021-10-14T00:23:42.232874",
     "exception": false,
     "start_time": "2021-10-14T00:23:42.168047",
     "status": "completed"
    },
    "tags": []
   },
   "source": [
    "Probability contours"
   ]
  },
  {
   "cell_type": "code",
   "execution_count": 27,
   "id": "d0afc8e3",
   "metadata": {
    "execution": {
     "iopub.execute_input": "2021-10-14T00:23:42.350875Z",
     "iopub.status.busy": "2021-10-14T00:23:42.350232Z",
     "iopub.status.idle": "2021-10-14T00:23:42.358861Z",
     "shell.execute_reply": "2021-10-14T00:23:42.359351Z"
    },
    "papermill": {
     "duration": 0.071349,
     "end_time": "2021-10-14T00:23:42.359501",
     "exception": false,
     "start_time": "2021-10-14T00:23:42.288152",
     "status": "completed"
    },
    "tags": []
   },
   "outputs": [],
   "source": [
    "model_prob = Model(layers[-2:]) "
   ]
  },
  {
   "cell_type": "code",
   "execution_count": 28,
   "id": "9b96e238",
   "metadata": {
    "execution": {
     "iopub.execute_input": "2021-10-14T00:23:42.507947Z",
     "iopub.status.busy": "2021-10-14T00:23:42.507167Z",
     "iopub.status.idle": "2021-10-14T00:23:42.523689Z",
     "shell.execute_reply": "2021-10-14T00:23:42.524198Z"
    },
    "papermill": {
     "duration": 0.074306,
     "end_time": "2021-10-14T00:23:42.524359",
     "exception": false,
     "start_time": "2021-10-14T00:23:42.450053",
     "status": "completed"
    },
    "tags": []
   },
   "outputs": [],
   "source": [
    "#creating the x and y ranges according to the above generated plot.\n",
    "x_range = np.linspace(-4, 1, 100) \n",
    "y_range = np.linspace(-6, 6, 100) \n",
    "x_grid, y_grid = np.meshgrid(x_range, y_range) # x_grid and y_grig are of size 100 X 100\n",
    "\n",
    "# converting x_grid and y_grid to continuous arrays\n",
    "x_gridflat = np.ravel(x_grid)\n",
    "y_gridflat = np.ravel(y_grid)\n",
    "\n",
    "# The last layer of the current model takes two columns as input. Hence transpose of np.vstack() is required.\n",
    "X = np.vstack((x_gridflat, y_gridflat)).T\n",
    "\n",
    "prob_contour = model_prob(X).reshape(100,100) "
   ]
  },
  {
   "cell_type": "code",
   "execution_count": 29,
   "id": "da72499a",
   "metadata": {
    "execution": {
     "iopub.execute_input": "2021-10-14T00:23:42.639522Z",
     "iopub.status.busy": "2021-10-14T00:23:42.638908Z",
     "iopub.status.idle": "2021-10-14T00:23:42.983834Z",
     "shell.execute_reply": "2021-10-14T00:23:42.982376Z"
    },
    "papermill": {
     "duration": 0.402153,
     "end_time": "2021-10-14T00:23:42.984132",
     "exception": false,
     "start_time": "2021-10-14T00:23:42.581979",
     "status": "completed"
    },
    "tags": []
   },
   "outputs": [
    {
     "data": {
      "image/png": "[encoded data removed]",
      "text/plain": [
       "<Figure size 720x648 with 1 Axes>"
      ]
     },
     "metadata": {
      "needs_background": "light"
     },
     "output_type": "display_data"
    }
   ],
   "source": [
    "plt.figure(figsize=(10,9))\n",
    "plt.scatter(testing_plot[:,0], testing_plot[:,1], alpha = 0.1, c = y_test.ravel())\n",
    "contours = plt.contour(x_grid,y_grid,prob_contour)\n",
    "plt.title('Probability Contours')\n",
    "plt.clabel(contours, inline = True );"
   ]
  },
  {
   "cell_type": "code",
   "execution_count": null,
   "id": "e81b4ac7",
   "metadata": {
    "papermill": {
     "duration": 0.061903,
     "end_time": "2021-10-14T00:23:43.110854",
     "exception": false,
     "start_time": "2021-10-14T00:23:43.048951",
     "status": "completed"
    },
    "tags": []
   },
   "outputs": [],
   "source": []
  }
 ],
 "metadata": {
  "kernelspec": {
   "display_name": "Python 3",
   "language": "python",
   "name": "python3"
  },
  "language_info": {
   "codemirror_mode": {
    "name": "ipython",
    "version": 3
   },
   "file_extension": ".py",
   "mimetype": "text/x-python",
   "name": "python",
   "nbconvert_exporter": "python",
   "pygments_lexer": "ipython3",
   "version": "3.6.15"
  },
  "papermill": {
   "default_parameters": {},
   "duration": 135.233791,
   "end_time": "2021-10-14T00:23:43.576938",
   "environment_variables": {},
   "exception": null,
   "input_path": "2020-08-11-part2.ipynb",
   "output_path": "2020-08-11-part2.ipynb",
   "parameters": {},
   "start_time": "2021-10-14T00:21:28.343147",
   "version": "2.3.3"
  }
 },
 "nbformat": 4,
 "nbformat_minor": 5
}