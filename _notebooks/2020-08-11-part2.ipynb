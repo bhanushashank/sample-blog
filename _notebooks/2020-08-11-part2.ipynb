{
 "cells": [
  {
   "cell_type": "markdown",
   "id": "98380cd3",
   "metadata": {
    "papermill": {
     "duration": 0.028079,
     "end_time": "2022-03-22T00:32:23.194272",
     "exception": false,
     "start_time": "2022-03-22T00:32:23.166193",
     "status": "completed"
    },
    "tags": []
   },
   "source": [
    "# Distinguish Your Own Digits (DYOD)"
   ]
  },
  {
   "cell_type": "markdown",
   "id": "ef31240d",
   "metadata": {
    "papermill": {
     "duration": 0.024988,
     "end_time": "2022-03-22T00:32:23.243445",
     "exception": false,
     "start_time": "2022-03-22T00:32:23.218457",
     "status": "completed"
    },
    "tags": []
   },
   "source": [
    "You are going to write a classifier that distinguishes between the number 3 and number 8."
   ]
  },
  {
   "cell_type": "code",
   "execution_count": 1,
   "id": "b15c8646",
   "metadata": {
    "execution": {
     "iopub.execute_input": "2022-03-22T00:32:23.301352Z",
     "iopub.status.busy": "2022-03-22T00:32:23.300798Z",
     "iopub.status.idle": "2022-03-22T00:32:23.310816Z",
     "shell.execute_reply": "2022-03-22T00:32:23.311209Z"
    },
    "papermill": {
     "duration": 0.044415,
     "end_time": "2022-03-22T00:32:23.311378",
     "exception": false,
     "start_time": "2022-03-22T00:32:23.266963",
     "status": "completed"
    },
    "tags": []
   },
   "outputs": [],
   "source": [
    "%load_ext autoreload\n",
    "%autoreload 2"
   ]
  },
  {
   "cell_type": "code",
   "execution_count": 2,
   "id": "22ef38dc",
   "metadata": {
    "execution": {
     "iopub.execute_input": "2022-03-22T00:32:23.369120Z",
     "iopub.status.busy": "2022-03-22T00:32:23.368553Z",
     "iopub.status.idle": "2022-03-22T00:32:23.972929Z",
     "shell.execute_reply": "2022-03-22T00:32:23.972349Z"
    },
    "papermill": {
     "duration": 0.637716,
     "end_time": "2022-03-22T00:32:23.973081",
     "exception": false,
     "start_time": "2022-03-22T00:32:23.335365",
     "status": "completed"
    },
    "tags": []
   },
   "outputs": [],
   "source": [
    "%matplotlib inline\n",
    "import numpy as np\n",
    "import matplotlib.pyplot as plt\n",
    "import pandas as pd"
   ]
  },
  {
   "cell_type": "markdown",
   "id": "ba036198",
   "metadata": {
    "papermill": {
     "duration": 0.023866,
     "end_time": "2022-03-22T00:32:24.020955",
     "exception": false,
     "start_time": "2022-03-22T00:32:23.997089",
     "status": "completed"
    },
    "tags": []
   },
   "source": [
    "From the command line run `pip install mnist`. This is a library that will help you bring down the mnist dataset. If you run this from a notebook, you need to put  `!pip install mnist` in a cell by itself."
   ]
  },
  {
   "cell_type": "code",
   "execution_count": 3,
   "id": "bb6ad8a1",
   "metadata": {
    "execution": {
     "iopub.execute_input": "2022-03-22T00:32:24.074160Z",
     "iopub.status.busy": "2022-03-22T00:32:24.073628Z",
     "iopub.status.idle": "2022-03-22T00:32:26.601186Z",
     "shell.execute_reply": "2022-03-22T00:32:26.600622Z"
    },
    "papermill": {
     "duration": 2.556274,
     "end_time": "2022-03-22T00:32:26.601339",
     "exception": false,
     "start_time": "2022-03-22T00:32:24.045065",
     "status": "completed"
    },
    "tags": []
   },
   "outputs": [
    {
     "name": "stdout",
     "output_type": "stream",
     "text": [
      "Collecting mnist\r\n"
     ]
    },
    {
     "name": "stdout",
     "output_type": "stream",
     "text": [
      "  Downloading mnist-0.2.2-py2.py3-none-any.whl (3.5 kB)\r\n",
      "Requirement already satisfied: numpy in /opt/hostedtoolcache/Python/3.6.15/x64/lib/python3.6/site-packages (from mnist) (1.19.5)\r\n"
     ]
    },
    {
     "name": "stdout",
     "output_type": "stream",
     "text": [
      "Installing collected packages: mnist\r\n",
      "Successfully installed mnist-0.2.2\r\n"
     ]
    }
   ],
   "source": [
    "!pip install mnist"
   ]
  },
  {
   "cell_type": "markdown",
   "id": "69df9c9a",
   "metadata": {
    "papermill": {
     "duration": 0.024873,
     "end_time": "2022-03-22T00:32:26.651358",
     "exception": false,
     "start_time": "2022-03-22T00:32:26.626485",
     "status": "completed"
    },
    "tags": []
   },
   "source": [
    "## Preparing the Data"
   ]
  },
  {
   "cell_type": "code",
   "execution_count": 4,
   "id": "7f69d806",
   "metadata": {
    "execution": {
     "iopub.execute_input": "2022-03-22T00:32:26.714764Z",
     "iopub.status.busy": "2022-03-22T00:32:26.714072Z",
     "iopub.status.idle": "2022-03-22T00:32:26.723805Z",
     "shell.execute_reply": "2022-03-22T00:32:26.723359Z"
    },
    "papermill": {
     "duration": 0.047605,
     "end_time": "2022-03-22T00:32:26.723939",
     "exception": false,
     "start_time": "2022-03-22T00:32:26.676334",
     "status": "completed"
    },
    "tags": []
   },
   "outputs": [],
   "source": [
    "import mnist"
   ]
  },
  {
   "cell_type": "code",
   "execution_count": 5,
   "id": "a411e44f",
   "metadata": {
    "execution": {
     "iopub.execute_input": "2022-03-22T00:32:26.789060Z",
     "iopub.status.busy": "2022-03-22T00:32:26.785103Z",
     "iopub.status.idle": "2022-03-22T00:32:27.281739Z",
     "shell.execute_reply": "2022-03-22T00:32:27.281204Z"
    },
    "papermill": {
     "duration": 0.532763,
     "end_time": "2022-03-22T00:32:27.281890",
     "exception": false,
     "start_time": "2022-03-22T00:32:26.749127",
     "status": "completed"
    },
    "tags": []
   },
   "outputs": [],
   "source": [
    "train_images = mnist.train_images()\n",
    "train_labels = mnist.train_labels()"
   ]
  },
  {
   "cell_type": "code",
   "execution_count": 6,
   "id": "dceab3a5",
   "metadata": {
    "execution": {
     "iopub.execute_input": "2022-03-22T00:32:27.337641Z",
     "iopub.status.busy": "2022-03-22T00:32:27.337076Z",
     "iopub.status.idle": "2022-03-22T00:32:27.350814Z",
     "shell.execute_reply": "2022-03-22T00:32:27.350383Z"
    },
    "papermill": {
     "duration": 0.043791,
     "end_time": "2022-03-22T00:32:27.350936",
     "exception": false,
     "start_time": "2022-03-22T00:32:27.307145",
     "status": "completed"
    },
    "tags": []
   },
   "outputs": [
    {
     "data": {
      "text/plain": [
       "((60000, 28, 28), (60000,))"
      ]
     },
     "execution_count": 6,
     "metadata": {},
     "output_type": "execute_result"
    }
   ],
   "source": [
    "train_images.shape, train_labels.shape"
   ]
  },
  {
   "cell_type": "code",
   "execution_count": 7,
   "id": "f50dc2bb",
   "metadata": {
    "execution": {
     "iopub.execute_input": "2022-03-22T00:32:27.418035Z",
     "iopub.status.busy": "2022-03-22T00:32:27.417463Z",
     "iopub.status.idle": "2022-03-22T00:32:27.575953Z",
     "shell.execute_reply": "2022-03-22T00:32:27.575418Z"
    },
    "papermill": {
     "duration": 0.200196,
     "end_time": "2022-03-22T00:32:27.576105",
     "exception": false,
     "start_time": "2022-03-22T00:32:27.375909",
     "status": "completed"
    },
    "tags": []
   },
   "outputs": [],
   "source": [
    "test_images = mnist.test_images()\n",
    "test_labels = mnist.test_labels()"
   ]
  },
  {
   "cell_type": "code",
   "execution_count": 8,
   "id": "fc38cf1b",
   "metadata": {
    "execution": {
     "iopub.execute_input": "2022-03-22T00:32:27.633808Z",
     "iopub.status.busy": "2022-03-22T00:32:27.633281Z",
     "iopub.status.idle": "2022-03-22T00:32:27.644692Z",
     "shell.execute_reply": "2022-03-22T00:32:27.645184Z"
    },
    "papermill": {
     "duration": 0.043341,
     "end_time": "2022-03-22T00:32:27.645325",
     "exception": false,
     "start_time": "2022-03-22T00:32:27.601984",
     "status": "completed"
    },
    "tags": []
   },
   "outputs": [
    {
     "data": {
      "text/plain": [
       "((10000, 28, 28), (10000,))"
      ]
     },
     "execution_count": 8,
     "metadata": {},
     "output_type": "execute_result"
    }
   ],
   "source": [
    "test_images.shape, test_labels.shape"
   ]
  },
  {
   "cell_type": "code",
   "execution_count": 9,
   "id": "f9ed8fe0",
   "metadata": {
    "execution": {
     "iopub.execute_input": "2022-03-22T00:32:27.700408Z",
     "iopub.status.busy": "2022-03-22T00:32:27.699847Z",
     "iopub.status.idle": "2022-03-22T00:32:27.840671Z",
     "shell.execute_reply": "2022-03-22T00:32:27.840087Z"
    },
    "papermill": {
     "duration": 0.170008,
     "end_time": "2022-03-22T00:32:27.840826",
     "exception": false,
     "start_time": "2022-03-22T00:32:27.670818",
     "status": "completed"
    },
    "tags": []
   },
   "outputs": [
    {
     "name": "stdout",
     "output_type": "stream",
     "text": [
      "2\n"
     ]
    },
    {
     "data": {
      "text/plain": [
       "<matplotlib.image.AxesImage at 0x7fb7d12d05f8>"
      ]
     },
     "execution_count": 9,
     "metadata": {},
     "output_type": "execute_result"
    },
    {
     "data": {
      "image/png": "[encoded data removed]",
      "text/plain": [
       "<Figure size 432x288 with 1 Axes>"
      ]
     },
     "metadata": {
      "needs_background": "light"
     },
     "output_type": "display_data"
    }
   ],
   "source": [
    "image_index = 7776 # You may select anything up to 60,000\n",
    "print(train_labels[image_index]) \n",
    "plt.imshow(train_images[image_index], cmap='Greys')"
   ]
  },
  {
   "cell_type": "markdown",
   "id": "a8d2388d",
   "metadata": {
    "papermill": {
     "duration": 0.026962,
     "end_time": "2022-03-22T00:32:27.894600",
     "exception": false,
     "start_time": "2022-03-22T00:32:27.867638",
     "status": "completed"
    },
    "tags": []
   },
   "source": [
    "## Filter data to get 3 and 8 out"
   ]
  },
  {
   "cell_type": "code",
   "execution_count": 10,
   "id": "776f7fc7",
   "metadata": {
    "execution": {
     "iopub.execute_input": "2022-03-22T00:32:27.953375Z",
     "iopub.status.busy": "2022-03-22T00:32:27.952837Z",
     "iopub.status.idle": "2022-03-22T00:32:27.971615Z",
     "shell.execute_reply": "2022-03-22T00:32:27.972010Z"
    },
    "papermill": {
     "duration": 0.050811,
     "end_time": "2022-03-22T00:32:27.972184",
     "exception": false,
     "start_time": "2022-03-22T00:32:27.921373",
     "status": "completed"
    },
    "tags": []
   },
   "outputs": [],
   "source": [
    "train_filter = np.where((train_labels == 3 ) | (train_labels == 8))\n",
    "test_filter = np.where((test_labels == 3) | (test_labels == 8))\n",
    "X_train, y_train = train_images[train_filter], train_labels[train_filter]\n",
    "X_test, y_test = test_images[test_filter], test_labels[test_filter]"
   ]
  },
  {
   "cell_type": "markdown",
   "id": "948f0b7e",
   "metadata": {
    "papermill": {
     "duration": 0.028036,
     "end_time": "2022-03-22T00:32:28.026895",
     "exception": false,
     "start_time": "2022-03-22T00:32:27.998859",
     "status": "completed"
    },
    "tags": []
   },
   "source": [
    "We normalize the pizel values in the 0 to 1 range"
   ]
  },
  {
   "cell_type": "code",
   "execution_count": 11,
   "id": "ee4c2166",
   "metadata": {
    "execution": {
     "iopub.execute_input": "2022-03-22T00:32:28.083461Z",
     "iopub.status.busy": "2022-03-22T00:32:28.082935Z",
     "iopub.status.idle": "2022-03-22T00:32:28.132083Z",
     "shell.execute_reply": "2022-03-22T00:32:28.131564Z"
    },
    "papermill": {
     "duration": 0.079026,
     "end_time": "2022-03-22T00:32:28.132253",
     "exception": false,
     "start_time": "2022-03-22T00:32:28.053227",
     "status": "completed"
    },
    "tags": []
   },
   "outputs": [],
   "source": [
    "X_train = X_train/255.\n",
    "X_test = X_test/255."
   ]
  },
  {
   "cell_type": "markdown",
   "id": "ddcf4fab",
   "metadata": {
    "papermill": {
     "duration": 0.026655,
     "end_time": "2022-03-22T00:32:28.186202",
     "exception": false,
     "start_time": "2022-03-22T00:32:28.159547",
     "status": "completed"
    },
    "tags": []
   },
   "source": [
    "And setup the labels as 1 (when the digit is 3) and 0 (when the digit is 8)"
   ]
  },
  {
   "cell_type": "code",
   "execution_count": 12,
   "id": "7dc908f2",
   "metadata": {
    "execution": {
     "iopub.execute_input": "2022-03-22T00:32:28.246966Z",
     "iopub.status.busy": "2022-03-22T00:32:28.246417Z",
     "iopub.status.idle": "2022-03-22T00:32:28.256706Z",
     "shell.execute_reply": "2022-03-22T00:32:28.256246Z"
    },
    "papermill": {
     "duration": 0.044146,
     "end_time": "2022-03-22T00:32:28.256830",
     "exception": false,
     "start_time": "2022-03-22T00:32:28.212684",
     "status": "completed"
    },
    "tags": []
   },
   "outputs": [],
   "source": [
    "y_train = 1*(y_train==3)\n",
    "y_test = 1*(y_test==3)"
   ]
  },
  {
   "cell_type": "code",
   "execution_count": 13,
   "id": "01e4e969",
   "metadata": {
    "execution": {
     "iopub.execute_input": "2022-03-22T00:32:28.315274Z",
     "iopub.status.busy": "2022-03-22T00:32:28.314728Z",
     "iopub.status.idle": "2022-03-22T00:32:28.327986Z",
     "shell.execute_reply": "2022-03-22T00:32:28.328455Z"
    },
    "papermill": {
     "duration": 0.045211,
     "end_time": "2022-03-22T00:32:28.328613",
     "exception": false,
     "start_time": "2022-03-22T00:32:28.283402",
     "status": "completed"
    },
    "tags": []
   },
   "outputs": [
    {
     "data": {
      "text/plain": [
       "((11982, 28, 28), (1984, 28, 28))"
      ]
     },
     "execution_count": 13,
     "metadata": {},
     "output_type": "execute_result"
    }
   ],
   "source": [
    "X_train.shape, X_test.shape"
   ]
  },
  {
   "cell_type": "markdown",
   "id": "5ccf3f85",
   "metadata": {
    "papermill": {
     "duration": 0.026748,
     "end_time": "2022-03-22T00:32:28.382071",
     "exception": false,
     "start_time": "2022-03-22T00:32:28.355323",
     "status": "completed"
    },
    "tags": []
   },
   "source": [
    "We reshape the data to flatten the image pixels into a set of features or co-variates:"
   ]
  },
  {
   "cell_type": "code",
   "execution_count": 14,
   "id": "5286a4a3",
   "metadata": {
    "execution": {
     "iopub.execute_input": "2022-03-22T00:32:28.444206Z",
     "iopub.status.busy": "2022-03-22T00:32:28.443653Z",
     "iopub.status.idle": "2022-03-22T00:32:28.457035Z",
     "shell.execute_reply": "2022-03-22T00:32:28.456592Z"
    },
    "papermill": {
     "duration": 0.04828,
     "end_time": "2022-03-22T00:32:28.457156",
     "exception": false,
     "start_time": "2022-03-22T00:32:28.408876",
     "status": "completed"
    },
    "tags": []
   },
   "outputs": [
    {
     "data": {
      "text/plain": [
       "((11982, 784), (1984, 784))"
      ]
     },
     "execution_count": 14,
     "metadata": {},
     "output_type": "execute_result"
    }
   ],
   "source": [
    "X_train = X_train.reshape(X_train.shape[0], -1)\n",
    "X_test = X_test.reshape(X_test.shape[0], -1)\n",
    "X_train.shape, X_test.shape"
   ]
  },
  {
   "cell_type": "code",
   "execution_count": 15,
   "id": "73c5f88a",
   "metadata": {
    "execution": {
     "iopub.execute_input": "2022-03-22T00:32:28.516617Z",
     "iopub.status.busy": "2022-03-22T00:32:28.516046Z",
     "iopub.status.idle": "2022-03-22T00:32:28.534487Z",
     "shell.execute_reply": "2022-03-22T00:32:28.534052Z"
    },
    "papermill": {
     "duration": 0.050402,
     "end_time": "2022-03-22T00:32:28.534615",
     "exception": false,
     "start_time": "2022-03-22T00:32:28.484213",
     "status": "completed"
    },
    "tags": []
   },
   "outputs": [],
   "source": [
    "#Impoting functions from 'Kudzu'\n",
    "from kudzu.model import Model\n",
    "from kudzu.train import Learner\n",
    "from kudzu.optim import GD\n",
    "from kudzu.data import Data, Sampler,Dataloader\n",
    "\n",
    "from kudzu.callbacks import AccCallback\n",
    "from kudzu.callbacks import ClfCallback\n",
    "\n",
    "from kudzu.loss import MSE\n",
    "\n",
    "from kudzu.layer import Sigmoid,Relu\n",
    "from kudzu.layer import Affine"
   ]
  },
  {
   "cell_type": "markdown",
   "id": "bc01172a",
   "metadata": {
    "papermill": {
     "duration": 0.026977,
     "end_time": "2022-03-22T00:32:28.588545",
     "exception": false,
     "start_time": "2022-03-22T00:32:28.561568",
     "status": "completed"
    },
    "tags": []
   },
   "source": [
    "### Let us create a `Config` class, to store important parameters. \n",
    "This class essentially plays the role of a dictionary."
   ]
  },
  {
   "cell_type": "code",
   "execution_count": 16,
   "id": "978281aa",
   "metadata": {
    "execution": {
     "iopub.execute_input": "2022-03-22T00:32:28.657827Z",
     "iopub.status.busy": "2022-03-22T00:32:28.657248Z",
     "iopub.status.idle": "2022-03-22T00:32:28.664562Z",
     "shell.execute_reply": "2022-03-22T00:32:28.664096Z"
    },
    "papermill": {
     "duration": 0.049226,
     "end_time": "2022-03-22T00:32:28.664689",
     "exception": false,
     "start_time": "2022-03-22T00:32:28.615463",
     "status": "completed"
    },
    "tags": []
   },
   "outputs": [],
   "source": [
    "class Config:\n",
    "    pass\n",
    "config = Config()\n",
    "config.lr = 0.001\n",
    "config.num_epochs = 250\n",
    "config.bs = 50"
   ]
  },
  {
   "cell_type": "markdown",
   "id": "1385fa59",
   "metadata": {
    "papermill": {
     "duration": 0.026841,
     "end_time": "2022-03-22T00:32:28.718673",
     "exception": false,
     "start_time": "2022-03-22T00:32:28.691832",
     "status": "completed"
    },
    "tags": []
   },
   "source": [
    "### Running Models with the Training data\n",
    "Details about the network layers:\n",
    "- A first affine layer has 784 inputs and does 100 affine transforms. These are followed by a Relu\n",
    "- A second affine layer has 100 inputs from the 100 activations of the past layer, and does 100 affine transforms. These are followed by a Relu\n",
    "- A third affine layer has 100 activations and does 2 affine transformations to create an embedding for visualization. There is no non-linearity here.\n",
    "- A final \"logistic regression\" which has an affine transform from 2 inputs to 1 output, which is squeezed through a sigmoid.\n"
   ]
  },
  {
   "cell_type": "code",
   "execution_count": 17,
   "id": "2b9c66db",
   "metadata": {
    "execution": {
     "iopub.execute_input": "2022-03-22T00:32:28.776808Z",
     "iopub.status.busy": "2022-03-22T00:32:28.776261Z",
     "iopub.status.idle": "2022-03-22T00:32:28.790140Z",
     "shell.execute_reply": "2022-03-22T00:32:28.789695Z"
    },
    "papermill": {
     "duration": 0.044667,
     "end_time": "2022-03-22T00:32:28.790268",
     "exception": false,
     "start_time": "2022-03-22T00:32:28.745601",
     "status": "completed"
    },
    "tags": []
   },
   "outputs": [],
   "source": [
    "data = Data(X_train, y_train.reshape(-1,1))\n",
    "sampler = Sampler(data, config.bs, shuffle=True)\n",
    "\n",
    "dl = Dataloader(data, sampler)\n",
    "\n",
    "opt = GD(config.lr)\n",
    "loss = MSE()"
   ]
  },
  {
   "cell_type": "code",
   "execution_count": 18,
   "id": "b275e4c2",
   "metadata": {
    "execution": {
     "iopub.execute_input": "2022-03-22T00:32:28.848631Z",
     "iopub.status.busy": "2022-03-22T00:32:28.848079Z",
     "iopub.status.idle": "2022-03-22T00:32:28.860575Z",
     "shell.execute_reply": "2022-03-22T00:32:28.860116Z"
    },
    "papermill": {
     "duration": 0.043035,
     "end_time": "2022-03-22T00:32:28.860699",
     "exception": false,
     "start_time": "2022-03-22T00:32:28.817664",
     "status": "completed"
    },
    "tags": []
   },
   "outputs": [],
   "source": [
    "training_data_x = X_train\n",
    "testing_data_x = X_test\n",
    "training_data_y = y_train.reshape(-1,1)\n",
    "testing_data_y = y_test.reshape(-1,1)"
   ]
  },
  {
   "cell_type": "code",
   "execution_count": 19,
   "id": "76951160",
   "metadata": {
    "execution": {
     "iopub.execute_input": "2022-03-22T00:32:28.921504Z",
     "iopub.status.busy": "2022-03-22T00:32:28.920958Z",
     "iopub.status.idle": "2022-03-22T00:32:28.936192Z",
     "shell.execute_reply": "2022-03-22T00:32:28.935726Z"
    },
    "papermill": {
     "duration": 0.048824,
     "end_time": "2022-03-22T00:32:28.936321",
     "exception": false,
     "start_time": "2022-03-22T00:32:28.887497",
     "status": "completed"
    },
    "tags": []
   },
   "outputs": [
    {
     "name": "stdout",
     "output_type": "stream",
     "text": [
      "xavier\n",
      "xavier\n",
      "xavier\n",
      "xavier\n",
      "xavier\n"
     ]
    }
   ],
   "source": [
    "layers = [Affine(\"first\", 784, 100), Relu(\"first\"), Affine(\"second\", 100, 100), Relu(\"second\"), Affine(\"third\", 100, 2), Affine(\"last\", 2, 1), Sigmoid(\"last\")]\n",
    "model_nn = Model(layers)\n",
    "model_lr = Model([Affine(\"logits\", 784, 1), Sigmoid(\"sigmoid\")])"
   ]
  },
  {
   "cell_type": "code",
   "execution_count": 20,
   "id": "6eede77a",
   "metadata": {
    "execution": {
     "iopub.execute_input": "2022-03-22T00:32:28.997721Z",
     "iopub.status.busy": "2022-03-22T00:32:28.997091Z",
     "iopub.status.idle": "2022-03-22T00:32:29.009850Z",
     "shell.execute_reply": "2022-03-22T00:32:29.010345Z"
    },
    "papermill": {
     "duration": 0.046788,
     "end_time": "2022-03-22T00:32:29.010488",
     "exception": false,
     "start_time": "2022-03-22T00:32:28.963700",
     "status": "completed"
    },
    "tags": []
   },
   "outputs": [],
   "source": [
    "nn_learner = Learner(loss, model_nn, opt, config.num_epochs)\n",
    "acc_nn = ClfCallback(nn_learner, config.bs, training_data_x , testing_data_x, training_data_y, testing_data_y)\n",
    "nn_learner.set_callbacks([acc_nn])"
   ]
  },
  {
   "cell_type": "code",
   "execution_count": 21,
   "id": "877b6cc7",
   "metadata": {
    "execution": {
     "iopub.execute_input": "2022-03-22T00:32:29.074268Z",
     "iopub.status.busy": "2022-03-22T00:32:29.073711Z",
     "iopub.status.idle": "2022-03-22T00:32:29.083348Z",
     "shell.execute_reply": "2022-03-22T00:32:29.082915Z"
    },
    "papermill": {
     "duration": 0.045638,
     "end_time": "2022-03-22T00:32:29.083472",
     "exception": false,
     "start_time": "2022-03-22T00:32:29.037834",
     "status": "completed"
    },
    "tags": []
   },
   "outputs": [],
   "source": [
    "lr_learner = Learner(loss, model_lr, opt, config.num_epochs)\n",
    "acc_lr = ClfCallback(lr_learner, config.bs, training_data_x , testing_data_x, training_data_y, testing_data_y)\n",
    "lr_learner.set_callbacks([acc_lr])"
   ]
  },
  {
   "cell_type": "code",
   "execution_count": 22,
   "id": "d9b133c3",
   "metadata": {
    "execution": {
     "iopub.execute_input": "2022-03-22T00:32:29.143207Z",
     "iopub.status.busy": "2022-03-22T00:32:29.142642Z",
     "iopub.status.idle": "2022-03-22T00:33:48.492956Z",
     "shell.execute_reply": "2022-03-22T00:33:48.493733Z"
    },
    "papermill": {
     "duration": 79.383027,
     "end_time": "2022-03-22T00:33:48.493897",
     "exception": false,
     "start_time": "2022-03-22T00:32:29.110870",
     "status": "completed"
    },
    "tags": []
   },
   "outputs": [
    {
     "name": "stdout",
     "output_type": "stream",
     "text": [
      "Epoch 0, Loss 0.2454\n",
      "Training Accuracy: 0.5925, Testing Accuracy: 0.5837\n",
      "\n"
     ]
    },
    {
     "name": "stdout",
     "output_type": "stream",
     "text": [
      "Epoch 10, Loss 0.1365\n",
      "Training Accuracy: 0.8862, Testing Accuracy: 0.8977\n",
      "\n"
     ]
    },
    {
     "name": "stdout",
     "output_type": "stream",
     "text": [
      "Epoch 20, Loss 0.0742\n",
      "Training Accuracy: 0.9234, Testing Accuracy: 0.9304\n",
      "\n"
     ]
    },
    {
     "name": "stdout",
     "output_type": "stream",
     "text": [
      "Epoch 30, Loss 0.0539\n",
      "Training Accuracy: 0.9415, Testing Accuracy: 0.9511\n",
      "\n"
     ]
    },
    {
     "name": "stdout",
     "output_type": "stream",
     "text": [
      "Epoch 40, Loss 0.0447\n",
      "Training Accuracy: 0.9497, Testing Accuracy: 0.9577\n",
      "\n"
     ]
    },
    {
     "name": "stdout",
     "output_type": "stream",
     "text": [
      "Epoch 50, Loss 0.0395\n",
      "Training Accuracy: 0.9543, Testing Accuracy: 0.9637\n",
      "\n"
     ]
    },
    {
     "name": "stdout",
     "output_type": "stream",
     "text": [
      "Epoch 60, Loss 0.0362\n",
      "Training Accuracy: 0.9583, Testing Accuracy: 0.9642\n",
      "\n"
     ]
    },
    {
     "name": "stdout",
     "output_type": "stream",
     "text": [
      "Epoch 70, Loss 0.0338\n",
      "Training Accuracy: 0.9602, Testing Accuracy: 0.9667\n",
      "\n"
     ]
    },
    {
     "name": "stdout",
     "output_type": "stream",
     "text": [
      "Epoch 80, Loss 0.032\n",
      "Training Accuracy: 0.9629, Testing Accuracy: 0.9682\n",
      "\n"
     ]
    },
    {
     "name": "stdout",
     "output_type": "stream",
     "text": [
      "Epoch 90, Loss 0.0305\n",
      "Training Accuracy: 0.9646, Testing Accuracy: 0.9682\n",
      "\n"
     ]
    },
    {
     "name": "stdout",
     "output_type": "stream",
     "text": [
      "Epoch 100, Loss 0.0293\n",
      "Training Accuracy: 0.9648, Testing Accuracy: 0.9682\n",
      "\n"
     ]
    },
    {
     "name": "stdout",
     "output_type": "stream",
     "text": [
      "Epoch 110, Loss 0.0283\n",
      "Training Accuracy: 0.9661, Testing Accuracy: 0.9698\n",
      "\n"
     ]
    },
    {
     "name": "stdout",
     "output_type": "stream",
     "text": [
      "Epoch 120, Loss 0.0274\n",
      "Training Accuracy: 0.9670, Testing Accuracy: 0.9703\n",
      "\n"
     ]
    },
    {
     "name": "stdout",
     "output_type": "stream",
     "text": [
      "Epoch 130, Loss 0.0266\n",
      "Training Accuracy: 0.9675, Testing Accuracy: 0.9708\n",
      "\n"
     ]
    },
    {
     "name": "stdout",
     "output_type": "stream",
     "text": [
      "Epoch 140, Loss 0.0259\n",
      "Training Accuracy: 0.9683, Testing Accuracy: 0.9718\n",
      "\n"
     ]
    },
    {
     "name": "stdout",
     "output_type": "stream",
     "text": [
      "Epoch 150, Loss 0.0253\n",
      "Training Accuracy: 0.9692, Testing Accuracy: 0.9713\n",
      "\n"
     ]
    },
    {
     "name": "stdout",
     "output_type": "stream",
     "text": [
      "Epoch 160, Loss 0.0247\n",
      "Training Accuracy: 0.9703, Testing Accuracy: 0.9718\n",
      "\n"
     ]
    },
    {
     "name": "stdout",
     "output_type": "stream",
     "text": [
      "Epoch 170, Loss 0.0242\n",
      "Training Accuracy: 0.9709, Testing Accuracy: 0.9713\n",
      "\n"
     ]
    },
    {
     "name": "stdout",
     "output_type": "stream",
     "text": [
      "Epoch 180, Loss 0.0237\n",
      "Training Accuracy: 0.9716, Testing Accuracy: 0.9708\n",
      "\n"
     ]
    },
    {
     "name": "stdout",
     "output_type": "stream",
     "text": [
      "Epoch 190, Loss 0.0233\n",
      "Training Accuracy: 0.9723, Testing Accuracy: 0.9698\n",
      "\n"
     ]
    },
    {
     "name": "stdout",
     "output_type": "stream",
     "text": [
      "Epoch 200, Loss 0.0228\n",
      "Training Accuracy: 0.9732, Testing Accuracy: 0.9698\n",
      "\n"
     ]
    },
    {
     "name": "stdout",
     "output_type": "stream",
     "text": [
      "Epoch 210, Loss 0.0224\n",
      "Training Accuracy: 0.9735, Testing Accuracy: 0.9693\n",
      "\n"
     ]
    },
    {
     "name": "stdout",
     "output_type": "stream",
     "text": [
      "Epoch 220, Loss 0.022\n",
      "Training Accuracy: 0.9738, Testing Accuracy: 0.9693\n",
      "\n"
     ]
    },
    {
     "name": "stdout",
     "output_type": "stream",
     "text": [
      "Epoch 230, Loss 0.0217\n",
      "Training Accuracy: 0.9745, Testing Accuracy: 0.9693\n",
      "\n"
     ]
    },
    {
     "name": "stdout",
     "output_type": "stream",
     "text": [
      "Epoch 240, Loss 0.0213\n",
      "Training Accuracy: 0.9747, Testing Accuracy: 0.9698\n",
      "\n"
     ]
    },
    {
     "data": {
      "text/plain": [
       "0.005440507847997459"
      ]
     },
     "execution_count": 22,
     "metadata": {},
     "output_type": "execute_result"
    }
   ],
   "source": [
    "nn_learner.train_loop(dl)"
   ]
  },
  {
   "cell_type": "code",
   "execution_count": 23,
   "id": "e0163366",
   "metadata": {
    "execution": {
     "iopub.execute_input": "2022-03-22T00:33:48.573513Z",
     "iopub.status.busy": "2022-03-22T00:33:48.572970Z",
     "iopub.status.idle": "2022-03-22T00:34:02.784927Z",
     "shell.execute_reply": "2022-03-22T00:34:02.785715Z"
    },
    "papermill": {
     "duration": 14.257537,
     "end_time": "2022-03-22T00:34:02.785877",
     "exception": false,
     "start_time": "2022-03-22T00:33:48.528340",
     "status": "completed"
    },
    "tags": []
   },
   "outputs": [
    {
     "name": "stdout",
     "output_type": "stream",
     "text": [
      "Epoch 0, Loss 0.2741\n",
      "Training Accuracy: 0.5545, Testing Accuracy: 0.5701\n",
      "\n"
     ]
    },
    {
     "name": "stdout",
     "output_type": "stream",
     "text": [
      "Epoch 10, Loss 0.1051\n",
      "Training Accuracy: 0.9106, Testing Accuracy: 0.9214\n",
      "\n"
     ]
    },
    {
     "name": "stdout",
     "output_type": "stream",
     "text": [
      "Epoch 20, Loss 0.0799\n",
      "Training Accuracy: 0.9266, Testing Accuracy: 0.9330\n",
      "\n"
     ]
    },
    {
     "name": "stdout",
     "output_type": "stream",
     "text": [
      "Epoch 30, Loss 0.0689\n",
      "Training Accuracy: 0.9343, Testing Accuracy: 0.9441\n",
      "\n"
     ]
    },
    {
     "name": "stdout",
     "output_type": "stream",
     "text": [
      "Epoch 40, Loss 0.0623\n",
      "Training Accuracy: 0.9386, Testing Accuracy: 0.9486\n",
      "\n"
     ]
    },
    {
     "name": "stdout",
     "output_type": "stream",
     "text": [
      "Epoch 50, Loss 0.0578\n",
      "Training Accuracy: 0.9419, Testing Accuracy: 0.9531\n",
      "\n"
     ]
    },
    {
     "name": "stdout",
     "output_type": "stream",
     "text": [
      "Epoch 60, Loss 0.0544\n",
      "Training Accuracy: 0.9441, Testing Accuracy: 0.9577\n",
      "\n"
     ]
    },
    {
     "name": "stdout",
     "output_type": "stream",
     "text": [
      "Epoch 70, Loss 0.0518\n",
      "Training Accuracy: 0.9465, Testing Accuracy: 0.9572\n",
      "\n"
     ]
    },
    {
     "name": "stdout",
     "output_type": "stream",
     "text": [
      "Epoch 80, Loss 0.0498\n",
      "Training Accuracy: 0.9487, Testing Accuracy: 0.9592\n",
      "\n"
     ]
    },
    {
     "name": "stdout",
     "output_type": "stream",
     "text": [
      "Epoch 90, Loss 0.048\n",
      "Training Accuracy: 0.9497, Testing Accuracy: 0.9597\n",
      "\n"
     ]
    },
    {
     "name": "stdout",
     "output_type": "stream",
     "text": [
      "Epoch 100, Loss 0.0466\n",
      "Training Accuracy: 0.9508, Testing Accuracy: 0.9627\n",
      "\n"
     ]
    },
    {
     "name": "stdout",
     "output_type": "stream",
     "text": [
      "Epoch 110, Loss 0.0453\n",
      "Training Accuracy: 0.9522, Testing Accuracy: 0.9637\n",
      "\n"
     ]
    },
    {
     "name": "stdout",
     "output_type": "stream",
     "text": [
      "Epoch 120, Loss 0.0442\n",
      "Training Accuracy: 0.9534, Testing Accuracy: 0.9647\n",
      "\n"
     ]
    },
    {
     "name": "stdout",
     "output_type": "stream",
     "text": [
      "Epoch 130, Loss 0.0433\n",
      "Training Accuracy: 0.9548, Testing Accuracy: 0.9647\n",
      "\n"
     ]
    },
    {
     "name": "stdout",
     "output_type": "stream",
     "text": [
      "Epoch 140, Loss 0.0424\n",
      "Training Accuracy: 0.9559, Testing Accuracy: 0.9652\n",
      "\n"
     ]
    },
    {
     "name": "stdout",
     "output_type": "stream",
     "text": [
      "Epoch 150, Loss 0.0417\n",
      "Training Accuracy: 0.9568, Testing Accuracy: 0.9647\n",
      "\n"
     ]
    },
    {
     "name": "stdout",
     "output_type": "stream",
     "text": [
      "Epoch 160, Loss 0.041\n",
      "Training Accuracy: 0.9576, Testing Accuracy: 0.9647\n",
      "\n"
     ]
    },
    {
     "name": "stdout",
     "output_type": "stream",
     "text": [
      "Epoch 170, Loss 0.0403\n",
      "Training Accuracy: 0.9584, Testing Accuracy: 0.9657\n",
      "\n"
     ]
    },
    {
     "name": "stdout",
     "output_type": "stream",
     "text": [
      "Epoch 180, Loss 0.0398\n",
      "Training Accuracy: 0.9589, Testing Accuracy: 0.9662\n",
      "\n"
     ]
    },
    {
     "name": "stdout",
     "output_type": "stream",
     "text": [
      "Epoch 190, Loss 0.0392\n",
      "Training Accuracy: 0.9594, Testing Accuracy: 0.9657\n",
      "\n"
     ]
    },
    {
     "name": "stdout",
     "output_type": "stream",
     "text": [
      "Epoch 200, Loss 0.0387\n",
      "Training Accuracy: 0.9595, Testing Accuracy: 0.9652\n",
      "\n"
     ]
    },
    {
     "name": "stdout",
     "output_type": "stream",
     "text": [
      "Epoch 210, Loss 0.0383\n",
      "Training Accuracy: 0.9598, Testing Accuracy: 0.9652\n",
      "\n"
     ]
    },
    {
     "name": "stdout",
     "output_type": "stream",
     "text": [
      "Epoch 220, Loss 0.0379\n",
      "Training Accuracy: 0.9603, Testing Accuracy: 0.9652\n",
      "\n"
     ]
    },
    {
     "name": "stdout",
     "output_type": "stream",
     "text": [
      "Epoch 230, Loss 0.0375\n",
      "Training Accuracy: 0.9603, Testing Accuracy: 0.9652\n",
      "\n"
     ]
    },
    {
     "name": "stdout",
     "output_type": "stream",
     "text": [
      "Epoch 240, Loss 0.0371\n",
      "Training Accuracy: 0.9606, Testing Accuracy: 0.9652\n",
      "\n"
     ]
    },
    {
     "data": {
      "text/plain": [
       "0.016361120274066915"
      ]
     },
     "execution_count": 23,
     "metadata": {},
     "output_type": "execute_result"
    }
   ],
   "source": [
    "lr_learner.train_loop(dl)"
   ]
  },
  {
   "cell_type": "code",
   "execution_count": 24,
   "id": "ca410940",
   "metadata": {
    "execution": {
     "iopub.execute_input": "2022-03-22T00:34:02.881518Z",
     "iopub.status.busy": "2022-03-22T00:34:02.880975Z",
     "iopub.status.idle": "2022-03-22T00:34:03.094984Z",
     "shell.execute_reply": "2022-03-22T00:34:03.095405Z"
    },
    "papermill": {
     "duration": 0.26815,
     "end_time": "2022-03-22T00:34:03.095566",
     "exception": false,
     "start_time": "2022-03-22T00:34:02.827416",
     "status": "completed"
    },
    "tags": []
   },
   "outputs": [
    {
     "data": {
      "text/plain": [
       "<matplotlib.legend.Legend at 0x7fb7d0eabd68>"
      ]
     },
     "execution_count": 24,
     "metadata": {},
     "output_type": "execute_result"
    },
    {
     "data": {
      "image/png": "[encoded data removed]",
      "text/plain": [
       "<Figure size 1080x720 with 1 Axes>"
      ]
     },
     "metadata": {
      "needs_background": "light"
     },
     "output_type": "display_data"
    }
   ],
   "source": [
    "#comparing the results of NN and LR\n",
    "plt.figure(figsize=(15,10))\n",
    "\n",
    "# Neural Network plots\n",
    "plt.plot(acc_nn.accuracies, 'r-', label = \"Training Accuracies - NN\")\n",
    "plt.plot(acc_nn.test_accuracies, 'g-', label = \"Testing Accuracies - NN\")\n",
    "\n",
    "# Logistic Regression plots\n",
    "plt.plot(acc_lr.accuracies, 'k-', label = \"Training Accuracies - LR\")\n",
    "plt.plot(acc_lr.test_accuracies, 'b-', label = \"Testing Accuracies - LR\")\n",
    "plt.legend()"
   ]
  },
  {
   "cell_type": "markdown",
   "id": "80dfb35c",
   "metadata": {
    "papermill": {
     "duration": 0.044626,
     "end_time": "2022-03-22T00:34:03.185333",
     "exception": false,
     "start_time": "2022-03-22T00:34:03.140707",
     "status": "completed"
    },
    "tags": []
   },
   "source": [
    "#### Plotting the outputs of this layer of the NN.\n"
   ]
  },
  {
   "cell_type": "code",
   "execution_count": 25,
   "id": "45eb2ff5",
   "metadata": {
    "execution": {
     "iopub.execute_input": "2022-03-22T00:34:03.288559Z",
     "iopub.status.busy": "2022-03-22T00:34:03.272946Z",
     "iopub.status.idle": "2022-03-22T00:34:03.294996Z",
     "shell.execute_reply": "2022-03-22T00:34:03.295695Z"
    },
    "papermill": {
     "duration": 0.068746,
     "end_time": "2022-03-22T00:34:03.295854",
     "exception": false,
     "start_time": "2022-03-22T00:34:03.227108",
     "status": "completed"
    },
    "tags": []
   },
   "outputs": [],
   "source": [
    "new_model = Model(layers[:-2])\n",
    "testing_plot = new_model(testing_data_x)"
   ]
  },
  {
   "cell_type": "code",
   "execution_count": 26,
   "id": "4c0a5485",
   "metadata": {
    "execution": {
     "iopub.execute_input": "2022-03-22T00:34:03.386935Z",
     "iopub.status.busy": "2022-03-22T00:34:03.385837Z",
     "iopub.status.idle": "2022-03-22T00:34:03.572203Z",
     "shell.execute_reply": "2022-03-22T00:34:03.571731Z"
    },
    "papermill": {
     "duration": 0.234367,
     "end_time": "2022-03-22T00:34:03.572345",
     "exception": false,
     "start_time": "2022-03-22T00:34:03.337978",
     "status": "completed"
    },
    "tags": []
   },
   "outputs": [
    {
     "data": {
      "text/plain": [
       "Text(0.5, 1.0, 'Outputs')"
      ]
     },
     "execution_count": 26,
     "metadata": {},
     "output_type": "execute_result"
    },
    {
     "data": {
      "image/png": "[encoded data removed]",
      "text/plain": [
       "<Figure size 576x504 with 1 Axes>"
      ]
     },
     "metadata": {
      "needs_background": "light"
     },
     "output_type": "display_data"
    }
   ],
   "source": [
    "# Plotting the scatter plot of points and color coding by class\n",
    "plt.figure(figsize=(8,7))\n",
    "plt.scatter(testing_plot[:,0], testing_plot[:,1], alpha = 0.1, c = y_test.ravel());\n",
    "plt.title('Outputs')"
   ]
  },
  {
   "cell_type": "markdown",
   "id": "a74fcf8f",
   "metadata": {
    "papermill": {
     "duration": 0.043941,
     "end_time": "2022-03-22T00:34:03.660644",
     "exception": false,
     "start_time": "2022-03-22T00:34:03.616703",
     "status": "completed"
    },
    "tags": []
   },
   "source": [
    "Probability contours"
   ]
  },
  {
   "cell_type": "code",
   "execution_count": 27,
   "id": "d0afc8e3",
   "metadata": {
    "execution": {
     "iopub.execute_input": "2022-03-22T00:34:03.754201Z",
     "iopub.status.busy": "2022-03-22T00:34:03.753642Z",
     "iopub.status.idle": "2022-03-22T00:34:03.765357Z",
     "shell.execute_reply": "2022-03-22T00:34:03.764916Z"
    },
    "papermill": {
     "duration": 0.060711,
     "end_time": "2022-03-22T00:34:03.765472",
     "exception": false,
     "start_time": "2022-03-22T00:34:03.704761",
     "status": "completed"
    },
    "tags": []
   },
   "outputs": [],
   "source": [
    "model_prob = Model(layers[-2:]) "
   ]
  },
  {
   "cell_type": "code",
   "execution_count": 28,
   "id": "9b96e238",
   "metadata": {
    "execution": {
     "iopub.execute_input": "2022-03-22T00:34:03.861433Z",
     "iopub.status.busy": "2022-03-22T00:34:03.860909Z",
     "iopub.status.idle": "2022-03-22T00:34:03.871824Z",
     "shell.execute_reply": "2022-03-22T00:34:03.872257Z"
    },
    "papermill": {
     "duration": 0.062312,
     "end_time": "2022-03-22T00:34:03.872403",
     "exception": false,
     "start_time": "2022-03-22T00:34:03.810091",
     "status": "completed"
    },
    "tags": []
   },
   "outputs": [],
   "source": [
    "#creating the x and y ranges according to the above generated plot.\n",
    "x_range = np.linspace(-4, 1, 100) \n",
    "y_range = np.linspace(-6, 6, 100) \n",
    "x_grid, y_grid = np.meshgrid(x_range, y_range) # x_grid and y_grig are of size 100 X 100\n",
    "\n",
    "# converting x_grid and y_grid to continuous arrays\n",
    "x_gridflat = np.ravel(x_grid)\n",
    "y_gridflat = np.ravel(y_grid)\n",
    "\n",
    "# The last layer of the current model takes two columns as input. Hence transpose of np.vstack() is required.\n",
    "X = np.vstack((x_gridflat, y_gridflat)).T\n",
    "\n",
    "prob_contour = model_prob(X).reshape(100,100) "
   ]
  },
  {
   "cell_type": "code",
   "execution_count": 29,
   "id": "da72499a",
   "metadata": {
    "execution": {
     "iopub.execute_input": "2022-03-22T00:34:03.994299Z",
     "iopub.status.busy": "2022-03-22T00:34:03.993763Z",
     "iopub.status.idle": "2022-03-22T00:34:04.235026Z",
     "shell.execute_reply": "2022-03-22T00:34:04.235479Z"
    },
    "papermill": {
     "duration": 0.31875,
     "end_time": "2022-03-22T00:34:04.235626",
     "exception": false,
     "start_time": "2022-03-22T00:34:03.916876",
     "status": "completed"
    },
    "tags": []
   },
   "outputs": [
    {
     "data": {
      "image/png": "[encoded data removed]",
      "text/plain": [
       "<Figure size 720x648 with 1 Axes>"
      ]
     },
     "metadata": {
      "needs_background": "light"
     },
     "output_type": "display_data"
    }
   ],
   "source": [
    "plt.figure(figsize=(10,9))\n",
    "plt.scatter(testing_plot[:,0], testing_plot[:,1], alpha = 0.1, c = y_test.ravel())\n",
    "contours = plt.contour(x_grid,y_grid,prob_contour)\n",
    "plt.title('Probability Contours')\n",
    "plt.clabel(contours, inline = True );"
   ]
  },
  {
   "cell_type": "code",
   "execution_count": null,
   "id": "e81b4ac7",
   "metadata": {
    "papermill": {
     "duration": 0.046176,
     "end_time": "2022-03-22T00:34:04.328571",
     "exception": false,
     "start_time": "2022-03-22T00:34:04.282395",
     "status": "completed"
    },
    "tags": []
   },
   "outputs": [],
   "source": []
  }
 ],
 "metadata": {
  "kernelspec": {
   "display_name": "Python 3",
   "language": "python",
   "name": "python3"
  },
  "language_info": {
   "codemirror_mode": {
    "name": "ipython",
    "version": 3
   },
   "file_extension": ".py",
   "mimetype": "text/x-python",
   "name": "python",
   "nbconvert_exporter": "python",
   "pygments_lexer": "ipython3",
   "version": "3.6.15"
  },
  "papermill": {
   "default_parameters": {},
   "duration": 102.562462,
   "end_time": "2022-03-22T00:34:04.794045",
   "environment_variables": {},
   "exception": null,
   "input_path": "2020-08-11-part2.ipynb",
   "output_path": "2020-08-11-part2.ipynb",
   "parameters": {},
   "start_time": "2022-03-22T00:32:22.231583",
   "version": "2.3.3"
  }
 },
 "nbformat": 4,
 "nbformat_minor": 5
}