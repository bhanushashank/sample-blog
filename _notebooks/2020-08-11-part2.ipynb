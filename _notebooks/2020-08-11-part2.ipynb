{
 "cells": [
  {
   "cell_type": "markdown",
   "id": "98380cd3",
   "metadata": {
    "papermill": {
     "duration": 0.034195,
     "end_time": "2022-07-21T20:11:41.934229",
     "exception": false,
     "start_time": "2022-07-21T20:11:41.900034",
     "status": "completed"
    },
    "tags": []
   },
   "source": [
    "# Distinguish Your Own Digits (DYOD)"
   ]
  },
  {
   "cell_type": "markdown",
   "id": "ef31240d",
   "metadata": {
    "papermill": {
     "duration": 0.028314,
     "end_time": "2022-07-21T20:11:41.996951",
     "exception": false,
     "start_time": "2022-07-21T20:11:41.968637",
     "status": "completed"
    },
    "tags": []
   },
   "source": [
    "You are going to write a classifier that distinguishes between the number 3 and number 8."
   ]
  },
  {
   "cell_type": "code",
   "execution_count": 1,
   "id": "b15c8646",
   "metadata": {
    "execution": {
     "iopub.execute_input": "2022-07-21T20:11:42.065720Z",
     "iopub.status.busy": "2022-07-21T20:11:42.064900Z",
     "iopub.status.idle": "2022-07-21T20:11:42.089916Z",
     "shell.execute_reply": "2022-07-21T20:11:42.089304Z"
    },
    "papermill": {
     "duration": 0.061636,
     "end_time": "2022-07-21T20:11:42.090072",
     "exception": false,
     "start_time": "2022-07-21T20:11:42.028436",
     "status": "completed"
    },
    "tags": []
   },
   "outputs": [],
   "source": [
    "%load_ext autoreload\n",
    "%autoreload 2"
   ]
  },
  {
   "cell_type": "code",
   "execution_count": 2,
   "id": "22ef38dc",
   "metadata": {
    "execution": {
     "iopub.execute_input": "2022-07-21T20:11:42.160816Z",
     "iopub.status.busy": "2022-07-21T20:11:42.160032Z",
     "iopub.status.idle": "2022-07-21T20:11:42.858329Z",
     "shell.execute_reply": "2022-07-21T20:11:42.855649Z"
    },
    "papermill": {
     "duration": 0.737265,
     "end_time": "2022-07-21T20:11:42.858575",
     "exception": false,
     "start_time": "2022-07-21T20:11:42.121310",
     "status": "completed"
    },
    "tags": []
   },
   "outputs": [],
   "source": [
    "%matplotlib inline\n",
    "import numpy as np\n",
    "import matplotlib.pyplot as plt\n",
    "import pandas as pd"
   ]
  },
  {
   "cell_type": "markdown",
   "id": "ba036198",
   "metadata": {
    "papermill": {
     "duration": 0.031787,
     "end_time": "2022-07-21T20:11:42.923346",
     "exception": false,
     "start_time": "2022-07-21T20:11:42.891559",
     "status": "completed"
    },
    "tags": []
   },
   "source": [
    "From the command line run `pip install mnist`. This is a library that will help you bring down the mnist dataset. If you run this from a notebook, you need to put  `!pip install mnist` in a cell by itself."
   ]
  },
  {
   "cell_type": "code",
   "execution_count": 3,
   "id": "bb6ad8a1",
   "metadata": {
    "execution": {
     "iopub.execute_input": "2022-07-21T20:11:42.998078Z",
     "iopub.status.busy": "2022-07-21T20:11:42.995930Z",
     "iopub.status.idle": "2022-07-21T20:11:45.127033Z",
     "shell.execute_reply": "2022-07-21T20:11:45.127708Z"
    },
    "papermill": {
     "duration": 2.171964,
     "end_time": "2022-07-21T20:11:45.127886",
     "exception": false,
     "start_time": "2022-07-21T20:11:42.955922",
     "status": "completed"
    },
    "tags": []
   },
   "outputs": [
    {
     "name": "stdout",
     "output_type": "stream",
     "text": [
      "Collecting mnist\r\n"
     ]
    },
    {
     "name": "stdout",
     "output_type": "stream",
     "text": [
      "  Downloading mnist-0.2.2-py2.py3-none-any.whl (3.5 kB)\r\n"
     ]
    },
    {
     "name": "stdout",
     "output_type": "stream",
     "text": [
      "Requirement already satisfied: numpy in /opt/hostedtoolcache/Python/3.6.15/x64/lib/python3.6/site-packages (from mnist) (1.19.5)\r\n"
     ]
    },
    {
     "name": "stdout",
     "output_type": "stream",
     "text": [
      "Installing collected packages: mnist\r\n"
     ]
    },
    {
     "name": "stdout",
     "output_type": "stream",
     "text": [
      "Successfully installed mnist-0.2.2\r\n"
     ]
    }
   ],
   "source": [
    "!pip install mnist"
   ]
  },
  {
   "cell_type": "markdown",
   "id": "69df9c9a",
   "metadata": {
    "papermill": {
     "duration": 0.032488,
     "end_time": "2022-07-21T20:11:45.192699",
     "exception": false,
     "start_time": "2022-07-21T20:11:45.160211",
     "status": "completed"
    },
    "tags": []
   },
   "source": [
    "## Preparing the Data"
   ]
  },
  {
   "cell_type": "code",
   "execution_count": 4,
   "id": "7f69d806",
   "metadata": {
    "execution": {
     "iopub.execute_input": "2022-07-21T20:11:45.273736Z",
     "iopub.status.busy": "2022-07-21T20:11:45.268473Z",
     "iopub.status.idle": "2022-07-21T20:11:45.290729Z",
     "shell.execute_reply": "2022-07-21T20:11:45.289898Z"
    },
    "papermill": {
     "duration": 0.060618,
     "end_time": "2022-07-21T20:11:45.290883",
     "exception": false,
     "start_time": "2022-07-21T20:11:45.230265",
     "status": "completed"
    },
    "tags": []
   },
   "outputs": [],
   "source": [
    "import mnist"
   ]
  },
  {
   "cell_type": "code",
   "execution_count": 5,
   "id": "a411e44f",
   "metadata": {
    "execution": {
     "iopub.execute_input": "2022-07-21T20:11:45.366355Z",
     "iopub.status.busy": "2022-07-21T20:11:45.365509Z",
     "iopub.status.idle": "2022-07-21T20:11:46.073219Z",
     "shell.execute_reply": "2022-07-21T20:11:46.072369Z"
    },
    "papermill": {
     "duration": 0.747804,
     "end_time": "2022-07-21T20:11:46.073382",
     "exception": false,
     "start_time": "2022-07-21T20:11:45.325578",
     "status": "completed"
    },
    "tags": []
   },
   "outputs": [],
   "source": [
    "train_images = mnist.train_images()\n",
    "train_labels = mnist.train_labels()"
   ]
  },
  {
   "cell_type": "code",
   "execution_count": 6,
   "id": "dceab3a5",
   "metadata": {
    "execution": {
     "iopub.execute_input": "2022-07-21T20:11:46.150211Z",
     "iopub.status.busy": "2022-07-21T20:11:46.149470Z",
     "iopub.status.idle": "2022-07-21T20:11:46.168071Z",
     "shell.execute_reply": "2022-07-21T20:11:46.168705Z"
    },
    "papermill": {
     "duration": 0.058493,
     "end_time": "2022-07-21T20:11:46.168860",
     "exception": false,
     "start_time": "2022-07-21T20:11:46.110367",
     "status": "completed"
    },
    "tags": []
   },
   "outputs": [
    {
     "data": {
      "text/plain": [
       "((60000, 28, 28), (60000,))"
      ]
     },
     "execution_count": 6,
     "metadata": {},
     "output_type": "execute_result"
    }
   ],
   "source": [
    "train_images.shape, train_labels.shape"
   ]
  },
  {
   "cell_type": "code",
   "execution_count": 7,
   "id": "f50dc2bb",
   "metadata": {
    "execution": {
     "iopub.execute_input": "2022-07-21T20:11:46.250559Z",
     "iopub.status.busy": "2022-07-21T20:11:46.249027Z",
     "iopub.status.idle": "2022-07-21T20:11:46.498205Z",
     "shell.execute_reply": "2022-07-21T20:11:46.498841Z"
    },
    "papermill": {
     "duration": 0.298359,
     "end_time": "2022-07-21T20:11:46.499015",
     "exception": false,
     "start_time": "2022-07-21T20:11:46.200656",
     "status": "completed"
    },
    "tags": []
   },
   "outputs": [],
   "source": [
    "test_images = mnist.test_images()\n",
    "test_labels = mnist.test_labels()"
   ]
  },
  {
   "cell_type": "code",
   "execution_count": 8,
   "id": "fc38cf1b",
   "metadata": {
    "execution": {
     "iopub.execute_input": "2022-07-21T20:11:46.571873Z",
     "iopub.status.busy": "2022-07-21T20:11:46.571020Z",
     "iopub.status.idle": "2022-07-21T20:11:46.590824Z",
     "shell.execute_reply": "2022-07-21T20:11:46.590150Z"
    },
    "papermill": {
     "duration": 0.058636,
     "end_time": "2022-07-21T20:11:46.591018",
     "exception": false,
     "start_time": "2022-07-21T20:11:46.532382",
     "status": "completed"
    },
    "tags": []
   },
   "outputs": [
    {
     "data": {
      "text/plain": [
       "((10000, 28, 28), (10000,))"
      ]
     },
     "execution_count": 8,
     "metadata": {},
     "output_type": "execute_result"
    }
   ],
   "source": [
    "test_images.shape, test_labels.shape"
   ]
  },
  {
   "cell_type": "code",
   "execution_count": 9,
   "id": "f9ed8fe0",
   "metadata": {
    "execution": {
     "iopub.execute_input": "2022-07-21T20:11:46.669673Z",
     "iopub.status.busy": "2022-07-21T20:11:46.668886Z",
     "iopub.status.idle": "2022-07-21T20:11:46.887643Z",
     "shell.execute_reply": "2022-07-21T20:11:46.888609Z"
    },
    "papermill": {
     "duration": 0.259297,
     "end_time": "2022-07-21T20:11:46.888784",
     "exception": false,
     "start_time": "2022-07-21T20:11:46.629487",
     "status": "completed"
    },
    "tags": []
   },
   "outputs": [
    {
     "name": "stdout",
     "output_type": "stream",
     "text": [
      "2\n"
     ]
    },
    {
     "data": {
      "text/plain": [
       "<matplotlib.image.AxesImage at 0x7f5a6649e4a8>"
      ]
     },
     "execution_count": 9,
     "metadata": {},
     "output_type": "execute_result"
    },
    {
     "data": {
      "image/png": "[encoded data removed]",
      "text/plain": [
       "<Figure size 432x288 with 1 Axes>"
      ]
     },
     "metadata": {
      "needs_background": "light"
     },
     "output_type": "display_data"
    }
   ],
   "source": [
    "image_index = 7776 # You may select anything up to 60,000\n",
    "print(train_labels[image_index]) \n",
    "plt.imshow(train_images[image_index], cmap='Greys')"
   ]
  },
  {
   "cell_type": "markdown",
   "id": "a8d2388d",
   "metadata": {
    "papermill": {
     "duration": 0.033865,
     "end_time": "2022-07-21T20:11:46.958777",
     "exception": false,
     "start_time": "2022-07-21T20:11:46.924912",
     "status": "completed"
    },
    "tags": []
   },
   "source": [
    "## Filter data to get 3 and 8 out"
   ]
  },
  {
   "cell_type": "code",
   "execution_count": 10,
   "id": "776f7fc7",
   "metadata": {
    "execution": {
     "iopub.execute_input": "2022-07-21T20:11:47.037587Z",
     "iopub.status.busy": "2022-07-21T20:11:47.036722Z",
     "iopub.status.idle": "2022-07-21T20:11:47.064601Z",
     "shell.execute_reply": "2022-07-21T20:11:47.063661Z"
    },
    "papermill": {
     "duration": 0.070843,
     "end_time": "2022-07-21T20:11:47.064799",
     "exception": false,
     "start_time": "2022-07-21T20:11:46.993956",
     "status": "completed"
    },
    "tags": []
   },
   "outputs": [],
   "source": [
    "train_filter = np.where((train_labels == 3 ) | (train_labels == 8))\n",
    "test_filter = np.where((test_labels == 3) | (test_labels == 8))\n",
    "X_train, y_train = train_images[train_filter], train_labels[train_filter]\n",
    "X_test, y_test = test_images[test_filter], test_labels[test_filter]"
   ]
  },
  {
   "cell_type": "markdown",
   "id": "948f0b7e",
   "metadata": {
    "papermill": {
     "duration": 0.035072,
     "end_time": "2022-07-21T20:11:47.136640",
     "exception": false,
     "start_time": "2022-07-21T20:11:47.101568",
     "status": "completed"
    },
    "tags": []
   },
   "source": [
    "We normalize the pizel values in the 0 to 1 range"
   ]
  },
  {
   "cell_type": "code",
   "execution_count": 11,
   "id": "ee4c2166",
   "metadata": {
    "execution": {
     "iopub.execute_input": "2022-07-21T20:11:47.209982Z",
     "iopub.status.busy": "2022-07-21T20:11:47.209264Z",
     "iopub.status.idle": "2022-07-21T20:11:47.344510Z",
     "shell.execute_reply": "2022-07-21T20:11:47.343721Z"
    },
    "papermill": {
     "duration": 0.174168,
     "end_time": "2022-07-21T20:11:47.344715",
     "exception": false,
     "start_time": "2022-07-21T20:11:47.170547",
     "status": "completed"
    },
    "tags": []
   },
   "outputs": [],
   "source": [
    "X_train = X_train/255.\n",
    "X_test = X_test/255."
   ]
  },
  {
   "cell_type": "markdown",
   "id": "ddcf4fab",
   "metadata": {
    "papermill": {
     "duration": 0.032922,
     "end_time": "2022-07-21T20:11:47.414995",
     "exception": false,
     "start_time": "2022-07-21T20:11:47.382073",
     "status": "completed"
    },
    "tags": []
   },
   "source": [
    "And setup the labels as 1 (when the digit is 3) and 0 (when the digit is 8)"
   ]
  },
  {
   "cell_type": "code",
   "execution_count": 12,
   "id": "7dc908f2",
   "metadata": {
    "execution": {
     "iopub.execute_input": "2022-07-21T20:11:47.491654Z",
     "iopub.status.busy": "2022-07-21T20:11:47.490716Z",
     "iopub.status.idle": "2022-07-21T20:11:47.507847Z",
     "shell.execute_reply": "2022-07-21T20:11:47.508655Z"
    },
    "papermill": {
     "duration": 0.060666,
     "end_time": "2022-07-21T20:11:47.508855",
     "exception": false,
     "start_time": "2022-07-21T20:11:47.448189",
     "status": "completed"
    },
    "tags": []
   },
   "outputs": [],
   "source": [
    "y_train = 1*(y_train==3)\n",
    "y_test = 1*(y_test==3)"
   ]
  },
  {
   "cell_type": "code",
   "execution_count": 13,
   "id": "01e4e969",
   "metadata": {
    "execution": {
     "iopub.execute_input": "2022-07-21T20:11:47.587083Z",
     "iopub.status.busy": "2022-07-21T20:11:47.586260Z",
     "iopub.status.idle": "2022-07-21T20:11:47.605108Z",
     "shell.execute_reply": "2022-07-21T20:11:47.605739Z"
    },
    "papermill": {
     "duration": 0.061164,
     "end_time": "2022-07-21T20:11:47.605922",
     "exception": false,
     "start_time": "2022-07-21T20:11:47.544758",
     "status": "completed"
    },
    "tags": []
   },
   "outputs": [
    {
     "data": {
      "text/plain": [
       "((11982, 28, 28), (1984, 28, 28))"
      ]
     },
     "execution_count": 13,
     "metadata": {},
     "output_type": "execute_result"
    }
   ],
   "source": [
    "X_train.shape, X_test.shape"
   ]
  },
  {
   "cell_type": "markdown",
   "id": "5ccf3f85",
   "metadata": {
    "papermill": {
     "duration": 0.035642,
     "end_time": "2022-07-21T20:11:47.678326",
     "exception": false,
     "start_time": "2022-07-21T20:11:47.642684",
     "status": "completed"
    },
    "tags": []
   },
   "source": [
    "We reshape the data to flatten the image pixels into a set of features or co-variates:"
   ]
  },
  {
   "cell_type": "code",
   "execution_count": 14,
   "id": "5286a4a3",
   "metadata": {
    "execution": {
     "iopub.execute_input": "2022-07-21T20:11:47.754569Z",
     "iopub.status.busy": "2022-07-21T20:11:47.753833Z",
     "iopub.status.idle": "2022-07-21T20:11:47.771251Z",
     "shell.execute_reply": "2022-07-21T20:11:47.770558Z"
    },
    "papermill": {
     "duration": 0.056974,
     "end_time": "2022-07-21T20:11:47.771380",
     "exception": false,
     "start_time": "2022-07-21T20:11:47.714406",
     "status": "completed"
    },
    "tags": []
   },
   "outputs": [
    {
     "data": {
      "text/plain": [
       "((11982, 784), (1984, 784))"
      ]
     },
     "execution_count": 14,
     "metadata": {},
     "output_type": "execute_result"
    }
   ],
   "source": [
    "X_train = X_train.reshape(X_train.shape[0], -1)\n",
    "X_test = X_test.reshape(X_test.shape[0], -1)\n",
    "X_train.shape, X_test.shape"
   ]
  },
  {
   "cell_type": "code",
   "execution_count": 15,
   "id": "73c5f88a",
   "metadata": {
    "execution": {
     "iopub.execute_input": "2022-07-21T20:11:47.859113Z",
     "iopub.status.busy": "2022-07-21T20:11:47.858272Z",
     "iopub.status.idle": "2022-07-21T20:11:47.888285Z",
     "shell.execute_reply": "2022-07-21T20:11:47.887598Z"
    },
    "papermill": {
     "duration": 0.080187,
     "end_time": "2022-07-21T20:11:47.888453",
     "exception": false,
     "start_time": "2022-07-21T20:11:47.808266",
     "status": "completed"
    },
    "tags": []
   },
   "outputs": [],
   "source": [
    "#Impoting functions from 'Kudzu'\n",
    "from kudzu.model import Model\n",
    "from kudzu.train import Learner\n",
    "from kudzu.optim import GD\n",
    "from kudzu.data import Data, Sampler,Dataloader\n",
    "\n",
    "from kudzu.callbacks import AccCallback\n",
    "from kudzu.callbacks import ClfCallback\n",
    "\n",
    "from kudzu.loss import MSE\n",
    "\n",
    "from kudzu.layer import Sigmoid,Relu\n",
    "from kudzu.layer import Affine"
   ]
  },
  {
   "cell_type": "markdown",
   "id": "bc01172a",
   "metadata": {
    "papermill": {
     "duration": 0.03363,
     "end_time": "2022-07-21T20:11:47.959525",
     "exception": false,
     "start_time": "2022-07-21T20:11:47.925895",
     "status": "completed"
    },
    "tags": []
   },
   "source": [
    "### Let us create a `Config` class, to store important parameters. \n",
    "This class essentially plays the role of a dictionary."
   ]
  },
  {
   "cell_type": "code",
   "execution_count": 16,
   "id": "978281aa",
   "metadata": {
    "execution": {
     "iopub.execute_input": "2022-07-21T20:11:48.042687Z",
     "iopub.status.busy": "2022-07-21T20:11:48.041974Z",
     "iopub.status.idle": "2022-07-21T20:11:48.061539Z",
     "shell.execute_reply": "2022-07-21T20:11:48.062288Z"
    },
    "papermill": {
     "duration": 0.070726,
     "end_time": "2022-07-21T20:11:48.062512",
     "exception": false,
     "start_time": "2022-07-21T20:11:47.991786",
     "status": "completed"
    },
    "tags": []
   },
   "outputs": [],
   "source": [
    "class Config:\n",
    "    pass\n",
    "config = Config()\n",
    "config.lr = 0.001\n",
    "config.num_epochs = 250\n",
    "config.bs = 50"
   ]
  },
  {
   "cell_type": "markdown",
   "id": "1385fa59",
   "metadata": {
    "papermill": {
     "duration": 0.038494,
     "end_time": "2022-07-21T20:11:48.138823",
     "exception": false,
     "start_time": "2022-07-21T20:11:48.100329",
     "status": "completed"
    },
    "tags": []
   },
   "source": [
    "### Running Models with the Training data\n",
    "Details about the network layers:\n",
    "- A first affine layer has 784 inputs and does 100 affine transforms. These are followed by a Relu\n",
    "- A second affine layer has 100 inputs from the 100 activations of the past layer, and does 100 affine transforms. These are followed by a Relu\n",
    "- A third affine layer has 100 activations and does 2 affine transformations to create an embedding for visualization. There is no non-linearity here.\n",
    "- A final \"logistic regression\" which has an affine transform from 2 inputs to 1 output, which is squeezed through a sigmoid.\n"
   ]
  },
  {
   "cell_type": "code",
   "execution_count": 17,
   "id": "2b9c66db",
   "metadata": {
    "execution": {
     "iopub.execute_input": "2022-07-21T20:11:48.215580Z",
     "iopub.status.busy": "2022-07-21T20:11:48.214722Z",
     "iopub.status.idle": "2022-07-21T20:11:48.235682Z",
     "shell.execute_reply": "2022-07-21T20:11:48.234906Z"
    },
    "papermill": {
     "duration": 0.060638,
     "end_time": "2022-07-21T20:11:48.235857",
     "exception": false,
     "start_time": "2022-07-21T20:11:48.175219",
     "status": "completed"
    },
    "tags": []
   },
   "outputs": [],
   "source": [
    "data = Data(X_train, y_train.reshape(-1,1))\n",
    "sampler = Sampler(data, config.bs, shuffle=True)\n",
    "\n",
    "dl = Dataloader(data, sampler)\n",
    "\n",
    "opt = GD(config.lr)\n",
    "loss = MSE()"
   ]
  },
  {
   "cell_type": "code",
   "execution_count": 18,
   "id": "b275e4c2",
   "metadata": {
    "execution": {
     "iopub.execute_input": "2022-07-21T20:11:48.317901Z",
     "iopub.status.busy": "2022-07-21T20:11:48.317150Z",
     "iopub.status.idle": "2022-07-21T20:11:48.334355Z",
     "shell.execute_reply": "2022-07-21T20:11:48.333766Z"
    },
    "papermill": {
     "duration": 0.058619,
     "end_time": "2022-07-21T20:11:48.334493",
     "exception": false,
     "start_time": "2022-07-21T20:11:48.275874",
     "status": "completed"
    },
    "tags": []
   },
   "outputs": [],
   "source": [
    "training_data_x = X_train\n",
    "testing_data_x = X_test\n",
    "training_data_y = y_train.reshape(-1,1)\n",
    "testing_data_y = y_test.reshape(-1,1)"
   ]
  },
  {
   "cell_type": "code",
   "execution_count": 19,
   "id": "76951160",
   "metadata": {
    "execution": {
     "iopub.execute_input": "2022-07-21T20:11:48.414338Z",
     "iopub.status.busy": "2022-07-21T20:11:48.413537Z",
     "iopub.status.idle": "2022-07-21T20:11:48.439754Z",
     "shell.execute_reply": "2022-07-21T20:11:48.440624Z"
    },
    "papermill": {
     "duration": 0.069513,
     "end_time": "2022-07-21T20:11:48.440879",
     "exception": false,
     "start_time": "2022-07-21T20:11:48.371366",
     "status": "completed"
    },
    "tags": []
   },
   "outputs": [
    {
     "name": "stdout",
     "output_type": "stream",
     "text": [
      "xavier\n",
      "xavier\n",
      "xavier\n",
      "xavier\n",
      "xavier\n"
     ]
    }
   ],
   "source": [
    "layers = [Affine(\"first\", 784, 100), Relu(\"first\"), Affine(\"second\", 100, 100), Relu(\"second\"), Affine(\"third\", 100, 2), Affine(\"last\", 2, 1), Sigmoid(\"last\")]\n",
    "model_nn = Model(layers)\n",
    "model_lr = Model([Affine(\"logits\", 784, 1), Sigmoid(\"sigmoid\")])"
   ]
  },
  {
   "cell_type": "code",
   "execution_count": 20,
   "id": "6eede77a",
   "metadata": {
    "execution": {
     "iopub.execute_input": "2022-07-21T20:11:48.522522Z",
     "iopub.status.busy": "2022-07-21T20:11:48.521748Z",
     "iopub.status.idle": "2022-07-21T20:11:48.537934Z",
     "shell.execute_reply": "2022-07-21T20:11:48.537347Z"
    },
    "papermill": {
     "duration": 0.057589,
     "end_time": "2022-07-21T20:11:48.538073",
     "exception": false,
     "start_time": "2022-07-21T20:11:48.480484",
     "status": "completed"
    },
    "tags": []
   },
   "outputs": [],
   "source": [
    "nn_learner = Learner(loss, model_nn, opt, config.num_epochs)\n",
    "acc_nn = ClfCallback(nn_learner, config.bs, training_data_x , testing_data_x, training_data_y, testing_data_y)\n",
    "nn_learner.set_callbacks([acc_nn])"
   ]
  },
  {
   "cell_type": "code",
   "execution_count": 21,
   "id": "877b6cc7",
   "metadata": {
    "execution": {
     "iopub.execute_input": "2022-07-21T20:11:48.618775Z",
     "iopub.status.busy": "2022-07-21T20:11:48.618018Z",
     "iopub.status.idle": "2022-07-21T20:11:48.634663Z",
     "shell.execute_reply": "2022-07-21T20:11:48.635438Z"
    },
    "papermill": {
     "duration": 0.063843,
     "end_time": "2022-07-21T20:11:48.635636",
     "exception": false,
     "start_time": "2022-07-21T20:11:48.571793",
     "status": "completed"
    },
    "tags": []
   },
   "outputs": [],
   "source": [
    "lr_learner = Learner(loss, model_lr, opt, config.num_epochs)\n",
    "acc_lr = ClfCallback(lr_learner, config.bs, training_data_x , testing_data_x, training_data_y, testing_data_y)\n",
    "lr_learner.set_callbacks([acc_lr])"
   ]
  },
  {
   "cell_type": "code",
   "execution_count": 22,
   "id": "d9b133c3",
   "metadata": {
    "execution": {
     "iopub.execute_input": "2022-07-21T20:11:48.710238Z",
     "iopub.status.busy": "2022-07-21T20:11:48.709520Z",
     "iopub.status.idle": "2022-07-21T20:14:21.620480Z",
     "shell.execute_reply": "2022-07-21T20:14:21.621674Z"
    },
    "papermill": {
     "duration": 152.952845,
     "end_time": "2022-07-21T20:14:21.621894",
     "exception": false,
     "start_time": "2022-07-21T20:11:48.669049",
     "status": "completed"
    },
    "tags": []
   },
   "outputs": [
    {
     "name": "stdout",
     "output_type": "stream",
     "text": [
      "Epoch 0, Loss 0.2182\n",
      "Training Accuracy: 0.8165, Testing Accuracy: 0.8110\n",
      "\n"
     ]
    },
    {
     "name": "stdout",
     "output_type": "stream",
     "text": [
      "Epoch 10, Loss 0.0587\n",
      "Training Accuracy: 0.9427, Testing Accuracy: 0.9481\n",
      "\n"
     ]
    },
    {
     "name": "stdout",
     "output_type": "stream",
     "text": [
      "Epoch 20, Loss 0.0419\n",
      "Training Accuracy: 0.9540, Testing Accuracy: 0.9612\n",
      "\n"
     ]
    },
    {
     "name": "stdout",
     "output_type": "stream",
     "text": [
      "Epoch 30, Loss 0.0356\n",
      "Training Accuracy: 0.9586, Testing Accuracy: 0.9642\n",
      "\n"
     ]
    },
    {
     "name": "stdout",
     "output_type": "stream",
     "text": [
      "Epoch 40, Loss 0.0321\n",
      "Training Accuracy: 0.9625, Testing Accuracy: 0.9657\n",
      "\n"
     ]
    },
    {
     "name": "stdout",
     "output_type": "stream",
     "text": [
      "Epoch 50, Loss 0.0298\n",
      "Training Accuracy: 0.9659, Testing Accuracy: 0.9693\n",
      "\n"
     ]
    },
    {
     "name": "stdout",
     "output_type": "stream",
     "text": [
      "Epoch 60, Loss 0.028\n",
      "Training Accuracy: 0.9678, Testing Accuracy: 0.9703\n",
      "\n"
     ]
    },
    {
     "name": "stdout",
     "output_type": "stream",
     "text": [
      "Epoch 70, Loss 0.0267\n",
      "Training Accuracy: 0.9692, Testing Accuracy: 0.9718\n",
      "\n"
     ]
    },
    {
     "name": "stdout",
     "output_type": "stream",
     "text": [
      "Epoch 80, Loss 0.0256\n",
      "Training Accuracy: 0.9706, Testing Accuracy: 0.9713\n",
      "\n"
     ]
    },
    {
     "name": "stdout",
     "output_type": "stream",
     "text": [
      "Epoch 90, Loss 0.0246\n",
      "Training Accuracy: 0.9714, Testing Accuracy: 0.9713\n",
      "\n"
     ]
    },
    {
     "name": "stdout",
     "output_type": "stream",
     "text": [
      "Epoch 100, Loss 0.0238\n",
      "Training Accuracy: 0.9727, Testing Accuracy: 0.9708\n",
      "\n"
     ]
    },
    {
     "name": "stdout",
     "output_type": "stream",
     "text": [
      "Epoch 110, Loss 0.023\n",
      "Training Accuracy: 0.9734, Testing Accuracy: 0.9728\n",
      "\n"
     ]
    },
    {
     "name": "stdout",
     "output_type": "stream",
     "text": [
      "Epoch 120, Loss 0.0224\n",
      "Training Accuracy: 0.9744, Testing Accuracy: 0.9723\n",
      "\n"
     ]
    },
    {
     "name": "stdout",
     "output_type": "stream",
     "text": [
      "Epoch 130, Loss 0.0217\n",
      "Training Accuracy: 0.9751, Testing Accuracy: 0.9728\n",
      "\n"
     ]
    },
    {
     "name": "stdout",
     "output_type": "stream",
     "text": [
      "Epoch 140, Loss 0.0211\n",
      "Training Accuracy: 0.9761, Testing Accuracy: 0.9723\n",
      "\n"
     ]
    },
    {
     "name": "stdout",
     "output_type": "stream",
     "text": [
      "Epoch 150, Loss 0.0206\n",
      "Training Accuracy: 0.9765, Testing Accuracy: 0.9718\n",
      "\n"
     ]
    },
    {
     "name": "stdout",
     "output_type": "stream",
     "text": [
      "Epoch 160, Loss 0.0201\n",
      "Training Accuracy: 0.9777, Testing Accuracy: 0.9718\n",
      "\n"
     ]
    },
    {
     "name": "stdout",
     "output_type": "stream",
     "text": [
      "Epoch 170, Loss 0.0196\n",
      "Training Accuracy: 0.9783, Testing Accuracy: 0.9718\n",
      "\n"
     ]
    },
    {
     "name": "stdout",
     "output_type": "stream",
     "text": [
      "Epoch 180, Loss 0.0191\n",
      "Training Accuracy: 0.9790, Testing Accuracy: 0.9718\n",
      "\n"
     ]
    },
    {
     "name": "stdout",
     "output_type": "stream",
     "text": [
      "Epoch 190, Loss 0.0186\n",
      "Training Accuracy: 0.9801, Testing Accuracy: 0.9728\n",
      "\n"
     ]
    },
    {
     "name": "stdout",
     "output_type": "stream",
     "text": [
      "Epoch 200, Loss 0.0182\n",
      "Training Accuracy: 0.9806, Testing Accuracy: 0.9728\n",
      "\n"
     ]
    },
    {
     "name": "stdout",
     "output_type": "stream",
     "text": [
      "Epoch 210, Loss 0.0177\n",
      "Training Accuracy: 0.9810, Testing Accuracy: 0.9733\n",
      "\n"
     ]
    },
    {
     "name": "stdout",
     "output_type": "stream",
     "text": [
      "Epoch 220, Loss 0.0173\n",
      "Training Accuracy: 0.9815, Testing Accuracy: 0.9738\n",
      "\n"
     ]
    },
    {
     "name": "stdout",
     "output_type": "stream",
     "text": [
      "Epoch 230, Loss 0.0169\n",
      "Training Accuracy: 0.9821, Testing Accuracy: 0.9733\n",
      "\n"
     ]
    },
    {
     "name": "stdout",
     "output_type": "stream",
     "text": [
      "Epoch 240, Loss 0.0164\n",
      "Training Accuracy: 0.9826, Testing Accuracy: 0.9738\n",
      "\n"
     ]
    },
    {
     "data": {
      "text/plain": [
       "0.022887283495361"
      ]
     },
     "execution_count": 22,
     "metadata": {},
     "output_type": "execute_result"
    }
   ],
   "source": [
    "nn_learner.train_loop(dl)"
   ]
  },
  {
   "cell_type": "code",
   "execution_count": 23,
   "id": "e0163366",
   "metadata": {
    "execution": {
     "iopub.execute_input": "2022-07-21T20:14:21.727195Z",
     "iopub.status.busy": "2022-07-21T20:14:21.726260Z",
     "iopub.status.idle": "2022-07-21T20:14:43.681559Z",
     "shell.execute_reply": "2022-07-21T20:14:43.682379Z"
    },
    "papermill": {
     "duration": 22.009385,
     "end_time": "2022-07-21T20:14:43.682590",
     "exception": false,
     "start_time": "2022-07-21T20:14:21.673205",
     "status": "completed"
    },
    "tags": []
   },
   "outputs": [
    {
     "name": "stdout",
     "output_type": "stream",
     "text": [
      "Epoch 0, Loss 0.2187\n",
      "Training Accuracy: 0.7793, Testing Accuracy: 0.7944\n",
      "\n"
     ]
    },
    {
     "name": "stdout",
     "output_type": "stream",
     "text": [
      "Epoch 10, Loss 0.1013\n",
      "Training Accuracy: 0.9074, Testing Accuracy: 0.9219\n",
      "\n"
     ]
    },
    {
     "name": "stdout",
     "output_type": "stream",
     "text": [
      "Epoch 20, Loss 0.079\n",
      "Training Accuracy: 0.9246, Testing Accuracy: 0.9360\n",
      "\n"
     ]
    },
    {
     "name": "stdout",
     "output_type": "stream",
     "text": [
      "Epoch 30, Loss 0.0684\n",
      "Training Accuracy: 0.9337, Testing Accuracy: 0.9430\n",
      "\n"
     ]
    },
    {
     "name": "stdout",
     "output_type": "stream",
     "text": [
      "Epoch 40, Loss 0.0619\n",
      "Training Accuracy: 0.9391, Testing Accuracy: 0.9501\n",
      "\n"
     ]
    },
    {
     "name": "stdout",
     "output_type": "stream",
     "text": [
      "Epoch 50, Loss 0.0575\n",
      "Training Accuracy: 0.9424, Testing Accuracy: 0.9531\n",
      "\n"
     ]
    },
    {
     "name": "stdout",
     "output_type": "stream",
     "text": [
      "Epoch 60, Loss 0.0542\n",
      "Training Accuracy: 0.9446, Testing Accuracy: 0.9556\n",
      "\n"
     ]
    },
    {
     "name": "stdout",
     "output_type": "stream",
     "text": [
      "Epoch 70, Loss 0.0516\n",
      "Training Accuracy: 0.9483, Testing Accuracy: 0.9602\n",
      "\n"
     ]
    },
    {
     "name": "stdout",
     "output_type": "stream",
     "text": [
      "Epoch 80, Loss 0.0495\n",
      "Training Accuracy: 0.9507, Testing Accuracy: 0.9607\n",
      "\n"
     ]
    },
    {
     "name": "stdout",
     "output_type": "stream",
     "text": [
      "Epoch 90, Loss 0.0478\n",
      "Training Accuracy: 0.9520, Testing Accuracy: 0.9607\n",
      "\n"
     ]
    },
    {
     "name": "stdout",
     "output_type": "stream",
     "text": [
      "Epoch 100, Loss 0.0464\n",
      "Training Accuracy: 0.9530, Testing Accuracy: 0.9612\n",
      "\n"
     ]
    },
    {
     "name": "stdout",
     "output_type": "stream",
     "text": [
      "Epoch 110, Loss 0.0452\n",
      "Training Accuracy: 0.9538, Testing Accuracy: 0.9617\n",
      "\n"
     ]
    },
    {
     "name": "stdout",
     "output_type": "stream",
     "text": [
      "Epoch 120, Loss 0.0441\n",
      "Training Accuracy: 0.9543, Testing Accuracy: 0.9617\n",
      "\n"
     ]
    },
    {
     "name": "stdout",
     "output_type": "stream",
     "text": [
      "Epoch 130, Loss 0.0432\n",
      "Training Accuracy: 0.9549, Testing Accuracy: 0.9622\n",
      "\n"
     ]
    },
    {
     "name": "stdout",
     "output_type": "stream",
     "text": [
      "Epoch 140, Loss 0.0423\n",
      "Training Accuracy: 0.9557, Testing Accuracy: 0.9627\n",
      "\n"
     ]
    },
    {
     "name": "stdout",
     "output_type": "stream",
     "text": [
      "Epoch 150, Loss 0.0416\n",
      "Training Accuracy: 0.9569, Testing Accuracy: 0.9632\n",
      "\n"
     ]
    },
    {
     "name": "stdout",
     "output_type": "stream",
     "text": [
      "Epoch 160, Loss 0.0409\n",
      "Training Accuracy: 0.9574, Testing Accuracy: 0.9637\n",
      "\n"
     ]
    },
    {
     "name": "stdout",
     "output_type": "stream",
     "text": [
      "Epoch 170, Loss 0.0403\n",
      "Training Accuracy: 0.9580, Testing Accuracy: 0.9637\n",
      "\n"
     ]
    },
    {
     "name": "stdout",
     "output_type": "stream",
     "text": [
      "Epoch 180, Loss 0.0397\n",
      "Training Accuracy: 0.9582, Testing Accuracy: 0.9637\n",
      "\n"
     ]
    },
    {
     "name": "stdout",
     "output_type": "stream",
     "text": [
      "Epoch 190, Loss 0.0392\n",
      "Training Accuracy: 0.9585, Testing Accuracy: 0.9637\n",
      "\n"
     ]
    },
    {
     "name": "stdout",
     "output_type": "stream",
     "text": [
      "Epoch 200, Loss 0.0387\n",
      "Training Accuracy: 0.9587, Testing Accuracy: 0.9642\n",
      "\n"
     ]
    },
    {
     "name": "stdout",
     "output_type": "stream",
     "text": [
      "Epoch 210, Loss 0.0383\n",
      "Training Accuracy: 0.9593, Testing Accuracy: 0.9647\n",
      "\n"
     ]
    },
    {
     "name": "stdout",
     "output_type": "stream",
     "text": [
      "Epoch 220, Loss 0.0378\n",
      "Training Accuracy: 0.9599, Testing Accuracy: 0.9647\n",
      "\n"
     ]
    },
    {
     "name": "stdout",
     "output_type": "stream",
     "text": [
      "Epoch 230, Loss 0.0374\n",
      "Training Accuracy: 0.9600, Testing Accuracy: 0.9647\n",
      "\n"
     ]
    },
    {
     "name": "stdout",
     "output_type": "stream",
     "text": [
      "Epoch 240, Loss 0.0371\n",
      "Training Accuracy: 0.9602, Testing Accuracy: 0.9647\n",
      "\n"
     ]
    },
    {
     "data": {
      "text/plain": [
       "0.028624199594457143"
      ]
     },
     "execution_count": 23,
     "metadata": {},
     "output_type": "execute_result"
    }
   ],
   "source": [
    "lr_learner.train_loop(dl)"
   ]
  },
  {
   "cell_type": "code",
   "execution_count": 24,
   "id": "ca410940",
   "metadata": {
    "execution": {
     "iopub.execute_input": "2022-07-21T20:14:43.822587Z",
     "iopub.status.busy": "2022-07-21T20:14:43.821813Z",
     "iopub.status.idle": "2022-07-21T20:14:44.188122Z",
     "shell.execute_reply": "2022-07-21T20:14:44.188836Z"
    },
    "papermill": {
     "duration": 0.432756,
     "end_time": "2022-07-21T20:14:44.189024",
     "exception": false,
     "start_time": "2022-07-21T20:14:43.756268",
     "status": "completed"
    },
    "tags": []
   },
   "outputs": [
    {
     "data": {
      "text/plain": [
       "<matplotlib.legend.Legend at 0x7f5a65ffec18>"
      ]
     },
     "execution_count": 24,
     "metadata": {},
     "output_type": "execute_result"
    },
    {
     "data": {
      "image/png": "[encoded data removed]",
      "text/plain": [
       "<Figure size 1080x720 with 1 Axes>"
      ]
     },
     "metadata": {
      "needs_background": "light"
     },
     "output_type": "display_data"
    }
   ],
   "source": [
    "#comparing the results of NN and LR\n",
    "plt.figure(figsize=(15,10))\n",
    "\n",
    "# Neural Network plots\n",
    "plt.plot(acc_nn.accuracies, 'r-', label = \"Training Accuracies - NN\")\n",
    "plt.plot(acc_nn.test_accuracies, 'g-', label = \"Testing Accuracies - NN\")\n",
    "\n",
    "# Logistic Regression plots\n",
    "plt.plot(acc_lr.accuracies, 'k-', label = \"Training Accuracies - LR\")\n",
    "plt.plot(acc_lr.test_accuracies, 'b-', label = \"Testing Accuracies - LR\")\n",
    "plt.legend()"
   ]
  },
  {
   "cell_type": "markdown",
   "id": "80dfb35c",
   "metadata": {
    "papermill": {
     "duration": 0.057498,
     "end_time": "2022-07-21T20:14:44.307644",
     "exception": false,
     "start_time": "2022-07-21T20:14:44.250146",
     "status": "completed"
    },
    "tags": []
   },
   "source": [
    "#### Plotting the outputs of this layer of the NN.\n"
   ]
  },
  {
   "cell_type": "code",
   "execution_count": 25,
   "id": "45eb2ff5",
   "metadata": {
    "execution": {
     "iopub.execute_input": "2022-07-21T20:14:44.423493Z",
     "iopub.status.busy": "2022-07-21T20:14:44.422770Z",
     "iopub.status.idle": "2022-07-21T20:14:44.456511Z",
     "shell.execute_reply": "2022-07-21T20:14:44.457184Z"
    },
    "papermill": {
     "duration": 0.094356,
     "end_time": "2022-07-21T20:14:44.457362",
     "exception": false,
     "start_time": "2022-07-21T20:14:44.363006",
     "status": "completed"
    },
    "tags": []
   },
   "outputs": [],
   "source": [
    "new_model = Model(layers[:-2])\n",
    "testing_plot = new_model(testing_data_x)"
   ]
  },
  {
   "cell_type": "code",
   "execution_count": 26,
   "id": "4c0a5485",
   "metadata": {
    "execution": {
     "iopub.execute_input": "2022-07-21T20:14:44.582437Z",
     "iopub.status.busy": "2022-07-21T20:14:44.581583Z",
     "iopub.status.idle": "2022-07-21T20:14:44.883120Z",
     "shell.execute_reply": "2022-07-21T20:14:44.882467Z"
    },
    "papermill": {
     "duration": 0.36729,
     "end_time": "2022-07-21T20:14:44.883278",
     "exception": false,
     "start_time": "2022-07-21T20:14:44.515988",
     "status": "completed"
    },
    "tags": []
   },
   "outputs": [
    {
     "data": {
      "text/plain": [
       "Text(0.5, 1.0, 'Outputs')"
      ]
     },
     "execution_count": 26,
     "metadata": {},
     "output_type": "execute_result"
    },
    {
     "data": {
      "image/png": "[encoded data removed]",
      "text/plain": [
       "<Figure size 576x504 with 1 Axes>"
      ]
     },
     "metadata": {
      "needs_background": "light"
     },
     "output_type": "display_data"
    }
   ],
   "source": [
    "# Plotting the scatter plot of points and color coding by class\n",
    "plt.figure(figsize=(8,7))\n",
    "plt.scatter(testing_plot[:,0], testing_plot[:,1], alpha = 0.1, c = y_test.ravel());\n",
    "plt.title('Outputs')"
   ]
  },
  {
   "cell_type": "markdown",
   "id": "a74fcf8f",
   "metadata": {
    "papermill": {
     "duration": 0.059837,
     "end_time": "2022-07-21T20:14:45.041716",
     "exception": false,
     "start_time": "2022-07-21T20:14:44.981879",
     "status": "completed"
    },
    "tags": []
   },
   "source": [
    "Probability contours"
   ]
  },
  {
   "cell_type": "code",
   "execution_count": 27,
   "id": "d0afc8e3",
   "metadata": {
    "execution": {
     "iopub.execute_input": "2022-07-21T20:14:45.172052Z",
     "iopub.status.busy": "2022-07-21T20:14:45.171172Z",
     "iopub.status.idle": "2022-07-21T20:14:45.191542Z",
     "shell.execute_reply": "2022-07-21T20:14:45.190871Z"
    },
    "papermill": {
     "duration": 0.086895,
     "end_time": "2022-07-21T20:14:45.191714",
     "exception": false,
     "start_time": "2022-07-21T20:14:45.104819",
     "status": "completed"
    },
    "tags": []
   },
   "outputs": [],
   "source": [
    "model_prob = Model(layers[-2:]) "
   ]
  },
  {
   "cell_type": "code",
   "execution_count": 28,
   "id": "9b96e238",
   "metadata": {
    "execution": {
     "iopub.execute_input": "2022-07-21T20:14:45.319753Z",
     "iopub.status.busy": "2022-07-21T20:14:45.318919Z",
     "iopub.status.idle": "2022-07-21T20:14:45.339896Z",
     "shell.execute_reply": "2022-07-21T20:14:45.340495Z"
    },
    "papermill": {
     "duration": 0.090517,
     "end_time": "2022-07-21T20:14:45.340755",
     "exception": false,
     "start_time": "2022-07-21T20:14:45.250238",
     "status": "completed"
    },
    "tags": []
   },
   "outputs": [],
   "source": [
    "#creating the x and y ranges according to the above generated plot.\n",
    "x_range = np.linspace(-4, 1, 100) \n",
    "y_range = np.linspace(-6, 6, 100) \n",
    "x_grid, y_grid = np.meshgrid(x_range, y_range) # x_grid and y_grig are of size 100 X 100\n",
    "\n",
    "# converting x_grid and y_grid to continuous arrays\n",
    "x_gridflat = np.ravel(x_grid)\n",
    "y_gridflat = np.ravel(y_grid)\n",
    "\n",
    "# The last layer of the current model takes two columns as input. Hence transpose of np.vstack() is required.\n",
    "X = np.vstack((x_gridflat, y_gridflat)).T\n",
    "\n",
    "prob_contour = model_prob(X).reshape(100,100) "
   ]
  },
  {
   "cell_type": "code",
   "execution_count": 29,
   "id": "da72499a",
   "metadata": {
    "execution": {
     "iopub.execute_input": "2022-07-21T20:14:45.471830Z",
     "iopub.status.busy": "2022-07-21T20:14:45.471028Z",
     "iopub.status.idle": "2022-07-21T20:14:45.815058Z",
     "shell.execute_reply": "2022-07-21T20:14:45.814273Z"
    },
    "papermill": {
     "duration": 0.415468,
     "end_time": "2022-07-21T20:14:45.815210",
     "exception": false,
     "start_time": "2022-07-21T20:14:45.399742",
     "status": "completed"
    },
    "tags": []
   },
   "outputs": [
    {
     "data": {
      "image/png": "[encoded data removed]",
      "text/plain": [
       "<Figure size 720x648 with 1 Axes>"
      ]
     },
     "metadata": {
      "needs_background": "light"
     },
     "output_type": "display_data"
    }
   ],
   "source": [
    "plt.figure(figsize=(10,9))\n",
    "plt.scatter(testing_plot[:,0], testing_plot[:,1], alpha = 0.1, c = y_test.ravel())\n",
    "contours = plt.contour(x_grid,y_grid,prob_contour)\n",
    "plt.title('Probability Contours')\n",
    "plt.clabel(contours, inline = True );"
   ]
  },
  {
   "cell_type": "code",
   "execution_count": null,
   "id": "e81b4ac7",
   "metadata": {
    "papermill": {
     "duration": 0.062494,
     "end_time": "2022-07-21T20:14:45.938012",
     "exception": false,
     "start_time": "2022-07-21T20:14:45.875518",
     "status": "completed"
    },
    "tags": []
   },
   "outputs": [],
   "source": []
  }
 ],
 "metadata": {
  "kernelspec": {
   "display_name": "Python 3",
   "language": "python",
   "name": "python3"
  },
  "language_info": {
   "codemirror_mode": {
    "name": "ipython",
    "version": 3
   },
   "file_extension": ".py",
   "mimetype": "text/x-python",
   "name": "python",
   "nbconvert_exporter": "python",
   "pygments_lexer": "ipython3",
   "version": "3.6.15"
  },
  "papermill": {
   "default_parameters": {},
   "duration": 185.739715,
   "end_time": "2022-07-21T20:14:46.422386",
   "environment_variables": {},
   "exception": null,
   "input_path": "2020-08-11-part2.ipynb",
   "output_path": "2020-08-11-part2.ipynb",
   "parameters": {},
   "start_time": "2022-07-21T20:11:40.682671",
   "version": "2.3.3"
  }
 },
 "nbformat": 4,
 "nbformat_minor": 5
}