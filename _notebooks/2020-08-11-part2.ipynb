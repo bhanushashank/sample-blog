{
 "cells": [
  {
   "cell_type": "markdown",
   "id": "98380cd3",
   "metadata": {
    "papermill": {
     "duration": 0.036385,
     "end_time": "2022-11-19T20:10:57.728623",
     "exception": false,
     "start_time": "2022-11-19T20:10:57.692238",
     "status": "completed"
    },
    "tags": []
   },
   "source": [
    "# Distinguish Your Own Digits (DYOD)"
   ]
  },
  {
   "cell_type": "markdown",
   "id": "ef31240d",
   "metadata": {
    "papermill": {
     "duration": 0.027923,
     "end_time": "2022-11-19T20:10:57.785415",
     "exception": false,
     "start_time": "2022-11-19T20:10:57.757492",
     "status": "completed"
    },
    "tags": []
   },
   "source": [
    "You are going to write a classifier that distinguishes between the number 3 and number 8."
   ]
  },
  {
   "cell_type": "code",
   "execution_count": 1,
   "id": "b15c8646",
   "metadata": {
    "execution": {
     "iopub.execute_input": "2022-11-19T20:10:57.855467Z",
     "iopub.status.busy": "2022-11-19T20:10:57.854669Z",
     "iopub.status.idle": "2022-11-19T20:10:57.867603Z",
     "shell.execute_reply": "2022-11-19T20:10:57.866983Z"
    },
    "papermill": {
     "duration": 0.054534,
     "end_time": "2022-11-19T20:10:57.867774",
     "exception": false,
     "start_time": "2022-11-19T20:10:57.813240",
     "status": "completed"
    },
    "tags": []
   },
   "outputs": [],
   "source": [
    "%load_ext autoreload\n",
    "%autoreload 2"
   ]
  },
  {
   "cell_type": "code",
   "execution_count": 2,
   "id": "22ef38dc",
   "metadata": {
    "execution": {
     "iopub.execute_input": "2022-11-19T20:10:57.930718Z",
     "iopub.status.busy": "2022-11-19T20:10:57.929874Z",
     "iopub.status.idle": "2022-11-19T20:10:58.601529Z",
     "shell.execute_reply": "2022-11-19T20:10:58.600738Z"
    },
    "papermill": {
     "duration": 0.705616,
     "end_time": "2022-11-19T20:10:58.601710",
     "exception": false,
     "start_time": "2022-11-19T20:10:57.896094",
     "status": "completed"
    },
    "tags": []
   },
   "outputs": [],
   "source": [
    "%matplotlib inline\n",
    "import numpy as np\n",
    "import matplotlib.pyplot as plt\n",
    "import pandas as pd"
   ]
  },
  {
   "cell_type": "markdown",
   "id": "ba036198",
   "metadata": {
    "papermill": {
     "duration": 0.028469,
     "end_time": "2022-11-19T20:10:58.661704",
     "exception": false,
     "start_time": "2022-11-19T20:10:58.633235",
     "status": "completed"
    },
    "tags": []
   },
   "source": [
    "From the command line run `pip install mnist`. This is a library that will help you bring down the mnist dataset. If you run this from a notebook, you need to put  `!pip install mnist` in a cell by itself."
   ]
  },
  {
   "cell_type": "code",
   "execution_count": 3,
   "id": "bb6ad8a1",
   "metadata": {
    "execution": {
     "iopub.execute_input": "2022-11-19T20:10:58.725356Z",
     "iopub.status.busy": "2022-11-19T20:10:58.724604Z",
     "iopub.status.idle": "2022-11-19T20:11:01.568643Z",
     "shell.execute_reply": "2022-11-19T20:11:01.568004Z"
    },
    "papermill": {
     "duration": 2.878209,
     "end_time": "2022-11-19T20:11:01.568786",
     "exception": false,
     "start_time": "2022-11-19T20:10:58.690577",
     "status": "completed"
    },
    "tags": []
   },
   "outputs": [
    {
     "name": "stdout",
     "output_type": "stream",
     "text": [
      "Collecting mnist\r\n"
     ]
    },
    {
     "name": "stdout",
     "output_type": "stream",
     "text": [
      "  Downloading mnist-0.2.2-py2.py3-none-any.whl (3.5 kB)\r\n"
     ]
    },
    {
     "name": "stdout",
     "output_type": "stream",
     "text": [
      "Requirement already satisfied: numpy in /opt/hostedtoolcache/Python/3.6.15/x64/lib/python3.6/site-packages (from mnist) (1.19.5)\r\n"
     ]
    },
    {
     "name": "stdout",
     "output_type": "stream",
     "text": [
      "Installing collected packages: mnist\r\n"
     ]
    },
    {
     "name": "stdout",
     "output_type": "stream",
     "text": [
      "Successfully installed mnist-0.2.2\r\n"
     ]
    }
   ],
   "source": [
    "!pip install mnist"
   ]
  },
  {
   "cell_type": "markdown",
   "id": "69df9c9a",
   "metadata": {
    "papermill": {
     "duration": 0.030985,
     "end_time": "2022-11-19T20:11:01.632624",
     "exception": false,
     "start_time": "2022-11-19T20:11:01.601639",
     "status": "completed"
    },
    "tags": []
   },
   "source": [
    "## Preparing the Data"
   ]
  },
  {
   "cell_type": "code",
   "execution_count": 4,
   "id": "7f69d806",
   "metadata": {
    "execution": {
     "iopub.execute_input": "2022-11-19T20:11:01.699536Z",
     "iopub.status.busy": "2022-11-19T20:11:01.698529Z",
     "iopub.status.idle": "2022-11-19T20:11:01.715582Z",
     "shell.execute_reply": "2022-11-19T20:11:01.716189Z"
    },
    "papermill": {
     "duration": 0.05337,
     "end_time": "2022-11-19T20:11:01.716354",
     "exception": false,
     "start_time": "2022-11-19T20:11:01.662984",
     "status": "completed"
    },
    "tags": []
   },
   "outputs": [],
   "source": [
    "import mnist"
   ]
  },
  {
   "cell_type": "code",
   "execution_count": 5,
   "id": "a411e44f",
   "metadata": {
    "execution": {
     "iopub.execute_input": "2022-11-19T20:11:01.795371Z",
     "iopub.status.busy": "2022-11-19T20:11:01.788972Z",
     "iopub.status.idle": "2022-11-19T20:11:02.934644Z",
     "shell.execute_reply": "2022-11-19T20:11:02.933510Z"
    },
    "papermill": {
     "duration": 1.187071,
     "end_time": "2022-11-19T20:11:02.934970",
     "exception": false,
     "start_time": "2022-11-19T20:11:01.747899",
     "status": "completed"
    },
    "tags": []
   },
   "outputs": [],
   "source": [
    "train_images = mnist.train_images()\n",
    "train_labels = mnist.train_labels()"
   ]
  },
  {
   "cell_type": "code",
   "execution_count": 6,
   "id": "dceab3a5",
   "metadata": {
    "execution": {
     "iopub.execute_input": "2022-11-19T20:11:03.000385Z",
     "iopub.status.busy": "2022-11-19T20:11:02.999683Z",
     "iopub.status.idle": "2022-11-19T20:11:03.018806Z",
     "shell.execute_reply": "2022-11-19T20:11:03.018119Z"
    },
    "papermill": {
     "duration": 0.053728,
     "end_time": "2022-11-19T20:11:03.018954",
     "exception": false,
     "start_time": "2022-11-19T20:11:02.965226",
     "status": "completed"
    },
    "tags": []
   },
   "outputs": [
    {
     "data": {
      "text/plain": [
       "((60000, 28, 28), (60000,))"
      ]
     },
     "execution_count": 6,
     "metadata": {},
     "output_type": "execute_result"
    }
   ],
   "source": [
    "train_images.shape, train_labels.shape"
   ]
  },
  {
   "cell_type": "code",
   "execution_count": 7,
   "id": "f50dc2bb",
   "metadata": {
    "execution": {
     "iopub.execute_input": "2022-11-19T20:11:03.090245Z",
     "iopub.status.busy": "2022-11-19T20:11:03.089512Z",
     "iopub.status.idle": "2022-11-19T20:11:03.350479Z",
     "shell.execute_reply": "2022-11-19T20:11:03.349588Z"
    },
    "papermill": {
     "duration": 0.297167,
     "end_time": "2022-11-19T20:11:03.350641",
     "exception": false,
     "start_time": "2022-11-19T20:11:03.053474",
     "status": "completed"
    },
    "tags": []
   },
   "outputs": [],
   "source": [
    "test_images = mnist.test_images()\n",
    "test_labels = mnist.test_labels()"
   ]
  },
  {
   "cell_type": "code",
   "execution_count": 8,
   "id": "fc38cf1b",
   "metadata": {
    "execution": {
     "iopub.execute_input": "2022-11-19T20:11:03.423570Z",
     "iopub.status.busy": "2022-11-19T20:11:03.422851Z",
     "iopub.status.idle": "2022-11-19T20:11:03.438056Z",
     "shell.execute_reply": "2022-11-19T20:11:03.438620Z"
    },
    "papermill": {
     "duration": 0.05712,
     "end_time": "2022-11-19T20:11:03.438782",
     "exception": false,
     "start_time": "2022-11-19T20:11:03.381662",
     "status": "completed"
    },
    "tags": []
   },
   "outputs": [
    {
     "data": {
      "text/plain": [
       "((10000, 28, 28), (10000,))"
      ]
     },
     "execution_count": 8,
     "metadata": {},
     "output_type": "execute_result"
    }
   ],
   "source": [
    "test_images.shape, test_labels.shape"
   ]
  },
  {
   "cell_type": "code",
   "execution_count": 9,
   "id": "f9ed8fe0",
   "metadata": {
    "execution": {
     "iopub.execute_input": "2022-11-19T20:11:03.504975Z",
     "iopub.status.busy": "2022-11-19T20:11:03.504083Z",
     "iopub.status.idle": "2022-11-19T20:11:03.671088Z",
     "shell.execute_reply": "2022-11-19T20:11:03.670528Z"
    },
    "papermill": {
     "duration": 0.202926,
     "end_time": "2022-11-19T20:11:03.671232",
     "exception": false,
     "start_time": "2022-11-19T20:11:03.468306",
     "status": "completed"
    },
    "tags": []
   },
   "outputs": [
    {
     "name": "stdout",
     "output_type": "stream",
     "text": [
      "2\n"
     ]
    },
    {
     "data": {
      "text/plain": [
       "<matplotlib.image.AxesImage at 0x7ff2fa51ae10>"
      ]
     },
     "execution_count": 9,
     "metadata": {},
     "output_type": "execute_result"
    },
    {
     "data": {
      "image/png": "[encoded data removed]",
      "text/plain": [
       "<Figure size 432x288 with 1 Axes>"
      ]
     },
     "metadata": {
      "needs_background": "light"
     },
     "output_type": "display_data"
    }
   ],
   "source": [
    "image_index = 7776 # You may select anything up to 60,000\n",
    "print(train_labels[image_index]) \n",
    "plt.imshow(train_images[image_index], cmap='Greys')"
   ]
  },
  {
   "cell_type": "markdown",
   "id": "a8d2388d",
   "metadata": {
    "papermill": {
     "duration": 0.031431,
     "end_time": "2022-11-19T20:11:03.733621",
     "exception": false,
     "start_time": "2022-11-19T20:11:03.702190",
     "status": "completed"
    },
    "tags": []
   },
   "source": [
    "## Filter data to get 3 and 8 out"
   ]
  },
  {
   "cell_type": "code",
   "execution_count": 10,
   "id": "776f7fc7",
   "metadata": {
    "execution": {
     "iopub.execute_input": "2022-11-19T20:11:03.802258Z",
     "iopub.status.busy": "2022-11-19T20:11:03.801262Z",
     "iopub.status.idle": "2022-11-19T20:11:03.823531Z",
     "shell.execute_reply": "2022-11-19T20:11:03.822749Z"
    },
    "papermill": {
     "duration": 0.058525,
     "end_time": "2022-11-19T20:11:03.823680",
     "exception": false,
     "start_time": "2022-11-19T20:11:03.765155",
     "status": "completed"
    },
    "tags": []
   },
   "outputs": [],
   "source": [
    "train_filter = np.where((train_labels == 3 ) | (train_labels == 8))\n",
    "test_filter = np.where((test_labels == 3) | (test_labels == 8))\n",
    "X_train, y_train = train_images[train_filter], train_labels[train_filter]\n",
    "X_test, y_test = test_images[test_filter], test_labels[test_filter]"
   ]
  },
  {
   "cell_type": "markdown",
   "id": "948f0b7e",
   "metadata": {
    "papermill": {
     "duration": 0.034221,
     "end_time": "2022-11-19T20:11:03.889776",
     "exception": false,
     "start_time": "2022-11-19T20:11:03.855555",
     "status": "completed"
    },
    "tags": []
   },
   "source": [
    "We normalize the pizel values in the 0 to 1 range"
   ]
  },
  {
   "cell_type": "code",
   "execution_count": 11,
   "id": "ee4c2166",
   "metadata": {
    "execution": {
     "iopub.execute_input": "2022-11-19T20:11:03.957989Z",
     "iopub.status.busy": "2022-11-19T20:11:03.956978Z",
     "iopub.status.idle": "2022-11-19T20:11:04.017459Z",
     "shell.execute_reply": "2022-11-19T20:11:04.016680Z"
    },
    "papermill": {
     "duration": 0.096682,
     "end_time": "2022-11-19T20:11:04.017628",
     "exception": false,
     "start_time": "2022-11-19T20:11:03.920946",
     "status": "completed"
    },
    "tags": []
   },
   "outputs": [],
   "source": [
    "X_train = X_train/255.\n",
    "X_test = X_test/255."
   ]
  },
  {
   "cell_type": "markdown",
   "id": "ddcf4fab",
   "metadata": {
    "papermill": {
     "duration": 0.032119,
     "end_time": "2022-11-19T20:11:04.086868",
     "exception": false,
     "start_time": "2022-11-19T20:11:04.054749",
     "status": "completed"
    },
    "tags": []
   },
   "source": [
    "And setup the labels as 1 (when the digit is 3) and 0 (when the digit is 8)"
   ]
  },
  {
   "cell_type": "code",
   "execution_count": 12,
   "id": "7dc908f2",
   "metadata": {
    "execution": {
     "iopub.execute_input": "2022-11-19T20:11:04.168306Z",
     "iopub.status.busy": "2022-11-19T20:11:04.167578Z",
     "iopub.status.idle": "2022-11-19T20:11:04.181267Z",
     "shell.execute_reply": "2022-11-19T20:11:04.181819Z"
    },
    "papermill": {
     "duration": 0.055821,
     "end_time": "2022-11-19T20:11:04.181996",
     "exception": false,
     "start_time": "2022-11-19T20:11:04.126175",
     "status": "completed"
    },
    "tags": []
   },
   "outputs": [],
   "source": [
    "y_train = 1*(y_train==3)\n",
    "y_test = 1*(y_test==3)"
   ]
  },
  {
   "cell_type": "code",
   "execution_count": 13,
   "id": "01e4e969",
   "metadata": {
    "execution": {
     "iopub.execute_input": "2022-11-19T20:11:04.260199Z",
     "iopub.status.busy": "2022-11-19T20:11:04.255014Z",
     "iopub.status.idle": "2022-11-19T20:11:04.275800Z",
     "shell.execute_reply": "2022-11-19T20:11:04.275247Z"
    },
    "papermill": {
     "duration": 0.058637,
     "end_time": "2022-11-19T20:11:04.275940",
     "exception": false,
     "start_time": "2022-11-19T20:11:04.217303",
     "status": "completed"
    },
    "tags": []
   },
   "outputs": [
    {
     "data": {
      "text/plain": [
       "((11982, 28, 28), (1984, 28, 28))"
      ]
     },
     "execution_count": 13,
     "metadata": {},
     "output_type": "execute_result"
    }
   ],
   "source": [
    "X_train.shape, X_test.shape"
   ]
  },
  {
   "cell_type": "markdown",
   "id": "5ccf3f85",
   "metadata": {
    "papermill": {
     "duration": 0.03629,
     "end_time": "2022-11-19T20:11:04.343779",
     "exception": false,
     "start_time": "2022-11-19T20:11:04.307489",
     "status": "completed"
    },
    "tags": []
   },
   "source": [
    "We reshape the data to flatten the image pixels into a set of features or co-variates:"
   ]
  },
  {
   "cell_type": "code",
   "execution_count": 14,
   "id": "5286a4a3",
   "metadata": {
    "execution": {
     "iopub.execute_input": "2022-11-19T20:11:04.418627Z",
     "iopub.status.busy": "2022-11-19T20:11:04.414071Z",
     "iopub.status.idle": "2022-11-19T20:11:04.432031Z",
     "shell.execute_reply": "2022-11-19T20:11:04.432541Z"
    },
    "papermill": {
     "duration": 0.055231,
     "end_time": "2022-11-19T20:11:04.432703",
     "exception": false,
     "start_time": "2022-11-19T20:11:04.377472",
     "status": "completed"
    },
    "tags": []
   },
   "outputs": [
    {
     "data": {
      "text/plain": [
       "((11982, 784), (1984, 784))"
      ]
     },
     "execution_count": 14,
     "metadata": {},
     "output_type": "execute_result"
    }
   ],
   "source": [
    "X_train = X_train.reshape(X_train.shape[0], -1)\n",
    "X_test = X_test.reshape(X_test.shape[0], -1)\n",
    "X_train.shape, X_test.shape"
   ]
  },
  {
   "cell_type": "code",
   "execution_count": 15,
   "id": "73c5f88a",
   "metadata": {
    "execution": {
     "iopub.execute_input": "2022-11-19T20:11:04.510027Z",
     "iopub.status.busy": "2022-11-19T20:11:04.509296Z",
     "iopub.status.idle": "2022-11-19T20:11:04.534068Z",
     "shell.execute_reply": "2022-11-19T20:11:04.533189Z"
    },
    "papermill": {
     "duration": 0.069252,
     "end_time": "2022-11-19T20:11:04.534241",
     "exception": false,
     "start_time": "2022-11-19T20:11:04.464989",
     "status": "completed"
    },
    "tags": []
   },
   "outputs": [],
   "source": [
    "#Impoting functions from 'Kudzu'\n",
    "from kudzu.model import Model\n",
    "from kudzu.train import Learner\n",
    "from kudzu.optim import GD\n",
    "from kudzu.data import Data, Sampler,Dataloader\n",
    "\n",
    "from kudzu.callbacks import AccCallback\n",
    "from kudzu.callbacks import ClfCallback\n",
    "\n",
    "from kudzu.loss import MSE\n",
    "\n",
    "from kudzu.layer import Sigmoid,Relu\n",
    "from kudzu.layer import Affine"
   ]
  },
  {
   "cell_type": "markdown",
   "id": "bc01172a",
   "metadata": {
    "papermill": {
     "duration": 0.032404,
     "end_time": "2022-11-19T20:11:04.599801",
     "exception": false,
     "start_time": "2022-11-19T20:11:04.567397",
     "status": "completed"
    },
    "tags": []
   },
   "source": [
    "### Let us create a `Config` class, to store important parameters. \n",
    "This class essentially plays the role of a dictionary."
   ]
  },
  {
   "cell_type": "code",
   "execution_count": 16,
   "id": "978281aa",
   "metadata": {
    "execution": {
     "iopub.execute_input": "2022-11-19T20:11:04.672074Z",
     "iopub.status.busy": "2022-11-19T20:11:04.671354Z",
     "iopub.status.idle": "2022-11-19T20:11:04.685724Z",
     "shell.execute_reply": "2022-11-19T20:11:04.685090Z"
    },
    "papermill": {
     "duration": 0.053552,
     "end_time": "2022-11-19T20:11:04.685862",
     "exception": false,
     "start_time": "2022-11-19T20:11:04.632310",
     "status": "completed"
    },
    "tags": []
   },
   "outputs": [],
   "source": [
    "class Config:\n",
    "    pass\n",
    "config = Config()\n",
    "config.lr = 0.001\n",
    "config.num_epochs = 250\n",
    "config.bs = 50"
   ]
  },
  {
   "cell_type": "markdown",
   "id": "1385fa59",
   "metadata": {
    "papermill": {
     "duration": 0.033603,
     "end_time": "2022-11-19T20:11:04.752599",
     "exception": false,
     "start_time": "2022-11-19T20:11:04.718996",
     "status": "completed"
    },
    "tags": []
   },
   "source": [
    "### Running Models with the Training data\n",
    "Details about the network layers:\n",
    "- A first affine layer has 784 inputs and does 100 affine transforms. These are followed by a Relu\n",
    "- A second affine layer has 100 inputs from the 100 activations of the past layer, and does 100 affine transforms. These are followed by a Relu\n",
    "- A third affine layer has 100 activations and does 2 affine transformations to create an embedding for visualization. There is no non-linearity here.\n",
    "- A final \"logistic regression\" which has an affine transform from 2 inputs to 1 output, which is squeezed through a sigmoid.\n"
   ]
  },
  {
   "cell_type": "code",
   "execution_count": 17,
   "id": "2b9c66db",
   "metadata": {
    "execution": {
     "iopub.execute_input": "2022-11-19T20:11:04.826398Z",
     "iopub.status.busy": "2022-11-19T20:11:04.825603Z",
     "iopub.status.idle": "2022-11-19T20:11:04.839262Z",
     "shell.execute_reply": "2022-11-19T20:11:04.839846Z"
    },
    "papermill": {
     "duration": 0.053336,
     "end_time": "2022-11-19T20:11:04.840014",
     "exception": false,
     "start_time": "2022-11-19T20:11:04.786678",
     "status": "completed"
    },
    "tags": []
   },
   "outputs": [],
   "source": [
    "data = Data(X_train, y_train.reshape(-1,1))\n",
    "sampler = Sampler(data, config.bs, shuffle=True)\n",
    "\n",
    "dl = Dataloader(data, sampler)\n",
    "\n",
    "opt = GD(config.lr)\n",
    "loss = MSE()"
   ]
  },
  {
   "cell_type": "code",
   "execution_count": 18,
   "id": "b275e4c2",
   "metadata": {
    "execution": {
     "iopub.execute_input": "2022-11-19T20:11:04.914456Z",
     "iopub.status.busy": "2022-11-19T20:11:04.913688Z",
     "iopub.status.idle": "2022-11-19T20:11:04.928903Z",
     "shell.execute_reply": "2022-11-19T20:11:04.927836Z"
    },
    "papermill": {
     "duration": 0.057072,
     "end_time": "2022-11-19T20:11:04.929193",
     "exception": false,
     "start_time": "2022-11-19T20:11:04.872121",
     "status": "completed"
    },
    "tags": []
   },
   "outputs": [],
   "source": [
    "training_data_x = X_train\n",
    "testing_data_x = X_test\n",
    "training_data_y = y_train.reshape(-1,1)\n",
    "testing_data_y = y_test.reshape(-1,1)"
   ]
  },
  {
   "cell_type": "code",
   "execution_count": 19,
   "id": "76951160",
   "metadata": {
    "execution": {
     "iopub.execute_input": "2022-11-19T20:11:05.006325Z",
     "iopub.status.busy": "2022-11-19T20:11:05.005562Z",
     "iopub.status.idle": "2022-11-19T20:11:05.026144Z",
     "shell.execute_reply": "2022-11-19T20:11:05.025544Z"
    },
    "papermill": {
     "duration": 0.062045,
     "end_time": "2022-11-19T20:11:05.026281",
     "exception": false,
     "start_time": "2022-11-19T20:11:04.964236",
     "status": "completed"
    },
    "tags": []
   },
   "outputs": [
    {
     "name": "stdout",
     "output_type": "stream",
     "text": [
      "xavier\n",
      "xavier\n",
      "xavier\n",
      "xavier\n",
      "xavier\n"
     ]
    }
   ],
   "source": [
    "layers = [Affine(\"first\", 784, 100), Relu(\"first\"), Affine(\"second\", 100, 100), Relu(\"second\"), Affine(\"third\", 100, 2), Affine(\"last\", 2, 1), Sigmoid(\"last\")]\n",
    "model_nn = Model(layers)\n",
    "model_lr = Model([Affine(\"logits\", 784, 1), Sigmoid(\"sigmoid\")])"
   ]
  },
  {
   "cell_type": "code",
   "execution_count": 20,
   "id": "6eede77a",
   "metadata": {
    "execution": {
     "iopub.execute_input": "2022-11-19T20:11:05.099327Z",
     "iopub.status.busy": "2022-11-19T20:11:05.098606Z",
     "iopub.status.idle": "2022-11-19T20:11:05.115177Z",
     "shell.execute_reply": "2022-11-19T20:11:05.114591Z"
    },
    "papermill": {
     "duration": 0.05619,
     "end_time": "2022-11-19T20:11:05.115314",
     "exception": false,
     "start_time": "2022-11-19T20:11:05.059124",
     "status": "completed"
    },
    "tags": []
   },
   "outputs": [],
   "source": [
    "nn_learner = Learner(loss, model_nn, opt, config.num_epochs)\n",
    "acc_nn = ClfCallback(nn_learner, config.bs, training_data_x , testing_data_x, training_data_y, testing_data_y)\n",
    "nn_learner.set_callbacks([acc_nn])"
   ]
  },
  {
   "cell_type": "code",
   "execution_count": 21,
   "id": "877b6cc7",
   "metadata": {
    "execution": {
     "iopub.execute_input": "2022-11-19T20:11:05.185741Z",
     "iopub.status.busy": "2022-11-19T20:11:05.184990Z",
     "iopub.status.idle": "2022-11-19T20:11:05.199841Z",
     "shell.execute_reply": "2022-11-19T20:11:05.200357Z"
    },
    "papermill": {
     "duration": 0.052596,
     "end_time": "2022-11-19T20:11:05.200525",
     "exception": false,
     "start_time": "2022-11-19T20:11:05.147929",
     "status": "completed"
    },
    "tags": []
   },
   "outputs": [],
   "source": [
    "lr_learner = Learner(loss, model_lr, opt, config.num_epochs)\n",
    "acc_lr = ClfCallback(lr_learner, config.bs, training_data_x , testing_data_x, training_data_y, testing_data_y)\n",
    "lr_learner.set_callbacks([acc_lr])"
   ]
  },
  {
   "cell_type": "code",
   "execution_count": 22,
   "id": "d9b133c3",
   "metadata": {
    "execution": {
     "iopub.execute_input": "2022-11-19T20:11:05.273536Z",
     "iopub.status.busy": "2022-11-19T20:11:05.272315Z",
     "iopub.status.idle": "2022-11-19T20:12:35.547673Z",
     "shell.execute_reply": "2022-11-19T20:12:35.548689Z"
    },
    "papermill": {
     "duration": 90.315229,
     "end_time": "2022-11-19T20:12:35.548863",
     "exception": false,
     "start_time": "2022-11-19T20:11:05.233634",
     "status": "completed"
    },
    "tags": []
   },
   "outputs": [
    {
     "name": "stdout",
     "output_type": "stream",
     "text": [
      "Epoch 0, Loss 0.2431\n",
      "Training Accuracy: 0.6417, Testing Accuracy: 0.6386\n",
      "\n"
     ]
    },
    {
     "name": "stdout",
     "output_type": "stream",
     "text": [
      "Epoch 10, Loss 0.1404\n",
      "Training Accuracy: 0.9024, Testing Accuracy: 0.9123\n",
      "\n"
     ]
    },
    {
     "name": "stdout",
     "output_type": "stream",
     "text": [
      "Epoch 20, Loss 0.0705\n",
      "Training Accuracy: 0.9310, Testing Accuracy: 0.9466\n",
      "\n"
     ]
    },
    {
     "name": "stdout",
     "output_type": "stream",
     "text": [
      "Epoch 30, Loss 0.0503\n",
      "Training Accuracy: 0.9454, Testing Accuracy: 0.9577\n",
      "\n"
     ]
    },
    {
     "name": "stdout",
     "output_type": "stream",
     "text": [
      "Epoch 40, Loss 0.0419\n",
      "Training Accuracy: 0.9526, Testing Accuracy: 0.9647\n",
      "\n"
     ]
    },
    {
     "name": "stdout",
     "output_type": "stream",
     "text": [
      "Epoch 50, Loss 0.0373\n",
      "Training Accuracy: 0.9567, Testing Accuracy: 0.9662\n",
      "\n"
     ]
    },
    {
     "name": "stdout",
     "output_type": "stream",
     "text": [
      "Epoch 60, Loss 0.0343\n",
      "Training Accuracy: 0.9599, Testing Accuracy: 0.9672\n",
      "\n"
     ]
    },
    {
     "name": "stdout",
     "output_type": "stream",
     "text": [
      "Epoch 70, Loss 0.0322\n",
      "Training Accuracy: 0.9626, Testing Accuracy: 0.9667\n",
      "\n"
     ]
    },
    {
     "name": "stdout",
     "output_type": "stream",
     "text": [
      "Epoch 80, Loss 0.0306\n",
      "Training Accuracy: 0.9641, Testing Accuracy: 0.9682\n",
      "\n"
     ]
    },
    {
     "name": "stdout",
     "output_type": "stream",
     "text": [
      "Epoch 90, Loss 0.0293\n",
      "Training Accuracy: 0.9659, Testing Accuracy: 0.9693\n",
      "\n"
     ]
    },
    {
     "name": "stdout",
     "output_type": "stream",
     "text": [
      "Epoch 100, Loss 0.0282\n",
      "Training Accuracy: 0.9673, Testing Accuracy: 0.9713\n",
      "\n"
     ]
    },
    {
     "name": "stdout",
     "output_type": "stream",
     "text": [
      "Epoch 110, Loss 0.0273\n",
      "Training Accuracy: 0.9682, Testing Accuracy: 0.9708\n",
      "\n"
     ]
    },
    {
     "name": "stdout",
     "output_type": "stream",
     "text": [
      "Epoch 120, Loss 0.0264\n",
      "Training Accuracy: 0.9696, Testing Accuracy: 0.9698\n",
      "\n"
     ]
    },
    {
     "name": "stdout",
     "output_type": "stream",
     "text": [
      "Epoch 130, Loss 0.0257\n",
      "Training Accuracy: 0.9700, Testing Accuracy: 0.9703\n",
      "\n"
     ]
    },
    {
     "name": "stdout",
     "output_type": "stream",
     "text": [
      "Epoch 140, Loss 0.0251\n",
      "Training Accuracy: 0.9708, Testing Accuracy: 0.9693\n",
      "\n"
     ]
    },
    {
     "name": "stdout",
     "output_type": "stream",
     "text": [
      "Epoch 150, Loss 0.0245\n",
      "Training Accuracy: 0.9715, Testing Accuracy: 0.9703\n",
      "\n"
     ]
    },
    {
     "name": "stdout",
     "output_type": "stream",
     "text": [
      "Epoch 160, Loss 0.0239\n",
      "Training Accuracy: 0.9720, Testing Accuracy: 0.9708\n",
      "\n"
     ]
    },
    {
     "name": "stdout",
     "output_type": "stream",
     "text": [
      "Epoch 170, Loss 0.0234\n",
      "Training Accuracy: 0.9721, Testing Accuracy: 0.9708\n",
      "\n"
     ]
    },
    {
     "name": "stdout",
     "output_type": "stream",
     "text": [
      "Epoch 180, Loss 0.023\n",
      "Training Accuracy: 0.9730, Testing Accuracy: 0.9713\n",
      "\n"
     ]
    },
    {
     "name": "stdout",
     "output_type": "stream",
     "text": [
      "Epoch 190, Loss 0.0225\n",
      "Training Accuracy: 0.9735, Testing Accuracy: 0.9718\n",
      "\n"
     ]
    },
    {
     "name": "stdout",
     "output_type": "stream",
     "text": [
      "Epoch 200, Loss 0.0221\n",
      "Training Accuracy: 0.9740, Testing Accuracy: 0.9723\n",
      "\n"
     ]
    },
    {
     "name": "stdout",
     "output_type": "stream",
     "text": [
      "Epoch 210, Loss 0.0217\n",
      "Training Accuracy: 0.9746, Testing Accuracy: 0.9723\n",
      "\n"
     ]
    },
    {
     "name": "stdout",
     "output_type": "stream",
     "text": [
      "Epoch 220, Loss 0.0214\n",
      "Training Accuracy: 0.9753, Testing Accuracy: 0.9723\n",
      "\n"
     ]
    },
    {
     "name": "stdout",
     "output_type": "stream",
     "text": [
      "Epoch 230, Loss 0.021\n",
      "Training Accuracy: 0.9760, Testing Accuracy: 0.9723\n",
      "\n"
     ]
    },
    {
     "name": "stdout",
     "output_type": "stream",
     "text": [
      "Epoch 240, Loss 0.0207\n",
      "Training Accuracy: 0.9766, Testing Accuracy: 0.9723\n",
      "\n"
     ]
    },
    {
     "data": {
      "text/plain": [
       "0.0028102038707157554"
      ]
     },
     "execution_count": 22,
     "metadata": {},
     "output_type": "execute_result"
    }
   ],
   "source": [
    "nn_learner.train_loop(dl)"
   ]
  },
  {
   "cell_type": "code",
   "execution_count": 23,
   "id": "e0163366",
   "metadata": {
    "execution": {
     "iopub.execute_input": "2022-11-19T20:12:35.643088Z",
     "iopub.status.busy": "2022-11-19T20:12:35.642370Z",
     "iopub.status.idle": "2022-11-19T20:12:51.565153Z",
     "shell.execute_reply": "2022-11-19T20:12:51.566118Z"
    },
    "papermill": {
     "duration": 15.976493,
     "end_time": "2022-11-19T20:12:51.566286",
     "exception": false,
     "start_time": "2022-11-19T20:12:35.589793",
     "status": "completed"
    },
    "tags": []
   },
   "outputs": [
    {
     "name": "stdout",
     "output_type": "stream",
     "text": [
      "Epoch 0, Loss 0.2242\n",
      "Training Accuracy: 0.7764, Testing Accuracy: 0.7838\n",
      "\n"
     ]
    },
    {
     "name": "stdout",
     "output_type": "stream",
     "text": [
      "Epoch 10, Loss 0.098\n",
      "Training Accuracy: 0.9190, Testing Accuracy: 0.9320\n",
      "\n"
     ]
    },
    {
     "name": "stdout",
     "output_type": "stream",
     "text": [
      "Epoch 20, Loss 0.0762\n",
      "Training Accuracy: 0.9342, Testing Accuracy: 0.9471\n",
      "\n"
     ]
    },
    {
     "name": "stdout",
     "output_type": "stream",
     "text": [
      "Epoch 30, Loss 0.0662\n",
      "Training Accuracy: 0.9411, Testing Accuracy: 0.9521\n",
      "\n"
     ]
    },
    {
     "name": "stdout",
     "output_type": "stream",
     "text": [
      "Epoch 40, Loss 0.0601\n",
      "Training Accuracy: 0.9445, Testing Accuracy: 0.9556\n",
      "\n"
     ]
    },
    {
     "name": "stdout",
     "output_type": "stream",
     "text": [
      "Epoch 50, Loss 0.0559\n",
      "Training Accuracy: 0.9472, Testing Accuracy: 0.9572\n",
      "\n"
     ]
    },
    {
     "name": "stdout",
     "output_type": "stream",
     "text": [
      "Epoch 60, Loss 0.0528\n",
      "Training Accuracy: 0.9493, Testing Accuracy: 0.9587\n",
      "\n"
     ]
    },
    {
     "name": "stdout",
     "output_type": "stream",
     "text": [
      "Epoch 70, Loss 0.0504\n",
      "Training Accuracy: 0.9504, Testing Accuracy: 0.9602\n",
      "\n"
     ]
    },
    {
     "name": "stdout",
     "output_type": "stream",
     "text": [
      "Epoch 80, Loss 0.0485\n",
      "Training Accuracy: 0.9518, Testing Accuracy: 0.9612\n",
      "\n"
     ]
    },
    {
     "name": "stdout",
     "output_type": "stream",
     "text": [
      "Epoch 90, Loss 0.0469\n",
      "Training Accuracy: 0.9528, Testing Accuracy: 0.9622\n",
      "\n"
     ]
    },
    {
     "name": "stdout",
     "output_type": "stream",
     "text": [
      "Epoch 100, Loss 0.0456\n",
      "Training Accuracy: 0.9538, Testing Accuracy: 0.9632\n",
      "\n"
     ]
    },
    {
     "name": "stdout",
     "output_type": "stream",
     "text": [
      "Epoch 110, Loss 0.0444\n",
      "Training Accuracy: 0.9548, Testing Accuracy: 0.9642\n",
      "\n"
     ]
    },
    {
     "name": "stdout",
     "output_type": "stream",
     "text": [
      "Epoch 120, Loss 0.0434\n",
      "Training Accuracy: 0.9557, Testing Accuracy: 0.9647\n",
      "\n"
     ]
    },
    {
     "name": "stdout",
     "output_type": "stream",
     "text": [
      "Epoch 130, Loss 0.0425\n",
      "Training Accuracy: 0.9563, Testing Accuracy: 0.9647\n",
      "\n"
     ]
    },
    {
     "name": "stdout",
     "output_type": "stream",
     "text": [
      "Epoch 140, Loss 0.0417\n",
      "Training Accuracy: 0.9571, Testing Accuracy: 0.9652\n",
      "\n"
     ]
    },
    {
     "name": "stdout",
     "output_type": "stream",
     "text": [
      "Epoch 150, Loss 0.041\n",
      "Training Accuracy: 0.9576, Testing Accuracy: 0.9652\n",
      "\n"
     ]
    },
    {
     "name": "stdout",
     "output_type": "stream",
     "text": [
      "Epoch 160, Loss 0.0403\n",
      "Training Accuracy: 0.9579, Testing Accuracy: 0.9652\n",
      "\n"
     ]
    },
    {
     "name": "stdout",
     "output_type": "stream",
     "text": [
      "Epoch 170, Loss 0.0397\n",
      "Training Accuracy: 0.9587, Testing Accuracy: 0.9652\n",
      "\n"
     ]
    },
    {
     "name": "stdout",
     "output_type": "stream",
     "text": [
      "Epoch 180, Loss 0.0392\n",
      "Training Accuracy: 0.9594, Testing Accuracy: 0.9657\n",
      "\n"
     ]
    },
    {
     "name": "stdout",
     "output_type": "stream",
     "text": [
      "Epoch 190, Loss 0.0387\n",
      "Training Accuracy: 0.9599, Testing Accuracy: 0.9662\n",
      "\n"
     ]
    },
    {
     "name": "stdout",
     "output_type": "stream",
     "text": [
      "Epoch 200, Loss 0.0382\n",
      "Training Accuracy: 0.9602, Testing Accuracy: 0.9657\n",
      "\n"
     ]
    },
    {
     "name": "stdout",
     "output_type": "stream",
     "text": [
      "Epoch 210, Loss 0.0378\n",
      "Training Accuracy: 0.9603, Testing Accuracy: 0.9657\n",
      "\n"
     ]
    },
    {
     "name": "stdout",
     "output_type": "stream",
     "text": [
      "Epoch 220, Loss 0.0374\n",
      "Training Accuracy: 0.9605, Testing Accuracy: 0.9657\n",
      "\n"
     ]
    },
    {
     "name": "stdout",
     "output_type": "stream",
     "text": [
      "Epoch 230, Loss 0.037\n",
      "Training Accuracy: 0.9607, Testing Accuracy: 0.9657\n",
      "\n"
     ]
    },
    {
     "name": "stdout",
     "output_type": "stream",
     "text": [
      "Epoch 240, Loss 0.0367\n",
      "Training Accuracy: 0.9610, Testing Accuracy: 0.9662\n",
      "\n"
     ]
    },
    {
     "data": {
      "text/plain": [
       "0.02709478588567418"
      ]
     },
     "execution_count": 23,
     "metadata": {},
     "output_type": "execute_result"
    }
   ],
   "source": [
    "lr_learner.train_loop(dl)"
   ]
  },
  {
   "cell_type": "code",
   "execution_count": 24,
   "id": "ca410940",
   "metadata": {
    "execution": {
     "iopub.execute_input": "2022-11-19T20:12:51.671456Z",
     "iopub.status.busy": "2022-11-19T20:12:51.670742Z",
     "iopub.status.idle": "2022-11-19T20:12:51.942239Z",
     "shell.execute_reply": "2022-11-19T20:12:51.942768Z"
    },
    "papermill": {
     "duration": 0.328471,
     "end_time": "2022-11-19T20:12:51.942929",
     "exception": false,
     "start_time": "2022-11-19T20:12:51.614458",
     "status": "completed"
    },
    "tags": []
   },
   "outputs": [
    {
     "data": {
      "text/plain": [
       "<matplotlib.legend.Legend at 0x7ff2fa087588>"
      ]
     },
     "execution_count": 24,
     "metadata": {},
     "output_type": "execute_result"
    },
    {
     "data": {
      "image/png": "[encoded data removed]",
      "text/plain": [
       "<Figure size 1080x720 with 1 Axes>"
      ]
     },
     "metadata": {
      "needs_background": "light"
     },
     "output_type": "display_data"
    }
   ],
   "source": [
    "#comparing the results of NN and LR\n",
    "plt.figure(figsize=(15,10))\n",
    "\n",
    "# Neural Network plots\n",
    "plt.plot(acc_nn.accuracies, 'r-', label = \"Training Accuracies - NN\")\n",
    "plt.plot(acc_nn.test_accuracies, 'g-', label = \"Testing Accuracies - NN\")\n",
    "\n",
    "# Logistic Regression plots\n",
    "plt.plot(acc_lr.accuracies, 'k-', label = \"Training Accuracies - LR\")\n",
    "plt.plot(acc_lr.test_accuracies, 'b-', label = \"Testing Accuracies - LR\")\n",
    "plt.legend()"
   ]
  },
  {
   "cell_type": "markdown",
   "id": "80dfb35c",
   "metadata": {
    "papermill": {
     "duration": 0.048257,
     "end_time": "2022-11-19T20:12:52.039895",
     "exception": false,
     "start_time": "2022-11-19T20:12:51.991638",
     "status": "completed"
    },
    "tags": []
   },
   "source": [
    "#### Plotting the outputs of this layer of the NN.\n"
   ]
  },
  {
   "cell_type": "code",
   "execution_count": 25,
   "id": "45eb2ff5",
   "metadata": {
    "execution": {
     "iopub.execute_input": "2022-11-19T20:12:52.141970Z",
     "iopub.status.busy": "2022-11-19T20:12:52.140637Z",
     "iopub.status.idle": "2022-11-19T20:12:52.165066Z",
     "shell.execute_reply": "2022-11-19T20:12:52.164437Z"
    },
    "papermill": {
     "duration": 0.077109,
     "end_time": "2022-11-19T20:12:52.165253",
     "exception": false,
     "start_time": "2022-11-19T20:12:52.088144",
     "status": "completed"
    },
    "tags": []
   },
   "outputs": [],
   "source": [
    "new_model = Model(layers[:-2])\n",
    "testing_plot = new_model(testing_data_x)"
   ]
  },
  {
   "cell_type": "code",
   "execution_count": 26,
   "id": "4c0a5485",
   "metadata": {
    "execution": {
     "iopub.execute_input": "2022-11-19T20:12:52.273059Z",
     "iopub.status.busy": "2022-11-19T20:12:52.271341Z",
     "iopub.status.idle": "2022-11-19T20:12:52.513030Z",
     "shell.execute_reply": "2022-11-19T20:12:52.512443Z"
    },
    "papermill": {
     "duration": 0.299071,
     "end_time": "2022-11-19T20:12:52.513189",
     "exception": false,
     "start_time": "2022-11-19T20:12:52.214118",
     "status": "completed"
    },
    "tags": []
   },
   "outputs": [
    {
     "data": {
      "text/plain": [
       "Text(0.5, 1.0, 'Outputs')"
      ]
     },
     "execution_count": 26,
     "metadata": {},
     "output_type": "execute_result"
    },
    {
     "data": {
      "image/png": "[encoded data removed]",
      "text/plain": [
       "<Figure size 576x504 with 1 Axes>"
      ]
     },
     "metadata": {
      "needs_background": "light"
     },
     "output_type": "display_data"
    }
   ],
   "source": [
    "# Plotting the scatter plot of points and color coding by class\n",
    "plt.figure(figsize=(8,7))\n",
    "plt.scatter(testing_plot[:,0], testing_plot[:,1], alpha = 0.1, c = y_test.ravel());\n",
    "plt.title('Outputs')"
   ]
  },
  {
   "cell_type": "markdown",
   "id": "a74fcf8f",
   "metadata": {
    "papermill": {
     "duration": 0.052089,
     "end_time": "2022-11-19T20:12:52.618328",
     "exception": false,
     "start_time": "2022-11-19T20:12:52.566239",
     "status": "completed"
    },
    "tags": []
   },
   "source": [
    "Probability contours"
   ]
  },
  {
   "cell_type": "code",
   "execution_count": 27,
   "id": "d0afc8e3",
   "metadata": {
    "execution": {
     "iopub.execute_input": "2022-11-19T20:12:52.763970Z",
     "iopub.status.busy": "2022-11-19T20:12:52.763260Z",
     "iopub.status.idle": "2022-11-19T20:12:52.776372Z",
     "shell.execute_reply": "2022-11-19T20:12:52.775705Z"
    },
    "papermill": {
     "duration": 0.074064,
     "end_time": "2022-11-19T20:12:52.776518",
     "exception": false,
     "start_time": "2022-11-19T20:12:52.702454",
     "status": "completed"
    },
    "tags": []
   },
   "outputs": [],
   "source": [
    "model_prob = Model(layers[-2:]) "
   ]
  },
  {
   "cell_type": "code",
   "execution_count": 28,
   "id": "9b96e238",
   "metadata": {
    "execution": {
     "iopub.execute_input": "2022-11-19T20:12:52.890735Z",
     "iopub.status.busy": "2022-11-19T20:12:52.890015Z",
     "iopub.status.idle": "2022-11-19T20:12:52.906043Z",
     "shell.execute_reply": "2022-11-19T20:12:52.906555Z"
    },
    "papermill": {
     "duration": 0.075122,
     "end_time": "2022-11-19T20:12:52.906717",
     "exception": false,
     "start_time": "2022-11-19T20:12:52.831595",
     "status": "completed"
    },
    "tags": []
   },
   "outputs": [],
   "source": [
    "#creating the x and y ranges according to the above generated plot.\n",
    "x_range = np.linspace(-4, 1, 100) \n",
    "y_range = np.linspace(-6, 6, 100) \n",
    "x_grid, y_grid = np.meshgrid(x_range, y_range) # x_grid and y_grig are of size 100 X 100\n",
    "\n",
    "# converting x_grid and y_grid to continuous arrays\n",
    "x_gridflat = np.ravel(x_grid)\n",
    "y_gridflat = np.ravel(y_grid)\n",
    "\n",
    "# The last layer of the current model takes two columns as input. Hence transpose of np.vstack() is required.\n",
    "X = np.vstack((x_gridflat, y_gridflat)).T\n",
    "\n",
    "prob_contour = model_prob(X).reshape(100,100) "
   ]
  },
  {
   "cell_type": "code",
   "execution_count": 29,
   "id": "da72499a",
   "metadata": {
    "execution": {
     "iopub.execute_input": "2022-11-19T20:12:53.018629Z",
     "iopub.status.busy": "2022-11-19T20:12:53.017924Z",
     "iopub.status.idle": "2022-11-19T20:12:53.322427Z",
     "shell.execute_reply": "2022-11-19T20:12:53.322969Z"
    },
    "papermill": {
     "duration": 0.363397,
     "end_time": "2022-11-19T20:12:53.323132",
     "exception": false,
     "start_time": "2022-11-19T20:12:52.959735",
     "status": "completed"
    },
    "tags": []
   },
   "outputs": [
    {
     "data": {
      "image/png": "[encoded data removed]",
      "text/plain": [
       "<Figure size 720x648 with 1 Axes>"
      ]
     },
     "metadata": {
      "needs_background": "light"
     },
     "output_type": "display_data"
    }
   ],
   "source": [
    "plt.figure(figsize=(10,9))\n",
    "plt.scatter(testing_plot[:,0], testing_plot[:,1], alpha = 0.1, c = y_test.ravel())\n",
    "contours = plt.contour(x_grid,y_grid,prob_contour)\n",
    "plt.title('Probability Contours')\n",
    "plt.clabel(contours, inline = True );"
   ]
  },
  {
   "cell_type": "code",
   "execution_count": null,
   "id": "e81b4ac7",
   "metadata": {
    "papermill": {
     "duration": 0.062822,
     "end_time": "2022-11-19T20:12:53.444955",
     "exception": false,
     "start_time": "2022-11-19T20:12:53.382133",
     "status": "completed"
    },
    "tags": []
   },
   "outputs": [],
   "source": []
  }
 ],
 "metadata": {
  "kernelspec": {
   "display_name": "Python 3",
   "language": "python",
   "name": "python3"
  },
  "language_info": {
   "codemirror_mode": {
    "name": "ipython",
    "version": 3
   },
   "file_extension": ".py",
   "mimetype": "text/x-python",
   "name": "python",
   "nbconvert_exporter": "python",
   "pygments_lexer": "ipython3",
   "version": "3.6.15"
  },
  "papermill": {
   "default_parameters": {},
   "duration": 117.559387,
   "end_time": "2022-11-19T20:12:53.922738",
   "environment_variables": {},
   "exception": null,
   "input_path": "2020-08-11-part2.ipynb",
   "output_path": "2020-08-11-part2.ipynb",
   "parameters": {},
   "start_time": "2022-11-19T20:10:56.363351",
   "version": "2.3.3"
  }
 },
 "nbformat": 4,
 "nbformat_minor": 5
}