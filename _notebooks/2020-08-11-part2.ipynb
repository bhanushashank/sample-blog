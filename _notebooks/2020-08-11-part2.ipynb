{
 "cells": [
  {
   "cell_type": "markdown",
   "id": "98380cd3",
   "metadata": {
    "papermill": {
     "duration": 0.030885,
     "end_time": "2022-06-01T10:17:18.767359",
     "exception": false,
     "start_time": "2022-06-01T10:17:18.736474",
     "status": "completed"
    },
    "tags": []
   },
   "source": [
    "# Distinguish Your Own Digits (DYOD)"
   ]
  },
  {
   "cell_type": "markdown",
   "id": "ef31240d",
   "metadata": {
    "papermill": {
     "duration": 0.02496,
     "end_time": "2022-06-01T10:17:18.818987",
     "exception": false,
     "start_time": "2022-06-01T10:17:18.794027",
     "status": "completed"
    },
    "tags": []
   },
   "source": [
    "You are going to write a classifier that distinguishes between the number 3 and number 8."
   ]
  },
  {
   "cell_type": "code",
   "execution_count": 1,
   "id": "b15c8646",
   "metadata": {
    "execution": {
     "iopub.execute_input": "2022-06-01T10:17:18.879917Z",
     "iopub.status.busy": "2022-06-01T10:17:18.879206Z",
     "iopub.status.idle": "2022-06-01T10:17:18.892726Z",
     "shell.execute_reply": "2022-06-01T10:17:18.893327Z"
    },
    "papermill": {
     "duration": 0.04963,
     "end_time": "2022-06-01T10:17:18.893528",
     "exception": false,
     "start_time": "2022-06-01T10:17:18.843898",
     "status": "completed"
    },
    "tags": []
   },
   "outputs": [],
   "source": [
    "%load_ext autoreload\n",
    "%autoreload 2"
   ]
  },
  {
   "cell_type": "code",
   "execution_count": 2,
   "id": "22ef38dc",
   "metadata": {
    "execution": {
     "iopub.execute_input": "2022-06-01T10:17:18.950966Z",
     "iopub.status.busy": "2022-06-01T10:17:18.950262Z",
     "iopub.status.idle": "2022-06-01T10:17:19.565279Z",
     "shell.execute_reply": "2022-06-01T10:17:19.563043Z"
    },
    "papermill": {
     "duration": 0.646972,
     "end_time": "2022-06-01T10:17:19.565442",
     "exception": false,
     "start_time": "2022-06-01T10:17:18.918470",
     "status": "completed"
    },
    "tags": []
   },
   "outputs": [],
   "source": [
    "%matplotlib inline\n",
    "import numpy as np\n",
    "import matplotlib.pyplot as plt\n",
    "import pandas as pd"
   ]
  },
  {
   "cell_type": "markdown",
   "id": "ba036198",
   "metadata": {
    "papermill": {
     "duration": 0.024684,
     "end_time": "2022-06-01T10:17:19.615119",
     "exception": false,
     "start_time": "2022-06-01T10:17:19.590435",
     "status": "completed"
    },
    "tags": []
   },
   "source": [
    "From the command line run `pip install mnist`. This is a library that will help you bring down the mnist dataset. If you run this from a notebook, you need to put  `!pip install mnist` in a cell by itself."
   ]
  },
  {
   "cell_type": "code",
   "execution_count": 3,
   "id": "bb6ad8a1",
   "metadata": {
    "execution": {
     "iopub.execute_input": "2022-06-01T10:17:19.670950Z",
     "iopub.status.busy": "2022-06-01T10:17:19.669588Z",
     "iopub.status.idle": "2022-06-01T10:17:21.443594Z",
     "shell.execute_reply": "2022-06-01T10:17:21.444649Z"
    },
    "papermill": {
     "duration": 1.805086,
     "end_time": "2022-06-01T10:17:21.444825",
     "exception": false,
     "start_time": "2022-06-01T10:17:19.639739",
     "status": "completed"
    },
    "tags": []
   },
   "outputs": [
    {
     "name": "stdout",
     "output_type": "stream",
     "text": [
      "Collecting mnist\r\n",
      "  Downloading mnist-0.2.2-py2.py3-none-any.whl (3.5 kB)\r\n"
     ]
    },
    {
     "name": "stdout",
     "output_type": "stream",
     "text": [
      "Requirement already satisfied: numpy in /opt/hostedtoolcache/Python/3.6.15/x64/lib/python3.6/site-packages (from mnist) (1.19.5)\r\n"
     ]
    },
    {
     "name": "stdout",
     "output_type": "stream",
     "text": [
      "Installing collected packages: mnist\r\n"
     ]
    },
    {
     "name": "stdout",
     "output_type": "stream",
     "text": [
      "Successfully installed mnist-0.2.2\r\n"
     ]
    }
   ],
   "source": [
    "!pip install mnist"
   ]
  },
  {
   "cell_type": "markdown",
   "id": "69df9c9a",
   "metadata": {
    "papermill": {
     "duration": 0.027163,
     "end_time": "2022-06-01T10:17:21.499948",
     "exception": false,
     "start_time": "2022-06-01T10:17:21.472785",
     "status": "completed"
    },
    "tags": []
   },
   "source": [
    "## Preparing the Data"
   ]
  },
  {
   "cell_type": "code",
   "execution_count": 4,
   "id": "7f69d806",
   "metadata": {
    "execution": {
     "iopub.execute_input": "2022-06-01T10:17:21.570503Z",
     "iopub.status.busy": "2022-06-01T10:17:21.562325Z",
     "iopub.status.idle": "2022-06-01T10:17:21.577516Z",
     "shell.execute_reply": "2022-06-01T10:17:21.576885Z"
    },
    "papermill": {
     "duration": 0.049717,
     "end_time": "2022-06-01T10:17:21.577636",
     "exception": false,
     "start_time": "2022-06-01T10:17:21.527919",
     "status": "completed"
    },
    "tags": []
   },
   "outputs": [],
   "source": [
    "import mnist"
   ]
  },
  {
   "cell_type": "code",
   "execution_count": 5,
   "id": "a411e44f",
   "metadata": {
    "execution": {
     "iopub.execute_input": "2022-06-01T10:17:21.641824Z",
     "iopub.status.busy": "2022-06-01T10:17:21.636954Z",
     "iopub.status.idle": "2022-06-01T10:17:22.248258Z",
     "shell.execute_reply": "2022-06-01T10:17:22.247214Z"
    },
    "papermill": {
     "duration": 0.643358,
     "end_time": "2022-06-01T10:17:22.248409",
     "exception": false,
     "start_time": "2022-06-01T10:17:21.605051",
     "status": "completed"
    },
    "tags": []
   },
   "outputs": [],
   "source": [
    "train_images = mnist.train_images()\n",
    "train_labels = mnist.train_labels()"
   ]
  },
  {
   "cell_type": "code",
   "execution_count": 6,
   "id": "dceab3a5",
   "metadata": {
    "execution": {
     "iopub.execute_input": "2022-06-01T10:17:22.304410Z",
     "iopub.status.busy": "2022-06-01T10:17:22.303827Z",
     "iopub.status.idle": "2022-06-01T10:17:22.318508Z",
     "shell.execute_reply": "2022-06-01T10:17:22.318031Z"
    },
    "papermill": {
     "duration": 0.044477,
     "end_time": "2022-06-01T10:17:22.318623",
     "exception": false,
     "start_time": "2022-06-01T10:17:22.274146",
     "status": "completed"
    },
    "tags": []
   },
   "outputs": [
    {
     "data": {
      "text/plain": [
       "((60000, 28, 28), (60000,))"
      ]
     },
     "execution_count": 6,
     "metadata": {},
     "output_type": "execute_result"
    }
   ],
   "source": [
    "train_images.shape, train_labels.shape"
   ]
  },
  {
   "cell_type": "code",
   "execution_count": 7,
   "id": "f50dc2bb",
   "metadata": {
    "execution": {
     "iopub.execute_input": "2022-06-01T10:17:22.374467Z",
     "iopub.status.busy": "2022-06-01T10:17:22.373884Z",
     "iopub.status.idle": "2022-06-01T10:17:22.513316Z",
     "shell.execute_reply": "2022-06-01T10:17:22.513909Z"
    },
    "papermill": {
     "duration": 0.1698,
     "end_time": "2022-06-01T10:17:22.514079",
     "exception": false,
     "start_time": "2022-06-01T10:17:22.344279",
     "status": "completed"
    },
    "tags": []
   },
   "outputs": [],
   "source": [
    "test_images = mnist.test_images()\n",
    "test_labels = mnist.test_labels()"
   ]
  },
  {
   "cell_type": "code",
   "execution_count": 8,
   "id": "fc38cf1b",
   "metadata": {
    "execution": {
     "iopub.execute_input": "2022-06-01T10:17:22.572478Z",
     "iopub.status.busy": "2022-06-01T10:17:22.571878Z",
     "iopub.status.idle": "2022-06-01T10:17:22.585389Z",
     "shell.execute_reply": "2022-06-01T10:17:22.585957Z"
    },
    "papermill": {
     "duration": 0.045406,
     "end_time": "2022-06-01T10:17:22.586099",
     "exception": false,
     "start_time": "2022-06-01T10:17:22.540693",
     "status": "completed"
    },
    "tags": []
   },
   "outputs": [
    {
     "data": {
      "text/plain": [
       "((10000, 28, 28), (10000,))"
      ]
     },
     "execution_count": 8,
     "metadata": {},
     "output_type": "execute_result"
    }
   ],
   "source": [
    "test_images.shape, test_labels.shape"
   ]
  },
  {
   "cell_type": "code",
   "execution_count": 9,
   "id": "f9ed8fe0",
   "metadata": {
    "execution": {
     "iopub.execute_input": "2022-06-01T10:17:22.650738Z",
     "iopub.status.busy": "2022-06-01T10:17:22.650133Z",
     "iopub.status.idle": "2022-06-01T10:17:22.786660Z",
     "shell.execute_reply": "2022-06-01T10:17:22.786154Z"
    },
    "papermill": {
     "duration": 0.174402,
     "end_time": "2022-06-01T10:17:22.786783",
     "exception": false,
     "start_time": "2022-06-01T10:17:22.612381",
     "status": "completed"
    },
    "tags": []
   },
   "outputs": [
    {
     "name": "stdout",
     "output_type": "stream",
     "text": [
      "2\n"
     ]
    },
    {
     "data": {
      "text/plain": [
       "<matplotlib.image.AxesImage at 0x7fa1e7c2eeb8>"
      ]
     },
     "execution_count": 9,
     "metadata": {},
     "output_type": "execute_result"
    },
    {
     "data": {
      "image/png": "[encoded data removed]",
      "text/plain": [
       "<Figure size 432x288 with 1 Axes>"
      ]
     },
     "metadata": {
      "needs_background": "light"
     },
     "output_type": "display_data"
    }
   ],
   "source": [
    "image_index = 7776 # You may select anything up to 60,000\n",
    "print(train_labels[image_index]) \n",
    "plt.imshow(train_images[image_index], cmap='Greys')"
   ]
  },
  {
   "cell_type": "markdown",
   "id": "a8d2388d",
   "metadata": {
    "papermill": {
     "duration": 0.027205,
     "end_time": "2022-06-01T10:17:22.841640",
     "exception": false,
     "start_time": "2022-06-01T10:17:22.814435",
     "status": "completed"
    },
    "tags": []
   },
   "source": [
    "## Filter data to get 3 and 8 out"
   ]
  },
  {
   "cell_type": "code",
   "execution_count": 10,
   "id": "776f7fc7",
   "metadata": {
    "execution": {
     "iopub.execute_input": "2022-06-01T10:17:22.910116Z",
     "iopub.status.busy": "2022-06-01T10:17:22.904541Z",
     "iopub.status.idle": "2022-06-01T10:17:22.918601Z",
     "shell.execute_reply": "2022-06-01T10:17:22.919062Z"
    },
    "papermill": {
     "duration": 0.050222,
     "end_time": "2022-06-01T10:17:22.919206",
     "exception": false,
     "start_time": "2022-06-01T10:17:22.868984",
     "status": "completed"
    },
    "tags": []
   },
   "outputs": [],
   "source": [
    "train_filter = np.where((train_labels == 3 ) | (train_labels == 8))\n",
    "test_filter = np.where((test_labels == 3) | (test_labels == 8))\n",
    "X_train, y_train = train_images[train_filter], train_labels[train_filter]\n",
    "X_test, y_test = test_images[test_filter], test_labels[test_filter]"
   ]
  },
  {
   "cell_type": "markdown",
   "id": "948f0b7e",
   "metadata": {
    "papermill": {
     "duration": 0.027041,
     "end_time": "2022-06-01T10:17:22.973580",
     "exception": false,
     "start_time": "2022-06-01T10:17:22.946539",
     "status": "completed"
    },
    "tags": []
   },
   "source": [
    "We normalize the pizel values in the 0 to 1 range"
   ]
  },
  {
   "cell_type": "code",
   "execution_count": 11,
   "id": "ee4c2166",
   "metadata": {
    "execution": {
     "iopub.execute_input": "2022-06-01T10:17:23.037769Z",
     "iopub.status.busy": "2022-06-01T10:17:23.035360Z",
     "iopub.status.idle": "2022-06-01T10:17:23.086103Z",
     "shell.execute_reply": "2022-06-01T10:17:23.086645Z"
    },
    "papermill": {
     "duration": 0.086275,
     "end_time": "2022-06-01T10:17:23.086810",
     "exception": false,
     "start_time": "2022-06-01T10:17:23.000535",
     "status": "completed"
    },
    "tags": []
   },
   "outputs": [],
   "source": [
    "X_train = X_train/255.\n",
    "X_test = X_test/255."
   ]
  },
  {
   "cell_type": "markdown",
   "id": "ddcf4fab",
   "metadata": {
    "papermill": {
     "duration": 0.029152,
     "end_time": "2022-06-01T10:17:23.144682",
     "exception": false,
     "start_time": "2022-06-01T10:17:23.115530",
     "status": "completed"
    },
    "tags": []
   },
   "source": [
    "And setup the labels as 1 (when the digit is 3) and 0 (when the digit is 8)"
   ]
  },
  {
   "cell_type": "code",
   "execution_count": 12,
   "id": "7dc908f2",
   "metadata": {
    "execution": {
     "iopub.execute_input": "2022-06-01T10:17:23.214579Z",
     "iopub.status.busy": "2022-06-01T10:17:23.213952Z",
     "iopub.status.idle": "2022-06-01T10:17:23.221512Z",
     "shell.execute_reply": "2022-06-01T10:17:23.222125Z"
    },
    "papermill": {
     "duration": 0.04774,
     "end_time": "2022-06-01T10:17:23.222351",
     "exception": false,
     "start_time": "2022-06-01T10:17:23.174611",
     "status": "completed"
    },
    "tags": []
   },
   "outputs": [],
   "source": [
    "y_train = 1*(y_train==3)\n",
    "y_test = 1*(y_test==3)"
   ]
  },
  {
   "cell_type": "code",
   "execution_count": 13,
   "id": "01e4e969",
   "metadata": {
    "execution": {
     "iopub.execute_input": "2022-06-01T10:17:23.286053Z",
     "iopub.status.busy": "2022-06-01T10:17:23.284463Z",
     "iopub.status.idle": "2022-06-01T10:17:23.299767Z",
     "shell.execute_reply": "2022-06-01T10:17:23.300220Z"
    },
    "papermill": {
     "duration": 0.048277,
     "end_time": "2022-06-01T10:17:23.300360",
     "exception": false,
     "start_time": "2022-06-01T10:17:23.252083",
     "status": "completed"
    },
    "tags": []
   },
   "outputs": [
    {
     "data": {
      "text/plain": [
       "((11982, 28, 28), (1984, 28, 28))"
      ]
     },
     "execution_count": 13,
     "metadata": {},
     "output_type": "execute_result"
    }
   ],
   "source": [
    "X_train.shape, X_test.shape"
   ]
  },
  {
   "cell_type": "markdown",
   "id": "5ccf3f85",
   "metadata": {
    "papermill": {
     "duration": 0.030505,
     "end_time": "2022-06-01T10:17:23.359978",
     "exception": false,
     "start_time": "2022-06-01T10:17:23.329473",
     "status": "completed"
    },
    "tags": []
   },
   "source": [
    "We reshape the data to flatten the image pixels into a set of features or co-variates:"
   ]
  },
  {
   "cell_type": "code",
   "execution_count": 14,
   "id": "5286a4a3",
   "metadata": {
    "execution": {
     "iopub.execute_input": "2022-06-01T10:17:23.426488Z",
     "iopub.status.busy": "2022-06-01T10:17:23.424603Z",
     "iopub.status.idle": "2022-06-01T10:17:23.436985Z",
     "shell.execute_reply": "2022-06-01T10:17:23.437427Z"
    },
    "papermill": {
     "duration": 0.047391,
     "end_time": "2022-06-01T10:17:23.437570",
     "exception": false,
     "start_time": "2022-06-01T10:17:23.390179",
     "status": "completed"
    },
    "tags": []
   },
   "outputs": [
    {
     "data": {
      "text/plain": [
       "((11982, 784), (1984, 784))"
      ]
     },
     "execution_count": 14,
     "metadata": {},
     "output_type": "execute_result"
    }
   ],
   "source": [
    "X_train = X_train.reshape(X_train.shape[0], -1)\n",
    "X_test = X_test.reshape(X_test.shape[0], -1)\n",
    "X_train.shape, X_test.shape"
   ]
  },
  {
   "cell_type": "code",
   "execution_count": 15,
   "id": "73c5f88a",
   "metadata": {
    "execution": {
     "iopub.execute_input": "2022-06-01T10:17:23.501780Z",
     "iopub.status.busy": "2022-06-01T10:17:23.496933Z",
     "iopub.status.idle": "2022-06-01T10:17:23.516481Z",
     "shell.execute_reply": "2022-06-01T10:17:23.515978Z"
    },
    "papermill": {
     "duration": 0.051521,
     "end_time": "2022-06-01T10:17:23.516597",
     "exception": false,
     "start_time": "2022-06-01T10:17:23.465076",
     "status": "completed"
    },
    "tags": []
   },
   "outputs": [],
   "source": [
    "#Impoting functions from 'Kudzu'\n",
    "from kudzu.model import Model\n",
    "from kudzu.train import Learner\n",
    "from kudzu.optim import GD\n",
    "from kudzu.data import Data, Sampler,Dataloader\n",
    "\n",
    "from kudzu.callbacks import AccCallback\n",
    "from kudzu.callbacks import ClfCallback\n",
    "\n",
    "from kudzu.loss import MSE\n",
    "\n",
    "from kudzu.layer import Sigmoid,Relu\n",
    "from kudzu.layer import Affine"
   ]
  },
  {
   "cell_type": "markdown",
   "id": "bc01172a",
   "metadata": {
    "papermill": {
     "duration": 0.0275,
     "end_time": "2022-06-01T10:17:23.571883",
     "exception": false,
     "start_time": "2022-06-01T10:17:23.544383",
     "status": "completed"
    },
    "tags": []
   },
   "source": [
    "### Let us create a `Config` class, to store important parameters. \n",
    "This class essentially plays the role of a dictionary."
   ]
  },
  {
   "cell_type": "code",
   "execution_count": 16,
   "id": "978281aa",
   "metadata": {
    "execution": {
     "iopub.execute_input": "2022-06-01T10:17:23.642001Z",
     "iopub.status.busy": "2022-06-01T10:17:23.637770Z",
     "iopub.status.idle": "2022-06-01T10:17:23.645750Z",
     "shell.execute_reply": "2022-06-01T10:17:23.646495Z"
    },
    "papermill": {
     "duration": 0.047363,
     "end_time": "2022-06-01T10:17:23.646635",
     "exception": false,
     "start_time": "2022-06-01T10:17:23.599272",
     "status": "completed"
    },
    "tags": []
   },
   "outputs": [],
   "source": [
    "class Config:\n",
    "    pass\n",
    "config = Config()\n",
    "config.lr = 0.001\n",
    "config.num_epochs = 250\n",
    "config.bs = 50"
   ]
  },
  {
   "cell_type": "markdown",
   "id": "1385fa59",
   "metadata": {
    "papermill": {
     "duration": 0.027465,
     "end_time": "2022-06-01T10:17:23.701786",
     "exception": false,
     "start_time": "2022-06-01T10:17:23.674321",
     "status": "completed"
    },
    "tags": []
   },
   "source": [
    "### Running Models with the Training data\n",
    "Details about the network layers:\n",
    "- A first affine layer has 784 inputs and does 100 affine transforms. These are followed by a Relu\n",
    "- A second affine layer has 100 inputs from the 100 activations of the past layer, and does 100 affine transforms. These are followed by a Relu\n",
    "- A third affine layer has 100 activations and does 2 affine transformations to create an embedding for visualization. There is no non-linearity here.\n",
    "- A final \"logistic regression\" which has an affine transform from 2 inputs to 1 output, which is squeezed through a sigmoid.\n"
   ]
  },
  {
   "cell_type": "code",
   "execution_count": 17,
   "id": "2b9c66db",
   "metadata": {
    "execution": {
     "iopub.execute_input": "2022-06-01T10:17:23.769755Z",
     "iopub.status.busy": "2022-06-01T10:17:23.768254Z",
     "iopub.status.idle": "2022-06-01T10:17:23.776572Z",
     "shell.execute_reply": "2022-06-01T10:17:23.777042Z"
    },
    "papermill": {
     "duration": 0.047943,
     "end_time": "2022-06-01T10:17:23.777182",
     "exception": false,
     "start_time": "2022-06-01T10:17:23.729239",
     "status": "completed"
    },
    "tags": []
   },
   "outputs": [],
   "source": [
    "data = Data(X_train, y_train.reshape(-1,1))\n",
    "sampler = Sampler(data, config.bs, shuffle=True)\n",
    "\n",
    "dl = Dataloader(data, sampler)\n",
    "\n",
    "opt = GD(config.lr)\n",
    "loss = MSE()"
   ]
  },
  {
   "cell_type": "code",
   "execution_count": 18,
   "id": "b275e4c2",
   "metadata": {
    "execution": {
     "iopub.execute_input": "2022-06-01T10:17:23.837630Z",
     "iopub.status.busy": "2022-06-01T10:17:23.837017Z",
     "iopub.status.idle": "2022-06-01T10:17:23.849708Z",
     "shell.execute_reply": "2022-06-01T10:17:23.849207Z"
    },
    "papermill": {
     "duration": 0.044881,
     "end_time": "2022-06-01T10:17:23.849823",
     "exception": false,
     "start_time": "2022-06-01T10:17:23.804942",
     "status": "completed"
    },
    "tags": []
   },
   "outputs": [],
   "source": [
    "training_data_x = X_train\n",
    "testing_data_x = X_test\n",
    "training_data_y = y_train.reshape(-1,1)\n",
    "testing_data_y = y_test.reshape(-1,1)"
   ]
  },
  {
   "cell_type": "code",
   "execution_count": 19,
   "id": "76951160",
   "metadata": {
    "execution": {
     "iopub.execute_input": "2022-06-01T10:17:23.909727Z",
     "iopub.status.busy": "2022-06-01T10:17:23.909096Z",
     "iopub.status.idle": "2022-06-01T10:17:23.925896Z",
     "shell.execute_reply": "2022-06-01T10:17:23.926381Z"
    },
    "papermill": {
     "duration": 0.049031,
     "end_time": "2022-06-01T10:17:23.926522",
     "exception": false,
     "start_time": "2022-06-01T10:17:23.877491",
     "status": "completed"
    },
    "tags": []
   },
   "outputs": [
    {
     "name": "stdout",
     "output_type": "stream",
     "text": [
      "xavier\n",
      "xavier\n",
      "xavier\n",
      "xavier\n",
      "xavier\n"
     ]
    }
   ],
   "source": [
    "layers = [Affine(\"first\", 784, 100), Relu(\"first\"), Affine(\"second\", 100, 100), Relu(\"second\"), Affine(\"third\", 100, 2), Affine(\"last\", 2, 1), Sigmoid(\"last\")]\n",
    "model_nn = Model(layers)\n",
    "model_lr = Model([Affine(\"logits\", 784, 1), Sigmoid(\"sigmoid\")])"
   ]
  },
  {
   "cell_type": "code",
   "execution_count": 20,
   "id": "6eede77a",
   "metadata": {
    "execution": {
     "iopub.execute_input": "2022-06-01T10:17:23.998391Z",
     "iopub.status.busy": "2022-06-01T10:17:23.990250Z",
     "iopub.status.idle": "2022-06-01T10:17:24.001008Z",
     "shell.execute_reply": "2022-06-01T10:17:24.000497Z"
    },
    "papermill": {
     "duration": 0.046568,
     "end_time": "2022-06-01T10:17:24.001134",
     "exception": false,
     "start_time": "2022-06-01T10:17:23.954566",
     "status": "completed"
    },
    "tags": []
   },
   "outputs": [],
   "source": [
    "nn_learner = Learner(loss, model_nn, opt, config.num_epochs)\n",
    "acc_nn = ClfCallback(nn_learner, config.bs, training_data_x , testing_data_x, training_data_y, testing_data_y)\n",
    "nn_learner.set_callbacks([acc_nn])"
   ]
  },
  {
   "cell_type": "code",
   "execution_count": 21,
   "id": "877b6cc7",
   "metadata": {
    "execution": {
     "iopub.execute_input": "2022-06-01T10:17:24.070648Z",
     "iopub.status.busy": "2022-06-01T10:17:24.060895Z",
     "iopub.status.idle": "2022-06-01T10:17:24.075997Z",
     "shell.execute_reply": "2022-06-01T10:17:24.075472Z"
    },
    "papermill": {
     "duration": 0.047161,
     "end_time": "2022-06-01T10:17:24.076117",
     "exception": false,
     "start_time": "2022-06-01T10:17:24.028956",
     "status": "completed"
    },
    "tags": []
   },
   "outputs": [],
   "source": [
    "lr_learner = Learner(loss, model_lr, opt, config.num_epochs)\n",
    "acc_lr = ClfCallback(lr_learner, config.bs, training_data_x , testing_data_x, training_data_y, testing_data_y)\n",
    "lr_learner.set_callbacks([acc_lr])"
   ]
  },
  {
   "cell_type": "code",
   "execution_count": 22,
   "id": "d9b133c3",
   "metadata": {
    "execution": {
     "iopub.execute_input": "2022-06-01T10:17:24.146112Z",
     "iopub.status.busy": "2022-06-01T10:17:24.137374Z",
     "iopub.status.idle": "2022-06-01T10:18:52.794158Z",
     "shell.execute_reply": "2022-06-01T10:18:52.795064Z"
    },
    "papermill": {
     "duration": 88.69106,
     "end_time": "2022-06-01T10:18:52.795222",
     "exception": false,
     "start_time": "2022-06-01T10:17:24.104162",
     "status": "completed"
    },
    "tags": []
   },
   "outputs": [
    {
     "name": "stdout",
     "output_type": "stream",
     "text": [
      "Epoch 0, Loss 0.2488\n",
      "Training Accuracy: 0.5350, Testing Accuracy: 0.5433\n",
      "\n"
     ]
    },
    {
     "name": "stdout",
     "output_type": "stream",
     "text": [
      "Epoch 10, Loss 0.1759\n",
      "Training Accuracy: 0.8823, Testing Accuracy: 0.8891\n",
      "\n"
     ]
    },
    {
     "name": "stdout",
     "output_type": "stream",
     "text": [
      "Epoch 20, Loss 0.0853\n",
      "Training Accuracy: 0.9195, Testing Accuracy: 0.9335\n",
      "\n"
     ]
    },
    {
     "name": "stdout",
     "output_type": "stream",
     "text": [
      "Epoch 30, Loss 0.0562\n",
      "Training Accuracy: 0.9431, Testing Accuracy: 0.9536\n",
      "\n"
     ]
    },
    {
     "name": "stdout",
     "output_type": "stream",
     "text": [
      "Epoch 40, Loss 0.0446\n",
      "Training Accuracy: 0.9521, Testing Accuracy: 0.9617\n",
      "\n"
     ]
    },
    {
     "name": "stdout",
     "output_type": "stream",
     "text": [
      "Epoch 50, Loss 0.0386\n",
      "Training Accuracy: 0.9564, Testing Accuracy: 0.9647\n",
      "\n"
     ]
    },
    {
     "name": "stdout",
     "output_type": "stream",
     "text": [
      "Epoch 60, Loss 0.0349\n",
      "Training Accuracy: 0.9593, Testing Accuracy: 0.9667\n",
      "\n"
     ]
    },
    {
     "name": "stdout",
     "output_type": "stream",
     "text": [
      "Epoch 70, Loss 0.0323\n",
      "Training Accuracy: 0.9631, Testing Accuracy: 0.9693\n",
      "\n"
     ]
    },
    {
     "name": "stdout",
     "output_type": "stream",
     "text": [
      "Epoch 80, Loss 0.0304\n",
      "Training Accuracy: 0.9651, Testing Accuracy: 0.9708\n",
      "\n"
     ]
    },
    {
     "name": "stdout",
     "output_type": "stream",
     "text": [
      "Epoch 90, Loss 0.0289\n",
      "Training Accuracy: 0.9673, Testing Accuracy: 0.9713\n",
      "\n"
     ]
    },
    {
     "name": "stdout",
     "output_type": "stream",
     "text": [
      "Epoch 100, Loss 0.0276\n",
      "Training Accuracy: 0.9684, Testing Accuracy: 0.9713\n",
      "\n"
     ]
    },
    {
     "name": "stdout",
     "output_type": "stream",
     "text": [
      "Epoch 110, Loss 0.0266\n",
      "Training Accuracy: 0.9700, Testing Accuracy: 0.9723\n",
      "\n"
     ]
    },
    {
     "name": "stdout",
     "output_type": "stream",
     "text": [
      "Epoch 120, Loss 0.0256\n",
      "Training Accuracy: 0.9710, Testing Accuracy: 0.9728\n",
      "\n"
     ]
    },
    {
     "name": "stdout",
     "output_type": "stream",
     "text": [
      "Epoch 130, Loss 0.0248\n",
      "Training Accuracy: 0.9723, Testing Accuracy: 0.9748\n",
      "\n"
     ]
    },
    {
     "name": "stdout",
     "output_type": "stream",
     "text": [
      "Epoch 140, Loss 0.0241\n",
      "Training Accuracy: 0.9728, Testing Accuracy: 0.9748\n",
      "\n"
     ]
    },
    {
     "name": "stdout",
     "output_type": "stream",
     "text": [
      "Epoch 150, Loss 0.0234\n",
      "Training Accuracy: 0.9735, Testing Accuracy: 0.9748\n",
      "\n"
     ]
    },
    {
     "name": "stdout",
     "output_type": "stream",
     "text": [
      "Epoch 160, Loss 0.0228\n",
      "Training Accuracy: 0.9741, Testing Accuracy: 0.9753\n",
      "\n"
     ]
    },
    {
     "name": "stdout",
     "output_type": "stream",
     "text": [
      "Epoch 170, Loss 0.0222\n",
      "Training Accuracy: 0.9747, Testing Accuracy: 0.9758\n",
      "\n"
     ]
    },
    {
     "name": "stdout",
     "output_type": "stream",
     "text": [
      "Epoch 180, Loss 0.0217\n",
      "Training Accuracy: 0.9752, Testing Accuracy: 0.9758\n",
      "\n"
     ]
    },
    {
     "name": "stdout",
     "output_type": "stream",
     "text": [
      "Epoch 190, Loss 0.0212\n",
      "Training Accuracy: 0.9755, Testing Accuracy: 0.9758\n",
      "\n"
     ]
    },
    {
     "name": "stdout",
     "output_type": "stream",
     "text": [
      "Epoch 200, Loss 0.0207\n",
      "Training Accuracy: 0.9762, Testing Accuracy: 0.9763\n",
      "\n"
     ]
    },
    {
     "name": "stdout",
     "output_type": "stream",
     "text": [
      "Epoch 210, Loss 0.0203\n",
      "Training Accuracy: 0.9771, Testing Accuracy: 0.9763\n",
      "\n"
     ]
    },
    {
     "name": "stdout",
     "output_type": "stream",
     "text": [
      "Epoch 220, Loss 0.0198\n",
      "Training Accuracy: 0.9776, Testing Accuracy: 0.9763\n",
      "\n"
     ]
    },
    {
     "name": "stdout",
     "output_type": "stream",
     "text": [
      "Epoch 230, Loss 0.0194\n",
      "Training Accuracy: 0.9782, Testing Accuracy: 0.9758\n",
      "\n"
     ]
    },
    {
     "name": "stdout",
     "output_type": "stream",
     "text": [
      "Epoch 240, Loss 0.019\n",
      "Training Accuracy: 0.9789, Testing Accuracy: 0.9768\n",
      "\n"
     ]
    },
    {
     "data": {
      "text/plain": [
       "0.03678185113035123"
      ]
     },
     "execution_count": 22,
     "metadata": {},
     "output_type": "execute_result"
    }
   ],
   "source": [
    "nn_learner.train_loop(dl)"
   ]
  },
  {
   "cell_type": "code",
   "execution_count": 23,
   "id": "e0163366",
   "metadata": {
    "execution": {
     "iopub.execute_input": "2022-06-01T10:18:52.880942Z",
     "iopub.status.busy": "2022-06-01T10:18:52.880266Z",
     "iopub.status.idle": "2022-06-01T10:19:09.355094Z",
     "shell.execute_reply": "2022-06-01T10:19:09.355947Z"
    },
    "papermill": {
     "duration": 16.524773,
     "end_time": "2022-06-01T10:19:09.356111",
     "exception": false,
     "start_time": "2022-06-01T10:18:52.831338",
     "status": "completed"
    },
    "tags": []
   },
   "outputs": [
    {
     "name": "stdout",
     "output_type": "stream",
     "text": [
      "Epoch 0, Loss 0.254\n",
      "Training Accuracy: 0.6592, Testing Accuracy: 0.6532\n",
      "\n"
     ]
    },
    {
     "name": "stdout",
     "output_type": "stream",
     "text": [
      "Epoch 10, Loss 0.1025\n",
      "Training Accuracy: 0.9156, Testing Accuracy: 0.9330\n",
      "\n"
     ]
    },
    {
     "name": "stdout",
     "output_type": "stream",
     "text": [
      "Epoch 20, Loss 0.0782\n",
      "Training Accuracy: 0.9316, Testing Accuracy: 0.9466\n",
      "\n"
     ]
    },
    {
     "name": "stdout",
     "output_type": "stream",
     "text": [
      "Epoch 30, Loss 0.0671\n",
      "Training Accuracy: 0.9401, Testing Accuracy: 0.9521\n",
      "\n"
     ]
    },
    {
     "name": "stdout",
     "output_type": "stream",
     "text": [
      "Epoch 40, Loss 0.0606\n",
      "Training Accuracy: 0.9450, Testing Accuracy: 0.9556\n",
      "\n"
     ]
    },
    {
     "name": "stdout",
     "output_type": "stream",
     "text": [
      "Epoch 50, Loss 0.0561\n",
      "Training Accuracy: 0.9478, Testing Accuracy: 0.9592\n",
      "\n"
     ]
    },
    {
     "name": "stdout",
     "output_type": "stream",
     "text": [
      "Epoch 60, Loss 0.0529\n",
      "Training Accuracy: 0.9490, Testing Accuracy: 0.9602\n",
      "\n"
     ]
    },
    {
     "name": "stdout",
     "output_type": "stream",
     "text": [
      "Epoch 70, Loss 0.0504\n",
      "Training Accuracy: 0.9503, Testing Accuracy: 0.9617\n",
      "\n"
     ]
    },
    {
     "name": "stdout",
     "output_type": "stream",
     "text": [
      "Epoch 80, Loss 0.0484\n",
      "Training Accuracy: 0.9522, Testing Accuracy: 0.9627\n",
      "\n"
     ]
    },
    {
     "name": "stdout",
     "output_type": "stream",
     "text": [
      "Epoch 90, Loss 0.0468\n",
      "Training Accuracy: 0.9536, Testing Accuracy: 0.9637\n",
      "\n"
     ]
    },
    {
     "name": "stdout",
     "output_type": "stream",
     "text": [
      "Epoch 100, Loss 0.0455\n",
      "Training Accuracy: 0.9548, Testing Accuracy: 0.9652\n",
      "\n"
     ]
    },
    {
     "name": "stdout",
     "output_type": "stream",
     "text": [
      "Epoch 110, Loss 0.0443\n",
      "Training Accuracy: 0.9555, Testing Accuracy: 0.9652\n",
      "\n"
     ]
    },
    {
     "name": "stdout",
     "output_type": "stream",
     "text": [
      "Epoch 120, Loss 0.0433\n",
      "Training Accuracy: 0.9563, Testing Accuracy: 0.9662\n",
      "\n"
     ]
    },
    {
     "name": "stdout",
     "output_type": "stream",
     "text": [
      "Epoch 130, Loss 0.0424\n",
      "Training Accuracy: 0.9565, Testing Accuracy: 0.9667\n",
      "\n"
     ]
    },
    {
     "name": "stdout",
     "output_type": "stream",
     "text": [
      "Epoch 140, Loss 0.0416\n",
      "Training Accuracy: 0.9573, Testing Accuracy: 0.9672\n",
      "\n"
     ]
    },
    {
     "name": "stdout",
     "output_type": "stream",
     "text": [
      "Epoch 150, Loss 0.0409\n",
      "Training Accuracy: 0.9579, Testing Accuracy: 0.9677\n",
      "\n"
     ]
    },
    {
     "name": "stdout",
     "output_type": "stream",
     "text": [
      "Epoch 160, Loss 0.0402\n",
      "Training Accuracy: 0.9584, Testing Accuracy: 0.9677\n",
      "\n"
     ]
    },
    {
     "name": "stdout",
     "output_type": "stream",
     "text": [
      "Epoch 170, Loss 0.0396\n",
      "Training Accuracy: 0.9589, Testing Accuracy: 0.9682\n",
      "\n"
     ]
    },
    {
     "name": "stdout",
     "output_type": "stream",
     "text": [
      "Epoch 180, Loss 0.0391\n",
      "Training Accuracy: 0.9589, Testing Accuracy: 0.9682\n",
      "\n"
     ]
    },
    {
     "name": "stdout",
     "output_type": "stream",
     "text": [
      "Epoch 190, Loss 0.0386\n",
      "Training Accuracy: 0.9595, Testing Accuracy: 0.9677\n",
      "\n"
     ]
    },
    {
     "name": "stdout",
     "output_type": "stream",
     "text": [
      "Epoch 200, Loss 0.0382\n",
      "Training Accuracy: 0.9601, Testing Accuracy: 0.9677\n",
      "\n"
     ]
    },
    {
     "name": "stdout",
     "output_type": "stream",
     "text": [
      "Epoch 210, Loss 0.0377\n",
      "Training Accuracy: 0.9602, Testing Accuracy: 0.9677\n",
      "\n"
     ]
    },
    {
     "name": "stdout",
     "output_type": "stream",
     "text": [
      "Epoch 220, Loss 0.0373\n",
      "Training Accuracy: 0.9605, Testing Accuracy: 0.9677\n",
      "\n"
     ]
    },
    {
     "name": "stdout",
     "output_type": "stream",
     "text": [
      "Epoch 230, Loss 0.037\n",
      "Training Accuracy: 0.9610, Testing Accuracy: 0.9677\n",
      "\n"
     ]
    },
    {
     "name": "stdout",
     "output_type": "stream",
     "text": [
      "Epoch 240, Loss 0.0366\n",
      "Training Accuracy: 0.9612, Testing Accuracy: 0.9677\n",
      "\n"
     ]
    },
    {
     "data": {
      "text/plain": [
       "0.02201574218880814"
      ]
     },
     "execution_count": 23,
     "metadata": {},
     "output_type": "execute_result"
    }
   ],
   "source": [
    "lr_learner.train_loop(dl)"
   ]
  },
  {
   "cell_type": "code",
   "execution_count": 24,
   "id": "ca410940",
   "metadata": {
    "execution": {
     "iopub.execute_input": "2022-06-01T10:19:09.450559Z",
     "iopub.status.busy": "2022-06-01T10:19:09.449916Z",
     "iopub.status.idle": "2022-06-01T10:19:09.676139Z",
     "shell.execute_reply": "2022-06-01T10:19:09.676612Z"
    },
    "papermill": {
     "duration": 0.277748,
     "end_time": "2022-06-01T10:19:09.676766",
     "exception": false,
     "start_time": "2022-06-01T10:19:09.399018",
     "status": "completed"
    },
    "tags": []
   },
   "outputs": [
    {
     "data": {
      "text/plain": [
       "<matplotlib.legend.Legend at 0x7fa1daff4518>"
      ]
     },
     "execution_count": 24,
     "metadata": {},
     "output_type": "execute_result"
    },
    {
     "data": {
      "image/png": "[encoded data removed]",
      "text/plain": [
       "<Figure size 1080x720 with 1 Axes>"
      ]
     },
     "metadata": {
      "needs_background": "light"
     },
     "output_type": "display_data"
    }
   ],
   "source": [
    "#comparing the results of NN and LR\n",
    "plt.figure(figsize=(15,10))\n",
    "\n",
    "# Neural Network plots\n",
    "plt.plot(acc_nn.accuracies, 'r-', label = \"Training Accuracies - NN\")\n",
    "plt.plot(acc_nn.test_accuracies, 'g-', label = \"Testing Accuracies - NN\")\n",
    "\n",
    "# Logistic Regression plots\n",
    "plt.plot(acc_lr.accuracies, 'k-', label = \"Training Accuracies - LR\")\n",
    "plt.plot(acc_lr.test_accuracies, 'b-', label = \"Testing Accuracies - LR\")\n",
    "plt.legend()"
   ]
  },
  {
   "cell_type": "markdown",
   "id": "80dfb35c",
   "metadata": {
    "papermill": {
     "duration": 0.043201,
     "end_time": "2022-06-01T10:19:09.765298",
     "exception": false,
     "start_time": "2022-06-01T10:19:09.722097",
     "status": "completed"
    },
    "tags": []
   },
   "source": [
    "#### Plotting the outputs of this layer of the NN.\n"
   ]
  },
  {
   "cell_type": "code",
   "execution_count": 25,
   "id": "45eb2ff5",
   "metadata": {
    "execution": {
     "iopub.execute_input": "2022-06-01T10:19:09.858795Z",
     "iopub.status.busy": "2022-06-01T10:19:09.857545Z",
     "iopub.status.idle": "2022-06-01T10:19:09.879652Z",
     "shell.execute_reply": "2022-06-01T10:19:09.879087Z"
    },
    "papermill": {
     "duration": 0.071449,
     "end_time": "2022-06-01T10:19:09.879784",
     "exception": false,
     "start_time": "2022-06-01T10:19:09.808335",
     "status": "completed"
    },
    "tags": []
   },
   "outputs": [],
   "source": [
    "new_model = Model(layers[:-2])\n",
    "testing_plot = new_model(testing_data_x)"
   ]
  },
  {
   "cell_type": "code",
   "execution_count": 26,
   "id": "4c0a5485",
   "metadata": {
    "execution": {
     "iopub.execute_input": "2022-06-01T10:19:09.971810Z",
     "iopub.status.busy": "2022-06-01T10:19:09.971182Z",
     "iopub.status.idle": "2022-06-01T10:19:10.182213Z",
     "shell.execute_reply": "2022-06-01T10:19:10.182856Z"
    },
    "papermill": {
     "duration": 0.259688,
     "end_time": "2022-06-01T10:19:10.183017",
     "exception": false,
     "start_time": "2022-06-01T10:19:09.923329",
     "status": "completed"
    },
    "tags": []
   },
   "outputs": [
    {
     "data": {
      "text/plain": [
       "Text(0.5, 1.0, 'Outputs')"
      ]
     },
     "execution_count": 26,
     "metadata": {},
     "output_type": "execute_result"
    },
    {
     "data": {
      "image/png": "[encoded data removed]",
      "text/plain": [
       "<Figure size 576x504 with 1 Axes>"
      ]
     },
     "metadata": {
      "needs_background": "light"
     },
     "output_type": "display_data"
    }
   ],
   "source": [
    "# Plotting the scatter plot of points and color coding by class\n",
    "plt.figure(figsize=(8,7))\n",
    "plt.scatter(testing_plot[:,0], testing_plot[:,1], alpha = 0.1, c = y_test.ravel());\n",
    "plt.title('Outputs')"
   ]
  },
  {
   "cell_type": "markdown",
   "id": "a74fcf8f",
   "metadata": {
    "papermill": {
     "duration": 0.045817,
     "end_time": "2022-06-01T10:19:10.274677",
     "exception": false,
     "start_time": "2022-06-01T10:19:10.228860",
     "status": "completed"
    },
    "tags": []
   },
   "source": [
    "Probability contours"
   ]
  },
  {
   "cell_type": "code",
   "execution_count": 27,
   "id": "d0afc8e3",
   "metadata": {
    "execution": {
     "iopub.execute_input": "2022-06-01T10:19:10.411656Z",
     "iopub.status.busy": "2022-06-01T10:19:10.411038Z",
     "iopub.status.idle": "2022-06-01T10:19:10.423842Z",
     "shell.execute_reply": "2022-06-01T10:19:10.423347Z"
    },
    "papermill": {
     "duration": 0.063155,
     "end_time": "2022-06-01T10:19:10.423965",
     "exception": false,
     "start_time": "2022-06-01T10:19:10.360810",
     "status": "completed"
    },
    "tags": []
   },
   "outputs": [],
   "source": [
    "model_prob = Model(layers[-2:]) "
   ]
  },
  {
   "cell_type": "code",
   "execution_count": 28,
   "id": "9b96e238",
   "metadata": {
    "execution": {
     "iopub.execute_input": "2022-06-01T10:19:10.530704Z",
     "iopub.status.busy": "2022-06-01T10:19:10.530058Z",
     "iopub.status.idle": "2022-06-01T10:19:10.538185Z",
     "shell.execute_reply": "2022-06-01T10:19:10.537708Z"
    },
    "papermill": {
     "duration": 0.068455,
     "end_time": "2022-06-01T10:19:10.538310",
     "exception": false,
     "start_time": "2022-06-01T10:19:10.469855",
     "status": "completed"
    },
    "tags": []
   },
   "outputs": [],
   "source": [
    "#creating the x and y ranges according to the above generated plot.\n",
    "x_range = np.linspace(-4, 1, 100) \n",
    "y_range = np.linspace(-6, 6, 100) \n",
    "x_grid, y_grid = np.meshgrid(x_range, y_range) # x_grid and y_grig are of size 100 X 100\n",
    "\n",
    "# converting x_grid and y_grid to continuous arrays\n",
    "x_gridflat = np.ravel(x_grid)\n",
    "y_gridflat = np.ravel(y_grid)\n",
    "\n",
    "# The last layer of the current model takes two columns as input. Hence transpose of np.vstack() is required.\n",
    "X = np.vstack((x_gridflat, y_gridflat)).T\n",
    "\n",
    "prob_contour = model_prob(X).reshape(100,100) "
   ]
  },
  {
   "cell_type": "code",
   "execution_count": 29,
   "id": "da72499a",
   "metadata": {
    "execution": {
     "iopub.execute_input": "2022-06-01T10:19:10.638861Z",
     "iopub.status.busy": "2022-06-01T10:19:10.638235Z",
     "iopub.status.idle": "2022-06-01T10:19:10.886692Z",
     "shell.execute_reply": "2022-06-01T10:19:10.887161Z"
    },
    "papermill": {
     "duration": 0.302447,
     "end_time": "2022-06-01T10:19:10.887310",
     "exception": false,
     "start_time": "2022-06-01T10:19:10.584863",
     "status": "completed"
    },
    "tags": []
   },
   "outputs": [
    {
     "data": {
      "image/png": "[encoded data removed]",
      "text/plain": [
       "<Figure size 720x648 with 1 Axes>"
      ]
     },
     "metadata": {
      "needs_background": "light"
     },
     "output_type": "display_data"
    }
   ],
   "source": [
    "plt.figure(figsize=(10,9))\n",
    "plt.scatter(testing_plot[:,0], testing_plot[:,1], alpha = 0.1, c = y_test.ravel())\n",
    "contours = plt.contour(x_grid,y_grid,prob_contour)\n",
    "plt.title('Probability Contours')\n",
    "plt.clabel(contours, inline = True );"
   ]
  },
  {
   "cell_type": "code",
   "execution_count": null,
   "id": "e81b4ac7",
   "metadata": {
    "papermill": {
     "duration": 0.04841,
     "end_time": "2022-06-01T10:19:10.984257",
     "exception": false,
     "start_time": "2022-06-01T10:19:10.935847",
     "status": "completed"
    },
    "tags": []
   },
   "outputs": [],
   "source": []
  }
 ],
 "metadata": {
  "kernelspec": {
   "display_name": "Python 3",
   "language": "python",
   "name": "python3"
  },
  "language_info": {
   "codemirror_mode": {
    "name": "ipython",
    "version": 3
   },
   "file_extension": ".py",
   "mimetype": "text/x-python",
   "name": "python",
   "nbconvert_exporter": "python",
   "pygments_lexer": "ipython3",
   "version": "3.6.15"
  },
  "papermill": {
   "default_parameters": {},
   "duration": 114.083289,
   "end_time": "2022-06-01T10:19:11.554565",
   "environment_variables": {},
   "exception": null,
   "input_path": "2020-08-11-part2.ipynb",
   "output_path": "2020-08-11-part2.ipynb",
   "parameters": {},
   "start_time": "2022-06-01T10:17:17.471276",
   "version": "2.3.3"
  }
 },
 "nbformat": 4,
 "nbformat_minor": 5
}