{
 "cells": [
  {
   "cell_type": "markdown",
   "id": "98380cd3",
   "metadata": {
    "papermill": {
     "duration": 0.038321,
     "end_time": "2022-03-21T00:32:46.571878",
     "exception": false,
     "start_time": "2022-03-21T00:32:46.533557",
     "status": "completed"
    },
    "tags": []
   },
   "source": [
    "# Distinguish Your Own Digits (DYOD)"
   ]
  },
  {
   "cell_type": "markdown",
   "id": "ef31240d",
   "metadata": {
    "papermill": {
     "duration": 0.036086,
     "end_time": "2022-03-21T00:32:46.646633",
     "exception": false,
     "start_time": "2022-03-21T00:32:46.610547",
     "status": "completed"
    },
    "tags": []
   },
   "source": [
    "You are going to write a classifier that distinguishes between the number 3 and number 8."
   ]
  },
  {
   "cell_type": "code",
   "execution_count": 1,
   "id": "b15c8646",
   "metadata": {
    "execution": {
     "iopub.execute_input": "2022-03-21T00:32:46.728599Z",
     "iopub.status.busy": "2022-03-21T00:32:46.727893Z",
     "iopub.status.idle": "2022-03-21T00:32:46.739881Z",
     "shell.execute_reply": "2022-03-21T00:32:46.739252Z"
    },
    "papermill": {
     "duration": 0.059486,
     "end_time": "2022-03-21T00:32:46.740045",
     "exception": false,
     "start_time": "2022-03-21T00:32:46.680559",
     "status": "completed"
    },
    "tags": []
   },
   "outputs": [],
   "source": [
    "%load_ext autoreload\n",
    "%autoreload 2"
   ]
  },
  {
   "cell_type": "code",
   "execution_count": 2,
   "id": "22ef38dc",
   "metadata": {
    "execution": {
     "iopub.execute_input": "2022-03-21T00:32:46.819245Z",
     "iopub.status.busy": "2022-03-21T00:32:46.818557Z",
     "iopub.status.idle": "2022-03-21T00:32:47.651222Z",
     "shell.execute_reply": "2022-03-21T00:32:47.650635Z"
    },
    "papermill": {
     "duration": 0.874784,
     "end_time": "2022-03-21T00:32:47.651370",
     "exception": false,
     "start_time": "2022-03-21T00:32:46.776586",
     "status": "completed"
    },
    "tags": []
   },
   "outputs": [],
   "source": [
    "%matplotlib inline\n",
    "import numpy as np\n",
    "import matplotlib.pyplot as plt\n",
    "import pandas as pd"
   ]
  },
  {
   "cell_type": "markdown",
   "id": "ba036198",
   "metadata": {
    "papermill": {
     "duration": 0.037383,
     "end_time": "2022-03-21T00:32:47.734868",
     "exception": false,
     "start_time": "2022-03-21T00:32:47.697485",
     "status": "completed"
    },
    "tags": []
   },
   "source": [
    "From the command line run `pip install mnist`. This is a library that will help you bring down the mnist dataset. If you run this from a notebook, you need to put  `!pip install mnist` in a cell by itself."
   ]
  },
  {
   "cell_type": "code",
   "execution_count": 3,
   "id": "bb6ad8a1",
   "metadata": {
    "execution": {
     "iopub.execute_input": "2022-03-21T00:32:47.831998Z",
     "iopub.status.busy": "2022-03-21T00:32:47.831105Z",
     "iopub.status.idle": "2022-03-21T00:32:51.129317Z",
     "shell.execute_reply": "2022-03-21T00:32:51.128326Z"
    },
    "papermill": {
     "duration": 3.352419,
     "end_time": "2022-03-21T00:32:51.129467",
     "exception": false,
     "start_time": "2022-03-21T00:32:47.777048",
     "status": "completed"
    },
    "tags": []
   },
   "outputs": [
    {
     "name": "stdout",
     "output_type": "stream",
     "text": [
      "Collecting mnist\r\n"
     ]
    },
    {
     "name": "stdout",
     "output_type": "stream",
     "text": [
      "  Downloading mnist-0.2.2-py2.py3-none-any.whl (3.5 kB)\r\n",
      "Requirement already satisfied: numpy in /opt/hostedtoolcache/Python/3.6.15/x64/lib/python3.6/site-packages (from mnist) (1.19.5)\r\n"
     ]
    },
    {
     "name": "stdout",
     "output_type": "stream",
     "text": [
      "Installing collected packages: mnist\r\n"
     ]
    },
    {
     "name": "stdout",
     "output_type": "stream",
     "text": [
      "Successfully installed mnist-0.2.2\r\n"
     ]
    }
   ],
   "source": [
    "!pip install mnist"
   ]
  },
  {
   "cell_type": "markdown",
   "id": "69df9c9a",
   "metadata": {
    "papermill": {
     "duration": 0.043143,
     "end_time": "2022-03-21T00:32:51.212336",
     "exception": false,
     "start_time": "2022-03-21T00:32:51.169193",
     "status": "completed"
    },
    "tags": []
   },
   "source": [
    "## Preparing the Data"
   ]
  },
  {
   "cell_type": "code",
   "execution_count": 4,
   "id": "7f69d806",
   "metadata": {
    "execution": {
     "iopub.execute_input": "2022-03-21T00:32:51.300627Z",
     "iopub.status.busy": "2022-03-21T00:32:51.299703Z",
     "iopub.status.idle": "2022-03-21T00:32:51.318457Z",
     "shell.execute_reply": "2022-03-21T00:32:51.319125Z"
    },
    "papermill": {
     "duration": 0.061362,
     "end_time": "2022-03-21T00:32:51.319290",
     "exception": false,
     "start_time": "2022-03-21T00:32:51.257928",
     "status": "completed"
    },
    "tags": []
   },
   "outputs": [],
   "source": [
    "import mnist"
   ]
  },
  {
   "cell_type": "code",
   "execution_count": 5,
   "id": "a411e44f",
   "metadata": {
    "execution": {
     "iopub.execute_input": "2022-03-21T00:32:51.403795Z",
     "iopub.status.busy": "2022-03-21T00:32:51.402834Z",
     "iopub.status.idle": "2022-03-21T00:32:52.097312Z",
     "shell.execute_reply": "2022-03-21T00:32:52.096688Z"
    },
    "papermill": {
     "duration": 0.739735,
     "end_time": "2022-03-21T00:32:52.097461",
     "exception": false,
     "start_time": "2022-03-21T00:32:51.357726",
     "status": "completed"
    },
    "tags": []
   },
   "outputs": [],
   "source": [
    "train_images = mnist.train_images()\n",
    "train_labels = mnist.train_labels()"
   ]
  },
  {
   "cell_type": "code",
   "execution_count": 6,
   "id": "dceab3a5",
   "metadata": {
    "execution": {
     "iopub.execute_input": "2022-03-21T00:32:52.180002Z",
     "iopub.status.busy": "2022-03-21T00:32:52.179141Z",
     "iopub.status.idle": "2022-03-21T00:32:52.200303Z",
     "shell.execute_reply": "2022-03-21T00:32:52.200952Z"
    },
    "papermill": {
     "duration": 0.060869,
     "end_time": "2022-03-21T00:32:52.201118",
     "exception": false,
     "start_time": "2022-03-21T00:32:52.140249",
     "status": "completed"
    },
    "tags": []
   },
   "outputs": [
    {
     "data": {
      "text/plain": [
       "((60000, 28, 28), (60000,))"
      ]
     },
     "execution_count": 6,
     "metadata": {},
     "output_type": "execute_result"
    }
   ],
   "source": [
    "train_images.shape, train_labels.shape"
   ]
  },
  {
   "cell_type": "code",
   "execution_count": 7,
   "id": "f50dc2bb",
   "metadata": {
    "execution": {
     "iopub.execute_input": "2022-03-21T00:32:52.283816Z",
     "iopub.status.busy": "2022-03-21T00:32:52.283118Z",
     "iopub.status.idle": "2022-03-21T00:32:52.426296Z",
     "shell.execute_reply": "2022-03-21T00:32:52.425700Z"
    },
    "papermill": {
     "duration": 0.184153,
     "end_time": "2022-03-21T00:32:52.426448",
     "exception": false,
     "start_time": "2022-03-21T00:32:52.242295",
     "status": "completed"
    },
    "tags": []
   },
   "outputs": [],
   "source": [
    "test_images = mnist.test_images()\n",
    "test_labels = mnist.test_labels()"
   ]
  },
  {
   "cell_type": "code",
   "execution_count": 8,
   "id": "fc38cf1b",
   "metadata": {
    "execution": {
     "iopub.execute_input": "2022-03-21T00:32:52.525883Z",
     "iopub.status.busy": "2022-03-21T00:32:52.525209Z",
     "iopub.status.idle": "2022-03-21T00:32:52.542998Z",
     "shell.execute_reply": "2022-03-21T00:32:52.542408Z"
    },
    "papermill": {
     "duration": 0.066759,
     "end_time": "2022-03-21T00:32:52.543139",
     "exception": false,
     "start_time": "2022-03-21T00:32:52.476380",
     "status": "completed"
    },
    "tags": []
   },
   "outputs": [
    {
     "data": {
      "text/plain": [
       "((10000, 28, 28), (10000,))"
      ]
     },
     "execution_count": 8,
     "metadata": {},
     "output_type": "execute_result"
    }
   ],
   "source": [
    "test_images.shape, test_labels.shape"
   ]
  },
  {
   "cell_type": "code",
   "execution_count": 9,
   "id": "f9ed8fe0",
   "metadata": {
    "execution": {
     "iopub.execute_input": "2022-03-21T00:32:52.630081Z",
     "iopub.status.busy": "2022-03-21T00:32:52.629414Z",
     "iopub.status.idle": "2022-03-21T00:32:52.840386Z",
     "shell.execute_reply": "2022-03-21T00:32:52.839831Z"
    },
    "papermill": {
     "duration": 0.258488,
     "end_time": "2022-03-21T00:32:52.840534",
     "exception": false,
     "start_time": "2022-03-21T00:32:52.582046",
     "status": "completed"
    },
    "tags": []
   },
   "outputs": [
    {
     "name": "stdout",
     "output_type": "stream",
     "text": [
      "2\n"
     ]
    },
    {
     "data": {
      "text/plain": [
       "<matplotlib.image.AxesImage at 0x7fd4e6c6f5f8>"
      ]
     },
     "execution_count": 9,
     "metadata": {},
     "output_type": "execute_result"
    },
    {
     "data": {
      "image/png": "[encoded data removed]",
      "text/plain": [
       "<Figure size 432x288 with 1 Axes>"
      ]
     },
     "metadata": {
      "needs_background": "light"
     },
     "output_type": "display_data"
    }
   ],
   "source": [
    "image_index = 7776 # You may select anything up to 60,000\n",
    "print(train_labels[image_index]) \n",
    "plt.imshow(train_images[image_index], cmap='Greys')"
   ]
  },
  {
   "cell_type": "markdown",
   "id": "a8d2388d",
   "metadata": {
    "papermill": {
     "duration": 0.037065,
     "end_time": "2022-03-21T00:32:52.923349",
     "exception": false,
     "start_time": "2022-03-21T00:32:52.886284",
     "status": "completed"
    },
    "tags": []
   },
   "source": [
    "## Filter data to get 3 and 8 out"
   ]
  },
  {
   "cell_type": "code",
   "execution_count": 10,
   "id": "776f7fc7",
   "metadata": {
    "execution": {
     "iopub.execute_input": "2022-03-21T00:32:53.006276Z",
     "iopub.status.busy": "2022-03-21T00:32:53.005577Z",
     "iopub.status.idle": "2022-03-21T00:32:53.025347Z",
     "shell.execute_reply": "2022-03-21T00:32:53.024690Z"
    },
    "papermill": {
     "duration": 0.063871,
     "end_time": "2022-03-21T00:32:53.025647",
     "exception": false,
     "start_time": "2022-03-21T00:32:52.961776",
     "status": "completed"
    },
    "tags": []
   },
   "outputs": [],
   "source": [
    "train_filter = np.where((train_labels == 3 ) | (train_labels == 8))\n",
    "test_filter = np.where((test_labels == 3) | (test_labels == 8))\n",
    "X_train, y_train = train_images[train_filter], train_labels[train_filter]\n",
    "X_test, y_test = test_images[test_filter], test_labels[test_filter]"
   ]
  },
  {
   "cell_type": "markdown",
   "id": "948f0b7e",
   "metadata": {
    "papermill": {
     "duration": 0.049077,
     "end_time": "2022-03-21T00:32:53.123344",
     "exception": false,
     "start_time": "2022-03-21T00:32:53.074267",
     "status": "completed"
    },
    "tags": []
   },
   "source": [
    "We normalize the pizel values in the 0 to 1 range"
   ]
  },
  {
   "cell_type": "code",
   "execution_count": 11,
   "id": "ee4c2166",
   "metadata": {
    "execution": {
     "iopub.execute_input": "2022-03-21T00:32:53.219319Z",
     "iopub.status.busy": "2022-03-21T00:32:53.218637Z",
     "iopub.status.idle": "2022-03-21T00:32:53.288205Z",
     "shell.execute_reply": "2022-03-21T00:32:53.287527Z"
    },
    "papermill": {
     "duration": 0.124459,
     "end_time": "2022-03-21T00:32:53.288359",
     "exception": false,
     "start_time": "2022-03-21T00:32:53.163900",
     "status": "completed"
    },
    "tags": []
   },
   "outputs": [],
   "source": [
    "X_train = X_train/255.\n",
    "X_test = X_test/255."
   ]
  },
  {
   "cell_type": "markdown",
   "id": "ddcf4fab",
   "metadata": {
    "papermill": {
     "duration": 0.046529,
     "end_time": "2022-03-21T00:32:53.389511",
     "exception": false,
     "start_time": "2022-03-21T00:32:53.342982",
     "status": "completed"
    },
    "tags": []
   },
   "source": [
    "And setup the labels as 1 (when the digit is 3) and 0 (when the digit is 8)"
   ]
  },
  {
   "cell_type": "code",
   "execution_count": 12,
   "id": "7dc908f2",
   "metadata": {
    "execution": {
     "iopub.execute_input": "2022-03-21T00:32:53.499009Z",
     "iopub.status.busy": "2022-03-21T00:32:53.496622Z",
     "iopub.status.idle": "2022-03-21T00:32:53.519689Z",
     "shell.execute_reply": "2022-03-21T00:32:53.520326Z"
    },
    "papermill": {
     "duration": 0.081566,
     "end_time": "2022-03-21T00:32:53.520501",
     "exception": false,
     "start_time": "2022-03-21T00:32:53.438935",
     "status": "completed"
    },
    "tags": []
   },
   "outputs": [],
   "source": [
    "y_train = 1*(y_train==3)\n",
    "y_test = 1*(y_test==3)"
   ]
  },
  {
   "cell_type": "code",
   "execution_count": 13,
   "id": "01e4e969",
   "metadata": {
    "execution": {
     "iopub.execute_input": "2022-03-21T00:32:53.605445Z",
     "iopub.status.busy": "2022-03-21T00:32:53.604472Z",
     "iopub.status.idle": "2022-03-21T00:32:53.631525Z",
     "shell.execute_reply": "2022-03-21T00:32:53.630975Z"
    },
    "papermill": {
     "duration": 0.069318,
     "end_time": "2022-03-21T00:32:53.631671",
     "exception": false,
     "start_time": "2022-03-21T00:32:53.562353",
     "status": "completed"
    },
    "tags": []
   },
   "outputs": [
    {
     "data": {
      "text/plain": [
       "((11982, 28, 28), (1984, 28, 28))"
      ]
     },
     "execution_count": 13,
     "metadata": {},
     "output_type": "execute_result"
    }
   ],
   "source": [
    "X_train.shape, X_test.shape"
   ]
  },
  {
   "cell_type": "markdown",
   "id": "5ccf3f85",
   "metadata": {
    "papermill": {
     "duration": 0.049737,
     "end_time": "2022-03-21T00:32:53.725000",
     "exception": false,
     "start_time": "2022-03-21T00:32:53.675263",
     "status": "completed"
    },
    "tags": []
   },
   "source": [
    "We reshape the data to flatten the image pixels into a set of features or co-variates:"
   ]
  },
  {
   "cell_type": "code",
   "execution_count": 14,
   "id": "5286a4a3",
   "metadata": {
    "execution": {
     "iopub.execute_input": "2022-03-21T00:32:53.814952Z",
     "iopub.status.busy": "2022-03-21T00:32:53.814137Z",
     "iopub.status.idle": "2022-03-21T00:32:53.834748Z",
     "shell.execute_reply": "2022-03-21T00:32:53.833962Z"
    },
    "papermill": {
     "duration": 0.07043,
     "end_time": "2022-03-21T00:32:53.834892",
     "exception": false,
     "start_time": "2022-03-21T00:32:53.764462",
     "status": "completed"
    },
    "tags": []
   },
   "outputs": [
    {
     "data": {
      "text/plain": [
       "((11982, 784), (1984, 784))"
      ]
     },
     "execution_count": 14,
     "metadata": {},
     "output_type": "execute_result"
    }
   ],
   "source": [
    "X_train = X_train.reshape(X_train.shape[0], -1)\n",
    "X_test = X_test.reshape(X_test.shape[0], -1)\n",
    "X_train.shape, X_test.shape"
   ]
  },
  {
   "cell_type": "code",
   "execution_count": 15,
   "id": "73c5f88a",
   "metadata": {
    "execution": {
     "iopub.execute_input": "2022-03-21T00:32:53.917455Z",
     "iopub.status.busy": "2022-03-21T00:32:53.916674Z",
     "iopub.status.idle": "2022-03-21T00:32:53.950617Z",
     "shell.execute_reply": "2022-03-21T00:32:53.951151Z"
    },
    "papermill": {
     "duration": 0.076117,
     "end_time": "2022-03-21T00:32:53.951377",
     "exception": false,
     "start_time": "2022-03-21T00:32:53.875260",
     "status": "completed"
    },
    "tags": []
   },
   "outputs": [],
   "source": [
    "#Impoting functions from 'Kudzu'\n",
    "from kudzu.model import Model\n",
    "from kudzu.train import Learner\n",
    "from kudzu.optim import GD\n",
    "from kudzu.data import Data, Sampler,Dataloader\n",
    "\n",
    "from kudzu.callbacks import AccCallback\n",
    "from kudzu.callbacks import ClfCallback\n",
    "\n",
    "from kudzu.loss import MSE\n",
    "\n",
    "from kudzu.layer import Sigmoid,Relu\n",
    "from kudzu.layer import Affine"
   ]
  },
  {
   "cell_type": "markdown",
   "id": "bc01172a",
   "metadata": {
    "papermill": {
     "duration": 0.043335,
     "end_time": "2022-03-21T00:32:54.040073",
     "exception": false,
     "start_time": "2022-03-21T00:32:53.996738",
     "status": "completed"
    },
    "tags": []
   },
   "source": [
    "### Let us create a `Config` class, to store important parameters. \n",
    "This class essentially plays the role of a dictionary."
   ]
  },
  {
   "cell_type": "code",
   "execution_count": 16,
   "id": "978281aa",
   "metadata": {
    "execution": {
     "iopub.execute_input": "2022-03-21T00:32:54.137626Z",
     "iopub.status.busy": "2022-03-21T00:32:54.136854Z",
     "iopub.status.idle": "2022-03-21T00:32:54.152017Z",
     "shell.execute_reply": "2022-03-21T00:32:54.151232Z"
    },
    "papermill": {
     "duration": 0.06482,
     "end_time": "2022-03-21T00:32:54.152157",
     "exception": false,
     "start_time": "2022-03-21T00:32:54.087337",
     "status": "completed"
    },
    "tags": []
   },
   "outputs": [],
   "source": [
    "class Config:\n",
    "    pass\n",
    "config = Config()\n",
    "config.lr = 0.001\n",
    "config.num_epochs = 250\n",
    "config.bs = 50"
   ]
  },
  {
   "cell_type": "markdown",
   "id": "1385fa59",
   "metadata": {
    "papermill": {
     "duration": 0.043577,
     "end_time": "2022-03-21T00:32:54.239193",
     "exception": false,
     "start_time": "2022-03-21T00:32:54.195616",
     "status": "completed"
    },
    "tags": []
   },
   "source": [
    "### Running Models with the Training data\n",
    "Details about the network layers:\n",
    "- A first affine layer has 784 inputs and does 100 affine transforms. These are followed by a Relu\n",
    "- A second affine layer has 100 inputs from the 100 activations of the past layer, and does 100 affine transforms. These are followed by a Relu\n",
    "- A third affine layer has 100 activations and does 2 affine transformations to create an embedding for visualization. There is no non-linearity here.\n",
    "- A final \"logistic regression\" which has an affine transform from 2 inputs to 1 output, which is squeezed through a sigmoid.\n"
   ]
  },
  {
   "cell_type": "code",
   "execution_count": 17,
   "id": "2b9c66db",
   "metadata": {
    "execution": {
     "iopub.execute_input": "2022-03-21T00:32:54.325054Z",
     "iopub.status.busy": "2022-03-21T00:32:54.324374Z",
     "iopub.status.idle": "2022-03-21T00:32:54.340194Z",
     "shell.execute_reply": "2022-03-21T00:32:54.340726Z"
    },
    "papermill": {
     "duration": 0.063899,
     "end_time": "2022-03-21T00:32:54.340891",
     "exception": false,
     "start_time": "2022-03-21T00:32:54.276992",
     "status": "completed"
    },
    "tags": []
   },
   "outputs": [],
   "source": [
    "data = Data(X_train, y_train.reshape(-1,1))\n",
    "sampler = Sampler(data, config.bs, shuffle=True)\n",
    "\n",
    "dl = Dataloader(data, sampler)\n",
    "\n",
    "opt = GD(config.lr)\n",
    "loss = MSE()"
   ]
  },
  {
   "cell_type": "code",
   "execution_count": 18,
   "id": "b275e4c2",
   "metadata": {
    "execution": {
     "iopub.execute_input": "2022-03-21T00:32:54.416869Z",
     "iopub.status.busy": "2022-03-21T00:32:54.416197Z",
     "iopub.status.idle": "2022-03-21T00:32:54.433780Z",
     "shell.execute_reply": "2022-03-21T00:32:54.434354Z"
    },
    "papermill": {
     "duration": 0.057856,
     "end_time": "2022-03-21T00:32:54.434528",
     "exception": false,
     "start_time": "2022-03-21T00:32:54.376672",
     "status": "completed"
    },
    "tags": []
   },
   "outputs": [],
   "source": [
    "training_data_x = X_train\n",
    "testing_data_x = X_test\n",
    "training_data_y = y_train.reshape(-1,1)\n",
    "testing_data_y = y_test.reshape(-1,1)"
   ]
  },
  {
   "cell_type": "code",
   "execution_count": 19,
   "id": "76951160",
   "metadata": {
    "execution": {
     "iopub.execute_input": "2022-03-21T00:32:54.511751Z",
     "iopub.status.busy": "2022-03-21T00:32:54.510630Z",
     "iopub.status.idle": "2022-03-21T00:32:54.532846Z",
     "shell.execute_reply": "2022-03-21T00:32:54.533848Z"
    },
    "papermill": {
     "duration": 0.064066,
     "end_time": "2022-03-21T00:32:54.534021",
     "exception": false,
     "start_time": "2022-03-21T00:32:54.469955",
     "status": "completed"
    },
    "tags": []
   },
   "outputs": [
    {
     "name": "stdout",
     "output_type": "stream",
     "text": [
      "xavier\n",
      "xavier\n",
      "xavier\n",
      "xavier\n",
      "xavier\n"
     ]
    }
   ],
   "source": [
    "layers = [Affine(\"first\", 784, 100), Relu(\"first\"), Affine(\"second\", 100, 100), Relu(\"second\"), Affine(\"third\", 100, 2), Affine(\"last\", 2, 1), Sigmoid(\"last\")]\n",
    "model_nn = Model(layers)\n",
    "model_lr = Model([Affine(\"logits\", 784, 1), Sigmoid(\"sigmoid\")])"
   ]
  },
  {
   "cell_type": "code",
   "execution_count": 20,
   "id": "6eede77a",
   "metadata": {
    "execution": {
     "iopub.execute_input": "2022-03-21T00:32:54.630037Z",
     "iopub.status.busy": "2022-03-21T00:32:54.629245Z",
     "iopub.status.idle": "2022-03-21T00:32:54.645737Z",
     "shell.execute_reply": "2022-03-21T00:32:54.646348Z"
    },
    "papermill": {
     "duration": 0.065455,
     "end_time": "2022-03-21T00:32:54.646524",
     "exception": false,
     "start_time": "2022-03-21T00:32:54.581069",
     "status": "completed"
    },
    "tags": []
   },
   "outputs": [],
   "source": [
    "nn_learner = Learner(loss, model_nn, opt, config.num_epochs)\n",
    "acc_nn = ClfCallback(nn_learner, config.bs, training_data_x , testing_data_x, training_data_y, testing_data_y)\n",
    "nn_learner.set_callbacks([acc_nn])"
   ]
  },
  {
   "cell_type": "code",
   "execution_count": 21,
   "id": "877b6cc7",
   "metadata": {
    "execution": {
     "iopub.execute_input": "2022-03-21T00:32:54.735448Z",
     "iopub.status.busy": "2022-03-21T00:32:54.734676Z",
     "iopub.status.idle": "2022-03-21T00:32:54.751559Z",
     "shell.execute_reply": "2022-03-21T00:32:54.750834Z"
    },
    "papermill": {
     "duration": 0.062813,
     "end_time": "2022-03-21T00:32:54.751875",
     "exception": false,
     "start_time": "2022-03-21T00:32:54.689062",
     "status": "completed"
    },
    "tags": []
   },
   "outputs": [],
   "source": [
    "lr_learner = Learner(loss, model_lr, opt, config.num_epochs)\n",
    "acc_lr = ClfCallback(lr_learner, config.bs, training_data_x , testing_data_x, training_data_y, testing_data_y)\n",
    "lr_learner.set_callbacks([acc_lr])"
   ]
  },
  {
   "cell_type": "code",
   "execution_count": 22,
   "id": "d9b133c3",
   "metadata": {
    "execution": {
     "iopub.execute_input": "2022-03-21T00:32:54.841160Z",
     "iopub.status.busy": "2022-03-21T00:32:54.840454Z",
     "iopub.status.idle": "2022-03-21T00:35:27.596271Z",
     "shell.execute_reply": "2022-03-21T00:35:27.597158Z"
    },
    "papermill": {
     "duration": 152.802716,
     "end_time": "2022-03-21T00:35:27.597328",
     "exception": false,
     "start_time": "2022-03-21T00:32:54.794612",
     "status": "completed"
    },
    "tags": []
   },
   "outputs": [
    {
     "name": "stdout",
     "output_type": "stream",
     "text": [
      "Epoch 0, Loss 0.2433\n",
      "Training Accuracy: 0.6193, Testing Accuracy: 0.6462\n",
      "\n"
     ]
    },
    {
     "name": "stdout",
     "output_type": "stream",
     "text": [
      "Epoch 10, Loss 0.102\n",
      "Training Accuracy: 0.9200, Testing Accuracy: 0.9239\n",
      "\n"
     ]
    },
    {
     "name": "stdout",
     "output_type": "stream",
     "text": [
      "Epoch 20, Loss 0.0595\n",
      "Training Accuracy: 0.9400, Testing Accuracy: 0.9526\n",
      "\n"
     ]
    },
    {
     "name": "stdout",
     "output_type": "stream",
     "text": [
      "Epoch 30, Loss 0.046\n",
      "Training Accuracy: 0.9498, Testing Accuracy: 0.9607\n",
      "\n"
     ]
    },
    {
     "name": "stdout",
     "output_type": "stream",
     "text": [
      "Epoch 40, Loss 0.0397\n",
      "Training Accuracy: 0.9544, Testing Accuracy: 0.9657\n",
      "\n"
     ]
    },
    {
     "name": "stdout",
     "output_type": "stream",
     "text": [
      "Epoch 50, Loss 0.0359\n",
      "Training Accuracy: 0.9587, Testing Accuracy: 0.9662\n",
      "\n"
     ]
    },
    {
     "name": "stdout",
     "output_type": "stream",
     "text": [
      "Epoch 60, Loss 0.0334\n",
      "Training Accuracy: 0.9613, Testing Accuracy: 0.9682\n",
      "\n"
     ]
    },
    {
     "name": "stdout",
     "output_type": "stream",
     "text": [
      "Epoch 70, Loss 0.0315\n",
      "Training Accuracy: 0.9629, Testing Accuracy: 0.9708\n",
      "\n"
     ]
    },
    {
     "name": "stdout",
     "output_type": "stream",
     "text": [
      "Epoch 80, Loss 0.03\n",
      "Training Accuracy: 0.9644, Testing Accuracy: 0.9703\n",
      "\n"
     ]
    },
    {
     "name": "stdout",
     "output_type": "stream",
     "text": [
      "Epoch 90, Loss 0.0287\n",
      "Training Accuracy: 0.9668, Testing Accuracy: 0.9703\n",
      "\n"
     ]
    },
    {
     "name": "stdout",
     "output_type": "stream",
     "text": [
      "Epoch 100, Loss 0.0277\n",
      "Training Accuracy: 0.9678, Testing Accuracy: 0.9693\n",
      "\n"
     ]
    },
    {
     "name": "stdout",
     "output_type": "stream",
     "text": [
      "Epoch 110, Loss 0.0267\n",
      "Training Accuracy: 0.9691, Testing Accuracy: 0.9703\n",
      "\n"
     ]
    },
    {
     "name": "stdout",
     "output_type": "stream",
     "text": [
      "Epoch 120, Loss 0.0259\n",
      "Training Accuracy: 0.9701, Testing Accuracy: 0.9708\n",
      "\n"
     ]
    },
    {
     "name": "stdout",
     "output_type": "stream",
     "text": [
      "Epoch 130, Loss 0.0252\n",
      "Training Accuracy: 0.9713, Testing Accuracy: 0.9713\n",
      "\n"
     ]
    },
    {
     "name": "stdout",
     "output_type": "stream",
     "text": [
      "Epoch 140, Loss 0.0245\n",
      "Training Accuracy: 0.9719, Testing Accuracy: 0.9713\n",
      "\n"
     ]
    },
    {
     "name": "stdout",
     "output_type": "stream",
     "text": [
      "Epoch 150, Loss 0.0239\n",
      "Training Accuracy: 0.9727, Testing Accuracy: 0.9703\n",
      "\n"
     ]
    },
    {
     "name": "stdout",
     "output_type": "stream",
     "text": [
      "Epoch 160, Loss 0.0233\n",
      "Training Accuracy: 0.9735, Testing Accuracy: 0.9708\n",
      "\n"
     ]
    },
    {
     "name": "stdout",
     "output_type": "stream",
     "text": [
      "Epoch 170, Loss 0.0228\n",
      "Training Accuracy: 0.9738, Testing Accuracy: 0.9703\n",
      "\n"
     ]
    },
    {
     "name": "stdout",
     "output_type": "stream",
     "text": [
      "Epoch 180, Loss 0.0223\n",
      "Training Accuracy: 0.9745, Testing Accuracy: 0.9713\n",
      "\n"
     ]
    },
    {
     "name": "stdout",
     "output_type": "stream",
     "text": [
      "Epoch 190, Loss 0.0218\n",
      "Training Accuracy: 0.9755, Testing Accuracy: 0.9718\n",
      "\n"
     ]
    },
    {
     "name": "stdout",
     "output_type": "stream",
     "text": [
      "Epoch 200, Loss 0.0213\n",
      "Training Accuracy: 0.9760, Testing Accuracy: 0.9723\n",
      "\n"
     ]
    },
    {
     "name": "stdout",
     "output_type": "stream",
     "text": [
      "Epoch 210, Loss 0.0209\n",
      "Training Accuracy: 0.9768, Testing Accuracy: 0.9728\n",
      "\n"
     ]
    },
    {
     "name": "stdout",
     "output_type": "stream",
     "text": [
      "Epoch 220, Loss 0.0205\n",
      "Training Accuracy: 0.9772, Testing Accuracy: 0.9723\n",
      "\n"
     ]
    },
    {
     "name": "stdout",
     "output_type": "stream",
     "text": [
      "Epoch 230, Loss 0.0201\n",
      "Training Accuracy: 0.9776, Testing Accuracy: 0.9728\n",
      "\n"
     ]
    },
    {
     "name": "stdout",
     "output_type": "stream",
     "text": [
      "Epoch 240, Loss 0.0197\n",
      "Training Accuracy: 0.9781, Testing Accuracy: 0.9738\n",
      "\n"
     ]
    },
    {
     "data": {
      "text/plain": [
       "0.03573906825085587"
      ]
     },
     "execution_count": 22,
     "metadata": {},
     "output_type": "execute_result"
    }
   ],
   "source": [
    "nn_learner.train_loop(dl)"
   ]
  },
  {
   "cell_type": "code",
   "execution_count": 23,
   "id": "e0163366",
   "metadata": {
    "execution": {
     "iopub.execute_input": "2022-03-21T00:35:27.713904Z",
     "iopub.status.busy": "2022-03-21T00:35:27.713222Z",
     "iopub.status.idle": "2022-03-21T00:35:49.941299Z",
     "shell.execute_reply": "2022-03-21T00:35:49.942186Z"
    },
    "papermill": {
     "duration": 22.296868,
     "end_time": "2022-03-21T00:35:49.942359",
     "exception": false,
     "start_time": "2022-03-21T00:35:27.645491",
     "status": "completed"
    },
    "tags": []
   },
   "outputs": [
    {
     "name": "stdout",
     "output_type": "stream",
     "text": [
      "Epoch 0, Loss 0.2384\n",
      "Training Accuracy: 0.7041, Testing Accuracy: 0.7182\n",
      "\n"
     ]
    },
    {
     "name": "stdout",
     "output_type": "stream",
     "text": [
      "Epoch 10, Loss 0.1019\n",
      "Training Accuracy: 0.9120, Testing Accuracy: 0.9264\n",
      "\n"
     ]
    },
    {
     "name": "stdout",
     "output_type": "stream",
     "text": [
      "Epoch 20, Loss 0.0784\n",
      "Training Accuracy: 0.9296, Testing Accuracy: 0.9451\n",
      "\n"
     ]
    },
    {
     "name": "stdout",
     "output_type": "stream",
     "text": [
      "Epoch 30, Loss 0.0678\n",
      "Training Accuracy: 0.9374, Testing Accuracy: 0.9516\n",
      "\n"
     ]
    },
    {
     "name": "stdout",
     "output_type": "stream",
     "text": [
      "Epoch 40, Loss 0.0614\n",
      "Training Accuracy: 0.9427, Testing Accuracy: 0.9567\n",
      "\n"
     ]
    },
    {
     "name": "stdout",
     "output_type": "stream",
     "text": [
      "Epoch 50, Loss 0.057\n",
      "Training Accuracy: 0.9463, Testing Accuracy: 0.9572\n",
      "\n"
     ]
    },
    {
     "name": "stdout",
     "output_type": "stream",
     "text": [
      "Epoch 60, Loss 0.0538\n",
      "Training Accuracy: 0.9473, Testing Accuracy: 0.9582\n",
      "\n"
     ]
    },
    {
     "name": "stdout",
     "output_type": "stream",
     "text": [
      "Epoch 70, Loss 0.0513\n",
      "Training Accuracy: 0.9502, Testing Accuracy: 0.9607\n",
      "\n"
     ]
    },
    {
     "name": "stdout",
     "output_type": "stream",
     "text": [
      "Epoch 80, Loss 0.0493\n",
      "Training Accuracy: 0.9520, Testing Accuracy: 0.9617\n",
      "\n"
     ]
    },
    {
     "name": "stdout",
     "output_type": "stream",
     "text": [
      "Epoch 90, Loss 0.0477\n",
      "Training Accuracy: 0.9533, Testing Accuracy: 0.9617\n",
      "\n"
     ]
    },
    {
     "name": "stdout",
     "output_type": "stream",
     "text": [
      "Epoch 100, Loss 0.0463\n",
      "Training Accuracy: 0.9540, Testing Accuracy: 0.9632\n",
      "\n"
     ]
    },
    {
     "name": "stdout",
     "output_type": "stream",
     "text": [
      "Epoch 110, Loss 0.045\n",
      "Training Accuracy: 0.9549, Testing Accuracy: 0.9627\n",
      "\n"
     ]
    },
    {
     "name": "stdout",
     "output_type": "stream",
     "text": [
      "Epoch 120, Loss 0.044\n",
      "Training Accuracy: 0.9553, Testing Accuracy: 0.9632\n",
      "\n"
     ]
    },
    {
     "name": "stdout",
     "output_type": "stream",
     "text": [
      "Epoch 130, Loss 0.0431\n",
      "Training Accuracy: 0.9567, Testing Accuracy: 0.9652\n",
      "\n"
     ]
    },
    {
     "name": "stdout",
     "output_type": "stream",
     "text": [
      "Epoch 140, Loss 0.0422\n",
      "Training Accuracy: 0.9577, Testing Accuracy: 0.9652\n",
      "\n"
     ]
    },
    {
     "name": "stdout",
     "output_type": "stream",
     "text": [
      "Epoch 150, Loss 0.0415\n",
      "Training Accuracy: 0.9584, Testing Accuracy: 0.9652\n",
      "\n"
     ]
    },
    {
     "name": "stdout",
     "output_type": "stream",
     "text": [
      "Epoch 160, Loss 0.0408\n",
      "Training Accuracy: 0.9585, Testing Accuracy: 0.9657\n",
      "\n"
     ]
    },
    {
     "name": "stdout",
     "output_type": "stream",
     "text": [
      "Epoch 170, Loss 0.0402\n",
      "Training Accuracy: 0.9589, Testing Accuracy: 0.9657\n",
      "\n"
     ]
    },
    {
     "name": "stdout",
     "output_type": "stream",
     "text": [
      "Epoch 180, Loss 0.0396\n",
      "Training Accuracy: 0.9594, Testing Accuracy: 0.9657\n",
      "\n"
     ]
    },
    {
     "name": "stdout",
     "output_type": "stream",
     "text": [
      "Epoch 190, Loss 0.0391\n",
      "Training Accuracy: 0.9599, Testing Accuracy: 0.9657\n",
      "\n"
     ]
    },
    {
     "name": "stdout",
     "output_type": "stream",
     "text": [
      "Epoch 200, Loss 0.0386\n",
      "Training Accuracy: 0.9602, Testing Accuracy: 0.9662\n",
      "\n"
     ]
    },
    {
     "name": "stdout",
     "output_type": "stream",
     "text": [
      "Epoch 210, Loss 0.0382\n",
      "Training Accuracy: 0.9605, Testing Accuracy: 0.9667\n",
      "\n"
     ]
    },
    {
     "name": "stdout",
     "output_type": "stream",
     "text": [
      "Epoch 220, Loss 0.0378\n",
      "Training Accuracy: 0.9608, Testing Accuracy: 0.9672\n",
      "\n"
     ]
    },
    {
     "name": "stdout",
     "output_type": "stream",
     "text": [
      "Epoch 230, Loss 0.0374\n",
      "Training Accuracy: 0.9609, Testing Accuracy: 0.9677\n",
      "\n"
     ]
    },
    {
     "name": "stdout",
     "output_type": "stream",
     "text": [
      "Epoch 240, Loss 0.037\n",
      "Training Accuracy: 0.9614, Testing Accuracy: 0.9672\n",
      "\n"
     ]
    },
    {
     "data": {
      "text/plain": [
       "0.006629068916724722"
      ]
     },
     "execution_count": 23,
     "metadata": {},
     "output_type": "execute_result"
    }
   ],
   "source": [
    "lr_learner.train_loop(dl)"
   ]
  },
  {
   "cell_type": "code",
   "execution_count": 24,
   "id": "ca410940",
   "metadata": {
    "execution": {
     "iopub.execute_input": "2022-03-21T00:35:50.058454Z",
     "iopub.status.busy": "2022-03-21T00:35:50.057756Z",
     "iopub.status.idle": "2022-03-21T00:35:50.410730Z",
     "shell.execute_reply": "2022-03-21T00:35:50.411514Z"
    },
    "papermill": {
     "duration": 0.414516,
     "end_time": "2022-03-21T00:35:50.411689",
     "exception": false,
     "start_time": "2022-03-21T00:35:49.997173",
     "status": "completed"
    },
    "tags": []
   },
   "outputs": [
    {
     "data": {
      "text/plain": [
       "<matplotlib.legend.Legend at 0x7fd4da0a1cc0>"
      ]
     },
     "execution_count": 24,
     "metadata": {},
     "output_type": "execute_result"
    },
    {
     "data": {
      "image/png": "[encoded data removed]",
      "text/plain": [
       "<Figure size 1080x720 with 1 Axes>"
      ]
     },
     "metadata": {
      "needs_background": "light"
     },
     "output_type": "display_data"
    }
   ],
   "source": [
    "#comparing the results of NN and LR\n",
    "plt.figure(figsize=(15,10))\n",
    "\n",
    "# Neural Network plots\n",
    "plt.plot(acc_nn.accuracies, 'r-', label = \"Training Accuracies - NN\")\n",
    "plt.plot(acc_nn.test_accuracies, 'g-', label = \"Testing Accuracies - NN\")\n",
    "\n",
    "# Logistic Regression plots\n",
    "plt.plot(acc_lr.accuracies, 'k-', label = \"Training Accuracies - LR\")\n",
    "plt.plot(acc_lr.test_accuracies, 'b-', label = \"Testing Accuracies - LR\")\n",
    "plt.legend()"
   ]
  },
  {
   "cell_type": "markdown",
   "id": "80dfb35c",
   "metadata": {
    "papermill": {
     "duration": 0.060128,
     "end_time": "2022-03-21T00:35:50.533474",
     "exception": false,
     "start_time": "2022-03-21T00:35:50.473346",
     "status": "completed"
    },
    "tags": []
   },
   "source": [
    "#### Plotting the outputs of this layer of the NN.\n"
   ]
  },
  {
   "cell_type": "code",
   "execution_count": 25,
   "id": "45eb2ff5",
   "metadata": {
    "execution": {
     "iopub.execute_input": "2022-03-21T00:35:50.680930Z",
     "iopub.status.busy": "2022-03-21T00:35:50.680232Z",
     "iopub.status.idle": "2022-03-21T00:35:50.713434Z",
     "shell.execute_reply": "2022-03-21T00:35:50.714080Z"
    },
    "papermill": {
     "duration": 0.11173,
     "end_time": "2022-03-21T00:35:50.714266",
     "exception": false,
     "start_time": "2022-03-21T00:35:50.602536",
     "status": "completed"
    },
    "tags": []
   },
   "outputs": [],
   "source": [
    "new_model = Model(layers[:-2])\n",
    "testing_plot = new_model(testing_data_x)"
   ]
  },
  {
   "cell_type": "code",
   "execution_count": 26,
   "id": "4c0a5485",
   "metadata": {
    "execution": {
     "iopub.execute_input": "2022-03-21T00:35:50.845597Z",
     "iopub.status.busy": "2022-03-21T00:35:50.844922Z",
     "iopub.status.idle": "2022-03-21T00:35:51.138475Z",
     "shell.execute_reply": "2022-03-21T00:35:51.137699Z"
    },
    "papermill": {
     "duration": 0.362293,
     "end_time": "2022-03-21T00:35:51.138850",
     "exception": false,
     "start_time": "2022-03-21T00:35:50.776557",
     "status": "completed"
    },
    "tags": []
   },
   "outputs": [
    {
     "data": {
      "text/plain": [
       "Text(0.5, 1.0, 'Outputs')"
      ]
     },
     "execution_count": 26,
     "metadata": {},
     "output_type": "execute_result"
    },
    {
     "data": {
      "image/png": "[encoded data removed]",
      "text/plain": [
       "<Figure size 576x504 with 1 Axes>"
      ]
     },
     "metadata": {
      "needs_background": "light"
     },
     "output_type": "display_data"
    }
   ],
   "source": [
    "# Plotting the scatter plot of points and color coding by class\n",
    "plt.figure(figsize=(8,7))\n",
    "plt.scatter(testing_plot[:,0], testing_plot[:,1], alpha = 0.1, c = y_test.ravel());\n",
    "plt.title('Outputs')"
   ]
  },
  {
   "cell_type": "markdown",
   "id": "a74fcf8f",
   "metadata": {
    "papermill": {
     "duration": 0.098716,
     "end_time": "2022-03-21T00:35:51.306295",
     "exception": false,
     "start_time": "2022-03-21T00:35:51.207579",
     "status": "completed"
    },
    "tags": []
   },
   "source": [
    "Probability contours"
   ]
  },
  {
   "cell_type": "code",
   "execution_count": 27,
   "id": "d0afc8e3",
   "metadata": {
    "execution": {
     "iopub.execute_input": "2022-03-21T00:35:51.439868Z",
     "iopub.status.busy": "2022-03-21T00:35:51.439164Z",
     "iopub.status.idle": "2022-03-21T00:35:51.457269Z",
     "shell.execute_reply": "2022-03-21T00:35:51.456643Z"
    },
    "papermill": {
     "duration": 0.088306,
     "end_time": "2022-03-21T00:35:51.457415",
     "exception": false,
     "start_time": "2022-03-21T00:35:51.369109",
     "status": "completed"
    },
    "tags": []
   },
   "outputs": [],
   "source": [
    "model_prob = Model(layers[-2:]) "
   ]
  },
  {
   "cell_type": "code",
   "execution_count": 28,
   "id": "9b96e238",
   "metadata": {
    "execution": {
     "iopub.execute_input": "2022-03-21T00:35:51.602821Z",
     "iopub.status.busy": "2022-03-21T00:35:51.602103Z",
     "iopub.status.idle": "2022-03-21T00:35:51.627073Z",
     "shell.execute_reply": "2022-03-21T00:35:51.629317Z"
    },
    "papermill": {
     "duration": 0.103807,
     "end_time": "2022-03-21T00:35:51.629496",
     "exception": false,
     "start_time": "2022-03-21T00:35:51.525689",
     "status": "completed"
    },
    "tags": []
   },
   "outputs": [],
   "source": [
    "#creating the x and y ranges according to the above generated plot.\n",
    "x_range = np.linspace(-4, 1, 100) \n",
    "y_range = np.linspace(-6, 6, 100) \n",
    "x_grid, y_grid = np.meshgrid(x_range, y_range) # x_grid and y_grig are of size 100 X 100\n",
    "\n",
    "# converting x_grid and y_grid to continuous arrays\n",
    "x_gridflat = np.ravel(x_grid)\n",
    "y_gridflat = np.ravel(y_grid)\n",
    "\n",
    "# The last layer of the current model takes two columns as input. Hence transpose of np.vstack() is required.\n",
    "X = np.vstack((x_gridflat, y_gridflat)).T\n",
    "\n",
    "prob_contour = model_prob(X).reshape(100,100) "
   ]
  },
  {
   "cell_type": "code",
   "execution_count": 29,
   "id": "da72499a",
   "metadata": {
    "execution": {
     "iopub.execute_input": "2022-03-21T00:35:51.772229Z",
     "iopub.status.busy": "2022-03-21T00:35:51.771172Z",
     "iopub.status.idle": "2022-03-21T00:35:52.210007Z",
     "shell.execute_reply": "2022-03-21T00:35:52.210546Z"
    },
    "papermill": {
     "duration": 0.508542,
     "end_time": "2022-03-21T00:35:52.210840",
     "exception": false,
     "start_time": "2022-03-21T00:35:51.702298",
     "status": "completed"
    },
    "tags": []
   },
   "outputs": [
    {
     "data": {
      "image/png": "[encoded data removed]",
      "text/plain": [
       "<Figure size 720x648 with 1 Axes>"
      ]
     },
     "metadata": {
      "needs_background": "light"
     },
     "output_type": "display_data"
    }
   ],
   "source": [
    "plt.figure(figsize=(10,9))\n",
    "plt.scatter(testing_plot[:,0], testing_plot[:,1], alpha = 0.1, c = y_test.ravel())\n",
    "contours = plt.contour(x_grid,y_grid,prob_contour)\n",
    "plt.title('Probability Contours')\n",
    "plt.clabel(contours, inline = True );"
   ]
  },
  {
   "cell_type": "code",
   "execution_count": null,
   "id": "e81b4ac7",
   "metadata": {
    "papermill": {
     "duration": 0.083769,
     "end_time": "2022-03-21T00:35:52.364656",
     "exception": false,
     "start_time": "2022-03-21T00:35:52.280887",
     "status": "completed"
    },
    "tags": []
   },
   "outputs": [],
   "source": []
  }
 ],
 "metadata": {
  "kernelspec": {
   "display_name": "Python 3",
   "language": "python",
   "name": "python3"
  },
  "language_info": {
   "codemirror_mode": {
    "name": "ipython",
    "version": 3
   },
   "file_extension": ".py",
   "mimetype": "text/x-python",
   "name": "python",
   "nbconvert_exporter": "python",
   "pygments_lexer": "ipython3",
   "version": "3.6.15"
  },
  "papermill": {
   "default_parameters": {},
   "duration": 187.720971,
   "end_time": "2022-03-21T00:35:52.973964",
   "environment_variables": {},
   "exception": null,
   "input_path": "2020-08-11-part2.ipynb",
   "output_path": "2020-08-11-part2.ipynb",
   "parameters": {},
   "start_time": "2022-03-21T00:32:45.252993",
   "version": "2.3.3"
  }
 },
 "nbformat": 4,
 "nbformat_minor": 5
}