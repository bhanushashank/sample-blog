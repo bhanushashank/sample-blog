{
 "cells": [
  {
   "cell_type": "markdown",
   "id": "98380cd3",
   "metadata": {
    "papermill": {
     "duration": 0.037194,
     "end_time": "2022-05-12T20:10:53.655636",
     "exception": false,
     "start_time": "2022-05-12T20:10:53.618442",
     "status": "completed"
    },
    "tags": []
   },
   "source": [
    "# Distinguish Your Own Digits (DYOD)"
   ]
  },
  {
   "cell_type": "markdown",
   "id": "ef31240d",
   "metadata": {
    "papermill": {
     "duration": 0.029998,
     "end_time": "2022-05-12T20:10:53.715375",
     "exception": false,
     "start_time": "2022-05-12T20:10:53.685377",
     "status": "completed"
    },
    "tags": []
   },
   "source": [
    "You are going to write a classifier that distinguishes between the number 3 and number 8."
   ]
  },
  {
   "cell_type": "code",
   "execution_count": 1,
   "id": "b15c8646",
   "metadata": {
    "execution": {
     "iopub.execute_input": "2022-05-12T20:10:53.788844Z",
     "iopub.status.busy": "2022-05-12T20:10:53.788155Z",
     "iopub.status.idle": "2022-05-12T20:10:53.805032Z",
     "shell.execute_reply": "2022-05-12T20:10:53.804481Z"
    },
    "papermill": {
     "duration": 0.05717,
     "end_time": "2022-05-12T20:10:53.805193",
     "exception": false,
     "start_time": "2022-05-12T20:10:53.748023",
     "status": "completed"
    },
    "tags": []
   },
   "outputs": [],
   "source": [
    "%load_ext autoreload\n",
    "%autoreload 2"
   ]
  },
  {
   "cell_type": "code",
   "execution_count": 2,
   "id": "22ef38dc",
   "metadata": {
    "execution": {
     "iopub.execute_input": "2022-05-12T20:10:53.870415Z",
     "iopub.status.busy": "2022-05-12T20:10:53.869785Z",
     "iopub.status.idle": "2022-05-12T20:10:54.563658Z",
     "shell.execute_reply": "2022-05-12T20:10:54.562426Z"
    },
    "papermill": {
     "duration": 0.729705,
     "end_time": "2022-05-12T20:10:54.563807",
     "exception": false,
     "start_time": "2022-05-12T20:10:53.834102",
     "status": "completed"
    },
    "tags": []
   },
   "outputs": [],
   "source": [
    "%matplotlib inline\n",
    "import numpy as np\n",
    "import matplotlib.pyplot as plt\n",
    "import pandas as pd"
   ]
  },
  {
   "cell_type": "markdown",
   "id": "ba036198",
   "metadata": {
    "papermill": {
     "duration": 0.027787,
     "end_time": "2022-05-12T20:10:54.619830",
     "exception": false,
     "start_time": "2022-05-12T20:10:54.592043",
     "status": "completed"
    },
    "tags": []
   },
   "source": [
    "From the command line run `pip install mnist`. This is a library that will help you bring down the mnist dataset. If you run this from a notebook, you need to put  `!pip install mnist` in a cell by itself."
   ]
  },
  {
   "cell_type": "code",
   "execution_count": 3,
   "id": "bb6ad8a1",
   "metadata": {
    "execution": {
     "iopub.execute_input": "2022-05-12T20:10:54.684134Z",
     "iopub.status.busy": "2022-05-12T20:10:54.680840Z",
     "iopub.status.idle": "2022-05-12T20:10:56.780939Z",
     "shell.execute_reply": "2022-05-12T20:10:56.779983Z"
    },
    "papermill": {
     "duration": 2.134049,
     "end_time": "2022-05-12T20:10:56.781084",
     "exception": false,
     "start_time": "2022-05-12T20:10:54.647035",
     "status": "completed"
    },
    "tags": []
   },
   "outputs": [
    {
     "name": "stdout",
     "output_type": "stream",
     "text": [
      "Collecting mnist\r\n"
     ]
    },
    {
     "name": "stdout",
     "output_type": "stream",
     "text": [
      "  Downloading mnist-0.2.2-py2.py3-none-any.whl (3.5 kB)\r\n",
      "Requirement already satisfied: numpy in /opt/hostedtoolcache/Python/3.6.15/x64/lib/python3.6/site-packages (from mnist) (1.19.5)\r\n"
     ]
    },
    {
     "name": "stdout",
     "output_type": "stream",
     "text": [
      "Installing collected packages: mnist\r\n"
     ]
    },
    {
     "name": "stdout",
     "output_type": "stream",
     "text": [
      "Successfully installed mnist-0.2.2\r\n"
     ]
    }
   ],
   "source": [
    "!pip install mnist"
   ]
  },
  {
   "cell_type": "markdown",
   "id": "69df9c9a",
   "metadata": {
    "papermill": {
     "duration": 0.032689,
     "end_time": "2022-05-12T20:10:56.852462",
     "exception": false,
     "start_time": "2022-05-12T20:10:56.819773",
     "status": "completed"
    },
    "tags": []
   },
   "source": [
    "## Preparing the Data"
   ]
  },
  {
   "cell_type": "code",
   "execution_count": 4,
   "id": "7f69d806",
   "metadata": {
    "execution": {
     "iopub.execute_input": "2022-05-12T20:10:56.921395Z",
     "iopub.status.busy": "2022-05-12T20:10:56.920772Z",
     "iopub.status.idle": "2022-05-12T20:10:56.940168Z",
     "shell.execute_reply": "2022-05-12T20:10:56.939581Z"
    },
    "papermill": {
     "duration": 0.054973,
     "end_time": "2022-05-12T20:10:56.940320",
     "exception": false,
     "start_time": "2022-05-12T20:10:56.885347",
     "status": "completed"
    },
    "tags": []
   },
   "outputs": [],
   "source": [
    "import mnist"
   ]
  },
  {
   "cell_type": "code",
   "execution_count": 5,
   "id": "a411e44f",
   "metadata": {
    "execution": {
     "iopub.execute_input": "2022-05-12T20:10:57.010948Z",
     "iopub.status.busy": "2022-05-12T20:10:57.010270Z",
     "iopub.status.idle": "2022-05-12T20:10:57.667133Z",
     "shell.execute_reply": "2022-05-12T20:10:57.668059Z"
    },
    "papermill": {
     "duration": 0.694337,
     "end_time": "2022-05-12T20:10:57.668335",
     "exception": false,
     "start_time": "2022-05-12T20:10:56.973998",
     "status": "completed"
    },
    "tags": []
   },
   "outputs": [],
   "source": [
    "train_images = mnist.train_images()\n",
    "train_labels = mnist.train_labels()"
   ]
  },
  {
   "cell_type": "code",
   "execution_count": 6,
   "id": "dceab3a5",
   "metadata": {
    "execution": {
     "iopub.execute_input": "2022-05-12T20:10:57.749165Z",
     "iopub.status.busy": "2022-05-12T20:10:57.746930Z",
     "iopub.status.idle": "2022-05-12T20:10:57.762959Z",
     "shell.execute_reply": "2022-05-12T20:10:57.763474Z"
    },
    "papermill": {
     "duration": 0.061927,
     "end_time": "2022-05-12T20:10:57.763633",
     "exception": false,
     "start_time": "2022-05-12T20:10:57.701706",
     "status": "completed"
    },
    "tags": []
   },
   "outputs": [
    {
     "data": {
      "text/plain": [
       "((60000, 28, 28), (60000,))"
      ]
     },
     "execution_count": 6,
     "metadata": {},
     "output_type": "execute_result"
    }
   ],
   "source": [
    "train_images.shape, train_labels.shape"
   ]
  },
  {
   "cell_type": "code",
   "execution_count": 7,
   "id": "f50dc2bb",
   "metadata": {
    "execution": {
     "iopub.execute_input": "2022-05-12T20:10:57.837695Z",
     "iopub.status.busy": "2022-05-12T20:10:57.832721Z",
     "iopub.status.idle": "2022-05-12T20:10:57.991679Z",
     "shell.execute_reply": "2022-05-12T20:10:57.992394Z"
    },
    "papermill": {
     "duration": 0.19997,
     "end_time": "2022-05-12T20:10:57.992616",
     "exception": false,
     "start_time": "2022-05-12T20:10:57.792646",
     "status": "completed"
    },
    "tags": []
   },
   "outputs": [],
   "source": [
    "test_images = mnist.test_images()\n",
    "test_labels = mnist.test_labels()"
   ]
  },
  {
   "cell_type": "code",
   "execution_count": 8,
   "id": "fc38cf1b",
   "metadata": {
    "execution": {
     "iopub.execute_input": "2022-05-12T20:10:58.063862Z",
     "iopub.status.busy": "2022-05-12T20:10:58.063236Z",
     "iopub.status.idle": "2022-05-12T20:10:58.080754Z",
     "shell.execute_reply": "2022-05-12T20:10:58.080256Z"
    },
    "papermill": {
     "duration": 0.054183,
     "end_time": "2022-05-12T20:10:58.081054",
     "exception": false,
     "start_time": "2022-05-12T20:10:58.026871",
     "status": "completed"
    },
    "tags": []
   },
   "outputs": [
    {
     "data": {
      "text/plain": [
       "((10000, 28, 28), (10000,))"
      ]
     },
     "execution_count": 8,
     "metadata": {},
     "output_type": "execute_result"
    }
   ],
   "source": [
    "test_images.shape, test_labels.shape"
   ]
  },
  {
   "cell_type": "code",
   "execution_count": 9,
   "id": "f9ed8fe0",
   "metadata": {
    "execution": {
     "iopub.execute_input": "2022-05-12T20:10:58.145398Z",
     "iopub.status.busy": "2022-05-12T20:10:58.144785Z",
     "iopub.status.idle": "2022-05-12T20:10:58.310869Z",
     "shell.execute_reply": "2022-05-12T20:10:58.310313Z"
    },
    "papermill": {
     "duration": 0.200007,
     "end_time": "2022-05-12T20:10:58.311012",
     "exception": false,
     "start_time": "2022-05-12T20:10:58.111005",
     "status": "completed"
    },
    "tags": []
   },
   "outputs": [
    {
     "name": "stdout",
     "output_type": "stream",
     "text": [
      "2\n"
     ]
    },
    {
     "data": {
      "text/plain": [
       "<matplotlib.image.AxesImage at 0x7fc30bf6e470>"
      ]
     },
     "execution_count": 9,
     "metadata": {},
     "output_type": "execute_result"
    },
    {
     "data": {
      "image/png": "[encoded data removed]",
      "text/plain": [
       "<Figure size 432x288 with 1 Axes>"
      ]
     },
     "metadata": {
      "needs_background": "light"
     },
     "output_type": "display_data"
    }
   ],
   "source": [
    "image_index = 7776 # You may select anything up to 60,000\n",
    "print(train_labels[image_index]) \n",
    "plt.imshow(train_images[image_index], cmap='Greys')"
   ]
  },
  {
   "cell_type": "markdown",
   "id": "a8d2388d",
   "metadata": {
    "papermill": {
     "duration": 0.030344,
     "end_time": "2022-05-12T20:10:58.372340",
     "exception": false,
     "start_time": "2022-05-12T20:10:58.341996",
     "status": "completed"
    },
    "tags": []
   },
   "source": [
    "## Filter data to get 3 and 8 out"
   ]
  },
  {
   "cell_type": "code",
   "execution_count": 10,
   "id": "776f7fc7",
   "metadata": {
    "execution": {
     "iopub.execute_input": "2022-05-12T20:10:58.438961Z",
     "iopub.status.busy": "2022-05-12T20:10:58.437559Z",
     "iopub.status.idle": "2022-05-12T20:10:58.459036Z",
     "shell.execute_reply": "2022-05-12T20:10:58.458308Z"
    },
    "papermill": {
     "duration": 0.05642,
     "end_time": "2022-05-12T20:10:58.459197",
     "exception": false,
     "start_time": "2022-05-12T20:10:58.402777",
     "status": "completed"
    },
    "tags": []
   },
   "outputs": [],
   "source": [
    "train_filter = np.where((train_labels == 3 ) | (train_labels == 8))\n",
    "test_filter = np.where((test_labels == 3) | (test_labels == 8))\n",
    "X_train, y_train = train_images[train_filter], train_labels[train_filter]\n",
    "X_test, y_test = test_images[test_filter], test_labels[test_filter]"
   ]
  },
  {
   "cell_type": "markdown",
   "id": "948f0b7e",
   "metadata": {
    "papermill": {
     "duration": 0.036063,
     "end_time": "2022-05-12T20:10:58.527694",
     "exception": false,
     "start_time": "2022-05-12T20:10:58.491631",
     "status": "completed"
    },
    "tags": []
   },
   "source": [
    "We normalize the pizel values in the 0 to 1 range"
   ]
  },
  {
   "cell_type": "code",
   "execution_count": 11,
   "id": "ee4c2166",
   "metadata": {
    "execution": {
     "iopub.execute_input": "2022-05-12T20:10:58.604982Z",
     "iopub.status.busy": "2022-05-12T20:10:58.604322Z",
     "iopub.status.idle": "2022-05-12T20:10:58.661128Z",
     "shell.execute_reply": "2022-05-12T20:10:58.660221Z"
    },
    "papermill": {
     "duration": 0.094425,
     "end_time": "2022-05-12T20:10:58.661332",
     "exception": false,
     "start_time": "2022-05-12T20:10:58.566907",
     "status": "completed"
    },
    "tags": []
   },
   "outputs": [],
   "source": [
    "X_train = X_train/255.\n",
    "X_test = X_test/255."
   ]
  },
  {
   "cell_type": "markdown",
   "id": "ddcf4fab",
   "metadata": {
    "papermill": {
     "duration": 0.035145,
     "end_time": "2022-05-12T20:10:58.727449",
     "exception": false,
     "start_time": "2022-05-12T20:10:58.692304",
     "status": "completed"
    },
    "tags": []
   },
   "source": [
    "And setup the labels as 1 (when the digit is 3) and 0 (when the digit is 8)"
   ]
  },
  {
   "cell_type": "code",
   "execution_count": 12,
   "id": "7dc908f2",
   "metadata": {
    "execution": {
     "iopub.execute_input": "2022-05-12T20:10:58.797493Z",
     "iopub.status.busy": "2022-05-12T20:10:58.796870Z",
     "iopub.status.idle": "2022-05-12T20:10:58.808953Z",
     "shell.execute_reply": "2022-05-12T20:10:58.809435Z"
    },
    "papermill": {
     "duration": 0.051824,
     "end_time": "2022-05-12T20:10:58.809587",
     "exception": false,
     "start_time": "2022-05-12T20:10:58.757763",
     "status": "completed"
    },
    "tags": []
   },
   "outputs": [],
   "source": [
    "y_train = 1*(y_train==3)\n",
    "y_test = 1*(y_test==3)"
   ]
  },
  {
   "cell_type": "code",
   "execution_count": 13,
   "id": "01e4e969",
   "metadata": {
    "execution": {
     "iopub.execute_input": "2022-05-12T20:10:58.880789Z",
     "iopub.status.busy": "2022-05-12T20:10:58.880173Z",
     "iopub.status.idle": "2022-05-12T20:10:58.894434Z",
     "shell.execute_reply": "2022-05-12T20:10:58.894886Z"
    },
    "papermill": {
     "duration": 0.050878,
     "end_time": "2022-05-12T20:10:58.895050",
     "exception": false,
     "start_time": "2022-05-12T20:10:58.844172",
     "status": "completed"
    },
    "tags": []
   },
   "outputs": [
    {
     "data": {
      "text/plain": [
       "((11982, 28, 28), (1984, 28, 28))"
      ]
     },
     "execution_count": 13,
     "metadata": {},
     "output_type": "execute_result"
    }
   ],
   "source": [
    "X_train.shape, X_test.shape"
   ]
  },
  {
   "cell_type": "markdown",
   "id": "5ccf3f85",
   "metadata": {
    "papermill": {
     "duration": 0.030667,
     "end_time": "2022-05-12T20:10:58.961759",
     "exception": false,
     "start_time": "2022-05-12T20:10:58.931092",
     "status": "completed"
    },
    "tags": []
   },
   "source": [
    "We reshape the data to flatten the image pixels into a set of features or co-variates:"
   ]
  },
  {
   "cell_type": "code",
   "execution_count": 14,
   "id": "5286a4a3",
   "metadata": {
    "execution": {
     "iopub.execute_input": "2022-05-12T20:10:59.027977Z",
     "iopub.status.busy": "2022-05-12T20:10:59.027317Z",
     "iopub.status.idle": "2022-05-12T20:10:59.043382Z",
     "shell.execute_reply": "2022-05-12T20:10:59.043922Z"
    },
    "papermill": {
     "duration": 0.051808,
     "end_time": "2022-05-12T20:10:59.044103",
     "exception": false,
     "start_time": "2022-05-12T20:10:58.992295",
     "status": "completed"
    },
    "tags": []
   },
   "outputs": [
    {
     "data": {
      "text/plain": [
       "((11982, 784), (1984, 784))"
      ]
     },
     "execution_count": 14,
     "metadata": {},
     "output_type": "execute_result"
    }
   ],
   "source": [
    "X_train = X_train.reshape(X_train.shape[0], -1)\n",
    "X_test = X_test.reshape(X_test.shape[0], -1)\n",
    "X_train.shape, X_test.shape"
   ]
  },
  {
   "cell_type": "code",
   "execution_count": 15,
   "id": "73c5f88a",
   "metadata": {
    "execution": {
     "iopub.execute_input": "2022-05-12T20:10:59.113551Z",
     "iopub.status.busy": "2022-05-12T20:10:59.112918Z",
     "iopub.status.idle": "2022-05-12T20:10:59.136172Z",
     "shell.execute_reply": "2022-05-12T20:10:59.135549Z"
    },
    "papermill": {
     "duration": 0.060168,
     "end_time": "2022-05-12T20:10:59.136324",
     "exception": false,
     "start_time": "2022-05-12T20:10:59.076156",
     "status": "completed"
    },
    "tags": []
   },
   "outputs": [],
   "source": [
    "#Impoting functions from 'Kudzu'\n",
    "from kudzu.model import Model\n",
    "from kudzu.train import Learner\n",
    "from kudzu.optim import GD\n",
    "from kudzu.data import Data, Sampler,Dataloader\n",
    "\n",
    "from kudzu.callbacks import AccCallback\n",
    "from kudzu.callbacks import ClfCallback\n",
    "\n",
    "from kudzu.loss import MSE\n",
    "\n",
    "from kudzu.layer import Sigmoid,Relu\n",
    "from kudzu.layer import Affine"
   ]
  },
  {
   "cell_type": "markdown",
   "id": "bc01172a",
   "metadata": {
    "papermill": {
     "duration": 0.030827,
     "end_time": "2022-05-12T20:10:59.198274",
     "exception": false,
     "start_time": "2022-05-12T20:10:59.167447",
     "status": "completed"
    },
    "tags": []
   },
   "source": [
    "### Let us create a `Config` class, to store important parameters. \n",
    "This class essentially plays the role of a dictionary."
   ]
  },
  {
   "cell_type": "code",
   "execution_count": 16,
   "id": "978281aa",
   "metadata": {
    "execution": {
     "iopub.execute_input": "2022-05-12T20:10:59.264736Z",
     "iopub.status.busy": "2022-05-12T20:10:59.264114Z",
     "iopub.status.idle": "2022-05-12T20:10:59.278295Z",
     "shell.execute_reply": "2022-05-12T20:10:59.277797Z"
    },
    "papermill": {
     "duration": 0.049415,
     "end_time": "2022-05-12T20:10:59.278429",
     "exception": false,
     "start_time": "2022-05-12T20:10:59.229014",
     "status": "completed"
    },
    "tags": []
   },
   "outputs": [],
   "source": [
    "class Config:\n",
    "    pass\n",
    "config = Config()\n",
    "config.lr = 0.001\n",
    "config.num_epochs = 250\n",
    "config.bs = 50"
   ]
  },
  {
   "cell_type": "markdown",
   "id": "1385fa59",
   "metadata": {
    "papermill": {
     "duration": 0.0309,
     "end_time": "2022-05-12T20:10:59.340430",
     "exception": false,
     "start_time": "2022-05-12T20:10:59.309530",
     "status": "completed"
    },
    "tags": []
   },
   "source": [
    "### Running Models with the Training data\n",
    "Details about the network layers:\n",
    "- A first affine layer has 784 inputs and does 100 affine transforms. These are followed by a Relu\n",
    "- A second affine layer has 100 inputs from the 100 activations of the past layer, and does 100 affine transforms. These are followed by a Relu\n",
    "- A third affine layer has 100 activations and does 2 affine transformations to create an embedding for visualization. There is no non-linearity here.\n",
    "- A final \"logistic regression\" which has an affine transform from 2 inputs to 1 output, which is squeezed through a sigmoid.\n"
   ]
  },
  {
   "cell_type": "code",
   "execution_count": 17,
   "id": "2b9c66db",
   "metadata": {
    "execution": {
     "iopub.execute_input": "2022-05-12T20:10:59.408059Z",
     "iopub.status.busy": "2022-05-12T20:10:59.407410Z",
     "iopub.status.idle": "2022-05-12T20:10:59.429512Z",
     "shell.execute_reply": "2022-05-12T20:10:59.428934Z"
    },
    "papermill": {
     "duration": 0.058155,
     "end_time": "2022-05-12T20:10:59.429647",
     "exception": false,
     "start_time": "2022-05-12T20:10:59.371492",
     "status": "completed"
    },
    "tags": []
   },
   "outputs": [],
   "source": [
    "data = Data(X_train, y_train.reshape(-1,1))\n",
    "sampler = Sampler(data, config.bs, shuffle=True)\n",
    "\n",
    "dl = Dataloader(data, sampler)\n",
    "\n",
    "opt = GD(config.lr)\n",
    "loss = MSE()"
   ]
  },
  {
   "cell_type": "code",
   "execution_count": 18,
   "id": "b275e4c2",
   "metadata": {
    "execution": {
     "iopub.execute_input": "2022-05-12T20:10:59.498839Z",
     "iopub.status.busy": "2022-05-12T20:10:59.498209Z",
     "iopub.status.idle": "2022-05-12T20:10:59.517876Z",
     "shell.execute_reply": "2022-05-12T20:10:59.518357Z"
    },
    "papermill": {
     "duration": 0.057489,
     "end_time": "2022-05-12T20:10:59.518527",
     "exception": false,
     "start_time": "2022-05-12T20:10:59.461038",
     "status": "completed"
    },
    "tags": []
   },
   "outputs": [],
   "source": [
    "training_data_x = X_train\n",
    "testing_data_x = X_test\n",
    "training_data_y = y_train.reshape(-1,1)\n",
    "testing_data_y = y_test.reshape(-1,1)"
   ]
  },
  {
   "cell_type": "code",
   "execution_count": 19,
   "id": "76951160",
   "metadata": {
    "execution": {
     "iopub.execute_input": "2022-05-12T20:10:59.589021Z",
     "iopub.status.busy": "2022-05-12T20:10:59.584930Z",
     "iopub.status.idle": "2022-05-12T20:10:59.603582Z",
     "shell.execute_reply": "2022-05-12T20:10:59.602951Z"
    },
    "papermill": {
     "duration": 0.054222,
     "end_time": "2022-05-12T20:10:59.603781",
     "exception": false,
     "start_time": "2022-05-12T20:10:59.549559",
     "status": "completed"
    },
    "tags": []
   },
   "outputs": [
    {
     "name": "stdout",
     "output_type": "stream",
     "text": [
      "xavier\n",
      "xavier\n",
      "xavier\n",
      "xavier\n",
      "xavier\n"
     ]
    }
   ],
   "source": [
    "layers = [Affine(\"first\", 784, 100), Relu(\"first\"), Affine(\"second\", 100, 100), Relu(\"second\"), Affine(\"third\", 100, 2), Affine(\"last\", 2, 1), Sigmoid(\"last\")]\n",
    "model_nn = Model(layers)\n",
    "model_lr = Model([Affine(\"logits\", 784, 1), Sigmoid(\"sigmoid\")])"
   ]
  },
  {
   "cell_type": "code",
   "execution_count": 20,
   "id": "6eede77a",
   "metadata": {
    "execution": {
     "iopub.execute_input": "2022-05-12T20:10:59.679072Z",
     "iopub.status.busy": "2022-05-12T20:10:59.678452Z",
     "iopub.status.idle": "2022-05-12T20:10:59.692986Z",
     "shell.execute_reply": "2022-05-12T20:10:59.692104Z"
    },
    "papermill": {
     "duration": 0.053312,
     "end_time": "2022-05-12T20:10:59.693168",
     "exception": false,
     "start_time": "2022-05-12T20:10:59.639856",
     "status": "completed"
    },
    "tags": []
   },
   "outputs": [],
   "source": [
    "nn_learner = Learner(loss, model_nn, opt, config.num_epochs)\n",
    "acc_nn = ClfCallback(nn_learner, config.bs, training_data_x , testing_data_x, training_data_y, testing_data_y)\n",
    "nn_learner.set_callbacks([acc_nn])"
   ]
  },
  {
   "cell_type": "code",
   "execution_count": 21,
   "id": "877b6cc7",
   "metadata": {
    "execution": {
     "iopub.execute_input": "2022-05-12T20:10:59.768280Z",
     "iopub.status.busy": "2022-05-12T20:10:59.767609Z",
     "iopub.status.idle": "2022-05-12T20:10:59.783073Z",
     "shell.execute_reply": "2022-05-12T20:10:59.782564Z"
    },
    "papermill": {
     "duration": 0.052949,
     "end_time": "2022-05-12T20:10:59.783212",
     "exception": false,
     "start_time": "2022-05-12T20:10:59.730263",
     "status": "completed"
    },
    "tags": []
   },
   "outputs": [],
   "source": [
    "lr_learner = Learner(loss, model_lr, opt, config.num_epochs)\n",
    "acc_lr = ClfCallback(lr_learner, config.bs, training_data_x , testing_data_x, training_data_y, testing_data_y)\n",
    "lr_learner.set_callbacks([acc_lr])"
   ]
  },
  {
   "cell_type": "code",
   "execution_count": 22,
   "id": "d9b133c3",
   "metadata": {
    "execution": {
     "iopub.execute_input": "2022-05-12T20:10:59.858854Z",
     "iopub.status.busy": "2022-05-12T20:10:59.858246Z",
     "iopub.status.idle": "2022-05-12T20:12:33.183987Z",
     "shell.execute_reply": "2022-05-12T20:12:33.184844Z"
    },
    "papermill": {
     "duration": 93.364257,
     "end_time": "2022-05-12T20:12:33.185009",
     "exception": false,
     "start_time": "2022-05-12T20:10:59.820752",
     "status": "completed"
    },
    "tags": []
   },
   "outputs": [
    {
     "name": "stdout",
     "output_type": "stream",
     "text": [
      "Epoch 0, Loss 0.2544\n",
      "Training Accuracy: 0.4806, Testing Accuracy: 0.4773\n",
      "\n"
     ]
    },
    {
     "name": "stdout",
     "output_type": "stream",
     "text": [
      "Epoch 10, Loss 0.1778\n",
      "Training Accuracy: 0.8785, Testing Accuracy: 0.8821\n",
      "\n"
     ]
    },
    {
     "name": "stdout",
     "output_type": "stream",
     "text": [
      "Epoch 20, Loss 0.0863\n",
      "Training Accuracy: 0.9196, Testing Accuracy: 0.9299\n",
      "\n"
     ]
    },
    {
     "name": "stdout",
     "output_type": "stream",
     "text": [
      "Epoch 30, Loss 0.0565\n",
      "Training Accuracy: 0.9400, Testing Accuracy: 0.9506\n",
      "\n"
     ]
    },
    {
     "name": "stdout",
     "output_type": "stream",
     "text": [
      "Epoch 40, Loss 0.0451\n",
      "Training Accuracy: 0.9508, Testing Accuracy: 0.9592\n",
      "\n"
     ]
    },
    {
     "name": "stdout",
     "output_type": "stream",
     "text": [
      "Epoch 50, Loss 0.0393\n",
      "Training Accuracy: 0.9555, Testing Accuracy: 0.9612\n",
      "\n"
     ]
    },
    {
     "name": "stdout",
     "output_type": "stream",
     "text": [
      "Epoch 60, Loss 0.0358\n",
      "Training Accuracy: 0.9588, Testing Accuracy: 0.9647\n",
      "\n"
     ]
    },
    {
     "name": "stdout",
     "output_type": "stream",
     "text": [
      "Epoch 70, Loss 0.0333\n",
      "Training Accuracy: 0.9613, Testing Accuracy: 0.9647\n",
      "\n"
     ]
    },
    {
     "name": "stdout",
     "output_type": "stream",
     "text": [
      "Epoch 80, Loss 0.0315\n",
      "Training Accuracy: 0.9633, Testing Accuracy: 0.9672\n",
      "\n"
     ]
    },
    {
     "name": "stdout",
     "output_type": "stream",
     "text": [
      "Epoch 90, Loss 0.03\n",
      "Training Accuracy: 0.9648, Testing Accuracy: 0.9688\n",
      "\n"
     ]
    },
    {
     "name": "stdout",
     "output_type": "stream",
     "text": [
      "Epoch 100, Loss 0.0288\n",
      "Training Accuracy: 0.9659, Testing Accuracy: 0.9688\n",
      "\n"
     ]
    },
    {
     "name": "stdout",
     "output_type": "stream",
     "text": [
      "Epoch 110, Loss 0.0278\n",
      "Training Accuracy: 0.9675, Testing Accuracy: 0.9698\n",
      "\n"
     ]
    },
    {
     "name": "stdout",
     "output_type": "stream",
     "text": [
      "Epoch 120, Loss 0.0269\n",
      "Training Accuracy: 0.9685, Testing Accuracy: 0.9693\n",
      "\n"
     ]
    },
    {
     "name": "stdout",
     "output_type": "stream",
     "text": [
      "Epoch 130, Loss 0.026\n",
      "Training Accuracy: 0.9691, Testing Accuracy: 0.9688\n",
      "\n"
     ]
    },
    {
     "name": "stdout",
     "output_type": "stream",
     "text": [
      "Epoch 140, Loss 0.0253\n",
      "Training Accuracy: 0.9703, Testing Accuracy: 0.9688\n",
      "\n"
     ]
    },
    {
     "name": "stdout",
     "output_type": "stream",
     "text": [
      "Epoch 150, Loss 0.0247\n",
      "Training Accuracy: 0.9710, Testing Accuracy: 0.9693\n",
      "\n"
     ]
    },
    {
     "name": "stdout",
     "output_type": "stream",
     "text": [
      "Epoch 160, Loss 0.024\n",
      "Training Accuracy: 0.9717, Testing Accuracy: 0.9693\n",
      "\n"
     ]
    },
    {
     "name": "stdout",
     "output_type": "stream",
     "text": [
      "Epoch 170, Loss 0.0235\n",
      "Training Accuracy: 0.9724, Testing Accuracy: 0.9703\n",
      "\n"
     ]
    },
    {
     "name": "stdout",
     "output_type": "stream",
     "text": [
      "Epoch 180, Loss 0.0229\n",
      "Training Accuracy: 0.9730, Testing Accuracy: 0.9708\n",
      "\n"
     ]
    },
    {
     "name": "stdout",
     "output_type": "stream",
     "text": [
      "Epoch 190, Loss 0.0224\n",
      "Training Accuracy: 0.9737, Testing Accuracy: 0.9718\n",
      "\n"
     ]
    },
    {
     "name": "stdout",
     "output_type": "stream",
     "text": [
      "Epoch 200, Loss 0.022\n",
      "Training Accuracy: 0.9745, Testing Accuracy: 0.9723\n",
      "\n"
     ]
    },
    {
     "name": "stdout",
     "output_type": "stream",
     "text": [
      "Epoch 210, Loss 0.0215\n",
      "Training Accuracy: 0.9752, Testing Accuracy: 0.9728\n",
      "\n"
     ]
    },
    {
     "name": "stdout",
     "output_type": "stream",
     "text": [
      "Epoch 220, Loss 0.0211\n",
      "Training Accuracy: 0.9755, Testing Accuracy: 0.9738\n",
      "\n"
     ]
    },
    {
     "name": "stdout",
     "output_type": "stream",
     "text": [
      "Epoch 230, Loss 0.0207\n",
      "Training Accuracy: 0.9761, Testing Accuracy: 0.9743\n",
      "\n"
     ]
    },
    {
     "name": "stdout",
     "output_type": "stream",
     "text": [
      "Epoch 240, Loss 0.0203\n",
      "Training Accuracy: 0.9765, Testing Accuracy: 0.9738\n",
      "\n"
     ]
    },
    {
     "data": {
      "text/plain": [
       "0.0025057640631221067"
      ]
     },
     "execution_count": 22,
     "metadata": {},
     "output_type": "execute_result"
    }
   ],
   "source": [
    "nn_learner.train_loop(dl)"
   ]
  },
  {
   "cell_type": "code",
   "execution_count": 23,
   "id": "e0163366",
   "metadata": {
    "execution": {
     "iopub.execute_input": "2022-05-12T20:12:33.273975Z",
     "iopub.status.busy": "2022-05-12T20:12:33.273336Z",
     "iopub.status.idle": "2022-05-12T20:12:49.580579Z",
     "shell.execute_reply": "2022-05-12T20:12:49.581451Z"
    },
    "papermill": {
     "duration": 16.356246,
     "end_time": "2022-05-12T20:12:49.581620",
     "exception": false,
     "start_time": "2022-05-12T20:12:33.225374",
     "status": "completed"
    },
    "tags": []
   },
   "outputs": [
    {
     "name": "stdout",
     "output_type": "stream",
     "text": [
      "Epoch 0, Loss 0.2384\n",
      "Training Accuracy: 0.6680, Testing Accuracy: 0.6784\n",
      "\n"
     ]
    },
    {
     "name": "stdout",
     "output_type": "stream",
     "text": [
      "Epoch 10, Loss 0.101\n",
      "Training Accuracy: 0.9174, Testing Accuracy: 0.9249\n",
      "\n"
     ]
    },
    {
     "name": "stdout",
     "output_type": "stream",
     "text": [
      "Epoch 20, Loss 0.0769\n",
      "Training Accuracy: 0.9357, Testing Accuracy: 0.9471\n",
      "\n"
     ]
    },
    {
     "name": "stdout",
     "output_type": "stream",
     "text": [
      "Epoch 30, Loss 0.0663\n",
      "Training Accuracy: 0.9417, Testing Accuracy: 0.9511\n",
      "\n"
     ]
    },
    {
     "name": "stdout",
     "output_type": "stream",
     "text": [
      "Epoch 40, Loss 0.06\n",
      "Training Accuracy: 0.9448, Testing Accuracy: 0.9556\n",
      "\n"
     ]
    },
    {
     "name": "stdout",
     "output_type": "stream",
     "text": [
      "Epoch 50, Loss 0.0558\n",
      "Training Accuracy: 0.9478, Testing Accuracy: 0.9582\n",
      "\n"
     ]
    },
    {
     "name": "stdout",
     "output_type": "stream",
     "text": [
      "Epoch 60, Loss 0.0526\n",
      "Training Accuracy: 0.9498, Testing Accuracy: 0.9627\n",
      "\n"
     ]
    },
    {
     "name": "stdout",
     "output_type": "stream",
     "text": [
      "Epoch 70, Loss 0.0502\n",
      "Training Accuracy: 0.9517, Testing Accuracy: 0.9632\n",
      "\n"
     ]
    },
    {
     "name": "stdout",
     "output_type": "stream",
     "text": [
      "Epoch 80, Loss 0.0483\n",
      "Training Accuracy: 0.9530, Testing Accuracy: 0.9637\n",
      "\n"
     ]
    },
    {
     "name": "stdout",
     "output_type": "stream",
     "text": [
      "Epoch 90, Loss 0.0467\n",
      "Training Accuracy: 0.9541, Testing Accuracy: 0.9642\n",
      "\n"
     ]
    },
    {
     "name": "stdout",
     "output_type": "stream",
     "text": [
      "Epoch 100, Loss 0.0454\n",
      "Training Accuracy: 0.9549, Testing Accuracy: 0.9652\n",
      "\n"
     ]
    },
    {
     "name": "stdout",
     "output_type": "stream",
     "text": [
      "Epoch 110, Loss 0.0442\n",
      "Training Accuracy: 0.9558, Testing Accuracy: 0.9657\n",
      "\n"
     ]
    },
    {
     "name": "stdout",
     "output_type": "stream",
     "text": [
      "Epoch 120, Loss 0.0432\n",
      "Training Accuracy: 0.9569, Testing Accuracy: 0.9662\n",
      "\n"
     ]
    },
    {
     "name": "stdout",
     "output_type": "stream",
     "text": [
      "Epoch 130, Loss 0.0423\n",
      "Training Accuracy: 0.9574, Testing Accuracy: 0.9672\n",
      "\n"
     ]
    },
    {
     "name": "stdout",
     "output_type": "stream",
     "text": [
      "Epoch 140, Loss 0.0415\n",
      "Training Accuracy: 0.9581, Testing Accuracy: 0.9672\n",
      "\n"
     ]
    },
    {
     "name": "stdout",
     "output_type": "stream",
     "text": [
      "Epoch 150, Loss 0.0408\n",
      "Training Accuracy: 0.9583, Testing Accuracy: 0.9672\n",
      "\n"
     ]
    },
    {
     "name": "stdout",
     "output_type": "stream",
     "text": [
      "Epoch 160, Loss 0.0402\n",
      "Training Accuracy: 0.9589, Testing Accuracy: 0.9672\n",
      "\n"
     ]
    },
    {
     "name": "stdout",
     "output_type": "stream",
     "text": [
      "Epoch 170, Loss 0.0396\n",
      "Training Accuracy: 0.9594, Testing Accuracy: 0.9677\n",
      "\n"
     ]
    },
    {
     "name": "stdout",
     "output_type": "stream",
     "text": [
      "Epoch 180, Loss 0.039\n",
      "Training Accuracy: 0.9596, Testing Accuracy: 0.9677\n",
      "\n"
     ]
    },
    {
     "name": "stdout",
     "output_type": "stream",
     "text": [
      "Epoch 190, Loss 0.0385\n",
      "Training Accuracy: 0.9596, Testing Accuracy: 0.9677\n",
      "\n"
     ]
    },
    {
     "name": "stdout",
     "output_type": "stream",
     "text": [
      "Epoch 200, Loss 0.0381\n",
      "Training Accuracy: 0.9602, Testing Accuracy: 0.9677\n",
      "\n"
     ]
    },
    {
     "name": "stdout",
     "output_type": "stream",
     "text": [
      "Epoch 210, Loss 0.0377\n",
      "Training Accuracy: 0.9604, Testing Accuracy: 0.9677\n",
      "\n"
     ]
    },
    {
     "name": "stdout",
     "output_type": "stream",
     "text": [
      "Epoch 220, Loss 0.0373\n",
      "Training Accuracy: 0.9606, Testing Accuracy: 0.9677\n",
      "\n"
     ]
    },
    {
     "name": "stdout",
     "output_type": "stream",
     "text": [
      "Epoch 230, Loss 0.0369\n",
      "Training Accuracy: 0.9608, Testing Accuracy: 0.9682\n",
      "\n"
     ]
    },
    {
     "name": "stdout",
     "output_type": "stream",
     "text": [
      "Epoch 240, Loss 0.0365\n",
      "Training Accuracy: 0.9612, Testing Accuracy: 0.9688\n",
      "\n"
     ]
    },
    {
     "data": {
      "text/plain": [
       "0.03880758692110167"
      ]
     },
     "execution_count": 23,
     "metadata": {},
     "output_type": "execute_result"
    }
   ],
   "source": [
    "lr_learner.train_loop(dl)"
   ]
  },
  {
   "cell_type": "code",
   "execution_count": 24,
   "id": "ca410940",
   "metadata": {
    "execution": {
     "iopub.execute_input": "2022-05-12T20:12:49.694337Z",
     "iopub.status.busy": "2022-05-12T20:12:49.692938Z",
     "iopub.status.idle": "2022-05-12T20:12:49.955855Z",
     "shell.execute_reply": "2022-05-12T20:12:49.954845Z"
    },
    "papermill": {
     "duration": 0.326481,
     "end_time": "2022-05-12T20:12:49.956012",
     "exception": false,
     "start_time": "2022-05-12T20:12:49.629531",
     "status": "completed"
    },
    "tags": []
   },
   "outputs": [
    {
     "data": {
      "text/plain": [
       "<matplotlib.legend.Legend at 0x7fc30bb4e940>"
      ]
     },
     "execution_count": 24,
     "metadata": {},
     "output_type": "execute_result"
    },
    {
     "data": {
      "image/png": "[encoded data removed]",
      "text/plain": [
       "<Figure size 1080x720 with 1 Axes>"
      ]
     },
     "metadata": {
      "needs_background": "light"
     },
     "output_type": "display_data"
    }
   ],
   "source": [
    "#comparing the results of NN and LR\n",
    "plt.figure(figsize=(15,10))\n",
    "\n",
    "# Neural Network plots\n",
    "plt.plot(acc_nn.accuracies, 'r-', label = \"Training Accuracies - NN\")\n",
    "plt.plot(acc_nn.test_accuracies, 'g-', label = \"Testing Accuracies - NN\")\n",
    "\n",
    "# Logistic Regression plots\n",
    "plt.plot(acc_lr.accuracies, 'k-', label = \"Training Accuracies - LR\")\n",
    "plt.plot(acc_lr.test_accuracies, 'b-', label = \"Testing Accuracies - LR\")\n",
    "plt.legend()"
   ]
  },
  {
   "cell_type": "markdown",
   "id": "80dfb35c",
   "metadata": {
    "papermill": {
     "duration": 0.049987,
     "end_time": "2022-05-12T20:12:50.057301",
     "exception": false,
     "start_time": "2022-05-12T20:12:50.007314",
     "status": "completed"
    },
    "tags": []
   },
   "source": [
    "#### Plotting the outputs of this layer of the NN.\n"
   ]
  },
  {
   "cell_type": "code",
   "execution_count": 25,
   "id": "45eb2ff5",
   "metadata": {
    "execution": {
     "iopub.execute_input": "2022-05-12T20:12:50.173711Z",
     "iopub.status.busy": "2022-05-12T20:12:50.173056Z",
     "iopub.status.idle": "2022-05-12T20:12:50.196154Z",
     "shell.execute_reply": "2022-05-12T20:12:50.196690Z"
    },
    "papermill": {
     "duration": 0.087258,
     "end_time": "2022-05-12T20:12:50.196855",
     "exception": false,
     "start_time": "2022-05-12T20:12:50.109597",
     "status": "completed"
    },
    "tags": []
   },
   "outputs": [],
   "source": [
    "new_model = Model(layers[:-2])\n",
    "testing_plot = new_model(testing_data_x)"
   ]
  },
  {
   "cell_type": "code",
   "execution_count": 26,
   "id": "4c0a5485",
   "metadata": {
    "execution": {
     "iopub.execute_input": "2022-05-12T20:12:50.317465Z",
     "iopub.status.busy": "2022-05-12T20:12:50.316834Z",
     "iopub.status.idle": "2022-05-12T20:12:50.554962Z",
     "shell.execute_reply": "2022-05-12T20:12:50.556179Z"
    },
    "papermill": {
     "duration": 0.30889,
     "end_time": "2022-05-12T20:12:50.556348",
     "exception": false,
     "start_time": "2022-05-12T20:12:50.247458",
     "status": "completed"
    },
    "tags": []
   },
   "outputs": [
    {
     "data": {
      "text/plain": [
       "Text(0.5, 1.0, 'Outputs')"
      ]
     },
     "execution_count": 26,
     "metadata": {},
     "output_type": "execute_result"
    },
    {
     "data": {
      "image/png": "[encoded data removed]",
      "text/plain": [
       "<Figure size 576x504 with 1 Axes>"
      ]
     },
     "metadata": {
      "needs_background": "light"
     },
     "output_type": "display_data"
    }
   ],
   "source": [
    "# Plotting the scatter plot of points and color coding by class\n",
    "plt.figure(figsize=(8,7))\n",
    "plt.scatter(testing_plot[:,0], testing_plot[:,1], alpha = 0.1, c = y_test.ravel());\n",
    "plt.title('Outputs')"
   ]
  },
  {
   "cell_type": "markdown",
   "id": "a74fcf8f",
   "metadata": {
    "papermill": {
     "duration": 0.053414,
     "end_time": "2022-05-12T20:12:50.663092",
     "exception": false,
     "start_time": "2022-05-12T20:12:50.609678",
     "status": "completed"
    },
    "tags": []
   },
   "source": [
    "Probability contours"
   ]
  },
  {
   "cell_type": "code",
   "execution_count": 27,
   "id": "d0afc8e3",
   "metadata": {
    "execution": {
     "iopub.execute_input": "2022-05-12T20:12:50.818511Z",
     "iopub.status.busy": "2022-05-12T20:12:50.813948Z",
     "iopub.status.idle": "2022-05-12T20:12:50.831806Z",
     "shell.execute_reply": "2022-05-12T20:12:50.831293Z"
    },
    "papermill": {
     "duration": 0.116828,
     "end_time": "2022-05-12T20:12:50.831971",
     "exception": false,
     "start_time": "2022-05-12T20:12:50.715143",
     "status": "completed"
    },
    "tags": []
   },
   "outputs": [],
   "source": [
    "model_prob = Model(layers[-2:]) "
   ]
  },
  {
   "cell_type": "code",
   "execution_count": 28,
   "id": "9b96e238",
   "metadata": {
    "execution": {
     "iopub.execute_input": "2022-05-12T20:12:50.946354Z",
     "iopub.status.busy": "2022-05-12T20:12:50.945727Z",
     "iopub.status.idle": "2022-05-12T20:12:50.961281Z",
     "shell.execute_reply": "2022-05-12T20:12:50.961777Z"
    },
    "papermill": {
     "duration": 0.074475,
     "end_time": "2022-05-12T20:12:50.961947",
     "exception": false,
     "start_time": "2022-05-12T20:12:50.887472",
     "status": "completed"
    },
    "tags": []
   },
   "outputs": [],
   "source": [
    "#creating the x and y ranges according to the above generated plot.\n",
    "x_range = np.linspace(-4, 1, 100) \n",
    "y_range = np.linspace(-6, 6, 100) \n",
    "x_grid, y_grid = np.meshgrid(x_range, y_range) # x_grid and y_grig are of size 100 X 100\n",
    "\n",
    "# converting x_grid and y_grid to continuous arrays\n",
    "x_gridflat = np.ravel(x_grid)\n",
    "y_gridflat = np.ravel(y_grid)\n",
    "\n",
    "# The last layer of the current model takes two columns as input. Hence transpose of np.vstack() is required.\n",
    "X = np.vstack((x_gridflat, y_gridflat)).T\n",
    "\n",
    "prob_contour = model_prob(X).reshape(100,100) "
   ]
  },
  {
   "cell_type": "code",
   "execution_count": 29,
   "id": "da72499a",
   "metadata": {
    "execution": {
     "iopub.execute_input": "2022-05-12T20:12:51.078269Z",
     "iopub.status.busy": "2022-05-12T20:12:51.077650Z",
     "iopub.status.idle": "2022-05-12T20:12:51.399591Z",
     "shell.execute_reply": "2022-05-12T20:12:51.400217Z"
    },
    "papermill": {
     "duration": 0.384309,
     "end_time": "2022-05-12T20:12:51.400380",
     "exception": false,
     "start_time": "2022-05-12T20:12:51.016071",
     "status": "completed"
    },
    "tags": []
   },
   "outputs": [
    {
     "data": {
      "image/png": "[encoded data removed]",
      "text/plain": [
       "<Figure size 720x648 with 1 Axes>"
      ]
     },
     "metadata": {
      "needs_background": "light"
     },
     "output_type": "display_data"
    }
   ],
   "source": [
    "plt.figure(figsize=(10,9))\n",
    "plt.scatter(testing_plot[:,0], testing_plot[:,1], alpha = 0.1, c = y_test.ravel())\n",
    "contours = plt.contour(x_grid,y_grid,prob_contour)\n",
    "plt.title('Probability Contours')\n",
    "plt.clabel(contours, inline = True );"
   ]
  },
  {
   "cell_type": "code",
   "execution_count": null,
   "id": "e81b4ac7",
   "metadata": {
    "papermill": {
     "duration": 0.056103,
     "end_time": "2022-05-12T20:12:51.511665",
     "exception": false,
     "start_time": "2022-05-12T20:12:51.455562",
     "status": "completed"
    },
    "tags": []
   },
   "outputs": [],
   "source": []
  }
 ],
 "metadata": {
  "kernelspec": {
   "display_name": "Python 3",
   "language": "python",
   "name": "python3"
  },
  "language_info": {
   "codemirror_mode": {
    "name": "ipython",
    "version": 3
   },
   "file_extension": ".py",
   "mimetype": "text/x-python",
   "name": "python",
   "nbconvert_exporter": "python",
   "pygments_lexer": "ipython3",
   "version": "3.6.15"
  },
  "papermill": {
   "default_parameters": {},
   "duration": 119.785765,
   "end_time": "2022-05-12T20:12:52.091789",
   "environment_variables": {},
   "exception": null,
   "input_path": "2020-08-11-part2.ipynb",
   "output_path": "2020-08-11-part2.ipynb",
   "parameters": {},
   "start_time": "2022-05-12T20:10:52.306024",
   "version": "2.3.3"
  }
 },
 "nbformat": 4,
 "nbformat_minor": 5
}