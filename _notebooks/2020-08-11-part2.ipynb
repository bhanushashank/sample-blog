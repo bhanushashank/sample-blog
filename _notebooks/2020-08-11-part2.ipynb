{
 "cells": [
  {
   "cell_type": "markdown",
   "id": "98380cd3",
   "metadata": {
    "papermill": {
     "duration": 0.029105,
     "end_time": "2022-11-25T10:10:39.423845",
     "exception": false,
     "start_time": "2022-11-25T10:10:39.394740",
     "status": "completed"
    },
    "tags": []
   },
   "source": [
    "# Distinguish Your Own Digits (DYOD)"
   ]
  },
  {
   "cell_type": "markdown",
   "id": "ef31240d",
   "metadata": {
    "papermill": {
     "duration": 0.02361,
     "end_time": "2022-11-25T10:10:39.472635",
     "exception": false,
     "start_time": "2022-11-25T10:10:39.449025",
     "status": "completed"
    },
    "tags": []
   },
   "source": [
    "You are going to write a classifier that distinguishes between the number 3 and number 8."
   ]
  },
  {
   "cell_type": "code",
   "execution_count": 1,
   "id": "b15c8646",
   "metadata": {
    "execution": {
     "iopub.execute_input": "2022-11-25T10:10:39.531181Z",
     "iopub.status.busy": "2022-11-25T10:10:39.530490Z",
     "iopub.status.idle": "2022-11-25T10:10:39.544864Z",
     "shell.execute_reply": "2022-11-25T10:10:39.545298Z"
    },
    "papermill": {
     "duration": 0.049084,
     "end_time": "2022-11-25T10:10:39.545458",
     "exception": false,
     "start_time": "2022-11-25T10:10:39.496374",
     "status": "completed"
    },
    "tags": []
   },
   "outputs": [],
   "source": [
    "%load_ext autoreload\n",
    "%autoreload 2"
   ]
  },
  {
   "cell_type": "code",
   "execution_count": 2,
   "id": "22ef38dc",
   "metadata": {
    "execution": {
     "iopub.execute_input": "2022-11-25T10:10:39.603388Z",
     "iopub.status.busy": "2022-11-25T10:10:39.602744Z",
     "iopub.status.idle": "2022-11-25T10:10:40.150041Z",
     "shell.execute_reply": "2022-11-25T10:10:40.149514Z"
    },
    "papermill": {
     "duration": 0.580811,
     "end_time": "2022-11-25T10:10:40.150164",
     "exception": false,
     "start_time": "2022-11-25T10:10:39.569353",
     "status": "completed"
    },
    "tags": []
   },
   "outputs": [],
   "source": [
    "%matplotlib inline\n",
    "import numpy as np\n",
    "import matplotlib.pyplot as plt\n",
    "import pandas as pd"
   ]
  },
  {
   "cell_type": "markdown",
   "id": "ba036198",
   "metadata": {
    "papermill": {
     "duration": 0.023854,
     "end_time": "2022-11-25T10:10:40.197900",
     "exception": false,
     "start_time": "2022-11-25T10:10:40.174046",
     "status": "completed"
    },
    "tags": []
   },
   "source": [
    "From the command line run `pip install mnist`. This is a library that will help you bring down the mnist dataset. If you run this from a notebook, you need to put  `!pip install mnist` in a cell by itself."
   ]
  },
  {
   "cell_type": "code",
   "execution_count": 3,
   "id": "bb6ad8a1",
   "metadata": {
    "execution": {
     "iopub.execute_input": "2022-11-25T10:10:40.249812Z",
     "iopub.status.busy": "2022-11-25T10:10:40.249230Z",
     "iopub.status.idle": "2022-11-25T10:10:42.678018Z",
     "shell.execute_reply": "2022-11-25T10:10:42.677407Z"
    },
    "papermill": {
     "duration": 2.456514,
     "end_time": "2022-11-25T10:10:42.678150",
     "exception": false,
     "start_time": "2022-11-25T10:10:40.221636",
     "status": "completed"
    },
    "tags": []
   },
   "outputs": [
    {
     "name": "stdout",
     "output_type": "stream",
     "text": [
      "Collecting mnist\r\n"
     ]
    },
    {
     "name": "stdout",
     "output_type": "stream",
     "text": [
      "  Downloading mnist-0.2.2-py2.py3-none-any.whl (3.5 kB)\r\n",
      "Requirement already satisfied: numpy in /opt/hostedtoolcache/Python/3.6.15/x64/lib/python3.6/site-packages (from mnist) (1.19.5)\r\n"
     ]
    },
    {
     "name": "stdout",
     "output_type": "stream",
     "text": [
      "Installing collected packages: mnist\r\n",
      "Successfully installed mnist-0.2.2\r\n"
     ]
    }
   ],
   "source": [
    "!pip install mnist"
   ]
  },
  {
   "cell_type": "markdown",
   "id": "69df9c9a",
   "metadata": {
    "papermill": {
     "duration": 0.025005,
     "end_time": "2022-11-25T10:10:42.728987",
     "exception": false,
     "start_time": "2022-11-25T10:10:42.703982",
     "status": "completed"
    },
    "tags": []
   },
   "source": [
    "## Preparing the Data"
   ]
  },
  {
   "cell_type": "code",
   "execution_count": 4,
   "id": "7f69d806",
   "metadata": {
    "execution": {
     "iopub.execute_input": "2022-11-25T10:10:42.782924Z",
     "iopub.status.busy": "2022-11-25T10:10:42.782283Z",
     "iopub.status.idle": "2022-11-25T10:10:42.797777Z",
     "shell.execute_reply": "2022-11-25T10:10:42.797291Z"
    },
    "papermill": {
     "duration": 0.044067,
     "end_time": "2022-11-25T10:10:42.797890",
     "exception": false,
     "start_time": "2022-11-25T10:10:42.753823",
     "status": "completed"
    },
    "tags": []
   },
   "outputs": [],
   "source": [
    "import mnist"
   ]
  },
  {
   "cell_type": "code",
   "execution_count": 5,
   "id": "a411e44f",
   "metadata": {
    "execution": {
     "iopub.execute_input": "2022-11-25T10:10:42.851425Z",
     "iopub.status.busy": "2022-11-25T10:10:42.850843Z",
     "iopub.status.idle": "2022-11-25T10:10:43.587409Z",
     "shell.execute_reply": "2022-11-25T10:10:43.586665Z"
    },
    "papermill": {
     "duration": 0.764855,
     "end_time": "2022-11-25T10:10:43.587542",
     "exception": false,
     "start_time": "2022-11-25T10:10:42.822687",
     "status": "completed"
    },
    "tags": []
   },
   "outputs": [],
   "source": [
    "train_images = mnist.train_images()\n",
    "train_labels = mnist.train_labels()"
   ]
  },
  {
   "cell_type": "code",
   "execution_count": 6,
   "id": "dceab3a5",
   "metadata": {
    "execution": {
     "iopub.execute_input": "2022-11-25T10:10:43.643876Z",
     "iopub.status.busy": "2022-11-25T10:10:43.642442Z",
     "iopub.status.idle": "2022-11-25T10:10:43.656809Z",
     "shell.execute_reply": "2022-11-25T10:10:43.656327Z"
    },
    "papermill": {
     "duration": 0.044302,
     "end_time": "2022-11-25T10:10:43.656918",
     "exception": false,
     "start_time": "2022-11-25T10:10:43.612616",
     "status": "completed"
    },
    "tags": []
   },
   "outputs": [
    {
     "data": {
      "text/plain": [
       "((60000, 28, 28), (60000,))"
      ]
     },
     "execution_count": 6,
     "metadata": {},
     "output_type": "execute_result"
    }
   ],
   "source": [
    "train_images.shape, train_labels.shape"
   ]
  },
  {
   "cell_type": "code",
   "execution_count": 7,
   "id": "f50dc2bb",
   "metadata": {
    "execution": {
     "iopub.execute_input": "2022-11-25T10:10:43.710809Z",
     "iopub.status.busy": "2022-11-25T10:10:43.710187Z",
     "iopub.status.idle": "2022-11-25T10:10:44.016194Z",
     "shell.execute_reply": "2022-11-25T10:10:44.015597Z"
    },
    "papermill": {
     "duration": 0.334625,
     "end_time": "2022-11-25T10:10:44.016338",
     "exception": false,
     "start_time": "2022-11-25T10:10:43.681713",
     "status": "completed"
    },
    "tags": []
   },
   "outputs": [],
   "source": [
    "test_images = mnist.test_images()\n",
    "test_labels = mnist.test_labels()"
   ]
  },
  {
   "cell_type": "code",
   "execution_count": 8,
   "id": "fc38cf1b",
   "metadata": {
    "execution": {
     "iopub.execute_input": "2022-11-25T10:10:44.070970Z",
     "iopub.status.busy": "2022-11-25T10:10:44.070127Z",
     "iopub.status.idle": "2022-11-25T10:10:44.084309Z",
     "shell.execute_reply": "2022-11-25T10:10:44.083726Z"
    },
    "papermill": {
     "duration": 0.042541,
     "end_time": "2022-11-25T10:10:44.084422",
     "exception": false,
     "start_time": "2022-11-25T10:10:44.041881",
     "status": "completed"
    },
    "tags": []
   },
   "outputs": [
    {
     "data": {
      "text/plain": [
       "((10000, 28, 28), (10000,))"
      ]
     },
     "execution_count": 8,
     "metadata": {},
     "output_type": "execute_result"
    }
   ],
   "source": [
    "test_images.shape, test_labels.shape"
   ]
  },
  {
   "cell_type": "code",
   "execution_count": 9,
   "id": "f9ed8fe0",
   "metadata": {
    "execution": {
     "iopub.execute_input": "2022-11-25T10:10:44.142929Z",
     "iopub.status.busy": "2022-11-25T10:10:44.142278Z",
     "iopub.status.idle": "2022-11-25T10:10:44.277612Z",
     "shell.execute_reply": "2022-11-25T10:10:44.278130Z"
    },
    "papermill": {
     "duration": 0.168755,
     "end_time": "2022-11-25T10:10:44.278282",
     "exception": false,
     "start_time": "2022-11-25T10:10:44.109527",
     "status": "completed"
    },
    "tags": []
   },
   "outputs": [
    {
     "name": "stdout",
     "output_type": "stream",
     "text": [
      "2\n"
     ]
    },
    {
     "data": {
      "text/plain": [
       "<matplotlib.image.AxesImage at 0x7fc7c8d2ad68>"
      ]
     },
     "execution_count": 9,
     "metadata": {},
     "output_type": "execute_result"
    },
    {
     "data": {
      "image/png": "[encoded data removed]",
      "text/plain": [
       "<Figure size 432x288 with 1 Axes>"
      ]
     },
     "metadata": {
      "needs_background": "light"
     },
     "output_type": "display_data"
    }
   ],
   "source": [
    "image_index = 7776 # You may select anything up to 60,000\n",
    "print(train_labels[image_index]) \n",
    "plt.imshow(train_images[image_index], cmap='Greys')"
   ]
  },
  {
   "cell_type": "markdown",
   "id": "a8d2388d",
   "metadata": {
    "papermill": {
     "duration": 0.02604,
     "end_time": "2022-11-25T10:10:44.332043",
     "exception": false,
     "start_time": "2022-11-25T10:10:44.306003",
     "status": "completed"
    },
    "tags": []
   },
   "source": [
    "## Filter data to get 3 and 8 out"
   ]
  },
  {
   "cell_type": "code",
   "execution_count": 10,
   "id": "776f7fc7",
   "metadata": {
    "execution": {
     "iopub.execute_input": "2022-11-25T10:10:44.391368Z",
     "iopub.status.busy": "2022-11-25T10:10:44.390732Z",
     "iopub.status.idle": "2022-11-25T10:10:44.407447Z",
     "shell.execute_reply": "2022-11-25T10:10:44.406920Z"
    },
    "papermill": {
     "duration": 0.049453,
     "end_time": "2022-11-25T10:10:44.407563",
     "exception": false,
     "start_time": "2022-11-25T10:10:44.358110",
     "status": "completed"
    },
    "tags": []
   },
   "outputs": [],
   "source": [
    "train_filter = np.where((train_labels == 3 ) | (train_labels == 8))\n",
    "test_filter = np.where((test_labels == 3) | (test_labels == 8))\n",
    "X_train, y_train = train_images[train_filter], train_labels[train_filter]\n",
    "X_test, y_test = test_images[test_filter], test_labels[test_filter]"
   ]
  },
  {
   "cell_type": "markdown",
   "id": "948f0b7e",
   "metadata": {
    "papermill": {
     "duration": 0.026208,
     "end_time": "2022-11-25T10:10:44.460086",
     "exception": false,
     "start_time": "2022-11-25T10:10:44.433878",
     "status": "completed"
    },
    "tags": []
   },
   "source": [
    "We normalize the pizel values in the 0 to 1 range"
   ]
  },
  {
   "cell_type": "code",
   "execution_count": 11,
   "id": "ee4c2166",
   "metadata": {
    "execution": {
     "iopub.execute_input": "2022-11-25T10:10:44.516555Z",
     "iopub.status.busy": "2022-11-25T10:10:44.515953Z",
     "iopub.status.idle": "2022-11-25T10:10:44.564129Z",
     "shell.execute_reply": "2022-11-25T10:10:44.563547Z"
    },
    "papermill": {
     "duration": 0.078111,
     "end_time": "2022-11-25T10:10:44.564260",
     "exception": false,
     "start_time": "2022-11-25T10:10:44.486149",
     "status": "completed"
    },
    "tags": []
   },
   "outputs": [],
   "source": [
    "X_train = X_train/255.\n",
    "X_test = X_test/255."
   ]
  },
  {
   "cell_type": "markdown",
   "id": "ddcf4fab",
   "metadata": {
    "papermill": {
     "duration": 0.025997,
     "end_time": "2022-11-25T10:10:44.617705",
     "exception": false,
     "start_time": "2022-11-25T10:10:44.591708",
     "status": "completed"
    },
    "tags": []
   },
   "source": [
    "And setup the labels as 1 (when the digit is 3) and 0 (when the digit is 8)"
   ]
  },
  {
   "cell_type": "code",
   "execution_count": 12,
   "id": "7dc908f2",
   "metadata": {
    "execution": {
     "iopub.execute_input": "2022-11-25T10:10:44.673782Z",
     "iopub.status.busy": "2022-11-25T10:10:44.673206Z",
     "iopub.status.idle": "2022-11-25T10:10:44.685102Z",
     "shell.execute_reply": "2022-11-25T10:10:44.685659Z"
    },
    "papermill": {
     "duration": 0.042073,
     "end_time": "2022-11-25T10:10:44.685791",
     "exception": false,
     "start_time": "2022-11-25T10:10:44.643718",
     "status": "completed"
    },
    "tags": []
   },
   "outputs": [],
   "source": [
    "y_train = 1*(y_train==3)\n",
    "y_test = 1*(y_test==3)"
   ]
  },
  {
   "cell_type": "code",
   "execution_count": 13,
   "id": "01e4e969",
   "metadata": {
    "execution": {
     "iopub.execute_input": "2022-11-25T10:10:44.742293Z",
     "iopub.status.busy": "2022-11-25T10:10:44.741704Z",
     "iopub.status.idle": "2022-11-25T10:10:44.756170Z",
     "shell.execute_reply": "2022-11-25T10:10:44.755687Z"
    },
    "papermill": {
     "duration": 0.04423,
     "end_time": "2022-11-25T10:10:44.756283",
     "exception": false,
     "start_time": "2022-11-25T10:10:44.712053",
     "status": "completed"
    },
    "tags": []
   },
   "outputs": [
    {
     "data": {
      "text/plain": [
       "((11982, 28, 28), (1984, 28, 28))"
      ]
     },
     "execution_count": 13,
     "metadata": {},
     "output_type": "execute_result"
    }
   ],
   "source": [
    "X_train.shape, X_test.shape"
   ]
  },
  {
   "cell_type": "markdown",
   "id": "5ccf3f85",
   "metadata": {
    "papermill": {
     "duration": 0.026484,
     "end_time": "2022-11-25T10:10:44.809439",
     "exception": false,
     "start_time": "2022-11-25T10:10:44.782955",
     "status": "completed"
    },
    "tags": []
   },
   "source": [
    "We reshape the data to flatten the image pixels into a set of features or co-variates:"
   ]
  },
  {
   "cell_type": "code",
   "execution_count": 14,
   "id": "5286a4a3",
   "metadata": {
    "execution": {
     "iopub.execute_input": "2022-11-25T10:10:44.872086Z",
     "iopub.status.busy": "2022-11-25T10:10:44.871462Z",
     "iopub.status.idle": "2022-11-25T10:10:44.882146Z",
     "shell.execute_reply": "2022-11-25T10:10:44.882657Z"
    },
    "papermill": {
     "duration": 0.046761,
     "end_time": "2022-11-25T10:10:44.882796",
     "exception": false,
     "start_time": "2022-11-25T10:10:44.836035",
     "status": "completed"
    },
    "tags": []
   },
   "outputs": [
    {
     "data": {
      "text/plain": [
       "((11982, 784), (1984, 784))"
      ]
     },
     "execution_count": 14,
     "metadata": {},
     "output_type": "execute_result"
    }
   ],
   "source": [
    "X_train = X_train.reshape(X_train.shape[0], -1)\n",
    "X_test = X_test.reshape(X_test.shape[0], -1)\n",
    "X_train.shape, X_test.shape"
   ]
  },
  {
   "cell_type": "code",
   "execution_count": 15,
   "id": "73c5f88a",
   "metadata": {
    "execution": {
     "iopub.execute_input": "2022-11-25T10:10:44.941770Z",
     "iopub.status.busy": "2022-11-25T10:10:44.941168Z",
     "iopub.status.idle": "2022-11-25T10:10:44.960044Z",
     "shell.execute_reply": "2022-11-25T10:10:44.960511Z"
    },
    "papermill": {
     "duration": 0.051038,
     "end_time": "2022-11-25T10:10:44.960648",
     "exception": false,
     "start_time": "2022-11-25T10:10:44.909610",
     "status": "completed"
    },
    "tags": []
   },
   "outputs": [],
   "source": [
    "#Impoting functions from 'Kudzu'\n",
    "from kudzu.model import Model\n",
    "from kudzu.train import Learner\n",
    "from kudzu.optim import GD\n",
    "from kudzu.data import Data, Sampler,Dataloader\n",
    "\n",
    "from kudzu.callbacks import AccCallback\n",
    "from kudzu.callbacks import ClfCallback\n",
    "\n",
    "from kudzu.loss import MSE\n",
    "\n",
    "from kudzu.layer import Sigmoid,Relu\n",
    "from kudzu.layer import Affine"
   ]
  },
  {
   "cell_type": "markdown",
   "id": "bc01172a",
   "metadata": {
    "papermill": {
     "duration": 0.026764,
     "end_time": "2022-11-25T10:10:45.014338",
     "exception": false,
     "start_time": "2022-11-25T10:10:44.987574",
     "status": "completed"
    },
    "tags": []
   },
   "source": [
    "### Let us create a `Config` class, to store important parameters. \n",
    "This class essentially plays the role of a dictionary."
   ]
  },
  {
   "cell_type": "code",
   "execution_count": 16,
   "id": "978281aa",
   "metadata": {
    "execution": {
     "iopub.execute_input": "2022-11-25T10:10:45.075625Z",
     "iopub.status.busy": "2022-11-25T10:10:45.074973Z",
     "iopub.status.idle": "2022-11-25T10:10:45.086356Z",
     "shell.execute_reply": "2022-11-25T10:10:45.085847Z"
    },
    "papermill": {
     "duration": 0.045384,
     "end_time": "2022-11-25T10:10:45.086482",
     "exception": false,
     "start_time": "2022-11-25T10:10:45.041098",
     "status": "completed"
    },
    "tags": []
   },
   "outputs": [],
   "source": [
    "class Config:\n",
    "    pass\n",
    "config = Config()\n",
    "config.lr = 0.001\n",
    "config.num_epochs = 250\n",
    "config.bs = 50"
   ]
  },
  {
   "cell_type": "markdown",
   "id": "1385fa59",
   "metadata": {
    "papermill": {
     "duration": 0.026899,
     "end_time": "2022-11-25T10:10:45.140199",
     "exception": false,
     "start_time": "2022-11-25T10:10:45.113300",
     "status": "completed"
    },
    "tags": []
   },
   "source": [
    "### Running Models with the Training data\n",
    "Details about the network layers:\n",
    "- A first affine layer has 784 inputs and does 100 affine transforms. These are followed by a Relu\n",
    "- A second affine layer has 100 inputs from the 100 activations of the past layer, and does 100 affine transforms. These are followed by a Relu\n",
    "- A third affine layer has 100 activations and does 2 affine transformations to create an embedding for visualization. There is no non-linearity here.\n",
    "- A final \"logistic regression\" which has an affine transform from 2 inputs to 1 output, which is squeezed through a sigmoid.\n"
   ]
  },
  {
   "cell_type": "code",
   "execution_count": 17,
   "id": "2b9c66db",
   "metadata": {
    "execution": {
     "iopub.execute_input": "2022-11-25T10:10:45.198147Z",
     "iopub.status.busy": "2022-11-25T10:10:45.197544Z",
     "iopub.status.idle": "2022-11-25T10:10:45.210535Z",
     "shell.execute_reply": "2022-11-25T10:10:45.209918Z"
    },
    "papermill": {
     "duration": 0.043709,
     "end_time": "2022-11-25T10:10:45.210651",
     "exception": false,
     "start_time": "2022-11-25T10:10:45.166942",
     "status": "completed"
    },
    "tags": []
   },
   "outputs": [],
   "source": [
    "data = Data(X_train, y_train.reshape(-1,1))\n",
    "sampler = Sampler(data, config.bs, shuffle=True)\n",
    "\n",
    "dl = Dataloader(data, sampler)\n",
    "\n",
    "opt = GD(config.lr)\n",
    "loss = MSE()"
   ]
  },
  {
   "cell_type": "code",
   "execution_count": 18,
   "id": "b275e4c2",
   "metadata": {
    "execution": {
     "iopub.execute_input": "2022-11-25T10:10:45.268551Z",
     "iopub.status.busy": "2022-11-25T10:10:45.267955Z",
     "iopub.status.idle": "2022-11-25T10:10:45.280415Z",
     "shell.execute_reply": "2022-11-25T10:10:45.279934Z"
    },
    "papermill": {
     "duration": 0.043211,
     "end_time": "2022-11-25T10:10:45.280525",
     "exception": false,
     "start_time": "2022-11-25T10:10:45.237314",
     "status": "completed"
    },
    "tags": []
   },
   "outputs": [],
   "source": [
    "training_data_x = X_train\n",
    "testing_data_x = X_test\n",
    "training_data_y = y_train.reshape(-1,1)\n",
    "testing_data_y = y_test.reshape(-1,1)"
   ]
  },
  {
   "cell_type": "code",
   "execution_count": 19,
   "id": "76951160",
   "metadata": {
    "execution": {
     "iopub.execute_input": "2022-11-25T10:10:45.340088Z",
     "iopub.status.busy": "2022-11-25T10:10:45.339485Z",
     "iopub.status.idle": "2022-11-25T10:10:45.355150Z",
     "shell.execute_reply": "2022-11-25T10:10:45.354571Z"
    },
    "papermill": {
     "duration": 0.04831,
     "end_time": "2022-11-25T10:10:45.355263",
     "exception": false,
     "start_time": "2022-11-25T10:10:45.306953",
     "status": "completed"
    },
    "tags": []
   },
   "outputs": [
    {
     "name": "stdout",
     "output_type": "stream",
     "text": [
      "xavier\n",
      "xavier\n",
      "xavier\n",
      "xavier\n",
      "xavier\n"
     ]
    }
   ],
   "source": [
    "layers = [Affine(\"first\", 784, 100), Relu(\"first\"), Affine(\"second\", 100, 100), Relu(\"second\"), Affine(\"third\", 100, 2), Affine(\"last\", 2, 1), Sigmoid(\"last\")]\n",
    "model_nn = Model(layers)\n",
    "model_lr = Model([Affine(\"logits\", 784, 1), Sigmoid(\"sigmoid\")])"
   ]
  },
  {
   "cell_type": "code",
   "execution_count": 20,
   "id": "6eede77a",
   "metadata": {
    "execution": {
     "iopub.execute_input": "2022-11-25T10:10:45.412572Z",
     "iopub.status.busy": "2022-11-25T10:10:45.411988Z",
     "iopub.status.idle": "2022-11-25T10:10:45.425879Z",
     "shell.execute_reply": "2022-11-25T10:10:45.425401Z"
    },
    "papermill": {
     "duration": 0.043662,
     "end_time": "2022-11-25T10:10:45.425987",
     "exception": false,
     "start_time": "2022-11-25T10:10:45.382325",
     "status": "completed"
    },
    "tags": []
   },
   "outputs": [],
   "source": [
    "nn_learner = Learner(loss, model_nn, opt, config.num_epochs)\n",
    "acc_nn = ClfCallback(nn_learner, config.bs, training_data_x , testing_data_x, training_data_y, testing_data_y)\n",
    "nn_learner.set_callbacks([acc_nn])"
   ]
  },
  {
   "cell_type": "code",
   "execution_count": 21,
   "id": "877b6cc7",
   "metadata": {
    "execution": {
     "iopub.execute_input": "2022-11-25T10:10:45.485034Z",
     "iopub.status.busy": "2022-11-25T10:10:45.484410Z",
     "iopub.status.idle": "2022-11-25T10:10:45.498091Z",
     "shell.execute_reply": "2022-11-25T10:10:45.497612Z"
    },
    "papermill": {
     "duration": 0.045217,
     "end_time": "2022-11-25T10:10:45.498200",
     "exception": false,
     "start_time": "2022-11-25T10:10:45.452983",
     "status": "completed"
    },
    "tags": []
   },
   "outputs": [],
   "source": [
    "lr_learner = Learner(loss, model_lr, opt, config.num_epochs)\n",
    "acc_lr = ClfCallback(lr_learner, config.bs, training_data_x , testing_data_x, training_data_y, testing_data_y)\n",
    "lr_learner.set_callbacks([acc_lr])"
   ]
  },
  {
   "cell_type": "code",
   "execution_count": 22,
   "id": "d9b133c3",
   "metadata": {
    "execution": {
     "iopub.execute_input": "2022-11-25T10:10:45.557029Z",
     "iopub.status.busy": "2022-11-25T10:10:45.556449Z",
     "iopub.status.idle": "2022-11-25T10:12:01.205361Z",
     "shell.execute_reply": "2022-11-25T10:12:01.205978Z"
    },
    "papermill": {
     "duration": 75.680607,
     "end_time": "2022-11-25T10:12:01.206117",
     "exception": false,
     "start_time": "2022-11-25T10:10:45.525510",
     "status": "completed"
    },
    "tags": []
   },
   "outputs": [
    {
     "name": "stdout",
     "output_type": "stream",
     "text": [
      "Epoch 0, Loss 0.2488\n",
      "Training Accuracy: 0.7909, Testing Accuracy: 0.8165\n",
      "\n"
     ]
    },
    {
     "name": "stdout",
     "output_type": "stream",
     "text": [
      "Epoch 10, Loss 0.0537\n",
      "Training Accuracy: 0.9402, Testing Accuracy: 0.9572\n",
      "\n"
     ]
    },
    {
     "name": "stdout",
     "output_type": "stream",
     "text": [
      "Epoch 20, Loss 0.0397\n",
      "Training Accuracy: 0.9538, Testing Accuracy: 0.9657\n",
      "\n"
     ]
    },
    {
     "name": "stdout",
     "output_type": "stream",
     "text": [
      "Epoch 30, Loss 0.0343\n",
      "Training Accuracy: 0.9599, Testing Accuracy: 0.9688\n",
      "\n"
     ]
    },
    {
     "name": "stdout",
     "output_type": "stream",
     "text": [
      "Epoch 40, Loss 0.0311\n",
      "Training Accuracy: 0.9634, Testing Accuracy: 0.9703\n",
      "\n"
     ]
    },
    {
     "name": "stdout",
     "output_type": "stream",
     "text": [
      "Epoch 50, Loss 0.0289\n",
      "Training Accuracy: 0.9658, Testing Accuracy: 0.9693\n",
      "\n"
     ]
    },
    {
     "name": "stdout",
     "output_type": "stream",
     "text": [
      "Epoch 60, Loss 0.0272\n",
      "Training Accuracy: 0.9672, Testing Accuracy: 0.9713\n",
      "\n"
     ]
    },
    {
     "name": "stdout",
     "output_type": "stream",
     "text": [
      "Epoch 70, Loss 0.0259\n",
      "Training Accuracy: 0.9692, Testing Accuracy: 0.9713\n",
      "\n"
     ]
    },
    {
     "name": "stdout",
     "output_type": "stream",
     "text": [
      "Epoch 80, Loss 0.0249\n",
      "Training Accuracy: 0.9701, Testing Accuracy: 0.9718\n",
      "\n"
     ]
    },
    {
     "name": "stdout",
     "output_type": "stream",
     "text": [
      "Epoch 90, Loss 0.0239\n",
      "Training Accuracy: 0.9721, Testing Accuracy: 0.9728\n",
      "\n"
     ]
    },
    {
     "name": "stdout",
     "output_type": "stream",
     "text": [
      "Epoch 100, Loss 0.0231\n",
      "Training Accuracy: 0.9729, Testing Accuracy: 0.9738\n",
      "\n"
     ]
    },
    {
     "name": "stdout",
     "output_type": "stream",
     "text": [
      "Epoch 110, Loss 0.0223\n",
      "Training Accuracy: 0.9738, Testing Accuracy: 0.9748\n",
      "\n"
     ]
    },
    {
     "name": "stdout",
     "output_type": "stream",
     "text": [
      "Epoch 120, Loss 0.0217\n",
      "Training Accuracy: 0.9743, Testing Accuracy: 0.9743\n",
      "\n"
     ]
    },
    {
     "name": "stdout",
     "output_type": "stream",
     "text": [
      "Epoch 130, Loss 0.0211\n",
      "Training Accuracy: 0.9755, Testing Accuracy: 0.9748\n",
      "\n"
     ]
    },
    {
     "name": "stdout",
     "output_type": "stream",
     "text": [
      "Epoch 140, Loss 0.0205\n",
      "Training Accuracy: 0.9764, Testing Accuracy: 0.9748\n",
      "\n"
     ]
    },
    {
     "name": "stdout",
     "output_type": "stream",
     "text": [
      "Epoch 150, Loss 0.02\n",
      "Training Accuracy: 0.9765, Testing Accuracy: 0.9758\n",
      "\n"
     ]
    },
    {
     "name": "stdout",
     "output_type": "stream",
     "text": [
      "Epoch 160, Loss 0.0195\n",
      "Training Accuracy: 0.9779, Testing Accuracy: 0.9753\n",
      "\n"
     ]
    },
    {
     "name": "stdout",
     "output_type": "stream",
     "text": [
      "Epoch 170, Loss 0.019\n",
      "Training Accuracy: 0.9785, Testing Accuracy: 0.9753\n",
      "\n"
     ]
    },
    {
     "name": "stdout",
     "output_type": "stream",
     "text": [
      "Epoch 180, Loss 0.0185\n",
      "Training Accuracy: 0.9789, Testing Accuracy: 0.9758\n",
      "\n"
     ]
    },
    {
     "name": "stdout",
     "output_type": "stream",
     "text": [
      "Epoch 190, Loss 0.0181\n",
      "Training Accuracy: 0.9795, Testing Accuracy: 0.9758\n",
      "\n"
     ]
    },
    {
     "name": "stdout",
     "output_type": "stream",
     "text": [
      "Epoch 200, Loss 0.0176\n",
      "Training Accuracy: 0.9797, Testing Accuracy: 0.9763\n",
      "\n"
     ]
    },
    {
     "name": "stdout",
     "output_type": "stream",
     "text": [
      "Epoch 210, Loss 0.0172\n",
      "Training Accuracy: 0.9801, Testing Accuracy: 0.9763\n",
      "\n"
     ]
    },
    {
     "name": "stdout",
     "output_type": "stream",
     "text": [
      "Epoch 220, Loss 0.0168\n",
      "Training Accuracy: 0.9811, Testing Accuracy: 0.9763\n",
      "\n"
     ]
    },
    {
     "name": "stdout",
     "output_type": "stream",
     "text": [
      "Epoch 230, Loss 0.0164\n",
      "Training Accuracy: 0.9813, Testing Accuracy: 0.9768\n",
      "\n"
     ]
    },
    {
     "name": "stdout",
     "output_type": "stream",
     "text": [
      "Epoch 240, Loss 0.016\n",
      "Training Accuracy: 0.9819, Testing Accuracy: 0.9773\n",
      "\n"
     ]
    },
    {
     "data": {
      "text/plain": [
       "0.001685389625045227"
      ]
     },
     "execution_count": 22,
     "metadata": {},
     "output_type": "execute_result"
    }
   ],
   "source": [
    "nn_learner.train_loop(dl)"
   ]
  },
  {
   "cell_type": "code",
   "execution_count": 23,
   "id": "e0163366",
   "metadata": {
    "execution": {
     "iopub.execute_input": "2022-11-25T10:12:01.284048Z",
     "iopub.status.busy": "2022-11-25T10:12:01.283455Z",
     "iopub.status.idle": "2022-11-25T10:12:14.722113Z",
     "shell.execute_reply": "2022-11-25T10:12:14.722705Z"
    },
    "papermill": {
     "duration": 13.482146,
     "end_time": "2022-11-25T10:12:14.722842",
     "exception": false,
     "start_time": "2022-11-25T10:12:01.240696",
     "status": "completed"
    },
    "tags": []
   },
   "outputs": [
    {
     "name": "stdout",
     "output_type": "stream",
     "text": [
      "Epoch 0, Loss 0.2329\n",
      "Training Accuracy: 0.7006, Testing Accuracy: 0.7314\n",
      "\n"
     ]
    },
    {
     "name": "stdout",
     "output_type": "stream",
     "text": [
      "Epoch 10, Loss 0.1019\n",
      "Training Accuracy: 0.9107, Testing Accuracy: 0.9168\n",
      "\n"
     ]
    },
    {
     "name": "stdout",
     "output_type": "stream",
     "text": [
      "Epoch 20, Loss 0.0789\n",
      "Training Accuracy: 0.9271, Testing Accuracy: 0.9350\n",
      "\n"
     ]
    },
    {
     "name": "stdout",
     "output_type": "stream",
     "text": [
      "Epoch 30, Loss 0.0681\n",
      "Training Accuracy: 0.9370, Testing Accuracy: 0.9486\n",
      "\n"
     ]
    },
    {
     "name": "stdout",
     "output_type": "stream",
     "text": [
      "Epoch 40, Loss 0.0615\n",
      "Training Accuracy: 0.9412, Testing Accuracy: 0.9531\n",
      "\n"
     ]
    },
    {
     "name": "stdout",
     "output_type": "stream",
     "text": [
      "Epoch 50, Loss 0.0571\n",
      "Training Accuracy: 0.9449, Testing Accuracy: 0.9572\n",
      "\n"
     ]
    },
    {
     "name": "stdout",
     "output_type": "stream",
     "text": [
      "Epoch 60, Loss 0.0538\n",
      "Training Accuracy: 0.9469, Testing Accuracy: 0.9572\n",
      "\n"
     ]
    },
    {
     "name": "stdout",
     "output_type": "stream",
     "text": [
      "Epoch 70, Loss 0.0512\n",
      "Training Accuracy: 0.9488, Testing Accuracy: 0.9587\n",
      "\n"
     ]
    },
    {
     "name": "stdout",
     "output_type": "stream",
     "text": [
      "Epoch 80, Loss 0.0492\n",
      "Training Accuracy: 0.9507, Testing Accuracy: 0.9602\n",
      "\n"
     ]
    },
    {
     "name": "stdout",
     "output_type": "stream",
     "text": [
      "Epoch 90, Loss 0.0475\n",
      "Training Accuracy: 0.9528, Testing Accuracy: 0.9607\n",
      "\n"
     ]
    },
    {
     "name": "stdout",
     "output_type": "stream",
     "text": [
      "Epoch 100, Loss 0.046\n",
      "Training Accuracy: 0.9545, Testing Accuracy: 0.9632\n",
      "\n"
     ]
    },
    {
     "name": "stdout",
     "output_type": "stream",
     "text": [
      "Epoch 110, Loss 0.0448\n",
      "Training Accuracy: 0.9552, Testing Accuracy: 0.9642\n",
      "\n"
     ]
    },
    {
     "name": "stdout",
     "output_type": "stream",
     "text": [
      "Epoch 120, Loss 0.0438\n",
      "Training Accuracy: 0.9560, Testing Accuracy: 0.9637\n",
      "\n"
     ]
    },
    {
     "name": "stdout",
     "output_type": "stream",
     "text": [
      "Epoch 130, Loss 0.0428\n",
      "Training Accuracy: 0.9567, Testing Accuracy: 0.9642\n",
      "\n"
     ]
    },
    {
     "name": "stdout",
     "output_type": "stream",
     "text": [
      "Epoch 140, Loss 0.042\n",
      "Training Accuracy: 0.9569, Testing Accuracy: 0.9642\n",
      "\n"
     ]
    },
    {
     "name": "stdout",
     "output_type": "stream",
     "text": [
      "Epoch 150, Loss 0.0413\n",
      "Training Accuracy: 0.9574, Testing Accuracy: 0.9642\n",
      "\n"
     ]
    },
    {
     "name": "stdout",
     "output_type": "stream",
     "text": [
      "Epoch 160, Loss 0.0406\n",
      "Training Accuracy: 0.9582, Testing Accuracy: 0.9652\n",
      "\n"
     ]
    },
    {
     "name": "stdout",
     "output_type": "stream",
     "text": [
      "Epoch 170, Loss 0.04\n",
      "Training Accuracy: 0.9588, Testing Accuracy: 0.9667\n",
      "\n"
     ]
    },
    {
     "name": "stdout",
     "output_type": "stream",
     "text": [
      "Epoch 180, Loss 0.0394\n",
      "Training Accuracy: 0.9590, Testing Accuracy: 0.9667\n",
      "\n"
     ]
    },
    {
     "name": "stdout",
     "output_type": "stream",
     "text": [
      "Epoch 190, Loss 0.0389\n",
      "Training Accuracy: 0.9599, Testing Accuracy: 0.9672\n",
      "\n"
     ]
    },
    {
     "name": "stdout",
     "output_type": "stream",
     "text": [
      "Epoch 200, Loss 0.0384\n",
      "Training Accuracy: 0.9604, Testing Accuracy: 0.9672\n",
      "\n"
     ]
    },
    {
     "name": "stdout",
     "output_type": "stream",
     "text": [
      "Epoch 210, Loss 0.038\n",
      "Training Accuracy: 0.9607, Testing Accuracy: 0.9677\n",
      "\n"
     ]
    },
    {
     "name": "stdout",
     "output_type": "stream",
     "text": [
      "Epoch 220, Loss 0.0376\n",
      "Training Accuracy: 0.9610, Testing Accuracy: 0.9677\n",
      "\n"
     ]
    },
    {
     "name": "stdout",
     "output_type": "stream",
     "text": [
      "Epoch 230, Loss 0.0372\n",
      "Training Accuracy: 0.9614, Testing Accuracy: 0.9672\n",
      "\n"
     ]
    },
    {
     "name": "stdout",
     "output_type": "stream",
     "text": [
      "Epoch 240, Loss 0.0368\n",
      "Training Accuracy: 0.9614, Testing Accuracy: 0.9677\n",
      "\n"
     ]
    },
    {
     "data": {
      "text/plain": [
       "0.026798379862210925"
      ]
     },
     "execution_count": 23,
     "metadata": {},
     "output_type": "execute_result"
    }
   ],
   "source": [
    "lr_learner.train_loop(dl)"
   ]
  },
  {
   "cell_type": "code",
   "execution_count": 24,
   "id": "ca410940",
   "metadata": {
    "execution": {
     "iopub.execute_input": "2022-11-25T10:12:14.809118Z",
     "iopub.status.busy": "2022-11-25T10:12:14.808517Z",
     "iopub.status.idle": "2022-11-25T10:12:15.033080Z",
     "shell.execute_reply": "2022-11-25T10:12:15.033523Z"
    },
    "papermill": {
     "duration": 0.269768,
     "end_time": "2022-11-25T10:12:15.033664",
     "exception": false,
     "start_time": "2022-11-25T10:12:14.763896",
     "status": "completed"
    },
    "tags": []
   },
   "outputs": [
    {
     "data": {
      "text/plain": [
       "<matplotlib.legend.Legend at 0x7fc7c8897470>"
      ]
     },
     "execution_count": 24,
     "metadata": {},
     "output_type": "execute_result"
    },
    {
     "data": {
      "image/png": "[encoded data removed]",
      "text/plain": [
       "<Figure size 1080x720 with 1 Axes>"
      ]
     },
     "metadata": {
      "needs_background": "light"
     },
     "output_type": "display_data"
    }
   ],
   "source": [
    "#comparing the results of NN and LR\n",
    "plt.figure(figsize=(15,10))\n",
    "\n",
    "# Neural Network plots\n",
    "plt.plot(acc_nn.accuracies, 'r-', label = \"Training Accuracies - NN\")\n",
    "plt.plot(acc_nn.test_accuracies, 'g-', label = \"Testing Accuracies - NN\")\n",
    "\n",
    "# Logistic Regression plots\n",
    "plt.plot(acc_lr.accuracies, 'k-', label = \"Training Accuracies - LR\")\n",
    "plt.plot(acc_lr.test_accuracies, 'b-', label = \"Testing Accuracies - LR\")\n",
    "plt.legend()"
   ]
  },
  {
   "cell_type": "markdown",
   "id": "80dfb35c",
   "metadata": {
    "papermill": {
     "duration": 0.041711,
     "end_time": "2022-11-25T10:12:15.118051",
     "exception": false,
     "start_time": "2022-11-25T10:12:15.076340",
     "status": "completed"
    },
    "tags": []
   },
   "source": [
    "#### Plotting the outputs of this layer of the NN.\n"
   ]
  },
  {
   "cell_type": "code",
   "execution_count": 25,
   "id": "45eb2ff5",
   "metadata": {
    "execution": {
     "iopub.execute_input": "2022-11-25T10:12:15.206041Z",
     "iopub.status.busy": "2022-11-25T10:12:15.205442Z",
     "iopub.status.idle": "2022-11-25T10:12:15.226769Z",
     "shell.execute_reply": "2022-11-25T10:12:15.226227Z"
    },
    "papermill": {
     "duration": 0.067028,
     "end_time": "2022-11-25T10:12:15.226884",
     "exception": false,
     "start_time": "2022-11-25T10:12:15.159856",
     "status": "completed"
    },
    "tags": []
   },
   "outputs": [],
   "source": [
    "new_model = Model(layers[:-2])\n",
    "testing_plot = new_model(testing_data_x)"
   ]
  },
  {
   "cell_type": "code",
   "execution_count": 26,
   "id": "4c0a5485",
   "metadata": {
    "execution": {
     "iopub.execute_input": "2022-11-25T10:12:15.318311Z",
     "iopub.status.busy": "2022-11-25T10:12:15.316209Z",
     "iopub.status.idle": "2022-11-25T10:12:15.516377Z",
     "shell.execute_reply": "2022-11-25T10:12:15.515782Z"
    },
    "papermill": {
     "duration": 0.247452,
     "end_time": "2022-11-25T10:12:15.516494",
     "exception": false,
     "start_time": "2022-11-25T10:12:15.269042",
     "status": "completed"
    },
    "tags": []
   },
   "outputs": [
    {
     "data": {
      "text/plain": [
       "Text(0.5, 1.0, 'Outputs')"
      ]
     },
     "execution_count": 26,
     "metadata": {},
     "output_type": "execute_result"
    },
    {
     "data": {
      "image/png": "[encoded data removed]",
      "text/plain": [
       "<Figure size 576x504 with 1 Axes>"
      ]
     },
     "metadata": {
      "needs_background": "light"
     },
     "output_type": "display_data"
    }
   ],
   "source": [
    "# Plotting the scatter plot of points and color coding by class\n",
    "plt.figure(figsize=(8,7))\n",
    "plt.scatter(testing_plot[:,0], testing_plot[:,1], alpha = 0.1, c = y_test.ravel());\n",
    "plt.title('Outputs')"
   ]
  },
  {
   "cell_type": "markdown",
   "id": "a74fcf8f",
   "metadata": {
    "papermill": {
     "duration": 0.044533,
     "end_time": "2022-11-25T10:12:15.605767",
     "exception": false,
     "start_time": "2022-11-25T10:12:15.561234",
     "status": "completed"
    },
    "tags": []
   },
   "source": [
    "Probability contours"
   ]
  },
  {
   "cell_type": "code",
   "execution_count": 27,
   "id": "d0afc8e3",
   "metadata": {
    "execution": {
     "iopub.execute_input": "2022-11-25T10:12:15.706255Z",
     "iopub.status.busy": "2022-11-25T10:12:15.704280Z",
     "iopub.status.idle": "2022-11-25T10:12:15.715024Z",
     "shell.execute_reply": "2022-11-25T10:12:15.714543Z"
    },
    "papermill": {
     "duration": 0.064615,
     "end_time": "2022-11-25T10:12:15.715135",
     "exception": false,
     "start_time": "2022-11-25T10:12:15.650520",
     "status": "completed"
    },
    "tags": []
   },
   "outputs": [],
   "source": [
    "model_prob = Model(layers[-2:]) "
   ]
  },
  {
   "cell_type": "code",
   "execution_count": 28,
   "id": "9b96e238",
   "metadata": {
    "execution": {
     "iopub.execute_input": "2022-11-25T10:12:15.812087Z",
     "iopub.status.busy": "2022-11-25T10:12:15.810325Z",
     "iopub.status.idle": "2022-11-25T10:12:15.827218Z",
     "shell.execute_reply": "2022-11-25T10:12:15.827648Z"
    },
    "papermill": {
     "duration": 0.067967,
     "end_time": "2022-11-25T10:12:15.827784",
     "exception": false,
     "start_time": "2022-11-25T10:12:15.759817",
     "status": "completed"
    },
    "tags": []
   },
   "outputs": [],
   "source": [
    "#creating the x and y ranges according to the above generated plot.\n",
    "x_range = np.linspace(-4, 1, 100) \n",
    "y_range = np.linspace(-6, 6, 100) \n",
    "x_grid, y_grid = np.meshgrid(x_range, y_range) # x_grid and y_grig are of size 100 X 100\n",
    "\n",
    "# converting x_grid and y_grid to continuous arrays\n",
    "x_gridflat = np.ravel(x_grid)\n",
    "y_gridflat = np.ravel(y_grid)\n",
    "\n",
    "# The last layer of the current model takes two columns as input. Hence transpose of np.vstack() is required.\n",
    "X = np.vstack((x_gridflat, y_gridflat)).T\n",
    "\n",
    "prob_contour = model_prob(X).reshape(100,100) "
   ]
  },
  {
   "cell_type": "code",
   "execution_count": 29,
   "id": "da72499a",
   "metadata": {
    "execution": {
     "iopub.execute_input": "2022-11-25T10:12:15.953948Z",
     "iopub.status.busy": "2022-11-25T10:12:15.951767Z",
     "iopub.status.idle": "2022-11-25T10:12:16.184891Z",
     "shell.execute_reply": "2022-11-25T10:12:16.185352Z"
    },
    "papermill": {
     "duration": 0.283745,
     "end_time": "2022-11-25T10:12:16.185493",
     "exception": false,
     "start_time": "2022-11-25T10:12:15.901748",
     "status": "completed"
    },
    "tags": []
   },
   "outputs": [
    {
     "data": {
      "image/png": "[encoded data removed]",
      "text/plain": [
       "<Figure size 720x648 with 1 Axes>"
      ]
     },
     "metadata": {
      "needs_background": "light"
     },
     "output_type": "display_data"
    }
   ],
   "source": [
    "plt.figure(figsize=(10,9))\n",
    "plt.scatter(testing_plot[:,0], testing_plot[:,1], alpha = 0.1, c = y_test.ravel())\n",
    "contours = plt.contour(x_grid,y_grid,prob_contour)\n",
    "plt.title('Probability Contours')\n",
    "plt.clabel(contours, inline = True );"
   ]
  },
  {
   "cell_type": "code",
   "execution_count": null,
   "id": "e81b4ac7",
   "metadata": {
    "papermill": {
     "duration": 0.050108,
     "end_time": "2022-11-25T10:12:16.282950",
     "exception": false,
     "start_time": "2022-11-25T10:12:16.232842",
     "status": "completed"
    },
    "tags": []
   },
   "outputs": [],
   "source": []
  }
 ],
 "metadata": {
  "kernelspec": {
   "display_name": "Python 3",
   "language": "python",
   "name": "python3"
  },
  "language_info": {
   "codemirror_mode": {
    "name": "ipython",
    "version": 3
   },
   "file_extension": ".py",
   "mimetype": "text/x-python",
   "name": "python",
   "nbconvert_exporter": "python",
   "pygments_lexer": "ipython3",
   "version": "3.6.15"
  },
  "papermill": {
   "default_parameters": {},
   "duration": 98.299567,
   "end_time": "2022-11-25T10:12:16.748610",
   "environment_variables": {},
   "exception": null,
   "input_path": "2020-08-11-part2.ipynb",
   "output_path": "2020-08-11-part2.ipynb",
   "parameters": {},
   "start_time": "2022-11-25T10:10:38.449043",
   "version": "2.3.3"
  }
 },
 "nbformat": 4,
 "nbformat_minor": 5
}