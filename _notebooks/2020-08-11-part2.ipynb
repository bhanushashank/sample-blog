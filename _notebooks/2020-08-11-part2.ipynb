{
 "cells": [
  {
   "cell_type": "markdown",
   "id": "98380cd3",
   "metadata": {
    "papermill": {
     "duration": 0.030247,
     "end_time": "2022-06-10T00:40:29.710674",
     "exception": false,
     "start_time": "2022-06-10T00:40:29.680427",
     "status": "completed"
    },
    "tags": []
   },
   "source": [
    "# Distinguish Your Own Digits (DYOD)"
   ]
  },
  {
   "cell_type": "markdown",
   "id": "ef31240d",
   "metadata": {
    "papermill": {
     "duration": 0.023539,
     "end_time": "2022-06-10T00:40:29.758552",
     "exception": false,
     "start_time": "2022-06-10T00:40:29.735013",
     "status": "completed"
    },
    "tags": []
   },
   "source": [
    "You are going to write a classifier that distinguishes between the number 3 and number 8."
   ]
  },
  {
   "cell_type": "code",
   "execution_count": 1,
   "id": "b15c8646",
   "metadata": {
    "execution": {
     "iopub.execute_input": "2022-06-10T00:40:29.816813Z",
     "iopub.status.busy": "2022-06-10T00:40:29.816201Z",
     "iopub.status.idle": "2022-06-10T00:40:29.827154Z",
     "shell.execute_reply": "2022-06-10T00:40:29.826666Z"
    },
    "papermill": {
     "duration": 0.045082,
     "end_time": "2022-06-10T00:40:29.827279",
     "exception": false,
     "start_time": "2022-06-10T00:40:29.782197",
     "status": "completed"
    },
    "tags": []
   },
   "outputs": [],
   "source": [
    "%load_ext autoreload\n",
    "%autoreload 2"
   ]
  },
  {
   "cell_type": "code",
   "execution_count": 2,
   "id": "22ef38dc",
   "metadata": {
    "execution": {
     "iopub.execute_input": "2022-06-10T00:40:29.878176Z",
     "iopub.status.busy": "2022-06-10T00:40:29.877561Z",
     "iopub.status.idle": "2022-06-10T00:40:30.419160Z",
     "shell.execute_reply": "2022-06-10T00:40:30.419701Z"
    },
    "papermill": {
     "duration": 0.569264,
     "end_time": "2022-06-10T00:40:30.419884",
     "exception": false,
     "start_time": "2022-06-10T00:40:29.850620",
     "status": "completed"
    },
    "tags": []
   },
   "outputs": [],
   "source": [
    "%matplotlib inline\n",
    "import numpy as np\n",
    "import matplotlib.pyplot as plt\n",
    "import pandas as pd"
   ]
  },
  {
   "cell_type": "markdown",
   "id": "ba036198",
   "metadata": {
    "papermill": {
     "duration": 0.023567,
     "end_time": "2022-06-10T00:40:30.467649",
     "exception": false,
     "start_time": "2022-06-10T00:40:30.444082",
     "status": "completed"
    },
    "tags": []
   },
   "source": [
    "From the command line run `pip install mnist`. This is a library that will help you bring down the mnist dataset. If you run this from a notebook, you need to put  `!pip install mnist` in a cell by itself."
   ]
  },
  {
   "cell_type": "code",
   "execution_count": 3,
   "id": "bb6ad8a1",
   "metadata": {
    "execution": {
     "iopub.execute_input": "2022-06-10T00:40:30.532267Z",
     "iopub.status.busy": "2022-06-10T00:40:30.523871Z",
     "iopub.status.idle": "2022-06-10T00:40:32.205198Z",
     "shell.execute_reply": "2022-06-10T00:40:32.204710Z"
    },
    "papermill": {
     "duration": 1.714007,
     "end_time": "2022-06-10T00:40:32.205329",
     "exception": false,
     "start_time": "2022-06-10T00:40:30.491322",
     "status": "completed"
    },
    "tags": []
   },
   "outputs": [
    {
     "name": "stdout",
     "output_type": "stream",
     "text": [
      "Collecting mnist\r\n"
     ]
    },
    {
     "name": "stdout",
     "output_type": "stream",
     "text": [
      "  Downloading mnist-0.2.2-py2.py3-none-any.whl (3.5 kB)\r\n",
      "Requirement already satisfied: numpy in /opt/hostedtoolcache/Python/3.6.15/x64/lib/python3.6/site-packages (from mnist) (1.19.5)\r\n"
     ]
    },
    {
     "name": "stdout",
     "output_type": "stream",
     "text": [
      "Installing collected packages: mnist\r\n",
      "Successfully installed mnist-0.2.2\r\n"
     ]
    }
   ],
   "source": [
    "!pip install mnist"
   ]
  },
  {
   "cell_type": "markdown",
   "id": "69df9c9a",
   "metadata": {
    "papermill": {
     "duration": 0.021434,
     "end_time": "2022-06-10T00:40:32.248540",
     "exception": false,
     "start_time": "2022-06-10T00:40:32.227106",
     "status": "completed"
    },
    "tags": []
   },
   "source": [
    "## Preparing the Data"
   ]
  },
  {
   "cell_type": "code",
   "execution_count": 4,
   "id": "7f69d806",
   "metadata": {
    "execution": {
     "iopub.execute_input": "2022-06-10T00:40:32.296087Z",
     "iopub.status.busy": "2022-06-10T00:40:32.295566Z",
     "iopub.status.idle": "2022-06-10T00:40:32.309519Z",
     "shell.execute_reply": "2022-06-10T00:40:32.310032Z"
    },
    "papermill": {
     "duration": 0.040251,
     "end_time": "2022-06-10T00:40:32.310160",
     "exception": false,
     "start_time": "2022-06-10T00:40:32.269909",
     "status": "completed"
    },
    "tags": []
   },
   "outputs": [],
   "source": [
    "import mnist"
   ]
  },
  {
   "cell_type": "code",
   "execution_count": 5,
   "id": "a411e44f",
   "metadata": {
    "execution": {
     "iopub.execute_input": "2022-06-10T00:40:32.355965Z",
     "iopub.status.busy": "2022-06-10T00:40:32.355455Z",
     "iopub.status.idle": "2022-06-10T00:40:32.889658Z",
     "shell.execute_reply": "2022-06-10T00:40:32.890224Z"
    },
    "papermill": {
     "duration": 0.558907,
     "end_time": "2022-06-10T00:40:32.890402",
     "exception": false,
     "start_time": "2022-06-10T00:40:32.331495",
     "status": "completed"
    },
    "tags": []
   },
   "outputs": [],
   "source": [
    "train_images = mnist.train_images()\n",
    "train_labels = mnist.train_labels()"
   ]
  },
  {
   "cell_type": "code",
   "execution_count": 6,
   "id": "dceab3a5",
   "metadata": {
    "execution": {
     "iopub.execute_input": "2022-06-10T00:40:32.939152Z",
     "iopub.status.busy": "2022-06-10T00:40:32.938550Z",
     "iopub.status.idle": "2022-06-10T00:40:32.953956Z",
     "shell.execute_reply": "2022-06-10T00:40:32.954457Z"
    },
    "papermill": {
     "duration": 0.040439,
     "end_time": "2022-06-10T00:40:32.954576",
     "exception": false,
     "start_time": "2022-06-10T00:40:32.914137",
     "status": "completed"
    },
    "tags": []
   },
   "outputs": [
    {
     "data": {
      "text/plain": [
       "((60000, 28, 28), (60000,))"
      ]
     },
     "execution_count": 6,
     "metadata": {},
     "output_type": "execute_result"
    }
   ],
   "source": [
    "train_images.shape, train_labels.shape"
   ]
  },
  {
   "cell_type": "code",
   "execution_count": 7,
   "id": "f50dc2bb",
   "metadata": {
    "execution": {
     "iopub.execute_input": "2022-06-10T00:40:33.001360Z",
     "iopub.status.busy": "2022-06-10T00:40:33.000848Z",
     "iopub.status.idle": "2022-06-10T00:40:33.157408Z",
     "shell.execute_reply": "2022-06-10T00:40:33.156727Z"
    },
    "papermill": {
     "duration": 0.181427,
     "end_time": "2022-06-10T00:40:33.157558",
     "exception": false,
     "start_time": "2022-06-10T00:40:32.976131",
     "status": "completed"
    },
    "tags": []
   },
   "outputs": [],
   "source": [
    "test_images = mnist.test_images()\n",
    "test_labels = mnist.test_labels()"
   ]
  },
  {
   "cell_type": "code",
   "execution_count": 8,
   "id": "fc38cf1b",
   "metadata": {
    "execution": {
     "iopub.execute_input": "2022-06-10T00:40:33.207098Z",
     "iopub.status.busy": "2022-06-10T00:40:33.206584Z",
     "iopub.status.idle": "2022-06-10T00:40:33.219627Z",
     "shell.execute_reply": "2022-06-10T00:40:33.219203Z"
    },
    "papermill": {
     "duration": 0.039873,
     "end_time": "2022-06-10T00:40:33.219729",
     "exception": false,
     "start_time": "2022-06-10T00:40:33.179856",
     "status": "completed"
    },
    "tags": []
   },
   "outputs": [
    {
     "data": {
      "text/plain": [
       "((10000, 28, 28), (10000,))"
      ]
     },
     "execution_count": 8,
     "metadata": {},
     "output_type": "execute_result"
    }
   ],
   "source": [
    "test_images.shape, test_labels.shape"
   ]
  },
  {
   "cell_type": "code",
   "execution_count": 9,
   "id": "f9ed8fe0",
   "metadata": {
    "execution": {
     "iopub.execute_input": "2022-06-10T00:40:33.267220Z",
     "iopub.status.busy": "2022-06-10T00:40:33.266627Z",
     "iopub.status.idle": "2022-06-10T00:40:33.408331Z",
     "shell.execute_reply": "2022-06-10T00:40:33.407767Z"
    },
    "papermill": {
     "duration": 0.166881,
     "end_time": "2022-06-10T00:40:33.408475",
     "exception": false,
     "start_time": "2022-06-10T00:40:33.241594",
     "status": "completed"
    },
    "tags": []
   },
   "outputs": [
    {
     "name": "stdout",
     "output_type": "stream",
     "text": [
      "2\n"
     ]
    },
    {
     "data": {
      "text/plain": [
       "<matplotlib.image.AxesImage at 0x7f6926766390>"
      ]
     },
     "execution_count": 9,
     "metadata": {},
     "output_type": "execute_result"
    },
    {
     "data": {
      "image/png": "[encoded data removed]",
      "text/plain": [
       "<Figure size 432x288 with 1 Axes>"
      ]
     },
     "metadata": {
      "needs_background": "light"
     },
     "output_type": "display_data"
    }
   ],
   "source": [
    "image_index = 7776 # You may select anything up to 60,000\n",
    "print(train_labels[image_index]) \n",
    "plt.imshow(train_images[image_index], cmap='Greys')"
   ]
  },
  {
   "cell_type": "markdown",
   "id": "a8d2388d",
   "metadata": {
    "papermill": {
     "duration": 0.022924,
     "end_time": "2022-06-10T00:40:33.455596",
     "exception": false,
     "start_time": "2022-06-10T00:40:33.432672",
     "status": "completed"
    },
    "tags": []
   },
   "source": [
    "## Filter data to get 3 and 8 out"
   ]
  },
  {
   "cell_type": "code",
   "execution_count": 10,
   "id": "776f7fc7",
   "metadata": {
    "execution": {
     "iopub.execute_input": "2022-06-10T00:40:33.505869Z",
     "iopub.status.busy": "2022-06-10T00:40:33.505310Z",
     "iopub.status.idle": "2022-06-10T00:40:33.523371Z",
     "shell.execute_reply": "2022-06-10T00:40:33.523755Z"
    },
    "papermill": {
     "duration": 0.045428,
     "end_time": "2022-06-10T00:40:33.523886",
     "exception": false,
     "start_time": "2022-06-10T00:40:33.478458",
     "status": "completed"
    },
    "tags": []
   },
   "outputs": [],
   "source": [
    "train_filter = np.where((train_labels == 3 ) | (train_labels == 8))\n",
    "test_filter = np.where((test_labels == 3) | (test_labels == 8))\n",
    "X_train, y_train = train_images[train_filter], train_labels[train_filter]\n",
    "X_test, y_test = test_images[test_filter], test_labels[test_filter]"
   ]
  },
  {
   "cell_type": "markdown",
   "id": "948f0b7e",
   "metadata": {
    "papermill": {
     "duration": 0.022987,
     "end_time": "2022-06-10T00:40:33.569917",
     "exception": false,
     "start_time": "2022-06-10T00:40:33.546930",
     "status": "completed"
    },
    "tags": []
   },
   "source": [
    "We normalize the pizel values in the 0 to 1 range"
   ]
  },
  {
   "cell_type": "code",
   "execution_count": 11,
   "id": "ee4c2166",
   "metadata": {
    "execution": {
     "iopub.execute_input": "2022-06-10T00:40:33.621373Z",
     "iopub.status.busy": "2022-06-10T00:40:33.620847Z",
     "iopub.status.idle": "2022-06-10T00:40:33.669457Z",
     "shell.execute_reply": "2022-06-10T00:40:33.668875Z"
    },
    "papermill": {
     "duration": 0.076764,
     "end_time": "2022-06-10T00:40:33.669599",
     "exception": false,
     "start_time": "2022-06-10T00:40:33.592835",
     "status": "completed"
    },
    "tags": []
   },
   "outputs": [],
   "source": [
    "X_train = X_train/255.\n",
    "X_test = X_test/255."
   ]
  },
  {
   "cell_type": "markdown",
   "id": "ddcf4fab",
   "metadata": {
    "papermill": {
     "duration": 0.02307,
     "end_time": "2022-06-10T00:40:33.717655",
     "exception": false,
     "start_time": "2022-06-10T00:40:33.694585",
     "status": "completed"
    },
    "tags": []
   },
   "source": [
    "And setup the labels as 1 (when the digit is 3) and 0 (when the digit is 8)"
   ]
  },
  {
   "cell_type": "code",
   "execution_count": 12,
   "id": "7dc908f2",
   "metadata": {
    "execution": {
     "iopub.execute_input": "2022-06-10T00:40:33.768675Z",
     "iopub.status.busy": "2022-06-10T00:40:33.768117Z",
     "iopub.status.idle": "2022-06-10T00:40:33.780823Z",
     "shell.execute_reply": "2022-06-10T00:40:33.780381Z"
    },
    "papermill": {
     "duration": 0.040366,
     "end_time": "2022-06-10T00:40:33.780931",
     "exception": false,
     "start_time": "2022-06-10T00:40:33.740565",
     "status": "completed"
    },
    "tags": []
   },
   "outputs": [],
   "source": [
    "y_train = 1*(y_train==3)\n",
    "y_test = 1*(y_test==3)"
   ]
  },
  {
   "cell_type": "code",
   "execution_count": 13,
   "id": "01e4e969",
   "metadata": {
    "execution": {
     "iopub.execute_input": "2022-06-10T00:40:33.846176Z",
     "iopub.status.busy": "2022-06-10T00:40:33.845610Z",
     "iopub.status.idle": "2022-06-10T00:40:33.850910Z",
     "shell.execute_reply": "2022-06-10T00:40:33.850486Z"
    },
    "papermill": {
     "duration": 0.047009,
     "end_time": "2022-06-10T00:40:33.851016",
     "exception": false,
     "start_time": "2022-06-10T00:40:33.804007",
     "status": "completed"
    },
    "tags": []
   },
   "outputs": [
    {
     "data": {
      "text/plain": [
       "((11982, 28, 28), (1984, 28, 28))"
      ]
     },
     "execution_count": 13,
     "metadata": {},
     "output_type": "execute_result"
    }
   ],
   "source": [
    "X_train.shape, X_test.shape"
   ]
  },
  {
   "cell_type": "markdown",
   "id": "5ccf3f85",
   "metadata": {
    "papermill": {
     "duration": 0.02295,
     "end_time": "2022-06-10T00:40:33.896973",
     "exception": false,
     "start_time": "2022-06-10T00:40:33.874023",
     "status": "completed"
    },
    "tags": []
   },
   "source": [
    "We reshape the data to flatten the image pixels into a set of features or co-variates:"
   ]
  },
  {
   "cell_type": "code",
   "execution_count": 14,
   "id": "5286a4a3",
   "metadata": {
    "execution": {
     "iopub.execute_input": "2022-06-10T00:40:33.947276Z",
     "iopub.status.busy": "2022-06-10T00:40:33.946754Z",
     "iopub.status.idle": "2022-06-10T00:40:33.961264Z",
     "shell.execute_reply": "2022-06-10T00:40:33.960837Z"
    },
    "papermill": {
     "duration": 0.041271,
     "end_time": "2022-06-10T00:40:33.961366",
     "exception": false,
     "start_time": "2022-06-10T00:40:33.920095",
     "status": "completed"
    },
    "tags": []
   },
   "outputs": [
    {
     "data": {
      "text/plain": [
       "((11982, 784), (1984, 784))"
      ]
     },
     "execution_count": 14,
     "metadata": {},
     "output_type": "execute_result"
    }
   ],
   "source": [
    "X_train = X_train.reshape(X_train.shape[0], -1)\n",
    "X_test = X_test.reshape(X_test.shape[0], -1)\n",
    "X_train.shape, X_test.shape"
   ]
  },
  {
   "cell_type": "code",
   "execution_count": 15,
   "id": "73c5f88a",
   "metadata": {
    "execution": {
     "iopub.execute_input": "2022-06-10T00:40:34.015097Z",
     "iopub.status.busy": "2022-06-10T00:40:34.014574Z",
     "iopub.status.idle": "2022-06-10T00:40:34.032345Z",
     "shell.execute_reply": "2022-06-10T00:40:34.031908Z"
    },
    "papermill": {
     "duration": 0.047813,
     "end_time": "2022-06-10T00:40:34.032450",
     "exception": false,
     "start_time": "2022-06-10T00:40:33.984637",
     "status": "completed"
    },
    "tags": []
   },
   "outputs": [],
   "source": [
    "#Impoting functions from 'Kudzu'\n",
    "from kudzu.model import Model\n",
    "from kudzu.train import Learner\n",
    "from kudzu.optim import GD\n",
    "from kudzu.data import Data, Sampler,Dataloader\n",
    "\n",
    "from kudzu.callbacks import AccCallback\n",
    "from kudzu.callbacks import ClfCallback\n",
    "\n",
    "from kudzu.loss import MSE\n",
    "\n",
    "from kudzu.layer import Sigmoid,Relu\n",
    "from kudzu.layer import Affine"
   ]
  },
  {
   "cell_type": "markdown",
   "id": "bc01172a",
   "metadata": {
    "papermill": {
     "duration": 0.023067,
     "end_time": "2022-06-10T00:40:34.078868",
     "exception": false,
     "start_time": "2022-06-10T00:40:34.055801",
     "status": "completed"
    },
    "tags": []
   },
   "source": [
    "### Let us create a `Config` class, to store important parameters. \n",
    "This class essentially plays the role of a dictionary."
   ]
  },
  {
   "cell_type": "code",
   "execution_count": 16,
   "id": "978281aa",
   "metadata": {
    "execution": {
     "iopub.execute_input": "2022-06-10T00:40:34.129270Z",
     "iopub.status.busy": "2022-06-10T00:40:34.128733Z",
     "iopub.status.idle": "2022-06-10T00:40:34.142393Z",
     "shell.execute_reply": "2022-06-10T00:40:34.141942Z"
    },
    "papermill": {
     "duration": 0.040446,
     "end_time": "2022-06-10T00:40:34.142499",
     "exception": false,
     "start_time": "2022-06-10T00:40:34.102053",
     "status": "completed"
    },
    "tags": []
   },
   "outputs": [],
   "source": [
    "class Config:\n",
    "    pass\n",
    "config = Config()\n",
    "config.lr = 0.001\n",
    "config.num_epochs = 250\n",
    "config.bs = 50"
   ]
  },
  {
   "cell_type": "markdown",
   "id": "1385fa59",
   "metadata": {
    "papermill": {
     "duration": 0.023226,
     "end_time": "2022-06-10T00:40:34.189281",
     "exception": false,
     "start_time": "2022-06-10T00:40:34.166055",
     "status": "completed"
    },
    "tags": []
   },
   "source": [
    "### Running Models with the Training data\n",
    "Details about the network layers:\n",
    "- A first affine layer has 784 inputs and does 100 affine transforms. These are followed by a Relu\n",
    "- A second affine layer has 100 inputs from the 100 activations of the past layer, and does 100 affine transforms. These are followed by a Relu\n",
    "- A third affine layer has 100 activations and does 2 affine transformations to create an embedding for visualization. There is no non-linearity here.\n",
    "- A final \"logistic regression\" which has an affine transform from 2 inputs to 1 output, which is squeezed through a sigmoid.\n"
   ]
  },
  {
   "cell_type": "code",
   "execution_count": 17,
   "id": "2b9c66db",
   "metadata": {
    "execution": {
     "iopub.execute_input": "2022-06-10T00:40:34.255359Z",
     "iopub.status.busy": "2022-06-10T00:40:34.253981Z",
     "iopub.status.idle": "2022-06-10T00:40:34.257491Z",
     "shell.execute_reply": "2022-06-10T00:40:34.257921Z"
    },
    "papermill": {
     "duration": 0.045404,
     "end_time": "2022-06-10T00:40:34.258056",
     "exception": false,
     "start_time": "2022-06-10T00:40:34.212652",
     "status": "completed"
    },
    "tags": []
   },
   "outputs": [],
   "source": [
    "data = Data(X_train, y_train.reshape(-1,1))\n",
    "sampler = Sampler(data, config.bs, shuffle=True)\n",
    "\n",
    "dl = Dataloader(data, sampler)\n",
    "\n",
    "opt = GD(config.lr)\n",
    "loss = MSE()"
   ]
  },
  {
   "cell_type": "code",
   "execution_count": 18,
   "id": "b275e4c2",
   "metadata": {
    "execution": {
     "iopub.execute_input": "2022-06-10T00:40:34.320589Z",
     "iopub.status.busy": "2022-06-10T00:40:34.308653Z",
     "iopub.status.idle": "2022-06-10T00:40:34.322819Z",
     "shell.execute_reply": "2022-06-10T00:40:34.323217Z"
    },
    "papermill": {
     "duration": 0.041658,
     "end_time": "2022-06-10T00:40:34.323344",
     "exception": false,
     "start_time": "2022-06-10T00:40:34.281686",
     "status": "completed"
    },
    "tags": []
   },
   "outputs": [],
   "source": [
    "training_data_x = X_train\n",
    "testing_data_x = X_test\n",
    "training_data_y = y_train.reshape(-1,1)\n",
    "testing_data_y = y_test.reshape(-1,1)"
   ]
  },
  {
   "cell_type": "code",
   "execution_count": 19,
   "id": "76951160",
   "metadata": {
    "execution": {
     "iopub.execute_input": "2022-06-10T00:40:34.376845Z",
     "iopub.status.busy": "2022-06-10T00:40:34.373634Z",
     "iopub.status.idle": "2022-06-10T00:40:34.391230Z",
     "shell.execute_reply": "2022-06-10T00:40:34.391660Z"
    },
    "papermill": {
     "duration": 0.045267,
     "end_time": "2022-06-10T00:40:34.391793",
     "exception": false,
     "start_time": "2022-06-10T00:40:34.346526",
     "status": "completed"
    },
    "tags": []
   },
   "outputs": [
    {
     "name": "stdout",
     "output_type": "stream",
     "text": [
      "xavier\n",
      "xavier\n",
      "xavier\n",
      "xavier\n",
      "xavier\n"
     ]
    }
   ],
   "source": [
    "layers = [Affine(\"first\", 784, 100), Relu(\"first\"), Affine(\"second\", 100, 100), Relu(\"second\"), Affine(\"third\", 100, 2), Affine(\"last\", 2, 1), Sigmoid(\"last\")]\n",
    "model_nn = Model(layers)\n",
    "model_lr = Model([Affine(\"logits\", 784, 1), Sigmoid(\"sigmoid\")])"
   ]
  },
  {
   "cell_type": "code",
   "execution_count": 20,
   "id": "6eede77a",
   "metadata": {
    "execution": {
     "iopub.execute_input": "2022-06-10T00:40:34.454173Z",
     "iopub.status.busy": "2022-06-10T00:40:34.446611Z",
     "iopub.status.idle": "2022-06-10T00:40:34.456380Z",
     "shell.execute_reply": "2022-06-10T00:40:34.456804Z"
    },
    "papermill": {
     "duration": 0.041333,
     "end_time": "2022-06-10T00:40:34.456933",
     "exception": false,
     "start_time": "2022-06-10T00:40:34.415600",
     "status": "completed"
    },
    "tags": []
   },
   "outputs": [],
   "source": [
    "nn_learner = Learner(loss, model_nn, opt, config.num_epochs)\n",
    "acc_nn = ClfCallback(nn_learner, config.bs, training_data_x , testing_data_x, training_data_y, testing_data_y)\n",
    "nn_learner.set_callbacks([acc_nn])"
   ]
  },
  {
   "cell_type": "code",
   "execution_count": 21,
   "id": "877b6cc7",
   "metadata": {
    "execution": {
     "iopub.execute_input": "2022-06-10T00:40:34.508465Z",
     "iopub.status.busy": "2022-06-10T00:40:34.507939Z",
     "iopub.status.idle": "2022-06-10T00:40:34.520661Z",
     "shell.execute_reply": "2022-06-10T00:40:34.521065Z"
    },
    "papermill": {
     "duration": 0.040662,
     "end_time": "2022-06-10T00:40:34.521191",
     "exception": false,
     "start_time": "2022-06-10T00:40:34.480529",
     "status": "completed"
    },
    "tags": []
   },
   "outputs": [],
   "source": [
    "lr_learner = Learner(loss, model_lr, opt, config.num_epochs)\n",
    "acc_lr = ClfCallback(lr_learner, config.bs, training_data_x , testing_data_x, training_data_y, testing_data_y)\n",
    "lr_learner.set_callbacks([acc_lr])"
   ]
  },
  {
   "cell_type": "code",
   "execution_count": 22,
   "id": "d9b133c3",
   "metadata": {
    "execution": {
     "iopub.execute_input": "2022-06-10T00:40:34.571491Z",
     "iopub.status.busy": "2022-06-10T00:40:34.570981Z",
     "iopub.status.idle": "2022-06-10T00:41:52.026363Z",
     "shell.execute_reply": "2022-06-10T00:41:52.026867Z"
    },
    "papermill": {
     "duration": 77.482289,
     "end_time": "2022-06-10T00:41:52.027005",
     "exception": false,
     "start_time": "2022-06-10T00:40:34.544716",
     "status": "completed"
    },
    "tags": []
   },
   "outputs": [
    {
     "name": "stdout",
     "output_type": "stream",
     "text": [
      "Epoch 0, Loss 0.2462\n",
      "Training Accuracy: 0.6530, Testing Accuracy: 0.6643\n",
      "\n"
     ]
    },
    {
     "name": "stdout",
     "output_type": "stream",
     "text": [
      "Epoch 10, Loss 0.1948\n",
      "Training Accuracy: 0.8509, Testing Accuracy: 0.8589\n",
      "\n"
     ]
    },
    {
     "name": "stdout",
     "output_type": "stream",
     "text": [
      "Epoch 20, Loss 0.099\n",
      "Training Accuracy: 0.9076, Testing Accuracy: 0.9199\n",
      "\n"
     ]
    },
    {
     "name": "stdout",
     "output_type": "stream",
     "text": [
      "Epoch 30, Loss 0.0616\n",
      "Training Accuracy: 0.9373, Testing Accuracy: 0.9486\n",
      "\n"
     ]
    },
    {
     "name": "stdout",
     "output_type": "stream",
     "text": [
      "Epoch 40, Loss 0.0475\n",
      "Training Accuracy: 0.9490, Testing Accuracy: 0.9561\n",
      "\n"
     ]
    },
    {
     "name": "stdout",
     "output_type": "stream",
     "text": [
      "Epoch 50, Loss 0.0406\n",
      "Training Accuracy: 0.9547, Testing Accuracy: 0.9652\n",
      "\n"
     ]
    },
    {
     "name": "stdout",
     "output_type": "stream",
     "text": [
      "Epoch 60, Loss 0.0366\n",
      "Training Accuracy: 0.9590, Testing Accuracy: 0.9682\n",
      "\n"
     ]
    },
    {
     "name": "stdout",
     "output_type": "stream",
     "text": [
      "Epoch 70, Loss 0.0339\n",
      "Training Accuracy: 0.9612, Testing Accuracy: 0.9693\n",
      "\n"
     ]
    },
    {
     "name": "stdout",
     "output_type": "stream",
     "text": [
      "Epoch 80, Loss 0.0319\n",
      "Training Accuracy: 0.9634, Testing Accuracy: 0.9698\n",
      "\n"
     ]
    },
    {
     "name": "stdout",
     "output_type": "stream",
     "text": [
      "Epoch 90, Loss 0.0303\n",
      "Training Accuracy: 0.9650, Testing Accuracy: 0.9703\n",
      "\n"
     ]
    },
    {
     "name": "stdout",
     "output_type": "stream",
     "text": [
      "Epoch 100, Loss 0.029\n",
      "Training Accuracy: 0.9662, Testing Accuracy: 0.9698\n",
      "\n"
     ]
    },
    {
     "name": "stdout",
     "output_type": "stream",
     "text": [
      "Epoch 110, Loss 0.028\n",
      "Training Accuracy: 0.9672, Testing Accuracy: 0.9703\n",
      "\n"
     ]
    },
    {
     "name": "stdout",
     "output_type": "stream",
     "text": [
      "Epoch 120, Loss 0.0271\n",
      "Training Accuracy: 0.9676, Testing Accuracy: 0.9713\n",
      "\n"
     ]
    },
    {
     "name": "stdout",
     "output_type": "stream",
     "text": [
      "Epoch 130, Loss 0.0262\n",
      "Training Accuracy: 0.9686, Testing Accuracy: 0.9718\n",
      "\n"
     ]
    },
    {
     "name": "stdout",
     "output_type": "stream",
     "text": [
      "Epoch 140, Loss 0.0255\n",
      "Training Accuracy: 0.9695, Testing Accuracy: 0.9718\n",
      "\n"
     ]
    },
    {
     "name": "stdout",
     "output_type": "stream",
     "text": [
      "Epoch 150, Loss 0.0249\n",
      "Training Accuracy: 0.9707, Testing Accuracy: 0.9713\n",
      "\n"
     ]
    },
    {
     "name": "stdout",
     "output_type": "stream",
     "text": [
      "Epoch 160, Loss 0.0243\n",
      "Training Accuracy: 0.9718, Testing Accuracy: 0.9718\n",
      "\n"
     ]
    },
    {
     "name": "stdout",
     "output_type": "stream",
     "text": [
      "Epoch 170, Loss 0.0237\n",
      "Training Accuracy: 0.9726, Testing Accuracy: 0.9718\n",
      "\n"
     ]
    },
    {
     "name": "stdout",
     "output_type": "stream",
     "text": [
      "Epoch 180, Loss 0.0232\n",
      "Training Accuracy: 0.9730, Testing Accuracy: 0.9728\n",
      "\n"
     ]
    },
    {
     "name": "stdout",
     "output_type": "stream",
     "text": [
      "Epoch 190, Loss 0.0227\n",
      "Training Accuracy: 0.9735, Testing Accuracy: 0.9733\n",
      "\n"
     ]
    },
    {
     "name": "stdout",
     "output_type": "stream",
     "text": [
      "Epoch 200, Loss 0.0222\n",
      "Training Accuracy: 0.9743, Testing Accuracy: 0.9738\n",
      "\n"
     ]
    },
    {
     "name": "stdout",
     "output_type": "stream",
     "text": [
      "Epoch 210, Loss 0.0217\n",
      "Training Accuracy: 0.9749, Testing Accuracy: 0.9738\n",
      "\n"
     ]
    },
    {
     "name": "stdout",
     "output_type": "stream",
     "text": [
      "Epoch 220, Loss 0.0213\n",
      "Training Accuracy: 0.9757, Testing Accuracy: 0.9738\n",
      "\n"
     ]
    },
    {
     "name": "stdout",
     "output_type": "stream",
     "text": [
      "Epoch 230, Loss 0.0209\n",
      "Training Accuracy: 0.9764, Testing Accuracy: 0.9743\n",
      "\n"
     ]
    },
    {
     "name": "stdout",
     "output_type": "stream",
     "text": [
      "Epoch 240, Loss 0.0205\n",
      "Training Accuracy: 0.9771, Testing Accuracy: 0.9753\n",
      "\n"
     ]
    },
    {
     "data": {
      "text/plain": [
       "0.0029671675919983012"
      ]
     },
     "execution_count": 22,
     "metadata": {},
     "output_type": "execute_result"
    }
   ],
   "source": [
    "nn_learner.train_loop(dl)"
   ]
  },
  {
   "cell_type": "code",
   "execution_count": 23,
   "id": "e0163366",
   "metadata": {
    "execution": {
     "iopub.execute_input": "2022-06-10T00:41:52.095340Z",
     "iopub.status.busy": "2022-06-10T00:41:52.094810Z",
     "iopub.status.idle": "2022-06-10T00:42:05.731442Z",
     "shell.execute_reply": "2022-06-10T00:42:05.732250Z"
    },
    "papermill": {
     "duration": 13.674663,
     "end_time": "2022-06-10T00:42:05.732408",
     "exception": false,
     "start_time": "2022-06-10T00:41:52.057745",
     "status": "completed"
    },
    "tags": []
   },
   "outputs": [
    {
     "name": "stdout",
     "output_type": "stream",
     "text": [
      "Epoch 0, Loss 0.2213\n",
      "Training Accuracy: 0.7662, Testing Accuracy: 0.7858\n",
      "\n"
     ]
    },
    {
     "name": "stdout",
     "output_type": "stream",
     "text": [
      "Epoch 10, Loss 0.1027\n",
      "Training Accuracy: 0.9053, Testing Accuracy: 0.9158\n",
      "\n"
     ]
    },
    {
     "name": "stdout",
     "output_type": "stream",
     "text": [
      "Epoch 20, Loss 0.0797\n",
      "Training Accuracy: 0.9247, Testing Accuracy: 0.9380\n",
      "\n"
     ]
    },
    {
     "name": "stdout",
     "output_type": "stream",
     "text": [
      "Epoch 30, Loss 0.0689\n",
      "Training Accuracy: 0.9334, Testing Accuracy: 0.9451\n",
      "\n"
     ]
    },
    {
     "name": "stdout",
     "output_type": "stream",
     "text": [
      "Epoch 40, Loss 0.0623\n",
      "Training Accuracy: 0.9388, Testing Accuracy: 0.9496\n",
      "\n"
     ]
    },
    {
     "name": "stdout",
     "output_type": "stream",
     "text": [
      "Epoch 50, Loss 0.0578\n",
      "Training Accuracy: 0.9424, Testing Accuracy: 0.9531\n",
      "\n"
     ]
    },
    {
     "name": "stdout",
     "output_type": "stream",
     "text": [
      "Epoch 60, Loss 0.0545\n",
      "Training Accuracy: 0.9443, Testing Accuracy: 0.9546\n",
      "\n"
     ]
    },
    {
     "name": "stdout",
     "output_type": "stream",
     "text": [
      "Epoch 70, Loss 0.0519\n",
      "Training Accuracy: 0.9474, Testing Accuracy: 0.9572\n",
      "\n"
     ]
    },
    {
     "name": "stdout",
     "output_type": "stream",
     "text": [
      "Epoch 80, Loss 0.0498\n",
      "Training Accuracy: 0.9493, Testing Accuracy: 0.9572\n",
      "\n"
     ]
    },
    {
     "name": "stdout",
     "output_type": "stream",
     "text": [
      "Epoch 90, Loss 0.0481\n",
      "Training Accuracy: 0.9508, Testing Accuracy: 0.9582\n",
      "\n"
     ]
    },
    {
     "name": "stdout",
     "output_type": "stream",
     "text": [
      "Epoch 100, Loss 0.0466\n",
      "Training Accuracy: 0.9519, Testing Accuracy: 0.9607\n",
      "\n"
     ]
    },
    {
     "name": "stdout",
     "output_type": "stream",
     "text": [
      "Epoch 110, Loss 0.0454\n",
      "Training Accuracy: 0.9528, Testing Accuracy: 0.9612\n",
      "\n"
     ]
    },
    {
     "name": "stdout",
     "output_type": "stream",
     "text": [
      "Epoch 120, Loss 0.0443\n",
      "Training Accuracy: 0.9536, Testing Accuracy: 0.9627\n",
      "\n"
     ]
    },
    {
     "name": "stdout",
     "output_type": "stream",
     "text": [
      "Epoch 130, Loss 0.0434\n",
      "Training Accuracy: 0.9547, Testing Accuracy: 0.9637\n",
      "\n"
     ]
    },
    {
     "name": "stdout",
     "output_type": "stream",
     "text": [
      "Epoch 140, Loss 0.0425\n",
      "Training Accuracy: 0.9562, Testing Accuracy: 0.9652\n",
      "\n"
     ]
    },
    {
     "name": "stdout",
     "output_type": "stream",
     "text": [
      "Epoch 150, Loss 0.0417\n",
      "Training Accuracy: 0.9564, Testing Accuracy: 0.9647\n",
      "\n"
     ]
    },
    {
     "name": "stdout",
     "output_type": "stream",
     "text": [
      "Epoch 160, Loss 0.041\n",
      "Training Accuracy: 0.9569, Testing Accuracy: 0.9662\n",
      "\n"
     ]
    },
    {
     "name": "stdout",
     "output_type": "stream",
     "text": [
      "Epoch 170, Loss 0.0404\n",
      "Training Accuracy: 0.9578, Testing Accuracy: 0.9667\n",
      "\n"
     ]
    },
    {
     "name": "stdout",
     "output_type": "stream",
     "text": [
      "Epoch 180, Loss 0.0398\n",
      "Training Accuracy: 0.9579, Testing Accuracy: 0.9662\n",
      "\n"
     ]
    },
    {
     "name": "stdout",
     "output_type": "stream",
     "text": [
      "Epoch 190, Loss 0.0393\n",
      "Training Accuracy: 0.9582, Testing Accuracy: 0.9672\n",
      "\n"
     ]
    },
    {
     "name": "stdout",
     "output_type": "stream",
     "text": [
      "Epoch 200, Loss 0.0388\n",
      "Training Accuracy: 0.9589, Testing Accuracy: 0.9672\n",
      "\n"
     ]
    },
    {
     "name": "stdout",
     "output_type": "stream",
     "text": [
      "Epoch 210, Loss 0.0384\n",
      "Training Accuracy: 0.9592, Testing Accuracy: 0.9672\n",
      "\n"
     ]
    },
    {
     "name": "stdout",
     "output_type": "stream",
     "text": [
      "Epoch 220, Loss 0.0379\n",
      "Training Accuracy: 0.9597, Testing Accuracy: 0.9677\n",
      "\n"
     ]
    },
    {
     "name": "stdout",
     "output_type": "stream",
     "text": [
      "Epoch 230, Loss 0.0375\n",
      "Training Accuracy: 0.9600, Testing Accuracy: 0.9677\n",
      "\n"
     ]
    },
    {
     "name": "stdout",
     "output_type": "stream",
     "text": [
      "Epoch 240, Loss 0.0372\n",
      "Training Accuracy: 0.9604, Testing Accuracy: 0.9677\n",
      "\n"
     ]
    },
    {
     "data": {
      "text/plain": [
       "0.05140363273566045"
      ]
     },
     "execution_count": 23,
     "metadata": {},
     "output_type": "execute_result"
    }
   ],
   "source": [
    "lr_learner.train_loop(dl)"
   ]
  },
  {
   "cell_type": "code",
   "execution_count": 24,
   "id": "ca410940",
   "metadata": {
    "execution": {
     "iopub.execute_input": "2022-06-10T00:42:05.815296Z",
     "iopub.status.busy": "2022-06-10T00:42:05.814749Z",
     "iopub.status.idle": "2022-06-10T00:42:06.022545Z",
     "shell.execute_reply": "2022-06-10T00:42:06.022952Z"
    },
    "papermill": {
     "duration": 0.253953,
     "end_time": "2022-06-10T00:42:06.023090",
     "exception": false,
     "start_time": "2022-06-10T00:42:05.769137",
     "status": "completed"
    },
    "tags": []
   },
   "outputs": [
    {
     "data": {
      "text/plain": [
       "<matplotlib.legend.Legend at 0x7f69262c69b0>"
      ]
     },
     "execution_count": 24,
     "metadata": {},
     "output_type": "execute_result"
    },
    {
     "data": {
      "image/png": "[encoded data removed]",
      "text/plain": [
       "<Figure size 1080x720 with 1 Axes>"
      ]
     },
     "metadata": {
      "needs_background": "light"
     },
     "output_type": "display_data"
    }
   ],
   "source": [
    "#comparing the results of NN and LR\n",
    "plt.figure(figsize=(15,10))\n",
    "\n",
    "# Neural Network plots\n",
    "plt.plot(acc_nn.accuracies, 'r-', label = \"Training Accuracies - NN\")\n",
    "plt.plot(acc_nn.test_accuracies, 'g-', label = \"Testing Accuracies - NN\")\n",
    "\n",
    "# Logistic Regression plots\n",
    "plt.plot(acc_lr.accuracies, 'k-', label = \"Training Accuracies - LR\")\n",
    "plt.plot(acc_lr.test_accuracies, 'b-', label = \"Testing Accuracies - LR\")\n",
    "plt.legend()"
   ]
  },
  {
   "cell_type": "markdown",
   "id": "80dfb35c",
   "metadata": {
    "papermill": {
     "duration": 0.037085,
     "end_time": "2022-06-10T00:42:06.097183",
     "exception": false,
     "start_time": "2022-06-10T00:42:06.060098",
     "status": "completed"
    },
    "tags": []
   },
   "source": [
    "#### Plotting the outputs of this layer of the NN.\n"
   ]
  },
  {
   "cell_type": "code",
   "execution_count": 25,
   "id": "45eb2ff5",
   "metadata": {
    "execution": {
     "iopub.execute_input": "2022-06-10T00:42:06.175460Z",
     "iopub.status.busy": "2022-06-10T00:42:06.174912Z",
     "iopub.status.idle": "2022-06-10T00:42:06.195903Z",
     "shell.execute_reply": "2022-06-10T00:42:06.195418Z"
    },
    "papermill": {
     "duration": 0.062292,
     "end_time": "2022-06-10T00:42:06.196011",
     "exception": false,
     "start_time": "2022-06-10T00:42:06.133719",
     "status": "completed"
    },
    "tags": []
   },
   "outputs": [],
   "source": [
    "new_model = Model(layers[:-2])\n",
    "testing_plot = new_model(testing_data_x)"
   ]
  },
  {
   "cell_type": "code",
   "execution_count": 26,
   "id": "4c0a5485",
   "metadata": {
    "execution": {
     "iopub.execute_input": "2022-06-10T00:42:06.275175Z",
     "iopub.status.busy": "2022-06-10T00:42:06.274642Z",
     "iopub.status.idle": "2022-06-10T00:42:06.471287Z",
     "shell.execute_reply": "2022-06-10T00:42:06.470791Z"
    },
    "papermill": {
     "duration": 0.237153,
     "end_time": "2022-06-10T00:42:06.471407",
     "exception": false,
     "start_time": "2022-06-10T00:42:06.234254",
     "status": "completed"
    },
    "tags": []
   },
   "outputs": [
    {
     "data": {
      "text/plain": [
       "Text(0.5, 1.0, 'Outputs')"
      ]
     },
     "execution_count": 26,
     "metadata": {},
     "output_type": "execute_result"
    },
    {
     "data": {
      "image/png": "[encoded data removed]",
      "text/plain": [
       "<Figure size 576x504 with 1 Axes>"
      ]
     },
     "metadata": {
      "needs_background": "light"
     },
     "output_type": "display_data"
    }
   ],
   "source": [
    "# Plotting the scatter plot of points and color coding by class\n",
    "plt.figure(figsize=(8,7))\n",
    "plt.scatter(testing_plot[:,0], testing_plot[:,1], alpha = 0.1, c = y_test.ravel());\n",
    "plt.title('Outputs')"
   ]
  },
  {
   "cell_type": "markdown",
   "id": "a74fcf8f",
   "metadata": {
    "papermill": {
     "duration": 0.038089,
     "end_time": "2022-06-10T00:42:06.548149",
     "exception": false,
     "start_time": "2022-06-10T00:42:06.510060",
     "status": "completed"
    },
    "tags": []
   },
   "source": [
    "Probability contours"
   ]
  },
  {
   "cell_type": "code",
   "execution_count": 27,
   "id": "d0afc8e3",
   "metadata": {
    "execution": {
     "iopub.execute_input": "2022-06-10T00:42:06.629655Z",
     "iopub.status.busy": "2022-06-10T00:42:06.629043Z",
     "iopub.status.idle": "2022-06-10T00:42:06.641640Z",
     "shell.execute_reply": "2022-06-10T00:42:06.641157Z"
    },
    "papermill": {
     "duration": 0.055625,
     "end_time": "2022-06-10T00:42:06.641751",
     "exception": false,
     "start_time": "2022-06-10T00:42:06.586126",
     "status": "completed"
    },
    "tags": []
   },
   "outputs": [],
   "source": [
    "model_prob = Model(layers[-2:]) "
   ]
  },
  {
   "cell_type": "code",
   "execution_count": 28,
   "id": "9b96e238",
   "metadata": {
    "execution": {
     "iopub.execute_input": "2022-06-10T00:42:06.733302Z",
     "iopub.status.busy": "2022-06-10T00:42:06.732700Z",
     "iopub.status.idle": "2022-06-10T00:42:06.746493Z",
     "shell.execute_reply": "2022-06-10T00:42:06.746874Z"
    },
    "papermill": {
     "duration": 0.062172,
     "end_time": "2022-06-10T00:42:06.747001",
     "exception": false,
     "start_time": "2022-06-10T00:42:06.684829",
     "status": "completed"
    },
    "tags": []
   },
   "outputs": [],
   "source": [
    "#creating the x and y ranges according to the above generated plot.\n",
    "x_range = np.linspace(-4, 1, 100) \n",
    "y_range = np.linspace(-6, 6, 100) \n",
    "x_grid, y_grid = np.meshgrid(x_range, y_range) # x_grid and y_grig are of size 100 X 100\n",
    "\n",
    "# converting x_grid and y_grid to continuous arrays\n",
    "x_gridflat = np.ravel(x_grid)\n",
    "y_gridflat = np.ravel(y_grid)\n",
    "\n",
    "# The last layer of the current model takes two columns as input. Hence transpose of np.vstack() is required.\n",
    "X = np.vstack((x_gridflat, y_gridflat)).T\n",
    "\n",
    "prob_contour = model_prob(X).reshape(100,100) "
   ]
  },
  {
   "cell_type": "code",
   "execution_count": 29,
   "id": "da72499a",
   "metadata": {
    "execution": {
     "iopub.execute_input": "2022-06-10T00:42:06.862726Z",
     "iopub.status.busy": "2022-06-10T00:42:06.858731Z",
     "iopub.status.idle": "2022-06-10T00:42:07.083106Z",
     "shell.execute_reply": "2022-06-10T00:42:07.083558Z"
    },
    "papermill": {
     "duration": 0.269402,
     "end_time": "2022-06-10T00:42:07.083709",
     "exception": false,
     "start_time": "2022-06-10T00:42:06.814307",
     "status": "completed"
    },
    "tags": []
   },
   "outputs": [
    {
     "data": {
      "image/png": "[encoded data removed]",
      "text/plain": [
       "<Figure size 720x648 with 1 Axes>"
      ]
     },
     "metadata": {
      "needs_background": "light"
     },
     "output_type": "display_data"
    }
   ],
   "source": [
    "plt.figure(figsize=(10,9))\n",
    "plt.scatter(testing_plot[:,0], testing_plot[:,1], alpha = 0.1, c = y_test.ravel())\n",
    "contours = plt.contour(x_grid,y_grid,prob_contour)\n",
    "plt.title('Probability Contours')\n",
    "plt.clabel(contours, inline = True );"
   ]
  },
  {
   "cell_type": "code",
   "execution_count": null,
   "id": "e81b4ac7",
   "metadata": {
    "papermill": {
     "duration": 0.045855,
     "end_time": "2022-06-10T00:42:07.175715",
     "exception": false,
     "start_time": "2022-06-10T00:42:07.129860",
     "status": "completed"
    },
    "tags": []
   },
   "outputs": [],
   "source": []
  }
 ],
 "metadata": {
  "kernelspec": {
   "display_name": "Python 3",
   "language": "python",
   "name": "python3"
  },
  "language_info": {
   "codemirror_mode": {
    "name": "ipython",
    "version": 3
   },
   "file_extension": ".py",
   "mimetype": "text/x-python",
   "name": "python",
   "nbconvert_exporter": "python",
   "pygments_lexer": "ipython3",
   "version": "3.6.15"
  },
  "papermill": {
   "default_parameters": {},
   "duration": 98.906831,
   "end_time": "2022-06-10T00:42:07.640671",
   "environment_variables": {},
   "exception": null,
   "input_path": "2020-08-11-part2.ipynb",
   "output_path": "2020-08-11-part2.ipynb",
   "parameters": {},
   "start_time": "2022-06-10T00:40:28.733840",
   "version": "2.3.3"
  }
 },
 "nbformat": 4,
 "nbformat_minor": 5
}