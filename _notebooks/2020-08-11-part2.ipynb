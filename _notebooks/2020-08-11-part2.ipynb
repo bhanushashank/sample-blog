{
 "cells": [
  {
   "cell_type": "markdown",
   "id": "98380cd3",
   "metadata": {
    "papermill": {
     "duration": 0.030003,
     "end_time": "2022-09-01T00:40:13.886134",
     "exception": false,
     "start_time": "2022-09-01T00:40:13.856131",
     "status": "completed"
    },
    "tags": []
   },
   "source": [
    "# Distinguish Your Own Digits (DYOD)"
   ]
  },
  {
   "cell_type": "markdown",
   "id": "ef31240d",
   "metadata": {
    "papermill": {
     "duration": 0.0241,
     "end_time": "2022-09-01T00:40:13.934982",
     "exception": false,
     "start_time": "2022-09-01T00:40:13.910882",
     "status": "completed"
    },
    "tags": []
   },
   "source": [
    "You are going to write a classifier that distinguishes between the number 3 and number 8."
   ]
  },
  {
   "cell_type": "code",
   "execution_count": 1,
   "id": "b15c8646",
   "metadata": {
    "execution": {
     "iopub.execute_input": "2022-09-01T00:40:13.994943Z",
     "iopub.status.busy": "2022-09-01T00:40:13.994272Z",
     "iopub.status.idle": "2022-09-01T00:40:14.005695Z",
     "shell.execute_reply": "2022-09-01T00:40:14.005216Z"
    },
    "papermill": {
     "duration": 0.046729,
     "end_time": "2022-09-01T00:40:14.005839",
     "exception": false,
     "start_time": "2022-09-01T00:40:13.959110",
     "status": "completed"
    },
    "tags": []
   },
   "outputs": [],
   "source": [
    "%load_ext autoreload\n",
    "%autoreload 2"
   ]
  },
  {
   "cell_type": "code",
   "execution_count": 2,
   "id": "22ef38dc",
   "metadata": {
    "execution": {
     "iopub.execute_input": "2022-09-01T00:40:14.058826Z",
     "iopub.status.busy": "2022-09-01T00:40:14.058177Z",
     "iopub.status.idle": "2022-09-01T00:40:14.626222Z",
     "shell.execute_reply": "2022-09-01T00:40:14.626746Z"
    },
    "papermill": {
     "duration": 0.596856,
     "end_time": "2022-09-01T00:40:14.626910",
     "exception": false,
     "start_time": "2022-09-01T00:40:14.030054",
     "status": "completed"
    },
    "tags": []
   },
   "outputs": [],
   "source": [
    "%matplotlib inline\n",
    "import numpy as np\n",
    "import matplotlib.pyplot as plt\n",
    "import pandas as pd"
   ]
  },
  {
   "cell_type": "markdown",
   "id": "ba036198",
   "metadata": {
    "papermill": {
     "duration": 0.024268,
     "end_time": "2022-09-01T00:40:14.675299",
     "exception": false,
     "start_time": "2022-09-01T00:40:14.651031",
     "status": "completed"
    },
    "tags": []
   },
   "source": [
    "From the command line run `pip install mnist`. This is a library that will help you bring down the mnist dataset. If you run this from a notebook, you need to put  `!pip install mnist` in a cell by itself."
   ]
  },
  {
   "cell_type": "code",
   "execution_count": 3,
   "id": "bb6ad8a1",
   "metadata": {
    "execution": {
     "iopub.execute_input": "2022-09-01T00:40:14.739749Z",
     "iopub.status.busy": "2022-09-01T00:40:14.732170Z",
     "iopub.status.idle": "2022-09-01T00:40:16.376774Z",
     "shell.execute_reply": "2022-09-01T00:40:16.375769Z"
    },
    "papermill": {
     "duration": 1.677475,
     "end_time": "2022-09-01T00:40:16.376930",
     "exception": false,
     "start_time": "2022-09-01T00:40:14.699455",
     "status": "completed"
    },
    "tags": []
   },
   "outputs": [
    {
     "name": "stdout",
     "output_type": "stream",
     "text": [
      "Collecting mnist\r\n"
     ]
    },
    {
     "name": "stdout",
     "output_type": "stream",
     "text": [
      "  Downloading mnist-0.2.2-py2.py3-none-any.whl (3.5 kB)\r\n",
      "Requirement already satisfied: numpy in /opt/hostedtoolcache/Python/3.6.15/x64/lib/python3.6/site-packages (from mnist) (1.19.5)\r\n"
     ]
    },
    {
     "name": "stdout",
     "output_type": "stream",
     "text": [
      "Installing collected packages: mnist\r\n"
     ]
    },
    {
     "name": "stdout",
     "output_type": "stream",
     "text": [
      "Successfully installed mnist-0.2.2\r\n"
     ]
    }
   ],
   "source": [
    "!pip install mnist"
   ]
  },
  {
   "cell_type": "markdown",
   "id": "69df9c9a",
   "metadata": {
    "papermill": {
     "duration": 0.025203,
     "end_time": "2022-09-01T00:40:16.428352",
     "exception": false,
     "start_time": "2022-09-01T00:40:16.403149",
     "status": "completed"
    },
    "tags": []
   },
   "source": [
    "## Preparing the Data"
   ]
  },
  {
   "cell_type": "code",
   "execution_count": 4,
   "id": "7f69d806",
   "metadata": {
    "execution": {
     "iopub.execute_input": "2022-09-01T00:40:16.483194Z",
     "iopub.status.busy": "2022-09-01T00:40:16.482578Z",
     "iopub.status.idle": "2022-09-01T00:40:16.498386Z",
     "shell.execute_reply": "2022-09-01T00:40:16.497874Z"
    },
    "papermill": {
     "duration": 0.045262,
     "end_time": "2022-09-01T00:40:16.498527",
     "exception": false,
     "start_time": "2022-09-01T00:40:16.453265",
     "status": "completed"
    },
    "tags": []
   },
   "outputs": [],
   "source": [
    "import mnist"
   ]
  },
  {
   "cell_type": "code",
   "execution_count": 5,
   "id": "a411e44f",
   "metadata": {
    "execution": {
     "iopub.execute_input": "2022-09-01T00:40:16.568549Z",
     "iopub.status.busy": "2022-09-01T00:40:16.564297Z",
     "iopub.status.idle": "2022-09-01T00:40:17.200607Z",
     "shell.execute_reply": "2022-09-01T00:40:17.201147Z"
    },
    "papermill": {
     "duration": 0.677503,
     "end_time": "2022-09-01T00:40:17.201329",
     "exception": false,
     "start_time": "2022-09-01T00:40:16.523826",
     "status": "completed"
    },
    "tags": []
   },
   "outputs": [],
   "source": [
    "train_images = mnist.train_images()\n",
    "train_labels = mnist.train_labels()"
   ]
  },
  {
   "cell_type": "code",
   "execution_count": 6,
   "id": "dceab3a5",
   "metadata": {
    "execution": {
     "iopub.execute_input": "2022-09-01T00:40:17.257924Z",
     "iopub.status.busy": "2022-09-01T00:40:17.257207Z",
     "iopub.status.idle": "2022-09-01T00:40:17.274293Z",
     "shell.execute_reply": "2022-09-01T00:40:17.273508Z"
    },
    "papermill": {
     "duration": 0.046991,
     "end_time": "2022-09-01T00:40:17.274433",
     "exception": false,
     "start_time": "2022-09-01T00:40:17.227442",
     "status": "completed"
    },
    "tags": []
   },
   "outputs": [
    {
     "data": {
      "text/plain": [
       "((60000, 28, 28), (60000,))"
      ]
     },
     "execution_count": 6,
     "metadata": {},
     "output_type": "execute_result"
    }
   ],
   "source": [
    "train_images.shape, train_labels.shape"
   ]
  },
  {
   "cell_type": "code",
   "execution_count": 7,
   "id": "f50dc2bb",
   "metadata": {
    "execution": {
     "iopub.execute_input": "2022-09-01T00:40:17.331069Z",
     "iopub.status.busy": "2022-09-01T00:40:17.330461Z",
     "iopub.status.idle": "2022-09-01T00:40:17.563922Z",
     "shell.execute_reply": "2022-09-01T00:40:17.563401Z"
    },
    "papermill": {
     "duration": 0.264203,
     "end_time": "2022-09-01T00:40:17.564062",
     "exception": false,
     "start_time": "2022-09-01T00:40:17.299859",
     "status": "completed"
    },
    "tags": []
   },
   "outputs": [],
   "source": [
    "test_images = mnist.test_images()\n",
    "test_labels = mnist.test_labels()"
   ]
  },
  {
   "cell_type": "code",
   "execution_count": 8,
   "id": "fc38cf1b",
   "metadata": {
    "execution": {
     "iopub.execute_input": "2022-09-01T00:40:17.619351Z",
     "iopub.status.busy": "2022-09-01T00:40:17.618742Z",
     "iopub.status.idle": "2022-09-01T00:40:17.633044Z",
     "shell.execute_reply": "2022-09-01T00:40:17.633473Z"
    },
    "papermill": {
     "duration": 0.04397,
     "end_time": "2022-09-01T00:40:17.633620",
     "exception": false,
     "start_time": "2022-09-01T00:40:17.589650",
     "status": "completed"
    },
    "tags": []
   },
   "outputs": [
    {
     "data": {
      "text/plain": [
       "((10000, 28, 28), (10000,))"
      ]
     },
     "execution_count": 8,
     "metadata": {},
     "output_type": "execute_result"
    }
   ],
   "source": [
    "test_images.shape, test_labels.shape"
   ]
  },
  {
   "cell_type": "code",
   "execution_count": 9,
   "id": "f9ed8fe0",
   "metadata": {
    "execution": {
     "iopub.execute_input": "2022-09-01T00:40:17.691911Z",
     "iopub.status.busy": "2022-09-01T00:40:17.691191Z",
     "iopub.status.idle": "2022-09-01T00:40:17.831920Z",
     "shell.execute_reply": "2022-09-01T00:40:17.833058Z"
    },
    "papermill": {
     "duration": 0.173823,
     "end_time": "2022-09-01T00:40:17.833244",
     "exception": false,
     "start_time": "2022-09-01T00:40:17.659421",
     "status": "completed"
    },
    "tags": []
   },
   "outputs": [
    {
     "name": "stdout",
     "output_type": "stream",
     "text": [
      "2\n"
     ]
    },
    {
     "data": {
      "text/plain": [
       "<matplotlib.image.AxesImage at 0x7fcfe7d1da58>"
      ]
     },
     "execution_count": 9,
     "metadata": {},
     "output_type": "execute_result"
    },
    {
     "data": {
      "image/png": "[encoded data removed]",
      "text/plain": [
       "<Figure size 432x288 with 1 Axes>"
      ]
     },
     "metadata": {
      "needs_background": "light"
     },
     "output_type": "display_data"
    }
   ],
   "source": [
    "image_index = 7776 # You may select anything up to 60,000\n",
    "print(train_labels[image_index]) \n",
    "plt.imshow(train_images[image_index], cmap='Greys')"
   ]
  },
  {
   "cell_type": "markdown",
   "id": "a8d2388d",
   "metadata": {
    "papermill": {
     "duration": 0.027045,
     "end_time": "2022-09-01T00:40:17.887516",
     "exception": false,
     "start_time": "2022-09-01T00:40:17.860471",
     "status": "completed"
    },
    "tags": []
   },
   "source": [
    "## Filter data to get 3 and 8 out"
   ]
  },
  {
   "cell_type": "code",
   "execution_count": 10,
   "id": "776f7fc7",
   "metadata": {
    "execution": {
     "iopub.execute_input": "2022-09-01T00:40:17.963321Z",
     "iopub.status.busy": "2022-09-01T00:40:17.955027Z",
     "iopub.status.idle": "2022-09-01T00:40:17.968796Z",
     "shell.execute_reply": "2022-09-01T00:40:17.968304Z"
    },
    "papermill": {
     "duration": 0.054647,
     "end_time": "2022-09-01T00:40:17.968918",
     "exception": false,
     "start_time": "2022-09-01T00:40:17.914271",
     "status": "completed"
    },
    "tags": []
   },
   "outputs": [],
   "source": [
    "train_filter = np.where((train_labels == 3 ) | (train_labels == 8))\n",
    "test_filter = np.where((test_labels == 3) | (test_labels == 8))\n",
    "X_train, y_train = train_images[train_filter], train_labels[train_filter]\n",
    "X_test, y_test = test_images[test_filter], test_labels[test_filter]"
   ]
  },
  {
   "cell_type": "markdown",
   "id": "948f0b7e",
   "metadata": {
    "papermill": {
     "duration": 0.026576,
     "end_time": "2022-09-01T00:40:18.022546",
     "exception": false,
     "start_time": "2022-09-01T00:40:17.995970",
     "status": "completed"
    },
    "tags": []
   },
   "source": [
    "We normalize the pizel values in the 0 to 1 range"
   ]
  },
  {
   "cell_type": "code",
   "execution_count": 11,
   "id": "ee4c2166",
   "metadata": {
    "execution": {
     "iopub.execute_input": "2022-09-01T00:40:18.079723Z",
     "iopub.status.busy": "2022-09-01T00:40:18.079117Z",
     "iopub.status.idle": "2022-09-01T00:40:18.128834Z",
     "shell.execute_reply": "2022-09-01T00:40:18.128249Z"
    },
    "papermill": {
     "duration": 0.080054,
     "end_time": "2022-09-01T00:40:18.128992",
     "exception": false,
     "start_time": "2022-09-01T00:40:18.048938",
     "status": "completed"
    },
    "tags": []
   },
   "outputs": [],
   "source": [
    "X_train = X_train/255.\n",
    "X_test = X_test/255."
   ]
  },
  {
   "cell_type": "markdown",
   "id": "ddcf4fab",
   "metadata": {
    "papermill": {
     "duration": 0.03017,
     "end_time": "2022-09-01T00:40:18.186486",
     "exception": false,
     "start_time": "2022-09-01T00:40:18.156316",
     "status": "completed"
    },
    "tags": []
   },
   "source": [
    "And setup the labels as 1 (when the digit is 3) and 0 (when the digit is 8)"
   ]
  },
  {
   "cell_type": "code",
   "execution_count": 12,
   "id": "7dc908f2",
   "metadata": {
    "execution": {
     "iopub.execute_input": "2022-09-01T00:40:18.251797Z",
     "iopub.status.busy": "2022-09-01T00:40:18.251149Z",
     "iopub.status.idle": "2022-09-01T00:40:18.261950Z",
     "shell.execute_reply": "2022-09-01T00:40:18.261455Z"
    },
    "papermill": {
     "duration": 0.048914,
     "end_time": "2022-09-01T00:40:18.262078",
     "exception": false,
     "start_time": "2022-09-01T00:40:18.213164",
     "status": "completed"
    },
    "tags": []
   },
   "outputs": [],
   "source": [
    "y_train = 1*(y_train==3)\n",
    "y_test = 1*(y_test==3)"
   ]
  },
  {
   "cell_type": "code",
   "execution_count": 13,
   "id": "01e4e969",
   "metadata": {
    "execution": {
     "iopub.execute_input": "2022-09-01T00:40:18.320713Z",
     "iopub.status.busy": "2022-09-01T00:40:18.320104Z",
     "iopub.status.idle": "2022-09-01T00:40:18.334755Z",
     "shell.execute_reply": "2022-09-01T00:40:18.335246Z"
    },
    "papermill": {
     "duration": 0.046244,
     "end_time": "2022-09-01T00:40:18.335387",
     "exception": false,
     "start_time": "2022-09-01T00:40:18.289143",
     "status": "completed"
    },
    "tags": []
   },
   "outputs": [
    {
     "data": {
      "text/plain": [
       "((11982, 28, 28), (1984, 28, 28))"
      ]
     },
     "execution_count": 13,
     "metadata": {},
     "output_type": "execute_result"
    }
   ],
   "source": [
    "X_train.shape, X_test.shape"
   ]
  },
  {
   "cell_type": "markdown",
   "id": "5ccf3f85",
   "metadata": {
    "papermill": {
     "duration": 0.026817,
     "end_time": "2022-09-01T00:40:18.389075",
     "exception": false,
     "start_time": "2022-09-01T00:40:18.362258",
     "status": "completed"
    },
    "tags": []
   },
   "source": [
    "We reshape the data to flatten the image pixels into a set of features or co-variates:"
   ]
  },
  {
   "cell_type": "code",
   "execution_count": 14,
   "id": "5286a4a3",
   "metadata": {
    "execution": {
     "iopub.execute_input": "2022-09-01T00:40:18.447540Z",
     "iopub.status.busy": "2022-09-01T00:40:18.446930Z",
     "iopub.status.idle": "2022-09-01T00:40:18.461525Z",
     "shell.execute_reply": "2022-09-01T00:40:18.460943Z"
    },
    "papermill": {
     "duration": 0.045584,
     "end_time": "2022-09-01T00:40:18.461647",
     "exception": false,
     "start_time": "2022-09-01T00:40:18.416063",
     "status": "completed"
    },
    "tags": []
   },
   "outputs": [
    {
     "data": {
      "text/plain": [
       "((11982, 784), (1984, 784))"
      ]
     },
     "execution_count": 14,
     "metadata": {},
     "output_type": "execute_result"
    }
   ],
   "source": [
    "X_train = X_train.reshape(X_train.shape[0], -1)\n",
    "X_test = X_test.reshape(X_test.shape[0], -1)\n",
    "X_train.shape, X_test.shape"
   ]
  },
  {
   "cell_type": "code",
   "execution_count": 15,
   "id": "73c5f88a",
   "metadata": {
    "execution": {
     "iopub.execute_input": "2022-09-01T00:40:18.521224Z",
     "iopub.status.busy": "2022-09-01T00:40:18.520609Z",
     "iopub.status.idle": "2022-09-01T00:40:18.540674Z",
     "shell.execute_reply": "2022-09-01T00:40:18.541198Z"
    },
    "papermill": {
     "duration": 0.052443,
     "end_time": "2022-09-01T00:40:18.541355",
     "exception": false,
     "start_time": "2022-09-01T00:40:18.488912",
     "status": "completed"
    },
    "tags": []
   },
   "outputs": [],
   "source": [
    "#Impoting functions from 'Kudzu'\n",
    "from kudzu.model import Model\n",
    "from kudzu.train import Learner\n",
    "from kudzu.optim import GD\n",
    "from kudzu.data import Data, Sampler,Dataloader\n",
    "\n",
    "from kudzu.callbacks import AccCallback\n",
    "from kudzu.callbacks import ClfCallback\n",
    "\n",
    "from kudzu.loss import MSE\n",
    "\n",
    "from kudzu.layer import Sigmoid,Relu\n",
    "from kudzu.layer import Affine"
   ]
  },
  {
   "cell_type": "markdown",
   "id": "bc01172a",
   "metadata": {
    "papermill": {
     "duration": 0.027487,
     "end_time": "2022-09-01T00:40:18.597105",
     "exception": false,
     "start_time": "2022-09-01T00:40:18.569618",
     "status": "completed"
    },
    "tags": []
   },
   "source": [
    "### Let us create a `Config` class, to store important parameters. \n",
    "This class essentially plays the role of a dictionary."
   ]
  },
  {
   "cell_type": "code",
   "execution_count": 16,
   "id": "978281aa",
   "metadata": {
    "execution": {
     "iopub.execute_input": "2022-09-01T00:40:18.655632Z",
     "iopub.status.busy": "2022-09-01T00:40:18.655022Z",
     "iopub.status.idle": "2022-09-01T00:40:18.668738Z",
     "shell.execute_reply": "2022-09-01T00:40:18.668252Z"
    },
    "papermill": {
     "duration": 0.044685,
     "end_time": "2022-09-01T00:40:18.668859",
     "exception": false,
     "start_time": "2022-09-01T00:40:18.624174",
     "status": "completed"
    },
    "tags": []
   },
   "outputs": [],
   "source": [
    "class Config:\n",
    "    pass\n",
    "config = Config()\n",
    "config.lr = 0.001\n",
    "config.num_epochs = 250\n",
    "config.bs = 50"
   ]
  },
  {
   "cell_type": "markdown",
   "id": "1385fa59",
   "metadata": {
    "papermill": {
     "duration": 0.027149,
     "end_time": "2022-09-01T00:40:18.723329",
     "exception": false,
     "start_time": "2022-09-01T00:40:18.696180",
     "status": "completed"
    },
    "tags": []
   },
   "source": [
    "### Running Models with the Training data\n",
    "Details about the network layers:\n",
    "- A first affine layer has 784 inputs and does 100 affine transforms. These are followed by a Relu\n",
    "- A second affine layer has 100 inputs from the 100 activations of the past layer, and does 100 affine transforms. These are followed by a Relu\n",
    "- A third affine layer has 100 activations and does 2 affine transformations to create an embedding for visualization. There is no non-linearity here.\n",
    "- A final \"logistic regression\" which has an affine transform from 2 inputs to 1 output, which is squeezed through a sigmoid.\n"
   ]
  },
  {
   "cell_type": "code",
   "execution_count": 17,
   "id": "2b9c66db",
   "metadata": {
    "execution": {
     "iopub.execute_input": "2022-09-01T00:40:18.787850Z",
     "iopub.status.busy": "2022-09-01T00:40:18.787193Z",
     "iopub.status.idle": "2022-09-01T00:40:18.797835Z",
     "shell.execute_reply": "2022-09-01T00:40:18.797347Z"
    },
    "papermill": {
     "duration": 0.047367,
     "end_time": "2022-09-01T00:40:18.797961",
     "exception": false,
     "start_time": "2022-09-01T00:40:18.750594",
     "status": "completed"
    },
    "tags": []
   },
   "outputs": [],
   "source": [
    "data = Data(X_train, y_train.reshape(-1,1))\n",
    "sampler = Sampler(data, config.bs, shuffle=True)\n",
    "\n",
    "dl = Dataloader(data, sampler)\n",
    "\n",
    "opt = GD(config.lr)\n",
    "loss = MSE()"
   ]
  },
  {
   "cell_type": "code",
   "execution_count": 18,
   "id": "b275e4c2",
   "metadata": {
    "execution": {
     "iopub.execute_input": "2022-09-01T00:40:18.857216Z",
     "iopub.status.busy": "2022-09-01T00:40:18.856615Z",
     "iopub.status.idle": "2022-09-01T00:40:18.869564Z",
     "shell.execute_reply": "2022-09-01T00:40:18.869077Z"
    },
    "papermill": {
     "duration": 0.044273,
     "end_time": "2022-09-01T00:40:18.869683",
     "exception": false,
     "start_time": "2022-09-01T00:40:18.825410",
     "status": "completed"
    },
    "tags": []
   },
   "outputs": [],
   "source": [
    "training_data_x = X_train\n",
    "testing_data_x = X_test\n",
    "training_data_y = y_train.reshape(-1,1)\n",
    "testing_data_y = y_test.reshape(-1,1)"
   ]
  },
  {
   "cell_type": "code",
   "execution_count": 19,
   "id": "76951160",
   "metadata": {
    "execution": {
     "iopub.execute_input": "2022-09-01T00:40:18.943928Z",
     "iopub.status.busy": "2022-09-01T00:40:18.943255Z",
     "iopub.status.idle": "2022-09-01T00:40:18.949860Z",
     "shell.execute_reply": "2022-09-01T00:40:18.949371Z"
    },
    "papermill": {
     "duration": 0.053115,
     "end_time": "2022-09-01T00:40:18.949980",
     "exception": false,
     "start_time": "2022-09-01T00:40:18.896865",
     "status": "completed"
    },
    "tags": []
   },
   "outputs": [
    {
     "name": "stdout",
     "output_type": "stream",
     "text": [
      "xavier\n",
      "xavier\n",
      "xavier\n",
      "xavier\n",
      "xavier\n"
     ]
    }
   ],
   "source": [
    "layers = [Affine(\"first\", 784, 100), Relu(\"first\"), Affine(\"second\", 100, 100), Relu(\"second\"), Affine(\"third\", 100, 2), Affine(\"last\", 2, 1), Sigmoid(\"last\")]\n",
    "model_nn = Model(layers)\n",
    "model_lr = Model([Affine(\"logits\", 784, 1), Sigmoid(\"sigmoid\")])"
   ]
  },
  {
   "cell_type": "code",
   "execution_count": 20,
   "id": "6eede77a",
   "metadata": {
    "execution": {
     "iopub.execute_input": "2022-09-01T00:40:19.009997Z",
     "iopub.status.busy": "2022-09-01T00:40:19.009403Z",
     "iopub.status.idle": "2022-09-01T00:40:19.022499Z",
     "shell.execute_reply": "2022-09-01T00:40:19.021986Z"
    },
    "papermill": {
     "duration": 0.044954,
     "end_time": "2022-09-01T00:40:19.022626",
     "exception": false,
     "start_time": "2022-09-01T00:40:18.977672",
     "status": "completed"
    },
    "tags": []
   },
   "outputs": [],
   "source": [
    "nn_learner = Learner(loss, model_nn, opt, config.num_epochs)\n",
    "acc_nn = ClfCallback(nn_learner, config.bs, training_data_x , testing_data_x, training_data_y, testing_data_y)\n",
    "nn_learner.set_callbacks([acc_nn])"
   ]
  },
  {
   "cell_type": "code",
   "execution_count": 21,
   "id": "877b6cc7",
   "metadata": {
    "execution": {
     "iopub.execute_input": "2022-09-01T00:40:19.095694Z",
     "iopub.status.busy": "2022-09-01T00:40:19.090681Z",
     "iopub.status.idle": "2022-09-01T00:40:19.098495Z",
     "shell.execute_reply": "2022-09-01T00:40:19.097976Z"
    },
    "papermill": {
     "duration": 0.048491,
     "end_time": "2022-09-01T00:40:19.098624",
     "exception": false,
     "start_time": "2022-09-01T00:40:19.050133",
     "status": "completed"
    },
    "tags": []
   },
   "outputs": [],
   "source": [
    "lr_learner = Learner(loss, model_lr, opt, config.num_epochs)\n",
    "acc_lr = ClfCallback(lr_learner, config.bs, training_data_x , testing_data_x, training_data_y, testing_data_y)\n",
    "lr_learner.set_callbacks([acc_lr])"
   ]
  },
  {
   "cell_type": "code",
   "execution_count": 22,
   "id": "d9b133c3",
   "metadata": {
    "execution": {
     "iopub.execute_input": "2022-09-01T00:40:19.167598Z",
     "iopub.status.busy": "2022-09-01T00:40:19.163107Z",
     "iopub.status.idle": "2022-09-01T00:41:36.127289Z",
     "shell.execute_reply": "2022-09-01T00:41:36.127862Z"
    },
    "papermill": {
     "duration": 77.001771,
     "end_time": "2022-09-01T00:41:36.128010",
     "exception": false,
     "start_time": "2022-09-01T00:40:19.126239",
     "status": "completed"
    },
    "tags": []
   },
   "outputs": [
    {
     "name": "stdout",
     "output_type": "stream",
     "text": [
      "Epoch 0, Loss 0.23\n",
      "Training Accuracy: 0.7324, Testing Accuracy: 0.7303\n",
      "\n"
     ]
    },
    {
     "name": "stdout",
     "output_type": "stream",
     "text": [
      "Epoch 10, Loss 0.0615\n",
      "Training Accuracy: 0.9382, Testing Accuracy: 0.9496\n",
      "\n"
     ]
    },
    {
     "name": "stdout",
     "output_type": "stream",
     "text": [
      "Epoch 20, Loss 0.0426\n",
      "Training Accuracy: 0.9532, Testing Accuracy: 0.9577\n",
      "\n"
     ]
    },
    {
     "name": "stdout",
     "output_type": "stream",
     "text": [
      "Epoch 30, Loss 0.0358\n",
      "Training Accuracy: 0.9604, Testing Accuracy: 0.9652\n",
      "\n"
     ]
    },
    {
     "name": "stdout",
     "output_type": "stream",
     "text": [
      "Epoch 40, Loss 0.0321\n",
      "Training Accuracy: 0.9640, Testing Accuracy: 0.9682\n",
      "\n"
     ]
    },
    {
     "name": "stdout",
     "output_type": "stream",
     "text": [
      "Epoch 50, Loss 0.0296\n",
      "Training Accuracy: 0.9669, Testing Accuracy: 0.9677\n",
      "\n"
     ]
    },
    {
     "name": "stdout",
     "output_type": "stream",
     "text": [
      "Epoch 60, Loss 0.0279\n",
      "Training Accuracy: 0.9685, Testing Accuracy: 0.9688\n",
      "\n"
     ]
    },
    {
     "name": "stdout",
     "output_type": "stream",
     "text": [
      "Epoch 70, Loss 0.0266\n",
      "Training Accuracy: 0.9700, Testing Accuracy: 0.9708\n",
      "\n"
     ]
    },
    {
     "name": "stdout",
     "output_type": "stream",
     "text": [
      "Epoch 80, Loss 0.0255\n",
      "Training Accuracy: 0.9708, Testing Accuracy: 0.9703\n",
      "\n"
     ]
    },
    {
     "name": "stdout",
     "output_type": "stream",
     "text": [
      "Epoch 90, Loss 0.0245\n",
      "Training Accuracy: 0.9718, Testing Accuracy: 0.9708\n",
      "\n"
     ]
    },
    {
     "name": "stdout",
     "output_type": "stream",
     "text": [
      "Epoch 100, Loss 0.0237\n",
      "Training Accuracy: 0.9730, Testing Accuracy: 0.9718\n",
      "\n"
     ]
    },
    {
     "name": "stdout",
     "output_type": "stream",
     "text": [
      "Epoch 110, Loss 0.0229\n",
      "Training Accuracy: 0.9745, Testing Accuracy: 0.9733\n",
      "\n"
     ]
    },
    {
     "name": "stdout",
     "output_type": "stream",
     "text": [
      "Epoch 120, Loss 0.0222\n",
      "Training Accuracy: 0.9752, Testing Accuracy: 0.9733\n",
      "\n"
     ]
    },
    {
     "name": "stdout",
     "output_type": "stream",
     "text": [
      "Epoch 130, Loss 0.0216\n",
      "Training Accuracy: 0.9755, Testing Accuracy: 0.9738\n",
      "\n"
     ]
    },
    {
     "name": "stdout",
     "output_type": "stream",
     "text": [
      "Epoch 140, Loss 0.021\n",
      "Training Accuracy: 0.9761, Testing Accuracy: 0.9738\n",
      "\n"
     ]
    },
    {
     "name": "stdout",
     "output_type": "stream",
     "text": [
      "Epoch 150, Loss 0.0204\n",
      "Training Accuracy: 0.9768, Testing Accuracy: 0.9738\n",
      "\n"
     ]
    },
    {
     "name": "stdout",
     "output_type": "stream",
     "text": [
      "Epoch 160, Loss 0.0199\n",
      "Training Accuracy: 0.9773, Testing Accuracy: 0.9743\n",
      "\n"
     ]
    },
    {
     "name": "stdout",
     "output_type": "stream",
     "text": [
      "Epoch 170, Loss 0.0194\n",
      "Training Accuracy: 0.9779, Testing Accuracy: 0.9743\n",
      "\n"
     ]
    },
    {
     "name": "stdout",
     "output_type": "stream",
     "text": [
      "Epoch 180, Loss 0.0189\n",
      "Training Accuracy: 0.9787, Testing Accuracy: 0.9743\n",
      "\n"
     ]
    },
    {
     "name": "stdout",
     "output_type": "stream",
     "text": [
      "Epoch 190, Loss 0.0184\n",
      "Training Accuracy: 0.9799, Testing Accuracy: 0.9738\n",
      "\n"
     ]
    },
    {
     "name": "stdout",
     "output_type": "stream",
     "text": [
      "Epoch 200, Loss 0.018\n",
      "Training Accuracy: 0.9807, Testing Accuracy: 0.9743\n",
      "\n"
     ]
    },
    {
     "name": "stdout",
     "output_type": "stream",
     "text": [
      "Epoch 210, Loss 0.0175\n",
      "Training Accuracy: 0.9811, Testing Accuracy: 0.9743\n",
      "\n"
     ]
    },
    {
     "name": "stdout",
     "output_type": "stream",
     "text": [
      "Epoch 220, Loss 0.0171\n",
      "Training Accuracy: 0.9813, Testing Accuracy: 0.9748\n",
      "\n"
     ]
    },
    {
     "name": "stdout",
     "output_type": "stream",
     "text": [
      "Epoch 230, Loss 0.0167\n",
      "Training Accuracy: 0.9818, Testing Accuracy: 0.9753\n",
      "\n"
     ]
    },
    {
     "name": "stdout",
     "output_type": "stream",
     "text": [
      "Epoch 240, Loss 0.0163\n",
      "Training Accuracy: 0.9827, Testing Accuracy: 0.9753\n",
      "\n"
     ]
    },
    {
     "data": {
      "text/plain": [
       "0.006725885634690595"
      ]
     },
     "execution_count": 22,
     "metadata": {},
     "output_type": "execute_result"
    }
   ],
   "source": [
    "nn_learner.train_loop(dl)"
   ]
  },
  {
   "cell_type": "code",
   "execution_count": 23,
   "id": "e0163366",
   "metadata": {
    "execution": {
     "iopub.execute_input": "2022-09-01T00:41:36.207908Z",
     "iopub.status.busy": "2022-09-01T00:41:36.207317Z",
     "iopub.status.idle": "2022-09-01T00:41:50.146896Z",
     "shell.execute_reply": "2022-09-01T00:41:50.147763Z"
    },
    "papermill": {
     "duration": 13.984236,
     "end_time": "2022-09-01T00:41:50.147923",
     "exception": false,
     "start_time": "2022-09-01T00:41:36.163687",
     "status": "completed"
    },
    "tags": []
   },
   "outputs": [
    {
     "name": "stdout",
     "output_type": "stream",
     "text": [
      "Epoch 0, Loss 0.253\n",
      "Training Accuracy: 0.6587, Testing Accuracy: 0.6678\n",
      "\n"
     ]
    },
    {
     "name": "stdout",
     "output_type": "stream",
     "text": [
      "Epoch 10, Loss 0.0986\n",
      "Training Accuracy: 0.9247, Testing Accuracy: 0.9380\n",
      "\n"
     ]
    },
    {
     "name": "stdout",
     "output_type": "stream",
     "text": [
      "Epoch 20, Loss 0.0764\n",
      "Training Accuracy: 0.9345, Testing Accuracy: 0.9466\n",
      "\n"
     ]
    },
    {
     "name": "stdout",
     "output_type": "stream",
     "text": [
      "Epoch 30, Loss 0.0664\n",
      "Training Accuracy: 0.9402, Testing Accuracy: 0.9526\n",
      "\n"
     ]
    },
    {
     "name": "stdout",
     "output_type": "stream",
     "text": [
      "Epoch 40, Loss 0.0603\n",
      "Training Accuracy: 0.9439, Testing Accuracy: 0.9536\n",
      "\n"
     ]
    },
    {
     "name": "stdout",
     "output_type": "stream",
     "text": [
      "Epoch 50, Loss 0.0562\n",
      "Training Accuracy: 0.9465, Testing Accuracy: 0.9567\n",
      "\n"
     ]
    },
    {
     "name": "stdout",
     "output_type": "stream",
     "text": [
      "Epoch 60, Loss 0.0531\n",
      "Training Accuracy: 0.9485, Testing Accuracy: 0.9582\n",
      "\n"
     ]
    },
    {
     "name": "stdout",
     "output_type": "stream",
     "text": [
      "Epoch 70, Loss 0.0507\n",
      "Training Accuracy: 0.9500, Testing Accuracy: 0.9592\n",
      "\n"
     ]
    },
    {
     "name": "stdout",
     "output_type": "stream",
     "text": [
      "Epoch 80, Loss 0.0488\n",
      "Training Accuracy: 0.9508, Testing Accuracy: 0.9617\n",
      "\n"
     ]
    },
    {
     "name": "stdout",
     "output_type": "stream",
     "text": [
      "Epoch 90, Loss 0.0472\n",
      "Training Accuracy: 0.9521, Testing Accuracy: 0.9622\n",
      "\n"
     ]
    },
    {
     "name": "stdout",
     "output_type": "stream",
     "text": [
      "Epoch 100, Loss 0.0458\n",
      "Training Accuracy: 0.9533, Testing Accuracy: 0.9637\n",
      "\n"
     ]
    },
    {
     "name": "stdout",
     "output_type": "stream",
     "text": [
      "Epoch 110, Loss 0.0447\n",
      "Training Accuracy: 0.9545, Testing Accuracy: 0.9652\n",
      "\n"
     ]
    },
    {
     "name": "stdout",
     "output_type": "stream",
     "text": [
      "Epoch 120, Loss 0.0436\n",
      "Training Accuracy: 0.9548, Testing Accuracy: 0.9657\n",
      "\n"
     ]
    },
    {
     "name": "stdout",
     "output_type": "stream",
     "text": [
      "Epoch 130, Loss 0.0427\n",
      "Training Accuracy: 0.9552, Testing Accuracy: 0.9652\n",
      "\n"
     ]
    },
    {
     "name": "stdout",
     "output_type": "stream",
     "text": [
      "Epoch 140, Loss 0.0419\n",
      "Training Accuracy: 0.9557, Testing Accuracy: 0.9647\n",
      "\n"
     ]
    },
    {
     "name": "stdout",
     "output_type": "stream",
     "text": [
      "Epoch 150, Loss 0.0412\n",
      "Training Accuracy: 0.9562, Testing Accuracy: 0.9652\n",
      "\n"
     ]
    },
    {
     "name": "stdout",
     "output_type": "stream",
     "text": [
      "Epoch 160, Loss 0.0406\n",
      "Training Accuracy: 0.9567, Testing Accuracy: 0.9657\n",
      "\n"
     ]
    },
    {
     "name": "stdout",
     "output_type": "stream",
     "text": [
      "Epoch 170, Loss 0.04\n",
      "Training Accuracy: 0.9571, Testing Accuracy: 0.9657\n",
      "\n"
     ]
    },
    {
     "name": "stdout",
     "output_type": "stream",
     "text": [
      "Epoch 180, Loss 0.0394\n",
      "Training Accuracy: 0.9578, Testing Accuracy: 0.9657\n",
      "\n"
     ]
    },
    {
     "name": "stdout",
     "output_type": "stream",
     "text": [
      "Epoch 190, Loss 0.0389\n",
      "Training Accuracy: 0.9584, Testing Accuracy: 0.9657\n",
      "\n"
     ]
    },
    {
     "name": "stdout",
     "output_type": "stream",
     "text": [
      "Epoch 200, Loss 0.0384\n",
      "Training Accuracy: 0.9590, Testing Accuracy: 0.9662\n",
      "\n"
     ]
    },
    {
     "name": "stdout",
     "output_type": "stream",
     "text": [
      "Epoch 210, Loss 0.038\n",
      "Training Accuracy: 0.9591, Testing Accuracy: 0.9667\n",
      "\n"
     ]
    },
    {
     "name": "stdout",
     "output_type": "stream",
     "text": [
      "Epoch 220, Loss 0.0376\n",
      "Training Accuracy: 0.9597, Testing Accuracy: 0.9672\n",
      "\n"
     ]
    },
    {
     "name": "stdout",
     "output_type": "stream",
     "text": [
      "Epoch 230, Loss 0.0372\n",
      "Training Accuracy: 0.9604, Testing Accuracy: 0.9672\n",
      "\n"
     ]
    },
    {
     "name": "stdout",
     "output_type": "stream",
     "text": [
      "Epoch 240, Loss 0.0369\n",
      "Training Accuracy: 0.9604, Testing Accuracy: 0.9677\n",
      "\n"
     ]
    },
    {
     "data": {
      "text/plain": [
       "0.025036663311244302"
      ]
     },
     "execution_count": 23,
     "metadata": {},
     "output_type": "execute_result"
    }
   ],
   "source": [
    "lr_learner.train_loop(dl)"
   ]
  },
  {
   "cell_type": "code",
   "execution_count": 24,
   "id": "ca410940",
   "metadata": {
    "execution": {
     "iopub.execute_input": "2022-09-01T00:41:50.240483Z",
     "iopub.status.busy": "2022-09-01T00:41:50.239860Z",
     "iopub.status.idle": "2022-09-01T00:41:50.473217Z",
     "shell.execute_reply": "2022-09-01T00:41:50.473684Z"
    },
    "papermill": {
     "duration": 0.284352,
     "end_time": "2022-09-01T00:41:50.473834",
     "exception": false,
     "start_time": "2022-09-01T00:41:50.189482",
     "status": "completed"
    },
    "tags": []
   },
   "outputs": [
    {
     "data": {
      "text/plain": [
       "<matplotlib.legend.Legend at 0x7fcfe787ce80>"
      ]
     },
     "execution_count": 24,
     "metadata": {},
     "output_type": "execute_result"
    },
    {
     "data": {
      "image/png": "[encoded data removed]",
      "text/plain": [
       "<Figure size 1080x720 with 1 Axes>"
      ]
     },
     "metadata": {
      "needs_background": "light"
     },
     "output_type": "display_data"
    }
   ],
   "source": [
    "#comparing the results of NN and LR\n",
    "plt.figure(figsize=(15,10))\n",
    "\n",
    "# Neural Network plots\n",
    "plt.plot(acc_nn.accuracies, 'r-', label = \"Training Accuracies - NN\")\n",
    "plt.plot(acc_nn.test_accuracies, 'g-', label = \"Testing Accuracies - NN\")\n",
    "\n",
    "# Logistic Regression plots\n",
    "plt.plot(acc_lr.accuracies, 'k-', label = \"Training Accuracies - LR\")\n",
    "plt.plot(acc_lr.test_accuracies, 'b-', label = \"Testing Accuracies - LR\")\n",
    "plt.legend()"
   ]
  },
  {
   "cell_type": "markdown",
   "id": "80dfb35c",
   "metadata": {
    "papermill": {
     "duration": 0.042042,
     "end_time": "2022-09-01T00:41:50.558306",
     "exception": false,
     "start_time": "2022-09-01T00:41:50.516264",
     "status": "completed"
    },
    "tags": []
   },
   "source": [
    "#### Plotting the outputs of this layer of the NN.\n"
   ]
  },
  {
   "cell_type": "code",
   "execution_count": 25,
   "id": "45eb2ff5",
   "metadata": {
    "execution": {
     "iopub.execute_input": "2022-09-01T00:41:50.650974Z",
     "iopub.status.busy": "2022-09-01T00:41:50.647084Z",
     "iopub.status.idle": "2022-09-01T00:41:50.669340Z",
     "shell.execute_reply": "2022-09-01T00:41:50.669833Z"
    },
    "papermill": {
     "duration": 0.06974,
     "end_time": "2022-09-01T00:41:50.669985",
     "exception": false,
     "start_time": "2022-09-01T00:41:50.600245",
     "status": "completed"
    },
    "tags": []
   },
   "outputs": [],
   "source": [
    "new_model = Model(layers[:-2])\n",
    "testing_plot = new_model(testing_data_x)"
   ]
  },
  {
   "cell_type": "code",
   "execution_count": 26,
   "id": "4c0a5485",
   "metadata": {
    "execution": {
     "iopub.execute_input": "2022-09-01T00:41:50.767580Z",
     "iopub.status.busy": "2022-09-01T00:41:50.766928Z",
     "iopub.status.idle": "2022-09-01T00:41:50.941216Z",
     "shell.execute_reply": "2022-09-01T00:41:50.941686Z"
    },
    "papermill": {
     "duration": 0.229225,
     "end_time": "2022-09-01T00:41:50.941836",
     "exception": false,
     "start_time": "2022-09-01T00:41:50.712611",
     "status": "completed"
    },
    "tags": []
   },
   "outputs": [
    {
     "data": {
      "text/plain": [
       "Text(0.5, 1.0, 'Outputs')"
      ]
     },
     "execution_count": 26,
     "metadata": {},
     "output_type": "execute_result"
    },
    {
     "data": {
      "image/png": "[encoded data removed]",
      "text/plain": [
       "<Figure size 576x504 with 1 Axes>"
      ]
     },
     "metadata": {
      "needs_background": "light"
     },
     "output_type": "display_data"
    }
   ],
   "source": [
    "# Plotting the scatter plot of points and color coding by class\n",
    "plt.figure(figsize=(8,7))\n",
    "plt.scatter(testing_plot[:,0], testing_plot[:,1], alpha = 0.1, c = y_test.ravel());\n",
    "plt.title('Outputs')"
   ]
  },
  {
   "cell_type": "markdown",
   "id": "a74fcf8f",
   "metadata": {
    "papermill": {
     "duration": 0.044162,
     "end_time": "2022-09-01T00:41:51.031641",
     "exception": false,
     "start_time": "2022-09-01T00:41:50.987479",
     "status": "completed"
    },
    "tags": []
   },
   "source": [
    "Probability contours"
   ]
  },
  {
   "cell_type": "code",
   "execution_count": 27,
   "id": "d0afc8e3",
   "metadata": {
    "execution": {
     "iopub.execute_input": "2022-09-01T00:41:51.161420Z",
     "iopub.status.busy": "2022-09-01T00:41:51.159781Z",
     "iopub.status.idle": "2022-09-01T00:41:51.172228Z",
     "shell.execute_reply": "2022-09-01T00:41:51.171745Z"
    },
    "papermill": {
     "duration": 0.096351,
     "end_time": "2022-09-01T00:41:51.172346",
     "exception": false,
     "start_time": "2022-09-01T00:41:51.075995",
     "status": "completed"
    },
    "tags": []
   },
   "outputs": [],
   "source": [
    "model_prob = Model(layers[-2:]) "
   ]
  },
  {
   "cell_type": "code",
   "execution_count": 28,
   "id": "9b96e238",
   "metadata": {
    "execution": {
     "iopub.execute_input": "2022-09-01T00:41:51.266778Z",
     "iopub.status.busy": "2022-09-01T00:41:51.266121Z",
     "iopub.status.idle": "2022-09-01T00:41:51.281960Z",
     "shell.execute_reply": "2022-09-01T00:41:51.282422Z"
    },
    "papermill": {
     "duration": 0.065913,
     "end_time": "2022-09-01T00:41:51.282578",
     "exception": false,
     "start_time": "2022-09-01T00:41:51.216665",
     "status": "completed"
    },
    "tags": []
   },
   "outputs": [],
   "source": [
    "#creating the x and y ranges according to the above generated plot.\n",
    "x_range = np.linspace(-4, 1, 100) \n",
    "y_range = np.linspace(-6, 6, 100) \n",
    "x_grid, y_grid = np.meshgrid(x_range, y_range) # x_grid and y_grig are of size 100 X 100\n",
    "\n",
    "# converting x_grid and y_grid to continuous arrays\n",
    "x_gridflat = np.ravel(x_grid)\n",
    "y_gridflat = np.ravel(y_grid)\n",
    "\n",
    "# The last layer of the current model takes two columns as input. Hence transpose of np.vstack() is required.\n",
    "X = np.vstack((x_gridflat, y_gridflat)).T\n",
    "\n",
    "prob_contour = model_prob(X).reshape(100,100) "
   ]
  },
  {
   "cell_type": "code",
   "execution_count": 29,
   "id": "da72499a",
   "metadata": {
    "execution": {
     "iopub.execute_input": "2022-09-01T00:41:51.377817Z",
     "iopub.status.busy": "2022-09-01T00:41:51.377190Z",
     "iopub.status.idle": "2022-09-01T00:41:51.613759Z",
     "shell.execute_reply": "2022-09-01T00:41:51.613207Z"
    },
    "papermill": {
     "duration": 0.28668,
     "end_time": "2022-09-01T00:41:51.613894",
     "exception": false,
     "start_time": "2022-09-01T00:41:51.327214",
     "status": "completed"
    },
    "tags": []
   },
   "outputs": [
    {
     "data": {
      "image/png": "[encoded data removed]",
      "text/plain": [
       "<Figure size 720x648 with 1 Axes>"
      ]
     },
     "metadata": {
      "needs_background": "light"
     },
     "output_type": "display_data"
    }
   ],
   "source": [
    "plt.figure(figsize=(10,9))\n",
    "plt.scatter(testing_plot[:,0], testing_plot[:,1], alpha = 0.1, c = y_test.ravel())\n",
    "contours = plt.contour(x_grid,y_grid,prob_contour)\n",
    "plt.title('Probability Contours')\n",
    "plt.clabel(contours, inline = True );"
   ]
  },
  {
   "cell_type": "code",
   "execution_count": null,
   "id": "e81b4ac7",
   "metadata": {
    "papermill": {
     "duration": 0.047391,
     "end_time": "2022-09-01T00:41:51.709201",
     "exception": false,
     "start_time": "2022-09-01T00:41:51.661810",
     "status": "completed"
    },
    "tags": []
   },
   "outputs": [],
   "source": []
  }
 ],
 "metadata": {
  "kernelspec": {
   "display_name": "Python 3",
   "language": "python",
   "name": "python3"
  },
  "language_info": {
   "codemirror_mode": {
    "name": "ipython",
    "version": 3
   },
   "file_extension": ".py",
   "mimetype": "text/x-python",
   "name": "python",
   "nbconvert_exporter": "python",
   "pygments_lexer": "ipython3",
   "version": "3.6.15"
  },
  "papermill": {
   "default_parameters": {},
   "duration": 99.368988,
   "end_time": "2022-09-01T00:41:52.176489",
   "environment_variables": {},
   "exception": null,
   "input_path": "2020-08-11-part2.ipynb",
   "output_path": "2020-08-11-part2.ipynb",
   "parameters": {},
   "start_time": "2022-09-01T00:40:12.807501",
   "version": "2.3.3"
  }
 },
 "nbformat": 4,
 "nbformat_minor": 5
}