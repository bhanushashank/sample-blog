{
 "cells": [
  {
   "cell_type": "markdown",
   "id": "98380cd3",
   "metadata": {
    "papermill": {
     "duration": 0.028965,
     "end_time": "2022-04-11T20:10:40.523208",
     "exception": false,
     "start_time": "2022-04-11T20:10:40.494243",
     "status": "completed"
    },
    "tags": []
   },
   "source": [
    "# Distinguish Your Own Digits (DYOD)"
   ]
  },
  {
   "cell_type": "markdown",
   "id": "ef31240d",
   "metadata": {
    "papermill": {
     "duration": 0.025446,
     "end_time": "2022-04-11T20:10:40.573355",
     "exception": false,
     "start_time": "2022-04-11T20:10:40.547909",
     "status": "completed"
    },
    "tags": []
   },
   "source": [
    "You are going to write a classifier that distinguishes between the number 3 and number 8."
   ]
  },
  {
   "cell_type": "code",
   "execution_count": 1,
   "id": "b15c8646",
   "metadata": {
    "execution": {
     "iopub.execute_input": "2022-04-11T20:10:40.632204Z",
     "iopub.status.busy": "2022-04-11T20:10:40.631639Z",
     "iopub.status.idle": "2022-04-11T20:10:40.642706Z",
     "shell.execute_reply": "2022-04-11T20:10:40.642243Z"
    },
    "papermill": {
     "duration": 0.045519,
     "end_time": "2022-04-11T20:10:40.642849",
     "exception": false,
     "start_time": "2022-04-11T20:10:40.597330",
     "status": "completed"
    },
    "tags": []
   },
   "outputs": [],
   "source": [
    "%load_ext autoreload\n",
    "%autoreload 2"
   ]
  },
  {
   "cell_type": "code",
   "execution_count": 2,
   "id": "22ef38dc",
   "metadata": {
    "execution": {
     "iopub.execute_input": "2022-04-11T20:10:40.699442Z",
     "iopub.status.busy": "2022-04-11T20:10:40.698869Z",
     "iopub.status.idle": "2022-04-11T20:10:41.260257Z",
     "shell.execute_reply": "2022-04-11T20:10:41.260678Z"
    },
    "papermill": {
     "duration": 0.593875,
     "end_time": "2022-04-11T20:10:41.260829",
     "exception": false,
     "start_time": "2022-04-11T20:10:40.666954",
     "status": "completed"
    },
    "tags": []
   },
   "outputs": [],
   "source": [
    "%matplotlib inline\n",
    "import numpy as np\n",
    "import matplotlib.pyplot as plt\n",
    "import pandas as pd"
   ]
  },
  {
   "cell_type": "markdown",
   "id": "ba036198",
   "metadata": {
    "papermill": {
     "duration": 0.024771,
     "end_time": "2022-04-11T20:10:41.311653",
     "exception": false,
     "start_time": "2022-04-11T20:10:41.286882",
     "status": "completed"
    },
    "tags": []
   },
   "source": [
    "From the command line run `pip install mnist`. This is a library that will help you bring down the mnist dataset. If you run this from a notebook, you need to put  `!pip install mnist` in a cell by itself."
   ]
  },
  {
   "cell_type": "code",
   "execution_count": 3,
   "id": "bb6ad8a1",
   "metadata": {
    "execution": {
     "iopub.execute_input": "2022-04-11T20:10:41.377617Z",
     "iopub.status.busy": "2022-04-11T20:10:41.370547Z",
     "iopub.status.idle": "2022-04-11T20:10:43.879789Z",
     "shell.execute_reply": "2022-04-11T20:10:43.879302Z"
    },
    "papermill": {
     "duration": 2.542458,
     "end_time": "2022-04-11T20:10:43.879919",
     "exception": false,
     "start_time": "2022-04-11T20:10:41.337461",
     "status": "completed"
    },
    "tags": []
   },
   "outputs": [
    {
     "name": "stdout",
     "output_type": "stream",
     "text": [
      "Collecting mnist\r\n"
     ]
    },
    {
     "name": "stdout",
     "output_type": "stream",
     "text": [
      "  Downloading mnist-0.2.2-py2.py3-none-any.whl (3.5 kB)\r\n",
      "Requirement already satisfied: numpy in /opt/hostedtoolcache/Python/3.6.15/x64/lib/python3.6/site-packages (from mnist) (1.19.5)\r\n"
     ]
    },
    {
     "name": "stdout",
     "output_type": "stream",
     "text": [
      "Installing collected packages: mnist\r\n",
      "Successfully installed mnist-0.2.2\r\n"
     ]
    }
   ],
   "source": [
    "!pip install mnist"
   ]
  },
  {
   "cell_type": "markdown",
   "id": "69df9c9a",
   "metadata": {
    "papermill": {
     "duration": 0.02505,
     "end_time": "2022-04-11T20:10:43.930503",
     "exception": false,
     "start_time": "2022-04-11T20:10:43.905453",
     "status": "completed"
    },
    "tags": []
   },
   "source": [
    "## Preparing the Data"
   ]
  },
  {
   "cell_type": "code",
   "execution_count": 4,
   "id": "7f69d806",
   "metadata": {
    "execution": {
     "iopub.execute_input": "2022-04-11T20:10:43.987009Z",
     "iopub.status.busy": "2022-04-11T20:10:43.986475Z",
     "iopub.status.idle": "2022-04-11T20:10:44.000440Z",
     "shell.execute_reply": "2022-04-11T20:10:44.000001Z"
    },
    "papermill": {
     "duration": 0.045311,
     "end_time": "2022-04-11T20:10:44.000636",
     "exception": false,
     "start_time": "2022-04-11T20:10:43.955325",
     "status": "completed"
    },
    "tags": []
   },
   "outputs": [],
   "source": [
    "import mnist"
   ]
  },
  {
   "cell_type": "code",
   "execution_count": 5,
   "id": "a411e44f",
   "metadata": {
    "execution": {
     "iopub.execute_input": "2022-04-11T20:10:44.056038Z",
     "iopub.status.busy": "2022-04-11T20:10:44.055510Z",
     "iopub.status.idle": "2022-04-11T20:10:44.596338Z",
     "shell.execute_reply": "2022-04-11T20:10:44.595848Z"
    },
    "papermill": {
     "duration": 0.56921,
     "end_time": "2022-04-11T20:10:44.596464",
     "exception": false,
     "start_time": "2022-04-11T20:10:44.027254",
     "status": "completed"
    },
    "tags": []
   },
   "outputs": [],
   "source": [
    "train_images = mnist.train_images()\n",
    "train_labels = mnist.train_labels()"
   ]
  },
  {
   "cell_type": "code",
   "execution_count": 6,
   "id": "dceab3a5",
   "metadata": {
    "execution": {
     "iopub.execute_input": "2022-04-11T20:10:44.657102Z",
     "iopub.status.busy": "2022-04-11T20:10:44.656257Z",
     "iopub.status.idle": "2022-04-11T20:10:44.669749Z",
     "shell.execute_reply": "2022-04-11T20:10:44.670206Z"
    },
    "papermill": {
     "duration": 0.046497,
     "end_time": "2022-04-11T20:10:44.670347",
     "exception": false,
     "start_time": "2022-04-11T20:10:44.623850",
     "status": "completed"
    },
    "tags": []
   },
   "outputs": [
    {
     "data": {
      "text/plain": [
       "((60000, 28, 28), (60000,))"
      ]
     },
     "execution_count": 6,
     "metadata": {},
     "output_type": "execute_result"
    }
   ],
   "source": [
    "train_images.shape, train_labels.shape"
   ]
  },
  {
   "cell_type": "code",
   "execution_count": 7,
   "id": "f50dc2bb",
   "metadata": {
    "execution": {
     "iopub.execute_input": "2022-04-11T20:10:44.727087Z",
     "iopub.status.busy": "2022-04-11T20:10:44.726558Z",
     "iopub.status.idle": "2022-04-11T20:10:44.908796Z",
     "shell.execute_reply": "2022-04-11T20:10:44.908250Z"
    },
    "papermill": {
     "duration": 0.213132,
     "end_time": "2022-04-11T20:10:44.908925",
     "exception": false,
     "start_time": "2022-04-11T20:10:44.695793",
     "status": "completed"
    },
    "tags": []
   },
   "outputs": [],
   "source": [
    "test_images = mnist.test_images()\n",
    "test_labels = mnist.test_labels()"
   ]
  },
  {
   "cell_type": "code",
   "execution_count": 8,
   "id": "fc38cf1b",
   "metadata": {
    "execution": {
     "iopub.execute_input": "2022-04-11T20:10:44.974913Z",
     "iopub.status.busy": "2022-04-11T20:10:44.970570Z",
     "iopub.status.idle": "2022-04-11T20:10:44.979680Z",
     "shell.execute_reply": "2022-04-11T20:10:44.980603Z"
    },
    "papermill": {
     "duration": 0.046361,
     "end_time": "2022-04-11T20:10:44.980750",
     "exception": false,
     "start_time": "2022-04-11T20:10:44.934389",
     "status": "completed"
    },
    "tags": []
   },
   "outputs": [
    {
     "data": {
      "text/plain": [
       "((10000, 28, 28), (10000,))"
      ]
     },
     "execution_count": 8,
     "metadata": {},
     "output_type": "execute_result"
    }
   ],
   "source": [
    "test_images.shape, test_labels.shape"
   ]
  },
  {
   "cell_type": "code",
   "execution_count": 9,
   "id": "f9ed8fe0",
   "metadata": {
    "execution": {
     "iopub.execute_input": "2022-04-11T20:10:45.046841Z",
     "iopub.status.busy": "2022-04-11T20:10:45.035475Z",
     "iopub.status.idle": "2022-04-11T20:10:45.180849Z",
     "shell.execute_reply": "2022-04-11T20:10:45.180342Z"
    },
    "papermill": {
     "duration": 0.174662,
     "end_time": "2022-04-11T20:10:45.180989",
     "exception": false,
     "start_time": "2022-04-11T20:10:45.006327",
     "status": "completed"
    },
    "tags": []
   },
   "outputs": [
    {
     "name": "stdout",
     "output_type": "stream",
     "text": [
      "2\n"
     ]
    },
    {
     "data": {
      "text/plain": [
       "<matplotlib.image.AxesImage at 0x7f6eb9867438>"
      ]
     },
     "execution_count": 9,
     "metadata": {},
     "output_type": "execute_result"
    },
    {
     "data": {
      "image/png": "[encoded data removed]",
      "text/plain": [
       "<Figure size 432x288 with 1 Axes>"
      ]
     },
     "metadata": {
      "needs_background": "light"
     },
     "output_type": "display_data"
    }
   ],
   "source": [
    "image_index = 7776 # You may select anything up to 60,000\n",
    "print(train_labels[image_index]) \n",
    "plt.imshow(train_images[image_index], cmap='Greys')"
   ]
  },
  {
   "cell_type": "markdown",
   "id": "a8d2388d",
   "metadata": {
    "papermill": {
     "duration": 0.02732,
     "end_time": "2022-04-11T20:10:45.235921",
     "exception": false,
     "start_time": "2022-04-11T20:10:45.208601",
     "status": "completed"
    },
    "tags": []
   },
   "source": [
    "## Filter data to get 3 and 8 out"
   ]
  },
  {
   "cell_type": "code",
   "execution_count": 10,
   "id": "776f7fc7",
   "metadata": {
    "execution": {
     "iopub.execute_input": "2022-04-11T20:10:45.294320Z",
     "iopub.status.busy": "2022-04-11T20:10:45.293742Z",
     "iopub.status.idle": "2022-04-11T20:10:45.312985Z",
     "shell.execute_reply": "2022-04-11T20:10:45.312538Z"
    },
    "papermill": {
     "duration": 0.050317,
     "end_time": "2022-04-11T20:10:45.313111",
     "exception": false,
     "start_time": "2022-04-11T20:10:45.262794",
     "status": "completed"
    },
    "tags": []
   },
   "outputs": [],
   "source": [
    "train_filter = np.where((train_labels == 3 ) | (train_labels == 8))\n",
    "test_filter = np.where((test_labels == 3) | (test_labels == 8))\n",
    "X_train, y_train = train_images[train_filter], train_labels[train_filter]\n",
    "X_test, y_test = test_images[test_filter], test_labels[test_filter]"
   ]
  },
  {
   "cell_type": "markdown",
   "id": "948f0b7e",
   "metadata": {
    "papermill": {
     "duration": 0.026659,
     "end_time": "2022-04-11T20:10:45.366643",
     "exception": false,
     "start_time": "2022-04-11T20:10:45.339984",
     "status": "completed"
    },
    "tags": []
   },
   "source": [
    "We normalize the pizel values in the 0 to 1 range"
   ]
  },
  {
   "cell_type": "code",
   "execution_count": 11,
   "id": "ee4c2166",
   "metadata": {
    "execution": {
     "iopub.execute_input": "2022-04-11T20:10:45.426218Z",
     "iopub.status.busy": "2022-04-11T20:10:45.425662Z",
     "iopub.status.idle": "2022-04-11T20:10:45.473160Z",
     "shell.execute_reply": "2022-04-11T20:10:45.473664Z"
    },
    "papermill": {
     "duration": 0.080523,
     "end_time": "2022-04-11T20:10:45.473839",
     "exception": false,
     "start_time": "2022-04-11T20:10:45.393316",
     "status": "completed"
    },
    "tags": []
   },
   "outputs": [],
   "source": [
    "X_train = X_train/255.\n",
    "X_test = X_test/255."
   ]
  },
  {
   "cell_type": "markdown",
   "id": "ddcf4fab",
   "metadata": {
    "papermill": {
     "duration": 0.026673,
     "end_time": "2022-04-11T20:10:45.527877",
     "exception": false,
     "start_time": "2022-04-11T20:10:45.501204",
     "status": "completed"
    },
    "tags": []
   },
   "source": [
    "And setup the labels as 1 (when the digit is 3) and 0 (when the digit is 8)"
   ]
  },
  {
   "cell_type": "code",
   "execution_count": 12,
   "id": "7dc908f2",
   "metadata": {
    "execution": {
     "iopub.execute_input": "2022-04-11T20:10:45.585155Z",
     "iopub.status.busy": "2022-04-11T20:10:45.584632Z",
     "iopub.status.idle": "2022-04-11T20:10:45.597941Z",
     "shell.execute_reply": "2022-04-11T20:10:45.597462Z"
    },
    "papermill": {
     "duration": 0.043392,
     "end_time": "2022-04-11T20:10:45.598073",
     "exception": false,
     "start_time": "2022-04-11T20:10:45.554681",
     "status": "completed"
    },
    "tags": []
   },
   "outputs": [],
   "source": [
    "y_train = 1*(y_train==3)\n",
    "y_test = 1*(y_test==3)"
   ]
  },
  {
   "cell_type": "code",
   "execution_count": 13,
   "id": "01e4e969",
   "metadata": {
    "execution": {
     "iopub.execute_input": "2022-04-11T20:10:45.655498Z",
     "iopub.status.busy": "2022-04-11T20:10:45.654964Z",
     "iopub.status.idle": "2022-04-11T20:10:45.669425Z",
     "shell.execute_reply": "2022-04-11T20:10:45.668997Z"
    },
    "papermill": {
     "duration": 0.044555,
     "end_time": "2022-04-11T20:10:45.669547",
     "exception": false,
     "start_time": "2022-04-11T20:10:45.624992",
     "status": "completed"
    },
    "tags": []
   },
   "outputs": [
    {
     "data": {
      "text/plain": [
       "((11982, 28, 28), (1984, 28, 28))"
      ]
     },
     "execution_count": 13,
     "metadata": {},
     "output_type": "execute_result"
    }
   ],
   "source": [
    "X_train.shape, X_test.shape"
   ]
  },
  {
   "cell_type": "markdown",
   "id": "5ccf3f85",
   "metadata": {
    "papermill": {
     "duration": 0.026963,
     "end_time": "2022-04-11T20:10:45.723446",
     "exception": false,
     "start_time": "2022-04-11T20:10:45.696483",
     "status": "completed"
    },
    "tags": []
   },
   "source": [
    "We reshape the data to flatten the image pixels into a set of features or co-variates:"
   ]
  },
  {
   "cell_type": "code",
   "execution_count": 14,
   "id": "5286a4a3",
   "metadata": {
    "execution": {
     "iopub.execute_input": "2022-04-11T20:10:45.791570Z",
     "iopub.status.busy": "2022-04-11T20:10:45.788636Z",
     "iopub.status.idle": "2022-04-11T20:10:45.798660Z",
     "shell.execute_reply": "2022-04-11T20:10:45.798218Z"
    },
    "papermill": {
     "duration": 0.048373,
     "end_time": "2022-04-11T20:10:45.798789",
     "exception": false,
     "start_time": "2022-04-11T20:10:45.750416",
     "status": "completed"
    },
    "tags": []
   },
   "outputs": [
    {
     "data": {
      "text/plain": [
       "((11982, 784), (1984, 784))"
      ]
     },
     "execution_count": 14,
     "metadata": {},
     "output_type": "execute_result"
    }
   ],
   "source": [
    "X_train = X_train.reshape(X_train.shape[0], -1)\n",
    "X_test = X_test.reshape(X_test.shape[0], -1)\n",
    "X_train.shape, X_test.shape"
   ]
  },
  {
   "cell_type": "code",
   "execution_count": 15,
   "id": "73c5f88a",
   "metadata": {
    "execution": {
     "iopub.execute_input": "2022-04-11T20:10:45.858512Z",
     "iopub.status.busy": "2022-04-11T20:10:45.857972Z",
     "iopub.status.idle": "2022-04-11T20:10:45.876524Z",
     "shell.execute_reply": "2022-04-11T20:10:45.876083Z"
    },
    "papermill": {
     "duration": 0.050342,
     "end_time": "2022-04-11T20:10:45.876648",
     "exception": false,
     "start_time": "2022-04-11T20:10:45.826306",
     "status": "completed"
    },
    "tags": []
   },
   "outputs": [],
   "source": [
    "#Impoting functions from 'Kudzu'\n",
    "from kudzu.model import Model\n",
    "from kudzu.train import Learner\n",
    "from kudzu.optim import GD\n",
    "from kudzu.data import Data, Sampler,Dataloader\n",
    "\n",
    "from kudzu.callbacks import AccCallback\n",
    "from kudzu.callbacks import ClfCallback\n",
    "\n",
    "from kudzu.loss import MSE\n",
    "\n",
    "from kudzu.layer import Sigmoid,Relu\n",
    "from kudzu.layer import Affine"
   ]
  },
  {
   "cell_type": "markdown",
   "id": "bc01172a",
   "metadata": {
    "papermill": {
     "duration": 0.027136,
     "end_time": "2022-04-11T20:10:45.931126",
     "exception": false,
     "start_time": "2022-04-11T20:10:45.903990",
     "status": "completed"
    },
    "tags": []
   },
   "source": [
    "### Let us create a `Config` class, to store important parameters. \n",
    "This class essentially plays the role of a dictionary."
   ]
  },
  {
   "cell_type": "code",
   "execution_count": 16,
   "id": "978281aa",
   "metadata": {
    "execution": {
     "iopub.execute_input": "2022-04-11T20:10:45.998567Z",
     "iopub.status.busy": "2022-04-11T20:10:45.997969Z",
     "iopub.status.idle": "2022-04-11T20:10:46.004345Z",
     "shell.execute_reply": "2022-04-11T20:10:46.004746Z"
    },
    "papermill": {
     "duration": 0.046685,
     "end_time": "2022-04-11T20:10:46.004890",
     "exception": false,
     "start_time": "2022-04-11T20:10:45.958205",
     "status": "completed"
    },
    "tags": []
   },
   "outputs": [],
   "source": [
    "class Config:\n",
    "    pass\n",
    "config = Config()\n",
    "config.lr = 0.001\n",
    "config.num_epochs = 250\n",
    "config.bs = 50"
   ]
  },
  {
   "cell_type": "markdown",
   "id": "1385fa59",
   "metadata": {
    "papermill": {
     "duration": 0.027328,
     "end_time": "2022-04-11T20:10:46.059604",
     "exception": false,
     "start_time": "2022-04-11T20:10:46.032276",
     "status": "completed"
    },
    "tags": []
   },
   "source": [
    "### Running Models with the Training data\n",
    "Details about the network layers:\n",
    "- A first affine layer has 784 inputs and does 100 affine transforms. These are followed by a Relu\n",
    "- A second affine layer has 100 inputs from the 100 activations of the past layer, and does 100 affine transforms. These are followed by a Relu\n",
    "- A third affine layer has 100 activations and does 2 affine transformations to create an embedding for visualization. There is no non-linearity here.\n",
    "- A final \"logistic regression\" which has an affine transform from 2 inputs to 1 output, which is squeezed through a sigmoid.\n"
   ]
  },
  {
   "cell_type": "code",
   "execution_count": 17,
   "id": "2b9c66db",
   "metadata": {
    "execution": {
     "iopub.execute_input": "2022-04-11T20:10:46.118588Z",
     "iopub.status.busy": "2022-04-11T20:10:46.118036Z",
     "iopub.status.idle": "2022-04-11T20:10:46.131213Z",
     "shell.execute_reply": "2022-04-11T20:10:46.130767Z"
    },
    "papermill": {
     "duration": 0.044427,
     "end_time": "2022-04-11T20:10:46.131339",
     "exception": false,
     "start_time": "2022-04-11T20:10:46.086912",
     "status": "completed"
    },
    "tags": []
   },
   "outputs": [],
   "source": [
    "data = Data(X_train, y_train.reshape(-1,1))\n",
    "sampler = Sampler(data, config.bs, shuffle=True)\n",
    "\n",
    "dl = Dataloader(data, sampler)\n",
    "\n",
    "opt = GD(config.lr)\n",
    "loss = MSE()"
   ]
  },
  {
   "cell_type": "code",
   "execution_count": 18,
   "id": "b275e4c2",
   "metadata": {
    "execution": {
     "iopub.execute_input": "2022-04-11T20:10:46.193031Z",
     "iopub.status.busy": "2022-04-11T20:10:46.192458Z",
     "iopub.status.idle": "2022-04-11T20:10:46.203353Z",
     "shell.execute_reply": "2022-04-11T20:10:46.202898Z"
    },
    "papermill": {
     "duration": 0.044856,
     "end_time": "2022-04-11T20:10:46.203484",
     "exception": false,
     "start_time": "2022-04-11T20:10:46.158628",
     "status": "completed"
    },
    "tags": []
   },
   "outputs": [],
   "source": [
    "training_data_x = X_train\n",
    "testing_data_x = X_test\n",
    "training_data_y = y_train.reshape(-1,1)\n",
    "testing_data_y = y_test.reshape(-1,1)"
   ]
  },
  {
   "cell_type": "code",
   "execution_count": 19,
   "id": "76951160",
   "metadata": {
    "execution": {
     "iopub.execute_input": "2022-04-11T20:10:46.275638Z",
     "iopub.status.busy": "2022-04-11T20:10:46.270880Z",
     "iopub.status.idle": "2022-04-11T20:10:46.282003Z",
     "shell.execute_reply": "2022-04-11T20:10:46.281513Z"
    },
    "papermill": {
     "duration": 0.051408,
     "end_time": "2022-04-11T20:10:46.282127",
     "exception": false,
     "start_time": "2022-04-11T20:10:46.230719",
     "status": "completed"
    },
    "tags": []
   },
   "outputs": [
    {
     "name": "stdout",
     "output_type": "stream",
     "text": [
      "xavier\n",
      "xavier\n",
      "xavier\n",
      "xavier\n",
      "xavier\n"
     ]
    }
   ],
   "source": [
    "layers = [Affine(\"first\", 784, 100), Relu(\"first\"), Affine(\"second\", 100, 100), Relu(\"second\"), Affine(\"third\", 100, 2), Affine(\"last\", 2, 1), Sigmoid(\"last\")]\n",
    "model_nn = Model(layers)\n",
    "model_lr = Model([Affine(\"logits\", 784, 1), Sigmoid(\"sigmoid\")])"
   ]
  },
  {
   "cell_type": "code",
   "execution_count": 20,
   "id": "6eede77a",
   "metadata": {
    "execution": {
     "iopub.execute_input": "2022-04-11T20:10:46.349895Z",
     "iopub.status.busy": "2022-04-11T20:10:46.349286Z",
     "iopub.status.idle": "2022-04-11T20:10:46.356730Z",
     "shell.execute_reply": "2022-04-11T20:10:46.356305Z"
    },
    "papermill": {
     "duration": 0.047041,
     "end_time": "2022-04-11T20:10:46.356851",
     "exception": false,
     "start_time": "2022-04-11T20:10:46.309810",
     "status": "completed"
    },
    "tags": []
   },
   "outputs": [],
   "source": [
    "nn_learner = Learner(loss, model_nn, opt, config.num_epochs)\n",
    "acc_nn = ClfCallback(nn_learner, config.bs, training_data_x , testing_data_x, training_data_y, testing_data_y)\n",
    "nn_learner.set_callbacks([acc_nn])"
   ]
  },
  {
   "cell_type": "code",
   "execution_count": 21,
   "id": "877b6cc7",
   "metadata": {
    "execution": {
     "iopub.execute_input": "2022-04-11T20:10:46.427208Z",
     "iopub.status.busy": "2022-04-11T20:10:46.426633Z",
     "iopub.status.idle": "2022-04-11T20:10:46.433804Z",
     "shell.execute_reply": "2022-04-11T20:10:46.433330Z"
    },
    "papermill": {
     "duration": 0.049592,
     "end_time": "2022-04-11T20:10:46.433938",
     "exception": false,
     "start_time": "2022-04-11T20:10:46.384346",
     "status": "completed"
    },
    "tags": []
   },
   "outputs": [],
   "source": [
    "lr_learner = Learner(loss, model_lr, opt, config.num_epochs)\n",
    "acc_lr = ClfCallback(lr_learner, config.bs, training_data_x , testing_data_x, training_data_y, testing_data_y)\n",
    "lr_learner.set_callbacks([acc_lr])"
   ]
  },
  {
   "cell_type": "code",
   "execution_count": 22,
   "id": "d9b133c3",
   "metadata": {
    "execution": {
     "iopub.execute_input": "2022-04-11T20:10:46.499216Z",
     "iopub.status.busy": "2022-04-11T20:10:46.498656Z",
     "iopub.status.idle": "2022-04-11T20:12:08.065918Z",
     "shell.execute_reply": "2022-04-11T20:12:08.066726Z"
    },
    "papermill": {
     "duration": 81.605542,
     "end_time": "2022-04-11T20:12:08.066885",
     "exception": false,
     "start_time": "2022-04-11T20:10:46.461343",
     "status": "completed"
    },
    "tags": []
   },
   "outputs": [
    {
     "name": "stdout",
     "output_type": "stream",
     "text": [
      "Epoch 0, Loss 0.228\n",
      "Training Accuracy: 0.7771, Testing Accuracy: 0.7812\n",
      "\n"
     ]
    },
    {
     "name": "stdout",
     "output_type": "stream",
     "text": [
      "Epoch 10, Loss 0.0814\n",
      "Training Accuracy: 0.9271, Testing Accuracy: 0.9350\n",
      "\n"
     ]
    },
    {
     "name": "stdout",
     "output_type": "stream",
     "text": [
      "Epoch 20, Loss 0.0517\n",
      "Training Accuracy: 0.9490, Testing Accuracy: 0.9521\n",
      "\n"
     ]
    },
    {
     "name": "stdout",
     "output_type": "stream",
     "text": [
      "Epoch 30, Loss 0.0412\n",
      "Training Accuracy: 0.9566, Testing Accuracy: 0.9602\n",
      "\n"
     ]
    },
    {
     "name": "stdout",
     "output_type": "stream",
     "text": [
      "Epoch 40, Loss 0.0361\n",
      "Training Accuracy: 0.9606, Testing Accuracy: 0.9642\n",
      "\n"
     ]
    },
    {
     "name": "stdout",
     "output_type": "stream",
     "text": [
      "Epoch 50, Loss 0.033\n",
      "Training Accuracy: 0.9634, Testing Accuracy: 0.9682\n",
      "\n"
     ]
    },
    {
     "name": "stdout",
     "output_type": "stream",
     "text": [
      "Epoch 60, Loss 0.0307\n",
      "Training Accuracy: 0.9653, Testing Accuracy: 0.9698\n",
      "\n"
     ]
    },
    {
     "name": "stdout",
     "output_type": "stream",
     "text": [
      "Epoch 70, Loss 0.0291\n",
      "Training Accuracy: 0.9666, Testing Accuracy: 0.9703\n",
      "\n"
     ]
    },
    {
     "name": "stdout",
     "output_type": "stream",
     "text": [
      "Epoch 80, Loss 0.0277\n",
      "Training Accuracy: 0.9678, Testing Accuracy: 0.9718\n",
      "\n"
     ]
    },
    {
     "name": "stdout",
     "output_type": "stream",
     "text": [
      "Epoch 90, Loss 0.0266\n",
      "Training Accuracy: 0.9691, Testing Accuracy: 0.9713\n",
      "\n"
     ]
    },
    {
     "name": "stdout",
     "output_type": "stream",
     "text": [
      "Epoch 100, Loss 0.0257\n",
      "Training Accuracy: 0.9700, Testing Accuracy: 0.9718\n",
      "\n"
     ]
    },
    {
     "name": "stdout",
     "output_type": "stream",
     "text": [
      "Epoch 110, Loss 0.0248\n",
      "Training Accuracy: 0.9708, Testing Accuracy: 0.9703\n",
      "\n"
     ]
    },
    {
     "name": "stdout",
     "output_type": "stream",
     "text": [
      "Epoch 120, Loss 0.0241\n",
      "Training Accuracy: 0.9721, Testing Accuracy: 0.9703\n",
      "\n"
     ]
    },
    {
     "name": "stdout",
     "output_type": "stream",
     "text": [
      "Epoch 130, Loss 0.0234\n",
      "Training Accuracy: 0.9730, Testing Accuracy: 0.9723\n",
      "\n"
     ]
    },
    {
     "name": "stdout",
     "output_type": "stream",
     "text": [
      "Epoch 140, Loss 0.0228\n",
      "Training Accuracy: 0.9744, Testing Accuracy: 0.9733\n",
      "\n"
     ]
    },
    {
     "name": "stdout",
     "output_type": "stream",
     "text": [
      "Epoch 150, Loss 0.0222\n",
      "Training Accuracy: 0.9751, Testing Accuracy: 0.9728\n",
      "\n"
     ]
    },
    {
     "name": "stdout",
     "output_type": "stream",
     "text": [
      "Epoch 160, Loss 0.0217\n",
      "Training Accuracy: 0.9755, Testing Accuracy: 0.9728\n",
      "\n"
     ]
    },
    {
     "name": "stdout",
     "output_type": "stream",
     "text": [
      "Epoch 170, Loss 0.0212\n",
      "Training Accuracy: 0.9758, Testing Accuracy: 0.9733\n",
      "\n"
     ]
    },
    {
     "name": "stdout",
     "output_type": "stream",
     "text": [
      "Epoch 180, Loss 0.0207\n",
      "Training Accuracy: 0.9765, Testing Accuracy: 0.9728\n",
      "\n"
     ]
    },
    {
     "name": "stdout",
     "output_type": "stream",
     "text": [
      "Epoch 190, Loss 0.0203\n",
      "Training Accuracy: 0.9769, Testing Accuracy: 0.9728\n",
      "\n"
     ]
    },
    {
     "name": "stdout",
     "output_type": "stream",
     "text": [
      "Epoch 200, Loss 0.0198\n",
      "Training Accuracy: 0.9775, Testing Accuracy: 0.9728\n",
      "\n"
     ]
    },
    {
     "name": "stdout",
     "output_type": "stream",
     "text": [
      "Epoch 210, Loss 0.0194\n",
      "Training Accuracy: 0.9781, Testing Accuracy: 0.9733\n",
      "\n"
     ]
    },
    {
     "name": "stdout",
     "output_type": "stream",
     "text": [
      "Epoch 220, Loss 0.0191\n",
      "Training Accuracy: 0.9785, Testing Accuracy: 0.9733\n",
      "\n"
     ]
    },
    {
     "name": "stdout",
     "output_type": "stream",
     "text": [
      "Epoch 230, Loss 0.0187\n",
      "Training Accuracy: 0.9792, Testing Accuracy: 0.9738\n",
      "\n"
     ]
    },
    {
     "name": "stdout",
     "output_type": "stream",
     "text": [
      "Epoch 240, Loss 0.0183\n",
      "Training Accuracy: 0.9804, Testing Accuracy: 0.9743\n",
      "\n"
     ]
    },
    {
     "data": {
      "text/plain": [
       "0.010133891492054457"
      ]
     },
     "execution_count": 22,
     "metadata": {},
     "output_type": "execute_result"
    }
   ],
   "source": [
    "nn_learner.train_loop(dl)"
   ]
  },
  {
   "cell_type": "code",
   "execution_count": 23,
   "id": "e0163366",
   "metadata": {
    "execution": {
     "iopub.execute_input": "2022-04-11T20:12:08.147057Z",
     "iopub.status.busy": "2022-04-11T20:12:08.146511Z",
     "iopub.status.idle": "2022-04-11T20:12:22.857406Z",
     "shell.execute_reply": "2022-04-11T20:12:22.858200Z"
    },
    "papermill": {
     "duration": 14.756298,
     "end_time": "2022-04-11T20:12:22.858352",
     "exception": false,
     "start_time": "2022-04-11T20:12:08.102054",
     "status": "completed"
    },
    "tags": []
   },
   "outputs": [
    {
     "name": "stdout",
     "output_type": "stream",
     "text": [
      "Epoch 0, Loss 0.2564\n",
      "Training Accuracy: 0.6442, Testing Accuracy: 0.6205\n",
      "\n"
     ]
    },
    {
     "name": "stdout",
     "output_type": "stream",
     "text": [
      "Epoch 10, Loss 0.1032\n",
      "Training Accuracy: 0.9098, Testing Accuracy: 0.9214\n",
      "\n"
     ]
    },
    {
     "name": "stdout",
     "output_type": "stream",
     "text": [
      "Epoch 20, Loss 0.0792\n",
      "Training Accuracy: 0.9285, Testing Accuracy: 0.9400\n",
      "\n"
     ]
    },
    {
     "name": "stdout",
     "output_type": "stream",
     "text": [
      "Epoch 30, Loss 0.0683\n",
      "Training Accuracy: 0.9361, Testing Accuracy: 0.9466\n",
      "\n"
     ]
    },
    {
     "name": "stdout",
     "output_type": "stream",
     "text": [
      "Epoch 40, Loss 0.0617\n",
      "Training Accuracy: 0.9408, Testing Accuracy: 0.9536\n",
      "\n"
     ]
    },
    {
     "name": "stdout",
     "output_type": "stream",
     "text": [
      "Epoch 50, Loss 0.0572\n",
      "Training Accuracy: 0.9448, Testing Accuracy: 0.9582\n",
      "\n"
     ]
    },
    {
     "name": "stdout",
     "output_type": "stream",
     "text": [
      "Epoch 60, Loss 0.0539\n",
      "Training Accuracy: 0.9473, Testing Accuracy: 0.9587\n",
      "\n"
     ]
    },
    {
     "name": "stdout",
     "output_type": "stream",
     "text": [
      "Epoch 70, Loss 0.0513\n",
      "Training Accuracy: 0.9492, Testing Accuracy: 0.9602\n",
      "\n"
     ]
    },
    {
     "name": "stdout",
     "output_type": "stream",
     "text": [
      "Epoch 80, Loss 0.0492\n",
      "Training Accuracy: 0.9504, Testing Accuracy: 0.9612\n",
      "\n"
     ]
    },
    {
     "name": "stdout",
     "output_type": "stream",
     "text": [
      "Epoch 90, Loss 0.0475\n",
      "Training Accuracy: 0.9513, Testing Accuracy: 0.9627\n",
      "\n"
     ]
    },
    {
     "name": "stdout",
     "output_type": "stream",
     "text": [
      "Epoch 100, Loss 0.0461\n",
      "Training Accuracy: 0.9529, Testing Accuracy: 0.9632\n",
      "\n"
     ]
    },
    {
     "name": "stdout",
     "output_type": "stream",
     "text": [
      "Epoch 110, Loss 0.0449\n",
      "Training Accuracy: 0.9542, Testing Accuracy: 0.9637\n",
      "\n"
     ]
    },
    {
     "name": "stdout",
     "output_type": "stream",
     "text": [
      "Epoch 120, Loss 0.0438\n",
      "Training Accuracy: 0.9548, Testing Accuracy: 0.9642\n",
      "\n"
     ]
    },
    {
     "name": "stdout",
     "output_type": "stream",
     "text": [
      "Epoch 130, Loss 0.0428\n",
      "Training Accuracy: 0.9555, Testing Accuracy: 0.9642\n",
      "\n"
     ]
    },
    {
     "name": "stdout",
     "output_type": "stream",
     "text": [
      "Epoch 140, Loss 0.042\n",
      "Training Accuracy: 0.9559, Testing Accuracy: 0.9642\n",
      "\n"
     ]
    },
    {
     "name": "stdout",
     "output_type": "stream",
     "text": [
      "Epoch 150, Loss 0.0412\n",
      "Training Accuracy: 0.9560, Testing Accuracy: 0.9647\n",
      "\n"
     ]
    },
    {
     "name": "stdout",
     "output_type": "stream",
     "text": [
      "Epoch 160, Loss 0.0406\n",
      "Training Accuracy: 0.9569, Testing Accuracy: 0.9652\n",
      "\n"
     ]
    },
    {
     "name": "stdout",
     "output_type": "stream",
     "text": [
      "Epoch 170, Loss 0.04\n",
      "Training Accuracy: 0.9573, Testing Accuracy: 0.9652\n",
      "\n"
     ]
    },
    {
     "name": "stdout",
     "output_type": "stream",
     "text": [
      "Epoch 180, Loss 0.0394\n",
      "Training Accuracy: 0.9584, Testing Accuracy: 0.9652\n",
      "\n"
     ]
    },
    {
     "name": "stdout",
     "output_type": "stream",
     "text": [
      "Epoch 190, Loss 0.0389\n",
      "Training Accuracy: 0.9594, Testing Accuracy: 0.9657\n",
      "\n"
     ]
    },
    {
     "name": "stdout",
     "output_type": "stream",
     "text": [
      "Epoch 200, Loss 0.0384\n",
      "Training Accuracy: 0.9597, Testing Accuracy: 0.9657\n",
      "\n"
     ]
    },
    {
     "name": "stdout",
     "output_type": "stream",
     "text": [
      "Epoch 210, Loss 0.0379\n",
      "Training Accuracy: 0.9598, Testing Accuracy: 0.9657\n",
      "\n"
     ]
    },
    {
     "name": "stdout",
     "output_type": "stream",
     "text": [
      "Epoch 220, Loss 0.0375\n",
      "Training Accuracy: 0.9603, Testing Accuracy: 0.9662\n",
      "\n"
     ]
    },
    {
     "name": "stdout",
     "output_type": "stream",
     "text": [
      "Epoch 230, Loss 0.0371\n",
      "Training Accuracy: 0.9608, Testing Accuracy: 0.9662\n",
      "\n"
     ]
    },
    {
     "name": "stdout",
     "output_type": "stream",
     "text": [
      "Epoch 240, Loss 0.0368\n",
      "Training Accuracy: 0.9609, Testing Accuracy: 0.9662\n",
      "\n"
     ]
    },
    {
     "data": {
      "text/plain": [
       "0.049933068120917606"
      ]
     },
     "execution_count": 23,
     "metadata": {},
     "output_type": "execute_result"
    }
   ],
   "source": [
    "lr_learner.train_loop(dl)"
   ]
  },
  {
   "cell_type": "code",
   "execution_count": 24,
   "id": "ca410940",
   "metadata": {
    "execution": {
     "iopub.execute_input": "2022-04-11T20:12:22.955018Z",
     "iopub.status.busy": "2022-04-11T20:12:22.954451Z",
     "iopub.status.idle": "2022-04-11T20:12:23.182779Z",
     "shell.execute_reply": "2022-04-11T20:12:23.183270Z"
    },
    "papermill": {
     "duration": 0.28273,
     "end_time": "2022-04-11T20:12:23.183434",
     "exception": false,
     "start_time": "2022-04-11T20:12:22.900704",
     "status": "completed"
    },
    "tags": []
   },
   "outputs": [
    {
     "data": {
      "text/plain": [
       "<matplotlib.legend.Legend at 0x7f6eb9449b38>"
      ]
     },
     "execution_count": 24,
     "metadata": {},
     "output_type": "execute_result"
    },
    {
     "data": {
      "image/png": "[encoded data removed]",
      "text/plain": [
       "<Figure size 1080x720 with 1 Axes>"
      ]
     },
     "metadata": {
      "needs_background": "light"
     },
     "output_type": "display_data"
    }
   ],
   "source": [
    "#comparing the results of NN and LR\n",
    "plt.figure(figsize=(15,10))\n",
    "\n",
    "# Neural Network plots\n",
    "plt.plot(acc_nn.accuracies, 'r-', label = \"Training Accuracies - NN\")\n",
    "plt.plot(acc_nn.test_accuracies, 'g-', label = \"Testing Accuracies - NN\")\n",
    "\n",
    "# Logistic Regression plots\n",
    "plt.plot(acc_lr.accuracies, 'k-', label = \"Training Accuracies - LR\")\n",
    "plt.plot(acc_lr.test_accuracies, 'b-', label = \"Testing Accuracies - LR\")\n",
    "plt.legend()"
   ]
  },
  {
   "cell_type": "markdown",
   "id": "80dfb35c",
   "metadata": {
    "papermill": {
     "duration": 0.042141,
     "end_time": "2022-04-11T20:12:23.268280",
     "exception": false,
     "start_time": "2022-04-11T20:12:23.226139",
     "status": "completed"
    },
    "tags": []
   },
   "source": [
    "#### Plotting the outputs of this layer of the NN.\n"
   ]
  },
  {
   "cell_type": "code",
   "execution_count": 25,
   "id": "45eb2ff5",
   "metadata": {
    "execution": {
     "iopub.execute_input": "2022-04-11T20:12:23.356708Z",
     "iopub.status.busy": "2022-04-11T20:12:23.356164Z",
     "iopub.status.idle": "2022-04-11T20:12:23.375821Z",
     "shell.execute_reply": "2022-04-11T20:12:23.376270Z"
    },
    "papermill": {
     "duration": 0.06594,
     "end_time": "2022-04-11T20:12:23.376414",
     "exception": false,
     "start_time": "2022-04-11T20:12:23.310474",
     "status": "completed"
    },
    "tags": []
   },
   "outputs": [],
   "source": [
    "new_model = Model(layers[:-2])\n",
    "testing_plot = new_model(testing_data_x)"
   ]
  },
  {
   "cell_type": "code",
   "execution_count": 26,
   "id": "4c0a5485",
   "metadata": {
    "execution": {
     "iopub.execute_input": "2022-04-11T20:12:23.466451Z",
     "iopub.status.busy": "2022-04-11T20:12:23.465908Z",
     "iopub.status.idle": "2022-04-11T20:12:23.658990Z",
     "shell.execute_reply": "2022-04-11T20:12:23.658491Z"
    },
    "papermill": {
     "duration": 0.238896,
     "end_time": "2022-04-11T20:12:23.659111",
     "exception": false,
     "start_time": "2022-04-11T20:12:23.420215",
     "status": "completed"
    },
    "tags": []
   },
   "outputs": [
    {
     "data": {
      "text/plain": [
       "Text(0.5, 1.0, 'Outputs')"
      ]
     },
     "execution_count": 26,
     "metadata": {},
     "output_type": "execute_result"
    },
    {
     "data": {
      "image/png": "[encoded data removed]",
      "text/plain": [
       "<Figure size 576x504 with 1 Axes>"
      ]
     },
     "metadata": {
      "needs_background": "light"
     },
     "output_type": "display_data"
    }
   ],
   "source": [
    "# Plotting the scatter plot of points and color coding by class\n",
    "plt.figure(figsize=(8,7))\n",
    "plt.scatter(testing_plot[:,0], testing_plot[:,1], alpha = 0.1, c = y_test.ravel());\n",
    "plt.title('Outputs')"
   ]
  },
  {
   "cell_type": "markdown",
   "id": "a74fcf8f",
   "metadata": {
    "papermill": {
     "duration": 0.044815,
     "end_time": "2022-04-11T20:12:23.748529",
     "exception": false,
     "start_time": "2022-04-11T20:12:23.703714",
     "status": "completed"
    },
    "tags": []
   },
   "source": [
    "Probability contours"
   ]
  },
  {
   "cell_type": "code",
   "execution_count": 27,
   "id": "d0afc8e3",
   "metadata": {
    "execution": {
     "iopub.execute_input": "2022-04-11T20:12:23.842752Z",
     "iopub.status.busy": "2022-04-11T20:12:23.841097Z",
     "iopub.status.idle": "2022-04-11T20:12:23.852832Z",
     "shell.execute_reply": "2022-04-11T20:12:23.853253Z"
    },
    "papermill": {
     "duration": 0.060061,
     "end_time": "2022-04-11T20:12:23.853403",
     "exception": false,
     "start_time": "2022-04-11T20:12:23.793342",
     "status": "completed"
    },
    "tags": []
   },
   "outputs": [],
   "source": [
    "model_prob = Model(layers[-2:]) "
   ]
  },
  {
   "cell_type": "code",
   "execution_count": 28,
   "id": "9b96e238",
   "metadata": {
    "execution": {
     "iopub.execute_input": "2022-04-11T20:12:23.951139Z",
     "iopub.status.busy": "2022-04-11T20:12:23.950571Z",
     "iopub.status.idle": "2022-04-11T20:12:23.964185Z",
     "shell.execute_reply": "2022-04-11T20:12:23.964584Z"
    },
    "papermill": {
     "duration": 0.065945,
     "end_time": "2022-04-11T20:12:23.964739",
     "exception": false,
     "start_time": "2022-04-11T20:12:23.898794",
     "status": "completed"
    },
    "tags": []
   },
   "outputs": [],
   "source": [
    "#creating the x and y ranges according to the above generated plot.\n",
    "x_range = np.linspace(-4, 1, 100) \n",
    "y_range = np.linspace(-6, 6, 100) \n",
    "x_grid, y_grid = np.meshgrid(x_range, y_range) # x_grid and y_grig are of size 100 X 100\n",
    "\n",
    "# converting x_grid and y_grid to continuous arrays\n",
    "x_gridflat = np.ravel(x_grid)\n",
    "y_gridflat = np.ravel(y_grid)\n",
    "\n",
    "# The last layer of the current model takes two columns as input. Hence transpose of np.vstack() is required.\n",
    "X = np.vstack((x_gridflat, y_gridflat)).T\n",
    "\n",
    "prob_contour = model_prob(X).reshape(100,100) "
   ]
  },
  {
   "cell_type": "code",
   "execution_count": 29,
   "id": "da72499a",
   "metadata": {
    "execution": {
     "iopub.execute_input": "2022-04-11T20:12:24.091815Z",
     "iopub.status.busy": "2022-04-11T20:12:24.091290Z",
     "iopub.status.idle": "2022-04-11T20:12:24.348650Z",
     "shell.execute_reply": "2022-04-11T20:12:24.348218Z"
    },
    "papermill": {
     "duration": 0.339378,
     "end_time": "2022-04-11T20:12:24.348774",
     "exception": false,
     "start_time": "2022-04-11T20:12:24.009396",
     "status": "completed"
    },
    "tags": []
   },
   "outputs": [
    {
     "data": {
      "image/png": "[encoded data removed]",
      "text/plain": [
       "<Figure size 720x648 with 1 Axes>"
      ]
     },
     "metadata": {
      "needs_background": "light"
     },
     "output_type": "display_data"
    }
   ],
   "source": [
    "plt.figure(figsize=(10,9))\n",
    "plt.scatter(testing_plot[:,0], testing_plot[:,1], alpha = 0.1, c = y_test.ravel())\n",
    "contours = plt.contour(x_grid,y_grid,prob_contour)\n",
    "plt.title('Probability Contours')\n",
    "plt.clabel(contours, inline = True );"
   ]
  },
  {
   "cell_type": "code",
   "execution_count": null,
   "id": "e81b4ac7",
   "metadata": {
    "papermill": {
     "duration": 0.047466,
     "end_time": "2022-04-11T20:12:24.444528",
     "exception": false,
     "start_time": "2022-04-11T20:12:24.397062",
     "status": "completed"
    },
    "tags": []
   },
   "outputs": [],
   "source": []
  }
 ],
 "metadata": {
  "kernelspec": {
   "display_name": "Python 3",
   "language": "python",
   "name": "python3"
  },
  "language_info": {
   "codemirror_mode": {
    "name": "ipython",
    "version": 3
   },
   "file_extension": ".py",
   "mimetype": "text/x-python",
   "name": "python",
   "nbconvert_exporter": "python",
   "pygments_lexer": "ipython3",
   "version": "3.6.15"
  },
  "papermill": {
   "default_parameters": {},
   "duration": 105.379575,
   "end_time": "2022-04-11T20:12:24.911055",
   "environment_variables": {},
   "exception": null,
   "input_path": "2020-08-11-part2.ipynb",
   "output_path": "2020-08-11-part2.ipynb",
   "parameters": {},
   "start_time": "2022-04-11T20:10:39.531480",
   "version": "2.3.3"
  }
 },
 "nbformat": 4,
 "nbformat_minor": 5
}