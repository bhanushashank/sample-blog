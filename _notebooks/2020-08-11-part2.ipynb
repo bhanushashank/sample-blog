{
 "cells": [
  {
   "cell_type": "markdown",
   "id": "98380cd3",
   "metadata": {
    "papermill": {
     "duration": 0.034368,
     "end_time": "2021-09-12T00:21:58.635511",
     "exception": false,
     "start_time": "2021-09-12T00:21:58.601143",
     "status": "completed"
    },
    "tags": []
   },
   "source": [
    "# Distinguish Your Own Digits (DYOD)"
   ]
  },
  {
   "cell_type": "markdown",
   "id": "ef31240d",
   "metadata": {
    "papermill": {
     "duration": 0.028482,
     "end_time": "2021-09-12T00:21:58.692500",
     "exception": false,
     "start_time": "2021-09-12T00:21:58.664018",
     "status": "completed"
    },
    "tags": []
   },
   "source": [
    "You are going to write a classifier that distinguishes between the number 3 and number 8."
   ]
  },
  {
   "cell_type": "code",
   "execution_count": 1,
   "id": "b15c8646",
   "metadata": {
    "execution": {
     "iopub.execute_input": "2021-09-12T00:21:58.756698Z",
     "iopub.status.busy": "2021-09-12T00:21:58.756111Z",
     "iopub.status.idle": "2021-09-12T00:21:58.766721Z",
     "shell.execute_reply": "2021-09-12T00:21:58.766224Z"
    },
    "papermill": {
     "duration": 0.047152,
     "end_time": "2021-09-12T00:21:58.766847",
     "exception": false,
     "start_time": "2021-09-12T00:21:58.719695",
     "status": "completed"
    },
    "tags": []
   },
   "outputs": [],
   "source": [
    "%load_ext autoreload\n",
    "%autoreload 2"
   ]
  },
  {
   "cell_type": "code",
   "execution_count": 2,
   "id": "22ef38dc",
   "metadata": {
    "execution": {
     "iopub.execute_input": "2021-09-12T00:21:58.824859Z",
     "iopub.status.busy": "2021-09-12T00:21:58.824227Z",
     "iopub.status.idle": "2021-09-12T00:21:59.393781Z",
     "shell.execute_reply": "2021-09-12T00:21:59.394309Z"
    },
    "papermill": {
     "duration": 0.600442,
     "end_time": "2021-09-12T00:21:59.394481",
     "exception": false,
     "start_time": "2021-09-12T00:21:58.794039",
     "status": "completed"
    },
    "tags": []
   },
   "outputs": [],
   "source": [
    "%matplotlib inline\n",
    "import numpy as np\n",
    "import matplotlib.pyplot as plt\n",
    "import pandas as pd"
   ]
  },
  {
   "cell_type": "markdown",
   "id": "ba036198",
   "metadata": {
    "papermill": {
     "duration": 0.032676,
     "end_time": "2021-09-12T00:21:59.457975",
     "exception": false,
     "start_time": "2021-09-12T00:21:59.425299",
     "status": "completed"
    },
    "tags": []
   },
   "source": [
    "From the command line run `pip install mnist`. This is a library that will help you bring down the mnist dataset. If you run this from a notebook, you need to put  `!pip install mnist` in a cell by itself."
   ]
  },
  {
   "cell_type": "code",
   "execution_count": 3,
   "id": "bb6ad8a1",
   "metadata": {
    "execution": {
     "iopub.execute_input": "2021-09-12T00:21:59.524312Z",
     "iopub.status.busy": "2021-09-12T00:21:59.523659Z",
     "iopub.status.idle": "2021-09-12T00:22:02.275586Z",
     "shell.execute_reply": "2021-09-12T00:22:02.275088Z"
    },
    "papermill": {
     "duration": 2.787083,
     "end_time": "2021-09-12T00:22:02.275718",
     "exception": false,
     "start_time": "2021-09-12T00:21:59.488635",
     "status": "completed"
    },
    "tags": []
   },
   "outputs": [
    {
     "name": "stdout",
     "output_type": "stream",
     "text": [
      "Collecting mnist\r\n"
     ]
    },
    {
     "name": "stdout",
     "output_type": "stream",
     "text": [
      "  Downloading mnist-0.2.2-py2.py3-none-any.whl (3.5 kB)\r\n",
      "Requirement already satisfied: numpy in /opt/hostedtoolcache/Python/3.6.14/x64/lib/python3.6/site-packages (from mnist) (1.19.5)\r\n"
     ]
    },
    {
     "name": "stdout",
     "output_type": "stream",
     "text": [
      "Installing collected packages: mnist\r\n",
      "Successfully installed mnist-0.2.2\r\n"
     ]
    }
   ],
   "source": [
    "!pip install mnist"
   ]
  },
  {
   "cell_type": "markdown",
   "id": "69df9c9a",
   "metadata": {
    "papermill": {
     "duration": 0.03933,
     "end_time": "2021-09-12T00:22:02.359258",
     "exception": false,
     "start_time": "2021-09-12T00:22:02.319928",
     "status": "completed"
    },
    "tags": []
   },
   "source": [
    "## Preparing the Data"
   ]
  },
  {
   "cell_type": "code",
   "execution_count": 4,
   "id": "7f69d806",
   "metadata": {
    "execution": {
     "iopub.execute_input": "2021-09-12T00:22:02.436524Z",
     "iopub.status.busy": "2021-09-12T00:22:02.432863Z",
     "iopub.status.idle": "2021-09-12T00:22:02.439325Z",
     "shell.execute_reply": "2021-09-12T00:22:02.438676Z"
    },
    "papermill": {
     "duration": 0.049892,
     "end_time": "2021-09-12T00:22:02.439457",
     "exception": false,
     "start_time": "2021-09-12T00:22:02.389565",
     "status": "completed"
    },
    "tags": []
   },
   "outputs": [],
   "source": [
    "import mnist"
   ]
  },
  {
   "cell_type": "code",
   "execution_count": 5,
   "id": "a411e44f",
   "metadata": {
    "execution": {
     "iopub.execute_input": "2021-09-12T00:22:02.497452Z",
     "iopub.status.busy": "2021-09-12T00:22:02.496874Z",
     "iopub.status.idle": "2021-09-12T00:22:03.120993Z",
     "shell.execute_reply": "2021-09-12T00:22:03.120450Z"
    },
    "papermill": {
     "duration": 0.653958,
     "end_time": "2021-09-12T00:22:03.121139",
     "exception": false,
     "start_time": "2021-09-12T00:22:02.467181",
     "status": "completed"
    },
    "tags": []
   },
   "outputs": [],
   "source": [
    "train_images = mnist.train_images()\n",
    "train_labels = mnist.train_labels()"
   ]
  },
  {
   "cell_type": "code",
   "execution_count": 6,
   "id": "dceab3a5",
   "metadata": {
    "execution": {
     "iopub.execute_input": "2021-09-12T00:22:03.181464Z",
     "iopub.status.busy": "2021-09-12T00:22:03.180896Z",
     "iopub.status.idle": "2021-09-12T00:22:03.195730Z",
     "shell.execute_reply": "2021-09-12T00:22:03.196187Z"
    },
    "papermill": {
     "duration": 0.045366,
     "end_time": "2021-09-12T00:22:03.196304",
     "exception": false,
     "start_time": "2021-09-12T00:22:03.150938",
     "status": "completed"
    },
    "tags": []
   },
   "outputs": [
    {
     "data": {
      "text/plain": [
       "((60000, 28, 28), (60000,))"
      ]
     },
     "execution_count": 6,
     "metadata": {},
     "output_type": "execute_result"
    }
   ],
   "source": [
    "train_images.shape, train_labels.shape"
   ]
  },
  {
   "cell_type": "code",
   "execution_count": 7,
   "id": "f50dc2bb",
   "metadata": {
    "execution": {
     "iopub.execute_input": "2021-09-12T00:22:03.266384Z",
     "iopub.status.busy": "2021-09-12T00:22:03.265748Z",
     "iopub.status.idle": "2021-09-12T00:22:03.482979Z",
     "shell.execute_reply": "2021-09-12T00:22:03.482400Z"
    },
    "papermill": {
     "duration": 0.257937,
     "end_time": "2021-09-12T00:22:03.483124",
     "exception": false,
     "start_time": "2021-09-12T00:22:03.225187",
     "status": "completed"
    },
    "tags": []
   },
   "outputs": [],
   "source": [
    "test_images = mnist.test_images()\n",
    "test_labels = mnist.test_labels()"
   ]
  },
  {
   "cell_type": "code",
   "execution_count": 8,
   "id": "fc38cf1b",
   "metadata": {
    "execution": {
     "iopub.execute_input": "2021-09-12T00:22:03.545093Z",
     "iopub.status.busy": "2021-09-12T00:22:03.544472Z",
     "iopub.status.idle": "2021-09-12T00:22:03.561857Z",
     "shell.execute_reply": "2021-09-12T00:22:03.562657Z"
    },
    "papermill": {
     "duration": 0.051149,
     "end_time": "2021-09-12T00:22:03.562793",
     "exception": false,
     "start_time": "2021-09-12T00:22:03.511644",
     "status": "completed"
    },
    "tags": []
   },
   "outputs": [
    {
     "data": {
      "text/plain": [
       "((10000, 28, 28), (10000,))"
      ]
     },
     "execution_count": 8,
     "metadata": {},
     "output_type": "execute_result"
    }
   ],
   "source": [
    "test_images.shape, test_labels.shape"
   ]
  },
  {
   "cell_type": "code",
   "execution_count": 9,
   "id": "f9ed8fe0",
   "metadata": {
    "execution": {
     "iopub.execute_input": "2021-09-12T00:22:03.626123Z",
     "iopub.status.busy": "2021-09-12T00:22:03.625561Z",
     "iopub.status.idle": "2021-09-12T00:22:03.793213Z",
     "shell.execute_reply": "2021-09-12T00:22:03.793703Z"
    },
    "papermill": {
     "duration": 0.201294,
     "end_time": "2021-09-12T00:22:03.793865",
     "exception": false,
     "start_time": "2021-09-12T00:22:03.592571",
     "status": "completed"
    },
    "tags": []
   },
   "outputs": [
    {
     "name": "stdout",
     "output_type": "stream",
     "text": [
      "2\n"
     ]
    },
    {
     "data": {
      "text/plain": [
       "<matplotlib.image.AxesImage at 0x7fa01315de80>"
      ]
     },
     "execution_count": 9,
     "metadata": {},
     "output_type": "execute_result"
    },
    {
     "data": {
      "image/png": "[encoded data removed]",
      "text/plain": [
       "<Figure size 432x288 with 1 Axes>"
      ]
     },
     "metadata": {
      "needs_background": "light"
     },
     "output_type": "display_data"
    }
   ],
   "source": [
    "image_index = 7776 # You may select anything up to 60,000\n",
    "print(train_labels[image_index]) \n",
    "plt.imshow(train_images[image_index], cmap='Greys')"
   ]
  },
  {
   "cell_type": "markdown",
   "id": "a8d2388d",
   "metadata": {
    "papermill": {
     "duration": 0.030925,
     "end_time": "2021-09-12T00:22:03.856985",
     "exception": false,
     "start_time": "2021-09-12T00:22:03.826060",
     "status": "completed"
    },
    "tags": []
   },
   "source": [
    "## Filter data to get 3 and 8 out"
   ]
  },
  {
   "cell_type": "code",
   "execution_count": 10,
   "id": "776f7fc7",
   "metadata": {
    "execution": {
     "iopub.execute_input": "2021-09-12T00:22:03.926977Z",
     "iopub.status.busy": "2021-09-12T00:22:03.923367Z",
     "iopub.status.idle": "2021-09-12T00:22:03.942562Z",
     "shell.execute_reply": "2021-09-12T00:22:03.943022Z"
    },
    "papermill": {
     "duration": 0.054759,
     "end_time": "2021-09-12T00:22:03.943176",
     "exception": false,
     "start_time": "2021-09-12T00:22:03.888417",
     "status": "completed"
    },
    "tags": []
   },
   "outputs": [],
   "source": [
    "train_filter = np.where((train_labels == 3 ) | (train_labels == 8))\n",
    "test_filter = np.where((test_labels == 3) | (test_labels == 8))\n",
    "X_train, y_train = train_images[train_filter], train_labels[train_filter]\n",
    "X_test, y_test = test_images[test_filter], test_labels[test_filter]"
   ]
  },
  {
   "cell_type": "markdown",
   "id": "948f0b7e",
   "metadata": {
    "papermill": {
     "duration": 0.029036,
     "end_time": "2021-09-12T00:22:04.003213",
     "exception": false,
     "start_time": "2021-09-12T00:22:03.974177",
     "status": "completed"
    },
    "tags": []
   },
   "source": [
    "We normalize the pizel values in the 0 to 1 range"
   ]
  },
  {
   "cell_type": "code",
   "execution_count": 11,
   "id": "ee4c2166",
   "metadata": {
    "execution": {
     "iopub.execute_input": "2021-09-12T00:22:04.078394Z",
     "iopub.status.busy": "2021-09-12T00:22:04.071829Z",
     "iopub.status.idle": "2021-09-12T00:22:04.136381Z",
     "shell.execute_reply": "2021-09-12T00:22:04.135835Z"
    },
    "papermill": {
     "duration": 0.103932,
     "end_time": "2021-09-12T00:22:04.136524",
     "exception": false,
     "start_time": "2021-09-12T00:22:04.032592",
     "status": "completed"
    },
    "tags": []
   },
   "outputs": [],
   "source": [
    "X_train = X_train/255.\n",
    "X_test = X_test/255."
   ]
  },
  {
   "cell_type": "markdown",
   "id": "ddcf4fab",
   "metadata": {
    "papermill": {
     "duration": 0.030223,
     "end_time": "2021-09-12T00:22:04.197011",
     "exception": false,
     "start_time": "2021-09-12T00:22:04.166788",
     "status": "completed"
    },
    "tags": []
   },
   "source": [
    "And setup the labels as 1 (when the digit is 3) and 0 (when the digit is 8)"
   ]
  },
  {
   "cell_type": "code",
   "execution_count": 12,
   "id": "7dc908f2",
   "metadata": {
    "execution": {
     "iopub.execute_input": "2021-09-12T00:22:04.261181Z",
     "iopub.status.busy": "2021-09-12T00:22:04.260572Z",
     "iopub.status.idle": "2021-09-12T00:22:04.272673Z",
     "shell.execute_reply": "2021-09-12T00:22:04.273144Z"
    },
    "papermill": {
     "duration": 0.047522,
     "end_time": "2021-09-12T00:22:04.273386",
     "exception": false,
     "start_time": "2021-09-12T00:22:04.225864",
     "status": "completed"
    },
    "tags": []
   },
   "outputs": [],
   "source": [
    "y_train = 1*(y_train==3)\n",
    "y_test = 1*(y_test==3)"
   ]
  },
  {
   "cell_type": "code",
   "execution_count": 13,
   "id": "01e4e969",
   "metadata": {
    "execution": {
     "iopub.execute_input": "2021-09-12T00:22:04.335724Z",
     "iopub.status.busy": "2021-09-12T00:22:04.335117Z",
     "iopub.status.idle": "2021-09-12T00:22:04.347015Z",
     "shell.execute_reply": "2021-09-12T00:22:04.347575Z"
    },
    "papermill": {
     "duration": 0.045183,
     "end_time": "2021-09-12T00:22:04.347696",
     "exception": false,
     "start_time": "2021-09-12T00:22:04.302513",
     "status": "completed"
    },
    "tags": []
   },
   "outputs": [
    {
     "data": {
      "text/plain": [
       "((11982, 28, 28), (1984, 28, 28))"
      ]
     },
     "execution_count": 13,
     "metadata": {},
     "output_type": "execute_result"
    }
   ],
   "source": [
    "X_train.shape, X_test.shape"
   ]
  },
  {
   "cell_type": "markdown",
   "id": "5ccf3f85",
   "metadata": {
    "papermill": {
     "duration": 0.029888,
     "end_time": "2021-09-12T00:22:04.406886",
     "exception": false,
     "start_time": "2021-09-12T00:22:04.376998",
     "status": "completed"
    },
    "tags": []
   },
   "source": [
    "We reshape the data to flatten the image pixels into a set of features or co-variates:"
   ]
  },
  {
   "cell_type": "code",
   "execution_count": 14,
   "id": "5286a4a3",
   "metadata": {
    "execution": {
     "iopub.execute_input": "2021-09-12T00:22:04.482178Z",
     "iopub.status.busy": "2021-09-12T00:22:04.478284Z",
     "iopub.status.idle": "2021-09-12T00:22:04.486202Z",
     "shell.execute_reply": "2021-09-12T00:22:04.485649Z"
    },
    "papermill": {
     "duration": 0.049963,
     "end_time": "2021-09-12T00:22:04.486310",
     "exception": false,
     "start_time": "2021-09-12T00:22:04.436347",
     "status": "completed"
    },
    "tags": []
   },
   "outputs": [
    {
     "data": {
      "text/plain": [
       "((11982, 784), (1984, 784))"
      ]
     },
     "execution_count": 14,
     "metadata": {},
     "output_type": "execute_result"
    }
   ],
   "source": [
    "X_train = X_train.reshape(X_train.shape[0], -1)\n",
    "X_test = X_test.reshape(X_test.shape[0], -1)\n",
    "X_train.shape, X_test.shape"
   ]
  },
  {
   "cell_type": "code",
   "execution_count": 15,
   "id": "73c5f88a",
   "metadata": {
    "execution": {
     "iopub.execute_input": "2021-09-12T00:22:04.549127Z",
     "iopub.status.busy": "2021-09-12T00:22:04.548551Z",
     "iopub.status.idle": "2021-09-12T00:22:04.564520Z",
     "shell.execute_reply": "2021-09-12T00:22:04.564964Z"
    },
    "papermill": {
     "duration": 0.050267,
     "end_time": "2021-09-12T00:22:04.565088",
     "exception": false,
     "start_time": "2021-09-12T00:22:04.514821",
     "status": "completed"
    },
    "tags": []
   },
   "outputs": [],
   "source": [
    "#Impoting functions from 'Kudzu'\n",
    "from kudzu.model import Model\n",
    "from kudzu.train import Learner\n",
    "from kudzu.optim import GD\n",
    "from kudzu.data import Data, Sampler,Dataloader\n",
    "\n",
    "from kudzu.callbacks import AccCallback\n",
    "from kudzu.callbacks import ClfCallback\n",
    "\n",
    "from kudzu.loss import MSE\n",
    "\n",
    "from kudzu.layer import Sigmoid,Relu\n",
    "from kudzu.layer import Affine"
   ]
  },
  {
   "cell_type": "markdown",
   "id": "bc01172a",
   "metadata": {
    "papermill": {
     "duration": 0.030157,
     "end_time": "2021-09-12T00:22:04.624913",
     "exception": false,
     "start_time": "2021-09-12T00:22:04.594756",
     "status": "completed"
    },
    "tags": []
   },
   "source": [
    "### Let us create a `Config` class, to store important parameters. \n",
    "This class essentially plays the role of a dictionary."
   ]
  },
  {
   "cell_type": "code",
   "execution_count": 16,
   "id": "978281aa",
   "metadata": {
    "execution": {
     "iopub.execute_input": "2021-09-12T00:22:04.702865Z",
     "iopub.status.busy": "2021-09-12T00:22:04.700818Z",
     "iopub.status.idle": "2021-09-12T00:22:04.704914Z",
     "shell.execute_reply": "2021-09-12T00:22:04.705387Z"
    },
    "papermill": {
     "duration": 0.050372,
     "end_time": "2021-09-12T00:22:04.705575",
     "exception": false,
     "start_time": "2021-09-12T00:22:04.655203",
     "status": "completed"
    },
    "tags": []
   },
   "outputs": [],
   "source": [
    "class Config:\n",
    "    pass\n",
    "config = Config()\n",
    "config.lr = 0.001\n",
    "config.num_epochs = 250\n",
    "config.bs = 50"
   ]
  },
  {
   "cell_type": "markdown",
   "id": "1385fa59",
   "metadata": {
    "papermill": {
     "duration": 0.029269,
     "end_time": "2021-09-12T00:22:04.764873",
     "exception": false,
     "start_time": "2021-09-12T00:22:04.735604",
     "status": "completed"
    },
    "tags": []
   },
   "source": [
    "### Running Models with the Training data\n",
    "Details about the network layers:\n",
    "- A first affine layer has 784 inputs and does 100 affine transforms. These are followed by a Relu\n",
    "- A second affine layer has 100 inputs from the 100 activations of the past layer, and does 100 affine transforms. These are followed by a Relu\n",
    "- A third affine layer has 100 activations and does 2 affine transformations to create an embedding for visualization. There is no non-linearity here.\n",
    "- A final \"logistic regression\" which has an affine transform from 2 inputs to 1 output, which is squeezed through a sigmoid.\n"
   ]
  },
  {
   "cell_type": "code",
   "execution_count": 17,
   "id": "2b9c66db",
   "metadata": {
    "execution": {
     "iopub.execute_input": "2021-09-12T00:22:04.838814Z",
     "iopub.status.busy": "2021-09-12T00:22:04.830244Z",
     "iopub.status.idle": "2021-09-12T00:22:04.843819Z",
     "shell.execute_reply": "2021-09-12T00:22:04.843297Z"
    },
    "papermill": {
     "duration": 0.049012,
     "end_time": "2021-09-12T00:22:04.843940",
     "exception": false,
     "start_time": "2021-09-12T00:22:04.794928",
     "status": "completed"
    },
    "tags": []
   },
   "outputs": [],
   "source": [
    "data = Data(X_train, y_train.reshape(-1,1))\n",
    "sampler = Sampler(data, config.bs, shuffle=True)\n",
    "\n",
    "dl = Dataloader(data, sampler)\n",
    "\n",
    "opt = GD(config.lr)\n",
    "loss = MSE()"
   ]
  },
  {
   "cell_type": "code",
   "execution_count": 18,
   "id": "b275e4c2",
   "metadata": {
    "execution": {
     "iopub.execute_input": "2021-09-12T00:22:04.923784Z",
     "iopub.status.busy": "2021-09-12T00:22:04.923206Z",
     "iopub.status.idle": "2021-09-12T00:22:04.927185Z",
     "shell.execute_reply": "2021-09-12T00:22:04.926691Z"
    },
    "papermill": {
     "duration": 0.051398,
     "end_time": "2021-09-12T00:22:04.927295",
     "exception": false,
     "start_time": "2021-09-12T00:22:04.875897",
     "status": "completed"
    },
    "tags": []
   },
   "outputs": [],
   "source": [
    "training_data_x = X_train\n",
    "testing_data_x = X_test\n",
    "training_data_y = y_train.reshape(-1,1)\n",
    "testing_data_y = y_test.reshape(-1,1)"
   ]
  },
  {
   "cell_type": "code",
   "execution_count": 19,
   "id": "76951160",
   "metadata": {
    "execution": {
     "iopub.execute_input": "2021-09-12T00:22:04.992946Z",
     "iopub.status.busy": "2021-09-12T00:22:04.992372Z",
     "iopub.status.idle": "2021-09-12T00:22:05.005662Z",
     "shell.execute_reply": "2021-09-12T00:22:05.006211Z"
    },
    "papermill": {
     "duration": 0.049477,
     "end_time": "2021-09-12T00:22:05.006333",
     "exception": false,
     "start_time": "2021-09-12T00:22:04.956856",
     "status": "completed"
    },
    "tags": []
   },
   "outputs": [
    {
     "name": "stdout",
     "output_type": "stream",
     "text": [
      "xavier\n",
      "xavier\n",
      "xavier\n",
      "xavier\n",
      "xavier\n"
     ]
    }
   ],
   "source": [
    "layers = [Affine(\"first\", 784, 100), Relu(\"first\"), Affine(\"second\", 100, 100), Relu(\"second\"), Affine(\"third\", 100, 2), Affine(\"last\", 2, 1), Sigmoid(\"last\")]\n",
    "model_nn = Model(layers)\n",
    "model_lr = Model([Affine(\"logits\", 784, 1), Sigmoid(\"sigmoid\")])"
   ]
  },
  {
   "cell_type": "code",
   "execution_count": 20,
   "id": "6eede77a",
   "metadata": {
    "execution": {
     "iopub.execute_input": "2021-09-12T00:22:05.082632Z",
     "iopub.status.busy": "2021-09-12T00:22:05.082000Z",
     "iopub.status.idle": "2021-09-12T00:22:05.083961Z",
     "shell.execute_reply": "2021-09-12T00:22:05.084394Z"
    },
    "papermill": {
     "duration": 0.047375,
     "end_time": "2021-09-12T00:22:05.084519",
     "exception": false,
     "start_time": "2021-09-12T00:22:05.037144",
     "status": "completed"
    },
    "tags": []
   },
   "outputs": [],
   "source": [
    "nn_learner = Learner(loss, model_nn, opt, config.num_epochs)\n",
    "acc_nn = ClfCallback(nn_learner, config.bs, training_data_x , testing_data_x, training_data_y, testing_data_y)\n",
    "nn_learner.set_callbacks([acc_nn])"
   ]
  },
  {
   "cell_type": "code",
   "execution_count": 21,
   "id": "877b6cc7",
   "metadata": {
    "execution": {
     "iopub.execute_input": "2021-09-12T00:22:05.152305Z",
     "iopub.status.busy": "2021-09-12T00:22:05.151707Z",
     "iopub.status.idle": "2021-09-12T00:22:05.167990Z",
     "shell.execute_reply": "2021-09-12T00:22:05.168461Z"
    },
    "papermill": {
     "duration": 0.053623,
     "end_time": "2021-09-12T00:22:05.168589",
     "exception": false,
     "start_time": "2021-09-12T00:22:05.114966",
     "status": "completed"
    },
    "tags": []
   },
   "outputs": [],
   "source": [
    "lr_learner = Learner(loss, model_lr, opt, config.num_epochs)\n",
    "acc_lr = ClfCallback(lr_learner, config.bs, training_data_x , testing_data_x, training_data_y, testing_data_y)\n",
    "lr_learner.set_callbacks([acc_lr])"
   ]
  },
  {
   "cell_type": "code",
   "execution_count": 22,
   "id": "d9b133c3",
   "metadata": {
    "execution": {
     "iopub.execute_input": "2021-09-12T00:22:05.254894Z",
     "iopub.status.busy": "2021-09-12T00:22:05.240984Z",
     "iopub.status.idle": "2021-09-12T00:24:06.899820Z",
     "shell.execute_reply": "2021-09-12T00:24:06.900643Z"
    },
    "papermill": {
     "duration": 121.698809,
     "end_time": "2021-09-12T00:24:06.900805",
     "exception": false,
     "start_time": "2021-09-12T00:22:05.201996",
     "status": "completed"
    },
    "tags": []
   },
   "outputs": [
    {
     "name": "stdout",
     "output_type": "stream",
     "text": [
      "Epoch 0, Loss 0.243\n",
      "Training Accuracy: 0.6521, Testing Accuracy: 0.6537\n",
      "\n"
     ]
    },
    {
     "name": "stdout",
     "output_type": "stream",
     "text": [
      "Epoch 10, Loss 0.1326\n",
      "Training Accuracy: 0.9030, Testing Accuracy: 0.9133\n",
      "\n"
     ]
    },
    {
     "name": "stdout",
     "output_type": "stream",
     "text": [
      "Epoch 20, Loss 0.0676\n",
      "Training Accuracy: 0.9349, Testing Accuracy: 0.9481\n",
      "\n"
     ]
    },
    {
     "name": "stdout",
     "output_type": "stream",
     "text": [
      "Epoch 30, Loss 0.0492\n",
      "Training Accuracy: 0.9482, Testing Accuracy: 0.9587\n",
      "\n"
     ]
    },
    {
     "name": "stdout",
     "output_type": "stream",
     "text": [
      "Epoch 40, Loss 0.0414\n",
      "Training Accuracy: 0.9535, Testing Accuracy: 0.9607\n",
      "\n"
     ]
    },
    {
     "name": "stdout",
     "output_type": "stream",
     "text": [
      "Epoch 50, Loss 0.037\n",
      "Training Accuracy: 0.9580, Testing Accuracy: 0.9637\n",
      "\n"
     ]
    },
    {
     "name": "stdout",
     "output_type": "stream",
     "text": [
      "Epoch 60, Loss 0.0341\n",
      "Training Accuracy: 0.9608, Testing Accuracy: 0.9647\n",
      "\n"
     ]
    },
    {
     "name": "stdout",
     "output_type": "stream",
     "text": [
      "Epoch 70, Loss 0.0321\n",
      "Training Accuracy: 0.9628, Testing Accuracy: 0.9657\n",
      "\n"
     ]
    },
    {
     "name": "stdout",
     "output_type": "stream",
     "text": [
      "Epoch 80, Loss 0.0305\n",
      "Training Accuracy: 0.9645, Testing Accuracy: 0.9652\n",
      "\n"
     ]
    },
    {
     "name": "stdout",
     "output_type": "stream",
     "text": [
      "Epoch 90, Loss 0.0292\n",
      "Training Accuracy: 0.9659, Testing Accuracy: 0.9677\n",
      "\n"
     ]
    },
    {
     "name": "stdout",
     "output_type": "stream",
     "text": [
      "Epoch 100, Loss 0.0281\n",
      "Training Accuracy: 0.9674, Testing Accuracy: 0.9688\n",
      "\n"
     ]
    },
    {
     "name": "stdout",
     "output_type": "stream",
     "text": [
      "Epoch 110, Loss 0.0272\n",
      "Training Accuracy: 0.9684, Testing Accuracy: 0.9698\n",
      "\n"
     ]
    },
    {
     "name": "stdout",
     "output_type": "stream",
     "text": [
      "Epoch 120, Loss 0.0264\n",
      "Training Accuracy: 0.9692, Testing Accuracy: 0.9698\n",
      "\n"
     ]
    },
    {
     "name": "stdout",
     "output_type": "stream",
     "text": [
      "Epoch 130, Loss 0.0257\n",
      "Training Accuracy: 0.9700, Testing Accuracy: 0.9688\n",
      "\n"
     ]
    },
    {
     "name": "stdout",
     "output_type": "stream",
     "text": [
      "Epoch 140, Loss 0.025\n",
      "Training Accuracy: 0.9710, Testing Accuracy: 0.9682\n",
      "\n"
     ]
    },
    {
     "name": "stdout",
     "output_type": "stream",
     "text": [
      "Epoch 150, Loss 0.0244\n",
      "Training Accuracy: 0.9715, Testing Accuracy: 0.9698\n",
      "\n"
     ]
    },
    {
     "name": "stdout",
     "output_type": "stream",
     "text": [
      "Epoch 160, Loss 0.0239\n",
      "Training Accuracy: 0.9720, Testing Accuracy: 0.9703\n",
      "\n"
     ]
    },
    {
     "name": "stdout",
     "output_type": "stream",
     "text": [
      "Epoch 170, Loss 0.0234\n",
      "Training Accuracy: 0.9726, Testing Accuracy: 0.9708\n",
      "\n"
     ]
    },
    {
     "name": "stdout",
     "output_type": "stream",
     "text": [
      "Epoch 180, Loss 0.0229\n",
      "Training Accuracy: 0.9730, Testing Accuracy: 0.9718\n",
      "\n"
     ]
    },
    {
     "name": "stdout",
     "output_type": "stream",
     "text": [
      "Epoch 190, Loss 0.0224\n",
      "Training Accuracy: 0.9740, Testing Accuracy: 0.9713\n",
      "\n"
     ]
    },
    {
     "name": "stdout",
     "output_type": "stream",
     "text": [
      "Epoch 200, Loss 0.022\n",
      "Training Accuracy: 0.9740, Testing Accuracy: 0.9713\n",
      "\n"
     ]
    },
    {
     "name": "stdout",
     "output_type": "stream",
     "text": [
      "Epoch 210, Loss 0.0216\n",
      "Training Accuracy: 0.9739, Testing Accuracy: 0.9723\n",
      "\n"
     ]
    },
    {
     "name": "stdout",
     "output_type": "stream",
     "text": [
      "Epoch 220, Loss 0.0212\n",
      "Training Accuracy: 0.9745, Testing Accuracy: 0.9728\n",
      "\n"
     ]
    },
    {
     "name": "stdout",
     "output_type": "stream",
     "text": [
      "Epoch 230, Loss 0.0208\n",
      "Training Accuracy: 0.9755, Testing Accuracy: 0.9723\n",
      "\n"
     ]
    },
    {
     "name": "stdout",
     "output_type": "stream",
     "text": [
      "Epoch 240, Loss 0.0204\n",
      "Training Accuracy: 0.9761, Testing Accuracy: 0.9728\n",
      "\n"
     ]
    },
    {
     "data": {
      "text/plain": [
       "0.013305412063267748"
      ]
     },
     "execution_count": 22,
     "metadata": {},
     "output_type": "execute_result"
    }
   ],
   "source": [
    "nn_learner.train_loop(dl)"
   ]
  },
  {
   "cell_type": "code",
   "execution_count": 23,
   "id": "e0163366",
   "metadata": {
    "execution": {
     "iopub.execute_input": "2021-09-12T00:24:07.006565Z",
     "iopub.status.busy": "2021-09-12T00:24:07.005965Z",
     "iopub.status.idle": "2021-09-12T00:24:24.429059Z",
     "shell.execute_reply": "2021-09-12T00:24:24.429647Z"
    },
    "papermill": {
     "duration": 17.478099,
     "end_time": "2021-09-12T00:24:24.429802",
     "exception": false,
     "start_time": "2021-09-12T00:24:06.951703",
     "status": "completed"
    },
    "tags": []
   },
   "outputs": [
    {
     "name": "stdout",
     "output_type": "stream",
     "text": [
      "Epoch 0, Loss 0.2727\n",
      "Training Accuracy: 0.5490, Testing Accuracy: 0.5544\n",
      "\n"
     ]
    },
    {
     "name": "stdout",
     "output_type": "stream",
     "text": [
      "Epoch 10, Loss 0.1081\n",
      "Training Accuracy: 0.8983, Testing Accuracy: 0.9042\n",
      "\n"
     ]
    },
    {
     "name": "stdout",
     "output_type": "stream",
     "text": [
      "Epoch 20, Loss 0.0822\n",
      "Training Accuracy: 0.9199, Testing Accuracy: 0.9299\n",
      "\n"
     ]
    },
    {
     "name": "stdout",
     "output_type": "stream",
     "text": [
      "Epoch 30, Loss 0.0704\n",
      "Training Accuracy: 0.9321, Testing Accuracy: 0.9435\n",
      "\n"
     ]
    },
    {
     "name": "stdout",
     "output_type": "stream",
     "text": [
      "Epoch 40, Loss 0.0633\n",
      "Training Accuracy: 0.9380, Testing Accuracy: 0.9511\n",
      "\n"
     ]
    },
    {
     "name": "stdout",
     "output_type": "stream",
     "text": [
      "Epoch 50, Loss 0.0585\n",
      "Training Accuracy: 0.9418, Testing Accuracy: 0.9541\n",
      "\n"
     ]
    },
    {
     "name": "stdout",
     "output_type": "stream",
     "text": [
      "Epoch 60, Loss 0.055\n",
      "Training Accuracy: 0.9448, Testing Accuracy: 0.9556\n",
      "\n"
     ]
    },
    {
     "name": "stdout",
     "output_type": "stream",
     "text": [
      "Epoch 70, Loss 0.0523\n",
      "Training Accuracy: 0.9469, Testing Accuracy: 0.9587\n",
      "\n"
     ]
    },
    {
     "name": "stdout",
     "output_type": "stream",
     "text": [
      "Epoch 80, Loss 0.0501\n",
      "Training Accuracy: 0.9486, Testing Accuracy: 0.9602\n",
      "\n"
     ]
    },
    {
     "name": "stdout",
     "output_type": "stream",
     "text": [
      "Epoch 90, Loss 0.0483\n",
      "Training Accuracy: 0.9500, Testing Accuracy: 0.9612\n",
      "\n"
     ]
    },
    {
     "name": "stdout",
     "output_type": "stream",
     "text": [
      "Epoch 100, Loss 0.0468\n",
      "Training Accuracy: 0.9516, Testing Accuracy: 0.9617\n",
      "\n"
     ]
    },
    {
     "name": "stdout",
     "output_type": "stream",
     "text": [
      "Epoch 110, Loss 0.0456\n",
      "Training Accuracy: 0.9531, Testing Accuracy: 0.9622\n",
      "\n"
     ]
    },
    {
     "name": "stdout",
     "output_type": "stream",
     "text": [
      "Epoch 120, Loss 0.0444\n",
      "Training Accuracy: 0.9547, Testing Accuracy: 0.9642\n",
      "\n"
     ]
    },
    {
     "name": "stdout",
     "output_type": "stream",
     "text": [
      "Epoch 130, Loss 0.0435\n",
      "Training Accuracy: 0.9557, Testing Accuracy: 0.9652\n",
      "\n"
     ]
    },
    {
     "name": "stdout",
     "output_type": "stream",
     "text": [
      "Epoch 140, Loss 0.0426\n",
      "Training Accuracy: 0.9559, Testing Accuracy: 0.9652\n",
      "\n"
     ]
    },
    {
     "name": "stdout",
     "output_type": "stream",
     "text": [
      "Epoch 150, Loss 0.0418\n",
      "Training Accuracy: 0.9569, Testing Accuracy: 0.9657\n",
      "\n"
     ]
    },
    {
     "name": "stdout",
     "output_type": "stream",
     "text": [
      "Epoch 160, Loss 0.0411\n",
      "Training Accuracy: 0.9575, Testing Accuracy: 0.9662\n",
      "\n"
     ]
    },
    {
     "name": "stdout",
     "output_type": "stream",
     "text": [
      "Epoch 170, Loss 0.0405\n",
      "Training Accuracy: 0.9579, Testing Accuracy: 0.9667\n",
      "\n"
     ]
    },
    {
     "name": "stdout",
     "output_type": "stream",
     "text": [
      "Epoch 180, Loss 0.0399\n",
      "Training Accuracy: 0.9583, Testing Accuracy: 0.9662\n",
      "\n"
     ]
    },
    {
     "name": "stdout",
     "output_type": "stream",
     "text": [
      "Epoch 190, Loss 0.0394\n",
      "Training Accuracy: 0.9586, Testing Accuracy: 0.9667\n",
      "\n"
     ]
    },
    {
     "name": "stdout",
     "output_type": "stream",
     "text": [
      "Epoch 200, Loss 0.0389\n",
      "Training Accuracy: 0.9590, Testing Accuracy: 0.9662\n",
      "\n"
     ]
    },
    {
     "name": "stdout",
     "output_type": "stream",
     "text": [
      "Epoch 210, Loss 0.0384\n",
      "Training Accuracy: 0.9593, Testing Accuracy: 0.9667\n",
      "\n"
     ]
    },
    {
     "name": "stdout",
     "output_type": "stream",
     "text": [
      "Epoch 220, Loss 0.038\n",
      "Training Accuracy: 0.9595, Testing Accuracy: 0.9672\n",
      "\n"
     ]
    },
    {
     "name": "stdout",
     "output_type": "stream",
     "text": [
      "Epoch 230, Loss 0.0376\n",
      "Training Accuracy: 0.9599, Testing Accuracy: 0.9672\n",
      "\n"
     ]
    },
    {
     "name": "stdout",
     "output_type": "stream",
     "text": [
      "Epoch 240, Loss 0.0372\n",
      "Training Accuracy: 0.9601, Testing Accuracy: 0.9677\n",
      "\n"
     ]
    },
    {
     "data": {
      "text/plain": [
       "0.014420410261609284"
      ]
     },
     "execution_count": 23,
     "metadata": {},
     "output_type": "execute_result"
    }
   ],
   "source": [
    "lr_learner.train_loop(dl)"
   ]
  },
  {
   "cell_type": "code",
   "execution_count": 24,
   "id": "ca410940",
   "metadata": {
    "execution": {
     "iopub.execute_input": "2021-09-12T00:24:24.540222Z",
     "iopub.status.busy": "2021-09-12T00:24:24.539400Z",
     "iopub.status.idle": "2021-09-12T00:24:24.784026Z",
     "shell.execute_reply": "2021-09-12T00:24:24.784494Z"
    },
    "papermill": {
     "duration": 0.304945,
     "end_time": "2021-09-12T00:24:24.784642",
     "exception": false,
     "start_time": "2021-09-12T00:24:24.479697",
     "status": "completed"
    },
    "tags": []
   },
   "outputs": [
    {
     "data": {
      "text/plain": [
       "<matplotlib.legend.Legend at 0x7fa012d3cf98>"
      ]
     },
     "execution_count": 24,
     "metadata": {},
     "output_type": "execute_result"
    },
    {
     "data": {
      "image/png": "[encoded data removed]",
      "text/plain": [
       "<Figure size 1080x720 with 1 Axes>"
      ]
     },
     "metadata": {
      "needs_background": "light"
     },
     "output_type": "display_data"
    }
   ],
   "source": [
    "#comparing the results of NN and LR\n",
    "plt.figure(figsize=(15,10))\n",
    "\n",
    "# Neural Network plots\n",
    "plt.plot(acc_nn.accuracies, 'r-', label = \"Training Accuracies - NN\")\n",
    "plt.plot(acc_nn.test_accuracies, 'g-', label = \"Testing Accuracies - NN\")\n",
    "\n",
    "# Logistic Regression plots\n",
    "plt.plot(acc_lr.accuracies, 'k-', label = \"Training Accuracies - LR\")\n",
    "plt.plot(acc_lr.test_accuracies, 'b-', label = \"Testing Accuracies - LR\")\n",
    "plt.legend()"
   ]
  },
  {
   "cell_type": "markdown",
   "id": "80dfb35c",
   "metadata": {
    "papermill": {
     "duration": 0.046576,
     "end_time": "2021-09-12T00:24:24.879158",
     "exception": false,
     "start_time": "2021-09-12T00:24:24.832582",
     "status": "completed"
    },
    "tags": []
   },
   "source": [
    "#### Plotting the outputs of this layer of the NN.\n"
   ]
  },
  {
   "cell_type": "code",
   "execution_count": 25,
   "id": "45eb2ff5",
   "metadata": {
    "execution": {
     "iopub.execute_input": "2021-09-12T00:24:24.982572Z",
     "iopub.status.busy": "2021-09-12T00:24:24.975839Z",
     "iopub.status.idle": "2021-09-12T00:24:25.003912Z",
     "shell.execute_reply": "2021-09-12T00:24:25.004470Z"
    },
    "papermill": {
     "duration": 0.079686,
     "end_time": "2021-09-12T00:24:25.004639",
     "exception": false,
     "start_time": "2021-09-12T00:24:24.924953",
     "status": "completed"
    },
    "tags": []
   },
   "outputs": [],
   "source": [
    "new_model = Model(layers[:-2])\n",
    "testing_plot = new_model(testing_data_x)"
   ]
  },
  {
   "cell_type": "code",
   "execution_count": 26,
   "id": "4c0a5485",
   "metadata": {
    "execution": {
     "iopub.execute_input": "2021-09-12T00:24:25.126862Z",
     "iopub.status.busy": "2021-09-12T00:24:25.126242Z",
     "iopub.status.idle": "2021-09-12T00:24:25.353440Z",
     "shell.execute_reply": "2021-09-12T00:24:25.354068Z"
    },
    "papermill": {
     "duration": 0.290307,
     "end_time": "2021-09-12T00:24:25.354275",
     "exception": false,
     "start_time": "2021-09-12T00:24:25.063968",
     "status": "completed"
    },
    "tags": []
   },
   "outputs": [
    {
     "data": {
      "text/plain": [
       "Text(0.5, 1.0, 'Outputs')"
      ]
     },
     "execution_count": 26,
     "metadata": {},
     "output_type": "execute_result"
    },
    {
     "data": {
      "image/png": "[encoded data removed]",
      "text/plain": [
       "<Figure size 576x504 with 1 Axes>"
      ]
     },
     "metadata": {
      "needs_background": "light"
     },
     "output_type": "display_data"
    }
   ],
   "source": [
    "# Plotting the scatter plot of points and color coding by class\n",
    "plt.figure(figsize=(8,7))\n",
    "plt.scatter(testing_plot[:,0], testing_plot[:,1], alpha = 0.1, c = y_test.ravel());\n",
    "plt.title('Outputs')"
   ]
  },
  {
   "cell_type": "markdown",
   "id": "a74fcf8f",
   "metadata": {
    "papermill": {
     "duration": 0.049271,
     "end_time": "2021-09-12T00:24:25.460282",
     "exception": false,
     "start_time": "2021-09-12T00:24:25.411011",
     "status": "completed"
    },
    "tags": []
   },
   "source": [
    "Probability contours"
   ]
  },
  {
   "cell_type": "code",
   "execution_count": 27,
   "id": "d0afc8e3",
   "metadata": {
    "execution": {
     "iopub.execute_input": "2021-09-12T00:24:25.566153Z",
     "iopub.status.busy": "2021-09-12T00:24:25.563117Z",
     "iopub.status.idle": "2021-09-12T00:24:25.577119Z",
     "shell.execute_reply": "2021-09-12T00:24:25.576233Z"
    },
    "papermill": {
     "duration": 0.067332,
     "end_time": "2021-09-12T00:24:25.577239",
     "exception": false,
     "start_time": "2021-09-12T00:24:25.509907",
     "status": "completed"
    },
    "tags": []
   },
   "outputs": [],
   "source": [
    "model_prob = Model(layers[-2:]) "
   ]
  },
  {
   "cell_type": "code",
   "execution_count": 28,
   "id": "9b96e238",
   "metadata": {
    "execution": {
     "iopub.execute_input": "2021-09-12T00:24:25.679105Z",
     "iopub.status.busy": "2021-09-12T00:24:25.678170Z",
     "iopub.status.idle": "2021-09-12T00:24:25.693291Z",
     "shell.execute_reply": "2021-09-12T00:24:25.692689Z"
    },
    "papermill": {
     "duration": 0.066298,
     "end_time": "2021-09-12T00:24:25.693453",
     "exception": false,
     "start_time": "2021-09-12T00:24:25.627155",
     "status": "completed"
    },
    "tags": []
   },
   "outputs": [],
   "source": [
    "#creating the x and y ranges according to the above generated plot.\n",
    "x_range = np.linspace(-4, 1, 100) \n",
    "y_range = np.linspace(-6, 6, 100) \n",
    "x_grid, y_grid = np.meshgrid(x_range, y_range) # x_grid and y_grig are of size 100 X 100\n",
    "\n",
    "# converting x_grid and y_grid to continuous arrays\n",
    "x_gridflat = np.ravel(x_grid)\n",
    "y_gridflat = np.ravel(y_grid)\n",
    "\n",
    "# The last layer of the current model takes two columns as input. Hence transpose of np.vstack() is required.\n",
    "X = np.vstack((x_gridflat, y_gridflat)).T\n",
    "\n",
    "prob_contour = model_prob(X).reshape(100,100) "
   ]
  },
  {
   "cell_type": "code",
   "execution_count": 29,
   "id": "da72499a",
   "metadata": {
    "execution": {
     "iopub.execute_input": "2021-09-12T00:24:25.840325Z",
     "iopub.status.busy": "2021-09-12T00:24:25.839759Z",
     "iopub.status.idle": "2021-09-12T00:24:26.126009Z",
     "shell.execute_reply": "2021-09-12T00:24:26.125103Z"
    },
    "papermill": {
     "duration": 0.375772,
     "end_time": "2021-09-12T00:24:26.126164",
     "exception": false,
     "start_time": "2021-09-12T00:24:25.750392",
     "status": "completed"
    },
    "tags": []
   },
   "outputs": [
    {
     "data": {
      "image/png": "[encoded data removed]",
      "text/plain": [
       "<Figure size 720x648 with 1 Axes>"
      ]
     },
     "metadata": {
      "needs_background": "light"
     },
     "output_type": "display_data"
    }
   ],
   "source": [
    "plt.figure(figsize=(10,9))\n",
    "plt.scatter(testing_plot[:,0], testing_plot[:,1], alpha = 0.1, c = y_test.ravel())\n",
    "contours = plt.contour(x_grid,y_grid,prob_contour)\n",
    "plt.title('Probability Contours')\n",
    "plt.clabel(contours, inline = True );"
   ]
  },
  {
   "cell_type": "code",
   "execution_count": null,
   "id": "e81b4ac7",
   "metadata": {
    "papermill": {
     "duration": 0.050881,
     "end_time": "2021-09-12T00:24:26.229958",
     "exception": false,
     "start_time": "2021-09-12T00:24:26.179077",
     "status": "completed"
    },
    "tags": []
   },
   "outputs": [],
   "source": []
  }
 ],
 "metadata": {
  "kernelspec": {
   "display_name": "Python 3",
   "language": "python",
   "name": "python3"
  },
  "language_info": {
   "codemirror_mode": {
    "name": "ipython",
    "version": 3
   },
   "file_extension": ".py",
   "mimetype": "text/x-python",
   "name": "python",
   "nbconvert_exporter": "python",
   "pygments_lexer": "ipython3",
   "version": "3.6.14"
  },
  "papermill": {
   "default_parameters": {},
   "duration": 149.161145,
   "end_time": "2021-09-12T00:24:26.688843",
   "environment_variables": {},
   "exception": null,
   "input_path": "2020-08-11-part2.ipynb",
   "output_path": "2020-08-11-part2.ipynb",
   "parameters": {},
   "start_time": "2021-09-12T00:21:57.527698",
   "version": "2.3.3"
  }
 },
 "nbformat": 4,
 "nbformat_minor": 5
}