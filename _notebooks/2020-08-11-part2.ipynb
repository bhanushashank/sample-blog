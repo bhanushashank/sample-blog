{
 "cells": [
  {
   "cell_type": "markdown",
   "id": "98380cd3",
   "metadata": {
    "papermill": {
     "duration": 0.031228,
     "end_time": "2021-09-17T00:21:48.651812",
     "exception": false,
     "start_time": "2021-09-17T00:21:48.620584",
     "status": "completed"
    },
    "tags": []
   },
   "source": [
    "# Distinguish Your Own Digits (DYOD)"
   ]
  },
  {
   "cell_type": "markdown",
   "id": "ef31240d",
   "metadata": {
    "papermill": {
     "duration": 0.02343,
     "end_time": "2021-09-17T00:21:48.701641",
     "exception": false,
     "start_time": "2021-09-17T00:21:48.678211",
     "status": "completed"
    },
    "tags": []
   },
   "source": [
    "You are going to write a classifier that distinguishes between the number 3 and number 8."
   ]
  },
  {
   "cell_type": "code",
   "execution_count": 1,
   "id": "b15c8646",
   "metadata": {
    "execution": {
     "iopub.execute_input": "2021-09-17T00:21:48.762948Z",
     "iopub.status.busy": "2021-09-17T00:21:48.762359Z",
     "iopub.status.idle": "2021-09-17T00:21:48.772555Z",
     "shell.execute_reply": "2021-09-17T00:21:48.772096Z"
    },
    "papermill": {
     "duration": 0.046231,
     "end_time": "2021-09-17T00:21:48.772690",
     "exception": false,
     "start_time": "2021-09-17T00:21:48.726459",
     "status": "completed"
    },
    "tags": []
   },
   "outputs": [],
   "source": [
    "%load_ext autoreload\n",
    "%autoreload 2"
   ]
  },
  {
   "cell_type": "code",
   "execution_count": 2,
   "id": "22ef38dc",
   "metadata": {
    "execution": {
     "iopub.execute_input": "2021-09-17T00:21:48.821700Z",
     "iopub.status.busy": "2021-09-17T00:21:48.821126Z",
     "iopub.status.idle": "2021-09-17T00:21:49.341264Z",
     "shell.execute_reply": "2021-09-17T00:21:49.340375Z"
    },
    "papermill": {
     "duration": 0.546591,
     "end_time": "2021-09-17T00:21:49.341477",
     "exception": false,
     "start_time": "2021-09-17T00:21:48.794886",
     "status": "completed"
    },
    "tags": []
   },
   "outputs": [],
   "source": [
    "%matplotlib inline\n",
    "import numpy as np\n",
    "import matplotlib.pyplot as plt\n",
    "import pandas as pd"
   ]
  },
  {
   "cell_type": "markdown",
   "id": "ba036198",
   "metadata": {
    "papermill": {
     "duration": 0.022955,
     "end_time": "2021-09-17T00:21:49.388038",
     "exception": false,
     "start_time": "2021-09-17T00:21:49.365083",
     "status": "completed"
    },
    "tags": []
   },
   "source": [
    "From the command line run `pip install mnist`. This is a library that will help you bring down the mnist dataset. If you run this from a notebook, you need to put  `!pip install mnist` in a cell by itself."
   ]
  },
  {
   "cell_type": "code",
   "execution_count": 3,
   "id": "bb6ad8a1",
   "metadata": {
    "execution": {
     "iopub.execute_input": "2021-09-17T00:21:49.437775Z",
     "iopub.status.busy": "2021-09-17T00:21:49.437166Z",
     "iopub.status.idle": "2021-09-17T00:21:51.024938Z",
     "shell.execute_reply": "2021-09-17T00:21:51.024118Z"
    },
    "papermill": {
     "duration": 1.615025,
     "end_time": "2021-09-17T00:21:51.025136",
     "exception": false,
     "start_time": "2021-09-17T00:21:49.410111",
     "status": "completed"
    },
    "tags": []
   },
   "outputs": [
    {
     "name": "stdout",
     "output_type": "stream",
     "text": [
      "Collecting mnist\r\n"
     ]
    },
    {
     "name": "stdout",
     "output_type": "stream",
     "text": [
      "  Downloading mnist-0.2.2-py2.py3-none-any.whl (3.5 kB)\r\n",
      "Requirement already satisfied: numpy in /opt/hostedtoolcache/Python/3.6.15/x64/lib/python3.6/site-packages (from mnist) (1.19.5)\r\n"
     ]
    },
    {
     "name": "stdout",
     "output_type": "stream",
     "text": [
      "Installing collected packages: mnist\r\n",
      "Successfully installed mnist-0.2.2\r\n"
     ]
    }
   ],
   "source": [
    "!pip install mnist"
   ]
  },
  {
   "cell_type": "markdown",
   "id": "69df9c9a",
   "metadata": {
    "papermill": {
     "duration": 0.026064,
     "end_time": "2021-09-17T00:21:51.075911",
     "exception": false,
     "start_time": "2021-09-17T00:21:51.049847",
     "status": "completed"
    },
    "tags": []
   },
   "source": [
    "## Preparing the Data"
   ]
  },
  {
   "cell_type": "code",
   "execution_count": 4,
   "id": "7f69d806",
   "metadata": {
    "execution": {
     "iopub.execute_input": "2021-09-17T00:21:51.126326Z",
     "iopub.status.busy": "2021-09-17T00:21:51.125838Z",
     "iopub.status.idle": "2021-09-17T00:21:51.142759Z",
     "shell.execute_reply": "2021-09-17T00:21:51.142318Z"
    },
    "papermill": {
     "duration": 0.043724,
     "end_time": "2021-09-17T00:21:51.142871",
     "exception": false,
     "start_time": "2021-09-17T00:21:51.099147",
     "status": "completed"
    },
    "tags": []
   },
   "outputs": [],
   "source": [
    "import mnist"
   ]
  },
  {
   "cell_type": "code",
   "execution_count": 5,
   "id": "a411e44f",
   "metadata": {
    "execution": {
     "iopub.execute_input": "2021-09-17T00:21:51.193445Z",
     "iopub.status.busy": "2021-09-17T00:21:51.192639Z",
     "iopub.status.idle": "2021-09-17T00:21:51.715721Z",
     "shell.execute_reply": "2021-09-17T00:21:51.714767Z"
    },
    "papermill": {
     "duration": 0.550486,
     "end_time": "2021-09-17T00:21:51.715926",
     "exception": false,
     "start_time": "2021-09-17T00:21:51.165440",
     "status": "completed"
    },
    "tags": []
   },
   "outputs": [],
   "source": [
    "train_images = mnist.train_images()\n",
    "train_labels = mnist.train_labels()"
   ]
  },
  {
   "cell_type": "code",
   "execution_count": 6,
   "id": "dceab3a5",
   "metadata": {
    "execution": {
     "iopub.execute_input": "2021-09-17T00:21:51.770042Z",
     "iopub.status.busy": "2021-09-17T00:21:51.769430Z",
     "iopub.status.idle": "2021-09-17T00:21:51.783923Z",
     "shell.execute_reply": "2021-09-17T00:21:51.783521Z"
    },
    "papermill": {
     "duration": 0.040962,
     "end_time": "2021-09-17T00:21:51.784034",
     "exception": false,
     "start_time": "2021-09-17T00:21:51.743072",
     "status": "completed"
    },
    "tags": []
   },
   "outputs": [
    {
     "data": {
      "text/plain": [
       "((60000, 28, 28), (60000,))"
      ]
     },
     "execution_count": 6,
     "metadata": {},
     "output_type": "execute_result"
    }
   ],
   "source": [
    "train_images.shape, train_labels.shape"
   ]
  },
  {
   "cell_type": "code",
   "execution_count": 7,
   "id": "f50dc2bb",
   "metadata": {
    "execution": {
     "iopub.execute_input": "2021-09-17T00:21:51.831126Z",
     "iopub.status.busy": "2021-09-17T00:21:51.830541Z",
     "iopub.status.idle": "2021-09-17T00:21:51.975393Z",
     "shell.execute_reply": "2021-09-17T00:21:51.974788Z"
    },
    "papermill": {
     "duration": 0.170292,
     "end_time": "2021-09-17T00:21:51.975524",
     "exception": false,
     "start_time": "2021-09-17T00:21:51.805232",
     "status": "completed"
    },
    "tags": []
   },
   "outputs": [],
   "source": [
    "test_images = mnist.test_images()\n",
    "test_labels = mnist.test_labels()"
   ]
  },
  {
   "cell_type": "code",
   "execution_count": 8,
   "id": "fc38cf1b",
   "metadata": {
    "execution": {
     "iopub.execute_input": "2021-09-17T00:21:52.033828Z",
     "iopub.status.busy": "2021-09-17T00:21:52.033240Z",
     "iopub.status.idle": "2021-09-17T00:21:52.046722Z",
     "shell.execute_reply": "2021-09-17T00:21:52.046318Z"
    },
    "papermill": {
     "duration": 0.044082,
     "end_time": "2021-09-17T00:21:52.046817",
     "exception": false,
     "start_time": "2021-09-17T00:21:52.002735",
     "status": "completed"
    },
    "tags": []
   },
   "outputs": [
    {
     "data": {
      "text/plain": [
       "((10000, 28, 28), (10000,))"
      ]
     },
     "execution_count": 8,
     "metadata": {},
     "output_type": "execute_result"
    }
   ],
   "source": [
    "test_images.shape, test_labels.shape"
   ]
  },
  {
   "cell_type": "code",
   "execution_count": 9,
   "id": "f9ed8fe0",
   "metadata": {
    "execution": {
     "iopub.execute_input": "2021-09-17T00:21:52.098915Z",
     "iopub.status.busy": "2021-09-17T00:21:52.098376Z",
     "iopub.status.idle": "2021-09-17T00:21:52.233604Z",
     "shell.execute_reply": "2021-09-17T00:21:52.233185Z"
    },
    "papermill": {
     "duration": 0.163246,
     "end_time": "2021-09-17T00:21:52.233734",
     "exception": false,
     "start_time": "2021-09-17T00:21:52.070488",
     "status": "completed"
    },
    "tags": []
   },
   "outputs": [
    {
     "name": "stdout",
     "output_type": "stream",
     "text": [
      "2\n"
     ]
    },
    {
     "data": {
      "text/plain": [
       "<matplotlib.image.AxesImage at 0x7f9d0cbc17f0>"
      ]
     },
     "execution_count": 9,
     "metadata": {},
     "output_type": "execute_result"
    },
    {
     "data": {
      "image/png": "[encoded data removed]",
      "text/plain": [
       "<Figure size 432x288 with 1 Axes>"
      ]
     },
     "metadata": {
      "needs_background": "light"
     },
     "output_type": "display_data"
    }
   ],
   "source": [
    "image_index = 7776 # You may select anything up to 60,000\n",
    "print(train_labels[image_index]) \n",
    "plt.imshow(train_images[image_index], cmap='Greys')"
   ]
  },
  {
   "cell_type": "markdown",
   "id": "a8d2388d",
   "metadata": {
    "papermill": {
     "duration": 0.028366,
     "end_time": "2021-09-17T00:21:52.287520",
     "exception": false,
     "start_time": "2021-09-17T00:21:52.259154",
     "status": "completed"
    },
    "tags": []
   },
   "source": [
    "## Filter data to get 3 and 8 out"
   ]
  },
  {
   "cell_type": "code",
   "execution_count": 10,
   "id": "776f7fc7",
   "metadata": {
    "execution": {
     "iopub.execute_input": "2021-09-17T00:21:52.342457Z",
     "iopub.status.busy": "2021-09-17T00:21:52.339942Z",
     "iopub.status.idle": "2021-09-17T00:21:52.356550Z",
     "shell.execute_reply": "2021-09-17T00:21:52.356088Z"
    },
    "papermill": {
     "duration": 0.044854,
     "end_time": "2021-09-17T00:21:52.356670",
     "exception": false,
     "start_time": "2021-09-17T00:21:52.311816",
     "status": "completed"
    },
    "tags": []
   },
   "outputs": [],
   "source": [
    "train_filter = np.where((train_labels == 3 ) | (train_labels == 8))\n",
    "test_filter = np.where((test_labels == 3) | (test_labels == 8))\n",
    "X_train, y_train = train_images[train_filter], train_labels[train_filter]\n",
    "X_test, y_test = test_images[test_filter], test_labels[test_filter]"
   ]
  },
  {
   "cell_type": "markdown",
   "id": "948f0b7e",
   "metadata": {
    "papermill": {
     "duration": 0.023293,
     "end_time": "2021-09-17T00:21:52.403505",
     "exception": false,
     "start_time": "2021-09-17T00:21:52.380212",
     "status": "completed"
    },
    "tags": []
   },
   "source": [
    "We normalize the pizel values in the 0 to 1 range"
   ]
  },
  {
   "cell_type": "code",
   "execution_count": 11,
   "id": "ee4c2166",
   "metadata": {
    "execution": {
     "iopub.execute_input": "2021-09-17T00:21:52.456361Z",
     "iopub.status.busy": "2021-09-17T00:21:52.455820Z",
     "iopub.status.idle": "2021-09-17T00:21:52.502871Z",
     "shell.execute_reply": "2021-09-17T00:21:52.502074Z"
    },
    "papermill": {
     "duration": 0.075961,
     "end_time": "2021-09-17T00:21:52.503052",
     "exception": false,
     "start_time": "2021-09-17T00:21:52.427091",
     "status": "completed"
    },
    "tags": []
   },
   "outputs": [],
   "source": [
    "X_train = X_train/255.\n",
    "X_test = X_test/255."
   ]
  },
  {
   "cell_type": "markdown",
   "id": "ddcf4fab",
   "metadata": {
    "papermill": {
     "duration": 0.02364,
     "end_time": "2021-09-17T00:21:52.553478",
     "exception": false,
     "start_time": "2021-09-17T00:21:52.529838",
     "status": "completed"
    },
    "tags": []
   },
   "source": [
    "And setup the labels as 1 (when the digit is 3) and 0 (when the digit is 8)"
   ]
  },
  {
   "cell_type": "code",
   "execution_count": 12,
   "id": "7dc908f2",
   "metadata": {
    "execution": {
     "iopub.execute_input": "2021-09-17T00:21:52.604538Z",
     "iopub.status.busy": "2021-09-17T00:21:52.603612Z",
     "iopub.status.idle": "2021-09-17T00:21:52.619093Z",
     "shell.execute_reply": "2021-09-17T00:21:52.619566Z"
    },
    "papermill": {
     "duration": 0.043242,
     "end_time": "2021-09-17T00:21:52.619697",
     "exception": false,
     "start_time": "2021-09-17T00:21:52.576455",
     "status": "completed"
    },
    "tags": []
   },
   "outputs": [],
   "source": [
    "y_train = 1*(y_train==3)\n",
    "y_test = 1*(y_test==3)"
   ]
  },
  {
   "cell_type": "code",
   "execution_count": 13,
   "id": "01e4e969",
   "metadata": {
    "execution": {
     "iopub.execute_input": "2021-09-17T00:21:52.679831Z",
     "iopub.status.busy": "2021-09-17T00:21:52.678824Z",
     "iopub.status.idle": "2021-09-17T00:21:52.688048Z",
     "shell.execute_reply": "2021-09-17T00:21:52.687663Z"
    },
    "papermill": {
     "duration": 0.043778,
     "end_time": "2021-09-17T00:21:52.688145",
     "exception": false,
     "start_time": "2021-09-17T00:21:52.644367",
     "status": "completed"
    },
    "tags": []
   },
   "outputs": [
    {
     "data": {
      "text/plain": [
       "((11982, 28, 28), (1984, 28, 28))"
      ]
     },
     "execution_count": 13,
     "metadata": {},
     "output_type": "execute_result"
    }
   ],
   "source": [
    "X_train.shape, X_test.shape"
   ]
  },
  {
   "cell_type": "markdown",
   "id": "5ccf3f85",
   "metadata": {
    "papermill": {
     "duration": 0.026946,
     "end_time": "2021-09-17T00:21:52.742164",
     "exception": false,
     "start_time": "2021-09-17T00:21:52.715218",
     "status": "completed"
    },
    "tags": []
   },
   "source": [
    "We reshape the data to flatten the image pixels into a set of features or co-variates:"
   ]
  },
  {
   "cell_type": "code",
   "execution_count": 14,
   "id": "5286a4a3",
   "metadata": {
    "execution": {
     "iopub.execute_input": "2021-09-17T00:21:52.794500Z",
     "iopub.status.busy": "2021-09-17T00:21:52.793950Z",
     "iopub.status.idle": "2021-09-17T00:21:52.806680Z",
     "shell.execute_reply": "2021-09-17T00:21:52.806296Z"
    },
    "papermill": {
     "duration": 0.040564,
     "end_time": "2021-09-17T00:21:52.806777",
     "exception": false,
     "start_time": "2021-09-17T00:21:52.766213",
     "status": "completed"
    },
    "tags": []
   },
   "outputs": [
    {
     "data": {
      "text/plain": [
       "((11982, 784), (1984, 784))"
      ]
     },
     "execution_count": 14,
     "metadata": {},
     "output_type": "execute_result"
    }
   ],
   "source": [
    "X_train = X_train.reshape(X_train.shape[0], -1)\n",
    "X_test = X_test.reshape(X_test.shape[0], -1)\n",
    "X_train.shape, X_test.shape"
   ]
  },
  {
   "cell_type": "code",
   "execution_count": 15,
   "id": "73c5f88a",
   "metadata": {
    "execution": {
     "iopub.execute_input": "2021-09-17T00:21:52.859841Z",
     "iopub.status.busy": "2021-09-17T00:21:52.859361Z",
     "iopub.status.idle": "2021-09-17T00:21:52.877248Z",
     "shell.execute_reply": "2021-09-17T00:21:52.876848Z"
    },
    "papermill": {
     "duration": 0.045364,
     "end_time": "2021-09-17T00:21:52.877341",
     "exception": false,
     "start_time": "2021-09-17T00:21:52.831977",
     "status": "completed"
    },
    "tags": []
   },
   "outputs": [],
   "source": [
    "#Impoting functions from 'Kudzu'\n",
    "from kudzu.model import Model\n",
    "from kudzu.train import Learner\n",
    "from kudzu.optim import GD\n",
    "from kudzu.data import Data, Sampler,Dataloader\n",
    "\n",
    "from kudzu.callbacks import AccCallback\n",
    "from kudzu.callbacks import ClfCallback\n",
    "\n",
    "from kudzu.loss import MSE\n",
    "\n",
    "from kudzu.layer import Sigmoid,Relu\n",
    "from kudzu.layer import Affine"
   ]
  },
  {
   "cell_type": "markdown",
   "id": "bc01172a",
   "metadata": {
    "papermill": {
     "duration": 0.024109,
     "end_time": "2021-09-17T00:21:52.926724",
     "exception": false,
     "start_time": "2021-09-17T00:21:52.902615",
     "status": "completed"
    },
    "tags": []
   },
   "source": [
    "### Let us create a `Config` class, to store important parameters. \n",
    "This class essentially plays the role of a dictionary."
   ]
  },
  {
   "cell_type": "code",
   "execution_count": 16,
   "id": "978281aa",
   "metadata": {
    "execution": {
     "iopub.execute_input": "2021-09-17T00:21:52.978727Z",
     "iopub.status.busy": "2021-09-17T00:21:52.978250Z",
     "iopub.status.idle": "2021-09-17T00:21:52.988839Z",
     "shell.execute_reply": "2021-09-17T00:21:52.989246Z"
    },
    "papermill": {
     "duration": 0.038334,
     "end_time": "2021-09-17T00:21:52.989349",
     "exception": false,
     "start_time": "2021-09-17T00:21:52.951015",
     "status": "completed"
    },
    "tags": []
   },
   "outputs": [],
   "source": [
    "class Config:\n",
    "    pass\n",
    "config = Config()\n",
    "config.lr = 0.001\n",
    "config.num_epochs = 250\n",
    "config.bs = 50"
   ]
  },
  {
   "cell_type": "markdown",
   "id": "1385fa59",
   "metadata": {
    "papermill": {
     "duration": 0.023839,
     "end_time": "2021-09-17T00:21:53.039372",
     "exception": false,
     "start_time": "2021-09-17T00:21:53.015533",
     "status": "completed"
    },
    "tags": []
   },
   "source": [
    "### Running Models with the Training data\n",
    "Details about the network layers:\n",
    "- A first affine layer has 784 inputs and does 100 affine transforms. These are followed by a Relu\n",
    "- A second affine layer has 100 inputs from the 100 activations of the past layer, and does 100 affine transforms. These are followed by a Relu\n",
    "- A third affine layer has 100 activations and does 2 affine transformations to create an embedding for visualization. There is no non-linearity here.\n",
    "- A final \"logistic regression\" which has an affine transform from 2 inputs to 1 output, which is squeezed through a sigmoid.\n"
   ]
  },
  {
   "cell_type": "code",
   "execution_count": 17,
   "id": "2b9c66db",
   "metadata": {
    "execution": {
     "iopub.execute_input": "2021-09-17T00:21:53.093479Z",
     "iopub.status.busy": "2021-09-17T00:21:53.092608Z",
     "iopub.status.idle": "2021-09-17T00:21:53.106896Z",
     "shell.execute_reply": "2021-09-17T00:21:53.107306Z"
    },
    "papermill": {
     "duration": 0.042863,
     "end_time": "2021-09-17T00:21:53.107410",
     "exception": false,
     "start_time": "2021-09-17T00:21:53.064547",
     "status": "completed"
    },
    "tags": []
   },
   "outputs": [],
   "source": [
    "data = Data(X_train, y_train.reshape(-1,1))\n",
    "sampler = Sampler(data, config.bs, shuffle=True)\n",
    "\n",
    "dl = Dataloader(data, sampler)\n",
    "\n",
    "opt = GD(config.lr)\n",
    "loss = MSE()"
   ]
  },
  {
   "cell_type": "code",
   "execution_count": 18,
   "id": "b275e4c2",
   "metadata": {
    "execution": {
     "iopub.execute_input": "2021-09-17T00:21:53.160046Z",
     "iopub.status.busy": "2021-09-17T00:21:53.159502Z",
     "iopub.status.idle": "2021-09-17T00:21:53.170358Z",
     "shell.execute_reply": "2021-09-17T00:21:53.169973Z"
    },
    "papermill": {
     "duration": 0.039048,
     "end_time": "2021-09-17T00:21:53.170453",
     "exception": false,
     "start_time": "2021-09-17T00:21:53.131405",
     "status": "completed"
    },
    "tags": []
   },
   "outputs": [],
   "source": [
    "training_data_x = X_train\n",
    "testing_data_x = X_test\n",
    "training_data_y = y_train.reshape(-1,1)\n",
    "testing_data_y = y_test.reshape(-1,1)"
   ]
  },
  {
   "cell_type": "code",
   "execution_count": 19,
   "id": "76951160",
   "metadata": {
    "execution": {
     "iopub.execute_input": "2021-09-17T00:21:53.223313Z",
     "iopub.status.busy": "2021-09-17T00:21:53.222840Z",
     "iopub.status.idle": "2021-09-17T00:21:53.240185Z",
     "shell.execute_reply": "2021-09-17T00:21:53.239783Z"
    },
    "papermill": {
     "duration": 0.046467,
     "end_time": "2021-09-17T00:21:53.240276",
     "exception": false,
     "start_time": "2021-09-17T00:21:53.193809",
     "status": "completed"
    },
    "tags": []
   },
   "outputs": [
    {
     "name": "stdout",
     "output_type": "stream",
     "text": [
      "xavier\n",
      "xavier\n",
      "xavier\n",
      "xavier\n",
      "xavier\n"
     ]
    }
   ],
   "source": [
    "layers = [Affine(\"first\", 784, 100), Relu(\"first\"), Affine(\"second\", 100, 100), Relu(\"second\"), Affine(\"third\", 100, 2), Affine(\"last\", 2, 1), Sigmoid(\"last\")]\n",
    "model_nn = Model(layers)\n",
    "model_lr = Model([Affine(\"logits\", 784, 1), Sigmoid(\"sigmoid\")])"
   ]
  },
  {
   "cell_type": "code",
   "execution_count": 20,
   "id": "6eede77a",
   "metadata": {
    "execution": {
     "iopub.execute_input": "2021-09-17T00:21:53.299302Z",
     "iopub.status.busy": "2021-09-17T00:21:53.298719Z",
     "iopub.status.idle": "2021-09-17T00:21:53.309716Z",
     "shell.execute_reply": "2021-09-17T00:21:53.310252Z"
    },
    "papermill": {
     "duration": 0.045333,
     "end_time": "2021-09-17T00:21:53.310354",
     "exception": false,
     "start_time": "2021-09-17T00:21:53.265021",
     "status": "completed"
    },
    "tags": []
   },
   "outputs": [],
   "source": [
    "nn_learner = Learner(loss, model_nn, opt, config.num_epochs)\n",
    "acc_nn = ClfCallback(nn_learner, config.bs, training_data_x , testing_data_x, training_data_y, testing_data_y)\n",
    "nn_learner.set_callbacks([acc_nn])"
   ]
  },
  {
   "cell_type": "code",
   "execution_count": 21,
   "id": "877b6cc7",
   "metadata": {
    "execution": {
     "iopub.execute_input": "2021-09-17T00:21:53.366153Z",
     "iopub.status.busy": "2021-09-17T00:21:53.365537Z",
     "iopub.status.idle": "2021-09-17T00:21:53.379839Z",
     "shell.execute_reply": "2021-09-17T00:21:53.379349Z"
    },
    "papermill": {
     "duration": 0.044251,
     "end_time": "2021-09-17T00:21:53.379950",
     "exception": false,
     "start_time": "2021-09-17T00:21:53.335699",
     "status": "completed"
    },
    "tags": []
   },
   "outputs": [],
   "source": [
    "lr_learner = Learner(loss, model_lr, opt, config.num_epochs)\n",
    "acc_lr = ClfCallback(lr_learner, config.bs, training_data_x , testing_data_x, training_data_y, testing_data_y)\n",
    "lr_learner.set_callbacks([acc_lr])"
   ]
  },
  {
   "cell_type": "code",
   "execution_count": 22,
   "id": "d9b133c3",
   "metadata": {
    "execution": {
     "iopub.execute_input": "2021-09-17T00:21:53.443573Z",
     "iopub.status.busy": "2021-09-17T00:21:53.443037Z",
     "iopub.status.idle": "2021-09-17T00:23:13.559685Z",
     "shell.execute_reply": "2021-09-17T00:23:13.560475Z"
    },
    "papermill": {
     "duration": 80.15356,
     "end_time": "2021-09-17T00:23:13.560622",
     "exception": false,
     "start_time": "2021-09-17T00:21:53.407062",
     "status": "completed"
    },
    "tags": []
   },
   "outputs": [
    {
     "name": "stdout",
     "output_type": "stream",
     "text": [
      "Epoch 0, Loss 0.2544\n",
      "Training Accuracy: 0.5345, Testing Accuracy: 0.5499\n",
      "\n"
     ]
    },
    {
     "name": "stdout",
     "output_type": "stream",
     "text": [
      "Epoch 10, Loss 0.129\n",
      "Training Accuracy: 0.9040, Testing Accuracy: 0.9113\n",
      "\n"
     ]
    },
    {
     "name": "stdout",
     "output_type": "stream",
     "text": [
      "Epoch 20, Loss 0.0706\n",
      "Training Accuracy: 0.9315, Testing Accuracy: 0.9400\n",
      "\n"
     ]
    },
    {
     "name": "stdout",
     "output_type": "stream",
     "text": [
      "Epoch 30, Loss 0.0516\n",
      "Training Accuracy: 0.9446, Testing Accuracy: 0.9551\n",
      "\n"
     ]
    },
    {
     "name": "stdout",
     "output_type": "stream",
     "text": [
      "Epoch 40, Loss 0.0429\n",
      "Training Accuracy: 0.9529, Testing Accuracy: 0.9577\n",
      "\n"
     ]
    },
    {
     "name": "stdout",
     "output_type": "stream",
     "text": [
      "Epoch 50, Loss 0.0379\n",
      "Training Accuracy: 0.9565, Testing Accuracy: 0.9642\n",
      "\n"
     ]
    },
    {
     "name": "stdout",
     "output_type": "stream",
     "text": [
      "Epoch 60, Loss 0.0348\n",
      "Training Accuracy: 0.9594, Testing Accuracy: 0.9652\n",
      "\n"
     ]
    },
    {
     "name": "stdout",
     "output_type": "stream",
     "text": [
      "Epoch 70, Loss 0.0325\n",
      "Training Accuracy: 0.9619, Testing Accuracy: 0.9662\n",
      "\n"
     ]
    },
    {
     "name": "stdout",
     "output_type": "stream",
     "text": [
      "Epoch 80, Loss 0.0308\n",
      "Training Accuracy: 0.9638, Testing Accuracy: 0.9667\n",
      "\n"
     ]
    },
    {
     "name": "stdout",
     "output_type": "stream",
     "text": [
      "Epoch 90, Loss 0.0294\n",
      "Training Accuracy: 0.9654, Testing Accuracy: 0.9657\n",
      "\n"
     ]
    },
    {
     "name": "stdout",
     "output_type": "stream",
     "text": [
      "Epoch 100, Loss 0.0283\n",
      "Training Accuracy: 0.9664, Testing Accuracy: 0.9667\n",
      "\n"
     ]
    },
    {
     "name": "stdout",
     "output_type": "stream",
     "text": [
      "Epoch 110, Loss 0.0273\n",
      "Training Accuracy: 0.9676, Testing Accuracy: 0.9672\n",
      "\n"
     ]
    },
    {
     "name": "stdout",
     "output_type": "stream",
     "text": [
      "Epoch 120, Loss 0.0264\n",
      "Training Accuracy: 0.9687, Testing Accuracy: 0.9677\n",
      "\n"
     ]
    },
    {
     "name": "stdout",
     "output_type": "stream",
     "text": [
      "Epoch 130, Loss 0.0256\n",
      "Training Accuracy: 0.9702, Testing Accuracy: 0.9703\n",
      "\n"
     ]
    },
    {
     "name": "stdout",
     "output_type": "stream",
     "text": [
      "Epoch 140, Loss 0.0249\n",
      "Training Accuracy: 0.9709, Testing Accuracy: 0.9703\n",
      "\n"
     ]
    },
    {
     "name": "stdout",
     "output_type": "stream",
     "text": [
      "Epoch 150, Loss 0.0242\n",
      "Training Accuracy: 0.9720, Testing Accuracy: 0.9703\n",
      "\n"
     ]
    },
    {
     "name": "stdout",
     "output_type": "stream",
     "text": [
      "Epoch 160, Loss 0.0236\n",
      "Training Accuracy: 0.9723, Testing Accuracy: 0.9703\n",
      "\n"
     ]
    },
    {
     "name": "stdout",
     "output_type": "stream",
     "text": [
      "Epoch 170, Loss 0.0231\n",
      "Training Accuracy: 0.9730, Testing Accuracy: 0.9708\n",
      "\n"
     ]
    },
    {
     "name": "stdout",
     "output_type": "stream",
     "text": [
      "Epoch 180, Loss 0.0225\n",
      "Training Accuracy: 0.9737, Testing Accuracy: 0.9708\n",
      "\n"
     ]
    },
    {
     "name": "stdout",
     "output_type": "stream",
     "text": [
      "Epoch 190, Loss 0.0221\n",
      "Training Accuracy: 0.9750, Testing Accuracy: 0.9718\n",
      "\n"
     ]
    },
    {
     "name": "stdout",
     "output_type": "stream",
     "text": [
      "Epoch 200, Loss 0.0216\n",
      "Training Accuracy: 0.9752, Testing Accuracy: 0.9723\n",
      "\n"
     ]
    },
    {
     "name": "stdout",
     "output_type": "stream",
     "text": [
      "Epoch 210, Loss 0.0212\n",
      "Training Accuracy: 0.9756, Testing Accuracy: 0.9718\n",
      "\n"
     ]
    },
    {
     "name": "stdout",
     "output_type": "stream",
     "text": [
      "Epoch 220, Loss 0.0208\n",
      "Training Accuracy: 0.9761, Testing Accuracy: 0.9723\n",
      "\n"
     ]
    },
    {
     "name": "stdout",
     "output_type": "stream",
     "text": [
      "Epoch 230, Loss 0.0204\n",
      "Training Accuracy: 0.9766, Testing Accuracy: 0.9723\n",
      "\n"
     ]
    },
    {
     "name": "stdout",
     "output_type": "stream",
     "text": [
      "Epoch 240, Loss 0.02\n",
      "Training Accuracy: 0.9770, Testing Accuracy: 0.9723\n",
      "\n"
     ]
    },
    {
     "data": {
      "text/plain": [
       "0.015464107869910813"
      ]
     },
     "execution_count": 22,
     "metadata": {},
     "output_type": "execute_result"
    }
   ],
   "source": [
    "nn_learner.train_loop(dl)"
   ]
  },
  {
   "cell_type": "code",
   "execution_count": 23,
   "id": "e0163366",
   "metadata": {
    "execution": {
     "iopub.execute_input": "2021-09-17T00:23:13.645589Z",
     "iopub.status.busy": "2021-09-17T00:23:13.645048Z",
     "iopub.status.idle": "2021-09-17T00:23:28.282672Z",
     "shell.execute_reply": "2021-09-17T00:23:28.283430Z"
    },
    "papermill": {
     "duration": 14.686559,
     "end_time": "2021-09-17T00:23:28.283577",
     "exception": false,
     "start_time": "2021-09-17T00:23:13.597018",
     "status": "completed"
    },
    "tags": []
   },
   "outputs": [
    {
     "name": "stdout",
     "output_type": "stream",
     "text": [
      "Epoch 0, Loss 0.242\n",
      "Training Accuracy: 0.6770, Testing Accuracy: 0.6830\n",
      "\n"
     ]
    },
    {
     "name": "stdout",
     "output_type": "stream",
     "text": [
      "Epoch 10, Loss 0.1048\n",
      "Training Accuracy: 0.9068, Testing Accuracy: 0.9022\n",
      "\n"
     ]
    },
    {
     "name": "stdout",
     "output_type": "stream",
     "text": [
      "Epoch 20, Loss 0.0802\n",
      "Training Accuracy: 0.9268, Testing Accuracy: 0.9289\n",
      "\n"
     ]
    },
    {
     "name": "stdout",
     "output_type": "stream",
     "text": [
      "Epoch 30, Loss 0.0687\n",
      "Training Accuracy: 0.9362, Testing Accuracy: 0.9420\n",
      "\n"
     ]
    },
    {
     "name": "stdout",
     "output_type": "stream",
     "text": [
      "Epoch 40, Loss 0.0618\n",
      "Training Accuracy: 0.9422, Testing Accuracy: 0.9491\n",
      "\n"
     ]
    },
    {
     "name": "stdout",
     "output_type": "stream",
     "text": [
      "Epoch 50, Loss 0.0571\n",
      "Training Accuracy: 0.9456, Testing Accuracy: 0.9526\n",
      "\n"
     ]
    },
    {
     "name": "stdout",
     "output_type": "stream",
     "text": [
      "Epoch 60, Loss 0.0537\n",
      "Training Accuracy: 0.9476, Testing Accuracy: 0.9541\n",
      "\n"
     ]
    },
    {
     "name": "stdout",
     "output_type": "stream",
     "text": [
      "Epoch 70, Loss 0.0511\n",
      "Training Accuracy: 0.9498, Testing Accuracy: 0.9572\n",
      "\n"
     ]
    },
    {
     "name": "stdout",
     "output_type": "stream",
     "text": [
      "Epoch 80, Loss 0.049\n",
      "Training Accuracy: 0.9514, Testing Accuracy: 0.9582\n",
      "\n"
     ]
    },
    {
     "name": "stdout",
     "output_type": "stream",
     "text": [
      "Epoch 90, Loss 0.0473\n",
      "Training Accuracy: 0.9524, Testing Accuracy: 0.9582\n",
      "\n"
     ]
    },
    {
     "name": "stdout",
     "output_type": "stream",
     "text": [
      "Epoch 100, Loss 0.0459\n",
      "Training Accuracy: 0.9534, Testing Accuracy: 0.9602\n",
      "\n"
     ]
    },
    {
     "name": "stdout",
     "output_type": "stream",
     "text": [
      "Epoch 110, Loss 0.0447\n",
      "Training Accuracy: 0.9540, Testing Accuracy: 0.9612\n",
      "\n"
     ]
    },
    {
     "name": "stdout",
     "output_type": "stream",
     "text": [
      "Epoch 120, Loss 0.0436\n",
      "Training Accuracy: 0.9553, Testing Accuracy: 0.9612\n",
      "\n"
     ]
    },
    {
     "name": "stdout",
     "output_type": "stream",
     "text": [
      "Epoch 130, Loss 0.0427\n",
      "Training Accuracy: 0.9562, Testing Accuracy: 0.9612\n",
      "\n"
     ]
    },
    {
     "name": "stdout",
     "output_type": "stream",
     "text": [
      "Epoch 140, Loss 0.0419\n",
      "Training Accuracy: 0.9569, Testing Accuracy: 0.9627\n",
      "\n"
     ]
    },
    {
     "name": "stdout",
     "output_type": "stream",
     "text": [
      "Epoch 150, Loss 0.0411\n",
      "Training Accuracy: 0.9578, Testing Accuracy: 0.9627\n",
      "\n"
     ]
    },
    {
     "name": "stdout",
     "output_type": "stream",
     "text": [
      "Epoch 160, Loss 0.0405\n",
      "Training Accuracy: 0.9581, Testing Accuracy: 0.9652\n",
      "\n"
     ]
    },
    {
     "name": "stdout",
     "output_type": "stream",
     "text": [
      "Epoch 170, Loss 0.0398\n",
      "Training Accuracy: 0.9585, Testing Accuracy: 0.9647\n",
      "\n"
     ]
    },
    {
     "name": "stdout",
     "output_type": "stream",
     "text": [
      "Epoch 180, Loss 0.0393\n",
      "Training Accuracy: 0.9590, Testing Accuracy: 0.9647\n",
      "\n"
     ]
    },
    {
     "name": "stdout",
     "output_type": "stream",
     "text": [
      "Epoch 190, Loss 0.0388\n",
      "Training Accuracy: 0.9597, Testing Accuracy: 0.9647\n",
      "\n"
     ]
    },
    {
     "name": "stdout",
     "output_type": "stream",
     "text": [
      "Epoch 200, Loss 0.0383\n",
      "Training Accuracy: 0.9600, Testing Accuracy: 0.9647\n",
      "\n"
     ]
    },
    {
     "name": "stdout",
     "output_type": "stream",
     "text": [
      "Epoch 210, Loss 0.0379\n",
      "Training Accuracy: 0.9604, Testing Accuracy: 0.9647\n",
      "\n"
     ]
    },
    {
     "name": "stdout",
     "output_type": "stream",
     "text": [
      "Epoch 220, Loss 0.0375\n",
      "Training Accuracy: 0.9606, Testing Accuracy: 0.9647\n",
      "\n"
     ]
    },
    {
     "name": "stdout",
     "output_type": "stream",
     "text": [
      "Epoch 230, Loss 0.0371\n",
      "Training Accuracy: 0.9607, Testing Accuracy: 0.9652\n",
      "\n"
     ]
    },
    {
     "name": "stdout",
     "output_type": "stream",
     "text": [
      "Epoch 240, Loss 0.0367\n",
      "Training Accuracy: 0.9610, Testing Accuracy: 0.9652\n",
      "\n"
     ]
    },
    {
     "data": {
      "text/plain": [
       "0.0444283216960365"
      ]
     },
     "execution_count": 23,
     "metadata": {},
     "output_type": "execute_result"
    }
   ],
   "source": [
    "lr_learner.train_loop(dl)"
   ]
  },
  {
   "cell_type": "code",
   "execution_count": 24,
   "id": "ca410940",
   "metadata": {
    "execution": {
     "iopub.execute_input": "2021-09-17T00:23:28.387101Z",
     "iopub.status.busy": "2021-09-17T00:23:28.386541Z",
     "iopub.status.idle": "2021-09-17T00:23:28.614661Z",
     "shell.execute_reply": "2021-09-17T00:23:28.614203Z"
    },
    "papermill": {
     "duration": 0.286801,
     "end_time": "2021-09-17T00:23:28.614785",
     "exception": false,
     "start_time": "2021-09-17T00:23:28.327984",
     "status": "completed"
    },
    "tags": []
   },
   "outputs": [
    {
     "data": {
      "text/plain": [
       "<matplotlib.legend.Legend at 0x7f9cfff7a898>"
      ]
     },
     "execution_count": 24,
     "metadata": {},
     "output_type": "execute_result"
    },
    {
     "data": {
      "image/png": "[encoded data removed]",
      "text/plain": [
       "<Figure size 1080x720 with 1 Axes>"
      ]
     },
     "metadata": {
      "needs_background": "light"
     },
     "output_type": "display_data"
    }
   ],
   "source": [
    "#comparing the results of NN and LR\n",
    "plt.figure(figsize=(15,10))\n",
    "\n",
    "# Neural Network plots\n",
    "plt.plot(acc_nn.accuracies, 'r-', label = \"Training Accuracies - NN\")\n",
    "plt.plot(acc_nn.test_accuracies, 'g-', label = \"Testing Accuracies - NN\")\n",
    "\n",
    "# Logistic Regression plots\n",
    "plt.plot(acc_lr.accuracies, 'k-', label = \"Training Accuracies - LR\")\n",
    "plt.plot(acc_lr.test_accuracies, 'b-', label = \"Testing Accuracies - LR\")\n",
    "plt.legend()"
   ]
  },
  {
   "cell_type": "markdown",
   "id": "80dfb35c",
   "metadata": {
    "papermill": {
     "duration": 0.043032,
     "end_time": "2021-09-17T00:23:28.703674",
     "exception": false,
     "start_time": "2021-09-17T00:23:28.660642",
     "status": "completed"
    },
    "tags": []
   },
   "source": [
    "#### Plotting the outputs of this layer of the NN.\n"
   ]
  },
  {
   "cell_type": "code",
   "execution_count": 25,
   "id": "45eb2ff5",
   "metadata": {
    "execution": {
     "iopub.execute_input": "2021-09-17T00:23:28.806207Z",
     "iopub.status.busy": "2021-09-17T00:23:28.805154Z",
     "iopub.status.idle": "2021-09-17T00:23:28.825210Z",
     "shell.execute_reply": "2021-09-17T00:23:28.824710Z"
    },
    "papermill": {
     "duration": 0.075223,
     "end_time": "2021-09-17T00:23:28.825338",
     "exception": false,
     "start_time": "2021-09-17T00:23:28.750115",
     "status": "completed"
    },
    "tags": []
   },
   "outputs": [],
   "source": [
    "new_model = Model(layers[:-2])\n",
    "testing_plot = new_model(testing_data_x)"
   ]
  },
  {
   "cell_type": "code",
   "execution_count": 26,
   "id": "4c0a5485",
   "metadata": {
    "execution": {
     "iopub.execute_input": "2021-09-17T00:23:28.931293Z",
     "iopub.status.busy": "2021-09-17T00:23:28.930672Z",
     "iopub.status.idle": "2021-09-17T00:23:29.140110Z",
     "shell.execute_reply": "2021-09-17T00:23:29.139400Z"
    },
    "papermill": {
     "duration": 0.259615,
     "end_time": "2021-09-17T00:23:29.140239",
     "exception": false,
     "start_time": "2021-09-17T00:23:28.880624",
     "status": "completed"
    },
    "tags": []
   },
   "outputs": [
    {
     "data": {
      "text/plain": [
       "Text(0.5, 1.0, 'Outputs')"
      ]
     },
     "execution_count": 26,
     "metadata": {},
     "output_type": "execute_result"
    },
    {
     "data": {
      "image/png": "[encoded data removed]",
      "text/plain": [
       "<Figure size 576x504 with 1 Axes>"
      ]
     },
     "metadata": {
      "needs_background": "light"
     },
     "output_type": "display_data"
    }
   ],
   "source": [
    "# Plotting the scatter plot of points and color coding by class\n",
    "plt.figure(figsize=(8,7))\n",
    "plt.scatter(testing_plot[:,0], testing_plot[:,1], alpha = 0.1, c = y_test.ravel());\n",
    "plt.title('Outputs')"
   ]
  },
  {
   "cell_type": "markdown",
   "id": "a74fcf8f",
   "metadata": {
    "papermill": {
     "duration": 0.045813,
     "end_time": "2021-09-17T00:23:29.233315",
     "exception": false,
     "start_time": "2021-09-17T00:23:29.187502",
     "status": "completed"
    },
    "tags": []
   },
   "source": [
    "Probability contours"
   ]
  },
  {
   "cell_type": "code",
   "execution_count": 27,
   "id": "d0afc8e3",
   "metadata": {
    "execution": {
     "iopub.execute_input": "2021-09-17T00:23:29.332296Z",
     "iopub.status.busy": "2021-09-17T00:23:29.331747Z",
     "iopub.status.idle": "2021-09-17T00:23:29.343522Z",
     "shell.execute_reply": "2021-09-17T00:23:29.344003Z"
    },
    "papermill": {
     "duration": 0.063083,
     "end_time": "2021-09-17T00:23:29.344157",
     "exception": false,
     "start_time": "2021-09-17T00:23:29.281074",
     "status": "completed"
    },
    "tags": []
   },
   "outputs": [],
   "source": [
    "model_prob = Model(layers[-2:]) "
   ]
  },
  {
   "cell_type": "code",
   "execution_count": 28,
   "id": "9b96e238",
   "metadata": {
    "execution": {
     "iopub.execute_input": "2021-09-17T00:23:29.443630Z",
     "iopub.status.busy": "2021-09-17T00:23:29.443068Z",
     "iopub.status.idle": "2021-09-17T00:23:29.457282Z",
     "shell.execute_reply": "2021-09-17T00:23:29.457692Z"
    },
    "papermill": {
     "duration": 0.068084,
     "end_time": "2021-09-17T00:23:29.457832",
     "exception": false,
     "start_time": "2021-09-17T00:23:29.389748",
     "status": "completed"
    },
    "tags": []
   },
   "outputs": [],
   "source": [
    "#creating the x and y ranges according to the above generated plot.\n",
    "x_range = np.linspace(-4, 1, 100) \n",
    "y_range = np.linspace(-6, 6, 100) \n",
    "x_grid, y_grid = np.meshgrid(x_range, y_range) # x_grid and y_grig are of size 100 X 100\n",
    "\n",
    "# converting x_grid and y_grid to continuous arrays\n",
    "x_gridflat = np.ravel(x_grid)\n",
    "y_gridflat = np.ravel(y_grid)\n",
    "\n",
    "# The last layer of the current model takes two columns as input. Hence transpose of np.vstack() is required.\n",
    "X = np.vstack((x_gridflat, y_gridflat)).T\n",
    "\n",
    "prob_contour = model_prob(X).reshape(100,100) "
   ]
  },
  {
   "cell_type": "code",
   "execution_count": 29,
   "id": "da72499a",
   "metadata": {
    "execution": {
     "iopub.execute_input": "2021-09-17T00:23:29.571113Z",
     "iopub.status.busy": "2021-09-17T00:23:29.570528Z",
     "iopub.status.idle": "2021-09-17T00:23:29.828207Z",
     "shell.execute_reply": "2021-09-17T00:23:29.828686Z"
    },
    "papermill": {
     "duration": 0.318475,
     "end_time": "2021-09-17T00:23:29.828832",
     "exception": false,
     "start_time": "2021-09-17T00:23:29.510357",
     "status": "completed"
    },
    "tags": []
   },
   "outputs": [
    {
     "data": {
      "image/png": "[encoded data removed]",
      "text/plain": [
       "<Figure size 720x648 with 1 Axes>"
      ]
     },
     "metadata": {
      "needs_background": "light"
     },
     "output_type": "display_data"
    }
   ],
   "source": [
    "plt.figure(figsize=(10,9))\n",
    "plt.scatter(testing_plot[:,0], testing_plot[:,1], alpha = 0.1, c = y_test.ravel())\n",
    "contours = plt.contour(x_grid,y_grid,prob_contour)\n",
    "plt.title('Probability Contours')\n",
    "plt.clabel(contours, inline = True );"
   ]
  },
  {
   "cell_type": "code",
   "execution_count": null,
   "id": "e81b4ac7",
   "metadata": {
    "papermill": {
     "duration": 0.051503,
     "end_time": "2021-09-17T00:23:29.960861",
     "exception": false,
     "start_time": "2021-09-17T00:23:29.909358",
     "status": "completed"
    },
    "tags": []
   },
   "outputs": [],
   "source": []
  }
 ],
 "metadata": {
  "kernelspec": {
   "display_name": "Python 3",
   "language": "python",
   "name": "python3"
  },
  "language_info": {
   "codemirror_mode": {
    "name": "ipython",
    "version": 3
   },
   "file_extension": ".py",
   "mimetype": "text/x-python",
   "name": "python",
   "nbconvert_exporter": "python",
   "pygments_lexer": "ipython3",
   "version": "3.6.15"
  },
  "papermill": {
   "default_parameters": {},
   "duration": 102.913562,
   "end_time": "2021-09-17T00:23:30.420933",
   "environment_variables": {},
   "exception": null,
   "input_path": "2020-08-11-part2.ipynb",
   "output_path": "2020-08-11-part2.ipynb",
   "parameters": {},
   "start_time": "2021-09-17T00:21:47.507371",
   "version": "2.3.3"
  }
 },
 "nbformat": 4,
 "nbformat_minor": 5
}