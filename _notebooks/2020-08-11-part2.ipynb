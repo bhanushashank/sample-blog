{
 "cells": [
  {
   "cell_type": "markdown",
   "id": "98380cd3",
   "metadata": {
    "papermill": {
     "duration": 0.025916,
     "end_time": "2021-12-02T20:08:36.513772",
     "exception": false,
     "start_time": "2021-12-02T20:08:36.487856",
     "status": "completed"
    },
    "tags": []
   },
   "source": [
    "# Distinguish Your Own Digits (DYOD)"
   ]
  },
  {
   "cell_type": "markdown",
   "id": "ef31240d",
   "metadata": {
    "papermill": {
     "duration": 0.02114,
     "end_time": "2021-12-02T20:08:36.556870",
     "exception": false,
     "start_time": "2021-12-02T20:08:36.535730",
     "status": "completed"
    },
    "tags": []
   },
   "source": [
    "You are going to write a classifier that distinguishes between the number 3 and number 8."
   ]
  },
  {
   "cell_type": "code",
   "execution_count": 1,
   "id": "b15c8646",
   "metadata": {
    "execution": {
     "iopub.execute_input": "2021-12-02T20:08:36.610306Z",
     "iopub.status.busy": "2021-12-02T20:08:36.609785Z",
     "iopub.status.idle": "2021-12-02T20:08:36.621428Z",
     "shell.execute_reply": "2021-12-02T20:08:36.620955Z"
    },
    "papermill": {
     "duration": 0.04356,
     "end_time": "2021-12-02T20:08:36.621560",
     "exception": false,
     "start_time": "2021-12-02T20:08:36.578000",
     "status": "completed"
    },
    "tags": []
   },
   "outputs": [],
   "source": [
    "%load_ext autoreload\n",
    "%autoreload 2"
   ]
  },
  {
   "cell_type": "code",
   "execution_count": 2,
   "id": "22ef38dc",
   "metadata": {
    "execution": {
     "iopub.execute_input": "2021-12-02T20:08:36.670180Z",
     "iopub.status.busy": "2021-12-02T20:08:36.669679Z",
     "iopub.status.idle": "2021-12-02T20:08:37.306601Z",
     "shell.execute_reply": "2021-12-02T20:08:37.306138Z"
    },
    "papermill": {
     "duration": 0.663437,
     "end_time": "2021-12-02T20:08:37.306730",
     "exception": false,
     "start_time": "2021-12-02T20:08:36.643293",
     "status": "completed"
    },
    "tags": []
   },
   "outputs": [],
   "source": [
    "%matplotlib inline\n",
    "import numpy as np\n",
    "import matplotlib.pyplot as plt\n",
    "import pandas as pd"
   ]
  },
  {
   "cell_type": "markdown",
   "id": "ba036198",
   "metadata": {
    "papermill": {
     "duration": 0.021315,
     "end_time": "2021-12-02T20:08:37.349568",
     "exception": false,
     "start_time": "2021-12-02T20:08:37.328253",
     "status": "completed"
    },
    "tags": []
   },
   "source": [
    "From the command line run `pip install mnist`. This is a library that will help you bring down the mnist dataset. If you run this from a notebook, you need to put  `!pip install mnist` in a cell by itself."
   ]
  },
  {
   "cell_type": "code",
   "execution_count": 3,
   "id": "bb6ad8a1",
   "metadata": {
    "execution": {
     "iopub.execute_input": "2021-12-02T20:08:37.411472Z",
     "iopub.status.busy": "2021-12-02T20:08:37.404706Z",
     "iopub.status.idle": "2021-12-02T20:08:39.279830Z",
     "shell.execute_reply": "2021-12-02T20:08:39.279285Z"
    },
    "papermill": {
     "duration": 1.908986,
     "end_time": "2021-12-02T20:08:39.279944",
     "exception": false,
     "start_time": "2021-12-02T20:08:37.370958",
     "status": "completed"
    },
    "tags": []
   },
   "outputs": [
    {
     "name": "stdout",
     "output_type": "stream",
     "text": [
      "Collecting mnist\r\n"
     ]
    },
    {
     "name": "stdout",
     "output_type": "stream",
     "text": [
      "  Downloading mnist-0.2.2-py2.py3-none-any.whl (3.5 kB)\r\n",
      "Requirement already satisfied: numpy in /opt/hostedtoolcache/Python/3.6.15/x64/lib/python3.6/site-packages (from mnist) (1.19.5)\r\n"
     ]
    },
    {
     "name": "stdout",
     "output_type": "stream",
     "text": [
      "Installing collected packages: mnist\r\n",
      "Successfully installed mnist-0.2.2\r\n"
     ]
    }
   ],
   "source": [
    "!pip install mnist"
   ]
  },
  {
   "cell_type": "markdown",
   "id": "69df9c9a",
   "metadata": {
    "papermill": {
     "duration": 0.022123,
     "end_time": "2021-12-02T20:08:39.324334",
     "exception": false,
     "start_time": "2021-12-02T20:08:39.302211",
     "status": "completed"
    },
    "tags": []
   },
   "source": [
    "## Preparing the Data"
   ]
  },
  {
   "cell_type": "code",
   "execution_count": 4,
   "id": "7f69d806",
   "metadata": {
    "execution": {
     "iopub.execute_input": "2021-12-02T20:08:39.373010Z",
     "iopub.status.busy": "2021-12-02T20:08:39.372504Z",
     "iopub.status.idle": "2021-12-02T20:08:39.388415Z",
     "shell.execute_reply": "2021-12-02T20:08:39.388002Z"
    },
    "papermill": {
     "duration": 0.042068,
     "end_time": "2021-12-02T20:08:39.388539",
     "exception": false,
     "start_time": "2021-12-02T20:08:39.346471",
     "status": "completed"
    },
    "tags": []
   },
   "outputs": [],
   "source": [
    "import mnist"
   ]
  },
  {
   "cell_type": "code",
   "execution_count": 5,
   "id": "a411e44f",
   "metadata": {
    "execution": {
     "iopub.execute_input": "2021-12-02T20:08:39.450029Z",
     "iopub.status.busy": "2021-12-02T20:08:39.443623Z",
     "iopub.status.idle": "2021-12-02T20:08:40.136402Z",
     "shell.execute_reply": "2021-12-02T20:08:40.135886Z"
    },
    "papermill": {
     "duration": 0.72549,
     "end_time": "2021-12-02T20:08:40.136533",
     "exception": false,
     "start_time": "2021-12-02T20:08:39.411043",
     "status": "completed"
    },
    "tags": []
   },
   "outputs": [],
   "source": [
    "train_images = mnist.train_images()\n",
    "train_labels = mnist.train_labels()"
   ]
  },
  {
   "cell_type": "code",
   "execution_count": 6,
   "id": "dceab3a5",
   "metadata": {
    "execution": {
     "iopub.execute_input": "2021-12-02T20:08:40.192054Z",
     "iopub.status.busy": "2021-12-02T20:08:40.191496Z",
     "iopub.status.idle": "2021-12-02T20:08:40.205947Z",
     "shell.execute_reply": "2021-12-02T20:08:40.205508Z"
    },
    "papermill": {
     "duration": 0.044051,
     "end_time": "2021-12-02T20:08:40.206070",
     "exception": false,
     "start_time": "2021-12-02T20:08:40.162019",
     "status": "completed"
    },
    "tags": []
   },
   "outputs": [
    {
     "data": {
      "text/plain": [
       "((60000, 28, 28), (60000,))"
      ]
     },
     "execution_count": 6,
     "metadata": {},
     "output_type": "execute_result"
    }
   ],
   "source": [
    "train_images.shape, train_labels.shape"
   ]
  },
  {
   "cell_type": "code",
   "execution_count": 7,
   "id": "f50dc2bb",
   "metadata": {
    "execution": {
     "iopub.execute_input": "2021-12-02T20:08:40.267352Z",
     "iopub.status.busy": "2021-12-02T20:08:40.266775Z",
     "iopub.status.idle": "2021-12-02T20:08:40.487366Z",
     "shell.execute_reply": "2021-12-02T20:08:40.486720Z"
    },
    "papermill": {
     "duration": 0.25613,
     "end_time": "2021-12-02T20:08:40.487510",
     "exception": false,
     "start_time": "2021-12-02T20:08:40.231380",
     "status": "completed"
    },
    "tags": []
   },
   "outputs": [],
   "source": [
    "test_images = mnist.test_images()\n",
    "test_labels = mnist.test_labels()"
   ]
  },
  {
   "cell_type": "code",
   "execution_count": 8,
   "id": "fc38cf1b",
   "metadata": {
    "execution": {
     "iopub.execute_input": "2021-12-02T20:08:40.544499Z",
     "iopub.status.busy": "2021-12-02T20:08:40.543879Z",
     "iopub.status.idle": "2021-12-02T20:08:40.558353Z",
     "shell.execute_reply": "2021-12-02T20:08:40.557922Z"
    },
    "papermill": {
     "duration": 0.045057,
     "end_time": "2021-12-02T20:08:40.558478",
     "exception": false,
     "start_time": "2021-12-02T20:08:40.513421",
     "status": "completed"
    },
    "tags": []
   },
   "outputs": [
    {
     "data": {
      "text/plain": [
       "((10000, 28, 28), (10000,))"
      ]
     },
     "execution_count": 8,
     "metadata": {},
     "output_type": "execute_result"
    }
   ],
   "source": [
    "test_images.shape, test_labels.shape"
   ]
  },
  {
   "cell_type": "code",
   "execution_count": 9,
   "id": "f9ed8fe0",
   "metadata": {
    "execution": {
     "iopub.execute_input": "2021-12-02T20:08:40.614291Z",
     "iopub.status.busy": "2021-12-02T20:08:40.613729Z",
     "iopub.status.idle": "2021-12-02T20:08:40.744484Z",
     "shell.execute_reply": "2021-12-02T20:08:40.744079Z"
    },
    "papermill": {
     "duration": 0.160589,
     "end_time": "2021-12-02T20:08:40.744599",
     "exception": false,
     "start_time": "2021-12-02T20:08:40.584010",
     "status": "completed"
    },
    "tags": []
   },
   "outputs": [
    {
     "name": "stdout",
     "output_type": "stream",
     "text": [
      "2\n"
     ]
    },
    {
     "data": {
      "text/plain": [
       "<matplotlib.image.AxesImage at 0x7f987004c4e0>"
      ]
     },
     "execution_count": 9,
     "metadata": {},
     "output_type": "execute_result"
    },
    {
     "data": {
      "image/png": "[encoded data removed]",
      "text/plain": [
       "<Figure size 432x288 with 1 Axes>"
      ]
     },
     "metadata": {
      "needs_background": "light"
     },
     "output_type": "display_data"
    }
   ],
   "source": [
    "image_index = 7776 # You may select anything up to 60,000\n",
    "print(train_labels[image_index]) \n",
    "plt.imshow(train_images[image_index], cmap='Greys')"
   ]
  },
  {
   "cell_type": "markdown",
   "id": "a8d2388d",
   "metadata": {
    "papermill": {
     "duration": 0.02403,
     "end_time": "2021-12-02T20:08:40.792465",
     "exception": false,
     "start_time": "2021-12-02T20:08:40.768435",
     "status": "completed"
    },
    "tags": []
   },
   "source": [
    "## Filter data to get 3 and 8 out"
   ]
  },
  {
   "cell_type": "code",
   "execution_count": 10,
   "id": "776f7fc7",
   "metadata": {
    "execution": {
     "iopub.execute_input": "2021-12-02T20:08:40.844666Z",
     "iopub.status.busy": "2021-12-02T20:08:40.843378Z",
     "iopub.status.idle": "2021-12-02T20:08:40.859303Z",
     "shell.execute_reply": "2021-12-02T20:08:40.858766Z"
    },
    "papermill": {
     "duration": 0.043404,
     "end_time": "2021-12-02T20:08:40.859435",
     "exception": false,
     "start_time": "2021-12-02T20:08:40.816031",
     "status": "completed"
    },
    "tags": []
   },
   "outputs": [],
   "source": [
    "train_filter = np.where((train_labels == 3 ) | (train_labels == 8))\n",
    "test_filter = np.where((test_labels == 3) | (test_labels == 8))\n",
    "X_train, y_train = train_images[train_filter], train_labels[train_filter]\n",
    "X_test, y_test = test_images[test_filter], test_labels[test_filter]"
   ]
  },
  {
   "cell_type": "markdown",
   "id": "948f0b7e",
   "metadata": {
    "papermill": {
     "duration": 0.027075,
     "end_time": "2021-12-02T20:08:40.913280",
     "exception": false,
     "start_time": "2021-12-02T20:08:40.886205",
     "status": "completed"
    },
    "tags": []
   },
   "source": [
    "We normalize the pizel values in the 0 to 1 range"
   ]
  },
  {
   "cell_type": "code",
   "execution_count": 11,
   "id": "ee4c2166",
   "metadata": {
    "execution": {
     "iopub.execute_input": "2021-12-02T20:08:40.979409Z",
     "iopub.status.busy": "2021-12-02T20:08:40.971848Z",
     "iopub.status.idle": "2021-12-02T20:08:41.020474Z",
     "shell.execute_reply": "2021-12-02T20:08:41.019556Z"
    },
    "papermill": {
     "duration": 0.080637,
     "end_time": "2021-12-02T20:08:41.020655",
     "exception": false,
     "start_time": "2021-12-02T20:08:40.940018",
     "status": "completed"
    },
    "tags": []
   },
   "outputs": [],
   "source": [
    "X_train = X_train/255.\n",
    "X_test = X_test/255."
   ]
  },
  {
   "cell_type": "markdown",
   "id": "ddcf4fab",
   "metadata": {
    "papermill": {
     "duration": 0.023805,
     "end_time": "2021-12-02T20:08:41.068426",
     "exception": false,
     "start_time": "2021-12-02T20:08:41.044621",
     "status": "completed"
    },
    "tags": []
   },
   "source": [
    "And setup the labels as 1 (when the digit is 3) and 0 (when the digit is 8)"
   ]
  },
  {
   "cell_type": "code",
   "execution_count": 12,
   "id": "7dc908f2",
   "metadata": {
    "execution": {
     "iopub.execute_input": "2021-12-02T20:08:41.119312Z",
     "iopub.status.busy": "2021-12-02T20:08:41.118304Z",
     "iopub.status.idle": "2021-12-02T20:08:41.130976Z",
     "shell.execute_reply": "2021-12-02T20:08:41.130530Z"
    },
    "papermill": {
     "duration": 0.039334,
     "end_time": "2021-12-02T20:08:41.131096",
     "exception": false,
     "start_time": "2021-12-02T20:08:41.091762",
     "status": "completed"
    },
    "tags": []
   },
   "outputs": [],
   "source": [
    "y_train = 1*(y_train==3)\n",
    "y_test = 1*(y_test==3)"
   ]
  },
  {
   "cell_type": "code",
   "execution_count": 13,
   "id": "01e4e969",
   "metadata": {
    "execution": {
     "iopub.execute_input": "2021-12-02T20:08:41.186267Z",
     "iopub.status.busy": "2021-12-02T20:08:41.185761Z",
     "iopub.status.idle": "2021-12-02T20:08:41.197165Z",
     "shell.execute_reply": "2021-12-02T20:08:41.196772Z"
    },
    "papermill": {
     "duration": 0.042565,
     "end_time": "2021-12-02T20:08:41.197278",
     "exception": false,
     "start_time": "2021-12-02T20:08:41.154713",
     "status": "completed"
    },
    "tags": []
   },
   "outputs": [
    {
     "data": {
      "text/plain": [
       "((11982, 28, 28), (1984, 28, 28))"
      ]
     },
     "execution_count": 13,
     "metadata": {},
     "output_type": "execute_result"
    }
   ],
   "source": [
    "X_train.shape, X_test.shape"
   ]
  },
  {
   "cell_type": "markdown",
   "id": "5ccf3f85",
   "metadata": {
    "papermill": {
     "duration": 0.023628,
     "end_time": "2021-12-02T20:08:41.244751",
     "exception": false,
     "start_time": "2021-12-02T20:08:41.221123",
     "status": "completed"
    },
    "tags": []
   },
   "source": [
    "We reshape the data to flatten the image pixels into a set of features or co-variates:"
   ]
  },
  {
   "cell_type": "code",
   "execution_count": 14,
   "id": "5286a4a3",
   "metadata": {
    "execution": {
     "iopub.execute_input": "2021-12-02T20:08:41.297039Z",
     "iopub.status.busy": "2021-12-02T20:08:41.296545Z",
     "iopub.status.idle": "2021-12-02T20:08:41.310365Z",
     "shell.execute_reply": "2021-12-02T20:08:41.310843Z"
    },
    "papermill": {
     "duration": 0.042357,
     "end_time": "2021-12-02T20:08:41.310978",
     "exception": false,
     "start_time": "2021-12-02T20:08:41.268621",
     "status": "completed"
    },
    "tags": []
   },
   "outputs": [
    {
     "data": {
      "text/plain": [
       "((11982, 784), (1984, 784))"
      ]
     },
     "execution_count": 14,
     "metadata": {},
     "output_type": "execute_result"
    }
   ],
   "source": [
    "X_train = X_train.reshape(X_train.shape[0], -1)\n",
    "X_test = X_test.reshape(X_test.shape[0], -1)\n",
    "X_train.shape, X_test.shape"
   ]
  },
  {
   "cell_type": "code",
   "execution_count": 15,
   "id": "73c5f88a",
   "metadata": {
    "execution": {
     "iopub.execute_input": "2021-12-02T20:08:41.364572Z",
     "iopub.status.busy": "2021-12-02T20:08:41.364077Z",
     "iopub.status.idle": "2021-12-02T20:08:41.382734Z",
     "shell.execute_reply": "2021-12-02T20:08:41.383101Z"
    },
    "papermill": {
     "duration": 0.048226,
     "end_time": "2021-12-02T20:08:41.383245",
     "exception": false,
     "start_time": "2021-12-02T20:08:41.335019",
     "status": "completed"
    },
    "tags": []
   },
   "outputs": [],
   "source": [
    "#Impoting functions from 'Kudzu'\n",
    "from kudzu.model import Model\n",
    "from kudzu.train import Learner\n",
    "from kudzu.optim import GD\n",
    "from kudzu.data import Data, Sampler,Dataloader\n",
    "\n",
    "from kudzu.callbacks import AccCallback\n",
    "from kudzu.callbacks import ClfCallback\n",
    "\n",
    "from kudzu.loss import MSE\n",
    "\n",
    "from kudzu.layer import Sigmoid,Relu\n",
    "from kudzu.layer import Affine"
   ]
  },
  {
   "cell_type": "markdown",
   "id": "bc01172a",
   "metadata": {
    "papermill": {
     "duration": 0.023864,
     "end_time": "2021-12-02T20:08:41.431271",
     "exception": false,
     "start_time": "2021-12-02T20:08:41.407407",
     "status": "completed"
    },
    "tags": []
   },
   "source": [
    "### Let us create a `Config` class, to store important parameters. \n",
    "This class essentially plays the role of a dictionary."
   ]
  },
  {
   "cell_type": "code",
   "execution_count": 16,
   "id": "978281aa",
   "metadata": {
    "execution": {
     "iopub.execute_input": "2021-12-02T20:08:41.483396Z",
     "iopub.status.busy": "2021-12-02T20:08:41.482860Z",
     "iopub.status.idle": "2021-12-02T20:08:41.495384Z",
     "shell.execute_reply": "2021-12-02T20:08:41.495766Z"
    },
    "papermill": {
     "duration": 0.040727,
     "end_time": "2021-12-02T20:08:41.495901",
     "exception": false,
     "start_time": "2021-12-02T20:08:41.455174",
     "status": "completed"
    },
    "tags": []
   },
   "outputs": [],
   "source": [
    "class Config:\n",
    "    pass\n",
    "config = Config()\n",
    "config.lr = 0.001\n",
    "config.num_epochs = 250\n",
    "config.bs = 50"
   ]
  },
  {
   "cell_type": "markdown",
   "id": "1385fa59",
   "metadata": {
    "papermill": {
     "duration": 0.023916,
     "end_time": "2021-12-02T20:08:41.543892",
     "exception": false,
     "start_time": "2021-12-02T20:08:41.519976",
     "status": "completed"
    },
    "tags": []
   },
   "source": [
    "### Running Models with the Training data\n",
    "Details about the network layers:\n",
    "- A first affine layer has 784 inputs and does 100 affine transforms. These are followed by a Relu\n",
    "- A second affine layer has 100 inputs from the 100 activations of the past layer, and does 100 affine transforms. These are followed by a Relu\n",
    "- A third affine layer has 100 activations and does 2 affine transformations to create an embedding for visualization. There is no non-linearity here.\n",
    "- A final \"logistic regression\" which has an affine transform from 2 inputs to 1 output, which is squeezed through a sigmoid.\n"
   ]
  },
  {
   "cell_type": "code",
   "execution_count": 17,
   "id": "2b9c66db",
   "metadata": {
    "execution": {
     "iopub.execute_input": "2021-12-02T20:08:41.596129Z",
     "iopub.status.busy": "2021-12-02T20:08:41.595625Z",
     "iopub.status.idle": "2021-12-02T20:08:41.608814Z",
     "shell.execute_reply": "2021-12-02T20:08:41.608319Z"
    },
    "papermill": {
     "duration": 0.041048,
     "end_time": "2021-12-02T20:08:41.608925",
     "exception": false,
     "start_time": "2021-12-02T20:08:41.567877",
     "status": "completed"
    },
    "tags": []
   },
   "outputs": [],
   "source": [
    "data = Data(X_train, y_train.reshape(-1,1))\n",
    "sampler = Sampler(data, config.bs, shuffle=True)\n",
    "\n",
    "dl = Dataloader(data, sampler)\n",
    "\n",
    "opt = GD(config.lr)\n",
    "loss = MSE()"
   ]
  },
  {
   "cell_type": "code",
   "execution_count": 18,
   "id": "b275e4c2",
   "metadata": {
    "execution": {
     "iopub.execute_input": "2021-12-02T20:08:41.661735Z",
     "iopub.status.busy": "2021-12-02T20:08:41.660557Z",
     "iopub.status.idle": "2021-12-02T20:08:41.672395Z",
     "shell.execute_reply": "2021-12-02T20:08:41.671896Z"
    },
    "papermill": {
     "duration": 0.039466,
     "end_time": "2021-12-02T20:08:41.672520",
     "exception": false,
     "start_time": "2021-12-02T20:08:41.633054",
     "status": "completed"
    },
    "tags": []
   },
   "outputs": [],
   "source": [
    "training_data_x = X_train\n",
    "testing_data_x = X_test\n",
    "training_data_y = y_train.reshape(-1,1)\n",
    "testing_data_y = y_test.reshape(-1,1)"
   ]
  },
  {
   "cell_type": "code",
   "execution_count": 19,
   "id": "76951160",
   "metadata": {
    "execution": {
     "iopub.execute_input": "2021-12-02T20:08:41.731987Z",
     "iopub.status.busy": "2021-12-02T20:08:41.731434Z",
     "iopub.status.idle": "2021-12-02T20:08:41.747488Z",
     "shell.execute_reply": "2021-12-02T20:08:41.747912Z"
    },
    "papermill": {
     "duration": 0.048384,
     "end_time": "2021-12-02T20:08:41.748059",
     "exception": false,
     "start_time": "2021-12-02T20:08:41.699675",
     "status": "completed"
    },
    "tags": []
   },
   "outputs": [
    {
     "name": "stdout",
     "output_type": "stream",
     "text": [
      "xavier\n",
      "xavier\n",
      "xavier\n",
      "xavier\n",
      "xavier\n"
     ]
    }
   ],
   "source": [
    "layers = [Affine(\"first\", 784, 100), Relu(\"first\"), Affine(\"second\", 100, 100), Relu(\"second\"), Affine(\"third\", 100, 2), Affine(\"last\", 2, 1), Sigmoid(\"last\")]\n",
    "model_nn = Model(layers)\n",
    "model_lr = Model([Affine(\"logits\", 784, 1), Sigmoid(\"sigmoid\")])"
   ]
  },
  {
   "cell_type": "code",
   "execution_count": 20,
   "id": "6eede77a",
   "metadata": {
    "execution": {
     "iopub.execute_input": "2021-12-02T20:08:41.807975Z",
     "iopub.status.busy": "2021-12-02T20:08:41.807433Z",
     "iopub.status.idle": "2021-12-02T20:08:41.819356Z",
     "shell.execute_reply": "2021-12-02T20:08:41.818899Z"
    },
    "papermill": {
     "duration": 0.043768,
     "end_time": "2021-12-02T20:08:41.819489",
     "exception": false,
     "start_time": "2021-12-02T20:08:41.775721",
     "status": "completed"
    },
    "tags": []
   },
   "outputs": [],
   "source": [
    "nn_learner = Learner(loss, model_nn, opt, config.num_epochs)\n",
    "acc_nn = ClfCallback(nn_learner, config.bs, training_data_x , testing_data_x, training_data_y, testing_data_y)\n",
    "nn_learner.set_callbacks([acc_nn])"
   ]
  },
  {
   "cell_type": "code",
   "execution_count": 21,
   "id": "877b6cc7",
   "metadata": {
    "execution": {
     "iopub.execute_input": "2021-12-02T20:08:41.879082Z",
     "iopub.status.busy": "2021-12-02T20:08:41.878508Z",
     "iopub.status.idle": "2021-12-02T20:08:41.891060Z",
     "shell.execute_reply": "2021-12-02T20:08:41.890605Z"
    },
    "papermill": {
     "duration": 0.044135,
     "end_time": "2021-12-02T20:08:41.891193",
     "exception": false,
     "start_time": "2021-12-02T20:08:41.847058",
     "status": "completed"
    },
    "tags": []
   },
   "outputs": [],
   "source": [
    "lr_learner = Learner(loss, model_lr, opt, config.num_epochs)\n",
    "acc_lr = ClfCallback(lr_learner, config.bs, training_data_x , testing_data_x, training_data_y, testing_data_y)\n",
    "lr_learner.set_callbacks([acc_lr])"
   ]
  },
  {
   "cell_type": "code",
   "execution_count": 22,
   "id": "d9b133c3",
   "metadata": {
    "execution": {
     "iopub.execute_input": "2021-12-02T20:08:41.952575Z",
     "iopub.status.busy": "2021-12-02T20:08:41.952029Z",
     "iopub.status.idle": "2021-12-02T20:10:00.644761Z",
     "shell.execute_reply": "2021-12-02T20:10:00.645522Z"
    },
    "papermill": {
     "duration": 78.726753,
     "end_time": "2021-12-02T20:10:00.645687",
     "exception": false,
     "start_time": "2021-12-02T20:08:41.918934",
     "status": "completed"
    },
    "tags": []
   },
   "outputs": [
    {
     "name": "stdout",
     "output_type": "stream",
     "text": [
      "Epoch 0, Loss 0.2397\n",
      "Training Accuracy: 0.7644, Testing Accuracy: 0.7787\n",
      "\n"
     ]
    },
    {
     "name": "stdout",
     "output_type": "stream",
     "text": [
      "Epoch 10, Loss 0.0581\n",
      "Training Accuracy: 0.9398, Testing Accuracy: 0.9501\n",
      "\n"
     ]
    },
    {
     "name": "stdout",
     "output_type": "stream",
     "text": [
      "Epoch 20, Loss 0.0404\n",
      "Training Accuracy: 0.9558, Testing Accuracy: 0.9632\n",
      "\n"
     ]
    },
    {
     "name": "stdout",
     "output_type": "stream",
     "text": [
      "Epoch 30, Loss 0.0339\n",
      "Training Accuracy: 0.9608, Testing Accuracy: 0.9708\n",
      "\n"
     ]
    },
    {
     "name": "stdout",
     "output_type": "stream",
     "text": [
      "Epoch 40, Loss 0.0301\n",
      "Training Accuracy: 0.9656, Testing Accuracy: 0.9713\n",
      "\n"
     ]
    },
    {
     "name": "stdout",
     "output_type": "stream",
     "text": [
      "Epoch 50, Loss 0.0276\n",
      "Training Accuracy: 0.9679, Testing Accuracy: 0.9718\n",
      "\n"
     ]
    },
    {
     "name": "stdout",
     "output_type": "stream",
     "text": [
      "Epoch 60, Loss 0.0257\n",
      "Training Accuracy: 0.9699, Testing Accuracy: 0.9743\n",
      "\n"
     ]
    },
    {
     "name": "stdout",
     "output_type": "stream",
     "text": [
      "Epoch 70, Loss 0.0243\n",
      "Training Accuracy: 0.9718, Testing Accuracy: 0.9753\n",
      "\n"
     ]
    },
    {
     "name": "stdout",
     "output_type": "stream",
     "text": [
      "Epoch 80, Loss 0.023\n",
      "Training Accuracy: 0.9737, Testing Accuracy: 0.9748\n",
      "\n"
     ]
    },
    {
     "name": "stdout",
     "output_type": "stream",
     "text": [
      "Epoch 90, Loss 0.022\n",
      "Training Accuracy: 0.9750, Testing Accuracy: 0.9748\n",
      "\n"
     ]
    },
    {
     "name": "stdout",
     "output_type": "stream",
     "text": [
      "Epoch 100, Loss 0.021\n",
      "Training Accuracy: 0.9764, Testing Accuracy: 0.9753\n",
      "\n"
     ]
    },
    {
     "name": "stdout",
     "output_type": "stream",
     "text": [
      "Epoch 110, Loss 0.0202\n",
      "Training Accuracy: 0.9771, Testing Accuracy: 0.9758\n",
      "\n"
     ]
    },
    {
     "name": "stdout",
     "output_type": "stream",
     "text": [
      "Epoch 120, Loss 0.0195\n",
      "Training Accuracy: 0.9775, Testing Accuracy: 0.9763\n",
      "\n"
     ]
    },
    {
     "name": "stdout",
     "output_type": "stream",
     "text": [
      "Epoch 130, Loss 0.0188\n",
      "Training Accuracy: 0.9785, Testing Accuracy: 0.9763\n",
      "\n"
     ]
    },
    {
     "name": "stdout",
     "output_type": "stream",
     "text": [
      "Epoch 140, Loss 0.0181\n",
      "Training Accuracy: 0.9798, Testing Accuracy: 0.9763\n",
      "\n"
     ]
    },
    {
     "name": "stdout",
     "output_type": "stream",
     "text": [
      "Epoch 150, Loss 0.0175\n",
      "Training Accuracy: 0.9806, Testing Accuracy: 0.9768\n",
      "\n"
     ]
    },
    {
     "name": "stdout",
     "output_type": "stream",
     "text": [
      "Epoch 160, Loss 0.0169\n",
      "Training Accuracy: 0.9813, Testing Accuracy: 0.9768\n",
      "\n"
     ]
    },
    {
     "name": "stdout",
     "output_type": "stream",
     "text": [
      "Epoch 170, Loss 0.0164\n",
      "Training Accuracy: 0.9818, Testing Accuracy: 0.9768\n",
      "\n"
     ]
    },
    {
     "name": "stdout",
     "output_type": "stream",
     "text": [
      "Epoch 180, Loss 0.0159\n",
      "Training Accuracy: 0.9826, Testing Accuracy: 0.9773\n",
      "\n"
     ]
    },
    {
     "name": "stdout",
     "output_type": "stream",
     "text": [
      "Epoch 190, Loss 0.0154\n",
      "Training Accuracy: 0.9830, Testing Accuracy: 0.9783\n",
      "\n"
     ]
    },
    {
     "name": "stdout",
     "output_type": "stream",
     "text": [
      "Epoch 200, Loss 0.0149\n",
      "Training Accuracy: 0.9834, Testing Accuracy: 0.9783\n",
      "\n"
     ]
    },
    {
     "name": "stdout",
     "output_type": "stream",
     "text": [
      "Epoch 210, Loss 0.0145\n",
      "Training Accuracy: 0.9846, Testing Accuracy: 0.9783\n",
      "\n"
     ]
    },
    {
     "name": "stdout",
     "output_type": "stream",
     "text": [
      "Epoch 220, Loss 0.014\n",
      "Training Accuracy: 0.9851, Testing Accuracy: 0.9783\n",
      "\n"
     ]
    },
    {
     "name": "stdout",
     "output_type": "stream",
     "text": [
      "Epoch 230, Loss 0.0136\n",
      "Training Accuracy: 0.9857, Testing Accuracy: 0.9788\n",
      "\n"
     ]
    },
    {
     "name": "stdout",
     "output_type": "stream",
     "text": [
      "Epoch 240, Loss 0.0132\n",
      "Training Accuracy: 0.9864, Testing Accuracy: 0.9788\n",
      "\n"
     ]
    },
    {
     "data": {
      "text/plain": [
       "0.005666665632555623"
      ]
     },
     "execution_count": 22,
     "metadata": {},
     "output_type": "execute_result"
    }
   ],
   "source": [
    "nn_learner.train_loop(dl)"
   ]
  },
  {
   "cell_type": "code",
   "execution_count": 23,
   "id": "e0163366",
   "metadata": {
    "execution": {
     "iopub.execute_input": "2021-12-02T20:10:00.724266Z",
     "iopub.status.busy": "2021-12-02T20:10:00.723740Z",
     "iopub.status.idle": "2021-12-02T20:10:14.725553Z",
     "shell.execute_reply": "2021-12-02T20:10:14.726295Z"
    },
    "papermill": {
     "duration": 14.046393,
     "end_time": "2021-12-02T20:10:14.726448",
     "exception": false,
     "start_time": "2021-12-02T20:10:00.680055",
     "status": "completed"
    },
    "tags": []
   },
   "outputs": [
    {
     "name": "stdout",
     "output_type": "stream",
     "text": [
      "Epoch 0, Loss 0.2282\n",
      "Training Accuracy: 0.7343, Testing Accuracy: 0.7324\n",
      "\n"
     ]
    },
    {
     "name": "stdout",
     "output_type": "stream",
     "text": [
      "Epoch 10, Loss 0.1029\n",
      "Training Accuracy: 0.9050, Testing Accuracy: 0.9194\n",
      "\n"
     ]
    },
    {
     "name": "stdout",
     "output_type": "stream",
     "text": [
      "Epoch 20, Loss 0.0797\n",
      "Training Accuracy: 0.9271, Testing Accuracy: 0.9340\n",
      "\n"
     ]
    },
    {
     "name": "stdout",
     "output_type": "stream",
     "text": [
      "Epoch 30, Loss 0.0688\n",
      "Training Accuracy: 0.9352, Testing Accuracy: 0.9441\n",
      "\n"
     ]
    },
    {
     "name": "stdout",
     "output_type": "stream",
     "text": [
      "Epoch 40, Loss 0.0622\n",
      "Training Accuracy: 0.9401, Testing Accuracy: 0.9491\n",
      "\n"
     ]
    },
    {
     "name": "stdout",
     "output_type": "stream",
     "text": [
      "Epoch 50, Loss 0.0577\n",
      "Training Accuracy: 0.9432, Testing Accuracy: 0.9531\n",
      "\n"
     ]
    },
    {
     "name": "stdout",
     "output_type": "stream",
     "text": [
      "Epoch 60, Loss 0.0543\n",
      "Training Accuracy: 0.9459, Testing Accuracy: 0.9556\n",
      "\n"
     ]
    },
    {
     "name": "stdout",
     "output_type": "stream",
     "text": [
      "Epoch 70, Loss 0.0517\n",
      "Training Accuracy: 0.9481, Testing Accuracy: 0.9587\n",
      "\n"
     ]
    },
    {
     "name": "stdout",
     "output_type": "stream",
     "text": [
      "Epoch 80, Loss 0.0496\n",
      "Training Accuracy: 0.9501, Testing Accuracy: 0.9602\n",
      "\n"
     ]
    },
    {
     "name": "stdout",
     "output_type": "stream",
     "text": [
      "Epoch 90, Loss 0.0479\n",
      "Training Accuracy: 0.9511, Testing Accuracy: 0.9612\n",
      "\n"
     ]
    },
    {
     "name": "stdout",
     "output_type": "stream",
     "text": [
      "Epoch 100, Loss 0.0465\n",
      "Training Accuracy: 0.9522, Testing Accuracy: 0.9622\n",
      "\n"
     ]
    },
    {
     "name": "stdout",
     "output_type": "stream",
     "text": [
      "Epoch 110, Loss 0.0452\n",
      "Training Accuracy: 0.9531, Testing Accuracy: 0.9622\n",
      "\n"
     ]
    },
    {
     "name": "stdout",
     "output_type": "stream",
     "text": [
      "Epoch 120, Loss 0.0441\n",
      "Training Accuracy: 0.9546, Testing Accuracy: 0.9627\n",
      "\n"
     ]
    },
    {
     "name": "stdout",
     "output_type": "stream",
     "text": [
      "Epoch 130, Loss 0.0432\n",
      "Training Accuracy: 0.9554, Testing Accuracy: 0.9627\n",
      "\n"
     ]
    },
    {
     "name": "stdout",
     "output_type": "stream",
     "text": [
      "Epoch 140, Loss 0.0423\n",
      "Training Accuracy: 0.9559, Testing Accuracy: 0.9632\n",
      "\n"
     ]
    },
    {
     "name": "stdout",
     "output_type": "stream",
     "text": [
      "Epoch 150, Loss 0.0416\n",
      "Training Accuracy: 0.9564, Testing Accuracy: 0.9637\n",
      "\n"
     ]
    },
    {
     "name": "stdout",
     "output_type": "stream",
     "text": [
      "Epoch 160, Loss 0.0409\n",
      "Training Accuracy: 0.9572, Testing Accuracy: 0.9637\n",
      "\n"
     ]
    },
    {
     "name": "stdout",
     "output_type": "stream",
     "text": [
      "Epoch 170, Loss 0.0402\n",
      "Training Accuracy: 0.9577, Testing Accuracy: 0.9637\n",
      "\n"
     ]
    },
    {
     "name": "stdout",
     "output_type": "stream",
     "text": [
      "Epoch 180, Loss 0.0397\n",
      "Training Accuracy: 0.9583, Testing Accuracy: 0.9647\n",
      "\n"
     ]
    },
    {
     "name": "stdout",
     "output_type": "stream",
     "text": [
      "Epoch 190, Loss 0.0391\n",
      "Training Accuracy: 0.9592, Testing Accuracy: 0.9652\n",
      "\n"
     ]
    },
    {
     "name": "stdout",
     "output_type": "stream",
     "text": [
      "Epoch 200, Loss 0.0387\n",
      "Training Accuracy: 0.9597, Testing Accuracy: 0.9662\n",
      "\n"
     ]
    },
    {
     "name": "stdout",
     "output_type": "stream",
     "text": [
      "Epoch 210, Loss 0.0382\n",
      "Training Accuracy: 0.9601, Testing Accuracy: 0.9662\n",
      "\n"
     ]
    },
    {
     "name": "stdout",
     "output_type": "stream",
     "text": [
      "Epoch 220, Loss 0.0378\n",
      "Training Accuracy: 0.9604, Testing Accuracy: 0.9662\n",
      "\n"
     ]
    },
    {
     "name": "stdout",
     "output_type": "stream",
     "text": [
      "Epoch 230, Loss 0.0374\n",
      "Training Accuracy: 0.9606, Testing Accuracy: 0.9662\n",
      "\n"
     ]
    },
    {
     "name": "stdout",
     "output_type": "stream",
     "text": [
      "Epoch 240, Loss 0.037\n",
      "Training Accuracy: 0.9611, Testing Accuracy: 0.9667\n",
      "\n"
     ]
    },
    {
     "data": {
      "text/plain": [
       "0.06008356606244629"
      ]
     },
     "execution_count": 23,
     "metadata": {},
     "output_type": "execute_result"
    }
   ],
   "source": [
    "lr_learner.train_loop(dl)"
   ]
  },
  {
   "cell_type": "code",
   "execution_count": 24,
   "id": "ca410940",
   "metadata": {
    "execution": {
     "iopub.execute_input": "2021-12-02T20:10:14.824095Z",
     "iopub.status.busy": "2021-12-02T20:10:14.823554Z",
     "iopub.status.idle": "2021-12-02T20:10:15.041322Z",
     "shell.execute_reply": "2021-12-02T20:10:15.041740Z"
    },
    "papermill": {
     "duration": 0.273493,
     "end_time": "2021-12-02T20:10:15.041886",
     "exception": false,
     "start_time": "2021-12-02T20:10:14.768393",
     "status": "completed"
    },
    "tags": []
   },
   "outputs": [
    {
     "data": {
      "text/plain": [
       "<matplotlib.legend.Legend at 0x7f986289dbe0>"
      ]
     },
     "execution_count": 24,
     "metadata": {},
     "output_type": "execute_result"
    },
    {
     "data": {
      "image/png": "[encoded data removed]",
      "text/plain": [
       "<Figure size 1080x720 with 1 Axes>"
      ]
     },
     "metadata": {
      "needs_background": "light"
     },
     "output_type": "display_data"
    }
   ],
   "source": [
    "#comparing the results of NN and LR\n",
    "plt.figure(figsize=(15,10))\n",
    "\n",
    "# Neural Network plots\n",
    "plt.plot(acc_nn.accuracies, 'r-', label = \"Training Accuracies - NN\")\n",
    "plt.plot(acc_nn.test_accuracies, 'g-', label = \"Testing Accuracies - NN\")\n",
    "\n",
    "# Logistic Regression plots\n",
    "plt.plot(acc_lr.accuracies, 'k-', label = \"Training Accuracies - LR\")\n",
    "plt.plot(acc_lr.test_accuracies, 'b-', label = \"Testing Accuracies - LR\")\n",
    "plt.legend()"
   ]
  },
  {
   "cell_type": "markdown",
   "id": "80dfb35c",
   "metadata": {
    "papermill": {
     "duration": 0.044614,
     "end_time": "2021-12-02T20:10:15.128518",
     "exception": false,
     "start_time": "2021-12-02T20:10:15.083904",
     "status": "completed"
    },
    "tags": []
   },
   "source": [
    "#### Plotting the outputs of this layer of the NN.\n"
   ]
  },
  {
   "cell_type": "code",
   "execution_count": 25,
   "id": "45eb2ff5",
   "metadata": {
    "execution": {
     "iopub.execute_input": "2021-12-02T20:10:15.217557Z",
     "iopub.status.busy": "2021-12-02T20:10:15.217032Z",
     "iopub.status.idle": "2021-12-02T20:10:15.236489Z",
     "shell.execute_reply": "2021-12-02T20:10:15.236022Z"
    },
    "papermill": {
     "duration": 0.066327,
     "end_time": "2021-12-02T20:10:15.236607",
     "exception": false,
     "start_time": "2021-12-02T20:10:15.170280",
     "status": "completed"
    },
    "tags": []
   },
   "outputs": [],
   "source": [
    "new_model = Model(layers[:-2])\n",
    "testing_plot = new_model(testing_data_x)"
   ]
  },
  {
   "cell_type": "code",
   "execution_count": 26,
   "id": "4c0a5485",
   "metadata": {
    "execution": {
     "iopub.execute_input": "2021-12-02T20:10:15.327213Z",
     "iopub.status.busy": "2021-12-02T20:10:15.326663Z",
     "iopub.status.idle": "2021-12-02T20:10:15.509048Z",
     "shell.execute_reply": "2021-12-02T20:10:15.509404Z"
    },
    "papermill": {
     "duration": 0.228651,
     "end_time": "2021-12-02T20:10:15.509540",
     "exception": false,
     "start_time": "2021-12-02T20:10:15.280889",
     "status": "completed"
    },
    "tags": []
   },
   "outputs": [
    {
     "data": {
      "text/plain": [
       "Text(0.5, 1.0, 'Outputs')"
      ]
     },
     "execution_count": 26,
     "metadata": {},
     "output_type": "execute_result"
    },
    {
     "data": {
      "image/png": "[encoded data removed]",
      "text/plain": [
       "<Figure size 576x504 with 1 Axes>"
      ]
     },
     "metadata": {
      "needs_background": "light"
     },
     "output_type": "display_data"
    }
   ],
   "source": [
    "# Plotting the scatter plot of points and color coding by class\n",
    "plt.figure(figsize=(8,7))\n",
    "plt.scatter(testing_plot[:,0], testing_plot[:,1], alpha = 0.1, c = y_test.ravel());\n",
    "plt.title('Outputs')"
   ]
  },
  {
   "cell_type": "markdown",
   "id": "a74fcf8f",
   "metadata": {
    "papermill": {
     "duration": 0.038791,
     "end_time": "2021-12-02T20:10:15.587320",
     "exception": false,
     "start_time": "2021-12-02T20:10:15.548529",
     "status": "completed"
    },
    "tags": []
   },
   "source": [
    "Probability contours"
   ]
  },
  {
   "cell_type": "code",
   "execution_count": 27,
   "id": "d0afc8e3",
   "metadata": {
    "execution": {
     "iopub.execute_input": "2021-12-02T20:10:15.674116Z",
     "iopub.status.busy": "2021-12-02T20:10:15.673553Z",
     "iopub.status.idle": "2021-12-02T20:10:15.684097Z",
     "shell.execute_reply": "2021-12-02T20:10:15.683657Z"
    },
    "papermill": {
     "duration": 0.058051,
     "end_time": "2021-12-02T20:10:15.684218",
     "exception": false,
     "start_time": "2021-12-02T20:10:15.626167",
     "status": "completed"
    },
    "tags": []
   },
   "outputs": [],
   "source": [
    "model_prob = Model(layers[-2:]) "
   ]
  },
  {
   "cell_type": "code",
   "execution_count": 28,
   "id": "9b96e238",
   "metadata": {
    "execution": {
     "iopub.execute_input": "2021-12-02T20:10:15.780133Z",
     "iopub.status.busy": "2021-12-02T20:10:15.778941Z",
     "iopub.status.idle": "2021-12-02T20:10:15.792127Z",
     "shell.execute_reply": "2021-12-02T20:10:15.792508Z"
    },
    "papermill": {
     "duration": 0.063676,
     "end_time": "2021-12-02T20:10:15.792642",
     "exception": false,
     "start_time": "2021-12-02T20:10:15.728966",
     "status": "completed"
    },
    "tags": []
   },
   "outputs": [],
   "source": [
    "#creating the x and y ranges according to the above generated plot.\n",
    "x_range = np.linspace(-4, 1, 100) \n",
    "y_range = np.linspace(-6, 6, 100) \n",
    "x_grid, y_grid = np.meshgrid(x_range, y_range) # x_grid and y_grig are of size 100 X 100\n",
    "\n",
    "# converting x_grid and y_grid to continuous arrays\n",
    "x_gridflat = np.ravel(x_grid)\n",
    "y_gridflat = np.ravel(y_grid)\n",
    "\n",
    "# The last layer of the current model takes two columns as input. Hence transpose of np.vstack() is required.\n",
    "X = np.vstack((x_gridflat, y_gridflat)).T\n",
    "\n",
    "prob_contour = model_prob(X).reshape(100,100) "
   ]
  },
  {
   "cell_type": "code",
   "execution_count": 29,
   "id": "da72499a",
   "metadata": {
    "execution": {
     "iopub.execute_input": "2021-12-02T20:10:15.918969Z",
     "iopub.status.busy": "2021-12-02T20:10:15.918412Z",
     "iopub.status.idle": "2021-12-02T20:10:16.132057Z",
     "shell.execute_reply": "2021-12-02T20:10:16.131623Z"
    },
    "papermill": {
     "duration": 0.295015,
     "end_time": "2021-12-02T20:10:16.132181",
     "exception": false,
     "start_time": "2021-12-02T20:10:15.837166",
     "status": "completed"
    },
    "tags": []
   },
   "outputs": [
    {
     "data": {
      "image/png": "[encoded data removed]",
      "text/plain": [
       "<Figure size 720x648 with 1 Axes>"
      ]
     },
     "metadata": {
      "needs_background": "light"
     },
     "output_type": "display_data"
    }
   ],
   "source": [
    "plt.figure(figsize=(10,9))\n",
    "plt.scatter(testing_plot[:,0], testing_plot[:,1], alpha = 0.1, c = y_test.ravel())\n",
    "contours = plt.contour(x_grid,y_grid,prob_contour)\n",
    "plt.title('Probability Contours')\n",
    "plt.clabel(contours, inline = True );"
   ]
  },
  {
   "cell_type": "code",
   "execution_count": null,
   "id": "e81b4ac7",
   "metadata": {
    "papermill": {
     "duration": 0.046504,
     "end_time": "2021-12-02T20:10:16.225745",
     "exception": false,
     "start_time": "2021-12-02T20:10:16.179241",
     "status": "completed"
    },
    "tags": []
   },
   "outputs": [],
   "source": []
  }
 ],
 "metadata": {
  "kernelspec": {
   "display_name": "Python 3",
   "language": "python",
   "name": "python3"
  },
  "language_info": {
   "codemirror_mode": {
    "name": "ipython",
    "version": 3
   },
   "file_extension": ".py",
   "mimetype": "text/x-python",
   "name": "python",
   "nbconvert_exporter": "python",
   "pygments_lexer": "ipython3",
   "version": "3.6.15"
  },
  "papermill": {
   "default_parameters": {},
   "duration": 101.320497,
   "end_time": "2021-12-02T20:10:16.681070",
   "environment_variables": {},
   "exception": null,
   "input_path": "2020-08-11-part2.ipynb",
   "output_path": "2020-08-11-part2.ipynb",
   "parameters": {},
   "start_time": "2021-12-02T20:08:35.360573",
   "version": "2.3.3"
  }
 },
 "nbformat": 4,
 "nbformat_minor": 5
}