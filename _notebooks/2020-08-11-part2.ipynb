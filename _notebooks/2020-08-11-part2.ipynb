{
 "cells": [
  {
   "cell_type": "markdown",
   "id": "98380cd3",
   "metadata": {
    "papermill": {
     "duration": 0.038234,
     "end_time": "2022-10-13T00:55:32.013082",
     "exception": false,
     "start_time": "2022-10-13T00:55:31.974848",
     "status": "completed"
    },
    "tags": []
   },
   "source": [
    "# Distinguish Your Own Digits (DYOD)"
   ]
  },
  {
   "cell_type": "markdown",
   "id": "ef31240d",
   "metadata": {
    "papermill": {
     "duration": 0.032954,
     "end_time": "2022-10-13T00:55:32.077859",
     "exception": false,
     "start_time": "2022-10-13T00:55:32.044905",
     "status": "completed"
    },
    "tags": []
   },
   "source": [
    "You are going to write a classifier that distinguishes between the number 3 and number 8."
   ]
  },
  {
   "cell_type": "code",
   "execution_count": 1,
   "id": "b15c8646",
   "metadata": {
    "execution": {
     "iopub.execute_input": "2022-10-13T00:55:32.155822Z",
     "iopub.status.busy": "2022-10-13T00:55:32.153832Z",
     "iopub.status.idle": "2022-10-13T00:55:32.169606Z",
     "shell.execute_reply": "2022-10-13T00:55:32.168716Z"
    },
    "papermill": {
     "duration": 0.060744,
     "end_time": "2022-10-13T00:55:32.169780",
     "exception": false,
     "start_time": "2022-10-13T00:55:32.109036",
     "status": "completed"
    },
    "tags": []
   },
   "outputs": [],
   "source": [
    "%load_ext autoreload\n",
    "%autoreload 2"
   ]
  },
  {
   "cell_type": "code",
   "execution_count": 2,
   "id": "22ef38dc",
   "metadata": {
    "execution": {
     "iopub.execute_input": "2022-10-13T00:55:32.238774Z",
     "iopub.status.busy": "2022-10-13T00:55:32.238003Z",
     "iopub.status.idle": "2022-10-13T00:55:32.930807Z",
     "shell.execute_reply": "2022-10-13T00:55:32.931384Z"
    },
    "papermill": {
     "duration": 0.730901,
     "end_time": "2022-10-13T00:55:32.931567",
     "exception": false,
     "start_time": "2022-10-13T00:55:32.200666",
     "status": "completed"
    },
    "tags": []
   },
   "outputs": [],
   "source": [
    "%matplotlib inline\n",
    "import numpy as np\n",
    "import matplotlib.pyplot as plt\n",
    "import pandas as pd"
   ]
  },
  {
   "cell_type": "markdown",
   "id": "ba036198",
   "metadata": {
    "papermill": {
     "duration": 0.031476,
     "end_time": "2022-10-13T00:55:32.993674",
     "exception": false,
     "start_time": "2022-10-13T00:55:32.962198",
     "status": "completed"
    },
    "tags": []
   },
   "source": [
    "From the command line run `pip install mnist`. This is a library that will help you bring down the mnist dataset. If you run this from a notebook, you need to put  `!pip install mnist` in a cell by itself."
   ]
  },
  {
   "cell_type": "code",
   "execution_count": 3,
   "id": "bb6ad8a1",
   "metadata": {
    "execution": {
     "iopub.execute_input": "2022-10-13T00:55:33.063979Z",
     "iopub.status.busy": "2022-10-13T00:55:33.063199Z",
     "iopub.status.idle": "2022-10-13T00:55:36.035591Z",
     "shell.execute_reply": "2022-10-13T00:55:36.034892Z"
    },
    "papermill": {
     "duration": 3.01113,
     "end_time": "2022-10-13T00:55:36.035748",
     "exception": false,
     "start_time": "2022-10-13T00:55:33.024618",
     "status": "completed"
    },
    "tags": []
   },
   "outputs": [
    {
     "name": "stdout",
     "output_type": "stream",
     "text": [
      "Collecting mnist\r\n",
      "  Downloading mnist-0.2.2-py2.py3-none-any.whl (3.5 kB)\r\n"
     ]
    },
    {
     "name": "stdout",
     "output_type": "stream",
     "text": [
      "Requirement already satisfied: numpy in /opt/hostedtoolcache/Python/3.6.15/x64/lib/python3.6/site-packages (from mnist) (1.19.5)\r\n"
     ]
    },
    {
     "name": "stdout",
     "output_type": "stream",
     "text": [
      "Installing collected packages: mnist\r\n"
     ]
    },
    {
     "name": "stdout",
     "output_type": "stream",
     "text": [
      "Successfully installed mnist-0.2.2\r\n"
     ]
    }
   ],
   "source": [
    "!pip install mnist"
   ]
  },
  {
   "cell_type": "markdown",
   "id": "69df9c9a",
   "metadata": {
    "papermill": {
     "duration": 0.031687,
     "end_time": "2022-10-13T00:55:36.102021",
     "exception": false,
     "start_time": "2022-10-13T00:55:36.070334",
     "status": "completed"
    },
    "tags": []
   },
   "source": [
    "## Preparing the Data"
   ]
  },
  {
   "cell_type": "code",
   "execution_count": 4,
   "id": "7f69d806",
   "metadata": {
    "execution": {
     "iopub.execute_input": "2022-10-13T00:55:36.181917Z",
     "iopub.status.busy": "2022-10-13T00:55:36.173983Z",
     "iopub.status.idle": "2022-10-13T00:55:36.189694Z",
     "shell.execute_reply": "2022-10-13T00:55:36.189055Z"
    },
    "papermill": {
     "duration": 0.056666,
     "end_time": "2022-10-13T00:55:36.189847",
     "exception": false,
     "start_time": "2022-10-13T00:55:36.133181",
     "status": "completed"
    },
    "tags": []
   },
   "outputs": [],
   "source": [
    "import mnist"
   ]
  },
  {
   "cell_type": "code",
   "execution_count": 5,
   "id": "a411e44f",
   "metadata": {
    "execution": {
     "iopub.execute_input": "2022-10-13T00:55:36.263134Z",
     "iopub.status.busy": "2022-10-13T00:55:36.262381Z",
     "iopub.status.idle": "2022-10-13T00:55:36.885784Z",
     "shell.execute_reply": "2022-10-13T00:55:36.886357Z"
    },
    "papermill": {
     "duration": 0.663436,
     "end_time": "2022-10-13T00:55:36.886603",
     "exception": false,
     "start_time": "2022-10-13T00:55:36.223167",
     "status": "completed"
    },
    "tags": []
   },
   "outputs": [],
   "source": [
    "train_images = mnist.train_images()\n",
    "train_labels = mnist.train_labels()"
   ]
  },
  {
   "cell_type": "code",
   "execution_count": 6,
   "id": "dceab3a5",
   "metadata": {
    "execution": {
     "iopub.execute_input": "2022-10-13T00:55:36.958024Z",
     "iopub.status.busy": "2022-10-13T00:55:36.957249Z",
     "iopub.status.idle": "2022-10-13T00:55:36.976542Z",
     "shell.execute_reply": "2022-10-13T00:55:36.975883Z"
    },
    "papermill": {
     "duration": 0.056715,
     "end_time": "2022-10-13T00:55:36.976686",
     "exception": false,
     "start_time": "2022-10-13T00:55:36.919971",
     "status": "completed"
    },
    "tags": []
   },
   "outputs": [
    {
     "data": {
      "text/plain": [
       "((60000, 28, 28), (60000,))"
      ]
     },
     "execution_count": 6,
     "metadata": {},
     "output_type": "execute_result"
    }
   ],
   "source": [
    "train_images.shape, train_labels.shape"
   ]
  },
  {
   "cell_type": "code",
   "execution_count": 7,
   "id": "f50dc2bb",
   "metadata": {
    "execution": {
     "iopub.execute_input": "2022-10-13T00:55:37.056145Z",
     "iopub.status.busy": "2022-10-13T00:55:37.055374Z",
     "iopub.status.idle": "2022-10-13T00:55:37.197516Z",
     "shell.execute_reply": "2022-10-13T00:55:37.196835Z"
    },
    "papermill": {
     "duration": 0.187625,
     "end_time": "2022-10-13T00:55:37.197670",
     "exception": false,
     "start_time": "2022-10-13T00:55:37.010045",
     "status": "completed"
    },
    "tags": []
   },
   "outputs": [],
   "source": [
    "test_images = mnist.test_images()\n",
    "test_labels = mnist.test_labels()"
   ]
  },
  {
   "cell_type": "code",
   "execution_count": 8,
   "id": "fc38cf1b",
   "metadata": {
    "execution": {
     "iopub.execute_input": "2022-10-13T00:55:37.273053Z",
     "iopub.status.busy": "2022-10-13T00:55:37.272197Z",
     "iopub.status.idle": "2022-10-13T00:55:37.286828Z",
     "shell.execute_reply": "2022-10-13T00:55:37.287551Z"
    },
    "papermill": {
     "duration": 0.056924,
     "end_time": "2022-10-13T00:55:37.287725",
     "exception": false,
     "start_time": "2022-10-13T00:55:37.230801",
     "status": "completed"
    },
    "tags": []
   },
   "outputs": [
    {
     "data": {
      "text/plain": [
       "((10000, 28, 28), (10000,))"
      ]
     },
     "execution_count": 8,
     "metadata": {},
     "output_type": "execute_result"
    }
   ],
   "source": [
    "test_images.shape, test_labels.shape"
   ]
  },
  {
   "cell_type": "code",
   "execution_count": 9,
   "id": "f9ed8fe0",
   "metadata": {
    "execution": {
     "iopub.execute_input": "2022-10-13T00:55:37.359264Z",
     "iopub.status.busy": "2022-10-13T00:55:37.358512Z",
     "iopub.status.idle": "2022-10-13T00:55:37.547101Z",
     "shell.execute_reply": "2022-10-13T00:55:37.547993Z"
    },
    "papermill": {
     "duration": 0.226977,
     "end_time": "2022-10-13T00:55:37.548190",
     "exception": false,
     "start_time": "2022-10-13T00:55:37.321213",
     "status": "completed"
    },
    "tags": []
   },
   "outputs": [
    {
     "name": "stdout",
     "output_type": "stream",
     "text": [
      "2\n"
     ]
    },
    {
     "data": {
      "text/plain": [
       "<matplotlib.image.AxesImage at 0x7f635cc76d30>"
      ]
     },
     "execution_count": 9,
     "metadata": {},
     "output_type": "execute_result"
    },
    {
     "data": {
      "image/png": "[encoded data removed]",
      "text/plain": [
       "<Figure size 432x288 with 1 Axes>"
      ]
     },
     "metadata": {
      "needs_background": "light"
     },
     "output_type": "display_data"
    }
   ],
   "source": [
    "image_index = 7776 # You may select anything up to 60,000\n",
    "print(train_labels[image_index]) \n",
    "plt.imshow(train_images[image_index], cmap='Greys')"
   ]
  },
  {
   "cell_type": "markdown",
   "id": "a8d2388d",
   "metadata": {
    "papermill": {
     "duration": 0.035449,
     "end_time": "2022-10-13T00:55:37.620685",
     "exception": false,
     "start_time": "2022-10-13T00:55:37.585236",
     "status": "completed"
    },
    "tags": []
   },
   "source": [
    "## Filter data to get 3 and 8 out"
   ]
  },
  {
   "cell_type": "code",
   "execution_count": 10,
   "id": "776f7fc7",
   "metadata": {
    "execution": {
     "iopub.execute_input": "2022-10-13T00:55:37.697487Z",
     "iopub.status.busy": "2022-10-13T00:55:37.696693Z",
     "iopub.status.idle": "2022-10-13T00:55:37.720734Z",
     "shell.execute_reply": "2022-10-13T00:55:37.720005Z"
    },
    "papermill": {
     "duration": 0.064268,
     "end_time": "2022-10-13T00:55:37.720917",
     "exception": false,
     "start_time": "2022-10-13T00:55:37.656649",
     "status": "completed"
    },
    "tags": []
   },
   "outputs": [],
   "source": [
    "train_filter = np.where((train_labels == 3 ) | (train_labels == 8))\n",
    "test_filter = np.where((test_labels == 3) | (test_labels == 8))\n",
    "X_train, y_train = train_images[train_filter], train_labels[train_filter]\n",
    "X_test, y_test = test_images[test_filter], test_labels[test_filter]"
   ]
  },
  {
   "cell_type": "markdown",
   "id": "948f0b7e",
   "metadata": {
    "papermill": {
     "duration": 0.035705,
     "end_time": "2022-10-13T00:55:37.791695",
     "exception": false,
     "start_time": "2022-10-13T00:55:37.755990",
     "status": "completed"
    },
    "tags": []
   },
   "source": [
    "We normalize the pizel values in the 0 to 1 range"
   ]
  },
  {
   "cell_type": "code",
   "execution_count": 11,
   "id": "ee4c2166",
   "metadata": {
    "execution": {
     "iopub.execute_input": "2022-10-13T00:55:37.869976Z",
     "iopub.status.busy": "2022-10-13T00:55:37.869191Z",
     "iopub.status.idle": "2022-10-13T00:55:37.933637Z",
     "shell.execute_reply": "2022-10-13T00:55:37.932574Z"
    },
    "papermill": {
     "duration": 0.106854,
     "end_time": "2022-10-13T00:55:37.933793",
     "exception": false,
     "start_time": "2022-10-13T00:55:37.826939",
     "status": "completed"
    },
    "tags": []
   },
   "outputs": [],
   "source": [
    "X_train = X_train/255.\n",
    "X_test = X_test/255."
   ]
  },
  {
   "cell_type": "markdown",
   "id": "ddcf4fab",
   "metadata": {
    "papermill": {
     "duration": 0.036016,
     "end_time": "2022-10-13T00:55:38.008761",
     "exception": false,
     "start_time": "2022-10-13T00:55:37.972745",
     "status": "completed"
    },
    "tags": []
   },
   "source": [
    "And setup the labels as 1 (when the digit is 3) and 0 (when the digit is 8)"
   ]
  },
  {
   "cell_type": "code",
   "execution_count": 12,
   "id": "7dc908f2",
   "metadata": {
    "execution": {
     "iopub.execute_input": "2022-10-13T00:55:38.094163Z",
     "iopub.status.busy": "2022-10-13T00:55:38.093403Z",
     "iopub.status.idle": "2022-10-13T00:55:38.108160Z",
     "shell.execute_reply": "2022-10-13T00:55:38.107528Z"
    },
    "papermill": {
     "duration": 0.064547,
     "end_time": "2022-10-13T00:55:38.108305",
     "exception": false,
     "start_time": "2022-10-13T00:55:38.043758",
     "status": "completed"
    },
    "tags": []
   },
   "outputs": [],
   "source": [
    "y_train = 1*(y_train==3)\n",
    "y_test = 1*(y_test==3)"
   ]
  },
  {
   "cell_type": "code",
   "execution_count": 13,
   "id": "01e4e969",
   "metadata": {
    "execution": {
     "iopub.execute_input": "2022-10-13T00:55:38.185078Z",
     "iopub.status.busy": "2022-10-13T00:55:38.184271Z",
     "iopub.status.idle": "2022-10-13T00:55:38.201631Z",
     "shell.execute_reply": "2022-10-13T00:55:38.200774Z"
    },
    "papermill": {
     "duration": 0.058325,
     "end_time": "2022-10-13T00:55:38.201777",
     "exception": false,
     "start_time": "2022-10-13T00:55:38.143452",
     "status": "completed"
    },
    "tags": []
   },
   "outputs": [
    {
     "data": {
      "text/plain": [
       "((11982, 28, 28), (1984, 28, 28))"
      ]
     },
     "execution_count": 13,
     "metadata": {},
     "output_type": "execute_result"
    }
   ],
   "source": [
    "X_train.shape, X_test.shape"
   ]
  },
  {
   "cell_type": "markdown",
   "id": "5ccf3f85",
   "metadata": {
    "papermill": {
     "duration": 0.037679,
     "end_time": "2022-10-13T00:55:38.275986",
     "exception": false,
     "start_time": "2022-10-13T00:55:38.238307",
     "status": "completed"
    },
    "tags": []
   },
   "source": [
    "We reshape the data to flatten the image pixels into a set of features or co-variates:"
   ]
  },
  {
   "cell_type": "code",
   "execution_count": 14,
   "id": "5286a4a3",
   "metadata": {
    "execution": {
     "iopub.execute_input": "2022-10-13T00:55:38.354852Z",
     "iopub.status.busy": "2022-10-13T00:55:38.354071Z",
     "iopub.status.idle": "2022-10-13T00:55:38.375690Z",
     "shell.execute_reply": "2022-10-13T00:55:38.375014Z"
    },
    "papermill": {
     "duration": 0.063198,
     "end_time": "2022-10-13T00:55:38.375837",
     "exception": false,
     "start_time": "2022-10-13T00:55:38.312639",
     "status": "completed"
    },
    "tags": []
   },
   "outputs": [
    {
     "data": {
      "text/plain": [
       "((11982, 784), (1984, 784))"
      ]
     },
     "execution_count": 14,
     "metadata": {},
     "output_type": "execute_result"
    }
   ],
   "source": [
    "X_train = X_train.reshape(X_train.shape[0], -1)\n",
    "X_test = X_test.reshape(X_test.shape[0], -1)\n",
    "X_train.shape, X_test.shape"
   ]
  },
  {
   "cell_type": "code",
   "execution_count": 15,
   "id": "73c5f88a",
   "metadata": {
    "execution": {
     "iopub.execute_input": "2022-10-13T00:55:38.465614Z",
     "iopub.status.busy": "2022-10-13T00:55:38.457548Z",
     "iopub.status.idle": "2022-10-13T00:55:38.480017Z",
     "shell.execute_reply": "2022-10-13T00:55:38.480646Z"
    },
    "papermill": {
     "duration": 0.069536,
     "end_time": "2022-10-13T00:55:38.480815",
     "exception": false,
     "start_time": "2022-10-13T00:55:38.411279",
     "status": "completed"
    },
    "tags": []
   },
   "outputs": [],
   "source": [
    "#Impoting functions from 'Kudzu'\n",
    "from kudzu.model import Model\n",
    "from kudzu.train import Learner\n",
    "from kudzu.optim import GD\n",
    "from kudzu.data import Data, Sampler,Dataloader\n",
    "\n",
    "from kudzu.callbacks import AccCallback\n",
    "from kudzu.callbacks import ClfCallback\n",
    "\n",
    "from kudzu.loss import MSE\n",
    "\n",
    "from kudzu.layer import Sigmoid,Relu\n",
    "from kudzu.layer import Affine"
   ]
  },
  {
   "cell_type": "markdown",
   "id": "bc01172a",
   "metadata": {
    "papermill": {
     "duration": 0.035913,
     "end_time": "2022-10-13T00:55:38.552765",
     "exception": false,
     "start_time": "2022-10-13T00:55:38.516852",
     "status": "completed"
    },
    "tags": []
   },
   "source": [
    "### Let us create a `Config` class, to store important parameters. \n",
    "This class essentially plays the role of a dictionary."
   ]
  },
  {
   "cell_type": "code",
   "execution_count": 16,
   "id": "978281aa",
   "metadata": {
    "execution": {
     "iopub.execute_input": "2022-10-13T00:55:38.633746Z",
     "iopub.status.busy": "2022-10-13T00:55:38.631097Z",
     "iopub.status.idle": "2022-10-13T00:55:38.647093Z",
     "shell.execute_reply": "2022-10-13T00:55:38.646411Z"
    },
    "papermill": {
     "duration": 0.05876,
     "end_time": "2022-10-13T00:55:38.647246",
     "exception": false,
     "start_time": "2022-10-13T00:55:38.588486",
     "status": "completed"
    },
    "tags": []
   },
   "outputs": [],
   "source": [
    "class Config:\n",
    "    pass\n",
    "config = Config()\n",
    "config.lr = 0.001\n",
    "config.num_epochs = 250\n",
    "config.bs = 50"
   ]
  },
  {
   "cell_type": "markdown",
   "id": "1385fa59",
   "metadata": {
    "papermill": {
     "duration": 0.035824,
     "end_time": "2022-10-13T00:55:38.718403",
     "exception": false,
     "start_time": "2022-10-13T00:55:38.682579",
     "status": "completed"
    },
    "tags": []
   },
   "source": [
    "### Running Models with the Training data\n",
    "Details about the network layers:\n",
    "- A first affine layer has 784 inputs and does 100 affine transforms. These are followed by a Relu\n",
    "- A second affine layer has 100 inputs from the 100 activations of the past layer, and does 100 affine transforms. These are followed by a Relu\n",
    "- A third affine layer has 100 activations and does 2 affine transformations to create an embedding for visualization. There is no non-linearity here.\n",
    "- A final \"logistic regression\" which has an affine transform from 2 inputs to 1 output, which is squeezed through a sigmoid.\n"
   ]
  },
  {
   "cell_type": "code",
   "execution_count": 17,
   "id": "2b9c66db",
   "metadata": {
    "execution": {
     "iopub.execute_input": "2022-10-13T00:55:38.798961Z",
     "iopub.status.busy": "2022-10-13T00:55:38.798188Z",
     "iopub.status.idle": "2022-10-13T00:55:38.811564Z",
     "shell.execute_reply": "2022-10-13T00:55:38.812193Z"
    },
    "papermill": {
     "duration": 0.057902,
     "end_time": "2022-10-13T00:55:38.812446",
     "exception": false,
     "start_time": "2022-10-13T00:55:38.754544",
     "status": "completed"
    },
    "tags": []
   },
   "outputs": [],
   "source": [
    "data = Data(X_train, y_train.reshape(-1,1))\n",
    "sampler = Sampler(data, config.bs, shuffle=True)\n",
    "\n",
    "dl = Dataloader(data, sampler)\n",
    "\n",
    "opt = GD(config.lr)\n",
    "loss = MSE()"
   ]
  },
  {
   "cell_type": "code",
   "execution_count": 18,
   "id": "b275e4c2",
   "metadata": {
    "execution": {
     "iopub.execute_input": "2022-10-13T00:55:38.890416Z",
     "iopub.status.busy": "2022-10-13T00:55:38.889658Z",
     "iopub.status.idle": "2022-10-13T00:55:38.904567Z",
     "shell.execute_reply": "2022-10-13T00:55:38.903921Z"
    },
    "papermill": {
     "duration": 0.056739,
     "end_time": "2022-10-13T00:55:38.904715",
     "exception": false,
     "start_time": "2022-10-13T00:55:38.847976",
     "status": "completed"
    },
    "tags": []
   },
   "outputs": [],
   "source": [
    "training_data_x = X_train\n",
    "testing_data_x = X_test\n",
    "training_data_y = y_train.reshape(-1,1)\n",
    "testing_data_y = y_test.reshape(-1,1)"
   ]
  },
  {
   "cell_type": "code",
   "execution_count": 19,
   "id": "76951160",
   "metadata": {
    "execution": {
     "iopub.execute_input": "2022-10-13T00:55:38.983191Z",
     "iopub.status.busy": "2022-10-13T00:55:38.982411Z",
     "iopub.status.idle": "2022-10-13T00:55:39.001610Z",
     "shell.execute_reply": "2022-10-13T00:55:39.002419Z"
    },
    "papermill": {
     "duration": 0.062815,
     "end_time": "2022-10-13T00:55:39.002589",
     "exception": false,
     "start_time": "2022-10-13T00:55:38.939774",
     "status": "completed"
    },
    "tags": []
   },
   "outputs": [
    {
     "name": "stdout",
     "output_type": "stream",
     "text": [
      "xavier\n",
      "xavier\n",
      "xavier\n",
      "xavier\n",
      "xavier\n"
     ]
    }
   ],
   "source": [
    "layers = [Affine(\"first\", 784, 100), Relu(\"first\"), Affine(\"second\", 100, 100), Relu(\"second\"), Affine(\"third\", 100, 2), Affine(\"last\", 2, 1), Sigmoid(\"last\")]\n",
    "model_nn = Model(layers)\n",
    "model_lr = Model([Affine(\"logits\", 784, 1), Sigmoid(\"sigmoid\")])"
   ]
  },
  {
   "cell_type": "code",
   "execution_count": 20,
   "id": "6eede77a",
   "metadata": {
    "execution": {
     "iopub.execute_input": "2022-10-13T00:55:39.088807Z",
     "iopub.status.busy": "2022-10-13T00:55:39.084026Z",
     "iopub.status.idle": "2022-10-13T00:55:39.105333Z",
     "shell.execute_reply": "2022-10-13T00:55:39.104657Z"
    },
    "papermill": {
     "duration": 0.066518,
     "end_time": "2022-10-13T00:55:39.105517",
     "exception": false,
     "start_time": "2022-10-13T00:55:39.038999",
     "status": "completed"
    },
    "tags": []
   },
   "outputs": [],
   "source": [
    "nn_learner = Learner(loss, model_nn, opt, config.num_epochs)\n",
    "acc_nn = ClfCallback(nn_learner, config.bs, training_data_x , testing_data_x, training_data_y, testing_data_y)\n",
    "nn_learner.set_callbacks([acc_nn])"
   ]
  },
  {
   "cell_type": "code",
   "execution_count": 21,
   "id": "877b6cc7",
   "metadata": {
    "execution": {
     "iopub.execute_input": "2022-10-13T00:55:39.193681Z",
     "iopub.status.busy": "2022-10-13T00:55:39.192907Z",
     "iopub.status.idle": "2022-10-13T00:55:39.209834Z",
     "shell.execute_reply": "2022-10-13T00:55:39.209157Z"
    },
    "papermill": {
     "duration": 0.062879,
     "end_time": "2022-10-13T00:55:39.209998",
     "exception": false,
     "start_time": "2022-10-13T00:55:39.147119",
     "status": "completed"
    },
    "tags": []
   },
   "outputs": [],
   "source": [
    "lr_learner = Learner(loss, model_lr, opt, config.num_epochs)\n",
    "acc_lr = ClfCallback(lr_learner, config.bs, training_data_x , testing_data_x, training_data_y, testing_data_y)\n",
    "lr_learner.set_callbacks([acc_lr])"
   ]
  },
  {
   "cell_type": "code",
   "execution_count": 22,
   "id": "d9b133c3",
   "metadata": {
    "execution": {
     "iopub.execute_input": "2022-10-13T00:55:39.289878Z",
     "iopub.status.busy": "2022-10-13T00:55:39.289000Z",
     "iopub.status.idle": "2022-10-13T00:57:50.077006Z",
     "shell.execute_reply": "2022-10-13T00:57:50.078011Z"
    },
    "papermill": {
     "duration": 130.831,
     "end_time": "2022-10-13T00:57:50.078185",
     "exception": false,
     "start_time": "2022-10-13T00:55:39.247185",
     "status": "completed"
    },
    "tags": []
   },
   "outputs": [
    {
     "name": "stdout",
     "output_type": "stream",
     "text": [
      "Epoch 0, Loss 0.2561\n",
      "Training Accuracy: 0.6302, Testing Accuracy: 0.6321\n",
      "\n"
     ]
    },
    {
     "name": "stdout",
     "output_type": "stream",
     "text": [
      "Epoch 10, Loss 0.0736\n",
      "Training Accuracy: 0.9290, Testing Accuracy: 0.9420\n",
      "\n"
     ]
    },
    {
     "name": "stdout",
     "output_type": "stream",
     "text": [
      "Epoch 20, Loss 0.0476\n",
      "Training Accuracy: 0.9489, Testing Accuracy: 0.9612\n",
      "\n"
     ]
    },
    {
     "name": "stdout",
     "output_type": "stream",
     "text": [
      "Epoch 30, Loss 0.0387\n",
      "Training Accuracy: 0.9563, Testing Accuracy: 0.9672\n",
      "\n"
     ]
    },
    {
     "name": "stdout",
     "output_type": "stream",
     "text": [
      "Epoch 40, Loss 0.0342\n",
      "Training Accuracy: 0.9604, Testing Accuracy: 0.9693\n",
      "\n"
     ]
    },
    {
     "name": "stdout",
     "output_type": "stream",
     "text": [
      "Epoch 50, Loss 0.0313\n",
      "Training Accuracy: 0.9642, Testing Accuracy: 0.9703\n",
      "\n"
     ]
    },
    {
     "name": "stdout",
     "output_type": "stream",
     "text": [
      "Epoch 60, Loss 0.0292\n",
      "Training Accuracy: 0.9670, Testing Accuracy: 0.9703\n",
      "\n"
     ]
    },
    {
     "name": "stdout",
     "output_type": "stream",
     "text": [
      "Epoch 70, Loss 0.0274\n",
      "Training Accuracy: 0.9691, Testing Accuracy: 0.9718\n",
      "\n"
     ]
    },
    {
     "name": "stdout",
     "output_type": "stream",
     "text": [
      "Epoch 80, Loss 0.026\n",
      "Training Accuracy: 0.9704, Testing Accuracy: 0.9728\n",
      "\n"
     ]
    },
    {
     "name": "stdout",
     "output_type": "stream",
     "text": [
      "Epoch 90, Loss 0.0248\n",
      "Training Accuracy: 0.9720, Testing Accuracy: 0.9743\n",
      "\n"
     ]
    },
    {
     "name": "stdout",
     "output_type": "stream",
     "text": [
      "Epoch 100, Loss 0.0237\n",
      "Training Accuracy: 0.9735, Testing Accuracy: 0.9743\n",
      "\n"
     ]
    },
    {
     "name": "stdout",
     "output_type": "stream",
     "text": [
      "Epoch 110, Loss 0.0227\n",
      "Training Accuracy: 0.9743, Testing Accuracy: 0.9748\n",
      "\n"
     ]
    },
    {
     "name": "stdout",
     "output_type": "stream",
     "text": [
      "Epoch 120, Loss 0.0218\n",
      "Training Accuracy: 0.9752, Testing Accuracy: 0.9763\n",
      "\n"
     ]
    },
    {
     "name": "stdout",
     "output_type": "stream",
     "text": [
      "Epoch 130, Loss 0.021\n",
      "Training Accuracy: 0.9762, Testing Accuracy: 0.9768\n",
      "\n"
     ]
    },
    {
     "name": "stdout",
     "output_type": "stream",
     "text": [
      "Epoch 140, Loss 0.0203\n",
      "Training Accuracy: 0.9775, Testing Accuracy: 0.9763\n",
      "\n"
     ]
    },
    {
     "name": "stdout",
     "output_type": "stream",
     "text": [
      "Epoch 150, Loss 0.0196\n",
      "Training Accuracy: 0.9784, Testing Accuracy: 0.9763\n",
      "\n"
     ]
    },
    {
     "name": "stdout",
     "output_type": "stream",
     "text": [
      "Epoch 160, Loss 0.019\n",
      "Training Accuracy: 0.9791, Testing Accuracy: 0.9768\n",
      "\n"
     ]
    },
    {
     "name": "stdout",
     "output_type": "stream",
     "text": [
      "Epoch 170, Loss 0.0184\n",
      "Training Accuracy: 0.9801, Testing Accuracy: 0.9778\n",
      "\n"
     ]
    },
    {
     "name": "stdout",
     "output_type": "stream",
     "text": [
      "Epoch 180, Loss 0.0179\n",
      "Training Accuracy: 0.9805, Testing Accuracy: 0.9778\n",
      "\n"
     ]
    },
    {
     "name": "stdout",
     "output_type": "stream",
     "text": [
      "Epoch 190, Loss 0.0174\n",
      "Training Accuracy: 0.9815, Testing Accuracy: 0.9788\n",
      "\n"
     ]
    },
    {
     "name": "stdout",
     "output_type": "stream",
     "text": [
      "Epoch 200, Loss 0.0169\n",
      "Training Accuracy: 0.9824, Testing Accuracy: 0.9793\n",
      "\n"
     ]
    },
    {
     "name": "stdout",
     "output_type": "stream",
     "text": [
      "Epoch 210, Loss 0.0164\n",
      "Training Accuracy: 0.9831, Testing Accuracy: 0.9798\n",
      "\n"
     ]
    },
    {
     "name": "stdout",
     "output_type": "stream",
     "text": [
      "Epoch 220, Loss 0.016\n",
      "Training Accuracy: 0.9834, Testing Accuracy: 0.9798\n",
      "\n"
     ]
    },
    {
     "name": "stdout",
     "output_type": "stream",
     "text": [
      "Epoch 230, Loss 0.0156\n",
      "Training Accuracy: 0.9839, Testing Accuracy: 0.9803\n",
      "\n"
     ]
    },
    {
     "name": "stdout",
     "output_type": "stream",
     "text": [
      "Epoch 240, Loss 0.0152\n",
      "Training Accuracy: 0.9844, Testing Accuracy: 0.9803\n",
      "\n"
     ]
    },
    {
     "data": {
      "text/plain": [
       "0.0012165253807462076"
      ]
     },
     "execution_count": 22,
     "metadata": {},
     "output_type": "execute_result"
    }
   ],
   "source": [
    "nn_learner.train_loop(dl)"
   ]
  },
  {
   "cell_type": "code",
   "execution_count": 23,
   "id": "e0163366",
   "metadata": {
    "execution": {
     "iopub.execute_input": "2022-10-13T00:57:50.182457Z",
     "iopub.status.busy": "2022-10-13T00:57:50.181599Z",
     "iopub.status.idle": "2022-10-13T00:58:09.500100Z",
     "shell.execute_reply": "2022-10-13T00:58:09.501132Z"
    },
    "papermill": {
     "duration": 19.378618,
     "end_time": "2022-10-13T00:58:09.501318",
     "exception": false,
     "start_time": "2022-10-13T00:57:50.122700",
     "status": "completed"
    },
    "tags": []
   },
   "outputs": [
    {
     "name": "stdout",
     "output_type": "stream",
     "text": [
      "Epoch 0, Loss 0.2361\n",
      "Training Accuracy: 0.6985, Testing Accuracy: 0.7137\n",
      "\n"
     ]
    },
    {
     "name": "stdout",
     "output_type": "stream",
     "text": [
      "Epoch 10, Loss 0.102\n",
      "Training Accuracy: 0.9109, Testing Accuracy: 0.9214\n",
      "\n"
     ]
    },
    {
     "name": "stdout",
     "output_type": "stream",
     "text": [
      "Epoch 20, Loss 0.079\n",
      "Training Accuracy: 0.9260, Testing Accuracy: 0.9385\n",
      "\n"
     ]
    },
    {
     "name": "stdout",
     "output_type": "stream",
     "text": [
      "Epoch 30, Loss 0.0685\n",
      "Training Accuracy: 0.9344, Testing Accuracy: 0.9446\n",
      "\n"
     ]
    },
    {
     "name": "stdout",
     "output_type": "stream",
     "text": [
      "Epoch 40, Loss 0.0621\n",
      "Training Accuracy: 0.9396, Testing Accuracy: 0.9481\n",
      "\n"
     ]
    },
    {
     "name": "stdout",
     "output_type": "stream",
     "text": [
      "Epoch 50, Loss 0.0577\n",
      "Training Accuracy: 0.9431, Testing Accuracy: 0.9516\n",
      "\n"
     ]
    },
    {
     "name": "stdout",
     "output_type": "stream",
     "text": [
      "Epoch 60, Loss 0.0544\n",
      "Training Accuracy: 0.9452, Testing Accuracy: 0.9536\n",
      "\n"
     ]
    },
    {
     "name": "stdout",
     "output_type": "stream",
     "text": [
      "Epoch 70, Loss 0.0518\n",
      "Training Accuracy: 0.9472, Testing Accuracy: 0.9556\n",
      "\n"
     ]
    },
    {
     "name": "stdout",
     "output_type": "stream",
     "text": [
      "Epoch 80, Loss 0.0498\n",
      "Training Accuracy: 0.9492, Testing Accuracy: 0.9567\n",
      "\n"
     ]
    },
    {
     "name": "stdout",
     "output_type": "stream",
     "text": [
      "Epoch 90, Loss 0.0481\n",
      "Training Accuracy: 0.9508, Testing Accuracy: 0.9572\n",
      "\n"
     ]
    },
    {
     "name": "stdout",
     "output_type": "stream",
     "text": [
      "Epoch 100, Loss 0.0467\n",
      "Training Accuracy: 0.9518, Testing Accuracy: 0.9587\n",
      "\n"
     ]
    },
    {
     "name": "stdout",
     "output_type": "stream",
     "text": [
      "Epoch 110, Loss 0.0454\n",
      "Training Accuracy: 0.9530, Testing Accuracy: 0.9597\n",
      "\n"
     ]
    },
    {
     "name": "stdout",
     "output_type": "stream",
     "text": [
      "Epoch 120, Loss 0.0444\n",
      "Training Accuracy: 0.9538, Testing Accuracy: 0.9607\n",
      "\n"
     ]
    },
    {
     "name": "stdout",
     "output_type": "stream",
     "text": [
      "Epoch 130, Loss 0.0434\n",
      "Training Accuracy: 0.9551, Testing Accuracy: 0.9632\n",
      "\n"
     ]
    },
    {
     "name": "stdout",
     "output_type": "stream",
     "text": [
      "Epoch 140, Loss 0.0426\n",
      "Training Accuracy: 0.9555, Testing Accuracy: 0.9642\n",
      "\n"
     ]
    },
    {
     "name": "stdout",
     "output_type": "stream",
     "text": [
      "Epoch 150, Loss 0.0418\n",
      "Training Accuracy: 0.9561, Testing Accuracy: 0.9657\n",
      "\n"
     ]
    },
    {
     "name": "stdout",
     "output_type": "stream",
     "text": [
      "Epoch 160, Loss 0.0411\n",
      "Training Accuracy: 0.9564, Testing Accuracy: 0.9667\n",
      "\n"
     ]
    },
    {
     "name": "stdout",
     "output_type": "stream",
     "text": [
      "Epoch 170, Loss 0.0405\n",
      "Training Accuracy: 0.9567, Testing Accuracy: 0.9667\n",
      "\n"
     ]
    },
    {
     "name": "stdout",
     "output_type": "stream",
     "text": [
      "Epoch 180, Loss 0.0399\n",
      "Training Accuracy: 0.9573, Testing Accuracy: 0.9667\n",
      "\n"
     ]
    },
    {
     "name": "stdout",
     "output_type": "stream",
     "text": [
      "Epoch 190, Loss 0.0394\n",
      "Training Accuracy: 0.9579, Testing Accuracy: 0.9667\n",
      "\n"
     ]
    },
    {
     "name": "stdout",
     "output_type": "stream",
     "text": [
      "Epoch 200, Loss 0.0389\n",
      "Training Accuracy: 0.9582, Testing Accuracy: 0.9682\n",
      "\n"
     ]
    },
    {
     "name": "stdout",
     "output_type": "stream",
     "text": [
      "Epoch 210, Loss 0.0384\n",
      "Training Accuracy: 0.9589, Testing Accuracy: 0.9682\n",
      "\n"
     ]
    },
    {
     "name": "stdout",
     "output_type": "stream",
     "text": [
      "Epoch 220, Loss 0.038\n",
      "Training Accuracy: 0.9594, Testing Accuracy: 0.9682\n",
      "\n"
     ]
    },
    {
     "name": "stdout",
     "output_type": "stream",
     "text": [
      "Epoch 230, Loss 0.0376\n",
      "Training Accuracy: 0.9601, Testing Accuracy: 0.9682\n",
      "\n"
     ]
    },
    {
     "name": "stdout",
     "output_type": "stream",
     "text": [
      "Epoch 240, Loss 0.0373\n",
      "Training Accuracy: 0.9606, Testing Accuracy: 0.9688\n",
      "\n"
     ]
    },
    {
     "data": {
      "text/plain": [
       "0.05259647799643359"
      ]
     },
     "execution_count": 23,
     "metadata": {},
     "output_type": "execute_result"
    }
   ],
   "source": [
    "lr_learner.train_loop(dl)"
   ]
  },
  {
   "cell_type": "code",
   "execution_count": 24,
   "id": "ca410940",
   "metadata": {
    "execution": {
     "iopub.execute_input": "2022-10-13T00:58:09.617987Z",
     "iopub.status.busy": "2022-10-13T00:58:09.617208Z",
     "iopub.status.idle": "2022-10-13T00:58:09.940678Z",
     "shell.execute_reply": "2022-10-13T00:58:09.939954Z"
    },
    "papermill": {
     "duration": 0.385625,
     "end_time": "2022-10-13T00:58:09.940864",
     "exception": false,
     "start_time": "2022-10-13T00:58:09.555239",
     "status": "completed"
    },
    "tags": []
   },
   "outputs": [
    {
     "data": {
      "text/plain": [
       "<matplotlib.legend.Legend at 0x7f635c7e44a8>"
      ]
     },
     "execution_count": 24,
     "metadata": {},
     "output_type": "execute_result"
    },
    {
     "data": {
      "image/png": "[encoded data removed]",
      "text/plain": [
       "<Figure size 1080x720 with 1 Axes>"
      ]
     },
     "metadata": {
      "needs_background": "light"
     },
     "output_type": "display_data"
    }
   ],
   "source": [
    "#comparing the results of NN and LR\n",
    "plt.figure(figsize=(15,10))\n",
    "\n",
    "# Neural Network plots\n",
    "plt.plot(acc_nn.accuracies, 'r-', label = \"Training Accuracies - NN\")\n",
    "plt.plot(acc_nn.test_accuracies, 'g-', label = \"Testing Accuracies - NN\")\n",
    "\n",
    "# Logistic Regression plots\n",
    "plt.plot(acc_lr.accuracies, 'k-', label = \"Training Accuracies - LR\")\n",
    "plt.plot(acc_lr.test_accuracies, 'b-', label = \"Testing Accuracies - LR\")\n",
    "plt.legend()"
   ]
  },
  {
   "cell_type": "markdown",
   "id": "80dfb35c",
   "metadata": {
    "papermill": {
     "duration": 0.058898,
     "end_time": "2022-10-13T00:58:10.055967",
     "exception": false,
     "start_time": "2022-10-13T00:58:09.997069",
     "status": "completed"
    },
    "tags": []
   },
   "source": [
    "#### Plotting the outputs of this layer of the NN.\n"
   ]
  },
  {
   "cell_type": "code",
   "execution_count": 25,
   "id": "45eb2ff5",
   "metadata": {
    "execution": {
     "iopub.execute_input": "2022-10-13T00:58:10.175183Z",
     "iopub.status.busy": "2022-10-13T00:58:10.174428Z",
     "iopub.status.idle": "2022-10-13T00:58:10.202285Z",
     "shell.execute_reply": "2022-10-13T00:58:10.203518Z"
    },
    "papermill": {
     "duration": 0.091766,
     "end_time": "2022-10-13T00:58:10.203758",
     "exception": false,
     "start_time": "2022-10-13T00:58:10.111992",
     "status": "completed"
    },
    "tags": []
   },
   "outputs": [],
   "source": [
    "new_model = Model(layers[:-2])\n",
    "testing_plot = new_model(testing_data_x)"
   ]
  },
  {
   "cell_type": "code",
   "execution_count": 26,
   "id": "4c0a5485",
   "metadata": {
    "execution": {
     "iopub.execute_input": "2022-10-13T00:58:10.323052Z",
     "iopub.status.busy": "2022-10-13T00:58:10.322142Z",
     "iopub.status.idle": "2022-10-13T00:58:10.602684Z",
     "shell.execute_reply": "2022-10-13T00:58:10.603430Z"
    },
    "papermill": {
     "duration": 0.342562,
     "end_time": "2022-10-13T00:58:10.603608",
     "exception": false,
     "start_time": "2022-10-13T00:58:10.261046",
     "status": "completed"
    },
    "tags": []
   },
   "outputs": [
    {
     "data": {
      "text/plain": [
       "Text(0.5, 1.0, 'Outputs')"
      ]
     },
     "execution_count": 26,
     "metadata": {},
     "output_type": "execute_result"
    },
    {
     "data": {
      "image/png": "[encoded data removed]",
      "text/plain": [
       "<Figure size 576x504 with 1 Axes>"
      ]
     },
     "metadata": {
      "needs_background": "light"
     },
     "output_type": "display_data"
    }
   ],
   "source": [
    "# Plotting the scatter plot of points and color coding by class\n",
    "plt.figure(figsize=(8,7))\n",
    "plt.scatter(testing_plot[:,0], testing_plot[:,1], alpha = 0.1, c = y_test.ravel());\n",
    "plt.title('Outputs')"
   ]
  },
  {
   "cell_type": "markdown",
   "id": "a74fcf8f",
   "metadata": {
    "papermill": {
     "duration": 0.09186,
     "end_time": "2022-10-13T00:58:10.751505",
     "exception": false,
     "start_time": "2022-10-13T00:58:10.659645",
     "status": "completed"
    },
    "tags": []
   },
   "source": [
    "Probability contours"
   ]
  },
  {
   "cell_type": "code",
   "execution_count": 27,
   "id": "d0afc8e3",
   "metadata": {
    "execution": {
     "iopub.execute_input": "2022-10-13T00:58:10.875820Z",
     "iopub.status.busy": "2022-10-13T00:58:10.875038Z",
     "iopub.status.idle": "2022-10-13T00:58:10.889735Z",
     "shell.execute_reply": "2022-10-13T00:58:10.890367Z"
    },
    "papermill": {
     "duration": 0.078785,
     "end_time": "2022-10-13T00:58:10.890541",
     "exception": false,
     "start_time": "2022-10-13T00:58:10.811756",
     "status": "completed"
    },
    "tags": []
   },
   "outputs": [],
   "source": [
    "model_prob = Model(layers[-2:]) "
   ]
  },
  {
   "cell_type": "code",
   "execution_count": 28,
   "id": "9b96e238",
   "metadata": {
    "execution": {
     "iopub.execute_input": "2022-10-13T00:58:11.015817Z",
     "iopub.status.busy": "2022-10-13T00:58:11.015037Z",
     "iopub.status.idle": "2022-10-13T00:58:11.031083Z",
     "shell.execute_reply": "2022-10-13T00:58:11.031649Z"
    },
    "papermill": {
     "duration": 0.080254,
     "end_time": "2022-10-13T00:58:11.031819",
     "exception": false,
     "start_time": "2022-10-13T00:58:10.951565",
     "status": "completed"
    },
    "tags": []
   },
   "outputs": [],
   "source": [
    "#creating the x and y ranges according to the above generated plot.\n",
    "x_range = np.linspace(-4, 1, 100) \n",
    "y_range = np.linspace(-6, 6, 100) \n",
    "x_grid, y_grid = np.meshgrid(x_range, y_range) # x_grid and y_grig are of size 100 X 100\n",
    "\n",
    "# converting x_grid and y_grid to continuous arrays\n",
    "x_gridflat = np.ravel(x_grid)\n",
    "y_gridflat = np.ravel(y_grid)\n",
    "\n",
    "# The last layer of the current model takes two columns as input. Hence transpose of np.vstack() is required.\n",
    "X = np.vstack((x_gridflat, y_gridflat)).T\n",
    "\n",
    "prob_contour = model_prob(X).reshape(100,100) "
   ]
  },
  {
   "cell_type": "code",
   "execution_count": 29,
   "id": "da72499a",
   "metadata": {
    "execution": {
     "iopub.execute_input": "2022-10-13T00:58:11.156019Z",
     "iopub.status.busy": "2022-10-13T00:58:11.155268Z",
     "iopub.status.idle": "2022-10-13T00:58:11.498918Z",
     "shell.execute_reply": "2022-10-13T00:58:11.498264Z"
    },
    "papermill": {
     "duration": 0.408015,
     "end_time": "2022-10-13T00:58:11.499078",
     "exception": false,
     "start_time": "2022-10-13T00:58:11.091063",
     "status": "completed"
    },
    "tags": []
   },
   "outputs": [
    {
     "data": {
      "image/png": "[encoded data removed]",
      "text/plain": [
       "<Figure size 720x648 with 1 Axes>"
      ]
     },
     "metadata": {
      "needs_background": "light"
     },
     "output_type": "display_data"
    }
   ],
   "source": [
    "plt.figure(figsize=(10,9))\n",
    "plt.scatter(testing_plot[:,0], testing_plot[:,1], alpha = 0.1, c = y_test.ravel())\n",
    "contours = plt.contour(x_grid,y_grid,prob_contour)\n",
    "plt.title('Probability Contours')\n",
    "plt.clabel(contours, inline = True );"
   ]
  },
  {
   "cell_type": "code",
   "execution_count": null,
   "id": "e81b4ac7",
   "metadata": {
    "papermill": {
     "duration": 0.060038,
     "end_time": "2022-10-13T00:58:11.618930",
     "exception": false,
     "start_time": "2022-10-13T00:58:11.558892",
     "status": "completed"
    },
    "tags": []
   },
   "outputs": [],
   "source": []
  }
 ],
 "metadata": {
  "kernelspec": {
   "display_name": "Python 3",
   "language": "python",
   "name": "python3"
  },
  "language_info": {
   "codemirror_mode": {
    "name": "ipython",
    "version": 3
   },
   "file_extension": ".py",
   "mimetype": "text/x-python",
   "name": "python",
   "nbconvert_exporter": "python",
   "pygments_lexer": "ipython3",
   "version": "3.6.15"
  },
  "papermill": {
   "default_parameters": {},
   "duration": 161.518503,
   "end_time": "2022-10-13T00:58:12.100808",
   "environment_variables": {},
   "exception": null,
   "input_path": "2020-08-11-part2.ipynb",
   "output_path": "2020-08-11-part2.ipynb",
   "parameters": {},
   "start_time": "2022-10-13T00:55:30.582305",
   "version": "2.3.3"
  }
 },
 "nbformat": 4,
 "nbformat_minor": 5
}