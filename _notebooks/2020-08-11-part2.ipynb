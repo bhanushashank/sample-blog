{
 "cells": [
  {
   "cell_type": "markdown",
   "id": "98380cd3",
   "metadata": {
    "papermill": {
     "duration": 0.029829,
     "end_time": "2022-10-02T10:10:35.918190",
     "exception": false,
     "start_time": "2022-10-02T10:10:35.888361",
     "status": "completed"
    },
    "tags": []
   },
   "source": [
    "# Distinguish Your Own Digits (DYOD)"
   ]
  },
  {
   "cell_type": "markdown",
   "id": "ef31240d",
   "metadata": {
    "papermill": {
     "duration": 0.023598,
     "end_time": "2022-10-02T10:10:35.966170",
     "exception": false,
     "start_time": "2022-10-02T10:10:35.942572",
     "status": "completed"
    },
    "tags": []
   },
   "source": [
    "You are going to write a classifier that distinguishes between the number 3 and number 8."
   ]
  },
  {
   "cell_type": "code",
   "execution_count": 1,
   "id": "b15c8646",
   "metadata": {
    "execution": {
     "iopub.execute_input": "2022-10-02T10:10:36.023989Z",
     "iopub.status.busy": "2022-10-02T10:10:36.023376Z",
     "iopub.status.idle": "2022-10-02T10:10:36.034230Z",
     "shell.execute_reply": "2022-10-02T10:10:36.033735Z"
    },
    "papermill": {
     "duration": 0.044592,
     "end_time": "2022-10-02T10:10:36.034360",
     "exception": false,
     "start_time": "2022-10-02T10:10:35.989768",
     "status": "completed"
    },
    "tags": []
   },
   "outputs": [],
   "source": [
    "%load_ext autoreload\n",
    "%autoreload 2"
   ]
  },
  {
   "cell_type": "code",
   "execution_count": 2,
   "id": "22ef38dc",
   "metadata": {
    "execution": {
     "iopub.execute_input": "2022-10-02T10:10:36.087602Z",
     "iopub.status.busy": "2022-10-02T10:10:36.086994Z",
     "iopub.status.idle": "2022-10-02T10:10:36.634700Z",
     "shell.execute_reply": "2022-10-02T10:10:36.635334Z"
    },
    "papermill": {
     "duration": 0.577415,
     "end_time": "2022-10-02T10:10:36.635516",
     "exception": false,
     "start_time": "2022-10-02T10:10:36.058101",
     "status": "completed"
    },
    "tags": []
   },
   "outputs": [],
   "source": [
    "%matplotlib inline\n",
    "import numpy as np\n",
    "import matplotlib.pyplot as plt\n",
    "import pandas as pd"
   ]
  },
  {
   "cell_type": "markdown",
   "id": "ba036198",
   "metadata": {
    "papermill": {
     "duration": 0.023758,
     "end_time": "2022-10-02T10:10:36.686270",
     "exception": false,
     "start_time": "2022-10-02T10:10:36.662512",
     "status": "completed"
    },
    "tags": []
   },
   "source": [
    "From the command line run `pip install mnist`. This is a library that will help you bring down the mnist dataset. If you run this from a notebook, you need to put  `!pip install mnist` in a cell by itself."
   ]
  },
  {
   "cell_type": "code",
   "execution_count": 3,
   "id": "bb6ad8a1",
   "metadata": {
    "execution": {
     "iopub.execute_input": "2022-10-02T10:10:36.739308Z",
     "iopub.status.busy": "2022-10-02T10:10:36.738718Z",
     "iopub.status.idle": "2022-10-02T10:10:38.300576Z",
     "shell.execute_reply": "2022-10-02T10:10:38.299949Z"
    },
    "papermill": {
     "duration": 1.590708,
     "end_time": "2022-10-02T10:10:38.300715",
     "exception": false,
     "start_time": "2022-10-02T10:10:36.710007",
     "status": "completed"
    },
    "tags": []
   },
   "outputs": [
    {
     "name": "stdout",
     "output_type": "stream",
     "text": [
      "Collecting mnist\r\n"
     ]
    },
    {
     "name": "stdout",
     "output_type": "stream",
     "text": [
      "  Downloading mnist-0.2.2-py2.py3-none-any.whl (3.5 kB)\r\n",
      "Requirement already satisfied: numpy in /opt/hostedtoolcache/Python/3.6.15/x64/lib/python3.6/site-packages (from mnist) (1.19.5)\r\n"
     ]
    },
    {
     "name": "stdout",
     "output_type": "stream",
     "text": [
      "Installing collected packages: mnist\r\n",
      "Successfully installed mnist-0.2.2\r\n"
     ]
    }
   ],
   "source": [
    "!pip install mnist"
   ]
  },
  {
   "cell_type": "markdown",
   "id": "69df9c9a",
   "metadata": {
    "papermill": {
     "duration": 0.024476,
     "end_time": "2022-10-02T10:10:38.350492",
     "exception": false,
     "start_time": "2022-10-02T10:10:38.326016",
     "status": "completed"
    },
    "tags": []
   },
   "source": [
    "## Preparing the Data"
   ]
  },
  {
   "cell_type": "code",
   "execution_count": 4,
   "id": "7f69d806",
   "metadata": {
    "execution": {
     "iopub.execute_input": "2022-10-02T10:10:38.403956Z",
     "iopub.status.busy": "2022-10-02T10:10:38.403340Z",
     "iopub.status.idle": "2022-10-02T10:10:38.418849Z",
     "shell.execute_reply": "2022-10-02T10:10:38.418341Z"
    },
    "papermill": {
     "duration": 0.044087,
     "end_time": "2022-10-02T10:10:38.418975",
     "exception": false,
     "start_time": "2022-10-02T10:10:38.374888",
     "status": "completed"
    },
    "tags": []
   },
   "outputs": [],
   "source": [
    "import mnist"
   ]
  },
  {
   "cell_type": "code",
   "execution_count": 5,
   "id": "a411e44f",
   "metadata": {
    "execution": {
     "iopub.execute_input": "2022-10-02T10:10:38.472535Z",
     "iopub.status.busy": "2022-10-02T10:10:38.471947Z",
     "iopub.status.idle": "2022-10-02T10:10:38.989158Z",
     "shell.execute_reply": "2022-10-02T10:10:38.988561Z"
    },
    "papermill": {
     "duration": 0.545539,
     "end_time": "2022-10-02T10:10:38.989292",
     "exception": false,
     "start_time": "2022-10-02T10:10:38.443753",
     "status": "completed"
    },
    "tags": []
   },
   "outputs": [],
   "source": [
    "train_images = mnist.train_images()\n",
    "train_labels = mnist.train_labels()"
   ]
  },
  {
   "cell_type": "code",
   "execution_count": 6,
   "id": "dceab3a5",
   "metadata": {
    "execution": {
     "iopub.execute_input": "2022-10-02T10:10:39.043455Z",
     "iopub.status.busy": "2022-10-02T10:10:39.042850Z",
     "iopub.status.idle": "2022-10-02T10:10:39.058288Z",
     "shell.execute_reply": "2022-10-02T10:10:39.058838Z"
    },
    "papermill": {
     "duration": 0.04463,
     "end_time": "2022-10-02T10:10:39.058985",
     "exception": false,
     "start_time": "2022-10-02T10:10:39.014355",
     "status": "completed"
    },
    "tags": []
   },
   "outputs": [
    {
     "data": {
      "text/plain": [
       "((60000, 28, 28), (60000,))"
      ]
     },
     "execution_count": 6,
     "metadata": {},
     "output_type": "execute_result"
    }
   ],
   "source": [
    "train_images.shape, train_labels.shape"
   ]
  },
  {
   "cell_type": "code",
   "execution_count": 7,
   "id": "f50dc2bb",
   "metadata": {
    "execution": {
     "iopub.execute_input": "2022-10-02T10:10:39.112636Z",
     "iopub.status.busy": "2022-10-02T10:10:39.112060Z",
     "iopub.status.idle": "2022-10-02T10:10:39.218319Z",
     "shell.execute_reply": "2022-10-02T10:10:39.217680Z"
    },
    "papermill": {
     "duration": 0.134626,
     "end_time": "2022-10-02T10:10:39.218458",
     "exception": false,
     "start_time": "2022-10-02T10:10:39.083832",
     "status": "completed"
    },
    "tags": []
   },
   "outputs": [],
   "source": [
    "test_images = mnist.test_images()\n",
    "test_labels = mnist.test_labels()"
   ]
  },
  {
   "cell_type": "code",
   "execution_count": 8,
   "id": "fc38cf1b",
   "metadata": {
    "execution": {
     "iopub.execute_input": "2022-10-02T10:10:39.275824Z",
     "iopub.status.busy": "2022-10-02T10:10:39.275225Z",
     "iopub.status.idle": "2022-10-02T10:10:39.287502Z",
     "shell.execute_reply": "2022-10-02T10:10:39.288056Z"
    },
    "papermill": {
     "duration": 0.043388,
     "end_time": "2022-10-02T10:10:39.288194",
     "exception": false,
     "start_time": "2022-10-02T10:10:39.244806",
     "status": "completed"
    },
    "tags": []
   },
   "outputs": [
    {
     "data": {
      "text/plain": [
       "((10000, 28, 28), (10000,))"
      ]
     },
     "execution_count": 8,
     "metadata": {},
     "output_type": "execute_result"
    }
   ],
   "source": [
    "test_images.shape, test_labels.shape"
   ]
  },
  {
   "cell_type": "code",
   "execution_count": 9,
   "id": "f9ed8fe0",
   "metadata": {
    "execution": {
     "iopub.execute_input": "2022-10-02T10:10:39.342652Z",
     "iopub.status.busy": "2022-10-02T10:10:39.342068Z",
     "iopub.status.idle": "2022-10-02T10:10:39.483971Z",
     "shell.execute_reply": "2022-10-02T10:10:39.483463Z"
    },
    "papermill": {
     "duration": 0.170842,
     "end_time": "2022-10-02T10:10:39.484100",
     "exception": false,
     "start_time": "2022-10-02T10:10:39.313258",
     "status": "completed"
    },
    "tags": []
   },
   "outputs": [
    {
     "name": "stdout",
     "output_type": "stream",
     "text": [
      "2\n"
     ]
    },
    {
     "data": {
      "text/plain": [
       "<matplotlib.image.AxesImage at 0x7f0c5232bcc0>"
      ]
     },
     "execution_count": 9,
     "metadata": {},
     "output_type": "execute_result"
    },
    {
     "data": {
      "image/png": "[encoded data removed]",
      "text/plain": [
       "<Figure size 432x288 with 1 Axes>"
      ]
     },
     "metadata": {
      "needs_background": "light"
     },
     "output_type": "display_data"
    }
   ],
   "source": [
    "image_index = 7776 # You may select anything up to 60,000\n",
    "print(train_labels[image_index]) \n",
    "plt.imshow(train_images[image_index], cmap='Greys')"
   ]
  },
  {
   "cell_type": "markdown",
   "id": "a8d2388d",
   "metadata": {
    "papermill": {
     "duration": 0.026261,
     "end_time": "2022-10-02T10:10:39.537656",
     "exception": false,
     "start_time": "2022-10-02T10:10:39.511395",
     "status": "completed"
    },
    "tags": []
   },
   "source": [
    "## Filter data to get 3 and 8 out"
   ]
  },
  {
   "cell_type": "code",
   "execution_count": 10,
   "id": "776f7fc7",
   "metadata": {
    "execution": {
     "iopub.execute_input": "2022-10-02T10:10:39.598345Z",
     "iopub.status.busy": "2022-10-02T10:10:39.594918Z",
     "iopub.status.idle": "2022-10-02T10:10:39.612188Z",
     "shell.execute_reply": "2022-10-02T10:10:39.611545Z"
    },
    "papermill": {
     "duration": 0.048348,
     "end_time": "2022-10-02T10:10:39.612315",
     "exception": false,
     "start_time": "2022-10-02T10:10:39.563967",
     "status": "completed"
    },
    "tags": []
   },
   "outputs": [],
   "source": [
    "train_filter = np.where((train_labels == 3 ) | (train_labels == 8))\n",
    "test_filter = np.where((test_labels == 3) | (test_labels == 8))\n",
    "X_train, y_train = train_images[train_filter], train_labels[train_filter]\n",
    "X_test, y_test = test_images[test_filter], test_labels[test_filter]"
   ]
  },
  {
   "cell_type": "markdown",
   "id": "948f0b7e",
   "metadata": {
    "papermill": {
     "duration": 0.026915,
     "end_time": "2022-10-02T10:10:39.666162",
     "exception": false,
     "start_time": "2022-10-02T10:10:39.639247",
     "status": "completed"
    },
    "tags": []
   },
   "source": [
    "We normalize the pizel values in the 0 to 1 range"
   ]
  },
  {
   "cell_type": "code",
   "execution_count": 11,
   "id": "ee4c2166",
   "metadata": {
    "execution": {
     "iopub.execute_input": "2022-10-02T10:10:39.730019Z",
     "iopub.status.busy": "2022-10-02T10:10:39.722719Z",
     "iopub.status.idle": "2022-10-02T10:10:39.771214Z",
     "shell.execute_reply": "2022-10-02T10:10:39.770177Z"
    },
    "papermill": {
     "duration": 0.078677,
     "end_time": "2022-10-02T10:10:39.771373",
     "exception": false,
     "start_time": "2022-10-02T10:10:39.692696",
     "status": "completed"
    },
    "tags": []
   },
   "outputs": [],
   "source": [
    "X_train = X_train/255.\n",
    "X_test = X_test/255."
   ]
  },
  {
   "cell_type": "markdown",
   "id": "ddcf4fab",
   "metadata": {
    "papermill": {
     "duration": 0.026408,
     "end_time": "2022-10-02T10:10:39.824854",
     "exception": false,
     "start_time": "2022-10-02T10:10:39.798446",
     "status": "completed"
    },
    "tags": []
   },
   "source": [
    "And setup the labels as 1 (when the digit is 3) and 0 (when the digit is 8)"
   ]
  },
  {
   "cell_type": "code",
   "execution_count": 12,
   "id": "7dc908f2",
   "metadata": {
    "execution": {
     "iopub.execute_input": "2022-10-02T10:10:39.881815Z",
     "iopub.status.busy": "2022-10-02T10:10:39.881205Z",
     "iopub.status.idle": "2022-10-02T10:10:39.894514Z",
     "shell.execute_reply": "2022-10-02T10:10:39.894034Z"
    },
    "papermill": {
     "duration": 0.0435,
     "end_time": "2022-10-02T10:10:39.894632",
     "exception": false,
     "start_time": "2022-10-02T10:10:39.851132",
     "status": "completed"
    },
    "tags": []
   },
   "outputs": [],
   "source": [
    "y_train = 1*(y_train==3)\n",
    "y_test = 1*(y_test==3)"
   ]
  },
  {
   "cell_type": "code",
   "execution_count": 13,
   "id": "01e4e969",
   "metadata": {
    "execution": {
     "iopub.execute_input": "2022-10-02T10:10:39.951493Z",
     "iopub.status.busy": "2022-10-02T10:10:39.950903Z",
     "iopub.status.idle": "2022-10-02T10:10:39.966064Z",
     "shell.execute_reply": "2022-10-02T10:10:39.965544Z"
    },
    "papermill": {
     "duration": 0.04518,
     "end_time": "2022-10-02T10:10:39.966206",
     "exception": false,
     "start_time": "2022-10-02T10:10:39.921026",
     "status": "completed"
    },
    "tags": []
   },
   "outputs": [
    {
     "data": {
      "text/plain": [
       "((11982, 28, 28), (1984, 28, 28))"
      ]
     },
     "execution_count": 13,
     "metadata": {},
     "output_type": "execute_result"
    }
   ],
   "source": [
    "X_train.shape, X_test.shape"
   ]
  },
  {
   "cell_type": "markdown",
   "id": "5ccf3f85",
   "metadata": {
    "papermill": {
     "duration": 0.026728,
     "end_time": "2022-10-02T10:10:40.019511",
     "exception": false,
     "start_time": "2022-10-02T10:10:39.992783",
     "status": "completed"
    },
    "tags": []
   },
   "source": [
    "We reshape the data to flatten the image pixels into a set of features or co-variates:"
   ]
  },
  {
   "cell_type": "code",
   "execution_count": 14,
   "id": "5286a4a3",
   "metadata": {
    "execution": {
     "iopub.execute_input": "2022-10-02T10:10:40.077713Z",
     "iopub.status.busy": "2022-10-02T10:10:40.077021Z",
     "iopub.status.idle": "2022-10-02T10:10:40.092763Z",
     "shell.execute_reply": "2022-10-02T10:10:40.092268Z"
    },
    "papermill": {
     "duration": 0.046561,
     "end_time": "2022-10-02T10:10:40.092889",
     "exception": false,
     "start_time": "2022-10-02T10:10:40.046328",
     "status": "completed"
    },
    "tags": []
   },
   "outputs": [
    {
     "data": {
      "text/plain": [
       "((11982, 784), (1984, 784))"
      ]
     },
     "execution_count": 14,
     "metadata": {},
     "output_type": "execute_result"
    }
   ],
   "source": [
    "X_train = X_train.reshape(X_train.shape[0], -1)\n",
    "X_test = X_test.reshape(X_test.shape[0], -1)\n",
    "X_train.shape, X_test.shape"
   ]
  },
  {
   "cell_type": "code",
   "execution_count": 15,
   "id": "73c5f88a",
   "metadata": {
    "execution": {
     "iopub.execute_input": "2022-10-02T10:10:40.170797Z",
     "iopub.status.busy": "2022-10-02T10:10:40.166266Z",
     "iopub.status.idle": "2022-10-02T10:10:40.176423Z",
     "shell.execute_reply": "2022-10-02T10:10:40.175625Z"
    },
    "papermill": {
     "duration": 0.056724,
     "end_time": "2022-10-02T10:10:40.176560",
     "exception": false,
     "start_time": "2022-10-02T10:10:40.119836",
     "status": "completed"
    },
    "tags": []
   },
   "outputs": [],
   "source": [
    "#Impoting functions from 'Kudzu'\n",
    "from kudzu.model import Model\n",
    "from kudzu.train import Learner\n",
    "from kudzu.optim import GD\n",
    "from kudzu.data import Data, Sampler,Dataloader\n",
    "\n",
    "from kudzu.callbacks import AccCallback\n",
    "from kudzu.callbacks import ClfCallback\n",
    "\n",
    "from kudzu.loss import MSE\n",
    "\n",
    "from kudzu.layer import Sigmoid,Relu\n",
    "from kudzu.layer import Affine"
   ]
  },
  {
   "cell_type": "markdown",
   "id": "bc01172a",
   "metadata": {
    "papermill": {
     "duration": 0.027181,
     "end_time": "2022-10-02T10:10:40.230821",
     "exception": false,
     "start_time": "2022-10-02T10:10:40.203640",
     "status": "completed"
    },
    "tags": []
   },
   "source": [
    "### Let us create a `Config` class, to store important parameters. \n",
    "This class essentially plays the role of a dictionary."
   ]
  },
  {
   "cell_type": "code",
   "execution_count": 16,
   "id": "978281aa",
   "metadata": {
    "execution": {
     "iopub.execute_input": "2022-10-02T10:10:40.294038Z",
     "iopub.status.busy": "2022-10-02T10:10:40.289042Z",
     "iopub.status.idle": "2022-10-02T10:10:40.301255Z",
     "shell.execute_reply": "2022-10-02T10:10:40.301728Z"
    },
    "papermill": {
     "duration": 0.043589,
     "end_time": "2022-10-02T10:10:40.301872",
     "exception": false,
     "start_time": "2022-10-02T10:10:40.258283",
     "status": "completed"
    },
    "tags": []
   },
   "outputs": [],
   "source": [
    "class Config:\n",
    "    pass\n",
    "config = Config()\n",
    "config.lr = 0.001\n",
    "config.num_epochs = 250\n",
    "config.bs = 50"
   ]
  },
  {
   "cell_type": "markdown",
   "id": "1385fa59",
   "metadata": {
    "papermill": {
     "duration": 0.027171,
     "end_time": "2022-10-02T10:10:40.356087",
     "exception": false,
     "start_time": "2022-10-02T10:10:40.328916",
     "status": "completed"
    },
    "tags": []
   },
   "source": [
    "### Running Models with the Training data\n",
    "Details about the network layers:\n",
    "- A first affine layer has 784 inputs and does 100 affine transforms. These are followed by a Relu\n",
    "- A second affine layer has 100 inputs from the 100 activations of the past layer, and does 100 affine transforms. These are followed by a Relu\n",
    "- A third affine layer has 100 activations and does 2 affine transformations to create an embedding for visualization. There is no non-linearity here.\n",
    "- A final \"logistic regression\" which has an affine transform from 2 inputs to 1 output, which is squeezed through a sigmoid.\n"
   ]
  },
  {
   "cell_type": "code",
   "execution_count": 17,
   "id": "2b9c66db",
   "metadata": {
    "execution": {
     "iopub.execute_input": "2022-10-02T10:10:40.414777Z",
     "iopub.status.busy": "2022-10-02T10:10:40.414049Z",
     "iopub.status.idle": "2022-10-02T10:10:40.426914Z",
     "shell.execute_reply": "2022-10-02T10:10:40.427413Z"
    },
    "papermill": {
     "duration": 0.044635,
     "end_time": "2022-10-02T10:10:40.427561",
     "exception": false,
     "start_time": "2022-10-02T10:10:40.382926",
     "status": "completed"
    },
    "tags": []
   },
   "outputs": [],
   "source": [
    "data = Data(X_train, y_train.reshape(-1,1))\n",
    "sampler = Sampler(data, config.bs, shuffle=True)\n",
    "\n",
    "dl = Dataloader(data, sampler)\n",
    "\n",
    "opt = GD(config.lr)\n",
    "loss = MSE()"
   ]
  },
  {
   "cell_type": "code",
   "execution_count": 18,
   "id": "b275e4c2",
   "metadata": {
    "execution": {
     "iopub.execute_input": "2022-10-02T10:10:40.498233Z",
     "iopub.status.busy": "2022-10-02T10:10:40.490877Z",
     "iopub.status.idle": "2022-10-02T10:10:40.500711Z",
     "shell.execute_reply": "2022-10-02T10:10:40.501268Z"
    },
    "papermill": {
     "duration": 0.046715,
     "end_time": "2022-10-02T10:10:40.501421",
     "exception": false,
     "start_time": "2022-10-02T10:10:40.454706",
     "status": "completed"
    },
    "tags": []
   },
   "outputs": [],
   "source": [
    "training_data_x = X_train\n",
    "testing_data_x = X_test\n",
    "training_data_y = y_train.reshape(-1,1)\n",
    "testing_data_y = y_test.reshape(-1,1)"
   ]
  },
  {
   "cell_type": "code",
   "execution_count": 19,
   "id": "76951160",
   "metadata": {
    "execution": {
     "iopub.execute_input": "2022-10-02T10:10:40.574275Z",
     "iopub.status.busy": "2022-10-02T10:10:40.570522Z",
     "iopub.status.idle": "2022-10-02T10:10:40.582109Z",
     "shell.execute_reply": "2022-10-02T10:10:40.580867Z"
    },
    "papermill": {
     "duration": 0.053896,
     "end_time": "2022-10-02T10:10:40.582247",
     "exception": false,
     "start_time": "2022-10-02T10:10:40.528351",
     "status": "completed"
    },
    "tags": []
   },
   "outputs": [
    {
     "name": "stdout",
     "output_type": "stream",
     "text": [
      "xavier\n",
      "xavier\n",
      "xavier\n",
      "xavier\n",
      "xavier\n"
     ]
    }
   ],
   "source": [
    "layers = [Affine(\"first\", 784, 100), Relu(\"first\"), Affine(\"second\", 100, 100), Relu(\"second\"), Affine(\"third\", 100, 2), Affine(\"last\", 2, 1), Sigmoid(\"last\")]\n",
    "model_nn = Model(layers)\n",
    "model_lr = Model([Affine(\"logits\", 784, 1), Sigmoid(\"sigmoid\")])"
   ]
  },
  {
   "cell_type": "code",
   "execution_count": 20,
   "id": "6eede77a",
   "metadata": {
    "execution": {
     "iopub.execute_input": "2022-10-02T10:10:40.644825Z",
     "iopub.status.busy": "2022-10-02T10:10:40.644195Z",
     "iopub.status.idle": "2022-10-02T10:10:40.657006Z",
     "shell.execute_reply": "2022-10-02T10:10:40.656234Z"
    },
    "papermill": {
     "duration": 0.04739,
     "end_time": "2022-10-02T10:10:40.657165",
     "exception": false,
     "start_time": "2022-10-02T10:10:40.609775",
     "status": "completed"
    },
    "tags": []
   },
   "outputs": [],
   "source": [
    "nn_learner = Learner(loss, model_nn, opt, config.num_epochs)\n",
    "acc_nn = ClfCallback(nn_learner, config.bs, training_data_x , testing_data_x, training_data_y, testing_data_y)\n",
    "nn_learner.set_callbacks([acc_nn])"
   ]
  },
  {
   "cell_type": "code",
   "execution_count": 21,
   "id": "877b6cc7",
   "metadata": {
    "execution": {
     "iopub.execute_input": "2022-10-02T10:10:40.715760Z",
     "iopub.status.busy": "2022-10-02T10:10:40.715174Z",
     "iopub.status.idle": "2022-10-02T10:10:40.727579Z",
     "shell.execute_reply": "2022-10-02T10:10:40.728003Z"
    },
    "papermill": {
     "duration": 0.043958,
     "end_time": "2022-10-02T10:10:40.728142",
     "exception": false,
     "start_time": "2022-10-02T10:10:40.684184",
     "status": "completed"
    },
    "tags": []
   },
   "outputs": [],
   "source": [
    "lr_learner = Learner(loss, model_lr, opt, config.num_epochs)\n",
    "acc_lr = ClfCallback(lr_learner, config.bs, training_data_x , testing_data_x, training_data_y, testing_data_y)\n",
    "lr_learner.set_callbacks([acc_lr])"
   ]
  },
  {
   "cell_type": "code",
   "execution_count": 22,
   "id": "d9b133c3",
   "metadata": {
    "execution": {
     "iopub.execute_input": "2022-10-02T10:10:40.792813Z",
     "iopub.status.busy": "2022-10-02T10:10:40.792200Z",
     "iopub.status.idle": "2022-10-02T10:11:59.629149Z",
     "shell.execute_reply": "2022-10-02T10:11:59.630058Z"
    },
    "papermill": {
     "duration": 78.874924,
     "end_time": "2022-10-02T10:11:59.630221",
     "exception": false,
     "start_time": "2022-10-02T10:10:40.755297",
     "status": "completed"
    },
    "tags": []
   },
   "outputs": [
    {
     "name": "stdout",
     "output_type": "stream",
     "text": [
      "Epoch 0, Loss 0.2108\n",
      "Training Accuracy: 0.8188, Testing Accuracy: 0.8221\n",
      "\n"
     ]
    },
    {
     "name": "stdout",
     "output_type": "stream",
     "text": [
      "Epoch 10, Loss 0.0483\n",
      "Training Accuracy: 0.9494, Testing Accuracy: 0.9582\n",
      "\n"
     ]
    },
    {
     "name": "stdout",
     "output_type": "stream",
     "text": [
      "Epoch 20, Loss 0.0364\n",
      "Training Accuracy: 0.9597, Testing Accuracy: 0.9652\n",
      "\n"
     ]
    },
    {
     "name": "stdout",
     "output_type": "stream",
     "text": [
      "Epoch 30, Loss 0.0313\n",
      "Training Accuracy: 0.9641, Testing Accuracy: 0.9693\n",
      "\n"
     ]
    },
    {
     "name": "stdout",
     "output_type": "stream",
     "text": [
      "Epoch 40, Loss 0.0283\n",
      "Training Accuracy: 0.9670, Testing Accuracy: 0.9718\n",
      "\n"
     ]
    },
    {
     "name": "stdout",
     "output_type": "stream",
     "text": [
      "Epoch 50, Loss 0.0261\n",
      "Training Accuracy: 0.9696, Testing Accuracy: 0.9733\n",
      "\n"
     ]
    },
    {
     "name": "stdout",
     "output_type": "stream",
     "text": [
      "Epoch 60, Loss 0.0245\n",
      "Training Accuracy: 0.9713, Testing Accuracy: 0.9748\n",
      "\n"
     ]
    },
    {
     "name": "stdout",
     "output_type": "stream",
     "text": [
      "Epoch 70, Loss 0.0231\n",
      "Training Accuracy: 0.9738, Testing Accuracy: 0.9753\n",
      "\n"
     ]
    },
    {
     "name": "stdout",
     "output_type": "stream",
     "text": [
      "Epoch 80, Loss 0.022\n",
      "Training Accuracy: 0.9750, Testing Accuracy: 0.9748\n",
      "\n"
     ]
    },
    {
     "name": "stdout",
     "output_type": "stream",
     "text": [
      "Epoch 90, Loss 0.0211\n",
      "Training Accuracy: 0.9765, Testing Accuracy: 0.9748\n",
      "\n"
     ]
    },
    {
     "name": "stdout",
     "output_type": "stream",
     "text": [
      "Epoch 100, Loss 0.0202\n",
      "Training Accuracy: 0.9781, Testing Accuracy: 0.9743\n",
      "\n"
     ]
    },
    {
     "name": "stdout",
     "output_type": "stream",
     "text": [
      "Epoch 110, Loss 0.0195\n",
      "Training Accuracy: 0.9791, Testing Accuracy: 0.9748\n",
      "\n"
     ]
    },
    {
     "name": "stdout",
     "output_type": "stream",
     "text": [
      "Epoch 120, Loss 0.0188\n",
      "Training Accuracy: 0.9798, Testing Accuracy: 0.9748\n",
      "\n"
     ]
    },
    {
     "name": "stdout",
     "output_type": "stream",
     "text": [
      "Epoch 130, Loss 0.0181\n",
      "Training Accuracy: 0.9810, Testing Accuracy: 0.9768\n",
      "\n"
     ]
    },
    {
     "name": "stdout",
     "output_type": "stream",
     "text": [
      "Epoch 140, Loss 0.0175\n",
      "Training Accuracy: 0.9814, Testing Accuracy: 0.9768\n",
      "\n"
     ]
    },
    {
     "name": "stdout",
     "output_type": "stream",
     "text": [
      "Epoch 150, Loss 0.017\n",
      "Training Accuracy: 0.9819, Testing Accuracy: 0.9773\n",
      "\n"
     ]
    },
    {
     "name": "stdout",
     "output_type": "stream",
     "text": [
      "Epoch 160, Loss 0.0165\n",
      "Training Accuracy: 0.9825, Testing Accuracy: 0.9768\n",
      "\n"
     ]
    },
    {
     "name": "stdout",
     "output_type": "stream",
     "text": [
      "Epoch 170, Loss 0.0159\n",
      "Training Accuracy: 0.9828, Testing Accuracy: 0.9773\n",
      "\n"
     ]
    },
    {
     "name": "stdout",
     "output_type": "stream",
     "text": [
      "Epoch 180, Loss 0.0155\n",
      "Training Accuracy: 0.9837, Testing Accuracy: 0.9778\n",
      "\n"
     ]
    },
    {
     "name": "stdout",
     "output_type": "stream",
     "text": [
      "Epoch 190, Loss 0.015\n",
      "Training Accuracy: 0.9847, Testing Accuracy: 0.9778\n",
      "\n"
     ]
    },
    {
     "name": "stdout",
     "output_type": "stream",
     "text": [
      "Epoch 200, Loss 0.0146\n",
      "Training Accuracy: 0.9854, Testing Accuracy: 0.9778\n",
      "\n"
     ]
    },
    {
     "name": "stdout",
     "output_type": "stream",
     "text": [
      "Epoch 210, Loss 0.0141\n",
      "Training Accuracy: 0.9857, Testing Accuracy: 0.9793\n",
      "\n"
     ]
    },
    {
     "name": "stdout",
     "output_type": "stream",
     "text": [
      "Epoch 220, Loss 0.0137\n",
      "Training Accuracy: 0.9862, Testing Accuracy: 0.9793\n",
      "\n"
     ]
    },
    {
     "name": "stdout",
     "output_type": "stream",
     "text": [
      "Epoch 230, Loss 0.0133\n",
      "Training Accuracy: 0.9866, Testing Accuracy: 0.9793\n",
      "\n"
     ]
    },
    {
     "name": "stdout",
     "output_type": "stream",
     "text": [
      "Epoch 240, Loss 0.013\n",
      "Training Accuracy: 0.9875, Testing Accuracy: 0.9798\n",
      "\n"
     ]
    },
    {
     "data": {
      "text/plain": [
       "0.00328669888042085"
      ]
     },
     "execution_count": 22,
     "metadata": {},
     "output_type": "execute_result"
    }
   ],
   "source": [
    "nn_learner.train_loop(dl)"
   ]
  },
  {
   "cell_type": "code",
   "execution_count": 23,
   "id": "e0163366",
   "metadata": {
    "execution": {
     "iopub.execute_input": "2022-10-02T10:11:59.713528Z",
     "iopub.status.busy": "2022-10-02T10:11:59.712870Z",
     "iopub.status.idle": "2022-10-02T10:12:13.896408Z",
     "shell.execute_reply": "2022-10-02T10:12:13.897274Z"
    },
    "papermill": {
     "duration": 14.232292,
     "end_time": "2022-10-02T10:12:13.897432",
     "exception": false,
     "start_time": "2022-10-02T10:11:59.665140",
     "status": "completed"
    },
    "tags": []
   },
   "outputs": [
    {
     "name": "stdout",
     "output_type": "stream",
     "text": [
      "Epoch 0, Loss 0.2541\n",
      "Training Accuracy: 0.6243, Testing Accuracy: 0.6280\n",
      "\n"
     ]
    },
    {
     "name": "stdout",
     "output_type": "stream",
     "text": [
      "Epoch 10, Loss 0.1094\n",
      "Training Accuracy: 0.8958, Testing Accuracy: 0.9052\n",
      "\n"
     ]
    },
    {
     "name": "stdout",
     "output_type": "stream",
     "text": [
      "Epoch 20, Loss 0.0833\n",
      "Training Accuracy: 0.9189, Testing Accuracy: 0.9279\n",
      "\n"
     ]
    },
    {
     "name": "stdout",
     "output_type": "stream",
     "text": [
      "Epoch 30, Loss 0.0711\n",
      "Training Accuracy: 0.9309, Testing Accuracy: 0.9430\n",
      "\n"
     ]
    },
    {
     "name": "stdout",
     "output_type": "stream",
     "text": [
      "Epoch 40, Loss 0.0638\n",
      "Training Accuracy: 0.9369, Testing Accuracy: 0.9501\n",
      "\n"
     ]
    },
    {
     "name": "stdout",
     "output_type": "stream",
     "text": [
      "Epoch 50, Loss 0.0588\n",
      "Training Accuracy: 0.9412, Testing Accuracy: 0.9541\n",
      "\n"
     ]
    },
    {
     "name": "stdout",
     "output_type": "stream",
     "text": [
      "Epoch 60, Loss 0.0552\n",
      "Training Accuracy: 0.9453, Testing Accuracy: 0.9556\n",
      "\n"
     ]
    },
    {
     "name": "stdout",
     "output_type": "stream",
     "text": [
      "Epoch 70, Loss 0.0524\n",
      "Training Accuracy: 0.9476, Testing Accuracy: 0.9582\n",
      "\n"
     ]
    },
    {
     "name": "stdout",
     "output_type": "stream",
     "text": [
      "Epoch 80, Loss 0.0502\n",
      "Training Accuracy: 0.9488, Testing Accuracy: 0.9582\n",
      "\n"
     ]
    },
    {
     "name": "stdout",
     "output_type": "stream",
     "text": [
      "Epoch 90, Loss 0.0484\n",
      "Training Accuracy: 0.9513, Testing Accuracy: 0.9602\n",
      "\n"
     ]
    },
    {
     "name": "stdout",
     "output_type": "stream",
     "text": [
      "Epoch 100, Loss 0.0469\n",
      "Training Accuracy: 0.9526, Testing Accuracy: 0.9607\n",
      "\n"
     ]
    },
    {
     "name": "stdout",
     "output_type": "stream",
     "text": [
      "Epoch 110, Loss 0.0456\n",
      "Training Accuracy: 0.9534, Testing Accuracy: 0.9627\n",
      "\n"
     ]
    },
    {
     "name": "stdout",
     "output_type": "stream",
     "text": [
      "Epoch 120, Loss 0.0444\n",
      "Training Accuracy: 0.9543, Testing Accuracy: 0.9647\n",
      "\n"
     ]
    },
    {
     "name": "stdout",
     "output_type": "stream",
     "text": [
      "Epoch 130, Loss 0.0434\n",
      "Training Accuracy: 0.9553, Testing Accuracy: 0.9647\n",
      "\n"
     ]
    },
    {
     "name": "stdout",
     "output_type": "stream",
     "text": [
      "Epoch 140, Loss 0.0425\n",
      "Training Accuracy: 0.9560, Testing Accuracy: 0.9657\n",
      "\n"
     ]
    },
    {
     "name": "stdout",
     "output_type": "stream",
     "text": [
      "Epoch 150, Loss 0.0418\n",
      "Training Accuracy: 0.9568, Testing Accuracy: 0.9672\n",
      "\n"
     ]
    },
    {
     "name": "stdout",
     "output_type": "stream",
     "text": [
      "Epoch 160, Loss 0.041\n",
      "Training Accuracy: 0.9570, Testing Accuracy: 0.9672\n",
      "\n"
     ]
    },
    {
     "name": "stdout",
     "output_type": "stream",
     "text": [
      "Epoch 170, Loss 0.0404\n",
      "Training Accuracy: 0.9574, Testing Accuracy: 0.9682\n",
      "\n"
     ]
    },
    {
     "name": "stdout",
     "output_type": "stream",
     "text": [
      "Epoch 180, Loss 0.0398\n",
      "Training Accuracy: 0.9577, Testing Accuracy: 0.9682\n",
      "\n"
     ]
    },
    {
     "name": "stdout",
     "output_type": "stream",
     "text": [
      "Epoch 190, Loss 0.0393\n",
      "Training Accuracy: 0.9579, Testing Accuracy: 0.9672\n",
      "\n"
     ]
    },
    {
     "name": "stdout",
     "output_type": "stream",
     "text": [
      "Epoch 200, Loss 0.0388\n",
      "Training Accuracy: 0.9584, Testing Accuracy: 0.9667\n",
      "\n"
     ]
    },
    {
     "name": "stdout",
     "output_type": "stream",
     "text": [
      "Epoch 210, Loss 0.0383\n",
      "Training Accuracy: 0.9588, Testing Accuracy: 0.9667\n",
      "\n"
     ]
    },
    {
     "name": "stdout",
     "output_type": "stream",
     "text": [
      "Epoch 220, Loss 0.0379\n",
      "Training Accuracy: 0.9594, Testing Accuracy: 0.9672\n",
      "\n"
     ]
    },
    {
     "name": "stdout",
     "output_type": "stream",
     "text": [
      "Epoch 230, Loss 0.0375\n",
      "Training Accuracy: 0.9602, Testing Accuracy: 0.9662\n",
      "\n"
     ]
    },
    {
     "name": "stdout",
     "output_type": "stream",
     "text": [
      "Epoch 240, Loss 0.0371\n",
      "Training Accuracy: 0.9605, Testing Accuracy: 0.9662\n",
      "\n"
     ]
    },
    {
     "data": {
      "text/plain": [
       "0.0281237819335948"
      ]
     },
     "execution_count": 23,
     "metadata": {},
     "output_type": "execute_result"
    }
   ],
   "source": [
    "lr_learner.train_loop(dl)"
   ]
  },
  {
   "cell_type": "code",
   "execution_count": 24,
   "id": "ca410940",
   "metadata": {
    "execution": {
     "iopub.execute_input": "2022-10-02T10:12:13.987165Z",
     "iopub.status.busy": "2022-10-02T10:12:13.986565Z",
     "iopub.status.idle": "2022-10-02T10:12:14.223890Z",
     "shell.execute_reply": "2022-10-02T10:12:14.223385Z"
    },
    "papermill": {
     "duration": 0.285608,
     "end_time": "2022-10-02T10:12:14.224016",
     "exception": false,
     "start_time": "2022-10-02T10:12:13.938408",
     "status": "completed"
    },
    "tags": []
   },
   "outputs": [
    {
     "data": {
      "text/plain": [
       "<matplotlib.legend.Legend at 0x7f0c456ed358>"
      ]
     },
     "execution_count": 24,
     "metadata": {},
     "output_type": "execute_result"
    },
    {
     "data": {
      "image/png": "[encoded data removed]",
      "text/plain": [
       "<Figure size 1080x720 with 1 Axes>"
      ]
     },
     "metadata": {
      "needs_background": "light"
     },
     "output_type": "display_data"
    }
   ],
   "source": [
    "#comparing the results of NN and LR\n",
    "plt.figure(figsize=(15,10))\n",
    "\n",
    "# Neural Network plots\n",
    "plt.plot(acc_nn.accuracies, 'r-', label = \"Training Accuracies - NN\")\n",
    "plt.plot(acc_nn.test_accuracies, 'g-', label = \"Testing Accuracies - NN\")\n",
    "\n",
    "# Logistic Regression plots\n",
    "plt.plot(acc_lr.accuracies, 'k-', label = \"Training Accuracies - LR\")\n",
    "plt.plot(acc_lr.test_accuracies, 'b-', label = \"Testing Accuracies - LR\")\n",
    "plt.legend()"
   ]
  },
  {
   "cell_type": "markdown",
   "id": "80dfb35c",
   "metadata": {
    "papermill": {
     "duration": 0.042288,
     "end_time": "2022-10-02T10:12:14.308540",
     "exception": false,
     "start_time": "2022-10-02T10:12:14.266252",
     "status": "completed"
    },
    "tags": []
   },
   "source": [
    "#### Plotting the outputs of this layer of the NN.\n"
   ]
  },
  {
   "cell_type": "code",
   "execution_count": 25,
   "id": "45eb2ff5",
   "metadata": {
    "execution": {
     "iopub.execute_input": "2022-10-02T10:12:14.396551Z",
     "iopub.status.busy": "2022-10-02T10:12:14.395941Z",
     "iopub.status.idle": "2022-10-02T10:12:14.417093Z",
     "shell.execute_reply": "2022-10-02T10:12:14.417593Z"
    },
    "papermill": {
     "duration": 0.067557,
     "end_time": "2022-10-02T10:12:14.417742",
     "exception": false,
     "start_time": "2022-10-02T10:12:14.350185",
     "status": "completed"
    },
    "tags": []
   },
   "outputs": [],
   "source": [
    "new_model = Model(layers[:-2])\n",
    "testing_plot = new_model(testing_data_x)"
   ]
  },
  {
   "cell_type": "code",
   "execution_count": 26,
   "id": "4c0a5485",
   "metadata": {
    "execution": {
     "iopub.execute_input": "2022-10-02T10:12:14.506224Z",
     "iopub.status.busy": "2022-10-02T10:12:14.505636Z",
     "iopub.status.idle": "2022-10-02T10:12:14.691596Z",
     "shell.execute_reply": "2022-10-02T10:12:14.691119Z"
    },
    "papermill": {
     "duration": 0.232044,
     "end_time": "2022-10-02T10:12:14.691723",
     "exception": false,
     "start_time": "2022-10-02T10:12:14.459679",
     "status": "completed"
    },
    "tags": []
   },
   "outputs": [
    {
     "data": {
      "text/plain": [
       "Text(0.5, 1.0, 'Outputs')"
      ]
     },
     "execution_count": 26,
     "metadata": {},
     "output_type": "execute_result"
    },
    {
     "data": {
      "image/png": "[encoded data removed]",
      "text/plain": [
       "<Figure size 576x504 with 1 Axes>"
      ]
     },
     "metadata": {
      "needs_background": "light"
     },
     "output_type": "display_data"
    }
   ],
   "source": [
    "# Plotting the scatter plot of points and color coding by class\n",
    "plt.figure(figsize=(8,7))\n",
    "plt.scatter(testing_plot[:,0], testing_plot[:,1], alpha = 0.1, c = y_test.ravel());\n",
    "plt.title('Outputs')"
   ]
  },
  {
   "cell_type": "markdown",
   "id": "a74fcf8f",
   "metadata": {
    "papermill": {
     "duration": 0.044078,
     "end_time": "2022-10-02T10:12:14.779921",
     "exception": false,
     "start_time": "2022-10-02T10:12:14.735843",
     "status": "completed"
    },
    "tags": []
   },
   "source": [
    "Probability contours"
   ]
  },
  {
   "cell_type": "code",
   "execution_count": 27,
   "id": "d0afc8e3",
   "metadata": {
    "execution": {
     "iopub.execute_input": "2022-10-02T10:12:14.874278Z",
     "iopub.status.busy": "2022-10-02T10:12:14.872335Z",
     "iopub.status.idle": "2022-10-02T10:12:14.884239Z",
     "shell.execute_reply": "2022-10-02T10:12:14.884700Z"
    },
    "papermill": {
     "duration": 0.060377,
     "end_time": "2022-10-02T10:12:14.884836",
     "exception": false,
     "start_time": "2022-10-02T10:12:14.824459",
     "status": "completed"
    },
    "tags": []
   },
   "outputs": [],
   "source": [
    "model_prob = Model(layers[-2:]) "
   ]
  },
  {
   "cell_type": "code",
   "execution_count": 28,
   "id": "9b96e238",
   "metadata": {
    "execution": {
     "iopub.execute_input": "2022-10-02T10:12:15.008927Z",
     "iopub.status.busy": "2022-10-02T10:12:15.008334Z",
     "iopub.status.idle": "2022-10-02T10:12:15.021782Z",
     "shell.execute_reply": "2022-10-02T10:12:15.022217Z"
    },
    "papermill": {
     "duration": 0.093535,
     "end_time": "2022-10-02T10:12:15.022358",
     "exception": false,
     "start_time": "2022-10-02T10:12:14.928823",
     "status": "completed"
    },
    "tags": []
   },
   "outputs": [],
   "source": [
    "#creating the x and y ranges according to the above generated plot.\n",
    "x_range = np.linspace(-4, 1, 100) \n",
    "y_range = np.linspace(-6, 6, 100) \n",
    "x_grid, y_grid = np.meshgrid(x_range, y_range) # x_grid and y_grig are of size 100 X 100\n",
    "\n",
    "# converting x_grid and y_grid to continuous arrays\n",
    "x_gridflat = np.ravel(x_grid)\n",
    "y_gridflat = np.ravel(y_grid)\n",
    "\n",
    "# The last layer of the current model takes two columns as input. Hence transpose of np.vstack() is required.\n",
    "X = np.vstack((x_gridflat, y_gridflat)).T\n",
    "\n",
    "prob_contour = model_prob(X).reshape(100,100) "
   ]
  },
  {
   "cell_type": "code",
   "execution_count": 29,
   "id": "da72499a",
   "metadata": {
    "execution": {
     "iopub.execute_input": "2022-10-02T10:12:15.123356Z",
     "iopub.status.busy": "2022-10-02T10:12:15.122738Z",
     "iopub.status.idle": "2022-10-02T10:12:15.364595Z",
     "shell.execute_reply": "2022-10-02T10:12:15.364050Z"
    },
    "papermill": {
     "duration": 0.297531,
     "end_time": "2022-10-02T10:12:15.364735",
     "exception": false,
     "start_time": "2022-10-02T10:12:15.067204",
     "status": "completed"
    },
    "tags": []
   },
   "outputs": [
    {
     "data": {
      "image/png": "[encoded data removed]",
      "text/plain": [
       "<Figure size 720x648 with 1 Axes>"
      ]
     },
     "metadata": {
      "needs_background": "light"
     },
     "output_type": "display_data"
    }
   ],
   "source": [
    "plt.figure(figsize=(10,9))\n",
    "plt.scatter(testing_plot[:,0], testing_plot[:,1], alpha = 0.1, c = y_test.ravel())\n",
    "contours = plt.contour(x_grid,y_grid,prob_contour)\n",
    "plt.title('Probability Contours')\n",
    "plt.clabel(contours, inline = True );"
   ]
  },
  {
   "cell_type": "code",
   "execution_count": null,
   "id": "e81b4ac7",
   "metadata": {
    "papermill": {
     "duration": 0.046786,
     "end_time": "2022-10-02T10:12:15.459207",
     "exception": false,
     "start_time": "2022-10-02T10:12:15.412421",
     "status": "completed"
    },
    "tags": []
   },
   "outputs": [],
   "source": []
  }
 ],
 "metadata": {
  "kernelspec": {
   "display_name": "Python 3",
   "language": "python",
   "name": "python3"
  },
  "language_info": {
   "codemirror_mode": {
    "name": "ipython",
    "version": 3
   },
   "file_extension": ".py",
   "mimetype": "text/x-python",
   "name": "python",
   "nbconvert_exporter": "python",
   "pygments_lexer": "ipython3",
   "version": "3.6.15"
  },
  "papermill": {
   "default_parameters": {},
   "duration": 100.989661,
   "end_time": "2022-10-02T10:12:15.925653",
   "environment_variables": {},
   "exception": null,
   "input_path": "2020-08-11-part2.ipynb",
   "output_path": "2020-08-11-part2.ipynb",
   "parameters": {},
   "start_time": "2022-10-02T10:10:34.935992",
   "version": "2.3.3"
  }
 },
 "nbformat": 4,
 "nbformat_minor": 5
}