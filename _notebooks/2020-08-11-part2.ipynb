{
 "cells": [
  {
   "cell_type": "markdown",
   "id": "98380cd3",
   "metadata": {
    "papermill": {
     "duration": 0.042012,
     "end_time": "2022-06-20T20:10:17.204145",
     "exception": false,
     "start_time": "2022-06-20T20:10:17.162133",
     "status": "completed"
    },
    "tags": []
   },
   "source": [
    "# Distinguish Your Own Digits (DYOD)"
   ]
  },
  {
   "cell_type": "markdown",
   "id": "ef31240d",
   "metadata": {
    "papermill": {
     "duration": 0.032925,
     "end_time": "2022-06-20T20:10:17.270788",
     "exception": false,
     "start_time": "2022-06-20T20:10:17.237863",
     "status": "completed"
    },
    "tags": []
   },
   "source": [
    "You are going to write a classifier that distinguishes between the number 3 and number 8."
   ]
  },
  {
   "cell_type": "code",
   "execution_count": 1,
   "id": "b15c8646",
   "metadata": {
    "execution": {
     "iopub.execute_input": "2022-06-20T20:10:17.351073Z",
     "iopub.status.busy": "2022-06-20T20:10:17.350229Z",
     "iopub.status.idle": "2022-06-20T20:10:17.365227Z",
     "shell.execute_reply": "2022-06-20T20:10:17.364548Z"
    },
    "papermill": {
     "duration": 0.061234,
     "end_time": "2022-06-20T20:10:17.365413",
     "exception": false,
     "start_time": "2022-06-20T20:10:17.304179",
     "status": "completed"
    },
    "tags": []
   },
   "outputs": [],
   "source": [
    "%load_ext autoreload\n",
    "%autoreload 2"
   ]
  },
  {
   "cell_type": "code",
   "execution_count": 2,
   "id": "22ef38dc",
   "metadata": {
    "execution": {
     "iopub.execute_input": "2022-06-20T20:10:17.437035Z",
     "iopub.status.busy": "2022-06-20T20:10:17.436228Z",
     "iopub.status.idle": "2022-06-20T20:10:18.141772Z",
     "shell.execute_reply": "2022-06-20T20:10:18.141110Z"
    },
    "papermill": {
     "duration": 0.745129,
     "end_time": "2022-06-20T20:10:18.141960",
     "exception": false,
     "start_time": "2022-06-20T20:10:17.396831",
     "status": "completed"
    },
    "tags": []
   },
   "outputs": [],
   "source": [
    "%matplotlib inline\n",
    "import numpy as np\n",
    "import matplotlib.pyplot as plt\n",
    "import pandas as pd"
   ]
  },
  {
   "cell_type": "markdown",
   "id": "ba036198",
   "metadata": {
    "papermill": {
     "duration": 0.030806,
     "end_time": "2022-06-20T20:10:18.205013",
     "exception": false,
     "start_time": "2022-06-20T20:10:18.174207",
     "status": "completed"
    },
    "tags": []
   },
   "source": [
    "From the command line run `pip install mnist`. This is a library that will help you bring down the mnist dataset. If you run this from a notebook, you need to put  `!pip install mnist` in a cell by itself."
   ]
  },
  {
   "cell_type": "code",
   "execution_count": 3,
   "id": "bb6ad8a1",
   "metadata": {
    "execution": {
     "iopub.execute_input": "2022-06-20T20:10:18.270956Z",
     "iopub.status.busy": "2022-06-20T20:10:18.270208Z",
     "iopub.status.idle": "2022-06-20T20:10:20.303349Z",
     "shell.execute_reply": "2022-06-20T20:10:20.302352Z"
    },
    "papermill": {
     "duration": 2.068545,
     "end_time": "2022-06-20T20:10:20.303501",
     "exception": false,
     "start_time": "2022-06-20T20:10:18.234956",
     "status": "completed"
    },
    "tags": []
   },
   "outputs": [
    {
     "name": "stdout",
     "output_type": "stream",
     "text": [
      "Collecting mnist\r\n"
     ]
    },
    {
     "name": "stdout",
     "output_type": "stream",
     "text": [
      "  Downloading mnist-0.2.2-py2.py3-none-any.whl (3.5 kB)\r\n",
      "Requirement already satisfied: numpy in /opt/hostedtoolcache/Python/3.6.15/x64/lib/python3.6/site-packages (from mnist) (1.19.5)\r\n"
     ]
    },
    {
     "name": "stdout",
     "output_type": "stream",
     "text": [
      "Installing collected packages: mnist\r\n"
     ]
    },
    {
     "name": "stdout",
     "output_type": "stream",
     "text": [
      "Successfully installed mnist-0.2.2\r\n"
     ]
    }
   ],
   "source": [
    "!pip install mnist"
   ]
  },
  {
   "cell_type": "markdown",
   "id": "69df9c9a",
   "metadata": {
    "papermill": {
     "duration": 0.033789,
     "end_time": "2022-06-20T20:10:20.371455",
     "exception": false,
     "start_time": "2022-06-20T20:10:20.337666",
     "status": "completed"
    },
    "tags": []
   },
   "source": [
    "## Preparing the Data"
   ]
  },
  {
   "cell_type": "code",
   "execution_count": 4,
   "id": "7f69d806",
   "metadata": {
    "execution": {
     "iopub.execute_input": "2022-06-20T20:10:20.448693Z",
     "iopub.status.busy": "2022-06-20T20:10:20.442498Z",
     "iopub.status.idle": "2022-06-20T20:10:20.461214Z",
     "shell.execute_reply": "2022-06-20T20:10:20.460428Z"
    },
    "papermill": {
     "duration": 0.056993,
     "end_time": "2022-06-20T20:10:20.461375",
     "exception": false,
     "start_time": "2022-06-20T20:10:20.404382",
     "status": "completed"
    },
    "tags": []
   },
   "outputs": [],
   "source": [
    "import mnist"
   ]
  },
  {
   "cell_type": "code",
   "execution_count": 5,
   "id": "a411e44f",
   "metadata": {
    "execution": {
     "iopub.execute_input": "2022-06-20T20:10:20.538811Z",
     "iopub.status.busy": "2022-06-20T20:10:20.536247Z",
     "iopub.status.idle": "2022-06-20T20:10:21.090640Z",
     "shell.execute_reply": "2022-06-20T20:10:21.091225Z"
    },
    "papermill": {
     "duration": 0.593718,
     "end_time": "2022-06-20T20:10:21.091405",
     "exception": false,
     "start_time": "2022-06-20T20:10:20.497687",
     "status": "completed"
    },
    "tags": []
   },
   "outputs": [],
   "source": [
    "train_images = mnist.train_images()\n",
    "train_labels = mnist.train_labels()"
   ]
  },
  {
   "cell_type": "code",
   "execution_count": 6,
   "id": "dceab3a5",
   "metadata": {
    "execution": {
     "iopub.execute_input": "2022-06-20T20:10:21.164453Z",
     "iopub.status.busy": "2022-06-20T20:10:21.163633Z",
     "iopub.status.idle": "2022-06-20T20:10:21.182329Z",
     "shell.execute_reply": "2022-06-20T20:10:21.181694Z"
    },
    "papermill": {
     "duration": 0.056919,
     "end_time": "2022-06-20T20:10:21.182466",
     "exception": false,
     "start_time": "2022-06-20T20:10:21.125547",
     "status": "completed"
    },
    "tags": []
   },
   "outputs": [
    {
     "data": {
      "text/plain": [
       "((60000, 28, 28), (60000,))"
      ]
     },
     "execution_count": 6,
     "metadata": {},
     "output_type": "execute_result"
    }
   ],
   "source": [
    "train_images.shape, train_labels.shape"
   ]
  },
  {
   "cell_type": "code",
   "execution_count": 7,
   "id": "f50dc2bb",
   "metadata": {
    "execution": {
     "iopub.execute_input": "2022-06-20T20:10:21.255369Z",
     "iopub.status.busy": "2022-06-20T20:10:21.254586Z",
     "iopub.status.idle": "2022-06-20T20:10:21.385081Z",
     "shell.execute_reply": "2022-06-20T20:10:21.383707Z"
    },
    "papermill": {
     "duration": 0.168534,
     "end_time": "2022-06-20T20:10:21.385235",
     "exception": false,
     "start_time": "2022-06-20T20:10:21.216701",
     "status": "completed"
    },
    "tags": []
   },
   "outputs": [],
   "source": [
    "test_images = mnist.test_images()\n",
    "test_labels = mnist.test_labels()"
   ]
  },
  {
   "cell_type": "code",
   "execution_count": 8,
   "id": "fc38cf1b",
   "metadata": {
    "execution": {
     "iopub.execute_input": "2022-06-20T20:10:21.462927Z",
     "iopub.status.busy": "2022-06-20T20:10:21.460133Z",
     "iopub.status.idle": "2022-06-20T20:10:21.476276Z",
     "shell.execute_reply": "2022-06-20T20:10:21.476848Z"
    },
    "papermill": {
     "duration": 0.05751,
     "end_time": "2022-06-20T20:10:21.477008",
     "exception": false,
     "start_time": "2022-06-20T20:10:21.419498",
     "status": "completed"
    },
    "tags": []
   },
   "outputs": [
    {
     "data": {
      "text/plain": [
       "((10000, 28, 28), (10000,))"
      ]
     },
     "execution_count": 8,
     "metadata": {},
     "output_type": "execute_result"
    }
   ],
   "source": [
    "test_images.shape, test_labels.shape"
   ]
  },
  {
   "cell_type": "code",
   "execution_count": 9,
   "id": "f9ed8fe0",
   "metadata": {
    "execution": {
     "iopub.execute_input": "2022-06-20T20:10:21.555041Z",
     "iopub.status.busy": "2022-06-20T20:10:21.552524Z",
     "iopub.status.idle": "2022-06-20T20:10:21.749642Z",
     "shell.execute_reply": "2022-06-20T20:10:21.750247Z"
    },
    "papermill": {
     "duration": 0.238361,
     "end_time": "2022-06-20T20:10:21.750417",
     "exception": false,
     "start_time": "2022-06-20T20:10:21.512056",
     "status": "completed"
    },
    "tags": []
   },
   "outputs": [
    {
     "name": "stdout",
     "output_type": "stream",
     "text": [
      "2\n"
     ]
    },
    {
     "data": {
      "text/plain": [
       "<matplotlib.image.AxesImage at 0x7fea814c2438>"
      ]
     },
     "execution_count": 9,
     "metadata": {},
     "output_type": "execute_result"
    },
    {
     "data": {
      "image/png": "[encoded data removed]",
      "text/plain": [
       "<Figure size 432x288 with 1 Axes>"
      ]
     },
     "metadata": {
      "needs_background": "light"
     },
     "output_type": "display_data"
    }
   ],
   "source": [
    "image_index = 7776 # You may select anything up to 60,000\n",
    "print(train_labels[image_index]) \n",
    "plt.imshow(train_images[image_index], cmap='Greys')"
   ]
  },
  {
   "cell_type": "markdown",
   "id": "a8d2388d",
   "metadata": {
    "papermill": {
     "duration": 0.035596,
     "end_time": "2022-06-20T20:10:21.821692",
     "exception": false,
     "start_time": "2022-06-20T20:10:21.786096",
     "status": "completed"
    },
    "tags": []
   },
   "source": [
    "## Filter data to get 3 and 8 out"
   ]
  },
  {
   "cell_type": "code",
   "execution_count": 10,
   "id": "776f7fc7",
   "metadata": {
    "execution": {
     "iopub.execute_input": "2022-06-20T20:10:21.902496Z",
     "iopub.status.busy": "2022-06-20T20:10:21.901705Z",
     "iopub.status.idle": "2022-06-20T20:10:21.926724Z",
     "shell.execute_reply": "2022-06-20T20:10:21.926023Z"
    },
    "papermill": {
     "duration": 0.0662,
     "end_time": "2022-06-20T20:10:21.926864",
     "exception": false,
     "start_time": "2022-06-20T20:10:21.860664",
     "status": "completed"
    },
    "tags": []
   },
   "outputs": [],
   "source": [
    "train_filter = np.where((train_labels == 3 ) | (train_labels == 8))\n",
    "test_filter = np.where((test_labels == 3) | (test_labels == 8))\n",
    "X_train, y_train = train_images[train_filter], train_labels[train_filter]\n",
    "X_test, y_test = test_images[test_filter], test_labels[test_filter]"
   ]
  },
  {
   "cell_type": "markdown",
   "id": "948f0b7e",
   "metadata": {
    "papermill": {
     "duration": 0.035415,
     "end_time": "2022-06-20T20:10:21.998201",
     "exception": false,
     "start_time": "2022-06-20T20:10:21.962786",
     "status": "completed"
    },
    "tags": []
   },
   "source": [
    "We normalize the pizel values in the 0 to 1 range"
   ]
  },
  {
   "cell_type": "code",
   "execution_count": 11,
   "id": "ee4c2166",
   "metadata": {
    "execution": {
     "iopub.execute_input": "2022-06-20T20:10:22.078408Z",
     "iopub.status.busy": "2022-06-20T20:10:22.077516Z",
     "iopub.status.idle": "2022-06-20T20:10:22.143832Z",
     "shell.execute_reply": "2022-06-20T20:10:22.143053Z"
    },
    "papermill": {
     "duration": 0.109527,
     "end_time": "2022-06-20T20:10:22.143987",
     "exception": false,
     "start_time": "2022-06-20T20:10:22.034460",
     "status": "completed"
    },
    "tags": []
   },
   "outputs": [],
   "source": [
    "X_train = X_train/255.\n",
    "X_test = X_test/255."
   ]
  },
  {
   "cell_type": "markdown",
   "id": "ddcf4fab",
   "metadata": {
    "papermill": {
     "duration": 0.03594,
     "end_time": "2022-06-20T20:10:22.216594",
     "exception": false,
     "start_time": "2022-06-20T20:10:22.180654",
     "status": "completed"
    },
    "tags": []
   },
   "source": [
    "And setup the labels as 1 (when the digit is 3) and 0 (when the digit is 8)"
   ]
  },
  {
   "cell_type": "code",
   "execution_count": 12,
   "id": "7dc908f2",
   "metadata": {
    "execution": {
     "iopub.execute_input": "2022-06-20T20:10:22.296359Z",
     "iopub.status.busy": "2022-06-20T20:10:22.295611Z",
     "iopub.status.idle": "2022-06-20T20:10:22.310152Z",
     "shell.execute_reply": "2022-06-20T20:10:22.309316Z"
    },
    "papermill": {
     "duration": 0.056787,
     "end_time": "2022-06-20T20:10:22.310320",
     "exception": false,
     "start_time": "2022-06-20T20:10:22.253533",
     "status": "completed"
    },
    "tags": []
   },
   "outputs": [],
   "source": [
    "y_train = 1*(y_train==3)\n",
    "y_test = 1*(y_test==3)"
   ]
  },
  {
   "cell_type": "code",
   "execution_count": 13,
   "id": "01e4e969",
   "metadata": {
    "execution": {
     "iopub.execute_input": "2022-06-20T20:10:22.388310Z",
     "iopub.status.busy": "2022-06-20T20:10:22.387373Z",
     "iopub.status.idle": "2022-06-20T20:10:22.405014Z",
     "shell.execute_reply": "2022-06-20T20:10:22.404416Z"
    },
    "papermill": {
     "duration": 0.058932,
     "end_time": "2022-06-20T20:10:22.405149",
     "exception": false,
     "start_time": "2022-06-20T20:10:22.346217",
     "status": "completed"
    },
    "tags": []
   },
   "outputs": [
    {
     "data": {
      "text/plain": [
       "((11982, 28, 28), (1984, 28, 28))"
      ]
     },
     "execution_count": 13,
     "metadata": {},
     "output_type": "execute_result"
    }
   ],
   "source": [
    "X_train.shape, X_test.shape"
   ]
  },
  {
   "cell_type": "markdown",
   "id": "5ccf3f85",
   "metadata": {
    "papermill": {
     "duration": 0.034906,
     "end_time": "2022-06-20T20:10:22.475968",
     "exception": false,
     "start_time": "2022-06-20T20:10:22.441062",
     "status": "completed"
    },
    "tags": []
   },
   "source": [
    "We reshape the data to flatten the image pixels into a set of features or co-variates:"
   ]
  },
  {
   "cell_type": "code",
   "execution_count": 14,
   "id": "5286a4a3",
   "metadata": {
    "execution": {
     "iopub.execute_input": "2022-06-20T20:10:22.550127Z",
     "iopub.status.busy": "2022-06-20T20:10:22.549389Z",
     "iopub.status.idle": "2022-06-20T20:10:22.565928Z",
     "shell.execute_reply": "2022-06-20T20:10:22.566549Z"
    },
    "papermill": {
     "duration": 0.056282,
     "end_time": "2022-06-20T20:10:22.566703",
     "exception": false,
     "start_time": "2022-06-20T20:10:22.510421",
     "status": "completed"
    },
    "tags": []
   },
   "outputs": [
    {
     "data": {
      "text/plain": [
       "((11982, 784), (1984, 784))"
      ]
     },
     "execution_count": 14,
     "metadata": {},
     "output_type": "execute_result"
    }
   ],
   "source": [
    "X_train = X_train.reshape(X_train.shape[0], -1)\n",
    "X_test = X_test.reshape(X_test.shape[0], -1)\n",
    "X_train.shape, X_test.shape"
   ]
  },
  {
   "cell_type": "code",
   "execution_count": 15,
   "id": "73c5f88a",
   "metadata": {
    "execution": {
     "iopub.execute_input": "2022-06-20T20:10:22.640706Z",
     "iopub.status.busy": "2022-06-20T20:10:22.639815Z",
     "iopub.status.idle": "2022-06-20T20:10:22.664003Z",
     "shell.execute_reply": "2022-06-20T20:10:22.663122Z"
    },
    "papermill": {
     "duration": 0.06354,
     "end_time": "2022-06-20T20:10:22.664140",
     "exception": false,
     "start_time": "2022-06-20T20:10:22.600600",
     "status": "completed"
    },
    "tags": []
   },
   "outputs": [],
   "source": [
    "#Impoting functions from 'Kudzu'\n",
    "from kudzu.model import Model\n",
    "from kudzu.train import Learner\n",
    "from kudzu.optim import GD\n",
    "from kudzu.data import Data, Sampler,Dataloader\n",
    "\n",
    "from kudzu.callbacks import AccCallback\n",
    "from kudzu.callbacks import ClfCallback\n",
    "\n",
    "from kudzu.loss import MSE\n",
    "\n",
    "from kudzu.layer import Sigmoid,Relu\n",
    "from kudzu.layer import Affine"
   ]
  },
  {
   "cell_type": "markdown",
   "id": "bc01172a",
   "metadata": {
    "papermill": {
     "duration": 0.037325,
     "end_time": "2022-06-20T20:10:22.737344",
     "exception": false,
     "start_time": "2022-06-20T20:10:22.700019",
     "status": "completed"
    },
    "tags": []
   },
   "source": [
    "### Let us create a `Config` class, to store important parameters. \n",
    "This class essentially plays the role of a dictionary."
   ]
  },
  {
   "cell_type": "code",
   "execution_count": 16,
   "id": "978281aa",
   "metadata": {
    "execution": {
     "iopub.execute_input": "2022-06-20T20:10:22.815662Z",
     "iopub.status.busy": "2022-06-20T20:10:22.814803Z",
     "iopub.status.idle": "2022-06-20T20:10:22.830523Z",
     "shell.execute_reply": "2022-06-20T20:10:22.829906Z"
    },
    "papermill": {
     "duration": 0.056348,
     "end_time": "2022-06-20T20:10:22.830663",
     "exception": false,
     "start_time": "2022-06-20T20:10:22.774315",
     "status": "completed"
    },
    "tags": []
   },
   "outputs": [],
   "source": [
    "class Config:\n",
    "    pass\n",
    "config = Config()\n",
    "config.lr = 0.001\n",
    "config.num_epochs = 250\n",
    "config.bs = 50"
   ]
  },
  {
   "cell_type": "markdown",
   "id": "1385fa59",
   "metadata": {
    "papermill": {
     "duration": 0.034567,
     "end_time": "2022-06-20T20:10:22.901229",
     "exception": false,
     "start_time": "2022-06-20T20:10:22.866662",
     "status": "completed"
    },
    "tags": []
   },
   "source": [
    "### Running Models with the Training data\n",
    "Details about the network layers:\n",
    "- A first affine layer has 784 inputs and does 100 affine transforms. These are followed by a Relu\n",
    "- A second affine layer has 100 inputs from the 100 activations of the past layer, and does 100 affine transforms. These are followed by a Relu\n",
    "- A third affine layer has 100 activations and does 2 affine transformations to create an embedding for visualization. There is no non-linearity here.\n",
    "- A final \"logistic regression\" which has an affine transform from 2 inputs to 1 output, which is squeezed through a sigmoid.\n"
   ]
  },
  {
   "cell_type": "code",
   "execution_count": 17,
   "id": "2b9c66db",
   "metadata": {
    "execution": {
     "iopub.execute_input": "2022-06-20T20:10:22.978623Z",
     "iopub.status.busy": "2022-06-20T20:10:22.977816Z",
     "iopub.status.idle": "2022-06-20T20:10:22.993072Z",
     "shell.execute_reply": "2022-06-20T20:10:22.992355Z"
    },
    "papermill": {
     "duration": 0.057628,
     "end_time": "2022-06-20T20:10:22.993203",
     "exception": false,
     "start_time": "2022-06-20T20:10:22.935575",
     "status": "completed"
    },
    "tags": []
   },
   "outputs": [],
   "source": [
    "data = Data(X_train, y_train.reshape(-1,1))\n",
    "sampler = Sampler(data, config.bs, shuffle=True)\n",
    "\n",
    "dl = Dataloader(data, sampler)\n",
    "\n",
    "opt = GD(config.lr)\n",
    "loss = MSE()"
   ]
  },
  {
   "cell_type": "code",
   "execution_count": 18,
   "id": "b275e4c2",
   "metadata": {
    "execution": {
     "iopub.execute_input": "2022-06-20T20:10:23.072074Z",
     "iopub.status.busy": "2022-06-20T20:10:23.071250Z",
     "iopub.status.idle": "2022-06-20T20:10:23.086061Z",
     "shell.execute_reply": "2022-06-20T20:10:23.085394Z"
    },
    "papermill": {
     "duration": 0.057059,
     "end_time": "2022-06-20T20:10:23.086194",
     "exception": false,
     "start_time": "2022-06-20T20:10:23.029135",
     "status": "completed"
    },
    "tags": []
   },
   "outputs": [],
   "source": [
    "training_data_x = X_train\n",
    "testing_data_x = X_test\n",
    "training_data_y = y_train.reshape(-1,1)\n",
    "testing_data_y = y_test.reshape(-1,1)"
   ]
  },
  {
   "cell_type": "code",
   "execution_count": 19,
   "id": "76951160",
   "metadata": {
    "execution": {
     "iopub.execute_input": "2022-06-20T20:10:23.163251Z",
     "iopub.status.busy": "2022-06-20T20:10:23.162442Z",
     "iopub.status.idle": "2022-06-20T20:10:23.183569Z",
     "shell.execute_reply": "2022-06-20T20:10:23.182769Z"
    },
    "papermill": {
     "duration": 0.061629,
     "end_time": "2022-06-20T20:10:23.183734",
     "exception": false,
     "start_time": "2022-06-20T20:10:23.122105",
     "status": "completed"
    },
    "tags": []
   },
   "outputs": [
    {
     "name": "stdout",
     "output_type": "stream",
     "text": [
      "xavier\n",
      "xavier\n",
      "xavier\n",
      "xavier\n",
      "xavier\n"
     ]
    }
   ],
   "source": [
    "layers = [Affine(\"first\", 784, 100), Relu(\"first\"), Affine(\"second\", 100, 100), Relu(\"second\"), Affine(\"third\", 100, 2), Affine(\"last\", 2, 1), Sigmoid(\"last\")]\n",
    "model_nn = Model(layers)\n",
    "model_lr = Model([Affine(\"logits\", 784, 1), Sigmoid(\"sigmoid\")])"
   ]
  },
  {
   "cell_type": "code",
   "execution_count": 20,
   "id": "6eede77a",
   "metadata": {
    "execution": {
     "iopub.execute_input": "2022-06-20T20:10:23.261075Z",
     "iopub.status.busy": "2022-06-20T20:10:23.260189Z",
     "iopub.status.idle": "2022-06-20T20:10:23.275479Z",
     "shell.execute_reply": "2022-06-20T20:10:23.274747Z"
    },
    "papermill": {
     "duration": 0.056276,
     "end_time": "2022-06-20T20:10:23.275618",
     "exception": false,
     "start_time": "2022-06-20T20:10:23.219342",
     "status": "completed"
    },
    "tags": []
   },
   "outputs": [],
   "source": [
    "nn_learner = Learner(loss, model_nn, opt, config.num_epochs)\n",
    "acc_nn = ClfCallback(nn_learner, config.bs, training_data_x , testing_data_x, training_data_y, testing_data_y)\n",
    "nn_learner.set_callbacks([acc_nn])"
   ]
  },
  {
   "cell_type": "code",
   "execution_count": 21,
   "id": "877b6cc7",
   "metadata": {
    "execution": {
     "iopub.execute_input": "2022-06-20T20:10:23.351539Z",
     "iopub.status.busy": "2022-06-20T20:10:23.350734Z",
     "iopub.status.idle": "2022-06-20T20:10:23.365938Z",
     "shell.execute_reply": "2022-06-20T20:10:23.365332Z"
    },
    "papermill": {
     "duration": 0.054812,
     "end_time": "2022-06-20T20:10:23.366065",
     "exception": false,
     "start_time": "2022-06-20T20:10:23.311253",
     "status": "completed"
    },
    "tags": []
   },
   "outputs": [],
   "source": [
    "lr_learner = Learner(loss, model_lr, opt, config.num_epochs)\n",
    "acc_lr = ClfCallback(lr_learner, config.bs, training_data_x , testing_data_x, training_data_y, testing_data_y)\n",
    "lr_learner.set_callbacks([acc_lr])"
   ]
  },
  {
   "cell_type": "code",
   "execution_count": 22,
   "id": "d9b133c3",
   "metadata": {
    "execution": {
     "iopub.execute_input": "2022-06-20T20:10:23.446794Z",
     "iopub.status.busy": "2022-06-20T20:10:23.446012Z",
     "iopub.status.idle": "2022-06-20T20:12:46.543204Z",
     "shell.execute_reply": "2022-06-20T20:12:46.544290Z"
    },
    "papermill": {
     "duration": 143.140806,
     "end_time": "2022-06-20T20:12:46.544460",
     "exception": false,
     "start_time": "2022-06-20T20:10:23.403654",
     "status": "completed"
    },
    "tags": []
   },
   "outputs": [
    {
     "name": "stdout",
     "output_type": "stream",
     "text": [
      "Epoch 0, Loss 0.2499\n",
      "Training Accuracy: 0.5205, Testing Accuracy: 0.5328\n",
      "\n"
     ]
    },
    {
     "name": "stdout",
     "output_type": "stream",
     "text": [
      "Epoch 10, Loss 0.2007\n",
      "Training Accuracy: 0.8687, Testing Accuracy: 0.8926\n",
      "\n"
     ]
    },
    {
     "name": "stdout",
     "output_type": "stream",
     "text": [
      "Epoch 20, Loss 0.1063\n",
      "Training Accuracy: 0.9039, Testing Accuracy: 0.9183\n",
      "\n"
     ]
    },
    {
     "name": "stdout",
     "output_type": "stream",
     "text": [
      "Epoch 30, Loss 0.0673\n",
      "Training Accuracy: 0.9292, Testing Accuracy: 0.9390\n",
      "\n"
     ]
    },
    {
     "name": "stdout",
     "output_type": "stream",
     "text": [
      "Epoch 40, Loss 0.0523\n",
      "Training Accuracy: 0.9413, Testing Accuracy: 0.9536\n",
      "\n"
     ]
    },
    {
     "name": "stdout",
     "output_type": "stream",
     "text": [
      "Epoch 50, Loss 0.0445\n",
      "Training Accuracy: 0.9485, Testing Accuracy: 0.9607\n",
      "\n"
     ]
    },
    {
     "name": "stdout",
     "output_type": "stream",
     "text": [
      "Epoch 60, Loss 0.0399\n",
      "Training Accuracy: 0.9527, Testing Accuracy: 0.9642\n",
      "\n"
     ]
    },
    {
     "name": "stdout",
     "output_type": "stream",
     "text": [
      "Epoch 70, Loss 0.0367\n",
      "Training Accuracy: 0.9559, Testing Accuracy: 0.9662\n",
      "\n"
     ]
    },
    {
     "name": "stdout",
     "output_type": "stream",
     "text": [
      "Epoch 80, Loss 0.0343\n",
      "Training Accuracy: 0.9591, Testing Accuracy: 0.9662\n",
      "\n"
     ]
    },
    {
     "name": "stdout",
     "output_type": "stream",
     "text": [
      "Epoch 90, Loss 0.0325\n",
      "Training Accuracy: 0.9616, Testing Accuracy: 0.9672\n",
      "\n"
     ]
    },
    {
     "name": "stdout",
     "output_type": "stream",
     "text": [
      "Epoch 100, Loss 0.031\n",
      "Training Accuracy: 0.9636, Testing Accuracy: 0.9672\n",
      "\n"
     ]
    },
    {
     "name": "stdout",
     "output_type": "stream",
     "text": [
      "Epoch 110, Loss 0.0298\n",
      "Training Accuracy: 0.9656, Testing Accuracy: 0.9677\n",
      "\n"
     ]
    },
    {
     "name": "stdout",
     "output_type": "stream",
     "text": [
      "Epoch 120, Loss 0.0287\n",
      "Training Accuracy: 0.9670, Testing Accuracy: 0.9688\n",
      "\n"
     ]
    },
    {
     "name": "stdout",
     "output_type": "stream",
     "text": [
      "Epoch 130, Loss 0.0277\n",
      "Training Accuracy: 0.9682, Testing Accuracy: 0.9688\n",
      "\n"
     ]
    },
    {
     "name": "stdout",
     "output_type": "stream",
     "text": [
      "Epoch 140, Loss 0.0269\n",
      "Training Accuracy: 0.9695, Testing Accuracy: 0.9693\n",
      "\n"
     ]
    },
    {
     "name": "stdout",
     "output_type": "stream",
     "text": [
      "Epoch 150, Loss 0.0262\n",
      "Training Accuracy: 0.9703, Testing Accuracy: 0.9698\n",
      "\n"
     ]
    },
    {
     "name": "stdout",
     "output_type": "stream",
     "text": [
      "Epoch 160, Loss 0.0255\n",
      "Training Accuracy: 0.9711, Testing Accuracy: 0.9703\n",
      "\n"
     ]
    },
    {
     "name": "stdout",
     "output_type": "stream",
     "text": [
      "Epoch 170, Loss 0.0249\n",
      "Training Accuracy: 0.9717, Testing Accuracy: 0.9708\n",
      "\n"
     ]
    },
    {
     "name": "stdout",
     "output_type": "stream",
     "text": [
      "Epoch 180, Loss 0.0243\n",
      "Training Accuracy: 0.9725, Testing Accuracy: 0.9718\n",
      "\n"
     ]
    },
    {
     "name": "stdout",
     "output_type": "stream",
     "text": [
      "Epoch 190, Loss 0.0238\n",
      "Training Accuracy: 0.9730, Testing Accuracy: 0.9713\n",
      "\n"
     ]
    },
    {
     "name": "stdout",
     "output_type": "stream",
     "text": [
      "Epoch 200, Loss 0.0233\n",
      "Training Accuracy: 0.9735, Testing Accuracy: 0.9718\n",
      "\n"
     ]
    },
    {
     "name": "stdout",
     "output_type": "stream",
     "text": [
      "Epoch 210, Loss 0.0228\n",
      "Training Accuracy: 0.9744, Testing Accuracy: 0.9723\n",
      "\n"
     ]
    },
    {
     "name": "stdout",
     "output_type": "stream",
     "text": [
      "Epoch 220, Loss 0.0223\n",
      "Training Accuracy: 0.9749, Testing Accuracy: 0.9723\n",
      "\n"
     ]
    },
    {
     "name": "stdout",
     "output_type": "stream",
     "text": [
      "Epoch 230, Loss 0.0219\n",
      "Training Accuracy: 0.9750, Testing Accuracy: 0.9718\n",
      "\n"
     ]
    },
    {
     "name": "stdout",
     "output_type": "stream",
     "text": [
      "Epoch 240, Loss 0.0215\n",
      "Training Accuracy: 0.9752, Testing Accuracy: 0.9728\n",
      "\n"
     ]
    },
    {
     "data": {
      "text/plain": [
       "0.061234875852237566"
      ]
     },
     "execution_count": 22,
     "metadata": {},
     "output_type": "execute_result"
    }
   ],
   "source": [
    "nn_learner.train_loop(dl)"
   ]
  },
  {
   "cell_type": "code",
   "execution_count": 23,
   "id": "e0163366",
   "metadata": {
    "execution": {
     "iopub.execute_input": "2022-06-20T20:12:46.647748Z",
     "iopub.status.busy": "2022-06-20T20:12:46.647007Z",
     "iopub.status.idle": "2022-06-20T20:13:07.079816Z",
     "shell.execute_reply": "2022-06-20T20:13:07.080886Z"
    },
    "papermill": {
     "duration": 20.489367,
     "end_time": "2022-06-20T20:13:07.081065",
     "exception": false,
     "start_time": "2022-06-20T20:12:46.591698",
     "status": "completed"
    },
    "tags": []
   },
   "outputs": [
    {
     "name": "stdout",
     "output_type": "stream",
     "text": [
      "Epoch 0, Loss 0.211\n",
      "Training Accuracy: 0.7727, Testing Accuracy: 0.7586\n",
      "\n"
     ]
    },
    {
     "name": "stdout",
     "output_type": "stream",
     "text": [
      "Epoch 10, Loss 0.101\n",
      "Training Accuracy: 0.9089, Testing Accuracy: 0.9219\n",
      "\n"
     ]
    },
    {
     "name": "stdout",
     "output_type": "stream",
     "text": [
      "Epoch 20, Loss 0.0781\n",
      "Training Accuracy: 0.9308, Testing Accuracy: 0.9441\n",
      "\n"
     ]
    },
    {
     "name": "stdout",
     "output_type": "stream",
     "text": [
      "Epoch 30, Loss 0.0672\n",
      "Training Accuracy: 0.9379, Testing Accuracy: 0.9501\n",
      "\n"
     ]
    },
    {
     "name": "stdout",
     "output_type": "stream",
     "text": [
      "Epoch 40, Loss 0.0607\n",
      "Training Accuracy: 0.9429, Testing Accuracy: 0.9551\n",
      "\n"
     ]
    },
    {
     "name": "stdout",
     "output_type": "stream",
     "text": [
      "Epoch 50, Loss 0.0563\n",
      "Training Accuracy: 0.9471, Testing Accuracy: 0.9582\n",
      "\n"
     ]
    },
    {
     "name": "stdout",
     "output_type": "stream",
     "text": [
      "Epoch 60, Loss 0.053\n",
      "Training Accuracy: 0.9487, Testing Accuracy: 0.9607\n",
      "\n"
     ]
    },
    {
     "name": "stdout",
     "output_type": "stream",
     "text": [
      "Epoch 70, Loss 0.0505\n",
      "Training Accuracy: 0.9508, Testing Accuracy: 0.9622\n",
      "\n"
     ]
    },
    {
     "name": "stdout",
     "output_type": "stream",
     "text": [
      "Epoch 80, Loss 0.0486\n",
      "Training Accuracy: 0.9524, Testing Accuracy: 0.9617\n",
      "\n"
     ]
    },
    {
     "name": "stdout",
     "output_type": "stream",
     "text": [
      "Epoch 90, Loss 0.0469\n",
      "Training Accuracy: 0.9540, Testing Accuracy: 0.9632\n",
      "\n"
     ]
    },
    {
     "name": "stdout",
     "output_type": "stream",
     "text": [
      "Epoch 100, Loss 0.0455\n",
      "Training Accuracy: 0.9547, Testing Accuracy: 0.9647\n",
      "\n"
     ]
    },
    {
     "name": "stdout",
     "output_type": "stream",
     "text": [
      "Epoch 110, Loss 0.0444\n",
      "Training Accuracy: 0.9559, Testing Accuracy: 0.9652\n",
      "\n"
     ]
    },
    {
     "name": "stdout",
     "output_type": "stream",
     "text": [
      "Epoch 120, Loss 0.0433\n",
      "Training Accuracy: 0.9570, Testing Accuracy: 0.9662\n",
      "\n"
     ]
    },
    {
     "name": "stdout",
     "output_type": "stream",
     "text": [
      "Epoch 130, Loss 0.0424\n",
      "Training Accuracy: 0.9577, Testing Accuracy: 0.9667\n",
      "\n"
     ]
    },
    {
     "name": "stdout",
     "output_type": "stream",
     "text": [
      "Epoch 140, Loss 0.0416\n",
      "Training Accuracy: 0.9579, Testing Accuracy: 0.9677\n",
      "\n"
     ]
    },
    {
     "name": "stdout",
     "output_type": "stream",
     "text": [
      "Epoch 150, Loss 0.0409\n",
      "Training Accuracy: 0.9585, Testing Accuracy: 0.9677\n",
      "\n"
     ]
    },
    {
     "name": "stdout",
     "output_type": "stream",
     "text": [
      "Epoch 160, Loss 0.0402\n",
      "Training Accuracy: 0.9589, Testing Accuracy: 0.9672\n",
      "\n"
     ]
    },
    {
     "name": "stdout",
     "output_type": "stream",
     "text": [
      "Epoch 170, Loss 0.0396\n",
      "Training Accuracy: 0.9593, Testing Accuracy: 0.9677\n",
      "\n"
     ]
    },
    {
     "name": "stdout",
     "output_type": "stream",
     "text": [
      "Epoch 180, Loss 0.0391\n",
      "Training Accuracy: 0.9592, Testing Accuracy: 0.9677\n",
      "\n"
     ]
    },
    {
     "name": "stdout",
     "output_type": "stream",
     "text": [
      "Epoch 190, Loss 0.0386\n",
      "Training Accuracy: 0.9600, Testing Accuracy: 0.9672\n",
      "\n"
     ]
    },
    {
     "name": "stdout",
     "output_type": "stream",
     "text": [
      "Epoch 200, Loss 0.0381\n",
      "Training Accuracy: 0.9602, Testing Accuracy: 0.9672\n",
      "\n"
     ]
    },
    {
     "name": "stdout",
     "output_type": "stream",
     "text": [
      "Epoch 210, Loss 0.0377\n",
      "Training Accuracy: 0.9603, Testing Accuracy: 0.9682\n",
      "\n"
     ]
    },
    {
     "name": "stdout",
     "output_type": "stream",
     "text": [
      "Epoch 220, Loss 0.0373\n",
      "Training Accuracy: 0.9605, Testing Accuracy: 0.9682\n",
      "\n"
     ]
    },
    {
     "name": "stdout",
     "output_type": "stream",
     "text": [
      "Epoch 230, Loss 0.0369\n",
      "Training Accuracy: 0.9606, Testing Accuracy: 0.9682\n",
      "\n"
     ]
    },
    {
     "name": "stdout",
     "output_type": "stream",
     "text": [
      "Epoch 240, Loss 0.0366\n",
      "Training Accuracy: 0.9607, Testing Accuracy: 0.9688\n",
      "\n"
     ]
    },
    {
     "data": {
      "text/plain": [
       "0.023605573674804425"
      ]
     },
     "execution_count": 23,
     "metadata": {},
     "output_type": "execute_result"
    }
   ],
   "source": [
    "lr_learner.train_loop(dl)"
   ]
  },
  {
   "cell_type": "code",
   "execution_count": 24,
   "id": "ca410940",
   "metadata": {
    "execution": {
     "iopub.execute_input": "2022-06-20T20:13:07.198233Z",
     "iopub.status.busy": "2022-06-20T20:13:07.197440Z",
     "iopub.status.idle": "2022-06-20T20:13:07.505716Z",
     "shell.execute_reply": "2022-06-20T20:13:07.506382Z"
    },
    "papermill": {
     "duration": 0.369663,
     "end_time": "2022-06-20T20:13:07.506546",
     "exception": false,
     "start_time": "2022-06-20T20:13:07.136883",
     "status": "completed"
    },
    "tags": []
   },
   "outputs": [
    {
     "data": {
      "text/plain": [
       "<matplotlib.legend.Legend at 0x7fea81021a90>"
      ]
     },
     "execution_count": 24,
     "metadata": {},
     "output_type": "execute_result"
    },
    {
     "data": {
      "image/png": "[encoded data removed]",
      "text/plain": [
       "<Figure size 1080x720 with 1 Axes>"
      ]
     },
     "metadata": {
      "needs_background": "light"
     },
     "output_type": "display_data"
    }
   ],
   "source": [
    "#comparing the results of NN and LR\n",
    "plt.figure(figsize=(15,10))\n",
    "\n",
    "# Neural Network plots\n",
    "plt.plot(acc_nn.accuracies, 'r-', label = \"Training Accuracies - NN\")\n",
    "plt.plot(acc_nn.test_accuracies, 'g-', label = \"Testing Accuracies - NN\")\n",
    "\n",
    "# Logistic Regression plots\n",
    "plt.plot(acc_lr.accuracies, 'k-', label = \"Training Accuracies - LR\")\n",
    "plt.plot(acc_lr.test_accuracies, 'b-', label = \"Testing Accuracies - LR\")\n",
    "plt.legend()"
   ]
  },
  {
   "cell_type": "markdown",
   "id": "80dfb35c",
   "metadata": {
    "papermill": {
     "duration": 0.053723,
     "end_time": "2022-06-20T20:13:07.613268",
     "exception": false,
     "start_time": "2022-06-20T20:13:07.559545",
     "status": "completed"
    },
    "tags": []
   },
   "source": [
    "#### Plotting the outputs of this layer of the NN.\n"
   ]
  },
  {
   "cell_type": "code",
   "execution_count": 25,
   "id": "45eb2ff5",
   "metadata": {
    "execution": {
     "iopub.execute_input": "2022-06-20T20:13:07.730776Z",
     "iopub.status.busy": "2022-06-20T20:13:07.729980Z",
     "iopub.status.idle": "2022-06-20T20:13:07.759258Z",
     "shell.execute_reply": "2022-06-20T20:13:07.758165Z"
    },
    "papermill": {
     "duration": 0.091058,
     "end_time": "2022-06-20T20:13:07.759399",
     "exception": false,
     "start_time": "2022-06-20T20:13:07.668341",
     "status": "completed"
    },
    "tags": []
   },
   "outputs": [],
   "source": [
    "new_model = Model(layers[:-2])\n",
    "testing_plot = new_model(testing_data_x)"
   ]
  },
  {
   "cell_type": "code",
   "execution_count": 26,
   "id": "4c0a5485",
   "metadata": {
    "execution": {
     "iopub.execute_input": "2022-06-20T20:13:07.877524Z",
     "iopub.status.busy": "2022-06-20T20:13:07.876771Z",
     "iopub.status.idle": "2022-06-20T20:13:08.150003Z",
     "shell.execute_reply": "2022-06-20T20:13:08.149318Z"
    },
    "papermill": {
     "duration": 0.33522,
     "end_time": "2022-06-20T20:13:08.150153",
     "exception": false,
     "start_time": "2022-06-20T20:13:07.814933",
     "status": "completed"
    },
    "tags": []
   },
   "outputs": [
    {
     "data": {
      "text/plain": [
       "Text(0.5, 1.0, 'Outputs')"
      ]
     },
     "execution_count": 26,
     "metadata": {},
     "output_type": "execute_result"
    },
    {
     "data": {
      "image/png": "[encoded data removed]",
      "text/plain": [
       "<Figure size 576x504 with 1 Axes>"
      ]
     },
     "metadata": {
      "needs_background": "light"
     },
     "output_type": "display_data"
    }
   ],
   "source": [
    "# Plotting the scatter plot of points and color coding by class\n",
    "plt.figure(figsize=(8,7))\n",
    "plt.scatter(testing_plot[:,0], testing_plot[:,1], alpha = 0.1, c = y_test.ravel());\n",
    "plt.title('Outputs')"
   ]
  },
  {
   "cell_type": "markdown",
   "id": "a74fcf8f",
   "metadata": {
    "papermill": {
     "duration": 0.084521,
     "end_time": "2022-06-20T20:13:08.292952",
     "exception": false,
     "start_time": "2022-06-20T20:13:08.208431",
     "status": "completed"
    },
    "tags": []
   },
   "source": [
    "Probability contours"
   ]
  },
  {
   "cell_type": "code",
   "execution_count": 27,
   "id": "d0afc8e3",
   "metadata": {
    "execution": {
     "iopub.execute_input": "2022-06-20T20:13:08.416551Z",
     "iopub.status.busy": "2022-06-20T20:13:08.415783Z",
     "iopub.status.idle": "2022-06-20T20:13:08.433164Z",
     "shell.execute_reply": "2022-06-20T20:13:08.432506Z"
    },
    "papermill": {
     "duration": 0.080382,
     "end_time": "2022-06-20T20:13:08.433325",
     "exception": false,
     "start_time": "2022-06-20T20:13:08.352943",
     "status": "completed"
    },
    "tags": []
   },
   "outputs": [],
   "source": [
    "model_prob = Model(layers[-2:]) "
   ]
  },
  {
   "cell_type": "code",
   "execution_count": 28,
   "id": "9b96e238",
   "metadata": {
    "execution": {
     "iopub.execute_input": "2022-06-20T20:13:08.567087Z",
     "iopub.status.busy": "2022-06-20T20:13:08.566309Z",
     "iopub.status.idle": "2022-06-20T20:13:08.584116Z",
     "shell.execute_reply": "2022-06-20T20:13:08.584675Z"
    },
    "papermill": {
     "duration": 0.083582,
     "end_time": "2022-06-20T20:13:08.584874",
     "exception": false,
     "start_time": "2022-06-20T20:13:08.501292",
     "status": "completed"
    },
    "tags": []
   },
   "outputs": [],
   "source": [
    "#creating the x and y ranges according to the above generated plot.\n",
    "x_range = np.linspace(-4, 1, 100) \n",
    "y_range = np.linspace(-6, 6, 100) \n",
    "x_grid, y_grid = np.meshgrid(x_range, y_range) # x_grid and y_grig are of size 100 X 100\n",
    "\n",
    "# converting x_grid and y_grid to continuous arrays\n",
    "x_gridflat = np.ravel(x_grid)\n",
    "y_gridflat = np.ravel(y_grid)\n",
    "\n",
    "# The last layer of the current model takes two columns as input. Hence transpose of np.vstack() is required.\n",
    "X = np.vstack((x_gridflat, y_gridflat)).T\n",
    "\n",
    "prob_contour = model_prob(X).reshape(100,100) "
   ]
  },
  {
   "cell_type": "code",
   "execution_count": 29,
   "id": "da72499a",
   "metadata": {
    "execution": {
     "iopub.execute_input": "2022-06-20T20:13:08.714648Z",
     "iopub.status.busy": "2022-06-20T20:13:08.713879Z",
     "iopub.status.idle": "2022-06-20T20:13:09.059479Z",
     "shell.execute_reply": "2022-06-20T20:13:09.058649Z"
    },
    "papermill": {
     "duration": 0.411422,
     "end_time": "2022-06-20T20:13:09.059628",
     "exception": false,
     "start_time": "2022-06-20T20:13:08.648206",
     "status": "completed"
    },
    "tags": []
   },
   "outputs": [
    {
     "data": {
      "image/png": "[encoded data removed]",
      "text/plain": [
       "<Figure size 720x648 with 1 Axes>"
      ]
     },
     "metadata": {
      "needs_background": "light"
     },
     "output_type": "display_data"
    }
   ],
   "source": [
    "plt.figure(figsize=(10,9))\n",
    "plt.scatter(testing_plot[:,0], testing_plot[:,1], alpha = 0.1, c = y_test.ravel())\n",
    "contours = plt.contour(x_grid,y_grid,prob_contour)\n",
    "plt.title('Probability Contours')\n",
    "plt.clabel(contours, inline = True );"
   ]
  },
  {
   "cell_type": "code",
   "execution_count": null,
   "id": "e81b4ac7",
   "metadata": {
    "papermill": {
     "duration": 0.061623,
     "end_time": "2022-06-20T20:13:09.183707",
     "exception": false,
     "start_time": "2022-06-20T20:13:09.122084",
     "status": "completed"
    },
    "tags": []
   },
   "outputs": [],
   "source": []
  }
 ],
 "metadata": {
  "kernelspec": {
   "display_name": "Python 3",
   "language": "python",
   "name": "python3"
  },
  "language_info": {
   "codemirror_mode": {
    "name": "ipython",
    "version": 3
   },
   "file_extension": ".py",
   "mimetype": "text/x-python",
   "name": "python",
   "nbconvert_exporter": "python",
   "pygments_lexer": "ipython3",
   "version": "3.6.15"
  },
  "papermill": {
   "default_parameters": {},
   "duration": 173.853762,
   "end_time": "2022-06-20T20:13:09.663597",
   "environment_variables": {},
   "exception": null,
   "input_path": "2020-08-11-part2.ipynb",
   "output_path": "2020-08-11-part2.ipynb",
   "parameters": {},
   "start_time": "2022-06-20T20:10:15.809835",
   "version": "2.3.3"
  }
 },
 "nbformat": 4,
 "nbformat_minor": 5
}