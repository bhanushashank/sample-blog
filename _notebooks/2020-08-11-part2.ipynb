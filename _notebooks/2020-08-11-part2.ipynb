{
 "cells": [
  {
   "cell_type": "markdown",
   "id": "98380cd3",
   "metadata": {
    "papermill": {
     "duration": 0.0288,
     "end_time": "2021-10-04T10:07:26.387605",
     "exception": false,
     "start_time": "2021-10-04T10:07:26.358805",
     "status": "completed"
    },
    "tags": []
   },
   "source": [
    "# Distinguish Your Own Digits (DYOD)"
   ]
  },
  {
   "cell_type": "markdown",
   "id": "ef31240d",
   "metadata": {
    "papermill": {
     "duration": 0.023676,
     "end_time": "2021-10-04T10:07:26.435799",
     "exception": false,
     "start_time": "2021-10-04T10:07:26.412123",
     "status": "completed"
    },
    "tags": []
   },
   "source": [
    "You are going to write a classifier that distinguishes between the number 3 and number 8."
   ]
  },
  {
   "cell_type": "code",
   "execution_count": 1,
   "id": "b15c8646",
   "metadata": {
    "execution": {
     "iopub.execute_input": "2021-10-04T10:07:26.495812Z",
     "iopub.status.busy": "2021-10-04T10:07:26.495205Z",
     "iopub.status.idle": "2021-10-04T10:07:26.505264Z",
     "shell.execute_reply": "2021-10-04T10:07:26.504808Z"
    },
    "papermill": {
     "duration": 0.04547,
     "end_time": "2021-10-04T10:07:26.505393",
     "exception": false,
     "start_time": "2021-10-04T10:07:26.459923",
     "status": "completed"
    },
    "tags": []
   },
   "outputs": [],
   "source": [
    "%load_ext autoreload\n",
    "%autoreload 2"
   ]
  },
  {
   "cell_type": "code",
   "execution_count": 2,
   "id": "22ef38dc",
   "metadata": {
    "execution": {
     "iopub.execute_input": "2021-10-04T10:07:26.564523Z",
     "iopub.status.busy": "2021-10-04T10:07:26.564001Z",
     "iopub.status.idle": "2021-10-04T10:07:27.078317Z",
     "shell.execute_reply": "2021-10-04T10:07:27.077797Z"
    },
    "papermill": {
     "duration": 0.549147,
     "end_time": "2021-10-04T10:07:27.078458",
     "exception": false,
     "start_time": "2021-10-04T10:07:26.529311",
     "status": "completed"
    },
    "tags": []
   },
   "outputs": [],
   "source": [
    "%matplotlib inline\n",
    "import numpy as np\n",
    "import matplotlib.pyplot as plt\n",
    "import pandas as pd"
   ]
  },
  {
   "cell_type": "markdown",
   "id": "ba036198",
   "metadata": {
    "papermill": {
     "duration": 0.023987,
     "end_time": "2021-10-04T10:07:27.126684",
     "exception": false,
     "start_time": "2021-10-04T10:07:27.102697",
     "status": "completed"
    },
    "tags": []
   },
   "source": [
    "From the command line run `pip install mnist`. This is a library that will help you bring down the mnist dataset. If you run this from a notebook, you need to put  `!pip install mnist` in a cell by itself."
   ]
  },
  {
   "cell_type": "code",
   "execution_count": 3,
   "id": "bb6ad8a1",
   "metadata": {
    "execution": {
     "iopub.execute_input": "2021-10-04T10:07:27.179581Z",
     "iopub.status.busy": "2021-10-04T10:07:27.179000Z",
     "iopub.status.idle": "2021-10-04T10:07:29.646445Z",
     "shell.execute_reply": "2021-10-04T10:07:29.645924Z"
    },
    "papermill": {
     "duration": 2.495953,
     "end_time": "2021-10-04T10:07:29.646582",
     "exception": false,
     "start_time": "2021-10-04T10:07:27.150629",
     "status": "completed"
    },
    "tags": []
   },
   "outputs": [
    {
     "name": "stdout",
     "output_type": "stream",
     "text": [
      "Collecting mnist\r\n"
     ]
    },
    {
     "name": "stdout",
     "output_type": "stream",
     "text": [
      "  Downloading mnist-0.2.2-py2.py3-none-any.whl (3.5 kB)\r\n",
      "Requirement already satisfied: numpy in /opt/hostedtoolcache/Python/3.6.15/x64/lib/python3.6/site-packages (from mnist) (1.19.5)\r\n"
     ]
    },
    {
     "name": "stdout",
     "output_type": "stream",
     "text": [
      "Installing collected packages: mnist\r\n"
     ]
    },
    {
     "name": "stdout",
     "output_type": "stream",
     "text": [
      "Successfully installed mnist-0.2.2\r\n"
     ]
    }
   ],
   "source": [
    "!pip install mnist"
   ]
  },
  {
   "cell_type": "markdown",
   "id": "69df9c9a",
   "metadata": {
    "papermill": {
     "duration": 0.025159,
     "end_time": "2021-10-04T10:07:29.697276",
     "exception": false,
     "start_time": "2021-10-04T10:07:29.672117",
     "status": "completed"
    },
    "tags": []
   },
   "source": [
    "## Preparing the Data"
   ]
  },
  {
   "cell_type": "code",
   "execution_count": 4,
   "id": "7f69d806",
   "metadata": {
    "execution": {
     "iopub.execute_input": "2021-10-04T10:07:29.751297Z",
     "iopub.status.busy": "2021-10-04T10:07:29.750766Z",
     "iopub.status.idle": "2021-10-04T10:07:29.764255Z",
     "shell.execute_reply": "2021-10-04T10:07:29.764643Z"
    },
    "papermill": {
     "duration": 0.042504,
     "end_time": "2021-10-04T10:07:29.764780",
     "exception": false,
     "start_time": "2021-10-04T10:07:29.722276",
     "status": "completed"
    },
    "tags": []
   },
   "outputs": [],
   "source": [
    "import mnist"
   ]
  },
  {
   "cell_type": "code",
   "execution_count": 5,
   "id": "a411e44f",
   "metadata": {
    "execution": {
     "iopub.execute_input": "2021-10-04T10:07:29.820123Z",
     "iopub.status.busy": "2021-10-04T10:07:29.819590Z",
     "iopub.status.idle": "2021-10-04T10:07:30.322161Z",
     "shell.execute_reply": "2021-10-04T10:07:30.321637Z"
    },
    "papermill": {
     "duration": 0.532147,
     "end_time": "2021-10-04T10:07:30.322304",
     "exception": false,
     "start_time": "2021-10-04T10:07:29.790157",
     "status": "completed"
    },
    "tags": []
   },
   "outputs": [],
   "source": [
    "train_images = mnist.train_images()\n",
    "train_labels = mnist.train_labels()"
   ]
  },
  {
   "cell_type": "code",
   "execution_count": 6,
   "id": "dceab3a5",
   "metadata": {
    "execution": {
     "iopub.execute_input": "2021-10-04T10:07:30.379944Z",
     "iopub.status.busy": "2021-10-04T10:07:30.379417Z",
     "iopub.status.idle": "2021-10-04T10:07:30.391592Z",
     "shell.execute_reply": "2021-10-04T10:07:30.392032Z"
    },
    "papermill": {
     "duration": 0.043641,
     "end_time": "2021-10-04T10:07:30.392165",
     "exception": false,
     "start_time": "2021-10-04T10:07:30.348524",
     "status": "completed"
    },
    "tags": []
   },
   "outputs": [
    {
     "data": {
      "text/plain": [
       "((60000, 28, 28), (60000,))"
      ]
     },
     "execution_count": 6,
     "metadata": {},
     "output_type": "execute_result"
    }
   ],
   "source": [
    "train_images.shape, train_labels.shape"
   ]
  },
  {
   "cell_type": "code",
   "execution_count": 7,
   "id": "f50dc2bb",
   "metadata": {
    "execution": {
     "iopub.execute_input": "2021-10-04T10:07:30.460441Z",
     "iopub.status.busy": "2021-10-04T10:07:30.458962Z",
     "iopub.status.idle": "2021-10-04T10:07:30.589796Z",
     "shell.execute_reply": "2021-10-04T10:07:30.590272Z"
    },
    "papermill": {
     "duration": 0.173176,
     "end_time": "2021-10-04T10:07:30.590435",
     "exception": false,
     "start_time": "2021-10-04T10:07:30.417259",
     "status": "completed"
    },
    "tags": []
   },
   "outputs": [],
   "source": [
    "test_images = mnist.test_images()\n",
    "test_labels = mnist.test_labels()"
   ]
  },
  {
   "cell_type": "code",
   "execution_count": 8,
   "id": "fc38cf1b",
   "metadata": {
    "execution": {
     "iopub.execute_input": "2021-10-04T10:07:30.645532Z",
     "iopub.status.busy": "2021-10-04T10:07:30.645011Z",
     "iopub.status.idle": "2021-10-04T10:07:30.658445Z",
     "shell.execute_reply": "2021-10-04T10:07:30.658030Z"
    },
    "papermill": {
     "duration": 0.042256,
     "end_time": "2021-10-04T10:07:30.658559",
     "exception": false,
     "start_time": "2021-10-04T10:07:30.616303",
     "status": "completed"
    },
    "tags": []
   },
   "outputs": [
    {
     "data": {
      "text/plain": [
       "((10000, 28, 28), (10000,))"
      ]
     },
     "execution_count": 8,
     "metadata": {},
     "output_type": "execute_result"
    }
   ],
   "source": [
    "test_images.shape, test_labels.shape"
   ]
  },
  {
   "cell_type": "code",
   "execution_count": 9,
   "id": "f9ed8fe0",
   "metadata": {
    "execution": {
     "iopub.execute_input": "2021-10-04T10:07:30.737147Z",
     "iopub.status.busy": "2021-10-04T10:07:30.718023Z",
     "iopub.status.idle": "2021-10-04T10:07:30.852024Z",
     "shell.execute_reply": "2021-10-04T10:07:30.851560Z"
    },
    "papermill": {
     "duration": 0.168329,
     "end_time": "2021-10-04T10:07:30.852143",
     "exception": false,
     "start_time": "2021-10-04T10:07:30.683814",
     "status": "completed"
    },
    "tags": []
   },
   "outputs": [
    {
     "name": "stdout",
     "output_type": "stream",
     "text": [
      "2\n"
     ]
    },
    {
     "data": {
      "text/plain": [
       "<matplotlib.image.AxesImage at 0x7fce21b48898>"
      ]
     },
     "execution_count": 9,
     "metadata": {},
     "output_type": "execute_result"
    },
    {
     "data": {
      "image/png": "[encoded data removed]",
      "text/plain": [
       "<Figure size 432x288 with 1 Axes>"
      ]
     },
     "metadata": {
      "needs_background": "light"
     },
     "output_type": "display_data"
    }
   ],
   "source": [
    "image_index = 7776 # You may select anything up to 60,000\n",
    "print(train_labels[image_index]) \n",
    "plt.imshow(train_images[image_index], cmap='Greys')"
   ]
  },
  {
   "cell_type": "markdown",
   "id": "a8d2388d",
   "metadata": {
    "papermill": {
     "duration": 0.026745,
     "end_time": "2021-10-04T10:07:30.905556",
     "exception": false,
     "start_time": "2021-10-04T10:07:30.878811",
     "status": "completed"
    },
    "tags": []
   },
   "source": [
    "## Filter data to get 3 and 8 out"
   ]
  },
  {
   "cell_type": "code",
   "execution_count": 10,
   "id": "776f7fc7",
   "metadata": {
    "execution": {
     "iopub.execute_input": "2021-10-04T10:07:30.967940Z",
     "iopub.status.busy": "2021-10-04T10:07:30.962432Z",
     "iopub.status.idle": "2021-10-04T10:07:30.982063Z",
     "shell.execute_reply": "2021-10-04T10:07:30.982450Z"
    },
    "papermill": {
     "duration": 0.050384,
     "end_time": "2021-10-04T10:07:30.982585",
     "exception": false,
     "start_time": "2021-10-04T10:07:30.932201",
     "status": "completed"
    },
    "tags": []
   },
   "outputs": [],
   "source": [
    "train_filter = np.where((train_labels == 3 ) | (train_labels == 8))\n",
    "test_filter = np.where((test_labels == 3) | (test_labels == 8))\n",
    "X_train, y_train = train_images[train_filter], train_labels[train_filter]\n",
    "X_test, y_test = test_images[test_filter], test_labels[test_filter]"
   ]
  },
  {
   "cell_type": "markdown",
   "id": "948f0b7e",
   "metadata": {
    "papermill": {
     "duration": 0.026339,
     "end_time": "2021-10-04T10:07:31.035552",
     "exception": false,
     "start_time": "2021-10-04T10:07:31.009213",
     "status": "completed"
    },
    "tags": []
   },
   "source": [
    "We normalize the pizel values in the 0 to 1 range"
   ]
  },
  {
   "cell_type": "code",
   "execution_count": 11,
   "id": "ee4c2166",
   "metadata": {
    "execution": {
     "iopub.execute_input": "2021-10-04T10:07:31.098311Z",
     "iopub.status.busy": "2021-10-04T10:07:31.096366Z",
     "iopub.status.idle": "2021-10-04T10:07:31.140651Z",
     "shell.execute_reply": "2021-10-04T10:07:31.140097Z"
    },
    "papermill": {
     "duration": 0.078912,
     "end_time": "2021-10-04T10:07:31.140786",
     "exception": false,
     "start_time": "2021-10-04T10:07:31.061874",
     "status": "completed"
    },
    "tags": []
   },
   "outputs": [],
   "source": [
    "X_train = X_train/255.\n",
    "X_test = X_test/255."
   ]
  },
  {
   "cell_type": "markdown",
   "id": "ddcf4fab",
   "metadata": {
    "papermill": {
     "duration": 0.026341,
     "end_time": "2021-10-04T10:07:31.193836",
     "exception": false,
     "start_time": "2021-10-04T10:07:31.167495",
     "status": "completed"
    },
    "tags": []
   },
   "source": [
    "And setup the labels as 1 (when the digit is 3) and 0 (when the digit is 8)"
   ]
  },
  {
   "cell_type": "code",
   "execution_count": 12,
   "id": "7dc908f2",
   "metadata": {
    "execution": {
     "iopub.execute_input": "2021-10-04T10:07:31.252510Z",
     "iopub.status.busy": "2021-10-04T10:07:31.251998Z",
     "iopub.status.idle": "2021-10-04T10:07:31.262622Z",
     "shell.execute_reply": "2021-10-04T10:07:31.262211Z"
    },
    "papermill": {
     "duration": 0.042423,
     "end_time": "2021-10-04T10:07:31.262736",
     "exception": false,
     "start_time": "2021-10-04T10:07:31.220313",
     "status": "completed"
    },
    "tags": []
   },
   "outputs": [],
   "source": [
    "y_train = 1*(y_train==3)\n",
    "y_test = 1*(y_test==3)"
   ]
  },
  {
   "cell_type": "code",
   "execution_count": 13,
   "id": "01e4e969",
   "metadata": {
    "execution": {
     "iopub.execute_input": "2021-10-04T10:07:31.319612Z",
     "iopub.status.busy": "2021-10-04T10:07:31.319038Z",
     "iopub.status.idle": "2021-10-04T10:07:31.332442Z",
     "shell.execute_reply": "2021-10-04T10:07:31.332825Z"
    },
    "papermill": {
     "duration": 0.043756,
     "end_time": "2021-10-04T10:07:31.332957",
     "exception": false,
     "start_time": "2021-10-04T10:07:31.289201",
     "status": "completed"
    },
    "tags": []
   },
   "outputs": [
    {
     "data": {
      "text/plain": [
       "((11982, 28, 28), (1984, 28, 28))"
      ]
     },
     "execution_count": 13,
     "metadata": {},
     "output_type": "execute_result"
    }
   ],
   "source": [
    "X_train.shape, X_test.shape"
   ]
  },
  {
   "cell_type": "markdown",
   "id": "5ccf3f85",
   "metadata": {
    "papermill": {
     "duration": 0.026621,
     "end_time": "2021-10-04T10:07:31.386100",
     "exception": false,
     "start_time": "2021-10-04T10:07:31.359479",
     "status": "completed"
    },
    "tags": []
   },
   "source": [
    "We reshape the data to flatten the image pixels into a set of features or co-variates:"
   ]
  },
  {
   "cell_type": "code",
   "execution_count": 14,
   "id": "5286a4a3",
   "metadata": {
    "execution": {
     "iopub.execute_input": "2021-10-04T10:07:31.443894Z",
     "iopub.status.busy": "2021-10-04T10:07:31.443358Z",
     "iopub.status.idle": "2021-10-04T10:07:31.456945Z",
     "shell.execute_reply": "2021-10-04T10:07:31.457354Z"
    },
    "papermill": {
     "duration": 0.044473,
     "end_time": "2021-10-04T10:07:31.457484",
     "exception": false,
     "start_time": "2021-10-04T10:07:31.413011",
     "status": "completed"
    },
    "tags": []
   },
   "outputs": [
    {
     "data": {
      "text/plain": [
       "((11982, 784), (1984, 784))"
      ]
     },
     "execution_count": 14,
     "metadata": {},
     "output_type": "execute_result"
    }
   ],
   "source": [
    "X_train = X_train.reshape(X_train.shape[0], -1)\n",
    "X_test = X_test.reshape(X_test.shape[0], -1)\n",
    "X_train.shape, X_test.shape"
   ]
  },
  {
   "cell_type": "code",
   "execution_count": 15,
   "id": "73c5f88a",
   "metadata": {
    "execution": {
     "iopub.execute_input": "2021-10-04T10:07:31.528344Z",
     "iopub.status.busy": "2021-10-04T10:07:31.520401Z",
     "iopub.status.idle": "2021-10-04T10:07:31.535860Z",
     "shell.execute_reply": "2021-10-04T10:07:31.535438Z"
    },
    "papermill": {
     "duration": 0.051247,
     "end_time": "2021-10-04T10:07:31.535975",
     "exception": false,
     "start_time": "2021-10-04T10:07:31.484728",
     "status": "completed"
    },
    "tags": []
   },
   "outputs": [],
   "source": [
    "#Impoting functions from 'Kudzu'\n",
    "from kudzu.model import Model\n",
    "from kudzu.train import Learner\n",
    "from kudzu.optim import GD\n",
    "from kudzu.data import Data, Sampler,Dataloader\n",
    "\n",
    "from kudzu.callbacks import AccCallback\n",
    "from kudzu.callbacks import ClfCallback\n",
    "\n",
    "from kudzu.loss import MSE\n",
    "\n",
    "from kudzu.layer import Sigmoid,Relu\n",
    "from kudzu.layer import Affine"
   ]
  },
  {
   "cell_type": "markdown",
   "id": "bc01172a",
   "metadata": {
    "papermill": {
     "duration": 0.026847,
     "end_time": "2021-10-04T10:07:31.589817",
     "exception": false,
     "start_time": "2021-10-04T10:07:31.562970",
     "status": "completed"
    },
    "tags": []
   },
   "source": [
    "### Let us create a `Config` class, to store important parameters. \n",
    "This class essentially plays the role of a dictionary."
   ]
  },
  {
   "cell_type": "code",
   "execution_count": 16,
   "id": "978281aa",
   "metadata": {
    "execution": {
     "iopub.execute_input": "2021-10-04T10:07:31.652525Z",
     "iopub.status.busy": "2021-10-04T10:07:31.652013Z",
     "iopub.status.idle": "2021-10-04T10:07:31.661078Z",
     "shell.execute_reply": "2021-10-04T10:07:31.660667Z"
    },
    "papermill": {
     "duration": 0.044444,
     "end_time": "2021-10-04T10:07:31.661191",
     "exception": false,
     "start_time": "2021-10-04T10:07:31.616747",
     "status": "completed"
    },
    "tags": []
   },
   "outputs": [],
   "source": [
    "class Config:\n",
    "    pass\n",
    "config = Config()\n",
    "config.lr = 0.001\n",
    "config.num_epochs = 250\n",
    "config.bs = 50"
   ]
  },
  {
   "cell_type": "markdown",
   "id": "1385fa59",
   "metadata": {
    "papermill": {
     "duration": 0.027012,
     "end_time": "2021-10-04T10:07:31.715452",
     "exception": false,
     "start_time": "2021-10-04T10:07:31.688440",
     "status": "completed"
    },
    "tags": []
   },
   "source": [
    "### Running Models with the Training data\n",
    "Details about the network layers:\n",
    "- A first affine layer has 784 inputs and does 100 affine transforms. These are followed by a Relu\n",
    "- A second affine layer has 100 inputs from the 100 activations of the past layer, and does 100 affine transforms. These are followed by a Relu\n",
    "- A third affine layer has 100 activations and does 2 affine transformations to create an embedding for visualization. There is no non-linearity here.\n",
    "- A final \"logistic regression\" which has an affine transform from 2 inputs to 1 output, which is squeezed through a sigmoid.\n"
   ]
  },
  {
   "cell_type": "code",
   "execution_count": 17,
   "id": "2b9c66db",
   "metadata": {
    "execution": {
     "iopub.execute_input": "2021-10-04T10:07:31.789297Z",
     "iopub.status.busy": "2021-10-04T10:07:31.788753Z",
     "iopub.status.idle": "2021-10-04T10:07:31.791676Z",
     "shell.execute_reply": "2021-10-04T10:07:31.791251Z"
    },
    "papermill": {
     "duration": 0.049332,
     "end_time": "2021-10-04T10:07:31.791794",
     "exception": false,
     "start_time": "2021-10-04T10:07:31.742462",
     "status": "completed"
    },
    "tags": []
   },
   "outputs": [],
   "source": [
    "data = Data(X_train, y_train.reshape(-1,1))\n",
    "sampler = Sampler(data, config.bs, shuffle=True)\n",
    "\n",
    "dl = Dataloader(data, sampler)\n",
    "\n",
    "opt = GD(config.lr)\n",
    "loss = MSE()"
   ]
  },
  {
   "cell_type": "code",
   "execution_count": 18,
   "id": "b275e4c2",
   "metadata": {
    "execution": {
     "iopub.execute_input": "2021-10-04T10:07:31.856584Z",
     "iopub.status.busy": "2021-10-04T10:07:31.856053Z",
     "iopub.status.idle": "2021-10-04T10:07:31.864836Z",
     "shell.execute_reply": "2021-10-04T10:07:31.864406Z"
    },
    "papermill": {
     "duration": 0.046082,
     "end_time": "2021-10-04T10:07:31.864948",
     "exception": false,
     "start_time": "2021-10-04T10:07:31.818866",
     "status": "completed"
    },
    "tags": []
   },
   "outputs": [],
   "source": [
    "training_data_x = X_train\n",
    "testing_data_x = X_test\n",
    "training_data_y = y_train.reshape(-1,1)\n",
    "testing_data_y = y_test.reshape(-1,1)"
   ]
  },
  {
   "cell_type": "code",
   "execution_count": 19,
   "id": "76951160",
   "metadata": {
    "execution": {
     "iopub.execute_input": "2021-10-04T10:07:31.924754Z",
     "iopub.status.busy": "2021-10-04T10:07:31.924243Z",
     "iopub.status.idle": "2021-10-04T10:07:31.939447Z",
     "shell.execute_reply": "2021-10-04T10:07:31.939001Z"
    },
    "papermill": {
     "duration": 0.04767,
     "end_time": "2021-10-04T10:07:31.939568",
     "exception": false,
     "start_time": "2021-10-04T10:07:31.891898",
     "status": "completed"
    },
    "tags": []
   },
   "outputs": [
    {
     "name": "stdout",
     "output_type": "stream",
     "text": [
      "xavier\n",
      "xavier\n",
      "xavier\n",
      "xavier\n",
      "xavier\n"
     ]
    }
   ],
   "source": [
    "layers = [Affine(\"first\", 784, 100), Relu(\"first\"), Affine(\"second\", 100, 100), Relu(\"second\"), Affine(\"third\", 100, 2), Affine(\"last\", 2, 1), Sigmoid(\"last\")]\n",
    "model_nn = Model(layers)\n",
    "model_lr = Model([Affine(\"logits\", 784, 1), Sigmoid(\"sigmoid\")])"
   ]
  },
  {
   "cell_type": "code",
   "execution_count": 20,
   "id": "6eede77a",
   "metadata": {
    "execution": {
     "iopub.execute_input": "2021-10-04T10:07:31.998039Z",
     "iopub.status.busy": "2021-10-04T10:07:31.997539Z",
     "iopub.status.idle": "2021-10-04T10:07:32.010131Z",
     "shell.execute_reply": "2021-10-04T10:07:32.009716Z"
    },
    "papermill": {
     "duration": 0.043191,
     "end_time": "2021-10-04T10:07:32.010247",
     "exception": false,
     "start_time": "2021-10-04T10:07:31.967056",
     "status": "completed"
    },
    "tags": []
   },
   "outputs": [],
   "source": [
    "nn_learner = Learner(loss, model_nn, opt, config.num_epochs)\n",
    "acc_nn = ClfCallback(nn_learner, config.bs, training_data_x , testing_data_x, training_data_y, testing_data_y)\n",
    "nn_learner.set_callbacks([acc_nn])"
   ]
  },
  {
   "cell_type": "code",
   "execution_count": 21,
   "id": "877b6cc7",
   "metadata": {
    "execution": {
     "iopub.execute_input": "2021-10-04T10:07:32.072479Z",
     "iopub.status.busy": "2021-10-04T10:07:32.071963Z",
     "iopub.status.idle": "2021-10-04T10:07:32.081973Z",
     "shell.execute_reply": "2021-10-04T10:07:32.082356Z"
    },
    "papermill": {
     "duration": 0.044847,
     "end_time": "2021-10-04T10:07:32.082487",
     "exception": false,
     "start_time": "2021-10-04T10:07:32.037640",
     "status": "completed"
    },
    "tags": []
   },
   "outputs": [],
   "source": [
    "lr_learner = Learner(loss, model_lr, opt, config.num_epochs)\n",
    "acc_lr = ClfCallback(lr_learner, config.bs, training_data_x , testing_data_x, training_data_y, testing_data_y)\n",
    "lr_learner.set_callbacks([acc_lr])"
   ]
  },
  {
   "cell_type": "code",
   "execution_count": 22,
   "id": "d9b133c3",
   "metadata": {
    "execution": {
     "iopub.execute_input": "2021-10-04T10:07:32.140172Z",
     "iopub.status.busy": "2021-10-04T10:07:32.139659Z",
     "iopub.status.idle": "2021-10-04T10:08:47.121930Z",
     "shell.execute_reply": "2021-10-04T10:08:47.122660Z"
    },
    "papermill": {
     "duration": 75.013182,
     "end_time": "2021-10-04T10:08:47.122805",
     "exception": false,
     "start_time": "2021-10-04T10:07:32.109623",
     "status": "completed"
    },
    "tags": []
   },
   "outputs": [
    {
     "name": "stdout",
     "output_type": "stream",
     "text": [
      "Epoch 0, Loss 0.2245\n",
      "Training Accuracy: 0.7724, Testing Accuracy: 0.7939\n",
      "\n"
     ]
    },
    {
     "name": "stdout",
     "output_type": "stream",
     "text": [
      "Epoch 10, Loss 0.0699\n",
      "Training Accuracy: 0.9313, Testing Accuracy: 0.9370\n",
      "\n"
     ]
    },
    {
     "name": "stdout",
     "output_type": "stream",
     "text": [
      "Epoch 20, Loss 0.0468\n",
      "Training Accuracy: 0.9515, Testing Accuracy: 0.9561\n",
      "\n"
     ]
    },
    {
     "name": "stdout",
     "output_type": "stream",
     "text": [
      "Epoch 30, Loss 0.0385\n",
      "Training Accuracy: 0.9579, Testing Accuracy: 0.9612\n",
      "\n"
     ]
    },
    {
     "name": "stdout",
     "output_type": "stream",
     "text": [
      "Epoch 40, Loss 0.0341\n",
      "Training Accuracy: 0.9624, Testing Accuracy: 0.9632\n",
      "\n"
     ]
    },
    {
     "name": "stdout",
     "output_type": "stream",
     "text": [
      "Epoch 50, Loss 0.0312\n",
      "Training Accuracy: 0.9654, Testing Accuracy: 0.9677\n",
      "\n"
     ]
    },
    {
     "name": "stdout",
     "output_type": "stream",
     "text": [
      "Epoch 60, Loss 0.0292\n",
      "Training Accuracy: 0.9675, Testing Accuracy: 0.9682\n",
      "\n"
     ]
    },
    {
     "name": "stdout",
     "output_type": "stream",
     "text": [
      "Epoch 70, Loss 0.0276\n",
      "Training Accuracy: 0.9689, Testing Accuracy: 0.9688\n",
      "\n"
     ]
    },
    {
     "name": "stdout",
     "output_type": "stream",
     "text": [
      "Epoch 80, Loss 0.0264\n",
      "Training Accuracy: 0.9699, Testing Accuracy: 0.9703\n",
      "\n"
     ]
    },
    {
     "name": "stdout",
     "output_type": "stream",
     "text": [
      "Epoch 90, Loss 0.0253\n",
      "Training Accuracy: 0.9709, Testing Accuracy: 0.9708\n",
      "\n"
     ]
    },
    {
     "name": "stdout",
     "output_type": "stream",
     "text": [
      "Epoch 100, Loss 0.0244\n",
      "Training Accuracy: 0.9718, Testing Accuracy: 0.9703\n",
      "\n"
     ]
    },
    {
     "name": "stdout",
     "output_type": "stream",
     "text": [
      "Epoch 110, Loss 0.0236\n",
      "Training Accuracy: 0.9725, Testing Accuracy: 0.9703\n",
      "\n"
     ]
    },
    {
     "name": "stdout",
     "output_type": "stream",
     "text": [
      "Epoch 120, Loss 0.0228\n",
      "Training Accuracy: 0.9731, Testing Accuracy: 0.9698\n",
      "\n"
     ]
    },
    {
     "name": "stdout",
     "output_type": "stream",
     "text": [
      "Epoch 130, Loss 0.0221\n",
      "Training Accuracy: 0.9742, Testing Accuracy: 0.9703\n",
      "\n"
     ]
    },
    {
     "name": "stdout",
     "output_type": "stream",
     "text": [
      "Epoch 140, Loss 0.0215\n",
      "Training Accuracy: 0.9751, Testing Accuracy: 0.9703\n",
      "\n"
     ]
    },
    {
     "name": "stdout",
     "output_type": "stream",
     "text": [
      "Epoch 150, Loss 0.0209\n",
      "Training Accuracy: 0.9763, Testing Accuracy: 0.9718\n",
      "\n"
     ]
    },
    {
     "name": "stdout",
     "output_type": "stream",
     "text": [
      "Epoch 160, Loss 0.0204\n",
      "Training Accuracy: 0.9775, Testing Accuracy: 0.9713\n",
      "\n"
     ]
    },
    {
     "name": "stdout",
     "output_type": "stream",
     "text": [
      "Epoch 170, Loss 0.0199\n",
      "Training Accuracy: 0.9783, Testing Accuracy: 0.9718\n",
      "\n"
     ]
    },
    {
     "name": "stdout",
     "output_type": "stream",
     "text": [
      "Epoch 180, Loss 0.0194\n",
      "Training Accuracy: 0.9791, Testing Accuracy: 0.9733\n",
      "\n"
     ]
    },
    {
     "name": "stdout",
     "output_type": "stream",
     "text": [
      "Epoch 190, Loss 0.019\n",
      "Training Accuracy: 0.9795, Testing Accuracy: 0.9743\n",
      "\n"
     ]
    },
    {
     "name": "stdout",
     "output_type": "stream",
     "text": [
      "Epoch 200, Loss 0.0185\n",
      "Training Accuracy: 0.9798, Testing Accuracy: 0.9738\n",
      "\n"
     ]
    },
    {
     "name": "stdout",
     "output_type": "stream",
     "text": [
      "Epoch 210, Loss 0.0181\n",
      "Training Accuracy: 0.9806, Testing Accuracy: 0.9738\n",
      "\n"
     ]
    },
    {
     "name": "stdout",
     "output_type": "stream",
     "text": [
      "Epoch 220, Loss 0.0177\n",
      "Training Accuracy: 0.9813, Testing Accuracy: 0.9748\n",
      "\n"
     ]
    },
    {
     "name": "stdout",
     "output_type": "stream",
     "text": [
      "Epoch 230, Loss 0.0174\n",
      "Training Accuracy: 0.9817, Testing Accuracy: 0.9748\n",
      "\n"
     ]
    },
    {
     "name": "stdout",
     "output_type": "stream",
     "text": [
      "Epoch 240, Loss 0.017\n",
      "Training Accuracy: 0.9821, Testing Accuracy: 0.9753\n",
      "\n"
     ]
    },
    {
     "data": {
      "text/plain": [
       "0.0033905821554237104"
      ]
     },
     "execution_count": 22,
     "metadata": {},
     "output_type": "execute_result"
    }
   ],
   "source": [
    "nn_learner.train_loop(dl)"
   ]
  },
  {
   "cell_type": "code",
   "execution_count": 23,
   "id": "e0163366",
   "metadata": {
    "execution": {
     "iopub.execute_input": "2021-10-04T10:08:47.200999Z",
     "iopub.status.busy": "2021-10-04T10:08:47.200487Z",
     "iopub.status.idle": "2021-10-04T10:09:00.525532Z",
     "shell.execute_reply": "2021-10-04T10:09:00.526257Z"
    },
    "papermill": {
     "duration": 13.368841,
     "end_time": "2021-10-04T10:09:00.526405",
     "exception": false,
     "start_time": "2021-10-04T10:08:47.157564",
     "status": "completed"
    },
    "tags": []
   },
   "outputs": [
    {
     "name": "stdout",
     "output_type": "stream",
     "text": [
      "Epoch 0, Loss 0.2284\n",
      "Training Accuracy: 0.7255, Testing Accuracy: 0.7137\n",
      "\n"
     ]
    },
    {
     "name": "stdout",
     "output_type": "stream",
     "text": [
      "Epoch 10, Loss 0.1054\n",
      "Training Accuracy: 0.9002, Testing Accuracy: 0.9158\n",
      "\n"
     ]
    },
    {
     "name": "stdout",
     "output_type": "stream",
     "text": [
      "Epoch 20, Loss 0.0814\n",
      "Training Accuracy: 0.9238, Testing Accuracy: 0.9355\n",
      "\n"
     ]
    },
    {
     "name": "stdout",
     "output_type": "stream",
     "text": [
      "Epoch 30, Loss 0.0701\n",
      "Training Accuracy: 0.9334, Testing Accuracy: 0.9446\n",
      "\n"
     ]
    },
    {
     "name": "stdout",
     "output_type": "stream",
     "text": [
      "Epoch 40, Loss 0.0632\n",
      "Training Accuracy: 0.9395, Testing Accuracy: 0.9536\n",
      "\n"
     ]
    },
    {
     "name": "stdout",
     "output_type": "stream",
     "text": [
      "Epoch 50, Loss 0.0585\n",
      "Training Accuracy: 0.9420, Testing Accuracy: 0.9567\n",
      "\n"
     ]
    },
    {
     "name": "stdout",
     "output_type": "stream",
     "text": [
      "Epoch 60, Loss 0.055\n",
      "Training Accuracy: 0.9447, Testing Accuracy: 0.9572\n",
      "\n"
     ]
    },
    {
     "name": "stdout",
     "output_type": "stream",
     "text": [
      "Epoch 70, Loss 0.0523\n",
      "Training Accuracy: 0.9469, Testing Accuracy: 0.9617\n",
      "\n"
     ]
    },
    {
     "name": "stdout",
     "output_type": "stream",
     "text": [
      "Epoch 80, Loss 0.0502\n",
      "Training Accuracy: 0.9489, Testing Accuracy: 0.9622\n",
      "\n"
     ]
    },
    {
     "name": "stdout",
     "output_type": "stream",
     "text": [
      "Epoch 90, Loss 0.0484\n",
      "Training Accuracy: 0.9510, Testing Accuracy: 0.9622\n",
      "\n"
     ]
    },
    {
     "name": "stdout",
     "output_type": "stream",
     "text": [
      "Epoch 100, Loss 0.0469\n",
      "Training Accuracy: 0.9524, Testing Accuracy: 0.9627\n",
      "\n"
     ]
    },
    {
     "name": "stdout",
     "output_type": "stream",
     "text": [
      "Epoch 110, Loss 0.0456\n",
      "Training Accuracy: 0.9534, Testing Accuracy: 0.9632\n",
      "\n"
     ]
    },
    {
     "name": "stdout",
     "output_type": "stream",
     "text": [
      "Epoch 120, Loss 0.0445\n",
      "Training Accuracy: 0.9544, Testing Accuracy: 0.9642\n",
      "\n"
     ]
    },
    {
     "name": "stdout",
     "output_type": "stream",
     "text": [
      "Epoch 130, Loss 0.0435\n",
      "Training Accuracy: 0.9553, Testing Accuracy: 0.9642\n",
      "\n"
     ]
    },
    {
     "name": "stdout",
     "output_type": "stream",
     "text": [
      "Epoch 140, Loss 0.0427\n",
      "Training Accuracy: 0.9560, Testing Accuracy: 0.9647\n",
      "\n"
     ]
    },
    {
     "name": "stdout",
     "output_type": "stream",
     "text": [
      "Epoch 150, Loss 0.0419\n",
      "Training Accuracy: 0.9564, Testing Accuracy: 0.9652\n",
      "\n"
     ]
    },
    {
     "name": "stdout",
     "output_type": "stream",
     "text": [
      "Epoch 160, Loss 0.0412\n",
      "Training Accuracy: 0.9571, Testing Accuracy: 0.9652\n",
      "\n"
     ]
    },
    {
     "name": "stdout",
     "output_type": "stream",
     "text": [
      "Epoch 170, Loss 0.0405\n",
      "Training Accuracy: 0.9580, Testing Accuracy: 0.9662\n",
      "\n"
     ]
    },
    {
     "name": "stdout",
     "output_type": "stream",
     "text": [
      "Epoch 180, Loss 0.0399\n",
      "Training Accuracy: 0.9580, Testing Accuracy: 0.9667\n",
      "\n"
     ]
    },
    {
     "name": "stdout",
     "output_type": "stream",
     "text": [
      "Epoch 190, Loss 0.0394\n",
      "Training Accuracy: 0.9584, Testing Accuracy: 0.9667\n",
      "\n"
     ]
    },
    {
     "name": "stdout",
     "output_type": "stream",
     "text": [
      "Epoch 200, Loss 0.0389\n",
      "Training Accuracy: 0.9589, Testing Accuracy: 0.9672\n",
      "\n"
     ]
    },
    {
     "name": "stdout",
     "output_type": "stream",
     "text": [
      "Epoch 210, Loss 0.0384\n",
      "Training Accuracy: 0.9593, Testing Accuracy: 0.9672\n",
      "\n"
     ]
    },
    {
     "name": "stdout",
     "output_type": "stream",
     "text": [
      "Epoch 220, Loss 0.038\n",
      "Training Accuracy: 0.9595, Testing Accuracy: 0.9672\n",
      "\n"
     ]
    },
    {
     "name": "stdout",
     "output_type": "stream",
     "text": [
      "Epoch 230, Loss 0.0376\n",
      "Training Accuracy: 0.9599, Testing Accuracy: 0.9672\n",
      "\n"
     ]
    },
    {
     "name": "stdout",
     "output_type": "stream",
     "text": [
      "Epoch 240, Loss 0.0372\n",
      "Training Accuracy: 0.9605, Testing Accuracy: 0.9672\n",
      "\n"
     ]
    },
    {
     "data": {
      "text/plain": [
       "0.047938491827226704"
      ]
     },
     "execution_count": 23,
     "metadata": {},
     "output_type": "execute_result"
    }
   ],
   "source": [
    "lr_learner.train_loop(dl)"
   ]
  },
  {
   "cell_type": "code",
   "execution_count": 24,
   "id": "ca410940",
   "metadata": {
    "execution": {
     "iopub.execute_input": "2021-10-04T10:09:00.656722Z",
     "iopub.status.busy": "2021-10-04T10:09:00.656182Z",
     "iopub.status.idle": "2021-10-04T10:09:00.877850Z",
     "shell.execute_reply": "2021-10-04T10:09:00.877358Z"
    },
    "papermill": {
     "duration": 0.290879,
     "end_time": "2021-10-04T10:09:00.877986",
     "exception": false,
     "start_time": "2021-10-04T10:09:00.587107",
     "status": "completed"
    },
    "tags": []
   },
   "outputs": [
    {
     "data": {
      "text/plain": [
       "<matplotlib.legend.Legend at 0x7fce50dc70b8>"
      ]
     },
     "execution_count": 24,
     "metadata": {},
     "output_type": "execute_result"
    },
    {
     "data": {
      "image/png": "[encoded data removed]",
      "text/plain": [
       "<Figure size 1080x720 with 1 Axes>"
      ]
     },
     "metadata": {
      "needs_background": "light"
     },
     "output_type": "display_data"
    }
   ],
   "source": [
    "#comparing the results of NN and LR\n",
    "plt.figure(figsize=(15,10))\n",
    "\n",
    "# Neural Network plots\n",
    "plt.plot(acc_nn.accuracies, 'r-', label = \"Training Accuracies - NN\")\n",
    "plt.plot(acc_nn.test_accuracies, 'g-', label = \"Testing Accuracies - NN\")\n",
    "\n",
    "# Logistic Regression plots\n",
    "plt.plot(acc_lr.accuracies, 'k-', label = \"Training Accuracies - LR\")\n",
    "plt.plot(acc_lr.test_accuracies, 'b-', label = \"Testing Accuracies - LR\")\n",
    "plt.legend()"
   ]
  },
  {
   "cell_type": "markdown",
   "id": "80dfb35c",
   "metadata": {
    "papermill": {
     "duration": 0.041976,
     "end_time": "2021-10-04T10:09:00.962435",
     "exception": false,
     "start_time": "2021-10-04T10:09:00.920459",
     "status": "completed"
    },
    "tags": []
   },
   "source": [
    "#### Plotting the outputs of this layer of the NN.\n"
   ]
  },
  {
   "cell_type": "code",
   "execution_count": 25,
   "id": "45eb2ff5",
   "metadata": {
    "execution": {
     "iopub.execute_input": "2021-10-04T10:09:01.056147Z",
     "iopub.status.busy": "2021-10-04T10:09:01.053598Z",
     "iopub.status.idle": "2021-10-04T10:09:01.071869Z",
     "shell.execute_reply": "2021-10-04T10:09:01.072291Z"
    },
    "papermill": {
     "duration": 0.067957,
     "end_time": "2021-10-04T10:09:01.072427",
     "exception": false,
     "start_time": "2021-10-04T10:09:01.004470",
     "status": "completed"
    },
    "tags": []
   },
   "outputs": [],
   "source": [
    "new_model = Model(layers[:-2])\n",
    "testing_plot = new_model(testing_data_x)"
   ]
  },
  {
   "cell_type": "code",
   "execution_count": 26,
   "id": "4c0a5485",
   "metadata": {
    "execution": {
     "iopub.execute_input": "2021-10-04T10:09:01.180086Z",
     "iopub.status.busy": "2021-10-04T10:09:01.178167Z",
     "iopub.status.idle": "2021-10-04T10:09:01.374235Z",
     "shell.execute_reply": "2021-10-04T10:09:01.373723Z"
    },
    "papermill": {
     "duration": 0.256347,
     "end_time": "2021-10-04T10:09:01.374364",
     "exception": false,
     "start_time": "2021-10-04T10:09:01.118017",
     "status": "completed"
    },
    "tags": []
   },
   "outputs": [
    {
     "data": {
      "text/plain": [
       "Text(0.5, 1.0, 'Outputs')"
      ]
     },
     "execution_count": 26,
     "metadata": {},
     "output_type": "execute_result"
    },
    {
     "data": {
      "image/png": "[encoded data removed]",
      "text/plain": [
       "<Figure size 576x504 with 1 Axes>"
      ]
     },
     "metadata": {
      "needs_background": "light"
     },
     "output_type": "display_data"
    }
   ],
   "source": [
    "# Plotting the scatter plot of points and color coding by class\n",
    "plt.figure(figsize=(8,7))\n",
    "plt.scatter(testing_plot[:,0], testing_plot[:,1], alpha = 0.1, c = y_test.ravel());\n",
    "plt.title('Outputs')"
   ]
  },
  {
   "cell_type": "markdown",
   "id": "a74fcf8f",
   "metadata": {
    "papermill": {
     "duration": 0.044864,
     "end_time": "2021-10-04T10:09:01.464347",
     "exception": false,
     "start_time": "2021-10-04T10:09:01.419483",
     "status": "completed"
    },
    "tags": []
   },
   "source": [
    "Probability contours"
   ]
  },
  {
   "cell_type": "code",
   "execution_count": 27,
   "id": "d0afc8e3",
   "metadata": {
    "execution": {
     "iopub.execute_input": "2021-10-04T10:09:01.559809Z",
     "iopub.status.busy": "2021-10-04T10:09:01.558713Z",
     "iopub.status.idle": "2021-10-04T10:09:01.570329Z",
     "shell.execute_reply": "2021-10-04T10:09:01.569917Z"
    },
    "papermill": {
     "duration": 0.061099,
     "end_time": "2021-10-04T10:09:01.570444",
     "exception": false,
     "start_time": "2021-10-04T10:09:01.509345",
     "status": "completed"
    },
    "tags": []
   },
   "outputs": [],
   "source": [
    "model_prob = Model(layers[-2:]) "
   ]
  },
  {
   "cell_type": "code",
   "execution_count": 28,
   "id": "9b96e238",
   "metadata": {
    "execution": {
     "iopub.execute_input": "2021-10-04T10:09:01.694943Z",
     "iopub.status.busy": "2021-10-04T10:09:01.694408Z",
     "iopub.status.idle": "2021-10-04T10:09:01.709481Z",
     "shell.execute_reply": "2021-10-04T10:09:01.709862Z"
    },
    "papermill": {
     "duration": 0.09288,
     "end_time": "2021-10-04T10:09:01.709993",
     "exception": false,
     "start_time": "2021-10-04T10:09:01.617113",
     "status": "completed"
    },
    "tags": []
   },
   "outputs": [],
   "source": [
    "#creating the x and y ranges according to the above generated plot.\n",
    "x_range = np.linspace(-4, 1, 100) \n",
    "y_range = np.linspace(-6, 6, 100) \n",
    "x_grid, y_grid = np.meshgrid(x_range, y_range) # x_grid and y_grig are of size 100 X 100\n",
    "\n",
    "# converting x_grid and y_grid to continuous arrays\n",
    "x_gridflat = np.ravel(x_grid)\n",
    "y_gridflat = np.ravel(y_grid)\n",
    "\n",
    "# The last layer of the current model takes two columns as input. Hence transpose of np.vstack() is required.\n",
    "X = np.vstack((x_gridflat, y_gridflat)).T\n",
    "\n",
    "prob_contour = model_prob(X).reshape(100,100) "
   ]
  },
  {
   "cell_type": "code",
   "execution_count": 29,
   "id": "da72499a",
   "metadata": {
    "execution": {
     "iopub.execute_input": "2021-10-04T10:09:01.804480Z",
     "iopub.status.busy": "2021-10-04T10:09:01.803955Z",
     "iopub.status.idle": "2021-10-04T10:09:02.061914Z",
     "shell.execute_reply": "2021-10-04T10:09:02.061080Z"
    },
    "papermill": {
     "duration": 0.307064,
     "end_time": "2021-10-04T10:09:02.062049",
     "exception": false,
     "start_time": "2021-10-04T10:09:01.754985",
     "status": "completed"
    },
    "tags": []
   },
   "outputs": [
    {
     "data": {
      "image/png": "[encoded data removed]",
      "text/plain": [
       "<Figure size 720x648 with 1 Axes>"
      ]
     },
     "metadata": {
      "needs_background": "light"
     },
     "output_type": "display_data"
    }
   ],
   "source": [
    "plt.figure(figsize=(10,9))\n",
    "plt.scatter(testing_plot[:,0], testing_plot[:,1], alpha = 0.1, c = y_test.ravel())\n",
    "contours = plt.contour(x_grid,y_grid,prob_contour)\n",
    "plt.title('Probability Contours')\n",
    "plt.clabel(contours, inline = True );"
   ]
  },
  {
   "cell_type": "code",
   "execution_count": null,
   "id": "e81b4ac7",
   "metadata": {
    "papermill": {
     "duration": 0.047487,
     "end_time": "2021-10-04T10:09:02.158091",
     "exception": false,
     "start_time": "2021-10-04T10:09:02.110604",
     "status": "completed"
    },
    "tags": []
   },
   "outputs": [],
   "source": []
  }
 ],
 "metadata": {
  "kernelspec": {
   "display_name": "Python 3",
   "language": "python",
   "name": "python3"
  },
  "language_info": {
   "codemirror_mode": {
    "name": "ipython",
    "version": 3
   },
   "file_extension": ".py",
   "mimetype": "text/x-python",
   "name": "python",
   "nbconvert_exporter": "python",
   "pygments_lexer": "ipython3",
   "version": "3.6.15"
  },
  "papermill": {
   "default_parameters": {},
   "duration": 97.425057,
   "end_time": "2021-10-04T10:09:02.614095",
   "environment_variables": {},
   "exception": null,
   "input_path": "2020-08-11-part2.ipynb",
   "output_path": "2020-08-11-part2.ipynb",
   "parameters": {},
   "start_time": "2021-10-04T10:07:25.189038",
   "version": "2.3.3"
  }
 },
 "nbformat": 4,
 "nbformat_minor": 5
}