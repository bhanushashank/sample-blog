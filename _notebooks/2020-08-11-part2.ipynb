{
 "cells": [
  {
   "cell_type": "markdown",
   "id": "98380cd3",
   "metadata": {
    "papermill": {
     "duration": 0.029306,
     "end_time": "2022-06-08T20:09:28.031175",
     "exception": false,
     "start_time": "2022-06-08T20:09:28.001869",
     "status": "completed"
    },
    "tags": []
   },
   "source": [
    "# Distinguish Your Own Digits (DYOD)"
   ]
  },
  {
   "cell_type": "markdown",
   "id": "ef31240d",
   "metadata": {
    "papermill": {
     "duration": 0.031868,
     "end_time": "2022-06-08T20:09:28.088041",
     "exception": false,
     "start_time": "2022-06-08T20:09:28.056173",
     "status": "completed"
    },
    "tags": []
   },
   "source": [
    "You are going to write a classifier that distinguishes between the number 3 and number 8."
   ]
  },
  {
   "cell_type": "code",
   "execution_count": 1,
   "id": "b15c8646",
   "metadata": {
    "execution": {
     "iopub.execute_input": "2022-06-08T20:09:28.146689Z",
     "iopub.status.busy": "2022-06-08T20:09:28.146049Z",
     "iopub.status.idle": "2022-06-08T20:09:28.156982Z",
     "shell.execute_reply": "2022-06-08T20:09:28.156490Z"
    },
    "papermill": {
     "duration": 0.044739,
     "end_time": "2022-06-08T20:09:28.157098",
     "exception": false,
     "start_time": "2022-06-08T20:09:28.112359",
     "status": "completed"
    },
    "tags": []
   },
   "outputs": [],
   "source": [
    "%load_ext autoreload\n",
    "%autoreload 2"
   ]
  },
  {
   "cell_type": "code",
   "execution_count": 2,
   "id": "22ef38dc",
   "metadata": {
    "execution": {
     "iopub.execute_input": "2022-06-08T20:09:28.207597Z",
     "iopub.status.busy": "2022-06-08T20:09:28.206982Z",
     "iopub.status.idle": "2022-06-08T20:09:28.698095Z",
     "shell.execute_reply": "2022-06-08T20:09:28.697595Z"
    },
    "papermill": {
     "duration": 0.517632,
     "end_time": "2022-06-08T20:09:28.698224",
     "exception": false,
     "start_time": "2022-06-08T20:09:28.180592",
     "status": "completed"
    },
    "tags": []
   },
   "outputs": [],
   "source": [
    "%matplotlib inline\n",
    "import numpy as np\n",
    "import matplotlib.pyplot as plt\n",
    "import pandas as pd"
   ]
  },
  {
   "cell_type": "markdown",
   "id": "ba036198",
   "metadata": {
    "papermill": {
     "duration": 0.024471,
     "end_time": "2022-06-08T20:09:28.746864",
     "exception": false,
     "start_time": "2022-06-08T20:09:28.722393",
     "status": "completed"
    },
    "tags": []
   },
   "source": [
    "From the command line run `pip install mnist`. This is a library that will help you bring down the mnist dataset. If you run this from a notebook, you need to put  `!pip install mnist` in a cell by itself."
   ]
  },
  {
   "cell_type": "code",
   "execution_count": 3,
   "id": "bb6ad8a1",
   "metadata": {
    "execution": {
     "iopub.execute_input": "2022-06-08T20:09:28.798307Z",
     "iopub.status.busy": "2022-06-08T20:09:28.797737Z",
     "iopub.status.idle": "2022-06-08T20:09:30.392268Z",
     "shell.execute_reply": "2022-06-08T20:09:30.391723Z"
    },
    "papermill": {
     "duration": 1.622046,
     "end_time": "2022-06-08T20:09:30.392402",
     "exception": false,
     "start_time": "2022-06-08T20:09:28.770356",
     "status": "completed"
    },
    "tags": []
   },
   "outputs": [
    {
     "name": "stdout",
     "output_type": "stream",
     "text": [
      "Collecting mnist\r\n"
     ]
    },
    {
     "name": "stdout",
     "output_type": "stream",
     "text": [
      "  Downloading mnist-0.2.2-py2.py3-none-any.whl (3.5 kB)\r\n",
      "Requirement already satisfied: numpy in /opt/hostedtoolcache/Python/3.6.15/x64/lib/python3.6/site-packages (from mnist) (1.19.5)\r\n"
     ]
    },
    {
     "name": "stdout",
     "output_type": "stream",
     "text": [
      "Installing collected packages: mnist\r\n"
     ]
    },
    {
     "name": "stdout",
     "output_type": "stream",
     "text": [
      "Successfully installed mnist-0.2.2\r\n"
     ]
    }
   ],
   "source": [
    "!pip install mnist"
   ]
  },
  {
   "cell_type": "markdown",
   "id": "69df9c9a",
   "metadata": {
    "papermill": {
     "duration": 0.02487,
     "end_time": "2022-06-08T20:09:30.442176",
     "exception": false,
     "start_time": "2022-06-08T20:09:30.417306",
     "status": "completed"
    },
    "tags": []
   },
   "source": [
    "## Preparing the Data"
   ]
  },
  {
   "cell_type": "code",
   "execution_count": 4,
   "id": "7f69d806",
   "metadata": {
    "execution": {
     "iopub.execute_input": "2022-06-08T20:09:30.494711Z",
     "iopub.status.busy": "2022-06-08T20:09:30.494115Z",
     "iopub.status.idle": "2022-06-08T20:09:30.508317Z",
     "shell.execute_reply": "2022-06-08T20:09:30.507830Z"
    },
    "papermill": {
     "duration": 0.041809,
     "end_time": "2022-06-08T20:09:30.508419",
     "exception": false,
     "start_time": "2022-06-08T20:09:30.466610",
     "status": "completed"
    },
    "tags": []
   },
   "outputs": [],
   "source": [
    "import mnist"
   ]
  },
  {
   "cell_type": "code",
   "execution_count": 5,
   "id": "a411e44f",
   "metadata": {
    "execution": {
     "iopub.execute_input": "2022-06-08T20:09:30.560639Z",
     "iopub.status.busy": "2022-06-08T20:09:30.560049Z",
     "iopub.status.idle": "2022-06-08T20:09:31.048010Z",
     "shell.execute_reply": "2022-06-08T20:09:31.048462Z"
    },
    "papermill": {
     "duration": 0.515827,
     "end_time": "2022-06-08T20:09:31.048617",
     "exception": false,
     "start_time": "2022-06-08T20:09:30.532790",
     "status": "completed"
    },
    "tags": []
   },
   "outputs": [],
   "source": [
    "train_images = mnist.train_images()\n",
    "train_labels = mnist.train_labels()"
   ]
  },
  {
   "cell_type": "code",
   "execution_count": 6,
   "id": "dceab3a5",
   "metadata": {
    "execution": {
     "iopub.execute_input": "2022-06-08T20:09:31.112100Z",
     "iopub.status.busy": "2022-06-08T20:09:31.111085Z",
     "iopub.status.idle": "2022-06-08T20:09:31.124999Z",
     "shell.execute_reply": "2022-06-08T20:09:31.125554Z"
    },
    "papermill": {
     "duration": 0.046757,
     "end_time": "2022-06-08T20:09:31.125665",
     "exception": false,
     "start_time": "2022-06-08T20:09:31.078908",
     "status": "completed"
    },
    "tags": []
   },
   "outputs": [
    {
     "data": {
      "text/plain": [
       "((60000, 28, 28), (60000,))"
      ]
     },
     "execution_count": 6,
     "metadata": {},
     "output_type": "execute_result"
    }
   ],
   "source": [
    "train_images.shape, train_labels.shape"
   ]
  },
  {
   "cell_type": "code",
   "execution_count": 7,
   "id": "f50dc2bb",
   "metadata": {
    "execution": {
     "iopub.execute_input": "2022-06-08T20:09:31.179186Z",
     "iopub.status.busy": "2022-06-08T20:09:31.178608Z",
     "iopub.status.idle": "2022-06-08T20:09:31.329054Z",
     "shell.execute_reply": "2022-06-08T20:09:31.328545Z"
    },
    "papermill": {
     "duration": 0.178969,
     "end_time": "2022-06-08T20:09:31.329171",
     "exception": false,
     "start_time": "2022-06-08T20:09:31.150202",
     "status": "completed"
    },
    "tags": []
   },
   "outputs": [],
   "source": [
    "test_images = mnist.test_images()\n",
    "test_labels = mnist.test_labels()"
   ]
  },
  {
   "cell_type": "code",
   "execution_count": 8,
   "id": "fc38cf1b",
   "metadata": {
    "execution": {
     "iopub.execute_input": "2022-06-08T20:09:31.383221Z",
     "iopub.status.busy": "2022-06-08T20:09:31.382625Z",
     "iopub.status.idle": "2022-06-08T20:09:31.395510Z",
     "shell.execute_reply": "2022-06-08T20:09:31.394851Z"
    },
    "papermill": {
     "duration": 0.041514,
     "end_time": "2022-06-08T20:09:31.395645",
     "exception": false,
     "start_time": "2022-06-08T20:09:31.354131",
     "status": "completed"
    },
    "tags": []
   },
   "outputs": [
    {
     "data": {
      "text/plain": [
       "((10000, 28, 28), (10000,))"
      ]
     },
     "execution_count": 8,
     "metadata": {},
     "output_type": "execute_result"
    }
   ],
   "source": [
    "test_images.shape, test_labels.shape"
   ]
  },
  {
   "cell_type": "code",
   "execution_count": 9,
   "id": "f9ed8fe0",
   "metadata": {
    "execution": {
     "iopub.execute_input": "2022-06-08T20:09:31.449521Z",
     "iopub.status.busy": "2022-06-08T20:09:31.448662Z",
     "iopub.status.idle": "2022-06-08T20:09:31.610221Z",
     "shell.execute_reply": "2022-06-08T20:09:31.609603Z"
    },
    "papermill": {
     "duration": 0.189653,
     "end_time": "2022-06-08T20:09:31.610367",
     "exception": false,
     "start_time": "2022-06-08T20:09:31.420714",
     "status": "completed"
    },
    "tags": []
   },
   "outputs": [
    {
     "name": "stdout",
     "output_type": "stream",
     "text": [
      "2\n"
     ]
    },
    {
     "data": {
      "text/plain": [
       "<matplotlib.image.AxesImage at 0x7f621ab03320>"
      ]
     },
     "execution_count": 9,
     "metadata": {},
     "output_type": "execute_result"
    },
    {
     "data": {
      "image/png": "[encoded data removed]",
      "text/plain": [
       "<Figure size 432x288 with 1 Axes>"
      ]
     },
     "metadata": {
      "needs_background": "light"
     },
     "output_type": "display_data"
    }
   ],
   "source": [
    "image_index = 7776 # You may select anything up to 60,000\n",
    "print(train_labels[image_index]) \n",
    "plt.imshow(train_images[image_index], cmap='Greys')"
   ]
  },
  {
   "cell_type": "markdown",
   "id": "a8d2388d",
   "metadata": {
    "papermill": {
     "duration": 0.02579,
     "end_time": "2022-06-08T20:09:31.662404",
     "exception": false,
     "start_time": "2022-06-08T20:09:31.636614",
     "status": "completed"
    },
    "tags": []
   },
   "source": [
    "## Filter data to get 3 and 8 out"
   ]
  },
  {
   "cell_type": "code",
   "execution_count": 10,
   "id": "776f7fc7",
   "metadata": {
    "execution": {
     "iopub.execute_input": "2022-06-08T20:09:31.729657Z",
     "iopub.status.busy": "2022-06-08T20:09:31.720921Z",
     "iopub.status.idle": "2022-06-08T20:09:31.740630Z",
     "shell.execute_reply": "2022-06-08T20:09:31.740150Z"
    },
    "papermill": {
     "duration": 0.050978,
     "end_time": "2022-06-08T20:09:31.740739",
     "exception": false,
     "start_time": "2022-06-08T20:09:31.689761",
     "status": "completed"
    },
    "tags": []
   },
   "outputs": [],
   "source": [
    "train_filter = np.where((train_labels == 3 ) | (train_labels == 8))\n",
    "test_filter = np.where((test_labels == 3) | (test_labels == 8))\n",
    "X_train, y_train = train_images[train_filter], train_labels[train_filter]\n",
    "X_test, y_test = test_images[test_filter], test_labels[test_filter]"
   ]
  },
  {
   "cell_type": "markdown",
   "id": "948f0b7e",
   "metadata": {
    "papermill": {
     "duration": 0.028674,
     "end_time": "2022-06-08T20:09:31.799855",
     "exception": false,
     "start_time": "2022-06-08T20:09:31.771181",
     "status": "completed"
    },
    "tags": []
   },
   "source": [
    "We normalize the pizel values in the 0 to 1 range"
   ]
  },
  {
   "cell_type": "code",
   "execution_count": 11,
   "id": "ee4c2166",
   "metadata": {
    "execution": {
     "iopub.execute_input": "2022-06-08T20:09:31.861010Z",
     "iopub.status.busy": "2022-06-08T20:09:31.860354Z",
     "iopub.status.idle": "2022-06-08T20:09:31.920695Z",
     "shell.execute_reply": "2022-06-08T20:09:31.920147Z"
    },
    "papermill": {
     "duration": 0.092394,
     "end_time": "2022-06-08T20:09:31.920829",
     "exception": false,
     "start_time": "2022-06-08T20:09:31.828435",
     "status": "completed"
    },
    "tags": []
   },
   "outputs": [],
   "source": [
    "X_train = X_train/255.\n",
    "X_test = X_test/255."
   ]
  },
  {
   "cell_type": "markdown",
   "id": "ddcf4fab",
   "metadata": {
    "papermill": {
     "duration": 0.026824,
     "end_time": "2022-06-08T20:09:31.974980",
     "exception": false,
     "start_time": "2022-06-08T20:09:31.948156",
     "status": "completed"
    },
    "tags": []
   },
   "source": [
    "And setup the labels as 1 (when the digit is 3) and 0 (when the digit is 8)"
   ]
  },
  {
   "cell_type": "code",
   "execution_count": 12,
   "id": "7dc908f2",
   "metadata": {
    "execution": {
     "iopub.execute_input": "2022-06-08T20:09:32.034212Z",
     "iopub.status.busy": "2022-06-08T20:09:32.033566Z",
     "iopub.status.idle": "2022-06-08T20:09:32.045492Z",
     "shell.execute_reply": "2022-06-08T20:09:32.045971Z"
    },
    "papermill": {
     "duration": 0.042584,
     "end_time": "2022-06-08T20:09:32.046083",
     "exception": false,
     "start_time": "2022-06-08T20:09:32.003499",
     "status": "completed"
    },
    "tags": []
   },
   "outputs": [],
   "source": [
    "y_train = 1*(y_train==3)\n",
    "y_test = 1*(y_test==3)"
   ]
  },
  {
   "cell_type": "code",
   "execution_count": 13,
   "id": "01e4e969",
   "metadata": {
    "execution": {
     "iopub.execute_input": "2022-06-08T20:09:32.105073Z",
     "iopub.status.busy": "2022-06-08T20:09:32.104499Z",
     "iopub.status.idle": "2022-06-08T20:09:32.118315Z",
     "shell.execute_reply": "2022-06-08T20:09:32.118792Z"
    },
    "papermill": {
     "duration": 0.042597,
     "end_time": "2022-06-08T20:09:32.118902",
     "exception": false,
     "start_time": "2022-06-08T20:09:32.076305",
     "status": "completed"
    },
    "tags": []
   },
   "outputs": [
    {
     "data": {
      "text/plain": [
       "((11982, 28, 28), (1984, 28, 28))"
      ]
     },
     "execution_count": 13,
     "metadata": {},
     "output_type": "execute_result"
    }
   ],
   "source": [
    "X_train.shape, X_test.shape"
   ]
  },
  {
   "cell_type": "markdown",
   "id": "5ccf3f85",
   "metadata": {
    "papermill": {
     "duration": 0.025757,
     "end_time": "2022-06-08T20:09:32.170444",
     "exception": false,
     "start_time": "2022-06-08T20:09:32.144687",
     "status": "completed"
    },
    "tags": []
   },
   "source": [
    "We reshape the data to flatten the image pixels into a set of features or co-variates:"
   ]
  },
  {
   "cell_type": "code",
   "execution_count": 14,
   "id": "5286a4a3",
   "metadata": {
    "execution": {
     "iopub.execute_input": "2022-06-08T20:09:32.227422Z",
     "iopub.status.busy": "2022-06-08T20:09:32.226791Z",
     "iopub.status.idle": "2022-06-08T20:09:32.239841Z",
     "shell.execute_reply": "2022-06-08T20:09:32.239357Z"
    },
    "papermill": {
     "duration": 0.042029,
     "end_time": "2022-06-08T20:09:32.239939",
     "exception": false,
     "start_time": "2022-06-08T20:09:32.197910",
     "status": "completed"
    },
    "tags": []
   },
   "outputs": [
    {
     "data": {
      "text/plain": [
       "((11982, 784), (1984, 784))"
      ]
     },
     "execution_count": 14,
     "metadata": {},
     "output_type": "execute_result"
    }
   ],
   "source": [
    "X_train = X_train.reshape(X_train.shape[0], -1)\n",
    "X_test = X_test.reshape(X_test.shape[0], -1)\n",
    "X_train.shape, X_test.shape"
   ]
  },
  {
   "cell_type": "code",
   "execution_count": 15,
   "id": "73c5f88a",
   "metadata": {
    "execution": {
     "iopub.execute_input": "2022-06-08T20:09:32.296986Z",
     "iopub.status.busy": "2022-06-08T20:09:32.296407Z",
     "iopub.status.idle": "2022-06-08T20:09:32.313829Z",
     "shell.execute_reply": "2022-06-08T20:09:32.314306Z"
    },
    "papermill": {
     "duration": 0.048109,
     "end_time": "2022-06-08T20:09:32.314422",
     "exception": false,
     "start_time": "2022-06-08T20:09:32.266313",
     "status": "completed"
    },
    "tags": []
   },
   "outputs": [],
   "source": [
    "#Impoting functions from 'Kudzu'\n",
    "from kudzu.model import Model\n",
    "from kudzu.train import Learner\n",
    "from kudzu.optim import GD\n",
    "from kudzu.data import Data, Sampler,Dataloader\n",
    "\n",
    "from kudzu.callbacks import AccCallback\n",
    "from kudzu.callbacks import ClfCallback\n",
    "\n",
    "from kudzu.loss import MSE\n",
    "\n",
    "from kudzu.layer import Sigmoid,Relu\n",
    "from kudzu.layer import Affine"
   ]
  },
  {
   "cell_type": "markdown",
   "id": "bc01172a",
   "metadata": {
    "papermill": {
     "duration": 0.027099,
     "end_time": "2022-06-08T20:09:32.367989",
     "exception": false,
     "start_time": "2022-06-08T20:09:32.340890",
     "status": "completed"
    },
    "tags": []
   },
   "source": [
    "### Let us create a `Config` class, to store important parameters. \n",
    "This class essentially plays the role of a dictionary."
   ]
  },
  {
   "cell_type": "code",
   "execution_count": 16,
   "id": "978281aa",
   "metadata": {
    "execution": {
     "iopub.execute_input": "2022-06-08T20:09:32.423890Z",
     "iopub.status.busy": "2022-06-08T20:09:32.423302Z",
     "iopub.status.idle": "2022-06-08T20:09:32.433614Z",
     "shell.execute_reply": "2022-06-08T20:09:32.434158Z"
    },
    "papermill": {
     "duration": 0.040107,
     "end_time": "2022-06-08T20:09:32.434268",
     "exception": false,
     "start_time": "2022-06-08T20:09:32.394161",
     "status": "completed"
    },
    "tags": []
   },
   "outputs": [],
   "source": [
    "class Config:\n",
    "    pass\n",
    "config = Config()\n",
    "config.lr = 0.001\n",
    "config.num_epochs = 250\n",
    "config.bs = 50"
   ]
  },
  {
   "cell_type": "markdown",
   "id": "1385fa59",
   "metadata": {
    "papermill": {
     "duration": 0.027745,
     "end_time": "2022-06-08T20:09:32.488341",
     "exception": false,
     "start_time": "2022-06-08T20:09:32.460596",
     "status": "completed"
    },
    "tags": []
   },
   "source": [
    "### Running Models with the Training data\n",
    "Details about the network layers:\n",
    "- A first affine layer has 784 inputs and does 100 affine transforms. These are followed by a Relu\n",
    "- A second affine layer has 100 inputs from the 100 activations of the past layer, and does 100 affine transforms. These are followed by a Relu\n",
    "- A third affine layer has 100 activations and does 2 affine transformations to create an embedding for visualization. There is no non-linearity here.\n",
    "- A final \"logistic regression\" which has an affine transform from 2 inputs to 1 output, which is squeezed through a sigmoid.\n"
   ]
  },
  {
   "cell_type": "code",
   "execution_count": 17,
   "id": "2b9c66db",
   "metadata": {
    "execution": {
     "iopub.execute_input": "2022-06-08T20:09:32.551343Z",
     "iopub.status.busy": "2022-06-08T20:09:32.550703Z",
     "iopub.status.idle": "2022-06-08T20:09:32.563060Z",
     "shell.execute_reply": "2022-06-08T20:09:32.562565Z"
    },
    "papermill": {
     "duration": 0.042156,
     "end_time": "2022-06-08T20:09:32.563166",
     "exception": false,
     "start_time": "2022-06-08T20:09:32.521010",
     "status": "completed"
    },
    "tags": []
   },
   "outputs": [],
   "source": [
    "data = Data(X_train, y_train.reshape(-1,1))\n",
    "sampler = Sampler(data, config.bs, shuffle=True)\n",
    "\n",
    "dl = Dataloader(data, sampler)\n",
    "\n",
    "opt = GD(config.lr)\n",
    "loss = MSE()"
   ]
  },
  {
   "cell_type": "code",
   "execution_count": 18,
   "id": "b275e4c2",
   "metadata": {
    "execution": {
     "iopub.execute_input": "2022-06-08T20:09:32.620188Z",
     "iopub.status.busy": "2022-06-08T20:09:32.619584Z",
     "iopub.status.idle": "2022-06-08T20:09:32.630262Z",
     "shell.execute_reply": "2022-06-08T20:09:32.629762Z"
    },
    "papermill": {
     "duration": 0.040312,
     "end_time": "2022-06-08T20:09:32.630364",
     "exception": false,
     "start_time": "2022-06-08T20:09:32.590052",
     "status": "completed"
    },
    "tags": []
   },
   "outputs": [],
   "source": [
    "training_data_x = X_train\n",
    "testing_data_x = X_test\n",
    "training_data_y = y_train.reshape(-1,1)\n",
    "testing_data_y = y_test.reshape(-1,1)"
   ]
  },
  {
   "cell_type": "code",
   "execution_count": 19,
   "id": "76951160",
   "metadata": {
    "execution": {
     "iopub.execute_input": "2022-06-08T20:09:32.688023Z",
     "iopub.status.busy": "2022-06-08T20:09:32.687386Z",
     "iopub.status.idle": "2022-06-08T20:09:32.702741Z",
     "shell.execute_reply": "2022-06-08T20:09:32.702151Z"
    },
    "papermill": {
     "duration": 0.046513,
     "end_time": "2022-06-08T20:09:32.702843",
     "exception": false,
     "start_time": "2022-06-08T20:09:32.656330",
     "status": "completed"
    },
    "tags": []
   },
   "outputs": [
    {
     "name": "stdout",
     "output_type": "stream",
     "text": [
      "xavier\n",
      "xavier\n",
      "xavier\n",
      "xavier\n",
      "xavier\n"
     ]
    }
   ],
   "source": [
    "layers = [Affine(\"first\", 784, 100), Relu(\"first\"), Affine(\"second\", 100, 100), Relu(\"second\"), Affine(\"third\", 100, 2), Affine(\"last\", 2, 1), Sigmoid(\"last\")]\n",
    "model_nn = Model(layers)\n",
    "model_lr = Model([Affine(\"logits\", 784, 1), Sigmoid(\"sigmoid\")])"
   ]
  },
  {
   "cell_type": "code",
   "execution_count": 20,
   "id": "6eede77a",
   "metadata": {
    "execution": {
     "iopub.execute_input": "2022-06-08T20:09:32.763214Z",
     "iopub.status.busy": "2022-06-08T20:09:32.762590Z",
     "iopub.status.idle": "2022-06-08T20:09:32.772849Z",
     "shell.execute_reply": "2022-06-08T20:09:32.773320Z"
    },
    "papermill": {
     "duration": 0.041698,
     "end_time": "2022-06-08T20:09:32.773434",
     "exception": false,
     "start_time": "2022-06-08T20:09:32.731736",
     "status": "completed"
    },
    "tags": []
   },
   "outputs": [],
   "source": [
    "nn_learner = Learner(loss, model_nn, opt, config.num_epochs)\n",
    "acc_nn = ClfCallback(nn_learner, config.bs, training_data_x , testing_data_x, training_data_y, testing_data_y)\n",
    "nn_learner.set_callbacks([acc_nn])"
   ]
  },
  {
   "cell_type": "code",
   "execution_count": 21,
   "id": "877b6cc7",
   "metadata": {
    "execution": {
     "iopub.execute_input": "2022-06-08T20:09:32.830920Z",
     "iopub.status.busy": "2022-06-08T20:09:32.830326Z",
     "iopub.status.idle": "2022-06-08T20:09:32.841262Z",
     "shell.execute_reply": "2022-06-08T20:09:32.840772Z"
    },
    "papermill": {
     "duration": 0.04095,
     "end_time": "2022-06-08T20:09:32.841364",
     "exception": false,
     "start_time": "2022-06-08T20:09:32.800414",
     "status": "completed"
    },
    "tags": []
   },
   "outputs": [],
   "source": [
    "lr_learner = Learner(loss, model_lr, opt, config.num_epochs)\n",
    "acc_lr = ClfCallback(lr_learner, config.bs, training_data_x , testing_data_x, training_data_y, testing_data_y)\n",
    "lr_learner.set_callbacks([acc_lr])"
   ]
  },
  {
   "cell_type": "code",
   "execution_count": 22,
   "id": "d9b133c3",
   "metadata": {
    "execution": {
     "iopub.execute_input": "2022-06-08T20:09:32.899721Z",
     "iopub.status.busy": "2022-06-08T20:09:32.899090Z",
     "iopub.status.idle": "2022-06-08T20:11:40.386317Z",
     "shell.execute_reply": "2022-06-08T20:11:40.387202Z"
    },
    "papermill": {
     "duration": 127.51923,
     "end_time": "2022-06-08T20:11:40.387380",
     "exception": false,
     "start_time": "2022-06-08T20:09:32.868150",
     "status": "completed"
    },
    "tags": []
   },
   "outputs": [
    {
     "name": "stdout",
     "output_type": "stream",
     "text": [
      "Epoch 0, Loss 0.2296\n",
      "Training Accuracy: 0.7343, Testing Accuracy: 0.7500\n",
      "\n"
     ]
    },
    {
     "name": "stdout",
     "output_type": "stream",
     "text": [
      "Epoch 10, Loss 0.0832\n",
      "Training Accuracy: 0.9239, Testing Accuracy: 0.9400\n",
      "\n"
     ]
    },
    {
     "name": "stdout",
     "output_type": "stream",
     "text": [
      "Epoch 20, Loss 0.0528\n",
      "Training Accuracy: 0.9453, Testing Accuracy: 0.9582\n",
      "\n"
     ]
    },
    {
     "name": "stdout",
     "output_type": "stream",
     "text": [
      "Epoch 30, Loss 0.042\n",
      "Training Accuracy: 0.9542, Testing Accuracy: 0.9647\n",
      "\n"
     ]
    },
    {
     "name": "stdout",
     "output_type": "stream",
     "text": [
      "Epoch 40, Loss 0.0365\n",
      "Training Accuracy: 0.9598, Testing Accuracy: 0.9682\n",
      "\n"
     ]
    },
    {
     "name": "stdout",
     "output_type": "stream",
     "text": [
      "Epoch 50, Loss 0.0332\n",
      "Training Accuracy: 0.9627, Testing Accuracy: 0.9688\n",
      "\n"
     ]
    },
    {
     "name": "stdout",
     "output_type": "stream",
     "text": [
      "Epoch 60, Loss 0.0309\n",
      "Training Accuracy: 0.9643, Testing Accuracy: 0.9708\n",
      "\n"
     ]
    },
    {
     "name": "stdout",
     "output_type": "stream",
     "text": [
      "Epoch 70, Loss 0.0292\n",
      "Training Accuracy: 0.9663, Testing Accuracy: 0.9713\n",
      "\n"
     ]
    },
    {
     "name": "stdout",
     "output_type": "stream",
     "text": [
      "Epoch 80, Loss 0.0278\n",
      "Training Accuracy: 0.9679, Testing Accuracy: 0.9723\n",
      "\n"
     ]
    },
    {
     "name": "stdout",
     "output_type": "stream",
     "text": [
      "Epoch 90, Loss 0.0267\n",
      "Training Accuracy: 0.9692, Testing Accuracy: 0.9718\n",
      "\n"
     ]
    },
    {
     "name": "stdout",
     "output_type": "stream",
     "text": [
      "Epoch 100, Loss 0.0257\n",
      "Training Accuracy: 0.9701, Testing Accuracy: 0.9728\n",
      "\n"
     ]
    },
    {
     "name": "stdout",
     "output_type": "stream",
     "text": [
      "Epoch 110, Loss 0.0248\n",
      "Training Accuracy: 0.9714, Testing Accuracy: 0.9728\n",
      "\n"
     ]
    },
    {
     "name": "stdout",
     "output_type": "stream",
     "text": [
      "Epoch 120, Loss 0.0241\n",
      "Training Accuracy: 0.9720, Testing Accuracy: 0.9728\n",
      "\n"
     ]
    },
    {
     "name": "stdout",
     "output_type": "stream",
     "text": [
      "Epoch 130, Loss 0.0234\n",
      "Training Accuracy: 0.9734, Testing Accuracy: 0.9728\n",
      "\n"
     ]
    },
    {
     "name": "stdout",
     "output_type": "stream",
     "text": [
      "Epoch 140, Loss 0.0227\n",
      "Training Accuracy: 0.9738, Testing Accuracy: 0.9733\n",
      "\n"
     ]
    },
    {
     "name": "stdout",
     "output_type": "stream",
     "text": [
      "Epoch 150, Loss 0.0222\n",
      "Training Accuracy: 0.9745, Testing Accuracy: 0.9738\n",
      "\n"
     ]
    },
    {
     "name": "stdout",
     "output_type": "stream",
     "text": [
      "Epoch 160, Loss 0.0216\n",
      "Training Accuracy: 0.9753, Testing Accuracy: 0.9748\n",
      "\n"
     ]
    },
    {
     "name": "stdout",
     "output_type": "stream",
     "text": [
      "Epoch 170, Loss 0.0211\n",
      "Training Accuracy: 0.9762, Testing Accuracy: 0.9753\n",
      "\n"
     ]
    },
    {
     "name": "stdout",
     "output_type": "stream",
     "text": [
      "Epoch 180, Loss 0.0206\n",
      "Training Accuracy: 0.9770, Testing Accuracy: 0.9758\n",
      "\n"
     ]
    },
    {
     "name": "stdout",
     "output_type": "stream",
     "text": [
      "Epoch 190, Loss 0.0201\n",
      "Training Accuracy: 0.9781, Testing Accuracy: 0.9758\n",
      "\n"
     ]
    },
    {
     "name": "stdout",
     "output_type": "stream",
     "text": [
      "Epoch 200, Loss 0.0197\n",
      "Training Accuracy: 0.9785, Testing Accuracy: 0.9768\n",
      "\n"
     ]
    },
    {
     "name": "stdout",
     "output_type": "stream",
     "text": [
      "Epoch 210, Loss 0.0192\n",
      "Training Accuracy: 0.9790, Testing Accuracy: 0.9763\n",
      "\n"
     ]
    },
    {
     "name": "stdout",
     "output_type": "stream",
     "text": [
      "Epoch 220, Loss 0.0188\n",
      "Training Accuracy: 0.9795, Testing Accuracy: 0.9763\n",
      "\n"
     ]
    },
    {
     "name": "stdout",
     "output_type": "stream",
     "text": [
      "Epoch 230, Loss 0.0184\n",
      "Training Accuracy: 0.9801, Testing Accuracy: 0.9763\n",
      "\n"
     ]
    },
    {
     "name": "stdout",
     "output_type": "stream",
     "text": [
      "Epoch 240, Loss 0.018\n",
      "Training Accuracy: 0.9806, Testing Accuracy: 0.9763\n",
      "\n"
     ]
    },
    {
     "data": {
      "text/plain": [
       "0.002622407775951076"
      ]
     },
     "execution_count": 22,
     "metadata": {},
     "output_type": "execute_result"
    }
   ],
   "source": [
    "nn_learner.train_loop(dl)"
   ]
  },
  {
   "cell_type": "code",
   "execution_count": 23,
   "id": "e0163366",
   "metadata": {
    "execution": {
     "iopub.execute_input": "2022-06-08T20:11:40.471467Z",
     "iopub.status.busy": "2022-06-08T20:11:40.470746Z",
     "iopub.status.idle": "2022-06-08T20:11:58.971738Z",
     "shell.execute_reply": "2022-06-08T20:11:58.972544Z"
    },
    "papermill": {
     "duration": 18.550169,
     "end_time": "2022-06-08T20:11:58.972689",
     "exception": false,
     "start_time": "2022-06-08T20:11:40.422520",
     "status": "completed"
    },
    "tags": []
   },
   "outputs": [
    {
     "name": "stdout",
     "output_type": "stream",
     "text": [
      "Epoch 0, Loss 0.2308\n",
      "Training Accuracy: 0.7354, Testing Accuracy: 0.7560\n",
      "\n"
     ]
    },
    {
     "name": "stdout",
     "output_type": "stream",
     "text": [
      "Epoch 10, Loss 0.1035\n",
      "Training Accuracy: 0.9049, Testing Accuracy: 0.9148\n",
      "\n"
     ]
    },
    {
     "name": "stdout",
     "output_type": "stream",
     "text": [
      "Epoch 20, Loss 0.0804\n",
      "Training Accuracy: 0.9220, Testing Accuracy: 0.9375\n",
      "\n"
     ]
    },
    {
     "name": "stdout",
     "output_type": "stream",
     "text": [
      "Epoch 30, Loss 0.0694\n",
      "Training Accuracy: 0.9328, Testing Accuracy: 0.9471\n",
      "\n"
     ]
    },
    {
     "name": "stdout",
     "output_type": "stream",
     "text": [
      "Epoch 40, Loss 0.0628\n",
      "Training Accuracy: 0.9383, Testing Accuracy: 0.9506\n",
      "\n"
     ]
    },
    {
     "name": "stdout",
     "output_type": "stream",
     "text": [
      "Epoch 50, Loss 0.0582\n",
      "Training Accuracy: 0.9422, Testing Accuracy: 0.9526\n",
      "\n"
     ]
    },
    {
     "name": "stdout",
     "output_type": "stream",
     "text": [
      "Epoch 60, Loss 0.0548\n",
      "Training Accuracy: 0.9440, Testing Accuracy: 0.9551\n",
      "\n"
     ]
    },
    {
     "name": "stdout",
     "output_type": "stream",
     "text": [
      "Epoch 70, Loss 0.0521\n",
      "Training Accuracy: 0.9464, Testing Accuracy: 0.9561\n",
      "\n"
     ]
    },
    {
     "name": "stdout",
     "output_type": "stream",
     "text": [
      "Epoch 80, Loss 0.05\n",
      "Training Accuracy: 0.9486, Testing Accuracy: 0.9577\n",
      "\n"
     ]
    },
    {
     "name": "stdout",
     "output_type": "stream",
     "text": [
      "Epoch 90, Loss 0.0483\n",
      "Training Accuracy: 0.9503, Testing Accuracy: 0.9592\n",
      "\n"
     ]
    },
    {
     "name": "stdout",
     "output_type": "stream",
     "text": [
      "Epoch 100, Loss 0.0468\n",
      "Training Accuracy: 0.9515, Testing Accuracy: 0.9617\n",
      "\n"
     ]
    },
    {
     "name": "stdout",
     "output_type": "stream",
     "text": [
      "Epoch 110, Loss 0.0456\n",
      "Training Accuracy: 0.9524, Testing Accuracy: 0.9627\n",
      "\n"
     ]
    },
    {
     "name": "stdout",
     "output_type": "stream",
     "text": [
      "Epoch 120, Loss 0.0445\n",
      "Training Accuracy: 0.9533, Testing Accuracy: 0.9637\n",
      "\n"
     ]
    },
    {
     "name": "stdout",
     "output_type": "stream",
     "text": [
      "Epoch 130, Loss 0.0435\n",
      "Training Accuracy: 0.9548, Testing Accuracy: 0.9637\n",
      "\n"
     ]
    },
    {
     "name": "stdout",
     "output_type": "stream",
     "text": [
      "Epoch 140, Loss 0.0426\n",
      "Training Accuracy: 0.9553, Testing Accuracy: 0.9647\n",
      "\n"
     ]
    },
    {
     "name": "stdout",
     "output_type": "stream",
     "text": [
      "Epoch 150, Loss 0.0419\n",
      "Training Accuracy: 0.9564, Testing Accuracy: 0.9642\n",
      "\n"
     ]
    },
    {
     "name": "stdout",
     "output_type": "stream",
     "text": [
      "Epoch 160, Loss 0.0412\n",
      "Training Accuracy: 0.9569, Testing Accuracy: 0.9652\n",
      "\n"
     ]
    },
    {
     "name": "stdout",
     "output_type": "stream",
     "text": [
      "Epoch 170, Loss 0.0405\n",
      "Training Accuracy: 0.9577, Testing Accuracy: 0.9657\n",
      "\n"
     ]
    },
    {
     "name": "stdout",
     "output_type": "stream",
     "text": [
      "Epoch 180, Loss 0.04\n",
      "Training Accuracy: 0.9584, Testing Accuracy: 0.9657\n",
      "\n"
     ]
    },
    {
     "name": "stdout",
     "output_type": "stream",
     "text": [
      "Epoch 190, Loss 0.0394\n",
      "Training Accuracy: 0.9592, Testing Accuracy: 0.9662\n",
      "\n"
     ]
    },
    {
     "name": "stdout",
     "output_type": "stream",
     "text": [
      "Epoch 200, Loss 0.0389\n",
      "Training Accuracy: 0.9594, Testing Accuracy: 0.9662\n",
      "\n"
     ]
    },
    {
     "name": "stdout",
     "output_type": "stream",
     "text": [
      "Epoch 210, Loss 0.0385\n",
      "Training Accuracy: 0.9599, Testing Accuracy: 0.9662\n",
      "\n"
     ]
    },
    {
     "name": "stdout",
     "output_type": "stream",
     "text": [
      "Epoch 220, Loss 0.038\n",
      "Training Accuracy: 0.9603, Testing Accuracy: 0.9662\n",
      "\n"
     ]
    },
    {
     "name": "stdout",
     "output_type": "stream",
     "text": [
      "Epoch 230, Loss 0.0376\n",
      "Training Accuracy: 0.9606, Testing Accuracy: 0.9662\n",
      "\n"
     ]
    },
    {
     "name": "stdout",
     "output_type": "stream",
     "text": [
      "Epoch 240, Loss 0.0373\n",
      "Training Accuracy: 0.9607, Testing Accuracy: 0.9667\n",
      "\n"
     ]
    },
    {
     "data": {
      "text/plain": [
       "0.07356443241389934"
      ]
     },
     "execution_count": 23,
     "metadata": {},
     "output_type": "execute_result"
    }
   ],
   "source": [
    "lr_learner.train_loop(dl)"
   ]
  },
  {
   "cell_type": "code",
   "execution_count": 24,
   "id": "ca410940",
   "metadata": {
    "execution": {
     "iopub.execute_input": "2022-06-08T20:11:59.068443Z",
     "iopub.status.busy": "2022-06-08T20:11:59.067859Z",
     "iopub.status.idle": "2022-06-08T20:11:59.317531Z",
     "shell.execute_reply": "2022-06-08T20:11:59.316695Z"
    },
    "papermill": {
     "duration": 0.302726,
     "end_time": "2022-06-08T20:11:59.317657",
     "exception": false,
     "start_time": "2022-06-08T20:11:59.014931",
     "status": "completed"
    },
    "tags": []
   },
   "outputs": [
    {
     "data": {
      "text/plain": [
       "<matplotlib.legend.Legend at 0x7f621a664978>"
      ]
     },
     "execution_count": 24,
     "metadata": {},
     "output_type": "execute_result"
    },
    {
     "data": {
      "image/png": "[encoded data removed]",
      "text/plain": [
       "<Figure size 1080x720 with 1 Axes>"
      ]
     },
     "metadata": {
      "needs_background": "light"
     },
     "output_type": "display_data"
    }
   ],
   "source": [
    "#comparing the results of NN and LR\n",
    "plt.figure(figsize=(15,10))\n",
    "\n",
    "# Neural Network plots\n",
    "plt.plot(acc_nn.accuracies, 'r-', label = \"Training Accuracies - NN\")\n",
    "plt.plot(acc_nn.test_accuracies, 'g-', label = \"Testing Accuracies - NN\")\n",
    "\n",
    "# Logistic Regression plots\n",
    "plt.plot(acc_lr.accuracies, 'k-', label = \"Training Accuracies - LR\")\n",
    "plt.plot(acc_lr.test_accuracies, 'b-', label = \"Testing Accuracies - LR\")\n",
    "plt.legend()"
   ]
  },
  {
   "cell_type": "markdown",
   "id": "80dfb35c",
   "metadata": {
    "papermill": {
     "duration": 0.042343,
     "end_time": "2022-06-08T20:11:59.404198",
     "exception": false,
     "start_time": "2022-06-08T20:11:59.361855",
     "status": "completed"
    },
    "tags": []
   },
   "source": [
    "#### Plotting the outputs of this layer of the NN.\n"
   ]
  },
  {
   "cell_type": "code",
   "execution_count": 25,
   "id": "45eb2ff5",
   "metadata": {
    "execution": {
     "iopub.execute_input": "2022-06-08T20:11:59.494681Z",
     "iopub.status.busy": "2022-06-08T20:11:59.494087Z",
     "iopub.status.idle": "2022-06-08T20:11:59.517564Z",
     "shell.execute_reply": "2022-06-08T20:11:59.518252Z"
    },
    "papermill": {
     "duration": 0.071691,
     "end_time": "2022-06-08T20:11:59.518382",
     "exception": false,
     "start_time": "2022-06-08T20:11:59.446691",
     "status": "completed"
    },
    "tags": []
   },
   "outputs": [],
   "source": [
    "new_model = Model(layers[:-2])\n",
    "testing_plot = new_model(testing_data_x)"
   ]
  },
  {
   "cell_type": "code",
   "execution_count": 26,
   "id": "4c0a5485",
   "metadata": {
    "execution": {
     "iopub.execute_input": "2022-06-08T20:11:59.612770Z",
     "iopub.status.busy": "2022-06-08T20:11:59.612186Z",
     "iopub.status.idle": "2022-06-08T20:11:59.814125Z",
     "shell.execute_reply": "2022-06-08T20:11:59.813513Z"
    },
    "papermill": {
     "duration": 0.252766,
     "end_time": "2022-06-08T20:11:59.814232",
     "exception": false,
     "start_time": "2022-06-08T20:11:59.561466",
     "status": "completed"
    },
    "tags": []
   },
   "outputs": [
    {
     "data": {
      "text/plain": [
       "Text(0.5, 1.0, 'Outputs')"
      ]
     },
     "execution_count": 26,
     "metadata": {},
     "output_type": "execute_result"
    },
    {
     "data": {
      "image/png": "[encoded data removed]",
      "text/plain": [
       "<Figure size 576x504 with 1 Axes>"
      ]
     },
     "metadata": {
      "needs_background": "light"
     },
     "output_type": "display_data"
    }
   ],
   "source": [
    "# Plotting the scatter plot of points and color coding by class\n",
    "plt.figure(figsize=(8,7))\n",
    "plt.scatter(testing_plot[:,0], testing_plot[:,1], alpha = 0.1, c = y_test.ravel());\n",
    "plt.title('Outputs')"
   ]
  },
  {
   "cell_type": "markdown",
   "id": "a74fcf8f",
   "metadata": {
    "papermill": {
     "duration": 0.065981,
     "end_time": "2022-06-08T20:11:59.923678",
     "exception": false,
     "start_time": "2022-06-08T20:11:59.857697",
     "status": "completed"
    },
    "tags": []
   },
   "source": [
    "Probability contours"
   ]
  },
  {
   "cell_type": "code",
   "execution_count": 27,
   "id": "d0afc8e3",
   "metadata": {
    "execution": {
     "iopub.execute_input": "2022-06-08T20:12:00.017274Z",
     "iopub.status.busy": "2022-06-08T20:12:00.016658Z",
     "iopub.status.idle": "2022-06-08T20:12:00.028024Z",
     "shell.execute_reply": "2022-06-08T20:12:00.028473Z"
    },
    "papermill": {
     "duration": 0.061171,
     "end_time": "2022-06-08T20:12:00.028594",
     "exception": false,
     "start_time": "2022-06-08T20:11:59.967423",
     "status": "completed"
    },
    "tags": []
   },
   "outputs": [],
   "source": [
    "model_prob = Model(layers[-2:]) "
   ]
  },
  {
   "cell_type": "code",
   "execution_count": 28,
   "id": "9b96e238",
   "metadata": {
    "execution": {
     "iopub.execute_input": "2022-06-08T20:12:00.122453Z",
     "iopub.status.busy": "2022-06-08T20:12:00.121836Z",
     "iopub.status.idle": "2022-06-08T20:12:00.135621Z",
     "shell.execute_reply": "2022-06-08T20:12:00.135130Z"
    },
    "papermill": {
     "duration": 0.063378,
     "end_time": "2022-06-08T20:12:00.135727",
     "exception": false,
     "start_time": "2022-06-08T20:12:00.072349",
     "status": "completed"
    },
    "tags": []
   },
   "outputs": [],
   "source": [
    "#creating the x and y ranges according to the above generated plot.\n",
    "x_range = np.linspace(-4, 1, 100) \n",
    "y_range = np.linspace(-6, 6, 100) \n",
    "x_grid, y_grid = np.meshgrid(x_range, y_range) # x_grid and y_grig are of size 100 X 100\n",
    "\n",
    "# converting x_grid and y_grid to continuous arrays\n",
    "x_gridflat = np.ravel(x_grid)\n",
    "y_gridflat = np.ravel(y_grid)\n",
    "\n",
    "# The last layer of the current model takes two columns as input. Hence transpose of np.vstack() is required.\n",
    "X = np.vstack((x_gridflat, y_gridflat)).T\n",
    "\n",
    "prob_contour = model_prob(X).reshape(100,100) "
   ]
  },
  {
   "cell_type": "code",
   "execution_count": 29,
   "id": "da72499a",
   "metadata": {
    "execution": {
     "iopub.execute_input": "2022-06-08T20:12:00.229754Z",
     "iopub.status.busy": "2022-06-08T20:12:00.229104Z",
     "iopub.status.idle": "2022-06-08T20:12:00.498630Z",
     "shell.execute_reply": "2022-06-08T20:12:00.498133Z"
    },
    "papermill": {
     "duration": 0.319252,
     "end_time": "2022-06-08T20:12:00.498739",
     "exception": false,
     "start_time": "2022-06-08T20:12:00.179487",
     "status": "completed"
    },
    "tags": []
   },
   "outputs": [
    {
     "data": {
      "image/png": "[encoded data removed]",
      "text/plain": [
       "<Figure size 720x648 with 1 Axes>"
      ]
     },
     "metadata": {
      "needs_background": "light"
     },
     "output_type": "display_data"
    }
   ],
   "source": [
    "plt.figure(figsize=(10,9))\n",
    "plt.scatter(testing_plot[:,0], testing_plot[:,1], alpha = 0.1, c = y_test.ravel())\n",
    "contours = plt.contour(x_grid,y_grid,prob_contour)\n",
    "plt.title('Probability Contours')\n",
    "plt.clabel(contours, inline = True );"
   ]
  },
  {
   "cell_type": "code",
   "execution_count": null,
   "id": "e81b4ac7",
   "metadata": {
    "papermill": {
     "duration": 0.045066,
     "end_time": "2022-06-08T20:12:00.589767",
     "exception": false,
     "start_time": "2022-06-08T20:12:00.544701",
     "status": "completed"
    },
    "tags": []
   },
   "outputs": [],
   "source": []
  }
 ],
 "metadata": {
  "kernelspec": {
   "display_name": "Python 3",
   "language": "python",
   "name": "python3"
  },
  "language_info": {
   "codemirror_mode": {
    "name": "ipython",
    "version": 3
   },
   "file_extension": ".py",
   "mimetype": "text/x-python",
   "name": "python",
   "nbconvert_exporter": "python",
   "pygments_lexer": "ipython3",
   "version": "3.6.15"
  },
  "papermill": {
   "default_parameters": {},
   "duration": 153.915845,
   "end_time": "2022-06-08T20:12:00.955897",
   "environment_variables": {},
   "exception": null,
   "input_path": "2020-08-11-part2.ipynb",
   "output_path": "2020-08-11-part2.ipynb",
   "parameters": {},
   "start_time": "2022-06-08T20:09:27.040052",
   "version": "2.3.3"
  }
 },
 "nbformat": 4,
 "nbformat_minor": 5
}