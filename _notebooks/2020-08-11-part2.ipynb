{
 "cells": [
  {
   "cell_type": "markdown",
   "id": "98380cd3",
   "metadata": {
    "papermill": {
     "duration": 0.049732,
     "end_time": "2021-10-15T00:21:31.035291",
     "exception": false,
     "start_time": "2021-10-15T00:21:30.985559",
     "status": "completed"
    },
    "tags": []
   },
   "source": [
    "# Distinguish Your Own Digits (DYOD)"
   ]
  },
  {
   "cell_type": "markdown",
   "id": "ef31240d",
   "metadata": {
    "papermill": {
     "duration": 0.038582,
     "end_time": "2021-10-15T00:21:31.107418",
     "exception": false,
     "start_time": "2021-10-15T00:21:31.068836",
     "status": "completed"
    },
    "tags": []
   },
   "source": [
    "You are going to write a classifier that distinguishes between the number 3 and number 8."
   ]
  },
  {
   "cell_type": "code",
   "execution_count": 1,
   "id": "b15c8646",
   "metadata": {
    "execution": {
     "iopub.execute_input": "2021-10-15T00:21:31.201795Z",
     "iopub.status.busy": "2021-10-15T00:21:31.200845Z",
     "iopub.status.idle": "2021-10-15T00:21:31.225863Z",
     "shell.execute_reply": "2021-10-15T00:21:31.225186Z"
    },
    "papermill": {
     "duration": 0.076751,
     "end_time": "2021-10-15T00:21:31.226036",
     "exception": false,
     "start_time": "2021-10-15T00:21:31.149285",
     "status": "completed"
    },
    "tags": []
   },
   "outputs": [],
   "source": [
    "%load_ext autoreload\n",
    "%autoreload 2"
   ]
  },
  {
   "cell_type": "code",
   "execution_count": 2,
   "id": "22ef38dc",
   "metadata": {
    "execution": {
     "iopub.execute_input": "2021-10-15T00:21:31.295438Z",
     "iopub.status.busy": "2021-10-15T00:21:31.294704Z",
     "iopub.status.idle": "2021-10-15T00:21:32.050014Z",
     "shell.execute_reply": "2021-10-15T00:21:32.049388Z"
    },
    "papermill": {
     "duration": 0.791808,
     "end_time": "2021-10-15T00:21:32.050170",
     "exception": false,
     "start_time": "2021-10-15T00:21:31.258362",
     "status": "completed"
    },
    "tags": []
   },
   "outputs": [],
   "source": [
    "%matplotlib inline\n",
    "import numpy as np\n",
    "import matplotlib.pyplot as plt\n",
    "import pandas as pd"
   ]
  },
  {
   "cell_type": "markdown",
   "id": "ba036198",
   "metadata": {
    "papermill": {
     "duration": 0.044332,
     "end_time": "2021-10-15T00:21:32.139342",
     "exception": false,
     "start_time": "2021-10-15T00:21:32.095010",
     "status": "completed"
    },
    "tags": []
   },
   "source": [
    "From the command line run `pip install mnist`. This is a library that will help you bring down the mnist dataset. If you run this from a notebook, you need to put  `!pip install mnist` in a cell by itself."
   ]
  },
  {
   "cell_type": "code",
   "execution_count": 3,
   "id": "bb6ad8a1",
   "metadata": {
    "execution": {
     "iopub.execute_input": "2021-10-15T00:21:32.239331Z",
     "iopub.status.busy": "2021-10-15T00:21:32.238571Z",
     "iopub.status.idle": "2021-10-15T00:21:34.607127Z",
     "shell.execute_reply": "2021-10-15T00:21:34.608274Z"
    },
    "papermill": {
     "duration": 2.423119,
     "end_time": "2021-10-15T00:21:34.608458",
     "exception": false,
     "start_time": "2021-10-15T00:21:32.185339",
     "status": "completed"
    },
    "tags": []
   },
   "outputs": [
    {
     "name": "stdout",
     "output_type": "stream",
     "text": [
      "Collecting mnist\r\n"
     ]
    },
    {
     "name": "stdout",
     "output_type": "stream",
     "text": [
      "  Downloading mnist-0.2.2-py2.py3-none-any.whl (3.5 kB)\r\n",
      "Requirement already satisfied: numpy in /opt/hostedtoolcache/Python/3.6.15/x64/lib/python3.6/site-packages (from mnist) (1.19.5)\r\n"
     ]
    },
    {
     "name": "stdout",
     "output_type": "stream",
     "text": [
      "Installing collected packages: mnist\r\n"
     ]
    },
    {
     "name": "stdout",
     "output_type": "stream",
     "text": [
      "Successfully installed mnist-0.2.2\r\n"
     ]
    },
    {
     "name": "stdout",
     "output_type": "stream",
     "text": [
      "\u001b[33mWARNING: You are using pip version 21.2.4; however, version 21.3 is available.\r\n",
      "You should consider upgrading via the '/opt/hostedtoolcache/Python/3.6.15/x64/bin/python -m pip install --upgrade pip' command.\u001b[0m\r\n"
     ]
    }
   ],
   "source": [
    "!pip install mnist"
   ]
  },
  {
   "cell_type": "markdown",
   "id": "69df9c9a",
   "metadata": {
    "papermill": {
     "duration": 0.041892,
     "end_time": "2021-10-15T00:21:34.699888",
     "exception": false,
     "start_time": "2021-10-15T00:21:34.657996",
     "status": "completed"
    },
    "tags": []
   },
   "source": [
    "## Preparing the Data"
   ]
  },
  {
   "cell_type": "code",
   "execution_count": 4,
   "id": "7f69d806",
   "metadata": {
    "execution": {
     "iopub.execute_input": "2021-10-15T00:21:34.792432Z",
     "iopub.status.busy": "2021-10-15T00:21:34.786963Z",
     "iopub.status.idle": "2021-10-15T00:21:34.805374Z",
     "shell.execute_reply": "2021-10-15T00:21:34.804777Z"
    },
    "papermill": {
     "duration": 0.05925,
     "end_time": "2021-10-15T00:21:34.805521",
     "exception": false,
     "start_time": "2021-10-15T00:21:34.746271",
     "status": "completed"
    },
    "tags": []
   },
   "outputs": [],
   "source": [
    "import mnist"
   ]
  },
  {
   "cell_type": "code",
   "execution_count": 5,
   "id": "a411e44f",
   "metadata": {
    "execution": {
     "iopub.execute_input": "2021-10-15T00:21:34.885484Z",
     "iopub.status.busy": "2021-10-15T00:21:34.884805Z",
     "iopub.status.idle": "2021-10-15T00:21:35.537548Z",
     "shell.execute_reply": "2021-10-15T00:21:35.538128Z"
    },
    "papermill": {
     "duration": 0.691165,
     "end_time": "2021-10-15T00:21:35.538312",
     "exception": false,
     "start_time": "2021-10-15T00:21:34.847147",
     "status": "completed"
    },
    "tags": []
   },
   "outputs": [],
   "source": [
    "train_images = mnist.train_images()\n",
    "train_labels = mnist.train_labels()"
   ]
  },
  {
   "cell_type": "code",
   "execution_count": 6,
   "id": "dceab3a5",
   "metadata": {
    "execution": {
     "iopub.execute_input": "2021-10-15T00:21:35.615192Z",
     "iopub.status.busy": "2021-10-15T00:21:35.614198Z",
     "iopub.status.idle": "2021-10-15T00:21:35.632312Z",
     "shell.execute_reply": "2021-10-15T00:21:35.631507Z"
    },
    "papermill": {
     "duration": 0.057517,
     "end_time": "2021-10-15T00:21:35.632470",
     "exception": false,
     "start_time": "2021-10-15T00:21:35.574953",
     "status": "completed"
    },
    "tags": []
   },
   "outputs": [
    {
     "data": {
      "text/plain": [
       "((60000, 28, 28), (60000,))"
      ]
     },
     "execution_count": 6,
     "metadata": {},
     "output_type": "execute_result"
    }
   ],
   "source": [
    "train_images.shape, train_labels.shape"
   ]
  },
  {
   "cell_type": "code",
   "execution_count": 7,
   "id": "f50dc2bb",
   "metadata": {
    "execution": {
     "iopub.execute_input": "2021-10-15T00:21:35.734268Z",
     "iopub.status.busy": "2021-10-15T00:21:35.733508Z",
     "iopub.status.idle": "2021-10-15T00:21:35.915706Z",
     "shell.execute_reply": "2021-10-15T00:21:35.916284Z"
    },
    "papermill": {
     "duration": 0.240053,
     "end_time": "2021-10-15T00:21:35.916460",
     "exception": false,
     "start_time": "2021-10-15T00:21:35.676407",
     "status": "completed"
    },
    "tags": []
   },
   "outputs": [],
   "source": [
    "test_images = mnist.test_images()\n",
    "test_labels = mnist.test_labels()"
   ]
  },
  {
   "cell_type": "code",
   "execution_count": 8,
   "id": "fc38cf1b",
   "metadata": {
    "execution": {
     "iopub.execute_input": "2021-10-15T00:21:36.011128Z",
     "iopub.status.busy": "2021-10-15T00:21:36.010422Z",
     "iopub.status.idle": "2021-10-15T00:21:36.026096Z",
     "shell.execute_reply": "2021-10-15T00:21:36.025539Z"
    },
    "papermill": {
     "duration": 0.05601,
     "end_time": "2021-10-15T00:21:36.026246",
     "exception": false,
     "start_time": "2021-10-15T00:21:35.970236",
     "status": "completed"
    },
    "tags": []
   },
   "outputs": [
    {
     "data": {
      "text/plain": [
       "((10000, 28, 28), (10000,))"
      ]
     },
     "execution_count": 8,
     "metadata": {},
     "output_type": "execute_result"
    }
   ],
   "source": [
    "test_images.shape, test_labels.shape"
   ]
  },
  {
   "cell_type": "code",
   "execution_count": 9,
   "id": "f9ed8fe0",
   "metadata": {
    "execution": {
     "iopub.execute_input": "2021-10-15T00:21:36.106950Z",
     "iopub.status.busy": "2021-10-15T00:21:36.106040Z",
     "iopub.status.idle": "2021-10-15T00:21:36.348157Z",
     "shell.execute_reply": "2021-10-15T00:21:36.347146Z"
    },
    "papermill": {
     "duration": 0.287686,
     "end_time": "2021-10-15T00:21:36.348320",
     "exception": false,
     "start_time": "2021-10-15T00:21:36.060634",
     "status": "completed"
    },
    "tags": []
   },
   "outputs": [
    {
     "name": "stdout",
     "output_type": "stream",
     "text": [
      "2\n"
     ]
    },
    {
     "data": {
      "text/plain": [
       "<matplotlib.image.AxesImage at 0x7fda63066828>"
      ]
     },
     "execution_count": 9,
     "metadata": {},
     "output_type": "execute_result"
    },
    {
     "data": {
      "image/png": "[encoded data removed]",
      "text/plain": [
       "<Figure size 432x288 with 1 Axes>"
      ]
     },
     "metadata": {
      "needs_background": "light"
     },
     "output_type": "display_data"
    }
   ],
   "source": [
    "image_index = 7776 # You may select anything up to 60,000\n",
    "print(train_labels[image_index]) \n",
    "plt.imshow(train_images[image_index], cmap='Greys')"
   ]
  },
  {
   "cell_type": "markdown",
   "id": "a8d2388d",
   "metadata": {
    "papermill": {
     "duration": 0.037272,
     "end_time": "2021-10-15T00:21:36.425754",
     "exception": false,
     "start_time": "2021-10-15T00:21:36.388482",
     "status": "completed"
    },
    "tags": []
   },
   "source": [
    "## Filter data to get 3 and 8 out"
   ]
  },
  {
   "cell_type": "code",
   "execution_count": 10,
   "id": "776f7fc7",
   "metadata": {
    "execution": {
     "iopub.execute_input": "2021-10-15T00:21:36.505835Z",
     "iopub.status.busy": "2021-10-15T00:21:36.503641Z",
     "iopub.status.idle": "2021-10-15T00:21:36.527660Z",
     "shell.execute_reply": "2021-10-15T00:21:36.528192Z"
    },
    "papermill": {
     "duration": 0.065589,
     "end_time": "2021-10-15T00:21:36.528372",
     "exception": false,
     "start_time": "2021-10-15T00:21:36.462783",
     "status": "completed"
    },
    "tags": []
   },
   "outputs": [],
   "source": [
    "train_filter = np.where((train_labels == 3 ) | (train_labels == 8))\n",
    "test_filter = np.where((test_labels == 3) | (test_labels == 8))\n",
    "X_train, y_train = train_images[train_filter], train_labels[train_filter]\n",
    "X_test, y_test = test_images[test_filter], test_labels[test_filter]"
   ]
  },
  {
   "cell_type": "markdown",
   "id": "948f0b7e",
   "metadata": {
    "papermill": {
     "duration": 0.037246,
     "end_time": "2021-10-15T00:21:36.601256",
     "exception": false,
     "start_time": "2021-10-15T00:21:36.564010",
     "status": "completed"
    },
    "tags": []
   },
   "source": [
    "We normalize the pizel values in the 0 to 1 range"
   ]
  },
  {
   "cell_type": "code",
   "execution_count": 11,
   "id": "ee4c2166",
   "metadata": {
    "execution": {
     "iopub.execute_input": "2021-10-15T00:21:36.686517Z",
     "iopub.status.busy": "2021-10-15T00:21:36.685632Z",
     "iopub.status.idle": "2021-10-15T00:21:36.757753Z",
     "shell.execute_reply": "2021-10-15T00:21:36.756402Z"
    },
    "papermill": {
     "duration": 0.116811,
     "end_time": "2021-10-15T00:21:36.757987",
     "exception": false,
     "start_time": "2021-10-15T00:21:36.641176",
     "status": "completed"
    },
    "tags": []
   },
   "outputs": [],
   "source": [
    "X_train = X_train/255.\n",
    "X_test = X_test/255."
   ]
  },
  {
   "cell_type": "markdown",
   "id": "ddcf4fab",
   "metadata": {
    "papermill": {
     "duration": 0.053061,
     "end_time": "2021-10-15T00:21:36.852398",
     "exception": false,
     "start_time": "2021-10-15T00:21:36.799337",
     "status": "completed"
    },
    "tags": []
   },
   "source": [
    "And setup the labels as 1 (when the digit is 3) and 0 (when the digit is 8)"
   ]
  },
  {
   "cell_type": "code",
   "execution_count": 12,
   "id": "7dc908f2",
   "metadata": {
    "execution": {
     "iopub.execute_input": "2021-10-15T00:21:36.944114Z",
     "iopub.status.busy": "2021-10-15T00:21:36.943430Z",
     "iopub.status.idle": "2021-10-15T00:21:36.959261Z",
     "shell.execute_reply": "2021-10-15T00:21:36.958639Z"
    },
    "papermill": {
     "duration": 0.066839,
     "end_time": "2021-10-15T00:21:36.959417",
     "exception": false,
     "start_time": "2021-10-15T00:21:36.892578",
     "status": "completed"
    },
    "tags": []
   },
   "outputs": [],
   "source": [
    "y_train = 1*(y_train==3)\n",
    "y_test = 1*(y_test==3)"
   ]
  },
  {
   "cell_type": "code",
   "execution_count": 13,
   "id": "01e4e969",
   "metadata": {
    "execution": {
     "iopub.execute_input": "2021-10-15T00:21:37.050315Z",
     "iopub.status.busy": "2021-10-15T00:21:37.049533Z",
     "iopub.status.idle": "2021-10-15T00:21:37.072547Z",
     "shell.execute_reply": "2021-10-15T00:21:37.074682Z"
    },
    "papermill": {
     "duration": 0.080121,
     "end_time": "2021-10-15T00:21:37.075290",
     "exception": false,
     "start_time": "2021-10-15T00:21:36.995169",
     "status": "completed"
    },
    "tags": []
   },
   "outputs": [
    {
     "data": {
      "text/plain": [
       "((11982, 28, 28), (1984, 28, 28))"
      ]
     },
     "execution_count": 13,
     "metadata": {},
     "output_type": "execute_result"
    }
   ],
   "source": [
    "X_train.shape, X_test.shape"
   ]
  },
  {
   "cell_type": "markdown",
   "id": "5ccf3f85",
   "metadata": {
    "papermill": {
     "duration": 0.042784,
     "end_time": "2021-10-15T00:21:37.168510",
     "exception": false,
     "start_time": "2021-10-15T00:21:37.125726",
     "status": "completed"
    },
    "tags": []
   },
   "source": [
    "We reshape the data to flatten the image pixels into a set of features or co-variates:"
   ]
  },
  {
   "cell_type": "code",
   "execution_count": 14,
   "id": "5286a4a3",
   "metadata": {
    "execution": {
     "iopub.execute_input": "2021-10-15T00:21:37.251445Z",
     "iopub.status.busy": "2021-10-15T00:21:37.250541Z",
     "iopub.status.idle": "2021-10-15T00:21:37.267978Z",
     "shell.execute_reply": "2021-10-15T00:21:37.267301Z"
    },
    "papermill": {
     "duration": 0.058773,
     "end_time": "2021-10-15T00:21:37.268133",
     "exception": false,
     "start_time": "2021-10-15T00:21:37.209360",
     "status": "completed"
    },
    "tags": []
   },
   "outputs": [
    {
     "data": {
      "text/plain": [
       "((11982, 784), (1984, 784))"
      ]
     },
     "execution_count": 14,
     "metadata": {},
     "output_type": "execute_result"
    }
   ],
   "source": [
    "X_train = X_train.reshape(X_train.shape[0], -1)\n",
    "X_test = X_test.reshape(X_test.shape[0], -1)\n",
    "X_train.shape, X_test.shape"
   ]
  },
  {
   "cell_type": "code",
   "execution_count": 15,
   "id": "73c5f88a",
   "metadata": {
    "execution": {
     "iopub.execute_input": "2021-10-15T00:21:37.364043Z",
     "iopub.status.busy": "2021-10-15T00:21:37.363349Z",
     "iopub.status.idle": "2021-10-15T00:21:37.387063Z",
     "shell.execute_reply": "2021-10-15T00:21:37.386409Z"
    },
    "papermill": {
     "duration": 0.07198,
     "end_time": "2021-10-15T00:21:37.387213",
     "exception": false,
     "start_time": "2021-10-15T00:21:37.315233",
     "status": "completed"
    },
    "tags": []
   },
   "outputs": [],
   "source": [
    "#Impoting functions from 'Kudzu'\n",
    "from kudzu.model import Model\n",
    "from kudzu.train import Learner\n",
    "from kudzu.optim import GD\n",
    "from kudzu.data import Data, Sampler,Dataloader\n",
    "\n",
    "from kudzu.callbacks import AccCallback\n",
    "from kudzu.callbacks import ClfCallback\n",
    "\n",
    "from kudzu.loss import MSE\n",
    "\n",
    "from kudzu.layer import Sigmoid,Relu\n",
    "from kudzu.layer import Affine"
   ]
  },
  {
   "cell_type": "markdown",
   "id": "bc01172a",
   "metadata": {
    "papermill": {
     "duration": 0.048165,
     "end_time": "2021-10-15T00:21:37.482379",
     "exception": false,
     "start_time": "2021-10-15T00:21:37.434214",
     "status": "completed"
    },
    "tags": []
   },
   "source": [
    "### Let us create a `Config` class, to store important parameters. \n",
    "This class essentially plays the role of a dictionary."
   ]
  },
  {
   "cell_type": "code",
   "execution_count": 16,
   "id": "978281aa",
   "metadata": {
    "execution": {
     "iopub.execute_input": "2021-10-15T00:21:37.583718Z",
     "iopub.status.busy": "2021-10-15T00:21:37.583012Z",
     "iopub.status.idle": "2021-10-15T00:21:37.609452Z",
     "shell.execute_reply": "2021-10-15T00:21:37.608012Z"
    },
    "papermill": {
     "duration": 0.074015,
     "end_time": "2021-10-15T00:21:37.609620",
     "exception": false,
     "start_time": "2021-10-15T00:21:37.535605",
     "status": "completed"
    },
    "tags": []
   },
   "outputs": [],
   "source": [
    "class Config:\n",
    "    pass\n",
    "config = Config()\n",
    "config.lr = 0.001\n",
    "config.num_epochs = 250\n",
    "config.bs = 50"
   ]
  },
  {
   "cell_type": "markdown",
   "id": "1385fa59",
   "metadata": {
    "papermill": {
     "duration": 0.036388,
     "end_time": "2021-10-15T00:21:37.692593",
     "exception": false,
     "start_time": "2021-10-15T00:21:37.656205",
     "status": "completed"
    },
    "tags": []
   },
   "source": [
    "### Running Models with the Training data\n",
    "Details about the network layers:\n",
    "- A first affine layer has 784 inputs and does 100 affine transforms. These are followed by a Relu\n",
    "- A second affine layer has 100 inputs from the 100 activations of the past layer, and does 100 affine transforms. These are followed by a Relu\n",
    "- A third affine layer has 100 activations and does 2 affine transformations to create an embedding for visualization. There is no non-linearity here.\n",
    "- A final \"logistic regression\" which has an affine transform from 2 inputs to 1 output, which is squeezed through a sigmoid.\n"
   ]
  },
  {
   "cell_type": "code",
   "execution_count": 17,
   "id": "2b9c66db",
   "metadata": {
    "execution": {
     "iopub.execute_input": "2021-10-15T00:21:37.795061Z",
     "iopub.status.busy": "2021-10-15T00:21:37.793809Z",
     "iopub.status.idle": "2021-10-15T00:21:37.820655Z",
     "shell.execute_reply": "2021-10-15T00:21:37.819455Z"
    },
    "papermill": {
     "duration": 0.086494,
     "end_time": "2021-10-15T00:21:37.820825",
     "exception": false,
     "start_time": "2021-10-15T00:21:37.734331",
     "status": "completed"
    },
    "tags": []
   },
   "outputs": [],
   "source": [
    "data = Data(X_train, y_train.reshape(-1,1))\n",
    "sampler = Sampler(data, config.bs, shuffle=True)\n",
    "\n",
    "dl = Dataloader(data, sampler)\n",
    "\n",
    "opt = GD(config.lr)\n",
    "loss = MSE()"
   ]
  },
  {
   "cell_type": "code",
   "execution_count": 18,
   "id": "b275e4c2",
   "metadata": {
    "execution": {
     "iopub.execute_input": "2021-10-15T00:21:37.942862Z",
     "iopub.status.busy": "2021-10-15T00:21:37.942141Z",
     "iopub.status.idle": "2021-10-15T00:21:37.962857Z",
     "shell.execute_reply": "2021-10-15T00:21:37.962218Z"
    },
    "papermill": {
     "duration": 0.097217,
     "end_time": "2021-10-15T00:21:37.963011",
     "exception": false,
     "start_time": "2021-10-15T00:21:37.865794",
     "status": "completed"
    },
    "tags": []
   },
   "outputs": [],
   "source": [
    "training_data_x = X_train\n",
    "testing_data_x = X_test\n",
    "training_data_y = y_train.reshape(-1,1)\n",
    "testing_data_y = y_test.reshape(-1,1)"
   ]
  },
  {
   "cell_type": "code",
   "execution_count": 19,
   "id": "76951160",
   "metadata": {
    "execution": {
     "iopub.execute_input": "2021-10-15T00:21:38.061813Z",
     "iopub.status.busy": "2021-10-15T00:21:38.060868Z",
     "iopub.status.idle": "2021-10-15T00:21:38.089069Z",
     "shell.execute_reply": "2021-10-15T00:21:38.088415Z"
    },
    "papermill": {
     "duration": 0.078779,
     "end_time": "2021-10-15T00:21:38.089239",
     "exception": false,
     "start_time": "2021-10-15T00:21:38.010460",
     "status": "completed"
    },
    "tags": []
   },
   "outputs": [
    {
     "name": "stdout",
     "output_type": "stream",
     "text": [
      "xavier\n",
      "xavier\n",
      "xavier\n",
      "xavier\n",
      "xavier\n"
     ]
    }
   ],
   "source": [
    "layers = [Affine(\"first\", 784, 100), Relu(\"first\"), Affine(\"second\", 100, 100), Relu(\"second\"), Affine(\"third\", 100, 2), Affine(\"last\", 2, 1), Sigmoid(\"last\")]\n",
    "model_nn = Model(layers)\n",
    "model_lr = Model([Affine(\"logits\", 784, 1), Sigmoid(\"sigmoid\")])"
   ]
  },
  {
   "cell_type": "code",
   "execution_count": 20,
   "id": "6eede77a",
   "metadata": {
    "execution": {
     "iopub.execute_input": "2021-10-15T00:21:38.177001Z",
     "iopub.status.busy": "2021-10-15T00:21:38.176278Z",
     "iopub.status.idle": "2021-10-15T00:21:38.191177Z",
     "shell.execute_reply": "2021-10-15T00:21:38.190038Z"
    },
    "papermill": {
     "duration": 0.063493,
     "end_time": "2021-10-15T00:21:38.191567",
     "exception": false,
     "start_time": "2021-10-15T00:21:38.128074",
     "status": "completed"
    },
    "tags": []
   },
   "outputs": [],
   "source": [
    "nn_learner = Learner(loss, model_nn, opt, config.num_epochs)\n",
    "acc_nn = ClfCallback(nn_learner, config.bs, training_data_x , testing_data_x, training_data_y, testing_data_y)\n",
    "nn_learner.set_callbacks([acc_nn])"
   ]
  },
  {
   "cell_type": "code",
   "execution_count": 21,
   "id": "877b6cc7",
   "metadata": {
    "execution": {
     "iopub.execute_input": "2021-10-15T00:21:38.273451Z",
     "iopub.status.busy": "2021-10-15T00:21:38.272774Z",
     "iopub.status.idle": "2021-10-15T00:21:38.288100Z",
     "shell.execute_reply": "2021-10-15T00:21:38.288751Z"
    },
    "papermill": {
     "duration": 0.057351,
     "end_time": "2021-10-15T00:21:38.288936",
     "exception": false,
     "start_time": "2021-10-15T00:21:38.231585",
     "status": "completed"
    },
    "tags": []
   },
   "outputs": [],
   "source": [
    "lr_learner = Learner(loss, model_lr, opt, config.num_epochs)\n",
    "acc_lr = ClfCallback(lr_learner, config.bs, training_data_x , testing_data_x, training_data_y, testing_data_y)\n",
    "lr_learner.set_callbacks([acc_lr])"
   ]
  },
  {
   "cell_type": "code",
   "execution_count": 22,
   "id": "d9b133c3",
   "metadata": {
    "execution": {
     "iopub.execute_input": "2021-10-15T00:21:38.389819Z",
     "iopub.status.busy": "2021-10-15T00:21:38.389144Z",
     "iopub.status.idle": "2021-10-15T00:24:13.700669Z",
     "shell.execute_reply": "2021-10-15T00:24:13.701637Z"
    },
    "papermill": {
     "duration": 155.364964,
     "end_time": "2021-10-15T00:24:13.701822",
     "exception": false,
     "start_time": "2021-10-15T00:21:38.336858",
     "status": "completed"
    },
    "tags": []
   },
   "outputs": [
    {
     "name": "stdout",
     "output_type": "stream",
     "text": [
      "Epoch 0, Loss 0.2307\n",
      "Training Accuracy: 0.7945, Testing Accuracy: 0.8150\n",
      "\n"
     ]
    },
    {
     "name": "stdout",
     "output_type": "stream",
     "text": [
      "Epoch 10, Loss 0.0509\n",
      "Training Accuracy: 0.9465, Testing Accuracy: 0.9572\n",
      "\n"
     ]
    },
    {
     "name": "stdout",
     "output_type": "stream",
     "text": [
      "Epoch 20, Loss 0.0381\n",
      "Training Accuracy: 0.9589, Testing Accuracy: 0.9688\n",
      "\n"
     ]
    },
    {
     "name": "stdout",
     "output_type": "stream",
     "text": [
      "Epoch 30, Loss 0.0329\n",
      "Training Accuracy: 0.9624, Testing Accuracy: 0.9713\n",
      "\n"
     ]
    },
    {
     "name": "stdout",
     "output_type": "stream",
     "text": [
      "Epoch 40, Loss 0.0298\n",
      "Training Accuracy: 0.9657, Testing Accuracy: 0.9718\n",
      "\n"
     ]
    },
    {
     "name": "stdout",
     "output_type": "stream",
     "text": [
      "Epoch 50, Loss 0.0276\n",
      "Training Accuracy: 0.9690, Testing Accuracy: 0.9728\n",
      "\n"
     ]
    },
    {
     "name": "stdout",
     "output_type": "stream",
     "text": [
      "Epoch 60, Loss 0.0259\n",
      "Training Accuracy: 0.9711, Testing Accuracy: 0.9733\n",
      "\n"
     ]
    },
    {
     "name": "stdout",
     "output_type": "stream",
     "text": [
      "Epoch 70, Loss 0.0245\n",
      "Training Accuracy: 0.9727, Testing Accuracy: 0.9743\n",
      "\n"
     ]
    },
    {
     "name": "stdout",
     "output_type": "stream",
     "text": [
      "Epoch 80, Loss 0.0234\n",
      "Training Accuracy: 0.9744, Testing Accuracy: 0.9733\n",
      "\n"
     ]
    },
    {
     "name": "stdout",
     "output_type": "stream",
     "text": [
      "Epoch 90, Loss 0.0224\n",
      "Training Accuracy: 0.9764, Testing Accuracy: 0.9738\n",
      "\n"
     ]
    },
    {
     "name": "stdout",
     "output_type": "stream",
     "text": [
      "Epoch 100, Loss 0.0215\n",
      "Training Accuracy: 0.9771, Testing Accuracy: 0.9738\n",
      "\n"
     ]
    },
    {
     "name": "stdout",
     "output_type": "stream",
     "text": [
      "Epoch 110, Loss 0.0207\n",
      "Training Accuracy: 0.9783, Testing Accuracy: 0.9753\n",
      "\n"
     ]
    },
    {
     "name": "stdout",
     "output_type": "stream",
     "text": [
      "Epoch 120, Loss 0.02\n",
      "Training Accuracy: 0.9789, Testing Accuracy: 0.9753\n",
      "\n"
     ]
    },
    {
     "name": "stdout",
     "output_type": "stream",
     "text": [
      "Epoch 130, Loss 0.0194\n",
      "Training Accuracy: 0.9796, Testing Accuracy: 0.9758\n",
      "\n"
     ]
    },
    {
     "name": "stdout",
     "output_type": "stream",
     "text": [
      "Epoch 140, Loss 0.0188\n",
      "Training Accuracy: 0.9800, Testing Accuracy: 0.9763\n",
      "\n"
     ]
    },
    {
     "name": "stdout",
     "output_type": "stream",
     "text": [
      "Epoch 150, Loss 0.0182\n",
      "Training Accuracy: 0.9802, Testing Accuracy: 0.9768\n",
      "\n"
     ]
    },
    {
     "name": "stdout",
     "output_type": "stream",
     "text": [
      "Epoch 160, Loss 0.0177\n",
      "Training Accuracy: 0.9808, Testing Accuracy: 0.9783\n",
      "\n"
     ]
    },
    {
     "name": "stdout",
     "output_type": "stream",
     "text": [
      "Epoch 170, Loss 0.0172\n",
      "Training Accuracy: 0.9814, Testing Accuracy: 0.9788\n",
      "\n"
     ]
    },
    {
     "name": "stdout",
     "output_type": "stream",
     "text": [
      "Epoch 180, Loss 0.0167\n",
      "Training Accuracy: 0.9818, Testing Accuracy: 0.9798\n",
      "\n"
     ]
    },
    {
     "name": "stdout",
     "output_type": "stream",
     "text": [
      "Epoch 190, Loss 0.0162\n",
      "Training Accuracy: 0.9828, Testing Accuracy: 0.9793\n",
      "\n"
     ]
    },
    {
     "name": "stdout",
     "output_type": "stream",
     "text": [
      "Epoch 200, Loss 0.0158\n",
      "Training Accuracy: 0.9831, Testing Accuracy: 0.9803\n",
      "\n"
     ]
    },
    {
     "name": "stdout",
     "output_type": "stream",
     "text": [
      "Epoch 210, Loss 0.0154\n",
      "Training Accuracy: 0.9833, Testing Accuracy: 0.9803\n",
      "\n"
     ]
    },
    {
     "name": "stdout",
     "output_type": "stream",
     "text": [
      "Epoch 220, Loss 0.015\n",
      "Training Accuracy: 0.9842, Testing Accuracy: 0.9803\n",
      "\n"
     ]
    },
    {
     "name": "stdout",
     "output_type": "stream",
     "text": [
      "Epoch 230, Loss 0.0146\n",
      "Training Accuracy: 0.9851, Testing Accuracy: 0.9808\n",
      "\n"
     ]
    },
    {
     "name": "stdout",
     "output_type": "stream",
     "text": [
      "Epoch 240, Loss 0.0142\n",
      "Training Accuracy: 0.9855, Testing Accuracy: 0.9808\n",
      "\n"
     ]
    },
    {
     "data": {
      "text/plain": [
       "0.01538550478830451"
      ]
     },
     "execution_count": 22,
     "metadata": {},
     "output_type": "execute_result"
    }
   ],
   "source": [
    "nn_learner.train_loop(dl)"
   ]
  },
  {
   "cell_type": "code",
   "execution_count": 23,
   "id": "e0163366",
   "metadata": {
    "execution": {
     "iopub.execute_input": "2021-10-15T00:24:13.808633Z",
     "iopub.status.busy": "2021-10-15T00:24:13.807944Z",
     "iopub.status.idle": "2021-10-15T00:24:35.190777Z",
     "shell.execute_reply": "2021-10-15T00:24:35.191698Z"
    },
    "papermill": {
     "duration": 21.443435,
     "end_time": "2021-10-15T00:24:35.191872",
     "exception": false,
     "start_time": "2021-10-15T00:24:13.748437",
     "status": "completed"
    },
    "tags": []
   },
   "outputs": [
    {
     "name": "stdout",
     "output_type": "stream",
     "text": [
      "Epoch 0, Loss 0.2325\n",
      "Training Accuracy: 0.7371, Testing Accuracy: 0.7445\n",
      "\n"
     ]
    },
    {
     "name": "stdout",
     "output_type": "stream",
     "text": [
      "Epoch 10, Loss 0.1009\n",
      "Training Accuracy: 0.9153, Testing Accuracy: 0.9239\n",
      "\n"
     ]
    },
    {
     "name": "stdout",
     "output_type": "stream",
     "text": [
      "Epoch 20, Loss 0.078\n",
      "Training Accuracy: 0.9311, Testing Accuracy: 0.9390\n",
      "\n"
     ]
    },
    {
     "name": "stdout",
     "output_type": "stream",
     "text": [
      "Epoch 30, Loss 0.0674\n",
      "Training Accuracy: 0.9379, Testing Accuracy: 0.9486\n",
      "\n"
     ]
    },
    {
     "name": "stdout",
     "output_type": "stream",
     "text": [
      "Epoch 40, Loss 0.061\n",
      "Training Accuracy: 0.9414, Testing Accuracy: 0.9516\n",
      "\n"
     ]
    },
    {
     "name": "stdout",
     "output_type": "stream",
     "text": [
      "Epoch 50, Loss 0.0566\n",
      "Training Accuracy: 0.9460, Testing Accuracy: 0.9551\n",
      "\n"
     ]
    },
    {
     "name": "stdout",
     "output_type": "stream",
     "text": [
      "Epoch 60, Loss 0.0534\n",
      "Training Accuracy: 0.9480, Testing Accuracy: 0.9561\n",
      "\n"
     ]
    },
    {
     "name": "stdout",
     "output_type": "stream",
     "text": [
      "Epoch 70, Loss 0.0509\n",
      "Training Accuracy: 0.9495, Testing Accuracy: 0.9582\n",
      "\n"
     ]
    },
    {
     "name": "stdout",
     "output_type": "stream",
     "text": [
      "Epoch 80, Loss 0.0489\n",
      "Training Accuracy: 0.9508, Testing Accuracy: 0.9592\n",
      "\n"
     ]
    },
    {
     "name": "stdout",
     "output_type": "stream",
     "text": [
      "Epoch 90, Loss 0.0472\n",
      "Training Accuracy: 0.9516, Testing Accuracy: 0.9587\n",
      "\n"
     ]
    },
    {
     "name": "stdout",
     "output_type": "stream",
     "text": [
      "Epoch 100, Loss 0.0459\n",
      "Training Accuracy: 0.9524, Testing Accuracy: 0.9612\n",
      "\n"
     ]
    },
    {
     "name": "stdout",
     "output_type": "stream",
     "text": [
      "Epoch 110, Loss 0.0447\n",
      "Training Accuracy: 0.9537, Testing Accuracy: 0.9627\n",
      "\n"
     ]
    },
    {
     "name": "stdout",
     "output_type": "stream",
     "text": [
      "Epoch 120, Loss 0.0436\n",
      "Training Accuracy: 0.9543, Testing Accuracy: 0.9632\n",
      "\n"
     ]
    },
    {
     "name": "stdout",
     "output_type": "stream",
     "text": [
      "Epoch 130, Loss 0.0427\n",
      "Training Accuracy: 0.9553, Testing Accuracy: 0.9642\n",
      "\n"
     ]
    },
    {
     "name": "stdout",
     "output_type": "stream",
     "text": [
      "Epoch 140, Loss 0.0419\n",
      "Training Accuracy: 0.9561, Testing Accuracy: 0.9647\n",
      "\n"
     ]
    },
    {
     "name": "stdout",
     "output_type": "stream",
     "text": [
      "Epoch 150, Loss 0.0412\n",
      "Training Accuracy: 0.9568, Testing Accuracy: 0.9652\n",
      "\n"
     ]
    },
    {
     "name": "stdout",
     "output_type": "stream",
     "text": [
      "Epoch 160, Loss 0.0405\n",
      "Training Accuracy: 0.9569, Testing Accuracy: 0.9662\n",
      "\n"
     ]
    },
    {
     "name": "stdout",
     "output_type": "stream",
     "text": [
      "Epoch 170, Loss 0.0399\n",
      "Training Accuracy: 0.9574, Testing Accuracy: 0.9667\n",
      "\n"
     ]
    },
    {
     "name": "stdout",
     "output_type": "stream",
     "text": [
      "Epoch 180, Loss 0.0394\n",
      "Training Accuracy: 0.9581, Testing Accuracy: 0.9672\n",
      "\n"
     ]
    },
    {
     "name": "stdout",
     "output_type": "stream",
     "text": [
      "Epoch 190, Loss 0.0389\n",
      "Training Accuracy: 0.9586, Testing Accuracy: 0.9677\n",
      "\n"
     ]
    },
    {
     "name": "stdout",
     "output_type": "stream",
     "text": [
      "Epoch 200, Loss 0.0384\n",
      "Training Accuracy: 0.9589, Testing Accuracy: 0.9677\n",
      "\n"
     ]
    },
    {
     "name": "stdout",
     "output_type": "stream",
     "text": [
      "Epoch 210, Loss 0.038\n",
      "Training Accuracy: 0.9591, Testing Accuracy: 0.9682\n",
      "\n"
     ]
    },
    {
     "name": "stdout",
     "output_type": "stream",
     "text": [
      "Epoch 220, Loss 0.0376\n",
      "Training Accuracy: 0.9597, Testing Accuracy: 0.9682\n",
      "\n"
     ]
    },
    {
     "name": "stdout",
     "output_type": "stream",
     "text": [
      "Epoch 230, Loss 0.0372\n",
      "Training Accuracy: 0.9598, Testing Accuracy: 0.9677\n",
      "\n"
     ]
    },
    {
     "name": "stdout",
     "output_type": "stream",
     "text": [
      "Epoch 240, Loss 0.0369\n",
      "Training Accuracy: 0.9604, Testing Accuracy: 0.9677\n",
      "\n"
     ]
    },
    {
     "data": {
      "text/plain": [
       "0.02151465291098066"
      ]
     },
     "execution_count": 23,
     "metadata": {},
     "output_type": "execute_result"
    }
   ],
   "source": [
    "lr_learner.train_loop(dl)"
   ]
  },
  {
   "cell_type": "code",
   "execution_count": 24,
   "id": "ca410940",
   "metadata": {
    "execution": {
     "iopub.execute_input": "2021-10-15T00:24:35.340531Z",
     "iopub.status.busy": "2021-10-15T00:24:35.339790Z",
     "iopub.status.idle": "2021-10-15T00:24:35.692580Z",
     "shell.execute_reply": "2021-10-15T00:24:35.691614Z"
    },
    "papermill": {
     "duration": 0.444434,
     "end_time": "2021-10-15T00:24:35.692742",
     "exception": false,
     "start_time": "2021-10-15T00:24:35.248308",
     "status": "completed"
    },
    "tags": []
   },
   "outputs": [
    {
     "data": {
      "text/plain": [
       "<matplotlib.legend.Legend at 0x7fda62bc9940>"
      ]
     },
     "execution_count": 24,
     "metadata": {},
     "output_type": "execute_result"
    },
    {
     "data": {
      "image/png": "[encoded data removed]",
      "text/plain": [
       "<Figure size 1080x720 with 1 Axes>"
      ]
     },
     "metadata": {
      "needs_background": "light"
     },
     "output_type": "display_data"
    }
   ],
   "source": [
    "#comparing the results of NN and LR\n",
    "plt.figure(figsize=(15,10))\n",
    "\n",
    "# Neural Network plots\n",
    "plt.plot(acc_nn.accuracies, 'r-', label = \"Training Accuracies - NN\")\n",
    "plt.plot(acc_nn.test_accuracies, 'g-', label = \"Testing Accuracies - NN\")\n",
    "\n",
    "# Logistic Regression plots\n",
    "plt.plot(acc_lr.accuracies, 'k-', label = \"Training Accuracies - LR\")\n",
    "plt.plot(acc_lr.test_accuracies, 'b-', label = \"Testing Accuracies - LR\")\n",
    "plt.legend()"
   ]
  },
  {
   "cell_type": "markdown",
   "id": "80dfb35c",
   "metadata": {
    "papermill": {
     "duration": 0.073885,
     "end_time": "2021-10-15T00:24:35.826767",
     "exception": false,
     "start_time": "2021-10-15T00:24:35.752882",
     "status": "completed"
    },
    "tags": []
   },
   "source": [
    "#### Plotting the outputs of this layer of the NN.\n"
   ]
  },
  {
   "cell_type": "code",
   "execution_count": 25,
   "id": "45eb2ff5",
   "metadata": {
    "execution": {
     "iopub.execute_input": "2021-10-15T00:24:35.982397Z",
     "iopub.status.busy": "2021-10-15T00:24:35.981710Z",
     "iopub.status.idle": "2021-10-15T00:24:36.025760Z",
     "shell.execute_reply": "2021-10-15T00:24:36.024811Z"
    },
    "papermill": {
     "duration": 0.136195,
     "end_time": "2021-10-15T00:24:36.025930",
     "exception": false,
     "start_time": "2021-10-15T00:24:35.889735",
     "status": "completed"
    },
    "tags": []
   },
   "outputs": [],
   "source": [
    "new_model = Model(layers[:-2])\n",
    "testing_plot = new_model(testing_data_x)"
   ]
  },
  {
   "cell_type": "code",
   "execution_count": 26,
   "id": "4c0a5485",
   "metadata": {
    "execution": {
     "iopub.execute_input": "2021-10-15T00:24:36.169743Z",
     "iopub.status.busy": "2021-10-15T00:24:36.169030Z",
     "iopub.status.idle": "2021-10-15T00:24:36.468831Z",
     "shell.execute_reply": "2021-10-15T00:24:36.469390Z"
    },
    "papermill": {
     "duration": 0.381077,
     "end_time": "2021-10-15T00:24:36.469573",
     "exception": false,
     "start_time": "2021-10-15T00:24:36.088496",
     "status": "completed"
    },
    "tags": []
   },
   "outputs": [
    {
     "data": {
      "text/plain": [
       "Text(0.5, 1.0, 'Outputs')"
      ]
     },
     "execution_count": 26,
     "metadata": {},
     "output_type": "execute_result"
    },
    {
     "data": {
      "image/png": "[encoded data removed]",
      "text/plain": [
       "<Figure size 576x504 with 1 Axes>"
      ]
     },
     "metadata": {
      "needs_background": "light"
     },
     "output_type": "display_data"
    }
   ],
   "source": [
    "# Plotting the scatter plot of points and color coding by class\n",
    "plt.figure(figsize=(8,7))\n",
    "plt.scatter(testing_plot[:,0], testing_plot[:,1], alpha = 0.1, c = y_test.ravel());\n",
    "plt.title('Outputs')"
   ]
  },
  {
   "cell_type": "markdown",
   "id": "a74fcf8f",
   "metadata": {
    "papermill": {
     "duration": 0.061733,
     "end_time": "2021-10-15T00:24:36.592071",
     "exception": false,
     "start_time": "2021-10-15T00:24:36.530338",
     "status": "completed"
    },
    "tags": []
   },
   "source": [
    "Probability contours"
   ]
  },
  {
   "cell_type": "code",
   "execution_count": 27,
   "id": "d0afc8e3",
   "metadata": {
    "execution": {
     "iopub.execute_input": "2021-10-15T00:24:36.791982Z",
     "iopub.status.busy": "2021-10-15T00:24:36.791265Z",
     "iopub.status.idle": "2021-10-15T00:24:36.807953Z",
     "shell.execute_reply": "2021-10-15T00:24:36.808535Z"
    },
    "papermill": {
     "duration": 0.093407,
     "end_time": "2021-10-15T00:24:36.808711",
     "exception": false,
     "start_time": "2021-10-15T00:24:36.715304",
     "status": "completed"
    },
    "tags": []
   },
   "outputs": [],
   "source": [
    "model_prob = Model(layers[-2:]) "
   ]
  },
  {
   "cell_type": "code",
   "execution_count": 28,
   "id": "9b96e238",
   "metadata": {
    "execution": {
     "iopub.execute_input": "2021-10-15T00:24:36.955965Z",
     "iopub.status.busy": "2021-10-15T00:24:36.955289Z",
     "iopub.status.idle": "2021-10-15T00:24:36.977161Z",
     "shell.execute_reply": "2021-10-15T00:24:36.977706Z"
    },
    "papermill": {
     "duration": 0.097913,
     "end_time": "2021-10-15T00:24:36.977887",
     "exception": false,
     "start_time": "2021-10-15T00:24:36.879974",
     "status": "completed"
    },
    "tags": []
   },
   "outputs": [],
   "source": [
    "#creating the x and y ranges according to the above generated plot.\n",
    "x_range = np.linspace(-4, 1, 100) \n",
    "y_range = np.linspace(-6, 6, 100) \n",
    "x_grid, y_grid = np.meshgrid(x_range, y_range) # x_grid and y_grig are of size 100 X 100\n",
    "\n",
    "# converting x_grid and y_grid to continuous arrays\n",
    "x_gridflat = np.ravel(x_grid)\n",
    "y_gridflat = np.ravel(y_grid)\n",
    "\n",
    "# The last layer of the current model takes two columns as input. Hence transpose of np.vstack() is required.\n",
    "X = np.vstack((x_gridflat, y_gridflat)).T\n",
    "\n",
    "prob_contour = model_prob(X).reshape(100,100) "
   ]
  },
  {
   "cell_type": "code",
   "execution_count": 29,
   "id": "da72499a",
   "metadata": {
    "execution": {
     "iopub.execute_input": "2021-10-15T00:24:37.152736Z",
     "iopub.status.busy": "2021-10-15T00:24:37.151894Z",
     "iopub.status.idle": "2021-10-15T00:24:37.520730Z",
     "shell.execute_reply": "2021-10-15T00:24:37.520106Z"
    },
    "papermill": {
     "duration": 0.467289,
     "end_time": "2021-10-15T00:24:37.520883",
     "exception": false,
     "start_time": "2021-10-15T00:24:37.053594",
     "status": "completed"
    },
    "tags": []
   },
   "outputs": [
    {
     "data": {
      "image/png": "[encoded data removed]",
      "text/plain": [
       "<Figure size 720x648 with 1 Axes>"
      ]
     },
     "metadata": {
      "needs_background": "light"
     },
     "output_type": "display_data"
    }
   ],
   "source": [
    "plt.figure(figsize=(10,9))\n",
    "plt.scatter(testing_plot[:,0], testing_plot[:,1], alpha = 0.1, c = y_test.ravel())\n",
    "contours = plt.contour(x_grid,y_grid,prob_contour)\n",
    "plt.title('Probability Contours')\n",
    "plt.clabel(contours, inline = True );"
   ]
  },
  {
   "cell_type": "code",
   "execution_count": null,
   "id": "e81b4ac7",
   "metadata": {
    "papermill": {
     "duration": 0.06149,
     "end_time": "2021-10-15T00:24:37.645519",
     "exception": false,
     "start_time": "2021-10-15T00:24:37.584029",
     "status": "completed"
    },
    "tags": []
   },
   "outputs": [],
   "source": []
  }
 ],
 "metadata": {
  "kernelspec": {
   "display_name": "Python 3",
   "language": "python",
   "name": "python3"
  },
  "language_info": {
   "codemirror_mode": {
    "name": "ipython",
    "version": 3
   },
   "file_extension": ".py",
   "mimetype": "text/x-python",
   "name": "python",
   "nbconvert_exporter": "python",
   "pygments_lexer": "ipython3",
   "version": "3.6.15"
  },
  "papermill": {
   "default_parameters": {},
   "duration": 188.699733,
   "end_time": "2021-10-15T00:24:38.118533",
   "environment_variables": {},
   "exception": null,
   "input_path": "2020-08-11-part2.ipynb",
   "output_path": "2020-08-11-part2.ipynb",
   "parameters": {},
   "start_time": "2021-10-15T00:21:29.418800",
   "version": "2.3.3"
  }
 },
 "nbformat": 4,
 "nbformat_minor": 5
}