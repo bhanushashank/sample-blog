{
 "cells": [
  {
   "cell_type": "markdown",
   "id": "98380cd3",
   "metadata": {
    "papermill": {
     "duration": 0.024751,
     "end_time": "2022-01-29T20:09:00.468117",
     "exception": false,
     "start_time": "2022-01-29T20:09:00.443366",
     "status": "completed"
    },
    "tags": []
   },
   "source": [
    "# Distinguish Your Own Digits (DYOD)"
   ]
  },
  {
   "cell_type": "markdown",
   "id": "ef31240d",
   "metadata": {
    "papermill": {
     "duration": 0.02112,
     "end_time": "2022-01-29T20:09:00.511353",
     "exception": false,
     "start_time": "2022-01-29T20:09:00.490233",
     "status": "completed"
    },
    "tags": []
   },
   "source": [
    "You are going to write a classifier that distinguishes between the number 3 and number 8."
   ]
  },
  {
   "cell_type": "code",
   "execution_count": 1,
   "id": "b15c8646",
   "metadata": {
    "execution": {
     "iopub.execute_input": "2022-01-29T20:09:00.566112Z",
     "iopub.status.busy": "2022-01-29T20:09:00.565628Z",
     "iopub.status.idle": "2022-01-29T20:09:00.576008Z",
     "shell.execute_reply": "2022-01-29T20:09:00.575617Z"
    },
    "papermill": {
     "duration": 0.043638,
     "end_time": "2022-01-29T20:09:00.576132",
     "exception": false,
     "start_time": "2022-01-29T20:09:00.532494",
     "status": "completed"
    },
    "tags": []
   },
   "outputs": [],
   "source": [
    "%load_ext autoreload\n",
    "%autoreload 2"
   ]
  },
  {
   "cell_type": "code",
   "execution_count": 2,
   "id": "22ef38dc",
   "metadata": {
    "execution": {
     "iopub.execute_input": "2022-01-29T20:09:00.622786Z",
     "iopub.status.busy": "2022-01-29T20:09:00.622311Z",
     "iopub.status.idle": "2022-01-29T20:09:01.206813Z",
     "shell.execute_reply": "2022-01-29T20:09:01.206270Z"
    },
    "papermill": {
     "duration": 0.60957,
     "end_time": "2022-01-29T20:09:01.206960",
     "exception": false,
     "start_time": "2022-01-29T20:09:00.597390",
     "status": "completed"
    },
    "tags": []
   },
   "outputs": [],
   "source": [
    "%matplotlib inline\n",
    "import numpy as np\n",
    "import matplotlib.pyplot as plt\n",
    "import pandas as pd"
   ]
  },
  {
   "cell_type": "markdown",
   "id": "ba036198",
   "metadata": {
    "papermill": {
     "duration": 0.021082,
     "end_time": "2022-01-29T20:09:01.249489",
     "exception": false,
     "start_time": "2022-01-29T20:09:01.228407",
     "status": "completed"
    },
    "tags": []
   },
   "source": [
    "From the command line run `pip install mnist`. This is a library that will help you bring down the mnist dataset. If you run this from a notebook, you need to put  `!pip install mnist` in a cell by itself."
   ]
  },
  {
   "cell_type": "code",
   "execution_count": 3,
   "id": "bb6ad8a1",
   "metadata": {
    "execution": {
     "iopub.execute_input": "2022-01-29T20:09:01.314580Z",
     "iopub.status.busy": "2022-01-29T20:09:01.310570Z",
     "iopub.status.idle": "2022-01-29T20:09:03.676509Z",
     "shell.execute_reply": "2022-01-29T20:09:03.675421Z"
    },
    "papermill": {
     "duration": 2.406068,
     "end_time": "2022-01-29T20:09:03.676659",
     "exception": false,
     "start_time": "2022-01-29T20:09:01.270591",
     "status": "completed"
    },
    "tags": []
   },
   "outputs": [
    {
     "name": "stdout",
     "output_type": "stream",
     "text": [
      "Collecting mnist\r\n"
     ]
    },
    {
     "name": "stdout",
     "output_type": "stream",
     "text": [
      "  Downloading mnist-0.2.2-py2.py3-none-any.whl (3.5 kB)\r\n",
      "Requirement already satisfied: numpy in /opt/hostedtoolcache/Python/3.6.15/x64/lib/python3.6/site-packages (from mnist) (1.19.5)\r\n"
     ]
    },
    {
     "name": "stdout",
     "output_type": "stream",
     "text": [
      "Installing collected packages: mnist\r\n"
     ]
    },
    {
     "name": "stdout",
     "output_type": "stream",
     "text": [
      "Successfully installed mnist-0.2.2\r\n"
     ]
    }
   ],
   "source": [
    "!pip install mnist"
   ]
  },
  {
   "cell_type": "markdown",
   "id": "69df9c9a",
   "metadata": {
    "papermill": {
     "duration": 0.022447,
     "end_time": "2022-01-29T20:09:03.721530",
     "exception": false,
     "start_time": "2022-01-29T20:09:03.699083",
     "status": "completed"
    },
    "tags": []
   },
   "source": [
    "## Preparing the Data"
   ]
  },
  {
   "cell_type": "code",
   "execution_count": 4,
   "id": "7f69d806",
   "metadata": {
    "execution": {
     "iopub.execute_input": "2022-01-29T20:09:03.772854Z",
     "iopub.status.busy": "2022-01-29T20:09:03.772195Z",
     "iopub.status.idle": "2022-01-29T20:09:03.781335Z",
     "shell.execute_reply": "2022-01-29T20:09:03.780957Z"
    },
    "papermill": {
     "duration": 0.037999,
     "end_time": "2022-01-29T20:09:03.781442",
     "exception": false,
     "start_time": "2022-01-29T20:09:03.743443",
     "status": "completed"
    },
    "tags": []
   },
   "outputs": [],
   "source": [
    "import mnist"
   ]
  },
  {
   "cell_type": "code",
   "execution_count": 5,
   "id": "a411e44f",
   "metadata": {
    "execution": {
     "iopub.execute_input": "2022-01-29T20:09:03.835534Z",
     "iopub.status.busy": "2022-01-29T20:09:03.830432Z",
     "iopub.status.idle": "2022-01-29T20:09:04.295179Z",
     "shell.execute_reply": "2022-01-29T20:09:04.295624Z"
    },
    "papermill": {
     "duration": 0.49156,
     "end_time": "2022-01-29T20:09:04.295779",
     "exception": false,
     "start_time": "2022-01-29T20:09:03.804219",
     "status": "completed"
    },
    "tags": []
   },
   "outputs": [],
   "source": [
    "train_images = mnist.train_images()\n",
    "train_labels = mnist.train_labels()"
   ]
  },
  {
   "cell_type": "code",
   "execution_count": 6,
   "id": "dceab3a5",
   "metadata": {
    "execution": {
     "iopub.execute_input": "2022-01-29T20:09:04.346099Z",
     "iopub.status.busy": "2022-01-29T20:09:04.345632Z",
     "iopub.status.idle": "2022-01-29T20:09:04.358718Z",
     "shell.execute_reply": "2022-01-29T20:09:04.358350Z"
    },
    "papermill": {
     "duration": 0.038622,
     "end_time": "2022-01-29T20:09:04.358824",
     "exception": false,
     "start_time": "2022-01-29T20:09:04.320202",
     "status": "completed"
    },
    "tags": []
   },
   "outputs": [
    {
     "data": {
      "text/plain": [
       "((60000, 28, 28), (60000,))"
      ]
     },
     "execution_count": 6,
     "metadata": {},
     "output_type": "execute_result"
    }
   ],
   "source": [
    "train_images.shape, train_labels.shape"
   ]
  },
  {
   "cell_type": "code",
   "execution_count": 7,
   "id": "f50dc2bb",
   "metadata": {
    "execution": {
     "iopub.execute_input": "2022-01-29T20:09:04.406524Z",
     "iopub.status.busy": "2022-01-29T20:09:04.406068Z",
     "iopub.status.idle": "2022-01-29T20:09:04.595798Z",
     "shell.execute_reply": "2022-01-29T20:09:04.595257Z"
    },
    "papermill": {
     "duration": 0.215063,
     "end_time": "2022-01-29T20:09:04.595944",
     "exception": false,
     "start_time": "2022-01-29T20:09:04.380881",
     "status": "completed"
    },
    "tags": []
   },
   "outputs": [],
   "source": [
    "test_images = mnist.test_images()\n",
    "test_labels = mnist.test_labels()"
   ]
  },
  {
   "cell_type": "code",
   "execution_count": 8,
   "id": "fc38cf1b",
   "metadata": {
    "execution": {
     "iopub.execute_input": "2022-01-29T20:09:04.647115Z",
     "iopub.status.busy": "2022-01-29T20:09:04.646643Z",
     "iopub.status.idle": "2022-01-29T20:09:04.658949Z",
     "shell.execute_reply": "2022-01-29T20:09:04.659391Z"
    },
    "papermill": {
     "duration": 0.039946,
     "end_time": "2022-01-29T20:09:04.659519",
     "exception": false,
     "start_time": "2022-01-29T20:09:04.619573",
     "status": "completed"
    },
    "tags": []
   },
   "outputs": [
    {
     "data": {
      "text/plain": [
       "((10000, 28, 28), (10000,))"
      ]
     },
     "execution_count": 8,
     "metadata": {},
     "output_type": "execute_result"
    }
   ],
   "source": [
    "test_images.shape, test_labels.shape"
   ]
  },
  {
   "cell_type": "code",
   "execution_count": 9,
   "id": "f9ed8fe0",
   "metadata": {
    "execution": {
     "iopub.execute_input": "2022-01-29T20:09:04.708017Z",
     "iopub.status.busy": "2022-01-29T20:09:04.707553Z",
     "iopub.status.idle": "2022-01-29T20:09:04.834267Z",
     "shell.execute_reply": "2022-01-29T20:09:04.834638Z"
    },
    "papermill": {
     "duration": 0.152798,
     "end_time": "2022-01-29T20:09:04.834770",
     "exception": false,
     "start_time": "2022-01-29T20:09:04.681972",
     "status": "completed"
    },
    "tags": []
   },
   "outputs": [
    {
     "name": "stdout",
     "output_type": "stream",
     "text": [
      "2\n"
     ]
    },
    {
     "data": {
      "text/plain": [
       "<matplotlib.image.AxesImage at 0x7f782c4ffc50>"
      ]
     },
     "execution_count": 9,
     "metadata": {},
     "output_type": "execute_result"
    },
    {
     "data": {
      "image/png": "[encoded data removed]",
      "text/plain": [
       "<Figure size 432x288 with 1 Axes>"
      ]
     },
     "metadata": {
      "needs_background": "light"
     },
     "output_type": "display_data"
    }
   ],
   "source": [
    "image_index = 7776 # You may select anything up to 60,000\n",
    "print(train_labels[image_index]) \n",
    "plt.imshow(train_images[image_index], cmap='Greys')"
   ]
  },
  {
   "cell_type": "markdown",
   "id": "a8d2388d",
   "metadata": {
    "papermill": {
     "duration": 0.024024,
     "end_time": "2022-01-29T20:09:04.882558",
     "exception": false,
     "start_time": "2022-01-29T20:09:04.858534",
     "status": "completed"
    },
    "tags": []
   },
   "source": [
    "## Filter data to get 3 and 8 out"
   ]
  },
  {
   "cell_type": "code",
   "execution_count": 10,
   "id": "776f7fc7",
   "metadata": {
    "execution": {
     "iopub.execute_input": "2022-01-29T20:09:04.936521Z",
     "iopub.status.busy": "2022-01-29T20:09:04.936018Z",
     "iopub.status.idle": "2022-01-29T20:09:04.953447Z",
     "shell.execute_reply": "2022-01-29T20:09:04.953011Z"
    },
    "papermill": {
     "duration": 0.047462,
     "end_time": "2022-01-29T20:09:04.953568",
     "exception": false,
     "start_time": "2022-01-29T20:09:04.906106",
     "status": "completed"
    },
    "tags": []
   },
   "outputs": [],
   "source": [
    "train_filter = np.where((train_labels == 3 ) | (train_labels == 8))\n",
    "test_filter = np.where((test_labels == 3) | (test_labels == 8))\n",
    "X_train, y_train = train_images[train_filter], train_labels[train_filter]\n",
    "X_test, y_test = test_images[test_filter], test_labels[test_filter]"
   ]
  },
  {
   "cell_type": "markdown",
   "id": "948f0b7e",
   "metadata": {
    "papermill": {
     "duration": 0.023892,
     "end_time": "2022-01-29T20:09:05.001721",
     "exception": false,
     "start_time": "2022-01-29T20:09:04.977829",
     "status": "completed"
    },
    "tags": []
   },
   "source": [
    "We normalize the pizel values in the 0 to 1 range"
   ]
  },
  {
   "cell_type": "code",
   "execution_count": 11,
   "id": "ee4c2166",
   "metadata": {
    "execution": {
     "iopub.execute_input": "2022-01-29T20:09:05.061408Z",
     "iopub.status.busy": "2022-01-29T20:09:05.058958Z",
     "iopub.status.idle": "2022-01-29T20:09:05.099917Z",
     "shell.execute_reply": "2022-01-29T20:09:05.099477Z"
    },
    "papermill": {
     "duration": 0.074839,
     "end_time": "2022-01-29T20:09:05.100031",
     "exception": false,
     "start_time": "2022-01-29T20:09:05.025192",
     "status": "completed"
    },
    "tags": []
   },
   "outputs": [],
   "source": [
    "X_train = X_train/255.\n",
    "X_test = X_test/255."
   ]
  },
  {
   "cell_type": "markdown",
   "id": "ddcf4fab",
   "metadata": {
    "papermill": {
     "duration": 0.023563,
     "end_time": "2022-01-29T20:09:05.147336",
     "exception": false,
     "start_time": "2022-01-29T20:09:05.123773",
     "status": "completed"
    },
    "tags": []
   },
   "source": [
    "And setup the labels as 1 (when the digit is 3) and 0 (when the digit is 8)"
   ]
  },
  {
   "cell_type": "code",
   "execution_count": 12,
   "id": "7dc908f2",
   "metadata": {
    "execution": {
     "iopub.execute_input": "2022-01-29T20:09:05.209293Z",
     "iopub.status.busy": "2022-01-29T20:09:05.197953Z",
     "iopub.status.idle": "2022-01-29T20:09:05.211456Z",
     "shell.execute_reply": "2022-01-29T20:09:05.211078Z"
    },
    "papermill": {
     "duration": 0.040637,
     "end_time": "2022-01-29T20:09:05.211565",
     "exception": false,
     "start_time": "2022-01-29T20:09:05.170928",
     "status": "completed"
    },
    "tags": []
   },
   "outputs": [],
   "source": [
    "y_train = 1*(y_train==3)\n",
    "y_test = 1*(y_test==3)"
   ]
  },
  {
   "cell_type": "code",
   "execution_count": 13,
   "id": "01e4e969",
   "metadata": {
    "execution": {
     "iopub.execute_input": "2022-01-29T20:09:05.267435Z",
     "iopub.status.busy": "2022-01-29T20:09:05.266953Z",
     "iopub.status.idle": "2022-01-29T20:09:05.276581Z",
     "shell.execute_reply": "2022-01-29T20:09:05.276205Z"
    },
    "papermill": {
     "duration": 0.041632,
     "end_time": "2022-01-29T20:09:05.276718",
     "exception": false,
     "start_time": "2022-01-29T20:09:05.235086",
     "status": "completed"
    },
    "tags": []
   },
   "outputs": [
    {
     "data": {
      "text/plain": [
       "((11982, 28, 28), (1984, 28, 28))"
      ]
     },
     "execution_count": 13,
     "metadata": {},
     "output_type": "execute_result"
    }
   ],
   "source": [
    "X_train.shape, X_test.shape"
   ]
  },
  {
   "cell_type": "markdown",
   "id": "5ccf3f85",
   "metadata": {
    "papermill": {
     "duration": 0.023797,
     "end_time": "2022-01-29T20:09:05.324301",
     "exception": false,
     "start_time": "2022-01-29T20:09:05.300504",
     "status": "completed"
    },
    "tags": []
   },
   "source": [
    "We reshape the data to flatten the image pixels into a set of features or co-variates:"
   ]
  },
  {
   "cell_type": "code",
   "execution_count": 14,
   "id": "5286a4a3",
   "metadata": {
    "execution": {
     "iopub.execute_input": "2022-01-29T20:09:05.376200Z",
     "iopub.status.busy": "2022-01-29T20:09:05.375686Z",
     "iopub.status.idle": "2022-01-29T20:09:05.389442Z",
     "shell.execute_reply": "2022-01-29T20:09:05.389060Z"
    },
    "papermill": {
     "duration": 0.041113,
     "end_time": "2022-01-29T20:09:05.389552",
     "exception": false,
     "start_time": "2022-01-29T20:09:05.348439",
     "status": "completed"
    },
    "tags": []
   },
   "outputs": [
    {
     "data": {
      "text/plain": [
       "((11982, 784), (1984, 784))"
      ]
     },
     "execution_count": 14,
     "metadata": {},
     "output_type": "execute_result"
    }
   ],
   "source": [
    "X_train = X_train.reshape(X_train.shape[0], -1)\n",
    "X_test = X_test.reshape(X_test.shape[0], -1)\n",
    "X_train.shape, X_test.shape"
   ]
  },
  {
   "cell_type": "code",
   "execution_count": 15,
   "id": "73c5f88a",
   "metadata": {
    "execution": {
     "iopub.execute_input": "2022-01-29T20:09:05.441884Z",
     "iopub.status.busy": "2022-01-29T20:09:05.441407Z",
     "iopub.status.idle": "2022-01-29T20:09:05.459531Z",
     "shell.execute_reply": "2022-01-29T20:09:05.459148Z"
    },
    "papermill": {
     "duration": 0.046059,
     "end_time": "2022-01-29T20:09:05.459640",
     "exception": false,
     "start_time": "2022-01-29T20:09:05.413581",
     "status": "completed"
    },
    "tags": []
   },
   "outputs": [],
   "source": [
    "#Impoting functions from 'Kudzu'\n",
    "from kudzu.model import Model\n",
    "from kudzu.train import Learner\n",
    "from kudzu.optim import GD\n",
    "from kudzu.data import Data, Sampler,Dataloader\n",
    "\n",
    "from kudzu.callbacks import AccCallback\n",
    "from kudzu.callbacks import ClfCallback\n",
    "\n",
    "from kudzu.loss import MSE\n",
    "\n",
    "from kudzu.layer import Sigmoid,Relu\n",
    "from kudzu.layer import Affine"
   ]
  },
  {
   "cell_type": "markdown",
   "id": "bc01172a",
   "metadata": {
    "papermill": {
     "duration": 0.023784,
     "end_time": "2022-01-29T20:09:05.507359",
     "exception": false,
     "start_time": "2022-01-29T20:09:05.483575",
     "status": "completed"
    },
    "tags": []
   },
   "source": [
    "### Let us create a `Config` class, to store important parameters. \n",
    "This class essentially plays the role of a dictionary."
   ]
  },
  {
   "cell_type": "code",
   "execution_count": 16,
   "id": "978281aa",
   "metadata": {
    "execution": {
     "iopub.execute_input": "2022-01-29T20:09:05.561877Z",
     "iopub.status.busy": "2022-01-29T20:09:05.561387Z",
     "iopub.status.idle": "2022-01-29T20:09:05.571070Z",
     "shell.execute_reply": "2022-01-29T20:09:05.571418Z"
    },
    "papermill": {
     "duration": 0.040313,
     "end_time": "2022-01-29T20:09:05.571546",
     "exception": false,
     "start_time": "2022-01-29T20:09:05.531233",
     "status": "completed"
    },
    "tags": []
   },
   "outputs": [],
   "source": [
    "class Config:\n",
    "    pass\n",
    "config = Config()\n",
    "config.lr = 0.001\n",
    "config.num_epochs = 250\n",
    "config.bs = 50"
   ]
  },
  {
   "cell_type": "markdown",
   "id": "1385fa59",
   "metadata": {
    "papermill": {
     "duration": 0.023849,
     "end_time": "2022-01-29T20:09:05.619475",
     "exception": false,
     "start_time": "2022-01-29T20:09:05.595626",
     "status": "completed"
    },
    "tags": []
   },
   "source": [
    "### Running Models with the Training data\n",
    "Details about the network layers:\n",
    "- A first affine layer has 784 inputs and does 100 affine transforms. These are followed by a Relu\n",
    "- A second affine layer has 100 inputs from the 100 activations of the past layer, and does 100 affine transforms. These are followed by a Relu\n",
    "- A third affine layer has 100 activations and does 2 affine transformations to create an embedding for visualization. There is no non-linearity here.\n",
    "- A final \"logistic regression\" which has an affine transform from 2 inputs to 1 output, which is squeezed through a sigmoid.\n"
   ]
  },
  {
   "cell_type": "code",
   "execution_count": 17,
   "id": "2b9c66db",
   "metadata": {
    "execution": {
     "iopub.execute_input": "2022-01-29T20:09:05.671475Z",
     "iopub.status.busy": "2022-01-29T20:09:05.671010Z",
     "iopub.status.idle": "2022-01-29T20:09:05.682761Z",
     "shell.execute_reply": "2022-01-29T20:09:05.682388Z"
    },
    "papermill": {
     "duration": 0.039217,
     "end_time": "2022-01-29T20:09:05.682863",
     "exception": false,
     "start_time": "2022-01-29T20:09:05.643646",
     "status": "completed"
    },
    "tags": []
   },
   "outputs": [],
   "source": [
    "data = Data(X_train, y_train.reshape(-1,1))\n",
    "sampler = Sampler(data, config.bs, shuffle=True)\n",
    "\n",
    "dl = Dataloader(data, sampler)\n",
    "\n",
    "opt = GD(config.lr)\n",
    "loss = MSE()"
   ]
  },
  {
   "cell_type": "code",
   "execution_count": 18,
   "id": "b275e4c2",
   "metadata": {
    "execution": {
     "iopub.execute_input": "2022-01-29T20:09:05.736256Z",
     "iopub.status.busy": "2022-01-29T20:09:05.735754Z",
     "iopub.status.idle": "2022-01-29T20:09:05.748010Z",
     "shell.execute_reply": "2022-01-29T20:09:05.748392Z"
    },
    "papermill": {
     "duration": 0.041823,
     "end_time": "2022-01-29T20:09:05.748524",
     "exception": false,
     "start_time": "2022-01-29T20:09:05.706701",
     "status": "completed"
    },
    "tags": []
   },
   "outputs": [],
   "source": [
    "training_data_x = X_train\n",
    "testing_data_x = X_test\n",
    "training_data_y = y_train.reshape(-1,1)\n",
    "testing_data_y = y_test.reshape(-1,1)"
   ]
  },
  {
   "cell_type": "code",
   "execution_count": 19,
   "id": "76951160",
   "metadata": {
    "execution": {
     "iopub.execute_input": "2022-01-29T20:09:05.800944Z",
     "iopub.status.busy": "2022-01-29T20:09:05.800434Z",
     "iopub.status.idle": "2022-01-29T20:09:05.816910Z",
     "shell.execute_reply": "2022-01-29T20:09:05.817308Z"
    },
    "papermill": {
     "duration": 0.044805,
     "end_time": "2022-01-29T20:09:05.817455",
     "exception": false,
     "start_time": "2022-01-29T20:09:05.772650",
     "status": "completed"
    },
    "tags": []
   },
   "outputs": [
    {
     "name": "stdout",
     "output_type": "stream",
     "text": [
      "xavier\n",
      "xavier\n",
      "xavier\n",
      "xavier\n",
      "xavier\n"
     ]
    }
   ],
   "source": [
    "layers = [Affine(\"first\", 784, 100), Relu(\"first\"), Affine(\"second\", 100, 100), Relu(\"second\"), Affine(\"third\", 100, 2), Affine(\"last\", 2, 1), Sigmoid(\"last\")]\n",
    "model_nn = Model(layers)\n",
    "model_lr = Model([Affine(\"logits\", 784, 1), Sigmoid(\"sigmoid\")])"
   ]
  },
  {
   "cell_type": "code",
   "execution_count": 20,
   "id": "6eede77a",
   "metadata": {
    "execution": {
     "iopub.execute_input": "2022-01-29T20:09:05.879995Z",
     "iopub.status.busy": "2022-01-29T20:09:05.879426Z",
     "iopub.status.idle": "2022-01-29T20:09:05.891399Z",
     "shell.execute_reply": "2022-01-29T20:09:05.890764Z"
    },
    "papermill": {
     "duration": 0.044792,
     "end_time": "2022-01-29T20:09:05.891541",
     "exception": false,
     "start_time": "2022-01-29T20:09:05.846749",
     "status": "completed"
    },
    "tags": []
   },
   "outputs": [],
   "source": [
    "nn_learner = Learner(loss, model_nn, opt, config.num_epochs)\n",
    "acc_nn = ClfCallback(nn_learner, config.bs, training_data_x , testing_data_x, training_data_y, testing_data_y)\n",
    "nn_learner.set_callbacks([acc_nn])"
   ]
  },
  {
   "cell_type": "code",
   "execution_count": 21,
   "id": "877b6cc7",
   "metadata": {
    "execution": {
     "iopub.execute_input": "2022-01-29T20:09:05.946445Z",
     "iopub.status.busy": "2022-01-29T20:09:05.945984Z",
     "iopub.status.idle": "2022-01-29T20:09:05.958065Z",
     "shell.execute_reply": "2022-01-29T20:09:05.957655Z"
    },
    "papermill": {
     "duration": 0.040922,
     "end_time": "2022-01-29T20:09:05.958172",
     "exception": false,
     "start_time": "2022-01-29T20:09:05.917250",
     "status": "completed"
    },
    "tags": []
   },
   "outputs": [],
   "source": [
    "lr_learner = Learner(loss, model_lr, opt, config.num_epochs)\n",
    "acc_lr = ClfCallback(lr_learner, config.bs, training_data_x , testing_data_x, training_data_y, testing_data_y)\n",
    "lr_learner.set_callbacks([acc_lr])"
   ]
  },
  {
   "cell_type": "code",
   "execution_count": 22,
   "id": "d9b133c3",
   "metadata": {
    "execution": {
     "iopub.execute_input": "2022-01-29T20:09:06.010652Z",
     "iopub.status.busy": "2022-01-29T20:09:06.010172Z",
     "iopub.status.idle": "2022-01-29T20:10:26.096669Z",
     "shell.execute_reply": "2022-01-29T20:10:26.097435Z"
    },
    "papermill": {
     "duration": 80.115145,
     "end_time": "2022-01-29T20:10:26.097590",
     "exception": false,
     "start_time": "2022-01-29T20:09:05.982445",
     "status": "completed"
    },
    "tags": []
   },
   "outputs": [
    {
     "name": "stdout",
     "output_type": "stream",
     "text": [
      "Epoch 0, Loss 0.2518\n",
      "Training Accuracy: 0.5468, Testing Accuracy: 0.5358\n",
      "\n"
     ]
    },
    {
     "name": "stdout",
     "output_type": "stream",
     "text": [
      "Epoch 10, Loss 0.0948\n",
      "Training Accuracy: 0.9148, Testing Accuracy: 0.9269\n",
      "\n"
     ]
    },
    {
     "name": "stdout",
     "output_type": "stream",
     "text": [
      "Epoch 20, Loss 0.0569\n",
      "Training Accuracy: 0.9399, Testing Accuracy: 0.9501\n",
      "\n"
     ]
    },
    {
     "name": "stdout",
     "output_type": "stream",
     "text": [
      "Epoch 30, Loss 0.0449\n",
      "Training Accuracy: 0.9510, Testing Accuracy: 0.9592\n",
      "\n"
     ]
    },
    {
     "name": "stdout",
     "output_type": "stream",
     "text": [
      "Epoch 40, Loss 0.0388\n",
      "Training Accuracy: 0.9560, Testing Accuracy: 0.9632\n",
      "\n"
     ]
    },
    {
     "name": "stdout",
     "output_type": "stream",
     "text": [
      "Epoch 50, Loss 0.0351\n",
      "Training Accuracy: 0.9602, Testing Accuracy: 0.9657\n",
      "\n"
     ]
    },
    {
     "name": "stdout",
     "output_type": "stream",
     "text": [
      "Epoch 60, Loss 0.0325\n",
      "Training Accuracy: 0.9629, Testing Accuracy: 0.9672\n",
      "\n"
     ]
    },
    {
     "name": "stdout",
     "output_type": "stream",
     "text": [
      "Epoch 70, Loss 0.0306\n",
      "Training Accuracy: 0.9650, Testing Accuracy: 0.9682\n",
      "\n"
     ]
    },
    {
     "name": "stdout",
     "output_type": "stream",
     "text": [
      "Epoch 80, Loss 0.029\n",
      "Training Accuracy: 0.9666, Testing Accuracy: 0.9708\n",
      "\n"
     ]
    },
    {
     "name": "stdout",
     "output_type": "stream",
     "text": [
      "Epoch 90, Loss 0.0277\n",
      "Training Accuracy: 0.9678, Testing Accuracy: 0.9718\n",
      "\n"
     ]
    },
    {
     "name": "stdout",
     "output_type": "stream",
     "text": [
      "Epoch 100, Loss 0.0266\n",
      "Training Accuracy: 0.9690, Testing Accuracy: 0.9713\n",
      "\n"
     ]
    },
    {
     "name": "stdout",
     "output_type": "stream",
     "text": [
      "Epoch 110, Loss 0.0257\n",
      "Training Accuracy: 0.9700, Testing Accuracy: 0.9718\n",
      "\n"
     ]
    },
    {
     "name": "stdout",
     "output_type": "stream",
     "text": [
      "Epoch 120, Loss 0.0248\n",
      "Training Accuracy: 0.9711, Testing Accuracy: 0.9718\n",
      "\n"
     ]
    },
    {
     "name": "stdout",
     "output_type": "stream",
     "text": [
      "Epoch 130, Loss 0.024\n",
      "Training Accuracy: 0.9724, Testing Accuracy: 0.9728\n",
      "\n"
     ]
    },
    {
     "name": "stdout",
     "output_type": "stream",
     "text": [
      "Epoch 140, Loss 0.0233\n",
      "Training Accuracy: 0.9729, Testing Accuracy: 0.9728\n",
      "\n"
     ]
    },
    {
     "name": "stdout",
     "output_type": "stream",
     "text": [
      "Epoch 150, Loss 0.0226\n",
      "Training Accuracy: 0.9738, Testing Accuracy: 0.9743\n",
      "\n"
     ]
    },
    {
     "name": "stdout",
     "output_type": "stream",
     "text": [
      "Epoch 160, Loss 0.022\n",
      "Training Accuracy: 0.9747, Testing Accuracy: 0.9748\n",
      "\n"
     ]
    },
    {
     "name": "stdout",
     "output_type": "stream",
     "text": [
      "Epoch 170, Loss 0.0214\n",
      "Training Accuracy: 0.9760, Testing Accuracy: 0.9758\n",
      "\n"
     ]
    },
    {
     "name": "stdout",
     "output_type": "stream",
     "text": [
      "Epoch 180, Loss 0.0209\n",
      "Training Accuracy: 0.9770, Testing Accuracy: 0.9768\n",
      "\n"
     ]
    },
    {
     "name": "stdout",
     "output_type": "stream",
     "text": [
      "Epoch 190, Loss 0.0204\n",
      "Training Accuracy: 0.9775, Testing Accuracy: 0.9773\n",
      "\n"
     ]
    },
    {
     "name": "stdout",
     "output_type": "stream",
     "text": [
      "Epoch 200, Loss 0.0199\n",
      "Training Accuracy: 0.9778, Testing Accuracy: 0.9778\n",
      "\n"
     ]
    },
    {
     "name": "stdout",
     "output_type": "stream",
     "text": [
      "Epoch 210, Loss 0.0194\n",
      "Training Accuracy: 0.9782, Testing Accuracy: 0.9773\n",
      "\n"
     ]
    },
    {
     "name": "stdout",
     "output_type": "stream",
     "text": [
      "Epoch 220, Loss 0.019\n",
      "Training Accuracy: 0.9786, Testing Accuracy: 0.9778\n",
      "\n"
     ]
    },
    {
     "name": "stdout",
     "output_type": "stream",
     "text": [
      "Epoch 230, Loss 0.0186\n",
      "Training Accuracy: 0.9791, Testing Accuracy: 0.9773\n",
      "\n"
     ]
    },
    {
     "name": "stdout",
     "output_type": "stream",
     "text": [
      "Epoch 240, Loss 0.0182\n",
      "Training Accuracy: 0.9796, Testing Accuracy: 0.9773\n",
      "\n"
     ]
    },
    {
     "data": {
      "text/plain": [
       "0.013063617975919583"
      ]
     },
     "execution_count": 22,
     "metadata": {},
     "output_type": "execute_result"
    }
   ],
   "source": [
    "nn_learner.train_loop(dl)"
   ]
  },
  {
   "cell_type": "code",
   "execution_count": 23,
   "id": "e0163366",
   "metadata": {
    "execution": {
     "iopub.execute_input": "2022-01-29T20:10:26.179739Z",
     "iopub.status.busy": "2022-01-29T20:10:26.179206Z",
     "iopub.status.idle": "2022-01-29T20:10:40.429089Z",
     "shell.execute_reply": "2022-01-29T20:10:40.429832Z"
    },
    "papermill": {
     "duration": 14.297288,
     "end_time": "2022-01-29T20:10:40.429984",
     "exception": false,
     "start_time": "2022-01-29T20:10:26.132696",
     "status": "completed"
    },
    "tags": []
   },
   "outputs": [
    {
     "name": "stdout",
     "output_type": "stream",
     "text": [
      "Epoch 0, Loss 0.2104\n",
      "Training Accuracy: 0.7693, Testing Accuracy: 0.7792\n",
      "\n"
     ]
    },
    {
     "name": "stdout",
     "output_type": "stream",
     "text": [
      "Epoch 10, Loss 0.1015\n",
      "Training Accuracy: 0.9054, Testing Accuracy: 0.9153\n",
      "\n"
     ]
    },
    {
     "name": "stdout",
     "output_type": "stream",
     "text": [
      "Epoch 20, Loss 0.0791\n",
      "Training Accuracy: 0.9241, Testing Accuracy: 0.9325\n",
      "\n"
     ]
    },
    {
     "name": "stdout",
     "output_type": "stream",
     "text": [
      "Epoch 30, Loss 0.0684\n",
      "Training Accuracy: 0.9329, Testing Accuracy: 0.9420\n",
      "\n"
     ]
    },
    {
     "name": "stdout",
     "output_type": "stream",
     "text": [
      "Epoch 40, Loss 0.0619\n",
      "Training Accuracy: 0.9393, Testing Accuracy: 0.9451\n",
      "\n"
     ]
    },
    {
     "name": "stdout",
     "output_type": "stream",
     "text": [
      "Epoch 50, Loss 0.0574\n",
      "Training Accuracy: 0.9429, Testing Accuracy: 0.9511\n",
      "\n"
     ]
    },
    {
     "name": "stdout",
     "output_type": "stream",
     "text": [
      "Epoch 60, Loss 0.0541\n",
      "Training Accuracy: 0.9472, Testing Accuracy: 0.9536\n",
      "\n"
     ]
    },
    {
     "name": "stdout",
     "output_type": "stream",
     "text": [
      "Epoch 70, Loss 0.0515\n",
      "Training Accuracy: 0.9496, Testing Accuracy: 0.9572\n",
      "\n"
     ]
    },
    {
     "name": "stdout",
     "output_type": "stream",
     "text": [
      "Epoch 80, Loss 0.0494\n",
      "Training Accuracy: 0.9507, Testing Accuracy: 0.9577\n",
      "\n"
     ]
    },
    {
     "name": "stdout",
     "output_type": "stream",
     "text": [
      "Epoch 90, Loss 0.0477\n",
      "Training Accuracy: 0.9519, Testing Accuracy: 0.9587\n",
      "\n"
     ]
    },
    {
     "name": "stdout",
     "output_type": "stream",
     "text": [
      "Epoch 100, Loss 0.0463\n",
      "Training Accuracy: 0.9533, Testing Accuracy: 0.9592\n",
      "\n"
     ]
    },
    {
     "name": "stdout",
     "output_type": "stream",
     "text": [
      "Epoch 110, Loss 0.0451\n",
      "Training Accuracy: 0.9542, Testing Accuracy: 0.9622\n",
      "\n"
     ]
    },
    {
     "name": "stdout",
     "output_type": "stream",
     "text": [
      "Epoch 120, Loss 0.044\n",
      "Training Accuracy: 0.9555, Testing Accuracy: 0.9632\n",
      "\n"
     ]
    },
    {
     "name": "stdout",
     "output_type": "stream",
     "text": [
      "Epoch 130, Loss 0.043\n",
      "Training Accuracy: 0.9560, Testing Accuracy: 0.9647\n",
      "\n"
     ]
    },
    {
     "name": "stdout",
     "output_type": "stream",
     "text": [
      "Epoch 140, Loss 0.0422\n",
      "Training Accuracy: 0.9570, Testing Accuracy: 0.9652\n",
      "\n"
     ]
    },
    {
     "name": "stdout",
     "output_type": "stream",
     "text": [
      "Epoch 150, Loss 0.0414\n",
      "Training Accuracy: 0.9574, Testing Accuracy: 0.9662\n",
      "\n"
     ]
    },
    {
     "name": "stdout",
     "output_type": "stream",
     "text": [
      "Epoch 160, Loss 0.0408\n",
      "Training Accuracy: 0.9582, Testing Accuracy: 0.9662\n",
      "\n"
     ]
    },
    {
     "name": "stdout",
     "output_type": "stream",
     "text": [
      "Epoch 170, Loss 0.0401\n",
      "Training Accuracy: 0.9589, Testing Accuracy: 0.9657\n",
      "\n"
     ]
    },
    {
     "name": "stdout",
     "output_type": "stream",
     "text": [
      "Epoch 180, Loss 0.0396\n",
      "Training Accuracy: 0.9592, Testing Accuracy: 0.9657\n",
      "\n"
     ]
    },
    {
     "name": "stdout",
     "output_type": "stream",
     "text": [
      "Epoch 190, Loss 0.039\n",
      "Training Accuracy: 0.9598, Testing Accuracy: 0.9652\n",
      "\n"
     ]
    },
    {
     "name": "stdout",
     "output_type": "stream",
     "text": [
      "Epoch 200, Loss 0.0386\n",
      "Training Accuracy: 0.9600, Testing Accuracy: 0.9657\n",
      "\n"
     ]
    },
    {
     "name": "stdout",
     "output_type": "stream",
     "text": [
      "Epoch 210, Loss 0.0381\n",
      "Training Accuracy: 0.9602, Testing Accuracy: 0.9657\n",
      "\n"
     ]
    },
    {
     "name": "stdout",
     "output_type": "stream",
     "text": [
      "Epoch 220, Loss 0.0377\n",
      "Training Accuracy: 0.9607, Testing Accuracy: 0.9652\n",
      "\n"
     ]
    },
    {
     "name": "stdout",
     "output_type": "stream",
     "text": [
      "Epoch 230, Loss 0.0373\n",
      "Training Accuracy: 0.9609, Testing Accuracy: 0.9652\n",
      "\n"
     ]
    },
    {
     "name": "stdout",
     "output_type": "stream",
     "text": [
      "Epoch 240, Loss 0.0369\n",
      "Training Accuracy: 0.9614, Testing Accuracy: 0.9652\n",
      "\n"
     ]
    },
    {
     "data": {
      "text/plain": [
       "0.01173743668294444"
      ]
     },
     "execution_count": 23,
     "metadata": {},
     "output_type": "execute_result"
    }
   ],
   "source": [
    "lr_learner.train_loop(dl)"
   ]
  },
  {
   "cell_type": "code",
   "execution_count": 24,
   "id": "ca410940",
   "metadata": {
    "execution": {
     "iopub.execute_input": "2022-01-29T20:10:40.525953Z",
     "iopub.status.busy": "2022-01-29T20:10:40.525419Z",
     "iopub.status.idle": "2022-01-29T20:10:40.742772Z",
     "shell.execute_reply": "2022-01-29T20:10:40.742327Z"
    },
    "papermill": {
     "duration": 0.271269,
     "end_time": "2022-01-29T20:10:40.742887",
     "exception": false,
     "start_time": "2022-01-29T20:10:40.471618",
     "status": "completed"
    },
    "tags": []
   },
   "outputs": [
    {
     "data": {
      "text/plain": [
       "<matplotlib.legend.Legend at 0x7f782c06e3c8>"
      ]
     },
     "execution_count": 24,
     "metadata": {},
     "output_type": "execute_result"
    },
    {
     "data": {
      "image/png": "[encoded data removed]",
      "text/plain": [
       "<Figure size 1080x720 with 1 Axes>"
      ]
     },
     "metadata": {
      "needs_background": "light"
     },
     "output_type": "display_data"
    }
   ],
   "source": [
    "#comparing the results of NN and LR\n",
    "plt.figure(figsize=(15,10))\n",
    "\n",
    "# Neural Network plots\n",
    "plt.plot(acc_nn.accuracies, 'r-', label = \"Training Accuracies - NN\")\n",
    "plt.plot(acc_nn.test_accuracies, 'g-', label = \"Testing Accuracies - NN\")\n",
    "\n",
    "# Logistic Regression plots\n",
    "plt.plot(acc_lr.accuracies, 'k-', label = \"Training Accuracies - LR\")\n",
    "plt.plot(acc_lr.test_accuracies, 'b-', label = \"Testing Accuracies - LR\")\n",
    "plt.legend()"
   ]
  },
  {
   "cell_type": "markdown",
   "id": "80dfb35c",
   "metadata": {
    "papermill": {
     "duration": 0.036844,
     "end_time": "2022-01-29T20:10:40.818622",
     "exception": false,
     "start_time": "2022-01-29T20:10:40.781778",
     "status": "completed"
    },
    "tags": []
   },
   "source": [
    "#### Plotting the outputs of this layer of the NN.\n"
   ]
  },
  {
   "cell_type": "code",
   "execution_count": 25,
   "id": "45eb2ff5",
   "metadata": {
    "execution": {
     "iopub.execute_input": "2022-01-29T20:10:40.897279Z",
     "iopub.status.busy": "2022-01-29T20:10:40.896759Z",
     "iopub.status.idle": "2022-01-29T20:10:40.915598Z",
     "shell.execute_reply": "2022-01-29T20:10:40.915177Z"
    },
    "papermill": {
     "duration": 0.060007,
     "end_time": "2022-01-29T20:10:40.915710",
     "exception": false,
     "start_time": "2022-01-29T20:10:40.855703",
     "status": "completed"
    },
    "tags": []
   },
   "outputs": [],
   "source": [
    "new_model = Model(layers[:-2])\n",
    "testing_plot = new_model(testing_data_x)"
   ]
  },
  {
   "cell_type": "code",
   "execution_count": 26,
   "id": "4c0a5485",
   "metadata": {
    "execution": {
     "iopub.execute_input": "2022-01-29T20:10:40.994544Z",
     "iopub.status.busy": "2022-01-29T20:10:40.994045Z",
     "iopub.status.idle": "2022-01-29T20:10:41.187816Z",
     "shell.execute_reply": "2022-01-29T20:10:41.186949Z"
    },
    "papermill": {
     "duration": 0.234961,
     "end_time": "2022-01-29T20:10:41.187963",
     "exception": false,
     "start_time": "2022-01-29T20:10:40.953002",
     "status": "completed"
    },
    "tags": []
   },
   "outputs": [
    {
     "data": {
      "text/plain": [
       "Text(0.5, 1.0, 'Outputs')"
      ]
     },
     "execution_count": 26,
     "metadata": {},
     "output_type": "execute_result"
    },
    {
     "data": {
      "image/png": "[encoded data removed]",
      "text/plain": [
       "<Figure size 576x504 with 1 Axes>"
      ]
     },
     "metadata": {
      "needs_background": "light"
     },
     "output_type": "display_data"
    }
   ],
   "source": [
    "# Plotting the scatter plot of points and color coding by class\n",
    "plt.figure(figsize=(8,7))\n",
    "plt.scatter(testing_plot[:,0], testing_plot[:,1], alpha = 0.1, c = y_test.ravel());\n",
    "plt.title('Outputs')"
   ]
  },
  {
   "cell_type": "markdown",
   "id": "a74fcf8f",
   "metadata": {
    "papermill": {
     "duration": 0.03859,
     "end_time": "2022-01-29T20:10:41.265697",
     "exception": false,
     "start_time": "2022-01-29T20:10:41.227107",
     "status": "completed"
    },
    "tags": []
   },
   "source": [
    "Probability contours"
   ]
  },
  {
   "cell_type": "code",
   "execution_count": 27,
   "id": "d0afc8e3",
   "metadata": {
    "execution": {
     "iopub.execute_input": "2022-01-29T20:10:41.350550Z",
     "iopub.status.busy": "2022-01-29T20:10:41.350090Z",
     "iopub.status.idle": "2022-01-29T20:10:41.360244Z",
     "shell.execute_reply": "2022-01-29T20:10:41.359771Z"
    },
    "papermill": {
     "duration": 0.055986,
     "end_time": "2022-01-29T20:10:41.360346",
     "exception": false,
     "start_time": "2022-01-29T20:10:41.304360",
     "status": "completed"
    },
    "tags": []
   },
   "outputs": [],
   "source": [
    "model_prob = Model(layers[-2:]) "
   ]
  },
  {
   "cell_type": "code",
   "execution_count": 28,
   "id": "9b96e238",
   "metadata": {
    "execution": {
     "iopub.execute_input": "2022-01-29T20:10:41.472214Z",
     "iopub.status.busy": "2022-01-29T20:10:41.471723Z",
     "iopub.status.idle": "2022-01-29T20:10:41.485201Z",
     "shell.execute_reply": "2022-01-29T20:10:41.485552Z"
    },
    "papermill": {
     "duration": 0.086667,
     "end_time": "2022-01-29T20:10:41.485674",
     "exception": false,
     "start_time": "2022-01-29T20:10:41.399007",
     "status": "completed"
    },
    "tags": []
   },
   "outputs": [],
   "source": [
    "#creating the x and y ranges according to the above generated plot.\n",
    "x_range = np.linspace(-4, 1, 100) \n",
    "y_range = np.linspace(-6, 6, 100) \n",
    "x_grid, y_grid = np.meshgrid(x_range, y_range) # x_grid and y_grig are of size 100 X 100\n",
    "\n",
    "# converting x_grid and y_grid to continuous arrays\n",
    "x_gridflat = np.ravel(x_grid)\n",
    "y_gridflat = np.ravel(y_grid)\n",
    "\n",
    "# The last layer of the current model takes two columns as input. Hence transpose of np.vstack() is required.\n",
    "X = np.vstack((x_gridflat, y_gridflat)).T\n",
    "\n",
    "prob_contour = model_prob(X).reshape(100,100) "
   ]
  },
  {
   "cell_type": "code",
   "execution_count": 29,
   "id": "da72499a",
   "metadata": {
    "execution": {
     "iopub.execute_input": "2022-01-29T20:10:41.568549Z",
     "iopub.status.busy": "2022-01-29T20:10:41.568090Z",
     "iopub.status.idle": "2022-01-29T20:10:41.783375Z",
     "shell.execute_reply": "2022-01-29T20:10:41.782951Z"
    },
    "papermill": {
     "duration": 0.258282,
     "end_time": "2022-01-29T20:10:41.783495",
     "exception": false,
     "start_time": "2022-01-29T20:10:41.525213",
     "status": "completed"
    },
    "tags": []
   },
   "outputs": [
    {
     "data": {
      "image/png": "[encoded data removed]",
      "text/plain": [
       "<Figure size 720x648 with 1 Axes>"
      ]
     },
     "metadata": {
      "needs_background": "light"
     },
     "output_type": "display_data"
    }
   ],
   "source": [
    "plt.figure(figsize=(10,9))\n",
    "plt.scatter(testing_plot[:,0], testing_plot[:,1], alpha = 0.1, c = y_test.ravel())\n",
    "contours = plt.contour(x_grid,y_grid,prob_contour)\n",
    "plt.title('Probability Contours')\n",
    "plt.clabel(contours, inline = True );"
   ]
  },
  {
   "cell_type": "code",
   "execution_count": null,
   "id": "e81b4ac7",
   "metadata": {
    "papermill": {
     "duration": 0.040383,
     "end_time": "2022-01-29T20:10:41.865205",
     "exception": false,
     "start_time": "2022-01-29T20:10:41.824822",
     "status": "completed"
    },
    "tags": []
   },
   "outputs": [],
   "source": []
  }
 ],
 "metadata": {
  "kernelspec": {
   "display_name": "Python 3",
   "language": "python",
   "name": "python3"
  },
  "language_info": {
   "codemirror_mode": {
    "name": "ipython",
    "version": 3
   },
   "file_extension": ".py",
   "mimetype": "text/x-python",
   "name": "python",
   "nbconvert_exporter": "python",
   "pygments_lexer": "ipython3",
   "version": "3.6.15"
  },
  "papermill": {
   "default_parameters": {},
   "duration": 102.998147,
   "end_time": "2022-01-29T20:10:42.323457",
   "environment_variables": {},
   "exception": null,
   "input_path": "2020-08-11-part2.ipynb",
   "output_path": "2020-08-11-part2.ipynb",
   "parameters": {},
   "start_time": "2022-01-29T20:08:59.325310",
   "version": "2.3.3"
  }
 },
 "nbformat": 4,
 "nbformat_minor": 5
}