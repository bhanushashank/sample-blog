{
 "cells": [
  {
   "cell_type": "markdown",
   "id": "98380cd3",
   "metadata": {
    "papermill": {
     "duration": 0.024854,
     "end_time": "2022-01-31T00:24:40.080886",
     "exception": false,
     "start_time": "2022-01-31T00:24:40.056032",
     "status": "completed"
    },
    "tags": []
   },
   "source": [
    "# Distinguish Your Own Digits (DYOD)"
   ]
  },
  {
   "cell_type": "markdown",
   "id": "ef31240d",
   "metadata": {
    "papermill": {
     "duration": 0.021145,
     "end_time": "2022-01-31T00:24:40.123803",
     "exception": false,
     "start_time": "2022-01-31T00:24:40.102658",
     "status": "completed"
    },
    "tags": []
   },
   "source": [
    "You are going to write a classifier that distinguishes between the number 3 and number 8."
   ]
  },
  {
   "cell_type": "code",
   "execution_count": 1,
   "id": "b15c8646",
   "metadata": {
    "execution": {
     "iopub.execute_input": "2022-01-31T00:24:40.176355Z",
     "iopub.status.busy": "2022-01-31T00:24:40.175887Z",
     "iopub.status.idle": "2022-01-31T00:24:40.184878Z",
     "shell.execute_reply": "2022-01-31T00:24:40.185339Z"
    },
    "papermill": {
     "duration": 0.040628,
     "end_time": "2022-01-31T00:24:40.185477",
     "exception": false,
     "start_time": "2022-01-31T00:24:40.144849",
     "status": "completed"
    },
    "tags": []
   },
   "outputs": [],
   "source": [
    "%load_ext autoreload\n",
    "%autoreload 2"
   ]
  },
  {
   "cell_type": "code",
   "execution_count": 2,
   "id": "22ef38dc",
   "metadata": {
    "execution": {
     "iopub.execute_input": "2022-01-31T00:24:40.231831Z",
     "iopub.status.busy": "2022-01-31T00:24:40.231370Z",
     "iopub.status.idle": "2022-01-31T00:24:40.773913Z",
     "shell.execute_reply": "2022-01-31T00:24:40.774335Z"
    },
    "papermill": {
     "duration": 0.567833,
     "end_time": "2022-01-31T00:24:40.774468",
     "exception": false,
     "start_time": "2022-01-31T00:24:40.206635",
     "status": "completed"
    },
    "tags": []
   },
   "outputs": [],
   "source": [
    "%matplotlib inline\n",
    "import numpy as np\n",
    "import matplotlib.pyplot as plt\n",
    "import pandas as pd"
   ]
  },
  {
   "cell_type": "markdown",
   "id": "ba036198",
   "metadata": {
    "papermill": {
     "duration": 0.021194,
     "end_time": "2022-01-31T00:24:40.817360",
     "exception": false,
     "start_time": "2022-01-31T00:24:40.796166",
     "status": "completed"
    },
    "tags": []
   },
   "source": [
    "From the command line run `pip install mnist`. This is a library that will help you bring down the mnist dataset. If you run this from a notebook, you need to put  `!pip install mnist` in a cell by itself."
   ]
  },
  {
   "cell_type": "code",
   "execution_count": 3,
   "id": "bb6ad8a1",
   "metadata": {
    "execution": {
     "iopub.execute_input": "2022-01-31T00:24:40.864588Z",
     "iopub.status.busy": "2022-01-31T00:24:40.864130Z",
     "iopub.status.idle": "2022-01-31T00:24:43.260003Z",
     "shell.execute_reply": "2022-01-31T00:24:43.259432Z"
    },
    "papermill": {
     "duration": 2.421651,
     "end_time": "2022-01-31T00:24:43.260141",
     "exception": false,
     "start_time": "2022-01-31T00:24:40.838490",
     "status": "completed"
    },
    "tags": []
   },
   "outputs": [
    {
     "name": "stdout",
     "output_type": "stream",
     "text": [
      "Collecting mnist\r\n"
     ]
    },
    {
     "name": "stdout",
     "output_type": "stream",
     "text": [
      "  Downloading mnist-0.2.2-py2.py3-none-any.whl (3.5 kB)\r\n",
      "Requirement already satisfied: numpy in /opt/hostedtoolcache/Python/3.6.15/x64/lib/python3.6/site-packages (from mnist) (1.19.5)\r\n"
     ]
    },
    {
     "name": "stdout",
     "output_type": "stream",
     "text": [
      "Installing collected packages: mnist\r\n",
      "Successfully installed mnist-0.2.2\r\n"
     ]
    }
   ],
   "source": [
    "!pip install mnist"
   ]
  },
  {
   "cell_type": "markdown",
   "id": "69df9c9a",
   "metadata": {
    "papermill": {
     "duration": 0.02491,
     "end_time": "2022-01-31T00:24:43.310279",
     "exception": false,
     "start_time": "2022-01-31T00:24:43.285369",
     "status": "completed"
    },
    "tags": []
   },
   "source": [
    "## Preparing the Data"
   ]
  },
  {
   "cell_type": "code",
   "execution_count": 4,
   "id": "7f69d806",
   "metadata": {
    "execution": {
     "iopub.execute_input": "2022-01-31T00:24:43.363888Z",
     "iopub.status.busy": "2022-01-31T00:24:43.363354Z",
     "iopub.status.idle": "2022-01-31T00:24:43.378578Z",
     "shell.execute_reply": "2022-01-31T00:24:43.378162Z"
    },
    "papermill": {
     "duration": 0.043677,
     "end_time": "2022-01-31T00:24:43.378692",
     "exception": false,
     "start_time": "2022-01-31T00:24:43.335015",
     "status": "completed"
    },
    "tags": []
   },
   "outputs": [],
   "source": [
    "import mnist"
   ]
  },
  {
   "cell_type": "code",
   "execution_count": 5,
   "id": "a411e44f",
   "metadata": {
    "execution": {
     "iopub.execute_input": "2022-01-31T00:24:43.435851Z",
     "iopub.status.busy": "2022-01-31T00:24:43.435335Z",
     "iopub.status.idle": "2022-01-31T00:24:43.905323Z",
     "shell.execute_reply": "2022-01-31T00:24:43.904759Z"
    },
    "papermill": {
     "duration": 0.501999,
     "end_time": "2022-01-31T00:24:43.905481",
     "exception": false,
     "start_time": "2022-01-31T00:24:43.403482",
     "status": "completed"
    },
    "tags": []
   },
   "outputs": [],
   "source": [
    "train_images = mnist.train_images()\n",
    "train_labels = mnist.train_labels()"
   ]
  },
  {
   "cell_type": "code",
   "execution_count": 6,
   "id": "dceab3a5",
   "metadata": {
    "execution": {
     "iopub.execute_input": "2022-01-31T00:24:43.962482Z",
     "iopub.status.busy": "2022-01-31T00:24:43.961946Z",
     "iopub.status.idle": "2022-01-31T00:24:43.973884Z",
     "shell.execute_reply": "2022-01-31T00:24:43.974300Z"
    },
    "papermill": {
     "duration": 0.043127,
     "end_time": "2022-01-31T00:24:43.974443",
     "exception": false,
     "start_time": "2022-01-31T00:24:43.931316",
     "status": "completed"
    },
    "tags": []
   },
   "outputs": [
    {
     "data": {
      "text/plain": [
       "((60000, 28, 28), (60000,))"
      ]
     },
     "execution_count": 6,
     "metadata": {},
     "output_type": "execute_result"
    }
   ],
   "source": [
    "train_images.shape, train_labels.shape"
   ]
  },
  {
   "cell_type": "code",
   "execution_count": 7,
   "id": "f50dc2bb",
   "metadata": {
    "execution": {
     "iopub.execute_input": "2022-01-31T00:24:44.029413Z",
     "iopub.status.busy": "2022-01-31T00:24:44.028847Z",
     "iopub.status.idle": "2022-01-31T00:24:44.177889Z",
     "shell.execute_reply": "2022-01-31T00:24:44.177351Z"
    },
    "papermill": {
     "duration": 0.178691,
     "end_time": "2022-01-31T00:24:44.178073",
     "exception": false,
     "start_time": "2022-01-31T00:24:43.999382",
     "status": "completed"
    },
    "tags": []
   },
   "outputs": [],
   "source": [
    "test_images = mnist.test_images()\n",
    "test_labels = mnist.test_labels()"
   ]
  },
  {
   "cell_type": "code",
   "execution_count": 8,
   "id": "fc38cf1b",
   "metadata": {
    "execution": {
     "iopub.execute_input": "2022-01-31T00:24:44.240356Z",
     "iopub.status.busy": "2022-01-31T00:24:44.239700Z",
     "iopub.status.idle": "2022-01-31T00:24:44.249117Z",
     "shell.execute_reply": "2022-01-31T00:24:44.249467Z"
    },
    "papermill": {
     "duration": 0.04504,
     "end_time": "2022-01-31T00:24:44.249593",
     "exception": false,
     "start_time": "2022-01-31T00:24:44.204553",
     "status": "completed"
    },
    "tags": []
   },
   "outputs": [
    {
     "data": {
      "text/plain": [
       "((10000, 28, 28), (10000,))"
      ]
     },
     "execution_count": 8,
     "metadata": {},
     "output_type": "execute_result"
    }
   ],
   "source": [
    "test_images.shape, test_labels.shape"
   ]
  },
  {
   "cell_type": "code",
   "execution_count": 9,
   "id": "f9ed8fe0",
   "metadata": {
    "execution": {
     "iopub.execute_input": "2022-01-31T00:24:44.298955Z",
     "iopub.status.busy": "2022-01-31T00:24:44.297849Z",
     "iopub.status.idle": "2022-01-31T00:24:44.432356Z",
     "shell.execute_reply": "2022-01-31T00:24:44.431544Z"
    },
    "papermill": {
     "duration": 0.16049,
     "end_time": "2022-01-31T00:24:44.432486",
     "exception": false,
     "start_time": "2022-01-31T00:24:44.271996",
     "status": "completed"
    },
    "tags": []
   },
   "outputs": [
    {
     "name": "stdout",
     "output_type": "stream",
     "text": [
      "2\n"
     ]
    },
    {
     "data": {
      "text/plain": [
       "<matplotlib.image.AxesImage at 0x7f08a4062c50>"
      ]
     },
     "execution_count": 9,
     "metadata": {},
     "output_type": "execute_result"
    },
    {
     "data": {
      "image/png": "[encoded data removed]",
      "text/plain": [
       "<Figure size 432x288 with 1 Axes>"
      ]
     },
     "metadata": {
      "needs_background": "light"
     },
     "output_type": "display_data"
    }
   ],
   "source": [
    "image_index = 7776 # You may select anything up to 60,000\n",
    "print(train_labels[image_index]) \n",
    "plt.imshow(train_images[image_index], cmap='Greys')"
   ]
  },
  {
   "cell_type": "markdown",
   "id": "a8d2388d",
   "metadata": {
    "papermill": {
     "duration": 0.023478,
     "end_time": "2022-01-31T00:24:44.479704",
     "exception": false,
     "start_time": "2022-01-31T00:24:44.456226",
     "status": "completed"
    },
    "tags": []
   },
   "source": [
    "## Filter data to get 3 and 8 out"
   ]
  },
  {
   "cell_type": "code",
   "execution_count": 10,
   "id": "776f7fc7",
   "metadata": {
    "execution": {
     "iopub.execute_input": "2022-01-31T00:24:44.531629Z",
     "iopub.status.busy": "2022-01-31T00:24:44.530551Z",
     "iopub.status.idle": "2022-01-31T00:24:44.548298Z",
     "shell.execute_reply": "2022-01-31T00:24:44.548771Z"
    },
    "papermill": {
     "duration": 0.045764,
     "end_time": "2022-01-31T00:24:44.548949",
     "exception": false,
     "start_time": "2022-01-31T00:24:44.503185",
     "status": "completed"
    },
    "tags": []
   },
   "outputs": [],
   "source": [
    "train_filter = np.where((train_labels == 3 ) | (train_labels == 8))\n",
    "test_filter = np.where((test_labels == 3) | (test_labels == 8))\n",
    "X_train, y_train = train_images[train_filter], train_labels[train_filter]\n",
    "X_test, y_test = test_images[test_filter], test_labels[test_filter]"
   ]
  },
  {
   "cell_type": "markdown",
   "id": "948f0b7e",
   "metadata": {
    "papermill": {
     "duration": 0.02624,
     "end_time": "2022-01-31T00:24:44.602453",
     "exception": false,
     "start_time": "2022-01-31T00:24:44.576213",
     "status": "completed"
    },
    "tags": []
   },
   "source": [
    "We normalize the pizel values in the 0 to 1 range"
   ]
  },
  {
   "cell_type": "code",
   "execution_count": 11,
   "id": "ee4c2166",
   "metadata": {
    "execution": {
     "iopub.execute_input": "2022-01-31T00:24:44.658414Z",
     "iopub.status.busy": "2022-01-31T00:24:44.657897Z",
     "iopub.status.idle": "2022-01-31T00:24:44.705367Z",
     "shell.execute_reply": "2022-01-31T00:24:44.704817Z"
    },
    "papermill": {
     "duration": 0.076943,
     "end_time": "2022-01-31T00:24:44.705513",
     "exception": false,
     "start_time": "2022-01-31T00:24:44.628570",
     "status": "completed"
    },
    "tags": []
   },
   "outputs": [],
   "source": [
    "X_train = X_train/255.\n",
    "X_test = X_test/255."
   ]
  },
  {
   "cell_type": "markdown",
   "id": "ddcf4fab",
   "metadata": {
    "papermill": {
     "duration": 0.026263,
     "end_time": "2022-01-31T00:24:44.758559",
     "exception": false,
     "start_time": "2022-01-31T00:24:44.732296",
     "status": "completed"
    },
    "tags": []
   },
   "source": [
    "And setup the labels as 1 (when the digit is 3) and 0 (when the digit is 8)"
   ]
  },
  {
   "cell_type": "code",
   "execution_count": 12,
   "id": "7dc908f2",
   "metadata": {
    "execution": {
     "iopub.execute_input": "2022-01-31T00:24:44.815063Z",
     "iopub.status.busy": "2022-01-31T00:24:44.814552Z",
     "iopub.status.idle": "2022-01-31T00:24:44.826212Z",
     "shell.execute_reply": "2022-01-31T00:24:44.825793Z"
    },
    "papermill": {
     "duration": 0.04149,
     "end_time": "2022-01-31T00:24:44.826326",
     "exception": false,
     "start_time": "2022-01-31T00:24:44.784836",
     "status": "completed"
    },
    "tags": []
   },
   "outputs": [],
   "source": [
    "y_train = 1*(y_train==3)\n",
    "y_test = 1*(y_test==3)"
   ]
  },
  {
   "cell_type": "code",
   "execution_count": 13,
   "id": "01e4e969",
   "metadata": {
    "execution": {
     "iopub.execute_input": "2022-01-31T00:24:44.881919Z",
     "iopub.status.busy": "2022-01-31T00:24:44.881407Z",
     "iopub.status.idle": "2022-01-31T00:24:44.894615Z",
     "shell.execute_reply": "2022-01-31T00:24:44.894207Z"
    },
    "papermill": {
     "duration": 0.0422,
     "end_time": "2022-01-31T00:24:44.894729",
     "exception": false,
     "start_time": "2022-01-31T00:24:44.852529",
     "status": "completed"
    },
    "tags": []
   },
   "outputs": [
    {
     "data": {
      "text/plain": [
       "((11982, 28, 28), (1984, 28, 28))"
      ]
     },
     "execution_count": 13,
     "metadata": {},
     "output_type": "execute_result"
    }
   ],
   "source": [
    "X_train.shape, X_test.shape"
   ]
  },
  {
   "cell_type": "markdown",
   "id": "5ccf3f85",
   "metadata": {
    "papermill": {
     "duration": 0.026324,
     "end_time": "2022-01-31T00:24:44.947493",
     "exception": false,
     "start_time": "2022-01-31T00:24:44.921169",
     "status": "completed"
    },
    "tags": []
   },
   "source": [
    "We reshape the data to flatten the image pixels into a set of features or co-variates:"
   ]
  },
  {
   "cell_type": "code",
   "execution_count": 14,
   "id": "5286a4a3",
   "metadata": {
    "execution": {
     "iopub.execute_input": "2022-01-31T00:24:45.005081Z",
     "iopub.status.busy": "2022-01-31T00:24:45.004524Z",
     "iopub.status.idle": "2022-01-31T00:24:45.016457Z",
     "shell.execute_reply": "2022-01-31T00:24:45.016866Z"
    },
    "papermill": {
     "duration": 0.042892,
     "end_time": "2022-01-31T00:24:45.017014",
     "exception": false,
     "start_time": "2022-01-31T00:24:44.974122",
     "status": "completed"
    },
    "tags": []
   },
   "outputs": [
    {
     "data": {
      "text/plain": [
       "((11982, 784), (1984, 784))"
      ]
     },
     "execution_count": 14,
     "metadata": {},
     "output_type": "execute_result"
    }
   ],
   "source": [
    "X_train = X_train.reshape(X_train.shape[0], -1)\n",
    "X_test = X_test.reshape(X_test.shape[0], -1)\n",
    "X_train.shape, X_test.shape"
   ]
  },
  {
   "cell_type": "code",
   "execution_count": 15,
   "id": "73c5f88a",
   "metadata": {
    "execution": {
     "iopub.execute_input": "2022-01-31T00:24:45.075728Z",
     "iopub.status.busy": "2022-01-31T00:24:45.075207Z",
     "iopub.status.idle": "2022-01-31T00:24:45.091945Z",
     "shell.execute_reply": "2022-01-31T00:24:45.091526Z"
    },
    "papermill": {
     "duration": 0.048115,
     "end_time": "2022-01-31T00:24:45.092058",
     "exception": false,
     "start_time": "2022-01-31T00:24:45.043943",
     "status": "completed"
    },
    "tags": []
   },
   "outputs": [],
   "source": [
    "#Impoting functions from 'Kudzu'\n",
    "from kudzu.model import Model\n",
    "from kudzu.train import Learner\n",
    "from kudzu.optim import GD\n",
    "from kudzu.data import Data, Sampler,Dataloader\n",
    "\n",
    "from kudzu.callbacks import AccCallback\n",
    "from kudzu.callbacks import ClfCallback\n",
    "\n",
    "from kudzu.loss import MSE\n",
    "\n",
    "from kudzu.layer import Sigmoid,Relu\n",
    "from kudzu.layer import Affine"
   ]
  },
  {
   "cell_type": "markdown",
   "id": "bc01172a",
   "metadata": {
    "papermill": {
     "duration": 0.026808,
     "end_time": "2022-01-31T00:24:45.145889",
     "exception": false,
     "start_time": "2022-01-31T00:24:45.119081",
     "status": "completed"
    },
    "tags": []
   },
   "source": [
    "### Let us create a `Config` class, to store important parameters. \n",
    "This class essentially plays the role of a dictionary."
   ]
  },
  {
   "cell_type": "code",
   "execution_count": 16,
   "id": "978281aa",
   "metadata": {
    "execution": {
     "iopub.execute_input": "2022-01-31T00:24:45.204416Z",
     "iopub.status.busy": "2022-01-31T00:24:45.203888Z",
     "iopub.status.idle": "2022-01-31T00:24:45.214920Z",
     "shell.execute_reply": "2022-01-31T00:24:45.214482Z"
    },
    "papermill": {
     "duration": 0.042442,
     "end_time": "2022-01-31T00:24:45.215029",
     "exception": false,
     "start_time": "2022-01-31T00:24:45.172587",
     "status": "completed"
    },
    "tags": []
   },
   "outputs": [],
   "source": [
    "class Config:\n",
    "    pass\n",
    "config = Config()\n",
    "config.lr = 0.001\n",
    "config.num_epochs = 250\n",
    "config.bs = 50"
   ]
  },
  {
   "cell_type": "markdown",
   "id": "1385fa59",
   "metadata": {
    "papermill": {
     "duration": 0.02677,
     "end_time": "2022-01-31T00:24:45.269041",
     "exception": false,
     "start_time": "2022-01-31T00:24:45.242271",
     "status": "completed"
    },
    "tags": []
   },
   "source": [
    "### Running Models with the Training data\n",
    "Details about the network layers:\n",
    "- A first affine layer has 784 inputs and does 100 affine transforms. These are followed by a Relu\n",
    "- A second affine layer has 100 inputs from the 100 activations of the past layer, and does 100 affine transforms. These are followed by a Relu\n",
    "- A third affine layer has 100 activations and does 2 affine transformations to create an embedding for visualization. There is no non-linearity here.\n",
    "- A final \"logistic regression\" which has an affine transform from 2 inputs to 1 output, which is squeezed through a sigmoid.\n"
   ]
  },
  {
   "cell_type": "code",
   "execution_count": 17,
   "id": "2b9c66db",
   "metadata": {
    "execution": {
     "iopub.execute_input": "2022-01-31T00:24:45.329976Z",
     "iopub.status.busy": "2022-01-31T00:24:45.329485Z",
     "iopub.status.idle": "2022-01-31T00:24:45.339477Z",
     "shell.execute_reply": "2022-01-31T00:24:45.339848Z"
    },
    "papermill": {
     "duration": 0.044059,
     "end_time": "2022-01-31T00:24:45.339969",
     "exception": false,
     "start_time": "2022-01-31T00:24:45.295910",
     "status": "completed"
    },
    "tags": []
   },
   "outputs": [],
   "source": [
    "data = Data(X_train, y_train.reshape(-1,1))\n",
    "sampler = Sampler(data, config.bs, shuffle=True)\n",
    "\n",
    "dl = Dataloader(data, sampler)\n",
    "\n",
    "opt = GD(config.lr)\n",
    "loss = MSE()"
   ]
  },
  {
   "cell_type": "code",
   "execution_count": 18,
   "id": "b275e4c2",
   "metadata": {
    "execution": {
     "iopub.execute_input": "2022-01-31T00:24:45.405409Z",
     "iopub.status.busy": "2022-01-31T00:24:45.401356Z",
     "iopub.status.idle": "2022-01-31T00:24:45.408181Z",
     "shell.execute_reply": "2022-01-31T00:24:45.407792Z"
    },
    "papermill": {
     "duration": 0.044533,
     "end_time": "2022-01-31T00:24:45.408282",
     "exception": false,
     "start_time": "2022-01-31T00:24:45.363749",
     "status": "completed"
    },
    "tags": []
   },
   "outputs": [],
   "source": [
    "training_data_x = X_train\n",
    "testing_data_x = X_test\n",
    "training_data_y = y_train.reshape(-1,1)\n",
    "testing_data_y = y_test.reshape(-1,1)"
   ]
  },
  {
   "cell_type": "code",
   "execution_count": 19,
   "id": "76951160",
   "metadata": {
    "execution": {
     "iopub.execute_input": "2022-01-31T00:24:45.470710Z",
     "iopub.status.busy": "2022-01-31T00:24:45.465926Z",
     "iopub.status.idle": "2022-01-31T00:24:45.478122Z",
     "shell.execute_reply": "2022-01-31T00:24:45.478483Z"
    },
    "papermill": {
     "duration": 0.046559,
     "end_time": "2022-01-31T00:24:45.478609",
     "exception": false,
     "start_time": "2022-01-31T00:24:45.432050",
     "status": "completed"
    },
    "tags": []
   },
   "outputs": [
    {
     "name": "stdout",
     "output_type": "stream",
     "text": [
      "xavier\n",
      "xavier\n",
      "xavier\n",
      "xavier\n",
      "xavier\n"
     ]
    }
   ],
   "source": [
    "layers = [Affine(\"first\", 784, 100), Relu(\"first\"), Affine(\"second\", 100, 100), Relu(\"second\"), Affine(\"third\", 100, 2), Affine(\"last\", 2, 1), Sigmoid(\"last\")]\n",
    "model_nn = Model(layers)\n",
    "model_lr = Model([Affine(\"logits\", 784, 1), Sigmoid(\"sigmoid\")])"
   ]
  },
  {
   "cell_type": "code",
   "execution_count": 20,
   "id": "6eede77a",
   "metadata": {
    "execution": {
     "iopub.execute_input": "2022-01-31T00:24:45.535021Z",
     "iopub.status.busy": "2022-01-31T00:24:45.530657Z",
     "iopub.status.idle": "2022-01-31T00:24:45.542715Z",
     "shell.execute_reply": "2022-01-31T00:24:45.543082Z"
    },
    "papermill": {
     "duration": 0.040547,
     "end_time": "2022-01-31T00:24:45.543202",
     "exception": false,
     "start_time": "2022-01-31T00:24:45.502655",
     "status": "completed"
    },
    "tags": []
   },
   "outputs": [],
   "source": [
    "nn_learner = Learner(loss, model_nn, opt, config.num_epochs)\n",
    "acc_nn = ClfCallback(nn_learner, config.bs, training_data_x , testing_data_x, training_data_y, testing_data_y)\n",
    "nn_learner.set_callbacks([acc_nn])"
   ]
  },
  {
   "cell_type": "code",
   "execution_count": 21,
   "id": "877b6cc7",
   "metadata": {
    "execution": {
     "iopub.execute_input": "2022-01-31T00:24:45.604724Z",
     "iopub.status.busy": "2022-01-31T00:24:45.595233Z",
     "iopub.status.idle": "2022-01-31T00:24:45.609424Z",
     "shell.execute_reply": "2022-01-31T00:24:45.609790Z"
    },
    "papermill": {
     "duration": 0.042765,
     "end_time": "2022-01-31T00:24:45.609911",
     "exception": false,
     "start_time": "2022-01-31T00:24:45.567146",
     "status": "completed"
    },
    "tags": []
   },
   "outputs": [],
   "source": [
    "lr_learner = Learner(loss, model_lr, opt, config.num_epochs)\n",
    "acc_lr = ClfCallback(lr_learner, config.bs, training_data_x , testing_data_x, training_data_y, testing_data_y)\n",
    "lr_learner.set_callbacks([acc_lr])"
   ]
  },
  {
   "cell_type": "code",
   "execution_count": 22,
   "id": "d9b133c3",
   "metadata": {
    "execution": {
     "iopub.execute_input": "2022-01-31T00:24:45.673962Z",
     "iopub.status.busy": "2022-01-31T00:24:45.667177Z",
     "iopub.status.idle": "2022-01-31T00:26:03.215565Z",
     "shell.execute_reply": "2022-01-31T00:26:03.216275Z"
    },
    "papermill": {
     "duration": 77.58248,
     "end_time": "2022-01-31T00:26:03.216435",
     "exception": false,
     "start_time": "2022-01-31T00:24:45.633955",
     "status": "completed"
    },
    "tags": []
   },
   "outputs": [
    {
     "name": "stdout",
     "output_type": "stream",
     "text": [
      "Epoch 0, Loss 0.2213\n",
      "Training Accuracy: 0.8001, Testing Accuracy: 0.8135\n",
      "\n"
     ]
    },
    {
     "name": "stdout",
     "output_type": "stream",
     "text": [
      "Epoch 10, Loss 0.0663\n",
      "Training Accuracy: 0.9314, Testing Accuracy: 0.9410\n",
      "\n"
     ]
    },
    {
     "name": "stdout",
     "output_type": "stream",
     "text": [
      "Epoch 20, Loss 0.0463\n",
      "Training Accuracy: 0.9488, Testing Accuracy: 0.9551\n",
      "\n"
     ]
    },
    {
     "name": "stdout",
     "output_type": "stream",
     "text": [
      "Epoch 30, Loss 0.0383\n",
      "Training Accuracy: 0.9570, Testing Accuracy: 0.9622\n",
      "\n"
     ]
    },
    {
     "name": "stdout",
     "output_type": "stream",
     "text": [
      "Epoch 40, Loss 0.0338\n",
      "Training Accuracy: 0.9619, Testing Accuracy: 0.9642\n",
      "\n"
     ]
    },
    {
     "name": "stdout",
     "output_type": "stream",
     "text": [
      "Epoch 50, Loss 0.0308\n",
      "Training Accuracy: 0.9651, Testing Accuracy: 0.9667\n",
      "\n"
     ]
    },
    {
     "name": "stdout",
     "output_type": "stream",
     "text": [
      "Epoch 60, Loss 0.0287\n",
      "Training Accuracy: 0.9679, Testing Accuracy: 0.9693\n",
      "\n"
     ]
    },
    {
     "name": "stdout",
     "output_type": "stream",
     "text": [
      "Epoch 70, Loss 0.0271\n",
      "Training Accuracy: 0.9691, Testing Accuracy: 0.9698\n",
      "\n"
     ]
    },
    {
     "name": "stdout",
     "output_type": "stream",
     "text": [
      "Epoch 80, Loss 0.0258\n",
      "Training Accuracy: 0.9703, Testing Accuracy: 0.9693\n",
      "\n"
     ]
    },
    {
     "name": "stdout",
     "output_type": "stream",
     "text": [
      "Epoch 90, Loss 0.0247\n",
      "Training Accuracy: 0.9717, Testing Accuracy: 0.9708\n",
      "\n"
     ]
    },
    {
     "name": "stdout",
     "output_type": "stream",
     "text": [
      "Epoch 100, Loss 0.0237\n",
      "Training Accuracy: 0.9730, Testing Accuracy: 0.9723\n",
      "\n"
     ]
    },
    {
     "name": "stdout",
     "output_type": "stream",
     "text": [
      "Epoch 110, Loss 0.0229\n",
      "Training Accuracy: 0.9736, Testing Accuracy: 0.9723\n",
      "\n"
     ]
    },
    {
     "name": "stdout",
     "output_type": "stream",
     "text": [
      "Epoch 120, Loss 0.0221\n",
      "Training Accuracy: 0.9744, Testing Accuracy: 0.9723\n",
      "\n"
     ]
    },
    {
     "name": "stdout",
     "output_type": "stream",
     "text": [
      "Epoch 130, Loss 0.0214\n",
      "Training Accuracy: 0.9753, Testing Accuracy: 0.9748\n",
      "\n"
     ]
    },
    {
     "name": "stdout",
     "output_type": "stream",
     "text": [
      "Epoch 140, Loss 0.0208\n",
      "Training Accuracy: 0.9762, Testing Accuracy: 0.9753\n",
      "\n"
     ]
    },
    {
     "name": "stdout",
     "output_type": "stream",
     "text": [
      "Epoch 150, Loss 0.0202\n",
      "Training Accuracy: 0.9772, Testing Accuracy: 0.9758\n",
      "\n"
     ]
    },
    {
     "name": "stdout",
     "output_type": "stream",
     "text": [
      "Epoch 160, Loss 0.0197\n",
      "Training Accuracy: 0.9781, Testing Accuracy: 0.9763\n",
      "\n"
     ]
    },
    {
     "name": "stdout",
     "output_type": "stream",
     "text": [
      "Epoch 170, Loss 0.0192\n",
      "Training Accuracy: 0.9787, Testing Accuracy: 0.9768\n",
      "\n"
     ]
    },
    {
     "name": "stdout",
     "output_type": "stream",
     "text": [
      "Epoch 180, Loss 0.0187\n",
      "Training Accuracy: 0.9791, Testing Accuracy: 0.9773\n",
      "\n"
     ]
    },
    {
     "name": "stdout",
     "output_type": "stream",
     "text": [
      "Epoch 190, Loss 0.0183\n",
      "Training Accuracy: 0.9797, Testing Accuracy: 0.9778\n",
      "\n"
     ]
    },
    {
     "name": "stdout",
     "output_type": "stream",
     "text": [
      "Epoch 200, Loss 0.0178\n",
      "Training Accuracy: 0.9801, Testing Accuracy: 0.9783\n",
      "\n"
     ]
    },
    {
     "name": "stdout",
     "output_type": "stream",
     "text": [
      "Epoch 210, Loss 0.0174\n",
      "Training Accuracy: 0.9808, Testing Accuracy: 0.9783\n",
      "\n"
     ]
    },
    {
     "name": "stdout",
     "output_type": "stream",
     "text": [
      "Epoch 220, Loss 0.017\n",
      "Training Accuracy: 0.9811, Testing Accuracy: 0.9788\n",
      "\n"
     ]
    },
    {
     "name": "stdout",
     "output_type": "stream",
     "text": [
      "Epoch 230, Loss 0.0166\n",
      "Training Accuracy: 0.9816, Testing Accuracy: 0.9798\n",
      "\n"
     ]
    },
    {
     "name": "stdout",
     "output_type": "stream",
     "text": [
      "Epoch 240, Loss 0.0163\n",
      "Training Accuracy: 0.9822, Testing Accuracy: 0.9803\n",
      "\n"
     ]
    },
    {
     "data": {
      "text/plain": [
       "0.016379918621027063"
      ]
     },
     "execution_count": 22,
     "metadata": {},
     "output_type": "execute_result"
    }
   ],
   "source": [
    "nn_learner.train_loop(dl)"
   ]
  },
  {
   "cell_type": "code",
   "execution_count": 23,
   "id": "e0163366",
   "metadata": {
    "execution": {
     "iopub.execute_input": "2022-01-31T00:26:03.298052Z",
     "iopub.status.busy": "2022-01-31T00:26:03.297526Z",
     "iopub.status.idle": "2022-01-31T00:26:17.340692Z",
     "shell.execute_reply": "2022-01-31T00:26:17.341449Z"
    },
    "papermill": {
     "duration": 14.090803,
     "end_time": "2022-01-31T00:26:17.341601",
     "exception": false,
     "start_time": "2022-01-31T00:26:03.250798",
     "status": "completed"
    },
    "tags": []
   },
   "outputs": [
    {
     "name": "stdout",
     "output_type": "stream",
     "text": [
      "Epoch 0, Loss 0.2206\n",
      "Training Accuracy: 0.8122, Testing Accuracy: 0.8221\n",
      "\n"
     ]
    },
    {
     "name": "stdout",
     "output_type": "stream",
     "text": [
      "Epoch 10, Loss 0.0966\n",
      "Training Accuracy: 0.9255, Testing Accuracy: 0.9385\n",
      "\n"
     ]
    },
    {
     "name": "stdout",
     "output_type": "stream",
     "text": [
      "Epoch 20, Loss 0.0752\n",
      "Training Accuracy: 0.9360, Testing Accuracy: 0.9481\n",
      "\n"
     ]
    },
    {
     "name": "stdout",
     "output_type": "stream",
     "text": [
      "Epoch 30, Loss 0.0653\n",
      "Training Accuracy: 0.9420, Testing Accuracy: 0.9551\n",
      "\n"
     ]
    },
    {
     "name": "stdout",
     "output_type": "stream",
     "text": [
      "Epoch 40, Loss 0.0594\n",
      "Training Accuracy: 0.9465, Testing Accuracy: 0.9587\n",
      "\n"
     ]
    },
    {
     "name": "stdout",
     "output_type": "stream",
     "text": [
      "Epoch 50, Loss 0.0553\n",
      "Training Accuracy: 0.9490, Testing Accuracy: 0.9612\n",
      "\n"
     ]
    },
    {
     "name": "stdout",
     "output_type": "stream",
     "text": [
      "Epoch 60, Loss 0.0523\n",
      "Training Accuracy: 0.9507, Testing Accuracy: 0.9612\n",
      "\n"
     ]
    },
    {
     "name": "stdout",
     "output_type": "stream",
     "text": [
      "Epoch 70, Loss 0.0499\n",
      "Training Accuracy: 0.9523, Testing Accuracy: 0.9622\n",
      "\n"
     ]
    },
    {
     "name": "stdout",
     "output_type": "stream",
     "text": [
      "Epoch 80, Loss 0.048\n",
      "Training Accuracy: 0.9535, Testing Accuracy: 0.9627\n",
      "\n"
     ]
    },
    {
     "name": "stdout",
     "output_type": "stream",
     "text": [
      "Epoch 90, Loss 0.0465\n",
      "Training Accuracy: 0.9544, Testing Accuracy: 0.9622\n",
      "\n"
     ]
    },
    {
     "name": "stdout",
     "output_type": "stream",
     "text": [
      "Epoch 100, Loss 0.0451\n",
      "Training Accuracy: 0.9550, Testing Accuracy: 0.9637\n",
      "\n"
     ]
    },
    {
     "name": "stdout",
     "output_type": "stream",
     "text": [
      "Epoch 110, Loss 0.044\n",
      "Training Accuracy: 0.9558, Testing Accuracy: 0.9642\n",
      "\n"
     ]
    },
    {
     "name": "stdout",
     "output_type": "stream",
     "text": [
      "Epoch 120, Loss 0.043\n",
      "Training Accuracy: 0.9562, Testing Accuracy: 0.9652\n",
      "\n"
     ]
    },
    {
     "name": "stdout",
     "output_type": "stream",
     "text": [
      "Epoch 130, Loss 0.0422\n",
      "Training Accuracy: 0.9572, Testing Accuracy: 0.9652\n",
      "\n"
     ]
    },
    {
     "name": "stdout",
     "output_type": "stream",
     "text": [
      "Epoch 140, Loss 0.0414\n",
      "Training Accuracy: 0.9579, Testing Accuracy: 0.9662\n",
      "\n"
     ]
    },
    {
     "name": "stdout",
     "output_type": "stream",
     "text": [
      "Epoch 150, Loss 0.0407\n",
      "Training Accuracy: 0.9584, Testing Accuracy: 0.9667\n",
      "\n"
     ]
    },
    {
     "name": "stdout",
     "output_type": "stream",
     "text": [
      "Epoch 160, Loss 0.0401\n",
      "Training Accuracy: 0.9586, Testing Accuracy: 0.9672\n",
      "\n"
     ]
    },
    {
     "name": "stdout",
     "output_type": "stream",
     "text": [
      "Epoch 170, Loss 0.0395\n",
      "Training Accuracy: 0.9589, Testing Accuracy: 0.9672\n",
      "\n"
     ]
    },
    {
     "name": "stdout",
     "output_type": "stream",
     "text": [
      "Epoch 180, Loss 0.039\n",
      "Training Accuracy: 0.9594, Testing Accuracy: 0.9672\n",
      "\n"
     ]
    },
    {
     "name": "stdout",
     "output_type": "stream",
     "text": [
      "Epoch 190, Loss 0.0385\n",
      "Training Accuracy: 0.9597, Testing Accuracy: 0.9672\n",
      "\n"
     ]
    },
    {
     "name": "stdout",
     "output_type": "stream",
     "text": [
      "Epoch 200, Loss 0.038\n",
      "Training Accuracy: 0.9602, Testing Accuracy: 0.9677\n",
      "\n"
     ]
    },
    {
     "name": "stdout",
     "output_type": "stream",
     "text": [
      "Epoch 210, Loss 0.0376\n",
      "Training Accuracy: 0.9606, Testing Accuracy: 0.9672\n",
      "\n"
     ]
    },
    {
     "name": "stdout",
     "output_type": "stream",
     "text": [
      "Epoch 220, Loss 0.0372\n",
      "Training Accuracy: 0.9607, Testing Accuracy: 0.9677\n",
      "\n"
     ]
    },
    {
     "name": "stdout",
     "output_type": "stream",
     "text": [
      "Epoch 230, Loss 0.0368\n",
      "Training Accuracy: 0.9609, Testing Accuracy: 0.9682\n",
      "\n"
     ]
    },
    {
     "name": "stdout",
     "output_type": "stream",
     "text": [
      "Epoch 240, Loss 0.0365\n",
      "Training Accuracy: 0.9610, Testing Accuracy: 0.9682\n",
      "\n"
     ]
    },
    {
     "data": {
      "text/plain": [
       "0.023450371147279984"
      ]
     },
     "execution_count": 23,
     "metadata": {},
     "output_type": "execute_result"
    }
   ],
   "source": [
    "lr_learner.train_loop(dl)"
   ]
  },
  {
   "cell_type": "code",
   "execution_count": 24,
   "id": "ca410940",
   "metadata": {
    "execution": {
     "iopub.execute_input": "2022-01-31T00:26:17.434270Z",
     "iopub.status.busy": "2022-01-31T00:26:17.433739Z",
     "iopub.status.idle": "2022-01-31T00:26:17.663994Z",
     "shell.execute_reply": "2022-01-31T00:26:17.663600Z"
    },
    "papermill": {
     "duration": 0.281215,
     "end_time": "2022-01-31T00:26:17.664107",
     "exception": false,
     "start_time": "2022-01-31T00:26:17.382892",
     "status": "completed"
    },
    "tags": []
   },
   "outputs": [
    {
     "data": {
      "text/plain": [
       "<matplotlib.legend.Legend at 0x7f08a3bd0470>"
      ]
     },
     "execution_count": 24,
     "metadata": {},
     "output_type": "execute_result"
    },
    {
     "data": {
      "image/png": "[encoded data removed]",
      "text/plain": [
       "<Figure size 1080x720 with 1 Axes>"
      ]
     },
     "metadata": {
      "needs_background": "light"
     },
     "output_type": "display_data"
    }
   ],
   "source": [
    "#comparing the results of NN and LR\n",
    "plt.figure(figsize=(15,10))\n",
    "\n",
    "# Neural Network plots\n",
    "plt.plot(acc_nn.accuracies, 'r-', label = \"Training Accuracies - NN\")\n",
    "plt.plot(acc_nn.test_accuracies, 'g-', label = \"Testing Accuracies - NN\")\n",
    "\n",
    "# Logistic Regression plots\n",
    "plt.plot(acc_lr.accuracies, 'k-', label = \"Training Accuracies - LR\")\n",
    "plt.plot(acc_lr.test_accuracies, 'b-', label = \"Testing Accuracies - LR\")\n",
    "plt.legend()"
   ]
  },
  {
   "cell_type": "markdown",
   "id": "80dfb35c",
   "metadata": {
    "papermill": {
     "duration": 0.038667,
     "end_time": "2022-01-31T00:26:17.740285",
     "exception": false,
     "start_time": "2022-01-31T00:26:17.701618",
     "status": "completed"
    },
    "tags": []
   },
   "source": [
    "#### Plotting the outputs of this layer of the NN.\n"
   ]
  },
  {
   "cell_type": "code",
   "execution_count": 25,
   "id": "45eb2ff5",
   "metadata": {
    "execution": {
     "iopub.execute_input": "2022-01-31T00:26:17.818494Z",
     "iopub.status.busy": "2022-01-31T00:26:17.818019Z",
     "iopub.status.idle": "2022-01-31T00:26:17.838376Z",
     "shell.execute_reply": "2022-01-31T00:26:17.838731Z"
    },
    "papermill": {
     "duration": 0.061603,
     "end_time": "2022-01-31T00:26:17.838863",
     "exception": false,
     "start_time": "2022-01-31T00:26:17.777260",
     "status": "completed"
    },
    "tags": []
   },
   "outputs": [],
   "source": [
    "new_model = Model(layers[:-2])\n",
    "testing_plot = new_model(testing_data_x)"
   ]
  },
  {
   "cell_type": "code",
   "execution_count": 26,
   "id": "4c0a5485",
   "metadata": {
    "execution": {
     "iopub.execute_input": "2022-01-31T00:26:17.918728Z",
     "iopub.status.busy": "2022-01-31T00:26:17.918252Z",
     "iopub.status.idle": "2022-01-31T00:26:18.106303Z",
     "shell.execute_reply": "2022-01-31T00:26:18.105831Z"
    },
    "papermill": {
     "duration": 0.228837,
     "end_time": "2022-01-31T00:26:18.106428",
     "exception": false,
     "start_time": "2022-01-31T00:26:17.877591",
     "status": "completed"
    },
    "tags": []
   },
   "outputs": [
    {
     "data": {
      "text/plain": [
       "Text(0.5, 1.0, 'Outputs')"
      ]
     },
     "execution_count": 26,
     "metadata": {},
     "output_type": "execute_result"
    },
    {
     "data": {
      "image/png": "[encoded data removed]",
      "text/plain": [
       "<Figure size 576x504 with 1 Axes>"
      ]
     },
     "metadata": {
      "needs_background": "light"
     },
     "output_type": "display_data"
    }
   ],
   "source": [
    "# Plotting the scatter plot of points and color coding by class\n",
    "plt.figure(figsize=(8,7))\n",
    "plt.scatter(testing_plot[:,0], testing_plot[:,1], alpha = 0.1, c = y_test.ravel());\n",
    "plt.title('Outputs')"
   ]
  },
  {
   "cell_type": "markdown",
   "id": "a74fcf8f",
   "metadata": {
    "papermill": {
     "duration": 0.044303,
     "end_time": "2022-01-31T00:26:18.195137",
     "exception": false,
     "start_time": "2022-01-31T00:26:18.150834",
     "status": "completed"
    },
    "tags": []
   },
   "source": [
    "Probability contours"
   ]
  },
  {
   "cell_type": "code",
   "execution_count": 27,
   "id": "d0afc8e3",
   "metadata": {
    "execution": {
     "iopub.execute_input": "2022-01-31T00:26:18.288229Z",
     "iopub.status.busy": "2022-01-31T00:26:18.287614Z",
     "iopub.status.idle": "2022-01-31T00:26:18.299174Z",
     "shell.execute_reply": "2022-01-31T00:26:18.298773Z"
    },
    "papermill": {
     "duration": 0.059678,
     "end_time": "2022-01-31T00:26:18.299289",
     "exception": false,
     "start_time": "2022-01-31T00:26:18.239611",
     "status": "completed"
    },
    "tags": []
   },
   "outputs": [],
   "source": [
    "model_prob = Model(layers[-2:]) "
   ]
  },
  {
   "cell_type": "code",
   "execution_count": 28,
   "id": "9b96e238",
   "metadata": {
    "execution": {
     "iopub.execute_input": "2022-01-31T00:26:18.385671Z",
     "iopub.status.busy": "2022-01-31T00:26:18.385172Z",
     "iopub.status.idle": "2022-01-31T00:26:18.397782Z",
     "shell.execute_reply": "2022-01-31T00:26:18.398173Z"
    },
    "papermill": {
     "duration": 0.059738,
     "end_time": "2022-01-31T00:26:18.398316",
     "exception": false,
     "start_time": "2022-01-31T00:26:18.338578",
     "status": "completed"
    },
    "tags": []
   },
   "outputs": [],
   "source": [
    "#creating the x and y ranges according to the above generated plot.\n",
    "x_range = np.linspace(-4, 1, 100) \n",
    "y_range = np.linspace(-6, 6, 100) \n",
    "x_grid, y_grid = np.meshgrid(x_range, y_range) # x_grid and y_grig are of size 100 X 100\n",
    "\n",
    "# converting x_grid and y_grid to continuous arrays\n",
    "x_gridflat = np.ravel(x_grid)\n",
    "y_gridflat = np.ravel(y_grid)\n",
    "\n",
    "# The last layer of the current model takes two columns as input. Hence transpose of np.vstack() is required.\n",
    "X = np.vstack((x_gridflat, y_gridflat)).T\n",
    "\n",
    "prob_contour = model_prob(X).reshape(100,100) "
   ]
  },
  {
   "cell_type": "code",
   "execution_count": 29,
   "id": "da72499a",
   "metadata": {
    "execution": {
     "iopub.execute_input": "2022-01-31T00:26:18.497802Z",
     "iopub.status.busy": "2022-01-31T00:26:18.497303Z",
     "iopub.status.idle": "2022-01-31T00:26:18.734529Z",
     "shell.execute_reply": "2022-01-31T00:26:18.734883Z"
    },
    "papermill": {
     "duration": 0.292118,
     "end_time": "2022-01-31T00:26:18.735021",
     "exception": false,
     "start_time": "2022-01-31T00:26:18.442903",
     "status": "completed"
    },
    "tags": []
   },
   "outputs": [
    {
     "data": {
      "image/png": "[encoded data removed]",
      "text/plain": [
       "<Figure size 720x648 with 1 Axes>"
      ]
     },
     "metadata": {
      "needs_background": "light"
     },
     "output_type": "display_data"
    }
   ],
   "source": [
    "plt.figure(figsize=(10,9))\n",
    "plt.scatter(testing_plot[:,0], testing_plot[:,1], alpha = 0.1, c = y_test.ravel())\n",
    "contours = plt.contour(x_grid,y_grid,prob_contour)\n",
    "plt.title('Probability Contours')\n",
    "plt.clabel(contours, inline = True );"
   ]
  },
  {
   "cell_type": "code",
   "execution_count": null,
   "id": "e81b4ac7",
   "metadata": {
    "papermill": {
     "duration": 0.041927,
     "end_time": "2022-01-31T00:26:18.849767",
     "exception": false,
     "start_time": "2022-01-31T00:26:18.807840",
     "status": "completed"
    },
    "tags": []
   },
   "outputs": [],
   "source": []
  }
 ],
 "metadata": {
  "kernelspec": {
   "display_name": "Python 3",
   "language": "python",
   "name": "python3"
  },
  "language_info": {
   "codemirror_mode": {
    "name": "ipython",
    "version": 3
   },
   "file_extension": ".py",
   "mimetype": "text/x-python",
   "name": "python",
   "nbconvert_exporter": "python",
   "pygments_lexer": "ipython3",
   "version": "3.6.15"
  },
  "papermill": {
   "default_parameters": {},
   "duration": 100.338474,
   "end_time": "2022-01-31T00:26:19.310677",
   "environment_variables": {},
   "exception": null,
   "input_path": "2020-08-11-part2.ipynb",
   "output_path": "2020-08-11-part2.ipynb",
   "parameters": {},
   "start_time": "2022-01-31T00:24:38.972203",
   "version": "2.3.3"
  }
 },
 "nbformat": 4,
 "nbformat_minor": 5
}