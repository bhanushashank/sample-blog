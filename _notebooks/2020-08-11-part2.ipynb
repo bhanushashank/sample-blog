{
 "cells": [
  {
   "cell_type": "markdown",
   "id": "98380cd3",
   "metadata": {
    "papermill": {
     "duration": 0.032483,
     "end_time": "2022-05-20T00:36:10.663358",
     "exception": false,
     "start_time": "2022-05-20T00:36:10.630875",
     "status": "completed"
    },
    "tags": []
   },
   "source": [
    "# Distinguish Your Own Digits (DYOD)"
   ]
  },
  {
   "cell_type": "markdown",
   "id": "ef31240d",
   "metadata": {
    "papermill": {
     "duration": 0.025136,
     "end_time": "2022-05-20T00:36:10.713251",
     "exception": false,
     "start_time": "2022-05-20T00:36:10.688115",
     "status": "completed"
    },
    "tags": []
   },
   "source": [
    "You are going to write a classifier that distinguishes between the number 3 and number 8."
   ]
  },
  {
   "cell_type": "code",
   "execution_count": 1,
   "id": "b15c8646",
   "metadata": {
    "execution": {
     "iopub.execute_input": "2022-05-20T00:36:10.777148Z",
     "iopub.status.busy": "2022-05-20T00:36:10.776460Z",
     "iopub.status.idle": "2022-05-20T00:36:10.787959Z",
     "shell.execute_reply": "2022-05-20T00:36:10.787385Z"
    },
    "papermill": {
     "duration": 0.049241,
     "end_time": "2022-05-20T00:36:10.788090",
     "exception": false,
     "start_time": "2022-05-20T00:36:10.738849",
     "status": "completed"
    },
    "tags": []
   },
   "outputs": [],
   "source": [
    "%load_ext autoreload\n",
    "%autoreload 2"
   ]
  },
  {
   "cell_type": "code",
   "execution_count": 2,
   "id": "22ef38dc",
   "metadata": {
    "execution": {
     "iopub.execute_input": "2022-05-20T00:36:10.844987Z",
     "iopub.status.busy": "2022-05-20T00:36:10.844307Z",
     "iopub.status.idle": "2022-05-20T00:36:11.438485Z",
     "shell.execute_reply": "2022-05-20T00:36:11.437874Z"
    },
    "papermill": {
     "duration": 0.624791,
     "end_time": "2022-05-20T00:36:11.438619",
     "exception": false,
     "start_time": "2022-05-20T00:36:10.813828",
     "status": "completed"
    },
    "tags": []
   },
   "outputs": [],
   "source": [
    "%matplotlib inline\n",
    "import numpy as np\n",
    "import matplotlib.pyplot as plt\n",
    "import pandas as pd"
   ]
  },
  {
   "cell_type": "markdown",
   "id": "ba036198",
   "metadata": {
    "papermill": {
     "duration": 0.02581,
     "end_time": "2022-05-20T00:36:11.490740",
     "exception": false,
     "start_time": "2022-05-20T00:36:11.464930",
     "status": "completed"
    },
    "tags": []
   },
   "source": [
    "From the command line run `pip install mnist`. This is a library that will help you bring down the mnist dataset. If you run this from a notebook, you need to put  `!pip install mnist` in a cell by itself."
   ]
  },
  {
   "cell_type": "code",
   "execution_count": 3,
   "id": "bb6ad8a1",
   "metadata": {
    "execution": {
     "iopub.execute_input": "2022-05-20T00:36:11.546221Z",
     "iopub.status.busy": "2022-05-20T00:36:11.545545Z",
     "iopub.status.idle": "2022-05-20T00:36:13.392168Z",
     "shell.execute_reply": "2022-05-20T00:36:13.391565Z"
    },
    "papermill": {
     "duration": 1.875951,
     "end_time": "2022-05-20T00:36:13.392297",
     "exception": false,
     "start_time": "2022-05-20T00:36:11.516346",
     "status": "completed"
    },
    "tags": []
   },
   "outputs": [
    {
     "name": "stdout",
     "output_type": "stream",
     "text": [
      "Collecting mnist\r\n",
      "  Downloading mnist-0.2.2-py2.py3-none-any.whl (3.5 kB)\r\n"
     ]
    },
    {
     "name": "stdout",
     "output_type": "stream",
     "text": [
      "Requirement already satisfied: numpy in /opt/hostedtoolcache/Python/3.6.15/x64/lib/python3.6/site-packages (from mnist) (1.19.5)\r\n"
     ]
    },
    {
     "name": "stdout",
     "output_type": "stream",
     "text": [
      "Installing collected packages: mnist\r\n"
     ]
    },
    {
     "name": "stdout",
     "output_type": "stream",
     "text": [
      "Successfully installed mnist-0.2.2\r\n"
     ]
    }
   ],
   "source": [
    "!pip install mnist"
   ]
  },
  {
   "cell_type": "markdown",
   "id": "69df9c9a",
   "metadata": {
    "papermill": {
     "duration": 0.027013,
     "end_time": "2022-05-20T00:36:13.448396",
     "exception": false,
     "start_time": "2022-05-20T00:36:13.421383",
     "status": "completed"
    },
    "tags": []
   },
   "source": [
    "## Preparing the Data"
   ]
  },
  {
   "cell_type": "code",
   "execution_count": 4,
   "id": "7f69d806",
   "metadata": {
    "execution": {
     "iopub.execute_input": "2022-05-20T00:36:13.506148Z",
     "iopub.status.busy": "2022-05-20T00:36:13.505484Z",
     "iopub.status.idle": "2022-05-20T00:36:13.522682Z",
     "shell.execute_reply": "2022-05-20T00:36:13.522124Z"
    },
    "papermill": {
     "duration": 0.048198,
     "end_time": "2022-05-20T00:36:13.522808",
     "exception": false,
     "start_time": "2022-05-20T00:36:13.474610",
     "status": "completed"
    },
    "tags": []
   },
   "outputs": [],
   "source": [
    "import mnist"
   ]
  },
  {
   "cell_type": "code",
   "execution_count": 5,
   "id": "a411e44f",
   "metadata": {
    "execution": {
     "iopub.execute_input": "2022-05-20T00:36:13.580854Z",
     "iopub.status.busy": "2022-05-20T00:36:13.580234Z",
     "iopub.status.idle": "2022-05-20T00:36:14.179033Z",
     "shell.execute_reply": "2022-05-20T00:36:14.178440Z"
    },
    "papermill": {
     "duration": 0.628973,
     "end_time": "2022-05-20T00:36:14.179182",
     "exception": false,
     "start_time": "2022-05-20T00:36:13.550209",
     "status": "completed"
    },
    "tags": []
   },
   "outputs": [],
   "source": [
    "train_images = mnist.train_images()\n",
    "train_labels = mnist.train_labels()"
   ]
  },
  {
   "cell_type": "code",
   "execution_count": 6,
   "id": "dceab3a5",
   "metadata": {
    "execution": {
     "iopub.execute_input": "2022-05-20T00:36:14.238695Z",
     "iopub.status.busy": "2022-05-20T00:36:14.237989Z",
     "iopub.status.idle": "2022-05-20T00:36:14.254318Z",
     "shell.execute_reply": "2022-05-20T00:36:14.254873Z"
    },
    "papermill": {
     "duration": 0.048964,
     "end_time": "2022-05-20T00:36:14.255021",
     "exception": false,
     "start_time": "2022-05-20T00:36:14.206057",
     "status": "completed"
    },
    "tags": []
   },
   "outputs": [
    {
     "data": {
      "text/plain": [
       "((60000, 28, 28), (60000,))"
      ]
     },
     "execution_count": 6,
     "metadata": {},
     "output_type": "execute_result"
    }
   ],
   "source": [
    "train_images.shape, train_labels.shape"
   ]
  },
  {
   "cell_type": "code",
   "execution_count": 7,
   "id": "f50dc2bb",
   "metadata": {
    "execution": {
     "iopub.execute_input": "2022-05-20T00:36:14.313023Z",
     "iopub.status.busy": "2022-05-20T00:36:14.312365Z",
     "iopub.status.idle": "2022-05-20T00:36:14.443110Z",
     "shell.execute_reply": "2022-05-20T00:36:14.442289Z"
    },
    "papermill": {
     "duration": 0.161354,
     "end_time": "2022-05-20T00:36:14.443247",
     "exception": false,
     "start_time": "2022-05-20T00:36:14.281893",
     "status": "completed"
    },
    "tags": []
   },
   "outputs": [],
   "source": [
    "test_images = mnist.test_images()\n",
    "test_labels = mnist.test_labels()"
   ]
  },
  {
   "cell_type": "code",
   "execution_count": 8,
   "id": "fc38cf1b",
   "metadata": {
    "execution": {
     "iopub.execute_input": "2022-05-20T00:36:14.503092Z",
     "iopub.status.busy": "2022-05-20T00:36:14.502431Z",
     "iopub.status.idle": "2022-05-20T00:36:14.518180Z",
     "shell.execute_reply": "2022-05-20T00:36:14.518732Z"
    },
    "papermill": {
     "duration": 0.047416,
     "end_time": "2022-05-20T00:36:14.518878",
     "exception": false,
     "start_time": "2022-05-20T00:36:14.471462",
     "status": "completed"
    },
    "tags": []
   },
   "outputs": [
    {
     "data": {
      "text/plain": [
       "((10000, 28, 28), (10000,))"
      ]
     },
     "execution_count": 8,
     "metadata": {},
     "output_type": "execute_result"
    }
   ],
   "source": [
    "test_images.shape, test_labels.shape"
   ]
  },
  {
   "cell_type": "code",
   "execution_count": 9,
   "id": "f9ed8fe0",
   "metadata": {
    "execution": {
     "iopub.execute_input": "2022-05-20T00:36:14.580018Z",
     "iopub.status.busy": "2022-05-20T00:36:14.579304Z",
     "iopub.status.idle": "2022-05-20T00:36:14.738852Z",
     "shell.execute_reply": "2022-05-20T00:36:14.739362Z"
    },
    "papermill": {
     "duration": 0.192597,
     "end_time": "2022-05-20T00:36:14.739555",
     "exception": false,
     "start_time": "2022-05-20T00:36:14.546958",
     "status": "completed"
    },
    "tags": []
   },
   "outputs": [
    {
     "name": "stdout",
     "output_type": "stream",
     "text": [
      "2\n"
     ]
    },
    {
     "data": {
      "text/plain": [
       "<matplotlib.image.AxesImage at 0x7f825c1fbe80>"
      ]
     },
     "execution_count": 9,
     "metadata": {},
     "output_type": "execute_result"
    },
    {
     "data": {
      "image/png": "[encoded data removed]",
      "text/plain": [
       "<Figure size 432x288 with 1 Axes>"
      ]
     },
     "metadata": {
      "needs_background": "light"
     },
     "output_type": "display_data"
    }
   ],
   "source": [
    "image_index = 7776 # You may select anything up to 60,000\n",
    "print(train_labels[image_index]) \n",
    "plt.imshow(train_images[image_index], cmap='Greys')"
   ]
  },
  {
   "cell_type": "markdown",
   "id": "a8d2388d",
   "metadata": {
    "papermill": {
     "duration": 0.028858,
     "end_time": "2022-05-20T00:36:14.798444",
     "exception": false,
     "start_time": "2022-05-20T00:36:14.769586",
     "status": "completed"
    },
    "tags": []
   },
   "source": [
    "## Filter data to get 3 and 8 out"
   ]
  },
  {
   "cell_type": "code",
   "execution_count": 10,
   "id": "776f7fc7",
   "metadata": {
    "execution": {
     "iopub.execute_input": "2022-05-20T00:36:14.861185Z",
     "iopub.status.busy": "2022-05-20T00:36:14.860496Z",
     "iopub.status.idle": "2022-05-20T00:36:14.881692Z",
     "shell.execute_reply": "2022-05-20T00:36:14.881135Z"
    },
    "papermill": {
     "duration": 0.054355,
     "end_time": "2022-05-20T00:36:14.881813",
     "exception": false,
     "start_time": "2022-05-20T00:36:14.827458",
     "status": "completed"
    },
    "tags": []
   },
   "outputs": [],
   "source": [
    "train_filter = np.where((train_labels == 3 ) | (train_labels == 8))\n",
    "test_filter = np.where((test_labels == 3) | (test_labels == 8))\n",
    "X_train, y_train = train_images[train_filter], train_labels[train_filter]\n",
    "X_test, y_test = test_images[test_filter], test_labels[test_filter]"
   ]
  },
  {
   "cell_type": "markdown",
   "id": "948f0b7e",
   "metadata": {
    "papermill": {
     "duration": 0.028327,
     "end_time": "2022-05-20T00:36:14.938913",
     "exception": false,
     "start_time": "2022-05-20T00:36:14.910586",
     "status": "completed"
    },
    "tags": []
   },
   "source": [
    "We normalize the pizel values in the 0 to 1 range"
   ]
  },
  {
   "cell_type": "code",
   "execution_count": 11,
   "id": "ee4c2166",
   "metadata": {
    "execution": {
     "iopub.execute_input": "2022-05-20T00:36:14.997909Z",
     "iopub.status.busy": "2022-05-20T00:36:14.997244Z",
     "iopub.status.idle": "2022-05-20T00:36:15.051078Z",
     "shell.execute_reply": "2022-05-20T00:36:15.050385Z"
    },
    "papermill": {
     "duration": 0.085664,
     "end_time": "2022-05-20T00:36:15.051235",
     "exception": false,
     "start_time": "2022-05-20T00:36:14.965571",
     "status": "completed"
    },
    "tags": []
   },
   "outputs": [],
   "source": [
    "X_train = X_train/255.\n",
    "X_test = X_test/255."
   ]
  },
  {
   "cell_type": "markdown",
   "id": "ddcf4fab",
   "metadata": {
    "papermill": {
     "duration": 0.029131,
     "end_time": "2022-05-20T00:36:15.109831",
     "exception": false,
     "start_time": "2022-05-20T00:36:15.080700",
     "status": "completed"
    },
    "tags": []
   },
   "source": [
    "And setup the labels as 1 (when the digit is 3) and 0 (when the digit is 8)"
   ]
  },
  {
   "cell_type": "code",
   "execution_count": 12,
   "id": "7dc908f2",
   "metadata": {
    "execution": {
     "iopub.execute_input": "2022-05-20T00:36:15.172054Z",
     "iopub.status.busy": "2022-05-20T00:36:15.171334Z",
     "iopub.status.idle": "2022-05-20T00:36:15.185330Z",
     "shell.execute_reply": "2022-05-20T00:36:15.185846Z"
    },
    "papermill": {
     "duration": 0.047312,
     "end_time": "2022-05-20T00:36:15.185984",
     "exception": false,
     "start_time": "2022-05-20T00:36:15.138672",
     "status": "completed"
    },
    "tags": []
   },
   "outputs": [],
   "source": [
    "y_train = 1*(y_train==3)\n",
    "y_test = 1*(y_test==3)"
   ]
  },
  {
   "cell_type": "code",
   "execution_count": 13,
   "id": "01e4e969",
   "metadata": {
    "execution": {
     "iopub.execute_input": "2022-05-20T00:36:15.246909Z",
     "iopub.status.busy": "2022-05-20T00:36:15.246279Z",
     "iopub.status.idle": "2022-05-20T00:36:15.261172Z",
     "shell.execute_reply": "2022-05-20T00:36:15.260622Z"
    },
    "papermill": {
     "duration": 0.046776,
     "end_time": "2022-05-20T00:36:15.261296",
     "exception": false,
     "start_time": "2022-05-20T00:36:15.214520",
     "status": "completed"
    },
    "tags": []
   },
   "outputs": [
    {
     "data": {
      "text/plain": [
       "((11982, 28, 28), (1984, 28, 28))"
      ]
     },
     "execution_count": 13,
     "metadata": {},
     "output_type": "execute_result"
    }
   ],
   "source": [
    "X_train.shape, X_test.shape"
   ]
  },
  {
   "cell_type": "markdown",
   "id": "5ccf3f85",
   "metadata": {
    "papermill": {
     "duration": 0.028509,
     "end_time": "2022-05-20T00:36:15.317562",
     "exception": false,
     "start_time": "2022-05-20T00:36:15.289053",
     "status": "completed"
    },
    "tags": []
   },
   "source": [
    "We reshape the data to flatten the image pixels into a set of features or co-variates:"
   ]
  },
  {
   "cell_type": "code",
   "execution_count": 14,
   "id": "5286a4a3",
   "metadata": {
    "execution": {
     "iopub.execute_input": "2022-05-20T00:36:15.381163Z",
     "iopub.status.busy": "2022-05-20T00:36:15.380546Z",
     "iopub.status.idle": "2022-05-20T00:36:15.394363Z",
     "shell.execute_reply": "2022-05-20T00:36:15.394843Z"
    },
    "papermill": {
     "duration": 0.04838,
     "end_time": "2022-05-20T00:36:15.394979",
     "exception": false,
     "start_time": "2022-05-20T00:36:15.346599",
     "status": "completed"
    },
    "tags": []
   },
   "outputs": [
    {
     "data": {
      "text/plain": [
       "((11982, 784), (1984, 784))"
      ]
     },
     "execution_count": 14,
     "metadata": {},
     "output_type": "execute_result"
    }
   ],
   "source": [
    "X_train = X_train.reshape(X_train.shape[0], -1)\n",
    "X_test = X_test.reshape(X_test.shape[0], -1)\n",
    "X_train.shape, X_test.shape"
   ]
  },
  {
   "cell_type": "code",
   "execution_count": 15,
   "id": "73c5f88a",
   "metadata": {
    "execution": {
     "iopub.execute_input": "2022-05-20T00:36:15.457540Z",
     "iopub.status.busy": "2022-05-20T00:36:15.456815Z",
     "iopub.status.idle": "2022-05-20T00:36:15.477189Z",
     "shell.execute_reply": "2022-05-20T00:36:15.476698Z"
    },
    "papermill": {
     "duration": 0.053606,
     "end_time": "2022-05-20T00:36:15.477308",
     "exception": false,
     "start_time": "2022-05-20T00:36:15.423702",
     "status": "completed"
    },
    "tags": []
   },
   "outputs": [],
   "source": [
    "#Impoting functions from 'Kudzu'\n",
    "from kudzu.model import Model\n",
    "from kudzu.train import Learner\n",
    "from kudzu.optim import GD\n",
    "from kudzu.data import Data, Sampler,Dataloader\n",
    "\n",
    "from kudzu.callbacks import AccCallback\n",
    "from kudzu.callbacks import ClfCallback\n",
    "\n",
    "from kudzu.loss import MSE\n",
    "\n",
    "from kudzu.layer import Sigmoid,Relu\n",
    "from kudzu.layer import Affine"
   ]
  },
  {
   "cell_type": "markdown",
   "id": "bc01172a",
   "metadata": {
    "papermill": {
     "duration": 0.029571,
     "end_time": "2022-05-20T00:36:15.536131",
     "exception": false,
     "start_time": "2022-05-20T00:36:15.506560",
     "status": "completed"
    },
    "tags": []
   },
   "source": [
    "### Let us create a `Config` class, to store important parameters. \n",
    "This class essentially plays the role of a dictionary."
   ]
  },
  {
   "cell_type": "code",
   "execution_count": 16,
   "id": "978281aa",
   "metadata": {
    "execution": {
     "iopub.execute_input": "2022-05-20T00:36:15.599714Z",
     "iopub.status.busy": "2022-05-20T00:36:15.599006Z",
     "iopub.status.idle": "2022-05-20T00:36:15.613635Z",
     "shell.execute_reply": "2022-05-20T00:36:15.613104Z"
    },
    "papermill": {
     "duration": 0.048383,
     "end_time": "2022-05-20T00:36:15.613754",
     "exception": false,
     "start_time": "2022-05-20T00:36:15.565371",
     "status": "completed"
    },
    "tags": []
   },
   "outputs": [],
   "source": [
    "class Config:\n",
    "    pass\n",
    "config = Config()\n",
    "config.lr = 0.001\n",
    "config.num_epochs = 250\n",
    "config.bs = 50"
   ]
  },
  {
   "cell_type": "markdown",
   "id": "1385fa59",
   "metadata": {
    "papermill": {
     "duration": 0.02953,
     "end_time": "2022-05-20T00:36:15.672558",
     "exception": false,
     "start_time": "2022-05-20T00:36:15.643028",
     "status": "completed"
    },
    "tags": []
   },
   "source": [
    "### Running Models with the Training data\n",
    "Details about the network layers:\n",
    "- A first affine layer has 784 inputs and does 100 affine transforms. These are followed by a Relu\n",
    "- A second affine layer has 100 inputs from the 100 activations of the past layer, and does 100 affine transforms. These are followed by a Relu\n",
    "- A third affine layer has 100 activations and does 2 affine transformations to create an embedding for visualization. There is no non-linearity here.\n",
    "- A final \"logistic regression\" which has an affine transform from 2 inputs to 1 output, which is squeezed through a sigmoid.\n"
   ]
  },
  {
   "cell_type": "code",
   "execution_count": 17,
   "id": "2b9c66db",
   "metadata": {
    "execution": {
     "iopub.execute_input": "2022-05-20T00:36:15.737298Z",
     "iopub.status.busy": "2022-05-20T00:36:15.736630Z",
     "iopub.status.idle": "2022-05-20T00:36:15.750789Z",
     "shell.execute_reply": "2022-05-20T00:36:15.751311Z"
    },
    "papermill": {
     "duration": 0.049597,
     "end_time": "2022-05-20T00:36:15.751487",
     "exception": false,
     "start_time": "2022-05-20T00:36:15.701890",
     "status": "completed"
    },
    "tags": []
   },
   "outputs": [],
   "source": [
    "data = Data(X_train, y_train.reshape(-1,1))\n",
    "sampler = Sampler(data, config.bs, shuffle=True)\n",
    "\n",
    "dl = Dataloader(data, sampler)\n",
    "\n",
    "opt = GD(config.lr)\n",
    "loss = MSE()"
   ]
  },
  {
   "cell_type": "code",
   "execution_count": 18,
   "id": "b275e4c2",
   "metadata": {
    "execution": {
     "iopub.execute_input": "2022-05-20T00:36:15.813386Z",
     "iopub.status.busy": "2022-05-20T00:36:15.812742Z",
     "iopub.status.idle": "2022-05-20T00:36:15.826440Z",
     "shell.execute_reply": "2022-05-20T00:36:15.826957Z"
    },
    "papermill": {
     "duration": 0.04683,
     "end_time": "2022-05-20T00:36:15.827098",
     "exception": false,
     "start_time": "2022-05-20T00:36:15.780268",
     "status": "completed"
    },
    "tags": []
   },
   "outputs": [],
   "source": [
    "training_data_x = X_train\n",
    "testing_data_x = X_test\n",
    "training_data_y = y_train.reshape(-1,1)\n",
    "testing_data_y = y_test.reshape(-1,1)"
   ]
  },
  {
   "cell_type": "code",
   "execution_count": 19,
   "id": "76951160",
   "metadata": {
    "execution": {
     "iopub.execute_input": "2022-05-20T00:36:15.890212Z",
     "iopub.status.busy": "2022-05-20T00:36:15.889537Z",
     "iopub.status.idle": "2022-05-20T00:36:15.908996Z",
     "shell.execute_reply": "2022-05-20T00:36:15.909528Z"
    },
    "papermill": {
     "duration": 0.053742,
     "end_time": "2022-05-20T00:36:15.909671",
     "exception": false,
     "start_time": "2022-05-20T00:36:15.855929",
     "status": "completed"
    },
    "tags": []
   },
   "outputs": [
    {
     "name": "stdout",
     "output_type": "stream",
     "text": [
      "xavier\n",
      "xavier\n",
      "xavier\n",
      "xavier\n",
      "xavier\n"
     ]
    }
   ],
   "source": [
    "layers = [Affine(\"first\", 784, 100), Relu(\"first\"), Affine(\"second\", 100, 100), Relu(\"second\"), Affine(\"third\", 100, 2), Affine(\"last\", 2, 1), Sigmoid(\"last\")]\n",
    "model_nn = Model(layers)\n",
    "model_lr = Model([Affine(\"logits\", 784, 1), Sigmoid(\"sigmoid\")])"
   ]
  },
  {
   "cell_type": "code",
   "execution_count": 20,
   "id": "6eede77a",
   "metadata": {
    "execution": {
     "iopub.execute_input": "2022-05-20T00:36:15.972459Z",
     "iopub.status.busy": "2022-05-20T00:36:15.971782Z",
     "iopub.status.idle": "2022-05-20T00:36:15.986473Z",
     "shell.execute_reply": "2022-05-20T00:36:15.985815Z"
    },
    "papermill": {
     "duration": 0.047794,
     "end_time": "2022-05-20T00:36:15.986612",
     "exception": false,
     "start_time": "2022-05-20T00:36:15.938818",
     "status": "completed"
    },
    "tags": []
   },
   "outputs": [],
   "source": [
    "nn_learner = Learner(loss, model_nn, opt, config.num_epochs)\n",
    "acc_nn = ClfCallback(nn_learner, config.bs, training_data_x , testing_data_x, training_data_y, testing_data_y)\n",
    "nn_learner.set_callbacks([acc_nn])"
   ]
  },
  {
   "cell_type": "code",
   "execution_count": 21,
   "id": "877b6cc7",
   "metadata": {
    "execution": {
     "iopub.execute_input": "2022-05-20T00:36:16.050583Z",
     "iopub.status.busy": "2022-05-20T00:36:16.049919Z",
     "iopub.status.idle": "2022-05-20T00:36:16.064574Z",
     "shell.execute_reply": "2022-05-20T00:36:16.065101Z"
    },
    "papermill": {
     "duration": 0.049511,
     "end_time": "2022-05-20T00:36:16.065249",
     "exception": false,
     "start_time": "2022-05-20T00:36:16.015738",
     "status": "completed"
    },
    "tags": []
   },
   "outputs": [],
   "source": [
    "lr_learner = Learner(loss, model_lr, opt, config.num_epochs)\n",
    "acc_lr = ClfCallback(lr_learner, config.bs, training_data_x , testing_data_x, training_data_y, testing_data_y)\n",
    "lr_learner.set_callbacks([acc_lr])"
   ]
  },
  {
   "cell_type": "code",
   "execution_count": 22,
   "id": "d9b133c3",
   "metadata": {
    "execution": {
     "iopub.execute_input": "2022-05-20T00:36:16.127248Z",
     "iopub.status.busy": "2022-05-20T00:36:16.126584Z",
     "iopub.status.idle": "2022-05-20T00:37:40.792929Z",
     "shell.execute_reply": "2022-05-20T00:37:40.793839Z"
    },
    "papermill": {
     "duration": 84.699601,
     "end_time": "2022-05-20T00:37:40.794001",
     "exception": false,
     "start_time": "2022-05-20T00:36:16.094400",
     "status": "completed"
    },
    "tags": []
   },
   "outputs": [
    {
     "name": "stdout",
     "output_type": "stream",
     "text": [
      "Epoch 0, Loss 0.242\n",
      "Training Accuracy: 0.6136, Testing Accuracy: 0.6003\n",
      "\n"
     ]
    },
    {
     "name": "stdout",
     "output_type": "stream",
     "text": [
      "Epoch 10, Loss 0.1187\n",
      "Training Accuracy: 0.8787, Testing Accuracy: 0.8911\n",
      "\n"
     ]
    },
    {
     "name": "stdout",
     "output_type": "stream",
     "text": [
      "Epoch 20, Loss 0.0672\n",
      "Training Accuracy: 0.9270, Testing Accuracy: 0.9405\n",
      "\n"
     ]
    },
    {
     "name": "stdout",
     "output_type": "stream",
     "text": [
      "Epoch 30, Loss 0.0492\n",
      "Training Accuracy: 0.9468, Testing Accuracy: 0.9541\n",
      "\n"
     ]
    },
    {
     "name": "stdout",
     "output_type": "stream",
     "text": [
      "Epoch 40, Loss 0.0411\n",
      "Training Accuracy: 0.9543, Testing Accuracy: 0.9597\n",
      "\n"
     ]
    },
    {
     "name": "stdout",
     "output_type": "stream",
     "text": [
      "Epoch 50, Loss 0.0365\n",
      "Training Accuracy: 0.9593, Testing Accuracy: 0.9632\n",
      "\n"
     ]
    },
    {
     "name": "stdout",
     "output_type": "stream",
     "text": [
      "Epoch 60, Loss 0.0335\n",
      "Training Accuracy: 0.9628, Testing Accuracy: 0.9677\n",
      "\n"
     ]
    },
    {
     "name": "stdout",
     "output_type": "stream",
     "text": [
      "Epoch 70, Loss 0.0314\n",
      "Training Accuracy: 0.9650, Testing Accuracy: 0.9682\n",
      "\n"
     ]
    },
    {
     "name": "stdout",
     "output_type": "stream",
     "text": [
      "Epoch 80, Loss 0.0297\n",
      "Training Accuracy: 0.9664, Testing Accuracy: 0.9693\n",
      "\n"
     ]
    },
    {
     "name": "stdout",
     "output_type": "stream",
     "text": [
      "Epoch 90, Loss 0.0284\n",
      "Training Accuracy: 0.9677, Testing Accuracy: 0.9703\n",
      "\n"
     ]
    },
    {
     "name": "stdout",
     "output_type": "stream",
     "text": [
      "Epoch 100, Loss 0.0273\n",
      "Training Accuracy: 0.9685, Testing Accuracy: 0.9703\n",
      "\n"
     ]
    },
    {
     "name": "stdout",
     "output_type": "stream",
     "text": [
      "Epoch 110, Loss 0.0263\n",
      "Training Accuracy: 0.9695, Testing Accuracy: 0.9703\n",
      "\n"
     ]
    },
    {
     "name": "stdout",
     "output_type": "stream",
     "text": [
      "Epoch 120, Loss 0.0255\n",
      "Training Accuracy: 0.9702, Testing Accuracy: 0.9708\n",
      "\n"
     ]
    },
    {
     "name": "stdout",
     "output_type": "stream",
     "text": [
      "Epoch 130, Loss 0.0247\n",
      "Training Accuracy: 0.9711, Testing Accuracy: 0.9718\n",
      "\n"
     ]
    },
    {
     "name": "stdout",
     "output_type": "stream",
     "text": [
      "Epoch 140, Loss 0.024\n",
      "Training Accuracy: 0.9719, Testing Accuracy: 0.9718\n",
      "\n"
     ]
    },
    {
     "name": "stdout",
     "output_type": "stream",
     "text": [
      "Epoch 150, Loss 0.0234\n",
      "Training Accuracy: 0.9725, Testing Accuracy: 0.9728\n",
      "\n"
     ]
    },
    {
     "name": "stdout",
     "output_type": "stream",
     "text": [
      "Epoch 160, Loss 0.0228\n",
      "Training Accuracy: 0.9737, Testing Accuracy: 0.9733\n",
      "\n"
     ]
    },
    {
     "name": "stdout",
     "output_type": "stream",
     "text": [
      "Epoch 170, Loss 0.0222\n",
      "Training Accuracy: 0.9747, Testing Accuracy: 0.9723\n",
      "\n"
     ]
    },
    {
     "name": "stdout",
     "output_type": "stream",
     "text": [
      "Epoch 180, Loss 0.0217\n",
      "Training Accuracy: 0.9756, Testing Accuracy: 0.9723\n",
      "\n"
     ]
    },
    {
     "name": "stdout",
     "output_type": "stream",
     "text": [
      "Epoch 190, Loss 0.0212\n",
      "Training Accuracy: 0.9758, Testing Accuracy: 0.9723\n",
      "\n"
     ]
    },
    {
     "name": "stdout",
     "output_type": "stream",
     "text": [
      "Epoch 200, Loss 0.0207\n",
      "Training Accuracy: 0.9766, Testing Accuracy: 0.9718\n",
      "\n"
     ]
    },
    {
     "name": "stdout",
     "output_type": "stream",
     "text": [
      "Epoch 210, Loss 0.0203\n",
      "Training Accuracy: 0.9777, Testing Accuracy: 0.9723\n",
      "\n"
     ]
    },
    {
     "name": "stdout",
     "output_type": "stream",
     "text": [
      "Epoch 220, Loss 0.0199\n",
      "Training Accuracy: 0.9781, Testing Accuracy: 0.9723\n",
      "\n"
     ]
    },
    {
     "name": "stdout",
     "output_type": "stream",
     "text": [
      "Epoch 230, Loss 0.0195\n",
      "Training Accuracy: 0.9790, Testing Accuracy: 0.9723\n",
      "\n"
     ]
    },
    {
     "name": "stdout",
     "output_type": "stream",
     "text": [
      "Epoch 240, Loss 0.0191\n",
      "Training Accuracy: 0.9795, Testing Accuracy: 0.9728\n",
      "\n"
     ]
    },
    {
     "data": {
      "text/plain": [
       "0.0019736920372968175"
      ]
     },
     "execution_count": 22,
     "metadata": {},
     "output_type": "execute_result"
    }
   ],
   "source": [
    "nn_learner.train_loop(dl)"
   ]
  },
  {
   "cell_type": "code",
   "execution_count": 23,
   "id": "e0163366",
   "metadata": {
    "execution": {
     "iopub.execute_input": "2022-05-20T00:37:40.883944Z",
     "iopub.status.busy": "2022-05-20T00:37:40.883262Z",
     "iopub.status.idle": "2022-05-20T00:37:56.033203Z",
     "shell.execute_reply": "2022-05-20T00:37:56.034201Z"
    },
    "papermill": {
     "duration": 15.203109,
     "end_time": "2022-05-20T00:37:56.034375",
     "exception": false,
     "start_time": "2022-05-20T00:37:40.831266",
     "status": "completed"
    },
    "tags": []
   },
   "outputs": [
    {
     "name": "stdout",
     "output_type": "stream",
     "text": [
      "Epoch 0, Loss 0.2609\n",
      "Training Accuracy: 0.6105, Testing Accuracy: 0.5922\n",
      "\n"
     ]
    },
    {
     "name": "stdout",
     "output_type": "stream",
     "text": [
      "Epoch 10, Loss 0.1047\n",
      "Training Accuracy: 0.9089, Testing Accuracy: 0.9209\n",
      "\n"
     ]
    },
    {
     "name": "stdout",
     "output_type": "stream",
     "text": [
      "Epoch 20, Loss 0.0797\n",
      "Training Accuracy: 0.9272, Testing Accuracy: 0.9435\n",
      "\n"
     ]
    },
    {
     "name": "stdout",
     "output_type": "stream",
     "text": [
      "Epoch 30, Loss 0.0683\n",
      "Training Accuracy: 0.9373, Testing Accuracy: 0.9521\n",
      "\n"
     ]
    },
    {
     "name": "stdout",
     "output_type": "stream",
     "text": [
      "Epoch 40, Loss 0.0616\n",
      "Training Accuracy: 0.9426, Testing Accuracy: 0.9556\n",
      "\n"
     ]
    },
    {
     "name": "stdout",
     "output_type": "stream",
     "text": [
      "Epoch 50, Loss 0.0571\n",
      "Training Accuracy: 0.9460, Testing Accuracy: 0.9592\n",
      "\n"
     ]
    },
    {
     "name": "stdout",
     "output_type": "stream",
     "text": [
      "Epoch 60, Loss 0.0537\n",
      "Training Accuracy: 0.9488, Testing Accuracy: 0.9607\n",
      "\n"
     ]
    },
    {
     "name": "stdout",
     "output_type": "stream",
     "text": [
      "Epoch 70, Loss 0.0512\n",
      "Training Accuracy: 0.9508, Testing Accuracy: 0.9642\n",
      "\n"
     ]
    },
    {
     "name": "stdout",
     "output_type": "stream",
     "text": [
      "Epoch 80, Loss 0.0491\n",
      "Training Accuracy: 0.9529, Testing Accuracy: 0.9637\n",
      "\n"
     ]
    },
    {
     "name": "stdout",
     "output_type": "stream",
     "text": [
      "Epoch 90, Loss 0.0474\n",
      "Training Accuracy: 0.9535, Testing Accuracy: 0.9637\n",
      "\n"
     ]
    },
    {
     "name": "stdout",
     "output_type": "stream",
     "text": [
      "Epoch 100, Loss 0.046\n",
      "Training Accuracy: 0.9543, Testing Accuracy: 0.9642\n",
      "\n"
     ]
    },
    {
     "name": "stdout",
     "output_type": "stream",
     "text": [
      "Epoch 110, Loss 0.0448\n",
      "Training Accuracy: 0.9552, Testing Accuracy: 0.9642\n",
      "\n"
     ]
    },
    {
     "name": "stdout",
     "output_type": "stream",
     "text": [
      "Epoch 120, Loss 0.0438\n",
      "Training Accuracy: 0.9554, Testing Accuracy: 0.9657\n",
      "\n"
     ]
    },
    {
     "name": "stdout",
     "output_type": "stream",
     "text": [
      "Epoch 130, Loss 0.0428\n",
      "Training Accuracy: 0.9562, Testing Accuracy: 0.9657\n",
      "\n"
     ]
    },
    {
     "name": "stdout",
     "output_type": "stream",
     "text": [
      "Epoch 140, Loss 0.042\n",
      "Training Accuracy: 0.9565, Testing Accuracy: 0.9667\n",
      "\n"
     ]
    },
    {
     "name": "stdout",
     "output_type": "stream",
     "text": [
      "Epoch 150, Loss 0.0413\n",
      "Training Accuracy: 0.9569, Testing Accuracy: 0.9667\n",
      "\n"
     ]
    },
    {
     "name": "stdout",
     "output_type": "stream",
     "text": [
      "Epoch 160, Loss 0.0406\n",
      "Training Accuracy: 0.9576, Testing Accuracy: 0.9677\n",
      "\n"
     ]
    },
    {
     "name": "stdout",
     "output_type": "stream",
     "text": [
      "Epoch 170, Loss 0.04\n",
      "Training Accuracy: 0.9579, Testing Accuracy: 0.9688\n",
      "\n"
     ]
    },
    {
     "name": "stdout",
     "output_type": "stream",
     "text": [
      "Epoch 180, Loss 0.0394\n",
      "Training Accuracy: 0.9585, Testing Accuracy: 0.9688\n",
      "\n"
     ]
    },
    {
     "name": "stdout",
     "output_type": "stream",
     "text": [
      "Epoch 190, Loss 0.0389\n",
      "Training Accuracy: 0.9588, Testing Accuracy: 0.9693\n",
      "\n"
     ]
    },
    {
     "name": "stdout",
     "output_type": "stream",
     "text": [
      "Epoch 200, Loss 0.0384\n",
      "Training Accuracy: 0.9592, Testing Accuracy: 0.9693\n",
      "\n"
     ]
    },
    {
     "name": "stdout",
     "output_type": "stream",
     "text": [
      "Epoch 210, Loss 0.038\n",
      "Training Accuracy: 0.9596, Testing Accuracy: 0.9698\n",
      "\n"
     ]
    },
    {
     "name": "stdout",
     "output_type": "stream",
     "text": [
      "Epoch 220, Loss 0.0376\n",
      "Training Accuracy: 0.9597, Testing Accuracy: 0.9703\n",
      "\n"
     ]
    },
    {
     "name": "stdout",
     "output_type": "stream",
     "text": [
      "Epoch 230, Loss 0.0372\n",
      "Training Accuracy: 0.9600, Testing Accuracy: 0.9703\n",
      "\n"
     ]
    },
    {
     "name": "stdout",
     "output_type": "stream",
     "text": [
      "Epoch 240, Loss 0.0369\n",
      "Training Accuracy: 0.9604, Testing Accuracy: 0.9708\n",
      "\n"
     ]
    },
    {
     "data": {
      "text/plain": [
       "0.009606655037162553"
      ]
     },
     "execution_count": 23,
     "metadata": {},
     "output_type": "execute_result"
    }
   ],
   "source": [
    "lr_learner.train_loop(dl)"
   ]
  },
  {
   "cell_type": "code",
   "execution_count": 24,
   "id": "ca410940",
   "metadata": {
    "execution": {
     "iopub.execute_input": "2022-05-20T00:37:56.137140Z",
     "iopub.status.busy": "2022-05-20T00:37:56.136452Z",
     "iopub.status.idle": "2022-05-20T00:37:56.401579Z",
     "shell.execute_reply": "2022-05-20T00:37:56.400573Z"
    },
    "papermill": {
     "duration": 0.321059,
     "end_time": "2022-05-20T00:37:56.401734",
     "exception": false,
     "start_time": "2022-05-20T00:37:56.080675",
     "status": "completed"
    },
    "tags": []
   },
   "outputs": [
    {
     "data": {
      "text/plain": [
       "<matplotlib.legend.Legend at 0x7f825bd6e518>"
      ]
     },
     "execution_count": 24,
     "metadata": {},
     "output_type": "execute_result"
    },
    {
     "data": {
      "image/png": "[encoded data removed]",
      "text/plain": [
       "<Figure size 1080x720 with 1 Axes>"
      ]
     },
     "metadata": {
      "needs_background": "light"
     },
     "output_type": "display_data"
    }
   ],
   "source": [
    "#comparing the results of NN and LR\n",
    "plt.figure(figsize=(15,10))\n",
    "\n",
    "# Neural Network plots\n",
    "plt.plot(acc_nn.accuracies, 'r-', label = \"Training Accuracies - NN\")\n",
    "plt.plot(acc_nn.test_accuracies, 'g-', label = \"Testing Accuracies - NN\")\n",
    "\n",
    "# Logistic Regression plots\n",
    "plt.plot(acc_lr.accuracies, 'k-', label = \"Training Accuracies - LR\")\n",
    "plt.plot(acc_lr.test_accuracies, 'b-', label = \"Testing Accuracies - LR\")\n",
    "plt.legend()"
   ]
  },
  {
   "cell_type": "markdown",
   "id": "80dfb35c",
   "metadata": {
    "papermill": {
     "duration": 0.046364,
     "end_time": "2022-05-20T00:37:56.495080",
     "exception": false,
     "start_time": "2022-05-20T00:37:56.448716",
     "status": "completed"
    },
    "tags": []
   },
   "source": [
    "#### Plotting the outputs of this layer of the NN.\n"
   ]
  },
  {
   "cell_type": "code",
   "execution_count": 25,
   "id": "45eb2ff5",
   "metadata": {
    "execution": {
     "iopub.execute_input": "2022-05-20T00:37:56.595509Z",
     "iopub.status.busy": "2022-05-20T00:37:56.594467Z",
     "iopub.status.idle": "2022-05-20T00:37:56.614445Z",
     "shell.execute_reply": "2022-05-20T00:37:56.615274Z"
    },
    "papermill": {
     "duration": 0.074525,
     "end_time": "2022-05-20T00:37:56.615456",
     "exception": false,
     "start_time": "2022-05-20T00:37:56.540931",
     "status": "completed"
    },
    "tags": []
   },
   "outputs": [],
   "source": [
    "new_model = Model(layers[:-2])\n",
    "testing_plot = new_model(testing_data_x)"
   ]
  },
  {
   "cell_type": "code",
   "execution_count": 26,
   "id": "4c0a5485",
   "metadata": {
    "execution": {
     "iopub.execute_input": "2022-05-20T00:37:56.724939Z",
     "iopub.status.busy": "2022-05-20T00:37:56.724253Z",
     "iopub.status.idle": "2022-05-20T00:37:56.946236Z",
     "shell.execute_reply": "2022-05-20T00:37:56.945635Z"
    },
    "papermill": {
     "duration": 0.283148,
     "end_time": "2022-05-20T00:37:56.946372",
     "exception": false,
     "start_time": "2022-05-20T00:37:56.663224",
     "status": "completed"
    },
    "tags": []
   },
   "outputs": [
    {
     "data": {
      "text/plain": [
       "Text(0.5, 1.0, 'Outputs')"
      ]
     },
     "execution_count": 26,
     "metadata": {},
     "output_type": "execute_result"
    },
    {
     "data": {
      "image/png": "[encoded data removed]",
      "text/plain": [
       "<Figure size 576x504 with 1 Axes>"
      ]
     },
     "metadata": {
      "needs_background": "light"
     },
     "output_type": "display_data"
    }
   ],
   "source": [
    "# Plotting the scatter plot of points and color coding by class\n",
    "plt.figure(figsize=(8,7))\n",
    "plt.scatter(testing_plot[:,0], testing_plot[:,1], alpha = 0.1, c = y_test.ravel());\n",
    "plt.title('Outputs')"
   ]
  },
  {
   "cell_type": "markdown",
   "id": "a74fcf8f",
   "metadata": {
    "papermill": {
     "duration": 0.047632,
     "end_time": "2022-05-20T00:37:57.043082",
     "exception": false,
     "start_time": "2022-05-20T00:37:56.995450",
     "status": "completed"
    },
    "tags": []
   },
   "source": [
    "Probability contours"
   ]
  },
  {
   "cell_type": "code",
   "execution_count": 27,
   "id": "d0afc8e3",
   "metadata": {
    "execution": {
     "iopub.execute_input": "2022-05-20T00:37:57.176102Z",
     "iopub.status.busy": "2022-05-20T00:37:57.175218Z",
     "iopub.status.idle": "2022-05-20T00:37:57.188757Z",
     "shell.execute_reply": "2022-05-20T00:37:57.188074Z"
    },
    "papermill": {
     "duration": 0.067186,
     "end_time": "2022-05-20T00:37:57.188875",
     "exception": false,
     "start_time": "2022-05-20T00:37:57.121689",
     "status": "completed"
    },
    "tags": []
   },
   "outputs": [],
   "source": [
    "model_prob = Model(layers[-2:]) "
   ]
  },
  {
   "cell_type": "code",
   "execution_count": 28,
   "id": "9b96e238",
   "metadata": {
    "execution": {
     "iopub.execute_input": "2022-05-20T00:37:57.294900Z",
     "iopub.status.busy": "2022-05-20T00:37:57.294239Z",
     "iopub.status.idle": "2022-05-20T00:37:57.307992Z",
     "shell.execute_reply": "2022-05-20T00:37:57.308483Z"
    },
    "papermill": {
     "duration": 0.071085,
     "end_time": "2022-05-20T00:37:57.308630",
     "exception": false,
     "start_time": "2022-05-20T00:37:57.237545",
     "status": "completed"
    },
    "tags": []
   },
   "outputs": [],
   "source": [
    "#creating the x and y ranges according to the above generated plot.\n",
    "x_range = np.linspace(-4, 1, 100) \n",
    "y_range = np.linspace(-6, 6, 100) \n",
    "x_grid, y_grid = np.meshgrid(x_range, y_range) # x_grid and y_grig are of size 100 X 100\n",
    "\n",
    "# converting x_grid and y_grid to continuous arrays\n",
    "x_gridflat = np.ravel(x_grid)\n",
    "y_gridflat = np.ravel(y_grid)\n",
    "\n",
    "# The last layer of the current model takes two columns as input. Hence transpose of np.vstack() is required.\n",
    "X = np.vstack((x_gridflat, y_gridflat)).T\n",
    "\n",
    "prob_contour = model_prob(X).reshape(100,100) "
   ]
  },
  {
   "cell_type": "code",
   "execution_count": 29,
   "id": "da72499a",
   "metadata": {
    "execution": {
     "iopub.execute_input": "2022-05-20T00:37:57.417053Z",
     "iopub.status.busy": "2022-05-20T00:37:57.416429Z",
     "iopub.status.idle": "2022-05-20T00:37:57.686449Z",
     "shell.execute_reply": "2022-05-20T00:37:57.686941Z"
    },
    "papermill": {
     "duration": 0.329243,
     "end_time": "2022-05-20T00:37:57.687089",
     "exception": false,
     "start_time": "2022-05-20T00:37:57.357846",
     "status": "completed"
    },
    "tags": []
   },
   "outputs": [
    {
     "data": {
      "image/png": "[encoded data removed]",
      "text/plain": [
       "<Figure size 720x648 with 1 Axes>"
      ]
     },
     "metadata": {
      "needs_background": "light"
     },
     "output_type": "display_data"
    }
   ],
   "source": [
    "plt.figure(figsize=(10,9))\n",
    "plt.scatter(testing_plot[:,0], testing_plot[:,1], alpha = 0.1, c = y_test.ravel())\n",
    "contours = plt.contour(x_grid,y_grid,prob_contour)\n",
    "plt.title('Probability Contours')\n",
    "plt.clabel(contours, inline = True );"
   ]
  },
  {
   "cell_type": "code",
   "execution_count": null,
   "id": "e81b4ac7",
   "metadata": {
    "papermill": {
     "duration": 0.050392,
     "end_time": "2022-05-20T00:37:57.789715",
     "exception": false,
     "start_time": "2022-05-20T00:37:57.739323",
     "status": "completed"
    },
    "tags": []
   },
   "outputs": [],
   "source": []
  }
 ],
 "metadata": {
  "kernelspec": {
   "display_name": "Python 3",
   "language": "python",
   "name": "python3"
  },
  "language_info": {
   "codemirror_mode": {
    "name": "ipython",
    "version": 3
   },
   "file_extension": ".py",
   "mimetype": "text/x-python",
   "name": "python",
   "nbconvert_exporter": "python",
   "pygments_lexer": "ipython3",
   "version": "3.6.15"
  },
  "papermill": {
   "default_parameters": {},
   "duration": 108.91147,
   "end_time": "2022-05-20T00:37:58.259729",
   "environment_variables": {},
   "exception": null,
   "input_path": "2020-08-11-part2.ipynb",
   "output_path": "2020-08-11-part2.ipynb",
   "parameters": {},
   "start_time": "2022-05-20T00:36:09.348259",
   "version": "2.3.3"
  }
 },
 "nbformat": 4,
 "nbformat_minor": 5
}