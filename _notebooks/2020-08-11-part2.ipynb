{
 "cells": [
  {
   "cell_type": "markdown",
   "id": "98380cd3",
   "metadata": {
    "papermill": {
     "duration": 0.029129,
     "end_time": "2022-06-07T10:09:52.065932",
     "exception": false,
     "start_time": "2022-06-07T10:09:52.036803",
     "status": "completed"
    },
    "tags": []
   },
   "source": [
    "# Distinguish Your Own Digits (DYOD)"
   ]
  },
  {
   "cell_type": "markdown",
   "id": "ef31240d",
   "metadata": {
    "papermill": {
     "duration": 0.023999,
     "end_time": "2022-06-07T10:09:52.114421",
     "exception": false,
     "start_time": "2022-06-07T10:09:52.090422",
     "status": "completed"
    },
    "tags": []
   },
   "source": [
    "You are going to write a classifier that distinguishes between the number 3 and number 8."
   ]
  },
  {
   "cell_type": "code",
   "execution_count": 1,
   "id": "b15c8646",
   "metadata": {
    "execution": {
     "iopub.execute_input": "2022-06-07T10:09:52.171843Z",
     "iopub.status.busy": "2022-06-07T10:09:52.171282Z",
     "iopub.status.idle": "2022-06-07T10:09:52.182282Z",
     "shell.execute_reply": "2022-06-07T10:09:52.181728Z"
    },
    "papermill": {
     "duration": 0.044173,
     "end_time": "2022-06-07T10:09:52.182396",
     "exception": false,
     "start_time": "2022-06-07T10:09:52.138223",
     "status": "completed"
    },
    "tags": []
   },
   "outputs": [],
   "source": [
    "%load_ext autoreload\n",
    "%autoreload 2"
   ]
  },
  {
   "cell_type": "code",
   "execution_count": 2,
   "id": "22ef38dc",
   "metadata": {
    "execution": {
     "iopub.execute_input": "2022-06-07T10:09:52.233454Z",
     "iopub.status.busy": "2022-06-07T10:09:52.232897Z",
     "iopub.status.idle": "2022-06-07T10:09:52.729334Z",
     "shell.execute_reply": "2022-06-07T10:09:52.728837Z"
    },
    "papermill": {
     "duration": 0.523335,
     "end_time": "2022-06-07T10:09:52.729453",
     "exception": false,
     "start_time": "2022-06-07T10:09:52.206118",
     "status": "completed"
    },
    "tags": []
   },
   "outputs": [],
   "source": [
    "%matplotlib inline\n",
    "import numpy as np\n",
    "import matplotlib.pyplot as plt\n",
    "import pandas as pd"
   ]
  },
  {
   "cell_type": "markdown",
   "id": "ba036198",
   "metadata": {
    "papermill": {
     "duration": 0.023986,
     "end_time": "2022-06-07T10:09:52.777367",
     "exception": false,
     "start_time": "2022-06-07T10:09:52.753381",
     "status": "completed"
    },
    "tags": []
   },
   "source": [
    "From the command line run `pip install mnist`. This is a library that will help you bring down the mnist dataset. If you run this from a notebook, you need to put  `!pip install mnist` in a cell by itself."
   ]
  },
  {
   "cell_type": "code",
   "execution_count": 3,
   "id": "bb6ad8a1",
   "metadata": {
    "execution": {
     "iopub.execute_input": "2022-06-07T10:09:52.829134Z",
     "iopub.status.busy": "2022-06-07T10:09:52.828543Z",
     "iopub.status.idle": "2022-06-07T10:09:54.463050Z",
     "shell.execute_reply": "2022-06-07T10:09:54.461898Z"
    },
    "papermill": {
     "duration": 1.661889,
     "end_time": "2022-06-07T10:09:54.463171",
     "exception": false,
     "start_time": "2022-06-07T10:09:52.801282",
     "status": "completed"
    },
    "tags": []
   },
   "outputs": [
    {
     "name": "stdout",
     "output_type": "stream",
     "text": [
      "Collecting mnist\r\n"
     ]
    },
    {
     "name": "stdout",
     "output_type": "stream",
     "text": [
      "  Downloading mnist-0.2.2-py2.py3-none-any.whl (3.5 kB)\r\n",
      "Requirement already satisfied: numpy in /opt/hostedtoolcache/Python/3.6.15/x64/lib/python3.6/site-packages (from mnist) (1.19.5)\r\n"
     ]
    },
    {
     "name": "stdout",
     "output_type": "stream",
     "text": [
      "Installing collected packages: mnist\r\n"
     ]
    },
    {
     "name": "stdout",
     "output_type": "stream",
     "text": [
      "Successfully installed mnist-0.2.2\r\n"
     ]
    }
   ],
   "source": [
    "!pip install mnist"
   ]
  },
  {
   "cell_type": "markdown",
   "id": "69df9c9a",
   "metadata": {
    "papermill": {
     "duration": 0.024967,
     "end_time": "2022-06-07T10:09:54.513412",
     "exception": false,
     "start_time": "2022-06-07T10:09:54.488445",
     "status": "completed"
    },
    "tags": []
   },
   "source": [
    "## Preparing the Data"
   ]
  },
  {
   "cell_type": "code",
   "execution_count": 4,
   "id": "7f69d806",
   "metadata": {
    "execution": {
     "iopub.execute_input": "2022-06-07T10:09:54.566474Z",
     "iopub.status.busy": "2022-06-07T10:09:54.565918Z",
     "iopub.status.idle": "2022-06-07T10:09:54.579739Z",
     "shell.execute_reply": "2022-06-07T10:09:54.579291Z"
    },
    "papermill": {
     "duration": 0.041728,
     "end_time": "2022-06-07T10:09:54.579834",
     "exception": false,
     "start_time": "2022-06-07T10:09:54.538106",
     "status": "completed"
    },
    "tags": []
   },
   "outputs": [],
   "source": [
    "import mnist"
   ]
  },
  {
   "cell_type": "code",
   "execution_count": 5,
   "id": "a411e44f",
   "metadata": {
    "execution": {
     "iopub.execute_input": "2022-06-07T10:09:54.632596Z",
     "iopub.status.busy": "2022-06-07T10:09:54.632039Z",
     "iopub.status.idle": "2022-06-07T10:09:55.196460Z",
     "shell.execute_reply": "2022-06-07T10:09:55.195945Z"
    },
    "papermill": {
     "duration": 0.59189,
     "end_time": "2022-06-07T10:09:55.196574",
     "exception": false,
     "start_time": "2022-06-07T10:09:54.604684",
     "status": "completed"
    },
    "tags": []
   },
   "outputs": [],
   "source": [
    "train_images = mnist.train_images()\n",
    "train_labels = mnist.train_labels()"
   ]
  },
  {
   "cell_type": "code",
   "execution_count": 6,
   "id": "dceab3a5",
   "metadata": {
    "execution": {
     "iopub.execute_input": "2022-06-07T10:09:55.250292Z",
     "iopub.status.busy": "2022-06-07T10:09:55.249739Z",
     "iopub.status.idle": "2022-06-07T10:09:55.263765Z",
     "shell.execute_reply": "2022-06-07T10:09:55.263326Z"
    },
    "papermill": {
     "duration": 0.04217,
     "end_time": "2022-06-07T10:09:55.263865",
     "exception": false,
     "start_time": "2022-06-07T10:09:55.221695",
     "status": "completed"
    },
    "tags": []
   },
   "outputs": [
    {
     "data": {
      "text/plain": [
       "((60000, 28, 28), (60000,))"
      ]
     },
     "execution_count": 6,
     "metadata": {},
     "output_type": "execute_result"
    }
   ],
   "source": [
    "train_images.shape, train_labels.shape"
   ]
  },
  {
   "cell_type": "code",
   "execution_count": 7,
   "id": "f50dc2bb",
   "metadata": {
    "execution": {
     "iopub.execute_input": "2022-06-07T10:09:55.317453Z",
     "iopub.status.busy": "2022-06-07T10:09:55.316898Z",
     "iopub.status.idle": "2022-06-07T10:09:55.477616Z",
     "shell.execute_reply": "2022-06-07T10:09:55.477109Z"
    },
    "papermill": {
     "duration": 0.188786,
     "end_time": "2022-06-07T10:09:55.477726",
     "exception": false,
     "start_time": "2022-06-07T10:09:55.288940",
     "status": "completed"
    },
    "tags": []
   },
   "outputs": [],
   "source": [
    "test_images = mnist.test_images()\n",
    "test_labels = mnist.test_labels()"
   ]
  },
  {
   "cell_type": "code",
   "execution_count": 8,
   "id": "fc38cf1b",
   "metadata": {
    "execution": {
     "iopub.execute_input": "2022-06-07T10:09:55.531797Z",
     "iopub.status.busy": "2022-06-07T10:09:55.531249Z",
     "iopub.status.idle": "2022-06-07T10:09:55.544048Z",
     "shell.execute_reply": "2022-06-07T10:09:55.543586Z"
    },
    "papermill": {
     "duration": 0.040968,
     "end_time": "2022-06-07T10:09:55.544148",
     "exception": false,
     "start_time": "2022-06-07T10:09:55.503180",
     "status": "completed"
    },
    "tags": []
   },
   "outputs": [
    {
     "data": {
      "text/plain": [
       "((10000, 28, 28), (10000,))"
      ]
     },
     "execution_count": 8,
     "metadata": {},
     "output_type": "execute_result"
    }
   ],
   "source": [
    "test_images.shape, test_labels.shape"
   ]
  },
  {
   "cell_type": "code",
   "execution_count": 9,
   "id": "f9ed8fe0",
   "metadata": {
    "execution": {
     "iopub.execute_input": "2022-06-07T10:09:55.598252Z",
     "iopub.status.busy": "2022-06-07T10:09:55.597713Z",
     "iopub.status.idle": "2022-06-07T10:09:55.728012Z",
     "shell.execute_reply": "2022-06-07T10:09:55.728443Z"
    },
    "papermill": {
     "duration": 0.158966,
     "end_time": "2022-06-07T10:09:55.728567",
     "exception": false,
     "start_time": "2022-06-07T10:09:55.569601",
     "status": "completed"
    },
    "tags": []
   },
   "outputs": [
    {
     "name": "stdout",
     "output_type": "stream",
     "text": [
      "2\n"
     ]
    },
    {
     "data": {
      "text/plain": [
       "<matplotlib.image.AxesImage at 0x7f455623a8d0>"
      ]
     },
     "execution_count": 9,
     "metadata": {},
     "output_type": "execute_result"
    },
    {
     "data": {
      "image/png": "[encoded data removed]",
      "text/plain": [
       "<Figure size 432x288 with 1 Axes>"
      ]
     },
     "metadata": {
      "needs_background": "light"
     },
     "output_type": "display_data"
    }
   ],
   "source": [
    "image_index = 7776 # You may select anything up to 60,000\n",
    "print(train_labels[image_index]) \n",
    "plt.imshow(train_images[image_index], cmap='Greys')"
   ]
  },
  {
   "cell_type": "markdown",
   "id": "a8d2388d",
   "metadata": {
    "papermill": {
     "duration": 0.026564,
     "end_time": "2022-06-07T10:09:55.781664",
     "exception": false,
     "start_time": "2022-06-07T10:09:55.755100",
     "status": "completed"
    },
    "tags": []
   },
   "source": [
    "## Filter data to get 3 and 8 out"
   ]
  },
  {
   "cell_type": "code",
   "execution_count": 10,
   "id": "776f7fc7",
   "metadata": {
    "execution": {
     "iopub.execute_input": "2022-06-07T10:09:55.838440Z",
     "iopub.status.busy": "2022-06-07T10:09:55.837863Z",
     "iopub.status.idle": "2022-06-07T10:09:55.854030Z",
     "shell.execute_reply": "2022-06-07T10:09:55.854430Z"
    },
    "papermill": {
     "duration": 0.046531,
     "end_time": "2022-06-07T10:09:55.854549",
     "exception": false,
     "start_time": "2022-06-07T10:09:55.808018",
     "status": "completed"
    },
    "tags": []
   },
   "outputs": [],
   "source": [
    "train_filter = np.where((train_labels == 3 ) | (train_labels == 8))\n",
    "test_filter = np.where((test_labels == 3) | (test_labels == 8))\n",
    "X_train, y_train = train_images[train_filter], train_labels[train_filter]\n",
    "X_test, y_test = test_images[test_filter], test_labels[test_filter]"
   ]
  },
  {
   "cell_type": "markdown",
   "id": "948f0b7e",
   "metadata": {
    "papermill": {
     "duration": 0.026379,
     "end_time": "2022-06-07T10:09:55.907322",
     "exception": false,
     "start_time": "2022-06-07T10:09:55.880943",
     "status": "completed"
    },
    "tags": []
   },
   "source": [
    "We normalize the pizel values in the 0 to 1 range"
   ]
  },
  {
   "cell_type": "code",
   "execution_count": 11,
   "id": "ee4c2166",
   "metadata": {
    "execution": {
     "iopub.execute_input": "2022-06-07T10:09:55.963683Z",
     "iopub.status.busy": "2022-06-07T10:09:55.963126Z",
     "iopub.status.idle": "2022-06-07T10:09:56.002546Z",
     "shell.execute_reply": "2022-06-07T10:09:56.002077Z"
    },
    "papermill": {
     "duration": 0.06912,
     "end_time": "2022-06-07T10:09:56.002654",
     "exception": false,
     "start_time": "2022-06-07T10:09:55.933534",
     "status": "completed"
    },
    "tags": []
   },
   "outputs": [],
   "source": [
    "X_train = X_train/255.\n",
    "X_test = X_test/255."
   ]
  },
  {
   "cell_type": "markdown",
   "id": "ddcf4fab",
   "metadata": {
    "papermill": {
     "duration": 0.026393,
     "end_time": "2022-06-07T10:09:56.055642",
     "exception": false,
     "start_time": "2022-06-07T10:09:56.029249",
     "status": "completed"
    },
    "tags": []
   },
   "source": [
    "And setup the labels as 1 (when the digit is 3) and 0 (when the digit is 8)"
   ]
  },
  {
   "cell_type": "code",
   "execution_count": 12,
   "id": "7dc908f2",
   "metadata": {
    "execution": {
     "iopub.execute_input": "2022-06-07T10:09:56.111700Z",
     "iopub.status.busy": "2022-06-07T10:09:56.111154Z",
     "iopub.status.idle": "2022-06-07T10:09:56.122603Z",
     "shell.execute_reply": "2022-06-07T10:09:56.122063Z"
    },
    "papermill": {
     "duration": 0.040727,
     "end_time": "2022-06-07T10:09:56.122703",
     "exception": false,
     "start_time": "2022-06-07T10:09:56.081976",
     "status": "completed"
    },
    "tags": []
   },
   "outputs": [],
   "source": [
    "y_train = 1*(y_train==3)\n",
    "y_test = 1*(y_test==3)"
   ]
  },
  {
   "cell_type": "code",
   "execution_count": 13,
   "id": "01e4e969",
   "metadata": {
    "execution": {
     "iopub.execute_input": "2022-06-07T10:09:56.178248Z",
     "iopub.status.busy": "2022-06-07T10:09:56.177690Z",
     "iopub.status.idle": "2022-06-07T10:09:56.190020Z",
     "shell.execute_reply": "2022-06-07T10:09:56.190447Z"
    },
    "papermill": {
     "duration": 0.041524,
     "end_time": "2022-06-07T10:09:56.190557",
     "exception": false,
     "start_time": "2022-06-07T10:09:56.149033",
     "status": "completed"
    },
    "tags": []
   },
   "outputs": [
    {
     "data": {
      "text/plain": [
       "((11982, 28, 28), (1984, 28, 28))"
      ]
     },
     "execution_count": 13,
     "metadata": {},
     "output_type": "execute_result"
    }
   ],
   "source": [
    "X_train.shape, X_test.shape"
   ]
  },
  {
   "cell_type": "markdown",
   "id": "5ccf3f85",
   "metadata": {
    "papermill": {
     "duration": 0.026479,
     "end_time": "2022-06-07T10:09:56.243546",
     "exception": false,
     "start_time": "2022-06-07T10:09:56.217067",
     "status": "completed"
    },
    "tags": []
   },
   "source": [
    "We reshape the data to flatten the image pixels into a set of features or co-variates:"
   ]
  },
  {
   "cell_type": "code",
   "execution_count": 14,
   "id": "5286a4a3",
   "metadata": {
    "execution": {
     "iopub.execute_input": "2022-06-07T10:09:56.300032Z",
     "iopub.status.busy": "2022-06-07T10:09:56.299487Z",
     "iopub.status.idle": "2022-06-07T10:09:56.311976Z",
     "shell.execute_reply": "2022-06-07T10:09:56.311434Z"
    },
    "papermill": {
     "duration": 0.041861,
     "end_time": "2022-06-07T10:09:56.312073",
     "exception": false,
     "start_time": "2022-06-07T10:09:56.270212",
     "status": "completed"
    },
    "tags": []
   },
   "outputs": [
    {
     "data": {
      "text/plain": [
       "((11982, 784), (1984, 784))"
      ]
     },
     "execution_count": 14,
     "metadata": {},
     "output_type": "execute_result"
    }
   ],
   "source": [
    "X_train = X_train.reshape(X_train.shape[0], -1)\n",
    "X_test = X_test.reshape(X_test.shape[0], -1)\n",
    "X_train.shape, X_test.shape"
   ]
  },
  {
   "cell_type": "code",
   "execution_count": 15,
   "id": "73c5f88a",
   "metadata": {
    "execution": {
     "iopub.execute_input": "2022-06-07T10:09:56.369662Z",
     "iopub.status.busy": "2022-06-07T10:09:56.369099Z",
     "iopub.status.idle": "2022-06-07T10:09:56.386041Z",
     "shell.execute_reply": "2022-06-07T10:09:56.386489Z"
    },
    "papermill": {
     "duration": 0.0476,
     "end_time": "2022-06-07T10:09:56.386595",
     "exception": false,
     "start_time": "2022-06-07T10:09:56.338995",
     "status": "completed"
    },
    "tags": []
   },
   "outputs": [],
   "source": [
    "#Impoting functions from 'Kudzu'\n",
    "from kudzu.model import Model\n",
    "from kudzu.train import Learner\n",
    "from kudzu.optim import GD\n",
    "from kudzu.data import Data, Sampler,Dataloader\n",
    "\n",
    "from kudzu.callbacks import AccCallback\n",
    "from kudzu.callbacks import ClfCallback\n",
    "\n",
    "from kudzu.loss import MSE\n",
    "\n",
    "from kudzu.layer import Sigmoid,Relu\n",
    "from kudzu.layer import Affine"
   ]
  },
  {
   "cell_type": "markdown",
   "id": "bc01172a",
   "metadata": {
    "papermill": {
     "duration": 0.026756,
     "end_time": "2022-06-07T10:09:56.440557",
     "exception": false,
     "start_time": "2022-06-07T10:09:56.413801",
     "status": "completed"
    },
    "tags": []
   },
   "source": [
    "### Let us create a `Config` class, to store important parameters. \n",
    "This class essentially plays the role of a dictionary."
   ]
  },
  {
   "cell_type": "code",
   "execution_count": 16,
   "id": "978281aa",
   "metadata": {
    "execution": {
     "iopub.execute_input": "2022-06-07T10:09:56.497372Z",
     "iopub.status.busy": "2022-06-07T10:09:56.496823Z",
     "iopub.status.idle": "2022-06-07T10:09:56.507921Z",
     "shell.execute_reply": "2022-06-07T10:09:56.508377Z"
    },
    "papermill": {
     "duration": 0.041124,
     "end_time": "2022-06-07T10:09:56.508485",
     "exception": false,
     "start_time": "2022-06-07T10:09:56.467361",
     "status": "completed"
    },
    "tags": []
   },
   "outputs": [],
   "source": [
    "class Config:\n",
    "    pass\n",
    "config = Config()\n",
    "config.lr = 0.001\n",
    "config.num_epochs = 250\n",
    "config.bs = 50"
   ]
  },
  {
   "cell_type": "markdown",
   "id": "1385fa59",
   "metadata": {
    "papermill": {
     "duration": 0.026888,
     "end_time": "2022-06-07T10:09:56.562308",
     "exception": false,
     "start_time": "2022-06-07T10:09:56.535420",
     "status": "completed"
    },
    "tags": []
   },
   "source": [
    "### Running Models with the Training data\n",
    "Details about the network layers:\n",
    "- A first affine layer has 784 inputs and does 100 affine transforms. These are followed by a Relu\n",
    "- A second affine layer has 100 inputs from the 100 activations of the past layer, and does 100 affine transforms. These are followed by a Relu\n",
    "- A third affine layer has 100 activations and does 2 affine transformations to create an embedding for visualization. There is no non-linearity here.\n",
    "- A final \"logistic regression\" which has an affine transform from 2 inputs to 1 output, which is squeezed through a sigmoid.\n"
   ]
  },
  {
   "cell_type": "code",
   "execution_count": 17,
   "id": "2b9c66db",
   "metadata": {
    "execution": {
     "iopub.execute_input": "2022-06-07T10:09:56.619573Z",
     "iopub.status.busy": "2022-06-07T10:09:56.619006Z",
     "iopub.status.idle": "2022-06-07T10:09:56.629850Z",
     "shell.execute_reply": "2022-06-07T10:09:56.630288Z"
    },
    "papermill": {
     "duration": 0.041267,
     "end_time": "2022-06-07T10:09:56.630399",
     "exception": false,
     "start_time": "2022-06-07T10:09:56.589132",
     "status": "completed"
    },
    "tags": []
   },
   "outputs": [],
   "source": [
    "data = Data(X_train, y_train.reshape(-1,1))\n",
    "sampler = Sampler(data, config.bs, shuffle=True)\n",
    "\n",
    "dl = Dataloader(data, sampler)\n",
    "\n",
    "opt = GD(config.lr)\n",
    "loss = MSE()"
   ]
  },
  {
   "cell_type": "code",
   "execution_count": 18,
   "id": "b275e4c2",
   "metadata": {
    "execution": {
     "iopub.execute_input": "2022-06-07T10:09:56.687666Z",
     "iopub.status.busy": "2022-06-07T10:09:56.687118Z",
     "iopub.status.idle": "2022-06-07T10:09:56.698101Z",
     "shell.execute_reply": "2022-06-07T10:09:56.698533Z"
    },
    "papermill": {
     "duration": 0.04133,
     "end_time": "2022-06-07T10:09:56.698644",
     "exception": false,
     "start_time": "2022-06-07T10:09:56.657314",
     "status": "completed"
    },
    "tags": []
   },
   "outputs": [],
   "source": [
    "training_data_x = X_train\n",
    "testing_data_x = X_test\n",
    "training_data_y = y_train.reshape(-1,1)\n",
    "testing_data_y = y_test.reshape(-1,1)"
   ]
  },
  {
   "cell_type": "code",
   "execution_count": 19,
   "id": "76951160",
   "metadata": {
    "execution": {
     "iopub.execute_input": "2022-06-07T10:09:56.756293Z",
     "iopub.status.busy": "2022-06-07T10:09:56.755730Z",
     "iopub.status.idle": "2022-06-07T10:09:56.771521Z",
     "shell.execute_reply": "2022-06-07T10:09:56.771062Z"
    },
    "papermill": {
     "duration": 0.04618,
     "end_time": "2022-06-07T10:09:56.771621",
     "exception": false,
     "start_time": "2022-06-07T10:09:56.725441",
     "status": "completed"
    },
    "tags": []
   },
   "outputs": [
    {
     "name": "stdout",
     "output_type": "stream",
     "text": [
      "xavier\n",
      "xavier\n",
      "xavier\n",
      "xavier\n",
      "xavier\n"
     ]
    }
   ],
   "source": [
    "layers = [Affine(\"first\", 784, 100), Relu(\"first\"), Affine(\"second\", 100, 100), Relu(\"second\"), Affine(\"third\", 100, 2), Affine(\"last\", 2, 1), Sigmoid(\"last\")]\n",
    "model_nn = Model(layers)\n",
    "model_lr = Model([Affine(\"logits\", 784, 1), Sigmoid(\"sigmoid\")])"
   ]
  },
  {
   "cell_type": "code",
   "execution_count": 20,
   "id": "6eede77a",
   "metadata": {
    "execution": {
     "iopub.execute_input": "2022-06-07T10:09:56.829689Z",
     "iopub.status.busy": "2022-06-07T10:09:56.829127Z",
     "iopub.status.idle": "2022-06-07T10:09:56.840527Z",
     "shell.execute_reply": "2022-06-07T10:09:56.840081Z"
    },
    "papermill": {
     "duration": 0.041569,
     "end_time": "2022-06-07T10:09:56.840627",
     "exception": false,
     "start_time": "2022-06-07T10:09:56.799058",
     "status": "completed"
    },
    "tags": []
   },
   "outputs": [],
   "source": [
    "nn_learner = Learner(loss, model_nn, opt, config.num_epochs)\n",
    "acc_nn = ClfCallback(nn_learner, config.bs, training_data_x , testing_data_x, training_data_y, testing_data_y)\n",
    "nn_learner.set_callbacks([acc_nn])"
   ]
  },
  {
   "cell_type": "code",
   "execution_count": 21,
   "id": "877b6cc7",
   "metadata": {
    "execution": {
     "iopub.execute_input": "2022-06-07T10:09:56.898602Z",
     "iopub.status.busy": "2022-06-07T10:09:56.898056Z",
     "iopub.status.idle": "2022-06-07T10:09:56.909429Z",
     "shell.execute_reply": "2022-06-07T10:09:56.908976Z"
    },
    "papermill": {
     "duration": 0.04161,
     "end_time": "2022-06-07T10:09:56.909526",
     "exception": false,
     "start_time": "2022-06-07T10:09:56.867916",
     "status": "completed"
    },
    "tags": []
   },
   "outputs": [],
   "source": [
    "lr_learner = Learner(loss, model_lr, opt, config.num_epochs)\n",
    "acc_lr = ClfCallback(lr_learner, config.bs, training_data_x , testing_data_x, training_data_y, testing_data_y)\n",
    "lr_learner.set_callbacks([acc_lr])"
   ]
  },
  {
   "cell_type": "code",
   "execution_count": 22,
   "id": "d9b133c3",
   "metadata": {
    "execution": {
     "iopub.execute_input": "2022-06-07T10:09:56.966999Z",
     "iopub.status.busy": "2022-06-07T10:09:56.966443Z",
     "iopub.status.idle": "2022-06-07T10:12:51.183499Z",
     "shell.execute_reply": "2022-06-07T10:12:51.183946Z"
    },
    "papermill": {
     "duration": 174.247208,
     "end_time": "2022-06-07T10:12:51.184070",
     "exception": false,
     "start_time": "2022-06-07T10:09:56.936862",
     "status": "completed"
    },
    "tags": []
   },
   "outputs": [
    {
     "name": "stdout",
     "output_type": "stream",
     "text": [
      "Epoch 0, Loss 0.2505\n",
      "Training Accuracy: 0.5060, Testing Accuracy: 0.5010\n",
      "\n"
     ]
    },
    {
     "name": "stdout",
     "output_type": "stream",
     "text": [
      "Epoch 10, Loss 0.1591\n",
      "Training Accuracy: 0.8898, Testing Accuracy: 0.8972\n",
      "\n"
     ]
    },
    {
     "name": "stdout",
     "output_type": "stream",
     "text": [
      "Epoch 20, Loss 0.0769\n",
      "Training Accuracy: 0.9261, Testing Accuracy: 0.9299\n",
      "\n"
     ]
    },
    {
     "name": "stdout",
     "output_type": "stream",
     "text": [
      "Epoch 30, Loss 0.0528\n",
      "Training Accuracy: 0.9448, Testing Accuracy: 0.9496\n",
      "\n"
     ]
    },
    {
     "name": "stdout",
     "output_type": "stream",
     "text": [
      "Epoch 40, Loss 0.0431\n",
      "Training Accuracy: 0.9522, Testing Accuracy: 0.9582\n",
      "\n"
     ]
    },
    {
     "name": "stdout",
     "output_type": "stream",
     "text": [
      "Epoch 50, Loss 0.038\n",
      "Training Accuracy: 0.9564, Testing Accuracy: 0.9612\n",
      "\n"
     ]
    },
    {
     "name": "stdout",
     "output_type": "stream",
     "text": [
      "Epoch 60, Loss 0.0347\n",
      "Training Accuracy: 0.9596, Testing Accuracy: 0.9657\n",
      "\n"
     ]
    },
    {
     "name": "stdout",
     "output_type": "stream",
     "text": [
      "Epoch 70, Loss 0.0324\n",
      "Training Accuracy: 0.9629, Testing Accuracy: 0.9672\n",
      "\n"
     ]
    },
    {
     "name": "stdout",
     "output_type": "stream",
     "text": [
      "Epoch 80, Loss 0.0307\n",
      "Training Accuracy: 0.9650, Testing Accuracy: 0.9688\n",
      "\n"
     ]
    },
    {
     "name": "stdout",
     "output_type": "stream",
     "text": [
      "Epoch 90, Loss 0.0293\n",
      "Training Accuracy: 0.9663, Testing Accuracy: 0.9693\n",
      "\n"
     ]
    },
    {
     "name": "stdout",
     "output_type": "stream",
     "text": [
      "Epoch 100, Loss 0.0282\n",
      "Training Accuracy: 0.9667, Testing Accuracy: 0.9713\n",
      "\n"
     ]
    },
    {
     "name": "stdout",
     "output_type": "stream",
     "text": [
      "Epoch 110, Loss 0.0272\n",
      "Training Accuracy: 0.9682, Testing Accuracy: 0.9738\n",
      "\n"
     ]
    },
    {
     "name": "stdout",
     "output_type": "stream",
     "text": [
      "Epoch 120, Loss 0.0264\n",
      "Training Accuracy: 0.9690, Testing Accuracy: 0.9733\n",
      "\n"
     ]
    },
    {
     "name": "stdout",
     "output_type": "stream",
     "text": [
      "Epoch 130, Loss 0.0257\n",
      "Training Accuracy: 0.9697, Testing Accuracy: 0.9728\n",
      "\n"
     ]
    },
    {
     "name": "stdout",
     "output_type": "stream",
     "text": [
      "Epoch 140, Loss 0.025\n",
      "Training Accuracy: 0.9705, Testing Accuracy: 0.9728\n",
      "\n"
     ]
    },
    {
     "name": "stdout",
     "output_type": "stream",
     "text": [
      "Epoch 150, Loss 0.0244\n",
      "Training Accuracy: 0.9710, Testing Accuracy: 0.9728\n",
      "\n"
     ]
    },
    {
     "name": "stdout",
     "output_type": "stream",
     "text": [
      "Epoch 160, Loss 0.0239\n",
      "Training Accuracy: 0.9720, Testing Accuracy: 0.9728\n",
      "\n"
     ]
    },
    {
     "name": "stdout",
     "output_type": "stream",
     "text": [
      "Epoch 170, Loss 0.0234\n",
      "Training Accuracy: 0.9725, Testing Accuracy: 0.9728\n",
      "\n"
     ]
    },
    {
     "name": "stdout",
     "output_type": "stream",
     "text": [
      "Epoch 180, Loss 0.0229\n",
      "Training Accuracy: 0.9731, Testing Accuracy: 0.9728\n",
      "\n"
     ]
    },
    {
     "name": "stdout",
     "output_type": "stream",
     "text": [
      "Epoch 190, Loss 0.0224\n",
      "Training Accuracy: 0.9744, Testing Accuracy: 0.9733\n",
      "\n"
     ]
    },
    {
     "name": "stdout",
     "output_type": "stream",
     "text": [
      "Epoch 200, Loss 0.022\n",
      "Training Accuracy: 0.9744, Testing Accuracy: 0.9738\n",
      "\n"
     ]
    },
    {
     "name": "stdout",
     "output_type": "stream",
     "text": [
      "Epoch 210, Loss 0.0216\n",
      "Training Accuracy: 0.9750, Testing Accuracy: 0.9738\n",
      "\n"
     ]
    },
    {
     "name": "stdout",
     "output_type": "stream",
     "text": [
      "Epoch 220, Loss 0.0212\n",
      "Training Accuracy: 0.9758, Testing Accuracy: 0.9733\n",
      "\n"
     ]
    },
    {
     "name": "stdout",
     "output_type": "stream",
     "text": [
      "Epoch 230, Loss 0.0209\n",
      "Training Accuracy: 0.9760, Testing Accuracy: 0.9723\n",
      "\n"
     ]
    },
    {
     "name": "stdout",
     "output_type": "stream",
     "text": [
      "Epoch 240, Loss 0.0205\n",
      "Training Accuracy: 0.9766, Testing Accuracy: 0.9723\n",
      "\n"
     ]
    },
    {
     "data": {
      "text/plain": [
       "0.0024380520651966077"
      ]
     },
     "execution_count": 22,
     "metadata": {},
     "output_type": "execute_result"
    }
   ],
   "source": [
    "nn_learner.train_loop(dl)"
   ]
  },
  {
   "cell_type": "code",
   "execution_count": 23,
   "id": "e0163366",
   "metadata": {
    "execution": {
     "iopub.execute_input": "2022-06-07T10:12:51.258381Z",
     "iopub.status.busy": "2022-06-07T10:12:51.257012Z",
     "iopub.status.idle": "2022-06-07T10:13:03.081871Z",
     "shell.execute_reply": "2022-06-07T10:13:03.082390Z"
    },
    "papermill": {
     "duration": 11.864049,
     "end_time": "2022-06-07T10:13:03.082515",
     "exception": false,
     "start_time": "2022-06-07T10:12:51.218466",
     "status": "completed"
    },
    "tags": []
   },
   "outputs": [
    {
     "name": "stdout",
     "output_type": "stream",
     "text": [
      "Epoch 0, Loss 0.2245\n",
      "Training Accuracy: 0.7450, Testing Accuracy: 0.7762\n",
      "\n"
     ]
    },
    {
     "name": "stdout",
     "output_type": "stream",
     "text": [
      "Epoch 10, Loss 0.1003\n",
      "Training Accuracy: 0.9150, Testing Accuracy: 0.9299\n",
      "\n"
     ]
    },
    {
     "name": "stdout",
     "output_type": "stream",
     "text": [
      "Epoch 20, Loss 0.078\n",
      "Training Accuracy: 0.9296, Testing Accuracy: 0.9451\n",
      "\n"
     ]
    },
    {
     "name": "stdout",
     "output_type": "stream",
     "text": [
      "Epoch 30, Loss 0.0677\n",
      "Training Accuracy: 0.9361, Testing Accuracy: 0.9496\n",
      "\n"
     ]
    },
    {
     "name": "stdout",
     "output_type": "stream",
     "text": [
      "Epoch 40, Loss 0.0614\n",
      "Training Accuracy: 0.9403, Testing Accuracy: 0.9506\n",
      "\n"
     ]
    },
    {
     "name": "stdout",
     "output_type": "stream",
     "text": [
      "Epoch 50, Loss 0.0572\n",
      "Training Accuracy: 0.9435, Testing Accuracy: 0.9531\n",
      "\n"
     ]
    },
    {
     "name": "stdout",
     "output_type": "stream",
     "text": [
      "Epoch 60, Loss 0.054\n",
      "Training Accuracy: 0.9449, Testing Accuracy: 0.9551\n",
      "\n"
     ]
    },
    {
     "name": "stdout",
     "output_type": "stream",
     "text": [
      "Epoch 70, Loss 0.0515\n",
      "Training Accuracy: 0.9468, Testing Accuracy: 0.9572\n",
      "\n"
     ]
    },
    {
     "name": "stdout",
     "output_type": "stream",
     "text": [
      "Epoch 80, Loss 0.0495\n",
      "Training Accuracy: 0.9485, Testing Accuracy: 0.9587\n",
      "\n"
     ]
    },
    {
     "name": "stdout",
     "output_type": "stream",
     "text": [
      "Epoch 90, Loss 0.0479\n",
      "Training Accuracy: 0.9503, Testing Accuracy: 0.9602\n",
      "\n"
     ]
    },
    {
     "name": "stdout",
     "output_type": "stream",
     "text": [
      "Epoch 100, Loss 0.0465\n",
      "Training Accuracy: 0.9513, Testing Accuracy: 0.9612\n",
      "\n"
     ]
    },
    {
     "name": "stdout",
     "output_type": "stream",
     "text": [
      "Epoch 110, Loss 0.0453\n",
      "Training Accuracy: 0.9525, Testing Accuracy: 0.9612\n",
      "\n"
     ]
    },
    {
     "name": "stdout",
     "output_type": "stream",
     "text": [
      "Epoch 120, Loss 0.0443\n",
      "Training Accuracy: 0.9535, Testing Accuracy: 0.9622\n",
      "\n"
     ]
    },
    {
     "name": "stdout",
     "output_type": "stream",
     "text": [
      "Epoch 130, Loss 0.0433\n",
      "Training Accuracy: 0.9544, Testing Accuracy: 0.9617\n",
      "\n"
     ]
    },
    {
     "name": "stdout",
     "output_type": "stream",
     "text": [
      "Epoch 140, Loss 0.0425\n",
      "Training Accuracy: 0.9548, Testing Accuracy: 0.9627\n",
      "\n"
     ]
    },
    {
     "name": "stdout",
     "output_type": "stream",
     "text": [
      "Epoch 150, Loss 0.0418\n",
      "Training Accuracy: 0.9556, Testing Accuracy: 0.9627\n",
      "\n"
     ]
    },
    {
     "name": "stdout",
     "output_type": "stream",
     "text": [
      "Epoch 160, Loss 0.0411\n",
      "Training Accuracy: 0.9564, Testing Accuracy: 0.9642\n",
      "\n"
     ]
    },
    {
     "name": "stdout",
     "output_type": "stream",
     "text": [
      "Epoch 170, Loss 0.0405\n",
      "Training Accuracy: 0.9571, Testing Accuracy: 0.9642\n",
      "\n"
     ]
    },
    {
     "name": "stdout",
     "output_type": "stream",
     "text": [
      "Epoch 180, Loss 0.0399\n",
      "Training Accuracy: 0.9573, Testing Accuracy: 0.9647\n",
      "\n"
     ]
    },
    {
     "name": "stdout",
     "output_type": "stream",
     "text": [
      "Epoch 190, Loss 0.0394\n",
      "Training Accuracy: 0.9582, Testing Accuracy: 0.9657\n",
      "\n"
     ]
    },
    {
     "name": "stdout",
     "output_type": "stream",
     "text": [
      "Epoch 200, Loss 0.0389\n",
      "Training Accuracy: 0.9585, Testing Accuracy: 0.9657\n",
      "\n"
     ]
    },
    {
     "name": "stdout",
     "output_type": "stream",
     "text": [
      "Epoch 210, Loss 0.0385\n",
      "Training Accuracy: 0.9589, Testing Accuracy: 0.9657\n",
      "\n"
     ]
    },
    {
     "name": "stdout",
     "output_type": "stream",
     "text": [
      "Epoch 220, Loss 0.038\n",
      "Training Accuracy: 0.9593, Testing Accuracy: 0.9662\n",
      "\n"
     ]
    },
    {
     "name": "stdout",
     "output_type": "stream",
     "text": [
      "Epoch 230, Loss 0.0376\n",
      "Training Accuracy: 0.9597, Testing Accuracy: 0.9662\n",
      "\n"
     ]
    },
    {
     "name": "stdout",
     "output_type": "stream",
     "text": [
      "Epoch 240, Loss 0.0373\n",
      "Training Accuracy: 0.9599, Testing Accuracy: 0.9662\n",
      "\n"
     ]
    },
    {
     "data": {
      "text/plain": [
       "0.015167365369595197"
      ]
     },
     "execution_count": 23,
     "metadata": {},
     "output_type": "execute_result"
    }
   ],
   "source": [
    "lr_learner.train_loop(dl)"
   ]
  },
  {
   "cell_type": "code",
   "execution_count": 24,
   "id": "ca410940",
   "metadata": {
    "execution": {
     "iopub.execute_input": "2022-06-07T10:13:03.174265Z",
     "iopub.status.busy": "2022-06-07T10:13:03.173706Z",
     "iopub.status.idle": "2022-06-07T10:13:03.391877Z",
     "shell.execute_reply": "2022-06-07T10:13:03.391400Z"
    },
    "papermill": {
     "duration": 0.267892,
     "end_time": "2022-06-07T10:13:03.391991",
     "exception": false,
     "start_time": "2022-06-07T10:13:03.124099",
     "status": "completed"
    },
    "tags": []
   },
   "outputs": [
    {
     "data": {
      "text/plain": [
       "<matplotlib.legend.Legend at 0x7f4555da99e8>"
      ]
     },
     "execution_count": 24,
     "metadata": {},
     "output_type": "execute_result"
    },
    {
     "data": {
      "image/png": "[encoded data removed]",
      "text/plain": [
       "<Figure size 1080x720 with 1 Axes>"
      ]
     },
     "metadata": {
      "needs_background": "light"
     },
     "output_type": "display_data"
    }
   ],
   "source": [
    "#comparing the results of NN and LR\n",
    "plt.figure(figsize=(15,10))\n",
    "\n",
    "# Neural Network plots\n",
    "plt.plot(acc_nn.accuracies, 'r-', label = \"Training Accuracies - NN\")\n",
    "plt.plot(acc_nn.test_accuracies, 'g-', label = \"Testing Accuracies - NN\")\n",
    "\n",
    "# Logistic Regression plots\n",
    "plt.plot(acc_lr.accuracies, 'k-', label = \"Training Accuracies - LR\")\n",
    "plt.plot(acc_lr.test_accuracies, 'b-', label = \"Testing Accuracies - LR\")\n",
    "plt.legend()"
   ]
  },
  {
   "cell_type": "markdown",
   "id": "80dfb35c",
   "metadata": {
    "papermill": {
     "duration": 0.042408,
     "end_time": "2022-06-07T10:13:03.477092",
     "exception": false,
     "start_time": "2022-06-07T10:13:03.434684",
     "status": "completed"
    },
    "tags": []
   },
   "source": [
    "#### Plotting the outputs of this layer of the NN.\n"
   ]
  },
  {
   "cell_type": "code",
   "execution_count": 25,
   "id": "45eb2ff5",
   "metadata": {
    "execution": {
     "iopub.execute_input": "2022-06-07T10:13:03.565688Z",
     "iopub.status.busy": "2022-06-07T10:13:03.565110Z",
     "iopub.status.idle": "2022-06-07T10:13:03.600235Z",
     "shell.execute_reply": "2022-06-07T10:13:03.599503Z"
    },
    "papermill": {
     "duration": 0.081298,
     "end_time": "2022-06-07T10:13:03.600347",
     "exception": false,
     "start_time": "2022-06-07T10:13:03.519049",
     "status": "completed"
    },
    "tags": []
   },
   "outputs": [],
   "source": [
    "new_model = Model(layers[:-2])\n",
    "testing_plot = new_model(testing_data_x)"
   ]
  },
  {
   "cell_type": "code",
   "execution_count": 26,
   "id": "4c0a5485",
   "metadata": {
    "execution": {
     "iopub.execute_input": "2022-06-07T10:13:03.693347Z",
     "iopub.status.busy": "2022-06-07T10:13:03.690990Z",
     "iopub.status.idle": "2022-06-07T10:13:03.887790Z",
     "shell.execute_reply": "2022-06-07T10:13:03.887339Z"
    },
    "papermill": {
     "duration": 0.245131,
     "end_time": "2022-06-07T10:13:03.887895",
     "exception": false,
     "start_time": "2022-06-07T10:13:03.642764",
     "status": "completed"
    },
    "tags": []
   },
   "outputs": [
    {
     "data": {
      "text/plain": [
       "Text(0.5, 1.0, 'Outputs')"
      ]
     },
     "execution_count": 26,
     "metadata": {},
     "output_type": "execute_result"
    },
    {
     "data": {
      "image/png": "[encoded data removed]",
      "text/plain": [
       "<Figure size 576x504 with 1 Axes>"
      ]
     },
     "metadata": {
      "needs_background": "light"
     },
     "output_type": "display_data"
    }
   ],
   "source": [
    "# Plotting the scatter plot of points and color coding by class\n",
    "plt.figure(figsize=(8,7))\n",
    "plt.scatter(testing_plot[:,0], testing_plot[:,1], alpha = 0.1, c = y_test.ravel());\n",
    "plt.title('Outputs')"
   ]
  },
  {
   "cell_type": "markdown",
   "id": "a74fcf8f",
   "metadata": {
    "papermill": {
     "duration": 0.044545,
     "end_time": "2022-06-07T10:13:03.998597",
     "exception": false,
     "start_time": "2022-06-07T10:13:03.954052",
     "status": "completed"
    },
    "tags": []
   },
   "source": [
    "Probability contours"
   ]
  },
  {
   "cell_type": "code",
   "execution_count": 27,
   "id": "d0afc8e3",
   "metadata": {
    "execution": {
     "iopub.execute_input": "2022-06-07T10:13:04.093510Z",
     "iopub.status.busy": "2022-06-07T10:13:04.091184Z",
     "iopub.status.idle": "2022-06-07T10:13:04.102655Z",
     "shell.execute_reply": "2022-06-07T10:13:04.102114Z"
    },
    "papermill": {
     "duration": 0.0596,
     "end_time": "2022-06-07T10:13:04.102753",
     "exception": false,
     "start_time": "2022-06-07T10:13:04.043153",
     "status": "completed"
    },
    "tags": []
   },
   "outputs": [],
   "source": [
    "model_prob = Model(layers[-2:]) "
   ]
  },
  {
   "cell_type": "code",
   "execution_count": 28,
   "id": "9b96e238",
   "metadata": {
    "execution": {
     "iopub.execute_input": "2022-06-07T10:13:04.195472Z",
     "iopub.status.busy": "2022-06-07T10:13:04.194923Z",
     "iopub.status.idle": "2022-06-07T10:13:04.207260Z",
     "shell.execute_reply": "2022-06-07T10:13:04.207700Z"
    },
    "papermill": {
     "duration": 0.060698,
     "end_time": "2022-06-07T10:13:04.207822",
     "exception": false,
     "start_time": "2022-06-07T10:13:04.147124",
     "status": "completed"
    },
    "tags": []
   },
   "outputs": [],
   "source": [
    "#creating the x and y ranges according to the above generated plot.\n",
    "x_range = np.linspace(-4, 1, 100) \n",
    "y_range = np.linspace(-6, 6, 100) \n",
    "x_grid, y_grid = np.meshgrid(x_range, y_range) # x_grid and y_grig are of size 100 X 100\n",
    "\n",
    "# converting x_grid and y_grid to continuous arrays\n",
    "x_gridflat = np.ravel(x_grid)\n",
    "y_gridflat = np.ravel(y_grid)\n",
    "\n",
    "# The last layer of the current model takes two columns as input. Hence transpose of np.vstack() is required.\n",
    "X = np.vstack((x_gridflat, y_gridflat)).T\n",
    "\n",
    "prob_contour = model_prob(X).reshape(100,100) "
   ]
  },
  {
   "cell_type": "code",
   "execution_count": 29,
   "id": "da72499a",
   "metadata": {
    "execution": {
     "iopub.execute_input": "2022-06-07T10:13:04.301615Z",
     "iopub.status.busy": "2022-06-07T10:13:04.301068Z",
     "iopub.status.idle": "2022-06-07T10:13:04.543926Z",
     "shell.execute_reply": "2022-06-07T10:13:04.543194Z"
    },
    "papermill": {
     "duration": 0.290667,
     "end_time": "2022-06-07T10:13:04.544037",
     "exception": false,
     "start_time": "2022-06-07T10:13:04.253370",
     "status": "completed"
    },
    "tags": []
   },
   "outputs": [
    {
     "data": {
      "image/png": "[encoded data removed]",
      "text/plain": [
       "<Figure size 720x648 with 1 Axes>"
      ]
     },
     "metadata": {
      "needs_background": "light"
     },
     "output_type": "display_data"
    }
   ],
   "source": [
    "plt.figure(figsize=(10,9))\n",
    "plt.scatter(testing_plot[:,0], testing_plot[:,1], alpha = 0.1, c = y_test.ravel())\n",
    "contours = plt.contour(x_grid,y_grid,prob_contour)\n",
    "plt.title('Probability Contours')\n",
    "plt.clabel(contours, inline = True );"
   ]
  },
  {
   "cell_type": "code",
   "execution_count": null,
   "id": "e81b4ac7",
   "metadata": {
    "papermill": {
     "duration": 0.046726,
     "end_time": "2022-06-07T10:13:04.637998",
     "exception": false,
     "start_time": "2022-06-07T10:13:04.591272",
     "status": "completed"
    },
    "tags": []
   },
   "outputs": [],
   "source": []
  }
 ],
 "metadata": {
  "kernelspec": {
   "display_name": "Python 3",
   "language": "python",
   "name": "python3"
  },
  "language_info": {
   "codemirror_mode": {
    "name": "ipython",
    "version": 3
   },
   "file_extension": ".py",
   "mimetype": "text/x-python",
   "name": "python",
   "nbconvert_exporter": "python",
   "pygments_lexer": "ipython3",
   "version": "3.6.15"
  },
  "papermill": {
   "default_parameters": {},
   "duration": 193.880615,
   "end_time": "2022-06-07T10:13:05.001472",
   "environment_variables": {},
   "exception": null,
   "input_path": "2020-08-11-part2.ipynb",
   "output_path": "2020-08-11-part2.ipynb",
   "parameters": {},
   "start_time": "2022-06-07T10:09:51.120857",
   "version": "2.3.3"
  }
 },
 "nbformat": 4,
 "nbformat_minor": 5
}