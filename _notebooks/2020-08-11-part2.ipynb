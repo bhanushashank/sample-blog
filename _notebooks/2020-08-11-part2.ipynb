{
 "cells": [
  {
   "cell_type": "markdown",
   "id": "98380cd3",
   "metadata": {
    "papermill": {
     "duration": 0.028253,
     "end_time": "2022-01-08T10:07:55.882487",
     "exception": false,
     "start_time": "2022-01-08T10:07:55.854234",
     "status": "completed"
    },
    "tags": []
   },
   "source": [
    "# Distinguish Your Own Digits (DYOD)"
   ]
  },
  {
   "cell_type": "markdown",
   "id": "ef31240d",
   "metadata": {
    "papermill": {
     "duration": 0.024075,
     "end_time": "2022-01-08T10:07:55.931404",
     "exception": false,
     "start_time": "2022-01-08T10:07:55.907329",
     "status": "completed"
    },
    "tags": []
   },
   "source": [
    "You are going to write a classifier that distinguishes between the number 3 and number 8."
   ]
  },
  {
   "cell_type": "code",
   "execution_count": 1,
   "id": "b15c8646",
   "metadata": {
    "execution": {
     "iopub.execute_input": "2022-01-08T10:07:55.991166Z",
     "iopub.status.busy": "2022-01-08T10:07:55.990643Z",
     "iopub.status.idle": "2022-01-08T10:07:56.000690Z",
     "shell.execute_reply": "2022-01-08T10:07:56.000267Z"
    },
    "papermill": {
     "duration": 0.04541,
     "end_time": "2022-01-08T10:07:56.000815",
     "exception": false,
     "start_time": "2022-01-08T10:07:55.955405",
     "status": "completed"
    },
    "tags": []
   },
   "outputs": [],
   "source": [
    "%load_ext autoreload\n",
    "%autoreload 2"
   ]
  },
  {
   "cell_type": "code",
   "execution_count": 2,
   "id": "22ef38dc",
   "metadata": {
    "execution": {
     "iopub.execute_input": "2022-01-08T10:07:56.064434Z",
     "iopub.status.busy": "2022-01-08T10:07:56.058502Z",
     "iopub.status.idle": "2022-01-08T10:07:56.618966Z",
     "shell.execute_reply": "2022-01-08T10:07:56.618434Z"
    },
    "papermill": {
     "duration": 0.594011,
     "end_time": "2022-01-08T10:07:56.619103",
     "exception": false,
     "start_time": "2022-01-08T10:07:56.025092",
     "status": "completed"
    },
    "tags": []
   },
   "outputs": [],
   "source": [
    "%matplotlib inline\n",
    "import numpy as np\n",
    "import matplotlib.pyplot as plt\n",
    "import pandas as pd"
   ]
  },
  {
   "cell_type": "markdown",
   "id": "ba036198",
   "metadata": {
    "papermill": {
     "duration": 0.024487,
     "end_time": "2022-01-08T10:07:56.669022",
     "exception": false,
     "start_time": "2022-01-08T10:07:56.644535",
     "status": "completed"
    },
    "tags": []
   },
   "source": [
    "From the command line run `pip install mnist`. This is a library that will help you bring down the mnist dataset. If you run this from a notebook, you need to put  `!pip install mnist` in a cell by itself."
   ]
  },
  {
   "cell_type": "code",
   "execution_count": 3,
   "id": "bb6ad8a1",
   "metadata": {
    "execution": {
     "iopub.execute_input": "2022-01-08T10:07:56.725251Z",
     "iopub.status.busy": "2022-01-08T10:07:56.724729Z",
     "iopub.status.idle": "2022-01-08T10:07:58.460568Z",
     "shell.execute_reply": "2022-01-08T10:07:58.459758Z"
    },
    "papermill": {
     "duration": 1.767554,
     "end_time": "2022-01-08T10:07:58.460706",
     "exception": false,
     "start_time": "2022-01-08T10:07:56.693152",
     "status": "completed"
    },
    "tags": []
   },
   "outputs": [
    {
     "name": "stdout",
     "output_type": "stream",
     "text": [
      "Collecting mnist\r\n"
     ]
    },
    {
     "name": "stdout",
     "output_type": "stream",
     "text": [
      "  Downloading mnist-0.2.2-py2.py3-none-any.whl (3.5 kB)\r\n",
      "Requirement already satisfied: numpy in /opt/hostedtoolcache/Python/3.6.15/x64/lib/python3.6/site-packages (from mnist) (1.19.5)\r\n"
     ]
    },
    {
     "name": "stdout",
     "output_type": "stream",
     "text": [
      "Installing collected packages: mnist\r\n"
     ]
    },
    {
     "name": "stdout",
     "output_type": "stream",
     "text": [
      "Successfully installed mnist-0.2.2\r\n"
     ]
    }
   ],
   "source": [
    "!pip install mnist"
   ]
  },
  {
   "cell_type": "markdown",
   "id": "69df9c9a",
   "metadata": {
    "papermill": {
     "duration": 0.025929,
     "end_time": "2022-01-08T10:07:58.512637",
     "exception": false,
     "start_time": "2022-01-08T10:07:58.486708",
     "status": "completed"
    },
    "tags": []
   },
   "source": [
    "## Preparing the Data"
   ]
  },
  {
   "cell_type": "code",
   "execution_count": 4,
   "id": "7f69d806",
   "metadata": {
    "execution": {
     "iopub.execute_input": "2022-01-08T10:07:58.582971Z",
     "iopub.status.busy": "2022-01-08T10:07:58.581918Z",
     "iopub.status.idle": "2022-01-08T10:07:58.585258Z",
     "shell.execute_reply": "2022-01-08T10:07:58.584849Z"
    },
    "papermill": {
     "duration": 0.047744,
     "end_time": "2022-01-08T10:07:58.585364",
     "exception": false,
     "start_time": "2022-01-08T10:07:58.537620",
     "status": "completed"
    },
    "tags": []
   },
   "outputs": [],
   "source": [
    "import mnist"
   ]
  },
  {
   "cell_type": "code",
   "execution_count": 5,
   "id": "a411e44f",
   "metadata": {
    "execution": {
     "iopub.execute_input": "2022-01-08T10:07:58.638686Z",
     "iopub.status.busy": "2022-01-08T10:07:58.638182Z",
     "iopub.status.idle": "2022-01-08T10:07:59.136940Z",
     "shell.execute_reply": "2022-01-08T10:07:59.136427Z"
    },
    "papermill": {
     "duration": 0.526616,
     "end_time": "2022-01-08T10:07:59.137074",
     "exception": false,
     "start_time": "2022-01-08T10:07:58.610458",
     "status": "completed"
    },
    "tags": []
   },
   "outputs": [],
   "source": [
    "train_images = mnist.train_images()\n",
    "train_labels = mnist.train_labels()"
   ]
  },
  {
   "cell_type": "code",
   "execution_count": 6,
   "id": "dceab3a5",
   "metadata": {
    "execution": {
     "iopub.execute_input": "2022-01-08T10:07:59.202533Z",
     "iopub.status.busy": "2022-01-08T10:07:59.198458Z",
     "iopub.status.idle": "2022-01-08T10:07:59.211137Z",
     "shell.execute_reply": "2022-01-08T10:07:59.210722Z"
    },
    "papermill": {
     "duration": 0.047784,
     "end_time": "2022-01-08T10:07:59.211251",
     "exception": false,
     "start_time": "2022-01-08T10:07:59.163467",
     "status": "completed"
    },
    "tags": []
   },
   "outputs": [
    {
     "data": {
      "text/plain": [
       "((60000, 28, 28), (60000,))"
      ]
     },
     "execution_count": 6,
     "metadata": {},
     "output_type": "execute_result"
    }
   ],
   "source": [
    "train_images.shape, train_labels.shape"
   ]
  },
  {
   "cell_type": "code",
   "execution_count": 7,
   "id": "f50dc2bb",
   "metadata": {
    "execution": {
     "iopub.execute_input": "2022-01-08T10:07:59.277018Z",
     "iopub.status.busy": "2022-01-08T10:07:59.272273Z",
     "iopub.status.idle": "2022-01-08T10:07:59.404821Z",
     "shell.execute_reply": "2022-01-08T10:07:59.404263Z"
    },
    "papermill": {
     "duration": 0.168339,
     "end_time": "2022-01-08T10:07:59.404951",
     "exception": false,
     "start_time": "2022-01-08T10:07:59.236612",
     "status": "completed"
    },
    "tags": []
   },
   "outputs": [],
   "source": [
    "test_images = mnist.test_images()\n",
    "test_labels = mnist.test_labels()"
   ]
  },
  {
   "cell_type": "code",
   "execution_count": 8,
   "id": "fc38cf1b",
   "metadata": {
    "execution": {
     "iopub.execute_input": "2022-01-08T10:07:59.461709Z",
     "iopub.status.busy": "2022-01-08T10:07:59.461203Z",
     "iopub.status.idle": "2022-01-08T10:07:59.473781Z",
     "shell.execute_reply": "2022-01-08T10:07:59.474269Z"
    },
    "papermill": {
     "duration": 0.041707,
     "end_time": "2022-01-08T10:07:59.474390",
     "exception": false,
     "start_time": "2022-01-08T10:07:59.432683",
     "status": "completed"
    },
    "tags": []
   },
   "outputs": [
    {
     "data": {
      "text/plain": [
       "((10000, 28, 28), (10000,))"
      ]
     },
     "execution_count": 8,
     "metadata": {},
     "output_type": "execute_result"
    }
   ],
   "source": [
    "test_images.shape, test_labels.shape"
   ]
  },
  {
   "cell_type": "code",
   "execution_count": 9,
   "id": "f9ed8fe0",
   "metadata": {
    "execution": {
     "iopub.execute_input": "2022-01-08T10:07:59.554376Z",
     "iopub.status.busy": "2022-01-08T10:07:59.533724Z",
     "iopub.status.idle": "2022-01-08T10:07:59.668150Z",
     "shell.execute_reply": "2022-01-08T10:07:59.667635Z"
    },
    "papermill": {
     "duration": 0.168491,
     "end_time": "2022-01-08T10:07:59.668281",
     "exception": false,
     "start_time": "2022-01-08T10:07:59.499790",
     "status": "completed"
    },
    "tags": []
   },
   "outputs": [
    {
     "name": "stdout",
     "output_type": "stream",
     "text": [
      "2\n"
     ]
    },
    {
     "data": {
      "text/plain": [
       "<matplotlib.image.AxesImage at 0x7f0c43be3438>"
      ]
     },
     "execution_count": 9,
     "metadata": {},
     "output_type": "execute_result"
    },
    {
     "data": {
      "image/png": "[encoded data removed]",
      "text/plain": [
       "<Figure size 432x288 with 1 Axes>"
      ]
     },
     "metadata": {
      "needs_background": "light"
     },
     "output_type": "display_data"
    }
   ],
   "source": [
    "image_index = 7776 # You may select anything up to 60,000\n",
    "print(train_labels[image_index]) \n",
    "plt.imshow(train_images[image_index], cmap='Greys')"
   ]
  },
  {
   "cell_type": "markdown",
   "id": "a8d2388d",
   "metadata": {
    "papermill": {
     "duration": 0.027086,
     "end_time": "2022-01-08T10:07:59.722942",
     "exception": false,
     "start_time": "2022-01-08T10:07:59.695856",
     "status": "completed"
    },
    "tags": []
   },
   "source": [
    "## Filter data to get 3 and 8 out"
   ]
  },
  {
   "cell_type": "code",
   "execution_count": 10,
   "id": "776f7fc7",
   "metadata": {
    "execution": {
     "iopub.execute_input": "2022-01-08T10:07:59.783486Z",
     "iopub.status.busy": "2022-01-08T10:07:59.782967Z",
     "iopub.status.idle": "2022-01-08T10:07:59.798762Z",
     "shell.execute_reply": "2022-01-08T10:07:59.798347Z"
    },
    "papermill": {
     "duration": 0.049294,
     "end_time": "2022-01-08T10:07:59.798872",
     "exception": false,
     "start_time": "2022-01-08T10:07:59.749578",
     "status": "completed"
    },
    "tags": []
   },
   "outputs": [],
   "source": [
    "train_filter = np.where((train_labels == 3 ) | (train_labels == 8))\n",
    "test_filter = np.where((test_labels == 3) | (test_labels == 8))\n",
    "X_train, y_train = train_images[train_filter], train_labels[train_filter]\n",
    "X_test, y_test = test_images[test_filter], test_labels[test_filter]"
   ]
  },
  {
   "cell_type": "markdown",
   "id": "948f0b7e",
   "metadata": {
    "papermill": {
     "duration": 0.026564,
     "end_time": "2022-01-08T10:07:59.852056",
     "exception": false,
     "start_time": "2022-01-08T10:07:59.825492",
     "status": "completed"
    },
    "tags": []
   },
   "source": [
    "We normalize the pizel values in the 0 to 1 range"
   ]
  },
  {
   "cell_type": "code",
   "execution_count": 11,
   "id": "ee4c2166",
   "metadata": {
    "execution": {
     "iopub.execute_input": "2022-01-08T10:07:59.908281Z",
     "iopub.status.busy": "2022-01-08T10:07:59.907757Z",
     "iopub.status.idle": "2022-01-08T10:07:59.956946Z",
     "shell.execute_reply": "2022-01-08T10:07:59.956434Z"
    },
    "papermill": {
     "duration": 0.078626,
     "end_time": "2022-01-08T10:07:59.957078",
     "exception": false,
     "start_time": "2022-01-08T10:07:59.878452",
     "status": "completed"
    },
    "tags": []
   },
   "outputs": [],
   "source": [
    "X_train = X_train/255.\n",
    "X_test = X_test/255."
   ]
  },
  {
   "cell_type": "markdown",
   "id": "ddcf4fab",
   "metadata": {
    "papermill": {
     "duration": 0.026732,
     "end_time": "2022-01-08T10:08:00.011665",
     "exception": false,
     "start_time": "2022-01-08T10:07:59.984933",
     "status": "completed"
    },
    "tags": []
   },
   "source": [
    "And setup the labels as 1 (when the digit is 3) and 0 (when the digit is 8)"
   ]
  },
  {
   "cell_type": "code",
   "execution_count": 12,
   "id": "7dc908f2",
   "metadata": {
    "execution": {
     "iopub.execute_input": "2022-01-08T10:08:00.080893Z",
     "iopub.status.busy": "2022-01-08T10:08:00.080376Z",
     "iopub.status.idle": "2022-01-08T10:08:00.086109Z",
     "shell.execute_reply": "2022-01-08T10:08:00.085677Z"
    },
    "papermill": {
     "duration": 0.048107,
     "end_time": "2022-01-08T10:08:00.086216",
     "exception": false,
     "start_time": "2022-01-08T10:08:00.038109",
     "status": "completed"
    },
    "tags": []
   },
   "outputs": [],
   "source": [
    "y_train = 1*(y_train==3)\n",
    "y_test = 1*(y_test==3)"
   ]
  },
  {
   "cell_type": "code",
   "execution_count": 13,
   "id": "01e4e969",
   "metadata": {
    "execution": {
     "iopub.execute_input": "2022-01-08T10:08:00.152270Z",
     "iopub.status.busy": "2022-01-08T10:08:00.149266Z",
     "iopub.status.idle": "2022-01-08T10:08:00.159547Z",
     "shell.execute_reply": "2022-01-08T10:08:00.159142Z"
    },
    "papermill": {
     "duration": 0.046928,
     "end_time": "2022-01-08T10:08:00.159678",
     "exception": false,
     "start_time": "2022-01-08T10:08:00.112750",
     "status": "completed"
    },
    "tags": []
   },
   "outputs": [
    {
     "data": {
      "text/plain": [
       "((11982, 28, 28), (1984, 28, 28))"
      ]
     },
     "execution_count": 13,
     "metadata": {},
     "output_type": "execute_result"
    }
   ],
   "source": [
    "X_train.shape, X_test.shape"
   ]
  },
  {
   "cell_type": "markdown",
   "id": "5ccf3f85",
   "metadata": {
    "papermill": {
     "duration": 0.026937,
     "end_time": "2022-01-08T10:08:00.213243",
     "exception": false,
     "start_time": "2022-01-08T10:08:00.186306",
     "status": "completed"
    },
    "tags": []
   },
   "source": [
    "We reshape the data to flatten the image pixels into a set of features or co-variates:"
   ]
  },
  {
   "cell_type": "code",
   "execution_count": 14,
   "id": "5286a4a3",
   "metadata": {
    "execution": {
     "iopub.execute_input": "2022-01-08T10:08:00.276784Z",
     "iopub.status.busy": "2022-01-08T10:08:00.276277Z",
     "iopub.status.idle": "2022-01-08T10:08:00.285605Z",
     "shell.execute_reply": "2022-01-08T10:08:00.286014Z"
    },
    "papermill": {
     "duration": 0.045961,
     "end_time": "2022-01-08T10:08:00.286134",
     "exception": false,
     "start_time": "2022-01-08T10:08:00.240173",
     "status": "completed"
    },
    "tags": []
   },
   "outputs": [
    {
     "data": {
      "text/plain": [
       "((11982, 784), (1984, 784))"
      ]
     },
     "execution_count": 14,
     "metadata": {},
     "output_type": "execute_result"
    }
   ],
   "source": [
    "X_train = X_train.reshape(X_train.shape[0], -1)\n",
    "X_test = X_test.reshape(X_test.shape[0], -1)\n",
    "X_train.shape, X_test.shape"
   ]
  },
  {
   "cell_type": "code",
   "execution_count": 15,
   "id": "73c5f88a",
   "metadata": {
    "execution": {
     "iopub.execute_input": "2022-01-08T10:08:00.349017Z",
     "iopub.status.busy": "2022-01-08T10:08:00.348417Z",
     "iopub.status.idle": "2022-01-08T10:08:00.364822Z",
     "shell.execute_reply": "2022-01-08T10:08:00.365236Z"
    },
    "papermill": {
     "duration": 0.052159,
     "end_time": "2022-01-08T10:08:00.365381",
     "exception": false,
     "start_time": "2022-01-08T10:08:00.313222",
     "status": "completed"
    },
    "tags": []
   },
   "outputs": [],
   "source": [
    "#Impoting functions from 'Kudzu'\n",
    "from kudzu.model import Model\n",
    "from kudzu.train import Learner\n",
    "from kudzu.optim import GD\n",
    "from kudzu.data import Data, Sampler,Dataloader\n",
    "\n",
    "from kudzu.callbacks import AccCallback\n",
    "from kudzu.callbacks import ClfCallback\n",
    "\n",
    "from kudzu.loss import MSE\n",
    "\n",
    "from kudzu.layer import Sigmoid,Relu\n",
    "from kudzu.layer import Affine"
   ]
  },
  {
   "cell_type": "markdown",
   "id": "bc01172a",
   "metadata": {
    "papermill": {
     "duration": 0.027117,
     "end_time": "2022-01-08T10:08:00.419661",
     "exception": false,
     "start_time": "2022-01-08T10:08:00.392544",
     "status": "completed"
    },
    "tags": []
   },
   "source": [
    "### Let us create a `Config` class, to store important parameters. \n",
    "This class essentially plays the role of a dictionary."
   ]
  },
  {
   "cell_type": "code",
   "execution_count": 16,
   "id": "978281aa",
   "metadata": {
    "execution": {
     "iopub.execute_input": "2022-01-08T10:08:00.488033Z",
     "iopub.status.busy": "2022-01-08T10:08:00.480898Z",
     "iopub.status.idle": "2022-01-08T10:08:00.490348Z",
     "shell.execute_reply": "2022-01-08T10:08:00.489912Z"
    },
    "papermill": {
     "duration": 0.043796,
     "end_time": "2022-01-08T10:08:00.490452",
     "exception": false,
     "start_time": "2022-01-08T10:08:00.446656",
     "status": "completed"
    },
    "tags": []
   },
   "outputs": [],
   "source": [
    "class Config:\n",
    "    pass\n",
    "config = Config()\n",
    "config.lr = 0.001\n",
    "config.num_epochs = 250\n",
    "config.bs = 50"
   ]
  },
  {
   "cell_type": "markdown",
   "id": "1385fa59",
   "metadata": {
    "papermill": {
     "duration": 0.026938,
     "end_time": "2022-01-08T10:08:00.544547",
     "exception": false,
     "start_time": "2022-01-08T10:08:00.517609",
     "status": "completed"
    },
    "tags": []
   },
   "source": [
    "### Running Models with the Training data\n",
    "Details about the network layers:\n",
    "- A first affine layer has 784 inputs and does 100 affine transforms. These are followed by a Relu\n",
    "- A second affine layer has 100 inputs from the 100 activations of the past layer, and does 100 affine transforms. These are followed by a Relu\n",
    "- A third affine layer has 100 activations and does 2 affine transformations to create an embedding for visualization. There is no non-linearity here.\n",
    "- A final \"logistic regression\" which has an affine transform from 2 inputs to 1 output, which is squeezed through a sigmoid.\n"
   ]
  },
  {
   "cell_type": "code",
   "execution_count": 17,
   "id": "2b9c66db",
   "metadata": {
    "execution": {
     "iopub.execute_input": "2022-01-08T10:08:00.608938Z",
     "iopub.status.busy": "2022-01-08T10:08:00.608404Z",
     "iopub.status.idle": "2022-01-08T10:08:00.618053Z",
     "shell.execute_reply": "2022-01-08T10:08:00.617603Z"
    },
    "papermill": {
     "duration": 0.046528,
     "end_time": "2022-01-08T10:08:00.618161",
     "exception": false,
     "start_time": "2022-01-08T10:08:00.571633",
     "status": "completed"
    },
    "tags": []
   },
   "outputs": [],
   "source": [
    "data = Data(X_train, y_train.reshape(-1,1))\n",
    "sampler = Sampler(data, config.bs, shuffle=True)\n",
    "\n",
    "dl = Dataloader(data, sampler)\n",
    "\n",
    "opt = GD(config.lr)\n",
    "loss = MSE()"
   ]
  },
  {
   "cell_type": "code",
   "execution_count": 18,
   "id": "b275e4c2",
   "metadata": {
    "execution": {
     "iopub.execute_input": "2022-01-08T10:08:00.680384Z",
     "iopub.status.busy": "2022-01-08T10:08:00.676268Z",
     "iopub.status.idle": "2022-01-08T10:08:00.688328Z",
     "shell.execute_reply": "2022-01-08T10:08:00.688738Z"
    },
    "papermill": {
     "duration": 0.04348,
     "end_time": "2022-01-08T10:08:00.688857",
     "exception": false,
     "start_time": "2022-01-08T10:08:00.645377",
     "status": "completed"
    },
    "tags": []
   },
   "outputs": [],
   "source": [
    "training_data_x = X_train\n",
    "testing_data_x = X_test\n",
    "training_data_y = y_train.reshape(-1,1)\n",
    "testing_data_y = y_test.reshape(-1,1)"
   ]
  },
  {
   "cell_type": "code",
   "execution_count": 19,
   "id": "76951160",
   "metadata": {
    "execution": {
     "iopub.execute_input": "2022-01-08T10:08:00.754481Z",
     "iopub.status.busy": "2022-01-08T10:08:00.747165Z",
     "iopub.status.idle": "2022-01-08T10:08:00.766635Z",
     "shell.execute_reply": "2022-01-08T10:08:00.767022Z"
    },
    "papermill": {
     "duration": 0.05129,
     "end_time": "2022-01-08T10:08:00.767146",
     "exception": false,
     "start_time": "2022-01-08T10:08:00.715856",
     "status": "completed"
    },
    "tags": []
   },
   "outputs": [
    {
     "name": "stdout",
     "output_type": "stream",
     "text": [
      "xavier\n",
      "xavier\n",
      "xavier\n",
      "xavier\n",
      "xavier\n"
     ]
    }
   ],
   "source": [
    "layers = [Affine(\"first\", 784, 100), Relu(\"first\"), Affine(\"second\", 100, 100), Relu(\"second\"), Affine(\"third\", 100, 2), Affine(\"last\", 2, 1), Sigmoid(\"last\")]\n",
    "model_nn = Model(layers)\n",
    "model_lr = Model([Affine(\"logits\", 784, 1), Sigmoid(\"sigmoid\")])"
   ]
  },
  {
   "cell_type": "code",
   "execution_count": 20,
   "id": "6eede77a",
   "metadata": {
    "execution": {
     "iopub.execute_input": "2022-01-08T10:08:00.825495Z",
     "iopub.status.busy": "2022-01-08T10:08:00.824987Z",
     "iopub.status.idle": "2022-01-08T10:08:00.836551Z",
     "shell.execute_reply": "2022-01-08T10:08:00.836121Z"
    },
    "papermill": {
     "duration": 0.042128,
     "end_time": "2022-01-08T10:08:00.836654",
     "exception": false,
     "start_time": "2022-01-08T10:08:00.794526",
     "status": "completed"
    },
    "tags": []
   },
   "outputs": [],
   "source": [
    "nn_learner = Learner(loss, model_nn, opt, config.num_epochs)\n",
    "acc_nn = ClfCallback(nn_learner, config.bs, training_data_x , testing_data_x, training_data_y, testing_data_y)\n",
    "nn_learner.set_callbacks([acc_nn])"
   ]
  },
  {
   "cell_type": "code",
   "execution_count": 21,
   "id": "877b6cc7",
   "metadata": {
    "execution": {
     "iopub.execute_input": "2022-01-08T10:08:00.907739Z",
     "iopub.status.busy": "2022-01-08T10:08:00.904552Z",
     "iopub.status.idle": "2022-01-08T10:08:00.909584Z",
     "shell.execute_reply": "2022-01-08T10:08:00.909968Z"
    },
    "papermill": {
     "duration": 0.046237,
     "end_time": "2022-01-08T10:08:00.910090",
     "exception": false,
     "start_time": "2022-01-08T10:08:00.863853",
     "status": "completed"
    },
    "tags": []
   },
   "outputs": [],
   "source": [
    "lr_learner = Learner(loss, model_lr, opt, config.num_epochs)\n",
    "acc_lr = ClfCallback(lr_learner, config.bs, training_data_x , testing_data_x, training_data_y, testing_data_y)\n",
    "lr_learner.set_callbacks([acc_lr])"
   ]
  },
  {
   "cell_type": "code",
   "execution_count": 22,
   "id": "d9b133c3",
   "metadata": {
    "execution": {
     "iopub.execute_input": "2022-01-08T10:08:00.979585Z",
     "iopub.status.busy": "2022-01-08T10:08:00.974908Z",
     "iopub.status.idle": "2022-01-08T10:09:14.341436Z",
     "shell.execute_reply": "2022-01-08T10:09:14.342166Z"
    },
    "papermill": {
     "duration": 73.404865,
     "end_time": "2022-01-08T10:09:14.342306",
     "exception": false,
     "start_time": "2022-01-08T10:08:00.937441",
     "status": "completed"
    },
    "tags": []
   },
   "outputs": [
    {
     "name": "stdout",
     "output_type": "stream",
     "text": [
      "Epoch 0, Loss 0.2347\n",
      "Training Accuracy: 0.6828, Testing Accuracy: 0.6895\n",
      "\n"
     ]
    },
    {
     "name": "stdout",
     "output_type": "stream",
     "text": [
      "Epoch 10, Loss 0.0963\n",
      "Training Accuracy: 0.9231, Testing Accuracy: 0.9325\n",
      "\n"
     ]
    },
    {
     "name": "stdout",
     "output_type": "stream",
     "text": [
      "Epoch 20, Loss 0.0574\n",
      "Training Accuracy: 0.9402, Testing Accuracy: 0.9491\n",
      "\n"
     ]
    },
    {
     "name": "stdout",
     "output_type": "stream",
     "text": [
      "Epoch 30, Loss 0.0452\n",
      "Training Accuracy: 0.9499, Testing Accuracy: 0.9577\n",
      "\n"
     ]
    },
    {
     "name": "stdout",
     "output_type": "stream",
     "text": [
      "Epoch 40, Loss 0.0392\n",
      "Training Accuracy: 0.9551, Testing Accuracy: 0.9632\n",
      "\n"
     ]
    },
    {
     "name": "stdout",
     "output_type": "stream",
     "text": [
      "Epoch 50, Loss 0.0356\n",
      "Training Accuracy: 0.9591, Testing Accuracy: 0.9662\n",
      "\n"
     ]
    },
    {
     "name": "stdout",
     "output_type": "stream",
     "text": [
      "Epoch 60, Loss 0.0331\n",
      "Training Accuracy: 0.9622, Testing Accuracy: 0.9682\n",
      "\n"
     ]
    },
    {
     "name": "stdout",
     "output_type": "stream",
     "text": [
      "Epoch 70, Loss 0.0312\n",
      "Training Accuracy: 0.9641, Testing Accuracy: 0.9682\n",
      "\n"
     ]
    },
    {
     "name": "stdout",
     "output_type": "stream",
     "text": [
      "Epoch 80, Loss 0.0296\n",
      "Training Accuracy: 0.9651, Testing Accuracy: 0.9693\n",
      "\n"
     ]
    },
    {
     "name": "stdout",
     "output_type": "stream",
     "text": [
      "Epoch 90, Loss 0.0284\n",
      "Training Accuracy: 0.9665, Testing Accuracy: 0.9698\n",
      "\n"
     ]
    },
    {
     "name": "stdout",
     "output_type": "stream",
     "text": [
      "Epoch 100, Loss 0.0273\n",
      "Training Accuracy: 0.9678, Testing Accuracy: 0.9708\n",
      "\n"
     ]
    },
    {
     "name": "stdout",
     "output_type": "stream",
     "text": [
      "Epoch 110, Loss 0.0264\n",
      "Training Accuracy: 0.9687, Testing Accuracy: 0.9708\n",
      "\n"
     ]
    },
    {
     "name": "stdout",
     "output_type": "stream",
     "text": [
      "Epoch 120, Loss 0.0256\n",
      "Training Accuracy: 0.9701, Testing Accuracy: 0.9723\n",
      "\n"
     ]
    },
    {
     "name": "stdout",
     "output_type": "stream",
     "text": [
      "Epoch 130, Loss 0.0249\n",
      "Training Accuracy: 0.9710, Testing Accuracy: 0.9723\n",
      "\n"
     ]
    },
    {
     "name": "stdout",
     "output_type": "stream",
     "text": [
      "Epoch 140, Loss 0.0242\n",
      "Training Accuracy: 0.9722, Testing Accuracy: 0.9728\n",
      "\n"
     ]
    },
    {
     "name": "stdout",
     "output_type": "stream",
     "text": [
      "Epoch 150, Loss 0.0236\n",
      "Training Accuracy: 0.9729, Testing Accuracy: 0.9723\n",
      "\n"
     ]
    },
    {
     "name": "stdout",
     "output_type": "stream",
     "text": [
      "Epoch 160, Loss 0.0231\n",
      "Training Accuracy: 0.9738, Testing Accuracy: 0.9728\n",
      "\n"
     ]
    },
    {
     "name": "stdout",
     "output_type": "stream",
     "text": [
      "Epoch 170, Loss 0.0225\n",
      "Training Accuracy: 0.9747, Testing Accuracy: 0.9723\n",
      "\n"
     ]
    },
    {
     "name": "stdout",
     "output_type": "stream",
     "text": [
      "Epoch 180, Loss 0.022\n",
      "Training Accuracy: 0.9752, Testing Accuracy: 0.9723\n",
      "\n"
     ]
    },
    {
     "name": "stdout",
     "output_type": "stream",
     "text": [
      "Epoch 190, Loss 0.0216\n",
      "Training Accuracy: 0.9756, Testing Accuracy: 0.9728\n",
      "\n"
     ]
    },
    {
     "name": "stdout",
     "output_type": "stream",
     "text": [
      "Epoch 200, Loss 0.0211\n",
      "Training Accuracy: 0.9760, Testing Accuracy: 0.9733\n",
      "\n"
     ]
    },
    {
     "name": "stdout",
     "output_type": "stream",
     "text": [
      "Epoch 210, Loss 0.0207\n",
      "Training Accuracy: 0.9759, Testing Accuracy: 0.9738\n",
      "\n"
     ]
    },
    {
     "name": "stdout",
     "output_type": "stream",
     "text": [
      "Epoch 220, Loss 0.0203\n",
      "Training Accuracy: 0.9765, Testing Accuracy: 0.9743\n",
      "\n"
     ]
    },
    {
     "name": "stdout",
     "output_type": "stream",
     "text": [
      "Epoch 230, Loss 0.0199\n",
      "Training Accuracy: 0.9769, Testing Accuracy: 0.9743\n",
      "\n"
     ]
    },
    {
     "name": "stdout",
     "output_type": "stream",
     "text": [
      "Epoch 240, Loss 0.0195\n",
      "Training Accuracy: 0.9776, Testing Accuracy: 0.9743\n",
      "\n"
     ]
    },
    {
     "data": {
      "text/plain": [
       "0.012676929892494849"
      ]
     },
     "execution_count": 22,
     "metadata": {},
     "output_type": "execute_result"
    }
   ],
   "source": [
    "nn_learner.train_loop(dl)"
   ]
  },
  {
   "cell_type": "code",
   "execution_count": 23,
   "id": "e0163366",
   "metadata": {
    "execution": {
     "iopub.execute_input": "2022-01-08T10:09:14.427612Z",
     "iopub.status.busy": "2022-01-08T10:09:14.427062Z",
     "iopub.status.idle": "2022-01-08T10:09:27.313108Z",
     "shell.execute_reply": "2022-01-08T10:09:27.313848Z"
    },
    "papermill": {
     "duration": 12.933465,
     "end_time": "2022-01-08T10:09:27.313988",
     "exception": false,
     "start_time": "2022-01-08T10:09:14.380523",
     "status": "completed"
    },
    "tags": []
   },
   "outputs": [
    {
     "name": "stdout",
     "output_type": "stream",
     "text": [
      "Epoch 0, Loss 0.2222\n",
      "Training Accuracy: 0.7661, Testing Accuracy: 0.7681\n",
      "\n"
     ]
    },
    {
     "name": "stdout",
     "output_type": "stream",
     "text": [
      "Epoch 10, Loss 0.1014\n",
      "Training Accuracy: 0.9076, Testing Accuracy: 0.9173\n",
      "\n"
     ]
    },
    {
     "name": "stdout",
     "output_type": "stream",
     "text": [
      "Epoch 20, Loss 0.0789\n",
      "Training Accuracy: 0.9251, Testing Accuracy: 0.9365\n",
      "\n"
     ]
    },
    {
     "name": "stdout",
     "output_type": "stream",
     "text": [
      "Epoch 30, Loss 0.0682\n",
      "Training Accuracy: 0.9341, Testing Accuracy: 0.9451\n",
      "\n"
     ]
    },
    {
     "name": "stdout",
     "output_type": "stream",
     "text": [
      "Epoch 40, Loss 0.0617\n",
      "Training Accuracy: 0.9400, Testing Accuracy: 0.9496\n",
      "\n"
     ]
    },
    {
     "name": "stdout",
     "output_type": "stream",
     "text": [
      "Epoch 50, Loss 0.0573\n",
      "Training Accuracy: 0.9435, Testing Accuracy: 0.9536\n",
      "\n"
     ]
    },
    {
     "name": "stdout",
     "output_type": "stream",
     "text": [
      "Epoch 60, Loss 0.054\n",
      "Training Accuracy: 0.9463, Testing Accuracy: 0.9582\n",
      "\n"
     ]
    },
    {
     "name": "stdout",
     "output_type": "stream",
     "text": [
      "Epoch 70, Loss 0.0515\n",
      "Training Accuracy: 0.9479, Testing Accuracy: 0.9587\n",
      "\n"
     ]
    },
    {
     "name": "stdout",
     "output_type": "stream",
     "text": [
      "Epoch 80, Loss 0.0494\n",
      "Training Accuracy: 0.9493, Testing Accuracy: 0.9597\n",
      "\n"
     ]
    },
    {
     "name": "stdout",
     "output_type": "stream",
     "text": [
      "Epoch 90, Loss 0.0477\n",
      "Training Accuracy: 0.9509, Testing Accuracy: 0.9602\n",
      "\n"
     ]
    },
    {
     "name": "stdout",
     "output_type": "stream",
     "text": [
      "Epoch 100, Loss 0.0463\n",
      "Training Accuracy: 0.9521, Testing Accuracy: 0.9617\n",
      "\n"
     ]
    },
    {
     "name": "stdout",
     "output_type": "stream",
     "text": [
      "Epoch 110, Loss 0.0451\n",
      "Training Accuracy: 0.9533, Testing Accuracy: 0.9617\n",
      "\n"
     ]
    },
    {
     "name": "stdout",
     "output_type": "stream",
     "text": [
      "Epoch 120, Loss 0.044\n",
      "Training Accuracy: 0.9541, Testing Accuracy: 0.9627\n",
      "\n"
     ]
    },
    {
     "name": "stdout",
     "output_type": "stream",
     "text": [
      "Epoch 130, Loss 0.0431\n",
      "Training Accuracy: 0.9552, Testing Accuracy: 0.9632\n",
      "\n"
     ]
    },
    {
     "name": "stdout",
     "output_type": "stream",
     "text": [
      "Epoch 140, Loss 0.0422\n",
      "Training Accuracy: 0.9563, Testing Accuracy: 0.9642\n",
      "\n"
     ]
    },
    {
     "name": "stdout",
     "output_type": "stream",
     "text": [
      "Epoch 150, Loss 0.0415\n",
      "Training Accuracy: 0.9570, Testing Accuracy: 0.9637\n",
      "\n"
     ]
    },
    {
     "name": "stdout",
     "output_type": "stream",
     "text": [
      "Epoch 160, Loss 0.0408\n",
      "Training Accuracy: 0.9574, Testing Accuracy: 0.9627\n",
      "\n"
     ]
    },
    {
     "name": "stdout",
     "output_type": "stream",
     "text": [
      "Epoch 170, Loss 0.0402\n",
      "Training Accuracy: 0.9577, Testing Accuracy: 0.9627\n",
      "\n"
     ]
    },
    {
     "name": "stdout",
     "output_type": "stream",
     "text": [
      "Epoch 180, Loss 0.0396\n",
      "Training Accuracy: 0.9582, Testing Accuracy: 0.9632\n",
      "\n"
     ]
    },
    {
     "name": "stdout",
     "output_type": "stream",
     "text": [
      "Epoch 190, Loss 0.0391\n",
      "Training Accuracy: 0.9584, Testing Accuracy: 0.9632\n",
      "\n"
     ]
    },
    {
     "name": "stdout",
     "output_type": "stream",
     "text": [
      "Epoch 200, Loss 0.0386\n",
      "Training Accuracy: 0.9589, Testing Accuracy: 0.9637\n",
      "\n"
     ]
    },
    {
     "name": "stdout",
     "output_type": "stream",
     "text": [
      "Epoch 210, Loss 0.0382\n",
      "Training Accuracy: 0.9590, Testing Accuracy: 0.9642\n",
      "\n"
     ]
    },
    {
     "name": "stdout",
     "output_type": "stream",
     "text": [
      "Epoch 220, Loss 0.0378\n",
      "Training Accuracy: 0.9594, Testing Accuracy: 0.9642\n",
      "\n"
     ]
    },
    {
     "name": "stdout",
     "output_type": "stream",
     "text": [
      "Epoch 230, Loss 0.0374\n",
      "Training Accuracy: 0.9596, Testing Accuracy: 0.9647\n",
      "\n"
     ]
    },
    {
     "name": "stdout",
     "output_type": "stream",
     "text": [
      "Epoch 240, Loss 0.037\n",
      "Training Accuracy: 0.9599, Testing Accuracy: 0.9647\n",
      "\n"
     ]
    },
    {
     "data": {
      "text/plain": [
       "0.053946939315992204"
      ]
     },
     "execution_count": 23,
     "metadata": {},
     "output_type": "execute_result"
    }
   ],
   "source": [
    "lr_learner.train_loop(dl)"
   ]
  },
  {
   "cell_type": "code",
   "execution_count": 24,
   "id": "ca410940",
   "metadata": {
    "execution": {
     "iopub.execute_input": "2022-01-08T10:09:27.412192Z",
     "iopub.status.busy": "2022-01-08T10:09:27.411637Z",
     "iopub.status.idle": "2022-01-08T10:09:27.625957Z",
     "shell.execute_reply": "2022-01-08T10:09:27.625502Z"
    },
    "papermill": {
     "duration": 0.270562,
     "end_time": "2022-01-08T10:09:27.626073",
     "exception": false,
     "start_time": "2022-01-08T10:09:27.355511",
     "status": "completed"
    },
    "tags": []
   },
   "outputs": [
    {
     "data": {
      "text/plain": [
       "<matplotlib.legend.Legend at 0x7f0c437bfa58>"
      ]
     },
     "execution_count": 24,
     "metadata": {},
     "output_type": "execute_result"
    },
    {
     "data": {
      "image/png": "[encoded data removed]",
      "text/plain": [
       "<Figure size 1080x720 with 1 Axes>"
      ]
     },
     "metadata": {
      "needs_background": "light"
     },
     "output_type": "display_data"
    }
   ],
   "source": [
    "#comparing the results of NN and LR\n",
    "plt.figure(figsize=(15,10))\n",
    "\n",
    "# Neural Network plots\n",
    "plt.plot(acc_nn.accuracies, 'r-', label = \"Training Accuracies - NN\")\n",
    "plt.plot(acc_nn.test_accuracies, 'g-', label = \"Testing Accuracies - NN\")\n",
    "\n",
    "# Logistic Regression plots\n",
    "plt.plot(acc_lr.accuracies, 'k-', label = \"Training Accuracies - LR\")\n",
    "plt.plot(acc_lr.test_accuracies, 'b-', label = \"Testing Accuracies - LR\")\n",
    "plt.legend()"
   ]
  },
  {
   "cell_type": "markdown",
   "id": "80dfb35c",
   "metadata": {
    "papermill": {
     "duration": 0.04342,
     "end_time": "2022-01-08T10:09:27.712454",
     "exception": false,
     "start_time": "2022-01-08T10:09:27.669034",
     "status": "completed"
    },
    "tags": []
   },
   "source": [
    "#### Plotting the outputs of this layer of the NN.\n"
   ]
  },
  {
   "cell_type": "code",
   "execution_count": 25,
   "id": "45eb2ff5",
   "metadata": {
    "execution": {
     "iopub.execute_input": "2022-01-08T10:09:27.803088Z",
     "iopub.status.busy": "2022-01-08T10:09:27.802557Z",
     "iopub.status.idle": "2022-01-08T10:09:27.820664Z",
     "shell.execute_reply": "2022-01-08T10:09:27.820211Z"
    },
    "papermill": {
     "duration": 0.065876,
     "end_time": "2022-01-08T10:09:27.820774",
     "exception": false,
     "start_time": "2022-01-08T10:09:27.754898",
     "status": "completed"
    },
    "tags": []
   },
   "outputs": [],
   "source": [
    "new_model = Model(layers[:-2])\n",
    "testing_plot = new_model(testing_data_x)"
   ]
  },
  {
   "cell_type": "code",
   "execution_count": 26,
   "id": "4c0a5485",
   "metadata": {
    "execution": {
     "iopub.execute_input": "2022-01-08T10:09:27.915604Z",
     "iopub.status.busy": "2022-01-08T10:09:27.915066Z",
     "iopub.status.idle": "2022-01-08T10:09:28.120442Z",
     "shell.execute_reply": "2022-01-08T10:09:28.120903Z"
    },
    "papermill": {
     "duration": 0.257313,
     "end_time": "2022-01-08T10:09:28.121049",
     "exception": false,
     "start_time": "2022-01-08T10:09:27.863736",
     "status": "completed"
    },
    "tags": []
   },
   "outputs": [
    {
     "data": {
      "text/plain": [
       "Text(0.5, 1.0, 'Outputs')"
      ]
     },
     "execution_count": 26,
     "metadata": {},
     "output_type": "execute_result"
    },
    {
     "data": {
      "image/png": "[encoded data removed]",
      "text/plain": [
       "<Figure size 576x504 with 1 Axes>"
      ]
     },
     "metadata": {
      "needs_background": "light"
     },
     "output_type": "display_data"
    }
   ],
   "source": [
    "# Plotting the scatter plot of points and color coding by class\n",
    "plt.figure(figsize=(8,7))\n",
    "plt.scatter(testing_plot[:,0], testing_plot[:,1], alpha = 0.1, c = y_test.ravel());\n",
    "plt.title('Outputs')"
   ]
  },
  {
   "cell_type": "markdown",
   "id": "a74fcf8f",
   "metadata": {
    "papermill": {
     "duration": 0.044651,
     "end_time": "2022-01-08T10:09:28.210920",
     "exception": false,
     "start_time": "2022-01-08T10:09:28.166269",
     "status": "completed"
    },
    "tags": []
   },
   "source": [
    "Probability contours"
   ]
  },
  {
   "cell_type": "code",
   "execution_count": 27,
   "id": "d0afc8e3",
   "metadata": {
    "execution": {
     "iopub.execute_input": "2022-01-08T10:09:28.309886Z",
     "iopub.status.busy": "2022-01-08T10:09:28.309335Z",
     "iopub.status.idle": "2022-01-08T10:09:28.318298Z",
     "shell.execute_reply": "2022-01-08T10:09:28.317885Z"
    },
    "papermill": {
     "duration": 0.06227,
     "end_time": "2022-01-08T10:09:28.318409",
     "exception": false,
     "start_time": "2022-01-08T10:09:28.256139",
     "status": "completed"
    },
    "tags": []
   },
   "outputs": [],
   "source": [
    "model_prob = Model(layers[-2:]) "
   ]
  },
  {
   "cell_type": "code",
   "execution_count": 28,
   "id": "9b96e238",
   "metadata": {
    "execution": {
     "iopub.execute_input": "2022-01-08T10:09:28.443994Z",
     "iopub.status.busy": "2022-01-08T10:09:28.443415Z",
     "iopub.status.idle": "2022-01-08T10:09:28.455052Z",
     "shell.execute_reply": "2022-01-08T10:09:28.455442Z"
    },
    "papermill": {
     "duration": 0.092281,
     "end_time": "2022-01-08T10:09:28.455586",
     "exception": false,
     "start_time": "2022-01-08T10:09:28.363305",
     "status": "completed"
    },
    "tags": []
   },
   "outputs": [],
   "source": [
    "#creating the x and y ranges according to the above generated plot.\n",
    "x_range = np.linspace(-4, 1, 100) \n",
    "y_range = np.linspace(-6, 6, 100) \n",
    "x_grid, y_grid = np.meshgrid(x_range, y_range) # x_grid and y_grig are of size 100 X 100\n",
    "\n",
    "# converting x_grid and y_grid to continuous arrays\n",
    "x_gridflat = np.ravel(x_grid)\n",
    "y_gridflat = np.ravel(y_grid)\n",
    "\n",
    "# The last layer of the current model takes two columns as input. Hence transpose of np.vstack() is required.\n",
    "X = np.vstack((x_gridflat, y_gridflat)).T\n",
    "\n",
    "prob_contour = model_prob(X).reshape(100,100) "
   ]
  },
  {
   "cell_type": "code",
   "execution_count": 29,
   "id": "da72499a",
   "metadata": {
    "execution": {
     "iopub.execute_input": "2022-01-08T10:09:28.553334Z",
     "iopub.status.busy": "2022-01-08T10:09:28.552597Z",
     "iopub.status.idle": "2022-01-08T10:09:28.794605Z",
     "shell.execute_reply": "2022-01-08T10:09:28.794145Z"
    },
    "papermill": {
     "duration": 0.293962,
     "end_time": "2022-01-08T10:09:28.794725",
     "exception": false,
     "start_time": "2022-01-08T10:09:28.500763",
     "status": "completed"
    },
    "tags": []
   },
   "outputs": [
    {
     "data": {
      "image/png": "[encoded data removed]",
      "text/plain": [
       "<Figure size 720x648 with 1 Axes>"
      ]
     },
     "metadata": {
      "needs_background": "light"
     },
     "output_type": "display_data"
    }
   ],
   "source": [
    "plt.figure(figsize=(10,9))\n",
    "plt.scatter(testing_plot[:,0], testing_plot[:,1], alpha = 0.1, c = y_test.ravel())\n",
    "contours = plt.contour(x_grid,y_grid,prob_contour)\n",
    "plt.title('Probability Contours')\n",
    "plt.clabel(contours, inline = True );"
   ]
  },
  {
   "cell_type": "code",
   "execution_count": null,
   "id": "e81b4ac7",
   "metadata": {
    "papermill": {
     "duration": 0.047556,
     "end_time": "2022-01-08T10:09:28.890612",
     "exception": false,
     "start_time": "2022-01-08T10:09:28.843056",
     "status": "completed"
    },
    "tags": []
   },
   "outputs": [],
   "source": []
  }
 ],
 "metadata": {
  "kernelspec": {
   "display_name": "Python 3",
   "language": "python",
   "name": "python3"
  },
  "language_info": {
   "codemirror_mode": {
    "name": "ipython",
    "version": 3
   },
   "file_extension": ".py",
   "mimetype": "text/x-python",
   "name": "python",
   "nbconvert_exporter": "python",
   "pygments_lexer": "ipython3",
   "version": "3.6.15"
  },
  "papermill": {
   "default_parameters": {},
   "duration": 94.412543,
   "end_time": "2022-01-08T10:09:29.346757",
   "environment_variables": {},
   "exception": null,
   "input_path": "2020-08-11-part2.ipynb",
   "output_path": "2020-08-11-part2.ipynb",
   "parameters": {},
   "start_time": "2022-01-08T10:07:54.934214",
   "version": "2.3.3"
  }
 },
 "nbformat": 4,
 "nbformat_minor": 5
}