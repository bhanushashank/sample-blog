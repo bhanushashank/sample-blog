{
 "cells": [
  {
   "cell_type": "markdown",
   "id": "98380cd3",
   "metadata": {
    "papermill": {
     "duration": 0.026751,
     "end_time": "2022-08-01T00:47:54.627982",
     "exception": false,
     "start_time": "2022-08-01T00:47:54.601231",
     "status": "completed"
    },
    "tags": []
   },
   "source": [
    "# Distinguish Your Own Digits (DYOD)"
   ]
  },
  {
   "cell_type": "markdown",
   "id": "ef31240d",
   "metadata": {
    "papermill": {
     "duration": 0.021116,
     "end_time": "2022-08-01T00:47:54.670510",
     "exception": false,
     "start_time": "2022-08-01T00:47:54.649394",
     "status": "completed"
    },
    "tags": []
   },
   "source": [
    "You are going to write a classifier that distinguishes between the number 3 and number 8."
   ]
  },
  {
   "cell_type": "code",
   "execution_count": 1,
   "id": "b15c8646",
   "metadata": {
    "execution": {
     "iopub.execute_input": "2022-08-01T00:47:54.733212Z",
     "iopub.status.busy": "2022-08-01T00:47:54.729714Z",
     "iopub.status.idle": "2022-08-01T00:47:54.736137Z",
     "shell.execute_reply": "2022-08-01T00:47:54.735694Z"
    },
    "papermill": {
     "duration": 0.043418,
     "end_time": "2022-08-01T00:47:54.736244",
     "exception": false,
     "start_time": "2022-08-01T00:47:54.692826",
     "status": "completed"
    },
    "tags": []
   },
   "outputs": [],
   "source": [
    "%load_ext autoreload\n",
    "%autoreload 2"
   ]
  },
  {
   "cell_type": "code",
   "execution_count": 2,
   "id": "22ef38dc",
   "metadata": {
    "execution": {
     "iopub.execute_input": "2022-08-01T00:47:54.792466Z",
     "iopub.status.busy": "2022-08-01T00:47:54.785333Z",
     "iopub.status.idle": "2022-08-01T00:47:55.324365Z",
     "shell.execute_reply": "2022-08-01T00:47:55.323881Z"
    },
    "papermill": {
     "duration": 0.567256,
     "end_time": "2022-08-01T00:47:55.324474",
     "exception": false,
     "start_time": "2022-08-01T00:47:54.757218",
     "status": "completed"
    },
    "tags": []
   },
   "outputs": [],
   "source": [
    "%matplotlib inline\n",
    "import numpy as np\n",
    "import matplotlib.pyplot as plt\n",
    "import pandas as pd"
   ]
  },
  {
   "cell_type": "markdown",
   "id": "ba036198",
   "metadata": {
    "papermill": {
     "duration": 0.021183,
     "end_time": "2022-08-01T00:47:55.366681",
     "exception": false,
     "start_time": "2022-08-01T00:47:55.345498",
     "status": "completed"
    },
    "tags": []
   },
   "source": [
    "From the command line run `pip install mnist`. This is a library that will help you bring down the mnist dataset. If you run this from a notebook, you need to put  `!pip install mnist` in a cell by itself."
   ]
  },
  {
   "cell_type": "code",
   "execution_count": 3,
   "id": "bb6ad8a1",
   "metadata": {
    "execution": {
     "iopub.execute_input": "2022-08-01T00:47:55.432711Z",
     "iopub.status.busy": "2022-08-01T00:47:55.427602Z",
     "iopub.status.idle": "2022-08-01T00:47:57.869640Z",
     "shell.execute_reply": "2022-08-01T00:47:57.868525Z"
    },
    "papermill": {
     "duration": 2.482263,
     "end_time": "2022-08-01T00:47:57.869785",
     "exception": false,
     "start_time": "2022-08-01T00:47:55.387522",
     "status": "completed"
    },
    "tags": []
   },
   "outputs": [
    {
     "name": "stdout",
     "output_type": "stream",
     "text": [
      "Collecting mnist\r\n"
     ]
    },
    {
     "name": "stdout",
     "output_type": "stream",
     "text": [
      "  Downloading mnist-0.2.2-py2.py3-none-any.whl (3.5 kB)\r\n",
      "Requirement already satisfied: numpy in /opt/hostedtoolcache/Python/3.6.15/x64/lib/python3.6/site-packages (from mnist) (1.19.5)\r\n"
     ]
    },
    {
     "name": "stdout",
     "output_type": "stream",
     "text": [
      "Installing collected packages: mnist\r\n"
     ]
    },
    {
     "name": "stdout",
     "output_type": "stream",
     "text": [
      "Successfully installed mnist-0.2.2\r\n"
     ]
    }
   ],
   "source": [
    "!pip install mnist"
   ]
  },
  {
   "cell_type": "markdown",
   "id": "69df9c9a",
   "metadata": {
    "papermill": {
     "duration": 0.022248,
     "end_time": "2022-08-01T00:47:57.914505",
     "exception": false,
     "start_time": "2022-08-01T00:47:57.892257",
     "status": "completed"
    },
    "tags": []
   },
   "source": [
    "## Preparing the Data"
   ]
  },
  {
   "cell_type": "code",
   "execution_count": 4,
   "id": "7f69d806",
   "metadata": {
    "execution": {
     "iopub.execute_input": "2022-08-01T00:47:57.962991Z",
     "iopub.status.busy": "2022-08-01T00:47:57.961782Z",
     "iopub.status.idle": "2022-08-01T00:47:57.975207Z",
     "shell.execute_reply": "2022-08-01T00:47:57.974809Z"
    },
    "papermill": {
     "duration": 0.038939,
     "end_time": "2022-08-01T00:47:57.975304",
     "exception": false,
     "start_time": "2022-08-01T00:47:57.936365",
     "status": "completed"
    },
    "tags": []
   },
   "outputs": [],
   "source": [
    "import mnist"
   ]
  },
  {
   "cell_type": "code",
   "execution_count": 5,
   "id": "a411e44f",
   "metadata": {
    "execution": {
     "iopub.execute_input": "2022-08-01T00:47:58.036234Z",
     "iopub.status.busy": "2022-08-01T00:47:58.035387Z",
     "iopub.status.idle": "2022-08-01T00:47:58.627129Z",
     "shell.execute_reply": "2022-08-01T00:47:58.627634Z"
    },
    "papermill": {
     "duration": 0.630685,
     "end_time": "2022-08-01T00:47:58.627776",
     "exception": false,
     "start_time": "2022-08-01T00:47:57.997091",
     "status": "completed"
    },
    "tags": []
   },
   "outputs": [],
   "source": [
    "train_images = mnist.train_images()\n",
    "train_labels = mnist.train_labels()"
   ]
  },
  {
   "cell_type": "code",
   "execution_count": 6,
   "id": "dceab3a5",
   "metadata": {
    "execution": {
     "iopub.execute_input": "2022-08-01T00:47:58.676463Z",
     "iopub.status.busy": "2022-08-01T00:47:58.675608Z",
     "iopub.status.idle": "2022-08-01T00:47:58.689855Z",
     "shell.execute_reply": "2022-08-01T00:47:58.689423Z"
    },
    "papermill": {
     "duration": 0.039355,
     "end_time": "2022-08-01T00:47:58.689953",
     "exception": false,
     "start_time": "2022-08-01T00:47:58.650598",
     "status": "completed"
    },
    "tags": []
   },
   "outputs": [
    {
     "data": {
      "text/plain": [
       "((60000, 28, 28), (60000,))"
      ]
     },
     "execution_count": 6,
     "metadata": {},
     "output_type": "execute_result"
    }
   ],
   "source": [
    "train_images.shape, train_labels.shape"
   ]
  },
  {
   "cell_type": "code",
   "execution_count": 7,
   "id": "f50dc2bb",
   "metadata": {
    "execution": {
     "iopub.execute_input": "2022-08-01T00:47:58.749757Z",
     "iopub.status.busy": "2022-08-01T00:47:58.745652Z",
     "iopub.status.idle": "2022-08-01T00:47:58.961055Z",
     "shell.execute_reply": "2022-08-01T00:47:58.961593Z"
    },
    "papermill": {
     "duration": 0.249604,
     "end_time": "2022-08-01T00:47:58.961754",
     "exception": false,
     "start_time": "2022-08-01T00:47:58.712150",
     "status": "completed"
    },
    "tags": []
   },
   "outputs": [],
   "source": [
    "test_images = mnist.test_images()\n",
    "test_labels = mnist.test_labels()"
   ]
  },
  {
   "cell_type": "code",
   "execution_count": 8,
   "id": "fc38cf1b",
   "metadata": {
    "execution": {
     "iopub.execute_input": "2022-08-01T00:47:59.011296Z",
     "iopub.status.busy": "2022-08-01T00:47:59.010454Z",
     "iopub.status.idle": "2022-08-01T00:47:59.023492Z",
     "shell.execute_reply": "2022-08-01T00:47:59.023089Z"
    },
    "papermill": {
     "duration": 0.038608,
     "end_time": "2022-08-01T00:47:59.023595",
     "exception": false,
     "start_time": "2022-08-01T00:47:58.984987",
     "status": "completed"
    },
    "tags": []
   },
   "outputs": [
    {
     "data": {
      "text/plain": [
       "((10000, 28, 28), (10000,))"
      ]
     },
     "execution_count": 8,
     "metadata": {},
     "output_type": "execute_result"
    }
   ],
   "source": [
    "test_images.shape, test_labels.shape"
   ]
  },
  {
   "cell_type": "code",
   "execution_count": 9,
   "id": "f9ed8fe0",
   "metadata": {
    "execution": {
     "iopub.execute_input": "2022-08-01T00:47:59.087473Z",
     "iopub.status.busy": "2022-08-01T00:47:59.083164Z",
     "iopub.status.idle": "2022-08-01T00:47:59.222069Z",
     "shell.execute_reply": "2022-08-01T00:47:59.222492Z"
    },
    "papermill": {
     "duration": 0.176762,
     "end_time": "2022-08-01T00:47:59.222622",
     "exception": false,
     "start_time": "2022-08-01T00:47:59.045860",
     "status": "completed"
    },
    "tags": []
   },
   "outputs": [
    {
     "name": "stdout",
     "output_type": "stream",
     "text": [
      "2\n"
     ]
    },
    {
     "data": {
      "text/plain": [
       "<matplotlib.image.AxesImage at 0x7f94a5db1438>"
      ]
     },
     "execution_count": 9,
     "metadata": {},
     "output_type": "execute_result"
    },
    {
     "data": {
      "image/png": "[encoded data removed]",
      "text/plain": [
       "<Figure size 432x288 with 1 Axes>"
      ]
     },
     "metadata": {
      "needs_background": "light"
     },
     "output_type": "display_data"
    }
   ],
   "source": [
    "image_index = 7776 # You may select anything up to 60,000\n",
    "print(train_labels[image_index]) \n",
    "plt.imshow(train_images[image_index], cmap='Greys')"
   ]
  },
  {
   "cell_type": "markdown",
   "id": "a8d2388d",
   "metadata": {
    "papermill": {
     "duration": 0.023488,
     "end_time": "2022-08-01T00:47:59.269423",
     "exception": false,
     "start_time": "2022-08-01T00:47:59.245935",
     "status": "completed"
    },
    "tags": []
   },
   "source": [
    "## Filter data to get 3 and 8 out"
   ]
  },
  {
   "cell_type": "code",
   "execution_count": 10,
   "id": "776f7fc7",
   "metadata": {
    "execution": {
     "iopub.execute_input": "2022-08-01T00:47:59.326746Z",
     "iopub.status.busy": "2022-08-01T00:47:59.325892Z",
     "iopub.status.idle": "2022-08-01T00:47:59.339842Z",
     "shell.execute_reply": "2022-08-01T00:47:59.339406Z"
    },
    "papermill": {
     "duration": 0.047223,
     "end_time": "2022-08-01T00:47:59.339941",
     "exception": false,
     "start_time": "2022-08-01T00:47:59.292718",
     "status": "completed"
    },
    "tags": []
   },
   "outputs": [],
   "source": [
    "train_filter = np.where((train_labels == 3 ) | (train_labels == 8))\n",
    "test_filter = np.where((test_labels == 3) | (test_labels == 8))\n",
    "X_train, y_train = train_images[train_filter], train_labels[train_filter]\n",
    "X_test, y_test = test_images[test_filter], test_labels[test_filter]"
   ]
  },
  {
   "cell_type": "markdown",
   "id": "948f0b7e",
   "metadata": {
    "papermill": {
     "duration": 0.02338,
     "end_time": "2022-08-01T00:47:59.387013",
     "exception": false,
     "start_time": "2022-08-01T00:47:59.363633",
     "status": "completed"
    },
    "tags": []
   },
   "source": [
    "We normalize the pizel values in the 0 to 1 range"
   ]
  },
  {
   "cell_type": "code",
   "execution_count": 11,
   "id": "ee4c2166",
   "metadata": {
    "execution": {
     "iopub.execute_input": "2022-08-01T00:47:59.437583Z",
     "iopub.status.busy": "2022-08-01T00:47:59.436718Z",
     "iopub.status.idle": "2022-08-01T00:47:59.481408Z",
     "shell.execute_reply": "2022-08-01T00:47:59.480908Z"
    },
    "papermill": {
     "duration": 0.071369,
     "end_time": "2022-08-01T00:47:59.481518",
     "exception": false,
     "start_time": "2022-08-01T00:47:59.410149",
     "status": "completed"
    },
    "tags": []
   },
   "outputs": [],
   "source": [
    "X_train = X_train/255.\n",
    "X_test = X_test/255."
   ]
  },
  {
   "cell_type": "markdown",
   "id": "ddcf4fab",
   "metadata": {
    "papermill": {
     "duration": 0.023402,
     "end_time": "2022-08-01T00:47:59.528356",
     "exception": false,
     "start_time": "2022-08-01T00:47:59.504954",
     "status": "completed"
    },
    "tags": []
   },
   "source": [
    "And setup the labels as 1 (when the digit is 3) and 0 (when the digit is 8)"
   ]
  },
  {
   "cell_type": "code",
   "execution_count": 12,
   "id": "7dc908f2",
   "metadata": {
    "execution": {
     "iopub.execute_input": "2022-08-01T00:47:59.578882Z",
     "iopub.status.busy": "2022-08-01T00:47:59.578046Z",
     "iopub.status.idle": "2022-08-01T00:47:59.589305Z",
     "shell.execute_reply": "2022-08-01T00:47:59.589809Z"
    },
    "papermill": {
     "duration": 0.038373,
     "end_time": "2022-08-01T00:47:59.589921",
     "exception": false,
     "start_time": "2022-08-01T00:47:59.551548",
     "status": "completed"
    },
    "tags": []
   },
   "outputs": [],
   "source": [
    "y_train = 1*(y_train==3)\n",
    "y_test = 1*(y_test==3)"
   ]
  },
  {
   "cell_type": "code",
   "execution_count": 13,
   "id": "01e4e969",
   "metadata": {
    "execution": {
     "iopub.execute_input": "2022-08-01T00:47:59.651470Z",
     "iopub.status.busy": "2022-08-01T00:47:59.645633Z",
     "iopub.status.idle": "2022-08-01T00:47:59.655182Z",
     "shell.execute_reply": "2022-08-01T00:47:59.654768Z"
    },
    "papermill": {
     "duration": 0.042122,
     "end_time": "2022-08-01T00:47:59.655274",
     "exception": false,
     "start_time": "2022-08-01T00:47:59.613152",
     "status": "completed"
    },
    "tags": []
   },
   "outputs": [
    {
     "data": {
      "text/plain": [
       "((11982, 28, 28), (1984, 28, 28))"
      ]
     },
     "execution_count": 13,
     "metadata": {},
     "output_type": "execute_result"
    }
   ],
   "source": [
    "X_train.shape, X_test.shape"
   ]
  },
  {
   "cell_type": "markdown",
   "id": "5ccf3f85",
   "metadata": {
    "papermill": {
     "duration": 0.023705,
     "end_time": "2022-08-01T00:47:59.702806",
     "exception": false,
     "start_time": "2022-08-01T00:47:59.679101",
     "status": "completed"
    },
    "tags": []
   },
   "source": [
    "We reshape the data to flatten the image pixels into a set of features or co-variates:"
   ]
  },
  {
   "cell_type": "code",
   "execution_count": 14,
   "id": "5286a4a3",
   "metadata": {
    "execution": {
     "iopub.execute_input": "2022-08-01T00:47:59.754413Z",
     "iopub.status.busy": "2022-08-01T00:47:59.753560Z",
     "iopub.status.idle": "2022-08-01T00:47:59.766751Z",
     "shell.execute_reply": "2022-08-01T00:47:59.766325Z"
    },
    "papermill": {
     "duration": 0.040436,
     "end_time": "2022-08-01T00:47:59.766845",
     "exception": false,
     "start_time": "2022-08-01T00:47:59.726409",
     "status": "completed"
    },
    "tags": []
   },
   "outputs": [
    {
     "data": {
      "text/plain": [
       "((11982, 784), (1984, 784))"
      ]
     },
     "execution_count": 14,
     "metadata": {},
     "output_type": "execute_result"
    }
   ],
   "source": [
    "X_train = X_train.reshape(X_train.shape[0], -1)\n",
    "X_test = X_test.reshape(X_test.shape[0], -1)\n",
    "X_train.shape, X_test.shape"
   ]
  },
  {
   "cell_type": "code",
   "execution_count": 15,
   "id": "73c5f88a",
   "metadata": {
    "execution": {
     "iopub.execute_input": "2022-08-01T00:47:59.829366Z",
     "iopub.status.busy": "2022-08-01T00:47:59.825358Z",
     "iopub.status.idle": "2022-08-01T00:47:59.838010Z",
     "shell.execute_reply": "2022-08-01T00:47:59.838817Z"
    },
    "papermill": {
     "duration": 0.048197,
     "end_time": "2022-08-01T00:47:59.838935",
     "exception": false,
     "start_time": "2022-08-01T00:47:59.790738",
     "status": "completed"
    },
    "tags": []
   },
   "outputs": [],
   "source": [
    "#Impoting functions from 'Kudzu'\n",
    "from kudzu.model import Model\n",
    "from kudzu.train import Learner\n",
    "from kudzu.optim import GD\n",
    "from kudzu.data import Data, Sampler,Dataloader\n",
    "\n",
    "from kudzu.callbacks import AccCallback\n",
    "from kudzu.callbacks import ClfCallback\n",
    "\n",
    "from kudzu.loss import MSE\n",
    "\n",
    "from kudzu.layer import Sigmoid,Relu\n",
    "from kudzu.layer import Affine"
   ]
  },
  {
   "cell_type": "markdown",
   "id": "bc01172a",
   "metadata": {
    "papermill": {
     "duration": 0.024019,
     "end_time": "2022-08-01T00:47:59.886682",
     "exception": false,
     "start_time": "2022-08-01T00:47:59.862663",
     "status": "completed"
    },
    "tags": []
   },
   "source": [
    "### Let us create a `Config` class, to store important parameters. \n",
    "This class essentially plays the role of a dictionary."
   ]
  },
  {
   "cell_type": "code",
   "execution_count": 16,
   "id": "978281aa",
   "metadata": {
    "execution": {
     "iopub.execute_input": "2022-08-01T00:47:59.941674Z",
     "iopub.status.busy": "2022-08-01T00:47:59.937126Z",
     "iopub.status.idle": "2022-08-01T00:47:59.948896Z",
     "shell.execute_reply": "2022-08-01T00:47:59.948439Z"
    },
    "papermill": {
     "duration": 0.038532,
     "end_time": "2022-08-01T00:47:59.948992",
     "exception": false,
     "start_time": "2022-08-01T00:47:59.910460",
     "status": "completed"
    },
    "tags": []
   },
   "outputs": [],
   "source": [
    "class Config:\n",
    "    pass\n",
    "config = Config()\n",
    "config.lr = 0.001\n",
    "config.num_epochs = 250\n",
    "config.bs = 50"
   ]
  },
  {
   "cell_type": "markdown",
   "id": "1385fa59",
   "metadata": {
    "papermill": {
     "duration": 0.02576,
     "end_time": "2022-08-01T00:47:59.998308",
     "exception": false,
     "start_time": "2022-08-01T00:47:59.972548",
     "status": "completed"
    },
    "tags": []
   },
   "source": [
    "### Running Models with the Training data\n",
    "Details about the network layers:\n",
    "- A first affine layer has 784 inputs and does 100 affine transforms. These are followed by a Relu\n",
    "- A second affine layer has 100 inputs from the 100 activations of the past layer, and does 100 affine transforms. These are followed by a Relu\n",
    "- A third affine layer has 100 activations and does 2 affine transformations to create an embedding for visualization. There is no non-linearity here.\n",
    "- A final \"logistic regression\" which has an affine transform from 2 inputs to 1 output, which is squeezed through a sigmoid.\n"
   ]
  },
  {
   "cell_type": "code",
   "execution_count": 17,
   "id": "2b9c66db",
   "metadata": {
    "execution": {
     "iopub.execute_input": "2022-08-01T00:48:00.053721Z",
     "iopub.status.busy": "2022-08-01T00:48:00.051932Z",
     "iopub.status.idle": "2022-08-01T00:48:00.062809Z",
     "shell.execute_reply": "2022-08-01T00:48:00.062289Z"
    },
    "papermill": {
     "duration": 0.040818,
     "end_time": "2022-08-01T00:48:00.062905",
     "exception": false,
     "start_time": "2022-08-01T00:48:00.022087",
     "status": "completed"
    },
    "tags": []
   },
   "outputs": [],
   "source": [
    "data = Data(X_train, y_train.reshape(-1,1))\n",
    "sampler = Sampler(data, config.bs, shuffle=True)\n",
    "\n",
    "dl = Dataloader(data, sampler)\n",
    "\n",
    "opt = GD(config.lr)\n",
    "loss = MSE()"
   ]
  },
  {
   "cell_type": "code",
   "execution_count": 18,
   "id": "b275e4c2",
   "metadata": {
    "execution": {
     "iopub.execute_input": "2022-08-01T00:48:00.125283Z",
     "iopub.status.busy": "2022-08-01T00:48:00.118461Z",
     "iopub.status.idle": "2022-08-01T00:48:00.128359Z",
     "shell.execute_reply": "2022-08-01T00:48:00.127305Z"
    },
    "papermill": {
     "duration": 0.041854,
     "end_time": "2022-08-01T00:48:00.128454",
     "exception": false,
     "start_time": "2022-08-01T00:48:00.086600",
     "status": "completed"
    },
    "tags": []
   },
   "outputs": [],
   "source": [
    "training_data_x = X_train\n",
    "testing_data_x = X_test\n",
    "training_data_y = y_train.reshape(-1,1)\n",
    "testing_data_y = y_test.reshape(-1,1)"
   ]
  },
  {
   "cell_type": "code",
   "execution_count": 19,
   "id": "76951160",
   "metadata": {
    "execution": {
     "iopub.execute_input": "2022-08-01T00:48:00.183136Z",
     "iopub.status.busy": "2022-08-01T00:48:00.182302Z",
     "iopub.status.idle": "2022-08-01T00:48:00.195991Z",
     "shell.execute_reply": "2022-08-01T00:48:00.195565Z"
    },
    "papermill": {
     "duration": 0.044144,
     "end_time": "2022-08-01T00:48:00.196085",
     "exception": false,
     "start_time": "2022-08-01T00:48:00.151941",
     "status": "completed"
    },
    "tags": []
   },
   "outputs": [
    {
     "name": "stdout",
     "output_type": "stream",
     "text": [
      "xavier\n",
      "xavier\n",
      "xavier\n",
      "xavier\n",
      "xavier\n"
     ]
    }
   ],
   "source": [
    "layers = [Affine(\"first\", 784, 100), Relu(\"first\"), Affine(\"second\", 100, 100), Relu(\"second\"), Affine(\"third\", 100, 2), Affine(\"last\", 2, 1), Sigmoid(\"last\")]\n",
    "model_nn = Model(layers)\n",
    "model_lr = Model([Affine(\"logits\", 784, 1), Sigmoid(\"sigmoid\")])"
   ]
  },
  {
   "cell_type": "code",
   "execution_count": 20,
   "id": "6eede77a",
   "metadata": {
    "execution": {
     "iopub.execute_input": "2022-08-01T00:48:00.249902Z",
     "iopub.status.busy": "2022-08-01T00:48:00.249047Z",
     "iopub.status.idle": "2022-08-01T00:48:00.260614Z",
     "shell.execute_reply": "2022-08-01T00:48:00.260189Z"
    },
    "papermill": {
     "duration": 0.039877,
     "end_time": "2022-08-01T00:48:00.260731",
     "exception": false,
     "start_time": "2022-08-01T00:48:00.220854",
     "status": "completed"
    },
    "tags": []
   },
   "outputs": [],
   "source": [
    "nn_learner = Learner(loss, model_nn, opt, config.num_epochs)\n",
    "acc_nn = ClfCallback(nn_learner, config.bs, training_data_x , testing_data_x, training_data_y, testing_data_y)\n",
    "nn_learner.set_callbacks([acc_nn])"
   ]
  },
  {
   "cell_type": "code",
   "execution_count": 21,
   "id": "877b6cc7",
   "metadata": {
    "execution": {
     "iopub.execute_input": "2022-08-01T00:48:00.312607Z",
     "iopub.status.busy": "2022-08-01T00:48:00.311763Z",
     "iopub.status.idle": "2022-08-01T00:48:00.323442Z",
     "shell.execute_reply": "2022-08-01T00:48:00.323010Z"
    },
    "papermill": {
     "duration": 0.039,
     "end_time": "2022-08-01T00:48:00.323536",
     "exception": false,
     "start_time": "2022-08-01T00:48:00.284536",
     "status": "completed"
    },
    "tags": []
   },
   "outputs": [],
   "source": [
    "lr_learner = Learner(loss, model_lr, opt, config.num_epochs)\n",
    "acc_lr = ClfCallback(lr_learner, config.bs, training_data_x , testing_data_x, training_data_y, testing_data_y)\n",
    "lr_learner.set_callbacks([acc_lr])"
   ]
  },
  {
   "cell_type": "code",
   "execution_count": 22,
   "id": "d9b133c3",
   "metadata": {
    "execution": {
     "iopub.execute_input": "2022-08-01T00:48:00.378588Z",
     "iopub.status.busy": "2022-08-01T00:48:00.377759Z",
     "iopub.status.idle": "2022-08-01T00:50:07.222080Z",
     "shell.execute_reply": "2022-08-01T00:50:07.223673Z"
    },
    "papermill": {
     "duration": 126.876251,
     "end_time": "2022-08-01T00:50:07.223937",
     "exception": false,
     "start_time": "2022-08-01T00:48:00.347686",
     "status": "completed"
    },
    "tags": []
   },
   "outputs": [
    {
     "name": "stdout",
     "output_type": "stream",
     "text": [
      "Epoch 0, Loss 0.2408\n",
      "Training Accuracy: 0.5946, Testing Accuracy: 0.5751\n",
      "\n"
     ]
    },
    {
     "name": "stdout",
     "output_type": "stream",
     "text": [
      "Epoch 10, Loss 0.1276\n",
      "Training Accuracy: 0.8938, Testing Accuracy: 0.9022\n",
      "\n"
     ]
    },
    {
     "name": "stdout",
     "output_type": "stream",
     "text": [
      "Epoch 20, Loss 0.0707\n",
      "Training Accuracy: 0.9254, Testing Accuracy: 0.9405\n",
      "\n"
     ]
    },
    {
     "name": "stdout",
     "output_type": "stream",
     "text": [
      "Epoch 30, Loss 0.0522\n",
      "Training Accuracy: 0.9404, Testing Accuracy: 0.9567\n",
      "\n"
     ]
    },
    {
     "name": "stdout",
     "output_type": "stream",
     "text": [
      "Epoch 40, Loss 0.0436\n",
      "Training Accuracy: 0.9490, Testing Accuracy: 0.9602\n",
      "\n"
     ]
    },
    {
     "name": "stdout",
     "output_type": "stream",
     "text": [
      "Epoch 50, Loss 0.0387\n",
      "Training Accuracy: 0.9550, Testing Accuracy: 0.9637\n",
      "\n"
     ]
    },
    {
     "name": "stdout",
     "output_type": "stream",
     "text": [
      "Epoch 60, Loss 0.0354\n",
      "Training Accuracy: 0.9576, Testing Accuracy: 0.9662\n",
      "\n"
     ]
    },
    {
     "name": "stdout",
     "output_type": "stream",
     "text": [
      "Epoch 70, Loss 0.033\n",
      "Training Accuracy: 0.9609, Testing Accuracy: 0.9662\n",
      "\n"
     ]
    },
    {
     "name": "stdout",
     "output_type": "stream",
     "text": [
      "Epoch 80, Loss 0.0312\n",
      "Training Accuracy: 0.9627, Testing Accuracy: 0.9662\n",
      "\n"
     ]
    },
    {
     "name": "stdout",
     "output_type": "stream",
     "text": [
      "Epoch 90, Loss 0.0298\n",
      "Training Accuracy: 0.9644, Testing Accuracy: 0.9667\n",
      "\n"
     ]
    },
    {
     "name": "stdout",
     "output_type": "stream",
     "text": [
      "Epoch 100, Loss 0.0286\n",
      "Training Accuracy: 0.9659, Testing Accuracy: 0.9672\n",
      "\n"
     ]
    },
    {
     "name": "stdout",
     "output_type": "stream",
     "text": [
      "Epoch 110, Loss 0.0276\n",
      "Training Accuracy: 0.9667, Testing Accuracy: 0.9677\n",
      "\n"
     ]
    },
    {
     "name": "stdout",
     "output_type": "stream",
     "text": [
      "Epoch 120, Loss 0.0267\n",
      "Training Accuracy: 0.9680, Testing Accuracy: 0.9677\n",
      "\n"
     ]
    },
    {
     "name": "stdout",
     "output_type": "stream",
     "text": [
      "Epoch 130, Loss 0.0259\n",
      "Training Accuracy: 0.9689, Testing Accuracy: 0.9693\n",
      "\n"
     ]
    },
    {
     "name": "stdout",
     "output_type": "stream",
     "text": [
      "Epoch 140, Loss 0.0252\n",
      "Training Accuracy: 0.9694, Testing Accuracy: 0.9698\n",
      "\n"
     ]
    },
    {
     "name": "stdout",
     "output_type": "stream",
     "text": [
      "Epoch 150, Loss 0.0246\n",
      "Training Accuracy: 0.9704, Testing Accuracy: 0.9708\n",
      "\n"
     ]
    },
    {
     "name": "stdout",
     "output_type": "stream",
     "text": [
      "Epoch 160, Loss 0.024\n",
      "Training Accuracy: 0.9711, Testing Accuracy: 0.9723\n",
      "\n"
     ]
    },
    {
     "name": "stdout",
     "output_type": "stream",
     "text": [
      "Epoch 170, Loss 0.0235\n",
      "Training Accuracy: 0.9718, Testing Accuracy: 0.9723\n",
      "\n"
     ]
    },
    {
     "name": "stdout",
     "output_type": "stream",
     "text": [
      "Epoch 180, Loss 0.023\n",
      "Training Accuracy: 0.9725, Testing Accuracy: 0.9728\n",
      "\n"
     ]
    },
    {
     "name": "stdout",
     "output_type": "stream",
     "text": [
      "Epoch 190, Loss 0.0225\n",
      "Training Accuracy: 0.9735, Testing Accuracy: 0.9728\n",
      "\n"
     ]
    },
    {
     "name": "stdout",
     "output_type": "stream",
     "text": [
      "Epoch 200, Loss 0.0221\n",
      "Training Accuracy: 0.9738, Testing Accuracy: 0.9738\n",
      "\n"
     ]
    },
    {
     "name": "stdout",
     "output_type": "stream",
     "text": [
      "Epoch 210, Loss 0.0217\n",
      "Training Accuracy: 0.9745, Testing Accuracy: 0.9733\n",
      "\n"
     ]
    },
    {
     "name": "stdout",
     "output_type": "stream",
     "text": [
      "Epoch 220, Loss 0.0213\n",
      "Training Accuracy: 0.9751, Testing Accuracy: 0.9738\n",
      "\n"
     ]
    },
    {
     "name": "stdout",
     "output_type": "stream",
     "text": [
      "Epoch 230, Loss 0.0209\n",
      "Training Accuracy: 0.9754, Testing Accuracy: 0.9748\n",
      "\n"
     ]
    },
    {
     "name": "stdout",
     "output_type": "stream",
     "text": [
      "Epoch 240, Loss 0.0205\n",
      "Training Accuracy: 0.9761, Testing Accuracy: 0.9753\n",
      "\n"
     ]
    },
    {
     "data": {
      "text/plain": [
       "0.027790338157972324"
      ]
     },
     "execution_count": 22,
     "metadata": {},
     "output_type": "execute_result"
    }
   ],
   "source": [
    "nn_learner.train_loop(dl)"
   ]
  },
  {
   "cell_type": "code",
   "execution_count": 23,
   "id": "e0163366",
   "metadata": {
    "execution": {
     "iopub.execute_input": "2022-08-01T00:50:07.350667Z",
     "iopub.status.busy": "2022-08-01T00:50:07.349813Z",
     "iopub.status.idle": "2022-08-01T00:50:36.300202Z",
     "shell.execute_reply": "2022-08-01T00:50:36.301792Z"
    },
    "papermill": {
     "duration": 28.996492,
     "end_time": "2022-08-01T00:50:36.302055",
     "exception": false,
     "start_time": "2022-08-01T00:50:07.305563",
     "status": "completed"
    },
    "tags": []
   },
   "outputs": [
    {
     "name": "stdout",
     "output_type": "stream",
     "text": [
      "Epoch 0, Loss 0.2563\n",
      "Training Accuracy: 0.6173, Testing Accuracy: 0.6366\n",
      "\n"
     ]
    },
    {
     "name": "stdout",
     "output_type": "stream",
     "text": [
      "Epoch 10, Loss 0.1038\n",
      "Training Accuracy: 0.9115, Testing Accuracy: 0.9199\n",
      "\n"
     ]
    },
    {
     "name": "stdout",
     "output_type": "stream",
     "text": [
      "Epoch 20, Loss 0.0792\n",
      "Training Accuracy: 0.9299, Testing Accuracy: 0.9385\n",
      "\n"
     ]
    },
    {
     "name": "stdout",
     "output_type": "stream",
     "text": [
      "Epoch 30, Loss 0.0682\n",
      "Training Accuracy: 0.9371, Testing Accuracy: 0.9466\n",
      "\n"
     ]
    },
    {
     "name": "stdout",
     "output_type": "stream",
     "text": [
      "Epoch 40, Loss 0.0616\n",
      "Training Accuracy: 0.9410, Testing Accuracy: 0.9526\n",
      "\n"
     ]
    },
    {
     "name": "stdout",
     "output_type": "stream",
     "text": [
      "Epoch 50, Loss 0.0571\n",
      "Training Accuracy: 0.9447, Testing Accuracy: 0.9546\n",
      "\n"
     ]
    },
    {
     "name": "stdout",
     "output_type": "stream",
     "text": [
      "Epoch 60, Loss 0.0539\n",
      "Training Accuracy: 0.9474, Testing Accuracy: 0.9582\n",
      "\n"
     ]
    },
    {
     "name": "stdout",
     "output_type": "stream",
     "text": [
      "Epoch 70, Loss 0.0513\n",
      "Training Accuracy: 0.9492, Testing Accuracy: 0.9607\n",
      "\n"
     ]
    },
    {
     "name": "stdout",
     "output_type": "stream",
     "text": [
      "Epoch 80, Loss 0.0493\n",
      "Training Accuracy: 0.9503, Testing Accuracy: 0.9612\n",
      "\n"
     ]
    },
    {
     "name": "stdout",
     "output_type": "stream",
     "text": [
      "Epoch 90, Loss 0.0476\n",
      "Training Accuracy: 0.9508, Testing Accuracy: 0.9617\n",
      "\n"
     ]
    },
    {
     "name": "stdout",
     "output_type": "stream",
     "text": [
      "Epoch 100, Loss 0.0462\n",
      "Training Accuracy: 0.9517, Testing Accuracy: 0.9627\n",
      "\n"
     ]
    },
    {
     "name": "stdout",
     "output_type": "stream",
     "text": [
      "Epoch 110, Loss 0.045\n",
      "Training Accuracy: 0.9530, Testing Accuracy: 0.9632\n",
      "\n"
     ]
    },
    {
     "name": "stdout",
     "output_type": "stream",
     "text": [
      "Epoch 120, Loss 0.044\n",
      "Training Accuracy: 0.9538, Testing Accuracy: 0.9637\n",
      "\n"
     ]
    },
    {
     "name": "stdout",
     "output_type": "stream",
     "text": [
      "Epoch 130, Loss 0.043\n",
      "Training Accuracy: 0.9543, Testing Accuracy: 0.9647\n",
      "\n"
     ]
    },
    {
     "name": "stdout",
     "output_type": "stream",
     "text": [
      "Epoch 140, Loss 0.0422\n",
      "Training Accuracy: 0.9548, Testing Accuracy: 0.9652\n",
      "\n"
     ]
    },
    {
     "name": "stdout",
     "output_type": "stream",
     "text": [
      "Epoch 150, Loss 0.0415\n",
      "Training Accuracy: 0.9553, Testing Accuracy: 0.9647\n",
      "\n"
     ]
    },
    {
     "name": "stdout",
     "output_type": "stream",
     "text": [
      "Epoch 160, Loss 0.0408\n",
      "Training Accuracy: 0.9562, Testing Accuracy: 0.9652\n",
      "\n"
     ]
    },
    {
     "name": "stdout",
     "output_type": "stream",
     "text": [
      "Epoch 170, Loss 0.0402\n",
      "Training Accuracy: 0.9567, Testing Accuracy: 0.9652\n",
      "\n"
     ]
    },
    {
     "name": "stdout",
     "output_type": "stream",
     "text": [
      "Epoch 180, Loss 0.0396\n",
      "Training Accuracy: 0.9569, Testing Accuracy: 0.9657\n",
      "\n"
     ]
    },
    {
     "name": "stdout",
     "output_type": "stream",
     "text": [
      "Epoch 190, Loss 0.0391\n",
      "Training Accuracy: 0.9576, Testing Accuracy: 0.9657\n",
      "\n"
     ]
    },
    {
     "name": "stdout",
     "output_type": "stream",
     "text": [
      "Epoch 200, Loss 0.0386\n",
      "Training Accuracy: 0.9580, Testing Accuracy: 0.9657\n",
      "\n"
     ]
    },
    {
     "name": "stdout",
     "output_type": "stream",
     "text": [
      "Epoch 210, Loss 0.0382\n",
      "Training Accuracy: 0.9584, Testing Accuracy: 0.9662\n",
      "\n"
     ]
    },
    {
     "name": "stdout",
     "output_type": "stream",
     "text": [
      "Epoch 220, Loss 0.0378\n",
      "Training Accuracy: 0.9588, Testing Accuracy: 0.9667\n",
      "\n"
     ]
    },
    {
     "name": "stdout",
     "output_type": "stream",
     "text": [
      "Epoch 230, Loss 0.0374\n",
      "Training Accuracy: 0.9594, Testing Accuracy: 0.9662\n",
      "\n"
     ]
    },
    {
     "name": "stdout",
     "output_type": "stream",
     "text": [
      "Epoch 240, Loss 0.037\n",
      "Training Accuracy: 0.9598, Testing Accuracy: 0.9667\n",
      "\n"
     ]
    },
    {
     "data": {
      "text/plain": [
       "0.017771751727158704"
      ]
     },
     "execution_count": 23,
     "metadata": {},
     "output_type": "execute_result"
    }
   ],
   "source": [
    "lr_learner.train_loop(dl)"
   ]
  },
  {
   "cell_type": "code",
   "execution_count": 24,
   "id": "ca410940",
   "metadata": {
    "execution": {
     "iopub.execute_input": "2022-08-01T00:50:36.460956Z",
     "iopub.status.busy": "2022-08-01T00:50:36.445141Z",
     "iopub.status.idle": "2022-08-01T00:50:36.654355Z",
     "shell.execute_reply": "2022-08-01T00:50:36.653800Z"
    },
    "papermill": {
     "duration": 0.261661,
     "end_time": "2022-08-01T00:50:36.654465",
     "exception": false,
     "start_time": "2022-08-01T00:50:36.392804",
     "status": "completed"
    },
    "tags": []
   },
   "outputs": [
    {
     "data": {
      "text/plain": [
       "<matplotlib.legend.Legend at 0x7f94a5911b00>"
      ]
     },
     "execution_count": 24,
     "metadata": {},
     "output_type": "execute_result"
    },
    {
     "data": {
      "image/png": "[encoded data removed]",
      "text/plain": [
       "<Figure size 1080x720 with 1 Axes>"
      ]
     },
     "metadata": {
      "needs_background": "light"
     },
     "output_type": "display_data"
    }
   ],
   "source": [
    "#comparing the results of NN and LR\n",
    "plt.figure(figsize=(15,10))\n",
    "\n",
    "# Neural Network plots\n",
    "plt.plot(acc_nn.accuracies, 'r-', label = \"Training Accuracies - NN\")\n",
    "plt.plot(acc_nn.test_accuracies, 'g-', label = \"Testing Accuracies - NN\")\n",
    "\n",
    "# Logistic Regression plots\n",
    "plt.plot(acc_lr.accuracies, 'k-', label = \"Training Accuracies - LR\")\n",
    "plt.plot(acc_lr.test_accuracies, 'b-', label = \"Testing Accuracies - LR\")\n",
    "plt.legend()"
   ]
  },
  {
   "cell_type": "markdown",
   "id": "80dfb35c",
   "metadata": {
    "papermill": {
     "duration": 0.037246,
     "end_time": "2022-08-01T00:50:36.728925",
     "exception": false,
     "start_time": "2022-08-01T00:50:36.691679",
     "status": "completed"
    },
    "tags": []
   },
   "source": [
    "#### Plotting the outputs of this layer of the NN.\n"
   ]
  },
  {
   "cell_type": "code",
   "execution_count": 25,
   "id": "45eb2ff5",
   "metadata": {
    "execution": {
     "iopub.execute_input": "2022-08-01T00:50:36.807147Z",
     "iopub.status.busy": "2022-08-01T00:50:36.806287Z",
     "iopub.status.idle": "2022-08-01T00:50:36.829776Z",
     "shell.execute_reply": "2022-08-01T00:50:36.830453Z"
    },
    "papermill": {
     "duration": 0.064308,
     "end_time": "2022-08-01T00:50:36.830567",
     "exception": false,
     "start_time": "2022-08-01T00:50:36.766259",
     "status": "completed"
    },
    "tags": []
   },
   "outputs": [],
   "source": [
    "new_model = Model(layers[:-2])\n",
    "testing_plot = new_model(testing_data_x)"
   ]
  },
  {
   "cell_type": "code",
   "execution_count": 26,
   "id": "4c0a5485",
   "metadata": {
    "execution": {
     "iopub.execute_input": "2022-08-01T00:50:36.973950Z",
     "iopub.status.busy": "2022-08-01T00:50:36.973416Z",
     "iopub.status.idle": "2022-08-01T00:50:37.144109Z",
     "shell.execute_reply": "2022-08-01T00:50:37.143437Z"
    },
    "papermill": {
     "duration": 0.2223,
     "end_time": "2022-08-01T00:50:37.144221",
     "exception": false,
     "start_time": "2022-08-01T00:50:36.921921",
     "status": "completed"
    },
    "tags": []
   },
   "outputs": [
    {
     "data": {
      "text/plain": [
       "Text(0.5, 1.0, 'Outputs')"
      ]
     },
     "execution_count": 26,
     "metadata": {},
     "output_type": "execute_result"
    },
    {
     "data": {
      "image/png": "[encoded data removed]",
      "text/plain": [
       "<Figure size 576x504 with 1 Axes>"
      ]
     },
     "metadata": {
      "needs_background": "light"
     },
     "output_type": "display_data"
    }
   ],
   "source": [
    "# Plotting the scatter plot of points and color coding by class\n",
    "plt.figure(figsize=(8,7))\n",
    "plt.scatter(testing_plot[:,0], testing_plot[:,1], alpha = 0.1, c = y_test.ravel());\n",
    "plt.title('Outputs')"
   ]
  },
  {
   "cell_type": "markdown",
   "id": "a74fcf8f",
   "metadata": {
    "papermill": {
     "duration": 0.06076,
     "end_time": "2022-08-01T00:50:37.243884",
     "exception": false,
     "start_time": "2022-08-01T00:50:37.183124",
     "status": "completed"
    },
    "tags": []
   },
   "source": [
    "Probability contours"
   ]
  },
  {
   "cell_type": "code",
   "execution_count": 27,
   "id": "d0afc8e3",
   "metadata": {
    "execution": {
     "iopub.execute_input": "2022-08-01T00:50:37.338168Z",
     "iopub.status.busy": "2022-08-01T00:50:37.327244Z",
     "iopub.status.idle": "2022-08-01T00:50:37.341628Z",
     "shell.execute_reply": "2022-08-01T00:50:37.341197Z"
    },
    "papermill": {
     "duration": 0.058727,
     "end_time": "2022-08-01T00:50:37.341722",
     "exception": false,
     "start_time": "2022-08-01T00:50:37.282995",
     "status": "completed"
    },
    "tags": []
   },
   "outputs": [],
   "source": [
    "model_prob = Model(layers[-2:]) "
   ]
  },
  {
   "cell_type": "code",
   "execution_count": 28,
   "id": "9b96e238",
   "metadata": {
    "execution": {
     "iopub.execute_input": "2022-08-01T00:50:37.439443Z",
     "iopub.status.busy": "2022-08-01T00:50:37.437358Z",
     "iopub.status.idle": "2022-08-01T00:50:37.447117Z",
     "shell.execute_reply": "2022-08-01T00:50:37.445597Z"
    },
    "papermill": {
     "duration": 0.067079,
     "end_time": "2022-08-01T00:50:37.447310",
     "exception": false,
     "start_time": "2022-08-01T00:50:37.380231",
     "status": "completed"
    },
    "tags": []
   },
   "outputs": [],
   "source": [
    "#creating the x and y ranges according to the above generated plot.\n",
    "x_range = np.linspace(-4, 1, 100) \n",
    "y_range = np.linspace(-6, 6, 100) \n",
    "x_grid, y_grid = np.meshgrid(x_range, y_range) # x_grid and y_grig are of size 100 X 100\n",
    "\n",
    "# converting x_grid and y_grid to continuous arrays\n",
    "x_gridflat = np.ravel(x_grid)\n",
    "y_gridflat = np.ravel(y_grid)\n",
    "\n",
    "# The last layer of the current model takes two columns as input. Hence transpose of np.vstack() is required.\n",
    "X = np.vstack((x_gridflat, y_gridflat)).T\n",
    "\n",
    "prob_contour = model_prob(X).reshape(100,100) "
   ]
  },
  {
   "cell_type": "code",
   "execution_count": 29,
   "id": "da72499a",
   "metadata": {
    "execution": {
     "iopub.execute_input": "2022-08-01T00:50:37.612973Z",
     "iopub.status.busy": "2022-08-01T00:50:37.598853Z",
     "iopub.status.idle": "2022-08-01T00:50:37.870733Z",
     "shell.execute_reply": "2022-08-01T00:50:37.871155Z"
    },
    "papermill": {
     "duration": 0.327552,
     "end_time": "2022-08-01T00:50:37.871282",
     "exception": false,
     "start_time": "2022-08-01T00:50:37.543730",
     "status": "completed"
    },
    "tags": []
   },
   "outputs": [
    {
     "data": {
      "image/png": "[encoded data removed]",
      "text/plain": [
       "<Figure size 720x648 with 1 Axes>"
      ]
     },
     "metadata": {
      "needs_background": "light"
     },
     "output_type": "display_data"
    }
   ],
   "source": [
    "plt.figure(figsize=(10,9))\n",
    "plt.scatter(testing_plot[:,0], testing_plot[:,1], alpha = 0.1, c = y_test.ravel())\n",
    "contours = plt.contour(x_grid,y_grid,prob_contour)\n",
    "plt.title('Probability Contours')\n",
    "plt.clabel(contours, inline = True );"
   ]
  },
  {
   "cell_type": "code",
   "execution_count": null,
   "id": "e81b4ac7",
   "metadata": {
    "papermill": {
     "duration": 0.041102,
     "end_time": "2022-08-01T00:50:37.954241",
     "exception": false,
     "start_time": "2022-08-01T00:50:37.913139",
     "status": "completed"
    },
    "tags": []
   },
   "outputs": [],
   "source": []
  }
 ],
 "metadata": {
  "kernelspec": {
   "display_name": "Python 3",
   "language": "python",
   "name": "python3"
  },
  "language_info": {
   "codemirror_mode": {
    "name": "ipython",
    "version": 3
   },
   "file_extension": ".py",
   "mimetype": "text/x-python",
   "name": "python",
   "nbconvert_exporter": "python",
   "pygments_lexer": "ipython3",
   "version": "3.6.15"
  },
  "papermill": {
   "default_parameters": {},
   "duration": 164.793526,
   "end_time": "2022-08-01T00:50:38.312219",
   "environment_variables": {},
   "exception": null,
   "input_path": "2020-08-11-part2.ipynb",
   "output_path": "2020-08-11-part2.ipynb",
   "parameters": {},
   "start_time": "2022-08-01T00:47:53.518693",
   "version": "2.3.3"
  }
 },
 "nbformat": 4,
 "nbformat_minor": 5
}