{
 "cells": [
  {
   "cell_type": "markdown",
   "id": "98380cd3",
   "metadata": {
    "papermill": {
     "duration": 0.02669,
     "end_time": "2022-02-01T20:08:11.256958",
     "exception": false,
     "start_time": "2022-02-01T20:08:11.230268",
     "status": "completed"
    },
    "tags": []
   },
   "source": [
    "# Distinguish Your Own Digits (DYOD)"
   ]
  },
  {
   "cell_type": "markdown",
   "id": "ef31240d",
   "metadata": {
    "papermill": {
     "duration": 0.022583,
     "end_time": "2022-02-01T20:08:11.302218",
     "exception": false,
     "start_time": "2022-02-01T20:08:11.279635",
     "status": "completed"
    },
    "tags": []
   },
   "source": [
    "You are going to write a classifier that distinguishes between the number 3 and number 8."
   ]
  },
  {
   "cell_type": "code",
   "execution_count": 1,
   "id": "b15c8646",
   "metadata": {
    "execution": {
     "iopub.execute_input": "2022-02-01T20:08:11.365974Z",
     "iopub.status.busy": "2022-02-01T20:08:11.365404Z",
     "iopub.status.idle": "2022-02-01T20:08:11.376497Z",
     "shell.execute_reply": "2022-02-01T20:08:11.375936Z"
    },
    "papermill": {
     "duration": 0.04911,
     "end_time": "2022-02-01T20:08:11.376624",
     "exception": false,
     "start_time": "2022-02-01T20:08:11.327514",
     "status": "completed"
    },
    "tags": []
   },
   "outputs": [],
   "source": [
    "%load_ext autoreload\n",
    "%autoreload 2"
   ]
  },
  {
   "cell_type": "code",
   "execution_count": 2,
   "id": "22ef38dc",
   "metadata": {
    "execution": {
     "iopub.execute_input": "2022-02-01T20:08:11.433061Z",
     "iopub.status.busy": "2022-02-01T20:08:11.432564Z",
     "iopub.status.idle": "2022-02-01T20:08:12.025491Z",
     "shell.execute_reply": "2022-02-01T20:08:12.024582Z"
    },
    "papermill": {
     "duration": 0.622321,
     "end_time": "2022-02-01T20:08:12.025638",
     "exception": false,
     "start_time": "2022-02-01T20:08:11.403317",
     "status": "completed"
    },
    "tags": []
   },
   "outputs": [],
   "source": [
    "%matplotlib inline\n",
    "import numpy as np\n",
    "import matplotlib.pyplot as plt\n",
    "import pandas as pd"
   ]
  },
  {
   "cell_type": "markdown",
   "id": "ba036198",
   "metadata": {
    "papermill": {
     "duration": 0.026253,
     "end_time": "2022-02-01T20:08:12.076214",
     "exception": false,
     "start_time": "2022-02-01T20:08:12.049961",
     "status": "completed"
    },
    "tags": []
   },
   "source": [
    "From the command line run `pip install mnist`. This is a library that will help you bring down the mnist dataset. If you run this from a notebook, you need to put  `!pip install mnist` in a cell by itself."
   ]
  },
  {
   "cell_type": "code",
   "execution_count": 3,
   "id": "bb6ad8a1",
   "metadata": {
    "execution": {
     "iopub.execute_input": "2022-02-01T20:08:12.132631Z",
     "iopub.status.busy": "2022-02-01T20:08:12.130559Z",
     "iopub.status.idle": "2022-02-01T20:08:13.769693Z",
     "shell.execute_reply": "2022-02-01T20:08:13.769160Z"
    },
    "papermill": {
     "duration": 1.669102,
     "end_time": "2022-02-01T20:08:13.769820",
     "exception": false,
     "start_time": "2022-02-01T20:08:12.100718",
     "status": "completed"
    },
    "tags": []
   },
   "outputs": [
    {
     "name": "stdout",
     "output_type": "stream",
     "text": [
      "Collecting mnist\r\n",
      "  Downloading mnist-0.2.2-py2.py3-none-any.whl (3.5 kB)\r\n"
     ]
    },
    {
     "name": "stdout",
     "output_type": "stream",
     "text": [
      "Requirement already satisfied: numpy in /opt/hostedtoolcache/Python/3.6.15/x64/lib/python3.6/site-packages (from mnist) (1.19.5)\r\n"
     ]
    },
    {
     "name": "stdout",
     "output_type": "stream",
     "text": [
      "Installing collected packages: mnist\r\n",
      "Successfully installed mnist-0.2.2\r\n"
     ]
    }
   ],
   "source": [
    "!pip install mnist"
   ]
  },
  {
   "cell_type": "markdown",
   "id": "69df9c9a",
   "metadata": {
    "papermill": {
     "duration": 0.024749,
     "end_time": "2022-02-01T20:08:13.818975",
     "exception": false,
     "start_time": "2022-02-01T20:08:13.794226",
     "status": "completed"
    },
    "tags": []
   },
   "source": [
    "## Preparing the Data"
   ]
  },
  {
   "cell_type": "code",
   "execution_count": 4,
   "id": "7f69d806",
   "metadata": {
    "execution": {
     "iopub.execute_input": "2022-02-01T20:08:13.876291Z",
     "iopub.status.busy": "2022-02-01T20:08:13.875686Z",
     "iopub.status.idle": "2022-02-01T20:08:13.887939Z",
     "shell.execute_reply": "2022-02-01T20:08:13.887407Z"
    },
    "papermill": {
     "duration": 0.043304,
     "end_time": "2022-02-01T20:08:13.888078",
     "exception": false,
     "start_time": "2022-02-01T20:08:13.844774",
     "status": "completed"
    },
    "tags": []
   },
   "outputs": [],
   "source": [
    "import mnist"
   ]
  },
  {
   "cell_type": "code",
   "execution_count": 5,
   "id": "a411e44f",
   "metadata": {
    "execution": {
     "iopub.execute_input": "2022-02-01T20:08:13.940615Z",
     "iopub.status.busy": "2022-02-01T20:08:13.940194Z",
     "iopub.status.idle": "2022-02-01T20:08:14.494063Z",
     "shell.execute_reply": "2022-02-01T20:08:14.493448Z"
    },
    "papermill": {
     "duration": 0.582112,
     "end_time": "2022-02-01T20:08:14.494224",
     "exception": false,
     "start_time": "2022-02-01T20:08:13.912112",
     "status": "completed"
    },
    "tags": []
   },
   "outputs": [],
   "source": [
    "train_images = mnist.train_images()\n",
    "train_labels = mnist.train_labels()"
   ]
  },
  {
   "cell_type": "code",
   "execution_count": 6,
   "id": "dceab3a5",
   "metadata": {
    "execution": {
     "iopub.execute_input": "2022-02-01T20:08:14.546533Z",
     "iopub.status.busy": "2022-02-01T20:08:14.545943Z",
     "iopub.status.idle": "2022-02-01T20:08:14.560614Z",
     "shell.execute_reply": "2022-02-01T20:08:14.560138Z"
    },
    "papermill": {
     "duration": 0.041875,
     "end_time": "2022-02-01T20:08:14.560728",
     "exception": false,
     "start_time": "2022-02-01T20:08:14.518853",
     "status": "completed"
    },
    "tags": []
   },
   "outputs": [
    {
     "data": {
      "text/plain": [
       "((60000, 28, 28), (60000,))"
      ]
     },
     "execution_count": 6,
     "metadata": {},
     "output_type": "execute_result"
    }
   ],
   "source": [
    "train_images.shape, train_labels.shape"
   ]
  },
  {
   "cell_type": "code",
   "execution_count": 7,
   "id": "f50dc2bb",
   "metadata": {
    "execution": {
     "iopub.execute_input": "2022-02-01T20:08:14.616345Z",
     "iopub.status.busy": "2022-02-01T20:08:14.615790Z",
     "iopub.status.idle": "2022-02-01T20:08:14.761384Z",
     "shell.execute_reply": "2022-02-01T20:08:14.760890Z"
    },
    "papermill": {
     "duration": 0.175766,
     "end_time": "2022-02-01T20:08:14.761523",
     "exception": false,
     "start_time": "2022-02-01T20:08:14.585757",
     "status": "completed"
    },
    "tags": []
   },
   "outputs": [],
   "source": [
    "test_images = mnist.test_images()\n",
    "test_labels = mnist.test_labels()"
   ]
  },
  {
   "cell_type": "code",
   "execution_count": 8,
   "id": "fc38cf1b",
   "metadata": {
    "execution": {
     "iopub.execute_input": "2022-02-01T20:08:14.813239Z",
     "iopub.status.busy": "2022-02-01T20:08:14.812817Z",
     "iopub.status.idle": "2022-02-01T20:08:14.827313Z",
     "shell.execute_reply": "2022-02-01T20:08:14.826973Z"
    },
    "papermill": {
     "duration": 0.040449,
     "end_time": "2022-02-01T20:08:14.827404",
     "exception": false,
     "start_time": "2022-02-01T20:08:14.786955",
     "status": "completed"
    },
    "tags": []
   },
   "outputs": [
    {
     "data": {
      "text/plain": [
       "((10000, 28, 28), (10000,))"
      ]
     },
     "execution_count": 8,
     "metadata": {},
     "output_type": "execute_result"
    }
   ],
   "source": [
    "test_images.shape, test_labels.shape"
   ]
  },
  {
   "cell_type": "code",
   "execution_count": 9,
   "id": "f9ed8fe0",
   "metadata": {
    "execution": {
     "iopub.execute_input": "2022-02-01T20:08:14.877909Z",
     "iopub.status.busy": "2022-02-01T20:08:14.877447Z",
     "iopub.status.idle": "2022-02-01T20:08:15.011898Z",
     "shell.execute_reply": "2022-02-01T20:08:15.011354Z"
    },
    "papermill": {
     "duration": 0.161405,
     "end_time": "2022-02-01T20:08:15.012028",
     "exception": false,
     "start_time": "2022-02-01T20:08:14.850623",
     "status": "completed"
    },
    "tags": []
   },
   "outputs": [
    {
     "name": "stdout",
     "output_type": "stream",
     "text": [
      "2\n"
     ]
    },
    {
     "data": {
      "text/plain": [
       "<matplotlib.image.AxesImage at 0x7f6807e5cc18>"
      ]
     },
     "execution_count": 9,
     "metadata": {},
     "output_type": "execute_result"
    },
    {
     "data": {
      "image/png": "[encoded data removed]",
      "text/plain": [
       "<Figure size 432x288 with 1 Axes>"
      ]
     },
     "metadata": {
      "needs_background": "light"
     },
     "output_type": "display_data"
    }
   ],
   "source": [
    "image_index = 7776 # You may select anything up to 60,000\n",
    "print(train_labels[image_index]) \n",
    "plt.imshow(train_images[image_index], cmap='Greys')"
   ]
  },
  {
   "cell_type": "markdown",
   "id": "a8d2388d",
   "metadata": {
    "papermill": {
     "duration": 0.024584,
     "end_time": "2022-02-01T20:08:15.060497",
     "exception": false,
     "start_time": "2022-02-01T20:08:15.035913",
     "status": "completed"
    },
    "tags": []
   },
   "source": [
    "## Filter data to get 3 and 8 out"
   ]
  },
  {
   "cell_type": "code",
   "execution_count": 10,
   "id": "776f7fc7",
   "metadata": {
    "execution": {
     "iopub.execute_input": "2022-02-01T20:08:15.116667Z",
     "iopub.status.busy": "2022-02-01T20:08:15.116169Z",
     "iopub.status.idle": "2022-02-01T20:08:15.133540Z",
     "shell.execute_reply": "2022-02-01T20:08:15.133037Z"
    },
    "papermill": {
     "duration": 0.047517,
     "end_time": "2022-02-01T20:08:15.133658",
     "exception": false,
     "start_time": "2022-02-01T20:08:15.086141",
     "status": "completed"
    },
    "tags": []
   },
   "outputs": [],
   "source": [
    "train_filter = np.where((train_labels == 3 ) | (train_labels == 8))\n",
    "test_filter = np.where((test_labels == 3) | (test_labels == 8))\n",
    "X_train, y_train = train_images[train_filter], train_labels[train_filter]\n",
    "X_test, y_test = test_images[test_filter], test_labels[test_filter]"
   ]
  },
  {
   "cell_type": "markdown",
   "id": "948f0b7e",
   "metadata": {
    "papermill": {
     "duration": 0.025812,
     "end_time": "2022-02-01T20:08:15.183243",
     "exception": false,
     "start_time": "2022-02-01T20:08:15.157431",
     "status": "completed"
    },
    "tags": []
   },
   "source": [
    "We normalize the pizel values in the 0 to 1 range"
   ]
  },
  {
   "cell_type": "code",
   "execution_count": 11,
   "id": "ee4c2166",
   "metadata": {
    "execution": {
     "iopub.execute_input": "2022-02-01T20:08:15.235687Z",
     "iopub.status.busy": "2022-02-01T20:08:15.235181Z",
     "iopub.status.idle": "2022-02-01T20:08:15.285357Z",
     "shell.execute_reply": "2022-02-01T20:08:15.284767Z"
    },
    "papermill": {
     "duration": 0.078384,
     "end_time": "2022-02-01T20:08:15.285515",
     "exception": false,
     "start_time": "2022-02-01T20:08:15.207131",
     "status": "completed"
    },
    "tags": []
   },
   "outputs": [],
   "source": [
    "X_train = X_train/255.\n",
    "X_test = X_test/255."
   ]
  },
  {
   "cell_type": "markdown",
   "id": "ddcf4fab",
   "metadata": {
    "papermill": {
     "duration": 0.025798,
     "end_time": "2022-02-01T20:08:15.339152",
     "exception": false,
     "start_time": "2022-02-01T20:08:15.313354",
     "status": "completed"
    },
    "tags": []
   },
   "source": [
    "And setup the labels as 1 (when the digit is 3) and 0 (when the digit is 8)"
   ]
  },
  {
   "cell_type": "code",
   "execution_count": 12,
   "id": "7dc908f2",
   "metadata": {
    "execution": {
     "iopub.execute_input": "2022-02-01T20:08:15.392175Z",
     "iopub.status.busy": "2022-02-01T20:08:15.391626Z",
     "iopub.status.idle": "2022-02-01T20:08:15.406177Z",
     "shell.execute_reply": "2022-02-01T20:08:15.405676Z"
    },
    "papermill": {
     "duration": 0.04231,
     "end_time": "2022-02-01T20:08:15.406292",
     "exception": false,
     "start_time": "2022-02-01T20:08:15.363982",
     "status": "completed"
    },
    "tags": []
   },
   "outputs": [],
   "source": [
    "y_train = 1*(y_train==3)\n",
    "y_test = 1*(y_test==3)"
   ]
  },
  {
   "cell_type": "code",
   "execution_count": 13,
   "id": "01e4e969",
   "metadata": {
    "execution": {
     "iopub.execute_input": "2022-02-01T20:08:15.472813Z",
     "iopub.status.busy": "2022-02-01T20:08:15.472268Z",
     "iopub.status.idle": "2022-02-01T20:08:15.478425Z",
     "shell.execute_reply": "2022-02-01T20:08:15.478898Z"
    },
    "papermill": {
     "duration": 0.046129,
     "end_time": "2022-02-01T20:08:15.479035",
     "exception": false,
     "start_time": "2022-02-01T20:08:15.432906",
     "status": "completed"
    },
    "tags": []
   },
   "outputs": [
    {
     "data": {
      "text/plain": [
       "((11982, 28, 28), (1984, 28, 28))"
      ]
     },
     "execution_count": 13,
     "metadata": {},
     "output_type": "execute_result"
    }
   ],
   "source": [
    "X_train.shape, X_test.shape"
   ]
  },
  {
   "cell_type": "markdown",
   "id": "5ccf3f85",
   "metadata": {
    "papermill": {
     "duration": 0.025631,
     "end_time": "2022-02-01T20:08:15.531651",
     "exception": false,
     "start_time": "2022-02-01T20:08:15.506020",
     "status": "completed"
    },
    "tags": []
   },
   "source": [
    "We reshape the data to flatten the image pixels into a set of features or co-variates:"
   ]
  },
  {
   "cell_type": "code",
   "execution_count": 14,
   "id": "5286a4a3",
   "metadata": {
    "execution": {
     "iopub.execute_input": "2022-02-01T20:08:15.586422Z",
     "iopub.status.busy": "2022-02-01T20:08:15.584326Z",
     "iopub.status.idle": "2022-02-01T20:08:15.597326Z",
     "shell.execute_reply": "2022-02-01T20:08:15.597642Z"
    },
    "papermill": {
     "duration": 0.041492,
     "end_time": "2022-02-01T20:08:15.597747",
     "exception": false,
     "start_time": "2022-02-01T20:08:15.556255",
     "status": "completed"
    },
    "tags": []
   },
   "outputs": [
    {
     "data": {
      "text/plain": [
       "((11982, 784), (1984, 784))"
      ]
     },
     "execution_count": 14,
     "metadata": {},
     "output_type": "execute_result"
    }
   ],
   "source": [
    "X_train = X_train.reshape(X_train.shape[0], -1)\n",
    "X_test = X_test.reshape(X_test.shape[0], -1)\n",
    "X_train.shape, X_test.shape"
   ]
  },
  {
   "cell_type": "code",
   "execution_count": 15,
   "id": "73c5f88a",
   "metadata": {
    "execution": {
     "iopub.execute_input": "2022-02-01T20:08:15.652808Z",
     "iopub.status.busy": "2022-02-01T20:08:15.652321Z",
     "iopub.status.idle": "2022-02-01T20:08:15.671066Z",
     "shell.execute_reply": "2022-02-01T20:08:15.670681Z"
    },
    "papermill": {
     "duration": 0.047206,
     "end_time": "2022-02-01T20:08:15.671165",
     "exception": false,
     "start_time": "2022-02-01T20:08:15.623959",
     "status": "completed"
    },
    "tags": []
   },
   "outputs": [],
   "source": [
    "#Impoting functions from 'Kudzu'\n",
    "from kudzu.model import Model\n",
    "from kudzu.train import Learner\n",
    "from kudzu.optim import GD\n",
    "from kudzu.data import Data, Sampler,Dataloader\n",
    "\n",
    "from kudzu.callbacks import AccCallback\n",
    "from kudzu.callbacks import ClfCallback\n",
    "\n",
    "from kudzu.loss import MSE\n",
    "\n",
    "from kudzu.layer import Sigmoid,Relu\n",
    "from kudzu.layer import Affine"
   ]
  },
  {
   "cell_type": "markdown",
   "id": "bc01172a",
   "metadata": {
    "papermill": {
     "duration": 0.023362,
     "end_time": "2022-02-01T20:08:15.718463",
     "exception": false,
     "start_time": "2022-02-01T20:08:15.695101",
     "status": "completed"
    },
    "tags": []
   },
   "source": [
    "### Let us create a `Config` class, to store important parameters. \n",
    "This class essentially plays the role of a dictionary."
   ]
  },
  {
   "cell_type": "code",
   "execution_count": 16,
   "id": "978281aa",
   "metadata": {
    "execution": {
     "iopub.execute_input": "2022-02-01T20:08:15.772876Z",
     "iopub.status.busy": "2022-02-01T20:08:15.772331Z",
     "iopub.status.idle": "2022-02-01T20:08:15.783964Z",
     "shell.execute_reply": "2022-02-01T20:08:15.783491Z"
    },
    "papermill": {
     "duration": 0.041066,
     "end_time": "2022-02-01T20:08:15.784073",
     "exception": false,
     "start_time": "2022-02-01T20:08:15.743007",
     "status": "completed"
    },
    "tags": []
   },
   "outputs": [],
   "source": [
    "class Config:\n",
    "    pass\n",
    "config = Config()\n",
    "config.lr = 0.001\n",
    "config.num_epochs = 250\n",
    "config.bs = 50"
   ]
  },
  {
   "cell_type": "markdown",
   "id": "1385fa59",
   "metadata": {
    "papermill": {
     "duration": 0.024822,
     "end_time": "2022-02-01T20:08:15.833844",
     "exception": false,
     "start_time": "2022-02-01T20:08:15.809022",
     "status": "completed"
    },
    "tags": []
   },
   "source": [
    "### Running Models with the Training data\n",
    "Details about the network layers:\n",
    "- A first affine layer has 784 inputs and does 100 affine transforms. These are followed by a Relu\n",
    "- A second affine layer has 100 inputs from the 100 activations of the past layer, and does 100 affine transforms. These are followed by a Relu\n",
    "- A third affine layer has 100 activations and does 2 affine transformations to create an embedding for visualization. There is no non-linearity here.\n",
    "- A final \"logistic regression\" which has an affine transform from 2 inputs to 1 output, which is squeezed through a sigmoid.\n"
   ]
  },
  {
   "cell_type": "code",
   "execution_count": 17,
   "id": "2b9c66db",
   "metadata": {
    "execution": {
     "iopub.execute_input": "2022-02-01T20:08:15.887740Z",
     "iopub.status.busy": "2022-02-01T20:08:15.887129Z",
     "iopub.status.idle": "2022-02-01T20:08:15.898656Z",
     "shell.execute_reply": "2022-02-01T20:08:15.898163Z"
    },
    "papermill": {
     "duration": 0.04041,
     "end_time": "2022-02-01T20:08:15.898761",
     "exception": false,
     "start_time": "2022-02-01T20:08:15.858351",
     "status": "completed"
    },
    "tags": []
   },
   "outputs": [],
   "source": [
    "data = Data(X_train, y_train.reshape(-1,1))\n",
    "sampler = Sampler(data, config.bs, shuffle=True)\n",
    "\n",
    "dl = Dataloader(data, sampler)\n",
    "\n",
    "opt = GD(config.lr)\n",
    "loss = MSE()"
   ]
  },
  {
   "cell_type": "code",
   "execution_count": 18,
   "id": "b275e4c2",
   "metadata": {
    "execution": {
     "iopub.execute_input": "2022-02-01T20:08:15.952922Z",
     "iopub.status.busy": "2022-02-01T20:08:15.952507Z",
     "iopub.status.idle": "2022-02-01T20:08:15.966039Z",
     "shell.execute_reply": "2022-02-01T20:08:15.965705Z"
    },
    "papermill": {
     "duration": 0.043635,
     "end_time": "2022-02-01T20:08:15.966126",
     "exception": false,
     "start_time": "2022-02-01T20:08:15.922491",
     "status": "completed"
    },
    "tags": []
   },
   "outputs": [],
   "source": [
    "training_data_x = X_train\n",
    "testing_data_x = X_test\n",
    "training_data_y = y_train.reshape(-1,1)\n",
    "testing_data_y = y_test.reshape(-1,1)"
   ]
  },
  {
   "cell_type": "code",
   "execution_count": 19,
   "id": "76951160",
   "metadata": {
    "execution": {
     "iopub.execute_input": "2022-02-01T20:08:16.023529Z",
     "iopub.status.busy": "2022-02-01T20:08:16.022943Z",
     "iopub.status.idle": "2022-02-01T20:08:16.041802Z",
     "shell.execute_reply": "2022-02-01T20:08:16.041329Z"
    },
    "papermill": {
     "duration": 0.051131,
     "end_time": "2022-02-01T20:08:16.041918",
     "exception": false,
     "start_time": "2022-02-01T20:08:15.990787",
     "status": "completed"
    },
    "tags": []
   },
   "outputs": [
    {
     "name": "stdout",
     "output_type": "stream",
     "text": [
      "xavier\n",
      "xavier\n",
      "xavier\n",
      "xavier\n",
      "xavier\n"
     ]
    }
   ],
   "source": [
    "layers = [Affine(\"first\", 784, 100), Relu(\"first\"), Affine(\"second\", 100, 100), Relu(\"second\"), Affine(\"third\", 100, 2), Affine(\"last\", 2, 1), Sigmoid(\"last\")]\n",
    "model_nn = Model(layers)\n",
    "model_lr = Model([Affine(\"logits\", 784, 1), Sigmoid(\"sigmoid\")])"
   ]
  },
  {
   "cell_type": "code",
   "execution_count": 20,
   "id": "6eede77a",
   "metadata": {
    "execution": {
     "iopub.execute_input": "2022-02-01T20:08:16.104841Z",
     "iopub.status.busy": "2022-02-01T20:08:16.104314Z",
     "iopub.status.idle": "2022-02-01T20:08:16.117484Z",
     "shell.execute_reply": "2022-02-01T20:08:16.117010Z"
    },
    "papermill": {
     "duration": 0.047366,
     "end_time": "2022-02-01T20:08:16.117608",
     "exception": false,
     "start_time": "2022-02-01T20:08:16.070242",
     "status": "completed"
    },
    "tags": []
   },
   "outputs": [],
   "source": [
    "nn_learner = Learner(loss, model_nn, opt, config.num_epochs)\n",
    "acc_nn = ClfCallback(nn_learner, config.bs, training_data_x , testing_data_x, training_data_y, testing_data_y)\n",
    "nn_learner.set_callbacks([acc_nn])"
   ]
  },
  {
   "cell_type": "code",
   "execution_count": 21,
   "id": "877b6cc7",
   "metadata": {
    "execution": {
     "iopub.execute_input": "2022-02-01T20:08:16.172154Z",
     "iopub.status.busy": "2022-02-01T20:08:16.171677Z",
     "iopub.status.idle": "2022-02-01T20:08:16.184074Z",
     "shell.execute_reply": "2022-02-01T20:08:16.183679Z"
    },
    "papermill": {
     "duration": 0.04005,
     "end_time": "2022-02-01T20:08:16.184187",
     "exception": false,
     "start_time": "2022-02-01T20:08:16.144137",
     "status": "completed"
    },
    "tags": []
   },
   "outputs": [],
   "source": [
    "lr_learner = Learner(loss, model_lr, opt, config.num_epochs)\n",
    "acc_lr = ClfCallback(lr_learner, config.bs, training_data_x , testing_data_x, training_data_y, testing_data_y)\n",
    "lr_learner.set_callbacks([acc_lr])"
   ]
  },
  {
   "cell_type": "code",
   "execution_count": 22,
   "id": "d9b133c3",
   "metadata": {
    "execution": {
     "iopub.execute_input": "2022-02-01T20:08:16.240452Z",
     "iopub.status.busy": "2022-02-01T20:08:16.239967Z",
     "iopub.status.idle": "2022-02-01T20:09:35.491034Z",
     "shell.execute_reply": "2022-02-01T20:09:35.491759Z"
    },
    "papermill": {
     "duration": 79.282492,
     "end_time": "2022-02-01T20:09:35.491898",
     "exception": false,
     "start_time": "2022-02-01T20:08:16.209406",
     "status": "completed"
    },
    "tags": []
   },
   "outputs": [
    {
     "name": "stdout",
     "output_type": "stream",
     "text": [
      "Epoch 0, Loss 0.2495\n",
      "Training Accuracy: 0.6063, Testing Accuracy: 0.5872\n",
      "\n"
     ]
    },
    {
     "name": "stdout",
     "output_type": "stream",
     "text": [
      "Epoch 10, Loss 0.0888\n",
      "Training Accuracy: 0.9253, Testing Accuracy: 0.9340\n",
      "\n"
     ]
    },
    {
     "name": "stdout",
     "output_type": "stream",
     "text": [
      "Epoch 20, Loss 0.0538\n",
      "Training Accuracy: 0.9458, Testing Accuracy: 0.9567\n",
      "\n"
     ]
    },
    {
     "name": "stdout",
     "output_type": "stream",
     "text": [
      "Epoch 30, Loss 0.0425\n",
      "Training Accuracy: 0.9542, Testing Accuracy: 0.9612\n",
      "\n"
     ]
    },
    {
     "name": "stdout",
     "output_type": "stream",
     "text": [
      "Epoch 40, Loss 0.037\n",
      "Training Accuracy: 0.9583, Testing Accuracy: 0.9657\n",
      "\n"
     ]
    },
    {
     "name": "stdout",
     "output_type": "stream",
     "text": [
      "Epoch 50, Loss 0.0337\n",
      "Training Accuracy: 0.9614, Testing Accuracy: 0.9667\n",
      "\n"
     ]
    },
    {
     "name": "stdout",
     "output_type": "stream",
     "text": [
      "Epoch 60, Loss 0.0314\n",
      "Training Accuracy: 0.9634, Testing Accuracy: 0.9682\n",
      "\n"
     ]
    },
    {
     "name": "stdout",
     "output_type": "stream",
     "text": [
      "Epoch 70, Loss 0.0297\n",
      "Training Accuracy: 0.9656, Testing Accuracy: 0.9693\n",
      "\n"
     ]
    },
    {
     "name": "stdout",
     "output_type": "stream",
     "text": [
      "Epoch 80, Loss 0.0283\n",
      "Training Accuracy: 0.9667, Testing Accuracy: 0.9693\n",
      "\n"
     ]
    },
    {
     "name": "stdout",
     "output_type": "stream",
     "text": [
      "Epoch 90, Loss 0.0272\n",
      "Training Accuracy: 0.9679, Testing Accuracy: 0.9698\n",
      "\n"
     ]
    },
    {
     "name": "stdout",
     "output_type": "stream",
     "text": [
      "Epoch 100, Loss 0.0262\n",
      "Training Accuracy: 0.9696, Testing Accuracy: 0.9703\n",
      "\n"
     ]
    },
    {
     "name": "stdout",
     "output_type": "stream",
     "text": [
      "Epoch 110, Loss 0.0253\n",
      "Training Accuracy: 0.9710, Testing Accuracy: 0.9698\n",
      "\n"
     ]
    },
    {
     "name": "stdout",
     "output_type": "stream",
     "text": [
      "Epoch 120, Loss 0.0246\n",
      "Training Accuracy: 0.9720, Testing Accuracy: 0.9703\n",
      "\n"
     ]
    },
    {
     "name": "stdout",
     "output_type": "stream",
     "text": [
      "Epoch 130, Loss 0.0239\n",
      "Training Accuracy: 0.9722, Testing Accuracy: 0.9698\n",
      "\n"
     ]
    },
    {
     "name": "stdout",
     "output_type": "stream",
     "text": [
      "Epoch 140, Loss 0.0232\n",
      "Training Accuracy: 0.9730, Testing Accuracy: 0.9703\n",
      "\n"
     ]
    },
    {
     "name": "stdout",
     "output_type": "stream",
     "text": [
      "Epoch 150, Loss 0.0226\n",
      "Training Accuracy: 0.9735, Testing Accuracy: 0.9703\n",
      "\n"
     ]
    },
    {
     "name": "stdout",
     "output_type": "stream",
     "text": [
      "Epoch 160, Loss 0.0221\n",
      "Training Accuracy: 0.9742, Testing Accuracy: 0.9708\n",
      "\n"
     ]
    },
    {
     "name": "stdout",
     "output_type": "stream",
     "text": [
      "Epoch 170, Loss 0.0216\n",
      "Training Accuracy: 0.9750, Testing Accuracy: 0.9713\n",
      "\n"
     ]
    },
    {
     "name": "stdout",
     "output_type": "stream",
     "text": [
      "Epoch 180, Loss 0.0211\n",
      "Training Accuracy: 0.9760, Testing Accuracy: 0.9713\n",
      "\n"
     ]
    },
    {
     "name": "stdout",
     "output_type": "stream",
     "text": [
      "Epoch 190, Loss 0.0206\n",
      "Training Accuracy: 0.9765, Testing Accuracy: 0.9718\n",
      "\n"
     ]
    },
    {
     "name": "stdout",
     "output_type": "stream",
     "text": [
      "Epoch 200, Loss 0.0201\n",
      "Training Accuracy: 0.9771, Testing Accuracy: 0.9718\n",
      "\n"
     ]
    },
    {
     "name": "stdout",
     "output_type": "stream",
     "text": [
      "Epoch 210, Loss 0.0197\n",
      "Training Accuracy: 0.9775, Testing Accuracy: 0.9723\n",
      "\n"
     ]
    },
    {
     "name": "stdout",
     "output_type": "stream",
     "text": [
      "Epoch 220, Loss 0.0193\n",
      "Training Accuracy: 0.9780, Testing Accuracy: 0.9723\n",
      "\n"
     ]
    },
    {
     "name": "stdout",
     "output_type": "stream",
     "text": [
      "Epoch 230, Loss 0.0189\n",
      "Training Accuracy: 0.9783, Testing Accuracy: 0.9728\n",
      "\n"
     ]
    },
    {
     "name": "stdout",
     "output_type": "stream",
     "text": [
      "Epoch 240, Loss 0.0185\n",
      "Training Accuracy: 0.9789, Testing Accuracy: 0.9728\n",
      "\n"
     ]
    },
    {
     "data": {
      "text/plain": [
       "0.018101229480389416"
      ]
     },
     "execution_count": 22,
     "metadata": {},
     "output_type": "execute_result"
    }
   ],
   "source": [
    "nn_learner.train_loop(dl)"
   ]
  },
  {
   "cell_type": "code",
   "execution_count": 23,
   "id": "e0163366",
   "metadata": {
    "execution": {
     "iopub.execute_input": "2022-02-01T20:09:35.569877Z",
     "iopub.status.busy": "2022-02-01T20:09:35.569319Z",
     "iopub.status.idle": "2022-02-01T20:09:49.196726Z",
     "shell.execute_reply": "2022-02-01T20:09:49.197556Z"
    },
    "papermill": {
     "duration": 13.672296,
     "end_time": "2022-02-01T20:09:49.197730",
     "exception": false,
     "start_time": "2022-02-01T20:09:35.525434",
     "status": "completed"
    },
    "tags": []
   },
   "outputs": [
    {
     "name": "stdout",
     "output_type": "stream",
     "text": [
      "Epoch 0, Loss 0.2778\n",
      "Training Accuracy: 0.5643, Testing Accuracy: 0.5620\n",
      "\n"
     ]
    },
    {
     "name": "stdout",
     "output_type": "stream",
     "text": [
      "Epoch 10, Loss 0.1093\n",
      "Training Accuracy: 0.8985, Testing Accuracy: 0.9037\n",
      "\n"
     ]
    },
    {
     "name": "stdout",
     "output_type": "stream",
     "text": [
      "Epoch 20, Loss 0.0825\n",
      "Training Accuracy: 0.9223, Testing Accuracy: 0.9284\n",
      "\n"
     ]
    },
    {
     "name": "stdout",
     "output_type": "stream",
     "text": [
      "Epoch 30, Loss 0.0705\n",
      "Training Accuracy: 0.9323, Testing Accuracy: 0.9395\n",
      "\n"
     ]
    },
    {
     "name": "stdout",
     "output_type": "stream",
     "text": [
      "Epoch 40, Loss 0.0634\n",
      "Training Accuracy: 0.9375, Testing Accuracy: 0.9481\n",
      "\n"
     ]
    },
    {
     "name": "stdout",
     "output_type": "stream",
     "text": [
      "Epoch 50, Loss 0.0586\n",
      "Training Accuracy: 0.9425, Testing Accuracy: 0.9506\n",
      "\n"
     ]
    },
    {
     "name": "stdout",
     "output_type": "stream",
     "text": [
      "Epoch 60, Loss 0.055\n",
      "Training Accuracy: 0.9457, Testing Accuracy: 0.9511\n",
      "\n"
     ]
    },
    {
     "name": "stdout",
     "output_type": "stream",
     "text": [
      "Epoch 70, Loss 0.0523\n",
      "Training Accuracy: 0.9469, Testing Accuracy: 0.9541\n",
      "\n"
     ]
    },
    {
     "name": "stdout",
     "output_type": "stream",
     "text": [
      "Epoch 80, Loss 0.0501\n",
      "Training Accuracy: 0.9487, Testing Accuracy: 0.9572\n",
      "\n"
     ]
    },
    {
     "name": "stdout",
     "output_type": "stream",
     "text": [
      "Epoch 90, Loss 0.0483\n",
      "Training Accuracy: 0.9495, Testing Accuracy: 0.9587\n",
      "\n"
     ]
    },
    {
     "name": "stdout",
     "output_type": "stream",
     "text": [
      "Epoch 100, Loss 0.0468\n",
      "Training Accuracy: 0.9509, Testing Accuracy: 0.9602\n",
      "\n"
     ]
    },
    {
     "name": "stdout",
     "output_type": "stream",
     "text": [
      "Epoch 110, Loss 0.0456\n",
      "Training Accuracy: 0.9518, Testing Accuracy: 0.9607\n",
      "\n"
     ]
    },
    {
     "name": "stdout",
     "output_type": "stream",
     "text": [
      "Epoch 120, Loss 0.0444\n",
      "Training Accuracy: 0.9529, Testing Accuracy: 0.9617\n",
      "\n"
     ]
    },
    {
     "name": "stdout",
     "output_type": "stream",
     "text": [
      "Epoch 130, Loss 0.0435\n",
      "Training Accuracy: 0.9535, Testing Accuracy: 0.9622\n",
      "\n"
     ]
    },
    {
     "name": "stdout",
     "output_type": "stream",
     "text": [
      "Epoch 140, Loss 0.0426\n",
      "Training Accuracy: 0.9540, Testing Accuracy: 0.9627\n",
      "\n"
     ]
    },
    {
     "name": "stdout",
     "output_type": "stream",
     "text": [
      "Epoch 150, Loss 0.0418\n",
      "Training Accuracy: 0.9548, Testing Accuracy: 0.9632\n",
      "\n"
     ]
    },
    {
     "name": "stdout",
     "output_type": "stream",
     "text": [
      "Epoch 160, Loss 0.0411\n",
      "Training Accuracy: 0.9553, Testing Accuracy: 0.9637\n",
      "\n"
     ]
    },
    {
     "name": "stdout",
     "output_type": "stream",
     "text": [
      "Epoch 170, Loss 0.0405\n",
      "Training Accuracy: 0.9561, Testing Accuracy: 0.9642\n",
      "\n"
     ]
    },
    {
     "name": "stdout",
     "output_type": "stream",
     "text": [
      "Epoch 180, Loss 0.0399\n",
      "Training Accuracy: 0.9567, Testing Accuracy: 0.9647\n",
      "\n"
     ]
    },
    {
     "name": "stdout",
     "output_type": "stream",
     "text": [
      "Epoch 190, Loss 0.0394\n",
      "Training Accuracy: 0.9574, Testing Accuracy: 0.9647\n",
      "\n"
     ]
    },
    {
     "name": "stdout",
     "output_type": "stream",
     "text": [
      "Epoch 200, Loss 0.0389\n",
      "Training Accuracy: 0.9584, Testing Accuracy: 0.9647\n",
      "\n"
     ]
    },
    {
     "name": "stdout",
     "output_type": "stream",
     "text": [
      "Epoch 210, Loss 0.0384\n",
      "Training Accuracy: 0.9589, Testing Accuracy: 0.9652\n",
      "\n"
     ]
    },
    {
     "name": "stdout",
     "output_type": "stream",
     "text": [
      "Epoch 220, Loss 0.038\n",
      "Training Accuracy: 0.9593, Testing Accuracy: 0.9652\n",
      "\n"
     ]
    },
    {
     "name": "stdout",
     "output_type": "stream",
     "text": [
      "Epoch 230, Loss 0.0376\n",
      "Training Accuracy: 0.9596, Testing Accuracy: 0.9652\n",
      "\n"
     ]
    },
    {
     "name": "stdout",
     "output_type": "stream",
     "text": [
      "Epoch 240, Loss 0.0372\n",
      "Training Accuracy: 0.9600, Testing Accuracy: 0.9657\n",
      "\n"
     ]
    },
    {
     "data": {
      "text/plain": [
       "0.01746128567826443"
      ]
     },
     "execution_count": 23,
     "metadata": {},
     "output_type": "execute_result"
    }
   ],
   "source": [
    "lr_learner.train_loop(dl)"
   ]
  },
  {
   "cell_type": "code",
   "execution_count": 24,
   "id": "ca410940",
   "metadata": {
    "execution": {
     "iopub.execute_input": "2022-02-01T20:09:49.292837Z",
     "iopub.status.busy": "2022-02-01T20:09:49.292339Z",
     "iopub.status.idle": "2022-02-01T20:09:49.497494Z",
     "shell.execute_reply": "2022-02-01T20:09:49.498148Z"
    },
    "papermill": {
     "duration": 0.256867,
     "end_time": "2022-02-01T20:09:49.498288",
     "exception": false,
     "start_time": "2022-02-01T20:09:49.241421",
     "status": "completed"
    },
    "tags": []
   },
   "outputs": [
    {
     "data": {
      "text/plain": [
       "<matplotlib.legend.Legend at 0x7f68079cc3c8>"
      ]
     },
     "execution_count": 24,
     "metadata": {},
     "output_type": "execute_result"
    },
    {
     "data": {
      "image/png": "[encoded data removed]",
      "text/plain": [
       "<Figure size 1080x720 with 1 Axes>"
      ]
     },
     "metadata": {
      "needs_background": "light"
     },
     "output_type": "display_data"
    }
   ],
   "source": [
    "#comparing the results of NN and LR\n",
    "plt.figure(figsize=(15,10))\n",
    "\n",
    "# Neural Network plots\n",
    "plt.plot(acc_nn.accuracies, 'r-', label = \"Training Accuracies - NN\")\n",
    "plt.plot(acc_nn.test_accuracies, 'g-', label = \"Testing Accuracies - NN\")\n",
    "\n",
    "# Logistic Regression plots\n",
    "plt.plot(acc_lr.accuracies, 'k-', label = \"Training Accuracies - LR\")\n",
    "plt.plot(acc_lr.test_accuracies, 'b-', label = \"Testing Accuracies - LR\")\n",
    "plt.legend()"
   ]
  },
  {
   "cell_type": "markdown",
   "id": "80dfb35c",
   "metadata": {
    "papermill": {
     "duration": 0.039552,
     "end_time": "2022-02-01T20:09:49.578141",
     "exception": false,
     "start_time": "2022-02-01T20:09:49.538589",
     "status": "completed"
    },
    "tags": []
   },
   "source": [
    "#### Plotting the outputs of this layer of the NN.\n"
   ]
  },
  {
   "cell_type": "code",
   "execution_count": 25,
   "id": "45eb2ff5",
   "metadata": {
    "execution": {
     "iopub.execute_input": "2022-02-01T20:09:49.669745Z",
     "iopub.status.busy": "2022-02-01T20:09:49.667786Z",
     "iopub.status.idle": "2022-02-01T20:09:49.687992Z",
     "shell.execute_reply": "2022-02-01T20:09:49.688449Z"
    },
    "papermill": {
     "duration": 0.069054,
     "end_time": "2022-02-01T20:09:49.688602",
     "exception": false,
     "start_time": "2022-02-01T20:09:49.619548",
     "status": "completed"
    },
    "tags": []
   },
   "outputs": [],
   "source": [
    "new_model = Model(layers[:-2])\n",
    "testing_plot = new_model(testing_data_x)"
   ]
  },
  {
   "cell_type": "code",
   "execution_count": 26,
   "id": "4c0a5485",
   "metadata": {
    "execution": {
     "iopub.execute_input": "2022-02-01T20:09:49.783066Z",
     "iopub.status.busy": "2022-02-01T20:09:49.781819Z",
     "iopub.status.idle": "2022-02-01T20:09:49.978647Z",
     "shell.execute_reply": "2022-02-01T20:09:49.979208Z"
    },
    "papermill": {
     "duration": 0.248615,
     "end_time": "2022-02-01T20:09:49.979379",
     "exception": false,
     "start_time": "2022-02-01T20:09:49.730764",
     "status": "completed"
    },
    "tags": []
   },
   "outputs": [
    {
     "data": {
      "text/plain": [
       "Text(0.5, 1.0, 'Outputs')"
      ]
     },
     "execution_count": 26,
     "metadata": {},
     "output_type": "execute_result"
    },
    {
     "data": {
      "image/png": "[encoded data removed]",
      "text/plain": [
       "<Figure size 576x504 with 1 Axes>"
      ]
     },
     "metadata": {
      "needs_background": "light"
     },
     "output_type": "display_data"
    }
   ],
   "source": [
    "# Plotting the scatter plot of points and color coding by class\n",
    "plt.figure(figsize=(8,7))\n",
    "plt.scatter(testing_plot[:,0], testing_plot[:,1], alpha = 0.1, c = y_test.ravel());\n",
    "plt.title('Outputs')"
   ]
  },
  {
   "cell_type": "markdown",
   "id": "a74fcf8f",
   "metadata": {
    "papermill": {
     "duration": 0.041367,
     "end_time": "2022-02-01T20:09:50.062004",
     "exception": false,
     "start_time": "2022-02-01T20:09:50.020637",
     "status": "completed"
    },
    "tags": []
   },
   "source": [
    "Probability contours"
   ]
  },
  {
   "cell_type": "code",
   "execution_count": 27,
   "id": "d0afc8e3",
   "metadata": {
    "execution": {
     "iopub.execute_input": "2022-02-01T20:09:50.149751Z",
     "iopub.status.busy": "2022-02-01T20:09:50.149168Z",
     "iopub.status.idle": "2022-02-01T20:09:50.161818Z",
     "shell.execute_reply": "2022-02-01T20:09:50.161304Z"
    },
    "papermill": {
     "duration": 0.057136,
     "end_time": "2022-02-01T20:09:50.161938",
     "exception": false,
     "start_time": "2022-02-01T20:09:50.104802",
     "status": "completed"
    },
    "tags": []
   },
   "outputs": [],
   "source": [
    "model_prob = Model(layers[-2:]) "
   ]
  },
  {
   "cell_type": "code",
   "execution_count": 28,
   "id": "9b96e238",
   "metadata": {
    "execution": {
     "iopub.execute_input": "2022-02-01T20:09:50.250579Z",
     "iopub.status.busy": "2022-02-01T20:09:50.249986Z",
     "iopub.status.idle": "2022-02-01T20:09:50.262734Z",
     "shell.execute_reply": "2022-02-01T20:09:50.263141Z"
    },
    "papermill": {
     "duration": 0.05959,
     "end_time": "2022-02-01T20:09:50.263264",
     "exception": false,
     "start_time": "2022-02-01T20:09:50.203674",
     "status": "completed"
    },
    "tags": []
   },
   "outputs": [],
   "source": [
    "#creating the x and y ranges according to the above generated plot.\n",
    "x_range = np.linspace(-4, 1, 100) \n",
    "y_range = np.linspace(-6, 6, 100) \n",
    "x_grid, y_grid = np.meshgrid(x_range, y_range) # x_grid and y_grig are of size 100 X 100\n",
    "\n",
    "# converting x_grid and y_grid to continuous arrays\n",
    "x_gridflat = np.ravel(x_grid)\n",
    "y_gridflat = np.ravel(y_grid)\n",
    "\n",
    "# The last layer of the current model takes two columns as input. Hence transpose of np.vstack() is required.\n",
    "X = np.vstack((x_gridflat, y_gridflat)).T\n",
    "\n",
    "prob_contour = model_prob(X).reshape(100,100) "
   ]
  },
  {
   "cell_type": "code",
   "execution_count": 29,
   "id": "da72499a",
   "metadata": {
    "execution": {
     "iopub.execute_input": "2022-02-01T20:09:50.368854Z",
     "iopub.status.busy": "2022-02-01T20:09:50.368376Z",
     "iopub.status.idle": "2022-02-01T20:09:50.610441Z",
     "shell.execute_reply": "2022-02-01T20:09:50.610863Z"
    },
    "papermill": {
     "duration": 0.301326,
     "end_time": "2022-02-01T20:09:50.611015",
     "exception": false,
     "start_time": "2022-02-01T20:09:50.309689",
     "status": "completed"
    },
    "tags": []
   },
   "outputs": [
    {
     "data": {
      "image/png": "[encoded data removed]",
      "text/plain": [
       "<Figure size 720x648 with 1 Axes>"
      ]
     },
     "metadata": {
      "needs_background": "light"
     },
     "output_type": "display_data"
    }
   ],
   "source": [
    "plt.figure(figsize=(10,9))\n",
    "plt.scatter(testing_plot[:,0], testing_plot[:,1], alpha = 0.1, c = y_test.ravel())\n",
    "contours = plt.contour(x_grid,y_grid,prob_contour)\n",
    "plt.title('Probability Contours')\n",
    "plt.clabel(contours, inline = True );"
   ]
  },
  {
   "cell_type": "code",
   "execution_count": null,
   "id": "e81b4ac7",
   "metadata": {
    "papermill": {
     "duration": 0.044015,
     "end_time": "2022-02-01T20:09:50.729113",
     "exception": false,
     "start_time": "2022-02-01T20:09:50.685098",
     "status": "completed"
    },
    "tags": []
   },
   "outputs": [],
   "source": []
  }
 ],
 "metadata": {
  "kernelspec": {
   "display_name": "Python 3",
   "language": "python",
   "name": "python3"
  },
  "language_info": {
   "codemirror_mode": {
    "name": "ipython",
    "version": 3
   },
   "file_extension": ".py",
   "mimetype": "text/x-python",
   "name": "python",
   "nbconvert_exporter": "python",
   "pygments_lexer": "ipython3",
   "version": "3.6.15"
  },
  "papermill": {
   "default_parameters": {},
   "duration": 101.049333,
   "end_time": "2022-02-01T20:09:51.196126",
   "environment_variables": {},
   "exception": null,
   "input_path": "2020-08-11-part2.ipynb",
   "output_path": "2020-08-11-part2.ipynb",
   "parameters": {},
   "start_time": "2022-02-01T20:08:10.146793",
   "version": "2.3.3"
  }
 },
 "nbformat": 4,
 "nbformat_minor": 5
}