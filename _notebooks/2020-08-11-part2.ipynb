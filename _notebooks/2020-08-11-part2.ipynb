{
 "cells": [
  {
   "cell_type": "markdown",
   "id": "98380cd3",
   "metadata": {
    "papermill": {
     "duration": 0.031871,
     "end_time": "2022-06-21T00:38:57.959935",
     "exception": false,
     "start_time": "2022-06-21T00:38:57.928064",
     "status": "completed"
    },
    "tags": []
   },
   "source": [
    "# Distinguish Your Own Digits (DYOD)"
   ]
  },
  {
   "cell_type": "markdown",
   "id": "ef31240d",
   "metadata": {
    "papermill": {
     "duration": 0.025968,
     "end_time": "2022-06-21T00:38:58.011070",
     "exception": false,
     "start_time": "2022-06-21T00:38:57.985102",
     "status": "completed"
    },
    "tags": []
   },
   "source": [
    "You are going to write a classifier that distinguishes between the number 3 and number 8."
   ]
  },
  {
   "cell_type": "code",
   "execution_count": 1,
   "id": "b15c8646",
   "metadata": {
    "execution": {
     "iopub.execute_input": "2022-06-21T00:38:58.072758Z",
     "iopub.status.busy": "2022-06-21T00:38:58.072104Z",
     "iopub.status.idle": "2022-06-21T00:38:58.083262Z",
     "shell.execute_reply": "2022-06-21T00:38:58.083774Z"
    },
    "papermill": {
     "duration": 0.049761,
     "end_time": "2022-06-21T00:38:58.083939",
     "exception": false,
     "start_time": "2022-06-21T00:38:58.034178",
     "status": "completed"
    },
    "tags": []
   },
   "outputs": [],
   "source": [
    "%load_ext autoreload\n",
    "%autoreload 2"
   ]
  },
  {
   "cell_type": "code",
   "execution_count": 2,
   "id": "22ef38dc",
   "metadata": {
    "execution": {
     "iopub.execute_input": "2022-06-21T00:38:58.138077Z",
     "iopub.status.busy": "2022-06-21T00:38:58.135443Z",
     "iopub.status.idle": "2022-06-21T00:38:58.738343Z",
     "shell.execute_reply": "2022-06-21T00:38:58.737202Z"
    },
    "papermill": {
     "duration": 0.631673,
     "end_time": "2022-06-21T00:38:58.738497",
     "exception": false,
     "start_time": "2022-06-21T00:38:58.106824",
     "status": "completed"
    },
    "tags": []
   },
   "outputs": [],
   "source": [
    "%matplotlib inline\n",
    "import numpy as np\n",
    "import matplotlib.pyplot as plt\n",
    "import pandas as pd"
   ]
  },
  {
   "cell_type": "markdown",
   "id": "ba036198",
   "metadata": {
    "papermill": {
     "duration": 0.027117,
     "end_time": "2022-06-21T00:38:58.792682",
     "exception": false,
     "start_time": "2022-06-21T00:38:58.765565",
     "status": "completed"
    },
    "tags": []
   },
   "source": [
    "From the command line run `pip install mnist`. This is a library that will help you bring down the mnist dataset. If you run this from a notebook, you need to put  `!pip install mnist` in a cell by itself."
   ]
  },
  {
   "cell_type": "code",
   "execution_count": 3,
   "id": "bb6ad8a1",
   "metadata": {
    "execution": {
     "iopub.execute_input": "2022-06-21T00:38:58.852812Z",
     "iopub.status.busy": "2022-06-21T00:38:58.851249Z",
     "iopub.status.idle": "2022-06-21T00:39:00.910206Z",
     "shell.execute_reply": "2022-06-21T00:39:00.909494Z"
    },
    "papermill": {
     "duration": 2.091112,
     "end_time": "2022-06-21T00:39:00.910363",
     "exception": false,
     "start_time": "2022-06-21T00:38:58.819251",
     "status": "completed"
    },
    "tags": []
   },
   "outputs": [
    {
     "name": "stdout",
     "output_type": "stream",
     "text": [
      "Collecting mnist\r\n"
     ]
    },
    {
     "name": "stdout",
     "output_type": "stream",
     "text": [
      "  Downloading mnist-0.2.2-py2.py3-none-any.whl (3.5 kB)\r\n",
      "Requirement already satisfied: numpy in /opt/hostedtoolcache/Python/3.6.15/x64/lib/python3.6/site-packages (from mnist) (1.19.5)\r\n"
     ]
    },
    {
     "name": "stdout",
     "output_type": "stream",
     "text": [
      "Installing collected packages: mnist\r\n",
      "Successfully installed mnist-0.2.2\r\n"
     ]
    }
   ],
   "source": [
    "!pip install mnist"
   ]
  },
  {
   "cell_type": "markdown",
   "id": "69df9c9a",
   "metadata": {
    "papermill": {
     "duration": 0.02582,
     "end_time": "2022-06-21T00:39:00.959991",
     "exception": false,
     "start_time": "2022-06-21T00:39:00.934171",
     "status": "completed"
    },
    "tags": []
   },
   "source": [
    "## Preparing the Data"
   ]
  },
  {
   "cell_type": "code",
   "execution_count": 4,
   "id": "7f69d806",
   "metadata": {
    "execution": {
     "iopub.execute_input": "2022-06-21T00:39:01.012255Z",
     "iopub.status.busy": "2022-06-21T00:39:01.011527Z",
     "iopub.status.idle": "2022-06-21T00:39:01.029528Z",
     "shell.execute_reply": "2022-06-21T00:39:01.028964Z"
    },
    "papermill": {
     "duration": 0.046386,
     "end_time": "2022-06-21T00:39:01.029676",
     "exception": false,
     "start_time": "2022-06-21T00:39:00.983290",
     "status": "completed"
    },
    "tags": []
   },
   "outputs": [],
   "source": [
    "import mnist"
   ]
  },
  {
   "cell_type": "code",
   "execution_count": 5,
   "id": "a411e44f",
   "metadata": {
    "execution": {
     "iopub.execute_input": "2022-06-21T00:39:01.085169Z",
     "iopub.status.busy": "2022-06-21T00:39:01.084474Z",
     "iopub.status.idle": "2022-06-21T00:39:01.766609Z",
     "shell.execute_reply": "2022-06-21T00:39:01.765261Z"
    },
    "papermill": {
     "duration": 0.713422,
     "end_time": "2022-06-21T00:39:01.766752",
     "exception": false,
     "start_time": "2022-06-21T00:39:01.053330",
     "status": "completed"
    },
    "tags": []
   },
   "outputs": [],
   "source": [
    "train_images = mnist.train_images()\n",
    "train_labels = mnist.train_labels()"
   ]
  },
  {
   "cell_type": "code",
   "execution_count": 6,
   "id": "dceab3a5",
   "metadata": {
    "execution": {
     "iopub.execute_input": "2022-06-21T00:39:01.827397Z",
     "iopub.status.busy": "2022-06-21T00:39:01.826665Z",
     "iopub.status.idle": "2022-06-21T00:39:01.842987Z",
     "shell.execute_reply": "2022-06-21T00:39:01.842414Z"
    },
    "papermill": {
     "duration": 0.049454,
     "end_time": "2022-06-21T00:39:01.843121",
     "exception": false,
     "start_time": "2022-06-21T00:39:01.793667",
     "status": "completed"
    },
    "tags": []
   },
   "outputs": [
    {
     "data": {
      "text/plain": [
       "((60000, 28, 28), (60000,))"
      ]
     },
     "execution_count": 6,
     "metadata": {},
     "output_type": "execute_result"
    }
   ],
   "source": [
    "train_images.shape, train_labels.shape"
   ]
  },
  {
   "cell_type": "code",
   "execution_count": 7,
   "id": "f50dc2bb",
   "metadata": {
    "execution": {
     "iopub.execute_input": "2022-06-21T00:39:01.904328Z",
     "iopub.status.busy": "2022-06-21T00:39:01.903654Z",
     "iopub.status.idle": "2022-06-21T00:39:02.109186Z",
     "shell.execute_reply": "2022-06-21T00:39:02.108514Z"
    },
    "papermill": {
     "duration": 0.237486,
     "end_time": "2022-06-21T00:39:02.109326",
     "exception": false,
     "start_time": "2022-06-21T00:39:01.871840",
     "status": "completed"
    },
    "tags": []
   },
   "outputs": [],
   "source": [
    "test_images = mnist.test_images()\n",
    "test_labels = mnist.test_labels()"
   ]
  },
  {
   "cell_type": "code",
   "execution_count": 8,
   "id": "fc38cf1b",
   "metadata": {
    "execution": {
     "iopub.execute_input": "2022-06-21T00:39:02.177427Z",
     "iopub.status.busy": "2022-06-21T00:39:02.176725Z",
     "iopub.status.idle": "2022-06-21T00:39:02.190370Z",
     "shell.execute_reply": "2022-06-21T00:39:02.191425Z"
    },
    "papermill": {
     "duration": 0.052695,
     "end_time": "2022-06-21T00:39:02.191590",
     "exception": false,
     "start_time": "2022-06-21T00:39:02.138895",
     "status": "completed"
    },
    "tags": []
   },
   "outputs": [
    {
     "data": {
      "text/plain": [
       "((10000, 28, 28), (10000,))"
      ]
     },
     "execution_count": 8,
     "metadata": {},
     "output_type": "execute_result"
    }
   ],
   "source": [
    "test_images.shape, test_labels.shape"
   ]
  },
  {
   "cell_type": "code",
   "execution_count": 9,
   "id": "f9ed8fe0",
   "metadata": {
    "execution": {
     "iopub.execute_input": "2022-06-21T00:39:02.270256Z",
     "iopub.status.busy": "2022-06-21T00:39:02.269537Z",
     "iopub.status.idle": "2022-06-21T00:39:02.419694Z",
     "shell.execute_reply": "2022-06-21T00:39:02.420714Z"
    },
    "papermill": {
     "duration": 0.199903,
     "end_time": "2022-06-21T00:39:02.420885",
     "exception": false,
     "start_time": "2022-06-21T00:39:02.220982",
     "status": "completed"
    },
    "tags": []
   },
   "outputs": [
    {
     "name": "stdout",
     "output_type": "stream",
     "text": [
      "2\n"
     ]
    },
    {
     "data": {
      "text/plain": [
       "<matplotlib.image.AxesImage at 0x7f31be5434e0>"
      ]
     },
     "execution_count": 9,
     "metadata": {},
     "output_type": "execute_result"
    },
    {
     "data": {
      "image/png": "[encoded data removed]",
      "text/plain": [
       "<Figure size 432x288 with 1 Axes>"
      ]
     },
     "metadata": {
      "needs_background": "light"
     },
     "output_type": "display_data"
    }
   ],
   "source": [
    "image_index = 7776 # You may select anything up to 60,000\n",
    "print(train_labels[image_index]) \n",
    "plt.imshow(train_images[image_index], cmap='Greys')"
   ]
  },
  {
   "cell_type": "markdown",
   "id": "a8d2388d",
   "metadata": {
    "papermill": {
     "duration": 0.031138,
     "end_time": "2022-06-21T00:39:02.483204",
     "exception": false,
     "start_time": "2022-06-21T00:39:02.452066",
     "status": "completed"
    },
    "tags": []
   },
   "source": [
    "## Filter data to get 3 and 8 out"
   ]
  },
  {
   "cell_type": "code",
   "execution_count": 10,
   "id": "776f7fc7",
   "metadata": {
    "execution": {
     "iopub.execute_input": "2022-06-21T00:39:02.554280Z",
     "iopub.status.busy": "2022-06-21T00:39:02.553573Z",
     "iopub.status.idle": "2022-06-21T00:39:02.570249Z",
     "shell.execute_reply": "2022-06-21T00:39:02.571224Z"
    },
    "papermill": {
     "duration": 0.057025,
     "end_time": "2022-06-21T00:39:02.571385",
     "exception": false,
     "start_time": "2022-06-21T00:39:02.514360",
     "status": "completed"
    },
    "tags": []
   },
   "outputs": [],
   "source": [
    "train_filter = np.where((train_labels == 3 ) | (train_labels == 8))\n",
    "test_filter = np.where((test_labels == 3) | (test_labels == 8))\n",
    "X_train, y_train = train_images[train_filter], train_labels[train_filter]\n",
    "X_test, y_test = test_images[test_filter], test_labels[test_filter]"
   ]
  },
  {
   "cell_type": "markdown",
   "id": "948f0b7e",
   "metadata": {
    "papermill": {
     "duration": 0.030174,
     "end_time": "2022-06-21T00:39:02.632011",
     "exception": false,
     "start_time": "2022-06-21T00:39:02.601837",
     "status": "completed"
    },
    "tags": []
   },
   "source": [
    "We normalize the pizel values in the 0 to 1 range"
   ]
  },
  {
   "cell_type": "code",
   "execution_count": 11,
   "id": "ee4c2166",
   "metadata": {
    "execution": {
     "iopub.execute_input": "2022-06-21T00:39:02.695863Z",
     "iopub.status.busy": "2022-06-21T00:39:02.695007Z",
     "iopub.status.idle": "2022-06-21T00:39:02.748973Z",
     "shell.execute_reply": "2022-06-21T00:39:02.748328Z"
    },
    "papermill": {
     "duration": 0.087593,
     "end_time": "2022-06-21T00:39:02.749112",
     "exception": false,
     "start_time": "2022-06-21T00:39:02.661519",
     "status": "completed"
    },
    "tags": []
   },
   "outputs": [],
   "source": [
    "X_train = X_train/255.\n",
    "X_test = X_test/255."
   ]
  },
  {
   "cell_type": "markdown",
   "id": "ddcf4fab",
   "metadata": {
    "papermill": {
     "duration": 0.028036,
     "end_time": "2022-06-21T00:39:02.805647",
     "exception": false,
     "start_time": "2022-06-21T00:39:02.777611",
     "status": "completed"
    },
    "tags": []
   },
   "source": [
    "And setup the labels as 1 (when the digit is 3) and 0 (when the digit is 8)"
   ]
  },
  {
   "cell_type": "code",
   "execution_count": 12,
   "id": "7dc908f2",
   "metadata": {
    "execution": {
     "iopub.execute_input": "2022-06-21T00:39:02.869341Z",
     "iopub.status.busy": "2022-06-21T00:39:02.868679Z",
     "iopub.status.idle": "2022-06-21T00:39:02.882023Z",
     "shell.execute_reply": "2022-06-21T00:39:02.882491Z"
    },
    "papermill": {
     "duration": 0.047991,
     "end_time": "2022-06-21T00:39:02.882641",
     "exception": false,
     "start_time": "2022-06-21T00:39:02.834650",
     "status": "completed"
    },
    "tags": []
   },
   "outputs": [],
   "source": [
    "y_train = 1*(y_train==3)\n",
    "y_test = 1*(y_test==3)"
   ]
  },
  {
   "cell_type": "code",
   "execution_count": 13,
   "id": "01e4e969",
   "metadata": {
    "execution": {
     "iopub.execute_input": "2022-06-21T00:39:02.945879Z",
     "iopub.status.busy": "2022-06-21T00:39:02.945199Z",
     "iopub.status.idle": "2022-06-21T00:39:02.961872Z",
     "shell.execute_reply": "2022-06-21T00:39:02.961200Z"
    },
    "papermill": {
     "duration": 0.05034,
     "end_time": "2022-06-21T00:39:02.962005",
     "exception": false,
     "start_time": "2022-06-21T00:39:02.911665",
     "status": "completed"
    },
    "tags": []
   },
   "outputs": [
    {
     "data": {
      "text/plain": [
       "((11982, 28, 28), (1984, 28, 28))"
      ]
     },
     "execution_count": 13,
     "metadata": {},
     "output_type": "execute_result"
    }
   ],
   "source": [
    "X_train.shape, X_test.shape"
   ]
  },
  {
   "cell_type": "markdown",
   "id": "5ccf3f85",
   "metadata": {
    "papermill": {
     "duration": 0.029286,
     "end_time": "2022-06-21T00:39:03.021622",
     "exception": false,
     "start_time": "2022-06-21T00:39:02.992336",
     "status": "completed"
    },
    "tags": []
   },
   "source": [
    "We reshape the data to flatten the image pixels into a set of features or co-variates:"
   ]
  },
  {
   "cell_type": "code",
   "execution_count": 14,
   "id": "5286a4a3",
   "metadata": {
    "execution": {
     "iopub.execute_input": "2022-06-21T00:39:03.082842Z",
     "iopub.status.busy": "2022-06-21T00:39:03.082215Z",
     "iopub.status.idle": "2022-06-21T00:39:03.097208Z",
     "shell.execute_reply": "2022-06-21T00:39:03.097720Z"
    },
    "papermill": {
     "duration": 0.046715,
     "end_time": "2022-06-21T00:39:03.097860",
     "exception": false,
     "start_time": "2022-06-21T00:39:03.051145",
     "status": "completed"
    },
    "tags": []
   },
   "outputs": [
    {
     "data": {
      "text/plain": [
       "((11982, 784), (1984, 784))"
      ]
     },
     "execution_count": 14,
     "metadata": {},
     "output_type": "execute_result"
    }
   ],
   "source": [
    "X_train = X_train.reshape(X_train.shape[0], -1)\n",
    "X_test = X_test.reshape(X_test.shape[0], -1)\n",
    "X_train.shape, X_test.shape"
   ]
  },
  {
   "cell_type": "code",
   "execution_count": 15,
   "id": "73c5f88a",
   "metadata": {
    "execution": {
     "iopub.execute_input": "2022-06-21T00:39:03.160561Z",
     "iopub.status.busy": "2022-06-21T00:39:03.159877Z",
     "iopub.status.idle": "2022-06-21T00:39:03.182747Z",
     "shell.execute_reply": "2022-06-21T00:39:03.182172Z"
    },
    "papermill": {
     "duration": 0.05679,
     "end_time": "2022-06-21T00:39:03.182877",
     "exception": false,
     "start_time": "2022-06-21T00:39:03.126087",
     "status": "completed"
    },
    "tags": []
   },
   "outputs": [],
   "source": [
    "#Impoting functions from 'Kudzu'\n",
    "from kudzu.model import Model\n",
    "from kudzu.train import Learner\n",
    "from kudzu.optim import GD\n",
    "from kudzu.data import Data, Sampler,Dataloader\n",
    "\n",
    "from kudzu.callbacks import AccCallback\n",
    "from kudzu.callbacks import ClfCallback\n",
    "\n",
    "from kudzu.loss import MSE\n",
    "\n",
    "from kudzu.layer import Sigmoid,Relu\n",
    "from kudzu.layer import Affine"
   ]
  },
  {
   "cell_type": "markdown",
   "id": "bc01172a",
   "metadata": {
    "papermill": {
     "duration": 0.029274,
     "end_time": "2022-06-21T00:39:03.242628",
     "exception": false,
     "start_time": "2022-06-21T00:39:03.213354",
     "status": "completed"
    },
    "tags": []
   },
   "source": [
    "### Let us create a `Config` class, to store important parameters. \n",
    "This class essentially plays the role of a dictionary."
   ]
  },
  {
   "cell_type": "code",
   "execution_count": 16,
   "id": "978281aa",
   "metadata": {
    "execution": {
     "iopub.execute_input": "2022-06-21T00:39:03.307998Z",
     "iopub.status.busy": "2022-06-21T00:39:03.307261Z",
     "iopub.status.idle": "2022-06-21T00:39:03.321293Z",
     "shell.execute_reply": "2022-06-21T00:39:03.320720Z"
    },
    "papermill": {
     "duration": 0.049442,
     "end_time": "2022-06-21T00:39:03.321459",
     "exception": false,
     "start_time": "2022-06-21T00:39:03.272017",
     "status": "completed"
    },
    "tags": []
   },
   "outputs": [],
   "source": [
    "class Config:\n",
    "    pass\n",
    "config = Config()\n",
    "config.lr = 0.001\n",
    "config.num_epochs = 250\n",
    "config.bs = 50"
   ]
  },
  {
   "cell_type": "markdown",
   "id": "1385fa59",
   "metadata": {
    "papermill": {
     "duration": 0.030263,
     "end_time": "2022-06-21T00:39:03.383874",
     "exception": false,
     "start_time": "2022-06-21T00:39:03.353611",
     "status": "completed"
    },
    "tags": []
   },
   "source": [
    "### Running Models with the Training data\n",
    "Details about the network layers:\n",
    "- A first affine layer has 784 inputs and does 100 affine transforms. These are followed by a Relu\n",
    "- A second affine layer has 100 inputs from the 100 activations of the past layer, and does 100 affine transforms. These are followed by a Relu\n",
    "- A third affine layer has 100 activations and does 2 affine transformations to create an embedding for visualization. There is no non-linearity here.\n",
    "- A final \"logistic regression\" which has an affine transform from 2 inputs to 1 output, which is squeezed through a sigmoid.\n"
   ]
  },
  {
   "cell_type": "code",
   "execution_count": 17,
   "id": "2b9c66db",
   "metadata": {
    "execution": {
     "iopub.execute_input": "2022-06-21T00:39:03.447373Z",
     "iopub.status.busy": "2022-06-21T00:39:03.446672Z",
     "iopub.status.idle": "2022-06-21T00:39:03.461263Z",
     "shell.execute_reply": "2022-06-21T00:39:03.460702Z"
    },
    "papermill": {
     "duration": 0.049501,
     "end_time": "2022-06-21T00:39:03.461393",
     "exception": false,
     "start_time": "2022-06-21T00:39:03.411892",
     "status": "completed"
    },
    "tags": []
   },
   "outputs": [],
   "source": [
    "data = Data(X_train, y_train.reshape(-1,1))\n",
    "sampler = Sampler(data, config.bs, shuffle=True)\n",
    "\n",
    "dl = Dataloader(data, sampler)\n",
    "\n",
    "opt = GD(config.lr)\n",
    "loss = MSE()"
   ]
  },
  {
   "cell_type": "code",
   "execution_count": 18,
   "id": "b275e4c2",
   "metadata": {
    "execution": {
     "iopub.execute_input": "2022-06-21T00:39:03.523521Z",
     "iopub.status.busy": "2022-06-21T00:39:03.522935Z",
     "iopub.status.idle": "2022-06-21T00:39:03.537206Z",
     "shell.execute_reply": "2022-06-21T00:39:03.536652Z"
    },
    "papermill": {
     "duration": 0.046713,
     "end_time": "2022-06-21T00:39:03.537328",
     "exception": false,
     "start_time": "2022-06-21T00:39:03.490615",
     "status": "completed"
    },
    "tags": []
   },
   "outputs": [],
   "source": [
    "training_data_x = X_train\n",
    "testing_data_x = X_test\n",
    "training_data_y = y_train.reshape(-1,1)\n",
    "testing_data_y = y_test.reshape(-1,1)"
   ]
  },
  {
   "cell_type": "code",
   "execution_count": 19,
   "id": "76951160",
   "metadata": {
    "execution": {
     "iopub.execute_input": "2022-06-21T00:39:03.602697Z",
     "iopub.status.busy": "2022-06-21T00:39:03.601945Z",
     "iopub.status.idle": "2022-06-21T00:39:03.620801Z",
     "shell.execute_reply": "2022-06-21T00:39:03.620020Z"
    },
    "papermill": {
     "duration": 0.053627,
     "end_time": "2022-06-21T00:39:03.620941",
     "exception": false,
     "start_time": "2022-06-21T00:39:03.567314",
     "status": "completed"
    },
    "tags": []
   },
   "outputs": [
    {
     "name": "stdout",
     "output_type": "stream",
     "text": [
      "xavier\n",
      "xavier\n",
      "xavier\n",
      "xavier\n",
      "xavier\n"
     ]
    }
   ],
   "source": [
    "layers = [Affine(\"first\", 784, 100), Relu(\"first\"), Affine(\"second\", 100, 100), Relu(\"second\"), Affine(\"third\", 100, 2), Affine(\"last\", 2, 1), Sigmoid(\"last\")]\n",
    "model_nn = Model(layers)\n",
    "model_lr = Model([Affine(\"logits\", 784, 1), Sigmoid(\"sigmoid\")])"
   ]
  },
  {
   "cell_type": "code",
   "execution_count": 20,
   "id": "6eede77a",
   "metadata": {
    "execution": {
     "iopub.execute_input": "2022-06-21T00:39:03.687444Z",
     "iopub.status.busy": "2022-06-21T00:39:03.686631Z",
     "iopub.status.idle": "2022-06-21T00:39:03.703014Z",
     "shell.execute_reply": "2022-06-21T00:39:03.702451Z"
    },
    "papermill": {
     "duration": 0.051106,
     "end_time": "2022-06-21T00:39:03.703143",
     "exception": false,
     "start_time": "2022-06-21T00:39:03.652037",
     "status": "completed"
    },
    "tags": []
   },
   "outputs": [],
   "source": [
    "nn_learner = Learner(loss, model_nn, opt, config.num_epochs)\n",
    "acc_nn = ClfCallback(nn_learner, config.bs, training_data_x , testing_data_x, training_data_y, testing_data_y)\n",
    "nn_learner.set_callbacks([acc_nn])"
   ]
  },
  {
   "cell_type": "code",
   "execution_count": 21,
   "id": "877b6cc7",
   "metadata": {
    "execution": {
     "iopub.execute_input": "2022-06-21T00:39:03.765420Z",
     "iopub.status.busy": "2022-06-21T00:39:03.764748Z",
     "iopub.status.idle": "2022-06-21T00:39:03.779956Z",
     "shell.execute_reply": "2022-06-21T00:39:03.779373Z"
    },
    "papermill": {
     "duration": 0.047295,
     "end_time": "2022-06-21T00:39:03.780086",
     "exception": false,
     "start_time": "2022-06-21T00:39:03.732791",
     "status": "completed"
    },
    "tags": []
   },
   "outputs": [],
   "source": [
    "lr_learner = Learner(loss, model_lr, opt, config.num_epochs)\n",
    "acc_lr = ClfCallback(lr_learner, config.bs, training_data_x , testing_data_x, training_data_y, testing_data_y)\n",
    "lr_learner.set_callbacks([acc_lr])"
   ]
  },
  {
   "cell_type": "code",
   "execution_count": 22,
   "id": "d9b133c3",
   "metadata": {
    "execution": {
     "iopub.execute_input": "2022-06-21T00:39:03.844762Z",
     "iopub.status.busy": "2022-06-21T00:39:03.844072Z",
     "iopub.status.idle": "2022-06-21T00:40:27.782327Z",
     "shell.execute_reply": "2022-06-21T00:40:27.783311Z"
    },
    "papermill": {
     "duration": 83.973055,
     "end_time": "2022-06-21T00:40:27.783478",
     "exception": false,
     "start_time": "2022-06-21T00:39:03.810423",
     "status": "completed"
    },
    "tags": []
   },
   "outputs": [
    {
     "name": "stdout",
     "output_type": "stream",
     "text": [
      "Epoch 0, Loss 0.2434\n",
      "Training Accuracy: 0.6632, Testing Accuracy: 0.7006\n",
      "\n"
     ]
    },
    {
     "name": "stdout",
     "output_type": "stream",
     "text": [
      "Epoch 10, Loss 0.1023\n",
      "Training Accuracy: 0.9070, Testing Accuracy: 0.9204\n",
      "\n"
     ]
    },
    {
     "name": "stdout",
     "output_type": "stream",
     "text": [
      "Epoch 20, Loss 0.0602\n",
      "Training Accuracy: 0.9363, Testing Accuracy: 0.9486\n",
      "\n"
     ]
    },
    {
     "name": "stdout",
     "output_type": "stream",
     "text": [
      "Epoch 30, Loss 0.0461\n",
      "Training Accuracy: 0.9494, Testing Accuracy: 0.9577\n",
      "\n"
     ]
    },
    {
     "name": "stdout",
     "output_type": "stream",
     "text": [
      "Epoch 40, Loss 0.0392\n",
      "Training Accuracy: 0.9558, Testing Accuracy: 0.9612\n",
      "\n"
     ]
    },
    {
     "name": "stdout",
     "output_type": "stream",
     "text": [
      "Epoch 50, Loss 0.0352\n",
      "Training Accuracy: 0.9600, Testing Accuracy: 0.9637\n",
      "\n"
     ]
    },
    {
     "name": "stdout",
     "output_type": "stream",
     "text": [
      "Epoch 60, Loss 0.0324\n",
      "Training Accuracy: 0.9631, Testing Accuracy: 0.9652\n",
      "\n"
     ]
    },
    {
     "name": "stdout",
     "output_type": "stream",
     "text": [
      "Epoch 70, Loss 0.0303\n",
      "Training Accuracy: 0.9654, Testing Accuracy: 0.9657\n",
      "\n"
     ]
    },
    {
     "name": "stdout",
     "output_type": "stream",
     "text": [
      "Epoch 80, Loss 0.0287\n",
      "Training Accuracy: 0.9677, Testing Accuracy: 0.9682\n",
      "\n"
     ]
    },
    {
     "name": "stdout",
     "output_type": "stream",
     "text": [
      "Epoch 90, Loss 0.0274\n",
      "Training Accuracy: 0.9694, Testing Accuracy: 0.9693\n",
      "\n"
     ]
    },
    {
     "name": "stdout",
     "output_type": "stream",
     "text": [
      "Epoch 100, Loss 0.0263\n",
      "Training Accuracy: 0.9700, Testing Accuracy: 0.9703\n",
      "\n"
     ]
    },
    {
     "name": "stdout",
     "output_type": "stream",
     "text": [
      "Epoch 110, Loss 0.0253\n",
      "Training Accuracy: 0.9710, Testing Accuracy: 0.9718\n",
      "\n"
     ]
    },
    {
     "name": "stdout",
     "output_type": "stream",
     "text": [
      "Epoch 120, Loss 0.0245\n",
      "Training Accuracy: 0.9721, Testing Accuracy: 0.9723\n",
      "\n"
     ]
    },
    {
     "name": "stdout",
     "output_type": "stream",
     "text": [
      "Epoch 130, Loss 0.0237\n",
      "Training Accuracy: 0.9734, Testing Accuracy: 0.9723\n",
      "\n"
     ]
    },
    {
     "name": "stdout",
     "output_type": "stream",
     "text": [
      "Epoch 140, Loss 0.023\n",
      "Training Accuracy: 0.9744, Testing Accuracy: 0.9728\n",
      "\n"
     ]
    },
    {
     "name": "stdout",
     "output_type": "stream",
     "text": [
      "Epoch 150, Loss 0.0224\n",
      "Training Accuracy: 0.9749, Testing Accuracy: 0.9728\n",
      "\n"
     ]
    },
    {
     "name": "stdout",
     "output_type": "stream",
     "text": [
      "Epoch 160, Loss 0.0218\n",
      "Training Accuracy: 0.9755, Testing Accuracy: 0.9718\n",
      "\n"
     ]
    },
    {
     "name": "stdout",
     "output_type": "stream",
     "text": [
      "Epoch 170, Loss 0.0213\n",
      "Training Accuracy: 0.9765, Testing Accuracy: 0.9713\n",
      "\n"
     ]
    },
    {
     "name": "stdout",
     "output_type": "stream",
     "text": [
      "Epoch 180, Loss 0.0208\n",
      "Training Accuracy: 0.9768, Testing Accuracy: 0.9713\n",
      "\n"
     ]
    },
    {
     "name": "stdout",
     "output_type": "stream",
     "text": [
      "Epoch 190, Loss 0.0203\n",
      "Training Accuracy: 0.9770, Testing Accuracy: 0.9718\n",
      "\n"
     ]
    },
    {
     "name": "stdout",
     "output_type": "stream",
     "text": [
      "Epoch 200, Loss 0.0198\n",
      "Training Accuracy: 0.9779, Testing Accuracy: 0.9718\n",
      "\n"
     ]
    },
    {
     "name": "stdout",
     "output_type": "stream",
     "text": [
      "Epoch 210, Loss 0.0194\n",
      "Training Accuracy: 0.9784, Testing Accuracy: 0.9718\n",
      "\n"
     ]
    },
    {
     "name": "stdout",
     "output_type": "stream",
     "text": [
      "Epoch 220, Loss 0.019\n",
      "Training Accuracy: 0.9790, Testing Accuracy: 0.9723\n",
      "\n"
     ]
    },
    {
     "name": "stdout",
     "output_type": "stream",
     "text": [
      "Epoch 230, Loss 0.0186\n",
      "Training Accuracy: 0.9797, Testing Accuracy: 0.9733\n",
      "\n"
     ]
    },
    {
     "name": "stdout",
     "output_type": "stream",
     "text": [
      "Epoch 240, Loss 0.0182\n",
      "Training Accuracy: 0.9803, Testing Accuracy: 0.9738\n",
      "\n"
     ]
    },
    {
     "data": {
      "text/plain": [
       "0.0006757803920743304"
      ]
     },
     "execution_count": 22,
     "metadata": {},
     "output_type": "execute_result"
    }
   ],
   "source": [
    "nn_learner.train_loop(dl)"
   ]
  },
  {
   "cell_type": "code",
   "execution_count": 23,
   "id": "e0163366",
   "metadata": {
    "execution": {
     "iopub.execute_input": "2022-06-21T00:40:27.873500Z",
     "iopub.status.busy": "2022-06-21T00:40:27.872808Z",
     "iopub.status.idle": "2022-06-21T00:40:42.817586Z",
     "shell.execute_reply": "2022-06-21T00:40:42.818561Z"
    },
    "papermill": {
     "duration": 14.99748,
     "end_time": "2022-06-21T00:40:42.818734",
     "exception": false,
     "start_time": "2022-06-21T00:40:27.821254",
     "status": "completed"
    },
    "tags": []
   },
   "outputs": [
    {
     "name": "stdout",
     "output_type": "stream",
     "text": [
      "Epoch 0, Loss 0.2165\n",
      "Training Accuracy: 0.7475, Testing Accuracy: 0.7631\n",
      "\n"
     ]
    },
    {
     "name": "stdout",
     "output_type": "stream",
     "text": [
      "Epoch 10, Loss 0.0982\n",
      "Training Accuracy: 0.9156, Testing Accuracy: 0.9284\n",
      "\n"
     ]
    },
    {
     "name": "stdout",
     "output_type": "stream",
     "text": [
      "Epoch 20, Loss 0.0772\n",
      "Training Accuracy: 0.9296, Testing Accuracy: 0.9420\n",
      "\n"
     ]
    },
    {
     "name": "stdout",
     "output_type": "stream",
     "text": [
      "Epoch 30, Loss 0.0672\n",
      "Training Accuracy: 0.9366, Testing Accuracy: 0.9461\n",
      "\n"
     ]
    },
    {
     "name": "stdout",
     "output_type": "stream",
     "text": [
      "Epoch 40, Loss 0.061\n",
      "Training Accuracy: 0.9397, Testing Accuracy: 0.9506\n",
      "\n"
     ]
    },
    {
     "name": "stdout",
     "output_type": "stream",
     "text": [
      "Epoch 50, Loss 0.0568\n",
      "Training Accuracy: 0.9429, Testing Accuracy: 0.9541\n",
      "\n"
     ]
    },
    {
     "name": "stdout",
     "output_type": "stream",
     "text": [
      "Epoch 60, Loss 0.0536\n",
      "Training Accuracy: 0.9458, Testing Accuracy: 0.9556\n",
      "\n"
     ]
    },
    {
     "name": "stdout",
     "output_type": "stream",
     "text": [
      "Epoch 70, Loss 0.0512\n",
      "Training Accuracy: 0.9477, Testing Accuracy: 0.9587\n",
      "\n"
     ]
    },
    {
     "name": "stdout",
     "output_type": "stream",
     "text": [
      "Epoch 80, Loss 0.0492\n",
      "Training Accuracy: 0.9499, Testing Accuracy: 0.9627\n",
      "\n"
     ]
    },
    {
     "name": "stdout",
     "output_type": "stream",
     "text": [
      "Epoch 90, Loss 0.0476\n",
      "Training Accuracy: 0.9516, Testing Accuracy: 0.9647\n",
      "\n"
     ]
    },
    {
     "name": "stdout",
     "output_type": "stream",
     "text": [
      "Epoch 100, Loss 0.0462\n",
      "Training Accuracy: 0.9525, Testing Accuracy: 0.9637\n",
      "\n"
     ]
    },
    {
     "name": "stdout",
     "output_type": "stream",
     "text": [
      "Epoch 110, Loss 0.045\n",
      "Training Accuracy: 0.9535, Testing Accuracy: 0.9642\n",
      "\n"
     ]
    },
    {
     "name": "stdout",
     "output_type": "stream",
     "text": [
      "Epoch 120, Loss 0.0439\n",
      "Training Accuracy: 0.9548, Testing Accuracy: 0.9647\n",
      "\n"
     ]
    },
    {
     "name": "stdout",
     "output_type": "stream",
     "text": [
      "Epoch 130, Loss 0.043\n",
      "Training Accuracy: 0.9553, Testing Accuracy: 0.9652\n",
      "\n"
     ]
    },
    {
     "name": "stdout",
     "output_type": "stream",
     "text": [
      "Epoch 140, Loss 0.0422\n",
      "Training Accuracy: 0.9560, Testing Accuracy: 0.9662\n",
      "\n"
     ]
    },
    {
     "name": "stdout",
     "output_type": "stream",
     "text": [
      "Epoch 150, Loss 0.0415\n",
      "Training Accuracy: 0.9568, Testing Accuracy: 0.9677\n",
      "\n"
     ]
    },
    {
     "name": "stdout",
     "output_type": "stream",
     "text": [
      "Epoch 160, Loss 0.0408\n",
      "Training Accuracy: 0.9575, Testing Accuracy: 0.9677\n",
      "\n"
     ]
    },
    {
     "name": "stdout",
     "output_type": "stream",
     "text": [
      "Epoch 170, Loss 0.0402\n",
      "Training Accuracy: 0.9579, Testing Accuracy: 0.9688\n",
      "\n"
     ]
    },
    {
     "name": "stdout",
     "output_type": "stream",
     "text": [
      "Epoch 180, Loss 0.0396\n",
      "Training Accuracy: 0.9584, Testing Accuracy: 0.9682\n",
      "\n"
     ]
    },
    {
     "name": "stdout",
     "output_type": "stream",
     "text": [
      "Epoch 190, Loss 0.0391\n",
      "Training Accuracy: 0.9586, Testing Accuracy: 0.9677\n",
      "\n"
     ]
    },
    {
     "name": "stdout",
     "output_type": "stream",
     "text": [
      "Epoch 200, Loss 0.0386\n",
      "Training Accuracy: 0.9593, Testing Accuracy: 0.9682\n",
      "\n"
     ]
    },
    {
     "name": "stdout",
     "output_type": "stream",
     "text": [
      "Epoch 210, Loss 0.0382\n",
      "Training Accuracy: 0.9597, Testing Accuracy: 0.9677\n",
      "\n"
     ]
    },
    {
     "name": "stdout",
     "output_type": "stream",
     "text": [
      "Epoch 220, Loss 0.0378\n",
      "Training Accuracy: 0.9599, Testing Accuracy: 0.9677\n",
      "\n"
     ]
    },
    {
     "name": "stdout",
     "output_type": "stream",
     "text": [
      "Epoch 230, Loss 0.0374\n",
      "Training Accuracy: 0.9604, Testing Accuracy: 0.9677\n",
      "\n"
     ]
    },
    {
     "name": "stdout",
     "output_type": "stream",
     "text": [
      "Epoch 240, Loss 0.037\n",
      "Training Accuracy: 0.9607, Testing Accuracy: 0.9677\n",
      "\n"
     ]
    },
    {
     "data": {
      "text/plain": [
       "0.03550600327641658"
      ]
     },
     "execution_count": 23,
     "metadata": {},
     "output_type": "execute_result"
    }
   ],
   "source": [
    "lr_learner.train_loop(dl)"
   ]
  },
  {
   "cell_type": "code",
   "execution_count": 24,
   "id": "ca410940",
   "metadata": {
    "execution": {
     "iopub.execute_input": "2022-06-21T00:40:42.914963Z",
     "iopub.status.busy": "2022-06-21T00:40:42.914316Z",
     "iopub.status.idle": "2022-06-21T00:40:43.158789Z",
     "shell.execute_reply": "2022-06-21T00:40:43.159325Z"
    },
    "papermill": {
     "duration": 0.29612,
     "end_time": "2022-06-21T00:40:43.159491",
     "exception": false,
     "start_time": "2022-06-21T00:40:42.863371",
     "status": "completed"
    },
    "tags": []
   },
   "outputs": [
    {
     "data": {
      "text/plain": [
       "<matplotlib.legend.Legend at 0x7f31be0a2a58>"
      ]
     },
     "execution_count": 24,
     "metadata": {},
     "output_type": "execute_result"
    },
    {
     "data": {
      "image/png": "[encoded data removed]",
      "text/plain": [
       "<Figure size 1080x720 with 1 Axes>"
      ]
     },
     "metadata": {
      "needs_background": "light"
     },
     "output_type": "display_data"
    }
   ],
   "source": [
    "#comparing the results of NN and LR\n",
    "plt.figure(figsize=(15,10))\n",
    "\n",
    "# Neural Network plots\n",
    "plt.plot(acc_nn.accuracies, 'r-', label = \"Training Accuracies - NN\")\n",
    "plt.plot(acc_nn.test_accuracies, 'g-', label = \"Testing Accuracies - NN\")\n",
    "\n",
    "# Logistic Regression plots\n",
    "plt.plot(acc_lr.accuracies, 'k-', label = \"Training Accuracies - LR\")\n",
    "plt.plot(acc_lr.test_accuracies, 'b-', label = \"Testing Accuracies - LR\")\n",
    "plt.legend()"
   ]
  },
  {
   "cell_type": "markdown",
   "id": "80dfb35c",
   "metadata": {
    "papermill": {
     "duration": 0.044272,
     "end_time": "2022-06-21T00:40:43.245817",
     "exception": false,
     "start_time": "2022-06-21T00:40:43.201545",
     "status": "completed"
    },
    "tags": []
   },
   "source": [
    "#### Plotting the outputs of this layer of the NN.\n"
   ]
  },
  {
   "cell_type": "code",
   "execution_count": 25,
   "id": "45eb2ff5",
   "metadata": {
    "execution": {
     "iopub.execute_input": "2022-06-21T00:40:43.339319Z",
     "iopub.status.busy": "2022-06-21T00:40:43.338617Z",
     "iopub.status.idle": "2022-06-21T00:40:43.359416Z",
     "shell.execute_reply": "2022-06-21T00:40:43.359973Z"
    },
    "papermill": {
     "duration": 0.073203,
     "end_time": "2022-06-21T00:40:43.360149",
     "exception": false,
     "start_time": "2022-06-21T00:40:43.286946",
     "status": "completed"
    },
    "tags": []
   },
   "outputs": [],
   "source": [
    "new_model = Model(layers[:-2])\n",
    "testing_plot = new_model(testing_data_x)"
   ]
  },
  {
   "cell_type": "code",
   "execution_count": 26,
   "id": "4c0a5485",
   "metadata": {
    "execution": {
     "iopub.execute_input": "2022-06-21T00:40:43.454661Z",
     "iopub.status.busy": "2022-06-21T00:40:43.454110Z",
     "iopub.status.idle": "2022-06-21T00:40:43.671773Z",
     "shell.execute_reply": "2022-06-21T00:40:43.670770Z"
    },
    "papermill": {
     "duration": 0.269763,
     "end_time": "2022-06-21T00:40:43.671923",
     "exception": false,
     "start_time": "2022-06-21T00:40:43.402160",
     "status": "completed"
    },
    "tags": []
   },
   "outputs": [
    {
     "data": {
      "text/plain": [
       "Text(0.5, 1.0, 'Outputs')"
      ]
     },
     "execution_count": 26,
     "metadata": {},
     "output_type": "execute_result"
    },
    {
     "data": {
      "image/png": "[encoded data removed]",
      "text/plain": [
       "<Figure size 576x504 with 1 Axes>"
      ]
     },
     "metadata": {
      "needs_background": "light"
     },
     "output_type": "display_data"
    }
   ],
   "source": [
    "# Plotting the scatter plot of points and color coding by class\n",
    "plt.figure(figsize=(8,7))\n",
    "plt.scatter(testing_plot[:,0], testing_plot[:,1], alpha = 0.1, c = y_test.ravel());\n",
    "plt.title('Outputs')"
   ]
  },
  {
   "cell_type": "markdown",
   "id": "a74fcf8f",
   "metadata": {
    "papermill": {
     "duration": 0.046521,
     "end_time": "2022-06-21T00:40:43.768093",
     "exception": false,
     "start_time": "2022-06-21T00:40:43.721572",
     "status": "completed"
    },
    "tags": []
   },
   "source": [
    "Probability contours"
   ]
  },
  {
   "cell_type": "code",
   "execution_count": 27,
   "id": "d0afc8e3",
   "metadata": {
    "execution": {
     "iopub.execute_input": "2022-06-21T00:40:43.870689Z",
     "iopub.status.busy": "2022-06-21T00:40:43.869853Z",
     "iopub.status.idle": "2022-06-21T00:40:43.882570Z",
     "shell.execute_reply": "2022-06-21T00:40:43.883072Z"
    },
    "papermill": {
     "duration": 0.066847,
     "end_time": "2022-06-21T00:40:43.883227",
     "exception": false,
     "start_time": "2022-06-21T00:40:43.816380",
     "status": "completed"
    },
    "tags": []
   },
   "outputs": [],
   "source": [
    "model_prob = Model(layers[-2:]) "
   ]
  },
  {
   "cell_type": "code",
   "execution_count": 28,
   "id": "9b96e238",
   "metadata": {
    "execution": {
     "iopub.execute_input": "2022-06-21T00:40:44.018187Z",
     "iopub.status.busy": "2022-06-21T00:40:44.017406Z",
     "iopub.status.idle": "2022-06-21T00:40:44.032582Z",
     "shell.execute_reply": "2022-06-21T00:40:44.033086Z"
    },
    "papermill": {
     "duration": 0.100638,
     "end_time": "2022-06-21T00:40:44.033238",
     "exception": false,
     "start_time": "2022-06-21T00:40:43.932600",
     "status": "completed"
    },
    "tags": []
   },
   "outputs": [],
   "source": [
    "#creating the x and y ranges according to the above generated plot.\n",
    "x_range = np.linspace(-4, 1, 100) \n",
    "y_range = np.linspace(-6, 6, 100) \n",
    "x_grid, y_grid = np.meshgrid(x_range, y_range) # x_grid and y_grig are of size 100 X 100\n",
    "\n",
    "# converting x_grid and y_grid to continuous arrays\n",
    "x_gridflat = np.ravel(x_grid)\n",
    "y_gridflat = np.ravel(y_grid)\n",
    "\n",
    "# The last layer of the current model takes two columns as input. Hence transpose of np.vstack() is required.\n",
    "X = np.vstack((x_gridflat, y_gridflat)).T\n",
    "\n",
    "prob_contour = model_prob(X).reshape(100,100) "
   ]
  },
  {
   "cell_type": "code",
   "execution_count": 29,
   "id": "da72499a",
   "metadata": {
    "execution": {
     "iopub.execute_input": "2022-06-21T00:40:44.141119Z",
     "iopub.status.busy": "2022-06-21T00:40:44.140557Z",
     "iopub.status.idle": "2022-06-21T00:40:44.395017Z",
     "shell.execute_reply": "2022-06-21T00:40:44.395523Z"
    },
    "papermill": {
     "duration": 0.315029,
     "end_time": "2022-06-21T00:40:44.395693",
     "exception": false,
     "start_time": "2022-06-21T00:40:44.080664",
     "status": "completed"
    },
    "tags": []
   },
   "outputs": [
    {
     "data": {
      "image/png": "[encoded data removed]",
      "text/plain": [
       "<Figure size 720x648 with 1 Axes>"
      ]
     },
     "metadata": {
      "needs_background": "light"
     },
     "output_type": "display_data"
    }
   ],
   "source": [
    "plt.figure(figsize=(10,9))\n",
    "plt.scatter(testing_plot[:,0], testing_plot[:,1], alpha = 0.1, c = y_test.ravel())\n",
    "contours = plt.contour(x_grid,y_grid,prob_contour)\n",
    "plt.title('Probability Contours')\n",
    "plt.clabel(contours, inline = True );"
   ]
  },
  {
   "cell_type": "code",
   "execution_count": null,
   "id": "e81b4ac7",
   "metadata": {
    "papermill": {
     "duration": 0.050131,
     "end_time": "2022-06-21T00:40:44.499915",
     "exception": false,
     "start_time": "2022-06-21T00:40:44.449784",
     "status": "completed"
    },
    "tags": []
   },
   "outputs": [],
   "source": []
  }
 ],
 "metadata": {
  "kernelspec": {
   "display_name": "Python 3",
   "language": "python",
   "name": "python3"
  },
  "language_info": {
   "codemirror_mode": {
    "name": "ipython",
    "version": 3
   },
   "file_extension": ".py",
   "mimetype": "text/x-python",
   "name": "python",
   "nbconvert_exporter": "python",
   "pygments_lexer": "ipython3",
   "version": "3.6.15"
  },
  "papermill": {
   "default_parameters": {},
   "duration": 108.314235,
   "end_time": "2022-06-21T00:40:44.970611",
   "environment_variables": {},
   "exception": null,
   "input_path": "2020-08-11-part2.ipynb",
   "output_path": "2020-08-11-part2.ipynb",
   "parameters": {},
   "start_time": "2022-06-21T00:38:56.656376",
   "version": "2.3.3"
  }
 },
 "nbformat": 4,
 "nbformat_minor": 5
}