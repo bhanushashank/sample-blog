{
 "cells": [
  {
   "cell_type": "markdown",
   "id": "98380cd3",
   "metadata": {
    "papermill": {
     "duration": 0.035956,
     "end_time": "2021-11-12T10:07:36.501817",
     "exception": false,
     "start_time": "2021-11-12T10:07:36.465861",
     "status": "completed"
    },
    "tags": []
   },
   "source": [
    "# Distinguish Your Own Digits (DYOD)"
   ]
  },
  {
   "cell_type": "markdown",
   "id": "ef31240d",
   "metadata": {
    "papermill": {
     "duration": 0.028652,
     "end_time": "2021-11-12T10:07:36.558378",
     "exception": false,
     "start_time": "2021-11-12T10:07:36.529726",
     "status": "completed"
    },
    "tags": []
   },
   "source": [
    "You are going to write a classifier that distinguishes between the number 3 and number 8."
   ]
  },
  {
   "cell_type": "code",
   "execution_count": 1,
   "id": "b15c8646",
   "metadata": {
    "execution": {
     "iopub.execute_input": "2021-11-12T10:07:36.625728Z",
     "iopub.status.busy": "2021-11-12T10:07:36.625120Z",
     "iopub.status.idle": "2021-11-12T10:07:36.635974Z",
     "shell.execute_reply": "2021-11-12T10:07:36.636489Z"
    },
    "papermill": {
     "duration": 0.051246,
     "end_time": "2021-11-12T10:07:36.636650",
     "exception": false,
     "start_time": "2021-11-12T10:07:36.585404",
     "status": "completed"
    },
    "tags": []
   },
   "outputs": [],
   "source": [
    "%load_ext autoreload\n",
    "%autoreload 2"
   ]
  },
  {
   "cell_type": "code",
   "execution_count": 2,
   "id": "22ef38dc",
   "metadata": {
    "execution": {
     "iopub.execute_input": "2021-11-12T10:07:36.696312Z",
     "iopub.status.busy": "2021-11-12T10:07:36.695716Z",
     "iopub.status.idle": "2021-11-12T10:07:37.267250Z",
     "shell.execute_reply": "2021-11-12T10:07:37.267748Z"
    },
    "papermill": {
     "duration": 0.604097,
     "end_time": "2021-11-12T10:07:37.267914",
     "exception": false,
     "start_time": "2021-11-12T10:07:36.663817",
     "status": "completed"
    },
    "tags": []
   },
   "outputs": [],
   "source": [
    "%matplotlib inline\n",
    "import numpy as np\n",
    "import matplotlib.pyplot as plt\n",
    "import pandas as pd"
   ]
  },
  {
   "cell_type": "markdown",
   "id": "ba036198",
   "metadata": {
    "papermill": {
     "duration": 0.027663,
     "end_time": "2021-11-12T10:07:37.323030",
     "exception": false,
     "start_time": "2021-11-12T10:07:37.295367",
     "status": "completed"
    },
    "tags": []
   },
   "source": [
    "From the command line run `pip install mnist`. This is a library that will help you bring down the mnist dataset. If you run this from a notebook, you need to put  `!pip install mnist` in a cell by itself."
   ]
  },
  {
   "cell_type": "code",
   "execution_count": 3,
   "id": "bb6ad8a1",
   "metadata": {
    "execution": {
     "iopub.execute_input": "2021-11-12T10:07:37.382471Z",
     "iopub.status.busy": "2021-11-12T10:07:37.381801Z",
     "iopub.status.idle": "2021-11-12T10:07:39.213110Z",
     "shell.execute_reply": "2021-11-12T10:07:39.212554Z"
    },
    "papermill": {
     "duration": 1.863236,
     "end_time": "2021-11-12T10:07:39.213245",
     "exception": false,
     "start_time": "2021-11-12T10:07:37.350009",
     "status": "completed"
    },
    "tags": []
   },
   "outputs": [
    {
     "name": "stdout",
     "output_type": "stream",
     "text": [
      "Collecting mnist\r\n",
      "  Downloading mnist-0.2.2-py2.py3-none-any.whl (3.5 kB)\r\n"
     ]
    },
    {
     "name": "stdout",
     "output_type": "stream",
     "text": [
      "Requirement already satisfied: numpy in /opt/hostedtoolcache/Python/3.6.15/x64/lib/python3.6/site-packages (from mnist) (1.19.5)\r\n"
     ]
    },
    {
     "name": "stdout",
     "output_type": "stream",
     "text": [
      "Installing collected packages: mnist\r\n"
     ]
    },
    {
     "name": "stdout",
     "output_type": "stream",
     "text": [
      "Successfully installed mnist-0.2.2\r\n"
     ]
    }
   ],
   "source": [
    "!pip install mnist"
   ]
  },
  {
   "cell_type": "markdown",
   "id": "69df9c9a",
   "metadata": {
    "papermill": {
     "duration": 0.028592,
     "end_time": "2021-11-12T10:07:39.270517",
     "exception": false,
     "start_time": "2021-11-12T10:07:39.241925",
     "status": "completed"
    },
    "tags": []
   },
   "source": [
    "## Preparing the Data"
   ]
  },
  {
   "cell_type": "code",
   "execution_count": 4,
   "id": "7f69d806",
   "metadata": {
    "execution": {
     "iopub.execute_input": "2021-11-12T10:07:39.335424Z",
     "iopub.status.busy": "2021-11-12T10:07:39.334814Z",
     "iopub.status.idle": "2021-11-12T10:07:39.350291Z",
     "shell.execute_reply": "2021-11-12T10:07:39.349745Z"
    },
    "papermill": {
     "duration": 0.051461,
     "end_time": "2021-11-12T10:07:39.350417",
     "exception": false,
     "start_time": "2021-11-12T10:07:39.298956",
     "status": "completed"
    },
    "tags": []
   },
   "outputs": [],
   "source": [
    "import mnist"
   ]
  },
  {
   "cell_type": "code",
   "execution_count": 5,
   "id": "a411e44f",
   "metadata": {
    "execution": {
     "iopub.execute_input": "2021-11-12T10:07:39.410941Z",
     "iopub.status.busy": "2021-11-12T10:07:39.410352Z",
     "iopub.status.idle": "2021-11-12T10:07:39.970856Z",
     "shell.execute_reply": "2021-11-12T10:07:39.969956Z"
    },
    "papermill": {
     "duration": 0.592338,
     "end_time": "2021-11-12T10:07:39.971004",
     "exception": false,
     "start_time": "2021-11-12T10:07:39.378666",
     "status": "completed"
    },
    "tags": []
   },
   "outputs": [],
   "source": [
    "train_images = mnist.train_images()\n",
    "train_labels = mnist.train_labels()"
   ]
  },
  {
   "cell_type": "code",
   "execution_count": 6,
   "id": "dceab3a5",
   "metadata": {
    "execution": {
     "iopub.execute_input": "2021-11-12T10:07:40.033447Z",
     "iopub.status.busy": "2021-11-12T10:07:40.032858Z",
     "iopub.status.idle": "2021-11-12T10:07:40.049007Z",
     "shell.execute_reply": "2021-11-12T10:07:40.048507Z"
    },
    "papermill": {
     "duration": 0.049419,
     "end_time": "2021-11-12T10:07:40.049124",
     "exception": false,
     "start_time": "2021-11-12T10:07:39.999705",
     "status": "completed"
    },
    "tags": []
   },
   "outputs": [
    {
     "data": {
      "text/plain": [
       "((60000, 28, 28), (60000,))"
      ]
     },
     "execution_count": 6,
     "metadata": {},
     "output_type": "execute_result"
    }
   ],
   "source": [
    "train_images.shape, train_labels.shape"
   ]
  },
  {
   "cell_type": "code",
   "execution_count": 7,
   "id": "f50dc2bb",
   "metadata": {
    "execution": {
     "iopub.execute_input": "2021-11-12T10:07:40.111694Z",
     "iopub.status.busy": "2021-11-12T10:07:40.111113Z",
     "iopub.status.idle": "2021-11-12T10:07:40.266143Z",
     "shell.execute_reply": "2021-11-12T10:07:40.265591Z"
    },
    "papermill": {
     "duration": 0.18838,
     "end_time": "2021-11-12T10:07:40.266314",
     "exception": false,
     "start_time": "2021-11-12T10:07:40.077934",
     "status": "completed"
    },
    "tags": []
   },
   "outputs": [],
   "source": [
    "test_images = mnist.test_images()\n",
    "test_labels = mnist.test_labels()"
   ]
  },
  {
   "cell_type": "code",
   "execution_count": 8,
   "id": "fc38cf1b",
   "metadata": {
    "execution": {
     "iopub.execute_input": "2021-11-12T10:07:40.330483Z",
     "iopub.status.busy": "2021-11-12T10:07:40.329773Z",
     "iopub.status.idle": "2021-11-12T10:07:40.343401Z",
     "shell.execute_reply": "2021-11-12T10:07:40.342897Z"
    },
    "papermill": {
     "duration": 0.04827,
     "end_time": "2021-11-12T10:07:40.343526",
     "exception": false,
     "start_time": "2021-11-12T10:07:40.295256",
     "status": "completed"
    },
    "tags": []
   },
   "outputs": [
    {
     "data": {
      "text/plain": [
       "((10000, 28, 28), (10000,))"
      ]
     },
     "execution_count": 8,
     "metadata": {},
     "output_type": "execute_result"
    }
   ],
   "source": [
    "test_images.shape, test_labels.shape"
   ]
  },
  {
   "cell_type": "code",
   "execution_count": 9,
   "id": "f9ed8fe0",
   "metadata": {
    "execution": {
     "iopub.execute_input": "2021-11-12T10:07:40.412621Z",
     "iopub.status.busy": "2021-11-12T10:07:40.412035Z",
     "iopub.status.idle": "2021-11-12T10:07:40.566666Z",
     "shell.execute_reply": "2021-11-12T10:07:40.565361Z"
    },
    "papermill": {
     "duration": 0.194547,
     "end_time": "2021-11-12T10:07:40.566884",
     "exception": false,
     "start_time": "2021-11-12T10:07:40.372337",
     "status": "completed"
    },
    "tags": []
   },
   "outputs": [
    {
     "name": "stdout",
     "output_type": "stream",
     "text": [
      "2\n"
     ]
    },
    {
     "data": {
      "text/plain": [
       "<matplotlib.image.AxesImage at 0x7f7c729ce0f0>"
      ]
     },
     "execution_count": 9,
     "metadata": {},
     "output_type": "execute_result"
    },
    {
     "data": {
      "image/png": "[encoded data removed]",
      "text/plain": [
       "<Figure size 432x288 with 1 Axes>"
      ]
     },
     "metadata": {
      "needs_background": "light"
     },
     "output_type": "display_data"
    }
   ],
   "source": [
    "image_index = 7776 # You may select anything up to 60,000\n",
    "print(train_labels[image_index]) \n",
    "plt.imshow(train_images[image_index], cmap='Greys')"
   ]
  },
  {
   "cell_type": "markdown",
   "id": "a8d2388d",
   "metadata": {
    "papermill": {
     "duration": 0.030176,
     "end_time": "2021-11-12T10:07:40.628457",
     "exception": false,
     "start_time": "2021-11-12T10:07:40.598281",
     "status": "completed"
    },
    "tags": []
   },
   "source": [
    "## Filter data to get 3 and 8 out"
   ]
  },
  {
   "cell_type": "code",
   "execution_count": 10,
   "id": "776f7fc7",
   "metadata": {
    "execution": {
     "iopub.execute_input": "2021-11-12T10:07:40.694954Z",
     "iopub.status.busy": "2021-11-12T10:07:40.694353Z",
     "iopub.status.idle": "2021-11-12T10:07:40.717499Z",
     "shell.execute_reply": "2021-11-12T10:07:40.716983Z"
    },
    "papermill": {
     "duration": 0.059239,
     "end_time": "2021-11-12T10:07:40.717625",
     "exception": false,
     "start_time": "2021-11-12T10:07:40.658386",
     "status": "completed"
    },
    "tags": []
   },
   "outputs": [],
   "source": [
    "train_filter = np.where((train_labels == 3 ) | (train_labels == 8))\n",
    "test_filter = np.where((test_labels == 3) | (test_labels == 8))\n",
    "X_train, y_train = train_images[train_filter], train_labels[train_filter]\n",
    "X_test, y_test = test_images[test_filter], test_labels[test_filter]"
   ]
  },
  {
   "cell_type": "markdown",
   "id": "948f0b7e",
   "metadata": {
    "papermill": {
     "duration": 0.030065,
     "end_time": "2021-11-12T10:07:40.778033",
     "exception": false,
     "start_time": "2021-11-12T10:07:40.747968",
     "status": "completed"
    },
    "tags": []
   },
   "source": [
    "We normalize the pizel values in the 0 to 1 range"
   ]
  },
  {
   "cell_type": "code",
   "execution_count": 11,
   "id": "ee4c2166",
   "metadata": {
    "execution": {
     "iopub.execute_input": "2021-11-12T10:07:40.842943Z",
     "iopub.status.busy": "2021-11-12T10:07:40.842351Z",
     "iopub.status.idle": "2021-11-12T10:07:40.896825Z",
     "shell.execute_reply": "2021-11-12T10:07:40.895950Z"
    },
    "papermill": {
     "duration": 0.08892,
     "end_time": "2021-11-12T10:07:40.897045",
     "exception": false,
     "start_time": "2021-11-12T10:07:40.808125",
     "status": "completed"
    },
    "tags": []
   },
   "outputs": [],
   "source": [
    "X_train = X_train/255.\n",
    "X_test = X_test/255."
   ]
  },
  {
   "cell_type": "markdown",
   "id": "ddcf4fab",
   "metadata": {
    "papermill": {
     "duration": 0.0303,
     "end_time": "2021-11-12T10:07:40.959940",
     "exception": false,
     "start_time": "2021-11-12T10:07:40.929640",
     "status": "completed"
    },
    "tags": []
   },
   "source": [
    "And setup the labels as 1 (when the digit is 3) and 0 (when the digit is 8)"
   ]
  },
  {
   "cell_type": "code",
   "execution_count": 12,
   "id": "7dc908f2",
   "metadata": {
    "execution": {
     "iopub.execute_input": "2021-11-12T10:07:41.025536Z",
     "iopub.status.busy": "2021-11-12T10:07:41.024952Z",
     "iopub.status.idle": "2021-11-12T10:07:41.038384Z",
     "shell.execute_reply": "2021-11-12T10:07:41.037857Z"
    },
    "papermill": {
     "duration": 0.048549,
     "end_time": "2021-11-12T10:07:41.038504",
     "exception": false,
     "start_time": "2021-11-12T10:07:40.989955",
     "status": "completed"
    },
    "tags": []
   },
   "outputs": [],
   "source": [
    "y_train = 1*(y_train==3)\n",
    "y_test = 1*(y_test==3)"
   ]
  },
  {
   "cell_type": "code",
   "execution_count": 13,
   "id": "01e4e969",
   "metadata": {
    "execution": {
     "iopub.execute_input": "2021-11-12T10:07:41.105499Z",
     "iopub.status.busy": "2021-11-12T10:07:41.103867Z",
     "iopub.status.idle": "2021-11-12T10:07:41.117642Z",
     "shell.execute_reply": "2021-11-12T10:07:41.118122Z"
    },
    "papermill": {
     "duration": 0.049601,
     "end_time": "2021-11-12T10:07:41.118288",
     "exception": false,
     "start_time": "2021-11-12T10:07:41.068687",
     "status": "completed"
    },
    "tags": []
   },
   "outputs": [
    {
     "data": {
      "text/plain": [
       "((11982, 28, 28), (1984, 28, 28))"
      ]
     },
     "execution_count": 13,
     "metadata": {},
     "output_type": "execute_result"
    }
   ],
   "source": [
    "X_train.shape, X_test.shape"
   ]
  },
  {
   "cell_type": "markdown",
   "id": "5ccf3f85",
   "metadata": {
    "papermill": {
     "duration": 0.030505,
     "end_time": "2021-11-12T10:07:41.182381",
     "exception": false,
     "start_time": "2021-11-12T10:07:41.151876",
     "status": "completed"
    },
    "tags": []
   },
   "source": [
    "We reshape the data to flatten the image pixels into a set of features or co-variates:"
   ]
  },
  {
   "cell_type": "code",
   "execution_count": 14,
   "id": "5286a4a3",
   "metadata": {
    "execution": {
     "iopub.execute_input": "2021-11-12T10:07:41.247972Z",
     "iopub.status.busy": "2021-11-12T10:07:41.247353Z",
     "iopub.status.idle": "2021-11-12T10:07:41.261858Z",
     "shell.execute_reply": "2021-11-12T10:07:41.261379Z"
    },
    "papermill": {
     "duration": 0.049031,
     "end_time": "2021-11-12T10:07:41.261983",
     "exception": false,
     "start_time": "2021-11-12T10:07:41.212952",
     "status": "completed"
    },
    "tags": []
   },
   "outputs": [
    {
     "data": {
      "text/plain": [
       "((11982, 784), (1984, 784))"
      ]
     },
     "execution_count": 14,
     "metadata": {},
     "output_type": "execute_result"
    }
   ],
   "source": [
    "X_train = X_train.reshape(X_train.shape[0], -1)\n",
    "X_test = X_test.reshape(X_test.shape[0], -1)\n",
    "X_train.shape, X_test.shape"
   ]
  },
  {
   "cell_type": "code",
   "execution_count": 15,
   "id": "73c5f88a",
   "metadata": {
    "execution": {
     "iopub.execute_input": "2021-11-12T10:07:41.329641Z",
     "iopub.status.busy": "2021-11-12T10:07:41.329026Z",
     "iopub.status.idle": "2021-11-12T10:07:41.348524Z",
     "shell.execute_reply": "2021-11-12T10:07:41.348028Z"
    },
    "papermill": {
     "duration": 0.056066,
     "end_time": "2021-11-12T10:07:41.348640",
     "exception": false,
     "start_time": "2021-11-12T10:07:41.292574",
     "status": "completed"
    },
    "tags": []
   },
   "outputs": [],
   "source": [
    "#Impoting functions from 'Kudzu'\n",
    "from kudzu.model import Model\n",
    "from kudzu.train import Learner\n",
    "from kudzu.optim import GD\n",
    "from kudzu.data import Data, Sampler,Dataloader\n",
    "\n",
    "from kudzu.callbacks import AccCallback\n",
    "from kudzu.callbacks import ClfCallback\n",
    "\n",
    "from kudzu.loss import MSE\n",
    "\n",
    "from kudzu.layer import Sigmoid,Relu\n",
    "from kudzu.layer import Affine"
   ]
  },
  {
   "cell_type": "markdown",
   "id": "bc01172a",
   "metadata": {
    "papermill": {
     "duration": 0.030628,
     "end_time": "2021-11-12T10:07:41.410057",
     "exception": false,
     "start_time": "2021-11-12T10:07:41.379429",
     "status": "completed"
    },
    "tags": []
   },
   "source": [
    "### Let us create a `Config` class, to store important parameters. \n",
    "This class essentially plays the role of a dictionary."
   ]
  },
  {
   "cell_type": "code",
   "execution_count": 16,
   "id": "978281aa",
   "metadata": {
    "execution": {
     "iopub.execute_input": "2021-11-12T10:07:41.476066Z",
     "iopub.status.busy": "2021-11-12T10:07:41.475474Z",
     "iopub.status.idle": "2021-11-12T10:07:41.490400Z",
     "shell.execute_reply": "2021-11-12T10:07:41.489894Z"
    },
    "papermill": {
     "duration": 0.050023,
     "end_time": "2021-11-12T10:07:41.490529",
     "exception": false,
     "start_time": "2021-11-12T10:07:41.440506",
     "status": "completed"
    },
    "tags": []
   },
   "outputs": [],
   "source": [
    "class Config:\n",
    "    pass\n",
    "config = Config()\n",
    "config.lr = 0.001\n",
    "config.num_epochs = 250\n",
    "config.bs = 50"
   ]
  },
  {
   "cell_type": "markdown",
   "id": "1385fa59",
   "metadata": {
    "papermill": {
     "duration": 0.030513,
     "end_time": "2021-11-12T10:07:41.551912",
     "exception": false,
     "start_time": "2021-11-12T10:07:41.521399",
     "status": "completed"
    },
    "tags": []
   },
   "source": [
    "### Running Models with the Training data\n",
    "Details about the network layers:\n",
    "- A first affine layer has 784 inputs and does 100 affine transforms. These are followed by a Relu\n",
    "- A second affine layer has 100 inputs from the 100 activations of the past layer, and does 100 affine transforms. These are followed by a Relu\n",
    "- A third affine layer has 100 activations and does 2 affine transformations to create an embedding for visualization. There is no non-linearity here.\n",
    "- A final \"logistic regression\" which has an affine transform from 2 inputs to 1 output, which is squeezed through a sigmoid.\n"
   ]
  },
  {
   "cell_type": "code",
   "execution_count": 17,
   "id": "2b9c66db",
   "metadata": {
    "execution": {
     "iopub.execute_input": "2021-11-12T10:07:41.618316Z",
     "iopub.status.busy": "2021-11-12T10:07:41.617695Z",
     "iopub.status.idle": "2021-11-12T10:07:41.637411Z",
     "shell.execute_reply": "2021-11-12T10:07:41.636910Z"
    },
    "papermill": {
     "duration": 0.054975,
     "end_time": "2021-11-12T10:07:41.637530",
     "exception": false,
     "start_time": "2021-11-12T10:07:41.582555",
     "status": "completed"
    },
    "tags": []
   },
   "outputs": [],
   "source": [
    "data = Data(X_train, y_train.reshape(-1,1))\n",
    "sampler = Sampler(data, config.bs, shuffle=True)\n",
    "\n",
    "dl = Dataloader(data, sampler)\n",
    "\n",
    "opt = GD(config.lr)\n",
    "loss = MSE()"
   ]
  },
  {
   "cell_type": "code",
   "execution_count": 18,
   "id": "b275e4c2",
   "metadata": {
    "execution": {
     "iopub.execute_input": "2021-11-12T10:07:41.703006Z",
     "iopub.status.busy": "2021-11-12T10:07:41.702402Z",
     "iopub.status.idle": "2021-11-12T10:07:41.715447Z",
     "shell.execute_reply": "2021-11-12T10:07:41.714945Z"
    },
    "papermill": {
     "duration": 0.047325,
     "end_time": "2021-11-12T10:07:41.715566",
     "exception": false,
     "start_time": "2021-11-12T10:07:41.668241",
     "status": "completed"
    },
    "tags": []
   },
   "outputs": [],
   "source": [
    "training_data_x = X_train\n",
    "testing_data_x = X_test\n",
    "training_data_y = y_train.reshape(-1,1)\n",
    "testing_data_y = y_test.reshape(-1,1)"
   ]
  },
  {
   "cell_type": "code",
   "execution_count": 19,
   "id": "76951160",
   "metadata": {
    "execution": {
     "iopub.execute_input": "2021-11-12T10:07:41.781794Z",
     "iopub.status.busy": "2021-11-12T10:07:41.781194Z",
     "iopub.status.idle": "2021-11-12T10:07:41.798967Z",
     "shell.execute_reply": "2021-11-12T10:07:41.798461Z"
    },
    "papermill": {
     "duration": 0.052955,
     "end_time": "2021-11-12T10:07:41.799083",
     "exception": false,
     "start_time": "2021-11-12T10:07:41.746128",
     "status": "completed"
    },
    "tags": []
   },
   "outputs": [
    {
     "name": "stdout",
     "output_type": "stream",
     "text": [
      "xavier\n",
      "xavier\n",
      "xavier\n",
      "xavier\n",
      "xavier\n"
     ]
    }
   ],
   "source": [
    "layers = [Affine(\"first\", 784, 100), Relu(\"first\"), Affine(\"second\", 100, 100), Relu(\"second\"), Affine(\"third\", 100, 2), Affine(\"last\", 2, 1), Sigmoid(\"last\")]\n",
    "model_nn = Model(layers)\n",
    "model_lr = Model([Affine(\"logits\", 784, 1), Sigmoid(\"sigmoid\")])"
   ]
  },
  {
   "cell_type": "code",
   "execution_count": 20,
   "id": "6eede77a",
   "metadata": {
    "execution": {
     "iopub.execute_input": "2021-11-12T10:07:41.865707Z",
     "iopub.status.busy": "2021-11-12T10:07:41.865127Z",
     "iopub.status.idle": "2021-11-12T10:07:41.878185Z",
     "shell.execute_reply": "2021-11-12T10:07:41.877692Z"
    },
    "papermill": {
     "duration": 0.048088,
     "end_time": "2021-11-12T10:07:41.878311",
     "exception": false,
     "start_time": "2021-11-12T10:07:41.830223",
     "status": "completed"
    },
    "tags": []
   },
   "outputs": [],
   "source": [
    "nn_learner = Learner(loss, model_nn, opt, config.num_epochs)\n",
    "acc_nn = ClfCallback(nn_learner, config.bs, training_data_x , testing_data_x, training_data_y, testing_data_y)\n",
    "nn_learner.set_callbacks([acc_nn])"
   ]
  },
  {
   "cell_type": "code",
   "execution_count": 21,
   "id": "877b6cc7",
   "metadata": {
    "execution": {
     "iopub.execute_input": "2021-11-12T10:07:41.945627Z",
     "iopub.status.busy": "2021-11-12T10:07:41.945033Z",
     "iopub.status.idle": "2021-11-12T10:07:41.957786Z",
     "shell.execute_reply": "2021-11-12T10:07:41.957315Z"
    },
    "papermill": {
     "duration": 0.048761,
     "end_time": "2021-11-12T10:07:41.957906",
     "exception": false,
     "start_time": "2021-11-12T10:07:41.909145",
     "status": "completed"
    },
    "tags": []
   },
   "outputs": [],
   "source": [
    "lr_learner = Learner(loss, model_lr, opt, config.num_epochs)\n",
    "acc_lr = ClfCallback(lr_learner, config.bs, training_data_x , testing_data_x, training_data_y, testing_data_y)\n",
    "lr_learner.set_callbacks([acc_lr])"
   ]
  },
  {
   "cell_type": "code",
   "execution_count": 22,
   "id": "d9b133c3",
   "metadata": {
    "execution": {
     "iopub.execute_input": "2021-11-12T10:07:42.023534Z",
     "iopub.status.busy": "2021-11-12T10:07:42.022949Z",
     "iopub.status.idle": "2021-11-12T10:09:08.766033Z",
     "shell.execute_reply": "2021-11-12T10:09:08.766904Z"
    },
    "papermill": {
     "duration": 86.778136,
     "end_time": "2021-11-12T10:09:08.767071",
     "exception": false,
     "start_time": "2021-11-12T10:07:41.988935",
     "status": "completed"
    },
    "tags": []
   },
   "outputs": [
    {
     "name": "stdout",
     "output_type": "stream",
     "text": [
      "Epoch 0, Loss 0.2567\n",
      "Training Accuracy: 0.4972, Testing Accuracy: 0.4909\n",
      "\n"
     ]
    },
    {
     "name": "stdout",
     "output_type": "stream",
     "text": [
      "Epoch 10, Loss 0.164\n",
      "Training Accuracy: 0.8928, Testing Accuracy: 0.9017\n",
      "\n"
     ]
    },
    {
     "name": "stdout",
     "output_type": "stream",
     "text": [
      "Epoch 20, Loss 0.0793\n",
      "Training Accuracy: 0.9245, Testing Accuracy: 0.9325\n",
      "\n"
     ]
    },
    {
     "name": "stdout",
     "output_type": "stream",
     "text": [
      "Epoch 30, Loss 0.0545\n",
      "Training Accuracy: 0.9410, Testing Accuracy: 0.9506\n",
      "\n"
     ]
    },
    {
     "name": "stdout",
     "output_type": "stream",
     "text": [
      "Epoch 40, Loss 0.0445\n",
      "Training Accuracy: 0.9495, Testing Accuracy: 0.9561\n",
      "\n"
     ]
    },
    {
     "name": "stdout",
     "output_type": "stream",
     "text": [
      "Epoch 50, Loss 0.0392\n",
      "Training Accuracy: 0.9542, Testing Accuracy: 0.9597\n",
      "\n"
     ]
    },
    {
     "name": "stdout",
     "output_type": "stream",
     "text": [
      "Epoch 60, Loss 0.0358\n",
      "Training Accuracy: 0.9578, Testing Accuracy: 0.9632\n",
      "\n"
     ]
    },
    {
     "name": "stdout",
     "output_type": "stream",
     "text": [
      "Epoch 70, Loss 0.0334\n",
      "Training Accuracy: 0.9608, Testing Accuracy: 0.9682\n",
      "\n"
     ]
    },
    {
     "name": "stdout",
     "output_type": "stream",
     "text": [
      "Epoch 80, Loss 0.0315\n",
      "Training Accuracy: 0.9634, Testing Accuracy: 0.9708\n",
      "\n"
     ]
    },
    {
     "name": "stdout",
     "output_type": "stream",
     "text": [
      "Epoch 90, Loss 0.0301\n",
      "Training Accuracy: 0.9647, Testing Accuracy: 0.9718\n",
      "\n"
     ]
    },
    {
     "name": "stdout",
     "output_type": "stream",
     "text": [
      "Epoch 100, Loss 0.0288\n",
      "Training Accuracy: 0.9666, Testing Accuracy: 0.9723\n",
      "\n"
     ]
    },
    {
     "name": "stdout",
     "output_type": "stream",
     "text": [
      "Epoch 110, Loss 0.0278\n",
      "Training Accuracy: 0.9675, Testing Accuracy: 0.9728\n",
      "\n"
     ]
    },
    {
     "name": "stdout",
     "output_type": "stream",
     "text": [
      "Epoch 120, Loss 0.0269\n",
      "Training Accuracy: 0.9695, Testing Accuracy: 0.9738\n",
      "\n"
     ]
    },
    {
     "name": "stdout",
     "output_type": "stream",
     "text": [
      "Epoch 130, Loss 0.0261\n",
      "Training Accuracy: 0.9704, Testing Accuracy: 0.9743\n",
      "\n"
     ]
    },
    {
     "name": "stdout",
     "output_type": "stream",
     "text": [
      "Epoch 140, Loss 0.0254\n",
      "Training Accuracy: 0.9715, Testing Accuracy: 0.9753\n",
      "\n"
     ]
    },
    {
     "name": "stdout",
     "output_type": "stream",
     "text": [
      "Epoch 150, Loss 0.0247\n",
      "Training Accuracy: 0.9720, Testing Accuracy: 0.9758\n",
      "\n"
     ]
    },
    {
     "name": "stdout",
     "output_type": "stream",
     "text": [
      "Epoch 160, Loss 0.0241\n",
      "Training Accuracy: 0.9733, Testing Accuracy: 0.9758\n",
      "\n"
     ]
    },
    {
     "name": "stdout",
     "output_type": "stream",
     "text": [
      "Epoch 170, Loss 0.0235\n",
      "Training Accuracy: 0.9738, Testing Accuracy: 0.9768\n",
      "\n"
     ]
    },
    {
     "name": "stdout",
     "output_type": "stream",
     "text": [
      "Epoch 180, Loss 0.023\n",
      "Training Accuracy: 0.9740, Testing Accuracy: 0.9768\n",
      "\n"
     ]
    },
    {
     "name": "stdout",
     "output_type": "stream",
     "text": [
      "Epoch 190, Loss 0.0225\n",
      "Training Accuracy: 0.9750, Testing Accuracy: 0.9773\n",
      "\n"
     ]
    },
    {
     "name": "stdout",
     "output_type": "stream",
     "text": [
      "Epoch 200, Loss 0.022\n",
      "Training Accuracy: 0.9755, Testing Accuracy: 0.9778\n",
      "\n"
     ]
    },
    {
     "name": "stdout",
     "output_type": "stream",
     "text": [
      "Epoch 210, Loss 0.0215\n",
      "Training Accuracy: 0.9760, Testing Accuracy: 0.9778\n",
      "\n"
     ]
    },
    {
     "name": "stdout",
     "output_type": "stream",
     "text": [
      "Epoch 220, Loss 0.0211\n",
      "Training Accuracy: 0.9766, Testing Accuracy: 0.9778\n",
      "\n"
     ]
    },
    {
     "name": "stdout",
     "output_type": "stream",
     "text": [
      "Epoch 230, Loss 0.0207\n",
      "Training Accuracy: 0.9774, Testing Accuracy: 0.9783\n",
      "\n"
     ]
    },
    {
     "name": "stdout",
     "output_type": "stream",
     "text": [
      "Epoch 240, Loss 0.0203\n",
      "Training Accuracy: 0.9779, Testing Accuracy: 0.9783\n",
      "\n"
     ]
    },
    {
     "data": {
      "text/plain": [
       "0.02512818381065851"
      ]
     },
     "execution_count": 22,
     "metadata": {},
     "output_type": "execute_result"
    }
   ],
   "source": [
    "nn_learner.train_loop(dl)"
   ]
  },
  {
   "cell_type": "code",
   "execution_count": 23,
   "id": "e0163366",
   "metadata": {
    "execution": {
     "iopub.execute_input": "2021-11-12T10:09:08.855643Z",
     "iopub.status.busy": "2021-11-12T10:09:08.855055Z",
     "iopub.status.idle": "2021-11-12T10:09:24.446930Z",
     "shell.execute_reply": "2021-11-12T10:09:24.447771Z"
    },
    "papermill": {
     "duration": 15.641043,
     "end_time": "2021-11-12T10:09:24.447932",
     "exception": false,
     "start_time": "2021-11-12T10:09:08.806889",
     "status": "completed"
    },
    "tags": []
   },
   "outputs": [
    {
     "name": "stdout",
     "output_type": "stream",
     "text": [
      "Epoch 0, Loss 0.2275\n",
      "Training Accuracy: 0.7520, Testing Accuracy: 0.7571\n",
      "\n"
     ]
    },
    {
     "name": "stdout",
     "output_type": "stream",
     "text": [
      "Epoch 10, Loss 0.1011\n",
      "Training Accuracy: 0.9123, Testing Accuracy: 0.9244\n",
      "\n"
     ]
    },
    {
     "name": "stdout",
     "output_type": "stream",
     "text": [
      "Epoch 20, Loss 0.0777\n",
      "Training Accuracy: 0.9324, Testing Accuracy: 0.9420\n",
      "\n"
     ]
    },
    {
     "name": "stdout",
     "output_type": "stream",
     "text": [
      "Epoch 30, Loss 0.0669\n",
      "Training Accuracy: 0.9424, Testing Accuracy: 0.9491\n",
      "\n"
     ]
    },
    {
     "name": "stdout",
     "output_type": "stream",
     "text": [
      "Epoch 40, Loss 0.0604\n",
      "Training Accuracy: 0.9453, Testing Accuracy: 0.9531\n",
      "\n"
     ]
    },
    {
     "name": "stdout",
     "output_type": "stream",
     "text": [
      "Epoch 50, Loss 0.056\n",
      "Training Accuracy: 0.9495, Testing Accuracy: 0.9572\n",
      "\n"
     ]
    },
    {
     "name": "stdout",
     "output_type": "stream",
     "text": [
      "Epoch 60, Loss 0.0528\n",
      "Training Accuracy: 0.9513, Testing Accuracy: 0.9572\n",
      "\n"
     ]
    },
    {
     "name": "stdout",
     "output_type": "stream",
     "text": [
      "Epoch 70, Loss 0.0504\n",
      "Training Accuracy: 0.9526, Testing Accuracy: 0.9582\n",
      "\n"
     ]
    },
    {
     "name": "stdout",
     "output_type": "stream",
     "text": [
      "Epoch 80, Loss 0.0484\n",
      "Training Accuracy: 0.9540, Testing Accuracy: 0.9602\n",
      "\n"
     ]
    },
    {
     "name": "stdout",
     "output_type": "stream",
     "text": [
      "Epoch 90, Loss 0.0468\n",
      "Training Accuracy: 0.9548, Testing Accuracy: 0.9622\n",
      "\n"
     ]
    },
    {
     "name": "stdout",
     "output_type": "stream",
     "text": [
      "Epoch 100, Loss 0.0455\n",
      "Training Accuracy: 0.9564, Testing Accuracy: 0.9627\n",
      "\n"
     ]
    },
    {
     "name": "stdout",
     "output_type": "stream",
     "text": [
      "Epoch 110, Loss 0.0443\n",
      "Training Accuracy: 0.9569, Testing Accuracy: 0.9632\n",
      "\n"
     ]
    },
    {
     "name": "stdout",
     "output_type": "stream",
     "text": [
      "Epoch 120, Loss 0.0433\n",
      "Training Accuracy: 0.9574, Testing Accuracy: 0.9637\n",
      "\n"
     ]
    },
    {
     "name": "stdout",
     "output_type": "stream",
     "text": [
      "Epoch 130, Loss 0.0424\n",
      "Training Accuracy: 0.9576, Testing Accuracy: 0.9647\n",
      "\n"
     ]
    },
    {
     "name": "stdout",
     "output_type": "stream",
     "text": [
      "Epoch 140, Loss 0.0416\n",
      "Training Accuracy: 0.9579, Testing Accuracy: 0.9652\n",
      "\n"
     ]
    },
    {
     "name": "stdout",
     "output_type": "stream",
     "text": [
      "Epoch 150, Loss 0.0409\n",
      "Training Accuracy: 0.9585, Testing Accuracy: 0.9652\n",
      "\n"
     ]
    },
    {
     "name": "stdout",
     "output_type": "stream",
     "text": [
      "Epoch 160, Loss 0.0403\n",
      "Training Accuracy: 0.9593, Testing Accuracy: 0.9657\n",
      "\n"
     ]
    },
    {
     "name": "stdout",
     "output_type": "stream",
     "text": [
      "Epoch 170, Loss 0.0397\n",
      "Training Accuracy: 0.9594, Testing Accuracy: 0.9657\n",
      "\n"
     ]
    },
    {
     "name": "stdout",
     "output_type": "stream",
     "text": [
      "Epoch 180, Loss 0.0391\n",
      "Training Accuracy: 0.9599, Testing Accuracy: 0.9657\n",
      "\n"
     ]
    },
    {
     "name": "stdout",
     "output_type": "stream",
     "text": [
      "Epoch 190, Loss 0.0386\n",
      "Training Accuracy: 0.9601, Testing Accuracy: 0.9657\n",
      "\n"
     ]
    },
    {
     "name": "stdout",
     "output_type": "stream",
     "text": [
      "Epoch 200, Loss 0.0382\n",
      "Training Accuracy: 0.9604, Testing Accuracy: 0.9667\n",
      "\n"
     ]
    },
    {
     "name": "stdout",
     "output_type": "stream",
     "text": [
      "Epoch 210, Loss 0.0378\n",
      "Training Accuracy: 0.9609, Testing Accuracy: 0.9672\n",
      "\n"
     ]
    },
    {
     "name": "stdout",
     "output_type": "stream",
     "text": [
      "Epoch 220, Loss 0.0374\n",
      "Training Accuracy: 0.9614, Testing Accuracy: 0.9672\n",
      "\n"
     ]
    },
    {
     "name": "stdout",
     "output_type": "stream",
     "text": [
      "Epoch 230, Loss 0.037\n",
      "Training Accuracy: 0.9619, Testing Accuracy: 0.9672\n",
      "\n"
     ]
    },
    {
     "name": "stdout",
     "output_type": "stream",
     "text": [
      "Epoch 240, Loss 0.0367\n",
      "Training Accuracy: 0.9622, Testing Accuracy: 0.9677\n",
      "\n"
     ]
    },
    {
     "data": {
      "text/plain": [
       "0.04541379379926603"
      ]
     },
     "execution_count": 23,
     "metadata": {},
     "output_type": "execute_result"
    }
   ],
   "source": [
    "lr_learner.train_loop(dl)"
   ]
  },
  {
   "cell_type": "code",
   "execution_count": 24,
   "id": "ca410940",
   "metadata": {
    "execution": {
     "iopub.execute_input": "2021-11-12T10:09:24.555696Z",
     "iopub.status.busy": "2021-11-12T10:09:24.555087Z",
     "iopub.status.idle": "2021-11-12T10:09:24.808544Z",
     "shell.execute_reply": "2021-11-12T10:09:24.807982Z"
    },
    "papermill": {
     "duration": 0.31374,
     "end_time": "2021-11-12T10:09:24.808680",
     "exception": false,
     "start_time": "2021-11-12T10:09:24.494940",
     "status": "completed"
    },
    "tags": []
   },
   "outputs": [
    {
     "data": {
      "text/plain": [
       "<matplotlib.legend.Legend at 0x7f7c72532780>"
      ]
     },
     "execution_count": 24,
     "metadata": {},
     "output_type": "execute_result"
    },
    {
     "data": {
      "image/png": "[encoded data removed]",
      "text/plain": [
       "<Figure size 1080x720 with 1 Axes>"
      ]
     },
     "metadata": {
      "needs_background": "light"
     },
     "output_type": "display_data"
    }
   ],
   "source": [
    "#comparing the results of NN and LR\n",
    "plt.figure(figsize=(15,10))\n",
    "\n",
    "# Neural Network plots\n",
    "plt.plot(acc_nn.accuracies, 'r-', label = \"Training Accuracies - NN\")\n",
    "plt.plot(acc_nn.test_accuracies, 'g-', label = \"Testing Accuracies - NN\")\n",
    "\n",
    "# Logistic Regression plots\n",
    "plt.plot(acc_lr.accuracies, 'k-', label = \"Training Accuracies - LR\")\n",
    "plt.plot(acc_lr.test_accuracies, 'b-', label = \"Testing Accuracies - LR\")\n",
    "plt.legend()"
   ]
  },
  {
   "cell_type": "markdown",
   "id": "80dfb35c",
   "metadata": {
    "papermill": {
     "duration": 0.048754,
     "end_time": "2021-11-12T10:09:24.905877",
     "exception": false,
     "start_time": "2021-11-12T10:09:24.857123",
     "status": "completed"
    },
    "tags": []
   },
   "source": [
    "#### Plotting the outputs of this layer of the NN.\n"
   ]
  },
  {
   "cell_type": "code",
   "execution_count": 25,
   "id": "45eb2ff5",
   "metadata": {
    "execution": {
     "iopub.execute_input": "2021-11-12T10:09:25.007548Z",
     "iopub.status.busy": "2021-11-12T10:09:25.006945Z",
     "iopub.status.idle": "2021-11-12T10:09:25.029681Z",
     "shell.execute_reply": "2021-11-12T10:09:25.030185Z"
    },
    "papermill": {
     "duration": 0.076215,
     "end_time": "2021-11-12T10:09:25.030342",
     "exception": false,
     "start_time": "2021-11-12T10:09:24.954127",
     "status": "completed"
    },
    "tags": []
   },
   "outputs": [],
   "source": [
    "new_model = Model(layers[:-2])\n",
    "testing_plot = new_model(testing_data_x)"
   ]
  },
  {
   "cell_type": "code",
   "execution_count": 26,
   "id": "4c0a5485",
   "metadata": {
    "execution": {
     "iopub.execute_input": "2021-11-12T10:09:25.135190Z",
     "iopub.status.busy": "2021-11-12T10:09:25.134583Z",
     "iopub.status.idle": "2021-11-12T10:09:25.370814Z",
     "shell.execute_reply": "2021-11-12T10:09:25.371300Z"
    },
    "papermill": {
     "duration": 0.289981,
     "end_time": "2021-11-12T10:09:25.371453",
     "exception": false,
     "start_time": "2021-11-12T10:09:25.081472",
     "status": "completed"
    },
    "tags": []
   },
   "outputs": [
    {
     "data": {
      "text/plain": [
       "Text(0.5, 1.0, 'Outputs')"
      ]
     },
     "execution_count": 26,
     "metadata": {},
     "output_type": "execute_result"
    },
    {
     "data": {
      "image/png": "[encoded data removed]",
      "text/plain": [
       "<Figure size 576x504 with 1 Axes>"
      ]
     },
     "metadata": {
      "needs_background": "light"
     },
     "output_type": "display_data"
    }
   ],
   "source": [
    "# Plotting the scatter plot of points and color coding by class\n",
    "plt.figure(figsize=(8,7))\n",
    "plt.scatter(testing_plot[:,0], testing_plot[:,1], alpha = 0.1, c = y_test.ravel());\n",
    "plt.title('Outputs')"
   ]
  },
  {
   "cell_type": "markdown",
   "id": "a74fcf8f",
   "metadata": {
    "papermill": {
     "duration": 0.050154,
     "end_time": "2021-11-12T10:09:25.472566",
     "exception": false,
     "start_time": "2021-11-12T10:09:25.422412",
     "status": "completed"
    },
    "tags": []
   },
   "source": [
    "Probability contours"
   ]
  },
  {
   "cell_type": "code",
   "execution_count": 27,
   "id": "d0afc8e3",
   "metadata": {
    "execution": {
     "iopub.execute_input": "2021-11-12T10:09:25.607487Z",
     "iopub.status.busy": "2021-11-12T10:09:25.606878Z",
     "iopub.status.idle": "2021-11-12T10:09:25.621027Z",
     "shell.execute_reply": "2021-11-12T10:09:25.620524Z"
    },
    "papermill": {
     "duration": 0.098,
     "end_time": "2021-11-12T10:09:25.621148",
     "exception": false,
     "start_time": "2021-11-12T10:09:25.523148",
     "status": "completed"
    },
    "tags": []
   },
   "outputs": [],
   "source": [
    "model_prob = Model(layers[-2:]) "
   ]
  },
  {
   "cell_type": "code",
   "execution_count": 28,
   "id": "9b96e238",
   "metadata": {
    "execution": {
     "iopub.execute_input": "2021-11-12T10:09:25.729903Z",
     "iopub.status.busy": "2021-11-12T10:09:25.729281Z",
     "iopub.status.idle": "2021-11-12T10:09:25.745354Z",
     "shell.execute_reply": "2021-11-12T10:09:25.745866Z"
    },
    "papermill": {
     "duration": 0.074666,
     "end_time": "2021-11-12T10:09:25.746020",
     "exception": false,
     "start_time": "2021-11-12T10:09:25.671354",
     "status": "completed"
    },
    "tags": []
   },
   "outputs": [],
   "source": [
    "#creating the x and y ranges according to the above generated plot.\n",
    "x_range = np.linspace(-4, 1, 100) \n",
    "y_range = np.linspace(-6, 6, 100) \n",
    "x_grid, y_grid = np.meshgrid(x_range, y_range) # x_grid and y_grig are of size 100 X 100\n",
    "\n",
    "# converting x_grid and y_grid to continuous arrays\n",
    "x_gridflat = np.ravel(x_grid)\n",
    "y_gridflat = np.ravel(y_grid)\n",
    "\n",
    "# The last layer of the current model takes two columns as input. Hence transpose of np.vstack() is required.\n",
    "X = np.vstack((x_gridflat, y_gridflat)).T\n",
    "\n",
    "prob_contour = model_prob(X).reshape(100,100) "
   ]
  },
  {
   "cell_type": "code",
   "execution_count": 29,
   "id": "da72499a",
   "metadata": {
    "execution": {
     "iopub.execute_input": "2021-11-12T10:09:25.859783Z",
     "iopub.status.busy": "2021-11-12T10:09:25.859188Z",
     "iopub.status.idle": "2021-11-12T10:09:26.140066Z",
     "shell.execute_reply": "2021-11-12T10:09:26.139573Z"
    },
    "papermill": {
     "duration": 0.342808,
     "end_time": "2021-11-12T10:09:26.140200",
     "exception": false,
     "start_time": "2021-11-12T10:09:25.797392",
     "status": "completed"
    },
    "tags": []
   },
   "outputs": [
    {
     "data": {
      "image/png": "[encoded data removed]",
      "text/plain": [
       "<Figure size 720x648 with 1 Axes>"
      ]
     },
     "metadata": {
      "needs_background": "light"
     },
     "output_type": "display_data"
    }
   ],
   "source": [
    "plt.figure(figsize=(10,9))\n",
    "plt.scatter(testing_plot[:,0], testing_plot[:,1], alpha = 0.1, c = y_test.ravel())\n",
    "contours = plt.contour(x_grid,y_grid,prob_contour)\n",
    "plt.title('Probability Contours')\n",
    "plt.clabel(contours, inline = True );"
   ]
  },
  {
   "cell_type": "code",
   "execution_count": null,
   "id": "e81b4ac7",
   "metadata": {
    "papermill": {
     "duration": 0.053342,
     "end_time": "2021-11-12T10:09:26.247125",
     "exception": false,
     "start_time": "2021-11-12T10:09:26.193783",
     "status": "completed"
    },
    "tags": []
   },
   "outputs": [],
   "source": []
  }
 ],
 "metadata": {
  "kernelspec": {
   "display_name": "Python 3",
   "language": "python",
   "name": "python3"
  },
  "language_info": {
   "codemirror_mode": {
    "name": "ipython",
    "version": 3
   },
   "file_extension": ".py",
   "mimetype": "text/x-python",
   "name": "python",
   "nbconvert_exporter": "python",
   "pygments_lexer": "ipython3",
   "version": "3.6.15"
  },
  "papermill": {
   "default_parameters": {},
   "duration": 111.32059,
   "end_time": "2021-11-12T10:09:26.711011",
   "environment_variables": {},
   "exception": null,
   "input_path": "2020-08-11-part2.ipynb",
   "output_path": "2020-08-11-part2.ipynb",
   "parameters": {},
   "start_time": "2021-11-12T10:07:35.390421",
   "version": "2.3.3"
  }
 },
 "nbformat": 4,
 "nbformat_minor": 5
}