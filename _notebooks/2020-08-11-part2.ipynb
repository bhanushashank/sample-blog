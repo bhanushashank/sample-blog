{
 "cells": [
  {
   "cell_type": "markdown",
   "id": "98380cd3",
   "metadata": {
    "papermill": {
     "duration": 0.029014,
     "end_time": "2022-08-11T20:10:23.452854",
     "exception": false,
     "start_time": "2022-08-11T20:10:23.423840",
     "status": "completed"
    },
    "tags": []
   },
   "source": [
    "# Distinguish Your Own Digits (DYOD)"
   ]
  },
  {
   "cell_type": "markdown",
   "id": "ef31240d",
   "metadata": {
    "papermill": {
     "duration": 0.024208,
     "end_time": "2022-08-11T20:10:23.501870",
     "exception": false,
     "start_time": "2022-08-11T20:10:23.477662",
     "status": "completed"
    },
    "tags": []
   },
   "source": [
    "You are going to write a classifier that distinguishes between the number 3 and number 8."
   ]
  },
  {
   "cell_type": "code",
   "execution_count": 1,
   "id": "b15c8646",
   "metadata": {
    "execution": {
     "iopub.execute_input": "2022-08-11T20:10:23.560288Z",
     "iopub.status.busy": "2022-08-11T20:10:23.559713Z",
     "iopub.status.idle": "2022-08-11T20:10:23.570346Z",
     "shell.execute_reply": "2022-08-11T20:10:23.569872Z"
    },
    "papermill": {
     "duration": 0.044455,
     "end_time": "2022-08-11T20:10:23.570464",
     "exception": false,
     "start_time": "2022-08-11T20:10:23.526009",
     "status": "completed"
    },
    "tags": []
   },
   "outputs": [],
   "source": [
    "%load_ext autoreload\n",
    "%autoreload 2"
   ]
  },
  {
   "cell_type": "code",
   "execution_count": 2,
   "id": "22ef38dc",
   "metadata": {
    "execution": {
     "iopub.execute_input": "2022-08-11T20:10:23.622914Z",
     "iopub.status.busy": "2022-08-11T20:10:23.622335Z",
     "iopub.status.idle": "2022-08-11T20:10:24.143439Z",
     "shell.execute_reply": "2022-08-11T20:10:24.142937Z"
    },
    "papermill": {
     "duration": 0.548835,
     "end_time": "2022-08-11T20:10:24.143557",
     "exception": false,
     "start_time": "2022-08-11T20:10:23.594722",
     "status": "completed"
    },
    "tags": []
   },
   "outputs": [],
   "source": [
    "%matplotlib inline\n",
    "import numpy as np\n",
    "import matplotlib.pyplot as plt\n",
    "import pandas as pd"
   ]
  },
  {
   "cell_type": "markdown",
   "id": "ba036198",
   "metadata": {
    "papermill": {
     "duration": 0.024096,
     "end_time": "2022-08-11T20:10:24.191831",
     "exception": false,
     "start_time": "2022-08-11T20:10:24.167735",
     "status": "completed"
    },
    "tags": []
   },
   "source": [
    "From the command line run `pip install mnist`. This is a library that will help you bring down the mnist dataset. If you run this from a notebook, you need to put  `!pip install mnist` in a cell by itself."
   ]
  },
  {
   "cell_type": "code",
   "execution_count": 3,
   "id": "bb6ad8a1",
   "metadata": {
    "execution": {
     "iopub.execute_input": "2022-08-11T20:10:24.244255Z",
     "iopub.status.busy": "2022-08-11T20:10:24.243699Z",
     "iopub.status.idle": "2022-08-11T20:10:25.907518Z",
     "shell.execute_reply": "2022-08-11T20:10:25.906999Z"
    },
    "papermill": {
     "duration": 1.691459,
     "end_time": "2022-08-11T20:10:25.907627",
     "exception": false,
     "start_time": "2022-08-11T20:10:24.216168",
     "status": "completed"
    },
    "tags": []
   },
   "outputs": [
    {
     "name": "stdout",
     "output_type": "stream",
     "text": [
      "Collecting mnist\r\n"
     ]
    },
    {
     "name": "stdout",
     "output_type": "stream",
     "text": [
      "  Downloading mnist-0.2.2-py2.py3-none-any.whl (3.5 kB)\r\n",
      "Requirement already satisfied: numpy in /opt/hostedtoolcache/Python/3.6.15/x64/lib/python3.6/site-packages (from mnist) (1.19.5)\r\n"
     ]
    },
    {
     "name": "stdout",
     "output_type": "stream",
     "text": [
      "Installing collected packages: mnist\r\n"
     ]
    },
    {
     "name": "stdout",
     "output_type": "stream",
     "text": [
      "Successfully installed mnist-0.2.2\r\n"
     ]
    }
   ],
   "source": [
    "!pip install mnist"
   ]
  },
  {
   "cell_type": "markdown",
   "id": "69df9c9a",
   "metadata": {
    "papermill": {
     "duration": 0.025175,
     "end_time": "2022-08-11T20:10:25.958199",
     "exception": false,
     "start_time": "2022-08-11T20:10:25.933024",
     "status": "completed"
    },
    "tags": []
   },
   "source": [
    "## Preparing the Data"
   ]
  },
  {
   "cell_type": "code",
   "execution_count": 4,
   "id": "7f69d806",
   "metadata": {
    "execution": {
     "iopub.execute_input": "2022-08-11T20:10:26.012318Z",
     "iopub.status.busy": "2022-08-11T20:10:26.011768Z",
     "iopub.status.idle": "2022-08-11T20:10:26.026394Z",
     "shell.execute_reply": "2022-08-11T20:10:26.025934Z"
    },
    "papermill": {
     "duration": 0.043263,
     "end_time": "2022-08-11T20:10:26.026500",
     "exception": false,
     "start_time": "2022-08-11T20:10:25.983237",
     "status": "completed"
    },
    "tags": []
   },
   "outputs": [],
   "source": [
    "import mnist"
   ]
  },
  {
   "cell_type": "code",
   "execution_count": 5,
   "id": "a411e44f",
   "metadata": {
    "execution": {
     "iopub.execute_input": "2022-08-11T20:10:26.080651Z",
     "iopub.status.busy": "2022-08-11T20:10:26.080086Z",
     "iopub.status.idle": "2022-08-11T20:10:26.765528Z",
     "shell.execute_reply": "2022-08-11T20:10:26.764582Z"
    },
    "papermill": {
     "duration": 0.713864,
     "end_time": "2022-08-11T20:10:26.765652",
     "exception": false,
     "start_time": "2022-08-11T20:10:26.051788",
     "status": "completed"
    },
    "tags": []
   },
   "outputs": [],
   "source": [
    "train_images = mnist.train_images()\n",
    "train_labels = mnist.train_labels()"
   ]
  },
  {
   "cell_type": "code",
   "execution_count": 6,
   "id": "dceab3a5",
   "metadata": {
    "execution": {
     "iopub.execute_input": "2022-08-11T20:10:26.823743Z",
     "iopub.status.busy": "2022-08-11T20:10:26.820884Z",
     "iopub.status.idle": "2022-08-11T20:10:26.835440Z",
     "shell.execute_reply": "2022-08-11T20:10:26.834879Z"
    },
    "papermill": {
     "duration": 0.044422,
     "end_time": "2022-08-11T20:10:26.835545",
     "exception": false,
     "start_time": "2022-08-11T20:10:26.791123",
     "status": "completed"
    },
    "tags": []
   },
   "outputs": [
    {
     "data": {
      "text/plain": [
       "((60000, 28, 28), (60000,))"
      ]
     },
     "execution_count": 6,
     "metadata": {},
     "output_type": "execute_result"
    }
   ],
   "source": [
    "train_images.shape, train_labels.shape"
   ]
  },
  {
   "cell_type": "code",
   "execution_count": 7,
   "id": "f50dc2bb",
   "metadata": {
    "execution": {
     "iopub.execute_input": "2022-08-11T20:10:26.890160Z",
     "iopub.status.busy": "2022-08-11T20:10:26.889610Z",
     "iopub.status.idle": "2022-08-11T20:10:27.150229Z",
     "shell.execute_reply": "2022-08-11T20:10:27.148961Z"
    },
    "papermill": {
     "duration": 0.289429,
     "end_time": "2022-08-11T20:10:27.150344",
     "exception": false,
     "start_time": "2022-08-11T20:10:26.860915",
     "status": "completed"
    },
    "tags": []
   },
   "outputs": [],
   "source": [
    "test_images = mnist.test_images()\n",
    "test_labels = mnist.test_labels()"
   ]
  },
  {
   "cell_type": "code",
   "execution_count": 8,
   "id": "fc38cf1b",
   "metadata": {
    "execution": {
     "iopub.execute_input": "2022-08-11T20:10:27.205188Z",
     "iopub.status.busy": "2022-08-11T20:10:27.204583Z",
     "iopub.status.idle": "2022-08-11T20:10:27.217941Z",
     "shell.execute_reply": "2022-08-11T20:10:27.217485Z"
    },
    "papermill": {
     "duration": 0.04217,
     "end_time": "2022-08-11T20:10:27.218046",
     "exception": false,
     "start_time": "2022-08-11T20:10:27.175876",
     "status": "completed"
    },
    "tags": []
   },
   "outputs": [
    {
     "data": {
      "text/plain": [
       "((10000, 28, 28), (10000,))"
      ]
     },
     "execution_count": 8,
     "metadata": {},
     "output_type": "execute_result"
    }
   ],
   "source": [
    "test_images.shape, test_labels.shape"
   ]
  },
  {
   "cell_type": "code",
   "execution_count": 9,
   "id": "f9ed8fe0",
   "metadata": {
    "execution": {
     "iopub.execute_input": "2022-08-11T20:10:27.273987Z",
     "iopub.status.busy": "2022-08-11T20:10:27.273403Z",
     "iopub.status.idle": "2022-08-11T20:10:27.406310Z",
     "shell.execute_reply": "2022-08-11T20:10:27.406754Z"
    },
    "papermill": {
     "duration": 0.163032,
     "end_time": "2022-08-11T20:10:27.406897",
     "exception": false,
     "start_time": "2022-08-11T20:10:27.243865",
     "status": "completed"
    },
    "tags": []
   },
   "outputs": [
    {
     "name": "stdout",
     "output_type": "stream",
     "text": [
      "2\n"
     ]
    },
    {
     "data": {
      "text/plain": [
       "<matplotlib.image.AxesImage at 0x7f81fd84a470>"
      ]
     },
     "execution_count": 9,
     "metadata": {},
     "output_type": "execute_result"
    },
    {
     "data": {
      "image/png": "[encoded data removed]",
      "text/plain": [
       "<Figure size 432x288 with 1 Axes>"
      ]
     },
     "metadata": {
      "needs_background": "light"
     },
     "output_type": "display_data"
    }
   ],
   "source": [
    "image_index = 7776 # You may select anything up to 60,000\n",
    "print(train_labels[image_index]) \n",
    "plt.imshow(train_images[image_index], cmap='Greys')"
   ]
  },
  {
   "cell_type": "markdown",
   "id": "a8d2388d",
   "metadata": {
    "papermill": {
     "duration": 0.027058,
     "end_time": "2022-08-11T20:10:27.460926",
     "exception": false,
     "start_time": "2022-08-11T20:10:27.433868",
     "status": "completed"
    },
    "tags": []
   },
   "source": [
    "## Filter data to get 3 and 8 out"
   ]
  },
  {
   "cell_type": "code",
   "execution_count": 10,
   "id": "776f7fc7",
   "metadata": {
    "execution": {
     "iopub.execute_input": "2022-08-11T20:10:27.519133Z",
     "iopub.status.busy": "2022-08-11T20:10:27.518503Z",
     "iopub.status.idle": "2022-08-11T20:10:27.536693Z",
     "shell.execute_reply": "2022-08-11T20:10:27.536230Z"
    },
    "papermill": {
     "duration": 0.049107,
     "end_time": "2022-08-11T20:10:27.536801",
     "exception": false,
     "start_time": "2022-08-11T20:10:27.487694",
     "status": "completed"
    },
    "tags": []
   },
   "outputs": [],
   "source": [
    "train_filter = np.where((train_labels == 3 ) | (train_labels == 8))\n",
    "test_filter = np.where((test_labels == 3) | (test_labels == 8))\n",
    "X_train, y_train = train_images[train_filter], train_labels[train_filter]\n",
    "X_test, y_test = test_images[test_filter], test_labels[test_filter]"
   ]
  },
  {
   "cell_type": "markdown",
   "id": "948f0b7e",
   "metadata": {
    "papermill": {
     "duration": 0.027185,
     "end_time": "2022-08-11T20:10:27.590887",
     "exception": false,
     "start_time": "2022-08-11T20:10:27.563702",
     "status": "completed"
    },
    "tags": []
   },
   "source": [
    "We normalize the pizel values in the 0 to 1 range"
   ]
  },
  {
   "cell_type": "code",
   "execution_count": 11,
   "id": "ee4c2166",
   "metadata": {
    "execution": {
     "iopub.execute_input": "2022-08-11T20:10:27.647885Z",
     "iopub.status.busy": "2022-08-11T20:10:27.647318Z",
     "iopub.status.idle": "2022-08-11T20:10:27.689084Z",
     "shell.execute_reply": "2022-08-11T20:10:27.688604Z"
    },
    "papermill": {
     "duration": 0.07164,
     "end_time": "2022-08-11T20:10:27.689200",
     "exception": false,
     "start_time": "2022-08-11T20:10:27.617560",
     "status": "completed"
    },
    "tags": []
   },
   "outputs": [],
   "source": [
    "X_train = X_train/255.\n",
    "X_test = X_test/255."
   ]
  },
  {
   "cell_type": "markdown",
   "id": "ddcf4fab",
   "metadata": {
    "papermill": {
     "duration": 0.026967,
     "end_time": "2022-08-11T20:10:27.743204",
     "exception": false,
     "start_time": "2022-08-11T20:10:27.716237",
     "status": "completed"
    },
    "tags": []
   },
   "source": [
    "And setup the labels as 1 (when the digit is 3) and 0 (when the digit is 8)"
   ]
  },
  {
   "cell_type": "code",
   "execution_count": 12,
   "id": "7dc908f2",
   "metadata": {
    "execution": {
     "iopub.execute_input": "2022-08-11T20:10:27.801847Z",
     "iopub.status.busy": "2022-08-11T20:10:27.801264Z",
     "iopub.status.idle": "2022-08-11T20:10:27.813230Z",
     "shell.execute_reply": "2022-08-11T20:10:27.812789Z"
    },
    "papermill": {
     "duration": 0.042749,
     "end_time": "2022-08-11T20:10:27.813337",
     "exception": false,
     "start_time": "2022-08-11T20:10:27.770588",
     "status": "completed"
    },
    "tags": []
   },
   "outputs": [],
   "source": [
    "y_train = 1*(y_train==3)\n",
    "y_test = 1*(y_test==3)"
   ]
  },
  {
   "cell_type": "code",
   "execution_count": 13,
   "id": "01e4e969",
   "metadata": {
    "execution": {
     "iopub.execute_input": "2022-08-11T20:10:27.871141Z",
     "iopub.status.busy": "2022-08-11T20:10:27.870552Z",
     "iopub.status.idle": "2022-08-11T20:10:27.883365Z",
     "shell.execute_reply": "2022-08-11T20:10:27.883820Z"
    },
    "papermill": {
     "duration": 0.043536,
     "end_time": "2022-08-11T20:10:27.883940",
     "exception": false,
     "start_time": "2022-08-11T20:10:27.840404",
     "status": "completed"
    },
    "tags": []
   },
   "outputs": [
    {
     "data": {
      "text/plain": [
       "((11982, 28, 28), (1984, 28, 28))"
      ]
     },
     "execution_count": 13,
     "metadata": {},
     "output_type": "execute_result"
    }
   ],
   "source": [
    "X_train.shape, X_test.shape"
   ]
  },
  {
   "cell_type": "markdown",
   "id": "5ccf3f85",
   "metadata": {
    "papermill": {
     "duration": 0.026944,
     "end_time": "2022-08-11T20:10:27.938048",
     "exception": false,
     "start_time": "2022-08-11T20:10:27.911104",
     "status": "completed"
    },
    "tags": []
   },
   "source": [
    "We reshape the data to flatten the image pixels into a set of features or co-variates:"
   ]
  },
  {
   "cell_type": "code",
   "execution_count": 14,
   "id": "5286a4a3",
   "metadata": {
    "execution": {
     "iopub.execute_input": "2022-08-11T20:10:27.996396Z",
     "iopub.status.busy": "2022-08-11T20:10:27.995833Z",
     "iopub.status.idle": "2022-08-11T20:10:28.009675Z",
     "shell.execute_reply": "2022-08-11T20:10:28.009121Z"
    },
    "papermill": {
     "duration": 0.044578,
     "end_time": "2022-08-11T20:10:28.009784",
     "exception": false,
     "start_time": "2022-08-11T20:10:27.965206",
     "status": "completed"
    },
    "tags": []
   },
   "outputs": [
    {
     "data": {
      "text/plain": [
       "((11982, 784), (1984, 784))"
      ]
     },
     "execution_count": 14,
     "metadata": {},
     "output_type": "execute_result"
    }
   ],
   "source": [
    "X_train = X_train.reshape(X_train.shape[0], -1)\n",
    "X_test = X_test.reshape(X_test.shape[0], -1)\n",
    "X_train.shape, X_test.shape"
   ]
  },
  {
   "cell_type": "code",
   "execution_count": 15,
   "id": "73c5f88a",
   "metadata": {
    "execution": {
     "iopub.execute_input": "2022-08-11T20:10:28.068941Z",
     "iopub.status.busy": "2022-08-11T20:10:28.068370Z",
     "iopub.status.idle": "2022-08-11T20:10:28.087051Z",
     "shell.execute_reply": "2022-08-11T20:10:28.086580Z"
    },
    "papermill": {
     "duration": 0.049825,
     "end_time": "2022-08-11T20:10:28.087162",
     "exception": false,
     "start_time": "2022-08-11T20:10:28.037337",
     "status": "completed"
    },
    "tags": []
   },
   "outputs": [],
   "source": [
    "#Impoting functions from 'Kudzu'\n",
    "from kudzu.model import Model\n",
    "from kudzu.train import Learner\n",
    "from kudzu.optim import GD\n",
    "from kudzu.data import Data, Sampler,Dataloader\n",
    "\n",
    "from kudzu.callbacks import AccCallback\n",
    "from kudzu.callbacks import ClfCallback\n",
    "\n",
    "from kudzu.loss import MSE\n",
    "\n",
    "from kudzu.layer import Sigmoid,Relu\n",
    "from kudzu.layer import Affine"
   ]
  },
  {
   "cell_type": "markdown",
   "id": "bc01172a",
   "metadata": {
    "papermill": {
     "duration": 0.027432,
     "end_time": "2022-08-11T20:10:28.142374",
     "exception": false,
     "start_time": "2022-08-11T20:10:28.114942",
     "status": "completed"
    },
    "tags": []
   },
   "source": [
    "### Let us create a `Config` class, to store important parameters. \n",
    "This class essentially plays the role of a dictionary."
   ]
  },
  {
   "cell_type": "code",
   "execution_count": 16,
   "id": "978281aa",
   "metadata": {
    "execution": {
     "iopub.execute_input": "2022-08-11T20:10:28.201152Z",
     "iopub.status.busy": "2022-08-11T20:10:28.200577Z",
     "iopub.status.idle": "2022-08-11T20:10:28.212788Z",
     "shell.execute_reply": "2022-08-11T20:10:28.212333Z"
    },
    "papermill": {
     "duration": 0.043322,
     "end_time": "2022-08-11T20:10:28.212891",
     "exception": false,
     "start_time": "2022-08-11T20:10:28.169569",
     "status": "completed"
    },
    "tags": []
   },
   "outputs": [],
   "source": [
    "class Config:\n",
    "    pass\n",
    "config = Config()\n",
    "config.lr = 0.001\n",
    "config.num_epochs = 250\n",
    "config.bs = 50"
   ]
  },
  {
   "cell_type": "markdown",
   "id": "1385fa59",
   "metadata": {
    "papermill": {
     "duration": 0.027579,
     "end_time": "2022-08-11T20:10:28.268019",
     "exception": false,
     "start_time": "2022-08-11T20:10:28.240440",
     "status": "completed"
    },
    "tags": []
   },
   "source": [
    "### Running Models with the Training data\n",
    "Details about the network layers:\n",
    "- A first affine layer has 784 inputs and does 100 affine transforms. These are followed by a Relu\n",
    "- A second affine layer has 100 inputs from the 100 activations of the past layer, and does 100 affine transforms. These are followed by a Relu\n",
    "- A third affine layer has 100 activations and does 2 affine transformations to create an embedding for visualization. There is no non-linearity here.\n",
    "- A final \"logistic regression\" which has an affine transform from 2 inputs to 1 output, which is squeezed through a sigmoid.\n"
   ]
  },
  {
   "cell_type": "code",
   "execution_count": 17,
   "id": "2b9c66db",
   "metadata": {
    "execution": {
     "iopub.execute_input": "2022-08-11T20:10:28.327233Z",
     "iopub.status.busy": "2022-08-11T20:10:28.326617Z",
     "iopub.status.idle": "2022-08-11T20:10:28.338964Z",
     "shell.execute_reply": "2022-08-11T20:10:28.338487Z"
    },
    "papermill": {
     "duration": 0.043592,
     "end_time": "2022-08-11T20:10:28.339078",
     "exception": false,
     "start_time": "2022-08-11T20:10:28.295486",
     "status": "completed"
    },
    "tags": []
   },
   "outputs": [],
   "source": [
    "data = Data(X_train, y_train.reshape(-1,1))\n",
    "sampler = Sampler(data, config.bs, shuffle=True)\n",
    "\n",
    "dl = Dataloader(data, sampler)\n",
    "\n",
    "opt = GD(config.lr)\n",
    "loss = MSE()"
   ]
  },
  {
   "cell_type": "code",
   "execution_count": 18,
   "id": "b275e4c2",
   "metadata": {
    "execution": {
     "iopub.execute_input": "2022-08-11T20:10:28.398059Z",
     "iopub.status.busy": "2022-08-11T20:10:28.397489Z",
     "iopub.status.idle": "2022-08-11T20:10:28.409657Z",
     "shell.execute_reply": "2022-08-11T20:10:28.409197Z"
    },
    "papermill": {
     "duration": 0.043183,
     "end_time": "2022-08-11T20:10:28.409760",
     "exception": false,
     "start_time": "2022-08-11T20:10:28.366577",
     "status": "completed"
    },
    "tags": []
   },
   "outputs": [],
   "source": [
    "training_data_x = X_train\n",
    "testing_data_x = X_test\n",
    "training_data_y = y_train.reshape(-1,1)\n",
    "testing_data_y = y_test.reshape(-1,1)"
   ]
  },
  {
   "cell_type": "code",
   "execution_count": 19,
   "id": "76951160",
   "metadata": {
    "execution": {
     "iopub.execute_input": "2022-08-11T20:10:28.469750Z",
     "iopub.status.busy": "2022-08-11T20:10:28.469160Z",
     "iopub.status.idle": "2022-08-11T20:10:28.485059Z",
     "shell.execute_reply": "2022-08-11T20:10:28.484596Z"
    },
    "papermill": {
     "duration": 0.048078,
     "end_time": "2022-08-11T20:10:28.485164",
     "exception": false,
     "start_time": "2022-08-11T20:10:28.437086",
     "status": "completed"
    },
    "tags": []
   },
   "outputs": [
    {
     "name": "stdout",
     "output_type": "stream",
     "text": [
      "xavier\n",
      "xavier\n",
      "xavier\n",
      "xavier\n",
      "xavier\n"
     ]
    }
   ],
   "source": [
    "layers = [Affine(\"first\", 784, 100), Relu(\"first\"), Affine(\"second\", 100, 100), Relu(\"second\"), Affine(\"third\", 100, 2), Affine(\"last\", 2, 1), Sigmoid(\"last\")]\n",
    "model_nn = Model(layers)\n",
    "model_lr = Model([Affine(\"logits\", 784, 1), Sigmoid(\"sigmoid\")])"
   ]
  },
  {
   "cell_type": "code",
   "execution_count": 20,
   "id": "6eede77a",
   "metadata": {
    "execution": {
     "iopub.execute_input": "2022-08-11T20:10:28.544681Z",
     "iopub.status.busy": "2022-08-11T20:10:28.544105Z",
     "iopub.status.idle": "2022-08-11T20:10:28.556151Z",
     "shell.execute_reply": "2022-08-11T20:10:28.555686Z"
    },
    "papermill": {
     "duration": 0.043284,
     "end_time": "2022-08-11T20:10:28.556258",
     "exception": false,
     "start_time": "2022-08-11T20:10:28.512974",
     "status": "completed"
    },
    "tags": []
   },
   "outputs": [],
   "source": [
    "nn_learner = Learner(loss, model_nn, opt, config.num_epochs)\n",
    "acc_nn = ClfCallback(nn_learner, config.bs, training_data_x , testing_data_x, training_data_y, testing_data_y)\n",
    "nn_learner.set_callbacks([acc_nn])"
   ]
  },
  {
   "cell_type": "code",
   "execution_count": 21,
   "id": "877b6cc7",
   "metadata": {
    "execution": {
     "iopub.execute_input": "2022-08-11T20:10:28.615415Z",
     "iopub.status.busy": "2022-08-11T20:10:28.614752Z",
     "iopub.status.idle": "2022-08-11T20:10:28.627265Z",
     "shell.execute_reply": "2022-08-11T20:10:28.626787Z"
    },
    "papermill": {
     "duration": 0.04344,
     "end_time": "2022-08-11T20:10:28.627377",
     "exception": false,
     "start_time": "2022-08-11T20:10:28.583937",
     "status": "completed"
    },
    "tags": []
   },
   "outputs": [],
   "source": [
    "lr_learner = Learner(loss, model_lr, opt, config.num_epochs)\n",
    "acc_lr = ClfCallback(lr_learner, config.bs, training_data_x , testing_data_x, training_data_y, testing_data_y)\n",
    "lr_learner.set_callbacks([acc_lr])"
   ]
  },
  {
   "cell_type": "code",
   "execution_count": 22,
   "id": "d9b133c3",
   "metadata": {
    "execution": {
     "iopub.execute_input": "2022-08-11T20:10:28.686759Z",
     "iopub.status.busy": "2022-08-11T20:10:28.686195Z",
     "iopub.status.idle": "2022-08-11T20:13:25.090860Z",
     "shell.execute_reply": "2022-08-11T20:13:25.091332Z"
    },
    "papermill": {
     "duration": 176.436163,
     "end_time": "2022-08-11T20:13:25.091460",
     "exception": false,
     "start_time": "2022-08-11T20:10:28.655297",
     "status": "completed"
    },
    "tags": []
   },
   "outputs": [
    {
     "name": "stdout",
     "output_type": "stream",
     "text": [
      "Epoch 0, Loss 0.2611\n",
      "Training Accuracy: 0.5862, Testing Accuracy: 0.6023\n",
      "\n"
     ]
    },
    {
     "name": "stdout",
     "output_type": "stream",
     "text": [
      "Epoch 10, Loss 0.0809\n",
      "Training Accuracy: 0.9324, Testing Accuracy: 0.9395\n",
      "\n"
     ]
    },
    {
     "name": "stdout",
     "output_type": "stream",
     "text": [
      "Epoch 20, Loss 0.0504\n",
      "Training Accuracy: 0.9499, Testing Accuracy: 0.9582\n",
      "\n"
     ]
    },
    {
     "name": "stdout",
     "output_type": "stream",
     "text": [
      "Epoch 30, Loss 0.0404\n",
      "Training Accuracy: 0.9560, Testing Accuracy: 0.9622\n",
      "\n"
     ]
    },
    {
     "name": "stdout",
     "output_type": "stream",
     "text": [
      "Epoch 40, Loss 0.0354\n",
      "Training Accuracy: 0.9605, Testing Accuracy: 0.9672\n",
      "\n"
     ]
    },
    {
     "name": "stdout",
     "output_type": "stream",
     "text": [
      "Epoch 50, Loss 0.0323\n",
      "Training Accuracy: 0.9634, Testing Accuracy: 0.9672\n",
      "\n"
     ]
    },
    {
     "name": "stdout",
     "output_type": "stream",
     "text": [
      "Epoch 60, Loss 0.0301\n",
      "Training Accuracy: 0.9650, Testing Accuracy: 0.9672\n",
      "\n"
     ]
    },
    {
     "name": "stdout",
     "output_type": "stream",
     "text": [
      "Epoch 70, Loss 0.0285\n",
      "Training Accuracy: 0.9673, Testing Accuracy: 0.9703\n",
      "\n"
     ]
    },
    {
     "name": "stdout",
     "output_type": "stream",
     "text": [
      "Epoch 80, Loss 0.0271\n",
      "Training Accuracy: 0.9685, Testing Accuracy: 0.9703\n",
      "\n"
     ]
    },
    {
     "name": "stdout",
     "output_type": "stream",
     "text": [
      "Epoch 90, Loss 0.0261\n",
      "Training Accuracy: 0.9703, Testing Accuracy: 0.9698\n",
      "\n"
     ]
    },
    {
     "name": "stdout",
     "output_type": "stream",
     "text": [
      "Epoch 100, Loss 0.0252\n",
      "Training Accuracy: 0.9707, Testing Accuracy: 0.9703\n",
      "\n"
     ]
    },
    {
     "name": "stdout",
     "output_type": "stream",
     "text": [
      "Epoch 110, Loss 0.0244\n",
      "Training Accuracy: 0.9714, Testing Accuracy: 0.9698\n",
      "\n"
     ]
    },
    {
     "name": "stdout",
     "output_type": "stream",
     "text": [
      "Epoch 120, Loss 0.0236\n",
      "Training Accuracy: 0.9726, Testing Accuracy: 0.9703\n",
      "\n"
     ]
    },
    {
     "name": "stdout",
     "output_type": "stream",
     "text": [
      "Epoch 130, Loss 0.023\n",
      "Training Accuracy: 0.9732, Testing Accuracy: 0.9708\n",
      "\n"
     ]
    },
    {
     "name": "stdout",
     "output_type": "stream",
     "text": [
      "Epoch 140, Loss 0.0224\n",
      "Training Accuracy: 0.9743, Testing Accuracy: 0.9713\n",
      "\n"
     ]
    },
    {
     "name": "stdout",
     "output_type": "stream",
     "text": [
      "Epoch 150, Loss 0.0218\n",
      "Training Accuracy: 0.9750, Testing Accuracy: 0.9723\n",
      "\n"
     ]
    },
    {
     "name": "stdout",
     "output_type": "stream",
     "text": [
      "Epoch 160, Loss 0.0213\n",
      "Training Accuracy: 0.9757, Testing Accuracy: 0.9728\n",
      "\n"
     ]
    },
    {
     "name": "stdout",
     "output_type": "stream",
     "text": [
      "Epoch 170, Loss 0.0209\n",
      "Training Accuracy: 0.9765, Testing Accuracy: 0.9728\n",
      "\n"
     ]
    },
    {
     "name": "stdout",
     "output_type": "stream",
     "text": [
      "Epoch 180, Loss 0.0204\n",
      "Training Accuracy: 0.9772, Testing Accuracy: 0.9728\n",
      "\n"
     ]
    },
    {
     "name": "stdout",
     "output_type": "stream",
     "text": [
      "Epoch 190, Loss 0.0199\n",
      "Training Accuracy: 0.9779, Testing Accuracy: 0.9733\n",
      "\n"
     ]
    },
    {
     "name": "stdout",
     "output_type": "stream",
     "text": [
      "Epoch 200, Loss 0.0195\n",
      "Training Accuracy: 0.9785, Testing Accuracy: 0.9738\n",
      "\n"
     ]
    },
    {
     "name": "stdout",
     "output_type": "stream",
     "text": [
      "Epoch 210, Loss 0.0191\n",
      "Training Accuracy: 0.9790, Testing Accuracy: 0.9743\n",
      "\n"
     ]
    },
    {
     "name": "stdout",
     "output_type": "stream",
     "text": [
      "Epoch 220, Loss 0.0187\n",
      "Training Accuracy: 0.9794, Testing Accuracy: 0.9748\n",
      "\n"
     ]
    },
    {
     "name": "stdout",
     "output_type": "stream",
     "text": [
      "Epoch 230, Loss 0.0183\n",
      "Training Accuracy: 0.9797, Testing Accuracy: 0.9738\n",
      "\n"
     ]
    },
    {
     "name": "stdout",
     "output_type": "stream",
     "text": [
      "Epoch 240, Loss 0.018\n",
      "Training Accuracy: 0.9804, Testing Accuracy: 0.9753\n",
      "\n"
     ]
    },
    {
     "data": {
      "text/plain": [
       "0.017971746792027614"
      ]
     },
     "execution_count": 22,
     "metadata": {},
     "output_type": "execute_result"
    }
   ],
   "source": [
    "nn_learner.train_loop(dl)"
   ]
  },
  {
   "cell_type": "code",
   "execution_count": 23,
   "id": "e0163366",
   "metadata": {
    "execution": {
     "iopub.execute_input": "2022-08-11T20:13:25.167514Z",
     "iopub.status.busy": "2022-08-11T20:13:25.165953Z",
     "iopub.status.idle": "2022-08-11T20:13:37.417870Z",
     "shell.execute_reply": "2022-08-11T20:13:37.418666Z"
    },
    "papermill": {
     "duration": 12.292356,
     "end_time": "2022-08-11T20:13:37.418796",
     "exception": false,
     "start_time": "2022-08-11T20:13:25.126440",
     "status": "completed"
    },
    "tags": []
   },
   "outputs": [
    {
     "name": "stdout",
     "output_type": "stream",
     "text": [
      "Epoch 0, Loss 0.2214\n",
      "Training Accuracy: 0.7338, Testing Accuracy: 0.7384\n",
      "\n"
     ]
    },
    {
     "name": "stdout",
     "output_type": "stream",
     "text": [
      "Epoch 10, Loss 0.1052\n",
      "Training Accuracy: 0.9011, Testing Accuracy: 0.9078\n",
      "\n"
     ]
    },
    {
     "name": "stdout",
     "output_type": "stream",
     "text": [
      "Epoch 20, Loss 0.0808\n",
      "Training Accuracy: 0.9233, Testing Accuracy: 0.9304\n",
      "\n"
     ]
    },
    {
     "name": "stdout",
     "output_type": "stream",
     "text": [
      "Epoch 30, Loss 0.0693\n",
      "Training Accuracy: 0.9330, Testing Accuracy: 0.9441\n",
      "\n"
     ]
    },
    {
     "name": "stdout",
     "output_type": "stream",
     "text": [
      "Epoch 40, Loss 0.0623\n",
      "Training Accuracy: 0.9412, Testing Accuracy: 0.9506\n",
      "\n"
     ]
    },
    {
     "name": "stdout",
     "output_type": "stream",
     "text": [
      "Epoch 50, Loss 0.0576\n",
      "Training Accuracy: 0.9447, Testing Accuracy: 0.9541\n",
      "\n"
     ]
    },
    {
     "name": "stdout",
     "output_type": "stream",
     "text": [
      "Epoch 60, Loss 0.0542\n",
      "Training Accuracy: 0.9481, Testing Accuracy: 0.9551\n",
      "\n"
     ]
    },
    {
     "name": "stdout",
     "output_type": "stream",
     "text": [
      "Epoch 70, Loss 0.0515\n",
      "Training Accuracy: 0.9501, Testing Accuracy: 0.9567\n",
      "\n"
     ]
    },
    {
     "name": "stdout",
     "output_type": "stream",
     "text": [
      "Epoch 80, Loss 0.0494\n",
      "Training Accuracy: 0.9510, Testing Accuracy: 0.9597\n",
      "\n"
     ]
    },
    {
     "name": "stdout",
     "output_type": "stream",
     "text": [
      "Epoch 90, Loss 0.0477\n",
      "Training Accuracy: 0.9523, Testing Accuracy: 0.9607\n",
      "\n"
     ]
    },
    {
     "name": "stdout",
     "output_type": "stream",
     "text": [
      "Epoch 100, Loss 0.0462\n",
      "Training Accuracy: 0.9541, Testing Accuracy: 0.9612\n",
      "\n"
     ]
    },
    {
     "name": "stdout",
     "output_type": "stream",
     "text": [
      "Epoch 110, Loss 0.045\n",
      "Training Accuracy: 0.9551, Testing Accuracy: 0.9632\n",
      "\n"
     ]
    },
    {
     "name": "stdout",
     "output_type": "stream",
     "text": [
      "Epoch 120, Loss 0.0439\n",
      "Training Accuracy: 0.9559, Testing Accuracy: 0.9627\n",
      "\n"
     ]
    },
    {
     "name": "stdout",
     "output_type": "stream",
     "text": [
      "Epoch 130, Loss 0.0429\n",
      "Training Accuracy: 0.9569, Testing Accuracy: 0.9627\n",
      "\n"
     ]
    },
    {
     "name": "stdout",
     "output_type": "stream",
     "text": [
      "Epoch 140, Loss 0.0421\n",
      "Training Accuracy: 0.9571, Testing Accuracy: 0.9637\n",
      "\n"
     ]
    },
    {
     "name": "stdout",
     "output_type": "stream",
     "text": [
      "Epoch 150, Loss 0.0413\n",
      "Training Accuracy: 0.9577, Testing Accuracy: 0.9642\n",
      "\n"
     ]
    },
    {
     "name": "stdout",
     "output_type": "stream",
     "text": [
      "Epoch 160, Loss 0.0407\n",
      "Training Accuracy: 0.9583, Testing Accuracy: 0.9647\n",
      "\n"
     ]
    },
    {
     "name": "stdout",
     "output_type": "stream",
     "text": [
      "Epoch 170, Loss 0.04\n",
      "Training Accuracy: 0.9583, Testing Accuracy: 0.9652\n",
      "\n"
     ]
    },
    {
     "name": "stdout",
     "output_type": "stream",
     "text": [
      "Epoch 180, Loss 0.0395\n",
      "Training Accuracy: 0.9586, Testing Accuracy: 0.9652\n",
      "\n"
     ]
    },
    {
     "name": "stdout",
     "output_type": "stream",
     "text": [
      "Epoch 190, Loss 0.0389\n",
      "Training Accuracy: 0.9591, Testing Accuracy: 0.9652\n",
      "\n"
     ]
    },
    {
     "name": "stdout",
     "output_type": "stream",
     "text": [
      "Epoch 200, Loss 0.0385\n",
      "Training Accuracy: 0.9595, Testing Accuracy: 0.9647\n",
      "\n"
     ]
    },
    {
     "name": "stdout",
     "output_type": "stream",
     "text": [
      "Epoch 210, Loss 0.038\n",
      "Training Accuracy: 0.9598, Testing Accuracy: 0.9637\n",
      "\n"
     ]
    },
    {
     "name": "stdout",
     "output_type": "stream",
     "text": [
      "Epoch 220, Loss 0.0376\n",
      "Training Accuracy: 0.9601, Testing Accuracy: 0.9637\n",
      "\n"
     ]
    },
    {
     "name": "stdout",
     "output_type": "stream",
     "text": [
      "Epoch 230, Loss 0.0372\n",
      "Training Accuracy: 0.9604, Testing Accuracy: 0.9637\n",
      "\n"
     ]
    },
    {
     "name": "stdout",
     "output_type": "stream",
     "text": [
      "Epoch 240, Loss 0.0369\n",
      "Training Accuracy: 0.9607, Testing Accuracy: 0.9647\n",
      "\n"
     ]
    },
    {
     "data": {
      "text/plain": [
       "0.028811318656247722"
      ]
     },
     "execution_count": 23,
     "metadata": {},
     "output_type": "execute_result"
    }
   ],
   "source": [
    "lr_learner.train_loop(dl)"
   ]
  },
  {
   "cell_type": "code",
   "execution_count": 24,
   "id": "ca410940",
   "metadata": {
    "execution": {
     "iopub.execute_input": "2022-08-11T20:13:37.516368Z",
     "iopub.status.busy": "2022-08-11T20:13:37.515802Z",
     "iopub.status.idle": "2022-08-11T20:13:37.756139Z",
     "shell.execute_reply": "2022-08-11T20:13:37.755656Z"
    },
    "papermill": {
     "duration": 0.29564,
     "end_time": "2022-08-11T20:13:37.756247",
     "exception": false,
     "start_time": "2022-08-11T20:13:37.460607",
     "status": "completed"
    },
    "tags": []
   },
   "outputs": [
    {
     "data": {
      "text/plain": [
       "<matplotlib.legend.Legend at 0x7f81fd3a9b38>"
      ]
     },
     "execution_count": 24,
     "metadata": {},
     "output_type": "execute_result"
    },
    {
     "data": {
      "image/png": "[encoded data removed]",
      "text/plain": [
       "<Figure size 1080x720 with 1 Axes>"
      ]
     },
     "metadata": {
      "needs_background": "light"
     },
     "output_type": "display_data"
    }
   ],
   "source": [
    "#comparing the results of NN and LR\n",
    "plt.figure(figsize=(15,10))\n",
    "\n",
    "# Neural Network plots\n",
    "plt.plot(acc_nn.accuracies, 'r-', label = \"Training Accuracies - NN\")\n",
    "plt.plot(acc_nn.test_accuracies, 'g-', label = \"Testing Accuracies - NN\")\n",
    "\n",
    "# Logistic Regression plots\n",
    "plt.plot(acc_lr.accuracies, 'k-', label = \"Training Accuracies - LR\")\n",
    "plt.plot(acc_lr.test_accuracies, 'b-', label = \"Testing Accuracies - LR\")\n",
    "plt.legend()"
   ]
  },
  {
   "cell_type": "markdown",
   "id": "80dfb35c",
   "metadata": {
    "papermill": {
     "duration": 0.042633,
     "end_time": "2022-08-11T20:13:37.841604",
     "exception": false,
     "start_time": "2022-08-11T20:13:37.798971",
     "status": "completed"
    },
    "tags": []
   },
   "source": [
    "#### Plotting the outputs of this layer of the NN.\n"
   ]
  },
  {
   "cell_type": "code",
   "execution_count": 25,
   "id": "45eb2ff5",
   "metadata": {
    "execution": {
     "iopub.execute_input": "2022-08-11T20:13:37.930632Z",
     "iopub.status.busy": "2022-08-11T20:13:37.930060Z",
     "iopub.status.idle": "2022-08-11T20:13:37.967613Z",
     "shell.execute_reply": "2022-08-11T20:13:37.967095Z"
    },
    "papermill": {
     "duration": 0.083486,
     "end_time": "2022-08-11T20:13:37.967724",
     "exception": false,
     "start_time": "2022-08-11T20:13:37.884238",
     "status": "completed"
    },
    "tags": []
   },
   "outputs": [],
   "source": [
    "new_model = Model(layers[:-2])\n",
    "testing_plot = new_model(testing_data_x)"
   ]
  },
  {
   "cell_type": "code",
   "execution_count": 26,
   "id": "4c0a5485",
   "metadata": {
    "execution": {
     "iopub.execute_input": "2022-08-11T20:13:38.061665Z",
     "iopub.status.busy": "2022-08-11T20:13:38.061081Z",
     "iopub.status.idle": "2022-08-11T20:13:38.239788Z",
     "shell.execute_reply": "2022-08-11T20:13:38.239311Z"
    },
    "papermill": {
     "duration": 0.228748,
     "end_time": "2022-08-11T20:13:38.239898",
     "exception": false,
     "start_time": "2022-08-11T20:13:38.011150",
     "status": "completed"
    },
    "tags": []
   },
   "outputs": [
    {
     "data": {
      "text/plain": [
       "Text(0.5, 1.0, 'Outputs')"
      ]
     },
     "execution_count": 26,
     "metadata": {},
     "output_type": "execute_result"
    },
    {
     "data": {
      "image/png": "[encoded data removed]",
      "text/plain": [
       "<Figure size 576x504 with 1 Axes>"
      ]
     },
     "metadata": {
      "needs_background": "light"
     },
     "output_type": "display_data"
    }
   ],
   "source": [
    "# Plotting the scatter plot of points and color coding by class\n",
    "plt.figure(figsize=(8,7))\n",
    "plt.scatter(testing_plot[:,0], testing_plot[:,1], alpha = 0.1, c = y_test.ravel());\n",
    "plt.title('Outputs')"
   ]
  },
  {
   "cell_type": "markdown",
   "id": "a74fcf8f",
   "metadata": {
    "papermill": {
     "duration": 0.044489,
     "end_time": "2022-08-11T20:13:38.351372",
     "exception": false,
     "start_time": "2022-08-11T20:13:38.306883",
     "status": "completed"
    },
    "tags": []
   },
   "source": [
    "Probability contours"
   ]
  },
  {
   "cell_type": "code",
   "execution_count": 27,
   "id": "d0afc8e3",
   "metadata": {
    "execution": {
     "iopub.execute_input": "2022-08-11T20:13:38.444224Z",
     "iopub.status.busy": "2022-08-11T20:13:38.443644Z",
     "iopub.status.idle": "2022-08-11T20:13:38.456980Z",
     "shell.execute_reply": "2022-08-11T20:13:38.456492Z"
    },
    "papermill": {
     "duration": 0.061325,
     "end_time": "2022-08-11T20:13:38.457088",
     "exception": false,
     "start_time": "2022-08-11T20:13:38.395763",
     "status": "completed"
    },
    "tags": []
   },
   "outputs": [],
   "source": [
    "model_prob = Model(layers[-2:]) "
   ]
  },
  {
   "cell_type": "code",
   "execution_count": 28,
   "id": "9b96e238",
   "metadata": {
    "execution": {
     "iopub.execute_input": "2022-08-11T20:13:38.552886Z",
     "iopub.status.busy": "2022-08-11T20:13:38.551391Z",
     "iopub.status.idle": "2022-08-11T20:13:38.566233Z",
     "shell.execute_reply": "2022-08-11T20:13:38.566649Z"
    },
    "papermill": {
     "duration": 0.065028,
     "end_time": "2022-08-11T20:13:38.566771",
     "exception": false,
     "start_time": "2022-08-11T20:13:38.501743",
     "status": "completed"
    },
    "tags": []
   },
   "outputs": [],
   "source": [
    "#creating the x and y ranges according to the above generated plot.\n",
    "x_range = np.linspace(-4, 1, 100) \n",
    "y_range = np.linspace(-6, 6, 100) \n",
    "x_grid, y_grid = np.meshgrid(x_range, y_range) # x_grid and y_grig are of size 100 X 100\n",
    "\n",
    "# converting x_grid and y_grid to continuous arrays\n",
    "x_gridflat = np.ravel(x_grid)\n",
    "y_gridflat = np.ravel(y_grid)\n",
    "\n",
    "# The last layer of the current model takes two columns as input. Hence transpose of np.vstack() is required.\n",
    "X = np.vstack((x_gridflat, y_gridflat)).T\n",
    "\n",
    "prob_contour = model_prob(X).reshape(100,100) "
   ]
  },
  {
   "cell_type": "code",
   "execution_count": 29,
   "id": "da72499a",
   "metadata": {
    "execution": {
     "iopub.execute_input": "2022-08-11T20:13:38.663440Z",
     "iopub.status.busy": "2022-08-11T20:13:38.662184Z",
     "iopub.status.idle": "2022-08-11T20:13:38.909085Z",
     "shell.execute_reply": "2022-08-11T20:13:38.908531Z"
    },
    "papermill": {
     "duration": 0.297899,
     "end_time": "2022-08-11T20:13:38.909191",
     "exception": false,
     "start_time": "2022-08-11T20:13:38.611292",
     "status": "completed"
    },
    "tags": []
   },
   "outputs": [
    {
     "data": {
      "image/png": "[encoded data removed]",
      "text/plain": [
       "<Figure size 720x648 with 1 Axes>"
      ]
     },
     "metadata": {
      "needs_background": "light"
     },
     "output_type": "display_data"
    }
   ],
   "source": [
    "plt.figure(figsize=(10,9))\n",
    "plt.scatter(testing_plot[:,0], testing_plot[:,1], alpha = 0.1, c = y_test.ravel())\n",
    "contours = plt.contour(x_grid,y_grid,prob_contour)\n",
    "plt.title('Probability Contours')\n",
    "plt.clabel(contours, inline = True );"
   ]
  },
  {
   "cell_type": "code",
   "execution_count": null,
   "id": "e81b4ac7",
   "metadata": {
    "papermill": {
     "duration": 0.047018,
     "end_time": "2022-08-11T20:13:39.003883",
     "exception": false,
     "start_time": "2022-08-11T20:13:38.956865",
     "status": "completed"
    },
    "tags": []
   },
   "outputs": [],
   "source": []
  }
 ],
 "metadata": {
  "kernelspec": {
   "display_name": "Python 3",
   "language": "python",
   "name": "python3"
  },
  "language_info": {
   "codemirror_mode": {
    "name": "ipython",
    "version": 3
   },
   "file_extension": ".py",
   "mimetype": "text/x-python",
   "name": "python",
   "nbconvert_exporter": "python",
   "pygments_lexer": "ipython3",
   "version": "3.6.15"
  },
  "papermill": {
   "default_parameters": {},
   "duration": 196.882332,
   "end_time": "2022-08-11T20:13:39.368484",
   "environment_variables": {},
   "exception": null,
   "input_path": "2020-08-11-part2.ipynb",
   "output_path": "2020-08-11-part2.ipynb",
   "parameters": {},
   "start_time": "2022-08-11T20:10:22.486152",
   "version": "2.3.3"
  }
 },
 "nbformat": 4,
 "nbformat_minor": 5
}