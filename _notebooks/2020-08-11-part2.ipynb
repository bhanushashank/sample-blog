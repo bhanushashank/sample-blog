{
 "cells": [
  {
   "cell_type": "markdown",
   "id": "98380cd3",
   "metadata": {
    "papermill": {
     "duration": 0.028091,
     "end_time": "2022-03-10T10:09:36.497782",
     "exception": false,
     "start_time": "2022-03-10T10:09:36.469691",
     "status": "completed"
    },
    "tags": []
   },
   "source": [
    "# Distinguish Your Own Digits (DYOD)"
   ]
  },
  {
   "cell_type": "markdown",
   "id": "ef31240d",
   "metadata": {
    "papermill": {
     "duration": 0.025692,
     "end_time": "2022-03-10T10:09:36.548734",
     "exception": false,
     "start_time": "2022-03-10T10:09:36.523042",
     "status": "completed"
    },
    "tags": []
   },
   "source": [
    "You are going to write a classifier that distinguishes between the number 3 and number 8."
   ]
  },
  {
   "cell_type": "code",
   "execution_count": 1,
   "id": "b15c8646",
   "metadata": {
    "execution": {
     "iopub.execute_input": "2022-03-10T10:09:36.607081Z",
     "iopub.status.busy": "2022-03-10T10:09:36.604923Z",
     "iopub.status.idle": "2022-03-10T10:09:36.616865Z",
     "shell.execute_reply": "2022-03-10T10:09:36.616453Z"
    },
    "papermill": {
     "duration": 0.04387,
     "end_time": "2022-03-10T10:09:36.616982",
     "exception": false,
     "start_time": "2022-03-10T10:09:36.573112",
     "status": "completed"
    },
    "tags": []
   },
   "outputs": [],
   "source": [
    "%load_ext autoreload\n",
    "%autoreload 2"
   ]
  },
  {
   "cell_type": "code",
   "execution_count": 2,
   "id": "22ef38dc",
   "metadata": {
    "execution": {
     "iopub.execute_input": "2022-03-10T10:09:36.669516Z",
     "iopub.status.busy": "2022-03-10T10:09:36.669030Z",
     "iopub.status.idle": "2022-03-10T10:09:37.220393Z",
     "shell.execute_reply": "2022-03-10T10:09:37.220814Z"
    },
    "papermill": {
     "duration": 0.579395,
     "end_time": "2022-03-10T10:09:37.220952",
     "exception": false,
     "start_time": "2022-03-10T10:09:36.641557",
     "status": "completed"
    },
    "tags": []
   },
   "outputs": [],
   "source": [
    "%matplotlib inline\n",
    "import numpy as np\n",
    "import matplotlib.pyplot as plt\n",
    "import pandas as pd"
   ]
  },
  {
   "cell_type": "markdown",
   "id": "ba036198",
   "metadata": {
    "papermill": {
     "duration": 0.024725,
     "end_time": "2022-03-10T10:09:37.270359",
     "exception": false,
     "start_time": "2022-03-10T10:09:37.245634",
     "status": "completed"
    },
    "tags": []
   },
   "source": [
    "From the command line run `pip install mnist`. This is a library that will help you bring down the mnist dataset. If you run this from a notebook, you need to put  `!pip install mnist` in a cell by itself."
   ]
  },
  {
   "cell_type": "code",
   "execution_count": 3,
   "id": "bb6ad8a1",
   "metadata": {
    "execution": {
     "iopub.execute_input": "2022-03-10T10:09:37.324181Z",
     "iopub.status.busy": "2022-03-10T10:09:37.323681Z",
     "iopub.status.idle": "2022-03-10T10:09:38.943442Z",
     "shell.execute_reply": "2022-03-10T10:09:38.941508Z"
    },
    "papermill": {
     "duration": 1.648063,
     "end_time": "2022-03-10T10:09:38.943564",
     "exception": false,
     "start_time": "2022-03-10T10:09:37.295501",
     "status": "completed"
    },
    "tags": []
   },
   "outputs": [
    {
     "name": "stdout",
     "output_type": "stream",
     "text": [
      "Collecting mnist\r\n"
     ]
    },
    {
     "name": "stdout",
     "output_type": "stream",
     "text": [
      "  Downloading mnist-0.2.2-py2.py3-none-any.whl (3.5 kB)\r\n",
      "Requirement already satisfied: numpy in /opt/hostedtoolcache/Python/3.6.15/x64/lib/python3.6/site-packages (from mnist) (1.19.5)\r\n"
     ]
    },
    {
     "name": "stdout",
     "output_type": "stream",
     "text": [
      "Installing collected packages: mnist\r\n"
     ]
    },
    {
     "name": "stdout",
     "output_type": "stream",
     "text": [
      "Successfully installed mnist-0.2.2\r\n"
     ]
    }
   ],
   "source": [
    "!pip install mnist"
   ]
  },
  {
   "cell_type": "markdown",
   "id": "69df9c9a",
   "metadata": {
    "papermill": {
     "duration": 0.025847,
     "end_time": "2022-03-10T10:09:38.995625",
     "exception": false,
     "start_time": "2022-03-10T10:09:38.969778",
     "status": "completed"
    },
    "tags": []
   },
   "source": [
    "## Preparing the Data"
   ]
  },
  {
   "cell_type": "code",
   "execution_count": 4,
   "id": "7f69d806",
   "metadata": {
    "execution": {
     "iopub.execute_input": "2022-03-10T10:09:39.052261Z",
     "iopub.status.busy": "2022-03-10T10:09:39.050027Z",
     "iopub.status.idle": "2022-03-10T10:09:39.062634Z",
     "shell.execute_reply": "2022-03-10T10:09:39.063008Z"
    },
    "papermill": {
     "duration": 0.041882,
     "end_time": "2022-03-10T10:09:39.063130",
     "exception": false,
     "start_time": "2022-03-10T10:09:39.021248",
     "status": "completed"
    },
    "tags": []
   },
   "outputs": [],
   "source": [
    "import mnist"
   ]
  },
  {
   "cell_type": "code",
   "execution_count": 5,
   "id": "a411e44f",
   "metadata": {
    "execution": {
     "iopub.execute_input": "2022-03-10T10:09:39.118176Z",
     "iopub.status.busy": "2022-03-10T10:09:39.117685Z",
     "iopub.status.idle": "2022-03-10T10:09:39.567598Z",
     "shell.execute_reply": "2022-03-10T10:09:39.567112Z"
    },
    "papermill": {
     "duration": 0.478769,
     "end_time": "2022-03-10T10:09:39.567711",
     "exception": false,
     "start_time": "2022-03-10T10:09:39.088942",
     "status": "completed"
    },
    "tags": []
   },
   "outputs": [],
   "source": [
    "train_images = mnist.train_images()\n",
    "train_labels = mnist.train_labels()"
   ]
  },
  {
   "cell_type": "code",
   "execution_count": 6,
   "id": "dceab3a5",
   "metadata": {
    "execution": {
     "iopub.execute_input": "2022-03-10T10:09:39.623929Z",
     "iopub.status.busy": "2022-03-10T10:09:39.623395Z",
     "iopub.status.idle": "2022-03-10T10:09:39.636872Z",
     "shell.execute_reply": "2022-03-10T10:09:39.637332Z"
    },
    "papermill": {
     "duration": 0.043683,
     "end_time": "2022-03-10T10:09:39.637450",
     "exception": false,
     "start_time": "2022-03-10T10:09:39.593767",
     "status": "completed"
    },
    "tags": []
   },
   "outputs": [
    {
     "data": {
      "text/plain": [
       "((60000, 28, 28), (60000,))"
      ]
     },
     "execution_count": 6,
     "metadata": {},
     "output_type": "execute_result"
    }
   ],
   "source": [
    "train_images.shape, train_labels.shape"
   ]
  },
  {
   "cell_type": "code",
   "execution_count": 7,
   "id": "f50dc2bb",
   "metadata": {
    "execution": {
     "iopub.execute_input": "2022-03-10T10:09:39.692936Z",
     "iopub.status.busy": "2022-03-10T10:09:39.692452Z",
     "iopub.status.idle": "2022-03-10T10:09:39.802805Z",
     "shell.execute_reply": "2022-03-10T10:09:39.802336Z"
    },
    "papermill": {
     "duration": 0.139313,
     "end_time": "2022-03-10T10:09:39.802915",
     "exception": false,
     "start_time": "2022-03-10T10:09:39.663602",
     "status": "completed"
    },
    "tags": []
   },
   "outputs": [],
   "source": [
    "test_images = mnist.test_images()\n",
    "test_labels = mnist.test_labels()"
   ]
  },
  {
   "cell_type": "code",
   "execution_count": 8,
   "id": "fc38cf1b",
   "metadata": {
    "execution": {
     "iopub.execute_input": "2022-03-10T10:09:39.858899Z",
     "iopub.status.busy": "2022-03-10T10:09:39.858406Z",
     "iopub.status.idle": "2022-03-10T10:09:39.871080Z",
     "shell.execute_reply": "2022-03-10T10:09:39.870686Z"
    },
    "papermill": {
     "duration": 0.041964,
     "end_time": "2022-03-10T10:09:39.871180",
     "exception": false,
     "start_time": "2022-03-10T10:09:39.829216",
     "status": "completed"
    },
    "tags": []
   },
   "outputs": [
    {
     "data": {
      "text/plain": [
       "((10000, 28, 28), (10000,))"
      ]
     },
     "execution_count": 8,
     "metadata": {},
     "output_type": "execute_result"
    }
   ],
   "source": [
    "test_images.shape, test_labels.shape"
   ]
  },
  {
   "cell_type": "code",
   "execution_count": 9,
   "id": "f9ed8fe0",
   "metadata": {
    "execution": {
     "iopub.execute_input": "2022-03-10T10:09:39.927011Z",
     "iopub.status.busy": "2022-03-10T10:09:39.926514Z",
     "iopub.status.idle": "2022-03-10T10:09:40.058422Z",
     "shell.execute_reply": "2022-03-10T10:09:40.058835Z"
    },
    "papermill": {
     "duration": 0.161583,
     "end_time": "2022-03-10T10:09:40.058960",
     "exception": false,
     "start_time": "2022-03-10T10:09:39.897377",
     "status": "completed"
    },
    "tags": []
   },
   "outputs": [
    {
     "name": "stdout",
     "output_type": "stream",
     "text": [
      "2\n"
     ]
    },
    {
     "data": {
      "text/plain": [
       "<matplotlib.image.AxesImage at 0x7ffa12a23588>"
      ]
     },
     "execution_count": 9,
     "metadata": {},
     "output_type": "execute_result"
    },
    {
     "data": {
      "image/png": "[encoded data removed]",
      "text/plain": [
       "<Figure size 432x288 with 1 Axes>"
      ]
     },
     "metadata": {
      "needs_background": "light"
     },
     "output_type": "display_data"
    }
   ],
   "source": [
    "image_index = 7776 # You may select anything up to 60,000\n",
    "print(train_labels[image_index]) \n",
    "plt.imshow(train_images[image_index], cmap='Greys')"
   ]
  },
  {
   "cell_type": "markdown",
   "id": "a8d2388d",
   "metadata": {
    "papermill": {
     "duration": 0.027311,
     "end_time": "2022-03-10T10:09:40.113849",
     "exception": false,
     "start_time": "2022-03-10T10:09:40.086538",
     "status": "completed"
    },
    "tags": []
   },
   "source": [
    "## Filter data to get 3 and 8 out"
   ]
  },
  {
   "cell_type": "code",
   "execution_count": 10,
   "id": "776f7fc7",
   "metadata": {
    "execution": {
     "iopub.execute_input": "2022-03-10T10:09:40.172809Z",
     "iopub.status.busy": "2022-03-10T10:09:40.172310Z",
     "iopub.status.idle": "2022-03-10T10:09:40.188504Z",
     "shell.execute_reply": "2022-03-10T10:09:40.188890Z"
    },
    "papermill": {
     "duration": 0.047611,
     "end_time": "2022-03-10T10:09:40.189018",
     "exception": false,
     "start_time": "2022-03-10T10:09:40.141407",
     "status": "completed"
    },
    "tags": []
   },
   "outputs": [],
   "source": [
    "train_filter = np.where((train_labels == 3 ) | (train_labels == 8))\n",
    "test_filter = np.where((test_labels == 3) | (test_labels == 8))\n",
    "X_train, y_train = train_images[train_filter], train_labels[train_filter]\n",
    "X_test, y_test = test_images[test_filter], test_labels[test_filter]"
   ]
  },
  {
   "cell_type": "markdown",
   "id": "948f0b7e",
   "metadata": {
    "papermill": {
     "duration": 0.027399,
     "end_time": "2022-03-10T10:09:40.244042",
     "exception": false,
     "start_time": "2022-03-10T10:09:40.216643",
     "status": "completed"
    },
    "tags": []
   },
   "source": [
    "We normalize the pizel values in the 0 to 1 range"
   ]
  },
  {
   "cell_type": "code",
   "execution_count": 11,
   "id": "ee4c2166",
   "metadata": {
    "execution": {
     "iopub.execute_input": "2022-03-10T10:09:40.301869Z",
     "iopub.status.busy": "2022-03-10T10:09:40.301374Z",
     "iopub.status.idle": "2022-03-10T10:09:40.342385Z",
     "shell.execute_reply": "2022-03-10T10:09:40.342761Z"
    },
    "papermill": {
     "duration": 0.071507,
     "end_time": "2022-03-10T10:09:40.342888",
     "exception": false,
     "start_time": "2022-03-10T10:09:40.271381",
     "status": "completed"
    },
    "tags": []
   },
   "outputs": [],
   "source": [
    "X_train = X_train/255.\n",
    "X_test = X_test/255."
   ]
  },
  {
   "cell_type": "markdown",
   "id": "ddcf4fab",
   "metadata": {
    "papermill": {
     "duration": 0.027773,
     "end_time": "2022-03-10T10:09:40.398286",
     "exception": false,
     "start_time": "2022-03-10T10:09:40.370513",
     "status": "completed"
    },
    "tags": []
   },
   "source": [
    "And setup the labels as 1 (when the digit is 3) and 0 (when the digit is 8)"
   ]
  },
  {
   "cell_type": "code",
   "execution_count": 12,
   "id": "7dc908f2",
   "metadata": {
    "execution": {
     "iopub.execute_input": "2022-03-10T10:09:40.456460Z",
     "iopub.status.busy": "2022-03-10T10:09:40.455963Z",
     "iopub.status.idle": "2022-03-10T10:09:40.467077Z",
     "shell.execute_reply": "2022-03-10T10:09:40.467522Z"
    },
    "papermill": {
     "duration": 0.041912,
     "end_time": "2022-03-10T10:09:40.467642",
     "exception": false,
     "start_time": "2022-03-10T10:09:40.425730",
     "status": "completed"
    },
    "tags": []
   },
   "outputs": [],
   "source": [
    "y_train = 1*(y_train==3)\n",
    "y_test = 1*(y_test==3)"
   ]
  },
  {
   "cell_type": "code",
   "execution_count": 13,
   "id": "01e4e969",
   "metadata": {
    "execution": {
     "iopub.execute_input": "2022-03-10T10:09:40.525697Z",
     "iopub.status.busy": "2022-03-10T10:09:40.525214Z",
     "iopub.status.idle": "2022-03-10T10:09:40.537878Z",
     "shell.execute_reply": "2022-03-10T10:09:40.537483Z"
    },
    "papermill": {
     "duration": 0.042912,
     "end_time": "2022-03-10T10:09:40.537981",
     "exception": false,
     "start_time": "2022-03-10T10:09:40.495069",
     "status": "completed"
    },
    "tags": []
   },
   "outputs": [
    {
     "data": {
      "text/plain": [
       "((11982, 28, 28), (1984, 28, 28))"
      ]
     },
     "execution_count": 13,
     "metadata": {},
     "output_type": "execute_result"
    }
   ],
   "source": [
    "X_train.shape, X_test.shape"
   ]
  },
  {
   "cell_type": "markdown",
   "id": "5ccf3f85",
   "metadata": {
    "papermill": {
     "duration": 0.027723,
     "end_time": "2022-03-10T10:09:40.593177",
     "exception": false,
     "start_time": "2022-03-10T10:09:40.565454",
     "status": "completed"
    },
    "tags": []
   },
   "source": [
    "We reshape the data to flatten the image pixels into a set of features or co-variates:"
   ]
  },
  {
   "cell_type": "code",
   "execution_count": 14,
   "id": "5286a4a3",
   "metadata": {
    "execution": {
     "iopub.execute_input": "2022-03-10T10:09:40.652299Z",
     "iopub.status.busy": "2022-03-10T10:09:40.651798Z",
     "iopub.status.idle": "2022-03-10T10:09:40.664490Z",
     "shell.execute_reply": "2022-03-10T10:09:40.664071Z"
    },
    "papermill": {
     "duration": 0.043704,
     "end_time": "2022-03-10T10:09:40.664590",
     "exception": false,
     "start_time": "2022-03-10T10:09:40.620886",
     "status": "completed"
    },
    "tags": []
   },
   "outputs": [
    {
     "data": {
      "text/plain": [
       "((11982, 784), (1984, 784))"
      ]
     },
     "execution_count": 14,
     "metadata": {},
     "output_type": "execute_result"
    }
   ],
   "source": [
    "X_train = X_train.reshape(X_train.shape[0], -1)\n",
    "X_test = X_test.reshape(X_test.shape[0], -1)\n",
    "X_train.shape, X_test.shape"
   ]
  },
  {
   "cell_type": "code",
   "execution_count": 15,
   "id": "73c5f88a",
   "metadata": {
    "execution": {
     "iopub.execute_input": "2022-03-10T10:09:40.724336Z",
     "iopub.status.busy": "2022-03-10T10:09:40.723837Z",
     "iopub.status.idle": "2022-03-10T10:09:40.740999Z",
     "shell.execute_reply": "2022-03-10T10:09:40.741400Z"
    },
    "papermill": {
     "duration": 0.049002,
     "end_time": "2022-03-10T10:09:40.741518",
     "exception": false,
     "start_time": "2022-03-10T10:09:40.692516",
     "status": "completed"
    },
    "tags": []
   },
   "outputs": [],
   "source": [
    "#Impoting functions from 'Kudzu'\n",
    "from kudzu.model import Model\n",
    "from kudzu.train import Learner\n",
    "from kudzu.optim import GD\n",
    "from kudzu.data import Data, Sampler,Dataloader\n",
    "\n",
    "from kudzu.callbacks import AccCallback\n",
    "from kudzu.callbacks import ClfCallback\n",
    "\n",
    "from kudzu.loss import MSE\n",
    "\n",
    "from kudzu.layer import Sigmoid,Relu\n",
    "from kudzu.layer import Affine"
   ]
  },
  {
   "cell_type": "markdown",
   "id": "bc01172a",
   "metadata": {
    "papermill": {
     "duration": 0.027892,
     "end_time": "2022-03-10T10:09:40.797354",
     "exception": false,
     "start_time": "2022-03-10T10:09:40.769462",
     "status": "completed"
    },
    "tags": []
   },
   "source": [
    "### Let us create a `Config` class, to store important parameters. \n",
    "This class essentially plays the role of a dictionary."
   ]
  },
  {
   "cell_type": "code",
   "execution_count": 16,
   "id": "978281aa",
   "metadata": {
    "execution": {
     "iopub.execute_input": "2022-03-10T10:09:40.856457Z",
     "iopub.status.busy": "2022-03-10T10:09:40.855959Z",
     "iopub.status.idle": "2022-03-10T10:09:40.866948Z",
     "shell.execute_reply": "2022-03-10T10:09:40.867375Z"
    },
    "papermill": {
     "duration": 0.04242,
     "end_time": "2022-03-10T10:09:40.867508",
     "exception": false,
     "start_time": "2022-03-10T10:09:40.825088",
     "status": "completed"
    },
    "tags": []
   },
   "outputs": [],
   "source": [
    "class Config:\n",
    "    pass\n",
    "config = Config()\n",
    "config.lr = 0.001\n",
    "config.num_epochs = 250\n",
    "config.bs = 50"
   ]
  },
  {
   "cell_type": "markdown",
   "id": "1385fa59",
   "metadata": {
    "papermill": {
     "duration": 0.027835,
     "end_time": "2022-03-10T10:09:40.923571",
     "exception": false,
     "start_time": "2022-03-10T10:09:40.895736",
     "status": "completed"
    },
    "tags": []
   },
   "source": [
    "### Running Models with the Training data\n",
    "Details about the network layers:\n",
    "- A first affine layer has 784 inputs and does 100 affine transforms. These are followed by a Relu\n",
    "- A second affine layer has 100 inputs from the 100 activations of the past layer, and does 100 affine transforms. These are followed by a Relu\n",
    "- A third affine layer has 100 activations and does 2 affine transformations to create an embedding for visualization. There is no non-linearity here.\n",
    "- A final \"logistic regression\" which has an affine transform from 2 inputs to 1 output, which is squeezed through a sigmoid.\n"
   ]
  },
  {
   "cell_type": "code",
   "execution_count": 17,
   "id": "2b9c66db",
   "metadata": {
    "execution": {
     "iopub.execute_input": "2022-03-10T10:09:40.983278Z",
     "iopub.status.busy": "2022-03-10T10:09:40.982781Z",
     "iopub.status.idle": "2022-03-10T10:09:40.994225Z",
     "shell.execute_reply": "2022-03-10T10:09:40.993798Z"
    },
    "papermill": {
     "duration": 0.042693,
     "end_time": "2022-03-10T10:09:40.994330",
     "exception": false,
     "start_time": "2022-03-10T10:09:40.951637",
     "status": "completed"
    },
    "tags": []
   },
   "outputs": [],
   "source": [
    "data = Data(X_train, y_train.reshape(-1,1))\n",
    "sampler = Sampler(data, config.bs, shuffle=True)\n",
    "\n",
    "dl = Dataloader(data, sampler)\n",
    "\n",
    "opt = GD(config.lr)\n",
    "loss = MSE()"
   ]
  },
  {
   "cell_type": "code",
   "execution_count": 18,
   "id": "b275e4c2",
   "metadata": {
    "execution": {
     "iopub.execute_input": "2022-03-10T10:09:41.053990Z",
     "iopub.status.busy": "2022-03-10T10:09:41.053459Z",
     "iopub.status.idle": "2022-03-10T10:09:41.065384Z",
     "shell.execute_reply": "2022-03-10T10:09:41.065817Z"
    },
    "papermill": {
     "duration": 0.043597,
     "end_time": "2022-03-10T10:09:41.065940",
     "exception": false,
     "start_time": "2022-03-10T10:09:41.022343",
     "status": "completed"
    },
    "tags": []
   },
   "outputs": [],
   "source": [
    "training_data_x = X_train\n",
    "testing_data_x = X_test\n",
    "training_data_y = y_train.reshape(-1,1)\n",
    "testing_data_y = y_test.reshape(-1,1)"
   ]
  },
  {
   "cell_type": "code",
   "execution_count": 19,
   "id": "76951160",
   "metadata": {
    "execution": {
     "iopub.execute_input": "2022-03-10T10:09:41.125444Z",
     "iopub.status.busy": "2022-03-10T10:09:41.124948Z",
     "iopub.status.idle": "2022-03-10T10:09:41.139936Z",
     "shell.execute_reply": "2022-03-10T10:09:41.140394Z"
    },
    "papermill": {
     "duration": 0.046616,
     "end_time": "2022-03-10T10:09:41.140510",
     "exception": false,
     "start_time": "2022-03-10T10:09:41.093894",
     "status": "completed"
    },
    "tags": []
   },
   "outputs": [
    {
     "name": "stdout",
     "output_type": "stream",
     "text": [
      "xavier\n",
      "xavier\n",
      "xavier\n",
      "xavier\n",
      "xavier\n"
     ]
    }
   ],
   "source": [
    "layers = [Affine(\"first\", 784, 100), Relu(\"first\"), Affine(\"second\", 100, 100), Relu(\"second\"), Affine(\"third\", 100, 2), Affine(\"last\", 2, 1), Sigmoid(\"last\")]\n",
    "model_nn = Model(layers)\n",
    "model_lr = Model([Affine(\"logits\", 784, 1), Sigmoid(\"sigmoid\")])"
   ]
  },
  {
   "cell_type": "code",
   "execution_count": 20,
   "id": "6eede77a",
   "metadata": {
    "execution": {
     "iopub.execute_input": "2022-03-10T10:09:41.200006Z",
     "iopub.status.busy": "2022-03-10T10:09:41.199501Z",
     "iopub.status.idle": "2022-03-10T10:09:41.210975Z",
     "shell.execute_reply": "2022-03-10T10:09:41.210569Z"
    },
    "papermill": {
     "duration": 0.042388,
     "end_time": "2022-03-10T10:09:41.211080",
     "exception": false,
     "start_time": "2022-03-10T10:09:41.168692",
     "status": "completed"
    },
    "tags": []
   },
   "outputs": [],
   "source": [
    "nn_learner = Learner(loss, model_nn, opt, config.num_epochs)\n",
    "acc_nn = ClfCallback(nn_learner, config.bs, training_data_x , testing_data_x, training_data_y, testing_data_y)\n",
    "nn_learner.set_callbacks([acc_nn])"
   ]
  },
  {
   "cell_type": "code",
   "execution_count": 21,
   "id": "877b6cc7",
   "metadata": {
    "execution": {
     "iopub.execute_input": "2022-03-10T10:09:41.270095Z",
     "iopub.status.busy": "2022-03-10T10:09:41.269582Z",
     "iopub.status.idle": "2022-03-10T10:09:41.282138Z",
     "shell.execute_reply": "2022-03-10T10:09:41.281726Z"
    },
    "papermill": {
     "duration": 0.042718,
     "end_time": "2022-03-10T10:09:41.282236",
     "exception": false,
     "start_time": "2022-03-10T10:09:41.239518",
     "status": "completed"
    },
    "tags": []
   },
   "outputs": [],
   "source": [
    "lr_learner = Learner(loss, model_lr, opt, config.num_epochs)\n",
    "acc_lr = ClfCallback(lr_learner, config.bs, training_data_x , testing_data_x, training_data_y, testing_data_y)\n",
    "lr_learner.set_callbacks([acc_lr])"
   ]
  },
  {
   "cell_type": "code",
   "execution_count": 22,
   "id": "d9b133c3",
   "metadata": {
    "execution": {
     "iopub.execute_input": "2022-03-10T10:09:41.342038Z",
     "iopub.status.busy": "2022-03-10T10:09:41.341543Z",
     "iopub.status.idle": "2022-03-10T10:12:39.169181Z",
     "shell.execute_reply": "2022-03-10T10:12:39.169611Z"
    },
    "papermill": {
     "duration": 177.859089,
     "end_time": "2022-03-10T10:12:39.169738",
     "exception": false,
     "start_time": "2022-03-10T10:09:41.310649",
     "status": "completed"
    },
    "tags": []
   },
   "outputs": [
    {
     "name": "stdout",
     "output_type": "stream",
     "text": [
      "Epoch 0, Loss 0.2145\n",
      "Training Accuracy: 0.8054, Testing Accuracy: 0.8211\n",
      "\n"
     ]
    },
    {
     "name": "stdout",
     "output_type": "stream",
     "text": [
      "Epoch 10, Loss 0.0578\n",
      "Training Accuracy: 0.9392, Testing Accuracy: 0.9511\n",
      "\n"
     ]
    },
    {
     "name": "stdout",
     "output_type": "stream",
     "text": [
      "Epoch 20, Loss 0.0421\n",
      "Training Accuracy: 0.9522, Testing Accuracy: 0.9612\n",
      "\n"
     ]
    },
    {
     "name": "stdout",
     "output_type": "stream",
     "text": [
      "Epoch 30, Loss 0.0357\n",
      "Training Accuracy: 0.9598, Testing Accuracy: 0.9682\n",
      "\n"
     ]
    },
    {
     "name": "stdout",
     "output_type": "stream",
     "text": [
      "Epoch 40, Loss 0.032\n",
      "Training Accuracy: 0.9639, Testing Accuracy: 0.9682\n",
      "\n"
     ]
    },
    {
     "name": "stdout",
     "output_type": "stream",
     "text": [
      "Epoch 50, Loss 0.0295\n",
      "Training Accuracy: 0.9669, Testing Accuracy: 0.9703\n",
      "\n"
     ]
    },
    {
     "name": "stdout",
     "output_type": "stream",
     "text": [
      "Epoch 60, Loss 0.0277\n",
      "Training Accuracy: 0.9688, Testing Accuracy: 0.9693\n",
      "\n"
     ]
    },
    {
     "name": "stdout",
     "output_type": "stream",
     "text": [
      "Epoch 70, Loss 0.0263\n",
      "Training Accuracy: 0.9697, Testing Accuracy: 0.9703\n",
      "\n"
     ]
    },
    {
     "name": "stdout",
     "output_type": "stream",
     "text": [
      "Epoch 80, Loss 0.0252\n",
      "Training Accuracy: 0.9716, Testing Accuracy: 0.9718\n",
      "\n"
     ]
    },
    {
     "name": "stdout",
     "output_type": "stream",
     "text": [
      "Epoch 90, Loss 0.0242\n",
      "Training Accuracy: 0.9725, Testing Accuracy: 0.9713\n",
      "\n"
     ]
    },
    {
     "name": "stdout",
     "output_type": "stream",
     "text": [
      "Epoch 100, Loss 0.0233\n",
      "Training Accuracy: 0.9737, Testing Accuracy: 0.9723\n",
      "\n"
     ]
    },
    {
     "name": "stdout",
     "output_type": "stream",
     "text": [
      "Epoch 110, Loss 0.0226\n",
      "Training Accuracy: 0.9747, Testing Accuracy: 0.9728\n",
      "\n"
     ]
    },
    {
     "name": "stdout",
     "output_type": "stream",
     "text": [
      "Epoch 120, Loss 0.0219\n",
      "Training Accuracy: 0.9755, Testing Accuracy: 0.9738\n",
      "\n"
     ]
    },
    {
     "name": "stdout",
     "output_type": "stream",
     "text": [
      "Epoch 130, Loss 0.0213\n",
      "Training Accuracy: 0.9760, Testing Accuracy: 0.9743\n",
      "\n"
     ]
    },
    {
     "name": "stdout",
     "output_type": "stream",
     "text": [
      "Epoch 140, Loss 0.0207\n",
      "Training Accuracy: 0.9772, Testing Accuracy: 0.9748\n",
      "\n"
     ]
    },
    {
     "name": "stdout",
     "output_type": "stream",
     "text": [
      "Epoch 150, Loss 0.0202\n",
      "Training Accuracy: 0.9781, Testing Accuracy: 0.9748\n",
      "\n"
     ]
    },
    {
     "name": "stdout",
     "output_type": "stream",
     "text": [
      "Epoch 160, Loss 0.0197\n",
      "Training Accuracy: 0.9786, Testing Accuracy: 0.9753\n",
      "\n"
     ]
    },
    {
     "name": "stdout",
     "output_type": "stream",
     "text": [
      "Epoch 170, Loss 0.0192\n",
      "Training Accuracy: 0.9786, Testing Accuracy: 0.9748\n",
      "\n"
     ]
    },
    {
     "name": "stdout",
     "output_type": "stream",
     "text": [
      "Epoch 180, Loss 0.0187\n",
      "Training Accuracy: 0.9796, Testing Accuracy: 0.9753\n",
      "\n"
     ]
    },
    {
     "name": "stdout",
     "output_type": "stream",
     "text": [
      "Epoch 190, Loss 0.0183\n",
      "Training Accuracy: 0.9799, Testing Accuracy: 0.9748\n",
      "\n"
     ]
    },
    {
     "name": "stdout",
     "output_type": "stream",
     "text": [
      "Epoch 200, Loss 0.0178\n",
      "Training Accuracy: 0.9805, Testing Accuracy: 0.9748\n",
      "\n"
     ]
    },
    {
     "name": "stdout",
     "output_type": "stream",
     "text": [
      "Epoch 210, Loss 0.0174\n",
      "Training Accuracy: 0.9812, Testing Accuracy: 0.9748\n",
      "\n"
     ]
    },
    {
     "name": "stdout",
     "output_type": "stream",
     "text": [
      "Epoch 220, Loss 0.017\n",
      "Training Accuracy: 0.9814, Testing Accuracy: 0.9758\n",
      "\n"
     ]
    },
    {
     "name": "stdout",
     "output_type": "stream",
     "text": [
      "Epoch 230, Loss 0.0166\n",
      "Training Accuracy: 0.9818, Testing Accuracy: 0.9758\n",
      "\n"
     ]
    },
    {
     "name": "stdout",
     "output_type": "stream",
     "text": [
      "Epoch 240, Loss 0.0162\n",
      "Training Accuracy: 0.9821, Testing Accuracy: 0.9768\n",
      "\n"
     ]
    },
    {
     "data": {
      "text/plain": [
       "0.005219735342422872"
      ]
     },
     "execution_count": 22,
     "metadata": {},
     "output_type": "execute_result"
    }
   ],
   "source": [
    "nn_learner.train_loop(dl)"
   ]
  },
  {
   "cell_type": "code",
   "execution_count": 23,
   "id": "e0163366",
   "metadata": {
    "execution": {
     "iopub.execute_input": "2022-03-10T10:12:39.246114Z",
     "iopub.status.busy": "2022-03-10T10:12:39.244920Z",
     "iopub.status.idle": "2022-03-10T10:12:51.628775Z",
     "shell.execute_reply": "2022-03-10T10:12:51.629170Z"
    },
    "papermill": {
     "duration": 12.423787,
     "end_time": "2022-03-10T10:12:51.629296",
     "exception": false,
     "start_time": "2022-03-10T10:12:39.205509",
     "status": "completed"
    },
    "tags": []
   },
   "outputs": [
    {
     "name": "stdout",
     "output_type": "stream",
     "text": [
      "Epoch 0, Loss 0.2643\n",
      "Training Accuracy: 0.5909, Testing Accuracy: 0.6159\n",
      "\n"
     ]
    },
    {
     "name": "stdout",
     "output_type": "stream",
     "text": [
      "Epoch 10, Loss 0.1046\n",
      "Training Accuracy: 0.9089, Testing Accuracy: 0.9229\n",
      "\n"
     ]
    },
    {
     "name": "stdout",
     "output_type": "stream",
     "text": [
      "Epoch 20, Loss 0.0796\n",
      "Training Accuracy: 0.9270, Testing Accuracy: 0.9425\n",
      "\n"
     ]
    },
    {
     "name": "stdout",
     "output_type": "stream",
     "text": [
      "Epoch 30, Loss 0.0684\n",
      "Training Accuracy: 0.9359, Testing Accuracy: 0.9516\n",
      "\n"
     ]
    },
    {
     "name": "stdout",
     "output_type": "stream",
     "text": [
      "Epoch 40, Loss 0.0618\n",
      "Training Accuracy: 0.9409, Testing Accuracy: 0.9551\n",
      "\n"
     ]
    },
    {
     "name": "stdout",
     "output_type": "stream",
     "text": [
      "Epoch 50, Loss 0.0573\n",
      "Training Accuracy: 0.9443, Testing Accuracy: 0.9577\n",
      "\n"
     ]
    },
    {
     "name": "stdout",
     "output_type": "stream",
     "text": [
      "Epoch 60, Loss 0.054\n",
      "Training Accuracy: 0.9488, Testing Accuracy: 0.9597\n",
      "\n"
     ]
    },
    {
     "name": "stdout",
     "output_type": "stream",
     "text": [
      "Epoch 70, Loss 0.0515\n",
      "Training Accuracy: 0.9498, Testing Accuracy: 0.9597\n",
      "\n"
     ]
    },
    {
     "name": "stdout",
     "output_type": "stream",
     "text": [
      "Epoch 80, Loss 0.0494\n",
      "Training Accuracy: 0.9512, Testing Accuracy: 0.9602\n",
      "\n"
     ]
    },
    {
     "name": "stdout",
     "output_type": "stream",
     "text": [
      "Epoch 90, Loss 0.0477\n",
      "Training Accuracy: 0.9523, Testing Accuracy: 0.9617\n",
      "\n"
     ]
    },
    {
     "name": "stdout",
     "output_type": "stream",
     "text": [
      "Epoch 100, Loss 0.0463\n",
      "Training Accuracy: 0.9533, Testing Accuracy: 0.9622\n",
      "\n"
     ]
    },
    {
     "name": "stdout",
     "output_type": "stream",
     "text": [
      "Epoch 110, Loss 0.0451\n",
      "Training Accuracy: 0.9542, Testing Accuracy: 0.9632\n",
      "\n"
     ]
    },
    {
     "name": "stdout",
     "output_type": "stream",
     "text": [
      "Epoch 120, Loss 0.044\n",
      "Training Accuracy: 0.9553, Testing Accuracy: 0.9642\n",
      "\n"
     ]
    },
    {
     "name": "stdout",
     "output_type": "stream",
     "text": [
      "Epoch 130, Loss 0.0431\n",
      "Training Accuracy: 0.9556, Testing Accuracy: 0.9662\n",
      "\n"
     ]
    },
    {
     "name": "stdout",
     "output_type": "stream",
     "text": [
      "Epoch 140, Loss 0.0423\n",
      "Training Accuracy: 0.9559, Testing Accuracy: 0.9667\n",
      "\n"
     ]
    },
    {
     "name": "stdout",
     "output_type": "stream",
     "text": [
      "Epoch 150, Loss 0.0415\n",
      "Training Accuracy: 0.9566, Testing Accuracy: 0.9667\n",
      "\n"
     ]
    },
    {
     "name": "stdout",
     "output_type": "stream",
     "text": [
      "Epoch 160, Loss 0.0409\n",
      "Training Accuracy: 0.9566, Testing Accuracy: 0.9667\n",
      "\n"
     ]
    },
    {
     "name": "stdout",
     "output_type": "stream",
     "text": [
      "Epoch 170, Loss 0.0402\n",
      "Training Accuracy: 0.9569, Testing Accuracy: 0.9682\n",
      "\n"
     ]
    },
    {
     "name": "stdout",
     "output_type": "stream",
     "text": [
      "Epoch 180, Loss 0.0397\n",
      "Training Accuracy: 0.9574, Testing Accuracy: 0.9688\n",
      "\n"
     ]
    },
    {
     "name": "stdout",
     "output_type": "stream",
     "text": [
      "Epoch 190, Loss 0.0392\n",
      "Training Accuracy: 0.9579, Testing Accuracy: 0.9677\n",
      "\n"
     ]
    },
    {
     "name": "stdout",
     "output_type": "stream",
     "text": [
      "Epoch 200, Loss 0.0387\n",
      "Training Accuracy: 0.9584, Testing Accuracy: 0.9672\n",
      "\n"
     ]
    },
    {
     "name": "stdout",
     "output_type": "stream",
     "text": [
      "Epoch 210, Loss 0.0382\n",
      "Training Accuracy: 0.9588, Testing Accuracy: 0.9672\n",
      "\n"
     ]
    },
    {
     "name": "stdout",
     "output_type": "stream",
     "text": [
      "Epoch 220, Loss 0.0378\n",
      "Training Accuracy: 0.9591, Testing Accuracy: 0.9667\n",
      "\n"
     ]
    },
    {
     "name": "stdout",
     "output_type": "stream",
     "text": [
      "Epoch 230, Loss 0.0374\n",
      "Training Accuracy: 0.9596, Testing Accuracy: 0.9667\n",
      "\n"
     ]
    },
    {
     "name": "stdout",
     "output_type": "stream",
     "text": [
      "Epoch 240, Loss 0.0371\n",
      "Training Accuracy: 0.9599, Testing Accuracy: 0.9672\n",
      "\n"
     ]
    },
    {
     "data": {
      "text/plain": [
       "0.015969851777652255"
      ]
     },
     "execution_count": 23,
     "metadata": {},
     "output_type": "execute_result"
    }
   ],
   "source": [
    "lr_learner.train_loop(dl)"
   ]
  },
  {
   "cell_type": "code",
   "execution_count": 24,
   "id": "ca410940",
   "metadata": {
    "execution": {
     "iopub.execute_input": "2022-03-10T10:12:51.723373Z",
     "iopub.status.busy": "2022-03-10T10:12:51.721302Z",
     "iopub.status.idle": "2022-03-10T10:12:51.959991Z",
     "shell.execute_reply": "2022-03-10T10:12:51.959554Z"
    },
    "papermill": {
     "duration": 0.288305,
     "end_time": "2022-03-10T10:12:51.960106",
     "exception": false,
     "start_time": "2022-03-10T10:12:51.671801",
     "status": "completed"
    },
    "tags": []
   },
   "outputs": [
    {
     "data": {
      "text/plain": [
       "<matplotlib.legend.Legend at 0x7ffa125ffd68>"
      ]
     },
     "execution_count": 24,
     "metadata": {},
     "output_type": "execute_result"
    },
    {
     "data": {
      "image/png": "[encoded data removed]",
      "text/plain": [
       "<Figure size 1080x720 with 1 Axes>"
      ]
     },
     "metadata": {
      "needs_background": "light"
     },
     "output_type": "display_data"
    }
   ],
   "source": [
    "#comparing the results of NN and LR\n",
    "plt.figure(figsize=(15,10))\n",
    "\n",
    "# Neural Network plots\n",
    "plt.plot(acc_nn.accuracies, 'r-', label = \"Training Accuracies - NN\")\n",
    "plt.plot(acc_nn.test_accuracies, 'g-', label = \"Testing Accuracies - NN\")\n",
    "\n",
    "# Logistic Regression plots\n",
    "plt.plot(acc_lr.accuracies, 'k-', label = \"Training Accuracies - LR\")\n",
    "plt.plot(acc_lr.test_accuracies, 'b-', label = \"Testing Accuracies - LR\")\n",
    "plt.legend()"
   ]
  },
  {
   "cell_type": "markdown",
   "id": "80dfb35c",
   "metadata": {
    "papermill": {
     "duration": 0.04392,
     "end_time": "2022-03-10T10:12:52.048229",
     "exception": false,
     "start_time": "2022-03-10T10:12:52.004309",
     "status": "completed"
    },
    "tags": []
   },
   "source": [
    "#### Plotting the outputs of this layer of the NN.\n"
   ]
  },
  {
   "cell_type": "code",
   "execution_count": 25,
   "id": "45eb2ff5",
   "metadata": {
    "execution": {
     "iopub.execute_input": "2022-03-10T10:12:52.140996Z",
     "iopub.status.busy": "2022-03-10T10:12:52.138943Z",
     "iopub.status.idle": "2022-03-10T10:12:52.174673Z",
     "shell.execute_reply": "2022-03-10T10:12:52.175065Z"
    },
    "papermill": {
     "duration": 0.083044,
     "end_time": "2022-03-10T10:12:52.175196",
     "exception": false,
     "start_time": "2022-03-10T10:12:52.092152",
     "status": "completed"
    },
    "tags": []
   },
   "outputs": [],
   "source": [
    "new_model = Model(layers[:-2])\n",
    "testing_plot = new_model(testing_data_x)"
   ]
  },
  {
   "cell_type": "code",
   "execution_count": 26,
   "id": "4c0a5485",
   "metadata": {
    "execution": {
     "iopub.execute_input": "2022-03-10T10:12:52.271244Z",
     "iopub.status.busy": "2022-03-10T10:12:52.270115Z",
     "iopub.status.idle": "2022-03-10T10:12:52.466077Z",
     "shell.execute_reply": "2022-03-10T10:12:52.465660Z"
    },
    "papermill": {
     "duration": 0.2463,
     "end_time": "2022-03-10T10:12:52.466189",
     "exception": false,
     "start_time": "2022-03-10T10:12:52.219889",
     "status": "completed"
    },
    "tags": []
   },
   "outputs": [
    {
     "data": {
      "text/plain": [
       "Text(0.5, 1.0, 'Outputs')"
      ]
     },
     "execution_count": 26,
     "metadata": {},
     "output_type": "execute_result"
    },
    {
     "data": {
      "image/png": "[encoded data removed]",
      "text/plain": [
       "<Figure size 576x504 with 1 Axes>"
      ]
     },
     "metadata": {
      "needs_background": "light"
     },
     "output_type": "display_data"
    }
   ],
   "source": [
    "# Plotting the scatter plot of points and color coding by class\n",
    "plt.figure(figsize=(8,7))\n",
    "plt.scatter(testing_plot[:,0], testing_plot[:,1], alpha = 0.1, c = y_test.ravel());\n",
    "plt.title('Outputs')"
   ]
  },
  {
   "cell_type": "markdown",
   "id": "a74fcf8f",
   "metadata": {
    "papermill": {
     "duration": 0.067313,
     "end_time": "2022-03-10T10:12:52.579663",
     "exception": false,
     "start_time": "2022-03-10T10:12:52.512350",
     "status": "completed"
    },
    "tags": []
   },
   "source": [
    "Probability contours"
   ]
  },
  {
   "cell_type": "code",
   "execution_count": 27,
   "id": "d0afc8e3",
   "metadata": {
    "execution": {
     "iopub.execute_input": "2022-03-10T10:12:52.675152Z",
     "iopub.status.busy": "2022-03-10T10:12:52.674643Z",
     "iopub.status.idle": "2022-03-10T10:12:52.685676Z",
     "shell.execute_reply": "2022-03-10T10:12:52.685283Z"
    },
    "papermill": {
     "duration": 0.059847,
     "end_time": "2022-03-10T10:12:52.685782",
     "exception": false,
     "start_time": "2022-03-10T10:12:52.625935",
     "status": "completed"
    },
    "tags": []
   },
   "outputs": [],
   "source": [
    "model_prob = Model(layers[-2:]) "
   ]
  },
  {
   "cell_type": "code",
   "execution_count": 28,
   "id": "9b96e238",
   "metadata": {
    "execution": {
     "iopub.execute_input": "2022-03-10T10:12:52.782008Z",
     "iopub.status.busy": "2022-03-10T10:12:52.781500Z",
     "iopub.status.idle": "2022-03-10T10:12:52.795615Z",
     "shell.execute_reply": "2022-03-10T10:12:52.796003Z"
    },
    "papermill": {
     "duration": 0.064156,
     "end_time": "2022-03-10T10:12:52.796128",
     "exception": false,
     "start_time": "2022-03-10T10:12:52.731972",
     "status": "completed"
    },
    "tags": []
   },
   "outputs": [],
   "source": [
    "#creating the x and y ranges according to the above generated plot.\n",
    "x_range = np.linspace(-4, 1, 100) \n",
    "y_range = np.linspace(-6, 6, 100) \n",
    "x_grid, y_grid = np.meshgrid(x_range, y_range) # x_grid and y_grig are of size 100 X 100\n",
    "\n",
    "# converting x_grid and y_grid to continuous arrays\n",
    "x_gridflat = np.ravel(x_grid)\n",
    "y_gridflat = np.ravel(y_grid)\n",
    "\n",
    "# The last layer of the current model takes two columns as input. Hence transpose of np.vstack() is required.\n",
    "X = np.vstack((x_gridflat, y_gridflat)).T\n",
    "\n",
    "prob_contour = model_prob(X).reshape(100,100) "
   ]
  },
  {
   "cell_type": "code",
   "execution_count": 29,
   "id": "da72499a",
   "metadata": {
    "execution": {
     "iopub.execute_input": "2022-03-10T10:12:52.899579Z",
     "iopub.status.busy": "2022-03-10T10:12:52.899056Z",
     "iopub.status.idle": "2022-03-10T10:12:53.140209Z",
     "shell.execute_reply": "2022-03-10T10:12:53.139791Z"
    },
    "papermill": {
     "duration": 0.293177,
     "end_time": "2022-03-10T10:12:53.140320",
     "exception": false,
     "start_time": "2022-03-10T10:12:52.847143",
     "status": "completed"
    },
    "tags": []
   },
   "outputs": [
    {
     "data": {
      "image/png": "[encoded data removed]",
      "text/plain": [
       "<Figure size 720x648 with 1 Axes>"
      ]
     },
     "metadata": {
      "needs_background": "light"
     },
     "output_type": "display_data"
    }
   ],
   "source": [
    "plt.figure(figsize=(10,9))\n",
    "plt.scatter(testing_plot[:,0], testing_plot[:,1], alpha = 0.1, c = y_test.ravel())\n",
    "contours = plt.contour(x_grid,y_grid,prob_contour)\n",
    "plt.title('Probability Contours')\n",
    "plt.clabel(contours, inline = True );"
   ]
  },
  {
   "cell_type": "code",
   "execution_count": null,
   "id": "e81b4ac7",
   "metadata": {
    "papermill": {
     "duration": 0.04879,
     "end_time": "2022-03-10T10:12:53.238658",
     "exception": false,
     "start_time": "2022-03-10T10:12:53.189868",
     "status": "completed"
    },
    "tags": []
   },
   "outputs": [],
   "source": []
  }
 ],
 "metadata": {
  "kernelspec": {
   "display_name": "Python 3",
   "language": "python",
   "name": "python3"
  },
  "language_info": {
   "codemirror_mode": {
    "name": "ipython",
    "version": 3
   },
   "file_extension": ".py",
   "mimetype": "text/x-python",
   "name": "python",
   "nbconvert_exporter": "python",
   "pygments_lexer": "ipython3",
   "version": "3.6.15"
  },
  "papermill": {
   "default_parameters": {},
   "duration": 198.042989,
   "end_time": "2022-03-10T10:12:53.604990",
   "environment_variables": {},
   "exception": null,
   "input_path": "2020-08-11-part2.ipynb",
   "output_path": "2020-08-11-part2.ipynb",
   "parameters": {},
   "start_time": "2022-03-10T10:09:35.562001",
   "version": "2.3.3"
  }
 },
 "nbformat": 4,
 "nbformat_minor": 5
}