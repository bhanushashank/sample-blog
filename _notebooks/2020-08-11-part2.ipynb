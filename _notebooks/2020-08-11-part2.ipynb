{
 "cells": [
  {
   "cell_type": "markdown",
   "id": "98380cd3",
   "metadata": {
    "papermill": {
     "duration": 0.028554,
     "end_time": "2022-03-24T10:09:43.949189",
     "exception": false,
     "start_time": "2022-03-24T10:09:43.920635",
     "status": "completed"
    },
    "tags": []
   },
   "source": [
    "# Distinguish Your Own Digits (DYOD)"
   ]
  },
  {
   "cell_type": "markdown",
   "id": "ef31240d",
   "metadata": {
    "papermill": {
     "duration": 0.02507,
     "end_time": "2022-03-24T10:09:43.998552",
     "exception": false,
     "start_time": "2022-03-24T10:09:43.973482",
     "status": "completed"
    },
    "tags": []
   },
   "source": [
    "You are going to write a classifier that distinguishes between the number 3 and number 8."
   ]
  },
  {
   "cell_type": "code",
   "execution_count": 1,
   "id": "b15c8646",
   "metadata": {
    "execution": {
     "iopub.execute_input": "2022-03-24T10:09:44.055479Z",
     "iopub.status.busy": "2022-03-24T10:09:44.054898Z",
     "iopub.status.idle": "2022-03-24T10:09:44.064566Z",
     "shell.execute_reply": "2022-03-24T10:09:44.064110Z"
    },
    "papermill": {
     "duration": 0.042503,
     "end_time": "2022-03-24T10:09:44.064693",
     "exception": false,
     "start_time": "2022-03-24T10:09:44.022190",
     "status": "completed"
    },
    "tags": []
   },
   "outputs": [],
   "source": [
    "%load_ext autoreload\n",
    "%autoreload 2"
   ]
  },
  {
   "cell_type": "code",
   "execution_count": 2,
   "id": "22ef38dc",
   "metadata": {
    "execution": {
     "iopub.execute_input": "2022-03-24T10:09:44.116928Z",
     "iopub.status.busy": "2022-03-24T10:09:44.116411Z",
     "iopub.status.idle": "2022-03-24T10:09:44.695296Z",
     "shell.execute_reply": "2022-03-24T10:09:44.694727Z"
    },
    "papermill": {
     "duration": 0.606832,
     "end_time": "2022-03-24T10:09:44.695436",
     "exception": false,
     "start_time": "2022-03-24T10:09:44.088604",
     "status": "completed"
    },
    "tags": []
   },
   "outputs": [],
   "source": [
    "%matplotlib inline\n",
    "import numpy as np\n",
    "import matplotlib.pyplot as plt\n",
    "import pandas as pd"
   ]
  },
  {
   "cell_type": "markdown",
   "id": "ba036198",
   "metadata": {
    "papermill": {
     "duration": 0.023762,
     "end_time": "2022-03-24T10:09:44.743099",
     "exception": false,
     "start_time": "2022-03-24T10:09:44.719337",
     "status": "completed"
    },
    "tags": []
   },
   "source": [
    "From the command line run `pip install mnist`. This is a library that will help you bring down the mnist dataset. If you run this from a notebook, you need to put  `!pip install mnist` in a cell by itself."
   ]
  },
  {
   "cell_type": "code",
   "execution_count": 3,
   "id": "bb6ad8a1",
   "metadata": {
    "execution": {
     "iopub.execute_input": "2022-03-24T10:09:44.803928Z",
     "iopub.status.busy": "2022-03-24T10:09:44.799399Z",
     "iopub.status.idle": "2022-03-24T10:09:46.385904Z",
     "shell.execute_reply": "2022-03-24T10:09:46.384985Z"
    },
    "papermill": {
     "duration": 1.619068,
     "end_time": "2022-03-24T10:09:46.386057",
     "exception": false,
     "start_time": "2022-03-24T10:09:44.766989",
     "status": "completed"
    },
    "tags": []
   },
   "outputs": [
    {
     "name": "stdout",
     "output_type": "stream",
     "text": [
      "Collecting mnist\r\n"
     ]
    },
    {
     "name": "stdout",
     "output_type": "stream",
     "text": [
      "  Downloading mnist-0.2.2-py2.py3-none-any.whl (3.5 kB)\r\n",
      "Requirement already satisfied: numpy in /opt/hostedtoolcache/Python/3.6.15/x64/lib/python3.6/site-packages (from mnist) (1.19.5)\r\n"
     ]
    },
    {
     "name": "stdout",
     "output_type": "stream",
     "text": [
      "Installing collected packages: mnist\r\n"
     ]
    },
    {
     "name": "stdout",
     "output_type": "stream",
     "text": [
      "Successfully installed mnist-0.2.2\r\n"
     ]
    }
   ],
   "source": [
    "!pip install mnist"
   ]
  },
  {
   "cell_type": "markdown",
   "id": "69df9c9a",
   "metadata": {
    "papermill": {
     "duration": 0.022163,
     "end_time": "2022-03-24T10:09:46.432045",
     "exception": false,
     "start_time": "2022-03-24T10:09:46.409882",
     "status": "completed"
    },
    "tags": []
   },
   "source": [
    "## Preparing the Data"
   ]
  },
  {
   "cell_type": "code",
   "execution_count": 4,
   "id": "7f69d806",
   "metadata": {
    "execution": {
     "iopub.execute_input": "2022-03-24T10:09:46.482196Z",
     "iopub.status.busy": "2022-03-24T10:09:46.481746Z",
     "iopub.status.idle": "2022-03-24T10:09:46.494578Z",
     "shell.execute_reply": "2022-03-24T10:09:46.494203Z"
    },
    "papermill": {
     "duration": 0.040834,
     "end_time": "2022-03-24T10:09:46.494673",
     "exception": false,
     "start_time": "2022-03-24T10:09:46.453839",
     "status": "completed"
    },
    "tags": []
   },
   "outputs": [],
   "source": [
    "import mnist"
   ]
  },
  {
   "cell_type": "code",
   "execution_count": 5,
   "id": "a411e44f",
   "metadata": {
    "execution": {
     "iopub.execute_input": "2022-03-24T10:09:46.541864Z",
     "iopub.status.busy": "2022-03-24T10:09:46.541402Z",
     "iopub.status.idle": "2022-03-24T10:09:47.284126Z",
     "shell.execute_reply": "2022-03-24T10:09:47.283390Z"
    },
    "papermill": {
     "duration": 0.767475,
     "end_time": "2022-03-24T10:09:47.284272",
     "exception": false,
     "start_time": "2022-03-24T10:09:46.516797",
     "status": "completed"
    },
    "tags": []
   },
   "outputs": [],
   "source": [
    "train_images = mnist.train_images()\n",
    "train_labels = mnist.train_labels()"
   ]
  },
  {
   "cell_type": "code",
   "execution_count": 6,
   "id": "dceab3a5",
   "metadata": {
    "execution": {
     "iopub.execute_input": "2022-03-24T10:09:47.348302Z",
     "iopub.status.busy": "2022-03-24T10:09:47.341045Z",
     "iopub.status.idle": "2022-03-24T10:09:47.351374Z",
     "shell.execute_reply": "2022-03-24T10:09:47.351814Z"
    },
    "papermill": {
     "duration": 0.044597,
     "end_time": "2022-03-24T10:09:47.351937",
     "exception": false,
     "start_time": "2022-03-24T10:09:47.307340",
     "status": "completed"
    },
    "tags": []
   },
   "outputs": [
    {
     "data": {
      "text/plain": [
       "((60000, 28, 28), (60000,))"
      ]
     },
     "execution_count": 6,
     "metadata": {},
     "output_type": "execute_result"
    }
   ],
   "source": [
    "train_images.shape, train_labels.shape"
   ]
  },
  {
   "cell_type": "code",
   "execution_count": 7,
   "id": "f50dc2bb",
   "metadata": {
    "execution": {
     "iopub.execute_input": "2022-03-24T10:09:47.408341Z",
     "iopub.status.busy": "2022-03-24T10:09:47.407892Z",
     "iopub.status.idle": "2022-03-24T10:09:47.742116Z",
     "shell.execute_reply": "2022-03-24T10:09:47.741624Z"
    },
    "papermill": {
     "duration": 0.368101,
     "end_time": "2022-03-24T10:09:47.742252",
     "exception": false,
     "start_time": "2022-03-24T10:09:47.374151",
     "status": "completed"
    },
    "tags": []
   },
   "outputs": [],
   "source": [
    "test_images = mnist.test_images()\n",
    "test_labels = mnist.test_labels()"
   ]
  },
  {
   "cell_type": "code",
   "execution_count": 8,
   "id": "fc38cf1b",
   "metadata": {
    "execution": {
     "iopub.execute_input": "2022-03-24T10:09:47.791255Z",
     "iopub.status.busy": "2022-03-24T10:09:47.790776Z",
     "iopub.status.idle": "2022-03-24T10:09:47.804166Z",
     "shell.execute_reply": "2022-03-24T10:09:47.803779Z"
    },
    "papermill": {
     "duration": 0.039123,
     "end_time": "2022-03-24T10:09:47.804270",
     "exception": false,
     "start_time": "2022-03-24T10:09:47.765147",
     "status": "completed"
    },
    "tags": []
   },
   "outputs": [
    {
     "data": {
      "text/plain": [
       "((10000, 28, 28), (10000,))"
      ]
     },
     "execution_count": 8,
     "metadata": {},
     "output_type": "execute_result"
    }
   ],
   "source": [
    "test_images.shape, test_labels.shape"
   ]
  },
  {
   "cell_type": "code",
   "execution_count": 9,
   "id": "f9ed8fe0",
   "metadata": {
    "execution": {
     "iopub.execute_input": "2022-03-24T10:09:47.856025Z",
     "iopub.status.busy": "2022-03-24T10:09:47.855571Z",
     "iopub.status.idle": "2022-03-24T10:09:47.990681Z",
     "shell.execute_reply": "2022-03-24T10:09:47.991152Z"
    },
    "papermill": {
     "duration": 0.164429,
     "end_time": "2022-03-24T10:09:47.991338",
     "exception": false,
     "start_time": "2022-03-24T10:09:47.826909",
     "status": "completed"
    },
    "tags": []
   },
   "outputs": [
    {
     "name": "stdout",
     "output_type": "stream",
     "text": [
      "2\n"
     ]
    },
    {
     "data": {
      "text/plain": [
       "<matplotlib.image.AxesImage at 0x7f6f082df630>"
      ]
     },
     "execution_count": 9,
     "metadata": {},
     "output_type": "execute_result"
    },
    {
     "data": {
      "image/png": "[encoded data removed]",
      "text/plain": [
       "<Figure size 432x288 with 1 Axes>"
      ]
     },
     "metadata": {
      "needs_background": "light"
     },
     "output_type": "display_data"
    }
   ],
   "source": [
    "image_index = 7776 # You may select anything up to 60,000\n",
    "print(train_labels[image_index]) \n",
    "plt.imshow(train_images[image_index], cmap='Greys')"
   ]
  },
  {
   "cell_type": "markdown",
   "id": "a8d2388d",
   "metadata": {
    "papermill": {
     "duration": 0.023411,
     "end_time": "2022-03-24T10:09:48.039927",
     "exception": false,
     "start_time": "2022-03-24T10:09:48.016516",
     "status": "completed"
    },
    "tags": []
   },
   "source": [
    "## Filter data to get 3 and 8 out"
   ]
  },
  {
   "cell_type": "code",
   "execution_count": 10,
   "id": "776f7fc7",
   "metadata": {
    "execution": {
     "iopub.execute_input": "2022-03-24T10:09:48.090979Z",
     "iopub.status.busy": "2022-03-24T10:09:48.090506Z",
     "iopub.status.idle": "2022-03-24T10:09:48.108647Z",
     "shell.execute_reply": "2022-03-24T10:09:48.109068Z"
    },
    "papermill": {
     "duration": 0.045949,
     "end_time": "2022-03-24T10:09:48.109213",
     "exception": false,
     "start_time": "2022-03-24T10:09:48.063264",
     "status": "completed"
    },
    "tags": []
   },
   "outputs": [],
   "source": [
    "train_filter = np.where((train_labels == 3 ) | (train_labels == 8))\n",
    "test_filter = np.where((test_labels == 3) | (test_labels == 8))\n",
    "X_train, y_train = train_images[train_filter], train_labels[train_filter]\n",
    "X_test, y_test = test_images[test_filter], test_labels[test_filter]"
   ]
  },
  {
   "cell_type": "markdown",
   "id": "948f0b7e",
   "metadata": {
    "papermill": {
     "duration": 0.026391,
     "end_time": "2022-03-24T10:09:48.162309",
     "exception": false,
     "start_time": "2022-03-24T10:09:48.135918",
     "status": "completed"
    },
    "tags": []
   },
   "source": [
    "We normalize the pizel values in the 0 to 1 range"
   ]
  },
  {
   "cell_type": "code",
   "execution_count": 11,
   "id": "ee4c2166",
   "metadata": {
    "execution": {
     "iopub.execute_input": "2022-03-24T10:09:48.228791Z",
     "iopub.status.busy": "2022-03-24T10:09:48.228254Z",
     "iopub.status.idle": "2022-03-24T10:09:48.271368Z",
     "shell.execute_reply": "2022-03-24T10:09:48.271843Z"
    },
    "papermill": {
     "duration": 0.083342,
     "end_time": "2022-03-24T10:09:48.271998",
     "exception": false,
     "start_time": "2022-03-24T10:09:48.188656",
     "status": "completed"
    },
    "tags": []
   },
   "outputs": [],
   "source": [
    "X_train = X_train/255.\n",
    "X_test = X_test/255."
   ]
  },
  {
   "cell_type": "markdown",
   "id": "ddcf4fab",
   "metadata": {
    "papermill": {
     "duration": 0.026444,
     "end_time": "2022-03-24T10:09:48.325775",
     "exception": false,
     "start_time": "2022-03-24T10:09:48.299331",
     "status": "completed"
    },
    "tags": []
   },
   "source": [
    "And setup the labels as 1 (when the digit is 3) and 0 (when the digit is 8)"
   ]
  },
  {
   "cell_type": "code",
   "execution_count": 12,
   "id": "7dc908f2",
   "metadata": {
    "execution": {
     "iopub.execute_input": "2022-03-24T10:09:48.384258Z",
     "iopub.status.busy": "2022-03-24T10:09:48.383670Z",
     "iopub.status.idle": "2022-03-24T10:09:48.405905Z",
     "shell.execute_reply": "2022-03-24T10:09:48.406485Z"
    },
    "papermill": {
     "duration": 0.054465,
     "end_time": "2022-03-24T10:09:48.406647",
     "exception": false,
     "start_time": "2022-03-24T10:09:48.352182",
     "status": "completed"
    },
    "tags": []
   },
   "outputs": [],
   "source": [
    "y_train = 1*(y_train==3)\n",
    "y_test = 1*(y_test==3)"
   ]
  },
  {
   "cell_type": "code",
   "execution_count": 13,
   "id": "01e4e969",
   "metadata": {
    "execution": {
     "iopub.execute_input": "2022-03-24T10:09:48.480235Z",
     "iopub.status.busy": "2022-03-24T10:09:48.479691Z",
     "iopub.status.idle": "2022-03-24T10:09:48.482756Z",
     "shell.execute_reply": "2022-03-24T10:09:48.482239Z"
    },
    "papermill": {
     "duration": 0.047647,
     "end_time": "2022-03-24T10:09:48.482867",
     "exception": false,
     "start_time": "2022-03-24T10:09:48.435220",
     "status": "completed"
    },
    "tags": []
   },
   "outputs": [
    {
     "data": {
      "text/plain": [
       "((11982, 28, 28), (1984, 28, 28))"
      ]
     },
     "execution_count": 13,
     "metadata": {},
     "output_type": "execute_result"
    }
   ],
   "source": [
    "X_train.shape, X_test.shape"
   ]
  },
  {
   "cell_type": "markdown",
   "id": "5ccf3f85",
   "metadata": {
    "papermill": {
     "duration": 0.026598,
     "end_time": "2022-03-24T10:09:48.536228",
     "exception": false,
     "start_time": "2022-03-24T10:09:48.509630",
     "status": "completed"
    },
    "tags": []
   },
   "source": [
    "We reshape the data to flatten the image pixels into a set of features or co-variates:"
   ]
  },
  {
   "cell_type": "code",
   "execution_count": 14,
   "id": "5286a4a3",
   "metadata": {
    "execution": {
     "iopub.execute_input": "2022-03-24T10:09:48.609752Z",
     "iopub.status.busy": "2022-03-24T10:09:48.608954Z",
     "iopub.status.idle": "2022-03-24T10:09:48.611544Z",
     "shell.execute_reply": "2022-03-24T10:09:48.612152Z"
    },
    "papermill": {
     "duration": 0.049315,
     "end_time": "2022-03-24T10:09:48.612312",
     "exception": false,
     "start_time": "2022-03-24T10:09:48.562997",
     "status": "completed"
    },
    "tags": []
   },
   "outputs": [
    {
     "data": {
      "text/plain": [
       "((11982, 784), (1984, 784))"
      ]
     },
     "execution_count": 14,
     "metadata": {},
     "output_type": "execute_result"
    }
   ],
   "source": [
    "X_train = X_train.reshape(X_train.shape[0], -1)\n",
    "X_test = X_test.reshape(X_test.shape[0], -1)\n",
    "X_train.shape, X_test.shape"
   ]
  },
  {
   "cell_type": "code",
   "execution_count": 15,
   "id": "73c5f88a",
   "metadata": {
    "execution": {
     "iopub.execute_input": "2022-03-24T10:09:48.672742Z",
     "iopub.status.busy": "2022-03-24T10:09:48.672201Z",
     "iopub.status.idle": "2022-03-24T10:09:48.691547Z",
     "shell.execute_reply": "2022-03-24T10:09:48.691037Z"
    },
    "papermill": {
     "duration": 0.050308,
     "end_time": "2022-03-24T10:09:48.691677",
     "exception": false,
     "start_time": "2022-03-24T10:09:48.641369",
     "status": "completed"
    },
    "tags": []
   },
   "outputs": [],
   "source": [
    "#Impoting functions from 'Kudzu'\n",
    "from kudzu.model import Model\n",
    "from kudzu.train import Learner\n",
    "from kudzu.optim import GD\n",
    "from kudzu.data import Data, Sampler,Dataloader\n",
    "\n",
    "from kudzu.callbacks import AccCallback\n",
    "from kudzu.callbacks import ClfCallback\n",
    "\n",
    "from kudzu.loss import MSE\n",
    "\n",
    "from kudzu.layer import Sigmoid,Relu\n",
    "from kudzu.layer import Affine"
   ]
  },
  {
   "cell_type": "markdown",
   "id": "bc01172a",
   "metadata": {
    "papermill": {
     "duration": 0.027001,
     "end_time": "2022-03-24T10:09:48.746608",
     "exception": false,
     "start_time": "2022-03-24T10:09:48.719607",
     "status": "completed"
    },
    "tags": []
   },
   "source": [
    "### Let us create a `Config` class, to store important parameters. \n",
    "This class essentially plays the role of a dictionary."
   ]
  },
  {
   "cell_type": "code",
   "execution_count": 16,
   "id": "978281aa",
   "metadata": {
    "execution": {
     "iopub.execute_input": "2022-03-24T10:09:48.803816Z",
     "iopub.status.busy": "2022-03-24T10:09:48.803287Z",
     "iopub.status.idle": "2022-03-24T10:09:48.815264Z",
     "shell.execute_reply": "2022-03-24T10:09:48.815658Z"
    },
    "papermill": {
     "duration": 0.042414,
     "end_time": "2022-03-24T10:09:48.815790",
     "exception": false,
     "start_time": "2022-03-24T10:09:48.773376",
     "status": "completed"
    },
    "tags": []
   },
   "outputs": [],
   "source": [
    "class Config:\n",
    "    pass\n",
    "config = Config()\n",
    "config.lr = 0.001\n",
    "config.num_epochs = 250\n",
    "config.bs = 50"
   ]
  },
  {
   "cell_type": "markdown",
   "id": "1385fa59",
   "metadata": {
    "papermill": {
     "duration": 0.027018,
     "end_time": "2022-03-24T10:09:48.869728",
     "exception": false,
     "start_time": "2022-03-24T10:09:48.842710",
     "status": "completed"
    },
    "tags": []
   },
   "source": [
    "### Running Models with the Training data\n",
    "Details about the network layers:\n",
    "- A first affine layer has 784 inputs and does 100 affine transforms. These are followed by a Relu\n",
    "- A second affine layer has 100 inputs from the 100 activations of the past layer, and does 100 affine transforms. These are followed by a Relu\n",
    "- A third affine layer has 100 activations and does 2 affine transformations to create an embedding for visualization. There is no non-linearity here.\n",
    "- A final \"logistic regression\" which has an affine transform from 2 inputs to 1 output, which is squeezed through a sigmoid.\n"
   ]
  },
  {
   "cell_type": "code",
   "execution_count": 17,
   "id": "2b9c66db",
   "metadata": {
    "execution": {
     "iopub.execute_input": "2022-03-24T10:09:48.933409Z",
     "iopub.status.busy": "2022-03-24T10:09:48.932852Z",
     "iopub.status.idle": "2022-03-24T10:09:48.942929Z",
     "shell.execute_reply": "2022-03-24T10:09:48.942510Z"
    },
    "papermill": {
     "duration": 0.044786,
     "end_time": "2022-03-24T10:09:48.943039",
     "exception": false,
     "start_time": "2022-03-24T10:09:48.898253",
     "status": "completed"
    },
    "tags": []
   },
   "outputs": [],
   "source": [
    "data = Data(X_train, y_train.reshape(-1,1))\n",
    "sampler = Sampler(data, config.bs, shuffle=True)\n",
    "\n",
    "dl = Dataloader(data, sampler)\n",
    "\n",
    "opt = GD(config.lr)\n",
    "loss = MSE()"
   ]
  },
  {
   "cell_type": "code",
   "execution_count": 18,
   "id": "b275e4c2",
   "metadata": {
    "execution": {
     "iopub.execute_input": "2022-03-24T10:09:49.016185Z",
     "iopub.status.busy": "2022-03-24T10:09:49.015659Z",
     "iopub.status.idle": "2022-03-24T10:09:49.018047Z",
     "shell.execute_reply": "2022-03-24T10:09:49.017638Z"
    },
    "papermill": {
     "duration": 0.048116,
     "end_time": "2022-03-24T10:09:49.018158",
     "exception": false,
     "start_time": "2022-03-24T10:09:48.970042",
     "status": "completed"
    },
    "tags": []
   },
   "outputs": [],
   "source": [
    "training_data_x = X_train\n",
    "testing_data_x = X_test\n",
    "training_data_y = y_train.reshape(-1,1)\n",
    "testing_data_y = y_test.reshape(-1,1)"
   ]
  },
  {
   "cell_type": "code",
   "execution_count": 19,
   "id": "76951160",
   "metadata": {
    "execution": {
     "iopub.execute_input": "2022-03-24T10:09:49.076530Z",
     "iopub.status.busy": "2022-03-24T10:09:49.076003Z",
     "iopub.status.idle": "2022-03-24T10:09:49.091059Z",
     "shell.execute_reply": "2022-03-24T10:09:49.091468Z"
    },
    "papermill": {
     "duration": 0.04655,
     "end_time": "2022-03-24T10:09:49.091603",
     "exception": false,
     "start_time": "2022-03-24T10:09:49.045053",
     "status": "completed"
    },
    "tags": []
   },
   "outputs": [
    {
     "name": "stdout",
     "output_type": "stream",
     "text": [
      "xavier\n",
      "xavier\n",
      "xavier\n",
      "xavier\n",
      "xavier\n"
     ]
    }
   ],
   "source": [
    "layers = [Affine(\"first\", 784, 100), Relu(\"first\"), Affine(\"second\", 100, 100), Relu(\"second\"), Affine(\"third\", 100, 2), Affine(\"last\", 2, 1), Sigmoid(\"last\")]\n",
    "model_nn = Model(layers)\n",
    "model_lr = Model([Affine(\"logits\", 784, 1), Sigmoid(\"sigmoid\")])"
   ]
  },
  {
   "cell_type": "code",
   "execution_count": 20,
   "id": "6eede77a",
   "metadata": {
    "execution": {
     "iopub.execute_input": "2022-03-24T10:09:49.152577Z",
     "iopub.status.busy": "2022-03-24T10:09:49.152064Z",
     "iopub.status.idle": "2022-03-24T10:09:49.162775Z",
     "shell.execute_reply": "2022-03-24T10:09:49.163205Z"
    },
    "papermill": {
     "duration": 0.044406,
     "end_time": "2022-03-24T10:09:49.163335",
     "exception": false,
     "start_time": "2022-03-24T10:09:49.118929",
     "status": "completed"
    },
    "tags": []
   },
   "outputs": [],
   "source": [
    "nn_learner = Learner(loss, model_nn, opt, config.num_epochs)\n",
    "acc_nn = ClfCallback(nn_learner, config.bs, training_data_x , testing_data_x, training_data_y, testing_data_y)\n",
    "nn_learner.set_callbacks([acc_nn])"
   ]
  },
  {
   "cell_type": "code",
   "execution_count": 21,
   "id": "877b6cc7",
   "metadata": {
    "execution": {
     "iopub.execute_input": "2022-03-24T10:09:49.228134Z",
     "iopub.status.busy": "2022-03-24T10:09:49.227598Z",
     "iopub.status.idle": "2022-03-24T10:09:49.235980Z",
     "shell.execute_reply": "2022-03-24T10:09:49.235562Z"
    },
    "papermill": {
     "duration": 0.045543,
     "end_time": "2022-03-24T10:09:49.236096",
     "exception": false,
     "start_time": "2022-03-24T10:09:49.190553",
     "status": "completed"
    },
    "tags": []
   },
   "outputs": [],
   "source": [
    "lr_learner = Learner(loss, model_lr, opt, config.num_epochs)\n",
    "acc_lr = ClfCallback(lr_learner, config.bs, training_data_x , testing_data_x, training_data_y, testing_data_y)\n",
    "lr_learner.set_callbacks([acc_lr])"
   ]
  },
  {
   "cell_type": "code",
   "execution_count": 22,
   "id": "d9b133c3",
   "metadata": {
    "execution": {
     "iopub.execute_input": "2022-03-24T10:09:49.294811Z",
     "iopub.status.busy": "2022-03-24T10:09:49.294305Z",
     "iopub.status.idle": "2022-03-24T10:11:04.924783Z",
     "shell.execute_reply": "2022-03-24T10:11:04.925512Z"
    },
    "papermill": {
     "duration": 75.662043,
     "end_time": "2022-03-24T10:11:04.925669",
     "exception": false,
     "start_time": "2022-03-24T10:09:49.263626",
     "status": "completed"
    },
    "tags": []
   },
   "outputs": [
    {
     "name": "stdout",
     "output_type": "stream",
     "text": [
      "Epoch 0, Loss 0.2511\n",
      "Training Accuracy: 0.5396, Testing Accuracy: 0.5323\n",
      "\n"
     ]
    },
    {
     "name": "stdout",
     "output_type": "stream",
     "text": [
      "Epoch 10, Loss 0.1864\n",
      "Training Accuracy: 0.8558, Testing Accuracy: 0.8614\n",
      "\n"
     ]
    },
    {
     "name": "stdout",
     "output_type": "stream",
     "text": [
      "Epoch 20, Loss 0.0946\n",
      "Training Accuracy: 0.9110, Testing Accuracy: 0.9209\n",
      "\n"
     ]
    },
    {
     "name": "stdout",
     "output_type": "stream",
     "text": [
      "Epoch 30, Loss 0.06\n",
      "Training Accuracy: 0.9377, Testing Accuracy: 0.9491\n",
      "\n"
     ]
    },
    {
     "name": "stdout",
     "output_type": "stream",
     "text": [
      "Epoch 40, Loss 0.0468\n",
      "Training Accuracy: 0.9487, Testing Accuracy: 0.9607\n",
      "\n"
     ]
    },
    {
     "name": "stdout",
     "output_type": "stream",
     "text": [
      "Epoch 50, Loss 0.0401\n",
      "Training Accuracy: 0.9542, Testing Accuracy: 0.9647\n",
      "\n"
     ]
    },
    {
     "name": "stdout",
     "output_type": "stream",
     "text": [
      "Epoch 60, Loss 0.0361\n",
      "Training Accuracy: 0.9581, Testing Accuracy: 0.9667\n",
      "\n"
     ]
    },
    {
     "name": "stdout",
     "output_type": "stream",
     "text": [
      "Epoch 70, Loss 0.0334\n",
      "Training Accuracy: 0.9606, Testing Accuracy: 0.9682\n",
      "\n"
     ]
    },
    {
     "name": "stdout",
     "output_type": "stream",
     "text": [
      "Epoch 80, Loss 0.0314\n",
      "Training Accuracy: 0.9630, Testing Accuracy: 0.9682\n",
      "\n"
     ]
    },
    {
     "name": "stdout",
     "output_type": "stream",
     "text": [
      "Epoch 90, Loss 0.0298\n",
      "Training Accuracy: 0.9655, Testing Accuracy: 0.9682\n",
      "\n"
     ]
    },
    {
     "name": "stdout",
     "output_type": "stream",
     "text": [
      "Epoch 100, Loss 0.0285\n",
      "Training Accuracy: 0.9670, Testing Accuracy: 0.9688\n",
      "\n"
     ]
    },
    {
     "name": "stdout",
     "output_type": "stream",
     "text": [
      "Epoch 110, Loss 0.0273\n",
      "Training Accuracy: 0.9675, Testing Accuracy: 0.9698\n",
      "\n"
     ]
    },
    {
     "name": "stdout",
     "output_type": "stream",
     "text": [
      "Epoch 120, Loss 0.0264\n",
      "Training Accuracy: 0.9691, Testing Accuracy: 0.9698\n",
      "\n"
     ]
    },
    {
     "name": "stdout",
     "output_type": "stream",
     "text": [
      "Epoch 130, Loss 0.0255\n",
      "Training Accuracy: 0.9703, Testing Accuracy: 0.9718\n",
      "\n"
     ]
    },
    {
     "name": "stdout",
     "output_type": "stream",
     "text": [
      "Epoch 140, Loss 0.0247\n",
      "Training Accuracy: 0.9715, Testing Accuracy: 0.9718\n",
      "\n"
     ]
    },
    {
     "name": "stdout",
     "output_type": "stream",
     "text": [
      "Epoch 150, Loss 0.024\n",
      "Training Accuracy: 0.9724, Testing Accuracy: 0.9718\n",
      "\n"
     ]
    },
    {
     "name": "stdout",
     "output_type": "stream",
     "text": [
      "Epoch 160, Loss 0.0233\n",
      "Training Accuracy: 0.9731, Testing Accuracy: 0.9723\n",
      "\n"
     ]
    },
    {
     "name": "stdout",
     "output_type": "stream",
     "text": [
      "Epoch 170, Loss 0.0227\n",
      "Training Accuracy: 0.9743, Testing Accuracy: 0.9723\n",
      "\n"
     ]
    },
    {
     "name": "stdout",
     "output_type": "stream",
     "text": [
      "Epoch 180, Loss 0.0222\n",
      "Training Accuracy: 0.9745, Testing Accuracy: 0.9733\n",
      "\n"
     ]
    },
    {
     "name": "stdout",
     "output_type": "stream",
     "text": [
      "Epoch 190, Loss 0.0216\n",
      "Training Accuracy: 0.9754, Testing Accuracy: 0.9738\n",
      "\n"
     ]
    },
    {
     "name": "stdout",
     "output_type": "stream",
     "text": [
      "Epoch 200, Loss 0.0211\n",
      "Training Accuracy: 0.9759, Testing Accuracy: 0.9738\n",
      "\n"
     ]
    },
    {
     "name": "stdout",
     "output_type": "stream",
     "text": [
      "Epoch 210, Loss 0.0206\n",
      "Training Accuracy: 0.9768, Testing Accuracy: 0.9748\n",
      "\n"
     ]
    },
    {
     "name": "stdout",
     "output_type": "stream",
     "text": [
      "Epoch 220, Loss 0.0202\n",
      "Training Accuracy: 0.9777, Testing Accuracy: 0.9748\n",
      "\n"
     ]
    },
    {
     "name": "stdout",
     "output_type": "stream",
     "text": [
      "Epoch 230, Loss 0.0197\n",
      "Training Accuracy: 0.9780, Testing Accuracy: 0.9753\n",
      "\n"
     ]
    },
    {
     "name": "stdout",
     "output_type": "stream",
     "text": [
      "Epoch 240, Loss 0.0193\n",
      "Training Accuracy: 0.9785, Testing Accuracy: 0.9753\n",
      "\n"
     ]
    },
    {
     "data": {
      "text/plain": [
       "0.012888652203545407"
      ]
     },
     "execution_count": 22,
     "metadata": {},
     "output_type": "execute_result"
    }
   ],
   "source": [
    "nn_learner.train_loop(dl)"
   ]
  },
  {
   "cell_type": "code",
   "execution_count": 23,
   "id": "e0163366",
   "metadata": {
    "execution": {
     "iopub.execute_input": "2022-03-24T10:11:05.004551Z",
     "iopub.status.busy": "2022-03-24T10:11:05.004032Z",
     "iopub.status.idle": "2022-03-24T10:11:18.791089Z",
     "shell.execute_reply": "2022-03-24T10:11:18.791861Z"
    },
    "papermill": {
     "duration": 13.831408,
     "end_time": "2022-03-24T10:11:18.792016",
     "exception": false,
     "start_time": "2022-03-24T10:11:04.960608",
     "status": "completed"
    },
    "tags": []
   },
   "outputs": [
    {
     "name": "stdout",
     "output_type": "stream",
     "text": [
      "Epoch 0, Loss 0.2875\n",
      "Training Accuracy: 0.4727, Testing Accuracy: 0.4924\n",
      "\n"
     ]
    },
    {
     "name": "stdout",
     "output_type": "stream",
     "text": [
      "Epoch 10, Loss 0.1081\n",
      "Training Accuracy: 0.9042, Testing Accuracy: 0.9143\n",
      "\n"
     ]
    },
    {
     "name": "stdout",
     "output_type": "stream",
     "text": [
      "Epoch 20, Loss 0.0816\n",
      "Training Accuracy: 0.9227, Testing Accuracy: 0.9355\n",
      "\n"
     ]
    },
    {
     "name": "stdout",
     "output_type": "stream",
     "text": [
      "Epoch 30, Loss 0.0701\n",
      "Training Accuracy: 0.9326, Testing Accuracy: 0.9491\n",
      "\n"
     ]
    },
    {
     "name": "stdout",
     "output_type": "stream",
     "text": [
      "Epoch 40, Loss 0.0632\n",
      "Training Accuracy: 0.9380, Testing Accuracy: 0.9526\n",
      "\n"
     ]
    },
    {
     "name": "stdout",
     "output_type": "stream",
     "text": [
      "Epoch 50, Loss 0.0586\n",
      "Training Accuracy: 0.9420, Testing Accuracy: 0.9546\n",
      "\n"
     ]
    },
    {
     "name": "stdout",
     "output_type": "stream",
     "text": [
      "Epoch 60, Loss 0.0552\n",
      "Training Accuracy: 0.9448, Testing Accuracy: 0.9567\n",
      "\n"
     ]
    },
    {
     "name": "stdout",
     "output_type": "stream",
     "text": [
      "Epoch 70, Loss 0.0525\n",
      "Training Accuracy: 0.9470, Testing Accuracy: 0.9592\n",
      "\n"
     ]
    },
    {
     "name": "stdout",
     "output_type": "stream",
     "text": [
      "Epoch 80, Loss 0.0504\n",
      "Training Accuracy: 0.9495, Testing Accuracy: 0.9607\n",
      "\n"
     ]
    },
    {
     "name": "stdout",
     "output_type": "stream",
     "text": [
      "Epoch 90, Loss 0.0486\n",
      "Training Accuracy: 0.9509, Testing Accuracy: 0.9622\n",
      "\n"
     ]
    },
    {
     "name": "stdout",
     "output_type": "stream",
     "text": [
      "Epoch 100, Loss 0.0472\n",
      "Training Accuracy: 0.9515, Testing Accuracy: 0.9632\n",
      "\n"
     ]
    },
    {
     "name": "stdout",
     "output_type": "stream",
     "text": [
      "Epoch 110, Loss 0.0459\n",
      "Training Accuracy: 0.9523, Testing Accuracy: 0.9632\n",
      "\n"
     ]
    },
    {
     "name": "stdout",
     "output_type": "stream",
     "text": [
      "Epoch 120, Loss 0.0448\n",
      "Training Accuracy: 0.9525, Testing Accuracy: 0.9627\n",
      "\n"
     ]
    },
    {
     "name": "stdout",
     "output_type": "stream",
     "text": [
      "Epoch 130, Loss 0.0438\n",
      "Training Accuracy: 0.9538, Testing Accuracy: 0.9637\n",
      "\n"
     ]
    },
    {
     "name": "stdout",
     "output_type": "stream",
     "text": [
      "Epoch 140, Loss 0.0429\n",
      "Training Accuracy: 0.9547, Testing Accuracy: 0.9642\n",
      "\n"
     ]
    },
    {
     "name": "stdout",
     "output_type": "stream",
     "text": [
      "Epoch 150, Loss 0.0422\n",
      "Training Accuracy: 0.9552, Testing Accuracy: 0.9647\n",
      "\n"
     ]
    },
    {
     "name": "stdout",
     "output_type": "stream",
     "text": [
      "Epoch 160, Loss 0.0414\n",
      "Training Accuracy: 0.9558, Testing Accuracy: 0.9657\n",
      "\n"
     ]
    },
    {
     "name": "stdout",
     "output_type": "stream",
     "text": [
      "Epoch 170, Loss 0.0408\n",
      "Training Accuracy: 0.9560, Testing Accuracy: 0.9662\n",
      "\n"
     ]
    },
    {
     "name": "stdout",
     "output_type": "stream",
     "text": [
      "Epoch 180, Loss 0.0402\n",
      "Training Accuracy: 0.9564, Testing Accuracy: 0.9662\n",
      "\n"
     ]
    },
    {
     "name": "stdout",
     "output_type": "stream",
     "text": [
      "Epoch 190, Loss 0.0397\n",
      "Training Accuracy: 0.9570, Testing Accuracy: 0.9662\n",
      "\n"
     ]
    },
    {
     "name": "stdout",
     "output_type": "stream",
     "text": [
      "Epoch 200, Loss 0.0392\n",
      "Training Accuracy: 0.9574, Testing Accuracy: 0.9662\n",
      "\n"
     ]
    },
    {
     "name": "stdout",
     "output_type": "stream",
     "text": [
      "Epoch 210, Loss 0.0387\n",
      "Training Accuracy: 0.9579, Testing Accuracy: 0.9662\n",
      "\n"
     ]
    },
    {
     "name": "stdout",
     "output_type": "stream",
     "text": [
      "Epoch 220, Loss 0.0383\n",
      "Training Accuracy: 0.9584, Testing Accuracy: 0.9662\n",
      "\n"
     ]
    },
    {
     "name": "stdout",
     "output_type": "stream",
     "text": [
      "Epoch 230, Loss 0.0379\n",
      "Training Accuracy: 0.9590, Testing Accuracy: 0.9662\n",
      "\n"
     ]
    },
    {
     "name": "stdout",
     "output_type": "stream",
     "text": [
      "Epoch 240, Loss 0.0375\n",
      "Training Accuracy: 0.9591, Testing Accuracy: 0.9667\n",
      "\n"
     ]
    },
    {
     "data": {
      "text/plain": [
       "0.028565728128030522"
      ]
     },
     "execution_count": 23,
     "metadata": {},
     "output_type": "execute_result"
    }
   ],
   "source": [
    "lr_learner.train_loop(dl)"
   ]
  },
  {
   "cell_type": "code",
   "execution_count": 24,
   "id": "ca410940",
   "metadata": {
    "execution": {
     "iopub.execute_input": "2022-03-24T10:11:18.884564Z",
     "iopub.status.busy": "2022-03-24T10:11:18.884034Z",
     "iopub.status.idle": "2022-03-24T10:11:19.108015Z",
     "shell.execute_reply": "2022-03-24T10:11:19.107557Z"
    },
    "papermill": {
     "duration": 0.274767,
     "end_time": "2022-03-24T10:11:19.108135",
     "exception": false,
     "start_time": "2022-03-24T10:11:18.833368",
     "status": "completed"
    },
    "tags": []
   },
   "outputs": [
    {
     "data": {
      "text/plain": [
       "<matplotlib.legend.Legend at 0x7f6f07ebad30>"
      ]
     },
     "execution_count": 24,
     "metadata": {},
     "output_type": "execute_result"
    },
    {
     "data": {
      "image/png": "[encoded data removed]",
      "text/plain": [
       "<Figure size 1080x720 with 1 Axes>"
      ]
     },
     "metadata": {
      "needs_background": "light"
     },
     "output_type": "display_data"
    }
   ],
   "source": [
    "#comparing the results of NN and LR\n",
    "plt.figure(figsize=(15,10))\n",
    "\n",
    "# Neural Network plots\n",
    "plt.plot(acc_nn.accuracies, 'r-', label = \"Training Accuracies - NN\")\n",
    "plt.plot(acc_nn.test_accuracies, 'g-', label = \"Testing Accuracies - NN\")\n",
    "\n",
    "# Logistic Regression plots\n",
    "plt.plot(acc_lr.accuracies, 'k-', label = \"Training Accuracies - LR\")\n",
    "plt.plot(acc_lr.test_accuracies, 'b-', label = \"Testing Accuracies - LR\")\n",
    "plt.legend()"
   ]
  },
  {
   "cell_type": "markdown",
   "id": "80dfb35c",
   "metadata": {
    "papermill": {
     "duration": 0.042865,
     "end_time": "2022-03-24T10:11:19.193689",
     "exception": false,
     "start_time": "2022-03-24T10:11:19.150824",
     "status": "completed"
    },
    "tags": []
   },
   "source": [
    "#### Plotting the outputs of this layer of the NN.\n"
   ]
  },
  {
   "cell_type": "code",
   "execution_count": 25,
   "id": "45eb2ff5",
   "metadata": {
    "execution": {
     "iopub.execute_input": "2022-03-24T10:11:19.291866Z",
     "iopub.status.busy": "2022-03-24T10:11:19.289883Z",
     "iopub.status.idle": "2022-03-24T10:11:19.305161Z",
     "shell.execute_reply": "2022-03-24T10:11:19.305581Z"
    },
    "papermill": {
     "duration": 0.069901,
     "end_time": "2022-03-24T10:11:19.305719",
     "exception": false,
     "start_time": "2022-03-24T10:11:19.235818",
     "status": "completed"
    },
    "tags": []
   },
   "outputs": [],
   "source": [
    "new_model = Model(layers[:-2])\n",
    "testing_plot = new_model(testing_data_x)"
   ]
  },
  {
   "cell_type": "code",
   "execution_count": 26,
   "id": "4c0a5485",
   "metadata": {
    "execution": {
     "iopub.execute_input": "2022-03-24T10:11:19.396897Z",
     "iopub.status.busy": "2022-03-24T10:11:19.396363Z",
     "iopub.status.idle": "2022-03-24T10:11:19.605948Z",
     "shell.execute_reply": "2022-03-24T10:11:19.605486Z"
    },
    "papermill": {
     "duration": 0.257374,
     "end_time": "2022-03-24T10:11:19.606069",
     "exception": false,
     "start_time": "2022-03-24T10:11:19.348695",
     "status": "completed"
    },
    "tags": []
   },
   "outputs": [
    {
     "data": {
      "text/plain": [
       "Text(0.5, 1.0, 'Outputs')"
      ]
     },
     "execution_count": 26,
     "metadata": {},
     "output_type": "execute_result"
    },
    {
     "data": {
      "image/png": "[encoded data removed]",
      "text/plain": [
       "<Figure size 576x504 with 1 Axes>"
      ]
     },
     "metadata": {
      "needs_background": "light"
     },
     "output_type": "display_data"
    }
   ],
   "source": [
    "# Plotting the scatter plot of points and color coding by class\n",
    "plt.figure(figsize=(8,7))\n",
    "plt.scatter(testing_plot[:,0], testing_plot[:,1], alpha = 0.1, c = y_test.ravel());\n",
    "plt.title('Outputs')"
   ]
  },
  {
   "cell_type": "markdown",
   "id": "a74fcf8f",
   "metadata": {
    "papermill": {
     "duration": 0.044316,
     "end_time": "2022-03-24T10:11:19.694972",
     "exception": false,
     "start_time": "2022-03-24T10:11:19.650656",
     "status": "completed"
    },
    "tags": []
   },
   "source": [
    "Probability contours"
   ]
  },
  {
   "cell_type": "code",
   "execution_count": 27,
   "id": "d0afc8e3",
   "metadata": {
    "execution": {
     "iopub.execute_input": "2022-03-24T10:11:19.787903Z",
     "iopub.status.busy": "2022-03-24T10:11:19.787351Z",
     "iopub.status.idle": "2022-03-24T10:11:19.799440Z",
     "shell.execute_reply": "2022-03-24T10:11:19.798963Z"
    },
    "papermill": {
     "duration": 0.060095,
     "end_time": "2022-03-24T10:11:19.799558",
     "exception": false,
     "start_time": "2022-03-24T10:11:19.739463",
     "status": "completed"
    },
    "tags": []
   },
   "outputs": [],
   "source": [
    "model_prob = Model(layers[-2:]) "
   ]
  },
  {
   "cell_type": "code",
   "execution_count": 28,
   "id": "9b96e238",
   "metadata": {
    "execution": {
     "iopub.execute_input": "2022-03-24T10:11:19.922350Z",
     "iopub.status.busy": "2022-03-24T10:11:19.921801Z",
     "iopub.status.idle": "2022-03-24T10:11:19.935931Z",
     "shell.execute_reply": "2022-03-24T10:11:19.936319Z"
    },
    "papermill": {
     "duration": 0.064548,
     "end_time": "2022-03-24T10:11:19.936461",
     "exception": false,
     "start_time": "2022-03-24T10:11:19.871913",
     "status": "completed"
    },
    "tags": []
   },
   "outputs": [],
   "source": [
    "#creating the x and y ranges according to the above generated plot.\n",
    "x_range = np.linspace(-4, 1, 100) \n",
    "y_range = np.linspace(-6, 6, 100) \n",
    "x_grid, y_grid = np.meshgrid(x_range, y_range) # x_grid and y_grig are of size 100 X 100\n",
    "\n",
    "# converting x_grid and y_grid to continuous arrays\n",
    "x_gridflat = np.ravel(x_grid)\n",
    "y_gridflat = np.ravel(y_grid)\n",
    "\n",
    "# The last layer of the current model takes two columns as input. Hence transpose of np.vstack() is required.\n",
    "X = np.vstack((x_gridflat, y_gridflat)).T\n",
    "\n",
    "prob_contour = model_prob(X).reshape(100,100) "
   ]
  },
  {
   "cell_type": "code",
   "execution_count": 29,
   "id": "da72499a",
   "metadata": {
    "execution": {
     "iopub.execute_input": "2022-03-24T10:11:20.036004Z",
     "iopub.status.busy": "2022-03-24T10:11:20.035452Z",
     "iopub.status.idle": "2022-03-24T10:11:20.285631Z",
     "shell.execute_reply": "2022-03-24T10:11:20.285170Z"
    },
    "papermill": {
     "duration": 0.304481,
     "end_time": "2022-03-24T10:11:20.285757",
     "exception": false,
     "start_time": "2022-03-24T10:11:19.981276",
     "status": "completed"
    },
    "tags": []
   },
   "outputs": [
    {
     "data": {
      "image/png": "[encoded data removed]",
      "text/plain": [
       "<Figure size 720x648 with 1 Axes>"
      ]
     },
     "metadata": {
      "needs_background": "light"
     },
     "output_type": "display_data"
    }
   ],
   "source": [
    "plt.figure(figsize=(10,9))\n",
    "plt.scatter(testing_plot[:,0], testing_plot[:,1], alpha = 0.1, c = y_test.ravel())\n",
    "contours = plt.contour(x_grid,y_grid,prob_contour)\n",
    "plt.title('Probability Contours')\n",
    "plt.clabel(contours, inline = True );"
   ]
  },
  {
   "cell_type": "code",
   "execution_count": null,
   "id": "e81b4ac7",
   "metadata": {
    "papermill": {
     "duration": 0.047425,
     "end_time": "2022-03-24T10:11:20.380413",
     "exception": false,
     "start_time": "2022-03-24T10:11:20.332988",
     "status": "completed"
    },
    "tags": []
   },
   "outputs": [],
   "source": []
  }
 ],
 "metadata": {
  "kernelspec": {
   "display_name": "Python 3",
   "language": "python",
   "name": "python3"
  },
  "language_info": {
   "codemirror_mode": {
    "name": "ipython",
    "version": 3
   },
   "file_extension": ".py",
   "mimetype": "text/x-python",
   "name": "python",
   "nbconvert_exporter": "python",
   "pygments_lexer": "ipython3",
   "version": "3.6.15"
  },
  "papermill": {
   "default_parameters": {},
   "duration": 97.847446,
   "end_time": "2022-03-24T10:11:20.845396",
   "environment_variables": {},
   "exception": null,
   "input_path": "2020-08-11-part2.ipynb",
   "output_path": "2020-08-11-part2.ipynb",
   "parameters": {},
   "start_time": "2022-03-24T10:09:42.997950",
   "version": "2.3.3"
  }
 },
 "nbformat": 4,
 "nbformat_minor": 5
}