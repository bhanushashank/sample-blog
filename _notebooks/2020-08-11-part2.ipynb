{
 "cells": [
  {
   "cell_type": "markdown",
   "id": "98380cd3",
   "metadata": {
    "papermill": {
     "duration": 0.029024,
     "end_time": "2022-05-23T10:10:46.544186",
     "exception": false,
     "start_time": "2022-05-23T10:10:46.515162",
     "status": "completed"
    },
    "tags": []
   },
   "source": [
    "# Distinguish Your Own Digits (DYOD)"
   ]
  },
  {
   "cell_type": "markdown",
   "id": "ef31240d",
   "metadata": {
    "papermill": {
     "duration": 0.023818,
     "end_time": "2022-05-23T10:10:46.592338",
     "exception": false,
     "start_time": "2022-05-23T10:10:46.568520",
     "status": "completed"
    },
    "tags": []
   },
   "source": [
    "You are going to write a classifier that distinguishes between the number 3 and number 8."
   ]
  },
  {
   "cell_type": "code",
   "execution_count": 1,
   "id": "b15c8646",
   "metadata": {
    "execution": {
     "iopub.execute_input": "2022-05-23T10:10:46.650923Z",
     "iopub.status.busy": "2022-05-23T10:10:46.650309Z",
     "iopub.status.idle": "2022-05-23T10:10:46.660693Z",
     "shell.execute_reply": "2022-05-23T10:10:46.661190Z"
    },
    "papermill": {
     "duration": 0.045282,
     "end_time": "2022-05-23T10:10:46.661340",
     "exception": false,
     "start_time": "2022-05-23T10:10:46.616058",
     "status": "completed"
    },
    "tags": []
   },
   "outputs": [],
   "source": [
    "%load_ext autoreload\n",
    "%autoreload 2"
   ]
  },
  {
   "cell_type": "code",
   "execution_count": 2,
   "id": "22ef38dc",
   "metadata": {
    "execution": {
     "iopub.execute_input": "2022-05-23T10:10:46.713315Z",
     "iopub.status.busy": "2022-05-23T10:10:46.712720Z",
     "iopub.status.idle": "2022-05-23T10:10:47.242948Z",
     "shell.execute_reply": "2022-05-23T10:10:47.242375Z"
    },
    "papermill": {
     "duration": 0.55791,
     "end_time": "2022-05-23T10:10:47.243089",
     "exception": false,
     "start_time": "2022-05-23T10:10:46.685179",
     "status": "completed"
    },
    "tags": []
   },
   "outputs": [],
   "source": [
    "%matplotlib inline\n",
    "import numpy as np\n",
    "import matplotlib.pyplot as plt\n",
    "import pandas as pd"
   ]
  },
  {
   "cell_type": "markdown",
   "id": "ba036198",
   "metadata": {
    "papermill": {
     "duration": 0.023653,
     "end_time": "2022-05-23T10:10:47.291169",
     "exception": false,
     "start_time": "2022-05-23T10:10:47.267516",
     "status": "completed"
    },
    "tags": []
   },
   "source": [
    "From the command line run `pip install mnist`. This is a library that will help you bring down the mnist dataset. If you run this from a notebook, you need to put  `!pip install mnist` in a cell by itself."
   ]
  },
  {
   "cell_type": "code",
   "execution_count": 3,
   "id": "bb6ad8a1",
   "metadata": {
    "execution": {
     "iopub.execute_input": "2022-05-23T10:10:47.343915Z",
     "iopub.status.busy": "2022-05-23T10:10:47.343314Z",
     "iopub.status.idle": "2022-05-23T10:10:49.009188Z",
     "shell.execute_reply": "2022-05-23T10:10:49.008559Z"
    },
    "papermill": {
     "duration": 1.69447,
     "end_time": "2022-05-23T10:10:49.009336",
     "exception": false,
     "start_time": "2022-05-23T10:10:47.314866",
     "status": "completed"
    },
    "tags": []
   },
   "outputs": [
    {
     "name": "stdout",
     "output_type": "stream",
     "text": [
      "Collecting mnist\r\n"
     ]
    },
    {
     "name": "stdout",
     "output_type": "stream",
     "text": [
      "  Downloading mnist-0.2.2-py2.py3-none-any.whl (3.5 kB)\r\n",
      "Requirement already satisfied: numpy in /opt/hostedtoolcache/Python/3.6.15/x64/lib/python3.6/site-packages (from mnist) (1.19.5)\r\n"
     ]
    },
    {
     "name": "stdout",
     "output_type": "stream",
     "text": [
      "Installing collected packages: mnist\r\n"
     ]
    },
    {
     "name": "stdout",
     "output_type": "stream",
     "text": [
      "Successfully installed mnist-0.2.2\r\n"
     ]
    }
   ],
   "source": [
    "!pip install mnist"
   ]
  },
  {
   "cell_type": "markdown",
   "id": "69df9c9a",
   "metadata": {
    "papermill": {
     "duration": 0.026087,
     "end_time": "2022-05-23T10:10:49.061026",
     "exception": false,
     "start_time": "2022-05-23T10:10:49.034939",
     "status": "completed"
    },
    "tags": []
   },
   "source": [
    "## Preparing the Data"
   ]
  },
  {
   "cell_type": "code",
   "execution_count": 4,
   "id": "7f69d806",
   "metadata": {
    "execution": {
     "iopub.execute_input": "2022-05-23T10:10:49.114806Z",
     "iopub.status.busy": "2022-05-23T10:10:49.114223Z",
     "iopub.status.idle": "2022-05-23T10:10:49.128404Z",
     "shell.execute_reply": "2022-05-23T10:10:49.127918Z"
    },
    "papermill": {
     "duration": 0.042967,
     "end_time": "2022-05-23T10:10:49.128517",
     "exception": false,
     "start_time": "2022-05-23T10:10:49.085550",
     "status": "completed"
    },
    "tags": []
   },
   "outputs": [],
   "source": [
    "import mnist"
   ]
  },
  {
   "cell_type": "code",
   "execution_count": 5,
   "id": "a411e44f",
   "metadata": {
    "execution": {
     "iopub.execute_input": "2022-05-23T10:10:49.181843Z",
     "iopub.status.busy": "2022-05-23T10:10:49.181271Z",
     "iopub.status.idle": "2022-05-23T10:10:49.764270Z",
     "shell.execute_reply": "2022-05-23T10:10:49.763725Z"
    },
    "papermill": {
     "duration": 0.610925,
     "end_time": "2022-05-23T10:10:49.764394",
     "exception": false,
     "start_time": "2022-05-23T10:10:49.153469",
     "status": "completed"
    },
    "tags": []
   },
   "outputs": [],
   "source": [
    "train_images = mnist.train_images()\n",
    "train_labels = mnist.train_labels()"
   ]
  },
  {
   "cell_type": "code",
   "execution_count": 6,
   "id": "dceab3a5",
   "metadata": {
    "execution": {
     "iopub.execute_input": "2022-05-23T10:10:49.833775Z",
     "iopub.status.busy": "2022-05-23T10:10:49.829690Z",
     "iopub.status.idle": "2022-05-23T10:10:49.838710Z",
     "shell.execute_reply": "2022-05-23T10:10:49.839162Z"
    },
    "papermill": {
     "duration": 0.05,
     "end_time": "2022-05-23T10:10:49.839295",
     "exception": false,
     "start_time": "2022-05-23T10:10:49.789295",
     "status": "completed"
    },
    "tags": []
   },
   "outputs": [
    {
     "data": {
      "text/plain": [
       "((60000, 28, 28), (60000,))"
      ]
     },
     "execution_count": 6,
     "metadata": {},
     "output_type": "execute_result"
    }
   ],
   "source": [
    "train_images.shape, train_labels.shape"
   ]
  },
  {
   "cell_type": "code",
   "execution_count": 7,
   "id": "f50dc2bb",
   "metadata": {
    "execution": {
     "iopub.execute_input": "2022-05-23T10:10:49.893399Z",
     "iopub.status.busy": "2022-05-23T10:10:49.892804Z",
     "iopub.status.idle": "2022-05-23T10:10:50.107527Z",
     "shell.execute_reply": "2022-05-23T10:10:50.106914Z"
    },
    "papermill": {
     "duration": 0.242966,
     "end_time": "2022-05-23T10:10:50.107651",
     "exception": false,
     "start_time": "2022-05-23T10:10:49.864685",
     "status": "completed"
    },
    "tags": []
   },
   "outputs": [],
   "source": [
    "test_images = mnist.test_images()\n",
    "test_labels = mnist.test_labels()"
   ]
  },
  {
   "cell_type": "code",
   "execution_count": 8,
   "id": "fc38cf1b",
   "metadata": {
    "execution": {
     "iopub.execute_input": "2022-05-23T10:10:50.162079Z",
     "iopub.status.busy": "2022-05-23T10:10:50.161489Z",
     "iopub.status.idle": "2022-05-23T10:10:50.175498Z",
     "shell.execute_reply": "2022-05-23T10:10:50.175017Z"
    },
    "papermill": {
     "duration": 0.042749,
     "end_time": "2022-05-23T10:10:50.175613",
     "exception": false,
     "start_time": "2022-05-23T10:10:50.132864",
     "status": "completed"
    },
    "tags": []
   },
   "outputs": [
    {
     "data": {
      "text/plain": [
       "((10000, 28, 28), (10000,))"
      ]
     },
     "execution_count": 8,
     "metadata": {},
     "output_type": "execute_result"
    }
   ],
   "source": [
    "test_images.shape, test_labels.shape"
   ]
  },
  {
   "cell_type": "code",
   "execution_count": 9,
   "id": "f9ed8fe0",
   "metadata": {
    "execution": {
     "iopub.execute_input": "2022-05-23T10:10:50.230364Z",
     "iopub.status.busy": "2022-05-23T10:10:50.229708Z",
     "iopub.status.idle": "2022-05-23T10:10:50.365877Z",
     "shell.execute_reply": "2022-05-23T10:10:50.366402Z"
    },
    "papermill": {
     "duration": 0.165635,
     "end_time": "2022-05-23T10:10:50.366556",
     "exception": false,
     "start_time": "2022-05-23T10:10:50.200921",
     "status": "completed"
    },
    "tags": []
   },
   "outputs": [
    {
     "name": "stdout",
     "output_type": "stream",
     "text": [
      "2\n"
     ]
    },
    {
     "data": {
      "text/plain": [
       "<matplotlib.image.AxesImage at 0x7fb02d435ef0>"
      ]
     },
     "execution_count": 9,
     "metadata": {},
     "output_type": "execute_result"
    },
    {
     "data": {
      "image/png": "[encoded data removed]",
      "text/plain": [
       "<Figure size 432x288 with 1 Axes>"
      ]
     },
     "metadata": {
      "needs_background": "light"
     },
     "output_type": "display_data"
    }
   ],
   "source": [
    "image_index = 7776 # You may select anything up to 60,000\n",
    "print(train_labels[image_index]) \n",
    "plt.imshow(train_images[image_index], cmap='Greys')"
   ]
  },
  {
   "cell_type": "markdown",
   "id": "a8d2388d",
   "metadata": {
    "papermill": {
     "duration": 0.026599,
     "end_time": "2022-05-23T10:10:50.420312",
     "exception": false,
     "start_time": "2022-05-23T10:10:50.393713",
     "status": "completed"
    },
    "tags": []
   },
   "source": [
    "## Filter data to get 3 and 8 out"
   ]
  },
  {
   "cell_type": "code",
   "execution_count": 10,
   "id": "776f7fc7",
   "metadata": {
    "execution": {
     "iopub.execute_input": "2022-05-23T10:10:50.478141Z",
     "iopub.status.busy": "2022-05-23T10:10:50.477544Z",
     "iopub.status.idle": "2022-05-23T10:10:50.496629Z",
     "shell.execute_reply": "2022-05-23T10:10:50.495923Z"
    },
    "papermill": {
     "duration": 0.050135,
     "end_time": "2022-05-23T10:10:50.496764",
     "exception": false,
     "start_time": "2022-05-23T10:10:50.446629",
     "status": "completed"
    },
    "tags": []
   },
   "outputs": [],
   "source": [
    "train_filter = np.where((train_labels == 3 ) | (train_labels == 8))\n",
    "test_filter = np.where((test_labels == 3) | (test_labels == 8))\n",
    "X_train, y_train = train_images[train_filter], train_labels[train_filter]\n",
    "X_test, y_test = test_images[test_filter], test_labels[test_filter]"
   ]
  },
  {
   "cell_type": "markdown",
   "id": "948f0b7e",
   "metadata": {
    "papermill": {
     "duration": 0.026563,
     "end_time": "2022-05-23T10:10:50.550543",
     "exception": false,
     "start_time": "2022-05-23T10:10:50.523980",
     "status": "completed"
    },
    "tags": []
   },
   "source": [
    "We normalize the pizel values in the 0 to 1 range"
   ]
  },
  {
   "cell_type": "code",
   "execution_count": 11,
   "id": "ee4c2166",
   "metadata": {
    "execution": {
     "iopub.execute_input": "2022-05-23T10:10:50.622313Z",
     "iopub.status.busy": "2022-05-23T10:10:50.621703Z",
     "iopub.status.idle": "2022-05-23T10:10:50.659703Z",
     "shell.execute_reply": "2022-05-23T10:10:50.659115Z"
    },
    "papermill": {
     "duration": 0.082298,
     "end_time": "2022-05-23T10:10:50.659850",
     "exception": false,
     "start_time": "2022-05-23T10:10:50.577552",
     "status": "completed"
    },
    "tags": []
   },
   "outputs": [],
   "source": [
    "X_train = X_train/255.\n",
    "X_test = X_test/255."
   ]
  },
  {
   "cell_type": "markdown",
   "id": "ddcf4fab",
   "metadata": {
    "papermill": {
     "duration": 0.026632,
     "end_time": "2022-05-23T10:10:50.713888",
     "exception": false,
     "start_time": "2022-05-23T10:10:50.687256",
     "status": "completed"
    },
    "tags": []
   },
   "source": [
    "And setup the labels as 1 (when the digit is 3) and 0 (when the digit is 8)"
   ]
  },
  {
   "cell_type": "code",
   "execution_count": 12,
   "id": "7dc908f2",
   "metadata": {
    "execution": {
     "iopub.execute_input": "2022-05-23T10:10:50.770514Z",
     "iopub.status.busy": "2022-05-23T10:10:50.769930Z",
     "iopub.status.idle": "2022-05-23T10:10:50.783454Z",
     "shell.execute_reply": "2022-05-23T10:10:50.782975Z"
    },
    "papermill": {
     "duration": 0.043408,
     "end_time": "2022-05-23T10:10:50.783566",
     "exception": false,
     "start_time": "2022-05-23T10:10:50.740158",
     "status": "completed"
    },
    "tags": []
   },
   "outputs": [],
   "source": [
    "y_train = 1*(y_train==3)\n",
    "y_test = 1*(y_test==3)"
   ]
  },
  {
   "cell_type": "code",
   "execution_count": 13,
   "id": "01e4e969",
   "metadata": {
    "execution": {
     "iopub.execute_input": "2022-05-23T10:10:50.839994Z",
     "iopub.status.busy": "2022-05-23T10:10:50.839421Z",
     "iopub.status.idle": "2022-05-23T10:10:50.852896Z",
     "shell.execute_reply": "2022-05-23T10:10:50.852301Z"
    },
    "papermill": {
     "duration": 0.043199,
     "end_time": "2022-05-23T10:10:50.853009",
     "exception": false,
     "start_time": "2022-05-23T10:10:50.809810",
     "status": "completed"
    },
    "tags": []
   },
   "outputs": [
    {
     "data": {
      "text/plain": [
       "((11982, 28, 28), (1984, 28, 28))"
      ]
     },
     "execution_count": 13,
     "metadata": {},
     "output_type": "execute_result"
    }
   ],
   "source": [
    "X_train.shape, X_test.shape"
   ]
  },
  {
   "cell_type": "markdown",
   "id": "5ccf3f85",
   "metadata": {
    "papermill": {
     "duration": 0.026317,
     "end_time": "2022-05-23T10:10:50.905949",
     "exception": false,
     "start_time": "2022-05-23T10:10:50.879632",
     "status": "completed"
    },
    "tags": []
   },
   "source": [
    "We reshape the data to flatten the image pixels into a set of features or co-variates:"
   ]
  },
  {
   "cell_type": "code",
   "execution_count": 14,
   "id": "5286a4a3",
   "metadata": {
    "execution": {
     "iopub.execute_input": "2022-05-23T10:10:50.977234Z",
     "iopub.status.busy": "2022-05-23T10:10:50.972884Z",
     "iopub.status.idle": "2022-05-23T10:10:50.980837Z",
     "shell.execute_reply": "2022-05-23T10:10:50.980288Z"
    },
    "papermill": {
     "duration": 0.048495,
     "end_time": "2022-05-23T10:10:50.980959",
     "exception": false,
     "start_time": "2022-05-23T10:10:50.932464",
     "status": "completed"
    },
    "tags": []
   },
   "outputs": [
    {
     "data": {
      "text/plain": [
       "((11982, 784), (1984, 784))"
      ]
     },
     "execution_count": 14,
     "metadata": {},
     "output_type": "execute_result"
    }
   ],
   "source": [
    "X_train = X_train.reshape(X_train.shape[0], -1)\n",
    "X_test = X_test.reshape(X_test.shape[0], -1)\n",
    "X_train.shape, X_test.shape"
   ]
  },
  {
   "cell_type": "code",
   "execution_count": 15,
   "id": "73c5f88a",
   "metadata": {
    "execution": {
     "iopub.execute_input": "2022-05-23T10:10:51.039424Z",
     "iopub.status.busy": "2022-05-23T10:10:51.038840Z",
     "iopub.status.idle": "2022-05-23T10:10:51.057986Z",
     "shell.execute_reply": "2022-05-23T10:10:51.058504Z"
    },
    "papermill": {
     "duration": 0.050772,
     "end_time": "2022-05-23T10:10:51.058661",
     "exception": false,
     "start_time": "2022-05-23T10:10:51.007889",
     "status": "completed"
    },
    "tags": []
   },
   "outputs": [],
   "source": [
    "#Impoting functions from 'Kudzu'\n",
    "from kudzu.model import Model\n",
    "from kudzu.train import Learner\n",
    "from kudzu.optim import GD\n",
    "from kudzu.data import Data, Sampler,Dataloader\n",
    "\n",
    "from kudzu.callbacks import AccCallback\n",
    "from kudzu.callbacks import ClfCallback\n",
    "\n",
    "from kudzu.loss import MSE\n",
    "\n",
    "from kudzu.layer import Sigmoid,Relu\n",
    "from kudzu.layer import Affine"
   ]
  },
  {
   "cell_type": "markdown",
   "id": "bc01172a",
   "metadata": {
    "papermill": {
     "duration": 0.026936,
     "end_time": "2022-05-23T10:10:51.113293",
     "exception": false,
     "start_time": "2022-05-23T10:10:51.086357",
     "status": "completed"
    },
    "tags": []
   },
   "source": [
    "### Let us create a `Config` class, to store important parameters. \n",
    "This class essentially plays the role of a dictionary."
   ]
  },
  {
   "cell_type": "code",
   "execution_count": 16,
   "id": "978281aa",
   "metadata": {
    "execution": {
     "iopub.execute_input": "2022-05-23T10:10:51.173944Z",
     "iopub.status.busy": "2022-05-23T10:10:51.173346Z",
     "iopub.status.idle": "2022-05-23T10:10:51.184558Z",
     "shell.execute_reply": "2022-05-23T10:10:51.184072Z"
    },
    "papermill": {
     "duration": 0.044661,
     "end_time": "2022-05-23T10:10:51.184699",
     "exception": false,
     "start_time": "2022-05-23T10:10:51.140038",
     "status": "completed"
    },
    "tags": []
   },
   "outputs": [],
   "source": [
    "class Config:\n",
    "    pass\n",
    "config = Config()\n",
    "config.lr = 0.001\n",
    "config.num_epochs = 250\n",
    "config.bs = 50"
   ]
  },
  {
   "cell_type": "markdown",
   "id": "1385fa59",
   "metadata": {
    "papermill": {
     "duration": 0.026824,
     "end_time": "2022-05-23T10:10:51.238336",
     "exception": false,
     "start_time": "2022-05-23T10:10:51.211512",
     "status": "completed"
    },
    "tags": []
   },
   "source": [
    "### Running Models with the Training data\n",
    "Details about the network layers:\n",
    "- A first affine layer has 784 inputs and does 100 affine transforms. These are followed by a Relu\n",
    "- A second affine layer has 100 inputs from the 100 activations of the past layer, and does 100 affine transforms. These are followed by a Relu\n",
    "- A third affine layer has 100 activations and does 2 affine transformations to create an embedding for visualization. There is no non-linearity here.\n",
    "- A final \"logistic regression\" which has an affine transform from 2 inputs to 1 output, which is squeezed through a sigmoid.\n"
   ]
  },
  {
   "cell_type": "code",
   "execution_count": 17,
   "id": "2b9c66db",
   "metadata": {
    "execution": {
     "iopub.execute_input": "2022-05-23T10:10:51.309431Z",
     "iopub.status.busy": "2022-05-23T10:10:51.306105Z",
     "iopub.status.idle": "2022-05-23T10:10:51.312245Z",
     "shell.execute_reply": "2022-05-23T10:10:51.312738Z"
    },
    "papermill": {
     "duration": 0.047712,
     "end_time": "2022-05-23T10:10:51.312875",
     "exception": false,
     "start_time": "2022-05-23T10:10:51.265163",
     "status": "completed"
    },
    "tags": []
   },
   "outputs": [],
   "source": [
    "data = Data(X_train, y_train.reshape(-1,1))\n",
    "sampler = Sampler(data, config.bs, shuffle=True)\n",
    "\n",
    "dl = Dataloader(data, sampler)\n",
    "\n",
    "opt = GD(config.lr)\n",
    "loss = MSE()"
   ]
  },
  {
   "cell_type": "code",
   "execution_count": 18,
   "id": "b275e4c2",
   "metadata": {
    "execution": {
     "iopub.execute_input": "2022-05-23T10:10:51.370759Z",
     "iopub.status.busy": "2022-05-23T10:10:51.369655Z",
     "iopub.status.idle": "2022-05-23T10:10:51.382847Z",
     "shell.execute_reply": "2022-05-23T10:10:51.382367Z"
    },
    "papermill": {
     "duration": 0.043368,
     "end_time": "2022-05-23T10:10:51.382961",
     "exception": false,
     "start_time": "2022-05-23T10:10:51.339593",
     "status": "completed"
    },
    "tags": []
   },
   "outputs": [],
   "source": [
    "training_data_x = X_train\n",
    "testing_data_x = X_test\n",
    "training_data_y = y_train.reshape(-1,1)\n",
    "testing_data_y = y_test.reshape(-1,1)"
   ]
  },
  {
   "cell_type": "code",
   "execution_count": 19,
   "id": "76951160",
   "metadata": {
    "execution": {
     "iopub.execute_input": "2022-05-23T10:10:51.449555Z",
     "iopub.status.busy": "2022-05-23T10:10:51.448171Z",
     "iopub.status.idle": "2022-05-23T10:10:51.460162Z",
     "shell.execute_reply": "2022-05-23T10:10:51.460640Z"
    },
    "papermill": {
     "duration": 0.051189,
     "end_time": "2022-05-23T10:10:51.460774",
     "exception": false,
     "start_time": "2022-05-23T10:10:51.409585",
     "status": "completed"
    },
    "tags": []
   },
   "outputs": [
    {
     "name": "stdout",
     "output_type": "stream",
     "text": [
      "xavier\n",
      "xavier\n",
      "xavier\n",
      "xavier\n",
      "xavier\n"
     ]
    }
   ],
   "source": [
    "layers = [Affine(\"first\", 784, 100), Relu(\"first\"), Affine(\"second\", 100, 100), Relu(\"second\"), Affine(\"third\", 100, 2), Affine(\"last\", 2, 1), Sigmoid(\"last\")]\n",
    "model_nn = Model(layers)\n",
    "model_lr = Model([Affine(\"logits\", 784, 1), Sigmoid(\"sigmoid\")])"
   ]
  },
  {
   "cell_type": "code",
   "execution_count": 20,
   "id": "6eede77a",
   "metadata": {
    "execution": {
     "iopub.execute_input": "2022-05-23T10:10:51.519372Z",
     "iopub.status.busy": "2022-05-23T10:10:51.518437Z",
     "iopub.status.idle": "2022-05-23T10:10:51.531241Z",
     "shell.execute_reply": "2022-05-23T10:10:51.530759Z"
    },
    "papermill": {
     "duration": 0.04343,
     "end_time": "2022-05-23T10:10:51.531355",
     "exception": false,
     "start_time": "2022-05-23T10:10:51.487925",
     "status": "completed"
    },
    "tags": []
   },
   "outputs": [],
   "source": [
    "nn_learner = Learner(loss, model_nn, opt, config.num_epochs)\n",
    "acc_nn = ClfCallback(nn_learner, config.bs, training_data_x , testing_data_x, training_data_y, testing_data_y)\n",
    "nn_learner.set_callbacks([acc_nn])"
   ]
  },
  {
   "cell_type": "code",
   "execution_count": 21,
   "id": "877b6cc7",
   "metadata": {
    "execution": {
     "iopub.execute_input": "2022-05-23T10:10:51.589672Z",
     "iopub.status.busy": "2022-05-23T10:10:51.589091Z",
     "iopub.status.idle": "2022-05-23T10:10:51.602069Z",
     "shell.execute_reply": "2022-05-23T10:10:51.601586Z"
    },
    "papermill": {
     "duration": 0.04378,
     "end_time": "2022-05-23T10:10:51.602179",
     "exception": false,
     "start_time": "2022-05-23T10:10:51.558399",
     "status": "completed"
    },
    "tags": []
   },
   "outputs": [],
   "source": [
    "lr_learner = Learner(loss, model_lr, opt, config.num_epochs)\n",
    "acc_lr = ClfCallback(lr_learner, config.bs, training_data_x , testing_data_x, training_data_y, testing_data_y)\n",
    "lr_learner.set_callbacks([acc_lr])"
   ]
  },
  {
   "cell_type": "code",
   "execution_count": 22,
   "id": "d9b133c3",
   "metadata": {
    "execution": {
     "iopub.execute_input": "2022-05-23T10:10:51.665536Z",
     "iopub.status.busy": "2022-05-23T10:10:51.664943Z",
     "iopub.status.idle": "2022-05-23T10:12:06.185785Z",
     "shell.execute_reply": "2022-05-23T10:12:06.186633Z"
    },
    "papermill": {
     "duration": 74.557561,
     "end_time": "2022-05-23T10:12:06.186779",
     "exception": false,
     "start_time": "2022-05-23T10:10:51.629218",
     "status": "completed"
    },
    "tags": []
   },
   "outputs": [
    {
     "name": "stdout",
     "output_type": "stream",
     "text": [
      "Epoch 0, Loss 0.2492\n",
      "Training Accuracy: 0.5745, Testing Accuracy: 0.5615\n",
      "\n"
     ]
    },
    {
     "name": "stdout",
     "output_type": "stream",
     "text": [
      "Epoch 10, Loss 0.2235\n",
      "Training Accuracy: 0.8400, Testing Accuracy: 0.8705\n",
      "\n"
     ]
    },
    {
     "name": "stdout",
     "output_type": "stream",
     "text": [
      "Epoch 20, Loss 0.14\n",
      "Training Accuracy: 0.8924, Testing Accuracy: 0.9073\n",
      "\n"
     ]
    },
    {
     "name": "stdout",
     "output_type": "stream",
     "text": [
      "Epoch 30, Loss 0.0781\n",
      "Training Accuracy: 0.9177, Testing Accuracy: 0.9294\n",
      "\n"
     ]
    },
    {
     "name": "stdout",
     "output_type": "stream",
     "text": [
      "Epoch 40, Loss 0.0568\n",
      "Training Accuracy: 0.9370, Testing Accuracy: 0.9456\n",
      "\n"
     ]
    },
    {
     "name": "stdout",
     "output_type": "stream",
     "text": [
      "Epoch 50, Loss 0.0464\n",
      "Training Accuracy: 0.9467, Testing Accuracy: 0.9592\n",
      "\n"
     ]
    },
    {
     "name": "stdout",
     "output_type": "stream",
     "text": [
      "Epoch 60, Loss 0.0403\n",
      "Training Accuracy: 0.9528, Testing Accuracy: 0.9622\n",
      "\n"
     ]
    },
    {
     "name": "stdout",
     "output_type": "stream",
     "text": [
      "Epoch 70, Loss 0.0364\n",
      "Training Accuracy: 0.9572, Testing Accuracy: 0.9652\n",
      "\n"
     ]
    },
    {
     "name": "stdout",
     "output_type": "stream",
     "text": [
      "Epoch 80, Loss 0.0336\n",
      "Training Accuracy: 0.9609, Testing Accuracy: 0.9682\n",
      "\n"
     ]
    },
    {
     "name": "stdout",
     "output_type": "stream",
     "text": [
      "Epoch 90, Loss 0.0315\n",
      "Training Accuracy: 0.9634, Testing Accuracy: 0.9698\n",
      "\n"
     ]
    },
    {
     "name": "stdout",
     "output_type": "stream",
     "text": [
      "Epoch 100, Loss 0.0299\n",
      "Training Accuracy: 0.9646, Testing Accuracy: 0.9703\n",
      "\n"
     ]
    },
    {
     "name": "stdout",
     "output_type": "stream",
     "text": [
      "Epoch 110, Loss 0.0285\n",
      "Training Accuracy: 0.9671, Testing Accuracy: 0.9703\n",
      "\n"
     ]
    },
    {
     "name": "stdout",
     "output_type": "stream",
     "text": [
      "Epoch 120, Loss 0.0274\n",
      "Training Accuracy: 0.9679, Testing Accuracy: 0.9713\n",
      "\n"
     ]
    },
    {
     "name": "stdout",
     "output_type": "stream",
     "text": [
      "Epoch 130, Loss 0.0264\n",
      "Training Accuracy: 0.9692, Testing Accuracy: 0.9708\n",
      "\n"
     ]
    },
    {
     "name": "stdout",
     "output_type": "stream",
     "text": [
      "Epoch 140, Loss 0.0255\n",
      "Training Accuracy: 0.9699, Testing Accuracy: 0.9713\n",
      "\n"
     ]
    },
    {
     "name": "stdout",
     "output_type": "stream",
     "text": [
      "Epoch 150, Loss 0.0247\n",
      "Training Accuracy: 0.9713, Testing Accuracy: 0.9718\n",
      "\n"
     ]
    },
    {
     "name": "stdout",
     "output_type": "stream",
     "text": [
      "Epoch 160, Loss 0.024\n",
      "Training Accuracy: 0.9718, Testing Accuracy: 0.9718\n",
      "\n"
     ]
    },
    {
     "name": "stdout",
     "output_type": "stream",
     "text": [
      "Epoch 170, Loss 0.0234\n",
      "Training Accuracy: 0.9728, Testing Accuracy: 0.9728\n",
      "\n"
     ]
    },
    {
     "name": "stdout",
     "output_type": "stream",
     "text": [
      "Epoch 180, Loss 0.0228\n",
      "Training Accuracy: 0.9734, Testing Accuracy: 0.9733\n",
      "\n"
     ]
    },
    {
     "name": "stdout",
     "output_type": "stream",
     "text": [
      "Epoch 190, Loss 0.0222\n",
      "Training Accuracy: 0.9739, Testing Accuracy: 0.9738\n",
      "\n"
     ]
    },
    {
     "name": "stdout",
     "output_type": "stream",
     "text": [
      "Epoch 200, Loss 0.0217\n",
      "Training Accuracy: 0.9745, Testing Accuracy: 0.9738\n",
      "\n"
     ]
    },
    {
     "name": "stdout",
     "output_type": "stream",
     "text": [
      "Epoch 210, Loss 0.0212\n",
      "Training Accuracy: 0.9754, Testing Accuracy: 0.9733\n",
      "\n"
     ]
    },
    {
     "name": "stdout",
     "output_type": "stream",
     "text": [
      "Epoch 220, Loss 0.0208\n",
      "Training Accuracy: 0.9760, Testing Accuracy: 0.9743\n",
      "\n"
     ]
    },
    {
     "name": "stdout",
     "output_type": "stream",
     "text": [
      "Epoch 230, Loss 0.0203\n",
      "Training Accuracy: 0.9769, Testing Accuracy: 0.9738\n",
      "\n"
     ]
    },
    {
     "name": "stdout",
     "output_type": "stream",
     "text": [
      "Epoch 240, Loss 0.0199\n",
      "Training Accuracy: 0.9771, Testing Accuracy: 0.9743\n",
      "\n"
     ]
    },
    {
     "data": {
      "text/plain": [
       "0.009690827446784345"
      ]
     },
     "execution_count": 22,
     "metadata": {},
     "output_type": "execute_result"
    }
   ],
   "source": [
    "nn_learner.train_loop(dl)"
   ]
  },
  {
   "cell_type": "code",
   "execution_count": 23,
   "id": "e0163366",
   "metadata": {
    "execution": {
     "iopub.execute_input": "2022-05-23T10:12:06.266752Z",
     "iopub.status.busy": "2022-05-23T10:12:06.266153Z",
     "iopub.status.idle": "2022-05-23T10:12:19.885760Z",
     "shell.execute_reply": "2022-05-23T10:12:19.886592Z"
    },
    "papermill": {
     "duration": 13.665023,
     "end_time": "2022-05-23T10:12:19.886740",
     "exception": false,
     "start_time": "2022-05-23T10:12:06.221717",
     "status": "completed"
    },
    "tags": []
   },
   "outputs": [
    {
     "name": "stdout",
     "output_type": "stream",
     "text": [
      "Epoch 0, Loss 0.2348\n",
      "Training Accuracy: 0.7187, Testing Accuracy: 0.7172\n",
      "\n"
     ]
    },
    {
     "name": "stdout",
     "output_type": "stream",
     "text": [
      "Epoch 10, Loss 0.102\n",
      "Training Accuracy: 0.9091, Testing Accuracy: 0.9249\n",
      "\n"
     ]
    },
    {
     "name": "stdout",
     "output_type": "stream",
     "text": [
      "Epoch 20, Loss 0.0789\n",
      "Training Accuracy: 0.9267, Testing Accuracy: 0.9420\n",
      "\n"
     ]
    },
    {
     "name": "stdout",
     "output_type": "stream",
     "text": [
      "Epoch 30, Loss 0.0682\n",
      "Training Accuracy: 0.9350, Testing Accuracy: 0.9491\n",
      "\n"
     ]
    },
    {
     "name": "stdout",
     "output_type": "stream",
     "text": [
      "Epoch 40, Loss 0.0617\n",
      "Training Accuracy: 0.9392, Testing Accuracy: 0.9531\n",
      "\n"
     ]
    },
    {
     "name": "stdout",
     "output_type": "stream",
     "text": [
      "Epoch 50, Loss 0.0573\n",
      "Training Accuracy: 0.9430, Testing Accuracy: 0.9561\n",
      "\n"
     ]
    },
    {
     "name": "stdout",
     "output_type": "stream",
     "text": [
      "Epoch 60, Loss 0.0541\n",
      "Training Accuracy: 0.9467, Testing Accuracy: 0.9577\n",
      "\n"
     ]
    },
    {
     "name": "stdout",
     "output_type": "stream",
     "text": [
      "Epoch 70, Loss 0.0515\n",
      "Training Accuracy: 0.9480, Testing Accuracy: 0.9602\n",
      "\n"
     ]
    },
    {
     "name": "stdout",
     "output_type": "stream",
     "text": [
      "Epoch 80, Loss 0.0495\n",
      "Training Accuracy: 0.9504, Testing Accuracy: 0.9607\n",
      "\n"
     ]
    },
    {
     "name": "stdout",
     "output_type": "stream",
     "text": [
      "Epoch 90, Loss 0.0478\n",
      "Training Accuracy: 0.9520, Testing Accuracy: 0.9627\n",
      "\n"
     ]
    },
    {
     "name": "stdout",
     "output_type": "stream",
     "text": [
      "Epoch 100, Loss 0.0464\n",
      "Training Accuracy: 0.9525, Testing Accuracy: 0.9637\n",
      "\n"
     ]
    },
    {
     "name": "stdout",
     "output_type": "stream",
     "text": [
      "Epoch 110, Loss 0.0452\n",
      "Training Accuracy: 0.9528, Testing Accuracy: 0.9642\n",
      "\n"
     ]
    },
    {
     "name": "stdout",
     "output_type": "stream",
     "text": [
      "Epoch 120, Loss 0.0441\n",
      "Training Accuracy: 0.9536, Testing Accuracy: 0.9652\n",
      "\n"
     ]
    },
    {
     "name": "stdout",
     "output_type": "stream",
     "text": [
      "Epoch 130, Loss 0.0432\n",
      "Training Accuracy: 0.9540, Testing Accuracy: 0.9652\n",
      "\n"
     ]
    },
    {
     "name": "stdout",
     "output_type": "stream",
     "text": [
      "Epoch 140, Loss 0.0423\n",
      "Training Accuracy: 0.9553, Testing Accuracy: 0.9652\n",
      "\n"
     ]
    },
    {
     "name": "stdout",
     "output_type": "stream",
     "text": [
      "Epoch 150, Loss 0.0416\n",
      "Training Accuracy: 0.9561, Testing Accuracy: 0.9657\n",
      "\n"
     ]
    },
    {
     "name": "stdout",
     "output_type": "stream",
     "text": [
      "Epoch 160, Loss 0.0409\n",
      "Training Accuracy: 0.9564, Testing Accuracy: 0.9652\n",
      "\n"
     ]
    },
    {
     "name": "stdout",
     "output_type": "stream",
     "text": [
      "Epoch 170, Loss 0.0403\n",
      "Training Accuracy: 0.9565, Testing Accuracy: 0.9662\n",
      "\n"
     ]
    },
    {
     "name": "stdout",
     "output_type": "stream",
     "text": [
      "Epoch 180, Loss 0.0397\n",
      "Training Accuracy: 0.9576, Testing Accuracy: 0.9657\n",
      "\n"
     ]
    },
    {
     "name": "stdout",
     "output_type": "stream",
     "text": [
      "Epoch 190, Loss 0.0392\n",
      "Training Accuracy: 0.9582, Testing Accuracy: 0.9662\n",
      "\n"
     ]
    },
    {
     "name": "stdout",
     "output_type": "stream",
     "text": [
      "Epoch 200, Loss 0.0387\n",
      "Training Accuracy: 0.9584, Testing Accuracy: 0.9667\n",
      "\n"
     ]
    },
    {
     "name": "stdout",
     "output_type": "stream",
     "text": [
      "Epoch 210, Loss 0.0382\n",
      "Training Accuracy: 0.9586, Testing Accuracy: 0.9667\n",
      "\n"
     ]
    },
    {
     "name": "stdout",
     "output_type": "stream",
     "text": [
      "Epoch 220, Loss 0.0378\n",
      "Training Accuracy: 0.9592, Testing Accuracy: 0.9672\n",
      "\n"
     ]
    },
    {
     "name": "stdout",
     "output_type": "stream",
     "text": [
      "Epoch 230, Loss 0.0374\n",
      "Training Accuracy: 0.9593, Testing Accuracy: 0.9672\n",
      "\n"
     ]
    },
    {
     "name": "stdout",
     "output_type": "stream",
     "text": [
      "Epoch 240, Loss 0.0371\n",
      "Training Accuracy: 0.9596, Testing Accuracy: 0.9677\n",
      "\n"
     ]
    },
    {
     "data": {
      "text/plain": [
       "0.022867189487042385"
      ]
     },
     "execution_count": 23,
     "metadata": {},
     "output_type": "execute_result"
    }
   ],
   "source": [
    "lr_learner.train_loop(dl)"
   ]
  },
  {
   "cell_type": "code",
   "execution_count": 24,
   "id": "ca410940",
   "metadata": {
    "execution": {
     "iopub.execute_input": "2022-05-23T10:12:19.978678Z",
     "iopub.status.busy": "2022-05-23T10:12:19.978091Z",
     "iopub.status.idle": "2022-05-23T10:12:20.191939Z",
     "shell.execute_reply": "2022-05-23T10:12:20.191429Z"
    },
    "papermill": {
     "duration": 0.26381,
     "end_time": "2022-05-23T10:12:20.192061",
     "exception": false,
     "start_time": "2022-05-23T10:12:19.928251",
     "status": "completed"
    },
    "tags": []
   },
   "outputs": [
    {
     "data": {
      "text/plain": [
       "<matplotlib.legend.Legend at 0x7fb02cfa7518>"
      ]
     },
     "execution_count": 24,
     "metadata": {},
     "output_type": "execute_result"
    },
    {
     "data": {
      "image/png": "[encoded data removed]",
      "text/plain": [
       "<Figure size 1080x720 with 1 Axes>"
      ]
     },
     "metadata": {
      "needs_background": "light"
     },
     "output_type": "display_data"
    }
   ],
   "source": [
    "#comparing the results of NN and LR\n",
    "plt.figure(figsize=(15,10))\n",
    "\n",
    "# Neural Network plots\n",
    "plt.plot(acc_nn.accuracies, 'r-', label = \"Training Accuracies - NN\")\n",
    "plt.plot(acc_nn.test_accuracies, 'g-', label = \"Testing Accuracies - NN\")\n",
    "\n",
    "# Logistic Regression plots\n",
    "plt.plot(acc_lr.accuracies, 'k-', label = \"Training Accuracies - LR\")\n",
    "plt.plot(acc_lr.test_accuracies, 'b-', label = \"Testing Accuracies - LR\")\n",
    "plt.legend()"
   ]
  },
  {
   "cell_type": "markdown",
   "id": "80dfb35c",
   "metadata": {
    "papermill": {
     "duration": 0.041848,
     "end_time": "2022-05-23T10:12:20.276015",
     "exception": false,
     "start_time": "2022-05-23T10:12:20.234167",
     "status": "completed"
    },
    "tags": []
   },
   "source": [
    "#### Plotting the outputs of this layer of the NN.\n"
   ]
  },
  {
   "cell_type": "code",
   "execution_count": 25,
   "id": "45eb2ff5",
   "metadata": {
    "execution": {
     "iopub.execute_input": "2022-05-23T10:12:20.374684Z",
     "iopub.status.busy": "2022-05-23T10:12:20.373744Z",
     "iopub.status.idle": "2022-05-23T10:12:20.387333Z",
     "shell.execute_reply": "2022-05-23T10:12:20.386837Z"
    },
    "papermill": {
     "duration": 0.069577,
     "end_time": "2022-05-23T10:12:20.387451",
     "exception": false,
     "start_time": "2022-05-23T10:12:20.317874",
     "status": "completed"
    },
    "tags": []
   },
   "outputs": [],
   "source": [
    "new_model = Model(layers[:-2])\n",
    "testing_plot = new_model(testing_data_x)"
   ]
  },
  {
   "cell_type": "code",
   "execution_count": 26,
   "id": "4c0a5485",
   "metadata": {
    "execution": {
     "iopub.execute_input": "2022-05-23T10:12:20.484962Z",
     "iopub.status.busy": "2022-05-23T10:12:20.479140Z",
     "iopub.status.idle": "2022-05-23T10:12:20.687103Z",
     "shell.execute_reply": "2022-05-23T10:12:20.686595Z"
    },
    "papermill": {
     "duration": 0.257503,
     "end_time": "2022-05-23T10:12:20.687224",
     "exception": false,
     "start_time": "2022-05-23T10:12:20.429721",
     "status": "completed"
    },
    "tags": []
   },
   "outputs": [
    {
     "data": {
      "text/plain": [
       "Text(0.5, 1.0, 'Outputs')"
      ]
     },
     "execution_count": 26,
     "metadata": {},
     "output_type": "execute_result"
    },
    {
     "data": {
      "image/png": "[encoded data removed]",
      "text/plain": [
       "<Figure size 576x504 with 1 Axes>"
      ]
     },
     "metadata": {
      "needs_background": "light"
     },
     "output_type": "display_data"
    }
   ],
   "source": [
    "# Plotting the scatter plot of points and color coding by class\n",
    "plt.figure(figsize=(8,7))\n",
    "plt.scatter(testing_plot[:,0], testing_plot[:,1], alpha = 0.1, c = y_test.ravel());\n",
    "plt.title('Outputs')"
   ]
  },
  {
   "cell_type": "markdown",
   "id": "a74fcf8f",
   "metadata": {
    "papermill": {
     "duration": 0.043806,
     "end_time": "2022-05-23T10:12:20.775083",
     "exception": false,
     "start_time": "2022-05-23T10:12:20.731277",
     "status": "completed"
    },
    "tags": []
   },
   "source": [
    "Probability contours"
   ]
  },
  {
   "cell_type": "code",
   "execution_count": 27,
   "id": "d0afc8e3",
   "metadata": {
    "execution": {
     "iopub.execute_input": "2022-05-23T10:12:20.903104Z",
     "iopub.status.busy": "2022-05-23T10:12:20.902155Z",
     "iopub.status.idle": "2022-05-23T10:12:20.908245Z",
     "shell.execute_reply": "2022-05-23T10:12:20.908823Z"
    },
    "papermill": {
     "duration": 0.089987,
     "end_time": "2022-05-23T10:12:20.908966",
     "exception": false,
     "start_time": "2022-05-23T10:12:20.818979",
     "status": "completed"
    },
    "tags": []
   },
   "outputs": [],
   "source": [
    "model_prob = Model(layers[-2:]) "
   ]
  },
  {
   "cell_type": "code",
   "execution_count": 28,
   "id": "9b96e238",
   "metadata": {
    "execution": {
     "iopub.execute_input": "2022-05-23T10:12:21.004809Z",
     "iopub.status.busy": "2022-05-23T10:12:21.004188Z",
     "iopub.status.idle": "2022-05-23T10:12:21.017252Z",
     "shell.execute_reply": "2022-05-23T10:12:21.017677Z"
    },
    "papermill": {
     "duration": 0.064162,
     "end_time": "2022-05-23T10:12:21.017818",
     "exception": false,
     "start_time": "2022-05-23T10:12:20.953656",
     "status": "completed"
    },
    "tags": []
   },
   "outputs": [],
   "source": [
    "#creating the x and y ranges according to the above generated plot.\n",
    "x_range = np.linspace(-4, 1, 100) \n",
    "y_range = np.linspace(-6, 6, 100) \n",
    "x_grid, y_grid = np.meshgrid(x_range, y_range) # x_grid and y_grig are of size 100 X 100\n",
    "\n",
    "# converting x_grid and y_grid to continuous arrays\n",
    "x_gridflat = np.ravel(x_grid)\n",
    "y_gridflat = np.ravel(y_grid)\n",
    "\n",
    "# The last layer of the current model takes two columns as input. Hence transpose of np.vstack() is required.\n",
    "X = np.vstack((x_gridflat, y_gridflat)).T\n",
    "\n",
    "prob_contour = model_prob(X).reshape(100,100) "
   ]
  },
  {
   "cell_type": "code",
   "execution_count": 29,
   "id": "da72499a",
   "metadata": {
    "execution": {
     "iopub.execute_input": "2022-05-23T10:12:21.114305Z",
     "iopub.status.busy": "2022-05-23T10:12:21.113726Z",
     "iopub.status.idle": "2022-05-23T10:12:21.358945Z",
     "shell.execute_reply": "2022-05-23T10:12:21.359465Z"
    },
    "papermill": {
     "duration": 0.297734,
     "end_time": "2022-05-23T10:12:21.359614",
     "exception": false,
     "start_time": "2022-05-23T10:12:21.061880",
     "status": "completed"
    },
    "tags": []
   },
   "outputs": [
    {
     "data": {
      "image/png": "[encoded data removed]",
      "text/plain": [
       "<Figure size 720x648 with 1 Axes>"
      ]
     },
     "metadata": {
      "needs_background": "light"
     },
     "output_type": "display_data"
    }
   ],
   "source": [
    "plt.figure(figsize=(10,9))\n",
    "plt.scatter(testing_plot[:,0], testing_plot[:,1], alpha = 0.1, c = y_test.ravel())\n",
    "contours = plt.contour(x_grid,y_grid,prob_contour)\n",
    "plt.title('Probability Contours')\n",
    "plt.clabel(contours, inline = True );"
   ]
  },
  {
   "cell_type": "code",
   "execution_count": null,
   "id": "e81b4ac7",
   "metadata": {
    "papermill": {
     "duration": 0.046313,
     "end_time": "2022-05-23T10:12:21.452674",
     "exception": false,
     "start_time": "2022-05-23T10:12:21.406361",
     "status": "completed"
    },
    "tags": []
   },
   "outputs": [],
   "source": []
  }
 ],
 "metadata": {
  "kernelspec": {
   "display_name": "Python 3",
   "language": "python",
   "name": "python3"
  },
  "language_info": {
   "codemirror_mode": {
    "name": "ipython",
    "version": 3
   },
   "file_extension": ".py",
   "mimetype": "text/x-python",
   "name": "python",
   "nbconvert_exporter": "python",
   "pygments_lexer": "ipython3",
   "version": "3.6.15"
  },
  "papermill": {
   "default_parameters": {},
   "duration": 96.342112,
   "end_time": "2022-05-23T10:12:21.917815",
   "environment_variables": {},
   "exception": null,
   "input_path": "2020-08-11-part2.ipynb",
   "output_path": "2020-08-11-part2.ipynb",
   "parameters": {},
   "start_time": "2022-05-23T10:10:45.575703",
   "version": "2.3.3"
  }
 },
 "nbformat": 4,
 "nbformat_minor": 5
}