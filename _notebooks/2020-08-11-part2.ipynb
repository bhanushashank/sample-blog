{
 "cells": [
  {
   "cell_type": "markdown",
   "id": "98380cd3",
   "metadata": {
    "papermill": {
     "duration": 0.030018,
     "end_time": "2022-06-01T00:48:55.593841",
     "exception": false,
     "start_time": "2022-06-01T00:48:55.563823",
     "status": "completed"
    },
    "tags": []
   },
   "source": [
    "# Distinguish Your Own Digits (DYOD)"
   ]
  },
  {
   "cell_type": "markdown",
   "id": "ef31240d",
   "metadata": {
    "papermill": {
     "duration": 0.023794,
     "end_time": "2022-06-01T00:48:55.642156",
     "exception": false,
     "start_time": "2022-06-01T00:48:55.618362",
     "status": "completed"
    },
    "tags": []
   },
   "source": [
    "You are going to write a classifier that distinguishes between the number 3 and number 8."
   ]
  },
  {
   "cell_type": "code",
   "execution_count": 1,
   "id": "b15c8646",
   "metadata": {
    "execution": {
     "iopub.execute_input": "2022-06-01T00:48:55.701072Z",
     "iopub.status.busy": "2022-06-01T00:48:55.700428Z",
     "iopub.status.idle": "2022-06-01T00:48:55.711039Z",
     "shell.execute_reply": "2022-06-01T00:48:55.710555Z"
    },
    "papermill": {
     "duration": 0.045243,
     "end_time": "2022-06-01T00:48:55.711163",
     "exception": false,
     "start_time": "2022-06-01T00:48:55.665920",
     "status": "completed"
    },
    "tags": []
   },
   "outputs": [],
   "source": [
    "%load_ext autoreload\n",
    "%autoreload 2"
   ]
  },
  {
   "cell_type": "code",
   "execution_count": 2,
   "id": "22ef38dc",
   "metadata": {
    "execution": {
     "iopub.execute_input": "2022-06-01T00:48:55.768027Z",
     "iopub.status.busy": "2022-06-01T00:48:55.767453Z",
     "iopub.status.idle": "2022-06-01T00:48:56.295271Z",
     "shell.execute_reply": "2022-06-01T00:48:56.294694Z"
    },
    "papermill": {
     "duration": 0.560375,
     "end_time": "2022-06-01T00:48:56.295413",
     "exception": false,
     "start_time": "2022-06-01T00:48:55.735038",
     "status": "completed"
    },
    "tags": []
   },
   "outputs": [],
   "source": [
    "%matplotlib inline\n",
    "import numpy as np\n",
    "import matplotlib.pyplot as plt\n",
    "import pandas as pd"
   ]
  },
  {
   "cell_type": "markdown",
   "id": "ba036198",
   "metadata": {
    "papermill": {
     "duration": 0.02383,
     "end_time": "2022-06-01T00:48:56.343397",
     "exception": false,
     "start_time": "2022-06-01T00:48:56.319567",
     "status": "completed"
    },
    "tags": []
   },
   "source": [
    "From the command line run `pip install mnist`. This is a library that will help you bring down the mnist dataset. If you run this from a notebook, you need to put  `!pip install mnist` in a cell by itself."
   ]
  },
  {
   "cell_type": "code",
   "execution_count": 3,
   "id": "bb6ad8a1",
   "metadata": {
    "execution": {
     "iopub.execute_input": "2022-06-01T00:48:56.395574Z",
     "iopub.status.busy": "2022-06-01T00:48:56.395004Z",
     "iopub.status.idle": "2022-06-01T00:48:58.849874Z",
     "shell.execute_reply": "2022-06-01T00:48:58.848500Z"
    },
    "papermill": {
     "duration": 2.482616,
     "end_time": "2022-06-01T00:48:58.850018",
     "exception": false,
     "start_time": "2022-06-01T00:48:56.367402",
     "status": "completed"
    },
    "tags": []
   },
   "outputs": [
    {
     "name": "stdout",
     "output_type": "stream",
     "text": [
      "Collecting mnist\r\n"
     ]
    },
    {
     "name": "stdout",
     "output_type": "stream",
     "text": [
      "  Downloading mnist-0.2.2-py2.py3-none-any.whl (3.5 kB)\r\n",
      "Requirement already satisfied: numpy in /opt/hostedtoolcache/Python/3.6.15/x64/lib/python3.6/site-packages (from mnist) (1.19.5)\r\n"
     ]
    },
    {
     "name": "stdout",
     "output_type": "stream",
     "text": [
      "Installing collected packages: mnist\r\n",
      "Successfully installed mnist-0.2.2\r\n"
     ]
    }
   ],
   "source": [
    "!pip install mnist"
   ]
  },
  {
   "cell_type": "markdown",
   "id": "69df9c9a",
   "metadata": {
    "papermill": {
     "duration": 0.024706,
     "end_time": "2022-06-01T00:48:58.900176",
     "exception": false,
     "start_time": "2022-06-01T00:48:58.875470",
     "status": "completed"
    },
    "tags": []
   },
   "source": [
    "## Preparing the Data"
   ]
  },
  {
   "cell_type": "code",
   "execution_count": 4,
   "id": "7f69d806",
   "metadata": {
    "execution": {
     "iopub.execute_input": "2022-06-01T00:48:58.954294Z",
     "iopub.status.busy": "2022-06-01T00:48:58.953721Z",
     "iopub.status.idle": "2022-06-01T00:48:58.968351Z",
     "shell.execute_reply": "2022-06-01T00:48:58.967878Z"
    },
    "papermill": {
     "duration": 0.04311,
     "end_time": "2022-06-01T00:48:58.968461",
     "exception": false,
     "start_time": "2022-06-01T00:48:58.925351",
     "status": "completed"
    },
    "tags": []
   },
   "outputs": [],
   "source": [
    "import mnist"
   ]
  },
  {
   "cell_type": "code",
   "execution_count": 5,
   "id": "a411e44f",
   "metadata": {
    "execution": {
     "iopub.execute_input": "2022-06-01T00:48:59.021530Z",
     "iopub.status.busy": "2022-06-01T00:48:59.020937Z",
     "iopub.status.idle": "2022-06-01T00:48:59.523857Z",
     "shell.execute_reply": "2022-06-01T00:48:59.523255Z"
    },
    "papermill": {
     "duration": 0.530824,
     "end_time": "2022-06-01T00:48:59.523991",
     "exception": false,
     "start_time": "2022-06-01T00:48:58.993167",
     "status": "completed"
    },
    "tags": []
   },
   "outputs": [],
   "source": [
    "train_images = mnist.train_images()\n",
    "train_labels = mnist.train_labels()"
   ]
  },
  {
   "cell_type": "code",
   "execution_count": 6,
   "id": "dceab3a5",
   "metadata": {
    "execution": {
     "iopub.execute_input": "2022-06-01T00:48:59.584881Z",
     "iopub.status.busy": "2022-06-01T00:48:59.583704Z",
     "iopub.status.idle": "2022-06-01T00:48:59.597234Z",
     "shell.execute_reply": "2022-06-01T00:48:59.597690Z"
    },
    "papermill": {
     "duration": 0.04861,
     "end_time": "2022-06-01T00:48:59.597829",
     "exception": false,
     "start_time": "2022-06-01T00:48:59.549219",
     "status": "completed"
    },
    "tags": []
   },
   "outputs": [
    {
     "data": {
      "text/plain": [
       "((60000, 28, 28), (60000,))"
      ]
     },
     "execution_count": 6,
     "metadata": {},
     "output_type": "execute_result"
    }
   ],
   "source": [
    "train_images.shape, train_labels.shape"
   ]
  },
  {
   "cell_type": "code",
   "execution_count": 7,
   "id": "f50dc2bb",
   "metadata": {
    "execution": {
     "iopub.execute_input": "2022-06-01T00:48:59.662350Z",
     "iopub.status.busy": "2022-06-01T00:48:59.651350Z",
     "iopub.status.idle": "2022-06-01T00:48:59.788972Z",
     "shell.execute_reply": "2022-06-01T00:48:59.788331Z"
    },
    "papermill": {
     "duration": 0.166185,
     "end_time": "2022-06-01T00:48:59.789110",
     "exception": false,
     "start_time": "2022-06-01T00:48:59.622925",
     "status": "completed"
    },
    "tags": []
   },
   "outputs": [],
   "source": [
    "test_images = mnist.test_images()\n",
    "test_labels = mnist.test_labels()"
   ]
  },
  {
   "cell_type": "code",
   "execution_count": 8,
   "id": "fc38cf1b",
   "metadata": {
    "execution": {
     "iopub.execute_input": "2022-06-01T00:48:59.844712Z",
     "iopub.status.busy": "2022-06-01T00:48:59.844116Z",
     "iopub.status.idle": "2022-06-01T00:48:59.857367Z",
     "shell.execute_reply": "2022-06-01T00:48:59.856755Z"
    },
    "papermill": {
     "duration": 0.042653,
     "end_time": "2022-06-01T00:48:59.857482",
     "exception": false,
     "start_time": "2022-06-01T00:48:59.814829",
     "status": "completed"
    },
    "tags": []
   },
   "outputs": [
    {
     "data": {
      "text/plain": [
       "((10000, 28, 28), (10000,))"
      ]
     },
     "execution_count": 8,
     "metadata": {},
     "output_type": "execute_result"
    }
   ],
   "source": [
    "test_images.shape, test_labels.shape"
   ]
  },
  {
   "cell_type": "code",
   "execution_count": 9,
   "id": "f9ed8fe0",
   "metadata": {
    "execution": {
     "iopub.execute_input": "2022-06-01T00:48:59.912124Z",
     "iopub.status.busy": "2022-06-01T00:48:59.911548Z",
     "iopub.status.idle": "2022-06-01T00:49:00.048959Z",
     "shell.execute_reply": "2022-06-01T00:49:00.049484Z"
    },
    "papermill": {
     "duration": 0.166879,
     "end_time": "2022-06-01T00:49:00.049634",
     "exception": false,
     "start_time": "2022-06-01T00:48:59.882755",
     "status": "completed"
    },
    "tags": []
   },
   "outputs": [
    {
     "name": "stdout",
     "output_type": "stream",
     "text": [
      "2\n"
     ]
    },
    {
     "data": {
      "text/plain": [
       "<matplotlib.image.AxesImage at 0x7f61c7971ef0>"
      ]
     },
     "execution_count": 9,
     "metadata": {},
     "output_type": "execute_result"
    },
    {
     "data": {
      "image/png": "[encoded data removed]",
      "text/plain": [
       "<Figure size 432x288 with 1 Axes>"
      ]
     },
     "metadata": {
      "needs_background": "light"
     },
     "output_type": "display_data"
    }
   ],
   "source": [
    "image_index = 7776 # You may select anything up to 60,000\n",
    "print(train_labels[image_index]) \n",
    "plt.imshow(train_images[image_index], cmap='Greys')"
   ]
  },
  {
   "cell_type": "markdown",
   "id": "a8d2388d",
   "metadata": {
    "papermill": {
     "duration": 0.026484,
     "end_time": "2022-06-01T00:49:00.103155",
     "exception": false,
     "start_time": "2022-06-01T00:49:00.076671",
     "status": "completed"
    },
    "tags": []
   },
   "source": [
    "## Filter data to get 3 and 8 out"
   ]
  },
  {
   "cell_type": "code",
   "execution_count": 10,
   "id": "776f7fc7",
   "metadata": {
    "execution": {
     "iopub.execute_input": "2022-06-01T00:49:00.162351Z",
     "iopub.status.busy": "2022-06-01T00:49:00.161757Z",
     "iopub.status.idle": "2022-06-01T00:49:00.179010Z",
     "shell.execute_reply": "2022-06-01T00:49:00.178520Z"
    },
    "papermill": {
     "duration": 0.049728,
     "end_time": "2022-06-01T00:49:00.179124",
     "exception": false,
     "start_time": "2022-06-01T00:49:00.129396",
     "status": "completed"
    },
    "tags": []
   },
   "outputs": [],
   "source": [
    "train_filter = np.where((train_labels == 3 ) | (train_labels == 8))\n",
    "test_filter = np.where((test_labels == 3) | (test_labels == 8))\n",
    "X_train, y_train = train_images[train_filter], train_labels[train_filter]\n",
    "X_test, y_test = test_images[test_filter], test_labels[test_filter]"
   ]
  },
  {
   "cell_type": "markdown",
   "id": "948f0b7e",
   "metadata": {
    "papermill": {
     "duration": 0.026284,
     "end_time": "2022-06-01T00:49:00.231846",
     "exception": false,
     "start_time": "2022-06-01T00:49:00.205562",
     "status": "completed"
    },
    "tags": []
   },
   "source": [
    "We normalize the pizel values in the 0 to 1 range"
   ]
  },
  {
   "cell_type": "code",
   "execution_count": 11,
   "id": "ee4c2166",
   "metadata": {
    "execution": {
     "iopub.execute_input": "2022-06-01T00:49:00.288342Z",
     "iopub.status.busy": "2022-06-01T00:49:00.287741Z",
     "iopub.status.idle": "2022-06-01T00:49:00.335851Z",
     "shell.execute_reply": "2022-06-01T00:49:00.335275Z"
    },
    "papermill": {
     "duration": 0.077804,
     "end_time": "2022-06-01T00:49:00.335992",
     "exception": false,
     "start_time": "2022-06-01T00:49:00.258188",
     "status": "completed"
    },
    "tags": []
   },
   "outputs": [],
   "source": [
    "X_train = X_train/255.\n",
    "X_test = X_test/255."
   ]
  },
  {
   "cell_type": "markdown",
   "id": "ddcf4fab",
   "metadata": {
    "papermill": {
     "duration": 0.026164,
     "end_time": "2022-06-01T00:49:00.389375",
     "exception": false,
     "start_time": "2022-06-01T00:49:00.363211",
     "status": "completed"
    },
    "tags": []
   },
   "source": [
    "And setup the labels as 1 (when the digit is 3) and 0 (when the digit is 8)"
   ]
  },
  {
   "cell_type": "code",
   "execution_count": 12,
   "id": "7dc908f2",
   "metadata": {
    "execution": {
     "iopub.execute_input": "2022-06-01T00:49:00.454289Z",
     "iopub.status.busy": "2022-06-01T00:49:00.453691Z",
     "iopub.status.idle": "2022-06-01T00:49:00.461266Z",
     "shell.execute_reply": "2022-06-01T00:49:00.460751Z"
    },
    "papermill": {
     "duration": 0.045906,
     "end_time": "2022-06-01T00:49:00.461383",
     "exception": false,
     "start_time": "2022-06-01T00:49:00.415477",
     "status": "completed"
    },
    "tags": []
   },
   "outputs": [],
   "source": [
    "y_train = 1*(y_train==3)\n",
    "y_test = 1*(y_test==3)"
   ]
  },
  {
   "cell_type": "code",
   "execution_count": 13,
   "id": "01e4e969",
   "metadata": {
    "execution": {
     "iopub.execute_input": "2022-06-01T00:49:00.517643Z",
     "iopub.status.busy": "2022-06-01T00:49:00.517066Z",
     "iopub.status.idle": "2022-06-01T00:49:00.530878Z",
     "shell.execute_reply": "2022-06-01T00:49:00.531350Z"
    },
    "papermill": {
     "duration": 0.043686,
     "end_time": "2022-06-01T00:49:00.531478",
     "exception": false,
     "start_time": "2022-06-01T00:49:00.487792",
     "status": "completed"
    },
    "tags": []
   },
   "outputs": [
    {
     "data": {
      "text/plain": [
       "((11982, 28, 28), (1984, 28, 28))"
      ]
     },
     "execution_count": 13,
     "metadata": {},
     "output_type": "execute_result"
    }
   ],
   "source": [
    "X_train.shape, X_test.shape"
   ]
  },
  {
   "cell_type": "markdown",
   "id": "5ccf3f85",
   "metadata": {
    "papermill": {
     "duration": 0.026248,
     "end_time": "2022-06-01T00:49:00.584229",
     "exception": false,
     "start_time": "2022-06-01T00:49:00.557981",
     "status": "completed"
    },
    "tags": []
   },
   "source": [
    "We reshape the data to flatten the image pixels into a set of features or co-variates:"
   ]
  },
  {
   "cell_type": "code",
   "execution_count": 14,
   "id": "5286a4a3",
   "metadata": {
    "execution": {
     "iopub.execute_input": "2022-06-01T00:49:00.641066Z",
     "iopub.status.busy": "2022-06-01T00:49:00.640466Z",
     "iopub.status.idle": "2022-06-01T00:49:00.655129Z",
     "shell.execute_reply": "2022-06-01T00:49:00.654656Z"
    },
    "papermill": {
     "duration": 0.044591,
     "end_time": "2022-06-01T00:49:00.655238",
     "exception": false,
     "start_time": "2022-06-01T00:49:00.610647",
     "status": "completed"
    },
    "tags": []
   },
   "outputs": [
    {
     "data": {
      "text/plain": [
       "((11982, 784), (1984, 784))"
      ]
     },
     "execution_count": 14,
     "metadata": {},
     "output_type": "execute_result"
    }
   ],
   "source": [
    "X_train = X_train.reshape(X_train.shape[0], -1)\n",
    "X_test = X_test.reshape(X_test.shape[0], -1)\n",
    "X_train.shape, X_test.shape"
   ]
  },
  {
   "cell_type": "code",
   "execution_count": 15,
   "id": "73c5f88a",
   "metadata": {
    "execution": {
     "iopub.execute_input": "2022-06-01T00:49:00.713058Z",
     "iopub.status.busy": "2022-06-01T00:49:00.712455Z",
     "iopub.status.idle": "2022-06-01T00:49:00.732095Z",
     "shell.execute_reply": "2022-06-01T00:49:00.732556Z"
    },
    "papermill": {
     "duration": 0.050768,
     "end_time": "2022-06-01T00:49:00.732690",
     "exception": false,
     "start_time": "2022-06-01T00:49:00.681922",
     "status": "completed"
    },
    "tags": []
   },
   "outputs": [],
   "source": [
    "#Impoting functions from 'Kudzu'\n",
    "from kudzu.model import Model\n",
    "from kudzu.train import Learner\n",
    "from kudzu.optim import GD\n",
    "from kudzu.data import Data, Sampler,Dataloader\n",
    "\n",
    "from kudzu.callbacks import AccCallback\n",
    "from kudzu.callbacks import ClfCallback\n",
    "\n",
    "from kudzu.loss import MSE\n",
    "\n",
    "from kudzu.layer import Sigmoid,Relu\n",
    "from kudzu.layer import Affine"
   ]
  },
  {
   "cell_type": "markdown",
   "id": "bc01172a",
   "metadata": {
    "papermill": {
     "duration": 0.026642,
     "end_time": "2022-06-01T00:49:00.786454",
     "exception": false,
     "start_time": "2022-06-01T00:49:00.759812",
     "status": "completed"
    },
    "tags": []
   },
   "source": [
    "### Let us create a `Config` class, to store important parameters. \n",
    "This class essentially plays the role of a dictionary."
   ]
  },
  {
   "cell_type": "code",
   "execution_count": 16,
   "id": "978281aa",
   "metadata": {
    "execution": {
     "iopub.execute_input": "2022-06-01T00:49:00.843951Z",
     "iopub.status.busy": "2022-06-01T00:49:00.843367Z",
     "iopub.status.idle": "2022-06-01T00:49:00.856622Z",
     "shell.execute_reply": "2022-06-01T00:49:00.856147Z"
    },
    "papermill": {
     "duration": 0.043655,
     "end_time": "2022-06-01T00:49:00.856732",
     "exception": false,
     "start_time": "2022-06-01T00:49:00.813077",
     "status": "completed"
    },
    "tags": []
   },
   "outputs": [],
   "source": [
    "class Config:\n",
    "    pass\n",
    "config = Config()\n",
    "config.lr = 0.001\n",
    "config.num_epochs = 250\n",
    "config.bs = 50"
   ]
  },
  {
   "cell_type": "markdown",
   "id": "1385fa59",
   "metadata": {
    "papermill": {
     "duration": 0.026723,
     "end_time": "2022-06-01T00:49:00.910615",
     "exception": false,
     "start_time": "2022-06-01T00:49:00.883892",
     "status": "completed"
    },
    "tags": []
   },
   "source": [
    "### Running Models with the Training data\n",
    "Details about the network layers:\n",
    "- A first affine layer has 784 inputs and does 100 affine transforms. These are followed by a Relu\n",
    "- A second affine layer has 100 inputs from the 100 activations of the past layer, and does 100 affine transforms. These are followed by a Relu\n",
    "- A third affine layer has 100 activations and does 2 affine transformations to create an embedding for visualization. There is no non-linearity here.\n",
    "- A final \"logistic regression\" which has an affine transform from 2 inputs to 1 output, which is squeezed through a sigmoid.\n"
   ]
  },
  {
   "cell_type": "code",
   "execution_count": 17,
   "id": "2b9c66db",
   "metadata": {
    "execution": {
     "iopub.execute_input": "2022-06-01T00:49:00.969258Z",
     "iopub.status.busy": "2022-06-01T00:49:00.968636Z",
     "iopub.status.idle": "2022-06-01T00:49:00.981784Z",
     "shell.execute_reply": "2022-06-01T00:49:00.981296Z"
    },
    "papermill": {
     "duration": 0.043961,
     "end_time": "2022-06-01T00:49:00.981896",
     "exception": false,
     "start_time": "2022-06-01T00:49:00.937935",
     "status": "completed"
    },
    "tags": []
   },
   "outputs": [],
   "source": [
    "data = Data(X_train, y_train.reshape(-1,1))\n",
    "sampler = Sampler(data, config.bs, shuffle=True)\n",
    "\n",
    "dl = Dataloader(data, sampler)\n",
    "\n",
    "opt = GD(config.lr)\n",
    "loss = MSE()"
   ]
  },
  {
   "cell_type": "code",
   "execution_count": 18,
   "id": "b275e4c2",
   "metadata": {
    "execution": {
     "iopub.execute_input": "2022-06-01T00:49:01.039438Z",
     "iopub.status.busy": "2022-06-01T00:49:01.038862Z",
     "iopub.status.idle": "2022-06-01T00:49:01.051949Z",
     "shell.execute_reply": "2022-06-01T00:49:01.051472Z"
    },
    "papermill": {
     "duration": 0.043399,
     "end_time": "2022-06-01T00:49:01.052061",
     "exception": false,
     "start_time": "2022-06-01T00:49:01.008662",
     "status": "completed"
    },
    "tags": []
   },
   "outputs": [],
   "source": [
    "training_data_x = X_train\n",
    "testing_data_x = X_test\n",
    "training_data_y = y_train.reshape(-1,1)\n",
    "testing_data_y = y_test.reshape(-1,1)"
   ]
  },
  {
   "cell_type": "code",
   "execution_count": 19,
   "id": "76951160",
   "metadata": {
    "execution": {
     "iopub.execute_input": "2022-06-01T00:49:01.110297Z",
     "iopub.status.busy": "2022-06-01T00:49:01.109709Z",
     "iopub.status.idle": "2022-06-01T00:49:01.126497Z",
     "shell.execute_reply": "2022-06-01T00:49:01.126972Z"
    },
    "papermill": {
     "duration": 0.048319,
     "end_time": "2022-06-01T00:49:01.127105",
     "exception": false,
     "start_time": "2022-06-01T00:49:01.078786",
     "status": "completed"
    },
    "tags": []
   },
   "outputs": [
    {
     "name": "stdout",
     "output_type": "stream",
     "text": [
      "xavier\n",
      "xavier\n",
      "xavier\n",
      "xavier\n",
      "xavier\n"
     ]
    }
   ],
   "source": [
    "layers = [Affine(\"first\", 784, 100), Relu(\"first\"), Affine(\"second\", 100, 100), Relu(\"second\"), Affine(\"third\", 100, 2), Affine(\"last\", 2, 1), Sigmoid(\"last\")]\n",
    "model_nn = Model(layers)\n",
    "model_lr = Model([Affine(\"logits\", 784, 1), Sigmoid(\"sigmoid\")])"
   ]
  },
  {
   "cell_type": "code",
   "execution_count": 20,
   "id": "6eede77a",
   "metadata": {
    "execution": {
     "iopub.execute_input": "2022-06-01T00:49:01.185967Z",
     "iopub.status.busy": "2022-06-01T00:49:01.185385Z",
     "iopub.status.idle": "2022-06-01T00:49:01.197789Z",
     "shell.execute_reply": "2022-06-01T00:49:01.197307Z"
    },
    "papermill": {
     "duration": 0.043642,
     "end_time": "2022-06-01T00:49:01.197902",
     "exception": false,
     "start_time": "2022-06-01T00:49:01.154260",
     "status": "completed"
    },
    "tags": []
   },
   "outputs": [],
   "source": [
    "nn_learner = Learner(loss, model_nn, opt, config.num_epochs)\n",
    "acc_nn = ClfCallback(nn_learner, config.bs, training_data_x , testing_data_x, training_data_y, testing_data_y)\n",
    "nn_learner.set_callbacks([acc_nn])"
   ]
  },
  {
   "cell_type": "code",
   "execution_count": 21,
   "id": "877b6cc7",
   "metadata": {
    "execution": {
     "iopub.execute_input": "2022-06-01T00:49:01.259290Z",
     "iopub.status.busy": "2022-06-01T00:49:01.258674Z",
     "iopub.status.idle": "2022-06-01T00:49:01.268970Z",
     "shell.execute_reply": "2022-06-01T00:49:01.269435Z"
    },
    "papermill": {
     "duration": 0.044627,
     "end_time": "2022-06-01T00:49:01.269574",
     "exception": false,
     "start_time": "2022-06-01T00:49:01.224947",
     "status": "completed"
    },
    "tags": []
   },
   "outputs": [],
   "source": [
    "lr_learner = Learner(loss, model_lr, opt, config.num_epochs)\n",
    "acc_lr = ClfCallback(lr_learner, config.bs, training_data_x , testing_data_x, training_data_y, testing_data_y)\n",
    "lr_learner.set_callbacks([acc_lr])"
   ]
  },
  {
   "cell_type": "code",
   "execution_count": 22,
   "id": "d9b133c3",
   "metadata": {
    "execution": {
     "iopub.execute_input": "2022-06-01T00:49:01.327697Z",
     "iopub.status.busy": "2022-06-01T00:49:01.327117Z",
     "iopub.status.idle": "2022-06-01T00:50:15.084351Z",
     "shell.execute_reply": "2022-06-01T00:50:15.085222Z"
    },
    "papermill": {
     "duration": 73.788681,
     "end_time": "2022-06-01T00:50:15.085372",
     "exception": false,
     "start_time": "2022-06-01T00:49:01.296691",
     "status": "completed"
    },
    "tags": []
   },
   "outputs": [
    {
     "name": "stdout",
     "output_type": "stream",
     "text": [
      "Epoch 0, Loss 0.2528\n",
      "Training Accuracy: 0.5339, Testing Accuracy: 0.5237\n",
      "\n"
     ]
    },
    {
     "name": "stdout",
     "output_type": "stream",
     "text": [
      "Epoch 10, Loss 0.1339\n",
      "Training Accuracy: 0.8986, Testing Accuracy: 0.9073\n",
      "\n"
     ]
    },
    {
     "name": "stdout",
     "output_type": "stream",
     "text": [
      "Epoch 20, Loss 0.0717\n",
      "Training Accuracy: 0.9307, Testing Accuracy: 0.9395\n",
      "\n"
     ]
    },
    {
     "name": "stdout",
     "output_type": "stream",
     "text": [
      "Epoch 30, Loss 0.0515\n",
      "Training Accuracy: 0.9456, Testing Accuracy: 0.9556\n",
      "\n"
     ]
    },
    {
     "name": "stdout",
     "output_type": "stream",
     "text": [
      "Epoch 40, Loss 0.0423\n",
      "Training Accuracy: 0.9537, Testing Accuracy: 0.9622\n",
      "\n"
     ]
    },
    {
     "name": "stdout",
     "output_type": "stream",
     "text": [
      "Epoch 50, Loss 0.0371\n",
      "Training Accuracy: 0.9590, Testing Accuracy: 0.9677\n",
      "\n"
     ]
    },
    {
     "name": "stdout",
     "output_type": "stream",
     "text": [
      "Epoch 60, Loss 0.0338\n",
      "Training Accuracy: 0.9617, Testing Accuracy: 0.9688\n",
      "\n"
     ]
    },
    {
     "name": "stdout",
     "output_type": "stream",
     "text": [
      "Epoch 70, Loss 0.0315\n",
      "Training Accuracy: 0.9640, Testing Accuracy: 0.9688\n",
      "\n"
     ]
    },
    {
     "name": "stdout",
     "output_type": "stream",
     "text": [
      "Epoch 80, Loss 0.0298\n",
      "Training Accuracy: 0.9655, Testing Accuracy: 0.9688\n",
      "\n"
     ]
    },
    {
     "name": "stdout",
     "output_type": "stream",
     "text": [
      "Epoch 90, Loss 0.0284\n",
      "Training Accuracy: 0.9665, Testing Accuracy: 0.9708\n",
      "\n"
     ]
    },
    {
     "name": "stdout",
     "output_type": "stream",
     "text": [
      "Epoch 100, Loss 0.0273\n",
      "Training Accuracy: 0.9680, Testing Accuracy: 0.9708\n",
      "\n"
     ]
    },
    {
     "name": "stdout",
     "output_type": "stream",
     "text": [
      "Epoch 110, Loss 0.0263\n",
      "Training Accuracy: 0.9690, Testing Accuracy: 0.9713\n",
      "\n"
     ]
    },
    {
     "name": "stdout",
     "output_type": "stream",
     "text": [
      "Epoch 120, Loss 0.0255\n",
      "Training Accuracy: 0.9705, Testing Accuracy: 0.9718\n",
      "\n"
     ]
    },
    {
     "name": "stdout",
     "output_type": "stream",
     "text": [
      "Epoch 130, Loss 0.0248\n",
      "Training Accuracy: 0.9715, Testing Accuracy: 0.9723\n",
      "\n"
     ]
    },
    {
     "name": "stdout",
     "output_type": "stream",
     "text": [
      "Epoch 140, Loss 0.0241\n",
      "Training Accuracy: 0.9724, Testing Accuracy: 0.9728\n",
      "\n"
     ]
    },
    {
     "name": "stdout",
     "output_type": "stream",
     "text": [
      "Epoch 150, Loss 0.0235\n",
      "Training Accuracy: 0.9735, Testing Accuracy: 0.9728\n",
      "\n"
     ]
    },
    {
     "name": "stdout",
     "output_type": "stream",
     "text": [
      "Epoch 160, Loss 0.0229\n",
      "Training Accuracy: 0.9741, Testing Accuracy: 0.9738\n",
      "\n"
     ]
    },
    {
     "name": "stdout",
     "output_type": "stream",
     "text": [
      "Epoch 170, Loss 0.0224\n",
      "Training Accuracy: 0.9751, Testing Accuracy: 0.9728\n",
      "\n"
     ]
    },
    {
     "name": "stdout",
     "output_type": "stream",
     "text": [
      "Epoch 180, Loss 0.0219\n",
      "Training Accuracy: 0.9754, Testing Accuracy: 0.9728\n",
      "\n"
     ]
    },
    {
     "name": "stdout",
     "output_type": "stream",
     "text": [
      "Epoch 190, Loss 0.0215\n",
      "Training Accuracy: 0.9759, Testing Accuracy: 0.9728\n",
      "\n"
     ]
    },
    {
     "name": "stdout",
     "output_type": "stream",
     "text": [
      "Epoch 200, Loss 0.021\n",
      "Training Accuracy: 0.9764, Testing Accuracy: 0.9728\n",
      "\n"
     ]
    },
    {
     "name": "stdout",
     "output_type": "stream",
     "text": [
      "Epoch 210, Loss 0.0206\n",
      "Training Accuracy: 0.9771, Testing Accuracy: 0.9738\n",
      "\n"
     ]
    },
    {
     "name": "stdout",
     "output_type": "stream",
     "text": [
      "Epoch 220, Loss 0.0202\n",
      "Training Accuracy: 0.9781, Testing Accuracy: 0.9738\n",
      "\n"
     ]
    },
    {
     "name": "stdout",
     "output_type": "stream",
     "text": [
      "Epoch 230, Loss 0.0198\n",
      "Training Accuracy: 0.9782, Testing Accuracy: 0.9738\n",
      "\n"
     ]
    },
    {
     "name": "stdout",
     "output_type": "stream",
     "text": [
      "Epoch 240, Loss 0.0195\n",
      "Training Accuracy: 0.9791, Testing Accuracy: 0.9733\n",
      "\n"
     ]
    },
    {
     "data": {
      "text/plain": [
       "0.016766711225431486"
      ]
     },
     "execution_count": 22,
     "metadata": {},
     "output_type": "execute_result"
    }
   ],
   "source": [
    "nn_learner.train_loop(dl)"
   ]
  },
  {
   "cell_type": "code",
   "execution_count": 23,
   "id": "e0163366",
   "metadata": {
    "execution": {
     "iopub.execute_input": "2022-06-01T00:50:15.166375Z",
     "iopub.status.busy": "2022-06-01T00:50:15.165783Z",
     "iopub.status.idle": "2022-06-01T00:50:28.160328Z",
     "shell.execute_reply": "2022-06-01T00:50:28.161165Z"
    },
    "papermill": {
     "duration": 13.040716,
     "end_time": "2022-06-01T00:50:28.161310",
     "exception": false,
     "start_time": "2022-06-01T00:50:15.120594",
     "status": "completed"
    },
    "tags": []
   },
   "outputs": [
    {
     "name": "stdout",
     "output_type": "stream",
     "text": [
      "Epoch 0, Loss 0.2316\n",
      "Training Accuracy: 0.7614, Testing Accuracy: 0.7636\n",
      "\n"
     ]
    },
    {
     "name": "stdout",
     "output_type": "stream",
     "text": [
      "Epoch 10, Loss 0.1\n",
      "Training Accuracy: 0.9160, Testing Accuracy: 0.9274\n",
      "\n"
     ]
    },
    {
     "name": "stdout",
     "output_type": "stream",
     "text": [
      "Epoch 20, Loss 0.0778\n",
      "Training Accuracy: 0.9297, Testing Accuracy: 0.9420\n",
      "\n"
     ]
    },
    {
     "name": "stdout",
     "output_type": "stream",
     "text": [
      "Epoch 30, Loss 0.0675\n",
      "Training Accuracy: 0.9371, Testing Accuracy: 0.9486\n",
      "\n"
     ]
    },
    {
     "name": "stdout",
     "output_type": "stream",
     "text": [
      "Epoch 40, Loss 0.0613\n",
      "Training Accuracy: 0.9414, Testing Accuracy: 0.9496\n",
      "\n"
     ]
    },
    {
     "name": "stdout",
     "output_type": "stream",
     "text": [
      "Epoch 50, Loss 0.057\n",
      "Training Accuracy: 0.9444, Testing Accuracy: 0.9541\n",
      "\n"
     ]
    },
    {
     "name": "stdout",
     "output_type": "stream",
     "text": [
      "Epoch 60, Loss 0.0538\n",
      "Training Accuracy: 0.9467, Testing Accuracy: 0.9551\n",
      "\n"
     ]
    },
    {
     "name": "stdout",
     "output_type": "stream",
     "text": [
      "Epoch 70, Loss 0.0513\n",
      "Training Accuracy: 0.9487, Testing Accuracy: 0.9582\n",
      "\n"
     ]
    },
    {
     "name": "stdout",
     "output_type": "stream",
     "text": [
      "Epoch 80, Loss 0.0493\n",
      "Training Accuracy: 0.9500, Testing Accuracy: 0.9612\n",
      "\n"
     ]
    },
    {
     "name": "stdout",
     "output_type": "stream",
     "text": [
      "Epoch 90, Loss 0.0477\n",
      "Training Accuracy: 0.9510, Testing Accuracy: 0.9632\n",
      "\n"
     ]
    },
    {
     "name": "stdout",
     "output_type": "stream",
     "text": [
      "Epoch 100, Loss 0.0463\n",
      "Training Accuracy: 0.9513, Testing Accuracy: 0.9632\n",
      "\n"
     ]
    },
    {
     "name": "stdout",
     "output_type": "stream",
     "text": [
      "Epoch 110, Loss 0.0451\n",
      "Training Accuracy: 0.9522, Testing Accuracy: 0.9627\n",
      "\n"
     ]
    },
    {
     "name": "stdout",
     "output_type": "stream",
     "text": [
      "Epoch 120, Loss 0.044\n",
      "Training Accuracy: 0.9528, Testing Accuracy: 0.9637\n",
      "\n"
     ]
    },
    {
     "name": "stdout",
     "output_type": "stream",
     "text": [
      "Epoch 130, Loss 0.0431\n",
      "Training Accuracy: 0.9540, Testing Accuracy: 0.9637\n",
      "\n"
     ]
    },
    {
     "name": "stdout",
     "output_type": "stream",
     "text": [
      "Epoch 140, Loss 0.0423\n",
      "Training Accuracy: 0.9547, Testing Accuracy: 0.9637\n",
      "\n"
     ]
    },
    {
     "name": "stdout",
     "output_type": "stream",
     "text": [
      "Epoch 150, Loss 0.0415\n",
      "Training Accuracy: 0.9556, Testing Accuracy: 0.9642\n",
      "\n"
     ]
    },
    {
     "name": "stdout",
     "output_type": "stream",
     "text": [
      "Epoch 160, Loss 0.0408\n",
      "Training Accuracy: 0.9565, Testing Accuracy: 0.9642\n",
      "\n"
     ]
    },
    {
     "name": "stdout",
     "output_type": "stream",
     "text": [
      "Epoch 170, Loss 0.0402\n",
      "Training Accuracy: 0.9567, Testing Accuracy: 0.9642\n",
      "\n"
     ]
    },
    {
     "name": "stdout",
     "output_type": "stream",
     "text": [
      "Epoch 180, Loss 0.0397\n",
      "Training Accuracy: 0.9571, Testing Accuracy: 0.9642\n",
      "\n"
     ]
    },
    {
     "name": "stdout",
     "output_type": "stream",
     "text": [
      "Epoch 190, Loss 0.0392\n",
      "Training Accuracy: 0.9578, Testing Accuracy: 0.9647\n",
      "\n"
     ]
    },
    {
     "name": "stdout",
     "output_type": "stream",
     "text": [
      "Epoch 200, Loss 0.0387\n",
      "Training Accuracy: 0.9580, Testing Accuracy: 0.9647\n",
      "\n"
     ]
    },
    {
     "name": "stdout",
     "output_type": "stream",
     "text": [
      "Epoch 210, Loss 0.0382\n",
      "Training Accuracy: 0.9583, Testing Accuracy: 0.9647\n",
      "\n"
     ]
    },
    {
     "name": "stdout",
     "output_type": "stream",
     "text": [
      "Epoch 220, Loss 0.0378\n",
      "Training Accuracy: 0.9585, Testing Accuracy: 0.9652\n",
      "\n"
     ]
    },
    {
     "name": "stdout",
     "output_type": "stream",
     "text": [
      "Epoch 230, Loss 0.0374\n",
      "Training Accuracy: 0.9588, Testing Accuracy: 0.9652\n",
      "\n"
     ]
    },
    {
     "name": "stdout",
     "output_type": "stream",
     "text": [
      "Epoch 240, Loss 0.0371\n",
      "Training Accuracy: 0.9590, Testing Accuracy: 0.9647\n",
      "\n"
     ]
    },
    {
     "data": {
      "text/plain": [
       "0.07995323873482446"
      ]
     },
     "execution_count": 23,
     "metadata": {},
     "output_type": "execute_result"
    }
   ],
   "source": [
    "lr_learner.train_loop(dl)"
   ]
  },
  {
   "cell_type": "code",
   "execution_count": 24,
   "id": "ca410940",
   "metadata": {
    "execution": {
     "iopub.execute_input": "2022-06-01T00:50:28.254162Z",
     "iopub.status.busy": "2022-06-01T00:50:28.253566Z",
     "iopub.status.idle": "2022-06-01T00:50:28.470272Z",
     "shell.execute_reply": "2022-06-01T00:50:28.469376Z"
    },
    "papermill": {
     "duration": 0.268042,
     "end_time": "2022-06-01T00:50:28.470410",
     "exception": false,
     "start_time": "2022-06-01T00:50:28.202368",
     "status": "completed"
    },
    "tags": []
   },
   "outputs": [
    {
     "data": {
      "text/plain": [
       "<matplotlib.legend.Legend at 0x7f61c74e3630>"
      ]
     },
     "execution_count": 24,
     "metadata": {},
     "output_type": "execute_result"
    },
    {
     "data": {
      "image/png": "[encoded data removed]",
      "text/plain": [
       "<Figure size 1080x720 with 1 Axes>"
      ]
     },
     "metadata": {
      "needs_background": "light"
     },
     "output_type": "display_data"
    }
   ],
   "source": [
    "#comparing the results of NN and LR\n",
    "plt.figure(figsize=(15,10))\n",
    "\n",
    "# Neural Network plots\n",
    "plt.plot(acc_nn.accuracies, 'r-', label = \"Training Accuracies - NN\")\n",
    "plt.plot(acc_nn.test_accuracies, 'g-', label = \"Testing Accuracies - NN\")\n",
    "\n",
    "# Logistic Regression plots\n",
    "plt.plot(acc_lr.accuracies, 'k-', label = \"Training Accuracies - LR\")\n",
    "plt.plot(acc_lr.test_accuracies, 'b-', label = \"Testing Accuracies - LR\")\n",
    "plt.legend()"
   ]
  },
  {
   "cell_type": "markdown",
   "id": "80dfb35c",
   "metadata": {
    "papermill": {
     "duration": 0.041683,
     "end_time": "2022-06-01T00:50:28.554819",
     "exception": false,
     "start_time": "2022-06-01T00:50:28.513136",
     "status": "completed"
    },
    "tags": []
   },
   "source": [
    "#### Plotting the outputs of this layer of the NN.\n"
   ]
  },
  {
   "cell_type": "code",
   "execution_count": 25,
   "id": "45eb2ff5",
   "metadata": {
    "execution": {
     "iopub.execute_input": "2022-06-01T00:50:28.641823Z",
     "iopub.status.busy": "2022-06-01T00:50:28.641221Z",
     "iopub.status.idle": "2022-06-01T00:50:28.660491Z",
     "shell.execute_reply": "2022-06-01T00:50:28.660981Z"
    },
    "papermill": {
     "duration": 0.064782,
     "end_time": "2022-06-01T00:50:28.661124",
     "exception": false,
     "start_time": "2022-06-01T00:50:28.596342",
     "status": "completed"
    },
    "tags": []
   },
   "outputs": [],
   "source": [
    "new_model = Model(layers[:-2])\n",
    "testing_plot = new_model(testing_data_x)"
   ]
  },
  {
   "cell_type": "code",
   "execution_count": 26,
   "id": "4c0a5485",
   "metadata": {
    "execution": {
     "iopub.execute_input": "2022-06-01T00:50:28.749021Z",
     "iopub.status.busy": "2022-06-01T00:50:28.748396Z",
     "iopub.status.idle": "2022-06-01T00:50:28.943997Z",
     "shell.execute_reply": "2022-06-01T00:50:28.943520Z"
    },
    "papermill": {
     "duration": 0.24107,
     "end_time": "2022-06-01T00:50:28.944116",
     "exception": false,
     "start_time": "2022-06-01T00:50:28.703046",
     "status": "completed"
    },
    "tags": []
   },
   "outputs": [
    {
     "data": {
      "text/plain": [
       "Text(0.5, 1.0, 'Outputs')"
      ]
     },
     "execution_count": 26,
     "metadata": {},
     "output_type": "execute_result"
    },
    {
     "data": {
      "image/png": "[encoded data removed]",
      "text/plain": [
       "<Figure size 576x504 with 1 Axes>"
      ]
     },
     "metadata": {
      "needs_background": "light"
     },
     "output_type": "display_data"
    }
   ],
   "source": [
    "# Plotting the scatter plot of points and color coding by class\n",
    "plt.figure(figsize=(8,7))\n",
    "plt.scatter(testing_plot[:,0], testing_plot[:,1], alpha = 0.1, c = y_test.ravel());\n",
    "plt.title('Outputs')"
   ]
  },
  {
   "cell_type": "markdown",
   "id": "a74fcf8f",
   "metadata": {
    "papermill": {
     "duration": 0.04375,
     "end_time": "2022-06-01T00:50:29.032197",
     "exception": false,
     "start_time": "2022-06-01T00:50:28.988447",
     "status": "completed"
    },
    "tags": []
   },
   "source": [
    "Probability contours"
   ]
  },
  {
   "cell_type": "code",
   "execution_count": 27,
   "id": "d0afc8e3",
   "metadata": {
    "execution": {
     "iopub.execute_input": "2022-06-01T00:50:29.124002Z",
     "iopub.status.busy": "2022-06-01T00:50:29.123427Z",
     "iopub.status.idle": "2022-06-01T00:50:29.136189Z",
     "shell.execute_reply": "2022-06-01T00:50:29.135710Z"
    },
    "papermill": {
     "duration": 0.060275,
     "end_time": "2022-06-01T00:50:29.136299",
     "exception": false,
     "start_time": "2022-06-01T00:50:29.076024",
     "status": "completed"
    },
    "tags": []
   },
   "outputs": [],
   "source": [
    "model_prob = Model(layers[-2:]) "
   ]
  },
  {
   "cell_type": "code",
   "execution_count": 28,
   "id": "9b96e238",
   "metadata": {
    "execution": {
     "iopub.execute_input": "2022-06-01T00:50:29.228947Z",
     "iopub.status.busy": "2022-06-01T00:50:29.228336Z",
     "iopub.status.idle": "2022-06-01T00:50:29.244038Z",
     "shell.execute_reply": "2022-06-01T00:50:29.244455Z"
    },
    "papermill": {
     "duration": 0.064502,
     "end_time": "2022-06-01T00:50:29.244582",
     "exception": false,
     "start_time": "2022-06-01T00:50:29.180080",
     "status": "completed"
    },
    "tags": []
   },
   "outputs": [],
   "source": [
    "#creating the x and y ranges according to the above generated plot.\n",
    "x_range = np.linspace(-4, 1, 100) \n",
    "y_range = np.linspace(-6, 6, 100) \n",
    "x_grid, y_grid = np.meshgrid(x_range, y_range) # x_grid and y_grig are of size 100 X 100\n",
    "\n",
    "# converting x_grid and y_grid to continuous arrays\n",
    "x_gridflat = np.ravel(x_grid)\n",
    "y_gridflat = np.ravel(y_grid)\n",
    "\n",
    "# The last layer of the current model takes two columns as input. Hence transpose of np.vstack() is required.\n",
    "X = np.vstack((x_gridflat, y_gridflat)).T\n",
    "\n",
    "prob_contour = model_prob(X).reshape(100,100) "
   ]
  },
  {
   "cell_type": "code",
   "execution_count": 29,
   "id": "da72499a",
   "metadata": {
    "execution": {
     "iopub.execute_input": "2022-06-01T00:50:29.373688Z",
     "iopub.status.busy": "2022-06-01T00:50:29.368952Z",
     "iopub.status.idle": "2022-06-01T00:50:29.614119Z",
     "shell.execute_reply": "2022-06-01T00:50:29.614574Z"
    },
    "papermill": {
     "duration": 0.299339,
     "end_time": "2022-06-01T00:50:29.614732",
     "exception": false,
     "start_time": "2022-06-01T00:50:29.315393",
     "status": "completed"
    },
    "tags": []
   },
   "outputs": [
    {
     "data": {
      "image/png": "[encoded data removed]",
      "text/plain": [
       "<Figure size 720x648 with 1 Axes>"
      ]
     },
     "metadata": {
      "needs_background": "light"
     },
     "output_type": "display_data"
    }
   ],
   "source": [
    "plt.figure(figsize=(10,9))\n",
    "plt.scatter(testing_plot[:,0], testing_plot[:,1], alpha = 0.1, c = y_test.ravel())\n",
    "contours = plt.contour(x_grid,y_grid,prob_contour)\n",
    "plt.title('Probability Contours')\n",
    "plt.clabel(contours, inline = True );"
   ]
  },
  {
   "cell_type": "code",
   "execution_count": null,
   "id": "e81b4ac7",
   "metadata": {
    "papermill": {
     "duration": 0.046858,
     "end_time": "2022-06-01T00:50:29.709071",
     "exception": false,
     "start_time": "2022-06-01T00:50:29.662213",
     "status": "completed"
    },
    "tags": []
   },
   "outputs": [],
   "source": []
  }
 ],
 "metadata": {
  "kernelspec": {
   "display_name": "Python 3",
   "language": "python",
   "name": "python3"
  },
  "language_info": {
   "codemirror_mode": {
    "name": "ipython",
    "version": 3
   },
   "file_extension": ".py",
   "mimetype": "text/x-python",
   "name": "python",
   "nbconvert_exporter": "python",
   "pygments_lexer": "ipython3",
   "version": "3.6.15"
  },
  "papermill": {
   "default_parameters": {},
   "duration": 95.546816,
   "end_time": "2022-06-01T00:50:30.175094",
   "environment_variables": {},
   "exception": null,
   "input_path": "2020-08-11-part2.ipynb",
   "output_path": "2020-08-11-part2.ipynb",
   "parameters": {},
   "start_time": "2022-06-01T00:48:54.628278",
   "version": "2.3.3"
  }
 },
 "nbformat": 4,
 "nbformat_minor": 5
}