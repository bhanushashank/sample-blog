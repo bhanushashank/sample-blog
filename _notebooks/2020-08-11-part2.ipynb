{
 "cells": [
  {
   "cell_type": "markdown",
   "id": "98380cd3",
   "metadata": {
    "papermill": {
     "duration": 0.027419,
     "end_time": "2021-12-31T10:08:43.929895",
     "exception": false,
     "start_time": "2021-12-31T10:08:43.902476",
     "status": "completed"
    },
    "tags": []
   },
   "source": [
    "# Distinguish Your Own Digits (DYOD)"
   ]
  },
  {
   "cell_type": "markdown",
   "id": "ef31240d",
   "metadata": {
    "papermill": {
     "duration": 0.023801,
     "end_time": "2021-12-31T10:08:43.977993",
     "exception": false,
     "start_time": "2021-12-31T10:08:43.954192",
     "status": "completed"
    },
    "tags": []
   },
   "source": [
    "You are going to write a classifier that distinguishes between the number 3 and number 8."
   ]
  },
  {
   "cell_type": "code",
   "execution_count": 1,
   "id": "b15c8646",
   "metadata": {
    "execution": {
     "iopub.execute_input": "2021-12-31T10:08:44.037701Z",
     "iopub.status.busy": "2021-12-31T10:08:44.037139Z",
     "iopub.status.idle": "2021-12-31T10:08:44.047493Z",
     "shell.execute_reply": "2021-12-31T10:08:44.047068Z"
    },
    "papermill": {
     "duration": 0.044359,
     "end_time": "2021-12-31T10:08:44.047623",
     "exception": false,
     "start_time": "2021-12-31T10:08:44.003264",
     "status": "completed"
    },
    "tags": []
   },
   "outputs": [],
   "source": [
    "%load_ext autoreload\n",
    "%autoreload 2"
   ]
  },
  {
   "cell_type": "code",
   "execution_count": 2,
   "id": "22ef38dc",
   "metadata": {
    "execution": {
     "iopub.execute_input": "2021-12-31T10:08:44.102356Z",
     "iopub.status.busy": "2021-12-31T10:08:44.101812Z",
     "iopub.status.idle": "2021-12-31T10:08:44.666865Z",
     "shell.execute_reply": "2021-12-31T10:08:44.666341Z"
    },
    "papermill": {
     "duration": 0.595464,
     "end_time": "2021-12-31T10:08:44.667008",
     "exception": false,
     "start_time": "2021-12-31T10:08:44.071544",
     "status": "completed"
    },
    "tags": []
   },
   "outputs": [],
   "source": [
    "%matplotlib inline\n",
    "import numpy as np\n",
    "import matplotlib.pyplot as plt\n",
    "import pandas as pd"
   ]
  },
  {
   "cell_type": "markdown",
   "id": "ba036198",
   "metadata": {
    "papermill": {
     "duration": 0.023689,
     "end_time": "2021-12-31T10:08:44.715640",
     "exception": false,
     "start_time": "2021-12-31T10:08:44.691951",
     "status": "completed"
    },
    "tags": []
   },
   "source": [
    "From the command line run `pip install mnist`. This is a library that will help you bring down the mnist dataset. If you run this from a notebook, you need to put  `!pip install mnist` in a cell by itself."
   ]
  },
  {
   "cell_type": "code",
   "execution_count": 3,
   "id": "bb6ad8a1",
   "metadata": {
    "execution": {
     "iopub.execute_input": "2021-12-31T10:08:44.770192Z",
     "iopub.status.busy": "2021-12-31T10:08:44.769668Z",
     "iopub.status.idle": "2021-12-31T10:08:46.472247Z",
     "shell.execute_reply": "2021-12-31T10:08:46.472741Z"
    },
    "papermill": {
     "duration": 1.733449,
     "end_time": "2021-12-31T10:08:46.472911",
     "exception": false,
     "start_time": "2021-12-31T10:08:44.739462",
     "status": "completed"
    },
    "tags": []
   },
   "outputs": [
    {
     "name": "stdout",
     "output_type": "stream",
     "text": [
      "Collecting mnist\r\n"
     ]
    },
    {
     "name": "stdout",
     "output_type": "stream",
     "text": [
      "  Downloading mnist-0.2.2-py2.py3-none-any.whl (3.5 kB)\r\n",
      "Requirement already satisfied: numpy in /opt/hostedtoolcache/Python/3.6.15/x64/lib/python3.6/site-packages (from mnist) (1.19.5)\r\n"
     ]
    },
    {
     "name": "stdout",
     "output_type": "stream",
     "text": [
      "Installing collected packages: mnist\r\n"
     ]
    },
    {
     "name": "stdout",
     "output_type": "stream",
     "text": [
      "Successfully installed mnist-0.2.2\r\n"
     ]
    }
   ],
   "source": [
    "!pip install mnist"
   ]
  },
  {
   "cell_type": "markdown",
   "id": "69df9c9a",
   "metadata": {
    "papermill": {
     "duration": 0.025199,
     "end_time": "2021-12-31T10:08:46.523536",
     "exception": false,
     "start_time": "2021-12-31T10:08:46.498337",
     "status": "completed"
    },
    "tags": []
   },
   "source": [
    "## Preparing the Data"
   ]
  },
  {
   "cell_type": "code",
   "execution_count": 4,
   "id": "7f69d806",
   "metadata": {
    "execution": {
     "iopub.execute_input": "2021-12-31T10:08:46.590685Z",
     "iopub.status.busy": "2021-12-31T10:08:46.590152Z",
     "iopub.status.idle": "2021-12-31T10:08:46.595389Z",
     "shell.execute_reply": "2021-12-31T10:08:46.595796Z"
    },
    "papermill": {
     "duration": 0.047664,
     "end_time": "2021-12-31T10:08:46.595925",
     "exception": false,
     "start_time": "2021-12-31T10:08:46.548261",
     "status": "completed"
    },
    "tags": []
   },
   "outputs": [],
   "source": [
    "import mnist"
   ]
  },
  {
   "cell_type": "code",
   "execution_count": 5,
   "id": "a411e44f",
   "metadata": {
    "execution": {
     "iopub.execute_input": "2021-12-31T10:08:46.658122Z",
     "iopub.status.busy": "2021-12-31T10:08:46.657600Z",
     "iopub.status.idle": "2021-12-31T10:08:47.369262Z",
     "shell.execute_reply": "2021-12-31T10:08:47.368724Z"
    },
    "papermill": {
     "duration": 0.748598,
     "end_time": "2021-12-31T10:08:47.369411",
     "exception": false,
     "start_time": "2021-12-31T10:08:46.620813",
     "status": "completed"
    },
    "tags": []
   },
   "outputs": [],
   "source": [
    "train_images = mnist.train_images()\n",
    "train_labels = mnist.train_labels()"
   ]
  },
  {
   "cell_type": "code",
   "execution_count": 6,
   "id": "dceab3a5",
   "metadata": {
    "execution": {
     "iopub.execute_input": "2021-12-31T10:08:47.430761Z",
     "iopub.status.busy": "2021-12-31T10:08:47.428619Z",
     "iopub.status.idle": "2021-12-31T10:08:47.440179Z",
     "shell.execute_reply": "2021-12-31T10:08:47.439752Z"
    },
    "papermill": {
     "duration": 0.044687,
     "end_time": "2021-12-31T10:08:47.440283",
     "exception": false,
     "start_time": "2021-12-31T10:08:47.395596",
     "status": "completed"
    },
    "tags": []
   },
   "outputs": [
    {
     "data": {
      "text/plain": [
       "((60000, 28, 28), (60000,))"
      ]
     },
     "execution_count": 6,
     "metadata": {},
     "output_type": "execute_result"
    }
   ],
   "source": [
    "train_images.shape, train_labels.shape"
   ]
  },
  {
   "cell_type": "code",
   "execution_count": 7,
   "id": "f50dc2bb",
   "metadata": {
    "execution": {
     "iopub.execute_input": "2021-12-31T10:08:47.493075Z",
     "iopub.status.busy": "2021-12-31T10:08:47.492572Z",
     "iopub.status.idle": "2021-12-31T10:08:47.807832Z",
     "shell.execute_reply": "2021-12-31T10:08:47.807266Z"
    },
    "papermill": {
     "duration": 0.342711,
     "end_time": "2021-12-31T10:08:47.807969",
     "exception": false,
     "start_time": "2021-12-31T10:08:47.465258",
     "status": "completed"
    },
    "tags": []
   },
   "outputs": [],
   "source": [
    "test_images = mnist.test_images()\n",
    "test_labels = mnist.test_labels()"
   ]
  },
  {
   "cell_type": "code",
   "execution_count": 8,
   "id": "fc38cf1b",
   "metadata": {
    "execution": {
     "iopub.execute_input": "2021-12-31T10:08:47.862689Z",
     "iopub.status.busy": "2021-12-31T10:08:47.862173Z",
     "iopub.status.idle": "2021-12-31T10:08:47.875077Z",
     "shell.execute_reply": "2021-12-31T10:08:47.874671Z"
    },
    "papermill": {
     "duration": 0.040979,
     "end_time": "2021-12-31T10:08:47.875189",
     "exception": false,
     "start_time": "2021-12-31T10:08:47.834210",
     "status": "completed"
    },
    "tags": []
   },
   "outputs": [
    {
     "data": {
      "text/plain": [
       "((10000, 28, 28), (10000,))"
      ]
     },
     "execution_count": 8,
     "metadata": {},
     "output_type": "execute_result"
    }
   ],
   "source": [
    "test_images.shape, test_labels.shape"
   ]
  },
  {
   "cell_type": "code",
   "execution_count": 9,
   "id": "f9ed8fe0",
   "metadata": {
    "execution": {
     "iopub.execute_input": "2021-12-31T10:08:47.928940Z",
     "iopub.status.busy": "2021-12-31T10:08:47.928435Z",
     "iopub.status.idle": "2021-12-31T10:08:48.062913Z",
     "shell.execute_reply": "2021-12-31T10:08:48.063387Z"
    },
    "papermill": {
     "duration": 0.162914,
     "end_time": "2021-12-31T10:08:48.063526",
     "exception": false,
     "start_time": "2021-12-31T10:08:47.900612",
     "status": "completed"
    },
    "tags": []
   },
   "outputs": [
    {
     "name": "stdout",
     "output_type": "stream",
     "text": [
      "2\n"
     ]
    },
    {
     "data": {
      "text/plain": [
       "<matplotlib.image.AxesImage at 0x7fea27730358>"
      ]
     },
     "execution_count": 9,
     "metadata": {},
     "output_type": "execute_result"
    },
    {
     "data": {
      "image/png": "[encoded data removed]",
      "text/plain": [
       "<Figure size 432x288 with 1 Axes>"
      ]
     },
     "metadata": {
      "needs_background": "light"
     },
     "output_type": "display_data"
    }
   ],
   "source": [
    "image_index = 7776 # You may select anything up to 60,000\n",
    "print(train_labels[image_index]) \n",
    "plt.imshow(train_images[image_index], cmap='Greys')"
   ]
  },
  {
   "cell_type": "markdown",
   "id": "a8d2388d",
   "metadata": {
    "papermill": {
     "duration": 0.026008,
     "end_time": "2021-12-31T10:08:48.116518",
     "exception": false,
     "start_time": "2021-12-31T10:08:48.090510",
     "status": "completed"
    },
    "tags": []
   },
   "source": [
    "## Filter data to get 3 and 8 out"
   ]
  },
  {
   "cell_type": "code",
   "execution_count": 10,
   "id": "776f7fc7",
   "metadata": {
    "execution": {
     "iopub.execute_input": "2021-12-31T10:08:48.186216Z",
     "iopub.status.busy": "2021-12-31T10:08:48.182427Z",
     "iopub.status.idle": "2021-12-31T10:08:48.194011Z",
     "shell.execute_reply": "2021-12-31T10:08:48.193570Z"
    },
    "papermill": {
     "duration": 0.051436,
     "end_time": "2021-12-31T10:08:48.194119",
     "exception": false,
     "start_time": "2021-12-31T10:08:48.142683",
     "status": "completed"
    },
    "tags": []
   },
   "outputs": [],
   "source": [
    "train_filter = np.where((train_labels == 3 ) | (train_labels == 8))\n",
    "test_filter = np.where((test_labels == 3) | (test_labels == 8))\n",
    "X_train, y_train = train_images[train_filter], train_labels[train_filter]\n",
    "X_test, y_test = test_images[test_filter], test_labels[test_filter]"
   ]
  },
  {
   "cell_type": "markdown",
   "id": "948f0b7e",
   "metadata": {
    "papermill": {
     "duration": 0.026099,
     "end_time": "2021-12-31T10:08:48.246555",
     "exception": false,
     "start_time": "2021-12-31T10:08:48.220456",
     "status": "completed"
    },
    "tags": []
   },
   "source": [
    "We normalize the pizel values in the 0 to 1 range"
   ]
  },
  {
   "cell_type": "code",
   "execution_count": 11,
   "id": "ee4c2166",
   "metadata": {
    "execution": {
     "iopub.execute_input": "2021-12-31T10:08:48.305913Z",
     "iopub.status.busy": "2021-12-31T10:08:48.305371Z",
     "iopub.status.idle": "2021-12-31T10:08:48.350082Z",
     "shell.execute_reply": "2021-12-31T10:08:48.349556Z"
    },
    "papermill": {
     "duration": 0.077282,
     "end_time": "2021-12-31T10:08:48.350224",
     "exception": false,
     "start_time": "2021-12-31T10:08:48.272942",
     "status": "completed"
    },
    "tags": []
   },
   "outputs": [],
   "source": [
    "X_train = X_train/255.\n",
    "X_test = X_test/255."
   ]
  },
  {
   "cell_type": "markdown",
   "id": "ddcf4fab",
   "metadata": {
    "papermill": {
     "duration": 0.026177,
     "end_time": "2021-12-31T10:08:48.403289",
     "exception": false,
     "start_time": "2021-12-31T10:08:48.377112",
     "status": "completed"
    },
    "tags": []
   },
   "source": [
    "And setup the labels as 1 (when the digit is 3) and 0 (when the digit is 8)"
   ]
  },
  {
   "cell_type": "code",
   "execution_count": 12,
   "id": "7dc908f2",
   "metadata": {
    "execution": {
     "iopub.execute_input": "2021-12-31T10:08:48.472972Z",
     "iopub.status.busy": "2021-12-31T10:08:48.470205Z",
     "iopub.status.idle": "2021-12-31T10:08:48.475351Z",
     "shell.execute_reply": "2021-12-31T10:08:48.474854Z"
    },
    "papermill": {
     "duration": 0.045959,
     "end_time": "2021-12-31T10:08:48.475459",
     "exception": false,
     "start_time": "2021-12-31T10:08:48.429500",
     "status": "completed"
    },
    "tags": []
   },
   "outputs": [],
   "source": [
    "y_train = 1*(y_train==3)\n",
    "y_test = 1*(y_test==3)"
   ]
  },
  {
   "cell_type": "code",
   "execution_count": 13,
   "id": "01e4e969",
   "metadata": {
    "execution": {
     "iopub.execute_input": "2021-12-31T10:08:48.530926Z",
     "iopub.status.busy": "2021-12-31T10:08:48.530417Z",
     "iopub.status.idle": "2021-12-31T10:08:48.543710Z",
     "shell.execute_reply": "2021-12-31T10:08:48.543299Z"
    },
    "papermill": {
     "duration": 0.042152,
     "end_time": "2021-12-31T10:08:48.543820",
     "exception": false,
     "start_time": "2021-12-31T10:08:48.501668",
     "status": "completed"
    },
    "tags": []
   },
   "outputs": [
    {
     "data": {
      "text/plain": [
       "((11982, 28, 28), (1984, 28, 28))"
      ]
     },
     "execution_count": 13,
     "metadata": {},
     "output_type": "execute_result"
    }
   ],
   "source": [
    "X_train.shape, X_test.shape"
   ]
  },
  {
   "cell_type": "markdown",
   "id": "5ccf3f85",
   "metadata": {
    "papermill": {
     "duration": 0.026252,
     "end_time": "2021-12-31T10:08:48.596419",
     "exception": false,
     "start_time": "2021-12-31T10:08:48.570167",
     "status": "completed"
    },
    "tags": []
   },
   "source": [
    "We reshape the data to flatten the image pixels into a set of features or co-variates:"
   ]
  },
  {
   "cell_type": "code",
   "execution_count": 14,
   "id": "5286a4a3",
   "metadata": {
    "execution": {
     "iopub.execute_input": "2021-12-31T10:08:48.652772Z",
     "iopub.status.busy": "2021-12-31T10:08:48.652267Z",
     "iopub.status.idle": "2021-12-31T10:08:48.665602Z",
     "shell.execute_reply": "2021-12-31T10:08:48.665154Z"
    },
    "papermill": {
     "duration": 0.042714,
     "end_time": "2021-12-31T10:08:48.665712",
     "exception": false,
     "start_time": "2021-12-31T10:08:48.622998",
     "status": "completed"
    },
    "tags": []
   },
   "outputs": [
    {
     "data": {
      "text/plain": [
       "((11982, 784), (1984, 784))"
      ]
     },
     "execution_count": 14,
     "metadata": {},
     "output_type": "execute_result"
    }
   ],
   "source": [
    "X_train = X_train.reshape(X_train.shape[0], -1)\n",
    "X_test = X_test.reshape(X_test.shape[0], -1)\n",
    "X_train.shape, X_test.shape"
   ]
  },
  {
   "cell_type": "code",
   "execution_count": 15,
   "id": "73c5f88a",
   "metadata": {
    "execution": {
     "iopub.execute_input": "2021-12-31T10:08:48.734756Z",
     "iopub.status.busy": "2021-12-31T10:08:48.734225Z",
     "iopub.status.idle": "2021-12-31T10:08:48.746106Z",
     "shell.execute_reply": "2021-12-31T10:08:48.746489Z"
    },
    "papermill": {
     "duration": 0.054248,
     "end_time": "2021-12-31T10:08:48.746615",
     "exception": false,
     "start_time": "2021-12-31T10:08:48.692367",
     "status": "completed"
    },
    "tags": []
   },
   "outputs": [],
   "source": [
    "#Impoting functions from 'Kudzu'\n",
    "from kudzu.model import Model\n",
    "from kudzu.train import Learner\n",
    "from kudzu.optim import GD\n",
    "from kudzu.data import Data, Sampler,Dataloader\n",
    "\n",
    "from kudzu.callbacks import AccCallback\n",
    "from kudzu.callbacks import ClfCallback\n",
    "\n",
    "from kudzu.loss import MSE\n",
    "\n",
    "from kudzu.layer import Sigmoid,Relu\n",
    "from kudzu.layer import Affine"
   ]
  },
  {
   "cell_type": "markdown",
   "id": "bc01172a",
   "metadata": {
    "papermill": {
     "duration": 0.026884,
     "end_time": "2021-12-31T10:08:48.800586",
     "exception": false,
     "start_time": "2021-12-31T10:08:48.773702",
     "status": "completed"
    },
    "tags": []
   },
   "source": [
    "### Let us create a `Config` class, to store important parameters. \n",
    "This class essentially plays the role of a dictionary."
   ]
  },
  {
   "cell_type": "code",
   "execution_count": 16,
   "id": "978281aa",
   "metadata": {
    "execution": {
     "iopub.execute_input": "2021-12-31T10:08:48.859020Z",
     "iopub.status.busy": "2021-12-31T10:08:48.858488Z",
     "iopub.status.idle": "2021-12-31T10:08:48.870661Z",
     "shell.execute_reply": "2021-12-31T10:08:48.870233Z"
    },
    "papermill": {
     "duration": 0.043345,
     "end_time": "2021-12-31T10:08:48.870781",
     "exception": false,
     "start_time": "2021-12-31T10:08:48.827436",
     "status": "completed"
    },
    "tags": []
   },
   "outputs": [],
   "source": [
    "class Config:\n",
    "    pass\n",
    "config = Config()\n",
    "config.lr = 0.001\n",
    "config.num_epochs = 250\n",
    "config.bs = 50"
   ]
  },
  {
   "cell_type": "markdown",
   "id": "1385fa59",
   "metadata": {
    "papermill": {
     "duration": 0.026691,
     "end_time": "2021-12-31T10:08:48.924728",
     "exception": false,
     "start_time": "2021-12-31T10:08:48.898037",
     "status": "completed"
    },
    "tags": []
   },
   "source": [
    "### Running Models with the Training data\n",
    "Details about the network layers:\n",
    "- A first affine layer has 784 inputs and does 100 affine transforms. These are followed by a Relu\n",
    "- A second affine layer has 100 inputs from the 100 activations of the past layer, and does 100 affine transforms. These are followed by a Relu\n",
    "- A third affine layer has 100 activations and does 2 affine transformations to create an embedding for visualization. There is no non-linearity here.\n",
    "- A final \"logistic regression\" which has an affine transform from 2 inputs to 1 output, which is squeezed through a sigmoid.\n"
   ]
  },
  {
   "cell_type": "code",
   "execution_count": 17,
   "id": "2b9c66db",
   "metadata": {
    "execution": {
     "iopub.execute_input": "2021-12-31T10:08:48.995245Z",
     "iopub.status.busy": "2021-12-31T10:08:48.994719Z",
     "iopub.status.idle": "2021-12-31T10:08:49.000293Z",
     "shell.execute_reply": "2021-12-31T10:08:48.999857Z"
    },
    "papermill": {
     "duration": 0.048876,
     "end_time": "2021-12-31T10:08:49.000404",
     "exception": false,
     "start_time": "2021-12-31T10:08:48.951528",
     "status": "completed"
    },
    "tags": []
   },
   "outputs": [],
   "source": [
    "data = Data(X_train, y_train.reshape(-1,1))\n",
    "sampler = Sampler(data, config.bs, shuffle=True)\n",
    "\n",
    "dl = Dataloader(data, sampler)\n",
    "\n",
    "opt = GD(config.lr)\n",
    "loss = MSE()"
   ]
  },
  {
   "cell_type": "code",
   "execution_count": 18,
   "id": "b275e4c2",
   "metadata": {
    "execution": {
     "iopub.execute_input": "2021-12-31T10:08:49.071917Z",
     "iopub.status.busy": "2021-12-31T10:08:49.071404Z",
     "iopub.status.idle": "2021-12-31T10:08:49.074841Z",
     "shell.execute_reply": "2021-12-31T10:08:49.074413Z"
    },
    "papermill": {
     "duration": 0.047835,
     "end_time": "2021-12-31T10:08:49.074946",
     "exception": false,
     "start_time": "2021-12-31T10:08:49.027111",
     "status": "completed"
    },
    "tags": []
   },
   "outputs": [],
   "source": [
    "training_data_x = X_train\n",
    "testing_data_x = X_test\n",
    "training_data_y = y_train.reshape(-1,1)\n",
    "testing_data_y = y_test.reshape(-1,1)"
   ]
  },
  {
   "cell_type": "code",
   "execution_count": 19,
   "id": "76951160",
   "metadata": {
    "execution": {
     "iopub.execute_input": "2021-12-31T10:08:49.142154Z",
     "iopub.status.busy": "2021-12-31T10:08:49.134494Z",
     "iopub.status.idle": "2021-12-31T10:08:49.147923Z",
     "shell.execute_reply": "2021-12-31T10:08:49.148306Z"
    },
    "papermill": {
     "duration": 0.04698,
     "end_time": "2021-12-31T10:08:49.148426",
     "exception": false,
     "start_time": "2021-12-31T10:08:49.101446",
     "status": "completed"
    },
    "tags": []
   },
   "outputs": [
    {
     "name": "stdout",
     "output_type": "stream",
     "text": [
      "xavier\n",
      "xavier\n",
      "xavier\n",
      "xavier\n",
      "xavier\n"
     ]
    }
   ],
   "source": [
    "layers = [Affine(\"first\", 784, 100), Relu(\"first\"), Affine(\"second\", 100, 100), Relu(\"second\"), Affine(\"third\", 100, 2), Affine(\"last\", 2, 1), Sigmoid(\"last\")]\n",
    "model_nn = Model(layers)\n",
    "model_lr = Model([Affine(\"logits\", 784, 1), Sigmoid(\"sigmoid\")])"
   ]
  },
  {
   "cell_type": "code",
   "execution_count": 20,
   "id": "6eede77a",
   "metadata": {
    "execution": {
     "iopub.execute_input": "2021-12-31T10:08:49.211870Z",
     "iopub.status.busy": "2021-12-31T10:08:49.205607Z",
     "iopub.status.idle": "2021-12-31T10:08:49.216733Z",
     "shell.execute_reply": "2021-12-31T10:08:49.217139Z"
    },
    "papermill": {
     "duration": 0.041775,
     "end_time": "2021-12-31T10:08:49.217254",
     "exception": false,
     "start_time": "2021-12-31T10:08:49.175479",
     "status": "completed"
    },
    "tags": []
   },
   "outputs": [],
   "source": [
    "nn_learner = Learner(loss, model_nn, opt, config.num_epochs)\n",
    "acc_nn = ClfCallback(nn_learner, config.bs, training_data_x , testing_data_x, training_data_y, testing_data_y)\n",
    "nn_learner.set_callbacks([acc_nn])"
   ]
  },
  {
   "cell_type": "code",
   "execution_count": 21,
   "id": "877b6cc7",
   "metadata": {
    "execution": {
     "iopub.execute_input": "2021-12-31T10:08:49.274360Z",
     "iopub.status.busy": "2021-12-31T10:08:49.273852Z",
     "iopub.status.idle": "2021-12-31T10:08:49.284783Z",
     "shell.execute_reply": "2021-12-31T10:08:49.284379Z"
    },
    "papermill": {
     "duration": 0.04078,
     "end_time": "2021-12-31T10:08:49.284888",
     "exception": false,
     "start_time": "2021-12-31T10:08:49.244108",
     "status": "completed"
    },
    "tags": []
   },
   "outputs": [],
   "source": [
    "lr_learner = Learner(loss, model_lr, opt, config.num_epochs)\n",
    "acc_lr = ClfCallback(lr_learner, config.bs, training_data_x , testing_data_x, training_data_y, testing_data_y)\n",
    "lr_learner.set_callbacks([acc_lr])"
   ]
  },
  {
   "cell_type": "code",
   "execution_count": 22,
   "id": "d9b133c3",
   "metadata": {
    "execution": {
     "iopub.execute_input": "2021-12-31T10:08:49.342832Z",
     "iopub.status.busy": "2021-12-31T10:08:49.342326Z",
     "iopub.status.idle": "2021-12-31T10:10:04.316002Z",
     "shell.execute_reply": "2021-12-31T10:10:04.316765Z"
    },
    "papermill": {
     "duration": 75.005068,
     "end_time": "2021-12-31T10:10:04.316918",
     "exception": false,
     "start_time": "2021-12-31T10:08:49.311850",
     "status": "completed"
    },
    "tags": []
   },
   "outputs": [
    {
     "name": "stdout",
     "output_type": "stream",
     "text": [
      "Epoch 0, Loss 0.255\n",
      "Training Accuracy: 0.5900, Testing Accuracy: 0.5902\n",
      "\n"
     ]
    },
    {
     "name": "stdout",
     "output_type": "stream",
     "text": [
      "Epoch 10, Loss 0.0958\n",
      "Training Accuracy: 0.9166, Testing Accuracy: 0.9244\n",
      "\n"
     ]
    },
    {
     "name": "stdout",
     "output_type": "stream",
     "text": [
      "Epoch 20, Loss 0.058\n",
      "Training Accuracy: 0.9411, Testing Accuracy: 0.9471\n",
      "\n"
     ]
    },
    {
     "name": "stdout",
     "output_type": "stream",
     "text": [
      "Epoch 30, Loss 0.0453\n",
      "Training Accuracy: 0.9513, Testing Accuracy: 0.9567\n",
      "\n"
     ]
    },
    {
     "name": "stdout",
     "output_type": "stream",
     "text": [
      "Epoch 40, Loss 0.039\n",
      "Training Accuracy: 0.9562, Testing Accuracy: 0.9617\n",
      "\n"
     ]
    },
    {
     "name": "stdout",
     "output_type": "stream",
     "text": [
      "Epoch 50, Loss 0.0352\n",
      "Training Accuracy: 0.9599, Testing Accuracy: 0.9662\n",
      "\n"
     ]
    },
    {
     "name": "stdout",
     "output_type": "stream",
     "text": [
      "Epoch 60, Loss 0.0325\n",
      "Training Accuracy: 0.9623, Testing Accuracy: 0.9677\n",
      "\n"
     ]
    },
    {
     "name": "stdout",
     "output_type": "stream",
     "text": [
      "Epoch 70, Loss 0.0305\n",
      "Training Accuracy: 0.9646, Testing Accuracy: 0.9677\n",
      "\n"
     ]
    },
    {
     "name": "stdout",
     "output_type": "stream",
     "text": [
      "Epoch 80, Loss 0.0289\n",
      "Training Accuracy: 0.9659, Testing Accuracy: 0.9693\n",
      "\n"
     ]
    },
    {
     "name": "stdout",
     "output_type": "stream",
     "text": [
      "Epoch 90, Loss 0.0275\n",
      "Training Accuracy: 0.9676, Testing Accuracy: 0.9703\n",
      "\n"
     ]
    },
    {
     "name": "stdout",
     "output_type": "stream",
     "text": [
      "Epoch 100, Loss 0.0264\n",
      "Training Accuracy: 0.9687, Testing Accuracy: 0.9708\n",
      "\n"
     ]
    },
    {
     "name": "stdout",
     "output_type": "stream",
     "text": [
      "Epoch 110, Loss 0.0254\n",
      "Training Accuracy: 0.9697, Testing Accuracy: 0.9713\n",
      "\n"
     ]
    },
    {
     "name": "stdout",
     "output_type": "stream",
     "text": [
      "Epoch 120, Loss 0.0245\n",
      "Training Accuracy: 0.9711, Testing Accuracy: 0.9708\n",
      "\n"
     ]
    },
    {
     "name": "stdout",
     "output_type": "stream",
     "text": [
      "Epoch 130, Loss 0.0237\n",
      "Training Accuracy: 0.9718, Testing Accuracy: 0.9708\n",
      "\n"
     ]
    },
    {
     "name": "stdout",
     "output_type": "stream",
     "text": [
      "Epoch 140, Loss 0.023\n",
      "Training Accuracy: 0.9730, Testing Accuracy: 0.9708\n",
      "\n"
     ]
    },
    {
     "name": "stdout",
     "output_type": "stream",
     "text": [
      "Epoch 150, Loss 0.0223\n",
      "Training Accuracy: 0.9740, Testing Accuracy: 0.9713\n",
      "\n"
     ]
    },
    {
     "name": "stdout",
     "output_type": "stream",
     "text": [
      "Epoch 160, Loss 0.0217\n",
      "Training Accuracy: 0.9750, Testing Accuracy: 0.9708\n",
      "\n"
     ]
    },
    {
     "name": "stdout",
     "output_type": "stream",
     "text": [
      "Epoch 170, Loss 0.0211\n",
      "Training Accuracy: 0.9755, Testing Accuracy: 0.9708\n",
      "\n"
     ]
    },
    {
     "name": "stdout",
     "output_type": "stream",
     "text": [
      "Epoch 180, Loss 0.0206\n",
      "Training Accuracy: 0.9763, Testing Accuracy: 0.9708\n",
      "\n"
     ]
    },
    {
     "name": "stdout",
     "output_type": "stream",
     "text": [
      "Epoch 190, Loss 0.0201\n",
      "Training Accuracy: 0.9770, Testing Accuracy: 0.9708\n",
      "\n"
     ]
    },
    {
     "name": "stdout",
     "output_type": "stream",
     "text": [
      "Epoch 200, Loss 0.0196\n",
      "Training Accuracy: 0.9781, Testing Accuracy: 0.9713\n",
      "\n"
     ]
    },
    {
     "name": "stdout",
     "output_type": "stream",
     "text": [
      "Epoch 210, Loss 0.0192\n",
      "Training Accuracy: 0.9786, Testing Accuracy: 0.9718\n",
      "\n"
     ]
    },
    {
     "name": "stdout",
     "output_type": "stream",
     "text": [
      "Epoch 220, Loss 0.0188\n",
      "Training Accuracy: 0.9793, Testing Accuracy: 0.9718\n",
      "\n"
     ]
    },
    {
     "name": "stdout",
     "output_type": "stream",
     "text": [
      "Epoch 230, Loss 0.0184\n",
      "Training Accuracy: 0.9798, Testing Accuracy: 0.9718\n",
      "\n"
     ]
    },
    {
     "name": "stdout",
     "output_type": "stream",
     "text": [
      "Epoch 240, Loss 0.018\n",
      "Training Accuracy: 0.9803, Testing Accuracy: 0.9718\n",
      "\n"
     ]
    },
    {
     "data": {
      "text/plain": [
       "0.043473013591087635"
      ]
     },
     "execution_count": 22,
     "metadata": {},
     "output_type": "execute_result"
    }
   ],
   "source": [
    "nn_learner.train_loop(dl)"
   ]
  },
  {
   "cell_type": "code",
   "execution_count": 23,
   "id": "e0163366",
   "metadata": {
    "execution": {
     "iopub.execute_input": "2021-12-31T10:10:04.399841Z",
     "iopub.status.busy": "2021-12-31T10:10:04.399297Z",
     "iopub.status.idle": "2021-12-31T10:10:17.792264Z",
     "shell.execute_reply": "2021-12-31T10:10:17.793001Z"
    },
    "papermill": {
     "duration": 13.441221,
     "end_time": "2021-12-31T10:10:17.793153",
     "exception": false,
     "start_time": "2021-12-31T10:10:04.351932",
     "status": "completed"
    },
    "tags": []
   },
   "outputs": [
    {
     "name": "stdout",
     "output_type": "stream",
     "text": [
      "Epoch 0, Loss 0.207\n",
      "Training Accuracy: 0.8220, Testing Accuracy: 0.8397\n",
      "\n"
     ]
    },
    {
     "name": "stdout",
     "output_type": "stream",
     "text": [
      "Epoch 10, Loss 0.0984\n",
      "Training Accuracy: 0.9184, Testing Accuracy: 0.9299\n",
      "\n"
     ]
    },
    {
     "name": "stdout",
     "output_type": "stream",
     "text": [
      "Epoch 20, Loss 0.0774\n",
      "Training Accuracy: 0.9311, Testing Accuracy: 0.9456\n",
      "\n"
     ]
    },
    {
     "name": "stdout",
     "output_type": "stream",
     "text": [
      "Epoch 30, Loss 0.0673\n",
      "Training Accuracy: 0.9367, Testing Accuracy: 0.9516\n",
      "\n"
     ]
    },
    {
     "name": "stdout",
     "output_type": "stream",
     "text": [
      "Epoch 40, Loss 0.0612\n",
      "Training Accuracy: 0.9417, Testing Accuracy: 0.9531\n",
      "\n"
     ]
    },
    {
     "name": "stdout",
     "output_type": "stream",
     "text": [
      "Epoch 50, Loss 0.0569\n",
      "Training Accuracy: 0.9441, Testing Accuracy: 0.9546\n",
      "\n"
     ]
    },
    {
     "name": "stdout",
     "output_type": "stream",
     "text": [
      "Epoch 60, Loss 0.0538\n",
      "Training Accuracy: 0.9477, Testing Accuracy: 0.9556\n",
      "\n"
     ]
    },
    {
     "name": "stdout",
     "output_type": "stream",
     "text": [
      "Epoch 70, Loss 0.0513\n",
      "Training Accuracy: 0.9493, Testing Accuracy: 0.9572\n",
      "\n"
     ]
    },
    {
     "name": "stdout",
     "output_type": "stream",
     "text": [
      "Epoch 80, Loss 0.0493\n",
      "Training Accuracy: 0.9502, Testing Accuracy: 0.9597\n",
      "\n"
     ]
    },
    {
     "name": "stdout",
     "output_type": "stream",
     "text": [
      "Epoch 90, Loss 0.0477\n",
      "Training Accuracy: 0.9516, Testing Accuracy: 0.9612\n",
      "\n"
     ]
    },
    {
     "name": "stdout",
     "output_type": "stream",
     "text": [
      "Epoch 100, Loss 0.0463\n",
      "Training Accuracy: 0.9528, Testing Accuracy: 0.9617\n",
      "\n"
     ]
    },
    {
     "name": "stdout",
     "output_type": "stream",
     "text": [
      "Epoch 110, Loss 0.0451\n",
      "Training Accuracy: 0.9533, Testing Accuracy: 0.9632\n",
      "\n"
     ]
    },
    {
     "name": "stdout",
     "output_type": "stream",
     "text": [
      "Epoch 120, Loss 0.0441\n",
      "Training Accuracy: 0.9540, Testing Accuracy: 0.9637\n",
      "\n"
     ]
    },
    {
     "name": "stdout",
     "output_type": "stream",
     "text": [
      "Epoch 130, Loss 0.0432\n",
      "Training Accuracy: 0.9547, Testing Accuracy: 0.9652\n",
      "\n"
     ]
    },
    {
     "name": "stdout",
     "output_type": "stream",
     "text": [
      "Epoch 140, Loss 0.0423\n",
      "Training Accuracy: 0.9552, Testing Accuracy: 0.9652\n",
      "\n"
     ]
    },
    {
     "name": "stdout",
     "output_type": "stream",
     "text": [
      "Epoch 150, Loss 0.0416\n",
      "Training Accuracy: 0.9559, Testing Accuracy: 0.9657\n",
      "\n"
     ]
    },
    {
     "name": "stdout",
     "output_type": "stream",
     "text": [
      "Epoch 160, Loss 0.0409\n",
      "Training Accuracy: 0.9563, Testing Accuracy: 0.9657\n",
      "\n"
     ]
    },
    {
     "name": "stdout",
     "output_type": "stream",
     "text": [
      "Epoch 170, Loss 0.0403\n",
      "Training Accuracy: 0.9568, Testing Accuracy: 0.9667\n",
      "\n"
     ]
    },
    {
     "name": "stdout",
     "output_type": "stream",
     "text": [
      "Epoch 180, Loss 0.0398\n",
      "Training Accuracy: 0.9574, Testing Accuracy: 0.9667\n",
      "\n"
     ]
    },
    {
     "name": "stdout",
     "output_type": "stream",
     "text": [
      "Epoch 190, Loss 0.0393\n",
      "Training Accuracy: 0.9579, Testing Accuracy: 0.9667\n",
      "\n"
     ]
    },
    {
     "name": "stdout",
     "output_type": "stream",
     "text": [
      "Epoch 200, Loss 0.0388\n",
      "Training Accuracy: 0.9584, Testing Accuracy: 0.9662\n",
      "\n"
     ]
    },
    {
     "name": "stdout",
     "output_type": "stream",
     "text": [
      "Epoch 210, Loss 0.0383\n",
      "Training Accuracy: 0.9589, Testing Accuracy: 0.9667\n",
      "\n"
     ]
    },
    {
     "name": "stdout",
     "output_type": "stream",
     "text": [
      "Epoch 220, Loss 0.0379\n",
      "Training Accuracy: 0.9597, Testing Accuracy: 0.9667\n",
      "\n"
     ]
    },
    {
     "name": "stdout",
     "output_type": "stream",
     "text": [
      "Epoch 230, Loss 0.0376\n",
      "Training Accuracy: 0.9601, Testing Accuracy: 0.9667\n",
      "\n"
     ]
    },
    {
     "name": "stdout",
     "output_type": "stream",
     "text": [
      "Epoch 240, Loss 0.0372\n",
      "Training Accuracy: 0.9605, Testing Accuracy: 0.9667\n",
      "\n"
     ]
    },
    {
     "data": {
      "text/plain": [
       "0.02452568679798993"
      ]
     },
     "execution_count": 23,
     "metadata": {},
     "output_type": "execute_result"
    }
   ],
   "source": [
    "lr_learner.train_loop(dl)"
   ]
  },
  {
   "cell_type": "code",
   "execution_count": 24,
   "id": "ca410940",
   "metadata": {
    "execution": {
     "iopub.execute_input": "2021-12-31T10:10:17.886734Z",
     "iopub.status.busy": "2021-12-31T10:10:17.886222Z",
     "iopub.status.idle": "2021-12-31T10:10:18.123178Z",
     "shell.execute_reply": "2021-12-31T10:10:18.122722Z"
    },
    "papermill": {
     "duration": 0.288668,
     "end_time": "2021-12-31T10:10:18.123301",
     "exception": false,
     "start_time": "2021-12-31T10:10:17.834633",
     "status": "completed"
    },
    "tags": []
   },
   "outputs": [
    {
     "data": {
      "text/plain": [
       "<matplotlib.legend.Legend at 0x7fea2728fb38>"
      ]
     },
     "execution_count": 24,
     "metadata": {},
     "output_type": "execute_result"
    },
    {
     "data": {
      "image/png": "[encoded data removed]",
      "text/plain": [
       "<Figure size 1080x720 with 1 Axes>"
      ]
     },
     "metadata": {
      "needs_background": "light"
     },
     "output_type": "display_data"
    }
   ],
   "source": [
    "#comparing the results of NN and LR\n",
    "plt.figure(figsize=(15,10))\n",
    "\n",
    "# Neural Network plots\n",
    "plt.plot(acc_nn.accuracies, 'r-', label = \"Training Accuracies - NN\")\n",
    "plt.plot(acc_nn.test_accuracies, 'g-', label = \"Testing Accuracies - NN\")\n",
    "\n",
    "# Logistic Regression plots\n",
    "plt.plot(acc_lr.accuracies, 'k-', label = \"Training Accuracies - LR\")\n",
    "plt.plot(acc_lr.test_accuracies, 'b-', label = \"Testing Accuracies - LR\")\n",
    "plt.legend()"
   ]
  },
  {
   "cell_type": "markdown",
   "id": "80dfb35c",
   "metadata": {
    "papermill": {
     "duration": 0.041803,
     "end_time": "2021-12-31T10:10:18.207443",
     "exception": false,
     "start_time": "2021-12-31T10:10:18.165640",
     "status": "completed"
    },
    "tags": []
   },
   "source": [
    "#### Plotting the outputs of this layer of the NN.\n"
   ]
  },
  {
   "cell_type": "code",
   "execution_count": 25,
   "id": "45eb2ff5",
   "metadata": {
    "execution": {
     "iopub.execute_input": "2021-12-31T10:10:18.296232Z",
     "iopub.status.busy": "2021-12-31T10:10:18.295741Z",
     "iopub.status.idle": "2021-12-31T10:10:18.314474Z",
     "shell.execute_reply": "2021-12-31T10:10:18.314849Z"
    },
    "papermill": {
     "duration": 0.065693,
     "end_time": "2021-12-31T10:10:18.314973",
     "exception": false,
     "start_time": "2021-12-31T10:10:18.249280",
     "status": "completed"
    },
    "tags": []
   },
   "outputs": [],
   "source": [
    "new_model = Model(layers[:-2])\n",
    "testing_plot = new_model(testing_data_x)"
   ]
  },
  {
   "cell_type": "code",
   "execution_count": 26,
   "id": "4c0a5485",
   "metadata": {
    "execution": {
     "iopub.execute_input": "2021-12-31T10:10:18.402497Z",
     "iopub.status.busy": "2021-12-31T10:10:18.402034Z",
     "iopub.status.idle": "2021-12-31T10:10:18.599141Z",
     "shell.execute_reply": "2021-12-31T10:10:18.598748Z"
    },
    "papermill": {
     "duration": 0.246064,
     "end_time": "2021-12-31T10:10:18.599254",
     "exception": false,
     "start_time": "2021-12-31T10:10:18.353190",
     "status": "completed"
    },
    "tags": []
   },
   "outputs": [
    {
     "data": {
      "text/plain": [
       "Text(0.5, 1.0, 'Outputs')"
      ]
     },
     "execution_count": 26,
     "metadata": {},
     "output_type": "execute_result"
    },
    {
     "data": {
      "image/png": "[encoded data removed]",
      "text/plain": [
       "<Figure size 576x504 with 1 Axes>"
      ]
     },
     "metadata": {
      "needs_background": "light"
     },
     "output_type": "display_data"
    }
   ],
   "source": [
    "# Plotting the scatter plot of points and color coding by class\n",
    "plt.figure(figsize=(8,7))\n",
    "plt.scatter(testing_plot[:,0], testing_plot[:,1], alpha = 0.1, c = y_test.ravel());\n",
    "plt.title('Outputs')"
   ]
  },
  {
   "cell_type": "markdown",
   "id": "a74fcf8f",
   "metadata": {
    "papermill": {
     "duration": 0.03962,
     "end_time": "2021-12-31T10:10:18.678906",
     "exception": false,
     "start_time": "2021-12-31T10:10:18.639286",
     "status": "completed"
    },
    "tags": []
   },
   "source": [
    "Probability contours"
   ]
  },
  {
   "cell_type": "code",
   "execution_count": 27,
   "id": "d0afc8e3",
   "metadata": {
    "execution": {
     "iopub.execute_input": "2021-12-31T10:10:18.762385Z",
     "iopub.status.busy": "2021-12-31T10:10:18.761742Z",
     "iopub.status.idle": "2021-12-31T10:10:18.772590Z",
     "shell.execute_reply": "2021-12-31T10:10:18.772122Z"
    },
    "papermill": {
     "duration": 0.054003,
     "end_time": "2021-12-31T10:10:18.772701",
     "exception": false,
     "start_time": "2021-12-31T10:10:18.718698",
     "status": "completed"
    },
    "tags": []
   },
   "outputs": [],
   "source": [
    "model_prob = Model(layers[-2:]) "
   ]
  },
  {
   "cell_type": "code",
   "execution_count": 28,
   "id": "9b96e238",
   "metadata": {
    "execution": {
     "iopub.execute_input": "2021-12-31T10:10:18.895586Z",
     "iopub.status.busy": "2021-12-31T10:10:18.895067Z",
     "iopub.status.idle": "2021-12-31T10:10:18.906319Z",
     "shell.execute_reply": "2021-12-31T10:10:18.906671Z"
    },
    "papermill": {
     "duration": 0.089053,
     "end_time": "2021-12-31T10:10:18.906787",
     "exception": false,
     "start_time": "2021-12-31T10:10:18.817734",
     "status": "completed"
    },
    "tags": []
   },
   "outputs": [],
   "source": [
    "#creating the x and y ranges according to the above generated plot.\n",
    "x_range = np.linspace(-4, 1, 100) \n",
    "y_range = np.linspace(-6, 6, 100) \n",
    "x_grid, y_grid = np.meshgrid(x_range, y_range) # x_grid and y_grig are of size 100 X 100\n",
    "\n",
    "# converting x_grid and y_grid to continuous arrays\n",
    "x_gridflat = np.ravel(x_grid)\n",
    "y_gridflat = np.ravel(y_grid)\n",
    "\n",
    "# The last layer of the current model takes two columns as input. Hence transpose of np.vstack() is required.\n",
    "X = np.vstack((x_gridflat, y_gridflat)).T\n",
    "\n",
    "prob_contour = model_prob(X).reshape(100,100) "
   ]
  },
  {
   "cell_type": "code",
   "execution_count": 29,
   "id": "da72499a",
   "metadata": {
    "execution": {
     "iopub.execute_input": "2021-12-31T10:10:18.995744Z",
     "iopub.status.busy": "2021-12-31T10:10:18.995239Z",
     "iopub.status.idle": "2021-12-31T10:10:19.219627Z",
     "shell.execute_reply": "2021-12-31T10:10:19.218665Z"
    },
    "papermill": {
     "duration": 0.272441,
     "end_time": "2021-12-31T10:10:19.219743",
     "exception": false,
     "start_time": "2021-12-31T10:10:18.947302",
     "status": "completed"
    },
    "tags": []
   },
   "outputs": [
    {
     "data": {
      "image/png": "[encoded data removed]",
      "text/plain": [
       "<Figure size 720x648 with 1 Axes>"
      ]
     },
     "metadata": {
      "needs_background": "light"
     },
     "output_type": "display_data"
    }
   ],
   "source": [
    "plt.figure(figsize=(10,9))\n",
    "plt.scatter(testing_plot[:,0], testing_plot[:,1], alpha = 0.1, c = y_test.ravel())\n",
    "contours = plt.contour(x_grid,y_grid,prob_contour)\n",
    "plt.title('Probability Contours')\n",
    "plt.clabel(contours, inline = True );"
   ]
  },
  {
   "cell_type": "code",
   "execution_count": null,
   "id": "e81b4ac7",
   "metadata": {
    "papermill": {
     "duration": 0.041839,
     "end_time": "2021-12-31T10:10:19.304418",
     "exception": false,
     "start_time": "2021-12-31T10:10:19.262579",
     "status": "completed"
    },
    "tags": []
   },
   "outputs": [],
   "source": []
  }
 ],
 "metadata": {
  "kernelspec": {
   "display_name": "Python 3",
   "language": "python",
   "name": "python3"
  },
  "language_info": {
   "codemirror_mode": {
    "name": "ipython",
    "version": 3
   },
   "file_extension": ".py",
   "mimetype": "text/x-python",
   "name": "python",
   "nbconvert_exporter": "python",
   "pygments_lexer": "ipython3",
   "version": "3.6.15"
  },
  "papermill": {
   "default_parameters": {},
   "duration": 96.767558,
   "end_time": "2021-12-31T10:10:19.753958",
   "environment_variables": {},
   "exception": null,
   "input_path": "2020-08-11-part2.ipynb",
   "output_path": "2020-08-11-part2.ipynb",
   "parameters": {},
   "start_time": "2021-12-31T10:08:42.986400",
   "version": "2.3.3"
  }
 },
 "nbformat": 4,
 "nbformat_minor": 5
}