{
 "cells": [
  {
   "cell_type": "markdown",
   "id": "98380cd3",
   "metadata": {
    "papermill": {
     "duration": 0.035035,
     "end_time": "2021-09-21T10:07:35.749688",
     "exception": false,
     "start_time": "2021-09-21T10:07:35.714653",
     "status": "completed"
    },
    "tags": []
   },
   "source": [
    "# Distinguish Your Own Digits (DYOD)"
   ]
  },
  {
   "cell_type": "markdown",
   "id": "ef31240d",
   "metadata": {
    "papermill": {
     "duration": 0.025533,
     "end_time": "2021-09-21T10:07:35.803255",
     "exception": false,
     "start_time": "2021-09-21T10:07:35.777722",
     "status": "completed"
    },
    "tags": []
   },
   "source": [
    "You are going to write a classifier that distinguishes between the number 3 and number 8."
   ]
  },
  {
   "cell_type": "code",
   "execution_count": 1,
   "id": "b15c8646",
   "metadata": {
    "execution": {
     "iopub.execute_input": "2021-09-21T10:07:35.870379Z",
     "iopub.status.busy": "2021-09-21T10:07:35.869035Z",
     "iopub.status.idle": "2021-09-21T10:07:35.881470Z",
     "shell.execute_reply": "2021-09-21T10:07:35.880874Z"
    },
    "papermill": {
     "duration": 0.052714,
     "end_time": "2021-09-21T10:07:35.881607",
     "exception": false,
     "start_time": "2021-09-21T10:07:35.828893",
     "status": "completed"
    },
    "tags": []
   },
   "outputs": [],
   "source": [
    "%load_ext autoreload\n",
    "%autoreload 2"
   ]
  },
  {
   "cell_type": "code",
   "execution_count": 2,
   "id": "22ef38dc",
   "metadata": {
    "execution": {
     "iopub.execute_input": "2021-09-21T10:07:35.938342Z",
     "iopub.status.busy": "2021-09-21T10:07:35.937746Z",
     "iopub.status.idle": "2021-09-21T10:07:36.499935Z",
     "shell.execute_reply": "2021-09-21T10:07:36.500768Z"
    },
    "papermill": {
     "duration": 0.593806,
     "end_time": "2021-09-21T10:07:36.501017",
     "exception": false,
     "start_time": "2021-09-21T10:07:35.907211",
     "status": "completed"
    },
    "tags": []
   },
   "outputs": [],
   "source": [
    "%matplotlib inline\n",
    "import numpy as np\n",
    "import matplotlib.pyplot as plt\n",
    "import pandas as pd"
   ]
  },
  {
   "cell_type": "markdown",
   "id": "ba036198",
   "metadata": {
    "papermill": {
     "duration": 0.026237,
     "end_time": "2021-09-21T10:07:36.555906",
     "exception": false,
     "start_time": "2021-09-21T10:07:36.529669",
     "status": "completed"
    },
    "tags": []
   },
   "source": [
    "From the command line run `pip install mnist`. This is a library that will help you bring down the mnist dataset. If you run this from a notebook, you need to put  `!pip install mnist` in a cell by itself."
   ]
  },
  {
   "cell_type": "code",
   "execution_count": 3,
   "id": "bb6ad8a1",
   "metadata": {
    "execution": {
     "iopub.execute_input": "2021-09-21T10:07:36.614403Z",
     "iopub.status.busy": "2021-09-21T10:07:36.613812Z",
     "iopub.status.idle": "2021-09-21T10:07:38.468029Z",
     "shell.execute_reply": "2021-09-21T10:07:38.467321Z"
    },
    "papermill": {
     "duration": 1.886353,
     "end_time": "2021-09-21T10:07:38.468207",
     "exception": false,
     "start_time": "2021-09-21T10:07:36.581854",
     "status": "completed"
    },
    "tags": []
   },
   "outputs": [
    {
     "name": "stdout",
     "output_type": "stream",
     "text": [
      "Collecting mnist\r\n"
     ]
    },
    {
     "name": "stdout",
     "output_type": "stream",
     "text": [
      "  Downloading mnist-0.2.2-py2.py3-none-any.whl (3.5 kB)\r\n",
      "Requirement already satisfied: numpy in /opt/hostedtoolcache/Python/3.6.15/x64/lib/python3.6/site-packages (from mnist) (1.19.5)\r\n"
     ]
    },
    {
     "name": "stdout",
     "output_type": "stream",
     "text": [
      "Installing collected packages: mnist\r\n"
     ]
    },
    {
     "name": "stdout",
     "output_type": "stream",
     "text": [
      "Successfully installed mnist-0.2.2\r\n"
     ]
    }
   ],
   "source": [
    "!pip install mnist"
   ]
  },
  {
   "cell_type": "markdown",
   "id": "69df9c9a",
   "metadata": {
    "papermill": {
     "duration": 0.027598,
     "end_time": "2021-09-21T10:07:38.525202",
     "exception": false,
     "start_time": "2021-09-21T10:07:38.497604",
     "status": "completed"
    },
    "tags": []
   },
   "source": [
    "## Preparing the Data"
   ]
  },
  {
   "cell_type": "code",
   "execution_count": 4,
   "id": "7f69d806",
   "metadata": {
    "execution": {
     "iopub.execute_input": "2021-09-21T10:07:38.582338Z",
     "iopub.status.busy": "2021-09-21T10:07:38.581794Z",
     "iopub.status.idle": "2021-09-21T10:07:38.596505Z",
     "shell.execute_reply": "2021-09-21T10:07:38.596116Z"
    },
    "papermill": {
     "duration": 0.044437,
     "end_time": "2021-09-21T10:07:38.596610",
     "exception": false,
     "start_time": "2021-09-21T10:07:38.552173",
     "status": "completed"
    },
    "tags": []
   },
   "outputs": [],
   "source": [
    "import mnist"
   ]
  },
  {
   "cell_type": "code",
   "execution_count": 5,
   "id": "a411e44f",
   "metadata": {
    "execution": {
     "iopub.execute_input": "2021-09-21T10:07:38.655313Z",
     "iopub.status.busy": "2021-09-21T10:07:38.654708Z",
     "iopub.status.idle": "2021-09-21T10:07:39.269477Z",
     "shell.execute_reply": "2021-09-21T10:07:39.268314Z"
    },
    "papermill": {
     "duration": 0.646996,
     "end_time": "2021-09-21T10:07:39.269622",
     "exception": false,
     "start_time": "2021-09-21T10:07:38.622626",
     "status": "completed"
    },
    "tags": []
   },
   "outputs": [],
   "source": [
    "train_images = mnist.train_images()\n",
    "train_labels = mnist.train_labels()"
   ]
  },
  {
   "cell_type": "code",
   "execution_count": 6,
   "id": "dceab3a5",
   "metadata": {
    "execution": {
     "iopub.execute_input": "2021-09-21T10:07:39.330962Z",
     "iopub.status.busy": "2021-09-21T10:07:39.329922Z",
     "iopub.status.idle": "2021-09-21T10:07:39.344676Z",
     "shell.execute_reply": "2021-09-21T10:07:39.344174Z"
    },
    "papermill": {
     "duration": 0.046909,
     "end_time": "2021-09-21T10:07:39.344798",
     "exception": false,
     "start_time": "2021-09-21T10:07:39.297889",
     "status": "completed"
    },
    "tags": []
   },
   "outputs": [
    {
     "data": {
      "text/plain": [
       "((60000, 28, 28), (60000,))"
      ]
     },
     "execution_count": 6,
     "metadata": {},
     "output_type": "execute_result"
    }
   ],
   "source": [
    "train_images.shape, train_labels.shape"
   ]
  },
  {
   "cell_type": "code",
   "execution_count": 7,
   "id": "f50dc2bb",
   "metadata": {
    "execution": {
     "iopub.execute_input": "2021-09-21T10:07:39.406476Z",
     "iopub.status.busy": "2021-09-21T10:07:39.405897Z",
     "iopub.status.idle": "2021-09-21T10:07:39.655983Z",
     "shell.execute_reply": "2021-09-21T10:07:39.654964Z"
    },
    "papermill": {
     "duration": 0.282344,
     "end_time": "2021-09-21T10:07:39.656192",
     "exception": false,
     "start_time": "2021-09-21T10:07:39.373848",
     "status": "completed"
    },
    "tags": []
   },
   "outputs": [],
   "source": [
    "test_images = mnist.test_images()\n",
    "test_labels = mnist.test_labels()"
   ]
  },
  {
   "cell_type": "code",
   "execution_count": 8,
   "id": "fc38cf1b",
   "metadata": {
    "execution": {
     "iopub.execute_input": "2021-09-21T10:07:39.718736Z",
     "iopub.status.busy": "2021-09-21T10:07:39.718142Z",
     "iopub.status.idle": "2021-09-21T10:07:39.734417Z",
     "shell.execute_reply": "2021-09-21T10:07:39.733675Z"
    },
    "papermill": {
     "duration": 0.048726,
     "end_time": "2021-09-21T10:07:39.734556",
     "exception": false,
     "start_time": "2021-09-21T10:07:39.685830",
     "status": "completed"
    },
    "tags": []
   },
   "outputs": [
    {
     "data": {
      "text/plain": [
       "((10000, 28, 28), (10000,))"
      ]
     },
     "execution_count": 8,
     "metadata": {},
     "output_type": "execute_result"
    }
   ],
   "source": [
    "test_images.shape, test_labels.shape"
   ]
  },
  {
   "cell_type": "code",
   "execution_count": 9,
   "id": "f9ed8fe0",
   "metadata": {
    "execution": {
     "iopub.execute_input": "2021-09-21T10:07:39.802566Z",
     "iopub.status.busy": "2021-09-21T10:07:39.801911Z",
     "iopub.status.idle": "2021-09-21T10:07:39.956324Z",
     "shell.execute_reply": "2021-09-21T10:07:39.956779Z"
    },
    "papermill": {
     "duration": 0.194612,
     "end_time": "2021-09-21T10:07:39.956935",
     "exception": false,
     "start_time": "2021-09-21T10:07:39.762323",
     "status": "completed"
    },
    "tags": []
   },
   "outputs": [
    {
     "name": "stdout",
     "output_type": "stream",
     "text": [
      "2\n"
     ]
    },
    {
     "data": {
      "text/plain": [
       "<matplotlib.image.AxesImage at 0x7f80dcd67860>"
      ]
     },
     "execution_count": 9,
     "metadata": {},
     "output_type": "execute_result"
    },
    {
     "data": {
      "image/png": "[encoded data removed]",
      "text/plain": [
       "<Figure size 432x288 with 1 Axes>"
      ]
     },
     "metadata": {
      "needs_background": "light"
     },
     "output_type": "display_data"
    }
   ],
   "source": [
    "image_index = 7776 # You may select anything up to 60,000\n",
    "print(train_labels[image_index]) \n",
    "plt.imshow(train_images[image_index], cmap='Greys')"
   ]
  },
  {
   "cell_type": "markdown",
   "id": "a8d2388d",
   "metadata": {
    "papermill": {
     "duration": 0.029884,
     "end_time": "2021-09-21T10:07:40.016771",
     "exception": false,
     "start_time": "2021-09-21T10:07:39.986887",
     "status": "completed"
    },
    "tags": []
   },
   "source": [
    "## Filter data to get 3 and 8 out"
   ]
  },
  {
   "cell_type": "code",
   "execution_count": 10,
   "id": "776f7fc7",
   "metadata": {
    "execution": {
     "iopub.execute_input": "2021-09-21T10:07:40.084181Z",
     "iopub.status.busy": "2021-09-21T10:07:40.080565Z",
     "iopub.status.idle": "2021-09-21T10:07:40.097442Z",
     "shell.execute_reply": "2021-09-21T10:07:40.096940Z"
    },
    "papermill": {
     "duration": 0.051138,
     "end_time": "2021-09-21T10:07:40.097573",
     "exception": false,
     "start_time": "2021-09-21T10:07:40.046435",
     "status": "completed"
    },
    "tags": []
   },
   "outputs": [],
   "source": [
    "train_filter = np.where((train_labels == 3 ) | (train_labels == 8))\n",
    "test_filter = np.where((test_labels == 3) | (test_labels == 8))\n",
    "X_train, y_train = train_images[train_filter], train_labels[train_filter]\n",
    "X_test, y_test = test_images[test_filter], test_labels[test_filter]"
   ]
  },
  {
   "cell_type": "markdown",
   "id": "948f0b7e",
   "metadata": {
    "papermill": {
     "duration": 0.030427,
     "end_time": "2021-09-21T10:07:40.158543",
     "exception": false,
     "start_time": "2021-09-21T10:07:40.128116",
     "status": "completed"
    },
    "tags": []
   },
   "source": [
    "We normalize the pizel values in the 0 to 1 range"
   ]
  },
  {
   "cell_type": "code",
   "execution_count": 11,
   "id": "ee4c2166",
   "metadata": {
    "execution": {
     "iopub.execute_input": "2021-09-21T10:07:40.229763Z",
     "iopub.status.busy": "2021-09-21T10:07:40.229154Z",
     "iopub.status.idle": "2021-09-21T10:07:40.281808Z",
     "shell.execute_reply": "2021-09-21T10:07:40.281072Z"
    },
    "papermill": {
     "duration": 0.093261,
     "end_time": "2021-09-21T10:07:40.281995",
     "exception": false,
     "start_time": "2021-09-21T10:07:40.188734",
     "status": "completed"
    },
    "tags": []
   },
   "outputs": [],
   "source": [
    "X_train = X_train/255.\n",
    "X_test = X_test/255."
   ]
  },
  {
   "cell_type": "markdown",
   "id": "ddcf4fab",
   "metadata": {
    "papermill": {
     "duration": 0.030493,
     "end_time": "2021-09-21T10:07:40.346707",
     "exception": false,
     "start_time": "2021-09-21T10:07:40.316214",
     "status": "completed"
    },
    "tags": []
   },
   "source": [
    "And setup the labels as 1 (when the digit is 3) and 0 (when the digit is 8)"
   ]
  },
  {
   "cell_type": "code",
   "execution_count": 12,
   "id": "7dc908f2",
   "metadata": {
    "execution": {
     "iopub.execute_input": "2021-09-21T10:07:40.409225Z",
     "iopub.status.busy": "2021-09-21T10:07:40.408626Z",
     "iopub.status.idle": "2021-09-21T10:07:40.423930Z",
     "shell.execute_reply": "2021-09-21T10:07:40.423438Z"
    },
    "papermill": {
     "duration": 0.048625,
     "end_time": "2021-09-21T10:07:40.424057",
     "exception": false,
     "start_time": "2021-09-21T10:07:40.375432",
     "status": "completed"
    },
    "tags": []
   },
   "outputs": [],
   "source": [
    "y_train = 1*(y_train==3)\n",
    "y_test = 1*(y_test==3)"
   ]
  },
  {
   "cell_type": "code",
   "execution_count": 13,
   "id": "01e4e969",
   "metadata": {
    "execution": {
     "iopub.execute_input": "2021-09-21T10:07:40.489699Z",
     "iopub.status.busy": "2021-09-21T10:07:40.488529Z",
     "iopub.status.idle": "2021-09-21T10:07:40.504947Z",
     "shell.execute_reply": "2021-09-21T10:07:40.505357Z"
    },
    "papermill": {
     "duration": 0.050912,
     "end_time": "2021-09-21T10:07:40.505498",
     "exception": false,
     "start_time": "2021-09-21T10:07:40.454586",
     "status": "completed"
    },
    "tags": []
   },
   "outputs": [
    {
     "data": {
      "text/plain": [
       "((11982, 28, 28), (1984, 28, 28))"
      ]
     },
     "execution_count": 13,
     "metadata": {},
     "output_type": "execute_result"
    }
   ],
   "source": [
    "X_train.shape, X_test.shape"
   ]
  },
  {
   "cell_type": "markdown",
   "id": "5ccf3f85",
   "metadata": {
    "papermill": {
     "duration": 0.030388,
     "end_time": "2021-09-21T10:07:40.565738",
     "exception": false,
     "start_time": "2021-09-21T10:07:40.535350",
     "status": "completed"
    },
    "tags": []
   },
   "source": [
    "We reshape the data to flatten the image pixels into a set of features or co-variates:"
   ]
  },
  {
   "cell_type": "code",
   "execution_count": 14,
   "id": "5286a4a3",
   "metadata": {
    "execution": {
     "iopub.execute_input": "2021-09-21T10:07:40.632572Z",
     "iopub.status.busy": "2021-09-21T10:07:40.631973Z",
     "iopub.status.idle": "2021-09-21T10:07:40.647356Z",
     "shell.execute_reply": "2021-09-21T10:07:40.647869Z"
    },
    "papermill": {
     "duration": 0.051896,
     "end_time": "2021-09-21T10:07:40.648016",
     "exception": false,
     "start_time": "2021-09-21T10:07:40.596120",
     "status": "completed"
    },
    "tags": []
   },
   "outputs": [
    {
     "data": {
      "text/plain": [
       "((11982, 784), (1984, 784))"
      ]
     },
     "execution_count": 14,
     "metadata": {},
     "output_type": "execute_result"
    }
   ],
   "source": [
    "X_train = X_train.reshape(X_train.shape[0], -1)\n",
    "X_test = X_test.reshape(X_test.shape[0], -1)\n",
    "X_train.shape, X_test.shape"
   ]
  },
  {
   "cell_type": "code",
   "execution_count": 15,
   "id": "73c5f88a",
   "metadata": {
    "execution": {
     "iopub.execute_input": "2021-09-21T10:07:40.715847Z",
     "iopub.status.busy": "2021-09-21T10:07:40.715095Z",
     "iopub.status.idle": "2021-09-21T10:07:40.735744Z",
     "shell.execute_reply": "2021-09-21T10:07:40.736227Z"
    },
    "papermill": {
     "duration": 0.057617,
     "end_time": "2021-09-21T10:07:40.736384",
     "exception": false,
     "start_time": "2021-09-21T10:07:40.678767",
     "status": "completed"
    },
    "tags": []
   },
   "outputs": [],
   "source": [
    "#Impoting functions from 'Kudzu'\n",
    "from kudzu.model import Model\n",
    "from kudzu.train import Learner\n",
    "from kudzu.optim import GD\n",
    "from kudzu.data import Data, Sampler,Dataloader\n",
    "\n",
    "from kudzu.callbacks import AccCallback\n",
    "from kudzu.callbacks import ClfCallback\n",
    "\n",
    "from kudzu.loss import MSE\n",
    "\n",
    "from kudzu.layer import Sigmoid,Relu\n",
    "from kudzu.layer import Affine"
   ]
  },
  {
   "cell_type": "markdown",
   "id": "bc01172a",
   "metadata": {
    "papermill": {
     "duration": 0.030897,
     "end_time": "2021-09-21T10:07:40.797847",
     "exception": false,
     "start_time": "2021-09-21T10:07:40.766950",
     "status": "completed"
    },
    "tags": []
   },
   "source": [
    "### Let us create a `Config` class, to store important parameters. \n",
    "This class essentially plays the role of a dictionary."
   ]
  },
  {
   "cell_type": "code",
   "execution_count": 16,
   "id": "978281aa",
   "metadata": {
    "execution": {
     "iopub.execute_input": "2021-09-21T10:07:40.863870Z",
     "iopub.status.busy": "2021-09-21T10:07:40.863261Z",
     "iopub.status.idle": "2021-09-21T10:07:40.878164Z",
     "shell.execute_reply": "2021-09-21T10:07:40.877102Z"
    },
    "papermill": {
     "duration": 0.048986,
     "end_time": "2021-09-21T10:07:40.878376",
     "exception": false,
     "start_time": "2021-09-21T10:07:40.829390",
     "status": "completed"
    },
    "tags": []
   },
   "outputs": [],
   "source": [
    "class Config:\n",
    "    pass\n",
    "config = Config()\n",
    "config.lr = 0.001\n",
    "config.num_epochs = 250\n",
    "config.bs = 50"
   ]
  },
  {
   "cell_type": "markdown",
   "id": "1385fa59",
   "metadata": {
    "papermill": {
     "duration": 0.03062,
     "end_time": "2021-09-21T10:07:40.940624",
     "exception": false,
     "start_time": "2021-09-21T10:07:40.910004",
     "status": "completed"
    },
    "tags": []
   },
   "source": [
    "### Running Models with the Training data\n",
    "Details about the network layers:\n",
    "- A first affine layer has 784 inputs and does 100 affine transforms. These are followed by a Relu\n",
    "- A second affine layer has 100 inputs from the 100 activations of the past layer, and does 100 affine transforms. These are followed by a Relu\n",
    "- A third affine layer has 100 activations and does 2 affine transformations to create an embedding for visualization. There is no non-linearity here.\n",
    "- A final \"logistic regression\" which has an affine transform from 2 inputs to 1 output, which is squeezed through a sigmoid.\n"
   ]
  },
  {
   "cell_type": "code",
   "execution_count": 17,
   "id": "2b9c66db",
   "metadata": {
    "execution": {
     "iopub.execute_input": "2021-09-21T10:07:41.011521Z",
     "iopub.status.busy": "2021-09-21T10:07:41.010889Z",
     "iopub.status.idle": "2021-09-21T10:07:41.022914Z",
     "shell.execute_reply": "2021-09-21T10:07:41.023441Z"
    },
    "papermill": {
     "duration": 0.052068,
     "end_time": "2021-09-21T10:07:41.023588",
     "exception": false,
     "start_time": "2021-09-21T10:07:40.971520",
     "status": "completed"
    },
    "tags": []
   },
   "outputs": [],
   "source": [
    "data = Data(X_train, y_train.reshape(-1,1))\n",
    "sampler = Sampler(data, config.bs, shuffle=True)\n",
    "\n",
    "dl = Dataloader(data, sampler)\n",
    "\n",
    "opt = GD(config.lr)\n",
    "loss = MSE()"
   ]
  },
  {
   "cell_type": "code",
   "execution_count": 18,
   "id": "b275e4c2",
   "metadata": {
    "execution": {
     "iopub.execute_input": "2021-09-21T10:07:41.094293Z",
     "iopub.status.busy": "2021-09-21T10:07:41.093688Z",
     "iopub.status.idle": "2021-09-21T10:07:41.106787Z",
     "shell.execute_reply": "2021-09-21T10:07:41.106292Z"
    },
    "papermill": {
     "duration": 0.052243,
     "end_time": "2021-09-21T10:07:41.106915",
     "exception": false,
     "start_time": "2021-09-21T10:07:41.054672",
     "status": "completed"
    },
    "tags": []
   },
   "outputs": [],
   "source": [
    "training_data_x = X_train\n",
    "testing_data_x = X_test\n",
    "training_data_y = y_train.reshape(-1,1)\n",
    "testing_data_y = y_test.reshape(-1,1)"
   ]
  },
  {
   "cell_type": "code",
   "execution_count": 19,
   "id": "76951160",
   "metadata": {
    "execution": {
     "iopub.execute_input": "2021-09-21T10:07:41.176244Z",
     "iopub.status.busy": "2021-09-21T10:07:41.175276Z",
     "iopub.status.idle": "2021-09-21T10:07:41.196234Z",
     "shell.execute_reply": "2021-09-21T10:07:41.195711Z"
    },
    "papermill": {
     "duration": 0.056582,
     "end_time": "2021-09-21T10:07:41.196358",
     "exception": false,
     "start_time": "2021-09-21T10:07:41.139776",
     "status": "completed"
    },
    "tags": []
   },
   "outputs": [
    {
     "name": "stdout",
     "output_type": "stream",
     "text": [
      "xavier\n",
      "xavier\n",
      "xavier\n",
      "xavier\n",
      "xavier\n"
     ]
    }
   ],
   "source": [
    "layers = [Affine(\"first\", 784, 100), Relu(\"first\"), Affine(\"second\", 100, 100), Relu(\"second\"), Affine(\"third\", 100, 2), Affine(\"last\", 2, 1), Sigmoid(\"last\")]\n",
    "model_nn = Model(layers)\n",
    "model_lr = Model([Affine(\"logits\", 784, 1), Sigmoid(\"sigmoid\")])"
   ]
  },
  {
   "cell_type": "code",
   "execution_count": 20,
   "id": "6eede77a",
   "metadata": {
    "execution": {
     "iopub.execute_input": "2021-09-21T10:07:41.266235Z",
     "iopub.status.busy": "2021-09-21T10:07:41.265642Z",
     "iopub.status.idle": "2021-09-21T10:07:41.278313Z",
     "shell.execute_reply": "2021-09-21T10:07:41.278823Z"
    },
    "papermill": {
     "duration": 0.05049,
     "end_time": "2021-09-21T10:07:41.278969",
     "exception": false,
     "start_time": "2021-09-21T10:07:41.228479",
     "status": "completed"
    },
    "tags": []
   },
   "outputs": [],
   "source": [
    "nn_learner = Learner(loss, model_nn, opt, config.num_epochs)\n",
    "acc_nn = ClfCallback(nn_learner, config.bs, training_data_x , testing_data_x, training_data_y, testing_data_y)\n",
    "nn_learner.set_callbacks([acc_nn])"
   ]
  },
  {
   "cell_type": "code",
   "execution_count": 21,
   "id": "877b6cc7",
   "metadata": {
    "execution": {
     "iopub.execute_input": "2021-09-21T10:07:41.345759Z",
     "iopub.status.busy": "2021-09-21T10:07:41.345164Z",
     "iopub.status.idle": "2021-09-21T10:07:41.358354Z",
     "shell.execute_reply": "2021-09-21T10:07:41.357748Z"
    },
    "papermill": {
     "duration": 0.04864,
     "end_time": "2021-09-21T10:07:41.358487",
     "exception": false,
     "start_time": "2021-09-21T10:07:41.309847",
     "status": "completed"
    },
    "tags": []
   },
   "outputs": [],
   "source": [
    "lr_learner = Learner(loss, model_lr, opt, config.num_epochs)\n",
    "acc_lr = ClfCallback(lr_learner, config.bs, training_data_x , testing_data_x, training_data_y, testing_data_y)\n",
    "lr_learner.set_callbacks([acc_lr])"
   ]
  },
  {
   "cell_type": "code",
   "execution_count": 22,
   "id": "d9b133c3",
   "metadata": {
    "execution": {
     "iopub.execute_input": "2021-09-21T10:07:41.423994Z",
     "iopub.status.busy": "2021-09-21T10:07:41.423427Z",
     "iopub.status.idle": "2021-09-21T10:09:07.162285Z",
     "shell.execute_reply": "2021-09-21T10:09:07.161771Z"
    },
    "papermill": {
     "duration": 85.773734,
     "end_time": "2021-09-21T10:09:07.162418",
     "exception": false,
     "start_time": "2021-09-21T10:07:41.388684",
     "status": "completed"
    },
    "tags": []
   },
   "outputs": [
    {
     "name": "stdout",
     "output_type": "stream",
     "text": [
      "Epoch 0, Loss 0.2311\n",
      "Training Accuracy: 0.7491, Testing Accuracy: 0.7540\n",
      "\n"
     ]
    },
    {
     "name": "stdout",
     "output_type": "stream",
     "text": [
      "Epoch 10, Loss 0.1086\n",
      "Training Accuracy: 0.9074, Testing Accuracy: 0.9199\n",
      "\n"
     ]
    },
    {
     "name": "stdout",
     "output_type": "stream",
     "text": [
      "Epoch 20, Loss 0.0629\n",
      "Training Accuracy: 0.9337, Testing Accuracy: 0.9476\n",
      "\n"
     ]
    },
    {
     "name": "stdout",
     "output_type": "stream",
     "text": [
      "Epoch 30, Loss 0.0475\n",
      "Training Accuracy: 0.9477, Testing Accuracy: 0.9612\n",
      "\n"
     ]
    },
    {
     "name": "stdout",
     "output_type": "stream",
     "text": [
      "Epoch 40, Loss 0.0401\n",
      "Training Accuracy: 0.9548, Testing Accuracy: 0.9662\n",
      "\n"
     ]
    },
    {
     "name": "stdout",
     "output_type": "stream",
     "text": [
      "Epoch 50, Loss 0.0358\n",
      "Training Accuracy: 0.9583, Testing Accuracy: 0.9677\n",
      "\n"
     ]
    },
    {
     "name": "stdout",
     "output_type": "stream",
     "text": [
      "Epoch 60, Loss 0.033\n",
      "Training Accuracy: 0.9619, Testing Accuracy: 0.9698\n",
      "\n"
     ]
    },
    {
     "name": "stdout",
     "output_type": "stream",
     "text": [
      "Epoch 70, Loss 0.031\n",
      "Training Accuracy: 0.9636, Testing Accuracy: 0.9713\n",
      "\n"
     ]
    },
    {
     "name": "stdout",
     "output_type": "stream",
     "text": [
      "Epoch 80, Loss 0.0294\n",
      "Training Accuracy: 0.9656, Testing Accuracy: 0.9738\n",
      "\n"
     ]
    },
    {
     "name": "stdout",
     "output_type": "stream",
     "text": [
      "Epoch 90, Loss 0.0281\n",
      "Training Accuracy: 0.9667, Testing Accuracy: 0.9738\n",
      "\n"
     ]
    },
    {
     "name": "stdout",
     "output_type": "stream",
     "text": [
      "Epoch 100, Loss 0.027\n",
      "Training Accuracy: 0.9684, Testing Accuracy: 0.9748\n",
      "\n"
     ]
    },
    {
     "name": "stdout",
     "output_type": "stream",
     "text": [
      "Epoch 110, Loss 0.026\n",
      "Training Accuracy: 0.9692, Testing Accuracy: 0.9753\n",
      "\n"
     ]
    },
    {
     "name": "stdout",
     "output_type": "stream",
     "text": [
      "Epoch 120, Loss 0.0252\n",
      "Training Accuracy: 0.9702, Testing Accuracy: 0.9758\n",
      "\n"
     ]
    },
    {
     "name": "stdout",
     "output_type": "stream",
     "text": [
      "Epoch 130, Loss 0.0244\n",
      "Training Accuracy: 0.9714, Testing Accuracy: 0.9758\n",
      "\n"
     ]
    },
    {
     "name": "stdout",
     "output_type": "stream",
     "text": [
      "Epoch 140, Loss 0.0237\n",
      "Training Accuracy: 0.9717, Testing Accuracy: 0.9748\n",
      "\n"
     ]
    },
    {
     "name": "stdout",
     "output_type": "stream",
     "text": [
      "Epoch 150, Loss 0.023\n",
      "Training Accuracy: 0.9725, Testing Accuracy: 0.9738\n",
      "\n"
     ]
    },
    {
     "name": "stdout",
     "output_type": "stream",
     "text": [
      "Epoch 160, Loss 0.0224\n",
      "Training Accuracy: 0.9731, Testing Accuracy: 0.9743\n",
      "\n"
     ]
    },
    {
     "name": "stdout",
     "output_type": "stream",
     "text": [
      "Epoch 170, Loss 0.0219\n",
      "Training Accuracy: 0.9738, Testing Accuracy: 0.9743\n",
      "\n"
     ]
    },
    {
     "name": "stdout",
     "output_type": "stream",
     "text": [
      "Epoch 180, Loss 0.0214\n",
      "Training Accuracy: 0.9745, Testing Accuracy: 0.9748\n",
      "\n"
     ]
    },
    {
     "name": "stdout",
     "output_type": "stream",
     "text": [
      "Epoch 190, Loss 0.0209\n",
      "Training Accuracy: 0.9755, Testing Accuracy: 0.9758\n",
      "\n"
     ]
    },
    {
     "name": "stdout",
     "output_type": "stream",
     "text": [
      "Epoch 200, Loss 0.0204\n",
      "Training Accuracy: 0.9760, Testing Accuracy: 0.9763\n",
      "\n"
     ]
    },
    {
     "name": "stdout",
     "output_type": "stream",
     "text": [
      "Epoch 210, Loss 0.0199\n",
      "Training Accuracy: 0.9765, Testing Accuracy: 0.9758\n",
      "\n"
     ]
    },
    {
     "name": "stdout",
     "output_type": "stream",
     "text": [
      "Epoch 220, Loss 0.0195\n",
      "Training Accuracy: 0.9771, Testing Accuracy: 0.9753\n",
      "\n"
     ]
    },
    {
     "name": "stdout",
     "output_type": "stream",
     "text": [
      "Epoch 230, Loss 0.0191\n",
      "Training Accuracy: 0.9780, Testing Accuracy: 0.9763\n",
      "\n"
     ]
    },
    {
     "name": "stdout",
     "output_type": "stream",
     "text": [
      "Epoch 240, Loss 0.0187\n",
      "Training Accuracy: 0.9786, Testing Accuracy: 0.9773\n",
      "\n"
     ]
    },
    {
     "data": {
      "text/plain": [
       "0.004698875464446274"
      ]
     },
     "execution_count": 22,
     "metadata": {},
     "output_type": "execute_result"
    }
   ],
   "source": [
    "nn_learner.train_loop(dl)"
   ]
  },
  {
   "cell_type": "code",
   "execution_count": 23,
   "id": "e0163366",
   "metadata": {
    "execution": {
     "iopub.execute_input": "2021-09-21T10:09:07.240546Z",
     "iopub.status.busy": "2021-09-21T10:09:07.239245Z",
     "iopub.status.idle": "2021-09-21T10:09:21.847271Z",
     "shell.execute_reply": "2021-09-21T10:09:21.848023Z"
    },
    "papermill": {
     "duration": 14.648466,
     "end_time": "2021-09-21T10:09:21.848173",
     "exception": false,
     "start_time": "2021-09-21T10:09:07.199707",
     "status": "completed"
    },
    "tags": []
   },
   "outputs": [
    {
     "name": "stdout",
     "output_type": "stream",
     "text": [
      "Epoch 0, Loss 0.234\n",
      "Training Accuracy: 0.7129, Testing Accuracy: 0.7339\n",
      "\n"
     ]
    },
    {
     "name": "stdout",
     "output_type": "stream",
     "text": [
      "Epoch 10, Loss 0.1027\n",
      "Training Accuracy: 0.9082, Testing Accuracy: 0.9219\n",
      "\n"
     ]
    },
    {
     "name": "stdout",
     "output_type": "stream",
     "text": [
      "Epoch 20, Loss 0.0791\n",
      "Training Accuracy: 0.9276, Testing Accuracy: 0.9375\n",
      "\n"
     ]
    },
    {
     "name": "stdout",
     "output_type": "stream",
     "text": [
      "Epoch 30, Loss 0.0682\n",
      "Training Accuracy: 0.9357, Testing Accuracy: 0.9471\n",
      "\n"
     ]
    },
    {
     "name": "stdout",
     "output_type": "stream",
     "text": [
      "Epoch 40, Loss 0.0616\n",
      "Training Accuracy: 0.9415, Testing Accuracy: 0.9511\n",
      "\n"
     ]
    },
    {
     "name": "stdout",
     "output_type": "stream",
     "text": [
      "Epoch 50, Loss 0.0571\n",
      "Training Accuracy: 0.9459, Testing Accuracy: 0.9561\n",
      "\n"
     ]
    },
    {
     "name": "stdout",
     "output_type": "stream",
     "text": [
      "Epoch 60, Loss 0.0537\n",
      "Training Accuracy: 0.9481, Testing Accuracy: 0.9592\n",
      "\n"
     ]
    },
    {
     "name": "stdout",
     "output_type": "stream",
     "text": [
      "Epoch 70, Loss 0.0512\n",
      "Training Accuracy: 0.9500, Testing Accuracy: 0.9597\n",
      "\n"
     ]
    },
    {
     "name": "stdout",
     "output_type": "stream",
     "text": [
      "Epoch 80, Loss 0.0491\n",
      "Training Accuracy: 0.9523, Testing Accuracy: 0.9612\n",
      "\n"
     ]
    },
    {
     "name": "stdout",
     "output_type": "stream",
     "text": [
      "Epoch 90, Loss 0.0474\n",
      "Training Accuracy: 0.9530, Testing Accuracy: 0.9612\n",
      "\n"
     ]
    },
    {
     "name": "stdout",
     "output_type": "stream",
     "text": [
      "Epoch 100, Loss 0.046\n",
      "Training Accuracy: 0.9545, Testing Accuracy: 0.9622\n",
      "\n"
     ]
    },
    {
     "name": "stdout",
     "output_type": "stream",
     "text": [
      "Epoch 110, Loss 0.0447\n",
      "Training Accuracy: 0.9556, Testing Accuracy: 0.9627\n",
      "\n"
     ]
    },
    {
     "name": "stdout",
     "output_type": "stream",
     "text": [
      "Epoch 120, Loss 0.0437\n",
      "Training Accuracy: 0.9562, Testing Accuracy: 0.9632\n",
      "\n"
     ]
    },
    {
     "name": "stdout",
     "output_type": "stream",
     "text": [
      "Epoch 130, Loss 0.0427\n",
      "Training Accuracy: 0.9565, Testing Accuracy: 0.9632\n",
      "\n"
     ]
    },
    {
     "name": "stdout",
     "output_type": "stream",
     "text": [
      "Epoch 140, Loss 0.0419\n",
      "Training Accuracy: 0.9570, Testing Accuracy: 0.9632\n",
      "\n"
     ]
    },
    {
     "name": "stdout",
     "output_type": "stream",
     "text": [
      "Epoch 150, Loss 0.0411\n",
      "Training Accuracy: 0.9579, Testing Accuracy: 0.9642\n",
      "\n"
     ]
    },
    {
     "name": "stdout",
     "output_type": "stream",
     "text": [
      "Epoch 160, Loss 0.0405\n",
      "Training Accuracy: 0.9585, Testing Accuracy: 0.9642\n",
      "\n"
     ]
    },
    {
     "name": "stdout",
     "output_type": "stream",
     "text": [
      "Epoch 170, Loss 0.0398\n",
      "Training Accuracy: 0.9589, Testing Accuracy: 0.9647\n",
      "\n"
     ]
    },
    {
     "name": "stdout",
     "output_type": "stream",
     "text": [
      "Epoch 180, Loss 0.0393\n",
      "Training Accuracy: 0.9594, Testing Accuracy: 0.9652\n",
      "\n"
     ]
    },
    {
     "name": "stdout",
     "output_type": "stream",
     "text": [
      "Epoch 190, Loss 0.0388\n",
      "Training Accuracy: 0.9597, Testing Accuracy: 0.9657\n",
      "\n"
     ]
    },
    {
     "name": "stdout",
     "output_type": "stream",
     "text": [
      "Epoch 200, Loss 0.0383\n",
      "Training Accuracy: 0.9601, Testing Accuracy: 0.9667\n",
      "\n"
     ]
    },
    {
     "name": "stdout",
     "output_type": "stream",
     "text": [
      "Epoch 210, Loss 0.0378\n",
      "Training Accuracy: 0.9606, Testing Accuracy: 0.9667\n",
      "\n"
     ]
    },
    {
     "name": "stdout",
     "output_type": "stream",
     "text": [
      "Epoch 220, Loss 0.0374\n",
      "Training Accuracy: 0.9605, Testing Accuracy: 0.9662\n",
      "\n"
     ]
    },
    {
     "name": "stdout",
     "output_type": "stream",
     "text": [
      "Epoch 230, Loss 0.037\n",
      "Training Accuracy: 0.9609, Testing Accuracy: 0.9667\n",
      "\n"
     ]
    },
    {
     "name": "stdout",
     "output_type": "stream",
     "text": [
      "Epoch 240, Loss 0.0367\n",
      "Training Accuracy: 0.9610, Testing Accuracy: 0.9672\n",
      "\n"
     ]
    },
    {
     "data": {
      "text/plain": [
       "0.020695304679159296"
      ]
     },
     "execution_count": 23,
     "metadata": {},
     "output_type": "execute_result"
    }
   ],
   "source": [
    "lr_learner.train_loop(dl)"
   ]
  },
  {
   "cell_type": "code",
   "execution_count": 24,
   "id": "ca410940",
   "metadata": {
    "execution": {
     "iopub.execute_input": "2021-09-21T10:09:21.944747Z",
     "iopub.status.busy": "2021-09-21T10:09:21.944205Z",
     "iopub.status.idle": "2021-09-21T10:09:22.188784Z",
     "shell.execute_reply": "2021-09-21T10:09:22.188027Z"
    },
    "papermill": {
     "duration": 0.295754,
     "end_time": "2021-09-21T10:09:22.188913",
     "exception": false,
     "start_time": "2021-09-21T10:09:21.893159",
     "status": "completed"
    },
    "tags": []
   },
   "outputs": [
    {
     "data": {
      "text/plain": [
       "<matplotlib.legend.Legend at 0x7f80cf540940>"
      ]
     },
     "execution_count": 24,
     "metadata": {},
     "output_type": "execute_result"
    },
    {
     "data": {
      "image/png": "[encoded data removed]",
      "text/plain": [
       "<Figure size 1080x720 with 1 Axes>"
      ]
     },
     "metadata": {
      "needs_background": "light"
     },
     "output_type": "display_data"
    }
   ],
   "source": [
    "#comparing the results of NN and LR\n",
    "plt.figure(figsize=(15,10))\n",
    "\n",
    "# Neural Network plots\n",
    "plt.plot(acc_nn.accuracies, 'r-', label = \"Training Accuracies - NN\")\n",
    "plt.plot(acc_nn.test_accuracies, 'g-', label = \"Testing Accuracies - NN\")\n",
    "\n",
    "# Logistic Regression plots\n",
    "plt.plot(acc_lr.accuracies, 'k-', label = \"Training Accuracies - LR\")\n",
    "plt.plot(acc_lr.test_accuracies, 'b-', label = \"Testing Accuracies - LR\")\n",
    "plt.legend()"
   ]
  },
  {
   "cell_type": "markdown",
   "id": "80dfb35c",
   "metadata": {
    "papermill": {
     "duration": 0.046915,
     "end_time": "2021-09-21T10:09:22.283028",
     "exception": false,
     "start_time": "2021-09-21T10:09:22.236113",
     "status": "completed"
    },
    "tags": []
   },
   "source": [
    "#### Plotting the outputs of this layer of the NN.\n"
   ]
  },
  {
   "cell_type": "code",
   "execution_count": 25,
   "id": "45eb2ff5",
   "metadata": {
    "execution": {
     "iopub.execute_input": "2021-09-21T10:09:22.384063Z",
     "iopub.status.busy": "2021-09-21T10:09:22.381497Z",
     "iopub.status.idle": "2021-09-21T10:09:22.402408Z",
     "shell.execute_reply": "2021-09-21T10:09:22.402856Z"
    },
    "papermill": {
     "duration": 0.072428,
     "end_time": "2021-09-21T10:09:22.402995",
     "exception": false,
     "start_time": "2021-09-21T10:09:22.330567",
     "status": "completed"
    },
    "tags": []
   },
   "outputs": [],
   "source": [
    "new_model = Model(layers[:-2])\n",
    "testing_plot = new_model(testing_data_x)"
   ]
  },
  {
   "cell_type": "code",
   "execution_count": 26,
   "id": "4c0a5485",
   "metadata": {
    "execution": {
     "iopub.execute_input": "2021-09-21T10:09:22.509103Z",
     "iopub.status.busy": "2021-09-21T10:09:22.508525Z",
     "iopub.status.idle": "2021-09-21T10:09:22.723985Z",
     "shell.execute_reply": "2021-09-21T10:09:22.724457Z"
    },
    "papermill": {
     "duration": 0.271425,
     "end_time": "2021-09-21T10:09:22.724619",
     "exception": false,
     "start_time": "2021-09-21T10:09:22.453194",
     "status": "completed"
    },
    "tags": []
   },
   "outputs": [
    {
     "data": {
      "text/plain": [
       "Text(0.5, 1.0, 'Outputs')"
      ]
     },
     "execution_count": 26,
     "metadata": {},
     "output_type": "execute_result"
    },
    {
     "data": {
      "image/png": "[encoded data removed]",
      "text/plain": [
       "<Figure size 576x504 with 1 Axes>"
      ]
     },
     "metadata": {
      "needs_background": "light"
     },
     "output_type": "display_data"
    }
   ],
   "source": [
    "# Plotting the scatter plot of points and color coding by class\n",
    "plt.figure(figsize=(8,7))\n",
    "plt.scatter(testing_plot[:,0], testing_plot[:,1], alpha = 0.1, c = y_test.ravel());\n",
    "plt.title('Outputs')"
   ]
  },
  {
   "cell_type": "markdown",
   "id": "a74fcf8f",
   "metadata": {
    "papermill": {
     "duration": 0.048367,
     "end_time": "2021-09-21T10:09:22.821588",
     "exception": false,
     "start_time": "2021-09-21T10:09:22.773221",
     "status": "completed"
    },
    "tags": []
   },
   "source": [
    "Probability contours"
   ]
  },
  {
   "cell_type": "code",
   "execution_count": 27,
   "id": "d0afc8e3",
   "metadata": {
    "execution": {
     "iopub.execute_input": "2021-09-21T10:09:22.924538Z",
     "iopub.status.busy": "2021-09-21T10:09:22.923974Z",
     "iopub.status.idle": "2021-09-21T10:09:22.936110Z",
     "shell.execute_reply": "2021-09-21T10:09:22.935664Z"
    },
    "papermill": {
     "duration": 0.06668,
     "end_time": "2021-09-21T10:09:22.936226",
     "exception": false,
     "start_time": "2021-09-21T10:09:22.869546",
     "status": "completed"
    },
    "tags": []
   },
   "outputs": [],
   "source": [
    "model_prob = Model(layers[-2:]) "
   ]
  },
  {
   "cell_type": "code",
   "execution_count": 28,
   "id": "9b96e238",
   "metadata": {
    "execution": {
     "iopub.execute_input": "2021-09-21T10:09:23.066880Z",
     "iopub.status.busy": "2021-09-21T10:09:23.066323Z",
     "iopub.status.idle": "2021-09-21T10:09:23.082723Z",
     "shell.execute_reply": "2021-09-21T10:09:23.083085Z"
    },
    "papermill": {
     "duration": 0.071452,
     "end_time": "2021-09-21T10:09:23.083226",
     "exception": false,
     "start_time": "2021-09-21T10:09:23.011774",
     "status": "completed"
    },
    "tags": []
   },
   "outputs": [],
   "source": [
    "#creating the x and y ranges according to the above generated plot.\n",
    "x_range = np.linspace(-4, 1, 100) \n",
    "y_range = np.linspace(-6, 6, 100) \n",
    "x_grid, y_grid = np.meshgrid(x_range, y_range) # x_grid and y_grig are of size 100 X 100\n",
    "\n",
    "# converting x_grid and y_grid to continuous arrays\n",
    "x_gridflat = np.ravel(x_grid)\n",
    "y_gridflat = np.ravel(y_grid)\n",
    "\n",
    "# The last layer of the current model takes two columns as input. Hence transpose of np.vstack() is required.\n",
    "X = np.vstack((x_gridflat, y_gridflat)).T\n",
    "\n",
    "prob_contour = model_prob(X).reshape(100,100) "
   ]
  },
  {
   "cell_type": "code",
   "execution_count": 29,
   "id": "da72499a",
   "metadata": {
    "execution": {
     "iopub.execute_input": "2021-09-21T10:09:23.204606Z",
     "iopub.status.busy": "2021-09-21T10:09:23.203985Z",
     "iopub.status.idle": "2021-09-21T10:09:23.472711Z",
     "shell.execute_reply": "2021-09-21T10:09:23.472188Z"
    },
    "papermill": {
     "duration": 0.334774,
     "end_time": "2021-09-21T10:09:23.472835",
     "exception": false,
     "start_time": "2021-09-21T10:09:23.138061",
     "status": "completed"
    },
    "tags": []
   },
   "outputs": [
    {
     "data": {
      "image/png": "[encoded data removed]",
      "text/plain": [
       "<Figure size 720x648 with 1 Axes>"
      ]
     },
     "metadata": {
      "needs_background": "light"
     },
     "output_type": "display_data"
    }
   ],
   "source": [
    "plt.figure(figsize=(10,9))\n",
    "plt.scatter(testing_plot[:,0], testing_plot[:,1], alpha = 0.1, c = y_test.ravel())\n",
    "contours = plt.contour(x_grid,y_grid,prob_contour)\n",
    "plt.title('Probability Contours')\n",
    "plt.clabel(contours, inline = True );"
   ]
  },
  {
   "cell_type": "code",
   "execution_count": null,
   "id": "e81b4ac7",
   "metadata": {
    "papermill": {
     "duration": 0.051248,
     "end_time": "2021-09-21T10:09:23.576679",
     "exception": false,
     "start_time": "2021-09-21T10:09:23.525431",
     "status": "completed"
    },
    "tags": []
   },
   "outputs": [],
   "source": []
  }
 ],
 "metadata": {
  "kernelspec": {
   "display_name": "Python 3",
   "language": "python",
   "name": "python3"
  },
  "language_info": {
   "codemirror_mode": {
    "name": "ipython",
    "version": 3
   },
   "file_extension": ".py",
   "mimetype": "text/x-python",
   "name": "python",
   "nbconvert_exporter": "python",
   "pygments_lexer": "ipython3",
   "version": "3.6.15"
  },
  "papermill": {
   "default_parameters": {},
   "duration": 109.542975,
   "end_time": "2021-09-21T10:09:24.038130",
   "environment_variables": {},
   "exception": null,
   "input_path": "2020-08-11-part2.ipynb",
   "output_path": "2020-08-11-part2.ipynb",
   "parameters": {},
   "start_time": "2021-09-21T10:07:34.495155",
   "version": "2.3.3"
  }
 },
 "nbformat": 4,
 "nbformat_minor": 5
}