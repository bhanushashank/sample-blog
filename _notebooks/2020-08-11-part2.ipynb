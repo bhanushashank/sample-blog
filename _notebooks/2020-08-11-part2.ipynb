{
 "cells": [
  {
   "cell_type": "markdown",
   "id": "98380cd3",
   "metadata": {
    "papermill": {
     "duration": 0.029381,
     "end_time": "2022-07-27T20:09:57.746864",
     "exception": false,
     "start_time": "2022-07-27T20:09:57.717483",
     "status": "completed"
    },
    "tags": []
   },
   "source": [
    "# Distinguish Your Own Digits (DYOD)"
   ]
  },
  {
   "cell_type": "markdown",
   "id": "ef31240d",
   "metadata": {
    "papermill": {
     "duration": 0.023968,
     "end_time": "2022-07-27T20:09:57.798421",
     "exception": false,
     "start_time": "2022-07-27T20:09:57.774453",
     "status": "completed"
    },
    "tags": []
   },
   "source": [
    "You are going to write a classifier that distinguishes between the number 3 and number 8."
   ]
  },
  {
   "cell_type": "code",
   "execution_count": 1,
   "id": "b15c8646",
   "metadata": {
    "execution": {
     "iopub.execute_input": "2022-07-27T20:09:57.855871Z",
     "iopub.status.busy": "2022-07-27T20:09:57.853641Z",
     "iopub.status.idle": "2022-07-27T20:09:57.865949Z",
     "shell.execute_reply": "2022-07-27T20:09:57.865408Z"
    },
    "papermill": {
     "duration": 0.043706,
     "end_time": "2022-07-27T20:09:57.866061",
     "exception": false,
     "start_time": "2022-07-27T20:09:57.822355",
     "status": "completed"
    },
    "tags": []
   },
   "outputs": [],
   "source": [
    "%load_ext autoreload\n",
    "%autoreload 2"
   ]
  },
  {
   "cell_type": "code",
   "execution_count": 2,
   "id": "22ef38dc",
   "metadata": {
    "execution": {
     "iopub.execute_input": "2022-07-27T20:09:57.917743Z",
     "iopub.status.busy": "2022-07-27T20:09:57.917165Z",
     "iopub.status.idle": "2022-07-27T20:09:58.422675Z",
     "shell.execute_reply": "2022-07-27T20:09:58.422202Z"
    },
    "papermill": {
     "duration": 0.53274,
     "end_time": "2022-07-27T20:09:58.422789",
     "exception": false,
     "start_time": "2022-07-27T20:09:57.890049",
     "status": "completed"
    },
    "tags": []
   },
   "outputs": [],
   "source": [
    "%matplotlib inline\n",
    "import numpy as np\n",
    "import matplotlib.pyplot as plt\n",
    "import pandas as pd"
   ]
  },
  {
   "cell_type": "markdown",
   "id": "ba036198",
   "metadata": {
    "papermill": {
     "duration": 0.02427,
     "end_time": "2022-07-27T20:09:58.474565",
     "exception": false,
     "start_time": "2022-07-27T20:09:58.450295",
     "status": "completed"
    },
    "tags": []
   },
   "source": [
    "From the command line run `pip install mnist`. This is a library that will help you bring down the mnist dataset. If you run this from a notebook, you need to put  `!pip install mnist` in a cell by itself."
   ]
  },
  {
   "cell_type": "code",
   "execution_count": 3,
   "id": "bb6ad8a1",
   "metadata": {
    "execution": {
     "iopub.execute_input": "2022-07-27T20:09:58.526686Z",
     "iopub.status.busy": "2022-07-27T20:09:58.526148Z",
     "iopub.status.idle": "2022-07-27T20:10:00.203566Z",
     "shell.execute_reply": "2022-07-27T20:10:00.203071Z"
    },
    "papermill": {
     "duration": 1.704973,
     "end_time": "2022-07-27T20:10:00.203675",
     "exception": false,
     "start_time": "2022-07-27T20:09:58.498702",
     "status": "completed"
    },
    "tags": []
   },
   "outputs": [
    {
     "name": "stdout",
     "output_type": "stream",
     "text": [
      "Collecting mnist\r\n"
     ]
    },
    {
     "name": "stdout",
     "output_type": "stream",
     "text": [
      "  Downloading mnist-0.2.2-py2.py3-none-any.whl (3.5 kB)\r\n",
      "Requirement already satisfied: numpy in /opt/hostedtoolcache/Python/3.6.15/x64/lib/python3.6/site-packages (from mnist) (1.19.5)\r\n"
     ]
    },
    {
     "name": "stdout",
     "output_type": "stream",
     "text": [
      "Installing collected packages: mnist\r\n",
      "Successfully installed mnist-0.2.2\r\n"
     ]
    }
   ],
   "source": [
    "!pip install mnist"
   ]
  },
  {
   "cell_type": "markdown",
   "id": "69df9c9a",
   "metadata": {
    "papermill": {
     "duration": 0.024887,
     "end_time": "2022-07-27T20:10:00.253722",
     "exception": false,
     "start_time": "2022-07-27T20:10:00.228835",
     "status": "completed"
    },
    "tags": []
   },
   "source": [
    "## Preparing the Data"
   ]
  },
  {
   "cell_type": "code",
   "execution_count": 4,
   "id": "7f69d806",
   "metadata": {
    "execution": {
     "iopub.execute_input": "2022-07-27T20:10:00.307078Z",
     "iopub.status.busy": "2022-07-27T20:10:00.306526Z",
     "iopub.status.idle": "2022-07-27T20:10:00.321166Z",
     "shell.execute_reply": "2022-07-27T20:10:00.320702Z"
    },
    "papermill": {
     "duration": 0.042698,
     "end_time": "2022-07-27T20:10:00.321270",
     "exception": false,
     "start_time": "2022-07-27T20:10:00.278572",
     "status": "completed"
    },
    "tags": []
   },
   "outputs": [],
   "source": [
    "import mnist"
   ]
  },
  {
   "cell_type": "code",
   "execution_count": 5,
   "id": "a411e44f",
   "metadata": {
    "execution": {
     "iopub.execute_input": "2022-07-27T20:10:00.374451Z",
     "iopub.status.busy": "2022-07-27T20:10:00.373909Z",
     "iopub.status.idle": "2022-07-27T20:10:01.248641Z",
     "shell.execute_reply": "2022-07-27T20:10:01.248161Z"
    },
    "papermill": {
     "duration": 0.902464,
     "end_time": "2022-07-27T20:10:01.248757",
     "exception": false,
     "start_time": "2022-07-27T20:10:00.346293",
     "status": "completed"
    },
    "tags": []
   },
   "outputs": [],
   "source": [
    "train_images = mnist.train_images()\n",
    "train_labels = mnist.train_labels()"
   ]
  },
  {
   "cell_type": "code",
   "execution_count": 6,
   "id": "dceab3a5",
   "metadata": {
    "execution": {
     "iopub.execute_input": "2022-07-27T20:10:01.310009Z",
     "iopub.status.busy": "2022-07-27T20:10:01.307496Z",
     "iopub.status.idle": "2022-07-27T20:10:01.320701Z",
     "shell.execute_reply": "2022-07-27T20:10:01.321162Z"
    },
    "papermill": {
     "duration": 0.047438,
     "end_time": "2022-07-27T20:10:01.321287",
     "exception": false,
     "start_time": "2022-07-27T20:10:01.273849",
     "status": "completed"
    },
    "tags": []
   },
   "outputs": [
    {
     "data": {
      "text/plain": [
       "((60000, 28, 28), (60000,))"
      ]
     },
     "execution_count": 6,
     "metadata": {},
     "output_type": "execute_result"
    }
   ],
   "source": [
    "train_images.shape, train_labels.shape"
   ]
  },
  {
   "cell_type": "code",
   "execution_count": 7,
   "id": "f50dc2bb",
   "metadata": {
    "execution": {
     "iopub.execute_input": "2022-07-27T20:10:01.374970Z",
     "iopub.status.busy": "2022-07-27T20:10:01.374426Z",
     "iopub.status.idle": "2022-07-27T20:10:01.764647Z",
     "shell.execute_reply": "2022-07-27T20:10:01.764145Z"
    },
    "papermill": {
     "duration": 0.418206,
     "end_time": "2022-07-27T20:10:01.764756",
     "exception": false,
     "start_time": "2022-07-27T20:10:01.346550",
     "status": "completed"
    },
    "tags": []
   },
   "outputs": [],
   "source": [
    "test_images = mnist.test_images()\n",
    "test_labels = mnist.test_labels()"
   ]
  },
  {
   "cell_type": "code",
   "execution_count": 8,
   "id": "fc38cf1b",
   "metadata": {
    "execution": {
     "iopub.execute_input": "2022-07-27T20:10:01.819346Z",
     "iopub.status.busy": "2022-07-27T20:10:01.818784Z",
     "iopub.status.idle": "2022-07-27T20:10:01.831506Z",
     "shell.execute_reply": "2022-07-27T20:10:01.831052Z"
    },
    "papermill": {
     "duration": 0.04138,
     "end_time": "2022-07-27T20:10:01.831608",
     "exception": false,
     "start_time": "2022-07-27T20:10:01.790228",
     "status": "completed"
    },
    "tags": []
   },
   "outputs": [
    {
     "data": {
      "text/plain": [
       "((10000, 28, 28), (10000,))"
      ]
     },
     "execution_count": 8,
     "metadata": {},
     "output_type": "execute_result"
    }
   ],
   "source": [
    "test_images.shape, test_labels.shape"
   ]
  },
  {
   "cell_type": "code",
   "execution_count": 9,
   "id": "f9ed8fe0",
   "metadata": {
    "execution": {
     "iopub.execute_input": "2022-07-27T20:10:01.885621Z",
     "iopub.status.busy": "2022-07-27T20:10:01.885082Z",
     "iopub.status.idle": "2022-07-27T20:10:02.018040Z",
     "shell.execute_reply": "2022-07-27T20:10:02.018472Z"
    },
    "papermill": {
     "duration": 0.161669,
     "end_time": "2022-07-27T20:10:02.018598",
     "exception": false,
     "start_time": "2022-07-27T20:10:01.856929",
     "status": "completed"
    },
    "tags": []
   },
   "outputs": [
    {
     "name": "stdout",
     "output_type": "stream",
     "text": [
      "2\n"
     ]
    },
    {
     "data": {
      "text/plain": [
       "<matplotlib.image.AxesImage at 0x7f1d2eac54a8>"
      ]
     },
     "execution_count": 9,
     "metadata": {},
     "output_type": "execute_result"
    },
    {
     "data": {
      "image/png": "[encoded data removed]",
      "text/plain": [
       "<Figure size 432x288 with 1 Axes>"
      ]
     },
     "metadata": {
      "needs_background": "light"
     },
     "output_type": "display_data"
    }
   ],
   "source": [
    "image_index = 7776 # You may select anything up to 60,000\n",
    "print(train_labels[image_index]) \n",
    "plt.imshow(train_images[image_index], cmap='Greys')"
   ]
  },
  {
   "cell_type": "markdown",
   "id": "a8d2388d",
   "metadata": {
    "papermill": {
     "duration": 0.027348,
     "end_time": "2022-07-27T20:10:02.072616",
     "exception": false,
     "start_time": "2022-07-27T20:10:02.045268",
     "status": "completed"
    },
    "tags": []
   },
   "source": [
    "## Filter data to get 3 and 8 out"
   ]
  },
  {
   "cell_type": "code",
   "execution_count": 10,
   "id": "776f7fc7",
   "metadata": {
    "execution": {
     "iopub.execute_input": "2022-07-27T20:10:02.130468Z",
     "iopub.status.busy": "2022-07-27T20:10:02.129886Z",
     "iopub.status.idle": "2022-07-27T20:10:02.146899Z",
     "shell.execute_reply": "2022-07-27T20:10:02.146431Z"
    },
    "papermill": {
     "duration": 0.047517,
     "end_time": "2022-07-27T20:10:02.147004",
     "exception": false,
     "start_time": "2022-07-27T20:10:02.099487",
     "status": "completed"
    },
    "tags": []
   },
   "outputs": [],
   "source": [
    "train_filter = np.where((train_labels == 3 ) | (train_labels == 8))\n",
    "test_filter = np.where((test_labels == 3) | (test_labels == 8))\n",
    "X_train, y_train = train_images[train_filter], train_labels[train_filter]\n",
    "X_test, y_test = test_images[test_filter], test_labels[test_filter]"
   ]
  },
  {
   "cell_type": "markdown",
   "id": "948f0b7e",
   "metadata": {
    "papermill": {
     "duration": 0.026817,
     "end_time": "2022-07-27T20:10:02.200483",
     "exception": false,
     "start_time": "2022-07-27T20:10:02.173666",
     "status": "completed"
    },
    "tags": []
   },
   "source": [
    "We normalize the pizel values in the 0 to 1 range"
   ]
  },
  {
   "cell_type": "code",
   "execution_count": 11,
   "id": "ee4c2166",
   "metadata": {
    "execution": {
     "iopub.execute_input": "2022-07-27T20:10:02.258990Z",
     "iopub.status.busy": "2022-07-27T20:10:02.258425Z",
     "iopub.status.idle": "2022-07-27T20:10:02.299921Z",
     "shell.execute_reply": "2022-07-27T20:10:02.300399Z"
    },
    "papermill": {
     "duration": 0.073247,
     "end_time": "2022-07-27T20:10:02.300530",
     "exception": false,
     "start_time": "2022-07-27T20:10:02.227283",
     "status": "completed"
    },
    "tags": []
   },
   "outputs": [],
   "source": [
    "X_train = X_train/255.\n",
    "X_test = X_test/255."
   ]
  },
  {
   "cell_type": "markdown",
   "id": "ddcf4fab",
   "metadata": {
    "papermill": {
     "duration": 0.026486,
     "end_time": "2022-07-27T20:10:02.353825",
     "exception": false,
     "start_time": "2022-07-27T20:10:02.327339",
     "status": "completed"
    },
    "tags": []
   },
   "source": [
    "And setup the labels as 1 (when the digit is 3) and 0 (when the digit is 8)"
   ]
  },
  {
   "cell_type": "code",
   "execution_count": 12,
   "id": "7dc908f2",
   "metadata": {
    "execution": {
     "iopub.execute_input": "2022-07-27T20:10:02.410824Z",
     "iopub.status.busy": "2022-07-27T20:10:02.410253Z",
     "iopub.status.idle": "2022-07-27T20:10:02.423796Z",
     "shell.execute_reply": "2022-07-27T20:10:02.423035Z"
    },
    "papermill": {
     "duration": 0.043521,
     "end_time": "2022-07-27T20:10:02.423908",
     "exception": false,
     "start_time": "2022-07-27T20:10:02.380387",
     "status": "completed"
    },
    "tags": []
   },
   "outputs": [],
   "source": [
    "y_train = 1*(y_train==3)\n",
    "y_test = 1*(y_test==3)"
   ]
  },
  {
   "cell_type": "code",
   "execution_count": 13,
   "id": "01e4e969",
   "metadata": {
    "execution": {
     "iopub.execute_input": "2022-07-27T20:10:02.481021Z",
     "iopub.status.busy": "2022-07-27T20:10:02.480466Z",
     "iopub.status.idle": "2022-07-27T20:10:02.493501Z",
     "shell.execute_reply": "2022-07-27T20:10:02.493927Z"
    },
    "papermill": {
     "duration": 0.043333,
     "end_time": "2022-07-27T20:10:02.494051",
     "exception": false,
     "start_time": "2022-07-27T20:10:02.450718",
     "status": "completed"
    },
    "tags": []
   },
   "outputs": [
    {
     "data": {
      "text/plain": [
       "((11982, 28, 28), (1984, 28, 28))"
      ]
     },
     "execution_count": 13,
     "metadata": {},
     "output_type": "execute_result"
    }
   ],
   "source": [
    "X_train.shape, X_test.shape"
   ]
  },
  {
   "cell_type": "markdown",
   "id": "5ccf3f85",
   "metadata": {
    "papermill": {
     "duration": 0.028367,
     "end_time": "2022-07-27T20:10:02.549231",
     "exception": false,
     "start_time": "2022-07-27T20:10:02.520864",
     "status": "completed"
    },
    "tags": []
   },
   "source": [
    "We reshape the data to flatten the image pixels into a set of features or co-variates:"
   ]
  },
  {
   "cell_type": "code",
   "execution_count": 14,
   "id": "5286a4a3",
   "metadata": {
    "execution": {
     "iopub.execute_input": "2022-07-27T20:10:02.607333Z",
     "iopub.status.busy": "2022-07-27T20:10:02.606782Z",
     "iopub.status.idle": "2022-07-27T20:10:02.620533Z",
     "shell.execute_reply": "2022-07-27T20:10:02.619986Z"
    },
    "papermill": {
     "duration": 0.044194,
     "end_time": "2022-07-27T20:10:02.620638",
     "exception": false,
     "start_time": "2022-07-27T20:10:02.576444",
     "status": "completed"
    },
    "tags": []
   },
   "outputs": [
    {
     "data": {
      "text/plain": [
       "((11982, 784), (1984, 784))"
      ]
     },
     "execution_count": 14,
     "metadata": {},
     "output_type": "execute_result"
    }
   ],
   "source": [
    "X_train = X_train.reshape(X_train.shape[0], -1)\n",
    "X_test = X_test.reshape(X_test.shape[0], -1)\n",
    "X_train.shape, X_test.shape"
   ]
  },
  {
   "cell_type": "code",
   "execution_count": 15,
   "id": "73c5f88a",
   "metadata": {
    "execution": {
     "iopub.execute_input": "2022-07-27T20:10:02.679993Z",
     "iopub.status.busy": "2022-07-27T20:10:02.679407Z",
     "iopub.status.idle": "2022-07-27T20:10:02.697108Z",
     "shell.execute_reply": "2022-07-27T20:10:02.696558Z"
    },
    "papermill": {
     "duration": 0.049219,
     "end_time": "2022-07-27T20:10:02.697215",
     "exception": false,
     "start_time": "2022-07-27T20:10:02.647996",
     "status": "completed"
    },
    "tags": []
   },
   "outputs": [],
   "source": [
    "#Impoting functions from 'Kudzu'\n",
    "from kudzu.model import Model\n",
    "from kudzu.train import Learner\n",
    "from kudzu.optim import GD\n",
    "from kudzu.data import Data, Sampler,Dataloader\n",
    "\n",
    "from kudzu.callbacks import AccCallback\n",
    "from kudzu.callbacks import ClfCallback\n",
    "\n",
    "from kudzu.loss import MSE\n",
    "\n",
    "from kudzu.layer import Sigmoid,Relu\n",
    "from kudzu.layer import Affine"
   ]
  },
  {
   "cell_type": "markdown",
   "id": "bc01172a",
   "metadata": {
    "papermill": {
     "duration": 0.027083,
     "end_time": "2022-07-27T20:10:02.751772",
     "exception": false,
     "start_time": "2022-07-27T20:10:02.724689",
     "status": "completed"
    },
    "tags": []
   },
   "source": [
    "### Let us create a `Config` class, to store important parameters. \n",
    "This class essentially plays the role of a dictionary."
   ]
  },
  {
   "cell_type": "code",
   "execution_count": 16,
   "id": "978281aa",
   "metadata": {
    "execution": {
     "iopub.execute_input": "2022-07-27T20:10:02.810422Z",
     "iopub.status.busy": "2022-07-27T20:10:02.809870Z",
     "iopub.status.idle": "2022-07-27T20:10:02.821462Z",
     "shell.execute_reply": "2022-07-27T20:10:02.820914Z"
    },
    "papermill": {
     "duration": 0.042565,
     "end_time": "2022-07-27T20:10:02.821566",
     "exception": false,
     "start_time": "2022-07-27T20:10:02.779001",
     "status": "completed"
    },
    "tags": []
   },
   "outputs": [],
   "source": [
    "class Config:\n",
    "    pass\n",
    "config = Config()\n",
    "config.lr = 0.001\n",
    "config.num_epochs = 250\n",
    "config.bs = 50"
   ]
  },
  {
   "cell_type": "markdown",
   "id": "1385fa59",
   "metadata": {
    "papermill": {
     "duration": 0.026938,
     "end_time": "2022-07-27T20:10:02.875776",
     "exception": false,
     "start_time": "2022-07-27T20:10:02.848838",
     "status": "completed"
    },
    "tags": []
   },
   "source": [
    "### Running Models with the Training data\n",
    "Details about the network layers:\n",
    "- A first affine layer has 784 inputs and does 100 affine transforms. These are followed by a Relu\n",
    "- A second affine layer has 100 inputs from the 100 activations of the past layer, and does 100 affine transforms. These are followed by a Relu\n",
    "- A third affine layer has 100 activations and does 2 affine transformations to create an embedding for visualization. There is no non-linearity here.\n",
    "- A final \"logistic regression\" which has an affine transform from 2 inputs to 1 output, which is squeezed through a sigmoid.\n"
   ]
  },
  {
   "cell_type": "code",
   "execution_count": 17,
   "id": "2b9c66db",
   "metadata": {
    "execution": {
     "iopub.execute_input": "2022-07-27T20:10:02.934932Z",
     "iopub.status.busy": "2022-07-27T20:10:02.934379Z",
     "iopub.status.idle": "2022-07-27T20:10:02.946463Z",
     "shell.execute_reply": "2022-07-27T20:10:02.946009Z"
    },
    "papermill": {
     "duration": 0.042793,
     "end_time": "2022-07-27T20:10:02.946562",
     "exception": false,
     "start_time": "2022-07-27T20:10:02.903769",
     "status": "completed"
    },
    "tags": []
   },
   "outputs": [],
   "source": [
    "data = Data(X_train, y_train.reshape(-1,1))\n",
    "sampler = Sampler(data, config.bs, shuffle=True)\n",
    "\n",
    "dl = Dataloader(data, sampler)\n",
    "\n",
    "opt = GD(config.lr)\n",
    "loss = MSE()"
   ]
  },
  {
   "cell_type": "code",
   "execution_count": 18,
   "id": "b275e4c2",
   "metadata": {
    "execution": {
     "iopub.execute_input": "2022-07-27T20:10:03.004479Z",
     "iopub.status.busy": "2022-07-27T20:10:03.003905Z",
     "iopub.status.idle": "2022-07-27T20:10:03.016788Z",
     "shell.execute_reply": "2022-07-27T20:10:03.016329Z"
    },
    "papermill": {
     "duration": 0.043173,
     "end_time": "2022-07-27T20:10:03.016892",
     "exception": false,
     "start_time": "2022-07-27T20:10:02.973719",
     "status": "completed"
    },
    "tags": []
   },
   "outputs": [],
   "source": [
    "training_data_x = X_train\n",
    "testing_data_x = X_test\n",
    "training_data_y = y_train.reshape(-1,1)\n",
    "testing_data_y = y_test.reshape(-1,1)"
   ]
  },
  {
   "cell_type": "code",
   "execution_count": 19,
   "id": "76951160",
   "metadata": {
    "execution": {
     "iopub.execute_input": "2022-07-27T20:10:03.075818Z",
     "iopub.status.busy": "2022-07-27T20:10:03.075231Z",
     "iopub.status.idle": "2022-07-27T20:10:03.090754Z",
     "shell.execute_reply": "2022-07-27T20:10:03.091159Z"
    },
    "papermill": {
     "duration": 0.047239,
     "end_time": "2022-07-27T20:10:03.091280",
     "exception": false,
     "start_time": "2022-07-27T20:10:03.044041",
     "status": "completed"
    },
    "tags": []
   },
   "outputs": [
    {
     "name": "stdout",
     "output_type": "stream",
     "text": [
      "xavier\n",
      "xavier\n",
      "xavier\n",
      "xavier\n",
      "xavier\n"
     ]
    }
   ],
   "source": [
    "layers = [Affine(\"first\", 784, 100), Relu(\"first\"), Affine(\"second\", 100, 100), Relu(\"second\"), Affine(\"third\", 100, 2), Affine(\"last\", 2, 1), Sigmoid(\"last\")]\n",
    "model_nn = Model(layers)\n",
    "model_lr = Model([Affine(\"logits\", 784, 1), Sigmoid(\"sigmoid\")])"
   ]
  },
  {
   "cell_type": "code",
   "execution_count": 20,
   "id": "6eede77a",
   "metadata": {
    "execution": {
     "iopub.execute_input": "2022-07-27T20:10:03.149925Z",
     "iopub.status.busy": "2022-07-27T20:10:03.149377Z",
     "iopub.status.idle": "2022-07-27T20:10:03.161493Z",
     "shell.execute_reply": "2022-07-27T20:10:03.161050Z"
    },
    "papermill": {
     "duration": 0.042764,
     "end_time": "2022-07-27T20:10:03.161590",
     "exception": false,
     "start_time": "2022-07-27T20:10:03.118826",
     "status": "completed"
    },
    "tags": []
   },
   "outputs": [],
   "source": [
    "nn_learner = Learner(loss, model_nn, opt, config.num_epochs)\n",
    "acc_nn = ClfCallback(nn_learner, config.bs, training_data_x , testing_data_x, training_data_y, testing_data_y)\n",
    "nn_learner.set_callbacks([acc_nn])"
   ]
  },
  {
   "cell_type": "code",
   "execution_count": 21,
   "id": "877b6cc7",
   "metadata": {
    "execution": {
     "iopub.execute_input": "2022-07-27T20:10:03.219200Z",
     "iopub.status.busy": "2022-07-27T20:10:03.218673Z",
     "iopub.status.idle": "2022-07-27T20:10:03.230410Z",
     "shell.execute_reply": "2022-07-27T20:10:03.230858Z"
    },
    "papermill": {
     "duration": 0.042254,
     "end_time": "2022-07-27T20:10:03.230974",
     "exception": false,
     "start_time": "2022-07-27T20:10:03.188720",
     "status": "completed"
    },
    "tags": []
   },
   "outputs": [],
   "source": [
    "lr_learner = Learner(loss, model_lr, opt, config.num_epochs)\n",
    "acc_lr = ClfCallback(lr_learner, config.bs, training_data_x , testing_data_x, training_data_y, testing_data_y)\n",
    "lr_learner.set_callbacks([acc_lr])"
   ]
  },
  {
   "cell_type": "code",
   "execution_count": 22,
   "id": "d9b133c3",
   "metadata": {
    "execution": {
     "iopub.execute_input": "2022-07-27T20:10:03.288744Z",
     "iopub.status.busy": "2022-07-27T20:10:03.288203Z",
     "iopub.status.idle": "2022-07-27T20:13:00.018000Z",
     "shell.execute_reply": "2022-07-27T20:13:00.018449Z"
    },
    "papermill": {
     "duration": 176.760337,
     "end_time": "2022-07-27T20:13:00.018579",
     "exception": false,
     "start_time": "2022-07-27T20:10:03.258242",
     "status": "completed"
    },
    "tags": []
   },
   "outputs": [
    {
     "name": "stdout",
     "output_type": "stream",
     "text": [
      "Epoch 0, Loss 0.2489\n",
      "Training Accuracy: 0.6246, Testing Accuracy: 0.6210\n",
      "\n"
     ]
    },
    {
     "name": "stdout",
     "output_type": "stream",
     "text": [
      "Epoch 10, Loss 0.141\n",
      "Training Accuracy: 0.8834, Testing Accuracy: 0.9022\n",
      "\n"
     ]
    },
    {
     "name": "stdout",
     "output_type": "stream",
     "text": [
      "Epoch 20, Loss 0.0739\n",
      "Training Accuracy: 0.9276, Testing Accuracy: 0.9350\n",
      "\n"
     ]
    },
    {
     "name": "stdout",
     "output_type": "stream",
     "text": [
      "Epoch 30, Loss 0.0527\n",
      "Training Accuracy: 0.9451, Testing Accuracy: 0.9506\n",
      "\n"
     ]
    },
    {
     "name": "stdout",
     "output_type": "stream",
     "text": [
      "Epoch 40, Loss 0.0433\n",
      "Training Accuracy: 0.9535, Testing Accuracy: 0.9577\n",
      "\n"
     ]
    },
    {
     "name": "stdout",
     "output_type": "stream",
     "text": [
      "Epoch 50, Loss 0.0382\n",
      "Training Accuracy: 0.9569, Testing Accuracy: 0.9617\n",
      "\n"
     ]
    },
    {
     "name": "stdout",
     "output_type": "stream",
     "text": [
      "Epoch 60, Loss 0.0349\n",
      "Training Accuracy: 0.9607, Testing Accuracy: 0.9632\n",
      "\n"
     ]
    },
    {
     "name": "stdout",
     "output_type": "stream",
     "text": [
      "Epoch 70, Loss 0.0326\n",
      "Training Accuracy: 0.9629, Testing Accuracy: 0.9647\n",
      "\n"
     ]
    },
    {
     "name": "stdout",
     "output_type": "stream",
     "text": [
      "Epoch 80, Loss 0.0308\n",
      "Training Accuracy: 0.9646, Testing Accuracy: 0.9647\n",
      "\n"
     ]
    },
    {
     "name": "stdout",
     "output_type": "stream",
     "text": [
      "Epoch 90, Loss 0.0294\n",
      "Training Accuracy: 0.9663, Testing Accuracy: 0.9652\n",
      "\n"
     ]
    },
    {
     "name": "stdout",
     "output_type": "stream",
     "text": [
      "Epoch 100, Loss 0.0282\n",
      "Training Accuracy: 0.9675, Testing Accuracy: 0.9657\n",
      "\n"
     ]
    },
    {
     "name": "stdout",
     "output_type": "stream",
     "text": [
      "Epoch 110, Loss 0.0271\n",
      "Training Accuracy: 0.9689, Testing Accuracy: 0.9672\n",
      "\n"
     ]
    },
    {
     "name": "stdout",
     "output_type": "stream",
     "text": [
      "Epoch 120, Loss 0.0262\n",
      "Training Accuracy: 0.9695, Testing Accuracy: 0.9677\n",
      "\n"
     ]
    },
    {
     "name": "stdout",
     "output_type": "stream",
     "text": [
      "Epoch 130, Loss 0.0255\n",
      "Training Accuracy: 0.9705, Testing Accuracy: 0.9677\n",
      "\n"
     ]
    },
    {
     "name": "stdout",
     "output_type": "stream",
     "text": [
      "Epoch 140, Loss 0.0247\n",
      "Training Accuracy: 0.9713, Testing Accuracy: 0.9688\n",
      "\n"
     ]
    },
    {
     "name": "stdout",
     "output_type": "stream",
     "text": [
      "Epoch 150, Loss 0.0241\n",
      "Training Accuracy: 0.9718, Testing Accuracy: 0.9693\n",
      "\n"
     ]
    },
    {
     "name": "stdout",
     "output_type": "stream",
     "text": [
      "Epoch 160, Loss 0.0235\n",
      "Training Accuracy: 0.9723, Testing Accuracy: 0.9703\n",
      "\n"
     ]
    },
    {
     "name": "stdout",
     "output_type": "stream",
     "text": [
      "Epoch 170, Loss 0.023\n",
      "Training Accuracy: 0.9727, Testing Accuracy: 0.9703\n",
      "\n"
     ]
    },
    {
     "name": "stdout",
     "output_type": "stream",
     "text": [
      "Epoch 180, Loss 0.0225\n",
      "Training Accuracy: 0.9736, Testing Accuracy: 0.9708\n",
      "\n"
     ]
    },
    {
     "name": "stdout",
     "output_type": "stream",
     "text": [
      "Epoch 190, Loss 0.022\n",
      "Training Accuracy: 0.9739, Testing Accuracy: 0.9713\n",
      "\n"
     ]
    },
    {
     "name": "stdout",
     "output_type": "stream",
     "text": [
      "Epoch 200, Loss 0.0216\n",
      "Training Accuracy: 0.9741, Testing Accuracy: 0.9713\n",
      "\n"
     ]
    },
    {
     "name": "stdout",
     "output_type": "stream",
     "text": [
      "Epoch 210, Loss 0.0211\n",
      "Training Accuracy: 0.9749, Testing Accuracy: 0.9723\n",
      "\n"
     ]
    },
    {
     "name": "stdout",
     "output_type": "stream",
     "text": [
      "Epoch 220, Loss 0.0207\n",
      "Training Accuracy: 0.9755, Testing Accuracy: 0.9713\n",
      "\n"
     ]
    },
    {
     "name": "stdout",
     "output_type": "stream",
     "text": [
      "Epoch 230, Loss 0.0204\n",
      "Training Accuracy: 0.9764, Testing Accuracy: 0.9713\n",
      "\n"
     ]
    },
    {
     "name": "stdout",
     "output_type": "stream",
     "text": [
      "Epoch 240, Loss 0.02\n",
      "Training Accuracy: 0.9770, Testing Accuracy: 0.9713\n",
      "\n"
     ]
    },
    {
     "data": {
      "text/plain": [
       "0.046841355488634065"
      ]
     },
     "execution_count": 22,
     "metadata": {},
     "output_type": "execute_result"
    }
   ],
   "source": [
    "nn_learner.train_loop(dl)"
   ]
  },
  {
   "cell_type": "code",
   "execution_count": 23,
   "id": "e0163366",
   "metadata": {
    "execution": {
     "iopub.execute_input": "2022-07-27T20:13:00.092751Z",
     "iopub.status.busy": "2022-07-27T20:13:00.092160Z",
     "iopub.status.idle": "2022-07-27T20:13:12.369656Z",
     "shell.execute_reply": "2022-07-27T20:13:12.370110Z"
    },
    "papermill": {
     "duration": 12.317164,
     "end_time": "2022-07-27T20:13:12.370234",
     "exception": false,
     "start_time": "2022-07-27T20:13:00.053070",
     "status": "completed"
    },
    "tags": []
   },
   "outputs": [
    {
     "name": "stdout",
     "output_type": "stream",
     "text": [
      "Epoch 0, Loss 0.2666\n",
      "Training Accuracy: 0.5896, Testing Accuracy: 0.5756\n",
      "\n"
     ]
    },
    {
     "name": "stdout",
     "output_type": "stream",
     "text": [
      "Epoch 10, Loss 0.1076\n",
      "Training Accuracy: 0.9039, Testing Accuracy: 0.9163\n",
      "\n"
     ]
    },
    {
     "name": "stdout",
     "output_type": "stream",
     "text": [
      "Epoch 20, Loss 0.081\n",
      "Training Accuracy: 0.9270, Testing Accuracy: 0.9405\n",
      "\n"
     ]
    },
    {
     "name": "stdout",
     "output_type": "stream",
     "text": [
      "Epoch 30, Loss 0.0692\n",
      "Training Accuracy: 0.9369, Testing Accuracy: 0.9481\n",
      "\n"
     ]
    },
    {
     "name": "stdout",
     "output_type": "stream",
     "text": [
      "Epoch 40, Loss 0.0623\n",
      "Training Accuracy: 0.9410, Testing Accuracy: 0.9526\n",
      "\n"
     ]
    },
    {
     "name": "stdout",
     "output_type": "stream",
     "text": [
      "Epoch 50, Loss 0.0577\n",
      "Training Accuracy: 0.9448, Testing Accuracy: 0.9561\n",
      "\n"
     ]
    },
    {
     "name": "stdout",
     "output_type": "stream",
     "text": [
      "Epoch 60, Loss 0.0543\n",
      "Training Accuracy: 0.9471, Testing Accuracy: 0.9587\n",
      "\n"
     ]
    },
    {
     "name": "stdout",
     "output_type": "stream",
     "text": [
      "Epoch 70, Loss 0.0517\n",
      "Training Accuracy: 0.9494, Testing Accuracy: 0.9587\n",
      "\n"
     ]
    },
    {
     "name": "stdout",
     "output_type": "stream",
     "text": [
      "Epoch 80, Loss 0.0496\n",
      "Training Accuracy: 0.9518, Testing Accuracy: 0.9587\n",
      "\n"
     ]
    },
    {
     "name": "stdout",
     "output_type": "stream",
     "text": [
      "Epoch 90, Loss 0.0479\n",
      "Training Accuracy: 0.9529, Testing Accuracy: 0.9602\n",
      "\n"
     ]
    },
    {
     "name": "stdout",
     "output_type": "stream",
     "text": [
      "Epoch 100, Loss 0.0465\n",
      "Training Accuracy: 0.9538, Testing Accuracy: 0.9627\n",
      "\n"
     ]
    },
    {
     "name": "stdout",
     "output_type": "stream",
     "text": [
      "Epoch 110, Loss 0.0452\n",
      "Training Accuracy: 0.9549, Testing Accuracy: 0.9627\n",
      "\n"
     ]
    },
    {
     "name": "stdout",
     "output_type": "stream",
     "text": [
      "Epoch 120, Loss 0.0442\n",
      "Training Accuracy: 0.9552, Testing Accuracy: 0.9642\n",
      "\n"
     ]
    },
    {
     "name": "stdout",
     "output_type": "stream",
     "text": [
      "Epoch 130, Loss 0.0432\n",
      "Training Accuracy: 0.9559, Testing Accuracy: 0.9642\n",
      "\n"
     ]
    },
    {
     "name": "stdout",
     "output_type": "stream",
     "text": [
      "Epoch 140, Loss 0.0424\n",
      "Training Accuracy: 0.9564, Testing Accuracy: 0.9642\n",
      "\n"
     ]
    },
    {
     "name": "stdout",
     "output_type": "stream",
     "text": [
      "Epoch 150, Loss 0.0416\n",
      "Training Accuracy: 0.9572, Testing Accuracy: 0.9642\n",
      "\n"
     ]
    },
    {
     "name": "stdout",
     "output_type": "stream",
     "text": [
      "Epoch 160, Loss 0.0409\n",
      "Training Accuracy: 0.9579, Testing Accuracy: 0.9647\n",
      "\n"
     ]
    },
    {
     "name": "stdout",
     "output_type": "stream",
     "text": [
      "Epoch 170, Loss 0.0403\n",
      "Training Accuracy: 0.9583, Testing Accuracy: 0.9652\n",
      "\n"
     ]
    },
    {
     "name": "stdout",
     "output_type": "stream",
     "text": [
      "Epoch 180, Loss 0.0397\n",
      "Training Accuracy: 0.9589, Testing Accuracy: 0.9647\n",
      "\n"
     ]
    },
    {
     "name": "stdout",
     "output_type": "stream",
     "text": [
      "Epoch 190, Loss 0.0392\n",
      "Training Accuracy: 0.9589, Testing Accuracy: 0.9642\n",
      "\n"
     ]
    },
    {
     "name": "stdout",
     "output_type": "stream",
     "text": [
      "Epoch 200, Loss 0.0387\n",
      "Training Accuracy: 0.9594, Testing Accuracy: 0.9647\n",
      "\n"
     ]
    },
    {
     "name": "stdout",
     "output_type": "stream",
     "text": [
      "Epoch 210, Loss 0.0383\n",
      "Training Accuracy: 0.9598, Testing Accuracy: 0.9652\n",
      "\n"
     ]
    },
    {
     "name": "stdout",
     "output_type": "stream",
     "text": [
      "Epoch 220, Loss 0.0379\n",
      "Training Accuracy: 0.9599, Testing Accuracy: 0.9652\n",
      "\n"
     ]
    },
    {
     "name": "stdout",
     "output_type": "stream",
     "text": [
      "Epoch 230, Loss 0.0375\n",
      "Training Accuracy: 0.9604, Testing Accuracy: 0.9652\n",
      "\n"
     ]
    },
    {
     "name": "stdout",
     "output_type": "stream",
     "text": [
      "Epoch 240, Loss 0.0371\n",
      "Training Accuracy: 0.9608, Testing Accuracy: 0.9662\n",
      "\n"
     ]
    },
    {
     "data": {
      "text/plain": [
       "0.05982285668993149"
      ]
     },
     "execution_count": 23,
     "metadata": {},
     "output_type": "execute_result"
    }
   ],
   "source": [
    "lr_learner.train_loop(dl)"
   ]
  },
  {
   "cell_type": "code",
   "execution_count": 24,
   "id": "ca410940",
   "metadata": {
    "execution": {
     "iopub.execute_input": "2022-07-27T20:13:12.457116Z",
     "iopub.status.busy": "2022-07-27T20:13:12.456526Z",
     "iopub.status.idle": "2022-07-27T20:13:12.695959Z",
     "shell.execute_reply": "2022-07-27T20:13:12.696377Z"
    },
    "papermill": {
     "duration": 0.284626,
     "end_time": "2022-07-27T20:13:12.696507",
     "exception": false,
     "start_time": "2022-07-27T20:13:12.411881",
     "status": "completed"
    },
    "tags": []
   },
   "outputs": [
    {
     "data": {
      "text/plain": [
       "<matplotlib.legend.Legend at 0x7f1d2e622c18>"
      ]
     },
     "execution_count": 24,
     "metadata": {},
     "output_type": "execute_result"
    },
    {
     "data": {
      "image/png": "[encoded data removed]",
      "text/plain": [
       "<Figure size 1080x720 with 1 Axes>"
      ]
     },
     "metadata": {
      "needs_background": "light"
     },
     "output_type": "display_data"
    }
   ],
   "source": [
    "#comparing the results of NN and LR\n",
    "plt.figure(figsize=(15,10))\n",
    "\n",
    "# Neural Network plots\n",
    "plt.plot(acc_nn.accuracies, 'r-', label = \"Training Accuracies - NN\")\n",
    "plt.plot(acc_nn.test_accuracies, 'g-', label = \"Testing Accuracies - NN\")\n",
    "\n",
    "# Logistic Regression plots\n",
    "plt.plot(acc_lr.accuracies, 'k-', label = \"Training Accuracies - LR\")\n",
    "plt.plot(acc_lr.test_accuracies, 'b-', label = \"Testing Accuracies - LR\")\n",
    "plt.legend()"
   ]
  },
  {
   "cell_type": "markdown",
   "id": "80dfb35c",
   "metadata": {
    "papermill": {
     "duration": 0.042317,
     "end_time": "2022-07-27T20:13:12.782076",
     "exception": false,
     "start_time": "2022-07-27T20:13:12.739759",
     "status": "completed"
    },
    "tags": []
   },
   "source": [
    "#### Plotting the outputs of this layer of the NN.\n"
   ]
  },
  {
   "cell_type": "code",
   "execution_count": 25,
   "id": "45eb2ff5",
   "metadata": {
    "execution": {
     "iopub.execute_input": "2022-07-27T20:13:12.876440Z",
     "iopub.status.busy": "2022-07-27T20:13:12.874512Z",
     "iopub.status.idle": "2022-07-27T20:13:12.910459Z",
     "shell.execute_reply": "2022-07-27T20:13:12.909989Z"
    },
    "papermill": {
     "duration": 0.083849,
     "end_time": "2022-07-27T20:13:12.910572",
     "exception": false,
     "start_time": "2022-07-27T20:13:12.826723",
     "status": "completed"
    },
    "tags": []
   },
   "outputs": [],
   "source": [
    "new_model = Model(layers[:-2])\n",
    "testing_plot = new_model(testing_data_x)"
   ]
  },
  {
   "cell_type": "code",
   "execution_count": 26,
   "id": "4c0a5485",
   "metadata": {
    "execution": {
     "iopub.execute_input": "2022-07-27T20:13:13.004682Z",
     "iopub.status.busy": "2022-07-27T20:13:13.004111Z",
     "iopub.status.idle": "2022-07-27T20:13:13.211199Z",
     "shell.execute_reply": "2022-07-27T20:13:13.211630Z"
    },
    "papermill": {
     "duration": 0.258211,
     "end_time": "2022-07-27T20:13:13.211771",
     "exception": false,
     "start_time": "2022-07-27T20:13:12.953560",
     "status": "completed"
    },
    "tags": []
   },
   "outputs": [
    {
     "data": {
      "text/plain": [
       "Text(0.5, 1.0, 'Outputs')"
      ]
     },
     "execution_count": 26,
     "metadata": {},
     "output_type": "execute_result"
    },
    {
     "data": {
      "image/png": "[encoded data removed]",
      "text/plain": [
       "<Figure size 576x504 with 1 Axes>"
      ]
     },
     "metadata": {
      "needs_background": "light"
     },
     "output_type": "display_data"
    }
   ],
   "source": [
    "# Plotting the scatter plot of points and color coding by class\n",
    "plt.figure(figsize=(8,7))\n",
    "plt.scatter(testing_plot[:,0], testing_plot[:,1], alpha = 0.1, c = y_test.ravel());\n",
    "plt.title('Outputs')"
   ]
  },
  {
   "cell_type": "markdown",
   "id": "a74fcf8f",
   "metadata": {
    "papermill": {
     "duration": 0.044745,
     "end_time": "2022-07-27T20:13:13.301673",
     "exception": false,
     "start_time": "2022-07-27T20:13:13.256928",
     "status": "completed"
    },
    "tags": []
   },
   "source": [
    "Probability contours"
   ]
  },
  {
   "cell_type": "code",
   "execution_count": 27,
   "id": "d0afc8e3",
   "metadata": {
    "execution": {
     "iopub.execute_input": "2022-07-27T20:13:13.420557Z",
     "iopub.status.busy": "2022-07-27T20:13:13.418183Z",
     "iopub.status.idle": "2022-07-27T20:13:13.430045Z",
     "shell.execute_reply": "2022-07-27T20:13:13.429591Z"
    },
    "papermill": {
     "duration": 0.083477,
     "end_time": "2022-07-27T20:13:13.430150",
     "exception": false,
     "start_time": "2022-07-27T20:13:13.346673",
     "status": "completed"
    },
    "tags": []
   },
   "outputs": [],
   "source": [
    "model_prob = Model(layers[-2:]) "
   ]
  },
  {
   "cell_type": "code",
   "execution_count": 28,
   "id": "9b96e238",
   "metadata": {
    "execution": {
     "iopub.execute_input": "2022-07-27T20:13:13.524417Z",
     "iopub.status.busy": "2022-07-27T20:13:13.523845Z",
     "iopub.status.idle": "2022-07-27T20:13:13.538383Z",
     "shell.execute_reply": "2022-07-27T20:13:13.538810Z"
    },
    "papermill": {
     "duration": 0.063863,
     "end_time": "2022-07-27T20:13:13.538946",
     "exception": false,
     "start_time": "2022-07-27T20:13:13.475083",
     "status": "completed"
    },
    "tags": []
   },
   "outputs": [],
   "source": [
    "#creating the x and y ranges according to the above generated plot.\n",
    "x_range = np.linspace(-4, 1, 100) \n",
    "y_range = np.linspace(-6, 6, 100) \n",
    "x_grid, y_grid = np.meshgrid(x_range, y_range) # x_grid and y_grig are of size 100 X 100\n",
    "\n",
    "# converting x_grid and y_grid to continuous arrays\n",
    "x_gridflat = np.ravel(x_grid)\n",
    "y_gridflat = np.ravel(y_grid)\n",
    "\n",
    "# The last layer of the current model takes two columns as input. Hence transpose of np.vstack() is required.\n",
    "X = np.vstack((x_gridflat, y_gridflat)).T\n",
    "\n",
    "prob_contour = model_prob(X).reshape(100,100) "
   ]
  },
  {
   "cell_type": "code",
   "execution_count": 29,
   "id": "da72499a",
   "metadata": {
    "execution": {
     "iopub.execute_input": "2022-07-27T20:13:13.634637Z",
     "iopub.status.busy": "2022-07-27T20:13:13.634077Z",
     "iopub.status.idle": "2022-07-27T20:13:13.886829Z",
     "shell.execute_reply": "2022-07-27T20:13:13.886376Z"
    },
    "papermill": {
     "duration": 0.302469,
     "end_time": "2022-07-27T20:13:13.886941",
     "exception": false,
     "start_time": "2022-07-27T20:13:13.584472",
     "status": "completed"
    },
    "tags": []
   },
   "outputs": [
    {
     "data": {
      "image/png": "[encoded data removed]",
      "text/plain": [
       "<Figure size 720x648 with 1 Axes>"
      ]
     },
     "metadata": {
      "needs_background": "light"
     },
     "output_type": "display_data"
    }
   ],
   "source": [
    "plt.figure(figsize=(10,9))\n",
    "plt.scatter(testing_plot[:,0], testing_plot[:,1], alpha = 0.1, c = y_test.ravel())\n",
    "contours = plt.contour(x_grid,y_grid,prob_contour)\n",
    "plt.title('Probability Contours')\n",
    "plt.clabel(contours, inline = True );"
   ]
  },
  {
   "cell_type": "code",
   "execution_count": null,
   "id": "e81b4ac7",
   "metadata": {
    "papermill": {
     "duration": 0.04744,
     "end_time": "2022-07-27T20:13:13.982227",
     "exception": false,
     "start_time": "2022-07-27T20:13:13.934787",
     "status": "completed"
    },
    "tags": []
   },
   "outputs": [],
   "source": []
  }
 ],
 "metadata": {
  "kernelspec": {
   "display_name": "Python 3",
   "language": "python",
   "name": "python3"
  },
  "language_info": {
   "codemirror_mode": {
    "name": "ipython",
    "version": 3
   },
   "file_extension": ".py",
   "mimetype": "text/x-python",
   "name": "python",
   "nbconvert_exporter": "python",
   "pygments_lexer": "ipython3",
   "version": "3.6.15"
  },
  "papermill": {
   "default_parameters": {},
   "duration": 197.651448,
   "end_time": "2022-07-27T20:13:14.449288",
   "environment_variables": {},
   "exception": null,
   "input_path": "2020-08-11-part2.ipynb",
   "output_path": "2020-08-11-part2.ipynb",
   "parameters": {},
   "start_time": "2022-07-27T20:09:56.797840",
   "version": "2.3.3"
  }
 },
 "nbformat": 4,
 "nbformat_minor": 5
}