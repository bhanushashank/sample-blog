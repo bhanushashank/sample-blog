{
 "cells": [
  {
   "cell_type": "markdown",
   "id": "98380cd3",
   "metadata": {
    "papermill": {
     "duration": 0.027967,
     "end_time": "2021-09-30T20:06:43.854281",
     "exception": false,
     "start_time": "2021-09-30T20:06:43.826314",
     "status": "completed"
    },
    "tags": []
   },
   "source": [
    "# Distinguish Your Own Digits (DYOD)"
   ]
  },
  {
   "cell_type": "markdown",
   "id": "ef31240d",
   "metadata": {
    "papermill": {
     "duration": 0.02366,
     "end_time": "2021-09-30T20:06:43.902605",
     "exception": false,
     "start_time": "2021-09-30T20:06:43.878945",
     "status": "completed"
    },
    "tags": []
   },
   "source": [
    "You are going to write a classifier that distinguishes between the number 3 and number 8."
   ]
  },
  {
   "cell_type": "code",
   "execution_count": 1,
   "id": "b15c8646",
   "metadata": {
    "execution": {
     "iopub.execute_input": "2021-09-30T20:06:43.961714Z",
     "iopub.status.busy": "2021-09-30T20:06:43.958648Z",
     "iopub.status.idle": "2021-09-30T20:06:43.971763Z",
     "shell.execute_reply": "2021-09-30T20:06:43.971339Z"
    },
    "papermill": {
     "duration": 0.045533,
     "end_time": "2021-09-30T20:06:43.971890",
     "exception": false,
     "start_time": "2021-09-30T20:06:43.926357",
     "status": "completed"
    },
    "tags": []
   },
   "outputs": [],
   "source": [
    "%load_ext autoreload\n",
    "%autoreload 2"
   ]
  },
  {
   "cell_type": "code",
   "execution_count": 2,
   "id": "22ef38dc",
   "metadata": {
    "execution": {
     "iopub.execute_input": "2021-09-30T20:06:44.023533Z",
     "iopub.status.busy": "2021-09-30T20:06:44.023011Z",
     "iopub.status.idle": "2021-09-30T20:06:44.520443Z",
     "shell.execute_reply": "2021-09-30T20:06:44.519894Z"
    },
    "papermill": {
     "duration": 0.524587,
     "end_time": "2021-09-30T20:06:44.520576",
     "exception": false,
     "start_time": "2021-09-30T20:06:43.995989",
     "status": "completed"
    },
    "tags": []
   },
   "outputs": [],
   "source": [
    "%matplotlib inline\n",
    "import numpy as np\n",
    "import matplotlib.pyplot as plt\n",
    "import pandas as pd"
   ]
  },
  {
   "cell_type": "markdown",
   "id": "ba036198",
   "metadata": {
    "papermill": {
     "duration": 0.024033,
     "end_time": "2021-09-30T20:06:44.568784",
     "exception": false,
     "start_time": "2021-09-30T20:06:44.544751",
     "status": "completed"
    },
    "tags": []
   },
   "source": [
    "From the command line run `pip install mnist`. This is a library that will help you bring down the mnist dataset. If you run this from a notebook, you need to put  `!pip install mnist` in a cell by itself."
   ]
  },
  {
   "cell_type": "code",
   "execution_count": 3,
   "id": "bb6ad8a1",
   "metadata": {
    "execution": {
     "iopub.execute_input": "2021-09-30T20:06:44.621157Z",
     "iopub.status.busy": "2021-09-30T20:06:44.620639Z",
     "iopub.status.idle": "2021-09-30T20:06:46.293606Z",
     "shell.execute_reply": "2021-09-30T20:06:46.293089Z"
    },
    "papermill": {
     "duration": 1.700747,
     "end_time": "2021-09-30T20:06:46.293744",
     "exception": false,
     "start_time": "2021-09-30T20:06:44.592997",
     "status": "completed"
    },
    "tags": []
   },
   "outputs": [
    {
     "name": "stdout",
     "output_type": "stream",
     "text": [
      "Collecting mnist\r\n"
     ]
    },
    {
     "name": "stdout",
     "output_type": "stream",
     "text": [
      "  Downloading mnist-0.2.2-py2.py3-none-any.whl (3.5 kB)\r\n",
      "Requirement already satisfied: numpy in /opt/hostedtoolcache/Python/3.6.15/x64/lib/python3.6/site-packages (from mnist) (1.19.5)\r\n"
     ]
    },
    {
     "name": "stdout",
     "output_type": "stream",
     "text": [
      "Installing collected packages: mnist\r\n",
      "Successfully installed mnist-0.2.2\r\n"
     ]
    }
   ],
   "source": [
    "!pip install mnist"
   ]
  },
  {
   "cell_type": "markdown",
   "id": "69df9c9a",
   "metadata": {
    "papermill": {
     "duration": 0.025023,
     "end_time": "2021-09-30T20:06:46.343993",
     "exception": false,
     "start_time": "2021-09-30T20:06:46.318970",
     "status": "completed"
    },
    "tags": []
   },
   "source": [
    "## Preparing the Data"
   ]
  },
  {
   "cell_type": "code",
   "execution_count": 4,
   "id": "7f69d806",
   "metadata": {
    "execution": {
     "iopub.execute_input": "2021-09-30T20:06:46.397607Z",
     "iopub.status.busy": "2021-09-30T20:06:46.397099Z",
     "iopub.status.idle": "2021-09-30T20:06:46.411533Z",
     "shell.execute_reply": "2021-09-30T20:06:46.411086Z"
    },
    "papermill": {
     "duration": 0.042841,
     "end_time": "2021-09-30T20:06:46.411641",
     "exception": false,
     "start_time": "2021-09-30T20:06:46.368800",
     "status": "completed"
    },
    "tags": []
   },
   "outputs": [],
   "source": [
    "import mnist"
   ]
  },
  {
   "cell_type": "code",
   "execution_count": 5,
   "id": "a411e44f",
   "metadata": {
    "execution": {
     "iopub.execute_input": "2021-09-30T20:06:46.476215Z",
     "iopub.status.busy": "2021-09-30T20:06:46.472132Z",
     "iopub.status.idle": "2021-09-30T20:06:47.128755Z",
     "shell.execute_reply": "2021-09-30T20:06:47.127708Z"
    },
    "papermill": {
     "duration": 0.692427,
     "end_time": "2021-09-30T20:06:47.128891",
     "exception": false,
     "start_time": "2021-09-30T20:06:46.436464",
     "status": "completed"
    },
    "tags": []
   },
   "outputs": [],
   "source": [
    "train_images = mnist.train_images()\n",
    "train_labels = mnist.train_labels()"
   ]
  },
  {
   "cell_type": "code",
   "execution_count": 6,
   "id": "dceab3a5",
   "metadata": {
    "execution": {
     "iopub.execute_input": "2021-09-30T20:06:47.185318Z",
     "iopub.status.busy": "2021-09-30T20:06:47.183633Z",
     "iopub.status.idle": "2021-09-30T20:06:47.196808Z",
     "shell.execute_reply": "2021-09-30T20:06:47.196378Z"
    },
    "papermill": {
     "duration": 0.043088,
     "end_time": "2021-09-30T20:06:47.196921",
     "exception": false,
     "start_time": "2021-09-30T20:06:47.153833",
     "status": "completed"
    },
    "tags": []
   },
   "outputs": [
    {
     "data": {
      "text/plain": [
       "((60000, 28, 28), (60000,))"
      ]
     },
     "execution_count": 6,
     "metadata": {},
     "output_type": "execute_result"
    }
   ],
   "source": [
    "train_images.shape, train_labels.shape"
   ]
  },
  {
   "cell_type": "code",
   "execution_count": 7,
   "id": "f50dc2bb",
   "metadata": {
    "execution": {
     "iopub.execute_input": "2021-09-30T20:06:47.250834Z",
     "iopub.status.busy": "2021-09-30T20:06:47.250286Z",
     "iopub.status.idle": "2021-09-30T20:06:47.479987Z",
     "shell.execute_reply": "2021-09-30T20:06:47.480456Z"
    },
    "papermill": {
     "duration": 0.258702,
     "end_time": "2021-09-30T20:06:47.480617",
     "exception": false,
     "start_time": "2021-09-30T20:06:47.221915",
     "status": "completed"
    },
    "tags": []
   },
   "outputs": [],
   "source": [
    "test_images = mnist.test_images()\n",
    "test_labels = mnist.test_labels()"
   ]
  },
  {
   "cell_type": "code",
   "execution_count": 8,
   "id": "fc38cf1b",
   "metadata": {
    "execution": {
     "iopub.execute_input": "2021-09-30T20:06:47.536082Z",
     "iopub.status.busy": "2021-09-30T20:06:47.535563Z",
     "iopub.status.idle": "2021-09-30T20:06:47.549327Z",
     "shell.execute_reply": "2021-09-30T20:06:47.548882Z"
    },
    "papermill": {
     "duration": 0.042135,
     "end_time": "2021-09-30T20:06:47.549442",
     "exception": false,
     "start_time": "2021-09-30T20:06:47.507307",
     "status": "completed"
    },
    "tags": []
   },
   "outputs": [
    {
     "data": {
      "text/plain": [
       "((10000, 28, 28), (10000,))"
      ]
     },
     "execution_count": 8,
     "metadata": {},
     "output_type": "execute_result"
    }
   ],
   "source": [
    "test_images.shape, test_labels.shape"
   ]
  },
  {
   "cell_type": "code",
   "execution_count": 9,
   "id": "f9ed8fe0",
   "metadata": {
    "execution": {
     "iopub.execute_input": "2021-09-30T20:06:47.631053Z",
     "iopub.status.busy": "2021-09-30T20:06:47.615567Z",
     "iopub.status.idle": "2021-09-30T20:06:47.745410Z",
     "shell.execute_reply": "2021-09-30T20:06:47.745807Z"
    },
    "papermill": {
     "duration": 0.171116,
     "end_time": "2021-09-30T20:06:47.745949",
     "exception": false,
     "start_time": "2021-09-30T20:06:47.574833",
     "status": "completed"
    },
    "tags": []
   },
   "outputs": [
    {
     "name": "stdout",
     "output_type": "stream",
     "text": [
      "2\n"
     ]
    },
    {
     "data": {
      "text/plain": [
       "<matplotlib.image.AxesImage at 0x7f5fd1125908>"
      ]
     },
     "execution_count": 9,
     "metadata": {},
     "output_type": "execute_result"
    },
    {
     "data": {
      "image/png": "[encoded data removed]",
      "text/plain": [
       "<Figure size 432x288 with 1 Axes>"
      ]
     },
     "metadata": {
      "needs_background": "light"
     },
     "output_type": "display_data"
    }
   ],
   "source": [
    "image_index = 7776 # You may select anything up to 60,000\n",
    "print(train_labels[image_index]) \n",
    "plt.imshow(train_images[image_index], cmap='Greys')"
   ]
  },
  {
   "cell_type": "markdown",
   "id": "a8d2388d",
   "metadata": {
    "papermill": {
     "duration": 0.026606,
     "end_time": "2021-09-30T20:06:47.799178",
     "exception": false,
     "start_time": "2021-09-30T20:06:47.772572",
     "status": "completed"
    },
    "tags": []
   },
   "source": [
    "## Filter data to get 3 and 8 out"
   ]
  },
  {
   "cell_type": "code",
   "execution_count": 10,
   "id": "776f7fc7",
   "metadata": {
    "execution": {
     "iopub.execute_input": "2021-09-30T20:06:47.856988Z",
     "iopub.status.busy": "2021-09-30T20:06:47.856461Z",
     "iopub.status.idle": "2021-09-30T20:06:47.873180Z",
     "shell.execute_reply": "2021-09-30T20:06:47.873598Z"
    },
    "papermill": {
     "duration": 0.048228,
     "end_time": "2021-09-30T20:06:47.873733",
     "exception": false,
     "start_time": "2021-09-30T20:06:47.825505",
     "status": "completed"
    },
    "tags": []
   },
   "outputs": [],
   "source": [
    "train_filter = np.where((train_labels == 3 ) | (train_labels == 8))\n",
    "test_filter = np.where((test_labels == 3) | (test_labels == 8))\n",
    "X_train, y_train = train_images[train_filter], train_labels[train_filter]\n",
    "X_test, y_test = test_images[test_filter], test_labels[test_filter]"
   ]
  },
  {
   "cell_type": "markdown",
   "id": "948f0b7e",
   "metadata": {
    "papermill": {
     "duration": 0.026295,
     "end_time": "2021-09-30T20:06:47.926497",
     "exception": false,
     "start_time": "2021-09-30T20:06:47.900202",
     "status": "completed"
    },
    "tags": []
   },
   "source": [
    "We normalize the pizel values in the 0 to 1 range"
   ]
  },
  {
   "cell_type": "code",
   "execution_count": 11,
   "id": "ee4c2166",
   "metadata": {
    "execution": {
     "iopub.execute_input": "2021-09-30T20:06:47.982409Z",
     "iopub.status.busy": "2021-09-30T20:06:47.981890Z",
     "iopub.status.idle": "2021-09-30T20:06:48.029942Z",
     "shell.execute_reply": "2021-09-30T20:06:48.029402Z"
    },
    "papermill": {
     "duration": 0.077401,
     "end_time": "2021-09-30T20:06:48.030078",
     "exception": false,
     "start_time": "2021-09-30T20:06:47.952677",
     "status": "completed"
    },
    "tags": []
   },
   "outputs": [],
   "source": [
    "X_train = X_train/255.\n",
    "X_test = X_test/255."
   ]
  },
  {
   "cell_type": "markdown",
   "id": "ddcf4fab",
   "metadata": {
    "papermill": {
     "duration": 0.026823,
     "end_time": "2021-09-30T20:06:48.083754",
     "exception": false,
     "start_time": "2021-09-30T20:06:48.056931",
     "status": "completed"
    },
    "tags": []
   },
   "source": [
    "And setup the labels as 1 (when the digit is 3) and 0 (when the digit is 8)"
   ]
  },
  {
   "cell_type": "code",
   "execution_count": 12,
   "id": "7dc908f2",
   "metadata": {
    "execution": {
     "iopub.execute_input": "2021-09-30T20:06:48.144855Z",
     "iopub.status.busy": "2021-09-30T20:06:48.144321Z",
     "iopub.status.idle": "2021-09-30T20:06:48.153870Z",
     "shell.execute_reply": "2021-09-30T20:06:48.153437Z"
    },
    "papermill": {
     "duration": 0.043842,
     "end_time": "2021-09-30T20:06:48.153994",
     "exception": false,
     "start_time": "2021-09-30T20:06:48.110152",
     "status": "completed"
    },
    "tags": []
   },
   "outputs": [],
   "source": [
    "y_train = 1*(y_train==3)\n",
    "y_test = 1*(y_test==3)"
   ]
  },
  {
   "cell_type": "code",
   "execution_count": 13,
   "id": "01e4e969",
   "metadata": {
    "execution": {
     "iopub.execute_input": "2021-09-30T20:06:48.210430Z",
     "iopub.status.busy": "2021-09-30T20:06:48.209920Z",
     "iopub.status.idle": "2021-09-30T20:06:48.223210Z",
     "shell.execute_reply": "2021-09-30T20:06:48.222785Z"
    },
    "papermill": {
     "duration": 0.042765,
     "end_time": "2021-09-30T20:06:48.223326",
     "exception": false,
     "start_time": "2021-09-30T20:06:48.180561",
     "status": "completed"
    },
    "tags": []
   },
   "outputs": [
    {
     "data": {
      "text/plain": [
       "((11982, 28, 28), (1984, 28, 28))"
      ]
     },
     "execution_count": 13,
     "metadata": {},
     "output_type": "execute_result"
    }
   ],
   "source": [
    "X_train.shape, X_test.shape"
   ]
  },
  {
   "cell_type": "markdown",
   "id": "5ccf3f85",
   "metadata": {
    "papermill": {
     "duration": 0.026318,
     "end_time": "2021-09-30T20:06:48.276150",
     "exception": false,
     "start_time": "2021-09-30T20:06:48.249832",
     "status": "completed"
    },
    "tags": []
   },
   "source": [
    "We reshape the data to flatten the image pixels into a set of features or co-variates:"
   ]
  },
  {
   "cell_type": "code",
   "execution_count": 14,
   "id": "5286a4a3",
   "metadata": {
    "execution": {
     "iopub.execute_input": "2021-09-30T20:06:48.332881Z",
     "iopub.status.busy": "2021-09-30T20:06:48.332373Z",
     "iopub.status.idle": "2021-09-30T20:06:48.345692Z",
     "shell.execute_reply": "2021-09-30T20:06:48.345289Z"
    },
    "papermill": {
     "duration": 0.043171,
     "end_time": "2021-09-30T20:06:48.345805",
     "exception": false,
     "start_time": "2021-09-30T20:06:48.302634",
     "status": "completed"
    },
    "tags": []
   },
   "outputs": [
    {
     "data": {
      "text/plain": [
       "((11982, 784), (1984, 784))"
      ]
     },
     "execution_count": 14,
     "metadata": {},
     "output_type": "execute_result"
    }
   ],
   "source": [
    "X_train = X_train.reshape(X_train.shape[0], -1)\n",
    "X_test = X_test.reshape(X_test.shape[0], -1)\n",
    "X_train.shape, X_test.shape"
   ]
  },
  {
   "cell_type": "code",
   "execution_count": 15,
   "id": "73c5f88a",
   "metadata": {
    "execution": {
     "iopub.execute_input": "2021-09-30T20:06:48.403717Z",
     "iopub.status.busy": "2021-09-30T20:06:48.403199Z",
     "iopub.status.idle": "2021-09-30T20:06:48.421348Z",
     "shell.execute_reply": "2021-09-30T20:06:48.420913Z"
    },
    "papermill": {
     "duration": 0.048805,
     "end_time": "2021-09-30T20:06:48.421460",
     "exception": false,
     "start_time": "2021-09-30T20:06:48.372655",
     "status": "completed"
    },
    "tags": []
   },
   "outputs": [],
   "source": [
    "#Impoting functions from 'Kudzu'\n",
    "from kudzu.model import Model\n",
    "from kudzu.train import Learner\n",
    "from kudzu.optim import GD\n",
    "from kudzu.data import Data, Sampler,Dataloader\n",
    "\n",
    "from kudzu.callbacks import AccCallback\n",
    "from kudzu.callbacks import ClfCallback\n",
    "\n",
    "from kudzu.loss import MSE\n",
    "\n",
    "from kudzu.layer import Sigmoid,Relu\n",
    "from kudzu.layer import Affine"
   ]
  },
  {
   "cell_type": "markdown",
   "id": "bc01172a",
   "metadata": {
    "papermill": {
     "duration": 0.026727,
     "end_time": "2021-09-30T20:06:48.475278",
     "exception": false,
     "start_time": "2021-09-30T20:06:48.448551",
     "status": "completed"
    },
    "tags": []
   },
   "source": [
    "### Let us create a `Config` class, to store important parameters. \n",
    "This class essentially plays the role of a dictionary."
   ]
  },
  {
   "cell_type": "code",
   "execution_count": 16,
   "id": "978281aa",
   "metadata": {
    "execution": {
     "iopub.execute_input": "2021-09-30T20:06:48.544355Z",
     "iopub.status.busy": "2021-09-30T20:06:48.538143Z",
     "iopub.status.idle": "2021-09-30T20:06:48.546133Z",
     "shell.execute_reply": "2021-09-30T20:06:48.546542Z"
    },
    "papermill": {
     "duration": 0.044789,
     "end_time": "2021-09-30T20:06:48.546672",
     "exception": false,
     "start_time": "2021-09-30T20:06:48.501883",
     "status": "completed"
    },
    "tags": []
   },
   "outputs": [],
   "source": [
    "class Config:\n",
    "    pass\n",
    "config = Config()\n",
    "config.lr = 0.001\n",
    "config.num_epochs = 250\n",
    "config.bs = 50"
   ]
  },
  {
   "cell_type": "markdown",
   "id": "1385fa59",
   "metadata": {
    "papermill": {
     "duration": 0.026941,
     "end_time": "2021-09-30T20:06:48.600568",
     "exception": false,
     "start_time": "2021-09-30T20:06:48.573627",
     "status": "completed"
    },
    "tags": []
   },
   "source": [
    "### Running Models with the Training data\n",
    "Details about the network layers:\n",
    "- A first affine layer has 784 inputs and does 100 affine transforms. These are followed by a Relu\n",
    "- A second affine layer has 100 inputs from the 100 activations of the past layer, and does 100 affine transforms. These are followed by a Relu\n",
    "- A third affine layer has 100 activations and does 2 affine transformations to create an embedding for visualization. There is no non-linearity here.\n",
    "- A final \"logistic regression\" which has an affine transform from 2 inputs to 1 output, which is squeezed through a sigmoid.\n"
   ]
  },
  {
   "cell_type": "code",
   "execution_count": 17,
   "id": "2b9c66db",
   "metadata": {
    "execution": {
     "iopub.execute_input": "2021-09-30T20:06:48.670388Z",
     "iopub.status.busy": "2021-09-30T20:06:48.663548Z",
     "iopub.status.idle": "2021-09-30T20:06:48.672995Z",
     "shell.execute_reply": "2021-09-30T20:06:48.673483Z"
    },
    "papermill": {
     "duration": 0.046165,
     "end_time": "2021-09-30T20:06:48.673614",
     "exception": false,
     "start_time": "2021-09-30T20:06:48.627449",
     "status": "completed"
    },
    "tags": []
   },
   "outputs": [],
   "source": [
    "data = Data(X_train, y_train.reshape(-1,1))\n",
    "sampler = Sampler(data, config.bs, shuffle=True)\n",
    "\n",
    "dl = Dataloader(data, sampler)\n",
    "\n",
    "opt = GD(config.lr)\n",
    "loss = MSE()"
   ]
  },
  {
   "cell_type": "code",
   "execution_count": 18,
   "id": "b275e4c2",
   "metadata": {
    "execution": {
     "iopub.execute_input": "2021-09-30T20:06:48.731621Z",
     "iopub.status.busy": "2021-09-30T20:06:48.731093Z",
     "iopub.status.idle": "2021-09-30T20:06:48.742460Z",
     "shell.execute_reply": "2021-09-30T20:06:48.742043Z"
    },
    "papermill": {
     "duration": 0.041809,
     "end_time": "2021-09-30T20:06:48.742579",
     "exception": false,
     "start_time": "2021-09-30T20:06:48.700770",
     "status": "completed"
    },
    "tags": []
   },
   "outputs": [],
   "source": [
    "training_data_x = X_train\n",
    "testing_data_x = X_test\n",
    "training_data_y = y_train.reshape(-1,1)\n",
    "testing_data_y = y_test.reshape(-1,1)"
   ]
  },
  {
   "cell_type": "code",
   "execution_count": 19,
   "id": "76951160",
   "metadata": {
    "execution": {
     "iopub.execute_input": "2021-09-30T20:06:48.802195Z",
     "iopub.status.busy": "2021-09-30T20:06:48.801676Z",
     "iopub.status.idle": "2021-09-30T20:06:48.815979Z",
     "shell.execute_reply": "2021-09-30T20:06:48.816413Z"
    },
    "papermill": {
     "duration": 0.04711,
     "end_time": "2021-09-30T20:06:48.816546",
     "exception": false,
     "start_time": "2021-09-30T20:06:48.769436",
     "status": "completed"
    },
    "tags": []
   },
   "outputs": [
    {
     "name": "stdout",
     "output_type": "stream",
     "text": [
      "xavier\n",
      "xavier\n",
      "xavier\n",
      "xavier\n",
      "xavier\n"
     ]
    }
   ],
   "source": [
    "layers = [Affine(\"first\", 784, 100), Relu(\"first\"), Affine(\"second\", 100, 100), Relu(\"second\"), Affine(\"third\", 100, 2), Affine(\"last\", 2, 1), Sigmoid(\"last\")]\n",
    "model_nn = Model(layers)\n",
    "model_lr = Model([Affine(\"logits\", 784, 1), Sigmoid(\"sigmoid\")])"
   ]
  },
  {
   "cell_type": "code",
   "execution_count": 20,
   "id": "6eede77a",
   "metadata": {
    "execution": {
     "iopub.execute_input": "2021-09-30T20:06:48.887199Z",
     "iopub.status.busy": "2021-09-30T20:06:48.880840Z",
     "iopub.status.idle": "2021-09-30T20:06:48.889512Z",
     "shell.execute_reply": "2021-09-30T20:06:48.889096Z"
    },
    "papermill": {
     "duration": 0.045539,
     "end_time": "2021-09-30T20:06:48.889630",
     "exception": false,
     "start_time": "2021-09-30T20:06:48.844091",
     "status": "completed"
    },
    "tags": []
   },
   "outputs": [],
   "source": [
    "nn_learner = Learner(loss, model_nn, opt, config.num_epochs)\n",
    "acc_nn = ClfCallback(nn_learner, config.bs, training_data_x , testing_data_x, training_data_y, testing_data_y)\n",
    "nn_learner.set_callbacks([acc_nn])"
   ]
  },
  {
   "cell_type": "code",
   "execution_count": 21,
   "id": "877b6cc7",
   "metadata": {
    "execution": {
     "iopub.execute_input": "2021-09-30T20:06:48.955625Z",
     "iopub.status.busy": "2021-09-30T20:06:48.955076Z",
     "iopub.status.idle": "2021-09-30T20:06:48.962783Z",
     "shell.execute_reply": "2021-09-30T20:06:48.962349Z"
    },
    "papermill": {
     "duration": 0.045949,
     "end_time": "2021-09-30T20:06:48.962906",
     "exception": false,
     "start_time": "2021-09-30T20:06:48.916957",
     "status": "completed"
    },
    "tags": []
   },
   "outputs": [],
   "source": [
    "lr_learner = Learner(loss, model_lr, opt, config.num_epochs)\n",
    "acc_lr = ClfCallback(lr_learner, config.bs, training_data_x , testing_data_x, training_data_y, testing_data_y)\n",
    "lr_learner.set_callbacks([acc_lr])"
   ]
  },
  {
   "cell_type": "code",
   "execution_count": 22,
   "id": "d9b133c3",
   "metadata": {
    "execution": {
     "iopub.execute_input": "2021-09-30T20:06:49.024066Z",
     "iopub.status.busy": "2021-09-30T20:06:49.023544Z",
     "iopub.status.idle": "2021-09-30T20:08:04.149392Z",
     "shell.execute_reply": "2021-09-30T20:08:04.150135Z"
    },
    "papermill": {
     "duration": 75.160133,
     "end_time": "2021-09-30T20:08:04.150283",
     "exception": false,
     "start_time": "2021-09-30T20:06:48.990150",
     "status": "completed"
    },
    "tags": []
   },
   "outputs": [
    {
     "name": "stdout",
     "output_type": "stream",
     "text": [
      "Epoch 0, Loss 0.2496\n",
      "Training Accuracy: 0.5695, Testing Accuracy: 0.5917\n",
      "\n"
     ]
    },
    {
     "name": "stdout",
     "output_type": "stream",
     "text": [
      "Epoch 10, Loss 0.1755\n",
      "Training Accuracy: 0.8879, Testing Accuracy: 0.9118\n",
      "\n"
     ]
    },
    {
     "name": "stdout",
     "output_type": "stream",
     "text": [
      "Epoch 20, Loss 0.0855\n",
      "Training Accuracy: 0.9190, Testing Accuracy: 0.9330\n",
      "\n"
     ]
    },
    {
     "name": "stdout",
     "output_type": "stream",
     "text": [
      "Epoch 30, Loss 0.0575\n",
      "Training Accuracy: 0.9391, Testing Accuracy: 0.9526\n",
      "\n"
     ]
    },
    {
     "name": "stdout",
     "output_type": "stream",
     "text": [
      "Epoch 40, Loss 0.0463\n",
      "Training Accuracy: 0.9463, Testing Accuracy: 0.9622\n",
      "\n"
     ]
    },
    {
     "name": "stdout",
     "output_type": "stream",
     "text": [
      "Epoch 50, Loss 0.0404\n",
      "Training Accuracy: 0.9528, Testing Accuracy: 0.9667\n",
      "\n"
     ]
    },
    {
     "name": "stdout",
     "output_type": "stream",
     "text": [
      "Epoch 60, Loss 0.0368\n",
      "Training Accuracy: 0.9564, Testing Accuracy: 0.9682\n",
      "\n"
     ]
    },
    {
     "name": "stdout",
     "output_type": "stream",
     "text": [
      "Epoch 70, Loss 0.0342\n",
      "Training Accuracy: 0.9594, Testing Accuracy: 0.9688\n",
      "\n"
     ]
    },
    {
     "name": "stdout",
     "output_type": "stream",
     "text": [
      "Epoch 80, Loss 0.0324\n",
      "Training Accuracy: 0.9614, Testing Accuracy: 0.9688\n",
      "\n"
     ]
    },
    {
     "name": "stdout",
     "output_type": "stream",
     "text": [
      "Epoch 90, Loss 0.0309\n",
      "Training Accuracy: 0.9631, Testing Accuracy: 0.9698\n",
      "\n"
     ]
    },
    {
     "name": "stdout",
     "output_type": "stream",
     "text": [
      "Epoch 100, Loss 0.0296\n",
      "Training Accuracy: 0.9646, Testing Accuracy: 0.9703\n",
      "\n"
     ]
    },
    {
     "name": "stdout",
     "output_type": "stream",
     "text": [
      "Epoch 110, Loss 0.0286\n",
      "Training Accuracy: 0.9654, Testing Accuracy: 0.9693\n",
      "\n"
     ]
    },
    {
     "name": "stdout",
     "output_type": "stream",
     "text": [
      "Epoch 120, Loss 0.0277\n",
      "Training Accuracy: 0.9670, Testing Accuracy: 0.9703\n",
      "\n"
     ]
    },
    {
     "name": "stdout",
     "output_type": "stream",
     "text": [
      "Epoch 130, Loss 0.0269\n",
      "Training Accuracy: 0.9680, Testing Accuracy: 0.9708\n",
      "\n"
     ]
    },
    {
     "name": "stdout",
     "output_type": "stream",
     "text": [
      "Epoch 140, Loss 0.0262\n",
      "Training Accuracy: 0.9695, Testing Accuracy: 0.9708\n",
      "\n"
     ]
    },
    {
     "name": "stdout",
     "output_type": "stream",
     "text": [
      "Epoch 150, Loss 0.0256\n",
      "Training Accuracy: 0.9700, Testing Accuracy: 0.9708\n",
      "\n"
     ]
    },
    {
     "name": "stdout",
     "output_type": "stream",
     "text": [
      "Epoch 160, Loss 0.025\n",
      "Training Accuracy: 0.9708, Testing Accuracy: 0.9708\n",
      "\n"
     ]
    },
    {
     "name": "stdout",
     "output_type": "stream",
     "text": [
      "Epoch 170, Loss 0.0244\n",
      "Training Accuracy: 0.9712, Testing Accuracy: 0.9713\n",
      "\n"
     ]
    },
    {
     "name": "stdout",
     "output_type": "stream",
     "text": [
      "Epoch 180, Loss 0.024\n",
      "Training Accuracy: 0.9722, Testing Accuracy: 0.9713\n",
      "\n"
     ]
    },
    {
     "name": "stdout",
     "output_type": "stream",
     "text": [
      "Epoch 190, Loss 0.0235\n",
      "Training Accuracy: 0.9722, Testing Accuracy: 0.9718\n",
      "\n"
     ]
    },
    {
     "name": "stdout",
     "output_type": "stream",
     "text": [
      "Epoch 200, Loss 0.0231\n",
      "Training Accuracy: 0.9725, Testing Accuracy: 0.9713\n",
      "\n"
     ]
    },
    {
     "name": "stdout",
     "output_type": "stream",
     "text": [
      "Epoch 210, Loss 0.0226\n",
      "Training Accuracy: 0.9728, Testing Accuracy: 0.9708\n",
      "\n"
     ]
    },
    {
     "name": "stdout",
     "output_type": "stream",
     "text": [
      "Epoch 220, Loss 0.0223\n",
      "Training Accuracy: 0.9736, Testing Accuracy: 0.9708\n",
      "\n"
     ]
    },
    {
     "name": "stdout",
     "output_type": "stream",
     "text": [
      "Epoch 230, Loss 0.0219\n",
      "Training Accuracy: 0.9742, Testing Accuracy: 0.9703\n",
      "\n"
     ]
    },
    {
     "name": "stdout",
     "output_type": "stream",
     "text": [
      "Epoch 240, Loss 0.0215\n",
      "Training Accuracy: 0.9742, Testing Accuracy: 0.9703\n",
      "\n"
     ]
    },
    {
     "data": {
      "text/plain": [
       "0.07082492540702398"
      ]
     },
     "execution_count": 22,
     "metadata": {},
     "output_type": "execute_result"
    }
   ],
   "source": [
    "nn_learner.train_loop(dl)"
   ]
  },
  {
   "cell_type": "code",
   "execution_count": 23,
   "id": "e0163366",
   "metadata": {
    "execution": {
     "iopub.execute_input": "2021-09-30T20:08:04.228718Z",
     "iopub.status.busy": "2021-09-30T20:08:04.228181Z",
     "iopub.status.idle": "2021-09-30T20:08:17.825028Z",
     "shell.execute_reply": "2021-09-30T20:08:17.825767Z"
    },
    "papermill": {
     "duration": 13.640869,
     "end_time": "2021-09-30T20:08:17.825918",
     "exception": false,
     "start_time": "2021-09-30T20:08:04.185049",
     "status": "completed"
    },
    "tags": []
   },
   "outputs": [
    {
     "name": "stdout",
     "output_type": "stream",
     "text": [
      "Epoch 0, Loss 0.2335\n",
      "Training Accuracy: 0.6843, Testing Accuracy: 0.6951\n",
      "\n"
     ]
    },
    {
     "name": "stdout",
     "output_type": "stream",
     "text": [
      "Epoch 10, Loss 0.1029\n",
      "Training Accuracy: 0.9108, Testing Accuracy: 0.9199\n",
      "\n"
     ]
    },
    {
     "name": "stdout",
     "output_type": "stream",
     "text": [
      "Epoch 20, Loss 0.0787\n",
      "Training Accuracy: 0.9291, Testing Accuracy: 0.9446\n",
      "\n"
     ]
    },
    {
     "name": "stdout",
     "output_type": "stream",
     "text": [
      "Epoch 30, Loss 0.0677\n",
      "Training Accuracy: 0.9387, Testing Accuracy: 0.9491\n",
      "\n"
     ]
    },
    {
     "name": "stdout",
     "output_type": "stream",
     "text": [
      "Epoch 40, Loss 0.0611\n",
      "Training Accuracy: 0.9427, Testing Accuracy: 0.9546\n",
      "\n"
     ]
    },
    {
     "name": "stdout",
     "output_type": "stream",
     "text": [
      "Epoch 50, Loss 0.0567\n",
      "Training Accuracy: 0.9454, Testing Accuracy: 0.9577\n",
      "\n"
     ]
    },
    {
     "name": "stdout",
     "output_type": "stream",
     "text": [
      "Epoch 60, Loss 0.0534\n",
      "Training Accuracy: 0.9478, Testing Accuracy: 0.9577\n",
      "\n"
     ]
    },
    {
     "name": "stdout",
     "output_type": "stream",
     "text": [
      "Epoch 70, Loss 0.0509\n",
      "Training Accuracy: 0.9500, Testing Accuracy: 0.9602\n",
      "\n"
     ]
    },
    {
     "name": "stdout",
     "output_type": "stream",
     "text": [
      "Epoch 80, Loss 0.0489\n",
      "Training Accuracy: 0.9511, Testing Accuracy: 0.9617\n",
      "\n"
     ]
    },
    {
     "name": "stdout",
     "output_type": "stream",
     "text": [
      "Epoch 90, Loss 0.0473\n",
      "Training Accuracy: 0.9518, Testing Accuracy: 0.9632\n",
      "\n"
     ]
    },
    {
     "name": "stdout",
     "output_type": "stream",
     "text": [
      "Epoch 100, Loss 0.0459\n",
      "Training Accuracy: 0.9531, Testing Accuracy: 0.9642\n",
      "\n"
     ]
    },
    {
     "name": "stdout",
     "output_type": "stream",
     "text": [
      "Epoch 110, Loss 0.0447\n",
      "Training Accuracy: 0.9548, Testing Accuracy: 0.9657\n",
      "\n"
     ]
    },
    {
     "name": "stdout",
     "output_type": "stream",
     "text": [
      "Epoch 120, Loss 0.0437\n",
      "Training Accuracy: 0.9553, Testing Accuracy: 0.9657\n",
      "\n"
     ]
    },
    {
     "name": "stdout",
     "output_type": "stream",
     "text": [
      "Epoch 130, Loss 0.0428\n",
      "Training Accuracy: 0.9557, Testing Accuracy: 0.9662\n",
      "\n"
     ]
    },
    {
     "name": "stdout",
     "output_type": "stream",
     "text": [
      "Epoch 140, Loss 0.0419\n",
      "Training Accuracy: 0.9557, Testing Accuracy: 0.9662\n",
      "\n"
     ]
    },
    {
     "name": "stdout",
     "output_type": "stream",
     "text": [
      "Epoch 150, Loss 0.0412\n",
      "Training Accuracy: 0.9561, Testing Accuracy: 0.9672\n",
      "\n"
     ]
    },
    {
     "name": "stdout",
     "output_type": "stream",
     "text": [
      "Epoch 160, Loss 0.0406\n",
      "Training Accuracy: 0.9569, Testing Accuracy: 0.9672\n",
      "\n"
     ]
    },
    {
     "name": "stdout",
     "output_type": "stream",
     "text": [
      "Epoch 170, Loss 0.04\n",
      "Training Accuracy: 0.9574, Testing Accuracy: 0.9677\n",
      "\n"
     ]
    },
    {
     "name": "stdout",
     "output_type": "stream",
     "text": [
      "Epoch 180, Loss 0.0394\n",
      "Training Accuracy: 0.9579, Testing Accuracy: 0.9677\n",
      "\n"
     ]
    },
    {
     "name": "stdout",
     "output_type": "stream",
     "text": [
      "Epoch 190, Loss 0.0389\n",
      "Training Accuracy: 0.9581, Testing Accuracy: 0.9682\n",
      "\n"
     ]
    },
    {
     "name": "stdout",
     "output_type": "stream",
     "text": [
      "Epoch 200, Loss 0.0384\n",
      "Training Accuracy: 0.9587, Testing Accuracy: 0.9682\n",
      "\n"
     ]
    },
    {
     "name": "stdout",
     "output_type": "stream",
     "text": [
      "Epoch 210, Loss 0.038\n",
      "Training Accuracy: 0.9594, Testing Accuracy: 0.9682\n",
      "\n"
     ]
    },
    {
     "name": "stdout",
     "output_type": "stream",
     "text": [
      "Epoch 220, Loss 0.0376\n",
      "Training Accuracy: 0.9592, Testing Accuracy: 0.9682\n",
      "\n"
     ]
    },
    {
     "name": "stdout",
     "output_type": "stream",
     "text": [
      "Epoch 230, Loss 0.0372\n",
      "Training Accuracy: 0.9597, Testing Accuracy: 0.9688\n",
      "\n"
     ]
    },
    {
     "name": "stdout",
     "output_type": "stream",
     "text": [
      "Epoch 240, Loss 0.0369\n",
      "Training Accuracy: 0.9598, Testing Accuracy: 0.9693\n",
      "\n"
     ]
    },
    {
     "data": {
      "text/plain": [
       "0.02379306551022754"
      ]
     },
     "execution_count": 23,
     "metadata": {},
     "output_type": "execute_result"
    }
   ],
   "source": [
    "lr_learner.train_loop(dl)"
   ]
  },
  {
   "cell_type": "code",
   "execution_count": 24,
   "id": "ca410940",
   "metadata": {
    "execution": {
     "iopub.execute_input": "2021-09-30T20:08:17.924305Z",
     "iopub.status.busy": "2021-09-30T20:08:17.923770Z",
     "iopub.status.idle": "2021-09-30T20:08:18.155335Z",
     "shell.execute_reply": "2021-09-30T20:08:18.155736Z"
    },
    "papermill": {
     "duration": 0.289036,
     "end_time": "2021-09-30T20:08:18.155879",
     "exception": false,
     "start_time": "2021-09-30T20:08:17.866843",
     "status": "completed"
    },
    "tags": []
   },
   "outputs": [
    {
     "data": {
      "text/plain": [
       "<matplotlib.legend.Legend at 0x7f5fd0c87940>"
      ]
     },
     "execution_count": 24,
     "metadata": {},
     "output_type": "execute_result"
    },
    {
     "data": {
      "image/png": "[encoded data removed]",
      "text/plain": [
       "<Figure size 1080x720 with 1 Axes>"
      ]
     },
     "metadata": {
      "needs_background": "light"
     },
     "output_type": "display_data"
    }
   ],
   "source": [
    "#comparing the results of NN and LR\n",
    "plt.figure(figsize=(15,10))\n",
    "\n",
    "# Neural Network plots\n",
    "plt.plot(acc_nn.accuracies, 'r-', label = \"Training Accuracies - NN\")\n",
    "plt.plot(acc_nn.test_accuracies, 'g-', label = \"Testing Accuracies - NN\")\n",
    "\n",
    "# Logistic Regression plots\n",
    "plt.plot(acc_lr.accuracies, 'k-', label = \"Training Accuracies - LR\")\n",
    "plt.plot(acc_lr.test_accuracies, 'b-', label = \"Testing Accuracies - LR\")\n",
    "plt.legend()"
   ]
  },
  {
   "cell_type": "markdown",
   "id": "80dfb35c",
   "metadata": {
    "papermill": {
     "duration": 0.04156,
     "end_time": "2021-09-30T20:08:18.239644",
     "exception": false,
     "start_time": "2021-09-30T20:08:18.198084",
     "status": "completed"
    },
    "tags": []
   },
   "source": [
    "#### Plotting the outputs of this layer of the NN.\n"
   ]
  },
  {
   "cell_type": "code",
   "execution_count": 25,
   "id": "45eb2ff5",
   "metadata": {
    "execution": {
     "iopub.execute_input": "2021-09-30T20:08:18.327322Z",
     "iopub.status.busy": "2021-09-30T20:08:18.326772Z",
     "iopub.status.idle": "2021-09-30T20:08:18.346557Z",
     "shell.execute_reply": "2021-09-30T20:08:18.347012Z"
    },
    "papermill": {
     "duration": 0.065828,
     "end_time": "2021-09-30T20:08:18.347154",
     "exception": false,
     "start_time": "2021-09-30T20:08:18.281326",
     "status": "completed"
    },
    "tags": []
   },
   "outputs": [],
   "source": [
    "new_model = Model(layers[:-2])\n",
    "testing_plot = new_model(testing_data_x)"
   ]
  },
  {
   "cell_type": "code",
   "execution_count": 26,
   "id": "4c0a5485",
   "metadata": {
    "execution": {
     "iopub.execute_input": "2021-09-30T20:08:18.447920Z",
     "iopub.status.busy": "2021-09-30T20:08:18.447393Z",
     "iopub.status.idle": "2021-09-30T20:08:18.644111Z",
     "shell.execute_reply": "2021-09-30T20:08:18.644529Z"
    },
    "papermill": {
     "duration": 0.245798,
     "end_time": "2021-09-30T20:08:18.644670",
     "exception": false,
     "start_time": "2021-09-30T20:08:18.398872",
     "status": "completed"
    },
    "tags": []
   },
   "outputs": [
    {
     "data": {
      "text/plain": [
       "Text(0.5, 1.0, 'Outputs')"
      ]
     },
     "execution_count": 26,
     "metadata": {},
     "output_type": "execute_result"
    },
    {
     "data": {
      "image/png": "[encoded data removed]",
      "text/plain": [
       "<Figure size 576x504 with 1 Axes>"
      ]
     },
     "metadata": {
      "needs_background": "light"
     },
     "output_type": "display_data"
    }
   ],
   "source": [
    "# Plotting the scatter plot of points and color coding by class\n",
    "plt.figure(figsize=(8,7))\n",
    "plt.scatter(testing_plot[:,0], testing_plot[:,1], alpha = 0.1, c = y_test.ravel());\n",
    "plt.title('Outputs')"
   ]
  },
  {
   "cell_type": "markdown",
   "id": "a74fcf8f",
   "metadata": {
    "papermill": {
     "duration": 0.043606,
     "end_time": "2021-09-30T20:08:18.732576",
     "exception": false,
     "start_time": "2021-09-30T20:08:18.688970",
     "status": "completed"
    },
    "tags": []
   },
   "source": [
    "Probability contours"
   ]
  },
  {
   "cell_type": "code",
   "execution_count": 27,
   "id": "d0afc8e3",
   "metadata": {
    "execution": {
     "iopub.execute_input": "2021-09-30T20:08:18.835574Z",
     "iopub.status.busy": "2021-09-30T20:08:18.834737Z",
     "iopub.status.idle": "2021-09-30T20:08:18.840625Z",
     "shell.execute_reply": "2021-09-30T20:08:18.841042Z"
    },
    "papermill": {
     "duration": 0.064831,
     "end_time": "2021-09-30T20:08:18.841175",
     "exception": false,
     "start_time": "2021-09-30T20:08:18.776344",
     "status": "completed"
    },
    "tags": []
   },
   "outputs": [],
   "source": [
    "model_prob = Model(layers[-2:]) "
   ]
  },
  {
   "cell_type": "code",
   "execution_count": 28,
   "id": "9b96e238",
   "metadata": {
    "execution": {
     "iopub.execute_input": "2021-09-30T20:08:18.937041Z",
     "iopub.status.busy": "2021-09-30T20:08:18.935361Z",
     "iopub.status.idle": "2021-09-30T20:08:18.950070Z",
     "shell.execute_reply": "2021-09-30T20:08:18.949114Z"
    },
    "papermill": {
     "duration": 0.065013,
     "end_time": "2021-09-30T20:08:18.950199",
     "exception": false,
     "start_time": "2021-09-30T20:08:18.885186",
     "status": "completed"
    },
    "tags": []
   },
   "outputs": [],
   "source": [
    "#creating the x and y ranges according to the above generated plot.\n",
    "x_range = np.linspace(-4, 1, 100) \n",
    "y_range = np.linspace(-6, 6, 100) \n",
    "x_grid, y_grid = np.meshgrid(x_range, y_range) # x_grid and y_grig are of size 100 X 100\n",
    "\n",
    "# converting x_grid and y_grid to continuous arrays\n",
    "x_gridflat = np.ravel(x_grid)\n",
    "y_gridflat = np.ravel(y_grid)\n",
    "\n",
    "# The last layer of the current model takes two columns as input. Hence transpose of np.vstack() is required.\n",
    "X = np.vstack((x_gridflat, y_gridflat)).T\n",
    "\n",
    "prob_contour = model_prob(X).reshape(100,100) "
   ]
  },
  {
   "cell_type": "code",
   "execution_count": 29,
   "id": "da72499a",
   "metadata": {
    "execution": {
     "iopub.execute_input": "2021-09-30T20:08:19.050427Z",
     "iopub.status.busy": "2021-09-30T20:08:19.049602Z",
     "iopub.status.idle": "2021-09-30T20:08:19.295541Z",
     "shell.execute_reply": "2021-09-30T20:08:19.295947Z"
    },
    "papermill": {
     "duration": 0.301752,
     "end_time": "2021-09-30T20:08:19.296090",
     "exception": false,
     "start_time": "2021-09-30T20:08:18.994338",
     "status": "completed"
    },
    "tags": []
   },
   "outputs": [
    {
     "data": {
      "image/png": "[encoded data removed]",
      "text/plain": [
       "<Figure size 720x648 with 1 Axes>"
      ]
     },
     "metadata": {
      "needs_background": "light"
     },
     "output_type": "display_data"
    }
   ],
   "source": [
    "plt.figure(figsize=(10,9))\n",
    "plt.scatter(testing_plot[:,0], testing_plot[:,1], alpha = 0.1, c = y_test.ravel())\n",
    "contours = plt.contour(x_grid,y_grid,prob_contour)\n",
    "plt.title('Probability Contours')\n",
    "plt.clabel(contours, inline = True );"
   ]
  },
  {
   "cell_type": "code",
   "execution_count": null,
   "id": "e81b4ac7",
   "metadata": {
    "papermill": {
     "duration": 0.046276,
     "end_time": "2021-09-30T20:08:19.420933",
     "exception": false,
     "start_time": "2021-09-30T20:08:19.374657",
     "status": "completed"
    },
    "tags": []
   },
   "outputs": [],
   "source": []
  }
 ],
 "metadata": {
  "kernelspec": {
   "display_name": "Python 3",
   "language": "python",
   "name": "python3"
  },
  "language_info": {
   "codemirror_mode": {
    "name": "ipython",
    "version": 3
   },
   "file_extension": ".py",
   "mimetype": "text/x-python",
   "name": "python",
   "nbconvert_exporter": "python",
   "pygments_lexer": "ipython3",
   "version": "3.6.15"
  },
  "papermill": {
   "default_parameters": {},
   "duration": 97.081673,
   "end_time": "2021-09-30T20:08:19.877718",
   "environment_variables": {},
   "exception": null,
   "input_path": "2020-08-11-part2.ipynb",
   "output_path": "2020-08-11-part2.ipynb",
   "parameters": {},
   "start_time": "2021-09-30T20:06:42.796045",
   "version": "2.3.3"
  }
 },
 "nbformat": 4,
 "nbformat_minor": 5
}