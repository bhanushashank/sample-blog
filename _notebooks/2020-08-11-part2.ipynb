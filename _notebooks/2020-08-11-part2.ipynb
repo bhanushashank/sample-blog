{
 "cells": [
  {
   "cell_type": "markdown",
   "id": "98380cd3",
   "metadata": {
    "papermill": {
     "duration": 0.030947,
     "end_time": "2022-11-03T10:11:28.003480",
     "exception": false,
     "start_time": "2022-11-03T10:11:27.972533",
     "status": "completed"
    },
    "tags": []
   },
   "source": [
    "# Distinguish Your Own Digits (DYOD)"
   ]
  },
  {
   "cell_type": "markdown",
   "id": "ef31240d",
   "metadata": {
    "papermill": {
     "duration": 0.02365,
     "end_time": "2022-11-03T10:11:28.051688",
     "exception": false,
     "start_time": "2022-11-03T10:11:28.028038",
     "status": "completed"
    },
    "tags": []
   },
   "source": [
    "You are going to write a classifier that distinguishes between the number 3 and number 8."
   ]
  },
  {
   "cell_type": "code",
   "execution_count": 1,
   "id": "b15c8646",
   "metadata": {
    "execution": {
     "iopub.execute_input": "2022-11-03T10:11:28.111505Z",
     "iopub.status.busy": "2022-11-03T10:11:28.110855Z",
     "iopub.status.idle": "2022-11-03T10:11:28.121754Z",
     "shell.execute_reply": "2022-11-03T10:11:28.121237Z"
    },
    "papermill": {
     "duration": 0.04649,
     "end_time": "2022-11-03T10:11:28.121889",
     "exception": false,
     "start_time": "2022-11-03T10:11:28.075399",
     "status": "completed"
    },
    "tags": []
   },
   "outputs": [],
   "source": [
    "%load_ext autoreload\n",
    "%autoreload 2"
   ]
  },
  {
   "cell_type": "code",
   "execution_count": 2,
   "id": "22ef38dc",
   "metadata": {
    "execution": {
     "iopub.execute_input": "2022-11-03T10:11:28.174244Z",
     "iopub.status.busy": "2022-11-03T10:11:28.173648Z",
     "iopub.status.idle": "2022-11-03T10:11:28.728798Z",
     "shell.execute_reply": "2022-11-03T10:11:28.729646Z"
    },
    "papermill": {
     "duration": 0.583948,
     "end_time": "2022-11-03T10:11:28.729806",
     "exception": false,
     "start_time": "2022-11-03T10:11:28.145858",
     "status": "completed"
    },
    "tags": []
   },
   "outputs": [],
   "source": [
    "%matplotlib inline\n",
    "import numpy as np\n",
    "import matplotlib.pyplot as plt\n",
    "import pandas as pd"
   ]
  },
  {
   "cell_type": "markdown",
   "id": "ba036198",
   "metadata": {
    "papermill": {
     "duration": 0.025511,
     "end_time": "2022-11-03T10:11:28.779327",
     "exception": false,
     "start_time": "2022-11-03T10:11:28.753816",
     "status": "completed"
    },
    "tags": []
   },
   "source": [
    "From the command line run `pip install mnist`. This is a library that will help you bring down the mnist dataset. If you run this from a notebook, you need to put  `!pip install mnist` in a cell by itself."
   ]
  },
  {
   "cell_type": "code",
   "execution_count": 3,
   "id": "bb6ad8a1",
   "metadata": {
    "execution": {
     "iopub.execute_input": "2022-11-03T10:11:28.840817Z",
     "iopub.status.busy": "2022-11-03T10:11:28.831103Z",
     "iopub.status.idle": "2022-11-03T10:11:30.444637Z",
     "shell.execute_reply": "2022-11-03T10:11:30.444013Z"
    },
    "papermill": {
     "duration": 1.641509,
     "end_time": "2022-11-03T10:11:30.444776",
     "exception": false,
     "start_time": "2022-11-03T10:11:28.803267",
     "status": "completed"
    },
    "tags": []
   },
   "outputs": [
    {
     "name": "stdout",
     "output_type": "stream",
     "text": [
      "Collecting mnist\r\n"
     ]
    },
    {
     "name": "stdout",
     "output_type": "stream",
     "text": [
      "  Downloading mnist-0.2.2-py2.py3-none-any.whl (3.5 kB)\r\n",
      "Requirement already satisfied: numpy in /opt/hostedtoolcache/Python/3.6.15/x64/lib/python3.6/site-packages (from mnist) (1.19.5)\r\n"
     ]
    },
    {
     "name": "stdout",
     "output_type": "stream",
     "text": [
      "Installing collected packages: mnist\r\n",
      "Successfully installed mnist-0.2.2\r\n"
     ]
    }
   ],
   "source": [
    "!pip install mnist"
   ]
  },
  {
   "cell_type": "markdown",
   "id": "69df9c9a",
   "metadata": {
    "papermill": {
     "duration": 0.024705,
     "end_time": "2022-11-03T10:11:30.495023",
     "exception": false,
     "start_time": "2022-11-03T10:11:30.470318",
     "status": "completed"
    },
    "tags": []
   },
   "source": [
    "## Preparing the Data"
   ]
  },
  {
   "cell_type": "code",
   "execution_count": 4,
   "id": "7f69d806",
   "metadata": {
    "execution": {
     "iopub.execute_input": "2022-11-03T10:11:30.548191Z",
     "iopub.status.busy": "2022-11-03T10:11:30.547297Z",
     "iopub.status.idle": "2022-11-03T10:11:30.562937Z",
     "shell.execute_reply": "2022-11-03T10:11:30.563426Z"
    },
    "papermill": {
     "duration": 0.043888,
     "end_time": "2022-11-03T10:11:30.563569",
     "exception": false,
     "start_time": "2022-11-03T10:11:30.519681",
     "status": "completed"
    },
    "tags": []
   },
   "outputs": [],
   "source": [
    "import mnist"
   ]
  },
  {
   "cell_type": "code",
   "execution_count": 5,
   "id": "a411e44f",
   "metadata": {
    "execution": {
     "iopub.execute_input": "2022-11-03T10:11:30.620203Z",
     "iopub.status.busy": "2022-11-03T10:11:30.619572Z",
     "iopub.status.idle": "2022-11-03T10:11:31.176349Z",
     "shell.execute_reply": "2022-11-03T10:11:31.175720Z"
    },
    "papermill": {
     "duration": 0.588197,
     "end_time": "2022-11-03T10:11:31.176494",
     "exception": false,
     "start_time": "2022-11-03T10:11:30.588297",
     "status": "completed"
    },
    "tags": []
   },
   "outputs": [],
   "source": [
    "train_images = mnist.train_images()\n",
    "train_labels = mnist.train_labels()"
   ]
  },
  {
   "cell_type": "code",
   "execution_count": 6,
   "id": "dceab3a5",
   "metadata": {
    "execution": {
     "iopub.execute_input": "2022-11-03T10:11:31.243198Z",
     "iopub.status.busy": "2022-11-03T10:11:31.242554Z",
     "iopub.status.idle": "2022-11-03T10:11:31.254100Z",
     "shell.execute_reply": "2022-11-03T10:11:31.253321Z"
    },
    "papermill": {
     "duration": 0.051828,
     "end_time": "2022-11-03T10:11:31.254222",
     "exception": false,
     "start_time": "2022-11-03T10:11:31.202394",
     "status": "completed"
    },
    "tags": []
   },
   "outputs": [
    {
     "data": {
      "text/plain": [
       "((60000, 28, 28), (60000,))"
      ]
     },
     "execution_count": 6,
     "metadata": {},
     "output_type": "execute_result"
    }
   ],
   "source": [
    "train_images.shape, train_labels.shape"
   ]
  },
  {
   "cell_type": "code",
   "execution_count": 7,
   "id": "f50dc2bb",
   "metadata": {
    "execution": {
     "iopub.execute_input": "2022-11-03T10:11:31.308797Z",
     "iopub.status.busy": "2022-11-03T10:11:31.308213Z",
     "iopub.status.idle": "2022-11-03T10:11:31.439632Z",
     "shell.execute_reply": "2022-11-03T10:11:31.439105Z"
    },
    "papermill": {
     "duration": 0.160489,
     "end_time": "2022-11-03T10:11:31.439780",
     "exception": false,
     "start_time": "2022-11-03T10:11:31.279291",
     "status": "completed"
    },
    "tags": []
   },
   "outputs": [],
   "source": [
    "test_images = mnist.test_images()\n",
    "test_labels = mnist.test_labels()"
   ]
  },
  {
   "cell_type": "code",
   "execution_count": 8,
   "id": "fc38cf1b",
   "metadata": {
    "execution": {
     "iopub.execute_input": "2022-11-03T10:11:31.494078Z",
     "iopub.status.busy": "2022-11-03T10:11:31.493488Z",
     "iopub.status.idle": "2022-11-03T10:11:31.507604Z",
     "shell.execute_reply": "2022-11-03T10:11:31.508247Z"
    },
    "papermill": {
     "duration": 0.043419,
     "end_time": "2022-11-03T10:11:31.508394",
     "exception": false,
     "start_time": "2022-11-03T10:11:31.464975",
     "status": "completed"
    },
    "tags": []
   },
   "outputs": [
    {
     "data": {
      "text/plain": [
       "((10000, 28, 28), (10000,))"
      ]
     },
     "execution_count": 8,
     "metadata": {},
     "output_type": "execute_result"
    }
   ],
   "source": [
    "test_images.shape, test_labels.shape"
   ]
  },
  {
   "cell_type": "code",
   "execution_count": 9,
   "id": "f9ed8fe0",
   "metadata": {
    "execution": {
     "iopub.execute_input": "2022-11-03T10:11:31.573316Z",
     "iopub.status.busy": "2022-11-03T10:11:31.572692Z",
     "iopub.status.idle": "2022-11-03T10:11:31.710030Z",
     "shell.execute_reply": "2022-11-03T10:11:31.709537Z"
    },
    "papermill": {
     "duration": 0.176604,
     "end_time": "2022-11-03T10:11:31.710151",
     "exception": false,
     "start_time": "2022-11-03T10:11:31.533547",
     "status": "completed"
    },
    "tags": []
   },
   "outputs": [
    {
     "name": "stdout",
     "output_type": "stream",
     "text": [
      "2\n"
     ]
    },
    {
     "data": {
      "text/plain": [
       "<matplotlib.image.AxesImage at 0x7f8f947e0c88>"
      ]
     },
     "execution_count": 9,
     "metadata": {},
     "output_type": "execute_result"
    },
    {
     "data": {
      "image/png": "[encoded data removed]",
      "text/plain": [
       "<Figure size 432x288 with 1 Axes>"
      ]
     },
     "metadata": {
      "needs_background": "light"
     },
     "output_type": "display_data"
    }
   ],
   "source": [
    "image_index = 7776 # You may select anything up to 60,000\n",
    "print(train_labels[image_index]) \n",
    "plt.imshow(train_images[image_index], cmap='Greys')"
   ]
  },
  {
   "cell_type": "markdown",
   "id": "a8d2388d",
   "metadata": {
    "papermill": {
     "duration": 0.026295,
     "end_time": "2022-11-03T10:11:31.763559",
     "exception": false,
     "start_time": "2022-11-03T10:11:31.737264",
     "status": "completed"
    },
    "tags": []
   },
   "source": [
    "## Filter data to get 3 and 8 out"
   ]
  },
  {
   "cell_type": "code",
   "execution_count": 10,
   "id": "776f7fc7",
   "metadata": {
    "execution": {
     "iopub.execute_input": "2022-11-03T10:11:31.821787Z",
     "iopub.status.busy": "2022-11-03T10:11:31.820398Z",
     "iopub.status.idle": "2022-11-03T10:11:31.837131Z",
     "shell.execute_reply": "2022-11-03T10:11:31.836227Z"
    },
    "papermill": {
     "duration": 0.047369,
     "end_time": "2022-11-03T10:11:31.837261",
     "exception": false,
     "start_time": "2022-11-03T10:11:31.789892",
     "status": "completed"
    },
    "tags": []
   },
   "outputs": [],
   "source": [
    "train_filter = np.where((train_labels == 3 ) | (train_labels == 8))\n",
    "test_filter = np.where((test_labels == 3) | (test_labels == 8))\n",
    "X_train, y_train = train_images[train_filter], train_labels[train_filter]\n",
    "X_test, y_test = test_images[test_filter], test_labels[test_filter]"
   ]
  },
  {
   "cell_type": "markdown",
   "id": "948f0b7e",
   "metadata": {
    "papermill": {
     "duration": 0.026668,
     "end_time": "2022-11-03T10:11:31.890512",
     "exception": false,
     "start_time": "2022-11-03T10:11:31.863844",
     "status": "completed"
    },
    "tags": []
   },
   "source": [
    "We normalize the pizel values in the 0 to 1 range"
   ]
  },
  {
   "cell_type": "code",
   "execution_count": 11,
   "id": "ee4c2166",
   "metadata": {
    "execution": {
     "iopub.execute_input": "2022-11-03T10:11:31.947144Z",
     "iopub.status.busy": "2022-11-03T10:11:31.946550Z",
     "iopub.status.idle": "2022-11-03T10:11:31.990933Z",
     "shell.execute_reply": "2022-11-03T10:11:31.990360Z"
    },
    "papermill": {
     "duration": 0.07433,
     "end_time": "2022-11-03T10:11:31.991092",
     "exception": false,
     "start_time": "2022-11-03T10:11:31.916762",
     "status": "completed"
    },
    "tags": []
   },
   "outputs": [],
   "source": [
    "X_train = X_train/255.\n",
    "X_test = X_test/255."
   ]
  },
  {
   "cell_type": "markdown",
   "id": "ddcf4fab",
   "metadata": {
    "papermill": {
     "duration": 0.026558,
     "end_time": "2022-11-03T10:11:32.045155",
     "exception": false,
     "start_time": "2022-11-03T10:11:32.018597",
     "status": "completed"
    },
    "tags": []
   },
   "source": [
    "And setup the labels as 1 (when the digit is 3) and 0 (when the digit is 8)"
   ]
  },
  {
   "cell_type": "code",
   "execution_count": 12,
   "id": "7dc908f2",
   "metadata": {
    "execution": {
     "iopub.execute_input": "2022-11-03T10:11:32.101466Z",
     "iopub.status.busy": "2022-11-03T10:11:32.100870Z",
     "iopub.status.idle": "2022-11-03T10:11:32.113848Z",
     "shell.execute_reply": "2022-11-03T10:11:32.114303Z"
    },
    "papermill": {
     "duration": 0.042988,
     "end_time": "2022-11-03T10:11:32.114443",
     "exception": false,
     "start_time": "2022-11-03T10:11:32.071455",
     "status": "completed"
    },
    "tags": []
   },
   "outputs": [],
   "source": [
    "y_train = 1*(y_train==3)\n",
    "y_test = 1*(y_test==3)"
   ]
  },
  {
   "cell_type": "code",
   "execution_count": 13,
   "id": "01e4e969",
   "metadata": {
    "execution": {
     "iopub.execute_input": "2022-11-03T10:11:32.171529Z",
     "iopub.status.busy": "2022-11-03T10:11:32.170952Z",
     "iopub.status.idle": "2022-11-03T10:11:32.184490Z",
     "shell.execute_reply": "2022-11-03T10:11:32.184964Z"
    },
    "papermill": {
     "duration": 0.044076,
     "end_time": "2022-11-03T10:11:32.185102",
     "exception": false,
     "start_time": "2022-11-03T10:11:32.141026",
     "status": "completed"
    },
    "tags": []
   },
   "outputs": [
    {
     "data": {
      "text/plain": [
       "((11982, 28, 28), (1984, 28, 28))"
      ]
     },
     "execution_count": 13,
     "metadata": {},
     "output_type": "execute_result"
    }
   ],
   "source": [
    "X_train.shape, X_test.shape"
   ]
  },
  {
   "cell_type": "markdown",
   "id": "5ccf3f85",
   "metadata": {
    "papermill": {
     "duration": 0.027237,
     "end_time": "2022-11-03T10:11:32.238844",
     "exception": false,
     "start_time": "2022-11-03T10:11:32.211607",
     "status": "completed"
    },
    "tags": []
   },
   "source": [
    "We reshape the data to flatten the image pixels into a set of features or co-variates:"
   ]
  },
  {
   "cell_type": "code",
   "execution_count": 14,
   "id": "5286a4a3",
   "metadata": {
    "execution": {
     "iopub.execute_input": "2022-11-03T10:11:32.296895Z",
     "iopub.status.busy": "2022-11-03T10:11:32.296276Z",
     "iopub.status.idle": "2022-11-03T10:11:32.312375Z",
     "shell.execute_reply": "2022-11-03T10:11:32.311868Z"
    },
    "papermill": {
     "duration": 0.046827,
     "end_time": "2022-11-03T10:11:32.312497",
     "exception": false,
     "start_time": "2022-11-03T10:11:32.265670",
     "status": "completed"
    },
    "tags": []
   },
   "outputs": [
    {
     "data": {
      "text/plain": [
       "((11982, 784), (1984, 784))"
      ]
     },
     "execution_count": 14,
     "metadata": {},
     "output_type": "execute_result"
    }
   ],
   "source": [
    "X_train = X_train.reshape(X_train.shape[0], -1)\n",
    "X_test = X_test.reshape(X_test.shape[0], -1)\n",
    "X_train.shape, X_test.shape"
   ]
  },
  {
   "cell_type": "code",
   "execution_count": 15,
   "id": "73c5f88a",
   "metadata": {
    "execution": {
     "iopub.execute_input": "2022-11-03T10:11:32.384987Z",
     "iopub.status.busy": "2022-11-03T10:11:32.376755Z",
     "iopub.status.idle": "2022-11-03T10:11:32.392781Z",
     "shell.execute_reply": "2022-11-03T10:11:32.393236Z"
    },
    "papermill": {
     "duration": 0.053869,
     "end_time": "2022-11-03T10:11:32.393380",
     "exception": false,
     "start_time": "2022-11-03T10:11:32.339511",
     "status": "completed"
    },
    "tags": []
   },
   "outputs": [],
   "source": [
    "#Impoting functions from 'Kudzu'\n",
    "from kudzu.model import Model\n",
    "from kudzu.train import Learner\n",
    "from kudzu.optim import GD\n",
    "from kudzu.data import Data, Sampler,Dataloader\n",
    "\n",
    "from kudzu.callbacks import AccCallback\n",
    "from kudzu.callbacks import ClfCallback\n",
    "\n",
    "from kudzu.loss import MSE\n",
    "\n",
    "from kudzu.layer import Sigmoid,Relu\n",
    "from kudzu.layer import Affine"
   ]
  },
  {
   "cell_type": "markdown",
   "id": "bc01172a",
   "metadata": {
    "papermill": {
     "duration": 0.027615,
     "end_time": "2022-11-03T10:11:32.448016",
     "exception": false,
     "start_time": "2022-11-03T10:11:32.420401",
     "status": "completed"
    },
    "tags": []
   },
   "source": [
    "### Let us create a `Config` class, to store important parameters. \n",
    "This class essentially plays the role of a dictionary."
   ]
  },
  {
   "cell_type": "code",
   "execution_count": 16,
   "id": "978281aa",
   "metadata": {
    "execution": {
     "iopub.execute_input": "2022-11-03T10:11:32.509487Z",
     "iopub.status.busy": "2022-11-03T10:11:32.508831Z",
     "iopub.status.idle": "2022-11-03T10:11:32.519607Z",
     "shell.execute_reply": "2022-11-03T10:11:32.520113Z"
    },
    "papermill": {
     "duration": 0.04549,
     "end_time": "2022-11-03T10:11:32.520265",
     "exception": false,
     "start_time": "2022-11-03T10:11:32.474775",
     "status": "completed"
    },
    "tags": []
   },
   "outputs": [],
   "source": [
    "class Config:\n",
    "    pass\n",
    "config = Config()\n",
    "config.lr = 0.001\n",
    "config.num_epochs = 250\n",
    "config.bs = 50"
   ]
  },
  {
   "cell_type": "markdown",
   "id": "1385fa59",
   "metadata": {
    "papermill": {
     "duration": 0.026741,
     "end_time": "2022-11-03T10:11:32.574055",
     "exception": false,
     "start_time": "2022-11-03T10:11:32.547314",
     "status": "completed"
    },
    "tags": []
   },
   "source": [
    "### Running Models with the Training data\n",
    "Details about the network layers:\n",
    "- A first affine layer has 784 inputs and does 100 affine transforms. These are followed by a Relu\n",
    "- A second affine layer has 100 inputs from the 100 activations of the past layer, and does 100 affine transforms. These are followed by a Relu\n",
    "- A third affine layer has 100 activations and does 2 affine transformations to create an embedding for visualization. There is no non-linearity here.\n",
    "- A final \"logistic regression\" which has an affine transform from 2 inputs to 1 output, which is squeezed through a sigmoid.\n"
   ]
  },
  {
   "cell_type": "code",
   "execution_count": 17,
   "id": "2b9c66db",
   "metadata": {
    "execution": {
     "iopub.execute_input": "2022-11-03T10:11:32.632633Z",
     "iopub.status.busy": "2022-11-03T10:11:32.632022Z",
     "iopub.status.idle": "2022-11-03T10:11:32.644286Z",
     "shell.execute_reply": "2022-11-03T10:11:32.644759Z"
    },
    "papermill": {
     "duration": 0.043959,
     "end_time": "2022-11-03T10:11:32.644896",
     "exception": false,
     "start_time": "2022-11-03T10:11:32.600937",
     "status": "completed"
    },
    "tags": []
   },
   "outputs": [],
   "source": [
    "data = Data(X_train, y_train.reshape(-1,1))\n",
    "sampler = Sampler(data, config.bs, shuffle=True)\n",
    "\n",
    "dl = Dataloader(data, sampler)\n",
    "\n",
    "opt = GD(config.lr)\n",
    "loss = MSE()"
   ]
  },
  {
   "cell_type": "code",
   "execution_count": 18,
   "id": "b275e4c2",
   "metadata": {
    "execution": {
     "iopub.execute_input": "2022-11-03T10:11:32.702929Z",
     "iopub.status.busy": "2022-11-03T10:11:32.702324Z",
     "iopub.status.idle": "2022-11-03T10:11:32.715173Z",
     "shell.execute_reply": "2022-11-03T10:11:32.715656Z"
    },
    "papermill": {
     "duration": 0.044099,
     "end_time": "2022-11-03T10:11:32.715850",
     "exception": false,
     "start_time": "2022-11-03T10:11:32.671751",
     "status": "completed"
    },
    "tags": []
   },
   "outputs": [],
   "source": [
    "training_data_x = X_train\n",
    "testing_data_x = X_test\n",
    "training_data_y = y_train.reshape(-1,1)\n",
    "testing_data_y = y_test.reshape(-1,1)"
   ]
  },
  {
   "cell_type": "code",
   "execution_count": 19,
   "id": "76951160",
   "metadata": {
    "execution": {
     "iopub.execute_input": "2022-11-03T10:11:32.775510Z",
     "iopub.status.busy": "2022-11-03T10:11:32.774911Z",
     "iopub.status.idle": "2022-11-03T10:11:32.790951Z",
     "shell.execute_reply": "2022-11-03T10:11:32.791432Z"
    },
    "papermill": {
     "duration": 0.048863,
     "end_time": "2022-11-03T10:11:32.791566",
     "exception": false,
     "start_time": "2022-11-03T10:11:32.742703",
     "status": "completed"
    },
    "tags": []
   },
   "outputs": [
    {
     "name": "stdout",
     "output_type": "stream",
     "text": [
      "xavier\n",
      "xavier\n",
      "xavier\n",
      "xavier\n",
      "xavier\n"
     ]
    }
   ],
   "source": [
    "layers = [Affine(\"first\", 784, 100), Relu(\"first\"), Affine(\"second\", 100, 100), Relu(\"second\"), Affine(\"third\", 100, 2), Affine(\"last\", 2, 1), Sigmoid(\"last\")]\n",
    "model_nn = Model(layers)\n",
    "model_lr = Model([Affine(\"logits\", 784, 1), Sigmoid(\"sigmoid\")])"
   ]
  },
  {
   "cell_type": "code",
   "execution_count": 20,
   "id": "6eede77a",
   "metadata": {
    "execution": {
     "iopub.execute_input": "2022-11-03T10:11:32.851105Z",
     "iopub.status.busy": "2022-11-03T10:11:32.850511Z",
     "iopub.status.idle": "2022-11-03T10:11:32.864177Z",
     "shell.execute_reply": "2022-11-03T10:11:32.863648Z"
    },
    "papermill": {
     "duration": 0.04513,
     "end_time": "2022-11-03T10:11:32.864302",
     "exception": false,
     "start_time": "2022-11-03T10:11:32.819172",
     "status": "completed"
    },
    "tags": []
   },
   "outputs": [],
   "source": [
    "nn_learner = Learner(loss, model_nn, opt, config.num_epochs)\n",
    "acc_nn = ClfCallback(nn_learner, config.bs, training_data_x , testing_data_x, training_data_y, testing_data_y)\n",
    "nn_learner.set_callbacks([acc_nn])"
   ]
  },
  {
   "cell_type": "code",
   "execution_count": 21,
   "id": "877b6cc7",
   "metadata": {
    "execution": {
     "iopub.execute_input": "2022-11-03T10:11:32.923240Z",
     "iopub.status.busy": "2022-11-03T10:11:32.922650Z",
     "iopub.status.idle": "2022-11-03T10:11:32.935989Z",
     "shell.execute_reply": "2022-11-03T10:11:32.935476Z"
    },
    "papermill": {
     "duration": 0.044446,
     "end_time": "2022-11-03T10:11:32.936114",
     "exception": false,
     "start_time": "2022-11-03T10:11:32.891668",
     "status": "completed"
    },
    "tags": []
   },
   "outputs": [],
   "source": [
    "lr_learner = Learner(loss, model_lr, opt, config.num_epochs)\n",
    "acc_lr = ClfCallback(lr_learner, config.bs, training_data_x , testing_data_x, training_data_y, testing_data_y)\n",
    "lr_learner.set_callbacks([acc_lr])"
   ]
  },
  {
   "cell_type": "code",
   "execution_count": 22,
   "id": "d9b133c3",
   "metadata": {
    "execution": {
     "iopub.execute_input": "2022-11-03T10:11:32.994712Z",
     "iopub.status.busy": "2022-11-03T10:11:32.994124Z",
     "iopub.status.idle": "2022-11-03T10:12:52.884885Z",
     "shell.execute_reply": "2022-11-03T10:12:52.885665Z"
    },
    "papermill": {
     "duration": 79.922363,
     "end_time": "2022-11-03T10:12:52.885819",
     "exception": false,
     "start_time": "2022-11-03T10:11:32.963456",
     "status": "completed"
    },
    "tags": []
   },
   "outputs": [
    {
     "name": "stdout",
     "output_type": "stream",
     "text": [
      "Epoch 0, Loss 0.2495\n",
      "Training Accuracy: 0.5983, Testing Accuracy: 0.6003\n",
      "\n"
     ]
    },
    {
     "name": "stdout",
     "output_type": "stream",
     "text": [
      "Epoch 10, Loss 0.0934\n",
      "Training Accuracy: 0.9099, Testing Accuracy: 0.9194\n",
      "\n"
     ]
    },
    {
     "name": "stdout",
     "output_type": "stream",
     "text": [
      "Epoch 20, Loss 0.0584\n",
      "Training Accuracy: 0.9343, Testing Accuracy: 0.9466\n",
      "\n"
     ]
    },
    {
     "name": "stdout",
     "output_type": "stream",
     "text": [
      "Epoch 30, Loss 0.0456\n",
      "Training Accuracy: 0.9501, Testing Accuracy: 0.9597\n",
      "\n"
     ]
    },
    {
     "name": "stdout",
     "output_type": "stream",
     "text": [
      "Epoch 40, Loss 0.0391\n",
      "Training Accuracy: 0.9569, Testing Accuracy: 0.9667\n",
      "\n"
     ]
    },
    {
     "name": "stdout",
     "output_type": "stream",
     "text": [
      "Epoch 50, Loss 0.0352\n",
      "Training Accuracy: 0.9598, Testing Accuracy: 0.9693\n",
      "\n"
     ]
    },
    {
     "name": "stdout",
     "output_type": "stream",
     "text": [
      "Epoch 60, Loss 0.0325\n",
      "Training Accuracy: 0.9620, Testing Accuracy: 0.9713\n",
      "\n"
     ]
    },
    {
     "name": "stdout",
     "output_type": "stream",
     "text": [
      "Epoch 70, Loss 0.0305\n",
      "Training Accuracy: 0.9645, Testing Accuracy: 0.9713\n",
      "\n"
     ]
    },
    {
     "name": "stdout",
     "output_type": "stream",
     "text": [
      "Epoch 80, Loss 0.029\n",
      "Training Accuracy: 0.9664, Testing Accuracy: 0.9713\n",
      "\n"
     ]
    },
    {
     "name": "stdout",
     "output_type": "stream",
     "text": [
      "Epoch 90, Loss 0.0278\n",
      "Training Accuracy: 0.9679, Testing Accuracy: 0.9728\n",
      "\n"
     ]
    },
    {
     "name": "stdout",
     "output_type": "stream",
     "text": [
      "Epoch 100, Loss 0.0267\n",
      "Training Accuracy: 0.9694, Testing Accuracy: 0.9728\n",
      "\n"
     ]
    },
    {
     "name": "stdout",
     "output_type": "stream",
     "text": [
      "Epoch 110, Loss 0.0258\n",
      "Training Accuracy: 0.9703, Testing Accuracy: 0.9723\n",
      "\n"
     ]
    },
    {
     "name": "stdout",
     "output_type": "stream",
     "text": [
      "Epoch 120, Loss 0.025\n",
      "Training Accuracy: 0.9713, Testing Accuracy: 0.9718\n",
      "\n"
     ]
    },
    {
     "name": "stdout",
     "output_type": "stream",
     "text": [
      "Epoch 130, Loss 0.0243\n",
      "Training Accuracy: 0.9722, Testing Accuracy: 0.9723\n",
      "\n"
     ]
    },
    {
     "name": "stdout",
     "output_type": "stream",
     "text": [
      "Epoch 140, Loss 0.0237\n",
      "Training Accuracy: 0.9736, Testing Accuracy: 0.9723\n",
      "\n"
     ]
    },
    {
     "name": "stdout",
     "output_type": "stream",
     "text": [
      "Epoch 150, Loss 0.0231\n",
      "Training Accuracy: 0.9745, Testing Accuracy: 0.9728\n",
      "\n"
     ]
    },
    {
     "name": "stdout",
     "output_type": "stream",
     "text": [
      "Epoch 160, Loss 0.0225\n",
      "Training Accuracy: 0.9749, Testing Accuracy: 0.9748\n",
      "\n"
     ]
    },
    {
     "name": "stdout",
     "output_type": "stream",
     "text": [
      "Epoch 170, Loss 0.022\n",
      "Training Accuracy: 0.9756, Testing Accuracy: 0.9748\n",
      "\n"
     ]
    },
    {
     "name": "stdout",
     "output_type": "stream",
     "text": [
      "Epoch 180, Loss 0.0215\n",
      "Training Accuracy: 0.9765, Testing Accuracy: 0.9748\n",
      "\n"
     ]
    },
    {
     "name": "stdout",
     "output_type": "stream",
     "text": [
      "Epoch 190, Loss 0.021\n",
      "Training Accuracy: 0.9769, Testing Accuracy: 0.9753\n",
      "\n"
     ]
    },
    {
     "name": "stdout",
     "output_type": "stream",
     "text": [
      "Epoch 200, Loss 0.0206\n",
      "Training Accuracy: 0.9772, Testing Accuracy: 0.9748\n",
      "\n"
     ]
    },
    {
     "name": "stdout",
     "output_type": "stream",
     "text": [
      "Epoch 210, Loss 0.0202\n",
      "Training Accuracy: 0.9779, Testing Accuracy: 0.9748\n",
      "\n"
     ]
    },
    {
     "name": "stdout",
     "output_type": "stream",
     "text": [
      "Epoch 220, Loss 0.0198\n",
      "Training Accuracy: 0.9781, Testing Accuracy: 0.9753\n",
      "\n"
     ]
    },
    {
     "name": "stdout",
     "output_type": "stream",
     "text": [
      "Epoch 230, Loss 0.0194\n",
      "Training Accuracy: 0.9790, Testing Accuracy: 0.9763\n",
      "\n"
     ]
    },
    {
     "name": "stdout",
     "output_type": "stream",
     "text": [
      "Epoch 240, Loss 0.0191\n",
      "Training Accuracy: 0.9793, Testing Accuracy: 0.9768\n",
      "\n"
     ]
    },
    {
     "data": {
      "text/plain": [
       "0.0023624392345463503"
      ]
     },
     "execution_count": 22,
     "metadata": {},
     "output_type": "execute_result"
    }
   ],
   "source": [
    "nn_learner.train_loop(dl)"
   ]
  },
  {
   "cell_type": "code",
   "execution_count": 23,
   "id": "e0163366",
   "metadata": {
    "execution": {
     "iopub.execute_input": "2022-11-03T10:12:52.967526Z",
     "iopub.status.busy": "2022-11-03T10:12:52.966894Z",
     "iopub.status.idle": "2022-11-03T10:13:07.262467Z",
     "shell.execute_reply": "2022-11-03T10:13:07.263313Z"
    },
    "papermill": {
     "duration": 14.343535,
     "end_time": "2022-11-03T10:13:07.263456",
     "exception": false,
     "start_time": "2022-11-03T10:12:52.919921",
     "status": "completed"
    },
    "tags": []
   },
   "outputs": [
    {
     "name": "stdout",
     "output_type": "stream",
     "text": [
      "Epoch 0, Loss 0.2302\n",
      "Training Accuracy: 0.7098, Testing Accuracy: 0.7102\n",
      "\n"
     ]
    },
    {
     "name": "stdout",
     "output_type": "stream",
     "text": [
      "Epoch 10, Loss 0.1022\n",
      "Training Accuracy: 0.9098, Testing Accuracy: 0.9138\n",
      "\n"
     ]
    },
    {
     "name": "stdout",
     "output_type": "stream",
     "text": [
      "Epoch 20, Loss 0.0788\n",
      "Training Accuracy: 0.9291, Testing Accuracy: 0.9340\n",
      "\n"
     ]
    },
    {
     "name": "stdout",
     "output_type": "stream",
     "text": [
      "Epoch 30, Loss 0.0679\n",
      "Training Accuracy: 0.9373, Testing Accuracy: 0.9435\n",
      "\n"
     ]
    },
    {
     "name": "stdout",
     "output_type": "stream",
     "text": [
      "Epoch 40, Loss 0.0614\n",
      "Training Accuracy: 0.9417, Testing Accuracy: 0.9501\n",
      "\n"
     ]
    },
    {
     "name": "stdout",
     "output_type": "stream",
     "text": [
      "Epoch 50, Loss 0.057\n",
      "Training Accuracy: 0.9445, Testing Accuracy: 0.9551\n",
      "\n"
     ]
    },
    {
     "name": "stdout",
     "output_type": "stream",
     "text": [
      "Epoch 60, Loss 0.0537\n",
      "Training Accuracy: 0.9468, Testing Accuracy: 0.9582\n",
      "\n"
     ]
    },
    {
     "name": "stdout",
     "output_type": "stream",
     "text": [
      "Epoch 70, Loss 0.0512\n",
      "Training Accuracy: 0.9483, Testing Accuracy: 0.9607\n",
      "\n"
     ]
    },
    {
     "name": "stdout",
     "output_type": "stream",
     "text": [
      "Epoch 80, Loss 0.0492\n",
      "Training Accuracy: 0.9499, Testing Accuracy: 0.9612\n",
      "\n"
     ]
    },
    {
     "name": "stdout",
     "output_type": "stream",
     "text": [
      "Epoch 90, Loss 0.0475\n",
      "Training Accuracy: 0.9512, Testing Accuracy: 0.9627\n",
      "\n"
     ]
    },
    {
     "name": "stdout",
     "output_type": "stream",
     "text": [
      "Epoch 100, Loss 0.0461\n",
      "Training Accuracy: 0.9527, Testing Accuracy: 0.9627\n",
      "\n"
     ]
    },
    {
     "name": "stdout",
     "output_type": "stream",
     "text": [
      "Epoch 110, Loss 0.0449\n",
      "Training Accuracy: 0.9545, Testing Accuracy: 0.9637\n",
      "\n"
     ]
    },
    {
     "name": "stdout",
     "output_type": "stream",
     "text": [
      "Epoch 120, Loss 0.0439\n",
      "Training Accuracy: 0.9557, Testing Accuracy: 0.9637\n",
      "\n"
     ]
    },
    {
     "name": "stdout",
     "output_type": "stream",
     "text": [
      "Epoch 130, Loss 0.0429\n",
      "Training Accuracy: 0.9565, Testing Accuracy: 0.9642\n",
      "\n"
     ]
    },
    {
     "name": "stdout",
     "output_type": "stream",
     "text": [
      "Epoch 140, Loss 0.0421\n",
      "Training Accuracy: 0.9576, Testing Accuracy: 0.9647\n",
      "\n"
     ]
    },
    {
     "name": "stdout",
     "output_type": "stream",
     "text": [
      "Epoch 150, Loss 0.0414\n",
      "Training Accuracy: 0.9578, Testing Accuracy: 0.9647\n",
      "\n"
     ]
    },
    {
     "name": "stdout",
     "output_type": "stream",
     "text": [
      "Epoch 160, Loss 0.0407\n",
      "Training Accuracy: 0.9582, Testing Accuracy: 0.9652\n",
      "\n"
     ]
    },
    {
     "name": "stdout",
     "output_type": "stream",
     "text": [
      "Epoch 170, Loss 0.0401\n",
      "Training Accuracy: 0.9587, Testing Accuracy: 0.9662\n",
      "\n"
     ]
    },
    {
     "name": "stdout",
     "output_type": "stream",
     "text": [
      "Epoch 180, Loss 0.0395\n",
      "Training Accuracy: 0.9594, Testing Accuracy: 0.9667\n",
      "\n"
     ]
    },
    {
     "name": "stdout",
     "output_type": "stream",
     "text": [
      "Epoch 190, Loss 0.039\n",
      "Training Accuracy: 0.9596, Testing Accuracy: 0.9672\n",
      "\n"
     ]
    },
    {
     "name": "stdout",
     "output_type": "stream",
     "text": [
      "Epoch 200, Loss 0.0386\n",
      "Training Accuracy: 0.9597, Testing Accuracy: 0.9672\n",
      "\n"
     ]
    },
    {
     "name": "stdout",
     "output_type": "stream",
     "text": [
      "Epoch 210, Loss 0.0381\n",
      "Training Accuracy: 0.9599, Testing Accuracy: 0.9677\n",
      "\n"
     ]
    },
    {
     "name": "stdout",
     "output_type": "stream",
     "text": [
      "Epoch 220, Loss 0.0377\n",
      "Training Accuracy: 0.9600, Testing Accuracy: 0.9682\n",
      "\n"
     ]
    },
    {
     "name": "stdout",
     "output_type": "stream",
     "text": [
      "Epoch 230, Loss 0.0373\n",
      "Training Accuracy: 0.9607, Testing Accuracy: 0.9677\n",
      "\n"
     ]
    },
    {
     "name": "stdout",
     "output_type": "stream",
     "text": [
      "Epoch 240, Loss 0.037\n",
      "Training Accuracy: 0.9607, Testing Accuracy: 0.9677\n",
      "\n"
     ]
    },
    {
     "data": {
      "text/plain": [
       "0.07098111796673733"
      ]
     },
     "execution_count": 23,
     "metadata": {},
     "output_type": "execute_result"
    }
   ],
   "source": [
    "lr_learner.train_loop(dl)"
   ]
  },
  {
   "cell_type": "code",
   "execution_count": 24,
   "id": "ca410940",
   "metadata": {
    "execution": {
     "iopub.execute_input": "2022-11-03T10:13:07.357694Z",
     "iopub.status.busy": "2022-11-03T10:13:07.357035Z",
     "iopub.status.idle": "2022-11-03T10:13:07.594797Z",
     "shell.execute_reply": "2022-11-03T10:13:07.595588Z"
    },
    "papermill": {
     "duration": 0.290095,
     "end_time": "2022-11-03T10:13:07.595755",
     "exception": false,
     "start_time": "2022-11-03T10:13:07.305660",
     "status": "completed"
    },
    "tags": []
   },
   "outputs": [
    {
     "data": {
      "text/plain": [
       "<matplotlib.legend.Legend at 0x7f8f87ba32e8>"
      ]
     },
     "execution_count": 24,
     "metadata": {},
     "output_type": "execute_result"
    },
    {
     "data": {
      "image/png": "[encoded data removed]",
      "text/plain": [
       "<Figure size 1080x720 with 1 Axes>"
      ]
     },
     "metadata": {
      "needs_background": "light"
     },
     "output_type": "display_data"
    }
   ],
   "source": [
    "#comparing the results of NN and LR\n",
    "plt.figure(figsize=(15,10))\n",
    "\n",
    "# Neural Network plots\n",
    "plt.plot(acc_nn.accuracies, 'r-', label = \"Training Accuracies - NN\")\n",
    "plt.plot(acc_nn.test_accuracies, 'g-', label = \"Testing Accuracies - NN\")\n",
    "\n",
    "# Logistic Regression plots\n",
    "plt.plot(acc_lr.accuracies, 'k-', label = \"Training Accuracies - LR\")\n",
    "plt.plot(acc_lr.test_accuracies, 'b-', label = \"Testing Accuracies - LR\")\n",
    "plt.legend()"
   ]
  },
  {
   "cell_type": "markdown",
   "id": "80dfb35c",
   "metadata": {
    "papermill": {
     "duration": 0.041594,
     "end_time": "2022-11-03T10:13:07.679373",
     "exception": false,
     "start_time": "2022-11-03T10:13:07.637779",
     "status": "completed"
    },
    "tags": []
   },
   "source": [
    "#### Plotting the outputs of this layer of the NN.\n"
   ]
  },
  {
   "cell_type": "code",
   "execution_count": 25,
   "id": "45eb2ff5",
   "metadata": {
    "execution": {
     "iopub.execute_input": "2022-11-03T10:13:07.767166Z",
     "iopub.status.busy": "2022-11-03T10:13:07.766554Z",
     "iopub.status.idle": "2022-11-03T10:13:07.788792Z",
     "shell.execute_reply": "2022-11-03T10:13:07.788312Z"
    },
    "papermill": {
     "duration": 0.067785,
     "end_time": "2022-11-03T10:13:07.788918",
     "exception": false,
     "start_time": "2022-11-03T10:13:07.721133",
     "status": "completed"
    },
    "tags": []
   },
   "outputs": [],
   "source": [
    "new_model = Model(layers[:-2])\n",
    "testing_plot = new_model(testing_data_x)"
   ]
  },
  {
   "cell_type": "code",
   "execution_count": 26,
   "id": "4c0a5485",
   "metadata": {
    "execution": {
     "iopub.execute_input": "2022-11-03T10:13:07.888684Z",
     "iopub.status.busy": "2022-11-03T10:13:07.888076Z",
     "iopub.status.idle": "2022-11-03T10:13:08.088966Z",
     "shell.execute_reply": "2022-11-03T10:13:08.088455Z"
    },
    "papermill": {
     "duration": 0.256392,
     "end_time": "2022-11-03T10:13:08.089085",
     "exception": false,
     "start_time": "2022-11-03T10:13:07.832693",
     "status": "completed"
    },
    "tags": []
   },
   "outputs": [
    {
     "data": {
      "text/plain": [
       "Text(0.5, 1.0, 'Outputs')"
      ]
     },
     "execution_count": 26,
     "metadata": {},
     "output_type": "execute_result"
    },
    {
     "data": {
      "image/png": "[encoded data removed]",
      "text/plain": [
       "<Figure size 576x504 with 1 Axes>"
      ]
     },
     "metadata": {
      "needs_background": "light"
     },
     "output_type": "display_data"
    }
   ],
   "source": [
    "# Plotting the scatter plot of points and color coding by class\n",
    "plt.figure(figsize=(8,7))\n",
    "plt.scatter(testing_plot[:,0], testing_plot[:,1], alpha = 0.1, c = y_test.ravel());\n",
    "plt.title('Outputs')"
   ]
  },
  {
   "cell_type": "markdown",
   "id": "a74fcf8f",
   "metadata": {
    "papermill": {
     "duration": 0.043986,
     "end_time": "2022-11-03T10:13:08.177508",
     "exception": false,
     "start_time": "2022-11-03T10:13:08.133522",
     "status": "completed"
    },
    "tags": []
   },
   "source": [
    "Probability contours"
   ]
  },
  {
   "cell_type": "code",
   "execution_count": 27,
   "id": "d0afc8e3",
   "metadata": {
    "execution": {
     "iopub.execute_input": "2022-11-03T10:13:08.272138Z",
     "iopub.status.busy": "2022-11-03T10:13:08.271487Z",
     "iopub.status.idle": "2022-11-03T10:13:08.285369Z",
     "shell.execute_reply": "2022-11-03T10:13:08.284849Z"
    },
    "papermill": {
     "duration": 0.063735,
     "end_time": "2022-11-03T10:13:08.285520",
     "exception": false,
     "start_time": "2022-11-03T10:13:08.221785",
     "status": "completed"
    },
    "tags": []
   },
   "outputs": [],
   "source": [
    "model_prob = Model(layers[-2:]) "
   ]
  },
  {
   "cell_type": "code",
   "execution_count": 28,
   "id": "9b96e238",
   "metadata": {
    "execution": {
     "iopub.execute_input": "2022-11-03T10:13:08.381344Z",
     "iopub.status.busy": "2022-11-03T10:13:08.380729Z",
     "iopub.status.idle": "2022-11-03T10:13:08.396397Z",
     "shell.execute_reply": "2022-11-03T10:13:08.395932Z"
    },
    "papermill": {
     "duration": 0.066351,
     "end_time": "2022-11-03T10:13:08.396514",
     "exception": false,
     "start_time": "2022-11-03T10:13:08.330163",
     "status": "completed"
    },
    "tags": []
   },
   "outputs": [],
   "source": [
    "#creating the x and y ranges according to the above generated plot.\n",
    "x_range = np.linspace(-4, 1, 100) \n",
    "y_range = np.linspace(-6, 6, 100) \n",
    "x_grid, y_grid = np.meshgrid(x_range, y_range) # x_grid and y_grig are of size 100 X 100\n",
    "\n",
    "# converting x_grid and y_grid to continuous arrays\n",
    "x_gridflat = np.ravel(x_grid)\n",
    "y_gridflat = np.ravel(y_grid)\n",
    "\n",
    "# The last layer of the current model takes two columns as input. Hence transpose of np.vstack() is required.\n",
    "X = np.vstack((x_gridflat, y_gridflat)).T\n",
    "\n",
    "prob_contour = model_prob(X).reshape(100,100) "
   ]
  },
  {
   "cell_type": "code",
   "execution_count": 29,
   "id": "da72499a",
   "metadata": {
    "execution": {
     "iopub.execute_input": "2022-11-03T10:13:08.518520Z",
     "iopub.status.busy": "2022-11-03T10:13:08.517938Z",
     "iopub.status.idle": "2022-11-03T10:13:08.766975Z",
     "shell.execute_reply": "2022-11-03T10:13:08.766420Z"
    },
    "papermill": {
     "duration": 0.297939,
     "end_time": "2022-11-03T10:13:08.767108",
     "exception": false,
     "start_time": "2022-11-03T10:13:08.469169",
     "status": "completed"
    },
    "tags": []
   },
   "outputs": [
    {
     "data": {
      "image/png": "[encoded data removed]",
      "text/plain": [
       "<Figure size 720x648 with 1 Axes>"
      ]
     },
     "metadata": {
      "needs_background": "light"
     },
     "output_type": "display_data"
    }
   ],
   "source": [
    "plt.figure(figsize=(10,9))\n",
    "plt.scatter(testing_plot[:,0], testing_plot[:,1], alpha = 0.1, c = y_test.ravel())\n",
    "contours = plt.contour(x_grid,y_grid,prob_contour)\n",
    "plt.title('Probability Contours')\n",
    "plt.clabel(contours, inline = True );"
   ]
  },
  {
   "cell_type": "code",
   "execution_count": null,
   "id": "e81b4ac7",
   "metadata": {
    "papermill": {
     "duration": 0.046196,
     "end_time": "2022-11-03T10:13:08.860858",
     "exception": false,
     "start_time": "2022-11-03T10:13:08.814662",
     "status": "completed"
    },
    "tags": []
   },
   "outputs": [],
   "source": []
  }
 ],
 "metadata": {
  "kernelspec": {
   "display_name": "Python 3",
   "language": "python",
   "name": "python3"
  },
  "language_info": {
   "codemirror_mode": {
    "name": "ipython",
    "version": 3
   },
   "file_extension": ".py",
   "mimetype": "text/x-python",
   "name": "python",
   "nbconvert_exporter": "python",
   "pygments_lexer": "ipython3",
   "version": "3.6.15"
  },
  "papermill": {
   "default_parameters": {},
   "duration": 102.403236,
   "end_time": "2022-11-03T10:13:09.325678",
   "environment_variables": {},
   "exception": null,
   "input_path": "2020-08-11-part2.ipynb",
   "output_path": "2020-08-11-part2.ipynb",
   "parameters": {},
   "start_time": "2022-11-03T10:11:26.922442",
   "version": "2.3.3"
  }
 },
 "nbformat": 4,
 "nbformat_minor": 5
}