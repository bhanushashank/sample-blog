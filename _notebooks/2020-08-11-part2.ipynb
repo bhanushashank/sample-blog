{
 "cells": [
  {
   "cell_type": "markdown",
   "id": "98380cd3",
   "metadata": {
    "papermill": {
     "duration": 0.037866,
     "end_time": "2022-08-04T20:11:17.602748",
     "exception": false,
     "start_time": "2022-08-04T20:11:17.564882",
     "status": "completed"
    },
    "tags": []
   },
   "source": [
    "# Distinguish Your Own Digits (DYOD)"
   ]
  },
  {
   "cell_type": "markdown",
   "id": "ef31240d",
   "metadata": {
    "papermill": {
     "duration": 0.033316,
     "end_time": "2022-08-04T20:11:17.668199",
     "exception": false,
     "start_time": "2022-08-04T20:11:17.634883",
     "status": "completed"
    },
    "tags": []
   },
   "source": [
    "You are going to write a classifier that distinguishes between the number 3 and number 8."
   ]
  },
  {
   "cell_type": "code",
   "execution_count": 1,
   "id": "b15c8646",
   "metadata": {
    "execution": {
     "iopub.execute_input": "2022-08-04T20:11:17.752953Z",
     "iopub.status.busy": "2022-08-04T20:11:17.746138Z",
     "iopub.status.idle": "2022-08-04T20:11:17.762293Z",
     "shell.execute_reply": "2022-08-04T20:11:17.761591Z"
    },
    "papermill": {
     "duration": 0.062098,
     "end_time": "2022-08-04T20:11:17.762464",
     "exception": false,
     "start_time": "2022-08-04T20:11:17.700366",
     "status": "completed"
    },
    "tags": []
   },
   "outputs": [],
   "source": [
    "%load_ext autoreload\n",
    "%autoreload 2"
   ]
  },
  {
   "cell_type": "code",
   "execution_count": 2,
   "id": "22ef38dc",
   "metadata": {
    "execution": {
     "iopub.execute_input": "2022-08-04T20:11:17.835885Z",
     "iopub.status.busy": "2022-08-04T20:11:17.835080Z",
     "iopub.status.idle": "2022-08-04T20:11:18.582974Z",
     "shell.execute_reply": "2022-08-04T20:11:18.582112Z"
    },
    "papermill": {
     "duration": 0.787883,
     "end_time": "2022-08-04T20:11:18.583151",
     "exception": false,
     "start_time": "2022-08-04T20:11:17.795268",
     "status": "completed"
    },
    "tags": []
   },
   "outputs": [],
   "source": [
    "%matplotlib inline\n",
    "import numpy as np\n",
    "import matplotlib.pyplot as plt\n",
    "import pandas as pd"
   ]
  },
  {
   "cell_type": "markdown",
   "id": "ba036198",
   "metadata": {
    "papermill": {
     "duration": 0.035332,
     "end_time": "2022-08-04T20:11:18.651044",
     "exception": false,
     "start_time": "2022-08-04T20:11:18.615712",
     "status": "completed"
    },
    "tags": []
   },
   "source": [
    "From the command line run `pip install mnist`. This is a library that will help you bring down the mnist dataset. If you run this from a notebook, you need to put  `!pip install mnist` in a cell by itself."
   ]
  },
  {
   "cell_type": "code",
   "execution_count": 3,
   "id": "bb6ad8a1",
   "metadata": {
    "execution": {
     "iopub.execute_input": "2022-08-04T20:11:18.726541Z",
     "iopub.status.busy": "2022-08-04T20:11:18.725766Z",
     "iopub.status.idle": "2022-08-04T20:11:20.896596Z",
     "shell.execute_reply": "2022-08-04T20:11:20.897181Z"
    },
    "papermill": {
     "duration": 2.21378,
     "end_time": "2022-08-04T20:11:20.897428",
     "exception": false,
     "start_time": "2022-08-04T20:11:18.683648",
     "status": "completed"
    },
    "tags": []
   },
   "outputs": [
    {
     "name": "stdout",
     "output_type": "stream",
     "text": [
      "Collecting mnist\r\n"
     ]
    },
    {
     "name": "stdout",
     "output_type": "stream",
     "text": [
      "  Downloading mnist-0.2.2-py2.py3-none-any.whl (3.5 kB)\r\n",
      "Requirement already satisfied: numpy in /opt/hostedtoolcache/Python/3.6.15/x64/lib/python3.6/site-packages (from mnist) (1.19.5)\r\n"
     ]
    },
    {
     "name": "stdout",
     "output_type": "stream",
     "text": [
      "Installing collected packages: mnist\r\n"
     ]
    },
    {
     "name": "stdout",
     "output_type": "stream",
     "text": [
      "Successfully installed mnist-0.2.2\r\n"
     ]
    }
   ],
   "source": [
    "!pip install mnist"
   ]
  },
  {
   "cell_type": "markdown",
   "id": "69df9c9a",
   "metadata": {
    "papermill": {
     "duration": 0.034908,
     "end_time": "2022-08-04T20:11:20.966806",
     "exception": false,
     "start_time": "2022-08-04T20:11:20.931898",
     "status": "completed"
    },
    "tags": []
   },
   "source": [
    "## Preparing the Data"
   ]
  },
  {
   "cell_type": "code",
   "execution_count": 4,
   "id": "7f69d806",
   "metadata": {
    "execution": {
     "iopub.execute_input": "2022-08-04T20:11:21.046149Z",
     "iopub.status.busy": "2022-08-04T20:11:21.045255Z",
     "iopub.status.idle": "2022-08-04T20:11:21.064398Z",
     "shell.execute_reply": "2022-08-04T20:11:21.063745Z"
    },
    "papermill": {
     "duration": 0.064063,
     "end_time": "2022-08-04T20:11:21.064549",
     "exception": false,
     "start_time": "2022-08-04T20:11:21.000486",
     "status": "completed"
    },
    "tags": []
   },
   "outputs": [],
   "source": [
    "import mnist"
   ]
  },
  {
   "cell_type": "code",
   "execution_count": 5,
   "id": "a411e44f",
   "metadata": {
    "execution": {
     "iopub.execute_input": "2022-08-04T20:11:21.143328Z",
     "iopub.status.busy": "2022-08-04T20:11:21.142535Z",
     "iopub.status.idle": "2022-08-04T20:11:21.835008Z",
     "shell.execute_reply": "2022-08-04T20:11:21.835635Z"
    },
    "papermill": {
     "duration": 0.737435,
     "end_time": "2022-08-04T20:11:21.835820",
     "exception": false,
     "start_time": "2022-08-04T20:11:21.098385",
     "status": "completed"
    },
    "tags": []
   },
   "outputs": [],
   "source": [
    "train_images = mnist.train_images()\n",
    "train_labels = mnist.train_labels()"
   ]
  },
  {
   "cell_type": "code",
   "execution_count": 6,
   "id": "dceab3a5",
   "metadata": {
    "execution": {
     "iopub.execute_input": "2022-08-04T20:11:21.915468Z",
     "iopub.status.busy": "2022-08-04T20:11:21.914387Z",
     "iopub.status.idle": "2022-08-04T20:11:21.932993Z",
     "shell.execute_reply": "2022-08-04T20:11:21.933618Z"
    },
    "papermill": {
     "duration": 0.056576,
     "end_time": "2022-08-04T20:11:21.933790",
     "exception": false,
     "start_time": "2022-08-04T20:11:21.877214",
     "status": "completed"
    },
    "tags": []
   },
   "outputs": [
    {
     "data": {
      "text/plain": [
       "((60000, 28, 28), (60000,))"
      ]
     },
     "execution_count": 6,
     "metadata": {},
     "output_type": "execute_result"
    }
   ],
   "source": [
    "train_images.shape, train_labels.shape"
   ]
  },
  {
   "cell_type": "code",
   "execution_count": 7,
   "id": "f50dc2bb",
   "metadata": {
    "execution": {
     "iopub.execute_input": "2022-08-04T20:11:22.008092Z",
     "iopub.status.busy": "2022-08-04T20:11:22.007278Z",
     "iopub.status.idle": "2022-08-04T20:11:22.218222Z",
     "shell.execute_reply": "2022-08-04T20:11:22.215805Z"
    },
    "papermill": {
     "duration": 0.251066,
     "end_time": "2022-08-04T20:11:22.218401",
     "exception": false,
     "start_time": "2022-08-04T20:11:21.967335",
     "status": "completed"
    },
    "tags": []
   },
   "outputs": [],
   "source": [
    "test_images = mnist.test_images()\n",
    "test_labels = mnist.test_labels()"
   ]
  },
  {
   "cell_type": "code",
   "execution_count": 8,
   "id": "fc38cf1b",
   "metadata": {
    "execution": {
     "iopub.execute_input": "2022-08-04T20:11:22.300390Z",
     "iopub.status.busy": "2022-08-04T20:11:22.299602Z",
     "iopub.status.idle": "2022-08-04T20:11:22.316483Z",
     "shell.execute_reply": "2022-08-04T20:11:22.315841Z"
    },
    "papermill": {
     "duration": 0.057389,
     "end_time": "2022-08-04T20:11:22.316646",
     "exception": false,
     "start_time": "2022-08-04T20:11:22.259257",
     "status": "completed"
    },
    "tags": []
   },
   "outputs": [
    {
     "data": {
      "text/plain": [
       "((10000, 28, 28), (10000,))"
      ]
     },
     "execution_count": 8,
     "metadata": {},
     "output_type": "execute_result"
    }
   ],
   "source": [
    "test_images.shape, test_labels.shape"
   ]
  },
  {
   "cell_type": "code",
   "execution_count": 9,
   "id": "f9ed8fe0",
   "metadata": {
    "execution": {
     "iopub.execute_input": "2022-08-04T20:11:22.399813Z",
     "iopub.status.busy": "2022-08-04T20:11:22.399005Z",
     "iopub.status.idle": "2022-08-04T20:11:22.602325Z",
     "shell.execute_reply": "2022-08-04T20:11:22.603056Z"
    },
    "papermill": {
     "duration": 0.24923,
     "end_time": "2022-08-04T20:11:22.603235",
     "exception": false,
     "start_time": "2022-08-04T20:11:22.354005",
     "status": "completed"
    },
    "tags": []
   },
   "outputs": [
    {
     "name": "stdout",
     "output_type": "stream",
     "text": [
      "2\n"
     ]
    },
    {
     "data": {
      "text/plain": [
       "<matplotlib.image.AxesImage at 0x7f295dfe7438>"
      ]
     },
     "execution_count": 9,
     "metadata": {},
     "output_type": "execute_result"
    },
    {
     "data": {
      "image/png": "[encoded data removed]",
      "text/plain": [
       "<Figure size 432x288 with 1 Axes>"
      ]
     },
     "metadata": {
      "needs_background": "light"
     },
     "output_type": "display_data"
    }
   ],
   "source": [
    "image_index = 7776 # You may select anything up to 60,000\n",
    "print(train_labels[image_index]) \n",
    "plt.imshow(train_images[image_index], cmap='Greys')"
   ]
  },
  {
   "cell_type": "markdown",
   "id": "a8d2388d",
   "metadata": {
    "papermill": {
     "duration": 0.037584,
     "end_time": "2022-08-04T20:11:22.676952",
     "exception": false,
     "start_time": "2022-08-04T20:11:22.639368",
     "status": "completed"
    },
    "tags": []
   },
   "source": [
    "## Filter data to get 3 and 8 out"
   ]
  },
  {
   "cell_type": "code",
   "execution_count": 10,
   "id": "776f7fc7",
   "metadata": {
    "execution": {
     "iopub.execute_input": "2022-08-04T20:11:22.761304Z",
     "iopub.status.busy": "2022-08-04T20:11:22.755885Z",
     "iopub.status.idle": "2022-08-04T20:11:22.780624Z",
     "shell.execute_reply": "2022-08-04T20:11:22.779982Z"
    },
    "papermill": {
     "duration": 0.067352,
     "end_time": "2022-08-04T20:11:22.780787",
     "exception": false,
     "start_time": "2022-08-04T20:11:22.713435",
     "status": "completed"
    },
    "tags": []
   },
   "outputs": [],
   "source": [
    "train_filter = np.where((train_labels == 3 ) | (train_labels == 8))\n",
    "test_filter = np.where((test_labels == 3) | (test_labels == 8))\n",
    "X_train, y_train = train_images[train_filter], train_labels[train_filter]\n",
    "X_test, y_test = test_images[test_filter], test_labels[test_filter]"
   ]
  },
  {
   "cell_type": "markdown",
   "id": "948f0b7e",
   "metadata": {
    "papermill": {
     "duration": 0.035753,
     "end_time": "2022-08-04T20:11:22.853200",
     "exception": false,
     "start_time": "2022-08-04T20:11:22.817447",
     "status": "completed"
    },
    "tags": []
   },
   "source": [
    "We normalize the pizel values in the 0 to 1 range"
   ]
  },
  {
   "cell_type": "code",
   "execution_count": 11,
   "id": "ee4c2166",
   "metadata": {
    "execution": {
     "iopub.execute_input": "2022-08-04T20:11:22.933800Z",
     "iopub.status.busy": "2022-08-04T20:11:22.931034Z",
     "iopub.status.idle": "2022-08-04T20:11:22.997771Z",
     "shell.execute_reply": "2022-08-04T20:11:22.997129Z"
    },
    "papermill": {
     "duration": 0.108471,
     "end_time": "2022-08-04T20:11:22.997935",
     "exception": false,
     "start_time": "2022-08-04T20:11:22.889464",
     "status": "completed"
    },
    "tags": []
   },
   "outputs": [],
   "source": [
    "X_train = X_train/255.\n",
    "X_test = X_test/255."
   ]
  },
  {
   "cell_type": "markdown",
   "id": "ddcf4fab",
   "metadata": {
    "papermill": {
     "duration": 0.046434,
     "end_time": "2022-08-04T20:11:23.084902",
     "exception": false,
     "start_time": "2022-08-04T20:11:23.038468",
     "status": "completed"
    },
    "tags": []
   },
   "source": [
    "And setup the labels as 1 (when the digit is 3) and 0 (when the digit is 8)"
   ]
  },
  {
   "cell_type": "code",
   "execution_count": 12,
   "id": "7dc908f2",
   "metadata": {
    "execution": {
     "iopub.execute_input": "2022-08-04T20:11:23.173437Z",
     "iopub.status.busy": "2022-08-04T20:11:23.172682Z",
     "iopub.status.idle": "2022-08-04T20:11:23.188497Z",
     "shell.execute_reply": "2022-08-04T20:11:23.189095Z"
    },
    "papermill": {
     "duration": 0.058099,
     "end_time": "2022-08-04T20:11:23.189284",
     "exception": false,
     "start_time": "2022-08-04T20:11:23.131185",
     "status": "completed"
    },
    "tags": []
   },
   "outputs": [],
   "source": [
    "y_train = 1*(y_train==3)\n",
    "y_test = 1*(y_test==3)"
   ]
  },
  {
   "cell_type": "code",
   "execution_count": 13,
   "id": "01e4e969",
   "metadata": {
    "execution": {
     "iopub.execute_input": "2022-08-04T20:11:23.271630Z",
     "iopub.status.busy": "2022-08-04T20:11:23.270826Z",
     "iopub.status.idle": "2022-08-04T20:11:23.287757Z",
     "shell.execute_reply": "2022-08-04T20:11:23.288495Z"
    },
    "papermill": {
     "duration": 0.063244,
     "end_time": "2022-08-04T20:11:23.288669",
     "exception": false,
     "start_time": "2022-08-04T20:11:23.225425",
     "status": "completed"
    },
    "tags": []
   },
   "outputs": [
    {
     "data": {
      "text/plain": [
       "((11982, 28, 28), (1984, 28, 28))"
      ]
     },
     "execution_count": 13,
     "metadata": {},
     "output_type": "execute_result"
    }
   ],
   "source": [
    "X_train.shape, X_test.shape"
   ]
  },
  {
   "cell_type": "markdown",
   "id": "5ccf3f85",
   "metadata": {
    "papermill": {
     "duration": 0.035256,
     "end_time": "2022-08-04T20:11:23.363026",
     "exception": false,
     "start_time": "2022-08-04T20:11:23.327770",
     "status": "completed"
    },
    "tags": []
   },
   "source": [
    "We reshape the data to flatten the image pixels into a set of features or co-variates:"
   ]
  },
  {
   "cell_type": "code",
   "execution_count": 14,
   "id": "5286a4a3",
   "metadata": {
    "execution": {
     "iopub.execute_input": "2022-08-04T20:11:23.446782Z",
     "iopub.status.busy": "2022-08-04T20:11:23.445987Z",
     "iopub.status.idle": "2022-08-04T20:11:23.461655Z",
     "shell.execute_reply": "2022-08-04T20:11:23.462290Z"
    },
    "papermill": {
     "duration": 0.060325,
     "end_time": "2022-08-04T20:11:23.462467",
     "exception": false,
     "start_time": "2022-08-04T20:11:23.402142",
     "status": "completed"
    },
    "tags": []
   },
   "outputs": [
    {
     "data": {
      "text/plain": [
       "((11982, 784), (1984, 784))"
      ]
     },
     "execution_count": 14,
     "metadata": {},
     "output_type": "execute_result"
    }
   ],
   "source": [
    "X_train = X_train.reshape(X_train.shape[0], -1)\n",
    "X_test = X_test.reshape(X_test.shape[0], -1)\n",
    "X_train.shape, X_test.shape"
   ]
  },
  {
   "cell_type": "code",
   "execution_count": 15,
   "id": "73c5f88a",
   "metadata": {
    "execution": {
     "iopub.execute_input": "2022-08-04T20:11:23.555580Z",
     "iopub.status.busy": "2022-08-04T20:11:23.554682Z",
     "iopub.status.idle": "2022-08-04T20:11:23.571966Z",
     "shell.execute_reply": "2022-08-04T20:11:23.571210Z"
    },
    "papermill": {
     "duration": 0.071496,
     "end_time": "2022-08-04T20:11:23.572132",
     "exception": false,
     "start_time": "2022-08-04T20:11:23.500636",
     "status": "completed"
    },
    "tags": []
   },
   "outputs": [],
   "source": [
    "#Impoting functions from 'Kudzu'\n",
    "from kudzu.model import Model\n",
    "from kudzu.train import Learner\n",
    "from kudzu.optim import GD\n",
    "from kudzu.data import Data, Sampler,Dataloader\n",
    "\n",
    "from kudzu.callbacks import AccCallback\n",
    "from kudzu.callbacks import ClfCallback\n",
    "\n",
    "from kudzu.loss import MSE\n",
    "\n",
    "from kudzu.layer import Sigmoid,Relu\n",
    "from kudzu.layer import Affine"
   ]
  },
  {
   "cell_type": "markdown",
   "id": "bc01172a",
   "metadata": {
    "papermill": {
     "duration": 0.039125,
     "end_time": "2022-08-04T20:11:23.646786",
     "exception": false,
     "start_time": "2022-08-04T20:11:23.607661",
     "status": "completed"
    },
    "tags": []
   },
   "source": [
    "### Let us create a `Config` class, to store important parameters. \n",
    "This class essentially plays the role of a dictionary."
   ]
  },
  {
   "cell_type": "code",
   "execution_count": 16,
   "id": "978281aa",
   "metadata": {
    "execution": {
     "iopub.execute_input": "2022-08-04T20:11:23.728613Z",
     "iopub.status.busy": "2022-08-04T20:11:23.727812Z",
     "iopub.status.idle": "2022-08-04T20:11:23.744828Z",
     "shell.execute_reply": "2022-08-04T20:11:23.744171Z"
    },
    "papermill": {
     "duration": 0.060259,
     "end_time": "2022-08-04T20:11:23.745001",
     "exception": false,
     "start_time": "2022-08-04T20:11:23.684742",
     "status": "completed"
    },
    "tags": []
   },
   "outputs": [],
   "source": [
    "class Config:\n",
    "    pass\n",
    "config = Config()\n",
    "config.lr = 0.001\n",
    "config.num_epochs = 250\n",
    "config.bs = 50"
   ]
  },
  {
   "cell_type": "markdown",
   "id": "1385fa59",
   "metadata": {
    "papermill": {
     "duration": 0.04012,
     "end_time": "2022-08-04T20:11:23.821914",
     "exception": false,
     "start_time": "2022-08-04T20:11:23.781794",
     "status": "completed"
    },
    "tags": []
   },
   "source": [
    "### Running Models with the Training data\n",
    "Details about the network layers:\n",
    "- A first affine layer has 784 inputs and does 100 affine transforms. These are followed by a Relu\n",
    "- A second affine layer has 100 inputs from the 100 activations of the past layer, and does 100 affine transforms. These are followed by a Relu\n",
    "- A third affine layer has 100 activations and does 2 affine transformations to create an embedding for visualization. There is no non-linearity here.\n",
    "- A final \"logistic regression\" which has an affine transform from 2 inputs to 1 output, which is squeezed through a sigmoid.\n"
   ]
  },
  {
   "cell_type": "code",
   "execution_count": 17,
   "id": "2b9c66db",
   "metadata": {
    "execution": {
     "iopub.execute_input": "2022-08-04T20:11:23.902201Z",
     "iopub.status.busy": "2022-08-04T20:11:23.901430Z",
     "iopub.status.idle": "2022-08-04T20:11:23.917900Z",
     "shell.execute_reply": "2022-08-04T20:11:23.917235Z"
    },
    "papermill": {
     "duration": 0.060243,
     "end_time": "2022-08-04T20:11:23.918056",
     "exception": false,
     "start_time": "2022-08-04T20:11:23.857813",
     "status": "completed"
    },
    "tags": []
   },
   "outputs": [],
   "source": [
    "data = Data(X_train, y_train.reshape(-1,1))\n",
    "sampler = Sampler(data, config.bs, shuffle=True)\n",
    "\n",
    "dl = Dataloader(data, sampler)\n",
    "\n",
    "opt = GD(config.lr)\n",
    "loss = MSE()"
   ]
  },
  {
   "cell_type": "code",
   "execution_count": 18,
   "id": "b275e4c2",
   "metadata": {
    "execution": {
     "iopub.execute_input": "2022-08-04T20:11:23.998956Z",
     "iopub.status.busy": "2022-08-04T20:11:23.998181Z",
     "iopub.status.idle": "2022-08-04T20:11:24.013444Z",
     "shell.execute_reply": "2022-08-04T20:11:24.014237Z"
    },
    "papermill": {
     "duration": 0.058308,
     "end_time": "2022-08-04T20:11:24.014422",
     "exception": false,
     "start_time": "2022-08-04T20:11:23.956114",
     "status": "completed"
    },
    "tags": []
   },
   "outputs": [],
   "source": [
    "training_data_x = X_train\n",
    "testing_data_x = X_test\n",
    "training_data_y = y_train.reshape(-1,1)\n",
    "testing_data_y = y_test.reshape(-1,1)"
   ]
  },
  {
   "cell_type": "code",
   "execution_count": 19,
   "id": "76951160",
   "metadata": {
    "execution": {
     "iopub.execute_input": "2022-08-04T20:11:24.096305Z",
     "iopub.status.busy": "2022-08-04T20:11:24.095430Z",
     "iopub.status.idle": "2022-08-04T20:11:24.114875Z",
     "shell.execute_reply": "2022-08-04T20:11:24.115642Z"
    },
    "papermill": {
     "duration": 0.064239,
     "end_time": "2022-08-04T20:11:24.115913",
     "exception": false,
     "start_time": "2022-08-04T20:11:24.051674",
     "status": "completed"
    },
    "tags": []
   },
   "outputs": [
    {
     "name": "stdout",
     "output_type": "stream",
     "text": [
      "xavier\n",
      "xavier\n",
      "xavier\n",
      "xavier\n",
      "xavier\n"
     ]
    }
   ],
   "source": [
    "layers = [Affine(\"first\", 784, 100), Relu(\"first\"), Affine(\"second\", 100, 100), Relu(\"second\"), Affine(\"third\", 100, 2), Affine(\"last\", 2, 1), Sigmoid(\"last\")]\n",
    "model_nn = Model(layers)\n",
    "model_lr = Model([Affine(\"logits\", 784, 1), Sigmoid(\"sigmoid\")])"
   ]
  },
  {
   "cell_type": "code",
   "execution_count": 20,
   "id": "6eede77a",
   "metadata": {
    "execution": {
     "iopub.execute_input": "2022-08-04T20:11:24.204024Z",
     "iopub.status.busy": "2022-08-04T20:11:24.200201Z",
     "iopub.status.idle": "2022-08-04T20:11:24.213407Z",
     "shell.execute_reply": "2022-08-04T20:11:24.214015Z"
    },
    "papermill": {
     "duration": 0.061677,
     "end_time": "2022-08-04T20:11:24.214195",
     "exception": false,
     "start_time": "2022-08-04T20:11:24.152518",
     "status": "completed"
    },
    "tags": []
   },
   "outputs": [],
   "source": [
    "nn_learner = Learner(loss, model_nn, opt, config.num_epochs)\n",
    "acc_nn = ClfCallback(nn_learner, config.bs, training_data_x , testing_data_x, training_data_y, testing_data_y)\n",
    "nn_learner.set_callbacks([acc_nn])"
   ]
  },
  {
   "cell_type": "code",
   "execution_count": 21,
   "id": "877b6cc7",
   "metadata": {
    "execution": {
     "iopub.execute_input": "2022-08-04T20:11:24.294171Z",
     "iopub.status.busy": "2022-08-04T20:11:24.293403Z",
     "iopub.status.idle": "2022-08-04T20:11:24.309621Z",
     "shell.execute_reply": "2022-08-04T20:11:24.308980Z"
    },
    "papermill": {
     "duration": 0.059034,
     "end_time": "2022-08-04T20:11:24.309802",
     "exception": false,
     "start_time": "2022-08-04T20:11:24.250768",
     "status": "completed"
    },
    "tags": []
   },
   "outputs": [],
   "source": [
    "lr_learner = Learner(loss, model_lr, opt, config.num_epochs)\n",
    "acc_lr = ClfCallback(lr_learner, config.bs, training_data_x , testing_data_x, training_data_y, testing_data_y)\n",
    "lr_learner.set_callbacks([acc_lr])"
   ]
  },
  {
   "cell_type": "code",
   "execution_count": 22,
   "id": "d9b133c3",
   "metadata": {
    "execution": {
     "iopub.execute_input": "2022-08-04T20:11:24.393239Z",
     "iopub.status.busy": "2022-08-04T20:11:24.392440Z",
     "iopub.status.idle": "2022-08-04T20:13:50.563262Z",
     "shell.execute_reply": "2022-08-04T20:13:50.563832Z"
    },
    "papermill": {
     "duration": 146.217677,
     "end_time": "2022-08-04T20:13:50.564017",
     "exception": false,
     "start_time": "2022-08-04T20:11:24.346340",
     "status": "completed"
    },
    "tags": []
   },
   "outputs": [
    {
     "name": "stdout",
     "output_type": "stream",
     "text": [
      "Epoch 0, Loss 0.2206\n",
      "Training Accuracy: 0.7642, Testing Accuracy: 0.7752\n",
      "\n"
     ]
    },
    {
     "name": "stdout",
     "output_type": "stream",
     "text": [
      "Epoch 10, Loss 0.0752\n",
      "Training Accuracy: 0.9295, Testing Accuracy: 0.9476\n",
      "\n"
     ]
    },
    {
     "name": "stdout",
     "output_type": "stream",
     "text": [
      "Epoch 20, Loss 0.0493\n",
      "Training Accuracy: 0.9473, Testing Accuracy: 0.9597\n",
      "\n"
     ]
    },
    {
     "name": "stdout",
     "output_type": "stream",
     "text": [
      "Epoch 30, Loss 0.0402\n",
      "Training Accuracy: 0.9556, Testing Accuracy: 0.9672\n",
      "\n"
     ]
    },
    {
     "name": "stdout",
     "output_type": "stream",
     "text": [
      "Epoch 40, Loss 0.0356\n",
      "Training Accuracy: 0.9588, Testing Accuracy: 0.9693\n",
      "\n"
     ]
    },
    {
     "name": "stdout",
     "output_type": "stream",
     "text": [
      "Epoch 50, Loss 0.0327\n",
      "Training Accuracy: 0.9622, Testing Accuracy: 0.9703\n",
      "\n"
     ]
    },
    {
     "name": "stdout",
     "output_type": "stream",
     "text": [
      "Epoch 60, Loss 0.0307\n",
      "Training Accuracy: 0.9644, Testing Accuracy: 0.9733\n",
      "\n"
     ]
    },
    {
     "name": "stdout",
     "output_type": "stream",
     "text": [
      "Epoch 70, Loss 0.0291\n",
      "Training Accuracy: 0.9664, Testing Accuracy: 0.9718\n",
      "\n"
     ]
    },
    {
     "name": "stdout",
     "output_type": "stream",
     "text": [
      "Epoch 80, Loss 0.0278\n",
      "Training Accuracy: 0.9679, Testing Accuracy: 0.9723\n",
      "\n"
     ]
    },
    {
     "name": "stdout",
     "output_type": "stream",
     "text": [
      "Epoch 90, Loss 0.0268\n",
      "Training Accuracy: 0.9687, Testing Accuracy: 0.9718\n",
      "\n"
     ]
    },
    {
     "name": "stdout",
     "output_type": "stream",
     "text": [
      "Epoch 100, Loss 0.0258\n",
      "Training Accuracy: 0.9696, Testing Accuracy: 0.9728\n",
      "\n"
     ]
    },
    {
     "name": "stdout",
     "output_type": "stream",
     "text": [
      "Epoch 110, Loss 0.025\n",
      "Training Accuracy: 0.9707, Testing Accuracy: 0.9728\n",
      "\n"
     ]
    },
    {
     "name": "stdout",
     "output_type": "stream",
     "text": [
      "Epoch 120, Loss 0.0243\n",
      "Training Accuracy: 0.9715, Testing Accuracy: 0.9738\n",
      "\n"
     ]
    },
    {
     "name": "stdout",
     "output_type": "stream",
     "text": [
      "Epoch 130, Loss 0.0236\n",
      "Training Accuracy: 0.9721, Testing Accuracy: 0.9733\n",
      "\n"
     ]
    },
    {
     "name": "stdout",
     "output_type": "stream",
     "text": [
      "Epoch 140, Loss 0.023\n",
      "Training Accuracy: 0.9730, Testing Accuracy: 0.9743\n",
      "\n"
     ]
    },
    {
     "name": "stdout",
     "output_type": "stream",
     "text": [
      "Epoch 150, Loss 0.0224\n",
      "Training Accuracy: 0.9737, Testing Accuracy: 0.9738\n",
      "\n"
     ]
    },
    {
     "name": "stdout",
     "output_type": "stream",
     "text": [
      "Epoch 160, Loss 0.0218\n",
      "Training Accuracy: 0.9748, Testing Accuracy: 0.9743\n",
      "\n"
     ]
    },
    {
     "name": "stdout",
     "output_type": "stream",
     "text": [
      "Epoch 170, Loss 0.0213\n",
      "Training Accuracy: 0.9755, Testing Accuracy: 0.9743\n",
      "\n"
     ]
    },
    {
     "name": "stdout",
     "output_type": "stream",
     "text": [
      "Epoch 180, Loss 0.0208\n",
      "Training Accuracy: 0.9764, Testing Accuracy: 0.9743\n",
      "\n"
     ]
    },
    {
     "name": "stdout",
     "output_type": "stream",
     "text": [
      "Epoch 190, Loss 0.0204\n",
      "Training Accuracy: 0.9771, Testing Accuracy: 0.9738\n",
      "\n"
     ]
    },
    {
     "name": "stdout",
     "output_type": "stream",
     "text": [
      "Epoch 200, Loss 0.0199\n",
      "Training Accuracy: 0.9775, Testing Accuracy: 0.9743\n",
      "\n"
     ]
    },
    {
     "name": "stdout",
     "output_type": "stream",
     "text": [
      "Epoch 210, Loss 0.0195\n",
      "Training Accuracy: 0.9782, Testing Accuracy: 0.9738\n",
      "\n"
     ]
    },
    {
     "name": "stdout",
     "output_type": "stream",
     "text": [
      "Epoch 220, Loss 0.019\n",
      "Training Accuracy: 0.9791, Testing Accuracy: 0.9748\n",
      "\n"
     ]
    },
    {
     "name": "stdout",
     "output_type": "stream",
     "text": [
      "Epoch 230, Loss 0.0186\n",
      "Training Accuracy: 0.9792, Testing Accuracy: 0.9743\n",
      "\n"
     ]
    },
    {
     "name": "stdout",
     "output_type": "stream",
     "text": [
      "Epoch 240, Loss 0.0182\n",
      "Training Accuracy: 0.9801, Testing Accuracy: 0.9748\n",
      "\n"
     ]
    },
    {
     "data": {
      "text/plain": [
       "0.016283403212449893"
      ]
     },
     "execution_count": 22,
     "metadata": {},
     "output_type": "execute_result"
    }
   ],
   "source": [
    "nn_learner.train_loop(dl)"
   ]
  },
  {
   "cell_type": "code",
   "execution_count": 23,
   "id": "e0163366",
   "metadata": {
    "execution": {
     "iopub.execute_input": "2022-08-04T20:13:50.671671Z",
     "iopub.status.busy": "2022-08-04T20:13:50.670825Z",
     "iopub.status.idle": "2022-08-04T20:14:11.735601Z",
     "shell.execute_reply": "2022-08-04T20:14:11.736406Z"
    },
    "papermill": {
     "duration": 21.124893,
     "end_time": "2022-08-04T20:14:11.736594",
     "exception": false,
     "start_time": "2022-08-04T20:13:50.611701",
     "status": "completed"
    },
    "tags": []
   },
   "outputs": [
    {
     "name": "stdout",
     "output_type": "stream",
     "text": [
      "Epoch 0, Loss 0.2508\n",
      "Training Accuracy: 0.6367, Testing Accuracy: 0.6552\n",
      "\n"
     ]
    },
    {
     "name": "stdout",
     "output_type": "stream",
     "text": [
      "Epoch 10, Loss 0.1086\n",
      "Training Accuracy: 0.8938, Testing Accuracy: 0.9103\n",
      "\n"
     ]
    },
    {
     "name": "stdout",
     "output_type": "stream",
     "text": [
      "Epoch 20, Loss 0.0823\n",
      "Training Accuracy: 0.9215, Testing Accuracy: 0.9320\n",
      "\n"
     ]
    },
    {
     "name": "stdout",
     "output_type": "stream",
     "text": [
      "Epoch 30, Loss 0.0702\n",
      "Training Accuracy: 0.9323, Testing Accuracy: 0.9415\n",
      "\n"
     ]
    },
    {
     "name": "stdout",
     "output_type": "stream",
     "text": [
      "Epoch 40, Loss 0.063\n",
      "Training Accuracy: 0.9386, Testing Accuracy: 0.9461\n",
      "\n"
     ]
    },
    {
     "name": "stdout",
     "output_type": "stream",
     "text": [
      "Epoch 50, Loss 0.0581\n",
      "Training Accuracy: 0.9431, Testing Accuracy: 0.9501\n",
      "\n"
     ]
    },
    {
     "name": "stdout",
     "output_type": "stream",
     "text": [
      "Epoch 60, Loss 0.0545\n",
      "Training Accuracy: 0.9458, Testing Accuracy: 0.9551\n",
      "\n"
     ]
    },
    {
     "name": "stdout",
     "output_type": "stream",
     "text": [
      "Epoch 70, Loss 0.0518\n",
      "Training Accuracy: 0.9483, Testing Accuracy: 0.9561\n",
      "\n"
     ]
    },
    {
     "name": "stdout",
     "output_type": "stream",
     "text": [
      "Epoch 80, Loss 0.0497\n",
      "Training Accuracy: 0.9505, Testing Accuracy: 0.9587\n",
      "\n"
     ]
    },
    {
     "name": "stdout",
     "output_type": "stream",
     "text": [
      "Epoch 90, Loss 0.0479\n",
      "Training Accuracy: 0.9519, Testing Accuracy: 0.9597\n",
      "\n"
     ]
    },
    {
     "name": "stdout",
     "output_type": "stream",
     "text": [
      "Epoch 100, Loss 0.0464\n",
      "Training Accuracy: 0.9526, Testing Accuracy: 0.9617\n",
      "\n"
     ]
    },
    {
     "name": "stdout",
     "output_type": "stream",
     "text": [
      "Epoch 110, Loss 0.0451\n",
      "Training Accuracy: 0.9530, Testing Accuracy: 0.9627\n",
      "\n"
     ]
    },
    {
     "name": "stdout",
     "output_type": "stream",
     "text": [
      "Epoch 120, Loss 0.044\n",
      "Training Accuracy: 0.9543, Testing Accuracy: 0.9637\n",
      "\n"
     ]
    },
    {
     "name": "stdout",
     "output_type": "stream",
     "text": [
      "Epoch 130, Loss 0.043\n",
      "Training Accuracy: 0.9557, Testing Accuracy: 0.9642\n",
      "\n"
     ]
    },
    {
     "name": "stdout",
     "output_type": "stream",
     "text": [
      "Epoch 140, Loss 0.0422\n",
      "Training Accuracy: 0.9563, Testing Accuracy: 0.9642\n",
      "\n"
     ]
    },
    {
     "name": "stdout",
     "output_type": "stream",
     "text": [
      "Epoch 150, Loss 0.0414\n",
      "Training Accuracy: 0.9570, Testing Accuracy: 0.9647\n",
      "\n"
     ]
    },
    {
     "name": "stdout",
     "output_type": "stream",
     "text": [
      "Epoch 160, Loss 0.0407\n",
      "Training Accuracy: 0.9577, Testing Accuracy: 0.9652\n",
      "\n"
     ]
    },
    {
     "name": "stdout",
     "output_type": "stream",
     "text": [
      "Epoch 170, Loss 0.0401\n",
      "Training Accuracy: 0.9580, Testing Accuracy: 0.9652\n",
      "\n"
     ]
    },
    {
     "name": "stdout",
     "output_type": "stream",
     "text": [
      "Epoch 180, Loss 0.0395\n",
      "Training Accuracy: 0.9583, Testing Accuracy: 0.9657\n",
      "\n"
     ]
    },
    {
     "name": "stdout",
     "output_type": "stream",
     "text": [
      "Epoch 190, Loss 0.039\n",
      "Training Accuracy: 0.9588, Testing Accuracy: 0.9657\n",
      "\n"
     ]
    },
    {
     "name": "stdout",
     "output_type": "stream",
     "text": [
      "Epoch 200, Loss 0.0385\n",
      "Training Accuracy: 0.9591, Testing Accuracy: 0.9662\n",
      "\n"
     ]
    },
    {
     "name": "stdout",
     "output_type": "stream",
     "text": [
      "Epoch 210, Loss 0.038\n",
      "Training Accuracy: 0.9595, Testing Accuracy: 0.9667\n",
      "\n"
     ]
    },
    {
     "name": "stdout",
     "output_type": "stream",
     "text": [
      "Epoch 220, Loss 0.0376\n",
      "Training Accuracy: 0.9601, Testing Accuracy: 0.9672\n",
      "\n"
     ]
    },
    {
     "name": "stdout",
     "output_type": "stream",
     "text": [
      "Epoch 230, Loss 0.0372\n",
      "Training Accuracy: 0.9606, Testing Accuracy: 0.9672\n",
      "\n"
     ]
    },
    {
     "name": "stdout",
     "output_type": "stream",
     "text": [
      "Epoch 240, Loss 0.0369\n",
      "Training Accuracy: 0.9612, Testing Accuracy: 0.9677\n",
      "\n"
     ]
    },
    {
     "data": {
      "text/plain": [
       "0.06539301334729929"
      ]
     },
     "execution_count": 23,
     "metadata": {},
     "output_type": "execute_result"
    }
   ],
   "source": [
    "lr_learner.train_loop(dl)"
   ]
  },
  {
   "cell_type": "code",
   "execution_count": 24,
   "id": "ca410940",
   "metadata": {
    "execution": {
     "iopub.execute_input": "2022-08-04T20:14:11.858636Z",
     "iopub.status.busy": "2022-08-04T20:14:11.857803Z",
     "iopub.status.idle": "2022-08-04T20:14:12.185207Z",
     "shell.execute_reply": "2022-08-04T20:14:12.185783Z"
    },
    "papermill": {
     "duration": 0.394795,
     "end_time": "2022-08-04T20:14:12.185964",
     "exception": false,
     "start_time": "2022-08-04T20:14:11.791169",
     "status": "completed"
    },
    "tags": []
   },
   "outputs": [
    {
     "data": {
      "text/plain": [
       "<matplotlib.legend.Legend at 0x7f295db46b00>"
      ]
     },
     "execution_count": 24,
     "metadata": {},
     "output_type": "execute_result"
    },
    {
     "data": {
      "image/png": "[encoded data removed]",
      "text/plain": [
       "<Figure size 1080x720 with 1 Axes>"
      ]
     },
     "metadata": {
      "needs_background": "light"
     },
     "output_type": "display_data"
    }
   ],
   "source": [
    "#comparing the results of NN and LR\n",
    "plt.figure(figsize=(15,10))\n",
    "\n",
    "# Neural Network plots\n",
    "plt.plot(acc_nn.accuracies, 'r-', label = \"Training Accuracies - NN\")\n",
    "plt.plot(acc_nn.test_accuracies, 'g-', label = \"Testing Accuracies - NN\")\n",
    "\n",
    "# Logistic Regression plots\n",
    "plt.plot(acc_lr.accuracies, 'k-', label = \"Training Accuracies - LR\")\n",
    "plt.plot(acc_lr.test_accuracies, 'b-', label = \"Testing Accuracies - LR\")\n",
    "plt.legend()"
   ]
  },
  {
   "cell_type": "markdown",
   "id": "80dfb35c",
   "metadata": {
    "papermill": {
     "duration": 0.054874,
     "end_time": "2022-08-04T20:14:12.297614",
     "exception": false,
     "start_time": "2022-08-04T20:14:12.242740",
     "status": "completed"
    },
    "tags": []
   },
   "source": [
    "#### Plotting the outputs of this layer of the NN.\n"
   ]
  },
  {
   "cell_type": "code",
   "execution_count": 25,
   "id": "45eb2ff5",
   "metadata": {
    "execution": {
     "iopub.execute_input": "2022-08-04T20:14:12.421716Z",
     "iopub.status.busy": "2022-08-04T20:14:12.420313Z",
     "iopub.status.idle": "2022-08-04T20:14:12.450354Z",
     "shell.execute_reply": "2022-08-04T20:14:12.451328Z"
    },
    "papermill": {
     "duration": 0.091823,
     "end_time": "2022-08-04T20:14:12.451517",
     "exception": false,
     "start_time": "2022-08-04T20:14:12.359694",
     "status": "completed"
    },
    "tags": []
   },
   "outputs": [],
   "source": [
    "new_model = Model(layers[:-2])\n",
    "testing_plot = new_model(testing_data_x)"
   ]
  },
  {
   "cell_type": "code",
   "execution_count": 26,
   "id": "4c0a5485",
   "metadata": {
    "execution": {
     "iopub.execute_input": "2022-08-04T20:14:12.571766Z",
     "iopub.status.busy": "2022-08-04T20:14:12.570958Z",
     "iopub.status.idle": "2022-08-04T20:14:12.842554Z",
     "shell.execute_reply": "2022-08-04T20:14:12.841942Z"
    },
    "papermill": {
     "duration": 0.335032,
     "end_time": "2022-08-04T20:14:12.842710",
     "exception": false,
     "start_time": "2022-08-04T20:14:12.507678",
     "status": "completed"
    },
    "tags": []
   },
   "outputs": [
    {
     "data": {
      "text/plain": [
       "Text(0.5, 1.0, 'Outputs')"
      ]
     },
     "execution_count": 26,
     "metadata": {},
     "output_type": "execute_result"
    },
    {
     "data": {
      "image/png": "[encoded data removed]",
      "text/plain": [
       "<Figure size 576x504 with 1 Axes>"
      ]
     },
     "metadata": {
      "needs_background": "light"
     },
     "output_type": "display_data"
    }
   ],
   "source": [
    "# Plotting the scatter plot of points and color coding by class\n",
    "plt.figure(figsize=(8,7))\n",
    "plt.scatter(testing_plot[:,0], testing_plot[:,1], alpha = 0.1, c = y_test.ravel());\n",
    "plt.title('Outputs')"
   ]
  },
  {
   "cell_type": "markdown",
   "id": "a74fcf8f",
   "metadata": {
    "papermill": {
     "duration": 0.091573,
     "end_time": "2022-08-04T20:14:12.995588",
     "exception": false,
     "start_time": "2022-08-04T20:14:12.904015",
     "status": "completed"
    },
    "tags": []
   },
   "source": [
    "Probability contours"
   ]
  },
  {
   "cell_type": "code",
   "execution_count": 27,
   "id": "d0afc8e3",
   "metadata": {
    "execution": {
     "iopub.execute_input": "2022-08-04T20:14:13.123558Z",
     "iopub.status.busy": "2022-08-04T20:14:13.122747Z",
     "iopub.status.idle": "2022-08-04T20:14:13.138830Z",
     "shell.execute_reply": "2022-08-04T20:14:13.139504Z"
    },
    "papermill": {
     "duration": 0.082545,
     "end_time": "2022-08-04T20:14:13.139693",
     "exception": false,
     "start_time": "2022-08-04T20:14:13.057148",
     "status": "completed"
    },
    "tags": []
   },
   "outputs": [],
   "source": [
    "model_prob = Model(layers[-2:]) "
   ]
  },
  {
   "cell_type": "code",
   "execution_count": 28,
   "id": "9b96e238",
   "metadata": {
    "execution": {
     "iopub.execute_input": "2022-08-04T20:14:13.264709Z",
     "iopub.status.busy": "2022-08-04T20:14:13.263896Z",
     "iopub.status.idle": "2022-08-04T20:14:13.280232Z",
     "shell.execute_reply": "2022-08-04T20:14:13.280824Z"
    },
    "papermill": {
     "duration": 0.082662,
     "end_time": "2022-08-04T20:14:13.281007",
     "exception": false,
     "start_time": "2022-08-04T20:14:13.198345",
     "status": "completed"
    },
    "tags": []
   },
   "outputs": [],
   "source": [
    "#creating the x and y ranges according to the above generated plot.\n",
    "x_range = np.linspace(-4, 1, 100) \n",
    "y_range = np.linspace(-6, 6, 100) \n",
    "x_grid, y_grid = np.meshgrid(x_range, y_range) # x_grid and y_grig are of size 100 X 100\n",
    "\n",
    "# converting x_grid and y_grid to continuous arrays\n",
    "x_gridflat = np.ravel(x_grid)\n",
    "y_gridflat = np.ravel(y_grid)\n",
    "\n",
    "# The last layer of the current model takes two columns as input. Hence transpose of np.vstack() is required.\n",
    "X = np.vstack((x_gridflat, y_gridflat)).T\n",
    "\n",
    "prob_contour = model_prob(X).reshape(100,100) "
   ]
  },
  {
   "cell_type": "code",
   "execution_count": 29,
   "id": "da72499a",
   "metadata": {
    "execution": {
     "iopub.execute_input": "2022-08-04T20:14:13.412241Z",
     "iopub.status.busy": "2022-08-04T20:14:13.411456Z",
     "iopub.status.idle": "2022-08-04T20:14:13.767357Z",
     "shell.execute_reply": "2022-08-04T20:14:13.766685Z"
    },
    "papermill": {
     "duration": 0.427193,
     "end_time": "2022-08-04T20:14:13.767534",
     "exception": false,
     "start_time": "2022-08-04T20:14:13.340341",
     "status": "completed"
    },
    "tags": []
   },
   "outputs": [
    {
     "data": {
      "image/png": "[encoded data removed]",
      "text/plain": [
       "<Figure size 720x648 with 1 Axes>"
      ]
     },
     "metadata": {
      "needs_background": "light"
     },
     "output_type": "display_data"
    }
   ],
   "source": [
    "plt.figure(figsize=(10,9))\n",
    "plt.scatter(testing_plot[:,0], testing_plot[:,1], alpha = 0.1, c = y_test.ravel())\n",
    "contours = plt.contour(x_grid,y_grid,prob_contour)\n",
    "plt.title('Probability Contours')\n",
    "plt.clabel(contours, inline = True );"
   ]
  },
  {
   "cell_type": "code",
   "execution_count": null,
   "id": "e81b4ac7",
   "metadata": {
    "papermill": {
     "duration": 0.065484,
     "end_time": "2022-08-04T20:14:13.902064",
     "exception": false,
     "start_time": "2022-08-04T20:14:13.836580",
     "status": "completed"
    },
    "tags": []
   },
   "outputs": [],
   "source": []
  }
 ],
 "metadata": {
  "kernelspec": {
   "display_name": "Python 3",
   "language": "python",
   "name": "python3"
  },
  "language_info": {
   "codemirror_mode": {
    "name": "ipython",
    "version": 3
   },
   "file_extension": ".py",
   "mimetype": "text/x-python",
   "name": "python",
   "nbconvert_exporter": "python",
   "pygments_lexer": "ipython3",
   "version": "3.6.15"
  },
  "papermill": {
   "default_parameters": {},
   "duration": 178.180296,
   "end_time": "2022-08-04T20:14:14.490054",
   "environment_variables": {},
   "exception": null,
   "input_path": "2020-08-11-part2.ipynb",
   "output_path": "2020-08-11-part2.ipynb",
   "parameters": {},
   "start_time": "2022-08-04T20:11:16.309758",
   "version": "2.3.3"
  }
 },
 "nbformat": 4,
 "nbformat_minor": 5
}