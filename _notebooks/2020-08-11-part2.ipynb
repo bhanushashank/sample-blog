{
 "cells": [
  {
   "cell_type": "markdown",
   "id": "98380cd3",
   "metadata": {
    "papermill": {
     "duration": 0.036563,
     "end_time": "2022-11-03T00:45:54.664842",
     "exception": false,
     "start_time": "2022-11-03T00:45:54.628279",
     "status": "completed"
    },
    "tags": []
   },
   "source": [
    "# Distinguish Your Own Digits (DYOD)"
   ]
  },
  {
   "cell_type": "markdown",
   "id": "ef31240d",
   "metadata": {
    "papermill": {
     "duration": 0.033162,
     "end_time": "2022-11-03T00:45:54.730672",
     "exception": false,
     "start_time": "2022-11-03T00:45:54.697510",
     "status": "completed"
    },
    "tags": []
   },
   "source": [
    "You are going to write a classifier that distinguishes between the number 3 and number 8."
   ]
  },
  {
   "cell_type": "code",
   "execution_count": 1,
   "id": "b15c8646",
   "metadata": {
    "execution": {
     "iopub.execute_input": "2022-11-03T00:45:54.807191Z",
     "iopub.status.busy": "2022-11-03T00:45:54.806466Z",
     "iopub.status.idle": "2022-11-03T00:45:54.818140Z",
     "shell.execute_reply": "2022-11-03T00:45:54.818723Z"
    },
    "papermill": {
     "duration": 0.055175,
     "end_time": "2022-11-03T00:45:54.818888",
     "exception": false,
     "start_time": "2022-11-03T00:45:54.763713",
     "status": "completed"
    },
    "tags": []
   },
   "outputs": [],
   "source": [
    "%load_ext autoreload\n",
    "%autoreload 2"
   ]
  },
  {
   "cell_type": "code",
   "execution_count": 2,
   "id": "22ef38dc",
   "metadata": {
    "execution": {
     "iopub.execute_input": "2022-11-03T00:45:54.884959Z",
     "iopub.status.busy": "2022-11-03T00:45:54.883932Z",
     "iopub.status.idle": "2022-11-03T00:45:55.563131Z",
     "shell.execute_reply": "2022-11-03T00:45:55.562510Z"
    },
    "papermill": {
     "duration": 0.71543,
     "end_time": "2022-11-03T00:45:55.563277",
     "exception": false,
     "start_time": "2022-11-03T00:45:54.847847",
     "status": "completed"
    },
    "tags": []
   },
   "outputs": [],
   "source": [
    "%matplotlib inline\n",
    "import numpy as np\n",
    "import matplotlib.pyplot as plt\n",
    "import pandas as pd"
   ]
  },
  {
   "cell_type": "markdown",
   "id": "ba036198",
   "metadata": {
    "papermill": {
     "duration": 0.056904,
     "end_time": "2022-11-03T00:45:55.650846",
     "exception": false,
     "start_time": "2022-11-03T00:45:55.593942",
     "status": "completed"
    },
    "tags": []
   },
   "source": [
    "From the command line run `pip install mnist`. This is a library that will help you bring down the mnist dataset. If you run this from a notebook, you need to put  `!pip install mnist` in a cell by itself."
   ]
  },
  {
   "cell_type": "code",
   "execution_count": 3,
   "id": "bb6ad8a1",
   "metadata": {
    "execution": {
     "iopub.execute_input": "2022-11-03T00:45:55.738928Z",
     "iopub.status.busy": "2022-11-03T00:45:55.738061Z",
     "iopub.status.idle": "2022-11-03T00:45:58.013804Z",
     "shell.execute_reply": "2022-11-03T00:45:58.013069Z"
    },
    "papermill": {
     "duration": 2.315222,
     "end_time": "2022-11-03T00:45:58.013952",
     "exception": false,
     "start_time": "2022-11-03T00:45:55.698730",
     "status": "completed"
    },
    "tags": []
   },
   "outputs": [
    {
     "name": "stdout",
     "output_type": "stream",
     "text": [
      "Collecting mnist\r\n"
     ]
    },
    {
     "name": "stdout",
     "output_type": "stream",
     "text": [
      "  Downloading mnist-0.2.2-py2.py3-none-any.whl (3.5 kB)\r\n",
      "Requirement already satisfied: numpy in /opt/hostedtoolcache/Python/3.6.15/x64/lib/python3.6/site-packages (from mnist) (1.19.5)\r\n"
     ]
    },
    {
     "name": "stdout",
     "output_type": "stream",
     "text": [
      "Installing collected packages: mnist\r\n"
     ]
    },
    {
     "name": "stdout",
     "output_type": "stream",
     "text": [
      "Successfully installed mnist-0.2.2\r\n"
     ]
    }
   ],
   "source": [
    "!pip install mnist"
   ]
  },
  {
   "cell_type": "markdown",
   "id": "69df9c9a",
   "metadata": {
    "papermill": {
     "duration": 0.033483,
     "end_time": "2022-11-03T00:45:58.078421",
     "exception": false,
     "start_time": "2022-11-03T00:45:58.044938",
     "status": "completed"
    },
    "tags": []
   },
   "source": [
    "## Preparing the Data"
   ]
  },
  {
   "cell_type": "code",
   "execution_count": 4,
   "id": "7f69d806",
   "metadata": {
    "execution": {
     "iopub.execute_input": "2022-11-03T00:45:58.144097Z",
     "iopub.status.busy": "2022-11-03T00:45:58.143375Z",
     "iopub.status.idle": "2022-11-03T00:45:58.163287Z",
     "shell.execute_reply": "2022-11-03T00:45:58.162653Z"
    },
    "papermill": {
     "duration": 0.05534,
     "end_time": "2022-11-03T00:45:58.163423",
     "exception": false,
     "start_time": "2022-11-03T00:45:58.108083",
     "status": "completed"
    },
    "tags": []
   },
   "outputs": [],
   "source": [
    "import mnist"
   ]
  },
  {
   "cell_type": "code",
   "execution_count": 5,
   "id": "a411e44f",
   "metadata": {
    "execution": {
     "iopub.execute_input": "2022-11-03T00:45:58.234169Z",
     "iopub.status.busy": "2022-11-03T00:45:58.231721Z",
     "iopub.status.idle": "2022-11-03T00:45:58.783241Z",
     "shell.execute_reply": "2022-11-03T00:45:58.782664Z"
    },
    "papermill": {
     "duration": 0.58809,
     "end_time": "2022-11-03T00:45:58.783382",
     "exception": false,
     "start_time": "2022-11-03T00:45:58.195292",
     "status": "completed"
    },
    "tags": []
   },
   "outputs": [],
   "source": [
    "train_images = mnist.train_images()\n",
    "train_labels = mnist.train_labels()"
   ]
  },
  {
   "cell_type": "code",
   "execution_count": 6,
   "id": "dceab3a5",
   "metadata": {
    "execution": {
     "iopub.execute_input": "2022-11-03T00:45:58.854189Z",
     "iopub.status.busy": "2022-11-03T00:45:58.853367Z",
     "iopub.status.idle": "2022-11-03T00:45:58.872672Z",
     "shell.execute_reply": "2022-11-03T00:45:58.872041Z"
    },
    "papermill": {
     "duration": 0.057715,
     "end_time": "2022-11-03T00:45:58.872806",
     "exception": false,
     "start_time": "2022-11-03T00:45:58.815091",
     "status": "completed"
    },
    "tags": []
   },
   "outputs": [
    {
     "data": {
      "text/plain": [
       "((60000, 28, 28), (60000,))"
      ]
     },
     "execution_count": 6,
     "metadata": {},
     "output_type": "execute_result"
    }
   ],
   "source": [
    "train_images.shape, train_labels.shape"
   ]
  },
  {
   "cell_type": "code",
   "execution_count": 7,
   "id": "f50dc2bb",
   "metadata": {
    "execution": {
     "iopub.execute_input": "2022-11-03T00:45:58.948898Z",
     "iopub.status.busy": "2022-11-03T00:45:58.947977Z",
     "iopub.status.idle": "2022-11-03T00:45:59.081991Z",
     "shell.execute_reply": "2022-11-03T00:45:59.082570Z"
    },
    "papermill": {
     "duration": 0.173723,
     "end_time": "2022-11-03T00:45:59.082742",
     "exception": false,
     "start_time": "2022-11-03T00:45:58.909019",
     "status": "completed"
    },
    "tags": []
   },
   "outputs": [],
   "source": [
    "test_images = mnist.test_images()\n",
    "test_labels = mnist.test_labels()"
   ]
  },
  {
   "cell_type": "code",
   "execution_count": 8,
   "id": "fc38cf1b",
   "metadata": {
    "execution": {
     "iopub.execute_input": "2022-11-03T00:45:59.157113Z",
     "iopub.status.busy": "2022-11-03T00:45:59.156332Z",
     "iopub.status.idle": "2022-11-03T00:45:59.169362Z",
     "shell.execute_reply": "2022-11-03T00:45:59.168793Z"
    },
    "papermill": {
     "duration": 0.052133,
     "end_time": "2022-11-03T00:45:59.169482",
     "exception": false,
     "start_time": "2022-11-03T00:45:59.117349",
     "status": "completed"
    },
    "tags": []
   },
   "outputs": [
    {
     "data": {
      "text/plain": [
       "((10000, 28, 28), (10000,))"
      ]
     },
     "execution_count": 8,
     "metadata": {},
     "output_type": "execute_result"
    }
   ],
   "source": [
    "test_images.shape, test_labels.shape"
   ]
  },
  {
   "cell_type": "code",
   "execution_count": 9,
   "id": "f9ed8fe0",
   "metadata": {
    "execution": {
     "iopub.execute_input": "2022-11-03T00:45:59.234383Z",
     "iopub.status.busy": "2022-11-03T00:45:59.233633Z",
     "iopub.status.idle": "2022-11-03T00:45:59.420489Z",
     "shell.execute_reply": "2022-11-03T00:45:59.421118Z"
    },
    "papermill": {
     "duration": 0.221651,
     "end_time": "2022-11-03T00:45:59.421329",
     "exception": false,
     "start_time": "2022-11-03T00:45:59.199678",
     "status": "completed"
    },
    "tags": []
   },
   "outputs": [
    {
     "name": "stdout",
     "output_type": "stream",
     "text": [
      "2\n"
     ]
    },
    {
     "data": {
      "text/plain": [
       "<matplotlib.image.AxesImage at 0x7f0fd088dc88>"
      ]
     },
     "execution_count": 9,
     "metadata": {},
     "output_type": "execute_result"
    },
    {
     "data": {
      "image/png": "[encoded data removed]",
      "text/plain": [
       "<Figure size 432x288 with 1 Axes>"
      ]
     },
     "metadata": {
      "needs_background": "light"
     },
     "output_type": "display_data"
    }
   ],
   "source": [
    "image_index = 7776 # You may select anything up to 60,000\n",
    "print(train_labels[image_index]) \n",
    "plt.imshow(train_images[image_index], cmap='Greys')"
   ]
  },
  {
   "cell_type": "markdown",
   "id": "a8d2388d",
   "metadata": {
    "papermill": {
     "duration": 0.033043,
     "end_time": "2022-11-03T00:45:59.489282",
     "exception": false,
     "start_time": "2022-11-03T00:45:59.456239",
     "status": "completed"
    },
    "tags": []
   },
   "source": [
    "## Filter data to get 3 and 8 out"
   ]
  },
  {
   "cell_type": "code",
   "execution_count": 10,
   "id": "776f7fc7",
   "metadata": {
    "execution": {
     "iopub.execute_input": "2022-11-03T00:45:59.565739Z",
     "iopub.status.busy": "2022-11-03T00:45:59.564940Z",
     "iopub.status.idle": "2022-11-03T00:45:59.583027Z",
     "shell.execute_reply": "2022-11-03T00:45:59.582360Z"
    },
    "papermill": {
     "duration": 0.060846,
     "end_time": "2022-11-03T00:45:59.583169",
     "exception": false,
     "start_time": "2022-11-03T00:45:59.522323",
     "status": "completed"
    },
    "tags": []
   },
   "outputs": [],
   "source": [
    "train_filter = np.where((train_labels == 3 ) | (train_labels == 8))\n",
    "test_filter = np.where((test_labels == 3) | (test_labels == 8))\n",
    "X_train, y_train = train_images[train_filter], train_labels[train_filter]\n",
    "X_test, y_test = test_images[test_filter], test_labels[test_filter]"
   ]
  },
  {
   "cell_type": "markdown",
   "id": "948f0b7e",
   "metadata": {
    "papermill": {
     "duration": 0.033282,
     "end_time": "2022-11-03T00:45:59.652350",
     "exception": false,
     "start_time": "2022-11-03T00:45:59.619068",
     "status": "completed"
    },
    "tags": []
   },
   "source": [
    "We normalize the pizel values in the 0 to 1 range"
   ]
  },
  {
   "cell_type": "code",
   "execution_count": 11,
   "id": "ee4c2166",
   "metadata": {
    "execution": {
     "iopub.execute_input": "2022-11-03T00:45:59.724013Z",
     "iopub.status.busy": "2022-11-03T00:45:59.723263Z",
     "iopub.status.idle": "2022-11-03T00:45:59.781879Z",
     "shell.execute_reply": "2022-11-03T00:45:59.781250Z"
    },
    "papermill": {
     "duration": 0.098028,
     "end_time": "2022-11-03T00:45:59.782053",
     "exception": false,
     "start_time": "2022-11-03T00:45:59.684025",
     "status": "completed"
    },
    "tags": []
   },
   "outputs": [],
   "source": [
    "X_train = X_train/255.\n",
    "X_test = X_test/255."
   ]
  },
  {
   "cell_type": "markdown",
   "id": "ddcf4fab",
   "metadata": {
    "papermill": {
     "duration": 0.03293,
     "end_time": "2022-11-03T00:45:59.849051",
     "exception": false,
     "start_time": "2022-11-03T00:45:59.816121",
     "status": "completed"
    },
    "tags": []
   },
   "source": [
    "And setup the labels as 1 (when the digit is 3) and 0 (when the digit is 8)"
   ]
  },
  {
   "cell_type": "code",
   "execution_count": 12,
   "id": "7dc908f2",
   "metadata": {
    "execution": {
     "iopub.execute_input": "2022-11-03T00:45:59.921854Z",
     "iopub.status.busy": "2022-11-03T00:45:59.921106Z",
     "iopub.status.idle": "2022-11-03T00:45:59.931572Z",
     "shell.execute_reply": "2022-11-03T00:45:59.932065Z"
    },
    "papermill": {
     "duration": 0.051713,
     "end_time": "2022-11-03T00:45:59.932202",
     "exception": false,
     "start_time": "2022-11-03T00:45:59.880489",
     "status": "completed"
    },
    "tags": []
   },
   "outputs": [],
   "source": [
    "y_train = 1*(y_train==3)\n",
    "y_test = 1*(y_test==3)"
   ]
  },
  {
   "cell_type": "code",
   "execution_count": 13,
   "id": "01e4e969",
   "metadata": {
    "execution": {
     "iopub.execute_input": "2022-11-03T00:46:00.001670Z",
     "iopub.status.busy": "2022-11-03T00:46:00.000906Z",
     "iopub.status.idle": "2022-11-03T00:46:00.016711Z",
     "shell.execute_reply": "2022-11-03T00:46:00.016034Z"
    },
    "papermill": {
     "duration": 0.05177,
     "end_time": "2022-11-03T00:46:00.016859",
     "exception": false,
     "start_time": "2022-11-03T00:45:59.965089",
     "status": "completed"
    },
    "tags": []
   },
   "outputs": [
    {
     "data": {
      "text/plain": [
       "((11982, 28, 28), (1984, 28, 28))"
      ]
     },
     "execution_count": 13,
     "metadata": {},
     "output_type": "execute_result"
    }
   ],
   "source": [
    "X_train.shape, X_test.shape"
   ]
  },
  {
   "cell_type": "markdown",
   "id": "5ccf3f85",
   "metadata": {
    "papermill": {
     "duration": 0.036104,
     "end_time": "2022-11-03T00:46:00.090040",
     "exception": false,
     "start_time": "2022-11-03T00:46:00.053936",
     "status": "completed"
    },
    "tags": []
   },
   "source": [
    "We reshape the data to flatten the image pixels into a set of features or co-variates:"
   ]
  },
  {
   "cell_type": "code",
   "execution_count": 14,
   "id": "5286a4a3",
   "metadata": {
    "execution": {
     "iopub.execute_input": "2022-11-03T00:46:00.162190Z",
     "iopub.status.busy": "2022-11-03T00:46:00.161444Z",
     "iopub.status.idle": "2022-11-03T00:46:00.176717Z",
     "shell.execute_reply": "2022-11-03T00:46:00.177340Z"
    },
    "papermill": {
     "duration": 0.05455,
     "end_time": "2022-11-03T00:46:00.177548",
     "exception": false,
     "start_time": "2022-11-03T00:46:00.122998",
     "status": "completed"
    },
    "tags": []
   },
   "outputs": [
    {
     "data": {
      "text/plain": [
       "((11982, 784), (1984, 784))"
      ]
     },
     "execution_count": 14,
     "metadata": {},
     "output_type": "execute_result"
    }
   ],
   "source": [
    "X_train = X_train.reshape(X_train.shape[0], -1)\n",
    "X_test = X_test.reshape(X_test.shape[0], -1)\n",
    "X_train.shape, X_test.shape"
   ]
  },
  {
   "cell_type": "code",
   "execution_count": 15,
   "id": "73c5f88a",
   "metadata": {
    "execution": {
     "iopub.execute_input": "2022-11-03T00:46:00.247394Z",
     "iopub.status.busy": "2022-11-03T00:46:00.246697Z",
     "iopub.status.idle": "2022-11-03T00:46:00.266716Z",
     "shell.execute_reply": "2022-11-03T00:46:00.266132Z"
    },
    "papermill": {
     "duration": 0.056813,
     "end_time": "2022-11-03T00:46:00.266832",
     "exception": false,
     "start_time": "2022-11-03T00:46:00.210019",
     "status": "completed"
    },
    "tags": []
   },
   "outputs": [],
   "source": [
    "#Impoting functions from 'Kudzu'\n",
    "from kudzu.model import Model\n",
    "from kudzu.train import Learner\n",
    "from kudzu.optim import GD\n",
    "from kudzu.data import Data, Sampler,Dataloader\n",
    "\n",
    "from kudzu.callbacks import AccCallback\n",
    "from kudzu.callbacks import ClfCallback\n",
    "\n",
    "from kudzu.loss import MSE\n",
    "\n",
    "from kudzu.layer import Sigmoid,Relu\n",
    "from kudzu.layer import Affine"
   ]
  },
  {
   "cell_type": "markdown",
   "id": "bc01172a",
   "metadata": {
    "papermill": {
     "duration": 0.038747,
     "end_time": "2022-11-03T00:46:00.341547",
     "exception": false,
     "start_time": "2022-11-03T00:46:00.302800",
     "status": "completed"
    },
    "tags": []
   },
   "source": [
    "### Let us create a `Config` class, to store important parameters. \n",
    "This class essentially plays the role of a dictionary."
   ]
  },
  {
   "cell_type": "code",
   "execution_count": 16,
   "id": "978281aa",
   "metadata": {
    "execution": {
     "iopub.execute_input": "2022-11-03T00:46:00.418856Z",
     "iopub.status.busy": "2022-11-03T00:46:00.418092Z",
     "iopub.status.idle": "2022-11-03T00:46:00.430812Z",
     "shell.execute_reply": "2022-11-03T00:46:00.430236Z"
    },
    "papermill": {
     "duration": 0.05521,
     "end_time": "2022-11-03T00:46:00.430939",
     "exception": false,
     "start_time": "2022-11-03T00:46:00.375729",
     "status": "completed"
    },
    "tags": []
   },
   "outputs": [],
   "source": [
    "class Config:\n",
    "    pass\n",
    "config = Config()\n",
    "config.lr = 0.001\n",
    "config.num_epochs = 250\n",
    "config.bs = 50"
   ]
  },
  {
   "cell_type": "markdown",
   "id": "1385fa59",
   "metadata": {
    "papermill": {
     "duration": 0.033944,
     "end_time": "2022-11-03T00:46:00.498399",
     "exception": false,
     "start_time": "2022-11-03T00:46:00.464455",
     "status": "completed"
    },
    "tags": []
   },
   "source": [
    "### Running Models with the Training data\n",
    "Details about the network layers:\n",
    "- A first affine layer has 784 inputs and does 100 affine transforms. These are followed by a Relu\n",
    "- A second affine layer has 100 inputs from the 100 activations of the past layer, and does 100 affine transforms. These are followed by a Relu\n",
    "- A third affine layer has 100 activations and does 2 affine transformations to create an embedding for visualization. There is no non-linearity here.\n",
    "- A final \"logistic regression\" which has an affine transform from 2 inputs to 1 output, which is squeezed through a sigmoid.\n"
   ]
  },
  {
   "cell_type": "code",
   "execution_count": 17,
   "id": "2b9c66db",
   "metadata": {
    "execution": {
     "iopub.execute_input": "2022-11-03T00:46:00.571557Z",
     "iopub.status.busy": "2022-11-03T00:46:00.570819Z",
     "iopub.status.idle": "2022-11-03T00:46:00.585200Z",
     "shell.execute_reply": "2022-11-03T00:46:00.585714Z"
    },
    "papermill": {
     "duration": 0.053884,
     "end_time": "2022-11-03T00:46:00.585867",
     "exception": false,
     "start_time": "2022-11-03T00:46:00.531983",
     "status": "completed"
    },
    "tags": []
   },
   "outputs": [],
   "source": [
    "data = Data(X_train, y_train.reshape(-1,1))\n",
    "sampler = Sampler(data, config.bs, shuffle=True)\n",
    "\n",
    "dl = Dataloader(data, sampler)\n",
    "\n",
    "opt = GD(config.lr)\n",
    "loss = MSE()"
   ]
  },
  {
   "cell_type": "code",
   "execution_count": 18,
   "id": "b275e4c2",
   "metadata": {
    "execution": {
     "iopub.execute_input": "2022-11-03T00:46:00.659947Z",
     "iopub.status.busy": "2022-11-03T00:46:00.659200Z",
     "iopub.status.idle": "2022-11-03T00:46:00.673999Z",
     "shell.execute_reply": "2022-11-03T00:46:00.673364Z"
    },
    "papermill": {
     "duration": 0.053905,
     "end_time": "2022-11-03T00:46:00.674133",
     "exception": false,
     "start_time": "2022-11-03T00:46:00.620228",
     "status": "completed"
    },
    "tags": []
   },
   "outputs": [],
   "source": [
    "training_data_x = X_train\n",
    "testing_data_x = X_test\n",
    "training_data_y = y_train.reshape(-1,1)\n",
    "testing_data_y = y_test.reshape(-1,1)"
   ]
  },
  {
   "cell_type": "code",
   "execution_count": 19,
   "id": "76951160",
   "metadata": {
    "execution": {
     "iopub.execute_input": "2022-11-03T00:46:00.751608Z",
     "iopub.status.busy": "2022-11-03T00:46:00.750825Z",
     "iopub.status.idle": "2022-11-03T00:46:00.770250Z",
     "shell.execute_reply": "2022-11-03T00:46:00.769575Z"
    },
    "papermill": {
     "duration": 0.061437,
     "end_time": "2022-11-03T00:46:00.770395",
     "exception": false,
     "start_time": "2022-11-03T00:46:00.708958",
     "status": "completed"
    },
    "tags": []
   },
   "outputs": [
    {
     "name": "stdout",
     "output_type": "stream",
     "text": [
      "xavier\n",
      "xavier\n",
      "xavier\n",
      "xavier\n",
      "xavier\n"
     ]
    }
   ],
   "source": [
    "layers = [Affine(\"first\", 784, 100), Relu(\"first\"), Affine(\"second\", 100, 100), Relu(\"second\"), Affine(\"third\", 100, 2), Affine(\"last\", 2, 1), Sigmoid(\"last\")]\n",
    "model_nn = Model(layers)\n",
    "model_lr = Model([Affine(\"logits\", 784, 1), Sigmoid(\"sigmoid\")])"
   ]
  },
  {
   "cell_type": "code",
   "execution_count": 20,
   "id": "6eede77a",
   "metadata": {
    "execution": {
     "iopub.execute_input": "2022-11-03T00:46:00.848924Z",
     "iopub.status.busy": "2022-11-03T00:46:00.848181Z",
     "iopub.status.idle": "2022-11-03T00:46:00.859692Z",
     "shell.execute_reply": "2022-11-03T00:46:00.859077Z"
    },
    "papermill": {
     "duration": 0.055778,
     "end_time": "2022-11-03T00:46:00.859820",
     "exception": false,
     "start_time": "2022-11-03T00:46:00.804042",
     "status": "completed"
    },
    "tags": []
   },
   "outputs": [],
   "source": [
    "nn_learner = Learner(loss, model_nn, opt, config.num_epochs)\n",
    "acc_nn = ClfCallback(nn_learner, config.bs, training_data_x , testing_data_x, training_data_y, testing_data_y)\n",
    "nn_learner.set_callbacks([acc_nn])"
   ]
  },
  {
   "cell_type": "code",
   "execution_count": 21,
   "id": "877b6cc7",
   "metadata": {
    "execution": {
     "iopub.execute_input": "2022-11-03T00:46:00.933473Z",
     "iopub.status.busy": "2022-11-03T00:46:00.932703Z",
     "iopub.status.idle": "2022-11-03T00:46:00.947186Z",
     "shell.execute_reply": "2022-11-03T00:46:00.946595Z"
    },
    "papermill": {
     "duration": 0.052393,
     "end_time": "2022-11-03T00:46:00.947313",
     "exception": false,
     "start_time": "2022-11-03T00:46:00.894920",
     "status": "completed"
    },
    "tags": []
   },
   "outputs": [],
   "source": [
    "lr_learner = Learner(loss, model_lr, opt, config.num_epochs)\n",
    "acc_lr = ClfCallback(lr_learner, config.bs, training_data_x , testing_data_x, training_data_y, testing_data_y)\n",
    "lr_learner.set_callbacks([acc_lr])"
   ]
  },
  {
   "cell_type": "code",
   "execution_count": 22,
   "id": "d9b133c3",
   "metadata": {
    "execution": {
     "iopub.execute_input": "2022-11-03T00:46:01.018694Z",
     "iopub.status.busy": "2022-11-03T00:46:01.017953Z",
     "iopub.status.idle": "2022-11-03T00:48:09.259652Z",
     "shell.execute_reply": "2022-11-03T00:48:09.260590Z"
    },
    "papermill": {
     "duration": 128.2811,
     "end_time": "2022-11-03T00:48:09.260753",
     "exception": false,
     "start_time": "2022-11-03T00:46:00.979653",
     "status": "completed"
    },
    "tags": []
   },
   "outputs": [
    {
     "name": "stdout",
     "output_type": "stream",
     "text": [
      "Epoch 0, Loss 0.2352\n",
      "Training Accuracy: 0.7481, Testing Accuracy: 0.7414\n",
      "\n"
     ]
    },
    {
     "name": "stdout",
     "output_type": "stream",
     "text": [
      "Epoch 10, Loss 0.0978\n",
      "Training Accuracy: 0.9098, Testing Accuracy: 0.9153\n",
      "\n"
     ]
    },
    {
     "name": "stdout",
     "output_type": "stream",
     "text": [
      "Epoch 20, Loss 0.0598\n",
      "Training Accuracy: 0.9397, Testing Accuracy: 0.9425\n",
      "\n"
     ]
    },
    {
     "name": "stdout",
     "output_type": "stream",
     "text": [
      "Epoch 30, Loss 0.0459\n",
      "Training Accuracy: 0.9518, Testing Accuracy: 0.9567\n",
      "\n"
     ]
    },
    {
     "name": "stdout",
     "output_type": "stream",
     "text": [
      "Epoch 40, Loss 0.0389\n",
      "Training Accuracy: 0.9587, Testing Accuracy: 0.9642\n",
      "\n"
     ]
    },
    {
     "name": "stdout",
     "output_type": "stream",
     "text": [
      "Epoch 50, Loss 0.0348\n",
      "Training Accuracy: 0.9612, Testing Accuracy: 0.9662\n",
      "\n"
     ]
    },
    {
     "name": "stdout",
     "output_type": "stream",
     "text": [
      "Epoch 60, Loss 0.032\n",
      "Training Accuracy: 0.9645, Testing Accuracy: 0.9677\n",
      "\n"
     ]
    },
    {
     "name": "stdout",
     "output_type": "stream",
     "text": [
      "Epoch 70, Loss 0.03\n",
      "Training Accuracy: 0.9665, Testing Accuracy: 0.9693\n",
      "\n"
     ]
    },
    {
     "name": "stdout",
     "output_type": "stream",
     "text": [
      "Epoch 80, Loss 0.0284\n",
      "Training Accuracy: 0.9678, Testing Accuracy: 0.9718\n",
      "\n"
     ]
    },
    {
     "name": "stdout",
     "output_type": "stream",
     "text": [
      "Epoch 90, Loss 0.0271\n",
      "Training Accuracy: 0.9695, Testing Accuracy: 0.9718\n",
      "\n"
     ]
    },
    {
     "name": "stdout",
     "output_type": "stream",
     "text": [
      "Epoch 100, Loss 0.0261\n",
      "Training Accuracy: 0.9705, Testing Accuracy: 0.9708\n",
      "\n"
     ]
    },
    {
     "name": "stdout",
     "output_type": "stream",
     "text": [
      "Epoch 110, Loss 0.0251\n",
      "Training Accuracy: 0.9712, Testing Accuracy: 0.9708\n",
      "\n"
     ]
    },
    {
     "name": "stdout",
     "output_type": "stream",
     "text": [
      "Epoch 120, Loss 0.0243\n",
      "Training Accuracy: 0.9722, Testing Accuracy: 0.9718\n",
      "\n"
     ]
    },
    {
     "name": "stdout",
     "output_type": "stream",
     "text": [
      "Epoch 130, Loss 0.0236\n",
      "Training Accuracy: 0.9731, Testing Accuracy: 0.9708\n",
      "\n"
     ]
    },
    {
     "name": "stdout",
     "output_type": "stream",
     "text": [
      "Epoch 140, Loss 0.0229\n",
      "Training Accuracy: 0.9745, Testing Accuracy: 0.9708\n",
      "\n"
     ]
    },
    {
     "name": "stdout",
     "output_type": "stream",
     "text": [
      "Epoch 150, Loss 0.0223\n",
      "Training Accuracy: 0.9752, Testing Accuracy: 0.9713\n",
      "\n"
     ]
    },
    {
     "name": "stdout",
     "output_type": "stream",
     "text": [
      "Epoch 160, Loss 0.0218\n",
      "Training Accuracy: 0.9760, Testing Accuracy: 0.9713\n",
      "\n"
     ]
    },
    {
     "name": "stdout",
     "output_type": "stream",
     "text": [
      "Epoch 170, Loss 0.0212\n",
      "Training Accuracy: 0.9765, Testing Accuracy: 0.9713\n",
      "\n"
     ]
    },
    {
     "name": "stdout",
     "output_type": "stream",
     "text": [
      "Epoch 180, Loss 0.0208\n",
      "Training Accuracy: 0.9770, Testing Accuracy: 0.9718\n",
      "\n"
     ]
    },
    {
     "name": "stdout",
     "output_type": "stream",
     "text": [
      "Epoch 190, Loss 0.0203\n",
      "Training Accuracy: 0.9773, Testing Accuracy: 0.9718\n",
      "\n"
     ]
    },
    {
     "name": "stdout",
     "output_type": "stream",
     "text": [
      "Epoch 200, Loss 0.0199\n",
      "Training Accuracy: 0.9781, Testing Accuracy: 0.9718\n",
      "\n"
     ]
    },
    {
     "name": "stdout",
     "output_type": "stream",
     "text": [
      "Epoch 210, Loss 0.0195\n",
      "Training Accuracy: 0.9786, Testing Accuracy: 0.9728\n",
      "\n"
     ]
    },
    {
     "name": "stdout",
     "output_type": "stream",
     "text": [
      "Epoch 220, Loss 0.0191\n",
      "Training Accuracy: 0.9788, Testing Accuracy: 0.9723\n",
      "\n"
     ]
    },
    {
     "name": "stdout",
     "output_type": "stream",
     "text": [
      "Epoch 230, Loss 0.0187\n",
      "Training Accuracy: 0.9795, Testing Accuracy: 0.9738\n",
      "\n"
     ]
    },
    {
     "name": "stdout",
     "output_type": "stream",
     "text": [
      "Epoch 240, Loss 0.0184\n",
      "Training Accuracy: 0.9797, Testing Accuracy: 0.9733\n",
      "\n"
     ]
    },
    {
     "data": {
      "text/plain": [
       "0.014158293337197855"
      ]
     },
     "execution_count": 22,
     "metadata": {},
     "output_type": "execute_result"
    }
   ],
   "source": [
    "nn_learner.train_loop(dl)"
   ]
  },
  {
   "cell_type": "code",
   "execution_count": 23,
   "id": "e0163366",
   "metadata": {
    "execution": {
     "iopub.execute_input": "2022-11-03T00:48:09.362859Z",
     "iopub.status.busy": "2022-11-03T00:48:09.362131Z",
     "iopub.status.idle": "2022-11-03T00:48:27.916896Z",
     "shell.execute_reply": "2022-11-03T00:48:27.917926Z"
    },
    "papermill": {
     "duration": 18.613117,
     "end_time": "2022-11-03T00:48:27.918085",
     "exception": false,
     "start_time": "2022-11-03T00:48:09.304968",
     "status": "completed"
    },
    "tags": []
   },
   "outputs": [
    {
     "name": "stdout",
     "output_type": "stream",
     "text": [
      "Epoch 0, Loss 0.2292\n",
      "Training Accuracy: 0.7016, Testing Accuracy: 0.7021\n",
      "\n"
     ]
    },
    {
     "name": "stdout",
     "output_type": "stream",
     "text": [
      "Epoch 10, Loss 0.1038\n",
      "Training Accuracy: 0.9061, Testing Accuracy: 0.9168\n",
      "\n"
     ]
    },
    {
     "name": "stdout",
     "output_type": "stream",
     "text": [
      "Epoch 20, Loss 0.0795\n",
      "Training Accuracy: 0.9262, Testing Accuracy: 0.9380\n",
      "\n"
     ]
    },
    {
     "name": "stdout",
     "output_type": "stream",
     "text": [
      "Epoch 30, Loss 0.0682\n",
      "Training Accuracy: 0.9378, Testing Accuracy: 0.9476\n",
      "\n"
     ]
    },
    {
     "name": "stdout",
     "output_type": "stream",
     "text": [
      "Epoch 40, Loss 0.0615\n",
      "Training Accuracy: 0.9428, Testing Accuracy: 0.9531\n",
      "\n"
     ]
    },
    {
     "name": "stdout",
     "output_type": "stream",
     "text": [
      "Epoch 50, Loss 0.0569\n",
      "Training Accuracy: 0.9463, Testing Accuracy: 0.9561\n",
      "\n"
     ]
    },
    {
     "name": "stdout",
     "output_type": "stream",
     "text": [
      "Epoch 60, Loss 0.0535\n",
      "Training Accuracy: 0.9481, Testing Accuracy: 0.9567\n",
      "\n"
     ]
    },
    {
     "name": "stdout",
     "output_type": "stream",
     "text": [
      "Epoch 70, Loss 0.051\n",
      "Training Accuracy: 0.9503, Testing Accuracy: 0.9587\n",
      "\n"
     ]
    },
    {
     "name": "stdout",
     "output_type": "stream",
     "text": [
      "Epoch 80, Loss 0.0489\n",
      "Training Accuracy: 0.9527, Testing Accuracy: 0.9617\n",
      "\n"
     ]
    },
    {
     "name": "stdout",
     "output_type": "stream",
     "text": [
      "Epoch 90, Loss 0.0472\n",
      "Training Accuracy: 0.9533, Testing Accuracy: 0.9627\n",
      "\n"
     ]
    },
    {
     "name": "stdout",
     "output_type": "stream",
     "text": [
      "Epoch 100, Loss 0.0458\n",
      "Training Accuracy: 0.9543, Testing Accuracy: 0.9637\n",
      "\n"
     ]
    },
    {
     "name": "stdout",
     "output_type": "stream",
     "text": [
      "Epoch 110, Loss 0.0446\n",
      "Training Accuracy: 0.9550, Testing Accuracy: 0.9652\n",
      "\n"
     ]
    },
    {
     "name": "stdout",
     "output_type": "stream",
     "text": [
      "Epoch 120, Loss 0.0435\n",
      "Training Accuracy: 0.9559, Testing Accuracy: 0.9657\n",
      "\n"
     ]
    },
    {
     "name": "stdout",
     "output_type": "stream",
     "text": [
      "Epoch 130, Loss 0.0426\n",
      "Training Accuracy: 0.9571, Testing Accuracy: 0.9662\n",
      "\n"
     ]
    },
    {
     "name": "stdout",
     "output_type": "stream",
     "text": [
      "Epoch 140, Loss 0.0418\n",
      "Training Accuracy: 0.9578, Testing Accuracy: 0.9667\n",
      "\n"
     ]
    },
    {
     "name": "stdout",
     "output_type": "stream",
     "text": [
      "Epoch 150, Loss 0.041\n",
      "Training Accuracy: 0.9584, Testing Accuracy: 0.9677\n",
      "\n"
     ]
    },
    {
     "name": "stdout",
     "output_type": "stream",
     "text": [
      "Epoch 160, Loss 0.0403\n",
      "Training Accuracy: 0.9593, Testing Accuracy: 0.9677\n",
      "\n"
     ]
    },
    {
     "name": "stdout",
     "output_type": "stream",
     "text": [
      "Epoch 170, Loss 0.0397\n",
      "Training Accuracy: 0.9597, Testing Accuracy: 0.9677\n",
      "\n"
     ]
    },
    {
     "name": "stdout",
     "output_type": "stream",
     "text": [
      "Epoch 180, Loss 0.0392\n",
      "Training Accuracy: 0.9599, Testing Accuracy: 0.9682\n",
      "\n"
     ]
    },
    {
     "name": "stdout",
     "output_type": "stream",
     "text": [
      "Epoch 190, Loss 0.0387\n",
      "Training Accuracy: 0.9601, Testing Accuracy: 0.9682\n",
      "\n"
     ]
    },
    {
     "name": "stdout",
     "output_type": "stream",
     "text": [
      "Epoch 200, Loss 0.0382\n",
      "Training Accuracy: 0.9604, Testing Accuracy: 0.9682\n",
      "\n"
     ]
    },
    {
     "name": "stdout",
     "output_type": "stream",
     "text": [
      "Epoch 210, Loss 0.0378\n",
      "Training Accuracy: 0.9605, Testing Accuracy: 0.9682\n",
      "\n"
     ]
    },
    {
     "name": "stdout",
     "output_type": "stream",
     "text": [
      "Epoch 220, Loss 0.0374\n",
      "Training Accuracy: 0.9609, Testing Accuracy: 0.9677\n",
      "\n"
     ]
    },
    {
     "name": "stdout",
     "output_type": "stream",
     "text": [
      "Epoch 230, Loss 0.037\n",
      "Training Accuracy: 0.9610, Testing Accuracy: 0.9693\n",
      "\n"
     ]
    },
    {
     "name": "stdout",
     "output_type": "stream",
     "text": [
      "Epoch 240, Loss 0.0366\n",
      "Training Accuracy: 0.9613, Testing Accuracy: 0.9693\n",
      "\n"
     ]
    },
    {
     "data": {
      "text/plain": [
       "0.03718967204333716"
      ]
     },
     "execution_count": 23,
     "metadata": {},
     "output_type": "execute_result"
    }
   ],
   "source": [
    "lr_learner.train_loop(dl)"
   ]
  },
  {
   "cell_type": "code",
   "execution_count": 24,
   "id": "ca410940",
   "metadata": {
    "execution": {
     "iopub.execute_input": "2022-11-03T00:48:28.030946Z",
     "iopub.status.busy": "2022-11-03T00:48:28.030032Z",
     "iopub.status.idle": "2022-11-03T00:48:28.342863Z",
     "shell.execute_reply": "2022-11-03T00:48:28.343517Z"
    },
    "papermill": {
     "duration": 0.372533,
     "end_time": "2022-11-03T00:48:28.343701",
     "exception": false,
     "start_time": "2022-11-03T00:48:27.971168",
     "status": "completed"
    },
    "tags": []
   },
   "outputs": [
    {
     "data": {
      "text/plain": [
       "<matplotlib.legend.Legend at 0x7f0fc3c4e4e0>"
      ]
     },
     "execution_count": 24,
     "metadata": {},
     "output_type": "execute_result"
    },
    {
     "data": {
      "image/png": "[encoded data removed]",
      "text/plain": [
       "<Figure size 1080x720 with 1 Axes>"
      ]
     },
     "metadata": {
      "needs_background": "light"
     },
     "output_type": "display_data"
    }
   ],
   "source": [
    "#comparing the results of NN and LR\n",
    "plt.figure(figsize=(15,10))\n",
    "\n",
    "# Neural Network plots\n",
    "plt.plot(acc_nn.accuracies, 'r-', label = \"Training Accuracies - NN\")\n",
    "plt.plot(acc_nn.test_accuracies, 'g-', label = \"Testing Accuracies - NN\")\n",
    "\n",
    "# Logistic Regression plots\n",
    "plt.plot(acc_lr.accuracies, 'k-', label = \"Training Accuracies - LR\")\n",
    "plt.plot(acc_lr.test_accuracies, 'b-', label = \"Testing Accuracies - LR\")\n",
    "plt.legend()"
   ]
  },
  {
   "cell_type": "markdown",
   "id": "80dfb35c",
   "metadata": {
    "papermill": {
     "duration": 0.051962,
     "end_time": "2022-11-03T00:48:28.450284",
     "exception": false,
     "start_time": "2022-11-03T00:48:28.398322",
     "status": "completed"
    },
    "tags": []
   },
   "source": [
    "#### Plotting the outputs of this layer of the NN.\n"
   ]
  },
  {
   "cell_type": "code",
   "execution_count": 25,
   "id": "45eb2ff5",
   "metadata": {
    "execution": {
     "iopub.execute_input": "2022-11-03T00:48:28.566830Z",
     "iopub.status.busy": "2022-11-03T00:48:28.564123Z",
     "iopub.status.idle": "2022-11-03T00:48:28.587981Z",
     "shell.execute_reply": "2022-11-03T00:48:28.588566Z"
    },
    "papermill": {
     "duration": 0.086695,
     "end_time": "2022-11-03T00:48:28.588751",
     "exception": false,
     "start_time": "2022-11-03T00:48:28.502056",
     "status": "completed"
    },
    "tags": []
   },
   "outputs": [],
   "source": [
    "new_model = Model(layers[:-2])\n",
    "testing_plot = new_model(testing_data_x)"
   ]
  },
  {
   "cell_type": "code",
   "execution_count": 26,
   "id": "4c0a5485",
   "metadata": {
    "execution": {
     "iopub.execute_input": "2022-11-03T00:48:28.702572Z",
     "iopub.status.busy": "2022-11-03T00:48:28.701790Z",
     "iopub.status.idle": "2022-11-03T00:48:28.959027Z",
     "shell.execute_reply": "2022-11-03T00:48:28.958498Z"
    },
    "papermill": {
     "duration": 0.316442,
     "end_time": "2022-11-03T00:48:28.959158",
     "exception": false,
     "start_time": "2022-11-03T00:48:28.642716",
     "status": "completed"
    },
    "tags": []
   },
   "outputs": [
    {
     "data": {
      "text/plain": [
       "Text(0.5, 1.0, 'Outputs')"
      ]
     },
     "execution_count": 26,
     "metadata": {},
     "output_type": "execute_result"
    },
    {
     "data": {
      "image/png": "[encoded data removed]",
      "text/plain": [
       "<Figure size 576x504 with 1 Axes>"
      ]
     },
     "metadata": {
      "needs_background": "light"
     },
     "output_type": "display_data"
    }
   ],
   "source": [
    "# Plotting the scatter plot of points and color coding by class\n",
    "plt.figure(figsize=(8,7))\n",
    "plt.scatter(testing_plot[:,0], testing_plot[:,1], alpha = 0.1, c = y_test.ravel());\n",
    "plt.title('Outputs')"
   ]
  },
  {
   "cell_type": "markdown",
   "id": "a74fcf8f",
   "metadata": {
    "papermill": {
     "duration": 0.083849,
     "end_time": "2022-11-03T00:48:29.095144",
     "exception": false,
     "start_time": "2022-11-03T00:48:29.011295",
     "status": "completed"
    },
    "tags": []
   },
   "source": [
    "Probability contours"
   ]
  },
  {
   "cell_type": "code",
   "execution_count": 27,
   "id": "d0afc8e3",
   "metadata": {
    "execution": {
     "iopub.execute_input": "2022-11-03T00:48:29.209246Z",
     "iopub.status.busy": "2022-11-03T00:48:29.208493Z",
     "iopub.status.idle": "2022-11-03T00:48:29.222437Z",
     "shell.execute_reply": "2022-11-03T00:48:29.221789Z"
    },
    "papermill": {
     "duration": 0.072251,
     "end_time": "2022-11-03T00:48:29.222581",
     "exception": false,
     "start_time": "2022-11-03T00:48:29.150330",
     "status": "completed"
    },
    "tags": []
   },
   "outputs": [],
   "source": [
    "model_prob = Model(layers[-2:]) "
   ]
  },
  {
   "cell_type": "code",
   "execution_count": 28,
   "id": "9b96e238",
   "metadata": {
    "execution": {
     "iopub.execute_input": "2022-11-03T00:48:29.338878Z",
     "iopub.status.busy": "2022-11-03T00:48:29.338159Z",
     "iopub.status.idle": "2022-11-03T00:48:29.353355Z",
     "shell.execute_reply": "2022-11-03T00:48:29.353888Z"
    },
    "papermill": {
     "duration": 0.075887,
     "end_time": "2022-11-03T00:48:29.354047",
     "exception": false,
     "start_time": "2022-11-03T00:48:29.278160",
     "status": "completed"
    },
    "tags": []
   },
   "outputs": [],
   "source": [
    "#creating the x and y ranges according to the above generated plot.\n",
    "x_range = np.linspace(-4, 1, 100) \n",
    "y_range = np.linspace(-6, 6, 100) \n",
    "x_grid, y_grid = np.meshgrid(x_range, y_range) # x_grid and y_grig are of size 100 X 100\n",
    "\n",
    "# converting x_grid and y_grid to continuous arrays\n",
    "x_gridflat = np.ravel(x_grid)\n",
    "y_gridflat = np.ravel(y_grid)\n",
    "\n",
    "# The last layer of the current model takes two columns as input. Hence transpose of np.vstack() is required.\n",
    "X = np.vstack((x_gridflat, y_gridflat)).T\n",
    "\n",
    "prob_contour = model_prob(X).reshape(100,100) "
   ]
  },
  {
   "cell_type": "code",
   "execution_count": 29,
   "id": "da72499a",
   "metadata": {
    "execution": {
     "iopub.execute_input": "2022-11-03T00:48:29.474446Z",
     "iopub.status.busy": "2022-11-03T00:48:29.473722Z",
     "iopub.status.idle": "2022-11-03T00:48:29.786847Z",
     "shell.execute_reply": "2022-11-03T00:48:29.787779Z"
    },
    "papermill": {
     "duration": 0.377792,
     "end_time": "2022-11-03T00:48:29.787940",
     "exception": false,
     "start_time": "2022-11-03T00:48:29.410148",
     "status": "completed"
    },
    "tags": []
   },
   "outputs": [
    {
     "data": {
      "image/png": "[encoded data removed]",
      "text/plain": [
       "<Figure size 720x648 with 1 Axes>"
      ]
     },
     "metadata": {
      "needs_background": "light"
     },
     "output_type": "display_data"
    }
   ],
   "source": [
    "plt.figure(figsize=(10,9))\n",
    "plt.scatter(testing_plot[:,0], testing_plot[:,1], alpha = 0.1, c = y_test.ravel())\n",
    "contours = plt.contour(x_grid,y_grid,prob_contour)\n",
    "plt.title('Probability Contours')\n",
    "plt.clabel(contours, inline = True );"
   ]
  },
  {
   "cell_type": "code",
   "execution_count": null,
   "id": "e81b4ac7",
   "metadata": {
    "papermill": {
     "duration": 0.055318,
     "end_time": "2022-11-03T00:48:29.900315",
     "exception": false,
     "start_time": "2022-11-03T00:48:29.844997",
     "status": "completed"
    },
    "tags": []
   },
   "outputs": [],
   "source": []
  }
 ],
 "metadata": {
  "kernelspec": {
   "display_name": "Python 3",
   "language": "python",
   "name": "python3"
  },
  "language_info": {
   "codemirror_mode": {
    "name": "ipython",
    "version": 3
   },
   "file_extension": ".py",
   "mimetype": "text/x-python",
   "name": "python",
   "nbconvert_exporter": "python",
   "pygments_lexer": "ipython3",
   "version": "3.6.15"
  },
  "papermill": {
   "default_parameters": {},
   "duration": 156.933542,
   "end_time": "2022-11-03T00:48:30.377099",
   "environment_variables": {},
   "exception": null,
   "input_path": "2020-08-11-part2.ipynb",
   "output_path": "2020-08-11-part2.ipynb",
   "parameters": {},
   "start_time": "2022-11-03T00:45:53.443557",
   "version": "2.3.3"
  }
 },
 "nbformat": 4,
 "nbformat_minor": 5
}