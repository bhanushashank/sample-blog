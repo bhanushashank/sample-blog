{
 "cells": [
  {
   "cell_type": "markdown",
   "id": "98380cd3",
   "metadata": {
    "papermill": {
     "duration": 0.029359,
     "end_time": "2022-01-13T00:27:16.400814",
     "exception": false,
     "start_time": "2022-01-13T00:27:16.371455",
     "status": "completed"
    },
    "tags": []
   },
   "source": [
    "# Distinguish Your Own Digits (DYOD)"
   ]
  },
  {
   "cell_type": "markdown",
   "id": "ef31240d",
   "metadata": {
    "papermill": {
     "duration": 0.023808,
     "end_time": "2022-01-13T00:27:16.449279",
     "exception": false,
     "start_time": "2022-01-13T00:27:16.425471",
     "status": "completed"
    },
    "tags": []
   },
   "source": [
    "You are going to write a classifier that distinguishes between the number 3 and number 8."
   ]
  },
  {
   "cell_type": "code",
   "execution_count": 1,
   "id": "b15c8646",
   "metadata": {
    "execution": {
     "iopub.execute_input": "2022-01-13T00:27:16.508871Z",
     "iopub.status.busy": "2022-01-13T00:27:16.508327Z",
     "iopub.status.idle": "2022-01-13T00:27:16.518915Z",
     "shell.execute_reply": "2022-01-13T00:27:16.518491Z"
    },
    "papermill": {
     "duration": 0.045926,
     "end_time": "2022-01-13T00:27:16.519040",
     "exception": false,
     "start_time": "2022-01-13T00:27:16.473114",
     "status": "completed"
    },
    "tags": []
   },
   "outputs": [],
   "source": [
    "%load_ext autoreload\n",
    "%autoreload 2"
   ]
  },
  {
   "cell_type": "code",
   "execution_count": 2,
   "id": "22ef38dc",
   "metadata": {
    "execution": {
     "iopub.execute_input": "2022-01-13T00:27:16.570990Z",
     "iopub.status.busy": "2022-01-13T00:27:16.570470Z",
     "iopub.status.idle": "2022-01-13T00:27:17.151074Z",
     "shell.execute_reply": "2022-01-13T00:27:17.151531Z"
    },
    "papermill": {
     "duration": 0.608574,
     "end_time": "2022-01-13T00:27:17.151682",
     "exception": false,
     "start_time": "2022-01-13T00:27:16.543108",
     "status": "completed"
    },
    "tags": []
   },
   "outputs": [],
   "source": [
    "%matplotlib inline\n",
    "import numpy as np\n",
    "import matplotlib.pyplot as plt\n",
    "import pandas as pd"
   ]
  },
  {
   "cell_type": "markdown",
   "id": "ba036198",
   "metadata": {
    "papermill": {
     "duration": 0.024553,
     "end_time": "2022-01-13T00:27:17.200532",
     "exception": false,
     "start_time": "2022-01-13T00:27:17.175979",
     "status": "completed"
    },
    "tags": []
   },
   "source": [
    "From the command line run `pip install mnist`. This is a library that will help you bring down the mnist dataset. If you run this from a notebook, you need to put  `!pip install mnist` in a cell by itself."
   ]
  },
  {
   "cell_type": "code",
   "execution_count": 3,
   "id": "bb6ad8a1",
   "metadata": {
    "execution": {
     "iopub.execute_input": "2022-01-13T00:27:17.252976Z",
     "iopub.status.busy": "2022-01-13T00:27:17.252449Z",
     "iopub.status.idle": "2022-01-13T00:27:18.983303Z",
     "shell.execute_reply": "2022-01-13T00:27:18.982375Z"
    },
    "papermill": {
     "duration": 1.758802,
     "end_time": "2022-01-13T00:27:18.983453",
     "exception": false,
     "start_time": "2022-01-13T00:27:17.224651",
     "status": "completed"
    },
    "tags": []
   },
   "outputs": [
    {
     "name": "stdout",
     "output_type": "stream",
     "text": [
      "Collecting mnist\r\n"
     ]
    },
    {
     "name": "stdout",
     "output_type": "stream",
     "text": [
      "  Downloading mnist-0.2.2-py2.py3-none-any.whl (3.5 kB)\r\n"
     ]
    },
    {
     "name": "stdout",
     "output_type": "stream",
     "text": [
      "Requirement already satisfied: numpy in /opt/hostedtoolcache/Python/3.6.15/x64/lib/python3.6/site-packages (from mnist) (1.19.5)\r\n"
     ]
    },
    {
     "name": "stdout",
     "output_type": "stream",
     "text": [
      "Installing collected packages: mnist\r\n",
      "Successfully installed mnist-0.2.2\r\n"
     ]
    }
   ],
   "source": [
    "!pip install mnist"
   ]
  },
  {
   "cell_type": "markdown",
   "id": "69df9c9a",
   "metadata": {
    "papermill": {
     "duration": 0.025388,
     "end_time": "2022-01-13T00:27:19.034679",
     "exception": false,
     "start_time": "2022-01-13T00:27:19.009291",
     "status": "completed"
    },
    "tags": []
   },
   "source": [
    "## Preparing the Data"
   ]
  },
  {
   "cell_type": "code",
   "execution_count": 4,
   "id": "7f69d806",
   "metadata": {
    "execution": {
     "iopub.execute_input": "2022-01-13T00:27:19.104905Z",
     "iopub.status.busy": "2022-01-13T00:27:19.101669Z",
     "iopub.status.idle": "2022-01-13T00:27:19.106802Z",
     "shell.execute_reply": "2022-01-13T00:27:19.107184Z"
    },
    "papermill": {
     "duration": 0.047625,
     "end_time": "2022-01-13T00:27:19.107324",
     "exception": false,
     "start_time": "2022-01-13T00:27:19.059699",
     "status": "completed"
    },
    "tags": []
   },
   "outputs": [],
   "source": [
    "import mnist"
   ]
  },
  {
   "cell_type": "code",
   "execution_count": 5,
   "id": "a411e44f",
   "metadata": {
    "execution": {
     "iopub.execute_input": "2022-01-13T00:27:19.164507Z",
     "iopub.status.busy": "2022-01-13T00:27:19.163913Z",
     "iopub.status.idle": "2022-01-13T00:27:19.804153Z",
     "shell.execute_reply": "2022-01-13T00:27:19.803576Z"
    },
    "papermill": {
     "duration": 0.671711,
     "end_time": "2022-01-13T00:27:19.804297",
     "exception": false,
     "start_time": "2022-01-13T00:27:19.132586",
     "status": "completed"
    },
    "tags": []
   },
   "outputs": [],
   "source": [
    "train_images = mnist.train_images()\n",
    "train_labels = mnist.train_labels()"
   ]
  },
  {
   "cell_type": "code",
   "execution_count": 6,
   "id": "dceab3a5",
   "metadata": {
    "execution": {
     "iopub.execute_input": "2022-01-13T00:27:19.866192Z",
     "iopub.status.busy": "2022-01-13T00:27:19.865670Z",
     "iopub.status.idle": "2022-01-13T00:27:19.875871Z",
     "shell.execute_reply": "2022-01-13T00:27:19.875458Z"
    },
    "papermill": {
     "duration": 0.045741,
     "end_time": "2022-01-13T00:27:19.875984",
     "exception": false,
     "start_time": "2022-01-13T00:27:19.830243",
     "status": "completed"
    },
    "tags": []
   },
   "outputs": [
    {
     "data": {
      "text/plain": [
       "((60000, 28, 28), (60000,))"
      ]
     },
     "execution_count": 6,
     "metadata": {},
     "output_type": "execute_result"
    }
   ],
   "source": [
    "train_images.shape, train_labels.shape"
   ]
  },
  {
   "cell_type": "code",
   "execution_count": 7,
   "id": "f50dc2bb",
   "metadata": {
    "execution": {
     "iopub.execute_input": "2022-01-13T00:27:19.943927Z",
     "iopub.status.busy": "2022-01-13T00:27:19.943384Z",
     "iopub.status.idle": "2022-01-13T00:27:20.162954Z",
     "shell.execute_reply": "2022-01-13T00:27:20.162419Z"
    },
    "papermill": {
     "duration": 0.262006,
     "end_time": "2022-01-13T00:27:20.163103",
     "exception": false,
     "start_time": "2022-01-13T00:27:19.901097",
     "status": "completed"
    },
    "tags": []
   },
   "outputs": [],
   "source": [
    "test_images = mnist.test_images()\n",
    "test_labels = mnist.test_labels()"
   ]
  },
  {
   "cell_type": "code",
   "execution_count": 8,
   "id": "fc38cf1b",
   "metadata": {
    "execution": {
     "iopub.execute_input": "2022-01-13T00:27:20.218918Z",
     "iopub.status.busy": "2022-01-13T00:27:20.218394Z",
     "iopub.status.idle": "2022-01-13T00:27:20.232448Z",
     "shell.execute_reply": "2022-01-13T00:27:20.231999Z"
    },
    "papermill": {
     "duration": 0.043143,
     "end_time": "2022-01-13T00:27:20.232569",
     "exception": false,
     "start_time": "2022-01-13T00:27:20.189426",
     "status": "completed"
    },
    "tags": []
   },
   "outputs": [
    {
     "data": {
      "text/plain": [
       "((10000, 28, 28), (10000,))"
      ]
     },
     "execution_count": 8,
     "metadata": {},
     "output_type": "execute_result"
    }
   ],
   "source": [
    "test_images.shape, test_labels.shape"
   ]
  },
  {
   "cell_type": "code",
   "execution_count": 9,
   "id": "f9ed8fe0",
   "metadata": {
    "execution": {
     "iopub.execute_input": "2022-01-13T00:27:20.289645Z",
     "iopub.status.busy": "2022-01-13T00:27:20.289133Z",
     "iopub.status.idle": "2022-01-13T00:27:20.426842Z",
     "shell.execute_reply": "2022-01-13T00:27:20.427335Z"
    },
    "papermill": {
     "duration": 0.169269,
     "end_time": "2022-01-13T00:27:20.427497",
     "exception": false,
     "start_time": "2022-01-13T00:27:20.258228",
     "status": "completed"
    },
    "tags": []
   },
   "outputs": [
    {
     "name": "stdout",
     "output_type": "stream",
     "text": [
      "2\n"
     ]
    },
    {
     "data": {
      "text/plain": [
       "<matplotlib.image.AxesImage at 0x7ff826b5a390>"
      ]
     },
     "execution_count": 9,
     "metadata": {},
     "output_type": "execute_result"
    },
    {
     "data": {
      "image/png": "[encoded data removed]",
      "text/plain": [
       "<Figure size 432x288 with 1 Axes>"
      ]
     },
     "metadata": {
      "needs_background": "light"
     },
     "output_type": "display_data"
    }
   ],
   "source": [
    "image_index = 7776 # You may select anything up to 60,000\n",
    "print(train_labels[image_index]) \n",
    "plt.imshow(train_images[image_index], cmap='Greys')"
   ]
  },
  {
   "cell_type": "markdown",
   "id": "a8d2388d",
   "metadata": {
    "papermill": {
     "duration": 0.026566,
     "end_time": "2022-01-13T00:27:20.481710",
     "exception": false,
     "start_time": "2022-01-13T00:27:20.455144",
     "status": "completed"
    },
    "tags": []
   },
   "source": [
    "## Filter data to get 3 and 8 out"
   ]
  },
  {
   "cell_type": "code",
   "execution_count": 10,
   "id": "776f7fc7",
   "metadata": {
    "execution": {
     "iopub.execute_input": "2022-01-13T00:27:20.542315Z",
     "iopub.status.busy": "2022-01-13T00:27:20.541747Z",
     "iopub.status.idle": "2022-01-13T00:27:20.556809Z",
     "shell.execute_reply": "2022-01-13T00:27:20.557196Z"
    },
    "papermill": {
     "duration": 0.048973,
     "end_time": "2022-01-13T00:27:20.557338",
     "exception": false,
     "start_time": "2022-01-13T00:27:20.508365",
     "status": "completed"
    },
    "tags": []
   },
   "outputs": [],
   "source": [
    "train_filter = np.where((train_labels == 3 ) | (train_labels == 8))\n",
    "test_filter = np.where((test_labels == 3) | (test_labels == 8))\n",
    "X_train, y_train = train_images[train_filter], train_labels[train_filter]\n",
    "X_test, y_test = test_images[test_filter], test_labels[test_filter]"
   ]
  },
  {
   "cell_type": "markdown",
   "id": "948f0b7e",
   "metadata": {
    "papermill": {
     "duration": 0.026548,
     "end_time": "2022-01-13T00:27:20.610736",
     "exception": false,
     "start_time": "2022-01-13T00:27:20.584188",
     "status": "completed"
    },
    "tags": []
   },
   "source": [
    "We normalize the pizel values in the 0 to 1 range"
   ]
  },
  {
   "cell_type": "code",
   "execution_count": 11,
   "id": "ee4c2166",
   "metadata": {
    "execution": {
     "iopub.execute_input": "2022-01-13T00:27:20.674151Z",
     "iopub.status.busy": "2022-01-13T00:27:20.673616Z",
     "iopub.status.idle": "2022-01-13T00:27:20.718141Z",
     "shell.execute_reply": "2022-01-13T00:27:20.717607Z"
    },
    "papermill": {
     "duration": 0.080941,
     "end_time": "2022-01-13T00:27:20.718275",
     "exception": false,
     "start_time": "2022-01-13T00:27:20.637334",
     "status": "completed"
    },
    "tags": []
   },
   "outputs": [],
   "source": [
    "X_train = X_train/255.\n",
    "X_test = X_test/255."
   ]
  },
  {
   "cell_type": "markdown",
   "id": "ddcf4fab",
   "metadata": {
    "papermill": {
     "duration": 0.026652,
     "end_time": "2022-01-13T00:27:20.773310",
     "exception": false,
     "start_time": "2022-01-13T00:27:20.746658",
     "status": "completed"
    },
    "tags": []
   },
   "source": [
    "And setup the labels as 1 (when the digit is 3) and 0 (when the digit is 8)"
   ]
  },
  {
   "cell_type": "code",
   "execution_count": 12,
   "id": "7dc908f2",
   "metadata": {
    "execution": {
     "iopub.execute_input": "2022-01-13T00:27:20.843357Z",
     "iopub.status.busy": "2022-01-13T00:27:20.842796Z",
     "iopub.status.idle": "2022-01-13T00:27:20.845797Z",
     "shell.execute_reply": "2022-01-13T00:27:20.845367Z"
    },
    "papermill": {
     "duration": 0.046113,
     "end_time": "2022-01-13T00:27:20.845919",
     "exception": false,
     "start_time": "2022-01-13T00:27:20.799806",
     "status": "completed"
    },
    "tags": []
   },
   "outputs": [],
   "source": [
    "y_train = 1*(y_train==3)\n",
    "y_test = 1*(y_test==3)"
   ]
  },
  {
   "cell_type": "code",
   "execution_count": 13,
   "id": "01e4e969",
   "metadata": {
    "execution": {
     "iopub.execute_input": "2022-01-13T00:27:20.903170Z",
     "iopub.status.busy": "2022-01-13T00:27:20.902649Z",
     "iopub.status.idle": "2022-01-13T00:27:20.916672Z",
     "shell.execute_reply": "2022-01-13T00:27:20.916242Z"
    },
    "papermill": {
     "duration": 0.044007,
     "end_time": "2022-01-13T00:27:20.916793",
     "exception": false,
     "start_time": "2022-01-13T00:27:20.872786",
     "status": "completed"
    },
    "tags": []
   },
   "outputs": [
    {
     "data": {
      "text/plain": [
       "((11982, 28, 28), (1984, 28, 28))"
      ]
     },
     "execution_count": 13,
     "metadata": {},
     "output_type": "execute_result"
    }
   ],
   "source": [
    "X_train.shape, X_test.shape"
   ]
  },
  {
   "cell_type": "markdown",
   "id": "5ccf3f85",
   "metadata": {
    "papermill": {
     "duration": 0.026787,
     "end_time": "2022-01-13T00:27:20.970576",
     "exception": false,
     "start_time": "2022-01-13T00:27:20.943789",
     "status": "completed"
    },
    "tags": []
   },
   "source": [
    "We reshape the data to flatten the image pixels into a set of features or co-variates:"
   ]
  },
  {
   "cell_type": "code",
   "execution_count": 14,
   "id": "5286a4a3",
   "metadata": {
    "execution": {
     "iopub.execute_input": "2022-01-13T00:27:21.030470Z",
     "iopub.status.busy": "2022-01-13T00:27:21.029963Z",
     "iopub.status.idle": "2022-01-13T00:27:21.042428Z",
     "shell.execute_reply": "2022-01-13T00:27:21.042017Z"
    },
    "papermill": {
     "duration": 0.044891,
     "end_time": "2022-01-13T00:27:21.042543",
     "exception": false,
     "start_time": "2022-01-13T00:27:20.997652",
     "status": "completed"
    },
    "tags": []
   },
   "outputs": [
    {
     "data": {
      "text/plain": [
       "((11982, 784), (1984, 784))"
      ]
     },
     "execution_count": 14,
     "metadata": {},
     "output_type": "execute_result"
    }
   ],
   "source": [
    "X_train = X_train.reshape(X_train.shape[0], -1)\n",
    "X_test = X_test.reshape(X_test.shape[0], -1)\n",
    "X_train.shape, X_test.shape"
   ]
  },
  {
   "cell_type": "code",
   "execution_count": 15,
   "id": "73c5f88a",
   "metadata": {
    "execution": {
     "iopub.execute_input": "2022-01-13T00:27:21.109574Z",
     "iopub.status.busy": "2022-01-13T00:27:21.109009Z",
     "iopub.status.idle": "2022-01-13T00:27:21.124890Z",
     "shell.execute_reply": "2022-01-13T00:27:21.124430Z"
    },
    "papermill": {
     "duration": 0.055061,
     "end_time": "2022-01-13T00:27:21.125010",
     "exception": false,
     "start_time": "2022-01-13T00:27:21.069949",
     "status": "completed"
    },
    "tags": []
   },
   "outputs": [],
   "source": [
    "#Impoting functions from 'Kudzu'\n",
    "from kudzu.model import Model\n",
    "from kudzu.train import Learner\n",
    "from kudzu.optim import GD\n",
    "from kudzu.data import Data, Sampler,Dataloader\n",
    "\n",
    "from kudzu.callbacks import AccCallback\n",
    "from kudzu.callbacks import ClfCallback\n",
    "\n",
    "from kudzu.loss import MSE\n",
    "\n",
    "from kudzu.layer import Sigmoid,Relu\n",
    "from kudzu.layer import Affine"
   ]
  },
  {
   "cell_type": "markdown",
   "id": "bc01172a",
   "metadata": {
    "papermill": {
     "duration": 0.027167,
     "end_time": "2022-01-13T00:27:21.179715",
     "exception": false,
     "start_time": "2022-01-13T00:27:21.152548",
     "status": "completed"
    },
    "tags": []
   },
   "source": [
    "### Let us create a `Config` class, to store important parameters. \n",
    "This class essentially plays the role of a dictionary."
   ]
  },
  {
   "cell_type": "code",
   "execution_count": 16,
   "id": "978281aa",
   "metadata": {
    "execution": {
     "iopub.execute_input": "2022-01-13T00:27:21.248822Z",
     "iopub.status.busy": "2022-01-13T00:27:21.240639Z",
     "iopub.status.idle": "2022-01-13T00:27:21.251122Z",
     "shell.execute_reply": "2022-01-13T00:27:21.250706Z"
    },
    "papermill": {
     "duration": 0.044574,
     "end_time": "2022-01-13T00:27:21.251242",
     "exception": false,
     "start_time": "2022-01-13T00:27:21.206668",
     "status": "completed"
    },
    "tags": []
   },
   "outputs": [],
   "source": [
    "class Config:\n",
    "    pass\n",
    "config = Config()\n",
    "config.lr = 0.001\n",
    "config.num_epochs = 250\n",
    "config.bs = 50"
   ]
  },
  {
   "cell_type": "markdown",
   "id": "1385fa59",
   "metadata": {
    "papermill": {
     "duration": 0.026851,
     "end_time": "2022-01-13T00:27:21.305394",
     "exception": false,
     "start_time": "2022-01-13T00:27:21.278543",
     "status": "completed"
    },
    "tags": []
   },
   "source": [
    "### Running Models with the Training data\n",
    "Details about the network layers:\n",
    "- A first affine layer has 784 inputs and does 100 affine transforms. These are followed by a Relu\n",
    "- A second affine layer has 100 inputs from the 100 activations of the past layer, and does 100 affine transforms. These are followed by a Relu\n",
    "- A third affine layer has 100 activations and does 2 affine transformations to create an embedding for visualization. There is no non-linearity here.\n",
    "- A final \"logistic regression\" which has an affine transform from 2 inputs to 1 output, which is squeezed through a sigmoid.\n"
   ]
  },
  {
   "cell_type": "code",
   "execution_count": 17,
   "id": "2b9c66db",
   "metadata": {
    "execution": {
     "iopub.execute_input": "2022-01-13T00:27:21.363600Z",
     "iopub.status.busy": "2022-01-13T00:27:21.363079Z",
     "iopub.status.idle": "2022-01-13T00:27:21.376333Z",
     "shell.execute_reply": "2022-01-13T00:27:21.375837Z"
    },
    "papermill": {
     "duration": 0.044141,
     "end_time": "2022-01-13T00:27:21.376466",
     "exception": false,
     "start_time": "2022-01-13T00:27:21.332325",
     "status": "completed"
    },
    "tags": []
   },
   "outputs": [],
   "source": [
    "data = Data(X_train, y_train.reshape(-1,1))\n",
    "sampler = Sampler(data, config.bs, shuffle=True)\n",
    "\n",
    "dl = Dataloader(data, sampler)\n",
    "\n",
    "opt = GD(config.lr)\n",
    "loss = MSE()"
   ]
  },
  {
   "cell_type": "code",
   "execution_count": 18,
   "id": "b275e4c2",
   "metadata": {
    "execution": {
     "iopub.execute_input": "2022-01-13T00:27:21.435244Z",
     "iopub.status.busy": "2022-01-13T00:27:21.434729Z",
     "iopub.status.idle": "2022-01-13T00:27:21.446274Z",
     "shell.execute_reply": "2022-01-13T00:27:21.446704Z"
    },
    "papermill": {
     "duration": 0.042038,
     "end_time": "2022-01-13T00:27:21.446831",
     "exception": false,
     "start_time": "2022-01-13T00:27:21.404793",
     "status": "completed"
    },
    "tags": []
   },
   "outputs": [],
   "source": [
    "training_data_x = X_train\n",
    "testing_data_x = X_test\n",
    "training_data_y = y_train.reshape(-1,1)\n",
    "testing_data_y = y_test.reshape(-1,1)"
   ]
  },
  {
   "cell_type": "code",
   "execution_count": 19,
   "id": "76951160",
   "metadata": {
    "execution": {
     "iopub.execute_input": "2022-01-13T00:27:21.505384Z",
     "iopub.status.busy": "2022-01-13T00:27:21.504864Z",
     "iopub.status.idle": "2022-01-13T00:27:21.521120Z",
     "shell.execute_reply": "2022-01-13T00:27:21.520676Z"
    },
    "papermill": {
     "duration": 0.047371,
     "end_time": "2022-01-13T00:27:21.521230",
     "exception": false,
     "start_time": "2022-01-13T00:27:21.473859",
     "status": "completed"
    },
    "tags": []
   },
   "outputs": [
    {
     "name": "stdout",
     "output_type": "stream",
     "text": [
      "xavier\n",
      "xavier\n",
      "xavier\n",
      "xavier\n",
      "xavier\n"
     ]
    }
   ],
   "source": [
    "layers = [Affine(\"first\", 784, 100), Relu(\"first\"), Affine(\"second\", 100, 100), Relu(\"second\"), Affine(\"third\", 100, 2), Affine(\"last\", 2, 1), Sigmoid(\"last\")]\n",
    "model_nn = Model(layers)\n",
    "model_lr = Model([Affine(\"logits\", 784, 1), Sigmoid(\"sigmoid\")])"
   ]
  },
  {
   "cell_type": "code",
   "execution_count": 20,
   "id": "6eede77a",
   "metadata": {
    "execution": {
     "iopub.execute_input": "2022-01-13T00:27:21.579629Z",
     "iopub.status.busy": "2022-01-13T00:27:21.579130Z",
     "iopub.status.idle": "2022-01-13T00:27:21.591725Z",
     "shell.execute_reply": "2022-01-13T00:27:21.591313Z"
    },
    "papermill": {
     "duration": 0.04325,
     "end_time": "2022-01-13T00:27:21.591835",
     "exception": false,
     "start_time": "2022-01-13T00:27:21.548585",
     "status": "completed"
    },
    "tags": []
   },
   "outputs": [],
   "source": [
    "nn_learner = Learner(loss, model_nn, opt, config.num_epochs)\n",
    "acc_nn = ClfCallback(nn_learner, config.bs, training_data_x , testing_data_x, training_data_y, testing_data_y)\n",
    "nn_learner.set_callbacks([acc_nn])"
   ]
  },
  {
   "cell_type": "code",
   "execution_count": 21,
   "id": "877b6cc7",
   "metadata": {
    "execution": {
     "iopub.execute_input": "2022-01-13T00:27:21.651419Z",
     "iopub.status.busy": "2022-01-13T00:27:21.650910Z",
     "iopub.status.idle": "2022-01-13T00:27:21.662029Z",
     "shell.execute_reply": "2022-01-13T00:27:21.661619Z"
    },
    "papermill": {
     "duration": 0.043186,
     "end_time": "2022-01-13T00:27:21.662141",
     "exception": false,
     "start_time": "2022-01-13T00:27:21.618955",
     "status": "completed"
    },
    "tags": []
   },
   "outputs": [],
   "source": [
    "lr_learner = Learner(loss, model_lr, opt, config.num_epochs)\n",
    "acc_lr = ClfCallback(lr_learner, config.bs, training_data_x , testing_data_x, training_data_y, testing_data_y)\n",
    "lr_learner.set_callbacks([acc_lr])"
   ]
  },
  {
   "cell_type": "code",
   "execution_count": 22,
   "id": "d9b133c3",
   "metadata": {
    "execution": {
     "iopub.execute_input": "2022-01-13T00:27:21.721574Z",
     "iopub.status.busy": "2022-01-13T00:27:21.721063Z",
     "iopub.status.idle": "2022-01-13T00:28:38.890302Z",
     "shell.execute_reply": "2022-01-13T00:28:38.890756Z"
    },
    "papermill": {
     "duration": 77.201413,
     "end_time": "2022-01-13T00:28:38.890914",
     "exception": false,
     "start_time": "2022-01-13T00:27:21.689501",
     "status": "completed"
    },
    "tags": []
   },
   "outputs": [
    {
     "name": "stdout",
     "output_type": "stream",
     "text": [
      "Epoch 0, Loss 0.229\n",
      "Training Accuracy: 0.7693, Testing Accuracy: 0.7848\n",
      "\n"
     ]
    },
    {
     "name": "stdout",
     "output_type": "stream",
     "text": [
      "Epoch 10, Loss 0.0634\n",
      "Training Accuracy: 0.9367, Testing Accuracy: 0.9441\n",
      "\n"
     ]
    },
    {
     "name": "stdout",
     "output_type": "stream",
     "text": [
      "Epoch 20, Loss 0.0442\n",
      "Training Accuracy: 0.9524, Testing Accuracy: 0.9541\n",
      "\n"
     ]
    },
    {
     "name": "stdout",
     "output_type": "stream",
     "text": [
      "Epoch 30, Loss 0.0367\n",
      "Training Accuracy: 0.9594, Testing Accuracy: 0.9622\n",
      "\n"
     ]
    },
    {
     "name": "stdout",
     "output_type": "stream",
     "text": [
      "Epoch 40, Loss 0.0326\n",
      "Training Accuracy: 0.9634, Testing Accuracy: 0.9662\n",
      "\n"
     ]
    },
    {
     "name": "stdout",
     "output_type": "stream",
     "text": [
      "Epoch 50, Loss 0.0299\n",
      "Training Accuracy: 0.9662, Testing Accuracy: 0.9677\n",
      "\n"
     ]
    },
    {
     "name": "stdout",
     "output_type": "stream",
     "text": [
      "Epoch 60, Loss 0.028\n",
      "Training Accuracy: 0.9686, Testing Accuracy: 0.9688\n",
      "\n"
     ]
    },
    {
     "name": "stdout",
     "output_type": "stream",
     "text": [
      "Epoch 70, Loss 0.0265\n",
      "Training Accuracy: 0.9710, Testing Accuracy: 0.9688\n",
      "\n"
     ]
    },
    {
     "name": "stdout",
     "output_type": "stream",
     "text": [
      "Epoch 80, Loss 0.0252\n",
      "Training Accuracy: 0.9726, Testing Accuracy: 0.9703\n",
      "\n"
     ]
    },
    {
     "name": "stdout",
     "output_type": "stream",
     "text": [
      "Epoch 90, Loss 0.0241\n",
      "Training Accuracy: 0.9739, Testing Accuracy: 0.9713\n",
      "\n"
     ]
    },
    {
     "name": "stdout",
     "output_type": "stream",
     "text": [
      "Epoch 100, Loss 0.0232\n",
      "Training Accuracy: 0.9745, Testing Accuracy: 0.9728\n",
      "\n"
     ]
    },
    {
     "name": "stdout",
     "output_type": "stream",
     "text": [
      "Epoch 110, Loss 0.0224\n",
      "Training Accuracy: 0.9752, Testing Accuracy: 0.9723\n",
      "\n"
     ]
    },
    {
     "name": "stdout",
     "output_type": "stream",
     "text": [
      "Epoch 120, Loss 0.0217\n",
      "Training Accuracy: 0.9760, Testing Accuracy: 0.9728\n",
      "\n"
     ]
    },
    {
     "name": "stdout",
     "output_type": "stream",
     "text": [
      "Epoch 130, Loss 0.021\n",
      "Training Accuracy: 0.9766, Testing Accuracy: 0.9728\n",
      "\n"
     ]
    },
    {
     "name": "stdout",
     "output_type": "stream",
     "text": [
      "Epoch 140, Loss 0.0203\n",
      "Training Accuracy: 0.9775, Testing Accuracy: 0.9718\n",
      "\n"
     ]
    },
    {
     "name": "stdout",
     "output_type": "stream",
     "text": [
      "Epoch 150, Loss 0.0198\n",
      "Training Accuracy: 0.9781, Testing Accuracy: 0.9723\n",
      "\n"
     ]
    },
    {
     "name": "stdout",
     "output_type": "stream",
     "text": [
      "Epoch 160, Loss 0.0192\n",
      "Training Accuracy: 0.9789, Testing Accuracy: 0.9723\n",
      "\n"
     ]
    },
    {
     "name": "stdout",
     "output_type": "stream",
     "text": [
      "Epoch 170, Loss 0.0187\n",
      "Training Accuracy: 0.9795, Testing Accuracy: 0.9718\n",
      "\n"
     ]
    },
    {
     "name": "stdout",
     "output_type": "stream",
     "text": [
      "Epoch 180, Loss 0.0182\n",
      "Training Accuracy: 0.9801, Testing Accuracy: 0.9728\n",
      "\n"
     ]
    },
    {
     "name": "stdout",
     "output_type": "stream",
     "text": [
      "Epoch 190, Loss 0.0177\n",
      "Training Accuracy: 0.9803, Testing Accuracy: 0.9738\n",
      "\n"
     ]
    },
    {
     "name": "stdout",
     "output_type": "stream",
     "text": [
      "Epoch 200, Loss 0.0173\n",
      "Training Accuracy: 0.9812, Testing Accuracy: 0.9743\n",
      "\n"
     ]
    },
    {
     "name": "stdout",
     "output_type": "stream",
     "text": [
      "Epoch 210, Loss 0.0169\n",
      "Training Accuracy: 0.9820, Testing Accuracy: 0.9748\n",
      "\n"
     ]
    },
    {
     "name": "stdout",
     "output_type": "stream",
     "text": [
      "Epoch 220, Loss 0.0165\n",
      "Training Accuracy: 0.9826, Testing Accuracy: 0.9748\n",
      "\n"
     ]
    },
    {
     "name": "stdout",
     "output_type": "stream",
     "text": [
      "Epoch 230, Loss 0.0161\n",
      "Training Accuracy: 0.9831, Testing Accuracy: 0.9748\n",
      "\n"
     ]
    },
    {
     "name": "stdout",
     "output_type": "stream",
     "text": [
      "Epoch 240, Loss 0.0157\n",
      "Training Accuracy: 0.9835, Testing Accuracy: 0.9758\n",
      "\n"
     ]
    },
    {
     "data": {
      "text/plain": [
       "0.0069017078684456695"
      ]
     },
     "execution_count": 22,
     "metadata": {},
     "output_type": "execute_result"
    }
   ],
   "source": [
    "nn_learner.train_loop(dl)"
   ]
  },
  {
   "cell_type": "code",
   "execution_count": 23,
   "id": "e0163366",
   "metadata": {
    "execution": {
     "iopub.execute_input": "2022-01-13T00:28:38.969728Z",
     "iopub.status.busy": "2022-01-13T00:28:38.969164Z",
     "iopub.status.idle": "2022-01-13T00:28:52.954162Z",
     "shell.execute_reply": "2022-01-13T00:28:52.954905Z"
    },
    "papermill": {
     "duration": 14.029315,
     "end_time": "2022-01-13T00:28:52.955066",
     "exception": false,
     "start_time": "2022-01-13T00:28:38.925751",
     "status": "completed"
    },
    "tags": []
   },
   "outputs": [
    {
     "name": "stdout",
     "output_type": "stream",
     "text": [
      "Epoch 0, Loss 0.247\n",
      "Training Accuracy: 0.6620, Testing Accuracy: 0.6547\n",
      "\n"
     ]
    },
    {
     "name": "stdout",
     "output_type": "stream",
     "text": [
      "Epoch 10, Loss 0.1045\n",
      "Training Accuracy: 0.9096, Testing Accuracy: 0.9219\n",
      "\n"
     ]
    },
    {
     "name": "stdout",
     "output_type": "stream",
     "text": [
      "Epoch 20, Loss 0.0797\n",
      "Training Accuracy: 0.9276, Testing Accuracy: 0.9385\n",
      "\n"
     ]
    },
    {
     "name": "stdout",
     "output_type": "stream",
     "text": [
      "Epoch 30, Loss 0.0684\n",
      "Training Accuracy: 0.9367, Testing Accuracy: 0.9471\n",
      "\n"
     ]
    },
    {
     "name": "stdout",
     "output_type": "stream",
     "text": [
      "Epoch 40, Loss 0.0617\n",
      "Training Accuracy: 0.9429, Testing Accuracy: 0.9521\n",
      "\n"
     ]
    },
    {
     "name": "stdout",
     "output_type": "stream",
     "text": [
      "Epoch 50, Loss 0.0571\n",
      "Training Accuracy: 0.9447, Testing Accuracy: 0.9541\n",
      "\n"
     ]
    },
    {
     "name": "stdout",
     "output_type": "stream",
     "text": [
      "Epoch 60, Loss 0.0538\n",
      "Training Accuracy: 0.9467, Testing Accuracy: 0.9582\n",
      "\n"
     ]
    },
    {
     "name": "stdout",
     "output_type": "stream",
     "text": [
      "Epoch 70, Loss 0.0512\n",
      "Training Accuracy: 0.9498, Testing Accuracy: 0.9592\n",
      "\n"
     ]
    },
    {
     "name": "stdout",
     "output_type": "stream",
     "text": [
      "Epoch 80, Loss 0.0492\n",
      "Training Accuracy: 0.9519, Testing Accuracy: 0.9607\n",
      "\n"
     ]
    },
    {
     "name": "stdout",
     "output_type": "stream",
     "text": [
      "Epoch 90, Loss 0.0475\n",
      "Training Accuracy: 0.9532, Testing Accuracy: 0.9622\n",
      "\n"
     ]
    },
    {
     "name": "stdout",
     "output_type": "stream",
     "text": [
      "Epoch 100, Loss 0.0461\n",
      "Training Accuracy: 0.9540, Testing Accuracy: 0.9647\n",
      "\n"
     ]
    },
    {
     "name": "stdout",
     "output_type": "stream",
     "text": [
      "Epoch 110, Loss 0.0449\n",
      "Training Accuracy: 0.9546, Testing Accuracy: 0.9657\n",
      "\n"
     ]
    },
    {
     "name": "stdout",
     "output_type": "stream",
     "text": [
      "Epoch 120, Loss 0.0438\n",
      "Training Accuracy: 0.9547, Testing Accuracy: 0.9657\n",
      "\n"
     ]
    },
    {
     "name": "stdout",
     "output_type": "stream",
     "text": [
      "Epoch 130, Loss 0.0429\n",
      "Training Accuracy: 0.9551, Testing Accuracy: 0.9657\n",
      "\n"
     ]
    },
    {
     "name": "stdout",
     "output_type": "stream",
     "text": [
      "Epoch 140, Loss 0.042\n",
      "Training Accuracy: 0.9560, Testing Accuracy: 0.9662\n",
      "\n"
     ]
    },
    {
     "name": "stdout",
     "output_type": "stream",
     "text": [
      "Epoch 150, Loss 0.0413\n",
      "Training Accuracy: 0.9566, Testing Accuracy: 0.9672\n",
      "\n"
     ]
    },
    {
     "name": "stdout",
     "output_type": "stream",
     "text": [
      "Epoch 160, Loss 0.0406\n",
      "Training Accuracy: 0.9575, Testing Accuracy: 0.9672\n",
      "\n"
     ]
    },
    {
     "name": "stdout",
     "output_type": "stream",
     "text": [
      "Epoch 170, Loss 0.04\n",
      "Training Accuracy: 0.9581, Testing Accuracy: 0.9667\n",
      "\n"
     ]
    },
    {
     "name": "stdout",
     "output_type": "stream",
     "text": [
      "Epoch 180, Loss 0.0395\n",
      "Training Accuracy: 0.9587, Testing Accuracy: 0.9667\n",
      "\n"
     ]
    },
    {
     "name": "stdout",
     "output_type": "stream",
     "text": [
      "Epoch 190, Loss 0.0389\n",
      "Training Accuracy: 0.9589, Testing Accuracy: 0.9662\n",
      "\n"
     ]
    },
    {
     "name": "stdout",
     "output_type": "stream",
     "text": [
      "Epoch 200, Loss 0.0385\n",
      "Training Accuracy: 0.9593, Testing Accuracy: 0.9662\n",
      "\n"
     ]
    },
    {
     "name": "stdout",
     "output_type": "stream",
     "text": [
      "Epoch 210, Loss 0.038\n",
      "Training Accuracy: 0.9598, Testing Accuracy: 0.9657\n",
      "\n"
     ]
    },
    {
     "name": "stdout",
     "output_type": "stream",
     "text": [
      "Epoch 220, Loss 0.0376\n",
      "Training Accuracy: 0.9599, Testing Accuracy: 0.9657\n",
      "\n"
     ]
    },
    {
     "name": "stdout",
     "output_type": "stream",
     "text": [
      "Epoch 230, Loss 0.0372\n",
      "Training Accuracy: 0.9600, Testing Accuracy: 0.9672\n",
      "\n"
     ]
    },
    {
     "name": "stdout",
     "output_type": "stream",
     "text": [
      "Epoch 240, Loss 0.0369\n",
      "Training Accuracy: 0.9604, Testing Accuracy: 0.9677\n",
      "\n"
     ]
    },
    {
     "data": {
      "text/plain": [
       "0.011249957549654842"
      ]
     },
     "execution_count": 23,
     "metadata": {},
     "output_type": "execute_result"
    }
   ],
   "source": [
    "lr_learner.train_loop(dl)"
   ]
  },
  {
   "cell_type": "code",
   "execution_count": 24,
   "id": "ca410940",
   "metadata": {
    "execution": {
     "iopub.execute_input": "2022-01-13T00:28:53.053462Z",
     "iopub.status.busy": "2022-01-13T00:28:53.052924Z",
     "iopub.status.idle": "2022-01-13T00:28:53.281842Z",
     "shell.execute_reply": "2022-01-13T00:28:53.281390Z"
    },
    "papermill": {
     "duration": 0.285206,
     "end_time": "2022-01-13T00:28:53.281970",
     "exception": false,
     "start_time": "2022-01-13T00:28:52.996764",
     "status": "completed"
    },
    "tags": []
   },
   "outputs": [
    {
     "data": {
      "text/plain": [
       "<matplotlib.legend.Legend at 0x7ff8193aba58>"
      ]
     },
     "execution_count": 24,
     "metadata": {},
     "output_type": "execute_result"
    },
    {
     "data": {
      "image/png": "[encoded data removed]",
      "text/plain": [
       "<Figure size 1080x720 with 1 Axes>"
      ]
     },
     "metadata": {
      "needs_background": "light"
     },
     "output_type": "display_data"
    }
   ],
   "source": [
    "#comparing the results of NN and LR\n",
    "plt.figure(figsize=(15,10))\n",
    "\n",
    "# Neural Network plots\n",
    "plt.plot(acc_nn.accuracies, 'r-', label = \"Training Accuracies - NN\")\n",
    "plt.plot(acc_nn.test_accuracies, 'g-', label = \"Testing Accuracies - NN\")\n",
    "\n",
    "# Logistic Regression plots\n",
    "plt.plot(acc_lr.accuracies, 'k-', label = \"Training Accuracies - LR\")\n",
    "plt.plot(acc_lr.test_accuracies, 'b-', label = \"Testing Accuracies - LR\")\n",
    "plt.legend()"
   ]
  },
  {
   "cell_type": "markdown",
   "id": "80dfb35c",
   "metadata": {
    "papermill": {
     "duration": 0.042812,
     "end_time": "2022-01-13T00:28:53.368031",
     "exception": false,
     "start_time": "2022-01-13T00:28:53.325219",
     "status": "completed"
    },
    "tags": []
   },
   "source": [
    "#### Plotting the outputs of this layer of the NN.\n"
   ]
  },
  {
   "cell_type": "code",
   "execution_count": 25,
   "id": "45eb2ff5",
   "metadata": {
    "execution": {
     "iopub.execute_input": "2022-01-13T00:28:53.470908Z",
     "iopub.status.busy": "2022-01-13T00:28:53.470366Z",
     "iopub.status.idle": "2022-01-13T00:28:53.485285Z",
     "shell.execute_reply": "2022-01-13T00:28:53.485715Z"
    },
    "papermill": {
     "duration": 0.075164,
     "end_time": "2022-01-13T00:28:53.485862",
     "exception": false,
     "start_time": "2022-01-13T00:28:53.410698",
     "status": "completed"
    },
    "tags": []
   },
   "outputs": [],
   "source": [
    "new_model = Model(layers[:-2])\n",
    "testing_plot = new_model(testing_data_x)"
   ]
  },
  {
   "cell_type": "code",
   "execution_count": 26,
   "id": "4c0a5485",
   "metadata": {
    "execution": {
     "iopub.execute_input": "2022-01-13T00:28:53.582819Z",
     "iopub.status.busy": "2022-01-13T00:28:53.582263Z",
     "iopub.status.idle": "2022-01-13T00:28:53.767060Z",
     "shell.execute_reply": "2022-01-13T00:28:53.766627Z"
    },
    "papermill": {
     "duration": 0.237697,
     "end_time": "2022-01-13T00:28:53.767195",
     "exception": false,
     "start_time": "2022-01-13T00:28:53.529498",
     "status": "completed"
    },
    "tags": []
   },
   "outputs": [
    {
     "data": {
      "text/plain": [
       "Text(0.5, 1.0, 'Outputs')"
      ]
     },
     "execution_count": 26,
     "metadata": {},
     "output_type": "execute_result"
    },
    {
     "data": {
      "image/png": "[encoded data removed]",
      "text/plain": [
       "<Figure size 576x504 with 1 Axes>"
      ]
     },
     "metadata": {
      "needs_background": "light"
     },
     "output_type": "display_data"
    }
   ],
   "source": [
    "# Plotting the scatter plot of points and color coding by class\n",
    "plt.figure(figsize=(8,7))\n",
    "plt.scatter(testing_plot[:,0], testing_plot[:,1], alpha = 0.1, c = y_test.ravel());\n",
    "plt.title('Outputs')"
   ]
  },
  {
   "cell_type": "markdown",
   "id": "a74fcf8f",
   "metadata": {
    "papermill": {
     "duration": 0.044905,
     "end_time": "2022-01-13T00:28:53.857719",
     "exception": false,
     "start_time": "2022-01-13T00:28:53.812814",
     "status": "completed"
    },
    "tags": []
   },
   "source": [
    "Probability contours"
   ]
  },
  {
   "cell_type": "code",
   "execution_count": 27,
   "id": "d0afc8e3",
   "metadata": {
    "execution": {
     "iopub.execute_input": "2022-01-13T00:28:53.959308Z",
     "iopub.status.busy": "2022-01-13T00:28:53.958768Z",
     "iopub.status.idle": "2022-01-13T00:28:53.965890Z",
     "shell.execute_reply": "2022-01-13T00:28:53.966274Z"
    },
    "papermill": {
     "duration": 0.063474,
     "end_time": "2022-01-13T00:28:53.966415",
     "exception": false,
     "start_time": "2022-01-13T00:28:53.902941",
     "status": "completed"
    },
    "tags": []
   },
   "outputs": [],
   "source": [
    "model_prob = Model(layers[-2:]) "
   ]
  },
  {
   "cell_type": "code",
   "execution_count": 28,
   "id": "9b96e238",
   "metadata": {
    "execution": {
     "iopub.execute_input": "2022-01-13T00:28:54.104728Z",
     "iopub.status.busy": "2022-01-13T00:28:54.092951Z",
     "iopub.status.idle": "2022-01-13T00:28:54.109620Z",
     "shell.execute_reply": "2022-01-13T00:28:54.110108Z"
    },
    "papermill": {
     "duration": 0.098321,
     "end_time": "2022-01-13T00:28:54.110244",
     "exception": false,
     "start_time": "2022-01-13T00:28:54.011923",
     "status": "completed"
    },
    "tags": []
   },
   "outputs": [],
   "source": [
    "#creating the x and y ranges according to the above generated plot.\n",
    "x_range = np.linspace(-4, 1, 100) \n",
    "y_range = np.linspace(-6, 6, 100) \n",
    "x_grid, y_grid = np.meshgrid(x_range, y_range) # x_grid and y_grig are of size 100 X 100\n",
    "\n",
    "# converting x_grid and y_grid to continuous arrays\n",
    "x_gridflat = np.ravel(x_grid)\n",
    "y_gridflat = np.ravel(y_grid)\n",
    "\n",
    "# The last layer of the current model takes two columns as input. Hence transpose of np.vstack() is required.\n",
    "X = np.vstack((x_gridflat, y_gridflat)).T\n",
    "\n",
    "prob_contour = model_prob(X).reshape(100,100) "
   ]
  },
  {
   "cell_type": "code",
   "execution_count": 29,
   "id": "da72499a",
   "metadata": {
    "execution": {
     "iopub.execute_input": "2022-01-13T00:28:54.204995Z",
     "iopub.status.busy": "2022-01-13T00:28:54.204464Z",
     "iopub.status.idle": "2022-01-13T00:28:54.446660Z",
     "shell.execute_reply": "2022-01-13T00:28:54.447055Z"
    },
    "papermill": {
     "duration": 0.29153,
     "end_time": "2022-01-13T00:28:54.447208",
     "exception": false,
     "start_time": "2022-01-13T00:28:54.155678",
     "status": "completed"
    },
    "tags": []
   },
   "outputs": [
    {
     "data": {
      "image/png": "[encoded data removed]",
      "text/plain": [
       "<Figure size 720x648 with 1 Axes>"
      ]
     },
     "metadata": {
      "needs_background": "light"
     },
     "output_type": "display_data"
    }
   ],
   "source": [
    "plt.figure(figsize=(10,9))\n",
    "plt.scatter(testing_plot[:,0], testing_plot[:,1], alpha = 0.1, c = y_test.ravel())\n",
    "contours = plt.contour(x_grid,y_grid,prob_contour)\n",
    "plt.title('Probability Contours')\n",
    "plt.clabel(contours, inline = True );"
   ]
  },
  {
   "cell_type": "code",
   "execution_count": null,
   "id": "e81b4ac7",
   "metadata": {
    "papermill": {
     "duration": 0.048723,
     "end_time": "2022-01-13T00:28:54.546418",
     "exception": false,
     "start_time": "2022-01-13T00:28:54.497695",
     "status": "completed"
    },
    "tags": []
   },
   "outputs": [],
   "source": []
  }
 ],
 "metadata": {
  "kernelspec": {
   "display_name": "Python 3",
   "language": "python",
   "name": "python3"
  },
  "language_info": {
   "codemirror_mode": {
    "name": "ipython",
    "version": 3
   },
   "file_extension": ".py",
   "mimetype": "text/x-python",
   "name": "python",
   "nbconvert_exporter": "python",
   "pygments_lexer": "ipython3",
   "version": "3.6.15"
  },
  "papermill": {
   "default_parameters": {},
   "duration": 99.559815,
   "end_time": "2022-01-13T00:28:55.002528",
   "environment_variables": {},
   "exception": null,
   "input_path": "2020-08-11-part2.ipynb",
   "output_path": "2020-08-11-part2.ipynb",
   "parameters": {},
   "start_time": "2022-01-13T00:27:15.442713",
   "version": "2.3.3"
  }
 },
 "nbformat": 4,
 "nbformat_minor": 5
}