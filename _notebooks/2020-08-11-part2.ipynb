{
 "cells": [
  {
   "cell_type": "markdown",
   "id": "98380cd3",
   "metadata": {
    "papermill": {
     "duration": 0.034848,
     "end_time": "2022-02-08T00:26:43.816073",
     "exception": false,
     "start_time": "2022-02-08T00:26:43.781225",
     "status": "completed"
    },
    "tags": []
   },
   "source": [
    "# Distinguish Your Own Digits (DYOD)"
   ]
  },
  {
   "cell_type": "markdown",
   "id": "ef31240d",
   "metadata": {
    "papermill": {
     "duration": 0.028525,
     "end_time": "2022-02-08T00:26:43.872465",
     "exception": false,
     "start_time": "2022-02-08T00:26:43.843940",
     "status": "completed"
    },
    "tags": []
   },
   "source": [
    "You are going to write a classifier that distinguishes between the number 3 and number 8."
   ]
  },
  {
   "cell_type": "code",
   "execution_count": 1,
   "id": "b15c8646",
   "metadata": {
    "execution": {
     "iopub.execute_input": "2022-02-08T00:26:43.939964Z",
     "iopub.status.busy": "2022-02-08T00:26:43.934649Z",
     "iopub.status.idle": "2022-02-08T00:26:43.952009Z",
     "shell.execute_reply": "2022-02-08T00:26:43.951508Z"
    },
    "papermill": {
     "duration": 0.052826,
     "end_time": "2022-02-08T00:26:43.952160",
     "exception": false,
     "start_time": "2022-02-08T00:26:43.899334",
     "status": "completed"
    },
    "tags": []
   },
   "outputs": [],
   "source": [
    "%load_ext autoreload\n",
    "%autoreload 2"
   ]
  },
  {
   "cell_type": "code",
   "execution_count": 2,
   "id": "22ef38dc",
   "metadata": {
    "execution": {
     "iopub.execute_input": "2022-02-08T00:26:44.011577Z",
     "iopub.status.busy": "2022-02-08T00:26:44.010960Z",
     "iopub.status.idle": "2022-02-08T00:26:44.701053Z",
     "shell.execute_reply": "2022-02-08T00:26:44.701644Z"
    },
    "papermill": {
     "duration": 0.722415,
     "end_time": "2022-02-08T00:26:44.701820",
     "exception": false,
     "start_time": "2022-02-08T00:26:43.979405",
     "status": "completed"
    },
    "tags": []
   },
   "outputs": [],
   "source": [
    "%matplotlib inline\n",
    "import numpy as np\n",
    "import matplotlib.pyplot as plt\n",
    "import pandas as pd"
   ]
  },
  {
   "cell_type": "markdown",
   "id": "ba036198",
   "metadata": {
    "papermill": {
     "duration": 0.026987,
     "end_time": "2022-02-08T00:26:44.756096",
     "exception": false,
     "start_time": "2022-02-08T00:26:44.729109",
     "status": "completed"
    },
    "tags": []
   },
   "source": [
    "From the command line run `pip install mnist`. This is a library that will help you bring down the mnist dataset. If you run this from a notebook, you need to put  `!pip install mnist` in a cell by itself."
   ]
  },
  {
   "cell_type": "code",
   "execution_count": 3,
   "id": "bb6ad8a1",
   "metadata": {
    "execution": {
     "iopub.execute_input": "2022-02-08T00:26:44.815208Z",
     "iopub.status.busy": "2022-02-08T00:26:44.814146Z",
     "iopub.status.idle": "2022-02-08T00:26:46.732464Z",
     "shell.execute_reply": "2022-02-08T00:26:46.731636Z"
    },
    "papermill": {
     "duration": 1.94967,
     "end_time": "2022-02-08T00:26:46.732678",
     "exception": false,
     "start_time": "2022-02-08T00:26:44.783008",
     "status": "completed"
    },
    "tags": []
   },
   "outputs": [
    {
     "name": "stdout",
     "output_type": "stream",
     "text": [
      "Collecting mnist\r\n"
     ]
    },
    {
     "name": "stdout",
     "output_type": "stream",
     "text": [
      "  Downloading mnist-0.2.2-py2.py3-none-any.whl (3.5 kB)\r\n",
      "Requirement already satisfied: numpy in /opt/hostedtoolcache/Python/3.6.15/x64/lib/python3.6/site-packages (from mnist) (1.19.5)\r\n"
     ]
    },
    {
     "name": "stdout",
     "output_type": "stream",
     "text": [
      "Installing collected packages: mnist\r\n"
     ]
    },
    {
     "name": "stdout",
     "output_type": "stream",
     "text": [
      "Successfully installed mnist-0.2.2\r\n"
     ]
    }
   ],
   "source": [
    "!pip install mnist"
   ]
  },
  {
   "cell_type": "markdown",
   "id": "69df9c9a",
   "metadata": {
    "papermill": {
     "duration": 0.02826,
     "end_time": "2022-02-08T00:26:46.792221",
     "exception": false,
     "start_time": "2022-02-08T00:26:46.763961",
     "status": "completed"
    },
    "tags": []
   },
   "source": [
    "## Preparing the Data"
   ]
  },
  {
   "cell_type": "code",
   "execution_count": 4,
   "id": "7f69d806",
   "metadata": {
    "execution": {
     "iopub.execute_input": "2022-02-08T00:26:46.854034Z",
     "iopub.status.busy": "2022-02-08T00:26:46.853408Z",
     "iopub.status.idle": "2022-02-08T00:26:46.873155Z",
     "shell.execute_reply": "2022-02-08T00:26:46.872601Z"
    },
    "papermill": {
     "duration": 0.052513,
     "end_time": "2022-02-08T00:26:46.873299",
     "exception": false,
     "start_time": "2022-02-08T00:26:46.820786",
     "status": "completed"
    },
    "tags": []
   },
   "outputs": [],
   "source": [
    "import mnist"
   ]
  },
  {
   "cell_type": "code",
   "execution_count": 5,
   "id": "a411e44f",
   "metadata": {
    "execution": {
     "iopub.execute_input": "2022-02-08T00:26:46.938399Z",
     "iopub.status.busy": "2022-02-08T00:26:46.934202Z",
     "iopub.status.idle": "2022-02-08T00:26:47.539036Z",
     "shell.execute_reply": "2022-02-08T00:26:47.538092Z"
    },
    "papermill": {
     "duration": 0.637487,
     "end_time": "2022-02-08T00:26:47.539249",
     "exception": false,
     "start_time": "2022-02-08T00:26:46.901762",
     "status": "completed"
    },
    "tags": []
   },
   "outputs": [],
   "source": [
    "train_images = mnist.train_images()\n",
    "train_labels = mnist.train_labels()"
   ]
  },
  {
   "cell_type": "code",
   "execution_count": 6,
   "id": "dceab3a5",
   "metadata": {
    "execution": {
     "iopub.execute_input": "2022-02-08T00:26:47.602172Z",
     "iopub.status.busy": "2022-02-08T00:26:47.601550Z",
     "iopub.status.idle": "2022-02-08T00:26:47.617755Z",
     "shell.execute_reply": "2022-02-08T00:26:47.617249Z"
    },
    "papermill": {
     "duration": 0.048974,
     "end_time": "2022-02-08T00:26:47.617892",
     "exception": false,
     "start_time": "2022-02-08T00:26:47.568918",
     "status": "completed"
    },
    "tags": []
   },
   "outputs": [
    {
     "data": {
      "text/plain": [
       "((60000, 28, 28), (60000,))"
      ]
     },
     "execution_count": 6,
     "metadata": {},
     "output_type": "execute_result"
    }
   ],
   "source": [
    "train_images.shape, train_labels.shape"
   ]
  },
  {
   "cell_type": "code",
   "execution_count": 7,
   "id": "f50dc2bb",
   "metadata": {
    "execution": {
     "iopub.execute_input": "2022-02-08T00:26:47.681340Z",
     "iopub.status.busy": "2022-02-08T00:26:47.680690Z",
     "iopub.status.idle": "2022-02-08T00:26:47.835840Z",
     "shell.execute_reply": "2022-02-08T00:26:47.835002Z"
    },
    "papermill": {
     "duration": 0.189583,
     "end_time": "2022-02-08T00:26:47.836052",
     "exception": false,
     "start_time": "2022-02-08T00:26:47.646469",
     "status": "completed"
    },
    "tags": []
   },
   "outputs": [],
   "source": [
    "test_images = mnist.test_images()\n",
    "test_labels = mnist.test_labels()"
   ]
  },
  {
   "cell_type": "code",
   "execution_count": 8,
   "id": "fc38cf1b",
   "metadata": {
    "execution": {
     "iopub.execute_input": "2022-02-08T00:26:47.898925Z",
     "iopub.status.busy": "2022-02-08T00:26:47.898304Z",
     "iopub.status.idle": "2022-02-08T00:26:47.912667Z",
     "shell.execute_reply": "2022-02-08T00:26:47.912174Z"
    },
    "papermill": {
     "duration": 0.047851,
     "end_time": "2022-02-08T00:26:47.912800",
     "exception": false,
     "start_time": "2022-02-08T00:26:47.864949",
     "status": "completed"
    },
    "tags": []
   },
   "outputs": [
    {
     "data": {
      "text/plain": [
       "((10000, 28, 28), (10000,))"
      ]
     },
     "execution_count": 8,
     "metadata": {},
     "output_type": "execute_result"
    }
   ],
   "source": [
    "test_images.shape, test_labels.shape"
   ]
  },
  {
   "cell_type": "code",
   "execution_count": 9,
   "id": "f9ed8fe0",
   "metadata": {
    "execution": {
     "iopub.execute_input": "2022-02-08T00:26:47.976618Z",
     "iopub.status.busy": "2022-02-08T00:26:47.975983Z",
     "iopub.status.idle": "2022-02-08T00:26:48.136425Z",
     "shell.execute_reply": "2022-02-08T00:26:48.136894Z"
    },
    "papermill": {
     "duration": 0.196118,
     "end_time": "2022-02-08T00:26:48.137061",
     "exception": false,
     "start_time": "2022-02-08T00:26:47.940943",
     "status": "completed"
    },
    "tags": []
   },
   "outputs": [
    {
     "name": "stdout",
     "output_type": "stream",
     "text": [
      "2\n"
     ]
    },
    {
     "data": {
      "text/plain": [
       "<matplotlib.image.AxesImage at 0x7f1fddbd6ef0>"
      ]
     },
     "execution_count": 9,
     "metadata": {},
     "output_type": "execute_result"
    },
    {
     "data": {
      "image/png": "[encoded data removed]",
      "text/plain": [
       "<Figure size 432x288 with 1 Axes>"
      ]
     },
     "metadata": {
      "needs_background": "light"
     },
     "output_type": "display_data"
    }
   ],
   "source": [
    "image_index = 7776 # You may select anything up to 60,000\n",
    "print(train_labels[image_index]) \n",
    "plt.imshow(train_images[image_index], cmap='Greys')"
   ]
  },
  {
   "cell_type": "markdown",
   "id": "a8d2388d",
   "metadata": {
    "papermill": {
     "duration": 0.029884,
     "end_time": "2022-02-08T00:26:48.197214",
     "exception": false,
     "start_time": "2022-02-08T00:26:48.167330",
     "status": "completed"
    },
    "tags": []
   },
   "source": [
    "## Filter data to get 3 and 8 out"
   ]
  },
  {
   "cell_type": "code",
   "execution_count": 10,
   "id": "776f7fc7",
   "metadata": {
    "execution": {
     "iopub.execute_input": "2022-02-08T00:26:48.263762Z",
     "iopub.status.busy": "2022-02-08T00:26:48.263136Z",
     "iopub.status.idle": "2022-02-08T00:26:48.281972Z",
     "shell.execute_reply": "2022-02-08T00:26:48.281454Z"
    },
    "papermill": {
     "duration": 0.054884,
     "end_time": "2022-02-08T00:26:48.282103",
     "exception": false,
     "start_time": "2022-02-08T00:26:48.227219",
     "status": "completed"
    },
    "tags": []
   },
   "outputs": [],
   "source": [
    "train_filter = np.where((train_labels == 3 ) | (train_labels == 8))\n",
    "test_filter = np.where((test_labels == 3) | (test_labels == 8))\n",
    "X_train, y_train = train_images[train_filter], train_labels[train_filter]\n",
    "X_test, y_test = test_images[test_filter], test_labels[test_filter]"
   ]
  },
  {
   "cell_type": "markdown",
   "id": "948f0b7e",
   "metadata": {
    "papermill": {
     "duration": 0.030978,
     "end_time": "2022-02-08T00:26:48.345003",
     "exception": false,
     "start_time": "2022-02-08T00:26:48.314025",
     "status": "completed"
    },
    "tags": []
   },
   "source": [
    "We normalize the pizel values in the 0 to 1 range"
   ]
  },
  {
   "cell_type": "code",
   "execution_count": 11,
   "id": "ee4c2166",
   "metadata": {
    "execution": {
     "iopub.execute_input": "2022-02-08T00:26:48.415823Z",
     "iopub.status.busy": "2022-02-08T00:26:48.415144Z",
     "iopub.status.idle": "2022-02-08T00:26:48.465830Z",
     "shell.execute_reply": "2022-02-08T00:26:48.464878Z"
    },
    "papermill": {
     "duration": 0.088571,
     "end_time": "2022-02-08T00:26:48.466067",
     "exception": false,
     "start_time": "2022-02-08T00:26:48.377496",
     "status": "completed"
    },
    "tags": []
   },
   "outputs": [],
   "source": [
    "X_train = X_train/255.\n",
    "X_test = X_test/255."
   ]
  },
  {
   "cell_type": "markdown",
   "id": "ddcf4fab",
   "metadata": {
    "papermill": {
     "duration": 0.029962,
     "end_time": "2022-02-08T00:26:48.526305",
     "exception": false,
     "start_time": "2022-02-08T00:26:48.496343",
     "status": "completed"
    },
    "tags": []
   },
   "source": [
    "And setup the labels as 1 (when the digit is 3) and 0 (when the digit is 8)"
   ]
  },
  {
   "cell_type": "code",
   "execution_count": 12,
   "id": "7dc908f2",
   "metadata": {
    "execution": {
     "iopub.execute_input": "2022-02-08T00:26:48.594718Z",
     "iopub.status.busy": "2022-02-08T00:26:48.594091Z",
     "iopub.status.idle": "2022-02-08T00:26:48.609242Z",
     "shell.execute_reply": "2022-02-08T00:26:48.608684Z"
    },
    "papermill": {
     "duration": 0.053093,
     "end_time": "2022-02-08T00:26:48.609377",
     "exception": false,
     "start_time": "2022-02-08T00:26:48.556284",
     "status": "completed"
    },
    "tags": []
   },
   "outputs": [],
   "source": [
    "y_train = 1*(y_train==3)\n",
    "y_test = 1*(y_test==3)"
   ]
  },
  {
   "cell_type": "code",
   "execution_count": 13,
   "id": "01e4e969",
   "metadata": {
    "execution": {
     "iopub.execute_input": "2022-02-08T00:26:48.677337Z",
     "iopub.status.busy": "2022-02-08T00:26:48.676694Z",
     "iopub.status.idle": "2022-02-08T00:26:48.691080Z",
     "shell.execute_reply": "2022-02-08T00:26:48.691600Z"
    },
    "papermill": {
     "duration": 0.052311,
     "end_time": "2022-02-08T00:26:48.691751",
     "exception": false,
     "start_time": "2022-02-08T00:26:48.639440",
     "status": "completed"
    },
    "tags": []
   },
   "outputs": [
    {
     "data": {
      "text/plain": [
       "((11982, 28, 28), (1984, 28, 28))"
      ]
     },
     "execution_count": 13,
     "metadata": {},
     "output_type": "execute_result"
    }
   ],
   "source": [
    "X_train.shape, X_test.shape"
   ]
  },
  {
   "cell_type": "markdown",
   "id": "5ccf3f85",
   "metadata": {
    "papermill": {
     "duration": 0.029979,
     "end_time": "2022-02-08T00:26:48.750765",
     "exception": false,
     "start_time": "2022-02-08T00:26:48.720786",
     "status": "completed"
    },
    "tags": []
   },
   "source": [
    "We reshape the data to flatten the image pixels into a set of features or co-variates:"
   ]
  },
  {
   "cell_type": "code",
   "execution_count": 14,
   "id": "5286a4a3",
   "metadata": {
    "execution": {
     "iopub.execute_input": "2022-02-08T00:26:48.818915Z",
     "iopub.status.busy": "2022-02-08T00:26:48.818299Z",
     "iopub.status.idle": "2022-02-08T00:26:48.834476Z",
     "shell.execute_reply": "2022-02-08T00:26:48.834931Z"
    },
    "papermill": {
     "duration": 0.054119,
     "end_time": "2022-02-08T00:26:48.835091",
     "exception": false,
     "start_time": "2022-02-08T00:26:48.780972",
     "status": "completed"
    },
    "tags": []
   },
   "outputs": [
    {
     "data": {
      "text/plain": [
       "((11982, 784), (1984, 784))"
      ]
     },
     "execution_count": 14,
     "metadata": {},
     "output_type": "execute_result"
    }
   ],
   "source": [
    "X_train = X_train.reshape(X_train.shape[0], -1)\n",
    "X_test = X_test.reshape(X_test.shape[0], -1)\n",
    "X_train.shape, X_test.shape"
   ]
  },
  {
   "cell_type": "code",
   "execution_count": 15,
   "id": "73c5f88a",
   "metadata": {
    "execution": {
     "iopub.execute_input": "2022-02-08T00:26:48.902761Z",
     "iopub.status.busy": "2022-02-08T00:26:48.902143Z",
     "iopub.status.idle": "2022-02-08T00:26:48.923112Z",
     "shell.execute_reply": "2022-02-08T00:26:48.923574Z"
    },
    "papermill": {
     "duration": 0.058369,
     "end_time": "2022-02-08T00:26:48.923733",
     "exception": false,
     "start_time": "2022-02-08T00:26:48.865364",
     "status": "completed"
    },
    "tags": []
   },
   "outputs": [],
   "source": [
    "#Impoting functions from 'Kudzu'\n",
    "from kudzu.model import Model\n",
    "from kudzu.train import Learner\n",
    "from kudzu.optim import GD\n",
    "from kudzu.data import Data, Sampler,Dataloader\n",
    "\n",
    "from kudzu.callbacks import AccCallback\n",
    "from kudzu.callbacks import ClfCallback\n",
    "\n",
    "from kudzu.loss import MSE\n",
    "\n",
    "from kudzu.layer import Sigmoid,Relu\n",
    "from kudzu.layer import Affine"
   ]
  },
  {
   "cell_type": "markdown",
   "id": "bc01172a",
   "metadata": {
    "papermill": {
     "duration": 0.030167,
     "end_time": "2022-02-08T00:26:48.984521",
     "exception": false,
     "start_time": "2022-02-08T00:26:48.954354",
     "status": "completed"
    },
    "tags": []
   },
   "source": [
    "### Let us create a `Config` class, to store important parameters. \n",
    "This class essentially plays the role of a dictionary."
   ]
  },
  {
   "cell_type": "code",
   "execution_count": 16,
   "id": "978281aa",
   "metadata": {
    "execution": {
     "iopub.execute_input": "2022-02-08T00:26:49.049618Z",
     "iopub.status.busy": "2022-02-08T00:26:49.048951Z",
     "iopub.status.idle": "2022-02-08T00:26:49.065540Z",
     "shell.execute_reply": "2022-02-08T00:26:49.065021Z"
    },
    "papermill": {
     "duration": 0.051166,
     "end_time": "2022-02-08T00:26:49.065675",
     "exception": false,
     "start_time": "2022-02-08T00:26:49.014509",
     "status": "completed"
    },
    "tags": []
   },
   "outputs": [],
   "source": [
    "class Config:\n",
    "    pass\n",
    "config = Config()\n",
    "config.lr = 0.001\n",
    "config.num_epochs = 250\n",
    "config.bs = 50"
   ]
  },
  {
   "cell_type": "markdown",
   "id": "1385fa59",
   "metadata": {
    "papermill": {
     "duration": 0.030275,
     "end_time": "2022-02-08T00:26:49.126461",
     "exception": false,
     "start_time": "2022-02-08T00:26:49.096186",
     "status": "completed"
    },
    "tags": []
   },
   "source": [
    "### Running Models with the Training data\n",
    "Details about the network layers:\n",
    "- A first affine layer has 784 inputs and does 100 affine transforms. These are followed by a Relu\n",
    "- A second affine layer has 100 inputs from the 100 activations of the past layer, and does 100 affine transforms. These are followed by a Relu\n",
    "- A third affine layer has 100 activations and does 2 affine transformations to create an embedding for visualization. There is no non-linearity here.\n",
    "- A final \"logistic regression\" which has an affine transform from 2 inputs to 1 output, which is squeezed through a sigmoid.\n"
   ]
  },
  {
   "cell_type": "code",
   "execution_count": 17,
   "id": "2b9c66db",
   "metadata": {
    "execution": {
     "iopub.execute_input": "2022-02-08T00:26:49.200198Z",
     "iopub.status.busy": "2022-02-08T00:26:49.199566Z",
     "iopub.status.idle": "2022-02-08T00:26:49.211290Z",
     "shell.execute_reply": "2022-02-08T00:26:49.210764Z"
    },
    "papermill": {
     "duration": 0.054375,
     "end_time": "2022-02-08T00:26:49.211420",
     "exception": false,
     "start_time": "2022-02-08T00:26:49.157045",
     "status": "completed"
    },
    "tags": []
   },
   "outputs": [],
   "source": [
    "data = Data(X_train, y_train.reshape(-1,1))\n",
    "sampler = Sampler(data, config.bs, shuffle=True)\n",
    "\n",
    "dl = Dataloader(data, sampler)\n",
    "\n",
    "opt = GD(config.lr)\n",
    "loss = MSE()"
   ]
  },
  {
   "cell_type": "code",
   "execution_count": 18,
   "id": "b275e4c2",
   "metadata": {
    "execution": {
     "iopub.execute_input": "2022-02-08T00:26:49.278625Z",
     "iopub.status.busy": "2022-02-08T00:26:49.278023Z",
     "iopub.status.idle": "2022-02-08T00:26:49.291968Z",
     "shell.execute_reply": "2022-02-08T00:26:49.292475Z"
    },
    "papermill": {
     "duration": 0.050386,
     "end_time": "2022-02-08T00:26:49.292631",
     "exception": false,
     "start_time": "2022-02-08T00:26:49.242245",
     "status": "completed"
    },
    "tags": []
   },
   "outputs": [],
   "source": [
    "training_data_x = X_train\n",
    "testing_data_x = X_test\n",
    "training_data_y = y_train.reshape(-1,1)\n",
    "testing_data_y = y_test.reshape(-1,1)"
   ]
  },
  {
   "cell_type": "code",
   "execution_count": 19,
   "id": "76951160",
   "metadata": {
    "execution": {
     "iopub.execute_input": "2022-02-08T00:26:49.362354Z",
     "iopub.status.busy": "2022-02-08T00:26:49.361720Z",
     "iopub.status.idle": "2022-02-08T00:26:49.378770Z",
     "shell.execute_reply": "2022-02-08T00:26:49.378292Z"
    },
    "papermill": {
     "duration": 0.055981,
     "end_time": "2022-02-08T00:26:49.378913",
     "exception": false,
     "start_time": "2022-02-08T00:26:49.322932",
     "status": "completed"
    },
    "tags": []
   },
   "outputs": [
    {
     "name": "stdout",
     "output_type": "stream",
     "text": [
      "xavier\n",
      "xavier\n",
      "xavier\n",
      "xavier\n",
      "xavier\n"
     ]
    }
   ],
   "source": [
    "layers = [Affine(\"first\", 784, 100), Relu(\"first\"), Affine(\"second\", 100, 100), Relu(\"second\"), Affine(\"third\", 100, 2), Affine(\"last\", 2, 1), Sigmoid(\"last\")]\n",
    "model_nn = Model(layers)\n",
    "model_lr = Model([Affine(\"logits\", 784, 1), Sigmoid(\"sigmoid\")])"
   ]
  },
  {
   "cell_type": "code",
   "execution_count": 20,
   "id": "6eede77a",
   "metadata": {
    "execution": {
     "iopub.execute_input": "2022-02-08T00:26:49.445008Z",
     "iopub.status.busy": "2022-02-08T00:26:49.444410Z",
     "iopub.status.idle": "2022-02-08T00:26:49.458205Z",
     "shell.execute_reply": "2022-02-08T00:26:49.457714Z"
    },
    "papermill": {
     "duration": 0.049158,
     "end_time": "2022-02-08T00:26:49.458339",
     "exception": false,
     "start_time": "2022-02-08T00:26:49.409181",
     "status": "completed"
    },
    "tags": []
   },
   "outputs": [],
   "source": [
    "nn_learner = Learner(loss, model_nn, opt, config.num_epochs)\n",
    "acc_nn = ClfCallback(nn_learner, config.bs, training_data_x , testing_data_x, training_data_y, testing_data_y)\n",
    "nn_learner.set_callbacks([acc_nn])"
   ]
  },
  {
   "cell_type": "code",
   "execution_count": 21,
   "id": "877b6cc7",
   "metadata": {
    "execution": {
     "iopub.execute_input": "2022-02-08T00:26:49.525685Z",
     "iopub.status.busy": "2022-02-08T00:26:49.524599Z",
     "iopub.status.idle": "2022-02-08T00:26:49.540238Z",
     "shell.execute_reply": "2022-02-08T00:26:49.539142Z"
    },
    "papermill": {
     "duration": 0.050984,
     "end_time": "2022-02-08T00:26:49.540376",
     "exception": false,
     "start_time": "2022-02-08T00:26:49.489392",
     "status": "completed"
    },
    "tags": []
   },
   "outputs": [],
   "source": [
    "lr_learner = Learner(loss, model_lr, opt, config.num_epochs)\n",
    "acc_lr = ClfCallback(lr_learner, config.bs, training_data_x , testing_data_x, training_data_y, testing_data_y)\n",
    "lr_learner.set_callbacks([acc_lr])"
   ]
  },
  {
   "cell_type": "code",
   "execution_count": 22,
   "id": "d9b133c3",
   "metadata": {
    "execution": {
     "iopub.execute_input": "2022-02-08T00:26:49.606517Z",
     "iopub.status.busy": "2022-02-08T00:26:49.605910Z",
     "iopub.status.idle": "2022-02-08T00:28:23.936053Z",
     "shell.execute_reply": "2022-02-08T00:28:23.935542Z"
    },
    "papermill": {
     "duration": 94.364961,
     "end_time": "2022-02-08T00:28:23.936194",
     "exception": false,
     "start_time": "2022-02-08T00:26:49.571233",
     "status": "completed"
    },
    "tags": []
   },
   "outputs": [
    {
     "name": "stdout",
     "output_type": "stream",
     "text": [
      "Epoch 0, Loss 0.2439\n",
      "Training Accuracy: 0.6478, Testing Accuracy: 0.6683\n",
      "\n"
     ]
    },
    {
     "name": "stdout",
     "output_type": "stream",
     "text": [
      "Epoch 10, Loss 0.0835\n",
      "Training Accuracy: 0.9241, Testing Accuracy: 0.9385\n",
      "\n"
     ]
    },
    {
     "name": "stdout",
     "output_type": "stream",
     "text": [
      "Epoch 20, Loss 0.0528\n",
      "Training Accuracy: 0.9433, Testing Accuracy: 0.9541\n",
      "\n"
     ]
    },
    {
     "name": "stdout",
     "output_type": "stream",
     "text": [
      "Epoch 30, Loss 0.0421\n",
      "Training Accuracy: 0.9531, Testing Accuracy: 0.9642\n",
      "\n"
     ]
    },
    {
     "name": "stdout",
     "output_type": "stream",
     "text": [
      "Epoch 40, Loss 0.0366\n",
      "Training Accuracy: 0.9574, Testing Accuracy: 0.9657\n",
      "\n"
     ]
    },
    {
     "name": "stdout",
     "output_type": "stream",
     "text": [
      "Epoch 50, Loss 0.0332\n",
      "Training Accuracy: 0.9613, Testing Accuracy: 0.9677\n",
      "\n"
     ]
    },
    {
     "name": "stdout",
     "output_type": "stream",
     "text": [
      "Epoch 60, Loss 0.0308\n",
      "Training Accuracy: 0.9644, Testing Accuracy: 0.9698\n",
      "\n"
     ]
    },
    {
     "name": "stdout",
     "output_type": "stream",
     "text": [
      "Epoch 70, Loss 0.029\n",
      "Training Accuracy: 0.9669, Testing Accuracy: 0.9703\n",
      "\n"
     ]
    },
    {
     "name": "stdout",
     "output_type": "stream",
     "text": [
      "Epoch 80, Loss 0.0275\n",
      "Training Accuracy: 0.9689, Testing Accuracy: 0.9703\n",
      "\n"
     ]
    },
    {
     "name": "stdout",
     "output_type": "stream",
     "text": [
      "Epoch 90, Loss 0.0263\n",
      "Training Accuracy: 0.9706, Testing Accuracy: 0.9713\n",
      "\n"
     ]
    },
    {
     "name": "stdout",
     "output_type": "stream",
     "text": [
      "Epoch 100, Loss 0.0253\n",
      "Training Accuracy: 0.9717, Testing Accuracy: 0.9713\n",
      "\n"
     ]
    },
    {
     "name": "stdout",
     "output_type": "stream",
     "text": [
      "Epoch 110, Loss 0.0244\n",
      "Training Accuracy: 0.9725, Testing Accuracy: 0.9718\n",
      "\n"
     ]
    },
    {
     "name": "stdout",
     "output_type": "stream",
     "text": [
      "Epoch 120, Loss 0.0236\n",
      "Training Accuracy: 0.9732, Testing Accuracy: 0.9718\n",
      "\n"
     ]
    },
    {
     "name": "stdout",
     "output_type": "stream",
     "text": [
      "Epoch 130, Loss 0.0229\n",
      "Training Accuracy: 0.9737, Testing Accuracy: 0.9708\n",
      "\n"
     ]
    },
    {
     "name": "stdout",
     "output_type": "stream",
     "text": [
      "Epoch 140, Loss 0.0223\n",
      "Training Accuracy: 0.9745, Testing Accuracy: 0.9718\n",
      "\n"
     ]
    },
    {
     "name": "stdout",
     "output_type": "stream",
     "text": [
      "Epoch 150, Loss 0.0217\n",
      "Training Accuracy: 0.9759, Testing Accuracy: 0.9728\n",
      "\n"
     ]
    },
    {
     "name": "stdout",
     "output_type": "stream",
     "text": [
      "Epoch 160, Loss 0.0211\n",
      "Training Accuracy: 0.9761, Testing Accuracy: 0.9738\n",
      "\n"
     ]
    },
    {
     "name": "stdout",
     "output_type": "stream",
     "text": [
      "Epoch 170, Loss 0.0206\n",
      "Training Accuracy: 0.9770, Testing Accuracy: 0.9733\n",
      "\n"
     ]
    },
    {
     "name": "stdout",
     "output_type": "stream",
     "text": [
      "Epoch 180, Loss 0.0201\n",
      "Training Accuracy: 0.9775, Testing Accuracy: 0.9738\n",
      "\n"
     ]
    },
    {
     "name": "stdout",
     "output_type": "stream",
     "text": [
      "Epoch 190, Loss 0.0196\n",
      "Training Accuracy: 0.9781, Testing Accuracy: 0.9743\n",
      "\n"
     ]
    },
    {
     "name": "stdout",
     "output_type": "stream",
     "text": [
      "Epoch 200, Loss 0.0192\n",
      "Training Accuracy: 0.9783, Testing Accuracy: 0.9738\n",
      "\n"
     ]
    },
    {
     "name": "stdout",
     "output_type": "stream",
     "text": [
      "Epoch 210, Loss 0.0188\n",
      "Training Accuracy: 0.9794, Testing Accuracy: 0.9748\n",
      "\n"
     ]
    },
    {
     "name": "stdout",
     "output_type": "stream",
     "text": [
      "Epoch 220, Loss 0.0184\n",
      "Training Accuracy: 0.9799, Testing Accuracy: 0.9748\n",
      "\n"
     ]
    },
    {
     "name": "stdout",
     "output_type": "stream",
     "text": [
      "Epoch 230, Loss 0.018\n",
      "Training Accuracy: 0.9803, Testing Accuracy: 0.9758\n",
      "\n"
     ]
    },
    {
     "name": "stdout",
     "output_type": "stream",
     "text": [
      "Epoch 240, Loss 0.0176\n",
      "Training Accuracy: 0.9808, Testing Accuracy: 0.9758\n",
      "\n"
     ]
    },
    {
     "data": {
      "text/plain": [
       "0.009535997034456995"
      ]
     },
     "execution_count": 22,
     "metadata": {},
     "output_type": "execute_result"
    }
   ],
   "source": [
    "nn_learner.train_loop(dl)"
   ]
  },
  {
   "cell_type": "code",
   "execution_count": 23,
   "id": "e0163366",
   "metadata": {
    "execution": {
     "iopub.execute_input": "2022-02-08T00:28:24.019198Z",
     "iopub.status.busy": "2022-02-08T00:28:24.018547Z",
     "iopub.status.idle": "2022-02-08T00:28:40.844067Z",
     "shell.execute_reply": "2022-02-08T00:28:40.844962Z"
    },
    "papermill": {
     "duration": 16.869747,
     "end_time": "2022-02-08T00:28:40.845165",
     "exception": false,
     "start_time": "2022-02-08T00:28:23.975418",
     "status": "completed"
    },
    "tags": []
   },
   "outputs": [
    {
     "name": "stdout",
     "output_type": "stream",
     "text": [
      "Epoch 0, Loss 0.2478\n",
      "Training Accuracy: 0.6551, Testing Accuracy: 0.6673\n",
      "\n"
     ]
    },
    {
     "name": "stdout",
     "output_type": "stream",
     "text": [
      "Epoch 10, Loss 0.102\n",
      "Training Accuracy: 0.9084, Testing Accuracy: 0.9249\n",
      "\n"
     ]
    },
    {
     "name": "stdout",
     "output_type": "stream",
     "text": [
      "Epoch 20, Loss 0.0786\n",
      "Training Accuracy: 0.9277, Testing Accuracy: 0.9380\n",
      "\n"
     ]
    },
    {
     "name": "stdout",
     "output_type": "stream",
     "text": [
      "Epoch 30, Loss 0.0678\n",
      "Training Accuracy: 0.9357, Testing Accuracy: 0.9456\n",
      "\n"
     ]
    },
    {
     "name": "stdout",
     "output_type": "stream",
     "text": [
      "Epoch 40, Loss 0.0613\n",
      "Training Accuracy: 0.9414, Testing Accuracy: 0.9516\n",
      "\n"
     ]
    },
    {
     "name": "stdout",
     "output_type": "stream",
     "text": [
      "Epoch 50, Loss 0.0569\n",
      "Training Accuracy: 0.9448, Testing Accuracy: 0.9536\n",
      "\n"
     ]
    },
    {
     "name": "stdout",
     "output_type": "stream",
     "text": [
      "Epoch 60, Loss 0.0536\n",
      "Training Accuracy: 0.9479, Testing Accuracy: 0.9577\n",
      "\n"
     ]
    },
    {
     "name": "stdout",
     "output_type": "stream",
     "text": [
      "Epoch 70, Loss 0.0511\n",
      "Training Accuracy: 0.9497, Testing Accuracy: 0.9582\n",
      "\n"
     ]
    },
    {
     "name": "stdout",
     "output_type": "stream",
     "text": [
      "Epoch 80, Loss 0.0491\n",
      "Training Accuracy: 0.9512, Testing Accuracy: 0.9582\n",
      "\n"
     ]
    },
    {
     "name": "stdout",
     "output_type": "stream",
     "text": [
      "Epoch 90, Loss 0.0474\n",
      "Training Accuracy: 0.9526, Testing Accuracy: 0.9587\n",
      "\n"
     ]
    },
    {
     "name": "stdout",
     "output_type": "stream",
     "text": [
      "Epoch 100, Loss 0.046\n",
      "Training Accuracy: 0.9533, Testing Accuracy: 0.9592\n",
      "\n"
     ]
    },
    {
     "name": "stdout",
     "output_type": "stream",
     "text": [
      "Epoch 110, Loss 0.0448\n",
      "Training Accuracy: 0.9541, Testing Accuracy: 0.9612\n",
      "\n"
     ]
    },
    {
     "name": "stdout",
     "output_type": "stream",
     "text": [
      "Epoch 120, Loss 0.0437\n",
      "Training Accuracy: 0.9550, Testing Accuracy: 0.9622\n",
      "\n"
     ]
    },
    {
     "name": "stdout",
     "output_type": "stream",
     "text": [
      "Epoch 130, Loss 0.0428\n",
      "Training Accuracy: 0.9557, Testing Accuracy: 0.9632\n",
      "\n"
     ]
    },
    {
     "name": "stdout",
     "output_type": "stream",
     "text": [
      "Epoch 140, Loss 0.042\n",
      "Training Accuracy: 0.9566, Testing Accuracy: 0.9642\n",
      "\n"
     ]
    },
    {
     "name": "stdout",
     "output_type": "stream",
     "text": [
      "Epoch 150, Loss 0.0412\n",
      "Training Accuracy: 0.9572, Testing Accuracy: 0.9662\n",
      "\n"
     ]
    },
    {
     "name": "stdout",
     "output_type": "stream",
     "text": [
      "Epoch 160, Loss 0.0405\n",
      "Training Accuracy: 0.9576, Testing Accuracy: 0.9662\n",
      "\n"
     ]
    },
    {
     "name": "stdout",
     "output_type": "stream",
     "text": [
      "Epoch 170, Loss 0.0399\n",
      "Training Accuracy: 0.9580, Testing Accuracy: 0.9672\n",
      "\n"
     ]
    },
    {
     "name": "stdout",
     "output_type": "stream",
     "text": [
      "Epoch 180, Loss 0.0394\n",
      "Training Accuracy: 0.9583, Testing Accuracy: 0.9672\n",
      "\n"
     ]
    },
    {
     "name": "stdout",
     "output_type": "stream",
     "text": [
      "Epoch 190, Loss 0.0389\n",
      "Training Accuracy: 0.9588, Testing Accuracy: 0.9677\n",
      "\n"
     ]
    },
    {
     "name": "stdout",
     "output_type": "stream",
     "text": [
      "Epoch 200, Loss 0.0384\n",
      "Training Accuracy: 0.9593, Testing Accuracy: 0.9682\n",
      "\n"
     ]
    },
    {
     "name": "stdout",
     "output_type": "stream",
     "text": [
      "Epoch 210, Loss 0.0379\n",
      "Training Accuracy: 0.9595, Testing Accuracy: 0.9677\n",
      "\n"
     ]
    },
    {
     "name": "stdout",
     "output_type": "stream",
     "text": [
      "Epoch 220, Loss 0.0375\n",
      "Training Accuracy: 0.9599, Testing Accuracy: 0.9677\n",
      "\n"
     ]
    },
    {
     "name": "stdout",
     "output_type": "stream",
     "text": [
      "Epoch 230, Loss 0.0372\n",
      "Training Accuracy: 0.9604, Testing Accuracy: 0.9682\n",
      "\n"
     ]
    },
    {
     "name": "stdout",
     "output_type": "stream",
     "text": [
      "Epoch 240, Loss 0.0368\n",
      "Training Accuracy: 0.9606, Testing Accuracy: 0.9682\n",
      "\n"
     ]
    },
    {
     "data": {
      "text/plain": [
       "0.019109821858097512"
      ]
     },
     "execution_count": 23,
     "metadata": {},
     "output_type": "execute_result"
    }
   ],
   "source": [
    "lr_learner.train_loop(dl)"
   ]
  },
  {
   "cell_type": "code",
   "execution_count": 24,
   "id": "ca410940",
   "metadata": {
    "execution": {
     "iopub.execute_input": "2022-02-08T00:28:40.954683Z",
     "iopub.status.busy": "2022-02-08T00:28:40.954023Z",
     "iopub.status.idle": "2022-02-08T00:28:41.219559Z",
     "shell.execute_reply": "2022-02-08T00:28:41.219026Z"
    },
    "papermill": {
     "duration": 0.327203,
     "end_time": "2022-02-08T00:28:41.219692",
     "exception": false,
     "start_time": "2022-02-08T00:28:40.892489",
     "status": "completed"
    },
    "tags": []
   },
   "outputs": [
    {
     "data": {
      "text/plain": [
       "<matplotlib.legend.Legend at 0x7f1fd0f99668>"
      ]
     },
     "execution_count": 24,
     "metadata": {},
     "output_type": "execute_result"
    },
    {
     "data": {
      "image/png": "[encoded data removed]",
      "text/plain": [
       "<Figure size 1080x720 with 1 Axes>"
      ]
     },
     "metadata": {
      "needs_background": "light"
     },
     "output_type": "display_data"
    }
   ],
   "source": [
    "#comparing the results of NN and LR\n",
    "plt.figure(figsize=(15,10))\n",
    "\n",
    "# Neural Network plots\n",
    "plt.plot(acc_nn.accuracies, 'r-', label = \"Training Accuracies - NN\")\n",
    "plt.plot(acc_nn.test_accuracies, 'g-', label = \"Testing Accuracies - NN\")\n",
    "\n",
    "# Logistic Regression plots\n",
    "plt.plot(acc_lr.accuracies, 'k-', label = \"Training Accuracies - LR\")\n",
    "plt.plot(acc_lr.test_accuracies, 'b-', label = \"Testing Accuracies - LR\")\n",
    "plt.legend()"
   ]
  },
  {
   "cell_type": "markdown",
   "id": "80dfb35c",
   "metadata": {
    "papermill": {
     "duration": 0.048157,
     "end_time": "2022-02-08T00:28:41.316583",
     "exception": false,
     "start_time": "2022-02-08T00:28:41.268426",
     "status": "completed"
    },
    "tags": []
   },
   "source": [
    "#### Plotting the outputs of this layer of the NN.\n"
   ]
  },
  {
   "cell_type": "code",
   "execution_count": 25,
   "id": "45eb2ff5",
   "metadata": {
    "execution": {
     "iopub.execute_input": "2022-02-08T00:28:41.420996Z",
     "iopub.status.busy": "2022-02-08T00:28:41.420340Z",
     "iopub.status.idle": "2022-02-08T00:28:41.441855Z",
     "shell.execute_reply": "2022-02-08T00:28:41.442359Z"
    },
    "papermill": {
     "duration": 0.078191,
     "end_time": "2022-02-08T00:28:41.442520",
     "exception": false,
     "start_time": "2022-02-08T00:28:41.364329",
     "status": "completed"
    },
    "tags": []
   },
   "outputs": [],
   "source": [
    "new_model = Model(layers[:-2])\n",
    "testing_plot = new_model(testing_data_x)"
   ]
  },
  {
   "cell_type": "code",
   "execution_count": 26,
   "id": "4c0a5485",
   "metadata": {
    "execution": {
     "iopub.execute_input": "2022-02-08T00:28:41.546917Z",
     "iopub.status.busy": "2022-02-08T00:28:41.544156Z",
     "iopub.status.idle": "2022-02-08T00:28:41.783029Z",
     "shell.execute_reply": "2022-02-08T00:28:41.782524Z"
    },
    "papermill": {
     "duration": 0.29277,
     "end_time": "2022-02-08T00:28:41.783167",
     "exception": false,
     "start_time": "2022-02-08T00:28:41.490397",
     "status": "completed"
    },
    "tags": []
   },
   "outputs": [
    {
     "data": {
      "text/plain": [
       "Text(0.5, 1.0, 'Outputs')"
      ]
     },
     "execution_count": 26,
     "metadata": {},
     "output_type": "execute_result"
    },
    {
     "data": {
      "image/png": "[encoded data removed]",
      "text/plain": [
       "<Figure size 576x504 with 1 Axes>"
      ]
     },
     "metadata": {
      "needs_background": "light"
     },
     "output_type": "display_data"
    }
   ],
   "source": [
    "# Plotting the scatter plot of points and color coding by class\n",
    "plt.figure(figsize=(8,7))\n",
    "plt.scatter(testing_plot[:,0], testing_plot[:,1], alpha = 0.1, c = y_test.ravel());\n",
    "plt.title('Outputs')"
   ]
  },
  {
   "cell_type": "markdown",
   "id": "a74fcf8f",
   "metadata": {
    "papermill": {
     "duration": 0.050389,
     "end_time": "2022-02-08T00:28:41.883946",
     "exception": false,
     "start_time": "2022-02-08T00:28:41.833557",
     "status": "completed"
    },
    "tags": []
   },
   "source": [
    "Probability contours"
   ]
  },
  {
   "cell_type": "code",
   "execution_count": 27,
   "id": "d0afc8e3",
   "metadata": {
    "execution": {
     "iopub.execute_input": "2022-02-08T00:28:42.022336Z",
     "iopub.status.busy": "2022-02-08T00:28:42.021730Z",
     "iopub.status.idle": "2022-02-08T00:28:42.035586Z",
     "shell.execute_reply": "2022-02-08T00:28:42.036076Z"
    },
    "papermill": {
     "duration": 0.101918,
     "end_time": "2022-02-08T00:28:42.036232",
     "exception": false,
     "start_time": "2022-02-08T00:28:41.934314",
     "status": "completed"
    },
    "tags": []
   },
   "outputs": [],
   "source": [
    "model_prob = Model(layers[-2:]) "
   ]
  },
  {
   "cell_type": "code",
   "execution_count": 28,
   "id": "9b96e238",
   "metadata": {
    "execution": {
     "iopub.execute_input": "2022-02-08T00:28:42.142084Z",
     "iopub.status.busy": "2022-02-08T00:28:42.141444Z",
     "iopub.status.idle": "2022-02-08T00:28:42.156263Z",
     "shell.execute_reply": "2022-02-08T00:28:42.156755Z"
    },
    "papermill": {
     "duration": 0.070368,
     "end_time": "2022-02-08T00:28:42.156926",
     "exception": false,
     "start_time": "2022-02-08T00:28:42.086558",
     "status": "completed"
    },
    "tags": []
   },
   "outputs": [],
   "source": [
    "#creating the x and y ranges according to the above generated plot.\n",
    "x_range = np.linspace(-4, 1, 100) \n",
    "y_range = np.linspace(-6, 6, 100) \n",
    "x_grid, y_grid = np.meshgrid(x_range, y_range) # x_grid and y_grig are of size 100 X 100\n",
    "\n",
    "# converting x_grid and y_grid to continuous arrays\n",
    "x_gridflat = np.ravel(x_grid)\n",
    "y_gridflat = np.ravel(y_grid)\n",
    "\n",
    "# The last layer of the current model takes two columns as input. Hence transpose of np.vstack() is required.\n",
    "X = np.vstack((x_gridflat, y_gridflat)).T\n",
    "\n",
    "prob_contour = model_prob(X).reshape(100,100) "
   ]
  },
  {
   "cell_type": "code",
   "execution_count": 29,
   "id": "da72499a",
   "metadata": {
    "execution": {
     "iopub.execute_input": "2022-02-08T00:28:42.267403Z",
     "iopub.status.busy": "2022-02-08T00:28:42.266766Z",
     "iopub.status.idle": "2022-02-08T00:28:42.554267Z",
     "shell.execute_reply": "2022-02-08T00:28:42.553232Z"
    },
    "papermill": {
     "duration": 0.346648,
     "end_time": "2022-02-08T00:28:42.554423",
     "exception": false,
     "start_time": "2022-02-08T00:28:42.207775",
     "status": "completed"
    },
    "tags": []
   },
   "outputs": [
    {
     "data": {
      "image/png": "[encoded data removed]",
      "text/plain": [
       "<Figure size 720x648 with 1 Axes>"
      ]
     },
     "metadata": {
      "needs_background": "light"
     },
     "output_type": "display_data"
    }
   ],
   "source": [
    "plt.figure(figsize=(10,9))\n",
    "plt.scatter(testing_plot[:,0], testing_plot[:,1], alpha = 0.1, c = y_test.ravel())\n",
    "contours = plt.contour(x_grid,y_grid,prob_contour)\n",
    "plt.title('Probability Contours')\n",
    "plt.clabel(contours, inline = True );"
   ]
  },
  {
   "cell_type": "code",
   "execution_count": null,
   "id": "e81b4ac7",
   "metadata": {
    "papermill": {
     "duration": 0.053486,
     "end_time": "2022-02-08T00:28:42.661864",
     "exception": false,
     "start_time": "2022-02-08T00:28:42.608378",
     "status": "completed"
    },
    "tags": []
   },
   "outputs": [],
   "source": []
  }
 ],
 "metadata": {
  "kernelspec": {
   "display_name": "Python 3",
   "language": "python",
   "name": "python3"
  },
  "language_info": {
   "codemirror_mode": {
    "name": "ipython",
    "version": 3
   },
   "file_extension": ".py",
   "mimetype": "text/x-python",
   "name": "python",
   "nbconvert_exporter": "python",
   "pygments_lexer": "ipython3",
   "version": "3.6.15"
  },
  "papermill": {
   "default_parameters": {},
   "duration": 120.654322,
   "end_time": "2022-02-08T00:28:43.135509",
   "environment_variables": {},
   "exception": null,
   "input_path": "2020-08-11-part2.ipynb",
   "output_path": "2020-08-11-part2.ipynb",
   "parameters": {},
   "start_time": "2022-02-08T00:26:42.481187",
   "version": "2.3.3"
  }
 },
 "nbformat": 4,
 "nbformat_minor": 5
}