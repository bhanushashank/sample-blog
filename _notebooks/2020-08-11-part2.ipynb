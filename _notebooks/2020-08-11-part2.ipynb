{
 "cells": [
  {
   "cell_type": "markdown",
   "id": "98380cd3",
   "metadata": {
    "papermill": {
     "duration": 0.029135,
     "end_time": "2022-08-18T20:10:29.107165",
     "exception": false,
     "start_time": "2022-08-18T20:10:29.078030",
     "status": "completed"
    },
    "tags": []
   },
   "source": [
    "# Distinguish Your Own Digits (DYOD)"
   ]
  },
  {
   "cell_type": "markdown",
   "id": "ef31240d",
   "metadata": {
    "papermill": {
     "duration": 0.024125,
     "end_time": "2022-08-18T20:10:29.155889",
     "exception": false,
     "start_time": "2022-08-18T20:10:29.131764",
     "status": "completed"
    },
    "tags": []
   },
   "source": [
    "You are going to write a classifier that distinguishes between the number 3 and number 8."
   ]
  },
  {
   "cell_type": "code",
   "execution_count": 1,
   "id": "b15c8646",
   "metadata": {
    "execution": {
     "iopub.execute_input": "2022-08-18T20:10:29.213192Z",
     "iopub.status.busy": "2022-08-18T20:10:29.211134Z",
     "iopub.status.idle": "2022-08-18T20:10:29.223513Z",
     "shell.execute_reply": "2022-08-18T20:10:29.223056Z"
    },
    "papermill": {
     "duration": 0.043823,
     "end_time": "2022-08-18T20:10:29.223622",
     "exception": false,
     "start_time": "2022-08-18T20:10:29.179799",
     "status": "completed"
    },
    "tags": []
   },
   "outputs": [],
   "source": [
    "%load_ext autoreload\n",
    "%autoreload 2"
   ]
  },
  {
   "cell_type": "code",
   "execution_count": 2,
   "id": "22ef38dc",
   "metadata": {
    "execution": {
     "iopub.execute_input": "2022-08-18T20:10:29.275914Z",
     "iopub.status.busy": "2022-08-18T20:10:29.275373Z",
     "iopub.status.idle": "2022-08-18T20:10:29.771795Z",
     "shell.execute_reply": "2022-08-18T20:10:29.771315Z"
    },
    "papermill": {
     "duration": 0.523897,
     "end_time": "2022-08-18T20:10:29.771912",
     "exception": false,
     "start_time": "2022-08-18T20:10:29.248015",
     "status": "completed"
    },
    "tags": []
   },
   "outputs": [],
   "source": [
    "%matplotlib inline\n",
    "import numpy as np\n",
    "import matplotlib.pyplot as plt\n",
    "import pandas as pd"
   ]
  },
  {
   "cell_type": "markdown",
   "id": "ba036198",
   "metadata": {
    "papermill": {
     "duration": 0.024103,
     "end_time": "2022-08-18T20:10:29.820215",
     "exception": false,
     "start_time": "2022-08-18T20:10:29.796112",
     "status": "completed"
    },
    "tags": []
   },
   "source": [
    "From the command line run `pip install mnist`. This is a library that will help you bring down the mnist dataset. If you run this from a notebook, you need to put  `!pip install mnist` in a cell by itself."
   ]
  },
  {
   "cell_type": "code",
   "execution_count": 3,
   "id": "bb6ad8a1",
   "metadata": {
    "execution": {
     "iopub.execute_input": "2022-08-18T20:10:29.872109Z",
     "iopub.status.busy": "2022-08-18T20:10:29.871506Z",
     "iopub.status.idle": "2022-08-18T20:10:31.511704Z",
     "shell.execute_reply": "2022-08-18T20:10:31.511187Z"
    },
    "papermill": {
     "duration": 1.667521,
     "end_time": "2022-08-18T20:10:31.511816",
     "exception": false,
     "start_time": "2022-08-18T20:10:29.844295",
     "status": "completed"
    },
    "tags": []
   },
   "outputs": [
    {
     "name": "stdout",
     "output_type": "stream",
     "text": [
      "Collecting mnist\r\n"
     ]
    },
    {
     "name": "stdout",
     "output_type": "stream",
     "text": [
      "  Downloading mnist-0.2.2-py2.py3-none-any.whl (3.5 kB)\r\n",
      "Requirement already satisfied: numpy in /opt/hostedtoolcache/Python/3.6.15/x64/lib/python3.6/site-packages (from mnist) (1.19.5)\r\n"
     ]
    },
    {
     "name": "stdout",
     "output_type": "stream",
     "text": [
      "Installing collected packages: mnist\r\n",
      "Successfully installed mnist-0.2.2\r\n"
     ]
    }
   ],
   "source": [
    "!pip install mnist"
   ]
  },
  {
   "cell_type": "markdown",
   "id": "69df9c9a",
   "metadata": {
    "papermill": {
     "duration": 0.024752,
     "end_time": "2022-08-18T20:10:31.561724",
     "exception": false,
     "start_time": "2022-08-18T20:10:31.536972",
     "status": "completed"
    },
    "tags": []
   },
   "source": [
    "## Preparing the Data"
   ]
  },
  {
   "cell_type": "code",
   "execution_count": 4,
   "id": "7f69d806",
   "metadata": {
    "execution": {
     "iopub.execute_input": "2022-08-18T20:10:31.614831Z",
     "iopub.status.busy": "2022-08-18T20:10:31.614291Z",
     "iopub.status.idle": "2022-08-18T20:10:31.628359Z",
     "shell.execute_reply": "2022-08-18T20:10:31.627915Z"
    },
    "papermill": {
     "duration": 0.042062,
     "end_time": "2022-08-18T20:10:31.628455",
     "exception": false,
     "start_time": "2022-08-18T20:10:31.586393",
     "status": "completed"
    },
    "tags": []
   },
   "outputs": [],
   "source": [
    "import mnist"
   ]
  },
  {
   "cell_type": "code",
   "execution_count": 5,
   "id": "a411e44f",
   "metadata": {
    "execution": {
     "iopub.execute_input": "2022-08-18T20:10:31.681382Z",
     "iopub.status.busy": "2022-08-18T20:10:31.680805Z",
     "iopub.status.idle": "2022-08-18T20:10:32.393531Z",
     "shell.execute_reply": "2022-08-18T20:10:32.393057Z"
    },
    "papermill": {
     "duration": 0.740229,
     "end_time": "2022-08-18T20:10:32.393648",
     "exception": false,
     "start_time": "2022-08-18T20:10:31.653419",
     "status": "completed"
    },
    "tags": []
   },
   "outputs": [],
   "source": [
    "train_images = mnist.train_images()\n",
    "train_labels = mnist.train_labels()"
   ]
  },
  {
   "cell_type": "code",
   "execution_count": 6,
   "id": "dceab3a5",
   "metadata": {
    "execution": {
     "iopub.execute_input": "2022-08-18T20:10:32.450474Z",
     "iopub.status.busy": "2022-08-18T20:10:32.449194Z",
     "iopub.status.idle": "2022-08-18T20:10:32.462728Z",
     "shell.execute_reply": "2022-08-18T20:10:32.462173Z"
    },
    "papermill": {
     "duration": 0.044111,
     "end_time": "2022-08-18T20:10:32.462826",
     "exception": false,
     "start_time": "2022-08-18T20:10:32.418715",
     "status": "completed"
    },
    "tags": []
   },
   "outputs": [
    {
     "data": {
      "text/plain": [
       "((60000, 28, 28), (60000,))"
      ]
     },
     "execution_count": 6,
     "metadata": {},
     "output_type": "execute_result"
    }
   ],
   "source": [
    "train_images.shape, train_labels.shape"
   ]
  },
  {
   "cell_type": "code",
   "execution_count": 7,
   "id": "f50dc2bb",
   "metadata": {
    "execution": {
     "iopub.execute_input": "2022-08-18T20:10:32.515949Z",
     "iopub.status.busy": "2022-08-18T20:10:32.515410Z",
     "iopub.status.idle": "2022-08-18T20:10:32.735565Z",
     "shell.execute_reply": "2022-08-18T20:10:32.735070Z"
    },
    "papermill": {
     "duration": 0.24785,
     "end_time": "2022-08-18T20:10:32.735676",
     "exception": false,
     "start_time": "2022-08-18T20:10:32.487826",
     "status": "completed"
    },
    "tags": []
   },
   "outputs": [],
   "source": [
    "test_images = mnist.test_images()\n",
    "test_labels = mnist.test_labels()"
   ]
  },
  {
   "cell_type": "code",
   "execution_count": 8,
   "id": "fc38cf1b",
   "metadata": {
    "execution": {
     "iopub.execute_input": "2022-08-18T20:10:32.789619Z",
     "iopub.status.busy": "2022-08-18T20:10:32.789053Z",
     "iopub.status.idle": "2022-08-18T20:10:32.802152Z",
     "shell.execute_reply": "2022-08-18T20:10:32.801709Z"
    },
    "papermill": {
     "duration": 0.041178,
     "end_time": "2022-08-18T20:10:32.802251",
     "exception": false,
     "start_time": "2022-08-18T20:10:32.761073",
     "status": "completed"
    },
    "tags": []
   },
   "outputs": [
    {
     "data": {
      "text/plain": [
       "((10000, 28, 28), (10000,))"
      ]
     },
     "execution_count": 8,
     "metadata": {},
     "output_type": "execute_result"
    }
   ],
   "source": [
    "test_images.shape, test_labels.shape"
   ]
  },
  {
   "cell_type": "code",
   "execution_count": 9,
   "id": "f9ed8fe0",
   "metadata": {
    "execution": {
     "iopub.execute_input": "2022-08-18T20:10:32.856087Z",
     "iopub.status.busy": "2022-08-18T20:10:32.855535Z",
     "iopub.status.idle": "2022-08-18T20:10:32.986806Z",
     "shell.execute_reply": "2022-08-18T20:10:32.987236Z"
    },
    "papermill": {
     "duration": 0.159853,
     "end_time": "2022-08-18T20:10:32.987354",
     "exception": false,
     "start_time": "2022-08-18T20:10:32.827501",
     "status": "completed"
    },
    "tags": []
   },
   "outputs": [
    {
     "name": "stdout",
     "output_type": "stream",
     "text": [
      "2\n"
     ]
    },
    {
     "data": {
      "text/plain": [
       "<matplotlib.image.AxesImage at 0x7f56743fe9e8>"
      ]
     },
     "execution_count": 9,
     "metadata": {},
     "output_type": "execute_result"
    },
    {
     "data": {
      "image/png": "[encoded data removed]",
      "text/plain": [
       "<Figure size 432x288 with 1 Axes>"
      ]
     },
     "metadata": {
      "needs_background": "light"
     },
     "output_type": "display_data"
    }
   ],
   "source": [
    "image_index = 7776 # You may select anything up to 60,000\n",
    "print(train_labels[image_index]) \n",
    "plt.imshow(train_images[image_index], cmap='Greys')"
   ]
  },
  {
   "cell_type": "markdown",
   "id": "a8d2388d",
   "metadata": {
    "papermill": {
     "duration": 0.026468,
     "end_time": "2022-08-18T20:10:33.040501",
     "exception": false,
     "start_time": "2022-08-18T20:10:33.014033",
     "status": "completed"
    },
    "tags": []
   },
   "source": [
    "## Filter data to get 3 and 8 out"
   ]
  },
  {
   "cell_type": "code",
   "execution_count": 10,
   "id": "776f7fc7",
   "metadata": {
    "execution": {
     "iopub.execute_input": "2022-08-18T20:10:33.097689Z",
     "iopub.status.busy": "2022-08-18T20:10:33.097123Z",
     "iopub.status.idle": "2022-08-18T20:10:33.112955Z",
     "shell.execute_reply": "2022-08-18T20:10:33.113460Z"
    },
    "papermill": {
     "duration": 0.046522,
     "end_time": "2022-08-18T20:10:33.113572",
     "exception": false,
     "start_time": "2022-08-18T20:10:33.067050",
     "status": "completed"
    },
    "tags": []
   },
   "outputs": [],
   "source": [
    "train_filter = np.where((train_labels == 3 ) | (train_labels == 8))\n",
    "test_filter = np.where((test_labels == 3) | (test_labels == 8))\n",
    "X_train, y_train = train_images[train_filter], train_labels[train_filter]\n",
    "X_test, y_test = test_images[test_filter], test_labels[test_filter]"
   ]
  },
  {
   "cell_type": "markdown",
   "id": "948f0b7e",
   "metadata": {
    "papermill": {
     "duration": 0.026507,
     "end_time": "2022-08-18T20:10:33.166589",
     "exception": false,
     "start_time": "2022-08-18T20:10:33.140082",
     "status": "completed"
    },
    "tags": []
   },
   "source": [
    "We normalize the pizel values in the 0 to 1 range"
   ]
  },
  {
   "cell_type": "code",
   "execution_count": 11,
   "id": "ee4c2166",
   "metadata": {
    "execution": {
     "iopub.execute_input": "2022-08-18T20:10:33.222602Z",
     "iopub.status.busy": "2022-08-18T20:10:33.222064Z",
     "iopub.status.idle": "2022-08-18T20:10:33.262199Z",
     "shell.execute_reply": "2022-08-18T20:10:33.261737Z"
    },
    "papermill": {
     "duration": 0.069341,
     "end_time": "2022-08-18T20:10:33.262306",
     "exception": false,
     "start_time": "2022-08-18T20:10:33.192965",
     "status": "completed"
    },
    "tags": []
   },
   "outputs": [],
   "source": [
    "X_train = X_train/255.\n",
    "X_test = X_test/255."
   ]
  },
  {
   "cell_type": "markdown",
   "id": "ddcf4fab",
   "metadata": {
    "papermill": {
     "duration": 0.026621,
     "end_time": "2022-08-18T20:10:33.315662",
     "exception": false,
     "start_time": "2022-08-18T20:10:33.289041",
     "status": "completed"
    },
    "tags": []
   },
   "source": [
    "And setup the labels as 1 (when the digit is 3) and 0 (when the digit is 8)"
   ]
  },
  {
   "cell_type": "code",
   "execution_count": 12,
   "id": "7dc908f2",
   "metadata": {
    "execution": {
     "iopub.execute_input": "2022-08-18T20:10:33.372266Z",
     "iopub.status.busy": "2022-08-18T20:10:33.371716Z",
     "iopub.status.idle": "2022-08-18T20:10:33.383333Z",
     "shell.execute_reply": "2022-08-18T20:10:33.382815Z"
    },
    "papermill": {
     "duration": 0.041317,
     "end_time": "2022-08-18T20:10:33.383431",
     "exception": false,
     "start_time": "2022-08-18T20:10:33.342114",
     "status": "completed"
    },
    "tags": []
   },
   "outputs": [],
   "source": [
    "y_train = 1*(y_train==3)\n",
    "y_test = 1*(y_test==3)"
   ]
  },
  {
   "cell_type": "code",
   "execution_count": 13,
   "id": "01e4e969",
   "metadata": {
    "execution": {
     "iopub.execute_input": "2022-08-18T20:10:33.440227Z",
     "iopub.status.busy": "2022-08-18T20:10:33.439682Z",
     "iopub.status.idle": "2022-08-18T20:10:33.452184Z",
     "shell.execute_reply": "2022-08-18T20:10:33.452607Z"
    },
    "papermill": {
     "duration": 0.042634,
     "end_time": "2022-08-18T20:10:33.452717",
     "exception": false,
     "start_time": "2022-08-18T20:10:33.410083",
     "status": "completed"
    },
    "tags": []
   },
   "outputs": [
    {
     "data": {
      "text/plain": [
       "((11982, 28, 28), (1984, 28, 28))"
      ]
     },
     "execution_count": 13,
     "metadata": {},
     "output_type": "execute_result"
    }
   ],
   "source": [
    "X_train.shape, X_test.shape"
   ]
  },
  {
   "cell_type": "markdown",
   "id": "5ccf3f85",
   "metadata": {
    "papermill": {
     "duration": 0.026543,
     "end_time": "2022-08-18T20:10:33.505985",
     "exception": false,
     "start_time": "2022-08-18T20:10:33.479442",
     "status": "completed"
    },
    "tags": []
   },
   "source": [
    "We reshape the data to flatten the image pixels into a set of features or co-variates:"
   ]
  },
  {
   "cell_type": "code",
   "execution_count": 14,
   "id": "5286a4a3",
   "metadata": {
    "execution": {
     "iopub.execute_input": "2022-08-18T20:10:33.565493Z",
     "iopub.status.busy": "2022-08-18T20:10:33.562679Z",
     "iopub.status.idle": "2022-08-18T20:10:33.576659Z",
     "shell.execute_reply": "2022-08-18T20:10:33.576213Z"
    },
    "papermill": {
     "duration": 0.043981,
     "end_time": "2022-08-18T20:10:33.576756",
     "exception": false,
     "start_time": "2022-08-18T20:10:33.532775",
     "status": "completed"
    },
    "tags": []
   },
   "outputs": [
    {
     "data": {
      "text/plain": [
       "((11982, 784), (1984, 784))"
      ]
     },
     "execution_count": 14,
     "metadata": {},
     "output_type": "execute_result"
    }
   ],
   "source": [
    "X_train = X_train.reshape(X_train.shape[0], -1)\n",
    "X_test = X_test.reshape(X_test.shape[0], -1)\n",
    "X_train.shape, X_test.shape"
   ]
  },
  {
   "cell_type": "code",
   "execution_count": 15,
   "id": "73c5f88a",
   "metadata": {
    "execution": {
     "iopub.execute_input": "2022-08-18T20:10:33.634476Z",
     "iopub.status.busy": "2022-08-18T20:10:33.633924Z",
     "iopub.status.idle": "2022-08-18T20:10:33.651426Z",
     "shell.execute_reply": "2022-08-18T20:10:33.650900Z"
    },
    "papermill": {
     "duration": 0.047818,
     "end_time": "2022-08-18T20:10:33.651525",
     "exception": false,
     "start_time": "2022-08-18T20:10:33.603707",
     "status": "completed"
    },
    "tags": []
   },
   "outputs": [],
   "source": [
    "#Impoting functions from 'Kudzu'\n",
    "from kudzu.model import Model\n",
    "from kudzu.train import Learner\n",
    "from kudzu.optim import GD\n",
    "from kudzu.data import Data, Sampler,Dataloader\n",
    "\n",
    "from kudzu.callbacks import AccCallback\n",
    "from kudzu.callbacks import ClfCallback\n",
    "\n",
    "from kudzu.loss import MSE\n",
    "\n",
    "from kudzu.layer import Sigmoid,Relu\n",
    "from kudzu.layer import Affine"
   ]
  },
  {
   "cell_type": "markdown",
   "id": "bc01172a",
   "metadata": {
    "papermill": {
     "duration": 0.02716,
     "end_time": "2022-08-18T20:10:33.705709",
     "exception": false,
     "start_time": "2022-08-18T20:10:33.678549",
     "status": "completed"
    },
    "tags": []
   },
   "source": [
    "### Let us create a `Config` class, to store important parameters. \n",
    "This class essentially plays the role of a dictionary."
   ]
  },
  {
   "cell_type": "code",
   "execution_count": 16,
   "id": "978281aa",
   "metadata": {
    "execution": {
     "iopub.execute_input": "2022-08-18T20:10:33.763181Z",
     "iopub.status.busy": "2022-08-18T20:10:33.762626Z",
     "iopub.status.idle": "2022-08-18T20:10:33.774682Z",
     "shell.execute_reply": "2022-08-18T20:10:33.774238Z"
    },
    "papermill": {
     "duration": 0.042078,
     "end_time": "2022-08-18T20:10:33.774780",
     "exception": false,
     "start_time": "2022-08-18T20:10:33.732702",
     "status": "completed"
    },
    "tags": []
   },
   "outputs": [],
   "source": [
    "class Config:\n",
    "    pass\n",
    "config = Config()\n",
    "config.lr = 0.001\n",
    "config.num_epochs = 250\n",
    "config.bs = 50"
   ]
  },
  {
   "cell_type": "markdown",
   "id": "1385fa59",
   "metadata": {
    "papermill": {
     "duration": 0.026925,
     "end_time": "2022-08-18T20:10:33.828757",
     "exception": false,
     "start_time": "2022-08-18T20:10:33.801832",
     "status": "completed"
    },
    "tags": []
   },
   "source": [
    "### Running Models with the Training data\n",
    "Details about the network layers:\n",
    "- A first affine layer has 784 inputs and does 100 affine transforms. These are followed by a Relu\n",
    "- A second affine layer has 100 inputs from the 100 activations of the past layer, and does 100 affine transforms. These are followed by a Relu\n",
    "- A third affine layer has 100 activations and does 2 affine transformations to create an embedding for visualization. There is no non-linearity here.\n",
    "- A final \"logistic regression\" which has an affine transform from 2 inputs to 1 output, which is squeezed through a sigmoid.\n"
   ]
  },
  {
   "cell_type": "code",
   "execution_count": 17,
   "id": "2b9c66db",
   "metadata": {
    "execution": {
     "iopub.execute_input": "2022-08-18T20:10:33.886396Z",
     "iopub.status.busy": "2022-08-18T20:10:33.885842Z",
     "iopub.status.idle": "2022-08-18T20:10:33.897137Z",
     "shell.execute_reply": "2022-08-18T20:10:33.897551Z"
    },
    "papermill": {
     "duration": 0.041872,
     "end_time": "2022-08-18T20:10:33.897658",
     "exception": false,
     "start_time": "2022-08-18T20:10:33.855786",
     "status": "completed"
    },
    "tags": []
   },
   "outputs": [],
   "source": [
    "data = Data(X_train, y_train.reshape(-1,1))\n",
    "sampler = Sampler(data, config.bs, shuffle=True)\n",
    "\n",
    "dl = Dataloader(data, sampler)\n",
    "\n",
    "opt = GD(config.lr)\n",
    "loss = MSE()"
   ]
  },
  {
   "cell_type": "code",
   "execution_count": 18,
   "id": "b275e4c2",
   "metadata": {
    "execution": {
     "iopub.execute_input": "2022-08-18T20:10:33.957706Z",
     "iopub.status.busy": "2022-08-18T20:10:33.954230Z",
     "iopub.status.idle": "2022-08-18T20:10:33.965349Z",
     "shell.execute_reply": "2022-08-18T20:10:33.965792Z"
    },
    "papermill": {
     "duration": 0.04123,
     "end_time": "2022-08-18T20:10:33.965899",
     "exception": false,
     "start_time": "2022-08-18T20:10:33.924669",
     "status": "completed"
    },
    "tags": []
   },
   "outputs": [],
   "source": [
    "training_data_x = X_train\n",
    "testing_data_x = X_test\n",
    "training_data_y = y_train.reshape(-1,1)\n",
    "testing_data_y = y_test.reshape(-1,1)"
   ]
  },
  {
   "cell_type": "code",
   "execution_count": 19,
   "id": "76951160",
   "metadata": {
    "execution": {
     "iopub.execute_input": "2022-08-18T20:10:34.023576Z",
     "iopub.status.busy": "2022-08-18T20:10:34.023008Z",
     "iopub.status.idle": "2022-08-18T20:10:34.039399Z",
     "shell.execute_reply": "2022-08-18T20:10:34.039811Z"
    },
    "papermill": {
     "duration": 0.047201,
     "end_time": "2022-08-18T20:10:34.039923",
     "exception": false,
     "start_time": "2022-08-18T20:10:33.992722",
     "status": "completed"
    },
    "tags": []
   },
   "outputs": [
    {
     "name": "stdout",
     "output_type": "stream",
     "text": [
      "xavier\n",
      "xavier\n",
      "xavier\n",
      "xavier\n",
      "xavier\n"
     ]
    }
   ],
   "source": [
    "layers = [Affine(\"first\", 784, 100), Relu(\"first\"), Affine(\"second\", 100, 100), Relu(\"second\"), Affine(\"third\", 100, 2), Affine(\"last\", 2, 1), Sigmoid(\"last\")]\n",
    "model_nn = Model(layers)\n",
    "model_lr = Model([Affine(\"logits\", 784, 1), Sigmoid(\"sigmoid\")])"
   ]
  },
  {
   "cell_type": "code",
   "execution_count": 20,
   "id": "6eede77a",
   "metadata": {
    "execution": {
     "iopub.execute_input": "2022-08-18T20:10:34.097926Z",
     "iopub.status.busy": "2022-08-18T20:10:34.097375Z",
     "iopub.status.idle": "2022-08-18T20:10:34.108764Z",
     "shell.execute_reply": "2022-08-18T20:10:34.108328Z"
    },
    "papermill": {
     "duration": 0.041681,
     "end_time": "2022-08-18T20:10:34.108880",
     "exception": false,
     "start_time": "2022-08-18T20:10:34.067199",
     "status": "completed"
    },
    "tags": []
   },
   "outputs": [],
   "source": [
    "nn_learner = Learner(loss, model_nn, opt, config.num_epochs)\n",
    "acc_nn = ClfCallback(nn_learner, config.bs, training_data_x , testing_data_x, training_data_y, testing_data_y)\n",
    "nn_learner.set_callbacks([acc_nn])"
   ]
  },
  {
   "cell_type": "code",
   "execution_count": 21,
   "id": "877b6cc7",
   "metadata": {
    "execution": {
     "iopub.execute_input": "2022-08-18T20:10:34.166643Z",
     "iopub.status.busy": "2022-08-18T20:10:34.166102Z",
     "iopub.status.idle": "2022-08-18T20:10:34.177194Z",
     "shell.execute_reply": "2022-08-18T20:10:34.176635Z"
    },
    "papermill": {
     "duration": 0.04118,
     "end_time": "2022-08-18T20:10:34.177289",
     "exception": false,
     "start_time": "2022-08-18T20:10:34.136109",
     "status": "completed"
    },
    "tags": []
   },
   "outputs": [],
   "source": [
    "lr_learner = Learner(loss, model_lr, opt, config.num_epochs)\n",
    "acc_lr = ClfCallback(lr_learner, config.bs, training_data_x , testing_data_x, training_data_y, testing_data_y)\n",
    "lr_learner.set_callbacks([acc_lr])"
   ]
  },
  {
   "cell_type": "code",
   "execution_count": 22,
   "id": "d9b133c3",
   "metadata": {
    "execution": {
     "iopub.execute_input": "2022-08-18T20:10:34.234586Z",
     "iopub.status.busy": "2022-08-18T20:10:34.234040Z",
     "iopub.status.idle": "2022-08-18T20:13:29.790775Z",
     "shell.execute_reply": "2022-08-18T20:13:29.791209Z"
    },
    "papermill": {
     "duration": 175.586864,
     "end_time": "2022-08-18T20:13:29.791332",
     "exception": false,
     "start_time": "2022-08-18T20:10:34.204468",
     "status": "completed"
    },
    "tags": []
   },
   "outputs": [
    {
     "name": "stdout",
     "output_type": "stream",
     "text": [
      "Epoch 0, Loss 0.2439\n",
      "Training Accuracy: 0.5386, Testing Accuracy: 0.5479\n",
      "\n"
     ]
    },
    {
     "name": "stdout",
     "output_type": "stream",
     "text": [
      "Epoch 10, Loss 0.16\n",
      "Training Accuracy: 0.8988, Testing Accuracy: 0.9088\n",
      "\n"
     ]
    },
    {
     "name": "stdout",
     "output_type": "stream",
     "text": [
      "Epoch 20, Loss 0.0786\n",
      "Training Accuracy: 0.9243, Testing Accuracy: 0.9360\n",
      "\n"
     ]
    },
    {
     "name": "stdout",
     "output_type": "stream",
     "text": [
      "Epoch 30, Loss 0.055\n",
      "Training Accuracy: 0.9397, Testing Accuracy: 0.9506\n",
      "\n"
     ]
    },
    {
     "name": "stdout",
     "output_type": "stream",
     "text": [
      "Epoch 40, Loss 0.0452\n",
      "Training Accuracy: 0.9484, Testing Accuracy: 0.9561\n",
      "\n"
     ]
    },
    {
     "name": "stdout",
     "output_type": "stream",
     "text": [
      "Epoch 50, Loss 0.0399\n",
      "Training Accuracy: 0.9543, Testing Accuracy: 0.9607\n",
      "\n"
     ]
    },
    {
     "name": "stdout",
     "output_type": "stream",
     "text": [
      "Epoch 60, Loss 0.0364\n",
      "Training Accuracy: 0.9578, Testing Accuracy: 0.9642\n",
      "\n"
     ]
    },
    {
     "name": "stdout",
     "output_type": "stream",
     "text": [
      "Epoch 70, Loss 0.034\n",
      "Training Accuracy: 0.9604, Testing Accuracy: 0.9652\n",
      "\n"
     ]
    },
    {
     "name": "stdout",
     "output_type": "stream",
     "text": [
      "Epoch 80, Loss 0.0321\n",
      "Training Accuracy: 0.9623, Testing Accuracy: 0.9672\n",
      "\n"
     ]
    },
    {
     "name": "stdout",
     "output_type": "stream",
     "text": [
      "Epoch 90, Loss 0.0306\n",
      "Training Accuracy: 0.9634, Testing Accuracy: 0.9677\n",
      "\n"
     ]
    },
    {
     "name": "stdout",
     "output_type": "stream",
     "text": [
      "Epoch 100, Loss 0.0293\n",
      "Training Accuracy: 0.9650, Testing Accuracy: 0.9688\n",
      "\n"
     ]
    },
    {
     "name": "stdout",
     "output_type": "stream",
     "text": [
      "Epoch 110, Loss 0.0282\n",
      "Training Accuracy: 0.9664, Testing Accuracy: 0.9698\n",
      "\n"
     ]
    },
    {
     "name": "stdout",
     "output_type": "stream",
     "text": [
      "Epoch 120, Loss 0.0272\n",
      "Training Accuracy: 0.9676, Testing Accuracy: 0.9703\n",
      "\n"
     ]
    },
    {
     "name": "stdout",
     "output_type": "stream",
     "text": [
      "Epoch 130, Loss 0.0263\n",
      "Training Accuracy: 0.9689, Testing Accuracy: 0.9693\n",
      "\n"
     ]
    },
    {
     "name": "stdout",
     "output_type": "stream",
     "text": [
      "Epoch 140, Loss 0.0256\n",
      "Training Accuracy: 0.9699, Testing Accuracy: 0.9703\n",
      "\n"
     ]
    },
    {
     "name": "stdout",
     "output_type": "stream",
     "text": [
      "Epoch 150, Loss 0.0249\n",
      "Training Accuracy: 0.9711, Testing Accuracy: 0.9713\n",
      "\n"
     ]
    },
    {
     "name": "stdout",
     "output_type": "stream",
     "text": [
      "Epoch 160, Loss 0.0242\n",
      "Training Accuracy: 0.9721, Testing Accuracy: 0.9708\n",
      "\n"
     ]
    },
    {
     "name": "stdout",
     "output_type": "stream",
     "text": [
      "Epoch 170, Loss 0.0236\n",
      "Training Accuracy: 0.9729, Testing Accuracy: 0.9718\n",
      "\n"
     ]
    },
    {
     "name": "stdout",
     "output_type": "stream",
     "text": [
      "Epoch 180, Loss 0.023\n",
      "Training Accuracy: 0.9737, Testing Accuracy: 0.9708\n",
      "\n"
     ]
    },
    {
     "name": "stdout",
     "output_type": "stream",
     "text": [
      "Epoch 190, Loss 0.0225\n",
      "Training Accuracy: 0.9742, Testing Accuracy: 0.9718\n",
      "\n"
     ]
    },
    {
     "name": "stdout",
     "output_type": "stream",
     "text": [
      "Epoch 200, Loss 0.022\n",
      "Training Accuracy: 0.9752, Testing Accuracy: 0.9728\n",
      "\n"
     ]
    },
    {
     "name": "stdout",
     "output_type": "stream",
     "text": [
      "Epoch 210, Loss 0.0215\n",
      "Training Accuracy: 0.9758, Testing Accuracy: 0.9728\n",
      "\n"
     ]
    },
    {
     "name": "stdout",
     "output_type": "stream",
     "text": [
      "Epoch 220, Loss 0.0211\n",
      "Training Accuracy: 0.9765, Testing Accuracy: 0.9718\n",
      "\n"
     ]
    },
    {
     "name": "stdout",
     "output_type": "stream",
     "text": [
      "Epoch 230, Loss 0.0206\n",
      "Training Accuracy: 0.9768, Testing Accuracy: 0.9718\n",
      "\n"
     ]
    },
    {
     "name": "stdout",
     "output_type": "stream",
     "text": [
      "Epoch 240, Loss 0.0202\n",
      "Training Accuracy: 0.9775, Testing Accuracy: 0.9718\n",
      "\n"
     ]
    },
    {
     "data": {
      "text/plain": [
       "0.008618144558863545"
      ]
     },
     "execution_count": 22,
     "metadata": {},
     "output_type": "execute_result"
    }
   ],
   "source": [
    "nn_learner.train_loop(dl)"
   ]
  },
  {
   "cell_type": "code",
   "execution_count": 23,
   "id": "e0163366",
   "metadata": {
    "execution": {
     "iopub.execute_input": "2022-08-18T20:13:29.864933Z",
     "iopub.status.busy": "2022-08-18T20:13:29.864123Z",
     "iopub.status.idle": "2022-08-18T20:13:41.846766Z",
     "shell.execute_reply": "2022-08-18T20:13:41.847557Z"
    },
    "papermill": {
     "duration": 12.021649,
     "end_time": "2022-08-18T20:13:41.847688",
     "exception": false,
     "start_time": "2022-08-18T20:13:29.826039",
     "status": "completed"
    },
    "tags": []
   },
   "outputs": [
    {
     "name": "stdout",
     "output_type": "stream",
     "text": [
      "Epoch 0, Loss 0.2247\n",
      "Training Accuracy: 0.7394, Testing Accuracy: 0.7339\n",
      "\n"
     ]
    },
    {
     "name": "stdout",
     "output_type": "stream",
     "text": [
      "Epoch 10, Loss 0.1009\n",
      "Training Accuracy: 0.9151, Testing Accuracy: 0.9204\n",
      "\n"
     ]
    },
    {
     "name": "stdout",
     "output_type": "stream",
     "text": [
      "Epoch 20, Loss 0.0775\n",
      "Training Accuracy: 0.9326, Testing Accuracy: 0.9430\n",
      "\n"
     ]
    },
    {
     "name": "stdout",
     "output_type": "stream",
     "text": [
      "Epoch 30, Loss 0.0667\n",
      "Training Accuracy: 0.9407, Testing Accuracy: 0.9501\n",
      "\n"
     ]
    },
    {
     "name": "stdout",
     "output_type": "stream",
     "text": [
      "Epoch 40, Loss 0.0603\n",
      "Training Accuracy: 0.9463, Testing Accuracy: 0.9541\n",
      "\n"
     ]
    },
    {
     "name": "stdout",
     "output_type": "stream",
     "text": [
      "Epoch 50, Loss 0.0559\n",
      "Training Accuracy: 0.9492, Testing Accuracy: 0.9556\n",
      "\n"
     ]
    },
    {
     "name": "stdout",
     "output_type": "stream",
     "text": [
      "Epoch 60, Loss 0.0527\n",
      "Training Accuracy: 0.9508, Testing Accuracy: 0.9572\n",
      "\n"
     ]
    },
    {
     "name": "stdout",
     "output_type": "stream",
     "text": [
      "Epoch 70, Loss 0.0502\n",
      "Training Accuracy: 0.9524, Testing Accuracy: 0.9582\n",
      "\n"
     ]
    },
    {
     "name": "stdout",
     "output_type": "stream",
     "text": [
      "Epoch 80, Loss 0.0483\n",
      "Training Accuracy: 0.9534, Testing Accuracy: 0.9592\n",
      "\n"
     ]
    },
    {
     "name": "stdout",
     "output_type": "stream",
     "text": [
      "Epoch 90, Loss 0.0467\n",
      "Training Accuracy: 0.9540, Testing Accuracy: 0.9597\n",
      "\n"
     ]
    },
    {
     "name": "stdout",
     "output_type": "stream",
     "text": [
      "Epoch 100, Loss 0.0453\n",
      "Training Accuracy: 0.9548, Testing Accuracy: 0.9607\n",
      "\n"
     ]
    },
    {
     "name": "stdout",
     "output_type": "stream",
     "text": [
      "Epoch 110, Loss 0.0441\n",
      "Training Accuracy: 0.9557, Testing Accuracy: 0.9637\n",
      "\n"
     ]
    },
    {
     "name": "stdout",
     "output_type": "stream",
     "text": [
      "Epoch 120, Loss 0.0431\n",
      "Training Accuracy: 0.9561, Testing Accuracy: 0.9642\n",
      "\n"
     ]
    },
    {
     "name": "stdout",
     "output_type": "stream",
     "text": [
      "Epoch 130, Loss 0.0422\n",
      "Training Accuracy: 0.9564, Testing Accuracy: 0.9652\n",
      "\n"
     ]
    },
    {
     "name": "stdout",
     "output_type": "stream",
     "text": [
      "Epoch 140, Loss 0.0414\n",
      "Training Accuracy: 0.9569, Testing Accuracy: 0.9652\n",
      "\n"
     ]
    },
    {
     "name": "stdout",
     "output_type": "stream",
     "text": [
      "Epoch 150, Loss 0.0407\n",
      "Training Accuracy: 0.9581, Testing Accuracy: 0.9652\n",
      "\n"
     ]
    },
    {
     "name": "stdout",
     "output_type": "stream",
     "text": [
      "Epoch 160, Loss 0.0401\n",
      "Training Accuracy: 0.9589, Testing Accuracy: 0.9657\n",
      "\n"
     ]
    },
    {
     "name": "stdout",
     "output_type": "stream",
     "text": [
      "Epoch 170, Loss 0.0395\n",
      "Training Accuracy: 0.9591, Testing Accuracy: 0.9662\n",
      "\n"
     ]
    },
    {
     "name": "stdout",
     "output_type": "stream",
     "text": [
      "Epoch 180, Loss 0.039\n",
      "Training Accuracy: 0.9597, Testing Accuracy: 0.9667\n",
      "\n"
     ]
    },
    {
     "name": "stdout",
     "output_type": "stream",
     "text": [
      "Epoch 190, Loss 0.0385\n",
      "Training Accuracy: 0.9598, Testing Accuracy: 0.9667\n",
      "\n"
     ]
    },
    {
     "name": "stdout",
     "output_type": "stream",
     "text": [
      "Epoch 200, Loss 0.038\n",
      "Training Accuracy: 0.9601, Testing Accuracy: 0.9662\n",
      "\n"
     ]
    },
    {
     "name": "stdout",
     "output_type": "stream",
     "text": [
      "Epoch 210, Loss 0.0376\n",
      "Training Accuracy: 0.9600, Testing Accuracy: 0.9662\n",
      "\n"
     ]
    },
    {
     "name": "stdout",
     "output_type": "stream",
     "text": [
      "Epoch 220, Loss 0.0372\n",
      "Training Accuracy: 0.9600, Testing Accuracy: 0.9662\n",
      "\n"
     ]
    },
    {
     "name": "stdout",
     "output_type": "stream",
     "text": [
      "Epoch 230, Loss 0.0368\n",
      "Training Accuracy: 0.9603, Testing Accuracy: 0.9667\n",
      "\n"
     ]
    },
    {
     "name": "stdout",
     "output_type": "stream",
     "text": [
      "Epoch 240, Loss 0.0365\n",
      "Training Accuracy: 0.9605, Testing Accuracy: 0.9667\n",
      "\n"
     ]
    },
    {
     "data": {
      "text/plain": [
       "0.03785738013717649"
      ]
     },
     "execution_count": 23,
     "metadata": {},
     "output_type": "execute_result"
    }
   ],
   "source": [
    "lr_learner.train_loop(dl)"
   ]
  },
  {
   "cell_type": "code",
   "execution_count": 24,
   "id": "ca410940",
   "metadata": {
    "execution": {
     "iopub.execute_input": "2022-08-18T20:13:41.938500Z",
     "iopub.status.busy": "2022-08-18T20:13:41.937954Z",
     "iopub.status.idle": "2022-08-18T20:13:42.156026Z",
     "shell.execute_reply": "2022-08-18T20:13:42.155228Z"
    },
    "papermill": {
     "duration": 0.266977,
     "end_time": "2022-08-18T20:13:42.156141",
     "exception": false,
     "start_time": "2022-08-18T20:13:41.889164",
     "status": "completed"
    },
    "tags": []
   },
   "outputs": [
    {
     "data": {
      "text/plain": [
       "<matplotlib.legend.Legend at 0x7f5673f5efd0>"
      ]
     },
     "execution_count": 24,
     "metadata": {},
     "output_type": "execute_result"
    },
    {
     "data": {
      "image/png": "[encoded data removed]",
      "text/plain": [
       "<Figure size 1080x720 with 1 Axes>"
      ]
     },
     "metadata": {
      "needs_background": "light"
     },
     "output_type": "display_data"
    }
   ],
   "source": [
    "#comparing the results of NN and LR\n",
    "plt.figure(figsize=(15,10))\n",
    "\n",
    "# Neural Network plots\n",
    "plt.plot(acc_nn.accuracies, 'r-', label = \"Training Accuracies - NN\")\n",
    "plt.plot(acc_nn.test_accuracies, 'g-', label = \"Testing Accuracies - NN\")\n",
    "\n",
    "# Logistic Regression plots\n",
    "plt.plot(acc_lr.accuracies, 'k-', label = \"Training Accuracies - LR\")\n",
    "plt.plot(acc_lr.test_accuracies, 'b-', label = \"Testing Accuracies - LR\")\n",
    "plt.legend()"
   ]
  },
  {
   "cell_type": "markdown",
   "id": "80dfb35c",
   "metadata": {
    "papermill": {
     "duration": 0.042347,
     "end_time": "2022-08-18T20:13:42.241154",
     "exception": false,
     "start_time": "2022-08-18T20:13:42.198807",
     "status": "completed"
    },
    "tags": []
   },
   "source": [
    "#### Plotting the outputs of this layer of the NN.\n"
   ]
  },
  {
   "cell_type": "code",
   "execution_count": 25,
   "id": "45eb2ff5",
   "metadata": {
    "execution": {
     "iopub.execute_input": "2022-08-18T20:13:42.330270Z",
     "iopub.status.busy": "2022-08-18T20:13:42.329186Z",
     "iopub.status.idle": "2022-08-18T20:13:42.366288Z",
     "shell.execute_reply": "2022-08-18T20:13:42.366742Z"
    },
    "papermill": {
     "duration": 0.083502,
     "end_time": "2022-08-18T20:13:42.366870",
     "exception": false,
     "start_time": "2022-08-18T20:13:42.283368",
     "status": "completed"
    },
    "tags": []
   },
   "outputs": [],
   "source": [
    "new_model = Model(layers[:-2])\n",
    "testing_plot = new_model(testing_data_x)"
   ]
  },
  {
   "cell_type": "code",
   "execution_count": 26,
   "id": "4c0a5485",
   "metadata": {
    "execution": {
     "iopub.execute_input": "2022-08-18T20:13:42.460288Z",
     "iopub.status.busy": "2022-08-18T20:13:42.459718Z",
     "iopub.status.idle": "2022-08-18T20:13:42.657576Z",
     "shell.execute_reply": "2022-08-18T20:13:42.657138Z"
    },
    "papermill": {
     "duration": 0.247737,
     "end_time": "2022-08-18T20:13:42.657687",
     "exception": false,
     "start_time": "2022-08-18T20:13:42.409950",
     "status": "completed"
    },
    "tags": []
   },
   "outputs": [
    {
     "data": {
      "text/plain": [
       "Text(0.5, 1.0, 'Outputs')"
      ]
     },
     "execution_count": 26,
     "metadata": {},
     "output_type": "execute_result"
    },
    {
     "data": {
      "image/png": "[encoded data removed]",
      "text/plain": [
       "<Figure size 576x504 with 1 Axes>"
      ]
     },
     "metadata": {
      "needs_background": "light"
     },
     "output_type": "display_data"
    }
   ],
   "source": [
    "# Plotting the scatter plot of points and color coding by class\n",
    "plt.figure(figsize=(8,7))\n",
    "plt.scatter(testing_plot[:,0], testing_plot[:,1], alpha = 0.1, c = y_test.ravel());\n",
    "plt.title('Outputs')"
   ]
  },
  {
   "cell_type": "markdown",
   "id": "a74fcf8f",
   "metadata": {
    "papermill": {
     "duration": 0.044548,
     "end_time": "2022-08-18T20:13:42.746710",
     "exception": false,
     "start_time": "2022-08-18T20:13:42.702162",
     "status": "completed"
    },
    "tags": []
   },
   "source": [
    "Probability contours"
   ]
  },
  {
   "cell_type": "code",
   "execution_count": 27,
   "id": "d0afc8e3",
   "metadata": {
    "execution": {
     "iopub.execute_input": "2022-08-18T20:13:42.863298Z",
     "iopub.status.busy": "2022-08-18T20:13:42.861631Z",
     "iopub.status.idle": "2022-08-18T20:13:42.873181Z",
     "shell.execute_reply": "2022-08-18T20:13:42.872706Z"
    },
    "papermill": {
     "duration": 0.081995,
     "end_time": "2022-08-18T20:13:42.873281",
     "exception": false,
     "start_time": "2022-08-18T20:13:42.791286",
     "status": "completed"
    },
    "tags": []
   },
   "outputs": [],
   "source": [
    "model_prob = Model(layers[-2:]) "
   ]
  },
  {
   "cell_type": "code",
   "execution_count": 28,
   "id": "9b96e238",
   "metadata": {
    "execution": {
     "iopub.execute_input": "2022-08-18T20:13:42.968168Z",
     "iopub.status.busy": "2022-08-18T20:13:42.966944Z",
     "iopub.status.idle": "2022-08-18T20:13:42.980973Z",
     "shell.execute_reply": "2022-08-18T20:13:42.981380Z"
    },
    "papermill": {
     "duration": 0.063941,
     "end_time": "2022-08-18T20:13:42.981493",
     "exception": false,
     "start_time": "2022-08-18T20:13:42.917552",
     "status": "completed"
    },
    "tags": []
   },
   "outputs": [],
   "source": [
    "#creating the x and y ranges according to the above generated plot.\n",
    "x_range = np.linspace(-4, 1, 100) \n",
    "y_range = np.linspace(-6, 6, 100) \n",
    "x_grid, y_grid = np.meshgrid(x_range, y_range) # x_grid and y_grig are of size 100 X 100\n",
    "\n",
    "# converting x_grid and y_grid to continuous arrays\n",
    "x_gridflat = np.ravel(x_grid)\n",
    "y_gridflat = np.ravel(y_grid)\n",
    "\n",
    "# The last layer of the current model takes two columns as input. Hence transpose of np.vstack() is required.\n",
    "X = np.vstack((x_gridflat, y_gridflat)).T\n",
    "\n",
    "prob_contour = model_prob(X).reshape(100,100) "
   ]
  },
  {
   "cell_type": "code",
   "execution_count": 29,
   "id": "da72499a",
   "metadata": {
    "execution": {
     "iopub.execute_input": "2022-08-18T20:13:43.076206Z",
     "iopub.status.busy": "2022-08-18T20:13:43.074959Z",
     "iopub.status.idle": "2022-08-18T20:13:43.330937Z",
     "shell.execute_reply": "2022-08-18T20:13:43.330463Z"
    },
    "papermill": {
     "duration": 0.305135,
     "end_time": "2022-08-18T20:13:43.331047",
     "exception": false,
     "start_time": "2022-08-18T20:13:43.025912",
     "status": "completed"
    },
    "tags": []
   },
   "outputs": [
    {
     "data": {
      "image/png": "[encoded data removed]",
      "text/plain": [
       "<Figure size 720x648 with 1 Axes>"
      ]
     },
     "metadata": {
      "needs_background": "light"
     },
     "output_type": "display_data"
    }
   ],
   "source": [
    "plt.figure(figsize=(10,9))\n",
    "plt.scatter(testing_plot[:,0], testing_plot[:,1], alpha = 0.1, c = y_test.ravel())\n",
    "contours = plt.contour(x_grid,y_grid,prob_contour)\n",
    "plt.title('Probability Contours')\n",
    "plt.clabel(contours, inline = True );"
   ]
  },
  {
   "cell_type": "code",
   "execution_count": null,
   "id": "e81b4ac7",
   "metadata": {
    "papermill": {
     "duration": 0.047097,
     "end_time": "2022-08-18T20:13:43.425893",
     "exception": false,
     "start_time": "2022-08-18T20:13:43.378796",
     "status": "completed"
    },
    "tags": []
   },
   "outputs": [],
   "source": []
  }
 ],
 "metadata": {
  "kernelspec": {
   "display_name": "Python 3",
   "language": "python",
   "name": "python3"
  },
  "language_info": {
   "codemirror_mode": {
    "name": "ipython",
    "version": 3
   },
   "file_extension": ".py",
   "mimetype": "text/x-python",
   "name": "python",
   "nbconvert_exporter": "python",
   "pygments_lexer": "ipython3",
   "version": "3.6.15"
  },
  "papermill": {
   "default_parameters": {},
   "duration": 195.632034,
   "end_time": "2022-08-18T20:13:43.791658",
   "environment_variables": {},
   "exception": null,
   "input_path": "2020-08-11-part2.ipynb",
   "output_path": "2020-08-11-part2.ipynb",
   "parameters": {},
   "start_time": "2022-08-18T20:10:28.159624",
   "version": "2.3.3"
  }
 },
 "nbformat": 4,
 "nbformat_minor": 5
}