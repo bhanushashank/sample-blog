{
 "cells": [
  {
   "cell_type": "markdown",
   "id": "98380cd3",
   "metadata": {
    "papermill": {
     "duration": 0.029657,
     "end_time": "2022-05-27T10:10:32.003535",
     "exception": false,
     "start_time": "2022-05-27T10:10:31.973878",
     "status": "completed"
    },
    "tags": []
   },
   "source": [
    "# Distinguish Your Own Digits (DYOD)"
   ]
  },
  {
   "cell_type": "markdown",
   "id": "ef31240d",
   "metadata": {
    "papermill": {
     "duration": 0.023775,
     "end_time": "2022-05-27T10:10:32.051610",
     "exception": false,
     "start_time": "2022-05-27T10:10:32.027835",
     "status": "completed"
    },
    "tags": []
   },
   "source": [
    "You are going to write a classifier that distinguishes between the number 3 and number 8."
   ]
  },
  {
   "cell_type": "code",
   "execution_count": 1,
   "id": "b15c8646",
   "metadata": {
    "execution": {
     "iopub.execute_input": "2022-05-27T10:10:32.109555Z",
     "iopub.status.busy": "2022-05-27T10:10:32.108960Z",
     "iopub.status.idle": "2022-05-27T10:10:32.119771Z",
     "shell.execute_reply": "2022-05-27T10:10:32.119283Z"
    },
    "papermill": {
     "duration": 0.044619,
     "end_time": "2022-05-27T10:10:32.119896",
     "exception": false,
     "start_time": "2022-05-27T10:10:32.075277",
     "status": "completed"
    },
    "tags": []
   },
   "outputs": [],
   "source": [
    "%load_ext autoreload\n",
    "%autoreload 2"
   ]
  },
  {
   "cell_type": "code",
   "execution_count": 2,
   "id": "22ef38dc",
   "metadata": {
    "execution": {
     "iopub.execute_input": "2022-05-27T10:10:32.171412Z",
     "iopub.status.busy": "2022-05-27T10:10:32.170835Z",
     "iopub.status.idle": "2022-05-27T10:10:32.691668Z",
     "shell.execute_reply": "2022-05-27T10:10:32.692141Z"
    },
    "papermill": {
     "duration": 0.548672,
     "end_time": "2022-05-27T10:10:32.692293",
     "exception": false,
     "start_time": "2022-05-27T10:10:32.143621",
     "status": "completed"
    },
    "tags": []
   },
   "outputs": [],
   "source": [
    "%matplotlib inline\n",
    "import numpy as np\n",
    "import matplotlib.pyplot as plt\n",
    "import pandas as pd"
   ]
  },
  {
   "cell_type": "markdown",
   "id": "ba036198",
   "metadata": {
    "papermill": {
     "duration": 0.023594,
     "end_time": "2022-05-27T10:10:32.739658",
     "exception": false,
     "start_time": "2022-05-27T10:10:32.716064",
     "status": "completed"
    },
    "tags": []
   },
   "source": [
    "From the command line run `pip install mnist`. This is a library that will help you bring down the mnist dataset. If you run this from a notebook, you need to put  `!pip install mnist` in a cell by itself."
   ]
  },
  {
   "cell_type": "code",
   "execution_count": 3,
   "id": "bb6ad8a1",
   "metadata": {
    "execution": {
     "iopub.execute_input": "2022-05-27T10:10:32.803183Z",
     "iopub.status.busy": "2022-05-27T10:10:32.802608Z",
     "iopub.status.idle": "2022-05-27T10:10:34.453818Z",
     "shell.execute_reply": "2022-05-27T10:10:34.452885Z"
    },
    "papermill": {
     "duration": 1.690693,
     "end_time": "2022-05-27T10:10:34.453960",
     "exception": false,
     "start_time": "2022-05-27T10:10:32.763267",
     "status": "completed"
    },
    "tags": []
   },
   "outputs": [
    {
     "name": "stdout",
     "output_type": "stream",
     "text": [
      "Collecting mnist\r\n",
      "  Downloading mnist-0.2.2-py2.py3-none-any.whl (3.5 kB)\r\n",
      "Requirement already satisfied: numpy in /opt/hostedtoolcache/Python/3.6.15/x64/lib/python3.6/site-packages (from mnist) (1.19.5)\r\n"
     ]
    },
    {
     "name": "stdout",
     "output_type": "stream",
     "text": [
      "Installing collected packages: mnist\r\n"
     ]
    },
    {
     "name": "stdout",
     "output_type": "stream",
     "text": [
      "Successfully installed mnist-0.2.2\r\n"
     ]
    }
   ],
   "source": [
    "!pip install mnist"
   ]
  },
  {
   "cell_type": "markdown",
   "id": "69df9c9a",
   "metadata": {
    "papermill": {
     "duration": 0.024401,
     "end_time": "2022-05-27T10:10:34.503077",
     "exception": false,
     "start_time": "2022-05-27T10:10:34.478676",
     "status": "completed"
    },
    "tags": []
   },
   "source": [
    "## Preparing the Data"
   ]
  },
  {
   "cell_type": "code",
   "execution_count": 4,
   "id": "7f69d806",
   "metadata": {
    "execution": {
     "iopub.execute_input": "2022-05-27T10:10:34.570038Z",
     "iopub.status.busy": "2022-05-27T10:10:34.568964Z",
     "iopub.status.idle": "2022-05-27T10:10:34.572676Z",
     "shell.execute_reply": "2022-05-27T10:10:34.572206Z"
    },
    "papermill": {
     "duration": 0.045344,
     "end_time": "2022-05-27T10:10:34.572779",
     "exception": false,
     "start_time": "2022-05-27T10:10:34.527435",
     "status": "completed"
    },
    "tags": []
   },
   "outputs": [],
   "source": [
    "import mnist"
   ]
  },
  {
   "cell_type": "code",
   "execution_count": 5,
   "id": "a411e44f",
   "metadata": {
    "execution": {
     "iopub.execute_input": "2022-05-27T10:10:34.631454Z",
     "iopub.status.busy": "2022-05-27T10:10:34.624503Z",
     "iopub.status.idle": "2022-05-27T10:10:35.130360Z",
     "shell.execute_reply": "2022-05-27T10:10:35.129699Z"
    },
    "papermill": {
     "duration": 0.533277,
     "end_time": "2022-05-27T10:10:35.130496",
     "exception": false,
     "start_time": "2022-05-27T10:10:34.597219",
     "status": "completed"
    },
    "tags": []
   },
   "outputs": [],
   "source": [
    "train_images = mnist.train_images()\n",
    "train_labels = mnist.train_labels()"
   ]
  },
  {
   "cell_type": "code",
   "execution_count": 6,
   "id": "dceab3a5",
   "metadata": {
    "execution": {
     "iopub.execute_input": "2022-05-27T10:10:35.183715Z",
     "iopub.status.busy": "2022-05-27T10:10:35.183137Z",
     "iopub.status.idle": "2022-05-27T10:10:35.197345Z",
     "shell.execute_reply": "2022-05-27T10:10:35.197914Z"
    },
    "papermill": {
     "duration": 0.042595,
     "end_time": "2022-05-27T10:10:35.198045",
     "exception": false,
     "start_time": "2022-05-27T10:10:35.155450",
     "status": "completed"
    },
    "tags": []
   },
   "outputs": [
    {
     "data": {
      "text/plain": [
       "((60000, 28, 28), (60000,))"
      ]
     },
     "execution_count": 6,
     "metadata": {},
     "output_type": "execute_result"
    }
   ],
   "source": [
    "train_images.shape, train_labels.shape"
   ]
  },
  {
   "cell_type": "code",
   "execution_count": 7,
   "id": "f50dc2bb",
   "metadata": {
    "execution": {
     "iopub.execute_input": "2022-05-27T10:10:35.250556Z",
     "iopub.status.busy": "2022-05-27T10:10:35.249978Z",
     "iopub.status.idle": "2022-05-27T10:10:35.365370Z",
     "shell.execute_reply": "2022-05-27T10:10:35.364787Z"
    },
    "papermill": {
     "duration": 0.142912,
     "end_time": "2022-05-27T10:10:35.365510",
     "exception": false,
     "start_time": "2022-05-27T10:10:35.222598",
     "status": "completed"
    },
    "tags": []
   },
   "outputs": [],
   "source": [
    "test_images = mnist.test_images()\n",
    "test_labels = mnist.test_labels()"
   ]
  },
  {
   "cell_type": "code",
   "execution_count": 8,
   "id": "fc38cf1b",
   "metadata": {
    "execution": {
     "iopub.execute_input": "2022-05-27T10:10:35.419016Z",
     "iopub.status.busy": "2022-05-27T10:10:35.418446Z",
     "iopub.status.idle": "2022-05-27T10:10:35.432237Z",
     "shell.execute_reply": "2022-05-27T10:10:35.432783Z"
    },
    "papermill": {
     "duration": 0.042218,
     "end_time": "2022-05-27T10:10:35.432907",
     "exception": false,
     "start_time": "2022-05-27T10:10:35.390689",
     "status": "completed"
    },
    "tags": []
   },
   "outputs": [
    {
     "data": {
      "text/plain": [
       "((10000, 28, 28), (10000,))"
      ]
     },
     "execution_count": 8,
     "metadata": {},
     "output_type": "execute_result"
    }
   ],
   "source": [
    "test_images.shape, test_labels.shape"
   ]
  },
  {
   "cell_type": "code",
   "execution_count": 9,
   "id": "f9ed8fe0",
   "metadata": {
    "execution": {
     "iopub.execute_input": "2022-05-27T10:10:35.511204Z",
     "iopub.status.busy": "2022-05-27T10:10:35.490433Z",
     "iopub.status.idle": "2022-05-27T10:10:35.625511Z",
     "shell.execute_reply": "2022-05-27T10:10:35.626080Z"
    },
    "papermill": {
     "duration": 0.168493,
     "end_time": "2022-05-27T10:10:35.626237",
     "exception": false,
     "start_time": "2022-05-27T10:10:35.457744",
     "status": "completed"
    },
    "tags": []
   },
   "outputs": [
    {
     "name": "stdout",
     "output_type": "stream",
     "text": [
      "2\n"
     ]
    },
    {
     "data": {
      "text/plain": [
       "<matplotlib.image.AxesImage at 0x7f0898ad1ef0>"
      ]
     },
     "execution_count": 9,
     "metadata": {},
     "output_type": "execute_result"
    },
    {
     "data": {
      "image/png": "[encoded data removed]",
      "text/plain": [
       "<Figure size 432x288 with 1 Axes>"
      ]
     },
     "metadata": {
      "needs_background": "light"
     },
     "output_type": "display_data"
    }
   ],
   "source": [
    "image_index = 7776 # You may select anything up to 60,000\n",
    "print(train_labels[image_index]) \n",
    "plt.imshow(train_images[image_index], cmap='Greys')"
   ]
  },
  {
   "cell_type": "markdown",
   "id": "a8d2388d",
   "metadata": {
    "papermill": {
     "duration": 0.025964,
     "end_time": "2022-05-27T10:10:35.678937",
     "exception": false,
     "start_time": "2022-05-27T10:10:35.652973",
     "status": "completed"
    },
    "tags": []
   },
   "source": [
    "## Filter data to get 3 and 8 out"
   ]
  },
  {
   "cell_type": "code",
   "execution_count": 10,
   "id": "776f7fc7",
   "metadata": {
    "execution": {
     "iopub.execute_input": "2022-05-27T10:10:35.750559Z",
     "iopub.status.busy": "2022-05-27T10:10:35.734869Z",
     "iopub.status.idle": "2022-05-27T10:10:35.756886Z",
     "shell.execute_reply": "2022-05-27T10:10:35.756431Z"
    },
    "papermill": {
     "duration": 0.052031,
     "end_time": "2022-05-27T10:10:35.757001",
     "exception": false,
     "start_time": "2022-05-27T10:10:35.704970",
     "status": "completed"
    },
    "tags": []
   },
   "outputs": [],
   "source": [
    "train_filter = np.where((train_labels == 3 ) | (train_labels == 8))\n",
    "test_filter = np.where((test_labels == 3) | (test_labels == 8))\n",
    "X_train, y_train = train_images[train_filter], train_labels[train_filter]\n",
    "X_test, y_test = test_images[test_filter], test_labels[test_filter]"
   ]
  },
  {
   "cell_type": "markdown",
   "id": "948f0b7e",
   "metadata": {
    "papermill": {
     "duration": 0.026144,
     "end_time": "2022-05-27T10:10:35.809641",
     "exception": false,
     "start_time": "2022-05-27T10:10:35.783497",
     "status": "completed"
    },
    "tags": []
   },
   "source": [
    "We normalize the pizel values in the 0 to 1 range"
   ]
  },
  {
   "cell_type": "code",
   "execution_count": 11,
   "id": "ee4c2166",
   "metadata": {
    "execution": {
     "iopub.execute_input": "2022-05-27T10:10:35.866074Z",
     "iopub.status.busy": "2022-05-27T10:10:35.865453Z",
     "iopub.status.idle": "2022-05-27T10:10:35.912534Z",
     "shell.execute_reply": "2022-05-27T10:10:35.911960Z"
    },
    "papermill": {
     "duration": 0.076883,
     "end_time": "2022-05-27T10:10:35.912664",
     "exception": false,
     "start_time": "2022-05-27T10:10:35.835781",
     "status": "completed"
    },
    "tags": []
   },
   "outputs": [],
   "source": [
    "X_train = X_train/255.\n",
    "X_test = X_test/255."
   ]
  },
  {
   "cell_type": "markdown",
   "id": "ddcf4fab",
   "metadata": {
    "papermill": {
     "duration": 0.026093,
     "end_time": "2022-05-27T10:10:35.965635",
     "exception": false,
     "start_time": "2022-05-27T10:10:35.939542",
     "status": "completed"
    },
    "tags": []
   },
   "source": [
    "And setup the labels as 1 (when the digit is 3) and 0 (when the digit is 8)"
   ]
  },
  {
   "cell_type": "code",
   "execution_count": 12,
   "id": "7dc908f2",
   "metadata": {
    "execution": {
     "iopub.execute_input": "2022-05-27T10:10:36.032846Z",
     "iopub.status.busy": "2022-05-27T10:10:36.031667Z",
     "iopub.status.idle": "2022-05-27T10:10:36.035986Z",
     "shell.execute_reply": "2022-05-27T10:10:36.036433Z"
    },
    "papermill": {
     "duration": 0.04491,
     "end_time": "2022-05-27T10:10:36.036561",
     "exception": false,
     "start_time": "2022-05-27T10:10:35.991651",
     "status": "completed"
    },
    "tags": []
   },
   "outputs": [],
   "source": [
    "y_train = 1*(y_train==3)\n",
    "y_test = 1*(y_test==3)"
   ]
  },
  {
   "cell_type": "code",
   "execution_count": 13,
   "id": "01e4e969",
   "metadata": {
    "execution": {
     "iopub.execute_input": "2022-05-27T10:10:36.101476Z",
     "iopub.status.busy": "2022-05-27T10:10:36.092287Z",
     "iopub.status.idle": "2022-05-27T10:10:36.110615Z",
     "shell.execute_reply": "2022-05-27T10:10:36.110134Z"
    },
    "papermill": {
     "duration": 0.047844,
     "end_time": "2022-05-27T10:10:36.110728",
     "exception": false,
     "start_time": "2022-05-27T10:10:36.062884",
     "status": "completed"
    },
    "tags": []
   },
   "outputs": [
    {
     "data": {
      "text/plain": [
       "((11982, 28, 28), (1984, 28, 28))"
      ]
     },
     "execution_count": 13,
     "metadata": {},
     "output_type": "execute_result"
    }
   ],
   "source": [
    "X_train.shape, X_test.shape"
   ]
  },
  {
   "cell_type": "markdown",
   "id": "5ccf3f85",
   "metadata": {
    "papermill": {
     "duration": 0.026092,
     "end_time": "2022-05-27T10:10:36.162968",
     "exception": false,
     "start_time": "2022-05-27T10:10:36.136876",
     "status": "completed"
    },
    "tags": []
   },
   "source": [
    "We reshape the data to flatten the image pixels into a set of features or co-variates:"
   ]
  },
  {
   "cell_type": "code",
   "execution_count": 14,
   "id": "5286a4a3",
   "metadata": {
    "execution": {
     "iopub.execute_input": "2022-05-27T10:10:36.219376Z",
     "iopub.status.busy": "2022-05-27T10:10:36.218812Z",
     "iopub.status.idle": "2022-05-27T10:10:36.232382Z",
     "shell.execute_reply": "2022-05-27T10:10:36.232806Z"
    },
    "papermill": {
     "duration": 0.043736,
     "end_time": "2022-05-27T10:10:36.232937",
     "exception": false,
     "start_time": "2022-05-27T10:10:36.189201",
     "status": "completed"
    },
    "tags": []
   },
   "outputs": [
    {
     "data": {
      "text/plain": [
       "((11982, 784), (1984, 784))"
      ]
     },
     "execution_count": 14,
     "metadata": {},
     "output_type": "execute_result"
    }
   ],
   "source": [
    "X_train = X_train.reshape(X_train.shape[0], -1)\n",
    "X_test = X_test.reshape(X_test.shape[0], -1)\n",
    "X_train.shape, X_test.shape"
   ]
  },
  {
   "cell_type": "code",
   "execution_count": 15,
   "id": "73c5f88a",
   "metadata": {
    "execution": {
     "iopub.execute_input": "2022-05-27T10:10:36.289870Z",
     "iopub.status.busy": "2022-05-27T10:10:36.289280Z",
     "iopub.status.idle": "2022-05-27T10:10:36.307600Z",
     "shell.execute_reply": "2022-05-27T10:10:36.308024Z"
    },
    "papermill": {
     "duration": 0.048958,
     "end_time": "2022-05-27T10:10:36.308153",
     "exception": false,
     "start_time": "2022-05-27T10:10:36.259195",
     "status": "completed"
    },
    "tags": []
   },
   "outputs": [],
   "source": [
    "#Impoting functions from 'Kudzu'\n",
    "from kudzu.model import Model\n",
    "from kudzu.train import Learner\n",
    "from kudzu.optim import GD\n",
    "from kudzu.data import Data, Sampler,Dataloader\n",
    "\n",
    "from kudzu.callbacks import AccCallback\n",
    "from kudzu.callbacks import ClfCallback\n",
    "\n",
    "from kudzu.loss import MSE\n",
    "\n",
    "from kudzu.layer import Sigmoid,Relu\n",
    "from kudzu.layer import Affine"
   ]
  },
  {
   "cell_type": "markdown",
   "id": "bc01172a",
   "metadata": {
    "papermill": {
     "duration": 0.026636,
     "end_time": "2022-05-27T10:10:36.361982",
     "exception": false,
     "start_time": "2022-05-27T10:10:36.335346",
     "status": "completed"
    },
    "tags": []
   },
   "source": [
    "### Let us create a `Config` class, to store important parameters. \n",
    "This class essentially plays the role of a dictionary."
   ]
  },
  {
   "cell_type": "code",
   "execution_count": 16,
   "id": "978281aa",
   "metadata": {
    "execution": {
     "iopub.execute_input": "2022-05-27T10:10:36.419320Z",
     "iopub.status.busy": "2022-05-27T10:10:36.418730Z",
     "iopub.status.idle": "2022-05-27T10:10:36.431868Z",
     "shell.execute_reply": "2022-05-27T10:10:36.431387Z"
    },
    "papermill": {
     "duration": 0.043452,
     "end_time": "2022-05-27T10:10:36.431983",
     "exception": false,
     "start_time": "2022-05-27T10:10:36.388531",
     "status": "completed"
    },
    "tags": []
   },
   "outputs": [],
   "source": [
    "class Config:\n",
    "    pass\n",
    "config = Config()\n",
    "config.lr = 0.001\n",
    "config.num_epochs = 250\n",
    "config.bs = 50"
   ]
  },
  {
   "cell_type": "markdown",
   "id": "1385fa59",
   "metadata": {
    "papermill": {
     "duration": 0.026742,
     "end_time": "2022-05-27T10:10:36.485684",
     "exception": false,
     "start_time": "2022-05-27T10:10:36.458942",
     "status": "completed"
    },
    "tags": []
   },
   "source": [
    "### Running Models with the Training data\n",
    "Details about the network layers:\n",
    "- A first affine layer has 784 inputs and does 100 affine transforms. These are followed by a Relu\n",
    "- A second affine layer has 100 inputs from the 100 activations of the past layer, and does 100 affine transforms. These are followed by a Relu\n",
    "- A third affine layer has 100 activations and does 2 affine transformations to create an embedding for visualization. There is no non-linearity here.\n",
    "- A final \"logistic regression\" which has an affine transform from 2 inputs to 1 output, which is squeezed through a sigmoid.\n"
   ]
  },
  {
   "cell_type": "code",
   "execution_count": 17,
   "id": "2b9c66db",
   "metadata": {
    "execution": {
     "iopub.execute_input": "2022-05-27T10:10:36.558770Z",
     "iopub.status.busy": "2022-05-27T10:10:36.557332Z",
     "iopub.status.idle": "2022-05-27T10:10:36.561969Z",
     "shell.execute_reply": "2022-05-27T10:10:36.560773Z"
    },
    "papermill": {
     "duration": 0.049675,
     "end_time": "2022-05-27T10:10:36.562093",
     "exception": false,
     "start_time": "2022-05-27T10:10:36.512418",
     "status": "completed"
    },
    "tags": []
   },
   "outputs": [],
   "source": [
    "data = Data(X_train, y_train.reshape(-1,1))\n",
    "sampler = Sampler(data, config.bs, shuffle=True)\n",
    "\n",
    "dl = Dataloader(data, sampler)\n",
    "\n",
    "opt = GD(config.lr)\n",
    "loss = MSE()"
   ]
  },
  {
   "cell_type": "code",
   "execution_count": 18,
   "id": "b275e4c2",
   "metadata": {
    "execution": {
     "iopub.execute_input": "2022-05-27T10:10:36.619997Z",
     "iopub.status.busy": "2022-05-27T10:10:36.619416Z",
     "iopub.status.idle": "2022-05-27T10:10:36.632970Z",
     "shell.execute_reply": "2022-05-27T10:10:36.632487Z"
    },
    "papermill": {
     "duration": 0.044066,
     "end_time": "2022-05-27T10:10:36.633083",
     "exception": false,
     "start_time": "2022-05-27T10:10:36.589017",
     "status": "completed"
    },
    "tags": []
   },
   "outputs": [],
   "source": [
    "training_data_x = X_train\n",
    "testing_data_x = X_test\n",
    "training_data_y = y_train.reshape(-1,1)\n",
    "testing_data_y = y_test.reshape(-1,1)"
   ]
  },
  {
   "cell_type": "code",
   "execution_count": 19,
   "id": "76951160",
   "metadata": {
    "execution": {
     "iopub.execute_input": "2022-05-27T10:10:36.702670Z",
     "iopub.status.busy": "2022-05-27T10:10:36.696642Z",
     "iopub.status.idle": "2022-05-27T10:10:36.710634Z",
     "shell.execute_reply": "2022-05-27T10:10:36.711082Z"
    },
    "papermill": {
     "duration": 0.051545,
     "end_time": "2022-05-27T10:10:36.711213",
     "exception": false,
     "start_time": "2022-05-27T10:10:36.659668",
     "status": "completed"
    },
    "tags": []
   },
   "outputs": [
    {
     "name": "stdout",
     "output_type": "stream",
     "text": [
      "xavier\n",
      "xavier\n",
      "xavier\n",
      "xavier\n",
      "xavier\n"
     ]
    }
   ],
   "source": [
    "layers = [Affine(\"first\", 784, 100), Relu(\"first\"), Affine(\"second\", 100, 100), Relu(\"second\"), Affine(\"third\", 100, 2), Affine(\"last\", 2, 1), Sigmoid(\"last\")]\n",
    "model_nn = Model(layers)\n",
    "model_lr = Model([Affine(\"logits\", 784, 1), Sigmoid(\"sigmoid\")])"
   ]
  },
  {
   "cell_type": "code",
   "execution_count": 20,
   "id": "6eede77a",
   "metadata": {
    "execution": {
     "iopub.execute_input": "2022-05-27T10:10:36.772146Z",
     "iopub.status.busy": "2022-05-27T10:10:36.771540Z",
     "iopub.status.idle": "2022-05-27T10:10:36.783081Z",
     "shell.execute_reply": "2022-05-27T10:10:36.782604Z"
    },
    "papermill": {
     "duration": 0.045065,
     "end_time": "2022-05-27T10:10:36.783193",
     "exception": false,
     "start_time": "2022-05-27T10:10:36.738128",
     "status": "completed"
    },
    "tags": []
   },
   "outputs": [],
   "source": [
    "nn_learner = Learner(loss, model_nn, opt, config.num_epochs)\n",
    "acc_nn = ClfCallback(nn_learner, config.bs, training_data_x , testing_data_x, training_data_y, testing_data_y)\n",
    "nn_learner.set_callbacks([acc_nn])"
   ]
  },
  {
   "cell_type": "code",
   "execution_count": 21,
   "id": "877b6cc7",
   "metadata": {
    "execution": {
     "iopub.execute_input": "2022-05-27T10:10:36.843984Z",
     "iopub.status.busy": "2022-05-27T10:10:36.843366Z",
     "iopub.status.idle": "2022-05-27T10:10:36.856556Z",
     "shell.execute_reply": "2022-05-27T10:10:36.856990Z"
    },
    "papermill": {
     "duration": 0.047093,
     "end_time": "2022-05-27T10:10:36.857128",
     "exception": false,
     "start_time": "2022-05-27T10:10:36.810035",
     "status": "completed"
    },
    "tags": []
   },
   "outputs": [],
   "source": [
    "lr_learner = Learner(loss, model_lr, opt, config.num_epochs)\n",
    "acc_lr = ClfCallback(lr_learner, config.bs, training_data_x , testing_data_x, training_data_y, testing_data_y)\n",
    "lr_learner.set_callbacks([acc_lr])"
   ]
  },
  {
   "cell_type": "code",
   "execution_count": 22,
   "id": "d9b133c3",
   "metadata": {
    "execution": {
     "iopub.execute_input": "2022-05-27T10:10:36.926561Z",
     "iopub.status.busy": "2022-05-27T10:10:36.914576Z",
     "iopub.status.idle": "2022-05-27T10:11:51.592468Z",
     "shell.execute_reply": "2022-05-27T10:11:51.593354Z"
    },
    "papermill": {
     "duration": 74.709401,
     "end_time": "2022-05-27T10:11:51.593504",
     "exception": false,
     "start_time": "2022-05-27T10:10:36.884103",
     "status": "completed"
    },
    "tags": []
   },
   "outputs": [
    {
     "name": "stdout",
     "output_type": "stream",
     "text": [
      "Epoch 0, Loss 0.2248\n",
      "Training Accuracy: 0.7625, Testing Accuracy: 0.7394\n",
      "\n"
     ]
    },
    {
     "name": "stdout",
     "output_type": "stream",
     "text": [
      "Epoch 10, Loss 0.0839\n",
      "Training Accuracy: 0.9160, Testing Accuracy: 0.9335\n",
      "\n"
     ]
    },
    {
     "name": "stdout",
     "output_type": "stream",
     "text": [
      "Epoch 20, Loss 0.0538\n",
      "Training Accuracy: 0.9425, Testing Accuracy: 0.9567\n",
      "\n"
     ]
    },
    {
     "name": "stdout",
     "output_type": "stream",
     "text": [
      "Epoch 30, Loss 0.043\n",
      "Training Accuracy: 0.9534, Testing Accuracy: 0.9642\n",
      "\n"
     ]
    },
    {
     "name": "stdout",
     "output_type": "stream",
     "text": [
      "Epoch 40, Loss 0.0374\n",
      "Training Accuracy: 0.9588, Testing Accuracy: 0.9667\n",
      "\n"
     ]
    },
    {
     "name": "stdout",
     "output_type": "stream",
     "text": [
      "Epoch 50, Loss 0.0339\n",
      "Training Accuracy: 0.9619, Testing Accuracy: 0.9677\n",
      "\n"
     ]
    },
    {
     "name": "stdout",
     "output_type": "stream",
     "text": [
      "Epoch 60, Loss 0.0314\n",
      "Training Accuracy: 0.9647, Testing Accuracy: 0.9667\n",
      "\n"
     ]
    },
    {
     "name": "stdout",
     "output_type": "stream",
     "text": [
      "Epoch 70, Loss 0.0296\n",
      "Training Accuracy: 0.9662, Testing Accuracy: 0.9698\n",
      "\n"
     ]
    },
    {
     "name": "stdout",
     "output_type": "stream",
     "text": [
      "Epoch 80, Loss 0.0281\n",
      "Training Accuracy: 0.9684, Testing Accuracy: 0.9713\n",
      "\n"
     ]
    },
    {
     "name": "stdout",
     "output_type": "stream",
     "text": [
      "Epoch 90, Loss 0.0268\n",
      "Training Accuracy: 0.9693, Testing Accuracy: 0.9733\n",
      "\n"
     ]
    },
    {
     "name": "stdout",
     "output_type": "stream",
     "text": [
      "Epoch 100, Loss 0.0258\n",
      "Training Accuracy: 0.9704, Testing Accuracy: 0.9738\n",
      "\n"
     ]
    },
    {
     "name": "stdout",
     "output_type": "stream",
     "text": [
      "Epoch 110, Loss 0.0248\n",
      "Training Accuracy: 0.9713, Testing Accuracy: 0.9753\n",
      "\n"
     ]
    },
    {
     "name": "stdout",
     "output_type": "stream",
     "text": [
      "Epoch 120, Loss 0.024\n",
      "Training Accuracy: 0.9723, Testing Accuracy: 0.9753\n",
      "\n"
     ]
    },
    {
     "name": "stdout",
     "output_type": "stream",
     "text": [
      "Epoch 130, Loss 0.0232\n",
      "Training Accuracy: 0.9732, Testing Accuracy: 0.9753\n",
      "\n"
     ]
    },
    {
     "name": "stdout",
     "output_type": "stream",
     "text": [
      "Epoch 140, Loss 0.0225\n",
      "Training Accuracy: 0.9740, Testing Accuracy: 0.9753\n",
      "\n"
     ]
    },
    {
     "name": "stdout",
     "output_type": "stream",
     "text": [
      "Epoch 150, Loss 0.0219\n",
      "Training Accuracy: 0.9750, Testing Accuracy: 0.9758\n",
      "\n"
     ]
    },
    {
     "name": "stdout",
     "output_type": "stream",
     "text": [
      "Epoch 160, Loss 0.0213\n",
      "Training Accuracy: 0.9758, Testing Accuracy: 0.9758\n",
      "\n"
     ]
    },
    {
     "name": "stdout",
     "output_type": "stream",
     "text": [
      "Epoch 170, Loss 0.0208\n",
      "Training Accuracy: 0.9767, Testing Accuracy: 0.9768\n",
      "\n"
     ]
    },
    {
     "name": "stdout",
     "output_type": "stream",
     "text": [
      "Epoch 180, Loss 0.0202\n",
      "Training Accuracy: 0.9770, Testing Accuracy: 0.9763\n",
      "\n"
     ]
    },
    {
     "name": "stdout",
     "output_type": "stream",
     "text": [
      "Epoch 190, Loss 0.0198\n",
      "Training Accuracy: 0.9775, Testing Accuracy: 0.9763\n",
      "\n"
     ]
    },
    {
     "name": "stdout",
     "output_type": "stream",
     "text": [
      "Epoch 200, Loss 0.0193\n",
      "Training Accuracy: 0.9784, Testing Accuracy: 0.9763\n",
      "\n"
     ]
    },
    {
     "name": "stdout",
     "output_type": "stream",
     "text": [
      "Epoch 210, Loss 0.0189\n",
      "Training Accuracy: 0.9788, Testing Accuracy: 0.9758\n",
      "\n"
     ]
    },
    {
     "name": "stdout",
     "output_type": "stream",
     "text": [
      "Epoch 220, Loss 0.0184\n",
      "Training Accuracy: 0.9793, Testing Accuracy: 0.9758\n",
      "\n"
     ]
    },
    {
     "name": "stdout",
     "output_type": "stream",
     "text": [
      "Epoch 230, Loss 0.018\n",
      "Training Accuracy: 0.9800, Testing Accuracy: 0.9763\n",
      "\n"
     ]
    },
    {
     "name": "stdout",
     "output_type": "stream",
     "text": [
      "Epoch 240, Loss 0.0177\n",
      "Training Accuracy: 0.9806, Testing Accuracy: 0.9768\n",
      "\n"
     ]
    },
    {
     "data": {
      "text/plain": [
       "0.005008193244547017"
      ]
     },
     "execution_count": 22,
     "metadata": {},
     "output_type": "execute_result"
    }
   ],
   "source": [
    "nn_learner.train_loop(dl)"
   ]
  },
  {
   "cell_type": "code",
   "execution_count": 23,
   "id": "e0163366",
   "metadata": {
    "execution": {
     "iopub.execute_input": "2022-05-27T10:11:51.671788Z",
     "iopub.status.busy": "2022-05-27T10:11:51.671207Z",
     "iopub.status.idle": "2022-05-27T10:12:04.646249Z",
     "shell.execute_reply": "2022-05-27T10:12:04.647092Z"
    },
    "papermill": {
     "duration": 13.019416,
     "end_time": "2022-05-27T10:12:04.647238",
     "exception": false,
     "start_time": "2022-05-27T10:11:51.627822",
     "status": "completed"
    },
    "tags": []
   },
   "outputs": [
    {
     "name": "stdout",
     "output_type": "stream",
     "text": [
      "Epoch 0, Loss 0.2498\n",
      "Training Accuracy: 0.6319, Testing Accuracy: 0.6179\n",
      "\n"
     ]
    },
    {
     "name": "stdout",
     "output_type": "stream",
     "text": [
      "Epoch 10, Loss 0.1081\n",
      "Training Accuracy: 0.8954, Testing Accuracy: 0.9047\n",
      "\n"
     ]
    },
    {
     "name": "stdout",
     "output_type": "stream",
     "text": [
      "Epoch 20, Loss 0.082\n",
      "Training Accuracy: 0.9223, Testing Accuracy: 0.9370\n",
      "\n"
     ]
    },
    {
     "name": "stdout",
     "output_type": "stream",
     "text": [
      "Epoch 30, Loss 0.0701\n",
      "Training Accuracy: 0.9317, Testing Accuracy: 0.9476\n",
      "\n"
     ]
    },
    {
     "name": "stdout",
     "output_type": "stream",
     "text": [
      "Epoch 40, Loss 0.0631\n",
      "Training Accuracy: 0.9380, Testing Accuracy: 0.9521\n",
      "\n"
     ]
    },
    {
     "name": "stdout",
     "output_type": "stream",
     "text": [
      "Epoch 50, Loss 0.0583\n",
      "Training Accuracy: 0.9407, Testing Accuracy: 0.9551\n",
      "\n"
     ]
    },
    {
     "name": "stdout",
     "output_type": "stream",
     "text": [
      "Epoch 60, Loss 0.0548\n",
      "Training Accuracy: 0.9430, Testing Accuracy: 0.9561\n",
      "\n"
     ]
    },
    {
     "name": "stdout",
     "output_type": "stream",
     "text": [
      "Epoch 70, Loss 0.0521\n",
      "Training Accuracy: 0.9446, Testing Accuracy: 0.9582\n",
      "\n"
     ]
    },
    {
     "name": "stdout",
     "output_type": "stream",
     "text": [
      "Epoch 80, Loss 0.05\n",
      "Training Accuracy: 0.9471, Testing Accuracy: 0.9587\n",
      "\n"
     ]
    },
    {
     "name": "stdout",
     "output_type": "stream",
     "text": [
      "Epoch 90, Loss 0.0482\n",
      "Training Accuracy: 0.9496, Testing Accuracy: 0.9607\n",
      "\n"
     ]
    },
    {
     "name": "stdout",
     "output_type": "stream",
     "text": [
      "Epoch 100, Loss 0.0467\n",
      "Training Accuracy: 0.9510, Testing Accuracy: 0.9632\n",
      "\n"
     ]
    },
    {
     "name": "stdout",
     "output_type": "stream",
     "text": [
      "Epoch 110, Loss 0.0454\n",
      "Training Accuracy: 0.9525, Testing Accuracy: 0.9632\n",
      "\n"
     ]
    },
    {
     "name": "stdout",
     "output_type": "stream",
     "text": [
      "Epoch 120, Loss 0.0443\n",
      "Training Accuracy: 0.9537, Testing Accuracy: 0.9627\n",
      "\n"
     ]
    },
    {
     "name": "stdout",
     "output_type": "stream",
     "text": [
      "Epoch 130, Loss 0.0434\n",
      "Training Accuracy: 0.9544, Testing Accuracy: 0.9647\n",
      "\n"
     ]
    },
    {
     "name": "stdout",
     "output_type": "stream",
     "text": [
      "Epoch 140, Loss 0.0425\n",
      "Training Accuracy: 0.9549, Testing Accuracy: 0.9652\n",
      "\n"
     ]
    },
    {
     "name": "stdout",
     "output_type": "stream",
     "text": [
      "Epoch 150, Loss 0.0417\n",
      "Training Accuracy: 0.9559, Testing Accuracy: 0.9652\n",
      "\n"
     ]
    },
    {
     "name": "stdout",
     "output_type": "stream",
     "text": [
      "Epoch 160, Loss 0.041\n",
      "Training Accuracy: 0.9565, Testing Accuracy: 0.9657\n",
      "\n"
     ]
    },
    {
     "name": "stdout",
     "output_type": "stream",
     "text": [
      "Epoch 170, Loss 0.0404\n",
      "Training Accuracy: 0.9567, Testing Accuracy: 0.9662\n",
      "\n"
     ]
    },
    {
     "name": "stdout",
     "output_type": "stream",
     "text": [
      "Epoch 180, Loss 0.0398\n",
      "Training Accuracy: 0.9571, Testing Accuracy: 0.9662\n",
      "\n"
     ]
    },
    {
     "name": "stdout",
     "output_type": "stream",
     "text": [
      "Epoch 190, Loss 0.0393\n",
      "Training Accuracy: 0.9577, Testing Accuracy: 0.9662\n",
      "\n"
     ]
    },
    {
     "name": "stdout",
     "output_type": "stream",
     "text": [
      "Epoch 200, Loss 0.0388\n",
      "Training Accuracy: 0.9583, Testing Accuracy: 0.9662\n",
      "\n"
     ]
    },
    {
     "name": "stdout",
     "output_type": "stream",
     "text": [
      "Epoch 210, Loss 0.0383\n",
      "Training Accuracy: 0.9589, Testing Accuracy: 0.9662\n",
      "\n"
     ]
    },
    {
     "name": "stdout",
     "output_type": "stream",
     "text": [
      "Epoch 220, Loss 0.0379\n",
      "Training Accuracy: 0.9593, Testing Accuracy: 0.9662\n",
      "\n"
     ]
    },
    {
     "name": "stdout",
     "output_type": "stream",
     "text": [
      "Epoch 230, Loss 0.0375\n",
      "Training Accuracy: 0.9594, Testing Accuracy: 0.9662\n",
      "\n"
     ]
    },
    {
     "name": "stdout",
     "output_type": "stream",
     "text": [
      "Epoch 240, Loss 0.0371\n",
      "Training Accuracy: 0.9595, Testing Accuracy: 0.9667\n",
      "\n"
     ]
    },
    {
     "data": {
      "text/plain": [
       "0.016433933163492894"
      ]
     },
     "execution_count": 23,
     "metadata": {},
     "output_type": "execute_result"
    }
   ],
   "source": [
    "lr_learner.train_loop(dl)"
   ]
  },
  {
   "cell_type": "code",
   "execution_count": 24,
   "id": "ca410940",
   "metadata": {
    "execution": {
     "iopub.execute_input": "2022-05-27T10:12:04.743165Z",
     "iopub.status.busy": "2022-05-27T10:12:04.742572Z",
     "iopub.status.idle": "2022-05-27T10:12:04.972420Z",
     "shell.execute_reply": "2022-05-27T10:12:04.971489Z"
    },
    "papermill": {
     "duration": 0.284239,
     "end_time": "2022-05-27T10:12:04.972560",
     "exception": false,
     "start_time": "2022-05-27T10:12:04.688321",
     "status": "completed"
    },
    "tags": []
   },
   "outputs": [
    {
     "data": {
      "text/plain": [
       "<matplotlib.legend.Legend at 0x7f08986414e0>"
      ]
     },
     "execution_count": 24,
     "metadata": {},
     "output_type": "execute_result"
    },
    {
     "data": {
      "image/png": "[encoded data removed]",
      "text/plain": [
       "<Figure size 1080x720 with 1 Axes>"
      ]
     },
     "metadata": {
      "needs_background": "light"
     },
     "output_type": "display_data"
    }
   ],
   "source": [
    "#comparing the results of NN and LR\n",
    "plt.figure(figsize=(15,10))\n",
    "\n",
    "# Neural Network plots\n",
    "plt.plot(acc_nn.accuracies, 'r-', label = \"Training Accuracies - NN\")\n",
    "plt.plot(acc_nn.test_accuracies, 'g-', label = \"Testing Accuracies - NN\")\n",
    "\n",
    "# Logistic Regression plots\n",
    "plt.plot(acc_lr.accuracies, 'k-', label = \"Training Accuracies - LR\")\n",
    "plt.plot(acc_lr.test_accuracies, 'b-', label = \"Testing Accuracies - LR\")\n",
    "plt.legend()"
   ]
  },
  {
   "cell_type": "markdown",
   "id": "80dfb35c",
   "metadata": {
    "papermill": {
     "duration": 0.041806,
     "end_time": "2022-05-27T10:12:05.056368",
     "exception": false,
     "start_time": "2022-05-27T10:12:05.014562",
     "status": "completed"
    },
    "tags": []
   },
   "source": [
    "#### Plotting the outputs of this layer of the NN.\n"
   ]
  },
  {
   "cell_type": "code",
   "execution_count": 25,
   "id": "45eb2ff5",
   "metadata": {
    "execution": {
     "iopub.execute_input": "2022-05-27T10:12:05.146519Z",
     "iopub.status.busy": "2022-05-27T10:12:05.145810Z",
     "iopub.status.idle": "2022-05-27T10:12:05.163785Z",
     "shell.execute_reply": "2022-05-27T10:12:05.164268Z"
    },
    "papermill": {
     "duration": 0.066657,
     "end_time": "2022-05-27T10:12:05.164405",
     "exception": false,
     "start_time": "2022-05-27T10:12:05.097748",
     "status": "completed"
    },
    "tags": []
   },
   "outputs": [],
   "source": [
    "new_model = Model(layers[:-2])\n",
    "testing_plot = new_model(testing_data_x)"
   ]
  },
  {
   "cell_type": "code",
   "execution_count": 26,
   "id": "4c0a5485",
   "metadata": {
    "execution": {
     "iopub.execute_input": "2022-05-27T10:12:05.260486Z",
     "iopub.status.busy": "2022-05-27T10:12:05.256033Z",
     "iopub.status.idle": "2022-05-27T10:12:05.452707Z",
     "shell.execute_reply": "2022-05-27T10:12:05.452178Z"
    },
    "papermill": {
     "duration": 0.246379,
     "end_time": "2022-05-27T10:12:05.452829",
     "exception": false,
     "start_time": "2022-05-27T10:12:05.206450",
     "status": "completed"
    },
    "tags": []
   },
   "outputs": [
    {
     "data": {
      "text/plain": [
       "Text(0.5, 1.0, 'Outputs')"
      ]
     },
     "execution_count": 26,
     "metadata": {},
     "output_type": "execute_result"
    },
    {
     "data": {
      "image/png": "[encoded data removed]",
      "text/plain": [
       "<Figure size 576x504 with 1 Axes>"
      ]
     },
     "metadata": {
      "needs_background": "light"
     },
     "output_type": "display_data"
    }
   ],
   "source": [
    "# Plotting the scatter plot of points and color coding by class\n",
    "plt.figure(figsize=(8,7))\n",
    "plt.scatter(testing_plot[:,0], testing_plot[:,1], alpha = 0.1, c = y_test.ravel());\n",
    "plt.title('Outputs')"
   ]
  },
  {
   "cell_type": "markdown",
   "id": "a74fcf8f",
   "metadata": {
    "papermill": {
     "duration": 0.043795,
     "end_time": "2022-05-27T10:12:05.540770",
     "exception": false,
     "start_time": "2022-05-27T10:12:05.496975",
     "status": "completed"
    },
    "tags": []
   },
   "source": [
    "Probability contours"
   ]
  },
  {
   "cell_type": "code",
   "execution_count": 27,
   "id": "d0afc8e3",
   "metadata": {
    "execution": {
     "iopub.execute_input": "2022-05-27T10:12:05.639190Z",
     "iopub.status.busy": "2022-05-27T10:12:05.637809Z",
     "iopub.status.idle": "2022-05-27T10:12:05.647778Z",
     "shell.execute_reply": "2022-05-27T10:12:05.648229Z"
    },
    "papermill": {
     "duration": 0.063761,
     "end_time": "2022-05-27T10:12:05.648355",
     "exception": false,
     "start_time": "2022-05-27T10:12:05.584594",
     "status": "completed"
    },
    "tags": []
   },
   "outputs": [],
   "source": [
    "model_prob = Model(layers[-2:]) "
   ]
  },
  {
   "cell_type": "code",
   "execution_count": 28,
   "id": "9b96e238",
   "metadata": {
    "execution": {
     "iopub.execute_input": "2022-05-27T10:12:05.753833Z",
     "iopub.status.busy": "2022-05-27T10:12:05.750715Z",
     "iopub.status.idle": "2022-05-27T10:12:05.756139Z",
     "shell.execute_reply": "2022-05-27T10:12:05.756679Z"
    },
    "papermill": {
     "duration": 0.064908,
     "end_time": "2022-05-27T10:12:05.756811",
     "exception": false,
     "start_time": "2022-05-27T10:12:05.691903",
     "status": "completed"
    },
    "tags": []
   },
   "outputs": [],
   "source": [
    "#creating the x and y ranges according to the above generated plot.\n",
    "x_range = np.linspace(-4, 1, 100) \n",
    "y_range = np.linspace(-6, 6, 100) \n",
    "x_grid, y_grid = np.meshgrid(x_range, y_range) # x_grid and y_grig are of size 100 X 100\n",
    "\n",
    "# converting x_grid and y_grid to continuous arrays\n",
    "x_gridflat = np.ravel(x_grid)\n",
    "y_gridflat = np.ravel(y_grid)\n",
    "\n",
    "# The last layer of the current model takes two columns as input. Hence transpose of np.vstack() is required.\n",
    "X = np.vstack((x_gridflat, y_gridflat)).T\n",
    "\n",
    "prob_contour = model_prob(X).reshape(100,100) "
   ]
  },
  {
   "cell_type": "code",
   "execution_count": 29,
   "id": "da72499a",
   "metadata": {
    "execution": {
     "iopub.execute_input": "2022-05-27T10:12:05.904271Z",
     "iopub.status.busy": "2022-05-27T10:12:05.898443Z",
     "iopub.status.idle": "2022-05-27T10:12:06.121366Z",
     "shell.execute_reply": "2022-05-27T10:12:06.120487Z"
    },
    "papermill": {
     "duration": 0.29455,
     "end_time": "2022-05-27T10:12:06.121505",
     "exception": false,
     "start_time": "2022-05-27T10:12:05.826955",
     "status": "completed"
    },
    "tags": []
   },
   "outputs": [
    {
     "data": {
      "image/png": "[encoded data removed]",
      "text/plain": [
       "<Figure size 720x648 with 1 Axes>"
      ]
     },
     "metadata": {
      "needs_background": "light"
     },
     "output_type": "display_data"
    }
   ],
   "source": [
    "plt.figure(figsize=(10,9))\n",
    "plt.scatter(testing_plot[:,0], testing_plot[:,1], alpha = 0.1, c = y_test.ravel())\n",
    "contours = plt.contour(x_grid,y_grid,prob_contour)\n",
    "plt.title('Probability Contours')\n",
    "plt.clabel(contours, inline = True );"
   ]
  },
  {
   "cell_type": "code",
   "execution_count": null,
   "id": "e81b4ac7",
   "metadata": {
    "papermill": {
     "duration": 0.0461,
     "end_time": "2022-05-27T10:12:06.214153",
     "exception": false,
     "start_time": "2022-05-27T10:12:06.168053",
     "status": "completed"
    },
    "tags": []
   },
   "outputs": [],
   "source": []
  }
 ],
 "metadata": {
  "kernelspec": {
   "display_name": "Python 3",
   "language": "python",
   "name": "python3"
  },
  "language_info": {
   "codemirror_mode": {
    "name": "ipython",
    "version": 3
   },
   "file_extension": ".py",
   "mimetype": "text/x-python",
   "name": "python",
   "nbconvert_exporter": "python",
   "pygments_lexer": "ipython3",
   "version": "3.6.15"
  },
  "papermill": {
   "default_parameters": {},
   "duration": 95.633231,
   "end_time": "2022-05-27T10:12:06.678643",
   "environment_variables": {},
   "exception": null,
   "input_path": "2020-08-11-part2.ipynb",
   "output_path": "2020-08-11-part2.ipynb",
   "parameters": {},
   "start_time": "2022-05-27T10:10:31.045412",
   "version": "2.3.3"
  }
 },
 "nbformat": 4,
 "nbformat_minor": 5
}