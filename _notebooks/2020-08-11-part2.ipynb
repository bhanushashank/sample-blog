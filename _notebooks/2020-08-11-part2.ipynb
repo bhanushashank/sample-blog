{
 "cells": [
  {
   "cell_type": "markdown",
   "id": "98380cd3",
   "metadata": {
    "papermill": {
     "duration": 0.025559,
     "end_time": "2022-01-10T00:24:56.531475",
     "exception": false,
     "start_time": "2022-01-10T00:24:56.505916",
     "status": "completed"
    },
    "tags": []
   },
   "source": [
    "# Distinguish Your Own Digits (DYOD)"
   ]
  },
  {
   "cell_type": "markdown",
   "id": "ef31240d",
   "metadata": {
    "papermill": {
     "duration": 0.02147,
     "end_time": "2022-01-10T00:24:56.574871",
     "exception": false,
     "start_time": "2022-01-10T00:24:56.553401",
     "status": "completed"
    },
    "tags": []
   },
   "source": [
    "You are going to write a classifier that distinguishes between the number 3 and number 8."
   ]
  },
  {
   "cell_type": "code",
   "execution_count": 1,
   "id": "b15c8646",
   "metadata": {
    "execution": {
     "iopub.execute_input": "2022-01-10T00:24:56.628712Z",
     "iopub.status.busy": "2022-01-10T00:24:56.628212Z",
     "iopub.status.idle": "2022-01-10T00:24:56.637492Z",
     "shell.execute_reply": "2022-01-10T00:24:56.637095Z"
    },
    "papermill": {
     "duration": 0.041408,
     "end_time": "2022-01-10T00:24:56.637617",
     "exception": false,
     "start_time": "2022-01-10T00:24:56.596209",
     "status": "completed"
    },
    "tags": []
   },
   "outputs": [],
   "source": [
    "%load_ext autoreload\n",
    "%autoreload 2"
   ]
  },
  {
   "cell_type": "code",
   "execution_count": 2,
   "id": "22ef38dc",
   "metadata": {
    "execution": {
     "iopub.execute_input": "2022-01-10T00:24:56.685543Z",
     "iopub.status.busy": "2022-01-10T00:24:56.685063Z",
     "iopub.status.idle": "2022-01-10T00:24:57.226203Z",
     "shell.execute_reply": "2022-01-10T00:24:57.225671Z"
    },
    "papermill": {
     "duration": 0.56683,
     "end_time": "2022-01-10T00:24:57.226346",
     "exception": false,
     "start_time": "2022-01-10T00:24:56.659516",
     "status": "completed"
    },
    "tags": []
   },
   "outputs": [],
   "source": [
    "%matplotlib inline\n",
    "import numpy as np\n",
    "import matplotlib.pyplot as plt\n",
    "import pandas as pd"
   ]
  },
  {
   "cell_type": "markdown",
   "id": "ba036198",
   "metadata": {
    "papermill": {
     "duration": 0.022093,
     "end_time": "2022-01-10T00:24:57.271724",
     "exception": false,
     "start_time": "2022-01-10T00:24:57.249631",
     "status": "completed"
    },
    "tags": []
   },
   "source": [
    "From the command line run `pip install mnist`. This is a library that will help you bring down the mnist dataset. If you run this from a notebook, you need to put  `!pip install mnist` in a cell by itself."
   ]
  },
  {
   "cell_type": "code",
   "execution_count": 3,
   "id": "bb6ad8a1",
   "metadata": {
    "execution": {
     "iopub.execute_input": "2022-01-10T00:24:57.319333Z",
     "iopub.status.busy": "2022-01-10T00:24:57.318848Z",
     "iopub.status.idle": "2022-01-10T00:24:59.709962Z",
     "shell.execute_reply": "2022-01-10T00:24:59.709461Z"
    },
    "papermill": {
     "duration": 2.41684,
     "end_time": "2022-01-10T00:24:59.710084",
     "exception": false,
     "start_time": "2022-01-10T00:24:57.293244",
     "status": "completed"
    },
    "tags": []
   },
   "outputs": [
    {
     "name": "stdout",
     "output_type": "stream",
     "text": [
      "Collecting mnist\r\n",
      "  Downloading mnist-0.2.2-py2.py3-none-any.whl (3.5 kB)\r\n"
     ]
    },
    {
     "name": "stdout",
     "output_type": "stream",
     "text": [
      "Requirement already satisfied: numpy in /opt/hostedtoolcache/Python/3.6.15/x64/lib/python3.6/site-packages (from mnist) (1.19.5)\r\n"
     ]
    },
    {
     "name": "stdout",
     "output_type": "stream",
     "text": [
      "Installing collected packages: mnist\r\n"
     ]
    },
    {
     "name": "stdout",
     "output_type": "stream",
     "text": [
      "Successfully installed mnist-0.2.2\r\n"
     ]
    }
   ],
   "source": [
    "!pip install mnist"
   ]
  },
  {
   "cell_type": "markdown",
   "id": "69df9c9a",
   "metadata": {
    "papermill": {
     "duration": 0.022455,
     "end_time": "2022-01-10T00:24:59.757192",
     "exception": false,
     "start_time": "2022-01-10T00:24:59.734737",
     "status": "completed"
    },
    "tags": []
   },
   "source": [
    "## Preparing the Data"
   ]
  },
  {
   "cell_type": "code",
   "execution_count": 4,
   "id": "7f69d806",
   "metadata": {
    "execution": {
     "iopub.execute_input": "2022-01-10T00:24:59.805705Z",
     "iopub.status.busy": "2022-01-10T00:24:59.805213Z",
     "iopub.status.idle": "2022-01-10T00:24:59.819443Z",
     "shell.execute_reply": "2022-01-10T00:24:59.819022Z"
    },
    "papermill": {
     "duration": 0.040064,
     "end_time": "2022-01-10T00:24:59.819553",
     "exception": false,
     "start_time": "2022-01-10T00:24:59.779489",
     "status": "completed"
    },
    "tags": []
   },
   "outputs": [],
   "source": [
    "import mnist"
   ]
  },
  {
   "cell_type": "code",
   "execution_count": 5,
   "id": "a411e44f",
   "metadata": {
    "execution": {
     "iopub.execute_input": "2022-01-10T00:24:59.872514Z",
     "iopub.status.busy": "2022-01-10T00:24:59.872017Z",
     "iopub.status.idle": "2022-01-10T00:25:00.379791Z",
     "shell.execute_reply": "2022-01-10T00:25:00.380325Z"
    },
    "papermill": {
     "duration": 0.538393,
     "end_time": "2022-01-10T00:25:00.380487",
     "exception": false,
     "start_time": "2022-01-10T00:24:59.842094",
     "status": "completed"
    },
    "tags": []
   },
   "outputs": [],
   "source": [
    "train_images = mnist.train_images()\n",
    "train_labels = mnist.train_labels()"
   ]
  },
  {
   "cell_type": "code",
   "execution_count": 6,
   "id": "dceab3a5",
   "metadata": {
    "execution": {
     "iopub.execute_input": "2022-01-10T00:25:00.444756Z",
     "iopub.status.busy": "2022-01-10T00:25:00.440362Z",
     "iopub.status.idle": "2022-01-10T00:25:00.449368Z",
     "shell.execute_reply": "2022-01-10T00:25:00.448968Z"
    },
    "papermill": {
     "duration": 0.045509,
     "end_time": "2022-01-10T00:25:00.449475",
     "exception": false,
     "start_time": "2022-01-10T00:25:00.403966",
     "status": "completed"
    },
    "tags": []
   },
   "outputs": [
    {
     "data": {
      "text/plain": [
       "((60000, 28, 28), (60000,))"
      ]
     },
     "execution_count": 6,
     "metadata": {},
     "output_type": "execute_result"
    }
   ],
   "source": [
    "train_images.shape, train_labels.shape"
   ]
  },
  {
   "cell_type": "code",
   "execution_count": 7,
   "id": "f50dc2bb",
   "metadata": {
    "execution": {
     "iopub.execute_input": "2022-01-10T00:25:00.498207Z",
     "iopub.status.busy": "2022-01-10T00:25:00.497732Z",
     "iopub.status.idle": "2022-01-10T00:25:00.651656Z",
     "shell.execute_reply": "2022-01-10T00:25:00.651100Z"
    },
    "papermill": {
     "duration": 0.179785,
     "end_time": "2022-01-10T00:25:00.651801",
     "exception": false,
     "start_time": "2022-01-10T00:25:00.472016",
     "status": "completed"
    },
    "tags": []
   },
   "outputs": [],
   "source": [
    "test_images = mnist.test_images()\n",
    "test_labels = mnist.test_labels()"
   ]
  },
  {
   "cell_type": "code",
   "execution_count": 8,
   "id": "fc38cf1b",
   "metadata": {
    "execution": {
     "iopub.execute_input": "2022-01-10T00:25:00.712403Z",
     "iopub.status.busy": "2022-01-10T00:25:00.711450Z",
     "iopub.status.idle": "2022-01-10T00:25:00.718330Z",
     "shell.execute_reply": "2022-01-10T00:25:00.718698Z"
    },
    "papermill": {
     "duration": 0.042449,
     "end_time": "2022-01-10T00:25:00.718821",
     "exception": false,
     "start_time": "2022-01-10T00:25:00.676372",
     "status": "completed"
    },
    "tags": []
   },
   "outputs": [
    {
     "data": {
      "text/plain": [
       "((10000, 28, 28), (10000,))"
      ]
     },
     "execution_count": 8,
     "metadata": {},
     "output_type": "execute_result"
    }
   ],
   "source": [
    "test_images.shape, test_labels.shape"
   ]
  },
  {
   "cell_type": "code",
   "execution_count": 9,
   "id": "f9ed8fe0",
   "metadata": {
    "execution": {
     "iopub.execute_input": "2022-01-10T00:25:00.794038Z",
     "iopub.status.busy": "2022-01-10T00:25:00.775092Z",
     "iopub.status.idle": "2022-01-10T00:25:00.903329Z",
     "shell.execute_reply": "2022-01-10T00:25:00.904018Z"
    },
    "papermill": {
     "duration": 0.162592,
     "end_time": "2022-01-10T00:25:00.904161",
     "exception": false,
     "start_time": "2022-01-10T00:25:00.741569",
     "status": "completed"
    },
    "tags": []
   },
   "outputs": [
    {
     "name": "stdout",
     "output_type": "stream",
     "text": [
      "2\n"
     ]
    },
    {
     "data": {
      "text/plain": [
       "<matplotlib.image.AxesImage at 0x7f116c953470>"
      ]
     },
     "execution_count": 9,
     "metadata": {},
     "output_type": "execute_result"
    },
    {
     "data": {
      "image/png": "[encoded data removed]",
      "text/plain": [
       "<Figure size 432x288 with 1 Axes>"
      ]
     },
     "metadata": {
      "needs_background": "light"
     },
     "output_type": "display_data"
    }
   ],
   "source": [
    "image_index = 7776 # You may select anything up to 60,000\n",
    "print(train_labels[image_index]) \n",
    "plt.imshow(train_images[image_index], cmap='Greys')"
   ]
  },
  {
   "cell_type": "markdown",
   "id": "a8d2388d",
   "metadata": {
    "papermill": {
     "duration": 0.023779,
     "end_time": "2022-01-10T00:25:00.951826",
     "exception": false,
     "start_time": "2022-01-10T00:25:00.928047",
     "status": "completed"
    },
    "tags": []
   },
   "source": [
    "## Filter data to get 3 and 8 out"
   ]
  },
  {
   "cell_type": "code",
   "execution_count": 10,
   "id": "776f7fc7",
   "metadata": {
    "execution": {
     "iopub.execute_input": "2022-01-10T00:25:01.012452Z",
     "iopub.status.busy": "2022-01-10T00:25:01.002719Z",
     "iopub.status.idle": "2022-01-10T00:25:01.024129Z",
     "shell.execute_reply": "2022-01-10T00:25:01.023726Z"
    },
    "papermill": {
     "duration": 0.048759,
     "end_time": "2022-01-10T00:25:01.024244",
     "exception": false,
     "start_time": "2022-01-10T00:25:00.975485",
     "status": "completed"
    },
    "tags": []
   },
   "outputs": [],
   "source": [
    "train_filter = np.where((train_labels == 3 ) | (train_labels == 8))\n",
    "test_filter = np.where((test_labels == 3) | (test_labels == 8))\n",
    "X_train, y_train = train_images[train_filter], train_labels[train_filter]\n",
    "X_test, y_test = test_images[test_filter], test_labels[test_filter]"
   ]
  },
  {
   "cell_type": "markdown",
   "id": "948f0b7e",
   "metadata": {
    "papermill": {
     "duration": 0.023737,
     "end_time": "2022-01-10T00:25:01.071892",
     "exception": false,
     "start_time": "2022-01-10T00:25:01.048155",
     "status": "completed"
    },
    "tags": []
   },
   "source": [
    "We normalize the pizel values in the 0 to 1 range"
   ]
  },
  {
   "cell_type": "code",
   "execution_count": 11,
   "id": "ee4c2166",
   "metadata": {
    "execution": {
     "iopub.execute_input": "2022-01-10T00:25:01.122955Z",
     "iopub.status.busy": "2022-01-10T00:25:01.122464Z",
     "iopub.status.idle": "2022-01-10T00:25:01.168034Z",
     "shell.execute_reply": "2022-01-10T00:25:01.167559Z"
    },
    "papermill": {
     "duration": 0.072727,
     "end_time": "2022-01-10T00:25:01.168156",
     "exception": false,
     "start_time": "2022-01-10T00:25:01.095429",
     "status": "completed"
    },
    "tags": []
   },
   "outputs": [],
   "source": [
    "X_train = X_train/255.\n",
    "X_test = X_test/255."
   ]
  },
  {
   "cell_type": "markdown",
   "id": "ddcf4fab",
   "metadata": {
    "papermill": {
     "duration": 0.023656,
     "end_time": "2022-01-10T00:25:01.215923",
     "exception": false,
     "start_time": "2022-01-10T00:25:01.192267",
     "status": "completed"
    },
    "tags": []
   },
   "source": [
    "And setup the labels as 1 (when the digit is 3) and 0 (when the digit is 8)"
   ]
  },
  {
   "cell_type": "code",
   "execution_count": 12,
   "id": "7dc908f2",
   "metadata": {
    "execution": {
     "iopub.execute_input": "2022-01-10T00:25:01.269034Z",
     "iopub.status.busy": "2022-01-10T00:25:01.268549Z",
     "iopub.status.idle": "2022-01-10T00:25:01.278426Z",
     "shell.execute_reply": "2022-01-10T00:25:01.278800Z"
    },
    "papermill": {
     "duration": 0.039391,
     "end_time": "2022-01-10T00:25:01.278931",
     "exception": false,
     "start_time": "2022-01-10T00:25:01.239540",
     "status": "completed"
    },
    "tags": []
   },
   "outputs": [],
   "source": [
    "y_train = 1*(y_train==3)\n",
    "y_test = 1*(y_test==3)"
   ]
  },
  {
   "cell_type": "code",
   "execution_count": 13,
   "id": "01e4e969",
   "metadata": {
    "execution": {
     "iopub.execute_input": "2022-01-10T00:25:01.340751Z",
     "iopub.status.busy": "2022-01-10T00:25:01.339461Z",
     "iopub.status.idle": "2022-01-10T00:25:01.345982Z",
     "shell.execute_reply": "2022-01-10T00:25:01.345606Z"
    },
    "papermill": {
     "duration": 0.043336,
     "end_time": "2022-01-10T00:25:01.346091",
     "exception": false,
     "start_time": "2022-01-10T00:25:01.302755",
     "status": "completed"
    },
    "tags": []
   },
   "outputs": [
    {
     "data": {
      "text/plain": [
       "((11982, 28, 28), (1984, 28, 28))"
      ]
     },
     "execution_count": 13,
     "metadata": {},
     "output_type": "execute_result"
    }
   ],
   "source": [
    "X_train.shape, X_test.shape"
   ]
  },
  {
   "cell_type": "markdown",
   "id": "5ccf3f85",
   "metadata": {
    "papermill": {
     "duration": 0.023766,
     "end_time": "2022-01-10T00:25:01.393794",
     "exception": false,
     "start_time": "2022-01-10T00:25:01.370028",
     "status": "completed"
    },
    "tags": []
   },
   "source": [
    "We reshape the data to flatten the image pixels into a set of features or co-variates:"
   ]
  },
  {
   "cell_type": "code",
   "execution_count": 14,
   "id": "5286a4a3",
   "metadata": {
    "execution": {
     "iopub.execute_input": "2022-01-10T00:25:01.445801Z",
     "iopub.status.busy": "2022-01-10T00:25:01.445321Z",
     "iopub.status.idle": "2022-01-10T00:25:01.459448Z",
     "shell.execute_reply": "2022-01-10T00:25:01.459050Z"
    },
    "papermill": {
     "duration": 0.041709,
     "end_time": "2022-01-10T00:25:01.459555",
     "exception": false,
     "start_time": "2022-01-10T00:25:01.417846",
     "status": "completed"
    },
    "tags": []
   },
   "outputs": [
    {
     "data": {
      "text/plain": [
       "((11982, 784), (1984, 784))"
      ]
     },
     "execution_count": 14,
     "metadata": {},
     "output_type": "execute_result"
    }
   ],
   "source": [
    "X_train = X_train.reshape(X_train.shape[0], -1)\n",
    "X_test = X_test.reshape(X_test.shape[0], -1)\n",
    "X_train.shape, X_test.shape"
   ]
  },
  {
   "cell_type": "code",
   "execution_count": 15,
   "id": "73c5f88a",
   "metadata": {
    "execution": {
     "iopub.execute_input": "2022-01-10T00:25:01.512116Z",
     "iopub.status.busy": "2022-01-10T00:25:01.511623Z",
     "iopub.status.idle": "2022-01-10T00:25:01.529567Z",
     "shell.execute_reply": "2022-01-10T00:25:01.529169Z"
    },
    "papermill": {
     "duration": 0.045932,
     "end_time": "2022-01-10T00:25:01.529678",
     "exception": false,
     "start_time": "2022-01-10T00:25:01.483746",
     "status": "completed"
    },
    "tags": []
   },
   "outputs": [],
   "source": [
    "#Impoting functions from 'Kudzu'\n",
    "from kudzu.model import Model\n",
    "from kudzu.train import Learner\n",
    "from kudzu.optim import GD\n",
    "from kudzu.data import Data, Sampler,Dataloader\n",
    "\n",
    "from kudzu.callbacks import AccCallback\n",
    "from kudzu.callbacks import ClfCallback\n",
    "\n",
    "from kudzu.loss import MSE\n",
    "\n",
    "from kudzu.layer import Sigmoid,Relu\n",
    "from kudzu.layer import Affine"
   ]
  },
  {
   "cell_type": "markdown",
   "id": "bc01172a",
   "metadata": {
    "papermill": {
     "duration": 0.024206,
     "end_time": "2022-01-10T00:25:01.578401",
     "exception": false,
     "start_time": "2022-01-10T00:25:01.554195",
     "status": "completed"
    },
    "tags": []
   },
   "source": [
    "### Let us create a `Config` class, to store important parameters. \n",
    "This class essentially plays the role of a dictionary."
   ]
  },
  {
   "cell_type": "code",
   "execution_count": 16,
   "id": "978281aa",
   "metadata": {
    "execution": {
     "iopub.execute_input": "2022-01-10T00:25:01.636481Z",
     "iopub.status.busy": "2022-01-10T00:25:01.635966Z",
     "iopub.status.idle": "2022-01-10T00:25:01.644289Z",
     "shell.execute_reply": "2022-01-10T00:25:01.644736Z"
    },
    "papermill": {
     "duration": 0.042442,
     "end_time": "2022-01-10T00:25:01.644864",
     "exception": false,
     "start_time": "2022-01-10T00:25:01.602422",
     "status": "completed"
    },
    "tags": []
   },
   "outputs": [],
   "source": [
    "class Config:\n",
    "    pass\n",
    "config = Config()\n",
    "config.lr = 0.001\n",
    "config.num_epochs = 250\n",
    "config.bs = 50"
   ]
  },
  {
   "cell_type": "markdown",
   "id": "1385fa59",
   "metadata": {
    "papermill": {
     "duration": 0.024234,
     "end_time": "2022-01-10T00:25:01.693390",
     "exception": false,
     "start_time": "2022-01-10T00:25:01.669156",
     "status": "completed"
    },
    "tags": []
   },
   "source": [
    "### Running Models with the Training data\n",
    "Details about the network layers:\n",
    "- A first affine layer has 784 inputs and does 100 affine transforms. These are followed by a Relu\n",
    "- A second affine layer has 100 inputs from the 100 activations of the past layer, and does 100 affine transforms. These are followed by a Relu\n",
    "- A third affine layer has 100 activations and does 2 affine transformations to create an embedding for visualization. There is no non-linearity here.\n",
    "- A final \"logistic regression\" which has an affine transform from 2 inputs to 1 output, which is squeezed through a sigmoid.\n"
   ]
  },
  {
   "cell_type": "code",
   "execution_count": 17,
   "id": "2b9c66db",
   "metadata": {
    "execution": {
     "iopub.execute_input": "2022-01-10T00:25:01.749039Z",
     "iopub.status.busy": "2022-01-10T00:25:01.748541Z",
     "iopub.status.idle": "2022-01-10T00:25:01.758265Z",
     "shell.execute_reply": "2022-01-10T00:25:01.758615Z"
    },
    "papermill": {
     "duration": 0.040592,
     "end_time": "2022-01-10T00:25:01.758746",
     "exception": false,
     "start_time": "2022-01-10T00:25:01.718154",
     "status": "completed"
    },
    "tags": []
   },
   "outputs": [],
   "source": [
    "data = Data(X_train, y_train.reshape(-1,1))\n",
    "sampler = Sampler(data, config.bs, shuffle=True)\n",
    "\n",
    "dl = Dataloader(data, sampler)\n",
    "\n",
    "opt = GD(config.lr)\n",
    "loss = MSE()"
   ]
  },
  {
   "cell_type": "code",
   "execution_count": 18,
   "id": "b275e4c2",
   "metadata": {
    "execution": {
     "iopub.execute_input": "2022-01-10T00:25:01.820587Z",
     "iopub.status.busy": "2022-01-10T00:25:01.810735Z",
     "iopub.status.idle": "2022-01-10T00:25:01.825612Z",
     "shell.execute_reply": "2022-01-10T00:25:01.825961Z"
    },
    "papermill": {
     "duration": 0.042992,
     "end_time": "2022-01-10T00:25:01.826095",
     "exception": false,
     "start_time": "2022-01-10T00:25:01.783103",
     "status": "completed"
    },
    "tags": []
   },
   "outputs": [],
   "source": [
    "training_data_x = X_train\n",
    "testing_data_x = X_test\n",
    "training_data_y = y_train.reshape(-1,1)\n",
    "testing_data_y = y_test.reshape(-1,1)"
   ]
  },
  {
   "cell_type": "code",
   "execution_count": 19,
   "id": "76951160",
   "metadata": {
    "execution": {
     "iopub.execute_input": "2022-01-10T00:25:01.888570Z",
     "iopub.status.busy": "2022-01-10T00:25:01.881695Z",
     "iopub.status.idle": "2022-01-10T00:25:01.896241Z",
     "shell.execute_reply": "2022-01-10T00:25:01.896587Z"
    },
    "papermill": {
     "duration": 0.046377,
     "end_time": "2022-01-10T00:25:01.896719",
     "exception": false,
     "start_time": "2022-01-10T00:25:01.850342",
     "status": "completed"
    },
    "tags": []
   },
   "outputs": [
    {
     "name": "stdout",
     "output_type": "stream",
     "text": [
      "xavier\n",
      "xavier\n",
      "xavier\n",
      "xavier\n",
      "xavier\n"
     ]
    }
   ],
   "source": [
    "layers = [Affine(\"first\", 784, 100), Relu(\"first\"), Affine(\"second\", 100, 100), Relu(\"second\"), Affine(\"third\", 100, 2), Affine(\"last\", 2, 1), Sigmoid(\"last\")]\n",
    "model_nn = Model(layers)\n",
    "model_lr = Model([Affine(\"logits\", 784, 1), Sigmoid(\"sigmoid\")])"
   ]
  },
  {
   "cell_type": "code",
   "execution_count": 20,
   "id": "6eede77a",
   "metadata": {
    "execution": {
     "iopub.execute_input": "2022-01-10T00:25:01.951552Z",
     "iopub.status.busy": "2022-01-10T00:25:01.951061Z",
     "iopub.status.idle": "2022-01-10T00:25:01.962819Z",
     "shell.execute_reply": "2022-01-10T00:25:01.962439Z"
    },
    "papermill": {
     "duration": 0.041698,
     "end_time": "2022-01-10T00:25:01.962931",
     "exception": false,
     "start_time": "2022-01-10T00:25:01.921233",
     "status": "completed"
    },
    "tags": []
   },
   "outputs": [],
   "source": [
    "nn_learner = Learner(loss, model_nn, opt, config.num_epochs)\n",
    "acc_nn = ClfCallback(nn_learner, config.bs, training_data_x , testing_data_x, training_data_y, testing_data_y)\n",
    "nn_learner.set_callbacks([acc_nn])"
   ]
  },
  {
   "cell_type": "code",
   "execution_count": 21,
   "id": "877b6cc7",
   "metadata": {
    "execution": {
     "iopub.execute_input": "2022-01-10T00:25:02.018993Z",
     "iopub.status.busy": "2022-01-10T00:25:02.018539Z",
     "iopub.status.idle": "2022-01-10T00:25:02.027044Z",
     "shell.execute_reply": "2022-01-10T00:25:02.026652Z"
    },
    "papermill": {
     "duration": 0.040018,
     "end_time": "2022-01-10T00:25:02.027146",
     "exception": false,
     "start_time": "2022-01-10T00:25:01.987128",
     "status": "completed"
    },
    "tags": []
   },
   "outputs": [],
   "source": [
    "lr_learner = Learner(loss, model_lr, opt, config.num_epochs)\n",
    "acc_lr = ClfCallback(lr_learner, config.bs, training_data_x , testing_data_x, training_data_y, testing_data_y)\n",
    "lr_learner.set_callbacks([acc_lr])"
   ]
  },
  {
   "cell_type": "code",
   "execution_count": 22,
   "id": "d9b133c3",
   "metadata": {
    "execution": {
     "iopub.execute_input": "2022-01-10T00:25:02.079046Z",
     "iopub.status.busy": "2022-01-10T00:25:02.078587Z",
     "iopub.status.idle": "2022-01-10T00:26:16.748734Z",
     "shell.execute_reply": "2022-01-10T00:26:16.749397Z"
    },
    "papermill": {
     "duration": 74.69819,
     "end_time": "2022-01-10T00:26:16.749540",
     "exception": false,
     "start_time": "2022-01-10T00:25:02.051350",
     "status": "completed"
    },
    "tags": []
   },
   "outputs": [
    {
     "name": "stdout",
     "output_type": "stream",
     "text": [
      "Epoch 0, Loss 0.2501\n",
      "Training Accuracy: 0.5704, Testing Accuracy: 0.5711\n",
      "\n"
     ]
    },
    {
     "name": "stdout",
     "output_type": "stream",
     "text": [
      "Epoch 10, Loss 0.1516\n",
      "Training Accuracy: 0.9019, Testing Accuracy: 0.9078\n",
      "\n"
     ]
    },
    {
     "name": "stdout",
     "output_type": "stream",
     "text": [
      "Epoch 20, Loss 0.0747\n",
      "Training Accuracy: 0.9296, Testing Accuracy: 0.9390\n",
      "\n"
     ]
    },
    {
     "name": "stdout",
     "output_type": "stream",
     "text": [
      "Epoch 30, Loss 0.0529\n",
      "Training Accuracy: 0.9432, Testing Accuracy: 0.9541\n",
      "\n"
     ]
    },
    {
     "name": "stdout",
     "output_type": "stream",
     "text": [
      "Epoch 40, Loss 0.0437\n",
      "Training Accuracy: 0.9521, Testing Accuracy: 0.9597\n",
      "\n"
     ]
    },
    {
     "name": "stdout",
     "output_type": "stream",
     "text": [
      "Epoch 50, Loss 0.0386\n",
      "Training Accuracy: 0.9567, Testing Accuracy: 0.9642\n",
      "\n"
     ]
    },
    {
     "name": "stdout",
     "output_type": "stream",
     "text": [
      "Epoch 60, Loss 0.0354\n",
      "Training Accuracy: 0.9595, Testing Accuracy: 0.9657\n",
      "\n"
     ]
    },
    {
     "name": "stdout",
     "output_type": "stream",
     "text": [
      "Epoch 70, Loss 0.0331\n",
      "Training Accuracy: 0.9629, Testing Accuracy: 0.9662\n",
      "\n"
     ]
    },
    {
     "name": "stdout",
     "output_type": "stream",
     "text": [
      "Epoch 80, Loss 0.0315\n",
      "Training Accuracy: 0.9639, Testing Accuracy: 0.9662\n",
      "\n"
     ]
    },
    {
     "name": "stdout",
     "output_type": "stream",
     "text": [
      "Epoch 90, Loss 0.0301\n",
      "Training Accuracy: 0.9652, Testing Accuracy: 0.9682\n",
      "\n"
     ]
    },
    {
     "name": "stdout",
     "output_type": "stream",
     "text": [
      "Epoch 100, Loss 0.029\n",
      "Training Accuracy: 0.9658, Testing Accuracy: 0.9682\n",
      "\n"
     ]
    },
    {
     "name": "stdout",
     "output_type": "stream",
     "text": [
      "Epoch 110, Loss 0.0281\n",
      "Training Accuracy: 0.9669, Testing Accuracy: 0.9677\n",
      "\n"
     ]
    },
    {
     "name": "stdout",
     "output_type": "stream",
     "text": [
      "Epoch 120, Loss 0.0273\n",
      "Training Accuracy: 0.9675, Testing Accuracy: 0.9677\n",
      "\n"
     ]
    },
    {
     "name": "stdout",
     "output_type": "stream",
     "text": [
      "Epoch 130, Loss 0.0267\n",
      "Training Accuracy: 0.9688, Testing Accuracy: 0.9672\n",
      "\n"
     ]
    },
    {
     "name": "stdout",
     "output_type": "stream",
     "text": [
      "Epoch 140, Loss 0.026\n",
      "Training Accuracy: 0.9695, Testing Accuracy: 0.9688\n",
      "\n"
     ]
    },
    {
     "name": "stdout",
     "output_type": "stream",
     "text": [
      "Epoch 150, Loss 0.0255\n",
      "Training Accuracy: 0.9705, Testing Accuracy: 0.9682\n",
      "\n"
     ]
    },
    {
     "name": "stdout",
     "output_type": "stream",
     "text": [
      "Epoch 160, Loss 0.0249\n",
      "Training Accuracy: 0.9711, Testing Accuracy: 0.9688\n",
      "\n"
     ]
    },
    {
     "name": "stdout",
     "output_type": "stream",
     "text": [
      "Epoch 170, Loss 0.0245\n",
      "Training Accuracy: 0.9719, Testing Accuracy: 0.9693\n",
      "\n"
     ]
    },
    {
     "name": "stdout",
     "output_type": "stream",
     "text": [
      "Epoch 180, Loss 0.024\n",
      "Training Accuracy: 0.9727, Testing Accuracy: 0.9688\n",
      "\n"
     ]
    },
    {
     "name": "stdout",
     "output_type": "stream",
     "text": [
      "Epoch 190, Loss 0.0236\n",
      "Training Accuracy: 0.9730, Testing Accuracy: 0.9688\n",
      "\n"
     ]
    },
    {
     "name": "stdout",
     "output_type": "stream",
     "text": [
      "Epoch 200, Loss 0.0231\n",
      "Training Accuracy: 0.9733, Testing Accuracy: 0.9688\n",
      "\n"
     ]
    },
    {
     "name": "stdout",
     "output_type": "stream",
     "text": [
      "Epoch 210, Loss 0.0228\n",
      "Training Accuracy: 0.9736, Testing Accuracy: 0.9703\n",
      "\n"
     ]
    },
    {
     "name": "stdout",
     "output_type": "stream",
     "text": [
      "Epoch 220, Loss 0.0224\n",
      "Training Accuracy: 0.9737, Testing Accuracy: 0.9703\n",
      "\n"
     ]
    },
    {
     "name": "stdout",
     "output_type": "stream",
     "text": [
      "Epoch 230, Loss 0.022\n",
      "Training Accuracy: 0.9743, Testing Accuracy: 0.9708\n",
      "\n"
     ]
    },
    {
     "name": "stdout",
     "output_type": "stream",
     "text": [
      "Epoch 240, Loss 0.0217\n",
      "Training Accuracy: 0.9749, Testing Accuracy: 0.9718\n",
      "\n"
     ]
    },
    {
     "data": {
      "text/plain": [
       "0.002545687588963968"
      ]
     },
     "execution_count": 22,
     "metadata": {},
     "output_type": "execute_result"
    }
   ],
   "source": [
    "nn_learner.train_loop(dl)"
   ]
  },
  {
   "cell_type": "code",
   "execution_count": 23,
   "id": "e0163366",
   "metadata": {
    "execution": {
     "iopub.execute_input": "2022-01-10T00:26:16.820934Z",
     "iopub.status.busy": "2022-01-10T00:26:16.820464Z",
     "iopub.status.idle": "2022-01-10T00:26:29.686029Z",
     "shell.execute_reply": "2022-01-10T00:26:29.686706Z"
    },
    "papermill": {
     "duration": 12.906286,
     "end_time": "2022-01-10T00:26:29.686848",
     "exception": false,
     "start_time": "2022-01-10T00:26:16.780562",
     "status": "completed"
    },
    "tags": []
   },
   "outputs": [
    {
     "name": "stdout",
     "output_type": "stream",
     "text": [
      "Epoch 0, Loss 0.236\n",
      "Training Accuracy: 0.7243, Testing Accuracy: 0.7359\n",
      "\n"
     ]
    },
    {
     "name": "stdout",
     "output_type": "stream",
     "text": [
      "Epoch 10, Loss 0.1024\n",
      "Training Accuracy: 0.9104, Testing Accuracy: 0.9244\n",
      "\n"
     ]
    },
    {
     "name": "stdout",
     "output_type": "stream",
     "text": [
      "Epoch 20, Loss 0.0788\n",
      "Training Accuracy: 0.9280, Testing Accuracy: 0.9410\n",
      "\n"
     ]
    },
    {
     "name": "stdout",
     "output_type": "stream",
     "text": [
      "Epoch 30, Loss 0.068\n",
      "Training Accuracy: 0.9357, Testing Accuracy: 0.9446\n",
      "\n"
     ]
    },
    {
     "name": "stdout",
     "output_type": "stream",
     "text": [
      "Epoch 40, Loss 0.0615\n",
      "Training Accuracy: 0.9410, Testing Accuracy: 0.9511\n",
      "\n"
     ]
    },
    {
     "name": "stdout",
     "output_type": "stream",
     "text": [
      "Epoch 50, Loss 0.057\n",
      "Training Accuracy: 0.9445, Testing Accuracy: 0.9516\n",
      "\n"
     ]
    },
    {
     "name": "stdout",
     "output_type": "stream",
     "text": [
      "Epoch 60, Loss 0.0537\n",
      "Training Accuracy: 0.9464, Testing Accuracy: 0.9551\n",
      "\n"
     ]
    },
    {
     "name": "stdout",
     "output_type": "stream",
     "text": [
      "Epoch 70, Loss 0.0512\n",
      "Training Accuracy: 0.9486, Testing Accuracy: 0.9572\n",
      "\n"
     ]
    },
    {
     "name": "stdout",
     "output_type": "stream",
     "text": [
      "Epoch 80, Loss 0.0491\n",
      "Training Accuracy: 0.9501, Testing Accuracy: 0.9597\n",
      "\n"
     ]
    },
    {
     "name": "stdout",
     "output_type": "stream",
     "text": [
      "Epoch 90, Loss 0.0474\n",
      "Training Accuracy: 0.9521, Testing Accuracy: 0.9597\n",
      "\n"
     ]
    },
    {
     "name": "stdout",
     "output_type": "stream",
     "text": [
      "Epoch 100, Loss 0.046\n",
      "Training Accuracy: 0.9532, Testing Accuracy: 0.9612\n",
      "\n"
     ]
    },
    {
     "name": "stdout",
     "output_type": "stream",
     "text": [
      "Epoch 110, Loss 0.0448\n",
      "Training Accuracy: 0.9547, Testing Accuracy: 0.9617\n",
      "\n"
     ]
    },
    {
     "name": "stdout",
     "output_type": "stream",
     "text": [
      "Epoch 120, Loss 0.0437\n",
      "Training Accuracy: 0.9550, Testing Accuracy: 0.9627\n",
      "\n"
     ]
    },
    {
     "name": "stdout",
     "output_type": "stream",
     "text": [
      "Epoch 130, Loss 0.0428\n",
      "Training Accuracy: 0.9564, Testing Accuracy: 0.9637\n",
      "\n"
     ]
    },
    {
     "name": "stdout",
     "output_type": "stream",
     "text": [
      "Epoch 140, Loss 0.0419\n",
      "Training Accuracy: 0.9568, Testing Accuracy: 0.9642\n",
      "\n"
     ]
    },
    {
     "name": "stdout",
     "output_type": "stream",
     "text": [
      "Epoch 150, Loss 0.0412\n",
      "Training Accuracy: 0.9577, Testing Accuracy: 0.9642\n",
      "\n"
     ]
    },
    {
     "name": "stdout",
     "output_type": "stream",
     "text": [
      "Epoch 160, Loss 0.0405\n",
      "Training Accuracy: 0.9586, Testing Accuracy: 0.9642\n",
      "\n"
     ]
    },
    {
     "name": "stdout",
     "output_type": "stream",
     "text": [
      "Epoch 170, Loss 0.0399\n",
      "Training Accuracy: 0.9588, Testing Accuracy: 0.9642\n",
      "\n"
     ]
    },
    {
     "name": "stdout",
     "output_type": "stream",
     "text": [
      "Epoch 180, Loss 0.0393\n",
      "Training Accuracy: 0.9594, Testing Accuracy: 0.9642\n",
      "\n"
     ]
    },
    {
     "name": "stdout",
     "output_type": "stream",
     "text": [
      "Epoch 190, Loss 0.0388\n",
      "Training Accuracy: 0.9597, Testing Accuracy: 0.9652\n",
      "\n"
     ]
    },
    {
     "name": "stdout",
     "output_type": "stream",
     "text": [
      "Epoch 200, Loss 0.0383\n",
      "Training Accuracy: 0.9601, Testing Accuracy: 0.9652\n",
      "\n"
     ]
    },
    {
     "name": "stdout",
     "output_type": "stream",
     "text": [
      "Epoch 210, Loss 0.0379\n",
      "Training Accuracy: 0.9607, Testing Accuracy: 0.9652\n",
      "\n"
     ]
    },
    {
     "name": "stdout",
     "output_type": "stream",
     "text": [
      "Epoch 220, Loss 0.0375\n",
      "Training Accuracy: 0.9613, Testing Accuracy: 0.9652\n",
      "\n"
     ]
    },
    {
     "name": "stdout",
     "output_type": "stream",
     "text": [
      "Epoch 230, Loss 0.0371\n",
      "Training Accuracy: 0.9615, Testing Accuracy: 0.9652\n",
      "\n"
     ]
    },
    {
     "name": "stdout",
     "output_type": "stream",
     "text": [
      "Epoch 240, Loss 0.0367\n",
      "Training Accuracy: 0.9617, Testing Accuracy: 0.9652\n",
      "\n"
     ]
    },
    {
     "data": {
      "text/plain": [
       "0.05633329794529461"
      ]
     },
     "execution_count": 23,
     "metadata": {},
     "output_type": "execute_result"
    }
   ],
   "source": [
    "lr_learner.train_loop(dl)"
   ]
  },
  {
   "cell_type": "code",
   "execution_count": 24,
   "id": "ca410940",
   "metadata": {
    "execution": {
     "iopub.execute_input": "2022-01-10T00:26:29.769244Z",
     "iopub.status.busy": "2022-01-10T00:26:29.768767Z",
     "iopub.status.idle": "2022-01-10T00:26:29.980696Z",
     "shell.execute_reply": "2022-01-10T00:26:29.981071Z"
    },
    "papermill": {
     "duration": 0.257062,
     "end_time": "2022-01-10T00:26:29.981200",
     "exception": false,
     "start_time": "2022-01-10T00:26:29.724138",
     "status": "completed"
    },
    "tags": []
   },
   "outputs": [
    {
     "data": {
      "text/plain": [
       "<matplotlib.legend.Legend at 0x7f116c530a58>"
      ]
     },
     "execution_count": 24,
     "metadata": {},
     "output_type": "execute_result"
    },
    {
     "data": {
      "image/png": "[encoded data removed]",
      "text/plain": [
       "<Figure size 1080x720 with 1 Axes>"
      ]
     },
     "metadata": {
      "needs_background": "light"
     },
     "output_type": "display_data"
    }
   ],
   "source": [
    "#comparing the results of NN and LR\n",
    "plt.figure(figsize=(15,10))\n",
    "\n",
    "# Neural Network plots\n",
    "plt.plot(acc_nn.accuracies, 'r-', label = \"Training Accuracies - NN\")\n",
    "plt.plot(acc_nn.test_accuracies, 'g-', label = \"Testing Accuracies - NN\")\n",
    "\n",
    "# Logistic Regression plots\n",
    "plt.plot(acc_lr.accuracies, 'k-', label = \"Training Accuracies - LR\")\n",
    "plt.plot(acc_lr.test_accuracies, 'b-', label = \"Testing Accuracies - LR\")\n",
    "plt.legend()"
   ]
  },
  {
   "cell_type": "markdown",
   "id": "80dfb35c",
   "metadata": {
    "papermill": {
     "duration": 0.037581,
     "end_time": "2022-01-10T00:26:30.059119",
     "exception": false,
     "start_time": "2022-01-10T00:26:30.021538",
     "status": "completed"
    },
    "tags": []
   },
   "source": [
    "#### Plotting the outputs of this layer of the NN.\n"
   ]
  },
  {
   "cell_type": "code",
   "execution_count": 25,
   "id": "45eb2ff5",
   "metadata": {
    "execution": {
     "iopub.execute_input": "2022-01-10T00:26:30.138008Z",
     "iopub.status.busy": "2022-01-10T00:26:30.137531Z",
     "iopub.status.idle": "2022-01-10T00:26:30.155657Z",
     "shell.execute_reply": "2022-01-10T00:26:30.156046Z"
    },
    "papermill": {
     "duration": 0.059572,
     "end_time": "2022-01-10T00:26:30.156174",
     "exception": false,
     "start_time": "2022-01-10T00:26:30.096602",
     "status": "completed"
    },
    "tags": []
   },
   "outputs": [],
   "source": [
    "new_model = Model(layers[:-2])\n",
    "testing_plot = new_model(testing_data_x)"
   ]
  },
  {
   "cell_type": "code",
   "execution_count": 26,
   "id": "4c0a5485",
   "metadata": {
    "execution": {
     "iopub.execute_input": "2022-01-10T00:26:30.246970Z",
     "iopub.status.busy": "2022-01-10T00:26:30.244384Z",
     "iopub.status.idle": "2022-01-10T00:26:30.416173Z",
     "shell.execute_reply": "2022-01-10T00:26:30.416543Z"
    },
    "papermill": {
     "duration": 0.22263,
     "end_time": "2022-01-10T00:26:30.416670",
     "exception": false,
     "start_time": "2022-01-10T00:26:30.194040",
     "status": "completed"
    },
    "tags": []
   },
   "outputs": [
    {
     "data": {
      "text/plain": [
       "Text(0.5, 1.0, 'Outputs')"
      ]
     },
     "execution_count": 26,
     "metadata": {},
     "output_type": "execute_result"
    },
    {
     "data": {
      "image/png": "[encoded data removed]",
      "text/plain": [
       "<Figure size 576x504 with 1 Axes>"
      ]
     },
     "metadata": {
      "needs_background": "light"
     },
     "output_type": "display_data"
    }
   ],
   "source": [
    "# Plotting the scatter plot of points and color coding by class\n",
    "plt.figure(figsize=(8,7))\n",
    "plt.scatter(testing_plot[:,0], testing_plot[:,1], alpha = 0.1, c = y_test.ravel());\n",
    "plt.title('Outputs')"
   ]
  },
  {
   "cell_type": "markdown",
   "id": "a74fcf8f",
   "metadata": {
    "papermill": {
     "duration": 0.039148,
     "end_time": "2022-01-10T00:26:30.495323",
     "exception": false,
     "start_time": "2022-01-10T00:26:30.456175",
     "status": "completed"
    },
    "tags": []
   },
   "source": [
    "Probability contours"
   ]
  },
  {
   "cell_type": "code",
   "execution_count": 27,
   "id": "d0afc8e3",
   "metadata": {
    "execution": {
     "iopub.execute_input": "2022-01-10T00:26:30.578004Z",
     "iopub.status.busy": "2022-01-10T00:26:30.577524Z",
     "iopub.status.idle": "2022-01-10T00:26:30.590020Z",
     "shell.execute_reply": "2022-01-10T00:26:30.589628Z"
    },
    "papermill": {
     "duration": 0.054966,
     "end_time": "2022-01-10T00:26:30.590121",
     "exception": false,
     "start_time": "2022-01-10T00:26:30.535155",
     "status": "completed"
    },
    "tags": []
   },
   "outputs": [],
   "source": [
    "model_prob = Model(layers[-2:]) "
   ]
  },
  {
   "cell_type": "code",
   "execution_count": 28,
   "id": "9b96e238",
   "metadata": {
    "execution": {
     "iopub.execute_input": "2022-01-10T00:26:30.697911Z",
     "iopub.status.busy": "2022-01-10T00:26:30.697446Z",
     "iopub.status.idle": "2022-01-10T00:26:30.709684Z",
     "shell.execute_reply": "2022-01-10T00:26:30.710047Z"
    },
    "papermill": {
     "duration": 0.08084,
     "end_time": "2022-01-10T00:26:30.710162",
     "exception": false,
     "start_time": "2022-01-10T00:26:30.629322",
     "status": "completed"
    },
    "tags": []
   },
   "outputs": [],
   "source": [
    "#creating the x and y ranges according to the above generated plot.\n",
    "x_range = np.linspace(-4, 1, 100) \n",
    "y_range = np.linspace(-6, 6, 100) \n",
    "x_grid, y_grid = np.meshgrid(x_range, y_range) # x_grid and y_grig are of size 100 X 100\n",
    "\n",
    "# converting x_grid and y_grid to continuous arrays\n",
    "x_gridflat = np.ravel(x_grid)\n",
    "y_gridflat = np.ravel(y_grid)\n",
    "\n",
    "# The last layer of the current model takes two columns as input. Hence transpose of np.vstack() is required.\n",
    "X = np.vstack((x_gridflat, y_gridflat)).T\n",
    "\n",
    "prob_contour = model_prob(X).reshape(100,100) "
   ]
  },
  {
   "cell_type": "code",
   "execution_count": 29,
   "id": "da72499a",
   "metadata": {
    "execution": {
     "iopub.execute_input": "2022-01-10T00:26:30.796314Z",
     "iopub.status.busy": "2022-01-10T00:26:30.794105Z",
     "iopub.status.idle": "2022-01-10T00:26:31.022630Z",
     "shell.execute_reply": "2022-01-10T00:26:31.022121Z"
    },
    "papermill": {
     "duration": 0.273077,
     "end_time": "2022-01-10T00:26:31.022763",
     "exception": false,
     "start_time": "2022-01-10T00:26:30.749686",
     "status": "completed"
    },
    "tags": []
   },
   "outputs": [
    {
     "data": {
      "image/png": "[encoded data removed]",
      "text/plain": [
       "<Figure size 720x648 with 1 Axes>"
      ]
     },
     "metadata": {
      "needs_background": "light"
     },
     "output_type": "display_data"
    }
   ],
   "source": [
    "plt.figure(figsize=(10,9))\n",
    "plt.scatter(testing_plot[:,0], testing_plot[:,1], alpha = 0.1, c = y_test.ravel())\n",
    "contours = plt.contour(x_grid,y_grid,prob_contour)\n",
    "plt.title('Probability Contours')\n",
    "plt.clabel(contours, inline = True );"
   ]
  },
  {
   "cell_type": "code",
   "execution_count": null,
   "id": "e81b4ac7",
   "metadata": {
    "papermill": {
     "duration": 0.04146,
     "end_time": "2022-01-10T00:26:31.106795",
     "exception": false,
     "start_time": "2022-01-10T00:26:31.065335",
     "status": "completed"
    },
    "tags": []
   },
   "outputs": [],
   "source": []
  }
 ],
 "metadata": {
  "kernelspec": {
   "display_name": "Python 3",
   "language": "python",
   "name": "python3"
  },
  "language_info": {
   "codemirror_mode": {
    "name": "ipython",
    "version": 3
   },
   "file_extension": ".py",
   "mimetype": "text/x-python",
   "name": "python",
   "nbconvert_exporter": "python",
   "pygments_lexer": "ipython3",
   "version": "3.6.15"
  },
  "papermill": {
   "default_parameters": {},
   "duration": 96.039993,
   "end_time": "2022-01-10T00:26:31.455721",
   "environment_variables": {},
   "exception": null,
   "input_path": "2020-08-11-part2.ipynb",
   "output_path": "2020-08-11-part2.ipynb",
   "parameters": {},
   "start_time": "2022-01-10T00:24:55.415728",
   "version": "2.3.3"
  }
 },
 "nbformat": 4,
 "nbformat_minor": 5
}