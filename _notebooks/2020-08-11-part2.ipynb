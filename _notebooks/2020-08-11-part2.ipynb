{
 "cells": [
  {
   "cell_type": "markdown",
   "id": "98380cd3",
   "metadata": {
    "papermill": {
     "duration": 0.028916,
     "end_time": "2022-05-10T20:11:41.893548",
     "exception": false,
     "start_time": "2022-05-10T20:11:41.864632",
     "status": "completed"
    },
    "tags": []
   },
   "source": [
    "# Distinguish Your Own Digits (DYOD)"
   ]
  },
  {
   "cell_type": "markdown",
   "id": "ef31240d",
   "metadata": {
    "papermill": {
     "duration": 0.02543,
     "end_time": "2022-05-10T20:11:41.943484",
     "exception": false,
     "start_time": "2022-05-10T20:11:41.918054",
     "status": "completed"
    },
    "tags": []
   },
   "source": [
    "You are going to write a classifier that distinguishes between the number 3 and number 8."
   ]
  },
  {
   "cell_type": "code",
   "execution_count": 1,
   "id": "b15c8646",
   "metadata": {
    "execution": {
     "iopub.execute_input": "2022-05-10T20:11:42.002831Z",
     "iopub.status.busy": "2022-05-10T20:11:42.002277Z",
     "iopub.status.idle": "2022-05-10T20:11:42.012742Z",
     "shell.execute_reply": "2022-05-10T20:11:42.013178Z"
    },
    "papermill": {
     "duration": 0.046012,
     "end_time": "2022-05-10T20:11:42.013392",
     "exception": false,
     "start_time": "2022-05-10T20:11:41.967380",
     "status": "completed"
    },
    "tags": []
   },
   "outputs": [],
   "source": [
    "%load_ext autoreload\n",
    "%autoreload 2"
   ]
  },
  {
   "cell_type": "code",
   "execution_count": 2,
   "id": "22ef38dc",
   "metadata": {
    "execution": {
     "iopub.execute_input": "2022-05-10T20:11:42.066686Z",
     "iopub.status.busy": "2022-05-10T20:11:42.066152Z",
     "iopub.status.idle": "2022-05-10T20:11:42.653635Z",
     "shell.execute_reply": "2022-05-10T20:11:42.653067Z"
    },
    "papermill": {
     "duration": 0.616206,
     "end_time": "2022-05-10T20:11:42.653786",
     "exception": false,
     "start_time": "2022-05-10T20:11:42.037580",
     "status": "completed"
    },
    "tags": []
   },
   "outputs": [],
   "source": [
    "%matplotlib inline\n",
    "import numpy as np\n",
    "import matplotlib.pyplot as plt\n",
    "import pandas as pd"
   ]
  },
  {
   "cell_type": "markdown",
   "id": "ba036198",
   "metadata": {
    "papermill": {
     "duration": 0.023731,
     "end_time": "2022-05-10T20:11:42.701687",
     "exception": false,
     "start_time": "2022-05-10T20:11:42.677956",
     "status": "completed"
    },
    "tags": []
   },
   "source": [
    "From the command line run `pip install mnist`. This is a library that will help you bring down the mnist dataset. If you run this from a notebook, you need to put  `!pip install mnist` in a cell by itself."
   ]
  },
  {
   "cell_type": "code",
   "execution_count": 3,
   "id": "bb6ad8a1",
   "metadata": {
    "execution": {
     "iopub.execute_input": "2022-05-10T20:11:42.754183Z",
     "iopub.status.busy": "2022-05-10T20:11:42.753659Z",
     "iopub.status.idle": "2022-05-10T20:11:44.530190Z",
     "shell.execute_reply": "2022-05-10T20:11:44.530700Z"
    },
    "papermill": {
     "duration": 1.80509,
     "end_time": "2022-05-10T20:11:44.530861",
     "exception": false,
     "start_time": "2022-05-10T20:11:42.725771",
     "status": "completed"
    },
    "tags": []
   },
   "outputs": [
    {
     "name": "stdout",
     "output_type": "stream",
     "text": [
      "Collecting mnist\r\n"
     ]
    },
    {
     "name": "stdout",
     "output_type": "stream",
     "text": [
      "  Downloading mnist-0.2.2-py2.py3-none-any.whl (3.5 kB)\r\n"
     ]
    },
    {
     "name": "stdout",
     "output_type": "stream",
     "text": [
      "Requirement already satisfied: numpy in /opt/hostedtoolcache/Python/3.6.15/x64/lib/python3.6/site-packages (from mnist) (1.19.5)\r\n"
     ]
    },
    {
     "name": "stdout",
     "output_type": "stream",
     "text": [
      "Installing collected packages: mnist\r\n",
      "Successfully installed mnist-0.2.2\r\n"
     ]
    }
   ],
   "source": [
    "!pip install mnist"
   ]
  },
  {
   "cell_type": "markdown",
   "id": "69df9c9a",
   "metadata": {
    "papermill": {
     "duration": 0.025048,
     "end_time": "2022-05-10T20:11:44.581223",
     "exception": false,
     "start_time": "2022-05-10T20:11:44.556175",
     "status": "completed"
    },
    "tags": []
   },
   "source": [
    "## Preparing the Data"
   ]
  },
  {
   "cell_type": "code",
   "execution_count": 4,
   "id": "7f69d806",
   "metadata": {
    "execution": {
     "iopub.execute_input": "2022-05-10T20:11:44.635362Z",
     "iopub.status.busy": "2022-05-10T20:11:44.634848Z",
     "iopub.status.idle": "2022-05-10T20:11:44.650165Z",
     "shell.execute_reply": "2022-05-10T20:11:44.650584Z"
    },
    "papermill": {
     "duration": 0.044416,
     "end_time": "2022-05-10T20:11:44.650732",
     "exception": false,
     "start_time": "2022-05-10T20:11:44.606316",
     "status": "completed"
    },
    "tags": []
   },
   "outputs": [],
   "source": [
    "import mnist"
   ]
  },
  {
   "cell_type": "code",
   "execution_count": 5,
   "id": "a411e44f",
   "metadata": {
    "execution": {
     "iopub.execute_input": "2022-05-10T20:11:44.705045Z",
     "iopub.status.busy": "2022-05-10T20:11:44.704517Z",
     "iopub.status.idle": "2022-05-10T20:11:45.247391Z",
     "shell.execute_reply": "2022-05-10T20:11:45.247884Z"
    },
    "papermill": {
     "duration": 0.572177,
     "end_time": "2022-05-10T20:11:45.248059",
     "exception": false,
     "start_time": "2022-05-10T20:11:44.675882",
     "status": "completed"
    },
    "tags": []
   },
   "outputs": [],
   "source": [
    "train_images = mnist.train_images()\n",
    "train_labels = mnist.train_labels()"
   ]
  },
  {
   "cell_type": "code",
   "execution_count": 6,
   "id": "dceab3a5",
   "metadata": {
    "execution": {
     "iopub.execute_input": "2022-05-10T20:11:45.306425Z",
     "iopub.status.busy": "2022-05-10T20:11:45.305867Z",
     "iopub.status.idle": "2022-05-10T20:11:45.318656Z",
     "shell.execute_reply": "2022-05-10T20:11:45.319079Z"
    },
    "papermill": {
     "duration": 0.045277,
     "end_time": "2022-05-10T20:11:45.319225",
     "exception": false,
     "start_time": "2022-05-10T20:11:45.273948",
     "status": "completed"
    },
    "tags": []
   },
   "outputs": [
    {
     "data": {
      "text/plain": [
       "((60000, 28, 28), (60000,))"
      ]
     },
     "execution_count": 6,
     "metadata": {},
     "output_type": "execute_result"
    }
   ],
   "source": [
    "train_images.shape, train_labels.shape"
   ]
  },
  {
   "cell_type": "code",
   "execution_count": 7,
   "id": "f50dc2bb",
   "metadata": {
    "execution": {
     "iopub.execute_input": "2022-05-10T20:11:45.376380Z",
     "iopub.status.busy": "2022-05-10T20:11:45.375835Z",
     "iopub.status.idle": "2022-05-10T20:11:45.536112Z",
     "shell.execute_reply": "2022-05-10T20:11:45.535583Z"
    },
    "papermill": {
     "duration": 0.191853,
     "end_time": "2022-05-10T20:11:45.536260",
     "exception": false,
     "start_time": "2022-05-10T20:11:45.344407",
     "status": "completed"
    },
    "tags": []
   },
   "outputs": [],
   "source": [
    "test_images = mnist.test_images()\n",
    "test_labels = mnist.test_labels()"
   ]
  },
  {
   "cell_type": "code",
   "execution_count": 8,
   "id": "fc38cf1b",
   "metadata": {
    "execution": {
     "iopub.execute_input": "2022-05-10T20:11:45.591700Z",
     "iopub.status.busy": "2022-05-10T20:11:45.591186Z",
     "iopub.status.idle": "2022-05-10T20:11:45.604875Z",
     "shell.execute_reply": "2022-05-10T20:11:45.604447Z"
    },
    "papermill": {
     "duration": 0.04268,
     "end_time": "2022-05-10T20:11:45.604995",
     "exception": false,
     "start_time": "2022-05-10T20:11:45.562315",
     "status": "completed"
    },
    "tags": []
   },
   "outputs": [
    {
     "data": {
      "text/plain": [
       "((10000, 28, 28), (10000,))"
      ]
     },
     "execution_count": 8,
     "metadata": {},
     "output_type": "execute_result"
    }
   ],
   "source": [
    "test_images.shape, test_labels.shape"
   ]
  },
  {
   "cell_type": "code",
   "execution_count": 9,
   "id": "f9ed8fe0",
   "metadata": {
    "execution": {
     "iopub.execute_input": "2022-05-10T20:11:45.664632Z",
     "iopub.status.busy": "2022-05-10T20:11:45.664098Z",
     "iopub.status.idle": "2022-05-10T20:11:45.802690Z",
     "shell.execute_reply": "2022-05-10T20:11:45.803179Z"
    },
    "papermill": {
     "duration": 0.172871,
     "end_time": "2022-05-10T20:11:45.803340",
     "exception": false,
     "start_time": "2022-05-10T20:11:45.630469",
     "status": "completed"
    },
    "tags": []
   },
   "outputs": [
    {
     "name": "stdout",
     "output_type": "stream",
     "text": [
      "2\n"
     ]
    },
    {
     "data": {
      "text/plain": [
       "<matplotlib.image.AxesImage at 0x7fdb5f8c4390>"
      ]
     },
     "execution_count": 9,
     "metadata": {},
     "output_type": "execute_result"
    },
    {
     "data": {
      "image/png": "[encoded data removed]",
      "text/plain": [
       "<Figure size 432x288 with 1 Axes>"
      ]
     },
     "metadata": {
      "needs_background": "light"
     },
     "output_type": "display_data"
    }
   ],
   "source": [
    "image_index = 7776 # You may select anything up to 60,000\n",
    "print(train_labels[image_index]) \n",
    "plt.imshow(train_images[image_index], cmap='Greys')"
   ]
  },
  {
   "cell_type": "markdown",
   "id": "a8d2388d",
   "metadata": {
    "papermill": {
     "duration": 0.026571,
     "end_time": "2022-05-10T20:11:45.857009",
     "exception": false,
     "start_time": "2022-05-10T20:11:45.830438",
     "status": "completed"
    },
    "tags": []
   },
   "source": [
    "## Filter data to get 3 and 8 out"
   ]
  },
  {
   "cell_type": "code",
   "execution_count": 10,
   "id": "776f7fc7",
   "metadata": {
    "execution": {
     "iopub.execute_input": "2022-05-10T20:11:45.915221Z",
     "iopub.status.busy": "2022-05-10T20:11:45.914130Z",
     "iopub.status.idle": "2022-05-10T20:11:45.936270Z",
     "shell.execute_reply": "2022-05-10T20:11:45.935183Z"
    },
    "papermill": {
     "duration": 0.052974,
     "end_time": "2022-05-10T20:11:45.936404",
     "exception": false,
     "start_time": "2022-05-10T20:11:45.883430",
     "status": "completed"
    },
    "tags": []
   },
   "outputs": [],
   "source": [
    "train_filter = np.where((train_labels == 3 ) | (train_labels == 8))\n",
    "test_filter = np.where((test_labels == 3) | (test_labels == 8))\n",
    "X_train, y_train = train_images[train_filter], train_labels[train_filter]\n",
    "X_test, y_test = test_images[test_filter], test_labels[test_filter]"
   ]
  },
  {
   "cell_type": "markdown",
   "id": "948f0b7e",
   "metadata": {
    "papermill": {
     "duration": 0.026436,
     "end_time": "2022-05-10T20:11:45.990006",
     "exception": false,
     "start_time": "2022-05-10T20:11:45.963570",
     "status": "completed"
    },
    "tags": []
   },
   "source": [
    "We normalize the pizel values in the 0 to 1 range"
   ]
  },
  {
   "cell_type": "code",
   "execution_count": 11,
   "id": "ee4c2166",
   "metadata": {
    "execution": {
     "iopub.execute_input": "2022-05-10T20:11:46.046775Z",
     "iopub.status.busy": "2022-05-10T20:11:46.046220Z",
     "iopub.status.idle": "2022-05-10T20:11:46.098522Z",
     "shell.execute_reply": "2022-05-10T20:11:46.097976Z"
    },
    "papermill": {
     "duration": 0.082292,
     "end_time": "2022-05-10T20:11:46.098664",
     "exception": false,
     "start_time": "2022-05-10T20:11:46.016372",
     "status": "completed"
    },
    "tags": []
   },
   "outputs": [],
   "source": [
    "X_train = X_train/255.\n",
    "X_test = X_test/255."
   ]
  },
  {
   "cell_type": "markdown",
   "id": "ddcf4fab",
   "metadata": {
    "papermill": {
     "duration": 0.026504,
     "end_time": "2022-05-10T20:11:46.152624",
     "exception": false,
     "start_time": "2022-05-10T20:11:46.126120",
     "status": "completed"
    },
    "tags": []
   },
   "source": [
    "And setup the labels as 1 (when the digit is 3) and 0 (when the digit is 8)"
   ]
  },
  {
   "cell_type": "code",
   "execution_count": 12,
   "id": "7dc908f2",
   "metadata": {
    "execution": {
     "iopub.execute_input": "2022-05-10T20:11:46.210052Z",
     "iopub.status.busy": "2022-05-10T20:11:46.209371Z",
     "iopub.status.idle": "2022-05-10T20:11:46.223502Z",
     "shell.execute_reply": "2022-05-10T20:11:46.223063Z"
    },
    "papermill": {
     "duration": 0.044545,
     "end_time": "2022-05-10T20:11:46.223630",
     "exception": false,
     "start_time": "2022-05-10T20:11:46.179085",
     "status": "completed"
    },
    "tags": []
   },
   "outputs": [],
   "source": [
    "y_train = 1*(y_train==3)\n",
    "y_test = 1*(y_test==3)"
   ]
  },
  {
   "cell_type": "code",
   "execution_count": 13,
   "id": "01e4e969",
   "metadata": {
    "execution": {
     "iopub.execute_input": "2022-05-10T20:11:46.281088Z",
     "iopub.status.busy": "2022-05-10T20:11:46.280557Z",
     "iopub.status.idle": "2022-05-10T20:11:46.295830Z",
     "shell.execute_reply": "2022-05-10T20:11:46.295365Z"
    },
    "papermill": {
     "duration": 0.045526,
     "end_time": "2022-05-10T20:11:46.295947",
     "exception": false,
     "start_time": "2022-05-10T20:11:46.250421",
     "status": "completed"
    },
    "tags": []
   },
   "outputs": [
    {
     "data": {
      "text/plain": [
       "((11982, 28, 28), (1984, 28, 28))"
      ]
     },
     "execution_count": 13,
     "metadata": {},
     "output_type": "execute_result"
    }
   ],
   "source": [
    "X_train.shape, X_test.shape"
   ]
  },
  {
   "cell_type": "markdown",
   "id": "5ccf3f85",
   "metadata": {
    "papermill": {
     "duration": 0.026766,
     "end_time": "2022-05-10T20:11:46.349628",
     "exception": false,
     "start_time": "2022-05-10T20:11:46.322862",
     "status": "completed"
    },
    "tags": []
   },
   "source": [
    "We reshape the data to flatten the image pixels into a set of features or co-variates:"
   ]
  },
  {
   "cell_type": "code",
   "execution_count": 14,
   "id": "5286a4a3",
   "metadata": {
    "execution": {
     "iopub.execute_input": "2022-05-10T20:11:46.407526Z",
     "iopub.status.busy": "2022-05-10T20:11:46.406981Z",
     "iopub.status.idle": "2022-05-10T20:11:46.422305Z",
     "shell.execute_reply": "2022-05-10T20:11:46.422720Z"
    },
    "papermill": {
     "duration": 0.046424,
     "end_time": "2022-05-10T20:11:46.422865",
     "exception": false,
     "start_time": "2022-05-10T20:11:46.376441",
     "status": "completed"
    },
    "tags": []
   },
   "outputs": [
    {
     "data": {
      "text/plain": [
       "((11982, 784), (1984, 784))"
      ]
     },
     "execution_count": 14,
     "metadata": {},
     "output_type": "execute_result"
    }
   ],
   "source": [
    "X_train = X_train.reshape(X_train.shape[0], -1)\n",
    "X_test = X_test.reshape(X_test.shape[0], -1)\n",
    "X_train.shape, X_test.shape"
   ]
  },
  {
   "cell_type": "code",
   "execution_count": 15,
   "id": "73c5f88a",
   "metadata": {
    "execution": {
     "iopub.execute_input": "2022-05-10T20:11:46.481866Z",
     "iopub.status.busy": "2022-05-10T20:11:46.481333Z",
     "iopub.status.idle": "2022-05-10T20:11:46.500746Z",
     "shell.execute_reply": "2022-05-10T20:11:46.501153Z"
    },
    "papermill": {
     "duration": 0.051264,
     "end_time": "2022-05-10T20:11:46.501334",
     "exception": false,
     "start_time": "2022-05-10T20:11:46.450070",
     "status": "completed"
    },
    "tags": []
   },
   "outputs": [],
   "source": [
    "#Impoting functions from 'Kudzu'\n",
    "from kudzu.model import Model\n",
    "from kudzu.train import Learner\n",
    "from kudzu.optim import GD\n",
    "from kudzu.data import Data, Sampler,Dataloader\n",
    "\n",
    "from kudzu.callbacks import AccCallback\n",
    "from kudzu.callbacks import ClfCallback\n",
    "\n",
    "from kudzu.loss import MSE\n",
    "\n",
    "from kudzu.layer import Sigmoid,Relu\n",
    "from kudzu.layer import Affine"
   ]
  },
  {
   "cell_type": "markdown",
   "id": "bc01172a",
   "metadata": {
    "papermill": {
     "duration": 0.027239,
     "end_time": "2022-05-10T20:11:46.555908",
     "exception": false,
     "start_time": "2022-05-10T20:11:46.528669",
     "status": "completed"
    },
    "tags": []
   },
   "source": [
    "### Let us create a `Config` class, to store important parameters. \n",
    "This class essentially plays the role of a dictionary."
   ]
  },
  {
   "cell_type": "code",
   "execution_count": 16,
   "id": "978281aa",
   "metadata": {
    "execution": {
     "iopub.execute_input": "2022-05-10T20:11:46.614345Z",
     "iopub.status.busy": "2022-05-10T20:11:46.613817Z",
     "iopub.status.idle": "2022-05-10T20:11:46.627068Z",
     "shell.execute_reply": "2022-05-10T20:11:46.626635Z"
    },
    "papermill": {
     "duration": 0.044222,
     "end_time": "2022-05-10T20:11:46.627188",
     "exception": false,
     "start_time": "2022-05-10T20:11:46.582966",
     "status": "completed"
    },
    "tags": []
   },
   "outputs": [],
   "source": [
    "class Config:\n",
    "    pass\n",
    "config = Config()\n",
    "config.lr = 0.001\n",
    "config.num_epochs = 250\n",
    "config.bs = 50"
   ]
  },
  {
   "cell_type": "markdown",
   "id": "1385fa59",
   "metadata": {
    "papermill": {
     "duration": 0.027149,
     "end_time": "2022-05-10T20:11:46.681652",
     "exception": false,
     "start_time": "2022-05-10T20:11:46.654503",
     "status": "completed"
    },
    "tags": []
   },
   "source": [
    "### Running Models with the Training data\n",
    "Details about the network layers:\n",
    "- A first affine layer has 784 inputs and does 100 affine transforms. These are followed by a Relu\n",
    "- A second affine layer has 100 inputs from the 100 activations of the past layer, and does 100 affine transforms. These are followed by a Relu\n",
    "- A third affine layer has 100 activations and does 2 affine transformations to create an embedding for visualization. There is no non-linearity here.\n",
    "- A final \"logistic regression\" which has an affine transform from 2 inputs to 1 output, which is squeezed through a sigmoid.\n"
   ]
  },
  {
   "cell_type": "code",
   "execution_count": 17,
   "id": "2b9c66db",
   "metadata": {
    "execution": {
     "iopub.execute_input": "2022-05-10T20:11:46.740992Z",
     "iopub.status.busy": "2022-05-10T20:11:46.740424Z",
     "iopub.status.idle": "2022-05-10T20:11:46.754010Z",
     "shell.execute_reply": "2022-05-10T20:11:46.754450Z"
    },
    "papermill": {
     "duration": 0.045817,
     "end_time": "2022-05-10T20:11:46.754597",
     "exception": false,
     "start_time": "2022-05-10T20:11:46.708780",
     "status": "completed"
    },
    "tags": []
   },
   "outputs": [],
   "source": [
    "data = Data(X_train, y_train.reshape(-1,1))\n",
    "sampler = Sampler(data, config.bs, shuffle=True)\n",
    "\n",
    "dl = Dataloader(data, sampler)\n",
    "\n",
    "opt = GD(config.lr)\n",
    "loss = MSE()"
   ]
  },
  {
   "cell_type": "code",
   "execution_count": 18,
   "id": "b275e4c2",
   "metadata": {
    "execution": {
     "iopub.execute_input": "2022-05-10T20:11:46.822181Z",
     "iopub.status.busy": "2022-05-10T20:11:46.819631Z",
     "iopub.status.idle": "2022-05-10T20:11:46.828839Z",
     "shell.execute_reply": "2022-05-10T20:11:46.828383Z"
    },
    "papermill": {
     "duration": 0.046983,
     "end_time": "2022-05-10T20:11:46.828959",
     "exception": false,
     "start_time": "2022-05-10T20:11:46.781976",
     "status": "completed"
    },
    "tags": []
   },
   "outputs": [],
   "source": [
    "training_data_x = X_train\n",
    "testing_data_x = X_test\n",
    "training_data_y = y_train.reshape(-1,1)\n",
    "testing_data_y = y_test.reshape(-1,1)"
   ]
  },
  {
   "cell_type": "code",
   "execution_count": 19,
   "id": "76951160",
   "metadata": {
    "execution": {
     "iopub.execute_input": "2022-05-10T20:11:46.895011Z",
     "iopub.status.busy": "2022-05-10T20:11:46.894436Z",
     "iopub.status.idle": "2022-05-10T20:11:46.907791Z",
     "shell.execute_reply": "2022-05-10T20:11:46.907355Z"
    },
    "papermill": {
     "duration": 0.050815,
     "end_time": "2022-05-10T20:11:46.907912",
     "exception": false,
     "start_time": "2022-05-10T20:11:46.857097",
     "status": "completed"
    },
    "tags": []
   },
   "outputs": [
    {
     "name": "stdout",
     "output_type": "stream",
     "text": [
      "xavier\n",
      "xavier\n",
      "xavier\n",
      "xavier\n",
      "xavier\n"
     ]
    }
   ],
   "source": [
    "layers = [Affine(\"first\", 784, 100), Relu(\"first\"), Affine(\"second\", 100, 100), Relu(\"second\"), Affine(\"third\", 100, 2), Affine(\"last\", 2, 1), Sigmoid(\"last\")]\n",
    "model_nn = Model(layers)\n",
    "model_lr = Model([Affine(\"logits\", 784, 1), Sigmoid(\"sigmoid\")])"
   ]
  },
  {
   "cell_type": "code",
   "execution_count": 20,
   "id": "6eede77a",
   "metadata": {
    "execution": {
     "iopub.execute_input": "2022-05-10T20:11:46.967502Z",
     "iopub.status.busy": "2022-05-10T20:11:46.966959Z",
     "iopub.status.idle": "2022-05-10T20:11:46.981116Z",
     "shell.execute_reply": "2022-05-10T20:11:46.980639Z"
    },
    "papermill": {
     "duration": 0.045914,
     "end_time": "2022-05-10T20:11:46.981266",
     "exception": false,
     "start_time": "2022-05-10T20:11:46.935352",
     "status": "completed"
    },
    "tags": []
   },
   "outputs": [],
   "source": [
    "nn_learner = Learner(loss, model_nn, opt, config.num_epochs)\n",
    "acc_nn = ClfCallback(nn_learner, config.bs, training_data_x , testing_data_x, training_data_y, testing_data_y)\n",
    "nn_learner.set_callbacks([acc_nn])"
   ]
  },
  {
   "cell_type": "code",
   "execution_count": 21,
   "id": "877b6cc7",
   "metadata": {
    "execution": {
     "iopub.execute_input": "2022-05-10T20:11:47.043066Z",
     "iopub.status.busy": "2022-05-10T20:11:47.042505Z",
     "iopub.status.idle": "2022-05-10T20:11:47.053067Z",
     "shell.execute_reply": "2022-05-10T20:11:47.052614Z"
    },
    "papermill": {
     "duration": 0.044315,
     "end_time": "2022-05-10T20:11:47.053193",
     "exception": false,
     "start_time": "2022-05-10T20:11:47.008878",
     "status": "completed"
    },
    "tags": []
   },
   "outputs": [],
   "source": [
    "lr_learner = Learner(loss, model_lr, opt, config.num_epochs)\n",
    "acc_lr = ClfCallback(lr_learner, config.bs, training_data_x , testing_data_x, training_data_y, testing_data_y)\n",
    "lr_learner.set_callbacks([acc_lr])"
   ]
  },
  {
   "cell_type": "code",
   "execution_count": 22,
   "id": "d9b133c3",
   "metadata": {
    "execution": {
     "iopub.execute_input": "2022-05-10T20:11:47.113009Z",
     "iopub.status.busy": "2022-05-10T20:11:47.112492Z",
     "iopub.status.idle": "2022-05-10T20:13:11.379880Z",
     "shell.execute_reply": "2022-05-10T20:13:11.380644Z"
    },
    "papermill": {
     "duration": 84.299263,
     "end_time": "2022-05-10T20:13:11.380795",
     "exception": false,
     "start_time": "2022-05-10T20:11:47.081532",
     "status": "completed"
    },
    "tags": []
   },
   "outputs": [
    {
     "name": "stdout",
     "output_type": "stream",
     "text": [
      "Epoch 0, Loss 0.2612\n",
      "Training Accuracy: 0.5841, Testing Accuracy: 0.5655\n",
      "\n"
     ]
    },
    {
     "name": "stdout",
     "output_type": "stream",
     "text": [
      "Epoch 10, Loss 0.0763\n",
      "Training Accuracy: 0.9243, Testing Accuracy: 0.9299\n",
      "\n"
     ]
    },
    {
     "name": "stdout",
     "output_type": "stream",
     "text": [
      "Epoch 20, Loss 0.05\n",
      "Training Accuracy: 0.9463, Testing Accuracy: 0.9587\n",
      "\n"
     ]
    },
    {
     "name": "stdout",
     "output_type": "stream",
     "text": [
      "Epoch 30, Loss 0.0407\n",
      "Training Accuracy: 0.9544, Testing Accuracy: 0.9637\n",
      "\n"
     ]
    },
    {
     "name": "stdout",
     "output_type": "stream",
     "text": [
      "Epoch 40, Loss 0.0358\n",
      "Training Accuracy: 0.9592, Testing Accuracy: 0.9693\n",
      "\n"
     ]
    },
    {
     "name": "stdout",
     "output_type": "stream",
     "text": [
      "Epoch 50, Loss 0.0327\n",
      "Training Accuracy: 0.9629, Testing Accuracy: 0.9693\n",
      "\n"
     ]
    },
    {
     "name": "stdout",
     "output_type": "stream",
     "text": [
      "Epoch 60, Loss 0.0306\n",
      "Training Accuracy: 0.9660, Testing Accuracy: 0.9677\n",
      "\n"
     ]
    },
    {
     "name": "stdout",
     "output_type": "stream",
     "text": [
      "Epoch 70, Loss 0.0289\n",
      "Training Accuracy: 0.9678, Testing Accuracy: 0.9688\n",
      "\n"
     ]
    },
    {
     "name": "stdout",
     "output_type": "stream",
     "text": [
      "Epoch 80, Loss 0.0275\n",
      "Training Accuracy: 0.9694, Testing Accuracy: 0.9677\n",
      "\n"
     ]
    },
    {
     "name": "stdout",
     "output_type": "stream",
     "text": [
      "Epoch 90, Loss 0.0264\n",
      "Training Accuracy: 0.9702, Testing Accuracy: 0.9682\n",
      "\n"
     ]
    },
    {
     "name": "stdout",
     "output_type": "stream",
     "text": [
      "Epoch 100, Loss 0.0254\n",
      "Training Accuracy: 0.9710, Testing Accuracy: 0.9682\n",
      "\n"
     ]
    },
    {
     "name": "stdout",
     "output_type": "stream",
     "text": [
      "Epoch 110, Loss 0.0246\n",
      "Training Accuracy: 0.9727, Testing Accuracy: 0.9688\n",
      "\n"
     ]
    },
    {
     "name": "stdout",
     "output_type": "stream",
     "text": [
      "Epoch 120, Loss 0.0239\n",
      "Training Accuracy: 0.9735, Testing Accuracy: 0.9698\n",
      "\n"
     ]
    },
    {
     "name": "stdout",
     "output_type": "stream",
     "text": [
      "Epoch 130, Loss 0.0232\n",
      "Training Accuracy: 0.9747, Testing Accuracy: 0.9708\n",
      "\n"
     ]
    },
    {
     "name": "stdout",
     "output_type": "stream",
     "text": [
      "Epoch 140, Loss 0.0226\n",
      "Training Accuracy: 0.9752, Testing Accuracy: 0.9728\n",
      "\n"
     ]
    },
    {
     "name": "stdout",
     "output_type": "stream",
     "text": [
      "Epoch 150, Loss 0.022\n",
      "Training Accuracy: 0.9756, Testing Accuracy: 0.9733\n",
      "\n"
     ]
    },
    {
     "name": "stdout",
     "output_type": "stream",
     "text": [
      "Epoch 160, Loss 0.0215\n",
      "Training Accuracy: 0.9763, Testing Accuracy: 0.9733\n",
      "\n"
     ]
    },
    {
     "name": "stdout",
     "output_type": "stream",
     "text": [
      "Epoch 170, Loss 0.021\n",
      "Training Accuracy: 0.9769, Testing Accuracy: 0.9733\n",
      "\n"
     ]
    },
    {
     "name": "stdout",
     "output_type": "stream",
     "text": [
      "Epoch 180, Loss 0.0205\n",
      "Training Accuracy: 0.9772, Testing Accuracy: 0.9738\n",
      "\n"
     ]
    },
    {
     "name": "stdout",
     "output_type": "stream",
     "text": [
      "Epoch 190, Loss 0.0201\n",
      "Training Accuracy: 0.9772, Testing Accuracy: 0.9733\n",
      "\n"
     ]
    },
    {
     "name": "stdout",
     "output_type": "stream",
     "text": [
      "Epoch 200, Loss 0.0197\n",
      "Training Accuracy: 0.9775, Testing Accuracy: 0.9743\n",
      "\n"
     ]
    },
    {
     "name": "stdout",
     "output_type": "stream",
     "text": [
      "Epoch 210, Loss 0.0193\n",
      "Training Accuracy: 0.9779, Testing Accuracy: 0.9738\n",
      "\n"
     ]
    },
    {
     "name": "stdout",
     "output_type": "stream",
     "text": [
      "Epoch 220, Loss 0.0189\n",
      "Training Accuracy: 0.9784, Testing Accuracy: 0.9743\n",
      "\n"
     ]
    },
    {
     "name": "stdout",
     "output_type": "stream",
     "text": [
      "Epoch 230, Loss 0.0185\n",
      "Training Accuracy: 0.9791, Testing Accuracy: 0.9758\n",
      "\n"
     ]
    },
    {
     "name": "stdout",
     "output_type": "stream",
     "text": [
      "Epoch 240, Loss 0.0182\n",
      "Training Accuracy: 0.9796, Testing Accuracy: 0.9753\n",
      "\n"
     ]
    },
    {
     "data": {
      "text/plain": [
       "0.00979496300721989"
      ]
     },
     "execution_count": 22,
     "metadata": {},
     "output_type": "execute_result"
    }
   ],
   "source": [
    "nn_learner.train_loop(dl)"
   ]
  },
  {
   "cell_type": "code",
   "execution_count": 23,
   "id": "e0163366",
   "metadata": {
    "execution": {
     "iopub.execute_input": "2022-05-10T20:13:11.455433Z",
     "iopub.status.busy": "2022-05-10T20:13:11.454897Z",
     "iopub.status.idle": "2022-05-10T20:13:26.509006Z",
     "shell.execute_reply": "2022-05-10T20:13:26.509804Z"
    },
    "papermill": {
     "duration": 15.094706,
     "end_time": "2022-05-10T20:13:26.509954",
     "exception": false,
     "start_time": "2022-05-10T20:13:11.415248",
     "status": "completed"
    },
    "tags": []
   },
   "outputs": [
    {
     "name": "stdout",
     "output_type": "stream",
     "text": [
      "Epoch 0, Loss 0.2156\n",
      "Training Accuracy: 0.7621, Testing Accuracy: 0.7636\n",
      "\n"
     ]
    },
    {
     "name": "stdout",
     "output_type": "stream",
     "text": [
      "Epoch 10, Loss 0.1\n",
      "Training Accuracy: 0.9120, Testing Accuracy: 0.9204\n",
      "\n"
     ]
    },
    {
     "name": "stdout",
     "output_type": "stream",
     "text": [
      "Epoch 20, Loss 0.0784\n",
      "Training Accuracy: 0.9272, Testing Accuracy: 0.9385\n",
      "\n"
     ]
    },
    {
     "name": "stdout",
     "output_type": "stream",
     "text": [
      "Epoch 30, Loss 0.0681\n",
      "Training Accuracy: 0.9352, Testing Accuracy: 0.9466\n",
      "\n"
     ]
    },
    {
     "name": "stdout",
     "output_type": "stream",
     "text": [
      "Epoch 40, Loss 0.0617\n",
      "Training Accuracy: 0.9400, Testing Accuracy: 0.9511\n",
      "\n"
     ]
    },
    {
     "name": "stdout",
     "output_type": "stream",
     "text": [
      "Epoch 50, Loss 0.0573\n",
      "Training Accuracy: 0.9435, Testing Accuracy: 0.9541\n",
      "\n"
     ]
    },
    {
     "name": "stdout",
     "output_type": "stream",
     "text": [
      "Epoch 60, Loss 0.0541\n",
      "Training Accuracy: 0.9460, Testing Accuracy: 0.9556\n",
      "\n"
     ]
    },
    {
     "name": "stdout",
     "output_type": "stream",
     "text": [
      "Epoch 70, Loss 0.0515\n",
      "Training Accuracy: 0.9481, Testing Accuracy: 0.9577\n",
      "\n"
     ]
    },
    {
     "name": "stdout",
     "output_type": "stream",
     "text": [
      "Epoch 80, Loss 0.0495\n",
      "Training Accuracy: 0.9498, Testing Accuracy: 0.9587\n",
      "\n"
     ]
    },
    {
     "name": "stdout",
     "output_type": "stream",
     "text": [
      "Epoch 90, Loss 0.0478\n",
      "Training Accuracy: 0.9513, Testing Accuracy: 0.9597\n",
      "\n"
     ]
    },
    {
     "name": "stdout",
     "output_type": "stream",
     "text": [
      "Epoch 100, Loss 0.0464\n",
      "Training Accuracy: 0.9523, Testing Accuracy: 0.9607\n",
      "\n"
     ]
    },
    {
     "name": "stdout",
     "output_type": "stream",
     "text": [
      "Epoch 110, Loss 0.0451\n",
      "Training Accuracy: 0.9531, Testing Accuracy: 0.9627\n",
      "\n"
     ]
    },
    {
     "name": "stdout",
     "output_type": "stream",
     "text": [
      "Epoch 120, Loss 0.044\n",
      "Training Accuracy: 0.9542, Testing Accuracy: 0.9642\n",
      "\n"
     ]
    },
    {
     "name": "stdout",
     "output_type": "stream",
     "text": [
      "Epoch 130, Loss 0.0431\n",
      "Training Accuracy: 0.9546, Testing Accuracy: 0.9647\n",
      "\n"
     ]
    },
    {
     "name": "stdout",
     "output_type": "stream",
     "text": [
      "Epoch 140, Loss 0.0423\n",
      "Training Accuracy: 0.9553, Testing Accuracy: 0.9647\n",
      "\n"
     ]
    },
    {
     "name": "stdout",
     "output_type": "stream",
     "text": [
      "Epoch 150, Loss 0.0415\n",
      "Training Accuracy: 0.9560, Testing Accuracy: 0.9652\n",
      "\n"
     ]
    },
    {
     "name": "stdout",
     "output_type": "stream",
     "text": [
      "Epoch 160, Loss 0.0408\n",
      "Training Accuracy: 0.9565, Testing Accuracy: 0.9657\n",
      "\n"
     ]
    },
    {
     "name": "stdout",
     "output_type": "stream",
     "text": [
      "Epoch 170, Loss 0.0402\n",
      "Training Accuracy: 0.9573, Testing Accuracy: 0.9657\n",
      "\n"
     ]
    },
    {
     "name": "stdout",
     "output_type": "stream",
     "text": [
      "Epoch 180, Loss 0.0396\n",
      "Training Accuracy: 0.9575, Testing Accuracy: 0.9662\n",
      "\n"
     ]
    },
    {
     "name": "stdout",
     "output_type": "stream",
     "text": [
      "Epoch 190, Loss 0.0391\n",
      "Training Accuracy: 0.9577, Testing Accuracy: 0.9657\n",
      "\n"
     ]
    },
    {
     "name": "stdout",
     "output_type": "stream",
     "text": [
      "Epoch 200, Loss 0.0386\n",
      "Training Accuracy: 0.9580, Testing Accuracy: 0.9657\n",
      "\n"
     ]
    },
    {
     "name": "stdout",
     "output_type": "stream",
     "text": [
      "Epoch 210, Loss 0.0382\n",
      "Training Accuracy: 0.9581, Testing Accuracy: 0.9652\n",
      "\n"
     ]
    },
    {
     "name": "stdout",
     "output_type": "stream",
     "text": [
      "Epoch 220, Loss 0.0378\n",
      "Training Accuracy: 0.9584, Testing Accuracy: 0.9652\n",
      "\n"
     ]
    },
    {
     "name": "stdout",
     "output_type": "stream",
     "text": [
      "Epoch 230, Loss 0.0374\n",
      "Training Accuracy: 0.9587, Testing Accuracy: 0.9652\n",
      "\n"
     ]
    },
    {
     "name": "stdout",
     "output_type": "stream",
     "text": [
      "Epoch 240, Loss 0.037\n",
      "Training Accuracy: 0.9593, Testing Accuracy: 0.9657\n",
      "\n"
     ]
    },
    {
     "data": {
      "text/plain": [
       "0.028818458093100487"
      ]
     },
     "execution_count": 23,
     "metadata": {},
     "output_type": "execute_result"
    }
   ],
   "source": [
    "lr_learner.train_loop(dl)"
   ]
  },
  {
   "cell_type": "code",
   "execution_count": 24,
   "id": "ca410940",
   "metadata": {
    "execution": {
     "iopub.execute_input": "2022-05-10T20:13:26.606858Z",
     "iopub.status.busy": "2022-05-10T20:13:26.606302Z",
     "iopub.status.idle": "2022-05-10T20:13:26.827878Z",
     "shell.execute_reply": "2022-05-10T20:13:26.828304Z"
    },
    "papermill": {
     "duration": 0.276964,
     "end_time": "2022-05-10T20:13:26.828455",
     "exception": false,
     "start_time": "2022-05-10T20:13:26.551491",
     "status": "completed"
    },
    "tags": []
   },
   "outputs": [
    {
     "data": {
      "text/plain": [
       "<matplotlib.legend.Legend at 0x7fdb5f4a1b70>"
      ]
     },
     "execution_count": 24,
     "metadata": {},
     "output_type": "execute_result"
    },
    {
     "data": {
      "image/png": "[encoded data removed]",
      "text/plain": [
       "<Figure size 1080x720 with 1 Axes>"
      ]
     },
     "metadata": {
      "needs_background": "light"
     },
     "output_type": "display_data"
    }
   ],
   "source": [
    "#comparing the results of NN and LR\n",
    "plt.figure(figsize=(15,10))\n",
    "\n",
    "# Neural Network plots\n",
    "plt.plot(acc_nn.accuracies, 'r-', label = \"Training Accuracies - NN\")\n",
    "plt.plot(acc_nn.test_accuracies, 'g-', label = \"Testing Accuracies - NN\")\n",
    "\n",
    "# Logistic Regression plots\n",
    "plt.plot(acc_lr.accuracies, 'k-', label = \"Training Accuracies - LR\")\n",
    "plt.plot(acc_lr.test_accuracies, 'b-', label = \"Testing Accuracies - LR\")\n",
    "plt.legend()"
   ]
  },
  {
   "cell_type": "markdown",
   "id": "80dfb35c",
   "metadata": {
    "papermill": {
     "duration": 0.042215,
     "end_time": "2022-05-10T20:13:26.912993",
     "exception": false,
     "start_time": "2022-05-10T20:13:26.870778",
     "status": "completed"
    },
    "tags": []
   },
   "source": [
    "#### Plotting the outputs of this layer of the NN.\n"
   ]
  },
  {
   "cell_type": "code",
   "execution_count": 25,
   "id": "45eb2ff5",
   "metadata": {
    "execution": {
     "iopub.execute_input": "2022-05-10T20:13:27.010400Z",
     "iopub.status.busy": "2022-05-10T20:13:27.006730Z",
     "iopub.status.idle": "2022-05-10T20:13:27.026881Z",
     "shell.execute_reply": "2022-05-10T20:13:27.027346Z"
    },
    "papermill": {
     "duration": 0.072331,
     "end_time": "2022-05-10T20:13:27.027501",
     "exception": false,
     "start_time": "2022-05-10T20:13:26.955170",
     "status": "completed"
    },
    "tags": []
   },
   "outputs": [],
   "source": [
    "new_model = Model(layers[:-2])\n",
    "testing_plot = new_model(testing_data_x)"
   ]
  },
  {
   "cell_type": "code",
   "execution_count": 26,
   "id": "4c0a5485",
   "metadata": {
    "execution": {
     "iopub.execute_input": "2022-05-10T20:13:27.119883Z",
     "iopub.status.busy": "2022-05-10T20:13:27.119301Z",
     "iopub.status.idle": "2022-05-10T20:13:27.359955Z",
     "shell.execute_reply": "2022-05-10T20:13:27.360378Z"
    },
    "papermill": {
     "duration": 0.29044,
     "end_time": "2022-05-10T20:13:27.360522",
     "exception": false,
     "start_time": "2022-05-10T20:13:27.070082",
     "status": "completed"
    },
    "tags": []
   },
   "outputs": [
    {
     "data": {
      "text/plain": [
       "Text(0.5, 1.0, 'Outputs')"
      ]
     },
     "execution_count": 26,
     "metadata": {},
     "output_type": "execute_result"
    },
    {
     "data": {
      "image/png": "[encoded data removed]",
      "text/plain": [
       "<Figure size 576x504 with 1 Axes>"
      ]
     },
     "metadata": {
      "needs_background": "light"
     },
     "output_type": "display_data"
    }
   ],
   "source": [
    "# Plotting the scatter plot of points and color coding by class\n",
    "plt.figure(figsize=(8,7))\n",
    "plt.scatter(testing_plot[:,0], testing_plot[:,1], alpha = 0.1, c = y_test.ravel());\n",
    "plt.title('Outputs')"
   ]
  },
  {
   "cell_type": "markdown",
   "id": "a74fcf8f",
   "metadata": {
    "papermill": {
     "duration": 0.045628,
     "end_time": "2022-05-10T20:13:27.451677",
     "exception": false,
     "start_time": "2022-05-10T20:13:27.406049",
     "status": "completed"
    },
    "tags": []
   },
   "source": [
    "Probability contours"
   ]
  },
  {
   "cell_type": "code",
   "execution_count": 27,
   "id": "d0afc8e3",
   "metadata": {
    "execution": {
     "iopub.execute_input": "2022-05-10T20:13:27.586524Z",
     "iopub.status.busy": "2022-05-10T20:13:27.585956Z",
     "iopub.status.idle": "2022-05-10T20:13:27.598002Z",
     "shell.execute_reply": "2022-05-10T20:13:27.597496Z"
    },
    "papermill": {
     "duration": 0.100646,
     "end_time": "2022-05-10T20:13:27.598140",
     "exception": false,
     "start_time": "2022-05-10T20:13:27.497494",
     "status": "completed"
    },
    "tags": []
   },
   "outputs": [],
   "source": [
    "model_prob = Model(layers[-2:]) "
   ]
  },
  {
   "cell_type": "code",
   "execution_count": 28,
   "id": "9b96e238",
   "metadata": {
    "execution": {
     "iopub.execute_input": "2022-05-10T20:13:27.695492Z",
     "iopub.status.busy": "2022-05-10T20:13:27.694925Z",
     "iopub.status.idle": "2022-05-10T20:13:27.709113Z",
     "shell.execute_reply": "2022-05-10T20:13:27.709557Z"
    },
    "papermill": {
     "duration": 0.065832,
     "end_time": "2022-05-10T20:13:27.709712",
     "exception": false,
     "start_time": "2022-05-10T20:13:27.643880",
     "status": "completed"
    },
    "tags": []
   },
   "outputs": [],
   "source": [
    "#creating the x and y ranges according to the above generated plot.\n",
    "x_range = np.linspace(-4, 1, 100) \n",
    "y_range = np.linspace(-6, 6, 100) \n",
    "x_grid, y_grid = np.meshgrid(x_range, y_range) # x_grid and y_grig are of size 100 X 100\n",
    "\n",
    "# converting x_grid and y_grid to continuous arrays\n",
    "x_gridflat = np.ravel(x_grid)\n",
    "y_gridflat = np.ravel(y_grid)\n",
    "\n",
    "# The last layer of the current model takes two columns as input. Hence transpose of np.vstack() is required.\n",
    "X = np.vstack((x_gridflat, y_gridflat)).T\n",
    "\n",
    "prob_contour = model_prob(X).reshape(100,100) "
   ]
  },
  {
   "cell_type": "code",
   "execution_count": 29,
   "id": "da72499a",
   "metadata": {
    "execution": {
     "iopub.execute_input": "2022-05-10T20:13:27.810843Z",
     "iopub.status.busy": "2022-05-10T20:13:27.810314Z",
     "iopub.status.idle": "2022-05-10T20:13:28.056021Z",
     "shell.execute_reply": "2022-05-10T20:13:28.055568Z"
    },
    "papermill": {
     "duration": 0.300465,
     "end_time": "2022-05-10T20:13:28.056149",
     "exception": false,
     "start_time": "2022-05-10T20:13:27.755684",
     "status": "completed"
    },
    "tags": []
   },
   "outputs": [
    {
     "data": {
      "image/png": "[encoded data removed]",
      "text/plain": [
       "<Figure size 720x648 with 1 Axes>"
      ]
     },
     "metadata": {
      "needs_background": "light"
     },
     "output_type": "display_data"
    }
   ],
   "source": [
    "plt.figure(figsize=(10,9))\n",
    "plt.scatter(testing_plot[:,0], testing_plot[:,1], alpha = 0.1, c = y_test.ravel())\n",
    "contours = plt.contour(x_grid,y_grid,prob_contour)\n",
    "plt.title('Probability Contours')\n",
    "plt.clabel(contours, inline = True );"
   ]
  },
  {
   "cell_type": "code",
   "execution_count": null,
   "id": "e81b4ac7",
   "metadata": {
    "papermill": {
     "duration": 0.048362,
     "end_time": "2022-05-10T20:13:28.152594",
     "exception": false,
     "start_time": "2022-05-10T20:13:28.104232",
     "status": "completed"
    },
    "tags": []
   },
   "outputs": [],
   "source": []
  }
 ],
 "metadata": {
  "kernelspec": {
   "display_name": "Python 3",
   "language": "python",
   "name": "python3"
  },
  "language_info": {
   "codemirror_mode": {
    "name": "ipython",
    "version": 3
   },
   "file_extension": ".py",
   "mimetype": "text/x-python",
   "name": "python",
   "nbconvert_exporter": "python",
   "pygments_lexer": "ipython3",
   "version": "3.6.15"
  },
  "papermill": {
   "default_parameters": {},
   "duration": 107.983361,
   "end_time": "2022-05-10T20:13:28.721649",
   "environment_variables": {},
   "exception": null,
   "input_path": "2020-08-11-part2.ipynb",
   "output_path": "2020-08-11-part2.ipynb",
   "parameters": {},
   "start_time": "2022-05-10T20:11:40.738288",
   "version": "2.3.3"
  }
 },
 "nbformat": 4,
 "nbformat_minor": 5
}