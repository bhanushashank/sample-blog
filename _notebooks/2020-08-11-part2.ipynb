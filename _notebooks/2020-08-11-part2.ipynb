{
 "cells": [
  {
   "cell_type": "markdown",
   "id": "98380cd3",
   "metadata": {
    "papermill": {
     "duration": 0.036279,
     "end_time": "2022-11-18T10:11:18.730958",
     "exception": false,
     "start_time": "2022-11-18T10:11:18.694679",
     "status": "completed"
    },
    "tags": []
   },
   "source": [
    "# Distinguish Your Own Digits (DYOD)"
   ]
  },
  {
   "cell_type": "markdown",
   "id": "ef31240d",
   "metadata": {
    "papermill": {
     "duration": 0.030091,
     "end_time": "2022-11-18T10:11:18.793595",
     "exception": false,
     "start_time": "2022-11-18T10:11:18.763504",
     "status": "completed"
    },
    "tags": []
   },
   "source": [
    "You are going to write a classifier that distinguishes between the number 3 and number 8."
   ]
  },
  {
   "cell_type": "code",
   "execution_count": 1,
   "id": "b15c8646",
   "metadata": {
    "execution": {
     "iopub.execute_input": "2022-11-18T10:11:18.864265Z",
     "iopub.status.busy": "2022-11-18T10:11:18.863523Z",
     "iopub.status.idle": "2022-11-18T10:11:18.876902Z",
     "shell.execute_reply": "2022-11-18T10:11:18.876372Z"
    },
    "papermill": {
     "duration": 0.053495,
     "end_time": "2022-11-18T10:11:18.877031",
     "exception": false,
     "start_time": "2022-11-18T10:11:18.823536",
     "status": "completed"
    },
    "tags": []
   },
   "outputs": [],
   "source": [
    "%load_ext autoreload\n",
    "%autoreload 2"
   ]
  },
  {
   "cell_type": "code",
   "execution_count": 2,
   "id": "22ef38dc",
   "metadata": {
    "execution": {
     "iopub.execute_input": "2022-11-18T10:11:18.938987Z",
     "iopub.status.busy": "2022-11-18T10:11:18.938253Z",
     "iopub.status.idle": "2022-11-18T10:11:19.575963Z",
     "shell.execute_reply": "2022-11-18T10:11:19.576492Z"
    },
    "papermill": {
     "duration": 0.671126,
     "end_time": "2022-11-18T10:11:19.576656",
     "exception": false,
     "start_time": "2022-11-18T10:11:18.905530",
     "status": "completed"
    },
    "tags": []
   },
   "outputs": [],
   "source": [
    "%matplotlib inline\n",
    "import numpy as np\n",
    "import matplotlib.pyplot as plt\n",
    "import pandas as pd"
   ]
  },
  {
   "cell_type": "markdown",
   "id": "ba036198",
   "metadata": {
    "papermill": {
     "duration": 0.02896,
     "end_time": "2022-11-18T10:11:19.635969",
     "exception": false,
     "start_time": "2022-11-18T10:11:19.607009",
     "status": "completed"
    },
    "tags": []
   },
   "source": [
    "From the command line run `pip install mnist`. This is a library that will help you bring down the mnist dataset. If you run this from a notebook, you need to put  `!pip install mnist` in a cell by itself."
   ]
  },
  {
   "cell_type": "code",
   "execution_count": 3,
   "id": "bb6ad8a1",
   "metadata": {
    "execution": {
     "iopub.execute_input": "2022-11-18T10:11:19.699340Z",
     "iopub.status.busy": "2022-11-18T10:11:19.698518Z",
     "iopub.status.idle": "2022-11-18T10:11:21.648549Z",
     "shell.execute_reply": "2022-11-18T10:11:21.647663Z"
    },
    "papermill": {
     "duration": 1.984557,
     "end_time": "2022-11-18T10:11:21.648723",
     "exception": false,
     "start_time": "2022-11-18T10:11:19.664166",
     "status": "completed"
    },
    "tags": []
   },
   "outputs": [
    {
     "name": "stdout",
     "output_type": "stream",
     "text": [
      "Collecting mnist\r\n"
     ]
    },
    {
     "name": "stdout",
     "output_type": "stream",
     "text": [
      "  Downloading mnist-0.2.2-py2.py3-none-any.whl (3.5 kB)\r\n",
      "Requirement already satisfied: numpy in /opt/hostedtoolcache/Python/3.6.15/x64/lib/python3.6/site-packages (from mnist) (1.19.5)\r\n"
     ]
    },
    {
     "name": "stdout",
     "output_type": "stream",
     "text": [
      "Installing collected packages: mnist\r\n"
     ]
    },
    {
     "name": "stdout",
     "output_type": "stream",
     "text": [
      "Successfully installed mnist-0.2.2\r\n"
     ]
    }
   ],
   "source": [
    "!pip install mnist"
   ]
  },
  {
   "cell_type": "markdown",
   "id": "69df9c9a",
   "metadata": {
    "papermill": {
     "duration": 0.031042,
     "end_time": "2022-11-18T10:11:21.711151",
     "exception": false,
     "start_time": "2022-11-18T10:11:21.680109",
     "status": "completed"
    },
    "tags": []
   },
   "source": [
    "## Preparing the Data"
   ]
  },
  {
   "cell_type": "code",
   "execution_count": 4,
   "id": "7f69d806",
   "metadata": {
    "execution": {
     "iopub.execute_input": "2022-11-18T10:11:21.783722Z",
     "iopub.status.busy": "2022-11-18T10:11:21.782951Z",
     "iopub.status.idle": "2022-11-18T10:11:21.801674Z",
     "shell.execute_reply": "2022-11-18T10:11:21.802524Z"
    },
    "papermill": {
     "duration": 0.059157,
     "end_time": "2022-11-18T10:11:21.802735",
     "exception": false,
     "start_time": "2022-11-18T10:11:21.743578",
     "status": "completed"
    },
    "tags": []
   },
   "outputs": [],
   "source": [
    "import mnist"
   ]
  },
  {
   "cell_type": "code",
   "execution_count": 5,
   "id": "a411e44f",
   "metadata": {
    "execution": {
     "iopub.execute_input": "2022-11-18T10:11:21.879161Z",
     "iopub.status.busy": "2022-11-18T10:11:21.875110Z",
     "iopub.status.idle": "2022-11-18T10:11:22.428796Z",
     "shell.execute_reply": "2022-11-18T10:11:22.428225Z"
    },
    "papermill": {
     "duration": 0.591865,
     "end_time": "2022-11-18T10:11:22.428958",
     "exception": false,
     "start_time": "2022-11-18T10:11:21.837093",
     "status": "completed"
    },
    "tags": []
   },
   "outputs": [],
   "source": [
    "train_images = mnist.train_images()\n",
    "train_labels = mnist.train_labels()"
   ]
  },
  {
   "cell_type": "code",
   "execution_count": 6,
   "id": "dceab3a5",
   "metadata": {
    "execution": {
     "iopub.execute_input": "2022-11-18T10:11:22.493704Z",
     "iopub.status.busy": "2022-11-18T10:11:22.492797Z",
     "iopub.status.idle": "2022-11-18T10:11:22.512760Z",
     "shell.execute_reply": "2022-11-18T10:11:22.512067Z"
    },
    "papermill": {
     "duration": 0.055334,
     "end_time": "2022-11-18T10:11:22.512879",
     "exception": false,
     "start_time": "2022-11-18T10:11:22.457545",
     "status": "completed"
    },
    "tags": []
   },
   "outputs": [
    {
     "data": {
      "text/plain": [
       "((60000, 28, 28), (60000,))"
      ]
     },
     "execution_count": 6,
     "metadata": {},
     "output_type": "execute_result"
    }
   ],
   "source": [
    "train_images.shape, train_labels.shape"
   ]
  },
  {
   "cell_type": "code",
   "execution_count": 7,
   "id": "f50dc2bb",
   "metadata": {
    "execution": {
     "iopub.execute_input": "2022-11-18T10:11:22.586318Z",
     "iopub.status.busy": "2022-11-18T10:11:22.585400Z",
     "iopub.status.idle": "2022-11-18T10:11:22.692353Z",
     "shell.execute_reply": "2022-11-18T10:11:22.691393Z"
    },
    "papermill": {
     "duration": 0.14435,
     "end_time": "2022-11-18T10:11:22.692582",
     "exception": false,
     "start_time": "2022-11-18T10:11:22.548232",
     "status": "completed"
    },
    "tags": []
   },
   "outputs": [],
   "source": [
    "test_images = mnist.test_images()\n",
    "test_labels = mnist.test_labels()"
   ]
  },
  {
   "cell_type": "code",
   "execution_count": 8,
   "id": "fc38cf1b",
   "metadata": {
    "execution": {
     "iopub.execute_input": "2022-11-18T10:11:22.761134Z",
     "iopub.status.busy": "2022-11-18T10:11:22.760341Z",
     "iopub.status.idle": "2022-11-18T10:11:22.775609Z",
     "shell.execute_reply": "2022-11-18T10:11:22.774957Z"
    },
    "papermill": {
     "duration": 0.050774,
     "end_time": "2022-11-18T10:11:22.775736",
     "exception": false,
     "start_time": "2022-11-18T10:11:22.724962",
     "status": "completed"
    },
    "tags": []
   },
   "outputs": [
    {
     "data": {
      "text/plain": [
       "((10000, 28, 28), (10000,))"
      ]
     },
     "execution_count": 8,
     "metadata": {},
     "output_type": "execute_result"
    }
   ],
   "source": [
    "test_images.shape, test_labels.shape"
   ]
  },
  {
   "cell_type": "code",
   "execution_count": 9,
   "id": "f9ed8fe0",
   "metadata": {
    "execution": {
     "iopub.execute_input": "2022-11-18T10:11:22.846301Z",
     "iopub.status.busy": "2022-11-18T10:11:22.845613Z",
     "iopub.status.idle": "2022-11-18T10:11:23.034324Z",
     "shell.execute_reply": "2022-11-18T10:11:23.033615Z"
    },
    "papermill": {
     "duration": 0.225401,
     "end_time": "2022-11-18T10:11:23.034489",
     "exception": false,
     "start_time": "2022-11-18T10:11:22.809088",
     "status": "completed"
    },
    "tags": []
   },
   "outputs": [
    {
     "name": "stdout",
     "output_type": "stream",
     "text": [
      "2\n"
     ]
    },
    {
     "data": {
      "text/plain": [
       "<matplotlib.image.AxesImage at 0x7f56d621fda0>"
      ]
     },
     "execution_count": 9,
     "metadata": {},
     "output_type": "execute_result"
    },
    {
     "data": {
      "image/png": "[encoded data removed]",
      "text/plain": [
       "<Figure size 432x288 with 1 Axes>"
      ]
     },
     "metadata": {
      "needs_background": "light"
     },
     "output_type": "display_data"
    }
   ],
   "source": [
    "image_index = 7776 # You may select anything up to 60,000\n",
    "print(train_labels[image_index]) \n",
    "plt.imshow(train_images[image_index], cmap='Greys')"
   ]
  },
  {
   "cell_type": "markdown",
   "id": "a8d2388d",
   "metadata": {
    "papermill": {
     "duration": 0.032398,
     "end_time": "2022-11-18T10:11:23.102357",
     "exception": false,
     "start_time": "2022-11-18T10:11:23.069959",
     "status": "completed"
    },
    "tags": []
   },
   "source": [
    "## Filter data to get 3 and 8 out"
   ]
  },
  {
   "cell_type": "code",
   "execution_count": 10,
   "id": "776f7fc7",
   "metadata": {
    "execution": {
     "iopub.execute_input": "2022-11-18T10:11:23.175978Z",
     "iopub.status.busy": "2022-11-18T10:11:23.175253Z",
     "iopub.status.idle": "2022-11-18T10:11:23.196291Z",
     "shell.execute_reply": "2022-11-18T10:11:23.195749Z"
    },
    "papermill": {
     "duration": 0.062379,
     "end_time": "2022-11-18T10:11:23.196415",
     "exception": false,
     "start_time": "2022-11-18T10:11:23.134036",
     "status": "completed"
    },
    "tags": []
   },
   "outputs": [],
   "source": [
    "train_filter = np.where((train_labels == 3 ) | (train_labels == 8))\n",
    "test_filter = np.where((test_labels == 3) | (test_labels == 8))\n",
    "X_train, y_train = train_images[train_filter], train_labels[train_filter]\n",
    "X_test, y_test = test_images[test_filter], test_labels[test_filter]"
   ]
  },
  {
   "cell_type": "markdown",
   "id": "948f0b7e",
   "metadata": {
    "papermill": {
     "duration": 0.035425,
     "end_time": "2022-11-18T10:11:23.266213",
     "exception": false,
     "start_time": "2022-11-18T10:11:23.230788",
     "status": "completed"
    },
    "tags": []
   },
   "source": [
    "We normalize the pizel values in the 0 to 1 range"
   ]
  },
  {
   "cell_type": "code",
   "execution_count": 11,
   "id": "ee4c2166",
   "metadata": {
    "execution": {
     "iopub.execute_input": "2022-11-18T10:11:23.342261Z",
     "iopub.status.busy": "2022-11-18T10:11:23.341393Z",
     "iopub.status.idle": "2022-11-18T10:11:23.405087Z",
     "shell.execute_reply": "2022-11-18T10:11:23.404394Z"
    },
    "papermill": {
     "duration": 0.103005,
     "end_time": "2022-11-18T10:11:23.405226",
     "exception": false,
     "start_time": "2022-11-18T10:11:23.302221",
     "status": "completed"
    },
    "tags": []
   },
   "outputs": [],
   "source": [
    "X_train = X_train/255.\n",
    "X_test = X_test/255."
   ]
  },
  {
   "cell_type": "markdown",
   "id": "ddcf4fab",
   "metadata": {
    "papermill": {
     "duration": 0.033915,
     "end_time": "2022-11-18T10:11:23.473195",
     "exception": false,
     "start_time": "2022-11-18T10:11:23.439280",
     "status": "completed"
    },
    "tags": []
   },
   "source": [
    "And setup the labels as 1 (when the digit is 3) and 0 (when the digit is 8)"
   ]
  },
  {
   "cell_type": "code",
   "execution_count": 12,
   "id": "7dc908f2",
   "metadata": {
    "execution": {
     "iopub.execute_input": "2022-11-18T10:11:23.545385Z",
     "iopub.status.busy": "2022-11-18T10:11:23.544485Z",
     "iopub.status.idle": "2022-11-18T10:11:23.559240Z",
     "shell.execute_reply": "2022-11-18T10:11:23.558598Z"
    },
    "papermill": {
     "duration": 0.053941,
     "end_time": "2022-11-18T10:11:23.559371",
     "exception": false,
     "start_time": "2022-11-18T10:11:23.505430",
     "status": "completed"
    },
    "tags": []
   },
   "outputs": [],
   "source": [
    "y_train = 1*(y_train==3)\n",
    "y_test = 1*(y_test==3)"
   ]
  },
  {
   "cell_type": "code",
   "execution_count": 13,
   "id": "01e4e969",
   "metadata": {
    "execution": {
     "iopub.execute_input": "2022-11-18T10:11:23.638682Z",
     "iopub.status.busy": "2022-11-18T10:11:23.637534Z",
     "iopub.status.idle": "2022-11-18T10:11:23.654502Z",
     "shell.execute_reply": "2022-11-18T10:11:23.653860Z"
    },
    "papermill": {
     "duration": 0.062561,
     "end_time": "2022-11-18T10:11:23.654649",
     "exception": false,
     "start_time": "2022-11-18T10:11:23.592088",
     "status": "completed"
    },
    "tags": []
   },
   "outputs": [
    {
     "data": {
      "text/plain": [
       "((11982, 28, 28), (1984, 28, 28))"
      ]
     },
     "execution_count": 13,
     "metadata": {},
     "output_type": "execute_result"
    }
   ],
   "source": [
    "X_train.shape, X_test.shape"
   ]
  },
  {
   "cell_type": "markdown",
   "id": "5ccf3f85",
   "metadata": {
    "papermill": {
     "duration": 0.0368,
     "end_time": "2022-11-18T10:11:23.723046",
     "exception": false,
     "start_time": "2022-11-18T10:11:23.686246",
     "status": "completed"
    },
    "tags": []
   },
   "source": [
    "We reshape the data to flatten the image pixels into a set of features or co-variates:"
   ]
  },
  {
   "cell_type": "code",
   "execution_count": 14,
   "id": "5286a4a3",
   "metadata": {
    "execution": {
     "iopub.execute_input": "2022-11-18T10:11:23.797891Z",
     "iopub.status.busy": "2022-11-18T10:11:23.797039Z",
     "iopub.status.idle": "2022-11-18T10:11:23.813975Z",
     "shell.execute_reply": "2022-11-18T10:11:23.813431Z"
    },
    "papermill": {
     "duration": 0.054776,
     "end_time": "2022-11-18T10:11:23.814092",
     "exception": false,
     "start_time": "2022-11-18T10:11:23.759316",
     "status": "completed"
    },
    "tags": []
   },
   "outputs": [
    {
     "data": {
      "text/plain": [
       "((11982, 784), (1984, 784))"
      ]
     },
     "execution_count": 14,
     "metadata": {},
     "output_type": "execute_result"
    }
   ],
   "source": [
    "X_train = X_train.reshape(X_train.shape[0], -1)\n",
    "X_test = X_test.reshape(X_test.shape[0], -1)\n",
    "X_train.shape, X_test.shape"
   ]
  },
  {
   "cell_type": "code",
   "execution_count": 15,
   "id": "73c5f88a",
   "metadata": {
    "execution": {
     "iopub.execute_input": "2022-11-18T10:11:23.885269Z",
     "iopub.status.busy": "2022-11-18T10:11:23.884389Z",
     "iopub.status.idle": "2022-11-18T10:11:23.904790Z",
     "shell.execute_reply": "2022-11-18T10:11:23.904316Z"
    },
    "papermill": {
     "duration": 0.0563,
     "end_time": "2022-11-18T10:11:23.904892",
     "exception": false,
     "start_time": "2022-11-18T10:11:23.848592",
     "status": "completed"
    },
    "tags": []
   },
   "outputs": [],
   "source": [
    "#Impoting functions from 'Kudzu'\n",
    "from kudzu.model import Model\n",
    "from kudzu.train import Learner\n",
    "from kudzu.optim import GD\n",
    "from kudzu.data import Data, Sampler,Dataloader\n",
    "\n",
    "from kudzu.callbacks import AccCallback\n",
    "from kudzu.callbacks import ClfCallback\n",
    "\n",
    "from kudzu.loss import MSE\n",
    "\n",
    "from kudzu.layer import Sigmoid,Relu\n",
    "from kudzu.layer import Affine"
   ]
  },
  {
   "cell_type": "markdown",
   "id": "bc01172a",
   "metadata": {
    "papermill": {
     "duration": 0.033607,
     "end_time": "2022-11-18T10:11:23.971780",
     "exception": false,
     "start_time": "2022-11-18T10:11:23.938173",
     "status": "completed"
    },
    "tags": []
   },
   "source": [
    "### Let us create a `Config` class, to store important parameters. \n",
    "This class essentially plays the role of a dictionary."
   ]
  },
  {
   "cell_type": "code",
   "execution_count": 16,
   "id": "978281aa",
   "metadata": {
    "execution": {
     "iopub.execute_input": "2022-11-18T10:11:24.044781Z",
     "iopub.status.busy": "2022-11-18T10:11:24.044068Z",
     "iopub.status.idle": "2022-11-18T10:11:24.060687Z",
     "shell.execute_reply": "2022-11-18T10:11:24.060060Z"
    },
    "papermill": {
     "duration": 0.056873,
     "end_time": "2022-11-18T10:11:24.060834",
     "exception": false,
     "start_time": "2022-11-18T10:11:24.003961",
     "status": "completed"
    },
    "tags": []
   },
   "outputs": [],
   "source": [
    "class Config:\n",
    "    pass\n",
    "config = Config()\n",
    "config.lr = 0.001\n",
    "config.num_epochs = 250\n",
    "config.bs = 50"
   ]
  },
  {
   "cell_type": "markdown",
   "id": "1385fa59",
   "metadata": {
    "papermill": {
     "duration": 0.033707,
     "end_time": "2022-11-18T10:11:24.131258",
     "exception": false,
     "start_time": "2022-11-18T10:11:24.097551",
     "status": "completed"
    },
    "tags": []
   },
   "source": [
    "### Running Models with the Training data\n",
    "Details about the network layers:\n",
    "- A first affine layer has 784 inputs and does 100 affine transforms. These are followed by a Relu\n",
    "- A second affine layer has 100 inputs from the 100 activations of the past layer, and does 100 affine transforms. These are followed by a Relu\n",
    "- A third affine layer has 100 activations and does 2 affine transformations to create an embedding for visualization. There is no non-linearity here.\n",
    "- A final \"logistic regression\" which has an affine transform from 2 inputs to 1 output, which is squeezed through a sigmoid.\n"
   ]
  },
  {
   "cell_type": "code",
   "execution_count": 17,
   "id": "2b9c66db",
   "metadata": {
    "execution": {
     "iopub.execute_input": "2022-11-18T10:11:24.203793Z",
     "iopub.status.busy": "2022-11-18T10:11:24.203170Z",
     "iopub.status.idle": "2022-11-18T10:11:24.219190Z",
     "shell.execute_reply": "2022-11-18T10:11:24.218474Z"
    },
    "papermill": {
     "duration": 0.053535,
     "end_time": "2022-11-18T10:11:24.219347",
     "exception": false,
     "start_time": "2022-11-18T10:11:24.165812",
     "status": "completed"
    },
    "tags": []
   },
   "outputs": [],
   "source": [
    "data = Data(X_train, y_train.reshape(-1,1))\n",
    "sampler = Sampler(data, config.bs, shuffle=True)\n",
    "\n",
    "dl = Dataloader(data, sampler)\n",
    "\n",
    "opt = GD(config.lr)\n",
    "loss = MSE()"
   ]
  },
  {
   "cell_type": "code",
   "execution_count": 18,
   "id": "b275e4c2",
   "metadata": {
    "execution": {
     "iopub.execute_input": "2022-11-18T10:11:24.291553Z",
     "iopub.status.busy": "2022-11-18T10:11:24.290866Z",
     "iopub.status.idle": "2022-11-18T10:11:24.304925Z",
     "shell.execute_reply": "2022-11-18T10:11:24.304133Z"
    },
    "papermill": {
     "duration": 0.051958,
     "end_time": "2022-11-18T10:11:24.305054",
     "exception": false,
     "start_time": "2022-11-18T10:11:24.253096",
     "status": "completed"
    },
    "tags": []
   },
   "outputs": [],
   "source": [
    "training_data_x = X_train\n",
    "testing_data_x = X_test\n",
    "training_data_y = y_train.reshape(-1,1)\n",
    "testing_data_y = y_test.reshape(-1,1)"
   ]
  },
  {
   "cell_type": "code",
   "execution_count": 19,
   "id": "76951160",
   "metadata": {
    "execution": {
     "iopub.execute_input": "2022-11-18T10:11:24.382376Z",
     "iopub.status.busy": "2022-11-18T10:11:24.381575Z",
     "iopub.status.idle": "2022-11-18T10:11:24.400297Z",
     "shell.execute_reply": "2022-11-18T10:11:24.400929Z"
    },
    "papermill": {
     "duration": 0.062053,
     "end_time": "2022-11-18T10:11:24.401141",
     "exception": false,
     "start_time": "2022-11-18T10:11:24.339088",
     "status": "completed"
    },
    "tags": []
   },
   "outputs": [
    {
     "name": "stdout",
     "output_type": "stream",
     "text": [
      "xavier\n",
      "xavier\n",
      "xavier\n",
      "xavier\n",
      "xavier\n"
     ]
    }
   ],
   "source": [
    "layers = [Affine(\"first\", 784, 100), Relu(\"first\"), Affine(\"second\", 100, 100), Relu(\"second\"), Affine(\"third\", 100, 2), Affine(\"last\", 2, 1), Sigmoid(\"last\")]\n",
    "model_nn = Model(layers)\n",
    "model_lr = Model([Affine(\"logits\", 784, 1), Sigmoid(\"sigmoid\")])"
   ]
  },
  {
   "cell_type": "code",
   "execution_count": 20,
   "id": "6eede77a",
   "metadata": {
    "execution": {
     "iopub.execute_input": "2022-11-18T10:11:24.477661Z",
     "iopub.status.busy": "2022-11-18T10:11:24.476971Z",
     "iopub.status.idle": "2022-11-18T10:11:24.492593Z",
     "shell.execute_reply": "2022-11-18T10:11:24.491803Z"
    },
    "papermill": {
     "duration": 0.052983,
     "end_time": "2022-11-18T10:11:24.492712",
     "exception": false,
     "start_time": "2022-11-18T10:11:24.439729",
     "status": "completed"
    },
    "tags": []
   },
   "outputs": [],
   "source": [
    "nn_learner = Learner(loss, model_nn, opt, config.num_epochs)\n",
    "acc_nn = ClfCallback(nn_learner, config.bs, training_data_x , testing_data_x, training_data_y, testing_data_y)\n",
    "nn_learner.set_callbacks([acc_nn])"
   ]
  },
  {
   "cell_type": "code",
   "execution_count": 21,
   "id": "877b6cc7",
   "metadata": {
    "execution": {
     "iopub.execute_input": "2022-11-18T10:11:24.561722Z",
     "iopub.status.busy": "2022-11-18T10:11:24.561053Z",
     "iopub.status.idle": "2022-11-18T10:11:24.575704Z",
     "shell.execute_reply": "2022-11-18T10:11:24.576441Z"
    },
    "papermill": {
     "duration": 0.052124,
     "end_time": "2022-11-18T10:11:24.576569",
     "exception": false,
     "start_time": "2022-11-18T10:11:24.524445",
     "status": "completed"
    },
    "tags": []
   },
   "outputs": [],
   "source": [
    "lr_learner = Learner(loss, model_lr, opt, config.num_epochs)\n",
    "acc_lr = ClfCallback(lr_learner, config.bs, training_data_x , testing_data_x, training_data_y, testing_data_y)\n",
    "lr_learner.set_callbacks([acc_lr])"
   ]
  },
  {
   "cell_type": "code",
   "execution_count": 22,
   "id": "d9b133c3",
   "metadata": {
    "execution": {
     "iopub.execute_input": "2022-11-18T10:11:24.644598Z",
     "iopub.status.busy": "2022-11-18T10:11:24.643826Z",
     "iopub.status.idle": "2022-11-18T10:13:48.431152Z",
     "shell.execute_reply": "2022-11-18T10:13:48.432162Z"
    },
    "papermill": {
     "duration": 143.824449,
     "end_time": "2022-11-18T10:13:48.432341",
     "exception": false,
     "start_time": "2022-11-18T10:11:24.607892",
     "status": "completed"
    },
    "tags": []
   },
   "outputs": [
    {
     "name": "stdout",
     "output_type": "stream",
     "text": [
      "Epoch 0, Loss 0.2559\n",
      "Training Accuracy: 0.5091, Testing Accuracy: 0.5136\n",
      "\n"
     ]
    },
    {
     "name": "stdout",
     "output_type": "stream",
     "text": [
      "Epoch 10, Loss 0.1628\n",
      "Training Accuracy: 0.8874, Testing Accuracy: 0.8886\n",
      "\n"
     ]
    },
    {
     "name": "stdout",
     "output_type": "stream",
     "text": [
      "Epoch 20, Loss 0.0797\n",
      "Training Accuracy: 0.9257, Testing Accuracy: 0.9304\n",
      "\n"
     ]
    },
    {
     "name": "stdout",
     "output_type": "stream",
     "text": [
      "Epoch 30, Loss 0.0541\n",
      "Training Accuracy: 0.9434, Testing Accuracy: 0.9521\n",
      "\n"
     ]
    },
    {
     "name": "stdout",
     "output_type": "stream",
     "text": [
      "Epoch 40, Loss 0.0437\n",
      "Training Accuracy: 0.9513, Testing Accuracy: 0.9627\n",
      "\n"
     ]
    },
    {
     "name": "stdout",
     "output_type": "stream",
     "text": [
      "Epoch 50, Loss 0.0381\n",
      "Training Accuracy: 0.9565, Testing Accuracy: 0.9627\n",
      "\n"
     ]
    },
    {
     "name": "stdout",
     "output_type": "stream",
     "text": [
      "Epoch 60, Loss 0.0347\n",
      "Training Accuracy: 0.9599, Testing Accuracy: 0.9667\n",
      "\n"
     ]
    },
    {
     "name": "stdout",
     "output_type": "stream",
     "text": [
      "Epoch 70, Loss 0.0323\n",
      "Training Accuracy: 0.9627, Testing Accuracy: 0.9688\n",
      "\n"
     ]
    },
    {
     "name": "stdout",
     "output_type": "stream",
     "text": [
      "Epoch 80, Loss 0.0305\n",
      "Training Accuracy: 0.9637, Testing Accuracy: 0.9688\n",
      "\n"
     ]
    },
    {
     "name": "stdout",
     "output_type": "stream",
     "text": [
      "Epoch 90, Loss 0.0291\n",
      "Training Accuracy: 0.9659, Testing Accuracy: 0.9672\n",
      "\n"
     ]
    },
    {
     "name": "stdout",
     "output_type": "stream",
     "text": [
      "Epoch 100, Loss 0.0279\n",
      "Training Accuracy: 0.9666, Testing Accuracy: 0.9677\n",
      "\n"
     ]
    },
    {
     "name": "stdout",
     "output_type": "stream",
     "text": [
      "Epoch 110, Loss 0.0269\n",
      "Training Accuracy: 0.9678, Testing Accuracy: 0.9682\n",
      "\n"
     ]
    },
    {
     "name": "stdout",
     "output_type": "stream",
     "text": [
      "Epoch 120, Loss 0.026\n",
      "Training Accuracy: 0.9688, Testing Accuracy: 0.9682\n",
      "\n"
     ]
    },
    {
     "name": "stdout",
     "output_type": "stream",
     "text": [
      "Epoch 130, Loss 0.0252\n",
      "Training Accuracy: 0.9700, Testing Accuracy: 0.9688\n",
      "\n"
     ]
    },
    {
     "name": "stdout",
     "output_type": "stream",
     "text": [
      "Epoch 140, Loss 0.0245\n",
      "Training Accuracy: 0.9711, Testing Accuracy: 0.9688\n",
      "\n"
     ]
    },
    {
     "name": "stdout",
     "output_type": "stream",
     "text": [
      "Epoch 150, Loss 0.0239\n",
      "Training Accuracy: 0.9722, Testing Accuracy: 0.9703\n",
      "\n"
     ]
    },
    {
     "name": "stdout",
     "output_type": "stream",
     "text": [
      "Epoch 160, Loss 0.0233\n",
      "Training Accuracy: 0.9727, Testing Accuracy: 0.9703\n",
      "\n"
     ]
    },
    {
     "name": "stdout",
     "output_type": "stream",
     "text": [
      "Epoch 170, Loss 0.0227\n",
      "Training Accuracy: 0.9738, Testing Accuracy: 0.9713\n",
      "\n"
     ]
    },
    {
     "name": "stdout",
     "output_type": "stream",
     "text": [
      "Epoch 180, Loss 0.0222\n",
      "Training Accuracy: 0.9743, Testing Accuracy: 0.9713\n",
      "\n"
     ]
    },
    {
     "name": "stdout",
     "output_type": "stream",
     "text": [
      "Epoch 190, Loss 0.0217\n",
      "Training Accuracy: 0.9750, Testing Accuracy: 0.9718\n",
      "\n"
     ]
    },
    {
     "name": "stdout",
     "output_type": "stream",
     "text": [
      "Epoch 200, Loss 0.0212\n",
      "Training Accuracy: 0.9759, Testing Accuracy: 0.9723\n",
      "\n"
     ]
    },
    {
     "name": "stdout",
     "output_type": "stream",
     "text": [
      "Epoch 210, Loss 0.0208\n",
      "Training Accuracy: 0.9763, Testing Accuracy: 0.9723\n",
      "\n"
     ]
    },
    {
     "name": "stdout",
     "output_type": "stream",
     "text": [
      "Epoch 220, Loss 0.0204\n",
      "Training Accuracy: 0.9768, Testing Accuracy: 0.9723\n",
      "\n"
     ]
    },
    {
     "name": "stdout",
     "output_type": "stream",
     "text": [
      "Epoch 230, Loss 0.02\n",
      "Training Accuracy: 0.9770, Testing Accuracy: 0.9723\n",
      "\n"
     ]
    },
    {
     "name": "stdout",
     "output_type": "stream",
     "text": [
      "Epoch 240, Loss 0.0196\n",
      "Training Accuracy: 0.9776, Testing Accuracy: 0.9723\n",
      "\n"
     ]
    },
    {
     "data": {
      "text/plain": [
       "0.00271202401662395"
      ]
     },
     "execution_count": 22,
     "metadata": {},
     "output_type": "execute_result"
    }
   ],
   "source": [
    "nn_learner.train_loop(dl)"
   ]
  },
  {
   "cell_type": "code",
   "execution_count": 23,
   "id": "e0163366",
   "metadata": {
    "execution": {
     "iopub.execute_input": "2022-11-18T10:13:48.536018Z",
     "iopub.status.busy": "2022-11-18T10:13:48.535100Z",
     "iopub.status.idle": "2022-11-18T10:14:08.786928Z",
     "shell.execute_reply": "2022-11-18T10:14:08.788167Z"
    },
    "papermill": {
     "duration": 20.309218,
     "end_time": "2022-11-18T10:14:08.788403",
     "exception": false,
     "start_time": "2022-11-18T10:13:48.479185",
     "status": "completed"
    },
    "tags": []
   },
   "outputs": [
    {
     "name": "stdout",
     "output_type": "stream",
     "text": [
      "Epoch 0, Loss 0.2432\n",
      "Training Accuracy: 0.6612, Testing Accuracy: 0.6870\n",
      "\n"
     ]
    },
    {
     "name": "stdout",
     "output_type": "stream",
     "text": [
      "Epoch 10, Loss 0.1052\n",
      "Training Accuracy: 0.9039, Testing Accuracy: 0.9138\n",
      "\n"
     ]
    },
    {
     "name": "stdout",
     "output_type": "stream",
     "text": [
      "Epoch 20, Loss 0.0807\n",
      "Training Accuracy: 0.9248, Testing Accuracy: 0.9380\n",
      "\n"
     ]
    },
    {
     "name": "stdout",
     "output_type": "stream",
     "text": [
      "Epoch 30, Loss 0.0695\n",
      "Training Accuracy: 0.9331, Testing Accuracy: 0.9441\n",
      "\n"
     ]
    },
    {
     "name": "stdout",
     "output_type": "stream",
     "text": [
      "Epoch 40, Loss 0.0628\n",
      "Training Accuracy: 0.9382, Testing Accuracy: 0.9511\n",
      "\n"
     ]
    },
    {
     "name": "stdout",
     "output_type": "stream",
     "text": [
      "Epoch 50, Loss 0.0583\n",
      "Training Accuracy: 0.9417, Testing Accuracy: 0.9536\n",
      "\n"
     ]
    },
    {
     "name": "stdout",
     "output_type": "stream",
     "text": [
      "Epoch 60, Loss 0.0549\n",
      "Training Accuracy: 0.9446, Testing Accuracy: 0.9556\n",
      "\n"
     ]
    },
    {
     "name": "stdout",
     "output_type": "stream",
     "text": [
      "Epoch 70, Loss 0.0523\n",
      "Training Accuracy: 0.9458, Testing Accuracy: 0.9572\n",
      "\n"
     ]
    },
    {
     "name": "stdout",
     "output_type": "stream",
     "text": [
      "Epoch 80, Loss 0.0502\n",
      "Training Accuracy: 0.9483, Testing Accuracy: 0.9587\n",
      "\n"
     ]
    },
    {
     "name": "stdout",
     "output_type": "stream",
     "text": [
      "Epoch 90, Loss 0.0485\n",
      "Training Accuracy: 0.9496, Testing Accuracy: 0.9617\n",
      "\n"
     ]
    },
    {
     "name": "stdout",
     "output_type": "stream",
     "text": [
      "Epoch 100, Loss 0.0471\n",
      "Training Accuracy: 0.9503, Testing Accuracy: 0.9627\n",
      "\n"
     ]
    },
    {
     "name": "stdout",
     "output_type": "stream",
     "text": [
      "Epoch 110, Loss 0.0458\n",
      "Training Accuracy: 0.9513, Testing Accuracy: 0.9632\n",
      "\n"
     ]
    },
    {
     "name": "stdout",
     "output_type": "stream",
     "text": [
      "Epoch 120, Loss 0.0447\n",
      "Training Accuracy: 0.9523, Testing Accuracy: 0.9642\n",
      "\n"
     ]
    },
    {
     "name": "stdout",
     "output_type": "stream",
     "text": [
      "Epoch 130, Loss 0.0437\n",
      "Training Accuracy: 0.9532, Testing Accuracy: 0.9667\n",
      "\n"
     ]
    },
    {
     "name": "stdout",
     "output_type": "stream",
     "text": [
      "Epoch 140, Loss 0.0429\n",
      "Training Accuracy: 0.9541, Testing Accuracy: 0.9672\n",
      "\n"
     ]
    },
    {
     "name": "stdout",
     "output_type": "stream",
     "text": [
      "Epoch 150, Loss 0.0421\n",
      "Training Accuracy: 0.9549, Testing Accuracy: 0.9667\n",
      "\n"
     ]
    },
    {
     "name": "stdout",
     "output_type": "stream",
     "text": [
      "Epoch 160, Loss 0.0414\n",
      "Training Accuracy: 0.9557, Testing Accuracy: 0.9667\n",
      "\n"
     ]
    },
    {
     "name": "stdout",
     "output_type": "stream",
     "text": [
      "Epoch 170, Loss 0.0408\n",
      "Training Accuracy: 0.9564, Testing Accuracy: 0.9667\n",
      "\n"
     ]
    },
    {
     "name": "stdout",
     "output_type": "stream",
     "text": [
      "Epoch 180, Loss 0.0402\n",
      "Training Accuracy: 0.9571, Testing Accuracy: 0.9667\n",
      "\n"
     ]
    },
    {
     "name": "stdout",
     "output_type": "stream",
     "text": [
      "Epoch 190, Loss 0.0397\n",
      "Training Accuracy: 0.9576, Testing Accuracy: 0.9667\n",
      "\n"
     ]
    },
    {
     "name": "stdout",
     "output_type": "stream",
     "text": [
      "Epoch 200, Loss 0.0392\n",
      "Training Accuracy: 0.9583, Testing Accuracy: 0.9667\n",
      "\n"
     ]
    },
    {
     "name": "stdout",
     "output_type": "stream",
     "text": [
      "Epoch 210, Loss 0.0387\n",
      "Training Accuracy: 0.9589, Testing Accuracy: 0.9667\n",
      "\n"
     ]
    },
    {
     "name": "stdout",
     "output_type": "stream",
     "text": [
      "Epoch 220, Loss 0.0383\n",
      "Training Accuracy: 0.9591, Testing Accuracy: 0.9662\n",
      "\n"
     ]
    },
    {
     "name": "stdout",
     "output_type": "stream",
     "text": [
      "Epoch 230, Loss 0.0379\n",
      "Training Accuracy: 0.9596, Testing Accuracy: 0.9657\n",
      "\n"
     ]
    },
    {
     "name": "stdout",
     "output_type": "stream",
     "text": [
      "Epoch 240, Loss 0.0375\n",
      "Training Accuracy: 0.9600, Testing Accuracy: 0.9667\n",
      "\n"
     ]
    },
    {
     "data": {
      "text/plain": [
       "0.0844327058610028"
      ]
     },
     "execution_count": 23,
     "metadata": {},
     "output_type": "execute_result"
    }
   ],
   "source": [
    "lr_learner.train_loop(dl)"
   ]
  },
  {
   "cell_type": "code",
   "execution_count": 24,
   "id": "ca410940",
   "metadata": {
    "execution": {
     "iopub.execute_input": "2022-11-18T10:14:08.899577Z",
     "iopub.status.busy": "2022-11-18T10:14:08.898932Z",
     "iopub.status.idle": "2022-11-18T10:14:09.196504Z",
     "shell.execute_reply": "2022-11-18T10:14:09.197025Z"
    },
    "papermill": {
     "duration": 0.354784,
     "end_time": "2022-11-18T10:14:09.197204",
     "exception": false,
     "start_time": "2022-11-18T10:14:08.842420",
     "status": "completed"
    },
    "tags": []
   },
   "outputs": [
    {
     "data": {
      "text/plain": [
       "<matplotlib.legend.Legend at 0x7f56d5d8e5c0>"
      ]
     },
     "execution_count": 24,
     "metadata": {},
     "output_type": "execute_result"
    },
    {
     "data": {
      "image/png": "[encoded data removed]",
      "text/plain": [
       "<Figure size 1080x720 with 1 Axes>"
      ]
     },
     "metadata": {
      "needs_background": "light"
     },
     "output_type": "display_data"
    }
   ],
   "source": [
    "#comparing the results of NN and LR\n",
    "plt.figure(figsize=(15,10))\n",
    "\n",
    "# Neural Network plots\n",
    "plt.plot(acc_nn.accuracies, 'r-', label = \"Training Accuracies - NN\")\n",
    "plt.plot(acc_nn.test_accuracies, 'g-', label = \"Testing Accuracies - NN\")\n",
    "\n",
    "# Logistic Regression plots\n",
    "plt.plot(acc_lr.accuracies, 'k-', label = \"Training Accuracies - LR\")\n",
    "plt.plot(acc_lr.test_accuracies, 'b-', label = \"Testing Accuracies - LR\")\n",
    "plt.legend()"
   ]
  },
  {
   "cell_type": "markdown",
   "id": "80dfb35c",
   "metadata": {
    "papermill": {
     "duration": 0.054034,
     "end_time": "2022-11-18T10:14:09.304314",
     "exception": false,
     "start_time": "2022-11-18T10:14:09.250280",
     "status": "completed"
    },
    "tags": []
   },
   "source": [
    "#### Plotting the outputs of this layer of the NN.\n"
   ]
  },
  {
   "cell_type": "code",
   "execution_count": 25,
   "id": "45eb2ff5",
   "metadata": {
    "execution": {
     "iopub.execute_input": "2022-11-18T10:14:09.410465Z",
     "iopub.status.busy": "2022-11-18T10:14:09.409747Z",
     "iopub.status.idle": "2022-11-18T10:14:09.436185Z",
     "shell.execute_reply": "2022-11-18T10:14:09.437014Z"
    },
    "papermill": {
     "duration": 0.082433,
     "end_time": "2022-11-18T10:14:09.437187",
     "exception": false,
     "start_time": "2022-11-18T10:14:09.354754",
     "status": "completed"
    },
    "tags": []
   },
   "outputs": [],
   "source": [
    "new_model = Model(layers[:-2])\n",
    "testing_plot = new_model(testing_data_x)"
   ]
  },
  {
   "cell_type": "code",
   "execution_count": 26,
   "id": "4c0a5485",
   "metadata": {
    "execution": {
     "iopub.execute_input": "2022-11-18T10:14:09.542683Z",
     "iopub.status.busy": "2022-11-18T10:14:09.541840Z",
     "iopub.status.idle": "2022-11-18T10:14:09.779928Z",
     "shell.execute_reply": "2022-11-18T10:14:09.781169Z"
    },
    "papermill": {
     "duration": 0.295209,
     "end_time": "2022-11-18T10:14:09.781313",
     "exception": false,
     "start_time": "2022-11-18T10:14:09.486104",
     "status": "completed"
    },
    "tags": []
   },
   "outputs": [
    {
     "data": {
      "text/plain": [
       "Text(0.5, 1.0, 'Outputs')"
      ]
     },
     "execution_count": 26,
     "metadata": {},
     "output_type": "execute_result"
    },
    {
     "data": {
      "image/png": "[encoded data removed]",
      "text/plain": [
       "<Figure size 576x504 with 1 Axes>"
      ]
     },
     "metadata": {
      "needs_background": "light"
     },
     "output_type": "display_data"
    }
   ],
   "source": [
    "# Plotting the scatter plot of points and color coding by class\n",
    "plt.figure(figsize=(8,7))\n",
    "plt.scatter(testing_plot[:,0], testing_plot[:,1], alpha = 0.1, c = y_test.ravel());\n",
    "plt.title('Outputs')"
   ]
  },
  {
   "cell_type": "markdown",
   "id": "a74fcf8f",
   "metadata": {
    "papermill": {
     "duration": 0.070458,
     "end_time": "2022-11-18T10:14:09.905360",
     "exception": false,
     "start_time": "2022-11-18T10:14:09.834902",
     "status": "completed"
    },
    "tags": []
   },
   "source": [
    "Probability contours"
   ]
  },
  {
   "cell_type": "code",
   "execution_count": 27,
   "id": "d0afc8e3",
   "metadata": {
    "execution": {
     "iopub.execute_input": "2022-11-18T10:14:10.027072Z",
     "iopub.status.busy": "2022-11-18T10:14:10.019861Z",
     "iopub.status.idle": "2022-11-18T10:14:10.034943Z",
     "shell.execute_reply": "2022-11-18T10:14:10.035449Z"
    },
    "papermill": {
     "duration": 0.076143,
     "end_time": "2022-11-18T10:14:10.035615",
     "exception": false,
     "start_time": "2022-11-18T10:14:09.959472",
     "status": "completed"
    },
    "tags": []
   },
   "outputs": [],
   "source": [
    "model_prob = Model(layers[-2:]) "
   ]
  },
  {
   "cell_type": "code",
   "execution_count": 28,
   "id": "9b96e238",
   "metadata": {
    "execution": {
     "iopub.execute_input": "2022-11-18T10:14:10.160532Z",
     "iopub.status.busy": "2022-11-18T10:14:10.153453Z",
     "iopub.status.idle": "2022-11-18T10:14:10.167237Z",
     "shell.execute_reply": "2022-11-18T10:14:10.166396Z"
    },
    "papermill": {
     "duration": 0.07654,
     "end_time": "2022-11-18T10:14:10.167350",
     "exception": false,
     "start_time": "2022-11-18T10:14:10.090810",
     "status": "completed"
    },
    "tags": []
   },
   "outputs": [],
   "source": [
    "#creating the x and y ranges according to the above generated plot.\n",
    "x_range = np.linspace(-4, 1, 100) \n",
    "y_range = np.linspace(-6, 6, 100) \n",
    "x_grid, y_grid = np.meshgrid(x_range, y_range) # x_grid and y_grig are of size 100 X 100\n",
    "\n",
    "# converting x_grid and y_grid to continuous arrays\n",
    "x_gridflat = np.ravel(x_grid)\n",
    "y_gridflat = np.ravel(y_grid)\n",
    "\n",
    "# The last layer of the current model takes two columns as input. Hence transpose of np.vstack() is required.\n",
    "X = np.vstack((x_gridflat, y_gridflat)).T\n",
    "\n",
    "prob_contour = model_prob(X).reshape(100,100) "
   ]
  },
  {
   "cell_type": "code",
   "execution_count": 29,
   "id": "da72499a",
   "metadata": {
    "execution": {
     "iopub.execute_input": "2022-11-18T10:14:10.274993Z",
     "iopub.status.busy": "2022-11-18T10:14:10.274340Z",
     "iopub.status.idle": "2022-11-18T10:14:10.586854Z",
     "shell.execute_reply": "2022-11-18T10:14:10.586081Z"
    },
    "papermill": {
     "duration": 0.368818,
     "end_time": "2022-11-18T10:14:10.587054",
     "exception": false,
     "start_time": "2022-11-18T10:14:10.218236",
     "status": "completed"
    },
    "tags": []
   },
   "outputs": [
    {
     "data": {
      "image/png": "[encoded data removed]",
      "text/plain": [
       "<Figure size 720x648 with 1 Axes>"
      ]
     },
     "metadata": {
      "needs_background": "light"
     },
     "output_type": "display_data"
    }
   ],
   "source": [
    "plt.figure(figsize=(10,9))\n",
    "plt.scatter(testing_plot[:,0], testing_plot[:,1], alpha = 0.1, c = y_test.ravel())\n",
    "contours = plt.contour(x_grid,y_grid,prob_contour)\n",
    "plt.title('Probability Contours')\n",
    "plt.clabel(contours, inline = True );"
   ]
  },
  {
   "cell_type": "code",
   "execution_count": null,
   "id": "e81b4ac7",
   "metadata": {
    "papermill": {
     "duration": 0.052826,
     "end_time": "2022-11-18T10:14:10.695327",
     "exception": false,
     "start_time": "2022-11-18T10:14:10.642501",
     "status": "completed"
    },
    "tags": []
   },
   "outputs": [],
   "source": []
  }
 ],
 "metadata": {
  "kernelspec": {
   "display_name": "Python 3",
   "language": "python",
   "name": "python3"
  },
  "language_info": {
   "codemirror_mode": {
    "name": "ipython",
    "version": 3
   },
   "file_extension": ".py",
   "mimetype": "text/x-python",
   "name": "python",
   "nbconvert_exporter": "python",
   "pygments_lexer": "ipython3",
   "version": "3.6.15"
  },
  "papermill": {
   "default_parameters": {},
   "duration": 173.788924,
   "end_time": "2022-11-18T10:14:11.167612",
   "environment_variables": {},
   "exception": null,
   "input_path": "2020-08-11-part2.ipynb",
   "output_path": "2020-08-11-part2.ipynb",
   "parameters": {},
   "start_time": "2022-11-18T10:11:17.378688",
   "version": "2.3.3"
  }
 },
 "nbformat": 4,
 "nbformat_minor": 5
}