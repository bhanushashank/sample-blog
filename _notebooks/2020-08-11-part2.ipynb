{
 "cells": [
  {
   "cell_type": "markdown",
   "id": "98380cd3",
   "metadata": {
    "papermill": {
     "duration": 0.037879,
     "end_time": "2022-08-14T10:10:24.453430",
     "exception": false,
     "start_time": "2022-08-14T10:10:24.415551",
     "status": "completed"
    },
    "tags": []
   },
   "source": [
    "# Distinguish Your Own Digits (DYOD)"
   ]
  },
  {
   "cell_type": "markdown",
   "id": "ef31240d",
   "metadata": {
    "papermill": {
     "duration": 0.02889,
     "end_time": "2022-08-14T10:10:24.512945",
     "exception": false,
     "start_time": "2022-08-14T10:10:24.484055",
     "status": "completed"
    },
    "tags": []
   },
   "source": [
    "You are going to write a classifier that distinguishes between the number 3 and number 8."
   ]
  },
  {
   "cell_type": "code",
   "execution_count": 1,
   "id": "b15c8646",
   "metadata": {
    "execution": {
     "iopub.execute_input": "2022-08-14T10:10:24.587276Z",
     "iopub.status.busy": "2022-08-14T10:10:24.586323Z",
     "iopub.status.idle": "2022-08-14T10:10:24.600269Z",
     "shell.execute_reply": "2022-08-14T10:10:24.599620Z"
    },
    "papermill": {
     "duration": 0.057207,
     "end_time": "2022-08-14T10:10:24.600418",
     "exception": false,
     "start_time": "2022-08-14T10:10:24.543211",
     "status": "completed"
    },
    "tags": []
   },
   "outputs": [],
   "source": [
    "%load_ext autoreload\n",
    "%autoreload 2"
   ]
  },
  {
   "cell_type": "code",
   "execution_count": 2,
   "id": "22ef38dc",
   "metadata": {
    "execution": {
     "iopub.execute_input": "2022-08-14T10:10:24.663842Z",
     "iopub.status.busy": "2022-08-14T10:10:24.663084Z",
     "iopub.status.idle": "2022-08-14T10:10:25.315000Z",
     "shell.execute_reply": "2022-08-14T10:10:25.314405Z"
    },
    "papermill": {
     "duration": 0.685811,
     "end_time": "2022-08-14T10:10:25.315190",
     "exception": false,
     "start_time": "2022-08-14T10:10:24.629379",
     "status": "completed"
    },
    "tags": []
   },
   "outputs": [],
   "source": [
    "%matplotlib inline\n",
    "import numpy as np\n",
    "import matplotlib.pyplot as plt\n",
    "import pandas as pd"
   ]
  },
  {
   "cell_type": "markdown",
   "id": "ba036198",
   "metadata": {
    "papermill": {
     "duration": 0.029194,
     "end_time": "2022-08-14T10:10:25.376057",
     "exception": false,
     "start_time": "2022-08-14T10:10:25.346863",
     "status": "completed"
    },
    "tags": []
   },
   "source": [
    "From the command line run `pip install mnist`. This is a library that will help you bring down the mnist dataset. If you run this from a notebook, you need to put  `!pip install mnist` in a cell by itself."
   ]
  },
  {
   "cell_type": "code",
   "execution_count": 3,
   "id": "bb6ad8a1",
   "metadata": {
    "execution": {
     "iopub.execute_input": "2022-08-14T10:10:25.443984Z",
     "iopub.status.busy": "2022-08-14T10:10:25.443227Z",
     "iopub.status.idle": "2022-08-14T10:10:27.304305Z",
     "shell.execute_reply": "2022-08-14T10:10:27.303704Z"
    },
    "papermill": {
     "duration": 1.897851,
     "end_time": "2022-08-14T10:10:27.304449",
     "exception": false,
     "start_time": "2022-08-14T10:10:25.406598",
     "status": "completed"
    },
    "tags": []
   },
   "outputs": [
    {
     "name": "stdout",
     "output_type": "stream",
     "text": [
      "Collecting mnist\r\n"
     ]
    },
    {
     "name": "stdout",
     "output_type": "stream",
     "text": [
      "  Downloading mnist-0.2.2-py2.py3-none-any.whl (3.5 kB)\r\n",
      "Requirement already satisfied: numpy in /opt/hostedtoolcache/Python/3.6.15/x64/lib/python3.6/site-packages (from mnist) (1.19.5)\r\n"
     ]
    },
    {
     "name": "stdout",
     "output_type": "stream",
     "text": [
      "Installing collected packages: mnist\r\n"
     ]
    },
    {
     "name": "stdout",
     "output_type": "stream",
     "text": [
      "Successfully installed mnist-0.2.2\r\n"
     ]
    }
   ],
   "source": [
    "!pip install mnist"
   ]
  },
  {
   "cell_type": "markdown",
   "id": "69df9c9a",
   "metadata": {
    "papermill": {
     "duration": 0.032489,
     "end_time": "2022-08-14T10:10:27.368865",
     "exception": false,
     "start_time": "2022-08-14T10:10:27.336376",
     "status": "completed"
    },
    "tags": []
   },
   "source": [
    "## Preparing the Data"
   ]
  },
  {
   "cell_type": "code",
   "execution_count": 4,
   "id": "7f69d806",
   "metadata": {
    "execution": {
     "iopub.execute_input": "2022-08-14T10:10:27.446048Z",
     "iopub.status.busy": "2022-08-14T10:10:27.442648Z",
     "iopub.status.idle": "2022-08-14T10:10:27.456913Z",
     "shell.execute_reply": "2022-08-14T10:10:27.457490Z"
    },
    "papermill": {
     "duration": 0.057175,
     "end_time": "2022-08-14T10:10:27.457639",
     "exception": false,
     "start_time": "2022-08-14T10:10:27.400464",
     "status": "completed"
    },
    "tags": []
   },
   "outputs": [],
   "source": [
    "import mnist"
   ]
  },
  {
   "cell_type": "code",
   "execution_count": 5,
   "id": "a411e44f",
   "metadata": {
    "execution": {
     "iopub.execute_input": "2022-08-14T10:10:27.534182Z",
     "iopub.status.busy": "2022-08-14T10:10:27.530433Z",
     "iopub.status.idle": "2022-08-14T10:10:28.168379Z",
     "shell.execute_reply": "2022-08-14T10:10:28.167723Z"
    },
    "papermill": {
     "duration": 0.679882,
     "end_time": "2022-08-14T10:10:28.168544",
     "exception": false,
     "start_time": "2022-08-14T10:10:27.488662",
     "status": "completed"
    },
    "tags": []
   },
   "outputs": [],
   "source": [
    "train_images = mnist.train_images()\n",
    "train_labels = mnist.train_labels()"
   ]
  },
  {
   "cell_type": "code",
   "execution_count": 6,
   "id": "dceab3a5",
   "metadata": {
    "execution": {
     "iopub.execute_input": "2022-08-14T10:10:28.238491Z",
     "iopub.status.busy": "2022-08-14T10:10:28.237604Z",
     "iopub.status.idle": "2022-08-14T10:10:28.256711Z",
     "shell.execute_reply": "2022-08-14T10:10:28.256003Z"
    },
    "papermill": {
     "duration": 0.056841,
     "end_time": "2022-08-14T10:10:28.256877",
     "exception": false,
     "start_time": "2022-08-14T10:10:28.200036",
     "status": "completed"
    },
    "tags": []
   },
   "outputs": [
    {
     "data": {
      "text/plain": [
       "((60000, 28, 28), (60000,))"
      ]
     },
     "execution_count": 6,
     "metadata": {},
     "output_type": "execute_result"
    }
   ],
   "source": [
    "train_images.shape, train_labels.shape"
   ]
  },
  {
   "cell_type": "code",
   "execution_count": 7,
   "id": "f50dc2bb",
   "metadata": {
    "execution": {
     "iopub.execute_input": "2022-08-14T10:10:28.327786Z",
     "iopub.status.busy": "2022-08-14T10:10:28.326712Z",
     "iopub.status.idle": "2022-08-14T10:10:28.466624Z",
     "shell.execute_reply": "2022-08-14T10:10:28.465995Z"
    },
    "papermill": {
     "duration": 0.176505,
     "end_time": "2022-08-14T10:10:28.466786",
     "exception": false,
     "start_time": "2022-08-14T10:10:28.290281",
     "status": "completed"
    },
    "tags": []
   },
   "outputs": [],
   "source": [
    "test_images = mnist.test_images()\n",
    "test_labels = mnist.test_labels()"
   ]
  },
  {
   "cell_type": "code",
   "execution_count": 8,
   "id": "fc38cf1b",
   "metadata": {
    "execution": {
     "iopub.execute_input": "2022-08-14T10:10:28.537462Z",
     "iopub.status.busy": "2022-08-14T10:10:28.536741Z",
     "iopub.status.idle": "2022-08-14T10:10:28.553708Z",
     "shell.execute_reply": "2022-08-14T10:10:28.553067Z"
    },
    "papermill": {
     "duration": 0.054636,
     "end_time": "2022-08-14T10:10:28.553841",
     "exception": false,
     "start_time": "2022-08-14T10:10:28.499205",
     "status": "completed"
    },
    "tags": []
   },
   "outputs": [
    {
     "data": {
      "text/plain": [
       "((10000, 28, 28), (10000,))"
      ]
     },
     "execution_count": 8,
     "metadata": {},
     "output_type": "execute_result"
    }
   ],
   "source": [
    "test_images.shape, test_labels.shape"
   ]
  },
  {
   "cell_type": "code",
   "execution_count": 9,
   "id": "f9ed8fe0",
   "metadata": {
    "execution": {
     "iopub.execute_input": "2022-08-14T10:10:28.624170Z",
     "iopub.status.busy": "2022-08-14T10:10:28.623506Z",
     "iopub.status.idle": "2022-08-14T10:10:28.815465Z",
     "shell.execute_reply": "2022-08-14T10:10:28.816540Z"
    },
    "papermill": {
     "duration": 0.230026,
     "end_time": "2022-08-14T10:10:28.816725",
     "exception": false,
     "start_time": "2022-08-14T10:10:28.586699",
     "status": "completed"
    },
    "tags": []
   },
   "outputs": [
    {
     "name": "stdout",
     "output_type": "stream",
     "text": [
      "2\n"
     ]
    },
    {
     "data": {
      "text/plain": [
       "<matplotlib.image.AxesImage at 0x7fa14b3634e0>"
      ]
     },
     "execution_count": 9,
     "metadata": {},
     "output_type": "execute_result"
    },
    {
     "data": {
      "image/png": "[encoded data removed]",
      "text/plain": [
       "<Figure size 432x288 with 1 Axes>"
      ]
     },
     "metadata": {
      "needs_background": "light"
     },
     "output_type": "display_data"
    }
   ],
   "source": [
    "image_index = 7776 # You may select anything up to 60,000\n",
    "print(train_labels[image_index]) \n",
    "plt.imshow(train_images[image_index], cmap='Greys')"
   ]
  },
  {
   "cell_type": "markdown",
   "id": "a8d2388d",
   "metadata": {
    "papermill": {
     "duration": 0.032439,
     "end_time": "2022-08-14T10:10:28.883740",
     "exception": false,
     "start_time": "2022-08-14T10:10:28.851301",
     "status": "completed"
    },
    "tags": []
   },
   "source": [
    "## Filter data to get 3 and 8 out"
   ]
  },
  {
   "cell_type": "code",
   "execution_count": 10,
   "id": "776f7fc7",
   "metadata": {
    "execution": {
     "iopub.execute_input": "2022-08-14T10:10:28.957716Z",
     "iopub.status.busy": "2022-08-14T10:10:28.956940Z",
     "iopub.status.idle": "2022-08-14T10:10:28.979354Z",
     "shell.execute_reply": "2022-08-14T10:10:28.978691Z"
    },
    "papermill": {
     "duration": 0.061942,
     "end_time": "2022-08-14T10:10:28.979555",
     "exception": false,
     "start_time": "2022-08-14T10:10:28.917613",
     "status": "completed"
    },
    "tags": []
   },
   "outputs": [],
   "source": [
    "train_filter = np.where((train_labels == 3 ) | (train_labels == 8))\n",
    "test_filter = np.where((test_labels == 3) | (test_labels == 8))\n",
    "X_train, y_train = train_images[train_filter], train_labels[train_filter]\n",
    "X_test, y_test = test_images[test_filter], test_labels[test_filter]"
   ]
  },
  {
   "cell_type": "markdown",
   "id": "948f0b7e",
   "metadata": {
    "papermill": {
     "duration": 0.032303,
     "end_time": "2022-08-14T10:10:29.044890",
     "exception": false,
     "start_time": "2022-08-14T10:10:29.012587",
     "status": "completed"
    },
    "tags": []
   },
   "source": [
    "We normalize the pizel values in the 0 to 1 range"
   ]
  },
  {
   "cell_type": "code",
   "execution_count": 11,
   "id": "ee4c2166",
   "metadata": {
    "execution": {
     "iopub.execute_input": "2022-08-14T10:10:29.122188Z",
     "iopub.status.busy": "2022-08-14T10:10:29.121436Z",
     "iopub.status.idle": "2022-08-14T10:10:29.186903Z",
     "shell.execute_reply": "2022-08-14T10:10:29.187559Z"
    },
    "papermill": {
     "duration": 0.104609,
     "end_time": "2022-08-14T10:10:29.187810",
     "exception": false,
     "start_time": "2022-08-14T10:10:29.083201",
     "status": "completed"
    },
    "tags": []
   },
   "outputs": [],
   "source": [
    "X_train = X_train/255.\n",
    "X_test = X_test/255."
   ]
  },
  {
   "cell_type": "markdown",
   "id": "ddcf4fab",
   "metadata": {
    "papermill": {
     "duration": 0.03131,
     "end_time": "2022-08-14T10:10:29.251308",
     "exception": false,
     "start_time": "2022-08-14T10:10:29.219998",
     "status": "completed"
    },
    "tags": []
   },
   "source": [
    "And setup the labels as 1 (when the digit is 3) and 0 (when the digit is 8)"
   ]
  },
  {
   "cell_type": "code",
   "execution_count": 12,
   "id": "7dc908f2",
   "metadata": {
    "execution": {
     "iopub.execute_input": "2022-08-14T10:10:29.331045Z",
     "iopub.status.busy": "2022-08-14T10:10:29.328206Z",
     "iopub.status.idle": "2022-08-14T10:10:29.337503Z",
     "shell.execute_reply": "2022-08-14T10:10:29.336880Z"
    },
    "papermill": {
     "duration": 0.055639,
     "end_time": "2022-08-14T10:10:29.337617",
     "exception": false,
     "start_time": "2022-08-14T10:10:29.281978",
     "status": "completed"
    },
    "tags": []
   },
   "outputs": [],
   "source": [
    "y_train = 1*(y_train==3)\n",
    "y_test = 1*(y_test==3)"
   ]
  },
  {
   "cell_type": "code",
   "execution_count": 13,
   "id": "01e4e969",
   "metadata": {
    "execution": {
     "iopub.execute_input": "2022-08-14T10:10:29.408379Z",
     "iopub.status.busy": "2022-08-14T10:10:29.406474Z",
     "iopub.status.idle": "2022-08-14T10:10:29.428906Z",
     "shell.execute_reply": "2022-08-14T10:10:29.428353Z"
    },
    "papermill": {
     "duration": 0.058577,
     "end_time": "2022-08-14T10:10:29.429055",
     "exception": false,
     "start_time": "2022-08-14T10:10:29.370478",
     "status": "completed"
    },
    "tags": []
   },
   "outputs": [
    {
     "data": {
      "text/plain": [
       "((11982, 28, 28), (1984, 28, 28))"
      ]
     },
     "execution_count": 13,
     "metadata": {},
     "output_type": "execute_result"
    }
   ],
   "source": [
    "X_train.shape, X_test.shape"
   ]
  },
  {
   "cell_type": "markdown",
   "id": "5ccf3f85",
   "metadata": {
    "papermill": {
     "duration": 0.032704,
     "end_time": "2022-08-14T10:10:29.495106",
     "exception": false,
     "start_time": "2022-08-14T10:10:29.462402",
     "status": "completed"
    },
    "tags": []
   },
   "source": [
    "We reshape the data to flatten the image pixels into a set of features or co-variates:"
   ]
  },
  {
   "cell_type": "code",
   "execution_count": 14,
   "id": "5286a4a3",
   "metadata": {
    "execution": {
     "iopub.execute_input": "2022-08-14T10:10:29.570790Z",
     "iopub.status.busy": "2022-08-14T10:10:29.569878Z",
     "iopub.status.idle": "2022-08-14T10:10:29.585689Z",
     "shell.execute_reply": "2022-08-14T10:10:29.586385Z"
    },
    "papermill": {
     "duration": 0.05853,
     "end_time": "2022-08-14T10:10:29.586538",
     "exception": false,
     "start_time": "2022-08-14T10:10:29.528008",
     "status": "completed"
    },
    "tags": []
   },
   "outputs": [
    {
     "data": {
      "text/plain": [
       "((11982, 784), (1984, 784))"
      ]
     },
     "execution_count": 14,
     "metadata": {},
     "output_type": "execute_result"
    }
   ],
   "source": [
    "X_train = X_train.reshape(X_train.shape[0], -1)\n",
    "X_test = X_test.reshape(X_test.shape[0], -1)\n",
    "X_train.shape, X_test.shape"
   ]
  },
  {
   "cell_type": "code",
   "execution_count": 15,
   "id": "73c5f88a",
   "metadata": {
    "execution": {
     "iopub.execute_input": "2022-08-14T10:10:29.656960Z",
     "iopub.status.busy": "2022-08-14T10:10:29.656250Z",
     "iopub.status.idle": "2022-08-14T10:10:29.678042Z",
     "shell.execute_reply": "2022-08-14T10:10:29.678637Z"
    },
    "papermill": {
     "duration": 0.060105,
     "end_time": "2022-08-14T10:10:29.678765",
     "exception": false,
     "start_time": "2022-08-14T10:10:29.618660",
     "status": "completed"
    },
    "tags": []
   },
   "outputs": [],
   "source": [
    "#Impoting functions from 'Kudzu'\n",
    "from kudzu.model import Model\n",
    "from kudzu.train import Learner\n",
    "from kudzu.optim import GD\n",
    "from kudzu.data import Data, Sampler,Dataloader\n",
    "\n",
    "from kudzu.callbacks import AccCallback\n",
    "from kudzu.callbacks import ClfCallback\n",
    "\n",
    "from kudzu.loss import MSE\n",
    "\n",
    "from kudzu.layer import Sigmoid,Relu\n",
    "from kudzu.layer import Affine"
   ]
  },
  {
   "cell_type": "markdown",
   "id": "bc01172a",
   "metadata": {
    "papermill": {
     "duration": 0.034482,
     "end_time": "2022-08-14T10:10:29.746075",
     "exception": false,
     "start_time": "2022-08-14T10:10:29.711593",
     "status": "completed"
    },
    "tags": []
   },
   "source": [
    "### Let us create a `Config` class, to store important parameters. \n",
    "This class essentially plays the role of a dictionary."
   ]
  },
  {
   "cell_type": "code",
   "execution_count": 16,
   "id": "978281aa",
   "metadata": {
    "execution": {
     "iopub.execute_input": "2022-08-14T10:10:29.819023Z",
     "iopub.status.busy": "2022-08-14T10:10:29.818160Z",
     "iopub.status.idle": "2022-08-14T10:10:29.832664Z",
     "shell.execute_reply": "2022-08-14T10:10:29.832006Z"
    },
    "papermill": {
     "duration": 0.054445,
     "end_time": "2022-08-14T10:10:29.832782",
     "exception": false,
     "start_time": "2022-08-14T10:10:29.778337",
     "status": "completed"
    },
    "tags": []
   },
   "outputs": [],
   "source": [
    "class Config:\n",
    "    pass\n",
    "config = Config()\n",
    "config.lr = 0.001\n",
    "config.num_epochs = 250\n",
    "config.bs = 50"
   ]
  },
  {
   "cell_type": "markdown",
   "id": "1385fa59",
   "metadata": {
    "papermill": {
     "duration": 0.034146,
     "end_time": "2022-08-14T10:10:29.900997",
     "exception": false,
     "start_time": "2022-08-14T10:10:29.866851",
     "status": "completed"
    },
    "tags": []
   },
   "source": [
    "### Running Models with the Training data\n",
    "Details about the network layers:\n",
    "- A first affine layer has 784 inputs and does 100 affine transforms. These are followed by a Relu\n",
    "- A second affine layer has 100 inputs from the 100 activations of the past layer, and does 100 affine transforms. These are followed by a Relu\n",
    "- A third affine layer has 100 activations and does 2 affine transformations to create an embedding for visualization. There is no non-linearity here.\n",
    "- A final \"logistic regression\" which has an affine transform from 2 inputs to 1 output, which is squeezed through a sigmoid.\n"
   ]
  },
  {
   "cell_type": "code",
   "execution_count": 17,
   "id": "2b9c66db",
   "metadata": {
    "execution": {
     "iopub.execute_input": "2022-08-14T10:10:29.979205Z",
     "iopub.status.busy": "2022-08-14T10:10:29.978460Z",
     "iopub.status.idle": "2022-08-14T10:10:29.989448Z",
     "shell.execute_reply": "2022-08-14T10:10:29.990066Z"
    },
    "papermill": {
     "duration": 0.055253,
     "end_time": "2022-08-14T10:10:29.990195",
     "exception": false,
     "start_time": "2022-08-14T10:10:29.934942",
     "status": "completed"
    },
    "tags": []
   },
   "outputs": [],
   "source": [
    "data = Data(X_train, y_train.reshape(-1,1))\n",
    "sampler = Sampler(data, config.bs, shuffle=True)\n",
    "\n",
    "dl = Dataloader(data, sampler)\n",
    "\n",
    "opt = GD(config.lr)\n",
    "loss = MSE()"
   ]
  },
  {
   "cell_type": "code",
   "execution_count": 18,
   "id": "b275e4c2",
   "metadata": {
    "execution": {
     "iopub.execute_input": "2022-08-14T10:10:30.065544Z",
     "iopub.status.busy": "2022-08-14T10:10:30.062461Z",
     "iopub.status.idle": "2022-08-14T10:10:30.079086Z",
     "shell.execute_reply": "2022-08-14T10:10:30.078480Z"
    },
    "papermill": {
     "duration": 0.056784,
     "end_time": "2022-08-14T10:10:30.079238",
     "exception": false,
     "start_time": "2022-08-14T10:10:30.022454",
     "status": "completed"
    },
    "tags": []
   },
   "outputs": [],
   "source": [
    "training_data_x = X_train\n",
    "testing_data_x = X_test\n",
    "training_data_y = y_train.reshape(-1,1)\n",
    "testing_data_y = y_test.reshape(-1,1)"
   ]
  },
  {
   "cell_type": "code",
   "execution_count": 19,
   "id": "76951160",
   "metadata": {
    "execution": {
     "iopub.execute_input": "2022-08-14T10:10:30.160447Z",
     "iopub.status.busy": "2022-08-14T10:10:30.158103Z",
     "iopub.status.idle": "2022-08-14T10:10:30.178453Z",
     "shell.execute_reply": "2022-08-14T10:10:30.179111Z"
    },
    "papermill": {
     "duration": 0.062383,
     "end_time": "2022-08-14T10:10:30.179261",
     "exception": false,
     "start_time": "2022-08-14T10:10:30.116878",
     "status": "completed"
    },
    "tags": []
   },
   "outputs": [
    {
     "name": "stdout",
     "output_type": "stream",
     "text": [
      "xavier\n",
      "xavier\n",
      "xavier\n",
      "xavier\n",
      "xavier\n"
     ]
    }
   ],
   "source": [
    "layers = [Affine(\"first\", 784, 100), Relu(\"first\"), Affine(\"second\", 100, 100), Relu(\"second\"), Affine(\"third\", 100, 2), Affine(\"last\", 2, 1), Sigmoid(\"last\")]\n",
    "model_nn = Model(layers)\n",
    "model_lr = Model([Affine(\"logits\", 784, 1), Sigmoid(\"sigmoid\")])"
   ]
  },
  {
   "cell_type": "code",
   "execution_count": 20,
   "id": "6eede77a",
   "metadata": {
    "execution": {
     "iopub.execute_input": "2022-08-14T10:10:30.249909Z",
     "iopub.status.busy": "2022-08-14T10:10:30.249196Z",
     "iopub.status.idle": "2022-08-14T10:10:30.262140Z",
     "shell.execute_reply": "2022-08-14T10:10:30.261534Z"
    },
    "papermill": {
     "duration": 0.050838,
     "end_time": "2022-08-14T10:10:30.262256",
     "exception": false,
     "start_time": "2022-08-14T10:10:30.211418",
     "status": "completed"
    },
    "tags": []
   },
   "outputs": [],
   "source": [
    "nn_learner = Learner(loss, model_nn, opt, config.num_epochs)\n",
    "acc_nn = ClfCallback(nn_learner, config.bs, training_data_x , testing_data_x, training_data_y, testing_data_y)\n",
    "nn_learner.set_callbacks([acc_nn])"
   ]
  },
  {
   "cell_type": "code",
   "execution_count": 21,
   "id": "877b6cc7",
   "metadata": {
    "execution": {
     "iopub.execute_input": "2022-08-14T10:10:30.335535Z",
     "iopub.status.busy": "2022-08-14T10:10:30.334832Z",
     "iopub.status.idle": "2022-08-14T10:10:30.351367Z",
     "shell.execute_reply": "2022-08-14T10:10:30.350692Z"
    },
    "papermill": {
     "duration": 0.055728,
     "end_time": "2022-08-14T10:10:30.351501",
     "exception": false,
     "start_time": "2022-08-14T10:10:30.295773",
     "status": "completed"
    },
    "tags": []
   },
   "outputs": [],
   "source": [
    "lr_learner = Learner(loss, model_lr, opt, config.num_epochs)\n",
    "acc_lr = ClfCallback(lr_learner, config.bs, training_data_x , testing_data_x, training_data_y, testing_data_y)\n",
    "lr_learner.set_callbacks([acc_lr])"
   ]
  },
  {
   "cell_type": "code",
   "execution_count": 22,
   "id": "d9b133c3",
   "metadata": {
    "execution": {
     "iopub.execute_input": "2022-08-14T10:10:30.425434Z",
     "iopub.status.busy": "2022-08-14T10:10:30.424615Z",
     "iopub.status.idle": "2022-08-14T10:12:54.793498Z",
     "shell.execute_reply": "2022-08-14T10:12:54.794471Z"
    },
    "papermill": {
     "duration": 144.408353,
     "end_time": "2022-08-14T10:12:54.794738",
     "exception": false,
     "start_time": "2022-08-14T10:10:30.386385",
     "status": "completed"
    },
    "tags": []
   },
   "outputs": [
    {
     "name": "stdout",
     "output_type": "stream",
     "text": [
      "Epoch 0, Loss 0.25\n",
      "Training Accuracy: 0.5242, Testing Accuracy: 0.5111\n",
      "\n"
     ]
    },
    {
     "name": "stdout",
     "output_type": "stream",
     "text": [
      "Epoch 10, Loss 0.1811\n",
      "Training Accuracy: 0.8902, Testing Accuracy: 0.9047\n",
      "\n"
     ]
    },
    {
     "name": "stdout",
     "output_type": "stream",
     "text": [
      "Epoch 20, Loss 0.0805\n",
      "Training Accuracy: 0.9341, Testing Accuracy: 0.9415\n",
      "\n"
     ]
    },
    {
     "name": "stdout",
     "output_type": "stream",
     "text": [
      "Epoch 30, Loss 0.0518\n",
      "Training Accuracy: 0.9489, Testing Accuracy: 0.9567\n",
      "\n"
     ]
    },
    {
     "name": "stdout",
     "output_type": "stream",
     "text": [
      "Epoch 40, Loss 0.0418\n",
      "Training Accuracy: 0.9554, Testing Accuracy: 0.9622\n",
      "\n"
     ]
    },
    {
     "name": "stdout",
     "output_type": "stream",
     "text": [
      "Epoch 50, Loss 0.0368\n",
      "Training Accuracy: 0.9599, Testing Accuracy: 0.9667\n",
      "\n"
     ]
    },
    {
     "name": "stdout",
     "output_type": "stream",
     "text": [
      "Epoch 60, Loss 0.0337\n",
      "Training Accuracy: 0.9626, Testing Accuracy: 0.9693\n",
      "\n"
     ]
    },
    {
     "name": "stdout",
     "output_type": "stream",
     "text": [
      "Epoch 70, Loss 0.0315\n",
      "Training Accuracy: 0.9644, Testing Accuracy: 0.9698\n",
      "\n"
     ]
    },
    {
     "name": "stdout",
     "output_type": "stream",
     "text": [
      "Epoch 80, Loss 0.0299\n",
      "Training Accuracy: 0.9652, Testing Accuracy: 0.9713\n",
      "\n"
     ]
    },
    {
     "name": "stdout",
     "output_type": "stream",
     "text": [
      "Epoch 90, Loss 0.0285\n",
      "Training Accuracy: 0.9663, Testing Accuracy: 0.9723\n",
      "\n"
     ]
    },
    {
     "name": "stdout",
     "output_type": "stream",
     "text": [
      "Epoch 100, Loss 0.0274\n",
      "Training Accuracy: 0.9677, Testing Accuracy: 0.9728\n",
      "\n"
     ]
    },
    {
     "name": "stdout",
     "output_type": "stream",
     "text": [
      "Epoch 110, Loss 0.0264\n",
      "Training Accuracy: 0.9686, Testing Accuracy: 0.9728\n",
      "\n"
     ]
    },
    {
     "name": "stdout",
     "output_type": "stream",
     "text": [
      "Epoch 120, Loss 0.0255\n",
      "Training Accuracy: 0.9700, Testing Accuracy: 0.9738\n",
      "\n"
     ]
    },
    {
     "name": "stdout",
     "output_type": "stream",
     "text": [
      "Epoch 130, Loss 0.0247\n",
      "Training Accuracy: 0.9709, Testing Accuracy: 0.9738\n",
      "\n"
     ]
    },
    {
     "name": "stdout",
     "output_type": "stream",
     "text": [
      "Epoch 140, Loss 0.024\n",
      "Training Accuracy: 0.9715, Testing Accuracy: 0.9738\n",
      "\n"
     ]
    },
    {
     "name": "stdout",
     "output_type": "stream",
     "text": [
      "Epoch 150, Loss 0.0234\n",
      "Training Accuracy: 0.9720, Testing Accuracy: 0.9743\n",
      "\n"
     ]
    },
    {
     "name": "stdout",
     "output_type": "stream",
     "text": [
      "Epoch 160, Loss 0.0227\n",
      "Training Accuracy: 0.9725, Testing Accuracy: 0.9733\n",
      "\n"
     ]
    },
    {
     "name": "stdout",
     "output_type": "stream",
     "text": [
      "Epoch 170, Loss 0.0222\n",
      "Training Accuracy: 0.9736, Testing Accuracy: 0.9728\n",
      "\n"
     ]
    },
    {
     "name": "stdout",
     "output_type": "stream",
     "text": [
      "Epoch 180, Loss 0.0216\n",
      "Training Accuracy: 0.9743, Testing Accuracy: 0.9723\n",
      "\n"
     ]
    },
    {
     "name": "stdout",
     "output_type": "stream",
     "text": [
      "Epoch 190, Loss 0.0211\n",
      "Training Accuracy: 0.9752, Testing Accuracy: 0.9728\n",
      "\n"
     ]
    },
    {
     "name": "stdout",
     "output_type": "stream",
     "text": [
      "Epoch 200, Loss 0.0206\n",
      "Training Accuracy: 0.9760, Testing Accuracy: 0.9743\n",
      "\n"
     ]
    },
    {
     "name": "stdout",
     "output_type": "stream",
     "text": [
      "Epoch 210, Loss 0.0202\n",
      "Training Accuracy: 0.9773, Testing Accuracy: 0.9743\n",
      "\n"
     ]
    },
    {
     "name": "stdout",
     "output_type": "stream",
     "text": [
      "Epoch 220, Loss 0.0197\n",
      "Training Accuracy: 0.9780, Testing Accuracy: 0.9748\n",
      "\n"
     ]
    },
    {
     "name": "stdout",
     "output_type": "stream",
     "text": [
      "Epoch 230, Loss 0.0193\n",
      "Training Accuracy: 0.9782, Testing Accuracy: 0.9748\n",
      "\n"
     ]
    },
    {
     "name": "stdout",
     "output_type": "stream",
     "text": [
      "Epoch 240, Loss 0.0189\n",
      "Training Accuracy: 0.9786, Testing Accuracy: 0.9748\n",
      "\n"
     ]
    },
    {
     "data": {
      "text/plain": [
       "0.024621316614948315"
      ]
     },
     "execution_count": 22,
     "metadata": {},
     "output_type": "execute_result"
    }
   ],
   "source": [
    "nn_learner.train_loop(dl)"
   ]
  },
  {
   "cell_type": "code",
   "execution_count": 23,
   "id": "e0163366",
   "metadata": {
    "execution": {
     "iopub.execute_input": "2022-08-14T10:12:54.891702Z",
     "iopub.status.busy": "2022-08-14T10:12:54.890949Z",
     "iopub.status.idle": "2022-08-14T10:13:15.846403Z",
     "shell.execute_reply": "2022-08-14T10:13:15.847460Z"
    },
    "papermill": {
     "duration": 21.00921,
     "end_time": "2022-08-14T10:13:15.847832",
     "exception": false,
     "start_time": "2022-08-14T10:12:54.838622",
     "status": "completed"
    },
    "tags": []
   },
   "outputs": [
    {
     "name": "stdout",
     "output_type": "stream",
     "text": [
      "Epoch 0, Loss 0.2373\n",
      "Training Accuracy: 0.7051, Testing Accuracy: 0.7248\n",
      "\n"
     ]
    },
    {
     "name": "stdout",
     "output_type": "stream",
     "text": [
      "Epoch 10, Loss 0.1041\n",
      "Training Accuracy: 0.9054, Testing Accuracy: 0.9098\n",
      "\n"
     ]
    },
    {
     "name": "stdout",
     "output_type": "stream",
     "text": [
      "Epoch 20, Loss 0.0801\n",
      "Training Accuracy: 0.9278, Testing Accuracy: 0.9335\n",
      "\n"
     ]
    },
    {
     "name": "stdout",
     "output_type": "stream",
     "text": [
      "Epoch 30, Loss 0.069\n",
      "Training Accuracy: 0.9350, Testing Accuracy: 0.9400\n",
      "\n"
     ]
    },
    {
     "name": "stdout",
     "output_type": "stream",
     "text": [
      "Epoch 40, Loss 0.0623\n",
      "Training Accuracy: 0.9397, Testing Accuracy: 0.9446\n",
      "\n"
     ]
    },
    {
     "name": "stdout",
     "output_type": "stream",
     "text": [
      "Epoch 50, Loss 0.0577\n",
      "Training Accuracy: 0.9428, Testing Accuracy: 0.9481\n",
      "\n"
     ]
    },
    {
     "name": "stdout",
     "output_type": "stream",
     "text": [
      "Epoch 60, Loss 0.0544\n",
      "Training Accuracy: 0.9457, Testing Accuracy: 0.9531\n",
      "\n"
     ]
    },
    {
     "name": "stdout",
     "output_type": "stream",
     "text": [
      "Epoch 70, Loss 0.0518\n",
      "Training Accuracy: 0.9486, Testing Accuracy: 0.9567\n",
      "\n"
     ]
    },
    {
     "name": "stdout",
     "output_type": "stream",
     "text": [
      "Epoch 80, Loss 0.0497\n",
      "Training Accuracy: 0.9499, Testing Accuracy: 0.9582\n",
      "\n"
     ]
    },
    {
     "name": "stdout",
     "output_type": "stream",
     "text": [
      "Epoch 90, Loss 0.048\n",
      "Training Accuracy: 0.9513, Testing Accuracy: 0.9592\n",
      "\n"
     ]
    },
    {
     "name": "stdout",
     "output_type": "stream",
     "text": [
      "Epoch 100, Loss 0.0466\n",
      "Training Accuracy: 0.9525, Testing Accuracy: 0.9597\n",
      "\n"
     ]
    },
    {
     "name": "stdout",
     "output_type": "stream",
     "text": [
      "Epoch 110, Loss 0.0454\n",
      "Training Accuracy: 0.9532, Testing Accuracy: 0.9617\n",
      "\n"
     ]
    },
    {
     "name": "stdout",
     "output_type": "stream",
     "text": [
      "Epoch 120, Loss 0.0443\n",
      "Training Accuracy: 0.9540, Testing Accuracy: 0.9622\n",
      "\n"
     ]
    },
    {
     "name": "stdout",
     "output_type": "stream",
     "text": [
      "Epoch 130, Loss 0.0433\n",
      "Training Accuracy: 0.9550, Testing Accuracy: 0.9632\n",
      "\n"
     ]
    },
    {
     "name": "stdout",
     "output_type": "stream",
     "text": [
      "Epoch 140, Loss 0.0425\n",
      "Training Accuracy: 0.9554, Testing Accuracy: 0.9642\n",
      "\n"
     ]
    },
    {
     "name": "stdout",
     "output_type": "stream",
     "text": [
      "Epoch 150, Loss 0.0417\n",
      "Training Accuracy: 0.9564, Testing Accuracy: 0.9647\n",
      "\n"
     ]
    },
    {
     "name": "stdout",
     "output_type": "stream",
     "text": [
      "Epoch 160, Loss 0.0411\n",
      "Training Accuracy: 0.9567, Testing Accuracy: 0.9657\n",
      "\n"
     ]
    },
    {
     "name": "stdout",
     "output_type": "stream",
     "text": [
      "Epoch 170, Loss 0.0404\n",
      "Training Accuracy: 0.9574, Testing Accuracy: 0.9662\n",
      "\n"
     ]
    },
    {
     "name": "stdout",
     "output_type": "stream",
     "text": [
      "Epoch 180, Loss 0.0399\n",
      "Training Accuracy: 0.9576, Testing Accuracy: 0.9662\n",
      "\n"
     ]
    },
    {
     "name": "stdout",
     "output_type": "stream",
     "text": [
      "Epoch 190, Loss 0.0393\n",
      "Training Accuracy: 0.9580, Testing Accuracy: 0.9667\n",
      "\n"
     ]
    },
    {
     "name": "stdout",
     "output_type": "stream",
     "text": [
      "Epoch 200, Loss 0.0389\n",
      "Training Accuracy: 0.9584, Testing Accuracy: 0.9662\n",
      "\n"
     ]
    },
    {
     "name": "stdout",
     "output_type": "stream",
     "text": [
      "Epoch 210, Loss 0.0384\n",
      "Training Accuracy: 0.9588, Testing Accuracy: 0.9672\n",
      "\n"
     ]
    },
    {
     "name": "stdout",
     "output_type": "stream",
     "text": [
      "Epoch 220, Loss 0.038\n",
      "Training Accuracy: 0.9590, Testing Accuracy: 0.9677\n",
      "\n"
     ]
    },
    {
     "name": "stdout",
     "output_type": "stream",
     "text": [
      "Epoch 230, Loss 0.0376\n",
      "Training Accuracy: 0.9594, Testing Accuracy: 0.9672\n",
      "\n"
     ]
    },
    {
     "name": "stdout",
     "output_type": "stream",
     "text": [
      "Epoch 240, Loss 0.0372\n",
      "Training Accuracy: 0.9599, Testing Accuracy: 0.9672\n",
      "\n"
     ]
    },
    {
     "data": {
      "text/plain": [
       "0.048229929292011336"
      ]
     },
     "execution_count": 23,
     "metadata": {},
     "output_type": "execute_result"
    }
   ],
   "source": [
    "lr_learner.train_loop(dl)"
   ]
  },
  {
   "cell_type": "code",
   "execution_count": 24,
   "id": "ca410940",
   "metadata": {
    "execution": {
     "iopub.execute_input": "2022-08-14T10:13:15.959377Z",
     "iopub.status.busy": "2022-08-14T10:13:15.958324Z",
     "iopub.status.idle": "2022-08-14T10:13:16.272613Z",
     "shell.execute_reply": "2022-08-14T10:13:16.272052Z"
    },
    "papermill": {
     "duration": 0.373032,
     "end_time": "2022-08-14T10:13:16.272868",
     "exception": false,
     "start_time": "2022-08-14T10:13:15.899836",
     "status": "completed"
    },
    "tags": []
   },
   "outputs": [
    {
     "data": {
      "text/plain": [
       "<matplotlib.legend.Legend at 0x7fa14aec6b38>"
      ]
     },
     "execution_count": 24,
     "metadata": {},
     "output_type": "execute_result"
    },
    {
     "data": {
      "image/png": "[encoded data removed]",
      "text/plain": [
       "<Figure size 1080x720 with 1 Axes>"
      ]
     },
     "metadata": {
      "needs_background": "light"
     },
     "output_type": "display_data"
    }
   ],
   "source": [
    "#comparing the results of NN and LR\n",
    "plt.figure(figsize=(15,10))\n",
    "\n",
    "# Neural Network plots\n",
    "plt.plot(acc_nn.accuracies, 'r-', label = \"Training Accuracies - NN\")\n",
    "plt.plot(acc_nn.test_accuracies, 'g-', label = \"Testing Accuracies - NN\")\n",
    "\n",
    "# Logistic Regression plots\n",
    "plt.plot(acc_lr.accuracies, 'k-', label = \"Training Accuracies - LR\")\n",
    "plt.plot(acc_lr.test_accuracies, 'b-', label = \"Testing Accuracies - LR\")\n",
    "plt.legend()"
   ]
  },
  {
   "cell_type": "markdown",
   "id": "80dfb35c",
   "metadata": {
    "papermill": {
     "duration": 0.05277,
     "end_time": "2022-08-14T10:13:16.378904",
     "exception": false,
     "start_time": "2022-08-14T10:13:16.326134",
     "status": "completed"
    },
    "tags": []
   },
   "source": [
    "#### Plotting the outputs of this layer of the NN.\n"
   ]
  },
  {
   "cell_type": "code",
   "execution_count": 25,
   "id": "45eb2ff5",
   "metadata": {
    "execution": {
     "iopub.execute_input": "2022-08-14T10:13:16.488399Z",
     "iopub.status.busy": "2022-08-14T10:13:16.487620Z",
     "iopub.status.idle": "2022-08-14T10:13:16.518489Z",
     "shell.execute_reply": "2022-08-14T10:13:16.517752Z"
    },
    "papermill": {
     "duration": 0.087816,
     "end_time": "2022-08-14T10:13:16.518748",
     "exception": false,
     "start_time": "2022-08-14T10:13:16.430932",
     "status": "completed"
    },
    "tags": []
   },
   "outputs": [],
   "source": [
    "new_model = Model(layers[:-2])\n",
    "testing_plot = new_model(testing_data_x)"
   ]
  },
  {
   "cell_type": "code",
   "execution_count": 26,
   "id": "4c0a5485",
   "metadata": {
    "execution": {
     "iopub.execute_input": "2022-08-14T10:13:16.644050Z",
     "iopub.status.busy": "2022-08-14T10:13:16.643300Z",
     "iopub.status.idle": "2022-08-14T10:13:16.908391Z",
     "shell.execute_reply": "2022-08-14T10:13:16.907371Z"
    },
    "papermill": {
     "duration": 0.33563,
     "end_time": "2022-08-14T10:13:16.908518",
     "exception": false,
     "start_time": "2022-08-14T10:13:16.572888",
     "status": "completed"
    },
    "tags": []
   },
   "outputs": [
    {
     "data": {
      "text/plain": [
       "Text(0.5, 1.0, 'Outputs')"
      ]
     },
     "execution_count": 26,
     "metadata": {},
     "output_type": "execute_result"
    },
    {
     "data": {
      "image/png": "[encoded data removed]",
      "text/plain": [
       "<Figure size 576x504 with 1 Axes>"
      ]
     },
     "metadata": {
      "needs_background": "light"
     },
     "output_type": "display_data"
    }
   ],
   "source": [
    "# Plotting the scatter plot of points and color coding by class\n",
    "plt.figure(figsize=(8,7))\n",
    "plt.scatter(testing_plot[:,0], testing_plot[:,1], alpha = 0.1, c = y_test.ravel());\n",
    "plt.title('Outputs')"
   ]
  },
  {
   "cell_type": "markdown",
   "id": "a74fcf8f",
   "metadata": {
    "papermill": {
     "duration": 0.079703,
     "end_time": "2022-08-14T10:13:17.040628",
     "exception": false,
     "start_time": "2022-08-14T10:13:16.960925",
     "status": "completed"
    },
    "tags": []
   },
   "source": [
    "Probability contours"
   ]
  },
  {
   "cell_type": "code",
   "execution_count": 27,
   "id": "d0afc8e3",
   "metadata": {
    "execution": {
     "iopub.execute_input": "2022-08-14T10:13:17.155502Z",
     "iopub.status.busy": "2022-08-14T10:13:17.154467Z",
     "iopub.status.idle": "2022-08-14T10:13:17.168673Z",
     "shell.execute_reply": "2022-08-14T10:13:17.168008Z"
    },
    "papermill": {
     "duration": 0.071909,
     "end_time": "2022-08-14T10:13:17.168807",
     "exception": false,
     "start_time": "2022-08-14T10:13:17.096898",
     "status": "completed"
    },
    "tags": []
   },
   "outputs": [],
   "source": [
    "model_prob = Model(layers[-2:]) "
   ]
  },
  {
   "cell_type": "code",
   "execution_count": 28,
   "id": "9b96e238",
   "metadata": {
    "execution": {
     "iopub.execute_input": "2022-08-14T10:13:17.279939Z",
     "iopub.status.busy": "2022-08-14T10:13:17.279112Z",
     "iopub.status.idle": "2022-08-14T10:13:17.295354Z",
     "shell.execute_reply": "2022-08-14T10:13:17.295923Z"
    },
    "papermill": {
     "duration": 0.076307,
     "end_time": "2022-08-14T10:13:17.296082",
     "exception": false,
     "start_time": "2022-08-14T10:13:17.219775",
     "status": "completed"
    },
    "tags": []
   },
   "outputs": [],
   "source": [
    "#creating the x and y ranges according to the above generated plot.\n",
    "x_range = np.linspace(-4, 1, 100) \n",
    "y_range = np.linspace(-6, 6, 100) \n",
    "x_grid, y_grid = np.meshgrid(x_range, y_range) # x_grid and y_grig are of size 100 X 100\n",
    "\n",
    "# converting x_grid and y_grid to continuous arrays\n",
    "x_gridflat = np.ravel(x_grid)\n",
    "y_gridflat = np.ravel(y_grid)\n",
    "\n",
    "# The last layer of the current model takes two columns as input. Hence transpose of np.vstack() is required.\n",
    "X = np.vstack((x_gridflat, y_gridflat)).T\n",
    "\n",
    "prob_contour = model_prob(X).reshape(100,100) "
   ]
  },
  {
   "cell_type": "code",
   "execution_count": 29,
   "id": "da72499a",
   "metadata": {
    "execution": {
     "iopub.execute_input": "2022-08-14T10:13:17.416588Z",
     "iopub.status.busy": "2022-08-14T10:13:17.415888Z",
     "iopub.status.idle": "2022-08-14T10:13:17.751621Z",
     "shell.execute_reply": "2022-08-14T10:13:17.750876Z"
    },
    "papermill": {
     "duration": 0.398079,
     "end_time": "2022-08-14T10:13:17.751758",
     "exception": false,
     "start_time": "2022-08-14T10:13:17.353679",
     "status": "completed"
    },
    "tags": []
   },
   "outputs": [
    {
     "data": {
      "image/png": "[encoded data removed]",
      "text/plain": [
       "<Figure size 720x648 with 1 Axes>"
      ]
     },
     "metadata": {
      "needs_background": "light"
     },
     "output_type": "display_data"
    }
   ],
   "source": [
    "plt.figure(figsize=(10,9))\n",
    "plt.scatter(testing_plot[:,0], testing_plot[:,1], alpha = 0.1, c = y_test.ravel())\n",
    "contours = plt.contour(x_grid,y_grid,prob_contour)\n",
    "plt.title('Probability Contours')\n",
    "plt.clabel(contours, inline = True );"
   ]
  },
  {
   "cell_type": "code",
   "execution_count": null,
   "id": "e81b4ac7",
   "metadata": {
    "papermill": {
     "duration": 0.058349,
     "end_time": "2022-08-14T10:13:17.866140",
     "exception": false,
     "start_time": "2022-08-14T10:13:17.807791",
     "status": "completed"
    },
    "tags": []
   },
   "outputs": [],
   "source": []
  }
 ],
 "metadata": {
  "kernelspec": {
   "display_name": "Python 3",
   "language": "python",
   "name": "python3"
  },
  "language_info": {
   "codemirror_mode": {
    "name": "ipython",
    "version": 3
   },
   "file_extension": ".py",
   "mimetype": "text/x-python",
   "name": "python",
   "nbconvert_exporter": "python",
   "pygments_lexer": "ipython3",
   "version": "3.6.15"
  },
  "papermill": {
   "default_parameters": {},
   "duration": 175.097014,
   "end_time": "2022-08-14T10:13:18.344751",
   "environment_variables": {},
   "exception": null,
   "input_path": "2020-08-11-part2.ipynb",
   "output_path": "2020-08-11-part2.ipynb",
   "parameters": {},
   "start_time": "2022-08-14T10:10:23.247737",
   "version": "2.3.3"
  }
 },
 "nbformat": 4,
 "nbformat_minor": 5
}