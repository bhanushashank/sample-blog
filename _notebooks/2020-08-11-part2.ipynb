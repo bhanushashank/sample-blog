{
 "cells": [
  {
   "cell_type": "markdown",
   "id": "98380cd3",
   "metadata": {
    "papermill": {
     "duration": 0.038993,
     "end_time": "2021-11-08T10:08:24.632827",
     "exception": false,
     "start_time": "2021-11-08T10:08:24.593834",
     "status": "completed"
    },
    "tags": []
   },
   "source": [
    "# Distinguish Your Own Digits (DYOD)"
   ]
  },
  {
   "cell_type": "markdown",
   "id": "ef31240d",
   "metadata": {
    "papermill": {
     "duration": 0.034057,
     "end_time": "2021-11-08T10:08:24.702589",
     "exception": false,
     "start_time": "2021-11-08T10:08:24.668532",
     "status": "completed"
    },
    "tags": []
   },
   "source": [
    "You are going to write a classifier that distinguishes between the number 3 and number 8."
   ]
  },
  {
   "cell_type": "code",
   "execution_count": 1,
   "id": "b15c8646",
   "metadata": {
    "execution": {
     "iopub.execute_input": "2021-11-08T10:08:24.785044Z",
     "iopub.status.busy": "2021-11-08T10:08:24.784269Z",
     "iopub.status.idle": "2021-11-08T10:08:24.796466Z",
     "shell.execute_reply": "2021-11-08T10:08:24.797188Z"
    },
    "papermill": {
     "duration": 0.05821,
     "end_time": "2021-11-08T10:08:24.797377",
     "exception": false,
     "start_time": "2021-11-08T10:08:24.739167",
     "status": "completed"
    },
    "tags": []
   },
   "outputs": [],
   "source": [
    "%load_ext autoreload\n",
    "%autoreload 2"
   ]
  },
  {
   "cell_type": "code",
   "execution_count": 2,
   "id": "22ef38dc",
   "metadata": {
    "execution": {
     "iopub.execute_input": "2021-11-08T10:08:24.873428Z",
     "iopub.status.busy": "2021-11-08T10:08:24.872683Z",
     "iopub.status.idle": "2021-11-08T10:08:25.552649Z",
     "shell.execute_reply": "2021-11-08T10:08:25.551522Z"
    },
    "papermill": {
     "duration": 0.722348,
     "end_time": "2021-11-08T10:08:25.552813",
     "exception": false,
     "start_time": "2021-11-08T10:08:24.830465",
     "status": "completed"
    },
    "tags": []
   },
   "outputs": [],
   "source": [
    "%matplotlib inline\n",
    "import numpy as np\n",
    "import matplotlib.pyplot as plt\n",
    "import pandas as pd"
   ]
  },
  {
   "cell_type": "markdown",
   "id": "ba036198",
   "metadata": {
    "papermill": {
     "duration": 0.035983,
     "end_time": "2021-11-08T10:08:25.622331",
     "exception": false,
     "start_time": "2021-11-08T10:08:25.586348",
     "status": "completed"
    },
    "tags": []
   },
   "source": [
    "From the command line run `pip install mnist`. This is a library that will help you bring down the mnist dataset. If you run this from a notebook, you need to put  `!pip install mnist` in a cell by itself."
   ]
  },
  {
   "cell_type": "code",
   "execution_count": 3,
   "id": "bb6ad8a1",
   "metadata": {
    "execution": {
     "iopub.execute_input": "2021-11-08T10:08:25.697789Z",
     "iopub.status.busy": "2021-11-08T10:08:25.693223Z",
     "iopub.status.idle": "2021-11-08T10:08:27.829934Z",
     "shell.execute_reply": "2021-11-08T10:08:27.829190Z"
    },
    "papermill": {
     "duration": 2.174646,
     "end_time": "2021-11-08T10:08:27.830101",
     "exception": false,
     "start_time": "2021-11-08T10:08:25.655455",
     "status": "completed"
    },
    "tags": []
   },
   "outputs": [
    {
     "name": "stdout",
     "output_type": "stream",
     "text": [
      "Collecting mnist\r\n"
     ]
    },
    {
     "name": "stdout",
     "output_type": "stream",
     "text": [
      "  Downloading mnist-0.2.2-py2.py3-none-any.whl (3.5 kB)\r\n",
      "Requirement already satisfied: numpy in /opt/hostedtoolcache/Python/3.6.15/x64/lib/python3.6/site-packages (from mnist) (1.19.5)\r\n"
     ]
    },
    {
     "name": "stdout",
     "output_type": "stream",
     "text": [
      "Installing collected packages: mnist\r\n"
     ]
    },
    {
     "name": "stdout",
     "output_type": "stream",
     "text": [
      "Successfully installed mnist-0.2.2\r\n"
     ]
    }
   ],
   "source": [
    "!pip install mnist"
   ]
  },
  {
   "cell_type": "markdown",
   "id": "69df9c9a",
   "metadata": {
    "papermill": {
     "duration": 0.03735,
     "end_time": "2021-11-08T10:08:27.901914",
     "exception": false,
     "start_time": "2021-11-08T10:08:27.864564",
     "status": "completed"
    },
    "tags": []
   },
   "source": [
    "## Preparing the Data"
   ]
  },
  {
   "cell_type": "code",
   "execution_count": 4,
   "id": "7f69d806",
   "metadata": {
    "execution": {
     "iopub.execute_input": "2021-11-08T10:08:27.981728Z",
     "iopub.status.busy": "2021-11-08T10:08:27.976541Z",
     "iopub.status.idle": "2021-11-08T10:08:27.994420Z",
     "shell.execute_reply": "2021-11-08T10:08:27.993819Z"
    },
    "papermill": {
     "duration": 0.056343,
     "end_time": "2021-11-08T10:08:27.994580",
     "exception": false,
     "start_time": "2021-11-08T10:08:27.938237",
     "status": "completed"
    },
    "tags": []
   },
   "outputs": [],
   "source": [
    "import mnist"
   ]
  },
  {
   "cell_type": "code",
   "execution_count": 5,
   "id": "a411e44f",
   "metadata": {
    "execution": {
     "iopub.execute_input": "2021-11-08T10:08:28.068576Z",
     "iopub.status.busy": "2021-11-08T10:08:28.067873Z",
     "iopub.status.idle": "2021-11-08T10:08:28.666749Z",
     "shell.execute_reply": "2021-11-08T10:08:28.665133Z"
    },
    "papermill": {
     "duration": 0.638381,
     "end_time": "2021-11-08T10:08:28.666932",
     "exception": false,
     "start_time": "2021-11-08T10:08:28.028551",
     "status": "completed"
    },
    "tags": []
   },
   "outputs": [],
   "source": [
    "train_images = mnist.train_images()\n",
    "train_labels = mnist.train_labels()"
   ]
  },
  {
   "cell_type": "code",
   "execution_count": 6,
   "id": "dceab3a5",
   "metadata": {
    "execution": {
     "iopub.execute_input": "2021-11-08T10:08:28.750760Z",
     "iopub.status.busy": "2021-11-08T10:08:28.750020Z",
     "iopub.status.idle": "2021-11-08T10:08:28.761755Z",
     "shell.execute_reply": "2021-11-08T10:08:28.762422Z"
    },
    "papermill": {
     "duration": 0.057343,
     "end_time": "2021-11-08T10:08:28.762591",
     "exception": false,
     "start_time": "2021-11-08T10:08:28.705248",
     "status": "completed"
    },
    "tags": []
   },
   "outputs": [
    {
     "data": {
      "text/plain": [
       "((60000, 28, 28), (60000,))"
      ]
     },
     "execution_count": 6,
     "metadata": {},
     "output_type": "execute_result"
    }
   ],
   "source": [
    "train_images.shape, train_labels.shape"
   ]
  },
  {
   "cell_type": "code",
   "execution_count": 7,
   "id": "f50dc2bb",
   "metadata": {
    "execution": {
     "iopub.execute_input": "2021-11-08T10:08:28.836748Z",
     "iopub.status.busy": "2021-11-08T10:08:28.835975Z",
     "iopub.status.idle": "2021-11-08T10:08:28.969847Z",
     "shell.execute_reply": "2021-11-08T10:08:28.968524Z"
    },
    "papermill": {
     "duration": 0.172348,
     "end_time": "2021-11-08T10:08:28.970033",
     "exception": false,
     "start_time": "2021-11-08T10:08:28.797685",
     "status": "completed"
    },
    "tags": []
   },
   "outputs": [],
   "source": [
    "test_images = mnist.test_images()\n",
    "test_labels = mnist.test_labels()"
   ]
  },
  {
   "cell_type": "code",
   "execution_count": 8,
   "id": "fc38cf1b",
   "metadata": {
    "execution": {
     "iopub.execute_input": "2021-11-08T10:08:29.049148Z",
     "iopub.status.busy": "2021-11-08T10:08:29.048214Z",
     "iopub.status.idle": "2021-11-08T10:08:29.064328Z",
     "shell.execute_reply": "2021-11-08T10:08:29.063646Z"
    },
    "papermill": {
     "duration": 0.05873,
     "end_time": "2021-11-08T10:08:29.064507",
     "exception": false,
     "start_time": "2021-11-08T10:08:29.005777",
     "status": "completed"
    },
    "tags": []
   },
   "outputs": [
    {
     "data": {
      "text/plain": [
       "((10000, 28, 28), (10000,))"
      ]
     },
     "execution_count": 8,
     "metadata": {},
     "output_type": "execute_result"
    }
   ],
   "source": [
    "test_images.shape, test_labels.shape"
   ]
  },
  {
   "cell_type": "code",
   "execution_count": 9,
   "id": "f9ed8fe0",
   "metadata": {
    "execution": {
     "iopub.execute_input": "2021-11-08T10:08:29.142183Z",
     "iopub.status.busy": "2021-11-08T10:08:29.141391Z",
     "iopub.status.idle": "2021-11-08T10:08:29.364494Z",
     "shell.execute_reply": "2021-11-08T10:08:29.365136Z"
    },
    "papermill": {
     "duration": 0.264119,
     "end_time": "2021-11-08T10:08:29.365317",
     "exception": false,
     "start_time": "2021-11-08T10:08:29.101198",
     "status": "completed"
    },
    "tags": []
   },
   "outputs": [
    {
     "name": "stdout",
     "output_type": "stream",
     "text": [
      "2\n"
     ]
    },
    {
     "data": {
      "text/plain": [
       "<matplotlib.image.AxesImage at 0x7f553cfb80f0>"
      ]
     },
     "execution_count": 9,
     "metadata": {},
     "output_type": "execute_result"
    },
    {
     "data": {
      "image/png": "[encoded data removed]",
      "text/plain": [
       "<Figure size 432x288 with 1 Axes>"
      ]
     },
     "metadata": {
      "needs_background": "light"
     },
     "output_type": "display_data"
    }
   ],
   "source": [
    "image_index = 7776 # You may select anything up to 60,000\n",
    "print(train_labels[image_index]) \n",
    "plt.imshow(train_images[image_index], cmap='Greys')"
   ]
  },
  {
   "cell_type": "markdown",
   "id": "a8d2388d",
   "metadata": {
    "papermill": {
     "duration": 0.037389,
     "end_time": "2021-11-08T10:08:29.451534",
     "exception": false,
     "start_time": "2021-11-08T10:08:29.414145",
     "status": "completed"
    },
    "tags": []
   },
   "source": [
    "## Filter data to get 3 and 8 out"
   ]
  },
  {
   "cell_type": "code",
   "execution_count": 10,
   "id": "776f7fc7",
   "metadata": {
    "execution": {
     "iopub.execute_input": "2021-11-08T10:08:29.534415Z",
     "iopub.status.busy": "2021-11-08T10:08:29.533684Z",
     "iopub.status.idle": "2021-11-08T10:08:29.553969Z",
     "shell.execute_reply": "2021-11-08T10:08:29.553177Z"
    },
    "papermill": {
     "duration": 0.065746,
     "end_time": "2021-11-08T10:08:29.554126",
     "exception": false,
     "start_time": "2021-11-08T10:08:29.488380",
     "status": "completed"
    },
    "tags": []
   },
   "outputs": [],
   "source": [
    "train_filter = np.where((train_labels == 3 ) | (train_labels == 8))\n",
    "test_filter = np.where((test_labels == 3) | (test_labels == 8))\n",
    "X_train, y_train = train_images[train_filter], train_labels[train_filter]\n",
    "X_test, y_test = test_images[test_filter], test_labels[test_filter]"
   ]
  },
  {
   "cell_type": "markdown",
   "id": "948f0b7e",
   "metadata": {
    "papermill": {
     "duration": 0.036212,
     "end_time": "2021-11-08T10:08:29.631083",
     "exception": false,
     "start_time": "2021-11-08T10:08:29.594871",
     "status": "completed"
    },
    "tags": []
   },
   "source": [
    "We normalize the pizel values in the 0 to 1 range"
   ]
  },
  {
   "cell_type": "code",
   "execution_count": 11,
   "id": "ee4c2166",
   "metadata": {
    "execution": {
     "iopub.execute_input": "2021-11-08T10:08:29.709125Z",
     "iopub.status.busy": "2021-11-08T10:08:29.708388Z",
     "iopub.status.idle": "2021-11-08T10:08:29.778419Z",
     "shell.execute_reply": "2021-11-08T10:08:29.777788Z"
    },
    "papermill": {
     "duration": 0.110859,
     "end_time": "2021-11-08T10:08:29.778604",
     "exception": false,
     "start_time": "2021-11-08T10:08:29.667745",
     "status": "completed"
    },
    "tags": []
   },
   "outputs": [],
   "source": [
    "X_train = X_train/255.\n",
    "X_test = X_test/255."
   ]
  },
  {
   "cell_type": "markdown",
   "id": "ddcf4fab",
   "metadata": {
    "papermill": {
     "duration": 0.036005,
     "end_time": "2021-11-08T10:08:29.852037",
     "exception": false,
     "start_time": "2021-11-08T10:08:29.816032",
     "status": "completed"
    },
    "tags": []
   },
   "source": [
    "And setup the labels as 1 (when the digit is 3) and 0 (when the digit is 8)"
   ]
  },
  {
   "cell_type": "code",
   "execution_count": 12,
   "id": "7dc908f2",
   "metadata": {
    "execution": {
     "iopub.execute_input": "2021-11-08T10:08:29.929874Z",
     "iopub.status.busy": "2021-11-08T10:08:29.929155Z",
     "iopub.status.idle": "2021-11-08T10:08:29.947378Z",
     "shell.execute_reply": "2021-11-08T10:08:29.946584Z"
    },
    "papermill": {
     "duration": 0.058278,
     "end_time": "2021-11-08T10:08:29.947529",
     "exception": false,
     "start_time": "2021-11-08T10:08:29.889251",
     "status": "completed"
    },
    "tags": []
   },
   "outputs": [],
   "source": [
    "y_train = 1*(y_train==3)\n",
    "y_test = 1*(y_test==3)"
   ]
  },
  {
   "cell_type": "code",
   "execution_count": 13,
   "id": "01e4e969",
   "metadata": {
    "execution": {
     "iopub.execute_input": "2021-11-08T10:08:30.026198Z",
     "iopub.status.busy": "2021-11-08T10:08:30.025505Z",
     "iopub.status.idle": "2021-11-08T10:08:30.043092Z",
     "shell.execute_reply": "2021-11-08T10:08:30.042395Z"
    },
    "papermill": {
     "duration": 0.058815,
     "end_time": "2021-11-08T10:08:30.043236",
     "exception": false,
     "start_time": "2021-11-08T10:08:29.984421",
     "status": "completed"
    },
    "tags": []
   },
   "outputs": [
    {
     "data": {
      "text/plain": [
       "((11982, 28, 28), (1984, 28, 28))"
      ]
     },
     "execution_count": 13,
     "metadata": {},
     "output_type": "execute_result"
    }
   ],
   "source": [
    "X_train.shape, X_test.shape"
   ]
  },
  {
   "cell_type": "markdown",
   "id": "5ccf3f85",
   "metadata": {
    "papermill": {
     "duration": 0.037316,
     "end_time": "2021-11-08T10:08:30.119097",
     "exception": false,
     "start_time": "2021-11-08T10:08:30.081781",
     "status": "completed"
    },
    "tags": []
   },
   "source": [
    "We reshape the data to flatten the image pixels into a set of features or co-variates:"
   ]
  },
  {
   "cell_type": "code",
   "execution_count": 14,
   "id": "5286a4a3",
   "metadata": {
    "execution": {
     "iopub.execute_input": "2021-11-08T10:08:30.205647Z",
     "iopub.status.busy": "2021-11-08T10:08:30.204936Z",
     "iopub.status.idle": "2021-11-08T10:08:30.223597Z",
     "shell.execute_reply": "2021-11-08T10:08:30.222824Z"
    },
    "papermill": {
     "duration": 0.067999,
     "end_time": "2021-11-08T10:08:30.223744",
     "exception": false,
     "start_time": "2021-11-08T10:08:30.155745",
     "status": "completed"
    },
    "tags": []
   },
   "outputs": [
    {
     "data": {
      "text/plain": [
       "((11982, 784), (1984, 784))"
      ]
     },
     "execution_count": 14,
     "metadata": {},
     "output_type": "execute_result"
    }
   ],
   "source": [
    "X_train = X_train.reshape(X_train.shape[0], -1)\n",
    "X_test = X_test.reshape(X_test.shape[0], -1)\n",
    "X_train.shape, X_test.shape"
   ]
  },
  {
   "cell_type": "code",
   "execution_count": 15,
   "id": "73c5f88a",
   "metadata": {
    "execution": {
     "iopub.execute_input": "2021-11-08T10:08:30.312576Z",
     "iopub.status.busy": "2021-11-08T10:08:30.311845Z",
     "iopub.status.idle": "2021-11-08T10:08:30.333487Z",
     "shell.execute_reply": "2021-11-08T10:08:30.332831Z"
    },
    "papermill": {
     "duration": 0.070959,
     "end_time": "2021-11-08T10:08:30.333626",
     "exception": false,
     "start_time": "2021-11-08T10:08:30.262667",
     "status": "completed"
    },
    "tags": []
   },
   "outputs": [],
   "source": [
    "#Impoting functions from 'Kudzu'\n",
    "from kudzu.model import Model\n",
    "from kudzu.train import Learner\n",
    "from kudzu.optim import GD\n",
    "from kudzu.data import Data, Sampler,Dataloader\n",
    "\n",
    "from kudzu.callbacks import AccCallback\n",
    "from kudzu.callbacks import ClfCallback\n",
    "\n",
    "from kudzu.loss import MSE\n",
    "\n",
    "from kudzu.layer import Sigmoid,Relu\n",
    "from kudzu.layer import Affine"
   ]
  },
  {
   "cell_type": "markdown",
   "id": "bc01172a",
   "metadata": {
    "papermill": {
     "duration": 0.037993,
     "end_time": "2021-11-08T10:08:30.410894",
     "exception": false,
     "start_time": "2021-11-08T10:08:30.372901",
     "status": "completed"
    },
    "tags": []
   },
   "source": [
    "### Let us create a `Config` class, to store important parameters. \n",
    "This class essentially plays the role of a dictionary."
   ]
  },
  {
   "cell_type": "code",
   "execution_count": 16,
   "id": "978281aa",
   "metadata": {
    "execution": {
     "iopub.execute_input": "2021-11-08T10:08:30.491851Z",
     "iopub.status.busy": "2021-11-08T10:08:30.491160Z",
     "iopub.status.idle": "2021-11-08T10:08:30.506352Z",
     "shell.execute_reply": "2021-11-08T10:08:30.505269Z"
    },
    "papermill": {
     "duration": 0.057735,
     "end_time": "2021-11-08T10:08:30.506501",
     "exception": false,
     "start_time": "2021-11-08T10:08:30.448766",
     "status": "completed"
    },
    "tags": []
   },
   "outputs": [],
   "source": [
    "class Config:\n",
    "    pass\n",
    "config = Config()\n",
    "config.lr = 0.001\n",
    "config.num_epochs = 250\n",
    "config.bs = 50"
   ]
  },
  {
   "cell_type": "markdown",
   "id": "1385fa59",
   "metadata": {
    "papermill": {
     "duration": 0.050127,
     "end_time": "2021-11-08T10:08:30.594910",
     "exception": false,
     "start_time": "2021-11-08T10:08:30.544783",
     "status": "completed"
    },
    "tags": []
   },
   "source": [
    "### Running Models with the Training data\n",
    "Details about the network layers:\n",
    "- A first affine layer has 784 inputs and does 100 affine transforms. These are followed by a Relu\n",
    "- A second affine layer has 100 inputs from the 100 activations of the past layer, and does 100 affine transforms. These are followed by a Relu\n",
    "- A third affine layer has 100 activations and does 2 affine transformations to create an embedding for visualization. There is no non-linearity here.\n",
    "- A final \"logistic regression\" which has an affine transform from 2 inputs to 1 output, which is squeezed through a sigmoid.\n"
   ]
  },
  {
   "cell_type": "code",
   "execution_count": 17,
   "id": "2b9c66db",
   "metadata": {
    "execution": {
     "iopub.execute_input": "2021-11-08T10:08:30.678194Z",
     "iopub.status.busy": "2021-11-08T10:08:30.677424Z",
     "iopub.status.idle": "2021-11-08T10:08:30.691109Z",
     "shell.execute_reply": "2021-11-08T10:08:30.690479Z"
    },
    "papermill": {
     "duration": 0.057734,
     "end_time": "2021-11-08T10:08:30.691277",
     "exception": false,
     "start_time": "2021-11-08T10:08:30.633543",
     "status": "completed"
    },
    "tags": []
   },
   "outputs": [],
   "source": [
    "data = Data(X_train, y_train.reshape(-1,1))\n",
    "sampler = Sampler(data, config.bs, shuffle=True)\n",
    "\n",
    "dl = Dataloader(data, sampler)\n",
    "\n",
    "opt = GD(config.lr)\n",
    "loss = MSE()"
   ]
  },
  {
   "cell_type": "code",
   "execution_count": 18,
   "id": "b275e4c2",
   "metadata": {
    "execution": {
     "iopub.execute_input": "2021-11-08T10:08:30.771581Z",
     "iopub.status.busy": "2021-11-08T10:08:30.770899Z",
     "iopub.status.idle": "2021-11-08T10:08:30.786232Z",
     "shell.execute_reply": "2021-11-08T10:08:30.785067Z"
    },
    "papermill": {
     "duration": 0.057826,
     "end_time": "2021-11-08T10:08:30.786405",
     "exception": false,
     "start_time": "2021-11-08T10:08:30.728579",
     "status": "completed"
    },
    "tags": []
   },
   "outputs": [],
   "source": [
    "training_data_x = X_train\n",
    "testing_data_x = X_test\n",
    "training_data_y = y_train.reshape(-1,1)\n",
    "testing_data_y = y_test.reshape(-1,1)"
   ]
  },
  {
   "cell_type": "code",
   "execution_count": 19,
   "id": "76951160",
   "metadata": {
    "execution": {
     "iopub.execute_input": "2021-11-08T10:08:30.865800Z",
     "iopub.status.busy": "2021-11-08T10:08:30.865098Z",
     "iopub.status.idle": "2021-11-08T10:08:30.884893Z",
     "shell.execute_reply": "2021-11-08T10:08:30.885523Z"
    },
    "papermill": {
     "duration": 0.061263,
     "end_time": "2021-11-08T10:08:30.885714",
     "exception": false,
     "start_time": "2021-11-08T10:08:30.824451",
     "status": "completed"
    },
    "tags": []
   },
   "outputs": [
    {
     "name": "stdout",
     "output_type": "stream",
     "text": [
      "xavier\n",
      "xavier\n",
      "xavier\n",
      "xavier\n",
      "xavier\n"
     ]
    }
   ],
   "source": [
    "layers = [Affine(\"first\", 784, 100), Relu(\"first\"), Affine(\"second\", 100, 100), Relu(\"second\"), Affine(\"third\", 100, 2), Affine(\"last\", 2, 1), Sigmoid(\"last\")]\n",
    "model_nn = Model(layers)\n",
    "model_lr = Model([Affine(\"logits\", 784, 1), Sigmoid(\"sigmoid\")])"
   ]
  },
  {
   "cell_type": "code",
   "execution_count": 20,
   "id": "6eede77a",
   "metadata": {
    "execution": {
     "iopub.execute_input": "2021-11-08T10:08:30.971678Z",
     "iopub.status.busy": "2021-11-08T10:08:30.970982Z",
     "iopub.status.idle": "2021-11-08T10:08:30.987825Z",
     "shell.execute_reply": "2021-11-08T10:08:30.986775Z"
    },
    "papermill": {
     "duration": 0.058065,
     "end_time": "2021-11-08T10:08:30.988023",
     "exception": false,
     "start_time": "2021-11-08T10:08:30.929958",
     "status": "completed"
    },
    "tags": []
   },
   "outputs": [],
   "source": [
    "nn_learner = Learner(loss, model_nn, opt, config.num_epochs)\n",
    "acc_nn = ClfCallback(nn_learner, config.bs, training_data_x , testing_data_x, training_data_y, testing_data_y)\n",
    "nn_learner.set_callbacks([acc_nn])"
   ]
  },
  {
   "cell_type": "code",
   "execution_count": 21,
   "id": "877b6cc7",
   "metadata": {
    "execution": {
     "iopub.execute_input": "2021-11-08T10:08:31.067027Z",
     "iopub.status.busy": "2021-11-08T10:08:31.066354Z",
     "iopub.status.idle": "2021-11-08T10:08:31.090883Z",
     "shell.execute_reply": "2021-11-08T10:08:31.090222Z"
    },
    "papermill": {
     "duration": 0.066045,
     "end_time": "2021-11-08T10:08:31.091044",
     "exception": false,
     "start_time": "2021-11-08T10:08:31.024999",
     "status": "completed"
    },
    "tags": []
   },
   "outputs": [],
   "source": [
    "lr_learner = Learner(loss, model_lr, opt, config.num_epochs)\n",
    "acc_lr = ClfCallback(lr_learner, config.bs, training_data_x , testing_data_x, training_data_y, testing_data_y)\n",
    "lr_learner.set_callbacks([acc_lr])"
   ]
  },
  {
   "cell_type": "code",
   "execution_count": 22,
   "id": "d9b133c3",
   "metadata": {
    "execution": {
     "iopub.execute_input": "2021-11-08T10:08:31.172182Z",
     "iopub.status.busy": "2021-11-08T10:08:31.171458Z",
     "iopub.status.idle": "2021-11-08T10:10:56.049165Z",
     "shell.execute_reply": "2021-11-08T10:10:56.050104Z"
    },
    "papermill": {
     "duration": 144.92073,
     "end_time": "2021-11-08T10:10:56.050309",
     "exception": false,
     "start_time": "2021-11-08T10:08:31.129579",
     "status": "completed"
    },
    "tags": []
   },
   "outputs": [
    {
     "name": "stdout",
     "output_type": "stream",
     "text": [
      "Epoch 0, Loss 0.25\n",
      "Training Accuracy: 0.5264, Testing Accuracy: 0.5287\n",
      "\n"
     ]
    },
    {
     "name": "stdout",
     "output_type": "stream",
     "text": [
      "Epoch 10, Loss 0.1069\n",
      "Training Accuracy: 0.9109, Testing Accuracy: 0.9183\n",
      "\n"
     ]
    },
    {
     "name": "stdout",
     "output_type": "stream",
     "text": [
      "Epoch 20, Loss 0.0616\n",
      "Training Accuracy: 0.9372, Testing Accuracy: 0.9501\n",
      "\n"
     ]
    },
    {
     "name": "stdout",
     "output_type": "stream",
     "text": [
      "Epoch 30, Loss 0.0474\n",
      "Training Accuracy: 0.9484, Testing Accuracy: 0.9577\n",
      "\n"
     ]
    },
    {
     "name": "stdout",
     "output_type": "stream",
     "text": [
      "Epoch 40, Loss 0.0406\n",
      "Training Accuracy: 0.9543, Testing Accuracy: 0.9632\n",
      "\n"
     ]
    },
    {
     "name": "stdout",
     "output_type": "stream",
     "text": [
      "Epoch 50, Loss 0.0367\n",
      "Training Accuracy: 0.9580, Testing Accuracy: 0.9647\n",
      "\n"
     ]
    },
    {
     "name": "stdout",
     "output_type": "stream",
     "text": [
      "Epoch 60, Loss 0.034\n",
      "Training Accuracy: 0.9604, Testing Accuracy: 0.9662\n",
      "\n"
     ]
    },
    {
     "name": "stdout",
     "output_type": "stream",
     "text": [
      "Epoch 70, Loss 0.032\n",
      "Training Accuracy: 0.9626, Testing Accuracy: 0.9662\n",
      "\n"
     ]
    },
    {
     "name": "stdout",
     "output_type": "stream",
     "text": [
      "Epoch 80, Loss 0.0305\n",
      "Training Accuracy: 0.9644, Testing Accuracy: 0.9657\n",
      "\n"
     ]
    },
    {
     "name": "stdout",
     "output_type": "stream",
     "text": [
      "Epoch 90, Loss 0.0293\n",
      "Training Accuracy: 0.9656, Testing Accuracy: 0.9667\n",
      "\n"
     ]
    },
    {
     "name": "stdout",
     "output_type": "stream",
     "text": [
      "Epoch 100, Loss 0.0282\n",
      "Training Accuracy: 0.9670, Testing Accuracy: 0.9672\n",
      "\n"
     ]
    },
    {
     "name": "stdout",
     "output_type": "stream",
     "text": [
      "Epoch 110, Loss 0.0273\n",
      "Training Accuracy: 0.9681, Testing Accuracy: 0.9682\n",
      "\n"
     ]
    },
    {
     "name": "stdout",
     "output_type": "stream",
     "text": [
      "Epoch 120, Loss 0.0265\n",
      "Training Accuracy: 0.9693, Testing Accuracy: 0.9682\n",
      "\n"
     ]
    },
    {
     "name": "stdout",
     "output_type": "stream",
     "text": [
      "Epoch 130, Loss 0.0258\n",
      "Training Accuracy: 0.9700, Testing Accuracy: 0.9688\n",
      "\n"
     ]
    },
    {
     "name": "stdout",
     "output_type": "stream",
     "text": [
      "Epoch 140, Loss 0.0252\n",
      "Training Accuracy: 0.9705, Testing Accuracy: 0.9688\n",
      "\n"
     ]
    },
    {
     "name": "stdout",
     "output_type": "stream",
     "text": [
      "Epoch 150, Loss 0.0246\n",
      "Training Accuracy: 0.9710, Testing Accuracy: 0.9693\n",
      "\n"
     ]
    },
    {
     "name": "stdout",
     "output_type": "stream",
     "text": [
      "Epoch 160, Loss 0.024\n",
      "Training Accuracy: 0.9715, Testing Accuracy: 0.9688\n",
      "\n"
     ]
    },
    {
     "name": "stdout",
     "output_type": "stream",
     "text": [
      "Epoch 170, Loss 0.0235\n",
      "Training Accuracy: 0.9720, Testing Accuracy: 0.9688\n",
      "\n"
     ]
    },
    {
     "name": "stdout",
     "output_type": "stream",
     "text": [
      "Epoch 180, Loss 0.023\n",
      "Training Accuracy: 0.9726, Testing Accuracy: 0.9693\n",
      "\n"
     ]
    },
    {
     "name": "stdout",
     "output_type": "stream",
     "text": [
      "Epoch 190, Loss 0.0226\n",
      "Training Accuracy: 0.9729, Testing Accuracy: 0.9693\n",
      "\n"
     ]
    },
    {
     "name": "stdout",
     "output_type": "stream",
     "text": [
      "Epoch 200, Loss 0.0221\n",
      "Training Accuracy: 0.9731, Testing Accuracy: 0.9708\n",
      "\n"
     ]
    },
    {
     "name": "stdout",
     "output_type": "stream",
     "text": [
      "Epoch 210, Loss 0.0217\n",
      "Training Accuracy: 0.9740, Testing Accuracy: 0.9713\n",
      "\n"
     ]
    },
    {
     "name": "stdout",
     "output_type": "stream",
     "text": [
      "Epoch 220, Loss 0.0213\n",
      "Training Accuracy: 0.9746, Testing Accuracy: 0.9713\n",
      "\n"
     ]
    },
    {
     "name": "stdout",
     "output_type": "stream",
     "text": [
      "Epoch 230, Loss 0.021\n",
      "Training Accuracy: 0.9754, Testing Accuracy: 0.9718\n",
      "\n"
     ]
    },
    {
     "name": "stdout",
     "output_type": "stream",
     "text": [
      "Epoch 240, Loss 0.0206\n",
      "Training Accuracy: 0.9758, Testing Accuracy: 0.9718\n",
      "\n"
     ]
    },
    {
     "data": {
      "text/plain": [
       "0.008981324101958121"
      ]
     },
     "execution_count": 22,
     "metadata": {},
     "output_type": "execute_result"
    }
   ],
   "source": [
    "nn_learner.train_loop(dl)"
   ]
  },
  {
   "cell_type": "code",
   "execution_count": 23,
   "id": "e0163366",
   "metadata": {
    "execution": {
     "iopub.execute_input": "2021-11-08T10:10:56.158786Z",
     "iopub.status.busy": "2021-11-08T10:10:56.158007Z",
     "iopub.status.idle": "2021-11-08T10:11:17.435248Z",
     "shell.execute_reply": "2021-11-08T10:11:17.436152Z"
    },
    "papermill": {
     "duration": 21.337375,
     "end_time": "2021-11-08T10:11:17.436340",
     "exception": false,
     "start_time": "2021-11-08T10:10:56.098965",
     "status": "completed"
    },
    "tags": []
   },
   "outputs": [
    {
     "name": "stdout",
     "output_type": "stream",
     "text": [
      "Epoch 0, Loss 0.2518\n",
      "Training Accuracy: 0.6632, Testing Accuracy: 0.6971\n",
      "\n"
     ]
    },
    {
     "name": "stdout",
     "output_type": "stream",
     "text": [
      "Epoch 10, Loss 0.1027\n",
      "Training Accuracy: 0.9119, Testing Accuracy: 0.9214\n",
      "\n"
     ]
    },
    {
     "name": "stdout",
     "output_type": "stream",
     "text": [
      "Epoch 20, Loss 0.0792\n",
      "Training Accuracy: 0.9258, Testing Accuracy: 0.9385\n",
      "\n"
     ]
    },
    {
     "name": "stdout",
     "output_type": "stream",
     "text": [
      "Epoch 30, Loss 0.0684\n",
      "Training Accuracy: 0.9338, Testing Accuracy: 0.9466\n",
      "\n"
     ]
    },
    {
     "name": "stdout",
     "output_type": "stream",
     "text": [
      "Epoch 40, Loss 0.0618\n",
      "Training Accuracy: 0.9396, Testing Accuracy: 0.9511\n",
      "\n"
     ]
    },
    {
     "name": "stdout",
     "output_type": "stream",
     "text": [
      "Epoch 50, Loss 0.0574\n",
      "Training Accuracy: 0.9438, Testing Accuracy: 0.9531\n",
      "\n"
     ]
    },
    {
     "name": "stdout",
     "output_type": "stream",
     "text": [
      "Epoch 60, Loss 0.0541\n",
      "Training Accuracy: 0.9461, Testing Accuracy: 0.9556\n",
      "\n"
     ]
    },
    {
     "name": "stdout",
     "output_type": "stream",
     "text": [
      "Epoch 70, Loss 0.0515\n",
      "Training Accuracy: 0.9480, Testing Accuracy: 0.9577\n",
      "\n"
     ]
    },
    {
     "name": "stdout",
     "output_type": "stream",
     "text": [
      "Epoch 80, Loss 0.0495\n",
      "Training Accuracy: 0.9499, Testing Accuracy: 0.9587\n",
      "\n"
     ]
    },
    {
     "name": "stdout",
     "output_type": "stream",
     "text": [
      "Epoch 90, Loss 0.0478\n",
      "Training Accuracy: 0.9518, Testing Accuracy: 0.9607\n",
      "\n"
     ]
    },
    {
     "name": "stdout",
     "output_type": "stream",
     "text": [
      "Epoch 100, Loss 0.0463\n",
      "Training Accuracy: 0.9528, Testing Accuracy: 0.9612\n",
      "\n"
     ]
    },
    {
     "name": "stdout",
     "output_type": "stream",
     "text": [
      "Epoch 110, Loss 0.0451\n",
      "Training Accuracy: 0.9543, Testing Accuracy: 0.9632\n",
      "\n"
     ]
    },
    {
     "name": "stdout",
     "output_type": "stream",
     "text": [
      "Epoch 120, Loss 0.044\n",
      "Training Accuracy: 0.9546, Testing Accuracy: 0.9642\n",
      "\n"
     ]
    },
    {
     "name": "stdout",
     "output_type": "stream",
     "text": [
      "Epoch 130, Loss 0.0431\n",
      "Training Accuracy: 0.9556, Testing Accuracy: 0.9642\n",
      "\n"
     ]
    },
    {
     "name": "stdout",
     "output_type": "stream",
     "text": [
      "Epoch 140, Loss 0.0422\n",
      "Training Accuracy: 0.9564, Testing Accuracy: 0.9642\n",
      "\n"
     ]
    },
    {
     "name": "stdout",
     "output_type": "stream",
     "text": [
      "Epoch 150, Loss 0.0415\n",
      "Training Accuracy: 0.9568, Testing Accuracy: 0.9647\n",
      "\n"
     ]
    },
    {
     "name": "stdout",
     "output_type": "stream",
     "text": [
      "Epoch 160, Loss 0.0408\n",
      "Training Accuracy: 0.9574, Testing Accuracy: 0.9652\n",
      "\n"
     ]
    },
    {
     "name": "stdout",
     "output_type": "stream",
     "text": [
      "Epoch 170, Loss 0.0402\n",
      "Training Accuracy: 0.9580, Testing Accuracy: 0.9652\n",
      "\n"
     ]
    },
    {
     "name": "stdout",
     "output_type": "stream",
     "text": [
      "Epoch 180, Loss 0.0396\n",
      "Training Accuracy: 0.9583, Testing Accuracy: 0.9652\n",
      "\n"
     ]
    },
    {
     "name": "stdout",
     "output_type": "stream",
     "text": [
      "Epoch 190, Loss 0.0391\n",
      "Training Accuracy: 0.9584, Testing Accuracy: 0.9652\n",
      "\n"
     ]
    },
    {
     "name": "stdout",
     "output_type": "stream",
     "text": [
      "Epoch 200, Loss 0.0386\n",
      "Training Accuracy: 0.9587, Testing Accuracy: 0.9647\n",
      "\n"
     ]
    },
    {
     "name": "stdout",
     "output_type": "stream",
     "text": [
      "Epoch 210, Loss 0.0382\n",
      "Training Accuracy: 0.9591, Testing Accuracy: 0.9652\n",
      "\n"
     ]
    },
    {
     "name": "stdout",
     "output_type": "stream",
     "text": [
      "Epoch 220, Loss 0.0377\n",
      "Training Accuracy: 0.9594, Testing Accuracy: 0.9657\n",
      "\n"
     ]
    },
    {
     "name": "stdout",
     "output_type": "stream",
     "text": [
      "Epoch 230, Loss 0.0374\n",
      "Training Accuracy: 0.9600, Testing Accuracy: 0.9657\n",
      "\n"
     ]
    },
    {
     "name": "stdout",
     "output_type": "stream",
     "text": [
      "Epoch 240, Loss 0.037\n",
      "Training Accuracy: 0.9603, Testing Accuracy: 0.9662\n",
      "\n"
     ]
    },
    {
     "data": {
      "text/plain": [
       "0.011543138748513825"
      ]
     },
     "execution_count": 23,
     "metadata": {},
     "output_type": "execute_result"
    }
   ],
   "source": [
    "lr_learner.train_loop(dl)"
   ]
  },
  {
   "cell_type": "code",
   "execution_count": 24,
   "id": "ca410940",
   "metadata": {
    "execution": {
     "iopub.execute_input": "2021-11-08T10:11:17.557373Z",
     "iopub.status.busy": "2021-11-08T10:11:17.556075Z",
     "iopub.status.idle": "2021-11-08T10:11:17.864562Z",
     "shell.execute_reply": "2021-11-08T10:11:17.863637Z"
    },
    "papermill": {
     "duration": 0.3704,
     "end_time": "2021-11-08T10:11:17.864765",
     "exception": false,
     "start_time": "2021-11-08T10:11:17.494365",
     "status": "completed"
    },
    "tags": []
   },
   "outputs": [
    {
     "data": {
      "text/plain": [
       "<matplotlib.legend.Legend at 0x7f552f791828>"
      ]
     },
     "execution_count": 24,
     "metadata": {},
     "output_type": "execute_result"
    },
    {
     "data": {
      "image/png": "[encoded data removed]",
      "text/plain": [
       "<Figure size 1080x720 with 1 Axes>"
      ]
     },
     "metadata": {
      "needs_background": "light"
     },
     "output_type": "display_data"
    }
   ],
   "source": [
    "#comparing the results of NN and LR\n",
    "plt.figure(figsize=(15,10))\n",
    "\n",
    "# Neural Network plots\n",
    "plt.plot(acc_nn.accuracies, 'r-', label = \"Training Accuracies - NN\")\n",
    "plt.plot(acc_nn.test_accuracies, 'g-', label = \"Testing Accuracies - NN\")\n",
    "\n",
    "# Logistic Regression plots\n",
    "plt.plot(acc_lr.accuracies, 'k-', label = \"Training Accuracies - LR\")\n",
    "plt.plot(acc_lr.test_accuracies, 'b-', label = \"Testing Accuracies - LR\")\n",
    "plt.legend()"
   ]
  },
  {
   "cell_type": "markdown",
   "id": "80dfb35c",
   "metadata": {
    "papermill": {
     "duration": 0.056043,
     "end_time": "2021-11-08T10:11:17.982411",
     "exception": false,
     "start_time": "2021-11-08T10:11:17.926368",
     "status": "completed"
    },
    "tags": []
   },
   "source": [
    "#### Plotting the outputs of this layer of the NN.\n"
   ]
  },
  {
   "cell_type": "code",
   "execution_count": 25,
   "id": "45eb2ff5",
   "metadata": {
    "execution": {
     "iopub.execute_input": "2021-11-08T10:11:18.101939Z",
     "iopub.status.busy": "2021-11-08T10:11:18.101251Z",
     "iopub.status.idle": "2021-11-08T10:11:18.130352Z",
     "shell.execute_reply": "2021-11-08T10:11:18.131247Z"
    },
    "papermill": {
     "duration": 0.091341,
     "end_time": "2021-11-08T10:11:18.131467",
     "exception": false,
     "start_time": "2021-11-08T10:11:18.040126",
     "status": "completed"
    },
    "tags": []
   },
   "outputs": [],
   "source": [
    "new_model = Model(layers[:-2])\n",
    "testing_plot = new_model(testing_data_x)"
   ]
  },
  {
   "cell_type": "code",
   "execution_count": 26,
   "id": "4c0a5485",
   "metadata": {
    "execution": {
     "iopub.execute_input": "2021-11-08T10:11:18.254109Z",
     "iopub.status.busy": "2021-11-08T10:11:18.253417Z",
     "iopub.status.idle": "2021-11-08T10:11:18.580313Z",
     "shell.execute_reply": "2021-11-08T10:11:18.579682Z"
    },
    "papermill": {
     "duration": 0.391937,
     "end_time": "2021-11-08T10:11:18.580480",
     "exception": false,
     "start_time": "2021-11-08T10:11:18.188543",
     "status": "completed"
    },
    "tags": []
   },
   "outputs": [
    {
     "data": {
      "text/plain": [
       "Text(0.5, 1.0, 'Outputs')"
      ]
     },
     "execution_count": 26,
     "metadata": {},
     "output_type": "execute_result"
    },
    {
     "data": {
      "image/png": "[encoded data removed]",
      "text/plain": [
       "<Figure size 576x504 with 1 Axes>"
      ]
     },
     "metadata": {
      "needs_background": "light"
     },
     "output_type": "display_data"
    }
   ],
   "source": [
    "# Plotting the scatter plot of points and color coding by class\n",
    "plt.figure(figsize=(8,7))\n",
    "plt.scatter(testing_plot[:,0], testing_plot[:,1], alpha = 0.1, c = y_test.ravel());\n",
    "plt.title('Outputs')"
   ]
  },
  {
   "cell_type": "markdown",
   "id": "a74fcf8f",
   "metadata": {
    "papermill": {
     "duration": 0.06195,
     "end_time": "2021-11-08T10:11:18.704977",
     "exception": false,
     "start_time": "2021-11-08T10:11:18.643027",
     "status": "completed"
    },
    "tags": []
   },
   "source": [
    "Probability contours"
   ]
  },
  {
   "cell_type": "code",
   "execution_count": 27,
   "id": "d0afc8e3",
   "metadata": {
    "execution": {
     "iopub.execute_input": "2021-11-08T10:11:18.868200Z",
     "iopub.status.busy": "2021-11-08T10:11:18.867439Z",
     "iopub.status.idle": "2021-11-08T10:11:18.881103Z",
     "shell.execute_reply": "2021-11-08T10:11:18.880466Z"
    },
    "papermill": {
     "duration": 0.081913,
     "end_time": "2021-11-08T10:11:18.881257",
     "exception": false,
     "start_time": "2021-11-08T10:11:18.799344",
     "status": "completed"
    },
    "tags": []
   },
   "outputs": [],
   "source": [
    "model_prob = Model(layers[-2:]) "
   ]
  },
  {
   "cell_type": "code",
   "execution_count": 28,
   "id": "9b96e238",
   "metadata": {
    "execution": {
     "iopub.execute_input": "2021-11-08T10:11:19.017148Z",
     "iopub.status.busy": "2021-11-08T10:11:19.015852Z",
     "iopub.status.idle": "2021-11-08T10:11:19.030419Z",
     "shell.execute_reply": "2021-11-08T10:11:19.030964Z"
    },
    "papermill": {
     "duration": 0.08842,
     "end_time": "2021-11-08T10:11:19.031141",
     "exception": false,
     "start_time": "2021-11-08T10:11:18.942721",
     "status": "completed"
    },
    "tags": []
   },
   "outputs": [],
   "source": [
    "#creating the x and y ranges according to the above generated plot.\n",
    "x_range = np.linspace(-4, 1, 100) \n",
    "y_range = np.linspace(-6, 6, 100) \n",
    "x_grid, y_grid = np.meshgrid(x_range, y_range) # x_grid and y_grig are of size 100 X 100\n",
    "\n",
    "# converting x_grid and y_grid to continuous arrays\n",
    "x_gridflat = np.ravel(x_grid)\n",
    "y_gridflat = np.ravel(y_grid)\n",
    "\n",
    "# The last layer of the current model takes two columns as input. Hence transpose of np.vstack() is required.\n",
    "X = np.vstack((x_gridflat, y_gridflat)).T\n",
    "\n",
    "prob_contour = model_prob(X).reshape(100,100) "
   ]
  },
  {
   "cell_type": "code",
   "execution_count": 29,
   "id": "da72499a",
   "metadata": {
    "execution": {
     "iopub.execute_input": "2021-11-08T10:11:19.186064Z",
     "iopub.status.busy": "2021-11-08T10:11:19.177872Z",
     "iopub.status.idle": "2021-11-08T10:11:19.548020Z",
     "shell.execute_reply": "2021-11-08T10:11:19.547407Z"
    },
    "papermill": {
     "duration": 0.448063,
     "end_time": "2021-11-08T10:11:19.548164",
     "exception": false,
     "start_time": "2021-11-08T10:11:19.100101",
     "status": "completed"
    },
    "tags": []
   },
   "outputs": [
    {
     "data": {
      "image/png": "[encoded data removed]",
      "text/plain": [
       "<Figure size 720x648 with 1 Axes>"
      ]
     },
     "metadata": {
      "needs_background": "light"
     },
     "output_type": "display_data"
    }
   ],
   "source": [
    "plt.figure(figsize=(10,9))\n",
    "plt.scatter(testing_plot[:,0], testing_plot[:,1], alpha = 0.1, c = y_test.ravel())\n",
    "contours = plt.contour(x_grid,y_grid,prob_contour)\n",
    "plt.title('Probability Contours')\n",
    "plt.clabel(contours, inline = True );"
   ]
  },
  {
   "cell_type": "code",
   "execution_count": null,
   "id": "e81b4ac7",
   "metadata": {
    "papermill": {
     "duration": 0.064465,
     "end_time": "2021-11-08T10:11:19.685759",
     "exception": false,
     "start_time": "2021-11-08T10:11:19.621294",
     "status": "completed"
    },
    "tags": []
   },
   "outputs": [],
   "source": []
  }
 ],
 "metadata": {
  "kernelspec": {
   "display_name": "Python 3",
   "language": "python",
   "name": "python3"
  },
  "language_info": {
   "codemirror_mode": {
    "name": "ipython",
    "version": 3
   },
   "file_extension": ".py",
   "mimetype": "text/x-python",
   "name": "python",
   "nbconvert_exporter": "python",
   "pygments_lexer": "ipython3",
   "version": "3.6.15"
  },
  "papermill": {
   "default_parameters": {},
   "duration": 177.053808,
   "end_time": "2021-11-08T10:11:20.161372",
   "environment_variables": {},
   "exception": null,
   "input_path": "2020-08-11-part2.ipynb",
   "output_path": "2020-08-11-part2.ipynb",
   "parameters": {},
   "start_time": "2021-11-08T10:08:23.107564",
   "version": "2.3.3"
  }
 },
 "nbformat": 4,
 "nbformat_minor": 5
}