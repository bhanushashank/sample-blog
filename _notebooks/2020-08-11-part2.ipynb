{
 "cells": [
  {
   "cell_type": "markdown",
   "id": "98380cd3",
   "metadata": {
    "papermill": {
     "duration": 0.029277,
     "end_time": "2022-11-11T20:10:53.237198",
     "exception": false,
     "start_time": "2022-11-11T20:10:53.207921",
     "status": "completed"
    },
    "tags": []
   },
   "source": [
    "# Distinguish Your Own Digits (DYOD)"
   ]
  },
  {
   "cell_type": "markdown",
   "id": "ef31240d",
   "metadata": {
    "papermill": {
     "duration": 0.024068,
     "end_time": "2022-11-11T20:10:53.286066",
     "exception": false,
     "start_time": "2022-11-11T20:10:53.261998",
     "status": "completed"
    },
    "tags": []
   },
   "source": [
    "You are going to write a classifier that distinguishes between the number 3 and number 8."
   ]
  },
  {
   "cell_type": "code",
   "execution_count": 1,
   "id": "b15c8646",
   "metadata": {
    "execution": {
     "iopub.execute_input": "2022-11-11T20:10:53.344285Z",
     "iopub.status.busy": "2022-11-11T20:10:53.343710Z",
     "iopub.status.idle": "2022-11-11T20:10:53.354277Z",
     "shell.execute_reply": "2022-11-11T20:10:53.353817Z"
    },
    "papermill": {
     "duration": 0.04429,
     "end_time": "2022-11-11T20:10:53.354389",
     "exception": false,
     "start_time": "2022-11-11T20:10:53.310099",
     "status": "completed"
    },
    "tags": []
   },
   "outputs": [],
   "source": [
    "%load_ext autoreload\n",
    "%autoreload 2"
   ]
  },
  {
   "cell_type": "code",
   "execution_count": 2,
   "id": "22ef38dc",
   "metadata": {
    "execution": {
     "iopub.execute_input": "2022-11-11T20:10:53.406410Z",
     "iopub.status.busy": "2022-11-11T20:10:53.405846Z",
     "iopub.status.idle": "2022-11-11T20:10:53.904628Z",
     "shell.execute_reply": "2022-11-11T20:10:53.904157Z"
    },
    "papermill": {
     "duration": 0.52613,
     "end_time": "2022-11-11T20:10:53.904746",
     "exception": false,
     "start_time": "2022-11-11T20:10:53.378616",
     "status": "completed"
    },
    "tags": []
   },
   "outputs": [],
   "source": [
    "%matplotlib inline\n",
    "import numpy as np\n",
    "import matplotlib.pyplot as plt\n",
    "import pandas as pd"
   ]
  },
  {
   "cell_type": "markdown",
   "id": "ba036198",
   "metadata": {
    "papermill": {
     "duration": 0.024086,
     "end_time": "2022-11-11T20:10:53.953112",
     "exception": false,
     "start_time": "2022-11-11T20:10:53.929026",
     "status": "completed"
    },
    "tags": []
   },
   "source": [
    "From the command line run `pip install mnist`. This is a library that will help you bring down the mnist dataset. If you run this from a notebook, you need to put  `!pip install mnist` in a cell by itself."
   ]
  },
  {
   "cell_type": "code",
   "execution_count": 3,
   "id": "bb6ad8a1",
   "metadata": {
    "execution": {
     "iopub.execute_input": "2022-11-11T20:10:54.005204Z",
     "iopub.status.busy": "2022-11-11T20:10:54.004643Z",
     "iopub.status.idle": "2022-11-11T20:10:55.605331Z",
     "shell.execute_reply": "2022-11-11T20:10:55.604824Z"
    },
    "papermill": {
     "duration": 1.628214,
     "end_time": "2022-11-11T20:10:55.605439",
     "exception": false,
     "start_time": "2022-11-11T20:10:53.977225",
     "status": "completed"
    },
    "tags": []
   },
   "outputs": [
    {
     "name": "stdout",
     "output_type": "stream",
     "text": [
      "Collecting mnist\r\n"
     ]
    },
    {
     "name": "stdout",
     "output_type": "stream",
     "text": [
      "  Downloading mnist-0.2.2-py2.py3-none-any.whl (3.5 kB)\r\n",
      "Requirement already satisfied: numpy in /opt/hostedtoolcache/Python/3.6.15/x64/lib/python3.6/site-packages (from mnist) (1.19.5)\r\n"
     ]
    },
    {
     "name": "stdout",
     "output_type": "stream",
     "text": [
      "Installing collected packages: mnist\r\n"
     ]
    },
    {
     "name": "stdout",
     "output_type": "stream",
     "text": [
      "Successfully installed mnist-0.2.2\r\n"
     ]
    }
   ],
   "source": [
    "!pip install mnist"
   ]
  },
  {
   "cell_type": "markdown",
   "id": "69df9c9a",
   "metadata": {
    "papermill": {
     "duration": 0.025273,
     "end_time": "2022-11-11T20:10:55.656233",
     "exception": false,
     "start_time": "2022-11-11T20:10:55.630960",
     "status": "completed"
    },
    "tags": []
   },
   "source": [
    "## Preparing the Data"
   ]
  },
  {
   "cell_type": "code",
   "execution_count": 4,
   "id": "7f69d806",
   "metadata": {
    "execution": {
     "iopub.execute_input": "2022-11-11T20:10:55.710430Z",
     "iopub.status.busy": "2022-11-11T20:10:55.709867Z",
     "iopub.status.idle": "2022-11-11T20:10:55.723397Z",
     "shell.execute_reply": "2022-11-11T20:10:55.723838Z"
    },
    "papermill": {
     "duration": 0.042482,
     "end_time": "2022-11-11T20:10:55.723951",
     "exception": false,
     "start_time": "2022-11-11T20:10:55.681469",
     "status": "completed"
    },
    "tags": []
   },
   "outputs": [],
   "source": [
    "import mnist"
   ]
  },
  {
   "cell_type": "code",
   "execution_count": 5,
   "id": "a411e44f",
   "metadata": {
    "execution": {
     "iopub.execute_input": "2022-11-11T20:10:55.778206Z",
     "iopub.status.busy": "2022-11-11T20:10:55.777653Z",
     "iopub.status.idle": "2022-11-11T20:10:56.535573Z",
     "shell.execute_reply": "2022-11-11T20:10:56.535076Z"
    },
    "papermill": {
     "duration": 0.786449,
     "end_time": "2022-11-11T20:10:56.535682",
     "exception": false,
     "start_time": "2022-11-11T20:10:55.749233",
     "status": "completed"
    },
    "tags": []
   },
   "outputs": [],
   "source": [
    "train_images = mnist.train_images()\n",
    "train_labels = mnist.train_labels()"
   ]
  },
  {
   "cell_type": "code",
   "execution_count": 6,
   "id": "dceab3a5",
   "metadata": {
    "execution": {
     "iopub.execute_input": "2022-11-11T20:10:56.590565Z",
     "iopub.status.busy": "2022-11-11T20:10:56.590008Z",
     "iopub.status.idle": "2022-11-11T20:10:56.604199Z",
     "shell.execute_reply": "2022-11-11T20:10:56.603756Z"
    },
    "papermill": {
     "duration": 0.042624,
     "end_time": "2022-11-11T20:10:56.604298",
     "exception": false,
     "start_time": "2022-11-11T20:10:56.561674",
     "status": "completed"
    },
    "tags": []
   },
   "outputs": [
    {
     "data": {
      "text/plain": [
       "((60000, 28, 28), (60000,))"
      ]
     },
     "execution_count": 6,
     "metadata": {},
     "output_type": "execute_result"
    }
   ],
   "source": [
    "train_images.shape, train_labels.shape"
   ]
  },
  {
   "cell_type": "code",
   "execution_count": 7,
   "id": "f50dc2bb",
   "metadata": {
    "execution": {
     "iopub.execute_input": "2022-11-11T20:10:56.658959Z",
     "iopub.status.busy": "2022-11-11T20:10:56.658409Z",
     "iopub.status.idle": "2022-11-11T20:10:57.012902Z",
     "shell.execute_reply": "2022-11-11T20:10:57.012397Z"
    },
    "papermill": {
     "duration": 0.383135,
     "end_time": "2022-11-11T20:10:57.013014",
     "exception": false,
     "start_time": "2022-11-11T20:10:56.629879",
     "status": "completed"
    },
    "tags": []
   },
   "outputs": [],
   "source": [
    "test_images = mnist.test_images()\n",
    "test_labels = mnist.test_labels()"
   ]
  },
  {
   "cell_type": "code",
   "execution_count": 8,
   "id": "fc38cf1b",
   "metadata": {
    "execution": {
     "iopub.execute_input": "2022-11-11T20:10:57.067848Z",
     "iopub.status.busy": "2022-11-11T20:10:57.067299Z",
     "iopub.status.idle": "2022-11-11T20:10:57.079779Z",
     "shell.execute_reply": "2022-11-11T20:10:57.080188Z"
    },
    "papermill": {
     "duration": 0.041422,
     "end_time": "2022-11-11T20:10:57.080302",
     "exception": false,
     "start_time": "2022-11-11T20:10:57.038880",
     "status": "completed"
    },
    "tags": []
   },
   "outputs": [
    {
     "data": {
      "text/plain": [
       "((10000, 28, 28), (10000,))"
      ]
     },
     "execution_count": 8,
     "metadata": {},
     "output_type": "execute_result"
    }
   ],
   "source": [
    "test_images.shape, test_labels.shape"
   ]
  },
  {
   "cell_type": "code",
   "execution_count": 9,
   "id": "f9ed8fe0",
   "metadata": {
    "execution": {
     "iopub.execute_input": "2022-11-11T20:10:57.134894Z",
     "iopub.status.busy": "2022-11-11T20:10:57.134352Z",
     "iopub.status.idle": "2022-11-11T20:10:57.264337Z",
     "shell.execute_reply": "2022-11-11T20:10:57.264768Z"
    },
    "papermill": {
     "duration": 0.158902,
     "end_time": "2022-11-11T20:10:57.264890",
     "exception": false,
     "start_time": "2022-11-11T20:10:57.105988",
     "status": "completed"
    },
    "tags": []
   },
   "outputs": [
    {
     "name": "stdout",
     "output_type": "stream",
     "text": [
      "2\n"
     ]
    },
    {
     "data": {
      "text/plain": [
       "<matplotlib.image.AxesImage at 0x7f7f21b3ae10>"
      ]
     },
     "execution_count": 9,
     "metadata": {},
     "output_type": "execute_result"
    },
    {
     "data": {
      "image/png": "[encoded data removed]",
      "text/plain": [
       "<Figure size 432x288 with 1 Axes>"
      ]
     },
     "metadata": {
      "needs_background": "light"
     },
     "output_type": "display_data"
    }
   ],
   "source": [
    "image_index = 7776 # You may select anything up to 60,000\n",
    "print(train_labels[image_index]) \n",
    "plt.imshow(train_images[image_index], cmap='Greys')"
   ]
  },
  {
   "cell_type": "markdown",
   "id": "a8d2388d",
   "metadata": {
    "papermill": {
     "duration": 0.027114,
     "end_time": "2022-11-11T20:10:57.319159",
     "exception": false,
     "start_time": "2022-11-11T20:10:57.292045",
     "status": "completed"
    },
    "tags": []
   },
   "source": [
    "## Filter data to get 3 and 8 out"
   ]
  },
  {
   "cell_type": "code",
   "execution_count": 10,
   "id": "776f7fc7",
   "metadata": {
    "execution": {
     "iopub.execute_input": "2022-11-11T20:10:57.376720Z",
     "iopub.status.busy": "2022-11-11T20:10:57.376157Z",
     "iopub.status.idle": "2022-11-11T20:10:57.392988Z",
     "shell.execute_reply": "2022-11-11T20:10:57.392532Z"
    },
    "papermill": {
     "duration": 0.047201,
     "end_time": "2022-11-11T20:10:57.393090",
     "exception": false,
     "start_time": "2022-11-11T20:10:57.345889",
     "status": "completed"
    },
    "tags": []
   },
   "outputs": [],
   "source": [
    "train_filter = np.where((train_labels == 3 ) | (train_labels == 8))\n",
    "test_filter = np.where((test_labels == 3) | (test_labels == 8))\n",
    "X_train, y_train = train_images[train_filter], train_labels[train_filter]\n",
    "X_test, y_test = test_images[test_filter], test_labels[test_filter]"
   ]
  },
  {
   "cell_type": "markdown",
   "id": "948f0b7e",
   "metadata": {
    "papermill": {
     "duration": 0.026607,
     "end_time": "2022-11-11T20:10:57.446498",
     "exception": false,
     "start_time": "2022-11-11T20:10:57.419891",
     "status": "completed"
    },
    "tags": []
   },
   "source": [
    "We normalize the pizel values in the 0 to 1 range"
   ]
  },
  {
   "cell_type": "code",
   "execution_count": 11,
   "id": "ee4c2166",
   "metadata": {
    "execution": {
     "iopub.execute_input": "2022-11-11T20:10:57.503821Z",
     "iopub.status.busy": "2022-11-11T20:10:57.503258Z",
     "iopub.status.idle": "2022-11-11T20:10:57.543570Z",
     "shell.execute_reply": "2022-11-11T20:10:57.542787Z"
    },
    "papermill": {
     "duration": 0.070475,
     "end_time": "2022-11-11T20:10:57.543687",
     "exception": false,
     "start_time": "2022-11-11T20:10:57.473212",
     "status": "completed"
    },
    "tags": []
   },
   "outputs": [],
   "source": [
    "X_train = X_train/255.\n",
    "X_test = X_test/255."
   ]
  },
  {
   "cell_type": "markdown",
   "id": "ddcf4fab",
   "metadata": {
    "papermill": {
     "duration": 0.026802,
     "end_time": "2022-11-11T20:10:57.598414",
     "exception": false,
     "start_time": "2022-11-11T20:10:57.571612",
     "status": "completed"
    },
    "tags": []
   },
   "source": [
    "And setup the labels as 1 (when the digit is 3) and 0 (when the digit is 8)"
   ]
  },
  {
   "cell_type": "code",
   "execution_count": 12,
   "id": "7dc908f2",
   "metadata": {
    "execution": {
     "iopub.execute_input": "2022-11-11T20:10:57.655453Z",
     "iopub.status.busy": "2022-11-11T20:10:57.654896Z",
     "iopub.status.idle": "2022-11-11T20:10:57.666305Z",
     "shell.execute_reply": "2022-11-11T20:10:57.665837Z"
    },
    "papermill": {
     "duration": 0.041324,
     "end_time": "2022-11-11T20:10:57.666403",
     "exception": false,
     "start_time": "2022-11-11T20:10:57.625079",
     "status": "completed"
    },
    "tags": []
   },
   "outputs": [],
   "source": [
    "y_train = 1*(y_train==3)\n",
    "y_test = 1*(y_test==3)"
   ]
  },
  {
   "cell_type": "code",
   "execution_count": 13,
   "id": "01e4e969",
   "metadata": {
    "execution": {
     "iopub.execute_input": "2022-11-11T20:10:57.722943Z",
     "iopub.status.busy": "2022-11-11T20:10:57.722387Z",
     "iopub.status.idle": "2022-11-11T20:10:57.734507Z",
     "shell.execute_reply": "2022-11-11T20:10:57.734927Z"
    },
    "papermill": {
     "duration": 0.041974,
     "end_time": "2022-11-11T20:10:57.735036",
     "exception": false,
     "start_time": "2022-11-11T20:10:57.693062",
     "status": "completed"
    },
    "tags": []
   },
   "outputs": [
    {
     "data": {
      "text/plain": [
       "((11982, 28, 28), (1984, 28, 28))"
      ]
     },
     "execution_count": 13,
     "metadata": {},
     "output_type": "execute_result"
    }
   ],
   "source": [
    "X_train.shape, X_test.shape"
   ]
  },
  {
   "cell_type": "markdown",
   "id": "5ccf3f85",
   "metadata": {
    "papermill": {
     "duration": 0.026987,
     "end_time": "2022-11-11T20:10:57.789141",
     "exception": false,
     "start_time": "2022-11-11T20:10:57.762154",
     "status": "completed"
    },
    "tags": []
   },
   "source": [
    "We reshape the data to flatten the image pixels into a set of features or co-variates:"
   ]
  },
  {
   "cell_type": "code",
   "execution_count": 14,
   "id": "5286a4a3",
   "metadata": {
    "execution": {
     "iopub.execute_input": "2022-11-11T20:10:57.846949Z",
     "iopub.status.busy": "2022-11-11T20:10:57.846394Z",
     "iopub.status.idle": "2022-11-11T20:10:57.859333Z",
     "shell.execute_reply": "2022-11-11T20:10:57.859755Z"
    },
    "papermill": {
     "duration": 0.043625,
     "end_time": "2022-11-11T20:10:57.859865",
     "exception": false,
     "start_time": "2022-11-11T20:10:57.816240",
     "status": "completed"
    },
    "tags": []
   },
   "outputs": [
    {
     "data": {
      "text/plain": [
       "((11982, 784), (1984, 784))"
      ]
     },
     "execution_count": 14,
     "metadata": {},
     "output_type": "execute_result"
    }
   ],
   "source": [
    "X_train = X_train.reshape(X_train.shape[0], -1)\n",
    "X_test = X_test.reshape(X_test.shape[0], -1)\n",
    "X_train.shape, X_test.shape"
   ]
  },
  {
   "cell_type": "code",
   "execution_count": 15,
   "id": "73c5f88a",
   "metadata": {
    "execution": {
     "iopub.execute_input": "2022-11-11T20:10:57.918547Z",
     "iopub.status.busy": "2022-11-11T20:10:57.917975Z",
     "iopub.status.idle": "2022-11-11T20:10:57.935579Z",
     "shell.execute_reply": "2022-11-11T20:10:57.935123Z"
    },
    "papermill": {
     "duration": 0.048505,
     "end_time": "2022-11-11T20:10:57.935686",
     "exception": false,
     "start_time": "2022-11-11T20:10:57.887181",
     "status": "completed"
    },
    "tags": []
   },
   "outputs": [],
   "source": [
    "#Impoting functions from 'Kudzu'\n",
    "from kudzu.model import Model\n",
    "from kudzu.train import Learner\n",
    "from kudzu.optim import GD\n",
    "from kudzu.data import Data, Sampler,Dataloader\n",
    "\n",
    "from kudzu.callbacks import AccCallback\n",
    "from kudzu.callbacks import ClfCallback\n",
    "\n",
    "from kudzu.loss import MSE\n",
    "\n",
    "from kudzu.layer import Sigmoid,Relu\n",
    "from kudzu.layer import Affine"
   ]
  },
  {
   "cell_type": "markdown",
   "id": "bc01172a",
   "metadata": {
    "papermill": {
     "duration": 0.027194,
     "end_time": "2022-11-11T20:10:57.990342",
     "exception": false,
     "start_time": "2022-11-11T20:10:57.963148",
     "status": "completed"
    },
    "tags": []
   },
   "source": [
    "### Let us create a `Config` class, to store important parameters. \n",
    "This class essentially plays the role of a dictionary."
   ]
  },
  {
   "cell_type": "code",
   "execution_count": 16,
   "id": "978281aa",
   "metadata": {
    "execution": {
     "iopub.execute_input": "2022-11-11T20:10:58.049097Z",
     "iopub.status.busy": "2022-11-11T20:10:58.048539Z",
     "iopub.status.idle": "2022-11-11T20:10:58.059823Z",
     "shell.execute_reply": "2022-11-11T20:10:58.059382Z"
    },
    "papermill": {
     "duration": 0.042321,
     "end_time": "2022-11-11T20:10:58.059922",
     "exception": false,
     "start_time": "2022-11-11T20:10:58.017601",
     "status": "completed"
    },
    "tags": []
   },
   "outputs": [],
   "source": [
    "class Config:\n",
    "    pass\n",
    "config = Config()\n",
    "config.lr = 0.001\n",
    "config.num_epochs = 250\n",
    "config.bs = 50"
   ]
  },
  {
   "cell_type": "markdown",
   "id": "1385fa59",
   "metadata": {
    "papermill": {
     "duration": 0.027238,
     "end_time": "2022-11-11T20:10:58.114518",
     "exception": false,
     "start_time": "2022-11-11T20:10:58.087280",
     "status": "completed"
    },
    "tags": []
   },
   "source": [
    "### Running Models with the Training data\n",
    "Details about the network layers:\n",
    "- A first affine layer has 784 inputs and does 100 affine transforms. These are followed by a Relu\n",
    "- A second affine layer has 100 inputs from the 100 activations of the past layer, and does 100 affine transforms. These are followed by a Relu\n",
    "- A third affine layer has 100 activations and does 2 affine transformations to create an embedding for visualization. There is no non-linearity here.\n",
    "- A final \"logistic regression\" which has an affine transform from 2 inputs to 1 output, which is squeezed through a sigmoid.\n"
   ]
  },
  {
   "cell_type": "code",
   "execution_count": 17,
   "id": "2b9c66db",
   "metadata": {
    "execution": {
     "iopub.execute_input": "2022-11-11T20:10:58.172854Z",
     "iopub.status.busy": "2022-11-11T20:10:58.172295Z",
     "iopub.status.idle": "2022-11-11T20:10:58.184851Z",
     "shell.execute_reply": "2022-11-11T20:10:58.185571Z"
    },
    "papermill": {
     "duration": 0.043948,
     "end_time": "2022-11-11T20:10:58.185690",
     "exception": false,
     "start_time": "2022-11-11T20:10:58.141742",
     "status": "completed"
    },
    "tags": []
   },
   "outputs": [],
   "source": [
    "data = Data(X_train, y_train.reshape(-1,1))\n",
    "sampler = Sampler(data, config.bs, shuffle=True)\n",
    "\n",
    "dl = Dataloader(data, sampler)\n",
    "\n",
    "opt = GD(config.lr)\n",
    "loss = MSE()"
   ]
  },
  {
   "cell_type": "code",
   "execution_count": 18,
   "id": "b275e4c2",
   "metadata": {
    "execution": {
     "iopub.execute_input": "2022-11-11T20:10:58.245784Z",
     "iopub.status.busy": "2022-11-11T20:10:58.244363Z",
     "iopub.status.idle": "2022-11-11T20:10:58.255984Z",
     "shell.execute_reply": "2022-11-11T20:10:58.255436Z"
    },
    "papermill": {
     "duration": 0.043077,
     "end_time": "2022-11-11T20:10:58.256080",
     "exception": false,
     "start_time": "2022-11-11T20:10:58.213003",
     "status": "completed"
    },
    "tags": []
   },
   "outputs": [],
   "source": [
    "training_data_x = X_train\n",
    "testing_data_x = X_test\n",
    "training_data_y = y_train.reshape(-1,1)\n",
    "testing_data_y = y_test.reshape(-1,1)"
   ]
  },
  {
   "cell_type": "code",
   "execution_count": 19,
   "id": "76951160",
   "metadata": {
    "execution": {
     "iopub.execute_input": "2022-11-11T20:10:58.314596Z",
     "iopub.status.busy": "2022-11-11T20:10:58.314048Z",
     "iopub.status.idle": "2022-11-11T20:10:58.331478Z",
     "shell.execute_reply": "2022-11-11T20:10:58.332142Z"
    },
    "papermill": {
     "duration": 0.048999,
     "end_time": "2022-11-11T20:10:58.332259",
     "exception": false,
     "start_time": "2022-11-11T20:10:58.283260",
     "status": "completed"
    },
    "tags": []
   },
   "outputs": [
    {
     "name": "stdout",
     "output_type": "stream",
     "text": [
      "xavier\n",
      "xavier\n",
      "xavier\n",
      "xavier\n",
      "xavier\n"
     ]
    }
   ],
   "source": [
    "layers = [Affine(\"first\", 784, 100), Relu(\"first\"), Affine(\"second\", 100, 100), Relu(\"second\"), Affine(\"third\", 100, 2), Affine(\"last\", 2, 1), Sigmoid(\"last\")]\n",
    "model_nn = Model(layers)\n",
    "model_lr = Model([Affine(\"logits\", 784, 1), Sigmoid(\"sigmoid\")])"
   ]
  },
  {
   "cell_type": "code",
   "execution_count": 20,
   "id": "6eede77a",
   "metadata": {
    "execution": {
     "iopub.execute_input": "2022-11-11T20:10:58.391172Z",
     "iopub.status.busy": "2022-11-11T20:10:58.390626Z",
     "iopub.status.idle": "2022-11-11T20:10:58.401583Z",
     "shell.execute_reply": "2022-11-11T20:10:58.402020Z"
    },
    "papermill": {
     "duration": 0.042196,
     "end_time": "2022-11-11T20:10:58.402131",
     "exception": false,
     "start_time": "2022-11-11T20:10:58.359935",
     "status": "completed"
    },
    "tags": []
   },
   "outputs": [],
   "source": [
    "nn_learner = Learner(loss, model_nn, opt, config.num_epochs)\n",
    "acc_nn = ClfCallback(nn_learner, config.bs, training_data_x , testing_data_x, training_data_y, testing_data_y)\n",
    "nn_learner.set_callbacks([acc_nn])"
   ]
  },
  {
   "cell_type": "code",
   "execution_count": 21,
   "id": "877b6cc7",
   "metadata": {
    "execution": {
     "iopub.execute_input": "2022-11-11T20:10:58.463381Z",
     "iopub.status.busy": "2022-11-11T20:10:58.461981Z",
     "iopub.status.idle": "2022-11-11T20:10:58.472994Z",
     "shell.execute_reply": "2022-11-11T20:10:58.472554Z"
    },
    "papermill": {
     "duration": 0.043166,
     "end_time": "2022-11-11T20:10:58.473090",
     "exception": false,
     "start_time": "2022-11-11T20:10:58.429924",
     "status": "completed"
    },
    "tags": []
   },
   "outputs": [],
   "source": [
    "lr_learner = Learner(loss, model_lr, opt, config.num_epochs)\n",
    "acc_lr = ClfCallback(lr_learner, config.bs, training_data_x , testing_data_x, training_data_y, testing_data_y)\n",
    "lr_learner.set_callbacks([acc_lr])"
   ]
  },
  {
   "cell_type": "code",
   "execution_count": 22,
   "id": "d9b133c3",
   "metadata": {
    "execution": {
     "iopub.execute_input": "2022-11-11T20:10:58.534854Z",
     "iopub.status.busy": "2022-11-11T20:10:58.532389Z",
     "iopub.status.idle": "2022-11-11T20:13:53.731845Z",
     "shell.execute_reply": "2022-11-11T20:13:53.732296Z"
    },
    "papermill": {
     "duration": 175.231679,
     "end_time": "2022-11-11T20:13:53.732419",
     "exception": false,
     "start_time": "2022-11-11T20:10:58.500740",
     "status": "completed"
    },
    "tags": []
   },
   "outputs": [
    {
     "name": "stdout",
     "output_type": "stream",
     "text": [
      "Epoch 0, Loss 0.2268\n",
      "Training Accuracy: 0.7377, Testing Accuracy: 0.7369\n",
      "\n"
     ]
    },
    {
     "name": "stdout",
     "output_type": "stream",
     "text": [
      "Epoch 10, Loss 0.0815\n",
      "Training Accuracy: 0.9178, Testing Accuracy: 0.9269\n",
      "\n"
     ]
    },
    {
     "name": "stdout",
     "output_type": "stream",
     "text": [
      "Epoch 20, Loss 0.0523\n",
      "Training Accuracy: 0.9457, Testing Accuracy: 0.9541\n",
      "\n"
     ]
    },
    {
     "name": "stdout",
     "output_type": "stream",
     "text": [
      "Epoch 30, Loss 0.0418\n",
      "Training Accuracy: 0.9547, Testing Accuracy: 0.9622\n",
      "\n"
     ]
    },
    {
     "name": "stdout",
     "output_type": "stream",
     "text": [
      "Epoch 40, Loss 0.0365\n",
      "Training Accuracy: 0.9594, Testing Accuracy: 0.9647\n",
      "\n"
     ]
    },
    {
     "name": "stdout",
     "output_type": "stream",
     "text": [
      "Epoch 50, Loss 0.0332\n",
      "Training Accuracy: 0.9627, Testing Accuracy: 0.9672\n",
      "\n"
     ]
    },
    {
     "name": "stdout",
     "output_type": "stream",
     "text": [
      "Epoch 60, Loss 0.0309\n",
      "Training Accuracy: 0.9649, Testing Accuracy: 0.9688\n",
      "\n"
     ]
    },
    {
     "name": "stdout",
     "output_type": "stream",
     "text": [
      "Epoch 70, Loss 0.0292\n",
      "Training Accuracy: 0.9674, Testing Accuracy: 0.9698\n",
      "\n"
     ]
    },
    {
     "name": "stdout",
     "output_type": "stream",
     "text": [
      "Epoch 80, Loss 0.0278\n",
      "Training Accuracy: 0.9686, Testing Accuracy: 0.9703\n",
      "\n"
     ]
    },
    {
     "name": "stdout",
     "output_type": "stream",
     "text": [
      "Epoch 90, Loss 0.0266\n",
      "Training Accuracy: 0.9699, Testing Accuracy: 0.9693\n",
      "\n"
     ]
    },
    {
     "name": "stdout",
     "output_type": "stream",
     "text": [
      "Epoch 100, Loss 0.0256\n",
      "Training Accuracy: 0.9708, Testing Accuracy: 0.9688\n",
      "\n"
     ]
    },
    {
     "name": "stdout",
     "output_type": "stream",
     "text": [
      "Epoch 110, Loss 0.0247\n",
      "Training Accuracy: 0.9715, Testing Accuracy: 0.9708\n",
      "\n"
     ]
    },
    {
     "name": "stdout",
     "output_type": "stream",
     "text": [
      "Epoch 120, Loss 0.0239\n",
      "Training Accuracy: 0.9724, Testing Accuracy: 0.9708\n",
      "\n"
     ]
    },
    {
     "name": "stdout",
     "output_type": "stream",
     "text": [
      "Epoch 130, Loss 0.0232\n",
      "Training Accuracy: 0.9734, Testing Accuracy: 0.9708\n",
      "\n"
     ]
    },
    {
     "name": "stdout",
     "output_type": "stream",
     "text": [
      "Epoch 140, Loss 0.0226\n",
      "Training Accuracy: 0.9742, Testing Accuracy: 0.9708\n",
      "\n"
     ]
    },
    {
     "name": "stdout",
     "output_type": "stream",
     "text": [
      "Epoch 150, Loss 0.022\n",
      "Training Accuracy: 0.9747, Testing Accuracy: 0.9718\n",
      "\n"
     ]
    },
    {
     "name": "stdout",
     "output_type": "stream",
     "text": [
      "Epoch 160, Loss 0.0214\n",
      "Training Accuracy: 0.9753, Testing Accuracy: 0.9718\n",
      "\n"
     ]
    },
    {
     "name": "stdout",
     "output_type": "stream",
     "text": [
      "Epoch 170, Loss 0.0209\n",
      "Training Accuracy: 0.9760, Testing Accuracy: 0.9728\n",
      "\n"
     ]
    },
    {
     "name": "stdout",
     "output_type": "stream",
     "text": [
      "Epoch 180, Loss 0.0204\n",
      "Training Accuracy: 0.9766, Testing Accuracy: 0.9733\n",
      "\n"
     ]
    },
    {
     "name": "stdout",
     "output_type": "stream",
     "text": [
      "Epoch 190, Loss 0.0199\n",
      "Training Accuracy: 0.9775, Testing Accuracy: 0.9743\n",
      "\n"
     ]
    },
    {
     "name": "stdout",
     "output_type": "stream",
     "text": [
      "Epoch 200, Loss 0.0194\n",
      "Training Accuracy: 0.9778, Testing Accuracy: 0.9753\n",
      "\n"
     ]
    },
    {
     "name": "stdout",
     "output_type": "stream",
     "text": [
      "Epoch 210, Loss 0.019\n",
      "Training Accuracy: 0.9783, Testing Accuracy: 0.9753\n",
      "\n"
     ]
    },
    {
     "name": "stdout",
     "output_type": "stream",
     "text": [
      "Epoch 220, Loss 0.0186\n",
      "Training Accuracy: 0.9789, Testing Accuracy: 0.9758\n",
      "\n"
     ]
    },
    {
     "name": "stdout",
     "output_type": "stream",
     "text": [
      "Epoch 230, Loss 0.0181\n",
      "Training Accuracy: 0.9796, Testing Accuracy: 0.9763\n",
      "\n"
     ]
    },
    {
     "name": "stdout",
     "output_type": "stream",
     "text": [
      "Epoch 240, Loss 0.0178\n",
      "Training Accuracy: 0.9805, Testing Accuracy: 0.9758\n",
      "\n"
     ]
    },
    {
     "data": {
      "text/plain": [
       "0.02311522554068265"
      ]
     },
     "execution_count": 22,
     "metadata": {},
     "output_type": "execute_result"
    }
   ],
   "source": [
    "nn_learner.train_loop(dl)"
   ]
  },
  {
   "cell_type": "code",
   "execution_count": 23,
   "id": "e0163366",
   "metadata": {
    "execution": {
     "iopub.execute_input": "2022-11-11T20:13:53.808618Z",
     "iopub.status.busy": "2022-11-11T20:13:53.806257Z",
     "iopub.status.idle": "2022-11-11T20:14:05.848829Z",
     "shell.execute_reply": "2022-11-11T20:14:05.849650Z"
    },
    "papermill": {
     "duration": 12.082395,
     "end_time": "2022-11-11T20:14:05.849786",
     "exception": false,
     "start_time": "2022-11-11T20:13:53.767391",
     "status": "completed"
    },
    "tags": []
   },
   "outputs": [
    {
     "name": "stdout",
     "output_type": "stream",
     "text": [
      "Epoch 0, Loss 0.2265\n",
      "Training Accuracy: 0.7301, Testing Accuracy: 0.7606\n",
      "\n"
     ]
    },
    {
     "name": "stdout",
     "output_type": "stream",
     "text": [
      "Epoch 10, Loss 0.1015\n",
      "Training Accuracy: 0.9082, Testing Accuracy: 0.9163\n",
      "\n"
     ]
    },
    {
     "name": "stdout",
     "output_type": "stream",
     "text": [
      "Epoch 20, Loss 0.0787\n",
      "Training Accuracy: 0.9260, Testing Accuracy: 0.9380\n",
      "\n"
     ]
    },
    {
     "name": "stdout",
     "output_type": "stream",
     "text": [
      "Epoch 30, Loss 0.0679\n",
      "Training Accuracy: 0.9353, Testing Accuracy: 0.9466\n",
      "\n"
     ]
    },
    {
     "name": "stdout",
     "output_type": "stream",
     "text": [
      "Epoch 40, Loss 0.0614\n",
      "Training Accuracy: 0.9412, Testing Accuracy: 0.9516\n",
      "\n"
     ]
    },
    {
     "name": "stdout",
     "output_type": "stream",
     "text": [
      "Epoch 50, Loss 0.057\n",
      "Training Accuracy: 0.9453, Testing Accuracy: 0.9536\n",
      "\n"
     ]
    },
    {
     "name": "stdout",
     "output_type": "stream",
     "text": [
      "Epoch 60, Loss 0.0537\n",
      "Training Accuracy: 0.9479, Testing Accuracy: 0.9551\n",
      "\n"
     ]
    },
    {
     "name": "stdout",
     "output_type": "stream",
     "text": [
      "Epoch 70, Loss 0.0512\n",
      "Training Accuracy: 0.9498, Testing Accuracy: 0.9582\n",
      "\n"
     ]
    },
    {
     "name": "stdout",
     "output_type": "stream",
     "text": [
      "Epoch 80, Loss 0.0491\n",
      "Training Accuracy: 0.9515, Testing Accuracy: 0.9612\n",
      "\n"
     ]
    },
    {
     "name": "stdout",
     "output_type": "stream",
     "text": [
      "Epoch 90, Loss 0.0475\n",
      "Training Accuracy: 0.9525, Testing Accuracy: 0.9632\n",
      "\n"
     ]
    },
    {
     "name": "stdout",
     "output_type": "stream",
     "text": [
      "Epoch 100, Loss 0.0461\n",
      "Training Accuracy: 0.9536, Testing Accuracy: 0.9632\n",
      "\n"
     ]
    },
    {
     "name": "stdout",
     "output_type": "stream",
     "text": [
      "Epoch 110, Loss 0.0448\n",
      "Training Accuracy: 0.9545, Testing Accuracy: 0.9637\n",
      "\n"
     ]
    },
    {
     "name": "stdout",
     "output_type": "stream",
     "text": [
      "Epoch 120, Loss 0.0438\n",
      "Training Accuracy: 0.9550, Testing Accuracy: 0.9647\n",
      "\n"
     ]
    },
    {
     "name": "stdout",
     "output_type": "stream",
     "text": [
      "Epoch 130, Loss 0.0429\n",
      "Training Accuracy: 0.9560, Testing Accuracy: 0.9652\n",
      "\n"
     ]
    },
    {
     "name": "stdout",
     "output_type": "stream",
     "text": [
      "Epoch 140, Loss 0.042\n",
      "Training Accuracy: 0.9562, Testing Accuracy: 0.9647\n",
      "\n"
     ]
    },
    {
     "name": "stdout",
     "output_type": "stream",
     "text": [
      "Epoch 150, Loss 0.0413\n",
      "Training Accuracy: 0.9569, Testing Accuracy: 0.9647\n",
      "\n"
     ]
    },
    {
     "name": "stdout",
     "output_type": "stream",
     "text": [
      "Epoch 160, Loss 0.0406\n",
      "Training Accuracy: 0.9577, Testing Accuracy: 0.9657\n",
      "\n"
     ]
    },
    {
     "name": "stdout",
     "output_type": "stream",
     "text": [
      "Epoch 170, Loss 0.04\n",
      "Training Accuracy: 0.9581, Testing Accuracy: 0.9657\n",
      "\n"
     ]
    },
    {
     "name": "stdout",
     "output_type": "stream",
     "text": [
      "Epoch 180, Loss 0.0395\n",
      "Training Accuracy: 0.9584, Testing Accuracy: 0.9657\n",
      "\n"
     ]
    },
    {
     "name": "stdout",
     "output_type": "stream",
     "text": [
      "Epoch 190, Loss 0.0389\n",
      "Training Accuracy: 0.9584, Testing Accuracy: 0.9657\n",
      "\n"
     ]
    },
    {
     "name": "stdout",
     "output_type": "stream",
     "text": [
      "Epoch 200, Loss 0.0385\n",
      "Training Accuracy: 0.9593, Testing Accuracy: 0.9657\n",
      "\n"
     ]
    },
    {
     "name": "stdout",
     "output_type": "stream",
     "text": [
      "Epoch 210, Loss 0.038\n",
      "Training Accuracy: 0.9598, Testing Accuracy: 0.9662\n",
      "\n"
     ]
    },
    {
     "name": "stdout",
     "output_type": "stream",
     "text": [
      "Epoch 220, Loss 0.0376\n",
      "Training Accuracy: 0.9599, Testing Accuracy: 0.9657\n",
      "\n"
     ]
    },
    {
     "name": "stdout",
     "output_type": "stream",
     "text": [
      "Epoch 230, Loss 0.0372\n",
      "Training Accuracy: 0.9602, Testing Accuracy: 0.9662\n",
      "\n"
     ]
    },
    {
     "name": "stdout",
     "output_type": "stream",
     "text": [
      "Epoch 240, Loss 0.0369\n",
      "Training Accuracy: 0.9608, Testing Accuracy: 0.9662\n",
      "\n"
     ]
    },
    {
     "data": {
      "text/plain": [
       "0.01274157972716535"
      ]
     },
     "execution_count": 23,
     "metadata": {},
     "output_type": "execute_result"
    }
   ],
   "source": [
    "lr_learner.train_loop(dl)"
   ]
  },
  {
   "cell_type": "code",
   "execution_count": 24,
   "id": "ca410940",
   "metadata": {
    "execution": {
     "iopub.execute_input": "2022-11-11T20:14:05.943135Z",
     "iopub.status.busy": "2022-11-11T20:14:05.942564Z",
     "iopub.status.idle": "2022-11-11T20:14:06.159763Z",
     "shell.execute_reply": "2022-11-11T20:14:06.159309Z"
    },
    "papermill": {
     "duration": 0.267572,
     "end_time": "2022-11-11T20:14:06.159873",
     "exception": false,
     "start_time": "2022-11-11T20:14:05.892301",
     "status": "completed"
    },
    "tags": []
   },
   "outputs": [
    {
     "data": {
      "text/plain": [
       "<matplotlib.legend.Legend at 0x7f7f216a9438>"
      ]
     },
     "execution_count": 24,
     "metadata": {},
     "output_type": "execute_result"
    },
    {
     "data": {
      "image/png": "[encoded data removed]",
      "text/plain": [
       "<Figure size 1080x720 with 1 Axes>"
      ]
     },
     "metadata": {
      "needs_background": "light"
     },
     "output_type": "display_data"
    }
   ],
   "source": [
    "#comparing the results of NN and LR\n",
    "plt.figure(figsize=(15,10))\n",
    "\n",
    "# Neural Network plots\n",
    "plt.plot(acc_nn.accuracies, 'r-', label = \"Training Accuracies - NN\")\n",
    "plt.plot(acc_nn.test_accuracies, 'g-', label = \"Testing Accuracies - NN\")\n",
    "\n",
    "# Logistic Regression plots\n",
    "plt.plot(acc_lr.accuracies, 'k-', label = \"Training Accuracies - LR\")\n",
    "plt.plot(acc_lr.test_accuracies, 'b-', label = \"Testing Accuracies - LR\")\n",
    "plt.legend()"
   ]
  },
  {
   "cell_type": "markdown",
   "id": "80dfb35c",
   "metadata": {
    "papermill": {
     "duration": 0.04316,
     "end_time": "2022-11-11T20:14:06.246167",
     "exception": false,
     "start_time": "2022-11-11T20:14:06.203007",
     "status": "completed"
    },
    "tags": []
   },
   "source": [
    "#### Plotting the outputs of this layer of the NN.\n"
   ]
  },
  {
   "cell_type": "code",
   "execution_count": 25,
   "id": "45eb2ff5",
   "metadata": {
    "execution": {
     "iopub.execute_input": "2022-11-11T20:14:06.338381Z",
     "iopub.status.busy": "2022-11-11T20:14:06.336876Z",
     "iopub.status.idle": "2022-11-11T20:14:06.372342Z",
     "shell.execute_reply": "2022-11-11T20:14:06.371897Z"
    },
    "papermill": {
     "duration": 0.083184,
     "end_time": "2022-11-11T20:14:06.372451",
     "exception": false,
     "start_time": "2022-11-11T20:14:06.289267",
     "status": "completed"
    },
    "tags": []
   },
   "outputs": [],
   "source": [
    "new_model = Model(layers[:-2])\n",
    "testing_plot = new_model(testing_data_x)"
   ]
  },
  {
   "cell_type": "code",
   "execution_count": 26,
   "id": "4c0a5485",
   "metadata": {
    "execution": {
     "iopub.execute_input": "2022-11-11T20:14:06.464699Z",
     "iopub.status.busy": "2022-11-11T20:14:06.464112Z",
     "iopub.status.idle": "2022-11-11T20:14:06.688064Z",
     "shell.execute_reply": "2022-11-11T20:14:06.688488Z"
    },
    "papermill": {
     "duration": 0.272561,
     "end_time": "2022-11-11T20:14:06.688614",
     "exception": false,
     "start_time": "2022-11-11T20:14:06.416053",
     "status": "completed"
    },
    "tags": []
   },
   "outputs": [
    {
     "data": {
      "text/plain": [
       "Text(0.5, 1.0, 'Outputs')"
      ]
     },
     "execution_count": 26,
     "metadata": {},
     "output_type": "execute_result"
    },
    {
     "data": {
      "image/png": "[encoded data removed]",
      "text/plain": [
       "<Figure size 576x504 with 1 Axes>"
      ]
     },
     "metadata": {
      "needs_background": "light"
     },
     "output_type": "display_data"
    }
   ],
   "source": [
    "# Plotting the scatter plot of points and color coding by class\n",
    "plt.figure(figsize=(8,7))\n",
    "plt.scatter(testing_plot[:,0], testing_plot[:,1], alpha = 0.1, c = y_test.ravel());\n",
    "plt.title('Outputs')"
   ]
  },
  {
   "cell_type": "markdown",
   "id": "a74fcf8f",
   "metadata": {
    "papermill": {
     "duration": 0.046216,
     "end_time": "2022-11-11T20:14:06.802225",
     "exception": false,
     "start_time": "2022-11-11T20:14:06.756009",
     "status": "completed"
    },
    "tags": []
   },
   "source": [
    "Probability contours"
   ]
  },
  {
   "cell_type": "code",
   "execution_count": 27,
   "id": "d0afc8e3",
   "metadata": {
    "execution": {
     "iopub.execute_input": "2022-11-11T20:14:06.902543Z",
     "iopub.status.busy": "2022-11-11T20:14:06.897818Z",
     "iopub.status.idle": "2022-11-11T20:14:06.909119Z",
     "shell.execute_reply": "2022-11-11T20:14:06.909522Z"
    },
    "papermill": {
     "duration": 0.061393,
     "end_time": "2022-11-11T20:14:06.909660",
     "exception": false,
     "start_time": "2022-11-11T20:14:06.848267",
     "status": "completed"
    },
    "tags": []
   },
   "outputs": [],
   "source": [
    "model_prob = Model(layers[-2:]) "
   ]
  },
  {
   "cell_type": "code",
   "execution_count": 28,
   "id": "9b96e238",
   "metadata": {
    "execution": {
     "iopub.execute_input": "2022-11-11T20:14:07.005929Z",
     "iopub.status.busy": "2022-11-11T20:14:07.005358Z",
     "iopub.status.idle": "2022-11-11T20:14:07.018315Z",
     "shell.execute_reply": "2022-11-11T20:14:07.018744Z"
    },
    "papermill": {
     "duration": 0.06322,
     "end_time": "2022-11-11T20:14:07.018866",
     "exception": false,
     "start_time": "2022-11-11T20:14:06.955646",
     "status": "completed"
    },
    "tags": []
   },
   "outputs": [],
   "source": [
    "#creating the x and y ranges according to the above generated plot.\n",
    "x_range = np.linspace(-4, 1, 100) \n",
    "y_range = np.linspace(-6, 6, 100) \n",
    "x_grid, y_grid = np.meshgrid(x_range, y_range) # x_grid and y_grig are of size 100 X 100\n",
    "\n",
    "# converting x_grid and y_grid to continuous arrays\n",
    "x_gridflat = np.ravel(x_grid)\n",
    "y_gridflat = np.ravel(y_grid)\n",
    "\n",
    "# The last layer of the current model takes two columns as input. Hence transpose of np.vstack() is required.\n",
    "X = np.vstack((x_gridflat, y_gridflat)).T\n",
    "\n",
    "prob_contour = model_prob(X).reshape(100,100) "
   ]
  },
  {
   "cell_type": "code",
   "execution_count": 29,
   "id": "da72499a",
   "metadata": {
    "execution": {
     "iopub.execute_input": "2022-11-11T20:14:07.115749Z",
     "iopub.status.busy": "2022-11-11T20:14:07.115196Z",
     "iopub.status.idle": "2022-11-11T20:14:07.355751Z",
     "shell.execute_reply": "2022-11-11T20:14:07.356478Z"
    },
    "papermill": {
     "duration": 0.291271,
     "end_time": "2022-11-11T20:14:07.356612",
     "exception": false,
     "start_time": "2022-11-11T20:14:07.065341",
     "status": "completed"
    },
    "tags": []
   },
   "outputs": [
    {
     "data": {
      "image/png": "[encoded data removed]",
      "text/plain": [
       "<Figure size 720x648 with 1 Axes>"
      ]
     },
     "metadata": {
      "needs_background": "light"
     },
     "output_type": "display_data"
    }
   ],
   "source": [
    "plt.figure(figsize=(10,9))\n",
    "plt.scatter(testing_plot[:,0], testing_plot[:,1], alpha = 0.1, c = y_test.ravel())\n",
    "contours = plt.contour(x_grid,y_grid,prob_contour)\n",
    "plt.title('Probability Contours')\n",
    "plt.clabel(contours, inline = True );"
   ]
  },
  {
   "cell_type": "code",
   "execution_count": null,
   "id": "e81b4ac7",
   "metadata": {
    "papermill": {
     "duration": 0.048461,
     "end_time": "2022-11-11T20:14:07.454238",
     "exception": false,
     "start_time": "2022-11-11T20:14:07.405777",
     "status": "completed"
    },
    "tags": []
   },
   "outputs": [],
   "source": []
  }
 ],
 "metadata": {
  "kernelspec": {
   "display_name": "Python 3",
   "language": "python",
   "name": "python3"
  },
  "language_info": {
   "codemirror_mode": {
    "name": "ipython",
    "version": 3
   },
   "file_extension": ".py",
   "mimetype": "text/x-python",
   "name": "python",
   "nbconvert_exporter": "python",
   "pygments_lexer": "ipython3",
   "version": "3.6.15"
  },
  "papermill": {
   "default_parameters": {},
   "duration": 195.535374,
   "end_time": "2022-11-11T20:14:07.819946",
   "environment_variables": {},
   "exception": null,
   "input_path": "2020-08-11-part2.ipynb",
   "output_path": "2020-08-11-part2.ipynb",
   "parameters": {},
   "start_time": "2022-11-11T20:10:52.284572",
   "version": "2.3.3"
  }
 },
 "nbformat": 4,
 "nbformat_minor": 5
}