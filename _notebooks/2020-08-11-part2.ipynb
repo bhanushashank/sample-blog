{
 "cells": [
  {
   "cell_type": "markdown",
   "id": "98380cd3",
   "metadata": {
    "papermill": {
     "duration": 0.029817,
     "end_time": "2021-11-14T20:07:57.261319",
     "exception": false,
     "start_time": "2021-11-14T20:07:57.231502",
     "status": "completed"
    },
    "tags": []
   },
   "source": [
    "# Distinguish Your Own Digits (DYOD)"
   ]
  },
  {
   "cell_type": "markdown",
   "id": "ef31240d",
   "metadata": {
    "papermill": {
     "duration": 0.028276,
     "end_time": "2021-11-14T20:07:57.315430",
     "exception": false,
     "start_time": "2021-11-14T20:07:57.287154",
     "status": "completed"
    },
    "tags": []
   },
   "source": [
    "You are going to write a classifier that distinguishes between the number 3 and number 8."
   ]
  },
  {
   "cell_type": "code",
   "execution_count": 1,
   "id": "b15c8646",
   "metadata": {
    "execution": {
     "iopub.execute_input": "2021-11-14T20:07:57.381580Z",
     "iopub.status.busy": "2021-11-14T20:07:57.381036Z",
     "iopub.status.idle": "2021-11-14T20:07:57.390948Z",
     "shell.execute_reply": "2021-11-14T20:07:57.391408Z"
    },
    "papermill": {
     "duration": 0.050551,
     "end_time": "2021-11-14T20:07:57.391546",
     "exception": false,
     "start_time": "2021-11-14T20:07:57.340995",
     "status": "completed"
    },
    "tags": []
   },
   "outputs": [],
   "source": [
    "%load_ext autoreload\n",
    "%autoreload 2"
   ]
  },
  {
   "cell_type": "code",
   "execution_count": 2,
   "id": "22ef38dc",
   "metadata": {
    "execution": {
     "iopub.execute_input": "2021-11-14T20:07:57.452920Z",
     "iopub.status.busy": "2021-11-14T20:07:57.452379Z",
     "iopub.status.idle": "2021-11-14T20:07:58.014255Z",
     "shell.execute_reply": "2021-11-14T20:07:58.013706Z"
    },
    "papermill": {
     "duration": 0.597707,
     "end_time": "2021-11-14T20:07:58.014553",
     "exception": false,
     "start_time": "2021-11-14T20:07:57.416846",
     "status": "completed"
    },
    "tags": []
   },
   "outputs": [],
   "source": [
    "%matplotlib inline\n",
    "import numpy as np\n",
    "import matplotlib.pyplot as plt\n",
    "import pandas as pd"
   ]
  },
  {
   "cell_type": "markdown",
   "id": "ba036198",
   "metadata": {
    "papermill": {
     "duration": 0.037257,
     "end_time": "2021-11-14T20:07:58.081173",
     "exception": false,
     "start_time": "2021-11-14T20:07:58.043916",
     "status": "completed"
    },
    "tags": []
   },
   "source": [
    "From the command line run `pip install mnist`. This is a library that will help you bring down the mnist dataset. If you run this from a notebook, you need to put  `!pip install mnist` in a cell by itself."
   ]
  },
  {
   "cell_type": "code",
   "execution_count": 3,
   "id": "bb6ad8a1",
   "metadata": {
    "execution": {
     "iopub.execute_input": "2021-11-14T20:07:58.149239Z",
     "iopub.status.busy": "2021-11-14T20:07:58.148604Z",
     "iopub.status.idle": "2021-11-14T20:08:00.273542Z",
     "shell.execute_reply": "2021-11-14T20:08:00.272443Z"
    },
    "papermill": {
     "duration": 2.160011,
     "end_time": "2021-11-14T20:08:00.273706",
     "exception": false,
     "start_time": "2021-11-14T20:07:58.113695",
     "status": "completed"
    },
    "tags": []
   },
   "outputs": [
    {
     "name": "stdout",
     "output_type": "stream",
     "text": [
      "Collecting mnist\r\n"
     ]
    },
    {
     "name": "stdout",
     "output_type": "stream",
     "text": [
      "  Downloading mnist-0.2.2-py2.py3-none-any.whl (3.5 kB)\r\n",
      "Requirement already satisfied: numpy in /opt/hostedtoolcache/Python/3.6.15/x64/lib/python3.6/site-packages (from mnist) (1.19.5)\r\n"
     ]
    },
    {
     "name": "stdout",
     "output_type": "stream",
     "text": [
      "Installing collected packages: mnist\r\n"
     ]
    },
    {
     "name": "stdout",
     "output_type": "stream",
     "text": [
      "Successfully installed mnist-0.2.2\r\n"
     ]
    }
   ],
   "source": [
    "!pip install mnist"
   ]
  },
  {
   "cell_type": "markdown",
   "id": "69df9c9a",
   "metadata": {
    "papermill": {
     "duration": 0.033289,
     "end_time": "2021-11-14T20:08:00.340396",
     "exception": false,
     "start_time": "2021-11-14T20:08:00.307107",
     "status": "completed"
    },
    "tags": []
   },
   "source": [
    "## Preparing the Data"
   ]
  },
  {
   "cell_type": "code",
   "execution_count": 4,
   "id": "7f69d806",
   "metadata": {
    "execution": {
     "iopub.execute_input": "2021-11-14T20:08:00.415624Z",
     "iopub.status.busy": "2021-11-14T20:08:00.412562Z",
     "iopub.status.idle": "2021-11-14T20:08:00.429993Z",
     "shell.execute_reply": "2021-11-14T20:08:00.429368Z"
    },
    "papermill": {
     "duration": 0.056797,
     "end_time": "2021-11-14T20:08:00.430188",
     "exception": false,
     "start_time": "2021-11-14T20:08:00.373391",
     "status": "completed"
    },
    "tags": []
   },
   "outputs": [],
   "source": [
    "import mnist"
   ]
  },
  {
   "cell_type": "code",
   "execution_count": 5,
   "id": "a411e44f",
   "metadata": {
    "execution": {
     "iopub.execute_input": "2021-11-14T20:08:00.508176Z",
     "iopub.status.busy": "2021-11-14T20:08:00.502273Z",
     "iopub.status.idle": "2021-11-14T20:08:01.350255Z",
     "shell.execute_reply": "2021-11-14T20:08:01.350808Z"
    },
    "papermill": {
     "duration": 0.887259,
     "end_time": "2021-11-14T20:08:01.350993",
     "exception": false,
     "start_time": "2021-11-14T20:08:00.463734",
     "status": "completed"
    },
    "tags": []
   },
   "outputs": [],
   "source": [
    "train_images = mnist.train_images()\n",
    "train_labels = mnist.train_labels()"
   ]
  },
  {
   "cell_type": "code",
   "execution_count": 6,
   "id": "dceab3a5",
   "metadata": {
    "execution": {
     "iopub.execute_input": "2021-11-14T20:08:01.432913Z",
     "iopub.status.busy": "2021-11-14T20:08:01.432207Z",
     "iopub.status.idle": "2021-11-14T20:08:01.449449Z",
     "shell.execute_reply": "2021-11-14T20:08:01.448877Z"
    },
    "papermill": {
     "duration": 0.058824,
     "end_time": "2021-11-14T20:08:01.449598",
     "exception": false,
     "start_time": "2021-11-14T20:08:01.390774",
     "status": "completed"
    },
    "tags": []
   },
   "outputs": [
    {
     "data": {
      "text/plain": [
       "((60000, 28, 28), (60000,))"
      ]
     },
     "execution_count": 6,
     "metadata": {},
     "output_type": "execute_result"
    }
   ],
   "source": [
    "train_images.shape, train_labels.shape"
   ]
  },
  {
   "cell_type": "code",
   "execution_count": 7,
   "id": "f50dc2bb",
   "metadata": {
    "execution": {
     "iopub.execute_input": "2021-11-14T20:08:01.531091Z",
     "iopub.status.busy": "2021-11-14T20:08:01.530166Z",
     "iopub.status.idle": "2021-11-14T20:08:01.873562Z",
     "shell.execute_reply": "2021-11-14T20:08:01.874230Z"
    },
    "papermill": {
     "duration": 0.389791,
     "end_time": "2021-11-14T20:08:01.874541",
     "exception": false,
     "start_time": "2021-11-14T20:08:01.484750",
     "status": "completed"
    },
    "tags": []
   },
   "outputs": [],
   "source": [
    "test_images = mnist.test_images()\n",
    "test_labels = mnist.test_labels()"
   ]
  },
  {
   "cell_type": "code",
   "execution_count": 8,
   "id": "fc38cf1b",
   "metadata": {
    "execution": {
     "iopub.execute_input": "2021-11-14T20:08:01.954846Z",
     "iopub.status.busy": "2021-11-14T20:08:01.954114Z",
     "iopub.status.idle": "2021-11-14T20:08:01.979906Z",
     "shell.execute_reply": "2021-11-14T20:08:01.979088Z"
    },
    "papermill": {
     "duration": 0.067072,
     "end_time": "2021-11-14T20:08:01.980056",
     "exception": false,
     "start_time": "2021-11-14T20:08:01.912984",
     "status": "completed"
    },
    "tags": []
   },
   "outputs": [
    {
     "data": {
      "text/plain": [
       "((10000, 28, 28), (10000,))"
      ]
     },
     "execution_count": 8,
     "metadata": {},
     "output_type": "execute_result"
    }
   ],
   "source": [
    "test_images.shape, test_labels.shape"
   ]
  },
  {
   "cell_type": "code",
   "execution_count": 9,
   "id": "f9ed8fe0",
   "metadata": {
    "execution": {
     "iopub.execute_input": "2021-11-14T20:08:02.063481Z",
     "iopub.status.busy": "2021-11-14T20:08:02.061923Z",
     "iopub.status.idle": "2021-11-14T20:08:02.284152Z",
     "shell.execute_reply": "2021-11-14T20:08:02.283528Z"
    },
    "papermill": {
     "duration": 0.268187,
     "end_time": "2021-11-14T20:08:02.284303",
     "exception": false,
     "start_time": "2021-11-14T20:08:02.016116",
     "status": "completed"
    },
    "tags": []
   },
   "outputs": [
    {
     "name": "stdout",
     "output_type": "stream",
     "text": [
      "2\n"
     ]
    },
    {
     "data": {
      "text/plain": [
       "<matplotlib.image.AxesImage at 0x7fc719d4f0f0>"
      ]
     },
     "execution_count": 9,
     "metadata": {},
     "output_type": "execute_result"
    },
    {
     "data": {
      "image/png": "[encoded data removed]",
      "text/plain": [
       "<Figure size 432x288 with 1 Axes>"
      ]
     },
     "metadata": {
      "needs_background": "light"
     },
     "output_type": "display_data"
    }
   ],
   "source": [
    "image_index = 7776 # You may select anything up to 60,000\n",
    "print(train_labels[image_index]) \n",
    "plt.imshow(train_images[image_index], cmap='Greys')"
   ]
  },
  {
   "cell_type": "markdown",
   "id": "a8d2388d",
   "metadata": {
    "papermill": {
     "duration": 0.036848,
     "end_time": "2021-11-14T20:08:02.357523",
     "exception": false,
     "start_time": "2021-11-14T20:08:02.320675",
     "status": "completed"
    },
    "tags": []
   },
   "source": [
    "## Filter data to get 3 and 8 out"
   ]
  },
  {
   "cell_type": "code",
   "execution_count": 10,
   "id": "776f7fc7",
   "metadata": {
    "execution": {
     "iopub.execute_input": "2021-11-14T20:08:02.438713Z",
     "iopub.status.busy": "2021-11-14T20:08:02.437931Z",
     "iopub.status.idle": "2021-11-14T20:08:02.462267Z",
     "shell.execute_reply": "2021-11-14T20:08:02.461517Z"
    },
    "papermill": {
     "duration": 0.066084,
     "end_time": "2021-11-14T20:08:02.462446",
     "exception": false,
     "start_time": "2021-11-14T20:08:02.396362",
     "status": "completed"
    },
    "tags": []
   },
   "outputs": [],
   "source": [
    "train_filter = np.where((train_labels == 3 ) | (train_labels == 8))\n",
    "test_filter = np.where((test_labels == 3) | (test_labels == 8))\n",
    "X_train, y_train = train_images[train_filter], train_labels[train_filter]\n",
    "X_test, y_test = test_images[test_filter], test_labels[test_filter]"
   ]
  },
  {
   "cell_type": "markdown",
   "id": "948f0b7e",
   "metadata": {
    "papermill": {
     "duration": 0.040164,
     "end_time": "2021-11-14T20:08:02.539814",
     "exception": false,
     "start_time": "2021-11-14T20:08:02.499650",
     "status": "completed"
    },
    "tags": []
   },
   "source": [
    "We normalize the pizel values in the 0 to 1 range"
   ]
  },
  {
   "cell_type": "code",
   "execution_count": 11,
   "id": "ee4c2166",
   "metadata": {
    "execution": {
     "iopub.execute_input": "2021-11-14T20:08:02.625149Z",
     "iopub.status.busy": "2021-11-14T20:08:02.624455Z",
     "iopub.status.idle": "2021-11-14T20:08:02.690814Z",
     "shell.execute_reply": "2021-11-14T20:08:02.690190Z"
    },
    "papermill": {
     "duration": 0.11109,
     "end_time": "2021-11-14T20:08:02.690979",
     "exception": false,
     "start_time": "2021-11-14T20:08:02.579889",
     "status": "completed"
    },
    "tags": []
   },
   "outputs": [],
   "source": [
    "X_train = X_train/255.\n",
    "X_test = X_test/255."
   ]
  },
  {
   "cell_type": "markdown",
   "id": "ddcf4fab",
   "metadata": {
    "papermill": {
     "duration": 0.036286,
     "end_time": "2021-11-14T20:08:02.763592",
     "exception": false,
     "start_time": "2021-11-14T20:08:02.727306",
     "status": "completed"
    },
    "tags": []
   },
   "source": [
    "And setup the labels as 1 (when the digit is 3) and 0 (when the digit is 8)"
   ]
  },
  {
   "cell_type": "code",
   "execution_count": 12,
   "id": "7dc908f2",
   "metadata": {
    "execution": {
     "iopub.execute_input": "2021-11-14T20:08:02.843211Z",
     "iopub.status.busy": "2021-11-14T20:08:02.842501Z",
     "iopub.status.idle": "2021-11-14T20:08:02.857785Z",
     "shell.execute_reply": "2021-11-14T20:08:02.857081Z"
    },
    "papermill": {
     "duration": 0.057114,
     "end_time": "2021-11-14T20:08:02.857941",
     "exception": false,
     "start_time": "2021-11-14T20:08:02.800827",
     "status": "completed"
    },
    "tags": []
   },
   "outputs": [],
   "source": [
    "y_train = 1*(y_train==3)\n",
    "y_test = 1*(y_test==3)"
   ]
  },
  {
   "cell_type": "code",
   "execution_count": 13,
   "id": "01e4e969",
   "metadata": {
    "execution": {
     "iopub.execute_input": "2021-11-14T20:08:02.944308Z",
     "iopub.status.busy": "2021-11-14T20:08:02.941930Z",
     "iopub.status.idle": "2021-11-14T20:08:02.960392Z",
     "shell.execute_reply": "2021-11-14T20:08:02.961117Z"
    },
    "papermill": {
     "duration": 0.062191,
     "end_time": "2021-11-14T20:08:02.961291",
     "exception": false,
     "start_time": "2021-11-14T20:08:02.899100",
     "status": "completed"
    },
    "tags": []
   },
   "outputs": [
    {
     "data": {
      "text/plain": [
       "((11982, 28, 28), (1984, 28, 28))"
      ]
     },
     "execution_count": 13,
     "metadata": {},
     "output_type": "execute_result"
    }
   ],
   "source": [
    "X_train.shape, X_test.shape"
   ]
  },
  {
   "cell_type": "markdown",
   "id": "5ccf3f85",
   "metadata": {
    "papermill": {
     "duration": 0.039336,
     "end_time": "2021-11-14T20:08:03.042057",
     "exception": false,
     "start_time": "2021-11-14T20:08:03.002721",
     "status": "completed"
    },
    "tags": []
   },
   "source": [
    "We reshape the data to flatten the image pixels into a set of features or co-variates:"
   ]
  },
  {
   "cell_type": "code",
   "execution_count": 14,
   "id": "5286a4a3",
   "metadata": {
    "execution": {
     "iopub.execute_input": "2021-11-14T20:08:03.122865Z",
     "iopub.status.busy": "2021-11-14T20:08:03.122079Z",
     "iopub.status.idle": "2021-11-14T20:08:03.145497Z",
     "shell.execute_reply": "2021-11-14T20:08:03.146431Z"
    },
    "papermill": {
     "duration": 0.065885,
     "end_time": "2021-11-14T20:08:03.146609",
     "exception": false,
     "start_time": "2021-11-14T20:08:03.080724",
     "status": "completed"
    },
    "tags": []
   },
   "outputs": [
    {
     "data": {
      "text/plain": [
       "((11982, 784), (1984, 784))"
      ]
     },
     "execution_count": 14,
     "metadata": {},
     "output_type": "execute_result"
    }
   ],
   "source": [
    "X_train = X_train.reshape(X_train.shape[0], -1)\n",
    "X_test = X_test.reshape(X_test.shape[0], -1)\n",
    "X_train.shape, X_test.shape"
   ]
  },
  {
   "cell_type": "code",
   "execution_count": 15,
   "id": "73c5f88a",
   "metadata": {
    "execution": {
     "iopub.execute_input": "2021-11-14T20:08:03.240243Z",
     "iopub.status.busy": "2021-11-14T20:08:03.239238Z",
     "iopub.status.idle": "2021-11-14T20:08:03.265339Z",
     "shell.execute_reply": "2021-11-14T20:08:03.264673Z"
    },
    "papermill": {
     "duration": 0.075434,
     "end_time": "2021-11-14T20:08:03.265498",
     "exception": false,
     "start_time": "2021-11-14T20:08:03.190064",
     "status": "completed"
    },
    "tags": []
   },
   "outputs": [],
   "source": [
    "#Impoting functions from 'Kudzu'\n",
    "from kudzu.model import Model\n",
    "from kudzu.train import Learner\n",
    "from kudzu.optim import GD\n",
    "from kudzu.data import Data, Sampler,Dataloader\n",
    "\n",
    "from kudzu.callbacks import AccCallback\n",
    "from kudzu.callbacks import ClfCallback\n",
    "\n",
    "from kudzu.loss import MSE\n",
    "\n",
    "from kudzu.layer import Sigmoid,Relu\n",
    "from kudzu.layer import Affine"
   ]
  },
  {
   "cell_type": "markdown",
   "id": "bc01172a",
   "metadata": {
    "papermill": {
     "duration": 0.045779,
     "end_time": "2021-11-14T20:08:03.351215",
     "exception": false,
     "start_time": "2021-11-14T20:08:03.305436",
     "status": "completed"
    },
    "tags": []
   },
   "source": [
    "### Let us create a `Config` class, to store important parameters. \n",
    "This class essentially plays the role of a dictionary."
   ]
  },
  {
   "cell_type": "code",
   "execution_count": 16,
   "id": "978281aa",
   "metadata": {
    "execution": {
     "iopub.execute_input": "2021-11-14T20:08:03.432541Z",
     "iopub.status.busy": "2021-11-14T20:08:03.431812Z",
     "iopub.status.idle": "2021-11-14T20:08:03.449446Z",
     "shell.execute_reply": "2021-11-14T20:08:03.448820Z"
    },
    "papermill": {
     "duration": 0.060491,
     "end_time": "2021-11-14T20:08:03.449599",
     "exception": false,
     "start_time": "2021-11-14T20:08:03.389108",
     "status": "completed"
    },
    "tags": []
   },
   "outputs": [],
   "source": [
    "class Config:\n",
    "    pass\n",
    "config = Config()\n",
    "config.lr = 0.001\n",
    "config.num_epochs = 250\n",
    "config.bs = 50"
   ]
  },
  {
   "cell_type": "markdown",
   "id": "1385fa59",
   "metadata": {
    "papermill": {
     "duration": 0.040375,
     "end_time": "2021-11-14T20:08:03.528259",
     "exception": false,
     "start_time": "2021-11-14T20:08:03.487884",
     "status": "completed"
    },
    "tags": []
   },
   "source": [
    "### Running Models with the Training data\n",
    "Details about the network layers:\n",
    "- A first affine layer has 784 inputs and does 100 affine transforms. These are followed by a Relu\n",
    "- A second affine layer has 100 inputs from the 100 activations of the past layer, and does 100 affine transforms. These are followed by a Relu\n",
    "- A third affine layer has 100 activations and does 2 affine transformations to create an embedding for visualization. There is no non-linearity here.\n",
    "- A final \"logistic regression\" which has an affine transform from 2 inputs to 1 output, which is squeezed through a sigmoid.\n"
   ]
  },
  {
   "cell_type": "code",
   "execution_count": 17,
   "id": "2b9c66db",
   "metadata": {
    "execution": {
     "iopub.execute_input": "2021-11-14T20:08:03.615242Z",
     "iopub.status.busy": "2021-11-14T20:08:03.614440Z",
     "iopub.status.idle": "2021-11-14T20:08:03.633251Z",
     "shell.execute_reply": "2021-11-14T20:08:03.632626Z"
    },
    "papermill": {
     "duration": 0.065942,
     "end_time": "2021-11-14T20:08:03.633435",
     "exception": false,
     "start_time": "2021-11-14T20:08:03.567493",
     "status": "completed"
    },
    "tags": []
   },
   "outputs": [],
   "source": [
    "data = Data(X_train, y_train.reshape(-1,1))\n",
    "sampler = Sampler(data, config.bs, shuffle=True)\n",
    "\n",
    "dl = Dataloader(data, sampler)\n",
    "\n",
    "opt = GD(config.lr)\n",
    "loss = MSE()"
   ]
  },
  {
   "cell_type": "code",
   "execution_count": 18,
   "id": "b275e4c2",
   "metadata": {
    "execution": {
     "iopub.execute_input": "2021-11-14T20:08:03.712567Z",
     "iopub.status.busy": "2021-11-14T20:08:03.711878Z",
     "iopub.status.idle": "2021-11-14T20:08:03.726632Z",
     "shell.execute_reply": "2021-11-14T20:08:03.727183Z"
    },
    "papermill": {
     "duration": 0.056948,
     "end_time": "2021-11-14T20:08:03.727377",
     "exception": false,
     "start_time": "2021-11-14T20:08:03.670429",
     "status": "completed"
    },
    "tags": []
   },
   "outputs": [],
   "source": [
    "training_data_x = X_train\n",
    "testing_data_x = X_test\n",
    "training_data_y = y_train.reshape(-1,1)\n",
    "testing_data_y = y_test.reshape(-1,1)"
   ]
  },
  {
   "cell_type": "code",
   "execution_count": 19,
   "id": "76951160",
   "metadata": {
    "execution": {
     "iopub.execute_input": "2021-11-14T20:08:03.806989Z",
     "iopub.status.busy": "2021-11-14T20:08:03.806275Z",
     "iopub.status.idle": "2021-11-14T20:08:03.828288Z",
     "shell.execute_reply": "2021-11-14T20:08:03.827490Z"
    },
    "papermill": {
     "duration": 0.063801,
     "end_time": "2021-11-14T20:08:03.828510",
     "exception": false,
     "start_time": "2021-11-14T20:08:03.764709",
     "status": "completed"
    },
    "tags": []
   },
   "outputs": [
    {
     "name": "stdout",
     "output_type": "stream",
     "text": [
      "xavier\n",
      "xavier\n",
      "xavier\n",
      "xavier\n",
      "xavier\n"
     ]
    }
   ],
   "source": [
    "layers = [Affine(\"first\", 784, 100), Relu(\"first\"), Affine(\"second\", 100, 100), Relu(\"second\"), Affine(\"third\", 100, 2), Affine(\"last\", 2, 1), Sigmoid(\"last\")]\n",
    "model_nn = Model(layers)\n",
    "model_lr = Model([Affine(\"logits\", 784, 1), Sigmoid(\"sigmoid\")])"
   ]
  },
  {
   "cell_type": "code",
   "execution_count": 20,
   "id": "6eede77a",
   "metadata": {
    "execution": {
     "iopub.execute_input": "2021-11-14T20:08:03.911547Z",
     "iopub.status.busy": "2021-11-14T20:08:03.909753Z",
     "iopub.status.idle": "2021-11-14T20:08:03.928219Z",
     "shell.execute_reply": "2021-11-14T20:08:03.928894Z"
    },
    "papermill": {
     "duration": 0.063194,
     "end_time": "2021-11-14T20:08:03.929068",
     "exception": false,
     "start_time": "2021-11-14T20:08:03.865874",
     "status": "completed"
    },
    "tags": []
   },
   "outputs": [],
   "source": [
    "nn_learner = Learner(loss, model_nn, opt, config.num_epochs)\n",
    "acc_nn = ClfCallback(nn_learner, config.bs, training_data_x , testing_data_x, training_data_y, testing_data_y)\n",
    "nn_learner.set_callbacks([acc_nn])"
   ]
  },
  {
   "cell_type": "code",
   "execution_count": 21,
   "id": "877b6cc7",
   "metadata": {
    "execution": {
     "iopub.execute_input": "2021-11-14T20:08:04.013591Z",
     "iopub.status.busy": "2021-11-14T20:08:04.012880Z",
     "iopub.status.idle": "2021-11-14T20:08:04.037018Z",
     "shell.execute_reply": "2021-11-14T20:08:04.036415Z"
    },
    "papermill": {
     "duration": 0.069259,
     "end_time": "2021-11-14T20:08:04.037185",
     "exception": false,
     "start_time": "2021-11-14T20:08:03.967926",
     "status": "completed"
    },
    "tags": []
   },
   "outputs": [],
   "source": [
    "lr_learner = Learner(loss, model_lr, opt, config.num_epochs)\n",
    "acc_lr = ClfCallback(lr_learner, config.bs, training_data_x , testing_data_x, training_data_y, testing_data_y)\n",
    "lr_learner.set_callbacks([acc_lr])"
   ]
  },
  {
   "cell_type": "code",
   "execution_count": 22,
   "id": "d9b133c3",
   "metadata": {
    "execution": {
     "iopub.execute_input": "2021-11-14T20:08:04.124338Z",
     "iopub.status.busy": "2021-11-14T20:08:04.123356Z",
     "iopub.status.idle": "2021-11-14T20:10:36.668705Z",
     "shell.execute_reply": "2021-11-14T20:10:36.669783Z"
    },
    "papermill": {
     "duration": 152.594285,
     "end_time": "2021-11-14T20:10:36.669968",
     "exception": false,
     "start_time": "2021-11-14T20:08:04.075683",
     "status": "completed"
    },
    "tags": []
   },
   "outputs": [
    {
     "name": "stdout",
     "output_type": "stream",
     "text": [
      "Epoch 0, Loss 0.2232\n",
      "Training Accuracy: 0.7653, Testing Accuracy: 0.7712\n",
      "\n"
     ]
    },
    {
     "name": "stdout",
     "output_type": "stream",
     "text": [
      "Epoch 10, Loss 0.07\n",
      "Training Accuracy: 0.9284, Testing Accuracy: 0.9325\n",
      "\n"
     ]
    },
    {
     "name": "stdout",
     "output_type": "stream",
     "text": [
      "Epoch 20, Loss 0.0476\n",
      "Training Accuracy: 0.9479, Testing Accuracy: 0.9551\n",
      "\n"
     ]
    },
    {
     "name": "stdout",
     "output_type": "stream",
     "text": [
      "Epoch 30, Loss 0.0393\n",
      "Training Accuracy: 0.9569, Testing Accuracy: 0.9607\n",
      "\n"
     ]
    },
    {
     "name": "stdout",
     "output_type": "stream",
     "text": [
      "Epoch 40, Loss 0.0349\n",
      "Training Accuracy: 0.9609, Testing Accuracy: 0.9642\n",
      "\n"
     ]
    },
    {
     "name": "stdout",
     "output_type": "stream",
     "text": [
      "Epoch 50, Loss 0.0321\n",
      "Training Accuracy: 0.9642, Testing Accuracy: 0.9662\n",
      "\n"
     ]
    },
    {
     "name": "stdout",
     "output_type": "stream",
     "text": [
      "Epoch 60, Loss 0.0301\n",
      "Training Accuracy: 0.9659, Testing Accuracy: 0.9672\n",
      "\n"
     ]
    },
    {
     "name": "stdout",
     "output_type": "stream",
     "text": [
      "Epoch 70, Loss 0.0285\n",
      "Training Accuracy: 0.9680, Testing Accuracy: 0.9682\n",
      "\n"
     ]
    },
    {
     "name": "stdout",
     "output_type": "stream",
     "text": [
      "Epoch 80, Loss 0.0273\n",
      "Training Accuracy: 0.9685, Testing Accuracy: 0.9693\n",
      "\n"
     ]
    },
    {
     "name": "stdout",
     "output_type": "stream",
     "text": [
      "Epoch 90, Loss 0.0263\n",
      "Training Accuracy: 0.9704, Testing Accuracy: 0.9698\n",
      "\n"
     ]
    },
    {
     "name": "stdout",
     "output_type": "stream",
     "text": [
      "Epoch 100, Loss 0.0253\n",
      "Training Accuracy: 0.9715, Testing Accuracy: 0.9698\n",
      "\n"
     ]
    },
    {
     "name": "stdout",
     "output_type": "stream",
     "text": [
      "Epoch 110, Loss 0.0246\n",
      "Training Accuracy: 0.9727, Testing Accuracy: 0.9698\n",
      "\n"
     ]
    },
    {
     "name": "stdout",
     "output_type": "stream",
     "text": [
      "Epoch 120, Loss 0.0239\n",
      "Training Accuracy: 0.9733, Testing Accuracy: 0.9698\n",
      "\n"
     ]
    },
    {
     "name": "stdout",
     "output_type": "stream",
     "text": [
      "Epoch 130, Loss 0.0232\n",
      "Training Accuracy: 0.9745, Testing Accuracy: 0.9693\n",
      "\n"
     ]
    },
    {
     "name": "stdout",
     "output_type": "stream",
     "text": [
      "Epoch 140, Loss 0.0226\n",
      "Training Accuracy: 0.9750, Testing Accuracy: 0.9703\n",
      "\n"
     ]
    },
    {
     "name": "stdout",
     "output_type": "stream",
     "text": [
      "Epoch 150, Loss 0.0221\n",
      "Training Accuracy: 0.9755, Testing Accuracy: 0.9708\n",
      "\n"
     ]
    },
    {
     "name": "stdout",
     "output_type": "stream",
     "text": [
      "Epoch 160, Loss 0.0215\n",
      "Training Accuracy: 0.9763, Testing Accuracy: 0.9718\n",
      "\n"
     ]
    },
    {
     "name": "stdout",
     "output_type": "stream",
     "text": [
      "Epoch 170, Loss 0.021\n",
      "Training Accuracy: 0.9772, Testing Accuracy: 0.9718\n",
      "\n"
     ]
    },
    {
     "name": "stdout",
     "output_type": "stream",
     "text": [
      "Epoch 180, Loss 0.0206\n",
      "Training Accuracy: 0.9777, Testing Accuracy: 0.9718\n",
      "\n"
     ]
    },
    {
     "name": "stdout",
     "output_type": "stream",
     "text": [
      "Epoch 190, Loss 0.0201\n",
      "Training Accuracy: 0.9785, Testing Accuracy: 0.9723\n",
      "\n"
     ]
    },
    {
     "name": "stdout",
     "output_type": "stream",
     "text": [
      "Epoch 200, Loss 0.0197\n",
      "Training Accuracy: 0.9788, Testing Accuracy: 0.9723\n",
      "\n"
     ]
    },
    {
     "name": "stdout",
     "output_type": "stream",
     "text": [
      "Epoch 210, Loss 0.0193\n",
      "Training Accuracy: 0.9791, Testing Accuracy: 0.9733\n",
      "\n"
     ]
    },
    {
     "name": "stdout",
     "output_type": "stream",
     "text": [
      "Epoch 220, Loss 0.0189\n",
      "Training Accuracy: 0.9794, Testing Accuracy: 0.9738\n",
      "\n"
     ]
    },
    {
     "name": "stdout",
     "output_type": "stream",
     "text": [
      "Epoch 230, Loss 0.0185\n",
      "Training Accuracy: 0.9801, Testing Accuracy: 0.9743\n",
      "\n"
     ]
    },
    {
     "name": "stdout",
     "output_type": "stream",
     "text": [
      "Epoch 240, Loss 0.0181\n",
      "Training Accuracy: 0.9802, Testing Accuracy: 0.9748\n",
      "\n"
     ]
    },
    {
     "data": {
      "text/plain": [
       "0.011295954286614488"
      ]
     },
     "execution_count": 22,
     "metadata": {},
     "output_type": "execute_result"
    }
   ],
   "source": [
    "nn_learner.train_loop(dl)"
   ]
  },
  {
   "cell_type": "code",
   "execution_count": 23,
   "id": "e0163366",
   "metadata": {
    "execution": {
     "iopub.execute_input": "2021-11-14T20:10:36.779693Z",
     "iopub.status.busy": "2021-11-14T20:10:36.778948Z",
     "iopub.status.idle": "2021-11-14T20:10:58.122815Z",
     "shell.execute_reply": "2021-11-14T20:10:58.124131Z"
    },
    "papermill": {
     "duration": 21.405726,
     "end_time": "2021-11-14T20:10:58.124353",
     "exception": false,
     "start_time": "2021-11-14T20:10:36.718627",
     "status": "completed"
    },
    "tags": []
   },
   "outputs": [
    {
     "name": "stdout",
     "output_type": "stream",
     "text": [
      "Epoch 0, Loss 0.22\n",
      "Training Accuracy: 0.7323, Testing Accuracy: 0.7555\n",
      "\n"
     ]
    },
    {
     "name": "stdout",
     "output_type": "stream",
     "text": [
      "Epoch 10, Loss 0.0965\n",
      "Training Accuracy: 0.9184, Testing Accuracy: 0.9294\n",
      "\n"
     ]
    },
    {
     "name": "stdout",
     "output_type": "stream",
     "text": [
      "Epoch 20, Loss 0.0761\n",
      "Training Accuracy: 0.9306, Testing Accuracy: 0.9385\n",
      "\n"
     ]
    },
    {
     "name": "stdout",
     "output_type": "stream",
     "text": [
      "Epoch 30, Loss 0.0665\n",
      "Training Accuracy: 0.9373, Testing Accuracy: 0.9441\n",
      "\n"
     ]
    },
    {
     "name": "stdout",
     "output_type": "stream",
     "text": [
      "Epoch 40, Loss 0.0606\n",
      "Training Accuracy: 0.9408, Testing Accuracy: 0.9486\n",
      "\n"
     ]
    },
    {
     "name": "stdout",
     "output_type": "stream",
     "text": [
      "Epoch 50, Loss 0.0565\n",
      "Training Accuracy: 0.9441, Testing Accuracy: 0.9531\n",
      "\n"
     ]
    },
    {
     "name": "stdout",
     "output_type": "stream",
     "text": [
      "Epoch 60, Loss 0.0534\n",
      "Training Accuracy: 0.9463, Testing Accuracy: 0.9556\n",
      "\n"
     ]
    },
    {
     "name": "stdout",
     "output_type": "stream",
     "text": [
      "Epoch 70, Loss 0.051\n",
      "Training Accuracy: 0.9477, Testing Accuracy: 0.9587\n",
      "\n"
     ]
    },
    {
     "name": "stdout",
     "output_type": "stream",
     "text": [
      "Epoch 80, Loss 0.0491\n",
      "Training Accuracy: 0.9494, Testing Accuracy: 0.9597\n",
      "\n"
     ]
    },
    {
     "name": "stdout",
     "output_type": "stream",
     "text": [
      "Epoch 90, Loss 0.0475\n",
      "Training Accuracy: 0.9517, Testing Accuracy: 0.9612\n",
      "\n"
     ]
    },
    {
     "name": "stdout",
     "output_type": "stream",
     "text": [
      "Epoch 100, Loss 0.0461\n",
      "Training Accuracy: 0.9523, Testing Accuracy: 0.9612\n",
      "\n"
     ]
    },
    {
     "name": "stdout",
     "output_type": "stream",
     "text": [
      "Epoch 110, Loss 0.045\n",
      "Training Accuracy: 0.9532, Testing Accuracy: 0.9622\n",
      "\n"
     ]
    },
    {
     "name": "stdout",
     "output_type": "stream",
     "text": [
      "Epoch 120, Loss 0.0439\n",
      "Training Accuracy: 0.9540, Testing Accuracy: 0.9627\n",
      "\n"
     ]
    },
    {
     "name": "stdout",
     "output_type": "stream",
     "text": [
      "Epoch 130, Loss 0.043\n",
      "Training Accuracy: 0.9548, Testing Accuracy: 0.9632\n",
      "\n"
     ]
    },
    {
     "name": "stdout",
     "output_type": "stream",
     "text": [
      "Epoch 140, Loss 0.0422\n",
      "Training Accuracy: 0.9553, Testing Accuracy: 0.9632\n",
      "\n"
     ]
    },
    {
     "name": "stdout",
     "output_type": "stream",
     "text": [
      "Epoch 150, Loss 0.0415\n",
      "Training Accuracy: 0.9560, Testing Accuracy: 0.9632\n",
      "\n"
     ]
    },
    {
     "name": "stdout",
     "output_type": "stream",
     "text": [
      "Epoch 160, Loss 0.0408\n",
      "Training Accuracy: 0.9566, Testing Accuracy: 0.9627\n",
      "\n"
     ]
    },
    {
     "name": "stdout",
     "output_type": "stream",
     "text": [
      "Epoch 170, Loss 0.0402\n",
      "Training Accuracy: 0.9575, Testing Accuracy: 0.9622\n",
      "\n"
     ]
    },
    {
     "name": "stdout",
     "output_type": "stream",
     "text": [
      "Epoch 180, Loss 0.0397\n",
      "Training Accuracy: 0.9578, Testing Accuracy: 0.9622\n",
      "\n"
     ]
    },
    {
     "name": "stdout",
     "output_type": "stream",
     "text": [
      "Epoch 190, Loss 0.0392\n",
      "Training Accuracy: 0.9579, Testing Accuracy: 0.9627\n",
      "\n"
     ]
    },
    {
     "name": "stdout",
     "output_type": "stream",
     "text": [
      "Epoch 200, Loss 0.0387\n",
      "Training Accuracy: 0.9589, Testing Accuracy: 0.9627\n",
      "\n"
     ]
    },
    {
     "name": "stdout",
     "output_type": "stream",
     "text": [
      "Epoch 210, Loss 0.0383\n",
      "Training Accuracy: 0.9593, Testing Accuracy: 0.9632\n",
      "\n"
     ]
    },
    {
     "name": "stdout",
     "output_type": "stream",
     "text": [
      "Epoch 220, Loss 0.0379\n",
      "Training Accuracy: 0.9594, Testing Accuracy: 0.9637\n",
      "\n"
     ]
    },
    {
     "name": "stdout",
     "output_type": "stream",
     "text": [
      "Epoch 230, Loss 0.0375\n",
      "Training Accuracy: 0.9599, Testing Accuracy: 0.9637\n",
      "\n"
     ]
    },
    {
     "name": "stdout",
     "output_type": "stream",
     "text": [
      "Epoch 240, Loss 0.0371\n",
      "Training Accuracy: 0.9603, Testing Accuracy: 0.9647\n",
      "\n"
     ]
    },
    {
     "data": {
      "text/plain": [
       "0.044542841016649674"
      ]
     },
     "execution_count": 23,
     "metadata": {},
     "output_type": "execute_result"
    }
   ],
   "source": [
    "lr_learner.train_loop(dl)"
   ]
  },
  {
   "cell_type": "code",
   "execution_count": 24,
   "id": "ca410940",
   "metadata": {
    "execution": {
     "iopub.execute_input": "2021-11-14T20:10:58.247536Z",
     "iopub.status.busy": "2021-11-14T20:10:58.246728Z",
     "iopub.status.idle": "2021-11-14T20:10:58.553352Z",
     "shell.execute_reply": "2021-11-14T20:10:58.553954Z"
    },
    "papermill": {
     "duration": 0.368107,
     "end_time": "2021-11-14T20:10:58.554201",
     "exception": false,
     "start_time": "2021-11-14T20:10:58.186094",
     "status": "completed"
    },
    "tags": []
   },
   "outputs": [
    {
     "data": {
      "text/plain": [
       "<matplotlib.legend.Legend at 0x7fc7198b27b8>"
      ]
     },
     "execution_count": 24,
     "metadata": {},
     "output_type": "execute_result"
    },
    {
     "data": {
      "image/png": "[encoded data removed]",
      "text/plain": [
       "<Figure size 1080x720 with 1 Axes>"
      ]
     },
     "metadata": {
      "needs_background": "light"
     },
     "output_type": "display_data"
    }
   ],
   "source": [
    "#comparing the results of NN and LR\n",
    "plt.figure(figsize=(15,10))\n",
    "\n",
    "# Neural Network plots\n",
    "plt.plot(acc_nn.accuracies, 'r-', label = \"Training Accuracies - NN\")\n",
    "plt.plot(acc_nn.test_accuracies, 'g-', label = \"Testing Accuracies - NN\")\n",
    "\n",
    "# Logistic Regression plots\n",
    "plt.plot(acc_lr.accuracies, 'k-', label = \"Training Accuracies - LR\")\n",
    "plt.plot(acc_lr.test_accuracies, 'b-', label = \"Testing Accuracies - LR\")\n",
    "plt.legend()"
   ]
  },
  {
   "cell_type": "markdown",
   "id": "80dfb35c",
   "metadata": {
    "papermill": {
     "duration": 0.057214,
     "end_time": "2021-11-14T20:10:58.669091",
     "exception": false,
     "start_time": "2021-11-14T20:10:58.611877",
     "status": "completed"
    },
    "tags": []
   },
   "source": [
    "#### Plotting the outputs of this layer of the NN.\n"
   ]
  },
  {
   "cell_type": "code",
   "execution_count": 25,
   "id": "45eb2ff5",
   "metadata": {
    "execution": {
     "iopub.execute_input": "2021-11-14T20:10:58.788031Z",
     "iopub.status.busy": "2021-11-14T20:10:58.782515Z",
     "iopub.status.idle": "2021-11-14T20:10:58.810943Z",
     "shell.execute_reply": "2021-11-14T20:10:58.811802Z"
    },
    "papermill": {
     "duration": 0.086274,
     "end_time": "2021-11-14T20:10:58.811982",
     "exception": false,
     "start_time": "2021-11-14T20:10:58.725708",
     "status": "completed"
    },
    "tags": []
   },
   "outputs": [],
   "source": [
    "new_model = Model(layers[:-2])\n",
    "testing_plot = new_model(testing_data_x)"
   ]
  },
  {
   "cell_type": "code",
   "execution_count": 26,
   "id": "4c0a5485",
   "metadata": {
    "execution": {
     "iopub.execute_input": "2021-11-14T20:10:58.928727Z",
     "iopub.status.busy": "2021-11-14T20:10:58.927975Z",
     "iopub.status.idle": "2021-11-14T20:10:59.201405Z",
     "shell.execute_reply": "2021-11-14T20:10:59.200677Z"
    },
    "papermill": {
     "duration": 0.333292,
     "end_time": "2021-11-14T20:10:59.201539",
     "exception": false,
     "start_time": "2021-11-14T20:10:58.868247",
     "status": "completed"
    },
    "tags": []
   },
   "outputs": [
    {
     "data": {
      "text/plain": [
       "Text(0.5, 1.0, 'Outputs')"
      ]
     },
     "execution_count": 26,
     "metadata": {},
     "output_type": "execute_result"
    },
    {
     "data": {
      "image/png": "[encoded data removed]",
      "text/plain": [
       "<Figure size 576x504 with 1 Axes>"
      ]
     },
     "metadata": {
      "needs_background": "light"
     },
     "output_type": "display_data"
    }
   ],
   "source": [
    "# Plotting the scatter plot of points and color coding by class\n",
    "plt.figure(figsize=(8,7))\n",
    "plt.scatter(testing_plot[:,0], testing_plot[:,1], alpha = 0.1, c = y_test.ravel());\n",
    "plt.title('Outputs')"
   ]
  },
  {
   "cell_type": "markdown",
   "id": "a74fcf8f",
   "metadata": {
    "papermill": {
     "duration": 0.076451,
     "end_time": "2021-11-14T20:10:59.342202",
     "exception": false,
     "start_time": "2021-11-14T20:10:59.265751",
     "status": "completed"
    },
    "tags": []
   },
   "source": [
    "Probability contours"
   ]
  },
  {
   "cell_type": "code",
   "execution_count": 27,
   "id": "d0afc8e3",
   "metadata": {
    "execution": {
     "iopub.execute_input": "2021-11-14T20:10:59.448493Z",
     "iopub.status.busy": "2021-11-14T20:10:59.447892Z",
     "iopub.status.idle": "2021-11-14T20:10:59.473436Z",
     "shell.execute_reply": "2021-11-14T20:10:59.474209Z"
    },
    "papermill": {
     "duration": 0.081484,
     "end_time": "2021-11-14T20:10:59.474338",
     "exception": false,
     "start_time": "2021-11-14T20:10:59.392854",
     "status": "completed"
    },
    "tags": []
   },
   "outputs": [],
   "source": [
    "model_prob = Model(layers[-2:]) "
   ]
  },
  {
   "cell_type": "code",
   "execution_count": 28,
   "id": "9b96e238",
   "metadata": {
    "execution": {
     "iopub.execute_input": "2021-11-14T20:10:59.575515Z",
     "iopub.status.busy": "2021-11-14T20:10:59.574788Z",
     "iopub.status.idle": "2021-11-14T20:10:59.588869Z",
     "shell.execute_reply": "2021-11-14T20:10:59.589853Z"
    },
    "papermill": {
     "duration": 0.06768,
     "end_time": "2021-11-14T20:10:59.590048",
     "exception": false,
     "start_time": "2021-11-14T20:10:59.522368",
     "status": "completed"
    },
    "tags": []
   },
   "outputs": [],
   "source": [
    "#creating the x and y ranges according to the above generated plot.\n",
    "x_range = np.linspace(-4, 1, 100) \n",
    "y_range = np.linspace(-6, 6, 100) \n",
    "x_grid, y_grid = np.meshgrid(x_range, y_range) # x_grid and y_grig are of size 100 X 100\n",
    "\n",
    "# converting x_grid and y_grid to continuous arrays\n",
    "x_gridflat = np.ravel(x_grid)\n",
    "y_gridflat = np.ravel(y_grid)\n",
    "\n",
    "# The last layer of the current model takes two columns as input. Hence transpose of np.vstack() is required.\n",
    "X = np.vstack((x_gridflat, y_gridflat)).T\n",
    "\n",
    "prob_contour = model_prob(X).reshape(100,100) "
   ]
  },
  {
   "cell_type": "code",
   "execution_count": 29,
   "id": "da72499a",
   "metadata": {
    "execution": {
     "iopub.execute_input": "2021-11-14T20:10:59.709666Z",
     "iopub.status.busy": "2021-11-14T20:10:59.709066Z",
     "iopub.status.idle": "2021-11-14T20:11:00.021090Z",
     "shell.execute_reply": "2021-11-14T20:11:00.021668Z"
    },
    "papermill": {
     "duration": 0.377215,
     "end_time": "2021-11-14T20:11:00.021823",
     "exception": false,
     "start_time": "2021-11-14T20:10:59.644608",
     "status": "completed"
    },
    "tags": []
   },
   "outputs": [
    {
     "data": {
      "image/png": "[encoded data removed]",
      "text/plain": [
       "<Figure size 720x648 with 1 Axes>"
      ]
     },
     "metadata": {
      "needs_background": "light"
     },
     "output_type": "display_data"
    }
   ],
   "source": [
    "plt.figure(figsize=(10,9))\n",
    "plt.scatter(testing_plot[:,0], testing_plot[:,1], alpha = 0.1, c = y_test.ravel())\n",
    "contours = plt.contour(x_grid,y_grid,prob_contour)\n",
    "plt.title('Probability Contours')\n",
    "plt.clabel(contours, inline = True );"
   ]
  },
  {
   "cell_type": "code",
   "execution_count": null,
   "id": "e81b4ac7",
   "metadata": {
    "papermill": {
     "duration": 0.058161,
     "end_time": "2021-11-14T20:11:00.138885",
     "exception": false,
     "start_time": "2021-11-14T20:11:00.080724",
     "status": "completed"
    },
    "tags": []
   },
   "outputs": [],
   "source": []
  }
 ],
 "metadata": {
  "kernelspec": {
   "display_name": "Python 3",
   "language": "python",
   "name": "python3"
  },
  "language_info": {
   "codemirror_mode": {
    "name": "ipython",
    "version": 3
   },
   "file_extension": ".py",
   "mimetype": "text/x-python",
   "name": "python",
   "nbconvert_exporter": "python",
   "pygments_lexer": "ipython3",
   "version": "3.6.15"
  },
  "papermill": {
   "default_parameters": {},
   "duration": 184.458221,
   "end_time": "2021-11-14T20:11:00.606946",
   "environment_variables": {},
   "exception": null,
   "input_path": "2020-08-11-part2.ipynb",
   "output_path": "2020-08-11-part2.ipynb",
   "parameters": {},
   "start_time": "2021-11-14T20:07:56.148725",
   "version": "2.3.3"
  }
 },
 "nbformat": 4,
 "nbformat_minor": 5
}