{
 "cells": [
  {
   "cell_type": "markdown",
   "id": "98380cd3",
   "metadata": {
    "papermill": {
     "duration": 0.034064,
     "end_time": "2022-06-22T00:43:12.785147",
     "exception": false,
     "start_time": "2022-06-22T00:43:12.751083",
     "status": "completed"
    },
    "tags": []
   },
   "source": [
    "# Distinguish Your Own Digits (DYOD)"
   ]
  },
  {
   "cell_type": "markdown",
   "id": "ef31240d",
   "metadata": {
    "papermill": {
     "duration": 0.028403,
     "end_time": "2022-06-22T00:43:12.841889",
     "exception": false,
     "start_time": "2022-06-22T00:43:12.813486",
     "status": "completed"
    },
    "tags": []
   },
   "source": [
    "You are going to write a classifier that distinguishes between the number 3 and number 8."
   ]
  },
  {
   "cell_type": "code",
   "execution_count": 1,
   "id": "b15c8646",
   "metadata": {
    "execution": {
     "iopub.execute_input": "2022-06-22T00:43:12.909121Z",
     "iopub.status.busy": "2022-06-22T00:43:12.908390Z",
     "iopub.status.idle": "2022-06-22T00:43:12.921074Z",
     "shell.execute_reply": "2022-06-22T00:43:12.920413Z"
    },
    "papermill": {
     "duration": 0.052348,
     "end_time": "2022-06-22T00:43:12.921217",
     "exception": false,
     "start_time": "2022-06-22T00:43:12.868869",
     "status": "completed"
    },
    "tags": []
   },
   "outputs": [],
   "source": [
    "%load_ext autoreload\n",
    "%autoreload 2"
   ]
  },
  {
   "cell_type": "code",
   "execution_count": 2,
   "id": "22ef38dc",
   "metadata": {
    "execution": {
     "iopub.execute_input": "2022-06-22T00:43:12.984400Z",
     "iopub.status.busy": "2022-06-22T00:43:12.983724Z",
     "iopub.status.idle": "2022-06-22T00:43:13.610492Z",
     "shell.execute_reply": "2022-06-22T00:43:13.609851Z"
    },
    "papermill": {
     "duration": 0.662684,
     "end_time": "2022-06-22T00:43:13.610642",
     "exception": false,
     "start_time": "2022-06-22T00:43:12.947958",
     "status": "completed"
    },
    "tags": []
   },
   "outputs": [],
   "source": [
    "%matplotlib inline\n",
    "import numpy as np\n",
    "import matplotlib.pyplot as plt\n",
    "import pandas as pd"
   ]
  },
  {
   "cell_type": "markdown",
   "id": "ba036198",
   "metadata": {
    "papermill": {
     "duration": 0.029976,
     "end_time": "2022-06-22T00:43:13.670822",
     "exception": false,
     "start_time": "2022-06-22T00:43:13.640846",
     "status": "completed"
    },
    "tags": []
   },
   "source": [
    "From the command line run `pip install mnist`. This is a library that will help you bring down the mnist dataset. If you run this from a notebook, you need to put  `!pip install mnist` in a cell by itself."
   ]
  },
  {
   "cell_type": "code",
   "execution_count": 3,
   "id": "bb6ad8a1",
   "metadata": {
    "execution": {
     "iopub.execute_input": "2022-06-22T00:43:13.741950Z",
     "iopub.status.busy": "2022-06-22T00:43:13.740960Z",
     "iopub.status.idle": "2022-06-22T00:43:16.629321Z",
     "shell.execute_reply": "2022-06-22T00:43:16.628749Z"
    },
    "papermill": {
     "duration": 2.927985,
     "end_time": "2022-06-22T00:43:16.629460",
     "exception": false,
     "start_time": "2022-06-22T00:43:13.701475",
     "status": "completed"
    },
    "tags": []
   },
   "outputs": [
    {
     "name": "stdout",
     "output_type": "stream",
     "text": [
      "Collecting mnist\r\n"
     ]
    },
    {
     "name": "stdout",
     "output_type": "stream",
     "text": [
      "  Downloading mnist-0.2.2-py2.py3-none-any.whl (3.5 kB)\r\n",
      "Requirement already satisfied: numpy in /opt/hostedtoolcache/Python/3.6.15/x64/lib/python3.6/site-packages (from mnist) (1.19.5)\r\n"
     ]
    },
    {
     "name": "stdout",
     "output_type": "stream",
     "text": [
      "Installing collected packages: mnist\r\n"
     ]
    },
    {
     "name": "stdout",
     "output_type": "stream",
     "text": [
      "Successfully installed mnist-0.2.2\r\n"
     ]
    }
   ],
   "source": [
    "!pip install mnist"
   ]
  },
  {
   "cell_type": "markdown",
   "id": "69df9c9a",
   "metadata": {
    "papermill": {
     "duration": 0.029483,
     "end_time": "2022-06-22T00:43:16.690747",
     "exception": false,
     "start_time": "2022-06-22T00:43:16.661264",
     "status": "completed"
    },
    "tags": []
   },
   "source": [
    "## Preparing the Data"
   ]
  },
  {
   "cell_type": "code",
   "execution_count": 4,
   "id": "7f69d806",
   "metadata": {
    "execution": {
     "iopub.execute_input": "2022-06-22T00:43:16.760751Z",
     "iopub.status.busy": "2022-06-22T00:43:16.757060Z",
     "iopub.status.idle": "2022-06-22T00:43:16.774305Z",
     "shell.execute_reply": "2022-06-22T00:43:16.773509Z"
    },
    "papermill": {
     "duration": 0.053336,
     "end_time": "2022-06-22T00:43:16.774439",
     "exception": false,
     "start_time": "2022-06-22T00:43:16.721103",
     "status": "completed"
    },
    "tags": []
   },
   "outputs": [],
   "source": [
    "import mnist"
   ]
  },
  {
   "cell_type": "code",
   "execution_count": 5,
   "id": "a411e44f",
   "metadata": {
    "execution": {
     "iopub.execute_input": "2022-06-22T00:43:16.841890Z",
     "iopub.status.busy": "2022-06-22T00:43:16.841085Z",
     "iopub.status.idle": "2022-06-22T00:43:18.472756Z",
     "shell.execute_reply": "2022-06-22T00:43:18.472094Z"
    },
    "papermill": {
     "duration": 1.666536,
     "end_time": "2022-06-22T00:43:18.473038",
     "exception": false,
     "start_time": "2022-06-22T00:43:16.806502",
     "status": "completed"
    },
    "tags": []
   },
   "outputs": [],
   "source": [
    "train_images = mnist.train_images()\n",
    "train_labels = mnist.train_labels()"
   ]
  },
  {
   "cell_type": "code",
   "execution_count": 6,
   "id": "dceab3a5",
   "metadata": {
    "execution": {
     "iopub.execute_input": "2022-06-22T00:43:18.542906Z",
     "iopub.status.busy": "2022-06-22T00:43:18.542249Z",
     "iopub.status.idle": "2022-06-22T00:43:18.559966Z",
     "shell.execute_reply": "2022-06-22T00:43:18.559213Z"
    },
    "papermill": {
     "duration": 0.056426,
     "end_time": "2022-06-22T00:43:18.560121",
     "exception": false,
     "start_time": "2022-06-22T00:43:18.503695",
     "status": "completed"
    },
    "tags": []
   },
   "outputs": [
    {
     "data": {
      "text/plain": [
       "((60000, 28, 28), (60000,))"
      ]
     },
     "execution_count": 6,
     "metadata": {},
     "output_type": "execute_result"
    }
   ],
   "source": [
    "train_images.shape, train_labels.shape"
   ]
  },
  {
   "cell_type": "code",
   "execution_count": 7,
   "id": "f50dc2bb",
   "metadata": {
    "execution": {
     "iopub.execute_input": "2022-06-22T00:43:18.626095Z",
     "iopub.status.busy": "2022-06-22T00:43:18.625142Z",
     "iopub.status.idle": "2022-06-22T00:43:18.857000Z",
     "shell.execute_reply": "2022-06-22T00:43:18.857670Z"
    },
    "papermill": {
     "duration": 0.267077,
     "end_time": "2022-06-22T00:43:18.857886",
     "exception": false,
     "start_time": "2022-06-22T00:43:18.590809",
     "status": "completed"
    },
    "tags": []
   },
   "outputs": [],
   "source": [
    "test_images = mnist.test_images()\n",
    "test_labels = mnist.test_labels()"
   ]
  },
  {
   "cell_type": "code",
   "execution_count": 8,
   "id": "fc38cf1b",
   "metadata": {
    "execution": {
     "iopub.execute_input": "2022-06-22T00:43:18.944205Z",
     "iopub.status.busy": "2022-06-22T00:43:18.943283Z",
     "iopub.status.idle": "2022-06-22T00:43:18.960510Z",
     "shell.execute_reply": "2022-06-22T00:43:18.959740Z"
    },
    "papermill": {
     "duration": 0.060515,
     "end_time": "2022-06-22T00:43:18.960645",
     "exception": false,
     "start_time": "2022-06-22T00:43:18.900130",
     "status": "completed"
    },
    "tags": []
   },
   "outputs": [
    {
     "data": {
      "text/plain": [
       "((10000, 28, 28), (10000,))"
      ]
     },
     "execution_count": 8,
     "metadata": {},
     "output_type": "execute_result"
    }
   ],
   "source": [
    "test_images.shape, test_labels.shape"
   ]
  },
  {
   "cell_type": "code",
   "execution_count": 9,
   "id": "f9ed8fe0",
   "metadata": {
    "execution": {
     "iopub.execute_input": "2022-06-22T00:43:19.025723Z",
     "iopub.status.busy": "2022-06-22T00:43:19.024881Z",
     "iopub.status.idle": "2022-06-22T00:43:19.224108Z",
     "shell.execute_reply": "2022-06-22T00:43:19.223054Z"
    },
    "papermill": {
     "duration": 0.232814,
     "end_time": "2022-06-22T00:43:19.224276",
     "exception": false,
     "start_time": "2022-06-22T00:43:18.991462",
     "status": "completed"
    },
    "tags": []
   },
   "outputs": [
    {
     "name": "stdout",
     "output_type": "stream",
     "text": [
      "2\n"
     ]
    },
    {
     "data": {
      "text/plain": [
       "<matplotlib.image.AxesImage at 0x7fb1c9870400>"
      ]
     },
     "execution_count": 9,
     "metadata": {},
     "output_type": "execute_result"
    },
    {
     "data": {
      "image/png": "[encoded data removed]",
      "text/plain": [
       "<Figure size 432x288 with 1 Axes>"
      ]
     },
     "metadata": {
      "needs_background": "light"
     },
     "output_type": "display_data"
    }
   ],
   "source": [
    "image_index = 7776 # You may select anything up to 60,000\n",
    "print(train_labels[image_index]) \n",
    "plt.imshow(train_images[image_index], cmap='Greys')"
   ]
  },
  {
   "cell_type": "markdown",
   "id": "a8d2388d",
   "metadata": {
    "papermill": {
     "duration": 0.034558,
     "end_time": "2022-06-22T00:43:19.301323",
     "exception": false,
     "start_time": "2022-06-22T00:43:19.266765",
     "status": "completed"
    },
    "tags": []
   },
   "source": [
    "## Filter data to get 3 and 8 out"
   ]
  },
  {
   "cell_type": "code",
   "execution_count": 10,
   "id": "776f7fc7",
   "metadata": {
    "execution": {
     "iopub.execute_input": "2022-06-22T00:43:19.376426Z",
     "iopub.status.busy": "2022-06-22T00:43:19.375701Z",
     "iopub.status.idle": "2022-06-22T00:43:19.395846Z",
     "shell.execute_reply": "2022-06-22T00:43:19.396386Z"
    },
    "papermill": {
     "duration": 0.061515,
     "end_time": "2022-06-22T00:43:19.396542",
     "exception": false,
     "start_time": "2022-06-22T00:43:19.335027",
     "status": "completed"
    },
    "tags": []
   },
   "outputs": [],
   "source": [
    "train_filter = np.where((train_labels == 3 ) | (train_labels == 8))\n",
    "test_filter = np.where((test_labels == 3) | (test_labels == 8))\n",
    "X_train, y_train = train_images[train_filter], train_labels[train_filter]\n",
    "X_test, y_test = test_images[test_filter], test_labels[test_filter]"
   ]
  },
  {
   "cell_type": "markdown",
   "id": "948f0b7e",
   "metadata": {
    "papermill": {
     "duration": 0.033333,
     "end_time": "2022-06-22T00:43:19.464914",
     "exception": false,
     "start_time": "2022-06-22T00:43:19.431581",
     "status": "completed"
    },
    "tags": []
   },
   "source": [
    "We normalize the pizel values in the 0 to 1 range"
   ]
  },
  {
   "cell_type": "code",
   "execution_count": 11,
   "id": "ee4c2166",
   "metadata": {
    "execution": {
     "iopub.execute_input": "2022-06-22T00:43:19.537298Z",
     "iopub.status.busy": "2022-06-22T00:43:19.536385Z",
     "iopub.status.idle": "2022-06-22T00:43:19.600076Z",
     "shell.execute_reply": "2022-06-22T00:43:19.600757Z"
    },
    "papermill": {
     "duration": 0.104499,
     "end_time": "2022-06-22T00:43:19.600950",
     "exception": false,
     "start_time": "2022-06-22T00:43:19.496451",
     "status": "completed"
    },
    "tags": []
   },
   "outputs": [],
   "source": [
    "X_train = X_train/255.\n",
    "X_test = X_test/255."
   ]
  },
  {
   "cell_type": "markdown",
   "id": "ddcf4fab",
   "metadata": {
    "papermill": {
     "duration": 0.031183,
     "end_time": "2022-06-22T00:43:19.662960",
     "exception": false,
     "start_time": "2022-06-22T00:43:19.631777",
     "status": "completed"
    },
    "tags": []
   },
   "source": [
    "And setup the labels as 1 (when the digit is 3) and 0 (when the digit is 8)"
   ]
  },
  {
   "cell_type": "code",
   "execution_count": 12,
   "id": "7dc908f2",
   "metadata": {
    "execution": {
     "iopub.execute_input": "2022-06-22T00:43:19.734058Z",
     "iopub.status.busy": "2022-06-22T00:43:19.733393Z",
     "iopub.status.idle": "2022-06-22T00:43:19.748582Z",
     "shell.execute_reply": "2022-06-22T00:43:19.748061Z"
    },
    "papermill": {
     "duration": 0.052419,
     "end_time": "2022-06-22T00:43:19.748737",
     "exception": false,
     "start_time": "2022-06-22T00:43:19.696318",
     "status": "completed"
    },
    "tags": []
   },
   "outputs": [],
   "source": [
    "y_train = 1*(y_train==3)\n",
    "y_test = 1*(y_test==3)"
   ]
  },
  {
   "cell_type": "code",
   "execution_count": 13,
   "id": "01e4e969",
   "metadata": {
    "execution": {
     "iopub.execute_input": "2022-06-22T00:43:19.818631Z",
     "iopub.status.busy": "2022-06-22T00:43:19.818023Z",
     "iopub.status.idle": "2022-06-22T00:43:19.833492Z",
     "shell.execute_reply": "2022-06-22T00:43:19.832953Z"
    },
    "papermill": {
     "duration": 0.051553,
     "end_time": "2022-06-22T00:43:19.833608",
     "exception": false,
     "start_time": "2022-06-22T00:43:19.782055",
     "status": "completed"
    },
    "tags": []
   },
   "outputs": [
    {
     "data": {
      "text/plain": [
       "((11982, 28, 28), (1984, 28, 28))"
      ]
     },
     "execution_count": 13,
     "metadata": {},
     "output_type": "execute_result"
    }
   ],
   "source": [
    "X_train.shape, X_test.shape"
   ]
  },
  {
   "cell_type": "markdown",
   "id": "5ccf3f85",
   "metadata": {
    "papermill": {
     "duration": 0.033398,
     "end_time": "2022-06-22T00:43:19.897829",
     "exception": false,
     "start_time": "2022-06-22T00:43:19.864431",
     "status": "completed"
    },
    "tags": []
   },
   "source": [
    "We reshape the data to flatten the image pixels into a set of features or co-variates:"
   ]
  },
  {
   "cell_type": "code",
   "execution_count": 14,
   "id": "5286a4a3",
   "metadata": {
    "execution": {
     "iopub.execute_input": "2022-06-22T00:43:19.975614Z",
     "iopub.status.busy": "2022-06-22T00:43:19.974757Z",
     "iopub.status.idle": "2022-06-22T00:43:19.990920Z",
     "shell.execute_reply": "2022-06-22T00:43:19.990392Z"
    },
    "papermill": {
     "duration": 0.057151,
     "end_time": "2022-06-22T00:43:19.991115",
     "exception": false,
     "start_time": "2022-06-22T00:43:19.933964",
     "status": "completed"
    },
    "tags": []
   },
   "outputs": [
    {
     "data": {
      "text/plain": [
       "((11982, 784), (1984, 784))"
      ]
     },
     "execution_count": 14,
     "metadata": {},
     "output_type": "execute_result"
    }
   ],
   "source": [
    "X_train = X_train.reshape(X_train.shape[0], -1)\n",
    "X_test = X_test.reshape(X_test.shape[0], -1)\n",
    "X_train.shape, X_test.shape"
   ]
  },
  {
   "cell_type": "code",
   "execution_count": 15,
   "id": "73c5f88a",
   "metadata": {
    "execution": {
     "iopub.execute_input": "2022-06-22T00:43:20.064334Z",
     "iopub.status.busy": "2022-06-22T00:43:20.063391Z",
     "iopub.status.idle": "2022-06-22T00:43:20.087386Z",
     "shell.execute_reply": "2022-06-22T00:43:20.088209Z"
    },
    "papermill": {
     "duration": 0.063664,
     "end_time": "2022-06-22T00:43:20.088415",
     "exception": false,
     "start_time": "2022-06-22T00:43:20.024751",
     "status": "completed"
    },
    "tags": []
   },
   "outputs": [],
   "source": [
    "#Impoting functions from 'Kudzu'\n",
    "from kudzu.model import Model\n",
    "from kudzu.train import Learner\n",
    "from kudzu.optim import GD\n",
    "from kudzu.data import Data, Sampler,Dataloader\n",
    "\n",
    "from kudzu.callbacks import AccCallback\n",
    "from kudzu.callbacks import ClfCallback\n",
    "\n",
    "from kudzu.loss import MSE\n",
    "\n",
    "from kudzu.layer import Sigmoid,Relu\n",
    "from kudzu.layer import Affine"
   ]
  },
  {
   "cell_type": "markdown",
   "id": "bc01172a",
   "metadata": {
    "papermill": {
     "duration": 0.034931,
     "end_time": "2022-06-22T00:43:20.157830",
     "exception": false,
     "start_time": "2022-06-22T00:43:20.122899",
     "status": "completed"
    },
    "tags": []
   },
   "source": [
    "### Let us create a `Config` class, to store important parameters. \n",
    "This class essentially plays the role of a dictionary."
   ]
  },
  {
   "cell_type": "code",
   "execution_count": 16,
   "id": "978281aa",
   "metadata": {
    "execution": {
     "iopub.execute_input": "2022-06-22T00:43:20.236216Z",
     "iopub.status.busy": "2022-06-22T00:43:20.235492Z",
     "iopub.status.idle": "2022-06-22T00:43:20.248323Z",
     "shell.execute_reply": "2022-06-22T00:43:20.248912Z"
    },
    "papermill": {
     "duration": 0.056491,
     "end_time": "2022-06-22T00:43:20.249100",
     "exception": false,
     "start_time": "2022-06-22T00:43:20.192609",
     "status": "completed"
    },
    "tags": []
   },
   "outputs": [],
   "source": [
    "class Config:\n",
    "    pass\n",
    "config = Config()\n",
    "config.lr = 0.001\n",
    "config.num_epochs = 250\n",
    "config.bs = 50"
   ]
  },
  {
   "cell_type": "markdown",
   "id": "1385fa59",
   "metadata": {
    "papermill": {
     "duration": 0.032782,
     "end_time": "2022-06-22T00:43:20.314707",
     "exception": false,
     "start_time": "2022-06-22T00:43:20.281925",
     "status": "completed"
    },
    "tags": []
   },
   "source": [
    "### Running Models with the Training data\n",
    "Details about the network layers:\n",
    "- A first affine layer has 784 inputs and does 100 affine transforms. These are followed by a Relu\n",
    "- A second affine layer has 100 inputs from the 100 activations of the past layer, and does 100 affine transforms. These are followed by a Relu\n",
    "- A third affine layer has 100 activations and does 2 affine transformations to create an embedding for visualization. There is no non-linearity here.\n",
    "- A final \"logistic regression\" which has an affine transform from 2 inputs to 1 output, which is squeezed through a sigmoid.\n"
   ]
  },
  {
   "cell_type": "code",
   "execution_count": 17,
   "id": "2b9c66db",
   "metadata": {
    "execution": {
     "iopub.execute_input": "2022-06-22T00:43:20.388378Z",
     "iopub.status.busy": "2022-06-22T00:43:20.387704Z",
     "iopub.status.idle": "2022-06-22T00:43:20.403759Z",
     "shell.execute_reply": "2022-06-22T00:43:20.403059Z"
    },
    "papermill": {
     "duration": 0.05652,
     "end_time": "2022-06-22T00:43:20.403934",
     "exception": false,
     "start_time": "2022-06-22T00:43:20.347414",
     "status": "completed"
    },
    "tags": []
   },
   "outputs": [],
   "source": [
    "data = Data(X_train, y_train.reshape(-1,1))\n",
    "sampler = Sampler(data, config.bs, shuffle=True)\n",
    "\n",
    "dl = Dataloader(data, sampler)\n",
    "\n",
    "opt = GD(config.lr)\n",
    "loss = MSE()"
   ]
  },
  {
   "cell_type": "code",
   "execution_count": 18,
   "id": "b275e4c2",
   "metadata": {
    "execution": {
     "iopub.execute_input": "2022-06-22T00:43:20.477178Z",
     "iopub.status.busy": "2022-06-22T00:43:20.476495Z",
     "iopub.status.idle": "2022-06-22T00:43:20.494844Z",
     "shell.execute_reply": "2022-06-22T00:43:20.494112Z"
    },
    "papermill": {
     "duration": 0.056878,
     "end_time": "2022-06-22T00:43:20.495034",
     "exception": false,
     "start_time": "2022-06-22T00:43:20.438156",
     "status": "completed"
    },
    "tags": []
   },
   "outputs": [],
   "source": [
    "training_data_x = X_train\n",
    "testing_data_x = X_test\n",
    "training_data_y = y_train.reshape(-1,1)\n",
    "testing_data_y = y_test.reshape(-1,1)"
   ]
  },
  {
   "cell_type": "code",
   "execution_count": 19,
   "id": "76951160",
   "metadata": {
    "execution": {
     "iopub.execute_input": "2022-06-22T00:43:20.572370Z",
     "iopub.status.busy": "2022-06-22T00:43:20.570855Z",
     "iopub.status.idle": "2022-06-22T00:43:20.590497Z",
     "shell.execute_reply": "2022-06-22T00:43:20.591093Z"
    },
    "papermill": {
     "duration": 0.061238,
     "end_time": "2022-06-22T00:43:20.591248",
     "exception": false,
     "start_time": "2022-06-22T00:43:20.530010",
     "status": "completed"
    },
    "tags": []
   },
   "outputs": [
    {
     "name": "stdout",
     "output_type": "stream",
     "text": [
      "xavier\n",
      "xavier\n",
      "xavier\n",
      "xavier\n",
      "xavier\n"
     ]
    }
   ],
   "source": [
    "layers = [Affine(\"first\", 784, 100), Relu(\"first\"), Affine(\"second\", 100, 100), Relu(\"second\"), Affine(\"third\", 100, 2), Affine(\"last\", 2, 1), Sigmoid(\"last\")]\n",
    "model_nn = Model(layers)\n",
    "model_lr = Model([Affine(\"logits\", 784, 1), Sigmoid(\"sigmoid\")])"
   ]
  },
  {
   "cell_type": "code",
   "execution_count": 20,
   "id": "6eede77a",
   "metadata": {
    "execution": {
     "iopub.execute_input": "2022-06-22T00:43:20.660945Z",
     "iopub.status.busy": "2022-06-22T00:43:20.660277Z",
     "iopub.status.idle": "2022-06-22T00:43:20.675340Z",
     "shell.execute_reply": "2022-06-22T00:43:20.676218Z"
    },
    "papermill": {
     "duration": 0.054064,
     "end_time": "2022-06-22T00:43:20.676379",
     "exception": false,
     "start_time": "2022-06-22T00:43:20.622315",
     "status": "completed"
    },
    "tags": []
   },
   "outputs": [],
   "source": [
    "nn_learner = Learner(loss, model_nn, opt, config.num_epochs)\n",
    "acc_nn = ClfCallback(nn_learner, config.bs, training_data_x , testing_data_x, training_data_y, testing_data_y)\n",
    "nn_learner.set_callbacks([acc_nn])"
   ]
  },
  {
   "cell_type": "code",
   "execution_count": 21,
   "id": "877b6cc7",
   "metadata": {
    "execution": {
     "iopub.execute_input": "2022-06-22T00:43:20.744909Z",
     "iopub.status.busy": "2022-06-22T00:43:20.744253Z",
     "iopub.status.idle": "2022-06-22T00:43:20.757893Z",
     "shell.execute_reply": "2022-06-22T00:43:20.757382Z"
    },
    "papermill": {
     "duration": 0.049201,
     "end_time": "2022-06-22T00:43:20.758006",
     "exception": false,
     "start_time": "2022-06-22T00:43:20.708805",
     "status": "completed"
    },
    "tags": []
   },
   "outputs": [],
   "source": [
    "lr_learner = Learner(loss, model_lr, opt, config.num_epochs)\n",
    "acc_lr = ClfCallback(lr_learner, config.bs, training_data_x , testing_data_x, training_data_y, testing_data_y)\n",
    "lr_learner.set_callbacks([acc_lr])"
   ]
  },
  {
   "cell_type": "code",
   "execution_count": 22,
   "id": "d9b133c3",
   "metadata": {
    "execution": {
     "iopub.execute_input": "2022-06-22T00:43:20.825912Z",
     "iopub.status.busy": "2022-06-22T00:43:20.825265Z",
     "iopub.status.idle": "2022-06-22T00:45:46.314536Z",
     "shell.execute_reply": "2022-06-22T00:45:46.315679Z"
    },
    "papermill": {
     "duration": 145.527037,
     "end_time": "2022-06-22T00:45:46.315881",
     "exception": false,
     "start_time": "2022-06-22T00:43:20.788844",
     "status": "completed"
    },
    "tags": []
   },
   "outputs": [
    {
     "name": "stdout",
     "output_type": "stream",
     "text": [
      "Epoch 0, Loss 0.2558\n",
      "Training Accuracy: 0.5462, Testing Accuracy: 0.5454\n",
      "\n"
     ]
    },
    {
     "name": "stdout",
     "output_type": "stream",
     "text": [
      "Epoch 10, Loss 0.0838\n",
      "Training Accuracy: 0.9312, Testing Accuracy: 0.9395\n",
      "\n"
     ]
    },
    {
     "name": "stdout",
     "output_type": "stream",
     "text": [
      "Epoch 20, Loss 0.0499\n",
      "Training Accuracy: 0.9523, Testing Accuracy: 0.9577\n",
      "\n"
     ]
    },
    {
     "name": "stdout",
     "output_type": "stream",
     "text": [
      "Epoch 30, Loss 0.0394\n",
      "Training Accuracy: 0.9594, Testing Accuracy: 0.9627\n",
      "\n"
     ]
    },
    {
     "name": "stdout",
     "output_type": "stream",
     "text": [
      "Epoch 40, Loss 0.0342\n",
      "Training Accuracy: 0.9645, Testing Accuracy: 0.9642\n",
      "\n"
     ]
    },
    {
     "name": "stdout",
     "output_type": "stream",
     "text": [
      "Epoch 50, Loss 0.0309\n",
      "Training Accuracy: 0.9674, Testing Accuracy: 0.9662\n",
      "\n"
     ]
    },
    {
     "name": "stdout",
     "output_type": "stream",
     "text": [
      "Epoch 60, Loss 0.0286\n",
      "Training Accuracy: 0.9692, Testing Accuracy: 0.9677\n",
      "\n"
     ]
    },
    {
     "name": "stdout",
     "output_type": "stream",
     "text": [
      "Epoch 70, Loss 0.0269\n",
      "Training Accuracy: 0.9710, Testing Accuracy: 0.9708\n",
      "\n"
     ]
    },
    {
     "name": "stdout",
     "output_type": "stream",
     "text": [
      "Epoch 80, Loss 0.0255\n",
      "Training Accuracy: 0.9725, Testing Accuracy: 0.9708\n",
      "\n"
     ]
    },
    {
     "name": "stdout",
     "output_type": "stream",
     "text": [
      "Epoch 90, Loss 0.0243\n",
      "Training Accuracy: 0.9728, Testing Accuracy: 0.9728\n",
      "\n"
     ]
    },
    {
     "name": "stdout",
     "output_type": "stream",
     "text": [
      "Epoch 100, Loss 0.0234\n",
      "Training Accuracy: 0.9736, Testing Accuracy: 0.9738\n",
      "\n"
     ]
    },
    {
     "name": "stdout",
     "output_type": "stream",
     "text": [
      "Epoch 110, Loss 0.0225\n",
      "Training Accuracy: 0.9742, Testing Accuracy: 0.9738\n",
      "\n"
     ]
    },
    {
     "name": "stdout",
     "output_type": "stream",
     "text": [
      "Epoch 120, Loss 0.0217\n",
      "Training Accuracy: 0.9751, Testing Accuracy: 0.9738\n",
      "\n"
     ]
    },
    {
     "name": "stdout",
     "output_type": "stream",
     "text": [
      "Epoch 130, Loss 0.0211\n",
      "Training Accuracy: 0.9760, Testing Accuracy: 0.9738\n",
      "\n"
     ]
    },
    {
     "name": "stdout",
     "output_type": "stream",
     "text": [
      "Epoch 140, Loss 0.0204\n",
      "Training Accuracy: 0.9767, Testing Accuracy: 0.9743\n",
      "\n"
     ]
    },
    {
     "name": "stdout",
     "output_type": "stream",
     "text": [
      "Epoch 150, Loss 0.0198\n",
      "Training Accuracy: 0.9775, Testing Accuracy: 0.9743\n",
      "\n"
     ]
    },
    {
     "name": "stdout",
     "output_type": "stream",
     "text": [
      "Epoch 160, Loss 0.0193\n",
      "Training Accuracy: 0.9786, Testing Accuracy: 0.9743\n",
      "\n"
     ]
    },
    {
     "name": "stdout",
     "output_type": "stream",
     "text": [
      "Epoch 170, Loss 0.0188\n",
      "Training Accuracy: 0.9791, Testing Accuracy: 0.9743\n",
      "\n"
     ]
    },
    {
     "name": "stdout",
     "output_type": "stream",
     "text": [
      "Epoch 180, Loss 0.0183\n",
      "Training Accuracy: 0.9801, Testing Accuracy: 0.9748\n",
      "\n"
     ]
    },
    {
     "name": "stdout",
     "output_type": "stream",
     "text": [
      "Epoch 190, Loss 0.0179\n",
      "Training Accuracy: 0.9802, Testing Accuracy: 0.9758\n",
      "\n"
     ]
    },
    {
     "name": "stdout",
     "output_type": "stream",
     "text": [
      "Epoch 200, Loss 0.0174\n",
      "Training Accuracy: 0.9808, Testing Accuracy: 0.9758\n",
      "\n"
     ]
    },
    {
     "name": "stdout",
     "output_type": "stream",
     "text": [
      "Epoch 210, Loss 0.017\n",
      "Training Accuracy: 0.9811, Testing Accuracy: 0.9763\n",
      "\n"
     ]
    },
    {
     "name": "stdout",
     "output_type": "stream",
     "text": [
      "Epoch 220, Loss 0.0166\n",
      "Training Accuracy: 0.9817, Testing Accuracy: 0.9768\n",
      "\n"
     ]
    },
    {
     "name": "stdout",
     "output_type": "stream",
     "text": [
      "Epoch 230, Loss 0.0162\n",
      "Training Accuracy: 0.9821, Testing Accuracy: 0.9768\n",
      "\n"
     ]
    },
    {
     "name": "stdout",
     "output_type": "stream",
     "text": [
      "Epoch 240, Loss 0.0159\n",
      "Training Accuracy: 0.9829, Testing Accuracy: 0.9768\n",
      "\n"
     ]
    },
    {
     "data": {
      "text/plain": [
       "0.003938904556792544"
      ]
     },
     "execution_count": 22,
     "metadata": {},
     "output_type": "execute_result"
    }
   ],
   "source": [
    "nn_learner.train_loop(dl)"
   ]
  },
  {
   "cell_type": "code",
   "execution_count": 23,
   "id": "e0163366",
   "metadata": {
    "execution": {
     "iopub.execute_input": "2022-06-22T00:45:46.457793Z",
     "iopub.status.busy": "2022-06-22T00:45:46.457012Z",
     "iopub.status.idle": "2022-06-22T00:46:07.636407Z",
     "shell.execute_reply": "2022-06-22T00:46:07.637466Z"
    },
    "papermill": {
     "duration": 21.272994,
     "end_time": "2022-06-22T00:46:07.637653",
     "exception": false,
     "start_time": "2022-06-22T00:45:46.364659",
     "status": "completed"
    },
    "tags": []
   },
   "outputs": [
    {
     "name": "stdout",
     "output_type": "stream",
     "text": [
      "Epoch 0, Loss 0.2752\n",
      "Training Accuracy: 0.5281, Testing Accuracy: 0.5101\n",
      "\n"
     ]
    },
    {
     "name": "stdout",
     "output_type": "stream",
     "text": [
      "Epoch 10, Loss 0.1031\n",
      "Training Accuracy: 0.9178, Testing Accuracy: 0.9234\n",
      "\n"
     ]
    },
    {
     "name": "stdout",
     "output_type": "stream",
     "text": [
      "Epoch 20, Loss 0.0784\n",
      "Training Accuracy: 0.9325, Testing Accuracy: 0.9430\n",
      "\n"
     ]
    },
    {
     "name": "stdout",
     "output_type": "stream",
     "text": [
      "Epoch 30, Loss 0.0675\n",
      "Training Accuracy: 0.9397, Testing Accuracy: 0.9506\n",
      "\n"
     ]
    },
    {
     "name": "stdout",
     "output_type": "stream",
     "text": [
      "Epoch 40, Loss 0.0609\n",
      "Training Accuracy: 0.9437, Testing Accuracy: 0.9551\n",
      "\n"
     ]
    },
    {
     "name": "stdout",
     "output_type": "stream",
     "text": [
      "Epoch 50, Loss 0.0565\n",
      "Training Accuracy: 0.9468, Testing Accuracy: 0.9572\n",
      "\n"
     ]
    },
    {
     "name": "stdout",
     "output_type": "stream",
     "text": [
      "Epoch 60, Loss 0.0533\n",
      "Training Accuracy: 0.9494, Testing Accuracy: 0.9597\n",
      "\n"
     ]
    },
    {
     "name": "stdout",
     "output_type": "stream",
     "text": [
      "Epoch 70, Loss 0.0508\n",
      "Training Accuracy: 0.9510, Testing Accuracy: 0.9637\n",
      "\n"
     ]
    },
    {
     "name": "stdout",
     "output_type": "stream",
     "text": [
      "Epoch 80, Loss 0.0488\n",
      "Training Accuracy: 0.9528, Testing Accuracy: 0.9642\n",
      "\n"
     ]
    },
    {
     "name": "stdout",
     "output_type": "stream",
     "text": [
      "Epoch 90, Loss 0.0471\n",
      "Training Accuracy: 0.9538, Testing Accuracy: 0.9647\n",
      "\n"
     ]
    },
    {
     "name": "stdout",
     "output_type": "stream",
     "text": [
      "Epoch 100, Loss 0.0458\n",
      "Training Accuracy: 0.9548, Testing Accuracy: 0.9657\n",
      "\n"
     ]
    },
    {
     "name": "stdout",
     "output_type": "stream",
     "text": [
      "Epoch 110, Loss 0.0446\n",
      "Training Accuracy: 0.9555, Testing Accuracy: 0.9657\n",
      "\n"
     ]
    },
    {
     "name": "stdout",
     "output_type": "stream",
     "text": [
      "Epoch 120, Loss 0.0435\n",
      "Training Accuracy: 0.9560, Testing Accuracy: 0.9662\n",
      "\n"
     ]
    },
    {
     "name": "stdout",
     "output_type": "stream",
     "text": [
      "Epoch 130, Loss 0.0426\n",
      "Training Accuracy: 0.9568, Testing Accuracy: 0.9662\n",
      "\n"
     ]
    },
    {
     "name": "stdout",
     "output_type": "stream",
     "text": [
      "Epoch 140, Loss 0.0418\n",
      "Training Accuracy: 0.9572, Testing Accuracy: 0.9662\n",
      "\n"
     ]
    },
    {
     "name": "stdout",
     "output_type": "stream",
     "text": [
      "Epoch 150, Loss 0.0411\n",
      "Training Accuracy: 0.9577, Testing Accuracy: 0.9667\n",
      "\n"
     ]
    },
    {
     "name": "stdout",
     "output_type": "stream",
     "text": [
      "Epoch 160, Loss 0.0404\n",
      "Training Accuracy: 0.9580, Testing Accuracy: 0.9672\n",
      "\n"
     ]
    },
    {
     "name": "stdout",
     "output_type": "stream",
     "text": [
      "Epoch 170, Loss 0.0398\n",
      "Training Accuracy: 0.9584, Testing Accuracy: 0.9672\n",
      "\n"
     ]
    },
    {
     "name": "stdout",
     "output_type": "stream",
     "text": [
      "Epoch 180, Loss 0.0393\n",
      "Training Accuracy: 0.9592, Testing Accuracy: 0.9672\n",
      "\n"
     ]
    },
    {
     "name": "stdout",
     "output_type": "stream",
     "text": [
      "Epoch 190, Loss 0.0388\n",
      "Training Accuracy: 0.9596, Testing Accuracy: 0.9672\n",
      "\n"
     ]
    },
    {
     "name": "stdout",
     "output_type": "stream",
     "text": [
      "Epoch 200, Loss 0.0383\n",
      "Training Accuracy: 0.9599, Testing Accuracy: 0.9672\n",
      "\n"
     ]
    },
    {
     "name": "stdout",
     "output_type": "stream",
     "text": [
      "Epoch 210, Loss 0.0379\n",
      "Training Accuracy: 0.9602, Testing Accuracy: 0.9672\n",
      "\n"
     ]
    },
    {
     "name": "stdout",
     "output_type": "stream",
     "text": [
      "Epoch 220, Loss 0.0375\n",
      "Training Accuracy: 0.9604, Testing Accuracy: 0.9677\n",
      "\n"
     ]
    },
    {
     "name": "stdout",
     "output_type": "stream",
     "text": [
      "Epoch 230, Loss 0.0371\n",
      "Training Accuracy: 0.9605, Testing Accuracy: 0.9682\n",
      "\n"
     ]
    },
    {
     "name": "stdout",
     "output_type": "stream",
     "text": [
      "Epoch 240, Loss 0.0368\n",
      "Training Accuracy: 0.9610, Testing Accuracy: 0.9677\n",
      "\n"
     ]
    },
    {
     "data": {
      "text/plain": [
       "0.03167357525704211"
      ]
     },
     "execution_count": 23,
     "metadata": {},
     "output_type": "execute_result"
    }
   ],
   "source": [
    "lr_learner.train_loop(dl)"
   ]
  },
  {
   "cell_type": "code",
   "execution_count": 24,
   "id": "ca410940",
   "metadata": {
    "execution": {
     "iopub.execute_input": "2022-06-22T00:46:07.756903Z",
     "iopub.status.busy": "2022-06-22T00:46:07.756115Z",
     "iopub.status.idle": "2022-06-22T00:46:08.101491Z",
     "shell.execute_reply": "2022-06-22T00:46:08.099097Z"
    },
    "papermill": {
     "duration": 0.407084,
     "end_time": "2022-06-22T00:46:08.101659",
     "exception": false,
     "start_time": "2022-06-22T00:46:07.694575",
     "status": "completed"
    },
    "tags": []
   },
   "outputs": [
    {
     "data": {
      "text/plain": [
       "<matplotlib.legend.Legend at 0x7fb1c93ccba8>"
      ]
     },
     "execution_count": 24,
     "metadata": {},
     "output_type": "execute_result"
    },
    {
     "data": {
      "image/png": "[encoded data removed]",
      "text/plain": [
       "<Figure size 1080x720 with 1 Axes>"
      ]
     },
     "metadata": {
      "needs_background": "light"
     },
     "output_type": "display_data"
    }
   ],
   "source": [
    "#comparing the results of NN and LR\n",
    "plt.figure(figsize=(15,10))\n",
    "\n",
    "# Neural Network plots\n",
    "plt.plot(acc_nn.accuracies, 'r-', label = \"Training Accuracies - NN\")\n",
    "plt.plot(acc_nn.test_accuracies, 'g-', label = \"Testing Accuracies - NN\")\n",
    "\n",
    "# Logistic Regression plots\n",
    "plt.plot(acc_lr.accuracies, 'k-', label = \"Training Accuracies - LR\")\n",
    "plt.plot(acc_lr.test_accuracies, 'b-', label = \"Testing Accuracies - LR\")\n",
    "plt.legend()"
   ]
  },
  {
   "cell_type": "markdown",
   "id": "80dfb35c",
   "metadata": {
    "papermill": {
     "duration": 0.061228,
     "end_time": "2022-06-22T00:46:08.223060",
     "exception": false,
     "start_time": "2022-06-22T00:46:08.161832",
     "status": "completed"
    },
    "tags": []
   },
   "source": [
    "#### Plotting the outputs of this layer of the NN.\n"
   ]
  },
  {
   "cell_type": "code",
   "execution_count": 25,
   "id": "45eb2ff5",
   "metadata": {
    "execution": {
     "iopub.execute_input": "2022-06-22T00:46:08.348693Z",
     "iopub.status.busy": "2022-06-22T00:46:08.347379Z",
     "iopub.status.idle": "2022-06-22T00:46:08.379169Z",
     "shell.execute_reply": "2022-06-22T00:46:08.380306Z"
    },
    "papermill": {
     "duration": 0.099022,
     "end_time": "2022-06-22T00:46:08.380499",
     "exception": false,
     "start_time": "2022-06-22T00:46:08.281477",
     "status": "completed"
    },
    "tags": []
   },
   "outputs": [],
   "source": [
    "new_model = Model(layers[:-2])\n",
    "testing_plot = new_model(testing_data_x)"
   ]
  },
  {
   "cell_type": "code",
   "execution_count": 26,
   "id": "4c0a5485",
   "metadata": {
    "execution": {
     "iopub.execute_input": "2022-06-22T00:46:08.503697Z",
     "iopub.status.busy": "2022-06-22T00:46:08.502797Z",
     "iopub.status.idle": "2022-06-22T00:46:08.765180Z",
     "shell.execute_reply": "2022-06-22T00:46:08.764408Z"
    },
    "papermill": {
     "duration": 0.326895,
     "end_time": "2022-06-22T00:46:08.765346",
     "exception": false,
     "start_time": "2022-06-22T00:46:08.438451",
     "status": "completed"
    },
    "tags": []
   },
   "outputs": [
    {
     "data": {
      "text/plain": [
       "Text(0.5, 1.0, 'Outputs')"
      ]
     },
     "execution_count": 26,
     "metadata": {},
     "output_type": "execute_result"
    },
    {
     "data": {
      "image/png": "[encoded data removed]",
      "text/plain": [
       "<Figure size 576x504 with 1 Axes>"
      ]
     },
     "metadata": {
      "needs_background": "light"
     },
     "output_type": "display_data"
    }
   ],
   "source": [
    "# Plotting the scatter plot of points and color coding by class\n",
    "plt.figure(figsize=(8,7))\n",
    "plt.scatter(testing_plot[:,0], testing_plot[:,1], alpha = 0.1, c = y_test.ravel());\n",
    "plt.title('Outputs')"
   ]
  },
  {
   "cell_type": "markdown",
   "id": "a74fcf8f",
   "metadata": {
    "papermill": {
     "duration": 0.091782,
     "end_time": "2022-06-22T00:46:08.919748",
     "exception": false,
     "start_time": "2022-06-22T00:46:08.827966",
     "status": "completed"
    },
    "tags": []
   },
   "source": [
    "Probability contours"
   ]
  },
  {
   "cell_type": "code",
   "execution_count": 27,
   "id": "d0afc8e3",
   "metadata": {
    "execution": {
     "iopub.execute_input": "2022-06-22T00:46:09.046882Z",
     "iopub.status.busy": "2022-06-22T00:46:09.045979Z",
     "iopub.status.idle": "2022-06-22T00:46:09.061931Z",
     "shell.execute_reply": "2022-06-22T00:46:09.061285Z"
    },
    "papermill": {
     "duration": 0.081075,
     "end_time": "2022-06-22T00:46:09.062079",
     "exception": false,
     "start_time": "2022-06-22T00:46:08.981004",
     "status": "completed"
    },
    "tags": []
   },
   "outputs": [],
   "source": [
    "model_prob = Model(layers[-2:]) "
   ]
  },
  {
   "cell_type": "code",
   "execution_count": 28,
   "id": "9b96e238",
   "metadata": {
    "execution": {
     "iopub.execute_input": "2022-06-22T00:46:09.197323Z",
     "iopub.status.busy": "2022-06-22T00:46:09.196530Z",
     "iopub.status.idle": "2022-06-22T00:46:09.215776Z",
     "shell.execute_reply": "2022-06-22T00:46:09.216400Z"
    },
    "papermill": {
     "duration": 0.090462,
     "end_time": "2022-06-22T00:46:09.216586",
     "exception": false,
     "start_time": "2022-06-22T00:46:09.126124",
     "status": "completed"
    },
    "tags": []
   },
   "outputs": [],
   "source": [
    "#creating the x and y ranges according to the above generated plot.\n",
    "x_range = np.linspace(-4, 1, 100) \n",
    "y_range = np.linspace(-6, 6, 100) \n",
    "x_grid, y_grid = np.meshgrid(x_range, y_range) # x_grid and y_grig are of size 100 X 100\n",
    "\n",
    "# converting x_grid and y_grid to continuous arrays\n",
    "x_gridflat = np.ravel(x_grid)\n",
    "y_gridflat = np.ravel(y_grid)\n",
    "\n",
    "# The last layer of the current model takes two columns as input. Hence transpose of np.vstack() is required.\n",
    "X = np.vstack((x_gridflat, y_gridflat)).T\n",
    "\n",
    "prob_contour = model_prob(X).reshape(100,100) "
   ]
  },
  {
   "cell_type": "code",
   "execution_count": 29,
   "id": "da72499a",
   "metadata": {
    "execution": {
     "iopub.execute_input": "2022-06-22T00:46:09.346808Z",
     "iopub.status.busy": "2022-06-22T00:46:09.346022Z",
     "iopub.status.idle": "2022-06-22T00:46:09.684730Z",
     "shell.execute_reply": "2022-06-22T00:46:09.683605Z"
    },
    "papermill": {
     "duration": 0.40938,
     "end_time": "2022-06-22T00:46:09.684901",
     "exception": false,
     "start_time": "2022-06-22T00:46:09.275521",
     "status": "completed"
    },
    "tags": []
   },
   "outputs": [
    {
     "data": {
      "image/png": "[encoded data removed]",
      "text/plain": [
       "<Figure size 720x648 with 1 Axes>"
      ]
     },
     "metadata": {
      "needs_background": "light"
     },
     "output_type": "display_data"
    }
   ],
   "source": [
    "plt.figure(figsize=(10,9))\n",
    "plt.scatter(testing_plot[:,0], testing_plot[:,1], alpha = 0.1, c = y_test.ravel())\n",
    "contours = plt.contour(x_grid,y_grid,prob_contour)\n",
    "plt.title('Probability Contours')\n",
    "plt.clabel(contours, inline = True );"
   ]
  },
  {
   "cell_type": "code",
   "execution_count": null,
   "id": "e81b4ac7",
   "metadata": {
    "papermill": {
     "duration": 0.064335,
     "end_time": "2022-06-22T00:46:09.812857",
     "exception": false,
     "start_time": "2022-06-22T00:46:09.748522",
     "status": "completed"
    },
    "tags": []
   },
   "outputs": [],
   "source": []
  }
 ],
 "metadata": {
  "kernelspec": {
   "display_name": "Python 3",
   "language": "python",
   "name": "python3"
  },
  "language_info": {
   "codemirror_mode": {
    "name": "ipython",
    "version": 3
   },
   "file_extension": ".py",
   "mimetype": "text/x-python",
   "name": "python",
   "nbconvert_exporter": "python",
   "pygments_lexer": "ipython3",
   "version": "3.6.15"
  },
  "papermill": {
   "default_parameters": {},
   "duration": 178.957713,
   "end_time": "2022-06-22T00:46:10.402227",
   "environment_variables": {},
   "exception": null,
   "input_path": "2020-08-11-part2.ipynb",
   "output_path": "2020-08-11-part2.ipynb",
   "parameters": {},
   "start_time": "2022-06-22T00:43:11.444514",
   "version": "2.3.3"
  }
 },
 "nbformat": 4,
 "nbformat_minor": 5
}