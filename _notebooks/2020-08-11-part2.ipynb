{
 "cells": [
  {
   "cell_type": "markdown",
   "id": "98380cd3",
   "metadata": {
    "papermill": {
     "duration": 0.025741,
     "end_time": "2022-01-01T10:08:28.572265",
     "exception": false,
     "start_time": "2022-01-01T10:08:28.546524",
     "status": "completed"
    },
    "tags": []
   },
   "source": [
    "# Distinguish Your Own Digits (DYOD)"
   ]
  },
  {
   "cell_type": "markdown",
   "id": "ef31240d",
   "metadata": {
    "papermill": {
     "duration": 0.020804,
     "end_time": "2022-01-01T10:08:28.614636",
     "exception": false,
     "start_time": "2022-01-01T10:08:28.593832",
     "status": "completed"
    },
    "tags": []
   },
   "source": [
    "You are going to write a classifier that distinguishes between the number 3 and number 8."
   ]
  },
  {
   "cell_type": "code",
   "execution_count": 1,
   "id": "b15c8646",
   "metadata": {
    "execution": {
     "iopub.execute_input": "2022-01-01T10:08:28.667728Z",
     "iopub.status.busy": "2022-01-01T10:08:28.667240Z",
     "iopub.status.idle": "2022-01-01T10:08:28.676323Z",
     "shell.execute_reply": "2022-01-01T10:08:28.676744Z"
    },
    "papermill": {
     "duration": 0.040062,
     "end_time": "2022-01-01T10:08:28.676881",
     "exception": false,
     "start_time": "2022-01-01T10:08:28.636819",
     "status": "completed"
    },
    "tags": []
   },
   "outputs": [],
   "source": [
    "%load_ext autoreload\n",
    "%autoreload 2"
   ]
  },
  {
   "cell_type": "code",
   "execution_count": 2,
   "id": "22ef38dc",
   "metadata": {
    "execution": {
     "iopub.execute_input": "2022-01-01T10:08:28.722609Z",
     "iopub.status.busy": "2022-01-01T10:08:28.722144Z",
     "iopub.status.idle": "2022-01-01T10:08:29.248519Z",
     "shell.execute_reply": "2022-01-01T10:08:29.249035Z"
    },
    "papermill": {
     "duration": 0.551335,
     "end_time": "2022-01-01T10:08:29.249215",
     "exception": false,
     "start_time": "2022-01-01T10:08:28.697880",
     "status": "completed"
    },
    "tags": []
   },
   "outputs": [],
   "source": [
    "%matplotlib inline\n",
    "import numpy as np\n",
    "import matplotlib.pyplot as plt\n",
    "import pandas as pd"
   ]
  },
  {
   "cell_type": "markdown",
   "id": "ba036198",
   "metadata": {
    "papermill": {
     "duration": 0.021215,
     "end_time": "2022-01-01T10:08:29.293899",
     "exception": false,
     "start_time": "2022-01-01T10:08:29.272684",
     "status": "completed"
    },
    "tags": []
   },
   "source": [
    "From the command line run `pip install mnist`. This is a library that will help you bring down the mnist dataset. If you run this from a notebook, you need to put  `!pip install mnist` in a cell by itself."
   ]
  },
  {
   "cell_type": "code",
   "execution_count": 3,
   "id": "bb6ad8a1",
   "metadata": {
    "execution": {
     "iopub.execute_input": "2022-01-01T10:08:29.353089Z",
     "iopub.status.busy": "2022-01-01T10:08:29.349175Z",
     "iopub.status.idle": "2022-01-01T10:08:30.931482Z",
     "shell.execute_reply": "2022-01-01T10:08:30.930927Z"
    },
    "papermill": {
     "duration": 1.616587,
     "end_time": "2022-01-01T10:08:30.931629",
     "exception": false,
     "start_time": "2022-01-01T10:08:29.315042",
     "status": "completed"
    },
    "tags": []
   },
   "outputs": [
    {
     "name": "stdout",
     "output_type": "stream",
     "text": [
      "Collecting mnist\r\n"
     ]
    },
    {
     "name": "stdout",
     "output_type": "stream",
     "text": [
      "  Downloading mnist-0.2.2-py2.py3-none-any.whl (3.5 kB)\r\n",
      "Requirement already satisfied: numpy in /opt/hostedtoolcache/Python/3.6.15/x64/lib/python3.6/site-packages (from mnist) (1.19.5)\r\n"
     ]
    },
    {
     "name": "stdout",
     "output_type": "stream",
     "text": [
      "Installing collected packages: mnist\r\n"
     ]
    },
    {
     "name": "stdout",
     "output_type": "stream",
     "text": [
      "Successfully installed mnist-0.2.2\r\n"
     ]
    }
   ],
   "source": [
    "!pip install mnist"
   ]
  },
  {
   "cell_type": "markdown",
   "id": "69df9c9a",
   "metadata": {
    "papermill": {
     "duration": 0.021981,
     "end_time": "2022-01-01T10:08:30.977458",
     "exception": false,
     "start_time": "2022-01-01T10:08:30.955477",
     "status": "completed"
    },
    "tags": []
   },
   "source": [
    "## Preparing the Data"
   ]
  },
  {
   "cell_type": "code",
   "execution_count": 4,
   "id": "7f69d806",
   "metadata": {
    "execution": {
     "iopub.execute_input": "2022-01-01T10:08:31.028575Z",
     "iopub.status.busy": "2022-01-01T10:08:31.028067Z",
     "iopub.status.idle": "2022-01-01T10:08:31.040150Z",
     "shell.execute_reply": "2022-01-01T10:08:31.039757Z"
    },
    "papermill": {
     "duration": 0.040934,
     "end_time": "2022-01-01T10:08:31.040263",
     "exception": false,
     "start_time": "2022-01-01T10:08:30.999329",
     "status": "completed"
    },
    "tags": []
   },
   "outputs": [],
   "source": [
    "import mnist"
   ]
  },
  {
   "cell_type": "code",
   "execution_count": 5,
   "id": "a411e44f",
   "metadata": {
    "execution": {
     "iopub.execute_input": "2022-01-01T10:08:31.090712Z",
     "iopub.status.busy": "2022-01-01T10:08:31.090235Z",
     "iopub.status.idle": "2022-01-01T10:08:31.712557Z",
     "shell.execute_reply": "2022-01-01T10:08:31.711942Z"
    },
    "papermill": {
     "duration": 0.650151,
     "end_time": "2022-01-01T10:08:31.712709",
     "exception": false,
     "start_time": "2022-01-01T10:08:31.062558",
     "status": "completed"
    },
    "tags": []
   },
   "outputs": [],
   "source": [
    "train_images = mnist.train_images()\n",
    "train_labels = mnist.train_labels()"
   ]
  },
  {
   "cell_type": "code",
   "execution_count": 6,
   "id": "dceab3a5",
   "metadata": {
    "execution": {
     "iopub.execute_input": "2022-01-01T10:08:31.761564Z",
     "iopub.status.busy": "2022-01-01T10:08:31.761094Z",
     "iopub.status.idle": "2022-01-01T10:08:31.775457Z",
     "shell.execute_reply": "2022-01-01T10:08:31.775059Z"
    },
    "papermill": {
     "duration": 0.040063,
     "end_time": "2022-01-01T10:08:31.775563",
     "exception": false,
     "start_time": "2022-01-01T10:08:31.735500",
     "status": "completed"
    },
    "tags": []
   },
   "outputs": [
    {
     "data": {
      "text/plain": [
       "((60000, 28, 28), (60000,))"
      ]
     },
     "execution_count": 6,
     "metadata": {},
     "output_type": "execute_result"
    }
   ],
   "source": [
    "train_images.shape, train_labels.shape"
   ]
  },
  {
   "cell_type": "code",
   "execution_count": 7,
   "id": "f50dc2bb",
   "metadata": {
    "execution": {
     "iopub.execute_input": "2022-01-01T10:08:31.836087Z",
     "iopub.status.busy": "2022-01-01T10:08:31.835566Z",
     "iopub.status.idle": "2022-01-01T10:08:32.030344Z",
     "shell.execute_reply": "2022-01-01T10:08:32.029908Z"
    },
    "papermill": {
     "duration": 0.232668,
     "end_time": "2022-01-01T10:08:32.030469",
     "exception": false,
     "start_time": "2022-01-01T10:08:31.797801",
     "status": "completed"
    },
    "tags": []
   },
   "outputs": [],
   "source": [
    "test_images = mnist.test_images()\n",
    "test_labels = mnist.test_labels()"
   ]
  },
  {
   "cell_type": "code",
   "execution_count": 8,
   "id": "fc38cf1b",
   "metadata": {
    "execution": {
     "iopub.execute_input": "2022-01-01T10:08:32.079107Z",
     "iopub.status.busy": "2022-01-01T10:08:32.078633Z",
     "iopub.status.idle": "2022-01-01T10:08:32.091866Z",
     "shell.execute_reply": "2022-01-01T10:08:32.091486Z"
    },
    "papermill": {
     "duration": 0.038922,
     "end_time": "2022-01-01T10:08:32.091975",
     "exception": false,
     "start_time": "2022-01-01T10:08:32.053053",
     "status": "completed"
    },
    "tags": []
   },
   "outputs": [
    {
     "data": {
      "text/plain": [
       "((10000, 28, 28), (10000,))"
      ]
     },
     "execution_count": 8,
     "metadata": {},
     "output_type": "execute_result"
    }
   ],
   "source": [
    "test_images.shape, test_labels.shape"
   ]
  },
  {
   "cell_type": "code",
   "execution_count": 9,
   "id": "f9ed8fe0",
   "metadata": {
    "execution": {
     "iopub.execute_input": "2022-01-01T10:08:32.141089Z",
     "iopub.status.busy": "2022-01-01T10:08:32.140614Z",
     "iopub.status.idle": "2022-01-01T10:08:32.285681Z",
     "shell.execute_reply": "2022-01-01T10:08:32.286059Z"
    },
    "papermill": {
     "duration": 0.171809,
     "end_time": "2022-01-01T10:08:32.286197",
     "exception": false,
     "start_time": "2022-01-01T10:08:32.114388",
     "status": "completed"
    },
    "tags": []
   },
   "outputs": [
    {
     "name": "stdout",
     "output_type": "stream",
     "text": [
      "2\n"
     ]
    },
    {
     "data": {
      "text/plain": [
       "<matplotlib.image.AxesImage at 0x7f73609c23c8>"
      ]
     },
     "execution_count": 9,
     "metadata": {},
     "output_type": "execute_result"
    },
    {
     "data": {
      "image/png": "[encoded data removed]",
      "text/plain": [
       "<Figure size 432x288 with 1 Axes>"
      ]
     },
     "metadata": {
      "needs_background": "light"
     },
     "output_type": "display_data"
    }
   ],
   "source": [
    "image_index = 7776 # You may select anything up to 60,000\n",
    "print(train_labels[image_index]) \n",
    "plt.imshow(train_images[image_index], cmap='Greys')"
   ]
  },
  {
   "cell_type": "markdown",
   "id": "a8d2388d",
   "metadata": {
    "papermill": {
     "duration": 0.023562,
     "end_time": "2022-01-01T10:08:32.333210",
     "exception": false,
     "start_time": "2022-01-01T10:08:32.309648",
     "status": "completed"
    },
    "tags": []
   },
   "source": [
    "## Filter data to get 3 and 8 out"
   ]
  },
  {
   "cell_type": "code",
   "execution_count": 10,
   "id": "776f7fc7",
   "metadata": {
    "execution": {
     "iopub.execute_input": "2022-01-01T10:08:32.387361Z",
     "iopub.status.busy": "2022-01-01T10:08:32.386867Z",
     "iopub.status.idle": "2022-01-01T10:08:32.404714Z",
     "shell.execute_reply": "2022-01-01T10:08:32.404284Z"
    },
    "papermill": {
     "duration": 0.048369,
     "end_time": "2022-01-01T10:08:32.404832",
     "exception": false,
     "start_time": "2022-01-01T10:08:32.356463",
     "status": "completed"
    },
    "tags": []
   },
   "outputs": [],
   "source": [
    "train_filter = np.where((train_labels == 3 ) | (train_labels == 8))\n",
    "test_filter = np.where((test_labels == 3) | (test_labels == 8))\n",
    "X_train, y_train = train_images[train_filter], train_labels[train_filter]\n",
    "X_test, y_test = test_images[test_filter], test_labels[test_filter]"
   ]
  },
  {
   "cell_type": "markdown",
   "id": "948f0b7e",
   "metadata": {
    "papermill": {
     "duration": 0.023135,
     "end_time": "2022-01-01T10:08:32.451391",
     "exception": false,
     "start_time": "2022-01-01T10:08:32.428256",
     "status": "completed"
    },
    "tags": []
   },
   "source": [
    "We normalize the pizel values in the 0 to 1 range"
   ]
  },
  {
   "cell_type": "code",
   "execution_count": 11,
   "id": "ee4c2166",
   "metadata": {
    "execution": {
     "iopub.execute_input": "2022-01-01T10:08:32.501926Z",
     "iopub.status.busy": "2022-01-01T10:08:32.501439Z",
     "iopub.status.idle": "2022-01-01T10:08:32.546677Z",
     "shell.execute_reply": "2022-01-01T10:08:32.546102Z"
    },
    "papermill": {
     "duration": 0.071977,
     "end_time": "2022-01-01T10:08:32.546823",
     "exception": false,
     "start_time": "2022-01-01T10:08:32.474846",
     "status": "completed"
    },
    "tags": []
   },
   "outputs": [],
   "source": [
    "X_train = X_train/255.\n",
    "X_test = X_test/255."
   ]
  },
  {
   "cell_type": "markdown",
   "id": "ddcf4fab",
   "metadata": {
    "papermill": {
     "duration": 0.023137,
     "end_time": "2022-01-01T10:08:32.594476",
     "exception": false,
     "start_time": "2022-01-01T10:08:32.571339",
     "status": "completed"
    },
    "tags": []
   },
   "source": [
    "And setup the labels as 1 (when the digit is 3) and 0 (when the digit is 8)"
   ]
  },
  {
   "cell_type": "code",
   "execution_count": 12,
   "id": "7dc908f2",
   "metadata": {
    "execution": {
     "iopub.execute_input": "2022-01-01T10:08:32.649271Z",
     "iopub.status.busy": "2022-01-01T10:08:32.648786Z",
     "iopub.status.idle": "2022-01-01T10:08:32.658201Z",
     "shell.execute_reply": "2022-01-01T10:08:32.657819Z"
    },
    "papermill": {
     "duration": 0.040711,
     "end_time": "2022-01-01T10:08:32.658309",
     "exception": false,
     "start_time": "2022-01-01T10:08:32.617598",
     "status": "completed"
    },
    "tags": []
   },
   "outputs": [],
   "source": [
    "y_train = 1*(y_train==3)\n",
    "y_test = 1*(y_test==3)"
   ]
  },
  {
   "cell_type": "code",
   "execution_count": 13,
   "id": "01e4e969",
   "metadata": {
    "execution": {
     "iopub.execute_input": "2022-01-01T10:08:32.707840Z",
     "iopub.status.busy": "2022-01-01T10:08:32.707386Z",
     "iopub.status.idle": "2022-01-01T10:08:32.719951Z",
     "shell.execute_reply": "2022-01-01T10:08:32.720371Z"
    },
    "papermill": {
     "duration": 0.038971,
     "end_time": "2022-01-01T10:08:32.720497",
     "exception": false,
     "start_time": "2022-01-01T10:08:32.681526",
     "status": "completed"
    },
    "tags": []
   },
   "outputs": [
    {
     "data": {
      "text/plain": [
       "((11982, 28, 28), (1984, 28, 28))"
      ]
     },
     "execution_count": 13,
     "metadata": {},
     "output_type": "execute_result"
    }
   ],
   "source": [
    "X_train.shape, X_test.shape"
   ]
  },
  {
   "cell_type": "markdown",
   "id": "5ccf3f85",
   "metadata": {
    "papermill": {
     "duration": 0.023225,
     "end_time": "2022-01-01T10:08:32.767095",
     "exception": false,
     "start_time": "2022-01-01T10:08:32.743870",
     "status": "completed"
    },
    "tags": []
   },
   "source": [
    "We reshape the data to flatten the image pixels into a set of features or co-variates:"
   ]
  },
  {
   "cell_type": "code",
   "execution_count": 14,
   "id": "5286a4a3",
   "metadata": {
    "execution": {
     "iopub.execute_input": "2022-01-01T10:08:32.817999Z",
     "iopub.status.busy": "2022-01-01T10:08:32.817124Z",
     "iopub.status.idle": "2022-01-01T10:08:32.831615Z",
     "shell.execute_reply": "2022-01-01T10:08:32.831205Z"
    },
    "papermill": {
     "duration": 0.041047,
     "end_time": "2022-01-01T10:08:32.831715",
     "exception": false,
     "start_time": "2022-01-01T10:08:32.790668",
     "status": "completed"
    },
    "tags": []
   },
   "outputs": [
    {
     "data": {
      "text/plain": [
       "((11982, 784), (1984, 784))"
      ]
     },
     "execution_count": 14,
     "metadata": {},
     "output_type": "execute_result"
    }
   ],
   "source": [
    "X_train = X_train.reshape(X_train.shape[0], -1)\n",
    "X_test = X_test.reshape(X_test.shape[0], -1)\n",
    "X_train.shape, X_test.shape"
   ]
  },
  {
   "cell_type": "code",
   "execution_count": 15,
   "id": "73c5f88a",
   "metadata": {
    "execution": {
     "iopub.execute_input": "2022-01-01T10:08:32.883491Z",
     "iopub.status.busy": "2022-01-01T10:08:32.883012Z",
     "iopub.status.idle": "2022-01-01T10:08:32.898674Z",
     "shell.execute_reply": "2022-01-01T10:08:32.899022Z"
    },
    "papermill": {
     "duration": 0.043903,
     "end_time": "2022-01-01T10:08:32.899146",
     "exception": false,
     "start_time": "2022-01-01T10:08:32.855243",
     "status": "completed"
    },
    "tags": []
   },
   "outputs": [],
   "source": [
    "#Impoting functions from 'Kudzu'\n",
    "from kudzu.model import Model\n",
    "from kudzu.train import Learner\n",
    "from kudzu.optim import GD\n",
    "from kudzu.data import Data, Sampler,Dataloader\n",
    "\n",
    "from kudzu.callbacks import AccCallback\n",
    "from kudzu.callbacks import ClfCallback\n",
    "\n",
    "from kudzu.loss import MSE\n",
    "\n",
    "from kudzu.layer import Sigmoid,Relu\n",
    "from kudzu.layer import Affine"
   ]
  },
  {
   "cell_type": "markdown",
   "id": "bc01172a",
   "metadata": {
    "papermill": {
     "duration": 0.023565,
     "end_time": "2022-01-01T10:08:32.946493",
     "exception": false,
     "start_time": "2022-01-01T10:08:32.922928",
     "status": "completed"
    },
    "tags": []
   },
   "source": [
    "### Let us create a `Config` class, to store important parameters. \n",
    "This class essentially plays the role of a dictionary."
   ]
  },
  {
   "cell_type": "code",
   "execution_count": 16,
   "id": "978281aa",
   "metadata": {
    "execution": {
     "iopub.execute_input": "2022-01-01T10:08:33.000290Z",
     "iopub.status.busy": "2022-01-01T10:08:32.999812Z",
     "iopub.status.idle": "2022-01-01T10:08:33.009507Z",
     "shell.execute_reply": "2022-01-01T10:08:33.009129Z"
    },
    "papermill": {
     "duration": 0.039429,
     "end_time": "2022-01-01T10:08:33.009613",
     "exception": false,
     "start_time": "2022-01-01T10:08:32.970184",
     "status": "completed"
    },
    "tags": []
   },
   "outputs": [],
   "source": [
    "class Config:\n",
    "    pass\n",
    "config = Config()\n",
    "config.lr = 0.001\n",
    "config.num_epochs = 250\n",
    "config.bs = 50"
   ]
  },
  {
   "cell_type": "markdown",
   "id": "1385fa59",
   "metadata": {
    "papermill": {
     "duration": 0.02343,
     "end_time": "2022-01-01T10:08:33.056885",
     "exception": false,
     "start_time": "2022-01-01T10:08:33.033455",
     "status": "completed"
    },
    "tags": []
   },
   "source": [
    "### Running Models with the Training data\n",
    "Details about the network layers:\n",
    "- A first affine layer has 784 inputs and does 100 affine transforms. These are followed by a Relu\n",
    "- A second affine layer has 100 inputs from the 100 activations of the past layer, and does 100 affine transforms. These are followed by a Relu\n",
    "- A third affine layer has 100 activations and does 2 affine transformations to create an embedding for visualization. There is no non-linearity here.\n",
    "- A final \"logistic regression\" which has an affine transform from 2 inputs to 1 output, which is squeezed through a sigmoid.\n"
   ]
  },
  {
   "cell_type": "code",
   "execution_count": 17,
   "id": "2b9c66db",
   "metadata": {
    "execution": {
     "iopub.execute_input": "2022-01-01T10:08:33.108365Z",
     "iopub.status.busy": "2022-01-01T10:08:33.107870Z",
     "iopub.status.idle": "2022-01-01T10:08:33.119800Z",
     "shell.execute_reply": "2022-01-01T10:08:33.119400Z"
    },
    "papermill": {
     "duration": 0.039226,
     "end_time": "2022-01-01T10:08:33.119900",
     "exception": false,
     "start_time": "2022-01-01T10:08:33.080674",
     "status": "completed"
    },
    "tags": []
   },
   "outputs": [],
   "source": [
    "data = Data(X_train, y_train.reshape(-1,1))\n",
    "sampler = Sampler(data, config.bs, shuffle=True)\n",
    "\n",
    "dl = Dataloader(data, sampler)\n",
    "\n",
    "opt = GD(config.lr)\n",
    "loss = MSE()"
   ]
  },
  {
   "cell_type": "code",
   "execution_count": 18,
   "id": "b275e4c2",
   "metadata": {
    "execution": {
     "iopub.execute_input": "2022-01-01T10:08:33.170862Z",
     "iopub.status.busy": "2022-01-01T10:08:33.170395Z",
     "iopub.status.idle": "2022-01-01T10:08:33.181389Z",
     "shell.execute_reply": "2022-01-01T10:08:33.181759Z"
    },
    "papermill": {
     "duration": 0.038301,
     "end_time": "2022-01-01T10:08:33.181879",
     "exception": false,
     "start_time": "2022-01-01T10:08:33.143578",
     "status": "completed"
    },
    "tags": []
   },
   "outputs": [],
   "source": [
    "training_data_x = X_train\n",
    "testing_data_x = X_test\n",
    "training_data_y = y_train.reshape(-1,1)\n",
    "testing_data_y = y_test.reshape(-1,1)"
   ]
  },
  {
   "cell_type": "code",
   "execution_count": 19,
   "id": "76951160",
   "metadata": {
    "execution": {
     "iopub.execute_input": "2022-01-01T10:08:33.235587Z",
     "iopub.status.busy": "2022-01-01T10:08:33.235112Z",
     "iopub.status.idle": "2022-01-01T10:08:33.249158Z",
     "shell.execute_reply": "2022-01-01T10:08:33.248785Z"
    },
    "papermill": {
     "duration": 0.043818,
     "end_time": "2022-01-01T10:08:33.249261",
     "exception": false,
     "start_time": "2022-01-01T10:08:33.205443",
     "status": "completed"
    },
    "tags": []
   },
   "outputs": [
    {
     "name": "stdout",
     "output_type": "stream",
     "text": [
      "xavier\n",
      "xavier\n",
      "xavier\n",
      "xavier\n",
      "xavier\n"
     ]
    }
   ],
   "source": [
    "layers = [Affine(\"first\", 784, 100), Relu(\"first\"), Affine(\"second\", 100, 100), Relu(\"second\"), Affine(\"third\", 100, 2), Affine(\"last\", 2, 1), Sigmoid(\"last\")]\n",
    "model_nn = Model(layers)\n",
    "model_lr = Model([Affine(\"logits\", 784, 1), Sigmoid(\"sigmoid\")])"
   ]
  },
  {
   "cell_type": "code",
   "execution_count": 20,
   "id": "6eede77a",
   "metadata": {
    "execution": {
     "iopub.execute_input": "2022-01-01T10:08:33.304825Z",
     "iopub.status.busy": "2022-01-01T10:08:33.304351Z",
     "iopub.status.idle": "2022-01-01T10:08:33.313640Z",
     "shell.execute_reply": "2022-01-01T10:08:33.313276Z"
    },
    "papermill": {
     "duration": 0.040364,
     "end_time": "2022-01-01T10:08:33.313741",
     "exception": false,
     "start_time": "2022-01-01T10:08:33.273377",
     "status": "completed"
    },
    "tags": []
   },
   "outputs": [],
   "source": [
    "nn_learner = Learner(loss, model_nn, opt, config.num_epochs)\n",
    "acc_nn = ClfCallback(nn_learner, config.bs, training_data_x , testing_data_x, training_data_y, testing_data_y)\n",
    "nn_learner.set_callbacks([acc_nn])"
   ]
  },
  {
   "cell_type": "code",
   "execution_count": 21,
   "id": "877b6cc7",
   "metadata": {
    "execution": {
     "iopub.execute_input": "2022-01-01T10:08:33.369428Z",
     "iopub.status.busy": "2022-01-01T10:08:33.368925Z",
     "iopub.status.idle": "2022-01-01T10:08:33.379298Z",
     "shell.execute_reply": "2022-01-01T10:08:33.378917Z"
    },
    "papermill": {
     "duration": 0.041758,
     "end_time": "2022-01-01T10:08:33.379405",
     "exception": false,
     "start_time": "2022-01-01T10:08:33.337647",
     "status": "completed"
    },
    "tags": []
   },
   "outputs": [],
   "source": [
    "lr_learner = Learner(loss, model_lr, opt, config.num_epochs)\n",
    "acc_lr = ClfCallback(lr_learner, config.bs, training_data_x , testing_data_x, training_data_y, testing_data_y)\n",
    "lr_learner.set_callbacks([acc_lr])"
   ]
  },
  {
   "cell_type": "code",
   "execution_count": 22,
   "id": "d9b133c3",
   "metadata": {
    "execution": {
     "iopub.execute_input": "2022-01-01T10:08:33.438344Z",
     "iopub.status.busy": "2022-01-01T10:08:33.437874Z",
     "iopub.status.idle": "2022-01-01T10:09:51.393481Z",
     "shell.execute_reply": "2022-01-01T10:09:51.394193Z"
    },
    "papermill": {
     "duration": 77.990792,
     "end_time": "2022-01-01T10:09:51.394343",
     "exception": false,
     "start_time": "2022-01-01T10:08:33.403551",
     "status": "completed"
    },
    "tags": []
   },
   "outputs": [
    {
     "name": "stdout",
     "output_type": "stream",
     "text": [
      "Epoch 0, Loss 0.2404\n",
      "Training Accuracy: 0.6914, Testing Accuracy: 0.7122\n",
      "\n"
     ]
    },
    {
     "name": "stdout",
     "output_type": "stream",
     "text": [
      "Epoch 10, Loss 0.0761\n",
      "Training Accuracy: 0.9262, Testing Accuracy: 0.9335\n",
      "\n"
     ]
    },
    {
     "name": "stdout",
     "output_type": "stream",
     "text": [
      "Epoch 20, Loss 0.0509\n",
      "Training Accuracy: 0.9467, Testing Accuracy: 0.9541\n",
      "\n"
     ]
    },
    {
     "name": "stdout",
     "output_type": "stream",
     "text": [
      "Epoch 30, Loss 0.0416\n",
      "Training Accuracy: 0.9529, Testing Accuracy: 0.9597\n",
      "\n"
     ]
    },
    {
     "name": "stdout",
     "output_type": "stream",
     "text": [
      "Epoch 40, Loss 0.0367\n",
      "Training Accuracy: 0.9583, Testing Accuracy: 0.9647\n",
      "\n"
     ]
    },
    {
     "name": "stdout",
     "output_type": "stream",
     "text": [
      "Epoch 50, Loss 0.0335\n",
      "Training Accuracy: 0.9611, Testing Accuracy: 0.9667\n",
      "\n"
     ]
    },
    {
     "name": "stdout",
     "output_type": "stream",
     "text": [
      "Epoch 60, Loss 0.0312\n",
      "Training Accuracy: 0.9637, Testing Accuracy: 0.9688\n",
      "\n"
     ]
    },
    {
     "name": "stdout",
     "output_type": "stream",
     "text": [
      "Epoch 70, Loss 0.0295\n",
      "Training Accuracy: 0.9661, Testing Accuracy: 0.9693\n",
      "\n"
     ]
    },
    {
     "name": "stdout",
     "output_type": "stream",
     "text": [
      "Epoch 80, Loss 0.0281\n",
      "Training Accuracy: 0.9686, Testing Accuracy: 0.9693\n",
      "\n"
     ]
    },
    {
     "name": "stdout",
     "output_type": "stream",
     "text": [
      "Epoch 90, Loss 0.0269\n",
      "Training Accuracy: 0.9693, Testing Accuracy: 0.9713\n",
      "\n"
     ]
    },
    {
     "name": "stdout",
     "output_type": "stream",
     "text": [
      "Epoch 100, Loss 0.0259\n",
      "Training Accuracy: 0.9704, Testing Accuracy: 0.9718\n",
      "\n"
     ]
    },
    {
     "name": "stdout",
     "output_type": "stream",
     "text": [
      "Epoch 110, Loss 0.025\n",
      "Training Accuracy: 0.9715, Testing Accuracy: 0.9733\n",
      "\n"
     ]
    },
    {
     "name": "stdout",
     "output_type": "stream",
     "text": [
      "Epoch 120, Loss 0.0242\n",
      "Training Accuracy: 0.9723, Testing Accuracy: 0.9733\n",
      "\n"
     ]
    },
    {
     "name": "stdout",
     "output_type": "stream",
     "text": [
      "Epoch 130, Loss 0.0235\n",
      "Training Accuracy: 0.9733, Testing Accuracy: 0.9733\n",
      "\n"
     ]
    },
    {
     "name": "stdout",
     "output_type": "stream",
     "text": [
      "Epoch 140, Loss 0.0228\n",
      "Training Accuracy: 0.9737, Testing Accuracy: 0.9728\n",
      "\n"
     ]
    },
    {
     "name": "stdout",
     "output_type": "stream",
     "text": [
      "Epoch 150, Loss 0.0222\n",
      "Training Accuracy: 0.9749, Testing Accuracy: 0.9733\n",
      "\n"
     ]
    },
    {
     "name": "stdout",
     "output_type": "stream",
     "text": [
      "Epoch 160, Loss 0.0217\n",
      "Training Accuracy: 0.9754, Testing Accuracy: 0.9748\n",
      "\n"
     ]
    },
    {
     "name": "stdout",
     "output_type": "stream",
     "text": [
      "Epoch 170, Loss 0.0211\n",
      "Training Accuracy: 0.9759, Testing Accuracy: 0.9753\n",
      "\n"
     ]
    },
    {
     "name": "stdout",
     "output_type": "stream",
     "text": [
      "Epoch 180, Loss 0.0206\n",
      "Training Accuracy: 0.9767, Testing Accuracy: 0.9753\n",
      "\n"
     ]
    },
    {
     "name": "stdout",
     "output_type": "stream",
     "text": [
      "Epoch 190, Loss 0.0201\n",
      "Training Accuracy: 0.9767, Testing Accuracy: 0.9748\n",
      "\n"
     ]
    },
    {
     "name": "stdout",
     "output_type": "stream",
     "text": [
      "Epoch 200, Loss 0.0196\n",
      "Training Accuracy: 0.9773, Testing Accuracy: 0.9753\n",
      "\n"
     ]
    },
    {
     "name": "stdout",
     "output_type": "stream",
     "text": [
      "Epoch 210, Loss 0.0192\n",
      "Training Accuracy: 0.9782, Testing Accuracy: 0.9758\n",
      "\n"
     ]
    },
    {
     "name": "stdout",
     "output_type": "stream",
     "text": [
      "Epoch 220, Loss 0.0188\n",
      "Training Accuracy: 0.9789, Testing Accuracy: 0.9763\n",
      "\n"
     ]
    },
    {
     "name": "stdout",
     "output_type": "stream",
     "text": [
      "Epoch 230, Loss 0.0184\n",
      "Training Accuracy: 0.9795, Testing Accuracy: 0.9773\n",
      "\n"
     ]
    },
    {
     "name": "stdout",
     "output_type": "stream",
     "text": [
      "Epoch 240, Loss 0.018\n",
      "Training Accuracy: 0.9801, Testing Accuracy: 0.9778\n",
      "\n"
     ]
    },
    {
     "data": {
      "text/plain": [
       "0.00939099499040096"
      ]
     },
     "execution_count": 22,
     "metadata": {},
     "output_type": "execute_result"
    }
   ],
   "source": [
    "nn_learner.train_loop(dl)"
   ]
  },
  {
   "cell_type": "code",
   "execution_count": 23,
   "id": "e0163366",
   "metadata": {
    "execution": {
     "iopub.execute_input": "2022-01-01T10:09:51.468880Z",
     "iopub.status.busy": "2022-01-01T10:09:51.468357Z",
     "iopub.status.idle": "2022-01-01T10:10:05.225021Z",
     "shell.execute_reply": "2022-01-01T10:10:05.225686Z"
    },
    "papermill": {
     "duration": 13.800561,
     "end_time": "2022-01-01T10:10:05.225833",
     "exception": false,
     "start_time": "2022-01-01T10:09:51.425272",
     "status": "completed"
    },
    "tags": []
   },
   "outputs": [
    {
     "name": "stdout",
     "output_type": "stream",
     "text": [
      "Epoch 0, Loss 0.2285\n",
      "Training Accuracy: 0.7648, Testing Accuracy: 0.7752\n",
      "\n"
     ]
    },
    {
     "name": "stdout",
     "output_type": "stream",
     "text": [
      "Epoch 10, Loss 0.0987\n",
      "Training Accuracy: 0.9166, Testing Accuracy: 0.9259\n",
      "\n"
     ]
    },
    {
     "name": "stdout",
     "output_type": "stream",
     "text": [
      "Epoch 20, Loss 0.0768\n",
      "Training Accuracy: 0.9306, Testing Accuracy: 0.9415\n",
      "\n"
     ]
    },
    {
     "name": "stdout",
     "output_type": "stream",
     "text": [
      "Epoch 30, Loss 0.0667\n",
      "Training Accuracy: 0.9380, Testing Accuracy: 0.9506\n",
      "\n"
     ]
    },
    {
     "name": "stdout",
     "output_type": "stream",
     "text": [
      "Epoch 40, Loss 0.0605\n",
      "Training Accuracy: 0.9420, Testing Accuracy: 0.9516\n",
      "\n"
     ]
    },
    {
     "name": "stdout",
     "output_type": "stream",
     "text": [
      "Epoch 50, Loss 0.0563\n",
      "Training Accuracy: 0.9456, Testing Accuracy: 0.9551\n",
      "\n"
     ]
    },
    {
     "name": "stdout",
     "output_type": "stream",
     "text": [
      "Epoch 60, Loss 0.0532\n",
      "Training Accuracy: 0.9481, Testing Accuracy: 0.9556\n",
      "\n"
     ]
    },
    {
     "name": "stdout",
     "output_type": "stream",
     "text": [
      "Epoch 70, Loss 0.0508\n",
      "Training Accuracy: 0.9498, Testing Accuracy: 0.9556\n",
      "\n"
     ]
    },
    {
     "name": "stdout",
     "output_type": "stream",
     "text": [
      "Epoch 80, Loss 0.0488\n",
      "Training Accuracy: 0.9506, Testing Accuracy: 0.9567\n",
      "\n"
     ]
    },
    {
     "name": "stdout",
     "output_type": "stream",
     "text": [
      "Epoch 90, Loss 0.0472\n",
      "Training Accuracy: 0.9519, Testing Accuracy: 0.9607\n",
      "\n"
     ]
    },
    {
     "name": "stdout",
     "output_type": "stream",
     "text": [
      "Epoch 100, Loss 0.0458\n",
      "Training Accuracy: 0.9537, Testing Accuracy: 0.9607\n",
      "\n"
     ]
    },
    {
     "name": "stdout",
     "output_type": "stream",
     "text": [
      "Epoch 110, Loss 0.0446\n",
      "Training Accuracy: 0.9551, Testing Accuracy: 0.9617\n",
      "\n"
     ]
    },
    {
     "name": "stdout",
     "output_type": "stream",
     "text": [
      "Epoch 120, Loss 0.0436\n",
      "Training Accuracy: 0.9562, Testing Accuracy: 0.9622\n",
      "\n"
     ]
    },
    {
     "name": "stdout",
     "output_type": "stream",
     "text": [
      "Epoch 130, Loss 0.0427\n",
      "Training Accuracy: 0.9568, Testing Accuracy: 0.9627\n",
      "\n"
     ]
    },
    {
     "name": "stdout",
     "output_type": "stream",
     "text": [
      "Epoch 140, Loss 0.0419\n",
      "Training Accuracy: 0.9579, Testing Accuracy: 0.9642\n",
      "\n"
     ]
    },
    {
     "name": "stdout",
     "output_type": "stream",
     "text": [
      "Epoch 150, Loss 0.0411\n",
      "Training Accuracy: 0.9592, Testing Accuracy: 0.9642\n",
      "\n"
     ]
    },
    {
     "name": "stdout",
     "output_type": "stream",
     "text": [
      "Epoch 160, Loss 0.0405\n",
      "Training Accuracy: 0.9600, Testing Accuracy: 0.9647\n",
      "\n"
     ]
    },
    {
     "name": "stdout",
     "output_type": "stream",
     "text": [
      "Epoch 170, Loss 0.0399\n",
      "Training Accuracy: 0.9604, Testing Accuracy: 0.9657\n",
      "\n"
     ]
    },
    {
     "name": "stdout",
     "output_type": "stream",
     "text": [
      "Epoch 180, Loss 0.0393\n",
      "Training Accuracy: 0.9605, Testing Accuracy: 0.9667\n",
      "\n"
     ]
    },
    {
     "name": "stdout",
     "output_type": "stream",
     "text": [
      "Epoch 190, Loss 0.0388\n",
      "Training Accuracy: 0.9607, Testing Accuracy: 0.9667\n",
      "\n"
     ]
    },
    {
     "name": "stdout",
     "output_type": "stream",
     "text": [
      "Epoch 200, Loss 0.0383\n",
      "Training Accuracy: 0.9611, Testing Accuracy: 0.9672\n",
      "\n"
     ]
    },
    {
     "name": "stdout",
     "output_type": "stream",
     "text": [
      "Epoch 210, Loss 0.0379\n",
      "Training Accuracy: 0.9613, Testing Accuracy: 0.9667\n",
      "\n"
     ]
    },
    {
     "name": "stdout",
     "output_type": "stream",
     "text": [
      "Epoch 220, Loss 0.0375\n",
      "Training Accuracy: 0.9614, Testing Accuracy: 0.9667\n",
      "\n"
     ]
    },
    {
     "name": "stdout",
     "output_type": "stream",
     "text": [
      "Epoch 230, Loss 0.0371\n",
      "Training Accuracy: 0.9619, Testing Accuracy: 0.9672\n",
      "\n"
     ]
    },
    {
     "name": "stdout",
     "output_type": "stream",
     "text": [
      "Epoch 240, Loss 0.0367\n",
      "Training Accuracy: 0.9620, Testing Accuracy: 0.9672\n",
      "\n"
     ]
    },
    {
     "data": {
      "text/plain": [
       "0.019722718618144914"
      ]
     },
     "execution_count": 23,
     "metadata": {},
     "output_type": "execute_result"
    }
   ],
   "source": [
    "lr_learner.train_loop(dl)"
   ]
  },
  {
   "cell_type": "code",
   "execution_count": 24,
   "id": "ca410940",
   "metadata": {
    "execution": {
     "iopub.execute_input": "2022-01-01T10:10:05.309525Z",
     "iopub.status.busy": "2022-01-01T10:10:05.309033Z",
     "iopub.status.idle": "2022-01-01T10:10:05.509632Z",
     "shell.execute_reply": "2022-01-01T10:10:05.509102Z"
    },
    "papermill": {
     "duration": 0.247292,
     "end_time": "2022-01-01T10:10:05.509767",
     "exception": false,
     "start_time": "2022-01-01T10:10:05.262475",
     "status": "completed"
    },
    "tags": []
   },
   "outputs": [
    {
     "data": {
      "text/plain": [
       "<matplotlib.legend.Legend at 0x7f736059ea90>"
      ]
     },
     "execution_count": 24,
     "metadata": {},
     "output_type": "execute_result"
    },
    {
     "data": {
      "image/png": "[encoded data removed]",
      "text/plain": [
       "<Figure size 1080x720 with 1 Axes>"
      ]
     },
     "metadata": {
      "needs_background": "light"
     },
     "output_type": "display_data"
    }
   ],
   "source": [
    "#comparing the results of NN and LR\n",
    "plt.figure(figsize=(15,10))\n",
    "\n",
    "# Neural Network plots\n",
    "plt.plot(acc_nn.accuracies, 'r-', label = \"Training Accuracies - NN\")\n",
    "plt.plot(acc_nn.test_accuracies, 'g-', label = \"Testing Accuracies - NN\")\n",
    "\n",
    "# Logistic Regression plots\n",
    "plt.plot(acc_lr.accuracies, 'k-', label = \"Training Accuracies - LR\")\n",
    "plt.plot(acc_lr.test_accuracies, 'b-', label = \"Testing Accuracies - LR\")\n",
    "plt.legend()"
   ]
  },
  {
   "cell_type": "markdown",
   "id": "80dfb35c",
   "metadata": {
    "papermill": {
     "duration": 0.037687,
     "end_time": "2022-01-01T10:10:05.586831",
     "exception": false,
     "start_time": "2022-01-01T10:10:05.549144",
     "status": "completed"
    },
    "tags": []
   },
   "source": [
    "#### Plotting the outputs of this layer of the NN.\n"
   ]
  },
  {
   "cell_type": "code",
   "execution_count": 25,
   "id": "45eb2ff5",
   "metadata": {
    "execution": {
     "iopub.execute_input": "2022-01-01T10:10:05.667477Z",
     "iopub.status.busy": "2022-01-01T10:10:05.666975Z",
     "iopub.status.idle": "2022-01-01T10:10:05.684981Z",
     "shell.execute_reply": "2022-01-01T10:10:05.685376Z"
    },
    "papermill": {
     "duration": 0.061654,
     "end_time": "2022-01-01T10:10:05.685517",
     "exception": false,
     "start_time": "2022-01-01T10:10:05.623863",
     "status": "completed"
    },
    "tags": []
   },
   "outputs": [],
   "source": [
    "new_model = Model(layers[:-2])\n",
    "testing_plot = new_model(testing_data_x)"
   ]
  },
  {
   "cell_type": "code",
   "execution_count": 26,
   "id": "4c0a5485",
   "metadata": {
    "execution": {
     "iopub.execute_input": "2022-01-01T10:10:05.765715Z",
     "iopub.status.busy": "2022-01-01T10:10:05.765248Z",
     "iopub.status.idle": "2022-01-01T10:10:05.943009Z",
     "shell.execute_reply": "2022-01-01T10:10:05.942581Z"
    },
    "papermill": {
     "duration": 0.219952,
     "end_time": "2022-01-01T10:10:05.943128",
     "exception": false,
     "start_time": "2022-01-01T10:10:05.723176",
     "status": "completed"
    },
    "tags": []
   },
   "outputs": [
    {
     "data": {
      "text/plain": [
       "Text(0.5, 1.0, 'Outputs')"
      ]
     },
     "execution_count": 26,
     "metadata": {},
     "output_type": "execute_result"
    },
    {
     "data": {
      "image/png": "[encoded data removed]",
      "text/plain": [
       "<Figure size 576x504 with 1 Axes>"
      ]
     },
     "metadata": {
      "needs_background": "light"
     },
     "output_type": "display_data"
    }
   ],
   "source": [
    "# Plotting the scatter plot of points and color coding by class\n",
    "plt.figure(figsize=(8,7))\n",
    "plt.scatter(testing_plot[:,0], testing_plot[:,1], alpha = 0.1, c = y_test.ravel());\n",
    "plt.title('Outputs')"
   ]
  },
  {
   "cell_type": "markdown",
   "id": "a74fcf8f",
   "metadata": {
    "papermill": {
     "duration": 0.039324,
     "end_time": "2022-01-01T10:10:06.022155",
     "exception": false,
     "start_time": "2022-01-01T10:10:05.982831",
     "status": "completed"
    },
    "tags": []
   },
   "source": [
    "Probability contours"
   ]
  },
  {
   "cell_type": "code",
   "execution_count": 27,
   "id": "d0afc8e3",
   "metadata": {
    "execution": {
     "iopub.execute_input": "2022-01-01T10:10:06.106335Z",
     "iopub.status.busy": "2022-01-01T10:10:06.105829Z",
     "iopub.status.idle": "2022-01-01T10:10:06.116232Z",
     "shell.execute_reply": "2022-01-01T10:10:06.115743Z"
    },
    "papermill": {
     "duration": 0.054651,
     "end_time": "2022-01-01T10:10:06.116360",
     "exception": false,
     "start_time": "2022-01-01T10:10:06.061709",
     "status": "completed"
    },
    "tags": []
   },
   "outputs": [],
   "source": [
    "model_prob = Model(layers[-2:]) "
   ]
  },
  {
   "cell_type": "code",
   "execution_count": 28,
   "id": "9b96e238",
   "metadata": {
    "execution": {
     "iopub.execute_input": "2022-01-01T10:10:06.232711Z",
     "iopub.status.busy": "2022-01-01T10:10:06.231883Z",
     "iopub.status.idle": "2022-01-01T10:10:06.244848Z",
     "shell.execute_reply": "2022-01-01T10:10:06.245219Z"
    },
    "papermill": {
     "duration": 0.089522,
     "end_time": "2022-01-01T10:10:06.245347",
     "exception": false,
     "start_time": "2022-01-01T10:10:06.155825",
     "status": "completed"
    },
    "tags": []
   },
   "outputs": [],
   "source": [
    "#creating the x and y ranges according to the above generated plot.\n",
    "x_range = np.linspace(-4, 1, 100) \n",
    "y_range = np.linspace(-6, 6, 100) \n",
    "x_grid, y_grid = np.meshgrid(x_range, y_range) # x_grid and y_grig are of size 100 X 100\n",
    "\n",
    "# converting x_grid and y_grid to continuous arrays\n",
    "x_gridflat = np.ravel(x_grid)\n",
    "y_gridflat = np.ravel(y_grid)\n",
    "\n",
    "# The last layer of the current model takes two columns as input. Hence transpose of np.vstack() is required.\n",
    "X = np.vstack((x_gridflat, y_gridflat)).T\n",
    "\n",
    "prob_contour = model_prob(X).reshape(100,100) "
   ]
  },
  {
   "cell_type": "code",
   "execution_count": 29,
   "id": "da72499a",
   "metadata": {
    "execution": {
     "iopub.execute_input": "2022-01-01T10:10:06.328812Z",
     "iopub.status.busy": "2022-01-01T10:10:06.328288Z",
     "iopub.status.idle": "2022-01-01T10:10:06.550869Z",
     "shell.execute_reply": "2022-01-01T10:10:06.551276Z"
    },
    "papermill": {
     "duration": 0.266446,
     "end_time": "2022-01-01T10:10:06.551417",
     "exception": false,
     "start_time": "2022-01-01T10:10:06.284971",
     "status": "completed"
    },
    "tags": []
   },
   "outputs": [
    {
     "data": {
      "image/png": "[encoded data removed]",
      "text/plain": [
       "<Figure size 720x648 with 1 Axes>"
      ]
     },
     "metadata": {
      "needs_background": "light"
     },
     "output_type": "display_data"
    }
   ],
   "source": [
    "plt.figure(figsize=(10,9))\n",
    "plt.scatter(testing_plot[:,0], testing_plot[:,1], alpha = 0.1, c = y_test.ravel())\n",
    "contours = plt.contour(x_grid,y_grid,prob_contour)\n",
    "plt.title('Probability Contours')\n",
    "plt.clabel(contours, inline = True );"
   ]
  },
  {
   "cell_type": "code",
   "execution_count": null,
   "id": "e81b4ac7",
   "metadata": {
    "papermill": {
     "duration": 0.042339,
     "end_time": "2022-01-01T10:10:06.637214",
     "exception": false,
     "start_time": "2022-01-01T10:10:06.594875",
     "status": "completed"
    },
    "tags": []
   },
   "outputs": [],
   "source": []
  }
 ],
 "metadata": {
  "kernelspec": {
   "display_name": "Python 3",
   "language": "python",
   "name": "python3"
  },
  "language_info": {
   "codemirror_mode": {
    "name": "ipython",
    "version": 3
   },
   "file_extension": ".py",
   "mimetype": "text/x-python",
   "name": "python",
   "nbconvert_exporter": "python",
   "pygments_lexer": "ipython3",
   "version": "3.6.15"
  },
  "papermill": {
   "default_parameters": {},
   "duration": 99.623839,
   "end_time": "2022-01-01T10:10:07.088158",
   "environment_variables": {},
   "exception": null,
   "input_path": "2020-08-11-part2.ipynb",
   "output_path": "2020-08-11-part2.ipynb",
   "parameters": {},
   "start_time": "2022-01-01T10:08:27.464319",
   "version": "2.3.3"
  }
 },
 "nbformat": 4,
 "nbformat_minor": 5
}