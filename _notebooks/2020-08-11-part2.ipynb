{
 "cells": [
  {
   "cell_type": "markdown",
   "id": "98380cd3",
   "metadata": {
    "papermill": {
     "duration": 0.033655,
     "end_time": "2022-11-22T10:10:52.855220",
     "exception": false,
     "start_time": "2022-11-22T10:10:52.821565",
     "status": "completed"
    },
    "tags": []
   },
   "source": [
    "# Distinguish Your Own Digits (DYOD)"
   ]
  },
  {
   "cell_type": "markdown",
   "id": "ef31240d",
   "metadata": {
    "papermill": {
     "duration": 0.026678,
     "end_time": "2022-11-22T10:10:52.909483",
     "exception": false,
     "start_time": "2022-11-22T10:10:52.882805",
     "status": "completed"
    },
    "tags": []
   },
   "source": [
    "You are going to write a classifier that distinguishes between the number 3 and number 8."
   ]
  },
  {
   "cell_type": "code",
   "execution_count": 1,
   "id": "b15c8646",
   "metadata": {
    "execution": {
     "iopub.execute_input": "2022-11-22T10:10:52.975365Z",
     "iopub.status.busy": "2022-11-22T10:10:52.974653Z",
     "iopub.status.idle": "2022-11-22T10:10:52.987106Z",
     "shell.execute_reply": "2022-11-22T10:10:52.986537Z"
    },
    "papermill": {
     "duration": 0.051153,
     "end_time": "2022-11-22T10:10:52.987250",
     "exception": false,
     "start_time": "2022-11-22T10:10:52.936097",
     "status": "completed"
    },
    "tags": []
   },
   "outputs": [],
   "source": [
    "%load_ext autoreload\n",
    "%autoreload 2"
   ]
  },
  {
   "cell_type": "code",
   "execution_count": 2,
   "id": "22ef38dc",
   "metadata": {
    "execution": {
     "iopub.execute_input": "2022-11-22T10:10:53.048581Z",
     "iopub.status.busy": "2022-11-22T10:10:53.047866Z",
     "iopub.status.idle": "2022-11-22T10:10:53.673656Z",
     "shell.execute_reply": "2022-11-22T10:10:53.672418Z"
    },
    "papermill": {
     "duration": 0.659571,
     "end_time": "2022-11-22T10:10:53.673869",
     "exception": false,
     "start_time": "2022-11-22T10:10:53.014298",
     "status": "completed"
    },
    "tags": []
   },
   "outputs": [],
   "source": [
    "%matplotlib inline\n",
    "import numpy as np\n",
    "import matplotlib.pyplot as plt\n",
    "import pandas as pd"
   ]
  },
  {
   "cell_type": "markdown",
   "id": "ba036198",
   "metadata": {
    "papermill": {
     "duration": 0.026832,
     "end_time": "2022-11-22T10:10:53.728995",
     "exception": false,
     "start_time": "2022-11-22T10:10:53.702163",
     "status": "completed"
    },
    "tags": []
   },
   "source": [
    "From the command line run `pip install mnist`. This is a library that will help you bring down the mnist dataset. If you run this from a notebook, you need to put  `!pip install mnist` in a cell by itself."
   ]
  },
  {
   "cell_type": "code",
   "execution_count": 3,
   "id": "bb6ad8a1",
   "metadata": {
    "execution": {
     "iopub.execute_input": "2022-11-22T10:10:53.789731Z",
     "iopub.status.busy": "2022-11-22T10:10:53.789014Z",
     "iopub.status.idle": "2022-11-22T10:10:55.688107Z",
     "shell.execute_reply": "2022-11-22T10:10:55.687352Z"
    },
    "papermill": {
     "duration": 1.932634,
     "end_time": "2022-11-22T10:10:55.688263",
     "exception": false,
     "start_time": "2022-11-22T10:10:53.755629",
     "status": "completed"
    },
    "tags": []
   },
   "outputs": [
    {
     "name": "stdout",
     "output_type": "stream",
     "text": [
      "Collecting mnist\r\n"
     ]
    },
    {
     "name": "stdout",
     "output_type": "stream",
     "text": [
      "  Downloading mnist-0.2.2-py2.py3-none-any.whl (3.5 kB)\r\n",
      "Requirement already satisfied: numpy in /opt/hostedtoolcache/Python/3.6.15/x64/lib/python3.6/site-packages (from mnist) (1.19.5)\r\n"
     ]
    },
    {
     "name": "stdout",
     "output_type": "stream",
     "text": [
      "Installing collected packages: mnist\r\n",
      "Successfully installed mnist-0.2.2\r\n"
     ]
    }
   ],
   "source": [
    "!pip install mnist"
   ]
  },
  {
   "cell_type": "markdown",
   "id": "69df9c9a",
   "metadata": {
    "papermill": {
     "duration": 0.028232,
     "end_time": "2022-11-22T10:10:55.745368",
     "exception": false,
     "start_time": "2022-11-22T10:10:55.717136",
     "status": "completed"
    },
    "tags": []
   },
   "source": [
    "## Preparing the Data"
   ]
  },
  {
   "cell_type": "code",
   "execution_count": 4,
   "id": "7f69d806",
   "metadata": {
    "execution": {
     "iopub.execute_input": "2022-11-22T10:10:55.810287Z",
     "iopub.status.busy": "2022-11-22T10:10:55.809590Z",
     "iopub.status.idle": "2022-11-22T10:10:55.824407Z",
     "shell.execute_reply": "2022-11-22T10:10:55.823833Z"
    },
    "papermill": {
     "duration": 0.051519,
     "end_time": "2022-11-22T10:10:55.824533",
     "exception": false,
     "start_time": "2022-11-22T10:10:55.773014",
     "status": "completed"
    },
    "tags": []
   },
   "outputs": [],
   "source": [
    "import mnist"
   ]
  },
  {
   "cell_type": "code",
   "execution_count": 5,
   "id": "a411e44f",
   "metadata": {
    "execution": {
     "iopub.execute_input": "2022-11-22T10:10:55.885174Z",
     "iopub.status.busy": "2022-11-22T10:10:55.884413Z",
     "iopub.status.idle": "2022-11-22T10:10:56.525484Z",
     "shell.execute_reply": "2022-11-22T10:10:56.523989Z"
    },
    "papermill": {
     "duration": 0.673328,
     "end_time": "2022-11-22T10:10:56.525705",
     "exception": false,
     "start_time": "2022-11-22T10:10:55.852377",
     "status": "completed"
    },
    "tags": []
   },
   "outputs": [],
   "source": [
    "train_images = mnist.train_images()\n",
    "train_labels = mnist.train_labels()"
   ]
  },
  {
   "cell_type": "code",
   "execution_count": 6,
   "id": "dceab3a5",
   "metadata": {
    "execution": {
     "iopub.execute_input": "2022-11-22T10:10:56.588754Z",
     "iopub.status.busy": "2022-11-22T10:10:56.588032Z",
     "iopub.status.idle": "2022-11-22T10:10:56.604699Z",
     "shell.execute_reply": "2022-11-22T10:10:56.604128Z"
    },
    "papermill": {
     "duration": 0.050755,
     "end_time": "2022-11-22T10:10:56.604830",
     "exception": false,
     "start_time": "2022-11-22T10:10:56.554075",
     "status": "completed"
    },
    "tags": []
   },
   "outputs": [
    {
     "data": {
      "text/plain": [
       "((60000, 28, 28), (60000,))"
      ]
     },
     "execution_count": 6,
     "metadata": {},
     "output_type": "execute_result"
    }
   ],
   "source": [
    "train_images.shape, train_labels.shape"
   ]
  },
  {
   "cell_type": "code",
   "execution_count": 7,
   "id": "f50dc2bb",
   "metadata": {
    "execution": {
     "iopub.execute_input": "2022-11-22T10:10:56.670496Z",
     "iopub.status.busy": "2022-11-22T10:10:56.669803Z",
     "iopub.status.idle": "2022-11-22T10:10:56.889702Z",
     "shell.execute_reply": "2022-11-22T10:10:56.888751Z"
    },
    "papermill": {
     "duration": 0.256365,
     "end_time": "2022-11-22T10:10:56.889903",
     "exception": false,
     "start_time": "2022-11-22T10:10:56.633538",
     "status": "completed"
    },
    "tags": []
   },
   "outputs": [],
   "source": [
    "test_images = mnist.test_images()\n",
    "test_labels = mnist.test_labels()"
   ]
  },
  {
   "cell_type": "code",
   "execution_count": 8,
   "id": "fc38cf1b",
   "metadata": {
    "execution": {
     "iopub.execute_input": "2022-11-22T10:10:56.953146Z",
     "iopub.status.busy": "2022-11-22T10:10:56.952464Z",
     "iopub.status.idle": "2022-11-22T10:10:56.968709Z",
     "shell.execute_reply": "2022-11-22T10:10:56.968032Z"
    },
    "papermill": {
     "duration": 0.049347,
     "end_time": "2022-11-22T10:10:56.968837",
     "exception": false,
     "start_time": "2022-11-22T10:10:56.919490",
     "status": "completed"
    },
    "tags": []
   },
   "outputs": [
    {
     "data": {
      "text/plain": [
       "((10000, 28, 28), (10000,))"
      ]
     },
     "execution_count": 8,
     "metadata": {},
     "output_type": "execute_result"
    }
   ],
   "source": [
    "test_images.shape, test_labels.shape"
   ]
  },
  {
   "cell_type": "code",
   "execution_count": 9,
   "id": "f9ed8fe0",
   "metadata": {
    "execution": {
     "iopub.execute_input": "2022-11-22T10:10:57.036285Z",
     "iopub.status.busy": "2022-11-22T10:10:57.035546Z",
     "iopub.status.idle": "2022-11-22T10:10:57.194390Z",
     "shell.execute_reply": "2022-11-22T10:10:57.193808Z"
    },
    "papermill": {
     "duration": 0.197205,
     "end_time": "2022-11-22T10:10:57.194520",
     "exception": false,
     "start_time": "2022-11-22T10:10:56.997315",
     "status": "completed"
    },
    "tags": []
   },
   "outputs": [
    {
     "name": "stdout",
     "output_type": "stream",
     "text": [
      "2\n"
     ]
    },
    {
     "data": {
      "text/plain": [
       "<matplotlib.image.AxesImage at 0x7ff80281dcc0>"
      ]
     },
     "execution_count": 9,
     "metadata": {},
     "output_type": "execute_result"
    },
    {
     "data": {
      "image/png": "[encoded data removed]",
      "text/plain": [
       "<Figure size 432x288 with 1 Axes>"
      ]
     },
     "metadata": {
      "needs_background": "light"
     },
     "output_type": "display_data"
    }
   ],
   "source": [
    "image_index = 7776 # You may select anything up to 60,000\n",
    "print(train_labels[image_index]) \n",
    "plt.imshow(train_images[image_index], cmap='Greys')"
   ]
  },
  {
   "cell_type": "markdown",
   "id": "a8d2388d",
   "metadata": {
    "papermill": {
     "duration": 0.03032,
     "end_time": "2022-11-22T10:10:57.254722",
     "exception": false,
     "start_time": "2022-11-22T10:10:57.224402",
     "status": "completed"
    },
    "tags": []
   },
   "source": [
    "## Filter data to get 3 and 8 out"
   ]
  },
  {
   "cell_type": "code",
   "execution_count": 10,
   "id": "776f7fc7",
   "metadata": {
    "execution": {
     "iopub.execute_input": "2022-11-22T10:10:57.320645Z",
     "iopub.status.busy": "2022-11-22T10:10:57.319936Z",
     "iopub.status.idle": "2022-11-22T10:10:57.341809Z",
     "shell.execute_reply": "2022-11-22T10:10:57.341234Z"
    },
    "papermill": {
     "duration": 0.057606,
     "end_time": "2022-11-22T10:10:57.341940",
     "exception": false,
     "start_time": "2022-11-22T10:10:57.284334",
     "status": "completed"
    },
    "tags": []
   },
   "outputs": [],
   "source": [
    "train_filter = np.where((train_labels == 3 ) | (train_labels == 8))\n",
    "test_filter = np.where((test_labels == 3) | (test_labels == 8))\n",
    "X_train, y_train = train_images[train_filter], train_labels[train_filter]\n",
    "X_test, y_test = test_images[test_filter], test_labels[test_filter]"
   ]
  },
  {
   "cell_type": "markdown",
   "id": "948f0b7e",
   "metadata": {
    "papermill": {
     "duration": 0.029548,
     "end_time": "2022-11-22T10:10:57.401295",
     "exception": false,
     "start_time": "2022-11-22T10:10:57.371747",
     "status": "completed"
    },
    "tags": []
   },
   "source": [
    "We normalize the pizel values in the 0 to 1 range"
   ]
  },
  {
   "cell_type": "code",
   "execution_count": 11,
   "id": "ee4c2166",
   "metadata": {
    "execution": {
     "iopub.execute_input": "2022-11-22T10:10:57.466589Z",
     "iopub.status.busy": "2022-11-22T10:10:57.465909Z",
     "iopub.status.idle": "2022-11-22T10:10:57.523314Z",
     "shell.execute_reply": "2022-11-22T10:10:57.522728Z"
    },
    "papermill": {
     "duration": 0.091771,
     "end_time": "2022-11-22T10:10:57.523446",
     "exception": false,
     "start_time": "2022-11-22T10:10:57.431675",
     "status": "completed"
    },
    "tags": []
   },
   "outputs": [],
   "source": [
    "X_train = X_train/255.\n",
    "X_test = X_test/255."
   ]
  },
  {
   "cell_type": "markdown",
   "id": "ddcf4fab",
   "metadata": {
    "papermill": {
     "duration": 0.029837,
     "end_time": "2022-11-22T10:10:57.583085",
     "exception": false,
     "start_time": "2022-11-22T10:10:57.553248",
     "status": "completed"
    },
    "tags": []
   },
   "source": [
    "And setup the labels as 1 (when the digit is 3) and 0 (when the digit is 8)"
   ]
  },
  {
   "cell_type": "code",
   "execution_count": 12,
   "id": "7dc908f2",
   "metadata": {
    "execution": {
     "iopub.execute_input": "2022-11-22T10:10:57.653605Z",
     "iopub.status.busy": "2022-11-22T10:10:57.652920Z",
     "iopub.status.idle": "2022-11-22T10:10:57.665377Z",
     "shell.execute_reply": "2022-11-22T10:10:57.664707Z"
    },
    "papermill": {
     "duration": 0.052218,
     "end_time": "2022-11-22T10:10:57.665503",
     "exception": false,
     "start_time": "2022-11-22T10:10:57.613285",
     "status": "completed"
    },
    "tags": []
   },
   "outputs": [],
   "source": [
    "y_train = 1*(y_train==3)\n",
    "y_test = 1*(y_test==3)"
   ]
  },
  {
   "cell_type": "code",
   "execution_count": 13,
   "id": "01e4e969",
   "metadata": {
    "execution": {
     "iopub.execute_input": "2022-11-22T10:10:57.740856Z",
     "iopub.status.busy": "2022-11-22T10:10:57.731368Z",
     "iopub.status.idle": "2022-11-22T10:10:57.750718Z",
     "shell.execute_reply": "2022-11-22T10:10:57.749469Z"
    },
    "papermill": {
     "duration": 0.055585,
     "end_time": "2022-11-22T10:10:57.750849",
     "exception": false,
     "start_time": "2022-11-22T10:10:57.695264",
     "status": "completed"
    },
    "tags": []
   },
   "outputs": [
    {
     "data": {
      "text/plain": [
       "((11982, 28, 28), (1984, 28, 28))"
      ]
     },
     "execution_count": 13,
     "metadata": {},
     "output_type": "execute_result"
    }
   ],
   "source": [
    "X_train.shape, X_test.shape"
   ]
  },
  {
   "cell_type": "markdown",
   "id": "5ccf3f85",
   "metadata": {
    "papermill": {
     "duration": 0.029758,
     "end_time": "2022-11-22T10:10:57.810489",
     "exception": false,
     "start_time": "2022-11-22T10:10:57.780731",
     "status": "completed"
    },
    "tags": []
   },
   "source": [
    "We reshape the data to flatten the image pixels into a set of features or co-variates:"
   ]
  },
  {
   "cell_type": "code",
   "execution_count": 14,
   "id": "5286a4a3",
   "metadata": {
    "execution": {
     "iopub.execute_input": "2022-11-22T10:10:57.874437Z",
     "iopub.status.busy": "2022-11-22T10:10:57.873742Z",
     "iopub.status.idle": "2022-11-22T10:10:57.892175Z",
     "shell.execute_reply": "2022-11-22T10:10:57.892755Z"
    },
    "papermill": {
     "duration": 0.052389,
     "end_time": "2022-11-22T10:10:57.892903",
     "exception": false,
     "start_time": "2022-11-22T10:10:57.840514",
     "status": "completed"
    },
    "tags": []
   },
   "outputs": [
    {
     "data": {
      "text/plain": [
       "((11982, 784), (1984, 784))"
      ]
     },
     "execution_count": 14,
     "metadata": {},
     "output_type": "execute_result"
    }
   ],
   "source": [
    "X_train = X_train.reshape(X_train.shape[0], -1)\n",
    "X_test = X_test.reshape(X_test.shape[0], -1)\n",
    "X_train.shape, X_test.shape"
   ]
  },
  {
   "cell_type": "code",
   "execution_count": 15,
   "id": "73c5f88a",
   "metadata": {
    "execution": {
     "iopub.execute_input": "2022-11-22T10:10:57.960660Z",
     "iopub.status.busy": "2022-11-22T10:10:57.959960Z",
     "iopub.status.idle": "2022-11-22T10:10:57.981558Z",
     "shell.execute_reply": "2022-11-22T10:10:57.980881Z"
    },
    "papermill": {
     "duration": 0.05835,
     "end_time": "2022-11-22T10:10:57.981684",
     "exception": false,
     "start_time": "2022-11-22T10:10:57.923334",
     "status": "completed"
    },
    "tags": []
   },
   "outputs": [],
   "source": [
    "#Impoting functions from 'Kudzu'\n",
    "from kudzu.model import Model\n",
    "from kudzu.train import Learner\n",
    "from kudzu.optim import GD\n",
    "from kudzu.data import Data, Sampler,Dataloader\n",
    "\n",
    "from kudzu.callbacks import AccCallback\n",
    "from kudzu.callbacks import ClfCallback\n",
    "\n",
    "from kudzu.loss import MSE\n",
    "\n",
    "from kudzu.layer import Sigmoid,Relu\n",
    "from kudzu.layer import Affine"
   ]
  },
  {
   "cell_type": "markdown",
   "id": "bc01172a",
   "metadata": {
    "papermill": {
     "duration": 0.029926,
     "end_time": "2022-11-22T10:10:58.042232",
     "exception": false,
     "start_time": "2022-11-22T10:10:58.012306",
     "status": "completed"
    },
    "tags": []
   },
   "source": [
    "### Let us create a `Config` class, to store important parameters. \n",
    "This class essentially plays the role of a dictionary."
   ]
  },
  {
   "cell_type": "code",
   "execution_count": 16,
   "id": "978281aa",
   "metadata": {
    "execution": {
     "iopub.execute_input": "2022-11-22T10:10:58.113940Z",
     "iopub.status.busy": "2022-11-22T10:10:58.113247Z",
     "iopub.status.idle": "2022-11-22T10:10:58.125574Z",
     "shell.execute_reply": "2022-11-22T10:10:58.124904Z"
    },
    "papermill": {
     "duration": 0.053403,
     "end_time": "2022-11-22T10:10:58.125705",
     "exception": false,
     "start_time": "2022-11-22T10:10:58.072302",
     "status": "completed"
    },
    "tags": []
   },
   "outputs": [],
   "source": [
    "class Config:\n",
    "    pass\n",
    "config = Config()\n",
    "config.lr = 0.001\n",
    "config.num_epochs = 250\n",
    "config.bs = 50"
   ]
  },
  {
   "cell_type": "markdown",
   "id": "1385fa59",
   "metadata": {
    "papermill": {
     "duration": 0.031005,
     "end_time": "2022-11-22T10:10:58.187367",
     "exception": false,
     "start_time": "2022-11-22T10:10:58.156362",
     "status": "completed"
    },
    "tags": []
   },
   "source": [
    "### Running Models with the Training data\n",
    "Details about the network layers:\n",
    "- A first affine layer has 784 inputs and does 100 affine transforms. These are followed by a Relu\n",
    "- A second affine layer has 100 inputs from the 100 activations of the past layer, and does 100 affine transforms. These are followed by a Relu\n",
    "- A third affine layer has 100 activations and does 2 affine transformations to create an embedding for visualization. There is no non-linearity here.\n",
    "- A final \"logistic regression\" which has an affine transform from 2 inputs to 1 output, which is squeezed through a sigmoid.\n"
   ]
  },
  {
   "cell_type": "code",
   "execution_count": 17,
   "id": "2b9c66db",
   "metadata": {
    "execution": {
     "iopub.execute_input": "2022-11-22T10:10:58.254016Z",
     "iopub.status.busy": "2022-11-22T10:10:58.253332Z",
     "iopub.status.idle": "2022-11-22T10:10:58.268280Z",
     "shell.execute_reply": "2022-11-22T10:10:58.267712Z"
    },
    "papermill": {
     "duration": 0.050734,
     "end_time": "2022-11-22T10:10:58.268404",
     "exception": false,
     "start_time": "2022-11-22T10:10:58.217670",
     "status": "completed"
    },
    "tags": []
   },
   "outputs": [],
   "source": [
    "data = Data(X_train, y_train.reshape(-1,1))\n",
    "sampler = Sampler(data, config.bs, shuffle=True)\n",
    "\n",
    "dl = Dataloader(data, sampler)\n",
    "\n",
    "opt = GD(config.lr)\n",
    "loss = MSE()"
   ]
  },
  {
   "cell_type": "code",
   "execution_count": 18,
   "id": "b275e4c2",
   "metadata": {
    "execution": {
     "iopub.execute_input": "2022-11-22T10:10:58.337182Z",
     "iopub.status.busy": "2022-11-22T10:10:58.336477Z",
     "iopub.status.idle": "2022-11-22T10:10:58.349561Z",
     "shell.execute_reply": "2022-11-22T10:10:58.349008Z"
    },
    "papermill": {
     "duration": 0.051188,
     "end_time": "2022-11-22T10:10:58.349686",
     "exception": false,
     "start_time": "2022-11-22T10:10:58.298498",
     "status": "completed"
    },
    "tags": []
   },
   "outputs": [],
   "source": [
    "training_data_x = X_train\n",
    "testing_data_x = X_test\n",
    "training_data_y = y_train.reshape(-1,1)\n",
    "testing_data_y = y_test.reshape(-1,1)"
   ]
  },
  {
   "cell_type": "code",
   "execution_count": 19,
   "id": "76951160",
   "metadata": {
    "execution": {
     "iopub.execute_input": "2022-11-22T10:10:58.417861Z",
     "iopub.status.busy": "2022-11-22T10:10:58.417149Z",
     "iopub.status.idle": "2022-11-22T10:10:58.435586Z",
     "shell.execute_reply": "2022-11-22T10:10:58.435021Z"
    },
    "papermill": {
     "duration": 0.0561,
     "end_time": "2022-11-22T10:10:58.435739",
     "exception": false,
     "start_time": "2022-11-22T10:10:58.379639",
     "status": "completed"
    },
    "tags": []
   },
   "outputs": [
    {
     "name": "stdout",
     "output_type": "stream",
     "text": [
      "xavier\n",
      "xavier\n",
      "xavier\n",
      "xavier\n",
      "xavier\n"
     ]
    }
   ],
   "source": [
    "layers = [Affine(\"first\", 784, 100), Relu(\"first\"), Affine(\"second\", 100, 100), Relu(\"second\"), Affine(\"third\", 100, 2), Affine(\"last\", 2, 1), Sigmoid(\"last\")]\n",
    "model_nn = Model(layers)\n",
    "model_lr = Model([Affine(\"logits\", 784, 1), Sigmoid(\"sigmoid\")])"
   ]
  },
  {
   "cell_type": "code",
   "execution_count": 20,
   "id": "6eede77a",
   "metadata": {
    "execution": {
     "iopub.execute_input": "2022-11-22T10:10:58.504746Z",
     "iopub.status.busy": "2022-11-22T10:10:58.504036Z",
     "iopub.status.idle": "2022-11-22T10:10:58.519960Z",
     "shell.execute_reply": "2022-11-22T10:10:58.519343Z"
    },
    "papermill": {
     "duration": 0.053646,
     "end_time": "2022-11-22T10:10:58.520094",
     "exception": false,
     "start_time": "2022-11-22T10:10:58.466448",
     "status": "completed"
    },
    "tags": []
   },
   "outputs": [],
   "source": [
    "nn_learner = Learner(loss, model_nn, opt, config.num_epochs)\n",
    "acc_nn = ClfCallback(nn_learner, config.bs, training_data_x , testing_data_x, training_data_y, testing_data_y)\n",
    "nn_learner.set_callbacks([acc_nn])"
   ]
  },
  {
   "cell_type": "code",
   "execution_count": 21,
   "id": "877b6cc7",
   "metadata": {
    "execution": {
     "iopub.execute_input": "2022-11-22T10:10:58.590231Z",
     "iopub.status.busy": "2022-11-22T10:10:58.589536Z",
     "iopub.status.idle": "2022-11-22T10:10:58.602751Z",
     "shell.execute_reply": "2022-11-22T10:10:58.602188Z"
    },
    "papermill": {
     "duration": 0.052091,
     "end_time": "2022-11-22T10:10:58.602878",
     "exception": false,
     "start_time": "2022-11-22T10:10:58.550787",
     "status": "completed"
    },
    "tags": []
   },
   "outputs": [],
   "source": [
    "lr_learner = Learner(loss, model_lr, opt, config.num_epochs)\n",
    "acc_lr = ClfCallback(lr_learner, config.bs, training_data_x , testing_data_x, training_data_y, testing_data_y)\n",
    "lr_learner.set_callbacks([acc_lr])"
   ]
  },
  {
   "cell_type": "code",
   "execution_count": 22,
   "id": "d9b133c3",
   "metadata": {
    "execution": {
     "iopub.execute_input": "2022-11-22T10:10:58.671154Z",
     "iopub.status.busy": "2022-11-22T10:10:58.670471Z",
     "iopub.status.idle": "2022-11-22T10:12:27.687114Z",
     "shell.execute_reply": "2022-11-22T10:12:27.688099Z"
    },
    "papermill": {
     "duration": 89.054419,
     "end_time": "2022-11-22T10:12:27.688264",
     "exception": false,
     "start_time": "2022-11-22T10:10:58.633845",
     "status": "completed"
    },
    "tags": []
   },
   "outputs": [
    {
     "name": "stdout",
     "output_type": "stream",
     "text": [
      "Epoch 0, Loss 0.2485\n",
      "Training Accuracy: 0.7025, Testing Accuracy: 0.7132\n",
      "\n"
     ]
    },
    {
     "name": "stdout",
     "output_type": "stream",
     "text": [
      "Epoch 10, Loss 0.0722\n",
      "Training Accuracy: 0.9308, Testing Accuracy: 0.9380\n",
      "\n"
     ]
    },
    {
     "name": "stdout",
     "output_type": "stream",
     "text": [
      "Epoch 20, Loss 0.049\n",
      "Training Accuracy: 0.9482, Testing Accuracy: 0.9541\n",
      "\n"
     ]
    },
    {
     "name": "stdout",
     "output_type": "stream",
     "text": [
      "Epoch 30, Loss 0.04\n",
      "Training Accuracy: 0.9573, Testing Accuracy: 0.9602\n",
      "\n"
     ]
    },
    {
     "name": "stdout",
     "output_type": "stream",
     "text": [
      "Epoch 40, Loss 0.0352\n",
      "Training Accuracy: 0.9619, Testing Accuracy: 0.9647\n",
      "\n"
     ]
    },
    {
     "name": "stdout",
     "output_type": "stream",
     "text": [
      "Epoch 50, Loss 0.0321\n",
      "Training Accuracy: 0.9645, Testing Accuracy: 0.9672\n",
      "\n"
     ]
    },
    {
     "name": "stdout",
     "output_type": "stream",
     "text": [
      "Epoch 60, Loss 0.0299\n",
      "Training Accuracy: 0.9663, Testing Accuracy: 0.9677\n",
      "\n"
     ]
    },
    {
     "name": "stdout",
     "output_type": "stream",
     "text": [
      "Epoch 70, Loss 0.0282\n",
      "Training Accuracy: 0.9681, Testing Accuracy: 0.9677\n",
      "\n"
     ]
    },
    {
     "name": "stdout",
     "output_type": "stream",
     "text": [
      "Epoch 80, Loss 0.0269\n",
      "Training Accuracy: 0.9698, Testing Accuracy: 0.9693\n",
      "\n"
     ]
    },
    {
     "name": "stdout",
     "output_type": "stream",
     "text": [
      "Epoch 90, Loss 0.0257\n",
      "Training Accuracy: 0.9711, Testing Accuracy: 0.9698\n",
      "\n"
     ]
    },
    {
     "name": "stdout",
     "output_type": "stream",
     "text": [
      "Epoch 100, Loss 0.0248\n",
      "Training Accuracy: 0.9724, Testing Accuracy: 0.9703\n",
      "\n"
     ]
    },
    {
     "name": "stdout",
     "output_type": "stream",
     "text": [
      "Epoch 110, Loss 0.0239\n",
      "Training Accuracy: 0.9735, Testing Accuracy: 0.9703\n",
      "\n"
     ]
    },
    {
     "name": "stdout",
     "output_type": "stream",
     "text": [
      "Epoch 120, Loss 0.0231\n",
      "Training Accuracy: 0.9741, Testing Accuracy: 0.9708\n",
      "\n"
     ]
    },
    {
     "name": "stdout",
     "output_type": "stream",
     "text": [
      "Epoch 130, Loss 0.0224\n",
      "Training Accuracy: 0.9745, Testing Accuracy: 0.9713\n",
      "\n"
     ]
    },
    {
     "name": "stdout",
     "output_type": "stream",
     "text": [
      "Epoch 140, Loss 0.0218\n",
      "Training Accuracy: 0.9757, Testing Accuracy: 0.9718\n",
      "\n"
     ]
    },
    {
     "name": "stdout",
     "output_type": "stream",
     "text": [
      "Epoch 150, Loss 0.0212\n",
      "Training Accuracy: 0.9760, Testing Accuracy: 0.9703\n",
      "\n"
     ]
    },
    {
     "name": "stdout",
     "output_type": "stream",
     "text": [
      "Epoch 160, Loss 0.0206\n",
      "Training Accuracy: 0.9765, Testing Accuracy: 0.9713\n",
      "\n"
     ]
    },
    {
     "name": "stdout",
     "output_type": "stream",
     "text": [
      "Epoch 170, Loss 0.0201\n",
      "Training Accuracy: 0.9770, Testing Accuracy: 0.9723\n",
      "\n"
     ]
    },
    {
     "name": "stdout",
     "output_type": "stream",
     "text": [
      "Epoch 180, Loss 0.0196\n",
      "Training Accuracy: 0.9777, Testing Accuracy: 0.9733\n",
      "\n"
     ]
    },
    {
     "name": "stdout",
     "output_type": "stream",
     "text": [
      "Epoch 190, Loss 0.0192\n",
      "Training Accuracy: 0.9782, Testing Accuracy: 0.9733\n",
      "\n"
     ]
    },
    {
     "name": "stdout",
     "output_type": "stream",
     "text": [
      "Epoch 200, Loss 0.0187\n",
      "Training Accuracy: 0.9787, Testing Accuracy: 0.9743\n",
      "\n"
     ]
    },
    {
     "name": "stdout",
     "output_type": "stream",
     "text": [
      "Epoch 210, Loss 0.0183\n",
      "Training Accuracy: 0.9794, Testing Accuracy: 0.9743\n",
      "\n"
     ]
    },
    {
     "name": "stdout",
     "output_type": "stream",
     "text": [
      "Epoch 220, Loss 0.0179\n",
      "Training Accuracy: 0.9796, Testing Accuracy: 0.9748\n",
      "\n"
     ]
    },
    {
     "name": "stdout",
     "output_type": "stream",
     "text": [
      "Epoch 230, Loss 0.0175\n",
      "Training Accuracy: 0.9805, Testing Accuracy: 0.9748\n",
      "\n"
     ]
    },
    {
     "name": "stdout",
     "output_type": "stream",
     "text": [
      "Epoch 240, Loss 0.0172\n",
      "Training Accuracy: 0.9809, Testing Accuracy: 0.9748\n",
      "\n"
     ]
    },
    {
     "data": {
      "text/plain": [
       "0.029686186651101308"
      ]
     },
     "execution_count": 22,
     "metadata": {},
     "output_type": "execute_result"
    }
   ],
   "source": [
    "nn_learner.train_loop(dl)"
   ]
  },
  {
   "cell_type": "code",
   "execution_count": 23,
   "id": "e0163366",
   "metadata": {
    "execution": {
     "iopub.execute_input": "2022-11-22T10:12:27.781442Z",
     "iopub.status.busy": "2022-11-22T10:12:27.780755Z",
     "iopub.status.idle": "2022-11-22T10:12:43.998993Z",
     "shell.execute_reply": "2022-11-22T10:12:43.999965Z"
    },
    "papermill": {
     "duration": 16.271955,
     "end_time": "2022-11-22T10:12:44.000127",
     "exception": false,
     "start_time": "2022-11-22T10:12:27.728172",
     "status": "completed"
    },
    "tags": []
   },
   "outputs": [
    {
     "name": "stdout",
     "output_type": "stream",
     "text": [
      "Epoch 0, Loss 0.236\n",
      "Training Accuracy: 0.7105, Testing Accuracy: 0.7006\n",
      "\n"
     ]
    },
    {
     "name": "stdout",
     "output_type": "stream",
     "text": [
      "Epoch 10, Loss 0.0985\n",
      "Training Accuracy: 0.9170, Testing Accuracy: 0.9304\n",
      "\n"
     ]
    },
    {
     "name": "stdout",
     "output_type": "stream",
     "text": [
      "Epoch 20, Loss 0.0768\n",
      "Training Accuracy: 0.9301, Testing Accuracy: 0.9415\n",
      "\n"
     ]
    },
    {
     "name": "stdout",
     "output_type": "stream",
     "text": [
      "Epoch 30, Loss 0.0667\n",
      "Training Accuracy: 0.9371, Testing Accuracy: 0.9481\n",
      "\n"
     ]
    },
    {
     "name": "stdout",
     "output_type": "stream",
     "text": [
      "Epoch 40, Loss 0.0605\n",
      "Training Accuracy: 0.9424, Testing Accuracy: 0.9501\n",
      "\n"
     ]
    },
    {
     "name": "stdout",
     "output_type": "stream",
     "text": [
      "Epoch 50, Loss 0.0563\n",
      "Training Accuracy: 0.9453, Testing Accuracy: 0.9531\n",
      "\n"
     ]
    },
    {
     "name": "stdout",
     "output_type": "stream",
     "text": [
      "Epoch 60, Loss 0.0531\n",
      "Training Accuracy: 0.9478, Testing Accuracy: 0.9556\n",
      "\n"
     ]
    },
    {
     "name": "stdout",
     "output_type": "stream",
     "text": [
      "Epoch 70, Loss 0.0507\n",
      "Training Accuracy: 0.9489, Testing Accuracy: 0.9567\n",
      "\n"
     ]
    },
    {
     "name": "stdout",
     "output_type": "stream",
     "text": [
      "Epoch 80, Loss 0.0487\n",
      "Training Accuracy: 0.9508, Testing Accuracy: 0.9592\n",
      "\n"
     ]
    },
    {
     "name": "stdout",
     "output_type": "stream",
     "text": [
      "Epoch 90, Loss 0.0471\n",
      "Training Accuracy: 0.9523, Testing Accuracy: 0.9597\n",
      "\n"
     ]
    },
    {
     "name": "stdout",
     "output_type": "stream",
     "text": [
      "Epoch 100, Loss 0.0457\n",
      "Training Accuracy: 0.9537, Testing Accuracy: 0.9637\n",
      "\n"
     ]
    },
    {
     "name": "stdout",
     "output_type": "stream",
     "text": [
      "Epoch 110, Loss 0.0445\n",
      "Training Accuracy: 0.9543, Testing Accuracy: 0.9642\n",
      "\n"
     ]
    },
    {
     "name": "stdout",
     "output_type": "stream",
     "text": [
      "Epoch 120, Loss 0.0435\n",
      "Training Accuracy: 0.9553, Testing Accuracy: 0.9647\n",
      "\n"
     ]
    },
    {
     "name": "stdout",
     "output_type": "stream",
     "text": [
      "Epoch 130, Loss 0.0426\n",
      "Training Accuracy: 0.9560, Testing Accuracy: 0.9652\n",
      "\n"
     ]
    },
    {
     "name": "stdout",
     "output_type": "stream",
     "text": [
      "Epoch 140, Loss 0.0418\n",
      "Training Accuracy: 0.9566, Testing Accuracy: 0.9652\n",
      "\n"
     ]
    },
    {
     "name": "stdout",
     "output_type": "stream",
     "text": [
      "Epoch 150, Loss 0.0411\n",
      "Training Accuracy: 0.9574, Testing Accuracy: 0.9667\n",
      "\n"
     ]
    },
    {
     "name": "stdout",
     "output_type": "stream",
     "text": [
      "Epoch 160, Loss 0.0404\n",
      "Training Accuracy: 0.9578, Testing Accuracy: 0.9667\n",
      "\n"
     ]
    },
    {
     "name": "stdout",
     "output_type": "stream",
     "text": [
      "Epoch 170, Loss 0.0398\n",
      "Training Accuracy: 0.9584, Testing Accuracy: 0.9672\n",
      "\n"
     ]
    },
    {
     "name": "stdout",
     "output_type": "stream",
     "text": [
      "Epoch 180, Loss 0.0393\n",
      "Training Accuracy: 0.9586, Testing Accuracy: 0.9677\n",
      "\n"
     ]
    },
    {
     "name": "stdout",
     "output_type": "stream",
     "text": [
      "Epoch 190, Loss 0.0388\n",
      "Training Accuracy: 0.9591, Testing Accuracy: 0.9677\n",
      "\n"
     ]
    },
    {
     "name": "stdout",
     "output_type": "stream",
     "text": [
      "Epoch 200, Loss 0.0383\n",
      "Training Accuracy: 0.9596, Testing Accuracy: 0.9682\n",
      "\n"
     ]
    },
    {
     "name": "stdout",
     "output_type": "stream",
     "text": [
      "Epoch 210, Loss 0.0379\n",
      "Training Accuracy: 0.9599, Testing Accuracy: 0.9677\n",
      "\n"
     ]
    },
    {
     "name": "stdout",
     "output_type": "stream",
     "text": [
      "Epoch 220, Loss 0.0374\n",
      "Training Accuracy: 0.9601, Testing Accuracy: 0.9677\n",
      "\n"
     ]
    },
    {
     "name": "stdout",
     "output_type": "stream",
     "text": [
      "Epoch 230, Loss 0.0371\n",
      "Training Accuracy: 0.9602, Testing Accuracy: 0.9667\n",
      "\n"
     ]
    },
    {
     "name": "stdout",
     "output_type": "stream",
     "text": [
      "Epoch 240, Loss 0.0367\n",
      "Training Accuracy: 0.9604, Testing Accuracy: 0.9672\n",
      "\n"
     ]
    },
    {
     "data": {
      "text/plain": [
       "0.05392799906808103"
      ]
     },
     "execution_count": 23,
     "metadata": {},
     "output_type": "execute_result"
    }
   ],
   "source": [
    "lr_learner.train_loop(dl)"
   ]
  },
  {
   "cell_type": "code",
   "execution_count": 24,
   "id": "ca410940",
   "metadata": {
    "execution": {
     "iopub.execute_input": "2022-11-22T10:12:44.102119Z",
     "iopub.status.busy": "2022-11-22T10:12:44.101425Z",
     "iopub.status.idle": "2022-11-22T10:12:44.366385Z",
     "shell.execute_reply": "2022-11-22T10:12:44.365771Z"
    },
    "papermill": {
     "duration": 0.319946,
     "end_time": "2022-11-22T10:12:44.366533",
     "exception": false,
     "start_time": "2022-11-22T10:12:44.046587",
     "status": "completed"
    },
    "tags": []
   },
   "outputs": [
    {
     "data": {
      "text/plain": [
       "<matplotlib.legend.Legend at 0x7ff80238c320>"
      ]
     },
     "execution_count": 24,
     "metadata": {},
     "output_type": "execute_result"
    },
    {
     "data": {
      "image/png": "[encoded data removed]",
      "text/plain": [
       "<Figure size 1080x720 with 1 Axes>"
      ]
     },
     "metadata": {
      "needs_background": "light"
     },
     "output_type": "display_data"
    }
   ],
   "source": [
    "#comparing the results of NN and LR\n",
    "plt.figure(figsize=(15,10))\n",
    "\n",
    "# Neural Network plots\n",
    "plt.plot(acc_nn.accuracies, 'r-', label = \"Training Accuracies - NN\")\n",
    "plt.plot(acc_nn.test_accuracies, 'g-', label = \"Testing Accuracies - NN\")\n",
    "\n",
    "# Logistic Regression plots\n",
    "plt.plot(acc_lr.accuracies, 'k-', label = \"Training Accuracies - LR\")\n",
    "plt.plot(acc_lr.test_accuracies, 'b-', label = \"Testing Accuracies - LR\")\n",
    "plt.legend()"
   ]
  },
  {
   "cell_type": "markdown",
   "id": "80dfb35c",
   "metadata": {
    "papermill": {
     "duration": 0.04741,
     "end_time": "2022-11-22T10:12:44.461776",
     "exception": false,
     "start_time": "2022-11-22T10:12:44.414366",
     "status": "completed"
    },
    "tags": []
   },
   "source": [
    "#### Plotting the outputs of this layer of the NN.\n"
   ]
  },
  {
   "cell_type": "code",
   "execution_count": 25,
   "id": "45eb2ff5",
   "metadata": {
    "execution": {
     "iopub.execute_input": "2022-11-22T10:12:44.562250Z",
     "iopub.status.busy": "2022-11-22T10:12:44.561554Z",
     "iopub.status.idle": "2022-11-22T10:12:44.584991Z",
     "shell.execute_reply": "2022-11-22T10:12:44.585908Z"
    },
    "papermill": {
     "duration": 0.077304,
     "end_time": "2022-11-22T10:12:44.586074",
     "exception": false,
     "start_time": "2022-11-22T10:12:44.508770",
     "status": "completed"
    },
    "tags": []
   },
   "outputs": [],
   "source": [
    "new_model = Model(layers[:-2])\n",
    "testing_plot = new_model(testing_data_x)"
   ]
  },
  {
   "cell_type": "code",
   "execution_count": 26,
   "id": "4c0a5485",
   "metadata": {
    "execution": {
     "iopub.execute_input": "2022-11-22T10:12:44.697305Z",
     "iopub.status.busy": "2022-11-22T10:12:44.696616Z",
     "iopub.status.idle": "2022-11-22T10:12:44.929995Z",
     "shell.execute_reply": "2022-11-22T10:12:44.930545Z"
    },
    "papermill": {
     "duration": 0.296621,
     "end_time": "2022-11-22T10:12:44.930702",
     "exception": false,
     "start_time": "2022-11-22T10:12:44.634081",
     "status": "completed"
    },
    "tags": []
   },
   "outputs": [
    {
     "data": {
      "text/plain": [
       "Text(0.5, 1.0, 'Outputs')"
      ]
     },
     "execution_count": 26,
     "metadata": {},
     "output_type": "execute_result"
    },
    {
     "data": {
      "image/png": "[encoded data removed]",
      "text/plain": [
       "<Figure size 576x504 with 1 Axes>"
      ]
     },
     "metadata": {
      "needs_background": "light"
     },
     "output_type": "display_data"
    }
   ],
   "source": [
    "# Plotting the scatter plot of points and color coding by class\n",
    "plt.figure(figsize=(8,7))\n",
    "plt.scatter(testing_plot[:,0], testing_plot[:,1], alpha = 0.1, c = y_test.ravel());\n",
    "plt.title('Outputs')"
   ]
  },
  {
   "cell_type": "markdown",
   "id": "a74fcf8f",
   "metadata": {
    "papermill": {
     "duration": 0.050475,
     "end_time": "2022-11-22T10:12:45.031768",
     "exception": false,
     "start_time": "2022-11-22T10:12:44.981293",
     "status": "completed"
    },
    "tags": []
   },
   "source": [
    "Probability contours"
   ]
  },
  {
   "cell_type": "code",
   "execution_count": 27,
   "id": "d0afc8e3",
   "metadata": {
    "execution": {
     "iopub.execute_input": "2022-11-22T10:12:45.142453Z",
     "iopub.status.busy": "2022-11-22T10:12:45.141759Z",
     "iopub.status.idle": "2022-11-22T10:12:45.153258Z",
     "shell.execute_reply": "2022-11-22T10:12:45.153817Z"
    },
    "papermill": {
     "duration": 0.071934,
     "end_time": "2022-11-22T10:12:45.153964",
     "exception": false,
     "start_time": "2022-11-22T10:12:45.082030",
     "status": "completed"
    },
    "tags": []
   },
   "outputs": [],
   "source": [
    "model_prob = Model(layers[-2:]) "
   ]
  },
  {
   "cell_type": "code",
   "execution_count": 28,
   "id": "9b96e238",
   "metadata": {
    "execution": {
     "iopub.execute_input": "2022-11-22T10:12:45.294227Z",
     "iopub.status.busy": "2022-11-22T10:12:45.293513Z",
     "iopub.status.idle": "2022-11-22T10:12:45.307980Z",
     "shell.execute_reply": "2022-11-22T10:12:45.308497Z"
    },
    "papermill": {
     "duration": 0.104506,
     "end_time": "2022-11-22T10:12:45.308648",
     "exception": false,
     "start_time": "2022-11-22T10:12:45.204142",
     "status": "completed"
    },
    "tags": []
   },
   "outputs": [],
   "source": [
    "#creating the x and y ranges according to the above generated plot.\n",
    "x_range = np.linspace(-4, 1, 100) \n",
    "y_range = np.linspace(-6, 6, 100) \n",
    "x_grid, y_grid = np.meshgrid(x_range, y_range) # x_grid and y_grig are of size 100 X 100\n",
    "\n",
    "# converting x_grid and y_grid to continuous arrays\n",
    "x_gridflat = np.ravel(x_grid)\n",
    "y_gridflat = np.ravel(y_grid)\n",
    "\n",
    "# The last layer of the current model takes two columns as input. Hence transpose of np.vstack() is required.\n",
    "X = np.vstack((x_gridflat, y_gridflat)).T\n",
    "\n",
    "prob_contour = model_prob(X).reshape(100,100) "
   ]
  },
  {
   "cell_type": "code",
   "execution_count": 29,
   "id": "da72499a",
   "metadata": {
    "execution": {
     "iopub.execute_input": "2022-11-22T10:12:45.421540Z",
     "iopub.status.busy": "2022-11-22T10:12:45.420847Z",
     "iopub.status.idle": "2022-11-22T10:12:45.707486Z",
     "shell.execute_reply": "2022-11-22T10:12:45.706877Z"
    },
    "papermill": {
     "duration": 0.347407,
     "end_time": "2022-11-22T10:12:45.707616",
     "exception": false,
     "start_time": "2022-11-22T10:12:45.360209",
     "status": "completed"
    },
    "tags": []
   },
   "outputs": [
    {
     "data": {
      "image/png": "[encoded data removed]",
      "text/plain": [
       "<Figure size 720x648 with 1 Axes>"
      ]
     },
     "metadata": {
      "needs_background": "light"
     },
     "output_type": "display_data"
    }
   ],
   "source": [
    "plt.figure(figsize=(10,9))\n",
    "plt.scatter(testing_plot[:,0], testing_plot[:,1], alpha = 0.1, c = y_test.ravel())\n",
    "contours = plt.contour(x_grid,y_grid,prob_contour)\n",
    "plt.title('Probability Contours')\n",
    "plt.clabel(contours, inline = True );"
   ]
  },
  {
   "cell_type": "code",
   "execution_count": null,
   "id": "e81b4ac7",
   "metadata": {
    "papermill": {
     "duration": 0.05313,
     "end_time": "2022-11-22T10:12:45.817271",
     "exception": false,
     "start_time": "2022-11-22T10:12:45.764141",
     "status": "completed"
    },
    "tags": []
   },
   "outputs": [],
   "source": []
  }
 ],
 "metadata": {
  "kernelspec": {
   "display_name": "Python 3",
   "language": "python",
   "name": "python3"
  },
  "language_info": {
   "codemirror_mode": {
    "name": "ipython",
    "version": 3
   },
   "file_extension": ".py",
   "mimetype": "text/x-python",
   "name": "python",
   "nbconvert_exporter": "python",
   "pygments_lexer": "ipython3",
   "version": "3.6.15"
  },
  "papermill": {
   "default_parameters": {},
   "duration": 114.769523,
   "end_time": "2022-11-22T10:12:46.293170",
   "environment_variables": {},
   "exception": null,
   "input_path": "2020-08-11-part2.ipynb",
   "output_path": "2020-08-11-part2.ipynb",
   "parameters": {},
   "start_time": "2022-11-22T10:10:51.523647",
   "version": "2.3.3"
  }
 },
 "nbformat": 4,
 "nbformat_minor": 5
}