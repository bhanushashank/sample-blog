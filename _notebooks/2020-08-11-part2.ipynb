{
 "cells": [
  {
   "cell_type": "markdown",
   "id": "98380cd3",
   "metadata": {
    "papermill": {
     "duration": 0.037034,
     "end_time": "2022-02-12T00:26:49.336390",
     "exception": false,
     "start_time": "2022-02-12T00:26:49.299356",
     "status": "completed"
    },
    "tags": []
   },
   "source": [
    "# Distinguish Your Own Digits (DYOD)"
   ]
  },
  {
   "cell_type": "markdown",
   "id": "ef31240d",
   "metadata": {
    "papermill": {
     "duration": 0.033852,
     "end_time": "2022-02-12T00:26:49.403024",
     "exception": false,
     "start_time": "2022-02-12T00:26:49.369172",
     "status": "completed"
    },
    "tags": []
   },
   "source": [
    "You are going to write a classifier that distinguishes between the number 3 and number 8."
   ]
  },
  {
   "cell_type": "code",
   "execution_count": 1,
   "id": "b15c8646",
   "metadata": {
    "execution": {
     "iopub.execute_input": "2022-02-12T00:26:49.477403Z",
     "iopub.status.busy": "2022-02-12T00:26:49.476534Z",
     "iopub.status.idle": "2022-02-12T00:26:49.487970Z",
     "shell.execute_reply": "2022-02-12T00:26:49.488552Z"
    },
    "papermill": {
     "duration": 0.054422,
     "end_time": "2022-02-12T00:26:49.488736",
     "exception": false,
     "start_time": "2022-02-12T00:26:49.434314",
     "status": "completed"
    },
    "tags": []
   },
   "outputs": [],
   "source": [
    "%load_ext autoreload\n",
    "%autoreload 2"
   ]
  },
  {
   "cell_type": "code",
   "execution_count": 2,
   "id": "22ef38dc",
   "metadata": {
    "execution": {
     "iopub.execute_input": "2022-02-12T00:26:49.556474Z",
     "iopub.status.busy": "2022-02-12T00:26:49.555743Z",
     "iopub.status.idle": "2022-02-12T00:26:50.269262Z",
     "shell.execute_reply": "2022-02-12T00:26:50.269804Z"
    },
    "papermill": {
     "duration": 0.750137,
     "end_time": "2022-02-12T00:26:50.269983",
     "exception": false,
     "start_time": "2022-02-12T00:26:49.519846",
     "status": "completed"
    },
    "tags": []
   },
   "outputs": [],
   "source": [
    "%matplotlib inline\n",
    "import numpy as np\n",
    "import matplotlib.pyplot as plt\n",
    "import pandas as pd"
   ]
  },
  {
   "cell_type": "markdown",
   "id": "ba036198",
   "metadata": {
    "papermill": {
     "duration": 0.032877,
     "end_time": "2022-02-12T00:26:50.335224",
     "exception": false,
     "start_time": "2022-02-12T00:26:50.302347",
     "status": "completed"
    },
    "tags": []
   },
   "source": [
    "From the command line run `pip install mnist`. This is a library that will help you bring down the mnist dataset. If you run this from a notebook, you need to put  `!pip install mnist` in a cell by itself."
   ]
  },
  {
   "cell_type": "code",
   "execution_count": 3,
   "id": "bb6ad8a1",
   "metadata": {
    "execution": {
     "iopub.execute_input": "2022-02-12T00:26:50.403939Z",
     "iopub.status.busy": "2022-02-12T00:26:50.403252Z",
     "iopub.status.idle": "2022-02-12T00:26:52.381833Z",
     "shell.execute_reply": "2022-02-12T00:26:52.382382Z"
    },
    "papermill": {
     "duration": 2.016099,
     "end_time": "2022-02-12T00:26:52.382553",
     "exception": false,
     "start_time": "2022-02-12T00:26:50.366454",
     "status": "completed"
    },
    "tags": []
   },
   "outputs": [
    {
     "name": "stdout",
     "output_type": "stream",
     "text": [
      "Collecting mnist\r\n"
     ]
    },
    {
     "name": "stdout",
     "output_type": "stream",
     "text": [
      "  Downloading mnist-0.2.2-py2.py3-none-any.whl (3.5 kB)\r\n",
      "Requirement already satisfied: numpy in /opt/hostedtoolcache/Python/3.6.15/x64/lib/python3.6/site-packages (from mnist) (1.19.5)\r\n"
     ]
    },
    {
     "name": "stdout",
     "output_type": "stream",
     "text": [
      "Installing collected packages: mnist\r\n"
     ]
    },
    {
     "name": "stdout",
     "output_type": "stream",
     "text": [
      "Successfully installed mnist-0.2.2\r\n"
     ]
    }
   ],
   "source": [
    "!pip install mnist"
   ]
  },
  {
   "cell_type": "markdown",
   "id": "69df9c9a",
   "metadata": {
    "papermill": {
     "duration": 0.033666,
     "end_time": "2022-02-12T00:26:52.449354",
     "exception": false,
     "start_time": "2022-02-12T00:26:52.415688",
     "status": "completed"
    },
    "tags": []
   },
   "source": [
    "## Preparing the Data"
   ]
  },
  {
   "cell_type": "code",
   "execution_count": 4,
   "id": "7f69d806",
   "metadata": {
    "execution": {
     "iopub.execute_input": "2022-02-12T00:26:52.519822Z",
     "iopub.status.busy": "2022-02-12T00:26:52.519154Z",
     "iopub.status.idle": "2022-02-12T00:26:52.535316Z",
     "shell.execute_reply": "2022-02-12T00:26:52.534764Z"
    },
    "papermill": {
     "duration": 0.051768,
     "end_time": "2022-02-12T00:26:52.535460",
     "exception": false,
     "start_time": "2022-02-12T00:26:52.483692",
     "status": "completed"
    },
    "tags": []
   },
   "outputs": [],
   "source": [
    "import mnist"
   ]
  },
  {
   "cell_type": "code",
   "execution_count": 5,
   "id": "a411e44f",
   "metadata": {
    "execution": {
     "iopub.execute_input": "2022-02-12T00:26:52.603506Z",
     "iopub.status.busy": "2022-02-12T00:26:52.602849Z",
     "iopub.status.idle": "2022-02-12T00:26:53.185656Z",
     "shell.execute_reply": "2022-02-12T00:26:53.185064Z"
    },
    "papermill": {
     "duration": 0.617309,
     "end_time": "2022-02-12T00:26:53.185807",
     "exception": false,
     "start_time": "2022-02-12T00:26:52.568498",
     "status": "completed"
    },
    "tags": []
   },
   "outputs": [],
   "source": [
    "train_images = mnist.train_images()\n",
    "train_labels = mnist.train_labels()"
   ]
  },
  {
   "cell_type": "code",
   "execution_count": 6,
   "id": "dceab3a5",
   "metadata": {
    "execution": {
     "iopub.execute_input": "2022-02-12T00:26:53.254781Z",
     "iopub.status.busy": "2022-02-12T00:26:53.254083Z",
     "iopub.status.idle": "2022-02-12T00:26:53.273911Z",
     "shell.execute_reply": "2022-02-12T00:26:53.273317Z"
    },
    "papermill": {
     "duration": 0.056057,
     "end_time": "2022-02-12T00:26:53.274050",
     "exception": false,
     "start_time": "2022-02-12T00:26:53.217993",
     "status": "completed"
    },
    "tags": []
   },
   "outputs": [
    {
     "data": {
      "text/plain": [
       "((60000, 28, 28), (60000,))"
      ]
     },
     "execution_count": 6,
     "metadata": {},
     "output_type": "execute_result"
    }
   ],
   "source": [
    "train_images.shape, train_labels.shape"
   ]
  },
  {
   "cell_type": "code",
   "execution_count": 7,
   "id": "f50dc2bb",
   "metadata": {
    "execution": {
     "iopub.execute_input": "2022-02-12T00:26:53.342660Z",
     "iopub.status.busy": "2022-02-12T00:26:53.341829Z",
     "iopub.status.idle": "2022-02-12T00:26:53.531578Z",
     "shell.execute_reply": "2022-02-12T00:26:53.530940Z"
    },
    "papermill": {
     "duration": 0.225632,
     "end_time": "2022-02-12T00:26:53.531735",
     "exception": false,
     "start_time": "2022-02-12T00:26:53.306103",
     "status": "completed"
    },
    "tags": []
   },
   "outputs": [],
   "source": [
    "test_images = mnist.test_images()\n",
    "test_labels = mnist.test_labels()"
   ]
  },
  {
   "cell_type": "code",
   "execution_count": 8,
   "id": "fc38cf1b",
   "metadata": {
    "execution": {
     "iopub.execute_input": "2022-02-12T00:26:53.605366Z",
     "iopub.status.busy": "2022-02-12T00:26:53.604653Z",
     "iopub.status.idle": "2022-02-12T00:26:53.620119Z",
     "shell.execute_reply": "2022-02-12T00:26:53.619512Z"
    },
    "papermill": {
     "duration": 0.053466,
     "end_time": "2022-02-12T00:26:53.620257",
     "exception": false,
     "start_time": "2022-02-12T00:26:53.566791",
     "status": "completed"
    },
    "tags": []
   },
   "outputs": [
    {
     "data": {
      "text/plain": [
       "((10000, 28, 28), (10000,))"
      ]
     },
     "execution_count": 8,
     "metadata": {},
     "output_type": "execute_result"
    }
   ],
   "source": [
    "test_images.shape, test_labels.shape"
   ]
  },
  {
   "cell_type": "code",
   "execution_count": 9,
   "id": "f9ed8fe0",
   "metadata": {
    "execution": {
     "iopub.execute_input": "2022-02-12T00:26:53.696739Z",
     "iopub.status.busy": "2022-02-12T00:26:53.696073Z",
     "iopub.status.idle": "2022-02-12T00:26:53.883352Z",
     "shell.execute_reply": "2022-02-12T00:26:53.882793Z"
    },
    "papermill": {
     "duration": 0.22573,
     "end_time": "2022-02-12T00:26:53.883501",
     "exception": false,
     "start_time": "2022-02-12T00:26:53.657771",
     "status": "completed"
    },
    "tags": []
   },
   "outputs": [
    {
     "name": "stdout",
     "output_type": "stream",
     "text": [
      "2\n"
     ]
    },
    {
     "data": {
      "text/plain": [
       "<matplotlib.image.AxesImage at 0x7ff0c7a4b518>"
      ]
     },
     "execution_count": 9,
     "metadata": {},
     "output_type": "execute_result"
    },
    {
     "data": {
      "image/png": "[encoded data removed]",
      "text/plain": [
       "<Figure size 432x288 with 1 Axes>"
      ]
     },
     "metadata": {
      "needs_background": "light"
     },
     "output_type": "display_data"
    }
   ],
   "source": [
    "image_index = 7776 # You may select anything up to 60,000\n",
    "print(train_labels[image_index]) \n",
    "plt.imshow(train_images[image_index], cmap='Greys')"
   ]
  },
  {
   "cell_type": "markdown",
   "id": "a8d2388d",
   "metadata": {
    "papermill": {
     "duration": 0.055507,
     "end_time": "2022-02-12T00:26:53.973438",
     "exception": false,
     "start_time": "2022-02-12T00:26:53.917931",
     "status": "completed"
    },
    "tags": []
   },
   "source": [
    "## Filter data to get 3 and 8 out"
   ]
  },
  {
   "cell_type": "code",
   "execution_count": 10,
   "id": "776f7fc7",
   "metadata": {
    "execution": {
     "iopub.execute_input": "2022-02-12T00:26:54.068386Z",
     "iopub.status.busy": "2022-02-12T00:26:54.067339Z",
     "iopub.status.idle": "2022-02-12T00:26:54.088889Z",
     "shell.execute_reply": "2022-02-12T00:26:54.089443Z"
    },
    "papermill": {
     "duration": 0.068682,
     "end_time": "2022-02-12T00:26:54.089626",
     "exception": false,
     "start_time": "2022-02-12T00:26:54.020944",
     "status": "completed"
    },
    "tags": []
   },
   "outputs": [],
   "source": [
    "train_filter = np.where((train_labels == 3 ) | (train_labels == 8))\n",
    "test_filter = np.where((test_labels == 3) | (test_labels == 8))\n",
    "X_train, y_train = train_images[train_filter], train_labels[train_filter]\n",
    "X_test, y_test = test_images[test_filter], test_labels[test_filter]"
   ]
  },
  {
   "cell_type": "markdown",
   "id": "948f0b7e",
   "metadata": {
    "papermill": {
     "duration": 0.035284,
     "end_time": "2022-02-12T00:26:54.161369",
     "exception": false,
     "start_time": "2022-02-12T00:26:54.126085",
     "status": "completed"
    },
    "tags": []
   },
   "source": [
    "We normalize the pizel values in the 0 to 1 range"
   ]
  },
  {
   "cell_type": "code",
   "execution_count": 11,
   "id": "ee4c2166",
   "metadata": {
    "execution": {
     "iopub.execute_input": "2022-02-12T00:26:54.236928Z",
     "iopub.status.busy": "2022-02-12T00:26:54.235663Z",
     "iopub.status.idle": "2022-02-12T00:26:54.299438Z",
     "shell.execute_reply": "2022-02-12T00:26:54.298808Z"
    },
    "papermill": {
     "duration": 0.102132,
     "end_time": "2022-02-12T00:26:54.299589",
     "exception": false,
     "start_time": "2022-02-12T00:26:54.197457",
     "status": "completed"
    },
    "tags": []
   },
   "outputs": [],
   "source": [
    "X_train = X_train/255.\n",
    "X_test = X_test/255."
   ]
  },
  {
   "cell_type": "markdown",
   "id": "ddcf4fab",
   "metadata": {
    "papermill": {
     "duration": 0.034902,
     "end_time": "2022-02-12T00:26:54.368868",
     "exception": false,
     "start_time": "2022-02-12T00:26:54.333966",
     "status": "completed"
    },
    "tags": []
   },
   "source": [
    "And setup the labels as 1 (when the digit is 3) and 0 (when the digit is 8)"
   ]
  },
  {
   "cell_type": "code",
   "execution_count": 12,
   "id": "7dc908f2",
   "metadata": {
    "execution": {
     "iopub.execute_input": "2022-02-12T00:26:54.444719Z",
     "iopub.status.busy": "2022-02-12T00:26:54.442192Z",
     "iopub.status.idle": "2022-02-12T00:26:54.463860Z",
     "shell.execute_reply": "2022-02-12T00:26:54.461812Z"
    },
    "papermill": {
     "duration": 0.060769,
     "end_time": "2022-02-12T00:26:54.464069",
     "exception": false,
     "start_time": "2022-02-12T00:26:54.403300",
     "status": "completed"
    },
    "tags": []
   },
   "outputs": [],
   "source": [
    "y_train = 1*(y_train==3)\n",
    "y_test = 1*(y_test==3)"
   ]
  },
  {
   "cell_type": "code",
   "execution_count": 13,
   "id": "01e4e969",
   "metadata": {
    "execution": {
     "iopub.execute_input": "2022-02-12T00:26:54.545926Z",
     "iopub.status.busy": "2022-02-12T00:26:54.544532Z",
     "iopub.status.idle": "2022-02-12T00:26:54.559177Z",
     "shell.execute_reply": "2022-02-12T00:26:54.559761Z"
    },
    "papermill": {
     "duration": 0.056328,
     "end_time": "2022-02-12T00:26:54.559956",
     "exception": false,
     "start_time": "2022-02-12T00:26:54.503628",
     "status": "completed"
    },
    "tags": []
   },
   "outputs": [
    {
     "data": {
      "text/plain": [
       "((11982, 28, 28), (1984, 28, 28))"
      ]
     },
     "execution_count": 13,
     "metadata": {},
     "output_type": "execute_result"
    }
   ],
   "source": [
    "X_train.shape, X_test.shape"
   ]
  },
  {
   "cell_type": "markdown",
   "id": "5ccf3f85",
   "metadata": {
    "papermill": {
     "duration": 0.034591,
     "end_time": "2022-02-12T00:26:54.630712",
     "exception": false,
     "start_time": "2022-02-12T00:26:54.596121",
     "status": "completed"
    },
    "tags": []
   },
   "source": [
    "We reshape the data to flatten the image pixels into a set of features or co-variates:"
   ]
  },
  {
   "cell_type": "code",
   "execution_count": 14,
   "id": "5286a4a3",
   "metadata": {
    "execution": {
     "iopub.execute_input": "2022-02-12T00:26:54.713290Z",
     "iopub.status.busy": "2022-02-12T00:26:54.708000Z",
     "iopub.status.idle": "2022-02-12T00:26:54.723979Z",
     "shell.execute_reply": "2022-02-12T00:26:54.724668Z"
    },
    "papermill": {
     "duration": 0.055512,
     "end_time": "2022-02-12T00:26:54.724868",
     "exception": false,
     "start_time": "2022-02-12T00:26:54.669356",
     "status": "completed"
    },
    "tags": []
   },
   "outputs": [
    {
     "data": {
      "text/plain": [
       "((11982, 784), (1984, 784))"
      ]
     },
     "execution_count": 14,
     "metadata": {},
     "output_type": "execute_result"
    }
   ],
   "source": [
    "X_train = X_train.reshape(X_train.shape[0], -1)\n",
    "X_test = X_test.reshape(X_test.shape[0], -1)\n",
    "X_train.shape, X_test.shape"
   ]
  },
  {
   "cell_type": "code",
   "execution_count": 15,
   "id": "73c5f88a",
   "metadata": {
    "execution": {
     "iopub.execute_input": "2022-02-12T00:26:54.799454Z",
     "iopub.status.busy": "2022-02-12T00:26:54.798768Z",
     "iopub.status.idle": "2022-02-12T00:26:54.822322Z",
     "shell.execute_reply": "2022-02-12T00:26:54.822904Z"
    },
    "papermill": {
     "duration": 0.063516,
     "end_time": "2022-02-12T00:26:54.823064",
     "exception": false,
     "start_time": "2022-02-12T00:26:54.759548",
     "status": "completed"
    },
    "tags": []
   },
   "outputs": [],
   "source": [
    "#Impoting functions from 'Kudzu'\n",
    "from kudzu.model import Model\n",
    "from kudzu.train import Learner\n",
    "from kudzu.optim import GD\n",
    "from kudzu.data import Data, Sampler,Dataloader\n",
    "\n",
    "from kudzu.callbacks import AccCallback\n",
    "from kudzu.callbacks import ClfCallback\n",
    "\n",
    "from kudzu.loss import MSE\n",
    "\n",
    "from kudzu.layer import Sigmoid,Relu\n",
    "from kudzu.layer import Affine"
   ]
  },
  {
   "cell_type": "markdown",
   "id": "bc01172a",
   "metadata": {
    "papermill": {
     "duration": 0.03717,
     "end_time": "2022-02-12T00:26:54.897797",
     "exception": false,
     "start_time": "2022-02-12T00:26:54.860627",
     "status": "completed"
    },
    "tags": []
   },
   "source": [
    "### Let us create a `Config` class, to store important parameters. \n",
    "This class essentially plays the role of a dictionary."
   ]
  },
  {
   "cell_type": "code",
   "execution_count": 16,
   "id": "978281aa",
   "metadata": {
    "execution": {
     "iopub.execute_input": "2022-02-12T00:26:54.975543Z",
     "iopub.status.busy": "2022-02-12T00:26:54.974736Z",
     "iopub.status.idle": "2022-02-12T00:26:54.987125Z",
     "shell.execute_reply": "2022-02-12T00:26:54.987787Z"
    },
    "papermill": {
     "duration": 0.055094,
     "end_time": "2022-02-12T00:26:54.987987",
     "exception": false,
     "start_time": "2022-02-12T00:26:54.932893",
     "status": "completed"
    },
    "tags": []
   },
   "outputs": [],
   "source": [
    "class Config:\n",
    "    pass\n",
    "config = Config()\n",
    "config.lr = 0.001\n",
    "config.num_epochs = 250\n",
    "config.bs = 50"
   ]
  },
  {
   "cell_type": "markdown",
   "id": "1385fa59",
   "metadata": {
    "papermill": {
     "duration": 0.035023,
     "end_time": "2022-02-12T00:26:55.058952",
     "exception": false,
     "start_time": "2022-02-12T00:26:55.023929",
     "status": "completed"
    },
    "tags": []
   },
   "source": [
    "### Running Models with the Training data\n",
    "Details about the network layers:\n",
    "- A first affine layer has 784 inputs and does 100 affine transforms. These are followed by a Relu\n",
    "- A second affine layer has 100 inputs from the 100 activations of the past layer, and does 100 affine transforms. These are followed by a Relu\n",
    "- A third affine layer has 100 activations and does 2 affine transformations to create an embedding for visualization. There is no non-linearity here.\n",
    "- A final \"logistic regression\" which has an affine transform from 2 inputs to 1 output, which is squeezed through a sigmoid.\n"
   ]
  },
  {
   "cell_type": "code",
   "execution_count": 17,
   "id": "2b9c66db",
   "metadata": {
    "execution": {
     "iopub.execute_input": "2022-02-12T00:26:55.137527Z",
     "iopub.status.busy": "2022-02-12T00:26:55.136853Z",
     "iopub.status.idle": "2022-02-12T00:26:55.150972Z",
     "shell.execute_reply": "2022-02-12T00:26:55.150346Z"
    },
    "papermill": {
     "duration": 0.056378,
     "end_time": "2022-02-12T00:26:55.151134",
     "exception": false,
     "start_time": "2022-02-12T00:26:55.094756",
     "status": "completed"
    },
    "tags": []
   },
   "outputs": [],
   "source": [
    "data = Data(X_train, y_train.reshape(-1,1))\n",
    "sampler = Sampler(data, config.bs, shuffle=True)\n",
    "\n",
    "dl = Dataloader(data, sampler)\n",
    "\n",
    "opt = GD(config.lr)\n",
    "loss = MSE()"
   ]
  },
  {
   "cell_type": "code",
   "execution_count": 18,
   "id": "b275e4c2",
   "metadata": {
    "execution": {
     "iopub.execute_input": "2022-02-12T00:26:55.237923Z",
     "iopub.status.busy": "2022-02-12T00:26:55.237136Z",
     "iopub.status.idle": "2022-02-12T00:26:55.251656Z",
     "shell.execute_reply": "2022-02-12T00:26:55.251061Z"
    },
    "papermill": {
     "duration": 0.065004,
     "end_time": "2022-02-12T00:26:55.251815",
     "exception": false,
     "start_time": "2022-02-12T00:26:55.186811",
     "status": "completed"
    },
    "tags": []
   },
   "outputs": [],
   "source": [
    "training_data_x = X_train\n",
    "testing_data_x = X_test\n",
    "training_data_y = y_train.reshape(-1,1)\n",
    "testing_data_y = y_test.reshape(-1,1)"
   ]
  },
  {
   "cell_type": "code",
   "execution_count": 19,
   "id": "76951160",
   "metadata": {
    "execution": {
     "iopub.execute_input": "2022-02-12T00:26:55.330522Z",
     "iopub.status.busy": "2022-02-12T00:26:55.329727Z",
     "iopub.status.idle": "2022-02-12T00:26:55.348782Z",
     "shell.execute_reply": "2022-02-12T00:26:55.348190Z"
    },
    "papermill": {
     "duration": 0.062327,
     "end_time": "2022-02-12T00:26:55.348925",
     "exception": false,
     "start_time": "2022-02-12T00:26:55.286598",
     "status": "completed"
    },
    "tags": []
   },
   "outputs": [
    {
     "name": "stdout",
     "output_type": "stream",
     "text": [
      "xavier\n",
      "xavier\n",
      "xavier\n",
      "xavier\n",
      "xavier\n"
     ]
    }
   ],
   "source": [
    "layers = [Affine(\"first\", 784, 100), Relu(\"first\"), Affine(\"second\", 100, 100), Relu(\"second\"), Affine(\"third\", 100, 2), Affine(\"last\", 2, 1), Sigmoid(\"last\")]\n",
    "model_nn = Model(layers)\n",
    "model_lr = Model([Affine(\"logits\", 784, 1), Sigmoid(\"sigmoid\")])"
   ]
  },
  {
   "cell_type": "code",
   "execution_count": 20,
   "id": "6eede77a",
   "metadata": {
    "execution": {
     "iopub.execute_input": "2022-02-12T00:26:55.427074Z",
     "iopub.status.busy": "2022-02-12T00:26:55.426382Z",
     "iopub.status.idle": "2022-02-12T00:26:55.440432Z",
     "shell.execute_reply": "2022-02-12T00:26:55.439799Z"
    },
    "papermill": {
     "duration": 0.054956,
     "end_time": "2022-02-12T00:26:55.440579",
     "exception": false,
     "start_time": "2022-02-12T00:26:55.385623",
     "status": "completed"
    },
    "tags": []
   },
   "outputs": [],
   "source": [
    "nn_learner = Learner(loss, model_nn, opt, config.num_epochs)\n",
    "acc_nn = ClfCallback(nn_learner, config.bs, training_data_x , testing_data_x, training_data_y, testing_data_y)\n",
    "nn_learner.set_callbacks([acc_nn])"
   ]
  },
  {
   "cell_type": "code",
   "execution_count": 21,
   "id": "877b6cc7",
   "metadata": {
    "execution": {
     "iopub.execute_input": "2022-02-12T00:26:55.517573Z",
     "iopub.status.busy": "2022-02-12T00:26:55.516879Z",
     "iopub.status.idle": "2022-02-12T00:26:55.531328Z",
     "shell.execute_reply": "2022-02-12T00:26:55.530760Z"
    },
    "papermill": {
     "duration": 0.054747,
     "end_time": "2022-02-12T00:26:55.531476",
     "exception": false,
     "start_time": "2022-02-12T00:26:55.476729",
     "status": "completed"
    },
    "tags": []
   },
   "outputs": [],
   "source": [
    "lr_learner = Learner(loss, model_lr, opt, config.num_epochs)\n",
    "acc_lr = ClfCallback(lr_learner, config.bs, training_data_x , testing_data_x, training_data_y, testing_data_y)\n",
    "lr_learner.set_callbacks([acc_lr])"
   ]
  },
  {
   "cell_type": "code",
   "execution_count": 22,
   "id": "d9b133c3",
   "metadata": {
    "execution": {
     "iopub.execute_input": "2022-02-12T00:26:55.612003Z",
     "iopub.status.busy": "2022-02-12T00:26:55.611312Z",
     "iopub.status.idle": "2022-02-12T00:29:05.248065Z",
     "shell.execute_reply": "2022-02-12T00:29:05.249167Z"
    },
    "papermill": {
     "duration": 129.679884,
     "end_time": "2022-02-12T00:29:05.249340",
     "exception": false,
     "start_time": "2022-02-12T00:26:55.569456",
     "status": "completed"
    },
    "tags": []
   },
   "outputs": [
    {
     "name": "stdout",
     "output_type": "stream",
     "text": [
      "Epoch 0, Loss 0.233\n",
      "Training Accuracy: 0.7586, Testing Accuracy: 0.7555\n",
      "\n"
     ]
    },
    {
     "name": "stdout",
     "output_type": "stream",
     "text": [
      "Epoch 10, Loss 0.0628\n",
      "Training Accuracy: 0.9344, Testing Accuracy: 0.9456\n",
      "\n"
     ]
    },
    {
     "name": "stdout",
     "output_type": "stream",
     "text": [
      "Epoch 20, Loss 0.0439\n",
      "Training Accuracy: 0.9495, Testing Accuracy: 0.9607\n",
      "\n"
     ]
    },
    {
     "name": "stdout",
     "output_type": "stream",
     "text": [
      "Epoch 30, Loss 0.0369\n",
      "Training Accuracy: 0.9566, Testing Accuracy: 0.9652\n",
      "\n"
     ]
    },
    {
     "name": "stdout",
     "output_type": "stream",
     "text": [
      "Epoch 40, Loss 0.033\n",
      "Training Accuracy: 0.9607, Testing Accuracy: 0.9672\n",
      "\n"
     ]
    },
    {
     "name": "stdout",
     "output_type": "stream",
     "text": [
      "Epoch 50, Loss 0.0305\n",
      "Training Accuracy: 0.9638, Testing Accuracy: 0.9693\n",
      "\n"
     ]
    },
    {
     "name": "stdout",
     "output_type": "stream",
     "text": [
      "Epoch 60, Loss 0.0286\n",
      "Training Accuracy: 0.9659, Testing Accuracy: 0.9718\n",
      "\n"
     ]
    },
    {
     "name": "stdout",
     "output_type": "stream",
     "text": [
      "Epoch 70, Loss 0.0271\n",
      "Training Accuracy: 0.9680, Testing Accuracy: 0.9728\n",
      "\n"
     ]
    },
    {
     "name": "stdout",
     "output_type": "stream",
     "text": [
      "Epoch 80, Loss 0.0258\n",
      "Training Accuracy: 0.9700, Testing Accuracy: 0.9728\n",
      "\n"
     ]
    },
    {
     "name": "stdout",
     "output_type": "stream",
     "text": [
      "Epoch 90, Loss 0.0247\n",
      "Training Accuracy: 0.9711, Testing Accuracy: 0.9733\n",
      "\n"
     ]
    },
    {
     "name": "stdout",
     "output_type": "stream",
     "text": [
      "Epoch 100, Loss 0.0238\n",
      "Training Accuracy: 0.9727, Testing Accuracy: 0.9733\n",
      "\n"
     ]
    },
    {
     "name": "stdout",
     "output_type": "stream",
     "text": [
      "Epoch 110, Loss 0.0229\n",
      "Training Accuracy: 0.9743, Testing Accuracy: 0.9733\n",
      "\n"
     ]
    },
    {
     "name": "stdout",
     "output_type": "stream",
     "text": [
      "Epoch 120, Loss 0.0222\n",
      "Training Accuracy: 0.9749, Testing Accuracy: 0.9743\n",
      "\n"
     ]
    },
    {
     "name": "stdout",
     "output_type": "stream",
     "text": [
      "Epoch 130, Loss 0.0215\n",
      "Training Accuracy: 0.9760, Testing Accuracy: 0.9748\n",
      "\n"
     ]
    },
    {
     "name": "stdout",
     "output_type": "stream",
     "text": [
      "Epoch 140, Loss 0.0208\n",
      "Training Accuracy: 0.9766, Testing Accuracy: 0.9743\n",
      "\n"
     ]
    },
    {
     "name": "stdout",
     "output_type": "stream",
     "text": [
      "Epoch 150, Loss 0.0202\n",
      "Training Accuracy: 0.9770, Testing Accuracy: 0.9763\n",
      "\n"
     ]
    },
    {
     "name": "stdout",
     "output_type": "stream",
     "text": [
      "Epoch 160, Loss 0.0196\n",
      "Training Accuracy: 0.9781, Testing Accuracy: 0.9768\n",
      "\n"
     ]
    },
    {
     "name": "stdout",
     "output_type": "stream",
     "text": [
      "Epoch 170, Loss 0.019\n",
      "Training Accuracy: 0.9783, Testing Accuracy: 0.9768\n",
      "\n"
     ]
    },
    {
     "name": "stdout",
     "output_type": "stream",
     "text": [
      "Epoch 180, Loss 0.0185\n",
      "Training Accuracy: 0.9787, Testing Accuracy: 0.9773\n",
      "\n"
     ]
    },
    {
     "name": "stdout",
     "output_type": "stream",
     "text": [
      "Epoch 190, Loss 0.018\n",
      "Training Accuracy: 0.9793, Testing Accuracy: 0.9768\n",
      "\n"
     ]
    },
    {
     "name": "stdout",
     "output_type": "stream",
     "text": [
      "Epoch 200, Loss 0.0175\n",
      "Training Accuracy: 0.9803, Testing Accuracy: 0.9773\n",
      "\n"
     ]
    },
    {
     "name": "stdout",
     "output_type": "stream",
     "text": [
      "Epoch 210, Loss 0.0171\n",
      "Training Accuracy: 0.9809, Testing Accuracy: 0.9783\n",
      "\n"
     ]
    },
    {
     "name": "stdout",
     "output_type": "stream",
     "text": [
      "Epoch 220, Loss 0.0166\n",
      "Training Accuracy: 0.9817, Testing Accuracy: 0.9783\n",
      "\n"
     ]
    },
    {
     "name": "stdout",
     "output_type": "stream",
     "text": [
      "Epoch 230, Loss 0.0162\n",
      "Training Accuracy: 0.9821, Testing Accuracy: 0.9783\n",
      "\n"
     ]
    },
    {
     "name": "stdout",
     "output_type": "stream",
     "text": [
      "Epoch 240, Loss 0.0158\n",
      "Training Accuracy: 0.9823, Testing Accuracy: 0.9788\n",
      "\n"
     ]
    },
    {
     "data": {
      "text/plain": [
       "0.003912410012665883"
      ]
     },
     "execution_count": 22,
     "metadata": {},
     "output_type": "execute_result"
    }
   ],
   "source": [
    "nn_learner.train_loop(dl)"
   ]
  },
  {
   "cell_type": "code",
   "execution_count": 23,
   "id": "e0163366",
   "metadata": {
    "execution": {
     "iopub.execute_input": "2022-02-12T00:29:05.354009Z",
     "iopub.status.busy": "2022-02-12T00:29:05.353274Z",
     "iopub.status.idle": "2022-02-12T00:29:24.488845Z",
     "shell.execute_reply": "2022-02-12T00:29:24.489942Z"
    },
    "papermill": {
     "duration": 19.192081,
     "end_time": "2022-02-12T00:29:24.490124",
     "exception": false,
     "start_time": "2022-02-12T00:29:05.298043",
     "status": "completed"
    },
    "tags": []
   },
   "outputs": [
    {
     "name": "stdout",
     "output_type": "stream",
     "text": [
      "Epoch 0, Loss 0.2292\n",
      "Training Accuracy: 0.7280, Testing Accuracy: 0.7339\n",
      "\n"
     ]
    },
    {
     "name": "stdout",
     "output_type": "stream",
     "text": [
      "Epoch 10, Loss 0.1016\n",
      "Training Accuracy: 0.9075, Testing Accuracy: 0.9183\n",
      "\n"
     ]
    },
    {
     "name": "stdout",
     "output_type": "stream",
     "text": [
      "Epoch 20, Loss 0.079\n",
      "Training Accuracy: 0.9263, Testing Accuracy: 0.9395\n",
      "\n"
     ]
    },
    {
     "name": "stdout",
     "output_type": "stream",
     "text": [
      "Epoch 30, Loss 0.0683\n",
      "Training Accuracy: 0.9346, Testing Accuracy: 0.9456\n",
      "\n"
     ]
    },
    {
     "name": "stdout",
     "output_type": "stream",
     "text": [
      "Epoch 40, Loss 0.0617\n",
      "Training Accuracy: 0.9394, Testing Accuracy: 0.9506\n",
      "\n"
     ]
    },
    {
     "name": "stdout",
     "output_type": "stream",
     "text": [
      "Epoch 50, Loss 0.0572\n",
      "Training Accuracy: 0.9423, Testing Accuracy: 0.9526\n",
      "\n"
     ]
    },
    {
     "name": "stdout",
     "output_type": "stream",
     "text": [
      "Epoch 60, Loss 0.0538\n",
      "Training Accuracy: 0.9453, Testing Accuracy: 0.9577\n",
      "\n"
     ]
    },
    {
     "name": "stdout",
     "output_type": "stream",
     "text": [
      "Epoch 70, Loss 0.0512\n",
      "Training Accuracy: 0.9482, Testing Accuracy: 0.9587\n",
      "\n"
     ]
    },
    {
     "name": "stdout",
     "output_type": "stream",
     "text": [
      "Epoch 80, Loss 0.0492\n",
      "Training Accuracy: 0.9499, Testing Accuracy: 0.9607\n",
      "\n"
     ]
    },
    {
     "name": "stdout",
     "output_type": "stream",
     "text": [
      "Epoch 90, Loss 0.0475\n",
      "Training Accuracy: 0.9508, Testing Accuracy: 0.9622\n",
      "\n"
     ]
    },
    {
     "name": "stdout",
     "output_type": "stream",
     "text": [
      "Epoch 100, Loss 0.046\n",
      "Training Accuracy: 0.9521, Testing Accuracy: 0.9632\n",
      "\n"
     ]
    },
    {
     "name": "stdout",
     "output_type": "stream",
     "text": [
      "Epoch 110, Loss 0.0448\n",
      "Training Accuracy: 0.9533, Testing Accuracy: 0.9627\n",
      "\n"
     ]
    },
    {
     "name": "stdout",
     "output_type": "stream",
     "text": [
      "Epoch 120, Loss 0.0438\n",
      "Training Accuracy: 0.9543, Testing Accuracy: 0.9637\n",
      "\n"
     ]
    },
    {
     "name": "stdout",
     "output_type": "stream",
     "text": [
      "Epoch 130, Loss 0.0428\n",
      "Training Accuracy: 0.9553, Testing Accuracy: 0.9652\n",
      "\n"
     ]
    },
    {
     "name": "stdout",
     "output_type": "stream",
     "text": [
      "Epoch 140, Loss 0.042\n",
      "Training Accuracy: 0.9559, Testing Accuracy: 0.9657\n",
      "\n"
     ]
    },
    {
     "name": "stdout",
     "output_type": "stream",
     "text": [
      "Epoch 150, Loss 0.0412\n",
      "Training Accuracy: 0.9566, Testing Accuracy: 0.9657\n",
      "\n"
     ]
    },
    {
     "name": "stdout",
     "output_type": "stream",
     "text": [
      "Epoch 160, Loss 0.0406\n",
      "Training Accuracy: 0.9571, Testing Accuracy: 0.9662\n",
      "\n"
     ]
    },
    {
     "name": "stdout",
     "output_type": "stream",
     "text": [
      "Epoch 170, Loss 0.04\n",
      "Training Accuracy: 0.9577, Testing Accuracy: 0.9662\n",
      "\n"
     ]
    },
    {
     "name": "stdout",
     "output_type": "stream",
     "text": [
      "Epoch 180, Loss 0.0394\n",
      "Training Accuracy: 0.9584, Testing Accuracy: 0.9677\n",
      "\n"
     ]
    },
    {
     "name": "stdout",
     "output_type": "stream",
     "text": [
      "Epoch 190, Loss 0.0389\n",
      "Training Accuracy: 0.9590, Testing Accuracy: 0.9677\n",
      "\n"
     ]
    },
    {
     "name": "stdout",
     "output_type": "stream",
     "text": [
      "Epoch 200, Loss 0.0384\n",
      "Training Accuracy: 0.9592, Testing Accuracy: 0.9672\n",
      "\n"
     ]
    },
    {
     "name": "stdout",
     "output_type": "stream",
     "text": [
      "Epoch 210, Loss 0.038\n",
      "Training Accuracy: 0.9593, Testing Accuracy: 0.9667\n",
      "\n"
     ]
    },
    {
     "name": "stdout",
     "output_type": "stream",
     "text": [
      "Epoch 220, Loss 0.0376\n",
      "Training Accuracy: 0.9598, Testing Accuracy: 0.9662\n",
      "\n"
     ]
    },
    {
     "name": "stdout",
     "output_type": "stream",
     "text": [
      "Epoch 230, Loss 0.0372\n",
      "Training Accuracy: 0.9599, Testing Accuracy: 0.9667\n",
      "\n"
     ]
    },
    {
     "name": "stdout",
     "output_type": "stream",
     "text": [
      "Epoch 240, Loss 0.0368\n",
      "Training Accuracy: 0.9604, Testing Accuracy: 0.9667\n",
      "\n"
     ]
    },
    {
     "data": {
      "text/plain": [
       "0.013052327541649372"
      ]
     },
     "execution_count": 23,
     "metadata": {},
     "output_type": "execute_result"
    }
   ],
   "source": [
    "lr_learner.train_loop(dl)"
   ]
  },
  {
   "cell_type": "code",
   "execution_count": 24,
   "id": "ca410940",
   "metadata": {
    "execution": {
     "iopub.execute_input": "2022-02-12T00:29:24.609315Z",
     "iopub.status.busy": "2022-02-12T00:29:24.608632Z",
     "iopub.status.idle": "2022-02-12T00:29:24.911018Z",
     "shell.execute_reply": "2022-02-12T00:29:24.910377Z"
    },
    "papermill": {
     "duration": 0.367005,
     "end_time": "2022-02-12T00:29:24.911169",
     "exception": false,
     "start_time": "2022-02-12T00:29:24.544164",
     "status": "completed"
    },
    "tags": []
   },
   "outputs": [
    {
     "data": {
      "text/plain": [
       "<matplotlib.legend.Legend at 0x7ff0c7628c18>"
      ]
     },
     "execution_count": 24,
     "metadata": {},
     "output_type": "execute_result"
    },
    {
     "data": {
      "image/png": "[encoded data removed]",
      "text/plain": [
       "<Figure size 1080x720 with 1 Axes>"
      ]
     },
     "metadata": {
      "needs_background": "light"
     },
     "output_type": "display_data"
    }
   ],
   "source": [
    "#comparing the results of NN and LR\n",
    "plt.figure(figsize=(15,10))\n",
    "\n",
    "# Neural Network plots\n",
    "plt.plot(acc_nn.accuracies, 'r-', label = \"Training Accuracies - NN\")\n",
    "plt.plot(acc_nn.test_accuracies, 'g-', label = \"Testing Accuracies - NN\")\n",
    "\n",
    "# Logistic Regression plots\n",
    "plt.plot(acc_lr.accuracies, 'k-', label = \"Training Accuracies - LR\")\n",
    "plt.plot(acc_lr.test_accuracies, 'b-', label = \"Testing Accuracies - LR\")\n",
    "plt.legend()"
   ]
  },
  {
   "cell_type": "markdown",
   "id": "80dfb35c",
   "metadata": {
    "papermill": {
     "duration": 0.056122,
     "end_time": "2022-02-12T00:29:25.023230",
     "exception": false,
     "start_time": "2022-02-12T00:29:24.967108",
     "status": "completed"
    },
    "tags": []
   },
   "source": [
    "#### Plotting the outputs of this layer of the NN.\n"
   ]
  },
  {
   "cell_type": "code",
   "execution_count": 25,
   "id": "45eb2ff5",
   "metadata": {
    "execution": {
     "iopub.execute_input": "2022-02-12T00:29:25.146212Z",
     "iopub.status.busy": "2022-02-12T00:29:25.145544Z",
     "iopub.status.idle": "2022-02-12T00:29:25.171744Z",
     "shell.execute_reply": "2022-02-12T00:29:25.172335Z"
    },
    "papermill": {
     "duration": 0.087688,
     "end_time": "2022-02-12T00:29:25.172678",
     "exception": false,
     "start_time": "2022-02-12T00:29:25.084990",
     "status": "completed"
    },
    "tags": []
   },
   "outputs": [],
   "source": [
    "new_model = Model(layers[:-2])\n",
    "testing_plot = new_model(testing_data_x)"
   ]
  },
  {
   "cell_type": "code",
   "execution_count": 26,
   "id": "4c0a5485",
   "metadata": {
    "execution": {
     "iopub.execute_input": "2022-02-12T00:29:25.289828Z",
     "iopub.status.busy": "2022-02-12T00:29:25.289159Z",
     "iopub.status.idle": "2022-02-12T00:29:25.567208Z",
     "shell.execute_reply": "2022-02-12T00:29:25.566662Z"
    },
    "papermill": {
     "duration": 0.336742,
     "end_time": "2022-02-12T00:29:25.567360",
     "exception": false,
     "start_time": "2022-02-12T00:29:25.230618",
     "status": "completed"
    },
    "tags": []
   },
   "outputs": [
    {
     "data": {
      "text/plain": [
       "Text(0.5, 1.0, 'Outputs')"
      ]
     },
     "execution_count": 26,
     "metadata": {},
     "output_type": "execute_result"
    },
    {
     "data": {
      "image/png": "[encoded data removed]",
      "text/plain": [
       "<Figure size 576x504 with 1 Axes>"
      ]
     },
     "metadata": {
      "needs_background": "light"
     },
     "output_type": "display_data"
    }
   ],
   "source": [
    "# Plotting the scatter plot of points and color coding by class\n",
    "plt.figure(figsize=(8,7))\n",
    "plt.scatter(testing_plot[:,0], testing_plot[:,1], alpha = 0.1, c = y_test.ravel());\n",
    "plt.title('Outputs')"
   ]
  },
  {
   "cell_type": "markdown",
   "id": "a74fcf8f",
   "metadata": {
    "papermill": {
     "duration": 0.056845,
     "end_time": "2022-02-12T00:29:25.681649",
     "exception": false,
     "start_time": "2022-02-12T00:29:25.624804",
     "status": "completed"
    },
    "tags": []
   },
   "source": [
    "Probability contours"
   ]
  },
  {
   "cell_type": "code",
   "execution_count": 27,
   "id": "d0afc8e3",
   "metadata": {
    "execution": {
     "iopub.execute_input": "2022-02-12T00:29:25.833547Z",
     "iopub.status.busy": "2022-02-12T00:29:25.832782Z",
     "iopub.status.idle": "2022-02-12T00:29:25.845670Z",
     "shell.execute_reply": "2022-02-12T00:29:25.844828Z"
    },
    "papermill": {
     "duration": 0.080418,
     "end_time": "2022-02-12T00:29:25.845809",
     "exception": false,
     "start_time": "2022-02-12T00:29:25.765391",
     "status": "completed"
    },
    "tags": []
   },
   "outputs": [],
   "source": [
    "model_prob = Model(layers[-2:]) "
   ]
  },
  {
   "cell_type": "code",
   "execution_count": 28,
   "id": "9b96e238",
   "metadata": {
    "execution": {
     "iopub.execute_input": "2022-02-12T00:29:25.965772Z",
     "iopub.status.busy": "2022-02-12T00:29:25.965102Z",
     "iopub.status.idle": "2022-02-12T00:29:25.980106Z",
     "shell.execute_reply": "2022-02-12T00:29:25.980631Z"
    },
    "papermill": {
     "duration": 0.077693,
     "end_time": "2022-02-12T00:29:25.980811",
     "exception": false,
     "start_time": "2022-02-12T00:29:25.903118",
     "status": "completed"
    },
    "tags": []
   },
   "outputs": [],
   "source": [
    "#creating the x and y ranges according to the above generated plot.\n",
    "x_range = np.linspace(-4, 1, 100) \n",
    "y_range = np.linspace(-6, 6, 100) \n",
    "x_grid, y_grid = np.meshgrid(x_range, y_range) # x_grid and y_grig are of size 100 X 100\n",
    "\n",
    "# converting x_grid and y_grid to continuous arrays\n",
    "x_gridflat = np.ravel(x_grid)\n",
    "y_gridflat = np.ravel(y_grid)\n",
    "\n",
    "# The last layer of the current model takes two columns as input. Hence transpose of np.vstack() is required.\n",
    "X = np.vstack((x_gridflat, y_gridflat)).T\n",
    "\n",
    "prob_contour = model_prob(X).reshape(100,100) "
   ]
  },
  {
   "cell_type": "code",
   "execution_count": 29,
   "id": "da72499a",
   "metadata": {
    "execution": {
     "iopub.execute_input": "2022-02-12T00:29:26.114908Z",
     "iopub.status.busy": "2022-02-12T00:29:26.114156Z",
     "iopub.status.idle": "2022-02-12T00:29:26.431258Z",
     "shell.execute_reply": "2022-02-12T00:29:26.430702Z"
    },
    "papermill": {
     "duration": 0.388776,
     "end_time": "2022-02-12T00:29:26.431408",
     "exception": false,
     "start_time": "2022-02-12T00:29:26.042632",
     "status": "completed"
    },
    "tags": []
   },
   "outputs": [
    {
     "data": {
      "image/png": "[encoded data removed]",
      "text/plain": [
       "<Figure size 720x648 with 1 Axes>"
      ]
     },
     "metadata": {
      "needs_background": "light"
     },
     "output_type": "display_data"
    }
   ],
   "source": [
    "plt.figure(figsize=(10,9))\n",
    "plt.scatter(testing_plot[:,0], testing_plot[:,1], alpha = 0.1, c = y_test.ravel())\n",
    "contours = plt.contour(x_grid,y_grid,prob_contour)\n",
    "plt.title('Probability Contours')\n",
    "plt.clabel(contours, inline = True );"
   ]
  },
  {
   "cell_type": "code",
   "execution_count": null,
   "id": "e81b4ac7",
   "metadata": {
    "papermill": {
     "duration": 0.06303,
     "end_time": "2022-02-12T00:29:26.557595",
     "exception": false,
     "start_time": "2022-02-12T00:29:26.494565",
     "status": "completed"
    },
    "tags": []
   },
   "outputs": [],
   "source": []
  }
 ],
 "metadata": {
  "kernelspec": {
   "display_name": "Python 3",
   "language": "python",
   "name": "python3"
  },
  "language_info": {
   "codemirror_mode": {
    "name": "ipython",
    "version": 3
   },
   "file_extension": ".py",
   "mimetype": "text/x-python",
   "name": "python",
   "nbconvert_exporter": "python",
   "pygments_lexer": "ipython3",
   "version": "3.6.15"
  },
  "papermill": {
   "default_parameters": {},
   "duration": 159.102356,
   "end_time": "2022-02-12T00:29:27.037563",
   "environment_variables": {},
   "exception": null,
   "input_path": "2020-08-11-part2.ipynb",
   "output_path": "2020-08-11-part2.ipynb",
   "parameters": {},
   "start_time": "2022-02-12T00:26:47.935207",
   "version": "2.3.3"
  }
 },
 "nbformat": 4,
 "nbformat_minor": 5
}