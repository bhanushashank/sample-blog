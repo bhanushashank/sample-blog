{
 "cells": [
  {
   "cell_type": "markdown",
   "id": "98380cd3",
   "metadata": {
    "papermill": {
     "duration": 0.028862,
     "end_time": "2022-06-06T00:34:59.870272",
     "exception": false,
     "start_time": "2022-06-06T00:34:59.841410",
     "status": "completed"
    },
    "tags": []
   },
   "source": [
    "# Distinguish Your Own Digits (DYOD)"
   ]
  },
  {
   "cell_type": "markdown",
   "id": "ef31240d",
   "metadata": {
    "papermill": {
     "duration": 0.024242,
     "end_time": "2022-06-06T00:34:59.919055",
     "exception": false,
     "start_time": "2022-06-06T00:34:59.894813",
     "status": "completed"
    },
    "tags": []
   },
   "source": [
    "You are going to write a classifier that distinguishes between the number 3 and number 8."
   ]
  },
  {
   "cell_type": "code",
   "execution_count": 1,
   "id": "b15c8646",
   "metadata": {
    "execution": {
     "iopub.execute_input": "2022-06-06T00:34:59.976790Z",
     "iopub.status.busy": "2022-06-06T00:34:59.976207Z",
     "iopub.status.idle": "2022-06-06T00:34:59.986666Z",
     "shell.execute_reply": "2022-06-06T00:34:59.986203Z"
    },
    "papermill": {
     "duration": 0.043812,
     "end_time": "2022-06-06T00:34:59.986778",
     "exception": false,
     "start_time": "2022-06-06T00:34:59.942966",
     "status": "completed"
    },
    "tags": []
   },
   "outputs": [],
   "source": [
    "%load_ext autoreload\n",
    "%autoreload 2"
   ]
  },
  {
   "cell_type": "code",
   "execution_count": 2,
   "id": "22ef38dc",
   "metadata": {
    "execution": {
     "iopub.execute_input": "2022-06-06T00:35:00.038386Z",
     "iopub.status.busy": "2022-06-06T00:35:00.037843Z",
     "iopub.status.idle": "2022-06-06T00:35:00.538063Z",
     "shell.execute_reply": "2022-06-06T00:35:00.537458Z"
    },
    "papermill": {
     "duration": 0.527451,
     "end_time": "2022-06-06T00:35:00.538171",
     "exception": false,
     "start_time": "2022-06-06T00:35:00.010720",
     "status": "completed"
    },
    "tags": []
   },
   "outputs": [],
   "source": [
    "%matplotlib inline\n",
    "import numpy as np\n",
    "import matplotlib.pyplot as plt\n",
    "import pandas as pd"
   ]
  },
  {
   "cell_type": "markdown",
   "id": "ba036198",
   "metadata": {
    "papermill": {
     "duration": 0.023968,
     "end_time": "2022-06-06T00:35:00.586000",
     "exception": false,
     "start_time": "2022-06-06T00:35:00.562032",
     "status": "completed"
    },
    "tags": []
   },
   "source": [
    "From the command line run `pip install mnist`. This is a library that will help you bring down the mnist dataset. If you run this from a notebook, you need to put  `!pip install mnist` in a cell by itself."
   ]
  },
  {
   "cell_type": "code",
   "execution_count": 3,
   "id": "bb6ad8a1",
   "metadata": {
    "execution": {
     "iopub.execute_input": "2022-06-06T00:35:00.636460Z",
     "iopub.status.busy": "2022-06-06T00:35:00.635905Z",
     "iopub.status.idle": "2022-06-06T00:35:02.525852Z",
     "shell.execute_reply": "2022-06-06T00:35:02.526644Z"
    },
    "papermill": {
     "duration": 1.91688,
     "end_time": "2022-06-06T00:35:02.526784",
     "exception": false,
     "start_time": "2022-06-06T00:35:00.609904",
     "status": "completed"
    },
    "tags": []
   },
   "outputs": [
    {
     "name": "stdout",
     "output_type": "stream",
     "text": [
      "Collecting mnist\r\n"
     ]
    },
    {
     "name": "stdout",
     "output_type": "stream",
     "text": [
      "  Downloading mnist-0.2.2-py2.py3-none-any.whl (3.5 kB)\r\n",
      "Requirement already satisfied: numpy in /opt/hostedtoolcache/Python/3.6.15/x64/lib/python3.6/site-packages (from mnist) (1.19.5)\r\n"
     ]
    },
    {
     "name": "stdout",
     "output_type": "stream",
     "text": [
      "Installing collected packages: mnist\r\n"
     ]
    },
    {
     "name": "stdout",
     "output_type": "stream",
     "text": [
      "Successfully installed mnist-0.2.2\r\n"
     ]
    }
   ],
   "source": [
    "!pip install mnist"
   ]
  },
  {
   "cell_type": "markdown",
   "id": "69df9c9a",
   "metadata": {
    "papermill": {
     "duration": 0.02529,
     "end_time": "2022-06-06T00:35:02.577293",
     "exception": false,
     "start_time": "2022-06-06T00:35:02.552003",
     "status": "completed"
    },
    "tags": []
   },
   "source": [
    "## Preparing the Data"
   ]
  },
  {
   "cell_type": "code",
   "execution_count": 4,
   "id": "7f69d806",
   "metadata": {
    "execution": {
     "iopub.execute_input": "2022-06-06T00:35:02.633956Z",
     "iopub.status.busy": "2022-06-06T00:35:02.630895Z",
     "iopub.status.idle": "2022-06-06T00:35:02.644665Z",
     "shell.execute_reply": "2022-06-06T00:35:02.644123Z"
    },
    "papermill": {
     "duration": 0.042663,
     "end_time": "2022-06-06T00:35:02.644764",
     "exception": false,
     "start_time": "2022-06-06T00:35:02.602101",
     "status": "completed"
    },
    "tags": []
   },
   "outputs": [],
   "source": [
    "import mnist"
   ]
  },
  {
   "cell_type": "code",
   "execution_count": 5,
   "id": "a411e44f",
   "metadata": {
    "execution": {
     "iopub.execute_input": "2022-06-06T00:35:02.698054Z",
     "iopub.status.busy": "2022-06-06T00:35:02.697500Z",
     "iopub.status.idle": "2022-06-06T00:35:03.526317Z",
     "shell.execute_reply": "2022-06-06T00:35:03.525815Z"
    },
    "papermill": {
     "duration": 0.85667,
     "end_time": "2022-06-06T00:35:03.526426",
     "exception": false,
     "start_time": "2022-06-06T00:35:02.669756",
     "status": "completed"
    },
    "tags": []
   },
   "outputs": [],
   "source": [
    "train_images = mnist.train_images()\n",
    "train_labels = mnist.train_labels()"
   ]
  },
  {
   "cell_type": "code",
   "execution_count": 6,
   "id": "dceab3a5",
   "metadata": {
    "execution": {
     "iopub.execute_input": "2022-06-06T00:35:03.580118Z",
     "iopub.status.busy": "2022-06-06T00:35:03.579573Z",
     "iopub.status.idle": "2022-06-06T00:35:03.593482Z",
     "shell.execute_reply": "2022-06-06T00:35:03.592926Z"
    },
    "papermill": {
     "duration": 0.041986,
     "end_time": "2022-06-06T00:35:03.593585",
     "exception": false,
     "start_time": "2022-06-06T00:35:03.551599",
     "status": "completed"
    },
    "tags": []
   },
   "outputs": [
    {
     "data": {
      "text/plain": [
       "((60000, 28, 28), (60000,))"
      ]
     },
     "execution_count": 6,
     "metadata": {},
     "output_type": "execute_result"
    }
   ],
   "source": [
    "train_images.shape, train_labels.shape"
   ]
  },
  {
   "cell_type": "code",
   "execution_count": 7,
   "id": "f50dc2bb",
   "metadata": {
    "execution": {
     "iopub.execute_input": "2022-06-06T00:35:03.647348Z",
     "iopub.status.busy": "2022-06-06T00:35:03.646795Z",
     "iopub.status.idle": "2022-06-06T00:35:03.919862Z",
     "shell.execute_reply": "2022-06-06T00:35:03.919359Z"
    },
    "papermill": {
     "duration": 0.301197,
     "end_time": "2022-06-06T00:35:03.919970",
     "exception": false,
     "start_time": "2022-06-06T00:35:03.618773",
     "status": "completed"
    },
    "tags": []
   },
   "outputs": [],
   "source": [
    "test_images = mnist.test_images()\n",
    "test_labels = mnist.test_labels()"
   ]
  },
  {
   "cell_type": "code",
   "execution_count": 8,
   "id": "fc38cf1b",
   "metadata": {
    "execution": {
     "iopub.execute_input": "2022-06-06T00:35:03.974070Z",
     "iopub.status.busy": "2022-06-06T00:35:03.973522Z",
     "iopub.status.idle": "2022-06-06T00:35:03.986088Z",
     "shell.execute_reply": "2022-06-06T00:35:03.985647Z"
    },
    "papermill": {
     "duration": 0.040707,
     "end_time": "2022-06-06T00:35:03.986184",
     "exception": false,
     "start_time": "2022-06-06T00:35:03.945477",
     "status": "completed"
    },
    "tags": []
   },
   "outputs": [
    {
     "data": {
      "text/plain": [
       "((10000, 28, 28), (10000,))"
      ]
     },
     "execution_count": 8,
     "metadata": {},
     "output_type": "execute_result"
    }
   ],
   "source": [
    "test_images.shape, test_labels.shape"
   ]
  },
  {
   "cell_type": "code",
   "execution_count": 9,
   "id": "f9ed8fe0",
   "metadata": {
    "execution": {
     "iopub.execute_input": "2022-06-06T00:35:04.040365Z",
     "iopub.status.busy": "2022-06-06T00:35:04.039822Z",
     "iopub.status.idle": "2022-06-06T00:35:04.171922Z",
     "shell.execute_reply": "2022-06-06T00:35:04.171444Z"
    },
    "papermill": {
     "duration": 0.160445,
     "end_time": "2022-06-06T00:35:04.172030",
     "exception": false,
     "start_time": "2022-06-06T00:35:04.011585",
     "status": "completed"
    },
    "tags": []
   },
   "outputs": [
    {
     "name": "stdout",
     "output_type": "stream",
     "text": [
      "2\n"
     ]
    },
    {
     "data": {
      "text/plain": [
       "<matplotlib.image.AxesImage at 0x7f82dfb6a400>"
      ]
     },
     "execution_count": 9,
     "metadata": {},
     "output_type": "execute_result"
    },
    {
     "data": {
      "image/png": "[encoded data removed]",
      "text/plain": [
       "<Figure size 432x288 with 1 Axes>"
      ]
     },
     "metadata": {
      "needs_background": "light"
     },
     "output_type": "display_data"
    }
   ],
   "source": [
    "image_index = 7776 # You may select anything up to 60,000\n",
    "print(train_labels[image_index]) \n",
    "plt.imshow(train_images[image_index], cmap='Greys')"
   ]
  },
  {
   "cell_type": "markdown",
   "id": "a8d2388d",
   "metadata": {
    "papermill": {
     "duration": 0.026881,
     "end_time": "2022-06-06T00:35:04.225914",
     "exception": false,
     "start_time": "2022-06-06T00:35:04.199033",
     "status": "completed"
    },
    "tags": []
   },
   "source": [
    "## Filter data to get 3 and 8 out"
   ]
  },
  {
   "cell_type": "code",
   "execution_count": 10,
   "id": "776f7fc7",
   "metadata": {
    "execution": {
     "iopub.execute_input": "2022-06-06T00:35:04.284697Z",
     "iopub.status.busy": "2022-06-06T00:35:04.284133Z",
     "iopub.status.idle": "2022-06-06T00:35:04.300175Z",
     "shell.execute_reply": "2022-06-06T00:35:04.300706Z"
    },
    "papermill": {
     "duration": 0.047412,
     "end_time": "2022-06-06T00:35:04.300833",
     "exception": false,
     "start_time": "2022-06-06T00:35:04.253421",
     "status": "completed"
    },
    "tags": []
   },
   "outputs": [],
   "source": [
    "train_filter = np.where((train_labels == 3 ) | (train_labels == 8))\n",
    "test_filter = np.where((test_labels == 3) | (test_labels == 8))\n",
    "X_train, y_train = train_images[train_filter], train_labels[train_filter]\n",
    "X_test, y_test = test_images[test_filter], test_labels[test_filter]"
   ]
  },
  {
   "cell_type": "markdown",
   "id": "948f0b7e",
   "metadata": {
    "papermill": {
     "duration": 0.026495,
     "end_time": "2022-06-06T00:35:04.354213",
     "exception": false,
     "start_time": "2022-06-06T00:35:04.327718",
     "status": "completed"
    },
    "tags": []
   },
   "source": [
    "We normalize the pizel values in the 0 to 1 range"
   ]
  },
  {
   "cell_type": "code",
   "execution_count": 11,
   "id": "ee4c2166",
   "metadata": {
    "execution": {
     "iopub.execute_input": "2022-06-06T00:35:04.410724Z",
     "iopub.status.busy": "2022-06-06T00:35:04.410176Z",
     "iopub.status.idle": "2022-06-06T00:35:04.449767Z",
     "shell.execute_reply": "2022-06-06T00:35:04.449293Z"
    },
    "papermill": {
     "duration": 0.069161,
     "end_time": "2022-06-06T00:35:04.449872",
     "exception": false,
     "start_time": "2022-06-06T00:35:04.380711",
     "status": "completed"
    },
    "tags": []
   },
   "outputs": [],
   "source": [
    "X_train = X_train/255.\n",
    "X_test = X_test/255."
   ]
  },
  {
   "cell_type": "markdown",
   "id": "ddcf4fab",
   "metadata": {
    "papermill": {
     "duration": 0.026527,
     "end_time": "2022-06-06T00:35:04.503188",
     "exception": false,
     "start_time": "2022-06-06T00:35:04.476661",
     "status": "completed"
    },
    "tags": []
   },
   "source": [
    "And setup the labels as 1 (when the digit is 3) and 0 (when the digit is 8)"
   ]
  },
  {
   "cell_type": "code",
   "execution_count": 12,
   "id": "7dc908f2",
   "metadata": {
    "execution": {
     "iopub.execute_input": "2022-06-06T00:35:04.560144Z",
     "iopub.status.busy": "2022-06-06T00:35:04.559596Z",
     "iopub.status.idle": "2022-06-06T00:35:04.571303Z",
     "shell.execute_reply": "2022-06-06T00:35:04.570854Z"
    },
    "papermill": {
     "duration": 0.041594,
     "end_time": "2022-06-06T00:35:04.571401",
     "exception": false,
     "start_time": "2022-06-06T00:35:04.529807",
     "status": "completed"
    },
    "tags": []
   },
   "outputs": [],
   "source": [
    "y_train = 1*(y_train==3)\n",
    "y_test = 1*(y_test==3)"
   ]
  },
  {
   "cell_type": "code",
   "execution_count": 13,
   "id": "01e4e969",
   "metadata": {
    "execution": {
     "iopub.execute_input": "2022-06-06T00:35:04.628296Z",
     "iopub.status.busy": "2022-06-06T00:35:04.627752Z",
     "iopub.status.idle": "2022-06-06T00:35:04.640296Z",
     "shell.execute_reply": "2022-06-06T00:35:04.640719Z"
    },
    "papermill": {
     "duration": 0.042799,
     "end_time": "2022-06-06T00:35:04.640839",
     "exception": false,
     "start_time": "2022-06-06T00:35:04.598040",
     "status": "completed"
    },
    "tags": []
   },
   "outputs": [
    {
     "data": {
      "text/plain": [
       "((11982, 28, 28), (1984, 28, 28))"
      ]
     },
     "execution_count": 13,
     "metadata": {},
     "output_type": "execute_result"
    }
   ],
   "source": [
    "X_train.shape, X_test.shape"
   ]
  },
  {
   "cell_type": "markdown",
   "id": "5ccf3f85",
   "metadata": {
    "papermill": {
     "duration": 0.026789,
     "end_time": "2022-06-06T00:35:04.694472",
     "exception": false,
     "start_time": "2022-06-06T00:35:04.667683",
     "status": "completed"
    },
    "tags": []
   },
   "source": [
    "We reshape the data to flatten the image pixels into a set of features or co-variates:"
   ]
  },
  {
   "cell_type": "code",
   "execution_count": 14,
   "id": "5286a4a3",
   "metadata": {
    "execution": {
     "iopub.execute_input": "2022-06-06T00:35:04.752274Z",
     "iopub.status.busy": "2022-06-06T00:35:04.751728Z",
     "iopub.status.idle": "2022-06-06T00:35:04.764940Z",
     "shell.execute_reply": "2022-06-06T00:35:04.764399Z"
    },
    "papermill": {
     "duration": 0.043512,
     "end_time": "2022-06-06T00:35:04.765042",
     "exception": false,
     "start_time": "2022-06-06T00:35:04.721530",
     "status": "completed"
    },
    "tags": []
   },
   "outputs": [
    {
     "data": {
      "text/plain": [
       "((11982, 784), (1984, 784))"
      ]
     },
     "execution_count": 14,
     "metadata": {},
     "output_type": "execute_result"
    }
   ],
   "source": [
    "X_train = X_train.reshape(X_train.shape[0], -1)\n",
    "X_test = X_test.reshape(X_test.shape[0], -1)\n",
    "X_train.shape, X_test.shape"
   ]
  },
  {
   "cell_type": "code",
   "execution_count": 15,
   "id": "73c5f88a",
   "metadata": {
    "execution": {
     "iopub.execute_input": "2022-06-06T00:35:04.823831Z",
     "iopub.status.busy": "2022-06-06T00:35:04.823272Z",
     "iopub.status.idle": "2022-06-06T00:35:04.841115Z",
     "shell.execute_reply": "2022-06-06T00:35:04.841552Z"
    },
    "papermill": {
     "duration": 0.049282,
     "end_time": "2022-06-06T00:35:04.841674",
     "exception": false,
     "start_time": "2022-06-06T00:35:04.792392",
     "status": "completed"
    },
    "tags": []
   },
   "outputs": [],
   "source": [
    "#Impoting functions from 'Kudzu'\n",
    "from kudzu.model import Model\n",
    "from kudzu.train import Learner\n",
    "from kudzu.optim import GD\n",
    "from kudzu.data import Data, Sampler,Dataloader\n",
    "\n",
    "from kudzu.callbacks import AccCallback\n",
    "from kudzu.callbacks import ClfCallback\n",
    "\n",
    "from kudzu.loss import MSE\n",
    "\n",
    "from kudzu.layer import Sigmoid,Relu\n",
    "from kudzu.layer import Affine"
   ]
  },
  {
   "cell_type": "markdown",
   "id": "bc01172a",
   "metadata": {
    "papermill": {
     "duration": 0.027188,
     "end_time": "2022-06-06T00:35:04.896035",
     "exception": false,
     "start_time": "2022-06-06T00:35:04.868847",
     "status": "completed"
    },
    "tags": []
   },
   "source": [
    "### Let us create a `Config` class, to store important parameters. \n",
    "This class essentially plays the role of a dictionary."
   ]
  },
  {
   "cell_type": "code",
   "execution_count": 16,
   "id": "978281aa",
   "metadata": {
    "execution": {
     "iopub.execute_input": "2022-06-06T00:35:04.953974Z",
     "iopub.status.busy": "2022-06-06T00:35:04.953408Z",
     "iopub.status.idle": "2022-06-06T00:35:04.964925Z",
     "shell.execute_reply": "2022-06-06T00:35:04.965342Z"
    },
    "papermill": {
     "duration": 0.042375,
     "end_time": "2022-06-06T00:35:04.965463",
     "exception": false,
     "start_time": "2022-06-06T00:35:04.923088",
     "status": "completed"
    },
    "tags": []
   },
   "outputs": [],
   "source": [
    "class Config:\n",
    "    pass\n",
    "config = Config()\n",
    "config.lr = 0.001\n",
    "config.num_epochs = 250\n",
    "config.bs = 50"
   ]
  },
  {
   "cell_type": "markdown",
   "id": "1385fa59",
   "metadata": {
    "papermill": {
     "duration": 0.027058,
     "end_time": "2022-06-06T00:35:05.019771",
     "exception": false,
     "start_time": "2022-06-06T00:35:04.992713",
     "status": "completed"
    },
    "tags": []
   },
   "source": [
    "### Running Models with the Training data\n",
    "Details about the network layers:\n",
    "- A first affine layer has 784 inputs and does 100 affine transforms. These are followed by a Relu\n",
    "- A second affine layer has 100 inputs from the 100 activations of the past layer, and does 100 affine transforms. These are followed by a Relu\n",
    "- A third affine layer has 100 activations and does 2 affine transformations to create an embedding for visualization. There is no non-linearity here.\n",
    "- A final \"logistic regression\" which has an affine transform from 2 inputs to 1 output, which is squeezed through a sigmoid.\n"
   ]
  },
  {
   "cell_type": "code",
   "execution_count": 17,
   "id": "2b9c66db",
   "metadata": {
    "execution": {
     "iopub.execute_input": "2022-06-06T00:35:05.078204Z",
     "iopub.status.busy": "2022-06-06T00:35:05.077629Z",
     "iopub.status.idle": "2022-06-06T00:35:05.089527Z",
     "shell.execute_reply": "2022-06-06T00:35:05.089055Z"
    },
    "papermill": {
     "duration": 0.042823,
     "end_time": "2022-06-06T00:35:05.089627",
     "exception": false,
     "start_time": "2022-06-06T00:35:05.046804",
     "status": "completed"
    },
    "tags": []
   },
   "outputs": [],
   "source": [
    "data = Data(X_train, y_train.reshape(-1,1))\n",
    "sampler = Sampler(data, config.bs, shuffle=True)\n",
    "\n",
    "dl = Dataloader(data, sampler)\n",
    "\n",
    "opt = GD(config.lr)\n",
    "loss = MSE()"
   ]
  },
  {
   "cell_type": "code",
   "execution_count": 18,
   "id": "b275e4c2",
   "metadata": {
    "execution": {
     "iopub.execute_input": "2022-06-06T00:35:05.147701Z",
     "iopub.status.busy": "2022-06-06T00:35:05.147147Z",
     "iopub.status.idle": "2022-06-06T00:35:05.158718Z",
     "shell.execute_reply": "2022-06-06T00:35:05.158270Z"
    },
    "papermill": {
     "duration": 0.041832,
     "end_time": "2022-06-06T00:35:05.158816",
     "exception": false,
     "start_time": "2022-06-06T00:35:05.116984",
     "status": "completed"
    },
    "tags": []
   },
   "outputs": [],
   "source": [
    "training_data_x = X_train\n",
    "testing_data_x = X_test\n",
    "training_data_y = y_train.reshape(-1,1)\n",
    "testing_data_y = y_test.reshape(-1,1)"
   ]
  },
  {
   "cell_type": "code",
   "execution_count": 19,
   "id": "76951160",
   "metadata": {
    "execution": {
     "iopub.execute_input": "2022-06-06T00:35:05.217446Z",
     "iopub.status.busy": "2022-06-06T00:35:05.216872Z",
     "iopub.status.idle": "2022-06-06T00:35:05.233210Z",
     "shell.execute_reply": "2022-06-06T00:35:05.232753Z"
    },
    "papermill": {
     "duration": 0.047505,
     "end_time": "2022-06-06T00:35:05.233331",
     "exception": false,
     "start_time": "2022-06-06T00:35:05.185826",
     "status": "completed"
    },
    "tags": []
   },
   "outputs": [
    {
     "name": "stdout",
     "output_type": "stream",
     "text": [
      "xavier\n",
      "xavier\n",
      "xavier\n",
      "xavier\n",
      "xavier\n"
     ]
    }
   ],
   "source": [
    "layers = [Affine(\"first\", 784, 100), Relu(\"first\"), Affine(\"second\", 100, 100), Relu(\"second\"), Affine(\"third\", 100, 2), Affine(\"last\", 2, 1), Sigmoid(\"last\")]\n",
    "model_nn = Model(layers)\n",
    "model_lr = Model([Affine(\"logits\", 784, 1), Sigmoid(\"sigmoid\")])"
   ]
  },
  {
   "cell_type": "code",
   "execution_count": 20,
   "id": "6eede77a",
   "metadata": {
    "execution": {
     "iopub.execute_input": "2022-06-06T00:35:05.292046Z",
     "iopub.status.busy": "2022-06-06T00:35:05.291493Z",
     "iopub.status.idle": "2022-06-06T00:35:05.303584Z",
     "shell.execute_reply": "2022-06-06T00:35:05.303130Z"
    },
    "papermill": {
     "duration": 0.0428,
     "end_time": "2022-06-06T00:35:05.303684",
     "exception": false,
     "start_time": "2022-06-06T00:35:05.260884",
     "status": "completed"
    },
    "tags": []
   },
   "outputs": [],
   "source": [
    "nn_learner = Learner(loss, model_nn, opt, config.num_epochs)\n",
    "acc_nn = ClfCallback(nn_learner, config.bs, training_data_x , testing_data_x, training_data_y, testing_data_y)\n",
    "nn_learner.set_callbacks([acc_nn])"
   ]
  },
  {
   "cell_type": "code",
   "execution_count": 21,
   "id": "877b6cc7",
   "metadata": {
    "execution": {
     "iopub.execute_input": "2022-06-06T00:35:05.362425Z",
     "iopub.status.busy": "2022-06-06T00:35:05.361884Z",
     "iopub.status.idle": "2022-06-06T00:35:05.373491Z",
     "shell.execute_reply": "2022-06-06T00:35:05.373941Z"
    },
    "papermill": {
     "duration": 0.042974,
     "end_time": "2022-06-06T00:35:05.374059",
     "exception": false,
     "start_time": "2022-06-06T00:35:05.331085",
     "status": "completed"
    },
    "tags": []
   },
   "outputs": [],
   "source": [
    "lr_learner = Learner(loss, model_lr, opt, config.num_epochs)\n",
    "acc_lr = ClfCallback(lr_learner, config.bs, training_data_x , testing_data_x, training_data_y, testing_data_y)\n",
    "lr_learner.set_callbacks([acc_lr])"
   ]
  },
  {
   "cell_type": "code",
   "execution_count": 22,
   "id": "d9b133c3",
   "metadata": {
    "execution": {
     "iopub.execute_input": "2022-06-06T00:35:05.432314Z",
     "iopub.status.busy": "2022-06-06T00:35:05.431754Z",
     "iopub.status.idle": "2022-06-06T00:37:59.745182Z",
     "shell.execute_reply": "2022-06-06T00:37:59.745665Z"
    },
    "papermill": {
     "duration": 174.344352,
     "end_time": "2022-06-06T00:37:59.745794",
     "exception": false,
     "start_time": "2022-06-06T00:35:05.401442",
     "status": "completed"
    },
    "tags": []
   },
   "outputs": [
    {
     "name": "stdout",
     "output_type": "stream",
     "text": [
      "Epoch 0, Loss 0.2295\n",
      "Training Accuracy: 0.7543, Testing Accuracy: 0.7757\n",
      "\n"
     ]
    },
    {
     "name": "stdout",
     "output_type": "stream",
     "text": [
      "Epoch 10, Loss 0.0768\n",
      "Training Accuracy: 0.9286, Testing Accuracy: 0.9375\n",
      "\n"
     ]
    },
    {
     "name": "stdout",
     "output_type": "stream",
     "text": [
      "Epoch 20, Loss 0.0504\n",
      "Training Accuracy: 0.9478, Testing Accuracy: 0.9567\n",
      "\n"
     ]
    },
    {
     "name": "stdout",
     "output_type": "stream",
     "text": [
      "Epoch 30, Loss 0.0411\n",
      "Training Accuracy: 0.9558, Testing Accuracy: 0.9627\n",
      "\n"
     ]
    },
    {
     "name": "stdout",
     "output_type": "stream",
     "text": [
      "Epoch 40, Loss 0.0362\n",
      "Training Accuracy: 0.9588, Testing Accuracy: 0.9672\n",
      "\n"
     ]
    },
    {
     "name": "stdout",
     "output_type": "stream",
     "text": [
      "Epoch 50, Loss 0.0332\n",
      "Training Accuracy: 0.9611, Testing Accuracy: 0.9682\n",
      "\n"
     ]
    },
    {
     "name": "stdout",
     "output_type": "stream",
     "text": [
      "Epoch 60, Loss 0.031\n",
      "Training Accuracy: 0.9630, Testing Accuracy: 0.9703\n",
      "\n"
     ]
    },
    {
     "name": "stdout",
     "output_type": "stream",
     "text": [
      "Epoch 70, Loss 0.0293\n",
      "Training Accuracy: 0.9648, Testing Accuracy: 0.9703\n",
      "\n"
     ]
    },
    {
     "name": "stdout",
     "output_type": "stream",
     "text": [
      "Epoch 80, Loss 0.028\n",
      "Training Accuracy: 0.9666, Testing Accuracy: 0.9713\n",
      "\n"
     ]
    },
    {
     "name": "stdout",
     "output_type": "stream",
     "text": [
      "Epoch 90, Loss 0.0268\n",
      "Training Accuracy: 0.9685, Testing Accuracy: 0.9718\n",
      "\n"
     ]
    },
    {
     "name": "stdout",
     "output_type": "stream",
     "text": [
      "Epoch 100, Loss 0.0258\n",
      "Training Accuracy: 0.9696, Testing Accuracy: 0.9728\n",
      "\n"
     ]
    },
    {
     "name": "stdout",
     "output_type": "stream",
     "text": [
      "Epoch 110, Loss 0.0249\n",
      "Training Accuracy: 0.9707, Testing Accuracy: 0.9723\n",
      "\n"
     ]
    },
    {
     "name": "stdout",
     "output_type": "stream",
     "text": [
      "Epoch 120, Loss 0.0241\n",
      "Training Accuracy: 0.9721, Testing Accuracy: 0.9743\n",
      "\n"
     ]
    },
    {
     "name": "stdout",
     "output_type": "stream",
     "text": [
      "Epoch 130, Loss 0.0234\n",
      "Training Accuracy: 0.9728, Testing Accuracy: 0.9743\n",
      "\n"
     ]
    },
    {
     "name": "stdout",
     "output_type": "stream",
     "text": [
      "Epoch 140, Loss 0.0227\n",
      "Training Accuracy: 0.9738, Testing Accuracy: 0.9733\n",
      "\n"
     ]
    },
    {
     "name": "stdout",
     "output_type": "stream",
     "text": [
      "Epoch 150, Loss 0.0221\n",
      "Training Accuracy: 0.9745, Testing Accuracy: 0.9733\n",
      "\n"
     ]
    },
    {
     "name": "stdout",
     "output_type": "stream",
     "text": [
      "Epoch 160, Loss 0.0215\n",
      "Training Accuracy: 0.9757, Testing Accuracy: 0.9733\n",
      "\n"
     ]
    },
    {
     "name": "stdout",
     "output_type": "stream",
     "text": [
      "Epoch 170, Loss 0.021\n",
      "Training Accuracy: 0.9766, Testing Accuracy: 0.9733\n",
      "\n"
     ]
    },
    {
     "name": "stdout",
     "output_type": "stream",
     "text": [
      "Epoch 180, Loss 0.0205\n",
      "Training Accuracy: 0.9770, Testing Accuracy: 0.9738\n",
      "\n"
     ]
    },
    {
     "name": "stdout",
     "output_type": "stream",
     "text": [
      "Epoch 190, Loss 0.02\n",
      "Training Accuracy: 0.9773, Testing Accuracy: 0.9743\n",
      "\n"
     ]
    },
    {
     "name": "stdout",
     "output_type": "stream",
     "text": [
      "Epoch 200, Loss 0.0195\n",
      "Training Accuracy: 0.9780, Testing Accuracy: 0.9743\n",
      "\n"
     ]
    },
    {
     "name": "stdout",
     "output_type": "stream",
     "text": [
      "Epoch 210, Loss 0.0191\n",
      "Training Accuracy: 0.9788, Testing Accuracy: 0.9748\n",
      "\n"
     ]
    },
    {
     "name": "stdout",
     "output_type": "stream",
     "text": [
      "Epoch 220, Loss 0.0187\n",
      "Training Accuracy: 0.9792, Testing Accuracy: 0.9748\n",
      "\n"
     ]
    },
    {
     "name": "stdout",
     "output_type": "stream",
     "text": [
      "Epoch 230, Loss 0.0183\n",
      "Training Accuracy: 0.9798, Testing Accuracy: 0.9748\n",
      "\n"
     ]
    },
    {
     "name": "stdout",
     "output_type": "stream",
     "text": [
      "Epoch 240, Loss 0.0179\n",
      "Training Accuracy: 0.9806, Testing Accuracy: 0.9753\n",
      "\n"
     ]
    },
    {
     "data": {
      "text/plain": [
       "0.010067022868061456"
      ]
     },
     "execution_count": 22,
     "metadata": {},
     "output_type": "execute_result"
    }
   ],
   "source": [
    "nn_learner.train_loop(dl)"
   ]
  },
  {
   "cell_type": "code",
   "execution_count": 23,
   "id": "e0163366",
   "metadata": {
    "execution": {
     "iopub.execute_input": "2022-06-06T00:37:59.822553Z",
     "iopub.status.busy": "2022-06-06T00:37:59.821974Z",
     "iopub.status.idle": "2022-06-06T00:38:11.730335Z",
     "shell.execute_reply": "2022-06-06T00:38:11.731128Z"
    },
    "papermill": {
     "duration": 11.951016,
     "end_time": "2022-06-06T00:38:11.731270",
     "exception": false,
     "start_time": "2022-06-06T00:37:59.780254",
     "status": "completed"
    },
    "tags": []
   },
   "outputs": [
    {
     "name": "stdout",
     "output_type": "stream",
     "text": [
      "Epoch 0, Loss 0.2124\n",
      "Training Accuracy: 0.8043, Testing Accuracy: 0.8201\n",
      "\n"
     ]
    },
    {
     "name": "stdout",
     "output_type": "stream",
     "text": [
      "Epoch 10, Loss 0.0993\n",
      "Training Accuracy: 0.9134, Testing Accuracy: 0.9199\n",
      "\n"
     ]
    },
    {
     "name": "stdout",
     "output_type": "stream",
     "text": [
      "Epoch 20, Loss 0.078\n",
      "Training Accuracy: 0.9280, Testing Accuracy: 0.9365\n",
      "\n"
     ]
    },
    {
     "name": "stdout",
     "output_type": "stream",
     "text": [
      "Epoch 30, Loss 0.0677\n",
      "Training Accuracy: 0.9363, Testing Accuracy: 0.9430\n",
      "\n"
     ]
    },
    {
     "name": "stdout",
     "output_type": "stream",
     "text": [
      "Epoch 40, Loss 0.0614\n",
      "Training Accuracy: 0.9404, Testing Accuracy: 0.9486\n",
      "\n"
     ]
    },
    {
     "name": "stdout",
     "output_type": "stream",
     "text": [
      "Epoch 50, Loss 0.057\n",
      "Training Accuracy: 0.9428, Testing Accuracy: 0.9536\n",
      "\n"
     ]
    },
    {
     "name": "stdout",
     "output_type": "stream",
     "text": [
      "Epoch 60, Loss 0.0537\n",
      "Training Accuracy: 0.9458, Testing Accuracy: 0.9582\n",
      "\n"
     ]
    },
    {
     "name": "stdout",
     "output_type": "stream",
     "text": [
      "Epoch 70, Loss 0.0512\n",
      "Training Accuracy: 0.9478, Testing Accuracy: 0.9597\n",
      "\n"
     ]
    },
    {
     "name": "stdout",
     "output_type": "stream",
     "text": [
      "Epoch 80, Loss 0.0492\n",
      "Training Accuracy: 0.9498, Testing Accuracy: 0.9602\n",
      "\n"
     ]
    },
    {
     "name": "stdout",
     "output_type": "stream",
     "text": [
      "Epoch 90, Loss 0.0475\n",
      "Training Accuracy: 0.9517, Testing Accuracy: 0.9612\n",
      "\n"
     ]
    },
    {
     "name": "stdout",
     "output_type": "stream",
     "text": [
      "Epoch 100, Loss 0.0461\n",
      "Training Accuracy: 0.9536, Testing Accuracy: 0.9617\n",
      "\n"
     ]
    },
    {
     "name": "stdout",
     "output_type": "stream",
     "text": [
      "Epoch 110, Loss 0.0449\n",
      "Training Accuracy: 0.9543, Testing Accuracy: 0.9622\n",
      "\n"
     ]
    },
    {
     "name": "stdout",
     "output_type": "stream",
     "text": [
      "Epoch 120, Loss 0.0438\n",
      "Training Accuracy: 0.9552, Testing Accuracy: 0.9612\n",
      "\n"
     ]
    },
    {
     "name": "stdout",
     "output_type": "stream",
     "text": [
      "Epoch 130, Loss 0.0429\n",
      "Training Accuracy: 0.9559, Testing Accuracy: 0.9632\n",
      "\n"
     ]
    },
    {
     "name": "stdout",
     "output_type": "stream",
     "text": [
      "Epoch 140, Loss 0.042\n",
      "Training Accuracy: 0.9567, Testing Accuracy: 0.9632\n",
      "\n"
     ]
    },
    {
     "name": "stdout",
     "output_type": "stream",
     "text": [
      "Epoch 150, Loss 0.0413\n",
      "Training Accuracy: 0.9571, Testing Accuracy: 0.9632\n",
      "\n"
     ]
    },
    {
     "name": "stdout",
     "output_type": "stream",
     "text": [
      "Epoch 160, Loss 0.0406\n",
      "Training Accuracy: 0.9573, Testing Accuracy: 0.9637\n",
      "\n"
     ]
    },
    {
     "name": "stdout",
     "output_type": "stream",
     "text": [
      "Epoch 170, Loss 0.04\n",
      "Training Accuracy: 0.9579, Testing Accuracy: 0.9637\n",
      "\n"
     ]
    },
    {
     "name": "stdout",
     "output_type": "stream",
     "text": [
      "Epoch 180, Loss 0.0394\n",
      "Training Accuracy: 0.9584, Testing Accuracy: 0.9642\n",
      "\n"
     ]
    },
    {
     "name": "stdout",
     "output_type": "stream",
     "text": [
      "Epoch 190, Loss 0.0389\n",
      "Training Accuracy: 0.9592, Testing Accuracy: 0.9647\n",
      "\n"
     ]
    },
    {
     "name": "stdout",
     "output_type": "stream",
     "text": [
      "Epoch 200, Loss 0.0385\n",
      "Training Accuracy: 0.9594, Testing Accuracy: 0.9647\n",
      "\n"
     ]
    },
    {
     "name": "stdout",
     "output_type": "stream",
     "text": [
      "Epoch 210, Loss 0.038\n",
      "Training Accuracy: 0.9599, Testing Accuracy: 0.9647\n",
      "\n"
     ]
    },
    {
     "name": "stdout",
     "output_type": "stream",
     "text": [
      "Epoch 220, Loss 0.0376\n",
      "Training Accuracy: 0.9600, Testing Accuracy: 0.9652\n",
      "\n"
     ]
    },
    {
     "name": "stdout",
     "output_type": "stream",
     "text": [
      "Epoch 230, Loss 0.0372\n",
      "Training Accuracy: 0.9604, Testing Accuracy: 0.9657\n",
      "\n"
     ]
    },
    {
     "name": "stdout",
     "output_type": "stream",
     "text": [
      "Epoch 240, Loss 0.0369\n",
      "Training Accuracy: 0.9607, Testing Accuracy: 0.9662\n",
      "\n"
     ]
    },
    {
     "data": {
      "text/plain": [
       "0.05810945518545057"
      ]
     },
     "execution_count": 23,
     "metadata": {},
     "output_type": "execute_result"
    }
   ],
   "source": [
    "lr_learner.train_loop(dl)"
   ]
  },
  {
   "cell_type": "code",
   "execution_count": 24,
   "id": "ca410940",
   "metadata": {
    "execution": {
     "iopub.execute_input": "2022-06-06T00:38:11.821809Z",
     "iopub.status.busy": "2022-06-06T00:38:11.821194Z",
     "iopub.status.idle": "2022-06-06T00:38:12.040030Z",
     "shell.execute_reply": "2022-06-06T00:38:12.040459Z"
    },
    "papermill": {
     "duration": 0.267998,
     "end_time": "2022-06-06T00:38:12.040583",
     "exception": false,
     "start_time": "2022-06-06T00:38:11.772585",
     "status": "completed"
    },
    "tags": []
   },
   "outputs": [
    {
     "data": {
      "text/plain": [
       "<matplotlib.legend.Legend at 0x7f82df6caa20>"
      ]
     },
     "execution_count": 24,
     "metadata": {},
     "output_type": "execute_result"
    },
    {
     "data": {
      "image/png": "[encoded data removed]",
      "text/plain": [
       "<Figure size 1080x720 with 1 Axes>"
      ]
     },
     "metadata": {
      "needs_background": "light"
     },
     "output_type": "display_data"
    }
   ],
   "source": [
    "#comparing the results of NN and LR\n",
    "plt.figure(figsize=(15,10))\n",
    "\n",
    "# Neural Network plots\n",
    "plt.plot(acc_nn.accuracies, 'r-', label = \"Training Accuracies - NN\")\n",
    "plt.plot(acc_nn.test_accuracies, 'g-', label = \"Testing Accuracies - NN\")\n",
    "\n",
    "# Logistic Regression plots\n",
    "plt.plot(acc_lr.accuracies, 'k-', label = \"Training Accuracies - LR\")\n",
    "plt.plot(acc_lr.test_accuracies, 'b-', label = \"Testing Accuracies - LR\")\n",
    "plt.legend()"
   ]
  },
  {
   "cell_type": "markdown",
   "id": "80dfb35c",
   "metadata": {
    "papermill": {
     "duration": 0.042348,
     "end_time": "2022-06-06T00:38:12.125672",
     "exception": false,
     "start_time": "2022-06-06T00:38:12.083324",
     "status": "completed"
    },
    "tags": []
   },
   "source": [
    "#### Plotting the outputs of this layer of the NN.\n"
   ]
  },
  {
   "cell_type": "code",
   "execution_count": 25,
   "id": "45eb2ff5",
   "metadata": {
    "execution": {
     "iopub.execute_input": "2022-06-06T00:38:12.217403Z",
     "iopub.status.busy": "2022-06-06T00:38:12.214999Z",
     "iopub.status.idle": "2022-06-06T00:38:12.252102Z",
     "shell.execute_reply": "2022-06-06T00:38:12.251629Z"
    },
    "papermill": {
     "duration": 0.0842,
     "end_time": "2022-06-06T00:38:12.252207",
     "exception": false,
     "start_time": "2022-06-06T00:38:12.168007",
     "status": "completed"
    },
    "tags": []
   },
   "outputs": [],
   "source": [
    "new_model = Model(layers[:-2])\n",
    "testing_plot = new_model(testing_data_x)"
   ]
  },
  {
   "cell_type": "code",
   "execution_count": 26,
   "id": "4c0a5485",
   "metadata": {
    "execution": {
     "iopub.execute_input": "2022-06-06T00:38:12.346997Z",
     "iopub.status.busy": "2022-06-06T00:38:12.344012Z",
     "iopub.status.idle": "2022-06-06T00:38:12.536507Z",
     "shell.execute_reply": "2022-06-06T00:38:12.536051Z"
    },
    "papermill": {
     "duration": 0.241121,
     "end_time": "2022-06-06T00:38:12.536617",
     "exception": false,
     "start_time": "2022-06-06T00:38:12.295496",
     "status": "completed"
    },
    "tags": []
   },
   "outputs": [
    {
     "data": {
      "text/plain": [
       "Text(0.5, 1.0, 'Outputs')"
      ]
     },
     "execution_count": 26,
     "metadata": {},
     "output_type": "execute_result"
    },
    {
     "data": {
      "image/png": "[encoded data removed]",
      "text/plain": [
       "<Figure size 576x504 with 1 Axes>"
      ]
     },
     "metadata": {
      "needs_background": "light"
     },
     "output_type": "display_data"
    }
   ],
   "source": [
    "# Plotting the scatter plot of points and color coding by class\n",
    "plt.figure(figsize=(8,7))\n",
    "plt.scatter(testing_plot[:,0], testing_plot[:,1], alpha = 0.1, c = y_test.ravel());\n",
    "plt.title('Outputs')"
   ]
  },
  {
   "cell_type": "markdown",
   "id": "a74fcf8f",
   "metadata": {
    "papermill": {
     "duration": 0.044579,
     "end_time": "2022-06-06T00:38:12.647980",
     "exception": false,
     "start_time": "2022-06-06T00:38:12.603401",
     "status": "completed"
    },
    "tags": []
   },
   "source": [
    "Probability contours"
   ]
  },
  {
   "cell_type": "code",
   "execution_count": 27,
   "id": "d0afc8e3",
   "metadata": {
    "execution": {
     "iopub.execute_input": "2022-06-06T00:38:12.742130Z",
     "iopub.status.busy": "2022-06-06T00:38:12.740178Z",
     "iopub.status.idle": "2022-06-06T00:38:12.751394Z",
     "shell.execute_reply": "2022-06-06T00:38:12.751817Z"
    },
    "papermill": {
     "duration": 0.059575,
     "end_time": "2022-06-06T00:38:12.751936",
     "exception": false,
     "start_time": "2022-06-06T00:38:12.692361",
     "status": "completed"
    },
    "tags": []
   },
   "outputs": [],
   "source": [
    "model_prob = Model(layers[-2:]) "
   ]
  },
  {
   "cell_type": "code",
   "execution_count": 28,
   "id": "9b96e238",
   "metadata": {
    "execution": {
     "iopub.execute_input": "2022-06-06T00:38:12.850098Z",
     "iopub.status.busy": "2022-06-06T00:38:12.845045Z",
     "iopub.status.idle": "2022-06-06T00:38:12.858437Z",
     "shell.execute_reply": "2022-06-06T00:38:12.857992Z"
    },
    "papermill": {
     "duration": 0.061864,
     "end_time": "2022-06-06T00:38:12.858543",
     "exception": false,
     "start_time": "2022-06-06T00:38:12.796679",
     "status": "completed"
    },
    "tags": []
   },
   "outputs": [],
   "source": [
    "#creating the x and y ranges according to the above generated plot.\n",
    "x_range = np.linspace(-4, 1, 100) \n",
    "y_range = np.linspace(-6, 6, 100) \n",
    "x_grid, y_grid = np.meshgrid(x_range, y_range) # x_grid and y_grig are of size 100 X 100\n",
    "\n",
    "# converting x_grid and y_grid to continuous arrays\n",
    "x_gridflat = np.ravel(x_grid)\n",
    "y_gridflat = np.ravel(y_grid)\n",
    "\n",
    "# The last layer of the current model takes two columns as input. Hence transpose of np.vstack() is required.\n",
    "X = np.vstack((x_gridflat, y_gridflat)).T\n",
    "\n",
    "prob_contour = model_prob(X).reshape(100,100) "
   ]
  },
  {
   "cell_type": "code",
   "execution_count": 29,
   "id": "da72499a",
   "metadata": {
    "execution": {
     "iopub.execute_input": "2022-06-06T00:38:12.954750Z",
     "iopub.status.busy": "2022-06-06T00:38:12.954227Z",
     "iopub.status.idle": "2022-06-06T00:38:13.200281Z",
     "shell.execute_reply": "2022-06-06T00:38:13.199807Z"
    },
    "papermill": {
     "duration": 0.296619,
     "end_time": "2022-06-06T00:38:13.200388",
     "exception": false,
     "start_time": "2022-06-06T00:38:12.903769",
     "status": "completed"
    },
    "tags": []
   },
   "outputs": [
    {
     "data": {
      "image/png": "[encoded data removed]",
      "text/plain": [
       "<Figure size 720x648 with 1 Axes>"
      ]
     },
     "metadata": {
      "needs_background": "light"
     },
     "output_type": "display_data"
    }
   ],
   "source": [
    "plt.figure(figsize=(10,9))\n",
    "plt.scatter(testing_plot[:,0], testing_plot[:,1], alpha = 0.1, c = y_test.ravel())\n",
    "contours = plt.contour(x_grid,y_grid,prob_contour)\n",
    "plt.title('Probability Contours')\n",
    "plt.clabel(contours, inline = True );"
   ]
  },
  {
   "cell_type": "code",
   "execution_count": null,
   "id": "e81b4ac7",
   "metadata": {
    "papermill": {
     "duration": 0.047779,
     "end_time": "2022-06-06T00:38:13.295965",
     "exception": false,
     "start_time": "2022-06-06T00:38:13.248186",
     "status": "completed"
    },
    "tags": []
   },
   "outputs": [],
   "source": []
  }
 ],
 "metadata": {
  "kernelspec": {
   "display_name": "Python 3",
   "language": "python",
   "name": "python3"
  },
  "language_info": {
   "codemirror_mode": {
    "name": "ipython",
    "version": 3
   },
   "file_extension": ".py",
   "mimetype": "text/x-python",
   "name": "python",
   "nbconvert_exporter": "python",
   "pygments_lexer": "ipython3",
   "version": "3.6.15"
  },
  "papermill": {
   "default_parameters": {},
   "duration": 194.738584,
   "end_time": "2022-06-06T00:38:13.660573",
   "environment_variables": {},
   "exception": null,
   "input_path": "2020-08-11-part2.ipynb",
   "output_path": "2020-08-11-part2.ipynb",
   "parameters": {},
   "start_time": "2022-06-06T00:34:58.921989",
   "version": "2.3.3"
  }
 },
 "nbformat": 4,
 "nbformat_minor": 5
}