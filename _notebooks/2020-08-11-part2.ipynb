{
 "cells": [
  {
   "cell_type": "markdown",
   "id": "98380cd3",
   "metadata": {
    "papermill": {
     "duration": 0.029523,
     "end_time": "2022-09-11T10:10:25.924731",
     "exception": false,
     "start_time": "2022-09-11T10:10:25.895208",
     "status": "completed"
    },
    "tags": []
   },
   "source": [
    "# Distinguish Your Own Digits (DYOD)"
   ]
  },
  {
   "cell_type": "markdown",
   "id": "ef31240d",
   "metadata": {
    "papermill": {
     "duration": 0.024692,
     "end_time": "2022-09-11T10:10:25.974530",
     "exception": false,
     "start_time": "2022-09-11T10:10:25.949838",
     "status": "completed"
    },
    "tags": []
   },
   "source": [
    "You are going to write a classifier that distinguishes between the number 3 and number 8."
   ]
  },
  {
   "cell_type": "code",
   "execution_count": 1,
   "id": "b15c8646",
   "metadata": {
    "execution": {
     "iopub.execute_input": "2022-09-11T10:10:26.033276Z",
     "iopub.status.busy": "2022-09-11T10:10:26.032677Z",
     "iopub.status.idle": "2022-09-11T10:10:26.043650Z",
     "shell.execute_reply": "2022-09-11T10:10:26.043182Z"
    },
    "papermill": {
     "duration": 0.044889,
     "end_time": "2022-09-11T10:10:26.043769",
     "exception": false,
     "start_time": "2022-09-11T10:10:25.998880",
     "status": "completed"
    },
    "tags": []
   },
   "outputs": [],
   "source": [
    "%load_ext autoreload\n",
    "%autoreload 2"
   ]
  },
  {
   "cell_type": "code",
   "execution_count": 2,
   "id": "22ef38dc",
   "metadata": {
    "execution": {
     "iopub.execute_input": "2022-09-11T10:10:26.097623Z",
     "iopub.status.busy": "2022-09-11T10:10:26.097052Z",
     "iopub.status.idle": "2022-09-11T10:10:26.634108Z",
     "shell.execute_reply": "2022-09-11T10:10:26.633578Z"
    },
    "papermill": {
     "duration": 0.565793,
     "end_time": "2022-09-11T10:10:26.634234",
     "exception": false,
     "start_time": "2022-09-11T10:10:26.068441",
     "status": "completed"
    },
    "tags": []
   },
   "outputs": [],
   "source": [
    "%matplotlib inline\n",
    "import numpy as np\n",
    "import matplotlib.pyplot as plt\n",
    "import pandas as pd"
   ]
  },
  {
   "cell_type": "markdown",
   "id": "ba036198",
   "metadata": {
    "papermill": {
     "duration": 0.024532,
     "end_time": "2022-09-11T10:10:26.683497",
     "exception": false,
     "start_time": "2022-09-11T10:10:26.658965",
     "status": "completed"
    },
    "tags": []
   },
   "source": [
    "From the command line run `pip install mnist`. This is a library that will help you bring down the mnist dataset. If you run this from a notebook, you need to put  `!pip install mnist` in a cell by itself."
   ]
  },
  {
   "cell_type": "code",
   "execution_count": 3,
   "id": "bb6ad8a1",
   "metadata": {
    "execution": {
     "iopub.execute_input": "2022-09-11T10:10:26.736780Z",
     "iopub.status.busy": "2022-09-11T10:10:26.736215Z",
     "iopub.status.idle": "2022-09-11T10:10:28.436545Z",
     "shell.execute_reply": "2022-09-11T10:10:28.435737Z"
    },
    "papermill": {
     "duration": 1.728465,
     "end_time": "2022-09-11T10:10:28.436674",
     "exception": false,
     "start_time": "2022-09-11T10:10:26.708209",
     "status": "completed"
    },
    "tags": []
   },
   "outputs": [
    {
     "name": "stdout",
     "output_type": "stream",
     "text": [
      "Collecting mnist\r\n"
     ]
    },
    {
     "name": "stdout",
     "output_type": "stream",
     "text": [
      "  Downloading mnist-0.2.2-py2.py3-none-any.whl (3.5 kB)\r\n",
      "Requirement already satisfied: numpy in /opt/hostedtoolcache/Python/3.6.15/x64/lib/python3.6/site-packages (from mnist) (1.19.5)\r\n"
     ]
    },
    {
     "name": "stdout",
     "output_type": "stream",
     "text": [
      "Installing collected packages: mnist\r\n",
      "Successfully installed mnist-0.2.2\r\n"
     ]
    }
   ],
   "source": [
    "!pip install mnist"
   ]
  },
  {
   "cell_type": "markdown",
   "id": "69df9c9a",
   "metadata": {
    "papermill": {
     "duration": 0.025845,
     "end_time": "2022-09-11T10:10:28.488130",
     "exception": false,
     "start_time": "2022-09-11T10:10:28.462285",
     "status": "completed"
    },
    "tags": []
   },
   "source": [
    "## Preparing the Data"
   ]
  },
  {
   "cell_type": "code",
   "execution_count": 4,
   "id": "7f69d806",
   "metadata": {
    "execution": {
     "iopub.execute_input": "2022-09-11T10:10:28.542579Z",
     "iopub.status.busy": "2022-09-11T10:10:28.541980Z",
     "iopub.status.idle": "2022-09-11T10:10:28.557114Z",
     "shell.execute_reply": "2022-09-11T10:10:28.556648Z"
    },
    "papermill": {
     "duration": 0.04387,
     "end_time": "2022-09-11T10:10:28.557224",
     "exception": false,
     "start_time": "2022-09-11T10:10:28.513354",
     "status": "completed"
    },
    "tags": []
   },
   "outputs": [],
   "source": [
    "import mnist"
   ]
  },
  {
   "cell_type": "code",
   "execution_count": 5,
   "id": "a411e44f",
   "metadata": {
    "execution": {
     "iopub.execute_input": "2022-09-11T10:10:28.611404Z",
     "iopub.status.busy": "2022-09-11T10:10:28.610827Z",
     "iopub.status.idle": "2022-09-11T10:10:29.233699Z",
     "shell.execute_reply": "2022-09-11T10:10:29.232561Z"
    },
    "papermill": {
     "duration": 0.651306,
     "end_time": "2022-09-11T10:10:29.233843",
     "exception": false,
     "start_time": "2022-09-11T10:10:28.582537",
     "status": "completed"
    },
    "tags": []
   },
   "outputs": [],
   "source": [
    "train_images = mnist.train_images()\n",
    "train_labels = mnist.train_labels()"
   ]
  },
  {
   "cell_type": "code",
   "execution_count": 6,
   "id": "dceab3a5",
   "metadata": {
    "execution": {
     "iopub.execute_input": "2022-09-11T10:10:29.288527Z",
     "iopub.status.busy": "2022-09-11T10:10:29.287717Z",
     "iopub.status.idle": "2022-09-11T10:10:29.302161Z",
     "shell.execute_reply": "2022-09-11T10:10:29.301667Z"
    },
    "papermill": {
     "duration": 0.042516,
     "end_time": "2022-09-11T10:10:29.302269",
     "exception": false,
     "start_time": "2022-09-11T10:10:29.259753",
     "status": "completed"
    },
    "tags": []
   },
   "outputs": [
    {
     "data": {
      "text/plain": [
       "((60000, 28, 28), (60000,))"
      ]
     },
     "execution_count": 6,
     "metadata": {},
     "output_type": "execute_result"
    }
   ],
   "source": [
    "train_images.shape, train_labels.shape"
   ]
  },
  {
   "cell_type": "code",
   "execution_count": 7,
   "id": "f50dc2bb",
   "metadata": {
    "execution": {
     "iopub.execute_input": "2022-09-11T10:10:29.357061Z",
     "iopub.status.busy": "2022-09-11T10:10:29.356498Z",
     "iopub.status.idle": "2022-09-11T10:10:29.576853Z",
     "shell.execute_reply": "2022-09-11T10:10:29.576365Z"
    },
    "papermill": {
     "duration": 0.249323,
     "end_time": "2022-09-11T10:10:29.576970",
     "exception": false,
     "start_time": "2022-09-11T10:10:29.327647",
     "status": "completed"
    },
    "tags": []
   },
   "outputs": [],
   "source": [
    "test_images = mnist.test_images()\n",
    "test_labels = mnist.test_labels()"
   ]
  },
  {
   "cell_type": "code",
   "execution_count": 8,
   "id": "fc38cf1b",
   "metadata": {
    "execution": {
     "iopub.execute_input": "2022-09-11T10:10:29.631838Z",
     "iopub.status.busy": "2022-09-11T10:10:29.631268Z",
     "iopub.status.idle": "2022-09-11T10:10:29.644023Z",
     "shell.execute_reply": "2022-09-11T10:10:29.643480Z"
    },
    "papermill": {
     "duration": 0.041477,
     "end_time": "2022-09-11T10:10:29.644126",
     "exception": false,
     "start_time": "2022-09-11T10:10:29.602649",
     "status": "completed"
    },
    "tags": []
   },
   "outputs": [
    {
     "data": {
      "text/plain": [
       "((10000, 28, 28), (10000,))"
      ]
     },
     "execution_count": 8,
     "metadata": {},
     "output_type": "execute_result"
    }
   ],
   "source": [
    "test_images.shape, test_labels.shape"
   ]
  },
  {
   "cell_type": "code",
   "execution_count": 9,
   "id": "f9ed8fe0",
   "metadata": {
    "execution": {
     "iopub.execute_input": "2022-09-11T10:10:29.698693Z",
     "iopub.status.busy": "2022-09-11T10:10:29.698146Z",
     "iopub.status.idle": "2022-09-11T10:10:29.830517Z",
     "shell.execute_reply": "2022-09-11T10:10:29.830951Z"
    },
    "papermill": {
     "duration": 0.161573,
     "end_time": "2022-09-11T10:10:29.831076",
     "exception": false,
     "start_time": "2022-09-11T10:10:29.669503",
     "status": "completed"
    },
    "tags": []
   },
   "outputs": [
    {
     "name": "stdout",
     "output_type": "stream",
     "text": [
      "2\n"
     ]
    },
    {
     "data": {
      "text/plain": [
       "<matplotlib.image.AxesImage at 0x7f6100451c18>"
      ]
     },
     "execution_count": 9,
     "metadata": {},
     "output_type": "execute_result"
    },
    {
     "data": {
      "image/png": "[encoded data removed]",
      "text/plain": [
       "<Figure size 432x288 with 1 Axes>"
      ]
     },
     "metadata": {
      "needs_background": "light"
     },
     "output_type": "display_data"
    }
   ],
   "source": [
    "image_index = 7776 # You may select anything up to 60,000\n",
    "print(train_labels[image_index]) \n",
    "plt.imshow(train_images[image_index], cmap='Greys')"
   ]
  },
  {
   "cell_type": "markdown",
   "id": "a8d2388d",
   "metadata": {
    "papermill": {
     "duration": 0.026872,
     "end_time": "2022-09-11T10:10:29.884838",
     "exception": false,
     "start_time": "2022-09-11T10:10:29.857966",
     "status": "completed"
    },
    "tags": []
   },
   "source": [
    "## Filter data to get 3 and 8 out"
   ]
  },
  {
   "cell_type": "code",
   "execution_count": 10,
   "id": "776f7fc7",
   "metadata": {
    "execution": {
     "iopub.execute_input": "2022-09-11T10:10:29.942750Z",
     "iopub.status.busy": "2022-09-11T10:10:29.942183Z",
     "iopub.status.idle": "2022-09-11T10:10:29.958815Z",
     "shell.execute_reply": "2022-09-11T10:10:29.959271Z"
    },
    "papermill": {
     "duration": 0.047873,
     "end_time": "2022-09-11T10:10:29.959395",
     "exception": false,
     "start_time": "2022-09-11T10:10:29.911522",
     "status": "completed"
    },
    "tags": []
   },
   "outputs": [],
   "source": [
    "train_filter = np.where((train_labels == 3 ) | (train_labels == 8))\n",
    "test_filter = np.where((test_labels == 3) | (test_labels == 8))\n",
    "X_train, y_train = train_images[train_filter], train_labels[train_filter]\n",
    "X_test, y_test = test_images[test_filter], test_labels[test_filter]"
   ]
  },
  {
   "cell_type": "markdown",
   "id": "948f0b7e",
   "metadata": {
    "papermill": {
     "duration": 0.026607,
     "end_time": "2022-09-11T10:10:30.012835",
     "exception": false,
     "start_time": "2022-09-11T10:10:29.986228",
     "status": "completed"
    },
    "tags": []
   },
   "source": [
    "We normalize the pizel values in the 0 to 1 range"
   ]
  },
  {
   "cell_type": "code",
   "execution_count": 11,
   "id": "ee4c2166",
   "metadata": {
    "execution": {
     "iopub.execute_input": "2022-09-11T10:10:30.069376Z",
     "iopub.status.busy": "2022-09-11T10:10:30.068817Z",
     "iopub.status.idle": "2022-09-11T10:10:30.108601Z",
     "shell.execute_reply": "2022-09-11T10:10:30.108141Z"
    },
    "papermill": {
     "duration": 0.069231,
     "end_time": "2022-09-11T10:10:30.108711",
     "exception": false,
     "start_time": "2022-09-11T10:10:30.039480",
     "status": "completed"
    },
    "tags": []
   },
   "outputs": [],
   "source": [
    "X_train = X_train/255.\n",
    "X_test = X_test/255."
   ]
  },
  {
   "cell_type": "markdown",
   "id": "ddcf4fab",
   "metadata": {
    "papermill": {
     "duration": 0.026598,
     "end_time": "2022-09-11T10:10:30.162256",
     "exception": false,
     "start_time": "2022-09-11T10:10:30.135658",
     "status": "completed"
    },
    "tags": []
   },
   "source": [
    "And setup the labels as 1 (when the digit is 3) and 0 (when the digit is 8)"
   ]
  },
  {
   "cell_type": "code",
   "execution_count": 12,
   "id": "7dc908f2",
   "metadata": {
    "execution": {
     "iopub.execute_input": "2022-09-11T10:10:30.218852Z",
     "iopub.status.busy": "2022-09-11T10:10:30.218296Z",
     "iopub.status.idle": "2022-09-11T10:10:30.229686Z",
     "shell.execute_reply": "2022-09-11T10:10:30.230229Z"
    },
    "papermill": {
     "duration": 0.041528,
     "end_time": "2022-09-11T10:10:30.230345",
     "exception": false,
     "start_time": "2022-09-11T10:10:30.188817",
     "status": "completed"
    },
    "tags": []
   },
   "outputs": [],
   "source": [
    "y_train = 1*(y_train==3)\n",
    "y_test = 1*(y_test==3)"
   ]
  },
  {
   "cell_type": "code",
   "execution_count": 13,
   "id": "01e4e969",
   "metadata": {
    "execution": {
     "iopub.execute_input": "2022-09-11T10:10:30.287118Z",
     "iopub.status.busy": "2022-09-11T10:10:30.286561Z",
     "iopub.status.idle": "2022-09-11T10:10:30.299591Z",
     "shell.execute_reply": "2022-09-11T10:10:30.299143Z"
    },
    "papermill": {
     "duration": 0.042409,
     "end_time": "2022-09-11T10:10:30.299690",
     "exception": false,
     "start_time": "2022-09-11T10:10:30.257281",
     "status": "completed"
    },
    "tags": []
   },
   "outputs": [
    {
     "data": {
      "text/plain": [
       "((11982, 28, 28), (1984, 28, 28))"
      ]
     },
     "execution_count": 13,
     "metadata": {},
     "output_type": "execute_result"
    }
   ],
   "source": [
    "X_train.shape, X_test.shape"
   ]
  },
  {
   "cell_type": "markdown",
   "id": "5ccf3f85",
   "metadata": {
    "papermill": {
     "duration": 0.026755,
     "end_time": "2022-09-11T10:10:30.353143",
     "exception": false,
     "start_time": "2022-09-11T10:10:30.326388",
     "status": "completed"
    },
    "tags": []
   },
   "source": [
    "We reshape the data to flatten the image pixels into a set of features or co-variates:"
   ]
  },
  {
   "cell_type": "code",
   "execution_count": 14,
   "id": "5286a4a3",
   "metadata": {
    "execution": {
     "iopub.execute_input": "2022-09-11T10:10:30.410627Z",
     "iopub.status.busy": "2022-09-11T10:10:30.410078Z",
     "iopub.status.idle": "2022-09-11T10:10:30.423532Z",
     "shell.execute_reply": "2022-09-11T10:10:30.423066Z"
    },
    "papermill": {
     "duration": 0.043518,
     "end_time": "2022-09-11T10:10:30.423634",
     "exception": false,
     "start_time": "2022-09-11T10:10:30.380116",
     "status": "completed"
    },
    "tags": []
   },
   "outputs": [
    {
     "data": {
      "text/plain": [
       "((11982, 784), (1984, 784))"
      ]
     },
     "execution_count": 14,
     "metadata": {},
     "output_type": "execute_result"
    }
   ],
   "source": [
    "X_train = X_train.reshape(X_train.shape[0], -1)\n",
    "X_test = X_test.reshape(X_test.shape[0], -1)\n",
    "X_train.shape, X_test.shape"
   ]
  },
  {
   "cell_type": "code",
   "execution_count": 15,
   "id": "73c5f88a",
   "metadata": {
    "execution": {
     "iopub.execute_input": "2022-09-11T10:10:30.482159Z",
     "iopub.status.busy": "2022-09-11T10:10:30.481567Z",
     "iopub.status.idle": "2022-09-11T10:10:30.499948Z",
     "shell.execute_reply": "2022-09-11T10:10:30.499521Z"
    },
    "papermill": {
     "duration": 0.049301,
     "end_time": "2022-09-11T10:10:30.500054",
     "exception": false,
     "start_time": "2022-09-11T10:10:30.450753",
     "status": "completed"
    },
    "tags": []
   },
   "outputs": [],
   "source": [
    "#Impoting functions from 'Kudzu'\n",
    "from kudzu.model import Model\n",
    "from kudzu.train import Learner\n",
    "from kudzu.optim import GD\n",
    "from kudzu.data import Data, Sampler,Dataloader\n",
    "\n",
    "from kudzu.callbacks import AccCallback\n",
    "from kudzu.callbacks import ClfCallback\n",
    "\n",
    "from kudzu.loss import MSE\n",
    "\n",
    "from kudzu.layer import Sigmoid,Relu\n",
    "from kudzu.layer import Affine"
   ]
  },
  {
   "cell_type": "markdown",
   "id": "bc01172a",
   "metadata": {
    "papermill": {
     "duration": 0.027163,
     "end_time": "2022-09-11T10:10:30.554671",
     "exception": false,
     "start_time": "2022-09-11T10:10:30.527508",
     "status": "completed"
    },
    "tags": []
   },
   "source": [
    "### Let us create a `Config` class, to store important parameters. \n",
    "This class essentially plays the role of a dictionary."
   ]
  },
  {
   "cell_type": "code",
   "execution_count": 16,
   "id": "978281aa",
   "metadata": {
    "execution": {
     "iopub.execute_input": "2022-09-11T10:10:30.612980Z",
     "iopub.status.busy": "2022-09-11T10:10:30.612412Z",
     "iopub.status.idle": "2022-09-11T10:10:30.624221Z",
     "shell.execute_reply": "2022-09-11T10:10:30.623769Z"
    },
    "papermill": {
     "duration": 0.042438,
     "end_time": "2022-09-11T10:10:30.624321",
     "exception": false,
     "start_time": "2022-09-11T10:10:30.581883",
     "status": "completed"
    },
    "tags": []
   },
   "outputs": [],
   "source": [
    "class Config:\n",
    "    pass\n",
    "config = Config()\n",
    "config.lr = 0.001\n",
    "config.num_epochs = 250\n",
    "config.bs = 50"
   ]
  },
  {
   "cell_type": "markdown",
   "id": "1385fa59",
   "metadata": {
    "papermill": {
     "duration": 0.027104,
     "end_time": "2022-09-11T10:10:30.678781",
     "exception": false,
     "start_time": "2022-09-11T10:10:30.651677",
     "status": "completed"
    },
    "tags": []
   },
   "source": [
    "### Running Models with the Training data\n",
    "Details about the network layers:\n",
    "- A first affine layer has 784 inputs and does 100 affine transforms. These are followed by a Relu\n",
    "- A second affine layer has 100 inputs from the 100 activations of the past layer, and does 100 affine transforms. These are followed by a Relu\n",
    "- A third affine layer has 100 activations and does 2 affine transformations to create an embedding for visualization. There is no non-linearity here.\n",
    "- A final \"logistic regression\" which has an affine transform from 2 inputs to 1 output, which is squeezed through a sigmoid.\n"
   ]
  },
  {
   "cell_type": "code",
   "execution_count": 17,
   "id": "2b9c66db",
   "metadata": {
    "execution": {
     "iopub.execute_input": "2022-09-11T10:10:30.737412Z",
     "iopub.status.busy": "2022-09-11T10:10:30.736854Z",
     "iopub.status.idle": "2022-09-11T10:10:30.748560Z",
     "shell.execute_reply": "2022-09-11T10:10:30.748108Z"
    },
    "papermill": {
     "duration": 0.042688,
     "end_time": "2022-09-11T10:10:30.748659",
     "exception": false,
     "start_time": "2022-09-11T10:10:30.705971",
     "status": "completed"
    },
    "tags": []
   },
   "outputs": [],
   "source": [
    "data = Data(X_train, y_train.reshape(-1,1))\n",
    "sampler = Sampler(data, config.bs, shuffle=True)\n",
    "\n",
    "dl = Dataloader(data, sampler)\n",
    "\n",
    "opt = GD(config.lr)\n",
    "loss = MSE()"
   ]
  },
  {
   "cell_type": "code",
   "execution_count": 18,
   "id": "b275e4c2",
   "metadata": {
    "execution": {
     "iopub.execute_input": "2022-09-11T10:10:30.806410Z",
     "iopub.status.busy": "2022-09-11T10:10:30.805842Z",
     "iopub.status.idle": "2022-09-11T10:10:30.817771Z",
     "shell.execute_reply": "2022-09-11T10:10:30.817324Z"
    },
    "papermill": {
     "duration": 0.042016,
     "end_time": "2022-09-11T10:10:30.817903",
     "exception": false,
     "start_time": "2022-09-11T10:10:30.775887",
     "status": "completed"
    },
    "tags": []
   },
   "outputs": [],
   "source": [
    "training_data_x = X_train\n",
    "testing_data_x = X_test\n",
    "training_data_y = y_train.reshape(-1,1)\n",
    "testing_data_y = y_test.reshape(-1,1)"
   ]
  },
  {
   "cell_type": "code",
   "execution_count": 19,
   "id": "76951160",
   "metadata": {
    "execution": {
     "iopub.execute_input": "2022-09-11T10:10:30.876383Z",
     "iopub.status.busy": "2022-09-11T10:10:30.875815Z",
     "iopub.status.idle": "2022-09-11T10:10:30.892392Z",
     "shell.execute_reply": "2022-09-11T10:10:30.891942Z"
    },
    "papermill": {
     "duration": 0.047468,
     "end_time": "2022-09-11T10:10:30.892490",
     "exception": false,
     "start_time": "2022-09-11T10:10:30.845022",
     "status": "completed"
    },
    "tags": []
   },
   "outputs": [
    {
     "name": "stdout",
     "output_type": "stream",
     "text": [
      "xavier\n",
      "xavier\n",
      "xavier\n",
      "xavier\n",
      "xavier\n"
     ]
    }
   ],
   "source": [
    "layers = [Affine(\"first\", 784, 100), Relu(\"first\"), Affine(\"second\", 100, 100), Relu(\"second\"), Affine(\"third\", 100, 2), Affine(\"last\", 2, 1), Sigmoid(\"last\")]\n",
    "model_nn = Model(layers)\n",
    "model_lr = Model([Affine(\"logits\", 784, 1), Sigmoid(\"sigmoid\")])"
   ]
  },
  {
   "cell_type": "code",
   "execution_count": 20,
   "id": "6eede77a",
   "metadata": {
    "execution": {
     "iopub.execute_input": "2022-09-11T10:10:30.950450Z",
     "iopub.status.busy": "2022-09-11T10:10:30.949899Z",
     "iopub.status.idle": "2022-09-11T10:10:30.961248Z",
     "shell.execute_reply": "2022-09-11T10:10:30.961644Z"
    },
    "papermill": {
     "duration": 0.041913,
     "end_time": "2022-09-11T10:10:30.961759",
     "exception": false,
     "start_time": "2022-09-11T10:10:30.919846",
     "status": "completed"
    },
    "tags": []
   },
   "outputs": [],
   "source": [
    "nn_learner = Learner(loss, model_nn, opt, config.num_epochs)\n",
    "acc_nn = ClfCallback(nn_learner, config.bs, training_data_x , testing_data_x, training_data_y, testing_data_y)\n",
    "nn_learner.set_callbacks([acc_nn])"
   ]
  },
  {
   "cell_type": "code",
   "execution_count": 21,
   "id": "877b6cc7",
   "metadata": {
    "execution": {
     "iopub.execute_input": "2022-09-11T10:10:31.020791Z",
     "iopub.status.busy": "2022-09-11T10:10:31.020252Z",
     "iopub.status.idle": "2022-09-11T10:10:31.031812Z",
     "shell.execute_reply": "2022-09-11T10:10:31.031278Z"
    },
    "papermill": {
     "duration": 0.042662,
     "end_time": "2022-09-11T10:10:31.031908",
     "exception": false,
     "start_time": "2022-09-11T10:10:30.989246",
     "status": "completed"
    },
    "tags": []
   },
   "outputs": [],
   "source": [
    "lr_learner = Learner(loss, model_lr, opt, config.num_epochs)\n",
    "acc_lr = ClfCallback(lr_learner, config.bs, training_data_x , testing_data_x, training_data_y, testing_data_y)\n",
    "lr_learner.set_callbacks([acc_lr])"
   ]
  },
  {
   "cell_type": "code",
   "execution_count": 22,
   "id": "d9b133c3",
   "metadata": {
    "execution": {
     "iopub.execute_input": "2022-09-11T10:10:31.089844Z",
     "iopub.status.busy": "2022-09-11T10:10:31.089276Z",
     "iopub.status.idle": "2022-09-11T10:13:28.559890Z",
     "shell.execute_reply": "2022-09-11T10:13:28.560340Z"
    },
    "papermill": {
     "duration": 177.501117,
     "end_time": "2022-09-11T10:13:28.560470",
     "exception": false,
     "start_time": "2022-09-11T10:10:31.059353",
     "status": "completed"
    },
    "tags": []
   },
   "outputs": [
    {
     "name": "stdout",
     "output_type": "stream",
     "text": [
      "Epoch 0, Loss 0.2199\n",
      "Training Accuracy: 0.8054, Testing Accuracy: 0.8019\n",
      "\n"
     ]
    },
    {
     "name": "stdout",
     "output_type": "stream",
     "text": [
      "Epoch 10, Loss 0.0539\n",
      "Training Accuracy: 0.9450, Testing Accuracy: 0.9516\n",
      "\n"
     ]
    },
    {
     "name": "stdout",
     "output_type": "stream",
     "text": [
      "Epoch 20, Loss 0.0394\n",
      "Training Accuracy: 0.9569, Testing Accuracy: 0.9637\n",
      "\n"
     ]
    },
    {
     "name": "stdout",
     "output_type": "stream",
     "text": [
      "Epoch 30, Loss 0.0337\n",
      "Training Accuracy: 0.9613, Testing Accuracy: 0.9652\n",
      "\n"
     ]
    },
    {
     "name": "stdout",
     "output_type": "stream",
     "text": [
      "Epoch 40, Loss 0.0305\n",
      "Training Accuracy: 0.9649, Testing Accuracy: 0.9677\n",
      "\n"
     ]
    },
    {
     "name": "stdout",
     "output_type": "stream",
     "text": [
      "Epoch 50, Loss 0.0283\n",
      "Training Accuracy: 0.9675, Testing Accuracy: 0.9693\n",
      "\n"
     ]
    },
    {
     "name": "stdout",
     "output_type": "stream",
     "text": [
      "Epoch 60, Loss 0.0267\n",
      "Training Accuracy: 0.9695, Testing Accuracy: 0.9688\n",
      "\n"
     ]
    },
    {
     "name": "stdout",
     "output_type": "stream",
     "text": [
      "Epoch 70, Loss 0.0254\n",
      "Training Accuracy: 0.9709, Testing Accuracy: 0.9698\n",
      "\n"
     ]
    },
    {
     "name": "stdout",
     "output_type": "stream",
     "text": [
      "Epoch 80, Loss 0.0244\n",
      "Training Accuracy: 0.9719, Testing Accuracy: 0.9718\n",
      "\n"
     ]
    },
    {
     "name": "stdout",
     "output_type": "stream",
     "text": [
      "Epoch 90, Loss 0.0235\n",
      "Training Accuracy: 0.9730, Testing Accuracy: 0.9718\n",
      "\n"
     ]
    },
    {
     "name": "stdout",
     "output_type": "stream",
     "text": [
      "Epoch 100, Loss 0.0227\n",
      "Training Accuracy: 0.9741, Testing Accuracy: 0.9718\n",
      "\n"
     ]
    },
    {
     "name": "stdout",
     "output_type": "stream",
     "text": [
      "Epoch 110, Loss 0.022\n",
      "Training Accuracy: 0.9744, Testing Accuracy: 0.9723\n",
      "\n"
     ]
    },
    {
     "name": "stdout",
     "output_type": "stream",
     "text": [
      "Epoch 120, Loss 0.0214\n",
      "Training Accuracy: 0.9753, Testing Accuracy: 0.9713\n",
      "\n"
     ]
    },
    {
     "name": "stdout",
     "output_type": "stream",
     "text": [
      "Epoch 130, Loss 0.0208\n",
      "Training Accuracy: 0.9763, Testing Accuracy: 0.9718\n",
      "\n"
     ]
    },
    {
     "name": "stdout",
     "output_type": "stream",
     "text": [
      "Epoch 140, Loss 0.0203\n",
      "Training Accuracy: 0.9770, Testing Accuracy: 0.9718\n",
      "\n"
     ]
    },
    {
     "name": "stdout",
     "output_type": "stream",
     "text": [
      "Epoch 150, Loss 0.0198\n",
      "Training Accuracy: 0.9775, Testing Accuracy: 0.9728\n",
      "\n"
     ]
    },
    {
     "name": "stdout",
     "output_type": "stream",
     "text": [
      "Epoch 160, Loss 0.0194\n",
      "Training Accuracy: 0.9781, Testing Accuracy: 0.9733\n",
      "\n"
     ]
    },
    {
     "name": "stdout",
     "output_type": "stream",
     "text": [
      "Epoch 170, Loss 0.019\n",
      "Training Accuracy: 0.9787, Testing Accuracy: 0.9733\n",
      "\n"
     ]
    },
    {
     "name": "stdout",
     "output_type": "stream",
     "text": [
      "Epoch 180, Loss 0.0185\n",
      "Training Accuracy: 0.9793, Testing Accuracy: 0.9728\n",
      "\n"
     ]
    },
    {
     "name": "stdout",
     "output_type": "stream",
     "text": [
      "Epoch 190, Loss 0.0182\n",
      "Training Accuracy: 0.9801, Testing Accuracy: 0.9728\n",
      "\n"
     ]
    },
    {
     "name": "stdout",
     "output_type": "stream",
     "text": [
      "Epoch 200, Loss 0.0178\n",
      "Training Accuracy: 0.9803, Testing Accuracy: 0.9728\n",
      "\n"
     ]
    },
    {
     "name": "stdout",
     "output_type": "stream",
     "text": [
      "Epoch 210, Loss 0.0175\n",
      "Training Accuracy: 0.9805, Testing Accuracy: 0.9728\n",
      "\n"
     ]
    },
    {
     "name": "stdout",
     "output_type": "stream",
     "text": [
      "Epoch 220, Loss 0.0171\n",
      "Training Accuracy: 0.9811, Testing Accuracy: 0.9728\n",
      "\n"
     ]
    },
    {
     "name": "stdout",
     "output_type": "stream",
     "text": [
      "Epoch 230, Loss 0.0168\n",
      "Training Accuracy: 0.9816, Testing Accuracy: 0.9733\n",
      "\n"
     ]
    },
    {
     "name": "stdout",
     "output_type": "stream",
     "text": [
      "Epoch 240, Loss 0.0165\n",
      "Training Accuracy: 0.9821, Testing Accuracy: 0.9738\n",
      "\n"
     ]
    },
    {
     "data": {
      "text/plain": [
       "0.009274552355439065"
      ]
     },
     "execution_count": 22,
     "metadata": {},
     "output_type": "execute_result"
    }
   ],
   "source": [
    "nn_learner.train_loop(dl)"
   ]
  },
  {
   "cell_type": "code",
   "execution_count": 23,
   "id": "e0163366",
   "metadata": {
    "execution": {
     "iopub.execute_input": "2022-09-11T10:13:28.637027Z",
     "iopub.status.busy": "2022-09-11T10:13:28.634590Z",
     "iopub.status.idle": "2022-09-11T10:13:40.789744Z",
     "shell.execute_reply": "2022-09-11T10:13:40.790223Z"
    },
    "papermill": {
     "duration": 12.194974,
     "end_time": "2022-09-11T10:13:40.790350",
     "exception": false,
     "start_time": "2022-09-11T10:13:28.595376",
     "status": "completed"
    },
    "tags": []
   },
   "outputs": [
    {
     "name": "stdout",
     "output_type": "stream",
     "text": [
      "Epoch 0, Loss 0.2248\n",
      "Training Accuracy: 0.7288, Testing Accuracy: 0.7525\n",
      "\n"
     ]
    },
    {
     "name": "stdout",
     "output_type": "stream",
     "text": [
      "Epoch 10, Loss 0.0992\n",
      "Training Accuracy: 0.9087, Testing Accuracy: 0.9173\n",
      "\n"
     ]
    },
    {
     "name": "stdout",
     "output_type": "stream",
     "text": [
      "Epoch 20, Loss 0.0784\n",
      "Training Accuracy: 0.9246, Testing Accuracy: 0.9385\n",
      "\n"
     ]
    },
    {
     "name": "stdout",
     "output_type": "stream",
     "text": [
      "Epoch 30, Loss 0.0683\n",
      "Training Accuracy: 0.9320, Testing Accuracy: 0.9481\n",
      "\n"
     ]
    },
    {
     "name": "stdout",
     "output_type": "stream",
     "text": [
      "Epoch 40, Loss 0.062\n",
      "Training Accuracy: 0.9377, Testing Accuracy: 0.9521\n",
      "\n"
     ]
    },
    {
     "name": "stdout",
     "output_type": "stream",
     "text": [
      "Epoch 50, Loss 0.0576\n",
      "Training Accuracy: 0.9420, Testing Accuracy: 0.9546\n",
      "\n"
     ]
    },
    {
     "name": "stdout",
     "output_type": "stream",
     "text": [
      "Epoch 60, Loss 0.0543\n",
      "Training Accuracy: 0.9461, Testing Accuracy: 0.9546\n",
      "\n"
     ]
    },
    {
     "name": "stdout",
     "output_type": "stream",
     "text": [
      "Epoch 70, Loss 0.0517\n",
      "Training Accuracy: 0.9481, Testing Accuracy: 0.9577\n",
      "\n"
     ]
    },
    {
     "name": "stdout",
     "output_type": "stream",
     "text": [
      "Epoch 80, Loss 0.0497\n",
      "Training Accuracy: 0.9494, Testing Accuracy: 0.9587\n",
      "\n"
     ]
    },
    {
     "name": "stdout",
     "output_type": "stream",
     "text": [
      "Epoch 90, Loss 0.048\n",
      "Training Accuracy: 0.9508, Testing Accuracy: 0.9582\n",
      "\n"
     ]
    },
    {
     "name": "stdout",
     "output_type": "stream",
     "text": [
      "Epoch 100, Loss 0.0465\n",
      "Training Accuracy: 0.9517, Testing Accuracy: 0.9602\n",
      "\n"
     ]
    },
    {
     "name": "stdout",
     "output_type": "stream",
     "text": [
      "Epoch 110, Loss 0.0453\n",
      "Training Accuracy: 0.9525, Testing Accuracy: 0.9612\n",
      "\n"
     ]
    },
    {
     "name": "stdout",
     "output_type": "stream",
     "text": [
      "Epoch 120, Loss 0.0442\n",
      "Training Accuracy: 0.9538, Testing Accuracy: 0.9612\n",
      "\n"
     ]
    },
    {
     "name": "stdout",
     "output_type": "stream",
     "text": [
      "Epoch 130, Loss 0.0433\n",
      "Training Accuracy: 0.9553, Testing Accuracy: 0.9622\n",
      "\n"
     ]
    },
    {
     "name": "stdout",
     "output_type": "stream",
     "text": [
      "Epoch 140, Loss 0.0424\n",
      "Training Accuracy: 0.9557, Testing Accuracy: 0.9632\n",
      "\n"
     ]
    },
    {
     "name": "stdout",
     "output_type": "stream",
     "text": [
      "Epoch 150, Loss 0.0417\n",
      "Training Accuracy: 0.9564, Testing Accuracy: 0.9637\n",
      "\n"
     ]
    },
    {
     "name": "stdout",
     "output_type": "stream",
     "text": [
      "Epoch 160, Loss 0.041\n",
      "Training Accuracy: 0.9564, Testing Accuracy: 0.9647\n",
      "\n"
     ]
    },
    {
     "name": "stdout",
     "output_type": "stream",
     "text": [
      "Epoch 170, Loss 0.0403\n",
      "Training Accuracy: 0.9565, Testing Accuracy: 0.9647\n",
      "\n"
     ]
    },
    {
     "name": "stdout",
     "output_type": "stream",
     "text": [
      "Epoch 180, Loss 0.0398\n",
      "Training Accuracy: 0.9574, Testing Accuracy: 0.9652\n",
      "\n"
     ]
    },
    {
     "name": "stdout",
     "output_type": "stream",
     "text": [
      "Epoch 190, Loss 0.0392\n",
      "Training Accuracy: 0.9578, Testing Accuracy: 0.9657\n",
      "\n"
     ]
    },
    {
     "name": "stdout",
     "output_type": "stream",
     "text": [
      "Epoch 200, Loss 0.0388\n",
      "Training Accuracy: 0.9584, Testing Accuracy: 0.9652\n",
      "\n"
     ]
    },
    {
     "name": "stdout",
     "output_type": "stream",
     "text": [
      "Epoch 210, Loss 0.0383\n",
      "Training Accuracy: 0.9589, Testing Accuracy: 0.9652\n",
      "\n"
     ]
    },
    {
     "name": "stdout",
     "output_type": "stream",
     "text": [
      "Epoch 220, Loss 0.0379\n",
      "Training Accuracy: 0.9594, Testing Accuracy: 0.9652\n",
      "\n"
     ]
    },
    {
     "name": "stdout",
     "output_type": "stream",
     "text": [
      "Epoch 230, Loss 0.0375\n",
      "Training Accuracy: 0.9596, Testing Accuracy: 0.9652\n",
      "\n"
     ]
    },
    {
     "name": "stdout",
     "output_type": "stream",
     "text": [
      "Epoch 240, Loss 0.0371\n",
      "Training Accuracy: 0.9599, Testing Accuracy: 0.9657\n",
      "\n"
     ]
    },
    {
     "data": {
      "text/plain": [
       "0.039095707412434844"
      ]
     },
     "execution_count": 23,
     "metadata": {},
     "output_type": "execute_result"
    }
   ],
   "source": [
    "lr_learner.train_loop(dl)"
   ]
  },
  {
   "cell_type": "code",
   "execution_count": 24,
   "id": "ca410940",
   "metadata": {
    "execution": {
     "iopub.execute_input": "2022-09-11T10:13:40.878619Z",
     "iopub.status.busy": "2022-09-11T10:13:40.878029Z",
     "iopub.status.idle": "2022-09-11T10:13:41.103802Z",
     "shell.execute_reply": "2022-09-11T10:13:41.104250Z"
    },
    "papermill": {
     "duration": 0.271978,
     "end_time": "2022-09-11T10:13:41.104373",
     "exception": false,
     "start_time": "2022-09-11T10:13:40.832395",
     "status": "completed"
    },
    "tags": []
   },
   "outputs": [
    {
     "data": {
      "text/plain": [
       "<matplotlib.legend.Legend at 0x7f60fffbf320>"
      ]
     },
     "execution_count": 24,
     "metadata": {},
     "output_type": "execute_result"
    },
    {
     "data": {
      "image/png": "[encoded data removed]",
      "text/plain": [
       "<Figure size 1080x720 with 1 Axes>"
      ]
     },
     "metadata": {
      "needs_background": "light"
     },
     "output_type": "display_data"
    }
   ],
   "source": [
    "#comparing the results of NN and LR\n",
    "plt.figure(figsize=(15,10))\n",
    "\n",
    "# Neural Network plots\n",
    "plt.plot(acc_nn.accuracies, 'r-', label = \"Training Accuracies - NN\")\n",
    "plt.plot(acc_nn.test_accuracies, 'g-', label = \"Testing Accuracies - NN\")\n",
    "\n",
    "# Logistic Regression plots\n",
    "plt.plot(acc_lr.accuracies, 'k-', label = \"Training Accuracies - LR\")\n",
    "plt.plot(acc_lr.test_accuracies, 'b-', label = \"Testing Accuracies - LR\")\n",
    "plt.legend()"
   ]
  },
  {
   "cell_type": "markdown",
   "id": "80dfb35c",
   "metadata": {
    "papermill": {
     "duration": 0.042768,
     "end_time": "2022-09-11T10:13:41.190173",
     "exception": false,
     "start_time": "2022-09-11T10:13:41.147405",
     "status": "completed"
    },
    "tags": []
   },
   "source": [
    "#### Plotting the outputs of this layer of the NN.\n"
   ]
  },
  {
   "cell_type": "code",
   "execution_count": 25,
   "id": "45eb2ff5",
   "metadata": {
    "execution": {
     "iopub.execute_input": "2022-09-11T10:13:41.279541Z",
     "iopub.status.busy": "2022-09-11T10:13:41.278987Z",
     "iopub.status.idle": "2022-09-11T10:13:41.314518Z",
     "shell.execute_reply": "2022-09-11T10:13:41.314984Z"
    },
    "papermill": {
     "duration": 0.082288,
     "end_time": "2022-09-11T10:13:41.315114",
     "exception": false,
     "start_time": "2022-09-11T10:13:41.232826",
     "status": "completed"
    },
    "tags": []
   },
   "outputs": [],
   "source": [
    "new_model = Model(layers[:-2])\n",
    "testing_plot = new_model(testing_data_x)"
   ]
  },
  {
   "cell_type": "code",
   "execution_count": 26,
   "id": "4c0a5485",
   "metadata": {
    "execution": {
     "iopub.execute_input": "2022-09-11T10:13:41.408501Z",
     "iopub.status.busy": "2022-09-11T10:13:41.405001Z",
     "iopub.status.idle": "2022-09-11T10:13:41.592602Z",
     "shell.execute_reply": "2022-09-11T10:13:41.591607Z"
    },
    "papermill": {
     "duration": 0.233746,
     "end_time": "2022-09-11T10:13:41.592724",
     "exception": false,
     "start_time": "2022-09-11T10:13:41.358978",
     "status": "completed"
    },
    "tags": []
   },
   "outputs": [
    {
     "data": {
      "text/plain": [
       "Text(0.5, 1.0, 'Outputs')"
      ]
     },
     "execution_count": 26,
     "metadata": {},
     "output_type": "execute_result"
    },
    {
     "data": {
      "image/png": "[encoded data removed]",
      "text/plain": [
       "<Figure size 576x504 with 1 Axes>"
      ]
     },
     "metadata": {
      "needs_background": "light"
     },
     "output_type": "display_data"
    }
   ],
   "source": [
    "# Plotting the scatter plot of points and color coding by class\n",
    "plt.figure(figsize=(8,7))\n",
    "plt.scatter(testing_plot[:,0], testing_plot[:,1], alpha = 0.1, c = y_test.ravel());\n",
    "plt.title('Outputs')"
   ]
  },
  {
   "cell_type": "markdown",
   "id": "a74fcf8f",
   "metadata": {
    "papermill": {
     "duration": 0.04476,
     "end_time": "2022-09-11T10:13:41.682648",
     "exception": false,
     "start_time": "2022-09-11T10:13:41.637888",
     "status": "completed"
    },
    "tags": []
   },
   "source": [
    "Probability contours"
   ]
  },
  {
   "cell_type": "code",
   "execution_count": 27,
   "id": "d0afc8e3",
   "metadata": {
    "execution": {
     "iopub.execute_input": "2022-09-11T10:13:41.802845Z",
     "iopub.status.busy": "2022-09-11T10:13:41.798513Z",
     "iopub.status.idle": "2022-09-11T10:13:41.810224Z",
     "shell.execute_reply": "2022-09-11T10:13:41.809678Z"
    },
    "papermill": {
     "duration": 0.082473,
     "end_time": "2022-09-11T10:13:41.810325",
     "exception": false,
     "start_time": "2022-09-11T10:13:41.727852",
     "status": "completed"
    },
    "tags": []
   },
   "outputs": [],
   "source": [
    "model_prob = Model(layers[-2:]) "
   ]
  },
  {
   "cell_type": "code",
   "execution_count": 28,
   "id": "9b96e238",
   "metadata": {
    "execution": {
     "iopub.execute_input": "2022-09-11T10:13:41.904453Z",
     "iopub.status.busy": "2022-09-11T10:13:41.903897Z",
     "iopub.status.idle": "2022-09-11T10:13:41.920328Z",
     "shell.execute_reply": "2022-09-11T10:13:41.920756Z"
    },
    "papermill": {
     "duration": 0.065779,
     "end_time": "2022-09-11T10:13:41.920888",
     "exception": false,
     "start_time": "2022-09-11T10:13:41.855109",
     "status": "completed"
    },
    "tags": []
   },
   "outputs": [],
   "source": [
    "#creating the x and y ranges according to the above generated plot.\n",
    "x_range = np.linspace(-4, 1, 100) \n",
    "y_range = np.linspace(-6, 6, 100) \n",
    "x_grid, y_grid = np.meshgrid(x_range, y_range) # x_grid and y_grig are of size 100 X 100\n",
    "\n",
    "# converting x_grid and y_grid to continuous arrays\n",
    "x_gridflat = np.ravel(x_grid)\n",
    "y_gridflat = np.ravel(y_grid)\n",
    "\n",
    "# The last layer of the current model takes two columns as input. Hence transpose of np.vstack() is required.\n",
    "X = np.vstack((x_gridflat, y_gridflat)).T\n",
    "\n",
    "prob_contour = model_prob(X).reshape(100,100) "
   ]
  },
  {
   "cell_type": "code",
   "execution_count": 29,
   "id": "da72499a",
   "metadata": {
    "execution": {
     "iopub.execute_input": "2022-09-11T10:13:42.018178Z",
     "iopub.status.busy": "2022-09-11T10:13:42.016934Z",
     "iopub.status.idle": "2022-09-11T10:13:42.247314Z",
     "shell.execute_reply": "2022-09-11T10:13:42.248038Z"
    },
    "papermill": {
     "duration": 0.281908,
     "end_time": "2022-09-11T10:13:42.248178",
     "exception": false,
     "start_time": "2022-09-11T10:13:41.966270",
     "status": "completed"
    },
    "tags": []
   },
   "outputs": [
    {
     "data": {
      "image/png": "[encoded data removed]",
      "text/plain": [
       "<Figure size 720x648 with 1 Axes>"
      ]
     },
     "metadata": {
      "needs_background": "light"
     },
     "output_type": "display_data"
    }
   ],
   "source": [
    "plt.figure(figsize=(10,9))\n",
    "plt.scatter(testing_plot[:,0], testing_plot[:,1], alpha = 0.1, c = y_test.ravel())\n",
    "contours = plt.contour(x_grid,y_grid,prob_contour)\n",
    "plt.title('Probability Contours')\n",
    "plt.clabel(contours, inline = True );"
   ]
  },
  {
   "cell_type": "code",
   "execution_count": null,
   "id": "e81b4ac7",
   "metadata": {
    "papermill": {
     "duration": 0.047711,
     "end_time": "2022-09-11T10:13:42.344002",
     "exception": false,
     "start_time": "2022-09-11T10:13:42.296291",
     "status": "completed"
    },
    "tags": []
   },
   "outputs": [],
   "source": []
  }
 ],
 "metadata": {
  "kernelspec": {
   "display_name": "Python 3",
   "language": "python",
   "name": "python3"
  },
  "language_info": {
   "codemirror_mode": {
    "name": "ipython",
    "version": 3
   },
   "file_extension": ".py",
   "mimetype": "text/x-python",
   "name": "python",
   "nbconvert_exporter": "python",
   "pygments_lexer": "ipython3",
   "version": "3.6.15"
  },
  "papermill": {
   "default_parameters": {},
   "duration": 197.736185,
   "end_time": "2022-09-11T10:13:42.709459",
   "environment_variables": {},
   "exception": null,
   "input_path": "2020-08-11-part2.ipynb",
   "output_path": "2020-08-11-part2.ipynb",
   "parameters": {},
   "start_time": "2022-09-11T10:10:24.973274",
   "version": "2.3.3"
  }
 },
 "nbformat": 4,
 "nbformat_minor": 5
}