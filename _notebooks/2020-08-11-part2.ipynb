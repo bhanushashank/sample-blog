{
 "cells": [
  {
   "cell_type": "markdown",
   "id": "98380cd3",
   "metadata": {
    "papermill": {
     "duration": 0.027988,
     "end_time": "2022-01-07T10:09:01.143053",
     "exception": false,
     "start_time": "2022-01-07T10:09:01.115065",
     "status": "completed"
    },
    "tags": []
   },
   "source": [
    "# Distinguish Your Own Digits (DYOD)"
   ]
  },
  {
   "cell_type": "markdown",
   "id": "ef31240d",
   "metadata": {
    "papermill": {
     "duration": 0.023538,
     "end_time": "2022-01-07T10:09:01.190864",
     "exception": false,
     "start_time": "2022-01-07T10:09:01.167326",
     "status": "completed"
    },
    "tags": []
   },
   "source": [
    "You are going to write a classifier that distinguishes between the number 3 and number 8."
   ]
  },
  {
   "cell_type": "code",
   "execution_count": 1,
   "id": "b15c8646",
   "metadata": {
    "execution": {
     "iopub.execute_input": "2022-01-07T10:09:01.249093Z",
     "iopub.status.busy": "2022-01-07T10:09:01.248573Z",
     "iopub.status.idle": "2022-01-07T10:09:01.258306Z",
     "shell.execute_reply": "2022-01-07T10:09:01.257877Z"
    },
    "papermill": {
     "duration": 0.042903,
     "end_time": "2022-01-07T10:09:01.258426",
     "exception": false,
     "start_time": "2022-01-07T10:09:01.215523",
     "status": "completed"
    },
    "tags": []
   },
   "outputs": [],
   "source": [
    "%load_ext autoreload\n",
    "%autoreload 2"
   ]
  },
  {
   "cell_type": "code",
   "execution_count": 2,
   "id": "22ef38dc",
   "metadata": {
    "execution": {
     "iopub.execute_input": "2022-01-07T10:09:01.309421Z",
     "iopub.status.busy": "2022-01-07T10:09:01.308908Z",
     "iopub.status.idle": "2022-01-07T10:09:01.887004Z",
     "shell.execute_reply": "2022-01-07T10:09:01.886449Z"
    },
    "papermill": {
     "duration": 0.605038,
     "end_time": "2022-01-07T10:09:01.887130",
     "exception": false,
     "start_time": "2022-01-07T10:09:01.282092",
     "status": "completed"
    },
    "tags": []
   },
   "outputs": [],
   "source": [
    "%matplotlib inline\n",
    "import numpy as np\n",
    "import matplotlib.pyplot as plt\n",
    "import pandas as pd"
   ]
  },
  {
   "cell_type": "markdown",
   "id": "ba036198",
   "metadata": {
    "papermill": {
     "duration": 0.023634,
     "end_time": "2022-01-07T10:09:01.934517",
     "exception": false,
     "start_time": "2022-01-07T10:09:01.910883",
     "status": "completed"
    },
    "tags": []
   },
   "source": [
    "From the command line run `pip install mnist`. This is a library that will help you bring down the mnist dataset. If you run this from a notebook, you need to put  `!pip install mnist` in a cell by itself."
   ]
  },
  {
   "cell_type": "code",
   "execution_count": 3,
   "id": "bb6ad8a1",
   "metadata": {
    "execution": {
     "iopub.execute_input": "2022-01-07T10:09:01.989159Z",
     "iopub.status.busy": "2022-01-07T10:09:01.988643Z",
     "iopub.status.idle": "2022-01-07T10:09:03.621103Z",
     "shell.execute_reply": "2022-01-07T10:09:03.621595Z"
    },
    "papermill": {
     "duration": 1.663328,
     "end_time": "2022-01-07T10:09:03.621735",
     "exception": false,
     "start_time": "2022-01-07T10:09:01.958407",
     "status": "completed"
    },
    "tags": []
   },
   "outputs": [
    {
     "name": "stdout",
     "output_type": "stream",
     "text": [
      "Collecting mnist\r\n"
     ]
    },
    {
     "name": "stdout",
     "output_type": "stream",
     "text": [
      "  Downloading mnist-0.2.2-py2.py3-none-any.whl (3.5 kB)\r\n",
      "Requirement already satisfied: numpy in /opt/hostedtoolcache/Python/3.6.15/x64/lib/python3.6/site-packages (from mnist) (1.19.5)\r\n"
     ]
    },
    {
     "name": "stdout",
     "output_type": "stream",
     "text": [
      "Installing collected packages: mnist\r\n",
      "Successfully installed mnist-0.2.2\r\n"
     ]
    }
   ],
   "source": [
    "!pip install mnist"
   ]
  },
  {
   "cell_type": "markdown",
   "id": "69df9c9a",
   "metadata": {
    "papermill": {
     "duration": 0.024413,
     "end_time": "2022-01-07T10:09:03.670944",
     "exception": false,
     "start_time": "2022-01-07T10:09:03.646531",
     "status": "completed"
    },
    "tags": []
   },
   "source": [
    "## Preparing the Data"
   ]
  },
  {
   "cell_type": "code",
   "execution_count": 4,
   "id": "7f69d806",
   "metadata": {
    "execution": {
     "iopub.execute_input": "2022-01-07T10:09:03.724143Z",
     "iopub.status.busy": "2022-01-07T10:09:03.723559Z",
     "iopub.status.idle": "2022-01-07T10:09:03.736790Z",
     "shell.execute_reply": "2022-01-07T10:09:03.736376Z"
    },
    "papermill": {
     "duration": 0.041636,
     "end_time": "2022-01-07T10:09:03.736901",
     "exception": false,
     "start_time": "2022-01-07T10:09:03.695265",
     "status": "completed"
    },
    "tags": []
   },
   "outputs": [],
   "source": [
    "import mnist"
   ]
  },
  {
   "cell_type": "code",
   "execution_count": 5,
   "id": "a411e44f",
   "metadata": {
    "execution": {
     "iopub.execute_input": "2022-01-07T10:09:03.789165Z",
     "iopub.status.busy": "2022-01-07T10:09:03.788657Z",
     "iopub.status.idle": "2022-01-07T10:09:04.304228Z",
     "shell.execute_reply": "2022-01-07T10:09:04.303705Z"
    },
    "papermill": {
     "duration": 0.542961,
     "end_time": "2022-01-07T10:09:04.304366",
     "exception": false,
     "start_time": "2022-01-07T10:09:03.761405",
     "status": "completed"
    },
    "tags": []
   },
   "outputs": [],
   "source": [
    "train_images = mnist.train_images()\n",
    "train_labels = mnist.train_labels()"
   ]
  },
  {
   "cell_type": "code",
   "execution_count": 6,
   "id": "dceab3a5",
   "metadata": {
    "execution": {
     "iopub.execute_input": "2022-01-07T10:09:04.374935Z",
     "iopub.status.busy": "2022-01-07T10:09:04.374362Z",
     "iopub.status.idle": "2022-01-07T10:09:04.379541Z",
     "shell.execute_reply": "2022-01-07T10:09:04.379098Z"
    },
    "papermill": {
     "duration": 0.049645,
     "end_time": "2022-01-07T10:09:04.379653",
     "exception": false,
     "start_time": "2022-01-07T10:09:04.330008",
     "status": "completed"
    },
    "tags": []
   },
   "outputs": [
    {
     "data": {
      "text/plain": [
       "((60000, 28, 28), (60000,))"
      ]
     },
     "execution_count": 6,
     "metadata": {},
     "output_type": "execute_result"
    }
   ],
   "source": [
    "train_images.shape, train_labels.shape"
   ]
  },
  {
   "cell_type": "code",
   "execution_count": 7,
   "id": "f50dc2bb",
   "metadata": {
    "execution": {
     "iopub.execute_input": "2022-01-07T10:09:04.432502Z",
     "iopub.status.busy": "2022-01-07T10:09:04.431995Z",
     "iopub.status.idle": "2022-01-07T10:09:04.572096Z",
     "shell.execute_reply": "2022-01-07T10:09:04.572881Z"
    },
    "papermill": {
     "duration": 0.168626,
     "end_time": "2022-01-07T10:09:04.573031",
     "exception": false,
     "start_time": "2022-01-07T10:09:04.404405",
     "status": "completed"
    },
    "tags": []
   },
   "outputs": [],
   "source": [
    "test_images = mnist.test_images()\n",
    "test_labels = mnist.test_labels()"
   ]
  },
  {
   "cell_type": "code",
   "execution_count": 8,
   "id": "fc38cf1b",
   "metadata": {
    "execution": {
     "iopub.execute_input": "2022-01-07T10:09:04.628283Z",
     "iopub.status.busy": "2022-01-07T10:09:04.627748Z",
     "iopub.status.idle": "2022-01-07T10:09:04.638339Z",
     "shell.execute_reply": "2022-01-07T10:09:04.638857Z"
    },
    "papermill": {
     "duration": 0.040546,
     "end_time": "2022-01-07T10:09:04.638991",
     "exception": false,
     "start_time": "2022-01-07T10:09:04.598445",
     "status": "completed"
    },
    "tags": []
   },
   "outputs": [
    {
     "data": {
      "text/plain": [
       "((10000, 28, 28), (10000,))"
      ]
     },
     "execution_count": 8,
     "metadata": {},
     "output_type": "execute_result"
    }
   ],
   "source": [
    "test_images.shape, test_labels.shape"
   ]
  },
  {
   "cell_type": "code",
   "execution_count": 9,
   "id": "f9ed8fe0",
   "metadata": {
    "execution": {
     "iopub.execute_input": "2022-01-07T10:09:04.700155Z",
     "iopub.status.busy": "2022-01-07T10:09:04.699635Z",
     "iopub.status.idle": "2022-01-07T10:09:04.832220Z",
     "shell.execute_reply": "2022-01-07T10:09:04.832956Z"
    },
    "papermill": {
     "duration": 0.168644,
     "end_time": "2022-01-07T10:09:04.833100",
     "exception": false,
     "start_time": "2022-01-07T10:09:04.664456",
     "status": "completed"
    },
    "tags": []
   },
   "outputs": [
    {
     "name": "stdout",
     "output_type": "stream",
     "text": [
      "2\n"
     ]
    },
    {
     "data": {
      "text/plain": [
       "<matplotlib.image.AxesImage at 0x7f67d36d37f0>"
      ]
     },
     "execution_count": 9,
     "metadata": {},
     "output_type": "execute_result"
    },
    {
     "data": {
      "image/png": "[encoded data removed]",
      "text/plain": [
       "<Figure size 432x288 with 1 Axes>"
      ]
     },
     "metadata": {
      "needs_background": "light"
     },
     "output_type": "display_data"
    }
   ],
   "source": [
    "image_index = 7776 # You may select anything up to 60,000\n",
    "print(train_labels[image_index]) \n",
    "plt.imshow(train_images[image_index], cmap='Greys')"
   ]
  },
  {
   "cell_type": "markdown",
   "id": "a8d2388d",
   "metadata": {
    "papermill": {
     "duration": 0.026031,
     "end_time": "2022-01-07T10:09:04.885906",
     "exception": false,
     "start_time": "2022-01-07T10:09:04.859875",
     "status": "completed"
    },
    "tags": []
   },
   "source": [
    "## Filter data to get 3 and 8 out"
   ]
  },
  {
   "cell_type": "code",
   "execution_count": 10,
   "id": "776f7fc7",
   "metadata": {
    "execution": {
     "iopub.execute_input": "2022-01-07T10:09:04.949109Z",
     "iopub.status.busy": "2022-01-07T10:09:04.948580Z",
     "iopub.status.idle": "2022-01-07T10:09:04.959745Z",
     "shell.execute_reply": "2022-01-07T10:09:04.960514Z"
    },
    "papermill": {
     "duration": 0.048603,
     "end_time": "2022-01-07T10:09:04.960655",
     "exception": false,
     "start_time": "2022-01-07T10:09:04.912052",
     "status": "completed"
    },
    "tags": []
   },
   "outputs": [],
   "source": [
    "train_filter = np.where((train_labels == 3 ) | (train_labels == 8))\n",
    "test_filter = np.where((test_labels == 3) | (test_labels == 8))\n",
    "X_train, y_train = train_images[train_filter], train_labels[train_filter]\n",
    "X_test, y_test = test_images[test_filter], test_labels[test_filter]"
   ]
  },
  {
   "cell_type": "markdown",
   "id": "948f0b7e",
   "metadata": {
    "papermill": {
     "duration": 0.025623,
     "end_time": "2022-01-07T10:09:05.012745",
     "exception": false,
     "start_time": "2022-01-07T10:09:04.987122",
     "status": "completed"
    },
    "tags": []
   },
   "source": [
    "We normalize the pizel values in the 0 to 1 range"
   ]
  },
  {
   "cell_type": "code",
   "execution_count": 11,
   "id": "ee4c2166",
   "metadata": {
    "execution": {
     "iopub.execute_input": "2022-01-07T10:09:05.067853Z",
     "iopub.status.busy": "2022-01-07T10:09:05.067332Z",
     "iopub.status.idle": "2022-01-07T10:09:05.114552Z",
     "shell.execute_reply": "2022-01-07T10:09:05.114030Z"
    },
    "papermill": {
     "duration": 0.076248,
     "end_time": "2022-01-07T10:09:05.114690",
     "exception": false,
     "start_time": "2022-01-07T10:09:05.038442",
     "status": "completed"
    },
    "tags": []
   },
   "outputs": [],
   "source": [
    "X_train = X_train/255.\n",
    "X_test = X_test/255."
   ]
  },
  {
   "cell_type": "markdown",
   "id": "ddcf4fab",
   "metadata": {
    "papermill": {
     "duration": 0.026336,
     "end_time": "2022-01-07T10:09:05.167304",
     "exception": false,
     "start_time": "2022-01-07T10:09:05.140968",
     "status": "completed"
    },
    "tags": []
   },
   "source": [
    "And setup the labels as 1 (when the digit is 3) and 0 (when the digit is 8)"
   ]
  },
  {
   "cell_type": "code",
   "execution_count": 12,
   "id": "7dc908f2",
   "metadata": {
    "execution": {
     "iopub.execute_input": "2022-01-07T10:09:05.232665Z",
     "iopub.status.busy": "2022-01-07T10:09:05.232116Z",
     "iopub.status.idle": "2022-01-07T10:09:05.240197Z",
     "shell.execute_reply": "2022-01-07T10:09:05.239721Z"
    },
    "papermill": {
     "duration": 0.045429,
     "end_time": "2022-01-07T10:09:05.240309",
     "exception": false,
     "start_time": "2022-01-07T10:09:05.194880",
     "status": "completed"
    },
    "tags": []
   },
   "outputs": [],
   "source": [
    "y_train = 1*(y_train==3)\n",
    "y_test = 1*(y_test==3)"
   ]
  },
  {
   "cell_type": "code",
   "execution_count": 13,
   "id": "01e4e969",
   "metadata": {
    "execution": {
     "iopub.execute_input": "2022-01-07T10:09:05.309085Z",
     "iopub.status.busy": "2022-01-07T10:09:05.308267Z",
     "iopub.status.idle": "2022-01-07T10:09:05.313110Z",
     "shell.execute_reply": "2022-01-07T10:09:05.313520Z"
    },
    "papermill": {
     "duration": 0.04734,
     "end_time": "2022-01-07T10:09:05.313652",
     "exception": false,
     "start_time": "2022-01-07T10:09:05.266312",
     "status": "completed"
    },
    "tags": []
   },
   "outputs": [
    {
     "data": {
      "text/plain": [
       "((11982, 28, 28), (1984, 28, 28))"
      ]
     },
     "execution_count": 13,
     "metadata": {},
     "output_type": "execute_result"
    }
   ],
   "source": [
    "X_train.shape, X_test.shape"
   ]
  },
  {
   "cell_type": "markdown",
   "id": "5ccf3f85",
   "metadata": {
    "papermill": {
     "duration": 0.026098,
     "end_time": "2022-01-07T10:09:05.365919",
     "exception": false,
     "start_time": "2022-01-07T10:09:05.339821",
     "status": "completed"
    },
    "tags": []
   },
   "source": [
    "We reshape the data to flatten the image pixels into a set of features or co-variates:"
   ]
  },
  {
   "cell_type": "code",
   "execution_count": 14,
   "id": "5286a4a3",
   "metadata": {
    "execution": {
     "iopub.execute_input": "2022-01-07T10:09:05.425321Z",
     "iopub.status.busy": "2022-01-07T10:09:05.422656Z",
     "iopub.status.idle": "2022-01-07T10:09:05.437232Z",
     "shell.execute_reply": "2022-01-07T10:09:05.437623Z"
    },
    "papermill": {
     "duration": 0.045593,
     "end_time": "2022-01-07T10:09:05.437761",
     "exception": false,
     "start_time": "2022-01-07T10:09:05.392168",
     "status": "completed"
    },
    "tags": []
   },
   "outputs": [
    {
     "data": {
      "text/plain": [
       "((11982, 784), (1984, 784))"
      ]
     },
     "execution_count": 14,
     "metadata": {},
     "output_type": "execute_result"
    }
   ],
   "source": [
    "X_train = X_train.reshape(X_train.shape[0], -1)\n",
    "X_test = X_test.reshape(X_test.shape[0], -1)\n",
    "X_train.shape, X_test.shape"
   ]
  },
  {
   "cell_type": "code",
   "execution_count": 15,
   "id": "73c5f88a",
   "metadata": {
    "execution": {
     "iopub.execute_input": "2022-01-07T10:09:05.498459Z",
     "iopub.status.busy": "2022-01-07T10:09:05.496766Z",
     "iopub.status.idle": "2022-01-07T10:09:05.515651Z",
     "shell.execute_reply": "2022-01-07T10:09:05.515228Z"
    },
    "papermill": {
     "duration": 0.050711,
     "end_time": "2022-01-07T10:09:05.515766",
     "exception": false,
     "start_time": "2022-01-07T10:09:05.465055",
     "status": "completed"
    },
    "tags": []
   },
   "outputs": [],
   "source": [
    "#Impoting functions from 'Kudzu'\n",
    "from kudzu.model import Model\n",
    "from kudzu.train import Learner\n",
    "from kudzu.optim import GD\n",
    "from kudzu.data import Data, Sampler,Dataloader\n",
    "\n",
    "from kudzu.callbacks import AccCallback\n",
    "from kudzu.callbacks import ClfCallback\n",
    "\n",
    "from kudzu.loss import MSE\n",
    "\n",
    "from kudzu.layer import Sigmoid,Relu\n",
    "from kudzu.layer import Affine"
   ]
  },
  {
   "cell_type": "markdown",
   "id": "bc01172a",
   "metadata": {
    "papermill": {
     "duration": 0.026201,
     "end_time": "2022-01-07T10:09:05.568520",
     "exception": false,
     "start_time": "2022-01-07T10:09:05.542319",
     "status": "completed"
    },
    "tags": []
   },
   "source": [
    "### Let us create a `Config` class, to store important parameters. \n",
    "This class essentially plays the role of a dictionary."
   ]
  },
  {
   "cell_type": "code",
   "execution_count": 16,
   "id": "978281aa",
   "metadata": {
    "execution": {
     "iopub.execute_input": "2022-01-07T10:09:05.628375Z",
     "iopub.status.busy": "2022-01-07T10:09:05.625984Z",
     "iopub.status.idle": "2022-01-07T10:09:05.637267Z",
     "shell.execute_reply": "2022-01-07T10:09:05.637706Z"
    },
    "papermill": {
     "duration": 0.043088,
     "end_time": "2022-01-07T10:09:05.637833",
     "exception": false,
     "start_time": "2022-01-07T10:09:05.594745",
     "status": "completed"
    },
    "tags": []
   },
   "outputs": [],
   "source": [
    "class Config:\n",
    "    pass\n",
    "config = Config()\n",
    "config.lr = 0.001\n",
    "config.num_epochs = 250\n",
    "config.bs = 50"
   ]
  },
  {
   "cell_type": "markdown",
   "id": "1385fa59",
   "metadata": {
    "papermill": {
     "duration": 0.026397,
     "end_time": "2022-01-07T10:09:05.690699",
     "exception": false,
     "start_time": "2022-01-07T10:09:05.664302",
     "status": "completed"
    },
    "tags": []
   },
   "source": [
    "### Running Models with the Training data\n",
    "Details about the network layers:\n",
    "- A first affine layer has 784 inputs and does 100 affine transforms. These are followed by a Relu\n",
    "- A second affine layer has 100 inputs from the 100 activations of the past layer, and does 100 affine transforms. These are followed by a Relu\n",
    "- A third affine layer has 100 activations and does 2 affine transformations to create an embedding for visualization. There is no non-linearity here.\n",
    "- A final \"logistic regression\" which has an affine transform from 2 inputs to 1 output, which is squeezed through a sigmoid.\n"
   ]
  },
  {
   "cell_type": "code",
   "execution_count": 17,
   "id": "2b9c66db",
   "metadata": {
    "execution": {
     "iopub.execute_input": "2022-01-07T10:09:05.748023Z",
     "iopub.status.busy": "2022-01-07T10:09:05.747510Z",
     "iopub.status.idle": "2022-01-07T10:09:05.760180Z",
     "shell.execute_reply": "2022-01-07T10:09:05.759768Z"
    },
    "papermill": {
     "duration": 0.043058,
     "end_time": "2022-01-07T10:09:05.760290",
     "exception": false,
     "start_time": "2022-01-07T10:09:05.717232",
     "status": "completed"
    },
    "tags": []
   },
   "outputs": [],
   "source": [
    "data = Data(X_train, y_train.reshape(-1,1))\n",
    "sampler = Sampler(data, config.bs, shuffle=True)\n",
    "\n",
    "dl = Dataloader(data, sampler)\n",
    "\n",
    "opt = GD(config.lr)\n",
    "loss = MSE()"
   ]
  },
  {
   "cell_type": "code",
   "execution_count": 18,
   "id": "b275e4c2",
   "metadata": {
    "execution": {
     "iopub.execute_input": "2022-01-07T10:09:05.819034Z",
     "iopub.status.busy": "2022-01-07T10:09:05.818485Z",
     "iopub.status.idle": "2022-01-07T10:09:05.828828Z",
     "shell.execute_reply": "2022-01-07T10:09:05.828415Z"
    },
    "papermill": {
     "duration": 0.042258,
     "end_time": "2022-01-07T10:09:05.828936",
     "exception": false,
     "start_time": "2022-01-07T10:09:05.786678",
     "status": "completed"
    },
    "tags": []
   },
   "outputs": [],
   "source": [
    "training_data_x = X_train\n",
    "testing_data_x = X_test\n",
    "training_data_y = y_train.reshape(-1,1)\n",
    "testing_data_y = y_test.reshape(-1,1)"
   ]
  },
  {
   "cell_type": "code",
   "execution_count": 19,
   "id": "76951160",
   "metadata": {
    "execution": {
     "iopub.execute_input": "2022-01-07T10:09:05.885585Z",
     "iopub.status.busy": "2022-01-07T10:09:05.885067Z",
     "iopub.status.idle": "2022-01-07T10:09:05.900253Z",
     "shell.execute_reply": "2022-01-07T10:09:05.900639Z"
    },
    "papermill": {
     "duration": 0.045595,
     "end_time": "2022-01-07T10:09:05.900761",
     "exception": false,
     "start_time": "2022-01-07T10:09:05.855166",
     "status": "completed"
    },
    "tags": []
   },
   "outputs": [
    {
     "name": "stdout",
     "output_type": "stream",
     "text": [
      "xavier\n",
      "xavier\n",
      "xavier\n",
      "xavier\n",
      "xavier\n"
     ]
    }
   ],
   "source": [
    "layers = [Affine(\"first\", 784, 100), Relu(\"first\"), Affine(\"second\", 100, 100), Relu(\"second\"), Affine(\"third\", 100, 2), Affine(\"last\", 2, 1), Sigmoid(\"last\")]\n",
    "model_nn = Model(layers)\n",
    "model_lr = Model([Affine(\"logits\", 784, 1), Sigmoid(\"sigmoid\")])"
   ]
  },
  {
   "cell_type": "code",
   "execution_count": 20,
   "id": "6eede77a",
   "metadata": {
    "execution": {
     "iopub.execute_input": "2022-01-07T10:09:05.958278Z",
     "iopub.status.busy": "2022-01-07T10:09:05.957767Z",
     "iopub.status.idle": "2022-01-07T10:09:05.969605Z",
     "shell.execute_reply": "2022-01-07T10:09:05.969188Z"
    },
    "papermill": {
     "duration": 0.042225,
     "end_time": "2022-01-07T10:09:05.969720",
     "exception": false,
     "start_time": "2022-01-07T10:09:05.927495",
     "status": "completed"
    },
    "tags": []
   },
   "outputs": [],
   "source": [
    "nn_learner = Learner(loss, model_nn, opt, config.num_epochs)\n",
    "acc_nn = ClfCallback(nn_learner, config.bs, training_data_x , testing_data_x, training_data_y, testing_data_y)\n",
    "nn_learner.set_callbacks([acc_nn])"
   ]
  },
  {
   "cell_type": "code",
   "execution_count": 21,
   "id": "877b6cc7",
   "metadata": {
    "execution": {
     "iopub.execute_input": "2022-01-07T10:09:06.040085Z",
     "iopub.status.busy": "2022-01-07T10:09:06.035628Z",
     "iopub.status.idle": "2022-01-07T10:09:06.042501Z",
     "shell.execute_reply": "2022-01-07T10:09:06.042060Z"
    },
    "papermill": {
     "duration": 0.046181,
     "end_time": "2022-01-07T10:09:06.042613",
     "exception": false,
     "start_time": "2022-01-07T10:09:05.996432",
     "status": "completed"
    },
    "tags": []
   },
   "outputs": [],
   "source": [
    "lr_learner = Learner(loss, model_lr, opt, config.num_epochs)\n",
    "acc_lr = ClfCallback(lr_learner, config.bs, training_data_x , testing_data_x, training_data_y, testing_data_y)\n",
    "lr_learner.set_callbacks([acc_lr])"
   ]
  },
  {
   "cell_type": "code",
   "execution_count": 22,
   "id": "d9b133c3",
   "metadata": {
    "execution": {
     "iopub.execute_input": "2022-01-07T10:09:06.099580Z",
     "iopub.status.busy": "2022-01-07T10:09:06.099066Z",
     "iopub.status.idle": "2022-01-07T10:10:24.239052Z",
     "shell.execute_reply": "2022-01-07T10:10:24.239809Z"
    },
    "papermill": {
     "duration": 78.170495,
     "end_time": "2022-01-07T10:10:24.239954",
     "exception": false,
     "start_time": "2022-01-07T10:09:06.069459",
     "status": "completed"
    },
    "tags": []
   },
   "outputs": [
    {
     "name": "stdout",
     "output_type": "stream",
     "text": [
      "Epoch 0, Loss 0.2402\n",
      "Training Accuracy: 0.6819, Testing Accuracy: 0.7056\n",
      "\n"
     ]
    },
    {
     "name": "stdout",
     "output_type": "stream",
     "text": [
      "Epoch 10, Loss 0.0987\n",
      "Training Accuracy: 0.9059, Testing Accuracy: 0.9224\n",
      "\n"
     ]
    },
    {
     "name": "stdout",
     "output_type": "stream",
     "text": [
      "Epoch 20, Loss 0.0603\n",
      "Training Accuracy: 0.9367, Testing Accuracy: 0.9501\n",
      "\n"
     ]
    },
    {
     "name": "stdout",
     "output_type": "stream",
     "text": [
      "Epoch 30, Loss 0.0469\n",
      "Training Accuracy: 0.9487, Testing Accuracy: 0.9582\n",
      "\n"
     ]
    },
    {
     "name": "stdout",
     "output_type": "stream",
     "text": [
      "Epoch 40, Loss 0.0404\n",
      "Training Accuracy: 0.9544, Testing Accuracy: 0.9637\n",
      "\n"
     ]
    },
    {
     "name": "stdout",
     "output_type": "stream",
     "text": [
      "Epoch 50, Loss 0.0365\n",
      "Training Accuracy: 0.9573, Testing Accuracy: 0.9662\n",
      "\n"
     ]
    },
    {
     "name": "stdout",
     "output_type": "stream",
     "text": [
      "Epoch 60, Loss 0.0338\n",
      "Training Accuracy: 0.9606, Testing Accuracy: 0.9672\n",
      "\n"
     ]
    },
    {
     "name": "stdout",
     "output_type": "stream",
     "text": [
      "Epoch 70, Loss 0.0317\n",
      "Training Accuracy: 0.9619, Testing Accuracy: 0.9703\n",
      "\n"
     ]
    },
    {
     "name": "stdout",
     "output_type": "stream",
     "text": [
      "Epoch 80, Loss 0.0301\n",
      "Training Accuracy: 0.9636, Testing Accuracy: 0.9703\n",
      "\n"
     ]
    },
    {
     "name": "stdout",
     "output_type": "stream",
     "text": [
      "Epoch 90, Loss 0.0288\n",
      "Training Accuracy: 0.9653, Testing Accuracy: 0.9703\n",
      "\n"
     ]
    },
    {
     "name": "stdout",
     "output_type": "stream",
     "text": [
      "Epoch 100, Loss 0.0277\n",
      "Training Accuracy: 0.9669, Testing Accuracy: 0.9703\n",
      "\n"
     ]
    },
    {
     "name": "stdout",
     "output_type": "stream",
     "text": [
      "Epoch 110, Loss 0.0267\n",
      "Training Accuracy: 0.9676, Testing Accuracy: 0.9708\n",
      "\n"
     ]
    },
    {
     "name": "stdout",
     "output_type": "stream",
     "text": [
      "Epoch 120, Loss 0.0258\n",
      "Training Accuracy: 0.9689, Testing Accuracy: 0.9718\n",
      "\n"
     ]
    },
    {
     "name": "stdout",
     "output_type": "stream",
     "text": [
      "Epoch 130, Loss 0.025\n",
      "Training Accuracy: 0.9705, Testing Accuracy: 0.9723\n",
      "\n"
     ]
    },
    {
     "name": "stdout",
     "output_type": "stream",
     "text": [
      "Epoch 140, Loss 0.0243\n",
      "Training Accuracy: 0.9710, Testing Accuracy: 0.9738\n",
      "\n"
     ]
    },
    {
     "name": "stdout",
     "output_type": "stream",
     "text": [
      "Epoch 150, Loss 0.0237\n",
      "Training Accuracy: 0.9721, Testing Accuracy: 0.9733\n",
      "\n"
     ]
    },
    {
     "name": "stdout",
     "output_type": "stream",
     "text": [
      "Epoch 160, Loss 0.0231\n",
      "Training Accuracy: 0.9729, Testing Accuracy: 0.9738\n",
      "\n"
     ]
    },
    {
     "name": "stdout",
     "output_type": "stream",
     "text": [
      "Epoch 170, Loss 0.0225\n",
      "Training Accuracy: 0.9737, Testing Accuracy: 0.9738\n",
      "\n"
     ]
    },
    {
     "name": "stdout",
     "output_type": "stream",
     "text": [
      "Epoch 180, Loss 0.022\n",
      "Training Accuracy: 0.9744, Testing Accuracy: 0.9743\n",
      "\n"
     ]
    },
    {
     "name": "stdout",
     "output_type": "stream",
     "text": [
      "Epoch 190, Loss 0.0215\n",
      "Training Accuracy: 0.9751, Testing Accuracy: 0.9748\n",
      "\n"
     ]
    },
    {
     "name": "stdout",
     "output_type": "stream",
     "text": [
      "Epoch 200, Loss 0.021\n",
      "Training Accuracy: 0.9760, Testing Accuracy: 0.9743\n",
      "\n"
     ]
    },
    {
     "name": "stdout",
     "output_type": "stream",
     "text": [
      "Epoch 210, Loss 0.0205\n",
      "Training Accuracy: 0.9767, Testing Accuracy: 0.9758\n",
      "\n"
     ]
    },
    {
     "name": "stdout",
     "output_type": "stream",
     "text": [
      "Epoch 220, Loss 0.0201\n",
      "Training Accuracy: 0.9773, Testing Accuracy: 0.9753\n",
      "\n"
     ]
    },
    {
     "name": "stdout",
     "output_type": "stream",
     "text": [
      "Epoch 230, Loss 0.0197\n",
      "Training Accuracy: 0.9782, Testing Accuracy: 0.9748\n",
      "\n"
     ]
    },
    {
     "name": "stdout",
     "output_type": "stream",
     "text": [
      "Epoch 240, Loss 0.0193\n",
      "Training Accuracy: 0.9783, Testing Accuracy: 0.9743\n",
      "\n"
     ]
    },
    {
     "data": {
      "text/plain": [
       "0.02603135491579925"
      ]
     },
     "execution_count": 22,
     "metadata": {},
     "output_type": "execute_result"
    }
   ],
   "source": [
    "nn_learner.train_loop(dl)"
   ]
  },
  {
   "cell_type": "code",
   "execution_count": 23,
   "id": "e0163366",
   "metadata": {
    "execution": {
     "iopub.execute_input": "2022-01-07T10:10:24.320242Z",
     "iopub.status.busy": "2022-01-07T10:10:24.319702Z",
     "iopub.status.idle": "2022-01-07T10:10:38.585556Z",
     "shell.execute_reply": "2022-01-07T10:10:38.586292Z"
    },
    "papermill": {
     "duration": 14.31232,
     "end_time": "2022-01-07T10:10:38.586440",
     "exception": false,
     "start_time": "2022-01-07T10:10:24.274120",
     "status": "completed"
    },
    "tags": []
   },
   "outputs": [
    {
     "name": "stdout",
     "output_type": "stream",
     "text": [
      "Epoch 0, Loss 0.2241\n",
      "Training Accuracy: 0.7457, Testing Accuracy: 0.7515\n",
      "\n"
     ]
    },
    {
     "name": "stdout",
     "output_type": "stream",
     "text": [
      "Epoch 10, Loss 0.103\n",
      "Training Accuracy: 0.9037, Testing Accuracy: 0.9138\n",
      "\n"
     ]
    },
    {
     "name": "stdout",
     "output_type": "stream",
     "text": [
      "Epoch 20, Loss 0.0797\n",
      "Training Accuracy: 0.9263, Testing Accuracy: 0.9375\n",
      "\n"
     ]
    },
    {
     "name": "stdout",
     "output_type": "stream",
     "text": [
      "Epoch 30, Loss 0.0687\n",
      "Training Accuracy: 0.9358, Testing Accuracy: 0.9446\n",
      "\n"
     ]
    },
    {
     "name": "stdout",
     "output_type": "stream",
     "text": [
      "Epoch 40, Loss 0.062\n",
      "Training Accuracy: 0.9414, Testing Accuracy: 0.9516\n",
      "\n"
     ]
    },
    {
     "name": "stdout",
     "output_type": "stream",
     "text": [
      "Epoch 50, Loss 0.0574\n",
      "Training Accuracy: 0.9435, Testing Accuracy: 0.9546\n",
      "\n"
     ]
    },
    {
     "name": "stdout",
     "output_type": "stream",
     "text": [
      "Epoch 60, Loss 0.054\n",
      "Training Accuracy: 0.9468, Testing Accuracy: 0.9561\n",
      "\n"
     ]
    },
    {
     "name": "stdout",
     "output_type": "stream",
     "text": [
      "Epoch 70, Loss 0.0514\n",
      "Training Accuracy: 0.9488, Testing Accuracy: 0.9577\n",
      "\n"
     ]
    },
    {
     "name": "stdout",
     "output_type": "stream",
     "text": [
      "Epoch 80, Loss 0.0494\n",
      "Training Accuracy: 0.9502, Testing Accuracy: 0.9597\n",
      "\n"
     ]
    },
    {
     "name": "stdout",
     "output_type": "stream",
     "text": [
      "Epoch 90, Loss 0.0477\n",
      "Training Accuracy: 0.9513, Testing Accuracy: 0.9602\n",
      "\n"
     ]
    },
    {
     "name": "stdout",
     "output_type": "stream",
     "text": [
      "Epoch 100, Loss 0.0462\n",
      "Training Accuracy: 0.9523, Testing Accuracy: 0.9602\n",
      "\n"
     ]
    },
    {
     "name": "stdout",
     "output_type": "stream",
     "text": [
      "Epoch 110, Loss 0.045\n",
      "Training Accuracy: 0.9528, Testing Accuracy: 0.9617\n",
      "\n"
     ]
    },
    {
     "name": "stdout",
     "output_type": "stream",
     "text": [
      "Epoch 120, Loss 0.0439\n",
      "Training Accuracy: 0.9541, Testing Accuracy: 0.9627\n",
      "\n"
     ]
    },
    {
     "name": "stdout",
     "output_type": "stream",
     "text": [
      "Epoch 130, Loss 0.0429\n",
      "Training Accuracy: 0.9553, Testing Accuracy: 0.9637\n",
      "\n"
     ]
    },
    {
     "name": "stdout",
     "output_type": "stream",
     "text": [
      "Epoch 140, Loss 0.0421\n",
      "Training Accuracy: 0.9558, Testing Accuracy: 0.9632\n",
      "\n"
     ]
    },
    {
     "name": "stdout",
     "output_type": "stream",
     "text": [
      "Epoch 150, Loss 0.0413\n",
      "Training Accuracy: 0.9563, Testing Accuracy: 0.9637\n",
      "\n"
     ]
    },
    {
     "name": "stdout",
     "output_type": "stream",
     "text": [
      "Epoch 160, Loss 0.0407\n",
      "Training Accuracy: 0.9570, Testing Accuracy: 0.9662\n",
      "\n"
     ]
    },
    {
     "name": "stdout",
     "output_type": "stream",
     "text": [
      "Epoch 170, Loss 0.04\n",
      "Training Accuracy: 0.9574, Testing Accuracy: 0.9657\n",
      "\n"
     ]
    },
    {
     "name": "stdout",
     "output_type": "stream",
     "text": [
      "Epoch 180, Loss 0.0395\n",
      "Training Accuracy: 0.9578, Testing Accuracy: 0.9657\n",
      "\n"
     ]
    },
    {
     "name": "stdout",
     "output_type": "stream",
     "text": [
      "Epoch 190, Loss 0.039\n",
      "Training Accuracy: 0.9581, Testing Accuracy: 0.9657\n",
      "\n"
     ]
    },
    {
     "name": "stdout",
     "output_type": "stream",
     "text": [
      "Epoch 200, Loss 0.0385\n",
      "Training Accuracy: 0.9584, Testing Accuracy: 0.9657\n",
      "\n"
     ]
    },
    {
     "name": "stdout",
     "output_type": "stream",
     "text": [
      "Epoch 210, Loss 0.038\n",
      "Training Accuracy: 0.9587, Testing Accuracy: 0.9657\n",
      "\n"
     ]
    },
    {
     "name": "stdout",
     "output_type": "stream",
     "text": [
      "Epoch 220, Loss 0.0376\n",
      "Training Accuracy: 0.9591, Testing Accuracy: 0.9662\n",
      "\n"
     ]
    },
    {
     "name": "stdout",
     "output_type": "stream",
     "text": [
      "Epoch 230, Loss 0.0372\n",
      "Training Accuracy: 0.9596, Testing Accuracy: 0.9667\n",
      "\n"
     ]
    },
    {
     "name": "stdout",
     "output_type": "stream",
     "text": [
      "Epoch 240, Loss 0.0369\n",
      "Training Accuracy: 0.9598, Testing Accuracy: 0.9677\n",
      "\n"
     ]
    },
    {
     "data": {
      "text/plain": [
       "0.022484820456077248"
      ]
     },
     "execution_count": 23,
     "metadata": {},
     "output_type": "execute_result"
    }
   ],
   "source": [
    "lr_learner.train_loop(dl)"
   ]
  },
  {
   "cell_type": "code",
   "execution_count": 24,
   "id": "ca410940",
   "metadata": {
    "execution": {
     "iopub.execute_input": "2022-01-07T10:10:38.676503Z",
     "iopub.status.busy": "2022-01-07T10:10:38.675960Z",
     "iopub.status.idle": "2022-01-07T10:10:38.897772Z",
     "shell.execute_reply": "2022-01-07T10:10:38.897326Z"
    },
    "papermill": {
     "duration": 0.270701,
     "end_time": "2022-01-07T10:10:38.897893",
     "exception": false,
     "start_time": "2022-01-07T10:10:38.627192",
     "status": "completed"
    },
    "tags": []
   },
   "outputs": [
    {
     "data": {
      "text/plain": [
       "<matplotlib.legend.Legend at 0x7f67d32bda20>"
      ]
     },
     "execution_count": 24,
     "metadata": {},
     "output_type": "execute_result"
    },
    {
     "data": {
      "image/png": "[encoded data removed]",
      "text/plain": [
       "<Figure size 1080x720 with 1 Axes>"
      ]
     },
     "metadata": {
      "needs_background": "light"
     },
     "output_type": "display_data"
    }
   ],
   "source": [
    "#comparing the results of NN and LR\n",
    "plt.figure(figsize=(15,10))\n",
    "\n",
    "# Neural Network plots\n",
    "plt.plot(acc_nn.accuracies, 'r-', label = \"Training Accuracies - NN\")\n",
    "plt.plot(acc_nn.test_accuracies, 'g-', label = \"Testing Accuracies - NN\")\n",
    "\n",
    "# Logistic Regression plots\n",
    "plt.plot(acc_lr.accuracies, 'k-', label = \"Training Accuracies - LR\")\n",
    "plt.plot(acc_lr.test_accuracies, 'b-', label = \"Testing Accuracies - LR\")\n",
    "plt.legend()"
   ]
  },
  {
   "cell_type": "markdown",
   "id": "80dfb35c",
   "metadata": {
    "papermill": {
     "duration": 0.041538,
     "end_time": "2022-01-07T10:10:38.981449",
     "exception": false,
     "start_time": "2022-01-07T10:10:38.939911",
     "status": "completed"
    },
    "tags": []
   },
   "source": [
    "#### Plotting the outputs of this layer of the NN.\n"
   ]
  },
  {
   "cell_type": "code",
   "execution_count": 25,
   "id": "45eb2ff5",
   "metadata": {
    "execution": {
     "iopub.execute_input": "2022-01-07T10:10:39.070911Z",
     "iopub.status.busy": "2022-01-07T10:10:39.068869Z",
     "iopub.status.idle": "2022-01-07T10:10:39.088188Z",
     "shell.execute_reply": "2022-01-07T10:10:39.088900Z"
    },
    "papermill": {
     "duration": 0.066031,
     "end_time": "2022-01-07T10:10:39.089047",
     "exception": false,
     "start_time": "2022-01-07T10:10:39.023016",
     "status": "completed"
    },
    "tags": []
   },
   "outputs": [],
   "source": [
    "new_model = Model(layers[:-2])\n",
    "testing_plot = new_model(testing_data_x)"
   ]
  },
  {
   "cell_type": "code",
   "execution_count": 26,
   "id": "4c0a5485",
   "metadata": {
    "execution": {
     "iopub.execute_input": "2022-01-07T10:10:39.179185Z",
     "iopub.status.busy": "2022-01-07T10:10:39.178640Z",
     "iopub.status.idle": "2022-01-07T10:10:39.361225Z",
     "shell.execute_reply": "2022-01-07T10:10:39.361648Z"
    },
    "papermill": {
     "duration": 0.230988,
     "end_time": "2022-01-07T10:10:39.361784",
     "exception": false,
     "start_time": "2022-01-07T10:10:39.130796",
     "status": "completed"
    },
    "tags": []
   },
   "outputs": [
    {
     "data": {
      "text/plain": [
       "Text(0.5, 1.0, 'Outputs')"
      ]
     },
     "execution_count": 26,
     "metadata": {},
     "output_type": "execute_result"
    },
    {
     "data": {
      "image/png": "[encoded data removed]",
      "text/plain": [
       "<Figure size 576x504 with 1 Axes>"
      ]
     },
     "metadata": {
      "needs_background": "light"
     },
     "output_type": "display_data"
    }
   ],
   "source": [
    "# Plotting the scatter plot of points and color coding by class\n",
    "plt.figure(figsize=(8,7))\n",
    "plt.scatter(testing_plot[:,0], testing_plot[:,1], alpha = 0.1, c = y_test.ravel());\n",
    "plt.title('Outputs')"
   ]
  },
  {
   "cell_type": "markdown",
   "id": "a74fcf8f",
   "metadata": {
    "papermill": {
     "duration": 0.043455,
     "end_time": "2022-01-07T10:10:39.448878",
     "exception": false,
     "start_time": "2022-01-07T10:10:39.405423",
     "status": "completed"
    },
    "tags": []
   },
   "source": [
    "Probability contours"
   ]
  },
  {
   "cell_type": "code",
   "execution_count": 27,
   "id": "d0afc8e3",
   "metadata": {
    "execution": {
     "iopub.execute_input": "2022-01-07T10:10:39.541640Z",
     "iopub.status.busy": "2022-01-07T10:10:39.540716Z",
     "iopub.status.idle": "2022-01-07T10:10:39.551528Z",
     "shell.execute_reply": "2022-01-07T10:10:39.550997Z"
    },
    "papermill": {
     "duration": 0.059174,
     "end_time": "2022-01-07T10:10:39.551637",
     "exception": false,
     "start_time": "2022-01-07T10:10:39.492463",
     "status": "completed"
    },
    "tags": []
   },
   "outputs": [],
   "source": [
    "model_prob = Model(layers[-2:]) "
   ]
  },
  {
   "cell_type": "code",
   "execution_count": 28,
   "id": "9b96e238",
   "metadata": {
    "execution": {
     "iopub.execute_input": "2022-01-07T10:10:39.650453Z",
     "iopub.status.busy": "2022-01-07T10:10:39.649903Z",
     "iopub.status.idle": "2022-01-07T10:10:39.659414Z",
     "shell.execute_reply": "2022-01-07T10:10:39.659805Z"
    },
    "papermill": {
     "duration": 0.064838,
     "end_time": "2022-01-07T10:10:39.659937",
     "exception": false,
     "start_time": "2022-01-07T10:10:39.595099",
     "status": "completed"
    },
    "tags": []
   },
   "outputs": [],
   "source": [
    "#creating the x and y ranges according to the above generated plot.\n",
    "x_range = np.linspace(-4, 1, 100) \n",
    "y_range = np.linspace(-6, 6, 100) \n",
    "x_grid, y_grid = np.meshgrid(x_range, y_range) # x_grid and y_grig are of size 100 X 100\n",
    "\n",
    "# converting x_grid and y_grid to continuous arrays\n",
    "x_gridflat = np.ravel(x_grid)\n",
    "y_gridflat = np.ravel(y_grid)\n",
    "\n",
    "# The last layer of the current model takes two columns as input. Hence transpose of np.vstack() is required.\n",
    "X = np.vstack((x_gridflat, y_gridflat)).T\n",
    "\n",
    "prob_contour = model_prob(X).reshape(100,100) "
   ]
  },
  {
   "cell_type": "code",
   "execution_count": 29,
   "id": "da72499a",
   "metadata": {
    "execution": {
     "iopub.execute_input": "2022-01-07T10:10:39.756487Z",
     "iopub.status.busy": "2022-01-07T10:10:39.755956Z",
     "iopub.status.idle": "2022-01-07T10:10:39.994137Z",
     "shell.execute_reply": "2022-01-07T10:10:39.993680Z"
    },
    "papermill": {
     "duration": 0.290784,
     "end_time": "2022-01-07T10:10:39.994253",
     "exception": false,
     "start_time": "2022-01-07T10:10:39.703469",
     "status": "completed"
    },
    "tags": []
   },
   "outputs": [
    {
     "data": {
      "image/png": "[encoded data removed]",
      "text/plain": [
       "<Figure size 720x648 with 1 Axes>"
      ]
     },
     "metadata": {
      "needs_background": "light"
     },
     "output_type": "display_data"
    }
   ],
   "source": [
    "plt.figure(figsize=(10,9))\n",
    "plt.scatter(testing_plot[:,0], testing_plot[:,1], alpha = 0.1, c = y_test.ravel())\n",
    "contours = plt.contour(x_grid,y_grid,prob_contour)\n",
    "plt.title('Probability Contours')\n",
    "plt.clabel(contours, inline = True );"
   ]
  },
  {
   "cell_type": "code",
   "execution_count": null,
   "id": "e81b4ac7",
   "metadata": {
    "papermill": {
     "duration": 0.047873,
     "end_time": "2022-01-07T10:10:40.114815",
     "exception": false,
     "start_time": "2022-01-07T10:10:40.066942",
     "status": "completed"
    },
    "tags": []
   },
   "outputs": [],
   "source": []
  }
 ],
 "metadata": {
  "kernelspec": {
   "display_name": "Python 3",
   "language": "python",
   "name": "python3"
  },
  "language_info": {
   "codemirror_mode": {
    "name": "ipython",
    "version": 3
   },
   "file_extension": ".py",
   "mimetype": "text/x-python",
   "name": "python",
   "nbconvert_exporter": "python",
   "pygments_lexer": "ipython3",
   "version": "3.6.15"
  },
  "papermill": {
   "default_parameters": {},
   "duration": 100.37408,
   "end_time": "2022-01-07T10:10:40.569364",
   "environment_variables": {},
   "exception": null,
   "input_path": "2020-08-11-part2.ipynb",
   "output_path": "2020-08-11-part2.ipynb",
   "parameters": {},
   "start_time": "2022-01-07T10:09:00.195284",
   "version": "2.3.3"
  }
 },
 "nbformat": 4,
 "nbformat_minor": 5
}