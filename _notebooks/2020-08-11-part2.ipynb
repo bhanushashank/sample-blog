{
 "cells": [
  {
   "cell_type": "markdown",
   "id": "98380cd3",
   "metadata": {
    "papermill": {
     "duration": 0.03368,
     "end_time": "2021-12-27T20:09:22.454901",
     "exception": false,
     "start_time": "2021-12-27T20:09:22.421221",
     "status": "completed"
    },
    "tags": []
   },
   "source": [
    "# Distinguish Your Own Digits (DYOD)"
   ]
  },
  {
   "cell_type": "markdown",
   "id": "ef31240d",
   "metadata": {
    "papermill": {
     "duration": 0.028534,
     "end_time": "2021-12-27T20:09:22.512907",
     "exception": false,
     "start_time": "2021-12-27T20:09:22.484373",
     "status": "completed"
    },
    "tags": []
   },
   "source": [
    "You are going to write a classifier that distinguishes between the number 3 and number 8."
   ]
  },
  {
   "cell_type": "code",
   "execution_count": 1,
   "id": "b15c8646",
   "metadata": {
    "execution": {
     "iopub.execute_input": "2021-12-27T20:09:22.584462Z",
     "iopub.status.busy": "2021-12-27T20:09:22.579433Z",
     "iopub.status.idle": "2021-12-27T20:09:22.600636Z",
     "shell.execute_reply": "2021-12-27T20:09:22.599742Z"
    },
    "papermill": {
     "duration": 0.059517,
     "end_time": "2021-12-27T20:09:22.600805",
     "exception": false,
     "start_time": "2021-12-27T20:09:22.541288",
     "status": "completed"
    },
    "tags": []
   },
   "outputs": [],
   "source": [
    "%load_ext autoreload\n",
    "%autoreload 2"
   ]
  },
  {
   "cell_type": "code",
   "execution_count": 2,
   "id": "22ef38dc",
   "metadata": {
    "execution": {
     "iopub.execute_input": "2021-12-27T20:09:22.663357Z",
     "iopub.status.busy": "2021-12-27T20:09:22.662733Z",
     "iopub.status.idle": "2021-12-27T20:09:23.343702Z",
     "shell.execute_reply": "2021-12-27T20:09:23.342789Z"
    },
    "papermill": {
     "duration": 0.715378,
     "end_time": "2021-12-27T20:09:23.343927",
     "exception": false,
     "start_time": "2021-12-27T20:09:22.628549",
     "status": "completed"
    },
    "tags": []
   },
   "outputs": [],
   "source": [
    "%matplotlib inline\n",
    "import numpy as np\n",
    "import matplotlib.pyplot as plt\n",
    "import pandas as pd"
   ]
  },
  {
   "cell_type": "markdown",
   "id": "ba036198",
   "metadata": {
    "papermill": {
     "duration": 0.028015,
     "end_time": "2021-12-27T20:09:23.402746",
     "exception": false,
     "start_time": "2021-12-27T20:09:23.374731",
     "status": "completed"
    },
    "tags": []
   },
   "source": [
    "From the command line run `pip install mnist`. This is a library that will help you bring down the mnist dataset. If you run this from a notebook, you need to put  `!pip install mnist` in a cell by itself."
   ]
  },
  {
   "cell_type": "code",
   "execution_count": 3,
   "id": "bb6ad8a1",
   "metadata": {
    "execution": {
     "iopub.execute_input": "2021-12-27T20:09:23.464288Z",
     "iopub.status.busy": "2021-12-27T20:09:23.463657Z",
     "iopub.status.idle": "2021-12-27T20:09:25.421184Z",
     "shell.execute_reply": "2021-12-27T20:09:25.420363Z"
    },
    "papermill": {
     "duration": 1.990972,
     "end_time": "2021-12-27T20:09:25.421337",
     "exception": false,
     "start_time": "2021-12-27T20:09:23.430365",
     "status": "completed"
    },
    "tags": []
   },
   "outputs": [
    {
     "name": "stdout",
     "output_type": "stream",
     "text": [
      "Collecting mnist\r\n"
     ]
    },
    {
     "name": "stdout",
     "output_type": "stream",
     "text": [
      "  Downloading mnist-0.2.2-py2.py3-none-any.whl (3.5 kB)\r\n",
      "Requirement already satisfied: numpy in /opt/hostedtoolcache/Python/3.6.15/x64/lib/python3.6/site-packages (from mnist) (1.19.5)\r\n"
     ]
    },
    {
     "name": "stdout",
     "output_type": "stream",
     "text": [
      "Installing collected packages: mnist\r\n"
     ]
    },
    {
     "name": "stdout",
     "output_type": "stream",
     "text": [
      "Successfully installed mnist-0.2.2\r\n"
     ]
    }
   ],
   "source": [
    "!pip install mnist"
   ]
  },
  {
   "cell_type": "markdown",
   "id": "69df9c9a",
   "metadata": {
    "papermill": {
     "duration": 0.029522,
     "end_time": "2021-12-27T20:09:25.480416",
     "exception": false,
     "start_time": "2021-12-27T20:09:25.450894",
     "status": "completed"
    },
    "tags": []
   },
   "source": [
    "## Preparing the Data"
   ]
  },
  {
   "cell_type": "code",
   "execution_count": 4,
   "id": "7f69d806",
   "metadata": {
    "execution": {
     "iopub.execute_input": "2021-12-27T20:09:25.543541Z",
     "iopub.status.busy": "2021-12-27T20:09:25.542915Z",
     "iopub.status.idle": "2021-12-27T20:09:25.559673Z",
     "shell.execute_reply": "2021-12-27T20:09:25.559165Z"
    },
    "papermill": {
     "duration": 0.050471,
     "end_time": "2021-12-27T20:09:25.559807",
     "exception": false,
     "start_time": "2021-12-27T20:09:25.509336",
     "status": "completed"
    },
    "tags": []
   },
   "outputs": [],
   "source": [
    "import mnist"
   ]
  },
  {
   "cell_type": "code",
   "execution_count": 5,
   "id": "a411e44f",
   "metadata": {
    "execution": {
     "iopub.execute_input": "2021-12-27T20:09:25.625863Z",
     "iopub.status.busy": "2021-12-27T20:09:25.625212Z",
     "iopub.status.idle": "2021-12-27T20:09:26.174432Z",
     "shell.execute_reply": "2021-12-27T20:09:26.173821Z"
    },
    "papermill": {
     "duration": 0.58578,
     "end_time": "2021-12-27T20:09:26.174587",
     "exception": false,
     "start_time": "2021-12-27T20:09:25.588807",
     "status": "completed"
    },
    "tags": []
   },
   "outputs": [],
   "source": [
    "train_images = mnist.train_images()\n",
    "train_labels = mnist.train_labels()"
   ]
  },
  {
   "cell_type": "code",
   "execution_count": 6,
   "id": "dceab3a5",
   "metadata": {
    "execution": {
     "iopub.execute_input": "2021-12-27T20:09:26.239825Z",
     "iopub.status.busy": "2021-12-27T20:09:26.238334Z",
     "iopub.status.idle": "2021-12-27T20:09:26.253736Z",
     "shell.execute_reply": "2021-12-27T20:09:26.254278Z"
    },
    "papermill": {
     "duration": 0.050289,
     "end_time": "2021-12-27T20:09:26.254421",
     "exception": false,
     "start_time": "2021-12-27T20:09:26.204132",
     "status": "completed"
    },
    "tags": []
   },
   "outputs": [
    {
     "data": {
      "text/plain": [
       "((60000, 28, 28), (60000,))"
      ]
     },
     "execution_count": 6,
     "metadata": {},
     "output_type": "execute_result"
    }
   ],
   "source": [
    "train_images.shape, train_labels.shape"
   ]
  },
  {
   "cell_type": "code",
   "execution_count": 7,
   "id": "f50dc2bb",
   "metadata": {
    "execution": {
     "iopub.execute_input": "2021-12-27T20:09:26.316589Z",
     "iopub.status.busy": "2021-12-27T20:09:26.315977Z",
     "iopub.status.idle": "2021-12-27T20:09:26.446784Z",
     "shell.execute_reply": "2021-12-27T20:09:26.446221Z"
    },
    "papermill": {
     "duration": 0.16337,
     "end_time": "2021-12-27T20:09:26.446930",
     "exception": false,
     "start_time": "2021-12-27T20:09:26.283560",
     "status": "completed"
    },
    "tags": []
   },
   "outputs": [],
   "source": [
    "test_images = mnist.test_images()\n",
    "test_labels = mnist.test_labels()"
   ]
  },
  {
   "cell_type": "code",
   "execution_count": 8,
   "id": "fc38cf1b",
   "metadata": {
    "execution": {
     "iopub.execute_input": "2021-12-27T20:09:26.515147Z",
     "iopub.status.busy": "2021-12-27T20:09:26.514522Z",
     "iopub.status.idle": "2021-12-27T20:09:26.528902Z",
     "shell.execute_reply": "2021-12-27T20:09:26.528402Z"
    },
    "papermill": {
     "duration": 0.052147,
     "end_time": "2021-12-27T20:09:26.529033",
     "exception": false,
     "start_time": "2021-12-27T20:09:26.476886",
     "status": "completed"
    },
    "tags": []
   },
   "outputs": [
    {
     "data": {
      "text/plain": [
       "((10000, 28, 28), (10000,))"
      ]
     },
     "execution_count": 8,
     "metadata": {},
     "output_type": "execute_result"
    }
   ],
   "source": [
    "test_images.shape, test_labels.shape"
   ]
  },
  {
   "cell_type": "code",
   "execution_count": 9,
   "id": "f9ed8fe0",
   "metadata": {
    "execution": {
     "iopub.execute_input": "2021-12-27T20:09:26.592452Z",
     "iopub.status.busy": "2021-12-27T20:09:26.591836Z",
     "iopub.status.idle": "2021-12-27T20:09:26.757996Z",
     "shell.execute_reply": "2021-12-27T20:09:26.758514Z"
    },
    "papermill": {
     "duration": 0.199911,
     "end_time": "2021-12-27T20:09:26.758670",
     "exception": false,
     "start_time": "2021-12-27T20:09:26.558759",
     "status": "completed"
    },
    "tags": []
   },
   "outputs": [
    {
     "name": "stdout",
     "output_type": "stream",
     "text": [
      "2\n"
     ]
    },
    {
     "data": {
      "text/plain": [
       "<matplotlib.image.AxesImage at 0x7f1c744b34a8>"
      ]
     },
     "execution_count": 9,
     "metadata": {},
     "output_type": "execute_result"
    },
    {
     "data": {
      "image/png": "[encoded data removed]",
      "text/plain": [
       "<Figure size 432x288 with 1 Axes>"
      ]
     },
     "metadata": {
      "needs_background": "light"
     },
     "output_type": "display_data"
    }
   ],
   "source": [
    "image_index = 7776 # You may select anything up to 60,000\n",
    "print(train_labels[image_index]) \n",
    "plt.imshow(train_images[image_index], cmap='Greys')"
   ]
  },
  {
   "cell_type": "markdown",
   "id": "a8d2388d",
   "metadata": {
    "papermill": {
     "duration": 0.03132,
     "end_time": "2021-12-27T20:09:26.821312",
     "exception": false,
     "start_time": "2021-12-27T20:09:26.789992",
     "status": "completed"
    },
    "tags": []
   },
   "source": [
    "## Filter data to get 3 and 8 out"
   ]
  },
  {
   "cell_type": "code",
   "execution_count": 10,
   "id": "776f7fc7",
   "metadata": {
    "execution": {
     "iopub.execute_input": "2021-12-27T20:09:26.894565Z",
     "iopub.status.busy": "2021-12-27T20:09:26.890445Z",
     "iopub.status.idle": "2021-12-27T20:09:26.912422Z",
     "shell.execute_reply": "2021-12-27T20:09:26.911890Z"
    },
    "papermill": {
     "duration": 0.06015,
     "end_time": "2021-12-27T20:09:26.912547",
     "exception": false,
     "start_time": "2021-12-27T20:09:26.852397",
     "status": "completed"
    },
    "tags": []
   },
   "outputs": [],
   "source": [
    "train_filter = np.where((train_labels == 3 ) | (train_labels == 8))\n",
    "test_filter = np.where((test_labels == 3) | (test_labels == 8))\n",
    "X_train, y_train = train_images[train_filter], train_labels[train_filter]\n",
    "X_test, y_test = test_images[test_filter], test_labels[test_filter]"
   ]
  },
  {
   "cell_type": "markdown",
   "id": "948f0b7e",
   "metadata": {
    "papermill": {
     "duration": 0.031032,
     "end_time": "2021-12-27T20:09:26.974588",
     "exception": false,
     "start_time": "2021-12-27T20:09:26.943556",
     "status": "completed"
    },
    "tags": []
   },
   "source": [
    "We normalize the pizel values in the 0 to 1 range"
   ]
  },
  {
   "cell_type": "code",
   "execution_count": 11,
   "id": "ee4c2166",
   "metadata": {
    "execution": {
     "iopub.execute_input": "2021-12-27T20:09:27.042538Z",
     "iopub.status.busy": "2021-12-27T20:09:27.041882Z",
     "iopub.status.idle": "2021-12-27T20:09:27.097081Z",
     "shell.execute_reply": "2021-12-27T20:09:27.096530Z"
    },
    "papermill": {
     "duration": 0.091601,
     "end_time": "2021-12-27T20:09:27.097228",
     "exception": false,
     "start_time": "2021-12-27T20:09:27.005627",
     "status": "completed"
    },
    "tags": []
   },
   "outputs": [],
   "source": [
    "X_train = X_train/255.\n",
    "X_test = X_test/255."
   ]
  },
  {
   "cell_type": "markdown",
   "id": "ddcf4fab",
   "metadata": {
    "papermill": {
     "duration": 0.031083,
     "end_time": "2021-12-27T20:09:27.160314",
     "exception": false,
     "start_time": "2021-12-27T20:09:27.129231",
     "status": "completed"
    },
    "tags": []
   },
   "source": [
    "And setup the labels as 1 (when the digit is 3) and 0 (when the digit is 8)"
   ]
  },
  {
   "cell_type": "code",
   "execution_count": 12,
   "id": "7dc908f2",
   "metadata": {
    "execution": {
     "iopub.execute_input": "2021-12-27T20:09:27.226714Z",
     "iopub.status.busy": "2021-12-27T20:09:27.226059Z",
     "iopub.status.idle": "2021-12-27T20:09:27.239555Z",
     "shell.execute_reply": "2021-12-27T20:09:27.239048Z"
    },
    "papermill": {
     "duration": 0.048322,
     "end_time": "2021-12-27T20:09:27.239686",
     "exception": false,
     "start_time": "2021-12-27T20:09:27.191364",
     "status": "completed"
    },
    "tags": []
   },
   "outputs": [],
   "source": [
    "y_train = 1*(y_train==3)\n",
    "y_test = 1*(y_test==3)"
   ]
  },
  {
   "cell_type": "code",
   "execution_count": 13,
   "id": "01e4e969",
   "metadata": {
    "execution": {
     "iopub.execute_input": "2021-12-27T20:09:27.305818Z",
     "iopub.status.busy": "2021-12-27T20:09:27.305180Z",
     "iopub.status.idle": "2021-12-27T20:09:27.319836Z",
     "shell.execute_reply": "2021-12-27T20:09:27.319330Z"
    },
    "papermill": {
     "duration": 0.049222,
     "end_time": "2021-12-27T20:09:27.319966",
     "exception": false,
     "start_time": "2021-12-27T20:09:27.270744",
     "status": "completed"
    },
    "tags": []
   },
   "outputs": [
    {
     "data": {
      "text/plain": [
       "((11982, 28, 28), (1984, 28, 28))"
      ]
     },
     "execution_count": 13,
     "metadata": {},
     "output_type": "execute_result"
    }
   ],
   "source": [
    "X_train.shape, X_test.shape"
   ]
  },
  {
   "cell_type": "markdown",
   "id": "5ccf3f85",
   "metadata": {
    "papermill": {
     "duration": 0.030945,
     "end_time": "2021-12-27T20:09:27.382539",
     "exception": false,
     "start_time": "2021-12-27T20:09:27.351594",
     "status": "completed"
    },
    "tags": []
   },
   "source": [
    "We reshape the data to flatten the image pixels into a set of features or co-variates:"
   ]
  },
  {
   "cell_type": "code",
   "execution_count": 14,
   "id": "5286a4a3",
   "metadata": {
    "execution": {
     "iopub.execute_input": "2021-12-27T20:09:27.450023Z",
     "iopub.status.busy": "2021-12-27T20:09:27.449375Z",
     "iopub.status.idle": "2021-12-27T20:09:27.465264Z",
     "shell.execute_reply": "2021-12-27T20:09:27.465755Z"
    },
    "papermill": {
     "duration": 0.052272,
     "end_time": "2021-12-27T20:09:27.465903",
     "exception": false,
     "start_time": "2021-12-27T20:09:27.413631",
     "status": "completed"
    },
    "tags": []
   },
   "outputs": [
    {
     "data": {
      "text/plain": [
       "((11982, 784), (1984, 784))"
      ]
     },
     "execution_count": 14,
     "metadata": {},
     "output_type": "execute_result"
    }
   ],
   "source": [
    "X_train = X_train.reshape(X_train.shape[0], -1)\n",
    "X_test = X_test.reshape(X_test.shape[0], -1)\n",
    "X_train.shape, X_test.shape"
   ]
  },
  {
   "cell_type": "code",
   "execution_count": 15,
   "id": "73c5f88a",
   "metadata": {
    "execution": {
     "iopub.execute_input": "2021-12-27T20:09:27.534937Z",
     "iopub.status.busy": "2021-12-27T20:09:27.534309Z",
     "iopub.status.idle": "2021-12-27T20:09:27.555169Z",
     "shell.execute_reply": "2021-12-27T20:09:27.555788Z"
    },
    "papermill": {
     "duration": 0.058153,
     "end_time": "2021-12-27T20:09:27.555978",
     "exception": false,
     "start_time": "2021-12-27T20:09:27.497825",
     "status": "completed"
    },
    "tags": []
   },
   "outputs": [],
   "source": [
    "#Impoting functions from 'Kudzu'\n",
    "from kudzu.model import Model\n",
    "from kudzu.train import Learner\n",
    "from kudzu.optim import GD\n",
    "from kudzu.data import Data, Sampler,Dataloader\n",
    "\n",
    "from kudzu.callbacks import AccCallback\n",
    "from kudzu.callbacks import ClfCallback\n",
    "\n",
    "from kudzu.loss import MSE\n",
    "\n",
    "from kudzu.layer import Sigmoid,Relu\n",
    "from kudzu.layer import Affine"
   ]
  },
  {
   "cell_type": "markdown",
   "id": "bc01172a",
   "metadata": {
    "papermill": {
     "duration": 0.031344,
     "end_time": "2021-12-27T20:09:27.620886",
     "exception": false,
     "start_time": "2021-12-27T20:09:27.589542",
     "status": "completed"
    },
    "tags": []
   },
   "source": [
    "### Let us create a `Config` class, to store important parameters. \n",
    "This class essentially plays the role of a dictionary."
   ]
  },
  {
   "cell_type": "code",
   "execution_count": 16,
   "id": "978281aa",
   "metadata": {
    "execution": {
     "iopub.execute_input": "2021-12-27T20:09:27.688006Z",
     "iopub.status.busy": "2021-12-27T20:09:27.687381Z",
     "iopub.status.idle": "2021-12-27T20:09:27.703826Z",
     "shell.execute_reply": "2021-12-27T20:09:27.703328Z"
    },
    "papermill": {
     "duration": 0.051703,
     "end_time": "2021-12-27T20:09:27.703955",
     "exception": false,
     "start_time": "2021-12-27T20:09:27.652252",
     "status": "completed"
    },
    "tags": []
   },
   "outputs": [],
   "source": [
    "class Config:\n",
    "    pass\n",
    "config = Config()\n",
    "config.lr = 0.001\n",
    "config.num_epochs = 250\n",
    "config.bs = 50"
   ]
  },
  {
   "cell_type": "markdown",
   "id": "1385fa59",
   "metadata": {
    "papermill": {
     "duration": 0.031236,
     "end_time": "2021-12-27T20:09:27.766585",
     "exception": false,
     "start_time": "2021-12-27T20:09:27.735349",
     "status": "completed"
    },
    "tags": []
   },
   "source": [
    "### Running Models with the Training data\n",
    "Details about the network layers:\n",
    "- A first affine layer has 784 inputs and does 100 affine transforms. These are followed by a Relu\n",
    "- A second affine layer has 100 inputs from the 100 activations of the past layer, and does 100 affine transforms. These are followed by a Relu\n",
    "- A third affine layer has 100 activations and does 2 affine transformations to create an embedding for visualization. There is no non-linearity here.\n",
    "- A final \"logistic regression\" which has an affine transform from 2 inputs to 1 output, which is squeezed through a sigmoid.\n"
   ]
  },
  {
   "cell_type": "code",
   "execution_count": 17,
   "id": "2b9c66db",
   "metadata": {
    "execution": {
     "iopub.execute_input": "2021-12-27T20:09:27.833630Z",
     "iopub.status.busy": "2021-12-27T20:09:27.832996Z",
     "iopub.status.idle": "2021-12-27T20:09:27.846591Z",
     "shell.execute_reply": "2021-12-27T20:09:27.846062Z"
    },
    "papermill": {
     "duration": 0.04869,
     "end_time": "2021-12-27T20:09:27.846715",
     "exception": false,
     "start_time": "2021-12-27T20:09:27.798025",
     "status": "completed"
    },
    "tags": []
   },
   "outputs": [],
   "source": [
    "data = Data(X_train, y_train.reshape(-1,1))\n",
    "sampler = Sampler(data, config.bs, shuffle=True)\n",
    "\n",
    "dl = Dataloader(data, sampler)\n",
    "\n",
    "opt = GD(config.lr)\n",
    "loss = MSE()"
   ]
  },
  {
   "cell_type": "code",
   "execution_count": 18,
   "id": "b275e4c2",
   "metadata": {
    "execution": {
     "iopub.execute_input": "2021-12-27T20:09:27.915130Z",
     "iopub.status.busy": "2021-12-27T20:09:27.914512Z",
     "iopub.status.idle": "2021-12-27T20:09:27.929483Z",
     "shell.execute_reply": "2021-12-27T20:09:27.928987Z"
    },
    "papermill": {
     "duration": 0.050694,
     "end_time": "2021-12-27T20:09:27.929609",
     "exception": false,
     "start_time": "2021-12-27T20:09:27.878915",
     "status": "completed"
    },
    "tags": []
   },
   "outputs": [],
   "source": [
    "training_data_x = X_train\n",
    "testing_data_x = X_test\n",
    "training_data_y = y_train.reshape(-1,1)\n",
    "testing_data_y = y_test.reshape(-1,1)"
   ]
  },
  {
   "cell_type": "code",
   "execution_count": 19,
   "id": "76951160",
   "metadata": {
    "execution": {
     "iopub.execute_input": "2021-12-27T20:09:28.000801Z",
     "iopub.status.busy": "2021-12-27T20:09:28.000179Z",
     "iopub.status.idle": "2021-12-27T20:09:28.018376Z",
     "shell.execute_reply": "2021-12-27T20:09:28.017850Z"
    },
    "papermill": {
     "duration": 0.056166,
     "end_time": "2021-12-27T20:09:28.018500",
     "exception": false,
     "start_time": "2021-12-27T20:09:27.962334",
     "status": "completed"
    },
    "tags": []
   },
   "outputs": [
    {
     "name": "stdout",
     "output_type": "stream",
     "text": [
      "xavier\n",
      "xavier\n",
      "xavier\n",
      "xavier\n",
      "xavier\n"
     ]
    }
   ],
   "source": [
    "layers = [Affine(\"first\", 784, 100), Relu(\"first\"), Affine(\"second\", 100, 100), Relu(\"second\"), Affine(\"third\", 100, 2), Affine(\"last\", 2, 1), Sigmoid(\"last\")]\n",
    "model_nn = Model(layers)\n",
    "model_lr = Model([Affine(\"logits\", 784, 1), Sigmoid(\"sigmoid\")])"
   ]
  },
  {
   "cell_type": "code",
   "execution_count": 20,
   "id": "6eede77a",
   "metadata": {
    "execution": {
     "iopub.execute_input": "2021-12-27T20:09:28.090216Z",
     "iopub.status.busy": "2021-12-27T20:09:28.089562Z",
     "iopub.status.idle": "2021-12-27T20:09:28.104344Z",
     "shell.execute_reply": "2021-12-27T20:09:28.103847Z"
    },
    "papermill": {
     "duration": 0.054213,
     "end_time": "2021-12-27T20:09:28.104471",
     "exception": false,
     "start_time": "2021-12-27T20:09:28.050258",
     "status": "completed"
    },
    "tags": []
   },
   "outputs": [],
   "source": [
    "nn_learner = Learner(loss, model_nn, opt, config.num_epochs)\n",
    "acc_nn = ClfCallback(nn_learner, config.bs, training_data_x , testing_data_x, training_data_y, testing_data_y)\n",
    "nn_learner.set_callbacks([acc_nn])"
   ]
  },
  {
   "cell_type": "code",
   "execution_count": 21,
   "id": "877b6cc7",
   "metadata": {
    "execution": {
     "iopub.execute_input": "2021-12-27T20:09:28.172942Z",
     "iopub.status.busy": "2021-12-27T20:09:28.172315Z",
     "iopub.status.idle": "2021-12-27T20:09:28.185604Z",
     "shell.execute_reply": "2021-12-27T20:09:28.186128Z"
    },
    "papermill": {
     "duration": 0.050056,
     "end_time": "2021-12-27T20:09:28.186281",
     "exception": false,
     "start_time": "2021-12-27T20:09:28.136225",
     "status": "completed"
    },
    "tags": []
   },
   "outputs": [],
   "source": [
    "lr_learner = Learner(loss, model_lr, opt, config.num_epochs)\n",
    "acc_lr = ClfCallback(lr_learner, config.bs, training_data_x , testing_data_x, training_data_y, testing_data_y)\n",
    "lr_learner.set_callbacks([acc_lr])"
   ]
  },
  {
   "cell_type": "code",
   "execution_count": 22,
   "id": "d9b133c3",
   "metadata": {
    "execution": {
     "iopub.execute_input": "2021-12-27T20:09:28.262719Z",
     "iopub.status.busy": "2021-12-27T20:09:28.262088Z",
     "iopub.status.idle": "2021-12-27T20:10:55.561321Z",
     "shell.execute_reply": "2021-12-27T20:10:55.561961Z"
    },
    "papermill": {
     "duration": 87.343003,
     "end_time": "2021-12-27T20:10:55.562130",
     "exception": false,
     "start_time": "2021-12-27T20:09:28.219127",
     "status": "completed"
    },
    "tags": []
   },
   "outputs": [
    {
     "name": "stdout",
     "output_type": "stream",
     "text": [
      "Epoch 0, Loss 0.2467\n",
      "Training Accuracy: 0.6833, Testing Accuracy: 0.6885\n",
      "\n"
     ]
    },
    {
     "name": "stdout",
     "output_type": "stream",
     "text": [
      "Epoch 10, Loss 0.0735\n",
      "Training Accuracy: 0.9337, Testing Accuracy: 0.9380\n",
      "\n"
     ]
    },
    {
     "name": "stdout",
     "output_type": "stream",
     "text": [
      "Epoch 20, Loss 0.0487\n",
      "Training Accuracy: 0.9467, Testing Accuracy: 0.9582\n",
      "\n"
     ]
    },
    {
     "name": "stdout",
     "output_type": "stream",
     "text": [
      "Epoch 30, Loss 0.04\n",
      "Training Accuracy: 0.9540, Testing Accuracy: 0.9642\n",
      "\n"
     ]
    },
    {
     "name": "stdout",
     "output_type": "stream",
     "text": [
      "Epoch 40, Loss 0.0354\n",
      "Training Accuracy: 0.9588, Testing Accuracy: 0.9667\n",
      "\n"
     ]
    },
    {
     "name": "stdout",
     "output_type": "stream",
     "text": [
      "Epoch 50, Loss 0.0324\n",
      "Training Accuracy: 0.9628, Testing Accuracy: 0.9688\n",
      "\n"
     ]
    },
    {
     "name": "stdout",
     "output_type": "stream",
     "text": [
      "Epoch 60, Loss 0.0303\n",
      "Training Accuracy: 0.9647, Testing Accuracy: 0.9718\n",
      "\n"
     ]
    },
    {
     "name": "stdout",
     "output_type": "stream",
     "text": [
      "Epoch 70, Loss 0.0286\n",
      "Training Accuracy: 0.9667, Testing Accuracy: 0.9733\n",
      "\n"
     ]
    },
    {
     "name": "stdout",
     "output_type": "stream",
     "text": [
      "Epoch 80, Loss 0.0273\n",
      "Training Accuracy: 0.9680, Testing Accuracy: 0.9733\n",
      "\n"
     ]
    },
    {
     "name": "stdout",
     "output_type": "stream",
     "text": [
      "Epoch 90, Loss 0.0262\n",
      "Training Accuracy: 0.9700, Testing Accuracy: 0.9753\n",
      "\n"
     ]
    },
    {
     "name": "stdout",
     "output_type": "stream",
     "text": [
      "Epoch 100, Loss 0.0252\n",
      "Training Accuracy: 0.9710, Testing Accuracy: 0.9748\n",
      "\n"
     ]
    },
    {
     "name": "stdout",
     "output_type": "stream",
     "text": [
      "Epoch 110, Loss 0.0244\n",
      "Training Accuracy: 0.9718, Testing Accuracy: 0.9738\n",
      "\n"
     ]
    },
    {
     "name": "stdout",
     "output_type": "stream",
     "text": [
      "Epoch 120, Loss 0.0236\n",
      "Training Accuracy: 0.9732, Testing Accuracy: 0.9733\n",
      "\n"
     ]
    },
    {
     "name": "stdout",
     "output_type": "stream",
     "text": [
      "Epoch 130, Loss 0.0229\n",
      "Training Accuracy: 0.9738, Testing Accuracy: 0.9728\n",
      "\n"
     ]
    },
    {
     "name": "stdout",
     "output_type": "stream",
     "text": [
      "Epoch 140, Loss 0.0223\n",
      "Training Accuracy: 0.9742, Testing Accuracy: 0.9723\n",
      "\n"
     ]
    },
    {
     "name": "stdout",
     "output_type": "stream",
     "text": [
      "Epoch 150, Loss 0.0218\n",
      "Training Accuracy: 0.9747, Testing Accuracy: 0.9718\n",
      "\n"
     ]
    },
    {
     "name": "stdout",
     "output_type": "stream",
     "text": [
      "Epoch 160, Loss 0.0212\n",
      "Training Accuracy: 0.9760, Testing Accuracy: 0.9728\n",
      "\n"
     ]
    },
    {
     "name": "stdout",
     "output_type": "stream",
     "text": [
      "Epoch 170, Loss 0.0208\n",
      "Training Accuracy: 0.9765, Testing Accuracy: 0.9723\n",
      "\n"
     ]
    },
    {
     "name": "stdout",
     "output_type": "stream",
     "text": [
      "Epoch 180, Loss 0.0203\n",
      "Training Accuracy: 0.9773, Testing Accuracy: 0.9728\n",
      "\n"
     ]
    },
    {
     "name": "stdout",
     "output_type": "stream",
     "text": [
      "Epoch 190, Loss 0.0199\n",
      "Training Accuracy: 0.9780, Testing Accuracy: 0.9733\n",
      "\n"
     ]
    },
    {
     "name": "stdout",
     "output_type": "stream",
     "text": [
      "Epoch 200, Loss 0.0194\n",
      "Training Accuracy: 0.9784, Testing Accuracy: 0.9733\n",
      "\n"
     ]
    },
    {
     "name": "stdout",
     "output_type": "stream",
     "text": [
      "Epoch 210, Loss 0.019\n",
      "Training Accuracy: 0.9791, Testing Accuracy: 0.9738\n",
      "\n"
     ]
    },
    {
     "name": "stdout",
     "output_type": "stream",
     "text": [
      "Epoch 220, Loss 0.0187\n",
      "Training Accuracy: 0.9792, Testing Accuracy: 0.9743\n",
      "\n"
     ]
    },
    {
     "name": "stdout",
     "output_type": "stream",
     "text": [
      "Epoch 230, Loss 0.0183\n",
      "Training Accuracy: 0.9795, Testing Accuracy: 0.9743\n",
      "\n"
     ]
    },
    {
     "name": "stdout",
     "output_type": "stream",
     "text": [
      "Epoch 240, Loss 0.018\n",
      "Training Accuracy: 0.9797, Testing Accuracy: 0.9743\n",
      "\n"
     ]
    },
    {
     "data": {
      "text/plain": [
       "0.033989083725354724"
      ]
     },
     "execution_count": 22,
     "metadata": {},
     "output_type": "execute_result"
    }
   ],
   "source": [
    "nn_learner.train_loop(dl)"
   ]
  },
  {
   "cell_type": "code",
   "execution_count": 23,
   "id": "e0163366",
   "metadata": {
    "execution": {
     "iopub.execute_input": "2021-12-27T20:10:55.655301Z",
     "iopub.status.busy": "2021-12-27T20:10:55.654680Z",
     "iopub.status.idle": "2021-12-27T20:11:11.045774Z",
     "shell.execute_reply": "2021-12-27T20:11:11.045212Z"
    },
    "papermill": {
     "duration": 15.443266,
     "end_time": "2021-12-27T20:11:11.045923",
     "exception": false,
     "start_time": "2021-12-27T20:10:55.602657",
     "status": "completed"
    },
    "tags": []
   },
   "outputs": [
    {
     "name": "stdout",
     "output_type": "stream",
     "text": [
      "Epoch 0, Loss 0.2472\n",
      "Training Accuracy: 0.6510, Testing Accuracy: 0.6809\n",
      "\n"
     ]
    },
    {
     "name": "stdout",
     "output_type": "stream",
     "text": [
      "Epoch 10, Loss 0.1031\n",
      "Training Accuracy: 0.9112, Testing Accuracy: 0.9158\n",
      "\n"
     ]
    },
    {
     "name": "stdout",
     "output_type": "stream",
     "text": [
      "Epoch 20, Loss 0.0794\n",
      "Training Accuracy: 0.9288, Testing Accuracy: 0.9390\n",
      "\n"
     ]
    },
    {
     "name": "stdout",
     "output_type": "stream",
     "text": [
      "Epoch 30, Loss 0.0683\n",
      "Training Accuracy: 0.9369, Testing Accuracy: 0.9481\n",
      "\n"
     ]
    },
    {
     "name": "stdout",
     "output_type": "stream",
     "text": [
      "Epoch 40, Loss 0.0617\n",
      "Training Accuracy: 0.9419, Testing Accuracy: 0.9546\n",
      "\n"
     ]
    },
    {
     "name": "stdout",
     "output_type": "stream",
     "text": [
      "Epoch 50, Loss 0.0571\n",
      "Training Accuracy: 0.9448, Testing Accuracy: 0.9561\n",
      "\n"
     ]
    },
    {
     "name": "stdout",
     "output_type": "stream",
     "text": [
      "Epoch 60, Loss 0.0538\n",
      "Training Accuracy: 0.9469, Testing Accuracy: 0.9551\n",
      "\n"
     ]
    },
    {
     "name": "stdout",
     "output_type": "stream",
     "text": [
      "Epoch 70, Loss 0.0512\n",
      "Training Accuracy: 0.9489, Testing Accuracy: 0.9587\n",
      "\n"
     ]
    },
    {
     "name": "stdout",
     "output_type": "stream",
     "text": [
      "Epoch 80, Loss 0.0491\n",
      "Training Accuracy: 0.9506, Testing Accuracy: 0.9612\n",
      "\n"
     ]
    },
    {
     "name": "stdout",
     "output_type": "stream",
     "text": [
      "Epoch 90, Loss 0.0474\n",
      "Training Accuracy: 0.9522, Testing Accuracy: 0.9607\n",
      "\n"
     ]
    },
    {
     "name": "stdout",
     "output_type": "stream",
     "text": [
      "Epoch 100, Loss 0.046\n",
      "Training Accuracy: 0.9538, Testing Accuracy: 0.9612\n",
      "\n"
     ]
    },
    {
     "name": "stdout",
     "output_type": "stream",
     "text": [
      "Epoch 110, Loss 0.0448\n",
      "Training Accuracy: 0.9548, Testing Accuracy: 0.9622\n",
      "\n"
     ]
    },
    {
     "name": "stdout",
     "output_type": "stream",
     "text": [
      "Epoch 120, Loss 0.0437\n",
      "Training Accuracy: 0.9552, Testing Accuracy: 0.9637\n",
      "\n"
     ]
    },
    {
     "name": "stdout",
     "output_type": "stream",
     "text": [
      "Epoch 130, Loss 0.0428\n",
      "Training Accuracy: 0.9563, Testing Accuracy: 0.9637\n",
      "\n"
     ]
    },
    {
     "name": "stdout",
     "output_type": "stream",
     "text": [
      "Epoch 140, Loss 0.042\n",
      "Training Accuracy: 0.9568, Testing Accuracy: 0.9647\n",
      "\n"
     ]
    },
    {
     "name": "stdout",
     "output_type": "stream",
     "text": [
      "Epoch 150, Loss 0.0412\n",
      "Training Accuracy: 0.9574, Testing Accuracy: 0.9652\n",
      "\n"
     ]
    },
    {
     "name": "stdout",
     "output_type": "stream",
     "text": [
      "Epoch 160, Loss 0.0405\n",
      "Training Accuracy: 0.9579, Testing Accuracy: 0.9647\n",
      "\n"
     ]
    },
    {
     "name": "stdout",
     "output_type": "stream",
     "text": [
      "Epoch 170, Loss 0.0399\n",
      "Training Accuracy: 0.9587, Testing Accuracy: 0.9647\n",
      "\n"
     ]
    },
    {
     "name": "stdout",
     "output_type": "stream",
     "text": [
      "Epoch 180, Loss 0.0394\n",
      "Training Accuracy: 0.9591, Testing Accuracy: 0.9652\n",
      "\n"
     ]
    },
    {
     "name": "stdout",
     "output_type": "stream",
     "text": [
      "Epoch 190, Loss 0.0388\n",
      "Training Accuracy: 0.9596, Testing Accuracy: 0.9647\n",
      "\n"
     ]
    },
    {
     "name": "stdout",
     "output_type": "stream",
     "text": [
      "Epoch 200, Loss 0.0384\n",
      "Training Accuracy: 0.9599, Testing Accuracy: 0.9647\n",
      "\n"
     ]
    },
    {
     "name": "stdout",
     "output_type": "stream",
     "text": [
      "Epoch 210, Loss 0.0379\n",
      "Training Accuracy: 0.9605, Testing Accuracy: 0.9647\n",
      "\n"
     ]
    },
    {
     "name": "stdout",
     "output_type": "stream",
     "text": [
      "Epoch 220, Loss 0.0375\n",
      "Training Accuracy: 0.9612, Testing Accuracy: 0.9647\n",
      "\n"
     ]
    },
    {
     "name": "stdout",
     "output_type": "stream",
     "text": [
      "Epoch 230, Loss 0.0371\n",
      "Training Accuracy: 0.9614, Testing Accuracy: 0.9647\n",
      "\n"
     ]
    },
    {
     "name": "stdout",
     "output_type": "stream",
     "text": [
      "Epoch 240, Loss 0.0368\n",
      "Training Accuracy: 0.9620, Testing Accuracy: 0.9652\n",
      "\n"
     ]
    },
    {
     "data": {
      "text/plain": [
       "0.048636866454034006"
      ]
     },
     "execution_count": 23,
     "metadata": {},
     "output_type": "execute_result"
    }
   ],
   "source": [
    "lr_learner.train_loop(dl)"
   ]
  },
  {
   "cell_type": "code",
   "execution_count": 24,
   "id": "ca410940",
   "metadata": {
    "execution": {
     "iopub.execute_input": "2021-12-27T20:11:11.155076Z",
     "iopub.status.busy": "2021-12-27T20:11:11.154427Z",
     "iopub.status.idle": "2021-12-27T20:11:11.427967Z",
     "shell.execute_reply": "2021-12-27T20:11:11.427417Z"
    },
    "papermill": {
     "duration": 0.333875,
     "end_time": "2021-12-27T20:11:11.428107",
     "exception": false,
     "start_time": "2021-12-27T20:11:11.094232",
     "status": "completed"
    },
    "tags": []
   },
   "outputs": [
    {
     "data": {
      "text/plain": [
       "<matplotlib.legend.Legend at 0x7f1c7408dc50>"
      ]
     },
     "execution_count": 24,
     "metadata": {},
     "output_type": "execute_result"
    },
    {
     "data": {
      "image/png": "[encoded data removed]",
      "text/plain": [
       "<Figure size 1080x720 with 1 Axes>"
      ]
     },
     "metadata": {
      "needs_background": "light"
     },
     "output_type": "display_data"
    }
   ],
   "source": [
    "#comparing the results of NN and LR\n",
    "plt.figure(figsize=(15,10))\n",
    "\n",
    "# Neural Network plots\n",
    "plt.plot(acc_nn.accuracies, 'r-', label = \"Training Accuracies - NN\")\n",
    "plt.plot(acc_nn.test_accuracies, 'g-', label = \"Testing Accuracies - NN\")\n",
    "\n",
    "# Logistic Regression plots\n",
    "plt.plot(acc_lr.accuracies, 'k-', label = \"Training Accuracies - LR\")\n",
    "plt.plot(acc_lr.test_accuracies, 'b-', label = \"Testing Accuracies - LR\")\n",
    "plt.legend()"
   ]
  },
  {
   "cell_type": "markdown",
   "id": "80dfb35c",
   "metadata": {
    "papermill": {
     "duration": 0.04926,
     "end_time": "2021-12-27T20:11:11.526746",
     "exception": false,
     "start_time": "2021-12-27T20:11:11.477486",
     "status": "completed"
    },
    "tags": []
   },
   "source": [
    "#### Plotting the outputs of this layer of the NN.\n"
   ]
  },
  {
   "cell_type": "code",
   "execution_count": 25,
   "id": "45eb2ff5",
   "metadata": {
    "execution": {
     "iopub.execute_input": "2021-12-27T20:11:11.631479Z",
     "iopub.status.busy": "2021-12-27T20:11:11.629631Z",
     "iopub.status.idle": "2021-12-27T20:11:11.652599Z",
     "shell.execute_reply": "2021-12-27T20:11:11.653122Z"
    },
    "papermill": {
     "duration": 0.076929,
     "end_time": "2021-12-27T20:11:11.653281",
     "exception": false,
     "start_time": "2021-12-27T20:11:11.576352",
     "status": "completed"
    },
    "tags": []
   },
   "outputs": [],
   "source": [
    "new_model = Model(layers[:-2])\n",
    "testing_plot = new_model(testing_data_x)"
   ]
  },
  {
   "cell_type": "code",
   "execution_count": 26,
   "id": "4c0a5485",
   "metadata": {
    "execution": {
     "iopub.execute_input": "2021-12-27T20:11:11.792608Z",
     "iopub.status.busy": "2021-12-27T20:11:11.757612Z",
     "iopub.status.idle": "2021-12-27T20:11:11.986671Z",
     "shell.execute_reply": "2021-12-27T20:11:11.987176Z"
    },
    "papermill": {
     "duration": 0.284647,
     "end_time": "2021-12-27T20:11:11.987333",
     "exception": false,
     "start_time": "2021-12-27T20:11:11.702686",
     "status": "completed"
    },
    "tags": []
   },
   "outputs": [
    {
     "data": {
      "text/plain": [
       "Text(0.5, 1.0, 'Outputs')"
      ]
     },
     "execution_count": 26,
     "metadata": {},
     "output_type": "execute_result"
    },
    {
     "data": {
      "image/png": "[encoded data removed]",
      "text/plain": [
       "<Figure size 576x504 with 1 Axes>"
      ]
     },
     "metadata": {
      "needs_background": "light"
     },
     "output_type": "display_data"
    }
   ],
   "source": [
    "# Plotting the scatter plot of points and color coding by class\n",
    "plt.figure(figsize=(8,7))\n",
    "plt.scatter(testing_plot[:,0], testing_plot[:,1], alpha = 0.1, c = y_test.ravel());\n",
    "plt.title('Outputs')"
   ]
  },
  {
   "cell_type": "markdown",
   "id": "a74fcf8f",
   "metadata": {
    "papermill": {
     "duration": 0.053506,
     "end_time": "2021-12-27T20:11:12.094025",
     "exception": false,
     "start_time": "2021-12-27T20:11:12.040519",
     "status": "completed"
    },
    "tags": []
   },
   "source": [
    "Probability contours"
   ]
  },
  {
   "cell_type": "code",
   "execution_count": 27,
   "id": "d0afc8e3",
   "metadata": {
    "execution": {
     "iopub.execute_input": "2021-12-27T20:11:12.207790Z",
     "iopub.status.busy": "2021-12-27T20:11:12.207159Z",
     "iopub.status.idle": "2021-12-27T20:11:12.222288Z",
     "shell.execute_reply": "2021-12-27T20:11:12.221771Z"
    },
    "papermill": {
     "duration": 0.071475,
     "end_time": "2021-12-27T20:11:12.222423",
     "exception": false,
     "start_time": "2021-12-27T20:11:12.150948",
     "status": "completed"
    },
    "tags": []
   },
   "outputs": [],
   "source": [
    "model_prob = Model(layers[-2:]) "
   ]
  },
  {
   "cell_type": "code",
   "execution_count": 28,
   "id": "9b96e238",
   "metadata": {
    "execution": {
     "iopub.execute_input": "2021-12-27T20:11:12.360759Z",
     "iopub.status.busy": "2021-12-27T20:11:12.360131Z",
     "iopub.status.idle": "2021-12-27T20:11:12.375612Z",
     "shell.execute_reply": "2021-12-27T20:11:12.376087Z"
    },
    "papermill": {
     "duration": 0.073821,
     "end_time": "2021-12-27T20:11:12.376236",
     "exception": false,
     "start_time": "2021-12-27T20:11:12.302415",
     "status": "completed"
    },
    "tags": []
   },
   "outputs": [],
   "source": [
    "#creating the x and y ranges according to the above generated plot.\n",
    "x_range = np.linspace(-4, 1, 100) \n",
    "y_range = np.linspace(-6, 6, 100) \n",
    "x_grid, y_grid = np.meshgrid(x_range, y_range) # x_grid and y_grig are of size 100 X 100\n",
    "\n",
    "# converting x_grid and y_grid to continuous arrays\n",
    "x_gridflat = np.ravel(x_grid)\n",
    "y_gridflat = np.ravel(y_grid)\n",
    "\n",
    "# The last layer of the current model takes two columns as input. Hence transpose of np.vstack() is required.\n",
    "X = np.vstack((x_gridflat, y_gridflat)).T\n",
    "\n",
    "prob_contour = model_prob(X).reshape(100,100) "
   ]
  },
  {
   "cell_type": "code",
   "execution_count": 29,
   "id": "da72499a",
   "metadata": {
    "execution": {
     "iopub.execute_input": "2021-12-27T20:11:12.495142Z",
     "iopub.status.busy": "2021-12-27T20:11:12.494530Z",
     "iopub.status.idle": "2021-12-27T20:11:12.777731Z",
     "shell.execute_reply": "2021-12-27T20:11:12.776490Z"
    },
    "papermill": {
     "duration": 0.349487,
     "end_time": "2021-12-27T20:11:12.777879",
     "exception": false,
     "start_time": "2021-12-27T20:11:12.428392",
     "status": "completed"
    },
    "tags": []
   },
   "outputs": [
    {
     "data": {
      "image/png": "[encoded data removed]",
      "text/plain": [
       "<Figure size 720x648 with 1 Axes>"
      ]
     },
     "metadata": {
      "needs_background": "light"
     },
     "output_type": "display_data"
    }
   ],
   "source": [
    "plt.figure(figsize=(10,9))\n",
    "plt.scatter(testing_plot[:,0], testing_plot[:,1], alpha = 0.1, c = y_test.ravel())\n",
    "contours = plt.contour(x_grid,y_grid,prob_contour)\n",
    "plt.title('Probability Contours')\n",
    "plt.clabel(contours, inline = True );"
   ]
  },
  {
   "cell_type": "code",
   "execution_count": null,
   "id": "e81b4ac7",
   "metadata": {
    "papermill": {
     "duration": 0.055103,
     "end_time": "2021-12-27T20:11:12.888539",
     "exception": false,
     "start_time": "2021-12-27T20:11:12.833436",
     "status": "completed"
    },
    "tags": []
   },
   "outputs": [],
   "source": []
  }
 ],
 "metadata": {
  "kernelspec": {
   "display_name": "Python 3",
   "language": "python",
   "name": "python3"
  },
  "language_info": {
   "codemirror_mode": {
    "name": "ipython",
    "version": 3
   },
   "file_extension": ".py",
   "mimetype": "text/x-python",
   "name": "python",
   "nbconvert_exporter": "python",
   "pygments_lexer": "ipython3",
   "version": "3.6.15"
  },
  "papermill": {
   "default_parameters": {},
   "duration": 112.232626,
   "end_time": "2021-12-27T20:11:13.354115",
   "environment_variables": {},
   "exception": null,
   "input_path": "2020-08-11-part2.ipynb",
   "output_path": "2020-08-11-part2.ipynb",
   "parameters": {},
   "start_time": "2021-12-27T20:09:21.121489",
   "version": "2.3.3"
  }
 },
 "nbformat": 4,
 "nbformat_minor": 5
}