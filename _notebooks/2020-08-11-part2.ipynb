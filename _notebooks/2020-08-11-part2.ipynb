{
 "cells": [
  {
   "cell_type": "markdown",
   "id": "98380cd3",
   "metadata": {
    "papermill": {
     "duration": 0.029807,
     "end_time": "2022-09-20T10:10:59.612153",
     "exception": false,
     "start_time": "2022-09-20T10:10:59.582346",
     "status": "completed"
    },
    "tags": []
   },
   "source": [
    "# Distinguish Your Own Digits (DYOD)"
   ]
  },
  {
   "cell_type": "markdown",
   "id": "ef31240d",
   "metadata": {
    "papermill": {
     "duration": 0.025291,
     "end_time": "2022-09-20T10:10:59.663099",
     "exception": false,
     "start_time": "2022-09-20T10:10:59.637808",
     "status": "completed"
    },
    "tags": []
   },
   "source": [
    "You are going to write a classifier that distinguishes between the number 3 and number 8."
   ]
  },
  {
   "cell_type": "code",
   "execution_count": 1,
   "id": "b15c8646",
   "metadata": {
    "execution": {
     "iopub.execute_input": "2022-09-20T10:10:59.723686Z",
     "iopub.status.busy": "2022-09-20T10:10:59.723079Z",
     "iopub.status.idle": "2022-09-20T10:10:59.733959Z",
     "shell.execute_reply": "2022-09-20T10:10:59.733474Z"
    },
    "papermill": {
     "duration": 0.046054,
     "end_time": "2022-09-20T10:10:59.734080",
     "exception": false,
     "start_time": "2022-09-20T10:10:59.688026",
     "status": "completed"
    },
    "tags": []
   },
   "outputs": [],
   "source": [
    "%load_ext autoreload\n",
    "%autoreload 2"
   ]
  },
  {
   "cell_type": "code",
   "execution_count": 2,
   "id": "22ef38dc",
   "metadata": {
    "execution": {
     "iopub.execute_input": "2022-09-20T10:10:59.789039Z",
     "iopub.status.busy": "2022-09-20T10:10:59.788471Z",
     "iopub.status.idle": "2022-09-20T10:11:00.312436Z",
     "shell.execute_reply": "2022-09-20T10:11:00.311948Z"
    },
    "papermill": {
     "duration": 0.553264,
     "end_time": "2022-09-20T10:11:00.312557",
     "exception": false,
     "start_time": "2022-09-20T10:10:59.759293",
     "status": "completed"
    },
    "tags": []
   },
   "outputs": [],
   "source": [
    "%matplotlib inline\n",
    "import numpy as np\n",
    "import matplotlib.pyplot as plt\n",
    "import pandas as pd"
   ]
  },
  {
   "cell_type": "markdown",
   "id": "ba036198",
   "metadata": {
    "papermill": {
     "duration": 0.025094,
     "end_time": "2022-09-20T10:11:00.362822",
     "exception": false,
     "start_time": "2022-09-20T10:11:00.337728",
     "status": "completed"
    },
    "tags": []
   },
   "source": [
    "From the command line run `pip install mnist`. This is a library that will help you bring down the mnist dataset. If you run this from a notebook, you need to put  `!pip install mnist` in a cell by itself."
   ]
  },
  {
   "cell_type": "code",
   "execution_count": 3,
   "id": "bb6ad8a1",
   "metadata": {
    "execution": {
     "iopub.execute_input": "2022-09-20T10:11:00.417040Z",
     "iopub.status.busy": "2022-09-20T10:11:00.416486Z",
     "iopub.status.idle": "2022-09-20T10:11:02.119345Z",
     "shell.execute_reply": "2022-09-20T10:11:02.118014Z"
    },
    "papermill": {
     "duration": 1.731461,
     "end_time": "2022-09-20T10:11:02.119468",
     "exception": false,
     "start_time": "2022-09-20T10:11:00.388007",
     "status": "completed"
    },
    "tags": []
   },
   "outputs": [
    {
     "name": "stdout",
     "output_type": "stream",
     "text": [
      "Collecting mnist\r\n"
     ]
    },
    {
     "name": "stdout",
     "output_type": "stream",
     "text": [
      "  Downloading mnist-0.2.2-py2.py3-none-any.whl (3.5 kB)\r\n",
      "Requirement already satisfied: numpy in /opt/hostedtoolcache/Python/3.6.15/x64/lib/python3.6/site-packages (from mnist) (1.19.5)\r\n"
     ]
    },
    {
     "name": "stdout",
     "output_type": "stream",
     "text": [
      "Installing collected packages: mnist\r\n"
     ]
    },
    {
     "name": "stdout",
     "output_type": "stream",
     "text": [
      "Successfully installed mnist-0.2.2\r\n"
     ]
    }
   ],
   "source": [
    "!pip install mnist"
   ]
  },
  {
   "cell_type": "markdown",
   "id": "69df9c9a",
   "metadata": {
    "papermill": {
     "duration": 0.026168,
     "end_time": "2022-09-20T10:11:02.171957",
     "exception": false,
     "start_time": "2022-09-20T10:11:02.145789",
     "status": "completed"
    },
    "tags": []
   },
   "source": [
    "## Preparing the Data"
   ]
  },
  {
   "cell_type": "code",
   "execution_count": 4,
   "id": "7f69d806",
   "metadata": {
    "execution": {
     "iopub.execute_input": "2022-09-20T10:11:02.227826Z",
     "iopub.status.busy": "2022-09-20T10:11:02.227265Z",
     "iopub.status.idle": "2022-09-20T10:11:02.241392Z",
     "shell.execute_reply": "2022-09-20T10:11:02.240927Z"
    },
    "papermill": {
     "duration": 0.04343,
     "end_time": "2022-09-20T10:11:02.241496",
     "exception": false,
     "start_time": "2022-09-20T10:11:02.198066",
     "status": "completed"
    },
    "tags": []
   },
   "outputs": [],
   "source": [
    "import mnist"
   ]
  },
  {
   "cell_type": "code",
   "execution_count": 5,
   "id": "a411e44f",
   "metadata": {
    "execution": {
     "iopub.execute_input": "2022-09-20T10:11:02.299163Z",
     "iopub.status.busy": "2022-09-20T10:11:02.297811Z",
     "iopub.status.idle": "2022-09-20T10:11:02.882167Z",
     "shell.execute_reply": "2022-09-20T10:11:02.881333Z"
    },
    "papermill": {
     "duration": 0.614613,
     "end_time": "2022-09-20T10:11:02.882291",
     "exception": false,
     "start_time": "2022-09-20T10:11:02.267678",
     "status": "completed"
    },
    "tags": []
   },
   "outputs": [],
   "source": [
    "train_images = mnist.train_images()\n",
    "train_labels = mnist.train_labels()"
   ]
  },
  {
   "cell_type": "code",
   "execution_count": 6,
   "id": "dceab3a5",
   "metadata": {
    "execution": {
     "iopub.execute_input": "2022-09-20T10:11:02.938806Z",
     "iopub.status.busy": "2022-09-20T10:11:02.938203Z",
     "iopub.status.idle": "2022-09-20T10:11:02.952464Z",
     "shell.execute_reply": "2022-09-20T10:11:02.951922Z"
    },
    "papermill": {
     "duration": 0.043993,
     "end_time": "2022-09-20T10:11:02.952569",
     "exception": false,
     "start_time": "2022-09-20T10:11:02.908576",
     "status": "completed"
    },
    "tags": []
   },
   "outputs": [
    {
     "data": {
      "text/plain": [
       "((60000, 28, 28), (60000,))"
      ]
     },
     "execution_count": 6,
     "metadata": {},
     "output_type": "execute_result"
    }
   ],
   "source": [
    "train_images.shape, train_labels.shape"
   ]
  },
  {
   "cell_type": "code",
   "execution_count": 7,
   "id": "f50dc2bb",
   "metadata": {
    "execution": {
     "iopub.execute_input": "2022-09-20T10:11:03.008597Z",
     "iopub.status.busy": "2022-09-20T10:11:03.008047Z",
     "iopub.status.idle": "2022-09-20T10:11:03.253297Z",
     "shell.execute_reply": "2022-09-20T10:11:03.252786Z"
    },
    "papermill": {
     "duration": 0.274552,
     "end_time": "2022-09-20T10:11:03.253410",
     "exception": false,
     "start_time": "2022-09-20T10:11:02.978858",
     "status": "completed"
    },
    "tags": []
   },
   "outputs": [],
   "source": [
    "test_images = mnist.test_images()\n",
    "test_labels = mnist.test_labels()"
   ]
  },
  {
   "cell_type": "code",
   "execution_count": 8,
   "id": "fc38cf1b",
   "metadata": {
    "execution": {
     "iopub.execute_input": "2022-09-20T10:11:03.310112Z",
     "iopub.status.busy": "2022-09-20T10:11:03.309555Z",
     "iopub.status.idle": "2022-09-20T10:11:03.322118Z",
     "shell.execute_reply": "2022-09-20T10:11:03.322583Z"
    },
    "papermill": {
     "duration": 0.042721,
     "end_time": "2022-09-20T10:11:03.322723",
     "exception": false,
     "start_time": "2022-09-20T10:11:03.280002",
     "status": "completed"
    },
    "tags": []
   },
   "outputs": [
    {
     "data": {
      "text/plain": [
       "((10000, 28, 28), (10000,))"
      ]
     },
     "execution_count": 8,
     "metadata": {},
     "output_type": "execute_result"
    }
   ],
   "source": [
    "test_images.shape, test_labels.shape"
   ]
  },
  {
   "cell_type": "code",
   "execution_count": 9,
   "id": "f9ed8fe0",
   "metadata": {
    "execution": {
     "iopub.execute_input": "2022-09-20T10:11:03.379732Z",
     "iopub.status.busy": "2022-09-20T10:11:03.379163Z",
     "iopub.status.idle": "2022-09-20T10:11:03.512667Z",
     "shell.execute_reply": "2022-09-20T10:11:03.513106Z"
    },
    "papermill": {
     "duration": 0.163746,
     "end_time": "2022-09-20T10:11:03.513232",
     "exception": false,
     "start_time": "2022-09-20T10:11:03.349486",
     "status": "completed"
    },
    "tags": []
   },
   "outputs": [
    {
     "name": "stdout",
     "output_type": "stream",
     "text": [
      "2\n"
     ]
    },
    {
     "data": {
      "text/plain": [
       "<matplotlib.image.AxesImage at 0x7f450326dc50>"
      ]
     },
     "execution_count": 9,
     "metadata": {},
     "output_type": "execute_result"
    },
    {
     "data": {
      "image/png": "[encoded data removed]",
      "text/plain": [
       "<Figure size 432x288 with 1 Axes>"
      ]
     },
     "metadata": {
      "needs_background": "light"
     },
     "output_type": "display_data"
    }
   ],
   "source": [
    "image_index = 7776 # You may select anything up to 60,000\n",
    "print(train_labels[image_index]) \n",
    "plt.imshow(train_images[image_index], cmap='Greys')"
   ]
  },
  {
   "cell_type": "markdown",
   "id": "a8d2388d",
   "metadata": {
    "papermill": {
     "duration": 0.027789,
     "end_time": "2022-09-20T10:11:03.569060",
     "exception": false,
     "start_time": "2022-09-20T10:11:03.541271",
     "status": "completed"
    },
    "tags": []
   },
   "source": [
    "## Filter data to get 3 and 8 out"
   ]
  },
  {
   "cell_type": "code",
   "execution_count": 10,
   "id": "776f7fc7",
   "metadata": {
    "execution": {
     "iopub.execute_input": "2022-09-20T10:11:03.628878Z",
     "iopub.status.busy": "2022-09-20T10:11:03.628309Z",
     "iopub.status.idle": "2022-09-20T10:11:03.645316Z",
     "shell.execute_reply": "2022-09-20T10:11:03.644750Z"
    },
    "papermill": {
     "duration": 0.048605,
     "end_time": "2022-09-20T10:11:03.645424",
     "exception": false,
     "start_time": "2022-09-20T10:11:03.596819",
     "status": "completed"
    },
    "tags": []
   },
   "outputs": [],
   "source": [
    "train_filter = np.where((train_labels == 3 ) | (train_labels == 8))\n",
    "test_filter = np.where((test_labels == 3) | (test_labels == 8))\n",
    "X_train, y_train = train_images[train_filter], train_labels[train_filter]\n",
    "X_test, y_test = test_images[test_filter], test_labels[test_filter]"
   ]
  },
  {
   "cell_type": "markdown",
   "id": "948f0b7e",
   "metadata": {
    "papermill": {
     "duration": 0.02766,
     "end_time": "2022-09-20T10:11:03.700937",
     "exception": false,
     "start_time": "2022-09-20T10:11:03.673277",
     "status": "completed"
    },
    "tags": []
   },
   "source": [
    "We normalize the pizel values in the 0 to 1 range"
   ]
  },
  {
   "cell_type": "code",
   "execution_count": 11,
   "id": "ee4c2166",
   "metadata": {
    "execution": {
     "iopub.execute_input": "2022-09-20T10:11:03.760346Z",
     "iopub.status.busy": "2022-09-20T10:11:03.759780Z",
     "iopub.status.idle": "2022-09-20T10:11:03.799916Z",
     "shell.execute_reply": "2022-09-20T10:11:03.800335Z"
    },
    "papermill": {
     "duration": 0.071715,
     "end_time": "2022-09-20T10:11:03.800469",
     "exception": false,
     "start_time": "2022-09-20T10:11:03.728754",
     "status": "completed"
    },
    "tags": []
   },
   "outputs": [],
   "source": [
    "X_train = X_train/255.\n",
    "X_test = X_test/255."
   ]
  },
  {
   "cell_type": "markdown",
   "id": "ddcf4fab",
   "metadata": {
    "papermill": {
     "duration": 0.027838,
     "end_time": "2022-09-20T10:11:03.856472",
     "exception": false,
     "start_time": "2022-09-20T10:11:03.828634",
     "status": "completed"
    },
    "tags": []
   },
   "source": [
    "And setup the labels as 1 (when the digit is 3) and 0 (when the digit is 8)"
   ]
  },
  {
   "cell_type": "code",
   "execution_count": 12,
   "id": "7dc908f2",
   "metadata": {
    "execution": {
     "iopub.execute_input": "2022-09-20T10:11:03.915997Z",
     "iopub.status.busy": "2022-09-20T10:11:03.915426Z",
     "iopub.status.idle": "2022-09-20T10:11:03.927220Z",
     "shell.execute_reply": "2022-09-20T10:11:03.927658Z"
    },
    "papermill": {
     "duration": 0.043391,
     "end_time": "2022-09-20T10:11:03.927785",
     "exception": false,
     "start_time": "2022-09-20T10:11:03.884394",
     "status": "completed"
    },
    "tags": []
   },
   "outputs": [],
   "source": [
    "y_train = 1*(y_train==3)\n",
    "y_test = 1*(y_test==3)"
   ]
  },
  {
   "cell_type": "code",
   "execution_count": 13,
   "id": "01e4e969",
   "metadata": {
    "execution": {
     "iopub.execute_input": "2022-09-20T10:11:03.988374Z",
     "iopub.status.busy": "2022-09-20T10:11:03.987797Z",
     "iopub.status.idle": "2022-09-20T10:11:04.000500Z",
     "shell.execute_reply": "2022-09-20T10:11:03.999949Z"
    },
    "papermill": {
     "duration": 0.044435,
     "end_time": "2022-09-20T10:11:04.000608",
     "exception": false,
     "start_time": "2022-09-20T10:11:03.956173",
     "status": "completed"
    },
    "tags": []
   },
   "outputs": [
    {
     "data": {
      "text/plain": [
       "((11982, 28, 28), (1984, 28, 28))"
      ]
     },
     "execution_count": 13,
     "metadata": {},
     "output_type": "execute_result"
    }
   ],
   "source": [
    "X_train.shape, X_test.shape"
   ]
  },
  {
   "cell_type": "markdown",
   "id": "5ccf3f85",
   "metadata": {
    "papermill": {
     "duration": 0.028203,
     "end_time": "2022-09-20T10:11:04.057702",
     "exception": false,
     "start_time": "2022-09-20T10:11:04.029499",
     "status": "completed"
    },
    "tags": []
   },
   "source": [
    "We reshape the data to flatten the image pixels into a set of features or co-variates:"
   ]
  },
  {
   "cell_type": "code",
   "execution_count": 14,
   "id": "5286a4a3",
   "metadata": {
    "execution": {
     "iopub.execute_input": "2022-09-20T10:11:04.119872Z",
     "iopub.status.busy": "2022-09-20T10:11:04.119302Z",
     "iopub.status.idle": "2022-09-20T10:11:04.132640Z",
     "shell.execute_reply": "2022-09-20T10:11:04.133089Z"
    },
    "papermill": {
     "duration": 0.046098,
     "end_time": "2022-09-20T10:11:04.133217",
     "exception": false,
     "start_time": "2022-09-20T10:11:04.087119",
     "status": "completed"
    },
    "tags": []
   },
   "outputs": [
    {
     "data": {
      "text/plain": [
       "((11982, 784), (1984, 784))"
      ]
     },
     "execution_count": 14,
     "metadata": {},
     "output_type": "execute_result"
    }
   ],
   "source": [
    "X_train = X_train.reshape(X_train.shape[0], -1)\n",
    "X_test = X_test.reshape(X_test.shape[0], -1)\n",
    "X_train.shape, X_test.shape"
   ]
  },
  {
   "cell_type": "code",
   "execution_count": 15,
   "id": "73c5f88a",
   "metadata": {
    "execution": {
     "iopub.execute_input": "2022-09-20T10:11:04.194498Z",
     "iopub.status.busy": "2022-09-20T10:11:04.193920Z",
     "iopub.status.idle": "2022-09-20T10:11:04.212069Z",
     "shell.execute_reply": "2022-09-20T10:11:04.212514Z"
    },
    "papermill": {
     "duration": 0.051017,
     "end_time": "2022-09-20T10:11:04.212640",
     "exception": false,
     "start_time": "2022-09-20T10:11:04.161623",
     "status": "completed"
    },
    "tags": []
   },
   "outputs": [],
   "source": [
    "#Impoting functions from 'Kudzu'\n",
    "from kudzu.model import Model\n",
    "from kudzu.train import Learner\n",
    "from kudzu.optim import GD\n",
    "from kudzu.data import Data, Sampler,Dataloader\n",
    "\n",
    "from kudzu.callbacks import AccCallback\n",
    "from kudzu.callbacks import ClfCallback\n",
    "\n",
    "from kudzu.loss import MSE\n",
    "\n",
    "from kudzu.layer import Sigmoid,Relu\n",
    "from kudzu.layer import Affine"
   ]
  },
  {
   "cell_type": "markdown",
   "id": "bc01172a",
   "metadata": {
    "papermill": {
     "duration": 0.028302,
     "end_time": "2022-09-20T10:11:04.269584",
     "exception": false,
     "start_time": "2022-09-20T10:11:04.241282",
     "status": "completed"
    },
    "tags": []
   },
   "source": [
    "### Let us create a `Config` class, to store important parameters. \n",
    "This class essentially plays the role of a dictionary."
   ]
  },
  {
   "cell_type": "code",
   "execution_count": 16,
   "id": "978281aa",
   "metadata": {
    "execution": {
     "iopub.execute_input": "2022-09-20T10:11:04.330603Z",
     "iopub.status.busy": "2022-09-20T10:11:04.330019Z",
     "iopub.status.idle": "2022-09-20T10:11:04.342145Z",
     "shell.execute_reply": "2022-09-20T10:11:04.341691Z"
    },
    "papermill": {
     "duration": 0.044337,
     "end_time": "2022-09-20T10:11:04.342251",
     "exception": false,
     "start_time": "2022-09-20T10:11:04.297914",
     "status": "completed"
    },
    "tags": []
   },
   "outputs": [],
   "source": [
    "class Config:\n",
    "    pass\n",
    "config = Config()\n",
    "config.lr = 0.001\n",
    "config.num_epochs = 250\n",
    "config.bs = 50"
   ]
  },
  {
   "cell_type": "markdown",
   "id": "1385fa59",
   "metadata": {
    "papermill": {
     "duration": 0.028243,
     "end_time": "2022-09-20T10:11:04.399045",
     "exception": false,
     "start_time": "2022-09-20T10:11:04.370802",
     "status": "completed"
    },
    "tags": []
   },
   "source": [
    "### Running Models with the Training data\n",
    "Details about the network layers:\n",
    "- A first affine layer has 784 inputs and does 100 affine transforms. These are followed by a Relu\n",
    "- A second affine layer has 100 inputs from the 100 activations of the past layer, and does 100 affine transforms. These are followed by a Relu\n",
    "- A third affine layer has 100 activations and does 2 affine transformations to create an embedding for visualization. There is no non-linearity here.\n",
    "- A final \"logistic regression\" which has an affine transform from 2 inputs to 1 output, which is squeezed through a sigmoid.\n"
   ]
  },
  {
   "cell_type": "code",
   "execution_count": 17,
   "id": "2b9c66db",
   "metadata": {
    "execution": {
     "iopub.execute_input": "2022-09-20T10:11:04.459659Z",
     "iopub.status.busy": "2022-09-20T10:11:04.459083Z",
     "iopub.status.idle": "2022-09-20T10:11:04.471008Z",
     "shell.execute_reply": "2022-09-20T10:11:04.471431Z"
    },
    "papermill": {
     "duration": 0.044111,
     "end_time": "2022-09-20T10:11:04.471549",
     "exception": false,
     "start_time": "2022-09-20T10:11:04.427438",
     "status": "completed"
    },
    "tags": []
   },
   "outputs": [],
   "source": [
    "data = Data(X_train, y_train.reshape(-1,1))\n",
    "sampler = Sampler(data, config.bs, shuffle=True)\n",
    "\n",
    "dl = Dataloader(data, sampler)\n",
    "\n",
    "opt = GD(config.lr)\n",
    "loss = MSE()"
   ]
  },
  {
   "cell_type": "code",
   "execution_count": 18,
   "id": "b275e4c2",
   "metadata": {
    "execution": {
     "iopub.execute_input": "2022-09-20T10:11:04.531785Z",
     "iopub.status.busy": "2022-09-20T10:11:04.531221Z",
     "iopub.status.idle": "2022-09-20T10:11:04.542815Z",
     "shell.execute_reply": "2022-09-20T10:11:04.543249Z"
    },
    "papermill": {
     "duration": 0.043558,
     "end_time": "2022-09-20T10:11:04.543367",
     "exception": false,
     "start_time": "2022-09-20T10:11:04.499809",
     "status": "completed"
    },
    "tags": []
   },
   "outputs": [],
   "source": [
    "training_data_x = X_train\n",
    "testing_data_x = X_test\n",
    "training_data_y = y_train.reshape(-1,1)\n",
    "testing_data_y = y_test.reshape(-1,1)"
   ]
  },
  {
   "cell_type": "code",
   "execution_count": 19,
   "id": "76951160",
   "metadata": {
    "execution": {
     "iopub.execute_input": "2022-09-20T10:11:04.603989Z",
     "iopub.status.busy": "2022-09-20T10:11:04.603421Z",
     "iopub.status.idle": "2022-09-20T10:11:04.619276Z",
     "shell.execute_reply": "2022-09-20T10:11:04.619746Z"
    },
    "papermill": {
     "duration": 0.048461,
     "end_time": "2022-09-20T10:11:04.619868",
     "exception": false,
     "start_time": "2022-09-20T10:11:04.571407",
     "status": "completed"
    },
    "tags": []
   },
   "outputs": [
    {
     "name": "stdout",
     "output_type": "stream",
     "text": [
      "xavier\n",
      "xavier\n",
      "xavier\n",
      "xavier\n",
      "xavier\n"
     ]
    }
   ],
   "source": [
    "layers = [Affine(\"first\", 784, 100), Relu(\"first\"), Affine(\"second\", 100, 100), Relu(\"second\"), Affine(\"third\", 100, 2), Affine(\"last\", 2, 1), Sigmoid(\"last\")]\n",
    "model_nn = Model(layers)\n",
    "model_lr = Model([Affine(\"logits\", 784, 1), Sigmoid(\"sigmoid\")])"
   ]
  },
  {
   "cell_type": "code",
   "execution_count": 20,
   "id": "6eede77a",
   "metadata": {
    "execution": {
     "iopub.execute_input": "2022-09-20T10:11:04.680782Z",
     "iopub.status.busy": "2022-09-20T10:11:04.680216Z",
     "iopub.status.idle": "2022-09-20T10:11:04.693707Z",
     "shell.execute_reply": "2022-09-20T10:11:04.692991Z"
    },
    "papermill": {
     "duration": 0.045375,
     "end_time": "2022-09-20T10:11:04.693816",
     "exception": false,
     "start_time": "2022-09-20T10:11:04.648441",
     "status": "completed"
    },
    "tags": []
   },
   "outputs": [],
   "source": [
    "nn_learner = Learner(loss, model_nn, opt, config.num_epochs)\n",
    "acc_nn = ClfCallback(nn_learner, config.bs, training_data_x , testing_data_x, training_data_y, testing_data_y)\n",
    "nn_learner.set_callbacks([acc_nn])"
   ]
  },
  {
   "cell_type": "code",
   "execution_count": 21,
   "id": "877b6cc7",
   "metadata": {
    "execution": {
     "iopub.execute_input": "2022-09-20T10:11:04.755381Z",
     "iopub.status.busy": "2022-09-20T10:11:04.754795Z",
     "iopub.status.idle": "2022-09-20T10:11:04.766281Z",
     "shell.execute_reply": "2022-09-20T10:11:04.766765Z"
    },
    "papermill": {
     "duration": 0.044462,
     "end_time": "2022-09-20T10:11:04.766889",
     "exception": false,
     "start_time": "2022-09-20T10:11:04.722427",
     "status": "completed"
    },
    "tags": []
   },
   "outputs": [],
   "source": [
    "lr_learner = Learner(loss, model_lr, opt, config.num_epochs)\n",
    "acc_lr = ClfCallback(lr_learner, config.bs, training_data_x , testing_data_x, training_data_y, testing_data_y)\n",
    "lr_learner.set_callbacks([acc_lr])"
   ]
  },
  {
   "cell_type": "code",
   "execution_count": 22,
   "id": "d9b133c3",
   "metadata": {
    "execution": {
     "iopub.execute_input": "2022-09-20T10:11:04.827916Z",
     "iopub.status.busy": "2022-09-20T10:11:04.827360Z",
     "iopub.status.idle": "2022-09-20T10:14:00.821198Z",
     "shell.execute_reply": "2022-09-20T10:14:00.821662Z"
    },
    "papermill": {
     "duration": 176.026203,
     "end_time": "2022-09-20T10:14:00.821790",
     "exception": false,
     "start_time": "2022-09-20T10:11:04.795587",
     "status": "completed"
    },
    "tags": []
   },
   "outputs": [
    {
     "name": "stdout",
     "output_type": "stream",
     "text": [
      "Epoch 0, Loss 0.251\n",
      "Training Accuracy: 0.5128, Testing Accuracy: 0.5141\n",
      "\n"
     ]
    },
    {
     "name": "stdout",
     "output_type": "stream",
     "text": [
      "Epoch 10, Loss 0.2367\n",
      "Training Accuracy: 0.7185, Testing Accuracy: 0.7167\n",
      "\n"
     ]
    },
    {
     "name": "stdout",
     "output_type": "stream",
     "text": [
      "Epoch 20, Loss 0.1815\n",
      "Training Accuracy: 0.8886, Testing Accuracy: 0.8967\n",
      "\n"
     ]
    },
    {
     "name": "stdout",
     "output_type": "stream",
     "text": [
      "Epoch 30, Loss 0.09\n",
      "Training Accuracy: 0.9170, Testing Accuracy: 0.9264\n",
      "\n"
     ]
    },
    {
     "name": "stdout",
     "output_type": "stream",
     "text": [
      "Epoch 40, Loss 0.0599\n",
      "Training Accuracy: 0.9352, Testing Accuracy: 0.9466\n",
      "\n"
     ]
    },
    {
     "name": "stdout",
     "output_type": "stream",
     "text": [
      "Epoch 50, Loss 0.0476\n",
      "Training Accuracy: 0.9471, Testing Accuracy: 0.9577\n",
      "\n"
     ]
    },
    {
     "name": "stdout",
     "output_type": "stream",
     "text": [
      "Epoch 60, Loss 0.041\n",
      "Training Accuracy: 0.9528, Testing Accuracy: 0.9652\n",
      "\n"
     ]
    },
    {
     "name": "stdout",
     "output_type": "stream",
     "text": [
      "Epoch 70, Loss 0.037\n",
      "Training Accuracy: 0.9569, Testing Accuracy: 0.9672\n",
      "\n"
     ]
    },
    {
     "name": "stdout",
     "output_type": "stream",
     "text": [
      "Epoch 80, Loss 0.0342\n",
      "Training Accuracy: 0.9596, Testing Accuracy: 0.9677\n",
      "\n"
     ]
    },
    {
     "name": "stdout",
     "output_type": "stream",
     "text": [
      "Epoch 90, Loss 0.0322\n",
      "Training Accuracy: 0.9620, Testing Accuracy: 0.9682\n",
      "\n"
     ]
    },
    {
     "name": "stdout",
     "output_type": "stream",
     "text": [
      "Epoch 100, Loss 0.0305\n",
      "Training Accuracy: 0.9644, Testing Accuracy: 0.9688\n",
      "\n"
     ]
    },
    {
     "name": "stdout",
     "output_type": "stream",
     "text": [
      "Epoch 110, Loss 0.0292\n",
      "Training Accuracy: 0.9663, Testing Accuracy: 0.9682\n",
      "\n"
     ]
    },
    {
     "name": "stdout",
     "output_type": "stream",
     "text": [
      "Epoch 120, Loss 0.028\n",
      "Training Accuracy: 0.9672, Testing Accuracy: 0.9693\n",
      "\n"
     ]
    },
    {
     "name": "stdout",
     "output_type": "stream",
     "text": [
      "Epoch 130, Loss 0.027\n",
      "Training Accuracy: 0.9683, Testing Accuracy: 0.9708\n",
      "\n"
     ]
    },
    {
     "name": "stdout",
     "output_type": "stream",
     "text": [
      "Epoch 140, Loss 0.0261\n",
      "Training Accuracy: 0.9696, Testing Accuracy: 0.9718\n",
      "\n"
     ]
    },
    {
     "name": "stdout",
     "output_type": "stream",
     "text": [
      "Epoch 150, Loss 0.0253\n",
      "Training Accuracy: 0.9703, Testing Accuracy: 0.9708\n",
      "\n"
     ]
    },
    {
     "name": "stdout",
     "output_type": "stream",
     "text": [
      "Epoch 160, Loss 0.0246\n",
      "Training Accuracy: 0.9715, Testing Accuracy: 0.9708\n",
      "\n"
     ]
    },
    {
     "name": "stdout",
     "output_type": "stream",
     "text": [
      "Epoch 170, Loss 0.0239\n",
      "Training Accuracy: 0.9722, Testing Accuracy: 0.9703\n",
      "\n"
     ]
    },
    {
     "name": "stdout",
     "output_type": "stream",
     "text": [
      "Epoch 180, Loss 0.0233\n",
      "Training Accuracy: 0.9733, Testing Accuracy: 0.9723\n",
      "\n"
     ]
    },
    {
     "name": "stdout",
     "output_type": "stream",
     "text": [
      "Epoch 190, Loss 0.0228\n",
      "Training Accuracy: 0.9740, Testing Accuracy: 0.9723\n",
      "\n"
     ]
    },
    {
     "name": "stdout",
     "output_type": "stream",
     "text": [
      "Epoch 200, Loss 0.0223\n",
      "Training Accuracy: 0.9743, Testing Accuracy: 0.9733\n",
      "\n"
     ]
    },
    {
     "name": "stdout",
     "output_type": "stream",
     "text": [
      "Epoch 210, Loss 0.0218\n",
      "Training Accuracy: 0.9750, Testing Accuracy: 0.9733\n",
      "\n"
     ]
    },
    {
     "name": "stdout",
     "output_type": "stream",
     "text": [
      "Epoch 220, Loss 0.0213\n",
      "Training Accuracy: 0.9755, Testing Accuracy: 0.9723\n",
      "\n"
     ]
    },
    {
     "name": "stdout",
     "output_type": "stream",
     "text": [
      "Epoch 230, Loss 0.0209\n",
      "Training Accuracy: 0.9758, Testing Accuracy: 0.9728\n",
      "\n"
     ]
    },
    {
     "name": "stdout",
     "output_type": "stream",
     "text": [
      "Epoch 240, Loss 0.0205\n",
      "Training Accuracy: 0.9762, Testing Accuracy: 0.9728\n",
      "\n"
     ]
    },
    {
     "data": {
      "text/plain": [
       "0.009827346314002384"
      ]
     },
     "execution_count": 22,
     "metadata": {},
     "output_type": "execute_result"
    }
   ],
   "source": [
    "nn_learner.train_loop(dl)"
   ]
  },
  {
   "cell_type": "code",
   "execution_count": 23,
   "id": "e0163366",
   "metadata": {
    "execution": {
     "iopub.execute_input": "2022-09-20T10:14:00.900244Z",
     "iopub.status.busy": "2022-09-20T10:14:00.898233Z",
     "iopub.status.idle": "2022-09-20T10:14:13.210292Z",
     "shell.execute_reply": "2022-09-20T10:14:13.211126Z"
    },
    "papermill": {
     "duration": 12.353311,
     "end_time": "2022-09-20T10:14:13.211262",
     "exception": false,
     "start_time": "2022-09-20T10:14:00.857951",
     "status": "completed"
    },
    "tags": []
   },
   "outputs": [
    {
     "name": "stdout",
     "output_type": "stream",
     "text": [
      "Epoch 0, Loss 0.2404\n",
      "Training Accuracy: 0.6795, Testing Accuracy: 0.6759\n",
      "\n"
     ]
    },
    {
     "name": "stdout",
     "output_type": "stream",
     "text": [
      "Epoch 10, Loss 0.1062\n",
      "Training Accuracy: 0.8993, Testing Accuracy: 0.9098\n",
      "\n"
     ]
    },
    {
     "name": "stdout",
     "output_type": "stream",
     "text": [
      "Epoch 20, Loss 0.0808\n",
      "Training Accuracy: 0.9221, Testing Accuracy: 0.9355\n",
      "\n"
     ]
    },
    {
     "name": "stdout",
     "output_type": "stream",
     "text": [
      "Epoch 30, Loss 0.069\n",
      "Training Accuracy: 0.9331, Testing Accuracy: 0.9446\n",
      "\n"
     ]
    },
    {
     "name": "stdout",
     "output_type": "stream",
     "text": [
      "Epoch 40, Loss 0.062\n",
      "Training Accuracy: 0.9407, Testing Accuracy: 0.9506\n",
      "\n"
     ]
    },
    {
     "name": "stdout",
     "output_type": "stream",
     "text": [
      "Epoch 50, Loss 0.0572\n",
      "Training Accuracy: 0.9445, Testing Accuracy: 0.9516\n",
      "\n"
     ]
    },
    {
     "name": "stdout",
     "output_type": "stream",
     "text": [
      "Epoch 60, Loss 0.0538\n",
      "Training Accuracy: 0.9481, Testing Accuracy: 0.9556\n",
      "\n"
     ]
    },
    {
     "name": "stdout",
     "output_type": "stream",
     "text": [
      "Epoch 70, Loss 0.0511\n",
      "Training Accuracy: 0.9498, Testing Accuracy: 0.9561\n",
      "\n"
     ]
    },
    {
     "name": "stdout",
     "output_type": "stream",
     "text": [
      "Epoch 80, Loss 0.049\n",
      "Training Accuracy: 0.9512, Testing Accuracy: 0.9577\n",
      "\n"
     ]
    },
    {
     "name": "stdout",
     "output_type": "stream",
     "text": [
      "Epoch 90, Loss 0.0473\n",
      "Training Accuracy: 0.9523, Testing Accuracy: 0.9592\n",
      "\n"
     ]
    },
    {
     "name": "stdout",
     "output_type": "stream",
     "text": [
      "Epoch 100, Loss 0.0458\n",
      "Training Accuracy: 0.9538, Testing Accuracy: 0.9617\n",
      "\n"
     ]
    },
    {
     "name": "stdout",
     "output_type": "stream",
     "text": [
      "Epoch 110, Loss 0.0446\n",
      "Training Accuracy: 0.9558, Testing Accuracy: 0.9622\n",
      "\n"
     ]
    },
    {
     "name": "stdout",
     "output_type": "stream",
     "text": [
      "Epoch 120, Loss 0.0435\n",
      "Training Accuracy: 0.9562, Testing Accuracy: 0.9627\n",
      "\n"
     ]
    },
    {
     "name": "stdout",
     "output_type": "stream",
     "text": [
      "Epoch 130, Loss 0.0426\n",
      "Training Accuracy: 0.9572, Testing Accuracy: 0.9647\n",
      "\n"
     ]
    },
    {
     "name": "stdout",
     "output_type": "stream",
     "text": [
      "Epoch 140, Loss 0.0418\n",
      "Training Accuracy: 0.9579, Testing Accuracy: 0.9652\n",
      "\n"
     ]
    },
    {
     "name": "stdout",
     "output_type": "stream",
     "text": [
      "Epoch 150, Loss 0.041\n",
      "Training Accuracy: 0.9584, Testing Accuracy: 0.9647\n",
      "\n"
     ]
    },
    {
     "name": "stdout",
     "output_type": "stream",
     "text": [
      "Epoch 160, Loss 0.0403\n",
      "Training Accuracy: 0.9593, Testing Accuracy: 0.9652\n",
      "\n"
     ]
    },
    {
     "name": "stdout",
     "output_type": "stream",
     "text": [
      "Epoch 170, Loss 0.0397\n",
      "Training Accuracy: 0.9597, Testing Accuracy: 0.9652\n",
      "\n"
     ]
    },
    {
     "name": "stdout",
     "output_type": "stream",
     "text": [
      "Epoch 180, Loss 0.0392\n",
      "Training Accuracy: 0.9599, Testing Accuracy: 0.9657\n",
      "\n"
     ]
    },
    {
     "name": "stdout",
     "output_type": "stream",
     "text": [
      "Epoch 190, Loss 0.0387\n",
      "Training Accuracy: 0.9606, Testing Accuracy: 0.9662\n",
      "\n"
     ]
    },
    {
     "name": "stdout",
     "output_type": "stream",
     "text": [
      "Epoch 200, Loss 0.0382\n",
      "Training Accuracy: 0.9609, Testing Accuracy: 0.9662\n",
      "\n"
     ]
    },
    {
     "name": "stdout",
     "output_type": "stream",
     "text": [
      "Epoch 210, Loss 0.0377\n",
      "Training Accuracy: 0.9611, Testing Accuracy: 0.9667\n",
      "\n"
     ]
    },
    {
     "name": "stdout",
     "output_type": "stream",
     "text": [
      "Epoch 220, Loss 0.0373\n",
      "Training Accuracy: 0.9614, Testing Accuracy: 0.9667\n",
      "\n"
     ]
    },
    {
     "name": "stdout",
     "output_type": "stream",
     "text": [
      "Epoch 230, Loss 0.0369\n",
      "Training Accuracy: 0.9614, Testing Accuracy: 0.9662\n",
      "\n"
     ]
    },
    {
     "name": "stdout",
     "output_type": "stream",
     "text": [
      "Epoch 240, Loss 0.0366\n",
      "Training Accuracy: 0.9615, Testing Accuracy: 0.9662\n",
      "\n"
     ]
    },
    {
     "data": {
      "text/plain": [
       "0.03780642484137996"
      ]
     },
     "execution_count": 23,
     "metadata": {},
     "output_type": "execute_result"
    }
   ],
   "source": [
    "lr_learner.train_loop(dl)"
   ]
  },
  {
   "cell_type": "code",
   "execution_count": 24,
   "id": "ca410940",
   "metadata": {
    "execution": {
     "iopub.execute_input": "2022-09-20T10:14:13.304558Z",
     "iopub.status.busy": "2022-09-20T10:14:13.303975Z",
     "iopub.status.idle": "2022-09-20T10:14:13.533816Z",
     "shell.execute_reply": "2022-09-20T10:14:13.533349Z"
    },
    "papermill": {
     "duration": 0.279032,
     "end_time": "2022-09-20T10:14:13.533931",
     "exception": false,
     "start_time": "2022-09-20T10:14:13.254899",
     "status": "completed"
    },
    "tags": []
   },
   "outputs": [
    {
     "data": {
      "text/plain": [
       "<matplotlib.legend.Legend at 0x7f4502ddc2e8>"
      ]
     },
     "execution_count": 24,
     "metadata": {},
     "output_type": "execute_result"
    },
    {
     "data": {
      "image/png": "[encoded data removed]",
      "text/plain": [
       "<Figure size 1080x720 with 1 Axes>"
      ]
     },
     "metadata": {
      "needs_background": "light"
     },
     "output_type": "display_data"
    }
   ],
   "source": [
    "#comparing the results of NN and LR\n",
    "plt.figure(figsize=(15,10))\n",
    "\n",
    "# Neural Network plots\n",
    "plt.plot(acc_nn.accuracies, 'r-', label = \"Training Accuracies - NN\")\n",
    "plt.plot(acc_nn.test_accuracies, 'g-', label = \"Testing Accuracies - NN\")\n",
    "\n",
    "# Logistic Regression plots\n",
    "plt.plot(acc_lr.accuracies, 'k-', label = \"Training Accuracies - LR\")\n",
    "plt.plot(acc_lr.test_accuracies, 'b-', label = \"Testing Accuracies - LR\")\n",
    "plt.legend()"
   ]
  },
  {
   "cell_type": "markdown",
   "id": "80dfb35c",
   "metadata": {
    "papermill": {
     "duration": 0.044251,
     "end_time": "2022-09-20T10:14:13.622559",
     "exception": false,
     "start_time": "2022-09-20T10:14:13.578308",
     "status": "completed"
    },
    "tags": []
   },
   "source": [
    "#### Plotting the outputs of this layer of the NN.\n"
   ]
  },
  {
   "cell_type": "code",
   "execution_count": 25,
   "id": "45eb2ff5",
   "metadata": {
    "execution": {
     "iopub.execute_input": "2022-09-20T10:14:13.716960Z",
     "iopub.status.busy": "2022-09-20T10:14:13.715495Z",
     "iopub.status.idle": "2022-09-20T10:14:13.751654Z",
     "shell.execute_reply": "2022-09-20T10:14:13.751184Z"
    },
    "papermill": {
     "duration": 0.085082,
     "end_time": "2022-09-20T10:14:13.751767",
     "exception": false,
     "start_time": "2022-09-20T10:14:13.666685",
     "status": "completed"
    },
    "tags": []
   },
   "outputs": [],
   "source": [
    "new_model = Model(layers[:-2])\n",
    "testing_plot = new_model(testing_data_x)"
   ]
  },
  {
   "cell_type": "code",
   "execution_count": 26,
   "id": "4c0a5485",
   "metadata": {
    "execution": {
     "iopub.execute_input": "2022-09-20T10:14:13.848265Z",
     "iopub.status.busy": "2022-09-20T10:14:13.845985Z",
     "iopub.status.idle": "2022-09-20T10:14:14.068493Z",
     "shell.execute_reply": "2022-09-20T10:14:14.068006Z"
    },
    "papermill": {
     "duration": 0.272213,
     "end_time": "2022-09-20T10:14:14.068602",
     "exception": false,
     "start_time": "2022-09-20T10:14:13.796389",
     "status": "completed"
    },
    "tags": []
   },
   "outputs": [
    {
     "data": {
      "text/plain": [
       "Text(0.5, 1.0, 'Outputs')"
      ]
     },
     "execution_count": 26,
     "metadata": {},
     "output_type": "execute_result"
    },
    {
     "data": {
      "image/png": "[encoded data removed]",
      "text/plain": [
       "<Figure size 576x504 with 1 Axes>"
      ]
     },
     "metadata": {
      "needs_background": "light"
     },
     "output_type": "display_data"
    }
   ],
   "source": [
    "# Plotting the scatter plot of points and color coding by class\n",
    "plt.figure(figsize=(8,7))\n",
    "plt.scatter(testing_plot[:,0], testing_plot[:,1], alpha = 0.1, c = y_test.ravel());\n",
    "plt.title('Outputs')"
   ]
  },
  {
   "cell_type": "markdown",
   "id": "a74fcf8f",
   "metadata": {
    "papermill": {
     "duration": 0.047142,
     "end_time": "2022-09-20T10:14:14.185491",
     "exception": false,
     "start_time": "2022-09-20T10:14:14.138349",
     "status": "completed"
    },
    "tags": []
   },
   "source": [
    "Probability contours"
   ]
  },
  {
   "cell_type": "code",
   "execution_count": 27,
   "id": "d0afc8e3",
   "metadata": {
    "execution": {
     "iopub.execute_input": "2022-09-20T10:14:14.287877Z",
     "iopub.status.busy": "2022-09-20T10:14:14.287306Z",
     "iopub.status.idle": "2022-09-20T10:14:14.294670Z",
     "shell.execute_reply": "2022-09-20T10:14:14.294182Z"
    },
    "papermill": {
     "duration": 0.062088,
     "end_time": "2022-09-20T10:14:14.294775",
     "exception": false,
     "start_time": "2022-09-20T10:14:14.232687",
     "status": "completed"
    },
    "tags": []
   },
   "outputs": [],
   "source": [
    "model_prob = Model(layers[-2:]) "
   ]
  },
  {
   "cell_type": "code",
   "execution_count": 28,
   "id": "9b96e238",
   "metadata": {
    "execution": {
     "iopub.execute_input": "2022-09-20T10:14:14.393822Z",
     "iopub.status.busy": "2022-09-20T10:14:14.393251Z",
     "iopub.status.idle": "2022-09-20T10:14:14.406177Z",
     "shell.execute_reply": "2022-09-20T10:14:14.406656Z"
    },
    "papermill": {
     "duration": 0.064647,
     "end_time": "2022-09-20T10:14:14.406792",
     "exception": false,
     "start_time": "2022-09-20T10:14:14.342145",
     "status": "completed"
    },
    "tags": []
   },
   "outputs": [],
   "source": [
    "#creating the x and y ranges according to the above generated plot.\n",
    "x_range = np.linspace(-4, 1, 100) \n",
    "y_range = np.linspace(-6, 6, 100) \n",
    "x_grid, y_grid = np.meshgrid(x_range, y_range) # x_grid and y_grig are of size 100 X 100\n",
    "\n",
    "# converting x_grid and y_grid to continuous arrays\n",
    "x_gridflat = np.ravel(x_grid)\n",
    "y_gridflat = np.ravel(y_grid)\n",
    "\n",
    "# The last layer of the current model takes two columns as input. Hence transpose of np.vstack() is required.\n",
    "X = np.vstack((x_gridflat, y_gridflat)).T\n",
    "\n",
    "prob_contour = model_prob(X).reshape(100,100) "
   ]
  },
  {
   "cell_type": "code",
   "execution_count": 29,
   "id": "da72499a",
   "metadata": {
    "execution": {
     "iopub.execute_input": "2022-09-20T10:14:14.505833Z",
     "iopub.status.busy": "2022-09-20T10:14:14.505273Z",
     "iopub.status.idle": "2022-09-20T10:14:14.761828Z",
     "shell.execute_reply": "2022-09-20T10:14:14.761089Z"
    },
    "papermill": {
     "duration": 0.307711,
     "end_time": "2022-09-20T10:14:14.761945",
     "exception": false,
     "start_time": "2022-09-20T10:14:14.454234",
     "status": "completed"
    },
    "tags": []
   },
   "outputs": [
    {
     "data": {
      "image/png": "[encoded data removed]",
      "text/plain": [
       "<Figure size 720x648 with 1 Axes>"
      ]
     },
     "metadata": {
      "needs_background": "light"
     },
     "output_type": "display_data"
    }
   ],
   "source": [
    "plt.figure(figsize=(10,9))\n",
    "plt.scatter(testing_plot[:,0], testing_plot[:,1], alpha = 0.1, c = y_test.ravel())\n",
    "contours = plt.contour(x_grid,y_grid,prob_contour)\n",
    "plt.title('Probability Contours')\n",
    "plt.clabel(contours, inline = True );"
   ]
  },
  {
   "cell_type": "code",
   "execution_count": null,
   "id": "e81b4ac7",
   "metadata": {
    "papermill": {
     "duration": 0.049302,
     "end_time": "2022-09-20T10:14:14.861072",
     "exception": false,
     "start_time": "2022-09-20T10:14:14.811770",
     "status": "completed"
    },
    "tags": []
   },
   "outputs": [],
   "source": []
  }
 ],
 "metadata": {
  "kernelspec": {
   "display_name": "Python 3",
   "language": "python",
   "name": "python3"
  },
  "language_info": {
   "codemirror_mode": {
    "name": "ipython",
    "version": 3
   },
   "file_extension": ".py",
   "mimetype": "text/x-python",
   "name": "python",
   "nbconvert_exporter": "python",
   "pygments_lexer": "ipython3",
   "version": "3.6.15"
  },
  "papermill": {
   "default_parameters": {},
   "duration": 196.578162,
   "end_time": "2022-09-20T10:14:15.228369",
   "environment_variables": {},
   "exception": null,
   "input_path": "2020-08-11-part2.ipynb",
   "output_path": "2020-08-11-part2.ipynb",
   "parameters": {},
   "start_time": "2022-09-20T10:10:58.650207",
   "version": "2.3.3"
  }
 },
 "nbformat": 4,
 "nbformat_minor": 5
}