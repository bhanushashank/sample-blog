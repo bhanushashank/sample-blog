{
 "cells": [
  {
   "cell_type": "markdown",
   "id": "98380cd3",
   "metadata": {
    "papermill": {
     "duration": 0.026171,
     "end_time": "2021-09-01T00:19:37.432940",
     "exception": false,
     "start_time": "2021-09-01T00:19:37.406769",
     "status": "completed"
    },
    "tags": []
   },
   "source": [
    "# Distinguish Your Own Digits (DYOD)"
   ]
  },
  {
   "cell_type": "markdown",
   "id": "ef31240d",
   "metadata": {
    "papermill": {
     "duration": 0.020589,
     "end_time": "2021-09-01T00:19:37.475088",
     "exception": false,
     "start_time": "2021-09-01T00:19:37.454499",
     "status": "completed"
    },
    "tags": []
   },
   "source": [
    "You are going to write a classifier that distinguishes between the number 3 and number 8."
   ]
  },
  {
   "cell_type": "code",
   "execution_count": 1,
   "id": "b15c8646",
   "metadata": {
    "execution": {
     "iopub.execute_input": "2021-09-01T00:19:37.526703Z",
     "iopub.status.busy": "2021-09-01T00:19:37.526234Z",
     "iopub.status.idle": "2021-09-01T00:19:37.536674Z",
     "shell.execute_reply": "2021-09-01T00:19:37.536303Z"
    },
    "papermill": {
     "duration": 0.041021,
     "end_time": "2021-09-01T00:19:37.536791",
     "exception": false,
     "start_time": "2021-09-01T00:19:37.495770",
     "status": "completed"
    },
    "tags": []
   },
   "outputs": [],
   "source": [
    "%load_ext autoreload\n",
    "%autoreload 2"
   ]
  },
  {
   "cell_type": "code",
   "execution_count": 2,
   "id": "22ef38dc",
   "metadata": {
    "execution": {
     "iopub.execute_input": "2021-09-01T00:19:37.592116Z",
     "iopub.status.busy": "2021-09-01T00:19:37.591659Z",
     "iopub.status.idle": "2021-09-01T00:19:38.094089Z",
     "shell.execute_reply": "2021-09-01T00:19:38.094574Z"
    },
    "papermill": {
     "duration": 0.536872,
     "end_time": "2021-09-01T00:19:38.094759",
     "exception": false,
     "start_time": "2021-09-01T00:19:37.557887",
     "status": "completed"
    },
    "tags": []
   },
   "outputs": [],
   "source": [
    "%matplotlib inline\n",
    "import numpy as np\n",
    "import matplotlib.pyplot as plt\n",
    "import pandas as pd"
   ]
  },
  {
   "cell_type": "markdown",
   "id": "ba036198",
   "metadata": {
    "papermill": {
     "duration": 0.021831,
     "end_time": "2021-09-01T00:19:38.137544",
     "exception": false,
     "start_time": "2021-09-01T00:19:38.115713",
     "status": "completed"
    },
    "tags": []
   },
   "source": [
    "From the command line run `pip install mnist`. This is a library that will help you bring down the mnist dataset. If you run this from a notebook, you need to put  `!pip install mnist` in a cell by itself."
   ]
  },
  {
   "cell_type": "code",
   "execution_count": 3,
   "id": "bb6ad8a1",
   "metadata": {
    "execution": {
     "iopub.execute_input": "2021-09-01T00:19:38.200314Z",
     "iopub.status.busy": "2021-09-01T00:19:38.194410Z",
     "iopub.status.idle": "2021-09-01T00:19:40.645016Z",
     "shell.execute_reply": "2021-09-01T00:19:40.644471Z"
    },
    "papermill": {
     "duration": 2.486766,
     "end_time": "2021-09-01T00:19:40.645169",
     "exception": false,
     "start_time": "2021-09-01T00:19:38.158403",
     "status": "completed"
    },
    "tags": []
   },
   "outputs": [
    {
     "name": "stdout",
     "output_type": "stream",
     "text": [
      "Collecting mnist\r\n"
     ]
    },
    {
     "name": "stdout",
     "output_type": "stream",
     "text": [
      "  Downloading mnist-0.2.2-py2.py3-none-any.whl (3.5 kB)\r\n",
      "Requirement already satisfied: numpy in /opt/hostedtoolcache/Python/3.6.14/x64/lib/python3.6/site-packages (from mnist) (1.19.5)\r\n"
     ]
    },
    {
     "name": "stdout",
     "output_type": "stream",
     "text": [
      "Installing collected packages: mnist\r\n"
     ]
    },
    {
     "name": "stdout",
     "output_type": "stream",
     "text": [
      "Successfully installed mnist-0.2.2\r\n"
     ]
    }
   ],
   "source": [
    "!pip install mnist"
   ]
  },
  {
   "cell_type": "markdown",
   "id": "69df9c9a",
   "metadata": {
    "papermill": {
     "duration": 0.024536,
     "end_time": "2021-09-01T00:19:40.695389",
     "exception": false,
     "start_time": "2021-09-01T00:19:40.670853",
     "status": "completed"
    },
    "tags": []
   },
   "source": [
    "## Preparing the Data"
   ]
  },
  {
   "cell_type": "code",
   "execution_count": 4,
   "id": "7f69d806",
   "metadata": {
    "execution": {
     "iopub.execute_input": "2021-09-01T00:19:40.747881Z",
     "iopub.status.busy": "2021-09-01T00:19:40.747381Z",
     "iopub.status.idle": "2021-09-01T00:19:40.760355Z",
     "shell.execute_reply": "2021-09-01T00:19:40.760734Z"
    },
    "papermill": {
     "duration": 0.041107,
     "end_time": "2021-09-01T00:19:40.760858",
     "exception": false,
     "start_time": "2021-09-01T00:19:40.719751",
     "status": "completed"
    },
    "tags": []
   },
   "outputs": [],
   "source": [
    "import mnist"
   ]
  },
  {
   "cell_type": "code",
   "execution_count": 5,
   "id": "a411e44f",
   "metadata": {
    "execution": {
     "iopub.execute_input": "2021-09-01T00:19:40.813980Z",
     "iopub.status.busy": "2021-09-01T00:19:40.813460Z",
     "iopub.status.idle": "2021-09-01T00:19:41.323938Z",
     "shell.execute_reply": "2021-09-01T00:19:41.323472Z"
    },
    "papermill": {
     "duration": 0.538727,
     "end_time": "2021-09-01T00:19:41.324062",
     "exception": false,
     "start_time": "2021-09-01T00:19:40.785335",
     "status": "completed"
    },
    "tags": []
   },
   "outputs": [],
   "source": [
    "train_images = mnist.train_images()\n",
    "train_labels = mnist.train_labels()"
   ]
  },
  {
   "cell_type": "code",
   "execution_count": 6,
   "id": "dceab3a5",
   "metadata": {
    "execution": {
     "iopub.execute_input": "2021-09-01T00:19:41.385718Z",
     "iopub.status.busy": "2021-09-01T00:19:41.384883Z",
     "iopub.status.idle": "2021-09-01T00:19:41.394795Z",
     "shell.execute_reply": "2021-09-01T00:19:41.395200Z"
    },
    "papermill": {
     "duration": 0.046379,
     "end_time": "2021-09-01T00:19:41.395327",
     "exception": false,
     "start_time": "2021-09-01T00:19:41.348948",
     "status": "completed"
    },
    "tags": []
   },
   "outputs": [
    {
     "data": {
      "text/plain": [
       "((60000, 28, 28), (60000,))"
      ]
     },
     "execution_count": 6,
     "metadata": {},
     "output_type": "execute_result"
    }
   ],
   "source": [
    "train_images.shape, train_labels.shape"
   ]
  },
  {
   "cell_type": "code",
   "execution_count": 7,
   "id": "f50dc2bb",
   "metadata": {
    "execution": {
     "iopub.execute_input": "2021-09-01T00:19:41.456951Z",
     "iopub.status.busy": "2021-09-01T00:19:41.456462Z",
     "iopub.status.idle": "2021-09-01T00:19:41.592279Z",
     "shell.execute_reply": "2021-09-01T00:19:41.591849Z"
    },
    "papermill": {
     "duration": 0.172415,
     "end_time": "2021-09-01T00:19:41.592391",
     "exception": false,
     "start_time": "2021-09-01T00:19:41.419976",
     "status": "completed"
    },
    "tags": []
   },
   "outputs": [],
   "source": [
    "test_images = mnist.test_images()\n",
    "test_labels = mnist.test_labels()"
   ]
  },
  {
   "cell_type": "code",
   "execution_count": 8,
   "id": "fc38cf1b",
   "metadata": {
    "execution": {
     "iopub.execute_input": "2021-09-01T00:19:41.649472Z",
     "iopub.status.busy": "2021-09-01T00:19:41.641282Z",
     "iopub.status.idle": "2021-09-01T00:19:41.651888Z",
     "shell.execute_reply": "2021-09-01T00:19:41.652246Z"
    },
    "papermill": {
     "duration": 0.037721,
     "end_time": "2021-09-01T00:19:41.652358",
     "exception": false,
     "start_time": "2021-09-01T00:19:41.614637",
     "status": "completed"
    },
    "tags": []
   },
   "outputs": [
    {
     "data": {
      "text/plain": [
       "((10000, 28, 28), (10000,))"
      ]
     },
     "execution_count": 8,
     "metadata": {},
     "output_type": "execute_result"
    }
   ],
   "source": [
    "test_images.shape, test_labels.shape"
   ]
  },
  {
   "cell_type": "code",
   "execution_count": 9,
   "id": "f9ed8fe0",
   "metadata": {
    "execution": {
     "iopub.execute_input": "2021-09-01T00:19:41.704441Z",
     "iopub.status.busy": "2021-09-01T00:19:41.703995Z",
     "iopub.status.idle": "2021-09-01T00:19:41.837615Z",
     "shell.execute_reply": "2021-09-01T00:19:41.837184Z"
    },
    "papermill": {
     "duration": 0.163295,
     "end_time": "2021-09-01T00:19:41.837735",
     "exception": false,
     "start_time": "2021-09-01T00:19:41.674440",
     "status": "completed"
    },
    "tags": []
   },
   "outputs": [
    {
     "name": "stdout",
     "output_type": "stream",
     "text": [
      "2\n"
     ]
    },
    {
     "data": {
      "text/plain": [
       "<matplotlib.image.AxesImage at 0x7f35dec5db70>"
      ]
     },
     "execution_count": 9,
     "metadata": {},
     "output_type": "execute_result"
    },
    {
     "data": {
      "image/png": "[encoded data removed]",
      "text/plain": [
       "<Figure size 432x288 with 1 Axes>"
      ]
     },
     "metadata": {
      "needs_background": "light"
     },
     "output_type": "display_data"
    }
   ],
   "source": [
    "image_index = 7776 # You may select anything up to 60,000\n",
    "print(train_labels[image_index]) \n",
    "plt.imshow(train_images[image_index], cmap='Greys')"
   ]
  },
  {
   "cell_type": "markdown",
   "id": "a8d2388d",
   "metadata": {
    "papermill": {
     "duration": 0.025947,
     "end_time": "2021-09-01T00:19:41.889984",
     "exception": false,
     "start_time": "2021-09-01T00:19:41.864037",
     "status": "completed"
    },
    "tags": []
   },
   "source": [
    "## Filter data to get 3 and 8 out"
   ]
  },
  {
   "cell_type": "code",
   "execution_count": 10,
   "id": "776f7fc7",
   "metadata": {
    "execution": {
     "iopub.execute_input": "2021-09-01T00:19:41.950181Z",
     "iopub.status.busy": "2021-09-01T00:19:41.945345Z",
     "iopub.status.idle": "2021-09-01T00:19:41.963478Z",
     "shell.execute_reply": "2021-09-01T00:19:41.963838Z"
    },
    "papermill": {
     "duration": 0.047965,
     "end_time": "2021-09-01T00:19:41.963972",
     "exception": false,
     "start_time": "2021-09-01T00:19:41.916007",
     "status": "completed"
    },
    "tags": []
   },
   "outputs": [],
   "source": [
    "train_filter = np.where((train_labels == 3 ) | (train_labels == 8))\n",
    "test_filter = np.where((test_labels == 3) | (test_labels == 8))\n",
    "X_train, y_train = train_images[train_filter], train_labels[train_filter]\n",
    "X_test, y_test = test_images[test_filter], test_labels[test_filter]"
   ]
  },
  {
   "cell_type": "markdown",
   "id": "948f0b7e",
   "metadata": {
    "papermill": {
     "duration": 0.02301,
     "end_time": "2021-09-01T00:19:42.010222",
     "exception": false,
     "start_time": "2021-09-01T00:19:41.987212",
     "status": "completed"
    },
    "tags": []
   },
   "source": [
    "We normalize the pizel values in the 0 to 1 range"
   ]
  },
  {
   "cell_type": "code",
   "execution_count": 11,
   "id": "ee4c2166",
   "metadata": {
    "execution": {
     "iopub.execute_input": "2021-09-01T00:19:42.059032Z",
     "iopub.status.busy": "2021-09-01T00:19:42.058551Z",
     "iopub.status.idle": "2021-09-01T00:19:42.107516Z",
     "shell.execute_reply": "2021-09-01T00:19:42.107005Z"
    },
    "papermill": {
     "duration": 0.074634,
     "end_time": "2021-09-01T00:19:42.107655",
     "exception": false,
     "start_time": "2021-09-01T00:19:42.033021",
     "status": "completed"
    },
    "tags": []
   },
   "outputs": [],
   "source": [
    "X_train = X_train/255.\n",
    "X_test = X_test/255."
   ]
  },
  {
   "cell_type": "markdown",
   "id": "ddcf4fab",
   "metadata": {
    "papermill": {
     "duration": 0.023099,
     "end_time": "2021-09-01T00:19:42.155912",
     "exception": false,
     "start_time": "2021-09-01T00:19:42.132813",
     "status": "completed"
    },
    "tags": []
   },
   "source": [
    "And setup the labels as 1 (when the digit is 3) and 0 (when the digit is 8)"
   ]
  },
  {
   "cell_type": "code",
   "execution_count": 12,
   "id": "7dc908f2",
   "metadata": {
    "execution": {
     "iopub.execute_input": "2021-09-01T00:19:42.206439Z",
     "iopub.status.busy": "2021-09-01T00:19:42.205978Z",
     "iopub.status.idle": "2021-09-01T00:19:42.216557Z",
     "shell.execute_reply": "2021-09-01T00:19:42.216916Z"
    },
    "papermill": {
     "duration": 0.038168,
     "end_time": "2021-09-01T00:19:42.217028",
     "exception": false,
     "start_time": "2021-09-01T00:19:42.178860",
     "status": "completed"
    },
    "tags": []
   },
   "outputs": [],
   "source": [
    "y_train = 1*(y_train==3)\n",
    "y_test = 1*(y_test==3)"
   ]
  },
  {
   "cell_type": "code",
   "execution_count": 13,
   "id": "01e4e969",
   "metadata": {
    "execution": {
     "iopub.execute_input": "2021-09-01T00:19:42.265679Z",
     "iopub.status.busy": "2021-09-01T00:19:42.265222Z",
     "iopub.status.idle": "2021-09-01T00:19:42.277959Z",
     "shell.execute_reply": "2021-09-01T00:19:42.277601Z"
    },
    "papermill": {
     "duration": 0.038121,
     "end_time": "2021-09-01T00:19:42.278058",
     "exception": false,
     "start_time": "2021-09-01T00:19:42.239937",
     "status": "completed"
    },
    "tags": []
   },
   "outputs": [
    {
     "data": {
      "text/plain": [
       "((11982, 28, 28), (1984, 28, 28))"
      ]
     },
     "execution_count": 13,
     "metadata": {},
     "output_type": "execute_result"
    }
   ],
   "source": [
    "X_train.shape, X_test.shape"
   ]
  },
  {
   "cell_type": "markdown",
   "id": "5ccf3f85",
   "metadata": {
    "papermill": {
     "duration": 0.022963,
     "end_time": "2021-09-01T00:19:42.324140",
     "exception": false,
     "start_time": "2021-09-01T00:19:42.301177",
     "status": "completed"
    },
    "tags": []
   },
   "source": [
    "We reshape the data to flatten the image pixels into a set of features or co-variates:"
   ]
  },
  {
   "cell_type": "code",
   "execution_count": 14,
   "id": "5286a4a3",
   "metadata": {
    "execution": {
     "iopub.execute_input": "2021-09-01T00:19:42.374128Z",
     "iopub.status.busy": "2021-09-01T00:19:42.373685Z",
     "iopub.status.idle": "2021-09-01T00:19:42.386654Z",
     "shell.execute_reply": "2021-09-01T00:19:42.387033Z"
    },
    "papermill": {
     "duration": 0.039765,
     "end_time": "2021-09-01T00:19:42.387137",
     "exception": false,
     "start_time": "2021-09-01T00:19:42.347372",
     "status": "completed"
    },
    "tags": []
   },
   "outputs": [
    {
     "data": {
      "text/plain": [
       "((11982, 784), (1984, 784))"
      ]
     },
     "execution_count": 14,
     "metadata": {},
     "output_type": "execute_result"
    }
   ],
   "source": [
    "X_train = X_train.reshape(X_train.shape[0], -1)\n",
    "X_test = X_test.reshape(X_test.shape[0], -1)\n",
    "X_train.shape, X_test.shape"
   ]
  },
  {
   "cell_type": "code",
   "execution_count": 15,
   "id": "73c5f88a",
   "metadata": {
    "execution": {
     "iopub.execute_input": "2021-09-01T00:19:42.439243Z",
     "iopub.status.busy": "2021-09-01T00:19:42.438792Z",
     "iopub.status.idle": "2021-09-01T00:19:42.456663Z",
     "shell.execute_reply": "2021-09-01T00:19:42.456277Z"
    },
    "papermill": {
     "duration": 0.046336,
     "end_time": "2021-09-01T00:19:42.456763",
     "exception": false,
     "start_time": "2021-09-01T00:19:42.410427",
     "status": "completed"
    },
    "tags": []
   },
   "outputs": [],
   "source": [
    "#Impoting functions from 'Kudzu'\n",
    "from kudzu.model import Model\n",
    "from kudzu.train import Learner\n",
    "from kudzu.optim import GD\n",
    "from kudzu.data import Data, Sampler,Dataloader\n",
    "\n",
    "from kudzu.callbacks import AccCallback\n",
    "from kudzu.callbacks import ClfCallback\n",
    "\n",
    "from kudzu.loss import MSE\n",
    "\n",
    "from kudzu.layer import Sigmoid,Relu\n",
    "from kudzu.layer import Affine"
   ]
  },
  {
   "cell_type": "markdown",
   "id": "bc01172a",
   "metadata": {
    "papermill": {
     "duration": 0.0235,
     "end_time": "2021-09-01T00:19:42.504201",
     "exception": false,
     "start_time": "2021-09-01T00:19:42.480701",
     "status": "completed"
    },
    "tags": []
   },
   "source": [
    "### Let us create a `Config` class, to store important parameters. \n",
    "This class essentially plays the role of a dictionary."
   ]
  },
  {
   "cell_type": "code",
   "execution_count": 16,
   "id": "978281aa",
   "metadata": {
    "execution": {
     "iopub.execute_input": "2021-09-01T00:19:42.554517Z",
     "iopub.status.busy": "2021-09-01T00:19:42.554059Z",
     "iopub.status.idle": "2021-09-01T00:19:42.566168Z",
     "shell.execute_reply": "2021-09-01T00:19:42.565367Z"
    },
    "papermill": {
     "duration": 0.038615,
     "end_time": "2021-09-01T00:19:42.566269",
     "exception": false,
     "start_time": "2021-09-01T00:19:42.527654",
     "status": "completed"
    },
    "tags": []
   },
   "outputs": [],
   "source": [
    "class Config:\n",
    "    pass\n",
    "config = Config()\n",
    "config.lr = 0.001\n",
    "config.num_epochs = 250\n",
    "config.bs = 50"
   ]
  },
  {
   "cell_type": "markdown",
   "id": "1385fa59",
   "metadata": {
    "papermill": {
     "duration": 0.023782,
     "end_time": "2021-09-01T00:19:42.613155",
     "exception": false,
     "start_time": "2021-09-01T00:19:42.589373",
     "status": "completed"
    },
    "tags": []
   },
   "source": [
    "### Running Models with the Training data\n",
    "Details about the network layers:\n",
    "- A first affine layer has 784 inputs and does 100 affine transforms. These are followed by a Relu\n",
    "- A second affine layer has 100 inputs from the 100 activations of the past layer, and does 100 affine transforms. These are followed by a Relu\n",
    "- A third affine layer has 100 activations and does 2 affine transformations to create an embedding for visualization. There is no non-linearity here.\n",
    "- A final \"logistic regression\" which has an affine transform from 2 inputs to 1 output, which is squeezed through a sigmoid.\n"
   ]
  },
  {
   "cell_type": "code",
   "execution_count": 17,
   "id": "2b9c66db",
   "metadata": {
    "execution": {
     "iopub.execute_input": "2021-09-01T00:19:42.666125Z",
     "iopub.status.busy": "2021-09-01T00:19:42.662885Z",
     "iopub.status.idle": "2021-09-01T00:19:42.673860Z",
     "shell.execute_reply": "2021-09-01T00:19:42.673451Z"
    },
    "papermill": {
     "duration": 0.037654,
     "end_time": "2021-09-01T00:19:42.673965",
     "exception": false,
     "start_time": "2021-09-01T00:19:42.636311",
     "status": "completed"
    },
    "tags": []
   },
   "outputs": [],
   "source": [
    "data = Data(X_train, y_train.reshape(-1,1))\n",
    "sampler = Sampler(data, config.bs, shuffle=True)\n",
    "\n",
    "dl = Dataloader(data, sampler)\n",
    "\n",
    "opt = GD(config.lr)\n",
    "loss = MSE()"
   ]
  },
  {
   "cell_type": "code",
   "execution_count": 18,
   "id": "b275e4c2",
   "metadata": {
    "execution": {
     "iopub.execute_input": "2021-09-01T00:19:42.729861Z",
     "iopub.status.busy": "2021-09-01T00:19:42.729350Z",
     "iopub.status.idle": "2021-09-01T00:19:42.741814Z",
     "shell.execute_reply": "2021-09-01T00:19:42.741410Z"
    },
    "papermill": {
     "duration": 0.041596,
     "end_time": "2021-09-01T00:19:42.741920",
     "exception": false,
     "start_time": "2021-09-01T00:19:42.700324",
     "status": "completed"
    },
    "tags": []
   },
   "outputs": [],
   "source": [
    "training_data_x = X_train\n",
    "testing_data_x = X_test\n",
    "training_data_y = y_train.reshape(-1,1)\n",
    "testing_data_y = y_test.reshape(-1,1)"
   ]
  },
  {
   "cell_type": "code",
   "execution_count": 19,
   "id": "76951160",
   "metadata": {
    "execution": {
     "iopub.execute_input": "2021-09-01T00:19:42.799003Z",
     "iopub.status.busy": "2021-09-01T00:19:42.798490Z",
     "iopub.status.idle": "2021-09-01T00:19:42.812663Z",
     "shell.execute_reply": "2021-09-01T00:19:42.812241Z"
    },
    "papermill": {
     "duration": 0.044306,
     "end_time": "2021-09-01T00:19:42.812767",
     "exception": false,
     "start_time": "2021-09-01T00:19:42.768461",
     "status": "completed"
    },
    "tags": []
   },
   "outputs": [
    {
     "name": "stdout",
     "output_type": "stream",
     "text": [
      "xavier\n",
      "xavier\n",
      "xavier\n",
      "xavier\n",
      "xavier\n"
     ]
    }
   ],
   "source": [
    "layers = [Affine(\"first\", 784, 100), Relu(\"first\"), Affine(\"second\", 100, 100), Relu(\"second\"), Affine(\"third\", 100, 2), Affine(\"last\", 2, 1), Sigmoid(\"last\")]\n",
    "model_nn = Model(layers)\n",
    "model_lr = Model([Affine(\"logits\", 784, 1), Sigmoid(\"sigmoid\")])"
   ]
  },
  {
   "cell_type": "code",
   "execution_count": 20,
   "id": "6eede77a",
   "metadata": {
    "execution": {
     "iopub.execute_input": "2021-09-01T00:19:42.869992Z",
     "iopub.status.busy": "2021-09-01T00:19:42.869491Z",
     "iopub.status.idle": "2021-09-01T00:19:42.879763Z",
     "shell.execute_reply": "2021-09-01T00:19:42.880184Z"
    },
    "papermill": {
     "duration": 0.040648,
     "end_time": "2021-09-01T00:19:42.880301",
     "exception": false,
     "start_time": "2021-09-01T00:19:42.839653",
     "status": "completed"
    },
    "tags": []
   },
   "outputs": [],
   "source": [
    "nn_learner = Learner(loss, model_nn, opt, config.num_epochs)\n",
    "acc_nn = ClfCallback(nn_learner, config.bs, training_data_x , testing_data_x, training_data_y, testing_data_y)\n",
    "nn_learner.set_callbacks([acc_nn])"
   ]
  },
  {
   "cell_type": "code",
   "execution_count": 21,
   "id": "877b6cc7",
   "metadata": {
    "execution": {
     "iopub.execute_input": "2021-09-01T00:19:42.941371Z",
     "iopub.status.busy": "2021-09-01T00:19:42.940849Z",
     "iopub.status.idle": "2021-09-01T00:19:42.948980Z",
     "shell.execute_reply": "2021-09-01T00:19:42.949379Z"
    },
    "papermill": {
     "duration": 0.042492,
     "end_time": "2021-09-01T00:19:42.949507",
     "exception": false,
     "start_time": "2021-09-01T00:19:42.907015",
     "status": "completed"
    },
    "tags": []
   },
   "outputs": [],
   "source": [
    "lr_learner = Learner(loss, model_lr, opt, config.num_epochs)\n",
    "acc_lr = ClfCallback(lr_learner, config.bs, training_data_x , testing_data_x, training_data_y, testing_data_y)\n",
    "lr_learner.set_callbacks([acc_lr])"
   ]
  },
  {
   "cell_type": "code",
   "execution_count": 22,
   "id": "d9b133c3",
   "metadata": {
    "execution": {
     "iopub.execute_input": "2021-09-01T00:19:43.007075Z",
     "iopub.status.busy": "2021-09-01T00:19:43.006526Z",
     "iopub.status.idle": "2021-09-01T00:20:58.309401Z",
     "shell.execute_reply": "2021-09-01T00:20:58.310117Z"
    },
    "papermill": {
     "duration": 75.333872,
     "end_time": "2021-09-01T00:20:58.310261",
     "exception": false,
     "start_time": "2021-09-01T00:19:42.976389",
     "status": "completed"
    },
    "tags": []
   },
   "outputs": [
    {
     "name": "stdout",
     "output_type": "stream",
     "text": [
      "Epoch 0, Loss 0.2461\n",
      "Training Accuracy: 0.6348, Testing Accuracy: 0.6295\n",
      "\n"
     ]
    },
    {
     "name": "stdout",
     "output_type": "stream",
     "text": [
      "Epoch 10, Loss 0.0852\n",
      "Training Accuracy: 0.9170, Testing Accuracy: 0.9224\n",
      "\n"
     ]
    },
    {
     "name": "stdout",
     "output_type": "stream",
     "text": [
      "Epoch 20, Loss 0.0538\n",
      "Training Accuracy: 0.9432, Testing Accuracy: 0.9496\n",
      "\n"
     ]
    },
    {
     "name": "stdout",
     "output_type": "stream",
     "text": [
      "Epoch 30, Loss 0.0425\n",
      "Training Accuracy: 0.9528, Testing Accuracy: 0.9587\n",
      "\n"
     ]
    },
    {
     "name": "stdout",
     "output_type": "stream",
     "text": [
      "Epoch 40, Loss 0.0369\n",
      "Training Accuracy: 0.9582, Testing Accuracy: 0.9637\n",
      "\n"
     ]
    },
    {
     "name": "stdout",
     "output_type": "stream",
     "text": [
      "Epoch 50, Loss 0.0335\n",
      "Training Accuracy: 0.9623, Testing Accuracy: 0.9672\n",
      "\n"
     ]
    },
    {
     "name": "stdout",
     "output_type": "stream",
     "text": [
      "Epoch 60, Loss 0.0311\n",
      "Training Accuracy: 0.9640, Testing Accuracy: 0.9693\n",
      "\n"
     ]
    },
    {
     "name": "stdout",
     "output_type": "stream",
     "text": [
      "Epoch 70, Loss 0.0293\n",
      "Training Accuracy: 0.9661, Testing Accuracy: 0.9703\n",
      "\n"
     ]
    },
    {
     "name": "stdout",
     "output_type": "stream",
     "text": [
      "Epoch 80, Loss 0.0279\n",
      "Training Accuracy: 0.9680, Testing Accuracy: 0.9718\n",
      "\n"
     ]
    },
    {
     "name": "stdout",
     "output_type": "stream",
     "text": [
      "Epoch 90, Loss 0.0267\n",
      "Training Accuracy: 0.9694, Testing Accuracy: 0.9718\n",
      "\n"
     ]
    },
    {
     "name": "stdout",
     "output_type": "stream",
     "text": [
      "Epoch 100, Loss 0.0257\n",
      "Training Accuracy: 0.9703, Testing Accuracy: 0.9723\n",
      "\n"
     ]
    },
    {
     "name": "stdout",
     "output_type": "stream",
     "text": [
      "Epoch 110, Loss 0.0248\n",
      "Training Accuracy: 0.9712, Testing Accuracy: 0.9728\n",
      "\n"
     ]
    },
    {
     "name": "stdout",
     "output_type": "stream",
     "text": [
      "Epoch 120, Loss 0.024\n",
      "Training Accuracy: 0.9720, Testing Accuracy: 0.9743\n",
      "\n"
     ]
    },
    {
     "name": "stdout",
     "output_type": "stream",
     "text": [
      "Epoch 130, Loss 0.0233\n",
      "Training Accuracy: 0.9730, Testing Accuracy: 0.9743\n",
      "\n"
     ]
    },
    {
     "name": "stdout",
     "output_type": "stream",
     "text": [
      "Epoch 140, Loss 0.0226\n",
      "Training Accuracy: 0.9739, Testing Accuracy: 0.9743\n",
      "\n"
     ]
    },
    {
     "name": "stdout",
     "output_type": "stream",
     "text": [
      "Epoch 150, Loss 0.0219\n",
      "Training Accuracy: 0.9745, Testing Accuracy: 0.9743\n",
      "\n"
     ]
    },
    {
     "name": "stdout",
     "output_type": "stream",
     "text": [
      "Epoch 160, Loss 0.0214\n",
      "Training Accuracy: 0.9753, Testing Accuracy: 0.9753\n",
      "\n"
     ]
    },
    {
     "name": "stdout",
     "output_type": "stream",
     "text": [
      "Epoch 170, Loss 0.0208\n",
      "Training Accuracy: 0.9759, Testing Accuracy: 0.9748\n",
      "\n"
     ]
    },
    {
     "name": "stdout",
     "output_type": "stream",
     "text": [
      "Epoch 180, Loss 0.0203\n",
      "Training Accuracy: 0.9769, Testing Accuracy: 0.9743\n",
      "\n"
     ]
    },
    {
     "name": "stdout",
     "output_type": "stream",
     "text": [
      "Epoch 190, Loss 0.0198\n",
      "Training Accuracy: 0.9779, Testing Accuracy: 0.9738\n",
      "\n"
     ]
    },
    {
     "name": "stdout",
     "output_type": "stream",
     "text": [
      "Epoch 200, Loss 0.0193\n",
      "Training Accuracy: 0.9791, Testing Accuracy: 0.9743\n",
      "\n"
     ]
    },
    {
     "name": "stdout",
     "output_type": "stream",
     "text": [
      "Epoch 210, Loss 0.0188\n",
      "Training Accuracy: 0.9800, Testing Accuracy: 0.9748\n",
      "\n"
     ]
    },
    {
     "name": "stdout",
     "output_type": "stream",
     "text": [
      "Epoch 220, Loss 0.0184\n",
      "Training Accuracy: 0.9806, Testing Accuracy: 0.9743\n",
      "\n"
     ]
    },
    {
     "name": "stdout",
     "output_type": "stream",
     "text": [
      "Epoch 230, Loss 0.0179\n",
      "Training Accuracy: 0.9810, Testing Accuracy: 0.9748\n",
      "\n"
     ]
    },
    {
     "name": "stdout",
     "output_type": "stream",
     "text": [
      "Epoch 240, Loss 0.0175\n",
      "Training Accuracy: 0.9814, Testing Accuracy: 0.9748\n",
      "\n"
     ]
    },
    {
     "data": {
      "text/plain": [
       "0.0008938577707597547"
      ]
     },
     "execution_count": 22,
     "metadata": {},
     "output_type": "execute_result"
    }
   ],
   "source": [
    "nn_learner.train_loop(dl)"
   ]
  },
  {
   "cell_type": "code",
   "execution_count": 23,
   "id": "e0163366",
   "metadata": {
    "execution": {
     "iopub.execute_input": "2021-09-01T00:20:58.390262Z",
     "iopub.status.busy": "2021-09-01T00:20:58.389755Z",
     "iopub.status.idle": "2021-09-01T00:21:12.140392Z",
     "shell.execute_reply": "2021-09-01T00:21:12.141118Z"
    },
    "papermill": {
     "duration": 13.796911,
     "end_time": "2021-09-01T00:21:12.141264",
     "exception": false,
     "start_time": "2021-09-01T00:20:58.344353",
     "status": "completed"
    },
    "tags": []
   },
   "outputs": [
    {
     "name": "stdout",
     "output_type": "stream",
     "text": [
      "Epoch 0, Loss 0.2159\n",
      "Training Accuracy: 0.7483, Testing Accuracy: 0.7661\n",
      "\n"
     ]
    },
    {
     "name": "stdout",
     "output_type": "stream",
     "text": [
      "Epoch 10, Loss 0.0989\n",
      "Training Accuracy: 0.9168, Testing Accuracy: 0.9284\n",
      "\n"
     ]
    },
    {
     "name": "stdout",
     "output_type": "stream",
     "text": [
      "Epoch 20, Loss 0.0777\n",
      "Training Accuracy: 0.9308, Testing Accuracy: 0.9425\n",
      "\n"
     ]
    },
    {
     "name": "stdout",
     "output_type": "stream",
     "text": [
      "Epoch 30, Loss 0.0674\n",
      "Training Accuracy: 0.9382, Testing Accuracy: 0.9481\n",
      "\n"
     ]
    },
    {
     "name": "stdout",
     "output_type": "stream",
     "text": [
      "Epoch 40, Loss 0.061\n",
      "Training Accuracy: 0.9437, Testing Accuracy: 0.9536\n",
      "\n"
     ]
    },
    {
     "name": "stdout",
     "output_type": "stream",
     "text": [
      "Epoch 50, Loss 0.0566\n",
      "Training Accuracy: 0.9469, Testing Accuracy: 0.9561\n",
      "\n"
     ]
    },
    {
     "name": "stdout",
     "output_type": "stream",
     "text": [
      "Epoch 60, Loss 0.0534\n",
      "Training Accuracy: 0.9493, Testing Accuracy: 0.9567\n",
      "\n"
     ]
    },
    {
     "name": "stdout",
     "output_type": "stream",
     "text": [
      "Epoch 70, Loss 0.0508\n",
      "Training Accuracy: 0.9507, Testing Accuracy: 0.9577\n",
      "\n"
     ]
    },
    {
     "name": "stdout",
     "output_type": "stream",
     "text": [
      "Epoch 80, Loss 0.0488\n",
      "Training Accuracy: 0.9524, Testing Accuracy: 0.9597\n",
      "\n"
     ]
    },
    {
     "name": "stdout",
     "output_type": "stream",
     "text": [
      "Epoch 90, Loss 0.0471\n",
      "Training Accuracy: 0.9539, Testing Accuracy: 0.9617\n",
      "\n"
     ]
    },
    {
     "name": "stdout",
     "output_type": "stream",
     "text": [
      "Epoch 100, Loss 0.0457\n",
      "Training Accuracy: 0.9551, Testing Accuracy: 0.9637\n",
      "\n"
     ]
    },
    {
     "name": "stdout",
     "output_type": "stream",
     "text": [
      "Epoch 110, Loss 0.0445\n",
      "Training Accuracy: 0.9554, Testing Accuracy: 0.9642\n",
      "\n"
     ]
    },
    {
     "name": "stdout",
     "output_type": "stream",
     "text": [
      "Epoch 120, Loss 0.0435\n",
      "Training Accuracy: 0.9562, Testing Accuracy: 0.9642\n",
      "\n"
     ]
    },
    {
     "name": "stdout",
     "output_type": "stream",
     "text": [
      "Epoch 130, Loss 0.0425\n",
      "Training Accuracy: 0.9564, Testing Accuracy: 0.9647\n",
      "\n"
     ]
    },
    {
     "name": "stdout",
     "output_type": "stream",
     "text": [
      "Epoch 140, Loss 0.0417\n",
      "Training Accuracy: 0.9571, Testing Accuracy: 0.9642\n",
      "\n"
     ]
    },
    {
     "name": "stdout",
     "output_type": "stream",
     "text": [
      "Epoch 150, Loss 0.041\n",
      "Training Accuracy: 0.9579, Testing Accuracy: 0.9652\n",
      "\n"
     ]
    },
    {
     "name": "stdout",
     "output_type": "stream",
     "text": [
      "Epoch 160, Loss 0.0403\n",
      "Training Accuracy: 0.9582, Testing Accuracy: 0.9657\n",
      "\n"
     ]
    },
    {
     "name": "stdout",
     "output_type": "stream",
     "text": [
      "Epoch 170, Loss 0.0397\n",
      "Training Accuracy: 0.9587, Testing Accuracy: 0.9662\n",
      "\n"
     ]
    },
    {
     "name": "stdout",
     "output_type": "stream",
     "text": [
      "Epoch 180, Loss 0.0391\n",
      "Training Accuracy: 0.9591, Testing Accuracy: 0.9667\n",
      "\n"
     ]
    },
    {
     "name": "stdout",
     "output_type": "stream",
     "text": [
      "Epoch 190, Loss 0.0386\n",
      "Training Accuracy: 0.9597, Testing Accuracy: 0.9667\n",
      "\n"
     ]
    },
    {
     "name": "stdout",
     "output_type": "stream",
     "text": [
      "Epoch 200, Loss 0.0382\n",
      "Training Accuracy: 0.9598, Testing Accuracy: 0.9672\n",
      "\n"
     ]
    },
    {
     "name": "stdout",
     "output_type": "stream",
     "text": [
      "Epoch 210, Loss 0.0377\n",
      "Training Accuracy: 0.9604, Testing Accuracy: 0.9677\n",
      "\n"
     ]
    },
    {
     "name": "stdout",
     "output_type": "stream",
     "text": [
      "Epoch 220, Loss 0.0373\n",
      "Training Accuracy: 0.9605, Testing Accuracy: 0.9672\n",
      "\n"
     ]
    },
    {
     "name": "stdout",
     "output_type": "stream",
     "text": [
      "Epoch 230, Loss 0.0369\n",
      "Training Accuracy: 0.9610, Testing Accuracy: 0.9672\n",
      "\n"
     ]
    },
    {
     "name": "stdout",
     "output_type": "stream",
     "text": [
      "Epoch 240, Loss 0.0366\n",
      "Training Accuracy: 0.9610, Testing Accuracy: 0.9672\n",
      "\n"
     ]
    },
    {
     "data": {
      "text/plain": [
       "0.036628805836167684"
      ]
     },
     "execution_count": 23,
     "metadata": {},
     "output_type": "execute_result"
    }
   ],
   "source": [
    "lr_learner.train_loop(dl)"
   ]
  },
  {
   "cell_type": "code",
   "execution_count": 24,
   "id": "ca410940",
   "metadata": {
    "execution": {
     "iopub.execute_input": "2021-09-01T00:21:12.234508Z",
     "iopub.status.busy": "2021-09-01T00:21:12.233978Z",
     "iopub.status.idle": "2021-09-01T00:21:12.461768Z",
     "shell.execute_reply": "2021-09-01T00:21:12.462245Z"
    },
    "papermill": {
     "duration": 0.28049,
     "end_time": "2021-09-01T00:21:12.462399",
     "exception": false,
     "start_time": "2021-09-01T00:21:12.181909",
     "status": "completed"
    },
    "tags": []
   },
   "outputs": [
    {
     "data": {
      "text/plain": [
       "<matplotlib.legend.Legend at 0x7f35de841be0>"
      ]
     },
     "execution_count": 24,
     "metadata": {},
     "output_type": "execute_result"
    },
    {
     "data": {
      "image/png": "[encoded data removed]",
      "text/plain": [
       "<Figure size 1080x720 with 1 Axes>"
      ]
     },
     "metadata": {
      "needs_background": "light"
     },
     "output_type": "display_data"
    }
   ],
   "source": [
    "#comparing the results of NN and LR\n",
    "plt.figure(figsize=(15,10))\n",
    "\n",
    "# Neural Network plots\n",
    "plt.plot(acc_nn.accuracies, 'r-', label = \"Training Accuracies - NN\")\n",
    "plt.plot(acc_nn.test_accuracies, 'g-', label = \"Testing Accuracies - NN\")\n",
    "\n",
    "# Logistic Regression plots\n",
    "plt.plot(acc_lr.accuracies, 'k-', label = \"Training Accuracies - LR\")\n",
    "plt.plot(acc_lr.test_accuracies, 'b-', label = \"Testing Accuracies - LR\")\n",
    "plt.legend()"
   ]
  },
  {
   "cell_type": "markdown",
   "id": "80dfb35c",
   "metadata": {
    "papermill": {
     "duration": 0.036559,
     "end_time": "2021-09-01T00:21:12.536572",
     "exception": false,
     "start_time": "2021-09-01T00:21:12.500013",
     "status": "completed"
    },
    "tags": []
   },
   "source": [
    "#### Plotting the outputs of this layer of the NN.\n"
   ]
  },
  {
   "cell_type": "code",
   "execution_count": 25,
   "id": "45eb2ff5",
   "metadata": {
    "execution": {
     "iopub.execute_input": "2021-09-01T00:21:12.613686Z",
     "iopub.status.busy": "2021-09-01T00:21:12.613217Z",
     "iopub.status.idle": "2021-09-01T00:21:12.632743Z",
     "shell.execute_reply": "2021-09-01T00:21:12.633154Z"
    },
    "papermill": {
     "duration": 0.059948,
     "end_time": "2021-09-01T00:21:12.633278",
     "exception": false,
     "start_time": "2021-09-01T00:21:12.573330",
     "status": "completed"
    },
    "tags": []
   },
   "outputs": [],
   "source": [
    "new_model = Model(layers[:-2])\n",
    "testing_plot = new_model(testing_data_x)"
   ]
  },
  {
   "cell_type": "code",
   "execution_count": 26,
   "id": "4c0a5485",
   "metadata": {
    "execution": {
     "iopub.execute_input": "2021-09-01T00:21:12.722257Z",
     "iopub.status.busy": "2021-09-01T00:21:12.721797Z",
     "iopub.status.idle": "2021-09-01T00:21:12.923511Z",
     "shell.execute_reply": "2021-09-01T00:21:12.923077Z"
    },
    "papermill": {
     "duration": 0.248778,
     "end_time": "2021-09-01T00:21:12.923637",
     "exception": false,
     "start_time": "2021-09-01T00:21:12.674859",
     "status": "completed"
    },
    "tags": []
   },
   "outputs": [
    {
     "data": {
      "text/plain": [
       "Text(0.5, 1.0, 'Outputs')"
      ]
     },
     "execution_count": 26,
     "metadata": {},
     "output_type": "execute_result"
    },
    {
     "data": {
      "image/png": "[encoded data removed]",
      "text/plain": [
       "<Figure size 576x504 with 1 Axes>"
      ]
     },
     "metadata": {
      "needs_background": "light"
     },
     "output_type": "display_data"
    }
   ],
   "source": [
    "# Plotting the scatter plot of points and color coding by class\n",
    "plt.figure(figsize=(8,7))\n",
    "plt.scatter(testing_plot[:,0], testing_plot[:,1], alpha = 0.1, c = y_test.ravel());\n",
    "plt.title('Outputs')"
   ]
  },
  {
   "cell_type": "markdown",
   "id": "a74fcf8f",
   "metadata": {
    "papermill": {
     "duration": 0.043768,
     "end_time": "2021-09-01T00:21:13.010947",
     "exception": false,
     "start_time": "2021-09-01T00:21:12.967179",
     "status": "completed"
    },
    "tags": []
   },
   "source": [
    "Probability contours"
   ]
  },
  {
   "cell_type": "code",
   "execution_count": 27,
   "id": "d0afc8e3",
   "metadata": {
    "execution": {
     "iopub.execute_input": "2021-09-01T00:21:13.106083Z",
     "iopub.status.busy": "2021-09-01T00:21:13.105234Z",
     "iopub.status.idle": "2021-09-01T00:21:13.114818Z",
     "shell.execute_reply": "2021-09-01T00:21:13.114148Z"
    },
    "papermill": {
     "duration": 0.060384,
     "end_time": "2021-09-01T00:21:13.114937",
     "exception": false,
     "start_time": "2021-09-01T00:21:13.054553",
     "status": "completed"
    },
    "tags": []
   },
   "outputs": [],
   "source": [
    "model_prob = Model(layers[-2:]) "
   ]
  },
  {
   "cell_type": "code",
   "execution_count": 28,
   "id": "9b96e238",
   "metadata": {
    "execution": {
     "iopub.execute_input": "2021-09-01T00:21:13.209026Z",
     "iopub.status.busy": "2021-09-01T00:21:13.208521Z",
     "iopub.status.idle": "2021-09-01T00:21:13.220326Z",
     "shell.execute_reply": "2021-09-01T00:21:13.220703Z"
    },
    "papermill": {
     "duration": 0.062357,
     "end_time": "2021-09-01T00:21:13.220829",
     "exception": false,
     "start_time": "2021-09-01T00:21:13.158472",
     "status": "completed"
    },
    "tags": []
   },
   "outputs": [],
   "source": [
    "#creating the x and y ranges according to the above generated plot.\n",
    "x_range = np.linspace(-4, 1, 100) \n",
    "y_range = np.linspace(-6, 6, 100) \n",
    "x_grid, y_grid = np.meshgrid(x_range, y_range) # x_grid and y_grig are of size 100 X 100\n",
    "\n",
    "# converting x_grid and y_grid to continuous arrays\n",
    "x_gridflat = np.ravel(x_grid)\n",
    "y_gridflat = np.ravel(y_grid)\n",
    "\n",
    "# The last layer of the current model takes two columns as input. Hence transpose of np.vstack() is required.\n",
    "X = np.vstack((x_gridflat, y_gridflat)).T\n",
    "\n",
    "prob_contour = model_prob(X).reshape(100,100) "
   ]
  },
  {
   "cell_type": "code",
   "execution_count": 29,
   "id": "da72499a",
   "metadata": {
    "execution": {
     "iopub.execute_input": "2021-09-01T00:21:13.335989Z",
     "iopub.status.busy": "2021-09-01T00:21:13.335544Z",
     "iopub.status.idle": "2021-09-01T00:21:13.588495Z",
     "shell.execute_reply": "2021-09-01T00:21:13.588867Z"
    },
    "papermill": {
     "duration": 0.32248,
     "end_time": "2021-09-01T00:21:13.588996",
     "exception": false,
     "start_time": "2021-09-01T00:21:13.266516",
     "status": "completed"
    },
    "tags": []
   },
   "outputs": [
    {
     "data": {
      "image/png": "[encoded data removed]",
      "text/plain": [
       "<Figure size 720x648 with 1 Axes>"
      ]
     },
     "metadata": {
      "needs_background": "light"
     },
     "output_type": "display_data"
    }
   ],
   "source": [
    "plt.figure(figsize=(10,9))\n",
    "plt.scatter(testing_plot[:,0], testing_plot[:,1], alpha = 0.1, c = y_test.ravel())\n",
    "contours = plt.contour(x_grid,y_grid,prob_contour)\n",
    "plt.title('Probability Contours')\n",
    "plt.clabel(contours, inline = True );"
   ]
  },
  {
   "cell_type": "code",
   "execution_count": null,
   "id": "e81b4ac7",
   "metadata": {
    "papermill": {
     "duration": 0.041449,
     "end_time": "2021-09-01T00:21:13.671628",
     "exception": false,
     "start_time": "2021-09-01T00:21:13.630179",
     "status": "completed"
    },
    "tags": []
   },
   "outputs": [],
   "source": []
  }
 ],
 "metadata": {
  "kernelspec": {
   "display_name": "Python 3",
   "language": "python",
   "name": "python3"
  },
  "language_info": {
   "codemirror_mode": {
    "name": "ipython",
    "version": 3
   },
   "file_extension": ".py",
   "mimetype": "text/x-python",
   "name": "python",
   "nbconvert_exporter": "python",
   "pygments_lexer": "ipython3",
   "version": "3.6.14"
  },
  "papermill": {
   "default_parameters": {},
   "duration": 97.795887,
   "end_time": "2021-09-01T00:21:14.120960",
   "environment_variables": {},
   "exception": null,
   "input_path": "2020-08-11-part2.ipynb",
   "output_path": "2020-08-11-part2.ipynb",
   "parameters": {},
   "start_time": "2021-09-01T00:19:36.325073",
   "version": "2.3.3"
  }
 },
 "nbformat": 4,
 "nbformat_minor": 5
}