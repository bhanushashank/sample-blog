{
 "cells": [
  {
   "cell_type": "markdown",
   "id": "98380cd3",
   "metadata": {
    "papermill": {
     "duration": 0.028398,
     "end_time": "2022-03-21T10:09:48.765810",
     "exception": false,
     "start_time": "2022-03-21T10:09:48.737412",
     "status": "completed"
    },
    "tags": []
   },
   "source": [
    "# Distinguish Your Own Digits (DYOD)"
   ]
  },
  {
   "cell_type": "markdown",
   "id": "ef31240d",
   "metadata": {
    "papermill": {
     "duration": 0.025552,
     "end_time": "2022-03-21T10:09:48.816147",
     "exception": false,
     "start_time": "2022-03-21T10:09:48.790595",
     "status": "completed"
    },
    "tags": []
   },
   "source": [
    "You are going to write a classifier that distinguishes between the number 3 and number 8."
   ]
  },
  {
   "cell_type": "code",
   "execution_count": 1,
   "id": "b15c8646",
   "metadata": {
    "execution": {
     "iopub.execute_input": "2022-03-21T10:09:48.875276Z",
     "iopub.status.busy": "2022-03-21T10:09:48.874706Z",
     "iopub.status.idle": "2022-03-21T10:09:48.887550Z",
     "shell.execute_reply": "2022-03-21T10:09:48.887079Z"
    },
    "papermill": {
     "duration": 0.047579,
     "end_time": "2022-03-21T10:09:48.887694",
     "exception": false,
     "start_time": "2022-03-21T10:09:48.840115",
     "status": "completed"
    },
    "tags": []
   },
   "outputs": [],
   "source": [
    "%load_ext autoreload\n",
    "%autoreload 2"
   ]
  },
  {
   "cell_type": "code",
   "execution_count": 2,
   "id": "22ef38dc",
   "metadata": {
    "execution": {
     "iopub.execute_input": "2022-03-21T10:09:48.943352Z",
     "iopub.status.busy": "2022-03-21T10:09:48.942823Z",
     "iopub.status.idle": "2022-03-21T10:09:49.492952Z",
     "shell.execute_reply": "2022-03-21T10:09:49.492452Z"
    },
    "papermill": {
     "duration": 0.58064,
     "end_time": "2022-03-21T10:09:49.493088",
     "exception": false,
     "start_time": "2022-03-21T10:09:48.912448",
     "status": "completed"
    },
    "tags": []
   },
   "outputs": [],
   "source": [
    "%matplotlib inline\n",
    "import numpy as np\n",
    "import matplotlib.pyplot as plt\n",
    "import pandas as pd"
   ]
  },
  {
   "cell_type": "markdown",
   "id": "ba036198",
   "metadata": {
    "papermill": {
     "duration": 0.024232,
     "end_time": "2022-03-21T10:09:49.541401",
     "exception": false,
     "start_time": "2022-03-21T10:09:49.517169",
     "status": "completed"
    },
    "tags": []
   },
   "source": [
    "From the command line run `pip install mnist`. This is a library that will help you bring down the mnist dataset. If you run this from a notebook, you need to put  `!pip install mnist` in a cell by itself."
   ]
  },
  {
   "cell_type": "code",
   "execution_count": 3,
   "id": "bb6ad8a1",
   "metadata": {
    "execution": {
     "iopub.execute_input": "2022-03-21T10:09:49.594167Z",
     "iopub.status.busy": "2022-03-21T10:09:49.593623Z",
     "iopub.status.idle": "2022-03-21T10:09:51.350685Z",
     "shell.execute_reply": "2022-03-21T10:09:51.350132Z"
    },
    "papermill": {
     "duration": 1.785169,
     "end_time": "2022-03-21T10:09:51.350830",
     "exception": false,
     "start_time": "2022-03-21T10:09:49.565661",
     "status": "completed"
    },
    "tags": []
   },
   "outputs": [
    {
     "name": "stdout",
     "output_type": "stream",
     "text": [
      "Collecting mnist\r\n"
     ]
    },
    {
     "name": "stdout",
     "output_type": "stream",
     "text": [
      "  Downloading mnist-0.2.2-py2.py3-none-any.whl (3.5 kB)\r\n"
     ]
    },
    {
     "name": "stdout",
     "output_type": "stream",
     "text": [
      "Requirement already satisfied: numpy in /opt/hostedtoolcache/Python/3.6.15/x64/lib/python3.6/site-packages (from mnist) (1.19.5)\r\n"
     ]
    },
    {
     "name": "stdout",
     "output_type": "stream",
     "text": [
      "Installing collected packages: mnist\r\n",
      "Successfully installed mnist-0.2.2\r\n"
     ]
    }
   ],
   "source": [
    "!pip install mnist"
   ]
  },
  {
   "cell_type": "markdown",
   "id": "69df9c9a",
   "metadata": {
    "papermill": {
     "duration": 0.025443,
     "end_time": "2022-03-21T10:09:51.402423",
     "exception": false,
     "start_time": "2022-03-21T10:09:51.376980",
     "status": "completed"
    },
    "tags": []
   },
   "source": [
    "## Preparing the Data"
   ]
  },
  {
   "cell_type": "code",
   "execution_count": 4,
   "id": "7f69d806",
   "metadata": {
    "execution": {
     "iopub.execute_input": "2022-03-21T10:09:51.472528Z",
     "iopub.status.busy": "2022-03-21T10:09:51.471376Z",
     "iopub.status.idle": "2022-03-21T10:09:51.474946Z",
     "shell.execute_reply": "2022-03-21T10:09:51.474499Z"
    },
    "papermill": {
     "duration": 0.047421,
     "end_time": "2022-03-21T10:09:51.475073",
     "exception": false,
     "start_time": "2022-03-21T10:09:51.427652",
     "status": "completed"
    },
    "tags": []
   },
   "outputs": [],
   "source": [
    "import mnist"
   ]
  },
  {
   "cell_type": "code",
   "execution_count": 5,
   "id": "a411e44f",
   "metadata": {
    "execution": {
     "iopub.execute_input": "2022-03-21T10:09:51.531361Z",
     "iopub.status.busy": "2022-03-21T10:09:51.530833Z",
     "iopub.status.idle": "2022-03-21T10:09:52.142094Z",
     "shell.execute_reply": "2022-03-21T10:09:52.141553Z"
    },
    "papermill": {
     "duration": 0.641648,
     "end_time": "2022-03-21T10:09:52.142241",
     "exception": false,
     "start_time": "2022-03-21T10:09:51.500593",
     "status": "completed"
    },
    "tags": []
   },
   "outputs": [],
   "source": [
    "train_images = mnist.train_images()\n",
    "train_labels = mnist.train_labels()"
   ]
  },
  {
   "cell_type": "code",
   "execution_count": 6,
   "id": "dceab3a5",
   "metadata": {
    "execution": {
     "iopub.execute_input": "2022-03-21T10:09:52.199659Z",
     "iopub.status.busy": "2022-03-21T10:09:52.199034Z",
     "iopub.status.idle": "2022-03-21T10:09:52.212074Z",
     "shell.execute_reply": "2022-03-21T10:09:52.212519Z"
    },
    "papermill": {
     "duration": 0.044862,
     "end_time": "2022-03-21T10:09:52.212666",
     "exception": false,
     "start_time": "2022-03-21T10:09:52.167804",
     "status": "completed"
    },
    "tags": []
   },
   "outputs": [
    {
     "data": {
      "text/plain": [
       "((60000, 28, 28), (60000,))"
      ]
     },
     "execution_count": 6,
     "metadata": {},
     "output_type": "execute_result"
    }
   ],
   "source": [
    "train_images.shape, train_labels.shape"
   ]
  },
  {
   "cell_type": "code",
   "execution_count": 7,
   "id": "f50dc2bb",
   "metadata": {
    "execution": {
     "iopub.execute_input": "2022-03-21T10:09:52.272782Z",
     "iopub.status.busy": "2022-03-21T10:09:52.272243Z",
     "iopub.status.idle": "2022-03-21T10:09:52.481868Z",
     "shell.execute_reply": "2022-03-21T10:09:52.480651Z"
    },
    "papermill": {
     "duration": 0.243769,
     "end_time": "2022-03-21T10:09:52.482041",
     "exception": false,
     "start_time": "2022-03-21T10:09:52.238272",
     "status": "completed"
    },
    "tags": []
   },
   "outputs": [],
   "source": [
    "test_images = mnist.test_images()\n",
    "test_labels = mnist.test_labels()"
   ]
  },
  {
   "cell_type": "code",
   "execution_count": 8,
   "id": "fc38cf1b",
   "metadata": {
    "execution": {
     "iopub.execute_input": "2022-03-21T10:09:52.539296Z",
     "iopub.status.busy": "2022-03-21T10:09:52.537824Z",
     "iopub.status.idle": "2022-03-21T10:09:52.550914Z",
     "shell.execute_reply": "2022-03-21T10:09:52.551357Z"
    },
    "papermill": {
     "duration": 0.043014,
     "end_time": "2022-03-21T10:09:52.551501",
     "exception": false,
     "start_time": "2022-03-21T10:09:52.508487",
     "status": "completed"
    },
    "tags": []
   },
   "outputs": [
    {
     "data": {
      "text/plain": [
       "((10000, 28, 28), (10000,))"
      ]
     },
     "execution_count": 8,
     "metadata": {},
     "output_type": "execute_result"
    }
   ],
   "source": [
    "test_images.shape, test_labels.shape"
   ]
  },
  {
   "cell_type": "code",
   "execution_count": 9,
   "id": "f9ed8fe0",
   "metadata": {
    "execution": {
     "iopub.execute_input": "2022-03-21T10:09:52.610084Z",
     "iopub.status.busy": "2022-03-21T10:09:52.609535Z",
     "iopub.status.idle": "2022-03-21T10:09:52.749177Z",
     "shell.execute_reply": "2022-03-21T10:09:52.749651Z"
    },
    "papermill": {
     "duration": 0.172445,
     "end_time": "2022-03-21T10:09:52.749812",
     "exception": false,
     "start_time": "2022-03-21T10:09:52.577367",
     "status": "completed"
    },
    "tags": []
   },
   "outputs": [
    {
     "name": "stdout",
     "output_type": "stream",
     "text": [
      "2\n"
     ]
    },
    {
     "data": {
      "text/plain": [
       "<matplotlib.image.AxesImage at 0x7fe5e0622ac8>"
      ]
     },
     "execution_count": 9,
     "metadata": {},
     "output_type": "execute_result"
    },
    {
     "data": {
      "image/png": "[encoded data removed]",
      "text/plain": [
       "<Figure size 432x288 with 1 Axes>"
      ]
     },
     "metadata": {
      "needs_background": "light"
     },
     "output_type": "display_data"
    }
   ],
   "source": [
    "image_index = 7776 # You may select anything up to 60,000\n",
    "print(train_labels[image_index]) \n",
    "plt.imshow(train_images[image_index], cmap='Greys')"
   ]
  },
  {
   "cell_type": "markdown",
   "id": "a8d2388d",
   "metadata": {
    "papermill": {
     "duration": 0.027088,
     "end_time": "2022-03-21T10:09:52.804270",
     "exception": false,
     "start_time": "2022-03-21T10:09:52.777182",
     "status": "completed"
    },
    "tags": []
   },
   "source": [
    "## Filter data to get 3 and 8 out"
   ]
  },
  {
   "cell_type": "code",
   "execution_count": 10,
   "id": "776f7fc7",
   "metadata": {
    "execution": {
     "iopub.execute_input": "2022-03-21T10:09:52.863056Z",
     "iopub.status.busy": "2022-03-21T10:09:52.862508Z",
     "iopub.status.idle": "2022-03-21T10:09:52.881043Z",
     "shell.execute_reply": "2022-03-21T10:09:52.881476Z"
    },
    "papermill": {
     "duration": 0.050512,
     "end_time": "2022-03-21T10:09:52.881632",
     "exception": false,
     "start_time": "2022-03-21T10:09:52.831120",
     "status": "completed"
    },
    "tags": []
   },
   "outputs": [],
   "source": [
    "train_filter = np.where((train_labels == 3 ) | (train_labels == 8))\n",
    "test_filter = np.where((test_labels == 3) | (test_labels == 8))\n",
    "X_train, y_train = train_images[train_filter], train_labels[train_filter]\n",
    "X_test, y_test = test_images[test_filter], test_labels[test_filter]"
   ]
  },
  {
   "cell_type": "markdown",
   "id": "948f0b7e",
   "metadata": {
    "papermill": {
     "duration": 0.027437,
     "end_time": "2022-03-21T10:09:52.936170",
     "exception": false,
     "start_time": "2022-03-21T10:09:52.908733",
     "status": "completed"
    },
    "tags": []
   },
   "source": [
    "We normalize the pizel values in the 0 to 1 range"
   ]
  },
  {
   "cell_type": "code",
   "execution_count": 11,
   "id": "ee4c2166",
   "metadata": {
    "execution": {
     "iopub.execute_input": "2022-03-21T10:09:52.996880Z",
     "iopub.status.busy": "2022-03-21T10:09:52.996330Z",
     "iopub.status.idle": "2022-03-21T10:09:53.044038Z",
     "shell.execute_reply": "2022-03-21T10:09:53.043485Z"
    },
    "papermill": {
     "duration": 0.080961,
     "end_time": "2022-03-21T10:09:53.044180",
     "exception": false,
     "start_time": "2022-03-21T10:09:52.963219",
     "status": "completed"
    },
    "tags": []
   },
   "outputs": [],
   "source": [
    "X_train = X_train/255.\n",
    "X_test = X_test/255."
   ]
  },
  {
   "cell_type": "markdown",
   "id": "ddcf4fab",
   "metadata": {
    "papermill": {
     "duration": 0.026918,
     "end_time": "2022-03-21T10:09:53.098431",
     "exception": false,
     "start_time": "2022-03-21T10:09:53.071513",
     "status": "completed"
    },
    "tags": []
   },
   "source": [
    "And setup the labels as 1 (when the digit is 3) and 0 (when the digit is 8)"
   ]
  },
  {
   "cell_type": "code",
   "execution_count": 12,
   "id": "7dc908f2",
   "metadata": {
    "execution": {
     "iopub.execute_input": "2022-03-21T10:09:53.161226Z",
     "iopub.status.busy": "2022-03-21T10:09:53.160664Z",
     "iopub.status.idle": "2022-03-21T10:09:53.170336Z",
     "shell.execute_reply": "2022-03-21T10:09:53.169839Z"
    },
    "papermill": {
     "duration": 0.045336,
     "end_time": "2022-03-21T10:09:53.170464",
     "exception": false,
     "start_time": "2022-03-21T10:09:53.125128",
     "status": "completed"
    },
    "tags": []
   },
   "outputs": [],
   "source": [
    "y_train = 1*(y_train==3)\n",
    "y_test = 1*(y_test==3)"
   ]
  },
  {
   "cell_type": "code",
   "execution_count": 13,
   "id": "01e4e969",
   "metadata": {
    "execution": {
     "iopub.execute_input": "2022-03-21T10:09:53.228637Z",
     "iopub.status.busy": "2022-03-21T10:09:53.228056Z",
     "iopub.status.idle": "2022-03-21T10:09:53.242025Z",
     "shell.execute_reply": "2022-03-21T10:09:53.242466Z"
    },
    "papermill": {
     "duration": 0.045108,
     "end_time": "2022-03-21T10:09:53.242615",
     "exception": false,
     "start_time": "2022-03-21T10:09:53.197507",
     "status": "completed"
    },
    "tags": []
   },
   "outputs": [
    {
     "data": {
      "text/plain": [
       "((11982, 28, 28), (1984, 28, 28))"
      ]
     },
     "execution_count": 13,
     "metadata": {},
     "output_type": "execute_result"
    }
   ],
   "source": [
    "X_train.shape, X_test.shape"
   ]
  },
  {
   "cell_type": "markdown",
   "id": "5ccf3f85",
   "metadata": {
    "papermill": {
     "duration": 0.027047,
     "end_time": "2022-03-21T10:09:53.296795",
     "exception": false,
     "start_time": "2022-03-21T10:09:53.269748",
     "status": "completed"
    },
    "tags": []
   },
   "source": [
    "We reshape the data to flatten the image pixels into a set of features or co-variates:"
   ]
  },
  {
   "cell_type": "code",
   "execution_count": 14,
   "id": "5286a4a3",
   "metadata": {
    "execution": {
     "iopub.execute_input": "2022-03-21T10:09:53.355409Z",
     "iopub.status.busy": "2022-03-21T10:09:53.354876Z",
     "iopub.status.idle": "2022-03-21T10:09:53.368678Z",
     "shell.execute_reply": "2022-03-21T10:09:53.369090Z"
    },
    "papermill": {
     "duration": 0.045273,
     "end_time": "2022-03-21T10:09:53.369233",
     "exception": false,
     "start_time": "2022-03-21T10:09:53.323960",
     "status": "completed"
    },
    "tags": []
   },
   "outputs": [
    {
     "data": {
      "text/plain": [
       "((11982, 784), (1984, 784))"
      ]
     },
     "execution_count": 14,
     "metadata": {},
     "output_type": "execute_result"
    }
   ],
   "source": [
    "X_train = X_train.reshape(X_train.shape[0], -1)\n",
    "X_test = X_test.reshape(X_test.shape[0], -1)\n",
    "X_train.shape, X_test.shape"
   ]
  },
  {
   "cell_type": "code",
   "execution_count": 15,
   "id": "73c5f88a",
   "metadata": {
    "execution": {
     "iopub.execute_input": "2022-03-21T10:09:53.434983Z",
     "iopub.status.busy": "2022-03-21T10:09:53.434413Z",
     "iopub.status.idle": "2022-03-21T10:09:53.449420Z",
     "shell.execute_reply": "2022-03-21T10:09:53.449829Z"
    },
    "papermill": {
     "duration": 0.053403,
     "end_time": "2022-03-21T10:09:53.450006",
     "exception": false,
     "start_time": "2022-03-21T10:09:53.396603",
     "status": "completed"
    },
    "tags": []
   },
   "outputs": [],
   "source": [
    "#Impoting functions from 'Kudzu'\n",
    "from kudzu.model import Model\n",
    "from kudzu.train import Learner\n",
    "from kudzu.optim import GD\n",
    "from kudzu.data import Data, Sampler,Dataloader\n",
    "\n",
    "from kudzu.callbacks import AccCallback\n",
    "from kudzu.callbacks import ClfCallback\n",
    "\n",
    "from kudzu.loss import MSE\n",
    "\n",
    "from kudzu.layer import Sigmoid,Relu\n",
    "from kudzu.layer import Affine"
   ]
  },
  {
   "cell_type": "markdown",
   "id": "bc01172a",
   "metadata": {
    "papermill": {
     "duration": 0.027339,
     "end_time": "2022-03-21T10:09:53.504951",
     "exception": false,
     "start_time": "2022-03-21T10:09:53.477612",
     "status": "completed"
    },
    "tags": []
   },
   "source": [
    "### Let us create a `Config` class, to store important parameters. \n",
    "This class essentially plays the role of a dictionary."
   ]
  },
  {
   "cell_type": "code",
   "execution_count": 16,
   "id": "978281aa",
   "metadata": {
    "execution": {
     "iopub.execute_input": "2022-03-21T10:09:53.564127Z",
     "iopub.status.busy": "2022-03-21T10:09:53.563589Z",
     "iopub.status.idle": "2022-03-21T10:09:53.575739Z",
     "shell.execute_reply": "2022-03-21T10:09:53.576174Z"
    },
    "papermill": {
     "duration": 0.044056,
     "end_time": "2022-03-21T10:09:53.576326",
     "exception": false,
     "start_time": "2022-03-21T10:09:53.532270",
     "status": "completed"
    },
    "tags": []
   },
   "outputs": [],
   "source": [
    "class Config:\n",
    "    pass\n",
    "config = Config()\n",
    "config.lr = 0.001\n",
    "config.num_epochs = 250\n",
    "config.bs = 50"
   ]
  },
  {
   "cell_type": "markdown",
   "id": "1385fa59",
   "metadata": {
    "papermill": {
     "duration": 0.027457,
     "end_time": "2022-03-21T10:09:53.631449",
     "exception": false,
     "start_time": "2022-03-21T10:09:53.603992",
     "status": "completed"
    },
    "tags": []
   },
   "source": [
    "### Running Models with the Training data\n",
    "Details about the network layers:\n",
    "- A first affine layer has 784 inputs and does 100 affine transforms. These are followed by a Relu\n",
    "- A second affine layer has 100 inputs from the 100 activations of the past layer, and does 100 affine transforms. These are followed by a Relu\n",
    "- A third affine layer has 100 activations and does 2 affine transformations to create an embedding for visualization. There is no non-linearity here.\n",
    "- A final \"logistic regression\" which has an affine transform from 2 inputs to 1 output, which is squeezed through a sigmoid.\n"
   ]
  },
  {
   "cell_type": "code",
   "execution_count": 17,
   "id": "2b9c66db",
   "metadata": {
    "execution": {
     "iopub.execute_input": "2022-03-21T10:09:53.690435Z",
     "iopub.status.busy": "2022-03-21T10:09:53.689869Z",
     "iopub.status.idle": "2022-03-21T10:09:53.705691Z",
     "shell.execute_reply": "2022-03-21T10:09:53.705260Z"
    },
    "papermill": {
     "duration": 0.047033,
     "end_time": "2022-03-21T10:09:53.705815",
     "exception": false,
     "start_time": "2022-03-21T10:09:53.658782",
     "status": "completed"
    },
    "tags": []
   },
   "outputs": [],
   "source": [
    "data = Data(X_train, y_train.reshape(-1,1))\n",
    "sampler = Sampler(data, config.bs, shuffle=True)\n",
    "\n",
    "dl = Dataloader(data, sampler)\n",
    "\n",
    "opt = GD(config.lr)\n",
    "loss = MSE()"
   ]
  },
  {
   "cell_type": "code",
   "execution_count": 18,
   "id": "b275e4c2",
   "metadata": {
    "execution": {
     "iopub.execute_input": "2022-03-21T10:09:53.767381Z",
     "iopub.status.busy": "2022-03-21T10:09:53.766850Z",
     "iopub.status.idle": "2022-03-21T10:09:53.778562Z",
     "shell.execute_reply": "2022-03-21T10:09:53.778117Z"
    },
    "papermill": {
     "duration": 0.045121,
     "end_time": "2022-03-21T10:09:53.778688",
     "exception": false,
     "start_time": "2022-03-21T10:09:53.733567",
     "status": "completed"
    },
    "tags": []
   },
   "outputs": [],
   "source": [
    "training_data_x = X_train\n",
    "testing_data_x = X_test\n",
    "training_data_y = y_train.reshape(-1,1)\n",
    "testing_data_y = y_test.reshape(-1,1)"
   ]
  },
  {
   "cell_type": "code",
   "execution_count": 19,
   "id": "76951160",
   "metadata": {
    "execution": {
     "iopub.execute_input": "2022-03-21T10:09:53.847546Z",
     "iopub.status.busy": "2022-03-21T10:09:53.846969Z",
     "iopub.status.idle": "2022-03-21T10:09:53.857846Z",
     "shell.execute_reply": "2022-03-21T10:09:53.857421Z"
    },
    "papermill": {
     "duration": 0.051939,
     "end_time": "2022-03-21T10:09:53.857971",
     "exception": false,
     "start_time": "2022-03-21T10:09:53.806032",
     "status": "completed"
    },
    "tags": []
   },
   "outputs": [
    {
     "name": "stdout",
     "output_type": "stream",
     "text": [
      "xavier\n",
      "xavier\n",
      "xavier\n",
      "xavier\n",
      "xavier\n"
     ]
    }
   ],
   "source": [
    "layers = [Affine(\"first\", 784, 100), Relu(\"first\"), Affine(\"second\", 100, 100), Relu(\"second\"), Affine(\"third\", 100, 2), Affine(\"last\", 2, 1), Sigmoid(\"last\")]\n",
    "model_nn = Model(layers)\n",
    "model_lr = Model([Affine(\"logits\", 784, 1), Sigmoid(\"sigmoid\")])"
   ]
  },
  {
   "cell_type": "code",
   "execution_count": 20,
   "id": "6eede77a",
   "metadata": {
    "execution": {
     "iopub.execute_input": "2022-03-21T10:09:53.922929Z",
     "iopub.status.busy": "2022-03-21T10:09:53.922385Z",
     "iopub.status.idle": "2022-03-21T10:09:53.932352Z",
     "shell.execute_reply": "2022-03-21T10:09:53.931917Z"
    },
    "papermill": {
     "duration": 0.046583,
     "end_time": "2022-03-21T10:09:53.932480",
     "exception": false,
     "start_time": "2022-03-21T10:09:53.885897",
     "status": "completed"
    },
    "tags": []
   },
   "outputs": [],
   "source": [
    "nn_learner = Learner(loss, model_nn, opt, config.num_epochs)\n",
    "acc_nn = ClfCallback(nn_learner, config.bs, training_data_x , testing_data_x, training_data_y, testing_data_y)\n",
    "nn_learner.set_callbacks([acc_nn])"
   ]
  },
  {
   "cell_type": "code",
   "execution_count": 21,
   "id": "877b6cc7",
   "metadata": {
    "execution": {
     "iopub.execute_input": "2022-03-21T10:09:53.992803Z",
     "iopub.status.busy": "2022-03-21T10:09:53.992273Z",
     "iopub.status.idle": "2022-03-21T10:09:54.005200Z",
     "shell.execute_reply": "2022-03-21T10:09:54.004778Z"
    },
    "papermill": {
     "duration": 0.045015,
     "end_time": "2022-03-21T10:09:54.005321",
     "exception": false,
     "start_time": "2022-03-21T10:09:53.960306",
     "status": "completed"
    },
    "tags": []
   },
   "outputs": [],
   "source": [
    "lr_learner = Learner(loss, model_lr, opt, config.num_epochs)\n",
    "acc_lr = ClfCallback(lr_learner, config.bs, training_data_x , testing_data_x, training_data_y, testing_data_y)\n",
    "lr_learner.set_callbacks([acc_lr])"
   ]
  },
  {
   "cell_type": "code",
   "execution_count": 22,
   "id": "d9b133c3",
   "metadata": {
    "execution": {
     "iopub.execute_input": "2022-03-21T10:09:54.064907Z",
     "iopub.status.busy": "2022-03-21T10:09:54.064393Z",
     "iopub.status.idle": "2022-03-21T10:11:17.094696Z",
     "shell.execute_reply": "2022-03-21T10:11:17.095469Z"
    },
    "papermill": {
     "duration": 83.062481,
     "end_time": "2022-03-21T10:11:17.095627",
     "exception": false,
     "start_time": "2022-03-21T10:09:54.033146",
     "status": "completed"
    },
    "tags": []
   },
   "outputs": [
    {
     "name": "stdout",
     "output_type": "stream",
     "text": [
      "Epoch 0, Loss 0.2496\n",
      "Training Accuracy: 0.5885, Testing Accuracy: 0.5867\n",
      "\n"
     ]
    },
    {
     "name": "stdout",
     "output_type": "stream",
     "text": [
      "Epoch 10, Loss 0.1354\n",
      "Training Accuracy: 0.8862, Testing Accuracy: 0.9012\n",
      "\n"
     ]
    },
    {
     "name": "stdout",
     "output_type": "stream",
     "text": [
      "Epoch 20, Loss 0.074\n",
      "Training Accuracy: 0.9229, Testing Accuracy: 0.9390\n",
      "\n"
     ]
    },
    {
     "name": "stdout",
     "output_type": "stream",
     "text": [
      "Epoch 30, Loss 0.054\n",
      "Training Accuracy: 0.9393, Testing Accuracy: 0.9536\n",
      "\n"
     ]
    },
    {
     "name": "stdout",
     "output_type": "stream",
     "text": [
      "Epoch 40, Loss 0.0448\n",
      "Training Accuracy: 0.9477, Testing Accuracy: 0.9617\n",
      "\n"
     ]
    },
    {
     "name": "stdout",
     "output_type": "stream",
     "text": [
      "Epoch 50, Loss 0.0395\n",
      "Training Accuracy: 0.9543, Testing Accuracy: 0.9657\n",
      "\n"
     ]
    },
    {
     "name": "stdout",
     "output_type": "stream",
     "text": [
      "Epoch 60, Loss 0.0361\n",
      "Training Accuracy: 0.9584, Testing Accuracy: 0.9682\n",
      "\n"
     ]
    },
    {
     "name": "stdout",
     "output_type": "stream",
     "text": [
      "Epoch 70, Loss 0.0336\n",
      "Training Accuracy: 0.9611, Testing Accuracy: 0.9677\n",
      "\n"
     ]
    },
    {
     "name": "stdout",
     "output_type": "stream",
     "text": [
      "Epoch 80, Loss 0.0317\n",
      "Training Accuracy: 0.9632, Testing Accuracy: 0.9693\n",
      "\n"
     ]
    },
    {
     "name": "stdout",
     "output_type": "stream",
     "text": [
      "Epoch 90, Loss 0.0302\n",
      "Training Accuracy: 0.9646, Testing Accuracy: 0.9718\n",
      "\n"
     ]
    },
    {
     "name": "stdout",
     "output_type": "stream",
     "text": [
      "Epoch 100, Loss 0.0289\n",
      "Training Accuracy: 0.9660, Testing Accuracy: 0.9733\n",
      "\n"
     ]
    },
    {
     "name": "stdout",
     "output_type": "stream",
     "text": [
      "Epoch 110, Loss 0.0279\n",
      "Training Accuracy: 0.9673, Testing Accuracy: 0.9713\n",
      "\n"
     ]
    },
    {
     "name": "stdout",
     "output_type": "stream",
     "text": [
      "Epoch 120, Loss 0.027\n",
      "Training Accuracy: 0.9686, Testing Accuracy: 0.9718\n",
      "\n"
     ]
    },
    {
     "name": "stdout",
     "output_type": "stream",
     "text": [
      "Epoch 130, Loss 0.0261\n",
      "Training Accuracy: 0.9698, Testing Accuracy: 0.9713\n",
      "\n"
     ]
    },
    {
     "name": "stdout",
     "output_type": "stream",
     "text": [
      "Epoch 140, Loss 0.0254\n",
      "Training Accuracy: 0.9706, Testing Accuracy: 0.9708\n",
      "\n"
     ]
    },
    {
     "name": "stdout",
     "output_type": "stream",
     "text": [
      "Epoch 150, Loss 0.0248\n",
      "Training Accuracy: 0.9716, Testing Accuracy: 0.9708\n",
      "\n"
     ]
    },
    {
     "name": "stdout",
     "output_type": "stream",
     "text": [
      "Epoch 160, Loss 0.0241\n",
      "Training Accuracy: 0.9724, Testing Accuracy: 0.9708\n",
      "\n"
     ]
    },
    {
     "name": "stdout",
     "output_type": "stream",
     "text": [
      "Epoch 170, Loss 0.0236\n",
      "Training Accuracy: 0.9729, Testing Accuracy: 0.9718\n",
      "\n"
     ]
    },
    {
     "name": "stdout",
     "output_type": "stream",
     "text": [
      "Epoch 180, Loss 0.0231\n",
      "Training Accuracy: 0.9734, Testing Accuracy: 0.9713\n",
      "\n"
     ]
    },
    {
     "name": "stdout",
     "output_type": "stream",
     "text": [
      "Epoch 190, Loss 0.0226\n",
      "Training Accuracy: 0.9741, Testing Accuracy: 0.9718\n",
      "\n"
     ]
    },
    {
     "name": "stdout",
     "output_type": "stream",
     "text": [
      "Epoch 200, Loss 0.0221\n",
      "Training Accuracy: 0.9747, Testing Accuracy: 0.9718\n",
      "\n"
     ]
    },
    {
     "name": "stdout",
     "output_type": "stream",
     "text": [
      "Epoch 210, Loss 0.0217\n",
      "Training Accuracy: 0.9753, Testing Accuracy: 0.9723\n",
      "\n"
     ]
    },
    {
     "name": "stdout",
     "output_type": "stream",
     "text": [
      "Epoch 220, Loss 0.0212\n",
      "Training Accuracy: 0.9757, Testing Accuracy: 0.9728\n",
      "\n"
     ]
    },
    {
     "name": "stdout",
     "output_type": "stream",
     "text": [
      "Epoch 230, Loss 0.0208\n",
      "Training Accuracy: 0.9760, Testing Accuracy: 0.9728\n",
      "\n"
     ]
    },
    {
     "name": "stdout",
     "output_type": "stream",
     "text": [
      "Epoch 240, Loss 0.0204\n",
      "Training Accuracy: 0.9764, Testing Accuracy: 0.9733\n",
      "\n"
     ]
    },
    {
     "data": {
      "text/plain": [
       "0.03157964599705105"
      ]
     },
     "execution_count": 22,
     "metadata": {},
     "output_type": "execute_result"
    }
   ],
   "source": [
    "nn_learner.train_loop(dl)"
   ]
  },
  {
   "cell_type": "code",
   "execution_count": 23,
   "id": "e0163366",
   "metadata": {
    "execution": {
     "iopub.execute_input": "2022-03-21T10:11:17.183282Z",
     "iopub.status.busy": "2022-03-21T10:11:17.182741Z",
     "iopub.status.idle": "2022-03-21T10:11:32.396608Z",
     "shell.execute_reply": "2022-03-21T10:11:32.397378Z"
    },
    "papermill": {
     "duration": 15.266511,
     "end_time": "2022-03-21T10:11:32.397539",
     "exception": false,
     "start_time": "2022-03-21T10:11:17.131028",
     "status": "completed"
    },
    "tags": []
   },
   "outputs": [
    {
     "name": "stdout",
     "output_type": "stream",
     "text": [
      "Epoch 0, Loss 0.2213\n",
      "Training Accuracy: 0.7374, Testing Accuracy: 0.7545\n",
      "\n"
     ]
    },
    {
     "name": "stdout",
     "output_type": "stream",
     "text": [
      "Epoch 10, Loss 0.0989\n",
      "Training Accuracy: 0.9135, Testing Accuracy: 0.9239\n",
      "\n"
     ]
    },
    {
     "name": "stdout",
     "output_type": "stream",
     "text": [
      "Epoch 20, Loss 0.0772\n",
      "Training Accuracy: 0.9295, Testing Accuracy: 0.9415\n",
      "\n"
     ]
    },
    {
     "name": "stdout",
     "output_type": "stream",
     "text": [
      "Epoch 30, Loss 0.067\n",
      "Training Accuracy: 0.9361, Testing Accuracy: 0.9506\n",
      "\n"
     ]
    },
    {
     "name": "stdout",
     "output_type": "stream",
     "text": [
      "Epoch 40, Loss 0.0607\n",
      "Training Accuracy: 0.9408, Testing Accuracy: 0.9541\n",
      "\n"
     ]
    },
    {
     "name": "stdout",
     "output_type": "stream",
     "text": [
      "Epoch 50, Loss 0.0565\n",
      "Training Accuracy: 0.9443, Testing Accuracy: 0.9556\n",
      "\n"
     ]
    },
    {
     "name": "stdout",
     "output_type": "stream",
     "text": [
      "Epoch 60, Loss 0.0533\n",
      "Training Accuracy: 0.9468, Testing Accuracy: 0.9572\n",
      "\n"
     ]
    },
    {
     "name": "stdout",
     "output_type": "stream",
     "text": [
      "Epoch 70, Loss 0.0508\n",
      "Training Accuracy: 0.9491, Testing Accuracy: 0.9592\n",
      "\n"
     ]
    },
    {
     "name": "stdout",
     "output_type": "stream",
     "text": [
      "Epoch 80, Loss 0.0488\n",
      "Training Accuracy: 0.9508, Testing Accuracy: 0.9597\n",
      "\n"
     ]
    },
    {
     "name": "stdout",
     "output_type": "stream",
     "text": [
      "Epoch 90, Loss 0.0472\n",
      "Training Accuracy: 0.9521, Testing Accuracy: 0.9607\n",
      "\n"
     ]
    },
    {
     "name": "stdout",
     "output_type": "stream",
     "text": [
      "Epoch 100, Loss 0.0458\n",
      "Training Accuracy: 0.9533, Testing Accuracy: 0.9617\n",
      "\n"
     ]
    },
    {
     "name": "stdout",
     "output_type": "stream",
     "text": [
      "Epoch 110, Loss 0.0446\n",
      "Training Accuracy: 0.9538, Testing Accuracy: 0.9632\n",
      "\n"
     ]
    },
    {
     "name": "stdout",
     "output_type": "stream",
     "text": [
      "Epoch 120, Loss 0.0436\n",
      "Training Accuracy: 0.9544, Testing Accuracy: 0.9642\n",
      "\n"
     ]
    },
    {
     "name": "stdout",
     "output_type": "stream",
     "text": [
      "Epoch 130, Loss 0.0427\n",
      "Training Accuracy: 0.9548, Testing Accuracy: 0.9652\n",
      "\n"
     ]
    },
    {
     "name": "stdout",
     "output_type": "stream",
     "text": [
      "Epoch 140, Loss 0.0418\n",
      "Training Accuracy: 0.9556, Testing Accuracy: 0.9657\n",
      "\n"
     ]
    },
    {
     "name": "stdout",
     "output_type": "stream",
     "text": [
      "Epoch 150, Loss 0.0411\n",
      "Training Accuracy: 0.9563, Testing Accuracy: 0.9657\n",
      "\n"
     ]
    },
    {
     "name": "stdout",
     "output_type": "stream",
     "text": [
      "Epoch 160, Loss 0.0405\n",
      "Training Accuracy: 0.9570, Testing Accuracy: 0.9672\n",
      "\n"
     ]
    },
    {
     "name": "stdout",
     "output_type": "stream",
     "text": [
      "Epoch 170, Loss 0.0399\n",
      "Training Accuracy: 0.9577, Testing Accuracy: 0.9672\n",
      "\n"
     ]
    },
    {
     "name": "stdout",
     "output_type": "stream",
     "text": [
      "Epoch 180, Loss 0.0393\n",
      "Training Accuracy: 0.9582, Testing Accuracy: 0.9667\n",
      "\n"
     ]
    },
    {
     "name": "stdout",
     "output_type": "stream",
     "text": [
      "Epoch 190, Loss 0.0388\n",
      "Training Accuracy: 0.9586, Testing Accuracy: 0.9667\n",
      "\n"
     ]
    },
    {
     "name": "stdout",
     "output_type": "stream",
     "text": [
      "Epoch 200, Loss 0.0383\n",
      "Training Accuracy: 0.9592, Testing Accuracy: 0.9677\n",
      "\n"
     ]
    },
    {
     "name": "stdout",
     "output_type": "stream",
     "text": [
      "Epoch 210, Loss 0.0379\n",
      "Training Accuracy: 0.9595, Testing Accuracy: 0.9682\n",
      "\n"
     ]
    },
    {
     "name": "stdout",
     "output_type": "stream",
     "text": [
      "Epoch 220, Loss 0.0375\n",
      "Training Accuracy: 0.9603, Testing Accuracy: 0.9682\n",
      "\n"
     ]
    },
    {
     "name": "stdout",
     "output_type": "stream",
     "text": [
      "Epoch 230, Loss 0.0371\n",
      "Training Accuracy: 0.9603, Testing Accuracy: 0.9677\n",
      "\n"
     ]
    },
    {
     "name": "stdout",
     "output_type": "stream",
     "text": [
      "Epoch 240, Loss 0.0367\n",
      "Training Accuracy: 0.9606, Testing Accuracy: 0.9677\n",
      "\n"
     ]
    },
    {
     "data": {
      "text/plain": [
       "0.06299415609868206"
      ]
     },
     "execution_count": 23,
     "metadata": {},
     "output_type": "execute_result"
    }
   ],
   "source": [
    "lr_learner.train_loop(dl)"
   ]
  },
  {
   "cell_type": "code",
   "execution_count": 24,
   "id": "ca410940",
   "metadata": {
    "execution": {
     "iopub.execute_input": "2022-03-21T10:11:32.491541Z",
     "iopub.status.busy": "2022-03-21T10:11:32.490988Z",
     "iopub.status.idle": "2022-03-21T10:11:32.728575Z",
     "shell.execute_reply": "2022-03-21T10:11:32.728974Z"
    },
    "papermill": {
     "duration": 0.289423,
     "end_time": "2022-03-21T10:11:32.729127",
     "exception": false,
     "start_time": "2022-03-21T10:11:32.439704",
     "status": "completed"
    },
    "tags": []
   },
   "outputs": [
    {
     "data": {
      "text/plain": [
       "<matplotlib.legend.Legend at 0x7fe5e018dcc0>"
      ]
     },
     "execution_count": 24,
     "metadata": {},
     "output_type": "execute_result"
    },
    {
     "data": {
      "image/png": "[encoded data removed]",
      "text/plain": [
       "<Figure size 1080x720 with 1 Axes>"
      ]
     },
     "metadata": {
      "needs_background": "light"
     },
     "output_type": "display_data"
    }
   ],
   "source": [
    "#comparing the results of NN and LR\n",
    "plt.figure(figsize=(15,10))\n",
    "\n",
    "# Neural Network plots\n",
    "plt.plot(acc_nn.accuracies, 'r-', label = \"Training Accuracies - NN\")\n",
    "plt.plot(acc_nn.test_accuracies, 'g-', label = \"Testing Accuracies - NN\")\n",
    "\n",
    "# Logistic Regression plots\n",
    "plt.plot(acc_lr.accuracies, 'k-', label = \"Training Accuracies - LR\")\n",
    "plt.plot(acc_lr.test_accuracies, 'b-', label = \"Testing Accuracies - LR\")\n",
    "plt.legend()"
   ]
  },
  {
   "cell_type": "markdown",
   "id": "80dfb35c",
   "metadata": {
    "papermill": {
     "duration": 0.042666,
     "end_time": "2022-03-21T10:11:32.814677",
     "exception": false,
     "start_time": "2022-03-21T10:11:32.772011",
     "status": "completed"
    },
    "tags": []
   },
   "source": [
    "#### Plotting the outputs of this layer of the NN.\n"
   ]
  },
  {
   "cell_type": "code",
   "execution_count": 25,
   "id": "45eb2ff5",
   "metadata": {
    "execution": {
     "iopub.execute_input": "2022-03-21T10:11:32.912419Z",
     "iopub.status.busy": "2022-03-21T10:11:32.911857Z",
     "iopub.status.idle": "2022-03-21T10:11:32.927741Z",
     "shell.execute_reply": "2022-03-21T10:11:32.928186Z"
    },
    "papermill": {
     "duration": 0.070992,
     "end_time": "2022-03-21T10:11:32.928337",
     "exception": false,
     "start_time": "2022-03-21T10:11:32.857345",
     "status": "completed"
    },
    "tags": []
   },
   "outputs": [],
   "source": [
    "new_model = Model(layers[:-2])\n",
    "testing_plot = new_model(testing_data_x)"
   ]
  },
  {
   "cell_type": "code",
   "execution_count": 26,
   "id": "4c0a5485",
   "metadata": {
    "execution": {
     "iopub.execute_input": "2022-03-21T10:11:33.030849Z",
     "iopub.status.busy": "2022-03-21T10:11:33.030271Z",
     "iopub.status.idle": "2022-03-21T10:11:33.216398Z",
     "shell.execute_reply": "2022-03-21T10:11:33.215948Z"
    },
    "papermill": {
     "duration": 0.243959,
     "end_time": "2022-03-21T10:11:33.216525",
     "exception": false,
     "start_time": "2022-03-21T10:11:32.972566",
     "status": "completed"
    },
    "tags": []
   },
   "outputs": [
    {
     "data": {
      "text/plain": [
       "Text(0.5, 1.0, 'Outputs')"
      ]
     },
     "execution_count": 26,
     "metadata": {},
     "output_type": "execute_result"
    },
    {
     "data": {
      "image/png": "[encoded data removed]",
      "text/plain": [
       "<Figure size 576x504 with 1 Axes>"
      ]
     },
     "metadata": {
      "needs_background": "light"
     },
     "output_type": "display_data"
    }
   ],
   "source": [
    "# Plotting the scatter plot of points and color coding by class\n",
    "plt.figure(figsize=(8,7))\n",
    "plt.scatter(testing_plot[:,0], testing_plot[:,1], alpha = 0.1, c = y_test.ravel());\n",
    "plt.title('Outputs')"
   ]
  },
  {
   "cell_type": "markdown",
   "id": "a74fcf8f",
   "metadata": {
    "papermill": {
     "duration": 0.04426,
     "end_time": "2022-03-21T10:11:33.305296",
     "exception": false,
     "start_time": "2022-03-21T10:11:33.261036",
     "status": "completed"
    },
    "tags": []
   },
   "source": [
    "Probability contours"
   ]
  },
  {
   "cell_type": "code",
   "execution_count": 27,
   "id": "d0afc8e3",
   "metadata": {
    "execution": {
     "iopub.execute_input": "2022-03-21T10:11:33.436152Z",
     "iopub.status.busy": "2022-03-21T10:11:33.435227Z",
     "iopub.status.idle": "2022-03-21T10:11:33.446891Z",
     "shell.execute_reply": "2022-03-21T10:11:33.446356Z"
    },
    "papermill": {
     "duration": 0.097246,
     "end_time": "2022-03-21T10:11:33.447007",
     "exception": false,
     "start_time": "2022-03-21T10:11:33.349761",
     "status": "completed"
    },
    "tags": []
   },
   "outputs": [],
   "source": [
    "model_prob = Model(layers[-2:]) "
   ]
  },
  {
   "cell_type": "code",
   "execution_count": 28,
   "id": "9b96e238",
   "metadata": {
    "execution": {
     "iopub.execute_input": "2022-03-21T10:11:33.543451Z",
     "iopub.status.busy": "2022-03-21T10:11:33.542895Z",
     "iopub.status.idle": "2022-03-21T10:11:33.554759Z",
     "shell.execute_reply": "2022-03-21T10:11:33.555169Z"
    },
    "papermill": {
     "duration": 0.063815,
     "end_time": "2022-03-21T10:11:33.555324",
     "exception": false,
     "start_time": "2022-03-21T10:11:33.491509",
     "status": "completed"
    },
    "tags": []
   },
   "outputs": [],
   "source": [
    "#creating the x and y ranges according to the above generated plot.\n",
    "x_range = np.linspace(-4, 1, 100) \n",
    "y_range = np.linspace(-6, 6, 100) \n",
    "x_grid, y_grid = np.meshgrid(x_range, y_range) # x_grid and y_grig are of size 100 X 100\n",
    "\n",
    "# converting x_grid and y_grid to continuous arrays\n",
    "x_gridflat = np.ravel(x_grid)\n",
    "y_gridflat = np.ravel(y_grid)\n",
    "\n",
    "# The last layer of the current model takes two columns as input. Hence transpose of np.vstack() is required.\n",
    "X = np.vstack((x_gridflat, y_gridflat)).T\n",
    "\n",
    "prob_contour = model_prob(X).reshape(100,100) "
   ]
  },
  {
   "cell_type": "code",
   "execution_count": 29,
   "id": "da72499a",
   "metadata": {
    "execution": {
     "iopub.execute_input": "2022-03-21T10:11:33.656240Z",
     "iopub.status.busy": "2022-03-21T10:11:33.655682Z",
     "iopub.status.idle": "2022-03-21T10:11:33.896773Z",
     "shell.execute_reply": "2022-03-21T10:11:33.897209Z"
    },
    "papermill": {
     "duration": 0.296148,
     "end_time": "2022-03-21T10:11:33.897373",
     "exception": false,
     "start_time": "2022-03-21T10:11:33.601225",
     "status": "completed"
    },
    "tags": []
   },
   "outputs": [
    {
     "data": {
      "image/png": "[encoded data removed]",
      "text/plain": [
       "<Figure size 720x648 with 1 Axes>"
      ]
     },
     "metadata": {
      "needs_background": "light"
     },
     "output_type": "display_data"
    }
   ],
   "source": [
    "plt.figure(figsize=(10,9))\n",
    "plt.scatter(testing_plot[:,0], testing_plot[:,1], alpha = 0.1, c = y_test.ravel())\n",
    "contours = plt.contour(x_grid,y_grid,prob_contour)\n",
    "plt.title('Probability Contours')\n",
    "plt.clabel(contours, inline = True );"
   ]
  },
  {
   "cell_type": "code",
   "execution_count": null,
   "id": "e81b4ac7",
   "metadata": {
    "papermill": {
     "duration": 0.048128,
     "end_time": "2022-03-21T10:11:33.993165",
     "exception": false,
     "start_time": "2022-03-21T10:11:33.945037",
     "status": "completed"
    },
    "tags": []
   },
   "outputs": [],
   "source": []
  }
 ],
 "metadata": {
  "kernelspec": {
   "display_name": "Python 3",
   "language": "python",
   "name": "python3"
  },
  "language_info": {
   "codemirror_mode": {
    "name": "ipython",
    "version": 3
   },
   "file_extension": ".py",
   "mimetype": "text/x-python",
   "name": "python",
   "nbconvert_exporter": "python",
   "pygments_lexer": "ipython3",
   "version": "3.6.15"
  },
  "papermill": {
   "default_parameters": {},
   "duration": 106.94403,
   "end_time": "2022-03-21T10:11:34.560586",
   "environment_variables": {},
   "exception": null,
   "input_path": "2020-08-11-part2.ipynb",
   "output_path": "2020-08-11-part2.ipynb",
   "parameters": {},
   "start_time": "2022-03-21T10:09:47.616556",
   "version": "2.3.3"
  }
 },
 "nbformat": 4,
 "nbformat_minor": 5
}