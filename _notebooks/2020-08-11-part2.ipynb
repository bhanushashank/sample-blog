{
 "cells": [
  {
   "cell_type": "markdown",
   "id": "98380cd3",
   "metadata": {
    "papermill": {
     "duration": 0.032706,
     "end_time": "2021-08-26T10:07:22.053258",
     "exception": false,
     "start_time": "2021-08-26T10:07:22.020552",
     "status": "completed"
    },
    "tags": []
   },
   "source": [
    "# Distinguish Your Own Digits (DYOD)"
   ]
  },
  {
   "cell_type": "markdown",
   "id": "ef31240d",
   "metadata": {
    "papermill": {
     "duration": 0.027266,
     "end_time": "2021-08-26T10:07:22.109140",
     "exception": false,
     "start_time": "2021-08-26T10:07:22.081874",
     "status": "completed"
    },
    "tags": []
   },
   "source": [
    "You are going to write a classifier that distinguishes between the number 3 and number 8."
   ]
  },
  {
   "cell_type": "code",
   "execution_count": 1,
   "id": "b15c8646",
   "metadata": {
    "execution": {
     "iopub.execute_input": "2021-08-26T10:07:22.181198Z",
     "iopub.status.busy": "2021-08-26T10:07:22.180544Z",
     "iopub.status.idle": "2021-08-26T10:07:22.194696Z",
     "shell.execute_reply": "2021-08-26T10:07:22.194168Z"
    },
    "papermill": {
     "duration": 0.058419,
     "end_time": "2021-08-26T10:07:22.194890",
     "exception": false,
     "start_time": "2021-08-26T10:07:22.136471",
     "status": "completed"
    },
    "tags": []
   },
   "outputs": [],
   "source": [
    "%load_ext autoreload\n",
    "%autoreload 2"
   ]
  },
  {
   "cell_type": "code",
   "execution_count": 2,
   "id": "22ef38dc",
   "metadata": {
    "execution": {
     "iopub.execute_input": "2021-08-26T10:07:22.255767Z",
     "iopub.status.busy": "2021-08-26T10:07:22.255132Z",
     "iopub.status.idle": "2021-08-26T10:07:22.920915Z",
     "shell.execute_reply": "2021-08-26T10:07:22.920129Z"
    },
    "papermill": {
     "duration": 0.698015,
     "end_time": "2021-08-26T10:07:22.921047",
     "exception": false,
     "start_time": "2021-08-26T10:07:22.223032",
     "status": "completed"
    },
    "tags": []
   },
   "outputs": [],
   "source": [
    "%matplotlib inline\n",
    "import numpy as np\n",
    "import matplotlib.pyplot as plt\n",
    "import pandas as pd"
   ]
  },
  {
   "cell_type": "markdown",
   "id": "ba036198",
   "metadata": {
    "papermill": {
     "duration": 0.028908,
     "end_time": "2021-08-26T10:07:22.977524",
     "exception": false,
     "start_time": "2021-08-26T10:07:22.948616",
     "status": "completed"
    },
    "tags": []
   },
   "source": [
    "From the command line run `pip install mnist`. This is a library that will help you bring down the mnist dataset. If you run this from a notebook, you need to put  `!pip install mnist` in a cell by itself."
   ]
  },
  {
   "cell_type": "code",
   "execution_count": 3,
   "id": "bb6ad8a1",
   "metadata": {
    "execution": {
     "iopub.execute_input": "2021-08-26T10:07:23.036571Z",
     "iopub.status.busy": "2021-08-26T10:07:23.035968Z",
     "iopub.status.idle": "2021-08-26T10:07:25.814107Z",
     "shell.execute_reply": "2021-08-26T10:07:25.813197Z"
    },
    "papermill": {
     "duration": 2.809772,
     "end_time": "2021-08-26T10:07:25.814303",
     "exception": false,
     "start_time": "2021-08-26T10:07:23.004531",
     "status": "completed"
    },
    "tags": []
   },
   "outputs": [
    {
     "name": "stdout",
     "output_type": "stream",
     "text": [
      "Collecting mnist\r\n"
     ]
    },
    {
     "name": "stdout",
     "output_type": "stream",
     "text": [
      "  Downloading mnist-0.2.2-py2.py3-none-any.whl (3.5 kB)\r\n",
      "Requirement already satisfied: numpy in /opt/hostedtoolcache/Python/3.6.14/x64/lib/python3.6/site-packages (from mnist) (1.19.5)\r\n"
     ]
    },
    {
     "name": "stdout",
     "output_type": "stream",
     "text": [
      "Installing collected packages: mnist\r\n"
     ]
    },
    {
     "name": "stdout",
     "output_type": "stream",
     "text": [
      "Successfully installed mnist-0.2.2\r\n"
     ]
    }
   ],
   "source": [
    "!pip install mnist"
   ]
  },
  {
   "cell_type": "markdown",
   "id": "69df9c9a",
   "metadata": {
    "papermill": {
     "duration": 0.037085,
     "end_time": "2021-08-26T10:07:25.880989",
     "exception": false,
     "start_time": "2021-08-26T10:07:25.843904",
     "status": "completed"
    },
    "tags": []
   },
   "source": [
    "## Preparing the Data"
   ]
  },
  {
   "cell_type": "code",
   "execution_count": 4,
   "id": "7f69d806",
   "metadata": {
    "execution": {
     "iopub.execute_input": "2021-08-26T10:07:25.949448Z",
     "iopub.status.busy": "2021-08-26T10:07:25.948812Z",
     "iopub.status.idle": "2021-08-26T10:07:25.965201Z",
     "shell.execute_reply": "2021-08-26T10:07:25.964654Z"
    },
    "papermill": {
     "duration": 0.050009,
     "end_time": "2021-08-26T10:07:25.965450",
     "exception": false,
     "start_time": "2021-08-26T10:07:25.915441",
     "status": "completed"
    },
    "tags": []
   },
   "outputs": [],
   "source": [
    "import mnist"
   ]
  },
  {
   "cell_type": "code",
   "execution_count": 5,
   "id": "a411e44f",
   "metadata": {
    "execution": {
     "iopub.execute_input": "2021-08-26T10:07:26.027692Z",
     "iopub.status.busy": "2021-08-26T10:07:26.026804Z",
     "iopub.status.idle": "2021-08-26T10:07:26.766084Z",
     "shell.execute_reply": "2021-08-26T10:07:26.765535Z"
    },
    "papermill": {
     "duration": 0.77169,
     "end_time": "2021-08-26T10:07:26.766228",
     "exception": false,
     "start_time": "2021-08-26T10:07:25.994538",
     "status": "completed"
    },
    "tags": []
   },
   "outputs": [],
   "source": [
    "train_images = mnist.train_images()\n",
    "train_labels = mnist.train_labels()"
   ]
  },
  {
   "cell_type": "code",
   "execution_count": 6,
   "id": "dceab3a5",
   "metadata": {
    "execution": {
     "iopub.execute_input": "2021-08-26T10:07:26.828077Z",
     "iopub.status.busy": "2021-08-26T10:07:26.827431Z",
     "iopub.status.idle": "2021-08-26T10:07:26.848223Z",
     "shell.execute_reply": "2021-08-26T10:07:26.848731Z"
    },
    "papermill": {
     "duration": 0.053422,
     "end_time": "2021-08-26T10:07:26.848884",
     "exception": false,
     "start_time": "2021-08-26T10:07:26.795462",
     "status": "completed"
    },
    "tags": []
   },
   "outputs": [
    {
     "data": {
      "text/plain": [
       "((60000, 28, 28), (60000,))"
      ]
     },
     "execution_count": 6,
     "metadata": {},
     "output_type": "execute_result"
    }
   ],
   "source": [
    "train_images.shape, train_labels.shape"
   ]
  },
  {
   "cell_type": "code",
   "execution_count": 7,
   "id": "f50dc2bb",
   "metadata": {
    "execution": {
     "iopub.execute_input": "2021-08-26T10:07:26.912410Z",
     "iopub.status.busy": "2021-08-26T10:07:26.911770Z",
     "iopub.status.idle": "2021-08-26T10:07:27.162936Z",
     "shell.execute_reply": "2021-08-26T10:07:27.161931Z"
    },
    "papermill": {
     "duration": 0.285158,
     "end_time": "2021-08-26T10:07:27.163115",
     "exception": false,
     "start_time": "2021-08-26T10:07:26.877957",
     "status": "completed"
    },
    "tags": []
   },
   "outputs": [],
   "source": [
    "test_images = mnist.test_images()\n",
    "test_labels = mnist.test_labels()"
   ]
  },
  {
   "cell_type": "code",
   "execution_count": 8,
   "id": "fc38cf1b",
   "metadata": {
    "execution": {
     "iopub.execute_input": "2021-08-26T10:07:27.229983Z",
     "iopub.status.busy": "2021-08-26T10:07:27.228616Z",
     "iopub.status.idle": "2021-08-26T10:07:27.243544Z",
     "shell.execute_reply": "2021-08-26T10:07:27.242943Z"
    },
    "papermill": {
     "duration": 0.050018,
     "end_time": "2021-08-26T10:07:27.243674",
     "exception": false,
     "start_time": "2021-08-26T10:07:27.193656",
     "status": "completed"
    },
    "tags": []
   },
   "outputs": [
    {
     "data": {
      "text/plain": [
       "((10000, 28, 28), (10000,))"
      ]
     },
     "execution_count": 8,
     "metadata": {},
     "output_type": "execute_result"
    }
   ],
   "source": [
    "test_images.shape, test_labels.shape"
   ]
  },
  {
   "cell_type": "code",
   "execution_count": 9,
   "id": "f9ed8fe0",
   "metadata": {
    "execution": {
     "iopub.execute_input": "2021-08-26T10:07:27.310348Z",
     "iopub.status.busy": "2021-08-26T10:07:27.309742Z",
     "iopub.status.idle": "2021-08-26T10:07:27.489319Z",
     "shell.execute_reply": "2021-08-26T10:07:27.488803Z"
    },
    "papermill": {
     "duration": 0.21285,
     "end_time": "2021-08-26T10:07:27.489460",
     "exception": false,
     "start_time": "2021-08-26T10:07:27.276610",
     "status": "completed"
    },
    "tags": []
   },
   "outputs": [
    {
     "name": "stdout",
     "output_type": "stream",
     "text": [
      "2\n"
     ]
    },
    {
     "data": {
      "text/plain": [
       "<matplotlib.image.AxesImage at 0x7f9a093f2978>"
      ]
     },
     "execution_count": 9,
     "metadata": {},
     "output_type": "execute_result"
    },
    {
     "data": {
      "image/png": "[encoded data removed]",
      "text/plain": [
       "<Figure size 432x288 with 1 Axes>"
      ]
     },
     "metadata": {
      "needs_background": "light"
     },
     "output_type": "display_data"
    }
   ],
   "source": [
    "image_index = 7776 # You may select anything up to 60,000\n",
    "print(train_labels[image_index]) \n",
    "plt.imshow(train_images[image_index], cmap='Greys')"
   ]
  },
  {
   "cell_type": "markdown",
   "id": "a8d2388d",
   "metadata": {
    "papermill": {
     "duration": 0.030724,
     "end_time": "2021-08-26T10:07:27.551157",
     "exception": false,
     "start_time": "2021-08-26T10:07:27.520433",
     "status": "completed"
    },
    "tags": []
   },
   "source": [
    "## Filter data to get 3 and 8 out"
   ]
  },
  {
   "cell_type": "code",
   "execution_count": 10,
   "id": "776f7fc7",
   "metadata": {
    "execution": {
     "iopub.execute_input": "2021-08-26T10:07:27.628111Z",
     "iopub.status.busy": "2021-08-26T10:07:27.627423Z",
     "iopub.status.idle": "2021-08-26T10:07:27.645511Z",
     "shell.execute_reply": "2021-08-26T10:07:27.644964Z"
    },
    "papermill": {
     "duration": 0.06397,
     "end_time": "2021-08-26T10:07:27.645648",
     "exception": false,
     "start_time": "2021-08-26T10:07:27.581678",
     "status": "completed"
    },
    "tags": []
   },
   "outputs": [],
   "source": [
    "train_filter = np.where((train_labels == 3 ) | (train_labels == 8))\n",
    "test_filter = np.where((test_labels == 3) | (test_labels == 8))\n",
    "X_train, y_train = train_images[train_filter], train_labels[train_filter]\n",
    "X_test, y_test = test_images[test_filter], test_labels[test_filter]"
   ]
  },
  {
   "cell_type": "markdown",
   "id": "948f0b7e",
   "metadata": {
    "papermill": {
     "duration": 0.031615,
     "end_time": "2021-08-26T10:07:27.708286",
     "exception": false,
     "start_time": "2021-08-26T10:07:27.676671",
     "status": "completed"
    },
    "tags": []
   },
   "source": [
    "We normalize the pizel values in the 0 to 1 range"
   ]
  },
  {
   "cell_type": "code",
   "execution_count": 11,
   "id": "ee4c2166",
   "metadata": {
    "execution": {
     "iopub.execute_input": "2021-08-26T10:07:27.775729Z",
     "iopub.status.busy": "2021-08-26T10:07:27.775000Z",
     "iopub.status.idle": "2021-08-26T10:07:27.829422Z",
     "shell.execute_reply": "2021-08-26T10:07:27.829937Z"
    },
    "papermill": {
     "duration": 0.091238,
     "end_time": "2021-08-26T10:07:27.830095",
     "exception": false,
     "start_time": "2021-08-26T10:07:27.738857",
     "status": "completed"
    },
    "tags": []
   },
   "outputs": [],
   "source": [
    "X_train = X_train/255.\n",
    "X_test = X_test/255."
   ]
  },
  {
   "cell_type": "markdown",
   "id": "ddcf4fab",
   "metadata": {
    "papermill": {
     "duration": 0.037629,
     "end_time": "2021-08-26T10:07:27.903449",
     "exception": false,
     "start_time": "2021-08-26T10:07:27.865820",
     "status": "completed"
    },
    "tags": []
   },
   "source": [
    "And setup the labels as 1 (when the digit is 3) and 0 (when the digit is 8)"
   ]
  },
  {
   "cell_type": "code",
   "execution_count": 12,
   "id": "7dc908f2",
   "metadata": {
    "execution": {
     "iopub.execute_input": "2021-08-26T10:07:27.968632Z",
     "iopub.status.busy": "2021-08-26T10:07:27.968017Z",
     "iopub.status.idle": "2021-08-26T10:07:27.982733Z",
     "shell.execute_reply": "2021-08-26T10:07:27.982101Z"
    },
    "papermill": {
     "duration": 0.048954,
     "end_time": "2021-08-26T10:07:27.982865",
     "exception": false,
     "start_time": "2021-08-26T10:07:27.933911",
     "status": "completed"
    },
    "tags": []
   },
   "outputs": [],
   "source": [
    "y_train = 1*(y_train==3)\n",
    "y_test = 1*(y_test==3)"
   ]
  },
  {
   "cell_type": "code",
   "execution_count": 13,
   "id": "01e4e969",
   "metadata": {
    "execution": {
     "iopub.execute_input": "2021-08-26T10:07:28.051613Z",
     "iopub.status.busy": "2021-08-26T10:07:28.050534Z",
     "iopub.status.idle": "2021-08-26T10:07:28.065689Z",
     "shell.execute_reply": "2021-08-26T10:07:28.065177Z"
    },
    "papermill": {
     "duration": 0.050064,
     "end_time": "2021-08-26T10:07:28.065817",
     "exception": false,
     "start_time": "2021-08-26T10:07:28.015753",
     "status": "completed"
    },
    "tags": []
   },
   "outputs": [
    {
     "data": {
      "text/plain": [
       "((11982, 28, 28), (1984, 28, 28))"
      ]
     },
     "execution_count": 13,
     "metadata": {},
     "output_type": "execute_result"
    }
   ],
   "source": [
    "X_train.shape, X_test.shape"
   ]
  },
  {
   "cell_type": "markdown",
   "id": "5ccf3f85",
   "metadata": {
    "papermill": {
     "duration": 0.030754,
     "end_time": "2021-08-26T10:07:28.131894",
     "exception": false,
     "start_time": "2021-08-26T10:07:28.101140",
     "status": "completed"
    },
    "tags": []
   },
   "source": [
    "We reshape the data to flatten the image pixels into a set of features or co-variates:"
   ]
  },
  {
   "cell_type": "code",
   "execution_count": 14,
   "id": "5286a4a3",
   "metadata": {
    "execution": {
     "iopub.execute_input": "2021-08-26T10:07:28.198719Z",
     "iopub.status.busy": "2021-08-26T10:07:28.198112Z",
     "iopub.status.idle": "2021-08-26T10:07:28.214381Z",
     "shell.execute_reply": "2021-08-26T10:07:28.214863Z"
    },
    "papermill": {
     "duration": 0.051794,
     "end_time": "2021-08-26T10:07:28.215014",
     "exception": false,
     "start_time": "2021-08-26T10:07:28.163220",
     "status": "completed"
    },
    "tags": []
   },
   "outputs": [
    {
     "data": {
      "text/plain": [
       "((11982, 784), (1984, 784))"
      ]
     },
     "execution_count": 14,
     "metadata": {},
     "output_type": "execute_result"
    }
   ],
   "source": [
    "X_train = X_train.reshape(X_train.shape[0], -1)\n",
    "X_test = X_test.reshape(X_test.shape[0], -1)\n",
    "X_train.shape, X_test.shape"
   ]
  },
  {
   "cell_type": "code",
   "execution_count": 15,
   "id": "73c5f88a",
   "metadata": {
    "execution": {
     "iopub.execute_input": "2021-08-26T10:07:28.283060Z",
     "iopub.status.busy": "2021-08-26T10:07:28.282351Z",
     "iopub.status.idle": "2021-08-26T10:07:28.304044Z",
     "shell.execute_reply": "2021-08-26T10:07:28.303496Z"
    },
    "papermill": {
     "duration": 0.057963,
     "end_time": "2021-08-26T10:07:28.304186",
     "exception": false,
     "start_time": "2021-08-26T10:07:28.246223",
     "status": "completed"
    },
    "tags": []
   },
   "outputs": [],
   "source": [
    "#Impoting functions from 'Kudzu'\n",
    "from kudzu.model import Model\n",
    "from kudzu.train import Learner\n",
    "from kudzu.optim import GD\n",
    "from kudzu.data import Data, Sampler,Dataloader\n",
    "\n",
    "from kudzu.callbacks import AccCallback\n",
    "from kudzu.callbacks import ClfCallback\n",
    "\n",
    "from kudzu.loss import MSE\n",
    "\n",
    "from kudzu.layer import Sigmoid,Relu\n",
    "from kudzu.layer import Affine"
   ]
  },
  {
   "cell_type": "markdown",
   "id": "bc01172a",
   "metadata": {
    "papermill": {
     "duration": 0.031644,
     "end_time": "2021-08-26T10:07:28.368276",
     "exception": false,
     "start_time": "2021-08-26T10:07:28.336632",
     "status": "completed"
    },
    "tags": []
   },
   "source": [
    "### Let us create a `Config` class, to store important parameters. \n",
    "This class essentially plays the role of a dictionary."
   ]
  },
  {
   "cell_type": "code",
   "execution_count": 16,
   "id": "978281aa",
   "metadata": {
    "execution": {
     "iopub.execute_input": "2021-08-26T10:07:28.451157Z",
     "iopub.status.busy": "2021-08-26T10:07:28.450537Z",
     "iopub.status.idle": "2021-08-26T10:07:28.461084Z",
     "shell.execute_reply": "2021-08-26T10:07:28.460562Z"
    },
    "papermill": {
     "duration": 0.061812,
     "end_time": "2021-08-26T10:07:28.461213",
     "exception": false,
     "start_time": "2021-08-26T10:07:28.399401",
     "status": "completed"
    },
    "tags": []
   },
   "outputs": [],
   "source": [
    "class Config:\n",
    "    pass\n",
    "config = Config()\n",
    "config.lr = 0.001\n",
    "config.num_epochs = 250\n",
    "config.bs = 50"
   ]
  },
  {
   "cell_type": "markdown",
   "id": "1385fa59",
   "metadata": {
    "papermill": {
     "duration": 0.031319,
     "end_time": "2021-08-26T10:07:28.523886",
     "exception": false,
     "start_time": "2021-08-26T10:07:28.492567",
     "status": "completed"
    },
    "tags": []
   },
   "source": [
    "### Running Models with the Training data\n",
    "Details about the network layers:\n",
    "- A first affine layer has 784 inputs and does 100 affine transforms. These are followed by a Relu\n",
    "- A second affine layer has 100 inputs from the 100 activations of the past layer, and does 100 affine transforms. These are followed by a Relu\n",
    "- A third affine layer has 100 activations and does 2 affine transformations to create an embedding for visualization. There is no non-linearity here.\n",
    "- A final \"logistic regression\" which has an affine transform from 2 inputs to 1 output, which is squeezed through a sigmoid.\n"
   ]
  },
  {
   "cell_type": "code",
   "execution_count": 17,
   "id": "2b9c66db",
   "metadata": {
    "execution": {
     "iopub.execute_input": "2021-08-26T10:07:28.596811Z",
     "iopub.status.busy": "2021-08-26T10:07:28.596207Z",
     "iopub.status.idle": "2021-08-26T10:07:28.611448Z",
     "shell.execute_reply": "2021-08-26T10:07:28.610950Z"
    },
    "papermill": {
     "duration": 0.056605,
     "end_time": "2021-08-26T10:07:28.611583",
     "exception": false,
     "start_time": "2021-08-26T10:07:28.554978",
     "status": "completed"
    },
    "tags": []
   },
   "outputs": [],
   "source": [
    "data = Data(X_train, y_train.reshape(-1,1))\n",
    "sampler = Sampler(data, config.bs, shuffle=True)\n",
    "\n",
    "dl = Dataloader(data, sampler)\n",
    "\n",
    "opt = GD(config.lr)\n",
    "loss = MSE()"
   ]
  },
  {
   "cell_type": "code",
   "execution_count": 18,
   "id": "b275e4c2",
   "metadata": {
    "execution": {
     "iopub.execute_input": "2021-08-26T10:07:28.683612Z",
     "iopub.status.busy": "2021-08-26T10:07:28.683015Z",
     "iopub.status.idle": "2021-08-26T10:07:28.694290Z",
     "shell.execute_reply": "2021-08-26T10:07:28.694761Z"
    },
    "papermill": {
     "duration": 0.052055,
     "end_time": "2021-08-26T10:07:28.694911",
     "exception": false,
     "start_time": "2021-08-26T10:07:28.642856",
     "status": "completed"
    },
    "tags": []
   },
   "outputs": [],
   "source": [
    "training_data_x = X_train\n",
    "testing_data_x = X_test\n",
    "training_data_y = y_train.reshape(-1,1)\n",
    "testing_data_y = y_test.reshape(-1,1)"
   ]
  },
  {
   "cell_type": "code",
   "execution_count": 19,
   "id": "76951160",
   "metadata": {
    "execution": {
     "iopub.execute_input": "2021-08-26T10:07:28.762765Z",
     "iopub.status.busy": "2021-08-26T10:07:28.762149Z",
     "iopub.status.idle": "2021-08-26T10:07:28.780861Z",
     "shell.execute_reply": "2021-08-26T10:07:28.781397Z"
    },
    "papermill": {
     "duration": 0.055281,
     "end_time": "2021-08-26T10:07:28.781552",
     "exception": false,
     "start_time": "2021-08-26T10:07:28.726271",
     "status": "completed"
    },
    "tags": []
   },
   "outputs": [
    {
     "name": "stdout",
     "output_type": "stream",
     "text": [
      "xavier\n",
      "xavier\n",
      "xavier\n",
      "xavier\n",
      "xavier\n"
     ]
    }
   ],
   "source": [
    "layers = [Affine(\"first\", 784, 100), Relu(\"first\"), Affine(\"second\", 100, 100), Relu(\"second\"), Affine(\"third\", 100, 2), Affine(\"last\", 2, 1), Sigmoid(\"last\")]\n",
    "model_nn = Model(layers)\n",
    "model_lr = Model([Affine(\"logits\", 784, 1), Sigmoid(\"sigmoid\")])"
   ]
  },
  {
   "cell_type": "code",
   "execution_count": 20,
   "id": "6eede77a",
   "metadata": {
    "execution": {
     "iopub.execute_input": "2021-08-26T10:07:28.862728Z",
     "iopub.status.busy": "2021-08-26T10:07:28.862089Z",
     "iopub.status.idle": "2021-08-26T10:07:28.875959Z",
     "shell.execute_reply": "2021-08-26T10:07:28.875440Z"
    },
    "papermill": {
     "duration": 0.05145,
     "end_time": "2021-08-26T10:07:28.876096",
     "exception": false,
     "start_time": "2021-08-26T10:07:28.824646",
     "status": "completed"
    },
    "tags": []
   },
   "outputs": [],
   "source": [
    "nn_learner = Learner(loss, model_nn, opt, config.num_epochs)\n",
    "acc_nn = ClfCallback(nn_learner, config.bs, training_data_x , testing_data_x, training_data_y, testing_data_y)\n",
    "nn_learner.set_callbacks([acc_nn])"
   ]
  },
  {
   "cell_type": "code",
   "execution_count": 21,
   "id": "877b6cc7",
   "metadata": {
    "execution": {
     "iopub.execute_input": "2021-08-26T10:07:28.944584Z",
     "iopub.status.busy": "2021-08-26T10:07:28.943971Z",
     "iopub.status.idle": "2021-08-26T10:07:28.957407Z",
     "shell.execute_reply": "2021-08-26T10:07:28.956880Z"
    },
    "papermill": {
     "duration": 0.049076,
     "end_time": "2021-08-26T10:07:28.957545",
     "exception": false,
     "start_time": "2021-08-26T10:07:28.908469",
     "status": "completed"
    },
    "tags": []
   },
   "outputs": [],
   "source": [
    "lr_learner = Learner(loss, model_lr, opt, config.num_epochs)\n",
    "acc_lr = ClfCallback(lr_learner, config.bs, training_data_x , testing_data_x, training_data_y, testing_data_y)\n",
    "lr_learner.set_callbacks([acc_lr])"
   ]
  },
  {
   "cell_type": "code",
   "execution_count": 22,
   "id": "d9b133c3",
   "metadata": {
    "execution": {
     "iopub.execute_input": "2021-08-26T10:07:29.029042Z",
     "iopub.status.busy": "2021-08-26T10:07:29.028341Z",
     "iopub.status.idle": "2021-08-26T10:09:11.504303Z",
     "shell.execute_reply": "2021-08-26T10:09:11.505150Z"
    },
    "papermill": {
     "duration": 102.516002,
     "end_time": "2021-08-26T10:09:11.505309",
     "exception": false,
     "start_time": "2021-08-26T10:07:28.989307",
     "status": "completed"
    },
    "tags": []
   },
   "outputs": [
    {
     "name": "stdout",
     "output_type": "stream",
     "text": [
      "Epoch 0, Loss 0.2395\n",
      "Training Accuracy: 0.7344, Testing Accuracy: 0.7566\n",
      "\n"
     ]
    },
    {
     "name": "stdout",
     "output_type": "stream",
     "text": [
      "Epoch 10, Loss 0.157\n",
      "Training Accuracy: 0.8834, Testing Accuracy: 0.8916\n",
      "\n"
     ]
    },
    {
     "name": "stdout",
     "output_type": "stream",
     "text": [
      "Epoch 20, Loss 0.0832\n",
      "Training Accuracy: 0.9160, Testing Accuracy: 0.9229\n",
      "\n"
     ]
    },
    {
     "name": "stdout",
     "output_type": "stream",
     "text": [
      "Epoch 30, Loss 0.0577\n",
      "Training Accuracy: 0.9379, Testing Accuracy: 0.9496\n",
      "\n"
     ]
    },
    {
     "name": "stdout",
     "output_type": "stream",
     "text": [
      "Epoch 40, Loss 0.0463\n",
      "Training Accuracy: 0.9475, Testing Accuracy: 0.9577\n",
      "\n"
     ]
    },
    {
     "name": "stdout",
     "output_type": "stream",
     "text": [
      "Epoch 50, Loss 0.0402\n",
      "Training Accuracy: 0.9539, Testing Accuracy: 0.9627\n",
      "\n"
     ]
    },
    {
     "name": "stdout",
     "output_type": "stream",
     "text": [
      "Epoch 60, Loss 0.0365\n",
      "Training Accuracy: 0.9572, Testing Accuracy: 0.9632\n",
      "\n"
     ]
    },
    {
     "name": "stdout",
     "output_type": "stream",
     "text": [
      "Epoch 70, Loss 0.0339\n",
      "Training Accuracy: 0.9607, Testing Accuracy: 0.9637\n",
      "\n"
     ]
    },
    {
     "name": "stdout",
     "output_type": "stream",
     "text": [
      "Epoch 80, Loss 0.0319\n",
      "Training Accuracy: 0.9632, Testing Accuracy: 0.9662\n",
      "\n"
     ]
    },
    {
     "name": "stdout",
     "output_type": "stream",
     "text": [
      "Epoch 90, Loss 0.0304\n",
      "Training Accuracy: 0.9650, Testing Accuracy: 0.9652\n",
      "\n"
     ]
    },
    {
     "name": "stdout",
     "output_type": "stream",
     "text": [
      "Epoch 100, Loss 0.0291\n",
      "Training Accuracy: 0.9660, Testing Accuracy: 0.9652\n",
      "\n"
     ]
    },
    {
     "name": "stdout",
     "output_type": "stream",
     "text": [
      "Epoch 110, Loss 0.0281\n",
      "Training Accuracy: 0.9675, Testing Accuracy: 0.9657\n",
      "\n"
     ]
    },
    {
     "name": "stdout",
     "output_type": "stream",
     "text": [
      "Epoch 120, Loss 0.0271\n",
      "Training Accuracy: 0.9687, Testing Accuracy: 0.9672\n",
      "\n"
     ]
    },
    {
     "name": "stdout",
     "output_type": "stream",
     "text": [
      "Epoch 130, Loss 0.0263\n",
      "Training Accuracy: 0.9697, Testing Accuracy: 0.9677\n",
      "\n"
     ]
    },
    {
     "name": "stdout",
     "output_type": "stream",
     "text": [
      "Epoch 140, Loss 0.0256\n",
      "Training Accuracy: 0.9707, Testing Accuracy: 0.9693\n",
      "\n"
     ]
    },
    {
     "name": "stdout",
     "output_type": "stream",
     "text": [
      "Epoch 150, Loss 0.0249\n",
      "Training Accuracy: 0.9712, Testing Accuracy: 0.9703\n",
      "\n"
     ]
    },
    {
     "name": "stdout",
     "output_type": "stream",
     "text": [
      "Epoch 160, Loss 0.0243\n",
      "Training Accuracy: 0.9718, Testing Accuracy: 0.9703\n",
      "\n"
     ]
    },
    {
     "name": "stdout",
     "output_type": "stream",
     "text": [
      "Epoch 170, Loss 0.0237\n",
      "Training Accuracy: 0.9727, Testing Accuracy: 0.9698\n",
      "\n"
     ]
    },
    {
     "name": "stdout",
     "output_type": "stream",
     "text": [
      "Epoch 180, Loss 0.0232\n",
      "Training Accuracy: 0.9735, Testing Accuracy: 0.9693\n",
      "\n"
     ]
    },
    {
     "name": "stdout",
     "output_type": "stream",
     "text": [
      "Epoch 190, Loss 0.0227\n",
      "Training Accuracy: 0.9739, Testing Accuracy: 0.9693\n",
      "\n"
     ]
    },
    {
     "name": "stdout",
     "output_type": "stream",
     "text": [
      "Epoch 200, Loss 0.0222\n",
      "Training Accuracy: 0.9744, Testing Accuracy: 0.9698\n",
      "\n"
     ]
    },
    {
     "name": "stdout",
     "output_type": "stream",
     "text": [
      "Epoch 210, Loss 0.0217\n",
      "Training Accuracy: 0.9752, Testing Accuracy: 0.9703\n",
      "\n"
     ]
    },
    {
     "name": "stdout",
     "output_type": "stream",
     "text": [
      "Epoch 220, Loss 0.0213\n",
      "Training Accuracy: 0.9760, Testing Accuracy: 0.9713\n",
      "\n"
     ]
    },
    {
     "name": "stdout",
     "output_type": "stream",
     "text": [
      "Epoch 230, Loss 0.0209\n",
      "Training Accuracy: 0.9765, Testing Accuracy: 0.9713\n",
      "\n"
     ]
    },
    {
     "name": "stdout",
     "output_type": "stream",
     "text": [
      "Epoch 240, Loss 0.0205\n",
      "Training Accuracy: 0.9768, Testing Accuracy: 0.9713\n",
      "\n"
     ]
    },
    {
     "data": {
      "text/plain": [
       "0.02937367470464406"
      ]
     },
     "execution_count": 22,
     "metadata": {},
     "output_type": "execute_result"
    }
   ],
   "source": [
    "nn_learner.train_loop(dl)"
   ]
  },
  {
   "cell_type": "code",
   "execution_count": 23,
   "id": "e0163366",
   "metadata": {
    "execution": {
     "iopub.execute_input": "2021-08-26T10:09:11.601509Z",
     "iopub.status.busy": "2021-08-26T10:09:11.600785Z",
     "iopub.status.idle": "2021-08-26T10:09:28.758580Z",
     "shell.execute_reply": "2021-08-26T10:09:28.759373Z"
    },
    "papermill": {
     "duration": 17.213577,
     "end_time": "2021-08-26T10:09:28.759537",
     "exception": false,
     "start_time": "2021-08-26T10:09:11.545960",
     "status": "completed"
    },
    "tags": []
   },
   "outputs": [
    {
     "name": "stdout",
     "output_type": "stream",
     "text": [
      "Epoch 0, Loss 0.2273\n",
      "Training Accuracy: 0.7401, Testing Accuracy: 0.7404\n",
      "\n"
     ]
    },
    {
     "name": "stdout",
     "output_type": "stream",
     "text": [
      "Epoch 10, Loss 0.1034\n",
      "Training Accuracy: 0.9040, Testing Accuracy: 0.9183\n",
      "\n"
     ]
    },
    {
     "name": "stdout",
     "output_type": "stream",
     "text": [
      "Epoch 20, Loss 0.0803\n",
      "Training Accuracy: 0.9247, Testing Accuracy: 0.9385\n",
      "\n"
     ]
    },
    {
     "name": "stdout",
     "output_type": "stream",
     "text": [
      "Epoch 30, Loss 0.0693\n",
      "Training Accuracy: 0.9333, Testing Accuracy: 0.9481\n",
      "\n"
     ]
    },
    {
     "name": "stdout",
     "output_type": "stream",
     "text": [
      "Epoch 40, Loss 0.0626\n",
      "Training Accuracy: 0.9384, Testing Accuracy: 0.9496\n",
      "\n"
     ]
    },
    {
     "name": "stdout",
     "output_type": "stream",
     "text": [
      "Epoch 50, Loss 0.058\n",
      "Training Accuracy: 0.9427, Testing Accuracy: 0.9531\n",
      "\n"
     ]
    },
    {
     "name": "stdout",
     "output_type": "stream",
     "text": [
      "Epoch 60, Loss 0.0546\n",
      "Training Accuracy: 0.9462, Testing Accuracy: 0.9561\n",
      "\n"
     ]
    },
    {
     "name": "stdout",
     "output_type": "stream",
     "text": [
      "Epoch 70, Loss 0.052\n",
      "Training Accuracy: 0.9488, Testing Accuracy: 0.9582\n",
      "\n"
     ]
    },
    {
     "name": "stdout",
     "output_type": "stream",
     "text": [
      "Epoch 80, Loss 0.0498\n",
      "Training Accuracy: 0.9508, Testing Accuracy: 0.9597\n",
      "\n"
     ]
    },
    {
     "name": "stdout",
     "output_type": "stream",
     "text": [
      "Epoch 90, Loss 0.0481\n",
      "Training Accuracy: 0.9523, Testing Accuracy: 0.9622\n",
      "\n"
     ]
    },
    {
     "name": "stdout",
     "output_type": "stream",
     "text": [
      "Epoch 100, Loss 0.0466\n",
      "Training Accuracy: 0.9531, Testing Accuracy: 0.9627\n",
      "\n"
     ]
    },
    {
     "name": "stdout",
     "output_type": "stream",
     "text": [
      "Epoch 110, Loss 0.0453\n",
      "Training Accuracy: 0.9546, Testing Accuracy: 0.9637\n",
      "\n"
     ]
    },
    {
     "name": "stdout",
     "output_type": "stream",
     "text": [
      "Epoch 120, Loss 0.0442\n",
      "Training Accuracy: 0.9548, Testing Accuracy: 0.9642\n",
      "\n"
     ]
    },
    {
     "name": "stdout",
     "output_type": "stream",
     "text": [
      "Epoch 130, Loss 0.0432\n",
      "Training Accuracy: 0.9558, Testing Accuracy: 0.9652\n",
      "\n"
     ]
    },
    {
     "name": "stdout",
     "output_type": "stream",
     "text": [
      "Epoch 140, Loss 0.0424\n",
      "Training Accuracy: 0.9565, Testing Accuracy: 0.9652\n",
      "\n"
     ]
    },
    {
     "name": "stdout",
     "output_type": "stream",
     "text": [
      "Epoch 150, Loss 0.0416\n",
      "Training Accuracy: 0.9572, Testing Accuracy: 0.9662\n",
      "\n"
     ]
    },
    {
     "name": "stdout",
     "output_type": "stream",
     "text": [
      "Epoch 160, Loss 0.0409\n",
      "Training Accuracy: 0.9575, Testing Accuracy: 0.9662\n",
      "\n"
     ]
    },
    {
     "name": "stdout",
     "output_type": "stream",
     "text": [
      "Epoch 170, Loss 0.0403\n",
      "Training Accuracy: 0.9581, Testing Accuracy: 0.9657\n",
      "\n"
     ]
    },
    {
     "name": "stdout",
     "output_type": "stream",
     "text": [
      "Epoch 180, Loss 0.0397\n",
      "Training Accuracy: 0.9590, Testing Accuracy: 0.9657\n",
      "\n"
     ]
    },
    {
     "name": "stdout",
     "output_type": "stream",
     "text": [
      "Epoch 190, Loss 0.0392\n",
      "Training Accuracy: 0.9592, Testing Accuracy: 0.9667\n",
      "\n"
     ]
    },
    {
     "name": "stdout",
     "output_type": "stream",
     "text": [
      "Epoch 200, Loss 0.0387\n",
      "Training Accuracy: 0.9594, Testing Accuracy: 0.9667\n",
      "\n"
     ]
    },
    {
     "name": "stdout",
     "output_type": "stream",
     "text": [
      "Epoch 210, Loss 0.0382\n",
      "Training Accuracy: 0.9602, Testing Accuracy: 0.9667\n",
      "\n"
     ]
    },
    {
     "name": "stdout",
     "output_type": "stream",
     "text": [
      "Epoch 220, Loss 0.0378\n",
      "Training Accuracy: 0.9604, Testing Accuracy: 0.9667\n",
      "\n"
     ]
    },
    {
     "name": "stdout",
     "output_type": "stream",
     "text": [
      "Epoch 230, Loss 0.0374\n",
      "Training Accuracy: 0.9604, Testing Accuracy: 0.9677\n",
      "\n"
     ]
    },
    {
     "name": "stdout",
     "output_type": "stream",
     "text": [
      "Epoch 240, Loss 0.037\n",
      "Training Accuracy: 0.9605, Testing Accuracy: 0.9677\n",
      "\n"
     ]
    },
    {
     "data": {
      "text/plain": [
       "0.04332254981786708"
      ]
     },
     "execution_count": 23,
     "metadata": {},
     "output_type": "execute_result"
    }
   ],
   "source": [
    "lr_learner.train_loop(dl)"
   ]
  },
  {
   "cell_type": "code",
   "execution_count": 24,
   "id": "ca410940",
   "metadata": {
    "execution": {
     "iopub.execute_input": "2021-08-26T10:09:28.881631Z",
     "iopub.status.busy": "2021-08-26T10:09:28.880997Z",
     "iopub.status.idle": "2021-08-26T10:09:29.147906Z",
     "shell.execute_reply": "2021-08-26T10:09:29.147401Z"
    },
    "papermill": {
     "duration": 0.336961,
     "end_time": "2021-08-26T10:09:29.148063",
     "exception": false,
     "start_time": "2021-08-26T10:09:28.811102",
     "status": "completed"
    },
    "tags": []
   },
   "outputs": [
    {
     "data": {
      "text/plain": [
       "<matplotlib.legend.Legend at 0x7f99fc7aa9e8>"
      ]
     },
     "execution_count": 24,
     "metadata": {},
     "output_type": "execute_result"
    },
    {
     "data": {
      "image/png": "[encoded data removed]",
      "text/plain": [
       "<Figure size 1080x720 with 1 Axes>"
      ]
     },
     "metadata": {
      "needs_background": "light"
     },
     "output_type": "display_data"
    }
   ],
   "source": [
    "#comparing the results of NN and LR\n",
    "plt.figure(figsize=(15,10))\n",
    "\n",
    "# Neural Network plots\n",
    "plt.plot(acc_nn.accuracies, 'r-', label = \"Training Accuracies - NN\")\n",
    "plt.plot(acc_nn.test_accuracies, 'g-', label = \"Testing Accuracies - NN\")\n",
    "\n",
    "# Logistic Regression plots\n",
    "plt.plot(acc_lr.accuracies, 'k-', label = \"Training Accuracies - LR\")\n",
    "plt.plot(acc_lr.test_accuracies, 'b-', label = \"Testing Accuracies - LR\")\n",
    "plt.legend()"
   ]
  },
  {
   "cell_type": "markdown",
   "id": "80dfb35c",
   "metadata": {
    "papermill": {
     "duration": 0.048578,
     "end_time": "2021-08-26T10:09:29.246086",
     "exception": false,
     "start_time": "2021-08-26T10:09:29.197508",
     "status": "completed"
    },
    "tags": []
   },
   "source": [
    "#### Plotting the outputs of this layer of the NN.\n"
   ]
  },
  {
   "cell_type": "code",
   "execution_count": 25,
   "id": "45eb2ff5",
   "metadata": {
    "execution": {
     "iopub.execute_input": "2021-08-26T10:09:29.351975Z",
     "iopub.status.busy": "2021-08-26T10:09:29.350783Z",
     "iopub.status.idle": "2021-08-26T10:09:29.374949Z",
     "shell.execute_reply": "2021-08-26T10:09:29.375454Z"
    },
    "papermill": {
     "duration": 0.080734,
     "end_time": "2021-08-26T10:09:29.375609",
     "exception": false,
     "start_time": "2021-08-26T10:09:29.294875",
     "status": "completed"
    },
    "tags": []
   },
   "outputs": [],
   "source": [
    "new_model = Model(layers[:-2])\n",
    "testing_plot = new_model(testing_data_x)"
   ]
  },
  {
   "cell_type": "code",
   "execution_count": 26,
   "id": "4c0a5485",
   "metadata": {
    "execution": {
     "iopub.execute_input": "2021-08-26T10:09:29.501616Z",
     "iopub.status.busy": "2021-08-26T10:09:29.500997Z",
     "iopub.status.idle": "2021-08-26T10:09:29.767735Z",
     "shell.execute_reply": "2021-08-26T10:09:29.767248Z"
    },
    "papermill": {
     "duration": 0.327701,
     "end_time": "2021-08-26T10:09:29.767866",
     "exception": false,
     "start_time": "2021-08-26T10:09:29.440165",
     "status": "completed"
    },
    "tags": []
   },
   "outputs": [
    {
     "data": {
      "text/plain": [
       "Text(0.5, 1.0, 'Outputs')"
      ]
     },
     "execution_count": 26,
     "metadata": {},
     "output_type": "execute_result"
    },
    {
     "data": {
      "image/png": "[encoded data removed]",
      "text/plain": [
       "<Figure size 576x504 with 1 Axes>"
      ]
     },
     "metadata": {
      "needs_background": "light"
     },
     "output_type": "display_data"
    }
   ],
   "source": [
    "# Plotting the scatter plot of points and color coding by class\n",
    "plt.figure(figsize=(8,7))\n",
    "plt.scatter(testing_plot[:,0], testing_plot[:,1], alpha = 0.1, c = y_test.ravel());\n",
    "plt.title('Outputs')"
   ]
  },
  {
   "cell_type": "markdown",
   "id": "a74fcf8f",
   "metadata": {
    "papermill": {
     "duration": 0.052182,
     "end_time": "2021-08-26T10:09:29.879105",
     "exception": false,
     "start_time": "2021-08-26T10:09:29.826923",
     "status": "completed"
    },
    "tags": []
   },
   "source": [
    "Probability contours"
   ]
  },
  {
   "cell_type": "code",
   "execution_count": 27,
   "id": "d0afc8e3",
   "metadata": {
    "execution": {
     "iopub.execute_input": "2021-08-26T10:09:30.001411Z",
     "iopub.status.busy": "2021-08-26T10:09:30.000802Z",
     "iopub.status.idle": "2021-08-26T10:09:30.011151Z",
     "shell.execute_reply": "2021-08-26T10:09:30.010414Z"
    },
    "papermill": {
     "duration": 0.070535,
     "end_time": "2021-08-26T10:09:30.011319",
     "exception": false,
     "start_time": "2021-08-26T10:09:29.940784",
     "status": "completed"
    },
    "tags": []
   },
   "outputs": [],
   "source": [
    "model_prob = Model(layers[-2:]) "
   ]
  },
  {
   "cell_type": "code",
   "execution_count": 28,
   "id": "9b96e238",
   "metadata": {
    "execution": {
     "iopub.execute_input": "2021-08-26T10:09:30.124727Z",
     "iopub.status.busy": "2021-08-26T10:09:30.124127Z",
     "iopub.status.idle": "2021-08-26T10:09:30.139147Z",
     "shell.execute_reply": "2021-08-26T10:09:30.139590Z"
    },
    "papermill": {
     "duration": 0.073641,
     "end_time": "2021-08-26T10:09:30.139745",
     "exception": false,
     "start_time": "2021-08-26T10:09:30.066104",
     "status": "completed"
    },
    "tags": []
   },
   "outputs": [],
   "source": [
    "#creating the x and y ranges according to the above generated plot.\n",
    "x_range = np.linspace(-4, 1, 100) \n",
    "y_range = np.linspace(-6, 6, 100) \n",
    "x_grid, y_grid = np.meshgrid(x_range, y_range) # x_grid and y_grig are of size 100 X 100\n",
    "\n",
    "# converting x_grid and y_grid to continuous arrays\n",
    "x_gridflat = np.ravel(x_grid)\n",
    "y_gridflat = np.ravel(y_grid)\n",
    "\n",
    "# The last layer of the current model takes two columns as input. Hence transpose of np.vstack() is required.\n",
    "X = np.vstack((x_gridflat, y_gridflat)).T\n",
    "\n",
    "prob_contour = model_prob(X).reshape(100,100) "
   ]
  },
  {
   "cell_type": "code",
   "execution_count": 29,
   "id": "da72499a",
   "metadata": {
    "execution": {
     "iopub.execute_input": "2021-08-26T10:09:30.309228Z",
     "iopub.status.busy": "2021-08-26T10:09:30.308667Z",
     "iopub.status.idle": "2021-08-26T10:09:30.609990Z",
     "shell.execute_reply": "2021-08-26T10:09:30.610474Z"
    },
    "papermill": {
     "duration": 0.370244,
     "end_time": "2021-08-26T10:09:30.610626",
     "exception": false,
     "start_time": "2021-08-26T10:09:30.240382",
     "status": "completed"
    },
    "tags": []
   },
   "outputs": [
    {
     "data": {
      "image/png": "[encoded data removed]",
      "text/plain": [
       "<Figure size 720x648 with 1 Axes>"
      ]
     },
     "metadata": {
      "needs_background": "light"
     },
     "output_type": "display_data"
    }
   ],
   "source": [
    "plt.figure(figsize=(10,9))\n",
    "plt.scatter(testing_plot[:,0], testing_plot[:,1], alpha = 0.1, c = y_test.ravel())\n",
    "contours = plt.contour(x_grid,y_grid,prob_contour)\n",
    "plt.title('Probability Contours')\n",
    "plt.clabel(contours, inline = True );"
   ]
  },
  {
   "cell_type": "code",
   "execution_count": null,
   "id": "e81b4ac7",
   "metadata": {
    "papermill": {
     "duration": 0.055372,
     "end_time": "2021-08-26T10:09:30.722437",
     "exception": false,
     "start_time": "2021-08-26T10:09:30.667065",
     "status": "completed"
    },
    "tags": []
   },
   "outputs": [],
   "source": []
  }
 ],
 "metadata": {
  "kernelspec": {
   "display_name": "Python 3",
   "language": "python",
   "name": "python3"
  },
  "language_info": {
   "codemirror_mode": {
    "name": "ipython",
    "version": 3
   },
   "file_extension": ".py",
   "mimetype": "text/x-python",
   "name": "python",
   "nbconvert_exporter": "python",
   "pygments_lexer": "ipython3",
   "version": "3.6.14"
  },
  "papermill": {
   "default_parameters": {},
   "duration": 130.28115,
   "end_time": "2021-08-26T10:09:31.197974",
   "environment_variables": {},
   "exception": null,
   "input_path": "2020-08-11-part2.ipynb",
   "output_path": "2020-08-11-part2.ipynb",
   "parameters": {},
   "start_time": "2021-08-26T10:07:20.916824",
   "version": "2.3.3"
  }
 },
 "nbformat": 4,
 "nbformat_minor": 5
}