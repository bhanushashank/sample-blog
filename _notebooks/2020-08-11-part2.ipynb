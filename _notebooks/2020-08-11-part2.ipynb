{
 "cells": [
  {
   "cell_type": "markdown",
   "id": "98380cd3",
   "metadata": {
    "papermill": {
     "duration": 0.029325,
     "end_time": "2022-09-08T10:11:11.643423",
     "exception": false,
     "start_time": "2022-09-08T10:11:11.614098",
     "status": "completed"
    },
    "tags": []
   },
   "source": [
    "# Distinguish Your Own Digits (DYOD)"
   ]
  },
  {
   "cell_type": "markdown",
   "id": "ef31240d",
   "metadata": {
    "papermill": {
     "duration": 0.023646,
     "end_time": "2022-09-08T10:11:11.695689",
     "exception": false,
     "start_time": "2022-09-08T10:11:11.672043",
     "status": "completed"
    },
    "tags": []
   },
   "source": [
    "You are going to write a classifier that distinguishes between the number 3 and number 8."
   ]
  },
  {
   "cell_type": "code",
   "execution_count": 1,
   "id": "b15c8646",
   "metadata": {
    "execution": {
     "iopub.execute_input": "2022-09-08T10:11:11.754384Z",
     "iopub.status.busy": "2022-09-08T10:11:11.753780Z",
     "iopub.status.idle": "2022-09-08T10:11:11.764583Z",
     "shell.execute_reply": "2022-09-08T10:11:11.765060Z"
    },
    "papermill": {
     "duration": 0.045914,
     "end_time": "2022-09-08T10:11:11.765212",
     "exception": false,
     "start_time": "2022-09-08T10:11:11.719298",
     "status": "completed"
    },
    "tags": []
   },
   "outputs": [],
   "source": [
    "%load_ext autoreload\n",
    "%autoreload 2"
   ]
  },
  {
   "cell_type": "code",
   "execution_count": 2,
   "id": "22ef38dc",
   "metadata": {
    "execution": {
     "iopub.execute_input": "2022-09-08T10:11:11.816528Z",
     "iopub.status.busy": "2022-09-08T10:11:11.815949Z",
     "iopub.status.idle": "2022-09-08T10:11:12.368695Z",
     "shell.execute_reply": "2022-09-08T10:11:12.368180Z"
    },
    "papermill": {
     "duration": 0.579907,
     "end_time": "2022-09-08T10:11:12.368824",
     "exception": false,
     "start_time": "2022-09-08T10:11:11.788917",
     "status": "completed"
    },
    "tags": []
   },
   "outputs": [],
   "source": [
    "%matplotlib inline\n",
    "import numpy as np\n",
    "import matplotlib.pyplot as plt\n",
    "import pandas as pd"
   ]
  },
  {
   "cell_type": "markdown",
   "id": "ba036198",
   "metadata": {
    "papermill": {
     "duration": 0.023746,
     "end_time": "2022-09-08T10:11:12.416444",
     "exception": false,
     "start_time": "2022-09-08T10:11:12.392698",
     "status": "completed"
    },
    "tags": []
   },
   "source": [
    "From the command line run `pip install mnist`. This is a library that will help you bring down the mnist dataset. If you run this from a notebook, you need to put  `!pip install mnist` in a cell by itself."
   ]
  },
  {
   "cell_type": "code",
   "execution_count": 3,
   "id": "bb6ad8a1",
   "metadata": {
    "execution": {
     "iopub.execute_input": "2022-09-08T10:11:12.484381Z",
     "iopub.status.busy": "2022-09-08T10:11:12.481667Z",
     "iopub.status.idle": "2022-09-08T10:11:14.145261Z",
     "shell.execute_reply": "2022-09-08T10:11:14.144701Z"
    },
    "papermill": {
     "duration": 1.705203,
     "end_time": "2022-09-08T10:11:14.145400",
     "exception": false,
     "start_time": "2022-09-08T10:11:12.440197",
     "status": "completed"
    },
    "tags": []
   },
   "outputs": [
    {
     "name": "stdout",
     "output_type": "stream",
     "text": [
      "Collecting mnist\r\n",
      "  Downloading mnist-0.2.2-py2.py3-none-any.whl (3.5 kB)\r\n"
     ]
    },
    {
     "name": "stdout",
     "output_type": "stream",
     "text": [
      "Requirement already satisfied: numpy in /opt/hostedtoolcache/Python/3.6.15/x64/lib/python3.6/site-packages (from mnist) (1.19.5)\r\n"
     ]
    },
    {
     "name": "stdout",
     "output_type": "stream",
     "text": [
      "Installing collected packages: mnist\r\n",
      "Successfully installed mnist-0.2.2\r\n"
     ]
    }
   ],
   "source": [
    "!pip install mnist"
   ]
  },
  {
   "cell_type": "markdown",
   "id": "69df9c9a",
   "metadata": {
    "papermill": {
     "duration": 0.024497,
     "end_time": "2022-09-08T10:11:14.199261",
     "exception": false,
     "start_time": "2022-09-08T10:11:14.174764",
     "status": "completed"
    },
    "tags": []
   },
   "source": [
    "## Preparing the Data"
   ]
  },
  {
   "cell_type": "code",
   "execution_count": 4,
   "id": "7f69d806",
   "metadata": {
    "execution": {
     "iopub.execute_input": "2022-09-08T10:11:14.263843Z",
     "iopub.status.busy": "2022-09-08T10:11:14.258311Z",
     "iopub.status.idle": "2022-09-08T10:11:14.269428Z",
     "shell.execute_reply": "2022-09-08T10:11:14.269905Z"
    },
    "papermill": {
     "duration": 0.046549,
     "end_time": "2022-09-08T10:11:14.270042",
     "exception": false,
     "start_time": "2022-09-08T10:11:14.223493",
     "status": "completed"
    },
    "tags": []
   },
   "outputs": [],
   "source": [
    "import mnist"
   ]
  },
  {
   "cell_type": "code",
   "execution_count": 5,
   "id": "a411e44f",
   "metadata": {
    "execution": {
     "iopub.execute_input": "2022-09-08T10:11:14.322491Z",
     "iopub.status.busy": "2022-09-08T10:11:14.321914Z",
     "iopub.status.idle": "2022-09-08T10:11:14.962103Z",
     "shell.execute_reply": "2022-09-08T10:11:14.961191Z"
    },
    "papermill": {
     "duration": 0.667853,
     "end_time": "2022-09-08T10:11:14.962236",
     "exception": false,
     "start_time": "2022-09-08T10:11:14.294383",
     "status": "completed"
    },
    "tags": []
   },
   "outputs": [],
   "source": [
    "train_images = mnist.train_images()\n",
    "train_labels = mnist.train_labels()"
   ]
  },
  {
   "cell_type": "code",
   "execution_count": 6,
   "id": "dceab3a5",
   "metadata": {
    "execution": {
     "iopub.execute_input": "2022-09-08T10:11:15.016110Z",
     "iopub.status.busy": "2022-09-08T10:11:15.015511Z",
     "iopub.status.idle": "2022-09-08T10:11:15.031524Z",
     "shell.execute_reply": "2022-09-08T10:11:15.031020Z"
    },
    "papermill": {
     "duration": 0.044592,
     "end_time": "2022-09-08T10:11:15.031640",
     "exception": false,
     "start_time": "2022-09-08T10:11:14.987048",
     "status": "completed"
    },
    "tags": []
   },
   "outputs": [
    {
     "data": {
      "text/plain": [
       "((60000, 28, 28), (60000,))"
      ]
     },
     "execution_count": 6,
     "metadata": {},
     "output_type": "execute_result"
    }
   ],
   "source": [
    "train_images.shape, train_labels.shape"
   ]
  },
  {
   "cell_type": "code",
   "execution_count": 7,
   "id": "f50dc2bb",
   "metadata": {
    "execution": {
     "iopub.execute_input": "2022-09-08T10:11:15.092689Z",
     "iopub.status.busy": "2022-09-08T10:11:15.092010Z",
     "iopub.status.idle": "2022-09-08T10:11:15.304087Z",
     "shell.execute_reply": "2022-09-08T10:11:15.303099Z"
    },
    "papermill": {
     "duration": 0.24785,
     "end_time": "2022-09-08T10:11:15.304228",
     "exception": false,
     "start_time": "2022-09-08T10:11:15.056378",
     "status": "completed"
    },
    "tags": []
   },
   "outputs": [],
   "source": [
    "test_images = mnist.test_images()\n",
    "test_labels = mnist.test_labels()"
   ]
  },
  {
   "cell_type": "code",
   "execution_count": 8,
   "id": "fc38cf1b",
   "metadata": {
    "execution": {
     "iopub.execute_input": "2022-09-08T10:11:15.358856Z",
     "iopub.status.busy": "2022-09-08T10:11:15.358265Z",
     "iopub.status.idle": "2022-09-08T10:11:15.372846Z",
     "shell.execute_reply": "2022-09-08T10:11:15.372366Z"
    },
    "papermill": {
     "duration": 0.043272,
     "end_time": "2022-09-08T10:11:15.372963",
     "exception": false,
     "start_time": "2022-09-08T10:11:15.329691",
     "status": "completed"
    },
    "tags": []
   },
   "outputs": [
    {
     "data": {
      "text/plain": [
       "((10000, 28, 28), (10000,))"
      ]
     },
     "execution_count": 8,
     "metadata": {},
     "output_type": "execute_result"
    }
   ],
   "source": [
    "test_images.shape, test_labels.shape"
   ]
  },
  {
   "cell_type": "code",
   "execution_count": 9,
   "id": "f9ed8fe0",
   "metadata": {
    "execution": {
     "iopub.execute_input": "2022-09-08T10:11:15.441131Z",
     "iopub.status.busy": "2022-09-08T10:11:15.437070Z",
     "iopub.status.idle": "2022-09-08T10:11:15.574973Z",
     "shell.execute_reply": "2022-09-08T10:11:15.575461Z"
    },
    "papermill": {
     "duration": 0.177512,
     "end_time": "2022-09-08T10:11:15.575609",
     "exception": false,
     "start_time": "2022-09-08T10:11:15.398097",
     "status": "completed"
    },
    "tags": []
   },
   "outputs": [
    {
     "name": "stdout",
     "output_type": "stream",
     "text": [
      "2\n"
     ]
    },
    {
     "data": {
      "text/plain": [
       "<matplotlib.image.AxesImage at 0x7fd7864fcd30>"
      ]
     },
     "execution_count": 9,
     "metadata": {},
     "output_type": "execute_result"
    },
    {
     "data": {
      "image/png": "[encoded data removed]",
      "text/plain": [
       "<Figure size 432x288 with 1 Axes>"
      ]
     },
     "metadata": {
      "needs_background": "light"
     },
     "output_type": "display_data"
    }
   ],
   "source": [
    "image_index = 7776 # You may select anything up to 60,000\n",
    "print(train_labels[image_index]) \n",
    "plt.imshow(train_images[image_index], cmap='Greys')"
   ]
  },
  {
   "cell_type": "markdown",
   "id": "a8d2388d",
   "metadata": {
    "papermill": {
     "duration": 0.026177,
     "end_time": "2022-09-08T10:11:15.628074",
     "exception": false,
     "start_time": "2022-09-08T10:11:15.601897",
     "status": "completed"
    },
    "tags": []
   },
   "source": [
    "## Filter data to get 3 and 8 out"
   ]
  },
  {
   "cell_type": "code",
   "execution_count": 10,
   "id": "776f7fc7",
   "metadata": {
    "execution": {
     "iopub.execute_input": "2022-09-08T10:11:15.697946Z",
     "iopub.status.busy": "2022-09-08T10:11:15.696541Z",
     "iopub.status.idle": "2022-09-08T10:11:15.711585Z",
     "shell.execute_reply": "2022-09-08T10:11:15.710729Z"
    },
    "papermill": {
     "duration": 0.057486,
     "end_time": "2022-09-08T10:11:15.711706",
     "exception": false,
     "start_time": "2022-09-08T10:11:15.654220",
     "status": "completed"
    },
    "tags": []
   },
   "outputs": [],
   "source": [
    "train_filter = np.where((train_labels == 3 ) | (train_labels == 8))\n",
    "test_filter = np.where((test_labels == 3) | (test_labels == 8))\n",
    "X_train, y_train = train_images[train_filter], train_labels[train_filter]\n",
    "X_test, y_test = test_images[test_filter], test_labels[test_filter]"
   ]
  },
  {
   "cell_type": "markdown",
   "id": "948f0b7e",
   "metadata": {
    "papermill": {
     "duration": 0.027051,
     "end_time": "2022-09-08T10:11:15.764971",
     "exception": false,
     "start_time": "2022-09-08T10:11:15.737920",
     "status": "completed"
    },
    "tags": []
   },
   "source": [
    "We normalize the pizel values in the 0 to 1 range"
   ]
  },
  {
   "cell_type": "code",
   "execution_count": 11,
   "id": "ee4c2166",
   "metadata": {
    "execution": {
     "iopub.execute_input": "2022-09-08T10:11:15.821507Z",
     "iopub.status.busy": "2022-09-08T10:11:15.820910Z",
     "iopub.status.idle": "2022-09-08T10:11:15.869594Z",
     "shell.execute_reply": "2022-09-08T10:11:15.870082Z"
    },
    "papermill": {
     "duration": 0.079088,
     "end_time": "2022-09-08T10:11:15.870230",
     "exception": false,
     "start_time": "2022-09-08T10:11:15.791142",
     "status": "completed"
    },
    "tags": []
   },
   "outputs": [],
   "source": [
    "X_train = X_train/255.\n",
    "X_test = X_test/255."
   ]
  },
  {
   "cell_type": "markdown",
   "id": "ddcf4fab",
   "metadata": {
    "papermill": {
     "duration": 0.026117,
     "end_time": "2022-09-08T10:11:15.922874",
     "exception": false,
     "start_time": "2022-09-08T10:11:15.896757",
     "status": "completed"
    },
    "tags": []
   },
   "source": [
    "And setup the labels as 1 (when the digit is 3) and 0 (when the digit is 8)"
   ]
  },
  {
   "cell_type": "code",
   "execution_count": 12,
   "id": "7dc908f2",
   "metadata": {
    "execution": {
     "iopub.execute_input": "2022-09-08T10:11:15.992948Z",
     "iopub.status.busy": "2022-09-08T10:11:15.992341Z",
     "iopub.status.idle": "2022-09-08T10:11:15.998463Z",
     "shell.execute_reply": "2022-09-08T10:11:15.998909Z"
    },
    "papermill": {
     "duration": 0.050231,
     "end_time": "2022-09-08T10:11:15.999046",
     "exception": false,
     "start_time": "2022-09-08T10:11:15.948815",
     "status": "completed"
    },
    "tags": []
   },
   "outputs": [],
   "source": [
    "y_train = 1*(y_train==3)\n",
    "y_test = 1*(y_test==3)"
   ]
  },
  {
   "cell_type": "code",
   "execution_count": 13,
   "id": "01e4e969",
   "metadata": {
    "execution": {
     "iopub.execute_input": "2022-09-08T10:11:16.063800Z",
     "iopub.status.busy": "2022-09-08T10:11:16.054621Z",
     "iopub.status.idle": "2022-09-08T10:11:16.070075Z",
     "shell.execute_reply": "2022-09-08T10:11:16.070551Z"
    },
    "papermill": {
     "duration": 0.045374,
     "end_time": "2022-09-08T10:11:16.070685",
     "exception": false,
     "start_time": "2022-09-08T10:11:16.025311",
     "status": "completed"
    },
    "tags": []
   },
   "outputs": [
    {
     "data": {
      "text/plain": [
       "((11982, 28, 28), (1984, 28, 28))"
      ]
     },
     "execution_count": 13,
     "metadata": {},
     "output_type": "execute_result"
    }
   ],
   "source": [
    "X_train.shape, X_test.shape"
   ]
  },
  {
   "cell_type": "markdown",
   "id": "5ccf3f85",
   "metadata": {
    "papermill": {
     "duration": 0.026276,
     "end_time": "2022-09-08T10:11:16.123223",
     "exception": false,
     "start_time": "2022-09-08T10:11:16.096947",
     "status": "completed"
    },
    "tags": []
   },
   "source": [
    "We reshape the data to flatten the image pixels into a set of features or co-variates:"
   ]
  },
  {
   "cell_type": "code",
   "execution_count": 14,
   "id": "5286a4a3",
   "metadata": {
    "execution": {
     "iopub.execute_input": "2022-09-08T10:11:16.202017Z",
     "iopub.status.busy": "2022-09-08T10:11:16.201409Z",
     "iopub.status.idle": "2022-09-08T10:11:16.206673Z",
     "shell.execute_reply": "2022-09-08T10:11:16.207481Z"
    },
    "papermill": {
     "duration": 0.057998,
     "end_time": "2022-09-08T10:11:16.207621",
     "exception": false,
     "start_time": "2022-09-08T10:11:16.149623",
     "status": "completed"
    },
    "tags": []
   },
   "outputs": [
    {
     "data": {
      "text/plain": [
       "((11982, 784), (1984, 784))"
      ]
     },
     "execution_count": 14,
     "metadata": {},
     "output_type": "execute_result"
    }
   ],
   "source": [
    "X_train = X_train.reshape(X_train.shape[0], -1)\n",
    "X_test = X_test.reshape(X_test.shape[0], -1)\n",
    "X_train.shape, X_test.shape"
   ]
  },
  {
   "cell_type": "code",
   "execution_count": 15,
   "id": "73c5f88a",
   "metadata": {
    "execution": {
     "iopub.execute_input": "2022-09-08T10:11:16.269981Z",
     "iopub.status.busy": "2022-09-08T10:11:16.269397Z",
     "iopub.status.idle": "2022-09-08T10:11:16.289426Z",
     "shell.execute_reply": "2022-09-08T10:11:16.288936Z"
    },
    "papermill": {
     "duration": 0.055106,
     "end_time": "2022-09-08T10:11:16.289544",
     "exception": false,
     "start_time": "2022-09-08T10:11:16.234438",
     "status": "completed"
    },
    "tags": []
   },
   "outputs": [],
   "source": [
    "#Impoting functions from 'Kudzu'\n",
    "from kudzu.model import Model\n",
    "from kudzu.train import Learner\n",
    "from kudzu.optim import GD\n",
    "from kudzu.data import Data, Sampler,Dataloader\n",
    "\n",
    "from kudzu.callbacks import AccCallback\n",
    "from kudzu.callbacks import ClfCallback\n",
    "\n",
    "from kudzu.loss import MSE\n",
    "\n",
    "from kudzu.layer import Sigmoid,Relu\n",
    "from kudzu.layer import Affine"
   ]
  },
  {
   "cell_type": "markdown",
   "id": "bc01172a",
   "metadata": {
    "papermill": {
     "duration": 0.026806,
     "end_time": "2022-09-08T10:11:16.343040",
     "exception": false,
     "start_time": "2022-09-08T10:11:16.316234",
     "status": "completed"
    },
    "tags": []
   },
   "source": [
    "### Let us create a `Config` class, to store important parameters. \n",
    "This class essentially plays the role of a dictionary."
   ]
  },
  {
   "cell_type": "code",
   "execution_count": 16,
   "id": "978281aa",
   "metadata": {
    "execution": {
     "iopub.execute_input": "2022-09-08T10:11:16.400385Z",
     "iopub.status.busy": "2022-09-08T10:11:16.399794Z",
     "iopub.status.idle": "2022-09-08T10:11:16.412892Z",
     "shell.execute_reply": "2022-09-08T10:11:16.412417Z"
    },
    "papermill": {
     "duration": 0.043471,
     "end_time": "2022-09-08T10:11:16.413005",
     "exception": false,
     "start_time": "2022-09-08T10:11:16.369534",
     "status": "completed"
    },
    "tags": []
   },
   "outputs": [],
   "source": [
    "class Config:\n",
    "    pass\n",
    "config = Config()\n",
    "config.lr = 0.001\n",
    "config.num_epochs = 250\n",
    "config.bs = 50"
   ]
  },
  {
   "cell_type": "markdown",
   "id": "1385fa59",
   "metadata": {
    "papermill": {
     "duration": 0.026746,
     "end_time": "2022-09-08T10:11:16.466399",
     "exception": false,
     "start_time": "2022-09-08T10:11:16.439653",
     "status": "completed"
    },
    "tags": []
   },
   "source": [
    "### Running Models with the Training data\n",
    "Details about the network layers:\n",
    "- A first affine layer has 784 inputs and does 100 affine transforms. These are followed by a Relu\n",
    "- A second affine layer has 100 inputs from the 100 activations of the past layer, and does 100 affine transforms. These are followed by a Relu\n",
    "- A third affine layer has 100 activations and does 2 affine transformations to create an embedding for visualization. There is no non-linearity here.\n",
    "- A final \"logistic regression\" which has an affine transform from 2 inputs to 1 output, which is squeezed through a sigmoid.\n"
   ]
  },
  {
   "cell_type": "code",
   "execution_count": 17,
   "id": "2b9c66db",
   "metadata": {
    "execution": {
     "iopub.execute_input": "2022-09-08T10:11:16.524168Z",
     "iopub.status.busy": "2022-09-08T10:11:16.523572Z",
     "iopub.status.idle": "2022-09-08T10:11:16.536775Z",
     "shell.execute_reply": "2022-09-08T10:11:16.536302Z"
    },
    "papermill": {
     "duration": 0.043857,
     "end_time": "2022-09-08T10:11:16.536889",
     "exception": false,
     "start_time": "2022-09-08T10:11:16.493032",
     "status": "completed"
    },
    "tags": []
   },
   "outputs": [],
   "source": [
    "data = Data(X_train, y_train.reshape(-1,1))\n",
    "sampler = Sampler(data, config.bs, shuffle=True)\n",
    "\n",
    "dl = Dataloader(data, sampler)\n",
    "\n",
    "opt = GD(config.lr)\n",
    "loss = MSE()"
   ]
  },
  {
   "cell_type": "code",
   "execution_count": 18,
   "id": "b275e4c2",
   "metadata": {
    "execution": {
     "iopub.execute_input": "2022-09-08T10:11:16.595787Z",
     "iopub.status.busy": "2022-09-08T10:11:16.595162Z",
     "iopub.status.idle": "2022-09-08T10:11:16.607865Z",
     "shell.execute_reply": "2022-09-08T10:11:16.607375Z"
    },
    "papermill": {
     "duration": 0.044262,
     "end_time": "2022-09-08T10:11:16.607987",
     "exception": false,
     "start_time": "2022-09-08T10:11:16.563725",
     "status": "completed"
    },
    "tags": []
   },
   "outputs": [],
   "source": [
    "training_data_x = X_train\n",
    "testing_data_x = X_test\n",
    "training_data_y = y_train.reshape(-1,1)\n",
    "testing_data_y = y_test.reshape(-1,1)"
   ]
  },
  {
   "cell_type": "code",
   "execution_count": 19,
   "id": "76951160",
   "metadata": {
    "execution": {
     "iopub.execute_input": "2022-09-08T10:11:16.668747Z",
     "iopub.status.busy": "2022-09-08T10:11:16.668052Z",
     "iopub.status.idle": "2022-09-08T10:11:16.683719Z",
     "shell.execute_reply": "2022-09-08T10:11:16.684195Z"
    },
    "papermill": {
     "duration": 0.049705,
     "end_time": "2022-09-08T10:11:16.684328",
     "exception": false,
     "start_time": "2022-09-08T10:11:16.634623",
     "status": "completed"
    },
    "tags": []
   },
   "outputs": [
    {
     "name": "stdout",
     "output_type": "stream",
     "text": [
      "xavier\n",
      "xavier\n",
      "xavier\n",
      "xavier\n",
      "xavier\n"
     ]
    }
   ],
   "source": [
    "layers = [Affine(\"first\", 784, 100), Relu(\"first\"), Affine(\"second\", 100, 100), Relu(\"second\"), Affine(\"third\", 100, 2), Affine(\"last\", 2, 1), Sigmoid(\"last\")]\n",
    "model_nn = Model(layers)\n",
    "model_lr = Model([Affine(\"logits\", 784, 1), Sigmoid(\"sigmoid\")])"
   ]
  },
  {
   "cell_type": "code",
   "execution_count": 20,
   "id": "6eede77a",
   "metadata": {
    "execution": {
     "iopub.execute_input": "2022-09-08T10:11:16.742001Z",
     "iopub.status.busy": "2022-09-08T10:11:16.741420Z",
     "iopub.status.idle": "2022-09-08T10:11:16.754896Z",
     "shell.execute_reply": "2022-09-08T10:11:16.754424Z"
    },
    "papermill": {
     "duration": 0.043804,
     "end_time": "2022-09-08T10:11:16.755007",
     "exception": false,
     "start_time": "2022-09-08T10:11:16.711203",
     "status": "completed"
    },
    "tags": []
   },
   "outputs": [],
   "source": [
    "nn_learner = Learner(loss, model_nn, opt, config.num_epochs)\n",
    "acc_nn = ClfCallback(nn_learner, config.bs, training_data_x , testing_data_x, training_data_y, testing_data_y)\n",
    "nn_learner.set_callbacks([acc_nn])"
   ]
  },
  {
   "cell_type": "code",
   "execution_count": 21,
   "id": "877b6cc7",
   "metadata": {
    "execution": {
     "iopub.execute_input": "2022-09-08T10:11:16.825046Z",
     "iopub.status.busy": "2022-09-08T10:11:16.824437Z",
     "iopub.status.idle": "2022-09-08T10:11:16.832359Z",
     "shell.execute_reply": "2022-09-08T10:11:16.831884Z"
    },
    "papermill": {
     "duration": 0.049996,
     "end_time": "2022-09-08T10:11:16.832473",
     "exception": false,
     "start_time": "2022-09-08T10:11:16.782477",
     "status": "completed"
    },
    "tags": []
   },
   "outputs": [],
   "source": [
    "lr_learner = Learner(loss, model_lr, opt, config.num_epochs)\n",
    "acc_lr = ClfCallback(lr_learner, config.bs, training_data_x , testing_data_x, training_data_y, testing_data_y)\n",
    "lr_learner.set_callbacks([acc_lr])"
   ]
  },
  {
   "cell_type": "code",
   "execution_count": 22,
   "id": "d9b133c3",
   "metadata": {
    "execution": {
     "iopub.execute_input": "2022-09-08T10:11:16.902305Z",
     "iopub.status.busy": "2022-09-08T10:11:16.895964Z",
     "iopub.status.idle": "2022-09-08T10:12:33.967166Z",
     "shell.execute_reply": "2022-09-08T10:12:33.968016Z"
    },
    "papermill": {
     "duration": 77.108775,
     "end_time": "2022-09-08T10:12:33.968170",
     "exception": false,
     "start_time": "2022-09-08T10:11:16.859395",
     "status": "completed"
    },
    "tags": []
   },
   "outputs": [
    {
     "name": "stdout",
     "output_type": "stream",
     "text": [
      "Epoch 0, Loss 0.2304\n",
      "Training Accuracy: 0.7503, Testing Accuracy: 0.7641\n",
      "\n"
     ]
    },
    {
     "name": "stdout",
     "output_type": "stream",
     "text": [
      "Epoch 10, Loss 0.093\n",
      "Training Accuracy: 0.9166, Testing Accuracy: 0.9299\n",
      "\n"
     ]
    },
    {
     "name": "stdout",
     "output_type": "stream",
     "text": [
      "Epoch 20, Loss 0.0581\n",
      "Training Accuracy: 0.9397, Testing Accuracy: 0.9466\n",
      "\n"
     ]
    },
    {
     "name": "stdout",
     "output_type": "stream",
     "text": [
      "Epoch 30, Loss 0.0456\n",
      "Training Accuracy: 0.9497, Testing Accuracy: 0.9607\n",
      "\n"
     ]
    },
    {
     "name": "stdout",
     "output_type": "stream",
     "text": [
      "Epoch 40, Loss 0.0393\n",
      "Training Accuracy: 0.9554, Testing Accuracy: 0.9642\n",
      "\n"
     ]
    },
    {
     "name": "stdout",
     "output_type": "stream",
     "text": [
      "Epoch 50, Loss 0.0355\n",
      "Training Accuracy: 0.9599, Testing Accuracy: 0.9657\n",
      "\n"
     ]
    },
    {
     "name": "stdout",
     "output_type": "stream",
     "text": [
      "Epoch 60, Loss 0.0329\n",
      "Training Accuracy: 0.9619, Testing Accuracy: 0.9667\n",
      "\n"
     ]
    },
    {
     "name": "stdout",
     "output_type": "stream",
     "text": [
      "Epoch 70, Loss 0.031\n",
      "Training Accuracy: 0.9640, Testing Accuracy: 0.9688\n",
      "\n"
     ]
    },
    {
     "name": "stdout",
     "output_type": "stream",
     "text": [
      "Epoch 80, Loss 0.0295\n",
      "Training Accuracy: 0.9660, Testing Accuracy: 0.9682\n",
      "\n"
     ]
    },
    {
     "name": "stdout",
     "output_type": "stream",
     "text": [
      "Epoch 90, Loss 0.0282\n",
      "Training Accuracy: 0.9670, Testing Accuracy: 0.9693\n",
      "\n"
     ]
    },
    {
     "name": "stdout",
     "output_type": "stream",
     "text": [
      "Epoch 100, Loss 0.0272\n",
      "Training Accuracy: 0.9679, Testing Accuracy: 0.9698\n",
      "\n"
     ]
    },
    {
     "name": "stdout",
     "output_type": "stream",
     "text": [
      "Epoch 110, Loss 0.0263\n",
      "Training Accuracy: 0.9689, Testing Accuracy: 0.9703\n",
      "\n"
     ]
    },
    {
     "name": "stdout",
     "output_type": "stream",
     "text": [
      "Epoch 120, Loss 0.0255\n",
      "Training Accuracy: 0.9695, Testing Accuracy: 0.9708\n",
      "\n"
     ]
    },
    {
     "name": "stdout",
     "output_type": "stream",
     "text": [
      "Epoch 130, Loss 0.0247\n",
      "Training Accuracy: 0.9706, Testing Accuracy: 0.9728\n",
      "\n"
     ]
    },
    {
     "name": "stdout",
     "output_type": "stream",
     "text": [
      "Epoch 140, Loss 0.0241\n",
      "Training Accuracy: 0.9713, Testing Accuracy: 0.9728\n",
      "\n"
     ]
    },
    {
     "name": "stdout",
     "output_type": "stream",
     "text": [
      "Epoch 150, Loss 0.0235\n",
      "Training Accuracy: 0.9720, Testing Accuracy: 0.9728\n",
      "\n"
     ]
    },
    {
     "name": "stdout",
     "output_type": "stream",
     "text": [
      "Epoch 160, Loss 0.0229\n",
      "Training Accuracy: 0.9725, Testing Accuracy: 0.9728\n",
      "\n"
     ]
    },
    {
     "name": "stdout",
     "output_type": "stream",
     "text": [
      "Epoch 170, Loss 0.0224\n",
      "Training Accuracy: 0.9732, Testing Accuracy: 0.9728\n",
      "\n"
     ]
    },
    {
     "name": "stdout",
     "output_type": "stream",
     "text": [
      "Epoch 180, Loss 0.0219\n",
      "Training Accuracy: 0.9737, Testing Accuracy: 0.9728\n",
      "\n"
     ]
    },
    {
     "name": "stdout",
     "output_type": "stream",
     "text": [
      "Epoch 190, Loss 0.0215\n",
      "Training Accuracy: 0.9746, Testing Accuracy: 0.9728\n",
      "\n"
     ]
    },
    {
     "name": "stdout",
     "output_type": "stream",
     "text": [
      "Epoch 200, Loss 0.021\n",
      "Training Accuracy: 0.9753, Testing Accuracy: 0.9728\n",
      "\n"
     ]
    },
    {
     "name": "stdout",
     "output_type": "stream",
     "text": [
      "Epoch 210, Loss 0.0206\n",
      "Training Accuracy: 0.9760, Testing Accuracy: 0.9738\n",
      "\n"
     ]
    },
    {
     "name": "stdout",
     "output_type": "stream",
     "text": [
      "Epoch 220, Loss 0.0202\n",
      "Training Accuracy: 0.9765, Testing Accuracy: 0.9738\n",
      "\n"
     ]
    },
    {
     "name": "stdout",
     "output_type": "stream",
     "text": [
      "Epoch 230, Loss 0.0198\n",
      "Training Accuracy: 0.9770, Testing Accuracy: 0.9748\n",
      "\n"
     ]
    },
    {
     "name": "stdout",
     "output_type": "stream",
     "text": [
      "Epoch 240, Loss 0.0194\n",
      "Training Accuracy: 0.9775, Testing Accuracy: 0.9753\n",
      "\n"
     ]
    },
    {
     "data": {
      "text/plain": [
       "0.0014983275581820451"
      ]
     },
     "execution_count": 22,
     "metadata": {},
     "output_type": "execute_result"
    }
   ],
   "source": [
    "nn_learner.train_loop(dl)"
   ]
  },
  {
   "cell_type": "code",
   "execution_count": 23,
   "id": "e0163366",
   "metadata": {
    "execution": {
     "iopub.execute_input": "2022-09-08T10:12:34.048740Z",
     "iopub.status.busy": "2022-09-08T10:12:34.048130Z",
     "iopub.status.idle": "2022-09-08T10:12:48.088919Z",
     "shell.execute_reply": "2022-09-08T10:12:48.089771Z"
    },
    "papermill": {
     "duration": 14.087429,
     "end_time": "2022-09-08T10:12:48.089925",
     "exception": false,
     "start_time": "2022-09-08T10:12:34.002496",
     "status": "completed"
    },
    "tags": []
   },
   "outputs": [
    {
     "name": "stdout",
     "output_type": "stream",
     "text": [
      "Epoch 0, Loss 0.2249\n",
      "Training Accuracy: 0.7258, Testing Accuracy: 0.7671\n",
      "\n"
     ]
    },
    {
     "name": "stdout",
     "output_type": "stream",
     "text": [
      "Epoch 10, Loss 0.1022\n",
      "Training Accuracy: 0.9102, Testing Accuracy: 0.9249\n",
      "\n"
     ]
    },
    {
     "name": "stdout",
     "output_type": "stream",
     "text": [
      "Epoch 20, Loss 0.0786\n",
      "Training Accuracy: 0.9302, Testing Accuracy: 0.9415\n",
      "\n"
     ]
    },
    {
     "name": "stdout",
     "output_type": "stream",
     "text": [
      "Epoch 30, Loss 0.0678\n",
      "Training Accuracy: 0.9382, Testing Accuracy: 0.9506\n",
      "\n"
     ]
    },
    {
     "name": "stdout",
     "output_type": "stream",
     "text": [
      "Epoch 40, Loss 0.0614\n",
      "Training Accuracy: 0.9432, Testing Accuracy: 0.9541\n",
      "\n"
     ]
    },
    {
     "name": "stdout",
     "output_type": "stream",
     "text": [
      "Epoch 50, Loss 0.057\n",
      "Training Accuracy: 0.9451, Testing Accuracy: 0.9582\n",
      "\n"
     ]
    },
    {
     "name": "stdout",
     "output_type": "stream",
     "text": [
      "Epoch 60, Loss 0.0537\n",
      "Training Accuracy: 0.9479, Testing Accuracy: 0.9587\n",
      "\n"
     ]
    },
    {
     "name": "stdout",
     "output_type": "stream",
     "text": [
      "Epoch 70, Loss 0.0512\n",
      "Training Accuracy: 0.9502, Testing Accuracy: 0.9592\n",
      "\n"
     ]
    },
    {
     "name": "stdout",
     "output_type": "stream",
     "text": [
      "Epoch 80, Loss 0.0492\n",
      "Training Accuracy: 0.9517, Testing Accuracy: 0.9607\n",
      "\n"
     ]
    },
    {
     "name": "stdout",
     "output_type": "stream",
     "text": [
      "Epoch 90, Loss 0.0476\n",
      "Training Accuracy: 0.9530, Testing Accuracy: 0.9612\n",
      "\n"
     ]
    },
    {
     "name": "stdout",
     "output_type": "stream",
     "text": [
      "Epoch 100, Loss 0.0462\n",
      "Training Accuracy: 0.9539, Testing Accuracy: 0.9622\n",
      "\n"
     ]
    },
    {
     "name": "stdout",
     "output_type": "stream",
     "text": [
      "Epoch 110, Loss 0.045\n",
      "Training Accuracy: 0.9548, Testing Accuracy: 0.9627\n",
      "\n"
     ]
    },
    {
     "name": "stdout",
     "output_type": "stream",
     "text": [
      "Epoch 120, Loss 0.0439\n",
      "Training Accuracy: 0.9556, Testing Accuracy: 0.9637\n",
      "\n"
     ]
    },
    {
     "name": "stdout",
     "output_type": "stream",
     "text": [
      "Epoch 130, Loss 0.043\n",
      "Training Accuracy: 0.9562, Testing Accuracy: 0.9647\n",
      "\n"
     ]
    },
    {
     "name": "stdout",
     "output_type": "stream",
     "text": [
      "Epoch 140, Loss 0.0422\n",
      "Training Accuracy: 0.9565, Testing Accuracy: 0.9657\n",
      "\n"
     ]
    },
    {
     "name": "stdout",
     "output_type": "stream",
     "text": [
      "Epoch 150, Loss 0.0415\n",
      "Training Accuracy: 0.9575, Testing Accuracy: 0.9667\n",
      "\n"
     ]
    },
    {
     "name": "stdout",
     "output_type": "stream",
     "text": [
      "Epoch 160, Loss 0.0408\n",
      "Training Accuracy: 0.9579, Testing Accuracy: 0.9667\n",
      "\n"
     ]
    },
    {
     "name": "stdout",
     "output_type": "stream",
     "text": [
      "Epoch 170, Loss 0.0402\n",
      "Training Accuracy: 0.9585, Testing Accuracy: 0.9667\n",
      "\n"
     ]
    },
    {
     "name": "stdout",
     "output_type": "stream",
     "text": [
      "Epoch 180, Loss 0.0396\n",
      "Training Accuracy: 0.9590, Testing Accuracy: 0.9672\n",
      "\n"
     ]
    },
    {
     "name": "stdout",
     "output_type": "stream",
     "text": [
      "Epoch 190, Loss 0.0391\n",
      "Training Accuracy: 0.9594, Testing Accuracy: 0.9672\n",
      "\n"
     ]
    },
    {
     "name": "stdout",
     "output_type": "stream",
     "text": [
      "Epoch 200, Loss 0.0387\n",
      "Training Accuracy: 0.9597, Testing Accuracy: 0.9672\n",
      "\n"
     ]
    },
    {
     "name": "stdout",
     "output_type": "stream",
     "text": [
      "Epoch 210, Loss 0.0382\n",
      "Training Accuracy: 0.9600, Testing Accuracy: 0.9677\n",
      "\n"
     ]
    },
    {
     "name": "stdout",
     "output_type": "stream",
     "text": [
      "Epoch 220, Loss 0.0378\n",
      "Training Accuracy: 0.9604, Testing Accuracy: 0.9682\n",
      "\n"
     ]
    },
    {
     "name": "stdout",
     "output_type": "stream",
     "text": [
      "Epoch 230, Loss 0.0374\n",
      "Training Accuracy: 0.9604, Testing Accuracy: 0.9677\n",
      "\n"
     ]
    },
    {
     "name": "stdout",
     "output_type": "stream",
     "text": [
      "Epoch 240, Loss 0.0371\n",
      "Training Accuracy: 0.9605, Testing Accuracy: 0.9688\n",
      "\n"
     ]
    },
    {
     "data": {
      "text/plain": [
       "0.03265422163474324"
      ]
     },
     "execution_count": 23,
     "metadata": {},
     "output_type": "execute_result"
    }
   ],
   "source": [
    "lr_learner.train_loop(dl)"
   ]
  },
  {
   "cell_type": "code",
   "execution_count": 24,
   "id": "ca410940",
   "metadata": {
    "execution": {
     "iopub.execute_input": "2022-09-08T10:12:48.181624Z",
     "iopub.status.busy": "2022-09-08T10:12:48.181023Z",
     "iopub.status.idle": "2022-09-08T10:12:48.408444Z",
     "shell.execute_reply": "2022-09-08T10:12:48.413498Z"
    },
    "papermill": {
     "duration": 0.282311,
     "end_time": "2022-09-08T10:12:48.413652",
     "exception": false,
     "start_time": "2022-09-08T10:12:48.131341",
     "status": "completed"
    },
    "tags": []
   },
   "outputs": [
    {
     "data": {
      "text/plain": [
       "<matplotlib.legend.Legend at 0x7fd778ce1400>"
      ]
     },
     "execution_count": 24,
     "metadata": {},
     "output_type": "execute_result"
    },
    {
     "data": {
      "image/png": "[encoded data removed]",
      "text/plain": [
       "<Figure size 1080x720 with 1 Axes>"
      ]
     },
     "metadata": {
      "needs_background": "light"
     },
     "output_type": "display_data"
    }
   ],
   "source": [
    "#comparing the results of NN and LR\n",
    "plt.figure(figsize=(15,10))\n",
    "\n",
    "# Neural Network plots\n",
    "plt.plot(acc_nn.accuracies, 'r-', label = \"Training Accuracies - NN\")\n",
    "plt.plot(acc_nn.test_accuracies, 'g-', label = \"Testing Accuracies - NN\")\n",
    "\n",
    "# Logistic Regression plots\n",
    "plt.plot(acc_lr.accuracies, 'k-', label = \"Training Accuracies - LR\")\n",
    "plt.plot(acc_lr.test_accuracies, 'b-', label = \"Testing Accuracies - LR\")\n",
    "plt.legend()"
   ]
  },
  {
   "cell_type": "markdown",
   "id": "80dfb35c",
   "metadata": {
    "papermill": {
     "duration": 0.041287,
     "end_time": "2022-09-08T10:12:48.496835",
     "exception": false,
     "start_time": "2022-09-08T10:12:48.455548",
     "status": "completed"
    },
    "tags": []
   },
   "source": [
    "#### Plotting the outputs of this layer of the NN.\n"
   ]
  },
  {
   "cell_type": "code",
   "execution_count": 25,
   "id": "45eb2ff5",
   "metadata": {
    "execution": {
     "iopub.execute_input": "2022-09-08T10:12:48.596030Z",
     "iopub.status.busy": "2022-09-08T10:12:48.587687Z",
     "iopub.status.idle": "2022-09-08T10:12:48.609477Z",
     "shell.execute_reply": "2022-09-08T10:12:48.610220Z"
    },
    "papermill": {
     "duration": 0.072075,
     "end_time": "2022-09-08T10:12:48.610369",
     "exception": false,
     "start_time": "2022-09-08T10:12:48.538294",
     "status": "completed"
    },
    "tags": []
   },
   "outputs": [],
   "source": [
    "new_model = Model(layers[:-2])\n",
    "testing_plot = new_model(testing_data_x)"
   ]
  },
  {
   "cell_type": "code",
   "execution_count": 26,
   "id": "4c0a5485",
   "metadata": {
    "execution": {
     "iopub.execute_input": "2022-09-08T10:12:48.704731Z",
     "iopub.status.busy": "2022-09-08T10:12:48.704141Z",
     "iopub.status.idle": "2022-09-08T10:12:48.914256Z",
     "shell.execute_reply": "2022-09-08T10:12:48.913658Z"
    },
    "papermill": {
     "duration": 0.262264,
     "end_time": "2022-09-08T10:12:48.914374",
     "exception": false,
     "start_time": "2022-09-08T10:12:48.652110",
     "status": "completed"
    },
    "tags": []
   },
   "outputs": [
    {
     "data": {
      "text/plain": [
       "Text(0.5, 1.0, 'Outputs')"
      ]
     },
     "execution_count": 26,
     "metadata": {},
     "output_type": "execute_result"
    },
    {
     "data": {
      "image/png": "[encoded data removed]",
      "text/plain": [
       "<Figure size 576x504 with 1 Axes>"
      ]
     },
     "metadata": {
      "needs_background": "light"
     },
     "output_type": "display_data"
    }
   ],
   "source": [
    "# Plotting the scatter plot of points and color coding by class\n",
    "plt.figure(figsize=(8,7))\n",
    "plt.scatter(testing_plot[:,0], testing_plot[:,1], alpha = 0.1, c = y_test.ravel());\n",
    "plt.title('Outputs')"
   ]
  },
  {
   "cell_type": "markdown",
   "id": "a74fcf8f",
   "metadata": {
    "papermill": {
     "duration": 0.04406,
     "end_time": "2022-09-08T10:12:49.003053",
     "exception": false,
     "start_time": "2022-09-08T10:12:48.958993",
     "status": "completed"
    },
    "tags": []
   },
   "source": [
    "Probability contours"
   ]
  },
  {
   "cell_type": "code",
   "execution_count": 27,
   "id": "d0afc8e3",
   "metadata": {
    "execution": {
     "iopub.execute_input": "2022-09-08T10:12:49.096153Z",
     "iopub.status.busy": "2022-09-08T10:12:49.095548Z",
     "iopub.status.idle": "2022-09-08T10:12:49.108277Z",
     "shell.execute_reply": "2022-09-08T10:12:49.108703Z"
    },
    "papermill": {
     "duration": 0.061558,
     "end_time": "2022-09-08T10:12:49.108844",
     "exception": false,
     "start_time": "2022-09-08T10:12:49.047286",
     "status": "completed"
    },
    "tags": []
   },
   "outputs": [],
   "source": [
    "model_prob = Model(layers[-2:]) "
   ]
  },
  {
   "cell_type": "code",
   "execution_count": 28,
   "id": "9b96e238",
   "metadata": {
    "execution": {
     "iopub.execute_input": "2022-09-08T10:12:49.217003Z",
     "iopub.status.busy": "2022-09-08T10:12:49.216360Z",
     "iopub.status.idle": "2022-09-08T10:12:49.222537Z",
     "shell.execute_reply": "2022-09-08T10:12:49.221960Z"
    },
    "papermill": {
     "duration": 0.069324,
     "end_time": "2022-09-08T10:12:49.222656",
     "exception": false,
     "start_time": "2022-09-08T10:12:49.153332",
     "status": "completed"
    },
    "tags": []
   },
   "outputs": [],
   "source": [
    "#creating the x and y ranges according to the above generated plot.\n",
    "x_range = np.linspace(-4, 1, 100) \n",
    "y_range = np.linspace(-6, 6, 100) \n",
    "x_grid, y_grid = np.meshgrid(x_range, y_range) # x_grid and y_grig are of size 100 X 100\n",
    "\n",
    "# converting x_grid and y_grid to continuous arrays\n",
    "x_gridflat = np.ravel(x_grid)\n",
    "y_gridflat = np.ravel(y_grid)\n",
    "\n",
    "# The last layer of the current model takes two columns as input. Hence transpose of np.vstack() is required.\n",
    "X = np.vstack((x_gridflat, y_gridflat)).T\n",
    "\n",
    "prob_contour = model_prob(X).reshape(100,100) "
   ]
  },
  {
   "cell_type": "code",
   "execution_count": 29,
   "id": "da72499a",
   "metadata": {
    "execution": {
     "iopub.execute_input": "2022-09-08T10:12:49.355932Z",
     "iopub.status.busy": "2022-09-08T10:12:49.351060Z",
     "iopub.status.idle": "2022-09-08T10:12:49.605895Z",
     "shell.execute_reply": "2022-09-08T10:12:49.606351Z"
    },
    "papermill": {
     "duration": 0.310115,
     "end_time": "2022-09-08T10:12:49.606494",
     "exception": false,
     "start_time": "2022-09-08T10:12:49.296379",
     "status": "completed"
    },
    "tags": []
   },
   "outputs": [
    {
     "data": {
      "image/png": "[encoded data removed]",
      "text/plain": [
       "<Figure size 720x648 with 1 Axes>"
      ]
     },
     "metadata": {
      "needs_background": "light"
     },
     "output_type": "display_data"
    }
   ],
   "source": [
    "plt.figure(figsize=(10,9))\n",
    "plt.scatter(testing_plot[:,0], testing_plot[:,1], alpha = 0.1, c = y_test.ravel())\n",
    "contours = plt.contour(x_grid,y_grid,prob_contour)\n",
    "plt.title('Probability Contours')\n",
    "plt.clabel(contours, inline = True );"
   ]
  },
  {
   "cell_type": "code",
   "execution_count": null,
   "id": "e81b4ac7",
   "metadata": {
    "papermill": {
     "duration": 0.047642,
     "end_time": "2022-09-08T10:12:49.701807",
     "exception": false,
     "start_time": "2022-09-08T10:12:49.654165",
     "status": "completed"
    },
    "tags": []
   },
   "outputs": [],
   "source": []
  }
 ],
 "metadata": {
  "kernelspec": {
   "display_name": "Python 3",
   "language": "python",
   "name": "python3"
  },
  "language_info": {
   "codemirror_mode": {
    "name": "ipython",
    "version": 3
   },
   "file_extension": ".py",
   "mimetype": "text/x-python",
   "name": "python",
   "nbconvert_exporter": "python",
   "pygments_lexer": "ipython3",
   "version": "3.6.15"
  },
  "papermill": {
   "default_parameters": {},
   "duration": 99.711856,
   "end_time": "2022-09-08T10:12:50.168631",
   "environment_variables": {},
   "exception": null,
   "input_path": "2020-08-11-part2.ipynb",
   "output_path": "2020-08-11-part2.ipynb",
   "parameters": {},
   "start_time": "2022-09-08T10:11:10.456775",
   "version": "2.3.3"
  }
 },
 "nbformat": 4,
 "nbformat_minor": 5
}