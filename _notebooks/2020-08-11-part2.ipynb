{
 "cells": [
  {
   "cell_type": "markdown",
   "id": "98380cd3",
   "metadata": {
    "papermill": {
     "duration": 0.03715,
     "end_time": "2021-09-03T10:07:08.176830",
     "exception": false,
     "start_time": "2021-09-03T10:07:08.139680",
     "status": "completed"
    },
    "tags": []
   },
   "source": [
    "# Distinguish Your Own Digits (DYOD)"
   ]
  },
  {
   "cell_type": "markdown",
   "id": "ef31240d",
   "metadata": {
    "papermill": {
     "duration": 0.027012,
     "end_time": "2021-09-03T10:07:08.237835",
     "exception": false,
     "start_time": "2021-09-03T10:07:08.210823",
     "status": "completed"
    },
    "tags": []
   },
   "source": [
    "You are going to write a classifier that distinguishes between the number 3 and number 8."
   ]
  },
  {
   "cell_type": "code",
   "execution_count": 1,
   "id": "b15c8646",
   "metadata": {
    "execution": {
     "iopub.execute_input": "2021-09-03T10:07:08.303981Z",
     "iopub.status.busy": "2021-09-03T10:07:08.299733Z",
     "iopub.status.idle": "2021-09-03T10:07:08.315547Z",
     "shell.execute_reply": "2021-09-03T10:07:08.315001Z"
    },
    "papermill": {
     "duration": 0.050938,
     "end_time": "2021-09-03T10:07:08.315700",
     "exception": false,
     "start_time": "2021-09-03T10:07:08.264762",
     "status": "completed"
    },
    "tags": []
   },
   "outputs": [],
   "source": [
    "%load_ext autoreload\n",
    "%autoreload 2"
   ]
  },
  {
   "cell_type": "code",
   "execution_count": 2,
   "id": "22ef38dc",
   "metadata": {
    "execution": {
     "iopub.execute_input": "2021-09-03T10:07:08.374975Z",
     "iopub.status.busy": "2021-09-03T10:07:08.374370Z",
     "iopub.status.idle": "2021-09-03T10:07:08.979978Z",
     "shell.execute_reply": "2021-09-03T10:07:08.980800Z"
    },
    "papermill": {
     "duration": 0.637937,
     "end_time": "2021-09-03T10:07:08.980966",
     "exception": false,
     "start_time": "2021-09-03T10:07:08.343029",
     "status": "completed"
    },
    "tags": []
   },
   "outputs": [],
   "source": [
    "%matplotlib inline\n",
    "import numpy as np\n",
    "import matplotlib.pyplot as plt\n",
    "import pandas as pd"
   ]
  },
  {
   "cell_type": "markdown",
   "id": "ba036198",
   "metadata": {
    "papermill": {
     "duration": 0.028598,
     "end_time": "2021-09-03T10:07:09.037229",
     "exception": false,
     "start_time": "2021-09-03T10:07:09.008631",
     "status": "completed"
    },
    "tags": []
   },
   "source": [
    "From the command line run `pip install mnist`. This is a library that will help you bring down the mnist dataset. If you run this from a notebook, you need to put  `!pip install mnist` in a cell by itself."
   ]
  },
  {
   "cell_type": "code",
   "execution_count": 3,
   "id": "bb6ad8a1",
   "metadata": {
    "execution": {
     "iopub.execute_input": "2021-09-03T10:07:09.097011Z",
     "iopub.status.busy": "2021-09-03T10:07:09.096378Z",
     "iopub.status.idle": "2021-09-03T10:07:11.103599Z",
     "shell.execute_reply": "2021-09-03T10:07:11.104305Z"
    },
    "papermill": {
     "duration": 2.040299,
     "end_time": "2021-09-03T10:07:11.104484",
     "exception": false,
     "start_time": "2021-09-03T10:07:09.064185",
     "status": "completed"
    },
    "tags": []
   },
   "outputs": [
    {
     "name": "stdout",
     "output_type": "stream",
     "text": [
      "Collecting mnist\r\n"
     ]
    },
    {
     "name": "stdout",
     "output_type": "stream",
     "text": [
      "  Downloading mnist-0.2.2-py2.py3-none-any.whl (3.5 kB)\r\n"
     ]
    },
    {
     "name": "stdout",
     "output_type": "stream",
     "text": [
      "Requirement already satisfied: numpy in /opt/hostedtoolcache/Python/3.6.14/x64/lib/python3.6/site-packages (from mnist) (1.19.5)\r\n"
     ]
    },
    {
     "name": "stdout",
     "output_type": "stream",
     "text": [
      "Installing collected packages: mnist\r\n"
     ]
    },
    {
     "name": "stdout",
     "output_type": "stream",
     "text": [
      "Successfully installed mnist-0.2.2\r\n"
     ]
    }
   ],
   "source": [
    "!pip install mnist"
   ]
  },
  {
   "cell_type": "markdown",
   "id": "69df9c9a",
   "metadata": {
    "papermill": {
     "duration": 0.02904,
     "end_time": "2021-09-03T10:07:11.162925",
     "exception": false,
     "start_time": "2021-09-03T10:07:11.133885",
     "status": "completed"
    },
    "tags": []
   },
   "source": [
    "## Preparing the Data"
   ]
  },
  {
   "cell_type": "code",
   "execution_count": 4,
   "id": "7f69d806",
   "metadata": {
    "execution": {
     "iopub.execute_input": "2021-09-03T10:07:11.229596Z",
     "iopub.status.busy": "2021-09-03T10:07:11.228989Z",
     "iopub.status.idle": "2021-09-03T10:07:11.248241Z",
     "shell.execute_reply": "2021-09-03T10:07:11.247593Z"
    },
    "papermill": {
     "duration": 0.055933,
     "end_time": "2021-09-03T10:07:11.248418",
     "exception": false,
     "start_time": "2021-09-03T10:07:11.192485",
     "status": "completed"
    },
    "tags": []
   },
   "outputs": [],
   "source": [
    "import mnist"
   ]
  },
  {
   "cell_type": "code",
   "execution_count": 5,
   "id": "a411e44f",
   "metadata": {
    "execution": {
     "iopub.execute_input": "2021-09-03T10:07:11.316477Z",
     "iopub.status.busy": "2021-09-03T10:07:11.315848Z",
     "iopub.status.idle": "2021-09-03T10:07:12.914914Z",
     "shell.execute_reply": "2021-09-03T10:07:12.915481Z"
    },
    "papermill": {
     "duration": 1.633168,
     "end_time": "2021-09-03T10:07:12.915645",
     "exception": false,
     "start_time": "2021-09-03T10:07:11.282477",
     "status": "completed"
    },
    "tags": []
   },
   "outputs": [],
   "source": [
    "train_images = mnist.train_images()\n",
    "train_labels = mnist.train_labels()"
   ]
  },
  {
   "cell_type": "code",
   "execution_count": 6,
   "id": "dceab3a5",
   "metadata": {
    "execution": {
     "iopub.execute_input": "2021-09-03T10:07:12.977806Z",
     "iopub.status.busy": "2021-09-03T10:07:12.977198Z",
     "iopub.status.idle": "2021-09-03T10:07:12.994007Z",
     "shell.execute_reply": "2021-09-03T10:07:12.993496Z"
    },
    "papermill": {
     "duration": 0.049505,
     "end_time": "2021-09-03T10:07:12.994137",
     "exception": false,
     "start_time": "2021-09-03T10:07:12.944632",
     "status": "completed"
    },
    "tags": []
   },
   "outputs": [
    {
     "data": {
      "text/plain": [
       "((60000, 28, 28), (60000,))"
      ]
     },
     "execution_count": 6,
     "metadata": {},
     "output_type": "execute_result"
    }
   ],
   "source": [
    "train_images.shape, train_labels.shape"
   ]
  },
  {
   "cell_type": "code",
   "execution_count": 7,
   "id": "f50dc2bb",
   "metadata": {
    "execution": {
     "iopub.execute_input": "2021-09-03T10:07:13.056141Z",
     "iopub.status.busy": "2021-09-03T10:07:13.055537Z",
     "iopub.status.idle": "2021-09-03T10:07:13.294194Z",
     "shell.execute_reply": "2021-09-03T10:07:13.294693Z"
    },
    "papermill": {
     "duration": 0.271836,
     "end_time": "2021-09-03T10:07:13.294860",
     "exception": false,
     "start_time": "2021-09-03T10:07:13.023024",
     "status": "completed"
    },
    "tags": []
   },
   "outputs": [],
   "source": [
    "test_images = mnist.test_images()\n",
    "test_labels = mnist.test_labels()"
   ]
  },
  {
   "cell_type": "code",
   "execution_count": 8,
   "id": "fc38cf1b",
   "metadata": {
    "execution": {
     "iopub.execute_input": "2021-09-03T10:07:13.357221Z",
     "iopub.status.busy": "2021-09-03T10:07:13.356587Z",
     "iopub.status.idle": "2021-09-03T10:07:13.373806Z",
     "shell.execute_reply": "2021-09-03T10:07:13.373298Z"
    },
    "papermill": {
     "duration": 0.0499,
     "end_time": "2021-09-03T10:07:13.373965",
     "exception": false,
     "start_time": "2021-09-03T10:07:13.324065",
     "status": "completed"
    },
    "tags": []
   },
   "outputs": [
    {
     "data": {
      "text/plain": [
       "((10000, 28, 28), (10000,))"
      ]
     },
     "execution_count": 8,
     "metadata": {},
     "output_type": "execute_result"
    }
   ],
   "source": [
    "test_images.shape, test_labels.shape"
   ]
  },
  {
   "cell_type": "code",
   "execution_count": 9,
   "id": "f9ed8fe0",
   "metadata": {
    "execution": {
     "iopub.execute_input": "2021-09-03T10:07:13.437907Z",
     "iopub.status.busy": "2021-09-03T10:07:13.437312Z",
     "iopub.status.idle": "2021-09-03T10:07:13.597425Z",
     "shell.execute_reply": "2021-09-03T10:07:13.597905Z"
    },
    "papermill": {
     "duration": 0.194661,
     "end_time": "2021-09-03T10:07:13.598054",
     "exception": false,
     "start_time": "2021-09-03T10:07:13.403393",
     "status": "completed"
    },
    "tags": []
   },
   "outputs": [
    {
     "name": "stdout",
     "output_type": "stream",
     "text": [
      "2\n"
     ]
    },
    {
     "data": {
      "text/plain": [
       "<matplotlib.image.AxesImage at 0x7efbfe572da0>"
      ]
     },
     "execution_count": 9,
     "metadata": {},
     "output_type": "execute_result"
    },
    {
     "data": {
      "image/png": "[encoded data removed]",
      "text/plain": [
       "<Figure size 432x288 with 1 Axes>"
      ]
     },
     "metadata": {
      "needs_background": "light"
     },
     "output_type": "display_data"
    }
   ],
   "source": [
    "image_index = 7776 # You may select anything up to 60,000\n",
    "print(train_labels[image_index]) \n",
    "plt.imshow(train_images[image_index], cmap='Greys')"
   ]
  },
  {
   "cell_type": "markdown",
   "id": "a8d2388d",
   "metadata": {
    "papermill": {
     "duration": 0.03081,
     "end_time": "2021-09-03T10:07:13.661037",
     "exception": false,
     "start_time": "2021-09-03T10:07:13.630227",
     "status": "completed"
    },
    "tags": []
   },
   "source": [
    "## Filter data to get 3 and 8 out"
   ]
  },
  {
   "cell_type": "code",
   "execution_count": 10,
   "id": "776f7fc7",
   "metadata": {
    "execution": {
     "iopub.execute_input": "2021-09-03T10:07:13.731109Z",
     "iopub.status.busy": "2021-09-03T10:07:13.730492Z",
     "iopub.status.idle": "2021-09-03T10:07:13.750111Z",
     "shell.execute_reply": "2021-09-03T10:07:13.749609Z"
    },
    "papermill": {
     "duration": 0.058951,
     "end_time": "2021-09-03T10:07:13.750244",
     "exception": false,
     "start_time": "2021-09-03T10:07:13.691293",
     "status": "completed"
    },
    "tags": []
   },
   "outputs": [],
   "source": [
    "train_filter = np.where((train_labels == 3 ) | (train_labels == 8))\n",
    "test_filter = np.where((test_labels == 3) | (test_labels == 8))\n",
    "X_train, y_train = train_images[train_filter], train_labels[train_filter]\n",
    "X_test, y_test = test_images[test_filter], test_labels[test_filter]"
   ]
  },
  {
   "cell_type": "markdown",
   "id": "948f0b7e",
   "metadata": {
    "papermill": {
     "duration": 0.030289,
     "end_time": "2021-09-03T10:07:13.810785",
     "exception": false,
     "start_time": "2021-09-03T10:07:13.780496",
     "status": "completed"
    },
    "tags": []
   },
   "source": [
    "We normalize the pizel values in the 0 to 1 range"
   ]
  },
  {
   "cell_type": "code",
   "execution_count": 11,
   "id": "ee4c2166",
   "metadata": {
    "execution": {
     "iopub.execute_input": "2021-09-03T10:07:13.878701Z",
     "iopub.status.busy": "2021-09-03T10:07:13.878096Z",
     "iopub.status.idle": "2021-09-03T10:07:13.933600Z",
     "shell.execute_reply": "2021-09-03T10:07:13.933075Z"
    },
    "papermill": {
     "duration": 0.092799,
     "end_time": "2021-09-03T10:07:13.933730",
     "exception": false,
     "start_time": "2021-09-03T10:07:13.840931",
     "status": "completed"
    },
    "tags": []
   },
   "outputs": [],
   "source": [
    "X_train = X_train/255.\n",
    "X_test = X_test/255."
   ]
  },
  {
   "cell_type": "markdown",
   "id": "ddcf4fab",
   "metadata": {
    "papermill": {
     "duration": 0.03039,
     "end_time": "2021-09-03T10:07:13.994612",
     "exception": false,
     "start_time": "2021-09-03T10:07:13.964222",
     "status": "completed"
    },
    "tags": []
   },
   "source": [
    "And setup the labels as 1 (when the digit is 3) and 0 (when the digit is 8)"
   ]
  },
  {
   "cell_type": "code",
   "execution_count": 12,
   "id": "7dc908f2",
   "metadata": {
    "execution": {
     "iopub.execute_input": "2021-09-03T10:07:14.059729Z",
     "iopub.status.busy": "2021-09-03T10:07:14.058747Z",
     "iopub.status.idle": "2021-09-03T10:07:14.073670Z",
     "shell.execute_reply": "2021-09-03T10:07:14.073144Z"
    },
    "papermill": {
     "duration": 0.048952,
     "end_time": "2021-09-03T10:07:14.073799",
     "exception": false,
     "start_time": "2021-09-03T10:07:14.024847",
     "status": "completed"
    },
    "tags": []
   },
   "outputs": [],
   "source": [
    "y_train = 1*(y_train==3)\n",
    "y_test = 1*(y_test==3)"
   ]
  },
  {
   "cell_type": "code",
   "execution_count": 13,
   "id": "01e4e969",
   "metadata": {
    "execution": {
     "iopub.execute_input": "2021-09-03T10:07:14.140378Z",
     "iopub.status.busy": "2021-09-03T10:07:14.139108Z",
     "iopub.status.idle": "2021-09-03T10:07:14.155945Z",
     "shell.execute_reply": "2021-09-03T10:07:14.155439Z"
    },
    "papermill": {
     "duration": 0.051944,
     "end_time": "2021-09-03T10:07:14.156074",
     "exception": false,
     "start_time": "2021-09-03T10:07:14.104130",
     "status": "completed"
    },
    "tags": []
   },
   "outputs": [
    {
     "data": {
      "text/plain": [
       "((11982, 28, 28), (1984, 28, 28))"
      ]
     },
     "execution_count": 13,
     "metadata": {},
     "output_type": "execute_result"
    }
   ],
   "source": [
    "X_train.shape, X_test.shape"
   ]
  },
  {
   "cell_type": "markdown",
   "id": "5ccf3f85",
   "metadata": {
    "papermill": {
     "duration": 0.030501,
     "end_time": "2021-09-03T10:07:14.217537",
     "exception": false,
     "start_time": "2021-09-03T10:07:14.187036",
     "status": "completed"
    },
    "tags": []
   },
   "source": [
    "We reshape the data to flatten the image pixels into a set of features or co-variates:"
   ]
  },
  {
   "cell_type": "code",
   "execution_count": 14,
   "id": "5286a4a3",
   "metadata": {
    "execution": {
     "iopub.execute_input": "2021-09-03T10:07:14.283998Z",
     "iopub.status.busy": "2021-09-03T10:07:14.283393Z",
     "iopub.status.idle": "2021-09-03T10:07:14.299388Z",
     "shell.execute_reply": "2021-09-03T10:07:14.298903Z"
    },
    "papermill": {
     "duration": 0.051195,
     "end_time": "2021-09-03T10:07:14.299521",
     "exception": false,
     "start_time": "2021-09-03T10:07:14.248326",
     "status": "completed"
    },
    "tags": []
   },
   "outputs": [
    {
     "data": {
      "text/plain": [
       "((11982, 784), (1984, 784))"
      ]
     },
     "execution_count": 14,
     "metadata": {},
     "output_type": "execute_result"
    }
   ],
   "source": [
    "X_train = X_train.reshape(X_train.shape[0], -1)\n",
    "X_test = X_test.reshape(X_test.shape[0], -1)\n",
    "X_train.shape, X_test.shape"
   ]
  },
  {
   "cell_type": "code",
   "execution_count": 15,
   "id": "73c5f88a",
   "metadata": {
    "execution": {
     "iopub.execute_input": "2021-09-03T10:07:14.368189Z",
     "iopub.status.busy": "2021-09-03T10:07:14.367572Z",
     "iopub.status.idle": "2021-09-03T10:07:14.389829Z",
     "shell.execute_reply": "2021-09-03T10:07:14.389272Z"
    },
    "papermill": {
     "duration": 0.059542,
     "end_time": "2021-09-03T10:07:14.390017",
     "exception": false,
     "start_time": "2021-09-03T10:07:14.330475",
     "status": "completed"
    },
    "tags": []
   },
   "outputs": [],
   "source": [
    "#Impoting functions from 'Kudzu'\n",
    "from kudzu.model import Model\n",
    "from kudzu.train import Learner\n",
    "from kudzu.optim import GD\n",
    "from kudzu.data import Data, Sampler,Dataloader\n",
    "\n",
    "from kudzu.callbacks import AccCallback\n",
    "from kudzu.callbacks import ClfCallback\n",
    "\n",
    "from kudzu.loss import MSE\n",
    "\n",
    "from kudzu.layer import Sigmoid,Relu\n",
    "from kudzu.layer import Affine"
   ]
  },
  {
   "cell_type": "markdown",
   "id": "bc01172a",
   "metadata": {
    "papermill": {
     "duration": 0.030874,
     "end_time": "2021-09-03T10:07:14.452843",
     "exception": false,
     "start_time": "2021-09-03T10:07:14.421969",
     "status": "completed"
    },
    "tags": []
   },
   "source": [
    "### Let us create a `Config` class, to store important parameters. \n",
    "This class essentially plays the role of a dictionary."
   ]
  },
  {
   "cell_type": "code",
   "execution_count": 16,
   "id": "978281aa",
   "metadata": {
    "execution": {
     "iopub.execute_input": "2021-09-03T10:07:14.521648Z",
     "iopub.status.busy": "2021-09-03T10:07:14.521011Z",
     "iopub.status.idle": "2021-09-03T10:07:14.534111Z",
     "shell.execute_reply": "2021-09-03T10:07:14.533620Z"
    },
    "papermill": {
     "duration": 0.050672,
     "end_time": "2021-09-03T10:07:14.534243",
     "exception": false,
     "start_time": "2021-09-03T10:07:14.483571",
     "status": "completed"
    },
    "tags": []
   },
   "outputs": [],
   "source": [
    "class Config:\n",
    "    pass\n",
    "config = Config()\n",
    "config.lr = 0.001\n",
    "config.num_epochs = 250\n",
    "config.bs = 50"
   ]
  },
  {
   "cell_type": "markdown",
   "id": "1385fa59",
   "metadata": {
    "papermill": {
     "duration": 0.030976,
     "end_time": "2021-09-03T10:07:14.596262",
     "exception": false,
     "start_time": "2021-09-03T10:07:14.565286",
     "status": "completed"
    },
    "tags": []
   },
   "source": [
    "### Running Models with the Training data\n",
    "Details about the network layers:\n",
    "- A first affine layer has 784 inputs and does 100 affine transforms. These are followed by a Relu\n",
    "- A second affine layer has 100 inputs from the 100 activations of the past layer, and does 100 affine transforms. These are followed by a Relu\n",
    "- A third affine layer has 100 activations and does 2 affine transformations to create an embedding for visualization. There is no non-linearity here.\n",
    "- A final \"logistic regression\" which has an affine transform from 2 inputs to 1 output, which is squeezed through a sigmoid.\n"
   ]
  },
  {
   "cell_type": "code",
   "execution_count": 17,
   "id": "2b9c66db",
   "metadata": {
    "execution": {
     "iopub.execute_input": "2021-09-03T10:07:14.664203Z",
     "iopub.status.busy": "2021-09-03T10:07:14.663568Z",
     "iopub.status.idle": "2021-09-03T10:07:14.678105Z",
     "shell.execute_reply": "2021-09-03T10:07:14.677609Z"
    },
    "papermill": {
     "duration": 0.050637,
     "end_time": "2021-09-03T10:07:14.678238",
     "exception": false,
     "start_time": "2021-09-03T10:07:14.627601",
     "status": "completed"
    },
    "tags": []
   },
   "outputs": [],
   "source": [
    "data = Data(X_train, y_train.reshape(-1,1))\n",
    "sampler = Sampler(data, config.bs, shuffle=True)\n",
    "\n",
    "dl = Dataloader(data, sampler)\n",
    "\n",
    "opt = GD(config.lr)\n",
    "loss = MSE()"
   ]
  },
  {
   "cell_type": "code",
   "execution_count": 18,
   "id": "b275e4c2",
   "metadata": {
    "execution": {
     "iopub.execute_input": "2021-09-03T10:07:14.745129Z",
     "iopub.status.busy": "2021-09-03T10:07:14.744489Z",
     "iopub.status.idle": "2021-09-03T10:07:14.761476Z",
     "shell.execute_reply": "2021-09-03T10:07:14.760978Z"
    },
    "papermill": {
     "duration": 0.052202,
     "end_time": "2021-09-03T10:07:14.761613",
     "exception": false,
     "start_time": "2021-09-03T10:07:14.709411",
     "status": "completed"
    },
    "tags": []
   },
   "outputs": [],
   "source": [
    "training_data_x = X_train\n",
    "testing_data_x = X_test\n",
    "training_data_y = y_train.reshape(-1,1)\n",
    "testing_data_y = y_test.reshape(-1,1)"
   ]
  },
  {
   "cell_type": "code",
   "execution_count": 19,
   "id": "76951160",
   "metadata": {
    "execution": {
     "iopub.execute_input": "2021-09-03T10:07:14.835173Z",
     "iopub.status.busy": "2021-09-03T10:07:14.834541Z",
     "iopub.status.idle": "2021-09-03T10:07:14.850769Z",
     "shell.execute_reply": "2021-09-03T10:07:14.851224Z"
    },
    "papermill": {
     "duration": 0.058828,
     "end_time": "2021-09-03T10:07:14.851383",
     "exception": false,
     "start_time": "2021-09-03T10:07:14.792555",
     "status": "completed"
    },
    "tags": []
   },
   "outputs": [
    {
     "name": "stdout",
     "output_type": "stream",
     "text": [
      "xavier\n",
      "xavier\n",
      "xavier\n",
      "xavier\n",
      "xavier\n"
     ]
    }
   ],
   "source": [
    "layers = [Affine(\"first\", 784, 100), Relu(\"first\"), Affine(\"second\", 100, 100), Relu(\"second\"), Affine(\"third\", 100, 2), Affine(\"last\", 2, 1), Sigmoid(\"last\")]\n",
    "model_nn = Model(layers)\n",
    "model_lr = Model([Affine(\"logits\", 784, 1), Sigmoid(\"sigmoid\")])"
   ]
  },
  {
   "cell_type": "code",
   "execution_count": 20,
   "id": "6eede77a",
   "metadata": {
    "execution": {
     "iopub.execute_input": "2021-09-03T10:07:14.918997Z",
     "iopub.status.busy": "2021-09-03T10:07:14.918356Z",
     "iopub.status.idle": "2021-09-03T10:07:14.933844Z",
     "shell.execute_reply": "2021-09-03T10:07:14.933266Z"
    },
    "papermill": {
     "duration": 0.050907,
     "end_time": "2021-09-03T10:07:14.933979",
     "exception": false,
     "start_time": "2021-09-03T10:07:14.883072",
     "status": "completed"
    },
    "tags": []
   },
   "outputs": [],
   "source": [
    "nn_learner = Learner(loss, model_nn, opt, config.num_epochs)\n",
    "acc_nn = ClfCallback(nn_learner, config.bs, training_data_x , testing_data_x, training_data_y, testing_data_y)\n",
    "nn_learner.set_callbacks([acc_nn])"
   ]
  },
  {
   "cell_type": "code",
   "execution_count": 21,
   "id": "877b6cc7",
   "metadata": {
    "execution": {
     "iopub.execute_input": "2021-09-03T10:07:15.007120Z",
     "iopub.status.busy": "2021-09-03T10:07:15.006483Z",
     "iopub.status.idle": "2021-09-03T10:07:15.018707Z",
     "shell.execute_reply": "2021-09-03T10:07:15.018203Z"
    },
    "papermill": {
     "duration": 0.053532,
     "end_time": "2021-09-03T10:07:15.018845",
     "exception": false,
     "start_time": "2021-09-03T10:07:14.965313",
     "status": "completed"
    },
    "tags": []
   },
   "outputs": [],
   "source": [
    "lr_learner = Learner(loss, model_lr, opt, config.num_epochs)\n",
    "acc_lr = ClfCallback(lr_learner, config.bs, training_data_x , testing_data_x, training_data_y, testing_data_y)\n",
    "lr_learner.set_callbacks([acc_lr])"
   ]
  },
  {
   "cell_type": "code",
   "execution_count": 22,
   "id": "d9b133c3",
   "metadata": {
    "execution": {
     "iopub.execute_input": "2021-09-03T10:07:15.086782Z",
     "iopub.status.busy": "2021-09-03T10:07:15.086147Z",
     "iopub.status.idle": "2021-09-03T10:08:45.114475Z",
     "shell.execute_reply": "2021-09-03T10:08:45.115358Z"
    },
    "papermill": {
     "duration": 90.064963,
     "end_time": "2021-09-03T10:08:45.115523",
     "exception": false,
     "start_time": "2021-09-03T10:07:15.050560",
     "status": "completed"
    },
    "tags": []
   },
   "outputs": [
    {
     "name": "stdout",
     "output_type": "stream",
     "text": [
      "Epoch 0, Loss 0.2194\n",
      "Training Accuracy: 0.8110, Testing Accuracy: 0.8246\n",
      "\n"
     ]
    },
    {
     "name": "stdout",
     "output_type": "stream",
     "text": [
      "Epoch 10, Loss 0.0671\n",
      "Training Accuracy: 0.9321, Testing Accuracy: 0.9451\n",
      "\n"
     ]
    },
    {
     "name": "stdout",
     "output_type": "stream",
     "text": [
      "Epoch 20, Loss 0.0462\n",
      "Training Accuracy: 0.9518, Testing Accuracy: 0.9567\n",
      "\n"
     ]
    },
    {
     "name": "stdout",
     "output_type": "stream",
     "text": [
      "Epoch 30, Loss 0.038\n",
      "Training Accuracy: 0.9579, Testing Accuracy: 0.9662\n",
      "\n"
     ]
    },
    {
     "name": "stdout",
     "output_type": "stream",
     "text": [
      "Epoch 40, Loss 0.0335\n",
      "Training Accuracy: 0.9619, Testing Accuracy: 0.9688\n",
      "\n"
     ]
    },
    {
     "name": "stdout",
     "output_type": "stream",
     "text": [
      "Epoch 50, Loss 0.0307\n",
      "Training Accuracy: 0.9645, Testing Accuracy: 0.9718\n",
      "\n"
     ]
    },
    {
     "name": "stdout",
     "output_type": "stream",
     "text": [
      "Epoch 60, Loss 0.0286\n",
      "Training Accuracy: 0.9672, Testing Accuracy: 0.9723\n",
      "\n"
     ]
    },
    {
     "name": "stdout",
     "output_type": "stream",
     "text": [
      "Epoch 70, Loss 0.027\n",
      "Training Accuracy: 0.9689, Testing Accuracy: 0.9718\n",
      "\n"
     ]
    },
    {
     "name": "stdout",
     "output_type": "stream",
     "text": [
      "Epoch 80, Loss 0.0257\n",
      "Training Accuracy: 0.9705, Testing Accuracy: 0.9723\n",
      "\n"
     ]
    },
    {
     "name": "stdout",
     "output_type": "stream",
     "text": [
      "Epoch 90, Loss 0.0246\n",
      "Training Accuracy: 0.9715, Testing Accuracy: 0.9718\n",
      "\n"
     ]
    },
    {
     "name": "stdout",
     "output_type": "stream",
     "text": [
      "Epoch 100, Loss 0.0236\n",
      "Training Accuracy: 0.9726, Testing Accuracy: 0.9723\n",
      "\n"
     ]
    },
    {
     "name": "stdout",
     "output_type": "stream",
     "text": [
      "Epoch 110, Loss 0.0228\n",
      "Training Accuracy: 0.9735, Testing Accuracy: 0.9723\n",
      "\n"
     ]
    },
    {
     "name": "stdout",
     "output_type": "stream",
     "text": [
      "Epoch 120, Loss 0.0221\n",
      "Training Accuracy: 0.9747, Testing Accuracy: 0.9728\n",
      "\n"
     ]
    },
    {
     "name": "stdout",
     "output_type": "stream",
     "text": [
      "Epoch 130, Loss 0.0214\n",
      "Training Accuracy: 0.9755, Testing Accuracy: 0.9728\n",
      "\n"
     ]
    },
    {
     "name": "stdout",
     "output_type": "stream",
     "text": [
      "Epoch 140, Loss 0.0208\n",
      "Training Accuracy: 0.9760, Testing Accuracy: 0.9733\n",
      "\n"
     ]
    },
    {
     "name": "stdout",
     "output_type": "stream",
     "text": [
      "Epoch 150, Loss 0.0202\n",
      "Training Accuracy: 0.9765, Testing Accuracy: 0.9748\n",
      "\n"
     ]
    },
    {
     "name": "stdout",
     "output_type": "stream",
     "text": [
      "Epoch 160, Loss 0.0197\n",
      "Training Accuracy: 0.9771, Testing Accuracy: 0.9768\n",
      "\n"
     ]
    },
    {
     "name": "stdout",
     "output_type": "stream",
     "text": [
      "Epoch 170, Loss 0.0192\n",
      "Training Accuracy: 0.9775, Testing Accuracy: 0.9768\n",
      "\n"
     ]
    },
    {
     "name": "stdout",
     "output_type": "stream",
     "text": [
      "Epoch 180, Loss 0.0187\n",
      "Training Accuracy: 0.9782, Testing Accuracy: 0.9758\n",
      "\n"
     ]
    },
    {
     "name": "stdout",
     "output_type": "stream",
     "text": [
      "Epoch 190, Loss 0.0182\n",
      "Training Accuracy: 0.9794, Testing Accuracy: 0.9758\n",
      "\n"
     ]
    },
    {
     "name": "stdout",
     "output_type": "stream",
     "text": [
      "Epoch 200, Loss 0.0178\n",
      "Training Accuracy: 0.9797, Testing Accuracy: 0.9753\n",
      "\n"
     ]
    },
    {
     "name": "stdout",
     "output_type": "stream",
     "text": [
      "Epoch 210, Loss 0.0174\n",
      "Training Accuracy: 0.9803, Testing Accuracy: 0.9753\n",
      "\n"
     ]
    },
    {
     "name": "stdout",
     "output_type": "stream",
     "text": [
      "Epoch 220, Loss 0.017\n",
      "Training Accuracy: 0.9806, Testing Accuracy: 0.9763\n",
      "\n"
     ]
    },
    {
     "name": "stdout",
     "output_type": "stream",
     "text": [
      "Epoch 230, Loss 0.0166\n",
      "Training Accuracy: 0.9811, Testing Accuracy: 0.9758\n",
      "\n"
     ]
    },
    {
     "name": "stdout",
     "output_type": "stream",
     "text": [
      "Epoch 240, Loss 0.0162\n",
      "Training Accuracy: 0.9813, Testing Accuracy: 0.9758\n",
      "\n"
     ]
    },
    {
     "data": {
      "text/plain": [
       "0.004391401513589862"
      ]
     },
     "execution_count": 22,
     "metadata": {},
     "output_type": "execute_result"
    }
   ],
   "source": [
    "nn_learner.train_loop(dl)"
   ]
  },
  {
   "cell_type": "code",
   "execution_count": 23,
   "id": "e0163366",
   "metadata": {
    "execution": {
     "iopub.execute_input": "2021-09-03T10:08:45.209239Z",
     "iopub.status.busy": "2021-09-03T10:08:45.208531Z",
     "iopub.status.idle": "2021-09-03T10:09:02.112629Z",
     "shell.execute_reply": "2021-09-03T10:09:02.113504Z"
    },
    "papermill": {
     "duration": 16.958641,
     "end_time": "2021-09-03T10:09:02.113663",
     "exception": false,
     "start_time": "2021-09-03T10:08:45.155022",
     "status": "completed"
    },
    "tags": []
   },
   "outputs": [
    {
     "name": "stdout",
     "output_type": "stream",
     "text": [
      "Epoch 0, Loss 0.2153\n",
      "Training Accuracy: 0.7377, Testing Accuracy: 0.7364\n",
      "\n"
     ]
    },
    {
     "name": "stdout",
     "output_type": "stream",
     "text": [
      "Epoch 10, Loss 0.1021\n",
      "Training Accuracy: 0.9075, Testing Accuracy: 0.9183\n",
      "\n"
     ]
    },
    {
     "name": "stdout",
     "output_type": "stream",
     "text": [
      "Epoch 20, Loss 0.0786\n",
      "Training Accuracy: 0.9283, Testing Accuracy: 0.9390\n",
      "\n"
     ]
    },
    {
     "name": "stdout",
     "output_type": "stream",
     "text": [
      "Epoch 30, Loss 0.0678\n",
      "Training Accuracy: 0.9365, Testing Accuracy: 0.9446\n",
      "\n"
     ]
    },
    {
     "name": "stdout",
     "output_type": "stream",
     "text": [
      "Epoch 40, Loss 0.0613\n",
      "Training Accuracy: 0.9422, Testing Accuracy: 0.9501\n",
      "\n"
     ]
    },
    {
     "name": "stdout",
     "output_type": "stream",
     "text": [
      "Epoch 50, Loss 0.0568\n",
      "Training Accuracy: 0.9456, Testing Accuracy: 0.9536\n",
      "\n"
     ]
    },
    {
     "name": "stdout",
     "output_type": "stream",
     "text": [
      "Epoch 60, Loss 0.0536\n",
      "Training Accuracy: 0.9480, Testing Accuracy: 0.9556\n",
      "\n"
     ]
    },
    {
     "name": "stdout",
     "output_type": "stream",
     "text": [
      "Epoch 70, Loss 0.0511\n",
      "Training Accuracy: 0.9495, Testing Accuracy: 0.9572\n",
      "\n"
     ]
    },
    {
     "name": "stdout",
     "output_type": "stream",
     "text": [
      "Epoch 80, Loss 0.049\n",
      "Training Accuracy: 0.9505, Testing Accuracy: 0.9592\n",
      "\n"
     ]
    },
    {
     "name": "stdout",
     "output_type": "stream",
     "text": [
      "Epoch 90, Loss 0.0474\n",
      "Training Accuracy: 0.9524, Testing Accuracy: 0.9602\n",
      "\n"
     ]
    },
    {
     "name": "stdout",
     "output_type": "stream",
     "text": [
      "Epoch 100, Loss 0.0459\n",
      "Training Accuracy: 0.9533, Testing Accuracy: 0.9622\n",
      "\n"
     ]
    },
    {
     "name": "stdout",
     "output_type": "stream",
     "text": [
      "Epoch 110, Loss 0.0447\n",
      "Training Accuracy: 0.9545, Testing Accuracy: 0.9627\n",
      "\n"
     ]
    },
    {
     "name": "stdout",
     "output_type": "stream",
     "text": [
      "Epoch 120, Loss 0.0437\n",
      "Training Accuracy: 0.9554, Testing Accuracy: 0.9632\n",
      "\n"
     ]
    },
    {
     "name": "stdout",
     "output_type": "stream",
     "text": [
      "Epoch 130, Loss 0.0428\n",
      "Training Accuracy: 0.9564, Testing Accuracy: 0.9642\n",
      "\n"
     ]
    },
    {
     "name": "stdout",
     "output_type": "stream",
     "text": [
      "Epoch 140, Loss 0.0419\n",
      "Training Accuracy: 0.9568, Testing Accuracy: 0.9642\n",
      "\n"
     ]
    },
    {
     "name": "stdout",
     "output_type": "stream",
     "text": [
      "Epoch 150, Loss 0.0412\n",
      "Training Accuracy: 0.9574, Testing Accuracy: 0.9642\n",
      "\n"
     ]
    },
    {
     "name": "stdout",
     "output_type": "stream",
     "text": [
      "Epoch 160, Loss 0.0405\n",
      "Training Accuracy: 0.9576, Testing Accuracy: 0.9642\n",
      "\n"
     ]
    },
    {
     "name": "stdout",
     "output_type": "stream",
     "text": [
      "Epoch 170, Loss 0.0399\n",
      "Training Accuracy: 0.9583, Testing Accuracy: 0.9647\n",
      "\n"
     ]
    },
    {
     "name": "stdout",
     "output_type": "stream",
     "text": [
      "Epoch 180, Loss 0.0394\n",
      "Training Accuracy: 0.9585, Testing Accuracy: 0.9642\n",
      "\n"
     ]
    },
    {
     "name": "stdout",
     "output_type": "stream",
     "text": [
      "Epoch 190, Loss 0.0389\n",
      "Training Accuracy: 0.9593, Testing Accuracy: 0.9647\n",
      "\n"
     ]
    },
    {
     "name": "stdout",
     "output_type": "stream",
     "text": [
      "Epoch 200, Loss 0.0384\n",
      "Training Accuracy: 0.9595, Testing Accuracy: 0.9652\n",
      "\n"
     ]
    },
    {
     "name": "stdout",
     "output_type": "stream",
     "text": [
      "Epoch 210, Loss 0.038\n",
      "Training Accuracy: 0.9598, Testing Accuracy: 0.9652\n",
      "\n"
     ]
    },
    {
     "name": "stdout",
     "output_type": "stream",
     "text": [
      "Epoch 220, Loss 0.0375\n",
      "Training Accuracy: 0.9599, Testing Accuracy: 0.9652\n",
      "\n"
     ]
    },
    {
     "name": "stdout",
     "output_type": "stream",
     "text": [
      "Epoch 230, Loss 0.0372\n",
      "Training Accuracy: 0.9604, Testing Accuracy: 0.9652\n",
      "\n"
     ]
    },
    {
     "name": "stdout",
     "output_type": "stream",
     "text": [
      "Epoch 240, Loss 0.0368\n",
      "Training Accuracy: 0.9606, Testing Accuracy: 0.9657\n",
      "\n"
     ]
    },
    {
     "data": {
      "text/plain": [
       "0.033215701673335506"
      ]
     },
     "execution_count": 23,
     "metadata": {},
     "output_type": "execute_result"
    }
   ],
   "source": [
    "lr_learner.train_loop(dl)"
   ]
  },
  {
   "cell_type": "code",
   "execution_count": 24,
   "id": "ca410940",
   "metadata": {
    "execution": {
     "iopub.execute_input": "2021-09-03T10:09:02.222419Z",
     "iopub.status.busy": "2021-09-03T10:09:02.221780Z",
     "iopub.status.idle": "2021-09-03T10:09:02.478264Z",
     "shell.execute_reply": "2021-09-03T10:09:02.477744Z"
    },
    "papermill": {
     "duration": 0.317161,
     "end_time": "2021-09-03T10:09:02.478401",
     "exception": false,
     "start_time": "2021-09-03T10:09:02.161240",
     "status": "completed"
    },
    "tags": []
   },
   "outputs": [
    {
     "data": {
      "text/plain": [
       "<matplotlib.legend.Legend at 0x7efbfe152ef0>"
      ]
     },
     "execution_count": 24,
     "metadata": {},
     "output_type": "execute_result"
    },
    {
     "data": {
      "image/png": "[encoded data removed]",
      "text/plain": [
       "<Figure size 1080x720 with 1 Axes>"
      ]
     },
     "metadata": {
      "needs_background": "light"
     },
     "output_type": "display_data"
    }
   ],
   "source": [
    "#comparing the results of NN and LR\n",
    "plt.figure(figsize=(15,10))\n",
    "\n",
    "# Neural Network plots\n",
    "plt.plot(acc_nn.accuracies, 'r-', label = \"Training Accuracies - NN\")\n",
    "plt.plot(acc_nn.test_accuracies, 'g-', label = \"Testing Accuracies - NN\")\n",
    "\n",
    "# Logistic Regression plots\n",
    "plt.plot(acc_lr.accuracies, 'k-', label = \"Training Accuracies - LR\")\n",
    "plt.plot(acc_lr.test_accuracies, 'b-', label = \"Testing Accuracies - LR\")\n",
    "plt.legend()"
   ]
  },
  {
   "cell_type": "markdown",
   "id": "80dfb35c",
   "metadata": {
    "papermill": {
     "duration": 0.050632,
     "end_time": "2021-09-03T10:09:02.578436",
     "exception": false,
     "start_time": "2021-09-03T10:09:02.527804",
     "status": "completed"
    },
    "tags": []
   },
   "source": [
    "#### Plotting the outputs of this layer of the NN.\n"
   ]
  },
  {
   "cell_type": "code",
   "execution_count": 25,
   "id": "45eb2ff5",
   "metadata": {
    "execution": {
     "iopub.execute_input": "2021-09-03T10:09:02.684964Z",
     "iopub.status.busy": "2021-09-03T10:09:02.683050Z",
     "iopub.status.idle": "2021-09-03T10:09:02.705464Z",
     "shell.execute_reply": "2021-09-03T10:09:02.706329Z"
    },
    "papermill": {
     "duration": 0.079105,
     "end_time": "2021-09-03T10:09:02.706502",
     "exception": false,
     "start_time": "2021-09-03T10:09:02.627397",
     "status": "completed"
    },
    "tags": []
   },
   "outputs": [],
   "source": [
    "new_model = Model(layers[:-2])\n",
    "testing_plot = new_model(testing_data_x)"
   ]
  },
  {
   "cell_type": "code",
   "execution_count": 26,
   "id": "4c0a5485",
   "metadata": {
    "execution": {
     "iopub.execute_input": "2021-09-03T10:09:02.814321Z",
     "iopub.status.busy": "2021-09-03T10:09:02.813688Z",
     "iopub.status.idle": "2021-09-03T10:09:03.048656Z",
     "shell.execute_reply": "2021-09-03T10:09:03.049193Z"
    },
    "papermill": {
     "duration": 0.293033,
     "end_time": "2021-09-03T10:09:03.049351",
     "exception": false,
     "start_time": "2021-09-03T10:09:02.756318",
     "status": "completed"
    },
    "tags": []
   },
   "outputs": [
    {
     "data": {
      "text/plain": [
       "Text(0.5, 1.0, 'Outputs')"
      ]
     },
     "execution_count": 26,
     "metadata": {},
     "output_type": "execute_result"
    },
    {
     "data": {
      "image/png": "[encoded data removed]",
      "text/plain": [
       "<Figure size 576x504 with 1 Axes>"
      ]
     },
     "metadata": {
      "needs_background": "light"
     },
     "output_type": "display_data"
    }
   ],
   "source": [
    "# Plotting the scatter plot of points and color coding by class\n",
    "plt.figure(figsize=(8,7))\n",
    "plt.scatter(testing_plot[:,0], testing_plot[:,1], alpha = 0.1, c = y_test.ravel());\n",
    "plt.title('Outputs')"
   ]
  },
  {
   "cell_type": "markdown",
   "id": "a74fcf8f",
   "metadata": {
    "papermill": {
     "duration": 0.052408,
     "end_time": "2021-09-03T10:09:03.155069",
     "exception": false,
     "start_time": "2021-09-03T10:09:03.102661",
     "status": "completed"
    },
    "tags": []
   },
   "source": [
    "Probability contours"
   ]
  },
  {
   "cell_type": "code",
   "execution_count": 27,
   "id": "d0afc8e3",
   "metadata": {
    "execution": {
     "iopub.execute_input": "2021-09-03T10:09:03.269028Z",
     "iopub.status.busy": "2021-09-03T10:09:03.268344Z",
     "iopub.status.idle": "2021-09-03T10:09:03.280732Z",
     "shell.execute_reply": "2021-09-03T10:09:03.281212Z"
    },
    "papermill": {
     "duration": 0.071418,
     "end_time": "2021-09-03T10:09:03.281373",
     "exception": false,
     "start_time": "2021-09-03T10:09:03.209955",
     "status": "completed"
    },
    "tags": []
   },
   "outputs": [],
   "source": [
    "model_prob = Model(layers[-2:]) "
   ]
  },
  {
   "cell_type": "code",
   "execution_count": 28,
   "id": "9b96e238",
   "metadata": {
    "execution": {
     "iopub.execute_input": "2021-09-03T10:09:03.399505Z",
     "iopub.status.busy": "2021-09-03T10:09:03.398853Z",
     "iopub.status.idle": "2021-09-03T10:09:03.416398Z",
     "shell.execute_reply": "2021-09-03T10:09:03.416928Z"
    },
    "papermill": {
     "duration": 0.081099,
     "end_time": "2021-09-03T10:09:03.417102",
     "exception": false,
     "start_time": "2021-09-03T10:09:03.336003",
     "status": "completed"
    },
    "tags": []
   },
   "outputs": [],
   "source": [
    "#creating the x and y ranges according to the above generated plot.\n",
    "x_range = np.linspace(-4, 1, 100) \n",
    "y_range = np.linspace(-6, 6, 100) \n",
    "x_grid, y_grid = np.meshgrid(x_range, y_range) # x_grid and y_grig are of size 100 X 100\n",
    "\n",
    "# converting x_grid and y_grid to continuous arrays\n",
    "x_gridflat = np.ravel(x_grid)\n",
    "y_gridflat = np.ravel(y_grid)\n",
    "\n",
    "# The last layer of the current model takes two columns as input. Hence transpose of np.vstack() is required.\n",
    "X = np.vstack((x_gridflat, y_gridflat)).T\n",
    "\n",
    "prob_contour = model_prob(X).reshape(100,100) "
   ]
  },
  {
   "cell_type": "code",
   "execution_count": 29,
   "id": "da72499a",
   "metadata": {
    "execution": {
     "iopub.execute_input": "2021-09-03T10:09:03.574832Z",
     "iopub.status.busy": "2021-09-03T10:09:03.574213Z",
     "iopub.status.idle": "2021-09-03T10:09:03.863947Z",
     "shell.execute_reply": "2021-09-03T10:09:03.864625Z"
    },
    "papermill": {
     "duration": 0.350995,
     "end_time": "2021-09-03T10:09:03.864882",
     "exception": false,
     "start_time": "2021-09-03T10:09:03.513887",
     "status": "completed"
    },
    "tags": []
   },
   "outputs": [
    {
     "data": {
      "image/png": "[encoded data removed]",
      "text/plain": [
       "<Figure size 720x648 with 1 Axes>"
      ]
     },
     "metadata": {
      "needs_background": "light"
     },
     "output_type": "display_data"
    }
   ],
   "source": [
    "plt.figure(figsize=(10,9))\n",
    "plt.scatter(testing_plot[:,0], testing_plot[:,1], alpha = 0.1, c = y_test.ravel())\n",
    "contours = plt.contour(x_grid,y_grid,prob_contour)\n",
    "plt.title('Probability Contours')\n",
    "plt.clabel(contours, inline = True );"
   ]
  },
  {
   "cell_type": "code",
   "execution_count": null,
   "id": "e81b4ac7",
   "metadata": {
    "papermill": {
     "duration": 0.054455,
     "end_time": "2021-09-03T10:09:03.974558",
     "exception": false,
     "start_time": "2021-09-03T10:09:03.920103",
     "status": "completed"
    },
    "tags": []
   },
   "outputs": [],
   "source": []
  }
 ],
 "metadata": {
  "kernelspec": {
   "display_name": "Python 3",
   "language": "python",
   "name": "python3"
  },
  "language_info": {
   "codemirror_mode": {
    "name": "ipython",
    "version": 3
   },
   "file_extension": ".py",
   "mimetype": "text/x-python",
   "name": "python",
   "nbconvert_exporter": "python",
   "pygments_lexer": "ipython3",
   "version": "3.6.14"
  },
  "papermill": {
   "default_parameters": {},
   "duration": 117.377386,
   "end_time": "2021-09-03T10:09:04.439344",
   "environment_variables": {},
   "exception": null,
   "input_path": "2020-08-11-part2.ipynb",
   "output_path": "2020-08-11-part2.ipynb",
   "parameters": {},
   "start_time": "2021-09-03T10:07:07.061958",
   "version": "2.3.3"
  }
 },
 "nbformat": 4,
 "nbformat_minor": 5
}