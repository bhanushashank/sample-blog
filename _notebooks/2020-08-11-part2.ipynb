{
 "cells": [
  {
   "cell_type": "markdown",
   "id": "98380cd3",
   "metadata": {
    "papermill": {
     "duration": 0.031381,
     "end_time": "2022-06-07T00:30:47.044990",
     "exception": false,
     "start_time": "2022-06-07T00:30:47.013609",
     "status": "completed"
    },
    "tags": []
   },
   "source": [
    "# Distinguish Your Own Digits (DYOD)"
   ]
  },
  {
   "cell_type": "markdown",
   "id": "ef31240d",
   "metadata": {
    "papermill": {
     "duration": 0.028324,
     "end_time": "2022-06-07T00:30:47.099121",
     "exception": false,
     "start_time": "2022-06-07T00:30:47.070797",
     "status": "completed"
    },
    "tags": []
   },
   "source": [
    "You are going to write a classifier that distinguishes between the number 3 and number 8."
   ]
  },
  {
   "cell_type": "code",
   "execution_count": 1,
   "id": "b15c8646",
   "metadata": {
    "execution": {
     "iopub.execute_input": "2022-06-07T00:30:47.160132Z",
     "iopub.status.busy": "2022-06-07T00:30:47.159509Z",
     "iopub.status.idle": "2022-06-07T00:30:47.170572Z",
     "shell.execute_reply": "2022-06-07T00:30:47.170049Z"
    },
    "papermill": {
     "duration": 0.046054,
     "end_time": "2022-06-07T00:30:47.170692",
     "exception": false,
     "start_time": "2022-06-07T00:30:47.124638",
     "status": "completed"
    },
    "tags": []
   },
   "outputs": [],
   "source": [
    "%load_ext autoreload\n",
    "%autoreload 2"
   ]
  },
  {
   "cell_type": "code",
   "execution_count": 2,
   "id": "22ef38dc",
   "metadata": {
    "execution": {
     "iopub.execute_input": "2022-06-07T00:30:47.224393Z",
     "iopub.status.busy": "2022-06-07T00:30:47.223741Z",
     "iopub.status.idle": "2022-06-07T00:30:47.794113Z",
     "shell.execute_reply": "2022-06-07T00:30:47.793467Z"
    },
    "papermill": {
     "duration": 0.59944,
     "end_time": "2022-06-07T00:30:47.794264",
     "exception": false,
     "start_time": "2022-06-07T00:30:47.194824",
     "status": "completed"
    },
    "tags": []
   },
   "outputs": [],
   "source": [
    "%matplotlib inline\n",
    "import numpy as np\n",
    "import matplotlib.pyplot as plt\n",
    "import pandas as pd"
   ]
  },
  {
   "cell_type": "markdown",
   "id": "ba036198",
   "metadata": {
    "papermill": {
     "duration": 0.025873,
     "end_time": "2022-06-07T00:30:47.849860",
     "exception": false,
     "start_time": "2022-06-07T00:30:47.823987",
     "status": "completed"
    },
    "tags": []
   },
   "source": [
    "From the command line run `pip install mnist`. This is a library that will help you bring down the mnist dataset. If you run this from a notebook, you need to put  `!pip install mnist` in a cell by itself."
   ]
  },
  {
   "cell_type": "code",
   "execution_count": 3,
   "id": "bb6ad8a1",
   "metadata": {
    "execution": {
     "iopub.execute_input": "2022-06-07T00:30:47.905475Z",
     "iopub.status.busy": "2022-06-07T00:30:47.904857Z",
     "iopub.status.idle": "2022-06-07T00:30:50.411535Z",
     "shell.execute_reply": "2022-06-07T00:30:50.408902Z"
    },
    "papermill": {
     "duration": 2.536055,
     "end_time": "2022-06-07T00:30:50.411673",
     "exception": false,
     "start_time": "2022-06-07T00:30:47.875618",
     "status": "completed"
    },
    "tags": []
   },
   "outputs": [
    {
     "name": "stdout",
     "output_type": "stream",
     "text": [
      "Collecting mnist\r\n"
     ]
    },
    {
     "name": "stdout",
     "output_type": "stream",
     "text": [
      "  Downloading mnist-0.2.2-py2.py3-none-any.whl (3.5 kB)\r\n",
      "Requirement already satisfied: numpy in /opt/hostedtoolcache/Python/3.6.15/x64/lib/python3.6/site-packages (from mnist) (1.19.5)\r\n"
     ]
    },
    {
     "name": "stdout",
     "output_type": "stream",
     "text": [
      "Installing collected packages: mnist\r\n"
     ]
    },
    {
     "name": "stdout",
     "output_type": "stream",
     "text": [
      "Successfully installed mnist-0.2.2\r\n"
     ]
    }
   ],
   "source": [
    "!pip install mnist"
   ]
  },
  {
   "cell_type": "markdown",
   "id": "69df9c9a",
   "metadata": {
    "papermill": {
     "duration": 0.025271,
     "end_time": "2022-06-07T00:30:50.464308",
     "exception": false,
     "start_time": "2022-06-07T00:30:50.439037",
     "status": "completed"
    },
    "tags": []
   },
   "source": [
    "## Preparing the Data"
   ]
  },
  {
   "cell_type": "code",
   "execution_count": 4,
   "id": "7f69d806",
   "metadata": {
    "execution": {
     "iopub.execute_input": "2022-06-07T00:30:50.534176Z",
     "iopub.status.busy": "2022-06-07T00:30:50.532871Z",
     "iopub.status.idle": "2022-06-07T00:30:50.537933Z",
     "shell.execute_reply": "2022-06-07T00:30:50.537445Z"
    },
    "papermill": {
     "duration": 0.048338,
     "end_time": "2022-06-07T00:30:50.538037",
     "exception": false,
     "start_time": "2022-06-07T00:30:50.489699",
     "status": "completed"
    },
    "tags": []
   },
   "outputs": [],
   "source": [
    "import mnist"
   ]
  },
  {
   "cell_type": "code",
   "execution_count": 5,
   "id": "a411e44f",
   "metadata": {
    "execution": {
     "iopub.execute_input": "2022-06-07T00:30:50.597169Z",
     "iopub.status.busy": "2022-06-07T00:30:50.595743Z",
     "iopub.status.idle": "2022-06-07T00:30:51.221673Z",
     "shell.execute_reply": "2022-06-07T00:30:51.221155Z"
    },
    "papermill": {
     "duration": 0.657693,
     "end_time": "2022-06-07T00:30:51.221806",
     "exception": false,
     "start_time": "2022-06-07T00:30:50.564113",
     "status": "completed"
    },
    "tags": []
   },
   "outputs": [],
   "source": [
    "train_images = mnist.train_images()\n",
    "train_labels = mnist.train_labels()"
   ]
  },
  {
   "cell_type": "code",
   "execution_count": 6,
   "id": "dceab3a5",
   "metadata": {
    "execution": {
     "iopub.execute_input": "2022-06-07T00:30:51.279831Z",
     "iopub.status.busy": "2022-06-07T00:30:51.278638Z",
     "iopub.status.idle": "2022-06-07T00:30:51.293554Z",
     "shell.execute_reply": "2022-06-07T00:30:51.292949Z"
    },
    "papermill": {
     "duration": 0.045151,
     "end_time": "2022-06-07T00:30:51.293683",
     "exception": false,
     "start_time": "2022-06-07T00:30:51.248532",
     "status": "completed"
    },
    "tags": []
   },
   "outputs": [
    {
     "data": {
      "text/plain": [
       "((60000, 28, 28), (60000,))"
      ]
     },
     "execution_count": 6,
     "metadata": {},
     "output_type": "execute_result"
    }
   ],
   "source": [
    "train_images.shape, train_labels.shape"
   ]
  },
  {
   "cell_type": "code",
   "execution_count": 7,
   "id": "f50dc2bb",
   "metadata": {
    "execution": {
     "iopub.execute_input": "2022-06-07T00:30:51.349230Z",
     "iopub.status.busy": "2022-06-07T00:30:51.348582Z",
     "iopub.status.idle": "2022-06-07T00:30:51.519114Z",
     "shell.execute_reply": "2022-06-07T00:30:51.519664Z"
    },
    "papermill": {
     "duration": 0.199736,
     "end_time": "2022-06-07T00:30:51.519845",
     "exception": false,
     "start_time": "2022-06-07T00:30:51.320109",
     "status": "completed"
    },
    "tags": []
   },
   "outputs": [],
   "source": [
    "test_images = mnist.test_images()\n",
    "test_labels = mnist.test_labels()"
   ]
  },
  {
   "cell_type": "code",
   "execution_count": 8,
   "id": "fc38cf1b",
   "metadata": {
    "execution": {
     "iopub.execute_input": "2022-06-07T00:30:51.579605Z",
     "iopub.status.busy": "2022-06-07T00:30:51.578964Z",
     "iopub.status.idle": "2022-06-07T00:30:51.591104Z",
     "shell.execute_reply": "2022-06-07T00:30:51.591672Z"
    },
    "papermill": {
     "duration": 0.044436,
     "end_time": "2022-06-07T00:30:51.591789",
     "exception": false,
     "start_time": "2022-06-07T00:30:51.547353",
     "status": "completed"
    },
    "tags": []
   },
   "outputs": [
    {
     "data": {
      "text/plain": [
       "((10000, 28, 28), (10000,))"
      ]
     },
     "execution_count": 8,
     "metadata": {},
     "output_type": "execute_result"
    }
   ],
   "source": [
    "test_images.shape, test_labels.shape"
   ]
  },
  {
   "cell_type": "code",
   "execution_count": 9,
   "id": "f9ed8fe0",
   "metadata": {
    "execution": {
     "iopub.execute_input": "2022-06-07T00:30:51.647690Z",
     "iopub.status.busy": "2022-06-07T00:30:51.647097Z",
     "iopub.status.idle": "2022-06-07T00:30:51.813978Z",
     "shell.execute_reply": "2022-06-07T00:30:51.813502Z"
    },
    "papermill": {
     "duration": 0.196263,
     "end_time": "2022-06-07T00:30:51.814094",
     "exception": false,
     "start_time": "2022-06-07T00:30:51.617831",
     "status": "completed"
    },
    "tags": []
   },
   "outputs": [
    {
     "name": "stdout",
     "output_type": "stream",
     "text": [
      "2\n"
     ]
    },
    {
     "data": {
      "text/plain": [
       "<matplotlib.image.AxesImage at 0x7fb5428023c8>"
      ]
     },
     "execution_count": 9,
     "metadata": {},
     "output_type": "execute_result"
    },
    {
     "data": {
      "image/png": "[encoded data removed]",
      "text/plain": [
       "<Figure size 432x288 with 1 Axes>"
      ]
     },
     "metadata": {
      "needs_background": "light"
     },
     "output_type": "display_data"
    }
   ],
   "source": [
    "image_index = 7776 # You may select anything up to 60,000\n",
    "print(train_labels[image_index]) \n",
    "plt.imshow(train_images[image_index], cmap='Greys')"
   ]
  },
  {
   "cell_type": "markdown",
   "id": "a8d2388d",
   "metadata": {
    "papermill": {
     "duration": 0.031029,
     "end_time": "2022-06-07T00:30:51.876748",
     "exception": false,
     "start_time": "2022-06-07T00:30:51.845719",
     "status": "completed"
    },
    "tags": []
   },
   "source": [
    "## Filter data to get 3 and 8 out"
   ]
  },
  {
   "cell_type": "code",
   "execution_count": 10,
   "id": "776f7fc7",
   "metadata": {
    "execution": {
     "iopub.execute_input": "2022-06-07T00:30:51.941093Z",
     "iopub.status.busy": "2022-06-07T00:30:51.940423Z",
     "iopub.status.idle": "2022-06-07T00:30:51.961468Z",
     "shell.execute_reply": "2022-06-07T00:30:51.962025Z"
    },
    "papermill": {
     "duration": 0.055548,
     "end_time": "2022-06-07T00:30:51.962175",
     "exception": false,
     "start_time": "2022-06-07T00:30:51.906627",
     "status": "completed"
    },
    "tags": []
   },
   "outputs": [],
   "source": [
    "train_filter = np.where((train_labels == 3 ) | (train_labels == 8))\n",
    "test_filter = np.where((test_labels == 3) | (test_labels == 8))\n",
    "X_train, y_train = train_images[train_filter], train_labels[train_filter]\n",
    "X_test, y_test = test_images[test_filter], test_labels[test_filter]"
   ]
  },
  {
   "cell_type": "markdown",
   "id": "948f0b7e",
   "metadata": {
    "papermill": {
     "duration": 0.028797,
     "end_time": "2022-06-07T00:30:52.020542",
     "exception": false,
     "start_time": "2022-06-07T00:30:51.991745",
     "status": "completed"
    },
    "tags": []
   },
   "source": [
    "We normalize the pizel values in the 0 to 1 range"
   ]
  },
  {
   "cell_type": "code",
   "execution_count": 11,
   "id": "ee4c2166",
   "metadata": {
    "execution": {
     "iopub.execute_input": "2022-06-07T00:30:52.080511Z",
     "iopub.status.busy": "2022-06-07T00:30:52.079857Z",
     "iopub.status.idle": "2022-06-07T00:30:52.136280Z",
     "shell.execute_reply": "2022-06-07T00:30:52.136773Z"
    },
    "papermill": {
     "duration": 0.088644,
     "end_time": "2022-06-07T00:30:52.136926",
     "exception": false,
     "start_time": "2022-06-07T00:30:52.048282",
     "status": "completed"
    },
    "tags": []
   },
   "outputs": [],
   "source": [
    "X_train = X_train/255.\n",
    "X_test = X_test/255."
   ]
  },
  {
   "cell_type": "markdown",
   "id": "ddcf4fab",
   "metadata": {
    "papermill": {
     "duration": 0.029242,
     "end_time": "2022-06-07T00:30:52.196044",
     "exception": false,
     "start_time": "2022-06-07T00:30:52.166802",
     "status": "completed"
    },
    "tags": []
   },
   "source": [
    "And setup the labels as 1 (when the digit is 3) and 0 (when the digit is 8)"
   ]
  },
  {
   "cell_type": "code",
   "execution_count": 12,
   "id": "7dc908f2",
   "metadata": {
    "execution": {
     "iopub.execute_input": "2022-06-07T00:30:52.253281Z",
     "iopub.status.busy": "2022-06-07T00:30:52.252491Z",
     "iopub.status.idle": "2022-06-07T00:30:52.266150Z",
     "shell.execute_reply": "2022-06-07T00:30:52.265644Z"
    },
    "papermill": {
     "duration": 0.042688,
     "end_time": "2022-06-07T00:30:52.266273",
     "exception": false,
     "start_time": "2022-06-07T00:30:52.223585",
     "status": "completed"
    },
    "tags": []
   },
   "outputs": [],
   "source": [
    "y_train = 1*(y_train==3)\n",
    "y_test = 1*(y_test==3)"
   ]
  },
  {
   "cell_type": "code",
   "execution_count": 13,
   "id": "01e4e969",
   "metadata": {
    "execution": {
     "iopub.execute_input": "2022-06-07T00:30:52.322575Z",
     "iopub.status.busy": "2022-06-07T00:30:52.321913Z",
     "iopub.status.idle": "2022-06-07T00:30:52.333927Z",
     "shell.execute_reply": "2022-06-07T00:30:52.334518Z"
    },
    "papermill": {
     "duration": 0.041362,
     "end_time": "2022-06-07T00:30:52.334633",
     "exception": false,
     "start_time": "2022-06-07T00:30:52.293271",
     "status": "completed"
    },
    "tags": []
   },
   "outputs": [
    {
     "data": {
      "text/plain": [
       "((11982, 28, 28), (1984, 28, 28))"
      ]
     },
     "execution_count": 13,
     "metadata": {},
     "output_type": "execute_result"
    }
   ],
   "source": [
    "X_train.shape, X_test.shape"
   ]
  },
  {
   "cell_type": "markdown",
   "id": "5ccf3f85",
   "metadata": {
    "papermill": {
     "duration": 0.0267,
     "end_time": "2022-06-07T00:30:52.388290",
     "exception": false,
     "start_time": "2022-06-07T00:30:52.361590",
     "status": "completed"
    },
    "tags": []
   },
   "source": [
    "We reshape the data to flatten the image pixels into a set of features or co-variates:"
   ]
  },
  {
   "cell_type": "code",
   "execution_count": 14,
   "id": "5286a4a3",
   "metadata": {
    "execution": {
     "iopub.execute_input": "2022-06-07T00:30:52.457990Z",
     "iopub.status.busy": "2022-06-07T00:30:52.457336Z",
     "iopub.status.idle": "2022-06-07T00:30:52.470894Z",
     "shell.execute_reply": "2022-06-07T00:30:52.471361Z"
    },
    "papermill": {
     "duration": 0.048295,
     "end_time": "2022-06-07T00:30:52.471504",
     "exception": false,
     "start_time": "2022-06-07T00:30:52.423209",
     "status": "completed"
    },
    "tags": []
   },
   "outputs": [
    {
     "data": {
      "text/plain": [
       "((11982, 784), (1984, 784))"
      ]
     },
     "execution_count": 14,
     "metadata": {},
     "output_type": "execute_result"
    }
   ],
   "source": [
    "X_train = X_train.reshape(X_train.shape[0], -1)\n",
    "X_test = X_test.reshape(X_test.shape[0], -1)\n",
    "X_train.shape, X_test.shape"
   ]
  },
  {
   "cell_type": "code",
   "execution_count": 15,
   "id": "73c5f88a",
   "metadata": {
    "execution": {
     "iopub.execute_input": "2022-06-07T00:30:52.534417Z",
     "iopub.status.busy": "2022-06-07T00:30:52.533795Z",
     "iopub.status.idle": "2022-06-07T00:30:52.552983Z",
     "shell.execute_reply": "2022-06-07T00:30:52.552492Z"
    },
    "papermill": {
     "duration": 0.051572,
     "end_time": "2022-06-07T00:30:52.553239",
     "exception": false,
     "start_time": "2022-06-07T00:30:52.501667",
     "status": "completed"
    },
    "tags": []
   },
   "outputs": [],
   "source": [
    "#Impoting functions from 'Kudzu'\n",
    "from kudzu.model import Model\n",
    "from kudzu.train import Learner\n",
    "from kudzu.optim import GD\n",
    "from kudzu.data import Data, Sampler,Dataloader\n",
    "\n",
    "from kudzu.callbacks import AccCallback\n",
    "from kudzu.callbacks import ClfCallback\n",
    "\n",
    "from kudzu.loss import MSE\n",
    "\n",
    "from kudzu.layer import Sigmoid,Relu\n",
    "from kudzu.layer import Affine"
   ]
  },
  {
   "cell_type": "markdown",
   "id": "bc01172a",
   "metadata": {
    "papermill": {
     "duration": 0.028625,
     "end_time": "2022-06-07T00:30:52.612276",
     "exception": false,
     "start_time": "2022-06-07T00:30:52.583651",
     "status": "completed"
    },
    "tags": []
   },
   "source": [
    "### Let us create a `Config` class, to store important parameters. \n",
    "This class essentially plays the role of a dictionary."
   ]
  },
  {
   "cell_type": "code",
   "execution_count": 16,
   "id": "978281aa",
   "metadata": {
    "execution": {
     "iopub.execute_input": "2022-06-07T00:30:52.679323Z",
     "iopub.status.busy": "2022-06-07T00:30:52.677660Z",
     "iopub.status.idle": "2022-06-07T00:30:52.692490Z",
     "shell.execute_reply": "2022-06-07T00:30:52.691990Z"
    },
    "papermill": {
     "duration": 0.051275,
     "end_time": "2022-06-07T00:30:52.692605",
     "exception": false,
     "start_time": "2022-06-07T00:30:52.641330",
     "status": "completed"
    },
    "tags": []
   },
   "outputs": [],
   "source": [
    "class Config:\n",
    "    pass\n",
    "config = Config()\n",
    "config.lr = 0.001\n",
    "config.num_epochs = 250\n",
    "config.bs = 50"
   ]
  },
  {
   "cell_type": "markdown",
   "id": "1385fa59",
   "metadata": {
    "papermill": {
     "duration": 0.028435,
     "end_time": "2022-06-07T00:30:52.751482",
     "exception": false,
     "start_time": "2022-06-07T00:30:52.723047",
     "status": "completed"
    },
    "tags": []
   },
   "source": [
    "### Running Models with the Training data\n",
    "Details about the network layers:\n",
    "- A first affine layer has 784 inputs and does 100 affine transforms. These are followed by a Relu\n",
    "- A second affine layer has 100 inputs from the 100 activations of the past layer, and does 100 affine transforms. These are followed by a Relu\n",
    "- A third affine layer has 100 activations and does 2 affine transformations to create an embedding for visualization. There is no non-linearity here.\n",
    "- A final \"logistic regression\" which has an affine transform from 2 inputs to 1 output, which is squeezed through a sigmoid.\n"
   ]
  },
  {
   "cell_type": "code",
   "execution_count": 17,
   "id": "2b9c66db",
   "metadata": {
    "execution": {
     "iopub.execute_input": "2022-06-07T00:30:52.821197Z",
     "iopub.status.busy": "2022-06-07T00:30:52.815074Z",
     "iopub.status.idle": "2022-06-07T00:30:52.823909Z",
     "shell.execute_reply": "2022-06-07T00:30:52.823342Z"
    },
    "papermill": {
     "duration": 0.044791,
     "end_time": "2022-06-07T00:30:52.824012",
     "exception": false,
     "start_time": "2022-06-07T00:30:52.779221",
     "status": "completed"
    },
    "tags": []
   },
   "outputs": [],
   "source": [
    "data = Data(X_train, y_train.reshape(-1,1))\n",
    "sampler = Sampler(data, config.bs, shuffle=True)\n",
    "\n",
    "dl = Dataloader(data, sampler)\n",
    "\n",
    "opt = GD(config.lr)\n",
    "loss = MSE()"
   ]
  },
  {
   "cell_type": "code",
   "execution_count": 18,
   "id": "b275e4c2",
   "metadata": {
    "execution": {
     "iopub.execute_input": "2022-06-07T00:30:52.886494Z",
     "iopub.status.busy": "2022-06-07T00:30:52.885771Z",
     "iopub.status.idle": "2022-06-07T00:30:52.896913Z",
     "shell.execute_reply": "2022-06-07T00:30:52.897426Z"
    },
    "papermill": {
     "duration": 0.04483,
     "end_time": "2022-06-07T00:30:52.897552",
     "exception": false,
     "start_time": "2022-06-07T00:30:52.852722",
     "status": "completed"
    },
    "tags": []
   },
   "outputs": [],
   "source": [
    "training_data_x = X_train\n",
    "testing_data_x = X_test\n",
    "training_data_y = y_train.reshape(-1,1)\n",
    "testing_data_y = y_test.reshape(-1,1)"
   ]
  },
  {
   "cell_type": "code",
   "execution_count": 19,
   "id": "76951160",
   "metadata": {
    "execution": {
     "iopub.execute_input": "2022-06-07T00:30:52.958026Z",
     "iopub.status.busy": "2022-06-07T00:30:52.956698Z",
     "iopub.status.idle": "2022-06-07T00:30:52.972162Z",
     "shell.execute_reply": "2022-06-07T00:30:52.971650Z"
    },
    "papermill": {
     "duration": 0.047612,
     "end_time": "2022-06-07T00:30:52.972262",
     "exception": false,
     "start_time": "2022-06-07T00:30:52.924650",
     "status": "completed"
    },
    "tags": []
   },
   "outputs": [
    {
     "name": "stdout",
     "output_type": "stream",
     "text": [
      "xavier\n",
      "xavier\n",
      "xavier\n",
      "xavier\n",
      "xavier\n"
     ]
    }
   ],
   "source": [
    "layers = [Affine(\"first\", 784, 100), Relu(\"first\"), Affine(\"second\", 100, 100), Relu(\"second\"), Affine(\"third\", 100, 2), Affine(\"last\", 2, 1), Sigmoid(\"last\")]\n",
    "model_nn = Model(layers)\n",
    "model_lr = Model([Affine(\"logits\", 784, 1), Sigmoid(\"sigmoid\")])"
   ]
  },
  {
   "cell_type": "code",
   "execution_count": 20,
   "id": "6eede77a",
   "metadata": {
    "execution": {
     "iopub.execute_input": "2022-06-07T00:30:53.031096Z",
     "iopub.status.busy": "2022-06-07T00:30:53.030486Z",
     "iopub.status.idle": "2022-06-07T00:30:53.041295Z",
     "shell.execute_reply": "2022-06-07T00:30:53.041774Z"
    },
    "papermill": {
     "duration": 0.041497,
     "end_time": "2022-06-07T00:30:53.041887",
     "exception": false,
     "start_time": "2022-06-07T00:30:53.000390",
     "status": "completed"
    },
    "tags": []
   },
   "outputs": [],
   "source": [
    "nn_learner = Learner(loss, model_nn, opt, config.num_epochs)\n",
    "acc_nn = ClfCallback(nn_learner, config.bs, training_data_x , testing_data_x, training_data_y, testing_data_y)\n",
    "nn_learner.set_callbacks([acc_nn])"
   ]
  },
  {
   "cell_type": "code",
   "execution_count": 21,
   "id": "877b6cc7",
   "metadata": {
    "execution": {
     "iopub.execute_input": "2022-06-07T00:30:53.101882Z",
     "iopub.status.busy": "2022-06-07T00:30:53.101302Z",
     "iopub.status.idle": "2022-06-07T00:30:53.111834Z",
     "shell.execute_reply": "2022-06-07T00:30:53.112672Z"
    },
    "papermill": {
     "duration": 0.04236,
     "end_time": "2022-06-07T00:30:53.112828",
     "exception": false,
     "start_time": "2022-06-07T00:30:53.070468",
     "status": "completed"
    },
    "tags": []
   },
   "outputs": [],
   "source": [
    "lr_learner = Learner(loss, model_lr, opt, config.num_epochs)\n",
    "acc_lr = ClfCallback(lr_learner, config.bs, training_data_x , testing_data_x, training_data_y, testing_data_y)\n",
    "lr_learner.set_callbacks([acc_lr])"
   ]
  },
  {
   "cell_type": "code",
   "execution_count": 22,
   "id": "d9b133c3",
   "metadata": {
    "execution": {
     "iopub.execute_input": "2022-06-07T00:30:53.175845Z",
     "iopub.status.busy": "2022-06-07T00:30:53.175163Z",
     "iopub.status.idle": "2022-06-07T00:33:07.387114Z",
     "shell.execute_reply": "2022-06-07T00:33:07.387798Z"
    },
    "papermill": {
     "duration": 134.245258,
     "end_time": "2022-06-07T00:33:07.387968",
     "exception": false,
     "start_time": "2022-06-07T00:30:53.142710",
     "status": "completed"
    },
    "tags": []
   },
   "outputs": [
    {
     "name": "stdout",
     "output_type": "stream",
     "text": [
      "Epoch 0, Loss 0.2424\n",
      "Training Accuracy: 0.6041, Testing Accuracy: 0.6149\n",
      "\n"
     ]
    },
    {
     "name": "stdout",
     "output_type": "stream",
     "text": [
      "Epoch 10, Loss 0.0986\n",
      "Training Accuracy: 0.9128, Testing Accuracy: 0.9214\n",
      "\n"
     ]
    },
    {
     "name": "stdout",
     "output_type": "stream",
     "text": [
      "Epoch 20, Loss 0.0574\n",
      "Training Accuracy: 0.9413, Testing Accuracy: 0.9506\n",
      "\n"
     ]
    },
    {
     "name": "stdout",
     "output_type": "stream",
     "text": [
      "Epoch 30, Loss 0.0441\n",
      "Training Accuracy: 0.9523, Testing Accuracy: 0.9612\n",
      "\n"
     ]
    },
    {
     "name": "stdout",
     "output_type": "stream",
     "text": [
      "Epoch 40, Loss 0.0378\n",
      "Training Accuracy: 0.9593, Testing Accuracy: 0.9657\n",
      "\n"
     ]
    },
    {
     "name": "stdout",
     "output_type": "stream",
     "text": [
      "Epoch 50, Loss 0.0342\n",
      "Training Accuracy: 0.9615, Testing Accuracy: 0.9703\n",
      "\n"
     ]
    },
    {
     "name": "stdout",
     "output_type": "stream",
     "text": [
      "Epoch 60, Loss 0.0317\n",
      "Training Accuracy: 0.9640, Testing Accuracy: 0.9728\n",
      "\n"
     ]
    },
    {
     "name": "stdout",
     "output_type": "stream",
     "text": [
      "Epoch 70, Loss 0.0298\n",
      "Training Accuracy: 0.9657, Testing Accuracy: 0.9728\n",
      "\n"
     ]
    },
    {
     "name": "stdout",
     "output_type": "stream",
     "text": [
      "Epoch 80, Loss 0.0284\n",
      "Training Accuracy: 0.9671, Testing Accuracy: 0.9728\n",
      "\n"
     ]
    },
    {
     "name": "stdout",
     "output_type": "stream",
     "text": [
      "Epoch 90, Loss 0.0272\n",
      "Training Accuracy: 0.9684, Testing Accuracy: 0.9728\n",
      "\n"
     ]
    },
    {
     "name": "stdout",
     "output_type": "stream",
     "text": [
      "Epoch 100, Loss 0.0261\n",
      "Training Accuracy: 0.9698, Testing Accuracy: 0.9728\n",
      "\n"
     ]
    },
    {
     "name": "stdout",
     "output_type": "stream",
     "text": [
      "Epoch 110, Loss 0.0252\n",
      "Training Accuracy: 0.9707, Testing Accuracy: 0.9733\n",
      "\n"
     ]
    },
    {
     "name": "stdout",
     "output_type": "stream",
     "text": [
      "Epoch 120, Loss 0.0244\n",
      "Training Accuracy: 0.9714, Testing Accuracy: 0.9733\n",
      "\n"
     ]
    },
    {
     "name": "stdout",
     "output_type": "stream",
     "text": [
      "Epoch 130, Loss 0.0236\n",
      "Training Accuracy: 0.9722, Testing Accuracy: 0.9733\n",
      "\n"
     ]
    },
    {
     "name": "stdout",
     "output_type": "stream",
     "text": [
      "Epoch 140, Loss 0.023\n",
      "Training Accuracy: 0.9732, Testing Accuracy: 0.9728\n",
      "\n"
     ]
    },
    {
     "name": "stdout",
     "output_type": "stream",
     "text": [
      "Epoch 150, Loss 0.0224\n",
      "Training Accuracy: 0.9745, Testing Accuracy: 0.9728\n",
      "\n"
     ]
    },
    {
     "name": "stdout",
     "output_type": "stream",
     "text": [
      "Epoch 160, Loss 0.0218\n",
      "Training Accuracy: 0.9750, Testing Accuracy: 0.9733\n",
      "\n"
     ]
    },
    {
     "name": "stdout",
     "output_type": "stream",
     "text": [
      "Epoch 170, Loss 0.0212\n",
      "Training Accuracy: 0.9755, Testing Accuracy: 0.9733\n",
      "\n"
     ]
    },
    {
     "name": "stdout",
     "output_type": "stream",
     "text": [
      "Epoch 180, Loss 0.0207\n",
      "Training Accuracy: 0.9761, Testing Accuracy: 0.9728\n",
      "\n"
     ]
    },
    {
     "name": "stdout",
     "output_type": "stream",
     "text": [
      "Epoch 190, Loss 0.0202\n",
      "Training Accuracy: 0.9769, Testing Accuracy: 0.9723\n",
      "\n"
     ]
    },
    {
     "name": "stdout",
     "output_type": "stream",
     "text": [
      "Epoch 200, Loss 0.0198\n",
      "Training Accuracy: 0.9777, Testing Accuracy: 0.9723\n",
      "\n"
     ]
    },
    {
     "name": "stdout",
     "output_type": "stream",
     "text": [
      "Epoch 210, Loss 0.0194\n",
      "Training Accuracy: 0.9785, Testing Accuracy: 0.9728\n",
      "\n"
     ]
    },
    {
     "name": "stdout",
     "output_type": "stream",
     "text": [
      "Epoch 220, Loss 0.0189\n",
      "Training Accuracy: 0.9790, Testing Accuracy: 0.9738\n",
      "\n"
     ]
    },
    {
     "name": "stdout",
     "output_type": "stream",
     "text": [
      "Epoch 230, Loss 0.0185\n",
      "Training Accuracy: 0.9793, Testing Accuracy: 0.9738\n",
      "\n"
     ]
    },
    {
     "name": "stdout",
     "output_type": "stream",
     "text": [
      "Epoch 240, Loss 0.0182\n",
      "Training Accuracy: 0.9799, Testing Accuracy: 0.9743\n",
      "\n"
     ]
    },
    {
     "data": {
      "text/plain": [
       "0.001828326071494869"
      ]
     },
     "execution_count": 22,
     "metadata": {},
     "output_type": "execute_result"
    }
   ],
   "source": [
    "nn_learner.train_loop(dl)"
   ]
  },
  {
   "cell_type": "code",
   "execution_count": 23,
   "id": "e0163366",
   "metadata": {
    "execution": {
     "iopub.execute_input": "2022-06-07T00:33:07.476178Z",
     "iopub.status.busy": "2022-06-07T00:33:07.475497Z",
     "iopub.status.idle": "2022-06-07T00:33:26.474821Z",
     "shell.execute_reply": "2022-06-07T00:33:26.475672Z"
    },
    "papermill": {
     "duration": 19.047151,
     "end_time": "2022-06-07T00:33:26.475825",
     "exception": false,
     "start_time": "2022-06-07T00:33:07.428674",
     "status": "completed"
    },
    "tags": []
   },
   "outputs": [
    {
     "name": "stdout",
     "output_type": "stream",
     "text": [
      "Epoch 0, Loss 0.2339\n",
      "Training Accuracy: 0.7192, Testing Accuracy: 0.7414\n",
      "\n"
     ]
    },
    {
     "name": "stdout",
     "output_type": "stream",
     "text": [
      "Epoch 10, Loss 0.1009\n",
      "Training Accuracy: 0.9128, Testing Accuracy: 0.9234\n",
      "\n"
     ]
    },
    {
     "name": "stdout",
     "output_type": "stream",
     "text": [
      "Epoch 20, Loss 0.078\n",
      "Training Accuracy: 0.9290, Testing Accuracy: 0.9410\n",
      "\n"
     ]
    },
    {
     "name": "stdout",
     "output_type": "stream",
     "text": [
      "Epoch 30, Loss 0.0674\n",
      "Training Accuracy: 0.9380, Testing Accuracy: 0.9486\n",
      "\n"
     ]
    },
    {
     "name": "stdout",
     "output_type": "stream",
     "text": [
      "Epoch 40, Loss 0.061\n",
      "Training Accuracy: 0.9426, Testing Accuracy: 0.9536\n",
      "\n"
     ]
    },
    {
     "name": "stdout",
     "output_type": "stream",
     "text": [
      "Epoch 50, Loss 0.0567\n",
      "Training Accuracy: 0.9453, Testing Accuracy: 0.9577\n",
      "\n"
     ]
    },
    {
     "name": "stdout",
     "output_type": "stream",
     "text": [
      "Epoch 60, Loss 0.0534\n",
      "Training Accuracy: 0.9474, Testing Accuracy: 0.9597\n",
      "\n"
     ]
    },
    {
     "name": "stdout",
     "output_type": "stream",
     "text": [
      "Epoch 70, Loss 0.0509\n",
      "Training Accuracy: 0.9498, Testing Accuracy: 0.9602\n",
      "\n"
     ]
    },
    {
     "name": "stdout",
     "output_type": "stream",
     "text": [
      "Epoch 80, Loss 0.0489\n",
      "Training Accuracy: 0.9512, Testing Accuracy: 0.9612\n",
      "\n"
     ]
    },
    {
     "name": "stdout",
     "output_type": "stream",
     "text": [
      "Epoch 90, Loss 0.0473\n",
      "Training Accuracy: 0.9530, Testing Accuracy: 0.9642\n",
      "\n"
     ]
    },
    {
     "name": "stdout",
     "output_type": "stream",
     "text": [
      "Epoch 100, Loss 0.0459\n",
      "Training Accuracy: 0.9541, Testing Accuracy: 0.9642\n",
      "\n"
     ]
    },
    {
     "name": "stdout",
     "output_type": "stream",
     "text": [
      "Epoch 110, Loss 0.0447\n",
      "Training Accuracy: 0.9552, Testing Accuracy: 0.9642\n",
      "\n"
     ]
    },
    {
     "name": "stdout",
     "output_type": "stream",
     "text": [
      "Epoch 120, Loss 0.0436\n",
      "Training Accuracy: 0.9559, Testing Accuracy: 0.9642\n",
      "\n"
     ]
    },
    {
     "name": "stdout",
     "output_type": "stream",
     "text": [
      "Epoch 130, Loss 0.0427\n",
      "Training Accuracy: 0.9566, Testing Accuracy: 0.9642\n",
      "\n"
     ]
    },
    {
     "name": "stdout",
     "output_type": "stream",
     "text": [
      "Epoch 140, Loss 0.0419\n",
      "Training Accuracy: 0.9569, Testing Accuracy: 0.9642\n",
      "\n"
     ]
    },
    {
     "name": "stdout",
     "output_type": "stream",
     "text": [
      "Epoch 150, Loss 0.0411\n",
      "Training Accuracy: 0.9579, Testing Accuracy: 0.9642\n",
      "\n"
     ]
    },
    {
     "name": "stdout",
     "output_type": "stream",
     "text": [
      "Epoch 160, Loss 0.0405\n",
      "Training Accuracy: 0.9579, Testing Accuracy: 0.9647\n",
      "\n"
     ]
    },
    {
     "name": "stdout",
     "output_type": "stream",
     "text": [
      "Epoch 170, Loss 0.0399\n",
      "Training Accuracy: 0.9587, Testing Accuracy: 0.9647\n",
      "\n"
     ]
    },
    {
     "name": "stdout",
     "output_type": "stream",
     "text": [
      "Epoch 180, Loss 0.0393\n",
      "Training Accuracy: 0.9594, Testing Accuracy: 0.9647\n",
      "\n"
     ]
    },
    {
     "name": "stdout",
     "output_type": "stream",
     "text": [
      "Epoch 190, Loss 0.0388\n",
      "Training Accuracy: 0.9599, Testing Accuracy: 0.9647\n",
      "\n"
     ]
    },
    {
     "name": "stdout",
     "output_type": "stream",
     "text": [
      "Epoch 200, Loss 0.0383\n",
      "Training Accuracy: 0.9604, Testing Accuracy: 0.9647\n",
      "\n"
     ]
    },
    {
     "name": "stdout",
     "output_type": "stream",
     "text": [
      "Epoch 210, Loss 0.0379\n",
      "Training Accuracy: 0.9604, Testing Accuracy: 0.9647\n",
      "\n"
     ]
    },
    {
     "name": "stdout",
     "output_type": "stream",
     "text": [
      "Epoch 220, Loss 0.0375\n",
      "Training Accuracy: 0.9611, Testing Accuracy: 0.9652\n",
      "\n"
     ]
    },
    {
     "name": "stdout",
     "output_type": "stream",
     "text": [
      "Epoch 230, Loss 0.0371\n",
      "Training Accuracy: 0.9613, Testing Accuracy: 0.9652\n",
      "\n"
     ]
    },
    {
     "name": "stdout",
     "output_type": "stream",
     "text": [
      "Epoch 240, Loss 0.0367\n",
      "Training Accuracy: 0.9613, Testing Accuracy: 0.9647\n",
      "\n"
     ]
    },
    {
     "data": {
      "text/plain": [
       "0.05303864518435166"
      ]
     },
     "execution_count": 23,
     "metadata": {},
     "output_type": "execute_result"
    }
   ],
   "source": [
    "lr_learner.train_loop(dl)"
   ]
  },
  {
   "cell_type": "code",
   "execution_count": 24,
   "id": "ca410940",
   "metadata": {
    "execution": {
     "iopub.execute_input": "2022-06-07T00:33:26.579807Z",
     "iopub.status.busy": "2022-06-07T00:33:26.579063Z",
     "iopub.status.idle": "2022-06-07T00:33:26.856356Z",
     "shell.execute_reply": "2022-06-07T00:33:26.855826Z"
    },
    "papermill": {
     "duration": 0.33663,
     "end_time": "2022-06-07T00:33:26.856600",
     "exception": false,
     "start_time": "2022-06-07T00:33:26.519970",
     "status": "completed"
    },
    "tags": []
   },
   "outputs": [
    {
     "data": {
      "text/plain": [
       "<matplotlib.legend.Legend at 0x7fb5423629b0>"
      ]
     },
     "execution_count": 24,
     "metadata": {},
     "output_type": "execute_result"
    },
    {
     "data": {
      "image/png": "[encoded data removed]",
      "text/plain": [
       "<Figure size 1080x720 with 1 Axes>"
      ]
     },
     "metadata": {
      "needs_background": "light"
     },
     "output_type": "display_data"
    }
   ],
   "source": [
    "#comparing the results of NN and LR\n",
    "plt.figure(figsize=(15,10))\n",
    "\n",
    "# Neural Network plots\n",
    "plt.plot(acc_nn.accuracies, 'r-', label = \"Training Accuracies - NN\")\n",
    "plt.plot(acc_nn.test_accuracies, 'g-', label = \"Testing Accuracies - NN\")\n",
    "\n",
    "# Logistic Regression plots\n",
    "plt.plot(acc_lr.accuracies, 'k-', label = \"Training Accuracies - LR\")\n",
    "plt.plot(acc_lr.test_accuracies, 'b-', label = \"Testing Accuracies - LR\")\n",
    "plt.legend()"
   ]
  },
  {
   "cell_type": "markdown",
   "id": "80dfb35c",
   "metadata": {
    "papermill": {
     "duration": 0.042806,
     "end_time": "2022-06-07T00:33:26.943438",
     "exception": false,
     "start_time": "2022-06-07T00:33:26.900632",
     "status": "completed"
    },
    "tags": []
   },
   "source": [
    "#### Plotting the outputs of this layer of the NN.\n"
   ]
  },
  {
   "cell_type": "code",
   "execution_count": 25,
   "id": "45eb2ff5",
   "metadata": {
    "execution": {
     "iopub.execute_input": "2022-06-07T00:33:27.034808Z",
     "iopub.status.busy": "2022-06-07T00:33:27.034017Z",
     "iopub.status.idle": "2022-06-07T00:33:27.059462Z",
     "shell.execute_reply": "2022-06-07T00:33:27.060247Z"
    },
    "papermill": {
     "duration": 0.074522,
     "end_time": "2022-06-07T00:33:27.060388",
     "exception": false,
     "start_time": "2022-06-07T00:33:26.985866",
     "status": "completed"
    },
    "tags": []
   },
   "outputs": [],
   "source": [
    "new_model = Model(layers[:-2])\n",
    "testing_plot = new_model(testing_data_x)"
   ]
  },
  {
   "cell_type": "code",
   "execution_count": 26,
   "id": "4c0a5485",
   "metadata": {
    "execution": {
     "iopub.execute_input": "2022-06-07T00:33:27.158315Z",
     "iopub.status.busy": "2022-06-07T00:33:27.157596Z",
     "iopub.status.idle": "2022-06-07T00:33:27.387643Z",
     "shell.execute_reply": "2022-06-07T00:33:27.386800Z"
    },
    "papermill": {
     "duration": 0.2808,
     "end_time": "2022-06-07T00:33:27.387767",
     "exception": false,
     "start_time": "2022-06-07T00:33:27.106967",
     "status": "completed"
    },
    "tags": []
   },
   "outputs": [
    {
     "data": {
      "text/plain": [
       "Text(0.5, 1.0, 'Outputs')"
      ]
     },
     "execution_count": 26,
     "metadata": {},
     "output_type": "execute_result"
    },
    {
     "data": {
      "image/png": "[encoded data removed]",
      "text/plain": [
       "<Figure size 576x504 with 1 Axes>"
      ]
     },
     "metadata": {
      "needs_background": "light"
     },
     "output_type": "display_data"
    }
   ],
   "source": [
    "# Plotting the scatter plot of points and color coding by class\n",
    "plt.figure(figsize=(8,7))\n",
    "plt.scatter(testing_plot[:,0], testing_plot[:,1], alpha = 0.1, c = y_test.ravel());\n",
    "plt.title('Outputs')"
   ]
  },
  {
   "cell_type": "markdown",
   "id": "a74fcf8f",
   "metadata": {
    "papermill": {
     "duration": 0.064777,
     "end_time": "2022-06-07T00:33:27.499967",
     "exception": false,
     "start_time": "2022-06-07T00:33:27.435190",
     "status": "completed"
    },
    "tags": []
   },
   "source": [
    "Probability contours"
   ]
  },
  {
   "cell_type": "code",
   "execution_count": 27,
   "id": "d0afc8e3",
   "metadata": {
    "execution": {
     "iopub.execute_input": "2022-06-07T00:33:27.595515Z",
     "iopub.status.busy": "2022-06-07T00:33:27.594866Z",
     "iopub.status.idle": "2022-06-07T00:33:27.607305Z",
     "shell.execute_reply": "2022-06-07T00:33:27.608032Z"
    },
    "papermill": {
     "duration": 0.062979,
     "end_time": "2022-06-07T00:33:27.608162",
     "exception": false,
     "start_time": "2022-06-07T00:33:27.545183",
     "status": "completed"
    },
    "tags": []
   },
   "outputs": [],
   "source": [
    "model_prob = Model(layers[-2:]) "
   ]
  },
  {
   "cell_type": "code",
   "execution_count": 28,
   "id": "9b96e238",
   "metadata": {
    "execution": {
     "iopub.execute_input": "2022-06-07T00:33:27.710626Z",
     "iopub.status.busy": "2022-06-07T00:33:27.709960Z",
     "iopub.status.idle": "2022-06-07T00:33:27.721908Z",
     "shell.execute_reply": "2022-06-07T00:33:27.722414Z"
    },
    "papermill": {
     "duration": 0.06884,
     "end_time": "2022-06-07T00:33:27.722565",
     "exception": false,
     "start_time": "2022-06-07T00:33:27.653725",
     "status": "completed"
    },
    "tags": []
   },
   "outputs": [],
   "source": [
    "#creating the x and y ranges according to the above generated plot.\n",
    "x_range = np.linspace(-4, 1, 100) \n",
    "y_range = np.linspace(-6, 6, 100) \n",
    "x_grid, y_grid = np.meshgrid(x_range, y_range) # x_grid and y_grig are of size 100 X 100\n",
    "\n",
    "# converting x_grid and y_grid to continuous arrays\n",
    "x_gridflat = np.ravel(x_grid)\n",
    "y_gridflat = np.ravel(y_grid)\n",
    "\n",
    "# The last layer of the current model takes two columns as input. Hence transpose of np.vstack() is required.\n",
    "X = np.vstack((x_gridflat, y_gridflat)).T\n",
    "\n",
    "prob_contour = model_prob(X).reshape(100,100) "
   ]
  },
  {
   "cell_type": "code",
   "execution_count": 29,
   "id": "da72499a",
   "metadata": {
    "execution": {
     "iopub.execute_input": "2022-06-07T00:33:27.831863Z",
     "iopub.status.busy": "2022-06-07T00:33:27.831209Z",
     "iopub.status.idle": "2022-06-07T00:33:28.126763Z",
     "shell.execute_reply": "2022-06-07T00:33:28.126131Z"
    },
    "papermill": {
     "duration": 0.356418,
     "end_time": "2022-06-07T00:33:28.126888",
     "exception": false,
     "start_time": "2022-06-07T00:33:27.770470",
     "status": "completed"
    },
    "tags": []
   },
   "outputs": [
    {
     "data": {
      "image/png": "[encoded data removed]",
      "text/plain": [
       "<Figure size 720x648 with 1 Axes>"
      ]
     },
     "metadata": {
      "needs_background": "light"
     },
     "output_type": "display_data"
    }
   ],
   "source": [
    "plt.figure(figsize=(10,9))\n",
    "plt.scatter(testing_plot[:,0], testing_plot[:,1], alpha = 0.1, c = y_test.ravel())\n",
    "contours = plt.contour(x_grid,y_grid,prob_contour)\n",
    "plt.title('Probability Contours')\n",
    "plt.clabel(contours, inline = True );"
   ]
  },
  {
   "cell_type": "code",
   "execution_count": null,
   "id": "e81b4ac7",
   "metadata": {
    "papermill": {
     "duration": 0.048366,
     "end_time": "2022-06-07T00:33:28.226001",
     "exception": false,
     "start_time": "2022-06-07T00:33:28.177635",
     "status": "completed"
    },
    "tags": []
   },
   "outputs": [],
   "source": []
  }
 ],
 "metadata": {
  "kernelspec": {
   "display_name": "Python 3",
   "language": "python",
   "name": "python3"
  },
  "language_info": {
   "codemirror_mode": {
    "name": "ipython",
    "version": 3
   },
   "file_extension": ".py",
   "mimetype": "text/x-python",
   "name": "python",
   "nbconvert_exporter": "python",
   "pygments_lexer": "ipython3",
   "version": "3.6.15"
  },
  "papermill": {
   "default_parameters": {},
   "duration": 162.639454,
   "end_time": "2022-06-07T00:33:28.592639",
   "environment_variables": {},
   "exception": null,
   "input_path": "2020-08-11-part2.ipynb",
   "output_path": "2020-08-11-part2.ipynb",
   "parameters": {},
   "start_time": "2022-06-07T00:30:45.953185",
   "version": "2.3.3"
  }
 },
 "nbformat": 4,
 "nbformat_minor": 5
}