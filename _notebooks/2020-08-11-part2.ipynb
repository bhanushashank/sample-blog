{
 "cells": [
  {
   "cell_type": "markdown",
   "id": "98380cd3",
   "metadata": {
    "papermill": {
     "duration": 0.028571,
     "end_time": "2022-04-30T20:09:39.872506",
     "exception": false,
     "start_time": "2022-04-30T20:09:39.843935",
     "status": "completed"
    },
    "tags": []
   },
   "source": [
    "# Distinguish Your Own Digits (DYOD)"
   ]
  },
  {
   "cell_type": "markdown",
   "id": "ef31240d",
   "metadata": {
    "papermill": {
     "duration": 0.02711,
     "end_time": "2022-04-30T20:09:39.925164",
     "exception": false,
     "start_time": "2022-04-30T20:09:39.898054",
     "status": "completed"
    },
    "tags": []
   },
   "source": [
    "You are going to write a classifier that distinguishes between the number 3 and number 8."
   ]
  },
  {
   "cell_type": "code",
   "execution_count": 1,
   "id": "b15c8646",
   "metadata": {
    "execution": {
     "iopub.execute_input": "2022-04-30T20:09:39.984861Z",
     "iopub.status.busy": "2022-04-30T20:09:39.984311Z",
     "iopub.status.idle": "2022-04-30T20:09:39.994472Z",
     "shell.execute_reply": "2022-04-30T20:09:39.994845Z"
    },
    "papermill": {
     "duration": 0.045002,
     "end_time": "2022-04-30T20:09:39.994996",
     "exception": false,
     "start_time": "2022-04-30T20:09:39.949994",
     "status": "completed"
    },
    "tags": []
   },
   "outputs": [],
   "source": [
    "%load_ext autoreload\n",
    "%autoreload 2"
   ]
  },
  {
   "cell_type": "code",
   "execution_count": 2,
   "id": "22ef38dc",
   "metadata": {
    "execution": {
     "iopub.execute_input": "2022-04-30T20:09:40.048796Z",
     "iopub.status.busy": "2022-04-30T20:09:40.048263Z",
     "iopub.status.idle": "2022-04-30T20:09:40.573985Z",
     "shell.execute_reply": "2022-04-30T20:09:40.573528Z"
    },
    "papermill": {
     "duration": 0.554169,
     "end_time": "2022-04-30T20:09:40.574103",
     "exception": false,
     "start_time": "2022-04-30T20:09:40.019934",
     "status": "completed"
    },
    "tags": []
   },
   "outputs": [],
   "source": [
    "%matplotlib inline\n",
    "import numpy as np\n",
    "import matplotlib.pyplot as plt\n",
    "import pandas as pd"
   ]
  },
  {
   "cell_type": "markdown",
   "id": "ba036198",
   "metadata": {
    "papermill": {
     "duration": 0.024817,
     "end_time": "2022-04-30T20:09:40.623713",
     "exception": false,
     "start_time": "2022-04-30T20:09:40.598896",
     "status": "completed"
    },
    "tags": []
   },
   "source": [
    "From the command line run `pip install mnist`. This is a library that will help you bring down the mnist dataset. If you run this from a notebook, you need to put  `!pip install mnist` in a cell by itself."
   ]
  },
  {
   "cell_type": "code",
   "execution_count": 3,
   "id": "bb6ad8a1",
   "metadata": {
    "execution": {
     "iopub.execute_input": "2022-04-30T20:09:40.678040Z",
     "iopub.status.busy": "2022-04-30T20:09:40.677550Z",
     "iopub.status.idle": "2022-04-30T20:09:42.442572Z",
     "shell.execute_reply": "2022-04-30T20:09:42.442134Z"
    },
    "papermill": {
     "duration": 1.794025,
     "end_time": "2022-04-30T20:09:42.442689",
     "exception": false,
     "start_time": "2022-04-30T20:09:40.648664",
     "status": "completed"
    },
    "tags": []
   },
   "outputs": [
    {
     "name": "stdout",
     "output_type": "stream",
     "text": [
      "Collecting mnist\r\n"
     ]
    },
    {
     "name": "stdout",
     "output_type": "stream",
     "text": [
      "  Downloading mnist-0.2.2-py2.py3-none-any.whl (3.5 kB)\r\n"
     ]
    },
    {
     "name": "stdout",
     "output_type": "stream",
     "text": [
      "Requirement already satisfied: numpy in /opt/hostedtoolcache/Python/3.6.15/x64/lib/python3.6/site-packages (from mnist) (1.19.5)\r\n"
     ]
    },
    {
     "name": "stdout",
     "output_type": "stream",
     "text": [
      "Installing collected packages: mnist\r\n",
      "Successfully installed mnist-0.2.2\r\n"
     ]
    }
   ],
   "source": [
    "!pip install mnist"
   ]
  },
  {
   "cell_type": "markdown",
   "id": "69df9c9a",
   "metadata": {
    "papermill": {
     "duration": 0.026002,
     "end_time": "2022-04-30T20:09:42.494967",
     "exception": false,
     "start_time": "2022-04-30T20:09:42.468965",
     "status": "completed"
    },
    "tags": []
   },
   "source": [
    "## Preparing the Data"
   ]
  },
  {
   "cell_type": "code",
   "execution_count": 4,
   "id": "7f69d806",
   "metadata": {
    "execution": {
     "iopub.execute_input": "2022-04-30T20:09:42.550614Z",
     "iopub.status.busy": "2022-04-30T20:09:42.550120Z",
     "iopub.status.idle": "2022-04-30T20:09:42.563803Z",
     "shell.execute_reply": "2022-04-30T20:09:42.563401Z"
    },
    "papermill": {
     "duration": 0.043006,
     "end_time": "2022-04-30T20:09:42.563912",
     "exception": false,
     "start_time": "2022-04-30T20:09:42.520906",
     "status": "completed"
    },
    "tags": []
   },
   "outputs": [],
   "source": [
    "import mnist"
   ]
  },
  {
   "cell_type": "code",
   "execution_count": 5,
   "id": "a411e44f",
   "metadata": {
    "execution": {
     "iopub.execute_input": "2022-04-30T20:09:42.619785Z",
     "iopub.status.busy": "2022-04-30T20:09:42.619268Z",
     "iopub.status.idle": "2022-04-30T20:09:43.266273Z",
     "shell.execute_reply": "2022-04-30T20:09:43.265824Z"
    },
    "papermill": {
     "duration": 0.676248,
     "end_time": "2022-04-30T20:09:43.266390",
     "exception": false,
     "start_time": "2022-04-30T20:09:42.590142",
     "status": "completed"
    },
    "tags": []
   },
   "outputs": [],
   "source": [
    "train_images = mnist.train_images()\n",
    "train_labels = mnist.train_labels()"
   ]
  },
  {
   "cell_type": "code",
   "execution_count": 6,
   "id": "dceab3a5",
   "metadata": {
    "execution": {
     "iopub.execute_input": "2022-04-30T20:09:43.322372Z",
     "iopub.status.busy": "2022-04-30T20:09:43.321853Z",
     "iopub.status.idle": "2022-04-30T20:09:43.335743Z",
     "shell.execute_reply": "2022-04-30T20:09:43.335333Z"
    },
    "papermill": {
     "duration": 0.043409,
     "end_time": "2022-04-30T20:09:43.335855",
     "exception": false,
     "start_time": "2022-04-30T20:09:43.292446",
     "status": "completed"
    },
    "tags": []
   },
   "outputs": [
    {
     "data": {
      "text/plain": [
       "((60000, 28, 28), (60000,))"
      ]
     },
     "execution_count": 6,
     "metadata": {},
     "output_type": "execute_result"
    }
   ],
   "source": [
    "train_images.shape, train_labels.shape"
   ]
  },
  {
   "cell_type": "code",
   "execution_count": 7,
   "id": "f50dc2bb",
   "metadata": {
    "execution": {
     "iopub.execute_input": "2022-04-30T20:09:43.391708Z",
     "iopub.status.busy": "2022-04-30T20:09:43.391211Z",
     "iopub.status.idle": "2022-04-30T20:09:43.622375Z",
     "shell.execute_reply": "2022-04-30T20:09:43.621900Z"
    },
    "papermill": {
     "duration": 0.260345,
     "end_time": "2022-04-30T20:09:43.622485",
     "exception": false,
     "start_time": "2022-04-30T20:09:43.362140",
     "status": "completed"
    },
    "tags": []
   },
   "outputs": [],
   "source": [
    "test_images = mnist.test_images()\n",
    "test_labels = mnist.test_labels()"
   ]
  },
  {
   "cell_type": "code",
   "execution_count": 8,
   "id": "fc38cf1b",
   "metadata": {
    "execution": {
     "iopub.execute_input": "2022-04-30T20:09:43.678850Z",
     "iopub.status.busy": "2022-04-30T20:09:43.678345Z",
     "iopub.status.idle": "2022-04-30T20:09:43.691639Z",
     "shell.execute_reply": "2022-04-30T20:09:43.692257Z"
    },
    "papermill": {
     "duration": 0.043415,
     "end_time": "2022-04-30T20:09:43.692385",
     "exception": false,
     "start_time": "2022-04-30T20:09:43.648970",
     "status": "completed"
    },
    "tags": []
   },
   "outputs": [
    {
     "data": {
      "text/plain": [
       "((10000, 28, 28), (10000,))"
      ]
     },
     "execution_count": 8,
     "metadata": {},
     "output_type": "execute_result"
    }
   ],
   "source": [
    "test_images.shape, test_labels.shape"
   ]
  },
  {
   "cell_type": "code",
   "execution_count": 9,
   "id": "f9ed8fe0",
   "metadata": {
    "execution": {
     "iopub.execute_input": "2022-04-30T20:09:43.749521Z",
     "iopub.status.busy": "2022-04-30T20:09:43.749014Z",
     "iopub.status.idle": "2022-04-30T20:09:43.882390Z",
     "shell.execute_reply": "2022-04-30T20:09:43.882798Z"
    },
    "papermill": {
     "duration": 0.164006,
     "end_time": "2022-04-30T20:09:43.882927",
     "exception": false,
     "start_time": "2022-04-30T20:09:43.718921",
     "status": "completed"
    },
    "tags": []
   },
   "outputs": [
    {
     "name": "stdout",
     "output_type": "stream",
     "text": [
      "2\n"
     ]
    },
    {
     "data": {
      "text/plain": [
       "<matplotlib.image.AxesImage at 0x7f6ab7acc390>"
      ]
     },
     "execution_count": 9,
     "metadata": {},
     "output_type": "execute_result"
    },
    {
     "data": {
      "image/png": "[encoded data removed]",
      "text/plain": [
       "<Figure size 432x288 with 1 Axes>"
      ]
     },
     "metadata": {
      "needs_background": "light"
     },
     "output_type": "display_data"
    }
   ],
   "source": [
    "image_index = 7776 # You may select anything up to 60,000\n",
    "print(train_labels[image_index]) \n",
    "plt.imshow(train_images[image_index], cmap='Greys')"
   ]
  },
  {
   "cell_type": "markdown",
   "id": "a8d2388d",
   "metadata": {
    "papermill": {
     "duration": 0.027755,
     "end_time": "2022-04-30T20:09:43.938346",
     "exception": false,
     "start_time": "2022-04-30T20:09:43.910591",
     "status": "completed"
    },
    "tags": []
   },
   "source": [
    "## Filter data to get 3 and 8 out"
   ]
  },
  {
   "cell_type": "code",
   "execution_count": 10,
   "id": "776f7fc7",
   "metadata": {
    "execution": {
     "iopub.execute_input": "2022-04-30T20:09:43.998022Z",
     "iopub.status.busy": "2022-04-30T20:09:43.997503Z",
     "iopub.status.idle": "2022-04-30T20:09:44.014297Z",
     "shell.execute_reply": "2022-04-30T20:09:44.014690Z"
    },
    "papermill": {
     "duration": 0.048849,
     "end_time": "2022-04-30T20:09:44.014814",
     "exception": false,
     "start_time": "2022-04-30T20:09:43.965965",
     "status": "completed"
    },
    "tags": []
   },
   "outputs": [],
   "source": [
    "train_filter = np.where((train_labels == 3 ) | (train_labels == 8))\n",
    "test_filter = np.where((test_labels == 3) | (test_labels == 8))\n",
    "X_train, y_train = train_images[train_filter], train_labels[train_filter]\n",
    "X_test, y_test = test_images[test_filter], test_labels[test_filter]"
   ]
  },
  {
   "cell_type": "markdown",
   "id": "948f0b7e",
   "metadata": {
    "papermill": {
     "duration": 0.027848,
     "end_time": "2022-04-30T20:09:44.071077",
     "exception": false,
     "start_time": "2022-04-30T20:09:44.043229",
     "status": "completed"
    },
    "tags": []
   },
   "source": [
    "We normalize the pizel values in the 0 to 1 range"
   ]
  },
  {
   "cell_type": "code",
   "execution_count": 11,
   "id": "ee4c2166",
   "metadata": {
    "execution": {
     "iopub.execute_input": "2022-04-30T20:09:44.131692Z",
     "iopub.status.busy": "2022-04-30T20:09:44.131185Z",
     "iopub.status.idle": "2022-04-30T20:09:44.172159Z",
     "shell.execute_reply": "2022-04-30T20:09:44.171714Z"
    },
    "papermill": {
     "duration": 0.071689,
     "end_time": "2022-04-30T20:09:44.172276",
     "exception": false,
     "start_time": "2022-04-30T20:09:44.100587",
     "status": "completed"
    },
    "tags": []
   },
   "outputs": [],
   "source": [
    "X_train = X_train/255.\n",
    "X_test = X_test/255."
   ]
  },
  {
   "cell_type": "markdown",
   "id": "ddcf4fab",
   "metadata": {
    "papermill": {
     "duration": 0.027892,
     "end_time": "2022-04-30T20:09:44.228379",
     "exception": false,
     "start_time": "2022-04-30T20:09:44.200487",
     "status": "completed"
    },
    "tags": []
   },
   "source": [
    "And setup the labels as 1 (when the digit is 3) and 0 (when the digit is 8)"
   ]
  },
  {
   "cell_type": "code",
   "execution_count": 12,
   "id": "7dc908f2",
   "metadata": {
    "execution": {
     "iopub.execute_input": "2022-04-30T20:09:44.287329Z",
     "iopub.status.busy": "2022-04-30T20:09:44.286793Z",
     "iopub.status.idle": "2022-04-30T20:09:44.299524Z",
     "shell.execute_reply": "2022-04-30T20:09:44.299075Z"
    },
    "papermill": {
     "duration": 0.043664,
     "end_time": "2022-04-30T20:09:44.299634",
     "exception": false,
     "start_time": "2022-04-30T20:09:44.255970",
     "status": "completed"
    },
    "tags": []
   },
   "outputs": [],
   "source": [
    "y_train = 1*(y_train==3)\n",
    "y_test = 1*(y_test==3)"
   ]
  },
  {
   "cell_type": "code",
   "execution_count": 13,
   "id": "01e4e969",
   "metadata": {
    "execution": {
     "iopub.execute_input": "2022-04-30T20:09:44.361510Z",
     "iopub.status.busy": "2022-04-30T20:09:44.361000Z",
     "iopub.status.idle": "2022-04-30T20:09:44.374528Z",
     "shell.execute_reply": "2022-04-30T20:09:44.374914Z"
    },
    "papermill": {
     "duration": 0.047711,
     "end_time": "2022-04-30T20:09:44.375044",
     "exception": false,
     "start_time": "2022-04-30T20:09:44.327333",
     "status": "completed"
    },
    "tags": []
   },
   "outputs": [
    {
     "data": {
      "text/plain": [
       "((11982, 28, 28), (1984, 28, 28))"
      ]
     },
     "execution_count": 13,
     "metadata": {},
     "output_type": "execute_result"
    }
   ],
   "source": [
    "X_train.shape, X_test.shape"
   ]
  },
  {
   "cell_type": "markdown",
   "id": "5ccf3f85",
   "metadata": {
    "papermill": {
     "duration": 0.027731,
     "end_time": "2022-04-30T20:09:44.430796",
     "exception": false,
     "start_time": "2022-04-30T20:09:44.403065",
     "status": "completed"
    },
    "tags": []
   },
   "source": [
    "We reshape the data to flatten the image pixels into a set of features or co-variates:"
   ]
  },
  {
   "cell_type": "code",
   "execution_count": 14,
   "id": "5286a4a3",
   "metadata": {
    "execution": {
     "iopub.execute_input": "2022-04-30T20:09:44.490544Z",
     "iopub.status.busy": "2022-04-30T20:09:44.490016Z",
     "iopub.status.idle": "2022-04-30T20:09:44.502759Z",
     "shell.execute_reply": "2022-04-30T20:09:44.503167Z"
    },
    "papermill": {
     "duration": 0.044578,
     "end_time": "2022-04-30T20:09:44.503296",
     "exception": false,
     "start_time": "2022-04-30T20:09:44.458718",
     "status": "completed"
    },
    "tags": []
   },
   "outputs": [
    {
     "data": {
      "text/plain": [
       "((11982, 784), (1984, 784))"
      ]
     },
     "execution_count": 14,
     "metadata": {},
     "output_type": "execute_result"
    }
   ],
   "source": [
    "X_train = X_train.reshape(X_train.shape[0], -1)\n",
    "X_test = X_test.reshape(X_test.shape[0], -1)\n",
    "X_train.shape, X_test.shape"
   ]
  },
  {
   "cell_type": "code",
   "execution_count": 15,
   "id": "73c5f88a",
   "metadata": {
    "execution": {
     "iopub.execute_input": "2022-04-30T20:09:44.564664Z",
     "iopub.status.busy": "2022-04-30T20:09:44.564132Z",
     "iopub.status.idle": "2022-04-30T20:09:44.581742Z",
     "shell.execute_reply": "2022-04-30T20:09:44.581336Z"
    },
    "papermill": {
     "duration": 0.050048,
     "end_time": "2022-04-30T20:09:44.581853",
     "exception": false,
     "start_time": "2022-04-30T20:09:44.531805",
     "status": "completed"
    },
    "tags": []
   },
   "outputs": [],
   "source": [
    "#Impoting functions from 'Kudzu'\n",
    "from kudzu.model import Model\n",
    "from kudzu.train import Learner\n",
    "from kudzu.optim import GD\n",
    "from kudzu.data import Data, Sampler,Dataloader\n",
    "\n",
    "from kudzu.callbacks import AccCallback\n",
    "from kudzu.callbacks import ClfCallback\n",
    "\n",
    "from kudzu.loss import MSE\n",
    "\n",
    "from kudzu.layer import Sigmoid,Relu\n",
    "from kudzu.layer import Affine"
   ]
  },
  {
   "cell_type": "markdown",
   "id": "bc01172a",
   "metadata": {
    "papermill": {
     "duration": 0.028173,
     "end_time": "2022-04-30T20:09:44.638418",
     "exception": false,
     "start_time": "2022-04-30T20:09:44.610245",
     "status": "completed"
    },
    "tags": []
   },
   "source": [
    "### Let us create a `Config` class, to store important parameters. \n",
    "This class essentially plays the role of a dictionary."
   ]
  },
  {
   "cell_type": "code",
   "execution_count": 16,
   "id": "978281aa",
   "metadata": {
    "execution": {
     "iopub.execute_input": "2022-04-30T20:09:44.698793Z",
     "iopub.status.busy": "2022-04-30T20:09:44.698276Z",
     "iopub.status.idle": "2022-04-30T20:09:44.710046Z",
     "shell.execute_reply": "2022-04-30T20:09:44.709638Z"
    },
    "papermill": {
     "duration": 0.043529,
     "end_time": "2022-04-30T20:09:44.710156",
     "exception": false,
     "start_time": "2022-04-30T20:09:44.666627",
     "status": "completed"
    },
    "tags": []
   },
   "outputs": [],
   "source": [
    "class Config:\n",
    "    pass\n",
    "config = Config()\n",
    "config.lr = 0.001\n",
    "config.num_epochs = 250\n",
    "config.bs = 50"
   ]
  },
  {
   "cell_type": "markdown",
   "id": "1385fa59",
   "metadata": {
    "papermill": {
     "duration": 0.028306,
     "end_time": "2022-04-30T20:09:44.766860",
     "exception": false,
     "start_time": "2022-04-30T20:09:44.738554",
     "status": "completed"
    },
    "tags": []
   },
   "source": [
    "### Running Models with the Training data\n",
    "Details about the network layers:\n",
    "- A first affine layer has 784 inputs and does 100 affine transforms. These are followed by a Relu\n",
    "- A second affine layer has 100 inputs from the 100 activations of the past layer, and does 100 affine transforms. These are followed by a Relu\n",
    "- A third affine layer has 100 activations and does 2 affine transformations to create an embedding for visualization. There is no non-linearity here.\n",
    "- A final \"logistic regression\" which has an affine transform from 2 inputs to 1 output, which is squeezed through a sigmoid.\n"
   ]
  },
  {
   "cell_type": "code",
   "execution_count": 17,
   "id": "2b9c66db",
   "metadata": {
    "execution": {
     "iopub.execute_input": "2022-04-30T20:09:44.827575Z",
     "iopub.status.busy": "2022-04-30T20:09:44.827051Z",
     "iopub.status.idle": "2022-04-30T20:09:44.838695Z",
     "shell.execute_reply": "2022-04-30T20:09:44.838276Z"
    },
    "papermill": {
     "duration": 0.043805,
     "end_time": "2022-04-30T20:09:44.838802",
     "exception": false,
     "start_time": "2022-04-30T20:09:44.794997",
     "status": "completed"
    },
    "tags": []
   },
   "outputs": [],
   "source": [
    "data = Data(X_train, y_train.reshape(-1,1))\n",
    "sampler = Sampler(data, config.bs, shuffle=True)\n",
    "\n",
    "dl = Dataloader(data, sampler)\n",
    "\n",
    "opt = GD(config.lr)\n",
    "loss = MSE()"
   ]
  },
  {
   "cell_type": "code",
   "execution_count": 18,
   "id": "b275e4c2",
   "metadata": {
    "execution": {
     "iopub.execute_input": "2022-04-30T20:09:44.899093Z",
     "iopub.status.busy": "2022-04-30T20:09:44.898582Z",
     "iopub.status.idle": "2022-04-30T20:09:44.909941Z",
     "shell.execute_reply": "2022-04-30T20:09:44.910339Z"
    },
    "papermill": {
     "duration": 0.043315,
     "end_time": "2022-04-30T20:09:44.910461",
     "exception": false,
     "start_time": "2022-04-30T20:09:44.867146",
     "status": "completed"
    },
    "tags": []
   },
   "outputs": [],
   "source": [
    "training_data_x = X_train\n",
    "testing_data_x = X_test\n",
    "training_data_y = y_train.reshape(-1,1)\n",
    "testing_data_y = y_test.reshape(-1,1)"
   ]
  },
  {
   "cell_type": "code",
   "execution_count": 19,
   "id": "76951160",
   "metadata": {
    "execution": {
     "iopub.execute_input": "2022-04-30T20:09:44.970978Z",
     "iopub.status.busy": "2022-04-30T20:09:44.970455Z",
     "iopub.status.idle": "2022-04-30T20:09:44.986022Z",
     "shell.execute_reply": "2022-04-30T20:09:44.986445Z"
    },
    "papermill": {
     "duration": 0.047849,
     "end_time": "2022-04-30T20:09:44.986570",
     "exception": false,
     "start_time": "2022-04-30T20:09:44.938721",
     "status": "completed"
    },
    "tags": []
   },
   "outputs": [
    {
     "name": "stdout",
     "output_type": "stream",
     "text": [
      "xavier\n",
      "xavier\n",
      "xavier\n",
      "xavier\n",
      "xavier\n"
     ]
    }
   ],
   "source": [
    "layers = [Affine(\"first\", 784, 100), Relu(\"first\"), Affine(\"second\", 100, 100), Relu(\"second\"), Affine(\"third\", 100, 2), Affine(\"last\", 2, 1), Sigmoid(\"last\")]\n",
    "model_nn = Model(layers)\n",
    "model_lr = Model([Affine(\"logits\", 784, 1), Sigmoid(\"sigmoid\")])"
   ]
  },
  {
   "cell_type": "code",
   "execution_count": 20,
   "id": "6eede77a",
   "metadata": {
    "execution": {
     "iopub.execute_input": "2022-04-30T20:09:45.049232Z",
     "iopub.status.busy": "2022-04-30T20:09:45.048734Z",
     "iopub.status.idle": "2022-04-30T20:09:45.060724Z",
     "shell.execute_reply": "2022-04-30T20:09:45.060290Z"
    },
    "papermill": {
     "duration": 0.044808,
     "end_time": "2022-04-30T20:09:45.060836",
     "exception": false,
     "start_time": "2022-04-30T20:09:45.016028",
     "status": "completed"
    },
    "tags": []
   },
   "outputs": [],
   "source": [
    "nn_learner = Learner(loss, model_nn, opt, config.num_epochs)\n",
    "acc_nn = ClfCallback(nn_learner, config.bs, training_data_x , testing_data_x, training_data_y, testing_data_y)\n",
    "nn_learner.set_callbacks([acc_nn])"
   ]
  },
  {
   "cell_type": "code",
   "execution_count": 21,
   "id": "877b6cc7",
   "metadata": {
    "execution": {
     "iopub.execute_input": "2022-04-30T20:09:45.121631Z",
     "iopub.status.busy": "2022-04-30T20:09:45.121124Z",
     "iopub.status.idle": "2022-04-30T20:09:45.132747Z",
     "shell.execute_reply": "2022-04-30T20:09:45.133117Z"
    },
    "papermill": {
     "duration": 0.043763,
     "end_time": "2022-04-30T20:09:45.133245",
     "exception": false,
     "start_time": "2022-04-30T20:09:45.089482",
     "status": "completed"
    },
    "tags": []
   },
   "outputs": [],
   "source": [
    "lr_learner = Learner(loss, model_lr, opt, config.num_epochs)\n",
    "acc_lr = ClfCallback(lr_learner, config.bs, training_data_x , testing_data_x, training_data_y, testing_data_y)\n",
    "lr_learner.set_callbacks([acc_lr])"
   ]
  },
  {
   "cell_type": "code",
   "execution_count": 22,
   "id": "d9b133c3",
   "metadata": {
    "execution": {
     "iopub.execute_input": "2022-04-30T20:09:45.193727Z",
     "iopub.status.busy": "2022-04-30T20:09:45.193222Z",
     "iopub.status.idle": "2022-04-30T20:12:44.989721Z",
     "shell.execute_reply": "2022-04-30T20:12:44.990150Z"
    },
    "papermill": {
     "duration": 179.828551,
     "end_time": "2022-04-30T20:12:44.990277",
     "exception": false,
     "start_time": "2022-04-30T20:09:45.161726",
     "status": "completed"
    },
    "tags": []
   },
   "outputs": [
    {
     "name": "stdout",
     "output_type": "stream",
     "text": [
      "Epoch 0, Loss 0.23\n",
      "Training Accuracy: 0.7465, Testing Accuracy: 0.7656\n",
      "\n"
     ]
    },
    {
     "name": "stdout",
     "output_type": "stream",
     "text": [
      "Epoch 10, Loss 0.076\n",
      "Training Accuracy: 0.9242, Testing Accuracy: 0.9375\n",
      "\n"
     ]
    },
    {
     "name": "stdout",
     "output_type": "stream",
     "text": [
      "Epoch 20, Loss 0.051\n",
      "Training Accuracy: 0.9457, Testing Accuracy: 0.9551\n",
      "\n"
     ]
    },
    {
     "name": "stdout",
     "output_type": "stream",
     "text": [
      "Epoch 30, Loss 0.0415\n",
      "Training Accuracy: 0.9535, Testing Accuracy: 0.9602\n",
      "\n"
     ]
    },
    {
     "name": "stdout",
     "output_type": "stream",
     "text": [
      "Epoch 40, Loss 0.0365\n",
      "Training Accuracy: 0.9578, Testing Accuracy: 0.9657\n",
      "\n"
     ]
    },
    {
     "name": "stdout",
     "output_type": "stream",
     "text": [
      "Epoch 50, Loss 0.0333\n",
      "Training Accuracy: 0.9606, Testing Accuracy: 0.9667\n",
      "\n"
     ]
    },
    {
     "name": "stdout",
     "output_type": "stream",
     "text": [
      "Epoch 60, Loss 0.0311\n",
      "Training Accuracy: 0.9634, Testing Accuracy: 0.9677\n",
      "\n"
     ]
    },
    {
     "name": "stdout",
     "output_type": "stream",
     "text": [
      "Epoch 70, Loss 0.0293\n",
      "Training Accuracy: 0.9658, Testing Accuracy: 0.9688\n",
      "\n"
     ]
    },
    {
     "name": "stdout",
     "output_type": "stream",
     "text": [
      "Epoch 80, Loss 0.0279\n",
      "Training Accuracy: 0.9676, Testing Accuracy: 0.9693\n",
      "\n"
     ]
    },
    {
     "name": "stdout",
     "output_type": "stream",
     "text": [
      "Epoch 90, Loss 0.0267\n",
      "Training Accuracy: 0.9687, Testing Accuracy: 0.9693\n",
      "\n"
     ]
    },
    {
     "name": "stdout",
     "output_type": "stream",
     "text": [
      "Epoch 100, Loss 0.0257\n",
      "Training Accuracy: 0.9695, Testing Accuracy: 0.9708\n",
      "\n"
     ]
    },
    {
     "name": "stdout",
     "output_type": "stream",
     "text": [
      "Epoch 110, Loss 0.0248\n",
      "Training Accuracy: 0.9709, Testing Accuracy: 0.9703\n",
      "\n"
     ]
    },
    {
     "name": "stdout",
     "output_type": "stream",
     "text": [
      "Epoch 120, Loss 0.024\n",
      "Training Accuracy: 0.9724, Testing Accuracy: 0.9723\n",
      "\n"
     ]
    },
    {
     "name": "stdout",
     "output_type": "stream",
     "text": [
      "Epoch 130, Loss 0.0233\n",
      "Training Accuracy: 0.9735, Testing Accuracy: 0.9723\n",
      "\n"
     ]
    },
    {
     "name": "stdout",
     "output_type": "stream",
     "text": [
      "Epoch 140, Loss 0.0227\n",
      "Training Accuracy: 0.9745, Testing Accuracy: 0.9728\n",
      "\n"
     ]
    },
    {
     "name": "stdout",
     "output_type": "stream",
     "text": [
      "Epoch 150, Loss 0.0221\n",
      "Training Accuracy: 0.9753, Testing Accuracy: 0.9733\n",
      "\n"
     ]
    },
    {
     "name": "stdout",
     "output_type": "stream",
     "text": [
      "Epoch 160, Loss 0.0215\n",
      "Training Accuracy: 0.9758, Testing Accuracy: 0.9738\n",
      "\n"
     ]
    },
    {
     "name": "stdout",
     "output_type": "stream",
     "text": [
      "Epoch 170, Loss 0.021\n",
      "Training Accuracy: 0.9762, Testing Accuracy: 0.9738\n",
      "\n"
     ]
    },
    {
     "name": "stdout",
     "output_type": "stream",
     "text": [
      "Epoch 180, Loss 0.0205\n",
      "Training Accuracy: 0.9766, Testing Accuracy: 0.9743\n",
      "\n"
     ]
    },
    {
     "name": "stdout",
     "output_type": "stream",
     "text": [
      "Epoch 190, Loss 0.02\n",
      "Training Accuracy: 0.9770, Testing Accuracy: 0.9743\n",
      "\n"
     ]
    },
    {
     "name": "stdout",
     "output_type": "stream",
     "text": [
      "Epoch 200, Loss 0.0196\n",
      "Training Accuracy: 0.9775, Testing Accuracy: 0.9743\n",
      "\n"
     ]
    },
    {
     "name": "stdout",
     "output_type": "stream",
     "text": [
      "Epoch 210, Loss 0.0192\n",
      "Training Accuracy: 0.9786, Testing Accuracy: 0.9748\n",
      "\n"
     ]
    },
    {
     "name": "stdout",
     "output_type": "stream",
     "text": [
      "Epoch 220, Loss 0.0188\n",
      "Training Accuracy: 0.9790, Testing Accuracy: 0.9748\n",
      "\n"
     ]
    },
    {
     "name": "stdout",
     "output_type": "stream",
     "text": [
      "Epoch 230, Loss 0.0184\n",
      "Training Accuracy: 0.9796, Testing Accuracy: 0.9748\n",
      "\n"
     ]
    },
    {
     "name": "stdout",
     "output_type": "stream",
     "text": [
      "Epoch 240, Loss 0.018\n",
      "Training Accuracy: 0.9801, Testing Accuracy: 0.9753\n",
      "\n"
     ]
    },
    {
     "data": {
      "text/plain": [
       "0.00814254051145556"
      ]
     },
     "execution_count": 22,
     "metadata": {},
     "output_type": "execute_result"
    }
   ],
   "source": [
    "nn_learner.train_loop(dl)"
   ]
  },
  {
   "cell_type": "code",
   "execution_count": 23,
   "id": "e0163366",
   "metadata": {
    "execution": {
     "iopub.execute_input": "2022-04-30T20:12:45.074391Z",
     "iopub.status.busy": "2022-04-30T20:12:45.073876Z",
     "iopub.status.idle": "2022-04-30T20:12:57.552749Z",
     "shell.execute_reply": "2022-04-30T20:12:57.553403Z"
    },
    "papermill": {
     "duration": 12.52783,
     "end_time": "2022-04-30T20:12:57.553535",
     "exception": false,
     "start_time": "2022-04-30T20:12:45.025705",
     "status": "completed"
    },
    "tags": []
   },
   "outputs": [
    {
     "name": "stdout",
     "output_type": "stream",
     "text": [
      "Epoch 0, Loss 0.2118\n",
      "Training Accuracy: 0.7952, Testing Accuracy: 0.8029\n",
      "\n"
     ]
    },
    {
     "name": "stdout",
     "output_type": "stream",
     "text": [
      "Epoch 10, Loss 0.0988\n",
      "Training Accuracy: 0.9155, Testing Accuracy: 0.9284\n",
      "\n"
     ]
    },
    {
     "name": "stdout",
     "output_type": "stream",
     "text": [
      "Epoch 20, Loss 0.0776\n",
      "Training Accuracy: 0.9286, Testing Accuracy: 0.9430\n",
      "\n"
     ]
    },
    {
     "name": "stdout",
     "output_type": "stream",
     "text": [
      "Epoch 30, Loss 0.0675\n",
      "Training Accuracy: 0.9352, Testing Accuracy: 0.9511\n",
      "\n"
     ]
    },
    {
     "name": "stdout",
     "output_type": "stream",
     "text": [
      "Epoch 40, Loss 0.0614\n",
      "Training Accuracy: 0.9407, Testing Accuracy: 0.9521\n",
      "\n"
     ]
    },
    {
     "name": "stdout",
     "output_type": "stream",
     "text": [
      "Epoch 50, Loss 0.0571\n",
      "Training Accuracy: 0.9446, Testing Accuracy: 0.9536\n",
      "\n"
     ]
    },
    {
     "name": "stdout",
     "output_type": "stream",
     "text": [
      "Epoch 60, Loss 0.0539\n",
      "Training Accuracy: 0.9476, Testing Accuracy: 0.9551\n",
      "\n"
     ]
    },
    {
     "name": "stdout",
     "output_type": "stream",
     "text": [
      "Epoch 70, Loss 0.0514\n",
      "Training Accuracy: 0.9491, Testing Accuracy: 0.9561\n",
      "\n"
     ]
    },
    {
     "name": "stdout",
     "output_type": "stream",
     "text": [
      "Epoch 80, Loss 0.0494\n",
      "Training Accuracy: 0.9507, Testing Accuracy: 0.9561\n",
      "\n"
     ]
    },
    {
     "name": "stdout",
     "output_type": "stream",
     "text": [
      "Epoch 90, Loss 0.0478\n",
      "Training Accuracy: 0.9518, Testing Accuracy: 0.9587\n",
      "\n"
     ]
    },
    {
     "name": "stdout",
     "output_type": "stream",
     "text": [
      "Epoch 100, Loss 0.0464\n",
      "Training Accuracy: 0.9528, Testing Accuracy: 0.9602\n",
      "\n"
     ]
    },
    {
     "name": "stdout",
     "output_type": "stream",
     "text": [
      "Epoch 110, Loss 0.0452\n",
      "Training Accuracy: 0.9538, Testing Accuracy: 0.9602\n",
      "\n"
     ]
    },
    {
     "name": "stdout",
     "output_type": "stream",
     "text": [
      "Epoch 120, Loss 0.0441\n",
      "Training Accuracy: 0.9545, Testing Accuracy: 0.9622\n",
      "\n"
     ]
    },
    {
     "name": "stdout",
     "output_type": "stream",
     "text": [
      "Epoch 130, Loss 0.0432\n",
      "Training Accuracy: 0.9549, Testing Accuracy: 0.9622\n",
      "\n"
     ]
    },
    {
     "name": "stdout",
     "output_type": "stream",
     "text": [
      "Epoch 140, Loss 0.0424\n",
      "Training Accuracy: 0.9552, Testing Accuracy: 0.9627\n",
      "\n"
     ]
    },
    {
     "name": "stdout",
     "output_type": "stream",
     "text": [
      "Epoch 150, Loss 0.0416\n",
      "Training Accuracy: 0.9558, Testing Accuracy: 0.9627\n",
      "\n"
     ]
    },
    {
     "name": "stdout",
     "output_type": "stream",
     "text": [
      "Epoch 160, Loss 0.041\n",
      "Training Accuracy: 0.9564, Testing Accuracy: 0.9627\n",
      "\n"
     ]
    },
    {
     "name": "stdout",
     "output_type": "stream",
     "text": [
      "Epoch 170, Loss 0.0403\n",
      "Training Accuracy: 0.9570, Testing Accuracy: 0.9627\n",
      "\n"
     ]
    },
    {
     "name": "stdout",
     "output_type": "stream",
     "text": [
      "Epoch 180, Loss 0.0398\n",
      "Training Accuracy: 0.9574, Testing Accuracy: 0.9642\n",
      "\n"
     ]
    },
    {
     "name": "stdout",
     "output_type": "stream",
     "text": [
      "Epoch 190, Loss 0.0393\n",
      "Training Accuracy: 0.9578, Testing Accuracy: 0.9637\n",
      "\n"
     ]
    },
    {
     "name": "stdout",
     "output_type": "stream",
     "text": [
      "Epoch 200, Loss 0.0388\n",
      "Training Accuracy: 0.9583, Testing Accuracy: 0.9642\n",
      "\n"
     ]
    },
    {
     "name": "stdout",
     "output_type": "stream",
     "text": [
      "Epoch 210, Loss 0.0383\n",
      "Training Accuracy: 0.9591, Testing Accuracy: 0.9642\n",
      "\n"
     ]
    },
    {
     "name": "stdout",
     "output_type": "stream",
     "text": [
      "Epoch 220, Loss 0.0379\n",
      "Training Accuracy: 0.9593, Testing Accuracy: 0.9647\n",
      "\n"
     ]
    },
    {
     "name": "stdout",
     "output_type": "stream",
     "text": [
      "Epoch 230, Loss 0.0375\n",
      "Training Accuracy: 0.9593, Testing Accuracy: 0.9657\n",
      "\n"
     ]
    },
    {
     "name": "stdout",
     "output_type": "stream",
     "text": [
      "Epoch 240, Loss 0.0372\n",
      "Training Accuracy: 0.9597, Testing Accuracy: 0.9652\n",
      "\n"
     ]
    },
    {
     "data": {
      "text/plain": [
       "0.022088334358308925"
      ]
     },
     "execution_count": 23,
     "metadata": {},
     "output_type": "execute_result"
    }
   ],
   "source": [
    "lr_learner.train_loop(dl)"
   ]
  },
  {
   "cell_type": "code",
   "execution_count": 24,
   "id": "ca410940",
   "metadata": {
    "execution": {
     "iopub.execute_input": "2022-04-30T20:12:57.646855Z",
     "iopub.status.busy": "2022-04-30T20:12:57.645625Z",
     "iopub.status.idle": "2022-04-30T20:12:57.874972Z",
     "shell.execute_reply": "2022-04-30T20:12:57.875363Z"
    },
    "papermill": {
     "duration": 0.278173,
     "end_time": "2022-04-30T20:12:57.875500",
     "exception": false,
     "start_time": "2022-04-30T20:12:57.597327",
     "status": "completed"
    },
    "tags": []
   },
   "outputs": [
    {
     "data": {
      "text/plain": [
       "<matplotlib.legend.Legend at 0x7f6ab76abb70>"
      ]
     },
     "execution_count": 24,
     "metadata": {},
     "output_type": "execute_result"
    },
    {
     "data": {
      "image/png": "[encoded data removed]",
      "text/plain": [
       "<Figure size 1080x720 with 1 Axes>"
      ]
     },
     "metadata": {
      "needs_background": "light"
     },
     "output_type": "display_data"
    }
   ],
   "source": [
    "#comparing the results of NN and LR\n",
    "plt.figure(figsize=(15,10))\n",
    "\n",
    "# Neural Network plots\n",
    "plt.plot(acc_nn.accuracies, 'r-', label = \"Training Accuracies - NN\")\n",
    "plt.plot(acc_nn.test_accuracies, 'g-', label = \"Testing Accuracies - NN\")\n",
    "\n",
    "# Logistic Regression plots\n",
    "plt.plot(acc_lr.accuracies, 'k-', label = \"Training Accuracies - LR\")\n",
    "plt.plot(acc_lr.test_accuracies, 'b-', label = \"Testing Accuracies - LR\")\n",
    "plt.legend()"
   ]
  },
  {
   "cell_type": "markdown",
   "id": "80dfb35c",
   "metadata": {
    "papermill": {
     "duration": 0.04361,
     "end_time": "2022-04-30T20:12:57.963270",
     "exception": false,
     "start_time": "2022-04-30T20:12:57.919660",
     "status": "completed"
    },
    "tags": []
   },
   "source": [
    "#### Plotting the outputs of this layer of the NN.\n"
   ]
  },
  {
   "cell_type": "code",
   "execution_count": 25,
   "id": "45eb2ff5",
   "metadata": {
    "execution": {
     "iopub.execute_input": "2022-04-30T20:12:58.054531Z",
     "iopub.status.busy": "2022-04-30T20:12:58.054021Z",
     "iopub.status.idle": "2022-04-30T20:12:58.089563Z",
     "shell.execute_reply": "2022-04-30T20:12:58.089965Z"
    },
    "papermill": {
     "duration": 0.083061,
     "end_time": "2022-04-30T20:12:58.090091",
     "exception": false,
     "start_time": "2022-04-30T20:12:58.007030",
     "status": "completed"
    },
    "tags": []
   },
   "outputs": [],
   "source": [
    "new_model = Model(layers[:-2])\n",
    "testing_plot = new_model(testing_data_x)"
   ]
  },
  {
   "cell_type": "code",
   "execution_count": 26,
   "id": "4c0a5485",
   "metadata": {
    "execution": {
     "iopub.execute_input": "2022-04-30T20:12:58.181920Z",
     "iopub.status.busy": "2022-04-30T20:12:58.181428Z",
     "iopub.status.idle": "2022-04-30T20:12:58.370862Z",
     "shell.execute_reply": "2022-04-30T20:12:58.371252Z"
    },
    "papermill": {
     "duration": 0.236965,
     "end_time": "2022-04-30T20:12:58.371385",
     "exception": false,
     "start_time": "2022-04-30T20:12:58.134420",
     "status": "completed"
    },
    "tags": []
   },
   "outputs": [
    {
     "data": {
      "text/plain": [
       "Text(0.5, 1.0, 'Outputs')"
      ]
     },
     "execution_count": 26,
     "metadata": {},
     "output_type": "execute_result"
    },
    {
     "data": {
      "image/png": "[encoded data removed]",
      "text/plain": [
       "<Figure size 576x504 with 1 Axes>"
      ]
     },
     "metadata": {
      "needs_background": "light"
     },
     "output_type": "display_data"
    }
   ],
   "source": [
    "# Plotting the scatter plot of points and color coding by class\n",
    "plt.figure(figsize=(8,7))\n",
    "plt.scatter(testing_plot[:,0], testing_plot[:,1], alpha = 0.1, c = y_test.ravel());\n",
    "plt.title('Outputs')"
   ]
  },
  {
   "cell_type": "markdown",
   "id": "a74fcf8f",
   "metadata": {
    "papermill": {
     "duration": 0.068173,
     "end_time": "2022-04-30T20:12:58.485547",
     "exception": false,
     "start_time": "2022-04-30T20:12:58.417374",
     "status": "completed"
    },
    "tags": []
   },
   "source": [
    "Probability contours"
   ]
  },
  {
   "cell_type": "code",
   "execution_count": 27,
   "id": "d0afc8e3",
   "metadata": {
    "execution": {
     "iopub.execute_input": "2022-04-30T20:12:58.585691Z",
     "iopub.status.busy": "2022-04-30T20:12:58.584554Z",
     "iopub.status.idle": "2022-04-30T20:12:58.595401Z",
     "shell.execute_reply": "2022-04-30T20:12:58.595002Z"
    },
    "papermill": {
     "duration": 0.064027,
     "end_time": "2022-04-30T20:12:58.595509",
     "exception": false,
     "start_time": "2022-04-30T20:12:58.531482",
     "status": "completed"
    },
    "tags": []
   },
   "outputs": [],
   "source": [
    "model_prob = Model(layers[-2:]) "
   ]
  },
  {
   "cell_type": "code",
   "execution_count": 28,
   "id": "9b96e238",
   "metadata": {
    "execution": {
     "iopub.execute_input": "2022-04-30T20:12:58.691309Z",
     "iopub.status.busy": "2022-04-30T20:12:58.690801Z",
     "iopub.status.idle": "2022-04-30T20:12:58.705253Z",
     "shell.execute_reply": "2022-04-30T20:12:58.705655Z"
    },
    "papermill": {
     "duration": 0.064475,
     "end_time": "2022-04-30T20:12:58.705785",
     "exception": false,
     "start_time": "2022-04-30T20:12:58.641310",
     "status": "completed"
    },
    "tags": []
   },
   "outputs": [],
   "source": [
    "#creating the x and y ranges according to the above generated plot.\n",
    "x_range = np.linspace(-4, 1, 100) \n",
    "y_range = np.linspace(-6, 6, 100) \n",
    "x_grid, y_grid = np.meshgrid(x_range, y_range) # x_grid and y_grig are of size 100 X 100\n",
    "\n",
    "# converting x_grid and y_grid to continuous arrays\n",
    "x_gridflat = np.ravel(x_grid)\n",
    "y_gridflat = np.ravel(y_grid)\n",
    "\n",
    "# The last layer of the current model takes two columns as input. Hence transpose of np.vstack() is required.\n",
    "X = np.vstack((x_gridflat, y_gridflat)).T\n",
    "\n",
    "prob_contour = model_prob(X).reshape(100,100) "
   ]
  },
  {
   "cell_type": "code",
   "execution_count": 29,
   "id": "da72499a",
   "metadata": {
    "execution": {
     "iopub.execute_input": "2022-04-30T20:12:58.802344Z",
     "iopub.status.busy": "2022-04-30T20:12:58.801844Z",
     "iopub.status.idle": "2022-04-30T20:12:59.060179Z",
     "shell.execute_reply": "2022-04-30T20:12:59.060702Z"
    },
    "papermill": {
     "duration": 0.308806,
     "end_time": "2022-04-30T20:12:59.060835",
     "exception": false,
     "start_time": "2022-04-30T20:12:58.752029",
     "status": "completed"
    },
    "tags": []
   },
   "outputs": [
    {
     "data": {
      "image/png": "[encoded data removed]",
      "text/plain": [
       "<Figure size 720x648 with 1 Axes>"
      ]
     },
     "metadata": {
      "needs_background": "light"
     },
     "output_type": "display_data"
    }
   ],
   "source": [
    "plt.figure(figsize=(10,9))\n",
    "plt.scatter(testing_plot[:,0], testing_plot[:,1], alpha = 0.1, c = y_test.ravel())\n",
    "contours = plt.contour(x_grid,y_grid,prob_contour)\n",
    "plt.title('Probability Contours')\n",
    "plt.clabel(contours, inline = True );"
   ]
  },
  {
   "cell_type": "code",
   "execution_count": null,
   "id": "e81b4ac7",
   "metadata": {
    "papermill": {
     "duration": 0.048352,
     "end_time": "2022-04-30T20:12:59.157719",
     "exception": false,
     "start_time": "2022-04-30T20:12:59.109367",
     "status": "completed"
    },
    "tags": []
   },
   "outputs": [],
   "source": []
  }
 ],
 "metadata": {
  "kernelspec": {
   "display_name": "Python 3",
   "language": "python",
   "name": "python3"
  },
  "language_info": {
   "codemirror_mode": {
    "name": "ipython",
    "version": 3
   },
   "file_extension": ".py",
   "mimetype": "text/x-python",
   "name": "python",
   "nbconvert_exporter": "python",
   "pygments_lexer": "ipython3",
   "version": "3.6.15"
  },
  "papermill": {
   "default_parameters": {},
   "duration": 200.706701,
   "end_time": "2022-04-30T20:12:59.623167",
   "environment_variables": {},
   "exception": null,
   "input_path": "2020-08-11-part2.ipynb",
   "output_path": "2020-08-11-part2.ipynb",
   "parameters": {},
   "start_time": "2022-04-30T20:09:38.916466",
   "version": "2.3.3"
  }
 },
 "nbformat": 4,
 "nbformat_minor": 5
}