{
 "cells": [
  {
   "cell_type": "markdown",
   "id": "98380cd3",
   "metadata": {
    "papermill": {
     "duration": 0.029516,
     "end_time": "2022-10-12T01:01:20.611478",
     "exception": false,
     "start_time": "2022-10-12T01:01:20.581962",
     "status": "completed"
    },
    "tags": []
   },
   "source": [
    "# Distinguish Your Own Digits (DYOD)"
   ]
  },
  {
   "cell_type": "markdown",
   "id": "ef31240d",
   "metadata": {
    "papermill": {
     "duration": 0.023573,
     "end_time": "2022-10-12T01:01:20.659508",
     "exception": false,
     "start_time": "2022-10-12T01:01:20.635935",
     "status": "completed"
    },
    "tags": []
   },
   "source": [
    "You are going to write a classifier that distinguishes between the number 3 and number 8."
   ]
  },
  {
   "cell_type": "code",
   "execution_count": 1,
   "id": "b15c8646",
   "metadata": {
    "execution": {
     "iopub.execute_input": "2022-10-12T01:01:20.717921Z",
     "iopub.status.busy": "2022-10-12T01:01:20.717339Z",
     "iopub.status.idle": "2022-10-12T01:01:20.728202Z",
     "shell.execute_reply": "2022-10-12T01:01:20.727711Z"
    },
    "papermill": {
     "duration": 0.04455,
     "end_time": "2022-10-12T01:01:20.728326",
     "exception": false,
     "start_time": "2022-10-12T01:01:20.683776",
     "status": "completed"
    },
    "tags": []
   },
   "outputs": [],
   "source": [
    "%load_ext autoreload\n",
    "%autoreload 2"
   ]
  },
  {
   "cell_type": "code",
   "execution_count": 2,
   "id": "22ef38dc",
   "metadata": {
    "execution": {
     "iopub.execute_input": "2022-10-12T01:01:20.783180Z",
     "iopub.status.busy": "2022-10-12T01:01:20.782597Z",
     "iopub.status.idle": "2022-10-12T01:01:21.317937Z",
     "shell.execute_reply": "2022-10-12T01:01:21.317363Z"
    },
    "papermill": {
     "duration": 0.566031,
     "end_time": "2022-10-12T01:01:21.318081",
     "exception": false,
     "start_time": "2022-10-12T01:01:20.752050",
     "status": "completed"
    },
    "tags": []
   },
   "outputs": [],
   "source": [
    "%matplotlib inline\n",
    "import numpy as np\n",
    "import matplotlib.pyplot as plt\n",
    "import pandas as pd"
   ]
  },
  {
   "cell_type": "markdown",
   "id": "ba036198",
   "metadata": {
    "papermill": {
     "duration": 0.023715,
     "end_time": "2022-10-12T01:01:21.365775",
     "exception": false,
     "start_time": "2022-10-12T01:01:21.342060",
     "status": "completed"
    },
    "tags": []
   },
   "source": [
    "From the command line run `pip install mnist`. This is a library that will help you bring down the mnist dataset. If you run this from a notebook, you need to put  `!pip install mnist` in a cell by itself."
   ]
  },
  {
   "cell_type": "code",
   "execution_count": 3,
   "id": "bb6ad8a1",
   "metadata": {
    "execution": {
     "iopub.execute_input": "2022-10-12T01:01:21.425162Z",
     "iopub.status.busy": "2022-10-12T01:01:21.424577Z",
     "iopub.status.idle": "2022-10-12T01:01:23.012263Z",
     "shell.execute_reply": "2022-10-12T01:01:23.010700Z"
    },
    "papermill": {
     "duration": 1.622835,
     "end_time": "2022-10-12T01:01:23.012407",
     "exception": false,
     "start_time": "2022-10-12T01:01:21.389572",
     "status": "completed"
    },
    "tags": []
   },
   "outputs": [
    {
     "name": "stdout",
     "output_type": "stream",
     "text": [
      "Collecting mnist\r\n"
     ]
    },
    {
     "name": "stdout",
     "output_type": "stream",
     "text": [
      "  Downloading mnist-0.2.2-py2.py3-none-any.whl (3.5 kB)\r\n",
      "Requirement already satisfied: numpy in /opt/hostedtoolcache/Python/3.6.15/x64/lib/python3.6/site-packages (from mnist) (1.19.5)\r\n"
     ]
    },
    {
     "name": "stdout",
     "output_type": "stream",
     "text": [
      "Installing collected packages: mnist\r\n"
     ]
    },
    {
     "name": "stdout",
     "output_type": "stream",
     "text": [
      "Successfully installed mnist-0.2.2\r\n"
     ]
    }
   ],
   "source": [
    "!pip install mnist"
   ]
  },
  {
   "cell_type": "markdown",
   "id": "69df9c9a",
   "metadata": {
    "papermill": {
     "duration": 0.024853,
     "end_time": "2022-10-12T01:01:23.062770",
     "exception": false,
     "start_time": "2022-10-12T01:01:23.037917",
     "status": "completed"
    },
    "tags": []
   },
   "source": [
    "## Preparing the Data"
   ]
  },
  {
   "cell_type": "code",
   "execution_count": 4,
   "id": "7f69d806",
   "metadata": {
    "execution": {
     "iopub.execute_input": "2022-10-12T01:01:23.129650Z",
     "iopub.status.busy": "2022-10-12T01:01:23.115800Z",
     "iopub.status.idle": "2022-10-12T01:01:23.134620Z",
     "shell.execute_reply": "2022-10-12T01:01:23.133548Z"
    },
    "papermill": {
     "duration": 0.047294,
     "end_time": "2022-10-12T01:01:23.134731",
     "exception": false,
     "start_time": "2022-10-12T01:01:23.087437",
     "status": "completed"
    },
    "tags": []
   },
   "outputs": [],
   "source": [
    "import mnist"
   ]
  },
  {
   "cell_type": "code",
   "execution_count": 5,
   "id": "a411e44f",
   "metadata": {
    "execution": {
     "iopub.execute_input": "2022-10-12T01:01:23.187710Z",
     "iopub.status.busy": "2022-10-12T01:01:23.187114Z",
     "iopub.status.idle": "2022-10-12T01:01:23.772650Z",
     "shell.execute_reply": "2022-10-12T01:01:23.771987Z"
    },
    "papermill": {
     "duration": 0.613407,
     "end_time": "2022-10-12T01:01:23.772772",
     "exception": false,
     "start_time": "2022-10-12T01:01:23.159365",
     "status": "completed"
    },
    "tags": []
   },
   "outputs": [],
   "source": [
    "train_images = mnist.train_images()\n",
    "train_labels = mnist.train_labels()"
   ]
  },
  {
   "cell_type": "code",
   "execution_count": 6,
   "id": "dceab3a5",
   "metadata": {
    "execution": {
     "iopub.execute_input": "2022-10-12T01:01:23.841293Z",
     "iopub.status.busy": "2022-10-12T01:01:23.836228Z",
     "iopub.status.idle": "2022-10-12T01:01:23.846731Z",
     "shell.execute_reply": "2022-10-12T01:01:23.846266Z"
    },
    "papermill": {
     "duration": 0.049011,
     "end_time": "2022-10-12T01:01:23.846839",
     "exception": false,
     "start_time": "2022-10-12T01:01:23.797828",
     "status": "completed"
    },
    "tags": []
   },
   "outputs": [
    {
     "data": {
      "text/plain": [
       "((60000, 28, 28), (60000,))"
      ]
     },
     "execution_count": 6,
     "metadata": {},
     "output_type": "execute_result"
    }
   ],
   "source": [
    "train_images.shape, train_labels.shape"
   ]
  },
  {
   "cell_type": "code",
   "execution_count": 7,
   "id": "f50dc2bb",
   "metadata": {
    "execution": {
     "iopub.execute_input": "2022-10-12T01:01:23.907142Z",
     "iopub.status.busy": "2022-10-12T01:01:23.906568Z",
     "iopub.status.idle": "2022-10-12T01:01:24.082011Z",
     "shell.execute_reply": "2022-10-12T01:01:24.081419Z"
    },
    "papermill": {
     "duration": 0.210107,
     "end_time": "2022-10-12T01:01:24.082134",
     "exception": false,
     "start_time": "2022-10-12T01:01:23.872027",
     "status": "completed"
    },
    "tags": []
   },
   "outputs": [],
   "source": [
    "test_images = mnist.test_images()\n",
    "test_labels = mnist.test_labels()"
   ]
  },
  {
   "cell_type": "code",
   "execution_count": 8,
   "id": "fc38cf1b",
   "metadata": {
    "execution": {
     "iopub.execute_input": "2022-10-12T01:01:24.144516Z",
     "iopub.status.busy": "2022-10-12T01:01:24.140434Z",
     "iopub.status.idle": "2022-10-12T01:01:24.152777Z",
     "shell.execute_reply": "2022-10-12T01:01:24.152304Z"
    },
    "papermill": {
     "duration": 0.045293,
     "end_time": "2022-10-12T01:01:24.152889",
     "exception": false,
     "start_time": "2022-10-12T01:01:24.107596",
     "status": "completed"
    },
    "tags": []
   },
   "outputs": [
    {
     "data": {
      "text/plain": [
       "((10000, 28, 28), (10000,))"
      ]
     },
     "execution_count": 8,
     "metadata": {},
     "output_type": "execute_result"
    }
   ],
   "source": [
    "test_images.shape, test_labels.shape"
   ]
  },
  {
   "cell_type": "code",
   "execution_count": 9,
   "id": "f9ed8fe0",
   "metadata": {
    "execution": {
     "iopub.execute_input": "2022-10-12T01:01:24.207592Z",
     "iopub.status.busy": "2022-10-12T01:01:24.207028Z",
     "iopub.status.idle": "2022-10-12T01:01:24.348336Z",
     "shell.execute_reply": "2022-10-12T01:01:24.348788Z"
    },
    "papermill": {
     "duration": 0.170685,
     "end_time": "2022-10-12T01:01:24.348930",
     "exception": false,
     "start_time": "2022-10-12T01:01:24.178245",
     "status": "completed"
    },
    "tags": []
   },
   "outputs": [
    {
     "name": "stdout",
     "output_type": "stream",
     "text": [
      "2\n"
     ]
    },
    {
     "data": {
      "text/plain": [
       "<matplotlib.image.AxesImage at 0x7f9ef6e41d68>"
      ]
     },
     "execution_count": 9,
     "metadata": {},
     "output_type": "execute_result"
    },
    {
     "data": {
      "image/png": "[encoded data removed]",
      "text/plain": [
       "<Figure size 432x288 with 1 Axes>"
      ]
     },
     "metadata": {
      "needs_background": "light"
     },
     "output_type": "display_data"
    }
   ],
   "source": [
    "image_index = 7776 # You may select anything up to 60,000\n",
    "print(train_labels[image_index]) \n",
    "plt.imshow(train_images[image_index], cmap='Greys')"
   ]
  },
  {
   "cell_type": "markdown",
   "id": "a8d2388d",
   "metadata": {
    "papermill": {
     "duration": 0.026586,
     "end_time": "2022-10-12T01:01:24.402167",
     "exception": false,
     "start_time": "2022-10-12T01:01:24.375581",
     "status": "completed"
    },
    "tags": []
   },
   "source": [
    "## Filter data to get 3 and 8 out"
   ]
  },
  {
   "cell_type": "code",
   "execution_count": 10,
   "id": "776f7fc7",
   "metadata": {
    "execution": {
     "iopub.execute_input": "2022-10-12T01:01:24.465793Z",
     "iopub.status.busy": "2022-10-12T01:01:24.465183Z",
     "iopub.status.idle": "2022-10-12T01:01:24.481915Z",
     "shell.execute_reply": "2022-10-12T01:01:24.481441Z"
    },
    "papermill": {
     "duration": 0.053145,
     "end_time": "2022-10-12T01:01:24.482026",
     "exception": false,
     "start_time": "2022-10-12T01:01:24.428881",
     "status": "completed"
    },
    "tags": []
   },
   "outputs": [],
   "source": [
    "train_filter = np.where((train_labels == 3 ) | (train_labels == 8))\n",
    "test_filter = np.where((test_labels == 3) | (test_labels == 8))\n",
    "X_train, y_train = train_images[train_filter], train_labels[train_filter]\n",
    "X_test, y_test = test_images[test_filter], test_labels[test_filter]"
   ]
  },
  {
   "cell_type": "markdown",
   "id": "948f0b7e",
   "metadata": {
    "papermill": {
     "duration": 0.026239,
     "end_time": "2022-10-12T01:01:24.534695",
     "exception": false,
     "start_time": "2022-10-12T01:01:24.508456",
     "status": "completed"
    },
    "tags": []
   },
   "source": [
    "We normalize the pizel values in the 0 to 1 range"
   ]
  },
  {
   "cell_type": "code",
   "execution_count": 11,
   "id": "ee4c2166",
   "metadata": {
    "execution": {
     "iopub.execute_input": "2022-10-12T01:01:24.592278Z",
     "iopub.status.busy": "2022-10-12T01:01:24.591676Z",
     "iopub.status.idle": "2022-10-12T01:01:24.639399Z",
     "shell.execute_reply": "2022-10-12T01:01:24.638830Z"
    },
    "papermill": {
     "duration": 0.078573,
     "end_time": "2022-10-12T01:01:24.639533",
     "exception": false,
     "start_time": "2022-10-12T01:01:24.560960",
     "status": "completed"
    },
    "tags": []
   },
   "outputs": [],
   "source": [
    "X_train = X_train/255.\n",
    "X_test = X_test/255."
   ]
  },
  {
   "cell_type": "markdown",
   "id": "ddcf4fab",
   "metadata": {
    "papermill": {
     "duration": 0.02664,
     "end_time": "2022-10-12T01:01:24.693034",
     "exception": false,
     "start_time": "2022-10-12T01:01:24.666394",
     "status": "completed"
    },
    "tags": []
   },
   "source": [
    "And setup the labels as 1 (when the digit is 3) and 0 (when the digit is 8)"
   ]
  },
  {
   "cell_type": "code",
   "execution_count": 12,
   "id": "7dc908f2",
   "metadata": {
    "execution": {
     "iopub.execute_input": "2022-10-12T01:01:24.754508Z",
     "iopub.status.busy": "2022-10-12T01:01:24.753901Z",
     "iopub.status.idle": "2022-10-12T01:01:24.763512Z",
     "shell.execute_reply": "2022-10-12T01:01:24.764024Z"
    },
    "papermill": {
     "duration": 0.044822,
     "end_time": "2022-10-12T01:01:24.764163",
     "exception": false,
     "start_time": "2022-10-12T01:01:24.719341",
     "status": "completed"
    },
    "tags": []
   },
   "outputs": [],
   "source": [
    "y_train = 1*(y_train==3)\n",
    "y_test = 1*(y_test==3)"
   ]
  },
  {
   "cell_type": "code",
   "execution_count": 13,
   "id": "01e4e969",
   "metadata": {
    "execution": {
     "iopub.execute_input": "2022-10-12T01:01:24.821399Z",
     "iopub.status.busy": "2022-10-12T01:01:24.820817Z",
     "iopub.status.idle": "2022-10-12T01:01:24.834391Z",
     "shell.execute_reply": "2022-10-12T01:01:24.834860Z"
    },
    "papermill": {
     "duration": 0.044201,
     "end_time": "2022-10-12T01:01:24.834991",
     "exception": false,
     "start_time": "2022-10-12T01:01:24.790790",
     "status": "completed"
    },
    "tags": []
   },
   "outputs": [
    {
     "data": {
      "text/plain": [
       "((11982, 28, 28), (1984, 28, 28))"
      ]
     },
     "execution_count": 13,
     "metadata": {},
     "output_type": "execute_result"
    }
   ],
   "source": [
    "X_train.shape, X_test.shape"
   ]
  },
  {
   "cell_type": "markdown",
   "id": "5ccf3f85",
   "metadata": {
    "papermill": {
     "duration": 0.026637,
     "end_time": "2022-10-12T01:01:24.888368",
     "exception": false,
     "start_time": "2022-10-12T01:01:24.861731",
     "status": "completed"
    },
    "tags": []
   },
   "source": [
    "We reshape the data to flatten the image pixels into a set of features or co-variates:"
   ]
  },
  {
   "cell_type": "code",
   "execution_count": 14,
   "id": "5286a4a3",
   "metadata": {
    "execution": {
     "iopub.execute_input": "2022-10-12T01:01:24.946810Z",
     "iopub.status.busy": "2022-10-12T01:01:24.946228Z",
     "iopub.status.idle": "2022-10-12T01:01:24.959502Z",
     "shell.execute_reply": "2022-10-12T01:01:24.959999Z"
    },
    "papermill": {
     "duration": 0.045015,
     "end_time": "2022-10-12T01:01:24.960132",
     "exception": false,
     "start_time": "2022-10-12T01:01:24.915117",
     "status": "completed"
    },
    "tags": []
   },
   "outputs": [
    {
     "data": {
      "text/plain": [
       "((11982, 784), (1984, 784))"
      ]
     },
     "execution_count": 14,
     "metadata": {},
     "output_type": "execute_result"
    }
   ],
   "source": [
    "X_train = X_train.reshape(X_train.shape[0], -1)\n",
    "X_test = X_test.reshape(X_test.shape[0], -1)\n",
    "X_train.shape, X_test.shape"
   ]
  },
  {
   "cell_type": "code",
   "execution_count": 15,
   "id": "73c5f88a",
   "metadata": {
    "execution": {
     "iopub.execute_input": "2022-10-12T01:01:25.025145Z",
     "iopub.status.busy": "2022-10-12T01:01:25.024564Z",
     "iopub.status.idle": "2022-10-12T01:01:25.039611Z",
     "shell.execute_reply": "2022-10-12T01:01:25.039142Z"
    },
    "papermill": {
     "duration": 0.052787,
     "end_time": "2022-10-12T01:01:25.039753",
     "exception": false,
     "start_time": "2022-10-12T01:01:24.986966",
     "status": "completed"
    },
    "tags": []
   },
   "outputs": [],
   "source": [
    "#Impoting functions from 'Kudzu'\n",
    "from kudzu.model import Model\n",
    "from kudzu.train import Learner\n",
    "from kudzu.optim import GD\n",
    "from kudzu.data import Data, Sampler,Dataloader\n",
    "\n",
    "from kudzu.callbacks import AccCallback\n",
    "from kudzu.callbacks import ClfCallback\n",
    "\n",
    "from kudzu.loss import MSE\n",
    "\n",
    "from kudzu.layer import Sigmoid,Relu\n",
    "from kudzu.layer import Affine"
   ]
  },
  {
   "cell_type": "markdown",
   "id": "bc01172a",
   "metadata": {
    "papermill": {
     "duration": 0.026812,
     "end_time": "2022-10-12T01:01:25.093482",
     "exception": false,
     "start_time": "2022-10-12T01:01:25.066670",
     "status": "completed"
    },
    "tags": []
   },
   "source": [
    "### Let us create a `Config` class, to store important parameters. \n",
    "This class essentially plays the role of a dictionary."
   ]
  },
  {
   "cell_type": "code",
   "execution_count": 16,
   "id": "978281aa",
   "metadata": {
    "execution": {
     "iopub.execute_input": "2022-10-12T01:01:25.165136Z",
     "iopub.status.busy": "2022-10-12T01:01:25.161745Z",
     "iopub.status.idle": "2022-10-12T01:01:25.167225Z",
     "shell.execute_reply": "2022-10-12T01:01:25.167683Z"
    },
    "papermill": {
     "duration": 0.047488,
     "end_time": "2022-10-12T01:01:25.167815",
     "exception": false,
     "start_time": "2022-10-12T01:01:25.120327",
     "status": "completed"
    },
    "tags": []
   },
   "outputs": [],
   "source": [
    "class Config:\n",
    "    pass\n",
    "config = Config()\n",
    "config.lr = 0.001\n",
    "config.num_epochs = 250\n",
    "config.bs = 50"
   ]
  },
  {
   "cell_type": "markdown",
   "id": "1385fa59",
   "metadata": {
    "papermill": {
     "duration": 0.026896,
     "end_time": "2022-10-12T01:01:25.221608",
     "exception": false,
     "start_time": "2022-10-12T01:01:25.194712",
     "status": "completed"
    },
    "tags": []
   },
   "source": [
    "### Running Models with the Training data\n",
    "Details about the network layers:\n",
    "- A first affine layer has 784 inputs and does 100 affine transforms. These are followed by a Relu\n",
    "- A second affine layer has 100 inputs from the 100 activations of the past layer, and does 100 affine transforms. These are followed by a Relu\n",
    "- A third affine layer has 100 activations and does 2 affine transformations to create an embedding for visualization. There is no non-linearity here.\n",
    "- A final \"logistic regression\" which has an affine transform from 2 inputs to 1 output, which is squeezed through a sigmoid.\n"
   ]
  },
  {
   "cell_type": "code",
   "execution_count": 17,
   "id": "2b9c66db",
   "metadata": {
    "execution": {
     "iopub.execute_input": "2022-10-12T01:01:25.289090Z",
     "iopub.status.busy": "2022-10-12T01:01:25.288508Z",
     "iopub.status.idle": "2022-10-12T01:01:25.297134Z",
     "shell.execute_reply": "2022-10-12T01:01:25.296662Z"
    },
    "papermill": {
     "duration": 0.048832,
     "end_time": "2022-10-12T01:01:25.297243",
     "exception": false,
     "start_time": "2022-10-12T01:01:25.248411",
     "status": "completed"
    },
    "tags": []
   },
   "outputs": [],
   "source": [
    "data = Data(X_train, y_train.reshape(-1,1))\n",
    "sampler = Sampler(data, config.bs, shuffle=True)\n",
    "\n",
    "dl = Dataloader(data, sampler)\n",
    "\n",
    "opt = GD(config.lr)\n",
    "loss = MSE()"
   ]
  },
  {
   "cell_type": "code",
   "execution_count": 18,
   "id": "b275e4c2",
   "metadata": {
    "execution": {
     "iopub.execute_input": "2022-10-12T01:01:25.354630Z",
     "iopub.status.busy": "2022-10-12T01:01:25.354055Z",
     "iopub.status.idle": "2022-10-12T01:01:25.366268Z",
     "shell.execute_reply": "2022-10-12T01:01:25.365804Z"
    },
    "papermill": {
     "duration": 0.042225,
     "end_time": "2022-10-12T01:01:25.366375",
     "exception": false,
     "start_time": "2022-10-12T01:01:25.324150",
     "status": "completed"
    },
    "tags": []
   },
   "outputs": [],
   "source": [
    "training_data_x = X_train\n",
    "testing_data_x = X_test\n",
    "training_data_y = y_train.reshape(-1,1)\n",
    "testing_data_y = y_test.reshape(-1,1)"
   ]
  },
  {
   "cell_type": "code",
   "execution_count": 19,
   "id": "76951160",
   "metadata": {
    "execution": {
     "iopub.execute_input": "2022-10-12T01:01:25.432705Z",
     "iopub.status.busy": "2022-10-12T01:01:25.430664Z",
     "iopub.status.idle": "2022-10-12T01:01:25.442349Z",
     "shell.execute_reply": "2022-10-12T01:01:25.442791Z"
    },
    "papermill": {
     "duration": 0.049878,
     "end_time": "2022-10-12T01:01:25.442917",
     "exception": false,
     "start_time": "2022-10-12T01:01:25.393039",
     "status": "completed"
    },
    "tags": []
   },
   "outputs": [
    {
     "name": "stdout",
     "output_type": "stream",
     "text": [
      "xavier\n",
      "xavier\n",
      "xavier\n",
      "xavier\n",
      "xavier\n"
     ]
    }
   ],
   "source": [
    "layers = [Affine(\"first\", 784, 100), Relu(\"first\"), Affine(\"second\", 100, 100), Relu(\"second\"), Affine(\"third\", 100, 2), Affine(\"last\", 2, 1), Sigmoid(\"last\")]\n",
    "model_nn = Model(layers)\n",
    "model_lr = Model([Affine(\"logits\", 784, 1), Sigmoid(\"sigmoid\")])"
   ]
  },
  {
   "cell_type": "code",
   "execution_count": 20,
   "id": "6eede77a",
   "metadata": {
    "execution": {
     "iopub.execute_input": "2022-10-12T01:01:25.507053Z",
     "iopub.status.busy": "2022-10-12T01:01:25.500904Z",
     "iopub.status.idle": "2022-10-12T01:01:25.516640Z",
     "shell.execute_reply": "2022-10-12T01:01:25.516172Z"
    },
    "papermill": {
     "duration": 0.04658,
     "end_time": "2022-10-12T01:01:25.516748",
     "exception": false,
     "start_time": "2022-10-12T01:01:25.470168",
     "status": "completed"
    },
    "tags": []
   },
   "outputs": [],
   "source": [
    "nn_learner = Learner(loss, model_nn, opt, config.num_epochs)\n",
    "acc_nn = ClfCallback(nn_learner, config.bs, training_data_x , testing_data_x, training_data_y, testing_data_y)\n",
    "nn_learner.set_callbacks([acc_nn])"
   ]
  },
  {
   "cell_type": "code",
   "execution_count": 21,
   "id": "877b6cc7",
   "metadata": {
    "execution": {
     "iopub.execute_input": "2022-10-12T01:01:25.575403Z",
     "iopub.status.busy": "2022-10-12T01:01:25.574829Z",
     "iopub.status.idle": "2022-10-12T01:01:25.587491Z",
     "shell.execute_reply": "2022-10-12T01:01:25.587028Z"
    },
    "papermill": {
     "duration": 0.043618,
     "end_time": "2022-10-12T01:01:25.587599",
     "exception": false,
     "start_time": "2022-10-12T01:01:25.543981",
     "status": "completed"
    },
    "tags": []
   },
   "outputs": [],
   "source": [
    "lr_learner = Learner(loss, model_lr, opt, config.num_epochs)\n",
    "acc_lr = ClfCallback(lr_learner, config.bs, training_data_x , testing_data_x, training_data_y, testing_data_y)\n",
    "lr_learner.set_callbacks([acc_lr])"
   ]
  },
  {
   "cell_type": "code",
   "execution_count": 22,
   "id": "d9b133c3",
   "metadata": {
    "execution": {
     "iopub.execute_input": "2022-10-12T01:01:25.656589Z",
     "iopub.status.busy": "2022-10-12T01:01:25.652402Z",
     "iopub.status.idle": "2022-10-12T01:02:42.214649Z",
     "shell.execute_reply": "2022-10-12T01:02:42.215514Z"
    },
    "papermill": {
     "duration": 76.600868,
     "end_time": "2022-10-12T01:02:42.215699",
     "exception": false,
     "start_time": "2022-10-12T01:01:25.614831",
     "status": "completed"
    },
    "tags": []
   },
   "outputs": [
    {
     "name": "stdout",
     "output_type": "stream",
     "text": [
      "Epoch 0, Loss 0.2512\n",
      "Training Accuracy: 0.4906, Testing Accuracy: 0.5015\n",
      "\n"
     ]
    },
    {
     "name": "stdout",
     "output_type": "stream",
     "text": [
      "Epoch 10, Loss 0.2344\n",
      "Training Accuracy: 0.8424, Testing Accuracy: 0.8498\n",
      "\n"
     ]
    },
    {
     "name": "stdout",
     "output_type": "stream",
     "text": [
      "Epoch 20, Loss 0.1706\n",
      "Training Accuracy: 0.8944, Testing Accuracy: 0.9037\n",
      "\n"
     ]
    },
    {
     "name": "stdout",
     "output_type": "stream",
     "text": [
      "Epoch 30, Loss 0.0858\n",
      "Training Accuracy: 0.9148, Testing Accuracy: 0.9279\n",
      "\n"
     ]
    },
    {
     "name": "stdout",
     "output_type": "stream",
     "text": [
      "Epoch 40, Loss 0.0594\n",
      "Training Accuracy: 0.9346, Testing Accuracy: 0.9481\n",
      "\n"
     ]
    },
    {
     "name": "stdout",
     "output_type": "stream",
     "text": [
      "Epoch 50, Loss 0.0483\n",
      "Training Accuracy: 0.9450, Testing Accuracy: 0.9582\n",
      "\n"
     ]
    },
    {
     "name": "stdout",
     "output_type": "stream",
     "text": [
      "Epoch 60, Loss 0.0421\n",
      "Training Accuracy: 0.9498, Testing Accuracy: 0.9652\n",
      "\n"
     ]
    },
    {
     "name": "stdout",
     "output_type": "stream",
     "text": [
      "Epoch 70, Loss 0.0381\n",
      "Training Accuracy: 0.9548, Testing Accuracy: 0.9667\n",
      "\n"
     ]
    },
    {
     "name": "stdout",
     "output_type": "stream",
     "text": [
      "Epoch 80, Loss 0.0353\n",
      "Training Accuracy: 0.9584, Testing Accuracy: 0.9698\n",
      "\n"
     ]
    },
    {
     "name": "stdout",
     "output_type": "stream",
     "text": [
      "Epoch 90, Loss 0.0332\n",
      "Training Accuracy: 0.9604, Testing Accuracy: 0.9693\n",
      "\n"
     ]
    },
    {
     "name": "stdout",
     "output_type": "stream",
     "text": [
      "Epoch 100, Loss 0.0316\n",
      "Training Accuracy: 0.9630, Testing Accuracy: 0.9698\n",
      "\n"
     ]
    },
    {
     "name": "stdout",
     "output_type": "stream",
     "text": [
      "Epoch 110, Loss 0.0302\n",
      "Training Accuracy: 0.9643, Testing Accuracy: 0.9688\n",
      "\n"
     ]
    },
    {
     "name": "stdout",
     "output_type": "stream",
     "text": [
      "Epoch 120, Loss 0.029\n",
      "Training Accuracy: 0.9658, Testing Accuracy: 0.9688\n",
      "\n"
     ]
    },
    {
     "name": "stdout",
     "output_type": "stream",
     "text": [
      "Epoch 130, Loss 0.028\n",
      "Training Accuracy: 0.9675, Testing Accuracy: 0.9703\n",
      "\n"
     ]
    },
    {
     "name": "stdout",
     "output_type": "stream",
     "text": [
      "Epoch 140, Loss 0.0271\n",
      "Training Accuracy: 0.9681, Testing Accuracy: 0.9708\n",
      "\n"
     ]
    },
    {
     "name": "stdout",
     "output_type": "stream",
     "text": [
      "Epoch 150, Loss 0.0264\n",
      "Training Accuracy: 0.9687, Testing Accuracy: 0.9708\n",
      "\n"
     ]
    },
    {
     "name": "stdout",
     "output_type": "stream",
     "text": [
      "Epoch 160, Loss 0.0256\n",
      "Training Accuracy: 0.9693, Testing Accuracy: 0.9723\n",
      "\n"
     ]
    },
    {
     "name": "stdout",
     "output_type": "stream",
     "text": [
      "Epoch 170, Loss 0.025\n",
      "Training Accuracy: 0.9700, Testing Accuracy: 0.9718\n",
      "\n"
     ]
    },
    {
     "name": "stdout",
     "output_type": "stream",
     "text": [
      "Epoch 180, Loss 0.0244\n",
      "Training Accuracy: 0.9707, Testing Accuracy: 0.9723\n",
      "\n"
     ]
    },
    {
     "name": "stdout",
     "output_type": "stream",
     "text": [
      "Epoch 190, Loss 0.0238\n",
      "Training Accuracy: 0.9718, Testing Accuracy: 0.9723\n",
      "\n"
     ]
    },
    {
     "name": "stdout",
     "output_type": "stream",
     "text": [
      "Epoch 200, Loss 0.0233\n",
      "Training Accuracy: 0.9725, Testing Accuracy: 0.9718\n",
      "\n"
     ]
    },
    {
     "name": "stdout",
     "output_type": "stream",
     "text": [
      "Epoch 210, Loss 0.0228\n",
      "Training Accuracy: 0.9730, Testing Accuracy: 0.9723\n",
      "\n"
     ]
    },
    {
     "name": "stdout",
     "output_type": "stream",
     "text": [
      "Epoch 220, Loss 0.0224\n",
      "Training Accuracy: 0.9737, Testing Accuracy: 0.9733\n",
      "\n"
     ]
    },
    {
     "name": "stdout",
     "output_type": "stream",
     "text": [
      "Epoch 230, Loss 0.0219\n",
      "Training Accuracy: 0.9743, Testing Accuracy: 0.9733\n",
      "\n"
     ]
    },
    {
     "name": "stdout",
     "output_type": "stream",
     "text": [
      "Epoch 240, Loss 0.0215\n",
      "Training Accuracy: 0.9747, Testing Accuracy: 0.9723\n",
      "\n"
     ]
    },
    {
     "data": {
      "text/plain": [
       "0.018600637672059613"
      ]
     },
     "execution_count": 22,
     "metadata": {},
     "output_type": "execute_result"
    }
   ],
   "source": [
    "nn_learner.train_loop(dl)"
   ]
  },
  {
   "cell_type": "code",
   "execution_count": 23,
   "id": "e0163366",
   "metadata": {
    "execution": {
     "iopub.execute_input": "2022-10-12T01:02:42.297155Z",
     "iopub.status.busy": "2022-10-12T01:02:42.296570Z",
     "iopub.status.idle": "2022-10-12T01:02:56.059205Z",
     "shell.execute_reply": "2022-10-12T01:02:56.060054Z"
    },
    "papermill": {
     "duration": 13.809361,
     "end_time": "2022-10-12T01:02:56.060205",
     "exception": false,
     "start_time": "2022-10-12T01:02:42.250844",
     "status": "completed"
    },
    "tags": []
   },
   "outputs": [
    {
     "name": "stdout",
     "output_type": "stream",
     "text": [
      "Epoch 0, Loss 0.2496\n",
      "Training Accuracy: 0.6723, Testing Accuracy: 0.6860\n",
      "\n"
     ]
    },
    {
     "name": "stdout",
     "output_type": "stream",
     "text": [
      "Epoch 10, Loss 0.1038\n",
      "Training Accuracy: 0.9118, Testing Accuracy: 0.9194\n",
      "\n"
     ]
    },
    {
     "name": "stdout",
     "output_type": "stream",
     "text": [
      "Epoch 20, Loss 0.0799\n",
      "Training Accuracy: 0.9273, Testing Accuracy: 0.9390\n",
      "\n"
     ]
    },
    {
     "name": "stdout",
     "output_type": "stream",
     "text": [
      "Epoch 30, Loss 0.0688\n",
      "Training Accuracy: 0.9361, Testing Accuracy: 0.9491\n",
      "\n"
     ]
    },
    {
     "name": "stdout",
     "output_type": "stream",
     "text": [
      "Epoch 40, Loss 0.0622\n",
      "Training Accuracy: 0.9410, Testing Accuracy: 0.9536\n",
      "\n"
     ]
    },
    {
     "name": "stdout",
     "output_type": "stream",
     "text": [
      "Epoch 50, Loss 0.0576\n",
      "Training Accuracy: 0.9438, Testing Accuracy: 0.9582\n",
      "\n"
     ]
    },
    {
     "name": "stdout",
     "output_type": "stream",
     "text": [
      "Epoch 60, Loss 0.0542\n",
      "Training Accuracy: 0.9467, Testing Accuracy: 0.9607\n",
      "\n"
     ]
    },
    {
     "name": "stdout",
     "output_type": "stream",
     "text": [
      "Epoch 70, Loss 0.0516\n",
      "Training Accuracy: 0.9485, Testing Accuracy: 0.9597\n",
      "\n"
     ]
    },
    {
     "name": "stdout",
     "output_type": "stream",
     "text": [
      "Epoch 80, Loss 0.0496\n",
      "Training Accuracy: 0.9498, Testing Accuracy: 0.9612\n",
      "\n"
     ]
    },
    {
     "name": "stdout",
     "output_type": "stream",
     "text": [
      "Epoch 90, Loss 0.0478\n",
      "Training Accuracy: 0.9516, Testing Accuracy: 0.9612\n",
      "\n"
     ]
    },
    {
     "name": "stdout",
     "output_type": "stream",
     "text": [
      "Epoch 100, Loss 0.0464\n",
      "Training Accuracy: 0.9534, Testing Accuracy: 0.9622\n",
      "\n"
     ]
    },
    {
     "name": "stdout",
     "output_type": "stream",
     "text": [
      "Epoch 110, Loss 0.0451\n",
      "Training Accuracy: 0.9543, Testing Accuracy: 0.9617\n",
      "\n"
     ]
    },
    {
     "name": "stdout",
     "output_type": "stream",
     "text": [
      "Epoch 120, Loss 0.0441\n",
      "Training Accuracy: 0.9550, Testing Accuracy: 0.9617\n",
      "\n"
     ]
    },
    {
     "name": "stdout",
     "output_type": "stream",
     "text": [
      "Epoch 130, Loss 0.0431\n",
      "Training Accuracy: 0.9561, Testing Accuracy: 0.9627\n",
      "\n"
     ]
    },
    {
     "name": "stdout",
     "output_type": "stream",
     "text": [
      "Epoch 140, Loss 0.0423\n",
      "Training Accuracy: 0.9569, Testing Accuracy: 0.9632\n",
      "\n"
     ]
    },
    {
     "name": "stdout",
     "output_type": "stream",
     "text": [
      "Epoch 150, Loss 0.0415\n",
      "Training Accuracy: 0.9574, Testing Accuracy: 0.9632\n",
      "\n"
     ]
    },
    {
     "name": "stdout",
     "output_type": "stream",
     "text": [
      "Epoch 160, Loss 0.0408\n",
      "Training Accuracy: 0.9585, Testing Accuracy: 0.9632\n",
      "\n"
     ]
    },
    {
     "name": "stdout",
     "output_type": "stream",
     "text": [
      "Epoch 170, Loss 0.0402\n",
      "Training Accuracy: 0.9587, Testing Accuracy: 0.9637\n",
      "\n"
     ]
    },
    {
     "name": "stdout",
     "output_type": "stream",
     "text": [
      "Epoch 180, Loss 0.0396\n",
      "Training Accuracy: 0.9588, Testing Accuracy: 0.9637\n",
      "\n"
     ]
    },
    {
     "name": "stdout",
     "output_type": "stream",
     "text": [
      "Epoch 190, Loss 0.0391\n",
      "Training Accuracy: 0.9591, Testing Accuracy: 0.9642\n",
      "\n"
     ]
    },
    {
     "name": "stdout",
     "output_type": "stream",
     "text": [
      "Epoch 200, Loss 0.0386\n",
      "Training Accuracy: 0.9599, Testing Accuracy: 0.9647\n",
      "\n"
     ]
    },
    {
     "name": "stdout",
     "output_type": "stream",
     "text": [
      "Epoch 210, Loss 0.0381\n",
      "Training Accuracy: 0.9603, Testing Accuracy: 0.9647\n",
      "\n"
     ]
    },
    {
     "name": "stdout",
     "output_type": "stream",
     "text": [
      "Epoch 220, Loss 0.0377\n",
      "Training Accuracy: 0.9606, Testing Accuracy: 0.9647\n",
      "\n"
     ]
    },
    {
     "name": "stdout",
     "output_type": "stream",
     "text": [
      "Epoch 230, Loss 0.0373\n",
      "Training Accuracy: 0.9611, Testing Accuracy: 0.9652\n",
      "\n"
     ]
    },
    {
     "name": "stdout",
     "output_type": "stream",
     "text": [
      "Epoch 240, Loss 0.037\n",
      "Training Accuracy: 0.9614, Testing Accuracy: 0.9657\n",
      "\n"
     ]
    },
    {
     "data": {
      "text/plain": [
       "0.06438332419058271"
      ]
     },
     "execution_count": 23,
     "metadata": {},
     "output_type": "execute_result"
    }
   ],
   "source": [
    "lr_learner.train_loop(dl)"
   ]
  },
  {
   "cell_type": "code",
   "execution_count": 24,
   "id": "ca410940",
   "metadata": {
    "execution": {
     "iopub.execute_input": "2022-10-12T01:02:56.153552Z",
     "iopub.status.busy": "2022-10-12T01:02:56.152970Z",
     "iopub.status.idle": "2022-10-12T01:02:56.374702Z",
     "shell.execute_reply": "2022-10-12T01:02:56.375151Z"
    },
    "papermill": {
     "duration": 0.27336,
     "end_time": "2022-10-12T01:02:56.375290",
     "exception": false,
     "start_time": "2022-10-12T01:02:56.101930",
     "status": "completed"
    },
    "tags": []
   },
   "outputs": [
    {
     "data": {
      "text/plain": [
       "<matplotlib.legend.Legend at 0x7f9ef69b0390>"
      ]
     },
     "execution_count": 24,
     "metadata": {},
     "output_type": "execute_result"
    },
    {
     "data": {
      "image/png": "[encoded data removed]",
      "text/plain": [
       "<Figure size 1080x720 with 1 Axes>"
      ]
     },
     "metadata": {
      "needs_background": "light"
     },
     "output_type": "display_data"
    }
   ],
   "source": [
    "#comparing the results of NN and LR\n",
    "plt.figure(figsize=(15,10))\n",
    "\n",
    "# Neural Network plots\n",
    "plt.plot(acc_nn.accuracies, 'r-', label = \"Training Accuracies - NN\")\n",
    "plt.plot(acc_nn.test_accuracies, 'g-', label = \"Testing Accuracies - NN\")\n",
    "\n",
    "# Logistic Regression plots\n",
    "plt.plot(acc_lr.accuracies, 'k-', label = \"Training Accuracies - LR\")\n",
    "plt.plot(acc_lr.test_accuracies, 'b-', label = \"Testing Accuracies - LR\")\n",
    "plt.legend()"
   ]
  },
  {
   "cell_type": "markdown",
   "id": "80dfb35c",
   "metadata": {
    "papermill": {
     "duration": 0.041598,
     "end_time": "2022-10-12T01:02:56.459210",
     "exception": false,
     "start_time": "2022-10-12T01:02:56.417612",
     "status": "completed"
    },
    "tags": []
   },
   "source": [
    "#### Plotting the outputs of this layer of the NN.\n"
   ]
  },
  {
   "cell_type": "code",
   "execution_count": 25,
   "id": "45eb2ff5",
   "metadata": {
    "execution": {
     "iopub.execute_input": "2022-10-12T01:02:56.557720Z",
     "iopub.status.busy": "2022-10-12T01:02:56.556597Z",
     "iopub.status.idle": "2022-10-12T01:02:56.571539Z",
     "shell.execute_reply": "2022-10-12T01:02:56.572411Z"
    },
    "papermill": {
     "duration": 0.071713,
     "end_time": "2022-10-12T01:02:56.572560",
     "exception": false,
     "start_time": "2022-10-12T01:02:56.500847",
     "status": "completed"
    },
    "tags": []
   },
   "outputs": [],
   "source": [
    "new_model = Model(layers[:-2])\n",
    "testing_plot = new_model(testing_data_x)"
   ]
  },
  {
   "cell_type": "code",
   "execution_count": 26,
   "id": "4c0a5485",
   "metadata": {
    "execution": {
     "iopub.execute_input": "2022-10-12T01:02:56.668895Z",
     "iopub.status.busy": "2022-10-12T01:02:56.668334Z",
     "iopub.status.idle": "2022-10-12T01:02:56.866191Z",
     "shell.execute_reply": "2022-10-12T01:02:56.866644Z"
    },
    "papermill": {
     "duration": 0.251355,
     "end_time": "2022-10-12T01:02:56.866785",
     "exception": false,
     "start_time": "2022-10-12T01:02:56.615430",
     "status": "completed"
    },
    "tags": []
   },
   "outputs": [
    {
     "data": {
      "text/plain": [
       "Text(0.5, 1.0, 'Outputs')"
      ]
     },
     "execution_count": 26,
     "metadata": {},
     "output_type": "execute_result"
    },
    {
     "data": {
      "image/png": "[encoded data removed]",
      "text/plain": [
       "<Figure size 576x504 with 1 Axes>"
      ]
     },
     "metadata": {
      "needs_background": "light"
     },
     "output_type": "display_data"
    }
   ],
   "source": [
    "# Plotting the scatter plot of points and color coding by class\n",
    "plt.figure(figsize=(8,7))\n",
    "plt.scatter(testing_plot[:,0], testing_plot[:,1], alpha = 0.1, c = y_test.ravel());\n",
    "plt.title('Outputs')"
   ]
  },
  {
   "cell_type": "markdown",
   "id": "a74fcf8f",
   "metadata": {
    "papermill": {
     "duration": 0.04432,
     "end_time": "2022-10-12T01:02:56.955648",
     "exception": false,
     "start_time": "2022-10-12T01:02:56.911328",
     "status": "completed"
    },
    "tags": []
   },
   "source": [
    "Probability contours"
   ]
  },
  {
   "cell_type": "code",
   "execution_count": 27,
   "id": "d0afc8e3",
   "metadata": {
    "execution": {
     "iopub.execute_input": "2022-10-12T01:02:57.082143Z",
     "iopub.status.busy": "2022-10-12T01:02:57.078225Z",
     "iopub.status.idle": "2022-10-12T01:02:57.090227Z",
     "shell.execute_reply": "2022-10-12T01:02:57.090646Z"
    },
    "papermill": {
     "duration": 0.090351,
     "end_time": "2022-10-12T01:02:57.090774",
     "exception": false,
     "start_time": "2022-10-12T01:02:57.000423",
     "status": "completed"
    },
    "tags": []
   },
   "outputs": [],
   "source": [
    "model_prob = Model(layers[-2:]) "
   ]
  },
  {
   "cell_type": "code",
   "execution_count": 28,
   "id": "9b96e238",
   "metadata": {
    "execution": {
     "iopub.execute_input": "2022-10-12T01:02:57.188403Z",
     "iopub.status.busy": "2022-10-12T01:02:57.187811Z",
     "iopub.status.idle": "2022-10-12T01:02:57.199168Z",
     "shell.execute_reply": "2022-10-12T01:02:57.199581Z"
    },
    "papermill": {
     "duration": 0.064468,
     "end_time": "2022-10-12T01:02:57.199729",
     "exception": false,
     "start_time": "2022-10-12T01:02:57.135261",
     "status": "completed"
    },
    "tags": []
   },
   "outputs": [],
   "source": [
    "#creating the x and y ranges according to the above generated plot.\n",
    "x_range = np.linspace(-4, 1, 100) \n",
    "y_range = np.linspace(-6, 6, 100) \n",
    "x_grid, y_grid = np.meshgrid(x_range, y_range) # x_grid and y_grig are of size 100 X 100\n",
    "\n",
    "# converting x_grid and y_grid to continuous arrays\n",
    "x_gridflat = np.ravel(x_grid)\n",
    "y_gridflat = np.ravel(y_grid)\n",
    "\n",
    "# The last layer of the current model takes two columns as input. Hence transpose of np.vstack() is required.\n",
    "X = np.vstack((x_gridflat, y_gridflat)).T\n",
    "\n",
    "prob_contour = model_prob(X).reshape(100,100) "
   ]
  },
  {
   "cell_type": "code",
   "execution_count": 29,
   "id": "da72499a",
   "metadata": {
    "execution": {
     "iopub.execute_input": "2022-10-12T01:02:57.294102Z",
     "iopub.status.busy": "2022-10-12T01:02:57.293542Z",
     "iopub.status.idle": "2022-10-12T01:02:57.541125Z",
     "shell.execute_reply": "2022-10-12T01:02:57.540638Z"
    },
    "papermill": {
     "duration": 0.29552,
     "end_time": "2022-10-12T01:02:57.541242",
     "exception": false,
     "start_time": "2022-10-12T01:02:57.245722",
     "status": "completed"
    },
    "tags": []
   },
   "outputs": [
    {
     "data": {
      "image/png": "[encoded data removed]",
      "text/plain": [
       "<Figure size 720x648 with 1 Axes>"
      ]
     },
     "metadata": {
      "needs_background": "light"
     },
     "output_type": "display_data"
    }
   ],
   "source": [
    "plt.figure(figsize=(10,9))\n",
    "plt.scatter(testing_plot[:,0], testing_plot[:,1], alpha = 0.1, c = y_test.ravel())\n",
    "contours = plt.contour(x_grid,y_grid,prob_contour)\n",
    "plt.title('Probability Contours')\n",
    "plt.clabel(contours, inline = True );"
   ]
  },
  {
   "cell_type": "code",
   "execution_count": null,
   "id": "e81b4ac7",
   "metadata": {
    "papermill": {
     "duration": 0.046718,
     "end_time": "2022-10-12T01:02:57.635331",
     "exception": false,
     "start_time": "2022-10-12T01:02:57.588613",
     "status": "completed"
    },
    "tags": []
   },
   "outputs": [],
   "source": []
  }
 ],
 "metadata": {
  "kernelspec": {
   "display_name": "Python 3",
   "language": "python",
   "name": "python3"
  },
  "language_info": {
   "codemirror_mode": {
    "name": "ipython",
    "version": 3
   },
   "file_extension": ".py",
   "mimetype": "text/x-python",
   "name": "python",
   "nbconvert_exporter": "python",
   "pygments_lexer": "ipython3",
   "version": "3.6.15"
  },
  "papermill": {
   "default_parameters": {},
   "duration": 98.459884,
   "end_time": "2022-10-12T01:02:58.101422",
   "environment_variables": {},
   "exception": null,
   "input_path": "2020-08-11-part2.ipynb",
   "output_path": "2020-08-11-part2.ipynb",
   "parameters": {},
   "start_time": "2022-10-12T01:01:19.641538",
   "version": "2.3.3"
  }
 },
 "nbformat": 4,
 "nbformat_minor": 5
}