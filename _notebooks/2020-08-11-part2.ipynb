{
 "cells": [
  {
   "cell_type": "markdown",
   "id": "98380cd3",
   "metadata": {
    "papermill": {
     "duration": 0.029487,
     "end_time": "2021-10-23T00:21:29.958546",
     "exception": false,
     "start_time": "2021-10-23T00:21:29.929059",
     "status": "completed"
    },
    "tags": []
   },
   "source": [
    "# Distinguish Your Own Digits (DYOD)"
   ]
  },
  {
   "cell_type": "markdown",
   "id": "ef31240d",
   "metadata": {
    "papermill": {
     "duration": 0.022273,
     "end_time": "2021-10-23T00:21:30.002949",
     "exception": false,
     "start_time": "2021-10-23T00:21:29.980676",
     "status": "completed"
    },
    "tags": []
   },
   "source": [
    "You are going to write a classifier that distinguishes between the number 3 and number 8."
   ]
  },
  {
   "cell_type": "code",
   "execution_count": 1,
   "id": "b15c8646",
   "metadata": {
    "execution": {
     "iopub.execute_input": "2021-10-23T00:21:30.063949Z",
     "iopub.status.busy": "2021-10-23T00:21:30.062688Z",
     "iopub.status.idle": "2021-10-23T00:21:30.075586Z",
     "shell.execute_reply": "2021-10-23T00:21:30.075105Z"
    },
    "papermill": {
     "duration": 0.048799,
     "end_time": "2021-10-23T00:21:30.075724",
     "exception": false,
     "start_time": "2021-10-23T00:21:30.026925",
     "status": "completed"
    },
    "tags": []
   },
   "outputs": [],
   "source": [
    "%load_ext autoreload\n",
    "%autoreload 2"
   ]
  },
  {
   "cell_type": "code",
   "execution_count": 2,
   "id": "22ef38dc",
   "metadata": {
    "execution": {
     "iopub.execute_input": "2021-10-23T00:21:30.127703Z",
     "iopub.status.busy": "2021-10-23T00:21:30.127216Z",
     "iopub.status.idle": "2021-10-23T00:21:30.624164Z",
     "shell.execute_reply": "2021-10-23T00:21:30.623274Z"
    },
    "papermill": {
     "duration": 0.524516,
     "end_time": "2021-10-23T00:21:30.624389",
     "exception": false,
     "start_time": "2021-10-23T00:21:30.099873",
     "status": "completed"
    },
    "tags": []
   },
   "outputs": [],
   "source": [
    "%matplotlib inline\n",
    "import numpy as np\n",
    "import matplotlib.pyplot as plt\n",
    "import pandas as pd"
   ]
  },
  {
   "cell_type": "markdown",
   "id": "ba036198",
   "metadata": {
    "papermill": {
     "duration": 0.022083,
     "end_time": "2021-10-23T00:21:30.670818",
     "exception": false,
     "start_time": "2021-10-23T00:21:30.648735",
     "status": "completed"
    },
    "tags": []
   },
   "source": [
    "From the command line run `pip install mnist`. This is a library that will help you bring down the mnist dataset. If you run this from a notebook, you need to put  `!pip install mnist` in a cell by itself."
   ]
  },
  {
   "cell_type": "code",
   "execution_count": 3,
   "id": "bb6ad8a1",
   "metadata": {
    "execution": {
     "iopub.execute_input": "2021-10-23T00:21:30.723799Z",
     "iopub.status.busy": "2021-10-23T00:21:30.723373Z",
     "iopub.status.idle": "2021-10-23T00:21:32.376739Z",
     "shell.execute_reply": "2021-10-23T00:21:32.375307Z"
    },
    "papermill": {
     "duration": 1.683069,
     "end_time": "2021-10-23T00:21:32.376966",
     "exception": false,
     "start_time": "2021-10-23T00:21:30.693897",
     "status": "completed"
    },
    "tags": []
   },
   "outputs": [
    {
     "name": "stdout",
     "output_type": "stream",
     "text": [
      "Collecting mnist\r\n"
     ]
    },
    {
     "name": "stdout",
     "output_type": "stream",
     "text": [
      "  Downloading mnist-0.2.2-py2.py3-none-any.whl (3.5 kB)\r\n",
      "Requirement already satisfied: numpy in /opt/hostedtoolcache/Python/3.6.15/x64/lib/python3.6/site-packages (from mnist) (1.19.5)\r\n"
     ]
    },
    {
     "name": "stdout",
     "output_type": "stream",
     "text": [
      "Installing collected packages: mnist\r\n",
      "Successfully installed mnist-0.2.2\r\n"
     ]
    },
    {
     "name": "stdout",
     "output_type": "stream",
     "text": [
      "\u001b[33mWARNING: You are using pip version 21.3; however, version 21.3.1 is available.\r\n",
      "You should consider upgrading via the '/opt/hostedtoolcache/Python/3.6.15/x64/bin/python -m pip install --upgrade pip' command.\u001b[0m\r\n"
     ]
    }
   ],
   "source": [
    "!pip install mnist"
   ]
  },
  {
   "cell_type": "markdown",
   "id": "69df9c9a",
   "metadata": {
    "papermill": {
     "duration": 0.02397,
     "end_time": "2021-10-23T00:21:32.424884",
     "exception": false,
     "start_time": "2021-10-23T00:21:32.400914",
     "status": "completed"
    },
    "tags": []
   },
   "source": [
    "## Preparing the Data"
   ]
  },
  {
   "cell_type": "code",
   "execution_count": 4,
   "id": "7f69d806",
   "metadata": {
    "execution": {
     "iopub.execute_input": "2021-10-23T00:21:32.476858Z",
     "iopub.status.busy": "2021-10-23T00:21:32.476306Z",
     "iopub.status.idle": "2021-10-23T00:21:32.494517Z",
     "shell.execute_reply": "2021-10-23T00:21:32.493593Z"
    },
    "papermill": {
     "duration": 0.045761,
     "end_time": "2021-10-23T00:21:32.494703",
     "exception": false,
     "start_time": "2021-10-23T00:21:32.448942",
     "status": "completed"
    },
    "tags": []
   },
   "outputs": [],
   "source": [
    "import mnist"
   ]
  },
  {
   "cell_type": "code",
   "execution_count": 5,
   "id": "a411e44f",
   "metadata": {
    "execution": {
     "iopub.execute_input": "2021-10-23T00:21:32.548932Z",
     "iopub.status.busy": "2021-10-23T00:21:32.548437Z",
     "iopub.status.idle": "2021-10-23T00:21:33.217410Z",
     "shell.execute_reply": "2021-10-23T00:21:33.216218Z"
    },
    "papermill": {
     "duration": 0.695975,
     "end_time": "2021-10-23T00:21:33.217556",
     "exception": false,
     "start_time": "2021-10-23T00:21:32.521581",
     "status": "completed"
    },
    "tags": []
   },
   "outputs": [],
   "source": [
    "train_images = mnist.train_images()\n",
    "train_labels = mnist.train_labels()"
   ]
  },
  {
   "cell_type": "code",
   "execution_count": 6,
   "id": "dceab3a5",
   "metadata": {
    "execution": {
     "iopub.execute_input": "2021-10-23T00:21:33.274227Z",
     "iopub.status.busy": "2021-10-23T00:21:33.271577Z",
     "iopub.status.idle": "2021-10-23T00:21:33.286202Z",
     "shell.execute_reply": "2021-10-23T00:21:33.285791Z"
    },
    "papermill": {
     "duration": 0.043373,
     "end_time": "2021-10-23T00:21:33.286303",
     "exception": false,
     "start_time": "2021-10-23T00:21:33.242930",
     "status": "completed"
    },
    "tags": []
   },
   "outputs": [
    {
     "data": {
      "text/plain": [
       "((60000, 28, 28), (60000,))"
      ]
     },
     "execution_count": 6,
     "metadata": {},
     "output_type": "execute_result"
    }
   ],
   "source": [
    "train_images.shape, train_labels.shape"
   ]
  },
  {
   "cell_type": "code",
   "execution_count": 7,
   "id": "f50dc2bb",
   "metadata": {
    "execution": {
     "iopub.execute_input": "2021-10-23T00:21:33.337713Z",
     "iopub.status.busy": "2021-10-23T00:21:33.337137Z",
     "iopub.status.idle": "2021-10-23T00:21:33.557034Z",
     "shell.execute_reply": "2021-10-23T00:21:33.555149Z"
    },
    "papermill": {
     "duration": 0.247463,
     "end_time": "2021-10-23T00:21:33.557190",
     "exception": false,
     "start_time": "2021-10-23T00:21:33.309727",
     "status": "completed"
    },
    "tags": []
   },
   "outputs": [],
   "source": [
    "test_images = mnist.test_images()\n",
    "test_labels = mnist.test_labels()"
   ]
  },
  {
   "cell_type": "code",
   "execution_count": 8,
   "id": "fc38cf1b",
   "metadata": {
    "execution": {
     "iopub.execute_input": "2021-10-23T00:21:33.608240Z",
     "iopub.status.busy": "2021-10-23T00:21:33.607557Z",
     "iopub.status.idle": "2021-10-23T00:21:33.619500Z",
     "shell.execute_reply": "2021-10-23T00:21:33.619062Z"
    },
    "papermill": {
     "duration": 0.038926,
     "end_time": "2021-10-23T00:21:33.619640",
     "exception": false,
     "start_time": "2021-10-23T00:21:33.580714",
     "status": "completed"
    },
    "tags": []
   },
   "outputs": [
    {
     "data": {
      "text/plain": [
       "((10000, 28, 28), (10000,))"
      ]
     },
     "execution_count": 8,
     "metadata": {},
     "output_type": "execute_result"
    }
   ],
   "source": [
    "test_images.shape, test_labels.shape"
   ]
  },
  {
   "cell_type": "code",
   "execution_count": 9,
   "id": "f9ed8fe0",
   "metadata": {
    "execution": {
     "iopub.execute_input": "2021-10-23T00:21:33.672038Z",
     "iopub.status.busy": "2021-10-23T00:21:33.671622Z",
     "iopub.status.idle": "2021-10-23T00:21:33.807161Z",
     "shell.execute_reply": "2021-10-23T00:21:33.806757Z"
    },
    "papermill": {
     "duration": 0.163437,
     "end_time": "2021-10-23T00:21:33.807255",
     "exception": false,
     "start_time": "2021-10-23T00:21:33.643818",
     "status": "completed"
    },
    "tags": []
   },
   "outputs": [
    {
     "name": "stdout",
     "output_type": "stream",
     "text": [
      "2\n"
     ]
    },
    {
     "data": {
      "text/plain": [
       "<matplotlib.image.AxesImage at 0x7f6300cfa080>"
      ]
     },
     "execution_count": 9,
     "metadata": {},
     "output_type": "execute_result"
    },
    {
     "data": {
      "image/png": "[encoded data removed]",
      "text/plain": [
       "<Figure size 432x288 with 1 Axes>"
      ]
     },
     "metadata": {
      "needs_background": "light"
     },
     "output_type": "display_data"
    }
   ],
   "source": [
    "image_index = 7776 # You may select anything up to 60,000\n",
    "print(train_labels[image_index]) \n",
    "plt.imshow(train_images[image_index], cmap='Greys')"
   ]
  },
  {
   "cell_type": "markdown",
   "id": "a8d2388d",
   "metadata": {
    "papermill": {
     "duration": 0.025831,
     "end_time": "2021-10-23T00:21:33.856091",
     "exception": false,
     "start_time": "2021-10-23T00:21:33.830260",
     "status": "completed"
    },
    "tags": []
   },
   "source": [
    "## Filter data to get 3 and 8 out"
   ]
  },
  {
   "cell_type": "code",
   "execution_count": 10,
   "id": "776f7fc7",
   "metadata": {
    "execution": {
     "iopub.execute_input": "2021-10-23T00:21:33.907697Z",
     "iopub.status.busy": "2021-10-23T00:21:33.907254Z",
     "iopub.status.idle": "2021-10-23T00:21:33.924077Z",
     "shell.execute_reply": "2021-10-23T00:21:33.923654Z"
    },
    "papermill": {
     "duration": 0.043581,
     "end_time": "2021-10-23T00:21:33.924176",
     "exception": false,
     "start_time": "2021-10-23T00:21:33.880595",
     "status": "completed"
    },
    "tags": []
   },
   "outputs": [],
   "source": [
    "train_filter = np.where((train_labels == 3 ) | (train_labels == 8))\n",
    "test_filter = np.where((test_labels == 3) | (test_labels == 8))\n",
    "X_train, y_train = train_images[train_filter], train_labels[train_filter]\n",
    "X_test, y_test = test_images[test_filter], test_labels[test_filter]"
   ]
  },
  {
   "cell_type": "markdown",
   "id": "948f0b7e",
   "metadata": {
    "papermill": {
     "duration": 0.022068,
     "end_time": "2021-10-23T00:21:33.970874",
     "exception": false,
     "start_time": "2021-10-23T00:21:33.948806",
     "status": "completed"
    },
    "tags": []
   },
   "source": [
    "We normalize the pizel values in the 0 to 1 range"
   ]
  },
  {
   "cell_type": "code",
   "execution_count": 11,
   "id": "ee4c2166",
   "metadata": {
    "execution": {
     "iopub.execute_input": "2021-10-23T00:21:34.022764Z",
     "iopub.status.busy": "2021-10-23T00:21:34.022217Z",
     "iopub.status.idle": "2021-10-23T00:21:34.072166Z",
     "shell.execute_reply": "2021-10-23T00:21:34.071357Z"
    },
    "papermill": {
     "duration": 0.07801,
     "end_time": "2021-10-23T00:21:34.072369",
     "exception": false,
     "start_time": "2021-10-23T00:21:33.994359",
     "status": "completed"
    },
    "tags": []
   },
   "outputs": [],
   "source": [
    "X_train = X_train/255.\n",
    "X_test = X_test/255."
   ]
  },
  {
   "cell_type": "markdown",
   "id": "ddcf4fab",
   "metadata": {
    "papermill": {
     "duration": 0.026982,
     "end_time": "2021-10-23T00:21:34.125760",
     "exception": false,
     "start_time": "2021-10-23T00:21:34.098778",
     "status": "completed"
    },
    "tags": []
   },
   "source": [
    "And setup the labels as 1 (when the digit is 3) and 0 (when the digit is 8)"
   ]
  },
  {
   "cell_type": "code",
   "execution_count": 12,
   "id": "7dc908f2",
   "metadata": {
    "execution": {
     "iopub.execute_input": "2021-10-23T00:21:34.179276Z",
     "iopub.status.busy": "2021-10-23T00:21:34.178773Z",
     "iopub.status.idle": "2021-10-23T00:21:34.191924Z",
     "shell.execute_reply": "2021-10-23T00:21:34.191088Z"
    },
    "papermill": {
     "duration": 0.039958,
     "end_time": "2021-10-23T00:21:34.192021",
     "exception": false,
     "start_time": "2021-10-23T00:21:34.152063",
     "status": "completed"
    },
    "tags": []
   },
   "outputs": [],
   "source": [
    "y_train = 1*(y_train==3)\n",
    "y_test = 1*(y_test==3)"
   ]
  },
  {
   "cell_type": "code",
   "execution_count": 13,
   "id": "01e4e969",
   "metadata": {
    "execution": {
     "iopub.execute_input": "2021-10-23T00:21:34.241664Z",
     "iopub.status.busy": "2021-10-23T00:21:34.241134Z",
     "iopub.status.idle": "2021-10-23T00:21:34.256235Z",
     "shell.execute_reply": "2021-10-23T00:21:34.256595Z"
    },
    "papermill": {
     "duration": 0.040331,
     "end_time": "2021-10-23T00:21:34.256708",
     "exception": false,
     "start_time": "2021-10-23T00:21:34.216377",
     "status": "completed"
    },
    "tags": []
   },
   "outputs": [
    {
     "data": {
      "text/plain": [
       "((11982, 28, 28), (1984, 28, 28))"
      ]
     },
     "execution_count": 13,
     "metadata": {},
     "output_type": "execute_result"
    }
   ],
   "source": [
    "X_train.shape, X_test.shape"
   ]
  },
  {
   "cell_type": "markdown",
   "id": "5ccf3f85",
   "metadata": {
    "papermill": {
     "duration": 0.023399,
     "end_time": "2021-10-23T00:21:34.302454",
     "exception": false,
     "start_time": "2021-10-23T00:21:34.279055",
     "status": "completed"
    },
    "tags": []
   },
   "source": [
    "We reshape the data to flatten the image pixels into a set of features or co-variates:"
   ]
  },
  {
   "cell_type": "code",
   "execution_count": 14,
   "id": "5286a4a3",
   "metadata": {
    "execution": {
     "iopub.execute_input": "2021-10-23T00:21:34.352812Z",
     "iopub.status.busy": "2021-10-23T00:21:34.352334Z",
     "iopub.status.idle": "2021-10-23T00:21:34.365930Z",
     "shell.execute_reply": "2021-10-23T00:21:34.365363Z"
    },
    "papermill": {
     "duration": 0.040855,
     "end_time": "2021-10-23T00:21:34.366017",
     "exception": false,
     "start_time": "2021-10-23T00:21:34.325162",
     "status": "completed"
    },
    "tags": []
   },
   "outputs": [
    {
     "data": {
      "text/plain": [
       "((11982, 784), (1984, 784))"
      ]
     },
     "execution_count": 14,
     "metadata": {},
     "output_type": "execute_result"
    }
   ],
   "source": [
    "X_train = X_train.reshape(X_train.shape[0], -1)\n",
    "X_test = X_test.reshape(X_test.shape[0], -1)\n",
    "X_train.shape, X_test.shape"
   ]
  },
  {
   "cell_type": "code",
   "execution_count": 15,
   "id": "73c5f88a",
   "metadata": {
    "execution": {
     "iopub.execute_input": "2021-10-23T00:21:34.421554Z",
     "iopub.status.busy": "2021-10-23T00:21:34.421060Z",
     "iopub.status.idle": "2021-10-23T00:21:34.439063Z",
     "shell.execute_reply": "2021-10-23T00:21:34.439520Z"
    },
    "papermill": {
     "duration": 0.049212,
     "end_time": "2021-10-23T00:21:34.439639",
     "exception": false,
     "start_time": "2021-10-23T00:21:34.390427",
     "status": "completed"
    },
    "tags": []
   },
   "outputs": [],
   "source": [
    "#Impoting functions from 'Kudzu'\n",
    "from kudzu.model import Model\n",
    "from kudzu.train import Learner\n",
    "from kudzu.optim import GD\n",
    "from kudzu.data import Data, Sampler,Dataloader\n",
    "\n",
    "from kudzu.callbacks import AccCallback\n",
    "from kudzu.callbacks import ClfCallback\n",
    "\n",
    "from kudzu.loss import MSE\n",
    "\n",
    "from kudzu.layer import Sigmoid,Relu\n",
    "from kudzu.layer import Affine"
   ]
  },
  {
   "cell_type": "markdown",
   "id": "bc01172a",
   "metadata": {
    "papermill": {
     "duration": 0.025269,
     "end_time": "2021-10-23T00:21:34.490261",
     "exception": false,
     "start_time": "2021-10-23T00:21:34.464992",
     "status": "completed"
    },
    "tags": []
   },
   "source": [
    "### Let us create a `Config` class, to store important parameters. \n",
    "This class essentially plays the role of a dictionary."
   ]
  },
  {
   "cell_type": "code",
   "execution_count": 16,
   "id": "978281aa",
   "metadata": {
    "execution": {
     "iopub.execute_input": "2021-10-23T00:21:34.544177Z",
     "iopub.status.busy": "2021-10-23T00:21:34.543654Z",
     "iopub.status.idle": "2021-10-23T00:21:34.559480Z",
     "shell.execute_reply": "2021-10-23T00:21:34.559037Z"
    },
    "papermill": {
     "duration": 0.044989,
     "end_time": "2021-10-23T00:21:34.559577",
     "exception": false,
     "start_time": "2021-10-23T00:21:34.514588",
     "status": "completed"
    },
    "tags": []
   },
   "outputs": [],
   "source": [
    "class Config:\n",
    "    pass\n",
    "config = Config()\n",
    "config.lr = 0.001\n",
    "config.num_epochs = 250\n",
    "config.bs = 50"
   ]
  },
  {
   "cell_type": "markdown",
   "id": "1385fa59",
   "metadata": {
    "papermill": {
     "duration": 0.024704,
     "end_time": "2021-10-23T00:21:34.610121",
     "exception": false,
     "start_time": "2021-10-23T00:21:34.585417",
     "status": "completed"
    },
    "tags": []
   },
   "source": [
    "### Running Models with the Training data\n",
    "Details about the network layers:\n",
    "- A first affine layer has 784 inputs and does 100 affine transforms. These are followed by a Relu\n",
    "- A second affine layer has 100 inputs from the 100 activations of the past layer, and does 100 affine transforms. These are followed by a Relu\n",
    "- A third affine layer has 100 activations and does 2 affine transformations to create an embedding for visualization. There is no non-linearity here.\n",
    "- A final \"logistic regression\" which has an affine transform from 2 inputs to 1 output, which is squeezed through a sigmoid.\n"
   ]
  },
  {
   "cell_type": "code",
   "execution_count": 17,
   "id": "2b9c66db",
   "metadata": {
    "execution": {
     "iopub.execute_input": "2021-10-23T00:21:34.667332Z",
     "iopub.status.busy": "2021-10-23T00:21:34.666836Z",
     "iopub.status.idle": "2021-10-23T00:21:34.681701Z",
     "shell.execute_reply": "2021-10-23T00:21:34.681267Z"
    },
    "papermill": {
     "duration": 0.045109,
     "end_time": "2021-10-23T00:21:34.681789",
     "exception": false,
     "start_time": "2021-10-23T00:21:34.636680",
     "status": "completed"
    },
    "tags": []
   },
   "outputs": [],
   "source": [
    "data = Data(X_train, y_train.reshape(-1,1))\n",
    "sampler = Sampler(data, config.bs, shuffle=True)\n",
    "\n",
    "dl = Dataloader(data, sampler)\n",
    "\n",
    "opt = GD(config.lr)\n",
    "loss = MSE()"
   ]
  },
  {
   "cell_type": "code",
   "execution_count": 18,
   "id": "b275e4c2",
   "metadata": {
    "execution": {
     "iopub.execute_input": "2021-10-23T00:21:34.732304Z",
     "iopub.status.busy": "2021-10-23T00:21:34.731879Z",
     "iopub.status.idle": "2021-10-23T00:21:34.745648Z",
     "shell.execute_reply": "2021-10-23T00:21:34.745221Z"
    },
    "papermill": {
     "duration": 0.039455,
     "end_time": "2021-10-23T00:21:34.745735",
     "exception": false,
     "start_time": "2021-10-23T00:21:34.706280",
     "status": "completed"
    },
    "tags": []
   },
   "outputs": [],
   "source": [
    "training_data_x = X_train\n",
    "testing_data_x = X_test\n",
    "training_data_y = y_train.reshape(-1,1)\n",
    "testing_data_y = y_test.reshape(-1,1)"
   ]
  },
  {
   "cell_type": "code",
   "execution_count": 19,
   "id": "76951160",
   "metadata": {
    "execution": {
     "iopub.execute_input": "2021-10-23T00:21:34.798677Z",
     "iopub.status.busy": "2021-10-23T00:21:34.798254Z",
     "iopub.status.idle": "2021-10-23T00:21:34.813999Z",
     "shell.execute_reply": "2021-10-23T00:21:34.813667Z"
    },
    "papermill": {
     "duration": 0.04411,
     "end_time": "2021-10-23T00:21:34.814129",
     "exception": false,
     "start_time": "2021-10-23T00:21:34.770019",
     "status": "completed"
    },
    "tags": []
   },
   "outputs": [
    {
     "name": "stdout",
     "output_type": "stream",
     "text": [
      "xavier\n",
      "xavier\n",
      "xavier\n",
      "xavier\n",
      "xavier\n"
     ]
    }
   ],
   "source": [
    "layers = [Affine(\"first\", 784, 100), Relu(\"first\"), Affine(\"second\", 100, 100), Relu(\"second\"), Affine(\"third\", 100, 2), Affine(\"last\", 2, 1), Sigmoid(\"last\")]\n",
    "model_nn = Model(layers)\n",
    "model_lr = Model([Affine(\"logits\", 784, 1), Sigmoid(\"sigmoid\")])"
   ]
  },
  {
   "cell_type": "code",
   "execution_count": 20,
   "id": "6eede77a",
   "metadata": {
    "execution": {
     "iopub.execute_input": "2021-10-23T00:21:34.863630Z",
     "iopub.status.busy": "2021-10-23T00:21:34.863212Z",
     "iopub.status.idle": "2021-10-23T00:21:34.877552Z",
     "shell.execute_reply": "2021-10-23T00:21:34.877079Z"
    },
    "papermill": {
     "duration": 0.040276,
     "end_time": "2021-10-23T00:21:34.877649",
     "exception": false,
     "start_time": "2021-10-23T00:21:34.837373",
     "status": "completed"
    },
    "tags": []
   },
   "outputs": [],
   "source": [
    "nn_learner = Learner(loss, model_nn, opt, config.num_epochs)\n",
    "acc_nn = ClfCallback(nn_learner, config.bs, training_data_x , testing_data_x, training_data_y, testing_data_y)\n",
    "nn_learner.set_callbacks([acc_nn])"
   ]
  },
  {
   "cell_type": "code",
   "execution_count": 21,
   "id": "877b6cc7",
   "metadata": {
    "execution": {
     "iopub.execute_input": "2021-10-23T00:21:34.926171Z",
     "iopub.status.busy": "2021-10-23T00:21:34.925677Z",
     "iopub.status.idle": "2021-10-23T00:21:34.940595Z",
     "shell.execute_reply": "2021-10-23T00:21:34.940213Z"
    },
    "papermill": {
     "duration": 0.040409,
     "end_time": "2021-10-23T00:21:34.940677",
     "exception": false,
     "start_time": "2021-10-23T00:21:34.900268",
     "status": "completed"
    },
    "tags": []
   },
   "outputs": [],
   "source": [
    "lr_learner = Learner(loss, model_lr, opt, config.num_epochs)\n",
    "acc_lr = ClfCallback(lr_learner, config.bs, training_data_x , testing_data_x, training_data_y, testing_data_y)\n",
    "lr_learner.set_callbacks([acc_lr])"
   ]
  },
  {
   "cell_type": "code",
   "execution_count": 22,
   "id": "d9b133c3",
   "metadata": {
    "execution": {
     "iopub.execute_input": "2021-10-23T00:21:34.990247Z",
     "iopub.status.busy": "2021-10-23T00:21:34.989706Z",
     "iopub.status.idle": "2021-10-23T00:22:51.827863Z",
     "shell.execute_reply": "2021-10-23T00:22:51.828277Z"
    },
    "papermill": {
     "duration": 76.86471,
     "end_time": "2021-10-23T00:22:51.828401",
     "exception": false,
     "start_time": "2021-10-23T00:21:34.963691",
     "status": "completed"
    },
    "tags": []
   },
   "outputs": [
    {
     "name": "stdout",
     "output_type": "stream",
     "text": [
      "Epoch 0, Loss 0.2414\n",
      "Training Accuracy: 0.6835, Testing Accuracy: 0.6815\n",
      "\n"
     ]
    },
    {
     "name": "stdout",
     "output_type": "stream",
     "text": [
      "Epoch 10, Loss 0.0858\n",
      "Training Accuracy: 0.9234, Testing Accuracy: 0.9299\n",
      "\n"
     ]
    },
    {
     "name": "stdout",
     "output_type": "stream",
     "text": [
      "Epoch 20, Loss 0.0535\n",
      "Training Accuracy: 0.9463, Testing Accuracy: 0.9561\n",
      "\n"
     ]
    },
    {
     "name": "stdout",
     "output_type": "stream",
     "text": [
      "Epoch 30, Loss 0.0425\n",
      "Training Accuracy: 0.9538, Testing Accuracy: 0.9637\n",
      "\n"
     ]
    },
    {
     "name": "stdout",
     "output_type": "stream",
     "text": [
      "Epoch 40, Loss 0.037\n",
      "Training Accuracy: 0.9584, Testing Accuracy: 0.9672\n",
      "\n"
     ]
    },
    {
     "name": "stdout",
     "output_type": "stream",
     "text": [
      "Epoch 50, Loss 0.0337\n",
      "Training Accuracy: 0.9613, Testing Accuracy: 0.9682\n",
      "\n"
     ]
    },
    {
     "name": "stdout",
     "output_type": "stream",
     "text": [
      "Epoch 60, Loss 0.0314\n",
      "Training Accuracy: 0.9639, Testing Accuracy: 0.9703\n",
      "\n"
     ]
    },
    {
     "name": "stdout",
     "output_type": "stream",
     "text": [
      "Epoch 70, Loss 0.0296\n",
      "Training Accuracy: 0.9664, Testing Accuracy: 0.9718\n",
      "\n"
     ]
    },
    {
     "name": "stdout",
     "output_type": "stream",
     "text": [
      "Epoch 80, Loss 0.0282\n",
      "Training Accuracy: 0.9680, Testing Accuracy: 0.9708\n",
      "\n"
     ]
    },
    {
     "name": "stdout",
     "output_type": "stream",
     "text": [
      "Epoch 90, Loss 0.027\n",
      "Training Accuracy: 0.9691, Testing Accuracy: 0.9723\n",
      "\n"
     ]
    },
    {
     "name": "stdout",
     "output_type": "stream",
     "text": [
      "Epoch 100, Loss 0.026\n",
      "Training Accuracy: 0.9703, Testing Accuracy: 0.9723\n",
      "\n"
     ]
    },
    {
     "name": "stdout",
     "output_type": "stream",
     "text": [
      "Epoch 110, Loss 0.0251\n",
      "Training Accuracy: 0.9710, Testing Accuracy: 0.9738\n",
      "\n"
     ]
    },
    {
     "name": "stdout",
     "output_type": "stream",
     "text": [
      "Epoch 120, Loss 0.0243\n",
      "Training Accuracy: 0.9726, Testing Accuracy: 0.9743\n",
      "\n"
     ]
    },
    {
     "name": "stdout",
     "output_type": "stream",
     "text": [
      "Epoch 130, Loss 0.0235\n",
      "Training Accuracy: 0.9738, Testing Accuracy: 0.9743\n",
      "\n"
     ]
    },
    {
     "name": "stdout",
     "output_type": "stream",
     "text": [
      "Epoch 140, Loss 0.0229\n",
      "Training Accuracy: 0.9748, Testing Accuracy: 0.9753\n",
      "\n"
     ]
    },
    {
     "name": "stdout",
     "output_type": "stream",
     "text": [
      "Epoch 150, Loss 0.0222\n",
      "Training Accuracy: 0.9753, Testing Accuracy: 0.9753\n",
      "\n"
     ]
    },
    {
     "name": "stdout",
     "output_type": "stream",
     "text": [
      "Epoch 160, Loss 0.0217\n",
      "Training Accuracy: 0.9760, Testing Accuracy: 0.9753\n",
      "\n"
     ]
    },
    {
     "name": "stdout",
     "output_type": "stream",
     "text": [
      "Epoch 170, Loss 0.0211\n",
      "Training Accuracy: 0.9766, Testing Accuracy: 0.9753\n",
      "\n"
     ]
    },
    {
     "name": "stdout",
     "output_type": "stream",
     "text": [
      "Epoch 180, Loss 0.0206\n",
      "Training Accuracy: 0.9770, Testing Accuracy: 0.9753\n",
      "\n"
     ]
    },
    {
     "name": "stdout",
     "output_type": "stream",
     "text": [
      "Epoch 190, Loss 0.0201\n",
      "Training Accuracy: 0.9775, Testing Accuracy: 0.9758\n",
      "\n"
     ]
    },
    {
     "name": "stdout",
     "output_type": "stream",
     "text": [
      "Epoch 200, Loss 0.0197\n",
      "Training Accuracy: 0.9777, Testing Accuracy: 0.9758\n",
      "\n"
     ]
    },
    {
     "name": "stdout",
     "output_type": "stream",
     "text": [
      "Epoch 210, Loss 0.0193\n",
      "Training Accuracy: 0.9786, Testing Accuracy: 0.9758\n",
      "\n"
     ]
    },
    {
     "name": "stdout",
     "output_type": "stream",
     "text": [
      "Epoch 220, Loss 0.0189\n",
      "Training Accuracy: 0.9792, Testing Accuracy: 0.9758\n",
      "\n"
     ]
    },
    {
     "name": "stdout",
     "output_type": "stream",
     "text": [
      "Epoch 230, Loss 0.0185\n",
      "Training Accuracy: 0.9798, Testing Accuracy: 0.9758\n",
      "\n"
     ]
    },
    {
     "name": "stdout",
     "output_type": "stream",
     "text": [
      "Epoch 240, Loss 0.0181\n",
      "Training Accuracy: 0.9802, Testing Accuracy: 0.9763\n",
      "\n"
     ]
    },
    {
     "data": {
      "text/plain": [
       "0.024601930936367603"
      ]
     },
     "execution_count": 22,
     "metadata": {},
     "output_type": "execute_result"
    }
   ],
   "source": [
    "nn_learner.train_loop(dl)"
   ]
  },
  {
   "cell_type": "code",
   "execution_count": 23,
   "id": "e0163366",
   "metadata": {
    "execution": {
     "iopub.execute_input": "2021-10-23T00:22:51.902524Z",
     "iopub.status.busy": "2021-10-23T00:22:51.901984Z",
     "iopub.status.idle": "2021-10-23T00:23:04.708626Z",
     "shell.execute_reply": "2021-10-23T00:23:04.709417Z"
    },
    "papermill": {
     "duration": 12.846489,
     "end_time": "2021-10-23T00:23:04.709564",
     "exception": false,
     "start_time": "2021-10-23T00:22:51.863075",
     "status": "completed"
    },
    "tags": []
   },
   "outputs": [
    {
     "name": "stdout",
     "output_type": "stream",
     "text": [
      "Epoch 0, Loss 0.2237\n",
      "Training Accuracy: 0.7394, Testing Accuracy: 0.7445\n",
      "\n"
     ]
    },
    {
     "name": "stdout",
     "output_type": "stream",
     "text": [
      "Epoch 10, Loss 0.1015\n",
      "Training Accuracy: 0.9104, Testing Accuracy: 0.9219\n",
      "\n"
     ]
    },
    {
     "name": "stdout",
     "output_type": "stream",
     "text": [
      "Epoch 20, Loss 0.0789\n",
      "Training Accuracy: 0.9284, Testing Accuracy: 0.9405\n",
      "\n"
     ]
    },
    {
     "name": "stdout",
     "output_type": "stream",
     "text": [
      "Epoch 30, Loss 0.0683\n",
      "Training Accuracy: 0.9362, Testing Accuracy: 0.9481\n",
      "\n"
     ]
    },
    {
     "name": "stdout",
     "output_type": "stream",
     "text": [
      "Epoch 40, Loss 0.0619\n",
      "Training Accuracy: 0.9412, Testing Accuracy: 0.9521\n",
      "\n"
     ]
    },
    {
     "name": "stdout",
     "output_type": "stream",
     "text": [
      "Epoch 50, Loss 0.0575\n",
      "Training Accuracy: 0.9438, Testing Accuracy: 0.9561\n",
      "\n"
     ]
    },
    {
     "name": "stdout",
     "output_type": "stream",
     "text": [
      "Epoch 60, Loss 0.0542\n",
      "Training Accuracy: 0.9468, Testing Accuracy: 0.9597\n",
      "\n"
     ]
    },
    {
     "name": "stdout",
     "output_type": "stream",
     "text": [
      "Epoch 70, Loss 0.0517\n",
      "Training Accuracy: 0.9485, Testing Accuracy: 0.9597\n",
      "\n"
     ]
    },
    {
     "name": "stdout",
     "output_type": "stream",
     "text": [
      "Epoch 80, Loss 0.0497\n",
      "Training Accuracy: 0.9499, Testing Accuracy: 0.9612\n",
      "\n"
     ]
    },
    {
     "name": "stdout",
     "output_type": "stream",
     "text": [
      "Epoch 90, Loss 0.048\n",
      "Training Accuracy: 0.9510, Testing Accuracy: 0.9617\n",
      "\n"
     ]
    },
    {
     "name": "stdout",
     "output_type": "stream",
     "text": [
      "Epoch 100, Loss 0.0466\n",
      "Training Accuracy: 0.9517, Testing Accuracy: 0.9627\n",
      "\n"
     ]
    },
    {
     "name": "stdout",
     "output_type": "stream",
     "text": [
      "Epoch 110, Loss 0.0454\n",
      "Training Accuracy: 0.9531, Testing Accuracy: 0.9637\n",
      "\n"
     ]
    },
    {
     "name": "stdout",
     "output_type": "stream",
     "text": [
      "Epoch 120, Loss 0.0443\n",
      "Training Accuracy: 0.9534, Testing Accuracy: 0.9637\n",
      "\n"
     ]
    },
    {
     "name": "stdout",
     "output_type": "stream",
     "text": [
      "Epoch 130, Loss 0.0434\n",
      "Training Accuracy: 0.9547, Testing Accuracy: 0.9652\n",
      "\n"
     ]
    },
    {
     "name": "stdout",
     "output_type": "stream",
     "text": [
      "Epoch 140, Loss 0.0425\n",
      "Training Accuracy: 0.9551, Testing Accuracy: 0.9657\n",
      "\n"
     ]
    },
    {
     "name": "stdout",
     "output_type": "stream",
     "text": [
      "Epoch 150, Loss 0.0418\n",
      "Training Accuracy: 0.9559, Testing Accuracy: 0.9667\n",
      "\n"
     ]
    },
    {
     "name": "stdout",
     "output_type": "stream",
     "text": [
      "Epoch 160, Loss 0.0411\n",
      "Training Accuracy: 0.9563, Testing Accuracy: 0.9672\n",
      "\n"
     ]
    },
    {
     "name": "stdout",
     "output_type": "stream",
     "text": [
      "Epoch 170, Loss 0.0405\n",
      "Training Accuracy: 0.9571, Testing Accuracy: 0.9672\n",
      "\n"
     ]
    },
    {
     "name": "stdout",
     "output_type": "stream",
     "text": [
      "Epoch 180, Loss 0.0399\n",
      "Training Accuracy: 0.9572, Testing Accuracy: 0.9672\n",
      "\n"
     ]
    },
    {
     "name": "stdout",
     "output_type": "stream",
     "text": [
      "Epoch 190, Loss 0.0394\n",
      "Training Accuracy: 0.9574, Testing Accuracy: 0.9672\n",
      "\n"
     ]
    },
    {
     "name": "stdout",
     "output_type": "stream",
     "text": [
      "Epoch 200, Loss 0.0389\n",
      "Training Accuracy: 0.9578, Testing Accuracy: 0.9672\n",
      "\n"
     ]
    },
    {
     "name": "stdout",
     "output_type": "stream",
     "text": [
      "Epoch 210, Loss 0.0384\n",
      "Training Accuracy: 0.9584, Testing Accuracy: 0.9672\n",
      "\n"
     ]
    },
    {
     "name": "stdout",
     "output_type": "stream",
     "text": [
      "Epoch 220, Loss 0.038\n",
      "Training Accuracy: 0.9589, Testing Accuracy: 0.9672\n",
      "\n"
     ]
    },
    {
     "name": "stdout",
     "output_type": "stream",
     "text": [
      "Epoch 230, Loss 0.0376\n",
      "Training Accuracy: 0.9598, Testing Accuracy: 0.9672\n",
      "\n"
     ]
    },
    {
     "name": "stdout",
     "output_type": "stream",
     "text": [
      "Epoch 240, Loss 0.0372\n",
      "Training Accuracy: 0.9600, Testing Accuracy: 0.9672\n",
      "\n"
     ]
    },
    {
     "data": {
      "text/plain": [
       "0.04343571666087129"
      ]
     },
     "execution_count": 23,
     "metadata": {},
     "output_type": "execute_result"
    }
   ],
   "source": [
    "lr_learner.train_loop(dl)"
   ]
  },
  {
   "cell_type": "code",
   "execution_count": 24,
   "id": "ca410940",
   "metadata": {
    "execution": {
     "iopub.execute_input": "2021-10-23T00:23:04.790994Z",
     "iopub.status.busy": "2021-10-23T00:23:04.790547Z",
     "iopub.status.idle": "2021-10-23T00:23:04.999592Z",
     "shell.execute_reply": "2021-10-23T00:23:04.999936Z"
    },
    "papermill": {
     "duration": 0.253192,
     "end_time": "2021-10-23T00:23:05.000052",
     "exception": false,
     "start_time": "2021-10-23T00:23:04.746860",
     "status": "completed"
    },
    "tags": []
   },
   "outputs": [
    {
     "data": {
      "text/plain": [
       "<matplotlib.legend.Legend at 0x7f62f34d27b8>"
      ]
     },
     "execution_count": 24,
     "metadata": {},
     "output_type": "execute_result"
    },
    {
     "data": {
      "image/png": "[encoded data removed]",
      "text/plain": [
       "<Figure size 1080x720 with 1 Axes>"
      ]
     },
     "metadata": {
      "needs_background": "light"
     },
     "output_type": "display_data"
    }
   ],
   "source": [
    "#comparing the results of NN and LR\n",
    "plt.figure(figsize=(15,10))\n",
    "\n",
    "# Neural Network plots\n",
    "plt.plot(acc_nn.accuracies, 'r-', label = \"Training Accuracies - NN\")\n",
    "plt.plot(acc_nn.test_accuracies, 'g-', label = \"Testing Accuracies - NN\")\n",
    "\n",
    "# Logistic Regression plots\n",
    "plt.plot(acc_lr.accuracies, 'k-', label = \"Training Accuracies - LR\")\n",
    "plt.plot(acc_lr.test_accuracies, 'b-', label = \"Testing Accuracies - LR\")\n",
    "plt.legend()"
   ]
  },
  {
   "cell_type": "markdown",
   "id": "80dfb35c",
   "metadata": {
    "papermill": {
     "duration": 0.036592,
     "end_time": "2021-10-23T00:23:05.072326",
     "exception": false,
     "start_time": "2021-10-23T00:23:05.035734",
     "status": "completed"
    },
    "tags": []
   },
   "source": [
    "#### Plotting the outputs of this layer of the NN.\n"
   ]
  },
  {
   "cell_type": "code",
   "execution_count": 25,
   "id": "45eb2ff5",
   "metadata": {
    "execution": {
     "iopub.execute_input": "2021-10-23T00:23:05.149008Z",
     "iopub.status.busy": "2021-10-23T00:23:05.148504Z",
     "iopub.status.idle": "2021-10-23T00:23:05.167603Z",
     "shell.execute_reply": "2021-10-23T00:23:05.168045Z"
    },
    "papermill": {
     "duration": 0.059221,
     "end_time": "2021-10-23T00:23:05.168178",
     "exception": false,
     "start_time": "2021-10-23T00:23:05.108957",
     "status": "completed"
    },
    "tags": []
   },
   "outputs": [],
   "source": [
    "new_model = Model(layers[:-2])\n",
    "testing_plot = new_model(testing_data_x)"
   ]
  },
  {
   "cell_type": "code",
   "execution_count": 26,
   "id": "4c0a5485",
   "metadata": {
    "execution": {
     "iopub.execute_input": "2021-10-23T00:23:05.266336Z",
     "iopub.status.busy": "2021-10-23T00:23:05.263286Z",
     "iopub.status.idle": "2021-10-23T00:23:05.457846Z",
     "shell.execute_reply": "2021-10-23T00:23:05.457470Z"
    },
    "papermill": {
     "duration": 0.240932,
     "end_time": "2021-10-23T00:23:05.457945",
     "exception": false,
     "start_time": "2021-10-23T00:23:05.217013",
     "status": "completed"
    },
    "tags": []
   },
   "outputs": [
    {
     "data": {
      "text/plain": [
       "Text(0.5, 1.0, 'Outputs')"
      ]
     },
     "execution_count": 26,
     "metadata": {},
     "output_type": "execute_result"
    },
    {
     "data": {
      "image/png": "[encoded data removed]",
      "text/plain": [
       "<Figure size 576x504 with 1 Axes>"
      ]
     },
     "metadata": {
      "needs_background": "light"
     },
     "output_type": "display_data"
    }
   ],
   "source": [
    "# Plotting the scatter plot of points and color coding by class\n",
    "plt.figure(figsize=(8,7))\n",
    "plt.scatter(testing_plot[:,0], testing_plot[:,1], alpha = 0.1, c = y_test.ravel());\n",
    "plt.title('Outputs')"
   ]
  },
  {
   "cell_type": "markdown",
   "id": "a74fcf8f",
   "metadata": {
    "papermill": {
     "duration": 0.038909,
     "end_time": "2021-10-23T00:23:05.535002",
     "exception": false,
     "start_time": "2021-10-23T00:23:05.496093",
     "status": "completed"
    },
    "tags": []
   },
   "source": [
    "Probability contours"
   ]
  },
  {
   "cell_type": "code",
   "execution_count": 27,
   "id": "d0afc8e3",
   "metadata": {
    "execution": {
     "iopub.execute_input": "2021-10-23T00:23:05.615482Z",
     "iopub.status.busy": "2021-10-23T00:23:05.615062Z",
     "iopub.status.idle": "2021-10-23T00:23:05.625514Z",
     "shell.execute_reply": "2021-10-23T00:23:05.625836Z"
    },
    "papermill": {
     "duration": 0.052773,
     "end_time": "2021-10-23T00:23:05.625942",
     "exception": false,
     "start_time": "2021-10-23T00:23:05.573169",
     "status": "completed"
    },
    "tags": []
   },
   "outputs": [],
   "source": [
    "model_prob = Model(layers[-2:]) "
   ]
  },
  {
   "cell_type": "code",
   "execution_count": 28,
   "id": "9b96e238",
   "metadata": {
    "execution": {
     "iopub.execute_input": "2021-10-23T00:23:05.732582Z",
     "iopub.status.busy": "2021-10-23T00:23:05.732126Z",
     "iopub.status.idle": "2021-10-23T00:23:05.748072Z",
     "shell.execute_reply": "2021-10-23T00:23:05.748387Z"
    },
    "papermill": {
     "duration": 0.085476,
     "end_time": "2021-10-23T00:23:05.748485",
     "exception": false,
     "start_time": "2021-10-23T00:23:05.663009",
     "status": "completed"
    },
    "tags": []
   },
   "outputs": [],
   "source": [
    "#creating the x and y ranges according to the above generated plot.\n",
    "x_range = np.linspace(-4, 1, 100) \n",
    "y_range = np.linspace(-6, 6, 100) \n",
    "x_grid, y_grid = np.meshgrid(x_range, y_range) # x_grid and y_grig are of size 100 X 100\n",
    "\n",
    "# converting x_grid and y_grid to continuous arrays\n",
    "x_gridflat = np.ravel(x_grid)\n",
    "y_gridflat = np.ravel(y_grid)\n",
    "\n",
    "# The last layer of the current model takes two columns as input. Hence transpose of np.vstack() is required.\n",
    "X = np.vstack((x_gridflat, y_gridflat)).T\n",
    "\n",
    "prob_contour = model_prob(X).reshape(100,100) "
   ]
  },
  {
   "cell_type": "code",
   "execution_count": 29,
   "id": "da72499a",
   "metadata": {
    "execution": {
     "iopub.execute_input": "2021-10-23T00:23:05.834164Z",
     "iopub.status.busy": "2021-10-23T00:23:05.833749Z",
     "iopub.status.idle": "2021-10-23T00:23:06.064257Z",
     "shell.execute_reply": "2021-10-23T00:23:06.063780Z"
    },
    "papermill": {
     "duration": 0.271455,
     "end_time": "2021-10-23T00:23:06.064380",
     "exception": false,
     "start_time": "2021-10-23T00:23:05.792925",
     "status": "completed"
    },
    "tags": []
   },
   "outputs": [
    {
     "data": {
      "image/png": "[encoded data removed]",
      "text/plain": [
       "<Figure size 720x648 with 1 Axes>"
      ]
     },
     "metadata": {
      "needs_background": "light"
     },
     "output_type": "display_data"
    }
   ],
   "source": [
    "plt.figure(figsize=(10,9))\n",
    "plt.scatter(testing_plot[:,0], testing_plot[:,1], alpha = 0.1, c = y_test.ravel())\n",
    "contours = plt.contour(x_grid,y_grid,prob_contour)\n",
    "plt.title('Probability Contours')\n",
    "plt.clabel(contours, inline = True );"
   ]
  },
  {
   "cell_type": "code",
   "execution_count": null,
   "id": "e81b4ac7",
   "metadata": {
    "papermill": {
     "duration": 0.040391,
     "end_time": "2021-10-23T00:23:06.148804",
     "exception": false,
     "start_time": "2021-10-23T00:23:06.108413",
     "status": "completed"
    },
    "tags": []
   },
   "outputs": [],
   "source": []
  }
 ],
 "metadata": {
  "kernelspec": {
   "display_name": "Python 3",
   "language": "python",
   "name": "python3"
  },
  "language_info": {
   "codemirror_mode": {
    "name": "ipython",
    "version": 3
   },
   "file_extension": ".py",
   "mimetype": "text/x-python",
   "name": "python",
   "nbconvert_exporter": "python",
   "pygments_lexer": "ipython3",
   "version": "3.6.15"
  },
  "papermill": {
   "default_parameters": {},
   "duration": 97.545383,
   "end_time": "2021-10-23T00:23:06.497437",
   "environment_variables": {},
   "exception": null,
   "input_path": "2020-08-11-part2.ipynb",
   "output_path": "2020-08-11-part2.ipynb",
   "parameters": {},
   "start_time": "2021-10-23T00:21:28.952054",
   "version": "2.3.3"
  }
 },
 "nbformat": 4,
 "nbformat_minor": 5
}