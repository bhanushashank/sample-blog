{
 "cells": [
  {
   "cell_type": "markdown",
   "id": "98380cd3",
   "metadata": {
    "papermill": {
     "duration": 0.032721,
     "end_time": "2022-10-07T01:03:56.592243",
     "exception": false,
     "start_time": "2022-10-07T01:03:56.559522",
     "status": "completed"
    },
    "tags": []
   },
   "source": [
    "# Distinguish Your Own Digits (DYOD)"
   ]
  },
  {
   "cell_type": "markdown",
   "id": "ef31240d",
   "metadata": {
    "papermill": {
     "duration": 0.028745,
     "end_time": "2022-10-07T01:03:56.650903",
     "exception": false,
     "start_time": "2022-10-07T01:03:56.622158",
     "status": "completed"
    },
    "tags": []
   },
   "source": [
    "You are going to write a classifier that distinguishes between the number 3 and number 8."
   ]
  },
  {
   "cell_type": "code",
   "execution_count": 1,
   "id": "b15c8646",
   "metadata": {
    "execution": {
     "iopub.execute_input": "2022-10-07T01:03:56.716911Z",
     "iopub.status.busy": "2022-10-07T01:03:56.716220Z",
     "iopub.status.idle": "2022-10-07T01:03:56.727321Z",
     "shell.execute_reply": "2022-10-07T01:03:56.726750Z"
    },
    "papermill": {
     "duration": 0.047959,
     "end_time": "2022-10-07T01:03:56.727446",
     "exception": false,
     "start_time": "2022-10-07T01:03:56.679487",
     "status": "completed"
    },
    "tags": []
   },
   "outputs": [],
   "source": [
    "%load_ext autoreload\n",
    "%autoreload 2"
   ]
  },
  {
   "cell_type": "code",
   "execution_count": 2,
   "id": "22ef38dc",
   "metadata": {
    "execution": {
     "iopub.execute_input": "2022-10-07T01:03:56.782897Z",
     "iopub.status.busy": "2022-10-07T01:03:56.782269Z",
     "iopub.status.idle": "2022-10-07T01:03:57.357875Z",
     "shell.execute_reply": "2022-10-07T01:03:57.356653Z"
    },
    "papermill": {
     "duration": 0.605115,
     "end_time": "2022-10-07T01:03:57.358096",
     "exception": false,
     "start_time": "2022-10-07T01:03:56.752981",
     "status": "completed"
    },
    "tags": []
   },
   "outputs": [],
   "source": [
    "%matplotlib inline\n",
    "import numpy as np\n",
    "import matplotlib.pyplot as plt\n",
    "import pandas as pd"
   ]
  },
  {
   "cell_type": "markdown",
   "id": "ba036198",
   "metadata": {
    "papermill": {
     "duration": 0.025667,
     "end_time": "2022-10-07T01:03:57.410068",
     "exception": false,
     "start_time": "2022-10-07T01:03:57.384401",
     "status": "completed"
    },
    "tags": []
   },
   "source": [
    "From the command line run `pip install mnist`. This is a library that will help you bring down the mnist dataset. If you run this from a notebook, you need to put  `!pip install mnist` in a cell by itself."
   ]
  },
  {
   "cell_type": "code",
   "execution_count": 3,
   "id": "bb6ad8a1",
   "metadata": {
    "execution": {
     "iopub.execute_input": "2022-10-07T01:03:57.470745Z",
     "iopub.status.busy": "2022-10-07T01:03:57.470055Z",
     "iopub.status.idle": "2022-10-07T01:03:59.269916Z",
     "shell.execute_reply": "2022-10-07T01:03:59.269318Z"
    },
    "papermill": {
     "duration": 1.832078,
     "end_time": "2022-10-07T01:03:59.270070",
     "exception": false,
     "start_time": "2022-10-07T01:03:57.437992",
     "status": "completed"
    },
    "tags": []
   },
   "outputs": [
    {
     "name": "stdout",
     "output_type": "stream",
     "text": [
      "Collecting mnist\r\n"
     ]
    },
    {
     "name": "stdout",
     "output_type": "stream",
     "text": [
      "  Downloading mnist-0.2.2-py2.py3-none-any.whl (3.5 kB)\r\n",
      "Requirement already satisfied: numpy in /opt/hostedtoolcache/Python/3.6.15/x64/lib/python3.6/site-packages (from mnist) (1.19.5)\r\n"
     ]
    },
    {
     "name": "stdout",
     "output_type": "stream",
     "text": [
      "Installing collected packages: mnist\r\n",
      "Successfully installed mnist-0.2.2\r\n"
     ]
    }
   ],
   "source": [
    "!pip install mnist"
   ]
  },
  {
   "cell_type": "markdown",
   "id": "69df9c9a",
   "metadata": {
    "papermill": {
     "duration": 0.026247,
     "end_time": "2022-10-07T01:03:59.325472",
     "exception": false,
     "start_time": "2022-10-07T01:03:59.299225",
     "status": "completed"
    },
    "tags": []
   },
   "source": [
    "## Preparing the Data"
   ]
  },
  {
   "cell_type": "code",
   "execution_count": 4,
   "id": "7f69d806",
   "metadata": {
    "execution": {
     "iopub.execute_input": "2022-10-07T01:03:59.386681Z",
     "iopub.status.busy": "2022-10-07T01:03:59.385696Z",
     "iopub.status.idle": "2022-10-07T01:03:59.402674Z",
     "shell.execute_reply": "2022-10-07T01:03:59.402176Z"
    },
    "papermill": {
     "duration": 0.049859,
     "end_time": "2022-10-07T01:03:59.402791",
     "exception": false,
     "start_time": "2022-10-07T01:03:59.352932",
     "status": "completed"
    },
    "tags": []
   },
   "outputs": [],
   "source": [
    "import mnist"
   ]
  },
  {
   "cell_type": "code",
   "execution_count": 5,
   "id": "a411e44f",
   "metadata": {
    "execution": {
     "iopub.execute_input": "2022-10-07T01:03:59.461285Z",
     "iopub.status.busy": "2022-10-07T01:03:59.460661Z",
     "iopub.status.idle": "2022-10-07T01:04:00.090786Z",
     "shell.execute_reply": "2022-10-07T01:04:00.089594Z"
    },
    "papermill": {
     "duration": 0.660721,
     "end_time": "2022-10-07T01:04:00.090914",
     "exception": false,
     "start_time": "2022-10-07T01:03:59.430193",
     "status": "completed"
    },
    "tags": []
   },
   "outputs": [],
   "source": [
    "train_images = mnist.train_images()\n",
    "train_labels = mnist.train_labels()"
   ]
  },
  {
   "cell_type": "code",
   "execution_count": 6,
   "id": "dceab3a5",
   "metadata": {
    "execution": {
     "iopub.execute_input": "2022-10-07T01:04:00.147055Z",
     "iopub.status.busy": "2022-10-07T01:04:00.146342Z",
     "iopub.status.idle": "2022-10-07T01:04:00.165419Z",
     "shell.execute_reply": "2022-10-07T01:04:00.164602Z"
    },
    "papermill": {
     "duration": 0.048346,
     "end_time": "2022-10-07T01:04:00.165535",
     "exception": false,
     "start_time": "2022-10-07T01:04:00.117189",
     "status": "completed"
    },
    "tags": []
   },
   "outputs": [
    {
     "data": {
      "text/plain": [
       "((60000, 28, 28), (60000,))"
      ]
     },
     "execution_count": 6,
     "metadata": {},
     "output_type": "execute_result"
    }
   ],
   "source": [
    "train_images.shape, train_labels.shape"
   ]
  },
  {
   "cell_type": "code",
   "execution_count": 7,
   "id": "f50dc2bb",
   "metadata": {
    "execution": {
     "iopub.execute_input": "2022-10-07T01:04:00.234343Z",
     "iopub.status.busy": "2022-10-07T01:04:00.233661Z",
     "iopub.status.idle": "2022-10-07T01:04:00.417311Z",
     "shell.execute_reply": "2022-10-07T01:04:00.416596Z"
    },
    "papermill": {
     "duration": 0.216237,
     "end_time": "2022-10-07T01:04:00.417450",
     "exception": false,
     "start_time": "2022-10-07T01:04:00.201213",
     "status": "completed"
    },
    "tags": []
   },
   "outputs": [],
   "source": [
    "test_images = mnist.test_images()\n",
    "test_labels = mnist.test_labels()"
   ]
  },
  {
   "cell_type": "code",
   "execution_count": 8,
   "id": "fc38cf1b",
   "metadata": {
    "execution": {
     "iopub.execute_input": "2022-10-07T01:04:00.482124Z",
     "iopub.status.busy": "2022-10-07T01:04:00.478927Z",
     "iopub.status.idle": "2022-10-07T01:04:00.495636Z",
     "shell.execute_reply": "2022-10-07T01:04:00.495100Z"
    },
    "papermill": {
     "duration": 0.052092,
     "end_time": "2022-10-07T01:04:00.495752",
     "exception": false,
     "start_time": "2022-10-07T01:04:00.443660",
     "status": "completed"
    },
    "tags": []
   },
   "outputs": [
    {
     "data": {
      "text/plain": [
       "((10000, 28, 28), (10000,))"
      ]
     },
     "execution_count": 8,
     "metadata": {},
     "output_type": "execute_result"
    }
   ],
   "source": [
    "test_images.shape, test_labels.shape"
   ]
  },
  {
   "cell_type": "code",
   "execution_count": 9,
   "id": "f9ed8fe0",
   "metadata": {
    "execution": {
     "iopub.execute_input": "2022-10-07T01:04:00.565484Z",
     "iopub.status.busy": "2022-10-07T01:04:00.564881Z",
     "iopub.status.idle": "2022-10-07T01:04:00.758527Z",
     "shell.execute_reply": "2022-10-07T01:04:00.757503Z"
    },
    "papermill": {
     "duration": 0.229662,
     "end_time": "2022-10-07T01:04:00.758683",
     "exception": false,
     "start_time": "2022-10-07T01:04:00.529021",
     "status": "completed"
    },
    "tags": []
   },
   "outputs": [
    {
     "name": "stdout",
     "output_type": "stream",
     "text": [
      "2\n"
     ]
    },
    {
     "data": {
      "text/plain": [
       "<matplotlib.image.AxesImage at 0x7f882ee6ccc0>"
      ]
     },
     "execution_count": 9,
     "metadata": {},
     "output_type": "execute_result"
    },
    {
     "data": {
      "image/png": "[encoded data removed]",
      "text/plain": [
       "<Figure size 432x288 with 1 Axes>"
      ]
     },
     "metadata": {
      "needs_background": "light"
     },
     "output_type": "display_data"
    }
   ],
   "source": [
    "image_index = 7776 # You may select anything up to 60,000\n",
    "print(train_labels[image_index]) \n",
    "plt.imshow(train_images[image_index], cmap='Greys')"
   ]
  },
  {
   "cell_type": "markdown",
   "id": "a8d2388d",
   "metadata": {
    "papermill": {
     "duration": 0.032199,
     "end_time": "2022-10-07T01:04:00.821828",
     "exception": false,
     "start_time": "2022-10-07T01:04:00.789629",
     "status": "completed"
    },
    "tags": []
   },
   "source": [
    "## Filter data to get 3 and 8 out"
   ]
  },
  {
   "cell_type": "code",
   "execution_count": 10,
   "id": "776f7fc7",
   "metadata": {
    "execution": {
     "iopub.execute_input": "2022-10-07T01:04:00.893977Z",
     "iopub.status.busy": "2022-10-07T01:04:00.893050Z",
     "iopub.status.idle": "2022-10-07T01:04:00.921001Z",
     "shell.execute_reply": "2022-10-07T01:04:00.921602Z"
    },
    "papermill": {
     "duration": 0.066557,
     "end_time": "2022-10-07T01:04:00.921752",
     "exception": false,
     "start_time": "2022-10-07T01:04:00.855195",
     "status": "completed"
    },
    "tags": []
   },
   "outputs": [],
   "source": [
    "train_filter = np.where((train_labels == 3 ) | (train_labels == 8))\n",
    "test_filter = np.where((test_labels == 3) | (test_labels == 8))\n",
    "X_train, y_train = train_images[train_filter], train_labels[train_filter]\n",
    "X_test, y_test = test_images[test_filter], test_labels[test_filter]"
   ]
  },
  {
   "cell_type": "markdown",
   "id": "948f0b7e",
   "metadata": {
    "papermill": {
     "duration": 0.03187,
     "end_time": "2022-10-07T01:04:00.985389",
     "exception": false,
     "start_time": "2022-10-07T01:04:00.953519",
     "status": "completed"
    },
    "tags": []
   },
   "source": [
    "We normalize the pizel values in the 0 to 1 range"
   ]
  },
  {
   "cell_type": "code",
   "execution_count": 11,
   "id": "ee4c2166",
   "metadata": {
    "execution": {
     "iopub.execute_input": "2022-10-07T01:04:01.064653Z",
     "iopub.status.busy": "2022-10-07T01:04:01.056964Z",
     "iopub.status.idle": "2022-10-07T01:04:01.122952Z",
     "shell.execute_reply": "2022-10-07T01:04:01.122324Z"
    },
    "papermill": {
     "duration": 0.108717,
     "end_time": "2022-10-07T01:04:01.123099",
     "exception": false,
     "start_time": "2022-10-07T01:04:01.014382",
     "status": "completed"
    },
    "tags": []
   },
   "outputs": [],
   "source": [
    "X_train = X_train/255.\n",
    "X_test = X_test/255."
   ]
  },
  {
   "cell_type": "markdown",
   "id": "ddcf4fab",
   "metadata": {
    "papermill": {
     "duration": 0.033569,
     "end_time": "2022-10-07T01:04:01.202710",
     "exception": false,
     "start_time": "2022-10-07T01:04:01.169141",
     "status": "completed"
    },
    "tags": []
   },
   "source": [
    "And setup the labels as 1 (when the digit is 3) and 0 (when the digit is 8)"
   ]
  },
  {
   "cell_type": "code",
   "execution_count": 12,
   "id": "7dc908f2",
   "metadata": {
    "execution": {
     "iopub.execute_input": "2022-10-07T01:04:01.272863Z",
     "iopub.status.busy": "2022-10-07T01:04:01.272213Z",
     "iopub.status.idle": "2022-10-07T01:04:01.286760Z",
     "shell.execute_reply": "2022-10-07T01:04:01.287383Z"
    },
    "papermill": {
     "duration": 0.05038,
     "end_time": "2022-10-07T01:04:01.287508",
     "exception": false,
     "start_time": "2022-10-07T01:04:01.237128",
     "status": "completed"
    },
    "tags": []
   },
   "outputs": [],
   "source": [
    "y_train = 1*(y_train==3)\n",
    "y_test = 1*(y_test==3)"
   ]
  },
  {
   "cell_type": "code",
   "execution_count": 13,
   "id": "01e4e969",
   "metadata": {
    "execution": {
     "iopub.execute_input": "2022-10-07T01:04:01.355680Z",
     "iopub.status.busy": "2022-10-07T01:04:01.354985Z",
     "iopub.status.idle": "2022-10-07T01:04:01.371389Z",
     "shell.execute_reply": "2022-10-07T01:04:01.371967Z"
    },
    "papermill": {
     "duration": 0.055629,
     "end_time": "2022-10-07T01:04:01.372127",
     "exception": false,
     "start_time": "2022-10-07T01:04:01.316498",
     "status": "completed"
    },
    "tags": []
   },
   "outputs": [
    {
     "data": {
      "text/plain": [
       "((11982, 28, 28), (1984, 28, 28))"
      ]
     },
     "execution_count": 13,
     "metadata": {},
     "output_type": "execute_result"
    }
   ],
   "source": [
    "X_train.shape, X_test.shape"
   ]
  },
  {
   "cell_type": "markdown",
   "id": "5ccf3f85",
   "metadata": {
    "papermill": {
     "duration": 0.030012,
     "end_time": "2022-10-07T01:04:01.430862",
     "exception": false,
     "start_time": "2022-10-07T01:04:01.400850",
     "status": "completed"
    },
    "tags": []
   },
   "source": [
    "We reshape the data to flatten the image pixels into a set of features or co-variates:"
   ]
  },
  {
   "cell_type": "code",
   "execution_count": 14,
   "id": "5286a4a3",
   "metadata": {
    "execution": {
     "iopub.execute_input": "2022-10-07T01:04:01.493970Z",
     "iopub.status.busy": "2022-10-07T01:04:01.493222Z",
     "iopub.status.idle": "2022-10-07T01:04:01.509444Z",
     "shell.execute_reply": "2022-10-07T01:04:01.510178Z"
    },
    "papermill": {
     "duration": 0.051259,
     "end_time": "2022-10-07T01:04:01.510307",
     "exception": false,
     "start_time": "2022-10-07T01:04:01.459048",
     "status": "completed"
    },
    "tags": []
   },
   "outputs": [
    {
     "data": {
      "text/plain": [
       "((11982, 784), (1984, 784))"
      ]
     },
     "execution_count": 14,
     "metadata": {},
     "output_type": "execute_result"
    }
   ],
   "source": [
    "X_train = X_train.reshape(X_train.shape[0], -1)\n",
    "X_test = X_test.reshape(X_test.shape[0], -1)\n",
    "X_train.shape, X_test.shape"
   ]
  },
  {
   "cell_type": "code",
   "execution_count": 15,
   "id": "73c5f88a",
   "metadata": {
    "execution": {
     "iopub.execute_input": "2022-10-07T01:04:01.577131Z",
     "iopub.status.busy": "2022-10-07T01:04:01.576392Z",
     "iopub.status.idle": "2022-10-07T01:04:01.597267Z",
     "shell.execute_reply": "2022-10-07T01:04:01.597852Z"
    },
    "papermill": {
     "duration": 0.056356,
     "end_time": "2022-10-07T01:04:01.598003",
     "exception": false,
     "start_time": "2022-10-07T01:04:01.541647",
     "status": "completed"
    },
    "tags": []
   },
   "outputs": [],
   "source": [
    "#Impoting functions from 'Kudzu'\n",
    "from kudzu.model import Model\n",
    "from kudzu.train import Learner\n",
    "from kudzu.optim import GD\n",
    "from kudzu.data import Data, Sampler,Dataloader\n",
    "\n",
    "from kudzu.callbacks import AccCallback\n",
    "from kudzu.callbacks import ClfCallback\n",
    "\n",
    "from kudzu.loss import MSE\n",
    "\n",
    "from kudzu.layer import Sigmoid,Relu\n",
    "from kudzu.layer import Affine"
   ]
  },
  {
   "cell_type": "markdown",
   "id": "bc01172a",
   "metadata": {
    "papermill": {
     "duration": 0.033737,
     "end_time": "2022-10-07T01:04:01.667426",
     "exception": false,
     "start_time": "2022-10-07T01:04:01.633689",
     "status": "completed"
    },
    "tags": []
   },
   "source": [
    "### Let us create a `Config` class, to store important parameters. \n",
    "This class essentially plays the role of a dictionary."
   ]
  },
  {
   "cell_type": "code",
   "execution_count": 16,
   "id": "978281aa",
   "metadata": {
    "execution": {
     "iopub.execute_input": "2022-10-07T01:04:01.733382Z",
     "iopub.status.busy": "2022-10-07T01:04:01.732560Z",
     "iopub.status.idle": "2022-10-07T01:04:01.748153Z",
     "shell.execute_reply": "2022-10-07T01:04:01.749395Z"
    },
    "papermill": {
     "duration": 0.054449,
     "end_time": "2022-10-07T01:04:01.749573",
     "exception": false,
     "start_time": "2022-10-07T01:04:01.695124",
     "status": "completed"
    },
    "tags": []
   },
   "outputs": [],
   "source": [
    "class Config:\n",
    "    pass\n",
    "config = Config()\n",
    "config.lr = 0.001\n",
    "config.num_epochs = 250\n",
    "config.bs = 50"
   ]
  },
  {
   "cell_type": "markdown",
   "id": "1385fa59",
   "metadata": {
    "papermill": {
     "duration": 0.03261,
     "end_time": "2022-10-07T01:04:01.816300",
     "exception": false,
     "start_time": "2022-10-07T01:04:01.783690",
     "status": "completed"
    },
    "tags": []
   },
   "source": [
    "### Running Models with the Training data\n",
    "Details about the network layers:\n",
    "- A first affine layer has 784 inputs and does 100 affine transforms. These are followed by a Relu\n",
    "- A second affine layer has 100 inputs from the 100 activations of the past layer, and does 100 affine transforms. These are followed by a Relu\n",
    "- A third affine layer has 100 activations and does 2 affine transformations to create an embedding for visualization. There is no non-linearity here.\n",
    "- A final \"logistic regression\" which has an affine transform from 2 inputs to 1 output, which is squeezed through a sigmoid.\n"
   ]
  },
  {
   "cell_type": "code",
   "execution_count": 17,
   "id": "2b9c66db",
   "metadata": {
    "execution": {
     "iopub.execute_input": "2022-10-07T01:04:01.890215Z",
     "iopub.status.busy": "2022-10-07T01:04:01.889436Z",
     "iopub.status.idle": "2022-10-07T01:04:01.905096Z",
     "shell.execute_reply": "2022-10-07T01:04:01.904536Z"
    },
    "papermill": {
     "duration": 0.053672,
     "end_time": "2022-10-07T01:04:01.905233",
     "exception": false,
     "start_time": "2022-10-07T01:04:01.851561",
     "status": "completed"
    },
    "tags": []
   },
   "outputs": [],
   "source": [
    "data = Data(X_train, y_train.reshape(-1,1))\n",
    "sampler = Sampler(data, config.bs, shuffle=True)\n",
    "\n",
    "dl = Dataloader(data, sampler)\n",
    "\n",
    "opt = GD(config.lr)\n",
    "loss = MSE()"
   ]
  },
  {
   "cell_type": "code",
   "execution_count": 18,
   "id": "b275e4c2",
   "metadata": {
    "execution": {
     "iopub.execute_input": "2022-10-07T01:04:01.971015Z",
     "iopub.status.busy": "2022-10-07T01:04:01.970411Z",
     "iopub.status.idle": "2022-10-07T01:04:01.982535Z",
     "shell.execute_reply": "2022-10-07T01:04:01.982031Z"
    },
    "papermill": {
     "duration": 0.046135,
     "end_time": "2022-10-07T01:04:01.982644",
     "exception": false,
     "start_time": "2022-10-07T01:04:01.936509",
     "status": "completed"
    },
    "tags": []
   },
   "outputs": [],
   "source": [
    "training_data_x = X_train\n",
    "testing_data_x = X_test\n",
    "training_data_y = y_train.reshape(-1,1)\n",
    "testing_data_y = y_test.reshape(-1,1)"
   ]
  },
  {
   "cell_type": "code",
   "execution_count": 19,
   "id": "76951160",
   "metadata": {
    "execution": {
     "iopub.execute_input": "2022-10-07T01:04:02.048217Z",
     "iopub.status.busy": "2022-10-07T01:04:02.047527Z",
     "iopub.status.idle": "2022-10-07T01:04:02.066674Z",
     "shell.execute_reply": "2022-10-07T01:04:02.067154Z"
    },
    "papermill": {
     "duration": 0.056522,
     "end_time": "2022-10-07T01:04:02.067306",
     "exception": false,
     "start_time": "2022-10-07T01:04:02.010784",
     "status": "completed"
    },
    "tags": []
   },
   "outputs": [
    {
     "name": "stdout",
     "output_type": "stream",
     "text": [
      "xavier\n",
      "xavier\n",
      "xavier\n",
      "xavier\n",
      "xavier\n"
     ]
    }
   ],
   "source": [
    "layers = [Affine(\"first\", 784, 100), Relu(\"first\"), Affine(\"second\", 100, 100), Relu(\"second\"), Affine(\"third\", 100, 2), Affine(\"last\", 2, 1), Sigmoid(\"last\")]\n",
    "model_nn = Model(layers)\n",
    "model_lr = Model([Affine(\"logits\", 784, 1), Sigmoid(\"sigmoid\")])"
   ]
  },
  {
   "cell_type": "code",
   "execution_count": 20,
   "id": "6eede77a",
   "metadata": {
    "execution": {
     "iopub.execute_input": "2022-10-07T01:04:02.131989Z",
     "iopub.status.busy": "2022-10-07T01:04:02.131352Z",
     "iopub.status.idle": "2022-10-07T01:04:02.145037Z",
     "shell.execute_reply": "2022-10-07T01:04:02.145858Z"
    },
    "papermill": {
     "duration": 0.048739,
     "end_time": "2022-10-07T01:04:02.146007",
     "exception": false,
     "start_time": "2022-10-07T01:04:02.097268",
     "status": "completed"
    },
    "tags": []
   },
   "outputs": [],
   "source": [
    "nn_learner = Learner(loss, model_nn, opt, config.num_epochs)\n",
    "acc_nn = ClfCallback(nn_learner, config.bs, training_data_x , testing_data_x, training_data_y, testing_data_y)\n",
    "nn_learner.set_callbacks([acc_nn])"
   ]
  },
  {
   "cell_type": "code",
   "execution_count": 21,
   "id": "877b6cc7",
   "metadata": {
    "execution": {
     "iopub.execute_input": "2022-10-07T01:04:02.210182Z",
     "iopub.status.busy": "2022-10-07T01:04:02.209299Z",
     "iopub.status.idle": "2022-10-07T01:04:02.221726Z",
     "shell.execute_reply": "2022-10-07T01:04:02.221189Z"
    },
    "papermill": {
     "duration": 0.044124,
     "end_time": "2022-10-07T01:04:02.221870",
     "exception": false,
     "start_time": "2022-10-07T01:04:02.177746",
     "status": "completed"
    },
    "tags": []
   },
   "outputs": [],
   "source": [
    "lr_learner = Learner(loss, model_lr, opt, config.num_epochs)\n",
    "acc_lr = ClfCallback(lr_learner, config.bs, training_data_x , testing_data_x, training_data_y, testing_data_y)\n",
    "lr_learner.set_callbacks([acc_lr])"
   ]
  },
  {
   "cell_type": "code",
   "execution_count": 22,
   "id": "d9b133c3",
   "metadata": {
    "execution": {
     "iopub.execute_input": "2022-10-07T01:04:02.286824Z",
     "iopub.status.busy": "2022-10-07T01:04:02.285832Z",
     "iopub.status.idle": "2022-10-07T01:06:23.546204Z",
     "shell.execute_reply": "2022-10-07T01:06:23.546824Z"
    },
    "papermill": {
     "duration": 141.294339,
     "end_time": "2022-10-07T01:06:23.546973",
     "exception": false,
     "start_time": "2022-10-07T01:04:02.252634",
     "status": "completed"
    },
    "tags": []
   },
   "outputs": [
    {
     "name": "stdout",
     "output_type": "stream",
     "text": [
      "Epoch 0, Loss 0.2485\n",
      "Training Accuracy: 0.6198, Testing Accuracy: 0.5922\n",
      "\n"
     ]
    },
    {
     "name": "stdout",
     "output_type": "stream",
     "text": [
      "Epoch 10, Loss 0.0941\n",
      "Training Accuracy: 0.9201, Testing Accuracy: 0.9284\n",
      "\n"
     ]
    },
    {
     "name": "stdout",
     "output_type": "stream",
     "text": [
      "Epoch 20, Loss 0.0583\n",
      "Training Accuracy: 0.9391, Testing Accuracy: 0.9486\n",
      "\n"
     ]
    },
    {
     "name": "stdout",
     "output_type": "stream",
     "text": [
      "Epoch 30, Loss 0.0459\n",
      "Training Accuracy: 0.9490, Testing Accuracy: 0.9587\n",
      "\n"
     ]
    },
    {
     "name": "stdout",
     "output_type": "stream",
     "text": [
      "Epoch 40, Loss 0.0397\n",
      "Training Accuracy: 0.9544, Testing Accuracy: 0.9622\n",
      "\n"
     ]
    },
    {
     "name": "stdout",
     "output_type": "stream",
     "text": [
      "Epoch 50, Loss 0.0359\n",
      "Training Accuracy: 0.9586, Testing Accuracy: 0.9652\n",
      "\n"
     ]
    },
    {
     "name": "stdout",
     "output_type": "stream",
     "text": [
      "Epoch 60, Loss 0.0333\n",
      "Training Accuracy: 0.9613, Testing Accuracy: 0.9672\n",
      "\n"
     ]
    },
    {
     "name": "stdout",
     "output_type": "stream",
     "text": [
      "Epoch 70, Loss 0.0314\n",
      "Training Accuracy: 0.9634, Testing Accuracy: 0.9667\n",
      "\n"
     ]
    },
    {
     "name": "stdout",
     "output_type": "stream",
     "text": [
      "Epoch 80, Loss 0.0299\n",
      "Training Accuracy: 0.9651, Testing Accuracy: 0.9677\n",
      "\n"
     ]
    },
    {
     "name": "stdout",
     "output_type": "stream",
     "text": [
      "Epoch 90, Loss 0.0286\n",
      "Training Accuracy: 0.9667, Testing Accuracy: 0.9677\n",
      "\n"
     ]
    },
    {
     "name": "stdout",
     "output_type": "stream",
     "text": [
      "Epoch 100, Loss 0.0276\n",
      "Training Accuracy: 0.9676, Testing Accuracy: 0.9688\n",
      "\n"
     ]
    },
    {
     "name": "stdout",
     "output_type": "stream",
     "text": [
      "Epoch 110, Loss 0.0267\n",
      "Training Accuracy: 0.9688, Testing Accuracy: 0.9688\n",
      "\n"
     ]
    },
    {
     "name": "stdout",
     "output_type": "stream",
     "text": [
      "Epoch 120, Loss 0.0259\n",
      "Training Accuracy: 0.9695, Testing Accuracy: 0.9688\n",
      "\n"
     ]
    },
    {
     "name": "stdout",
     "output_type": "stream",
     "text": [
      "Epoch 130, Loss 0.0251\n",
      "Training Accuracy: 0.9703, Testing Accuracy: 0.9693\n",
      "\n"
     ]
    },
    {
     "name": "stdout",
     "output_type": "stream",
     "text": [
      "Epoch 140, Loss 0.0245\n",
      "Training Accuracy: 0.9710, Testing Accuracy: 0.9698\n",
      "\n"
     ]
    },
    {
     "name": "stdout",
     "output_type": "stream",
     "text": [
      "Epoch 150, Loss 0.0239\n",
      "Training Accuracy: 0.9718, Testing Accuracy: 0.9688\n",
      "\n"
     ]
    },
    {
     "name": "stdout",
     "output_type": "stream",
     "text": [
      "Epoch 160, Loss 0.0233\n",
      "Training Accuracy: 0.9728, Testing Accuracy: 0.9703\n",
      "\n"
     ]
    },
    {
     "name": "stdout",
     "output_type": "stream",
     "text": [
      "Epoch 170, Loss 0.0227\n",
      "Training Accuracy: 0.9730, Testing Accuracy: 0.9713\n",
      "\n"
     ]
    },
    {
     "name": "stdout",
     "output_type": "stream",
     "text": [
      "Epoch 180, Loss 0.0222\n",
      "Training Accuracy: 0.9737, Testing Accuracy: 0.9713\n",
      "\n"
     ]
    },
    {
     "name": "stdout",
     "output_type": "stream",
     "text": [
      "Epoch 190, Loss 0.0218\n",
      "Training Accuracy: 0.9740, Testing Accuracy: 0.9718\n",
      "\n"
     ]
    },
    {
     "name": "stdout",
     "output_type": "stream",
     "text": [
      "Epoch 200, Loss 0.0213\n",
      "Training Accuracy: 0.9750, Testing Accuracy: 0.9713\n",
      "\n"
     ]
    },
    {
     "name": "stdout",
     "output_type": "stream",
     "text": [
      "Epoch 210, Loss 0.0209\n",
      "Training Accuracy: 0.9752, Testing Accuracy: 0.9723\n",
      "\n"
     ]
    },
    {
     "name": "stdout",
     "output_type": "stream",
     "text": [
      "Epoch 220, Loss 0.0204\n",
      "Training Accuracy: 0.9760, Testing Accuracy: 0.9723\n",
      "\n"
     ]
    },
    {
     "name": "stdout",
     "output_type": "stream",
     "text": [
      "Epoch 230, Loss 0.02\n",
      "Training Accuracy: 0.9765, Testing Accuracy: 0.9733\n",
      "\n"
     ]
    },
    {
     "name": "stdout",
     "output_type": "stream",
     "text": [
      "Epoch 240, Loss 0.0197\n",
      "Training Accuracy: 0.9770, Testing Accuracy: 0.9738\n",
      "\n"
     ]
    },
    {
     "data": {
      "text/plain": [
       "0.008534924499823526"
      ]
     },
     "execution_count": 22,
     "metadata": {},
     "output_type": "execute_result"
    }
   ],
   "source": [
    "nn_learner.train_loop(dl)"
   ]
  },
  {
   "cell_type": "code",
   "execution_count": 23,
   "id": "e0163366",
   "metadata": {
    "execution": {
     "iopub.execute_input": "2022-10-07T01:06:23.635558Z",
     "iopub.status.busy": "2022-10-07T01:06:23.634954Z",
     "iopub.status.idle": "2022-10-07T01:06:44.390646Z",
     "shell.execute_reply": "2022-10-07T01:06:44.391750Z"
    },
    "papermill": {
     "duration": 20.805245,
     "end_time": "2022-10-07T01:06:44.391932",
     "exception": false,
     "start_time": "2022-10-07T01:06:23.586687",
     "status": "completed"
    },
    "tags": []
   },
   "outputs": [
    {
     "name": "stdout",
     "output_type": "stream",
     "text": [
      "Epoch 0, Loss 0.258\n",
      "Training Accuracy: 0.6183, Testing Accuracy: 0.6280\n",
      "\n"
     ]
    },
    {
     "name": "stdout",
     "output_type": "stream",
     "text": [
      "Epoch 10, Loss 0.1039\n",
      "Training Accuracy: 0.9080, Testing Accuracy: 0.9199\n",
      "\n"
     ]
    },
    {
     "name": "stdout",
     "output_type": "stream",
     "text": [
      "Epoch 20, Loss 0.0797\n",
      "Training Accuracy: 0.9266, Testing Accuracy: 0.9385\n",
      "\n"
     ]
    },
    {
     "name": "stdout",
     "output_type": "stream",
     "text": [
      "Epoch 30, Loss 0.0687\n",
      "Training Accuracy: 0.9345, Testing Accuracy: 0.9461\n",
      "\n"
     ]
    },
    {
     "name": "stdout",
     "output_type": "stream",
     "text": [
      "Epoch 40, Loss 0.0621\n",
      "Training Accuracy: 0.9397, Testing Accuracy: 0.9491\n",
      "\n"
     ]
    },
    {
     "name": "stdout",
     "output_type": "stream",
     "text": [
      "Epoch 50, Loss 0.0575\n",
      "Training Accuracy: 0.9435, Testing Accuracy: 0.9536\n",
      "\n"
     ]
    },
    {
     "name": "stdout",
     "output_type": "stream",
     "text": [
      "Epoch 60, Loss 0.0542\n",
      "Training Accuracy: 0.9459, Testing Accuracy: 0.9561\n",
      "\n"
     ]
    },
    {
     "name": "stdout",
     "output_type": "stream",
     "text": [
      "Epoch 70, Loss 0.0516\n",
      "Training Accuracy: 0.9474, Testing Accuracy: 0.9561\n",
      "\n"
     ]
    },
    {
     "name": "stdout",
     "output_type": "stream",
     "text": [
      "Epoch 80, Loss 0.0495\n",
      "Training Accuracy: 0.9493, Testing Accuracy: 0.9587\n",
      "\n"
     ]
    },
    {
     "name": "stdout",
     "output_type": "stream",
     "text": [
      "Epoch 90, Loss 0.0478\n",
      "Training Accuracy: 0.9511, Testing Accuracy: 0.9597\n",
      "\n"
     ]
    },
    {
     "name": "stdout",
     "output_type": "stream",
     "text": [
      "Epoch 100, Loss 0.0464\n",
      "Training Accuracy: 0.9523, Testing Accuracy: 0.9597\n",
      "\n"
     ]
    },
    {
     "name": "stdout",
     "output_type": "stream",
     "text": [
      "Epoch 110, Loss 0.0451\n",
      "Training Accuracy: 0.9531, Testing Accuracy: 0.9597\n",
      "\n"
     ]
    },
    {
     "name": "stdout",
     "output_type": "stream",
     "text": [
      "Epoch 120, Loss 0.044\n",
      "Training Accuracy: 0.9543, Testing Accuracy: 0.9617\n",
      "\n"
     ]
    },
    {
     "name": "stdout",
     "output_type": "stream",
     "text": [
      "Epoch 130, Loss 0.0431\n",
      "Training Accuracy: 0.9557, Testing Accuracy: 0.9632\n",
      "\n"
     ]
    },
    {
     "name": "stdout",
     "output_type": "stream",
     "text": [
      "Epoch 140, Loss 0.0423\n",
      "Training Accuracy: 0.9565, Testing Accuracy: 0.9642\n",
      "\n"
     ]
    },
    {
     "name": "stdout",
     "output_type": "stream",
     "text": [
      "Epoch 150, Loss 0.0415\n",
      "Training Accuracy: 0.9574, Testing Accuracy: 0.9642\n",
      "\n"
     ]
    },
    {
     "name": "stdout",
     "output_type": "stream",
     "text": [
      "Epoch 160, Loss 0.0408\n",
      "Training Accuracy: 0.9578, Testing Accuracy: 0.9652\n",
      "\n"
     ]
    },
    {
     "name": "stdout",
     "output_type": "stream",
     "text": [
      "Epoch 170, Loss 0.0402\n",
      "Training Accuracy: 0.9582, Testing Accuracy: 0.9652\n",
      "\n"
     ]
    },
    {
     "name": "stdout",
     "output_type": "stream",
     "text": [
      "Epoch 180, Loss 0.0396\n",
      "Training Accuracy: 0.9586, Testing Accuracy: 0.9657\n",
      "\n"
     ]
    },
    {
     "name": "stdout",
     "output_type": "stream",
     "text": [
      "Epoch 190, Loss 0.0391\n",
      "Training Accuracy: 0.9589, Testing Accuracy: 0.9657\n",
      "\n"
     ]
    },
    {
     "name": "stdout",
     "output_type": "stream",
     "text": [
      "Epoch 200, Loss 0.0386\n",
      "Training Accuracy: 0.9593, Testing Accuracy: 0.9657\n",
      "\n"
     ]
    },
    {
     "name": "stdout",
     "output_type": "stream",
     "text": [
      "Epoch 210, Loss 0.0382\n",
      "Training Accuracy: 0.9594, Testing Accuracy: 0.9662\n",
      "\n"
     ]
    },
    {
     "name": "stdout",
     "output_type": "stream",
     "text": [
      "Epoch 220, Loss 0.0378\n",
      "Training Accuracy: 0.9597, Testing Accuracy: 0.9667\n",
      "\n"
     ]
    },
    {
     "name": "stdout",
     "output_type": "stream",
     "text": [
      "Epoch 230, Loss 0.0374\n",
      "Training Accuracy: 0.9601, Testing Accuracy: 0.9677\n",
      "\n"
     ]
    },
    {
     "name": "stdout",
     "output_type": "stream",
     "text": [
      "Epoch 240, Loss 0.037\n",
      "Training Accuracy: 0.9605, Testing Accuracy: 0.9672\n",
      "\n"
     ]
    },
    {
     "data": {
      "text/plain": [
       "0.03526862475344521"
      ]
     },
     "execution_count": 23,
     "metadata": {},
     "output_type": "execute_result"
    }
   ],
   "source": [
    "lr_learner.train_loop(dl)"
   ]
  },
  {
   "cell_type": "code",
   "execution_count": 24,
   "id": "ca410940",
   "metadata": {
    "execution": {
     "iopub.execute_input": "2022-10-07T01:06:44.504393Z",
     "iopub.status.busy": "2022-10-07T01:06:44.503474Z",
     "iopub.status.idle": "2022-10-07T01:06:44.797488Z",
     "shell.execute_reply": "2022-10-07T01:06:44.798028Z"
    },
    "papermill": {
     "duration": 0.356741,
     "end_time": "2022-10-07T01:06:44.798170",
     "exception": false,
     "start_time": "2022-10-07T01:06:44.441429",
     "status": "completed"
    },
    "tags": []
   },
   "outputs": [
    {
     "data": {
      "text/plain": [
       "<matplotlib.legend.Legend at 0x7f882ea3ae10>"
      ]
     },
     "execution_count": 24,
     "metadata": {},
     "output_type": "execute_result"
    },
    {
     "data": {
      "image/png": "[encoded data removed]",
      "text/plain": [
       "<Figure size 1080x720 with 1 Axes>"
      ]
     },
     "metadata": {
      "needs_background": "light"
     },
     "output_type": "display_data"
    }
   ],
   "source": [
    "#comparing the results of NN and LR\n",
    "plt.figure(figsize=(15,10))\n",
    "\n",
    "# Neural Network plots\n",
    "plt.plot(acc_nn.accuracies, 'r-', label = \"Training Accuracies - NN\")\n",
    "plt.plot(acc_nn.test_accuracies, 'g-', label = \"Testing Accuracies - NN\")\n",
    "\n",
    "# Logistic Regression plots\n",
    "plt.plot(acc_lr.accuracies, 'k-', label = \"Training Accuracies - LR\")\n",
    "plt.plot(acc_lr.test_accuracies, 'b-', label = \"Testing Accuracies - LR\")\n",
    "plt.legend()"
   ]
  },
  {
   "cell_type": "markdown",
   "id": "80dfb35c",
   "metadata": {
    "papermill": {
     "duration": 0.043233,
     "end_time": "2022-10-07T01:06:44.889836",
     "exception": false,
     "start_time": "2022-10-07T01:06:44.846603",
     "status": "completed"
    },
    "tags": []
   },
   "source": [
    "#### Plotting the outputs of this layer of the NN.\n"
   ]
  },
  {
   "cell_type": "code",
   "execution_count": 25,
   "id": "45eb2ff5",
   "metadata": {
    "execution": {
     "iopub.execute_input": "2022-10-07T01:06:44.992446Z",
     "iopub.status.busy": "2022-10-07T01:06:44.991230Z",
     "iopub.status.idle": "2022-10-07T01:06:45.020359Z",
     "shell.execute_reply": "2022-10-07T01:06:45.020859Z"
    },
    "papermill": {
     "duration": 0.083755,
     "end_time": "2022-10-07T01:06:45.021007",
     "exception": false,
     "start_time": "2022-10-07T01:06:44.937252",
     "status": "completed"
    },
    "tags": []
   },
   "outputs": [],
   "source": [
    "new_model = Model(layers[:-2])\n",
    "testing_plot = new_model(testing_data_x)"
   ]
  },
  {
   "cell_type": "code",
   "execution_count": 26,
   "id": "4c0a5485",
   "metadata": {
    "execution": {
     "iopub.execute_input": "2022-10-07T01:06:45.130677Z",
     "iopub.status.busy": "2022-10-07T01:06:45.129616Z",
     "iopub.status.idle": "2022-10-07T01:06:45.401049Z",
     "shell.execute_reply": "2022-10-07T01:06:45.401577Z"
    },
    "papermill": {
     "duration": 0.331471,
     "end_time": "2022-10-07T01:06:45.401723",
     "exception": false,
     "start_time": "2022-10-07T01:06:45.070252",
     "status": "completed"
    },
    "tags": []
   },
   "outputs": [
    {
     "data": {
      "text/plain": [
       "Text(0.5, 1.0, 'Outputs')"
      ]
     },
     "execution_count": 26,
     "metadata": {},
     "output_type": "execute_result"
    },
    {
     "data": {
      "image/png": "[encoded data removed]",
      "text/plain": [
       "<Figure size 576x504 with 1 Axes>"
      ]
     },
     "metadata": {
      "needs_background": "light"
     },
     "output_type": "display_data"
    }
   ],
   "source": [
    "# Plotting the scatter plot of points and color coding by class\n",
    "plt.figure(figsize=(8,7))\n",
    "plt.scatter(testing_plot[:,0], testing_plot[:,1], alpha = 0.1, c = y_test.ravel());\n",
    "plt.title('Outputs')"
   ]
  },
  {
   "cell_type": "markdown",
   "id": "a74fcf8f",
   "metadata": {
    "papermill": {
     "duration": 0.04904,
     "end_time": "2022-10-07T01:06:45.506521",
     "exception": false,
     "start_time": "2022-10-07T01:06:45.457481",
     "status": "completed"
    },
    "tags": []
   },
   "source": [
    "Probability contours"
   ]
  },
  {
   "cell_type": "code",
   "execution_count": 27,
   "id": "d0afc8e3",
   "metadata": {
    "execution": {
     "iopub.execute_input": "2022-10-07T01:06:45.608864Z",
     "iopub.status.busy": "2022-10-07T01:06:45.607545Z",
     "iopub.status.idle": "2022-10-07T01:06:45.621392Z",
     "shell.execute_reply": "2022-10-07T01:06:45.620831Z"
    },
    "papermill": {
     "duration": 0.068868,
     "end_time": "2022-10-07T01:06:45.621510",
     "exception": false,
     "start_time": "2022-10-07T01:06:45.552642",
     "status": "completed"
    },
    "tags": []
   },
   "outputs": [],
   "source": [
    "model_prob = Model(layers[-2:]) "
   ]
  },
  {
   "cell_type": "code",
   "execution_count": 28,
   "id": "9b96e238",
   "metadata": {
    "execution": {
     "iopub.execute_input": "2022-10-07T01:06:45.749124Z",
     "iopub.status.busy": "2022-10-07T01:06:45.748500Z",
     "iopub.status.idle": "2022-10-07T01:06:45.765064Z",
     "shell.execute_reply": "2022-10-07T01:06:45.764508Z"
    },
    "papermill": {
     "duration": 0.073105,
     "end_time": "2022-10-07T01:06:45.765198",
     "exception": false,
     "start_time": "2022-10-07T01:06:45.692093",
     "status": "completed"
    },
    "tags": []
   },
   "outputs": [],
   "source": [
    "#creating the x and y ranges according to the above generated plot.\n",
    "x_range = np.linspace(-4, 1, 100) \n",
    "y_range = np.linspace(-6, 6, 100) \n",
    "x_grid, y_grid = np.meshgrid(x_range, y_range) # x_grid and y_grig are of size 100 X 100\n",
    "\n",
    "# converting x_grid and y_grid to continuous arrays\n",
    "x_gridflat = np.ravel(x_grid)\n",
    "y_gridflat = np.ravel(y_grid)\n",
    "\n",
    "# The last layer of the current model takes two columns as input. Hence transpose of np.vstack() is required.\n",
    "X = np.vstack((x_gridflat, y_gridflat)).T\n",
    "\n",
    "prob_contour = model_prob(X).reshape(100,100) "
   ]
  },
  {
   "cell_type": "code",
   "execution_count": 29,
   "id": "da72499a",
   "metadata": {
    "execution": {
     "iopub.execute_input": "2022-10-07T01:06:45.876762Z",
     "iopub.status.busy": "2022-10-07T01:06:45.876119Z",
     "iopub.status.idle": "2022-10-07T01:06:46.210117Z",
     "shell.execute_reply": "2022-10-07T01:06:46.209525Z"
    },
    "papermill": {
     "duration": 0.392933,
     "end_time": "2022-10-07T01:06:46.210249",
     "exception": false,
     "start_time": "2022-10-07T01:06:45.817316",
     "status": "completed"
    },
    "tags": []
   },
   "outputs": [
    {
     "data": {
      "image/png": "[encoded data removed]",
      "text/plain": [
       "<Figure size 720x648 with 1 Axes>"
      ]
     },
     "metadata": {
      "needs_background": "light"
     },
     "output_type": "display_data"
    }
   ],
   "source": [
    "plt.figure(figsize=(10,9))\n",
    "plt.scatter(testing_plot[:,0], testing_plot[:,1], alpha = 0.1, c = y_test.ravel())\n",
    "contours = plt.contour(x_grid,y_grid,prob_contour)\n",
    "plt.title('Probability Contours')\n",
    "plt.clabel(contours, inline = True );"
   ]
  },
  {
   "cell_type": "code",
   "execution_count": null,
   "id": "e81b4ac7",
   "metadata": {
    "papermill": {
     "duration": 0.055817,
     "end_time": "2022-10-07T01:06:46.328956",
     "exception": false,
     "start_time": "2022-10-07T01:06:46.273139",
     "status": "completed"
    },
    "tags": []
   },
   "outputs": [],
   "source": []
  }
 ],
 "metadata": {
  "kernelspec": {
   "display_name": "Python 3",
   "language": "python",
   "name": "python3"
  },
  "language_info": {
   "codemirror_mode": {
    "name": "ipython",
    "version": 3
   },
   "file_extension": ".py",
   "mimetype": "text/x-python",
   "name": "python",
   "nbconvert_exporter": "python",
   "pygments_lexer": "ipython3",
   "version": "3.6.15"
  },
  "papermill": {
   "default_parameters": {},
   "duration": 171.521805,
   "end_time": "2022-10-07T01:06:46.799411",
   "environment_variables": {},
   "exception": null,
   "input_path": "2020-08-11-part2.ipynb",
   "output_path": "2020-08-11-part2.ipynb",
   "parameters": {},
   "start_time": "2022-10-07T01:03:55.277606",
   "version": "2.3.3"
  }
 },
 "nbformat": 4,
 "nbformat_minor": 5
}