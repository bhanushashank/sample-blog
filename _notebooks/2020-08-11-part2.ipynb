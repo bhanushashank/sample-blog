{
 "cells": [
  {
   "cell_type": "markdown",
   "id": "98380cd3",
   "metadata": {
    "papermill": {
     "duration": 0.038592,
     "end_time": "2022-07-11T00:40:42.605251",
     "exception": false,
     "start_time": "2022-07-11T00:40:42.566659",
     "status": "completed"
    },
    "tags": []
   },
   "source": [
    "# Distinguish Your Own Digits (DYOD)"
   ]
  },
  {
   "cell_type": "markdown",
   "id": "ef31240d",
   "metadata": {
    "papermill": {
     "duration": 0.030555,
     "end_time": "2022-07-11T00:40:42.669463",
     "exception": false,
     "start_time": "2022-07-11T00:40:42.638908",
     "status": "completed"
    },
    "tags": []
   },
   "source": [
    "You are going to write a classifier that distinguishes between the number 3 and number 8."
   ]
  },
  {
   "cell_type": "code",
   "execution_count": 1,
   "id": "b15c8646",
   "metadata": {
    "execution": {
     "iopub.execute_input": "2022-07-11T00:40:42.746248Z",
     "iopub.status.busy": "2022-07-11T00:40:42.745454Z",
     "iopub.status.idle": "2022-07-11T00:40:42.757874Z",
     "shell.execute_reply": "2022-07-11T00:40:42.758543Z"
    },
    "papermill": {
     "duration": 0.058466,
     "end_time": "2022-07-11T00:40:42.758736",
     "exception": false,
     "start_time": "2022-07-11T00:40:42.700270",
     "status": "completed"
    },
    "tags": []
   },
   "outputs": [],
   "source": [
    "%load_ext autoreload\n",
    "%autoreload 2"
   ]
  },
  {
   "cell_type": "code",
   "execution_count": 2,
   "id": "22ef38dc",
   "metadata": {
    "execution": {
     "iopub.execute_input": "2022-07-11T00:40:42.834874Z",
     "iopub.status.busy": "2022-07-11T00:40:42.834041Z",
     "iopub.status.idle": "2022-07-11T00:40:43.527963Z",
     "shell.execute_reply": "2022-07-11T00:40:43.528703Z"
    },
    "papermill": {
     "duration": 0.739158,
     "end_time": "2022-07-11T00:40:43.528899",
     "exception": false,
     "start_time": "2022-07-11T00:40:42.789741",
     "status": "completed"
    },
    "tags": []
   },
   "outputs": [],
   "source": [
    "%matplotlib inline\n",
    "import numpy as np\n",
    "import matplotlib.pyplot as plt\n",
    "import pandas as pd"
   ]
  },
  {
   "cell_type": "markdown",
   "id": "ba036198",
   "metadata": {
    "papermill": {
     "duration": 0.032837,
     "end_time": "2022-07-11T00:40:43.593254",
     "exception": false,
     "start_time": "2022-07-11T00:40:43.560417",
     "status": "completed"
    },
    "tags": []
   },
   "source": [
    "From the command line run `pip install mnist`. This is a library that will help you bring down the mnist dataset. If you run this from a notebook, you need to put  `!pip install mnist` in a cell by itself."
   ]
  },
  {
   "cell_type": "code",
   "execution_count": 3,
   "id": "bb6ad8a1",
   "metadata": {
    "execution": {
     "iopub.execute_input": "2022-07-11T00:40:43.662823Z",
     "iopub.status.busy": "2022-07-11T00:40:43.661999Z",
     "iopub.status.idle": "2022-07-11T00:40:45.837393Z",
     "shell.execute_reply": "2022-07-11T00:40:45.835993Z"
    },
    "papermill": {
     "duration": 2.212487,
     "end_time": "2022-07-11T00:40:45.837544",
     "exception": false,
     "start_time": "2022-07-11T00:40:43.625057",
     "status": "completed"
    },
    "tags": []
   },
   "outputs": [
    {
     "name": "stdout",
     "output_type": "stream",
     "text": [
      "Collecting mnist\r\n"
     ]
    },
    {
     "name": "stdout",
     "output_type": "stream",
     "text": [
      "  Downloading mnist-0.2.2-py2.py3-none-any.whl (3.5 kB)\r\n",
      "Requirement already satisfied: numpy in /opt/hostedtoolcache/Python/3.6.15/x64/lib/python3.6/site-packages (from mnist) (1.19.5)\r\n"
     ]
    },
    {
     "name": "stdout",
     "output_type": "stream",
     "text": [
      "Installing collected packages: mnist\r\n"
     ]
    },
    {
     "name": "stdout",
     "output_type": "stream",
     "text": [
      "Successfully installed mnist-0.2.2\r\n"
     ]
    }
   ],
   "source": [
    "!pip install mnist"
   ]
  },
  {
   "cell_type": "markdown",
   "id": "69df9c9a",
   "metadata": {
    "papermill": {
     "duration": 0.038577,
     "end_time": "2022-07-11T00:40:45.909256",
     "exception": false,
     "start_time": "2022-07-11T00:40:45.870679",
     "status": "completed"
    },
    "tags": []
   },
   "source": [
    "## Preparing the Data"
   ]
  },
  {
   "cell_type": "code",
   "execution_count": 4,
   "id": "7f69d806",
   "metadata": {
    "execution": {
     "iopub.execute_input": "2022-07-11T00:40:45.985356Z",
     "iopub.status.busy": "2022-07-11T00:40:45.980283Z",
     "iopub.status.idle": "2022-07-11T00:40:45.997360Z",
     "shell.execute_reply": "2022-07-11T00:40:45.996683Z"
    },
    "papermill": {
     "duration": 0.05551,
     "end_time": "2022-07-11T00:40:45.997508",
     "exception": false,
     "start_time": "2022-07-11T00:40:45.941998",
     "status": "completed"
    },
    "tags": []
   },
   "outputs": [],
   "source": [
    "import mnist"
   ]
  },
  {
   "cell_type": "code",
   "execution_count": 5,
   "id": "a411e44f",
   "metadata": {
    "execution": {
     "iopub.execute_input": "2022-07-11T00:40:46.069206Z",
     "iopub.status.busy": "2022-07-11T00:40:46.068430Z",
     "iopub.status.idle": "2022-07-11T00:40:46.655957Z",
     "shell.execute_reply": "2022-07-11T00:40:46.655292Z"
    },
    "papermill": {
     "duration": 0.626776,
     "end_time": "2022-07-11T00:40:46.656119",
     "exception": false,
     "start_time": "2022-07-11T00:40:46.029343",
     "status": "completed"
    },
    "tags": []
   },
   "outputs": [],
   "source": [
    "train_images = mnist.train_images()\n",
    "train_labels = mnist.train_labels()"
   ]
  },
  {
   "cell_type": "code",
   "execution_count": 6,
   "id": "dceab3a5",
   "metadata": {
    "execution": {
     "iopub.execute_input": "2022-07-11T00:40:46.731388Z",
     "iopub.status.busy": "2022-07-11T00:40:46.730524Z",
     "iopub.status.idle": "2022-07-11T00:40:46.748146Z",
     "shell.execute_reply": "2022-07-11T00:40:46.748801Z"
    },
    "papermill": {
     "duration": 0.060287,
     "end_time": "2022-07-11T00:40:46.748972",
     "exception": false,
     "start_time": "2022-07-11T00:40:46.688685",
     "status": "completed"
    },
    "tags": []
   },
   "outputs": [
    {
     "data": {
      "text/plain": [
       "((60000, 28, 28), (60000,))"
      ]
     },
     "execution_count": 6,
     "metadata": {},
     "output_type": "execute_result"
    }
   ],
   "source": [
    "train_images.shape, train_labels.shape"
   ]
  },
  {
   "cell_type": "code",
   "execution_count": 7,
   "id": "f50dc2bb",
   "metadata": {
    "execution": {
     "iopub.execute_input": "2022-07-11T00:40:46.824931Z",
     "iopub.status.busy": "2022-07-11T00:40:46.824087Z",
     "iopub.status.idle": "2022-07-11T00:40:47.096428Z",
     "shell.execute_reply": "2022-07-11T00:40:47.095486Z"
    },
    "papermill": {
     "duration": 0.3154,
     "end_time": "2022-07-11T00:40:47.096599",
     "exception": false,
     "start_time": "2022-07-11T00:40:46.781199",
     "status": "completed"
    },
    "tags": []
   },
   "outputs": [],
   "source": [
    "test_images = mnist.test_images()\n",
    "test_labels = mnist.test_labels()"
   ]
  },
  {
   "cell_type": "code",
   "execution_count": 8,
   "id": "fc38cf1b",
   "metadata": {
    "execution": {
     "iopub.execute_input": "2022-07-11T00:40:47.172019Z",
     "iopub.status.busy": "2022-07-11T00:40:47.171214Z",
     "iopub.status.idle": "2022-07-11T00:40:47.186078Z",
     "shell.execute_reply": "2022-07-11T00:40:47.185418Z"
    },
    "papermill": {
     "duration": 0.05697,
     "end_time": "2022-07-11T00:40:47.186212",
     "exception": false,
     "start_time": "2022-07-11T00:40:47.129242",
     "status": "completed"
    },
    "tags": []
   },
   "outputs": [
    {
     "data": {
      "text/plain": [
       "((10000, 28, 28), (10000,))"
      ]
     },
     "execution_count": 8,
     "metadata": {},
     "output_type": "execute_result"
    }
   ],
   "source": [
    "test_images.shape, test_labels.shape"
   ]
  },
  {
   "cell_type": "code",
   "execution_count": 9,
   "id": "f9ed8fe0",
   "metadata": {
    "execution": {
     "iopub.execute_input": "2022-07-11T00:40:47.258753Z",
     "iopub.status.busy": "2022-07-11T00:40:47.257967Z",
     "iopub.status.idle": "2022-07-11T00:40:47.452050Z",
     "shell.execute_reply": "2022-07-11T00:40:47.451371Z"
    },
    "papermill": {
     "duration": 0.23368,
     "end_time": "2022-07-11T00:40:47.452204",
     "exception": false,
     "start_time": "2022-07-11T00:40:47.218524",
     "status": "completed"
    },
    "tags": []
   },
   "outputs": [
    {
     "name": "stdout",
     "output_type": "stream",
     "text": [
      "2\n"
     ]
    },
    {
     "data": {
      "text/plain": [
       "<matplotlib.image.AxesImage at 0x7f17aa4bda90>"
      ]
     },
     "execution_count": 9,
     "metadata": {},
     "output_type": "execute_result"
    },
    {
     "data": {
      "image/png": "[encoded data removed]",
      "text/plain": [
       "<Figure size 432x288 with 1 Axes>"
      ]
     },
     "metadata": {
      "needs_background": "light"
     },
     "output_type": "display_data"
    }
   ],
   "source": [
    "image_index = 7776 # You may select anything up to 60,000\n",
    "print(train_labels[image_index]) \n",
    "plt.imshow(train_images[image_index], cmap='Greys')"
   ]
  },
  {
   "cell_type": "markdown",
   "id": "a8d2388d",
   "metadata": {
    "papermill": {
     "duration": 0.033735,
     "end_time": "2022-07-11T00:40:47.521955",
     "exception": false,
     "start_time": "2022-07-11T00:40:47.488220",
     "status": "completed"
    },
    "tags": []
   },
   "source": [
    "## Filter data to get 3 and 8 out"
   ]
  },
  {
   "cell_type": "code",
   "execution_count": 10,
   "id": "776f7fc7",
   "metadata": {
    "execution": {
     "iopub.execute_input": "2022-07-11T00:40:47.613463Z",
     "iopub.status.busy": "2022-07-11T00:40:47.607302Z",
     "iopub.status.idle": "2022-07-11T00:40:47.625112Z",
     "shell.execute_reply": "2022-07-11T00:40:47.624162Z"
    },
    "papermill": {
     "duration": 0.06938,
     "end_time": "2022-07-11T00:40:47.625392",
     "exception": false,
     "start_time": "2022-07-11T00:40:47.556012",
     "status": "completed"
    },
    "tags": []
   },
   "outputs": [],
   "source": [
    "train_filter = np.where((train_labels == 3 ) | (train_labels == 8))\n",
    "test_filter = np.where((test_labels == 3) | (test_labels == 8))\n",
    "X_train, y_train = train_images[train_filter], train_labels[train_filter]\n",
    "X_test, y_test = test_images[test_filter], test_labels[test_filter]"
   ]
  },
  {
   "cell_type": "markdown",
   "id": "948f0b7e",
   "metadata": {
    "papermill": {
     "duration": 0.035609,
     "end_time": "2022-07-11T00:40:47.698693",
     "exception": false,
     "start_time": "2022-07-11T00:40:47.663084",
     "status": "completed"
    },
    "tags": []
   },
   "source": [
    "We normalize the pizel values in the 0 to 1 range"
   ]
  },
  {
   "cell_type": "code",
   "execution_count": 11,
   "id": "ee4c2166",
   "metadata": {
    "execution": {
     "iopub.execute_input": "2022-07-11T00:40:47.774303Z",
     "iopub.status.busy": "2022-07-11T00:40:47.773495Z",
     "iopub.status.idle": "2022-07-11T00:40:47.837215Z",
     "shell.execute_reply": "2022-07-11T00:40:47.837825Z"
    },
    "papermill": {
     "duration": 0.104029,
     "end_time": "2022-07-11T00:40:47.838019",
     "exception": false,
     "start_time": "2022-07-11T00:40:47.733990",
     "status": "completed"
    },
    "tags": []
   },
   "outputs": [],
   "source": [
    "X_train = X_train/255.\n",
    "X_test = X_test/255."
   ]
  },
  {
   "cell_type": "markdown",
   "id": "ddcf4fab",
   "metadata": {
    "papermill": {
     "duration": 0.037626,
     "end_time": "2022-07-11T00:40:47.911287",
     "exception": false,
     "start_time": "2022-07-11T00:40:47.873661",
     "status": "completed"
    },
    "tags": []
   },
   "source": [
    "And setup the labels as 1 (when the digit is 3) and 0 (when the digit is 8)"
   ]
  },
  {
   "cell_type": "code",
   "execution_count": 12,
   "id": "7dc908f2",
   "metadata": {
    "execution": {
     "iopub.execute_input": "2022-07-11T00:40:47.989015Z",
     "iopub.status.busy": "2022-07-11T00:40:47.988199Z",
     "iopub.status.idle": "2022-07-11T00:40:48.000686Z",
     "shell.execute_reply": "2022-07-11T00:40:48.001333Z"
    },
    "papermill": {
     "duration": 0.054822,
     "end_time": "2022-07-11T00:40:48.001508",
     "exception": false,
     "start_time": "2022-07-11T00:40:47.946686",
     "status": "completed"
    },
    "tags": []
   },
   "outputs": [],
   "source": [
    "y_train = 1*(y_train==3)\n",
    "y_test = 1*(y_test==3)"
   ]
  },
  {
   "cell_type": "code",
   "execution_count": 13,
   "id": "01e4e969",
   "metadata": {
    "execution": {
     "iopub.execute_input": "2022-07-11T00:40:48.081986Z",
     "iopub.status.busy": "2022-07-11T00:40:48.081191Z",
     "iopub.status.idle": "2022-07-11T00:40:48.096650Z",
     "shell.execute_reply": "2022-07-11T00:40:48.095962Z"
    },
    "papermill": {
     "duration": 0.058256,
     "end_time": "2022-07-11T00:40:48.096820",
     "exception": false,
     "start_time": "2022-07-11T00:40:48.038564",
     "status": "completed"
    },
    "tags": []
   },
   "outputs": [
    {
     "data": {
      "text/plain": [
       "((11982, 28, 28), (1984, 28, 28))"
      ]
     },
     "execution_count": 13,
     "metadata": {},
     "output_type": "execute_result"
    }
   ],
   "source": [
    "X_train.shape, X_test.shape"
   ]
  },
  {
   "cell_type": "markdown",
   "id": "5ccf3f85",
   "metadata": {
    "papermill": {
     "duration": 0.036587,
     "end_time": "2022-07-11T00:40:48.170084",
     "exception": false,
     "start_time": "2022-07-11T00:40:48.133497",
     "status": "completed"
    },
    "tags": []
   },
   "source": [
    "We reshape the data to flatten the image pixels into a set of features or co-variates:"
   ]
  },
  {
   "cell_type": "code",
   "execution_count": 14,
   "id": "5286a4a3",
   "metadata": {
    "execution": {
     "iopub.execute_input": "2022-07-11T00:40:48.247266Z",
     "iopub.status.busy": "2022-07-11T00:40:48.246504Z",
     "iopub.status.idle": "2022-07-11T00:40:48.264032Z",
     "shell.execute_reply": "2022-07-11T00:40:48.263386Z"
    },
    "papermill": {
     "duration": 0.059339,
     "end_time": "2022-07-11T00:40:48.264319",
     "exception": false,
     "start_time": "2022-07-11T00:40:48.204980",
     "status": "completed"
    },
    "tags": []
   },
   "outputs": [
    {
     "data": {
      "text/plain": [
       "((11982, 784), (1984, 784))"
      ]
     },
     "execution_count": 14,
     "metadata": {},
     "output_type": "execute_result"
    }
   ],
   "source": [
    "X_train = X_train.reshape(X_train.shape[0], -1)\n",
    "X_test = X_test.reshape(X_test.shape[0], -1)\n",
    "X_train.shape, X_test.shape"
   ]
  },
  {
   "cell_type": "code",
   "execution_count": 15,
   "id": "73c5f88a",
   "metadata": {
    "execution": {
     "iopub.execute_input": "2022-07-11T00:40:48.346222Z",
     "iopub.status.busy": "2022-07-11T00:40:48.345369Z",
     "iopub.status.idle": "2022-07-11T00:40:48.368151Z",
     "shell.execute_reply": "2022-07-11T00:40:48.367505Z"
    },
    "papermill": {
     "duration": 0.066253,
     "end_time": "2022-07-11T00:40:48.368305",
     "exception": false,
     "start_time": "2022-07-11T00:40:48.302052",
     "status": "completed"
    },
    "tags": []
   },
   "outputs": [],
   "source": [
    "#Impoting functions from 'Kudzu'\n",
    "from kudzu.model import Model\n",
    "from kudzu.train import Learner\n",
    "from kudzu.optim import GD\n",
    "from kudzu.data import Data, Sampler,Dataloader\n",
    "\n",
    "from kudzu.callbacks import AccCallback\n",
    "from kudzu.callbacks import ClfCallback\n",
    "\n",
    "from kudzu.loss import MSE\n",
    "\n",
    "from kudzu.layer import Sigmoid,Relu\n",
    "from kudzu.layer import Affine"
   ]
  },
  {
   "cell_type": "markdown",
   "id": "bc01172a",
   "metadata": {
    "papermill": {
     "duration": 0.03776,
     "end_time": "2022-07-11T00:40:48.442436",
     "exception": false,
     "start_time": "2022-07-11T00:40:48.404676",
     "status": "completed"
    },
    "tags": []
   },
   "source": [
    "### Let us create a `Config` class, to store important parameters. \n",
    "This class essentially plays the role of a dictionary."
   ]
  },
  {
   "cell_type": "code",
   "execution_count": 16,
   "id": "978281aa",
   "metadata": {
    "execution": {
     "iopub.execute_input": "2022-07-11T00:40:48.520145Z",
     "iopub.status.busy": "2022-07-11T00:40:48.519383Z",
     "iopub.status.idle": "2022-07-11T00:40:48.536469Z",
     "shell.execute_reply": "2022-07-11T00:40:48.537054Z"
    },
    "papermill": {
     "duration": 0.057921,
     "end_time": "2022-07-11T00:40:48.537234",
     "exception": false,
     "start_time": "2022-07-11T00:40:48.479313",
     "status": "completed"
    },
    "tags": []
   },
   "outputs": [],
   "source": [
    "class Config:\n",
    "    pass\n",
    "config = Config()\n",
    "config.lr = 0.001\n",
    "config.num_epochs = 250\n",
    "config.bs = 50"
   ]
  },
  {
   "cell_type": "markdown",
   "id": "1385fa59",
   "metadata": {
    "papermill": {
     "duration": 0.034331,
     "end_time": "2022-07-11T00:40:48.607006",
     "exception": false,
     "start_time": "2022-07-11T00:40:48.572675",
     "status": "completed"
    },
    "tags": []
   },
   "source": [
    "### Running Models with the Training data\n",
    "Details about the network layers:\n",
    "- A first affine layer has 784 inputs and does 100 affine transforms. These are followed by a Relu\n",
    "- A second affine layer has 100 inputs from the 100 activations of the past layer, and does 100 affine transforms. These are followed by a Relu\n",
    "- A third affine layer has 100 activations and does 2 affine transformations to create an embedding for visualization. There is no non-linearity here.\n",
    "- A final \"logistic regression\" which has an affine transform from 2 inputs to 1 output, which is squeezed through a sigmoid.\n"
   ]
  },
  {
   "cell_type": "code",
   "execution_count": 17,
   "id": "2b9c66db",
   "metadata": {
    "execution": {
     "iopub.execute_input": "2022-07-11T00:40:48.689366Z",
     "iopub.status.busy": "2022-07-11T00:40:48.688566Z",
     "iopub.status.idle": "2022-07-11T00:40:48.702520Z",
     "shell.execute_reply": "2022-07-11T00:40:48.703195Z"
    },
    "papermill": {
     "duration": 0.059691,
     "end_time": "2022-07-11T00:40:48.703369",
     "exception": false,
     "start_time": "2022-07-11T00:40:48.643678",
     "status": "completed"
    },
    "tags": []
   },
   "outputs": [],
   "source": [
    "data = Data(X_train, y_train.reshape(-1,1))\n",
    "sampler = Sampler(data, config.bs, shuffle=True)\n",
    "\n",
    "dl = Dataloader(data, sampler)\n",
    "\n",
    "opt = GD(config.lr)\n",
    "loss = MSE()"
   ]
  },
  {
   "cell_type": "code",
   "execution_count": 18,
   "id": "b275e4c2",
   "metadata": {
    "execution": {
     "iopub.execute_input": "2022-07-11T00:40:48.781066Z",
     "iopub.status.busy": "2022-07-11T00:40:48.780220Z",
     "iopub.status.idle": "2022-07-11T00:40:48.795066Z",
     "shell.execute_reply": "2022-07-11T00:40:48.794278Z"
    },
    "papermill": {
     "duration": 0.054607,
     "end_time": "2022-07-11T00:40:48.795204",
     "exception": false,
     "start_time": "2022-07-11T00:40:48.740597",
     "status": "completed"
    },
    "tags": []
   },
   "outputs": [],
   "source": [
    "training_data_x = X_train\n",
    "testing_data_x = X_test\n",
    "training_data_y = y_train.reshape(-1,1)\n",
    "testing_data_y = y_test.reshape(-1,1)"
   ]
  },
  {
   "cell_type": "code",
   "execution_count": 19,
   "id": "76951160",
   "metadata": {
    "execution": {
     "iopub.execute_input": "2022-07-11T00:40:48.876043Z",
     "iopub.status.busy": "2022-07-11T00:40:48.875130Z",
     "iopub.status.idle": "2022-07-11T00:40:48.894091Z",
     "shell.execute_reply": "2022-07-11T00:40:48.894762Z"
    },
    "papermill": {
     "duration": 0.063981,
     "end_time": "2022-07-11T00:40:48.894934",
     "exception": false,
     "start_time": "2022-07-11T00:40:48.830953",
     "status": "completed"
    },
    "tags": []
   },
   "outputs": [
    {
     "name": "stdout",
     "output_type": "stream",
     "text": [
      "xavier\n",
      "xavier\n",
      "xavier\n",
      "xavier\n",
      "xavier\n"
     ]
    }
   ],
   "source": [
    "layers = [Affine(\"first\", 784, 100), Relu(\"first\"), Affine(\"second\", 100, 100), Relu(\"second\"), Affine(\"third\", 100, 2), Affine(\"last\", 2, 1), Sigmoid(\"last\")]\n",
    "model_nn = Model(layers)\n",
    "model_lr = Model([Affine(\"logits\", 784, 1), Sigmoid(\"sigmoid\")])"
   ]
  },
  {
   "cell_type": "code",
   "execution_count": 20,
   "id": "6eede77a",
   "metadata": {
    "execution": {
     "iopub.execute_input": "2022-07-11T00:40:48.976933Z",
     "iopub.status.busy": "2022-07-11T00:40:48.976121Z",
     "iopub.status.idle": "2022-07-11T00:40:48.989093Z",
     "shell.execute_reply": "2022-07-11T00:40:48.988457Z"
    },
    "papermill": {
     "duration": 0.057422,
     "end_time": "2022-07-11T00:40:48.989238",
     "exception": false,
     "start_time": "2022-07-11T00:40:48.931816",
     "status": "completed"
    },
    "tags": []
   },
   "outputs": [],
   "source": [
    "nn_learner = Learner(loss, model_nn, opt, config.num_epochs)\n",
    "acc_nn = ClfCallback(nn_learner, config.bs, training_data_x , testing_data_x, training_data_y, testing_data_y)\n",
    "nn_learner.set_callbacks([acc_nn])"
   ]
  },
  {
   "cell_type": "code",
   "execution_count": 21,
   "id": "877b6cc7",
   "metadata": {
    "execution": {
     "iopub.execute_input": "2022-07-11T00:40:49.067826Z",
     "iopub.status.busy": "2022-07-11T00:40:49.067070Z",
     "iopub.status.idle": "2022-07-11T00:40:49.081614Z",
     "shell.execute_reply": "2022-07-11T00:40:49.082314Z"
    },
    "papermill": {
     "duration": 0.058635,
     "end_time": "2022-07-11T00:40:49.082487",
     "exception": false,
     "start_time": "2022-07-11T00:40:49.023852",
     "status": "completed"
    },
    "tags": []
   },
   "outputs": [],
   "source": [
    "lr_learner = Learner(loss, model_lr, opt, config.num_epochs)\n",
    "acc_lr = ClfCallback(lr_learner, config.bs, training_data_x , testing_data_x, training_data_y, testing_data_y)\n",
    "lr_learner.set_callbacks([acc_lr])"
   ]
  },
  {
   "cell_type": "code",
   "execution_count": 22,
   "id": "d9b133c3",
   "metadata": {
    "execution": {
     "iopub.execute_input": "2022-07-11T00:40:49.165935Z",
     "iopub.status.busy": "2022-07-11T00:40:49.165180Z",
     "iopub.status.idle": "2022-07-11T00:43:00.523208Z",
     "shell.execute_reply": "2022-07-11T00:43:00.524273Z"
    },
    "papermill": {
     "duration": 131.404958,
     "end_time": "2022-07-11T00:43:00.524473",
     "exception": false,
     "start_time": "2022-07-11T00:40:49.119515",
     "status": "completed"
    },
    "tags": []
   },
   "outputs": [
    {
     "name": "stdout",
     "output_type": "stream",
     "text": [
      "Epoch 0, Loss 0.2432\n",
      "Training Accuracy: 0.5387, Testing Accuracy: 0.5444\n",
      "\n"
     ]
    },
    {
     "name": "stdout",
     "output_type": "stream",
     "text": [
      "Epoch 10, Loss 0.1254\n",
      "Training Accuracy: 0.8930, Testing Accuracy: 0.9012\n",
      "\n"
     ]
    },
    {
     "name": "stdout",
     "output_type": "stream",
     "text": [
      "Epoch 20, Loss 0.0699\n",
      "Training Accuracy: 0.9286, Testing Accuracy: 0.9415\n",
      "\n"
     ]
    },
    {
     "name": "stdout",
     "output_type": "stream",
     "text": [
      "Epoch 30, Loss 0.0503\n",
      "Training Accuracy: 0.9463, Testing Accuracy: 0.9556\n",
      "\n"
     ]
    },
    {
     "name": "stdout",
     "output_type": "stream",
     "text": [
      "Epoch 40, Loss 0.0415\n",
      "Training Accuracy: 0.9547, Testing Accuracy: 0.9622\n",
      "\n"
     ]
    },
    {
     "name": "stdout",
     "output_type": "stream",
     "text": [
      "Epoch 50, Loss 0.0367\n",
      "Training Accuracy: 0.9592, Testing Accuracy: 0.9652\n",
      "\n"
     ]
    },
    {
     "name": "stdout",
     "output_type": "stream",
     "text": [
      "Epoch 60, Loss 0.0337\n",
      "Training Accuracy: 0.9614, Testing Accuracy: 0.9667\n",
      "\n"
     ]
    },
    {
     "name": "stdout",
     "output_type": "stream",
     "text": [
      "Epoch 70, Loss 0.0315\n",
      "Training Accuracy: 0.9636, Testing Accuracy: 0.9688\n",
      "\n"
     ]
    },
    {
     "name": "stdout",
     "output_type": "stream",
     "text": [
      "Epoch 80, Loss 0.0298\n",
      "Training Accuracy: 0.9648, Testing Accuracy: 0.9693\n",
      "\n"
     ]
    },
    {
     "name": "stdout",
     "output_type": "stream",
     "text": [
      "Epoch 90, Loss 0.0285\n",
      "Training Accuracy: 0.9668, Testing Accuracy: 0.9693\n",
      "\n"
     ]
    },
    {
     "name": "stdout",
     "output_type": "stream",
     "text": [
      "Epoch 100, Loss 0.0273\n",
      "Training Accuracy: 0.9675, Testing Accuracy: 0.9698\n",
      "\n"
     ]
    },
    {
     "name": "stdout",
     "output_type": "stream",
     "text": [
      "Epoch 110, Loss 0.0264\n",
      "Training Accuracy: 0.9695, Testing Accuracy: 0.9703\n",
      "\n"
     ]
    },
    {
     "name": "stdout",
     "output_type": "stream",
     "text": [
      "Epoch 120, Loss 0.0255\n",
      "Training Accuracy: 0.9703, Testing Accuracy: 0.9703\n",
      "\n"
     ]
    },
    {
     "name": "stdout",
     "output_type": "stream",
     "text": [
      "Epoch 130, Loss 0.0247\n",
      "Training Accuracy: 0.9713, Testing Accuracy: 0.9703\n",
      "\n"
     ]
    },
    {
     "name": "stdout",
     "output_type": "stream",
     "text": [
      "Epoch 140, Loss 0.024\n",
      "Training Accuracy: 0.9720, Testing Accuracy: 0.9723\n",
      "\n"
     ]
    },
    {
     "name": "stdout",
     "output_type": "stream",
     "text": [
      "Epoch 150, Loss 0.0234\n",
      "Training Accuracy: 0.9734, Testing Accuracy: 0.9723\n",
      "\n"
     ]
    },
    {
     "name": "stdout",
     "output_type": "stream",
     "text": [
      "Epoch 160, Loss 0.0228\n",
      "Training Accuracy: 0.9740, Testing Accuracy: 0.9728\n",
      "\n"
     ]
    },
    {
     "name": "stdout",
     "output_type": "stream",
     "text": [
      "Epoch 170, Loss 0.0222\n",
      "Training Accuracy: 0.9744, Testing Accuracy: 0.9728\n",
      "\n"
     ]
    },
    {
     "name": "stdout",
     "output_type": "stream",
     "text": [
      "Epoch 180, Loss 0.0217\n",
      "Training Accuracy: 0.9748, Testing Accuracy: 0.9728\n",
      "\n"
     ]
    },
    {
     "name": "stdout",
     "output_type": "stream",
     "text": [
      "Epoch 190, Loss 0.0213\n",
      "Training Accuracy: 0.9756, Testing Accuracy: 0.9733\n",
      "\n"
     ]
    },
    {
     "name": "stdout",
     "output_type": "stream",
     "text": [
      "Epoch 200, Loss 0.0208\n",
      "Training Accuracy: 0.9759, Testing Accuracy: 0.9733\n",
      "\n"
     ]
    },
    {
     "name": "stdout",
     "output_type": "stream",
     "text": [
      "Epoch 210, Loss 0.0204\n",
      "Training Accuracy: 0.9761, Testing Accuracy: 0.9738\n",
      "\n"
     ]
    },
    {
     "name": "stdout",
     "output_type": "stream",
     "text": [
      "Epoch 220, Loss 0.02\n",
      "Training Accuracy: 0.9770, Testing Accuracy: 0.9733\n",
      "\n"
     ]
    },
    {
     "name": "stdout",
     "output_type": "stream",
     "text": [
      "Epoch 230, Loss 0.0196\n",
      "Training Accuracy: 0.9773, Testing Accuracy: 0.9733\n",
      "\n"
     ]
    },
    {
     "name": "stdout",
     "output_type": "stream",
     "text": [
      "Epoch 240, Loss 0.0192\n",
      "Training Accuracy: 0.9778, Testing Accuracy: 0.9738\n",
      "\n"
     ]
    },
    {
     "data": {
      "text/plain": [
       "0.002931595066935044"
      ]
     },
     "execution_count": 22,
     "metadata": {},
     "output_type": "execute_result"
    }
   ],
   "source": [
    "nn_learner.train_loop(dl)"
   ]
  },
  {
   "cell_type": "code",
   "execution_count": 23,
   "id": "e0163366",
   "metadata": {
    "execution": {
     "iopub.execute_input": "2022-07-11T00:43:00.626927Z",
     "iopub.status.busy": "2022-07-11T00:43:00.626150Z",
     "iopub.status.idle": "2022-07-11T00:43:19.859325Z",
     "shell.execute_reply": "2022-07-11T00:43:19.860414Z"
    },
    "papermill": {
     "duration": 19.289258,
     "end_time": "2022-07-11T00:43:19.860596",
     "exception": false,
     "start_time": "2022-07-11T00:43:00.571338",
     "status": "completed"
    },
    "tags": []
   },
   "outputs": [
    {
     "name": "stdout",
     "output_type": "stream",
     "text": [
      "Epoch 0, Loss 0.2223\n",
      "Training Accuracy: 0.7520, Testing Accuracy: 0.7707\n",
      "\n"
     ]
    },
    {
     "name": "stdout",
     "output_type": "stream",
     "text": [
      "Epoch 10, Loss 0.0992\n",
      "Training Accuracy: 0.9159, Testing Accuracy: 0.9325\n",
      "\n"
     ]
    },
    {
     "name": "stdout",
     "output_type": "stream",
     "text": [
      "Epoch 20, Loss 0.0772\n",
      "Training Accuracy: 0.9312, Testing Accuracy: 0.9491\n",
      "\n"
     ]
    },
    {
     "name": "stdout",
     "output_type": "stream",
     "text": [
      "Epoch 30, Loss 0.0669\n",
      "Training Accuracy: 0.9394, Testing Accuracy: 0.9536\n",
      "\n"
     ]
    },
    {
     "name": "stdout",
     "output_type": "stream",
     "text": [
      "Epoch 40, Loss 0.0607\n",
      "Training Accuracy: 0.9448, Testing Accuracy: 0.9577\n",
      "\n"
     ]
    },
    {
     "name": "stdout",
     "output_type": "stream",
     "text": [
      "Epoch 50, Loss 0.0564\n",
      "Training Accuracy: 0.9474, Testing Accuracy: 0.9587\n",
      "\n"
     ]
    },
    {
     "name": "stdout",
     "output_type": "stream",
     "text": [
      "Epoch 60, Loss 0.0532\n",
      "Training Accuracy: 0.9492, Testing Accuracy: 0.9597\n",
      "\n"
     ]
    },
    {
     "name": "stdout",
     "output_type": "stream",
     "text": [
      "Epoch 70, Loss 0.0507\n",
      "Training Accuracy: 0.9506, Testing Accuracy: 0.9607\n",
      "\n"
     ]
    },
    {
     "name": "stdout",
     "output_type": "stream",
     "text": [
      "Epoch 80, Loss 0.0487\n",
      "Training Accuracy: 0.9525, Testing Accuracy: 0.9602\n",
      "\n"
     ]
    },
    {
     "name": "stdout",
     "output_type": "stream",
     "text": [
      "Epoch 90, Loss 0.0471\n",
      "Training Accuracy: 0.9534, Testing Accuracy: 0.9602\n",
      "\n"
     ]
    },
    {
     "name": "stdout",
     "output_type": "stream",
     "text": [
      "Epoch 100, Loss 0.0457\n",
      "Training Accuracy: 0.9553, Testing Accuracy: 0.9617\n",
      "\n"
     ]
    },
    {
     "name": "stdout",
     "output_type": "stream",
     "text": [
      "Epoch 110, Loss 0.0445\n",
      "Training Accuracy: 0.9559, Testing Accuracy: 0.9617\n",
      "\n"
     ]
    },
    {
     "name": "stdout",
     "output_type": "stream",
     "text": [
      "Epoch 120, Loss 0.0435\n",
      "Training Accuracy: 0.9571, Testing Accuracy: 0.9627\n",
      "\n"
     ]
    },
    {
     "name": "stdout",
     "output_type": "stream",
     "text": [
      "Epoch 130, Loss 0.0425\n",
      "Training Accuracy: 0.9575, Testing Accuracy: 0.9627\n",
      "\n"
     ]
    },
    {
     "name": "stdout",
     "output_type": "stream",
     "text": [
      "Epoch 140, Loss 0.0417\n",
      "Training Accuracy: 0.9580, Testing Accuracy: 0.9637\n",
      "\n"
     ]
    },
    {
     "name": "stdout",
     "output_type": "stream",
     "text": [
      "Epoch 150, Loss 0.041\n",
      "Training Accuracy: 0.9584, Testing Accuracy: 0.9637\n",
      "\n"
     ]
    },
    {
     "name": "stdout",
     "output_type": "stream",
     "text": [
      "Epoch 160, Loss 0.0403\n",
      "Training Accuracy: 0.9589, Testing Accuracy: 0.9647\n",
      "\n"
     ]
    },
    {
     "name": "stdout",
     "output_type": "stream",
     "text": [
      "Epoch 170, Loss 0.0397\n",
      "Training Accuracy: 0.9594, Testing Accuracy: 0.9652\n",
      "\n"
     ]
    },
    {
     "name": "stdout",
     "output_type": "stream",
     "text": [
      "Epoch 180, Loss 0.0392\n",
      "Training Accuracy: 0.9598, Testing Accuracy: 0.9652\n",
      "\n"
     ]
    },
    {
     "name": "stdout",
     "output_type": "stream",
     "text": [
      "Epoch 190, Loss 0.0387\n",
      "Training Accuracy: 0.9601, Testing Accuracy: 0.9662\n",
      "\n"
     ]
    },
    {
     "name": "stdout",
     "output_type": "stream",
     "text": [
      "Epoch 200, Loss 0.0382\n",
      "Training Accuracy: 0.9604, Testing Accuracy: 0.9662\n",
      "\n"
     ]
    },
    {
     "name": "stdout",
     "output_type": "stream",
     "text": [
      "Epoch 210, Loss 0.0378\n",
      "Training Accuracy: 0.9607, Testing Accuracy: 0.9677\n",
      "\n"
     ]
    },
    {
     "name": "stdout",
     "output_type": "stream",
     "text": [
      "Epoch 220, Loss 0.0374\n",
      "Training Accuracy: 0.9609, Testing Accuracy: 0.9677\n",
      "\n"
     ]
    },
    {
     "name": "stdout",
     "output_type": "stream",
     "text": [
      "Epoch 230, Loss 0.037\n",
      "Training Accuracy: 0.9610, Testing Accuracy: 0.9677\n",
      "\n"
     ]
    },
    {
     "name": "stdout",
     "output_type": "stream",
     "text": [
      "Epoch 240, Loss 0.0366\n",
      "Training Accuracy: 0.9612, Testing Accuracy: 0.9677\n",
      "\n"
     ]
    },
    {
     "data": {
      "text/plain": [
       "0.061390672992051705"
      ]
     },
     "execution_count": 23,
     "metadata": {},
     "output_type": "execute_result"
    }
   ],
   "source": [
    "lr_learner.train_loop(dl)"
   ]
  },
  {
   "cell_type": "code",
   "execution_count": 24,
   "id": "ca410940",
   "metadata": {
    "execution": {
     "iopub.execute_input": "2022-07-11T00:43:19.978025Z",
     "iopub.status.busy": "2022-07-11T00:43:19.977201Z",
     "iopub.status.idle": "2022-07-11T00:43:20.280445Z",
     "shell.execute_reply": "2022-07-11T00:43:20.279795Z"
    },
    "papermill": {
     "duration": 0.364369,
     "end_time": "2022-07-11T00:43:20.280599",
     "exception": false,
     "start_time": "2022-07-11T00:43:19.916230",
     "status": "completed"
    },
    "tags": []
   },
   "outputs": [
    {
     "data": {
      "text/plain": [
       "<matplotlib.legend.Legend at 0x7f17aa02bac8>"
      ]
     },
     "execution_count": 24,
     "metadata": {},
     "output_type": "execute_result"
    },
    {
     "data": {
      "image/png": "[encoded data removed]",
      "text/plain": [
       "<Figure size 1080x720 with 1 Axes>"
      ]
     },
     "metadata": {
      "needs_background": "light"
     },
     "output_type": "display_data"
    }
   ],
   "source": [
    "#comparing the results of NN and LR\n",
    "plt.figure(figsize=(15,10))\n",
    "\n",
    "# Neural Network plots\n",
    "plt.plot(acc_nn.accuracies, 'r-', label = \"Training Accuracies - NN\")\n",
    "plt.plot(acc_nn.test_accuracies, 'g-', label = \"Testing Accuracies - NN\")\n",
    "\n",
    "# Logistic Regression plots\n",
    "plt.plot(acc_lr.accuracies, 'k-', label = \"Training Accuracies - LR\")\n",
    "plt.plot(acc_lr.test_accuracies, 'b-', label = \"Testing Accuracies - LR\")\n",
    "plt.legend()"
   ]
  },
  {
   "cell_type": "markdown",
   "id": "80dfb35c",
   "metadata": {
    "papermill": {
     "duration": 0.055797,
     "end_time": "2022-07-11T00:43:20.390937",
     "exception": false,
     "start_time": "2022-07-11T00:43:20.335140",
     "status": "completed"
    },
    "tags": []
   },
   "source": [
    "#### Plotting the outputs of this layer of the NN.\n"
   ]
  },
  {
   "cell_type": "code",
   "execution_count": 25,
   "id": "45eb2ff5",
   "metadata": {
    "execution": {
     "iopub.execute_input": "2022-07-11T00:43:20.508163Z",
     "iopub.status.busy": "2022-07-11T00:43:20.507289Z",
     "iopub.status.idle": "2022-07-11T00:43:20.533756Z",
     "shell.execute_reply": "2022-07-11T00:43:20.534401Z"
    },
    "papermill": {
     "duration": 0.089388,
     "end_time": "2022-07-11T00:43:20.534574",
     "exception": false,
     "start_time": "2022-07-11T00:43:20.445186",
     "status": "completed"
    },
    "tags": []
   },
   "outputs": [],
   "source": [
    "new_model = Model(layers[:-2])\n",
    "testing_plot = new_model(testing_data_x)"
   ]
  },
  {
   "cell_type": "code",
   "execution_count": 26,
   "id": "4c0a5485",
   "metadata": {
    "execution": {
     "iopub.execute_input": "2022-07-11T00:43:20.653752Z",
     "iopub.status.busy": "2022-07-11T00:43:20.652971Z",
     "iopub.status.idle": "2022-07-11T00:43:20.903730Z",
     "shell.execute_reply": "2022-07-11T00:43:20.904357Z"
    },
    "papermill": {
     "duration": 0.314275,
     "end_time": "2022-07-11T00:43:20.904545",
     "exception": false,
     "start_time": "2022-07-11T00:43:20.590270",
     "status": "completed"
    },
    "tags": []
   },
   "outputs": [
    {
     "data": {
      "text/plain": [
       "Text(0.5, 1.0, 'Outputs')"
      ]
     },
     "execution_count": 26,
     "metadata": {},
     "output_type": "execute_result"
    },
    {
     "data": {
      "image/png": "[encoded data removed]",
      "text/plain": [
       "<Figure size 576x504 with 1 Axes>"
      ]
     },
     "metadata": {
      "needs_background": "light"
     },
     "output_type": "display_data"
    }
   ],
   "source": [
    "# Plotting the scatter plot of points and color coding by class\n",
    "plt.figure(figsize=(8,7))\n",
    "plt.scatter(testing_plot[:,0], testing_plot[:,1], alpha = 0.1, c = y_test.ravel());\n",
    "plt.title('Outputs')"
   ]
  },
  {
   "cell_type": "markdown",
   "id": "a74fcf8f",
   "metadata": {
    "papermill": {
     "duration": 0.098596,
     "end_time": "2022-07-11T00:43:21.069032",
     "exception": false,
     "start_time": "2022-07-11T00:43:20.970436",
     "status": "completed"
    },
    "tags": []
   },
   "source": [
    "Probability contours"
   ]
  },
  {
   "cell_type": "code",
   "execution_count": 27,
   "id": "d0afc8e3",
   "metadata": {
    "execution": {
     "iopub.execute_input": "2022-07-11T00:43:21.194472Z",
     "iopub.status.busy": "2022-07-11T00:43:21.193683Z",
     "iopub.status.idle": "2022-07-11T00:43:21.205144Z",
     "shell.execute_reply": "2022-07-11T00:43:21.204494Z"
    },
    "papermill": {
     "duration": 0.078187,
     "end_time": "2022-07-11T00:43:21.205297",
     "exception": false,
     "start_time": "2022-07-11T00:43:21.127110",
     "status": "completed"
    },
    "tags": []
   },
   "outputs": [],
   "source": [
    "model_prob = Model(layers[-2:]) "
   ]
  },
  {
   "cell_type": "code",
   "execution_count": 28,
   "id": "9b96e238",
   "metadata": {
    "execution": {
     "iopub.execute_input": "2022-07-11T00:43:21.330307Z",
     "iopub.status.busy": "2022-07-11T00:43:21.329498Z",
     "iopub.status.idle": "2022-07-11T00:43:21.344820Z",
     "shell.execute_reply": "2022-07-11T00:43:21.345420Z"
    },
    "papermill": {
     "duration": 0.081567,
     "end_time": "2022-07-11T00:43:21.345602",
     "exception": false,
     "start_time": "2022-07-11T00:43:21.264035",
     "status": "completed"
    },
    "tags": []
   },
   "outputs": [],
   "source": [
    "#creating the x and y ranges according to the above generated plot.\n",
    "x_range = np.linspace(-4, 1, 100) \n",
    "y_range = np.linspace(-6, 6, 100) \n",
    "x_grid, y_grid = np.meshgrid(x_range, y_range) # x_grid and y_grig are of size 100 X 100\n",
    "\n",
    "# converting x_grid and y_grid to continuous arrays\n",
    "x_gridflat = np.ravel(x_grid)\n",
    "y_gridflat = np.ravel(y_grid)\n",
    "\n",
    "# The last layer of the current model takes two columns as input. Hence transpose of np.vstack() is required.\n",
    "X = np.vstack((x_gridflat, y_gridflat)).T\n",
    "\n",
    "prob_contour = model_prob(X).reshape(100,100) "
   ]
  },
  {
   "cell_type": "code",
   "execution_count": 29,
   "id": "da72499a",
   "metadata": {
    "execution": {
     "iopub.execute_input": "2022-07-11T00:43:21.474953Z",
     "iopub.status.busy": "2022-07-11T00:43:21.474176Z",
     "iopub.status.idle": "2022-07-11T00:43:21.795399Z",
     "shell.execute_reply": "2022-07-11T00:43:21.794718Z"
    },
    "papermill": {
     "duration": 0.390626,
     "end_time": "2022-07-11T00:43:21.795562",
     "exception": false,
     "start_time": "2022-07-11T00:43:21.404936",
     "status": "completed"
    },
    "tags": []
   },
   "outputs": [
    {
     "data": {
      "image/png": "[encoded data removed]",
      "text/plain": [
       "<Figure size 720x648 with 1 Axes>"
      ]
     },
     "metadata": {
      "needs_background": "light"
     },
     "output_type": "display_data"
    }
   ],
   "source": [
    "plt.figure(figsize=(10,9))\n",
    "plt.scatter(testing_plot[:,0], testing_plot[:,1], alpha = 0.1, c = y_test.ravel())\n",
    "contours = plt.contour(x_grid,y_grid,prob_contour)\n",
    "plt.title('Probability Contours')\n",
    "plt.clabel(contours, inline = True );"
   ]
  },
  {
   "cell_type": "code",
   "execution_count": null,
   "id": "e81b4ac7",
   "metadata": {
    "papermill": {
     "duration": 0.061737,
     "end_time": "2022-07-11T00:43:21.921944",
     "exception": false,
     "start_time": "2022-07-11T00:43:21.860207",
     "status": "completed"
    },
    "tags": []
   },
   "outputs": [],
   "source": []
  }
 ],
 "metadata": {
  "kernelspec": {
   "display_name": "Python 3",
   "language": "python",
   "name": "python3"
  },
  "language_info": {
   "codemirror_mode": {
    "name": "ipython",
    "version": 3
   },
   "file_extension": ".py",
   "mimetype": "text/x-python",
   "name": "python",
   "nbconvert_exporter": "python",
   "pygments_lexer": "ipython3",
   "version": "3.6.15"
  },
  "papermill": {
   "default_parameters": {},
   "duration": 161.300518,
   "end_time": "2022-07-11T00:43:22.503636",
   "environment_variables": {},
   "exception": null,
   "input_path": "2020-08-11-part2.ipynb",
   "output_path": "2020-08-11-part2.ipynb",
   "parameters": {},
   "start_time": "2022-07-11T00:40:41.203118",
   "version": "2.3.3"
  }
 },
 "nbformat": 4,
 "nbformat_minor": 5
}