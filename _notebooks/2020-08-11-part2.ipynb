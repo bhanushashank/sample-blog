{
 "cells": [
  {
   "cell_type": "markdown",
   "id": "98380cd3",
   "metadata": {
    "papermill": {
     "duration": 0.029105,
     "end_time": "2021-10-01T10:07:29.599233",
     "exception": false,
     "start_time": "2021-10-01T10:07:29.570128",
     "status": "completed"
    },
    "tags": []
   },
   "source": [
    "# Distinguish Your Own Digits (DYOD)"
   ]
  },
  {
   "cell_type": "markdown",
   "id": "ef31240d",
   "metadata": {
    "papermill": {
     "duration": 0.022814,
     "end_time": "2021-10-01T10:07:29.646101",
     "exception": false,
     "start_time": "2021-10-01T10:07:29.623287",
     "status": "completed"
    },
    "tags": []
   },
   "source": [
    "You are going to write a classifier that distinguishes between the number 3 and number 8."
   ]
  },
  {
   "cell_type": "code",
   "execution_count": 1,
   "id": "b15c8646",
   "metadata": {
    "execution": {
     "iopub.execute_input": "2021-10-01T10:07:29.706236Z",
     "iopub.status.busy": "2021-10-01T10:07:29.705503Z",
     "iopub.status.idle": "2021-10-01T10:07:29.715254Z",
     "shell.execute_reply": "2021-10-01T10:07:29.715674Z"
    },
    "papermill": {
     "duration": 0.046351,
     "end_time": "2021-10-01T10:07:29.715819",
     "exception": false,
     "start_time": "2021-10-01T10:07:29.669468",
     "status": "completed"
    },
    "tags": []
   },
   "outputs": [],
   "source": [
    "%load_ext autoreload\n",
    "%autoreload 2"
   ]
  },
  {
   "cell_type": "code",
   "execution_count": 2,
   "id": "22ef38dc",
   "metadata": {
    "execution": {
     "iopub.execute_input": "2021-10-01T10:07:29.772477Z",
     "iopub.status.busy": "2021-10-01T10:07:29.771855Z",
     "iopub.status.idle": "2021-10-01T10:07:30.306018Z",
     "shell.execute_reply": "2021-10-01T10:07:30.305372Z"
    },
    "papermill": {
     "duration": 0.564905,
     "end_time": "2021-10-01T10:07:30.306182",
     "exception": false,
     "start_time": "2021-10-01T10:07:29.741277",
     "status": "completed"
    },
    "tags": []
   },
   "outputs": [],
   "source": [
    "%matplotlib inline\n",
    "import numpy as np\n",
    "import matplotlib.pyplot as plt\n",
    "import pandas as pd"
   ]
  },
  {
   "cell_type": "markdown",
   "id": "ba036198",
   "metadata": {
    "papermill": {
     "duration": 0.026041,
     "end_time": "2021-10-01T10:07:30.357150",
     "exception": false,
     "start_time": "2021-10-01T10:07:30.331109",
     "status": "completed"
    },
    "tags": []
   },
   "source": [
    "From the command line run `pip install mnist`. This is a library that will help you bring down the mnist dataset. If you run this from a notebook, you need to put  `!pip install mnist` in a cell by itself."
   ]
  },
  {
   "cell_type": "code",
   "execution_count": 3,
   "id": "bb6ad8a1",
   "metadata": {
    "execution": {
     "iopub.execute_input": "2021-10-01T10:07:30.408792Z",
     "iopub.status.busy": "2021-10-01T10:07:30.408340Z",
     "iopub.status.idle": "2021-10-01T10:07:32.219113Z",
     "shell.execute_reply": "2021-10-01T10:07:32.219609Z"
    },
    "papermill": {
     "duration": 1.837592,
     "end_time": "2021-10-01T10:07:32.219801",
     "exception": false,
     "start_time": "2021-10-01T10:07:30.382209",
     "status": "completed"
    },
    "tags": []
   },
   "outputs": [
    {
     "name": "stdout",
     "output_type": "stream",
     "text": [
      "Collecting mnist\r\n"
     ]
    },
    {
     "name": "stdout",
     "output_type": "stream",
     "text": [
      "  Downloading mnist-0.2.2-py2.py3-none-any.whl (3.5 kB)\r\n",
      "Requirement already satisfied: numpy in /opt/hostedtoolcache/Python/3.6.15/x64/lib/python3.6/site-packages (from mnist) (1.19.5)\r\n"
     ]
    },
    {
     "name": "stdout",
     "output_type": "stream",
     "text": [
      "Installing collected packages: mnist\r\n"
     ]
    },
    {
     "name": "stdout",
     "output_type": "stream",
     "text": [
      "Successfully installed mnist-0.2.2\r\n"
     ]
    }
   ],
   "source": [
    "!pip install mnist"
   ]
  },
  {
   "cell_type": "markdown",
   "id": "69df9c9a",
   "metadata": {
    "papermill": {
     "duration": 0.02487,
     "end_time": "2021-10-01T10:07:32.272385",
     "exception": false,
     "start_time": "2021-10-01T10:07:32.247515",
     "status": "completed"
    },
    "tags": []
   },
   "source": [
    "## Preparing the Data"
   ]
  },
  {
   "cell_type": "code",
   "execution_count": 4,
   "id": "7f69d806",
   "metadata": {
    "execution": {
     "iopub.execute_input": "2021-10-01T10:07:32.326603Z",
     "iopub.status.busy": "2021-10-01T10:07:32.326018Z",
     "iopub.status.idle": "2021-10-01T10:07:32.341073Z",
     "shell.execute_reply": "2021-10-01T10:07:32.341575Z"
    },
    "papermill": {
     "duration": 0.044601,
     "end_time": "2021-10-01T10:07:32.341713",
     "exception": false,
     "start_time": "2021-10-01T10:07:32.297112",
     "status": "completed"
    },
    "tags": []
   },
   "outputs": [],
   "source": [
    "import mnist"
   ]
  },
  {
   "cell_type": "code",
   "execution_count": 5,
   "id": "a411e44f",
   "metadata": {
    "execution": {
     "iopub.execute_input": "2021-10-01T10:07:32.399898Z",
     "iopub.status.busy": "2021-10-01T10:07:32.399269Z",
     "iopub.status.idle": "2021-10-01T10:07:33.074220Z",
     "shell.execute_reply": "2021-10-01T10:07:33.072980Z"
    },
    "papermill": {
     "duration": 0.705732,
     "end_time": "2021-10-01T10:07:33.074352",
     "exception": false,
     "start_time": "2021-10-01T10:07:32.368620",
     "status": "completed"
    },
    "tags": []
   },
   "outputs": [],
   "source": [
    "train_images = mnist.train_images()\n",
    "train_labels = mnist.train_labels()"
   ]
  },
  {
   "cell_type": "code",
   "execution_count": 6,
   "id": "dceab3a5",
   "metadata": {
    "execution": {
     "iopub.execute_input": "2021-10-01T10:07:33.132635Z",
     "iopub.status.busy": "2021-10-01T10:07:33.129928Z",
     "iopub.status.idle": "2021-10-01T10:07:33.144368Z",
     "shell.execute_reply": "2021-10-01T10:07:33.143618Z"
    },
    "papermill": {
     "duration": 0.044483,
     "end_time": "2021-10-01T10:07:33.144498",
     "exception": false,
     "start_time": "2021-10-01T10:07:33.100015",
     "status": "completed"
    },
    "tags": []
   },
   "outputs": [
    {
     "data": {
      "text/plain": [
       "((60000, 28, 28), (60000,))"
      ]
     },
     "execution_count": 6,
     "metadata": {},
     "output_type": "execute_result"
    }
   ],
   "source": [
    "train_images.shape, train_labels.shape"
   ]
  },
  {
   "cell_type": "code",
   "execution_count": 7,
   "id": "f50dc2bb",
   "metadata": {
    "execution": {
     "iopub.execute_input": "2021-10-01T10:07:33.198553Z",
     "iopub.status.busy": "2021-10-01T10:07:33.198140Z",
     "iopub.status.idle": "2021-10-01T10:07:33.476372Z",
     "shell.execute_reply": "2021-10-01T10:07:33.475809Z"
    },
    "papermill": {
     "duration": 0.307124,
     "end_time": "2021-10-01T10:07:33.476517",
     "exception": false,
     "start_time": "2021-10-01T10:07:33.169393",
     "status": "completed"
    },
    "tags": []
   },
   "outputs": [],
   "source": [
    "test_images = mnist.test_images()\n",
    "test_labels = mnist.test_labels()"
   ]
  },
  {
   "cell_type": "code",
   "execution_count": 8,
   "id": "fc38cf1b",
   "metadata": {
    "execution": {
     "iopub.execute_input": "2021-10-01T10:07:33.539020Z",
     "iopub.status.busy": "2021-10-01T10:07:33.538331Z",
     "iopub.status.idle": "2021-10-01T10:07:33.550147Z",
     "shell.execute_reply": "2021-10-01T10:07:33.550688Z"
    },
    "papermill": {
     "duration": 0.047017,
     "end_time": "2021-10-01T10:07:33.550833",
     "exception": false,
     "start_time": "2021-10-01T10:07:33.503816",
     "status": "completed"
    },
    "tags": []
   },
   "outputs": [
    {
     "data": {
      "text/plain": [
       "((10000, 28, 28), (10000,))"
      ]
     },
     "execution_count": 8,
     "metadata": {},
     "output_type": "execute_result"
    }
   ],
   "source": [
    "test_images.shape, test_labels.shape"
   ]
  },
  {
   "cell_type": "code",
   "execution_count": 9,
   "id": "f9ed8fe0",
   "metadata": {
    "execution": {
     "iopub.execute_input": "2021-10-01T10:07:33.606746Z",
     "iopub.status.busy": "2021-10-01T10:07:33.606183Z",
     "iopub.status.idle": "2021-10-01T10:07:33.763239Z",
     "shell.execute_reply": "2021-10-01T10:07:33.762676Z"
    },
    "papermill": {
     "duration": 0.188432,
     "end_time": "2021-10-01T10:07:33.763365",
     "exception": false,
     "start_time": "2021-10-01T10:07:33.574933",
     "status": "completed"
    },
    "tags": []
   },
   "outputs": [
    {
     "name": "stdout",
     "output_type": "stream",
     "text": [
      "2\n"
     ]
    },
    {
     "data": {
      "text/plain": [
       "<matplotlib.image.AxesImage at 0x7f009c7557f0>"
      ]
     },
     "execution_count": 9,
     "metadata": {},
     "output_type": "execute_result"
    },
    {
     "data": {
      "image/png": "[encoded data removed]",
      "text/plain": [
       "<Figure size 432x288 with 1 Axes>"
      ]
     },
     "metadata": {
      "needs_background": "light"
     },
     "output_type": "display_data"
    }
   ],
   "source": [
    "image_index = 7776 # You may select anything up to 60,000\n",
    "print(train_labels[image_index]) \n",
    "plt.imshow(train_images[image_index], cmap='Greys')"
   ]
  },
  {
   "cell_type": "markdown",
   "id": "a8d2388d",
   "metadata": {
    "papermill": {
     "duration": 0.031443,
     "end_time": "2021-10-01T10:07:33.823704",
     "exception": false,
     "start_time": "2021-10-01T10:07:33.792261",
     "status": "completed"
    },
    "tags": []
   },
   "source": [
    "## Filter data to get 3 and 8 out"
   ]
  },
  {
   "cell_type": "code",
   "execution_count": 10,
   "id": "776f7fc7",
   "metadata": {
    "execution": {
     "iopub.execute_input": "2021-10-01T10:07:33.887971Z",
     "iopub.status.busy": "2021-10-01T10:07:33.887386Z",
     "iopub.status.idle": "2021-10-01T10:07:33.907039Z",
     "shell.execute_reply": "2021-10-01T10:07:33.906519Z"
    },
    "papermill": {
     "duration": 0.053993,
     "end_time": "2021-10-01T10:07:33.907159",
     "exception": false,
     "start_time": "2021-10-01T10:07:33.853166",
     "status": "completed"
    },
    "tags": []
   },
   "outputs": [],
   "source": [
    "train_filter = np.where((train_labels == 3 ) | (train_labels == 8))\n",
    "test_filter = np.where((test_labels == 3) | (test_labels == 8))\n",
    "X_train, y_train = train_images[train_filter], train_labels[train_filter]\n",
    "X_test, y_test = test_images[test_filter], test_labels[test_filter]"
   ]
  },
  {
   "cell_type": "markdown",
   "id": "948f0b7e",
   "metadata": {
    "papermill": {
     "duration": 0.028831,
     "end_time": "2021-10-01T10:07:33.965122",
     "exception": false,
     "start_time": "2021-10-01T10:07:33.936291",
     "status": "completed"
    },
    "tags": []
   },
   "source": [
    "We normalize the pizel values in the 0 to 1 range"
   ]
  },
  {
   "cell_type": "code",
   "execution_count": 11,
   "id": "ee4c2166",
   "metadata": {
    "execution": {
     "iopub.execute_input": "2021-10-01T10:07:34.027200Z",
     "iopub.status.busy": "2021-10-01T10:07:34.026614Z",
     "iopub.status.idle": "2021-10-01T10:07:34.080397Z",
     "shell.execute_reply": "2021-10-01T10:07:34.079723Z"
    },
    "papermill": {
     "duration": 0.0876,
     "end_time": "2021-10-01T10:07:34.080551",
     "exception": false,
     "start_time": "2021-10-01T10:07:33.992951",
     "status": "completed"
    },
    "tags": []
   },
   "outputs": [],
   "source": [
    "X_train = X_train/255.\n",
    "X_test = X_test/255."
   ]
  },
  {
   "cell_type": "markdown",
   "id": "ddcf4fab",
   "metadata": {
    "papermill": {
     "duration": 0.026154,
     "end_time": "2021-10-01T10:07:34.135930",
     "exception": false,
     "start_time": "2021-10-01T10:07:34.109776",
     "status": "completed"
    },
    "tags": []
   },
   "source": [
    "And setup the labels as 1 (when the digit is 3) and 0 (when the digit is 8)"
   ]
  },
  {
   "cell_type": "code",
   "execution_count": 12,
   "id": "7dc908f2",
   "metadata": {
    "execution": {
     "iopub.execute_input": "2021-10-01T10:07:34.190302Z",
     "iopub.status.busy": "2021-10-01T10:07:34.189742Z",
     "iopub.status.idle": "2021-10-01T10:07:34.203378Z",
     "shell.execute_reply": "2021-10-01T10:07:34.202982Z"
    },
    "papermill": {
     "duration": 0.043585,
     "end_time": "2021-10-01T10:07:34.203481",
     "exception": false,
     "start_time": "2021-10-01T10:07:34.159896",
     "status": "completed"
    },
    "tags": []
   },
   "outputs": [],
   "source": [
    "y_train = 1*(y_train==3)\n",
    "y_test = 1*(y_test==3)"
   ]
  },
  {
   "cell_type": "code",
   "execution_count": 13,
   "id": "01e4e969",
   "metadata": {
    "execution": {
     "iopub.execute_input": "2021-10-01T10:07:34.263924Z",
     "iopub.status.busy": "2021-10-01T10:07:34.263327Z",
     "iopub.status.idle": "2021-10-01T10:07:34.278270Z",
     "shell.execute_reply": "2021-10-01T10:07:34.278720Z"
    },
    "papermill": {
     "duration": 0.047481,
     "end_time": "2021-10-01T10:07:34.278863",
     "exception": false,
     "start_time": "2021-10-01T10:07:34.231382",
     "status": "completed"
    },
    "tags": []
   },
   "outputs": [
    {
     "data": {
      "text/plain": [
       "((11982, 28, 28), (1984, 28, 28))"
      ]
     },
     "execution_count": 13,
     "metadata": {},
     "output_type": "execute_result"
    }
   ],
   "source": [
    "X_train.shape, X_test.shape"
   ]
  },
  {
   "cell_type": "markdown",
   "id": "5ccf3f85",
   "metadata": {
    "papermill": {
     "duration": 0.029871,
     "end_time": "2021-10-01T10:07:34.335300",
     "exception": false,
     "start_time": "2021-10-01T10:07:34.305429",
     "status": "completed"
    },
    "tags": []
   },
   "source": [
    "We reshape the data to flatten the image pixels into a set of features or co-variates:"
   ]
  },
  {
   "cell_type": "code",
   "execution_count": 14,
   "id": "5286a4a3",
   "metadata": {
    "execution": {
     "iopub.execute_input": "2021-10-01T10:07:34.398839Z",
     "iopub.status.busy": "2021-10-01T10:07:34.398102Z",
     "iopub.status.idle": "2021-10-01T10:07:34.410517Z",
     "shell.execute_reply": "2021-10-01T10:07:34.410930Z"
    },
    "papermill": {
     "duration": 0.046831,
     "end_time": "2021-10-01T10:07:34.411063",
     "exception": false,
     "start_time": "2021-10-01T10:07:34.364232",
     "status": "completed"
    },
    "tags": []
   },
   "outputs": [
    {
     "data": {
      "text/plain": [
       "((11982, 784), (1984, 784))"
      ]
     },
     "execution_count": 14,
     "metadata": {},
     "output_type": "execute_result"
    }
   ],
   "source": [
    "X_train = X_train.reshape(X_train.shape[0], -1)\n",
    "X_test = X_test.reshape(X_test.shape[0], -1)\n",
    "X_train.shape, X_test.shape"
   ]
  },
  {
   "cell_type": "code",
   "execution_count": 15,
   "id": "73c5f88a",
   "metadata": {
    "execution": {
     "iopub.execute_input": "2021-10-01T10:07:34.477840Z",
     "iopub.status.busy": "2021-10-01T10:07:34.477283Z",
     "iopub.status.idle": "2021-10-01T10:07:34.498022Z",
     "shell.execute_reply": "2021-10-01T10:07:34.497622Z"
    },
    "papermill": {
     "duration": 0.054213,
     "end_time": "2021-10-01T10:07:34.498127",
     "exception": false,
     "start_time": "2021-10-01T10:07:34.443914",
     "status": "completed"
    },
    "tags": []
   },
   "outputs": [],
   "source": [
    "#Impoting functions from 'Kudzu'\n",
    "from kudzu.model import Model\n",
    "from kudzu.train import Learner\n",
    "from kudzu.optim import GD\n",
    "from kudzu.data import Data, Sampler,Dataloader\n",
    "\n",
    "from kudzu.callbacks import AccCallback\n",
    "from kudzu.callbacks import ClfCallback\n",
    "\n",
    "from kudzu.loss import MSE\n",
    "\n",
    "from kudzu.layer import Sigmoid,Relu\n",
    "from kudzu.layer import Affine"
   ]
  },
  {
   "cell_type": "markdown",
   "id": "bc01172a",
   "metadata": {
    "papermill": {
     "duration": 0.026021,
     "end_time": "2021-10-01T10:07:34.550100",
     "exception": false,
     "start_time": "2021-10-01T10:07:34.524079",
     "status": "completed"
    },
    "tags": []
   },
   "source": [
    "### Let us create a `Config` class, to store important parameters. \n",
    "This class essentially plays the role of a dictionary."
   ]
  },
  {
   "cell_type": "code",
   "execution_count": 16,
   "id": "978281aa",
   "metadata": {
    "execution": {
     "iopub.execute_input": "2021-10-01T10:07:34.606836Z",
     "iopub.status.busy": "2021-10-01T10:07:34.606411Z",
     "iopub.status.idle": "2021-10-01T10:07:34.618818Z",
     "shell.execute_reply": "2021-10-01T10:07:34.618399Z"
    },
    "papermill": {
     "duration": 0.041655,
     "end_time": "2021-10-01T10:07:34.618927",
     "exception": false,
     "start_time": "2021-10-01T10:07:34.577272",
     "status": "completed"
    },
    "tags": []
   },
   "outputs": [],
   "source": [
    "class Config:\n",
    "    pass\n",
    "config = Config()\n",
    "config.lr = 0.001\n",
    "config.num_epochs = 250\n",
    "config.bs = 50"
   ]
  },
  {
   "cell_type": "markdown",
   "id": "1385fa59",
   "metadata": {
    "papermill": {
     "duration": 0.028592,
     "end_time": "2021-10-01T10:07:34.674395",
     "exception": false,
     "start_time": "2021-10-01T10:07:34.645803",
     "status": "completed"
    },
    "tags": []
   },
   "source": [
    "### Running Models with the Training data\n",
    "Details about the network layers:\n",
    "- A first affine layer has 784 inputs and does 100 affine transforms. These are followed by a Relu\n",
    "- A second affine layer has 100 inputs from the 100 activations of the past layer, and does 100 affine transforms. These are followed by a Relu\n",
    "- A third affine layer has 100 activations and does 2 affine transformations to create an embedding for visualization. There is no non-linearity here.\n",
    "- A final \"logistic regression\" which has an affine transform from 2 inputs to 1 output, which is squeezed through a sigmoid.\n"
   ]
  },
  {
   "cell_type": "code",
   "execution_count": 17,
   "id": "2b9c66db",
   "metadata": {
    "execution": {
     "iopub.execute_input": "2021-10-01T10:07:34.738203Z",
     "iopub.status.busy": "2021-10-01T10:07:34.737653Z",
     "iopub.status.idle": "2021-10-01T10:07:34.750272Z",
     "shell.execute_reply": "2021-10-01T10:07:34.750664Z"
    },
    "papermill": {
     "duration": 0.047666,
     "end_time": "2021-10-01T10:07:34.750780",
     "exception": false,
     "start_time": "2021-10-01T10:07:34.703114",
     "status": "completed"
    },
    "tags": []
   },
   "outputs": [],
   "source": [
    "data = Data(X_train, y_train.reshape(-1,1))\n",
    "sampler = Sampler(data, config.bs, shuffle=True)\n",
    "\n",
    "dl = Dataloader(data, sampler)\n",
    "\n",
    "opt = GD(config.lr)\n",
    "loss = MSE()"
   ]
  },
  {
   "cell_type": "code",
   "execution_count": 18,
   "id": "b275e4c2",
   "metadata": {
    "execution": {
     "iopub.execute_input": "2021-10-01T10:07:34.811300Z",
     "iopub.status.busy": "2021-10-01T10:07:34.810746Z",
     "iopub.status.idle": "2021-10-01T10:07:34.822878Z",
     "shell.execute_reply": "2021-10-01T10:07:34.822433Z"
    },
    "papermill": {
     "duration": 0.043892,
     "end_time": "2021-10-01T10:07:34.823083",
     "exception": false,
     "start_time": "2021-10-01T10:07:34.779191",
     "status": "completed"
    },
    "tags": []
   },
   "outputs": [],
   "source": [
    "training_data_x = X_train\n",
    "testing_data_x = X_test\n",
    "training_data_y = y_train.reshape(-1,1)\n",
    "testing_data_y = y_test.reshape(-1,1)"
   ]
  },
  {
   "cell_type": "code",
   "execution_count": 19,
   "id": "76951160",
   "metadata": {
    "execution": {
     "iopub.execute_input": "2021-10-01T10:07:34.883939Z",
     "iopub.status.busy": "2021-10-01T10:07:34.883262Z",
     "iopub.status.idle": "2021-10-01T10:07:34.900534Z",
     "shell.execute_reply": "2021-10-01T10:07:34.900154Z"
    },
    "papermill": {
     "duration": 0.048567,
     "end_time": "2021-10-01T10:07:34.900622",
     "exception": false,
     "start_time": "2021-10-01T10:07:34.852055",
     "status": "completed"
    },
    "tags": []
   },
   "outputs": [
    {
     "name": "stdout",
     "output_type": "stream",
     "text": [
      "xavier\n",
      "xavier\n",
      "xavier\n",
      "xavier\n",
      "xavier\n"
     ]
    }
   ],
   "source": [
    "layers = [Affine(\"first\", 784, 100), Relu(\"first\"), Affine(\"second\", 100, 100), Relu(\"second\"), Affine(\"third\", 100, 2), Affine(\"last\", 2, 1), Sigmoid(\"last\")]\n",
    "model_nn = Model(layers)\n",
    "model_lr = Model([Affine(\"logits\", 784, 1), Sigmoid(\"sigmoid\")])"
   ]
  },
  {
   "cell_type": "code",
   "execution_count": 20,
   "id": "6eede77a",
   "metadata": {
    "execution": {
     "iopub.execute_input": "2021-10-01T10:07:34.959247Z",
     "iopub.status.busy": "2021-10-01T10:07:34.958640Z",
     "iopub.status.idle": "2021-10-01T10:07:34.971756Z",
     "shell.execute_reply": "2021-10-01T10:07:34.972238Z"
    },
    "papermill": {
     "duration": 0.04677,
     "end_time": "2021-10-01T10:07:34.972369",
     "exception": false,
     "start_time": "2021-10-01T10:07:34.925599",
     "status": "completed"
    },
    "tags": []
   },
   "outputs": [],
   "source": [
    "nn_learner = Learner(loss, model_nn, opt, config.num_epochs)\n",
    "acc_nn = ClfCallback(nn_learner, config.bs, training_data_x , testing_data_x, training_data_y, testing_data_y)\n",
    "nn_learner.set_callbacks([acc_nn])"
   ]
  },
  {
   "cell_type": "code",
   "execution_count": 21,
   "id": "877b6cc7",
   "metadata": {
    "execution": {
     "iopub.execute_input": "2021-10-01T10:07:35.038028Z",
     "iopub.status.busy": "2021-10-01T10:07:35.037463Z",
     "iopub.status.idle": "2021-10-01T10:07:35.050081Z",
     "shell.execute_reply": "2021-10-01T10:07:35.049666Z"
    },
    "papermill": {
     "duration": 0.04928,
     "end_time": "2021-10-01T10:07:35.050186",
     "exception": false,
     "start_time": "2021-10-01T10:07:35.000906",
     "status": "completed"
    },
    "tags": []
   },
   "outputs": [],
   "source": [
    "lr_learner = Learner(loss, model_lr, opt, config.num_epochs)\n",
    "acc_lr = ClfCallback(lr_learner, config.bs, training_data_x , testing_data_x, training_data_y, testing_data_y)\n",
    "lr_learner.set_callbacks([acc_lr])"
   ]
  },
  {
   "cell_type": "code",
   "execution_count": 22,
   "id": "d9b133c3",
   "metadata": {
    "execution": {
     "iopub.execute_input": "2021-10-01T10:07:35.112786Z",
     "iopub.status.busy": "2021-10-01T10:07:35.112237Z",
     "iopub.status.idle": "2021-10-01T10:09:02.742258Z",
     "shell.execute_reply": "2021-10-01T10:09:02.743125Z"
    },
    "papermill": {
     "duration": 87.665147,
     "end_time": "2021-10-01T10:09:02.743291",
     "exception": false,
     "start_time": "2021-10-01T10:07:35.078144",
     "status": "completed"
    },
    "tags": []
   },
   "outputs": [
    {
     "name": "stdout",
     "output_type": "stream",
     "text": [
      "Epoch 0, Loss 0.2426\n",
      "Training Accuracy: 0.6211, Testing Accuracy: 0.6255\n",
      "\n"
     ]
    },
    {
     "name": "stdout",
     "output_type": "stream",
     "text": [
      "Epoch 10, Loss 0.0956\n",
      "Training Accuracy: 0.9127, Testing Accuracy: 0.9249\n",
      "\n"
     ]
    },
    {
     "name": "stdout",
     "output_type": "stream",
     "text": [
      "Epoch 20, Loss 0.0583\n",
      "Training Accuracy: 0.9377, Testing Accuracy: 0.9526\n",
      "\n"
     ]
    },
    {
     "name": "stdout",
     "output_type": "stream",
     "text": [
      "Epoch 30, Loss 0.0456\n",
      "Training Accuracy: 0.9488, Testing Accuracy: 0.9627\n",
      "\n"
     ]
    },
    {
     "name": "stdout",
     "output_type": "stream",
     "text": [
      "Epoch 40, Loss 0.0393\n",
      "Training Accuracy: 0.9549, Testing Accuracy: 0.9662\n",
      "\n"
     ]
    },
    {
     "name": "stdout",
     "output_type": "stream",
     "text": [
      "Epoch 50, Loss 0.0354\n",
      "Training Accuracy: 0.9592, Testing Accuracy: 0.9682\n",
      "\n"
     ]
    },
    {
     "name": "stdout",
     "output_type": "stream",
     "text": [
      "Epoch 60, Loss 0.0327\n",
      "Training Accuracy: 0.9625, Testing Accuracy: 0.9703\n",
      "\n"
     ]
    },
    {
     "name": "stdout",
     "output_type": "stream",
     "text": [
      "Epoch 70, Loss 0.0307\n",
      "Training Accuracy: 0.9643, Testing Accuracy: 0.9718\n",
      "\n"
     ]
    },
    {
     "name": "stdout",
     "output_type": "stream",
     "text": [
      "Epoch 80, Loss 0.0292\n",
      "Training Accuracy: 0.9666, Testing Accuracy: 0.9718\n",
      "\n"
     ]
    },
    {
     "name": "stdout",
     "output_type": "stream",
     "text": [
      "Epoch 90, Loss 0.0278\n",
      "Training Accuracy: 0.9680, Testing Accuracy: 0.9728\n",
      "\n"
     ]
    },
    {
     "name": "stdout",
     "output_type": "stream",
     "text": [
      "Epoch 100, Loss 0.0267\n",
      "Training Accuracy: 0.9698, Testing Accuracy: 0.9728\n",
      "\n"
     ]
    },
    {
     "name": "stdout",
     "output_type": "stream",
     "text": [
      "Epoch 110, Loss 0.0258\n",
      "Training Accuracy: 0.9705, Testing Accuracy: 0.9728\n",
      "\n"
     ]
    },
    {
     "name": "stdout",
     "output_type": "stream",
     "text": [
      "Epoch 120, Loss 0.0249\n",
      "Training Accuracy: 0.9715, Testing Accuracy: 0.9723\n",
      "\n"
     ]
    },
    {
     "name": "stdout",
     "output_type": "stream",
     "text": [
      "Epoch 130, Loss 0.0241\n",
      "Training Accuracy: 0.9723, Testing Accuracy: 0.9738\n",
      "\n"
     ]
    },
    {
     "name": "stdout",
     "output_type": "stream",
     "text": [
      "Epoch 140, Loss 0.0234\n",
      "Training Accuracy: 0.9726, Testing Accuracy: 0.9738\n",
      "\n"
     ]
    },
    {
     "name": "stdout",
     "output_type": "stream",
     "text": [
      "Epoch 150, Loss 0.0228\n",
      "Training Accuracy: 0.9732, Testing Accuracy: 0.9738\n",
      "\n"
     ]
    },
    {
     "name": "stdout",
     "output_type": "stream",
     "text": [
      "Epoch 160, Loss 0.0222\n",
      "Training Accuracy: 0.9742, Testing Accuracy: 0.9738\n",
      "\n"
     ]
    },
    {
     "name": "stdout",
     "output_type": "stream",
     "text": [
      "Epoch 170, Loss 0.0217\n",
      "Training Accuracy: 0.9745, Testing Accuracy: 0.9728\n",
      "\n"
     ]
    },
    {
     "name": "stdout",
     "output_type": "stream",
     "text": [
      "Epoch 180, Loss 0.0211\n",
      "Training Accuracy: 0.9754, Testing Accuracy: 0.9738\n",
      "\n"
     ]
    },
    {
     "name": "stdout",
     "output_type": "stream",
     "text": [
      "Epoch 190, Loss 0.0206\n",
      "Training Accuracy: 0.9759, Testing Accuracy: 0.9733\n",
      "\n"
     ]
    },
    {
     "name": "stdout",
     "output_type": "stream",
     "text": [
      "Epoch 200, Loss 0.0202\n",
      "Training Accuracy: 0.9762, Testing Accuracy: 0.9733\n",
      "\n"
     ]
    },
    {
     "name": "stdout",
     "output_type": "stream",
     "text": [
      "Epoch 210, Loss 0.0197\n",
      "Training Accuracy: 0.9766, Testing Accuracy: 0.9733\n",
      "\n"
     ]
    },
    {
     "name": "stdout",
     "output_type": "stream",
     "text": [
      "Epoch 220, Loss 0.0193\n",
      "Training Accuracy: 0.9776, Testing Accuracy: 0.9748\n",
      "\n"
     ]
    },
    {
     "name": "stdout",
     "output_type": "stream",
     "text": [
      "Epoch 230, Loss 0.0189\n",
      "Training Accuracy: 0.9781, Testing Accuracy: 0.9738\n",
      "\n"
     ]
    },
    {
     "name": "stdout",
     "output_type": "stream",
     "text": [
      "Epoch 240, Loss 0.0185\n",
      "Training Accuracy: 0.9786, Testing Accuracy: 0.9748\n",
      "\n"
     ]
    },
    {
     "data": {
      "text/plain": [
       "0.0036662017446601834"
      ]
     },
     "execution_count": 22,
     "metadata": {},
     "output_type": "execute_result"
    }
   ],
   "source": [
    "nn_learner.train_loop(dl)"
   ]
  },
  {
   "cell_type": "code",
   "execution_count": 23,
   "id": "e0163366",
   "metadata": {
    "execution": {
     "iopub.execute_input": "2021-10-01T10:09:02.836932Z",
     "iopub.status.busy": "2021-10-01T10:09:02.836350Z",
     "iopub.status.idle": "2021-10-01T10:09:19.039419Z",
     "shell.execute_reply": "2021-10-01T10:09:19.040317Z"
    },
    "papermill": {
     "duration": 16.257855,
     "end_time": "2021-10-01T10:09:19.040488",
     "exception": false,
     "start_time": "2021-10-01T10:09:02.782633",
     "status": "completed"
    },
    "tags": []
   },
   "outputs": [
    {
     "name": "stdout",
     "output_type": "stream",
     "text": [
      "Epoch 0, Loss 0.2353\n",
      "Training Accuracy: 0.7151, Testing Accuracy: 0.7087\n",
      "\n"
     ]
    },
    {
     "name": "stdout",
     "output_type": "stream",
     "text": [
      "Epoch 10, Loss 0.1039\n",
      "Training Accuracy: 0.9049, Testing Accuracy: 0.9163\n",
      "\n"
     ]
    },
    {
     "name": "stdout",
     "output_type": "stream",
     "text": [
      "Epoch 20, Loss 0.0806\n",
      "Training Accuracy: 0.9238, Testing Accuracy: 0.9315\n",
      "\n"
     ]
    },
    {
     "name": "stdout",
     "output_type": "stream",
     "text": [
      "Epoch 30, Loss 0.0695\n",
      "Training Accuracy: 0.9335, Testing Accuracy: 0.9395\n",
      "\n"
     ]
    },
    {
     "name": "stdout",
     "output_type": "stream",
     "text": [
      "Epoch 40, Loss 0.0628\n",
      "Training Accuracy: 0.9397, Testing Accuracy: 0.9466\n",
      "\n"
     ]
    },
    {
     "name": "stdout",
     "output_type": "stream",
     "text": [
      "Epoch 50, Loss 0.0581\n",
      "Training Accuracy: 0.9443, Testing Accuracy: 0.9521\n",
      "\n"
     ]
    },
    {
     "name": "stdout",
     "output_type": "stream",
     "text": [
      "Epoch 60, Loss 0.0547\n",
      "Training Accuracy: 0.9468, Testing Accuracy: 0.9551\n",
      "\n"
     ]
    },
    {
     "name": "stdout",
     "output_type": "stream",
     "text": [
      "Epoch 70, Loss 0.0521\n",
      "Training Accuracy: 0.9488, Testing Accuracy: 0.9582\n",
      "\n"
     ]
    },
    {
     "name": "stdout",
     "output_type": "stream",
     "text": [
      "Epoch 80, Loss 0.0499\n",
      "Training Accuracy: 0.9506, Testing Accuracy: 0.9607\n",
      "\n"
     ]
    },
    {
     "name": "stdout",
     "output_type": "stream",
     "text": [
      "Epoch 90, Loss 0.0482\n",
      "Training Accuracy: 0.9520, Testing Accuracy: 0.9622\n",
      "\n"
     ]
    },
    {
     "name": "stdout",
     "output_type": "stream",
     "text": [
      "Epoch 100, Loss 0.0467\n",
      "Training Accuracy: 0.9526, Testing Accuracy: 0.9627\n",
      "\n"
     ]
    },
    {
     "name": "stdout",
     "output_type": "stream",
     "text": [
      "Epoch 110, Loss 0.0455\n",
      "Training Accuracy: 0.9531, Testing Accuracy: 0.9637\n",
      "\n"
     ]
    },
    {
     "name": "stdout",
     "output_type": "stream",
     "text": [
      "Epoch 120, Loss 0.0444\n",
      "Training Accuracy: 0.9543, Testing Accuracy: 0.9647\n",
      "\n"
     ]
    },
    {
     "name": "stdout",
     "output_type": "stream",
     "text": [
      "Epoch 130, Loss 0.0434\n",
      "Training Accuracy: 0.9551, Testing Accuracy: 0.9647\n",
      "\n"
     ]
    },
    {
     "name": "stdout",
     "output_type": "stream",
     "text": [
      "Epoch 140, Loss 0.0425\n",
      "Training Accuracy: 0.9558, Testing Accuracy: 0.9657\n",
      "\n"
     ]
    },
    {
     "name": "stdout",
     "output_type": "stream",
     "text": [
      "Epoch 150, Loss 0.0418\n",
      "Training Accuracy: 0.9570, Testing Accuracy: 0.9652\n",
      "\n"
     ]
    },
    {
     "name": "stdout",
     "output_type": "stream",
     "text": [
      "Epoch 160, Loss 0.0411\n",
      "Training Accuracy: 0.9576, Testing Accuracy: 0.9647\n",
      "\n"
     ]
    },
    {
     "name": "stdout",
     "output_type": "stream",
     "text": [
      "Epoch 170, Loss 0.0404\n",
      "Training Accuracy: 0.9578, Testing Accuracy: 0.9642\n",
      "\n"
     ]
    },
    {
     "name": "stdout",
     "output_type": "stream",
     "text": [
      "Epoch 180, Loss 0.0399\n",
      "Training Accuracy: 0.9584, Testing Accuracy: 0.9647\n",
      "\n"
     ]
    },
    {
     "name": "stdout",
     "output_type": "stream",
     "text": [
      "Epoch 190, Loss 0.0393\n",
      "Training Accuracy: 0.9589, Testing Accuracy: 0.9642\n",
      "\n"
     ]
    },
    {
     "name": "stdout",
     "output_type": "stream",
     "text": [
      "Epoch 200, Loss 0.0388\n",
      "Training Accuracy: 0.9596, Testing Accuracy: 0.9642\n",
      "\n"
     ]
    },
    {
     "name": "stdout",
     "output_type": "stream",
     "text": [
      "Epoch 210, Loss 0.0384\n",
      "Training Accuracy: 0.9600, Testing Accuracy: 0.9642\n",
      "\n"
     ]
    },
    {
     "name": "stdout",
     "output_type": "stream",
     "text": [
      "Epoch 220, Loss 0.0379\n",
      "Training Accuracy: 0.9602, Testing Accuracy: 0.9647\n",
      "\n"
     ]
    },
    {
     "name": "stdout",
     "output_type": "stream",
     "text": [
      "Epoch 230, Loss 0.0376\n",
      "Training Accuracy: 0.9605, Testing Accuracy: 0.9647\n",
      "\n"
     ]
    },
    {
     "name": "stdout",
     "output_type": "stream",
     "text": [
      "Epoch 240, Loss 0.0372\n",
      "Training Accuracy: 0.9610, Testing Accuracy: 0.9647\n",
      "\n"
     ]
    },
    {
     "data": {
      "text/plain": [
       "0.03290698801151403"
      ]
     },
     "execution_count": 23,
     "metadata": {},
     "output_type": "execute_result"
    }
   ],
   "source": [
    "lr_learner.train_loop(dl)"
   ]
  },
  {
   "cell_type": "code",
   "execution_count": 24,
   "id": "ca410940",
   "metadata": {
    "execution": {
     "iopub.execute_input": "2021-10-01T10:09:19.141629Z",
     "iopub.status.busy": "2021-10-01T10:09:19.141035Z",
     "iopub.status.idle": "2021-10-01T10:09:19.404269Z",
     "shell.execute_reply": "2021-10-01T10:09:19.403741Z"
    },
    "papermill": {
     "duration": 0.316997,
     "end_time": "2021-10-01T10:09:19.404399",
     "exception": false,
     "start_time": "2021-10-01T10:09:19.087402",
     "status": "completed"
    },
    "tags": []
   },
   "outputs": [
    {
     "data": {
      "text/plain": [
       "<matplotlib.legend.Legend at 0x7f009c2b7898>"
      ]
     },
     "execution_count": 24,
     "metadata": {},
     "output_type": "execute_result"
    },
    {
     "data": {
      "image/png": "[encoded data removed]",
      "text/plain": [
       "<Figure size 1080x720 with 1 Axes>"
      ]
     },
     "metadata": {
      "needs_background": "light"
     },
     "output_type": "display_data"
    }
   ],
   "source": [
    "#comparing the results of NN and LR\n",
    "plt.figure(figsize=(15,10))\n",
    "\n",
    "# Neural Network plots\n",
    "plt.plot(acc_nn.accuracies, 'r-', label = \"Training Accuracies - NN\")\n",
    "plt.plot(acc_nn.test_accuracies, 'g-', label = \"Testing Accuracies - NN\")\n",
    "\n",
    "# Logistic Regression plots\n",
    "plt.plot(acc_lr.accuracies, 'k-', label = \"Training Accuracies - LR\")\n",
    "plt.plot(acc_lr.test_accuracies, 'b-', label = \"Testing Accuracies - LR\")\n",
    "plt.legend()"
   ]
  },
  {
   "cell_type": "markdown",
   "id": "80dfb35c",
   "metadata": {
    "papermill": {
     "duration": 0.045652,
     "end_time": "2021-10-01T10:09:19.497428",
     "exception": false,
     "start_time": "2021-10-01T10:09:19.451776",
     "status": "completed"
    },
    "tags": []
   },
   "source": [
    "#### Plotting the outputs of this layer of the NN.\n"
   ]
  },
  {
   "cell_type": "code",
   "execution_count": 25,
   "id": "45eb2ff5",
   "metadata": {
    "execution": {
     "iopub.execute_input": "2021-10-01T10:09:19.599267Z",
     "iopub.status.busy": "2021-10-01T10:09:19.598401Z",
     "iopub.status.idle": "2021-10-01T10:09:19.617131Z",
     "shell.execute_reply": "2021-10-01T10:09:19.617866Z"
    },
    "papermill": {
     "duration": 0.07605,
     "end_time": "2021-10-01T10:09:19.618016",
     "exception": false,
     "start_time": "2021-10-01T10:09:19.541966",
     "status": "completed"
    },
    "tags": []
   },
   "outputs": [],
   "source": [
    "new_model = Model(layers[:-2])\n",
    "testing_plot = new_model(testing_data_x)"
   ]
  },
  {
   "cell_type": "code",
   "execution_count": 26,
   "id": "4c0a5485",
   "metadata": {
    "execution": {
     "iopub.execute_input": "2021-10-01T10:09:19.729201Z",
     "iopub.status.busy": "2021-10-01T10:09:19.728583Z",
     "iopub.status.idle": "2021-10-01T10:09:19.973720Z",
     "shell.execute_reply": "2021-10-01T10:09:19.973245Z"
    },
    "papermill": {
     "duration": 0.299157,
     "end_time": "2021-10-01T10:09:19.973873",
     "exception": false,
     "start_time": "2021-10-01T10:09:19.674716",
     "status": "completed"
    },
    "tags": []
   },
   "outputs": [
    {
     "data": {
      "text/plain": [
       "Text(0.5, 1.0, 'Outputs')"
      ]
     },
     "execution_count": 26,
     "metadata": {},
     "output_type": "execute_result"
    },
    {
     "data": {
      "image/png": "[encoded data removed]",
      "text/plain": [
       "<Figure size 576x504 with 1 Axes>"
      ]
     },
     "metadata": {
      "needs_background": "light"
     },
     "output_type": "display_data"
    }
   ],
   "source": [
    "# Plotting the scatter plot of points and color coding by class\n",
    "plt.figure(figsize=(8,7))\n",
    "plt.scatter(testing_plot[:,0], testing_plot[:,1], alpha = 0.1, c = y_test.ravel());\n",
    "plt.title('Outputs')"
   ]
  },
  {
   "cell_type": "markdown",
   "id": "a74fcf8f",
   "metadata": {
    "papermill": {
     "duration": 0.051433,
     "end_time": "2021-10-01T10:09:20.075790",
     "exception": false,
     "start_time": "2021-10-01T10:09:20.024357",
     "status": "completed"
    },
    "tags": []
   },
   "source": [
    "Probability contours"
   ]
  },
  {
   "cell_type": "code",
   "execution_count": 27,
   "id": "d0afc8e3",
   "metadata": {
    "execution": {
     "iopub.execute_input": "2021-10-01T10:09:20.192930Z",
     "iopub.status.busy": "2021-10-01T10:09:20.192336Z",
     "iopub.status.idle": "2021-10-01T10:09:20.195255Z",
     "shell.execute_reply": "2021-10-01T10:09:20.194801Z"
    },
    "papermill": {
     "duration": 0.067303,
     "end_time": "2021-10-01T10:09:20.195364",
     "exception": false,
     "start_time": "2021-10-01T10:09:20.128061",
     "status": "completed"
    },
    "tags": []
   },
   "outputs": [],
   "source": [
    "model_prob = Model(layers[-2:]) "
   ]
  },
  {
   "cell_type": "code",
   "execution_count": 28,
   "id": "9b96e238",
   "metadata": {
    "execution": {
     "iopub.execute_input": "2021-10-01T10:09:20.339584Z",
     "iopub.status.busy": "2021-10-01T10:09:20.338109Z",
     "iopub.status.idle": "2021-10-01T10:09:20.354250Z",
     "shell.execute_reply": "2021-10-01T10:09:20.354713Z"
    },
    "papermill": {
     "duration": 0.074473,
     "end_time": "2021-10-01T10:09:20.354860",
     "exception": false,
     "start_time": "2021-10-01T10:09:20.280387",
     "status": "completed"
    },
    "tags": []
   },
   "outputs": [],
   "source": [
    "#creating the x and y ranges according to the above generated plot.\n",
    "x_range = np.linspace(-4, 1, 100) \n",
    "y_range = np.linspace(-6, 6, 100) \n",
    "x_grid, y_grid = np.meshgrid(x_range, y_range) # x_grid and y_grig are of size 100 X 100\n",
    "\n",
    "# converting x_grid and y_grid to continuous arrays\n",
    "x_gridflat = np.ravel(x_grid)\n",
    "y_gridflat = np.ravel(y_grid)\n",
    "\n",
    "# The last layer of the current model takes two columns as input. Hence transpose of np.vstack() is required.\n",
    "X = np.vstack((x_gridflat, y_gridflat)).T\n",
    "\n",
    "prob_contour = model_prob(X).reshape(100,100) "
   ]
  },
  {
   "cell_type": "code",
   "execution_count": 29,
   "id": "da72499a",
   "metadata": {
    "execution": {
     "iopub.execute_input": "2021-10-01T10:09:20.472441Z",
     "iopub.status.busy": "2021-10-01T10:09:20.470865Z",
     "iopub.status.idle": "2021-10-01T10:09:20.762413Z",
     "shell.execute_reply": "2021-10-01T10:09:20.762872Z"
    },
    "papermill": {
     "duration": 0.350949,
     "end_time": "2021-10-01T10:09:20.763020",
     "exception": false,
     "start_time": "2021-10-01T10:09:20.412071",
     "status": "completed"
    },
    "tags": []
   },
   "outputs": [
    {
     "data": {
      "image/png": "[encoded data removed]",
      "text/plain": [
       "<Figure size 720x648 with 1 Axes>"
      ]
     },
     "metadata": {
      "needs_background": "light"
     },
     "output_type": "display_data"
    }
   ],
   "source": [
    "plt.figure(figsize=(10,9))\n",
    "plt.scatter(testing_plot[:,0], testing_plot[:,1], alpha = 0.1, c = y_test.ravel())\n",
    "contours = plt.contour(x_grid,y_grid,prob_contour)\n",
    "plt.title('Probability Contours')\n",
    "plt.clabel(contours, inline = True );"
   ]
  },
  {
   "cell_type": "code",
   "execution_count": null,
   "id": "e81b4ac7",
   "metadata": {
    "papermill": {
     "duration": 0.054942,
     "end_time": "2021-10-01T10:09:20.873289",
     "exception": false,
     "start_time": "2021-10-01T10:09:20.818347",
     "status": "completed"
    },
    "tags": []
   },
   "outputs": [],
   "source": []
  }
 ],
 "metadata": {
  "kernelspec": {
   "display_name": "Python 3",
   "language": "python",
   "name": "python3"
  },
  "language_info": {
   "codemirror_mode": {
    "name": "ipython",
    "version": 3
   },
   "file_extension": ".py",
   "mimetype": "text/x-python",
   "name": "python",
   "nbconvert_exporter": "python",
   "pygments_lexer": "ipython3",
   "version": "3.6.15"
  },
  "papermill": {
   "default_parameters": {},
   "duration": 112.825825,
   "end_time": "2021-10-01T10:09:21.337699",
   "environment_variables": {},
   "exception": null,
   "input_path": "2020-08-11-part2.ipynb",
   "output_path": "2020-08-11-part2.ipynb",
   "parameters": {},
   "start_time": "2021-10-01T10:07:28.511874",
   "version": "2.3.3"
  }
 },
 "nbformat": 4,
 "nbformat_minor": 5
}