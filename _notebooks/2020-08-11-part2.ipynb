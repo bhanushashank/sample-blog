{
 "cells": [
  {
   "cell_type": "markdown",
   "id": "98380cd3",
   "metadata": {
    "papermill": {
     "duration": 0.032221,
     "end_time": "2021-08-23T10:06:35.849194",
     "exception": false,
     "start_time": "2021-08-23T10:06:35.816973",
     "status": "completed"
    },
    "tags": []
   },
   "source": [
    "# Distinguish Your Own Digits (DYOD)"
   ]
  },
  {
   "cell_type": "markdown",
   "id": "ef31240d",
   "metadata": {
    "papermill": {
     "duration": 0.028906,
     "end_time": "2021-08-23T10:06:35.904360",
     "exception": false,
     "start_time": "2021-08-23T10:06:35.875454",
     "status": "completed"
    },
    "tags": []
   },
   "source": [
    "You are going to write a classifier that distinguishes between the number 3 and number 8."
   ]
  },
  {
   "cell_type": "code",
   "execution_count": 1,
   "id": "b15c8646",
   "metadata": {
    "execution": {
     "iopub.execute_input": "2021-08-23T10:06:35.972121Z",
     "iopub.status.busy": "2021-08-23T10:06:35.971537Z",
     "iopub.status.idle": "2021-08-23T10:06:35.982872Z",
     "shell.execute_reply": "2021-08-23T10:06:35.982389Z"
    },
    "papermill": {
     "duration": 0.051749,
     "end_time": "2021-08-23T10:06:35.982992",
     "exception": false,
     "start_time": "2021-08-23T10:06:35.931243",
     "status": "completed"
    },
    "tags": []
   },
   "outputs": [],
   "source": [
    "%load_ext autoreload\n",
    "%autoreload 2"
   ]
  },
  {
   "cell_type": "code",
   "execution_count": 2,
   "id": "22ef38dc",
   "metadata": {
    "execution": {
     "iopub.execute_input": "2021-08-23T10:06:36.038501Z",
     "iopub.status.busy": "2021-08-23T10:06:36.037363Z",
     "iopub.status.idle": "2021-08-23T10:06:36.585490Z",
     "shell.execute_reply": "2021-08-23T10:06:36.585043Z"
    },
    "papermill": {
     "duration": 0.577163,
     "end_time": "2021-08-23T10:06:36.585607",
     "exception": false,
     "start_time": "2021-08-23T10:06:36.008444",
     "status": "completed"
    },
    "tags": []
   },
   "outputs": [],
   "source": [
    "%matplotlib inline\n",
    "import numpy as np\n",
    "import matplotlib.pyplot as plt\n",
    "import pandas as pd"
   ]
  },
  {
   "cell_type": "markdown",
   "id": "ba036198",
   "metadata": {
    "papermill": {
     "duration": 0.027537,
     "end_time": "2021-08-23T10:06:36.641472",
     "exception": false,
     "start_time": "2021-08-23T10:06:36.613935",
     "status": "completed"
    },
    "tags": []
   },
   "source": [
    "From the command line run `pip install mnist`. This is a library that will help you bring down the mnist dataset. If you run this from a notebook, you need to put  `!pip install mnist` in a cell by itself."
   ]
  },
  {
   "cell_type": "code",
   "execution_count": 3,
   "id": "bb6ad8a1",
   "metadata": {
    "execution": {
     "iopub.execute_input": "2021-08-23T10:06:36.702112Z",
     "iopub.status.busy": "2021-08-23T10:06:36.701370Z",
     "iopub.status.idle": "2021-08-23T10:06:38.510064Z",
     "shell.execute_reply": "2021-08-23T10:06:38.509311Z"
    },
    "papermill": {
     "duration": 1.841071,
     "end_time": "2021-08-23T10:06:38.510196",
     "exception": false,
     "start_time": "2021-08-23T10:06:36.669125",
     "status": "completed"
    },
    "tags": []
   },
   "outputs": [
    {
     "name": "stdout",
     "output_type": "stream",
     "text": [
      "Collecting mnist\r\n"
     ]
    },
    {
     "name": "stdout",
     "output_type": "stream",
     "text": [
      "  Downloading mnist-0.2.2-py2.py3-none-any.whl (3.5 kB)\r\n"
     ]
    },
    {
     "name": "stdout",
     "output_type": "stream",
     "text": [
      "Requirement already satisfied: numpy in /opt/hostedtoolcache/Python/3.6.14/x64/lib/python3.6/site-packages (from mnist) (1.19.5)\r\n"
     ]
    },
    {
     "name": "stdout",
     "output_type": "stream",
     "text": [
      "Installing collected packages: mnist\r\n",
      "Successfully installed mnist-0.2.2\r\n"
     ]
    }
   ],
   "source": [
    "!pip install mnist"
   ]
  },
  {
   "cell_type": "markdown",
   "id": "69df9c9a",
   "metadata": {
    "papermill": {
     "duration": 0.028788,
     "end_time": "2021-08-23T10:06:38.567595",
     "exception": false,
     "start_time": "2021-08-23T10:06:38.538807",
     "status": "completed"
    },
    "tags": []
   },
   "source": [
    "## Preparing the Data"
   ]
  },
  {
   "cell_type": "code",
   "execution_count": 4,
   "id": "7f69d806",
   "metadata": {
    "execution": {
     "iopub.execute_input": "2021-08-23T10:06:38.628241Z",
     "iopub.status.busy": "2021-08-23T10:06:38.627611Z",
     "iopub.status.idle": "2021-08-23T10:06:38.643301Z",
     "shell.execute_reply": "2021-08-23T10:06:38.642832Z"
    },
    "papermill": {
     "duration": 0.04752,
     "end_time": "2021-08-23T10:06:38.643423",
     "exception": false,
     "start_time": "2021-08-23T10:06:38.595903",
     "status": "completed"
    },
    "tags": []
   },
   "outputs": [],
   "source": [
    "import mnist"
   ]
  },
  {
   "cell_type": "code",
   "execution_count": 5,
   "id": "a411e44f",
   "metadata": {
    "execution": {
     "iopub.execute_input": "2021-08-23T10:06:38.707571Z",
     "iopub.status.busy": "2021-08-23T10:06:38.706932Z",
     "iopub.status.idle": "2021-08-23T10:11:40.363103Z",
     "shell.execute_reply": "2021-08-23T10:11:40.363555Z"
    },
    "papermill": {
     "duration": 301.690123,
     "end_time": "2021-08-23T10:11:40.363706",
     "exception": false,
     "start_time": "2021-08-23T10:06:38.673583",
     "status": "completed"
    },
    "tags": []
   },
   "outputs": [],
   "source": [
    "train_images = mnist.train_images()\n",
    "train_labels = mnist.train_labels()"
   ]
  },
  {
   "cell_type": "code",
   "execution_count": 6,
   "id": "dceab3a5",
   "metadata": {
    "execution": {
     "iopub.execute_input": "2021-08-23T10:11:40.426064Z",
     "iopub.status.busy": "2021-08-23T10:11:40.425486Z",
     "iopub.status.idle": "2021-08-23T10:11:40.440599Z",
     "shell.execute_reply": "2021-08-23T10:11:40.440111Z"
    },
    "papermill": {
     "duration": 0.049123,
     "end_time": "2021-08-23T10:11:40.440712",
     "exception": false,
     "start_time": "2021-08-23T10:11:40.391589",
     "status": "completed"
    },
    "tags": []
   },
   "outputs": [
    {
     "data": {
      "text/plain": [
       "((60000, 28, 28), (60000,))"
      ]
     },
     "execution_count": 6,
     "metadata": {},
     "output_type": "execute_result"
    }
   ],
   "source": [
    "train_images.shape, train_labels.shape"
   ]
  },
  {
   "cell_type": "code",
   "execution_count": 7,
   "id": "f50dc2bb",
   "metadata": {
    "execution": {
     "iopub.execute_input": "2021-08-23T10:11:40.498854Z",
     "iopub.status.busy": "2021-08-23T10:11:40.498262Z",
     "iopub.status.idle": "2021-08-23T10:12:25.634623Z",
     "shell.execute_reply": "2021-08-23T10:12:25.633898Z"
    },
    "papermill": {
     "duration": 45.167105,
     "end_time": "2021-08-23T10:12:25.634802",
     "exception": false,
     "start_time": "2021-08-23T10:11:40.467697",
     "status": "completed"
    },
    "tags": []
   },
   "outputs": [],
   "source": [
    "test_images = mnist.test_images()\n",
    "test_labels = mnist.test_labels()"
   ]
  },
  {
   "cell_type": "code",
   "execution_count": 8,
   "id": "fc38cf1b",
   "metadata": {
    "execution": {
     "iopub.execute_input": "2021-08-23T10:12:25.701145Z",
     "iopub.status.busy": "2021-08-23T10:12:25.700561Z",
     "iopub.status.idle": "2021-08-23T10:12:25.712167Z",
     "shell.execute_reply": "2021-08-23T10:12:25.711647Z"
    },
    "papermill": {
     "duration": 0.046827,
     "end_time": "2021-08-23T10:12:25.712291",
     "exception": false,
     "start_time": "2021-08-23T10:12:25.665464",
     "status": "completed"
    },
    "tags": []
   },
   "outputs": [
    {
     "data": {
      "text/plain": [
       "((10000, 28, 28), (10000,))"
      ]
     },
     "execution_count": 8,
     "metadata": {},
     "output_type": "execute_result"
    }
   ],
   "source": [
    "test_images.shape, test_labels.shape"
   ]
  },
  {
   "cell_type": "code",
   "execution_count": 9,
   "id": "f9ed8fe0",
   "metadata": {
    "execution": {
     "iopub.execute_input": "2021-08-23T10:12:25.775384Z",
     "iopub.status.busy": "2021-08-23T10:12:25.774849Z",
     "iopub.status.idle": "2021-08-23T10:12:25.933176Z",
     "shell.execute_reply": "2021-08-23T10:12:25.934009Z"
    },
    "papermill": {
     "duration": 0.193388,
     "end_time": "2021-08-23T10:12:25.934235",
     "exception": false,
     "start_time": "2021-08-23T10:12:25.740847",
     "status": "completed"
    },
    "tags": []
   },
   "outputs": [
    {
     "name": "stdout",
     "output_type": "stream",
     "text": [
      "2\n"
     ]
    },
    {
     "data": {
      "text/plain": [
       "<matplotlib.image.AxesImage at 0x7f712de94940>"
      ]
     },
     "execution_count": 9,
     "metadata": {},
     "output_type": "execute_result"
    },
    {
     "data": {
      "image/png": "[encoded data removed]",
      "text/plain": [
       "<Figure size 432x288 with 1 Axes>"
      ]
     },
     "metadata": {
      "needs_background": "light"
     },
     "output_type": "display_data"
    }
   ],
   "source": [
    "image_index = 7776 # You may select anything up to 60,000\n",
    "print(train_labels[image_index]) \n",
    "plt.imshow(train_images[image_index], cmap='Greys')"
   ]
  },
  {
   "cell_type": "markdown",
   "id": "a8d2388d",
   "metadata": {
    "papermill": {
     "duration": 0.028628,
     "end_time": "2021-08-23T10:12:25.992961",
     "exception": false,
     "start_time": "2021-08-23T10:12:25.964333",
     "status": "completed"
    },
    "tags": []
   },
   "source": [
    "## Filter data to get 3 and 8 out"
   ]
  },
  {
   "cell_type": "code",
   "execution_count": 10,
   "id": "776f7fc7",
   "metadata": {
    "execution": {
     "iopub.execute_input": "2021-08-23T10:12:26.056125Z",
     "iopub.status.busy": "2021-08-23T10:12:26.055532Z",
     "iopub.status.idle": "2021-08-23T10:12:26.071970Z",
     "shell.execute_reply": "2021-08-23T10:12:26.071462Z"
    },
    "papermill": {
     "duration": 0.05038,
     "end_time": "2021-08-23T10:12:26.072086",
     "exception": false,
     "start_time": "2021-08-23T10:12:26.021706",
     "status": "completed"
    },
    "tags": []
   },
   "outputs": [],
   "source": [
    "train_filter = np.where((train_labels == 3 ) | (train_labels == 8))\n",
    "test_filter = np.where((test_labels == 3) | (test_labels == 8))\n",
    "X_train, y_train = train_images[train_filter], train_labels[train_filter]\n",
    "X_test, y_test = test_images[test_filter], test_labels[test_filter]"
   ]
  },
  {
   "cell_type": "markdown",
   "id": "948f0b7e",
   "metadata": {
    "papermill": {
     "duration": 0.029644,
     "end_time": "2021-08-23T10:12:26.131072",
     "exception": false,
     "start_time": "2021-08-23T10:12:26.101428",
     "status": "completed"
    },
    "tags": []
   },
   "source": [
    "We normalize the pizel values in the 0 to 1 range"
   ]
  },
  {
   "cell_type": "code",
   "execution_count": 11,
   "id": "ee4c2166",
   "metadata": {
    "execution": {
     "iopub.execute_input": "2021-08-23T10:12:26.193913Z",
     "iopub.status.busy": "2021-08-23T10:12:26.193318Z",
     "iopub.status.idle": "2021-08-23T10:12:26.245546Z",
     "shell.execute_reply": "2021-08-23T10:12:26.244555Z"
    },
    "papermill": {
     "duration": 0.085708,
     "end_time": "2021-08-23T10:12:26.245753",
     "exception": false,
     "start_time": "2021-08-23T10:12:26.160045",
     "status": "completed"
    },
    "tags": []
   },
   "outputs": [],
   "source": [
    "X_train = X_train/255.\n",
    "X_test = X_test/255."
   ]
  },
  {
   "cell_type": "markdown",
   "id": "ddcf4fab",
   "metadata": {
    "papermill": {
     "duration": 0.033558,
     "end_time": "2021-08-23T10:12:26.311680",
     "exception": false,
     "start_time": "2021-08-23T10:12:26.278122",
     "status": "completed"
    },
    "tags": []
   },
   "source": [
    "And setup the labels as 1 (when the digit is 3) and 0 (when the digit is 8)"
   ]
  },
  {
   "cell_type": "code",
   "execution_count": 12,
   "id": "7dc908f2",
   "metadata": {
    "execution": {
     "iopub.execute_input": "2021-08-23T10:12:26.378061Z",
     "iopub.status.busy": "2021-08-23T10:12:26.377474Z",
     "iopub.status.idle": "2021-08-23T10:12:26.390793Z",
     "shell.execute_reply": "2021-08-23T10:12:26.391256Z"
    },
    "papermill": {
     "duration": 0.049295,
     "end_time": "2021-08-23T10:12:26.391397",
     "exception": false,
     "start_time": "2021-08-23T10:12:26.342102",
     "status": "completed"
    },
    "tags": []
   },
   "outputs": [],
   "source": [
    "y_train = 1*(y_train==3)\n",
    "y_test = 1*(y_test==3)"
   ]
  },
  {
   "cell_type": "code",
   "execution_count": 13,
   "id": "01e4e969",
   "metadata": {
    "execution": {
     "iopub.execute_input": "2021-08-23T10:12:26.454196Z",
     "iopub.status.busy": "2021-08-23T10:12:26.453651Z",
     "iopub.status.idle": "2021-08-23T10:12:26.466239Z",
     "shell.execute_reply": "2021-08-23T10:12:26.466706Z"
    },
    "papermill": {
     "duration": 0.045593,
     "end_time": "2021-08-23T10:12:26.466831",
     "exception": false,
     "start_time": "2021-08-23T10:12:26.421238",
     "status": "completed"
    },
    "tags": []
   },
   "outputs": [
    {
     "data": {
      "text/plain": [
       "((11982, 28, 28), (1984, 28, 28))"
      ]
     },
     "execution_count": 13,
     "metadata": {},
     "output_type": "execute_result"
    }
   ],
   "source": [
    "X_train.shape, X_test.shape"
   ]
  },
  {
   "cell_type": "markdown",
   "id": "5ccf3f85",
   "metadata": {
    "papermill": {
     "duration": 0.0291,
     "end_time": "2021-08-23T10:12:26.524523",
     "exception": false,
     "start_time": "2021-08-23T10:12:26.495423",
     "status": "completed"
    },
    "tags": []
   },
   "source": [
    "We reshape the data to flatten the image pixels into a set of features or co-variates:"
   ]
  },
  {
   "cell_type": "code",
   "execution_count": 14,
   "id": "5286a4a3",
   "metadata": {
    "execution": {
     "iopub.execute_input": "2021-08-23T10:12:26.588913Z",
     "iopub.status.busy": "2021-08-23T10:12:26.588254Z",
     "iopub.status.idle": "2021-08-23T10:12:26.603740Z",
     "shell.execute_reply": "2021-08-23T10:12:26.603262Z"
    },
    "papermill": {
     "duration": 0.050017,
     "end_time": "2021-08-23T10:12:26.603868",
     "exception": false,
     "start_time": "2021-08-23T10:12:26.553851",
     "status": "completed"
    },
    "tags": []
   },
   "outputs": [
    {
     "data": {
      "text/plain": [
       "((11982, 784), (1984, 784))"
      ]
     },
     "execution_count": 14,
     "metadata": {},
     "output_type": "execute_result"
    }
   ],
   "source": [
    "X_train = X_train.reshape(X_train.shape[0], -1)\n",
    "X_test = X_test.reshape(X_test.shape[0], -1)\n",
    "X_train.shape, X_test.shape"
   ]
  },
  {
   "cell_type": "code",
   "execution_count": 15,
   "id": "73c5f88a",
   "metadata": {
    "execution": {
     "iopub.execute_input": "2021-08-23T10:12:26.675226Z",
     "iopub.status.busy": "2021-08-23T10:12:26.674654Z",
     "iopub.status.idle": "2021-08-23T10:12:26.694086Z",
     "shell.execute_reply": "2021-08-23T10:12:26.693398Z"
    },
    "papermill": {
     "duration": 0.057687,
     "end_time": "2021-08-23T10:12:26.694206",
     "exception": false,
     "start_time": "2021-08-23T10:12:26.636519",
     "status": "completed"
    },
    "tags": []
   },
   "outputs": [],
   "source": [
    "#Impoting functions from 'Kudzu'\n",
    "from kudzu.model import Model\n",
    "from kudzu.train import Learner\n",
    "from kudzu.optim import GD\n",
    "from kudzu.data import Data, Sampler,Dataloader\n",
    "\n",
    "from kudzu.callbacks import AccCallback\n",
    "from kudzu.callbacks import ClfCallback\n",
    "\n",
    "from kudzu.loss import MSE\n",
    "\n",
    "from kudzu.layer import Sigmoid,Relu\n",
    "from kudzu.layer import Affine"
   ]
  },
  {
   "cell_type": "markdown",
   "id": "bc01172a",
   "metadata": {
    "papermill": {
     "duration": 0.033873,
     "end_time": "2021-08-23T10:12:26.761165",
     "exception": false,
     "start_time": "2021-08-23T10:12:26.727292",
     "status": "completed"
    },
    "tags": []
   },
   "source": [
    "### Let us create a `Config` class, to store important parameters. \n",
    "This class essentially plays the role of a dictionary."
   ]
  },
  {
   "cell_type": "code",
   "execution_count": 16,
   "id": "978281aa",
   "metadata": {
    "execution": {
     "iopub.execute_input": "2021-08-23T10:12:26.825392Z",
     "iopub.status.busy": "2021-08-23T10:12:26.824796Z",
     "iopub.status.idle": "2021-08-23T10:12:26.840639Z",
     "shell.execute_reply": "2021-08-23T10:12:26.840125Z"
    },
    "papermill": {
     "duration": 0.050031,
     "end_time": "2021-08-23T10:12:26.840760",
     "exception": false,
     "start_time": "2021-08-23T10:12:26.790729",
     "status": "completed"
    },
    "tags": []
   },
   "outputs": [],
   "source": [
    "class Config:\n",
    "    pass\n",
    "config = Config()\n",
    "config.lr = 0.001\n",
    "config.num_epochs = 250\n",
    "config.bs = 50"
   ]
  },
  {
   "cell_type": "markdown",
   "id": "1385fa59",
   "metadata": {
    "papermill": {
     "duration": 0.029609,
     "end_time": "2021-08-23T10:12:26.901633",
     "exception": false,
     "start_time": "2021-08-23T10:12:26.872024",
     "status": "completed"
    },
    "tags": []
   },
   "source": [
    "### Running Models with the Training data\n",
    "Details about the network layers:\n",
    "- A first affine layer has 784 inputs and does 100 affine transforms. These are followed by a Relu\n",
    "- A second affine layer has 100 inputs from the 100 activations of the past layer, and does 100 affine transforms. These are followed by a Relu\n",
    "- A third affine layer has 100 activations and does 2 affine transformations to create an embedding for visualization. There is no non-linearity here.\n",
    "- A final \"logistic regression\" which has an affine transform from 2 inputs to 1 output, which is squeezed through a sigmoid.\n"
   ]
  },
  {
   "cell_type": "code",
   "execution_count": 17,
   "id": "2b9c66db",
   "metadata": {
    "execution": {
     "iopub.execute_input": "2021-08-23T10:12:26.965558Z",
     "iopub.status.busy": "2021-08-23T10:12:26.964849Z",
     "iopub.status.idle": "2021-08-23T10:12:26.982180Z",
     "shell.execute_reply": "2021-08-23T10:12:26.981724Z"
    },
    "papermill": {
     "duration": 0.050185,
     "end_time": "2021-08-23T10:12:26.982288",
     "exception": false,
     "start_time": "2021-08-23T10:12:26.932103",
     "status": "completed"
    },
    "tags": []
   },
   "outputs": [],
   "source": [
    "data = Data(X_train, y_train.reshape(-1,1))\n",
    "sampler = Sampler(data, config.bs, shuffle=True)\n",
    "\n",
    "dl = Dataloader(data, sampler)\n",
    "\n",
    "opt = GD(config.lr)\n",
    "loss = MSE()"
   ]
  },
  {
   "cell_type": "code",
   "execution_count": 18,
   "id": "b275e4c2",
   "metadata": {
    "execution": {
     "iopub.execute_input": "2021-08-23T10:12:27.046446Z",
     "iopub.status.busy": "2021-08-23T10:12:27.045825Z",
     "iopub.status.idle": "2021-08-23T10:12:27.059071Z",
     "shell.execute_reply": "2021-08-23T10:12:27.058572Z"
    },
    "papermill": {
     "duration": 0.047285,
     "end_time": "2021-08-23T10:12:27.059186",
     "exception": false,
     "start_time": "2021-08-23T10:12:27.011901",
     "status": "completed"
    },
    "tags": []
   },
   "outputs": [],
   "source": [
    "training_data_x = X_train\n",
    "testing_data_x = X_test\n",
    "training_data_y = y_train.reshape(-1,1)\n",
    "testing_data_y = y_test.reshape(-1,1)"
   ]
  },
  {
   "cell_type": "code",
   "execution_count": 19,
   "id": "76951160",
   "metadata": {
    "execution": {
     "iopub.execute_input": "2021-08-23T10:12:27.124954Z",
     "iopub.status.busy": "2021-08-23T10:12:27.124413Z",
     "iopub.status.idle": "2021-08-23T10:12:27.140658Z",
     "shell.execute_reply": "2021-08-23T10:12:27.141172Z"
    },
    "papermill": {
     "duration": 0.052913,
     "end_time": "2021-08-23T10:12:27.141293",
     "exception": false,
     "start_time": "2021-08-23T10:12:27.088380",
     "status": "completed"
    },
    "tags": []
   },
   "outputs": [
    {
     "name": "stdout",
     "output_type": "stream",
     "text": [
      "xavier\n",
      "xavier\n",
      "xavier\n",
      "xavier\n",
      "xavier\n"
     ]
    }
   ],
   "source": [
    "layers = [Affine(\"first\", 784, 100), Relu(\"first\"), Affine(\"second\", 100, 100), Relu(\"second\"), Affine(\"third\", 100, 2), Affine(\"last\", 2, 1), Sigmoid(\"last\")]\n",
    "model_nn = Model(layers)\n",
    "model_lr = Model([Affine(\"logits\", 784, 1), Sigmoid(\"sigmoid\")])"
   ]
  },
  {
   "cell_type": "code",
   "execution_count": 20,
   "id": "6eede77a",
   "metadata": {
    "execution": {
     "iopub.execute_input": "2021-08-23T10:12:27.210869Z",
     "iopub.status.busy": "2021-08-23T10:12:27.210291Z",
     "iopub.status.idle": "2021-08-23T10:12:27.221271Z",
     "shell.execute_reply": "2021-08-23T10:12:27.220805Z"
    },
    "papermill": {
     "duration": 0.050213,
     "end_time": "2021-08-23T10:12:27.221387",
     "exception": false,
     "start_time": "2021-08-23T10:12:27.171174",
     "status": "completed"
    },
    "tags": []
   },
   "outputs": [],
   "source": [
    "nn_learner = Learner(loss, model_nn, opt, config.num_epochs)\n",
    "acc_nn = ClfCallback(nn_learner, config.bs, training_data_x , testing_data_x, training_data_y, testing_data_y)\n",
    "nn_learner.set_callbacks([acc_nn])"
   ]
  },
  {
   "cell_type": "code",
   "execution_count": 21,
   "id": "877b6cc7",
   "metadata": {
    "execution": {
     "iopub.execute_input": "2021-08-23T10:12:27.286519Z",
     "iopub.status.busy": "2021-08-23T10:12:27.285751Z",
     "iopub.status.idle": "2021-08-23T10:12:27.298707Z",
     "shell.execute_reply": "2021-08-23T10:12:27.298204Z"
    },
    "papermill": {
     "duration": 0.046862,
     "end_time": "2021-08-23T10:12:27.298812",
     "exception": false,
     "start_time": "2021-08-23T10:12:27.251950",
     "status": "completed"
    },
    "tags": []
   },
   "outputs": [],
   "source": [
    "lr_learner = Learner(loss, model_lr, opt, config.num_epochs)\n",
    "acc_lr = ClfCallback(lr_learner, config.bs, training_data_x , testing_data_x, training_data_y, testing_data_y)\n",
    "lr_learner.set_callbacks([acc_lr])"
   ]
  },
  {
   "cell_type": "code",
   "execution_count": 22,
   "id": "d9b133c3",
   "metadata": {
    "execution": {
     "iopub.execute_input": "2021-08-23T10:12:27.364750Z",
     "iopub.status.busy": "2021-08-23T10:12:27.364215Z",
     "iopub.status.idle": "2021-08-23T10:13:54.094920Z",
     "shell.execute_reply": "2021-08-23T10:13:54.095771Z"
    },
    "papermill": {
     "duration": 86.765132,
     "end_time": "2021-08-23T10:13:54.095936",
     "exception": false,
     "start_time": "2021-08-23T10:12:27.330804",
     "status": "completed"
    },
    "tags": []
   },
   "outputs": [
    {
     "name": "stdout",
     "output_type": "stream",
     "text": [
      "Epoch 0, Loss 0.2504\n",
      "Training Accuracy: 0.4695, Testing Accuracy: 0.4753\n",
      "\n"
     ]
    },
    {
     "name": "stdout",
     "output_type": "stream",
     "text": [
      "Epoch 10, Loss 0.2481\n",
      "Training Accuracy: 0.6111, Testing Accuracy: 0.6225\n",
      "\n"
     ]
    },
    {
     "name": "stdout",
     "output_type": "stream",
     "text": [
      "Epoch 20, Loss 0.2386\n",
      "Training Accuracy: 0.8232, Testing Accuracy: 0.8281\n",
      "\n"
     ]
    },
    {
     "name": "stdout",
     "output_type": "stream",
     "text": [
      "Epoch 30, Loss 0.1771\n",
      "Training Accuracy: 0.8997, Testing Accuracy: 0.9093\n",
      "\n"
     ]
    },
    {
     "name": "stdout",
     "output_type": "stream",
     "text": [
      "Epoch 40, Loss 0.0834\n",
      "Training Accuracy: 0.9228, Testing Accuracy: 0.9304\n",
      "\n"
     ]
    },
    {
     "name": "stdout",
     "output_type": "stream",
     "text": [
      "Epoch 50, Loss 0.0562\n",
      "Training Accuracy: 0.9409, Testing Accuracy: 0.9496\n",
      "\n"
     ]
    },
    {
     "name": "stdout",
     "output_type": "stream",
     "text": [
      "Epoch 60, Loss 0.0452\n",
      "Training Accuracy: 0.9497, Testing Accuracy: 0.9587\n",
      "\n"
     ]
    },
    {
     "name": "stdout",
     "output_type": "stream",
     "text": [
      "Epoch 70, Loss 0.0395\n",
      "Training Accuracy: 0.9551, Testing Accuracy: 0.9632\n",
      "\n"
     ]
    },
    {
     "name": "stdout",
     "output_type": "stream",
     "text": [
      "Epoch 80, Loss 0.0359\n",
      "Training Accuracy: 0.9584, Testing Accuracy: 0.9657\n",
      "\n"
     ]
    },
    {
     "name": "stdout",
     "output_type": "stream",
     "text": [
      "Epoch 90, Loss 0.0335\n",
      "Training Accuracy: 0.9617, Testing Accuracy: 0.9672\n",
      "\n"
     ]
    },
    {
     "name": "stdout",
     "output_type": "stream",
     "text": [
      "Epoch 100, Loss 0.0316\n",
      "Training Accuracy: 0.9639, Testing Accuracy: 0.9688\n",
      "\n"
     ]
    },
    {
     "name": "stdout",
     "output_type": "stream",
     "text": [
      "Epoch 110, Loss 0.0301\n",
      "Training Accuracy: 0.9651, Testing Accuracy: 0.9682\n",
      "\n"
     ]
    },
    {
     "name": "stdout",
     "output_type": "stream",
     "text": [
      "Epoch 120, Loss 0.0289\n",
      "Training Accuracy: 0.9663, Testing Accuracy: 0.9682\n",
      "\n"
     ]
    },
    {
     "name": "stdout",
     "output_type": "stream",
     "text": [
      "Epoch 130, Loss 0.0278\n",
      "Training Accuracy: 0.9672, Testing Accuracy: 0.9688\n",
      "\n"
     ]
    },
    {
     "name": "stdout",
     "output_type": "stream",
     "text": [
      "Epoch 140, Loss 0.0268\n",
      "Training Accuracy: 0.9683, Testing Accuracy: 0.9693\n",
      "\n"
     ]
    },
    {
     "name": "stdout",
     "output_type": "stream",
     "text": [
      "Epoch 150, Loss 0.026\n",
      "Training Accuracy: 0.9687, Testing Accuracy: 0.9693\n",
      "\n"
     ]
    },
    {
     "name": "stdout",
     "output_type": "stream",
     "text": [
      "Epoch 160, Loss 0.0253\n",
      "Training Accuracy: 0.9692, Testing Accuracy: 0.9698\n",
      "\n"
     ]
    },
    {
     "name": "stdout",
     "output_type": "stream",
     "text": [
      "Epoch 170, Loss 0.0246\n",
      "Training Accuracy: 0.9701, Testing Accuracy: 0.9708\n",
      "\n"
     ]
    },
    {
     "name": "stdout",
     "output_type": "stream",
     "text": [
      "Epoch 180, Loss 0.024\n",
      "Training Accuracy: 0.9714, Testing Accuracy: 0.9703\n",
      "\n"
     ]
    },
    {
     "name": "stdout",
     "output_type": "stream",
     "text": [
      "Epoch 190, Loss 0.0234\n",
      "Training Accuracy: 0.9730, Testing Accuracy: 0.9698\n",
      "\n"
     ]
    },
    {
     "name": "stdout",
     "output_type": "stream",
     "text": [
      "Epoch 200, Loss 0.0228\n",
      "Training Accuracy: 0.9735, Testing Accuracy: 0.9713\n",
      "\n"
     ]
    },
    {
     "name": "stdout",
     "output_type": "stream",
     "text": [
      "Epoch 210, Loss 0.0223\n",
      "Training Accuracy: 0.9740, Testing Accuracy: 0.9708\n",
      "\n"
     ]
    },
    {
     "name": "stdout",
     "output_type": "stream",
     "text": [
      "Epoch 220, Loss 0.0218\n",
      "Training Accuracy: 0.9751, Testing Accuracy: 0.9698\n",
      "\n"
     ]
    },
    {
     "name": "stdout",
     "output_type": "stream",
     "text": [
      "Epoch 230, Loss 0.0213\n",
      "Training Accuracy: 0.9757, Testing Accuracy: 0.9698\n",
      "\n"
     ]
    },
    {
     "name": "stdout",
     "output_type": "stream",
     "text": [
      "Epoch 240, Loss 0.0208\n",
      "Training Accuracy: 0.9763, Testing Accuracy: 0.9693\n",
      "\n"
     ]
    },
    {
     "data": {
      "text/plain": [
       "0.06549659479717221"
      ]
     },
     "execution_count": 22,
     "metadata": {},
     "output_type": "execute_result"
    }
   ],
   "source": [
    "nn_learner.train_loop(dl)"
   ]
  },
  {
   "cell_type": "code",
   "execution_count": 23,
   "id": "e0163366",
   "metadata": {
    "execution": {
     "iopub.execute_input": "2021-08-23T10:13:54.183850Z",
     "iopub.status.busy": "2021-08-23T10:13:54.183283Z",
     "iopub.status.idle": "2021-08-23T10:14:09.612971Z",
     "shell.execute_reply": "2021-08-23T10:14:09.613757Z"
    },
    "papermill": {
     "duration": 15.480006,
     "end_time": "2021-08-23T10:14:09.613906",
     "exception": false,
     "start_time": "2021-08-23T10:13:54.133900",
     "status": "completed"
    },
    "tags": []
   },
   "outputs": [
    {
     "name": "stdout",
     "output_type": "stream",
     "text": [
      "Epoch 0, Loss 0.2403\n",
      "Training Accuracy: 0.6752, Testing Accuracy: 0.6557\n",
      "\n"
     ]
    },
    {
     "name": "stdout",
     "output_type": "stream",
     "text": [
      "Epoch 10, Loss 0.1022\n",
      "Training Accuracy: 0.9159, Testing Accuracy: 0.9254\n",
      "\n"
     ]
    },
    {
     "name": "stdout",
     "output_type": "stream",
     "text": [
      "Epoch 20, Loss 0.0781\n",
      "Training Accuracy: 0.9325, Testing Accuracy: 0.9390\n",
      "\n"
     ]
    },
    {
     "name": "stdout",
     "output_type": "stream",
     "text": [
      "Epoch 30, Loss 0.0674\n",
      "Training Accuracy: 0.9392, Testing Accuracy: 0.9466\n",
      "\n"
     ]
    },
    {
     "name": "stdout",
     "output_type": "stream",
     "text": [
      "Epoch 40, Loss 0.0609\n",
      "Training Accuracy: 0.9427, Testing Accuracy: 0.9501\n",
      "\n"
     ]
    },
    {
     "name": "stdout",
     "output_type": "stream",
     "text": [
      "Epoch 50, Loss 0.0566\n",
      "Training Accuracy: 0.9471, Testing Accuracy: 0.9516\n",
      "\n"
     ]
    },
    {
     "name": "stdout",
     "output_type": "stream",
     "text": [
      "Epoch 60, Loss 0.0534\n",
      "Training Accuracy: 0.9483, Testing Accuracy: 0.9541\n",
      "\n"
     ]
    },
    {
     "name": "stdout",
     "output_type": "stream",
     "text": [
      "Epoch 70, Loss 0.0509\n",
      "Training Accuracy: 0.9503, Testing Accuracy: 0.9572\n",
      "\n"
     ]
    },
    {
     "name": "stdout",
     "output_type": "stream",
     "text": [
      "Epoch 80, Loss 0.0489\n",
      "Training Accuracy: 0.9516, Testing Accuracy: 0.9597\n",
      "\n"
     ]
    },
    {
     "name": "stdout",
     "output_type": "stream",
     "text": [
      "Epoch 90, Loss 0.0472\n",
      "Training Accuracy: 0.9526, Testing Accuracy: 0.9602\n",
      "\n"
     ]
    },
    {
     "name": "stdout",
     "output_type": "stream",
     "text": [
      "Epoch 100, Loss 0.0458\n",
      "Training Accuracy: 0.9533, Testing Accuracy: 0.9617\n",
      "\n"
     ]
    },
    {
     "name": "stdout",
     "output_type": "stream",
     "text": [
      "Epoch 110, Loss 0.0446\n",
      "Training Accuracy: 0.9540, Testing Accuracy: 0.9617\n",
      "\n"
     ]
    },
    {
     "name": "stdout",
     "output_type": "stream",
     "text": [
      "Epoch 120, Loss 0.0436\n",
      "Training Accuracy: 0.9553, Testing Accuracy: 0.9622\n",
      "\n"
     ]
    },
    {
     "name": "stdout",
     "output_type": "stream",
     "text": [
      "Epoch 130, Loss 0.0427\n",
      "Training Accuracy: 0.9560, Testing Accuracy: 0.9622\n",
      "\n"
     ]
    },
    {
     "name": "stdout",
     "output_type": "stream",
     "text": [
      "Epoch 140, Loss 0.0419\n",
      "Training Accuracy: 0.9564, Testing Accuracy: 0.9622\n",
      "\n"
     ]
    },
    {
     "name": "stdout",
     "output_type": "stream",
     "text": [
      "Epoch 150, Loss 0.0411\n",
      "Training Accuracy: 0.9569, Testing Accuracy: 0.9632\n",
      "\n"
     ]
    },
    {
     "name": "stdout",
     "output_type": "stream",
     "text": [
      "Epoch 160, Loss 0.0405\n",
      "Training Accuracy: 0.9573, Testing Accuracy: 0.9652\n",
      "\n"
     ]
    },
    {
     "name": "stdout",
     "output_type": "stream",
     "text": [
      "Epoch 170, Loss 0.0399\n",
      "Training Accuracy: 0.9577, Testing Accuracy: 0.9652\n",
      "\n"
     ]
    },
    {
     "name": "stdout",
     "output_type": "stream",
     "text": [
      "Epoch 180, Loss 0.0393\n",
      "Training Accuracy: 0.9584, Testing Accuracy: 0.9657\n",
      "\n"
     ]
    },
    {
     "name": "stdout",
     "output_type": "stream",
     "text": [
      "Epoch 190, Loss 0.0388\n",
      "Training Accuracy: 0.9589, Testing Accuracy: 0.9662\n",
      "\n"
     ]
    },
    {
     "name": "stdout",
     "output_type": "stream",
     "text": [
      "Epoch 200, Loss 0.0384\n",
      "Training Accuracy: 0.9590, Testing Accuracy: 0.9652\n",
      "\n"
     ]
    },
    {
     "name": "stdout",
     "output_type": "stream",
     "text": [
      "Epoch 210, Loss 0.0379\n",
      "Training Accuracy: 0.9594, Testing Accuracy: 0.9647\n",
      "\n"
     ]
    },
    {
     "name": "stdout",
     "output_type": "stream",
     "text": [
      "Epoch 220, Loss 0.0375\n",
      "Training Accuracy: 0.9599, Testing Accuracy: 0.9652\n",
      "\n"
     ]
    },
    {
     "name": "stdout",
     "output_type": "stream",
     "text": [
      "Epoch 230, Loss 0.0371\n",
      "Training Accuracy: 0.9603, Testing Accuracy: 0.9662\n",
      "\n"
     ]
    },
    {
     "name": "stdout",
     "output_type": "stream",
     "text": [
      "Epoch 240, Loss 0.0368\n",
      "Training Accuracy: 0.9607, Testing Accuracy: 0.9662\n",
      "\n"
     ]
    },
    {
     "data": {
      "text/plain": [
       "0.0404622965146688"
      ]
     },
     "execution_count": 23,
     "metadata": {},
     "output_type": "execute_result"
    }
   ],
   "source": [
    "lr_learner.train_loop(dl)"
   ]
  },
  {
   "cell_type": "code",
   "execution_count": 24,
   "id": "ca410940",
   "metadata": {
    "execution": {
     "iopub.execute_input": "2021-08-23T10:14:09.717110Z",
     "iopub.status.busy": "2021-08-23T10:14:09.716521Z",
     "iopub.status.idle": "2021-08-23T10:14:09.965725Z",
     "shell.execute_reply": "2021-08-23T10:14:09.965209Z"
    },
    "papermill": {
     "duration": 0.307345,
     "end_time": "2021-08-23T10:14:09.965852",
     "exception": false,
     "start_time": "2021-08-23T10:14:09.658507",
     "status": "completed"
    },
    "tags": []
   },
   "outputs": [
    {
     "data": {
      "text/plain": [
       "<matplotlib.legend.Legend at 0x7f712124ea20>"
      ]
     },
     "execution_count": 24,
     "metadata": {},
     "output_type": "execute_result"
    },
    {
     "data": {
      "image/png": "[encoded data removed]",
      "text/plain": [
       "<Figure size 1080x720 with 1 Axes>"
      ]
     },
     "metadata": {
      "needs_background": "light"
     },
     "output_type": "display_data"
    }
   ],
   "source": [
    "#comparing the results of NN and LR\n",
    "plt.figure(figsize=(15,10))\n",
    "\n",
    "# Neural Network plots\n",
    "plt.plot(acc_nn.accuracies, 'r-', label = \"Training Accuracies - NN\")\n",
    "plt.plot(acc_nn.test_accuracies, 'g-', label = \"Testing Accuracies - NN\")\n",
    "\n",
    "# Logistic Regression plots\n",
    "plt.plot(acc_lr.accuracies, 'k-', label = \"Training Accuracies - LR\")\n",
    "plt.plot(acc_lr.test_accuracies, 'b-', label = \"Testing Accuracies - LR\")\n",
    "plt.legend()"
   ]
  },
  {
   "cell_type": "markdown",
   "id": "80dfb35c",
   "metadata": {
    "papermill": {
     "duration": 0.052764,
     "end_time": "2021-08-23T10:14:10.065373",
     "exception": false,
     "start_time": "2021-08-23T10:14:10.012609",
     "status": "completed"
    },
    "tags": []
   },
   "source": [
    "#### Plotting the outputs of this layer of the NN.\n"
   ]
  },
  {
   "cell_type": "code",
   "execution_count": 25,
   "id": "45eb2ff5",
   "metadata": {
    "execution": {
     "iopub.execute_input": "2021-08-23T10:14:10.164024Z",
     "iopub.status.busy": "2021-08-23T10:14:10.163360Z",
     "iopub.status.idle": "2021-08-23T10:14:10.184971Z",
     "shell.execute_reply": "2021-08-23T10:14:10.185461Z"
    },
    "papermill": {
     "duration": 0.074623,
     "end_time": "2021-08-23T10:14:10.185604",
     "exception": false,
     "start_time": "2021-08-23T10:14:10.110981",
     "status": "completed"
    },
    "tags": []
   },
   "outputs": [],
   "source": [
    "new_model = Model(layers[:-2])\n",
    "testing_plot = new_model(testing_data_x)"
   ]
  },
  {
   "cell_type": "code",
   "execution_count": 26,
   "id": "4c0a5485",
   "metadata": {
    "execution": {
     "iopub.execute_input": "2021-08-23T10:14:10.293132Z",
     "iopub.status.busy": "2021-08-23T10:14:10.292587Z",
     "iopub.status.idle": "2021-08-23T10:14:10.519729Z",
     "shell.execute_reply": "2021-08-23T10:14:10.519231Z"
    },
    "papermill": {
     "duration": 0.278848,
     "end_time": "2021-08-23T10:14:10.519874",
     "exception": false,
     "start_time": "2021-08-23T10:14:10.241026",
     "status": "completed"
    },
    "tags": []
   },
   "outputs": [
    {
     "data": {
      "text/plain": [
       "Text(0.5, 1.0, 'Outputs')"
      ]
     },
     "execution_count": 26,
     "metadata": {},
     "output_type": "execute_result"
    },
    {
     "data": {
      "image/png": "[encoded data removed]",
      "text/plain": [
       "<Figure size 576x504 with 1 Axes>"
      ]
     },
     "metadata": {
      "needs_background": "light"
     },
     "output_type": "display_data"
    }
   ],
   "source": [
    "# Plotting the scatter plot of points and color coding by class\n",
    "plt.figure(figsize=(8,7))\n",
    "plt.scatter(testing_plot[:,0], testing_plot[:,1], alpha = 0.1, c = y_test.ravel());\n",
    "plt.title('Outputs')"
   ]
  },
  {
   "cell_type": "markdown",
   "id": "a74fcf8f",
   "metadata": {
    "papermill": {
     "duration": 0.048072,
     "end_time": "2021-08-23T10:14:10.615597",
     "exception": false,
     "start_time": "2021-08-23T10:14:10.567525",
     "status": "completed"
    },
    "tags": []
   },
   "source": [
    "Probability contours"
   ]
  },
  {
   "cell_type": "code",
   "execution_count": 27,
   "id": "d0afc8e3",
   "metadata": {
    "execution": {
     "iopub.execute_input": "2021-08-23T10:14:10.750096Z",
     "iopub.status.busy": "2021-08-23T10:14:10.744394Z",
     "iopub.status.idle": "2021-08-23T10:14:10.758202Z",
     "shell.execute_reply": "2021-08-23T10:14:10.758638Z"
    },
    "papermill": {
     "duration": 0.06879,
     "end_time": "2021-08-23T10:14:10.758764",
     "exception": false,
     "start_time": "2021-08-23T10:14:10.689974",
     "status": "completed"
    },
    "tags": []
   },
   "outputs": [],
   "source": [
    "model_prob = Model(layers[-2:]) "
   ]
  },
  {
   "cell_type": "code",
   "execution_count": 28,
   "id": "9b96e238",
   "metadata": {
    "execution": {
     "iopub.execute_input": "2021-08-23T10:14:10.859441Z",
     "iopub.status.busy": "2021-08-23T10:14:10.858895Z",
     "iopub.status.idle": "2021-08-23T10:14:10.873032Z",
     "shell.execute_reply": "2021-08-23T10:14:10.873445Z"
    },
    "papermill": {
     "duration": 0.067182,
     "end_time": "2021-08-23T10:14:10.873569",
     "exception": false,
     "start_time": "2021-08-23T10:14:10.806387",
     "status": "completed"
    },
    "tags": []
   },
   "outputs": [],
   "source": [
    "#creating the x and y ranges according to the above generated plot.\n",
    "x_range = np.linspace(-4, 1, 100) \n",
    "y_range = np.linspace(-6, 6, 100) \n",
    "x_grid, y_grid = np.meshgrid(x_range, y_range) # x_grid and y_grig are of size 100 X 100\n",
    "\n",
    "# converting x_grid and y_grid to continuous arrays\n",
    "x_gridflat = np.ravel(x_grid)\n",
    "y_gridflat = np.ravel(y_grid)\n",
    "\n",
    "# The last layer of the current model takes two columns as input. Hence transpose of np.vstack() is required.\n",
    "X = np.vstack((x_gridflat, y_gridflat)).T\n",
    "\n",
    "prob_contour = model_prob(X).reshape(100,100) "
   ]
  },
  {
   "cell_type": "code",
   "execution_count": 29,
   "id": "da72499a",
   "metadata": {
    "execution": {
     "iopub.execute_input": "2021-08-23T10:14:10.988887Z",
     "iopub.status.busy": "2021-08-23T10:14:10.988347Z",
     "iopub.status.idle": "2021-08-23T10:14:11.270777Z",
     "shell.execute_reply": "2021-08-23T10:14:11.271340Z"
    },
    "papermill": {
     "duration": 0.34187,
     "end_time": "2021-08-23T10:14:11.271506",
     "exception": false,
     "start_time": "2021-08-23T10:14:10.929636",
     "status": "completed"
    },
    "tags": []
   },
   "outputs": [
    {
     "data": {
      "image/png": "[encoded data removed]",
      "text/plain": [
       "<Figure size 720x648 with 1 Axes>"
      ]
     },
     "metadata": {
      "needs_background": "light"
     },
     "output_type": "display_data"
    }
   ],
   "source": [
    "plt.figure(figsize=(10,9))\n",
    "plt.scatter(testing_plot[:,0], testing_plot[:,1], alpha = 0.1, c = y_test.ravel())\n",
    "contours = plt.contour(x_grid,y_grid,prob_contour)\n",
    "plt.title('Probability Contours')\n",
    "plt.clabel(contours, inline = True );"
   ]
  },
  {
   "cell_type": "code",
   "execution_count": null,
   "id": "e81b4ac7",
   "metadata": {
    "papermill": {
     "duration": 0.050591,
     "end_time": "2021-08-23T10:14:11.375077",
     "exception": false,
     "start_time": "2021-08-23T10:14:11.324486",
     "status": "completed"
    },
    "tags": []
   },
   "outputs": [],
   "source": []
  }
 ],
 "metadata": {
  "kernelspec": {
   "display_name": "Python 3",
   "language": "python",
   "name": "python3"
  },
  "language_info": {
   "codemirror_mode": {
    "name": "ipython",
    "version": 3
   },
   "file_extension": ".py",
   "mimetype": "text/x-python",
   "name": "python",
   "nbconvert_exporter": "python",
   "pygments_lexer": "ipython3",
   "version": "3.6.14"
  },
  "papermill": {
   "default_parameters": {},
   "duration": 457.234263,
   "end_time": "2021-08-23T10:14:11.834855",
   "environment_variables": {},
   "exception": null,
   "input_path": "2020-08-11-part2.ipynb",
   "output_path": "2020-08-11-part2.ipynb",
   "parameters": {},
   "start_time": "2021-08-23T10:06:34.600592",
   "version": "2.3.3"
  }
 },
 "nbformat": 4,
 "nbformat_minor": 5
}