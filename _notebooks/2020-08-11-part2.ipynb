{
 "cells": [
  {
   "cell_type": "markdown",
   "id": "98380cd3",
   "metadata": {
    "papermill": {
     "duration": 0.033257,
     "end_time": "2022-03-08T20:09:47.878795",
     "exception": false,
     "start_time": "2022-03-08T20:09:47.845538",
     "status": "completed"
    },
    "tags": []
   },
   "source": [
    "# Distinguish Your Own Digits (DYOD)"
   ]
  },
  {
   "cell_type": "markdown",
   "id": "ef31240d",
   "metadata": {
    "papermill": {
     "duration": 0.026784,
     "end_time": "2022-03-08T20:09:47.931788",
     "exception": false,
     "start_time": "2022-03-08T20:09:47.905004",
     "status": "completed"
    },
    "tags": []
   },
   "source": [
    "You are going to write a classifier that distinguishes between the number 3 and number 8."
   ]
  },
  {
   "cell_type": "code",
   "execution_count": 1,
   "id": "b15c8646",
   "metadata": {
    "execution": {
     "iopub.execute_input": "2022-03-08T20:09:47.994649Z",
     "iopub.status.busy": "2022-03-08T20:09:47.994039Z",
     "iopub.status.idle": "2022-03-08T20:09:48.004887Z",
     "shell.execute_reply": "2022-03-08T20:09:48.004415Z"
    },
    "papermill": {
     "duration": 0.047882,
     "end_time": "2022-03-08T20:09:48.005020",
     "exception": false,
     "start_time": "2022-03-08T20:09:47.957138",
     "status": "completed"
    },
    "tags": []
   },
   "outputs": [],
   "source": [
    "%load_ext autoreload\n",
    "%autoreload 2"
   ]
  },
  {
   "cell_type": "code",
   "execution_count": 2,
   "id": "22ef38dc",
   "metadata": {
    "execution": {
     "iopub.execute_input": "2022-03-08T20:09:48.058607Z",
     "iopub.status.busy": "2022-03-08T20:09:48.058055Z",
     "iopub.status.idle": "2022-03-08T20:09:48.697498Z",
     "shell.execute_reply": "2022-03-08T20:09:48.696981Z"
    },
    "papermill": {
     "duration": 0.668619,
     "end_time": "2022-03-08T20:09:48.697633",
     "exception": false,
     "start_time": "2022-03-08T20:09:48.029014",
     "status": "completed"
    },
    "tags": []
   },
   "outputs": [],
   "source": [
    "%matplotlib inline\n",
    "import numpy as np\n",
    "import matplotlib.pyplot as plt\n",
    "import pandas as pd"
   ]
  },
  {
   "cell_type": "markdown",
   "id": "ba036198",
   "metadata": {
    "papermill": {
     "duration": 0.02619,
     "end_time": "2022-03-08T20:09:48.750025",
     "exception": false,
     "start_time": "2022-03-08T20:09:48.723835",
     "status": "completed"
    },
    "tags": []
   },
   "source": [
    "From the command line run `pip install mnist`. This is a library that will help you bring down the mnist dataset. If you run this from a notebook, you need to put  `!pip install mnist` in a cell by itself."
   ]
  },
  {
   "cell_type": "code",
   "execution_count": 3,
   "id": "bb6ad8a1",
   "metadata": {
    "execution": {
     "iopub.execute_input": "2022-03-08T20:09:48.809030Z",
     "iopub.status.busy": "2022-03-08T20:09:48.808415Z",
     "iopub.status.idle": "2022-03-08T20:09:50.759235Z",
     "shell.execute_reply": "2022-03-08T20:09:50.758098Z"
    },
    "papermill": {
     "duration": 1.983697,
     "end_time": "2022-03-08T20:09:50.759380",
     "exception": false,
     "start_time": "2022-03-08T20:09:48.775683",
     "status": "completed"
    },
    "tags": []
   },
   "outputs": [
    {
     "name": "stdout",
     "output_type": "stream",
     "text": [
      "Collecting mnist\r\n"
     ]
    },
    {
     "name": "stdout",
     "output_type": "stream",
     "text": [
      "  Downloading mnist-0.2.2-py2.py3-none-any.whl (3.5 kB)\r\n",
      "Requirement already satisfied: numpy in /opt/hostedtoolcache/Python/3.6.15/x64/lib/python3.6/site-packages (from mnist) (1.19.5)\r\n"
     ]
    },
    {
     "name": "stdout",
     "output_type": "stream",
     "text": [
      "Installing collected packages: mnist\r\n"
     ]
    },
    {
     "name": "stdout",
     "output_type": "stream",
     "text": [
      "Successfully installed mnist-0.2.2\r\n"
     ]
    }
   ],
   "source": [
    "!pip install mnist"
   ]
  },
  {
   "cell_type": "markdown",
   "id": "69df9c9a",
   "metadata": {
    "papermill": {
     "duration": 0.027373,
     "end_time": "2022-03-08T20:09:50.813846",
     "exception": false,
     "start_time": "2022-03-08T20:09:50.786473",
     "status": "completed"
    },
    "tags": []
   },
   "source": [
    "## Preparing the Data"
   ]
  },
  {
   "cell_type": "code",
   "execution_count": 4,
   "id": "7f69d806",
   "metadata": {
    "execution": {
     "iopub.execute_input": "2022-03-08T20:09:50.873227Z",
     "iopub.status.busy": "2022-03-08T20:09:50.872621Z",
     "iopub.status.idle": "2022-03-08T20:09:50.891295Z",
     "shell.execute_reply": "2022-03-08T20:09:50.890808Z"
    },
    "papermill": {
     "duration": 0.050392,
     "end_time": "2022-03-08T20:09:50.891428",
     "exception": false,
     "start_time": "2022-03-08T20:09:50.841036",
     "status": "completed"
    },
    "tags": []
   },
   "outputs": [],
   "source": [
    "import mnist"
   ]
  },
  {
   "cell_type": "code",
   "execution_count": 5,
   "id": "a411e44f",
   "metadata": {
    "execution": {
     "iopub.execute_input": "2022-03-08T20:09:50.952676Z",
     "iopub.status.busy": "2022-03-08T20:09:50.952110Z",
     "iopub.status.idle": "2022-03-08T20:09:51.533152Z",
     "shell.execute_reply": "2022-03-08T20:09:51.533682Z"
    },
    "papermill": {
     "duration": 0.61455,
     "end_time": "2022-03-08T20:09:51.533852",
     "exception": false,
     "start_time": "2022-03-08T20:09:50.919302",
     "status": "completed"
    },
    "tags": []
   },
   "outputs": [],
   "source": [
    "train_images = mnist.train_images()\n",
    "train_labels = mnist.train_labels()"
   ]
  },
  {
   "cell_type": "code",
   "execution_count": 6,
   "id": "dceab3a5",
   "metadata": {
    "execution": {
     "iopub.execute_input": "2022-03-08T20:09:51.592660Z",
     "iopub.status.busy": "2022-03-08T20:09:51.592007Z",
     "iopub.status.idle": "2022-03-08T20:09:51.607778Z",
     "shell.execute_reply": "2022-03-08T20:09:51.608199Z"
    },
    "papermill": {
     "duration": 0.047143,
     "end_time": "2022-03-08T20:09:51.608350",
     "exception": false,
     "start_time": "2022-03-08T20:09:51.561207",
     "status": "completed"
    },
    "tags": []
   },
   "outputs": [
    {
     "data": {
      "text/plain": [
       "((60000, 28, 28), (60000,))"
      ]
     },
     "execution_count": 6,
     "metadata": {},
     "output_type": "execute_result"
    }
   ],
   "source": [
    "train_images.shape, train_labels.shape"
   ]
  },
  {
   "cell_type": "code",
   "execution_count": 7,
   "id": "f50dc2bb",
   "metadata": {
    "execution": {
     "iopub.execute_input": "2022-03-08T20:09:51.667524Z",
     "iopub.status.busy": "2022-03-08T20:09:51.666936Z",
     "iopub.status.idle": "2022-03-08T20:09:51.842750Z",
     "shell.execute_reply": "2022-03-08T20:09:51.841843Z"
    },
    "papermill": {
     "duration": 0.207107,
     "end_time": "2022-03-08T20:09:51.842975",
     "exception": false,
     "start_time": "2022-03-08T20:09:51.635868",
     "status": "completed"
    },
    "tags": []
   },
   "outputs": [],
   "source": [
    "test_images = mnist.test_images()\n",
    "test_labels = mnist.test_labels()"
   ]
  },
  {
   "cell_type": "code",
   "execution_count": 8,
   "id": "fc38cf1b",
   "metadata": {
    "execution": {
     "iopub.execute_input": "2022-03-08T20:09:51.907006Z",
     "iopub.status.busy": "2022-03-08T20:09:51.906413Z",
     "iopub.status.idle": "2022-03-08T20:09:51.919532Z",
     "shell.execute_reply": "2022-03-08T20:09:51.920029Z"
    },
    "papermill": {
     "duration": 0.048064,
     "end_time": "2022-03-08T20:09:51.920182",
     "exception": false,
     "start_time": "2022-03-08T20:09:51.872118",
     "status": "completed"
    },
    "tags": []
   },
   "outputs": [
    {
     "data": {
      "text/plain": [
       "((10000, 28, 28), (10000,))"
      ]
     },
     "execution_count": 8,
     "metadata": {},
     "output_type": "execute_result"
    }
   ],
   "source": [
    "test_images.shape, test_labels.shape"
   ]
  },
  {
   "cell_type": "code",
   "execution_count": 9,
   "id": "f9ed8fe0",
   "metadata": {
    "execution": {
     "iopub.execute_input": "2022-03-08T20:09:52.010828Z",
     "iopub.status.busy": "2022-03-08T20:09:51.988431Z",
     "iopub.status.idle": "2022-03-08T20:09:52.141829Z",
     "shell.execute_reply": "2022-03-08T20:09:52.141308Z"
    },
    "papermill": {
     "duration": 0.193268,
     "end_time": "2022-03-08T20:09:52.141967",
     "exception": false,
     "start_time": "2022-03-08T20:09:51.948699",
     "status": "completed"
    },
    "tags": []
   },
   "outputs": [
    {
     "name": "stdout",
     "output_type": "stream",
     "text": [
      "2\n"
     ]
    },
    {
     "data": {
      "text/plain": [
       "<matplotlib.image.AxesImage at 0x7ff054ccd6d8>"
      ]
     },
     "execution_count": 9,
     "metadata": {},
     "output_type": "execute_result"
    },
    {
     "data": {
      "image/png": "[encoded data removed]",
      "text/plain": [
       "<Figure size 432x288 with 1 Axes>"
      ]
     },
     "metadata": {
      "needs_background": "light"
     },
     "output_type": "display_data"
    }
   ],
   "source": [
    "image_index = 7776 # You may select anything up to 60,000\n",
    "print(train_labels[image_index]) \n",
    "plt.imshow(train_images[image_index], cmap='Greys')"
   ]
  },
  {
   "cell_type": "markdown",
   "id": "a8d2388d",
   "metadata": {
    "papermill": {
     "duration": 0.030297,
     "end_time": "2022-03-08T20:09:52.202125",
     "exception": false,
     "start_time": "2022-03-08T20:09:52.171828",
     "status": "completed"
    },
    "tags": []
   },
   "source": [
    "## Filter data to get 3 and 8 out"
   ]
  },
  {
   "cell_type": "code",
   "execution_count": 10,
   "id": "776f7fc7",
   "metadata": {
    "execution": {
     "iopub.execute_input": "2022-03-08T20:09:52.269103Z",
     "iopub.status.busy": "2022-03-08T20:09:52.268525Z",
     "iopub.status.idle": "2022-03-08T20:09:52.288489Z",
     "shell.execute_reply": "2022-03-08T20:09:52.287941Z"
    },
    "papermill": {
     "duration": 0.057127,
     "end_time": "2022-03-08T20:09:52.288634",
     "exception": false,
     "start_time": "2022-03-08T20:09:52.231507",
     "status": "completed"
    },
    "tags": []
   },
   "outputs": [],
   "source": [
    "train_filter = np.where((train_labels == 3 ) | (train_labels == 8))\n",
    "test_filter = np.where((test_labels == 3) | (test_labels == 8))\n",
    "X_train, y_train = train_images[train_filter], train_labels[train_filter]\n",
    "X_test, y_test = test_images[test_filter], test_labels[test_filter]"
   ]
  },
  {
   "cell_type": "markdown",
   "id": "948f0b7e",
   "metadata": {
    "papermill": {
     "duration": 0.029131,
     "end_time": "2022-03-08T20:09:52.346825",
     "exception": false,
     "start_time": "2022-03-08T20:09:52.317694",
     "status": "completed"
    },
    "tags": []
   },
   "source": [
    "We normalize the pizel values in the 0 to 1 range"
   ]
  },
  {
   "cell_type": "code",
   "execution_count": 11,
   "id": "ee4c2166",
   "metadata": {
    "execution": {
     "iopub.execute_input": "2022-03-08T20:09:52.408139Z",
     "iopub.status.busy": "2022-03-08T20:09:52.407555Z",
     "iopub.status.idle": "2022-03-08T20:09:52.463169Z",
     "shell.execute_reply": "2022-03-08T20:09:52.462610Z"
    },
    "papermill": {
     "duration": 0.088336,
     "end_time": "2022-03-08T20:09:52.463316",
     "exception": false,
     "start_time": "2022-03-08T20:09:52.374980",
     "status": "completed"
    },
    "tags": []
   },
   "outputs": [],
   "source": [
    "X_train = X_train/255.\n",
    "X_test = X_test/255."
   ]
  },
  {
   "cell_type": "markdown",
   "id": "ddcf4fab",
   "metadata": {
    "papermill": {
     "duration": 0.028689,
     "end_time": "2022-03-08T20:09:52.521153",
     "exception": false,
     "start_time": "2022-03-08T20:09:52.492464",
     "status": "completed"
    },
    "tags": []
   },
   "source": [
    "And setup the labels as 1 (when the digit is 3) and 0 (when the digit is 8)"
   ]
  },
  {
   "cell_type": "code",
   "execution_count": 12,
   "id": "7dc908f2",
   "metadata": {
    "execution": {
     "iopub.execute_input": "2022-03-08T20:09:52.586504Z",
     "iopub.status.busy": "2022-03-08T20:09:52.585893Z",
     "iopub.status.idle": "2022-03-08T20:09:52.598717Z",
     "shell.execute_reply": "2022-03-08T20:09:52.598226Z"
    },
    "papermill": {
     "duration": 0.048737,
     "end_time": "2022-03-08T20:09:52.598852",
     "exception": false,
     "start_time": "2022-03-08T20:09:52.550115",
     "status": "completed"
    },
    "tags": []
   },
   "outputs": [],
   "source": [
    "y_train = 1*(y_train==3)\n",
    "y_test = 1*(y_test==3)"
   ]
  },
  {
   "cell_type": "code",
   "execution_count": 13,
   "id": "01e4e969",
   "metadata": {
    "execution": {
     "iopub.execute_input": "2022-03-08T20:09:52.661915Z",
     "iopub.status.busy": "2022-03-08T20:09:52.661360Z",
     "iopub.status.idle": "2022-03-08T20:09:52.676789Z",
     "shell.execute_reply": "2022-03-08T20:09:52.676046Z"
    },
    "papermill": {
     "duration": 0.048891,
     "end_time": "2022-03-08T20:09:52.676917",
     "exception": false,
     "start_time": "2022-03-08T20:09:52.628026",
     "status": "completed"
    },
    "tags": []
   },
   "outputs": [
    {
     "data": {
      "text/plain": [
       "((11982, 28, 28), (1984, 28, 28))"
      ]
     },
     "execution_count": 13,
     "metadata": {},
     "output_type": "execute_result"
    }
   ],
   "source": [
    "X_train.shape, X_test.shape"
   ]
  },
  {
   "cell_type": "markdown",
   "id": "5ccf3f85",
   "metadata": {
    "papermill": {
     "duration": 0.028869,
     "end_time": "2022-03-08T20:09:52.734863",
     "exception": false,
     "start_time": "2022-03-08T20:09:52.705994",
     "status": "completed"
    },
    "tags": []
   },
   "source": [
    "We reshape the data to flatten the image pixels into a set of features or co-variates:"
   ]
  },
  {
   "cell_type": "code",
   "execution_count": 14,
   "id": "5286a4a3",
   "metadata": {
    "execution": {
     "iopub.execute_input": "2022-03-08T20:09:52.799442Z",
     "iopub.status.busy": "2022-03-08T20:09:52.798862Z",
     "iopub.status.idle": "2022-03-08T20:09:52.814577Z",
     "shell.execute_reply": "2022-03-08T20:09:52.814123Z"
    },
    "papermill": {
     "duration": 0.050233,
     "end_time": "2022-03-08T20:09:52.814700",
     "exception": false,
     "start_time": "2022-03-08T20:09:52.764467",
     "status": "completed"
    },
    "tags": []
   },
   "outputs": [
    {
     "data": {
      "text/plain": [
       "((11982, 784), (1984, 784))"
      ]
     },
     "execution_count": 14,
     "metadata": {},
     "output_type": "execute_result"
    }
   ],
   "source": [
    "X_train = X_train.reshape(X_train.shape[0], -1)\n",
    "X_test = X_test.reshape(X_test.shape[0], -1)\n",
    "X_train.shape, X_test.shape"
   ]
  },
  {
   "cell_type": "code",
   "execution_count": 15,
   "id": "73c5f88a",
   "metadata": {
    "execution": {
     "iopub.execute_input": "2022-03-08T20:09:52.877919Z",
     "iopub.status.busy": "2022-03-08T20:09:52.877316Z",
     "iopub.status.idle": "2022-03-08T20:09:52.900692Z",
     "shell.execute_reply": "2022-03-08T20:09:52.901121Z"
    },
    "papermill": {
     "duration": 0.056606,
     "end_time": "2022-03-08T20:09:52.901272",
     "exception": false,
     "start_time": "2022-03-08T20:09:52.844666",
     "status": "completed"
    },
    "tags": []
   },
   "outputs": [],
   "source": [
    "#Impoting functions from 'Kudzu'\n",
    "from kudzu.model import Model\n",
    "from kudzu.train import Learner\n",
    "from kudzu.optim import GD\n",
    "from kudzu.data import Data, Sampler,Dataloader\n",
    "\n",
    "from kudzu.callbacks import AccCallback\n",
    "from kudzu.callbacks import ClfCallback\n",
    "\n",
    "from kudzu.loss import MSE\n",
    "\n",
    "from kudzu.layer import Sigmoid,Relu\n",
    "from kudzu.layer import Affine"
   ]
  },
  {
   "cell_type": "markdown",
   "id": "bc01172a",
   "metadata": {
    "papermill": {
     "duration": 0.029703,
     "end_time": "2022-03-08T20:09:52.961295",
     "exception": false,
     "start_time": "2022-03-08T20:09:52.931592",
     "status": "completed"
    },
    "tags": []
   },
   "source": [
    "### Let us create a `Config` class, to store important parameters. \n",
    "This class essentially plays the role of a dictionary."
   ]
  },
  {
   "cell_type": "code",
   "execution_count": 16,
   "id": "978281aa",
   "metadata": {
    "execution": {
     "iopub.execute_input": "2022-03-08T20:09:53.025628Z",
     "iopub.status.busy": "2022-03-08T20:09:53.025062Z",
     "iopub.status.idle": "2022-03-08T20:09:53.038178Z",
     "shell.execute_reply": "2022-03-08T20:09:53.037681Z"
    },
    "papermill": {
     "duration": 0.047875,
     "end_time": "2022-03-08T20:09:53.038302",
     "exception": false,
     "start_time": "2022-03-08T20:09:52.990427",
     "status": "completed"
    },
    "tags": []
   },
   "outputs": [],
   "source": [
    "class Config:\n",
    "    pass\n",
    "config = Config()\n",
    "config.lr = 0.001\n",
    "config.num_epochs = 250\n",
    "config.bs = 50"
   ]
  },
  {
   "cell_type": "markdown",
   "id": "1385fa59",
   "metadata": {
    "papermill": {
     "duration": 0.029725,
     "end_time": "2022-03-08T20:09:53.097804",
     "exception": false,
     "start_time": "2022-03-08T20:09:53.068079",
     "status": "completed"
    },
    "tags": []
   },
   "source": [
    "### Running Models with the Training data\n",
    "Details about the network layers:\n",
    "- A first affine layer has 784 inputs and does 100 affine transforms. These are followed by a Relu\n",
    "- A second affine layer has 100 inputs from the 100 activations of the past layer, and does 100 affine transforms. These are followed by a Relu\n",
    "- A third affine layer has 100 activations and does 2 affine transformations to create an embedding for visualization. There is no non-linearity here.\n",
    "- A final \"logistic regression\" which has an affine transform from 2 inputs to 1 output, which is squeezed through a sigmoid.\n"
   ]
  },
  {
   "cell_type": "code",
   "execution_count": 17,
   "id": "2b9c66db",
   "metadata": {
    "execution": {
     "iopub.execute_input": "2022-03-08T20:09:53.164688Z",
     "iopub.status.busy": "2022-03-08T20:09:53.164126Z",
     "iopub.status.idle": "2022-03-08T20:09:53.177823Z",
     "shell.execute_reply": "2022-03-08T20:09:53.177329Z"
    },
    "papermill": {
     "duration": 0.049815,
     "end_time": "2022-03-08T20:09:53.177953",
     "exception": false,
     "start_time": "2022-03-08T20:09:53.128138",
     "status": "completed"
    },
    "tags": []
   },
   "outputs": [],
   "source": [
    "data = Data(X_train, y_train.reshape(-1,1))\n",
    "sampler = Sampler(data, config.bs, shuffle=True)\n",
    "\n",
    "dl = Dataloader(data, sampler)\n",
    "\n",
    "opt = GD(config.lr)\n",
    "loss = MSE()"
   ]
  },
  {
   "cell_type": "code",
   "execution_count": 18,
   "id": "b275e4c2",
   "metadata": {
    "execution": {
     "iopub.execute_input": "2022-03-08T20:09:53.242789Z",
     "iopub.status.busy": "2022-03-08T20:09:53.242192Z",
     "iopub.status.idle": "2022-03-08T20:09:53.256053Z",
     "shell.execute_reply": "2022-03-08T20:09:53.256504Z"
    },
    "papermill": {
     "duration": 0.048952,
     "end_time": "2022-03-08T20:09:53.256658",
     "exception": false,
     "start_time": "2022-03-08T20:09:53.207706",
     "status": "completed"
    },
    "tags": []
   },
   "outputs": [],
   "source": [
    "training_data_x = X_train\n",
    "testing_data_x = X_test\n",
    "training_data_y = y_train.reshape(-1,1)\n",
    "testing_data_y = y_test.reshape(-1,1)"
   ]
  },
  {
   "cell_type": "code",
   "execution_count": 19,
   "id": "76951160",
   "metadata": {
    "execution": {
     "iopub.execute_input": "2022-03-08T20:09:53.324881Z",
     "iopub.status.busy": "2022-03-08T20:09:53.324310Z",
     "iopub.status.idle": "2022-03-08T20:09:53.341426Z",
     "shell.execute_reply": "2022-03-08T20:09:53.340924Z"
    },
    "papermill": {
     "duration": 0.055337,
     "end_time": "2022-03-08T20:09:53.341551",
     "exception": false,
     "start_time": "2022-03-08T20:09:53.286214",
     "status": "completed"
    },
    "tags": []
   },
   "outputs": [
    {
     "name": "stdout",
     "output_type": "stream",
     "text": [
      "xavier\n",
      "xavier\n",
      "xavier\n",
      "xavier\n",
      "xavier\n"
     ]
    }
   ],
   "source": [
    "layers = [Affine(\"first\", 784, 100), Relu(\"first\"), Affine(\"second\", 100, 100), Relu(\"second\"), Affine(\"third\", 100, 2), Affine(\"last\", 2, 1), Sigmoid(\"last\")]\n",
    "model_nn = Model(layers)\n",
    "model_lr = Model([Affine(\"logits\", 784, 1), Sigmoid(\"sigmoid\")])"
   ]
  },
  {
   "cell_type": "code",
   "execution_count": 20,
   "id": "6eede77a",
   "metadata": {
    "execution": {
     "iopub.execute_input": "2022-03-08T20:09:53.408436Z",
     "iopub.status.busy": "2022-03-08T20:09:53.407850Z",
     "iopub.status.idle": "2022-03-08T20:09:53.419741Z",
     "shell.execute_reply": "2022-03-08T20:09:53.419230Z"
    },
    "papermill": {
     "duration": 0.048747,
     "end_time": "2022-03-08T20:09:53.419877",
     "exception": false,
     "start_time": "2022-03-08T20:09:53.371130",
     "status": "completed"
    },
    "tags": []
   },
   "outputs": [],
   "source": [
    "nn_learner = Learner(loss, model_nn, opt, config.num_epochs)\n",
    "acc_nn = ClfCallback(nn_learner, config.bs, training_data_x , testing_data_x, training_data_y, testing_data_y)\n",
    "nn_learner.set_callbacks([acc_nn])"
   ]
  },
  {
   "cell_type": "code",
   "execution_count": 21,
   "id": "877b6cc7",
   "metadata": {
    "execution": {
     "iopub.execute_input": "2022-03-08T20:09:53.488142Z",
     "iopub.status.busy": "2022-03-08T20:09:53.487542Z",
     "iopub.status.idle": "2022-03-08T20:09:53.498770Z",
     "shell.execute_reply": "2022-03-08T20:09:53.498293Z"
    },
    "papermill": {
     "duration": 0.050562,
     "end_time": "2022-03-08T20:09:53.498896",
     "exception": false,
     "start_time": "2022-03-08T20:09:53.448334",
     "status": "completed"
    },
    "tags": []
   },
   "outputs": [],
   "source": [
    "lr_learner = Learner(loss, model_lr, opt, config.num_epochs)\n",
    "acc_lr = ClfCallback(lr_learner, config.bs, training_data_x , testing_data_x, training_data_y, testing_data_y)\n",
    "lr_learner.set_callbacks([acc_lr])"
   ]
  },
  {
   "cell_type": "code",
   "execution_count": 22,
   "id": "d9b133c3",
   "metadata": {
    "execution": {
     "iopub.execute_input": "2022-03-08T20:09:53.561908Z",
     "iopub.status.busy": "2022-03-08T20:09:53.561316Z",
     "iopub.status.idle": "2022-03-08T20:11:19.706115Z",
     "shell.execute_reply": "2022-03-08T20:11:19.705612Z"
    },
    "papermill": {
     "duration": 86.17862,
     "end_time": "2022-03-08T20:11:19.706253",
     "exception": false,
     "start_time": "2022-03-08T20:09:53.527633",
     "status": "completed"
    },
    "tags": []
   },
   "outputs": [
    {
     "name": "stdout",
     "output_type": "stream",
     "text": [
      "Epoch 0, Loss 0.2679\n",
      "Training Accuracy: 0.5916, Testing Accuracy: 0.5912\n",
      "\n"
     ]
    },
    {
     "name": "stdout",
     "output_type": "stream",
     "text": [
      "Epoch 10, Loss 0.0755\n",
      "Training Accuracy: 0.9277, Testing Accuracy: 0.9340\n",
      "\n"
     ]
    },
    {
     "name": "stdout",
     "output_type": "stream",
     "text": [
      "Epoch 20, Loss 0.0495\n",
      "Training Accuracy: 0.9480, Testing Accuracy: 0.9556\n",
      "\n"
     ]
    },
    {
     "name": "stdout",
     "output_type": "stream",
     "text": [
      "Epoch 30, Loss 0.0403\n",
      "Training Accuracy: 0.9560, Testing Accuracy: 0.9607\n",
      "\n"
     ]
    },
    {
     "name": "stdout",
     "output_type": "stream",
     "text": [
      "Epoch 40, Loss 0.0355\n",
      "Training Accuracy: 0.9601, Testing Accuracy: 0.9622\n",
      "\n"
     ]
    },
    {
     "name": "stdout",
     "output_type": "stream",
     "text": [
      "Epoch 50, Loss 0.0324\n",
      "Training Accuracy: 0.9632, Testing Accuracy: 0.9632\n",
      "\n"
     ]
    },
    {
     "name": "stdout",
     "output_type": "stream",
     "text": [
      "Epoch 60, Loss 0.0302\n",
      "Training Accuracy: 0.9654, Testing Accuracy: 0.9642\n",
      "\n"
     ]
    },
    {
     "name": "stdout",
     "output_type": "stream",
     "text": [
      "Epoch 70, Loss 0.0286\n",
      "Training Accuracy: 0.9673, Testing Accuracy: 0.9657\n",
      "\n"
     ]
    },
    {
     "name": "stdout",
     "output_type": "stream",
     "text": [
      "Epoch 80, Loss 0.0272\n",
      "Training Accuracy: 0.9687, Testing Accuracy: 0.9672\n",
      "\n"
     ]
    },
    {
     "name": "stdout",
     "output_type": "stream",
     "text": [
      "Epoch 90, Loss 0.0261\n",
      "Training Accuracy: 0.9700, Testing Accuracy: 0.9677\n",
      "\n"
     ]
    },
    {
     "name": "stdout",
     "output_type": "stream",
     "text": [
      "Epoch 100, Loss 0.0251\n",
      "Training Accuracy: 0.9714, Testing Accuracy: 0.9688\n",
      "\n"
     ]
    },
    {
     "name": "stdout",
     "output_type": "stream",
     "text": [
      "Epoch 110, Loss 0.0243\n",
      "Training Accuracy: 0.9723, Testing Accuracy: 0.9677\n",
      "\n"
     ]
    },
    {
     "name": "stdout",
     "output_type": "stream",
     "text": [
      "Epoch 120, Loss 0.0235\n",
      "Training Accuracy: 0.9733, Testing Accuracy: 0.9677\n",
      "\n"
     ]
    },
    {
     "name": "stdout",
     "output_type": "stream",
     "text": [
      "Epoch 130, Loss 0.0229\n",
      "Training Accuracy: 0.9739, Testing Accuracy: 0.9688\n",
      "\n"
     ]
    },
    {
     "name": "stdout",
     "output_type": "stream",
     "text": [
      "Epoch 140, Loss 0.0222\n",
      "Training Accuracy: 0.9742, Testing Accuracy: 0.9682\n",
      "\n"
     ]
    },
    {
     "name": "stdout",
     "output_type": "stream",
     "text": [
      "Epoch 150, Loss 0.0217\n",
      "Training Accuracy: 0.9748, Testing Accuracy: 0.9693\n",
      "\n"
     ]
    },
    {
     "name": "stdout",
     "output_type": "stream",
     "text": [
      "Epoch 160, Loss 0.0211\n",
      "Training Accuracy: 0.9756, Testing Accuracy: 0.9698\n",
      "\n"
     ]
    },
    {
     "name": "stdout",
     "output_type": "stream",
     "text": [
      "Epoch 170, Loss 0.0206\n",
      "Training Accuracy: 0.9762, Testing Accuracy: 0.9698\n",
      "\n"
     ]
    },
    {
     "name": "stdout",
     "output_type": "stream",
     "text": [
      "Epoch 180, Loss 0.0201\n",
      "Training Accuracy: 0.9768, Testing Accuracy: 0.9708\n",
      "\n"
     ]
    },
    {
     "name": "stdout",
     "output_type": "stream",
     "text": [
      "Epoch 190, Loss 0.0197\n",
      "Training Accuracy: 0.9775, Testing Accuracy: 0.9713\n",
      "\n"
     ]
    },
    {
     "name": "stdout",
     "output_type": "stream",
     "text": [
      "Epoch 200, Loss 0.0192\n",
      "Training Accuracy: 0.9785, Testing Accuracy: 0.9713\n",
      "\n"
     ]
    },
    {
     "name": "stdout",
     "output_type": "stream",
     "text": [
      "Epoch 210, Loss 0.0188\n",
      "Training Accuracy: 0.9791, Testing Accuracy: 0.9713\n",
      "\n"
     ]
    },
    {
     "name": "stdout",
     "output_type": "stream",
     "text": [
      "Epoch 220, Loss 0.0185\n",
      "Training Accuracy: 0.9795, Testing Accuracy: 0.9713\n",
      "\n"
     ]
    },
    {
     "name": "stdout",
     "output_type": "stream",
     "text": [
      "Epoch 230, Loss 0.0181\n",
      "Training Accuracy: 0.9801, Testing Accuracy: 0.9713\n",
      "\n"
     ]
    },
    {
     "name": "stdout",
     "output_type": "stream",
     "text": [
      "Epoch 240, Loss 0.0177\n",
      "Training Accuracy: 0.9807, Testing Accuracy: 0.9708\n",
      "\n"
     ]
    },
    {
     "data": {
      "text/plain": [
       "0.004830659497140203"
      ]
     },
     "execution_count": 22,
     "metadata": {},
     "output_type": "execute_result"
    }
   ],
   "source": [
    "nn_learner.train_loop(dl)"
   ]
  },
  {
   "cell_type": "code",
   "execution_count": 23,
   "id": "e0163366",
   "metadata": {
    "execution": {
     "iopub.execute_input": "2022-03-08T20:11:19.790831Z",
     "iopub.status.busy": "2022-03-08T20:11:19.788967Z",
     "iopub.status.idle": "2022-03-08T20:11:35.053594Z",
     "shell.execute_reply": "2022-03-08T20:11:35.054066Z"
    },
    "papermill": {
     "duration": 15.309231,
     "end_time": "2022-03-08T20:11:35.054215",
     "exception": false,
     "start_time": "2022-03-08T20:11:19.744984",
     "status": "completed"
    },
    "tags": []
   },
   "outputs": [
    {
     "name": "stdout",
     "output_type": "stream",
     "text": [
      "Epoch 0, Loss 0.2745\n",
      "Training Accuracy: 0.5513, Testing Accuracy: 0.5469\n",
      "\n"
     ]
    },
    {
     "name": "stdout",
     "output_type": "stream",
     "text": [
      "Epoch 10, Loss 0.1061\n",
      "Training Accuracy: 0.9041, Testing Accuracy: 0.9183\n",
      "\n"
     ]
    },
    {
     "name": "stdout",
     "output_type": "stream",
     "text": [
      "Epoch 20, Loss 0.0797\n",
      "Training Accuracy: 0.9284, Testing Accuracy: 0.9360\n",
      "\n"
     ]
    },
    {
     "name": "stdout",
     "output_type": "stream",
     "text": [
      "Epoch 30, Loss 0.0681\n",
      "Training Accuracy: 0.9379, Testing Accuracy: 0.9456\n",
      "\n"
     ]
    },
    {
     "name": "stdout",
     "output_type": "stream",
     "text": [
      "Epoch 40, Loss 0.0614\n",
      "Training Accuracy: 0.9417, Testing Accuracy: 0.9516\n",
      "\n"
     ]
    },
    {
     "name": "stdout",
     "output_type": "stream",
     "text": [
      "Epoch 50, Loss 0.0568\n",
      "Training Accuracy: 0.9448, Testing Accuracy: 0.9536\n",
      "\n"
     ]
    },
    {
     "name": "stdout",
     "output_type": "stream",
     "text": [
      "Epoch 60, Loss 0.0535\n",
      "Training Accuracy: 0.9473, Testing Accuracy: 0.9561\n",
      "\n"
     ]
    },
    {
     "name": "stdout",
     "output_type": "stream",
     "text": [
      "Epoch 70, Loss 0.051\n",
      "Training Accuracy: 0.9494, Testing Accuracy: 0.9572\n",
      "\n"
     ]
    },
    {
     "name": "stdout",
     "output_type": "stream",
     "text": [
      "Epoch 80, Loss 0.049\n",
      "Training Accuracy: 0.9509, Testing Accuracy: 0.9592\n",
      "\n"
     ]
    },
    {
     "name": "stdout",
     "output_type": "stream",
     "text": [
      "Epoch 90, Loss 0.0473\n",
      "Training Accuracy: 0.9523, Testing Accuracy: 0.9622\n",
      "\n"
     ]
    },
    {
     "name": "stdout",
     "output_type": "stream",
     "text": [
      "Epoch 100, Loss 0.0459\n",
      "Training Accuracy: 0.9530, Testing Accuracy: 0.9632\n",
      "\n"
     ]
    },
    {
     "name": "stdout",
     "output_type": "stream",
     "text": [
      "Epoch 110, Loss 0.0447\n",
      "Training Accuracy: 0.9543, Testing Accuracy: 0.9647\n",
      "\n"
     ]
    },
    {
     "name": "stdout",
     "output_type": "stream",
     "text": [
      "Epoch 120, Loss 0.0437\n",
      "Training Accuracy: 0.9554, Testing Accuracy: 0.9647\n",
      "\n"
     ]
    },
    {
     "name": "stdout",
     "output_type": "stream",
     "text": [
      "Epoch 130, Loss 0.0428\n",
      "Training Accuracy: 0.9559, Testing Accuracy: 0.9657\n",
      "\n"
     ]
    },
    {
     "name": "stdout",
     "output_type": "stream",
     "text": [
      "Epoch 140, Loss 0.0419\n",
      "Training Accuracy: 0.9566, Testing Accuracy: 0.9662\n",
      "\n"
     ]
    },
    {
     "name": "stdout",
     "output_type": "stream",
     "text": [
      "Epoch 150, Loss 0.0412\n",
      "Training Accuracy: 0.9574, Testing Accuracy: 0.9657\n",
      "\n"
     ]
    },
    {
     "name": "stdout",
     "output_type": "stream",
     "text": [
      "Epoch 160, Loss 0.0406\n",
      "Training Accuracy: 0.9577, Testing Accuracy: 0.9657\n",
      "\n"
     ]
    },
    {
     "name": "stdout",
     "output_type": "stream",
     "text": [
      "Epoch 170, Loss 0.0399\n",
      "Training Accuracy: 0.9584, Testing Accuracy: 0.9667\n",
      "\n"
     ]
    },
    {
     "name": "stdout",
     "output_type": "stream",
     "text": [
      "Epoch 180, Loss 0.0394\n",
      "Training Accuracy: 0.9588, Testing Accuracy: 0.9677\n",
      "\n"
     ]
    },
    {
     "name": "stdout",
     "output_type": "stream",
     "text": [
      "Epoch 190, Loss 0.0389\n",
      "Training Accuracy: 0.9593, Testing Accuracy: 0.9677\n",
      "\n"
     ]
    },
    {
     "name": "stdout",
     "output_type": "stream",
     "text": [
      "Epoch 200, Loss 0.0384\n",
      "Training Accuracy: 0.9594, Testing Accuracy: 0.9682\n",
      "\n"
     ]
    },
    {
     "name": "stdout",
     "output_type": "stream",
     "text": [
      "Epoch 210, Loss 0.038\n",
      "Training Accuracy: 0.9599, Testing Accuracy: 0.9682\n",
      "\n"
     ]
    },
    {
     "name": "stdout",
     "output_type": "stream",
     "text": [
      "Epoch 220, Loss 0.0376\n",
      "Training Accuracy: 0.9603, Testing Accuracy: 0.9693\n",
      "\n"
     ]
    },
    {
     "name": "stdout",
     "output_type": "stream",
     "text": [
      "Epoch 230, Loss 0.0372\n",
      "Training Accuracy: 0.9605, Testing Accuracy: 0.9698\n",
      "\n"
     ]
    },
    {
     "name": "stdout",
     "output_type": "stream",
     "text": [
      "Epoch 240, Loss 0.0368\n",
      "Training Accuracy: 0.9606, Testing Accuracy: 0.9703\n",
      "\n"
     ]
    },
    {
     "data": {
      "text/plain": [
       "0.03679282819438599"
      ]
     },
     "execution_count": 23,
     "metadata": {},
     "output_type": "execute_result"
    }
   ],
   "source": [
    "lr_learner.train_loop(dl)"
   ]
  },
  {
   "cell_type": "code",
   "execution_count": 24,
   "id": "ca410940",
   "metadata": {
    "execution": {
     "iopub.execute_input": "2022-03-08T20:11:35.149678Z",
     "iopub.status.busy": "2022-03-08T20:11:35.149077Z",
     "iopub.status.idle": "2022-03-08T20:11:35.399633Z",
     "shell.execute_reply": "2022-03-08T20:11:35.400146Z"
    },
    "papermill": {
     "duration": 0.300375,
     "end_time": "2022-03-08T20:11:35.400320",
     "exception": false,
     "start_time": "2022-03-08T20:11:35.099945",
     "status": "completed"
    },
    "tags": []
   },
   "outputs": [
    {
     "data": {
      "text/plain": [
       "<matplotlib.legend.Legend at 0x7ff0548a8d68>"
      ]
     },
     "execution_count": 24,
     "metadata": {},
     "output_type": "execute_result"
    },
    {
     "data": {
      "image/png": "[encoded data removed]",
      "text/plain": [
       "<Figure size 1080x720 with 1 Axes>"
      ]
     },
     "metadata": {
      "needs_background": "light"
     },
     "output_type": "display_data"
    }
   ],
   "source": [
    "#comparing the results of NN and LR\n",
    "plt.figure(figsize=(15,10))\n",
    "\n",
    "# Neural Network plots\n",
    "plt.plot(acc_nn.accuracies, 'r-', label = \"Training Accuracies - NN\")\n",
    "plt.plot(acc_nn.test_accuracies, 'g-', label = \"Testing Accuracies - NN\")\n",
    "\n",
    "# Logistic Regression plots\n",
    "plt.plot(acc_lr.accuracies, 'k-', label = \"Training Accuracies - LR\")\n",
    "plt.plot(acc_lr.test_accuracies, 'b-', label = \"Testing Accuracies - LR\")\n",
    "plt.legend()"
   ]
  },
  {
   "cell_type": "markdown",
   "id": "80dfb35c",
   "metadata": {
    "papermill": {
     "duration": 0.043403,
     "end_time": "2022-03-08T20:11:35.489221",
     "exception": false,
     "start_time": "2022-03-08T20:11:35.445818",
     "status": "completed"
    },
    "tags": []
   },
   "source": [
    "#### Plotting the outputs of this layer of the NN.\n"
   ]
  },
  {
   "cell_type": "code",
   "execution_count": 25,
   "id": "45eb2ff5",
   "metadata": {
    "execution": {
     "iopub.execute_input": "2022-03-08T20:11:35.587008Z",
     "iopub.status.busy": "2022-03-08T20:11:35.586427Z",
     "iopub.status.idle": "2022-03-08T20:11:35.607783Z",
     "shell.execute_reply": "2022-03-08T20:11:35.608259Z"
    },
    "papermill": {
     "duration": 0.074175,
     "end_time": "2022-03-08T20:11:35.608413",
     "exception": false,
     "start_time": "2022-03-08T20:11:35.534238",
     "status": "completed"
    },
    "tags": []
   },
   "outputs": [],
   "source": [
    "new_model = Model(layers[:-2])\n",
    "testing_plot = new_model(testing_data_x)"
   ]
  },
  {
   "cell_type": "code",
   "execution_count": 26,
   "id": "4c0a5485",
   "metadata": {
    "execution": {
     "iopub.execute_input": "2022-03-08T20:11:35.716874Z",
     "iopub.status.busy": "2022-03-08T20:11:35.715869Z",
     "iopub.status.idle": "2022-03-08T20:11:35.964176Z",
     "shell.execute_reply": "2022-03-08T20:11:35.963665Z"
    },
    "papermill": {
     "duration": 0.309474,
     "end_time": "2022-03-08T20:11:35.964305",
     "exception": false,
     "start_time": "2022-03-08T20:11:35.654831",
     "status": "completed"
    },
    "tags": []
   },
   "outputs": [
    {
     "data": {
      "text/plain": [
       "Text(0.5, 1.0, 'Outputs')"
      ]
     },
     "execution_count": 26,
     "metadata": {},
     "output_type": "execute_result"
    },
    {
     "data": {
      "image/png": "[encoded data removed]",
      "text/plain": [
       "<Figure size 576x504 with 1 Axes>"
      ]
     },
     "metadata": {
      "needs_background": "light"
     },
     "output_type": "display_data"
    }
   ],
   "source": [
    "# Plotting the scatter plot of points and color coding by class\n",
    "plt.figure(figsize=(8,7))\n",
    "plt.scatter(testing_plot[:,0], testing_plot[:,1], alpha = 0.1, c = y_test.ravel());\n",
    "plt.title('Outputs')"
   ]
  },
  {
   "cell_type": "markdown",
   "id": "a74fcf8f",
   "metadata": {
    "papermill": {
     "duration": 0.048845,
     "end_time": "2022-03-08T20:11:36.061903",
     "exception": false,
     "start_time": "2022-03-08T20:11:36.013058",
     "status": "completed"
    },
    "tags": []
   },
   "source": [
    "Probability contours"
   ]
  },
  {
   "cell_type": "code",
   "execution_count": 27,
   "id": "d0afc8e3",
   "metadata": {
    "execution": {
     "iopub.execute_input": "2022-03-08T20:11:36.200792Z",
     "iopub.status.busy": "2022-03-08T20:11:36.200225Z",
     "iopub.status.idle": "2022-03-08T20:11:36.212013Z",
     "shell.execute_reply": "2022-03-08T20:11:36.210923Z"
    },
    "papermill": {
     "duration": 0.101197,
     "end_time": "2022-03-08T20:11:36.212138",
     "exception": false,
     "start_time": "2022-03-08T20:11:36.110941",
     "status": "completed"
    },
    "tags": []
   },
   "outputs": [],
   "source": [
    "model_prob = Model(layers[-2:]) "
   ]
  },
  {
   "cell_type": "code",
   "execution_count": 28,
   "id": "9b96e238",
   "metadata": {
    "execution": {
     "iopub.execute_input": "2022-03-08T20:11:36.315380Z",
     "iopub.status.busy": "2022-03-08T20:11:36.314810Z",
     "iopub.status.idle": "2022-03-08T20:11:36.329894Z",
     "shell.execute_reply": "2022-03-08T20:11:36.330357Z"
    },
    "papermill": {
     "duration": 0.069367,
     "end_time": "2022-03-08T20:11:36.330511",
     "exception": false,
     "start_time": "2022-03-08T20:11:36.261144",
     "status": "completed"
    },
    "tags": []
   },
   "outputs": [],
   "source": [
    "#creating the x and y ranges according to the above generated plot.\n",
    "x_range = np.linspace(-4, 1, 100) \n",
    "y_range = np.linspace(-6, 6, 100) \n",
    "x_grid, y_grid = np.meshgrid(x_range, y_range) # x_grid and y_grig are of size 100 X 100\n",
    "\n",
    "# converting x_grid and y_grid to continuous arrays\n",
    "x_gridflat = np.ravel(x_grid)\n",
    "y_gridflat = np.ravel(y_grid)\n",
    "\n",
    "# The last layer of the current model takes two columns as input. Hence transpose of np.vstack() is required.\n",
    "X = np.vstack((x_gridflat, y_gridflat)).T\n",
    "\n",
    "prob_contour = model_prob(X).reshape(100,100) "
   ]
  },
  {
   "cell_type": "code",
   "execution_count": 29,
   "id": "da72499a",
   "metadata": {
    "execution": {
     "iopub.execute_input": "2022-03-08T20:11:36.441451Z",
     "iopub.status.busy": "2022-03-08T20:11:36.440864Z",
     "iopub.status.idle": "2022-03-08T20:11:36.714155Z",
     "shell.execute_reply": "2022-03-08T20:11:36.714611Z"
    },
    "papermill": {
     "duration": 0.33309,
     "end_time": "2022-03-08T20:11:36.714761",
     "exception": false,
     "start_time": "2022-03-08T20:11:36.381671",
     "status": "completed"
    },
    "tags": []
   },
   "outputs": [
    {
     "data": {
      "image/png": "[encoded data removed]",
      "text/plain": [
       "<Figure size 720x648 with 1 Axes>"
      ]
     },
     "metadata": {
      "needs_background": "light"
     },
     "output_type": "display_data"
    }
   ],
   "source": [
    "plt.figure(figsize=(10,9))\n",
    "plt.scatter(testing_plot[:,0], testing_plot[:,1], alpha = 0.1, c = y_test.ravel())\n",
    "contours = plt.contour(x_grid,y_grid,prob_contour)\n",
    "plt.title('Probability Contours')\n",
    "plt.clabel(contours, inline = True );"
   ]
  },
  {
   "cell_type": "code",
   "execution_count": null,
   "id": "e81b4ac7",
   "metadata": {
    "papermill": {
     "duration": 0.05137,
     "end_time": "2022-03-08T20:11:36.818718",
     "exception": false,
     "start_time": "2022-03-08T20:11:36.767348",
     "status": "completed"
    },
    "tags": []
   },
   "outputs": [],
   "source": []
  }
 ],
 "metadata": {
  "kernelspec": {
   "display_name": "Python 3",
   "language": "python",
   "name": "python3"
  },
  "language_info": {
   "codemirror_mode": {
    "name": "ipython",
    "version": 3
   },
   "file_extension": ".py",
   "mimetype": "text/x-python",
   "name": "python",
   "nbconvert_exporter": "python",
   "pygments_lexer": "ipython3",
   "version": "3.6.15"
  },
  "papermill": {
   "default_parameters": {},
   "duration": 110.724404,
   "end_time": "2022-03-08T20:11:37.291841",
   "environment_variables": {},
   "exception": null,
   "input_path": "2020-08-11-part2.ipynb",
   "output_path": "2020-08-11-part2.ipynb",
   "parameters": {},
   "start_time": "2022-03-08T20:09:46.567437",
   "version": "2.3.3"
  }
 },
 "nbformat": 4,
 "nbformat_minor": 5
}