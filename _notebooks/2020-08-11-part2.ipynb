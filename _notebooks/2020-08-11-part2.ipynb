{
 "cells": [
  {
   "cell_type": "markdown",
   "id": "98380cd3",
   "metadata": {
    "papermill": {
     "duration": 0.035914,
     "end_time": "2022-05-16T20:10:41.777929",
     "exception": false,
     "start_time": "2022-05-16T20:10:41.742015",
     "status": "completed"
    },
    "tags": []
   },
   "source": [
    "# Distinguish Your Own Digits (DYOD)"
   ]
  },
  {
   "cell_type": "markdown",
   "id": "ef31240d",
   "metadata": {
    "papermill": {
     "duration": 0.031957,
     "end_time": "2022-05-16T20:10:41.838040",
     "exception": false,
     "start_time": "2022-05-16T20:10:41.806083",
     "status": "completed"
    },
    "tags": []
   },
   "source": [
    "You are going to write a classifier that distinguishes between the number 3 and number 8."
   ]
  },
  {
   "cell_type": "code",
   "execution_count": 1,
   "id": "b15c8646",
   "metadata": {
    "execution": {
     "iopub.execute_input": "2022-05-16T20:10:41.908574Z",
     "iopub.status.busy": "2022-05-16T20:10:41.907945Z",
     "iopub.status.idle": "2022-05-16T20:10:41.919455Z",
     "shell.execute_reply": "2022-05-16T20:10:41.920116Z"
    },
    "papermill": {
     "duration": 0.052372,
     "end_time": "2022-05-16T20:10:41.920302",
     "exception": false,
     "start_time": "2022-05-16T20:10:41.867930",
     "status": "completed"
    },
    "tags": []
   },
   "outputs": [],
   "source": [
    "%load_ext autoreload\n",
    "%autoreload 2"
   ]
  },
  {
   "cell_type": "code",
   "execution_count": 2,
   "id": "22ef38dc",
   "metadata": {
    "execution": {
     "iopub.execute_input": "2022-05-16T20:10:41.988970Z",
     "iopub.status.busy": "2022-05-16T20:10:41.988273Z",
     "iopub.status.idle": "2022-05-16T20:10:42.621681Z",
     "shell.execute_reply": "2022-05-16T20:10:42.621054Z"
    },
    "papermill": {
     "duration": 0.670155,
     "end_time": "2022-05-16T20:10:42.621818",
     "exception": false,
     "start_time": "2022-05-16T20:10:41.951663",
     "status": "completed"
    },
    "tags": []
   },
   "outputs": [],
   "source": [
    "%matplotlib inline\n",
    "import numpy as np\n",
    "import matplotlib.pyplot as plt\n",
    "import pandas as pd"
   ]
  },
  {
   "cell_type": "markdown",
   "id": "ba036198",
   "metadata": {
    "papermill": {
     "duration": 0.029953,
     "end_time": "2022-05-16T20:10:42.682986",
     "exception": false,
     "start_time": "2022-05-16T20:10:42.653033",
     "status": "completed"
    },
    "tags": []
   },
   "source": [
    "From the command line run `pip install mnist`. This is a library that will help you bring down the mnist dataset. If you run this from a notebook, you need to put  `!pip install mnist` in a cell by itself."
   ]
  },
  {
   "cell_type": "code",
   "execution_count": 3,
   "id": "bb6ad8a1",
   "metadata": {
    "execution": {
     "iopub.execute_input": "2022-05-16T20:10:42.747779Z",
     "iopub.status.busy": "2022-05-16T20:10:42.746988Z",
     "iopub.status.idle": "2022-05-16T20:10:44.728956Z",
     "shell.execute_reply": "2022-05-16T20:10:44.729601Z"
    },
    "papermill": {
     "duration": 2.017204,
     "end_time": "2022-05-16T20:10:44.729772",
     "exception": false,
     "start_time": "2022-05-16T20:10:42.712568",
     "status": "completed"
    },
    "tags": []
   },
   "outputs": [
    {
     "name": "stdout",
     "output_type": "stream",
     "text": [
      "Collecting mnist\r\n",
      "  Downloading mnist-0.2.2-py2.py3-none-any.whl (3.5 kB)\r\n"
     ]
    },
    {
     "name": "stdout",
     "output_type": "stream",
     "text": [
      "Requirement already satisfied: numpy in /opt/hostedtoolcache/Python/3.6.15/x64/lib/python3.6/site-packages (from mnist) (1.19.5)\r\n"
     ]
    },
    {
     "name": "stdout",
     "output_type": "stream",
     "text": [
      "Installing collected packages: mnist\r\n"
     ]
    },
    {
     "name": "stdout",
     "output_type": "stream",
     "text": [
      "Successfully installed mnist-0.2.2\r\n"
     ]
    }
   ],
   "source": [
    "!pip install mnist"
   ]
  },
  {
   "cell_type": "markdown",
   "id": "69df9c9a",
   "metadata": {
    "papermill": {
     "duration": 0.034447,
     "end_time": "2022-05-16T20:10:44.794135",
     "exception": false,
     "start_time": "2022-05-16T20:10:44.759688",
     "status": "completed"
    },
    "tags": []
   },
   "source": [
    "## Preparing the Data"
   ]
  },
  {
   "cell_type": "code",
   "execution_count": 4,
   "id": "7f69d806",
   "metadata": {
    "execution": {
     "iopub.execute_input": "2022-05-16T20:10:44.864230Z",
     "iopub.status.busy": "2022-05-16T20:10:44.863594Z",
     "iopub.status.idle": "2022-05-16T20:10:44.880088Z",
     "shell.execute_reply": "2022-05-16T20:10:44.879444Z"
    },
    "papermill": {
     "duration": 0.05435,
     "end_time": "2022-05-16T20:10:44.880208",
     "exception": false,
     "start_time": "2022-05-16T20:10:44.825858",
     "status": "completed"
    },
    "tags": []
   },
   "outputs": [],
   "source": [
    "import mnist"
   ]
  },
  {
   "cell_type": "code",
   "execution_count": 5,
   "id": "a411e44f",
   "metadata": {
    "execution": {
     "iopub.execute_input": "2022-05-16T20:10:44.948317Z",
     "iopub.status.busy": "2022-05-16T20:10:44.947554Z",
     "iopub.status.idle": "2022-05-16T20:10:45.499487Z",
     "shell.execute_reply": "2022-05-16T20:10:45.498743Z"
    },
    "papermill": {
     "duration": 0.587286,
     "end_time": "2022-05-16T20:10:45.499685",
     "exception": false,
     "start_time": "2022-05-16T20:10:44.912399",
     "status": "completed"
    },
    "tags": []
   },
   "outputs": [],
   "source": [
    "train_images = mnist.train_images()\n",
    "train_labels = mnist.train_labels()"
   ]
  },
  {
   "cell_type": "code",
   "execution_count": 6,
   "id": "dceab3a5",
   "metadata": {
    "execution": {
     "iopub.execute_input": "2022-05-16T20:10:45.568046Z",
     "iopub.status.busy": "2022-05-16T20:10:45.567148Z",
     "iopub.status.idle": "2022-05-16T20:10:45.587856Z",
     "shell.execute_reply": "2022-05-16T20:10:45.587207Z"
    },
    "papermill": {
     "duration": 0.055974,
     "end_time": "2022-05-16T20:10:45.587984",
     "exception": false,
     "start_time": "2022-05-16T20:10:45.532010",
     "status": "completed"
    },
    "tags": []
   },
   "outputs": [
    {
     "data": {
      "text/plain": [
       "((60000, 28, 28), (60000,))"
      ]
     },
     "execution_count": 6,
     "metadata": {},
     "output_type": "execute_result"
    }
   ],
   "source": [
    "train_images.shape, train_labels.shape"
   ]
  },
  {
   "cell_type": "code",
   "execution_count": 7,
   "id": "f50dc2bb",
   "metadata": {
    "execution": {
     "iopub.execute_input": "2022-05-16T20:10:45.659319Z",
     "iopub.status.busy": "2022-05-16T20:10:45.658645Z",
     "iopub.status.idle": "2022-05-16T20:10:45.779902Z",
     "shell.execute_reply": "2022-05-16T20:10:45.779281Z"
    },
    "papermill": {
     "duration": 0.157605,
     "end_time": "2022-05-16T20:10:45.780049",
     "exception": false,
     "start_time": "2022-05-16T20:10:45.622444",
     "status": "completed"
    },
    "tags": []
   },
   "outputs": [],
   "source": [
    "test_images = mnist.test_images()\n",
    "test_labels = mnist.test_labels()"
   ]
  },
  {
   "cell_type": "code",
   "execution_count": 8,
   "id": "fc38cf1b",
   "metadata": {
    "execution": {
     "iopub.execute_input": "2022-05-16T20:10:45.852705Z",
     "iopub.status.busy": "2022-05-16T20:10:45.851948Z",
     "iopub.status.idle": "2022-05-16T20:10:45.868349Z",
     "shell.execute_reply": "2022-05-16T20:10:45.867521Z"
    },
    "papermill": {
     "duration": 0.054121,
     "end_time": "2022-05-16T20:10:45.868478",
     "exception": false,
     "start_time": "2022-05-16T20:10:45.814357",
     "status": "completed"
    },
    "tags": []
   },
   "outputs": [
    {
     "data": {
      "text/plain": [
       "((10000, 28, 28), (10000,))"
      ]
     },
     "execution_count": 8,
     "metadata": {},
     "output_type": "execute_result"
    }
   ],
   "source": [
    "test_images.shape, test_labels.shape"
   ]
  },
  {
   "cell_type": "code",
   "execution_count": 9,
   "id": "f9ed8fe0",
   "metadata": {
    "execution": {
     "iopub.execute_input": "2022-05-16T20:10:45.940821Z",
     "iopub.status.busy": "2022-05-16T20:10:45.940202Z",
     "iopub.status.idle": "2022-05-16T20:10:46.132912Z",
     "shell.execute_reply": "2022-05-16T20:10:46.133371Z"
    },
    "papermill": {
     "duration": 0.231687,
     "end_time": "2022-05-16T20:10:46.133537",
     "exception": false,
     "start_time": "2022-05-16T20:10:45.901850",
     "status": "completed"
    },
    "tags": []
   },
   "outputs": [
    {
     "name": "stdout",
     "output_type": "stream",
     "text": [
      "2\n"
     ]
    },
    {
     "data": {
      "text/plain": [
       "<matplotlib.image.AxesImage at 0x7f2ea500f518>"
      ]
     },
     "execution_count": 9,
     "metadata": {},
     "output_type": "execute_result"
    },
    {
     "data": {
      "image/png": "[encoded data removed]",
      "text/plain": [
       "<Figure size 432x288 with 1 Axes>"
      ]
     },
     "metadata": {
      "needs_background": "light"
     },
     "output_type": "display_data"
    }
   ],
   "source": [
    "image_index = 7776 # You may select anything up to 60,000\n",
    "print(train_labels[image_index]) \n",
    "plt.imshow(train_images[image_index], cmap='Greys')"
   ]
  },
  {
   "cell_type": "markdown",
   "id": "a8d2388d",
   "metadata": {
    "papermill": {
     "duration": 0.034759,
     "end_time": "2022-05-16T20:10:46.199961",
     "exception": false,
     "start_time": "2022-05-16T20:10:46.165202",
     "status": "completed"
    },
    "tags": []
   },
   "source": [
    "## Filter data to get 3 and 8 out"
   ]
  },
  {
   "cell_type": "code",
   "execution_count": 10,
   "id": "776f7fc7",
   "metadata": {
    "execution": {
     "iopub.execute_input": "2022-05-16T20:10:46.269261Z",
     "iopub.status.busy": "2022-05-16T20:10:46.268675Z",
     "iopub.status.idle": "2022-05-16T20:10:46.294422Z",
     "shell.execute_reply": "2022-05-16T20:10:46.293873Z"
    },
    "papermill": {
     "duration": 0.06154,
     "end_time": "2022-05-16T20:10:46.294610",
     "exception": false,
     "start_time": "2022-05-16T20:10:46.233070",
     "status": "completed"
    },
    "tags": []
   },
   "outputs": [],
   "source": [
    "train_filter = np.where((train_labels == 3 ) | (train_labels == 8))\n",
    "test_filter = np.where((test_labels == 3) | (test_labels == 8))\n",
    "X_train, y_train = train_images[train_filter], train_labels[train_filter]\n",
    "X_test, y_test = test_images[test_filter], test_labels[test_filter]"
   ]
  },
  {
   "cell_type": "markdown",
   "id": "948f0b7e",
   "metadata": {
    "papermill": {
     "duration": 0.034248,
     "end_time": "2022-05-16T20:10:46.360991",
     "exception": false,
     "start_time": "2022-05-16T20:10:46.326743",
     "status": "completed"
    },
    "tags": []
   },
   "source": [
    "We normalize the pizel values in the 0 to 1 range"
   ]
  },
  {
   "cell_type": "code",
   "execution_count": 11,
   "id": "ee4c2166",
   "metadata": {
    "execution": {
     "iopub.execute_input": "2022-05-16T20:10:46.445188Z",
     "iopub.status.busy": "2022-05-16T20:10:46.435181Z",
     "iopub.status.idle": "2022-05-16T20:10:46.502028Z",
     "shell.execute_reply": "2022-05-16T20:10:46.501440Z"
    },
    "papermill": {
     "duration": 0.105503,
     "end_time": "2022-05-16T20:10:46.502163",
     "exception": false,
     "start_time": "2022-05-16T20:10:46.396660",
     "status": "completed"
    },
    "tags": []
   },
   "outputs": [],
   "source": [
    "X_train = X_train/255.\n",
    "X_test = X_test/255."
   ]
  },
  {
   "cell_type": "markdown",
   "id": "ddcf4fab",
   "metadata": {
    "papermill": {
     "duration": 0.030823,
     "end_time": "2022-05-16T20:10:46.568317",
     "exception": false,
     "start_time": "2022-05-16T20:10:46.537494",
     "status": "completed"
    },
    "tags": []
   },
   "source": [
    "And setup the labels as 1 (when the digit is 3) and 0 (when the digit is 8)"
   ]
  },
  {
   "cell_type": "code",
   "execution_count": 12,
   "id": "7dc908f2",
   "metadata": {
    "execution": {
     "iopub.execute_input": "2022-05-16T20:10:46.640131Z",
     "iopub.status.busy": "2022-05-16T20:10:46.639468Z",
     "iopub.status.idle": "2022-05-16T20:10:46.652456Z",
     "shell.execute_reply": "2022-05-16T20:10:46.653015Z"
    },
    "papermill": {
     "duration": 0.050482,
     "end_time": "2022-05-16T20:10:46.653143",
     "exception": false,
     "start_time": "2022-05-16T20:10:46.602661",
     "status": "completed"
    },
    "tags": []
   },
   "outputs": [],
   "source": [
    "y_train = 1*(y_train==3)\n",
    "y_test = 1*(y_test==3)"
   ]
  },
  {
   "cell_type": "code",
   "execution_count": 13,
   "id": "01e4e969",
   "metadata": {
    "execution": {
     "iopub.execute_input": "2022-05-16T20:10:46.718985Z",
     "iopub.status.busy": "2022-05-16T20:10:46.718190Z",
     "iopub.status.idle": "2022-05-16T20:10:46.731948Z",
     "shell.execute_reply": "2022-05-16T20:10:46.732541Z"
    },
    "papermill": {
     "duration": 0.048747,
     "end_time": "2022-05-16T20:10:46.732674",
     "exception": false,
     "start_time": "2022-05-16T20:10:46.683927",
     "status": "completed"
    },
    "tags": []
   },
   "outputs": [
    {
     "data": {
      "text/plain": [
       "((11982, 28, 28), (1984, 28, 28))"
      ]
     },
     "execution_count": 13,
     "metadata": {},
     "output_type": "execute_result"
    }
   ],
   "source": [
    "X_train.shape, X_test.shape"
   ]
  },
  {
   "cell_type": "markdown",
   "id": "5ccf3f85",
   "metadata": {
    "papermill": {
     "duration": 0.034069,
     "end_time": "2022-05-16T20:10:46.800471",
     "exception": false,
     "start_time": "2022-05-16T20:10:46.766402",
     "status": "completed"
    },
    "tags": []
   },
   "source": [
    "We reshape the data to flatten the image pixels into a set of features or co-variates:"
   ]
  },
  {
   "cell_type": "code",
   "execution_count": 14,
   "id": "5286a4a3",
   "metadata": {
    "execution": {
     "iopub.execute_input": "2022-05-16T20:10:46.874408Z",
     "iopub.status.busy": "2022-05-16T20:10:46.873811Z",
     "iopub.status.idle": "2022-05-16T20:10:46.889771Z",
     "shell.execute_reply": "2022-05-16T20:10:46.889168Z"
    },
    "papermill": {
     "duration": 0.055359,
     "end_time": "2022-05-16T20:10:46.889947",
     "exception": false,
     "start_time": "2022-05-16T20:10:46.834588",
     "status": "completed"
    },
    "tags": []
   },
   "outputs": [
    {
     "data": {
      "text/plain": [
       "((11982, 784), (1984, 784))"
      ]
     },
     "execution_count": 14,
     "metadata": {},
     "output_type": "execute_result"
    }
   ],
   "source": [
    "X_train = X_train.reshape(X_train.shape[0], -1)\n",
    "X_test = X_test.reshape(X_test.shape[0], -1)\n",
    "X_train.shape, X_test.shape"
   ]
  },
  {
   "cell_type": "code",
   "execution_count": 15,
   "id": "73c5f88a",
   "metadata": {
    "execution": {
     "iopub.execute_input": "2022-05-16T20:10:46.965561Z",
     "iopub.status.busy": "2022-05-16T20:10:46.964754Z",
     "iopub.status.idle": "2022-05-16T20:10:46.986561Z",
     "shell.execute_reply": "2022-05-16T20:10:46.985867Z"
    },
    "papermill": {
     "duration": 0.062915,
     "end_time": "2022-05-16T20:10:46.986746",
     "exception": false,
     "start_time": "2022-05-16T20:10:46.923831",
     "status": "completed"
    },
    "tags": []
   },
   "outputs": [],
   "source": [
    "#Impoting functions from 'Kudzu'\n",
    "from kudzu.model import Model\n",
    "from kudzu.train import Learner\n",
    "from kudzu.optim import GD\n",
    "from kudzu.data import Data, Sampler,Dataloader\n",
    "\n",
    "from kudzu.callbacks import AccCallback\n",
    "from kudzu.callbacks import ClfCallback\n",
    "\n",
    "from kudzu.loss import MSE\n",
    "\n",
    "from kudzu.layer import Sigmoid,Relu\n",
    "from kudzu.layer import Affine"
   ]
  },
  {
   "cell_type": "markdown",
   "id": "bc01172a",
   "metadata": {
    "papermill": {
     "duration": 0.034452,
     "end_time": "2022-05-16T20:10:47.057654",
     "exception": false,
     "start_time": "2022-05-16T20:10:47.023202",
     "status": "completed"
    },
    "tags": []
   },
   "source": [
    "### Let us create a `Config` class, to store important parameters. \n",
    "This class essentially plays the role of a dictionary."
   ]
  },
  {
   "cell_type": "code",
   "execution_count": 16,
   "id": "978281aa",
   "metadata": {
    "execution": {
     "iopub.execute_input": "2022-05-16T20:10:47.144049Z",
     "iopub.status.busy": "2022-05-16T20:10:47.140205Z",
     "iopub.status.idle": "2022-05-16T20:10:47.150093Z",
     "shell.execute_reply": "2022-05-16T20:10:47.149454Z"
    },
    "papermill": {
     "duration": 0.056289,
     "end_time": "2022-05-16T20:10:47.150208",
     "exception": false,
     "start_time": "2022-05-16T20:10:47.093919",
     "status": "completed"
    },
    "tags": []
   },
   "outputs": [],
   "source": [
    "class Config:\n",
    "    pass\n",
    "config = Config()\n",
    "config.lr = 0.001\n",
    "config.num_epochs = 250\n",
    "config.bs = 50"
   ]
  },
  {
   "cell_type": "markdown",
   "id": "1385fa59",
   "metadata": {
    "papermill": {
     "duration": 0.036779,
     "end_time": "2022-05-16T20:10:47.219916",
     "exception": false,
     "start_time": "2022-05-16T20:10:47.183137",
     "status": "completed"
    },
    "tags": []
   },
   "source": [
    "### Running Models with the Training data\n",
    "Details about the network layers:\n",
    "- A first affine layer has 784 inputs and does 100 affine transforms. These are followed by a Relu\n",
    "- A second affine layer has 100 inputs from the 100 activations of the past layer, and does 100 affine transforms. These are followed by a Relu\n",
    "- A third affine layer has 100 activations and does 2 affine transformations to create an embedding for visualization. There is no non-linearity here.\n",
    "- A final \"logistic regression\" which has an affine transform from 2 inputs to 1 output, which is squeezed through a sigmoid.\n"
   ]
  },
  {
   "cell_type": "code",
   "execution_count": 17,
   "id": "2b9c66db",
   "metadata": {
    "execution": {
     "iopub.execute_input": "2022-05-16T20:10:47.296281Z",
     "iopub.status.busy": "2022-05-16T20:10:47.294259Z",
     "iopub.status.idle": "2022-05-16T20:10:47.308471Z",
     "shell.execute_reply": "2022-05-16T20:10:47.308963Z"
    },
    "papermill": {
     "duration": 0.055711,
     "end_time": "2022-05-16T20:10:47.309136",
     "exception": false,
     "start_time": "2022-05-16T20:10:47.253425",
     "status": "completed"
    },
    "tags": []
   },
   "outputs": [],
   "source": [
    "data = Data(X_train, y_train.reshape(-1,1))\n",
    "sampler = Sampler(data, config.bs, shuffle=True)\n",
    "\n",
    "dl = Dataloader(data, sampler)\n",
    "\n",
    "opt = GD(config.lr)\n",
    "loss = MSE()"
   ]
  },
  {
   "cell_type": "code",
   "execution_count": 18,
   "id": "b275e4c2",
   "metadata": {
    "execution": {
     "iopub.execute_input": "2022-05-16T20:10:47.380507Z",
     "iopub.status.busy": "2022-05-16T20:10:47.377421Z",
     "iopub.status.idle": "2022-05-16T20:10:47.392103Z",
     "shell.execute_reply": "2022-05-16T20:10:47.392720Z"
    },
    "papermill": {
     "duration": 0.050942,
     "end_time": "2022-05-16T20:10:47.392848",
     "exception": false,
     "start_time": "2022-05-16T20:10:47.341906",
     "status": "completed"
    },
    "tags": []
   },
   "outputs": [],
   "source": [
    "training_data_x = X_train\n",
    "testing_data_x = X_test\n",
    "training_data_y = y_train.reshape(-1,1)\n",
    "testing_data_y = y_test.reshape(-1,1)"
   ]
  },
  {
   "cell_type": "code",
   "execution_count": 19,
   "id": "76951160",
   "metadata": {
    "execution": {
     "iopub.execute_input": "2022-05-16T20:10:47.462277Z",
     "iopub.status.busy": "2022-05-16T20:10:47.461492Z",
     "iopub.status.idle": "2022-05-16T20:10:47.479153Z",
     "shell.execute_reply": "2022-05-16T20:10:47.479643Z"
    },
    "papermill": {
     "duration": 0.05466,
     "end_time": "2022-05-16T20:10:47.479771",
     "exception": false,
     "start_time": "2022-05-16T20:10:47.425111",
     "status": "completed"
    },
    "tags": []
   },
   "outputs": [
    {
     "name": "stdout",
     "output_type": "stream",
     "text": [
      "xavier\n",
      "xavier\n",
      "xavier\n",
      "xavier\n",
      "xavier\n"
     ]
    }
   ],
   "source": [
    "layers = [Affine(\"first\", 784, 100), Relu(\"first\"), Affine(\"second\", 100, 100), Relu(\"second\"), Affine(\"third\", 100, 2), Affine(\"last\", 2, 1), Sigmoid(\"last\")]\n",
    "model_nn = Model(layers)\n",
    "model_lr = Model([Affine(\"logits\", 784, 1), Sigmoid(\"sigmoid\")])"
   ]
  },
  {
   "cell_type": "code",
   "execution_count": 20,
   "id": "6eede77a",
   "metadata": {
    "execution": {
     "iopub.execute_input": "2022-05-16T20:10:47.556322Z",
     "iopub.status.busy": "2022-05-16T20:10:47.555712Z",
     "iopub.status.idle": "2022-05-16T20:10:47.569726Z",
     "shell.execute_reply": "2022-05-16T20:10:47.570261Z"
    },
    "papermill": {
     "duration": 0.055709,
     "end_time": "2022-05-16T20:10:47.570450",
     "exception": false,
     "start_time": "2022-05-16T20:10:47.514741",
     "status": "completed"
    },
    "tags": []
   },
   "outputs": [],
   "source": [
    "nn_learner = Learner(loss, model_nn, opt, config.num_epochs)\n",
    "acc_nn = ClfCallback(nn_learner, config.bs, training_data_x , testing_data_x, training_data_y, testing_data_y)\n",
    "nn_learner.set_callbacks([acc_nn])"
   ]
  },
  {
   "cell_type": "code",
   "execution_count": 21,
   "id": "877b6cc7",
   "metadata": {
    "execution": {
     "iopub.execute_input": "2022-05-16T20:10:47.645183Z",
     "iopub.status.busy": "2022-05-16T20:10:47.644504Z",
     "iopub.status.idle": "2022-05-16T20:10:47.657503Z",
     "shell.execute_reply": "2022-05-16T20:10:47.658294Z"
    },
    "papermill": {
     "duration": 0.052026,
     "end_time": "2022-05-16T20:10:47.658498",
     "exception": false,
     "start_time": "2022-05-16T20:10:47.606472",
     "status": "completed"
    },
    "tags": []
   },
   "outputs": [],
   "source": [
    "lr_learner = Learner(loss, model_lr, opt, config.num_epochs)\n",
    "acc_lr = ClfCallback(lr_learner, config.bs, training_data_x , testing_data_x, training_data_y, testing_data_y)\n",
    "lr_learner.set_callbacks([acc_lr])"
   ]
  },
  {
   "cell_type": "code",
   "execution_count": 22,
   "id": "d9b133c3",
   "metadata": {
    "execution": {
     "iopub.execute_input": "2022-05-16T20:10:47.728457Z",
     "iopub.status.busy": "2022-05-16T20:10:47.727738Z",
     "iopub.status.idle": "2022-05-16T20:13:17.062844Z",
     "shell.execute_reply": "2022-05-16T20:13:17.063826Z"
    },
    "papermill": {
     "duration": 149.371825,
     "end_time": "2022-05-16T20:13:17.064032",
     "exception": false,
     "start_time": "2022-05-16T20:10:47.692207",
     "status": "completed"
    },
    "tags": []
   },
   "outputs": [
    {
     "name": "stdout",
     "output_type": "stream",
     "text": [
      "Epoch 0, Loss 0.2526\n",
      "Training Accuracy: 0.6100, Testing Accuracy: 0.5998\n",
      "\n"
     ]
    },
    {
     "name": "stdout",
     "output_type": "stream",
     "text": [
      "Epoch 10, Loss 0.0816\n",
      "Training Accuracy: 0.9137, Testing Accuracy: 0.9284\n",
      "\n"
     ]
    },
    {
     "name": "stdout",
     "output_type": "stream",
     "text": [
      "Epoch 20, Loss 0.0534\n",
      "Training Accuracy: 0.9393, Testing Accuracy: 0.9506\n",
      "\n"
     ]
    },
    {
     "name": "stdout",
     "output_type": "stream",
     "text": [
      "Epoch 30, Loss 0.0429\n",
      "Training Accuracy: 0.9519, Testing Accuracy: 0.9572\n",
      "\n"
     ]
    },
    {
     "name": "stdout",
     "output_type": "stream",
     "text": [
      "Epoch 40, Loss 0.0372\n",
      "Training Accuracy: 0.9573, Testing Accuracy: 0.9617\n",
      "\n"
     ]
    },
    {
     "name": "stdout",
     "output_type": "stream",
     "text": [
      "Epoch 50, Loss 0.0335\n",
      "Training Accuracy: 0.9614, Testing Accuracy: 0.9637\n",
      "\n"
     ]
    },
    {
     "name": "stdout",
     "output_type": "stream",
     "text": [
      "Epoch 60, Loss 0.0309\n",
      "Training Accuracy: 0.9651, Testing Accuracy: 0.9682\n",
      "\n"
     ]
    },
    {
     "name": "stdout",
     "output_type": "stream",
     "text": [
      "Epoch 70, Loss 0.0289\n",
      "Training Accuracy: 0.9673, Testing Accuracy: 0.9682\n",
      "\n"
     ]
    },
    {
     "name": "stdout",
     "output_type": "stream",
     "text": [
      "Epoch 80, Loss 0.0272\n",
      "Training Accuracy: 0.9694, Testing Accuracy: 0.9708\n",
      "\n"
     ]
    },
    {
     "name": "stdout",
     "output_type": "stream",
     "text": [
      "Epoch 90, Loss 0.0259\n",
      "Training Accuracy: 0.9712, Testing Accuracy: 0.9713\n",
      "\n"
     ]
    },
    {
     "name": "stdout",
     "output_type": "stream",
     "text": [
      "Epoch 100, Loss 0.0247\n",
      "Training Accuracy: 0.9725, Testing Accuracy: 0.9723\n",
      "\n"
     ]
    },
    {
     "name": "stdout",
     "output_type": "stream",
     "text": [
      "Epoch 110, Loss 0.0237\n",
      "Training Accuracy: 0.9735, Testing Accuracy: 0.9738\n",
      "\n"
     ]
    },
    {
     "name": "stdout",
     "output_type": "stream",
     "text": [
      "Epoch 120, Loss 0.0228\n",
      "Training Accuracy: 0.9741, Testing Accuracy: 0.9758\n",
      "\n"
     ]
    },
    {
     "name": "stdout",
     "output_type": "stream",
     "text": [
      "Epoch 130, Loss 0.0219\n",
      "Training Accuracy: 0.9754, Testing Accuracy: 0.9763\n",
      "\n"
     ]
    },
    {
     "name": "stdout",
     "output_type": "stream",
     "text": [
      "Epoch 140, Loss 0.0212\n",
      "Training Accuracy: 0.9763, Testing Accuracy: 0.9768\n",
      "\n"
     ]
    },
    {
     "name": "stdout",
     "output_type": "stream",
     "text": [
      "Epoch 150, Loss 0.0205\n",
      "Training Accuracy: 0.9770, Testing Accuracy: 0.9773\n",
      "\n"
     ]
    },
    {
     "name": "stdout",
     "output_type": "stream",
     "text": [
      "Epoch 160, Loss 0.0198\n",
      "Training Accuracy: 0.9776, Testing Accuracy: 0.9768\n",
      "\n"
     ]
    },
    {
     "name": "stdout",
     "output_type": "stream",
     "text": [
      "Epoch 170, Loss 0.0192\n",
      "Training Accuracy: 0.9780, Testing Accuracy: 0.9773\n",
      "\n"
     ]
    },
    {
     "name": "stdout",
     "output_type": "stream",
     "text": [
      "Epoch 180, Loss 0.0186\n",
      "Training Accuracy: 0.9786, Testing Accuracy: 0.9773\n",
      "\n"
     ]
    },
    {
     "name": "stdout",
     "output_type": "stream",
     "text": [
      "Epoch 190, Loss 0.0181\n",
      "Training Accuracy: 0.9792, Testing Accuracy: 0.9783\n",
      "\n"
     ]
    },
    {
     "name": "stdout",
     "output_type": "stream",
     "text": [
      "Epoch 200, Loss 0.0176\n",
      "Training Accuracy: 0.9801, Testing Accuracy: 0.9788\n",
      "\n"
     ]
    },
    {
     "name": "stdout",
     "output_type": "stream",
     "text": [
      "Epoch 210, Loss 0.0171\n",
      "Training Accuracy: 0.9804, Testing Accuracy: 0.9788\n",
      "\n"
     ]
    },
    {
     "name": "stdout",
     "output_type": "stream",
     "text": [
      "Epoch 220, Loss 0.0167\n",
      "Training Accuracy: 0.9811, Testing Accuracy: 0.9793\n",
      "\n"
     ]
    },
    {
     "name": "stdout",
     "output_type": "stream",
     "text": [
      "Epoch 230, Loss 0.0162\n",
      "Training Accuracy: 0.9818, Testing Accuracy: 0.9793\n",
      "\n"
     ]
    },
    {
     "name": "stdout",
     "output_type": "stream",
     "text": [
      "Epoch 240, Loss 0.0158\n",
      "Training Accuracy: 0.9826, Testing Accuracy: 0.9793\n",
      "\n"
     ]
    },
    {
     "data": {
      "text/plain": [
       "0.00843125612446274"
      ]
     },
     "execution_count": 22,
     "metadata": {},
     "output_type": "execute_result"
    }
   ],
   "source": [
    "nn_learner.train_loop(dl)"
   ]
  },
  {
   "cell_type": "code",
   "execution_count": 23,
   "id": "e0163366",
   "metadata": {
    "execution": {
     "iopub.execute_input": "2022-05-16T20:13:17.160645Z",
     "iopub.status.busy": "2022-05-16T20:13:17.160039Z",
     "iopub.status.idle": "2022-05-16T20:13:38.389412Z",
     "shell.execute_reply": "2022-05-16T20:13:38.390358Z"
    },
    "papermill": {
     "duration": 21.281751,
     "end_time": "2022-05-16T20:13:38.390554",
     "exception": false,
     "start_time": "2022-05-16T20:13:17.108803",
     "status": "completed"
    },
    "tags": []
   },
   "outputs": [
    {
     "name": "stdout",
     "output_type": "stream",
     "text": [
      "Epoch 0, Loss 0.2435\n",
      "Training Accuracy: 0.6596, Testing Accuracy: 0.7072\n",
      "\n"
     ]
    },
    {
     "name": "stdout",
     "output_type": "stream",
     "text": [
      "Epoch 10, Loss 0.107\n",
      "Training Accuracy: 0.8946, Testing Accuracy: 0.9158\n",
      "\n"
     ]
    },
    {
     "name": "stdout",
     "output_type": "stream",
     "text": [
      "Epoch 20, Loss 0.0822\n",
      "Training Accuracy: 0.9212, Testing Accuracy: 0.9315\n",
      "\n"
     ]
    },
    {
     "name": "stdout",
     "output_type": "stream",
     "text": [
      "Epoch 30, Loss 0.0707\n",
      "Training Accuracy: 0.9311, Testing Accuracy: 0.9430\n",
      "\n"
     ]
    },
    {
     "name": "stdout",
     "output_type": "stream",
     "text": [
      "Epoch 40, Loss 0.0637\n",
      "Training Accuracy: 0.9370, Testing Accuracy: 0.9476\n",
      "\n"
     ]
    },
    {
     "name": "stdout",
     "output_type": "stream",
     "text": [
      "Epoch 50, Loss 0.0589\n",
      "Training Accuracy: 0.9404, Testing Accuracy: 0.9511\n",
      "\n"
     ]
    },
    {
     "name": "stdout",
     "output_type": "stream",
     "text": [
      "Epoch 60, Loss 0.0553\n",
      "Training Accuracy: 0.9424, Testing Accuracy: 0.9541\n",
      "\n"
     ]
    },
    {
     "name": "stdout",
     "output_type": "stream",
     "text": [
      "Epoch 70, Loss 0.0526\n",
      "Training Accuracy: 0.9452, Testing Accuracy: 0.9561\n",
      "\n"
     ]
    },
    {
     "name": "stdout",
     "output_type": "stream",
     "text": [
      "Epoch 80, Loss 0.0504\n",
      "Training Accuracy: 0.9473, Testing Accuracy: 0.9561\n",
      "\n"
     ]
    },
    {
     "name": "stdout",
     "output_type": "stream",
     "text": [
      "Epoch 90, Loss 0.0486\n",
      "Training Accuracy: 0.9485, Testing Accuracy: 0.9592\n",
      "\n"
     ]
    },
    {
     "name": "stdout",
     "output_type": "stream",
     "text": [
      "Epoch 100, Loss 0.0471\n",
      "Training Accuracy: 0.9505, Testing Accuracy: 0.9597\n",
      "\n"
     ]
    },
    {
     "name": "stdout",
     "output_type": "stream",
     "text": [
      "Epoch 110, Loss 0.0458\n",
      "Training Accuracy: 0.9518, Testing Accuracy: 0.9617\n",
      "\n"
     ]
    },
    {
     "name": "stdout",
     "output_type": "stream",
     "text": [
      "Epoch 120, Loss 0.0447\n",
      "Training Accuracy: 0.9530, Testing Accuracy: 0.9627\n",
      "\n"
     ]
    },
    {
     "name": "stdout",
     "output_type": "stream",
     "text": [
      "Epoch 130, Loss 0.0437\n",
      "Training Accuracy: 0.9537, Testing Accuracy: 0.9627\n",
      "\n"
     ]
    },
    {
     "name": "stdout",
     "output_type": "stream",
     "text": [
      "Epoch 140, Loss 0.0428\n",
      "Training Accuracy: 0.9543, Testing Accuracy: 0.9627\n",
      "\n"
     ]
    },
    {
     "name": "stdout",
     "output_type": "stream",
     "text": [
      "Epoch 150, Loss 0.042\n",
      "Training Accuracy: 0.9555, Testing Accuracy: 0.9627\n",
      "\n"
     ]
    },
    {
     "name": "stdout",
     "output_type": "stream",
     "text": [
      "Epoch 160, Loss 0.0413\n",
      "Training Accuracy: 0.9561, Testing Accuracy: 0.9642\n",
      "\n"
     ]
    },
    {
     "name": "stdout",
     "output_type": "stream",
     "text": [
      "Epoch 170, Loss 0.0406\n",
      "Training Accuracy: 0.9569, Testing Accuracy: 0.9647\n",
      "\n"
     ]
    },
    {
     "name": "stdout",
     "output_type": "stream",
     "text": [
      "Epoch 180, Loss 0.04\n",
      "Training Accuracy: 0.9570, Testing Accuracy: 0.9647\n",
      "\n"
     ]
    },
    {
     "name": "stdout",
     "output_type": "stream",
     "text": [
      "Epoch 190, Loss 0.0395\n",
      "Training Accuracy: 0.9575, Testing Accuracy: 0.9652\n",
      "\n"
     ]
    },
    {
     "name": "stdout",
     "output_type": "stream",
     "text": [
      "Epoch 200, Loss 0.039\n",
      "Training Accuracy: 0.9582, Testing Accuracy: 0.9647\n",
      "\n"
     ]
    },
    {
     "name": "stdout",
     "output_type": "stream",
     "text": [
      "Epoch 210, Loss 0.0385\n",
      "Training Accuracy: 0.9589, Testing Accuracy: 0.9652\n",
      "\n"
     ]
    },
    {
     "name": "stdout",
     "output_type": "stream",
     "text": [
      "Epoch 220, Loss 0.0381\n",
      "Training Accuracy: 0.9594, Testing Accuracy: 0.9652\n",
      "\n"
     ]
    },
    {
     "name": "stdout",
     "output_type": "stream",
     "text": [
      "Epoch 230, Loss 0.0377\n",
      "Training Accuracy: 0.9596, Testing Accuracy: 0.9662\n",
      "\n"
     ]
    },
    {
     "name": "stdout",
     "output_type": "stream",
     "text": [
      "Epoch 240, Loss 0.0373\n",
      "Training Accuracy: 0.9599, Testing Accuracy: 0.9667\n",
      "\n"
     ]
    },
    {
     "data": {
      "text/plain": [
       "0.019088136384272446"
      ]
     },
     "execution_count": 23,
     "metadata": {},
     "output_type": "execute_result"
    }
   ],
   "source": [
    "lr_learner.train_loop(dl)"
   ]
  },
  {
   "cell_type": "code",
   "execution_count": 24,
   "id": "ca410940",
   "metadata": {
    "execution": {
     "iopub.execute_input": "2022-05-16T20:13:38.500454Z",
     "iopub.status.busy": "2022-05-16T20:13:38.499832Z",
     "iopub.status.idle": "2022-05-16T20:13:38.833760Z",
     "shell.execute_reply": "2022-05-16T20:13:38.834246Z"
    },
    "papermill": {
     "duration": 0.391491,
     "end_time": "2022-05-16T20:13:38.834441",
     "exception": false,
     "start_time": "2022-05-16T20:13:38.442950",
     "status": "completed"
    },
    "tags": []
   },
   "outputs": [
    {
     "data": {
      "text/plain": [
       "<matplotlib.legend.Legend at 0x7f2ea4beec18>"
      ]
     },
     "execution_count": 24,
     "metadata": {},
     "output_type": "execute_result"
    },
    {
     "data": {
      "image/png": "[encoded data removed]",
      "text/plain": [
       "<Figure size 1080x720 with 1 Axes>"
      ]
     },
     "metadata": {
      "needs_background": "light"
     },
     "output_type": "display_data"
    }
   ],
   "source": [
    "#comparing the results of NN and LR\n",
    "plt.figure(figsize=(15,10))\n",
    "\n",
    "# Neural Network plots\n",
    "plt.plot(acc_nn.accuracies, 'r-', label = \"Training Accuracies - NN\")\n",
    "plt.plot(acc_nn.test_accuracies, 'g-', label = \"Testing Accuracies - NN\")\n",
    "\n",
    "# Logistic Regression plots\n",
    "plt.plot(acc_lr.accuracies, 'k-', label = \"Training Accuracies - LR\")\n",
    "plt.plot(acc_lr.test_accuracies, 'b-', label = \"Testing Accuracies - LR\")\n",
    "plt.legend()"
   ]
  },
  {
   "cell_type": "markdown",
   "id": "80dfb35c",
   "metadata": {
    "papermill": {
     "duration": 0.053422,
     "end_time": "2022-05-16T20:13:38.938346",
     "exception": false,
     "start_time": "2022-05-16T20:13:38.884924",
     "status": "completed"
    },
    "tags": []
   },
   "source": [
    "#### Plotting the outputs of this layer of the NN.\n"
   ]
  },
  {
   "cell_type": "code",
   "execution_count": 25,
   "id": "45eb2ff5",
   "metadata": {
    "execution": {
     "iopub.execute_input": "2022-05-16T20:13:39.050325Z",
     "iopub.status.busy": "2022-05-16T20:13:39.048478Z",
     "iopub.status.idle": "2022-05-16T20:13:39.076387Z",
     "shell.execute_reply": "2022-05-16T20:13:39.076885Z"
    },
    "papermill": {
     "duration": 0.086252,
     "end_time": "2022-05-16T20:13:39.077033",
     "exception": false,
     "start_time": "2022-05-16T20:13:38.990781",
     "status": "completed"
    },
    "tags": []
   },
   "outputs": [],
   "source": [
    "new_model = Model(layers[:-2])\n",
    "testing_plot = new_model(testing_data_x)"
   ]
  },
  {
   "cell_type": "code",
   "execution_count": 26,
   "id": "4c0a5485",
   "metadata": {
    "execution": {
     "iopub.execute_input": "2022-05-16T20:13:39.186431Z",
     "iopub.status.busy": "2022-05-16T20:13:39.185806Z",
     "iopub.status.idle": "2022-05-16T20:13:39.461847Z",
     "shell.execute_reply": "2022-05-16T20:13:39.462395Z"
    },
    "papermill": {
     "duration": 0.333718,
     "end_time": "2022-05-16T20:13:39.462601",
     "exception": false,
     "start_time": "2022-05-16T20:13:39.128883",
     "status": "completed"
    },
    "tags": []
   },
   "outputs": [
    {
     "data": {
      "text/plain": [
       "Text(0.5, 1.0, 'Outputs')"
      ]
     },
     "execution_count": 26,
     "metadata": {},
     "output_type": "execute_result"
    },
    {
     "data": {
      "image/png": "[encoded data removed]",
      "text/plain": [
       "<Figure size 576x504 with 1 Axes>"
      ]
     },
     "metadata": {
      "needs_background": "light"
     },
     "output_type": "display_data"
    }
   ],
   "source": [
    "# Plotting the scatter plot of points and color coding by class\n",
    "plt.figure(figsize=(8,7))\n",
    "plt.scatter(testing_plot[:,0], testing_plot[:,1], alpha = 0.1, c = y_test.ravel());\n",
    "plt.title('Outputs')"
   ]
  },
  {
   "cell_type": "markdown",
   "id": "a74fcf8f",
   "metadata": {
    "papermill": {
     "duration": 0.079215,
     "end_time": "2022-05-16T20:13:39.598040",
     "exception": false,
     "start_time": "2022-05-16T20:13:39.518825",
     "status": "completed"
    },
    "tags": []
   },
   "source": [
    "Probability contours"
   ]
  },
  {
   "cell_type": "code",
   "execution_count": 27,
   "id": "d0afc8e3",
   "metadata": {
    "execution": {
     "iopub.execute_input": "2022-05-16T20:13:39.727434Z",
     "iopub.status.busy": "2022-05-16T20:13:39.726089Z",
     "iopub.status.idle": "2022-05-16T20:13:39.740832Z",
     "shell.execute_reply": "2022-05-16T20:13:39.741333Z"
    },
    "papermill": {
     "duration": 0.077488,
     "end_time": "2022-05-16T20:13:39.741555",
     "exception": false,
     "start_time": "2022-05-16T20:13:39.664067",
     "status": "completed"
    },
    "tags": []
   },
   "outputs": [],
   "source": [
    "model_prob = Model(layers[-2:]) "
   ]
  },
  {
   "cell_type": "code",
   "execution_count": 28,
   "id": "9b96e238",
   "metadata": {
    "execution": {
     "iopub.execute_input": "2022-05-16T20:13:39.857741Z",
     "iopub.status.busy": "2022-05-16T20:13:39.856981Z",
     "iopub.status.idle": "2022-05-16T20:13:39.880788Z",
     "shell.execute_reply": "2022-05-16T20:13:39.880145Z"
    },
    "papermill": {
     "duration": 0.084981,
     "end_time": "2022-05-16T20:13:39.880908",
     "exception": false,
     "start_time": "2022-05-16T20:13:39.795927",
     "status": "completed"
    },
    "tags": []
   },
   "outputs": [],
   "source": [
    "#creating the x and y ranges according to the above generated plot.\n",
    "x_range = np.linspace(-4, 1, 100) \n",
    "y_range = np.linspace(-6, 6, 100) \n",
    "x_grid, y_grid = np.meshgrid(x_range, y_range) # x_grid and y_grig are of size 100 X 100\n",
    "\n",
    "# converting x_grid and y_grid to continuous arrays\n",
    "x_gridflat = np.ravel(x_grid)\n",
    "y_gridflat = np.ravel(y_grid)\n",
    "\n",
    "# The last layer of the current model takes two columns as input. Hence transpose of np.vstack() is required.\n",
    "X = np.vstack((x_gridflat, y_gridflat)).T\n",
    "\n",
    "prob_contour = model_prob(X).reshape(100,100) "
   ]
  },
  {
   "cell_type": "code",
   "execution_count": 29,
   "id": "da72499a",
   "metadata": {
    "execution": {
     "iopub.execute_input": "2022-05-16T20:13:40.002967Z",
     "iopub.status.busy": "2022-05-16T20:13:40.002298Z",
     "iopub.status.idle": "2022-05-16T20:13:40.333633Z",
     "shell.execute_reply": "2022-05-16T20:13:40.333095Z"
    },
    "papermill": {
     "duration": 0.397436,
     "end_time": "2022-05-16T20:13:40.333765",
     "exception": false,
     "start_time": "2022-05-16T20:13:39.936329",
     "status": "completed"
    },
    "tags": []
   },
   "outputs": [
    {
     "data": {
      "image/png": "[encoded data removed]",
      "text/plain": [
       "<Figure size 720x648 with 1 Axes>"
      ]
     },
     "metadata": {
      "needs_background": "light"
     },
     "output_type": "display_data"
    }
   ],
   "source": [
    "plt.figure(figsize=(10,9))\n",
    "plt.scatter(testing_plot[:,0], testing_plot[:,1], alpha = 0.1, c = y_test.ravel())\n",
    "contours = plt.contour(x_grid,y_grid,prob_contour)\n",
    "plt.title('Probability Contours')\n",
    "plt.clabel(contours, inline = True );"
   ]
  },
  {
   "cell_type": "code",
   "execution_count": null,
   "id": "e81b4ac7",
   "metadata": {
    "papermill": {
     "duration": 0.055867,
     "end_time": "2022-05-16T20:13:40.448543",
     "exception": false,
     "start_time": "2022-05-16T20:13:40.392676",
     "status": "completed"
    },
    "tags": []
   },
   "outputs": [],
   "source": []
  }
 ],
 "metadata": {
  "kernelspec": {
   "display_name": "Python 3",
   "language": "python",
   "name": "python3"
  },
  "language_info": {
   "codemirror_mode": {
    "name": "ipython",
    "version": 3
   },
   "file_extension": ".py",
   "mimetype": "text/x-python",
   "name": "python",
   "nbconvert_exporter": "python",
   "pygments_lexer": "ipython3",
   "version": "3.6.15"
  },
  "papermill": {
   "default_parameters": {},
   "duration": 180.483016,
   "end_time": "2022-05-16T20:13:40.926085",
   "environment_variables": {},
   "exception": null,
   "input_path": "2020-08-11-part2.ipynb",
   "output_path": "2020-08-11-part2.ipynb",
   "parameters": {},
   "start_time": "2022-05-16T20:10:40.443069",
   "version": "2.3.3"
  }
 },
 "nbformat": 4,
 "nbformat_minor": 5
}