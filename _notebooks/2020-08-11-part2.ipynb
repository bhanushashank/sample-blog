{
 "cells": [
  {
   "cell_type": "markdown",
   "id": "98380cd3",
   "metadata": {
    "papermill": {
     "duration": 0.025321,
     "end_time": "2022-03-06T20:10:08.833421",
     "exception": false,
     "start_time": "2022-03-06T20:10:08.808100",
     "status": "completed"
    },
    "tags": []
   },
   "source": [
    "# Distinguish Your Own Digits (DYOD)"
   ]
  },
  {
   "cell_type": "markdown",
   "id": "ef31240d",
   "metadata": {
    "papermill": {
     "duration": 0.02245,
     "end_time": "2022-03-06T20:10:08.877581",
     "exception": false,
     "start_time": "2022-03-06T20:10:08.855131",
     "status": "completed"
    },
    "tags": []
   },
   "source": [
    "You are going to write a classifier that distinguishes between the number 3 and number 8."
   ]
  },
  {
   "cell_type": "code",
   "execution_count": 1,
   "id": "b15c8646",
   "metadata": {
    "execution": {
     "iopub.execute_input": "2022-03-06T20:10:08.929546Z",
     "iopub.status.busy": "2022-03-06T20:10:08.927089Z",
     "iopub.status.idle": "2022-03-06T20:10:08.939693Z",
     "shell.execute_reply": "2022-03-06T20:10:08.939260Z"
    },
    "papermill": {
     "duration": 0.041254,
     "end_time": "2022-03-06T20:10:08.939818",
     "exception": false,
     "start_time": "2022-03-06T20:10:08.898564",
     "status": "completed"
    },
    "tags": []
   },
   "outputs": [],
   "source": [
    "%load_ext autoreload\n",
    "%autoreload 2"
   ]
  },
  {
   "cell_type": "code",
   "execution_count": 2,
   "id": "22ef38dc",
   "metadata": {
    "execution": {
     "iopub.execute_input": "2022-03-06T20:10:08.994862Z",
     "iopub.status.busy": "2022-03-06T20:10:08.994326Z",
     "iopub.status.idle": "2022-03-06T20:10:09.503462Z",
     "shell.execute_reply": "2022-03-06T20:10:09.502926Z"
    },
    "papermill": {
     "duration": 0.539776,
     "end_time": "2022-03-06T20:10:09.503601",
     "exception": false,
     "start_time": "2022-03-06T20:10:08.963825",
     "status": "completed"
    },
    "tags": []
   },
   "outputs": [],
   "source": [
    "%matplotlib inline\n",
    "import numpy as np\n",
    "import matplotlib.pyplot as plt\n",
    "import pandas as pd"
   ]
  },
  {
   "cell_type": "markdown",
   "id": "ba036198",
   "metadata": {
    "papermill": {
     "duration": 0.024017,
     "end_time": "2022-03-06T20:10:09.551828",
     "exception": false,
     "start_time": "2022-03-06T20:10:09.527811",
     "status": "completed"
    },
    "tags": []
   },
   "source": [
    "From the command line run `pip install mnist`. This is a library that will help you bring down the mnist dataset. If you run this from a notebook, you need to put  `!pip install mnist` in a cell by itself."
   ]
  },
  {
   "cell_type": "code",
   "execution_count": 3,
   "id": "bb6ad8a1",
   "metadata": {
    "execution": {
     "iopub.execute_input": "2022-03-06T20:10:09.604577Z",
     "iopub.status.busy": "2022-03-06T20:10:09.604065Z",
     "iopub.status.idle": "2022-03-06T20:10:11.338725Z",
     "shell.execute_reply": "2022-03-06T20:10:11.338177Z"
    },
    "papermill": {
     "duration": 1.762922,
     "end_time": "2022-03-06T20:10:11.338866",
     "exception": false,
     "start_time": "2022-03-06T20:10:09.575944",
     "status": "completed"
    },
    "tags": []
   },
   "outputs": [
    {
     "name": "stdout",
     "output_type": "stream",
     "text": [
      "Collecting mnist\r\n"
     ]
    },
    {
     "name": "stdout",
     "output_type": "stream",
     "text": [
      "  Downloading mnist-0.2.2-py2.py3-none-any.whl (3.5 kB)\r\n",
      "Requirement already satisfied: numpy in /opt/hostedtoolcache/Python/3.6.15/x64/lib/python3.6/site-packages (from mnist) (1.19.5)\r\n"
     ]
    },
    {
     "name": "stdout",
     "output_type": "stream",
     "text": [
      "Installing collected packages: mnist\r\n",
      "Successfully installed mnist-0.2.2\r\n"
     ]
    }
   ],
   "source": [
    "!pip install mnist"
   ]
  },
  {
   "cell_type": "markdown",
   "id": "69df9c9a",
   "metadata": {
    "papermill": {
     "duration": 0.025382,
     "end_time": "2022-03-06T20:10:11.390046",
     "exception": false,
     "start_time": "2022-03-06T20:10:11.364664",
     "status": "completed"
    },
    "tags": []
   },
   "source": [
    "## Preparing the Data"
   ]
  },
  {
   "cell_type": "code",
   "execution_count": 4,
   "id": "7f69d806",
   "metadata": {
    "execution": {
     "iopub.execute_input": "2022-03-06T20:10:11.443714Z",
     "iopub.status.busy": "2022-03-06T20:10:11.443203Z",
     "iopub.status.idle": "2022-03-06T20:10:11.457321Z",
     "shell.execute_reply": "2022-03-06T20:10:11.456909Z"
    },
    "papermill": {
     "duration": 0.042403,
     "end_time": "2022-03-06T20:10:11.457434",
     "exception": false,
     "start_time": "2022-03-06T20:10:11.415031",
     "status": "completed"
    },
    "tags": []
   },
   "outputs": [],
   "source": [
    "import mnist"
   ]
  },
  {
   "cell_type": "code",
   "execution_count": 5,
   "id": "a411e44f",
   "metadata": {
    "execution": {
     "iopub.execute_input": "2022-03-06T20:10:11.510670Z",
     "iopub.status.busy": "2022-03-06T20:10:11.510134Z",
     "iopub.status.idle": "2022-03-06T20:10:12.143947Z",
     "shell.execute_reply": "2022-03-06T20:10:12.143413Z"
    },
    "papermill": {
     "duration": 0.661624,
     "end_time": "2022-03-06T20:10:12.144087",
     "exception": false,
     "start_time": "2022-03-06T20:10:11.482463",
     "status": "completed"
    },
    "tags": []
   },
   "outputs": [],
   "source": [
    "train_images = mnist.train_images()\n",
    "train_labels = mnist.train_labels()"
   ]
  },
  {
   "cell_type": "code",
   "execution_count": 6,
   "id": "dceab3a5",
   "metadata": {
    "execution": {
     "iopub.execute_input": "2022-03-06T20:10:12.199983Z",
     "iopub.status.busy": "2022-03-06T20:10:12.199459Z",
     "iopub.status.idle": "2022-03-06T20:10:12.212286Z",
     "shell.execute_reply": "2022-03-06T20:10:12.212679Z"
    },
    "papermill": {
     "duration": 0.042126,
     "end_time": "2022-03-06T20:10:12.212821",
     "exception": false,
     "start_time": "2022-03-06T20:10:12.170695",
     "status": "completed"
    },
    "tags": []
   },
   "outputs": [
    {
     "data": {
      "text/plain": [
       "((60000, 28, 28), (60000,))"
      ]
     },
     "execution_count": 6,
     "metadata": {},
     "output_type": "execute_result"
    }
   ],
   "source": [
    "train_images.shape, train_labels.shape"
   ]
  },
  {
   "cell_type": "code",
   "execution_count": 7,
   "id": "f50dc2bb",
   "metadata": {
    "execution": {
     "iopub.execute_input": "2022-03-06T20:10:12.267667Z",
     "iopub.status.busy": "2022-03-06T20:10:12.267143Z",
     "iopub.status.idle": "2022-03-06T20:10:12.459820Z",
     "shell.execute_reply": "2022-03-06T20:10:12.459270Z"
    },
    "papermill": {
     "duration": 0.221551,
     "end_time": "2022-03-06T20:10:12.459953",
     "exception": false,
     "start_time": "2022-03-06T20:10:12.238402",
     "status": "completed"
    },
    "tags": []
   },
   "outputs": [],
   "source": [
    "test_images = mnist.test_images()\n",
    "test_labels = mnist.test_labels()"
   ]
  },
  {
   "cell_type": "code",
   "execution_count": 8,
   "id": "fc38cf1b",
   "metadata": {
    "execution": {
     "iopub.execute_input": "2022-03-06T20:10:12.528190Z",
     "iopub.status.busy": "2022-03-06T20:10:12.527642Z",
     "iopub.status.idle": "2022-03-06T20:10:12.534734Z",
     "shell.execute_reply": "2022-03-06T20:10:12.534286Z"
    },
    "papermill": {
     "duration": 0.048471,
     "end_time": "2022-03-06T20:10:12.534853",
     "exception": false,
     "start_time": "2022-03-06T20:10:12.486382",
     "status": "completed"
    },
    "tags": []
   },
   "outputs": [
    {
     "data": {
      "text/plain": [
       "((10000, 28, 28), (10000,))"
      ]
     },
     "execution_count": 8,
     "metadata": {},
     "output_type": "execute_result"
    }
   ],
   "source": [
    "test_images.shape, test_labels.shape"
   ]
  },
  {
   "cell_type": "code",
   "execution_count": 9,
   "id": "f9ed8fe0",
   "metadata": {
    "execution": {
     "iopub.execute_input": "2022-03-06T20:10:12.590409Z",
     "iopub.status.busy": "2022-03-06T20:10:12.589889Z",
     "iopub.status.idle": "2022-03-06T20:10:12.727392Z",
     "shell.execute_reply": "2022-03-06T20:10:12.727863Z"
    },
    "papermill": {
     "duration": 0.16734,
     "end_time": "2022-03-06T20:10:12.728014",
     "exception": false,
     "start_time": "2022-03-06T20:10:12.560674",
     "status": "completed"
    },
    "tags": []
   },
   "outputs": [
    {
     "name": "stdout",
     "output_type": "stream",
     "text": [
      "2\n"
     ]
    },
    {
     "data": {
      "text/plain": [
       "<matplotlib.image.AxesImage at 0x7fbf7f7155f8>"
      ]
     },
     "execution_count": 9,
     "metadata": {},
     "output_type": "execute_result"
    },
    {
     "data": {
      "image/png": "[encoded data removed]",
      "text/plain": [
       "<Figure size 432x288 with 1 Axes>"
      ]
     },
     "metadata": {
      "needs_background": "light"
     },
     "output_type": "display_data"
    }
   ],
   "source": [
    "image_index = 7776 # You may select anything up to 60,000\n",
    "print(train_labels[image_index]) \n",
    "plt.imshow(train_images[image_index], cmap='Greys')"
   ]
  },
  {
   "cell_type": "markdown",
   "id": "a8d2388d",
   "metadata": {
    "papermill": {
     "duration": 0.026669,
     "end_time": "2022-03-06T20:10:12.782137",
     "exception": false,
     "start_time": "2022-03-06T20:10:12.755468",
     "status": "completed"
    },
    "tags": []
   },
   "source": [
    "## Filter data to get 3 and 8 out"
   ]
  },
  {
   "cell_type": "code",
   "execution_count": 10,
   "id": "776f7fc7",
   "metadata": {
    "execution": {
     "iopub.execute_input": "2022-03-06T20:10:12.840311Z",
     "iopub.status.busy": "2022-03-06T20:10:12.839765Z",
     "iopub.status.idle": "2022-03-06T20:10:12.856858Z",
     "shell.execute_reply": "2022-03-06T20:10:12.856402Z"
    },
    "papermill": {
     "duration": 0.048029,
     "end_time": "2022-03-06T20:10:12.856974",
     "exception": false,
     "start_time": "2022-03-06T20:10:12.808945",
     "status": "completed"
    },
    "tags": []
   },
   "outputs": [],
   "source": [
    "train_filter = np.where((train_labels == 3 ) | (train_labels == 8))\n",
    "test_filter = np.where((test_labels == 3) | (test_labels == 8))\n",
    "X_train, y_train = train_images[train_filter], train_labels[train_filter]\n",
    "X_test, y_test = test_images[test_filter], test_labels[test_filter]"
   ]
  },
  {
   "cell_type": "markdown",
   "id": "948f0b7e",
   "metadata": {
    "papermill": {
     "duration": 0.026634,
     "end_time": "2022-03-06T20:10:12.910644",
     "exception": false,
     "start_time": "2022-03-06T20:10:12.884010",
     "status": "completed"
    },
    "tags": []
   },
   "source": [
    "We normalize the pizel values in the 0 to 1 range"
   ]
  },
  {
   "cell_type": "code",
   "execution_count": 11,
   "id": "ee4c2166",
   "metadata": {
    "execution": {
     "iopub.execute_input": "2022-03-06T20:10:12.967635Z",
     "iopub.status.busy": "2022-03-06T20:10:12.967108Z",
     "iopub.status.idle": "2022-03-06T20:10:13.015275Z",
     "shell.execute_reply": "2022-03-06T20:10:13.014748Z"
    },
    "papermill": {
     "duration": 0.078159,
     "end_time": "2022-03-06T20:10:13.015409",
     "exception": false,
     "start_time": "2022-03-06T20:10:12.937250",
     "status": "completed"
    },
    "tags": []
   },
   "outputs": [],
   "source": [
    "X_train = X_train/255.\n",
    "X_test = X_test/255."
   ]
  },
  {
   "cell_type": "markdown",
   "id": "ddcf4fab",
   "metadata": {
    "papermill": {
     "duration": 0.027088,
     "end_time": "2022-03-06T20:10:13.069495",
     "exception": false,
     "start_time": "2022-03-06T20:10:13.042407",
     "status": "completed"
    },
    "tags": []
   },
   "source": [
    "And setup the labels as 1 (when the digit is 3) and 0 (when the digit is 8)"
   ]
  },
  {
   "cell_type": "code",
   "execution_count": 12,
   "id": "7dc908f2",
   "metadata": {
    "execution": {
     "iopub.execute_input": "2022-03-06T20:10:13.126943Z",
     "iopub.status.busy": "2022-03-06T20:10:13.126377Z",
     "iopub.status.idle": "2022-03-06T20:10:13.138485Z",
     "shell.execute_reply": "2022-03-06T20:10:13.138055Z"
    },
    "papermill": {
     "duration": 0.042347,
     "end_time": "2022-03-06T20:10:13.138627",
     "exception": false,
     "start_time": "2022-03-06T20:10:13.096280",
     "status": "completed"
    },
    "tags": []
   },
   "outputs": [],
   "source": [
    "y_train = 1*(y_train==3)\n",
    "y_test = 1*(y_test==3)"
   ]
  },
  {
   "cell_type": "code",
   "execution_count": 13,
   "id": "01e4e969",
   "metadata": {
    "execution": {
     "iopub.execute_input": "2022-03-06T20:10:13.198055Z",
     "iopub.status.busy": "2022-03-06T20:10:13.197529Z",
     "iopub.status.idle": "2022-03-06T20:10:13.209424Z",
     "shell.execute_reply": "2022-03-06T20:10:13.209003Z"
    },
    "papermill": {
     "duration": 0.0441,
     "end_time": "2022-03-06T20:10:13.209543",
     "exception": false,
     "start_time": "2022-03-06T20:10:13.165443",
     "status": "completed"
    },
    "tags": []
   },
   "outputs": [
    {
     "data": {
      "text/plain": [
       "((11982, 28, 28), (1984, 28, 28))"
      ]
     },
     "execution_count": 13,
     "metadata": {},
     "output_type": "execute_result"
    }
   ],
   "source": [
    "X_train.shape, X_test.shape"
   ]
  },
  {
   "cell_type": "markdown",
   "id": "5ccf3f85",
   "metadata": {
    "papermill": {
     "duration": 0.026972,
     "end_time": "2022-03-06T20:10:13.263527",
     "exception": false,
     "start_time": "2022-03-06T20:10:13.236555",
     "status": "completed"
    },
    "tags": []
   },
   "source": [
    "We reshape the data to flatten the image pixels into a set of features or co-variates:"
   ]
  },
  {
   "cell_type": "code",
   "execution_count": 14,
   "id": "5286a4a3",
   "metadata": {
    "execution": {
     "iopub.execute_input": "2022-03-06T20:10:13.321874Z",
     "iopub.status.busy": "2022-03-06T20:10:13.321354Z",
     "iopub.status.idle": "2022-03-06T20:10:13.333489Z",
     "shell.execute_reply": "2022-03-06T20:10:13.333063Z"
    },
    "papermill": {
     "duration": 0.042961,
     "end_time": "2022-03-06T20:10:13.333608",
     "exception": false,
     "start_time": "2022-03-06T20:10:13.290647",
     "status": "completed"
    },
    "tags": []
   },
   "outputs": [
    {
     "data": {
      "text/plain": [
       "((11982, 784), (1984, 784))"
      ]
     },
     "execution_count": 14,
     "metadata": {},
     "output_type": "execute_result"
    }
   ],
   "source": [
    "X_train = X_train.reshape(X_train.shape[0], -1)\n",
    "X_test = X_test.reshape(X_test.shape[0], -1)\n",
    "X_train.shape, X_test.shape"
   ]
  },
  {
   "cell_type": "code",
   "execution_count": 15,
   "id": "73c5f88a",
   "metadata": {
    "execution": {
     "iopub.execute_input": "2022-03-06T20:10:13.391986Z",
     "iopub.status.busy": "2022-03-06T20:10:13.391432Z",
     "iopub.status.idle": "2022-03-06T20:10:13.410955Z",
     "shell.execute_reply": "2022-03-06T20:10:13.410436Z"
    },
    "papermill": {
     "duration": 0.049913,
     "end_time": "2022-03-06T20:10:13.411085",
     "exception": false,
     "start_time": "2022-03-06T20:10:13.361172",
     "status": "completed"
    },
    "tags": []
   },
   "outputs": [],
   "source": [
    "#Impoting functions from 'Kudzu'\n",
    "from kudzu.model import Model\n",
    "from kudzu.train import Learner\n",
    "from kudzu.optim import GD\n",
    "from kudzu.data import Data, Sampler,Dataloader\n",
    "\n",
    "from kudzu.callbacks import AccCallback\n",
    "from kudzu.callbacks import ClfCallback\n",
    "\n",
    "from kudzu.loss import MSE\n",
    "\n",
    "from kudzu.layer import Sigmoid,Relu\n",
    "from kudzu.layer import Affine"
   ]
  },
  {
   "cell_type": "markdown",
   "id": "bc01172a",
   "metadata": {
    "papermill": {
     "duration": 0.027142,
     "end_time": "2022-03-06T20:10:13.465667",
     "exception": false,
     "start_time": "2022-03-06T20:10:13.438525",
     "status": "completed"
    },
    "tags": []
   },
   "source": [
    "### Let us create a `Config` class, to store important parameters. \n",
    "This class essentially plays the role of a dictionary."
   ]
  },
  {
   "cell_type": "code",
   "execution_count": 16,
   "id": "978281aa",
   "metadata": {
    "execution": {
     "iopub.execute_input": "2022-03-06T20:10:13.524128Z",
     "iopub.status.busy": "2022-03-06T20:10:13.523597Z",
     "iopub.status.idle": "2022-03-06T20:10:13.536334Z",
     "shell.execute_reply": "2022-03-06T20:10:13.535908Z"
    },
    "papermill": {
     "duration": 0.04362,
     "end_time": "2022-03-06T20:10:13.536452",
     "exception": false,
     "start_time": "2022-03-06T20:10:13.492832",
     "status": "completed"
    },
    "tags": []
   },
   "outputs": [],
   "source": [
    "class Config:\n",
    "    pass\n",
    "config = Config()\n",
    "config.lr = 0.001\n",
    "config.num_epochs = 250\n",
    "config.bs = 50"
   ]
  },
  {
   "cell_type": "markdown",
   "id": "1385fa59",
   "metadata": {
    "papermill": {
     "duration": 0.027195,
     "end_time": "2022-03-06T20:10:13.591166",
     "exception": false,
     "start_time": "2022-03-06T20:10:13.563971",
     "status": "completed"
    },
    "tags": []
   },
   "source": [
    "### Running Models with the Training data\n",
    "Details about the network layers:\n",
    "- A first affine layer has 784 inputs and does 100 affine transforms. These are followed by a Relu\n",
    "- A second affine layer has 100 inputs from the 100 activations of the past layer, and does 100 affine transforms. These are followed by a Relu\n",
    "- A third affine layer has 100 activations and does 2 affine transformations to create an embedding for visualization. There is no non-linearity here.\n",
    "- A final \"logistic regression\" which has an affine transform from 2 inputs to 1 output, which is squeezed through a sigmoid.\n"
   ]
  },
  {
   "cell_type": "code",
   "execution_count": 17,
   "id": "2b9c66db",
   "metadata": {
    "execution": {
     "iopub.execute_input": "2022-03-06T20:10:13.663710Z",
     "iopub.status.busy": "2022-03-06T20:10:13.659025Z",
     "iopub.status.idle": "2022-03-06T20:10:13.665995Z",
     "shell.execute_reply": "2022-03-06T20:10:13.665570Z"
    },
    "papermill": {
     "duration": 0.047556,
     "end_time": "2022-03-06T20:10:13.666114",
     "exception": false,
     "start_time": "2022-03-06T20:10:13.618558",
     "status": "completed"
    },
    "tags": []
   },
   "outputs": [],
   "source": [
    "data = Data(X_train, y_train.reshape(-1,1))\n",
    "sampler = Sampler(data, config.bs, shuffle=True)\n",
    "\n",
    "dl = Dataloader(data, sampler)\n",
    "\n",
    "opt = GD(config.lr)\n",
    "loss = MSE()"
   ]
  },
  {
   "cell_type": "code",
   "execution_count": 18,
   "id": "b275e4c2",
   "metadata": {
    "execution": {
     "iopub.execute_input": "2022-03-06T20:10:13.724815Z",
     "iopub.status.busy": "2022-03-06T20:10:13.724286Z",
     "iopub.status.idle": "2022-03-06T20:10:13.736479Z",
     "shell.execute_reply": "2022-03-06T20:10:13.736025Z"
    },
    "papermill": {
     "duration": 0.042969,
     "end_time": "2022-03-06T20:10:13.736595",
     "exception": false,
     "start_time": "2022-03-06T20:10:13.693626",
     "status": "completed"
    },
    "tags": []
   },
   "outputs": [],
   "source": [
    "training_data_x = X_train\n",
    "testing_data_x = X_test\n",
    "training_data_y = y_train.reshape(-1,1)\n",
    "testing_data_y = y_test.reshape(-1,1)"
   ]
  },
  {
   "cell_type": "code",
   "execution_count": 19,
   "id": "76951160",
   "metadata": {
    "execution": {
     "iopub.execute_input": "2022-03-06T20:10:13.800076Z",
     "iopub.status.busy": "2022-03-06T20:10:13.799518Z",
     "iopub.status.idle": "2022-03-06T20:10:13.812587Z",
     "shell.execute_reply": "2022-03-06T20:10:13.813023Z"
    },
    "papermill": {
     "duration": 0.04925,
     "end_time": "2022-03-06T20:10:13.813159",
     "exception": false,
     "start_time": "2022-03-06T20:10:13.763909",
     "status": "completed"
    },
    "tags": []
   },
   "outputs": [
    {
     "name": "stdout",
     "output_type": "stream",
     "text": [
      "xavier\n",
      "xavier\n",
      "xavier\n",
      "xavier\n",
      "xavier\n"
     ]
    }
   ],
   "source": [
    "layers = [Affine(\"first\", 784, 100), Relu(\"first\"), Affine(\"second\", 100, 100), Relu(\"second\"), Affine(\"third\", 100, 2), Affine(\"last\", 2, 1), Sigmoid(\"last\")]\n",
    "model_nn = Model(layers)\n",
    "model_lr = Model([Affine(\"logits\", 784, 1), Sigmoid(\"sigmoid\")])"
   ]
  },
  {
   "cell_type": "code",
   "execution_count": 20,
   "id": "6eede77a",
   "metadata": {
    "execution": {
     "iopub.execute_input": "2022-03-06T20:10:13.872281Z",
     "iopub.status.busy": "2022-03-06T20:10:13.871761Z",
     "iopub.status.idle": "2022-03-06T20:10:13.884489Z",
     "shell.execute_reply": "2022-03-06T20:10:13.884058Z"
    },
    "papermill": {
     "duration": 0.043884,
     "end_time": "2022-03-06T20:10:13.884610",
     "exception": false,
     "start_time": "2022-03-06T20:10:13.840726",
     "status": "completed"
    },
    "tags": []
   },
   "outputs": [],
   "source": [
    "nn_learner = Learner(loss, model_nn, opt, config.num_epochs)\n",
    "acc_nn = ClfCallback(nn_learner, config.bs, training_data_x , testing_data_x, training_data_y, testing_data_y)\n",
    "nn_learner.set_callbacks([acc_nn])"
   ]
  },
  {
   "cell_type": "code",
   "execution_count": 21,
   "id": "877b6cc7",
   "metadata": {
    "execution": {
     "iopub.execute_input": "2022-03-06T20:10:13.943682Z",
     "iopub.status.busy": "2022-03-06T20:10:13.943156Z",
     "iopub.status.idle": "2022-03-06T20:10:13.955918Z",
     "shell.execute_reply": "2022-03-06T20:10:13.955492Z"
    },
    "papermill": {
     "duration": 0.043842,
     "end_time": "2022-03-06T20:10:13.956040",
     "exception": false,
     "start_time": "2022-03-06T20:10:13.912198",
     "status": "completed"
    },
    "tags": []
   },
   "outputs": [],
   "source": [
    "lr_learner = Learner(loss, model_lr, opt, config.num_epochs)\n",
    "acc_lr = ClfCallback(lr_learner, config.bs, training_data_x , testing_data_x, training_data_y, testing_data_y)\n",
    "lr_learner.set_callbacks([acc_lr])"
   ]
  },
  {
   "cell_type": "code",
   "execution_count": 22,
   "id": "d9b133c3",
   "metadata": {
    "execution": {
     "iopub.execute_input": "2022-03-06T20:10:14.026688Z",
     "iopub.status.busy": "2022-03-06T20:10:14.019292Z",
     "iopub.status.idle": "2022-03-06T20:11:28.057487Z",
     "shell.execute_reply": "2022-03-06T20:11:28.058221Z"
    },
    "papermill": {
     "duration": 74.074856,
     "end_time": "2022-03-06T20:11:28.058371",
     "exception": false,
     "start_time": "2022-03-06T20:10:13.983515",
     "status": "completed"
    },
    "tags": []
   },
   "outputs": [
    {
     "name": "stdout",
     "output_type": "stream",
     "text": [
      "Epoch 0, Loss 0.2591\n",
      "Training Accuracy: 0.5032, Testing Accuracy: 0.5071\n",
      "\n"
     ]
    },
    {
     "name": "stdout",
     "output_type": "stream",
     "text": [
      "Epoch 10, Loss 0.1844\n",
      "Training Accuracy: 0.8834, Testing Accuracy: 0.8866\n",
      "\n"
     ]
    },
    {
     "name": "stdout",
     "output_type": "stream",
     "text": [
      "Epoch 20, Loss 0.0897\n",
      "Training Accuracy: 0.9199, Testing Accuracy: 0.9244\n",
      "\n"
     ]
    },
    {
     "name": "stdout",
     "output_type": "stream",
     "text": [
      "Epoch 30, Loss 0.0581\n",
      "Training Accuracy: 0.9390, Testing Accuracy: 0.9516\n",
      "\n"
     ]
    },
    {
     "name": "stdout",
     "output_type": "stream",
     "text": [
      "Epoch 40, Loss 0.0454\n",
      "Training Accuracy: 0.9498, Testing Accuracy: 0.9592\n",
      "\n"
     ]
    },
    {
     "name": "stdout",
     "output_type": "stream",
     "text": [
      "Epoch 50, Loss 0.039\n",
      "Training Accuracy: 0.9554, Testing Accuracy: 0.9607\n",
      "\n"
     ]
    },
    {
     "name": "stdout",
     "output_type": "stream",
     "text": [
      "Epoch 60, Loss 0.0352\n",
      "Training Accuracy: 0.9591, Testing Accuracy: 0.9637\n",
      "\n"
     ]
    },
    {
     "name": "stdout",
     "output_type": "stream",
     "text": [
      "Epoch 70, Loss 0.0327\n",
      "Training Accuracy: 0.9611, Testing Accuracy: 0.9667\n",
      "\n"
     ]
    },
    {
     "name": "stdout",
     "output_type": "stream",
     "text": [
      "Epoch 80, Loss 0.0308\n",
      "Training Accuracy: 0.9639, Testing Accuracy: 0.9672\n",
      "\n"
     ]
    },
    {
     "name": "stdout",
     "output_type": "stream",
     "text": [
      "Epoch 90, Loss 0.0293\n",
      "Training Accuracy: 0.9658, Testing Accuracy: 0.9677\n",
      "\n"
     ]
    },
    {
     "name": "stdout",
     "output_type": "stream",
     "text": [
      "Epoch 100, Loss 0.0281\n",
      "Training Accuracy: 0.9675, Testing Accuracy: 0.9698\n",
      "\n"
     ]
    },
    {
     "name": "stdout",
     "output_type": "stream",
     "text": [
      "Epoch 110, Loss 0.027\n",
      "Training Accuracy: 0.9683, Testing Accuracy: 0.9718\n",
      "\n"
     ]
    },
    {
     "name": "stdout",
     "output_type": "stream",
     "text": [
      "Epoch 120, Loss 0.0261\n",
      "Training Accuracy: 0.9696, Testing Accuracy: 0.9713\n",
      "\n"
     ]
    },
    {
     "name": "stdout",
     "output_type": "stream",
     "text": [
      "Epoch 130, Loss 0.0252\n",
      "Training Accuracy: 0.9706, Testing Accuracy: 0.9703\n",
      "\n"
     ]
    },
    {
     "name": "stdout",
     "output_type": "stream",
     "text": [
      "Epoch 140, Loss 0.0245\n",
      "Training Accuracy: 0.9715, Testing Accuracy: 0.9718\n",
      "\n"
     ]
    },
    {
     "name": "stdout",
     "output_type": "stream",
     "text": [
      "Epoch 150, Loss 0.0238\n",
      "Training Accuracy: 0.9722, Testing Accuracy: 0.9723\n",
      "\n"
     ]
    },
    {
     "name": "stdout",
     "output_type": "stream",
     "text": [
      "Epoch 160, Loss 0.0231\n",
      "Training Accuracy: 0.9732, Testing Accuracy: 0.9723\n",
      "\n"
     ]
    },
    {
     "name": "stdout",
     "output_type": "stream",
     "text": [
      "Epoch 170, Loss 0.0225\n",
      "Training Accuracy: 0.9736, Testing Accuracy: 0.9728\n",
      "\n"
     ]
    },
    {
     "name": "stdout",
     "output_type": "stream",
     "text": [
      "Epoch 180, Loss 0.022\n",
      "Training Accuracy: 0.9745, Testing Accuracy: 0.9723\n",
      "\n"
     ]
    },
    {
     "name": "stdout",
     "output_type": "stream",
     "text": [
      "Epoch 190, Loss 0.0214\n",
      "Training Accuracy: 0.9753, Testing Accuracy: 0.9728\n",
      "\n"
     ]
    },
    {
     "name": "stdout",
     "output_type": "stream",
     "text": [
      "Epoch 200, Loss 0.0209\n",
      "Training Accuracy: 0.9760, Testing Accuracy: 0.9728\n",
      "\n"
     ]
    },
    {
     "name": "stdout",
     "output_type": "stream",
     "text": [
      "Epoch 210, Loss 0.0204\n",
      "Training Accuracy: 0.9765, Testing Accuracy: 0.9728\n",
      "\n"
     ]
    },
    {
     "name": "stdout",
     "output_type": "stream",
     "text": [
      "Epoch 220, Loss 0.02\n",
      "Training Accuracy: 0.9770, Testing Accuracy: 0.9728\n",
      "\n"
     ]
    },
    {
     "name": "stdout",
     "output_type": "stream",
     "text": [
      "Epoch 230, Loss 0.0195\n",
      "Training Accuracy: 0.9775, Testing Accuracy: 0.9733\n",
      "\n"
     ]
    },
    {
     "name": "stdout",
     "output_type": "stream",
     "text": [
      "Epoch 240, Loss 0.0191\n",
      "Training Accuracy: 0.9782, Testing Accuracy: 0.9738\n",
      "\n"
     ]
    },
    {
     "data": {
      "text/plain": [
       "0.013799908200367961"
      ]
     },
     "execution_count": 22,
     "metadata": {},
     "output_type": "execute_result"
    }
   ],
   "source": [
    "nn_learner.train_loop(dl)"
   ]
  },
  {
   "cell_type": "code",
   "execution_count": 23,
   "id": "e0163366",
   "metadata": {
    "execution": {
     "iopub.execute_input": "2022-03-06T20:11:28.136341Z",
     "iopub.status.busy": "2022-03-06T20:11:28.135828Z",
     "iopub.status.idle": "2022-03-06T20:11:41.504356Z",
     "shell.execute_reply": "2022-03-06T20:11:41.505082Z"
    },
    "papermill": {
     "duration": 13.411878,
     "end_time": "2022-03-06T20:11:41.505229",
     "exception": false,
     "start_time": "2022-03-06T20:11:28.093351",
     "status": "completed"
    },
    "tags": []
   },
   "outputs": [
    {
     "name": "stdout",
     "output_type": "stream",
     "text": [
      "Epoch 0, Loss 0.2546\n",
      "Training Accuracy: 0.6282, Testing Accuracy: 0.6053\n",
      "\n"
     ]
    },
    {
     "name": "stdout",
     "output_type": "stream",
     "text": [
      "Epoch 10, Loss 0.1043\n",
      "Training Accuracy: 0.9080, Testing Accuracy: 0.9183\n",
      "\n"
     ]
    },
    {
     "name": "stdout",
     "output_type": "stream",
     "text": [
      "Epoch 20, Loss 0.0795\n",
      "Training Accuracy: 0.9278, Testing Accuracy: 0.9380\n",
      "\n"
     ]
    },
    {
     "name": "stdout",
     "output_type": "stream",
     "text": [
      "Epoch 30, Loss 0.0684\n",
      "Training Accuracy: 0.9354, Testing Accuracy: 0.9451\n",
      "\n"
     ]
    },
    {
     "name": "stdout",
     "output_type": "stream",
     "text": [
      "Epoch 40, Loss 0.0617\n",
      "Training Accuracy: 0.9406, Testing Accuracy: 0.9506\n",
      "\n"
     ]
    },
    {
     "name": "stdout",
     "output_type": "stream",
     "text": [
      "Epoch 50, Loss 0.0571\n",
      "Training Accuracy: 0.9435, Testing Accuracy: 0.9531\n",
      "\n"
     ]
    },
    {
     "name": "stdout",
     "output_type": "stream",
     "text": [
      "Epoch 60, Loss 0.0538\n",
      "Training Accuracy: 0.9463, Testing Accuracy: 0.9551\n",
      "\n"
     ]
    },
    {
     "name": "stdout",
     "output_type": "stream",
     "text": [
      "Epoch 70, Loss 0.0513\n",
      "Training Accuracy: 0.9483, Testing Accuracy: 0.9587\n",
      "\n"
     ]
    },
    {
     "name": "stdout",
     "output_type": "stream",
     "text": [
      "Epoch 80, Loss 0.0492\n",
      "Training Accuracy: 0.9500, Testing Accuracy: 0.9602\n",
      "\n"
     ]
    },
    {
     "name": "stdout",
     "output_type": "stream",
     "text": [
      "Epoch 90, Loss 0.0475\n",
      "Training Accuracy: 0.9517, Testing Accuracy: 0.9627\n",
      "\n"
     ]
    },
    {
     "name": "stdout",
     "output_type": "stream",
     "text": [
      "Epoch 100, Loss 0.0461\n",
      "Training Accuracy: 0.9533, Testing Accuracy: 0.9637\n",
      "\n"
     ]
    },
    {
     "name": "stdout",
     "output_type": "stream",
     "text": [
      "Epoch 110, Loss 0.0448\n",
      "Training Accuracy: 0.9538, Testing Accuracy: 0.9632\n",
      "\n"
     ]
    },
    {
     "name": "stdout",
     "output_type": "stream",
     "text": [
      "Epoch 120, Loss 0.0438\n",
      "Training Accuracy: 0.9546, Testing Accuracy: 0.9637\n",
      "\n"
     ]
    },
    {
     "name": "stdout",
     "output_type": "stream",
     "text": [
      "Epoch 130, Loss 0.0428\n",
      "Training Accuracy: 0.9548, Testing Accuracy: 0.9652\n",
      "\n"
     ]
    },
    {
     "name": "stdout",
     "output_type": "stream",
     "text": [
      "Epoch 140, Loss 0.042\n",
      "Training Accuracy: 0.9559, Testing Accuracy: 0.9667\n",
      "\n"
     ]
    },
    {
     "name": "stdout",
     "output_type": "stream",
     "text": [
      "Epoch 150, Loss 0.0413\n",
      "Training Accuracy: 0.9567, Testing Accuracy: 0.9667\n",
      "\n"
     ]
    },
    {
     "name": "stdout",
     "output_type": "stream",
     "text": [
      "Epoch 160, Loss 0.0406\n",
      "Training Accuracy: 0.9577, Testing Accuracy: 0.9667\n",
      "\n"
     ]
    },
    {
     "name": "stdout",
     "output_type": "stream",
     "text": [
      "Epoch 170, Loss 0.04\n",
      "Training Accuracy: 0.9583, Testing Accuracy: 0.9667\n",
      "\n"
     ]
    },
    {
     "name": "stdout",
     "output_type": "stream",
     "text": [
      "Epoch 180, Loss 0.0394\n",
      "Training Accuracy: 0.9588, Testing Accuracy: 0.9667\n",
      "\n"
     ]
    },
    {
     "name": "stdout",
     "output_type": "stream",
     "text": [
      "Epoch 190, Loss 0.0389\n",
      "Training Accuracy: 0.9593, Testing Accuracy: 0.9667\n",
      "\n"
     ]
    },
    {
     "name": "stdout",
     "output_type": "stream",
     "text": [
      "Epoch 200, Loss 0.0384\n",
      "Training Accuracy: 0.9594, Testing Accuracy: 0.9677\n",
      "\n"
     ]
    },
    {
     "name": "stdout",
     "output_type": "stream",
     "text": [
      "Epoch 210, Loss 0.038\n",
      "Training Accuracy: 0.9597, Testing Accuracy: 0.9677\n",
      "\n"
     ]
    },
    {
     "name": "stdout",
     "output_type": "stream",
     "text": [
      "Epoch 220, Loss 0.0376\n",
      "Training Accuracy: 0.9601, Testing Accuracy: 0.9677\n",
      "\n"
     ]
    },
    {
     "name": "stdout",
     "output_type": "stream",
     "text": [
      "Epoch 230, Loss 0.0372\n",
      "Training Accuracy: 0.9602, Testing Accuracy: 0.9677\n",
      "\n"
     ]
    },
    {
     "name": "stdout",
     "output_type": "stream",
     "text": [
      "Epoch 240, Loss 0.0368\n",
      "Training Accuracy: 0.9607, Testing Accuracy: 0.9677\n",
      "\n"
     ]
    },
    {
     "data": {
      "text/plain": [
       "0.011687746897644498"
      ]
     },
     "execution_count": 23,
     "metadata": {},
     "output_type": "execute_result"
    }
   ],
   "source": [
    "lr_learner.train_loop(dl)"
   ]
  },
  {
   "cell_type": "code",
   "execution_count": 24,
   "id": "ca410940",
   "metadata": {
    "execution": {
     "iopub.execute_input": "2022-03-06T20:11:41.599006Z",
     "iopub.status.busy": "2022-03-06T20:11:41.598455Z",
     "iopub.status.idle": "2022-03-06T20:11:41.819306Z",
     "shell.execute_reply": "2022-03-06T20:11:41.818785Z"
    },
    "papermill": {
     "duration": 0.272513,
     "end_time": "2022-03-06T20:11:41.819435",
     "exception": false,
     "start_time": "2022-03-06T20:11:41.546922",
     "status": "completed"
    },
    "tags": []
   },
   "outputs": [
    {
     "data": {
      "text/plain": [
       "<matplotlib.legend.Legend at 0x7fbf7f2f1d30>"
      ]
     },
     "execution_count": 24,
     "metadata": {},
     "output_type": "execute_result"
    },
    {
     "data": {
      "image/png": "[encoded data removed]",
      "text/plain": [
       "<Figure size 1080x720 with 1 Axes>"
      ]
     },
     "metadata": {
      "needs_background": "light"
     },
     "output_type": "display_data"
    }
   ],
   "source": [
    "#comparing the results of NN and LR\n",
    "plt.figure(figsize=(15,10))\n",
    "\n",
    "# Neural Network plots\n",
    "plt.plot(acc_nn.accuracies, 'r-', label = \"Training Accuracies - NN\")\n",
    "plt.plot(acc_nn.test_accuracies, 'g-', label = \"Testing Accuracies - NN\")\n",
    "\n",
    "# Logistic Regression plots\n",
    "plt.plot(acc_lr.accuracies, 'k-', label = \"Training Accuracies - LR\")\n",
    "plt.plot(acc_lr.test_accuracies, 'b-', label = \"Testing Accuracies - LR\")\n",
    "plt.legend()"
   ]
  },
  {
   "cell_type": "markdown",
   "id": "80dfb35c",
   "metadata": {
    "papermill": {
     "duration": 0.042314,
     "end_time": "2022-03-06T20:11:41.904646",
     "exception": false,
     "start_time": "2022-03-06T20:11:41.862332",
     "status": "completed"
    },
    "tags": []
   },
   "source": [
    "#### Plotting the outputs of this layer of the NN.\n"
   ]
  },
  {
   "cell_type": "code",
   "execution_count": 25,
   "id": "45eb2ff5",
   "metadata": {
    "execution": {
     "iopub.execute_input": "2022-03-06T20:11:41.993404Z",
     "iopub.status.busy": "2022-03-06T20:11:41.992859Z",
     "iopub.status.idle": "2022-03-06T20:11:42.011993Z",
     "shell.execute_reply": "2022-03-06T20:11:42.012388Z"
    },
    "papermill": {
     "duration": 0.065691,
     "end_time": "2022-03-06T20:11:42.012529",
     "exception": false,
     "start_time": "2022-03-06T20:11:41.946838",
     "status": "completed"
    },
    "tags": []
   },
   "outputs": [],
   "source": [
    "new_model = Model(layers[:-2])\n",
    "testing_plot = new_model(testing_data_x)"
   ]
  },
  {
   "cell_type": "code",
   "execution_count": 26,
   "id": "4c0a5485",
   "metadata": {
    "execution": {
     "iopub.execute_input": "2022-03-06T20:11:42.103707Z",
     "iopub.status.busy": "2022-03-06T20:11:42.103187Z",
     "iopub.status.idle": "2022-03-06T20:11:42.305011Z",
     "shell.execute_reply": "2022-03-06T20:11:42.305426Z"
    },
    "papermill": {
     "duration": 0.248529,
     "end_time": "2022-03-06T20:11:42.305563",
     "exception": false,
     "start_time": "2022-03-06T20:11:42.057034",
     "status": "completed"
    },
    "tags": []
   },
   "outputs": [
    {
     "data": {
      "text/plain": [
       "Text(0.5, 1.0, 'Outputs')"
      ]
     },
     "execution_count": 26,
     "metadata": {},
     "output_type": "execute_result"
    },
    {
     "data": {
      "image/png": "[encoded data removed]",
      "text/plain": [
       "<Figure size 576x504 with 1 Axes>"
      ]
     },
     "metadata": {
      "needs_background": "light"
     },
     "output_type": "display_data"
    }
   ],
   "source": [
    "# Plotting the scatter plot of points and color coding by class\n",
    "plt.figure(figsize=(8,7))\n",
    "plt.scatter(testing_plot[:,0], testing_plot[:,1], alpha = 0.1, c = y_test.ravel());\n",
    "plt.title('Outputs')"
   ]
  },
  {
   "cell_type": "markdown",
   "id": "a74fcf8f",
   "metadata": {
    "papermill": {
     "duration": 0.04418,
     "end_time": "2022-03-06T20:11:42.394189",
     "exception": false,
     "start_time": "2022-03-06T20:11:42.350009",
     "status": "completed"
    },
    "tags": []
   },
   "source": [
    "Probability contours"
   ]
  },
  {
   "cell_type": "code",
   "execution_count": 27,
   "id": "d0afc8e3",
   "metadata": {
    "execution": {
     "iopub.execute_input": "2022-03-06T20:11:42.496599Z",
     "iopub.status.busy": "2022-03-06T20:11:42.495440Z",
     "iopub.status.idle": "2022-03-06T20:11:42.500868Z",
     "shell.execute_reply": "2022-03-06T20:11:42.501273Z"
    },
    "papermill": {
     "duration": 0.063154,
     "end_time": "2022-03-06T20:11:42.501401",
     "exception": false,
     "start_time": "2022-03-06T20:11:42.438247",
     "status": "completed"
    },
    "tags": []
   },
   "outputs": [],
   "source": [
    "model_prob = Model(layers[-2:]) "
   ]
  },
  {
   "cell_type": "code",
   "execution_count": 28,
   "id": "9b96e238",
   "metadata": {
    "execution": {
     "iopub.execute_input": "2022-03-06T20:11:42.599274Z",
     "iopub.status.busy": "2022-03-06T20:11:42.597737Z",
     "iopub.status.idle": "2022-03-06T20:11:42.609265Z",
     "shell.execute_reply": "2022-03-06T20:11:42.608760Z"
    },
    "papermill": {
     "duration": 0.063677,
     "end_time": "2022-03-06T20:11:42.609375",
     "exception": false,
     "start_time": "2022-03-06T20:11:42.545698",
     "status": "completed"
    },
    "tags": []
   },
   "outputs": [],
   "source": [
    "#creating the x and y ranges according to the above generated plot.\n",
    "x_range = np.linspace(-4, 1, 100) \n",
    "y_range = np.linspace(-6, 6, 100) \n",
    "x_grid, y_grid = np.meshgrid(x_range, y_range) # x_grid and y_grig are of size 100 X 100\n",
    "\n",
    "# converting x_grid and y_grid to continuous arrays\n",
    "x_gridflat = np.ravel(x_grid)\n",
    "y_gridflat = np.ravel(y_grid)\n",
    "\n",
    "# The last layer of the current model takes two columns as input. Hence transpose of np.vstack() is required.\n",
    "X = np.vstack((x_gridflat, y_gridflat)).T\n",
    "\n",
    "prob_contour = model_prob(X).reshape(100,100) "
   ]
  },
  {
   "cell_type": "code",
   "execution_count": 29,
   "id": "da72499a",
   "metadata": {
    "execution": {
     "iopub.execute_input": "2022-03-06T20:11:42.728649Z",
     "iopub.status.busy": "2022-03-06T20:11:42.727525Z",
     "iopub.status.idle": "2022-03-06T20:11:42.972485Z",
     "shell.execute_reply": "2022-03-06T20:11:42.972029Z"
    },
    "papermill": {
     "duration": 0.318846,
     "end_time": "2022-03-06T20:11:42.972601",
     "exception": false,
     "start_time": "2022-03-06T20:11:42.653755",
     "status": "completed"
    },
    "tags": []
   },
   "outputs": [
    {
     "data": {
      "image/png": "[encoded data removed]",
      "text/plain": [
       "<Figure size 720x648 with 1 Axes>"
      ]
     },
     "metadata": {
      "needs_background": "light"
     },
     "output_type": "display_data"
    }
   ],
   "source": [
    "plt.figure(figsize=(10,9))\n",
    "plt.scatter(testing_plot[:,0], testing_plot[:,1], alpha = 0.1, c = y_test.ravel())\n",
    "contours = plt.contour(x_grid,y_grid,prob_contour)\n",
    "plt.title('Probability Contours')\n",
    "plt.clabel(contours, inline = True );"
   ]
  },
  {
   "cell_type": "code",
   "execution_count": null,
   "id": "e81b4ac7",
   "metadata": {
    "papermill": {
     "duration": 0.046894,
     "end_time": "2022-03-06T20:11:43.066985",
     "exception": false,
     "start_time": "2022-03-06T20:11:43.020091",
     "status": "completed"
    },
    "tags": []
   },
   "outputs": [],
   "source": []
  }
 ],
 "metadata": {
  "kernelspec": {
   "display_name": "Python 3",
   "language": "python",
   "name": "python3"
  },
  "language_info": {
   "codemirror_mode": {
    "name": "ipython",
    "version": 3
   },
   "file_extension": ".py",
   "mimetype": "text/x-python",
   "name": "python",
   "nbconvert_exporter": "python",
   "pygments_lexer": "ipython3",
   "version": "3.6.15"
  },
  "papermill": {
   "default_parameters": {},
   "duration": 95.652143,
   "end_time": "2022-03-06T20:11:43.532156",
   "environment_variables": {},
   "exception": null,
   "input_path": "2020-08-11-part2.ipynb",
   "output_path": "2020-08-11-part2.ipynb",
   "parameters": {},
   "start_time": "2022-03-06T20:10:07.880013",
   "version": "2.3.3"
  }
 },
 "nbformat": 4,
 "nbformat_minor": 5
}