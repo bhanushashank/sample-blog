{
 "cells": [
  {
   "cell_type": "markdown",
   "id": "98380cd3",
   "metadata": {
    "papermill": {
     "duration": 0.040026,
     "end_time": "2022-08-25T00:47:59.093426",
     "exception": false,
     "start_time": "2022-08-25T00:47:59.053400",
     "status": "completed"
    },
    "tags": []
   },
   "source": [
    "# Distinguish Your Own Digits (DYOD)"
   ]
  },
  {
   "cell_type": "markdown",
   "id": "ef31240d",
   "metadata": {
    "papermill": {
     "duration": 0.027557,
     "end_time": "2022-08-25T00:47:59.151440",
     "exception": false,
     "start_time": "2022-08-25T00:47:59.123883",
     "status": "completed"
    },
    "tags": []
   },
   "source": [
    "You are going to write a classifier that distinguishes between the number 3 and number 8."
   ]
  },
  {
   "cell_type": "code",
   "execution_count": 1,
   "id": "b15c8646",
   "metadata": {
    "execution": {
     "iopub.execute_input": "2022-08-25T00:47:59.219740Z",
     "iopub.status.busy": "2022-08-25T00:47:59.219007Z",
     "iopub.status.idle": "2022-08-25T00:47:59.231147Z",
     "shell.execute_reply": "2022-08-25T00:47:59.230480Z"
    },
    "papermill": {
     "duration": 0.050101,
     "end_time": "2022-08-25T00:47:59.231286",
     "exception": false,
     "start_time": "2022-08-25T00:47:59.181185",
     "status": "completed"
    },
    "tags": []
   },
   "outputs": [],
   "source": [
    "%load_ext autoreload\n",
    "%autoreload 2"
   ]
  },
  {
   "cell_type": "code",
   "execution_count": 2,
   "id": "22ef38dc",
   "metadata": {
    "execution": {
     "iopub.execute_input": "2022-08-25T00:47:59.293574Z",
     "iopub.status.busy": "2022-08-25T00:47:59.292559Z",
     "iopub.status.idle": "2022-08-25T00:47:59.918679Z",
     "shell.execute_reply": "2022-08-25T00:47:59.917016Z"
    },
    "papermill": {
     "duration": 0.658733,
     "end_time": "2022-08-25T00:47:59.918815",
     "exception": false,
     "start_time": "2022-08-25T00:47:59.260082",
     "status": "completed"
    },
    "tags": []
   },
   "outputs": [],
   "source": [
    "%matplotlib inline\n",
    "import numpy as np\n",
    "import matplotlib.pyplot as plt\n",
    "import pandas as pd"
   ]
  },
  {
   "cell_type": "markdown",
   "id": "ba036198",
   "metadata": {
    "papermill": {
     "duration": 0.029726,
     "end_time": "2022-08-25T00:47:59.976473",
     "exception": false,
     "start_time": "2022-08-25T00:47:59.946747",
     "status": "completed"
    },
    "tags": []
   },
   "source": [
    "From the command line run `pip install mnist`. This is a library that will help you bring down the mnist dataset. If you run this from a notebook, you need to put  `!pip install mnist` in a cell by itself."
   ]
  },
  {
   "cell_type": "code",
   "execution_count": 3,
   "id": "bb6ad8a1",
   "metadata": {
    "execution": {
     "iopub.execute_input": "2022-08-25T00:48:00.034916Z",
     "iopub.status.busy": "2022-08-25T00:48:00.033891Z",
     "iopub.status.idle": "2022-08-25T00:48:01.884914Z",
     "shell.execute_reply": "2022-08-25T00:48:01.883460Z"
    },
    "papermill": {
     "duration": 1.88179,
     "end_time": "2022-08-25T00:48:01.885057",
     "exception": false,
     "start_time": "2022-08-25T00:48:00.003267",
     "status": "completed"
    },
    "tags": []
   },
   "outputs": [
    {
     "name": "stdout",
     "output_type": "stream",
     "text": [
      "Collecting mnist\r\n"
     ]
    },
    {
     "name": "stdout",
     "output_type": "stream",
     "text": [
      "  Downloading mnist-0.2.2-py2.py3-none-any.whl (3.5 kB)\r\n",
      "Requirement already satisfied: numpy in /opt/hostedtoolcache/Python/3.6.15/x64/lib/python3.6/site-packages (from mnist) (1.19.5)\r\n"
     ]
    },
    {
     "name": "stdout",
     "output_type": "stream",
     "text": [
      "Installing collected packages: mnist\r\n",
      "Successfully installed mnist-0.2.2\r\n"
     ]
    }
   ],
   "source": [
    "!pip install mnist"
   ]
  },
  {
   "cell_type": "markdown",
   "id": "69df9c9a",
   "metadata": {
    "papermill": {
     "duration": 0.02691,
     "end_time": "2022-08-25T00:48:01.939278",
     "exception": false,
     "start_time": "2022-08-25T00:48:01.912368",
     "status": "completed"
    },
    "tags": []
   },
   "source": [
    "## Preparing the Data"
   ]
  },
  {
   "cell_type": "code",
   "execution_count": 4,
   "id": "7f69d806",
   "metadata": {
    "execution": {
     "iopub.execute_input": "2022-08-25T00:48:02.006392Z",
     "iopub.status.busy": "2022-08-25T00:48:02.002603Z",
     "iopub.status.idle": "2022-08-25T00:48:02.017052Z",
     "shell.execute_reply": "2022-08-25T00:48:02.017582Z"
    },
    "papermill": {
     "duration": 0.050934,
     "end_time": "2022-08-25T00:48:02.017729",
     "exception": false,
     "start_time": "2022-08-25T00:48:01.966795",
     "status": "completed"
    },
    "tags": []
   },
   "outputs": [],
   "source": [
    "import mnist"
   ]
  },
  {
   "cell_type": "code",
   "execution_count": 5,
   "id": "a411e44f",
   "metadata": {
    "execution": {
     "iopub.execute_input": "2022-08-25T00:48:02.077170Z",
     "iopub.status.busy": "2022-08-25T00:48:02.076492Z",
     "iopub.status.idle": "2022-08-25T00:48:02.688740Z",
     "shell.execute_reply": "2022-08-25T00:48:02.689237Z"
    },
    "papermill": {
     "duration": 0.645064,
     "end_time": "2022-08-25T00:48:02.689429",
     "exception": false,
     "start_time": "2022-08-25T00:48:02.044365",
     "status": "completed"
    },
    "tags": []
   },
   "outputs": [],
   "source": [
    "train_images = mnist.train_images()\n",
    "train_labels = mnist.train_labels()"
   ]
  },
  {
   "cell_type": "code",
   "execution_count": 6,
   "id": "dceab3a5",
   "metadata": {
    "execution": {
     "iopub.execute_input": "2022-08-25T00:48:02.752593Z",
     "iopub.status.busy": "2022-08-25T00:48:02.751891Z",
     "iopub.status.idle": "2022-08-25T00:48:02.768744Z",
     "shell.execute_reply": "2022-08-25T00:48:02.768089Z"
    },
    "papermill": {
     "duration": 0.049455,
     "end_time": "2022-08-25T00:48:02.768867",
     "exception": false,
     "start_time": "2022-08-25T00:48:02.719412",
     "status": "completed"
    },
    "tags": []
   },
   "outputs": [
    {
     "data": {
      "text/plain": [
       "((60000, 28, 28), (60000,))"
      ]
     },
     "execution_count": 6,
     "metadata": {},
     "output_type": "execute_result"
    }
   ],
   "source": [
    "train_images.shape, train_labels.shape"
   ]
  },
  {
   "cell_type": "code",
   "execution_count": 7,
   "id": "f50dc2bb",
   "metadata": {
    "execution": {
     "iopub.execute_input": "2022-08-25T00:48:02.827639Z",
     "iopub.status.busy": "2022-08-25T00:48:02.826989Z",
     "iopub.status.idle": "2022-08-25T00:48:02.970491Z",
     "shell.execute_reply": "2022-08-25T00:48:02.969446Z"
    },
    "papermill": {
     "duration": 0.17524,
     "end_time": "2022-08-25T00:48:02.970703",
     "exception": false,
     "start_time": "2022-08-25T00:48:02.795463",
     "status": "completed"
    },
    "tags": []
   },
   "outputs": [],
   "source": [
    "test_images = mnist.test_images()\n",
    "test_labels = mnist.test_labels()"
   ]
  },
  {
   "cell_type": "code",
   "execution_count": 8,
   "id": "fc38cf1b",
   "metadata": {
    "execution": {
     "iopub.execute_input": "2022-08-25T00:48:03.031046Z",
     "iopub.status.busy": "2022-08-25T00:48:03.030362Z",
     "iopub.status.idle": "2022-08-25T00:48:03.045186Z",
     "shell.execute_reply": "2022-08-25T00:48:03.044609Z"
    },
    "papermill": {
     "duration": 0.04651,
     "end_time": "2022-08-25T00:48:03.045337",
     "exception": false,
     "start_time": "2022-08-25T00:48:02.998827",
     "status": "completed"
    },
    "tags": []
   },
   "outputs": [
    {
     "data": {
      "text/plain": [
       "((10000, 28, 28), (10000,))"
      ]
     },
     "execution_count": 8,
     "metadata": {},
     "output_type": "execute_result"
    }
   ],
   "source": [
    "test_images.shape, test_labels.shape"
   ]
  },
  {
   "cell_type": "code",
   "execution_count": 9,
   "id": "f9ed8fe0",
   "metadata": {
    "execution": {
     "iopub.execute_input": "2022-08-25T00:48:03.107218Z",
     "iopub.status.busy": "2022-08-25T00:48:03.106027Z",
     "iopub.status.idle": "2022-08-25T00:48:03.267204Z",
     "shell.execute_reply": "2022-08-25T00:48:03.266601Z"
    },
    "papermill": {
     "duration": 0.193692,
     "end_time": "2022-08-25T00:48:03.267334",
     "exception": false,
     "start_time": "2022-08-25T00:48:03.073642",
     "status": "completed"
    },
    "tags": []
   },
   "outputs": [
    {
     "name": "stdout",
     "output_type": "stream",
     "text": [
      "2\n"
     ]
    },
    {
     "data": {
      "text/plain": [
       "<matplotlib.image.AxesImage at 0x7f814bc289e8>"
      ]
     },
     "execution_count": 9,
     "metadata": {},
     "output_type": "execute_result"
    },
    {
     "data": {
      "image/png": "[encoded data removed]",
      "text/plain": [
       "<Figure size 432x288 with 1 Axes>"
      ]
     },
     "metadata": {
      "needs_background": "light"
     },
     "output_type": "display_data"
    }
   ],
   "source": [
    "image_index = 7776 # You may select anything up to 60,000\n",
    "print(train_labels[image_index]) \n",
    "plt.imshow(train_images[image_index], cmap='Greys')"
   ]
  },
  {
   "cell_type": "markdown",
   "id": "a8d2388d",
   "metadata": {
    "papermill": {
     "duration": 0.028896,
     "end_time": "2022-08-25T00:48:03.324934",
     "exception": false,
     "start_time": "2022-08-25T00:48:03.296038",
     "status": "completed"
    },
    "tags": []
   },
   "source": [
    "## Filter data to get 3 and 8 out"
   ]
  },
  {
   "cell_type": "code",
   "execution_count": 10,
   "id": "776f7fc7",
   "metadata": {
    "execution": {
     "iopub.execute_input": "2022-08-25T00:48:03.388490Z",
     "iopub.status.busy": "2022-08-25T00:48:03.387808Z",
     "iopub.status.idle": "2022-08-25T00:48:03.408842Z",
     "shell.execute_reply": "2022-08-25T00:48:03.408299Z"
    },
    "papermill": {
     "duration": 0.05584,
     "end_time": "2022-08-25T00:48:03.408965",
     "exception": false,
     "start_time": "2022-08-25T00:48:03.353125",
     "status": "completed"
    },
    "tags": []
   },
   "outputs": [],
   "source": [
    "train_filter = np.where((train_labels == 3 ) | (train_labels == 8))\n",
    "test_filter = np.where((test_labels == 3) | (test_labels == 8))\n",
    "X_train, y_train = train_images[train_filter], train_labels[train_filter]\n",
    "X_test, y_test = test_images[test_filter], test_labels[test_filter]"
   ]
  },
  {
   "cell_type": "markdown",
   "id": "948f0b7e",
   "metadata": {
    "papermill": {
     "duration": 0.029021,
     "end_time": "2022-08-25T00:48:03.467296",
     "exception": false,
     "start_time": "2022-08-25T00:48:03.438275",
     "status": "completed"
    },
    "tags": []
   },
   "source": [
    "We normalize the pizel values in the 0 to 1 range"
   ]
  },
  {
   "cell_type": "code",
   "execution_count": 11,
   "id": "ee4c2166",
   "metadata": {
    "execution": {
     "iopub.execute_input": "2022-08-25T00:48:03.530775Z",
     "iopub.status.busy": "2022-08-25T00:48:03.530107Z",
     "iopub.status.idle": "2022-08-25T00:48:03.582444Z",
     "shell.execute_reply": "2022-08-25T00:48:03.581799Z"
    },
    "papermill": {
     "duration": 0.08697,
     "end_time": "2022-08-25T00:48:03.582588",
     "exception": false,
     "start_time": "2022-08-25T00:48:03.495618",
     "status": "completed"
    },
    "tags": []
   },
   "outputs": [],
   "source": [
    "X_train = X_train/255.\n",
    "X_test = X_test/255."
   ]
  },
  {
   "cell_type": "markdown",
   "id": "ddcf4fab",
   "metadata": {
    "papermill": {
     "duration": 0.029276,
     "end_time": "2022-08-25T00:48:03.642756",
     "exception": false,
     "start_time": "2022-08-25T00:48:03.613480",
     "status": "completed"
    },
    "tags": []
   },
   "source": [
    "And setup the labels as 1 (when the digit is 3) and 0 (when the digit is 8)"
   ]
  },
  {
   "cell_type": "code",
   "execution_count": 12,
   "id": "7dc908f2",
   "metadata": {
    "execution": {
     "iopub.execute_input": "2022-08-25T00:48:03.706656Z",
     "iopub.status.busy": "2022-08-25T00:48:03.704780Z",
     "iopub.status.idle": "2022-08-25T00:48:03.723108Z",
     "shell.execute_reply": "2022-08-25T00:48:03.722379Z"
    },
    "papermill": {
     "duration": 0.051404,
     "end_time": "2022-08-25T00:48:03.723247",
     "exception": false,
     "start_time": "2022-08-25T00:48:03.671843",
     "status": "completed"
    },
    "tags": []
   },
   "outputs": [],
   "source": [
    "y_train = 1*(y_train==3)\n",
    "y_test = 1*(y_test==3)"
   ]
  },
  {
   "cell_type": "code",
   "execution_count": 13,
   "id": "01e4e969",
   "metadata": {
    "execution": {
     "iopub.execute_input": "2022-08-25T00:48:03.801359Z",
     "iopub.status.busy": "2022-08-25T00:48:03.800642Z",
     "iopub.status.idle": "2022-08-25T00:48:03.816357Z",
     "shell.execute_reply": "2022-08-25T00:48:03.815686Z"
    },
    "papermill": {
     "duration": 0.06354,
     "end_time": "2022-08-25T00:48:03.816481",
     "exception": false,
     "start_time": "2022-08-25T00:48:03.752941",
     "status": "completed"
    },
    "tags": []
   },
   "outputs": [
    {
     "data": {
      "text/plain": [
       "((11982, 28, 28), (1984, 28, 28))"
      ]
     },
     "execution_count": 13,
     "metadata": {},
     "output_type": "execute_result"
    }
   ],
   "source": [
    "X_train.shape, X_test.shape"
   ]
  },
  {
   "cell_type": "markdown",
   "id": "5ccf3f85",
   "metadata": {
    "papermill": {
     "duration": 0.029233,
     "end_time": "2022-08-25T00:48:03.875156",
     "exception": false,
     "start_time": "2022-08-25T00:48:03.845923",
     "status": "completed"
    },
    "tags": []
   },
   "source": [
    "We reshape the data to flatten the image pixels into a set of features or co-variates:"
   ]
  },
  {
   "cell_type": "code",
   "execution_count": 14,
   "id": "5286a4a3",
   "metadata": {
    "execution": {
     "iopub.execute_input": "2022-08-25T00:48:03.940049Z",
     "iopub.status.busy": "2022-08-25T00:48:03.939385Z",
     "iopub.status.idle": "2022-08-25T00:48:03.957116Z",
     "shell.execute_reply": "2022-08-25T00:48:03.956603Z"
    },
    "papermill": {
     "duration": 0.052736,
     "end_time": "2022-08-25T00:48:03.957233",
     "exception": false,
     "start_time": "2022-08-25T00:48:03.904497",
     "status": "completed"
    },
    "tags": []
   },
   "outputs": [
    {
     "data": {
      "text/plain": [
       "((11982, 784), (1984, 784))"
      ]
     },
     "execution_count": 14,
     "metadata": {},
     "output_type": "execute_result"
    }
   ],
   "source": [
    "X_train = X_train.reshape(X_train.shape[0], -1)\n",
    "X_test = X_test.reshape(X_test.shape[0], -1)\n",
    "X_train.shape, X_test.shape"
   ]
  },
  {
   "cell_type": "code",
   "execution_count": 15,
   "id": "73c5f88a",
   "metadata": {
    "execution": {
     "iopub.execute_input": "2022-08-25T00:48:04.021713Z",
     "iopub.status.busy": "2022-08-25T00:48:04.020994Z",
     "iopub.status.idle": "2022-08-25T00:48:04.043056Z",
     "shell.execute_reply": "2022-08-25T00:48:04.042433Z"
    },
    "papermill": {
     "duration": 0.05665,
     "end_time": "2022-08-25T00:48:04.043191",
     "exception": false,
     "start_time": "2022-08-25T00:48:03.986541",
     "status": "completed"
    },
    "tags": []
   },
   "outputs": [],
   "source": [
    "#Impoting functions from 'Kudzu'\n",
    "from kudzu.model import Model\n",
    "from kudzu.train import Learner\n",
    "from kudzu.optim import GD\n",
    "from kudzu.data import Data, Sampler,Dataloader\n",
    "\n",
    "from kudzu.callbacks import AccCallback\n",
    "from kudzu.callbacks import ClfCallback\n",
    "\n",
    "from kudzu.loss import MSE\n",
    "\n",
    "from kudzu.layer import Sigmoid,Relu\n",
    "from kudzu.layer import Affine"
   ]
  },
  {
   "cell_type": "markdown",
   "id": "bc01172a",
   "metadata": {
    "papermill": {
     "duration": 0.029286,
     "end_time": "2022-08-25T00:48:04.102926",
     "exception": false,
     "start_time": "2022-08-25T00:48:04.073640",
     "status": "completed"
    },
    "tags": []
   },
   "source": [
    "### Let us create a `Config` class, to store important parameters. \n",
    "This class essentially plays the role of a dictionary."
   ]
  },
  {
   "cell_type": "code",
   "execution_count": 16,
   "id": "978281aa",
   "metadata": {
    "execution": {
     "iopub.execute_input": "2022-08-25T00:48:04.169761Z",
     "iopub.status.busy": "2022-08-25T00:48:04.169002Z",
     "iopub.status.idle": "2022-08-25T00:48:04.183094Z",
     "shell.execute_reply": "2022-08-25T00:48:04.182541Z"
    },
    "papermill": {
     "duration": 0.051157,
     "end_time": "2022-08-25T00:48:04.183213",
     "exception": false,
     "start_time": "2022-08-25T00:48:04.132056",
     "status": "completed"
    },
    "tags": []
   },
   "outputs": [],
   "source": [
    "class Config:\n",
    "    pass\n",
    "config = Config()\n",
    "config.lr = 0.001\n",
    "config.num_epochs = 250\n",
    "config.bs = 50"
   ]
  },
  {
   "cell_type": "markdown",
   "id": "1385fa59",
   "metadata": {
    "papermill": {
     "duration": 0.029459,
     "end_time": "2022-08-25T00:48:04.243390",
     "exception": false,
     "start_time": "2022-08-25T00:48:04.213931",
     "status": "completed"
    },
    "tags": []
   },
   "source": [
    "### Running Models with the Training data\n",
    "Details about the network layers:\n",
    "- A first affine layer has 784 inputs and does 100 affine transforms. These are followed by a Relu\n",
    "- A second affine layer has 100 inputs from the 100 activations of the past layer, and does 100 affine transforms. These are followed by a Relu\n",
    "- A third affine layer has 100 activations and does 2 affine transformations to create an embedding for visualization. There is no non-linearity here.\n",
    "- A final \"logistic regression\" which has an affine transform from 2 inputs to 1 output, which is squeezed through a sigmoid.\n"
   ]
  },
  {
   "cell_type": "code",
   "execution_count": 17,
   "id": "2b9c66db",
   "metadata": {
    "execution": {
     "iopub.execute_input": "2022-08-25T00:48:04.310514Z",
     "iopub.status.busy": "2022-08-25T00:48:04.309832Z",
     "iopub.status.idle": "2022-08-25T00:48:04.323819Z",
     "shell.execute_reply": "2022-08-25T00:48:04.324299Z"
    },
    "papermill": {
     "duration": 0.050023,
     "end_time": "2022-08-25T00:48:04.324437",
     "exception": false,
     "start_time": "2022-08-25T00:48:04.274414",
     "status": "completed"
    },
    "tags": []
   },
   "outputs": [],
   "source": [
    "data = Data(X_train, y_train.reshape(-1,1))\n",
    "sampler = Sampler(data, config.bs, shuffle=True)\n",
    "\n",
    "dl = Dataloader(data, sampler)\n",
    "\n",
    "opt = GD(config.lr)\n",
    "loss = MSE()"
   ]
  },
  {
   "cell_type": "code",
   "execution_count": 18,
   "id": "b275e4c2",
   "metadata": {
    "execution": {
     "iopub.execute_input": "2022-08-25T00:48:04.392703Z",
     "iopub.status.busy": "2022-08-25T00:48:04.392077Z",
     "iopub.status.idle": "2022-08-25T00:48:04.406100Z",
     "shell.execute_reply": "2022-08-25T00:48:04.405544Z"
    },
    "papermill": {
     "duration": 0.049379,
     "end_time": "2022-08-25T00:48:04.406219",
     "exception": false,
     "start_time": "2022-08-25T00:48:04.356840",
     "status": "completed"
    },
    "tags": []
   },
   "outputs": [],
   "source": [
    "training_data_x = X_train\n",
    "testing_data_x = X_test\n",
    "training_data_y = y_train.reshape(-1,1)\n",
    "testing_data_y = y_test.reshape(-1,1)"
   ]
  },
  {
   "cell_type": "code",
   "execution_count": 19,
   "id": "76951160",
   "metadata": {
    "execution": {
     "iopub.execute_input": "2022-08-25T00:48:04.471530Z",
     "iopub.status.busy": "2022-08-25T00:48:04.470839Z",
     "iopub.status.idle": "2022-08-25T00:48:04.490275Z",
     "shell.execute_reply": "2022-08-25T00:48:04.490825Z"
    },
    "papermill": {
     "duration": 0.054801,
     "end_time": "2022-08-25T00:48:04.490988",
     "exception": false,
     "start_time": "2022-08-25T00:48:04.436187",
     "status": "completed"
    },
    "tags": []
   },
   "outputs": [
    {
     "name": "stdout",
     "output_type": "stream",
     "text": [
      "xavier\n",
      "xavier\n",
      "xavier\n",
      "xavier\n",
      "xavier\n"
     ]
    }
   ],
   "source": [
    "layers = [Affine(\"first\", 784, 100), Relu(\"first\"), Affine(\"second\", 100, 100), Relu(\"second\"), Affine(\"third\", 100, 2), Affine(\"last\", 2, 1), Sigmoid(\"last\")]\n",
    "model_nn = Model(layers)\n",
    "model_lr = Model([Affine(\"logits\", 784, 1), Sigmoid(\"sigmoid\")])"
   ]
  },
  {
   "cell_type": "code",
   "execution_count": 20,
   "id": "6eede77a",
   "metadata": {
    "execution": {
     "iopub.execute_input": "2022-08-25T00:48:04.562472Z",
     "iopub.status.busy": "2022-08-25T00:48:04.561793Z",
     "iopub.status.idle": "2022-08-25T00:48:04.576463Z",
     "shell.execute_reply": "2022-08-25T00:48:04.575876Z"
    },
    "papermill": {
     "duration": 0.048925,
     "end_time": "2022-08-25T00:48:04.576594",
     "exception": false,
     "start_time": "2022-08-25T00:48:04.527669",
     "status": "completed"
    },
    "tags": []
   },
   "outputs": [],
   "source": [
    "nn_learner = Learner(loss, model_nn, opt, config.num_epochs)\n",
    "acc_nn = ClfCallback(nn_learner, config.bs, training_data_x , testing_data_x, training_data_y, testing_data_y)\n",
    "nn_learner.set_callbacks([acc_nn])"
   ]
  },
  {
   "cell_type": "code",
   "execution_count": 21,
   "id": "877b6cc7",
   "metadata": {
    "execution": {
     "iopub.execute_input": "2022-08-25T00:48:04.641429Z",
     "iopub.status.busy": "2022-08-25T00:48:04.640729Z",
     "iopub.status.idle": "2022-08-25T00:48:04.654774Z",
     "shell.execute_reply": "2022-08-25T00:48:04.654220Z"
    },
    "papermill": {
     "duration": 0.048513,
     "end_time": "2022-08-25T00:48:04.654898",
     "exception": false,
     "start_time": "2022-08-25T00:48:04.606385",
     "status": "completed"
    },
    "tags": []
   },
   "outputs": [],
   "source": [
    "lr_learner = Learner(loss, model_lr, opt, config.num_epochs)\n",
    "acc_lr = ClfCallback(lr_learner, config.bs, training_data_x , testing_data_x, training_data_y, testing_data_y)\n",
    "lr_learner.set_callbacks([acc_lr])"
   ]
  },
  {
   "cell_type": "code",
   "execution_count": 22,
   "id": "d9b133c3",
   "metadata": {
    "execution": {
     "iopub.execute_input": "2022-08-25T00:48:04.730481Z",
     "iopub.status.busy": "2022-08-25T00:48:04.724609Z",
     "iopub.status.idle": "2022-08-25T00:49:28.855555Z",
     "shell.execute_reply": "2022-08-25T00:49:28.856534Z"
    },
    "papermill": {
     "duration": 84.172189,
     "end_time": "2022-08-25T00:49:28.856693",
     "exception": false,
     "start_time": "2022-08-25T00:48:04.684504",
     "status": "completed"
    },
    "tags": []
   },
   "outputs": [
    {
     "name": "stdout",
     "output_type": "stream",
     "text": [
      "Epoch 0, Loss 0.2649\n",
      "Training Accuracy: 0.5835, Testing Accuracy: 0.5897\n",
      "\n"
     ]
    },
    {
     "name": "stdout",
     "output_type": "stream",
     "text": [
      "Epoch 10, Loss 0.0748\n",
      "Training Accuracy: 0.9259, Testing Accuracy: 0.9325\n",
      "\n"
     ]
    },
    {
     "name": "stdout",
     "output_type": "stream",
     "text": [
      "Epoch 20, Loss 0.0476\n",
      "Training Accuracy: 0.9501, Testing Accuracy: 0.9546\n",
      "\n"
     ]
    },
    {
     "name": "stdout",
     "output_type": "stream",
     "text": [
      "Epoch 30, Loss 0.0383\n",
      "Training Accuracy: 0.9590, Testing Accuracy: 0.9597\n",
      "\n"
     ]
    },
    {
     "name": "stdout",
     "output_type": "stream",
     "text": [
      "Epoch 40, Loss 0.0337\n",
      "Training Accuracy: 0.9631, Testing Accuracy: 0.9688\n",
      "\n"
     ]
    },
    {
     "name": "stdout",
     "output_type": "stream",
     "text": [
      "Epoch 50, Loss 0.0308\n",
      "Training Accuracy: 0.9656, Testing Accuracy: 0.9713\n",
      "\n"
     ]
    },
    {
     "name": "stdout",
     "output_type": "stream",
     "text": [
      "Epoch 60, Loss 0.0287\n",
      "Training Accuracy: 0.9674, Testing Accuracy: 0.9723\n",
      "\n"
     ]
    },
    {
     "name": "stdout",
     "output_type": "stream",
     "text": [
      "Epoch 70, Loss 0.0272\n",
      "Training Accuracy: 0.9691, Testing Accuracy: 0.9723\n",
      "\n"
     ]
    },
    {
     "name": "stdout",
     "output_type": "stream",
     "text": [
      "Epoch 80, Loss 0.026\n",
      "Training Accuracy: 0.9709, Testing Accuracy: 0.9733\n",
      "\n"
     ]
    },
    {
     "name": "stdout",
     "output_type": "stream",
     "text": [
      "Epoch 90, Loss 0.025\n",
      "Training Accuracy: 0.9718, Testing Accuracy: 0.9733\n",
      "\n"
     ]
    },
    {
     "name": "stdout",
     "output_type": "stream",
     "text": [
      "Epoch 100, Loss 0.0241\n",
      "Training Accuracy: 0.9727, Testing Accuracy: 0.9733\n",
      "\n"
     ]
    },
    {
     "name": "stdout",
     "output_type": "stream",
     "text": [
      "Epoch 110, Loss 0.0233\n",
      "Training Accuracy: 0.9736, Testing Accuracy: 0.9733\n",
      "\n"
     ]
    },
    {
     "name": "stdout",
     "output_type": "stream",
     "text": [
      "Epoch 120, Loss 0.0226\n",
      "Training Accuracy: 0.9745, Testing Accuracy: 0.9728\n",
      "\n"
     ]
    },
    {
     "name": "stdout",
     "output_type": "stream",
     "text": [
      "Epoch 130, Loss 0.022\n",
      "Training Accuracy: 0.9751, Testing Accuracy: 0.9733\n",
      "\n"
     ]
    },
    {
     "name": "stdout",
     "output_type": "stream",
     "text": [
      "Epoch 140, Loss 0.0215\n",
      "Training Accuracy: 0.9758, Testing Accuracy: 0.9733\n",
      "\n"
     ]
    },
    {
     "name": "stdout",
     "output_type": "stream",
     "text": [
      "Epoch 150, Loss 0.0209\n",
      "Training Accuracy: 0.9768, Testing Accuracy: 0.9733\n",
      "\n"
     ]
    },
    {
     "name": "stdout",
     "output_type": "stream",
     "text": [
      "Epoch 160, Loss 0.0205\n",
      "Training Accuracy: 0.9774, Testing Accuracy: 0.9733\n",
      "\n"
     ]
    },
    {
     "name": "stdout",
     "output_type": "stream",
     "text": [
      "Epoch 170, Loss 0.02\n",
      "Training Accuracy: 0.9777, Testing Accuracy: 0.9728\n",
      "\n"
     ]
    },
    {
     "name": "stdout",
     "output_type": "stream",
     "text": [
      "Epoch 180, Loss 0.0196\n",
      "Training Accuracy: 0.9784, Testing Accuracy: 0.9728\n",
      "\n"
     ]
    },
    {
     "name": "stdout",
     "output_type": "stream",
     "text": [
      "Epoch 190, Loss 0.0191\n",
      "Training Accuracy: 0.9789, Testing Accuracy: 0.9728\n",
      "\n"
     ]
    },
    {
     "name": "stdout",
     "output_type": "stream",
     "text": [
      "Epoch 200, Loss 0.0187\n",
      "Training Accuracy: 0.9801, Testing Accuracy: 0.9728\n",
      "\n"
     ]
    },
    {
     "name": "stdout",
     "output_type": "stream",
     "text": [
      "Epoch 210, Loss 0.0183\n",
      "Training Accuracy: 0.9807, Testing Accuracy: 0.9738\n",
      "\n"
     ]
    },
    {
     "name": "stdout",
     "output_type": "stream",
     "text": [
      "Epoch 220, Loss 0.018\n",
      "Training Accuracy: 0.9811, Testing Accuracy: 0.9743\n",
      "\n"
     ]
    },
    {
     "name": "stdout",
     "output_type": "stream",
     "text": [
      "Epoch 230, Loss 0.0176\n",
      "Training Accuracy: 0.9817, Testing Accuracy: 0.9738\n",
      "\n"
     ]
    },
    {
     "name": "stdout",
     "output_type": "stream",
     "text": [
      "Epoch 240, Loss 0.0173\n",
      "Training Accuracy: 0.9821, Testing Accuracy: 0.9753\n",
      "\n"
     ]
    },
    {
     "data": {
      "text/plain": [
       "0.0008940412589480121"
      ]
     },
     "execution_count": 22,
     "metadata": {},
     "output_type": "execute_result"
    }
   ],
   "source": [
    "nn_learner.train_loop(dl)"
   ]
  },
  {
   "cell_type": "code",
   "execution_count": 23,
   "id": "e0163366",
   "metadata": {
    "execution": {
     "iopub.execute_input": "2022-08-25T00:49:28.943617Z",
     "iopub.status.busy": "2022-08-25T00:49:28.942936Z",
     "iopub.status.idle": "2022-08-25T00:49:44.435215Z",
     "shell.execute_reply": "2022-08-25T00:49:44.436165Z"
    },
    "papermill": {
     "duration": 15.541166,
     "end_time": "2022-08-25T00:49:44.436326",
     "exception": false,
     "start_time": "2022-08-25T00:49:28.895160",
     "status": "completed"
    },
    "tags": []
   },
   "outputs": [
    {
     "name": "stdout",
     "output_type": "stream",
     "text": [
      "Epoch 0, Loss 0.268\n",
      "Training Accuracy: 0.5860, Testing Accuracy: 0.5862\n",
      "\n"
     ]
    },
    {
     "name": "stdout",
     "output_type": "stream",
     "text": [
      "Epoch 10, Loss 0.1038\n",
      "Training Accuracy: 0.9109, Testing Accuracy: 0.9189\n",
      "\n"
     ]
    },
    {
     "name": "stdout",
     "output_type": "stream",
     "text": [
      "Epoch 20, Loss 0.0792\n",
      "Training Accuracy: 0.9291, Testing Accuracy: 0.9370\n",
      "\n"
     ]
    },
    {
     "name": "stdout",
     "output_type": "stream",
     "text": [
      "Epoch 30, Loss 0.0681\n",
      "Training Accuracy: 0.9369, Testing Accuracy: 0.9481\n",
      "\n"
     ]
    },
    {
     "name": "stdout",
     "output_type": "stream",
     "text": [
      "Epoch 40, Loss 0.0614\n",
      "Training Accuracy: 0.9419, Testing Accuracy: 0.9556\n",
      "\n"
     ]
    },
    {
     "name": "stdout",
     "output_type": "stream",
     "text": [
      "Epoch 50, Loss 0.0569\n",
      "Training Accuracy: 0.9452, Testing Accuracy: 0.9561\n",
      "\n"
     ]
    },
    {
     "name": "stdout",
     "output_type": "stream",
     "text": [
      "Epoch 60, Loss 0.0536\n",
      "Training Accuracy: 0.9474, Testing Accuracy: 0.9602\n",
      "\n"
     ]
    },
    {
     "name": "stdout",
     "output_type": "stream",
     "text": [
      "Epoch 70, Loss 0.0511\n",
      "Training Accuracy: 0.9493, Testing Accuracy: 0.9612\n",
      "\n"
     ]
    },
    {
     "name": "stdout",
     "output_type": "stream",
     "text": [
      "Epoch 80, Loss 0.049\n",
      "Training Accuracy: 0.9506, Testing Accuracy: 0.9617\n",
      "\n"
     ]
    },
    {
     "name": "stdout",
     "output_type": "stream",
     "text": [
      "Epoch 90, Loss 0.0474\n",
      "Training Accuracy: 0.9522, Testing Accuracy: 0.9612\n",
      "\n"
     ]
    },
    {
     "name": "stdout",
     "output_type": "stream",
     "text": [
      "Epoch 100, Loss 0.046\n",
      "Training Accuracy: 0.9530, Testing Accuracy: 0.9612\n",
      "\n"
     ]
    },
    {
     "name": "stdout",
     "output_type": "stream",
     "text": [
      "Epoch 110, Loss 0.0447\n",
      "Training Accuracy: 0.9539, Testing Accuracy: 0.9632\n",
      "\n"
     ]
    },
    {
     "name": "stdout",
     "output_type": "stream",
     "text": [
      "Epoch 120, Loss 0.0437\n",
      "Training Accuracy: 0.9548, Testing Accuracy: 0.9642\n",
      "\n"
     ]
    },
    {
     "name": "stdout",
     "output_type": "stream",
     "text": [
      "Epoch 130, Loss 0.0428\n",
      "Training Accuracy: 0.9556, Testing Accuracy: 0.9647\n",
      "\n"
     ]
    },
    {
     "name": "stdout",
     "output_type": "stream",
     "text": [
      "Epoch 140, Loss 0.0419\n",
      "Training Accuracy: 0.9564, Testing Accuracy: 0.9662\n",
      "\n"
     ]
    },
    {
     "name": "stdout",
     "output_type": "stream",
     "text": [
      "Epoch 150, Loss 0.0412\n",
      "Training Accuracy: 0.9571, Testing Accuracy: 0.9657\n",
      "\n"
     ]
    },
    {
     "name": "stdout",
     "output_type": "stream",
     "text": [
      "Epoch 160, Loss 0.0405\n",
      "Training Accuracy: 0.9574, Testing Accuracy: 0.9672\n",
      "\n"
     ]
    },
    {
     "name": "stdout",
     "output_type": "stream",
     "text": [
      "Epoch 170, Loss 0.0399\n",
      "Training Accuracy: 0.9579, Testing Accuracy: 0.9677\n",
      "\n"
     ]
    },
    {
     "name": "stdout",
     "output_type": "stream",
     "text": [
      "Epoch 180, Loss 0.0394\n",
      "Training Accuracy: 0.9584, Testing Accuracy: 0.9672\n",
      "\n"
     ]
    },
    {
     "name": "stdout",
     "output_type": "stream",
     "text": [
      "Epoch 190, Loss 0.0389\n",
      "Training Accuracy: 0.9585, Testing Accuracy: 0.9672\n",
      "\n"
     ]
    },
    {
     "name": "stdout",
     "output_type": "stream",
     "text": [
      "Epoch 200, Loss 0.0384\n",
      "Training Accuracy: 0.9588, Testing Accuracy: 0.9672\n",
      "\n"
     ]
    },
    {
     "name": "stdout",
     "output_type": "stream",
     "text": [
      "Epoch 210, Loss 0.038\n",
      "Training Accuracy: 0.9593, Testing Accuracy: 0.9672\n",
      "\n"
     ]
    },
    {
     "name": "stdout",
     "output_type": "stream",
     "text": [
      "Epoch 220, Loss 0.0376\n",
      "Training Accuracy: 0.9595, Testing Accuracy: 0.9672\n",
      "\n"
     ]
    },
    {
     "name": "stdout",
     "output_type": "stream",
     "text": [
      "Epoch 230, Loss 0.0372\n",
      "Training Accuracy: 0.9599, Testing Accuracy: 0.9672\n",
      "\n"
     ]
    },
    {
     "name": "stdout",
     "output_type": "stream",
     "text": [
      "Epoch 240, Loss 0.0368\n",
      "Training Accuracy: 0.9602, Testing Accuracy: 0.9677\n",
      "\n"
     ]
    },
    {
     "data": {
      "text/plain": [
       "0.03363913258850875"
      ]
     },
     "execution_count": 23,
     "metadata": {},
     "output_type": "execute_result"
    }
   ],
   "source": [
    "lr_learner.train_loop(dl)"
   ]
  },
  {
   "cell_type": "code",
   "execution_count": 24,
   "id": "ca410940",
   "metadata": {
    "execution": {
     "iopub.execute_input": "2022-08-25T00:49:44.538869Z",
     "iopub.status.busy": "2022-08-25T00:49:44.538225Z",
     "iopub.status.idle": "2022-08-25T00:49:44.808987Z",
     "shell.execute_reply": "2022-08-25T00:49:44.808416Z"
    },
    "papermill": {
     "duration": 0.326951,
     "end_time": "2022-08-25T00:49:44.809117",
     "exception": false,
     "start_time": "2022-08-25T00:49:44.482166",
     "status": "completed"
    },
    "tags": []
   },
   "outputs": [
    {
     "data": {
      "text/plain": [
       "<matplotlib.legend.Legend at 0x7f814b78bef0>"
      ]
     },
     "execution_count": 24,
     "metadata": {},
     "output_type": "execute_result"
    },
    {
     "data": {
      "image/png": "[encoded data removed]",
      "text/plain": [
       "<Figure size 1080x720 with 1 Axes>"
      ]
     },
     "metadata": {
      "needs_background": "light"
     },
     "output_type": "display_data"
    }
   ],
   "source": [
    "#comparing the results of NN and LR\n",
    "plt.figure(figsize=(15,10))\n",
    "\n",
    "# Neural Network plots\n",
    "plt.plot(acc_nn.accuracies, 'r-', label = \"Training Accuracies - NN\")\n",
    "plt.plot(acc_nn.test_accuracies, 'g-', label = \"Testing Accuracies - NN\")\n",
    "\n",
    "# Logistic Regression plots\n",
    "plt.plot(acc_lr.accuracies, 'k-', label = \"Training Accuracies - LR\")\n",
    "plt.plot(acc_lr.test_accuracies, 'b-', label = \"Testing Accuracies - LR\")\n",
    "plt.legend()"
   ]
  },
  {
   "cell_type": "markdown",
   "id": "80dfb35c",
   "metadata": {
    "papermill": {
     "duration": 0.046857,
     "end_time": "2022-08-25T00:49:44.902916",
     "exception": false,
     "start_time": "2022-08-25T00:49:44.856059",
     "status": "completed"
    },
    "tags": []
   },
   "source": [
    "#### Plotting the outputs of this layer of the NN.\n"
   ]
  },
  {
   "cell_type": "code",
   "execution_count": 25,
   "id": "45eb2ff5",
   "metadata": {
    "execution": {
     "iopub.execute_input": "2022-08-25T00:49:45.001335Z",
     "iopub.status.busy": "2022-08-25T00:49:45.000621Z",
     "iopub.status.idle": "2022-08-25T00:49:45.023860Z",
     "shell.execute_reply": "2022-08-25T00:49:45.024373Z"
    },
    "papermill": {
     "duration": 0.075348,
     "end_time": "2022-08-25T00:49:45.024518",
     "exception": false,
     "start_time": "2022-08-25T00:49:44.949170",
     "status": "completed"
    },
    "tags": []
   },
   "outputs": [],
   "source": [
    "new_model = Model(layers[:-2])\n",
    "testing_plot = new_model(testing_data_x)"
   ]
  },
  {
   "cell_type": "code",
   "execution_count": 26,
   "id": "4c0a5485",
   "metadata": {
    "execution": {
     "iopub.execute_input": "2022-08-25T00:49:45.128055Z",
     "iopub.status.busy": "2022-08-25T00:49:45.126710Z",
     "iopub.status.idle": "2022-08-25T00:49:45.349956Z",
     "shell.execute_reply": "2022-08-25T00:49:45.350720Z"
    },
    "papermill": {
     "duration": 0.278532,
     "end_time": "2022-08-25T00:49:45.350886",
     "exception": false,
     "start_time": "2022-08-25T00:49:45.072354",
     "status": "completed"
    },
    "tags": []
   },
   "outputs": [
    {
     "data": {
      "text/plain": [
       "Text(0.5, 1.0, 'Outputs')"
      ]
     },
     "execution_count": 26,
     "metadata": {},
     "output_type": "execute_result"
    },
    {
     "data": {
      "image/png": "[encoded data removed]",
      "text/plain": [
       "<Figure size 576x504 with 1 Axes>"
      ]
     },
     "metadata": {
      "needs_background": "light"
     },
     "output_type": "display_data"
    }
   ],
   "source": [
    "# Plotting the scatter plot of points and color coding by class\n",
    "plt.figure(figsize=(8,7))\n",
    "plt.scatter(testing_plot[:,0], testing_plot[:,1], alpha = 0.1, c = y_test.ravel());\n",
    "plt.title('Outputs')"
   ]
  },
  {
   "cell_type": "markdown",
   "id": "a74fcf8f",
   "metadata": {
    "papermill": {
     "duration": 0.051524,
     "end_time": "2022-08-25T00:49:45.455655",
     "exception": false,
     "start_time": "2022-08-25T00:49:45.404131",
     "status": "completed"
    },
    "tags": []
   },
   "source": [
    "Probability contours"
   ]
  },
  {
   "cell_type": "code",
   "execution_count": 27,
   "id": "d0afc8e3",
   "metadata": {
    "execution": {
     "iopub.execute_input": "2022-08-25T00:49:45.566003Z",
     "iopub.status.busy": "2022-08-25T00:49:45.565316Z",
     "iopub.status.idle": "2022-08-25T00:49:45.582782Z",
     "shell.execute_reply": "2022-08-25T00:49:45.582230Z"
    },
    "papermill": {
     "duration": 0.076404,
     "end_time": "2022-08-25T00:49:45.582902",
     "exception": false,
     "start_time": "2022-08-25T00:49:45.506498",
     "status": "completed"
    },
    "tags": []
   },
   "outputs": [],
   "source": [
    "model_prob = Model(layers[-2:]) "
   ]
  },
  {
   "cell_type": "code",
   "execution_count": 28,
   "id": "9b96e238",
   "metadata": {
    "execution": {
     "iopub.execute_input": "2022-08-25T00:49:45.721581Z",
     "iopub.status.busy": "2022-08-25T00:49:45.720870Z",
     "iopub.status.idle": "2022-08-25T00:49:45.736747Z",
     "shell.execute_reply": "2022-08-25T00:49:45.737246Z"
    },
    "papermill": {
     "duration": 0.104441,
     "end_time": "2022-08-25T00:49:45.737422",
     "exception": false,
     "start_time": "2022-08-25T00:49:45.632981",
     "status": "completed"
    },
    "tags": []
   },
   "outputs": [],
   "source": [
    "#creating the x and y ranges according to the above generated plot.\n",
    "x_range = np.linspace(-4, 1, 100) \n",
    "y_range = np.linspace(-6, 6, 100) \n",
    "x_grid, y_grid = np.meshgrid(x_range, y_range) # x_grid and y_grig are of size 100 X 100\n",
    "\n",
    "# converting x_grid and y_grid to continuous arrays\n",
    "x_gridflat = np.ravel(x_grid)\n",
    "y_gridflat = np.ravel(y_grid)\n",
    "\n",
    "# The last layer of the current model takes two columns as input. Hence transpose of np.vstack() is required.\n",
    "X = np.vstack((x_gridflat, y_gridflat)).T\n",
    "\n",
    "prob_contour = model_prob(X).reshape(100,100) "
   ]
  },
  {
   "cell_type": "code",
   "execution_count": 29,
   "id": "da72499a",
   "metadata": {
    "execution": {
     "iopub.execute_input": "2022-08-25T00:49:45.847451Z",
     "iopub.status.busy": "2022-08-25T00:49:45.846762Z",
     "iopub.status.idle": "2022-08-25T00:49:46.121801Z",
     "shell.execute_reply": "2022-08-25T00:49:46.122328Z"
    },
    "papermill": {
     "duration": 0.334132,
     "end_time": "2022-08-25T00:49:46.122483",
     "exception": false,
     "start_time": "2022-08-25T00:49:45.788351",
     "status": "completed"
    },
    "tags": []
   },
   "outputs": [
    {
     "data": {
      "image/png": "[encoded data removed]",
      "text/plain": [
       "<Figure size 720x648 with 1 Axes>"
      ]
     },
     "metadata": {
      "needs_background": "light"
     },
     "output_type": "display_data"
    }
   ],
   "source": [
    "plt.figure(figsize=(10,9))\n",
    "plt.scatter(testing_plot[:,0], testing_plot[:,1], alpha = 0.1, c = y_test.ravel())\n",
    "contours = plt.contour(x_grid,y_grid,prob_contour)\n",
    "plt.title('Probability Contours')\n",
    "plt.clabel(contours, inline = True );"
   ]
  },
  {
   "cell_type": "code",
   "execution_count": null,
   "id": "e81b4ac7",
   "metadata": {
    "papermill": {
     "duration": 0.053223,
     "end_time": "2022-08-25T00:49:46.230150",
     "exception": false,
     "start_time": "2022-08-25T00:49:46.176927",
     "status": "completed"
    },
    "tags": []
   },
   "outputs": [],
   "source": []
  }
 ],
 "metadata": {
  "kernelspec": {
   "display_name": "Python 3",
   "language": "python",
   "name": "python3"
  },
  "language_info": {
   "codemirror_mode": {
    "name": "ipython",
    "version": 3
   },
   "file_extension": ".py",
   "mimetype": "text/x-python",
   "name": "python",
   "nbconvert_exporter": "python",
   "pygments_lexer": "ipython3",
   "version": "3.6.15"
  },
  "papermill": {
   "default_parameters": {},
   "duration": 108.938915,
   "end_time": "2022-08-25T00:49:46.705786",
   "environment_variables": {},
   "exception": null,
   "input_path": "2020-08-11-part2.ipynb",
   "output_path": "2020-08-11-part2.ipynb",
   "parameters": {},
   "start_time": "2022-08-25T00:47:57.766871",
   "version": "2.3.3"
  }
 },
 "nbformat": 4,
 "nbformat_minor": 5
}