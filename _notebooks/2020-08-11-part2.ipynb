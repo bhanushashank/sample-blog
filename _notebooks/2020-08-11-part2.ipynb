{
 "cells": [
  {
   "cell_type": "markdown",
   "id": "98380cd3",
   "metadata": {
    "papermill": {
     "duration": 0.034325,
     "end_time": "2021-09-19T10:08:00.103791",
     "exception": false,
     "start_time": "2021-09-19T10:08:00.069466",
     "status": "completed"
    },
    "tags": []
   },
   "source": [
    "# Distinguish Your Own Digits (DYOD)"
   ]
  },
  {
   "cell_type": "markdown",
   "id": "ef31240d",
   "metadata": {
    "papermill": {
     "duration": 0.026968,
     "end_time": "2021-09-19T10:08:00.158611",
     "exception": false,
     "start_time": "2021-09-19T10:08:00.131643",
     "status": "completed"
    },
    "tags": []
   },
   "source": [
    "You are going to write a classifier that distinguishes between the number 3 and number 8."
   ]
  },
  {
   "cell_type": "code",
   "execution_count": 1,
   "id": "b15c8646",
   "metadata": {
    "execution": {
     "iopub.execute_input": "2021-09-19T10:08:00.227926Z",
     "iopub.status.busy": "2021-09-19T10:08:00.227418Z",
     "iopub.status.idle": "2021-09-19T10:08:00.238645Z",
     "shell.execute_reply": "2021-09-19T10:08:00.238148Z"
    },
    "papermill": {
     "duration": 0.05349,
     "end_time": "2021-09-19T10:08:00.238834",
     "exception": false,
     "start_time": "2021-09-19T10:08:00.185344",
     "status": "completed"
    },
    "tags": []
   },
   "outputs": [],
   "source": [
    "%load_ext autoreload\n",
    "%autoreload 2"
   ]
  },
  {
   "cell_type": "code",
   "execution_count": 2,
   "id": "22ef38dc",
   "metadata": {
    "execution": {
     "iopub.execute_input": "2021-09-19T10:08:00.307836Z",
     "iopub.status.busy": "2021-09-19T10:08:00.302732Z",
     "iopub.status.idle": "2021-09-19T10:08:00.879555Z",
     "shell.execute_reply": "2021-09-19T10:08:00.878619Z"
    },
    "papermill": {
     "duration": 0.61424,
     "end_time": "2021-09-19T10:08:00.879777",
     "exception": false,
     "start_time": "2021-09-19T10:08:00.265537",
     "status": "completed"
    },
    "tags": []
   },
   "outputs": [],
   "source": [
    "%matplotlib inline\n",
    "import numpy as np\n",
    "import matplotlib.pyplot as plt\n",
    "import pandas as pd"
   ]
  },
  {
   "cell_type": "markdown",
   "id": "ba036198",
   "metadata": {
    "papermill": {
     "duration": 0.027231,
     "end_time": "2021-09-19T10:08:00.934988",
     "exception": false,
     "start_time": "2021-09-19T10:08:00.907757",
     "status": "completed"
    },
    "tags": []
   },
   "source": [
    "From the command line run `pip install mnist`. This is a library that will help you bring down the mnist dataset. If you run this from a notebook, you need to put  `!pip install mnist` in a cell by itself."
   ]
  },
  {
   "cell_type": "code",
   "execution_count": 3,
   "id": "bb6ad8a1",
   "metadata": {
    "execution": {
     "iopub.execute_input": "2021-09-19T10:08:00.994049Z",
     "iopub.status.busy": "2021-09-19T10:08:00.993462Z",
     "iopub.status.idle": "2021-09-19T10:08:02.770501Z",
     "shell.execute_reply": "2021-09-19T10:08:02.769298Z"
    },
    "papermill": {
     "duration": 1.809017,
     "end_time": "2021-09-19T10:08:02.770776",
     "exception": false,
     "start_time": "2021-09-19T10:08:00.961759",
     "status": "completed"
    },
    "tags": []
   },
   "outputs": [
    {
     "name": "stdout",
     "output_type": "stream",
     "text": [
      "Collecting mnist\r\n"
     ]
    },
    {
     "name": "stdout",
     "output_type": "stream",
     "text": [
      "  Downloading mnist-0.2.2-py2.py3-none-any.whl (3.5 kB)\r\n",
      "Requirement already satisfied: numpy in /opt/hostedtoolcache/Python/3.6.15/x64/lib/python3.6/site-packages (from mnist) (1.19.5)\r\n"
     ]
    },
    {
     "name": "stdout",
     "output_type": "stream",
     "text": [
      "Installing collected packages: mnist\r\n"
     ]
    },
    {
     "name": "stdout",
     "output_type": "stream",
     "text": [
      "Successfully installed mnist-0.2.2\r\n"
     ]
    }
   ],
   "source": [
    "!pip install mnist"
   ]
  },
  {
   "cell_type": "markdown",
   "id": "69df9c9a",
   "metadata": {
    "papermill": {
     "duration": 0.029264,
     "end_time": "2021-09-19T10:08:02.833369",
     "exception": false,
     "start_time": "2021-09-19T10:08:02.804105",
     "status": "completed"
    },
    "tags": []
   },
   "source": [
    "## Preparing the Data"
   ]
  },
  {
   "cell_type": "code",
   "execution_count": 4,
   "id": "7f69d806",
   "metadata": {
    "execution": {
     "iopub.execute_input": "2021-09-19T10:08:02.896244Z",
     "iopub.status.busy": "2021-09-19T10:08:02.894469Z",
     "iopub.status.idle": "2021-09-19T10:08:02.910119Z",
     "shell.execute_reply": "2021-09-19T10:08:02.910502Z"
    },
    "papermill": {
     "duration": 0.050298,
     "end_time": "2021-09-19T10:08:02.910631",
     "exception": false,
     "start_time": "2021-09-19T10:08:02.860333",
     "status": "completed"
    },
    "tags": []
   },
   "outputs": [],
   "source": [
    "import mnist"
   ]
  },
  {
   "cell_type": "code",
   "execution_count": 5,
   "id": "a411e44f",
   "metadata": {
    "execution": {
     "iopub.execute_input": "2021-09-19T10:08:02.969939Z",
     "iopub.status.busy": "2021-09-19T10:08:02.969377Z",
     "iopub.status.idle": "2021-09-19T10:08:03.534614Z",
     "shell.execute_reply": "2021-09-19T10:08:03.533677Z"
    },
    "papermill": {
     "duration": 0.596255,
     "end_time": "2021-09-19T10:08:03.534864",
     "exception": false,
     "start_time": "2021-09-19T10:08:02.938609",
     "status": "completed"
    },
    "tags": []
   },
   "outputs": [],
   "source": [
    "train_images = mnist.train_images()\n",
    "train_labels = mnist.train_labels()"
   ]
  },
  {
   "cell_type": "code",
   "execution_count": 6,
   "id": "dceab3a5",
   "metadata": {
    "execution": {
     "iopub.execute_input": "2021-09-19T10:08:03.599210Z",
     "iopub.status.busy": "2021-09-19T10:08:03.598517Z",
     "iopub.status.idle": "2021-09-19T10:08:03.614890Z",
     "shell.execute_reply": "2021-09-19T10:08:03.614353Z"
    },
    "papermill": {
     "duration": 0.050002,
     "end_time": "2021-09-19T10:08:03.615017",
     "exception": false,
     "start_time": "2021-09-19T10:08:03.565015",
     "status": "completed"
    },
    "tags": []
   },
   "outputs": [
    {
     "data": {
      "text/plain": [
       "((60000, 28, 28), (60000,))"
      ]
     },
     "execution_count": 6,
     "metadata": {},
     "output_type": "execute_result"
    }
   ],
   "source": [
    "train_images.shape, train_labels.shape"
   ]
  },
  {
   "cell_type": "code",
   "execution_count": 7,
   "id": "f50dc2bb",
   "metadata": {
    "execution": {
     "iopub.execute_input": "2021-09-19T10:08:03.680244Z",
     "iopub.status.busy": "2021-09-19T10:08:03.679538Z",
     "iopub.status.idle": "2021-09-19T10:08:03.842248Z",
     "shell.execute_reply": "2021-09-19T10:08:03.841370Z"
    },
    "papermill": {
     "duration": 0.198158,
     "end_time": "2021-09-19T10:08:03.842461",
     "exception": false,
     "start_time": "2021-09-19T10:08:03.644303",
     "status": "completed"
    },
    "tags": []
   },
   "outputs": [],
   "source": [
    "test_images = mnist.test_images()\n",
    "test_labels = mnist.test_labels()"
   ]
  },
  {
   "cell_type": "code",
   "execution_count": 8,
   "id": "fc38cf1b",
   "metadata": {
    "execution": {
     "iopub.execute_input": "2021-09-19T10:08:03.904153Z",
     "iopub.status.busy": "2021-09-19T10:08:03.903578Z",
     "iopub.status.idle": "2021-09-19T10:08:03.918657Z",
     "shell.execute_reply": "2021-09-19T10:08:03.919178Z"
    },
    "papermill": {
     "duration": 0.048412,
     "end_time": "2021-09-19T10:08:03.919322",
     "exception": false,
     "start_time": "2021-09-19T10:08:03.870910",
     "status": "completed"
    },
    "tags": []
   },
   "outputs": [
    {
     "data": {
      "text/plain": [
       "((10000, 28, 28), (10000,))"
      ]
     },
     "execution_count": 8,
     "metadata": {},
     "output_type": "execute_result"
    }
   ],
   "source": [
    "test_images.shape, test_labels.shape"
   ]
  },
  {
   "cell_type": "code",
   "execution_count": 9,
   "id": "f9ed8fe0",
   "metadata": {
    "execution": {
     "iopub.execute_input": "2021-09-19T10:08:03.983439Z",
     "iopub.status.busy": "2021-09-19T10:08:03.982938Z",
     "iopub.status.idle": "2021-09-19T10:08:04.136635Z",
     "shell.execute_reply": "2021-09-19T10:08:04.137111Z"
    },
    "papermill": {
     "duration": 0.189058,
     "end_time": "2021-09-19T10:08:04.137260",
     "exception": false,
     "start_time": "2021-09-19T10:08:03.948202",
     "status": "completed"
    },
    "tags": []
   },
   "outputs": [
    {
     "name": "stdout",
     "output_type": "stream",
     "text": [
      "2\n"
     ]
    },
    {
     "data": {
      "text/plain": [
       "<matplotlib.image.AxesImage at 0x7fa3286b9828>"
      ]
     },
     "execution_count": 9,
     "metadata": {},
     "output_type": "execute_result"
    },
    {
     "data": {
      "image/png": "[encoded data removed]",
      "text/plain": [
       "<Figure size 432x288 with 1 Axes>"
      ]
     },
     "metadata": {
      "needs_background": "light"
     },
     "output_type": "display_data"
    }
   ],
   "source": [
    "image_index = 7776 # You may select anything up to 60,000\n",
    "print(train_labels[image_index]) \n",
    "plt.imshow(train_images[image_index], cmap='Greys')"
   ]
  },
  {
   "cell_type": "markdown",
   "id": "a8d2388d",
   "metadata": {
    "papermill": {
     "duration": 0.029619,
     "end_time": "2021-09-19T10:08:04.197240",
     "exception": false,
     "start_time": "2021-09-19T10:08:04.167621",
     "status": "completed"
    },
    "tags": []
   },
   "source": [
    "## Filter data to get 3 and 8 out"
   ]
  },
  {
   "cell_type": "code",
   "execution_count": 10,
   "id": "776f7fc7",
   "metadata": {
    "execution": {
     "iopub.execute_input": "2021-09-19T10:08:04.261465Z",
     "iopub.status.busy": "2021-09-19T10:08:04.260846Z",
     "iopub.status.idle": "2021-09-19T10:08:04.277262Z",
     "shell.execute_reply": "2021-09-19T10:08:04.276768Z"
    },
    "papermill": {
     "duration": 0.050992,
     "end_time": "2021-09-19T10:08:04.277385",
     "exception": false,
     "start_time": "2021-09-19T10:08:04.226393",
     "status": "completed"
    },
    "tags": []
   },
   "outputs": [],
   "source": [
    "train_filter = np.where((train_labels == 3 ) | (train_labels == 8))\n",
    "test_filter = np.where((test_labels == 3) | (test_labels == 8))\n",
    "X_train, y_train = train_images[train_filter], train_labels[train_filter]\n",
    "X_test, y_test = test_images[test_filter], test_labels[test_filter]"
   ]
  },
  {
   "cell_type": "markdown",
   "id": "948f0b7e",
   "metadata": {
    "papermill": {
     "duration": 0.02944,
     "end_time": "2021-09-19T10:08:04.335751",
     "exception": false,
     "start_time": "2021-09-19T10:08:04.306311",
     "status": "completed"
    },
    "tags": []
   },
   "source": [
    "We normalize the pizel values in the 0 to 1 range"
   ]
  },
  {
   "cell_type": "code",
   "execution_count": 11,
   "id": "ee4c2166",
   "metadata": {
    "execution": {
     "iopub.execute_input": "2021-09-19T10:08:04.400520Z",
     "iopub.status.busy": "2021-09-19T10:08:04.399914Z",
     "iopub.status.idle": "2021-09-19T10:08:04.453981Z",
     "shell.execute_reply": "2021-09-19T10:08:04.453384Z"
    },
    "papermill": {
     "duration": 0.089528,
     "end_time": "2021-09-19T10:08:04.454123",
     "exception": false,
     "start_time": "2021-09-19T10:08:04.364595",
     "status": "completed"
    },
    "tags": []
   },
   "outputs": [],
   "source": [
    "X_train = X_train/255.\n",
    "X_test = X_test/255."
   ]
  },
  {
   "cell_type": "markdown",
   "id": "ddcf4fab",
   "metadata": {
    "papermill": {
     "duration": 0.031253,
     "end_time": "2021-09-19T10:08:04.517987",
     "exception": false,
     "start_time": "2021-09-19T10:08:04.486734",
     "status": "completed"
    },
    "tags": []
   },
   "source": [
    "And setup the labels as 1 (when the digit is 3) and 0 (when the digit is 8)"
   ]
  },
  {
   "cell_type": "code",
   "execution_count": 12,
   "id": "7dc908f2",
   "metadata": {
    "execution": {
     "iopub.execute_input": "2021-09-19T10:08:04.583405Z",
     "iopub.status.busy": "2021-09-19T10:08:04.582831Z",
     "iopub.status.idle": "2021-09-19T10:08:04.596730Z",
     "shell.execute_reply": "2021-09-19T10:08:04.596250Z"
    },
    "papermill": {
     "duration": 0.048428,
     "end_time": "2021-09-19T10:08:04.596855",
     "exception": false,
     "start_time": "2021-09-19T10:08:04.548427",
     "status": "completed"
    },
    "tags": []
   },
   "outputs": [],
   "source": [
    "y_train = 1*(y_train==3)\n",
    "y_test = 1*(y_test==3)"
   ]
  },
  {
   "cell_type": "code",
   "execution_count": 13,
   "id": "01e4e969",
   "metadata": {
    "execution": {
     "iopub.execute_input": "2021-09-19T10:08:04.660698Z",
     "iopub.status.busy": "2021-09-19T10:08:04.660154Z",
     "iopub.status.idle": "2021-09-19T10:08:04.673912Z",
     "shell.execute_reply": "2021-09-19T10:08:04.674444Z"
    },
    "papermill": {
     "duration": 0.048623,
     "end_time": "2021-09-19T10:08:04.674596",
     "exception": false,
     "start_time": "2021-09-19T10:08:04.625973",
     "status": "completed"
    },
    "tags": []
   },
   "outputs": [
    {
     "data": {
      "text/plain": [
       "((11982, 28, 28), (1984, 28, 28))"
      ]
     },
     "execution_count": 13,
     "metadata": {},
     "output_type": "execute_result"
    }
   ],
   "source": [
    "X_train.shape, X_test.shape"
   ]
  },
  {
   "cell_type": "markdown",
   "id": "5ccf3f85",
   "metadata": {
    "papermill": {
     "duration": 0.027918,
     "end_time": "2021-09-19T10:08:04.732820",
     "exception": false,
     "start_time": "2021-09-19T10:08:04.704902",
     "status": "completed"
    },
    "tags": []
   },
   "source": [
    "We reshape the data to flatten the image pixels into a set of features or co-variates:"
   ]
  },
  {
   "cell_type": "code",
   "execution_count": 14,
   "id": "5286a4a3",
   "metadata": {
    "execution": {
     "iopub.execute_input": "2021-09-19T10:08:04.798766Z",
     "iopub.status.busy": "2021-09-19T10:08:04.798163Z",
     "iopub.status.idle": "2021-09-19T10:08:04.811551Z",
     "shell.execute_reply": "2021-09-19T10:08:04.811139Z"
    },
    "papermill": {
     "duration": 0.048376,
     "end_time": "2021-09-19T10:08:04.811653",
     "exception": false,
     "start_time": "2021-09-19T10:08:04.763277",
     "status": "completed"
    },
    "tags": []
   },
   "outputs": [
    {
     "data": {
      "text/plain": [
       "((11982, 784), (1984, 784))"
      ]
     },
     "execution_count": 14,
     "metadata": {},
     "output_type": "execute_result"
    }
   ],
   "source": [
    "X_train = X_train.reshape(X_train.shape[0], -1)\n",
    "X_test = X_test.reshape(X_test.shape[0], -1)\n",
    "X_train.shape, X_test.shape"
   ]
  },
  {
   "cell_type": "code",
   "execution_count": 15,
   "id": "73c5f88a",
   "metadata": {
    "execution": {
     "iopub.execute_input": "2021-09-19T10:08:04.873699Z",
     "iopub.status.busy": "2021-09-19T10:08:04.873279Z",
     "iopub.status.idle": "2021-09-19T10:08:04.896472Z",
     "shell.execute_reply": "2021-09-19T10:08:04.895690Z"
    },
    "papermill": {
     "duration": 0.056676,
     "end_time": "2021-09-19T10:08:04.896625",
     "exception": false,
     "start_time": "2021-09-19T10:08:04.839949",
     "status": "completed"
    },
    "tags": []
   },
   "outputs": [],
   "source": [
    "#Impoting functions from 'Kudzu'\n",
    "from kudzu.model import Model\n",
    "from kudzu.train import Learner\n",
    "from kudzu.optim import GD\n",
    "from kudzu.data import Data, Sampler,Dataloader\n",
    "\n",
    "from kudzu.callbacks import AccCallback\n",
    "from kudzu.callbacks import ClfCallback\n",
    "\n",
    "from kudzu.loss import MSE\n",
    "\n",
    "from kudzu.layer import Sigmoid,Relu\n",
    "from kudzu.layer import Affine"
   ]
  },
  {
   "cell_type": "markdown",
   "id": "bc01172a",
   "metadata": {
    "papermill": {
     "duration": 0.029479,
     "end_time": "2021-09-19T10:08:04.957397",
     "exception": false,
     "start_time": "2021-09-19T10:08:04.927918",
     "status": "completed"
    },
    "tags": []
   },
   "source": [
    "### Let us create a `Config` class, to store important parameters. \n",
    "This class essentially plays the role of a dictionary."
   ]
  },
  {
   "cell_type": "code",
   "execution_count": 16,
   "id": "978281aa",
   "metadata": {
    "execution": {
     "iopub.execute_input": "2021-09-19T10:08:05.019588Z",
     "iopub.status.busy": "2021-09-19T10:08:05.018968Z",
     "iopub.status.idle": "2021-09-19T10:08:05.033085Z",
     "shell.execute_reply": "2021-09-19T10:08:05.032609Z"
    },
    "papermill": {
     "duration": 0.047512,
     "end_time": "2021-09-19T10:08:05.033210",
     "exception": false,
     "start_time": "2021-09-19T10:08:04.985698",
     "status": "completed"
    },
    "tags": []
   },
   "outputs": [],
   "source": [
    "class Config:\n",
    "    pass\n",
    "config = Config()\n",
    "config.lr = 0.001\n",
    "config.num_epochs = 250\n",
    "config.bs = 50"
   ]
  },
  {
   "cell_type": "markdown",
   "id": "1385fa59",
   "metadata": {
    "papermill": {
     "duration": 0.029752,
     "end_time": "2021-09-19T10:08:05.092274",
     "exception": false,
     "start_time": "2021-09-19T10:08:05.062522",
     "status": "completed"
    },
    "tags": []
   },
   "source": [
    "### Running Models with the Training data\n",
    "Details about the network layers:\n",
    "- A first affine layer has 784 inputs and does 100 affine transforms. These are followed by a Relu\n",
    "- A second affine layer has 100 inputs from the 100 activations of the past layer, and does 100 affine transforms. These are followed by a Relu\n",
    "- A third affine layer has 100 activations and does 2 affine transformations to create an embedding for visualization. There is no non-linearity here.\n",
    "- A final \"logistic regression\" which has an affine transform from 2 inputs to 1 output, which is squeezed through a sigmoid.\n"
   ]
  },
  {
   "cell_type": "code",
   "execution_count": 17,
   "id": "2b9c66db",
   "metadata": {
    "execution": {
     "iopub.execute_input": "2021-09-19T10:08:05.156331Z",
     "iopub.status.busy": "2021-09-19T10:08:05.155797Z",
     "iopub.status.idle": "2021-09-19T10:08:05.170879Z",
     "shell.execute_reply": "2021-09-19T10:08:05.169784Z"
    },
    "papermill": {
     "duration": 0.050289,
     "end_time": "2021-09-19T10:08:05.171119",
     "exception": false,
     "start_time": "2021-09-19T10:08:05.120830",
     "status": "completed"
    },
    "tags": []
   },
   "outputs": [],
   "source": [
    "data = Data(X_train, y_train.reshape(-1,1))\n",
    "sampler = Sampler(data, config.bs, shuffle=True)\n",
    "\n",
    "dl = Dataloader(data, sampler)\n",
    "\n",
    "opt = GD(config.lr)\n",
    "loss = MSE()"
   ]
  },
  {
   "cell_type": "code",
   "execution_count": 18,
   "id": "b275e4c2",
   "metadata": {
    "execution": {
     "iopub.execute_input": "2021-09-19T10:08:05.234292Z",
     "iopub.status.busy": "2021-09-19T10:08:05.233747Z",
     "iopub.status.idle": "2021-09-19T10:08:05.248205Z",
     "shell.execute_reply": "2021-09-19T10:08:05.247765Z"
    },
    "papermill": {
     "duration": 0.04651,
     "end_time": "2021-09-19T10:08:05.248319",
     "exception": false,
     "start_time": "2021-09-19T10:08:05.201809",
     "status": "completed"
    },
    "tags": []
   },
   "outputs": [],
   "source": [
    "training_data_x = X_train\n",
    "testing_data_x = X_test\n",
    "training_data_y = y_train.reshape(-1,1)\n",
    "testing_data_y = y_test.reshape(-1,1)"
   ]
  },
  {
   "cell_type": "code",
   "execution_count": 19,
   "id": "76951160",
   "metadata": {
    "execution": {
     "iopub.execute_input": "2021-09-19T10:08:05.320599Z",
     "iopub.status.busy": "2021-09-19T10:08:05.319993Z",
     "iopub.status.idle": "2021-09-19T10:08:05.338481Z",
     "shell.execute_reply": "2021-09-19T10:08:05.337985Z"
    },
    "papermill": {
     "duration": 0.052838,
     "end_time": "2021-09-19T10:08:05.338599",
     "exception": false,
     "start_time": "2021-09-19T10:08:05.285761",
     "status": "completed"
    },
    "tags": []
   },
   "outputs": [
    {
     "name": "stdout",
     "output_type": "stream",
     "text": [
      "xavier\n",
      "xavier\n",
      "xavier\n",
      "xavier\n",
      "xavier\n"
     ]
    }
   ],
   "source": [
    "layers = [Affine(\"first\", 784, 100), Relu(\"first\"), Affine(\"second\", 100, 100), Relu(\"second\"), Affine(\"third\", 100, 2), Affine(\"last\", 2, 1), Sigmoid(\"last\")]\n",
    "model_nn = Model(layers)\n",
    "model_lr = Model([Affine(\"logits\", 784, 1), Sigmoid(\"sigmoid\")])"
   ]
  },
  {
   "cell_type": "code",
   "execution_count": 20,
   "id": "6eede77a",
   "metadata": {
    "execution": {
     "iopub.execute_input": "2021-09-19T10:08:05.403757Z",
     "iopub.status.busy": "2021-09-19T10:08:05.403162Z",
     "iopub.status.idle": "2021-09-19T10:08:05.418435Z",
     "shell.execute_reply": "2021-09-19T10:08:05.418961Z"
    },
    "papermill": {
     "duration": 0.050197,
     "end_time": "2021-09-19T10:08:05.419090",
     "exception": false,
     "start_time": "2021-09-19T10:08:05.368893",
     "status": "completed"
    },
    "tags": []
   },
   "outputs": [],
   "source": [
    "nn_learner = Learner(loss, model_nn, opt, config.num_epochs)\n",
    "acc_nn = ClfCallback(nn_learner, config.bs, training_data_x , testing_data_x, training_data_y, testing_data_y)\n",
    "nn_learner.set_callbacks([acc_nn])"
   ]
  },
  {
   "cell_type": "code",
   "execution_count": 21,
   "id": "877b6cc7",
   "metadata": {
    "execution": {
     "iopub.execute_input": "2021-09-19T10:08:05.485461Z",
     "iopub.status.busy": "2021-09-19T10:08:05.484791Z",
     "iopub.status.idle": "2021-09-19T10:08:05.500559Z",
     "shell.execute_reply": "2021-09-19T10:08:05.500014Z"
    },
    "papermill": {
     "duration": 0.051807,
     "end_time": "2021-09-19T10:08:05.500682",
     "exception": false,
     "start_time": "2021-09-19T10:08:05.448875",
     "status": "completed"
    },
    "tags": []
   },
   "outputs": [],
   "source": [
    "lr_learner = Learner(loss, model_lr, opt, config.num_epochs)\n",
    "acc_lr = ClfCallback(lr_learner, config.bs, training_data_x , testing_data_x, training_data_y, testing_data_y)\n",
    "lr_learner.set_callbacks([acc_lr])"
   ]
  },
  {
   "cell_type": "code",
   "execution_count": 22,
   "id": "d9b133c3",
   "metadata": {
    "execution": {
     "iopub.execute_input": "2021-09-19T10:08:05.567372Z",
     "iopub.status.busy": "2021-09-19T10:08:05.566777Z",
     "iopub.status.idle": "2021-09-19T10:09:31.116990Z",
     "shell.execute_reply": "2021-09-19T10:09:31.117855Z"
    },
    "papermill": {
     "duration": 85.584662,
     "end_time": "2021-09-19T10:09:31.118014",
     "exception": false,
     "start_time": "2021-09-19T10:08:05.533352",
     "status": "completed"
    },
    "tags": []
   },
   "outputs": [
    {
     "name": "stdout",
     "output_type": "stream",
     "text": [
      "Epoch 0, Loss 0.2194\n",
      "Training Accuracy: 0.7940, Testing Accuracy: 0.8155\n",
      "\n"
     ]
    },
    {
     "name": "stdout",
     "output_type": "stream",
     "text": [
      "Epoch 10, Loss 0.0814\n",
      "Training Accuracy: 0.9155, Testing Accuracy: 0.9264\n",
      "\n"
     ]
    },
    {
     "name": "stdout",
     "output_type": "stream",
     "text": [
      "Epoch 20, Loss 0.0532\n",
      "Training Accuracy: 0.9421, Testing Accuracy: 0.9536\n",
      "\n"
     ]
    },
    {
     "name": "stdout",
     "output_type": "stream",
     "text": [
      "Epoch 30, Loss 0.0422\n",
      "Training Accuracy: 0.9531, Testing Accuracy: 0.9627\n",
      "\n"
     ]
    },
    {
     "name": "stdout",
     "output_type": "stream",
     "text": [
      "Epoch 40, Loss 0.0366\n",
      "Training Accuracy: 0.9588, Testing Accuracy: 0.9627\n",
      "\n"
     ]
    },
    {
     "name": "stdout",
     "output_type": "stream",
     "text": [
      "Epoch 50, Loss 0.0331\n",
      "Training Accuracy: 0.9618, Testing Accuracy: 0.9677\n",
      "\n"
     ]
    },
    {
     "name": "stdout",
     "output_type": "stream",
     "text": [
      "Epoch 60, Loss 0.0307\n",
      "Training Accuracy: 0.9639, Testing Accuracy: 0.9693\n",
      "\n"
     ]
    },
    {
     "name": "stdout",
     "output_type": "stream",
     "text": [
      "Epoch 70, Loss 0.0289\n",
      "Training Accuracy: 0.9651, Testing Accuracy: 0.9703\n",
      "\n"
     ]
    },
    {
     "name": "stdout",
     "output_type": "stream",
     "text": [
      "Epoch 80, Loss 0.0275\n",
      "Training Accuracy: 0.9672, Testing Accuracy: 0.9708\n",
      "\n"
     ]
    },
    {
     "name": "stdout",
     "output_type": "stream",
     "text": [
      "Epoch 90, Loss 0.0263\n",
      "Training Accuracy: 0.9688, Testing Accuracy: 0.9713\n",
      "\n"
     ]
    },
    {
     "name": "stdout",
     "output_type": "stream",
     "text": [
      "Epoch 100, Loss 0.0253\n",
      "Training Accuracy: 0.9705, Testing Accuracy: 0.9713\n",
      "\n"
     ]
    },
    {
     "name": "stdout",
     "output_type": "stream",
     "text": [
      "Epoch 110, Loss 0.0244\n",
      "Training Accuracy: 0.9715, Testing Accuracy: 0.9723\n",
      "\n"
     ]
    },
    {
     "name": "stdout",
     "output_type": "stream",
     "text": [
      "Epoch 120, Loss 0.0236\n",
      "Training Accuracy: 0.9723, Testing Accuracy: 0.9723\n",
      "\n"
     ]
    },
    {
     "name": "stdout",
     "output_type": "stream",
     "text": [
      "Epoch 130, Loss 0.0229\n",
      "Training Accuracy: 0.9735, Testing Accuracy: 0.9728\n",
      "\n"
     ]
    },
    {
     "name": "stdout",
     "output_type": "stream",
     "text": [
      "Epoch 140, Loss 0.0223\n",
      "Training Accuracy: 0.9744, Testing Accuracy: 0.9733\n",
      "\n"
     ]
    },
    {
     "name": "stdout",
     "output_type": "stream",
     "text": [
      "Epoch 150, Loss 0.0217\n",
      "Training Accuracy: 0.9751, Testing Accuracy: 0.9733\n",
      "\n"
     ]
    },
    {
     "name": "stdout",
     "output_type": "stream",
     "text": [
      "Epoch 160, Loss 0.0212\n",
      "Training Accuracy: 0.9760, Testing Accuracy: 0.9748\n",
      "\n"
     ]
    },
    {
     "name": "stdout",
     "output_type": "stream",
     "text": [
      "Epoch 170, Loss 0.0207\n",
      "Training Accuracy: 0.9767, Testing Accuracy: 0.9753\n",
      "\n"
     ]
    },
    {
     "name": "stdout",
     "output_type": "stream",
     "text": [
      "Epoch 180, Loss 0.0202\n",
      "Training Accuracy: 0.9776, Testing Accuracy: 0.9748\n",
      "\n"
     ]
    },
    {
     "name": "stdout",
     "output_type": "stream",
     "text": [
      "Epoch 190, Loss 0.0197\n",
      "Training Accuracy: 0.9780, Testing Accuracy: 0.9748\n",
      "\n"
     ]
    },
    {
     "name": "stdout",
     "output_type": "stream",
     "text": [
      "Epoch 200, Loss 0.0193\n",
      "Training Accuracy: 0.9786, Testing Accuracy: 0.9748\n",
      "\n"
     ]
    },
    {
     "name": "stdout",
     "output_type": "stream",
     "text": [
      "Epoch 210, Loss 0.0189\n",
      "Training Accuracy: 0.9791, Testing Accuracy: 0.9758\n",
      "\n"
     ]
    },
    {
     "name": "stdout",
     "output_type": "stream",
     "text": [
      "Epoch 220, Loss 0.0185\n",
      "Training Accuracy: 0.9799, Testing Accuracy: 0.9758\n",
      "\n"
     ]
    },
    {
     "name": "stdout",
     "output_type": "stream",
     "text": [
      "Epoch 230, Loss 0.0181\n",
      "Training Accuracy: 0.9801, Testing Accuracy: 0.9758\n",
      "\n"
     ]
    },
    {
     "name": "stdout",
     "output_type": "stream",
     "text": [
      "Epoch 240, Loss 0.0178\n",
      "Training Accuracy: 0.9803, Testing Accuracy: 0.9768\n",
      "\n"
     ]
    },
    {
     "data": {
      "text/plain": [
       "0.01044992083422339"
      ]
     },
     "execution_count": 22,
     "metadata": {},
     "output_type": "execute_result"
    }
   ],
   "source": [
    "nn_learner.train_loop(dl)"
   ]
  },
  {
   "cell_type": "code",
   "execution_count": 23,
   "id": "e0163366",
   "metadata": {
    "execution": {
     "iopub.execute_input": "2021-09-19T10:09:31.207399Z",
     "iopub.status.busy": "2021-09-19T10:09:31.206781Z",
     "iopub.status.idle": "2021-09-19T10:09:46.373116Z",
     "shell.execute_reply": "2021-09-19T10:09:46.373674Z"
    },
    "papermill": {
     "duration": 15.21743,
     "end_time": "2021-09-19T10:09:46.373828",
     "exception": false,
     "start_time": "2021-09-19T10:09:31.156398",
     "status": "completed"
    },
    "tags": []
   },
   "outputs": [
    {
     "name": "stdout",
     "output_type": "stream",
     "text": [
      "Epoch 0, Loss 0.2295\n",
      "Training Accuracy: 0.6947, Testing Accuracy: 0.6956\n",
      "\n"
     ]
    },
    {
     "name": "stdout",
     "output_type": "stream",
     "text": [
      "Epoch 10, Loss 0.1085\n",
      "Training Accuracy: 0.8918, Testing Accuracy: 0.9042\n",
      "\n"
     ]
    },
    {
     "name": "stdout",
     "output_type": "stream",
     "text": [
      "Epoch 20, Loss 0.0829\n",
      "Training Accuracy: 0.9185, Testing Accuracy: 0.9355\n",
      "\n"
     ]
    },
    {
     "name": "stdout",
     "output_type": "stream",
     "text": [
      "Epoch 30, Loss 0.071\n",
      "Training Accuracy: 0.9315, Testing Accuracy: 0.9446\n",
      "\n"
     ]
    },
    {
     "name": "stdout",
     "output_type": "stream",
     "text": [
      "Epoch 40, Loss 0.0639\n",
      "Training Accuracy: 0.9377, Testing Accuracy: 0.9496\n",
      "\n"
     ]
    },
    {
     "name": "stdout",
     "output_type": "stream",
     "text": [
      "Epoch 50, Loss 0.059\n",
      "Training Accuracy: 0.9412, Testing Accuracy: 0.9536\n",
      "\n"
     ]
    },
    {
     "name": "stdout",
     "output_type": "stream",
     "text": [
      "Epoch 60, Loss 0.0555\n",
      "Training Accuracy: 0.9433, Testing Accuracy: 0.9551\n",
      "\n"
     ]
    },
    {
     "name": "stdout",
     "output_type": "stream",
     "text": [
      "Epoch 70, Loss 0.0527\n",
      "Training Accuracy: 0.9459, Testing Accuracy: 0.9597\n",
      "\n"
     ]
    },
    {
     "name": "stdout",
     "output_type": "stream",
     "text": [
      "Epoch 80, Loss 0.0505\n",
      "Training Accuracy: 0.9486, Testing Accuracy: 0.9612\n",
      "\n"
     ]
    },
    {
     "name": "stdout",
     "output_type": "stream",
     "text": [
      "Epoch 90, Loss 0.0487\n",
      "Training Accuracy: 0.9503, Testing Accuracy: 0.9617\n",
      "\n"
     ]
    },
    {
     "name": "stdout",
     "output_type": "stream",
     "text": [
      "Epoch 100, Loss 0.0471\n",
      "Training Accuracy: 0.9517, Testing Accuracy: 0.9607\n",
      "\n"
     ]
    },
    {
     "name": "stdout",
     "output_type": "stream",
     "text": [
      "Epoch 110, Loss 0.0458\n",
      "Training Accuracy: 0.9533, Testing Accuracy: 0.9607\n",
      "\n"
     ]
    },
    {
     "name": "stdout",
     "output_type": "stream",
     "text": [
      "Epoch 120, Loss 0.0447\n",
      "Training Accuracy: 0.9543, Testing Accuracy: 0.9617\n",
      "\n"
     ]
    },
    {
     "name": "stdout",
     "output_type": "stream",
     "text": [
      "Epoch 130, Loss 0.0437\n",
      "Training Accuracy: 0.9554, Testing Accuracy: 0.9622\n",
      "\n"
     ]
    },
    {
     "name": "stdout",
     "output_type": "stream",
     "text": [
      "Epoch 140, Loss 0.0428\n",
      "Training Accuracy: 0.9558, Testing Accuracy: 0.9627\n",
      "\n"
     ]
    },
    {
     "name": "stdout",
     "output_type": "stream",
     "text": [
      "Epoch 150, Loss 0.042\n",
      "Training Accuracy: 0.9564, Testing Accuracy: 0.9632\n",
      "\n"
     ]
    },
    {
     "name": "stdout",
     "output_type": "stream",
     "text": [
      "Epoch 160, Loss 0.0413\n",
      "Training Accuracy: 0.9569, Testing Accuracy: 0.9637\n",
      "\n"
     ]
    },
    {
     "name": "stdout",
     "output_type": "stream",
     "text": [
      "Epoch 170, Loss 0.0406\n",
      "Training Accuracy: 0.9574, Testing Accuracy: 0.9627\n",
      "\n"
     ]
    },
    {
     "name": "stdout",
     "output_type": "stream",
     "text": [
      "Epoch 180, Loss 0.04\n",
      "Training Accuracy: 0.9580, Testing Accuracy: 0.9622\n",
      "\n"
     ]
    },
    {
     "name": "stdout",
     "output_type": "stream",
     "text": [
      "Epoch 190, Loss 0.0395\n",
      "Training Accuracy: 0.9584, Testing Accuracy: 0.9627\n",
      "\n"
     ]
    },
    {
     "name": "stdout",
     "output_type": "stream",
     "text": [
      "Epoch 200, Loss 0.0389\n",
      "Training Accuracy: 0.9592, Testing Accuracy: 0.9627\n",
      "\n"
     ]
    },
    {
     "name": "stdout",
     "output_type": "stream",
     "text": [
      "Epoch 210, Loss 0.0385\n",
      "Training Accuracy: 0.9595, Testing Accuracy: 0.9637\n",
      "\n"
     ]
    },
    {
     "name": "stdout",
     "output_type": "stream",
     "text": [
      "Epoch 220, Loss 0.038\n",
      "Training Accuracy: 0.9599, Testing Accuracy: 0.9637\n",
      "\n"
     ]
    },
    {
     "name": "stdout",
     "output_type": "stream",
     "text": [
      "Epoch 230, Loss 0.0376\n",
      "Training Accuracy: 0.9603, Testing Accuracy: 0.9637\n",
      "\n"
     ]
    },
    {
     "name": "stdout",
     "output_type": "stream",
     "text": [
      "Epoch 240, Loss 0.0372\n",
      "Training Accuracy: 0.9606, Testing Accuracy: 0.9647\n",
      "\n"
     ]
    },
    {
     "data": {
      "text/plain": [
       "0.029583754057148328"
      ]
     },
     "execution_count": 23,
     "metadata": {},
     "output_type": "execute_result"
    }
   ],
   "source": [
    "lr_learner.train_loop(dl)"
   ]
  },
  {
   "cell_type": "code",
   "execution_count": 24,
   "id": "ca410940",
   "metadata": {
    "execution": {
     "iopub.execute_input": "2021-09-19T10:09:46.478236Z",
     "iopub.status.busy": "2021-09-19T10:09:46.475640Z",
     "iopub.status.idle": "2021-09-19T10:09:46.756321Z",
     "shell.execute_reply": "2021-09-19T10:09:46.755459Z"
    },
    "papermill": {
     "duration": 0.333247,
     "end_time": "2021-09-19T10:09:46.756452",
     "exception": false,
     "start_time": "2021-09-19T10:09:46.423205",
     "status": "completed"
    },
    "tags": []
   },
   "outputs": [
    {
     "data": {
      "text/plain": [
       "<matplotlib.legend.Legend at 0x7fa31ae90908>"
      ]
     },
     "execution_count": 24,
     "metadata": {},
     "output_type": "execute_result"
    },
    {
     "data": {
      "image/png": "[encoded data removed]",
      "text/plain": [
       "<Figure size 1080x720 with 1 Axes>"
      ]
     },
     "metadata": {
      "needs_background": "light"
     },
     "output_type": "display_data"
    }
   ],
   "source": [
    "#comparing the results of NN and LR\n",
    "plt.figure(figsize=(15,10))\n",
    "\n",
    "# Neural Network plots\n",
    "plt.plot(acc_nn.accuracies, 'r-', label = \"Training Accuracies - NN\")\n",
    "plt.plot(acc_nn.test_accuracies, 'g-', label = \"Testing Accuracies - NN\")\n",
    "\n",
    "# Logistic Regression plots\n",
    "plt.plot(acc_lr.accuracies, 'k-', label = \"Training Accuracies - LR\")\n",
    "plt.plot(acc_lr.test_accuracies, 'b-', label = \"Testing Accuracies - LR\")\n",
    "plt.legend()"
   ]
  },
  {
   "cell_type": "markdown",
   "id": "80dfb35c",
   "metadata": {
    "papermill": {
     "duration": 0.047222,
     "end_time": "2021-09-19T10:09:46.851152",
     "exception": false,
     "start_time": "2021-09-19T10:09:46.803930",
     "status": "completed"
    },
    "tags": []
   },
   "source": [
    "#### Plotting the outputs of this layer of the NN.\n"
   ]
  },
  {
   "cell_type": "code",
   "execution_count": 25,
   "id": "45eb2ff5",
   "metadata": {
    "execution": {
     "iopub.execute_input": "2021-09-19T10:09:46.951452Z",
     "iopub.status.busy": "2021-09-19T10:09:46.950253Z",
     "iopub.status.idle": "2021-09-19T10:09:46.972896Z",
     "shell.execute_reply": "2021-09-19T10:09:46.973676Z"
    },
    "papermill": {
     "duration": 0.075401,
     "end_time": "2021-09-19T10:09:46.973840",
     "exception": false,
     "start_time": "2021-09-19T10:09:46.898439",
     "status": "completed"
    },
    "tags": []
   },
   "outputs": [],
   "source": [
    "new_model = Model(layers[:-2])\n",
    "testing_plot = new_model(testing_data_x)"
   ]
  },
  {
   "cell_type": "code",
   "execution_count": 26,
   "id": "4c0a5485",
   "metadata": {
    "execution": {
     "iopub.execute_input": "2021-09-19T10:09:47.087326Z",
     "iopub.status.busy": "2021-09-19T10:09:47.086667Z",
     "iopub.status.idle": "2021-09-19T10:09:47.317693Z",
     "shell.execute_reply": "2021-09-19T10:09:47.318173Z"
    },
    "papermill": {
     "duration": 0.286074,
     "end_time": "2021-09-19T10:09:47.318326",
     "exception": false,
     "start_time": "2021-09-19T10:09:47.032252",
     "status": "completed"
    },
    "tags": []
   },
   "outputs": [
    {
     "data": {
      "text/plain": [
       "Text(0.5, 1.0, 'Outputs')"
      ]
     },
     "execution_count": 26,
     "metadata": {},
     "output_type": "execute_result"
    },
    {
     "data": {
      "image/png": "[encoded data removed]",
      "text/plain": [
       "<Figure size 576x504 with 1 Axes>"
      ]
     },
     "metadata": {
      "needs_background": "light"
     },
     "output_type": "display_data"
    }
   ],
   "source": [
    "# Plotting the scatter plot of points and color coding by class\n",
    "plt.figure(figsize=(8,7))\n",
    "plt.scatter(testing_plot[:,0], testing_plot[:,1], alpha = 0.1, c = y_test.ravel());\n",
    "plt.title('Outputs')"
   ]
  },
  {
   "cell_type": "markdown",
   "id": "a74fcf8f",
   "metadata": {
    "papermill": {
     "duration": 0.04995,
     "end_time": "2021-09-19T10:09:47.419376",
     "exception": false,
     "start_time": "2021-09-19T10:09:47.369426",
     "status": "completed"
    },
    "tags": []
   },
   "source": [
    "Probability contours"
   ]
  },
  {
   "cell_type": "code",
   "execution_count": 27,
   "id": "d0afc8e3",
   "metadata": {
    "execution": {
     "iopub.execute_input": "2021-09-19T10:09:47.532085Z",
     "iopub.status.busy": "2021-09-19T10:09:47.531471Z",
     "iopub.status.idle": "2021-09-19T10:09:47.536448Z",
     "shell.execute_reply": "2021-09-19T10:09:47.535967Z"
    },
    "papermill": {
     "duration": 0.066951,
     "end_time": "2021-09-19T10:09:47.536571",
     "exception": false,
     "start_time": "2021-09-19T10:09:47.469620",
     "status": "completed"
    },
    "tags": []
   },
   "outputs": [],
   "source": [
    "model_prob = Model(layers[-2:]) "
   ]
  },
  {
   "cell_type": "code",
   "execution_count": 28,
   "id": "9b96e238",
   "metadata": {
    "execution": {
     "iopub.execute_input": "2021-09-19T10:09:47.673114Z",
     "iopub.status.busy": "2021-09-19T10:09:47.672560Z",
     "iopub.status.idle": "2021-09-19T10:09:47.687521Z",
     "shell.execute_reply": "2021-09-19T10:09:47.687961Z"
    },
    "papermill": {
     "duration": 0.072285,
     "end_time": "2021-09-19T10:09:47.688164",
     "exception": false,
     "start_time": "2021-09-19T10:09:47.615879",
     "status": "completed"
    },
    "tags": []
   },
   "outputs": [],
   "source": [
    "#creating the x and y ranges according to the above generated plot.\n",
    "x_range = np.linspace(-4, 1, 100) \n",
    "y_range = np.linspace(-6, 6, 100) \n",
    "x_grid, y_grid = np.meshgrid(x_range, y_range) # x_grid and y_grig are of size 100 X 100\n",
    "\n",
    "# converting x_grid and y_grid to continuous arrays\n",
    "x_gridflat = np.ravel(x_grid)\n",
    "y_gridflat = np.ravel(y_grid)\n",
    "\n",
    "# The last layer of the current model takes two columns as input. Hence transpose of np.vstack() is required.\n",
    "X = np.vstack((x_gridflat, y_gridflat)).T\n",
    "\n",
    "prob_contour = model_prob(X).reshape(100,100) "
   ]
  },
  {
   "cell_type": "code",
   "execution_count": 29,
   "id": "da72499a",
   "metadata": {
    "execution": {
     "iopub.execute_input": "2021-09-19T10:09:47.808264Z",
     "iopub.status.busy": "2021-09-19T10:09:47.807666Z",
     "iopub.status.idle": "2021-09-19T10:09:48.093175Z",
     "shell.execute_reply": "2021-09-19T10:09:48.092654Z"
    },
    "papermill": {
     "duration": 0.349944,
     "end_time": "2021-09-19T10:09:48.093302",
     "exception": false,
     "start_time": "2021-09-19T10:09:47.743358",
     "status": "completed"
    },
    "tags": []
   },
   "outputs": [
    {
     "data": {
      "image/png": "[encoded data removed]",
      "text/plain": [
       "<Figure size 720x648 with 1 Axes>"
      ]
     },
     "metadata": {
      "needs_background": "light"
     },
     "output_type": "display_data"
    }
   ],
   "source": [
    "plt.figure(figsize=(10,9))\n",
    "plt.scatter(testing_plot[:,0], testing_plot[:,1], alpha = 0.1, c = y_test.ravel())\n",
    "contours = plt.contour(x_grid,y_grid,prob_contour)\n",
    "plt.title('Probability Contours')\n",
    "plt.clabel(contours, inline = True );"
   ]
  },
  {
   "cell_type": "code",
   "execution_count": null,
   "id": "e81b4ac7",
   "metadata": {
    "papermill": {
     "duration": 0.053644,
     "end_time": "2021-09-19T10:09:48.200872",
     "exception": false,
     "start_time": "2021-09-19T10:09:48.147228",
     "status": "completed"
    },
    "tags": []
   },
   "outputs": [],
   "source": []
  }
 ],
 "metadata": {
  "kernelspec": {
   "display_name": "Python 3",
   "language": "python",
   "name": "python3"
  },
  "language_info": {
   "codemirror_mode": {
    "name": "ipython",
    "version": 3
   },
   "file_extension": ".py",
   "mimetype": "text/x-python",
   "name": "python",
   "nbconvert_exporter": "python",
   "pygments_lexer": "ipython3",
   "version": "3.6.15"
  },
  "papermill": {
   "default_parameters": {},
   "duration": 109.661566,
   "end_time": "2021-09-19T10:09:48.664509",
   "environment_variables": {},
   "exception": null,
   "input_path": "2020-08-11-part2.ipynb",
   "output_path": "2020-08-11-part2.ipynb",
   "parameters": {},
   "start_time": "2021-09-19T10:07:59.002943",
   "version": "2.3.3"
  }
 },
 "nbformat": 4,
 "nbformat_minor": 5
}