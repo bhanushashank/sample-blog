{
 "cells": [
  {
   "cell_type": "markdown",
   "id": "98380cd3",
   "metadata": {
    "papermill": {
     "duration": 0.034303,
     "end_time": "2022-11-09T00:43:16.862482",
     "exception": false,
     "start_time": "2022-11-09T00:43:16.828179",
     "status": "completed"
    },
    "tags": []
   },
   "source": [
    "# Distinguish Your Own Digits (DYOD)"
   ]
  },
  {
   "cell_type": "markdown",
   "id": "ef31240d",
   "metadata": {
    "papermill": {
     "duration": 0.029357,
     "end_time": "2022-11-09T00:43:16.920919",
     "exception": false,
     "start_time": "2022-11-09T00:43:16.891562",
     "status": "completed"
    },
    "tags": []
   },
   "source": [
    "You are going to write a classifier that distinguishes between the number 3 and number 8."
   ]
  },
  {
   "cell_type": "code",
   "execution_count": 1,
   "id": "b15c8646",
   "metadata": {
    "execution": {
     "iopub.execute_input": "2022-11-09T00:43:16.989379Z",
     "iopub.status.busy": "2022-11-09T00:43:16.988583Z",
     "iopub.status.idle": "2022-11-09T00:43:17.001300Z",
     "shell.execute_reply": "2022-11-09T00:43:17.000720Z"
    },
    "papermill": {
     "duration": 0.052455,
     "end_time": "2022-11-09T00:43:17.001448",
     "exception": false,
     "start_time": "2022-11-09T00:43:16.948993",
     "status": "completed"
    },
    "tags": []
   },
   "outputs": [],
   "source": [
    "%load_ext autoreload\n",
    "%autoreload 2"
   ]
  },
  {
   "cell_type": "code",
   "execution_count": 2,
   "id": "22ef38dc",
   "metadata": {
    "execution": {
     "iopub.execute_input": "2022-11-09T00:43:17.062860Z",
     "iopub.status.busy": "2022-11-09T00:43:17.062113Z",
     "iopub.status.idle": "2022-11-09T00:43:17.692007Z",
     "shell.execute_reply": "2022-11-09T00:43:17.692583Z"
    },
    "papermill": {
     "duration": 0.663557,
     "end_time": "2022-11-09T00:43:17.692830",
     "exception": false,
     "start_time": "2022-11-09T00:43:17.029273",
     "status": "completed"
    },
    "tags": []
   },
   "outputs": [],
   "source": [
    "%matplotlib inline\n",
    "import numpy as np\n",
    "import matplotlib.pyplot as plt\n",
    "import pandas as pd"
   ]
  },
  {
   "cell_type": "markdown",
   "id": "ba036198",
   "metadata": {
    "papermill": {
     "duration": 0.030321,
     "end_time": "2022-11-09T00:43:17.754037",
     "exception": false,
     "start_time": "2022-11-09T00:43:17.723716",
     "status": "completed"
    },
    "tags": []
   },
   "source": [
    "From the command line run `pip install mnist`. This is a library that will help you bring down the mnist dataset. If you run this from a notebook, you need to put  `!pip install mnist` in a cell by itself."
   ]
  },
  {
   "cell_type": "code",
   "execution_count": 3,
   "id": "bb6ad8a1",
   "metadata": {
    "execution": {
     "iopub.execute_input": "2022-11-09T00:43:17.821967Z",
     "iopub.status.busy": "2022-11-09T00:43:17.821222Z",
     "iopub.status.idle": "2022-11-09T00:43:19.643447Z",
     "shell.execute_reply": "2022-11-09T00:43:19.642857Z"
    },
    "papermill": {
     "duration": 1.859925,
     "end_time": "2022-11-09T00:43:19.643589",
     "exception": false,
     "start_time": "2022-11-09T00:43:17.783664",
     "status": "completed"
    },
    "tags": []
   },
   "outputs": [
    {
     "name": "stdout",
     "output_type": "stream",
     "text": [
      "Collecting mnist\r\n"
     ]
    },
    {
     "name": "stdout",
     "output_type": "stream",
     "text": [
      "  Downloading mnist-0.2.2-py2.py3-none-any.whl (3.5 kB)\r\n",
      "Requirement already satisfied: numpy in /opt/hostedtoolcache/Python/3.6.15/x64/lib/python3.6/site-packages (from mnist) (1.19.5)\r\n"
     ]
    },
    {
     "name": "stdout",
     "output_type": "stream",
     "text": [
      "Installing collected packages: mnist\r\n"
     ]
    },
    {
     "name": "stdout",
     "output_type": "stream",
     "text": [
      "Successfully installed mnist-0.2.2\r\n"
     ]
    }
   ],
   "source": [
    "!pip install mnist"
   ]
  },
  {
   "cell_type": "markdown",
   "id": "69df9c9a",
   "metadata": {
    "papermill": {
     "duration": 0.028589,
     "end_time": "2022-11-09T00:43:19.702082",
     "exception": false,
     "start_time": "2022-11-09T00:43:19.673493",
     "status": "completed"
    },
    "tags": []
   },
   "source": [
    "## Preparing the Data"
   ]
  },
  {
   "cell_type": "code",
   "execution_count": 4,
   "id": "7f69d806",
   "metadata": {
    "execution": {
     "iopub.execute_input": "2022-11-09T00:43:19.774492Z",
     "iopub.status.busy": "2022-11-09T00:43:19.767859Z",
     "iopub.status.idle": "2022-11-09T00:43:19.781515Z",
     "shell.execute_reply": "2022-11-09T00:43:19.780997Z"
    },
    "papermill": {
     "duration": 0.05062,
     "end_time": "2022-11-09T00:43:19.781662",
     "exception": false,
     "start_time": "2022-11-09T00:43:19.731042",
     "status": "completed"
    },
    "tags": []
   },
   "outputs": [],
   "source": [
    "import mnist"
   ]
  },
  {
   "cell_type": "code",
   "execution_count": 5,
   "id": "a411e44f",
   "metadata": {
    "execution": {
     "iopub.execute_input": "2022-11-09T00:43:19.858934Z",
     "iopub.status.busy": "2022-11-09T00:43:19.852008Z",
     "iopub.status.idle": "2022-11-09T00:43:20.422988Z",
     "shell.execute_reply": "2022-11-09T00:43:20.423506Z"
    },
    "papermill": {
     "duration": 0.611651,
     "end_time": "2022-11-09T00:43:20.423676",
     "exception": false,
     "start_time": "2022-11-09T00:43:19.812025",
     "status": "completed"
    },
    "tags": []
   },
   "outputs": [],
   "source": [
    "train_images = mnist.train_images()\n",
    "train_labels = mnist.train_labels()"
   ]
  },
  {
   "cell_type": "code",
   "execution_count": 6,
   "id": "dceab3a5",
   "metadata": {
    "execution": {
     "iopub.execute_input": "2022-11-09T00:43:20.499425Z",
     "iopub.status.busy": "2022-11-09T00:43:20.498763Z",
     "iopub.status.idle": "2022-11-09T00:43:20.515072Z",
     "shell.execute_reply": "2022-11-09T00:43:20.514474Z"
    },
    "papermill": {
     "duration": 0.060953,
     "end_time": "2022-11-09T00:43:20.515195",
     "exception": false,
     "start_time": "2022-11-09T00:43:20.454242",
     "status": "completed"
    },
    "tags": []
   },
   "outputs": [
    {
     "data": {
      "text/plain": [
       "((60000, 28, 28), (60000,))"
      ]
     },
     "execution_count": 6,
     "metadata": {},
     "output_type": "execute_result"
    }
   ],
   "source": [
    "train_images.shape, train_labels.shape"
   ]
  },
  {
   "cell_type": "code",
   "execution_count": 7,
   "id": "f50dc2bb",
   "metadata": {
    "execution": {
     "iopub.execute_input": "2022-11-09T00:43:20.579168Z",
     "iopub.status.busy": "2022-11-09T00:43:20.578441Z",
     "iopub.status.idle": "2022-11-09T00:43:20.776214Z",
     "shell.execute_reply": "2022-11-09T00:43:20.776874Z"
    },
    "papermill": {
     "duration": 0.233314,
     "end_time": "2022-11-09T00:43:20.777050",
     "exception": false,
     "start_time": "2022-11-09T00:43:20.543736",
     "status": "completed"
    },
    "tags": []
   },
   "outputs": [],
   "source": [
    "test_images = mnist.test_images()\n",
    "test_labels = mnist.test_labels()"
   ]
  },
  {
   "cell_type": "code",
   "execution_count": 8,
   "id": "fc38cf1b",
   "metadata": {
    "execution": {
     "iopub.execute_input": "2022-11-09T00:43:20.845224Z",
     "iopub.status.busy": "2022-11-09T00:43:20.844435Z",
     "iopub.status.idle": "2022-11-09T00:43:20.860121Z",
     "shell.execute_reply": "2022-11-09T00:43:20.859220Z"
    },
    "papermill": {
     "duration": 0.051645,
     "end_time": "2022-11-09T00:43:20.860341",
     "exception": false,
     "start_time": "2022-11-09T00:43:20.808696",
     "status": "completed"
    },
    "tags": []
   },
   "outputs": [
    {
     "data": {
      "text/plain": [
       "((10000, 28, 28), (10000,))"
      ]
     },
     "execution_count": 8,
     "metadata": {},
     "output_type": "execute_result"
    }
   ],
   "source": [
    "test_images.shape, test_labels.shape"
   ]
  },
  {
   "cell_type": "code",
   "execution_count": 9,
   "id": "f9ed8fe0",
   "metadata": {
    "execution": {
     "iopub.execute_input": "2022-11-09T00:43:20.929919Z",
     "iopub.status.busy": "2022-11-09T00:43:20.929132Z",
     "iopub.status.idle": "2022-11-09T00:43:21.110170Z",
     "shell.execute_reply": "2022-11-09T00:43:21.109322Z"
    },
    "papermill": {
     "duration": 0.217747,
     "end_time": "2022-11-09T00:43:21.110385",
     "exception": false,
     "start_time": "2022-11-09T00:43:20.892638",
     "status": "completed"
    },
    "tags": []
   },
   "outputs": [
    {
     "name": "stdout",
     "output_type": "stream",
     "text": [
      "2\n"
     ]
    },
    {
     "data": {
      "text/plain": [
       "<matplotlib.image.AxesImage at 0x7f917a2dbda0>"
      ]
     },
     "execution_count": 9,
     "metadata": {},
     "output_type": "execute_result"
    },
    {
     "data": {
      "image/png": "[encoded data removed]",
      "text/plain": [
       "<Figure size 432x288 with 1 Axes>"
      ]
     },
     "metadata": {
      "needs_background": "light"
     },
     "output_type": "display_data"
    }
   ],
   "source": [
    "image_index = 7776 # You may select anything up to 60,000\n",
    "print(train_labels[image_index]) \n",
    "plt.imshow(train_images[image_index], cmap='Greys')"
   ]
  },
  {
   "cell_type": "markdown",
   "id": "a8d2388d",
   "metadata": {
    "papermill": {
     "duration": 0.034014,
     "end_time": "2022-11-09T00:43:21.179407",
     "exception": false,
     "start_time": "2022-11-09T00:43:21.145393",
     "status": "completed"
    },
    "tags": []
   },
   "source": [
    "## Filter data to get 3 and 8 out"
   ]
  },
  {
   "cell_type": "code",
   "execution_count": 10,
   "id": "776f7fc7",
   "metadata": {
    "execution": {
     "iopub.execute_input": "2022-11-09T00:43:21.255028Z",
     "iopub.status.busy": "2022-11-09T00:43:21.254058Z",
     "iopub.status.idle": "2022-11-09T00:43:21.276289Z",
     "shell.execute_reply": "2022-11-09T00:43:21.275644Z"
    },
    "papermill": {
     "duration": 0.063412,
     "end_time": "2022-11-09T00:43:21.276466",
     "exception": false,
     "start_time": "2022-11-09T00:43:21.213054",
     "status": "completed"
    },
    "tags": []
   },
   "outputs": [],
   "source": [
    "train_filter = np.where((train_labels == 3 ) | (train_labels == 8))\n",
    "test_filter = np.where((test_labels == 3) | (test_labels == 8))\n",
    "X_train, y_train = train_images[train_filter], train_labels[train_filter]\n",
    "X_test, y_test = test_images[test_filter], test_labels[test_filter]"
   ]
  },
  {
   "cell_type": "markdown",
   "id": "948f0b7e",
   "metadata": {
    "papermill": {
     "duration": 0.033374,
     "end_time": "2022-11-09T00:43:21.343366",
     "exception": false,
     "start_time": "2022-11-09T00:43:21.309992",
     "status": "completed"
    },
    "tags": []
   },
   "source": [
    "We normalize the pizel values in the 0 to 1 range"
   ]
  },
  {
   "cell_type": "code",
   "execution_count": 11,
   "id": "ee4c2166",
   "metadata": {
    "execution": {
     "iopub.execute_input": "2022-11-09T00:43:21.409802Z",
     "iopub.status.busy": "2022-11-09T00:43:21.409078Z",
     "iopub.status.idle": "2022-11-09T00:43:21.471553Z",
     "shell.execute_reply": "2022-11-09T00:43:21.470953Z"
    },
    "papermill": {
     "duration": 0.097351,
     "end_time": "2022-11-09T00:43:21.471693",
     "exception": false,
     "start_time": "2022-11-09T00:43:21.374342",
     "status": "completed"
    },
    "tags": []
   },
   "outputs": [],
   "source": [
    "X_train = X_train/255.\n",
    "X_test = X_test/255."
   ]
  },
  {
   "cell_type": "markdown",
   "id": "ddcf4fab",
   "metadata": {
    "papermill": {
     "duration": 0.031051,
     "end_time": "2022-11-09T00:43:21.535901",
     "exception": false,
     "start_time": "2022-11-09T00:43:21.504850",
     "status": "completed"
    },
    "tags": []
   },
   "source": [
    "And setup the labels as 1 (when the digit is 3) and 0 (when the digit is 8)"
   ]
  },
  {
   "cell_type": "code",
   "execution_count": 12,
   "id": "7dc908f2",
   "metadata": {
    "execution": {
     "iopub.execute_input": "2022-11-09T00:43:21.603477Z",
     "iopub.status.busy": "2022-11-09T00:43:21.602620Z",
     "iopub.status.idle": "2022-11-09T00:43:21.614912Z",
     "shell.execute_reply": "2022-11-09T00:43:21.614380Z"
    },
    "papermill": {
     "duration": 0.048642,
     "end_time": "2022-11-09T00:43:21.615027",
     "exception": false,
     "start_time": "2022-11-09T00:43:21.566385",
     "status": "completed"
    },
    "tags": []
   },
   "outputs": [],
   "source": [
    "y_train = 1*(y_train==3)\n",
    "y_test = 1*(y_test==3)"
   ]
  },
  {
   "cell_type": "code",
   "execution_count": 13,
   "id": "01e4e969",
   "metadata": {
    "execution": {
     "iopub.execute_input": "2022-11-09T00:43:21.680751Z",
     "iopub.status.busy": "2022-11-09T00:43:21.680078Z",
     "iopub.status.idle": "2022-11-09T00:43:21.694305Z",
     "shell.execute_reply": "2022-11-09T00:43:21.694915Z"
    },
    "papermill": {
     "duration": 0.0491,
     "end_time": "2022-11-09T00:43:21.695053",
     "exception": false,
     "start_time": "2022-11-09T00:43:21.645953",
     "status": "completed"
    },
    "tags": []
   },
   "outputs": [
    {
     "data": {
      "text/plain": [
       "((11982, 28, 28), (1984, 28, 28))"
      ]
     },
     "execution_count": 13,
     "metadata": {},
     "output_type": "execute_result"
    }
   ],
   "source": [
    "X_train.shape, X_test.shape"
   ]
  },
  {
   "cell_type": "markdown",
   "id": "5ccf3f85",
   "metadata": {
    "papermill": {
     "duration": 0.030791,
     "end_time": "2022-11-09T00:43:21.756896",
     "exception": false,
     "start_time": "2022-11-09T00:43:21.726105",
     "status": "completed"
    },
    "tags": []
   },
   "source": [
    "We reshape the data to flatten the image pixels into a set of features or co-variates:"
   ]
  },
  {
   "cell_type": "code",
   "execution_count": 14,
   "id": "5286a4a3",
   "metadata": {
    "execution": {
     "iopub.execute_input": "2022-11-09T00:43:21.824283Z",
     "iopub.status.busy": "2022-11-09T00:43:21.823594Z",
     "iopub.status.idle": "2022-11-09T00:43:21.835999Z",
     "shell.execute_reply": "2022-11-09T00:43:21.836695Z"
    },
    "papermill": {
     "duration": 0.048658,
     "end_time": "2022-11-09T00:43:21.836840",
     "exception": false,
     "start_time": "2022-11-09T00:43:21.788182",
     "status": "completed"
    },
    "tags": []
   },
   "outputs": [
    {
     "data": {
      "text/plain": [
       "((11982, 784), (1984, 784))"
      ]
     },
     "execution_count": 14,
     "metadata": {},
     "output_type": "execute_result"
    }
   ],
   "source": [
    "X_train = X_train.reshape(X_train.shape[0], -1)\n",
    "X_test = X_test.reshape(X_test.shape[0], -1)\n",
    "X_train.shape, X_test.shape"
   ]
  },
  {
   "cell_type": "code",
   "execution_count": 15,
   "id": "73c5f88a",
   "metadata": {
    "execution": {
     "iopub.execute_input": "2022-11-09T00:43:21.908831Z",
     "iopub.status.busy": "2022-11-09T00:43:21.908003Z",
     "iopub.status.idle": "2022-11-09T00:43:21.927317Z",
     "shell.execute_reply": "2022-11-09T00:43:21.926710Z"
    },
    "papermill": {
     "duration": 0.058356,
     "end_time": "2022-11-09T00:43:21.927433",
     "exception": false,
     "start_time": "2022-11-09T00:43:21.869077",
     "status": "completed"
    },
    "tags": []
   },
   "outputs": [],
   "source": [
    "#Impoting functions from 'Kudzu'\n",
    "from kudzu.model import Model\n",
    "from kudzu.train import Learner\n",
    "from kudzu.optim import GD\n",
    "from kudzu.data import Data, Sampler,Dataloader\n",
    "\n",
    "from kudzu.callbacks import AccCallback\n",
    "from kudzu.callbacks import ClfCallback\n",
    "\n",
    "from kudzu.loss import MSE\n",
    "\n",
    "from kudzu.layer import Sigmoid,Relu\n",
    "from kudzu.layer import Affine"
   ]
  },
  {
   "cell_type": "markdown",
   "id": "bc01172a",
   "metadata": {
    "papermill": {
     "duration": 0.032391,
     "end_time": "2022-11-09T00:43:21.991138",
     "exception": false,
     "start_time": "2022-11-09T00:43:21.958747",
     "status": "completed"
    },
    "tags": []
   },
   "source": [
    "### Let us create a `Config` class, to store important parameters. \n",
    "This class essentially plays the role of a dictionary."
   ]
  },
  {
   "cell_type": "code",
   "execution_count": 16,
   "id": "978281aa",
   "metadata": {
    "execution": {
     "iopub.execute_input": "2022-11-09T00:43:22.057662Z",
     "iopub.status.busy": "2022-11-09T00:43:22.056903Z",
     "iopub.status.idle": "2022-11-09T00:43:22.074790Z",
     "shell.execute_reply": "2022-11-09T00:43:22.074166Z"
    },
    "papermill": {
     "duration": 0.05261,
     "end_time": "2022-11-09T00:43:22.074916",
     "exception": false,
     "start_time": "2022-11-09T00:43:22.022306",
     "status": "completed"
    },
    "tags": []
   },
   "outputs": [],
   "source": [
    "class Config:\n",
    "    pass\n",
    "config = Config()\n",
    "config.lr = 0.001\n",
    "config.num_epochs = 250\n",
    "config.bs = 50"
   ]
  },
  {
   "cell_type": "markdown",
   "id": "1385fa59",
   "metadata": {
    "papermill": {
     "duration": 0.031417,
     "end_time": "2022-11-09T00:43:22.138530",
     "exception": false,
     "start_time": "2022-11-09T00:43:22.107113",
     "status": "completed"
    },
    "tags": []
   },
   "source": [
    "### Running Models with the Training data\n",
    "Details about the network layers:\n",
    "- A first affine layer has 784 inputs and does 100 affine transforms. These are followed by a Relu\n",
    "- A second affine layer has 100 inputs from the 100 activations of the past layer, and does 100 affine transforms. These are followed by a Relu\n",
    "- A third affine layer has 100 activations and does 2 affine transformations to create an embedding for visualization. There is no non-linearity here.\n",
    "- A final \"logistic regression\" which has an affine transform from 2 inputs to 1 output, which is squeezed through a sigmoid.\n"
   ]
  },
  {
   "cell_type": "code",
   "execution_count": 17,
   "id": "2b9c66db",
   "metadata": {
    "execution": {
     "iopub.execute_input": "2022-11-09T00:43:22.208810Z",
     "iopub.status.busy": "2022-11-09T00:43:22.208139Z",
     "iopub.status.idle": "2022-11-09T00:43:22.222973Z",
     "shell.execute_reply": "2022-11-09T00:43:22.223622Z"
    },
    "papermill": {
     "duration": 0.053953,
     "end_time": "2022-11-09T00:43:22.223779",
     "exception": false,
     "start_time": "2022-11-09T00:43:22.169826",
     "status": "completed"
    },
    "tags": []
   },
   "outputs": [],
   "source": [
    "data = Data(X_train, y_train.reshape(-1,1))\n",
    "sampler = Sampler(data, config.bs, shuffle=True)\n",
    "\n",
    "dl = Dataloader(data, sampler)\n",
    "\n",
    "opt = GD(config.lr)\n",
    "loss = MSE()"
   ]
  },
  {
   "cell_type": "code",
   "execution_count": 18,
   "id": "b275e4c2",
   "metadata": {
    "execution": {
     "iopub.execute_input": "2022-11-09T00:43:22.298624Z",
     "iopub.status.busy": "2022-11-09T00:43:22.297832Z",
     "iopub.status.idle": "2022-11-09T00:43:22.311850Z",
     "shell.execute_reply": "2022-11-09T00:43:22.311268Z"
    },
    "papermill": {
     "duration": 0.053978,
     "end_time": "2022-11-09T00:43:22.312060",
     "exception": false,
     "start_time": "2022-11-09T00:43:22.258082",
     "status": "completed"
    },
    "tags": []
   },
   "outputs": [],
   "source": [
    "training_data_x = X_train\n",
    "testing_data_x = X_test\n",
    "training_data_y = y_train.reshape(-1,1)\n",
    "testing_data_y = y_test.reshape(-1,1)"
   ]
  },
  {
   "cell_type": "code",
   "execution_count": 19,
   "id": "76951160",
   "metadata": {
    "execution": {
     "iopub.execute_input": "2022-11-09T00:43:22.385007Z",
     "iopub.status.busy": "2022-11-09T00:43:22.384264Z",
     "iopub.status.idle": "2022-11-09T00:43:22.403980Z",
     "shell.execute_reply": "2022-11-09T00:43:22.403352Z"
    },
    "papermill": {
     "duration": 0.058255,
     "end_time": "2022-11-09T00:43:22.404122",
     "exception": false,
     "start_time": "2022-11-09T00:43:22.345867",
     "status": "completed"
    },
    "tags": []
   },
   "outputs": [
    {
     "name": "stdout",
     "output_type": "stream",
     "text": [
      "xavier\n",
      "xavier\n",
      "xavier\n",
      "xavier\n",
      "xavier\n"
     ]
    }
   ],
   "source": [
    "layers = [Affine(\"first\", 784, 100), Relu(\"first\"), Affine(\"second\", 100, 100), Relu(\"second\"), Affine(\"third\", 100, 2), Affine(\"last\", 2, 1), Sigmoid(\"last\")]\n",
    "model_nn = Model(layers)\n",
    "model_lr = Model([Affine(\"logits\", 784, 1), Sigmoid(\"sigmoid\")])"
   ]
  },
  {
   "cell_type": "code",
   "execution_count": 20,
   "id": "6eede77a",
   "metadata": {
    "execution": {
     "iopub.execute_input": "2022-11-09T00:43:22.480324Z",
     "iopub.status.busy": "2022-11-09T00:43:22.479614Z",
     "iopub.status.idle": "2022-11-09T00:43:22.493558Z",
     "shell.execute_reply": "2022-11-09T00:43:22.492841Z"
    },
    "papermill": {
     "duration": 0.052511,
     "end_time": "2022-11-09T00:43:22.493727",
     "exception": false,
     "start_time": "2022-11-09T00:43:22.441216",
     "status": "completed"
    },
    "tags": []
   },
   "outputs": [],
   "source": [
    "nn_learner = Learner(loss, model_nn, opt, config.num_epochs)\n",
    "acc_nn = ClfCallback(nn_learner, config.bs, training_data_x , testing_data_x, training_data_y, testing_data_y)\n",
    "nn_learner.set_callbacks([acc_nn])"
   ]
  },
  {
   "cell_type": "code",
   "execution_count": 21,
   "id": "877b6cc7",
   "metadata": {
    "execution": {
     "iopub.execute_input": "2022-11-09T00:43:22.567609Z",
     "iopub.status.busy": "2022-11-09T00:43:22.566832Z",
     "iopub.status.idle": "2022-11-09T00:43:22.576554Z",
     "shell.execute_reply": "2022-11-09T00:43:22.577364Z"
    },
    "papermill": {
     "duration": 0.050976,
     "end_time": "2022-11-09T00:43:22.577525",
     "exception": false,
     "start_time": "2022-11-09T00:43:22.526549",
     "status": "completed"
    },
    "tags": []
   },
   "outputs": [],
   "source": [
    "lr_learner = Learner(loss, model_lr, opt, config.num_epochs)\n",
    "acc_lr = ClfCallback(lr_learner, config.bs, training_data_x , testing_data_x, training_data_y, testing_data_y)\n",
    "lr_learner.set_callbacks([acc_lr])"
   ]
  },
  {
   "cell_type": "code",
   "execution_count": 22,
   "id": "d9b133c3",
   "metadata": {
    "execution": {
     "iopub.execute_input": "2022-11-09T00:43:22.659356Z",
     "iopub.status.busy": "2022-11-09T00:43:22.650573Z",
     "iopub.status.idle": "2022-11-09T00:45:25.766285Z",
     "shell.execute_reply": "2022-11-09T00:45:25.767256Z"
    },
    "papermill": {
     "duration": 123.158517,
     "end_time": "2022-11-09T00:45:25.767450",
     "exception": false,
     "start_time": "2022-11-09T00:43:22.608933",
     "status": "completed"
    },
    "tags": []
   },
   "outputs": [
    {
     "name": "stdout",
     "output_type": "stream",
     "text": [
      "Epoch 0, Loss 0.2484\n",
      "Training Accuracy: 0.4892, Testing Accuracy: 0.4914\n",
      "\n"
     ]
    },
    {
     "name": "stdout",
     "output_type": "stream",
     "text": [
      "Epoch 10, Loss 0.2174\n",
      "Training Accuracy: 0.8040, Testing Accuracy: 0.8266\n",
      "\n"
     ]
    },
    {
     "name": "stdout",
     "output_type": "stream",
     "text": [
      "Epoch 20, Loss 0.1331\n",
      "Training Accuracy: 0.8946, Testing Accuracy: 0.9052\n",
      "\n"
     ]
    },
    {
     "name": "stdout",
     "output_type": "stream",
     "text": [
      "Epoch 30, Loss 0.0739\n",
      "Training Accuracy: 0.9266, Testing Accuracy: 0.9360\n",
      "\n"
     ]
    },
    {
     "name": "stdout",
     "output_type": "stream",
     "text": [
      "Epoch 40, Loss 0.0538\n",
      "Training Accuracy: 0.9417, Testing Accuracy: 0.9501\n",
      "\n"
     ]
    },
    {
     "name": "stdout",
     "output_type": "stream",
     "text": [
      "Epoch 50, Loss 0.0448\n",
      "Training Accuracy: 0.9503, Testing Accuracy: 0.9577\n",
      "\n"
     ]
    },
    {
     "name": "stdout",
     "output_type": "stream",
     "text": [
      "Epoch 60, Loss 0.0396\n",
      "Training Accuracy: 0.9552, Testing Accuracy: 0.9617\n",
      "\n"
     ]
    },
    {
     "name": "stdout",
     "output_type": "stream",
     "text": [
      "Epoch 70, Loss 0.0362\n",
      "Training Accuracy: 0.9585, Testing Accuracy: 0.9647\n",
      "\n"
     ]
    },
    {
     "name": "stdout",
     "output_type": "stream",
     "text": [
      "Epoch 80, Loss 0.0338\n",
      "Training Accuracy: 0.9612, Testing Accuracy: 0.9672\n",
      "\n"
     ]
    },
    {
     "name": "stdout",
     "output_type": "stream",
     "text": [
      "Epoch 90, Loss 0.0319\n",
      "Training Accuracy: 0.9634, Testing Accuracy: 0.9682\n",
      "\n"
     ]
    },
    {
     "name": "stdout",
     "output_type": "stream",
     "text": [
      "Epoch 100, Loss 0.0304\n",
      "Training Accuracy: 0.9651, Testing Accuracy: 0.9682\n",
      "\n"
     ]
    },
    {
     "name": "stdout",
     "output_type": "stream",
     "text": [
      "Epoch 110, Loss 0.0291\n",
      "Training Accuracy: 0.9669, Testing Accuracy: 0.9688\n",
      "\n"
     ]
    },
    {
     "name": "stdout",
     "output_type": "stream",
     "text": [
      "Epoch 120, Loss 0.0281\n",
      "Training Accuracy: 0.9682, Testing Accuracy: 0.9693\n",
      "\n"
     ]
    },
    {
     "name": "stdout",
     "output_type": "stream",
     "text": [
      "Epoch 130, Loss 0.0272\n",
      "Training Accuracy: 0.9692, Testing Accuracy: 0.9698\n",
      "\n"
     ]
    },
    {
     "name": "stdout",
     "output_type": "stream",
     "text": [
      "Epoch 140, Loss 0.0264\n",
      "Training Accuracy: 0.9705, Testing Accuracy: 0.9708\n",
      "\n"
     ]
    },
    {
     "name": "stdout",
     "output_type": "stream",
     "text": [
      "Epoch 150, Loss 0.0256\n",
      "Training Accuracy: 0.9711, Testing Accuracy: 0.9713\n",
      "\n"
     ]
    },
    {
     "name": "stdout",
     "output_type": "stream",
     "text": [
      "Epoch 160, Loss 0.025\n",
      "Training Accuracy: 0.9719, Testing Accuracy: 0.9703\n",
      "\n"
     ]
    },
    {
     "name": "stdout",
     "output_type": "stream",
     "text": [
      "Epoch 170, Loss 0.0244\n",
      "Training Accuracy: 0.9725, Testing Accuracy: 0.9703\n",
      "\n"
     ]
    },
    {
     "name": "stdout",
     "output_type": "stream",
     "text": [
      "Epoch 180, Loss 0.0238\n",
      "Training Accuracy: 0.9731, Testing Accuracy: 0.9703\n",
      "\n"
     ]
    },
    {
     "name": "stdout",
     "output_type": "stream",
     "text": [
      "Epoch 190, Loss 0.0233\n",
      "Training Accuracy: 0.9735, Testing Accuracy: 0.9703\n",
      "\n"
     ]
    },
    {
     "name": "stdout",
     "output_type": "stream",
     "text": [
      "Epoch 200, Loss 0.0229\n",
      "Training Accuracy: 0.9742, Testing Accuracy: 0.9708\n",
      "\n"
     ]
    },
    {
     "name": "stdout",
     "output_type": "stream",
     "text": [
      "Epoch 210, Loss 0.0224\n",
      "Training Accuracy: 0.9746, Testing Accuracy: 0.9703\n",
      "\n"
     ]
    },
    {
     "name": "stdout",
     "output_type": "stream",
     "text": [
      "Epoch 220, Loss 0.022\n",
      "Training Accuracy: 0.9749, Testing Accuracy: 0.9703\n",
      "\n"
     ]
    },
    {
     "name": "stdout",
     "output_type": "stream",
     "text": [
      "Epoch 230, Loss 0.0216\n",
      "Training Accuracy: 0.9751, Testing Accuracy: 0.9708\n",
      "\n"
     ]
    },
    {
     "name": "stdout",
     "output_type": "stream",
     "text": [
      "Epoch 240, Loss 0.0212\n",
      "Training Accuracy: 0.9756, Testing Accuracy: 0.9708\n",
      "\n"
     ]
    },
    {
     "data": {
      "text/plain": [
       "0.005564851140122118"
      ]
     },
     "execution_count": 22,
     "metadata": {},
     "output_type": "execute_result"
    }
   ],
   "source": [
    "nn_learner.train_loop(dl)"
   ]
  },
  {
   "cell_type": "code",
   "execution_count": 23,
   "id": "e0163366",
   "metadata": {
    "execution": {
     "iopub.execute_input": "2022-11-09T00:45:25.863254Z",
     "iopub.status.busy": "2022-11-09T00:45:25.862473Z",
     "iopub.status.idle": "2022-11-09T00:45:43.716382Z",
     "shell.execute_reply": "2022-11-09T00:45:43.717408Z"
    },
    "papermill": {
     "duration": 17.906839,
     "end_time": "2022-11-09T00:45:43.717617",
     "exception": false,
     "start_time": "2022-11-09T00:45:25.810778",
     "status": "completed"
    },
    "tags": []
   },
   "outputs": [
    {
     "name": "stdout",
     "output_type": "stream",
     "text": [
      "Epoch 0, Loss 0.2249\n",
      "Training Accuracy: 0.7702, Testing Accuracy: 0.7843\n",
      "\n"
     ]
    },
    {
     "name": "stdout",
     "output_type": "stream",
     "text": [
      "Epoch 10, Loss 0.0984\n",
      "Training Accuracy: 0.9175, Testing Accuracy: 0.9279\n",
      "\n"
     ]
    },
    {
     "name": "stdout",
     "output_type": "stream",
     "text": [
      "Epoch 20, Loss 0.077\n",
      "Training Accuracy: 0.9301, Testing Accuracy: 0.9390\n",
      "\n"
     ]
    },
    {
     "name": "stdout",
     "output_type": "stream",
     "text": [
      "Epoch 30, Loss 0.067\n",
      "Training Accuracy: 0.9371, Testing Accuracy: 0.9486\n",
      "\n"
     ]
    },
    {
     "name": "stdout",
     "output_type": "stream",
     "text": [
      "Epoch 40, Loss 0.0609\n",
      "Training Accuracy: 0.9417, Testing Accuracy: 0.9516\n",
      "\n"
     ]
    },
    {
     "name": "stdout",
     "output_type": "stream",
     "text": [
      "Epoch 50, Loss 0.0567\n",
      "Training Accuracy: 0.9446, Testing Accuracy: 0.9531\n",
      "\n"
     ]
    },
    {
     "name": "stdout",
     "output_type": "stream",
     "text": [
      "Epoch 60, Loss 0.0536\n",
      "Training Accuracy: 0.9464, Testing Accuracy: 0.9561\n",
      "\n"
     ]
    },
    {
     "name": "stdout",
     "output_type": "stream",
     "text": [
      "Epoch 70, Loss 0.0511\n",
      "Training Accuracy: 0.9482, Testing Accuracy: 0.9577\n",
      "\n"
     ]
    },
    {
     "name": "stdout",
     "output_type": "stream",
     "text": [
      "Epoch 80, Loss 0.0492\n",
      "Training Accuracy: 0.9493, Testing Accuracy: 0.9587\n",
      "\n"
     ]
    },
    {
     "name": "stdout",
     "output_type": "stream",
     "text": [
      "Epoch 90, Loss 0.0476\n",
      "Training Accuracy: 0.9502, Testing Accuracy: 0.9587\n",
      "\n"
     ]
    },
    {
     "name": "stdout",
     "output_type": "stream",
     "text": [
      "Epoch 100, Loss 0.0462\n",
      "Training Accuracy: 0.9517, Testing Accuracy: 0.9597\n",
      "\n"
     ]
    },
    {
     "name": "stdout",
     "output_type": "stream",
     "text": [
      "Epoch 110, Loss 0.045\n",
      "Training Accuracy: 0.9533, Testing Accuracy: 0.9597\n",
      "\n"
     ]
    },
    {
     "name": "stdout",
     "output_type": "stream",
     "text": [
      "Epoch 120, Loss 0.044\n",
      "Training Accuracy: 0.9543, Testing Accuracy: 0.9612\n",
      "\n"
     ]
    },
    {
     "name": "stdout",
     "output_type": "stream",
     "text": [
      "Epoch 130, Loss 0.0431\n",
      "Training Accuracy: 0.9543, Testing Accuracy: 0.9632\n",
      "\n"
     ]
    },
    {
     "name": "stdout",
     "output_type": "stream",
     "text": [
      "Epoch 140, Loss 0.0422\n",
      "Training Accuracy: 0.9545, Testing Accuracy: 0.9632\n",
      "\n"
     ]
    },
    {
     "name": "stdout",
     "output_type": "stream",
     "text": [
      "Epoch 150, Loss 0.0415\n",
      "Training Accuracy: 0.9553, Testing Accuracy: 0.9632\n",
      "\n"
     ]
    },
    {
     "name": "stdout",
     "output_type": "stream",
     "text": [
      "Epoch 160, Loss 0.0408\n",
      "Training Accuracy: 0.9561, Testing Accuracy: 0.9632\n",
      "\n"
     ]
    },
    {
     "name": "stdout",
     "output_type": "stream",
     "text": [
      "Epoch 170, Loss 0.0402\n",
      "Training Accuracy: 0.9567, Testing Accuracy: 0.9632\n",
      "\n"
     ]
    },
    {
     "name": "stdout",
     "output_type": "stream",
     "text": [
      "Epoch 180, Loss 0.0397\n",
      "Training Accuracy: 0.9573, Testing Accuracy: 0.9632\n",
      "\n"
     ]
    },
    {
     "name": "stdout",
     "output_type": "stream",
     "text": [
      "Epoch 190, Loss 0.0392\n",
      "Training Accuracy: 0.9580, Testing Accuracy: 0.9647\n",
      "\n"
     ]
    },
    {
     "name": "stdout",
     "output_type": "stream",
     "text": [
      "Epoch 200, Loss 0.0387\n",
      "Training Accuracy: 0.9585, Testing Accuracy: 0.9642\n",
      "\n"
     ]
    },
    {
     "name": "stdout",
     "output_type": "stream",
     "text": [
      "Epoch 210, Loss 0.0383\n",
      "Training Accuracy: 0.9589, Testing Accuracy: 0.9642\n",
      "\n"
     ]
    },
    {
     "name": "stdout",
     "output_type": "stream",
     "text": [
      "Epoch 220, Loss 0.0378\n",
      "Training Accuracy: 0.9596, Testing Accuracy: 0.9647\n",
      "\n"
     ]
    },
    {
     "name": "stdout",
     "output_type": "stream",
     "text": [
      "Epoch 230, Loss 0.0375\n",
      "Training Accuracy: 0.9599, Testing Accuracy: 0.9652\n",
      "\n"
     ]
    },
    {
     "name": "stdout",
     "output_type": "stream",
     "text": [
      "Epoch 240, Loss 0.0371\n",
      "Training Accuracy: 0.9602, Testing Accuracy: 0.9657\n",
      "\n"
     ]
    },
    {
     "data": {
      "text/plain": [
       "0.03917288927768925"
      ]
     },
     "execution_count": 23,
     "metadata": {},
     "output_type": "execute_result"
    }
   ],
   "source": [
    "lr_learner.train_loop(dl)"
   ]
  },
  {
   "cell_type": "code",
   "execution_count": 24,
   "id": "ca410940",
   "metadata": {
    "execution": {
     "iopub.execute_input": "2022-11-09T00:45:43.824168Z",
     "iopub.status.busy": "2022-11-09T00:45:43.823475Z",
     "iopub.status.idle": "2022-11-09T00:45:44.105810Z",
     "shell.execute_reply": "2022-11-09T00:45:44.105204Z"
    },
    "papermill": {
     "duration": 0.338959,
     "end_time": "2022-11-09T00:45:44.105951",
     "exception": false,
     "start_time": "2022-11-09T00:45:43.766992",
     "status": "completed"
    },
    "tags": []
   },
   "outputs": [
    {
     "data": {
      "text/plain": [
       "<matplotlib.legend.Legend at 0x7f9179e475c0>"
      ]
     },
     "execution_count": 24,
     "metadata": {},
     "output_type": "execute_result"
    },
    {
     "data": {
      "image/png": "[encoded data removed]",
      "text/plain": [
       "<Figure size 1080x720 with 1 Axes>"
      ]
     },
     "metadata": {
      "needs_background": "light"
     },
     "output_type": "display_data"
    }
   ],
   "source": [
    "#comparing the results of NN and LR\n",
    "plt.figure(figsize=(15,10))\n",
    "\n",
    "# Neural Network plots\n",
    "plt.plot(acc_nn.accuracies, 'r-', label = \"Training Accuracies - NN\")\n",
    "plt.plot(acc_nn.test_accuracies, 'g-', label = \"Testing Accuracies - NN\")\n",
    "\n",
    "# Logistic Regression plots\n",
    "plt.plot(acc_lr.accuracies, 'k-', label = \"Training Accuracies - LR\")\n",
    "plt.plot(acc_lr.test_accuracies, 'b-', label = \"Testing Accuracies - LR\")\n",
    "plt.legend()"
   ]
  },
  {
   "cell_type": "markdown",
   "id": "80dfb35c",
   "metadata": {
    "papermill": {
     "duration": 0.050229,
     "end_time": "2022-11-09T00:45:44.212709",
     "exception": false,
     "start_time": "2022-11-09T00:45:44.162480",
     "status": "completed"
    },
    "tags": []
   },
   "source": [
    "#### Plotting the outputs of this layer of the NN.\n"
   ]
  },
  {
   "cell_type": "code",
   "execution_count": 25,
   "id": "45eb2ff5",
   "metadata": {
    "execution": {
     "iopub.execute_input": "2022-11-09T00:45:44.319004Z",
     "iopub.status.busy": "2022-11-09T00:45:44.318284Z",
     "iopub.status.idle": "2022-11-09T00:45:44.343491Z",
     "shell.execute_reply": "2022-11-09T00:45:44.344024Z"
    },
    "papermill": {
     "duration": 0.081909,
     "end_time": "2022-11-09T00:45:44.344194",
     "exception": false,
     "start_time": "2022-11-09T00:45:44.262285",
     "status": "completed"
    },
    "tags": []
   },
   "outputs": [],
   "source": [
    "new_model = Model(layers[:-2])\n",
    "testing_plot = new_model(testing_data_x)"
   ]
  },
  {
   "cell_type": "code",
   "execution_count": 26,
   "id": "4c0a5485",
   "metadata": {
    "execution": {
     "iopub.execute_input": "2022-11-09T00:45:44.454222Z",
     "iopub.status.busy": "2022-11-09T00:45:44.453449Z",
     "iopub.status.idle": "2022-11-09T00:45:44.712377Z",
     "shell.execute_reply": "2022-11-09T00:45:44.711722Z"
    },
    "papermill": {
     "duration": 0.315127,
     "end_time": "2022-11-09T00:45:44.712532",
     "exception": false,
     "start_time": "2022-11-09T00:45:44.397405",
     "status": "completed"
    },
    "tags": []
   },
   "outputs": [
    {
     "data": {
      "text/plain": [
       "Text(0.5, 1.0, 'Outputs')"
      ]
     },
     "execution_count": 26,
     "metadata": {},
     "output_type": "execute_result"
    },
    {
     "data": {
      "image/png": "[encoded data removed]",
      "text/plain": [
       "<Figure size 576x504 with 1 Axes>"
      ]
     },
     "metadata": {
      "needs_background": "light"
     },
     "output_type": "display_data"
    }
   ],
   "source": [
    "# Plotting the scatter plot of points and color coding by class\n",
    "plt.figure(figsize=(8,7))\n",
    "plt.scatter(testing_plot[:,0], testing_plot[:,1], alpha = 0.1, c = y_test.ravel());\n",
    "plt.title('Outputs')"
   ]
  },
  {
   "cell_type": "markdown",
   "id": "a74fcf8f",
   "metadata": {
    "papermill": {
     "duration": 0.076175,
     "end_time": "2022-11-09T00:45:44.840087",
     "exception": false,
     "start_time": "2022-11-09T00:45:44.763912",
     "status": "completed"
    },
    "tags": []
   },
   "source": [
    "Probability contours"
   ]
  },
  {
   "cell_type": "code",
   "execution_count": 27,
   "id": "d0afc8e3",
   "metadata": {
    "execution": {
     "iopub.execute_input": "2022-11-09T00:45:44.952404Z",
     "iopub.status.busy": "2022-11-09T00:45:44.951633Z",
     "iopub.status.idle": "2022-11-09T00:45:44.965710Z",
     "shell.execute_reply": "2022-11-09T00:45:44.965100Z"
    },
    "papermill": {
     "duration": 0.071832,
     "end_time": "2022-11-09T00:45:44.965850",
     "exception": false,
     "start_time": "2022-11-09T00:45:44.894018",
     "status": "completed"
    },
    "tags": []
   },
   "outputs": [],
   "source": [
    "model_prob = Model(layers[-2:]) "
   ]
  },
  {
   "cell_type": "code",
   "execution_count": 28,
   "id": "9b96e238",
   "metadata": {
    "execution": {
     "iopub.execute_input": "2022-11-09T00:45:45.082783Z",
     "iopub.status.busy": "2022-11-09T00:45:45.082042Z",
     "iopub.status.idle": "2022-11-09T00:45:45.096788Z",
     "shell.execute_reply": "2022-11-09T00:45:45.097334Z"
    },
    "papermill": {
     "duration": 0.077006,
     "end_time": "2022-11-09T00:45:45.097490",
     "exception": false,
     "start_time": "2022-11-09T00:45:45.020484",
     "status": "completed"
    },
    "tags": []
   },
   "outputs": [],
   "source": [
    "#creating the x and y ranges according to the above generated plot.\n",
    "x_range = np.linspace(-4, 1, 100) \n",
    "y_range = np.linspace(-6, 6, 100) \n",
    "x_grid, y_grid = np.meshgrid(x_range, y_range) # x_grid and y_grig are of size 100 X 100\n",
    "\n",
    "# converting x_grid and y_grid to continuous arrays\n",
    "x_gridflat = np.ravel(x_grid)\n",
    "y_gridflat = np.ravel(y_grid)\n",
    "\n",
    "# The last layer of the current model takes two columns as input. Hence transpose of np.vstack() is required.\n",
    "X = np.vstack((x_gridflat, y_gridflat)).T\n",
    "\n",
    "prob_contour = model_prob(X).reshape(100,100) "
   ]
  },
  {
   "cell_type": "code",
   "execution_count": 29,
   "id": "da72499a",
   "metadata": {
    "execution": {
     "iopub.execute_input": "2022-11-09T00:45:45.210978Z",
     "iopub.status.busy": "2022-11-09T00:45:45.210195Z",
     "iopub.status.idle": "2022-11-09T00:45:45.519812Z",
     "shell.execute_reply": "2022-11-09T00:45:45.519206Z"
    },
    "papermill": {
     "duration": 0.369311,
     "end_time": "2022-11-09T00:45:45.519946",
     "exception": false,
     "start_time": "2022-11-09T00:45:45.150635",
     "status": "completed"
    },
    "tags": []
   },
   "outputs": [
    {
     "data": {
      "image/png": "[encoded data removed]",
      "text/plain": [
       "<Figure size 720x648 with 1 Axes>"
      ]
     },
     "metadata": {
      "needs_background": "light"
     },
     "output_type": "display_data"
    }
   ],
   "source": [
    "plt.figure(figsize=(10,9))\n",
    "plt.scatter(testing_plot[:,0], testing_plot[:,1], alpha = 0.1, c = y_test.ravel())\n",
    "contours = plt.contour(x_grid,y_grid,prob_contour)\n",
    "plt.title('Probability Contours')\n",
    "plt.clabel(contours, inline = True );"
   ]
  },
  {
   "cell_type": "code",
   "execution_count": null,
   "id": "e81b4ac7",
   "metadata": {
    "papermill": {
     "duration": 0.053823,
     "end_time": "2022-11-09T00:45:45.629786",
     "exception": false,
     "start_time": "2022-11-09T00:45:45.575963",
     "status": "completed"
    },
    "tags": []
   },
   "outputs": [],
   "source": []
  }
 ],
 "metadata": {
  "kernelspec": {
   "display_name": "Python 3",
   "language": "python",
   "name": "python3"
  },
  "language_info": {
   "codemirror_mode": {
    "name": "ipython",
    "version": 3
   },
   "file_extension": ".py",
   "mimetype": "text/x-python",
   "name": "python",
   "nbconvert_exporter": "python",
   "pygments_lexer": "ipython3",
   "version": "3.6.15"
  },
  "papermill": {
   "default_parameters": {},
   "duration": 150.576751,
   "end_time": "2022-11-09T00:45:46.102566",
   "environment_variables": {},
   "exception": null,
   "input_path": "2020-08-11-part2.ipynb",
   "output_path": "2020-08-11-part2.ipynb",
   "parameters": {},
   "start_time": "2022-11-09T00:43:15.525815",
   "version": "2.3.3"
  }
 },
 "nbformat": 4,
 "nbformat_minor": 5
}