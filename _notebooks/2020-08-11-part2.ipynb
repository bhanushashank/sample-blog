{
 "cells": [
  {
   "cell_type": "markdown",
   "id": "98380cd3",
   "metadata": {
    "papermill": {
     "duration": 0.028711,
     "end_time": "2022-01-01T20:08:05.391802",
     "exception": false,
     "start_time": "2022-01-01T20:08:05.363091",
     "status": "completed"
    },
    "tags": []
   },
   "source": [
    "# Distinguish Your Own Digits (DYOD)"
   ]
  },
  {
   "cell_type": "markdown",
   "id": "ef31240d",
   "metadata": {
    "papermill": {
     "duration": 0.023967,
     "end_time": "2022-01-01T20:08:05.440509",
     "exception": false,
     "start_time": "2022-01-01T20:08:05.416542",
     "status": "completed"
    },
    "tags": []
   },
   "source": [
    "You are going to write a classifier that distinguishes between the number 3 and number 8."
   ]
  },
  {
   "cell_type": "code",
   "execution_count": 1,
   "id": "b15c8646",
   "metadata": {
    "execution": {
     "iopub.execute_input": "2022-01-01T20:08:05.500160Z",
     "iopub.status.busy": "2022-01-01T20:08:05.499625Z",
     "iopub.status.idle": "2022-01-01T20:08:05.510723Z",
     "shell.execute_reply": "2022-01-01T20:08:05.510261Z"
    },
    "papermill": {
     "duration": 0.04489,
     "end_time": "2022-01-01T20:08:05.510850",
     "exception": false,
     "start_time": "2022-01-01T20:08:05.465960",
     "status": "completed"
    },
    "tags": []
   },
   "outputs": [],
   "source": [
    "%load_ext autoreload\n",
    "%autoreload 2"
   ]
  },
  {
   "cell_type": "code",
   "execution_count": 2,
   "id": "22ef38dc",
   "metadata": {
    "execution": {
     "iopub.execute_input": "2022-01-01T20:08:05.563684Z",
     "iopub.status.busy": "2022-01-01T20:08:05.563172Z",
     "iopub.status.idle": "2022-01-01T20:08:06.183141Z",
     "shell.execute_reply": "2022-01-01T20:08:06.182296Z"
    },
    "papermill": {
     "duration": 0.648231,
     "end_time": "2022-01-01T20:08:06.183282",
     "exception": false,
     "start_time": "2022-01-01T20:08:05.535051",
     "status": "completed"
    },
    "tags": []
   },
   "outputs": [],
   "source": [
    "%matplotlib inline\n",
    "import numpy as np\n",
    "import matplotlib.pyplot as plt\n",
    "import pandas as pd"
   ]
  },
  {
   "cell_type": "markdown",
   "id": "ba036198",
   "metadata": {
    "papermill": {
     "duration": 0.024143,
     "end_time": "2022-01-01T20:08:06.231749",
     "exception": false,
     "start_time": "2022-01-01T20:08:06.207606",
     "status": "completed"
    },
    "tags": []
   },
   "source": [
    "From the command line run `pip install mnist`. This is a library that will help you bring down the mnist dataset. If you run this from a notebook, you need to put  `!pip install mnist` in a cell by itself."
   ]
  },
  {
   "cell_type": "code",
   "execution_count": 3,
   "id": "bb6ad8a1",
   "metadata": {
    "execution": {
     "iopub.execute_input": "2022-01-01T20:08:06.284210Z",
     "iopub.status.busy": "2022-01-01T20:08:06.283705Z",
     "iopub.status.idle": "2022-01-01T20:08:08.041335Z",
     "shell.execute_reply": "2022-01-01T20:08:08.041815Z"
    },
    "papermill": {
     "duration": 1.785947,
     "end_time": "2022-01-01T20:08:08.041985",
     "exception": false,
     "start_time": "2022-01-01T20:08:06.256038",
     "status": "completed"
    },
    "tags": []
   },
   "outputs": [
    {
     "name": "stdout",
     "output_type": "stream",
     "text": [
      "Collecting mnist\r\n"
     ]
    },
    {
     "name": "stdout",
     "output_type": "stream",
     "text": [
      "  Downloading mnist-0.2.2-py2.py3-none-any.whl (3.5 kB)\r\n"
     ]
    },
    {
     "name": "stdout",
     "output_type": "stream",
     "text": [
      "Requirement already satisfied: numpy in /opt/hostedtoolcache/Python/3.6.15/x64/lib/python3.6/site-packages (from mnist) (1.19.5)\r\n"
     ]
    },
    {
     "name": "stdout",
     "output_type": "stream",
     "text": [
      "Installing collected packages: mnist\r\n",
      "Successfully installed mnist-0.2.2\r\n"
     ]
    }
   ],
   "source": [
    "!pip install mnist"
   ]
  },
  {
   "cell_type": "markdown",
   "id": "69df9c9a",
   "metadata": {
    "papermill": {
     "duration": 0.025379,
     "end_time": "2022-01-01T20:08:08.093291",
     "exception": false,
     "start_time": "2022-01-01T20:08:08.067912",
     "status": "completed"
    },
    "tags": []
   },
   "source": [
    "## Preparing the Data"
   ]
  },
  {
   "cell_type": "code",
   "execution_count": 4,
   "id": "7f69d806",
   "metadata": {
    "execution": {
     "iopub.execute_input": "2022-01-01T20:08:08.148520Z",
     "iopub.status.busy": "2022-01-01T20:08:08.147899Z",
     "iopub.status.idle": "2022-01-01T20:08:08.164175Z",
     "shell.execute_reply": "2022-01-01T20:08:08.163741Z"
    },
    "papermill": {
     "duration": 0.045387,
     "end_time": "2022-01-01T20:08:08.164301",
     "exception": false,
     "start_time": "2022-01-01T20:08:08.118914",
     "status": "completed"
    },
    "tags": []
   },
   "outputs": [],
   "source": [
    "import mnist"
   ]
  },
  {
   "cell_type": "code",
   "execution_count": 5,
   "id": "a411e44f",
   "metadata": {
    "execution": {
     "iopub.execute_input": "2022-01-01T20:08:08.219187Z",
     "iopub.status.busy": "2022-01-01T20:08:08.218667Z",
     "iopub.status.idle": "2022-01-01T20:08:08.811215Z",
     "shell.execute_reply": "2022-01-01T20:08:08.810695Z"
    },
    "papermill": {
     "duration": 0.621529,
     "end_time": "2022-01-01T20:08:08.811358",
     "exception": false,
     "start_time": "2022-01-01T20:08:08.189829",
     "status": "completed"
    },
    "tags": []
   },
   "outputs": [],
   "source": [
    "train_images = mnist.train_images()\n",
    "train_labels = mnist.train_labels()"
   ]
  },
  {
   "cell_type": "code",
   "execution_count": 6,
   "id": "dceab3a5",
   "metadata": {
    "execution": {
     "iopub.execute_input": "2022-01-01T20:08:08.867347Z",
     "iopub.status.busy": "2022-01-01T20:08:08.866836Z",
     "iopub.status.idle": "2022-01-01T20:08:08.880424Z",
     "shell.execute_reply": "2022-01-01T20:08:08.880808Z"
    },
    "papermill": {
     "duration": 0.043204,
     "end_time": "2022-01-01T20:08:08.880941",
     "exception": false,
     "start_time": "2022-01-01T20:08:08.837737",
     "status": "completed"
    },
    "tags": []
   },
   "outputs": [
    {
     "data": {
      "text/plain": [
       "((60000, 28, 28), (60000,))"
      ]
     },
     "execution_count": 6,
     "metadata": {},
     "output_type": "execute_result"
    }
   ],
   "source": [
    "train_images.shape, train_labels.shape"
   ]
  },
  {
   "cell_type": "code",
   "execution_count": 7,
   "id": "f50dc2bb",
   "metadata": {
    "execution": {
     "iopub.execute_input": "2022-01-01T20:08:08.935220Z",
     "iopub.status.busy": "2022-01-01T20:08:08.934712Z",
     "iopub.status.idle": "2022-01-01T20:08:09.173902Z",
     "shell.execute_reply": "2022-01-01T20:08:09.173373Z"
    },
    "papermill": {
     "duration": 0.26772,
     "end_time": "2022-01-01T20:08:09.174042",
     "exception": false,
     "start_time": "2022-01-01T20:08:08.906322",
     "status": "completed"
    },
    "tags": []
   },
   "outputs": [],
   "source": [
    "test_images = mnist.test_images()\n",
    "test_labels = mnist.test_labels()"
   ]
  },
  {
   "cell_type": "code",
   "execution_count": 8,
   "id": "fc38cf1b",
   "metadata": {
    "execution": {
     "iopub.execute_input": "2022-01-01T20:08:09.233261Z",
     "iopub.status.busy": "2022-01-01T20:08:09.232659Z",
     "iopub.status.idle": "2022-01-01T20:08:09.245147Z",
     "shell.execute_reply": "2022-01-01T20:08:09.245559Z"
    },
    "papermill": {
     "duration": 0.045676,
     "end_time": "2022-01-01T20:08:09.245694",
     "exception": false,
     "start_time": "2022-01-01T20:08:09.200018",
     "status": "completed"
    },
    "tags": []
   },
   "outputs": [
    {
     "data": {
      "text/plain": [
       "((10000, 28, 28), (10000,))"
      ]
     },
     "execution_count": 8,
     "metadata": {},
     "output_type": "execute_result"
    }
   ],
   "source": [
    "test_images.shape, test_labels.shape"
   ]
  },
  {
   "cell_type": "code",
   "execution_count": 9,
   "id": "f9ed8fe0",
   "metadata": {
    "execution": {
     "iopub.execute_input": "2022-01-01T20:08:09.300826Z",
     "iopub.status.busy": "2022-01-01T20:08:09.300322Z",
     "iopub.status.idle": "2022-01-01T20:08:09.435683Z",
     "shell.execute_reply": "2022-01-01T20:08:09.436152Z"
    },
    "papermill": {
     "duration": 0.164869,
     "end_time": "2022-01-01T20:08:09.436304",
     "exception": false,
     "start_time": "2022-01-01T20:08:09.271435",
     "status": "completed"
    },
    "tags": []
   },
   "outputs": [
    {
     "name": "stdout",
     "output_type": "stream",
     "text": [
      "2\n"
     ]
    },
    {
     "data": {
      "text/plain": [
       "<matplotlib.image.AxesImage at 0x7f8183a08390>"
      ]
     },
     "execution_count": 9,
     "metadata": {},
     "output_type": "execute_result"
    },
    {
     "data": {
      "image/png": "[encoded data removed]",
      "text/plain": [
       "<Figure size 432x288 with 1 Axes>"
      ]
     },
     "metadata": {
      "needs_background": "light"
     },
     "output_type": "display_data"
    }
   ],
   "source": [
    "image_index = 7776 # You may select anything up to 60,000\n",
    "print(train_labels[image_index]) \n",
    "plt.imshow(train_images[image_index], cmap='Greys')"
   ]
  },
  {
   "cell_type": "markdown",
   "id": "a8d2388d",
   "metadata": {
    "papermill": {
     "duration": 0.027144,
     "end_time": "2022-01-01T20:08:09.490985",
     "exception": false,
     "start_time": "2022-01-01T20:08:09.463841",
     "status": "completed"
    },
    "tags": []
   },
   "source": [
    "## Filter data to get 3 and 8 out"
   ]
  },
  {
   "cell_type": "code",
   "execution_count": 10,
   "id": "776f7fc7",
   "metadata": {
    "execution": {
     "iopub.execute_input": "2022-01-01T20:08:09.563497Z",
     "iopub.status.busy": "2022-01-01T20:08:09.562972Z",
     "iopub.status.idle": "2022-01-01T20:08:09.572718Z",
     "shell.execute_reply": "2022-01-01T20:08:09.572218Z"
    },
    "papermill": {
     "duration": 0.055094,
     "end_time": "2022-01-01T20:08:09.572830",
     "exception": false,
     "start_time": "2022-01-01T20:08:09.517736",
     "status": "completed"
    },
    "tags": []
   },
   "outputs": [],
   "source": [
    "train_filter = np.where((train_labels == 3 ) | (train_labels == 8))\n",
    "test_filter = np.where((test_labels == 3) | (test_labels == 8))\n",
    "X_train, y_train = train_images[train_filter], train_labels[train_filter]\n",
    "X_test, y_test = test_images[test_filter], test_labels[test_filter]"
   ]
  },
  {
   "cell_type": "markdown",
   "id": "948f0b7e",
   "metadata": {
    "papermill": {
     "duration": 0.026981,
     "end_time": "2022-01-01T20:08:09.627005",
     "exception": false,
     "start_time": "2022-01-01T20:08:09.600024",
     "status": "completed"
    },
    "tags": []
   },
   "source": [
    "We normalize the pizel values in the 0 to 1 range"
   ]
  },
  {
   "cell_type": "code",
   "execution_count": 11,
   "id": "ee4c2166",
   "metadata": {
    "execution": {
     "iopub.execute_input": "2022-01-01T20:08:09.688480Z",
     "iopub.status.busy": "2022-01-01T20:08:09.682905Z",
     "iopub.status.idle": "2022-01-01T20:08:09.730231Z",
     "shell.execute_reply": "2022-01-01T20:08:09.729692Z"
    },
    "papermill": {
     "duration": 0.076882,
     "end_time": "2022-01-01T20:08:09.730372",
     "exception": false,
     "start_time": "2022-01-01T20:08:09.653490",
     "status": "completed"
    },
    "tags": []
   },
   "outputs": [],
   "source": [
    "X_train = X_train/255.\n",
    "X_test = X_test/255."
   ]
  },
  {
   "cell_type": "markdown",
   "id": "ddcf4fab",
   "metadata": {
    "papermill": {
     "duration": 0.027085,
     "end_time": "2022-01-01T20:08:09.784887",
     "exception": false,
     "start_time": "2022-01-01T20:08:09.757802",
     "status": "completed"
    },
    "tags": []
   },
   "source": [
    "And setup the labels as 1 (when the digit is 3) and 0 (when the digit is 8)"
   ]
  },
  {
   "cell_type": "code",
   "execution_count": 12,
   "id": "7dc908f2",
   "metadata": {
    "execution": {
     "iopub.execute_input": "2022-01-01T20:08:09.841415Z",
     "iopub.status.busy": "2022-01-01T20:08:09.840900Z",
     "iopub.status.idle": "2022-01-01T20:08:09.852984Z",
     "shell.execute_reply": "2022-01-01T20:08:09.852578Z"
    },
    "papermill": {
     "duration": 0.041671,
     "end_time": "2022-01-01T20:08:09.853095",
     "exception": false,
     "start_time": "2022-01-01T20:08:09.811424",
     "status": "completed"
    },
    "tags": []
   },
   "outputs": [],
   "source": [
    "y_train = 1*(y_train==3)\n",
    "y_test = 1*(y_test==3)"
   ]
  },
  {
   "cell_type": "code",
   "execution_count": 13,
   "id": "01e4e969",
   "metadata": {
    "execution": {
     "iopub.execute_input": "2022-01-01T20:08:09.924561Z",
     "iopub.status.busy": "2022-01-01T20:08:09.922805Z",
     "iopub.status.idle": "2022-01-01T20:08:09.927609Z",
     "shell.execute_reply": "2022-01-01T20:08:09.927090Z"
    },
    "papermill": {
     "duration": 0.047949,
     "end_time": "2022-01-01T20:08:09.927717",
     "exception": false,
     "start_time": "2022-01-01T20:08:09.879768",
     "status": "completed"
    },
    "tags": []
   },
   "outputs": [
    {
     "data": {
      "text/plain": [
       "((11982, 28, 28), (1984, 28, 28))"
      ]
     },
     "execution_count": 13,
     "metadata": {},
     "output_type": "execute_result"
    }
   ],
   "source": [
    "X_train.shape, X_test.shape"
   ]
  },
  {
   "cell_type": "markdown",
   "id": "5ccf3f85",
   "metadata": {
    "papermill": {
     "duration": 0.026626,
     "end_time": "2022-01-01T20:08:09.981238",
     "exception": false,
     "start_time": "2022-01-01T20:08:09.954612",
     "status": "completed"
    },
    "tags": []
   },
   "source": [
    "We reshape the data to flatten the image pixels into a set of features or co-variates:"
   ]
  },
  {
   "cell_type": "code",
   "execution_count": 14,
   "id": "5286a4a3",
   "metadata": {
    "execution": {
     "iopub.execute_input": "2022-01-01T20:08:10.039344Z",
     "iopub.status.busy": "2022-01-01T20:08:10.038835Z",
     "iopub.status.idle": "2022-01-01T20:08:10.051525Z",
     "shell.execute_reply": "2022-01-01T20:08:10.051114Z"
    },
    "papermill": {
     "duration": 0.043402,
     "end_time": "2022-01-01T20:08:10.051639",
     "exception": false,
     "start_time": "2022-01-01T20:08:10.008237",
     "status": "completed"
    },
    "tags": []
   },
   "outputs": [
    {
     "data": {
      "text/plain": [
       "((11982, 784), (1984, 784))"
      ]
     },
     "execution_count": 14,
     "metadata": {},
     "output_type": "execute_result"
    }
   ],
   "source": [
    "X_train = X_train.reshape(X_train.shape[0], -1)\n",
    "X_test = X_test.reshape(X_test.shape[0], -1)\n",
    "X_train.shape, X_test.shape"
   ]
  },
  {
   "cell_type": "code",
   "execution_count": 15,
   "id": "73c5f88a",
   "metadata": {
    "execution": {
     "iopub.execute_input": "2022-01-01T20:08:10.110874Z",
     "iopub.status.busy": "2022-01-01T20:08:10.110333Z",
     "iopub.status.idle": "2022-01-01T20:08:10.127998Z",
     "shell.execute_reply": "2022-01-01T20:08:10.127583Z"
    },
    "papermill": {
     "duration": 0.049143,
     "end_time": "2022-01-01T20:08:10.128112",
     "exception": false,
     "start_time": "2022-01-01T20:08:10.078969",
     "status": "completed"
    },
    "tags": []
   },
   "outputs": [],
   "source": [
    "#Impoting functions from 'Kudzu'\n",
    "from kudzu.model import Model\n",
    "from kudzu.train import Learner\n",
    "from kudzu.optim import GD\n",
    "from kudzu.data import Data, Sampler,Dataloader\n",
    "\n",
    "from kudzu.callbacks import AccCallback\n",
    "from kudzu.callbacks import ClfCallback\n",
    "\n",
    "from kudzu.loss import MSE\n",
    "\n",
    "from kudzu.layer import Sigmoid,Relu\n",
    "from kudzu.layer import Affine"
   ]
  },
  {
   "cell_type": "markdown",
   "id": "bc01172a",
   "metadata": {
    "papermill": {
     "duration": 0.027031,
     "end_time": "2022-01-01T20:08:10.182483",
     "exception": false,
     "start_time": "2022-01-01T20:08:10.155452",
     "status": "completed"
    },
    "tags": []
   },
   "source": [
    "### Let us create a `Config` class, to store important parameters. \n",
    "This class essentially plays the role of a dictionary."
   ]
  },
  {
   "cell_type": "code",
   "execution_count": 16,
   "id": "978281aa",
   "metadata": {
    "execution": {
     "iopub.execute_input": "2022-01-01T20:08:10.240497Z",
     "iopub.status.busy": "2022-01-01T20:08:10.239980Z",
     "iopub.status.idle": "2022-01-01T20:08:10.251346Z",
     "shell.execute_reply": "2022-01-01T20:08:10.251782Z"
    },
    "papermill": {
     "duration": 0.042318,
     "end_time": "2022-01-01T20:08:10.251912",
     "exception": false,
     "start_time": "2022-01-01T20:08:10.209594",
     "status": "completed"
    },
    "tags": []
   },
   "outputs": [],
   "source": [
    "class Config:\n",
    "    pass\n",
    "config = Config()\n",
    "config.lr = 0.001\n",
    "config.num_epochs = 250\n",
    "config.bs = 50"
   ]
  },
  {
   "cell_type": "markdown",
   "id": "1385fa59",
   "metadata": {
    "papermill": {
     "duration": 0.027201,
     "end_time": "2022-01-01T20:08:10.306479",
     "exception": false,
     "start_time": "2022-01-01T20:08:10.279278",
     "status": "completed"
    },
    "tags": []
   },
   "source": [
    "### Running Models with the Training data\n",
    "Details about the network layers:\n",
    "- A first affine layer has 784 inputs and does 100 affine transforms. These are followed by a Relu\n",
    "- A second affine layer has 100 inputs from the 100 activations of the past layer, and does 100 affine transforms. These are followed by a Relu\n",
    "- A third affine layer has 100 activations and does 2 affine transformations to create an embedding for visualization. There is no non-linearity here.\n",
    "- A final \"logistic regression\" which has an affine transform from 2 inputs to 1 output, which is squeezed through a sigmoid.\n"
   ]
  },
  {
   "cell_type": "code",
   "execution_count": 17,
   "id": "2b9c66db",
   "metadata": {
    "execution": {
     "iopub.execute_input": "2022-01-01T20:08:10.365481Z",
     "iopub.status.busy": "2022-01-01T20:08:10.364960Z",
     "iopub.status.idle": "2022-01-01T20:08:10.376274Z",
     "shell.execute_reply": "2022-01-01T20:08:10.376684Z"
    },
    "papermill": {
     "duration": 0.043087,
     "end_time": "2022-01-01T20:08:10.376816",
     "exception": false,
     "start_time": "2022-01-01T20:08:10.333729",
     "status": "completed"
    },
    "tags": []
   },
   "outputs": [],
   "source": [
    "data = Data(X_train, y_train.reshape(-1,1))\n",
    "sampler = Sampler(data, config.bs, shuffle=True)\n",
    "\n",
    "dl = Dataloader(data, sampler)\n",
    "\n",
    "opt = GD(config.lr)\n",
    "loss = MSE()"
   ]
  },
  {
   "cell_type": "code",
   "execution_count": 18,
   "id": "b275e4c2",
   "metadata": {
    "execution": {
     "iopub.execute_input": "2022-01-01T20:08:10.435295Z",
     "iopub.status.busy": "2022-01-01T20:08:10.434784Z",
     "iopub.status.idle": "2022-01-01T20:08:10.446582Z",
     "shell.execute_reply": "2022-01-01T20:08:10.446163Z"
    },
    "papermill": {
     "duration": 0.042364,
     "end_time": "2022-01-01T20:08:10.446696",
     "exception": false,
     "start_time": "2022-01-01T20:08:10.404332",
     "status": "completed"
    },
    "tags": []
   },
   "outputs": [],
   "source": [
    "training_data_x = X_train\n",
    "testing_data_x = X_test\n",
    "training_data_y = y_train.reshape(-1,1)\n",
    "testing_data_y = y_test.reshape(-1,1)"
   ]
  },
  {
   "cell_type": "code",
   "execution_count": 19,
   "id": "76951160",
   "metadata": {
    "execution": {
     "iopub.execute_input": "2022-01-01T20:08:10.504819Z",
     "iopub.status.busy": "2022-01-01T20:08:10.504311Z",
     "iopub.status.idle": "2022-01-01T20:08:10.519870Z",
     "shell.execute_reply": "2022-01-01T20:08:10.519441Z"
    },
    "papermill": {
     "duration": 0.046167,
     "end_time": "2022-01-01T20:08:10.519978",
     "exception": false,
     "start_time": "2022-01-01T20:08:10.473811",
     "status": "completed"
    },
    "tags": []
   },
   "outputs": [
    {
     "name": "stdout",
     "output_type": "stream",
     "text": [
      "xavier\n",
      "xavier\n",
      "xavier\n",
      "xavier\n",
      "xavier\n"
     ]
    }
   ],
   "source": [
    "layers = [Affine(\"first\", 784, 100), Relu(\"first\"), Affine(\"second\", 100, 100), Relu(\"second\"), Affine(\"third\", 100, 2), Affine(\"last\", 2, 1), Sigmoid(\"last\")]\n",
    "model_nn = Model(layers)\n",
    "model_lr = Model([Affine(\"logits\", 784, 1), Sigmoid(\"sigmoid\")])"
   ]
  },
  {
   "cell_type": "code",
   "execution_count": 20,
   "id": "6eede77a",
   "metadata": {
    "execution": {
     "iopub.execute_input": "2022-01-01T20:08:10.583724Z",
     "iopub.status.busy": "2022-01-01T20:08:10.583219Z",
     "iopub.status.idle": "2022-01-01T20:08:10.592954Z",
     "shell.execute_reply": "2022-01-01T20:08:10.592548Z"
    },
    "papermill": {
     "duration": 0.045443,
     "end_time": "2022-01-01T20:08:10.593075",
     "exception": false,
     "start_time": "2022-01-01T20:08:10.547632",
     "status": "completed"
    },
    "tags": []
   },
   "outputs": [],
   "source": [
    "nn_learner = Learner(loss, model_nn, opt, config.num_epochs)\n",
    "acc_nn = ClfCallback(nn_learner, config.bs, training_data_x , testing_data_x, training_data_y, testing_data_y)\n",
    "nn_learner.set_callbacks([acc_nn])"
   ]
  },
  {
   "cell_type": "code",
   "execution_count": 21,
   "id": "877b6cc7",
   "metadata": {
    "execution": {
     "iopub.execute_input": "2022-01-01T20:08:10.654319Z",
     "iopub.status.busy": "2022-01-01T20:08:10.653762Z",
     "iopub.status.idle": "2022-01-01T20:08:10.666210Z",
     "shell.execute_reply": "2022-01-01T20:08:10.665765Z"
    },
    "papermill": {
     "duration": 0.045603,
     "end_time": "2022-01-01T20:08:10.666333",
     "exception": false,
     "start_time": "2022-01-01T20:08:10.620730",
     "status": "completed"
    },
    "tags": []
   },
   "outputs": [],
   "source": [
    "lr_learner = Learner(loss, model_lr, opt, config.num_epochs)\n",
    "acc_lr = ClfCallback(lr_learner, config.bs, training_data_x , testing_data_x, training_data_y, testing_data_y)\n",
    "lr_learner.set_callbacks([acc_lr])"
   ]
  },
  {
   "cell_type": "code",
   "execution_count": 22,
   "id": "d9b133c3",
   "metadata": {
    "execution": {
     "iopub.execute_input": "2022-01-01T20:08:10.725704Z",
     "iopub.status.busy": "2022-01-01T20:08:10.725194Z",
     "iopub.status.idle": "2022-01-01T20:09:24.046501Z",
     "shell.execute_reply": "2022-01-01T20:09:24.047241Z"
    },
    "papermill": {
     "duration": 73.353302,
     "end_time": "2022-01-01T20:09:24.047394",
     "exception": false,
     "start_time": "2022-01-01T20:08:10.694092",
     "status": "completed"
    },
    "tags": []
   },
   "outputs": [
    {
     "name": "stdout",
     "output_type": "stream",
     "text": [
      "Epoch 0, Loss 0.2436\n",
      "Training Accuracy: 0.6830, Testing Accuracy: 0.6976\n",
      "\n"
     ]
    },
    {
     "name": "stdout",
     "output_type": "stream",
     "text": [
      "Epoch 10, Loss 0.0769\n",
      "Training Accuracy: 0.9280, Testing Accuracy: 0.9385\n",
      "\n"
     ]
    },
    {
     "name": "stdout",
     "output_type": "stream",
     "text": [
      "Epoch 20, Loss 0.0485\n",
      "Training Accuracy: 0.9506, Testing Accuracy: 0.9607\n",
      "\n"
     ]
    },
    {
     "name": "stdout",
     "output_type": "stream",
     "text": [
      "Epoch 30, Loss 0.0384\n",
      "Training Accuracy: 0.9604, Testing Accuracy: 0.9642\n",
      "\n"
     ]
    },
    {
     "name": "stdout",
     "output_type": "stream",
     "text": [
      "Epoch 40, Loss 0.0333\n",
      "Training Accuracy: 0.9637, Testing Accuracy: 0.9682\n",
      "\n"
     ]
    },
    {
     "name": "stdout",
     "output_type": "stream",
     "text": [
      "Epoch 50, Loss 0.0303\n",
      "Training Accuracy: 0.9671, Testing Accuracy: 0.9693\n",
      "\n"
     ]
    },
    {
     "name": "stdout",
     "output_type": "stream",
     "text": [
      "Epoch 60, Loss 0.0281\n",
      "Training Accuracy: 0.9695, Testing Accuracy: 0.9698\n",
      "\n"
     ]
    },
    {
     "name": "stdout",
     "output_type": "stream",
     "text": [
      "Epoch 70, Loss 0.0265\n",
      "Training Accuracy: 0.9708, Testing Accuracy: 0.9708\n",
      "\n"
     ]
    },
    {
     "name": "stdout",
     "output_type": "stream",
     "text": [
      "Epoch 80, Loss 0.0251\n",
      "Training Accuracy: 0.9722, Testing Accuracy: 0.9713\n",
      "\n"
     ]
    },
    {
     "name": "stdout",
     "output_type": "stream",
     "text": [
      "Epoch 90, Loss 0.024\n",
      "Training Accuracy: 0.9731, Testing Accuracy: 0.9708\n",
      "\n"
     ]
    },
    {
     "name": "stdout",
     "output_type": "stream",
     "text": [
      "Epoch 100, Loss 0.0231\n",
      "Training Accuracy: 0.9740, Testing Accuracy: 0.9708\n",
      "\n"
     ]
    },
    {
     "name": "stdout",
     "output_type": "stream",
     "text": [
      "Epoch 110, Loss 0.0222\n",
      "Training Accuracy: 0.9750, Testing Accuracy: 0.9713\n",
      "\n"
     ]
    },
    {
     "name": "stdout",
     "output_type": "stream",
     "text": [
      "Epoch 120, Loss 0.0215\n",
      "Training Accuracy: 0.9756, Testing Accuracy: 0.9723\n",
      "\n"
     ]
    },
    {
     "name": "stdout",
     "output_type": "stream",
     "text": [
      "Epoch 130, Loss 0.0208\n",
      "Training Accuracy: 0.9763, Testing Accuracy: 0.9728\n",
      "\n"
     ]
    },
    {
     "name": "stdout",
     "output_type": "stream",
     "text": [
      "Epoch 140, Loss 0.0201\n",
      "Training Accuracy: 0.9773, Testing Accuracy: 0.9743\n",
      "\n"
     ]
    },
    {
     "name": "stdout",
     "output_type": "stream",
     "text": [
      "Epoch 150, Loss 0.0195\n",
      "Training Accuracy: 0.9785, Testing Accuracy: 0.9738\n",
      "\n"
     ]
    },
    {
     "name": "stdout",
     "output_type": "stream",
     "text": [
      "Epoch 160, Loss 0.019\n",
      "Training Accuracy: 0.9791, Testing Accuracy: 0.9743\n",
      "\n"
     ]
    },
    {
     "name": "stdout",
     "output_type": "stream",
     "text": [
      "Epoch 170, Loss 0.0185\n",
      "Training Accuracy: 0.9801, Testing Accuracy: 0.9743\n",
      "\n"
     ]
    },
    {
     "name": "stdout",
     "output_type": "stream",
     "text": [
      "Epoch 180, Loss 0.018\n",
      "Training Accuracy: 0.9810, Testing Accuracy: 0.9743\n",
      "\n"
     ]
    },
    {
     "name": "stdout",
     "output_type": "stream",
     "text": [
      "Epoch 190, Loss 0.0175\n",
      "Training Accuracy: 0.9812, Testing Accuracy: 0.9748\n",
      "\n"
     ]
    },
    {
     "name": "stdout",
     "output_type": "stream",
     "text": [
      "Epoch 200, Loss 0.0171\n",
      "Training Accuracy: 0.9816, Testing Accuracy: 0.9748\n",
      "\n"
     ]
    },
    {
     "name": "stdout",
     "output_type": "stream",
     "text": [
      "Epoch 210, Loss 0.0167\n",
      "Training Accuracy: 0.9823, Testing Accuracy: 0.9753\n",
      "\n"
     ]
    },
    {
     "name": "stdout",
     "output_type": "stream",
     "text": [
      "Epoch 220, Loss 0.0163\n",
      "Training Accuracy: 0.9827, Testing Accuracy: 0.9763\n",
      "\n"
     ]
    },
    {
     "name": "stdout",
     "output_type": "stream",
     "text": [
      "Epoch 230, Loss 0.0159\n",
      "Training Accuracy: 0.9831, Testing Accuracy: 0.9773\n",
      "\n"
     ]
    },
    {
     "name": "stdout",
     "output_type": "stream",
     "text": [
      "Epoch 240, Loss 0.0155\n",
      "Training Accuracy: 0.9837, Testing Accuracy: 0.9773\n",
      "\n"
     ]
    },
    {
     "data": {
      "text/plain": [
       "0.05606668437619475"
      ]
     },
     "execution_count": 22,
     "metadata": {},
     "output_type": "execute_result"
    }
   ],
   "source": [
    "nn_learner.train_loop(dl)"
   ]
  },
  {
   "cell_type": "code",
   "execution_count": 23,
   "id": "e0163366",
   "metadata": {
    "execution": {
     "iopub.execute_input": "2022-01-01T20:09:24.130031Z",
     "iopub.status.busy": "2022-01-01T20:09:24.129493Z",
     "iopub.status.idle": "2022-01-01T20:09:37.312041Z",
     "shell.execute_reply": "2022-01-01T20:09:37.312761Z"
    },
    "papermill": {
     "duration": 13.230299,
     "end_time": "2022-01-01T20:09:37.312910",
     "exception": false,
     "start_time": "2022-01-01T20:09:24.082611",
     "status": "completed"
    },
    "tags": []
   },
   "outputs": [
    {
     "name": "stdout",
     "output_type": "stream",
     "text": [
      "Epoch 0, Loss 0.2295\n",
      "Training Accuracy: 0.7516, Testing Accuracy: 0.7465\n",
      "\n"
     ]
    },
    {
     "name": "stdout",
     "output_type": "stream",
     "text": [
      "Epoch 10, Loss 0.1007\n",
      "Training Accuracy: 0.9108, Testing Accuracy: 0.9224\n",
      "\n"
     ]
    },
    {
     "name": "stdout",
     "output_type": "stream",
     "text": [
      "Epoch 20, Loss 0.0788\n",
      "Training Accuracy: 0.9258, Testing Accuracy: 0.9385\n",
      "\n"
     ]
    },
    {
     "name": "stdout",
     "output_type": "stream",
     "text": [
      "Epoch 30, Loss 0.0683\n",
      "Training Accuracy: 0.9329, Testing Accuracy: 0.9471\n",
      "\n"
     ]
    },
    {
     "name": "stdout",
     "output_type": "stream",
     "text": [
      "Epoch 40, Loss 0.0619\n",
      "Training Accuracy: 0.9382, Testing Accuracy: 0.9506\n",
      "\n"
     ]
    },
    {
     "name": "stdout",
     "output_type": "stream",
     "text": [
      "Epoch 50, Loss 0.0575\n",
      "Training Accuracy: 0.9425, Testing Accuracy: 0.9536\n",
      "\n"
     ]
    },
    {
     "name": "stdout",
     "output_type": "stream",
     "text": [
      "Epoch 60, Loss 0.0543\n",
      "Training Accuracy: 0.9458, Testing Accuracy: 0.9556\n",
      "\n"
     ]
    },
    {
     "name": "stdout",
     "output_type": "stream",
     "text": [
      "Epoch 70, Loss 0.0517\n",
      "Training Accuracy: 0.9478, Testing Accuracy: 0.9587\n",
      "\n"
     ]
    },
    {
     "name": "stdout",
     "output_type": "stream",
     "text": [
      "Epoch 80, Loss 0.0497\n",
      "Training Accuracy: 0.9498, Testing Accuracy: 0.9597\n",
      "\n"
     ]
    },
    {
     "name": "stdout",
     "output_type": "stream",
     "text": [
      "Epoch 90, Loss 0.048\n",
      "Training Accuracy: 0.9513, Testing Accuracy: 0.9607\n",
      "\n"
     ]
    },
    {
     "name": "stdout",
     "output_type": "stream",
     "text": [
      "Epoch 100, Loss 0.0465\n",
      "Training Accuracy: 0.9518, Testing Accuracy: 0.9617\n",
      "\n"
     ]
    },
    {
     "name": "stdout",
     "output_type": "stream",
     "text": [
      "Epoch 110, Loss 0.0453\n",
      "Training Accuracy: 0.9532, Testing Accuracy: 0.9627\n",
      "\n"
     ]
    },
    {
     "name": "stdout",
     "output_type": "stream",
     "text": [
      "Epoch 120, Loss 0.0442\n",
      "Training Accuracy: 0.9539, Testing Accuracy: 0.9627\n",
      "\n"
     ]
    },
    {
     "name": "stdout",
     "output_type": "stream",
     "text": [
      "Epoch 130, Loss 0.0433\n",
      "Training Accuracy: 0.9543, Testing Accuracy: 0.9637\n",
      "\n"
     ]
    },
    {
     "name": "stdout",
     "output_type": "stream",
     "text": [
      "Epoch 140, Loss 0.0424\n",
      "Training Accuracy: 0.9548, Testing Accuracy: 0.9642\n",
      "\n"
     ]
    },
    {
     "name": "stdout",
     "output_type": "stream",
     "text": [
      "Epoch 150, Loss 0.0417\n",
      "Training Accuracy: 0.9556, Testing Accuracy: 0.9642\n",
      "\n"
     ]
    },
    {
     "name": "stdout",
     "output_type": "stream",
     "text": [
      "Epoch 160, Loss 0.041\n",
      "Training Accuracy: 0.9564, Testing Accuracy: 0.9647\n",
      "\n"
     ]
    },
    {
     "name": "stdout",
     "output_type": "stream",
     "text": [
      "Epoch 170, Loss 0.0404\n",
      "Training Accuracy: 0.9566, Testing Accuracy: 0.9652\n",
      "\n"
     ]
    },
    {
     "name": "stdout",
     "output_type": "stream",
     "text": [
      "Epoch 180, Loss 0.0398\n",
      "Training Accuracy: 0.9572, Testing Accuracy: 0.9647\n",
      "\n"
     ]
    },
    {
     "name": "stdout",
     "output_type": "stream",
     "text": [
      "Epoch 190, Loss 0.0393\n",
      "Training Accuracy: 0.9578, Testing Accuracy: 0.9652\n",
      "\n"
     ]
    },
    {
     "name": "stdout",
     "output_type": "stream",
     "text": [
      "Epoch 200, Loss 0.0388\n",
      "Training Accuracy: 0.9582, Testing Accuracy: 0.9652\n",
      "\n"
     ]
    },
    {
     "name": "stdout",
     "output_type": "stream",
     "text": [
      "Epoch 210, Loss 0.0384\n",
      "Training Accuracy: 0.9589, Testing Accuracy: 0.9647\n",
      "\n"
     ]
    },
    {
     "name": "stdout",
     "output_type": "stream",
     "text": [
      "Epoch 220, Loss 0.0379\n",
      "Training Accuracy: 0.9591, Testing Accuracy: 0.9652\n",
      "\n"
     ]
    },
    {
     "name": "stdout",
     "output_type": "stream",
     "text": [
      "Epoch 230, Loss 0.0375\n",
      "Training Accuracy: 0.9595, Testing Accuracy: 0.9652\n",
      "\n"
     ]
    },
    {
     "name": "stdout",
     "output_type": "stream",
     "text": [
      "Epoch 240, Loss 0.0372\n",
      "Training Accuracy: 0.9600, Testing Accuracy: 0.9652\n",
      "\n"
     ]
    },
    {
     "data": {
      "text/plain": [
       "0.018992588014285227"
      ]
     },
     "execution_count": 23,
     "metadata": {},
     "output_type": "execute_result"
    }
   ],
   "source": [
    "lr_learner.train_loop(dl)"
   ]
  },
  {
   "cell_type": "code",
   "execution_count": 24,
   "id": "ca410940",
   "metadata": {
    "execution": {
     "iopub.execute_input": "2022-01-01T20:09:37.411190Z",
     "iopub.status.busy": "2022-01-01T20:09:37.410654Z",
     "iopub.status.idle": "2022-01-01T20:09:37.626169Z",
     "shell.execute_reply": "2022-01-01T20:09:37.626648Z"
    },
    "papermill": {
     "duration": 0.272011,
     "end_time": "2022-01-01T20:09:37.626802",
     "exception": false,
     "start_time": "2022-01-01T20:09:37.354791",
     "status": "completed"
    },
    "tags": []
   },
   "outputs": [
    {
     "data": {
      "text/plain": [
       "<matplotlib.legend.Legend at 0x7f8183567ac8>"
      ]
     },
     "execution_count": 24,
     "metadata": {},
     "output_type": "execute_result"
    },
    {
     "data": {
      "image/png": "[encoded data removed]",
      "text/plain": [
       "<Figure size 1080x720 with 1 Axes>"
      ]
     },
     "metadata": {
      "needs_background": "light"
     },
     "output_type": "display_data"
    }
   ],
   "source": [
    "#comparing the results of NN and LR\n",
    "plt.figure(figsize=(15,10))\n",
    "\n",
    "# Neural Network plots\n",
    "plt.plot(acc_nn.accuracies, 'r-', label = \"Training Accuracies - NN\")\n",
    "plt.plot(acc_nn.test_accuracies, 'g-', label = \"Testing Accuracies - NN\")\n",
    "\n",
    "# Logistic Regression plots\n",
    "plt.plot(acc_lr.accuracies, 'k-', label = \"Training Accuracies - LR\")\n",
    "plt.plot(acc_lr.test_accuracies, 'b-', label = \"Testing Accuracies - LR\")\n",
    "plt.legend()"
   ]
  },
  {
   "cell_type": "markdown",
   "id": "80dfb35c",
   "metadata": {
    "papermill": {
     "duration": 0.042978,
     "end_time": "2022-01-01T20:09:37.713543",
     "exception": false,
     "start_time": "2022-01-01T20:09:37.670565",
     "status": "completed"
    },
    "tags": []
   },
   "source": [
    "#### Plotting the outputs of this layer of the NN.\n"
   ]
  },
  {
   "cell_type": "code",
   "execution_count": 25,
   "id": "45eb2ff5",
   "metadata": {
    "execution": {
     "iopub.execute_input": "2022-01-01T20:09:37.809387Z",
     "iopub.status.busy": "2022-01-01T20:09:37.803919Z",
     "iopub.status.idle": "2022-01-01T20:09:37.824872Z",
     "shell.execute_reply": "2022-01-01T20:09:37.825268Z"
    },
    "papermill": {
     "duration": 0.069125,
     "end_time": "2022-01-01T20:09:37.825413",
     "exception": false,
     "start_time": "2022-01-01T20:09:37.756288",
     "status": "completed"
    },
    "tags": []
   },
   "outputs": [],
   "source": [
    "new_model = Model(layers[:-2])\n",
    "testing_plot = new_model(testing_data_x)"
   ]
  },
  {
   "cell_type": "code",
   "execution_count": 26,
   "id": "4c0a5485",
   "metadata": {
    "execution": {
     "iopub.execute_input": "2022-01-01T20:09:37.915369Z",
     "iopub.status.busy": "2022-01-01T20:09:37.914852Z",
     "iopub.status.idle": "2022-01-01T20:09:38.132403Z",
     "shell.execute_reply": "2022-01-01T20:09:38.132819Z"
    },
    "papermill": {
     "duration": 0.264197,
     "end_time": "2022-01-01T20:09:38.132958",
     "exception": false,
     "start_time": "2022-01-01T20:09:37.868761",
     "status": "completed"
    },
    "tags": []
   },
   "outputs": [
    {
     "data": {
      "text/plain": [
       "Text(0.5, 1.0, 'Outputs')"
      ]
     },
     "execution_count": 26,
     "metadata": {},
     "output_type": "execute_result"
    },
    {
     "data": {
      "image/png": "[encoded data removed]",
      "text/plain": [
       "<Figure size 576x504 with 1 Axes>"
      ]
     },
     "metadata": {
      "needs_background": "light"
     },
     "output_type": "display_data"
    }
   ],
   "source": [
    "# Plotting the scatter plot of points and color coding by class\n",
    "plt.figure(figsize=(8,7))\n",
    "plt.scatter(testing_plot[:,0], testing_plot[:,1], alpha = 0.1, c = y_test.ravel());\n",
    "plt.title('Outputs')"
   ]
  },
  {
   "cell_type": "markdown",
   "id": "a74fcf8f",
   "metadata": {
    "papermill": {
     "duration": 0.045256,
     "end_time": "2022-01-01T20:09:38.223731",
     "exception": false,
     "start_time": "2022-01-01T20:09:38.178475",
     "status": "completed"
    },
    "tags": []
   },
   "source": [
    "Probability contours"
   ]
  },
  {
   "cell_type": "code",
   "execution_count": 27,
   "id": "d0afc8e3",
   "metadata": {
    "execution": {
     "iopub.execute_input": "2022-01-01T20:09:38.323413Z",
     "iopub.status.busy": "2022-01-01T20:09:38.320057Z",
     "iopub.status.idle": "2022-01-01T20:09:38.331883Z",
     "shell.execute_reply": "2022-01-01T20:09:38.331182Z"
    },
    "papermill": {
     "duration": 0.0628,
     "end_time": "2022-01-01T20:09:38.331997",
     "exception": false,
     "start_time": "2022-01-01T20:09:38.269197",
     "status": "completed"
    },
    "tags": []
   },
   "outputs": [],
   "source": [
    "model_prob = Model(layers[-2:]) "
   ]
  },
  {
   "cell_type": "code",
   "execution_count": 28,
   "id": "9b96e238",
   "metadata": {
    "execution": {
     "iopub.execute_input": "2022-01-01T20:09:38.453591Z",
     "iopub.status.busy": "2022-01-01T20:09:38.452526Z",
     "iopub.status.idle": "2022-01-01T20:09:38.466138Z",
     "shell.execute_reply": "2022-01-01T20:09:38.466549Z"
    },
    "papermill": {
     "duration": 0.088403,
     "end_time": "2022-01-01T20:09:38.466674",
     "exception": false,
     "start_time": "2022-01-01T20:09:38.378271",
     "status": "completed"
    },
    "tags": []
   },
   "outputs": [],
   "source": [
    "#creating the x and y ranges according to the above generated plot.\n",
    "x_range = np.linspace(-4, 1, 100) \n",
    "y_range = np.linspace(-6, 6, 100) \n",
    "x_grid, y_grid = np.meshgrid(x_range, y_range) # x_grid and y_grig are of size 100 X 100\n",
    "\n",
    "# converting x_grid and y_grid to continuous arrays\n",
    "x_gridflat = np.ravel(x_grid)\n",
    "y_gridflat = np.ravel(y_grid)\n",
    "\n",
    "# The last layer of the current model takes two columns as input. Hence transpose of np.vstack() is required.\n",
    "X = np.vstack((x_gridflat, y_gridflat)).T\n",
    "\n",
    "prob_contour = model_prob(X).reshape(100,100) "
   ]
  },
  {
   "cell_type": "code",
   "execution_count": 29,
   "id": "da72499a",
   "metadata": {
    "execution": {
     "iopub.execute_input": "2022-01-01T20:09:38.565290Z",
     "iopub.status.busy": "2022-01-01T20:09:38.563507Z",
     "iopub.status.idle": "2022-01-01T20:09:38.808354Z",
     "shell.execute_reply": "2022-01-01T20:09:38.808774Z"
    },
    "papermill": {
     "duration": 0.296764,
     "end_time": "2022-01-01T20:09:38.808910",
     "exception": false,
     "start_time": "2022-01-01T20:09:38.512146",
     "status": "completed"
    },
    "tags": []
   },
   "outputs": [
    {
     "data": {
      "image/png": "[encoded data removed]",
      "text/plain": [
       "<Figure size 720x648 with 1 Axes>"
      ]
     },
     "metadata": {
      "needs_background": "light"
     },
     "output_type": "display_data"
    }
   ],
   "source": [
    "plt.figure(figsize=(10,9))\n",
    "plt.scatter(testing_plot[:,0], testing_plot[:,1], alpha = 0.1, c = y_test.ravel())\n",
    "contours = plt.contour(x_grid,y_grid,prob_contour)\n",
    "plt.title('Probability Contours')\n",
    "plt.clabel(contours, inline = True );"
   ]
  },
  {
   "cell_type": "code",
   "execution_count": null,
   "id": "e81b4ac7",
   "metadata": {
    "papermill": {
     "duration": 0.048046,
     "end_time": "2022-01-01T20:09:38.905795",
     "exception": false,
     "start_time": "2022-01-01T20:09:38.857749",
     "status": "completed"
    },
    "tags": []
   },
   "outputs": [],
   "source": []
  }
 ],
 "metadata": {
  "kernelspec": {
   "display_name": "Python 3",
   "language": "python",
   "name": "python3"
  },
  "language_info": {
   "codemirror_mode": {
    "name": "ipython",
    "version": 3
   },
   "file_extension": ".py",
   "mimetype": "text/x-python",
   "name": "python",
   "nbconvert_exporter": "python",
   "pygments_lexer": "ipython3",
   "version": "3.6.15"
  },
  "papermill": {
   "default_parameters": {},
   "duration": 94.924962,
   "end_time": "2022-01-01T20:09:39.362643",
   "environment_variables": {},
   "exception": null,
   "input_path": "2020-08-11-part2.ipynb",
   "output_path": "2020-08-11-part2.ipynb",
   "parameters": {},
   "start_time": "2022-01-01T20:08:04.437681",
   "version": "2.3.3"
  }
 },
 "nbformat": 4,
 "nbformat_minor": 5
}