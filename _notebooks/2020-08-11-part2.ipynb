{
 "cells": [
  {
   "cell_type": "markdown",
   "id": "98380cd3",
   "metadata": {
    "papermill": {
     "duration": 0.034201,
     "end_time": "2022-02-17T10:08:38.627448",
     "exception": false,
     "start_time": "2022-02-17T10:08:38.593247",
     "status": "completed"
    },
    "tags": []
   },
   "source": [
    "# Distinguish Your Own Digits (DYOD)"
   ]
  },
  {
   "cell_type": "markdown",
   "id": "ef31240d",
   "metadata": {
    "papermill": {
     "duration": 0.029469,
     "end_time": "2022-02-17T10:08:38.693878",
     "exception": false,
     "start_time": "2022-02-17T10:08:38.664409",
     "status": "completed"
    },
    "tags": []
   },
   "source": [
    "You are going to write a classifier that distinguishes between the number 3 and number 8."
   ]
  },
  {
   "cell_type": "code",
   "execution_count": 1,
   "id": "b15c8646",
   "metadata": {
    "execution": {
     "iopub.execute_input": "2022-02-17T10:08:38.759896Z",
     "iopub.status.busy": "2022-02-17T10:08:38.757042Z",
     "iopub.status.idle": "2022-02-17T10:08:38.771716Z",
     "shell.execute_reply": "2022-02-17T10:08:38.771208Z"
    },
    "papermill": {
     "duration": 0.050338,
     "end_time": "2022-02-17T10:08:38.771890",
     "exception": false,
     "start_time": "2022-02-17T10:08:38.721552",
     "status": "completed"
    },
    "tags": []
   },
   "outputs": [],
   "source": [
    "%load_ext autoreload\n",
    "%autoreload 2"
   ]
  },
  {
   "cell_type": "code",
   "execution_count": 2,
   "id": "22ef38dc",
   "metadata": {
    "execution": {
     "iopub.execute_input": "2022-02-17T10:08:38.830911Z",
     "iopub.status.busy": "2022-02-17T10:08:38.830305Z",
     "iopub.status.idle": "2022-02-17T10:08:39.501526Z",
     "shell.execute_reply": "2022-02-17T10:08:39.500823Z"
    },
    "papermill": {
     "duration": 0.702467,
     "end_time": "2022-02-17T10:08:39.501670",
     "exception": false,
     "start_time": "2022-02-17T10:08:38.799203",
     "status": "completed"
    },
    "tags": []
   },
   "outputs": [],
   "source": [
    "%matplotlib inline\n",
    "import numpy as np\n",
    "import matplotlib.pyplot as plt\n",
    "import pandas as pd"
   ]
  },
  {
   "cell_type": "markdown",
   "id": "ba036198",
   "metadata": {
    "papermill": {
     "duration": 0.028022,
     "end_time": "2022-02-17T10:08:39.557866",
     "exception": false,
     "start_time": "2022-02-17T10:08:39.529844",
     "status": "completed"
    },
    "tags": []
   },
   "source": [
    "From the command line run `pip install mnist`. This is a library that will help you bring down the mnist dataset. If you run this from a notebook, you need to put  `!pip install mnist` in a cell by itself."
   ]
  },
  {
   "cell_type": "code",
   "execution_count": 3,
   "id": "bb6ad8a1",
   "metadata": {
    "execution": {
     "iopub.execute_input": "2022-02-17T10:08:39.622407Z",
     "iopub.status.busy": "2022-02-17T10:08:39.621812Z",
     "iopub.status.idle": "2022-02-17T10:08:41.552622Z",
     "shell.execute_reply": "2022-02-17T10:08:41.551677Z"
    },
    "papermill": {
     "duration": 1.967618,
     "end_time": "2022-02-17T10:08:41.552842",
     "exception": false,
     "start_time": "2022-02-17T10:08:39.585224",
     "status": "completed"
    },
    "tags": []
   },
   "outputs": [
    {
     "name": "stdout",
     "output_type": "stream",
     "text": [
      "Collecting mnist\r\n",
      "  Downloading mnist-0.2.2-py2.py3-none-any.whl (3.5 kB)\r\n",
      "Requirement already satisfied: numpy in /opt/hostedtoolcache/Python/3.6.15/x64/lib/python3.6/site-packages (from mnist) (1.19.5)\r\n"
     ]
    },
    {
     "name": "stdout",
     "output_type": "stream",
     "text": [
      "Installing collected packages: mnist\r\n"
     ]
    },
    {
     "name": "stdout",
     "output_type": "stream",
     "text": [
      "Successfully installed mnist-0.2.2\r\n"
     ]
    }
   ],
   "source": [
    "!pip install mnist"
   ]
  },
  {
   "cell_type": "markdown",
   "id": "69df9c9a",
   "metadata": {
    "papermill": {
     "duration": 0.027639,
     "end_time": "2022-02-17T10:08:41.608200",
     "exception": false,
     "start_time": "2022-02-17T10:08:41.580561",
     "status": "completed"
    },
    "tags": []
   },
   "source": [
    "## Preparing the Data"
   ]
  },
  {
   "cell_type": "code",
   "execution_count": 4,
   "id": "7f69d806",
   "metadata": {
    "execution": {
     "iopub.execute_input": "2022-02-17T10:08:41.668274Z",
     "iopub.status.busy": "2022-02-17T10:08:41.667619Z",
     "iopub.status.idle": "2022-02-17T10:08:41.682609Z",
     "shell.execute_reply": "2022-02-17T10:08:41.682119Z"
    },
    "papermill": {
     "duration": 0.047031,
     "end_time": "2022-02-17T10:08:41.682738",
     "exception": false,
     "start_time": "2022-02-17T10:08:41.635707",
     "status": "completed"
    },
    "tags": []
   },
   "outputs": [],
   "source": [
    "import mnist"
   ]
  },
  {
   "cell_type": "code",
   "execution_count": 5,
   "id": "a411e44f",
   "metadata": {
    "execution": {
     "iopub.execute_input": "2022-02-17T10:08:41.742715Z",
     "iopub.status.busy": "2022-02-17T10:08:41.742152Z",
     "iopub.status.idle": "2022-02-17T10:08:42.321798Z",
     "shell.execute_reply": "2022-02-17T10:08:42.320919Z"
    },
    "papermill": {
     "duration": 0.612105,
     "end_time": "2022-02-17T10:08:42.322023",
     "exception": false,
     "start_time": "2022-02-17T10:08:41.709918",
     "status": "completed"
    },
    "tags": []
   },
   "outputs": [],
   "source": [
    "train_images = mnist.train_images()\n",
    "train_labels = mnist.train_labels()"
   ]
  },
  {
   "cell_type": "code",
   "execution_count": 6,
   "id": "dceab3a5",
   "metadata": {
    "execution": {
     "iopub.execute_input": "2022-02-17T10:08:42.383190Z",
     "iopub.status.busy": "2022-02-17T10:08:42.382151Z",
     "iopub.status.idle": "2022-02-17T10:08:42.401196Z",
     "shell.execute_reply": "2022-02-17T10:08:42.400697Z"
    },
    "papermill": {
     "duration": 0.050468,
     "end_time": "2022-02-17T10:08:42.401334",
     "exception": false,
     "start_time": "2022-02-17T10:08:42.350866",
     "status": "completed"
    },
    "tags": []
   },
   "outputs": [
    {
     "data": {
      "text/plain": [
       "((60000, 28, 28), (60000,))"
      ]
     },
     "execution_count": 6,
     "metadata": {},
     "output_type": "execute_result"
    }
   ],
   "source": [
    "train_images.shape, train_labels.shape"
   ]
  },
  {
   "cell_type": "code",
   "execution_count": 7,
   "id": "f50dc2bb",
   "metadata": {
    "execution": {
     "iopub.execute_input": "2022-02-17T10:08:42.464826Z",
     "iopub.status.busy": "2022-02-17T10:08:42.464228Z",
     "iopub.status.idle": "2022-02-17T10:08:42.580784Z",
     "shell.execute_reply": "2022-02-17T10:08:42.580234Z"
    },
    "papermill": {
     "duration": 0.151525,
     "end_time": "2022-02-17T10:08:42.580931",
     "exception": false,
     "start_time": "2022-02-17T10:08:42.429406",
     "status": "completed"
    },
    "tags": []
   },
   "outputs": [],
   "source": [
    "test_images = mnist.test_images()\n",
    "test_labels = mnist.test_labels()"
   ]
  },
  {
   "cell_type": "code",
   "execution_count": 8,
   "id": "fc38cf1b",
   "metadata": {
    "execution": {
     "iopub.execute_input": "2022-02-17T10:08:42.642558Z",
     "iopub.status.busy": "2022-02-17T10:08:42.641971Z",
     "iopub.status.idle": "2022-02-17T10:08:42.655568Z",
     "shell.execute_reply": "2022-02-17T10:08:42.655058Z"
    },
    "papermill": {
     "duration": 0.046261,
     "end_time": "2022-02-17T10:08:42.655699",
     "exception": false,
     "start_time": "2022-02-17T10:08:42.609438",
     "status": "completed"
    },
    "tags": []
   },
   "outputs": [
    {
     "data": {
      "text/plain": [
       "((10000, 28, 28), (10000,))"
      ]
     },
     "execution_count": 8,
     "metadata": {},
     "output_type": "execute_result"
    }
   ],
   "source": [
    "test_images.shape, test_labels.shape"
   ]
  },
  {
   "cell_type": "code",
   "execution_count": 9,
   "id": "f9ed8fe0",
   "metadata": {
    "execution": {
     "iopub.execute_input": "2022-02-17T10:08:42.716176Z",
     "iopub.status.busy": "2022-02-17T10:08:42.715542Z",
     "iopub.status.idle": "2022-02-17T10:08:42.883088Z",
     "shell.execute_reply": "2022-02-17T10:08:42.885976Z"
    },
    "papermill": {
     "duration": 0.20266,
     "end_time": "2022-02-17T10:08:42.886149",
     "exception": false,
     "start_time": "2022-02-17T10:08:42.683489",
     "status": "completed"
    },
    "tags": []
   },
   "outputs": [
    {
     "name": "stdout",
     "output_type": "stream",
     "text": [
      "2\n"
     ]
    },
    {
     "data": {
      "text/plain": [
       "<matplotlib.image.AxesImage at 0x7fce80f7c588>"
      ]
     },
     "execution_count": 9,
     "metadata": {},
     "output_type": "execute_result"
    },
    {
     "data": {
      "image/png": "[encoded data removed]",
      "text/plain": [
       "<Figure size 432x288 with 1 Axes>"
      ]
     },
     "metadata": {
      "needs_background": "light"
     },
     "output_type": "display_data"
    }
   ],
   "source": [
    "image_index = 7776 # You may select anything up to 60,000\n",
    "print(train_labels[image_index]) \n",
    "plt.imshow(train_images[image_index], cmap='Greys')"
   ]
  },
  {
   "cell_type": "markdown",
   "id": "a8d2388d",
   "metadata": {
    "papermill": {
     "duration": 0.031537,
     "end_time": "2022-02-17T10:08:42.956674",
     "exception": false,
     "start_time": "2022-02-17T10:08:42.925137",
     "status": "completed"
    },
    "tags": []
   },
   "source": [
    "## Filter data to get 3 and 8 out"
   ]
  },
  {
   "cell_type": "code",
   "execution_count": 10,
   "id": "776f7fc7",
   "metadata": {
    "execution": {
     "iopub.execute_input": "2022-02-17T10:08:43.036806Z",
     "iopub.status.busy": "2022-02-17T10:08:43.026483Z",
     "iopub.status.idle": "2022-02-17T10:08:43.046720Z",
     "shell.execute_reply": "2022-02-17T10:08:43.046188Z"
    },
    "papermill": {
     "duration": 0.059943,
     "end_time": "2022-02-17T10:08:43.046854",
     "exception": false,
     "start_time": "2022-02-17T10:08:42.986911",
     "status": "completed"
    },
    "tags": []
   },
   "outputs": [],
   "source": [
    "train_filter = np.where((train_labels == 3 ) | (train_labels == 8))\n",
    "test_filter = np.where((test_labels == 3) | (test_labels == 8))\n",
    "X_train, y_train = train_images[train_filter], train_labels[train_filter]\n",
    "X_test, y_test = test_images[test_filter], test_labels[test_filter]"
   ]
  },
  {
   "cell_type": "markdown",
   "id": "948f0b7e",
   "metadata": {
    "papermill": {
     "duration": 0.038533,
     "end_time": "2022-02-17T10:08:43.119293",
     "exception": false,
     "start_time": "2022-02-17T10:08:43.080760",
     "status": "completed"
    },
    "tags": []
   },
   "source": [
    "We normalize the pizel values in the 0 to 1 range"
   ]
  },
  {
   "cell_type": "code",
   "execution_count": 11,
   "id": "ee4c2166",
   "metadata": {
    "execution": {
     "iopub.execute_input": "2022-02-17T10:08:43.184109Z",
     "iopub.status.busy": "2022-02-17T10:08:43.183463Z",
     "iopub.status.idle": "2022-02-17T10:08:43.240689Z",
     "shell.execute_reply": "2022-02-17T10:08:43.240120Z"
    },
    "papermill": {
     "duration": 0.091734,
     "end_time": "2022-02-17T10:08:43.240837",
     "exception": false,
     "start_time": "2022-02-17T10:08:43.149103",
     "status": "completed"
    },
    "tags": []
   },
   "outputs": [],
   "source": [
    "X_train = X_train/255.\n",
    "X_test = X_test/255."
   ]
  },
  {
   "cell_type": "markdown",
   "id": "ddcf4fab",
   "metadata": {
    "papermill": {
     "duration": 0.032423,
     "end_time": "2022-02-17T10:08:43.305023",
     "exception": false,
     "start_time": "2022-02-17T10:08:43.272600",
     "status": "completed"
    },
    "tags": []
   },
   "source": [
    "And setup the labels as 1 (when the digit is 3) and 0 (when the digit is 8)"
   ]
  },
  {
   "cell_type": "code",
   "execution_count": 12,
   "id": "7dc908f2",
   "metadata": {
    "execution": {
     "iopub.execute_input": "2022-02-17T10:08:43.371667Z",
     "iopub.status.busy": "2022-02-17T10:08:43.369850Z",
     "iopub.status.idle": "2022-02-17T10:08:43.384562Z",
     "shell.execute_reply": "2022-02-17T10:08:43.384090Z"
    },
    "papermill": {
     "duration": 0.049109,
     "end_time": "2022-02-17T10:08:43.384705",
     "exception": false,
     "start_time": "2022-02-17T10:08:43.335596",
     "status": "completed"
    },
    "tags": []
   },
   "outputs": [],
   "source": [
    "y_train = 1*(y_train==3)\n",
    "y_test = 1*(y_test==3)"
   ]
  },
  {
   "cell_type": "code",
   "execution_count": 13,
   "id": "01e4e969",
   "metadata": {
    "execution": {
     "iopub.execute_input": "2022-02-17T10:08:43.458431Z",
     "iopub.status.busy": "2022-02-17T10:08:43.457813Z",
     "iopub.status.idle": "2022-02-17T10:08:43.474604Z",
     "shell.execute_reply": "2022-02-17T10:08:43.474107Z"
    },
    "papermill": {
     "duration": 0.051583,
     "end_time": "2022-02-17T10:08:43.474725",
     "exception": false,
     "start_time": "2022-02-17T10:08:43.423142",
     "status": "completed"
    },
    "tags": []
   },
   "outputs": [
    {
     "data": {
      "text/plain": [
       "((11982, 28, 28), (1984, 28, 28))"
      ]
     },
     "execution_count": 13,
     "metadata": {},
     "output_type": "execute_result"
    }
   ],
   "source": [
    "X_train.shape, X_test.shape"
   ]
  },
  {
   "cell_type": "markdown",
   "id": "5ccf3f85",
   "metadata": {
    "papermill": {
     "duration": 0.032911,
     "end_time": "2022-02-17T10:08:43.537673",
     "exception": false,
     "start_time": "2022-02-17T10:08:43.504762",
     "status": "completed"
    },
    "tags": []
   },
   "source": [
    "We reshape the data to flatten the image pixels into a set of features or co-variates:"
   ]
  },
  {
   "cell_type": "code",
   "execution_count": 14,
   "id": "5286a4a3",
   "metadata": {
    "execution": {
     "iopub.execute_input": "2022-02-17T10:08:43.605792Z",
     "iopub.status.busy": "2022-02-17T10:08:43.605176Z",
     "iopub.status.idle": "2022-02-17T10:08:43.621243Z",
     "shell.execute_reply": "2022-02-17T10:08:43.620750Z"
    },
    "papermill": {
     "duration": 0.051712,
     "end_time": "2022-02-17T10:08:43.621380",
     "exception": false,
     "start_time": "2022-02-17T10:08:43.569668",
     "status": "completed"
    },
    "tags": []
   },
   "outputs": [
    {
     "data": {
      "text/plain": [
       "((11982, 784), (1984, 784))"
      ]
     },
     "execution_count": 14,
     "metadata": {},
     "output_type": "execute_result"
    }
   ],
   "source": [
    "X_train = X_train.reshape(X_train.shape[0], -1)\n",
    "X_test = X_test.reshape(X_test.shape[0], -1)\n",
    "X_train.shape, X_test.shape"
   ]
  },
  {
   "cell_type": "code",
   "execution_count": 15,
   "id": "73c5f88a",
   "metadata": {
    "execution": {
     "iopub.execute_input": "2022-02-17T10:08:43.691479Z",
     "iopub.status.busy": "2022-02-17T10:08:43.690425Z",
     "iopub.status.idle": "2022-02-17T10:08:43.711097Z",
     "shell.execute_reply": "2022-02-17T10:08:43.710617Z"
    },
    "papermill": {
     "duration": 0.056905,
     "end_time": "2022-02-17T10:08:43.711238",
     "exception": false,
     "start_time": "2022-02-17T10:08:43.654333",
     "status": "completed"
    },
    "tags": []
   },
   "outputs": [],
   "source": [
    "#Impoting functions from 'Kudzu'\n",
    "from kudzu.model import Model\n",
    "from kudzu.train import Learner\n",
    "from kudzu.optim import GD\n",
    "from kudzu.data import Data, Sampler,Dataloader\n",
    "\n",
    "from kudzu.callbacks import AccCallback\n",
    "from kudzu.callbacks import ClfCallback\n",
    "\n",
    "from kudzu.loss import MSE\n",
    "\n",
    "from kudzu.layer import Sigmoid,Relu\n",
    "from kudzu.layer import Affine"
   ]
  },
  {
   "cell_type": "markdown",
   "id": "bc01172a",
   "metadata": {
    "papermill": {
     "duration": 0.039858,
     "end_time": "2022-02-17T10:08:43.781879",
     "exception": false,
     "start_time": "2022-02-17T10:08:43.742021",
     "status": "completed"
    },
    "tags": []
   },
   "source": [
    "### Let us create a `Config` class, to store important parameters. \n",
    "This class essentially plays the role of a dictionary."
   ]
  },
  {
   "cell_type": "code",
   "execution_count": 16,
   "id": "978281aa",
   "metadata": {
    "execution": {
     "iopub.execute_input": "2022-02-17T10:08:43.846735Z",
     "iopub.status.busy": "2022-02-17T10:08:43.846125Z",
     "iopub.status.idle": "2022-02-17T10:08:43.860398Z",
     "shell.execute_reply": "2022-02-17T10:08:43.859842Z"
    },
    "papermill": {
     "duration": 0.048383,
     "end_time": "2022-02-17T10:08:43.860529",
     "exception": false,
     "start_time": "2022-02-17T10:08:43.812146",
     "status": "completed"
    },
    "tags": []
   },
   "outputs": [],
   "source": [
    "class Config:\n",
    "    pass\n",
    "config = Config()\n",
    "config.lr = 0.001\n",
    "config.num_epochs = 250\n",
    "config.bs = 50"
   ]
  },
  {
   "cell_type": "markdown",
   "id": "1385fa59",
   "metadata": {
    "papermill": {
     "duration": 0.036693,
     "end_time": "2022-02-17T10:08:43.931302",
     "exception": false,
     "start_time": "2022-02-17T10:08:43.894609",
     "status": "completed"
    },
    "tags": []
   },
   "source": [
    "### Running Models with the Training data\n",
    "Details about the network layers:\n",
    "- A first affine layer has 784 inputs and does 100 affine transforms. These are followed by a Relu\n",
    "- A second affine layer has 100 inputs from the 100 activations of the past layer, and does 100 affine transforms. These are followed by a Relu\n",
    "- A third affine layer has 100 activations and does 2 affine transformations to create an embedding for visualization. There is no non-linearity here.\n",
    "- A final \"logistic regression\" which has an affine transform from 2 inputs to 1 output, which is squeezed through a sigmoid.\n"
   ]
  },
  {
   "cell_type": "code",
   "execution_count": 17,
   "id": "2b9c66db",
   "metadata": {
    "execution": {
     "iopub.execute_input": "2022-02-17T10:08:43.996113Z",
     "iopub.status.busy": "2022-02-17T10:08:43.995469Z",
     "iopub.status.idle": "2022-02-17T10:08:44.009663Z",
     "shell.execute_reply": "2022-02-17T10:08:44.009143Z"
    },
    "papermill": {
     "duration": 0.04859,
     "end_time": "2022-02-17T10:08:44.009794",
     "exception": false,
     "start_time": "2022-02-17T10:08:43.961204",
     "status": "completed"
    },
    "tags": []
   },
   "outputs": [],
   "source": [
    "data = Data(X_train, y_train.reshape(-1,1))\n",
    "sampler = Sampler(data, config.bs, shuffle=True)\n",
    "\n",
    "dl = Dataloader(data, sampler)\n",
    "\n",
    "opt = GD(config.lr)\n",
    "loss = MSE()"
   ]
  },
  {
   "cell_type": "code",
   "execution_count": 18,
   "id": "b275e4c2",
   "metadata": {
    "execution": {
     "iopub.execute_input": "2022-02-17T10:08:44.078465Z",
     "iopub.status.busy": "2022-02-17T10:08:44.077843Z",
     "iopub.status.idle": "2022-02-17T10:08:44.100493Z",
     "shell.execute_reply": "2022-02-17T10:08:44.099941Z"
    },
    "papermill": {
     "duration": 0.05819,
     "end_time": "2022-02-17T10:08:44.100628",
     "exception": false,
     "start_time": "2022-02-17T10:08:44.042438",
     "status": "completed"
    },
    "tags": []
   },
   "outputs": [],
   "source": [
    "training_data_x = X_train\n",
    "testing_data_x = X_test\n",
    "training_data_y = y_train.reshape(-1,1)\n",
    "testing_data_y = y_test.reshape(-1,1)"
   ]
  },
  {
   "cell_type": "code",
   "execution_count": 19,
   "id": "76951160",
   "metadata": {
    "execution": {
     "iopub.execute_input": "2022-02-17T10:08:44.172228Z",
     "iopub.status.busy": "2022-02-17T10:08:44.171587Z",
     "iopub.status.idle": "2022-02-17T10:08:44.189928Z",
     "shell.execute_reply": "2022-02-17T10:08:44.190800Z"
    },
    "papermill": {
     "duration": 0.054152,
     "end_time": "2022-02-17T10:08:44.191042",
     "exception": false,
     "start_time": "2022-02-17T10:08:44.136890",
     "status": "completed"
    },
    "tags": []
   },
   "outputs": [
    {
     "name": "stdout",
     "output_type": "stream",
     "text": [
      "xavier\n",
      "xavier\n",
      "xavier\n",
      "xavier\n",
      "xavier\n"
     ]
    }
   ],
   "source": [
    "layers = [Affine(\"first\", 784, 100), Relu(\"first\"), Affine(\"second\", 100, 100), Relu(\"second\"), Affine(\"third\", 100, 2), Affine(\"last\", 2, 1), Sigmoid(\"last\")]\n",
    "model_nn = Model(layers)\n",
    "model_lr = Model([Affine(\"logits\", 784, 1), Sigmoid(\"sigmoid\")])"
   ]
  },
  {
   "cell_type": "code",
   "execution_count": 20,
   "id": "6eede77a",
   "metadata": {
    "execution": {
     "iopub.execute_input": "2022-02-17T10:08:44.258145Z",
     "iopub.status.busy": "2022-02-17T10:08:44.257545Z",
     "iopub.status.idle": "2022-02-17T10:08:44.278388Z",
     "shell.execute_reply": "2022-02-17T10:08:44.278870Z"
    },
    "papermill": {
     "duration": 0.056212,
     "end_time": "2022-02-17T10:08:44.279016",
     "exception": false,
     "start_time": "2022-02-17T10:08:44.222804",
     "status": "completed"
    },
    "tags": []
   },
   "outputs": [],
   "source": [
    "nn_learner = Learner(loss, model_nn, opt, config.num_epochs)\n",
    "acc_nn = ClfCallback(nn_learner, config.bs, training_data_x , testing_data_x, training_data_y, testing_data_y)\n",
    "nn_learner.set_callbacks([acc_nn])"
   ]
  },
  {
   "cell_type": "code",
   "execution_count": 21,
   "id": "877b6cc7",
   "metadata": {
    "execution": {
     "iopub.execute_input": "2022-02-17T10:08:44.348081Z",
     "iopub.status.busy": "2022-02-17T10:08:44.347447Z",
     "iopub.status.idle": "2022-02-17T10:08:44.360705Z",
     "shell.execute_reply": "2022-02-17T10:08:44.360221Z"
    },
    "papermill": {
     "duration": 0.051162,
     "end_time": "2022-02-17T10:08:44.360842",
     "exception": false,
     "start_time": "2022-02-17T10:08:44.309680",
     "status": "completed"
    },
    "tags": []
   },
   "outputs": [],
   "source": [
    "lr_learner = Learner(loss, model_lr, opt, config.num_epochs)\n",
    "acc_lr = ClfCallback(lr_learner, config.bs, training_data_x , testing_data_x, training_data_y, testing_data_y)\n",
    "lr_learner.set_callbacks([acc_lr])"
   ]
  },
  {
   "cell_type": "code",
   "execution_count": 22,
   "id": "d9b133c3",
   "metadata": {
    "execution": {
     "iopub.execute_input": "2022-02-17T10:08:44.426728Z",
     "iopub.status.busy": "2022-02-17T10:08:44.426135Z",
     "iopub.status.idle": "2022-02-17T10:10:13.364078Z",
     "shell.execute_reply": "2022-02-17T10:10:13.364959Z"
    },
    "papermill": {
     "duration": 88.97362,
     "end_time": "2022-02-17T10:10:13.365128",
     "exception": false,
     "start_time": "2022-02-17T10:08:44.391508",
     "status": "completed"
    },
    "tags": []
   },
   "outputs": [
    {
     "name": "stdout",
     "output_type": "stream",
     "text": [
      "Epoch 0, Loss 0.2358\n",
      "Training Accuracy: 0.7415, Testing Accuracy: 0.7177\n",
      "\n"
     ]
    },
    {
     "name": "stdout",
     "output_type": "stream",
     "text": [
      "Epoch 10, Loss 0.0817\n",
      "Training Accuracy: 0.9273, Testing Accuracy: 0.9355\n",
      "\n"
     ]
    },
    {
     "name": "stdout",
     "output_type": "stream",
     "text": [
      "Epoch 20, Loss 0.0506\n",
      "Training Accuracy: 0.9478, Testing Accuracy: 0.9582\n",
      "\n"
     ]
    },
    {
     "name": "stdout",
     "output_type": "stream",
     "text": [
      "Epoch 30, Loss 0.0398\n",
      "Training Accuracy: 0.9583, Testing Accuracy: 0.9693\n",
      "\n"
     ]
    },
    {
     "name": "stdout",
     "output_type": "stream",
     "text": [
      "Epoch 40, Loss 0.0346\n",
      "Training Accuracy: 0.9628, Testing Accuracy: 0.9718\n",
      "\n"
     ]
    },
    {
     "name": "stdout",
     "output_type": "stream",
     "text": [
      "Epoch 50, Loss 0.0313\n",
      "Training Accuracy: 0.9654, Testing Accuracy: 0.9723\n",
      "\n"
     ]
    },
    {
     "name": "stdout",
     "output_type": "stream",
     "text": [
      "Epoch 60, Loss 0.0291\n",
      "Training Accuracy: 0.9674, Testing Accuracy: 0.9728\n",
      "\n"
     ]
    },
    {
     "name": "stdout",
     "output_type": "stream",
     "text": [
      "Epoch 70, Loss 0.0274\n",
      "Training Accuracy: 0.9695, Testing Accuracy: 0.9723\n",
      "\n"
     ]
    },
    {
     "name": "stdout",
     "output_type": "stream",
     "text": [
      "Epoch 80, Loss 0.026\n",
      "Training Accuracy: 0.9706, Testing Accuracy: 0.9733\n",
      "\n"
     ]
    },
    {
     "name": "stdout",
     "output_type": "stream",
     "text": [
      "Epoch 90, Loss 0.0249\n",
      "Training Accuracy: 0.9719, Testing Accuracy: 0.9743\n",
      "\n"
     ]
    },
    {
     "name": "stdout",
     "output_type": "stream",
     "text": [
      "Epoch 100, Loss 0.024\n",
      "Training Accuracy: 0.9727, Testing Accuracy: 0.9738\n",
      "\n"
     ]
    },
    {
     "name": "stdout",
     "output_type": "stream",
     "text": [
      "Epoch 110, Loss 0.0231\n",
      "Training Accuracy: 0.9735, Testing Accuracy: 0.9753\n",
      "\n"
     ]
    },
    {
     "name": "stdout",
     "output_type": "stream",
     "text": [
      "Epoch 120, Loss 0.0224\n",
      "Training Accuracy: 0.9745, Testing Accuracy: 0.9753\n",
      "\n"
     ]
    },
    {
     "name": "stdout",
     "output_type": "stream",
     "text": [
      "Epoch 130, Loss 0.0218\n",
      "Training Accuracy: 0.9755, Testing Accuracy: 0.9758\n",
      "\n"
     ]
    },
    {
     "name": "stdout",
     "output_type": "stream",
     "text": [
      "Epoch 140, Loss 0.0212\n",
      "Training Accuracy: 0.9761, Testing Accuracy: 0.9753\n",
      "\n"
     ]
    },
    {
     "name": "stdout",
     "output_type": "stream",
     "text": [
      "Epoch 150, Loss 0.0206\n",
      "Training Accuracy: 0.9770, Testing Accuracy: 0.9753\n",
      "\n"
     ]
    },
    {
     "name": "stdout",
     "output_type": "stream",
     "text": [
      "Epoch 160, Loss 0.0201\n",
      "Training Accuracy: 0.9771, Testing Accuracy: 0.9758\n",
      "\n"
     ]
    },
    {
     "name": "stdout",
     "output_type": "stream",
     "text": [
      "Epoch 170, Loss 0.0196\n",
      "Training Accuracy: 0.9781, Testing Accuracy: 0.9758\n",
      "\n"
     ]
    },
    {
     "name": "stdout",
     "output_type": "stream",
     "text": [
      "Epoch 180, Loss 0.0192\n",
      "Training Accuracy: 0.9785, Testing Accuracy: 0.9748\n",
      "\n"
     ]
    },
    {
     "name": "stdout",
     "output_type": "stream",
     "text": [
      "Epoch 190, Loss 0.0187\n",
      "Training Accuracy: 0.9792, Testing Accuracy: 0.9763\n",
      "\n"
     ]
    },
    {
     "name": "stdout",
     "output_type": "stream",
     "text": [
      "Epoch 200, Loss 0.0183\n",
      "Training Accuracy: 0.9801, Testing Accuracy: 0.9773\n",
      "\n"
     ]
    },
    {
     "name": "stdout",
     "output_type": "stream",
     "text": [
      "Epoch 210, Loss 0.0179\n",
      "Training Accuracy: 0.9805, Testing Accuracy: 0.9773\n",
      "\n"
     ]
    },
    {
     "name": "stdout",
     "output_type": "stream",
     "text": [
      "Epoch 220, Loss 0.0175\n",
      "Training Accuracy: 0.9810, Testing Accuracy: 0.9778\n",
      "\n"
     ]
    },
    {
     "name": "stdout",
     "output_type": "stream",
     "text": [
      "Epoch 230, Loss 0.0172\n",
      "Training Accuracy: 0.9813, Testing Accuracy: 0.9778\n",
      "\n"
     ]
    },
    {
     "name": "stdout",
     "output_type": "stream",
     "text": [
      "Epoch 240, Loss 0.0168\n",
      "Training Accuracy: 0.9816, Testing Accuracy: 0.9778\n",
      "\n"
     ]
    },
    {
     "data": {
      "text/plain": [
       "0.04779779478069048"
      ]
     },
     "execution_count": 22,
     "metadata": {},
     "output_type": "execute_result"
    }
   ],
   "source": [
    "nn_learner.train_loop(dl)"
   ]
  },
  {
   "cell_type": "code",
   "execution_count": 23,
   "id": "e0163366",
   "metadata": {
    "execution": {
     "iopub.execute_input": "2022-02-17T10:10:13.457062Z",
     "iopub.status.busy": "2022-02-17T10:10:13.456457Z",
     "iopub.status.idle": "2022-02-17T10:10:29.317824Z",
     "shell.execute_reply": "2022-02-17T10:10:29.318685Z"
    },
    "papermill": {
     "duration": 15.914383,
     "end_time": "2022-02-17T10:10:29.318852",
     "exception": false,
     "start_time": "2022-02-17T10:10:13.404469",
     "status": "completed"
    },
    "tags": []
   },
   "outputs": [
    {
     "name": "stdout",
     "output_type": "stream",
     "text": [
      "Epoch 0, Loss 0.2705\n",
      "Training Accuracy: 0.5439, Testing Accuracy: 0.5000\n",
      "\n"
     ]
    },
    {
     "name": "stdout",
     "output_type": "stream",
     "text": [
      "Epoch 10, Loss 0.1085\n",
      "Training Accuracy: 0.9029, Testing Accuracy: 0.9148\n",
      "\n"
     ]
    },
    {
     "name": "stdout",
     "output_type": "stream",
     "text": [
      "Epoch 20, Loss 0.0816\n",
      "Training Accuracy: 0.9246, Testing Accuracy: 0.9380\n",
      "\n"
     ]
    },
    {
     "name": "stdout",
     "output_type": "stream",
     "text": [
      "Epoch 30, Loss 0.0696\n",
      "Training Accuracy: 0.9355, Testing Accuracy: 0.9471\n",
      "\n"
     ]
    },
    {
     "name": "stdout",
     "output_type": "stream",
     "text": [
      "Epoch 40, Loss 0.0625\n",
      "Training Accuracy: 0.9406, Testing Accuracy: 0.9496\n",
      "\n"
     ]
    },
    {
     "name": "stdout",
     "output_type": "stream",
     "text": [
      "Epoch 50, Loss 0.0578\n",
      "Training Accuracy: 0.9440, Testing Accuracy: 0.9536\n",
      "\n"
     ]
    },
    {
     "name": "stdout",
     "output_type": "stream",
     "text": [
      "Epoch 60, Loss 0.0543\n",
      "Training Accuracy: 0.9460, Testing Accuracy: 0.9546\n",
      "\n"
     ]
    },
    {
     "name": "stdout",
     "output_type": "stream",
     "text": [
      "Epoch 70, Loss 0.0516\n",
      "Training Accuracy: 0.9487, Testing Accuracy: 0.9577\n",
      "\n"
     ]
    },
    {
     "name": "stdout",
     "output_type": "stream",
     "text": [
      "Epoch 80, Loss 0.0495\n",
      "Training Accuracy: 0.9507, Testing Accuracy: 0.9582\n",
      "\n"
     ]
    },
    {
     "name": "stdout",
     "output_type": "stream",
     "text": [
      "Epoch 90, Loss 0.0478\n",
      "Training Accuracy: 0.9521, Testing Accuracy: 0.9602\n",
      "\n"
     ]
    },
    {
     "name": "stdout",
     "output_type": "stream",
     "text": [
      "Epoch 100, Loss 0.0463\n",
      "Training Accuracy: 0.9528, Testing Accuracy: 0.9612\n",
      "\n"
     ]
    },
    {
     "name": "stdout",
     "output_type": "stream",
     "text": [
      "Epoch 110, Loss 0.045\n",
      "Training Accuracy: 0.9538, Testing Accuracy: 0.9627\n",
      "\n"
     ]
    },
    {
     "name": "stdout",
     "output_type": "stream",
     "text": [
      "Epoch 120, Loss 0.044\n",
      "Training Accuracy: 0.9558, Testing Accuracy: 0.9632\n",
      "\n"
     ]
    },
    {
     "name": "stdout",
     "output_type": "stream",
     "text": [
      "Epoch 130, Loss 0.043\n",
      "Training Accuracy: 0.9564, Testing Accuracy: 0.9647\n",
      "\n"
     ]
    },
    {
     "name": "stdout",
     "output_type": "stream",
     "text": [
      "Epoch 140, Loss 0.0422\n",
      "Training Accuracy: 0.9570, Testing Accuracy: 0.9652\n",
      "\n"
     ]
    },
    {
     "name": "stdout",
     "output_type": "stream",
     "text": [
      "Epoch 150, Loss 0.0414\n",
      "Training Accuracy: 0.9575, Testing Accuracy: 0.9672\n",
      "\n"
     ]
    },
    {
     "name": "stdout",
     "output_type": "stream",
     "text": [
      "Epoch 160, Loss 0.0407\n",
      "Training Accuracy: 0.9584, Testing Accuracy: 0.9672\n",
      "\n"
     ]
    },
    {
     "name": "stdout",
     "output_type": "stream",
     "text": [
      "Epoch 170, Loss 0.0401\n",
      "Training Accuracy: 0.9587, Testing Accuracy: 0.9677\n",
      "\n"
     ]
    },
    {
     "name": "stdout",
     "output_type": "stream",
     "text": [
      "Epoch 180, Loss 0.0395\n",
      "Training Accuracy: 0.9591, Testing Accuracy: 0.9682\n",
      "\n"
     ]
    },
    {
     "name": "stdout",
     "output_type": "stream",
     "text": [
      "Epoch 190, Loss 0.039\n",
      "Training Accuracy: 0.9596, Testing Accuracy: 0.9677\n",
      "\n"
     ]
    },
    {
     "name": "stdout",
     "output_type": "stream",
     "text": [
      "Epoch 200, Loss 0.0385\n",
      "Training Accuracy: 0.9601, Testing Accuracy: 0.9677\n",
      "\n"
     ]
    },
    {
     "name": "stdout",
     "output_type": "stream",
     "text": [
      "Epoch 210, Loss 0.0381\n",
      "Training Accuracy: 0.9605, Testing Accuracy: 0.9682\n",
      "\n"
     ]
    },
    {
     "name": "stdout",
     "output_type": "stream",
     "text": [
      "Epoch 220, Loss 0.0377\n",
      "Training Accuracy: 0.9608, Testing Accuracy: 0.9682\n",
      "\n"
     ]
    },
    {
     "name": "stdout",
     "output_type": "stream",
     "text": [
      "Epoch 230, Loss 0.0373\n",
      "Training Accuracy: 0.9613, Testing Accuracy: 0.9688\n",
      "\n"
     ]
    },
    {
     "name": "stdout",
     "output_type": "stream",
     "text": [
      "Epoch 240, Loss 0.0369\n",
      "Training Accuracy: 0.9619, Testing Accuracy: 0.9688\n",
      "\n"
     ]
    },
    {
     "data": {
      "text/plain": [
       "0.0612880075426387"
      ]
     },
     "execution_count": 23,
     "metadata": {},
     "output_type": "execute_result"
    }
   ],
   "source": [
    "lr_learner.train_loop(dl)"
   ]
  },
  {
   "cell_type": "code",
   "execution_count": 24,
   "id": "ca410940",
   "metadata": {
    "execution": {
     "iopub.execute_input": "2022-02-17T10:10:29.425490Z",
     "iopub.status.busy": "2022-02-17T10:10:29.424867Z",
     "iopub.status.idle": "2022-02-17T10:10:29.685549Z",
     "shell.execute_reply": "2022-02-17T10:10:29.684377Z"
    },
    "papermill": {
     "duration": 0.319997,
     "end_time": "2022-02-17T10:10:29.685694",
     "exception": false,
     "start_time": "2022-02-17T10:10:29.365697",
     "status": "completed"
    },
    "tags": []
   },
   "outputs": [
    {
     "data": {
      "text/plain": [
       "<matplotlib.legend.Legend at 0x7fce80b58cc0>"
      ]
     },
     "execution_count": 24,
     "metadata": {},
     "output_type": "execute_result"
    },
    {
     "data": {
      "image/png": "[encoded data removed]",
      "text/plain": [
       "<Figure size 1080x720 with 1 Axes>"
      ]
     },
     "metadata": {
      "needs_background": "light"
     },
     "output_type": "display_data"
    }
   ],
   "source": [
    "#comparing the results of NN and LR\n",
    "plt.figure(figsize=(15,10))\n",
    "\n",
    "# Neural Network plots\n",
    "plt.plot(acc_nn.accuracies, 'r-', label = \"Training Accuracies - NN\")\n",
    "plt.plot(acc_nn.test_accuracies, 'g-', label = \"Testing Accuracies - NN\")\n",
    "\n",
    "# Logistic Regression plots\n",
    "plt.plot(acc_lr.accuracies, 'k-', label = \"Training Accuracies - LR\")\n",
    "plt.plot(acc_lr.test_accuracies, 'b-', label = \"Testing Accuracies - LR\")\n",
    "plt.legend()"
   ]
  },
  {
   "cell_type": "markdown",
   "id": "80dfb35c",
   "metadata": {
    "papermill": {
     "duration": 0.047334,
     "end_time": "2022-02-17T10:10:29.781952",
     "exception": false,
     "start_time": "2022-02-17T10:10:29.734618",
     "status": "completed"
    },
    "tags": []
   },
   "source": [
    "#### Plotting the outputs of this layer of the NN.\n"
   ]
  },
  {
   "cell_type": "code",
   "execution_count": 25,
   "id": "45eb2ff5",
   "metadata": {
    "execution": {
     "iopub.execute_input": "2022-02-17T10:10:29.880392Z",
     "iopub.status.busy": "2022-02-17T10:10:29.879283Z",
     "iopub.status.idle": "2022-02-17T10:10:29.900426Z",
     "shell.execute_reply": "2022-02-17T10:10:29.901228Z"
    },
    "papermill": {
     "duration": 0.072804,
     "end_time": "2022-02-17T10:10:29.901392",
     "exception": false,
     "start_time": "2022-02-17T10:10:29.828588",
     "status": "completed"
    },
    "tags": []
   },
   "outputs": [],
   "source": [
    "new_model = Model(layers[:-2])\n",
    "testing_plot = new_model(testing_data_x)"
   ]
  },
  {
   "cell_type": "code",
   "execution_count": 26,
   "id": "4c0a5485",
   "metadata": {
    "execution": {
     "iopub.execute_input": "2022-02-17T10:10:30.003583Z",
     "iopub.status.busy": "2022-02-17T10:10:30.002975Z",
     "iopub.status.idle": "2022-02-17T10:10:30.273854Z",
     "shell.execute_reply": "2022-02-17T10:10:30.273329Z"
    },
    "papermill": {
     "duration": 0.325265,
     "end_time": "2022-02-17T10:10:30.273989",
     "exception": false,
     "start_time": "2022-02-17T10:10:29.948724",
     "status": "completed"
    },
    "tags": []
   },
   "outputs": [
    {
     "data": {
      "text/plain": [
       "Text(0.5, 1.0, 'Outputs')"
      ]
     },
     "execution_count": 26,
     "metadata": {},
     "output_type": "execute_result"
    },
    {
     "data": {
      "image/png": "[encoded data removed]",
      "text/plain": [
       "<Figure size 576x504 with 1 Axes>"
      ]
     },
     "metadata": {
      "needs_background": "light"
     },
     "output_type": "display_data"
    }
   ],
   "source": [
    "# Plotting the scatter plot of points and color coding by class\n",
    "plt.figure(figsize=(8,7))\n",
    "plt.scatter(testing_plot[:,0], testing_plot[:,1], alpha = 0.1, c = y_test.ravel());\n",
    "plt.title('Outputs')"
   ]
  },
  {
   "cell_type": "markdown",
   "id": "a74fcf8f",
   "metadata": {
    "papermill": {
     "duration": 0.050759,
     "end_time": "2022-02-17T10:10:30.375943",
     "exception": false,
     "start_time": "2022-02-17T10:10:30.325184",
     "status": "completed"
    },
    "tags": []
   },
   "source": [
    "Probability contours"
   ]
  },
  {
   "cell_type": "code",
   "execution_count": 27,
   "id": "d0afc8e3",
   "metadata": {
    "execution": {
     "iopub.execute_input": "2022-02-17T10:10:30.487208Z",
     "iopub.status.busy": "2022-02-17T10:10:30.483885Z",
     "iopub.status.idle": "2022-02-17T10:10:30.497254Z",
     "shell.execute_reply": "2022-02-17T10:10:30.496764Z"
    },
    "papermill": {
     "duration": 0.070738,
     "end_time": "2022-02-17T10:10:30.497387",
     "exception": false,
     "start_time": "2022-02-17T10:10:30.426649",
     "status": "completed"
    },
    "tags": []
   },
   "outputs": [],
   "source": [
    "model_prob = Model(layers[-2:]) "
   ]
  },
  {
   "cell_type": "code",
   "execution_count": 28,
   "id": "9b96e238",
   "metadata": {
    "execution": {
     "iopub.execute_input": "2022-02-17T10:10:30.607066Z",
     "iopub.status.busy": "2022-02-17T10:10:30.606180Z",
     "iopub.status.idle": "2022-02-17T10:10:30.620617Z",
     "shell.execute_reply": "2022-02-17T10:10:30.621072Z"
    },
    "papermill": {
     "duration": 0.07281,
     "end_time": "2022-02-17T10:10:30.621229",
     "exception": false,
     "start_time": "2022-02-17T10:10:30.548419",
     "status": "completed"
    },
    "tags": []
   },
   "outputs": [],
   "source": [
    "#creating the x and y ranges according to the above generated plot.\n",
    "x_range = np.linspace(-4, 1, 100) \n",
    "y_range = np.linspace(-6, 6, 100) \n",
    "x_grid, y_grid = np.meshgrid(x_range, y_range) # x_grid and y_grig are of size 100 X 100\n",
    "\n",
    "# converting x_grid and y_grid to continuous arrays\n",
    "x_gridflat = np.ravel(x_grid)\n",
    "y_gridflat = np.ravel(y_grid)\n",
    "\n",
    "# The last layer of the current model takes two columns as input. Hence transpose of np.vstack() is required.\n",
    "X = np.vstack((x_gridflat, y_gridflat)).T\n",
    "\n",
    "prob_contour = model_prob(X).reshape(100,100) "
   ]
  },
  {
   "cell_type": "code",
   "execution_count": 29,
   "id": "da72499a",
   "metadata": {
    "execution": {
     "iopub.execute_input": "2022-02-17T10:10:30.761638Z",
     "iopub.status.busy": "2022-02-17T10:10:30.761014Z",
     "iopub.status.idle": "2022-02-17T10:10:31.055418Z",
     "shell.execute_reply": "2022-02-17T10:10:31.054479Z"
    },
    "papermill": {
     "duration": 0.351926,
     "end_time": "2022-02-17T10:10:31.055565",
     "exception": false,
     "start_time": "2022-02-17T10:10:30.703639",
     "status": "completed"
    },
    "tags": []
   },
   "outputs": [
    {
     "data": {
      "image/png": "[encoded data removed]",
      "text/plain": [
       "<Figure size 720x648 with 1 Axes>"
      ]
     },
     "metadata": {
      "needs_background": "light"
     },
     "output_type": "display_data"
    }
   ],
   "source": [
    "plt.figure(figsize=(10,9))\n",
    "plt.scatter(testing_plot[:,0], testing_plot[:,1], alpha = 0.1, c = y_test.ravel())\n",
    "contours = plt.contour(x_grid,y_grid,prob_contour)\n",
    "plt.title('Probability Contours')\n",
    "plt.clabel(contours, inline = True );"
   ]
  },
  {
   "cell_type": "code",
   "execution_count": null,
   "id": "e81b4ac7",
   "metadata": {
    "papermill": {
     "duration": 0.053726,
     "end_time": "2022-02-17T10:10:31.163856",
     "exception": false,
     "start_time": "2022-02-17T10:10:31.110130",
     "status": "completed"
    },
    "tags": []
   },
   "outputs": [],
   "source": []
  }
 ],
 "metadata": {
  "kernelspec": {
   "display_name": "Python 3",
   "language": "python",
   "name": "python3"
  },
  "language_info": {
   "codemirror_mode": {
    "name": "ipython",
    "version": 3
   },
   "file_extension": ".py",
   "mimetype": "text/x-python",
   "name": "python",
   "nbconvert_exporter": "python",
   "pygments_lexer": "ipython3",
   "version": "3.6.15"
  },
  "papermill": {
   "default_parameters": {},
   "duration": 114.333119,
   "end_time": "2022-02-17T10:10:31.638322",
   "environment_variables": {},
   "exception": null,
   "input_path": "2020-08-11-part2.ipynb",
   "output_path": "2020-08-11-part2.ipynb",
   "parameters": {},
   "start_time": "2022-02-17T10:08:37.305203",
   "version": "2.3.3"
  }
 },
 "nbformat": 4,
 "nbformat_minor": 5
}