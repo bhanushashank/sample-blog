{
 "cells": [
  {
   "cell_type": "markdown",
   "id": "98380cd3",
   "metadata": {
    "papermill": {
     "duration": 0.047382,
     "end_time": "2022-08-09T00:45:59.404930",
     "exception": false,
     "start_time": "2022-08-09T00:45:59.357548",
     "status": "completed"
    },
    "tags": []
   },
   "source": [
    "# Distinguish Your Own Digits (DYOD)"
   ]
  },
  {
   "cell_type": "markdown",
   "id": "ef31240d",
   "metadata": {
    "papermill": {
     "duration": 0.029271,
     "end_time": "2022-08-09T00:45:59.464829",
     "exception": false,
     "start_time": "2022-08-09T00:45:59.435558",
     "status": "completed"
    },
    "tags": []
   },
   "source": [
    "You are going to write a classifier that distinguishes between the number 3 and number 8."
   ]
  },
  {
   "cell_type": "code",
   "execution_count": 1,
   "id": "b15c8646",
   "metadata": {
    "execution": {
     "iopub.execute_input": "2022-08-09T00:45:59.538070Z",
     "iopub.status.busy": "2022-08-09T00:45:59.537092Z",
     "iopub.status.idle": "2022-08-09T00:45:59.550419Z",
     "shell.execute_reply": "2022-08-09T00:45:59.549807Z"
    },
    "papermill": {
     "duration": 0.056879,
     "end_time": "2022-08-09T00:45:59.550571",
     "exception": false,
     "start_time": "2022-08-09T00:45:59.493692",
     "status": "completed"
    },
    "tags": []
   },
   "outputs": [],
   "source": [
    "%load_ext autoreload\n",
    "%autoreload 2"
   ]
  },
  {
   "cell_type": "code",
   "execution_count": 2,
   "id": "22ef38dc",
   "metadata": {
    "execution": {
     "iopub.execute_input": "2022-08-09T00:45:59.615397Z",
     "iopub.status.busy": "2022-08-09T00:45:59.614630Z",
     "iopub.status.idle": "2022-08-09T00:46:00.263161Z",
     "shell.execute_reply": "2022-08-09T00:46:00.263773Z"
    },
    "papermill": {
     "duration": 0.683669,
     "end_time": "2022-08-09T00:46:00.263958",
     "exception": false,
     "start_time": "2022-08-09T00:45:59.580289",
     "status": "completed"
    },
    "tags": []
   },
   "outputs": [],
   "source": [
    "%matplotlib inline\n",
    "import numpy as np\n",
    "import matplotlib.pyplot as plt\n",
    "import pandas as pd"
   ]
  },
  {
   "cell_type": "markdown",
   "id": "ba036198",
   "metadata": {
    "papermill": {
     "duration": 0.03009,
     "end_time": "2022-08-09T00:46:00.325111",
     "exception": false,
     "start_time": "2022-08-09T00:46:00.295021",
     "status": "completed"
    },
    "tags": []
   },
   "source": [
    "From the command line run `pip install mnist`. This is a library that will help you bring down the mnist dataset. If you run this from a notebook, you need to put  `!pip install mnist` in a cell by itself."
   ]
  },
  {
   "cell_type": "code",
   "execution_count": 3,
   "id": "bb6ad8a1",
   "metadata": {
    "execution": {
     "iopub.execute_input": "2022-08-09T00:46:00.389973Z",
     "iopub.status.busy": "2022-08-09T00:46:00.389249Z",
     "iopub.status.idle": "2022-08-09T00:46:02.362462Z",
     "shell.execute_reply": "2022-08-09T00:46:02.361130Z"
    },
    "papermill": {
     "duration": 2.008573,
     "end_time": "2022-08-09T00:46:02.362654",
     "exception": false,
     "start_time": "2022-08-09T00:46:00.354081",
     "status": "completed"
    },
    "tags": []
   },
   "outputs": [
    {
     "name": "stdout",
     "output_type": "stream",
     "text": [
      "Collecting mnist\r\n"
     ]
    },
    {
     "name": "stdout",
     "output_type": "stream",
     "text": [
      "  Downloading mnist-0.2.2-py2.py3-none-any.whl (3.5 kB)\r\n",
      "Requirement already satisfied: numpy in /opt/hostedtoolcache/Python/3.6.15/x64/lib/python3.6/site-packages (from mnist) (1.19.5)\r\n"
     ]
    },
    {
     "name": "stdout",
     "output_type": "stream",
     "text": [
      "Installing collected packages: mnist\r\n",
      "Successfully installed mnist-0.2.2\r\n"
     ]
    }
   ],
   "source": [
    "!pip install mnist"
   ]
  },
  {
   "cell_type": "markdown",
   "id": "69df9c9a",
   "metadata": {
    "papermill": {
     "duration": 0.02912,
     "end_time": "2022-08-09T00:46:02.422573",
     "exception": false,
     "start_time": "2022-08-09T00:46:02.393453",
     "status": "completed"
    },
    "tags": []
   },
   "source": [
    "## Preparing the Data"
   ]
  },
  {
   "cell_type": "code",
   "execution_count": 4,
   "id": "7f69d806",
   "metadata": {
    "execution": {
     "iopub.execute_input": "2022-08-09T00:46:02.490382Z",
     "iopub.status.busy": "2022-08-09T00:46:02.486020Z",
     "iopub.status.idle": "2022-08-09T00:46:02.505938Z",
     "shell.execute_reply": "2022-08-09T00:46:02.505350Z"
    },
    "papermill": {
     "duration": 0.054456,
     "end_time": "2022-08-09T00:46:02.506074",
     "exception": false,
     "start_time": "2022-08-09T00:46:02.451618",
     "status": "completed"
    },
    "tags": []
   },
   "outputs": [],
   "source": [
    "import mnist"
   ]
  },
  {
   "cell_type": "code",
   "execution_count": 5,
   "id": "a411e44f",
   "metadata": {
    "execution": {
     "iopub.execute_input": "2022-08-09T00:46:02.572654Z",
     "iopub.status.busy": "2022-08-09T00:46:02.569291Z",
     "iopub.status.idle": "2022-08-09T00:46:03.311585Z",
     "shell.execute_reply": "2022-08-09T00:46:03.310938Z"
    },
    "papermill": {
     "duration": 0.776415,
     "end_time": "2022-08-09T00:46:03.311765",
     "exception": false,
     "start_time": "2022-08-09T00:46:02.535350",
     "status": "completed"
    },
    "tags": []
   },
   "outputs": [],
   "source": [
    "train_images = mnist.train_images()\n",
    "train_labels = mnist.train_labels()"
   ]
  },
  {
   "cell_type": "code",
   "execution_count": 6,
   "id": "dceab3a5",
   "metadata": {
    "execution": {
     "iopub.execute_input": "2022-08-09T00:46:03.377695Z",
     "iopub.status.busy": "2022-08-09T00:46:03.376981Z",
     "iopub.status.idle": "2022-08-09T00:46:03.395801Z",
     "shell.execute_reply": "2022-08-09T00:46:03.395220Z"
    },
    "papermill": {
     "duration": 0.054816,
     "end_time": "2022-08-09T00:46:03.395940",
     "exception": false,
     "start_time": "2022-08-09T00:46:03.341124",
     "status": "completed"
    },
    "tags": []
   },
   "outputs": [
    {
     "data": {
      "text/plain": [
       "((60000, 28, 28), (60000,))"
      ]
     },
     "execution_count": 6,
     "metadata": {},
     "output_type": "execute_result"
    }
   ],
   "source": [
    "train_images.shape, train_labels.shape"
   ]
  },
  {
   "cell_type": "code",
   "execution_count": 7,
   "id": "f50dc2bb",
   "metadata": {
    "execution": {
     "iopub.execute_input": "2022-08-09T00:46:03.459497Z",
     "iopub.status.busy": "2022-08-09T00:46:03.458789Z",
     "iopub.status.idle": "2022-08-09T00:46:03.717829Z",
     "shell.execute_reply": "2022-08-09T00:46:03.716838Z"
    },
    "papermill": {
     "duration": 0.292877,
     "end_time": "2022-08-09T00:46:03.717977",
     "exception": false,
     "start_time": "2022-08-09T00:46:03.425100",
     "status": "completed"
    },
    "tags": []
   },
   "outputs": [],
   "source": [
    "test_images = mnist.test_images()\n",
    "test_labels = mnist.test_labels()"
   ]
  },
  {
   "cell_type": "code",
   "execution_count": 8,
   "id": "fc38cf1b",
   "metadata": {
    "execution": {
     "iopub.execute_input": "2022-08-09T00:46:03.784037Z",
     "iopub.status.busy": "2022-08-09T00:46:03.783284Z",
     "iopub.status.idle": "2022-08-09T00:46:03.799090Z",
     "shell.execute_reply": "2022-08-09T00:46:03.799795Z"
    },
    "papermill": {
     "duration": 0.052467,
     "end_time": "2022-08-09T00:46:03.799956",
     "exception": false,
     "start_time": "2022-08-09T00:46:03.747489",
     "status": "completed"
    },
    "tags": []
   },
   "outputs": [
    {
     "data": {
      "text/plain": [
       "((10000, 28, 28), (10000,))"
      ]
     },
     "execution_count": 8,
     "metadata": {},
     "output_type": "execute_result"
    }
   ],
   "source": [
    "test_images.shape, test_labels.shape"
   ]
  },
  {
   "cell_type": "code",
   "execution_count": 9,
   "id": "f9ed8fe0",
   "metadata": {
    "execution": {
     "iopub.execute_input": "2022-08-09T00:46:03.865280Z",
     "iopub.status.busy": "2022-08-09T00:46:03.864575Z",
     "iopub.status.idle": "2022-08-09T00:46:04.043836Z",
     "shell.execute_reply": "2022-08-09T00:46:04.043211Z"
    },
    "papermill": {
     "duration": 0.21372,
     "end_time": "2022-08-09T00:46:04.043978",
     "exception": false,
     "start_time": "2022-08-09T00:46:03.830258",
     "status": "completed"
    },
    "tags": []
   },
   "outputs": [
    {
     "name": "stdout",
     "output_type": "stream",
     "text": [
      "2\n"
     ]
    },
    {
     "data": {
      "text/plain": [
       "<matplotlib.image.AxesImage at 0x7fe87bdee4e0>"
      ]
     },
     "execution_count": 9,
     "metadata": {},
     "output_type": "execute_result"
    },
    {
     "data": {
      "image/png": "[encoded data removed]",
      "text/plain": [
       "<Figure size 432x288 with 1 Axes>"
      ]
     },
     "metadata": {
      "needs_background": "light"
     },
     "output_type": "display_data"
    }
   ],
   "source": [
    "image_index = 7776 # You may select anything up to 60,000\n",
    "print(train_labels[image_index]) \n",
    "plt.imshow(train_images[image_index], cmap='Greys')"
   ]
  },
  {
   "cell_type": "markdown",
   "id": "a8d2388d",
   "metadata": {
    "papermill": {
     "duration": 0.031857,
     "end_time": "2022-08-09T00:46:04.108011",
     "exception": false,
     "start_time": "2022-08-09T00:46:04.076154",
     "status": "completed"
    },
    "tags": []
   },
   "source": [
    "## Filter data to get 3 and 8 out"
   ]
  },
  {
   "cell_type": "code",
   "execution_count": 10,
   "id": "776f7fc7",
   "metadata": {
    "execution": {
     "iopub.execute_input": "2022-08-09T00:46:04.182682Z",
     "iopub.status.busy": "2022-08-09T00:46:04.181365Z",
     "iopub.status.idle": "2022-08-09T00:46:04.199874Z",
     "shell.execute_reply": "2022-08-09T00:46:04.199249Z"
    },
    "papermill": {
     "duration": 0.060627,
     "end_time": "2022-08-09T00:46:04.200012",
     "exception": false,
     "start_time": "2022-08-09T00:46:04.139385",
     "status": "completed"
    },
    "tags": []
   },
   "outputs": [],
   "source": [
    "train_filter = np.where((train_labels == 3 ) | (train_labels == 8))\n",
    "test_filter = np.where((test_labels == 3) | (test_labels == 8))\n",
    "X_train, y_train = train_images[train_filter], train_labels[train_filter]\n",
    "X_test, y_test = test_images[test_filter], test_labels[test_filter]"
   ]
  },
  {
   "cell_type": "markdown",
   "id": "948f0b7e",
   "metadata": {
    "papermill": {
     "duration": 0.031379,
     "end_time": "2022-08-09T00:46:04.262438",
     "exception": false,
     "start_time": "2022-08-09T00:46:04.231059",
     "status": "completed"
    },
    "tags": []
   },
   "source": [
    "We normalize the pizel values in the 0 to 1 range"
   ]
  },
  {
   "cell_type": "code",
   "execution_count": 11,
   "id": "ee4c2166",
   "metadata": {
    "execution": {
     "iopub.execute_input": "2022-08-09T00:46:04.331105Z",
     "iopub.status.busy": "2022-08-09T00:46:04.329304Z",
     "iopub.status.idle": "2022-08-09T00:46:04.387379Z",
     "shell.execute_reply": "2022-08-09T00:46:04.386732Z"
    },
    "papermill": {
     "duration": 0.094158,
     "end_time": "2022-08-09T00:46:04.387522",
     "exception": false,
     "start_time": "2022-08-09T00:46:04.293364",
     "status": "completed"
    },
    "tags": []
   },
   "outputs": [],
   "source": [
    "X_train = X_train/255.\n",
    "X_test = X_test/255."
   ]
  },
  {
   "cell_type": "markdown",
   "id": "ddcf4fab",
   "metadata": {
    "papermill": {
     "duration": 0.0316,
     "end_time": "2022-08-09T00:46:04.451521",
     "exception": false,
     "start_time": "2022-08-09T00:46:04.419921",
     "status": "completed"
    },
    "tags": []
   },
   "source": [
    "And setup the labels as 1 (when the digit is 3) and 0 (when the digit is 8)"
   ]
  },
  {
   "cell_type": "code",
   "execution_count": 12,
   "id": "7dc908f2",
   "metadata": {
    "execution": {
     "iopub.execute_input": "2022-08-09T00:46:04.527100Z",
     "iopub.status.busy": "2022-08-09T00:46:04.525037Z",
     "iopub.status.idle": "2022-08-09T00:46:04.540008Z",
     "shell.execute_reply": "2022-08-09T00:46:04.540568Z"
    },
    "papermill": {
     "duration": 0.055825,
     "end_time": "2022-08-09T00:46:04.540725",
     "exception": false,
     "start_time": "2022-08-09T00:46:04.484900",
     "status": "completed"
    },
    "tags": []
   },
   "outputs": [],
   "source": [
    "y_train = 1*(y_train==3)\n",
    "y_test = 1*(y_test==3)"
   ]
  },
  {
   "cell_type": "code",
   "execution_count": 13,
   "id": "01e4e969",
   "metadata": {
    "execution": {
     "iopub.execute_input": "2022-08-09T00:46:04.613652Z",
     "iopub.status.busy": "2022-08-09T00:46:04.609981Z",
     "iopub.status.idle": "2022-08-09T00:46:04.628227Z",
     "shell.execute_reply": "2022-08-09T00:46:04.627614Z"
    },
    "papermill": {
     "duration": 0.055899,
     "end_time": "2022-08-09T00:46:04.628358",
     "exception": false,
     "start_time": "2022-08-09T00:46:04.572459",
     "status": "completed"
    },
    "tags": []
   },
   "outputs": [
    {
     "data": {
      "text/plain": [
       "((11982, 28, 28), (1984, 28, 28))"
      ]
     },
     "execution_count": 13,
     "metadata": {},
     "output_type": "execute_result"
    }
   ],
   "source": [
    "X_train.shape, X_test.shape"
   ]
  },
  {
   "cell_type": "markdown",
   "id": "5ccf3f85",
   "metadata": {
    "papermill": {
     "duration": 0.032431,
     "end_time": "2022-08-09T00:46:04.696519",
     "exception": false,
     "start_time": "2022-08-09T00:46:04.664088",
     "status": "completed"
    },
    "tags": []
   },
   "source": [
    "We reshape the data to flatten the image pixels into a set of features or co-variates:"
   ]
  },
  {
   "cell_type": "code",
   "execution_count": 14,
   "id": "5286a4a3",
   "metadata": {
    "execution": {
     "iopub.execute_input": "2022-08-09T00:46:04.767570Z",
     "iopub.status.busy": "2022-08-09T00:46:04.765476Z",
     "iopub.status.idle": "2022-08-09T00:46:04.784743Z",
     "shell.execute_reply": "2022-08-09T00:46:04.784008Z"
    },
    "papermill": {
     "duration": 0.056285,
     "end_time": "2022-08-09T00:46:04.784883",
     "exception": false,
     "start_time": "2022-08-09T00:46:04.728598",
     "status": "completed"
    },
    "tags": []
   },
   "outputs": [
    {
     "data": {
      "text/plain": [
       "((11982, 784), (1984, 784))"
      ]
     },
     "execution_count": 14,
     "metadata": {},
     "output_type": "execute_result"
    }
   ],
   "source": [
    "X_train = X_train.reshape(X_train.shape[0], -1)\n",
    "X_test = X_test.reshape(X_test.shape[0], -1)\n",
    "X_train.shape, X_test.shape"
   ]
  },
  {
   "cell_type": "code",
   "execution_count": 15,
   "id": "73c5f88a",
   "metadata": {
    "execution": {
     "iopub.execute_input": "2022-08-09T00:46:04.854607Z",
     "iopub.status.busy": "2022-08-09T00:46:04.853738Z",
     "iopub.status.idle": "2022-08-09T00:46:04.877580Z",
     "shell.execute_reply": "2022-08-09T00:46:04.876955Z"
    },
    "papermill": {
     "duration": 0.060881,
     "end_time": "2022-08-09T00:46:04.877722",
     "exception": false,
     "start_time": "2022-08-09T00:46:04.816841",
     "status": "completed"
    },
    "tags": []
   },
   "outputs": [],
   "source": [
    "#Impoting functions from 'Kudzu'\n",
    "from kudzu.model import Model\n",
    "from kudzu.train import Learner\n",
    "from kudzu.optim import GD\n",
    "from kudzu.data import Data, Sampler,Dataloader\n",
    "\n",
    "from kudzu.callbacks import AccCallback\n",
    "from kudzu.callbacks import ClfCallback\n",
    "\n",
    "from kudzu.loss import MSE\n",
    "\n",
    "from kudzu.layer import Sigmoid,Relu\n",
    "from kudzu.layer import Affine"
   ]
  },
  {
   "cell_type": "markdown",
   "id": "bc01172a",
   "metadata": {
    "papermill": {
     "duration": 0.038022,
     "end_time": "2022-08-09T00:46:04.952783",
     "exception": false,
     "start_time": "2022-08-09T00:46:04.914761",
     "status": "completed"
    },
    "tags": []
   },
   "source": [
    "### Let us create a `Config` class, to store important parameters. \n",
    "This class essentially plays the role of a dictionary."
   ]
  },
  {
   "cell_type": "code",
   "execution_count": 16,
   "id": "978281aa",
   "metadata": {
    "execution": {
     "iopub.execute_input": "2022-08-09T00:46:05.029921Z",
     "iopub.status.busy": "2022-08-09T00:46:05.028707Z",
     "iopub.status.idle": "2022-08-09T00:46:05.045669Z",
     "shell.execute_reply": "2022-08-09T00:46:05.045072Z"
    },
    "papermill": {
     "duration": 0.056549,
     "end_time": "2022-08-09T00:46:05.045804",
     "exception": false,
     "start_time": "2022-08-09T00:46:04.989255",
     "status": "completed"
    },
    "tags": []
   },
   "outputs": [],
   "source": [
    "class Config:\n",
    "    pass\n",
    "config = Config()\n",
    "config.lr = 0.001\n",
    "config.num_epochs = 250\n",
    "config.bs = 50"
   ]
  },
  {
   "cell_type": "markdown",
   "id": "1385fa59",
   "metadata": {
    "papermill": {
     "duration": 0.03374,
     "end_time": "2022-08-09T00:46:05.112722",
     "exception": false,
     "start_time": "2022-08-09T00:46:05.078982",
     "status": "completed"
    },
    "tags": []
   },
   "source": [
    "### Running Models with the Training data\n",
    "Details about the network layers:\n",
    "- A first affine layer has 784 inputs and does 100 affine transforms. These are followed by a Relu\n",
    "- A second affine layer has 100 inputs from the 100 activations of the past layer, and does 100 affine transforms. These are followed by a Relu\n",
    "- A third affine layer has 100 activations and does 2 affine transformations to create an embedding for visualization. There is no non-linearity here.\n",
    "- A final \"logistic regression\" which has an affine transform from 2 inputs to 1 output, which is squeezed through a sigmoid.\n"
   ]
  },
  {
   "cell_type": "code",
   "execution_count": 17,
   "id": "2b9c66db",
   "metadata": {
    "execution": {
     "iopub.execute_input": "2022-08-09T00:46:05.185442Z",
     "iopub.status.busy": "2022-08-09T00:46:05.184252Z",
     "iopub.status.idle": "2022-08-09T00:46:05.199212Z",
     "shell.execute_reply": "2022-08-09T00:46:05.198614Z"
    },
    "papermill": {
     "duration": 0.053793,
     "end_time": "2022-08-09T00:46:05.199346",
     "exception": false,
     "start_time": "2022-08-09T00:46:05.145553",
     "status": "completed"
    },
    "tags": []
   },
   "outputs": [],
   "source": [
    "data = Data(X_train, y_train.reshape(-1,1))\n",
    "sampler = Sampler(data, config.bs, shuffle=True)\n",
    "\n",
    "dl = Dataloader(data, sampler)\n",
    "\n",
    "opt = GD(config.lr)\n",
    "loss = MSE()"
   ]
  },
  {
   "cell_type": "code",
   "execution_count": 18,
   "id": "b275e4c2",
   "metadata": {
    "execution": {
     "iopub.execute_input": "2022-08-09T00:46:05.269593Z",
     "iopub.status.busy": "2022-08-09T00:46:05.268883Z",
     "iopub.status.idle": "2022-08-09T00:46:05.283568Z",
     "shell.execute_reply": "2022-08-09T00:46:05.282986Z"
    },
    "papermill": {
     "duration": 0.052606,
     "end_time": "2022-08-09T00:46:05.283726",
     "exception": false,
     "start_time": "2022-08-09T00:46:05.231120",
     "status": "completed"
    },
    "tags": []
   },
   "outputs": [],
   "source": [
    "training_data_x = X_train\n",
    "testing_data_x = X_test\n",
    "training_data_y = y_train.reshape(-1,1)\n",
    "testing_data_y = y_test.reshape(-1,1)"
   ]
  },
  {
   "cell_type": "code",
   "execution_count": 19,
   "id": "76951160",
   "metadata": {
    "execution": {
     "iopub.execute_input": "2022-08-09T00:46:05.357830Z",
     "iopub.status.busy": "2022-08-09T00:46:05.357039Z",
     "iopub.status.idle": "2022-08-09T00:46:05.378327Z",
     "shell.execute_reply": "2022-08-09T00:46:05.378905Z"
    },
    "papermill": {
     "duration": 0.063633,
     "end_time": "2022-08-09T00:46:05.379063",
     "exception": false,
     "start_time": "2022-08-09T00:46:05.315430",
     "status": "completed"
    },
    "tags": []
   },
   "outputs": [
    {
     "name": "stdout",
     "output_type": "stream",
     "text": [
      "xavier\n",
      "xavier\n",
      "xavier\n",
      "xavier\n",
      "xavier\n"
     ]
    }
   ],
   "source": [
    "layers = [Affine(\"first\", 784, 100), Relu(\"first\"), Affine(\"second\", 100, 100), Relu(\"second\"), Affine(\"third\", 100, 2), Affine(\"last\", 2, 1), Sigmoid(\"last\")]\n",
    "model_nn = Model(layers)\n",
    "model_lr = Model([Affine(\"logits\", 784, 1), Sigmoid(\"sigmoid\")])"
   ]
  },
  {
   "cell_type": "code",
   "execution_count": 20,
   "id": "6eede77a",
   "metadata": {
    "execution": {
     "iopub.execute_input": "2022-08-09T00:46:05.448909Z",
     "iopub.status.busy": "2022-08-09T00:46:05.448176Z",
     "iopub.status.idle": "2022-08-09T00:46:05.466121Z",
     "shell.execute_reply": "2022-08-09T00:46:05.466702Z"
    },
    "papermill": {
     "duration": 0.05483,
     "end_time": "2022-08-09T00:46:05.466855",
     "exception": false,
     "start_time": "2022-08-09T00:46:05.412025",
     "status": "completed"
    },
    "tags": []
   },
   "outputs": [],
   "source": [
    "nn_learner = Learner(loss, model_nn, opt, config.num_epochs)\n",
    "acc_nn = ClfCallback(nn_learner, config.bs, training_data_x , testing_data_x, training_data_y, testing_data_y)\n",
    "nn_learner.set_callbacks([acc_nn])"
   ]
  },
  {
   "cell_type": "code",
   "execution_count": 21,
   "id": "877b6cc7",
   "metadata": {
    "execution": {
     "iopub.execute_input": "2022-08-09T00:46:05.536613Z",
     "iopub.status.busy": "2022-08-09T00:46:05.535890Z",
     "iopub.status.idle": "2022-08-09T00:46:05.552161Z",
     "shell.execute_reply": "2022-08-09T00:46:05.551542Z"
    },
    "papermill": {
     "duration": 0.053412,
     "end_time": "2022-08-09T00:46:05.552294",
     "exception": false,
     "start_time": "2022-08-09T00:46:05.498882",
     "status": "completed"
    },
    "tags": []
   },
   "outputs": [],
   "source": [
    "lr_learner = Learner(loss, model_lr, opt, config.num_epochs)\n",
    "acc_lr = ClfCallback(lr_learner, config.bs, training_data_x , testing_data_x, training_data_y, testing_data_y)\n",
    "lr_learner.set_callbacks([acc_lr])"
   ]
  },
  {
   "cell_type": "code",
   "execution_count": 22,
   "id": "d9b133c3",
   "metadata": {
    "execution": {
     "iopub.execute_input": "2022-08-09T00:46:05.631431Z",
     "iopub.status.busy": "2022-08-09T00:46:05.630311Z",
     "iopub.status.idle": "2022-08-09T00:47:37.337812Z",
     "shell.execute_reply": "2022-08-09T00:47:37.338877Z"
    },
    "papermill": {
     "duration": 91.75149,
     "end_time": "2022-08-09T00:47:37.339063",
     "exception": false,
     "start_time": "2022-08-09T00:46:05.587573",
     "status": "completed"
    },
    "tags": []
   },
   "outputs": [
    {
     "name": "stdout",
     "output_type": "stream",
     "text": [
      "Epoch 0, Loss 0.2517\n",
      "Training Accuracy: 0.5774, Testing Accuracy: 0.5635\n",
      "\n"
     ]
    },
    {
     "name": "stdout",
     "output_type": "stream",
     "text": [
      "Epoch 10, Loss 0.0859\n",
      "Training Accuracy: 0.9217, Testing Accuracy: 0.9294\n",
      "\n"
     ]
    },
    {
     "name": "stdout",
     "output_type": "stream",
     "text": [
      "Epoch 20, Loss 0.0527\n",
      "Training Accuracy: 0.9453, Testing Accuracy: 0.9551\n",
      "\n"
     ]
    },
    {
     "name": "stdout",
     "output_type": "stream",
     "text": [
      "Epoch 30, Loss 0.0416\n",
      "Training Accuracy: 0.9559, Testing Accuracy: 0.9582\n",
      "\n"
     ]
    },
    {
     "name": "stdout",
     "output_type": "stream",
     "text": [
      "Epoch 40, Loss 0.0361\n",
      "Training Accuracy: 0.9604, Testing Accuracy: 0.9632\n",
      "\n"
     ]
    },
    {
     "name": "stdout",
     "output_type": "stream",
     "text": [
      "Epoch 50, Loss 0.0328\n",
      "Training Accuracy: 0.9627, Testing Accuracy: 0.9667\n",
      "\n"
     ]
    },
    {
     "name": "stdout",
     "output_type": "stream",
     "text": [
      "Epoch 60, Loss 0.0305\n",
      "Training Accuracy: 0.9665, Testing Accuracy: 0.9672\n",
      "\n"
     ]
    },
    {
     "name": "stdout",
     "output_type": "stream",
     "text": [
      "Epoch 70, Loss 0.0288\n",
      "Training Accuracy: 0.9684, Testing Accuracy: 0.9698\n",
      "\n"
     ]
    },
    {
     "name": "stdout",
     "output_type": "stream",
     "text": [
      "Epoch 80, Loss 0.0274\n",
      "Training Accuracy: 0.9701, Testing Accuracy: 0.9698\n",
      "\n"
     ]
    },
    {
     "name": "stdout",
     "output_type": "stream",
     "text": [
      "Epoch 90, Loss 0.0262\n",
      "Training Accuracy: 0.9713, Testing Accuracy: 0.9698\n",
      "\n"
     ]
    },
    {
     "name": "stdout",
     "output_type": "stream",
     "text": [
      "Epoch 100, Loss 0.0252\n",
      "Training Accuracy: 0.9723, Testing Accuracy: 0.9713\n",
      "\n"
     ]
    },
    {
     "name": "stdout",
     "output_type": "stream",
     "text": [
      "Epoch 110, Loss 0.0244\n",
      "Training Accuracy: 0.9730, Testing Accuracy: 0.9728\n",
      "\n"
     ]
    },
    {
     "name": "stdout",
     "output_type": "stream",
     "text": [
      "Epoch 120, Loss 0.0236\n",
      "Training Accuracy: 0.9737, Testing Accuracy: 0.9743\n",
      "\n"
     ]
    },
    {
     "name": "stdout",
     "output_type": "stream",
     "text": [
      "Epoch 130, Loss 0.023\n",
      "Training Accuracy: 0.9746, Testing Accuracy: 0.9743\n",
      "\n"
     ]
    },
    {
     "name": "stdout",
     "output_type": "stream",
     "text": [
      "Epoch 140, Loss 0.0223\n",
      "Training Accuracy: 0.9750, Testing Accuracy: 0.9753\n",
      "\n"
     ]
    },
    {
     "name": "stdout",
     "output_type": "stream",
     "text": [
      "Epoch 150, Loss 0.0217\n",
      "Training Accuracy: 0.9755, Testing Accuracy: 0.9758\n",
      "\n"
     ]
    },
    {
     "name": "stdout",
     "output_type": "stream",
     "text": [
      "Epoch 160, Loss 0.0212\n",
      "Training Accuracy: 0.9759, Testing Accuracy: 0.9748\n",
      "\n"
     ]
    },
    {
     "name": "stdout",
     "output_type": "stream",
     "text": [
      "Epoch 170, Loss 0.0207\n",
      "Training Accuracy: 0.9767, Testing Accuracy: 0.9753\n",
      "\n"
     ]
    },
    {
     "name": "stdout",
     "output_type": "stream",
     "text": [
      "Epoch 180, Loss 0.0202\n",
      "Training Accuracy: 0.9773, Testing Accuracy: 0.9758\n",
      "\n"
     ]
    },
    {
     "name": "stdout",
     "output_type": "stream",
     "text": [
      "Epoch 190, Loss 0.0197\n",
      "Training Accuracy: 0.9776, Testing Accuracy: 0.9758\n",
      "\n"
     ]
    },
    {
     "name": "stdout",
     "output_type": "stream",
     "text": [
      "Epoch 200, Loss 0.0193\n",
      "Training Accuracy: 0.9789, Testing Accuracy: 0.9753\n",
      "\n"
     ]
    },
    {
     "name": "stdout",
     "output_type": "stream",
     "text": [
      "Epoch 210, Loss 0.0189\n",
      "Training Accuracy: 0.9791, Testing Accuracy: 0.9758\n",
      "\n"
     ]
    },
    {
     "name": "stdout",
     "output_type": "stream",
     "text": [
      "Epoch 220, Loss 0.0185\n",
      "Training Accuracy: 0.9797, Testing Accuracy: 0.9758\n",
      "\n"
     ]
    },
    {
     "name": "stdout",
     "output_type": "stream",
     "text": [
      "Epoch 230, Loss 0.0181\n",
      "Training Accuracy: 0.9802, Testing Accuracy: 0.9758\n",
      "\n"
     ]
    },
    {
     "name": "stdout",
     "output_type": "stream",
     "text": [
      "Epoch 240, Loss 0.0177\n",
      "Training Accuracy: 0.9812, Testing Accuracy: 0.9768\n",
      "\n"
     ]
    },
    {
     "data": {
      "text/plain": [
       "0.0256720597829088"
      ]
     },
     "execution_count": 22,
     "metadata": {},
     "output_type": "execute_result"
    }
   ],
   "source": [
    "nn_learner.train_loop(dl)"
   ]
  },
  {
   "cell_type": "code",
   "execution_count": 23,
   "id": "e0163366",
   "metadata": {
    "execution": {
     "iopub.execute_input": "2022-08-09T00:47:37.442029Z",
     "iopub.status.busy": "2022-08-09T00:47:37.441311Z",
     "iopub.status.idle": "2022-08-09T00:47:53.692836Z",
     "shell.execute_reply": "2022-08-09T00:47:53.693844Z"
    },
    "papermill": {
     "duration": 16.314044,
     "end_time": "2022-08-09T00:47:53.694019",
     "exception": false,
     "start_time": "2022-08-09T00:47:37.379975",
     "status": "completed"
    },
    "tags": []
   },
   "outputs": [
    {
     "name": "stdout",
     "output_type": "stream",
     "text": [
      "Epoch 0, Loss 0.2886\n",
      "Training Accuracy: 0.5129, Testing Accuracy: 0.5383\n",
      "\n"
     ]
    },
    {
     "name": "stdout",
     "output_type": "stream",
     "text": [
      "Epoch 10, Loss 0.105\n",
      "Training Accuracy: 0.9104, Testing Accuracy: 0.9279\n",
      "\n"
     ]
    },
    {
     "name": "stdout",
     "output_type": "stream",
     "text": [
      "Epoch 20, Loss 0.0798\n",
      "Training Accuracy: 0.9262, Testing Accuracy: 0.9446\n",
      "\n"
     ]
    },
    {
     "name": "stdout",
     "output_type": "stream",
     "text": [
      "Epoch 30, Loss 0.0687\n",
      "Training Accuracy: 0.9346, Testing Accuracy: 0.9496\n",
      "\n"
     ]
    },
    {
     "name": "stdout",
     "output_type": "stream",
     "text": [
      "Epoch 40, Loss 0.062\n",
      "Training Accuracy: 0.9399, Testing Accuracy: 0.9551\n",
      "\n"
     ]
    },
    {
     "name": "stdout",
     "output_type": "stream",
     "text": [
      "Epoch 50, Loss 0.0575\n",
      "Training Accuracy: 0.9428, Testing Accuracy: 0.9561\n",
      "\n"
     ]
    },
    {
     "name": "stdout",
     "output_type": "stream",
     "text": [
      "Epoch 60, Loss 0.0541\n",
      "Training Accuracy: 0.9454, Testing Accuracy: 0.9577\n",
      "\n"
     ]
    },
    {
     "name": "stdout",
     "output_type": "stream",
     "text": [
      "Epoch 70, Loss 0.0515\n",
      "Training Accuracy: 0.9483, Testing Accuracy: 0.9612\n",
      "\n"
     ]
    },
    {
     "name": "stdout",
     "output_type": "stream",
     "text": [
      "Epoch 80, Loss 0.0494\n",
      "Training Accuracy: 0.9502, Testing Accuracy: 0.9632\n",
      "\n"
     ]
    },
    {
     "name": "stdout",
     "output_type": "stream",
     "text": [
      "Epoch 90, Loss 0.0477\n",
      "Training Accuracy: 0.9516, Testing Accuracy: 0.9637\n",
      "\n"
     ]
    },
    {
     "name": "stdout",
     "output_type": "stream",
     "text": [
      "Epoch 100, Loss 0.0463\n",
      "Training Accuracy: 0.9528, Testing Accuracy: 0.9647\n",
      "\n"
     ]
    },
    {
     "name": "stdout",
     "output_type": "stream",
     "text": [
      "Epoch 110, Loss 0.045\n",
      "Training Accuracy: 0.9541, Testing Accuracy: 0.9657\n",
      "\n"
     ]
    },
    {
     "name": "stdout",
     "output_type": "stream",
     "text": [
      "Epoch 120, Loss 0.0439\n",
      "Training Accuracy: 0.9548, Testing Accuracy: 0.9662\n",
      "\n"
     ]
    },
    {
     "name": "stdout",
     "output_type": "stream",
     "text": [
      "Epoch 130, Loss 0.043\n",
      "Training Accuracy: 0.9558, Testing Accuracy: 0.9662\n",
      "\n"
     ]
    },
    {
     "name": "stdout",
     "output_type": "stream",
     "text": [
      "Epoch 140, Loss 0.0422\n",
      "Training Accuracy: 0.9564, Testing Accuracy: 0.9662\n",
      "\n"
     ]
    },
    {
     "name": "stdout",
     "output_type": "stream",
     "text": [
      "Epoch 150, Loss 0.0414\n",
      "Training Accuracy: 0.9569, Testing Accuracy: 0.9672\n",
      "\n"
     ]
    },
    {
     "name": "stdout",
     "output_type": "stream",
     "text": [
      "Epoch 160, Loss 0.0407\n",
      "Training Accuracy: 0.9574, Testing Accuracy: 0.9667\n",
      "\n"
     ]
    },
    {
     "name": "stdout",
     "output_type": "stream",
     "text": [
      "Epoch 170, Loss 0.0401\n",
      "Training Accuracy: 0.9582, Testing Accuracy: 0.9672\n",
      "\n"
     ]
    },
    {
     "name": "stdout",
     "output_type": "stream",
     "text": [
      "Epoch 180, Loss 0.0395\n",
      "Training Accuracy: 0.9587, Testing Accuracy: 0.9672\n",
      "\n"
     ]
    },
    {
     "name": "stdout",
     "output_type": "stream",
     "text": [
      "Epoch 190, Loss 0.039\n",
      "Training Accuracy: 0.9588, Testing Accuracy: 0.9672\n",
      "\n"
     ]
    },
    {
     "name": "stdout",
     "output_type": "stream",
     "text": [
      "Epoch 200, Loss 0.0385\n",
      "Training Accuracy: 0.9593, Testing Accuracy: 0.9677\n",
      "\n"
     ]
    },
    {
     "name": "stdout",
     "output_type": "stream",
     "text": [
      "Epoch 210, Loss 0.0381\n",
      "Training Accuracy: 0.9594, Testing Accuracy: 0.9677\n",
      "\n"
     ]
    },
    {
     "name": "stdout",
     "output_type": "stream",
     "text": [
      "Epoch 220, Loss 0.0376\n",
      "Training Accuracy: 0.9599, Testing Accuracy: 0.9677\n",
      "\n"
     ]
    },
    {
     "name": "stdout",
     "output_type": "stream",
     "text": [
      "Epoch 230, Loss 0.0372\n",
      "Training Accuracy: 0.9601, Testing Accuracy: 0.9677\n",
      "\n"
     ]
    },
    {
     "name": "stdout",
     "output_type": "stream",
     "text": [
      "Epoch 240, Loss 0.0369\n",
      "Training Accuracy: 0.9603, Testing Accuracy: 0.9677\n",
      "\n"
     ]
    },
    {
     "data": {
      "text/plain": [
       "0.045522073509927985"
      ]
     },
     "execution_count": 23,
     "metadata": {},
     "output_type": "execute_result"
    }
   ],
   "source": [
    "lr_learner.train_loop(dl)"
   ]
  },
  {
   "cell_type": "code",
   "execution_count": 24,
   "id": "ca410940",
   "metadata": {
    "execution": {
     "iopub.execute_input": "2022-08-09T00:47:53.805596Z",
     "iopub.status.busy": "2022-08-09T00:47:53.804863Z",
     "iopub.status.idle": "2022-08-09T00:47:54.078499Z",
     "shell.execute_reply": "2022-08-09T00:47:54.077897Z"
    },
    "papermill": {
     "duration": 0.336035,
     "end_time": "2022-08-09T00:47:54.078637",
     "exception": false,
     "start_time": "2022-08-09T00:47:53.742602",
     "status": "completed"
    },
    "tags": []
   },
   "outputs": [
    {
     "data": {
      "text/plain": [
       "<matplotlib.legend.Legend at 0x7fe86e5c2b38>"
      ]
     },
     "execution_count": 24,
     "metadata": {},
     "output_type": "execute_result"
    },
    {
     "data": {
      "image/png": "[encoded data removed]",
      "text/plain": [
       "<Figure size 1080x720 with 1 Axes>"
      ]
     },
     "metadata": {
      "needs_background": "light"
     },
     "output_type": "display_data"
    }
   ],
   "source": [
    "#comparing the results of NN and LR\n",
    "plt.figure(figsize=(15,10))\n",
    "\n",
    "# Neural Network plots\n",
    "plt.plot(acc_nn.accuracies, 'r-', label = \"Training Accuracies - NN\")\n",
    "plt.plot(acc_nn.test_accuracies, 'g-', label = \"Testing Accuracies - NN\")\n",
    "\n",
    "# Logistic Regression plots\n",
    "plt.plot(acc_lr.accuracies, 'k-', label = \"Training Accuracies - LR\")\n",
    "plt.plot(acc_lr.test_accuracies, 'b-', label = \"Testing Accuracies - LR\")\n",
    "plt.legend()"
   ]
  },
  {
   "cell_type": "markdown",
   "id": "80dfb35c",
   "metadata": {
    "papermill": {
     "duration": 0.049554,
     "end_time": "2022-08-09T00:47:54.178086",
     "exception": false,
     "start_time": "2022-08-09T00:47:54.128532",
     "status": "completed"
    },
    "tags": []
   },
   "source": [
    "#### Plotting the outputs of this layer of the NN.\n"
   ]
  },
  {
   "cell_type": "code",
   "execution_count": 25,
   "id": "45eb2ff5",
   "metadata": {
    "execution": {
     "iopub.execute_input": "2022-08-09T00:47:54.282637Z",
     "iopub.status.busy": "2022-08-09T00:47:54.281723Z",
     "iopub.status.idle": "2022-08-09T00:47:54.308329Z",
     "shell.execute_reply": "2022-08-09T00:47:54.307679Z"
    },
    "papermill": {
     "duration": 0.080947,
     "end_time": "2022-08-09T00:47:54.308477",
     "exception": false,
     "start_time": "2022-08-09T00:47:54.227530",
     "status": "completed"
    },
    "tags": []
   },
   "outputs": [],
   "source": [
    "new_model = Model(layers[:-2])\n",
    "testing_plot = new_model(testing_data_x)"
   ]
  },
  {
   "cell_type": "code",
   "execution_count": 26,
   "id": "4c0a5485",
   "metadata": {
    "execution": {
     "iopub.execute_input": "2022-08-09T00:47:54.425468Z",
     "iopub.status.busy": "2022-08-09T00:47:54.424739Z",
     "iopub.status.idle": "2022-08-09T00:47:54.655372Z",
     "shell.execute_reply": "2022-08-09T00:47:54.655928Z"
    },
    "papermill": {
     "duration": 0.29551,
     "end_time": "2022-08-09T00:47:54.656101",
     "exception": false,
     "start_time": "2022-08-09T00:47:54.360591",
     "status": "completed"
    },
    "tags": []
   },
   "outputs": [
    {
     "data": {
      "text/plain": [
       "Text(0.5, 1.0, 'Outputs')"
      ]
     },
     "execution_count": 26,
     "metadata": {},
     "output_type": "execute_result"
    },
    {
     "data": {
      "image/png": "[encoded data removed]",
      "text/plain": [
       "<Figure size 576x504 with 1 Axes>"
      ]
     },
     "metadata": {
      "needs_background": "light"
     },
     "output_type": "display_data"
    }
   ],
   "source": [
    "# Plotting the scatter plot of points and color coding by class\n",
    "plt.figure(figsize=(8,7))\n",
    "plt.scatter(testing_plot[:,0], testing_plot[:,1], alpha = 0.1, c = y_test.ravel());\n",
    "plt.title('Outputs')"
   ]
  },
  {
   "cell_type": "markdown",
   "id": "a74fcf8f",
   "metadata": {
    "papermill": {
     "duration": 0.052596,
     "end_time": "2022-08-09T00:47:54.761968",
     "exception": false,
     "start_time": "2022-08-09T00:47:54.709372",
     "status": "completed"
    },
    "tags": []
   },
   "source": [
    "Probability contours"
   ]
  },
  {
   "cell_type": "code",
   "execution_count": 27,
   "id": "d0afc8e3",
   "metadata": {
    "execution": {
     "iopub.execute_input": "2022-08-09T00:47:54.873877Z",
     "iopub.status.busy": "2022-08-09T00:47:54.873141Z",
     "iopub.status.idle": "2022-08-09T00:47:54.890972Z",
     "shell.execute_reply": "2022-08-09T00:47:54.890123Z"
    },
    "papermill": {
     "duration": 0.076669,
     "end_time": "2022-08-09T00:47:54.891124",
     "exception": false,
     "start_time": "2022-08-09T00:47:54.814455",
     "status": "completed"
    },
    "tags": []
   },
   "outputs": [],
   "source": [
    "model_prob = Model(layers[-2:]) "
   ]
  },
  {
   "cell_type": "code",
   "execution_count": 28,
   "id": "9b96e238",
   "metadata": {
    "execution": {
     "iopub.execute_input": "2022-08-09T00:47:55.040460Z",
     "iopub.status.busy": "2022-08-09T00:47:55.039648Z",
     "iopub.status.idle": "2022-08-09T00:47:55.056775Z",
     "shell.execute_reply": "2022-08-09T00:47:55.057328Z"
    },
    "papermill": {
     "duration": 0.112443,
     "end_time": "2022-08-09T00:47:55.057502",
     "exception": false,
     "start_time": "2022-08-09T00:47:54.945059",
     "status": "completed"
    },
    "tags": []
   },
   "outputs": [],
   "source": [
    "#creating the x and y ranges according to the above generated plot.\n",
    "x_range = np.linspace(-4, 1, 100) \n",
    "y_range = np.linspace(-6, 6, 100) \n",
    "x_grid, y_grid = np.meshgrid(x_range, y_range) # x_grid and y_grig are of size 100 X 100\n",
    "\n",
    "# converting x_grid and y_grid to continuous arrays\n",
    "x_gridflat = np.ravel(x_grid)\n",
    "y_gridflat = np.ravel(y_grid)\n",
    "\n",
    "# The last layer of the current model takes two columns as input. Hence transpose of np.vstack() is required.\n",
    "X = np.vstack((x_gridflat, y_gridflat)).T\n",
    "\n",
    "prob_contour = model_prob(X).reshape(100,100) "
   ]
  },
  {
   "cell_type": "code",
   "execution_count": 29,
   "id": "da72499a",
   "metadata": {
    "execution": {
     "iopub.execute_input": "2022-08-09T00:47:55.181609Z",
     "iopub.status.busy": "2022-08-09T00:47:55.180895Z",
     "iopub.status.idle": "2022-08-09T00:47:55.467036Z",
     "shell.execute_reply": "2022-08-09T00:47:55.467605Z"
    },
    "papermill": {
     "duration": 0.355411,
     "end_time": "2022-08-09T00:47:55.467791",
     "exception": false,
     "start_time": "2022-08-09T00:47:55.112380",
     "status": "completed"
    },
    "tags": []
   },
   "outputs": [
    {
     "data": {
      "image/png": "[encoded data removed]",
      "text/plain": [
       "<Figure size 720x648 with 1 Axes>"
      ]
     },
     "metadata": {
      "needs_background": "light"
     },
     "output_type": "display_data"
    }
   ],
   "source": [
    "plt.figure(figsize=(10,9))\n",
    "plt.scatter(testing_plot[:,0], testing_plot[:,1], alpha = 0.1, c = y_test.ravel())\n",
    "contours = plt.contour(x_grid,y_grid,prob_contour)\n",
    "plt.title('Probability Contours')\n",
    "plt.clabel(contours, inline = True );"
   ]
  },
  {
   "cell_type": "code",
   "execution_count": null,
   "id": "e81b4ac7",
   "metadata": {
    "papermill": {
     "duration": 0.056241,
     "end_time": "2022-08-09T00:47:55.584945",
     "exception": false,
     "start_time": "2022-08-09T00:47:55.528704",
     "status": "completed"
    },
    "tags": []
   },
   "outputs": [],
   "source": []
  }
 ],
 "metadata": {
  "kernelspec": {
   "display_name": "Python 3",
   "language": "python",
   "name": "python3"
  },
  "language_info": {
   "codemirror_mode": {
    "name": "ipython",
    "version": 3
   },
   "file_extension": ".py",
   "mimetype": "text/x-python",
   "name": "python",
   "nbconvert_exporter": "python",
   "pygments_lexer": "ipython3",
   "version": "3.6.15"
  },
  "papermill": {
   "default_parameters": {},
   "duration": 118.046437,
   "end_time": "2022-08-09T00:47:56.064636",
   "environment_variables": {},
   "exception": null,
   "input_path": "2020-08-11-part2.ipynb",
   "output_path": "2020-08-11-part2.ipynb",
   "parameters": {},
   "start_time": "2022-08-09T00:45:58.018199",
   "version": "2.3.3"
  }
 },
 "nbformat": 4,
 "nbformat_minor": 5
}