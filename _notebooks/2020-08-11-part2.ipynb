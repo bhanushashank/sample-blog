{
 "cells": [
  {
   "cell_type": "markdown",
   "id": "98380cd3",
   "metadata": {
    "papermill": {
     "duration": 0.03881,
     "end_time": "2021-11-11T00:22:49.088689",
     "exception": false,
     "start_time": "2021-11-11T00:22:49.049879",
     "status": "completed"
    },
    "tags": []
   },
   "source": [
    "# Distinguish Your Own Digits (DYOD)"
   ]
  },
  {
   "cell_type": "markdown",
   "id": "ef31240d",
   "metadata": {
    "papermill": {
     "duration": 0.03211,
     "end_time": "2021-11-11T00:22:49.154333",
     "exception": false,
     "start_time": "2021-11-11T00:22:49.122223",
     "status": "completed"
    },
    "tags": []
   },
   "source": [
    "You are going to write a classifier that distinguishes between the number 3 and number 8."
   ]
  },
  {
   "cell_type": "code",
   "execution_count": 1,
   "id": "b15c8646",
   "metadata": {
    "execution": {
     "iopub.execute_input": "2021-11-11T00:22:49.237625Z",
     "iopub.status.busy": "2021-11-11T00:22:49.236915Z",
     "iopub.status.idle": "2021-11-11T00:22:49.249354Z",
     "shell.execute_reply": "2021-11-11T00:22:49.250053Z"
    },
    "papermill": {
     "duration": 0.062079,
     "end_time": "2021-11-11T00:22:49.250344",
     "exception": false,
     "start_time": "2021-11-11T00:22:49.188265",
     "status": "completed"
    },
    "tags": []
   },
   "outputs": [],
   "source": [
    "%load_ext autoreload\n",
    "%autoreload 2"
   ]
  },
  {
   "cell_type": "code",
   "execution_count": 2,
   "id": "22ef38dc",
   "metadata": {
    "execution": {
     "iopub.execute_input": "2021-11-11T00:22:49.321203Z",
     "iopub.status.busy": "2021-11-11T00:22:49.320412Z",
     "iopub.status.idle": "2021-11-11T00:22:49.986445Z",
     "shell.execute_reply": "2021-11-11T00:22:49.985660Z"
    },
    "papermill": {
     "duration": 0.702203,
     "end_time": "2021-11-11T00:22:49.986629",
     "exception": false,
     "start_time": "2021-11-11T00:22:49.284426",
     "status": "completed"
    },
    "tags": []
   },
   "outputs": [],
   "source": [
    "%matplotlib inline\n",
    "import numpy as np\n",
    "import matplotlib.pyplot as plt\n",
    "import pandas as pd"
   ]
  },
  {
   "cell_type": "markdown",
   "id": "ba036198",
   "metadata": {
    "papermill": {
     "duration": 0.036231,
     "end_time": "2021-11-11T00:22:50.055126",
     "exception": false,
     "start_time": "2021-11-11T00:22:50.018895",
     "status": "completed"
    },
    "tags": []
   },
   "source": [
    "From the command line run `pip install mnist`. This is a library that will help you bring down the mnist dataset. If you run this from a notebook, you need to put  `!pip install mnist` in a cell by itself."
   ]
  },
  {
   "cell_type": "code",
   "execution_count": 3,
   "id": "bb6ad8a1",
   "metadata": {
    "execution": {
     "iopub.execute_input": "2021-11-11T00:22:50.123804Z",
     "iopub.status.busy": "2021-11-11T00:22:50.122600Z",
     "iopub.status.idle": "2021-11-11T00:22:52.229785Z",
     "shell.execute_reply": "2021-11-11T00:22:52.229138Z"
    },
    "papermill": {
     "duration": 2.142958,
     "end_time": "2021-11-11T00:22:52.229940",
     "exception": false,
     "start_time": "2021-11-11T00:22:50.086982",
     "status": "completed"
    },
    "tags": []
   },
   "outputs": [
    {
     "name": "stdout",
     "output_type": "stream",
     "text": [
      "Collecting mnist\r\n"
     ]
    },
    {
     "name": "stdout",
     "output_type": "stream",
     "text": [
      "  Downloading mnist-0.2.2-py2.py3-none-any.whl (3.5 kB)\r\n",
      "Requirement already satisfied: numpy in /opt/hostedtoolcache/Python/3.6.15/x64/lib/python3.6/site-packages (from mnist) (1.19.5)\r\n"
     ]
    },
    {
     "name": "stdout",
     "output_type": "stream",
     "text": [
      "Installing collected packages: mnist\r\n"
     ]
    },
    {
     "name": "stdout",
     "output_type": "stream",
     "text": [
      "Successfully installed mnist-0.2.2\r\n"
     ]
    }
   ],
   "source": [
    "!pip install mnist"
   ]
  },
  {
   "cell_type": "markdown",
   "id": "69df9c9a",
   "metadata": {
    "papermill": {
     "duration": 0.03102,
     "end_time": "2021-11-11T00:22:52.294254",
     "exception": false,
     "start_time": "2021-11-11T00:22:52.263234",
     "status": "completed"
    },
    "tags": []
   },
   "source": [
    "## Preparing the Data"
   ]
  },
  {
   "cell_type": "code",
   "execution_count": 4,
   "id": "7f69d806",
   "metadata": {
    "execution": {
     "iopub.execute_input": "2021-11-11T00:22:52.364514Z",
     "iopub.status.busy": "2021-11-11T00:22:52.363806Z",
     "iopub.status.idle": "2021-11-11T00:22:52.381244Z",
     "shell.execute_reply": "2021-11-11T00:22:52.380643Z"
    },
    "papermill": {
     "duration": 0.055049,
     "end_time": "2021-11-11T00:22:52.381392",
     "exception": false,
     "start_time": "2021-11-11T00:22:52.326343",
     "status": "completed"
    },
    "tags": []
   },
   "outputs": [],
   "source": [
    "import mnist"
   ]
  },
  {
   "cell_type": "code",
   "execution_count": 5,
   "id": "a411e44f",
   "metadata": {
    "execution": {
     "iopub.execute_input": "2021-11-11T00:22:52.453910Z",
     "iopub.status.busy": "2021-11-11T00:22:52.453252Z",
     "iopub.status.idle": "2021-11-11T00:22:53.259036Z",
     "shell.execute_reply": "2021-11-11T00:22:53.258464Z"
    },
    "papermill": {
     "duration": 0.844195,
     "end_time": "2021-11-11T00:22:53.259175",
     "exception": false,
     "start_time": "2021-11-11T00:22:52.414980",
     "status": "completed"
    },
    "tags": []
   },
   "outputs": [],
   "source": [
    "train_images = mnist.train_images()\n",
    "train_labels = mnist.train_labels()"
   ]
  },
  {
   "cell_type": "code",
   "execution_count": 6,
   "id": "dceab3a5",
   "metadata": {
    "execution": {
     "iopub.execute_input": "2021-11-11T00:22:53.330569Z",
     "iopub.status.busy": "2021-11-11T00:22:53.329117Z",
     "iopub.status.idle": "2021-11-11T00:22:53.348829Z",
     "shell.execute_reply": "2021-11-11T00:22:53.347964Z"
    },
    "papermill": {
     "duration": 0.05668,
     "end_time": "2021-11-11T00:22:53.348972",
     "exception": false,
     "start_time": "2021-11-11T00:22:53.292292",
     "status": "completed"
    },
    "tags": []
   },
   "outputs": [
    {
     "data": {
      "text/plain": [
       "((60000, 28, 28), (60000,))"
      ]
     },
     "execution_count": 6,
     "metadata": {},
     "output_type": "execute_result"
    }
   ],
   "source": [
    "train_images.shape, train_labels.shape"
   ]
  },
  {
   "cell_type": "code",
   "execution_count": 7,
   "id": "f50dc2bb",
   "metadata": {
    "execution": {
     "iopub.execute_input": "2021-11-11T00:22:53.422440Z",
     "iopub.status.busy": "2021-11-11T00:22:53.421782Z",
     "iopub.status.idle": "2021-11-11T00:22:53.582160Z",
     "shell.execute_reply": "2021-11-11T00:22:53.581484Z"
    },
    "papermill": {
     "duration": 0.200309,
     "end_time": "2021-11-11T00:22:53.582378",
     "exception": false,
     "start_time": "2021-11-11T00:22:53.382069",
     "status": "completed"
    },
    "tags": []
   },
   "outputs": [],
   "source": [
    "test_images = mnist.test_images()\n",
    "test_labels = mnist.test_labels()"
   ]
  },
  {
   "cell_type": "code",
   "execution_count": 8,
   "id": "fc38cf1b",
   "metadata": {
    "execution": {
     "iopub.execute_input": "2021-11-11T00:22:53.662649Z",
     "iopub.status.busy": "2021-11-11T00:22:53.661781Z",
     "iopub.status.idle": "2021-11-11T00:22:53.678431Z",
     "shell.execute_reply": "2021-11-11T00:22:53.677784Z"
    },
    "papermill": {
     "duration": 0.058432,
     "end_time": "2021-11-11T00:22:53.678573",
     "exception": false,
     "start_time": "2021-11-11T00:22:53.620141",
     "status": "completed"
    },
    "tags": []
   },
   "outputs": [
    {
     "data": {
      "text/plain": [
       "((10000, 28, 28), (10000,))"
      ]
     },
     "execution_count": 8,
     "metadata": {},
     "output_type": "execute_result"
    }
   ],
   "source": [
    "test_images.shape, test_labels.shape"
   ]
  },
  {
   "cell_type": "code",
   "execution_count": 9,
   "id": "f9ed8fe0",
   "metadata": {
    "execution": {
     "iopub.execute_input": "2021-11-11T00:22:53.784844Z",
     "iopub.status.busy": "2021-11-11T00:22:53.756060Z",
     "iopub.status.idle": "2021-11-11T00:22:53.957343Z",
     "shell.execute_reply": "2021-11-11T00:22:53.957940Z"
    },
    "papermill": {
     "duration": 0.243253,
     "end_time": "2021-11-11T00:22:53.958179",
     "exception": false,
     "start_time": "2021-11-11T00:22:53.714926",
     "status": "completed"
    },
    "tags": []
   },
   "outputs": [
    {
     "name": "stdout",
     "output_type": "stream",
     "text": [
      "2\n"
     ]
    },
    {
     "data": {
      "text/plain": [
       "<matplotlib.image.AxesImage at 0x7f088f3f3160>"
      ]
     },
     "execution_count": 9,
     "metadata": {},
     "output_type": "execute_result"
    },
    {
     "data": {
      "image/png": "[encoded data removed]",
      "text/plain": [
       "<Figure size 432x288 with 1 Axes>"
      ]
     },
     "metadata": {
      "needs_background": "light"
     },
     "output_type": "display_data"
    }
   ],
   "source": [
    "image_index = 7776 # You may select anything up to 60,000\n",
    "print(train_labels[image_index]) \n",
    "plt.imshow(train_images[image_index], cmap='Greys')"
   ]
  },
  {
   "cell_type": "markdown",
   "id": "a8d2388d",
   "metadata": {
    "papermill": {
     "duration": 0.037484,
     "end_time": "2021-11-11T00:22:54.033394",
     "exception": false,
     "start_time": "2021-11-11T00:22:53.995910",
     "status": "completed"
    },
    "tags": []
   },
   "source": [
    "## Filter data to get 3 and 8 out"
   ]
  },
  {
   "cell_type": "code",
   "execution_count": 10,
   "id": "776f7fc7",
   "metadata": {
    "execution": {
     "iopub.execute_input": "2021-11-11T00:22:54.113270Z",
     "iopub.status.busy": "2021-11-11T00:22:54.110450Z",
     "iopub.status.idle": "2021-11-11T00:22:54.133335Z",
     "shell.execute_reply": "2021-11-11T00:22:54.133830Z"
    },
    "papermill": {
     "duration": 0.065159,
     "end_time": "2021-11-11T00:22:54.134077",
     "exception": false,
     "start_time": "2021-11-11T00:22:54.068918",
     "status": "completed"
    },
    "tags": []
   },
   "outputs": [],
   "source": [
    "train_filter = np.where((train_labels == 3 ) | (train_labels == 8))\n",
    "test_filter = np.where((test_labels == 3) | (test_labels == 8))\n",
    "X_train, y_train = train_images[train_filter], train_labels[train_filter]\n",
    "X_test, y_test = test_images[test_filter], test_labels[test_filter]"
   ]
  },
  {
   "cell_type": "markdown",
   "id": "948f0b7e",
   "metadata": {
    "papermill": {
     "duration": 0.032685,
     "end_time": "2021-11-11T00:22:54.200216",
     "exception": false,
     "start_time": "2021-11-11T00:22:54.167531",
     "status": "completed"
    },
    "tags": []
   },
   "source": [
    "We normalize the pizel values in the 0 to 1 range"
   ]
  },
  {
   "cell_type": "code",
   "execution_count": 11,
   "id": "ee4c2166",
   "metadata": {
    "execution": {
     "iopub.execute_input": "2021-11-11T00:22:54.277044Z",
     "iopub.status.busy": "2021-11-11T00:22:54.273677Z",
     "iopub.status.idle": "2021-11-11T00:22:54.341159Z",
     "shell.execute_reply": "2021-11-11T00:22:54.340505Z"
    },
    "papermill": {
     "duration": 0.105844,
     "end_time": "2021-11-11T00:22:54.341380",
     "exception": false,
     "start_time": "2021-11-11T00:22:54.235536",
     "status": "completed"
    },
    "tags": []
   },
   "outputs": [],
   "source": [
    "X_train = X_train/255.\n",
    "X_test = X_test/255."
   ]
  },
  {
   "cell_type": "markdown",
   "id": "ddcf4fab",
   "metadata": {
    "papermill": {
     "duration": 0.034937,
     "end_time": "2021-11-11T00:22:54.412317",
     "exception": false,
     "start_time": "2021-11-11T00:22:54.377380",
     "status": "completed"
    },
    "tags": []
   },
   "source": [
    "And setup the labels as 1 (when the digit is 3) and 0 (when the digit is 8)"
   ]
  },
  {
   "cell_type": "code",
   "execution_count": 12,
   "id": "7dc908f2",
   "metadata": {
    "execution": {
     "iopub.execute_input": "2021-11-11T00:22:54.490164Z",
     "iopub.status.busy": "2021-11-11T00:22:54.489235Z",
     "iopub.status.idle": "2021-11-11T00:22:54.505587Z",
     "shell.execute_reply": "2021-11-11T00:22:54.504857Z"
    },
    "papermill": {
     "duration": 0.057211,
     "end_time": "2021-11-11T00:22:54.505768",
     "exception": false,
     "start_time": "2021-11-11T00:22:54.448557",
     "status": "completed"
    },
    "tags": []
   },
   "outputs": [],
   "source": [
    "y_train = 1*(y_train==3)\n",
    "y_test = 1*(y_test==3)"
   ]
  },
  {
   "cell_type": "code",
   "execution_count": 13,
   "id": "01e4e969",
   "metadata": {
    "execution": {
     "iopub.execute_input": "2021-11-11T00:22:54.594677Z",
     "iopub.status.busy": "2021-11-11T00:22:54.593711Z",
     "iopub.status.idle": "2021-11-11T00:22:54.609460Z",
     "shell.execute_reply": "2021-11-11T00:22:54.610052Z"
    },
    "papermill": {
     "duration": 0.065236,
     "end_time": "2021-11-11T00:22:54.610217",
     "exception": false,
     "start_time": "2021-11-11T00:22:54.544981",
     "status": "completed"
    },
    "tags": []
   },
   "outputs": [
    {
     "data": {
      "text/plain": [
       "((11982, 28, 28), (1984, 28, 28))"
      ]
     },
     "execution_count": 13,
     "metadata": {},
     "output_type": "execute_result"
    }
   ],
   "source": [
    "X_train.shape, X_test.shape"
   ]
  },
  {
   "cell_type": "markdown",
   "id": "5ccf3f85",
   "metadata": {
    "papermill": {
     "duration": 0.039493,
     "end_time": "2021-11-11T00:22:54.690424",
     "exception": false,
     "start_time": "2021-11-11T00:22:54.650931",
     "status": "completed"
    },
    "tags": []
   },
   "source": [
    "We reshape the data to flatten the image pixels into a set of features or co-variates:"
   ]
  },
  {
   "cell_type": "code",
   "execution_count": 14,
   "id": "5286a4a3",
   "metadata": {
    "execution": {
     "iopub.execute_input": "2021-11-11T00:22:54.769860Z",
     "iopub.status.busy": "2021-11-11T00:22:54.769135Z",
     "iopub.status.idle": "2021-11-11T00:22:54.784690Z",
     "shell.execute_reply": "2021-11-11T00:22:54.784022Z"
    },
    "papermill": {
     "duration": 0.05765,
     "end_time": "2021-11-11T00:22:54.784900",
     "exception": false,
     "start_time": "2021-11-11T00:22:54.727250",
     "status": "completed"
    },
    "tags": []
   },
   "outputs": [
    {
     "data": {
      "text/plain": [
       "((11982, 784), (1984, 784))"
      ]
     },
     "execution_count": 14,
     "metadata": {},
     "output_type": "execute_result"
    }
   ],
   "source": [
    "X_train = X_train.reshape(X_train.shape[0], -1)\n",
    "X_test = X_test.reshape(X_test.shape[0], -1)\n",
    "X_train.shape, X_test.shape"
   ]
  },
  {
   "cell_type": "code",
   "execution_count": 15,
   "id": "73c5f88a",
   "metadata": {
    "execution": {
     "iopub.execute_input": "2021-11-11T00:22:54.865871Z",
     "iopub.status.busy": "2021-11-11T00:22:54.865263Z",
     "iopub.status.idle": "2021-11-11T00:22:54.889046Z",
     "shell.execute_reply": "2021-11-11T00:22:54.889578Z"
    },
    "papermill": {
     "duration": 0.069016,
     "end_time": "2021-11-11T00:22:54.889716",
     "exception": false,
     "start_time": "2021-11-11T00:22:54.820700",
     "status": "completed"
    },
    "tags": []
   },
   "outputs": [],
   "source": [
    "#Impoting functions from 'Kudzu'\n",
    "from kudzu.model import Model\n",
    "from kudzu.train import Learner\n",
    "from kudzu.optim import GD\n",
    "from kudzu.data import Data, Sampler,Dataloader\n",
    "\n",
    "from kudzu.callbacks import AccCallback\n",
    "from kudzu.callbacks import ClfCallback\n",
    "\n",
    "from kudzu.loss import MSE\n",
    "\n",
    "from kudzu.layer import Sigmoid,Relu\n",
    "from kudzu.layer import Affine"
   ]
  },
  {
   "cell_type": "markdown",
   "id": "bc01172a",
   "metadata": {
    "papermill": {
     "duration": 0.036825,
     "end_time": "2021-11-11T00:22:54.961228",
     "exception": false,
     "start_time": "2021-11-11T00:22:54.924403",
     "status": "completed"
    },
    "tags": []
   },
   "source": [
    "### Let us create a `Config` class, to store important parameters. \n",
    "This class essentially plays the role of a dictionary."
   ]
  },
  {
   "cell_type": "code",
   "execution_count": 16,
   "id": "978281aa",
   "metadata": {
    "execution": {
     "iopub.execute_input": "2021-11-11T00:22:55.039783Z",
     "iopub.status.busy": "2021-11-11T00:22:55.037911Z",
     "iopub.status.idle": "2021-11-11T00:22:55.052834Z",
     "shell.execute_reply": "2021-11-11T00:22:55.052229Z"
    },
    "papermill": {
     "duration": 0.057633,
     "end_time": "2021-11-11T00:22:55.052975",
     "exception": false,
     "start_time": "2021-11-11T00:22:54.995342",
     "status": "completed"
    },
    "tags": []
   },
   "outputs": [],
   "source": [
    "class Config:\n",
    "    pass\n",
    "config = Config()\n",
    "config.lr = 0.001\n",
    "config.num_epochs = 250\n",
    "config.bs = 50"
   ]
  },
  {
   "cell_type": "markdown",
   "id": "1385fa59",
   "metadata": {
    "papermill": {
     "duration": 0.03897,
     "end_time": "2021-11-11T00:22:55.130170",
     "exception": false,
     "start_time": "2021-11-11T00:22:55.091200",
     "status": "completed"
    },
    "tags": []
   },
   "source": [
    "### Running Models with the Training data\n",
    "Details about the network layers:\n",
    "- A first affine layer has 784 inputs and does 100 affine transforms. These are followed by a Relu\n",
    "- A second affine layer has 100 inputs from the 100 activations of the past layer, and does 100 affine transforms. These are followed by a Relu\n",
    "- A third affine layer has 100 activations and does 2 affine transformations to create an embedding for visualization. There is no non-linearity here.\n",
    "- A final \"logistic regression\" which has an affine transform from 2 inputs to 1 output, which is squeezed through a sigmoid.\n"
   ]
  },
  {
   "cell_type": "code",
   "execution_count": 17,
   "id": "2b9c66db",
   "metadata": {
    "execution": {
     "iopub.execute_input": "2021-11-11T00:22:55.216525Z",
     "iopub.status.busy": "2021-11-11T00:22:55.215692Z",
     "iopub.status.idle": "2021-11-11T00:22:55.228574Z",
     "shell.execute_reply": "2021-11-11T00:22:55.229299Z"
    },
    "papermill": {
     "duration": 0.060283,
     "end_time": "2021-11-11T00:22:55.229471",
     "exception": false,
     "start_time": "2021-11-11T00:22:55.169188",
     "status": "completed"
    },
    "tags": []
   },
   "outputs": [],
   "source": [
    "data = Data(X_train, y_train.reshape(-1,1))\n",
    "sampler = Sampler(data, config.bs, shuffle=True)\n",
    "\n",
    "dl = Dataloader(data, sampler)\n",
    "\n",
    "opt = GD(config.lr)\n",
    "loss = MSE()"
   ]
  },
  {
   "cell_type": "code",
   "execution_count": 18,
   "id": "b275e4c2",
   "metadata": {
    "execution": {
     "iopub.execute_input": "2021-11-11T00:22:55.314847Z",
     "iopub.status.busy": "2021-11-11T00:22:55.314065Z",
     "iopub.status.idle": "2021-11-11T00:22:55.329524Z",
     "shell.execute_reply": "2021-11-11T00:22:55.328974Z"
    },
    "papermill": {
     "duration": 0.058555,
     "end_time": "2021-11-11T00:22:55.329695",
     "exception": false,
     "start_time": "2021-11-11T00:22:55.271140",
     "status": "completed"
    },
    "tags": []
   },
   "outputs": [],
   "source": [
    "training_data_x = X_train\n",
    "testing_data_x = X_test\n",
    "training_data_y = y_train.reshape(-1,1)\n",
    "testing_data_y = y_test.reshape(-1,1)"
   ]
  },
  {
   "cell_type": "code",
   "execution_count": 19,
   "id": "76951160",
   "metadata": {
    "execution": {
     "iopub.execute_input": "2021-11-11T00:22:55.412325Z",
     "iopub.status.busy": "2021-11-11T00:22:55.411502Z",
     "iopub.status.idle": "2021-11-11T00:22:55.433202Z",
     "shell.execute_reply": "2021-11-11T00:22:55.432634Z"
    },
    "papermill": {
     "duration": 0.064659,
     "end_time": "2021-11-11T00:22:55.433345",
     "exception": false,
     "start_time": "2021-11-11T00:22:55.368686",
     "status": "completed"
    },
    "tags": []
   },
   "outputs": [
    {
     "name": "stdout",
     "output_type": "stream",
     "text": [
      "xavier\n",
      "xavier\n",
      "xavier\n",
      "xavier\n",
      "xavier\n"
     ]
    }
   ],
   "source": [
    "layers = [Affine(\"first\", 784, 100), Relu(\"first\"), Affine(\"second\", 100, 100), Relu(\"second\"), Affine(\"third\", 100, 2), Affine(\"last\", 2, 1), Sigmoid(\"last\")]\n",
    "model_nn = Model(layers)\n",
    "model_lr = Model([Affine(\"logits\", 784, 1), Sigmoid(\"sigmoid\")])"
   ]
  },
  {
   "cell_type": "code",
   "execution_count": 20,
   "id": "6eede77a",
   "metadata": {
    "execution": {
     "iopub.execute_input": "2021-11-11T00:22:55.528188Z",
     "iopub.status.busy": "2021-11-11T00:22:55.527400Z",
     "iopub.status.idle": "2021-11-11T00:22:55.543692Z",
     "shell.execute_reply": "2021-11-11T00:22:55.543004Z"
    },
    "papermill": {
     "duration": 0.061127,
     "end_time": "2021-11-11T00:22:55.543842",
     "exception": false,
     "start_time": "2021-11-11T00:22:55.482715",
     "status": "completed"
    },
    "tags": []
   },
   "outputs": [],
   "source": [
    "nn_learner = Learner(loss, model_nn, opt, config.num_epochs)\n",
    "acc_nn = ClfCallback(nn_learner, config.bs, training_data_x , testing_data_x, training_data_y, testing_data_y)\n",
    "nn_learner.set_callbacks([acc_nn])"
   ]
  },
  {
   "cell_type": "code",
   "execution_count": 21,
   "id": "877b6cc7",
   "metadata": {
    "execution": {
     "iopub.execute_input": "2021-11-11T00:22:55.627071Z",
     "iopub.status.busy": "2021-11-11T00:22:55.626322Z",
     "iopub.status.idle": "2021-11-11T00:22:55.643520Z",
     "shell.execute_reply": "2021-11-11T00:22:55.644068Z"
    },
    "papermill": {
     "duration": 0.06208,
     "end_time": "2021-11-11T00:22:55.644341",
     "exception": false,
     "start_time": "2021-11-11T00:22:55.582261",
     "status": "completed"
    },
    "tags": []
   },
   "outputs": [],
   "source": [
    "lr_learner = Learner(loss, model_lr, opt, config.num_epochs)\n",
    "acc_lr = ClfCallback(lr_learner, config.bs, training_data_x , testing_data_x, training_data_y, testing_data_y)\n",
    "lr_learner.set_callbacks([acc_lr])"
   ]
  },
  {
   "cell_type": "code",
   "execution_count": 22,
   "id": "d9b133c3",
   "metadata": {
    "execution": {
     "iopub.execute_input": "2021-11-11T00:22:55.722056Z",
     "iopub.status.busy": "2021-11-11T00:22:55.721444Z",
     "iopub.status.idle": "2021-11-11T00:25:29.368569Z",
     "shell.execute_reply": "2021-11-11T00:25:29.369667Z"
    },
    "papermill": {
     "duration": 153.688753,
     "end_time": "2021-11-11T00:25:29.369890",
     "exception": false,
     "start_time": "2021-11-11T00:22:55.681137",
     "status": "completed"
    },
    "tags": []
   },
   "outputs": [
    {
     "name": "stdout",
     "output_type": "stream",
     "text": [
      "Epoch 0, Loss 0.2414\n",
      "Training Accuracy: 0.6279, Testing Accuracy: 0.6003\n",
      "\n"
     ]
    },
    {
     "name": "stdout",
     "output_type": "stream",
     "text": [
      "Epoch 10, Loss 0.1012\n",
      "Training Accuracy: 0.9097, Testing Accuracy: 0.9153\n",
      "\n"
     ]
    },
    {
     "name": "stdout",
     "output_type": "stream",
     "text": [
      "Epoch 20, Loss 0.0605\n",
      "Training Accuracy: 0.9401, Testing Accuracy: 0.9466\n",
      "\n"
     ]
    },
    {
     "name": "stdout",
     "output_type": "stream",
     "text": [
      "Epoch 30, Loss 0.0464\n",
      "Training Accuracy: 0.9501, Testing Accuracy: 0.9541\n",
      "\n"
     ]
    },
    {
     "name": "stdout",
     "output_type": "stream",
     "text": [
      "Epoch 40, Loss 0.0396\n",
      "Training Accuracy: 0.9553, Testing Accuracy: 0.9617\n",
      "\n"
     ]
    },
    {
     "name": "stdout",
     "output_type": "stream",
     "text": [
      "Epoch 50, Loss 0.0357\n",
      "Training Accuracy: 0.9593, Testing Accuracy: 0.9632\n",
      "\n"
     ]
    },
    {
     "name": "stdout",
     "output_type": "stream",
     "text": [
      "Epoch 60, Loss 0.033\n",
      "Training Accuracy: 0.9619, Testing Accuracy: 0.9657\n",
      "\n"
     ]
    },
    {
     "name": "stdout",
     "output_type": "stream",
     "text": [
      "Epoch 70, Loss 0.031\n",
      "Training Accuracy: 0.9649, Testing Accuracy: 0.9667\n",
      "\n"
     ]
    },
    {
     "name": "stdout",
     "output_type": "stream",
     "text": [
      "Epoch 80, Loss 0.0295\n",
      "Training Accuracy: 0.9664, Testing Accuracy: 0.9677\n",
      "\n"
     ]
    },
    {
     "name": "stdout",
     "output_type": "stream",
     "text": [
      "Epoch 90, Loss 0.0282\n",
      "Training Accuracy: 0.9682, Testing Accuracy: 0.9703\n",
      "\n"
     ]
    },
    {
     "name": "stdout",
     "output_type": "stream",
     "text": [
      "Epoch 100, Loss 0.0271\n",
      "Training Accuracy: 0.9696, Testing Accuracy: 0.9728\n",
      "\n"
     ]
    },
    {
     "name": "stdout",
     "output_type": "stream",
     "text": [
      "Epoch 110, Loss 0.0261\n",
      "Training Accuracy: 0.9701, Testing Accuracy: 0.9728\n",
      "\n"
     ]
    },
    {
     "name": "stdout",
     "output_type": "stream",
     "text": [
      "Epoch 120, Loss 0.0253\n",
      "Training Accuracy: 0.9709, Testing Accuracy: 0.9713\n",
      "\n"
     ]
    },
    {
     "name": "stdout",
     "output_type": "stream",
     "text": [
      "Epoch 130, Loss 0.0245\n",
      "Training Accuracy: 0.9716, Testing Accuracy: 0.9713\n",
      "\n"
     ]
    },
    {
     "name": "stdout",
     "output_type": "stream",
     "text": [
      "Epoch 140, Loss 0.0238\n",
      "Training Accuracy: 0.9725, Testing Accuracy: 0.9723\n",
      "\n"
     ]
    },
    {
     "name": "stdout",
     "output_type": "stream",
     "text": [
      "Epoch 150, Loss 0.0231\n",
      "Training Accuracy: 0.9732, Testing Accuracy: 0.9723\n",
      "\n"
     ]
    },
    {
     "name": "stdout",
     "output_type": "stream",
     "text": [
      "Epoch 160, Loss 0.0225\n",
      "Training Accuracy: 0.9738, Testing Accuracy: 0.9723\n",
      "\n"
     ]
    },
    {
     "name": "stdout",
     "output_type": "stream",
     "text": [
      "Epoch 170, Loss 0.022\n",
      "Training Accuracy: 0.9752, Testing Accuracy: 0.9733\n",
      "\n"
     ]
    },
    {
     "name": "stdout",
     "output_type": "stream",
     "text": [
      "Epoch 180, Loss 0.0215\n",
      "Training Accuracy: 0.9755, Testing Accuracy: 0.9733\n",
      "\n"
     ]
    },
    {
     "name": "stdout",
     "output_type": "stream",
     "text": [
      "Epoch 190, Loss 0.021\n",
      "Training Accuracy: 0.9764, Testing Accuracy: 0.9748\n",
      "\n"
     ]
    },
    {
     "name": "stdout",
     "output_type": "stream",
     "text": [
      "Epoch 200, Loss 0.0205\n",
      "Training Accuracy: 0.9770, Testing Accuracy: 0.9753\n",
      "\n"
     ]
    },
    {
     "name": "stdout",
     "output_type": "stream",
     "text": [
      "Epoch 210, Loss 0.0201\n",
      "Training Accuracy: 0.9777, Testing Accuracy: 0.9753\n",
      "\n"
     ]
    },
    {
     "name": "stdout",
     "output_type": "stream",
     "text": [
      "Epoch 220, Loss 0.0197\n",
      "Training Accuracy: 0.9778, Testing Accuracy: 0.9763\n",
      "\n"
     ]
    },
    {
     "name": "stdout",
     "output_type": "stream",
     "text": [
      "Epoch 230, Loss 0.0193\n",
      "Training Accuracy: 0.9781, Testing Accuracy: 0.9758\n",
      "\n"
     ]
    },
    {
     "name": "stdout",
     "output_type": "stream",
     "text": [
      "Epoch 240, Loss 0.0189\n",
      "Training Accuracy: 0.9786, Testing Accuracy: 0.9763\n",
      "\n"
     ]
    },
    {
     "data": {
      "text/plain": [
       "0.04721930877588788"
      ]
     },
     "execution_count": 22,
     "metadata": {},
     "output_type": "execute_result"
    }
   ],
   "source": [
    "nn_learner.train_loop(dl)"
   ]
  },
  {
   "cell_type": "code",
   "execution_count": 23,
   "id": "e0163366",
   "metadata": {
    "execution": {
     "iopub.execute_input": "2021-11-11T00:25:29.478401Z",
     "iopub.status.busy": "2021-11-11T00:25:29.473770Z",
     "iopub.status.idle": "2021-11-11T00:25:51.313798Z",
     "shell.execute_reply": "2021-11-11T00:25:51.314851Z"
    },
    "papermill": {
     "duration": 21.896538,
     "end_time": "2021-11-11T00:25:51.315039",
     "exception": false,
     "start_time": "2021-11-11T00:25:29.418501",
     "status": "completed"
    },
    "tags": []
   },
   "outputs": [
    {
     "name": "stdout",
     "output_type": "stream",
     "text": [
      "Epoch 0, Loss 0.2518\n",
      "Training Accuracy: 0.6690, Testing Accuracy: 0.6941\n",
      "\n"
     ]
    },
    {
     "name": "stdout",
     "output_type": "stream",
     "text": [
      "Epoch 10, Loss 0.1014\n",
      "Training Accuracy: 0.9179, Testing Accuracy: 0.9289\n",
      "\n"
     ]
    },
    {
     "name": "stdout",
     "output_type": "stream",
     "text": [
      "Epoch 20, Loss 0.0784\n",
      "Training Accuracy: 0.9299, Testing Accuracy: 0.9410\n",
      "\n"
     ]
    },
    {
     "name": "stdout",
     "output_type": "stream",
     "text": [
      "Epoch 30, Loss 0.0678\n",
      "Training Accuracy: 0.9373, Testing Accuracy: 0.9486\n",
      "\n"
     ]
    },
    {
     "name": "stdout",
     "output_type": "stream",
     "text": [
      "Epoch 40, Loss 0.0613\n",
      "Training Accuracy: 0.9416, Testing Accuracy: 0.9546\n",
      "\n"
     ]
    },
    {
     "name": "stdout",
     "output_type": "stream",
     "text": [
      "Epoch 50, Loss 0.0569\n",
      "Training Accuracy: 0.9448, Testing Accuracy: 0.9572\n",
      "\n"
     ]
    },
    {
     "name": "stdout",
     "output_type": "stream",
     "text": [
      "Epoch 60, Loss 0.0537\n",
      "Training Accuracy: 0.9468, Testing Accuracy: 0.9592\n",
      "\n"
     ]
    },
    {
     "name": "stdout",
     "output_type": "stream",
     "text": [
      "Epoch 70, Loss 0.0512\n",
      "Training Accuracy: 0.9485, Testing Accuracy: 0.9612\n",
      "\n"
     ]
    },
    {
     "name": "stdout",
     "output_type": "stream",
     "text": [
      "Epoch 80, Loss 0.0492\n",
      "Training Accuracy: 0.9497, Testing Accuracy: 0.9622\n",
      "\n"
     ]
    },
    {
     "name": "stdout",
     "output_type": "stream",
     "text": [
      "Epoch 90, Loss 0.0475\n",
      "Training Accuracy: 0.9512, Testing Accuracy: 0.9632\n",
      "\n"
     ]
    },
    {
     "name": "stdout",
     "output_type": "stream",
     "text": [
      "Epoch 100, Loss 0.0461\n",
      "Training Accuracy: 0.9525, Testing Accuracy: 0.9637\n",
      "\n"
     ]
    },
    {
     "name": "stdout",
     "output_type": "stream",
     "text": [
      "Epoch 110, Loss 0.0449\n",
      "Training Accuracy: 0.9537, Testing Accuracy: 0.9657\n",
      "\n"
     ]
    },
    {
     "name": "stdout",
     "output_type": "stream",
     "text": [
      "Epoch 120, Loss 0.0438\n",
      "Training Accuracy: 0.9546, Testing Accuracy: 0.9662\n",
      "\n"
     ]
    },
    {
     "name": "stdout",
     "output_type": "stream",
     "text": [
      "Epoch 130, Loss 0.0429\n",
      "Training Accuracy: 0.9551, Testing Accuracy: 0.9672\n",
      "\n"
     ]
    },
    {
     "name": "stdout",
     "output_type": "stream",
     "text": [
      "Epoch 140, Loss 0.0421\n",
      "Training Accuracy: 0.9556, Testing Accuracy: 0.9672\n",
      "\n"
     ]
    },
    {
     "name": "stdout",
     "output_type": "stream",
     "text": [
      "Epoch 150, Loss 0.0414\n",
      "Training Accuracy: 0.9563, Testing Accuracy: 0.9667\n",
      "\n"
     ]
    },
    {
     "name": "stdout",
     "output_type": "stream",
     "text": [
      "Epoch 160, Loss 0.0407\n",
      "Training Accuracy: 0.9567, Testing Accuracy: 0.9667\n",
      "\n"
     ]
    },
    {
     "name": "stdout",
     "output_type": "stream",
     "text": [
      "Epoch 170, Loss 0.0401\n",
      "Training Accuracy: 0.9577, Testing Accuracy: 0.9667\n",
      "\n"
     ]
    },
    {
     "name": "stdout",
     "output_type": "stream",
     "text": [
      "Epoch 180, Loss 0.0395\n",
      "Training Accuracy: 0.9583, Testing Accuracy: 0.9667\n",
      "\n"
     ]
    },
    {
     "name": "stdout",
     "output_type": "stream",
     "text": [
      "Epoch 190, Loss 0.039\n",
      "Training Accuracy: 0.9587, Testing Accuracy: 0.9677\n",
      "\n"
     ]
    },
    {
     "name": "stdout",
     "output_type": "stream",
     "text": [
      "Epoch 200, Loss 0.0385\n",
      "Training Accuracy: 0.9594, Testing Accuracy: 0.9677\n",
      "\n"
     ]
    },
    {
     "name": "stdout",
     "output_type": "stream",
     "text": [
      "Epoch 210, Loss 0.0381\n",
      "Training Accuracy: 0.9594, Testing Accuracy: 0.9677\n",
      "\n"
     ]
    },
    {
     "name": "stdout",
     "output_type": "stream",
     "text": [
      "Epoch 220, Loss 0.0377\n",
      "Training Accuracy: 0.9597, Testing Accuracy: 0.9682\n",
      "\n"
     ]
    },
    {
     "name": "stdout",
     "output_type": "stream",
     "text": [
      "Epoch 230, Loss 0.0373\n",
      "Training Accuracy: 0.9599, Testing Accuracy: 0.9682\n",
      "\n"
     ]
    },
    {
     "name": "stdout",
     "output_type": "stream",
     "text": [
      "Epoch 240, Loss 0.0369\n",
      "Training Accuracy: 0.9602, Testing Accuracy: 0.9682\n",
      "\n"
     ]
    },
    {
     "data": {
      "text/plain": [
       "0.04756177314777595"
      ]
     },
     "execution_count": 23,
     "metadata": {},
     "output_type": "execute_result"
    }
   ],
   "source": [
    "lr_learner.train_loop(dl)"
   ]
  },
  {
   "cell_type": "code",
   "execution_count": 24,
   "id": "ca410940",
   "metadata": {
    "execution": {
     "iopub.execute_input": "2021-11-11T00:25:51.431048Z",
     "iopub.status.busy": "2021-11-11T00:25:51.430463Z",
     "iopub.status.idle": "2021-11-11T00:25:51.761919Z",
     "shell.execute_reply": "2021-11-11T00:25:51.762370Z"
    },
    "papermill": {
     "duration": 0.390965,
     "end_time": "2021-11-11T00:25:51.762524",
     "exception": false,
     "start_time": "2021-11-11T00:25:51.371559",
     "status": "completed"
    },
    "tags": []
   },
   "outputs": [
    {
     "data": {
      "text/plain": [
       "<matplotlib.legend.Legend at 0x7f088ef57710>"
      ]
     },
     "execution_count": 24,
     "metadata": {},
     "output_type": "execute_result"
    },
    {
     "data": {
      "image/png": "[encoded data removed]",
      "text/plain": [
       "<Figure size 1080x720 with 1 Axes>"
      ]
     },
     "metadata": {
      "needs_background": "light"
     },
     "output_type": "display_data"
    }
   ],
   "source": [
    "#comparing the results of NN and LR\n",
    "plt.figure(figsize=(15,10))\n",
    "\n",
    "# Neural Network plots\n",
    "plt.plot(acc_nn.accuracies, 'r-', label = \"Training Accuracies - NN\")\n",
    "plt.plot(acc_nn.test_accuracies, 'g-', label = \"Testing Accuracies - NN\")\n",
    "\n",
    "# Logistic Regression plots\n",
    "plt.plot(acc_lr.accuracies, 'k-', label = \"Training Accuracies - LR\")\n",
    "plt.plot(acc_lr.test_accuracies, 'b-', label = \"Testing Accuracies - LR\")\n",
    "plt.legend()"
   ]
  },
  {
   "cell_type": "markdown",
   "id": "80dfb35c",
   "metadata": {
    "papermill": {
     "duration": 0.057207,
     "end_time": "2021-11-11T00:25:51.873503",
     "exception": false,
     "start_time": "2021-11-11T00:25:51.816296",
     "status": "completed"
    },
    "tags": []
   },
   "source": [
    "#### Plotting the outputs of this layer of the NN.\n"
   ]
  },
  {
   "cell_type": "code",
   "execution_count": 25,
   "id": "45eb2ff5",
   "metadata": {
    "execution": {
     "iopub.execute_input": "2021-11-11T00:25:51.989130Z",
     "iopub.status.busy": "2021-11-11T00:25:51.988449Z",
     "iopub.status.idle": "2021-11-11T00:25:52.017451Z",
     "shell.execute_reply": "2021-11-11T00:25:52.018236Z"
    },
    "papermill": {
     "duration": 0.088939,
     "end_time": "2021-11-11T00:25:52.018379",
     "exception": false,
     "start_time": "2021-11-11T00:25:51.929440",
     "status": "completed"
    },
    "tags": []
   },
   "outputs": [],
   "source": [
    "new_model = Model(layers[:-2])\n",
    "testing_plot = new_model(testing_data_x)"
   ]
  },
  {
   "cell_type": "code",
   "execution_count": 26,
   "id": "4c0a5485",
   "metadata": {
    "execution": {
     "iopub.execute_input": "2021-11-11T00:25:52.134533Z",
     "iopub.status.busy": "2021-11-11T00:25:52.133620Z",
     "iopub.status.idle": "2021-11-11T00:25:52.403536Z",
     "shell.execute_reply": "2021-11-11T00:25:52.403032Z"
    },
    "papermill": {
     "duration": 0.330455,
     "end_time": "2021-11-11T00:25:52.403669",
     "exception": false,
     "start_time": "2021-11-11T00:25:52.073214",
     "status": "completed"
    },
    "tags": []
   },
   "outputs": [
    {
     "data": {
      "text/plain": [
       "Text(0.5, 1.0, 'Outputs')"
      ]
     },
     "execution_count": 26,
     "metadata": {},
     "output_type": "execute_result"
    },
    {
     "data": {
      "image/png": "[encoded data removed]",
      "text/plain": [
       "<Figure size 576x504 with 1 Axes>"
      ]
     },
     "metadata": {
      "needs_background": "light"
     },
     "output_type": "display_data"
    }
   ],
   "source": [
    "# Plotting the scatter plot of points and color coding by class\n",
    "plt.figure(figsize=(8,7))\n",
    "plt.scatter(testing_plot[:,0], testing_plot[:,1], alpha = 0.1, c = y_test.ravel());\n",
    "plt.title('Outputs')"
   ]
  },
  {
   "cell_type": "markdown",
   "id": "a74fcf8f",
   "metadata": {
    "papermill": {
     "duration": 0.081192,
     "end_time": "2021-11-11T00:25:52.540473",
     "exception": false,
     "start_time": "2021-11-11T00:25:52.459281",
     "status": "completed"
    },
    "tags": []
   },
   "source": [
    "Probability contours"
   ]
  },
  {
   "cell_type": "code",
   "execution_count": 27,
   "id": "d0afc8e3",
   "metadata": {
    "execution": {
     "iopub.execute_input": "2021-11-11T00:25:52.661054Z",
     "iopub.status.busy": "2021-11-11T00:25:52.660377Z",
     "iopub.status.idle": "2021-11-11T00:25:52.674772Z",
     "shell.execute_reply": "2021-11-11T00:25:52.675358Z"
    },
    "papermill": {
     "duration": 0.078208,
     "end_time": "2021-11-11T00:25:52.675505",
     "exception": false,
     "start_time": "2021-11-11T00:25:52.597297",
     "status": "completed"
    },
    "tags": []
   },
   "outputs": [],
   "source": [
    "model_prob = Model(layers[-2:]) "
   ]
  },
  {
   "cell_type": "code",
   "execution_count": 28,
   "id": "9b96e238",
   "metadata": {
    "execution": {
     "iopub.execute_input": "2021-11-11T00:25:52.798791Z",
     "iopub.status.busy": "2021-11-11T00:25:52.798126Z",
     "iopub.status.idle": "2021-11-11T00:25:52.813665Z",
     "shell.execute_reply": "2021-11-11T00:25:52.814112Z"
    },
    "papermill": {
     "duration": 0.080963,
     "end_time": "2021-11-11T00:25:52.814250",
     "exception": false,
     "start_time": "2021-11-11T00:25:52.733287",
     "status": "completed"
    },
    "tags": []
   },
   "outputs": [],
   "source": [
    "#creating the x and y ranges according to the above generated plot.\n",
    "x_range = np.linspace(-4, 1, 100) \n",
    "y_range = np.linspace(-6, 6, 100) \n",
    "x_grid, y_grid = np.meshgrid(x_range, y_range) # x_grid and y_grig are of size 100 X 100\n",
    "\n",
    "# converting x_grid and y_grid to continuous arrays\n",
    "x_gridflat = np.ravel(x_grid)\n",
    "y_gridflat = np.ravel(y_grid)\n",
    "\n",
    "# The last layer of the current model takes two columns as input. Hence transpose of np.vstack() is required.\n",
    "X = np.vstack((x_gridflat, y_gridflat)).T\n",
    "\n",
    "prob_contour = model_prob(X).reshape(100,100) "
   ]
  },
  {
   "cell_type": "code",
   "execution_count": 29,
   "id": "da72499a",
   "metadata": {
    "execution": {
     "iopub.execute_input": "2021-11-11T00:25:52.937869Z",
     "iopub.status.busy": "2021-11-11T00:25:52.937290Z",
     "iopub.status.idle": "2021-11-11T00:25:53.275090Z",
     "shell.execute_reply": "2021-11-11T00:25:53.274491Z"
    },
    "papermill": {
     "duration": 0.399557,
     "end_time": "2021-11-11T00:25:53.275220",
     "exception": false,
     "start_time": "2021-11-11T00:25:52.875663",
     "status": "completed"
    },
    "tags": []
   },
   "outputs": [
    {
     "data": {
      "image/png": "[encoded data removed]",
      "text/plain": [
       "<Figure size 720x648 with 1 Axes>"
      ]
     },
     "metadata": {
      "needs_background": "light"
     },
     "output_type": "display_data"
    }
   ],
   "source": [
    "plt.figure(figsize=(10,9))\n",
    "plt.scatter(testing_plot[:,0], testing_plot[:,1], alpha = 0.1, c = y_test.ravel())\n",
    "contours = plt.contour(x_grid,y_grid,prob_contour)\n",
    "plt.title('Probability Contours')\n",
    "plt.clabel(contours, inline = True );"
   ]
  },
  {
   "cell_type": "code",
   "execution_count": null,
   "id": "e81b4ac7",
   "metadata": {
    "papermill": {
     "duration": 0.060324,
     "end_time": "2021-11-11T00:25:53.394211",
     "exception": false,
     "start_time": "2021-11-11T00:25:53.333887",
     "status": "completed"
    },
    "tags": []
   },
   "outputs": [],
   "source": []
  }
 ],
 "metadata": {
  "kernelspec": {
   "display_name": "Python 3",
   "language": "python",
   "name": "python3"
  },
  "language_info": {
   "codemirror_mode": {
    "name": "ipython",
    "version": 3
   },
   "file_extension": ".py",
   "mimetype": "text/x-python",
   "name": "python",
   "nbconvert_exporter": "python",
   "pygments_lexer": "ipython3",
   "version": "3.6.15"
  },
  "papermill": {
   "default_parameters": {},
   "duration": 186.257606,
   "end_time": "2021-11-11T00:25:53.859194",
   "environment_variables": {},
   "exception": null,
   "input_path": "2020-08-11-part2.ipynb",
   "output_path": "2020-08-11-part2.ipynb",
   "parameters": {},
   "start_time": "2021-11-11T00:22:47.601588",
   "version": "2.3.3"
  }
 },
 "nbformat": 4,
 "nbformat_minor": 5
}