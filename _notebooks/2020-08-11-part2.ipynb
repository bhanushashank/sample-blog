{
 "cells": [
  {
   "cell_type": "markdown",
   "id": "98380cd3",
   "metadata": {
    "papermill": {
     "duration": 0.028759,
     "end_time": "2021-11-03T10:07:43.367958",
     "exception": false,
     "start_time": "2021-11-03T10:07:43.339199",
     "status": "completed"
    },
    "tags": []
   },
   "source": [
    "# Distinguish Your Own Digits (DYOD)"
   ]
  },
  {
   "cell_type": "markdown",
   "id": "ef31240d",
   "metadata": {
    "papermill": {
     "duration": 0.024297,
     "end_time": "2021-11-03T10:07:43.417212",
     "exception": false,
     "start_time": "2021-11-03T10:07:43.392915",
     "status": "completed"
    },
    "tags": []
   },
   "source": [
    "You are going to write a classifier that distinguishes between the number 3 and number 8."
   ]
  },
  {
   "cell_type": "code",
   "execution_count": 1,
   "id": "b15c8646",
   "metadata": {
    "execution": {
     "iopub.execute_input": "2021-11-03T10:07:43.475718Z",
     "iopub.status.busy": "2021-11-03T10:07:43.475138Z",
     "iopub.status.idle": "2021-11-03T10:07:43.485611Z",
     "shell.execute_reply": "2021-11-03T10:07:43.485146Z"
    },
    "papermill": {
     "duration": 0.04436,
     "end_time": "2021-11-03T10:07:43.485744",
     "exception": false,
     "start_time": "2021-11-03T10:07:43.441384",
     "status": "completed"
    },
    "tags": []
   },
   "outputs": [],
   "source": [
    "%load_ext autoreload\n",
    "%autoreload 2"
   ]
  },
  {
   "cell_type": "code",
   "execution_count": 2,
   "id": "22ef38dc",
   "metadata": {
    "execution": {
     "iopub.execute_input": "2021-11-03T10:07:43.538550Z",
     "iopub.status.busy": "2021-11-03T10:07:43.538020Z",
     "iopub.status.idle": "2021-11-03T10:07:44.063542Z",
     "shell.execute_reply": "2021-11-03T10:07:44.062973Z"
    },
    "papermill": {
     "duration": 0.55365,
     "end_time": "2021-11-03T10:07:44.063692",
     "exception": false,
     "start_time": "2021-11-03T10:07:43.510042",
     "status": "completed"
    },
    "tags": []
   },
   "outputs": [],
   "source": [
    "%matplotlib inline\n",
    "import numpy as np\n",
    "import matplotlib.pyplot as plt\n",
    "import pandas as pd"
   ]
  },
  {
   "cell_type": "markdown",
   "id": "ba036198",
   "metadata": {
    "papermill": {
     "duration": 0.023815,
     "end_time": "2021-11-03T10:07:44.113425",
     "exception": false,
     "start_time": "2021-11-03T10:07:44.089610",
     "status": "completed"
    },
    "tags": []
   },
   "source": [
    "From the command line run `pip install mnist`. This is a library that will help you bring down the mnist dataset. If you run this from a notebook, you need to put  `!pip install mnist` in a cell by itself."
   ]
  },
  {
   "cell_type": "code",
   "execution_count": 3,
   "id": "bb6ad8a1",
   "metadata": {
    "execution": {
     "iopub.execute_input": "2021-11-03T10:07:44.179768Z",
     "iopub.status.busy": "2021-11-03T10:07:44.175894Z",
     "iopub.status.idle": "2021-11-03T10:07:46.645939Z",
     "shell.execute_reply": "2021-11-03T10:07:46.645402Z"
    },
    "papermill": {
     "duration": 2.508658,
     "end_time": "2021-11-03T10:07:46.646091",
     "exception": false,
     "start_time": "2021-11-03T10:07:44.137433",
     "status": "completed"
    },
    "tags": []
   },
   "outputs": [
    {
     "name": "stdout",
     "output_type": "stream",
     "text": [
      "Collecting mnist\r\n"
     ]
    },
    {
     "name": "stdout",
     "output_type": "stream",
     "text": [
      "  Downloading mnist-0.2.2-py2.py3-none-any.whl (3.5 kB)\r\n",
      "Requirement already satisfied: numpy in /opt/hostedtoolcache/Python/3.6.15/x64/lib/python3.6/site-packages (from mnist) (1.19.5)\r\n"
     ]
    },
    {
     "name": "stdout",
     "output_type": "stream",
     "text": [
      "Installing collected packages: mnist\r\n"
     ]
    },
    {
     "name": "stdout",
     "output_type": "stream",
     "text": [
      "Successfully installed mnist-0.2.2\r\n"
     ]
    }
   ],
   "source": [
    "!pip install mnist"
   ]
  },
  {
   "cell_type": "markdown",
   "id": "69df9c9a",
   "metadata": {
    "papermill": {
     "duration": 0.024931,
     "end_time": "2021-11-03T10:07:46.696655",
     "exception": false,
     "start_time": "2021-11-03T10:07:46.671724",
     "status": "completed"
    },
    "tags": []
   },
   "source": [
    "## Preparing the Data"
   ]
  },
  {
   "cell_type": "code",
   "execution_count": 4,
   "id": "7f69d806",
   "metadata": {
    "execution": {
     "iopub.execute_input": "2021-11-03T10:07:46.763780Z",
     "iopub.status.busy": "2021-11-03T10:07:46.762202Z",
     "iopub.status.idle": "2021-11-03T10:07:46.768298Z",
     "shell.execute_reply": "2021-11-03T10:07:46.768712Z"
    },
    "papermill": {
     "duration": 0.047337,
     "end_time": "2021-11-03T10:07:46.768844",
     "exception": false,
     "start_time": "2021-11-03T10:07:46.721507",
     "status": "completed"
    },
    "tags": []
   },
   "outputs": [],
   "source": [
    "import mnist"
   ]
  },
  {
   "cell_type": "code",
   "execution_count": 5,
   "id": "a411e44f",
   "metadata": {
    "execution": {
     "iopub.execute_input": "2021-11-03T10:07:46.843243Z",
     "iopub.status.busy": "2021-11-03T10:07:46.839106Z",
     "iopub.status.idle": "2021-11-03T10:07:47.361411Z",
     "shell.execute_reply": "2021-11-03T10:07:47.360905Z"
    },
    "papermill": {
     "duration": 0.565422,
     "end_time": "2021-11-03T10:07:47.361535",
     "exception": false,
     "start_time": "2021-11-03T10:07:46.796113",
     "status": "completed"
    },
    "tags": []
   },
   "outputs": [],
   "source": [
    "train_images = mnist.train_images()\n",
    "train_labels = mnist.train_labels()"
   ]
  },
  {
   "cell_type": "code",
   "execution_count": 6,
   "id": "dceab3a5",
   "metadata": {
    "execution": {
     "iopub.execute_input": "2021-11-03T10:07:47.421257Z",
     "iopub.status.busy": "2021-11-03T10:07:47.419263Z",
     "iopub.status.idle": "2021-11-03T10:07:47.432212Z",
     "shell.execute_reply": "2021-11-03T10:07:47.432600Z"
    },
    "papermill": {
     "duration": 0.045886,
     "end_time": "2021-11-03T10:07:47.432739",
     "exception": false,
     "start_time": "2021-11-03T10:07:47.386853",
     "status": "completed"
    },
    "tags": []
   },
   "outputs": [
    {
     "data": {
      "text/plain": [
       "((60000, 28, 28), (60000,))"
      ]
     },
     "execution_count": 6,
     "metadata": {},
     "output_type": "execute_result"
    }
   ],
   "source": [
    "train_images.shape, train_labels.shape"
   ]
  },
  {
   "cell_type": "code",
   "execution_count": 7,
   "id": "f50dc2bb",
   "metadata": {
    "execution": {
     "iopub.execute_input": "2021-11-03T10:07:47.497848Z",
     "iopub.status.busy": "2021-11-03T10:07:47.491662Z",
     "iopub.status.idle": "2021-11-03T10:07:47.648894Z",
     "shell.execute_reply": "2021-11-03T10:07:47.648355Z"
    },
    "papermill": {
     "duration": 0.191065,
     "end_time": "2021-11-03T10:07:47.649041",
     "exception": false,
     "start_time": "2021-11-03T10:07:47.457976",
     "status": "completed"
    },
    "tags": []
   },
   "outputs": [],
   "source": [
    "test_images = mnist.test_images()\n",
    "test_labels = mnist.test_labels()"
   ]
  },
  {
   "cell_type": "code",
   "execution_count": 8,
   "id": "fc38cf1b",
   "metadata": {
    "execution": {
     "iopub.execute_input": "2021-11-03T10:07:47.704226Z",
     "iopub.status.busy": "2021-11-03T10:07:47.703705Z",
     "iopub.status.idle": "2021-11-03T10:07:47.716609Z",
     "shell.execute_reply": "2021-11-03T10:07:47.716195Z"
    },
    "papermill": {
     "duration": 0.041483,
     "end_time": "2021-11-03T10:07:47.716721",
     "exception": false,
     "start_time": "2021-11-03T10:07:47.675238",
     "status": "completed"
    },
    "tags": []
   },
   "outputs": [
    {
     "data": {
      "text/plain": [
       "((10000, 28, 28), (10000,))"
      ]
     },
     "execution_count": 8,
     "metadata": {},
     "output_type": "execute_result"
    }
   ],
   "source": [
    "test_images.shape, test_labels.shape"
   ]
  },
  {
   "cell_type": "code",
   "execution_count": 9,
   "id": "f9ed8fe0",
   "metadata": {
    "execution": {
     "iopub.execute_input": "2021-11-03T10:07:47.797871Z",
     "iopub.status.busy": "2021-11-03T10:07:47.779766Z",
     "iopub.status.idle": "2021-11-03T10:07:47.913677Z",
     "shell.execute_reply": "2021-11-03T10:07:47.913157Z"
    },
    "papermill": {
     "duration": 0.171698,
     "end_time": "2021-11-03T10:07:47.913822",
     "exception": false,
     "start_time": "2021-11-03T10:07:47.742124",
     "status": "completed"
    },
    "tags": []
   },
   "outputs": [
    {
     "name": "stdout",
     "output_type": "stream",
     "text": [
      "2\n"
     ]
    },
    {
     "data": {
      "text/plain": [
       "<matplotlib.image.AxesImage at 0x7f8b8474a198>"
      ]
     },
     "execution_count": 9,
     "metadata": {},
     "output_type": "execute_result"
    },
    {
     "data": {
      "image/png": "[encoded data removed]",
      "text/plain": [
       "<Figure size 432x288 with 1 Axes>"
      ]
     },
     "metadata": {
      "needs_background": "light"
     },
     "output_type": "display_data"
    }
   ],
   "source": [
    "image_index = 7776 # You may select anything up to 60,000\n",
    "print(train_labels[image_index]) \n",
    "plt.imshow(train_images[image_index], cmap='Greys')"
   ]
  },
  {
   "cell_type": "markdown",
   "id": "a8d2388d",
   "metadata": {
    "papermill": {
     "duration": 0.026699,
     "end_time": "2021-11-03T10:07:47.971374",
     "exception": false,
     "start_time": "2021-11-03T10:07:47.944675",
     "status": "completed"
    },
    "tags": []
   },
   "source": [
    "## Filter data to get 3 and 8 out"
   ]
  },
  {
   "cell_type": "code",
   "execution_count": 10,
   "id": "776f7fc7",
   "metadata": {
    "execution": {
     "iopub.execute_input": "2021-11-03T10:07:48.029661Z",
     "iopub.status.busy": "2021-11-03T10:07:48.029128Z",
     "iopub.status.idle": "2021-11-03T10:07:48.045247Z",
     "shell.execute_reply": "2021-11-03T10:07:48.045636Z"
    },
    "papermill": {
     "duration": 0.047756,
     "end_time": "2021-11-03T10:07:48.045770",
     "exception": false,
     "start_time": "2021-11-03T10:07:47.998014",
     "status": "completed"
    },
    "tags": []
   },
   "outputs": [],
   "source": [
    "train_filter = np.where((train_labels == 3 ) | (train_labels == 8))\n",
    "test_filter = np.where((test_labels == 3) | (test_labels == 8))\n",
    "X_train, y_train = train_images[train_filter], train_labels[train_filter]\n",
    "X_test, y_test = test_images[test_filter], test_labels[test_filter]"
   ]
  },
  {
   "cell_type": "markdown",
   "id": "948f0b7e",
   "metadata": {
    "papermill": {
     "duration": 0.026313,
     "end_time": "2021-11-03T10:07:48.098947",
     "exception": false,
     "start_time": "2021-11-03T10:07:48.072634",
     "status": "completed"
    },
    "tags": []
   },
   "source": [
    "We normalize the pizel values in the 0 to 1 range"
   ]
  },
  {
   "cell_type": "code",
   "execution_count": 11,
   "id": "ee4c2166",
   "metadata": {
    "execution": {
     "iopub.execute_input": "2021-11-03T10:07:48.171666Z",
     "iopub.status.busy": "2021-11-03T10:07:48.167676Z",
     "iopub.status.idle": "2021-11-03T10:07:48.204921Z",
     "shell.execute_reply": "2021-11-03T10:07:48.205392Z"
    },
    "papermill": {
     "duration": 0.080243,
     "end_time": "2021-11-03T10:07:48.205559",
     "exception": false,
     "start_time": "2021-11-03T10:07:48.125316",
     "status": "completed"
    },
    "tags": []
   },
   "outputs": [],
   "source": [
    "X_train = X_train/255.\n",
    "X_test = X_test/255."
   ]
  },
  {
   "cell_type": "markdown",
   "id": "ddcf4fab",
   "metadata": {
    "papermill": {
     "duration": 0.026288,
     "end_time": "2021-11-03T10:07:48.259343",
     "exception": false,
     "start_time": "2021-11-03T10:07:48.233055",
     "status": "completed"
    },
    "tags": []
   },
   "source": [
    "And setup the labels as 1 (when the digit is 3) and 0 (when the digit is 8)"
   ]
  },
  {
   "cell_type": "code",
   "execution_count": 12,
   "id": "7dc908f2",
   "metadata": {
    "execution": {
     "iopub.execute_input": "2021-11-03T10:07:48.321382Z",
     "iopub.status.busy": "2021-11-03T10:07:48.315256Z",
     "iopub.status.idle": "2021-11-03T10:07:48.328839Z",
     "shell.execute_reply": "2021-11-03T10:07:48.328402Z"
    },
    "papermill": {
     "duration": 0.043318,
     "end_time": "2021-11-03T10:07:48.328955",
     "exception": false,
     "start_time": "2021-11-03T10:07:48.285637",
     "status": "completed"
    },
    "tags": []
   },
   "outputs": [],
   "source": [
    "y_train = 1*(y_train==3)\n",
    "y_test = 1*(y_test==3)"
   ]
  },
  {
   "cell_type": "code",
   "execution_count": 13,
   "id": "01e4e969",
   "metadata": {
    "execution": {
     "iopub.execute_input": "2021-11-03T10:07:48.385762Z",
     "iopub.status.busy": "2021-11-03T10:07:48.385258Z",
     "iopub.status.idle": "2021-11-03T10:07:48.398127Z",
     "shell.execute_reply": "2021-11-03T10:07:48.397715Z"
    },
    "papermill": {
     "duration": 0.042606,
     "end_time": "2021-11-03T10:07:48.398244",
     "exception": false,
     "start_time": "2021-11-03T10:07:48.355638",
     "status": "completed"
    },
    "tags": []
   },
   "outputs": [
    {
     "data": {
      "text/plain": [
       "((11982, 28, 28), (1984, 28, 28))"
      ]
     },
     "execution_count": 13,
     "metadata": {},
     "output_type": "execute_result"
    }
   ],
   "source": [
    "X_train.shape, X_test.shape"
   ]
  },
  {
   "cell_type": "markdown",
   "id": "5ccf3f85",
   "metadata": {
    "papermill": {
     "duration": 0.026785,
     "end_time": "2021-11-03T10:07:48.451967",
     "exception": false,
     "start_time": "2021-11-03T10:07:48.425182",
     "status": "completed"
    },
    "tags": []
   },
   "source": [
    "We reshape the data to flatten the image pixels into a set of features or co-variates:"
   ]
  },
  {
   "cell_type": "code",
   "execution_count": 14,
   "id": "5286a4a3",
   "metadata": {
    "execution": {
     "iopub.execute_input": "2021-11-03T10:07:48.509916Z",
     "iopub.status.busy": "2021-11-03T10:07:48.509392Z",
     "iopub.status.idle": "2021-11-03T10:07:48.523407Z",
     "shell.execute_reply": "2021-11-03T10:07:48.523797Z"
    },
    "papermill": {
     "duration": 0.04524,
     "end_time": "2021-11-03T10:07:48.523938",
     "exception": false,
     "start_time": "2021-11-03T10:07:48.478698",
     "status": "completed"
    },
    "tags": []
   },
   "outputs": [
    {
     "data": {
      "text/plain": [
       "((11982, 784), (1984, 784))"
      ]
     },
     "execution_count": 14,
     "metadata": {},
     "output_type": "execute_result"
    }
   ],
   "source": [
    "X_train = X_train.reshape(X_train.shape[0], -1)\n",
    "X_test = X_test.reshape(X_test.shape[0], -1)\n",
    "X_train.shape, X_test.shape"
   ]
  },
  {
   "cell_type": "code",
   "execution_count": 15,
   "id": "73c5f88a",
   "metadata": {
    "execution": {
     "iopub.execute_input": "2021-11-03T10:07:48.596363Z",
     "iopub.status.busy": "2021-11-03T10:07:48.591950Z",
     "iopub.status.idle": "2021-11-03T10:07:48.605394Z",
     "shell.execute_reply": "2021-11-03T10:07:48.604972Z"
    },
    "papermill": {
     "duration": 0.054327,
     "end_time": "2021-11-03T10:07:48.605515",
     "exception": false,
     "start_time": "2021-11-03T10:07:48.551188",
     "status": "completed"
    },
    "tags": []
   },
   "outputs": [],
   "source": [
    "#Impoting functions from 'Kudzu'\n",
    "from kudzu.model import Model\n",
    "from kudzu.train import Learner\n",
    "from kudzu.optim import GD\n",
    "from kudzu.data import Data, Sampler,Dataloader\n",
    "\n",
    "from kudzu.callbacks import AccCallback\n",
    "from kudzu.callbacks import ClfCallback\n",
    "\n",
    "from kudzu.loss import MSE\n",
    "\n",
    "from kudzu.layer import Sigmoid,Relu\n",
    "from kudzu.layer import Affine"
   ]
  },
  {
   "cell_type": "markdown",
   "id": "bc01172a",
   "metadata": {
    "papermill": {
     "duration": 0.02704,
     "end_time": "2021-11-03T10:07:48.659921",
     "exception": false,
     "start_time": "2021-11-03T10:07:48.632881",
     "status": "completed"
    },
    "tags": []
   },
   "source": [
    "### Let us create a `Config` class, to store important parameters. \n",
    "This class essentially plays the role of a dictionary."
   ]
  },
  {
   "cell_type": "code",
   "execution_count": 16,
   "id": "978281aa",
   "metadata": {
    "execution": {
     "iopub.execute_input": "2021-11-03T10:07:48.718214Z",
     "iopub.status.busy": "2021-11-03T10:07:48.717676Z",
     "iopub.status.idle": "2021-11-03T10:07:48.731200Z",
     "shell.execute_reply": "2021-11-03T10:07:48.730711Z"
    },
    "papermill": {
     "duration": 0.044373,
     "end_time": "2021-11-03T10:07:48.731323",
     "exception": false,
     "start_time": "2021-11-03T10:07:48.686950",
     "status": "completed"
    },
    "tags": []
   },
   "outputs": [],
   "source": [
    "class Config:\n",
    "    pass\n",
    "config = Config()\n",
    "config.lr = 0.001\n",
    "config.num_epochs = 250\n",
    "config.bs = 50"
   ]
  },
  {
   "cell_type": "markdown",
   "id": "1385fa59",
   "metadata": {
    "papermill": {
     "duration": 0.027036,
     "end_time": "2021-11-03T10:07:48.785751",
     "exception": false,
     "start_time": "2021-11-03T10:07:48.758715",
     "status": "completed"
    },
    "tags": []
   },
   "source": [
    "### Running Models with the Training data\n",
    "Details about the network layers:\n",
    "- A first affine layer has 784 inputs and does 100 affine transforms. These are followed by a Relu\n",
    "- A second affine layer has 100 inputs from the 100 activations of the past layer, and does 100 affine transforms. These are followed by a Relu\n",
    "- A third affine layer has 100 activations and does 2 affine transformations to create an embedding for visualization. There is no non-linearity here.\n",
    "- A final \"logistic regression\" which has an affine transform from 2 inputs to 1 output, which is squeezed through a sigmoid.\n"
   ]
  },
  {
   "cell_type": "code",
   "execution_count": 17,
   "id": "2b9c66db",
   "metadata": {
    "execution": {
     "iopub.execute_input": "2021-11-03T10:07:48.859035Z",
     "iopub.status.busy": "2021-11-03T10:07:48.855888Z",
     "iopub.status.idle": "2021-11-03T10:07:48.861430Z",
     "shell.execute_reply": "2021-11-03T10:07:48.860908Z"
    },
    "papermill": {
     "duration": 0.048693,
     "end_time": "2021-11-03T10:07:48.861549",
     "exception": false,
     "start_time": "2021-11-03T10:07:48.812856",
     "status": "completed"
    },
    "tags": []
   },
   "outputs": [],
   "source": [
    "data = Data(X_train, y_train.reshape(-1,1))\n",
    "sampler = Sampler(data, config.bs, shuffle=True)\n",
    "\n",
    "dl = Dataloader(data, sampler)\n",
    "\n",
    "opt = GD(config.lr)\n",
    "loss = MSE()"
   ]
  },
  {
   "cell_type": "code",
   "execution_count": 18,
   "id": "b275e4c2",
   "metadata": {
    "execution": {
     "iopub.execute_input": "2021-11-03T10:07:48.935801Z",
     "iopub.status.busy": "2021-11-03T10:07:48.931911Z",
     "iopub.status.idle": "2021-11-03T10:07:48.938986Z",
     "shell.execute_reply": "2021-11-03T10:07:48.938540Z"
    },
    "papermill": {
     "duration": 0.050133,
     "end_time": "2021-11-03T10:07:48.939118",
     "exception": false,
     "start_time": "2021-11-03T10:07:48.888985",
     "status": "completed"
    },
    "tags": []
   },
   "outputs": [],
   "source": [
    "training_data_x = X_train\n",
    "testing_data_x = X_test\n",
    "training_data_y = y_train.reshape(-1,1)\n",
    "testing_data_y = y_test.reshape(-1,1)"
   ]
  },
  {
   "cell_type": "code",
   "execution_count": 19,
   "id": "76951160",
   "metadata": {
    "execution": {
     "iopub.execute_input": "2021-11-03T10:07:48.998264Z",
     "iopub.status.busy": "2021-11-03T10:07:48.997726Z",
     "iopub.status.idle": "2021-11-03T10:07:49.014441Z",
     "shell.execute_reply": "2021-11-03T10:07:49.013992Z"
    },
    "papermill": {
     "duration": 0.048058,
     "end_time": "2021-11-03T10:07:49.014559",
     "exception": false,
     "start_time": "2021-11-03T10:07:48.966501",
     "status": "completed"
    },
    "tags": []
   },
   "outputs": [
    {
     "name": "stdout",
     "output_type": "stream",
     "text": [
      "xavier\n",
      "xavier\n",
      "xavier\n",
      "xavier\n",
      "xavier\n"
     ]
    }
   ],
   "source": [
    "layers = [Affine(\"first\", 784, 100), Relu(\"first\"), Affine(\"second\", 100, 100), Relu(\"second\"), Affine(\"third\", 100, 2), Affine(\"last\", 2, 1), Sigmoid(\"last\")]\n",
    "model_nn = Model(layers)\n",
    "model_lr = Model([Affine(\"logits\", 784, 1), Sigmoid(\"sigmoid\")])"
   ]
  },
  {
   "cell_type": "code",
   "execution_count": 20,
   "id": "6eede77a",
   "metadata": {
    "execution": {
     "iopub.execute_input": "2021-11-03T10:07:49.074040Z",
     "iopub.status.busy": "2021-11-03T10:07:49.073518Z",
     "iopub.status.idle": "2021-11-03T10:07:49.086187Z",
     "shell.execute_reply": "2021-11-03T10:07:49.085756Z"
    },
    "papermill": {
     "duration": 0.044056,
     "end_time": "2021-11-03T10:07:49.086313",
     "exception": false,
     "start_time": "2021-11-03T10:07:49.042257",
     "status": "completed"
    },
    "tags": []
   },
   "outputs": [],
   "source": [
    "nn_learner = Learner(loss, model_nn, opt, config.num_epochs)\n",
    "acc_nn = ClfCallback(nn_learner, config.bs, training_data_x , testing_data_x, training_data_y, testing_data_y)\n",
    "nn_learner.set_callbacks([acc_nn])"
   ]
  },
  {
   "cell_type": "code",
   "execution_count": 21,
   "id": "877b6cc7",
   "metadata": {
    "execution": {
     "iopub.execute_input": "2021-11-03T10:07:49.160107Z",
     "iopub.status.busy": "2021-11-03T10:07:49.158475Z",
     "iopub.status.idle": "2021-11-03T10:07:49.162420Z",
     "shell.execute_reply": "2021-11-03T10:07:49.162010Z"
    },
    "papermill": {
     "duration": 0.048665,
     "end_time": "2021-11-03T10:07:49.162540",
     "exception": false,
     "start_time": "2021-11-03T10:07:49.113875",
     "status": "completed"
    },
    "tags": []
   },
   "outputs": [],
   "source": [
    "lr_learner = Learner(loss, model_lr, opt, config.num_epochs)\n",
    "acc_lr = ClfCallback(lr_learner, config.bs, training_data_x , testing_data_x, training_data_y, testing_data_y)\n",
    "lr_learner.set_callbacks([acc_lr])"
   ]
  },
  {
   "cell_type": "code",
   "execution_count": 22,
   "id": "d9b133c3",
   "metadata": {
    "execution": {
     "iopub.execute_input": "2021-11-03T10:07:49.231726Z",
     "iopub.status.busy": "2021-11-03T10:07:49.229127Z",
     "iopub.status.idle": "2021-11-03T10:09:08.679835Z",
     "shell.execute_reply": "2021-11-03T10:09:08.680590Z"
    },
    "papermill": {
     "duration": 79.490787,
     "end_time": "2021-11-03T10:09:08.680744",
     "exception": false,
     "start_time": "2021-11-03T10:07:49.189957",
     "status": "completed"
    },
    "tags": []
   },
   "outputs": [
    {
     "name": "stdout",
     "output_type": "stream",
     "text": [
      "Epoch 0, Loss 0.205\n",
      "Training Accuracy: 0.8254, Testing Accuracy: 0.8311\n",
      "\n"
     ]
    },
    {
     "name": "stdout",
     "output_type": "stream",
     "text": [
      "Epoch 10, Loss 0.0649\n",
      "Training Accuracy: 0.9382, Testing Accuracy: 0.9461\n",
      "\n"
     ]
    },
    {
     "name": "stdout",
     "output_type": "stream",
     "text": [
      "Epoch 20, Loss 0.0457\n",
      "Training Accuracy: 0.9509, Testing Accuracy: 0.9587\n",
      "\n"
     ]
    },
    {
     "name": "stdout",
     "output_type": "stream",
     "text": [
      "Epoch 30, Loss 0.0385\n",
      "Training Accuracy: 0.9559, Testing Accuracy: 0.9622\n",
      "\n"
     ]
    },
    {
     "name": "stdout",
     "output_type": "stream",
     "text": [
      "Epoch 40, Loss 0.0345\n",
      "Training Accuracy: 0.9594, Testing Accuracy: 0.9642\n",
      "\n"
     ]
    },
    {
     "name": "stdout",
     "output_type": "stream",
     "text": [
      "Epoch 50, Loss 0.0318\n",
      "Training Accuracy: 0.9620, Testing Accuracy: 0.9652\n",
      "\n"
     ]
    },
    {
     "name": "stdout",
     "output_type": "stream",
     "text": [
      "Epoch 60, Loss 0.0298\n",
      "Training Accuracy: 0.9641, Testing Accuracy: 0.9662\n",
      "\n"
     ]
    },
    {
     "name": "stdout",
     "output_type": "stream",
     "text": [
      "Epoch 70, Loss 0.0282\n",
      "Training Accuracy: 0.9660, Testing Accuracy: 0.9667\n",
      "\n"
     ]
    },
    {
     "name": "stdout",
     "output_type": "stream",
     "text": [
      "Epoch 80, Loss 0.0269\n",
      "Training Accuracy: 0.9675, Testing Accuracy: 0.9688\n",
      "\n"
     ]
    },
    {
     "name": "stdout",
     "output_type": "stream",
     "text": [
      "Epoch 90, Loss 0.0259\n",
      "Training Accuracy: 0.9686, Testing Accuracy: 0.9693\n",
      "\n"
     ]
    },
    {
     "name": "stdout",
     "output_type": "stream",
     "text": [
      "Epoch 100, Loss 0.0249\n",
      "Training Accuracy: 0.9694, Testing Accuracy: 0.9703\n",
      "\n"
     ]
    },
    {
     "name": "stdout",
     "output_type": "stream",
     "text": [
      "Epoch 110, Loss 0.024\n",
      "Training Accuracy: 0.9704, Testing Accuracy: 0.9703\n",
      "\n"
     ]
    },
    {
     "name": "stdout",
     "output_type": "stream",
     "text": [
      "Epoch 120, Loss 0.0232\n",
      "Training Accuracy: 0.9720, Testing Accuracy: 0.9708\n",
      "\n"
     ]
    },
    {
     "name": "stdout",
     "output_type": "stream",
     "text": [
      "Epoch 130, Loss 0.0225\n",
      "Training Accuracy: 0.9734, Testing Accuracy: 0.9708\n",
      "\n"
     ]
    },
    {
     "name": "stdout",
     "output_type": "stream",
     "text": [
      "Epoch 140, Loss 0.0219\n",
      "Training Accuracy: 0.9746, Testing Accuracy: 0.9708\n",
      "\n"
     ]
    },
    {
     "name": "stdout",
     "output_type": "stream",
     "text": [
      "Epoch 150, Loss 0.0213\n",
      "Training Accuracy: 0.9755, Testing Accuracy: 0.9733\n",
      "\n"
     ]
    },
    {
     "name": "stdout",
     "output_type": "stream",
     "text": [
      "Epoch 160, Loss 0.0207\n",
      "Training Accuracy: 0.9761, Testing Accuracy: 0.9738\n",
      "\n"
     ]
    },
    {
     "name": "stdout",
     "output_type": "stream",
     "text": [
      "Epoch 170, Loss 0.0202\n",
      "Training Accuracy: 0.9768, Testing Accuracy: 0.9743\n",
      "\n"
     ]
    },
    {
     "name": "stdout",
     "output_type": "stream",
     "text": [
      "Epoch 180, Loss 0.0196\n",
      "Training Accuracy: 0.9775, Testing Accuracy: 0.9748\n",
      "\n"
     ]
    },
    {
     "name": "stdout",
     "output_type": "stream",
     "text": [
      "Epoch 190, Loss 0.0192\n",
      "Training Accuracy: 0.9783, Testing Accuracy: 0.9753\n",
      "\n"
     ]
    },
    {
     "name": "stdout",
     "output_type": "stream",
     "text": [
      "Epoch 200, Loss 0.0187\n",
      "Training Accuracy: 0.9788, Testing Accuracy: 0.9763\n",
      "\n"
     ]
    },
    {
     "name": "stdout",
     "output_type": "stream",
     "text": [
      "Epoch 210, Loss 0.0182\n",
      "Training Accuracy: 0.9796, Testing Accuracy: 0.9763\n",
      "\n"
     ]
    },
    {
     "name": "stdout",
     "output_type": "stream",
     "text": [
      "Epoch 220, Loss 0.0178\n",
      "Training Accuracy: 0.9808, Testing Accuracy: 0.9773\n",
      "\n"
     ]
    },
    {
     "name": "stdout",
     "output_type": "stream",
     "text": [
      "Epoch 230, Loss 0.0174\n",
      "Training Accuracy: 0.9811, Testing Accuracy: 0.9773\n",
      "\n"
     ]
    },
    {
     "name": "stdout",
     "output_type": "stream",
     "text": [
      "Epoch 240, Loss 0.017\n",
      "Training Accuracy: 0.9818, Testing Accuracy: 0.9773\n",
      "\n"
     ]
    },
    {
     "data": {
      "text/plain": [
       "0.011941596058374046"
      ]
     },
     "execution_count": 22,
     "metadata": {},
     "output_type": "execute_result"
    }
   ],
   "source": [
    "nn_learner.train_loop(dl)"
   ]
  },
  {
   "cell_type": "code",
   "execution_count": 23,
   "id": "e0163366",
   "metadata": {
    "execution": {
     "iopub.execute_input": "2021-11-03T10:09:08.764501Z",
     "iopub.status.busy": "2021-11-03T10:09:08.763949Z",
     "iopub.status.idle": "2021-11-03T10:09:22.919495Z",
     "shell.execute_reply": "2021-11-03T10:09:22.920240Z"
    },
    "papermill": {
     "duration": 14.203157,
     "end_time": "2021-11-03T10:09:22.920398",
     "exception": false,
     "start_time": "2021-11-03T10:09:08.717241",
     "status": "completed"
    },
    "tags": []
   },
   "outputs": [
    {
     "name": "stdout",
     "output_type": "stream",
     "text": [
      "Epoch 0, Loss 0.2276\n",
      "Training Accuracy: 0.7364, Testing Accuracy: 0.7475\n",
      "\n"
     ]
    },
    {
     "name": "stdout",
     "output_type": "stream",
     "text": [
      "Epoch 10, Loss 0.1047\n",
      "Training Accuracy: 0.8959, Testing Accuracy: 0.9098\n",
      "\n"
     ]
    },
    {
     "name": "stdout",
     "output_type": "stream",
     "text": [
      "Epoch 20, Loss 0.0812\n",
      "Training Accuracy: 0.9187, Testing Accuracy: 0.9320\n",
      "\n"
     ]
    },
    {
     "name": "stdout",
     "output_type": "stream",
     "text": [
      "Epoch 30, Loss 0.07\n",
      "Training Accuracy: 0.9305, Testing Accuracy: 0.9435\n",
      "\n"
     ]
    },
    {
     "name": "stdout",
     "output_type": "stream",
     "text": [
      "Epoch 40, Loss 0.0632\n",
      "Training Accuracy: 0.9369, Testing Accuracy: 0.9491\n",
      "\n"
     ]
    },
    {
     "name": "stdout",
     "output_type": "stream",
     "text": [
      "Epoch 50, Loss 0.0586\n",
      "Training Accuracy: 0.9420, Testing Accuracy: 0.9536\n",
      "\n"
     ]
    },
    {
     "name": "stdout",
     "output_type": "stream",
     "text": [
      "Epoch 60, Loss 0.0551\n",
      "Training Accuracy: 0.9445, Testing Accuracy: 0.9561\n",
      "\n"
     ]
    },
    {
     "name": "stdout",
     "output_type": "stream",
     "text": [
      "Epoch 70, Loss 0.0525\n",
      "Training Accuracy: 0.9467, Testing Accuracy: 0.9582\n",
      "\n"
     ]
    },
    {
     "name": "stdout",
     "output_type": "stream",
     "text": [
      "Epoch 80, Loss 0.0503\n",
      "Training Accuracy: 0.9489, Testing Accuracy: 0.9592\n",
      "\n"
     ]
    },
    {
     "name": "stdout",
     "output_type": "stream",
     "text": [
      "Epoch 90, Loss 0.0486\n",
      "Training Accuracy: 0.9500, Testing Accuracy: 0.9597\n",
      "\n"
     ]
    },
    {
     "name": "stdout",
     "output_type": "stream",
     "text": [
      "Epoch 100, Loss 0.0471\n",
      "Training Accuracy: 0.9511, Testing Accuracy: 0.9612\n",
      "\n"
     ]
    },
    {
     "name": "stdout",
     "output_type": "stream",
     "text": [
      "Epoch 110, Loss 0.0458\n",
      "Training Accuracy: 0.9524, Testing Accuracy: 0.9602\n",
      "\n"
     ]
    },
    {
     "name": "stdout",
     "output_type": "stream",
     "text": [
      "Epoch 120, Loss 0.0447\n",
      "Training Accuracy: 0.9535, Testing Accuracy: 0.9612\n",
      "\n"
     ]
    },
    {
     "name": "stdout",
     "output_type": "stream",
     "text": [
      "Epoch 130, Loss 0.0437\n",
      "Training Accuracy: 0.9540, Testing Accuracy: 0.9612\n",
      "\n"
     ]
    },
    {
     "name": "stdout",
     "output_type": "stream",
     "text": [
      "Epoch 140, Loss 0.0428\n",
      "Training Accuracy: 0.9548, Testing Accuracy: 0.9627\n",
      "\n"
     ]
    },
    {
     "name": "stdout",
     "output_type": "stream",
     "text": [
      "Epoch 150, Loss 0.042\n",
      "Training Accuracy: 0.9553, Testing Accuracy: 0.9637\n",
      "\n"
     ]
    },
    {
     "name": "stdout",
     "output_type": "stream",
     "text": [
      "Epoch 160, Loss 0.0413\n",
      "Training Accuracy: 0.9561, Testing Accuracy: 0.9637\n",
      "\n"
     ]
    },
    {
     "name": "stdout",
     "output_type": "stream",
     "text": [
      "Epoch 170, Loss 0.0407\n",
      "Training Accuracy: 0.9566, Testing Accuracy: 0.9652\n",
      "\n"
     ]
    },
    {
     "name": "stdout",
     "output_type": "stream",
     "text": [
      "Epoch 180, Loss 0.0401\n",
      "Training Accuracy: 0.9568, Testing Accuracy: 0.9657\n",
      "\n"
     ]
    },
    {
     "name": "stdout",
     "output_type": "stream",
     "text": [
      "Epoch 190, Loss 0.0395\n",
      "Training Accuracy: 0.9577, Testing Accuracy: 0.9657\n",
      "\n"
     ]
    },
    {
     "name": "stdout",
     "output_type": "stream",
     "text": [
      "Epoch 200, Loss 0.039\n",
      "Training Accuracy: 0.9581, Testing Accuracy: 0.9667\n",
      "\n"
     ]
    },
    {
     "name": "stdout",
     "output_type": "stream",
     "text": [
      "Epoch 210, Loss 0.0386\n",
      "Training Accuracy: 0.9581, Testing Accuracy: 0.9672\n",
      "\n"
     ]
    },
    {
     "name": "stdout",
     "output_type": "stream",
     "text": [
      "Epoch 220, Loss 0.0381\n",
      "Training Accuracy: 0.9586, Testing Accuracy: 0.9677\n",
      "\n"
     ]
    },
    {
     "name": "stdout",
     "output_type": "stream",
     "text": [
      "Epoch 230, Loss 0.0377\n",
      "Training Accuracy: 0.9589, Testing Accuracy: 0.9677\n",
      "\n"
     ]
    },
    {
     "name": "stdout",
     "output_type": "stream",
     "text": [
      "Epoch 240, Loss 0.0374\n",
      "Training Accuracy: 0.9594, Testing Accuracy: 0.9682\n",
      "\n"
     ]
    },
    {
     "data": {
      "text/plain": [
       "0.03377879483408813"
      ]
     },
     "execution_count": 23,
     "metadata": {},
     "output_type": "execute_result"
    }
   ],
   "source": [
    "lr_learner.train_loop(dl)"
   ]
  },
  {
   "cell_type": "code",
   "execution_count": 24,
   "id": "ca410940",
   "metadata": {
    "execution": {
     "iopub.execute_input": "2021-11-03T10:09:23.012777Z",
     "iopub.status.busy": "2021-11-03T10:09:23.012221Z",
     "iopub.status.idle": "2021-11-03T10:09:23.236155Z",
     "shell.execute_reply": "2021-11-03T10:09:23.235648Z"
    },
    "papermill": {
     "duration": 0.274302,
     "end_time": "2021-11-03T10:09:23.236294",
     "exception": false,
     "start_time": "2021-11-03T10:09:22.961992",
     "status": "completed"
    },
    "tags": []
   },
   "outputs": [
    {
     "data": {
      "text/plain": [
       "<matplotlib.legend.Legend at 0x7f8b77b00748>"
      ]
     },
     "execution_count": 24,
     "metadata": {},
     "output_type": "execute_result"
    },
    {
     "data": {
      "image/png": "[encoded data removed]",
      "text/plain": [
       "<Figure size 1080x720 with 1 Axes>"
      ]
     },
     "metadata": {
      "needs_background": "light"
     },
     "output_type": "display_data"
    }
   ],
   "source": [
    "#comparing the results of NN and LR\n",
    "plt.figure(figsize=(15,10))\n",
    "\n",
    "# Neural Network plots\n",
    "plt.plot(acc_nn.accuracies, 'r-', label = \"Training Accuracies - NN\")\n",
    "plt.plot(acc_nn.test_accuracies, 'g-', label = \"Testing Accuracies - NN\")\n",
    "\n",
    "# Logistic Regression plots\n",
    "plt.plot(acc_lr.accuracies, 'k-', label = \"Training Accuracies - LR\")\n",
    "plt.plot(acc_lr.test_accuracies, 'b-', label = \"Testing Accuracies - LR\")\n",
    "plt.legend()"
   ]
  },
  {
   "cell_type": "markdown",
   "id": "80dfb35c",
   "metadata": {
    "papermill": {
     "duration": 0.043047,
     "end_time": "2021-11-03T10:09:23.322960",
     "exception": false,
     "start_time": "2021-11-03T10:09:23.279913",
     "status": "completed"
    },
    "tags": []
   },
   "source": [
    "#### Plotting the outputs of this layer of the NN.\n"
   ]
  },
  {
   "cell_type": "code",
   "execution_count": 25,
   "id": "45eb2ff5",
   "metadata": {
    "execution": {
     "iopub.execute_input": "2021-11-03T10:09:23.412690Z",
     "iopub.status.busy": "2021-11-03T10:09:23.412153Z",
     "iopub.status.idle": "2021-11-03T10:09:23.432851Z",
     "shell.execute_reply": "2021-11-03T10:09:23.433310Z"
    },
    "papermill": {
     "duration": 0.067635,
     "end_time": "2021-11-03T10:09:23.433465",
     "exception": false,
     "start_time": "2021-11-03T10:09:23.365830",
     "status": "completed"
    },
    "tags": []
   },
   "outputs": [],
   "source": [
    "new_model = Model(layers[:-2])\n",
    "testing_plot = new_model(testing_data_x)"
   ]
  },
  {
   "cell_type": "code",
   "execution_count": 26,
   "id": "4c0a5485",
   "metadata": {
    "execution": {
     "iopub.execute_input": "2021-11-03T10:09:23.535918Z",
     "iopub.status.busy": "2021-11-03T10:09:23.525551Z",
     "iopub.status.idle": "2021-11-03T10:09:23.729634Z",
     "shell.execute_reply": "2021-11-03T10:09:23.729090Z"
    },
    "papermill": {
     "duration": 0.252782,
     "end_time": "2021-11-03T10:09:23.729755",
     "exception": false,
     "start_time": "2021-11-03T10:09:23.476973",
     "status": "completed"
    },
    "tags": []
   },
   "outputs": [
    {
     "data": {
      "text/plain": [
       "Text(0.5, 1.0, 'Outputs')"
      ]
     },
     "execution_count": 26,
     "metadata": {},
     "output_type": "execute_result"
    },
    {
     "data": {
      "image/png": "[encoded data removed]",
      "text/plain": [
       "<Figure size 576x504 with 1 Axes>"
      ]
     },
     "metadata": {
      "needs_background": "light"
     },
     "output_type": "display_data"
    }
   ],
   "source": [
    "# Plotting the scatter plot of points and color coding by class\n",
    "plt.figure(figsize=(8,7))\n",
    "plt.scatter(testing_plot[:,0], testing_plot[:,1], alpha = 0.1, c = y_test.ravel());\n",
    "plt.title('Outputs')"
   ]
  },
  {
   "cell_type": "markdown",
   "id": "a74fcf8f",
   "metadata": {
    "papermill": {
     "duration": 0.045225,
     "end_time": "2021-11-03T10:09:23.820765",
     "exception": false,
     "start_time": "2021-11-03T10:09:23.775540",
     "status": "completed"
    },
    "tags": []
   },
   "source": [
    "Probability contours"
   ]
  },
  {
   "cell_type": "code",
   "execution_count": 27,
   "id": "d0afc8e3",
   "metadata": {
    "execution": {
     "iopub.execute_input": "2021-11-03T10:09:23.928672Z",
     "iopub.status.busy": "2021-11-03T10:09:23.927820Z",
     "iopub.status.idle": "2021-11-03T10:09:23.933005Z",
     "shell.execute_reply": "2021-11-03T10:09:23.932587Z"
    },
    "papermill": {
     "duration": 0.066863,
     "end_time": "2021-11-03T10:09:23.933121",
     "exception": false,
     "start_time": "2021-11-03T10:09:23.866258",
     "status": "completed"
    },
    "tags": []
   },
   "outputs": [],
   "source": [
    "model_prob = Model(layers[-2:]) "
   ]
  },
  {
   "cell_type": "code",
   "execution_count": 28,
   "id": "9b96e238",
   "metadata": {
    "execution": {
     "iopub.execute_input": "2021-11-03T10:09:24.039636Z",
     "iopub.status.busy": "2021-11-03T10:09:24.037011Z",
     "iopub.status.idle": "2021-11-03T10:09:24.049485Z",
     "shell.execute_reply": "2021-11-03T10:09:24.049914Z"
    },
    "papermill": {
     "duration": 0.071351,
     "end_time": "2021-11-03T10:09:24.050061",
     "exception": false,
     "start_time": "2021-11-03T10:09:23.978710",
     "status": "completed"
    },
    "tags": []
   },
   "outputs": [],
   "source": [
    "#creating the x and y ranges according to the above generated plot.\n",
    "x_range = np.linspace(-4, 1, 100) \n",
    "y_range = np.linspace(-6, 6, 100) \n",
    "x_grid, y_grid = np.meshgrid(x_range, y_range) # x_grid and y_grig are of size 100 X 100\n",
    "\n",
    "# converting x_grid and y_grid to continuous arrays\n",
    "x_gridflat = np.ravel(x_grid)\n",
    "y_gridflat = np.ravel(y_grid)\n",
    "\n",
    "# The last layer of the current model takes two columns as input. Hence transpose of np.vstack() is required.\n",
    "X = np.vstack((x_gridflat, y_gridflat)).T\n",
    "\n",
    "prob_contour = model_prob(X).reshape(100,100) "
   ]
  },
  {
   "cell_type": "code",
   "execution_count": 29,
   "id": "da72499a",
   "metadata": {
    "execution": {
     "iopub.execute_input": "2021-11-03T10:09:24.208215Z",
     "iopub.status.busy": "2021-11-03T10:09:24.206635Z",
     "iopub.status.idle": "2021-11-03T10:09:24.425309Z",
     "shell.execute_reply": "2021-11-03T10:09:24.425714Z"
    },
    "papermill": {
     "duration": 0.330128,
     "end_time": "2021-11-03T10:09:24.425869",
     "exception": false,
     "start_time": "2021-11-03T10:09:24.095741",
     "status": "completed"
    },
    "tags": []
   },
   "outputs": [
    {
     "data": {
      "image/png": "[encoded data removed]",
      "text/plain": [
       "<Figure size 720x648 with 1 Axes>"
      ]
     },
     "metadata": {
      "needs_background": "light"
     },
     "output_type": "display_data"
    }
   ],
   "source": [
    "plt.figure(figsize=(10,9))\n",
    "plt.scatter(testing_plot[:,0], testing_plot[:,1], alpha = 0.1, c = y_test.ravel())\n",
    "contours = plt.contour(x_grid,y_grid,prob_contour)\n",
    "plt.title('Probability Contours')\n",
    "plt.clabel(contours, inline = True );"
   ]
  },
  {
   "cell_type": "code",
   "execution_count": null,
   "id": "e81b4ac7",
   "metadata": {
    "papermill": {
     "duration": 0.047855,
     "end_time": "2021-11-03T10:09:24.522344",
     "exception": false,
     "start_time": "2021-11-03T10:09:24.474489",
     "status": "completed"
    },
    "tags": []
   },
   "outputs": [],
   "source": []
  }
 ],
 "metadata": {
  "kernelspec": {
   "display_name": "Python 3",
   "language": "python",
   "name": "python3"
  },
  "language_info": {
   "codemirror_mode": {
    "name": "ipython",
    "version": 3
   },
   "file_extension": ".py",
   "mimetype": "text/x-python",
   "name": "python",
   "nbconvert_exporter": "python",
   "pygments_lexer": "ipython3",
   "version": "3.6.15"
  },
  "papermill": {
   "default_parameters": {},
   "duration": 102.682699,
   "end_time": "2021-11-03T10:09:24.978777",
   "environment_variables": {},
   "exception": null,
   "input_path": "2020-08-11-part2.ipynb",
   "output_path": "2020-08-11-part2.ipynb",
   "parameters": {},
   "start_time": "2021-11-03T10:07:42.296078",
   "version": "2.3.3"
  }
 },
 "nbformat": 4,
 "nbformat_minor": 5
}