{
 "cells": [
  {
   "cell_type": "markdown",
   "id": "98380cd3",
   "metadata": {
    "papermill": {
     "duration": 0.030838,
     "end_time": "2022-08-13T20:10:54.623156",
     "exception": false,
     "start_time": "2022-08-13T20:10:54.592318",
     "status": "completed"
    },
    "tags": []
   },
   "source": [
    "# Distinguish Your Own Digits (DYOD)"
   ]
  },
  {
   "cell_type": "markdown",
   "id": "ef31240d",
   "metadata": {
    "papermill": {
     "duration": 0.02492,
     "end_time": "2022-08-13T20:10:54.672391",
     "exception": false,
     "start_time": "2022-08-13T20:10:54.647471",
     "status": "completed"
    },
    "tags": []
   },
   "source": [
    "You are going to write a classifier that distinguishes between the number 3 and number 8."
   ]
  },
  {
   "cell_type": "code",
   "execution_count": 1,
   "id": "b15c8646",
   "metadata": {
    "execution": {
     "iopub.execute_input": "2022-08-13T20:10:54.730423Z",
     "iopub.status.busy": "2022-08-13T20:10:54.729820Z",
     "iopub.status.idle": "2022-08-13T20:10:54.741137Z",
     "shell.execute_reply": "2022-08-13T20:10:54.740649Z"
    },
    "papermill": {
     "duration": 0.045368,
     "end_time": "2022-08-13T20:10:54.741274",
     "exception": false,
     "start_time": "2022-08-13T20:10:54.695906",
     "status": "completed"
    },
    "tags": []
   },
   "outputs": [],
   "source": [
    "%load_ext autoreload\n",
    "%autoreload 2"
   ]
  },
  {
   "cell_type": "code",
   "execution_count": 2,
   "id": "22ef38dc",
   "metadata": {
    "execution": {
     "iopub.execute_input": "2022-08-13T20:10:54.792256Z",
     "iopub.status.busy": "2022-08-13T20:10:54.791678Z",
     "iopub.status.idle": "2022-08-13T20:10:55.327640Z",
     "shell.execute_reply": "2022-08-13T20:10:55.327066Z"
    },
    "papermill": {
     "duration": 0.562981,
     "end_time": "2022-08-13T20:10:55.327783",
     "exception": false,
     "start_time": "2022-08-13T20:10:54.764802",
     "status": "completed"
    },
    "tags": []
   },
   "outputs": [],
   "source": [
    "%matplotlib inline\n",
    "import numpy as np\n",
    "import matplotlib.pyplot as plt\n",
    "import pandas as pd"
   ]
  },
  {
   "cell_type": "markdown",
   "id": "ba036198",
   "metadata": {
    "papermill": {
     "duration": 0.023751,
     "end_time": "2022-08-13T20:10:55.376225",
     "exception": false,
     "start_time": "2022-08-13T20:10:55.352474",
     "status": "completed"
    },
    "tags": []
   },
   "source": [
    "From the command line run `pip install mnist`. This is a library that will help you bring down the mnist dataset. If you run this from a notebook, you need to put  `!pip install mnist` in a cell by itself."
   ]
  },
  {
   "cell_type": "code",
   "execution_count": 3,
   "id": "bb6ad8a1",
   "metadata": {
    "execution": {
     "iopub.execute_input": "2022-08-13T20:10:55.427497Z",
     "iopub.status.busy": "2022-08-13T20:10:55.426922Z",
     "iopub.status.idle": "2022-08-13T20:10:56.965715Z",
     "shell.execute_reply": "2022-08-13T20:10:56.965054Z"
    },
    "papermill": {
     "duration": 1.565899,
     "end_time": "2022-08-13T20:10:56.965864",
     "exception": false,
     "start_time": "2022-08-13T20:10:55.399965",
     "status": "completed"
    },
    "tags": []
   },
   "outputs": [
    {
     "name": "stdout",
     "output_type": "stream",
     "text": [
      "Collecting mnist\r\n",
      "  Downloading mnist-0.2.2-py2.py3-none-any.whl (3.5 kB)\r\n"
     ]
    },
    {
     "name": "stdout",
     "output_type": "stream",
     "text": [
      "Requirement already satisfied: numpy in /opt/hostedtoolcache/Python/3.6.15/x64/lib/python3.6/site-packages (from mnist) (1.19.5)\r\n"
     ]
    },
    {
     "name": "stdout",
     "output_type": "stream",
     "text": [
      "Installing collected packages: mnist\r\n"
     ]
    },
    {
     "name": "stdout",
     "output_type": "stream",
     "text": [
      "Successfully installed mnist-0.2.2\r\n"
     ]
    }
   ],
   "source": [
    "!pip install mnist"
   ]
  },
  {
   "cell_type": "markdown",
   "id": "69df9c9a",
   "metadata": {
    "papermill": {
     "duration": 0.025093,
     "end_time": "2022-08-13T20:10:57.016390",
     "exception": false,
     "start_time": "2022-08-13T20:10:56.991297",
     "status": "completed"
    },
    "tags": []
   },
   "source": [
    "## Preparing the Data"
   ]
  },
  {
   "cell_type": "code",
   "execution_count": 4,
   "id": "7f69d806",
   "metadata": {
    "execution": {
     "iopub.execute_input": "2022-08-13T20:10:57.088062Z",
     "iopub.status.busy": "2022-08-13T20:10:57.086259Z",
     "iopub.status.idle": "2022-08-13T20:10:57.090382Z",
     "shell.execute_reply": "2022-08-13T20:10:57.090803Z"
    },
    "papermill": {
     "duration": 0.049519,
     "end_time": "2022-08-13T20:10:57.090945",
     "exception": false,
     "start_time": "2022-08-13T20:10:57.041426",
     "status": "completed"
    },
    "tags": []
   },
   "outputs": [],
   "source": [
    "import mnist"
   ]
  },
  {
   "cell_type": "code",
   "execution_count": 5,
   "id": "a411e44f",
   "metadata": {
    "execution": {
     "iopub.execute_input": "2022-08-13T20:10:57.154112Z",
     "iopub.status.busy": "2022-08-13T20:10:57.144721Z",
     "iopub.status.idle": "2022-08-13T20:10:58.110146Z",
     "shell.execute_reply": "2022-08-13T20:10:58.109474Z"
    },
    "papermill": {
     "duration": 0.99424,
     "end_time": "2022-08-13T20:10:58.110274",
     "exception": false,
     "start_time": "2022-08-13T20:10:57.116034",
     "status": "completed"
    },
    "tags": []
   },
   "outputs": [],
   "source": [
    "train_images = mnist.train_images()\n",
    "train_labels = mnist.train_labels()"
   ]
  },
  {
   "cell_type": "code",
   "execution_count": 6,
   "id": "dceab3a5",
   "metadata": {
    "execution": {
     "iopub.execute_input": "2022-08-13T20:10:58.163158Z",
     "iopub.status.busy": "2022-08-13T20:10:58.162582Z",
     "iopub.status.idle": "2022-08-13T20:10:58.179022Z",
     "shell.execute_reply": "2022-08-13T20:10:58.178444Z"
    },
    "papermill": {
     "duration": 0.043744,
     "end_time": "2022-08-13T20:10:58.179132",
     "exception": false,
     "start_time": "2022-08-13T20:10:58.135388",
     "status": "completed"
    },
    "tags": []
   },
   "outputs": [
    {
     "data": {
      "text/plain": [
       "((60000, 28, 28), (60000,))"
      ]
     },
     "execution_count": 6,
     "metadata": {},
     "output_type": "execute_result"
    }
   ],
   "source": [
    "train_images.shape, train_labels.shape"
   ]
  },
  {
   "cell_type": "code",
   "execution_count": 7,
   "id": "f50dc2bb",
   "metadata": {
    "execution": {
     "iopub.execute_input": "2022-08-13T20:10:58.232828Z",
     "iopub.status.busy": "2022-08-13T20:10:58.232260Z",
     "iopub.status.idle": "2022-08-13T20:10:58.348437Z",
     "shell.execute_reply": "2022-08-13T20:10:58.347836Z"
    },
    "papermill": {
     "duration": 0.144581,
     "end_time": "2022-08-13T20:10:58.348574",
     "exception": false,
     "start_time": "2022-08-13T20:10:58.203993",
     "status": "completed"
    },
    "tags": []
   },
   "outputs": [],
   "source": [
    "test_images = mnist.test_images()\n",
    "test_labels = mnist.test_labels()"
   ]
  },
  {
   "cell_type": "code",
   "execution_count": 8,
   "id": "fc38cf1b",
   "metadata": {
    "execution": {
     "iopub.execute_input": "2022-08-13T20:10:58.403187Z",
     "iopub.status.busy": "2022-08-13T20:10:58.402609Z",
     "iopub.status.idle": "2022-08-13T20:10:58.415603Z",
     "shell.execute_reply": "2022-08-13T20:10:58.416144Z"
    },
    "papermill": {
     "duration": 0.042168,
     "end_time": "2022-08-13T20:10:58.416275",
     "exception": false,
     "start_time": "2022-08-13T20:10:58.374107",
     "status": "completed"
    },
    "tags": []
   },
   "outputs": [
    {
     "data": {
      "text/plain": [
       "((10000, 28, 28), (10000,))"
      ]
     },
     "execution_count": 8,
     "metadata": {},
     "output_type": "execute_result"
    }
   ],
   "source": [
    "test_images.shape, test_labels.shape"
   ]
  },
  {
   "cell_type": "code",
   "execution_count": 9,
   "id": "f9ed8fe0",
   "metadata": {
    "execution": {
     "iopub.execute_input": "2022-08-13T20:10:58.470496Z",
     "iopub.status.busy": "2022-08-13T20:10:58.469927Z",
     "iopub.status.idle": "2022-08-13T20:10:58.609650Z",
     "shell.execute_reply": "2022-08-13T20:10:58.609068Z"
    },
    "papermill": {
     "duration": 0.168322,
     "end_time": "2022-08-13T20:10:58.609791",
     "exception": false,
     "start_time": "2022-08-13T20:10:58.441469",
     "status": "completed"
    },
    "tags": []
   },
   "outputs": [
    {
     "name": "stdout",
     "output_type": "stream",
     "text": [
      "2\n"
     ]
    },
    {
     "data": {
      "text/plain": [
       "<matplotlib.image.AxesImage at 0x7f25dc455588>"
      ]
     },
     "execution_count": 9,
     "metadata": {},
     "output_type": "execute_result"
    },
    {
     "data": {
      "image/png": "[encoded data removed]",
      "text/plain": [
       "<Figure size 432x288 with 1 Axes>"
      ]
     },
     "metadata": {
      "needs_background": "light"
     },
     "output_type": "display_data"
    }
   ],
   "source": [
    "image_index = 7776 # You may select anything up to 60,000\n",
    "print(train_labels[image_index]) \n",
    "plt.imshow(train_images[image_index], cmap='Greys')"
   ]
  },
  {
   "cell_type": "markdown",
   "id": "a8d2388d",
   "metadata": {
    "papermill": {
     "duration": 0.026758,
     "end_time": "2022-08-13T20:10:58.663806",
     "exception": false,
     "start_time": "2022-08-13T20:10:58.637048",
     "status": "completed"
    },
    "tags": []
   },
   "source": [
    "## Filter data to get 3 and 8 out"
   ]
  },
  {
   "cell_type": "code",
   "execution_count": 10,
   "id": "776f7fc7",
   "metadata": {
    "execution": {
     "iopub.execute_input": "2022-08-13T20:10:58.734583Z",
     "iopub.status.busy": "2022-08-13T20:10:58.733984Z",
     "iopub.status.idle": "2022-08-13T20:10:58.746088Z",
     "shell.execute_reply": "2022-08-13T20:10:58.746513Z"
    },
    "papermill": {
     "duration": 0.056468,
     "end_time": "2022-08-13T20:10:58.746648",
     "exception": false,
     "start_time": "2022-08-13T20:10:58.690180",
     "status": "completed"
    },
    "tags": []
   },
   "outputs": [],
   "source": [
    "train_filter = np.where((train_labels == 3 ) | (train_labels == 8))\n",
    "test_filter = np.where((test_labels == 3) | (test_labels == 8))\n",
    "X_train, y_train = train_images[train_filter], train_labels[train_filter]\n",
    "X_test, y_test = test_images[test_filter], test_labels[test_filter]"
   ]
  },
  {
   "cell_type": "markdown",
   "id": "948f0b7e",
   "metadata": {
    "papermill": {
     "duration": 0.026283,
     "end_time": "2022-08-13T20:10:58.799445",
     "exception": false,
     "start_time": "2022-08-13T20:10:58.773162",
     "status": "completed"
    },
    "tags": []
   },
   "source": [
    "We normalize the pizel values in the 0 to 1 range"
   ]
  },
  {
   "cell_type": "code",
   "execution_count": 11,
   "id": "ee4c2166",
   "metadata": {
    "execution": {
     "iopub.execute_input": "2022-08-13T20:10:58.858829Z",
     "iopub.status.busy": "2022-08-13T20:10:58.855236Z",
     "iopub.status.idle": "2022-08-13T20:10:58.904433Z",
     "shell.execute_reply": "2022-08-13T20:10:58.903864Z"
    },
    "papermill": {
     "duration": 0.078858,
     "end_time": "2022-08-13T20:10:58.904577",
     "exception": false,
     "start_time": "2022-08-13T20:10:58.825719",
     "status": "completed"
    },
    "tags": []
   },
   "outputs": [],
   "source": [
    "X_train = X_train/255.\n",
    "X_test = X_test/255."
   ]
  },
  {
   "cell_type": "markdown",
   "id": "ddcf4fab",
   "metadata": {
    "papermill": {
     "duration": 0.026348,
     "end_time": "2022-08-13T20:10:58.958664",
     "exception": false,
     "start_time": "2022-08-13T20:10:58.932316",
     "status": "completed"
    },
    "tags": []
   },
   "source": [
    "And setup the labels as 1 (when the digit is 3) and 0 (when the digit is 8)"
   ]
  },
  {
   "cell_type": "code",
   "execution_count": 12,
   "id": "7dc908f2",
   "metadata": {
    "execution": {
     "iopub.execute_input": "2022-08-13T20:10:59.026540Z",
     "iopub.status.busy": "2022-08-13T20:10:59.020494Z",
     "iopub.status.idle": "2022-08-13T20:10:59.029738Z",
     "shell.execute_reply": "2022-08-13T20:10:59.029252Z"
    },
    "papermill": {
     "duration": 0.044974,
     "end_time": "2022-08-13T20:10:59.029844",
     "exception": false,
     "start_time": "2022-08-13T20:10:58.984870",
     "status": "completed"
    },
    "tags": []
   },
   "outputs": [],
   "source": [
    "y_train = 1*(y_train==3)\n",
    "y_test = 1*(y_test==3)"
   ]
  },
  {
   "cell_type": "code",
   "execution_count": 13,
   "id": "01e4e969",
   "metadata": {
    "execution": {
     "iopub.execute_input": "2022-08-13T20:10:59.093934Z",
     "iopub.status.busy": "2022-08-13T20:10:59.085609Z",
     "iopub.status.idle": "2022-08-13T20:10:59.100869Z",
     "shell.execute_reply": "2022-08-13T20:10:59.101320Z"
    },
    "papermill": {
     "duration": 0.045291,
     "end_time": "2022-08-13T20:10:59.101452",
     "exception": false,
     "start_time": "2022-08-13T20:10:59.056161",
     "status": "completed"
    },
    "tags": []
   },
   "outputs": [
    {
     "data": {
      "text/plain": [
       "((11982, 28, 28), (1984, 28, 28))"
      ]
     },
     "execution_count": 13,
     "metadata": {},
     "output_type": "execute_result"
    }
   ],
   "source": [
    "X_train.shape, X_test.shape"
   ]
  },
  {
   "cell_type": "markdown",
   "id": "5ccf3f85",
   "metadata": {
    "papermill": {
     "duration": 0.026572,
     "end_time": "2022-08-13T20:10:59.154485",
     "exception": false,
     "start_time": "2022-08-13T20:10:59.127913",
     "status": "completed"
    },
    "tags": []
   },
   "source": [
    "We reshape the data to flatten the image pixels into a set of features or co-variates:"
   ]
  },
  {
   "cell_type": "code",
   "execution_count": 14,
   "id": "5286a4a3",
   "metadata": {
    "execution": {
     "iopub.execute_input": "2022-08-13T20:10:59.227253Z",
     "iopub.status.busy": "2022-08-13T20:10:59.221987Z",
     "iopub.status.idle": "2022-08-13T20:10:59.230778Z",
     "shell.execute_reply": "2022-08-13T20:10:59.230306Z"
    },
    "papermill": {
     "duration": 0.049667,
     "end_time": "2022-08-13T20:10:59.230887",
     "exception": false,
     "start_time": "2022-08-13T20:10:59.181220",
     "status": "completed"
    },
    "tags": []
   },
   "outputs": [
    {
     "data": {
      "text/plain": [
       "((11982, 784), (1984, 784))"
      ]
     },
     "execution_count": 14,
     "metadata": {},
     "output_type": "execute_result"
    }
   ],
   "source": [
    "X_train = X_train.reshape(X_train.shape[0], -1)\n",
    "X_test = X_test.reshape(X_test.shape[0], -1)\n",
    "X_train.shape, X_test.shape"
   ]
  },
  {
   "cell_type": "code",
   "execution_count": 15,
   "id": "73c5f88a",
   "metadata": {
    "execution": {
     "iopub.execute_input": "2022-08-13T20:10:59.288833Z",
     "iopub.status.busy": "2022-08-13T20:10:59.288089Z",
     "iopub.status.idle": "2022-08-13T20:10:59.307643Z",
     "shell.execute_reply": "2022-08-13T20:10:59.307105Z"
    },
    "papermill": {
     "duration": 0.049939,
     "end_time": "2022-08-13T20:10:59.307762",
     "exception": false,
     "start_time": "2022-08-13T20:10:59.257823",
     "status": "completed"
    },
    "tags": []
   },
   "outputs": [],
   "source": [
    "#Impoting functions from 'Kudzu'\n",
    "from kudzu.model import Model\n",
    "from kudzu.train import Learner\n",
    "from kudzu.optim import GD\n",
    "from kudzu.data import Data, Sampler,Dataloader\n",
    "\n",
    "from kudzu.callbacks import AccCallback\n",
    "from kudzu.callbacks import ClfCallback\n",
    "\n",
    "from kudzu.loss import MSE\n",
    "\n",
    "from kudzu.layer import Sigmoid,Relu\n",
    "from kudzu.layer import Affine"
   ]
  },
  {
   "cell_type": "markdown",
   "id": "bc01172a",
   "metadata": {
    "papermill": {
     "duration": 0.026775,
     "end_time": "2022-08-13T20:10:59.362422",
     "exception": false,
     "start_time": "2022-08-13T20:10:59.335647",
     "status": "completed"
    },
    "tags": []
   },
   "source": [
    "### Let us create a `Config` class, to store important parameters. \n",
    "This class essentially plays the role of a dictionary."
   ]
  },
  {
   "cell_type": "code",
   "execution_count": 16,
   "id": "978281aa",
   "metadata": {
    "execution": {
     "iopub.execute_input": "2022-08-13T20:10:59.420050Z",
     "iopub.status.busy": "2022-08-13T20:10:59.419466Z",
     "iopub.status.idle": "2022-08-13T20:10:59.432302Z",
     "shell.execute_reply": "2022-08-13T20:10:59.432750Z"
    },
    "papermill": {
     "duration": 0.043614,
     "end_time": "2022-08-13T20:10:59.432871",
     "exception": false,
     "start_time": "2022-08-13T20:10:59.389257",
     "status": "completed"
    },
    "tags": []
   },
   "outputs": [],
   "source": [
    "class Config:\n",
    "    pass\n",
    "config = Config()\n",
    "config.lr = 0.001\n",
    "config.num_epochs = 250\n",
    "config.bs = 50"
   ]
  },
  {
   "cell_type": "markdown",
   "id": "1385fa59",
   "metadata": {
    "papermill": {
     "duration": 0.026698,
     "end_time": "2022-08-13T20:10:59.486411",
     "exception": false,
     "start_time": "2022-08-13T20:10:59.459713",
     "status": "completed"
    },
    "tags": []
   },
   "source": [
    "### Running Models with the Training data\n",
    "Details about the network layers:\n",
    "- A first affine layer has 784 inputs and does 100 affine transforms. These are followed by a Relu\n",
    "- A second affine layer has 100 inputs from the 100 activations of the past layer, and does 100 affine transforms. These are followed by a Relu\n",
    "- A third affine layer has 100 activations and does 2 affine transformations to create an embedding for visualization. There is no non-linearity here.\n",
    "- A final \"logistic regression\" which has an affine transform from 2 inputs to 1 output, which is squeezed through a sigmoid.\n"
   ]
  },
  {
   "cell_type": "code",
   "execution_count": 17,
   "id": "2b9c66db",
   "metadata": {
    "execution": {
     "iopub.execute_input": "2022-08-13T20:10:59.544106Z",
     "iopub.status.busy": "2022-08-13T20:10:59.543526Z",
     "iopub.status.idle": "2022-08-13T20:10:59.556752Z",
     "shell.execute_reply": "2022-08-13T20:10:59.556280Z"
    },
    "papermill": {
     "duration": 0.043583,
     "end_time": "2022-08-13T20:10:59.556860",
     "exception": false,
     "start_time": "2022-08-13T20:10:59.513277",
     "status": "completed"
    },
    "tags": []
   },
   "outputs": [],
   "source": [
    "data = Data(X_train, y_train.reshape(-1,1))\n",
    "sampler = Sampler(data, config.bs, shuffle=True)\n",
    "\n",
    "dl = Dataloader(data, sampler)\n",
    "\n",
    "opt = GD(config.lr)\n",
    "loss = MSE()"
   ]
  },
  {
   "cell_type": "code",
   "execution_count": 18,
   "id": "b275e4c2",
   "metadata": {
    "execution": {
     "iopub.execute_input": "2022-08-13T20:10:59.614660Z",
     "iopub.status.busy": "2022-08-13T20:10:59.614075Z",
     "iopub.status.idle": "2022-08-13T20:10:59.627143Z",
     "shell.execute_reply": "2022-08-13T20:10:59.626572Z"
    },
    "papermill": {
     "duration": 0.043356,
     "end_time": "2022-08-13T20:10:59.627255",
     "exception": false,
     "start_time": "2022-08-13T20:10:59.583899",
     "status": "completed"
    },
    "tags": []
   },
   "outputs": [],
   "source": [
    "training_data_x = X_train\n",
    "testing_data_x = X_test\n",
    "training_data_y = y_train.reshape(-1,1)\n",
    "testing_data_y = y_test.reshape(-1,1)"
   ]
  },
  {
   "cell_type": "code",
   "execution_count": 19,
   "id": "76951160",
   "metadata": {
    "execution": {
     "iopub.execute_input": "2022-08-13T20:10:59.685172Z",
     "iopub.status.busy": "2022-08-13T20:10:59.684590Z",
     "iopub.status.idle": "2022-08-13T20:10:59.702203Z",
     "shell.execute_reply": "2022-08-13T20:10:59.701638Z"
    },
    "papermill": {
     "duration": 0.048207,
     "end_time": "2022-08-13T20:10:59.702308",
     "exception": false,
     "start_time": "2022-08-13T20:10:59.654101",
     "status": "completed"
    },
    "tags": []
   },
   "outputs": [
    {
     "name": "stdout",
     "output_type": "stream",
     "text": [
      "xavier\n",
      "xavier\n",
      "xavier\n",
      "xavier\n",
      "xavier\n"
     ]
    }
   ],
   "source": [
    "layers = [Affine(\"first\", 784, 100), Relu(\"first\"), Affine(\"second\", 100, 100), Relu(\"second\"), Affine(\"third\", 100, 2), Affine(\"last\", 2, 1), Sigmoid(\"last\")]\n",
    "model_nn = Model(layers)\n",
    "model_lr = Model([Affine(\"logits\", 784, 1), Sigmoid(\"sigmoid\")])"
   ]
  },
  {
   "cell_type": "code",
   "execution_count": 20,
   "id": "6eede77a",
   "metadata": {
    "execution": {
     "iopub.execute_input": "2022-08-13T20:10:59.762934Z",
     "iopub.status.busy": "2022-08-13T20:10:59.762369Z",
     "iopub.status.idle": "2022-08-13T20:10:59.774498Z",
     "shell.execute_reply": "2022-08-13T20:10:59.774034Z"
    },
    "papermill": {
     "duration": 0.042842,
     "end_time": "2022-08-13T20:10:59.774602",
     "exception": false,
     "start_time": "2022-08-13T20:10:59.731760",
     "status": "completed"
    },
    "tags": []
   },
   "outputs": [],
   "source": [
    "nn_learner = Learner(loss, model_nn, opt, config.num_epochs)\n",
    "acc_nn = ClfCallback(nn_learner, config.bs, training_data_x , testing_data_x, training_data_y, testing_data_y)\n",
    "nn_learner.set_callbacks([acc_nn])"
   ]
  },
  {
   "cell_type": "code",
   "execution_count": 21,
   "id": "877b6cc7",
   "metadata": {
    "execution": {
     "iopub.execute_input": "2022-08-13T20:10:59.835966Z",
     "iopub.status.busy": "2022-08-13T20:10:59.835390Z",
     "iopub.status.idle": "2022-08-13T20:10:59.845530Z",
     "shell.execute_reply": "2022-08-13T20:10:59.845045Z"
    },
    "papermill": {
     "duration": 0.043981,
     "end_time": "2022-08-13T20:10:59.845641",
     "exception": false,
     "start_time": "2022-08-13T20:10:59.801660",
     "status": "completed"
    },
    "tags": []
   },
   "outputs": [],
   "source": [
    "lr_learner = Learner(loss, model_lr, opt, config.num_epochs)\n",
    "acc_lr = ClfCallback(lr_learner, config.bs, training_data_x , testing_data_x, training_data_y, testing_data_y)\n",
    "lr_learner.set_callbacks([acc_lr])"
   ]
  },
  {
   "cell_type": "code",
   "execution_count": 22,
   "id": "d9b133c3",
   "metadata": {
    "execution": {
     "iopub.execute_input": "2022-08-13T20:10:59.903775Z",
     "iopub.status.busy": "2022-08-13T20:10:59.903202Z",
     "iopub.status.idle": "2022-08-13T20:12:16.589803Z",
     "shell.execute_reply": "2022-08-13T20:12:16.590366Z"
    },
    "papermill": {
     "duration": 76.717581,
     "end_time": "2022-08-13T20:12:16.590513",
     "exception": false,
     "start_time": "2022-08-13T20:10:59.872932",
     "status": "completed"
    },
    "tags": []
   },
   "outputs": [
    {
     "name": "stdout",
     "output_type": "stream",
     "text": [
      "Epoch 0, Loss 0.2536\n",
      "Training Accuracy: 0.5115, Testing Accuracy: 0.5282\n",
      "\n"
     ]
    },
    {
     "name": "stdout",
     "output_type": "stream",
     "text": [
      "Epoch 10, Loss 0.1554\n",
      "Training Accuracy: 0.8850, Testing Accuracy: 0.9042\n",
      "\n"
     ]
    },
    {
     "name": "stdout",
     "output_type": "stream",
     "text": [
      "Epoch 20, Loss 0.0769\n",
      "Training Accuracy: 0.9227, Testing Accuracy: 0.9320\n",
      "\n"
     ]
    },
    {
     "name": "stdout",
     "output_type": "stream",
     "text": [
      "Epoch 30, Loss 0.0534\n",
      "Training Accuracy: 0.9423, Testing Accuracy: 0.9481\n",
      "\n"
     ]
    },
    {
     "name": "stdout",
     "output_type": "stream",
     "text": [
      "Epoch 40, Loss 0.0437\n",
      "Training Accuracy: 0.9513, Testing Accuracy: 0.9561\n",
      "\n"
     ]
    },
    {
     "name": "stdout",
     "output_type": "stream",
     "text": [
      "Epoch 50, Loss 0.0384\n",
      "Training Accuracy: 0.9567, Testing Accuracy: 0.9592\n",
      "\n"
     ]
    },
    {
     "name": "stdout",
     "output_type": "stream",
     "text": [
      "Epoch 60, Loss 0.0349\n",
      "Training Accuracy: 0.9601, Testing Accuracy: 0.9627\n",
      "\n"
     ]
    },
    {
     "name": "stdout",
     "output_type": "stream",
     "text": [
      "Epoch 70, Loss 0.0324\n",
      "Training Accuracy: 0.9624, Testing Accuracy: 0.9642\n",
      "\n"
     ]
    },
    {
     "name": "stdout",
     "output_type": "stream",
     "text": [
      "Epoch 80, Loss 0.0305\n",
      "Training Accuracy: 0.9645, Testing Accuracy: 0.9662\n",
      "\n"
     ]
    },
    {
     "name": "stdout",
     "output_type": "stream",
     "text": [
      "Epoch 90, Loss 0.029\n",
      "Training Accuracy: 0.9670, Testing Accuracy: 0.9672\n",
      "\n"
     ]
    },
    {
     "name": "stdout",
     "output_type": "stream",
     "text": [
      "Epoch 100, Loss 0.0277\n",
      "Training Accuracy: 0.9689, Testing Accuracy: 0.9682\n",
      "\n"
     ]
    },
    {
     "name": "stdout",
     "output_type": "stream",
     "text": [
      "Epoch 110, Loss 0.0266\n",
      "Training Accuracy: 0.9695, Testing Accuracy: 0.9698\n",
      "\n"
     ]
    },
    {
     "name": "stdout",
     "output_type": "stream",
     "text": [
      "Epoch 120, Loss 0.0256\n",
      "Training Accuracy: 0.9704, Testing Accuracy: 0.9708\n",
      "\n"
     ]
    },
    {
     "name": "stdout",
     "output_type": "stream",
     "text": [
      "Epoch 130, Loss 0.0248\n",
      "Training Accuracy: 0.9710, Testing Accuracy: 0.9723\n",
      "\n"
     ]
    },
    {
     "name": "stdout",
     "output_type": "stream",
     "text": [
      "Epoch 140, Loss 0.0241\n",
      "Training Accuracy: 0.9718, Testing Accuracy: 0.9723\n",
      "\n"
     ]
    },
    {
     "name": "stdout",
     "output_type": "stream",
     "text": [
      "Epoch 150, Loss 0.0234\n",
      "Training Accuracy: 0.9730, Testing Accuracy: 0.9733\n",
      "\n"
     ]
    },
    {
     "name": "stdout",
     "output_type": "stream",
     "text": [
      "Epoch 160, Loss 0.0227\n",
      "Training Accuracy: 0.9737, Testing Accuracy: 0.9733\n",
      "\n"
     ]
    },
    {
     "name": "stdout",
     "output_type": "stream",
     "text": [
      "Epoch 170, Loss 0.0222\n",
      "Training Accuracy: 0.9743, Testing Accuracy: 0.9728\n",
      "\n"
     ]
    },
    {
     "name": "stdout",
     "output_type": "stream",
     "text": [
      "Epoch 180, Loss 0.0216\n",
      "Training Accuracy: 0.9752, Testing Accuracy: 0.9738\n",
      "\n"
     ]
    },
    {
     "name": "stdout",
     "output_type": "stream",
     "text": [
      "Epoch 190, Loss 0.0211\n",
      "Training Accuracy: 0.9753, Testing Accuracy: 0.9743\n",
      "\n"
     ]
    },
    {
     "name": "stdout",
     "output_type": "stream",
     "text": [
      "Epoch 200, Loss 0.0207\n",
      "Training Accuracy: 0.9760, Testing Accuracy: 0.9743\n",
      "\n"
     ]
    },
    {
     "name": "stdout",
     "output_type": "stream",
     "text": [
      "Epoch 210, Loss 0.0202\n",
      "Training Accuracy: 0.9768, Testing Accuracy: 0.9748\n",
      "\n"
     ]
    },
    {
     "name": "stdout",
     "output_type": "stream",
     "text": [
      "Epoch 220, Loss 0.0198\n",
      "Training Accuracy: 0.9771, Testing Accuracy: 0.9753\n",
      "\n"
     ]
    },
    {
     "name": "stdout",
     "output_type": "stream",
     "text": [
      "Epoch 230, Loss 0.0194\n",
      "Training Accuracy: 0.9774, Testing Accuracy: 0.9758\n",
      "\n"
     ]
    },
    {
     "name": "stdout",
     "output_type": "stream",
     "text": [
      "Epoch 240, Loss 0.019\n",
      "Training Accuracy: 0.9780, Testing Accuracy: 0.9758\n",
      "\n"
     ]
    },
    {
     "data": {
      "text/plain": [
       "0.0016330915623687572"
      ]
     },
     "execution_count": 22,
     "metadata": {},
     "output_type": "execute_result"
    }
   ],
   "source": [
    "nn_learner.train_loop(dl)"
   ]
  },
  {
   "cell_type": "code",
   "execution_count": 23,
   "id": "e0163366",
   "metadata": {
    "execution": {
     "iopub.execute_input": "2022-08-13T20:12:16.670915Z",
     "iopub.status.busy": "2022-08-13T20:12:16.670315Z",
     "iopub.status.idle": "2022-08-13T20:12:30.382591Z",
     "shell.execute_reply": "2022-08-13T20:12:30.383453Z"
    },
    "papermill": {
     "duration": 13.758353,
     "end_time": "2022-08-13T20:12:30.383611",
     "exception": false,
     "start_time": "2022-08-13T20:12:16.625258",
     "status": "completed"
    },
    "tags": []
   },
   "outputs": [
    {
     "name": "stdout",
     "output_type": "stream",
     "text": [
      "Epoch 0, Loss 0.2455\n",
      "Training Accuracy: 0.6613, Testing Accuracy: 0.6971\n",
      "\n"
     ]
    },
    {
     "name": "stdout",
     "output_type": "stream",
     "text": [
      "Epoch 10, Loss 0.1059\n",
      "Training Accuracy: 0.8985, Testing Accuracy: 0.9062\n",
      "\n"
     ]
    },
    {
     "name": "stdout",
     "output_type": "stream",
     "text": [
      "Epoch 20, Loss 0.0819\n",
      "Training Accuracy: 0.9195, Testing Accuracy: 0.9289\n",
      "\n"
     ]
    },
    {
     "name": "stdout",
     "output_type": "stream",
     "text": [
      "Epoch 30, Loss 0.0704\n",
      "Training Accuracy: 0.9314, Testing Accuracy: 0.9420\n",
      "\n"
     ]
    },
    {
     "name": "stdout",
     "output_type": "stream",
     "text": [
      "Epoch 40, Loss 0.0634\n",
      "Training Accuracy: 0.9386, Testing Accuracy: 0.9471\n",
      "\n"
     ]
    },
    {
     "name": "stdout",
     "output_type": "stream",
     "text": [
      "Epoch 50, Loss 0.0585\n",
      "Training Accuracy: 0.9422, Testing Accuracy: 0.9501\n",
      "\n"
     ]
    },
    {
     "name": "stdout",
     "output_type": "stream",
     "text": [
      "Epoch 60, Loss 0.055\n",
      "Training Accuracy: 0.9451, Testing Accuracy: 0.9521\n",
      "\n"
     ]
    },
    {
     "name": "stdout",
     "output_type": "stream",
     "text": [
      "Epoch 70, Loss 0.0523\n",
      "Training Accuracy: 0.9478, Testing Accuracy: 0.9541\n",
      "\n"
     ]
    },
    {
     "name": "stdout",
     "output_type": "stream",
     "text": [
      "Epoch 80, Loss 0.0501\n",
      "Training Accuracy: 0.9493, Testing Accuracy: 0.9556\n",
      "\n"
     ]
    },
    {
     "name": "stdout",
     "output_type": "stream",
     "text": [
      "Epoch 90, Loss 0.0483\n",
      "Training Accuracy: 0.9511, Testing Accuracy: 0.9587\n",
      "\n"
     ]
    },
    {
     "name": "stdout",
     "output_type": "stream",
     "text": [
      "Epoch 100, Loss 0.0468\n",
      "Training Accuracy: 0.9528, Testing Accuracy: 0.9597\n",
      "\n"
     ]
    },
    {
     "name": "stdout",
     "output_type": "stream",
     "text": [
      "Epoch 110, Loss 0.0455\n",
      "Training Accuracy: 0.9538, Testing Accuracy: 0.9622\n",
      "\n"
     ]
    },
    {
     "name": "stdout",
     "output_type": "stream",
     "text": [
      "Epoch 120, Loss 0.0444\n",
      "Training Accuracy: 0.9543, Testing Accuracy: 0.9622\n",
      "\n"
     ]
    },
    {
     "name": "stdout",
     "output_type": "stream",
     "text": [
      "Epoch 130, Loss 0.0434\n",
      "Training Accuracy: 0.9550, Testing Accuracy: 0.9622\n",
      "\n"
     ]
    },
    {
     "name": "stdout",
     "output_type": "stream",
     "text": [
      "Epoch 140, Loss 0.0425\n",
      "Training Accuracy: 0.9553, Testing Accuracy: 0.9627\n",
      "\n"
     ]
    },
    {
     "name": "stdout",
     "output_type": "stream",
     "text": [
      "Epoch 150, Loss 0.0417\n",
      "Training Accuracy: 0.9558, Testing Accuracy: 0.9647\n",
      "\n"
     ]
    },
    {
     "name": "stdout",
     "output_type": "stream",
     "text": [
      "Epoch 160, Loss 0.041\n",
      "Training Accuracy: 0.9569, Testing Accuracy: 0.9652\n",
      "\n"
     ]
    },
    {
     "name": "stdout",
     "output_type": "stream",
     "text": [
      "Epoch 170, Loss 0.0404\n",
      "Training Accuracy: 0.9571, Testing Accuracy: 0.9657\n",
      "\n"
     ]
    },
    {
     "name": "stdout",
     "output_type": "stream",
     "text": [
      "Epoch 180, Loss 0.0398\n",
      "Training Accuracy: 0.9579, Testing Accuracy: 0.9657\n",
      "\n"
     ]
    },
    {
     "name": "stdout",
     "output_type": "stream",
     "text": [
      "Epoch 190, Loss 0.0392\n",
      "Training Accuracy: 0.9584, Testing Accuracy: 0.9662\n",
      "\n"
     ]
    },
    {
     "name": "stdout",
     "output_type": "stream",
     "text": [
      "Epoch 200, Loss 0.0388\n",
      "Training Accuracy: 0.9587, Testing Accuracy: 0.9657\n",
      "\n"
     ]
    },
    {
     "name": "stdout",
     "output_type": "stream",
     "text": [
      "Epoch 210, Loss 0.0383\n",
      "Training Accuracy: 0.9591, Testing Accuracy: 0.9662\n",
      "\n"
     ]
    },
    {
     "name": "stdout",
     "output_type": "stream",
     "text": [
      "Epoch 220, Loss 0.0379\n",
      "Training Accuracy: 0.9591, Testing Accuracy: 0.9662\n",
      "\n"
     ]
    },
    {
     "name": "stdout",
     "output_type": "stream",
     "text": [
      "Epoch 230, Loss 0.0375\n",
      "Training Accuracy: 0.9594, Testing Accuracy: 0.9657\n",
      "\n"
     ]
    },
    {
     "name": "stdout",
     "output_type": "stream",
     "text": [
      "Epoch 240, Loss 0.0371\n",
      "Training Accuracy: 0.9600, Testing Accuracy: 0.9657\n",
      "\n"
     ]
    },
    {
     "data": {
      "text/plain": [
       "0.12160921828595793"
      ]
     },
     "execution_count": 23,
     "metadata": {},
     "output_type": "execute_result"
    }
   ],
   "source": [
    "lr_learner.train_loop(dl)"
   ]
  },
  {
   "cell_type": "code",
   "execution_count": 24,
   "id": "ca410940",
   "metadata": {
    "execution": {
     "iopub.execute_input": "2022-08-13T20:12:30.474971Z",
     "iopub.status.busy": "2022-08-13T20:12:30.474382Z",
     "iopub.status.idle": "2022-08-13T20:12:30.703280Z",
     "shell.execute_reply": "2022-08-13T20:12:30.702806Z"
    },
    "papermill": {
     "duration": 0.277886,
     "end_time": "2022-08-13T20:12:30.703408",
     "exception": false,
     "start_time": "2022-08-13T20:12:30.425522",
     "status": "completed"
    },
    "tags": []
   },
   "outputs": [
    {
     "data": {
      "text/plain": [
       "<matplotlib.legend.Legend at 0x7f25dbfb6b38>"
      ]
     },
     "execution_count": 24,
     "metadata": {},
     "output_type": "execute_result"
    },
    {
     "data": {
      "image/png": "[encoded data removed]",
      "text/plain": [
       "<Figure size 1080x720 with 1 Axes>"
      ]
     },
     "metadata": {
      "needs_background": "light"
     },
     "output_type": "display_data"
    }
   ],
   "source": [
    "#comparing the results of NN and LR\n",
    "plt.figure(figsize=(15,10))\n",
    "\n",
    "# Neural Network plots\n",
    "plt.plot(acc_nn.accuracies, 'r-', label = \"Training Accuracies - NN\")\n",
    "plt.plot(acc_nn.test_accuracies, 'g-', label = \"Testing Accuracies - NN\")\n",
    "\n",
    "# Logistic Regression plots\n",
    "plt.plot(acc_lr.accuracies, 'k-', label = \"Training Accuracies - LR\")\n",
    "plt.plot(acc_lr.test_accuracies, 'b-', label = \"Testing Accuracies - LR\")\n",
    "plt.legend()"
   ]
  },
  {
   "cell_type": "markdown",
   "id": "80dfb35c",
   "metadata": {
    "papermill": {
     "duration": 0.041903,
     "end_time": "2022-08-13T20:12:30.787812",
     "exception": false,
     "start_time": "2022-08-13T20:12:30.745909",
     "status": "completed"
    },
    "tags": []
   },
   "source": [
    "#### Plotting the outputs of this layer of the NN.\n"
   ]
  },
  {
   "cell_type": "code",
   "execution_count": 25,
   "id": "45eb2ff5",
   "metadata": {
    "execution": {
     "iopub.execute_input": "2022-08-13T20:12:30.877607Z",
     "iopub.status.busy": "2022-08-13T20:12:30.876952Z",
     "iopub.status.idle": "2022-08-13T20:12:30.896965Z",
     "shell.execute_reply": "2022-08-13T20:12:30.897418Z"
    },
    "papermill": {
     "duration": 0.066123,
     "end_time": "2022-08-13T20:12:30.897559",
     "exception": false,
     "start_time": "2022-08-13T20:12:30.831436",
     "status": "completed"
    },
    "tags": []
   },
   "outputs": [],
   "source": [
    "new_model = Model(layers[:-2])\n",
    "testing_plot = new_model(testing_data_x)"
   ]
  },
  {
   "cell_type": "code",
   "execution_count": 26,
   "id": "4c0a5485",
   "metadata": {
    "execution": {
     "iopub.execute_input": "2022-08-13T20:12:30.986634Z",
     "iopub.status.busy": "2022-08-13T20:12:30.986039Z",
     "iopub.status.idle": "2022-08-13T20:12:31.175887Z",
     "shell.execute_reply": "2022-08-13T20:12:31.176321Z"
    },
    "papermill": {
     "duration": 0.236683,
     "end_time": "2022-08-13T20:12:31.176467",
     "exception": false,
     "start_time": "2022-08-13T20:12:30.939784",
     "status": "completed"
    },
    "tags": []
   },
   "outputs": [
    {
     "data": {
      "text/plain": [
       "Text(0.5, 1.0, 'Outputs')"
      ]
     },
     "execution_count": 26,
     "metadata": {},
     "output_type": "execute_result"
    },
    {
     "data": {
      "image/png": "[encoded data removed]",
      "text/plain": [
       "<Figure size 576x504 with 1 Axes>"
      ]
     },
     "metadata": {
      "needs_background": "light"
     },
     "output_type": "display_data"
    }
   ],
   "source": [
    "# Plotting the scatter plot of points and color coding by class\n",
    "plt.figure(figsize=(8,7))\n",
    "plt.scatter(testing_plot[:,0], testing_plot[:,1], alpha = 0.1, c = y_test.ravel());\n",
    "plt.title('Outputs')"
   ]
  },
  {
   "cell_type": "markdown",
   "id": "a74fcf8f",
   "metadata": {
    "papermill": {
     "duration": 0.043636,
     "end_time": "2022-08-13T20:12:31.264326",
     "exception": false,
     "start_time": "2022-08-13T20:12:31.220690",
     "status": "completed"
    },
    "tags": []
   },
   "source": [
    "Probability contours"
   ]
  },
  {
   "cell_type": "code",
   "execution_count": 27,
   "id": "d0afc8e3",
   "metadata": {
    "execution": {
     "iopub.execute_input": "2022-08-13T20:12:31.392481Z",
     "iopub.status.busy": "2022-08-13T20:12:31.391868Z",
     "iopub.status.idle": "2022-08-13T20:12:31.405414Z",
     "shell.execute_reply": "2022-08-13T20:12:31.404813Z"
    },
    "papermill": {
     "duration": 0.097359,
     "end_time": "2022-08-13T20:12:31.405532",
     "exception": false,
     "start_time": "2022-08-13T20:12:31.308173",
     "status": "completed"
    },
    "tags": []
   },
   "outputs": [],
   "source": [
    "model_prob = Model(layers[-2:]) "
   ]
  },
  {
   "cell_type": "code",
   "execution_count": 28,
   "id": "9b96e238",
   "metadata": {
    "execution": {
     "iopub.execute_input": "2022-08-13T20:12:31.502344Z",
     "iopub.status.busy": "2022-08-13T20:12:31.500245Z",
     "iopub.status.idle": "2022-08-13T20:12:31.513484Z",
     "shell.execute_reply": "2022-08-13T20:12:31.513913Z"
    },
    "papermill": {
     "duration": 0.06404,
     "end_time": "2022-08-13T20:12:31.514047",
     "exception": false,
     "start_time": "2022-08-13T20:12:31.450007",
     "status": "completed"
    },
    "tags": []
   },
   "outputs": [],
   "source": [
    "#creating the x and y ranges according to the above generated plot.\n",
    "x_range = np.linspace(-4, 1, 100) \n",
    "y_range = np.linspace(-6, 6, 100) \n",
    "x_grid, y_grid = np.meshgrid(x_range, y_range) # x_grid and y_grig are of size 100 X 100\n",
    "\n",
    "# converting x_grid and y_grid to continuous arrays\n",
    "x_gridflat = np.ravel(x_grid)\n",
    "y_gridflat = np.ravel(y_grid)\n",
    "\n",
    "# The last layer of the current model takes two columns as input. Hence transpose of np.vstack() is required.\n",
    "X = np.vstack((x_gridflat, y_gridflat)).T\n",
    "\n",
    "prob_contour = model_prob(X).reshape(100,100) "
   ]
  },
  {
   "cell_type": "code",
   "execution_count": 29,
   "id": "da72499a",
   "metadata": {
    "execution": {
     "iopub.execute_input": "2022-08-13T20:12:31.613621Z",
     "iopub.status.busy": "2022-08-13T20:12:31.613011Z",
     "iopub.status.idle": "2022-08-13T20:12:31.848093Z",
     "shell.execute_reply": "2022-08-13T20:12:31.848554Z"
    },
    "papermill": {
     "duration": 0.287894,
     "end_time": "2022-08-13T20:12:31.848700",
     "exception": false,
     "start_time": "2022-08-13T20:12:31.560806",
     "status": "completed"
    },
    "tags": []
   },
   "outputs": [
    {
     "data": {
      "image/png": "[encoded data removed]",
      "text/plain": [
       "<Figure size 720x648 with 1 Axes>"
      ]
     },
     "metadata": {
      "needs_background": "light"
     },
     "output_type": "display_data"
    }
   ],
   "source": [
    "plt.figure(figsize=(10,9))\n",
    "plt.scatter(testing_plot[:,0], testing_plot[:,1], alpha = 0.1, c = y_test.ravel())\n",
    "contours = plt.contour(x_grid,y_grid,prob_contour)\n",
    "plt.title('Probability Contours')\n",
    "plt.clabel(contours, inline = True );"
   ]
  },
  {
   "cell_type": "code",
   "execution_count": null,
   "id": "e81b4ac7",
   "metadata": {
    "papermill": {
     "duration": 0.046804,
     "end_time": "2022-08-13T20:12:31.946836",
     "exception": false,
     "start_time": "2022-08-13T20:12:31.900032",
     "status": "completed"
    },
    "tags": []
   },
   "outputs": [],
   "source": []
  }
 ],
 "metadata": {
  "kernelspec": {
   "display_name": "Python 3",
   "language": "python",
   "name": "python3"
  },
  "language_info": {
   "codemirror_mode": {
    "name": "ipython",
    "version": 3
   },
   "file_extension": ".py",
   "mimetype": "text/x-python",
   "name": "python",
   "nbconvert_exporter": "python",
   "pygments_lexer": "ipython3",
   "version": "3.6.15"
  },
  "papermill": {
   "default_parameters": {},
   "duration": 98.760972,
   "end_time": "2022-08-13T20:12:32.413844",
   "environment_variables": {},
   "exception": null,
   "input_path": "2020-08-11-part2.ipynb",
   "output_path": "2020-08-11-part2.ipynb",
   "parameters": {},
   "start_time": "2022-08-13T20:10:53.652872",
   "version": "2.3.3"
  }
 },
 "nbformat": 4,
 "nbformat_minor": 5
}