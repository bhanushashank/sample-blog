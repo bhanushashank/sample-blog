{
 "cells": [
  {
   "cell_type": "markdown",
   "id": "98380cd3",
   "metadata": {
    "papermill": {
     "duration": 0.030987,
     "end_time": "2022-04-27T20:10:53.013476",
     "exception": false,
     "start_time": "2022-04-27T20:10:52.982489",
     "status": "completed"
    },
    "tags": []
   },
   "source": [
    "# Distinguish Your Own Digits (DYOD)"
   ]
  },
  {
   "cell_type": "markdown",
   "id": "ef31240d",
   "metadata": {
    "papermill": {
     "duration": 0.030098,
     "end_time": "2022-04-27T20:10:53.072257",
     "exception": false,
     "start_time": "2022-04-27T20:10:53.042159",
     "status": "completed"
    },
    "tags": []
   },
   "source": [
    "You are going to write a classifier that distinguishes between the number 3 and number 8."
   ]
  },
  {
   "cell_type": "code",
   "execution_count": 1,
   "id": "b15c8646",
   "metadata": {
    "execution": {
     "iopub.execute_input": "2022-04-27T20:10:53.134368Z",
     "iopub.status.busy": "2022-04-27T20:10:53.131818Z",
     "iopub.status.idle": "2022-04-27T20:10:53.144855Z",
     "shell.execute_reply": "2022-04-27T20:10:53.145375Z"
    },
    "papermill": {
     "duration": 0.046386,
     "end_time": "2022-04-27T20:10:53.145518",
     "exception": false,
     "start_time": "2022-04-27T20:10:53.099132",
     "status": "completed"
    },
    "tags": []
   },
   "outputs": [],
   "source": [
    "%load_ext autoreload\n",
    "%autoreload 2"
   ]
  },
  {
   "cell_type": "code",
   "execution_count": 2,
   "id": "22ef38dc",
   "metadata": {
    "execution": {
     "iopub.execute_input": "2022-04-27T20:10:53.201014Z",
     "iopub.status.busy": "2022-04-27T20:10:53.200178Z",
     "iopub.status.idle": "2022-04-27T20:10:53.731305Z",
     "shell.execute_reply": "2022-04-27T20:10:53.730781Z"
    },
    "papermill": {
     "duration": 0.561345,
     "end_time": "2022-04-27T20:10:53.731457",
     "exception": false,
     "start_time": "2022-04-27T20:10:53.170112",
     "status": "completed"
    },
    "tags": []
   },
   "outputs": [],
   "source": [
    "%matplotlib inline\n",
    "import numpy as np\n",
    "import matplotlib.pyplot as plt\n",
    "import pandas as pd"
   ]
  },
  {
   "cell_type": "markdown",
   "id": "ba036198",
   "metadata": {
    "papermill": {
     "duration": 0.026015,
     "end_time": "2022-04-27T20:10:53.781877",
     "exception": false,
     "start_time": "2022-04-27T20:10:53.755862",
     "status": "completed"
    },
    "tags": []
   },
   "source": [
    "From the command line run `pip install mnist`. This is a library that will help you bring down the mnist dataset. If you run this from a notebook, you need to put  `!pip install mnist` in a cell by itself."
   ]
  },
  {
   "cell_type": "code",
   "execution_count": 3,
   "id": "bb6ad8a1",
   "metadata": {
    "execution": {
     "iopub.execute_input": "2022-04-27T20:10:53.835903Z",
     "iopub.status.busy": "2022-04-27T20:10:53.835373Z",
     "iopub.status.idle": "2022-04-27T20:10:55.625227Z",
     "shell.execute_reply": "2022-04-27T20:10:55.624581Z"
    },
    "papermill": {
     "duration": 1.819415,
     "end_time": "2022-04-27T20:10:55.625417",
     "exception": false,
     "start_time": "2022-04-27T20:10:53.806002",
     "status": "completed"
    },
    "tags": []
   },
   "outputs": [
    {
     "name": "stdout",
     "output_type": "stream",
     "text": [
      "Collecting mnist\r\n"
     ]
    },
    {
     "name": "stdout",
     "output_type": "stream",
     "text": [
      "  Downloading mnist-0.2.2-py2.py3-none-any.whl (3.5 kB)\r\n",
      "Requirement already satisfied: numpy in /opt/hostedtoolcache/Python/3.6.15/x64/lib/python3.6/site-packages (from mnist) (1.19.5)\r\n"
     ]
    },
    {
     "name": "stdout",
     "output_type": "stream",
     "text": [
      "Installing collected packages: mnist\r\n",
      "Successfully installed mnist-0.2.2\r\n"
     ]
    }
   ],
   "source": [
    "!pip install mnist"
   ]
  },
  {
   "cell_type": "markdown",
   "id": "69df9c9a",
   "metadata": {
    "papermill": {
     "duration": 0.034975,
     "end_time": "2022-04-27T20:10:55.697701",
     "exception": false,
     "start_time": "2022-04-27T20:10:55.662726",
     "status": "completed"
    },
    "tags": []
   },
   "source": [
    "## Preparing the Data"
   ]
  },
  {
   "cell_type": "code",
   "execution_count": 4,
   "id": "7f69d806",
   "metadata": {
    "execution": {
     "iopub.execute_input": "2022-04-27T20:10:55.776685Z",
     "iopub.status.busy": "2022-04-27T20:10:55.776098Z",
     "iopub.status.idle": "2022-04-27T20:10:55.791203Z",
     "shell.execute_reply": "2022-04-27T20:10:55.790545Z"
    },
    "papermill": {
     "duration": 0.060054,
     "end_time": "2022-04-27T20:10:55.791334",
     "exception": false,
     "start_time": "2022-04-27T20:10:55.731280",
     "status": "completed"
    },
    "tags": []
   },
   "outputs": [],
   "source": [
    "import mnist"
   ]
  },
  {
   "cell_type": "code",
   "execution_count": 5,
   "id": "a411e44f",
   "metadata": {
    "execution": {
     "iopub.execute_input": "2022-04-27T20:10:55.864224Z",
     "iopub.status.busy": "2022-04-27T20:10:55.863601Z",
     "iopub.status.idle": "2022-04-27T20:10:56.431667Z",
     "shell.execute_reply": "2022-04-27T20:10:56.432147Z"
    },
    "papermill": {
     "duration": 0.60673,
     "end_time": "2022-04-27T20:10:56.432306",
     "exception": false,
     "start_time": "2022-04-27T20:10:55.825576",
     "status": "completed"
    },
    "tags": []
   },
   "outputs": [],
   "source": [
    "train_images = mnist.train_images()\n",
    "train_labels = mnist.train_labels()"
   ]
  },
  {
   "cell_type": "code",
   "execution_count": 6,
   "id": "dceab3a5",
   "metadata": {
    "execution": {
     "iopub.execute_input": "2022-04-27T20:10:56.493888Z",
     "iopub.status.busy": "2022-04-27T20:10:56.493323Z",
     "iopub.status.idle": "2022-04-27T20:10:56.510964Z",
     "shell.execute_reply": "2022-04-27T20:10:56.510444Z"
    },
    "papermill": {
     "duration": 0.049564,
     "end_time": "2022-04-27T20:10:56.511075",
     "exception": false,
     "start_time": "2022-04-27T20:10:56.461511",
     "status": "completed"
    },
    "tags": []
   },
   "outputs": [
    {
     "data": {
      "text/plain": [
       "((60000, 28, 28), (60000,))"
      ]
     },
     "execution_count": 6,
     "metadata": {},
     "output_type": "execute_result"
    }
   ],
   "source": [
    "train_images.shape, train_labels.shape"
   ]
  },
  {
   "cell_type": "code",
   "execution_count": 7,
   "id": "f50dc2bb",
   "metadata": {
    "execution": {
     "iopub.execute_input": "2022-04-27T20:10:56.569803Z",
     "iopub.status.busy": "2022-04-27T20:10:56.569106Z",
     "iopub.status.idle": "2022-04-27T20:10:56.736406Z",
     "shell.execute_reply": "2022-04-27T20:10:56.735800Z"
    },
    "papermill": {
     "duration": 0.199025,
     "end_time": "2022-04-27T20:10:56.736613",
     "exception": false,
     "start_time": "2022-04-27T20:10:56.537588",
     "status": "completed"
    },
    "tags": []
   },
   "outputs": [],
   "source": [
    "test_images = mnist.test_images()\n",
    "test_labels = mnist.test_labels()"
   ]
  },
  {
   "cell_type": "code",
   "execution_count": 8,
   "id": "fc38cf1b",
   "metadata": {
    "execution": {
     "iopub.execute_input": "2022-04-27T20:10:56.801891Z",
     "iopub.status.busy": "2022-04-27T20:10:56.801078Z",
     "iopub.status.idle": "2022-04-27T20:10:56.814311Z",
     "shell.execute_reply": "2022-04-27T20:10:56.813676Z"
    },
    "papermill": {
     "duration": 0.048718,
     "end_time": "2022-04-27T20:10:56.814502",
     "exception": false,
     "start_time": "2022-04-27T20:10:56.765784",
     "status": "completed"
    },
    "tags": []
   },
   "outputs": [
    {
     "data": {
      "text/plain": [
       "((10000, 28, 28), (10000,))"
      ]
     },
     "execution_count": 8,
     "metadata": {},
     "output_type": "execute_result"
    }
   ],
   "source": [
    "test_images.shape, test_labels.shape"
   ]
  },
  {
   "cell_type": "code",
   "execution_count": 9,
   "id": "f9ed8fe0",
   "metadata": {
    "execution": {
     "iopub.execute_input": "2022-04-27T20:10:56.880466Z",
     "iopub.status.busy": "2022-04-27T20:10:56.878126Z",
     "iopub.status.idle": "2022-04-27T20:10:57.047149Z",
     "shell.execute_reply": "2022-04-27T20:10:57.047565Z"
    },
    "papermill": {
     "duration": 0.20248,
     "end_time": "2022-04-27T20:10:57.047710",
     "exception": false,
     "start_time": "2022-04-27T20:10:56.845230",
     "status": "completed"
    },
    "tags": []
   },
   "outputs": [
    {
     "name": "stdout",
     "output_type": "stream",
     "text": [
      "2\n"
     ]
    },
    {
     "data": {
      "text/plain": [
       "<matplotlib.image.AxesImage at 0x7fd4989e8358>"
      ]
     },
     "execution_count": 9,
     "metadata": {},
     "output_type": "execute_result"
    },
    {
     "data": {
      "image/png": "[encoded data removed]",
      "text/plain": [
       "<Figure size 432x288 with 1 Axes>"
      ]
     },
     "metadata": {
      "needs_background": "light"
     },
     "output_type": "display_data"
    }
   ],
   "source": [
    "image_index = 7776 # You may select anything up to 60,000\n",
    "print(train_labels[image_index]) \n",
    "plt.imshow(train_images[image_index], cmap='Greys')"
   ]
  },
  {
   "cell_type": "markdown",
   "id": "a8d2388d",
   "metadata": {
    "papermill": {
     "duration": 0.028748,
     "end_time": "2022-04-27T20:10:57.105324",
     "exception": false,
     "start_time": "2022-04-27T20:10:57.076576",
     "status": "completed"
    },
    "tags": []
   },
   "source": [
    "## Filter data to get 3 and 8 out"
   ]
  },
  {
   "cell_type": "code",
   "execution_count": 10,
   "id": "776f7fc7",
   "metadata": {
    "execution": {
     "iopub.execute_input": "2022-04-27T20:10:57.176238Z",
     "iopub.status.busy": "2022-04-27T20:10:57.169099Z",
     "iopub.status.idle": "2022-04-27T20:10:57.185943Z",
     "shell.execute_reply": "2022-04-27T20:10:57.185481Z"
    },
    "papermill": {
     "duration": 0.05392,
     "end_time": "2022-04-27T20:10:57.186056",
     "exception": false,
     "start_time": "2022-04-27T20:10:57.132136",
     "status": "completed"
    },
    "tags": []
   },
   "outputs": [],
   "source": [
    "train_filter = np.where((train_labels == 3 ) | (train_labels == 8))\n",
    "test_filter = np.where((test_labels == 3) | (test_labels == 8))\n",
    "X_train, y_train = train_images[train_filter], train_labels[train_filter]\n",
    "X_test, y_test = test_images[test_filter], test_labels[test_filter]"
   ]
  },
  {
   "cell_type": "markdown",
   "id": "948f0b7e",
   "metadata": {
    "papermill": {
     "duration": 0.02772,
     "end_time": "2022-04-27T20:10:57.242527",
     "exception": false,
     "start_time": "2022-04-27T20:10:57.214807",
     "status": "completed"
    },
    "tags": []
   },
   "source": [
    "We normalize the pizel values in the 0 to 1 range"
   ]
  },
  {
   "cell_type": "code",
   "execution_count": 11,
   "id": "ee4c2166",
   "metadata": {
    "execution": {
     "iopub.execute_input": "2022-04-27T20:10:57.300397Z",
     "iopub.status.busy": "2022-04-27T20:10:57.299761Z",
     "iopub.status.idle": "2022-04-27T20:10:57.357805Z",
     "shell.execute_reply": "2022-04-27T20:10:57.357308Z"
    },
    "papermill": {
     "duration": 0.088857,
     "end_time": "2022-04-27T20:10:57.357936",
     "exception": false,
     "start_time": "2022-04-27T20:10:57.269079",
     "status": "completed"
    },
    "tags": []
   },
   "outputs": [],
   "source": [
    "X_train = X_train/255.\n",
    "X_test = X_test/255."
   ]
  },
  {
   "cell_type": "markdown",
   "id": "ddcf4fab",
   "metadata": {
    "papermill": {
     "duration": 0.028814,
     "end_time": "2022-04-27T20:10:57.415074",
     "exception": false,
     "start_time": "2022-04-27T20:10:57.386260",
     "status": "completed"
    },
    "tags": []
   },
   "source": [
    "And setup the labels as 1 (when the digit is 3) and 0 (when the digit is 8)"
   ]
  },
  {
   "cell_type": "code",
   "execution_count": 12,
   "id": "7dc908f2",
   "metadata": {
    "execution": {
     "iopub.execute_input": "2022-04-27T20:10:57.477699Z",
     "iopub.status.busy": "2022-04-27T20:10:57.477160Z",
     "iopub.status.idle": "2022-04-27T20:10:57.490895Z",
     "shell.execute_reply": "2022-04-27T20:10:57.490084Z"
    },
    "papermill": {
     "duration": 0.0474,
     "end_time": "2022-04-27T20:10:57.491030",
     "exception": false,
     "start_time": "2022-04-27T20:10:57.443630",
     "status": "completed"
    },
    "tags": []
   },
   "outputs": [],
   "source": [
    "y_train = 1*(y_train==3)\n",
    "y_test = 1*(y_test==3)"
   ]
  },
  {
   "cell_type": "code",
   "execution_count": 13,
   "id": "01e4e969",
   "metadata": {
    "execution": {
     "iopub.execute_input": "2022-04-27T20:10:57.548323Z",
     "iopub.status.busy": "2022-04-27T20:10:57.547802Z",
     "iopub.status.idle": "2022-04-27T20:10:57.563344Z",
     "shell.execute_reply": "2022-04-27T20:10:57.562755Z"
    },
    "papermill": {
     "duration": 0.045425,
     "end_time": "2022-04-27T20:10:57.563454",
     "exception": false,
     "start_time": "2022-04-27T20:10:57.518029",
     "status": "completed"
    },
    "tags": []
   },
   "outputs": [
    {
     "data": {
      "text/plain": [
       "((11982, 28, 28), (1984, 28, 28))"
      ]
     },
     "execution_count": 13,
     "metadata": {},
     "output_type": "execute_result"
    }
   ],
   "source": [
    "X_train.shape, X_test.shape"
   ]
  },
  {
   "cell_type": "markdown",
   "id": "5ccf3f85",
   "metadata": {
    "papermill": {
     "duration": 0.030988,
     "end_time": "2022-04-27T20:10:57.624812",
     "exception": false,
     "start_time": "2022-04-27T20:10:57.593824",
     "status": "completed"
    },
    "tags": []
   },
   "source": [
    "We reshape the data to flatten the image pixels into a set of features or co-variates:"
   ]
  },
  {
   "cell_type": "code",
   "execution_count": 14,
   "id": "5286a4a3",
   "metadata": {
    "execution": {
     "iopub.execute_input": "2022-04-27T20:10:57.695722Z",
     "iopub.status.busy": "2022-04-27T20:10:57.695170Z",
     "iopub.status.idle": "2022-04-27T20:10:57.707488Z",
     "shell.execute_reply": "2022-04-27T20:10:57.707013Z"
    },
    "papermill": {
     "duration": 0.05004,
     "end_time": "2022-04-27T20:10:57.707638",
     "exception": false,
     "start_time": "2022-04-27T20:10:57.657598",
     "status": "completed"
    },
    "tags": []
   },
   "outputs": [
    {
     "data": {
      "text/plain": [
       "((11982, 784), (1984, 784))"
      ]
     },
     "execution_count": 14,
     "metadata": {},
     "output_type": "execute_result"
    }
   ],
   "source": [
    "X_train = X_train.reshape(X_train.shape[0], -1)\n",
    "X_test = X_test.reshape(X_test.shape[0], -1)\n",
    "X_train.shape, X_test.shape"
   ]
  },
  {
   "cell_type": "code",
   "execution_count": 15,
   "id": "73c5f88a",
   "metadata": {
    "execution": {
     "iopub.execute_input": "2022-04-27T20:10:57.772063Z",
     "iopub.status.busy": "2022-04-27T20:10:57.771513Z",
     "iopub.status.idle": "2022-04-27T20:10:57.788997Z",
     "shell.execute_reply": "2022-04-27T20:10:57.789499Z"
    },
    "papermill": {
     "duration": 0.053046,
     "end_time": "2022-04-27T20:10:57.789620",
     "exception": false,
     "start_time": "2022-04-27T20:10:57.736574",
     "status": "completed"
    },
    "tags": []
   },
   "outputs": [],
   "source": [
    "#Impoting functions from 'Kudzu'\n",
    "from kudzu.model import Model\n",
    "from kudzu.train import Learner\n",
    "from kudzu.optim import GD\n",
    "from kudzu.data import Data, Sampler,Dataloader\n",
    "\n",
    "from kudzu.callbacks import AccCallback\n",
    "from kudzu.callbacks import ClfCallback\n",
    "\n",
    "from kudzu.loss import MSE\n",
    "\n",
    "from kudzu.layer import Sigmoid,Relu\n",
    "from kudzu.layer import Affine"
   ]
  },
  {
   "cell_type": "markdown",
   "id": "bc01172a",
   "metadata": {
    "papermill": {
     "duration": 0.028154,
     "end_time": "2022-04-27T20:10:57.844292",
     "exception": false,
     "start_time": "2022-04-27T20:10:57.816138",
     "status": "completed"
    },
    "tags": []
   },
   "source": [
    "### Let us create a `Config` class, to store important parameters. \n",
    "This class essentially plays the role of a dictionary."
   ]
  },
  {
   "cell_type": "code",
   "execution_count": 16,
   "id": "978281aa",
   "metadata": {
    "execution": {
     "iopub.execute_input": "2022-04-27T20:10:57.909990Z",
     "iopub.status.busy": "2022-04-27T20:10:57.909426Z",
     "iopub.status.idle": "2022-04-27T20:10:57.917778Z",
     "shell.execute_reply": "2022-04-27T20:10:57.918280Z"
    },
    "papermill": {
     "duration": 0.044185,
     "end_time": "2022-04-27T20:10:57.918397",
     "exception": false,
     "start_time": "2022-04-27T20:10:57.874212",
     "status": "completed"
    },
    "tags": []
   },
   "outputs": [],
   "source": [
    "class Config:\n",
    "    pass\n",
    "config = Config()\n",
    "config.lr = 0.001\n",
    "config.num_epochs = 250\n",
    "config.bs = 50"
   ]
  },
  {
   "cell_type": "markdown",
   "id": "1385fa59",
   "metadata": {
    "papermill": {
     "duration": 0.02839,
     "end_time": "2022-04-27T20:10:57.973311",
     "exception": false,
     "start_time": "2022-04-27T20:10:57.944921",
     "status": "completed"
    },
    "tags": []
   },
   "source": [
    "### Running Models with the Training data\n",
    "Details about the network layers:\n",
    "- A first affine layer has 784 inputs and does 100 affine transforms. These are followed by a Relu\n",
    "- A second affine layer has 100 inputs from the 100 activations of the past layer, and does 100 affine transforms. These are followed by a Relu\n",
    "- A third affine layer has 100 activations and does 2 affine transformations to create an embedding for visualization. There is no non-linearity here.\n",
    "- A final \"logistic regression\" which has an affine transform from 2 inputs to 1 output, which is squeezed through a sigmoid.\n"
   ]
  },
  {
   "cell_type": "code",
   "execution_count": 17,
   "id": "2b9c66db",
   "metadata": {
    "execution": {
     "iopub.execute_input": "2022-04-27T20:10:58.032326Z",
     "iopub.status.busy": "2022-04-27T20:10:58.031750Z",
     "iopub.status.idle": "2022-04-27T20:10:58.043830Z",
     "shell.execute_reply": "2022-04-27T20:10:58.043359Z"
    },
    "papermill": {
     "duration": 0.043106,
     "end_time": "2022-04-27T20:10:58.043936",
     "exception": false,
     "start_time": "2022-04-27T20:10:58.000830",
     "status": "completed"
    },
    "tags": []
   },
   "outputs": [],
   "source": [
    "data = Data(X_train, y_train.reshape(-1,1))\n",
    "sampler = Sampler(data, config.bs, shuffle=True)\n",
    "\n",
    "dl = Dataloader(data, sampler)\n",
    "\n",
    "opt = GD(config.lr)\n",
    "loss = MSE()"
   ]
  },
  {
   "cell_type": "code",
   "execution_count": 18,
   "id": "b275e4c2",
   "metadata": {
    "execution": {
     "iopub.execute_input": "2022-04-27T20:10:58.107651Z",
     "iopub.status.busy": "2022-04-27T20:10:58.107073Z",
     "iopub.status.idle": "2022-04-27T20:10:58.118596Z",
     "shell.execute_reply": "2022-04-27T20:10:58.118168Z"
    },
    "papermill": {
     "duration": 0.044044,
     "end_time": "2022-04-27T20:10:58.118721",
     "exception": false,
     "start_time": "2022-04-27T20:10:58.074677",
     "status": "completed"
    },
    "tags": []
   },
   "outputs": [],
   "source": [
    "training_data_x = X_train\n",
    "testing_data_x = X_test\n",
    "training_data_y = y_train.reshape(-1,1)\n",
    "testing_data_y = y_test.reshape(-1,1)"
   ]
  },
  {
   "cell_type": "code",
   "execution_count": 19,
   "id": "76951160",
   "metadata": {
    "execution": {
     "iopub.execute_input": "2022-04-27T20:10:58.178077Z",
     "iopub.status.busy": "2022-04-27T20:10:58.177478Z",
     "iopub.status.idle": "2022-04-27T20:10:58.192836Z",
     "shell.execute_reply": "2022-04-27T20:10:58.193352Z"
    },
    "papermill": {
     "duration": 0.047558,
     "end_time": "2022-04-27T20:10:58.193475",
     "exception": false,
     "start_time": "2022-04-27T20:10:58.145917",
     "status": "completed"
    },
    "tags": []
   },
   "outputs": [
    {
     "name": "stdout",
     "output_type": "stream",
     "text": [
      "xavier\n",
      "xavier\n",
      "xavier\n",
      "xavier\n",
      "xavier\n"
     ]
    }
   ],
   "source": [
    "layers = [Affine(\"first\", 784, 100), Relu(\"first\"), Affine(\"second\", 100, 100), Relu(\"second\"), Affine(\"third\", 100, 2), Affine(\"last\", 2, 1), Sigmoid(\"last\")]\n",
    "model_nn = Model(layers)\n",
    "model_lr = Model([Affine(\"logits\", 784, 1), Sigmoid(\"sigmoid\")])"
   ]
  },
  {
   "cell_type": "code",
   "execution_count": 20,
   "id": "6eede77a",
   "metadata": {
    "execution": {
     "iopub.execute_input": "2022-04-27T20:10:58.262556Z",
     "iopub.status.busy": "2022-04-27T20:10:58.261718Z",
     "iopub.status.idle": "2022-04-27T20:10:58.274650Z",
     "shell.execute_reply": "2022-04-27T20:10:58.275299Z"
    },
    "papermill": {
     "duration": 0.049632,
     "end_time": "2022-04-27T20:10:58.275429",
     "exception": false,
     "start_time": "2022-04-27T20:10:58.225797",
     "status": "completed"
    },
    "tags": []
   },
   "outputs": [],
   "source": [
    "nn_learner = Learner(loss, model_nn, opt, config.num_epochs)\n",
    "acc_nn = ClfCallback(nn_learner, config.bs, training_data_x , testing_data_x, training_data_y, testing_data_y)\n",
    "nn_learner.set_callbacks([acc_nn])"
   ]
  },
  {
   "cell_type": "code",
   "execution_count": 21,
   "id": "877b6cc7",
   "metadata": {
    "execution": {
     "iopub.execute_input": "2022-04-27T20:10:58.333514Z",
     "iopub.status.busy": "2022-04-27T20:10:58.332982Z",
     "iopub.status.idle": "2022-04-27T20:10:58.343977Z",
     "shell.execute_reply": "2022-04-27T20:10:58.344528Z"
    },
    "papermill": {
     "duration": 0.041541,
     "end_time": "2022-04-27T20:10:58.344656",
     "exception": false,
     "start_time": "2022-04-27T20:10:58.303115",
     "status": "completed"
    },
    "tags": []
   },
   "outputs": [],
   "source": [
    "lr_learner = Learner(loss, model_lr, opt, config.num_epochs)\n",
    "acc_lr = ClfCallback(lr_learner, config.bs, training_data_x , testing_data_x, training_data_y, testing_data_y)\n",
    "lr_learner.set_callbacks([acc_lr])"
   ]
  },
  {
   "cell_type": "code",
   "execution_count": 22,
   "id": "d9b133c3",
   "metadata": {
    "execution": {
     "iopub.execute_input": "2022-04-27T20:10:58.402813Z",
     "iopub.status.busy": "2022-04-27T20:10:58.402174Z",
     "iopub.status.idle": "2022-04-27T20:13:14.386783Z",
     "shell.execute_reply": "2022-04-27T20:13:14.387516Z"
    },
    "papermill": {
     "duration": 136.016392,
     "end_time": "2022-04-27T20:13:14.387665",
     "exception": false,
     "start_time": "2022-04-27T20:10:58.371273",
     "status": "completed"
    },
    "tags": []
   },
   "outputs": [
    {
     "name": "stdout",
     "output_type": "stream",
     "text": [
      "Epoch 0, Loss 0.2303\n",
      "Training Accuracy: 0.7872, Testing Accuracy: 0.7969\n",
      "\n"
     ]
    },
    {
     "name": "stdout",
     "output_type": "stream",
     "text": [
      "Epoch 10, Loss 0.0939\n",
      "Training Accuracy: 0.9180, Testing Accuracy: 0.9249\n",
      "\n"
     ]
    },
    {
     "name": "stdout",
     "output_type": "stream",
     "text": [
      "Epoch 20, Loss 0.056\n",
      "Training Accuracy: 0.9448, Testing Accuracy: 0.9521\n",
      "\n"
     ]
    },
    {
     "name": "stdout",
     "output_type": "stream",
     "text": [
      "Epoch 30, Loss 0.0434\n",
      "Training Accuracy: 0.9538, Testing Accuracy: 0.9592\n",
      "\n"
     ]
    },
    {
     "name": "stdout",
     "output_type": "stream",
     "text": [
      "Epoch 40, Loss 0.0372\n",
      "Training Accuracy: 0.9600, Testing Accuracy: 0.9652\n",
      "\n"
     ]
    },
    {
     "name": "stdout",
     "output_type": "stream",
     "text": [
      "Epoch 50, Loss 0.0334\n",
      "Training Accuracy: 0.9619, Testing Accuracy: 0.9688\n",
      "\n"
     ]
    },
    {
     "name": "stdout",
     "output_type": "stream",
     "text": [
      "Epoch 60, Loss 0.0307\n",
      "Training Accuracy: 0.9649, Testing Accuracy: 0.9698\n",
      "\n"
     ]
    },
    {
     "name": "stdout",
     "output_type": "stream",
     "text": [
      "Epoch 70, Loss 0.0287\n",
      "Training Accuracy: 0.9670, Testing Accuracy: 0.9713\n",
      "\n"
     ]
    },
    {
     "name": "stdout",
     "output_type": "stream",
     "text": [
      "Epoch 80, Loss 0.0271\n",
      "Training Accuracy: 0.9687, Testing Accuracy: 0.9723\n",
      "\n"
     ]
    },
    {
     "name": "stdout",
     "output_type": "stream",
     "text": [
      "Epoch 90, Loss 0.0258\n",
      "Training Accuracy: 0.9700, Testing Accuracy: 0.9723\n",
      "\n"
     ]
    },
    {
     "name": "stdout",
     "output_type": "stream",
     "text": [
      "Epoch 100, Loss 0.0246\n",
      "Training Accuracy: 0.9715, Testing Accuracy: 0.9728\n",
      "\n"
     ]
    },
    {
     "name": "stdout",
     "output_type": "stream",
     "text": [
      "Epoch 110, Loss 0.0237\n",
      "Training Accuracy: 0.9734, Testing Accuracy: 0.9728\n",
      "\n"
     ]
    },
    {
     "name": "stdout",
     "output_type": "stream",
     "text": [
      "Epoch 120, Loss 0.0228\n",
      "Training Accuracy: 0.9743, Testing Accuracy: 0.9728\n",
      "\n"
     ]
    },
    {
     "name": "stdout",
     "output_type": "stream",
     "text": [
      "Epoch 130, Loss 0.022\n",
      "Training Accuracy: 0.9750, Testing Accuracy: 0.9738\n",
      "\n"
     ]
    },
    {
     "name": "stdout",
     "output_type": "stream",
     "text": [
      "Epoch 140, Loss 0.0213\n",
      "Training Accuracy: 0.9756, Testing Accuracy: 0.9748\n",
      "\n"
     ]
    },
    {
     "name": "stdout",
     "output_type": "stream",
     "text": [
      "Epoch 150, Loss 0.0207\n",
      "Training Accuracy: 0.9761, Testing Accuracy: 0.9753\n",
      "\n"
     ]
    },
    {
     "name": "stdout",
     "output_type": "stream",
     "text": [
      "Epoch 160, Loss 0.02\n",
      "Training Accuracy: 0.9767, Testing Accuracy: 0.9758\n",
      "\n"
     ]
    },
    {
     "name": "stdout",
     "output_type": "stream",
     "text": [
      "Epoch 170, Loss 0.0195\n",
      "Training Accuracy: 0.9776, Testing Accuracy: 0.9758\n",
      "\n"
     ]
    },
    {
     "name": "stdout",
     "output_type": "stream",
     "text": [
      "Epoch 180, Loss 0.019\n",
      "Training Accuracy: 0.9782, Testing Accuracy: 0.9753\n",
      "\n"
     ]
    },
    {
     "name": "stdout",
     "output_type": "stream",
     "text": [
      "Epoch 190, Loss 0.0185\n",
      "Training Accuracy: 0.9791, Testing Accuracy: 0.9758\n",
      "\n"
     ]
    },
    {
     "name": "stdout",
     "output_type": "stream",
     "text": [
      "Epoch 200, Loss 0.018\n",
      "Training Accuracy: 0.9801, Testing Accuracy: 0.9763\n",
      "\n"
     ]
    },
    {
     "name": "stdout",
     "output_type": "stream",
     "text": [
      "Epoch 210, Loss 0.0175\n",
      "Training Accuracy: 0.9805, Testing Accuracy: 0.9768\n",
      "\n"
     ]
    },
    {
     "name": "stdout",
     "output_type": "stream",
     "text": [
      "Epoch 220, Loss 0.0171\n",
      "Training Accuracy: 0.9813, Testing Accuracy: 0.9773\n",
      "\n"
     ]
    },
    {
     "name": "stdout",
     "output_type": "stream",
     "text": [
      "Epoch 230, Loss 0.0167\n",
      "Training Accuracy: 0.9820, Testing Accuracy: 0.9778\n",
      "\n"
     ]
    },
    {
     "name": "stdout",
     "output_type": "stream",
     "text": [
      "Epoch 240, Loss 0.0163\n",
      "Training Accuracy: 0.9822, Testing Accuracy: 0.9783\n",
      "\n"
     ]
    },
    {
     "data": {
      "text/plain": [
       "0.002231716354636481"
      ]
     },
     "execution_count": 22,
     "metadata": {},
     "output_type": "execute_result"
    }
   ],
   "source": [
    "nn_learner.train_loop(dl)"
   ]
  },
  {
   "cell_type": "code",
   "execution_count": 23,
   "id": "e0163366",
   "metadata": {
    "execution": {
     "iopub.execute_input": "2022-04-27T20:13:14.473700Z",
     "iopub.status.busy": "2022-04-27T20:13:14.473172Z",
     "iopub.status.idle": "2022-04-27T20:13:34.133858Z",
     "shell.execute_reply": "2022-04-27T20:13:34.134899Z"
    },
    "papermill": {
     "duration": 19.710065,
     "end_time": "2022-04-27T20:13:34.135089",
     "exception": false,
     "start_time": "2022-04-27T20:13:14.425024",
     "status": "completed"
    },
    "tags": []
   },
   "outputs": [
    {
     "name": "stdout",
     "output_type": "stream",
     "text": [
      "Epoch 0, Loss 0.2013\n",
      "Training Accuracy: 0.7885, Testing Accuracy: 0.8085\n",
      "\n"
     ]
    },
    {
     "name": "stdout",
     "output_type": "stream",
     "text": [
      "Epoch 10, Loss 0.1\n",
      "Training Accuracy: 0.9105, Testing Accuracy: 0.9224\n",
      "\n"
     ]
    },
    {
     "name": "stdout",
     "output_type": "stream",
     "text": [
      "Epoch 20, Loss 0.0784\n",
      "Training Accuracy: 0.9296, Testing Accuracy: 0.9400\n",
      "\n"
     ]
    },
    {
     "name": "stdout",
     "output_type": "stream",
     "text": [
      "Epoch 30, Loss 0.068\n",
      "Training Accuracy: 0.9375, Testing Accuracy: 0.9496\n",
      "\n"
     ]
    },
    {
     "name": "stdout",
     "output_type": "stream",
     "text": [
      "Epoch 40, Loss 0.0616\n",
      "Training Accuracy: 0.9404, Testing Accuracy: 0.9541\n",
      "\n"
     ]
    },
    {
     "name": "stdout",
     "output_type": "stream",
     "text": [
      "Epoch 50, Loss 0.0572\n",
      "Training Accuracy: 0.9432, Testing Accuracy: 0.9587\n",
      "\n"
     ]
    },
    {
     "name": "stdout",
     "output_type": "stream",
     "text": [
      "Epoch 60, Loss 0.0539\n",
      "Training Accuracy: 0.9457, Testing Accuracy: 0.9582\n",
      "\n"
     ]
    },
    {
     "name": "stdout",
     "output_type": "stream",
     "text": [
      "Epoch 70, Loss 0.0513\n",
      "Training Accuracy: 0.9478, Testing Accuracy: 0.9587\n",
      "\n"
     ]
    },
    {
     "name": "stdout",
     "output_type": "stream",
     "text": [
      "Epoch 80, Loss 0.0493\n",
      "Training Accuracy: 0.9497, Testing Accuracy: 0.9602\n",
      "\n"
     ]
    },
    {
     "name": "stdout",
     "output_type": "stream",
     "text": [
      "Epoch 90, Loss 0.0476\n",
      "Training Accuracy: 0.9502, Testing Accuracy: 0.9617\n",
      "\n"
     ]
    },
    {
     "name": "stdout",
     "output_type": "stream",
     "text": [
      "Epoch 100, Loss 0.0461\n",
      "Training Accuracy: 0.9518, Testing Accuracy: 0.9632\n",
      "\n"
     ]
    },
    {
     "name": "stdout",
     "output_type": "stream",
     "text": [
      "Epoch 110, Loss 0.0449\n",
      "Training Accuracy: 0.9527, Testing Accuracy: 0.9642\n",
      "\n"
     ]
    },
    {
     "name": "stdout",
     "output_type": "stream",
     "text": [
      "Epoch 120, Loss 0.0438\n",
      "Training Accuracy: 0.9535, Testing Accuracy: 0.9652\n",
      "\n"
     ]
    },
    {
     "name": "stdout",
     "output_type": "stream",
     "text": [
      "Epoch 130, Loss 0.0429\n",
      "Training Accuracy: 0.9545, Testing Accuracy: 0.9667\n",
      "\n"
     ]
    },
    {
     "name": "stdout",
     "output_type": "stream",
     "text": [
      "Epoch 140, Loss 0.042\n",
      "Training Accuracy: 0.9557, Testing Accuracy: 0.9667\n",
      "\n"
     ]
    },
    {
     "name": "stdout",
     "output_type": "stream",
     "text": [
      "Epoch 150, Loss 0.0413\n",
      "Training Accuracy: 0.9560, Testing Accuracy: 0.9667\n",
      "\n"
     ]
    },
    {
     "name": "stdout",
     "output_type": "stream",
     "text": [
      "Epoch 160, Loss 0.0406\n",
      "Training Accuracy: 0.9567, Testing Accuracy: 0.9672\n",
      "\n"
     ]
    },
    {
     "name": "stdout",
     "output_type": "stream",
     "text": [
      "Epoch 170, Loss 0.04\n",
      "Training Accuracy: 0.9574, Testing Accuracy: 0.9672\n",
      "\n"
     ]
    },
    {
     "name": "stdout",
     "output_type": "stream",
     "text": [
      "Epoch 180, Loss 0.0394\n",
      "Training Accuracy: 0.9581, Testing Accuracy: 0.9667\n",
      "\n"
     ]
    },
    {
     "name": "stdout",
     "output_type": "stream",
     "text": [
      "Epoch 190, Loss 0.0389\n",
      "Training Accuracy: 0.9584, Testing Accuracy: 0.9672\n",
      "\n"
     ]
    },
    {
     "name": "stdout",
     "output_type": "stream",
     "text": [
      "Epoch 200, Loss 0.0384\n",
      "Training Accuracy: 0.9593, Testing Accuracy: 0.9672\n",
      "\n"
     ]
    },
    {
     "name": "stdout",
     "output_type": "stream",
     "text": [
      "Epoch 210, Loss 0.0379\n",
      "Training Accuracy: 0.9595, Testing Accuracy: 0.9667\n",
      "\n"
     ]
    },
    {
     "name": "stdout",
     "output_type": "stream",
     "text": [
      "Epoch 220, Loss 0.0375\n",
      "Training Accuracy: 0.9599, Testing Accuracy: 0.9667\n",
      "\n"
     ]
    },
    {
     "name": "stdout",
     "output_type": "stream",
     "text": [
      "Epoch 230, Loss 0.0371\n",
      "Training Accuracy: 0.9605, Testing Accuracy: 0.9667\n",
      "\n"
     ]
    },
    {
     "name": "stdout",
     "output_type": "stream",
     "text": [
      "Epoch 240, Loss 0.0368\n",
      "Training Accuracy: 0.9610, Testing Accuracy: 0.9662\n",
      "\n"
     ]
    },
    {
     "data": {
      "text/plain": [
       "0.046853011622248614"
      ]
     },
     "execution_count": 23,
     "metadata": {},
     "output_type": "execute_result"
    }
   ],
   "source": [
    "lr_learner.train_loop(dl)"
   ]
  },
  {
   "cell_type": "code",
   "execution_count": 24,
   "id": "ca410940",
   "metadata": {
    "execution": {
     "iopub.execute_input": "2022-04-27T20:13:34.246092Z",
     "iopub.status.busy": "2022-04-27T20:13:34.245281Z",
     "iopub.status.idle": "2022-04-27T20:13:34.527260Z",
     "shell.execute_reply": "2022-04-27T20:13:34.526780Z"
    },
    "papermill": {
     "duration": 0.340338,
     "end_time": "2022-04-27T20:13:34.527394",
     "exception": false,
     "start_time": "2022-04-27T20:13:34.187056",
     "status": "completed"
    },
    "tags": []
   },
   "outputs": [
    {
     "data": {
      "text/plain": [
       "<matplotlib.legend.Legend at 0x7fd4985c4b38>"
      ]
     },
     "execution_count": 24,
     "metadata": {},
     "output_type": "execute_result"
    },
    {
     "data": {
      "image/png": "[encoded data removed]",
      "text/plain": [
       "<Figure size 1080x720 with 1 Axes>"
      ]
     },
     "metadata": {
      "needs_background": "light"
     },
     "output_type": "display_data"
    }
   ],
   "source": [
    "#comparing the results of NN and LR\n",
    "plt.figure(figsize=(15,10))\n",
    "\n",
    "# Neural Network plots\n",
    "plt.plot(acc_nn.accuracies, 'r-', label = \"Training Accuracies - NN\")\n",
    "plt.plot(acc_nn.test_accuracies, 'g-', label = \"Testing Accuracies - NN\")\n",
    "\n",
    "# Logistic Regression plots\n",
    "plt.plot(acc_lr.accuracies, 'k-', label = \"Training Accuracies - LR\")\n",
    "plt.plot(acc_lr.test_accuracies, 'b-', label = \"Testing Accuracies - LR\")\n",
    "plt.legend()"
   ]
  },
  {
   "cell_type": "markdown",
   "id": "80dfb35c",
   "metadata": {
    "papermill": {
     "duration": 0.048639,
     "end_time": "2022-04-27T20:13:34.624978",
     "exception": false,
     "start_time": "2022-04-27T20:13:34.576339",
     "status": "completed"
    },
    "tags": []
   },
   "source": [
    "#### Plotting the outputs of this layer of the NN.\n"
   ]
  },
  {
   "cell_type": "code",
   "execution_count": 25,
   "id": "45eb2ff5",
   "metadata": {
    "execution": {
     "iopub.execute_input": "2022-04-27T20:13:34.725205Z",
     "iopub.status.busy": "2022-04-27T20:13:34.724604Z",
     "iopub.status.idle": "2022-04-27T20:13:34.750177Z",
     "shell.execute_reply": "2022-04-27T20:13:34.750937Z"
    },
    "papermill": {
     "duration": 0.080188,
     "end_time": "2022-04-27T20:13:34.751092",
     "exception": false,
     "start_time": "2022-04-27T20:13:34.670904",
     "status": "completed"
    },
    "tags": []
   },
   "outputs": [],
   "source": [
    "new_model = Model(layers[:-2])\n",
    "testing_plot = new_model(testing_data_x)"
   ]
  },
  {
   "cell_type": "code",
   "execution_count": 26,
   "id": "4c0a5485",
   "metadata": {
    "execution": {
     "iopub.execute_input": "2022-04-27T20:13:34.861906Z",
     "iopub.status.busy": "2022-04-27T20:13:34.861284Z",
     "iopub.status.idle": "2022-04-27T20:13:35.099296Z",
     "shell.execute_reply": "2022-04-27T20:13:35.099763Z"
    },
    "papermill": {
     "duration": 0.299679,
     "end_time": "2022-04-27T20:13:35.099946",
     "exception": false,
     "start_time": "2022-04-27T20:13:34.800267",
     "status": "completed"
    },
    "tags": []
   },
   "outputs": [
    {
     "data": {
      "text/plain": [
       "Text(0.5, 1.0, 'Outputs')"
      ]
     },
     "execution_count": 26,
     "metadata": {},
     "output_type": "execute_result"
    },
    {
     "data": {
      "image/png": "[encoded data removed]",
      "text/plain": [
       "<Figure size 576x504 with 1 Axes>"
      ]
     },
     "metadata": {
      "needs_background": "light"
     },
     "output_type": "display_data"
    }
   ],
   "source": [
    "# Plotting the scatter plot of points and color coding by class\n",
    "plt.figure(figsize=(8,7))\n",
    "plt.scatter(testing_plot[:,0], testing_plot[:,1], alpha = 0.1, c = y_test.ravel());\n",
    "plt.title('Outputs')"
   ]
  },
  {
   "cell_type": "markdown",
   "id": "a74fcf8f",
   "metadata": {
    "papermill": {
     "duration": 0.044383,
     "end_time": "2022-04-27T20:13:35.192908",
     "exception": false,
     "start_time": "2022-04-27T20:13:35.148525",
     "status": "completed"
    },
    "tags": []
   },
   "source": [
    "Probability contours"
   ]
  },
  {
   "cell_type": "code",
   "execution_count": 27,
   "id": "d0afc8e3",
   "metadata": {
    "execution": {
     "iopub.execute_input": "2022-04-27T20:13:35.294200Z",
     "iopub.status.busy": "2022-04-27T20:13:35.293416Z",
     "iopub.status.idle": "2022-04-27T20:13:35.304571Z",
     "shell.execute_reply": "2022-04-27T20:13:35.304090Z"
    },
    "papermill": {
     "duration": 0.067097,
     "end_time": "2022-04-27T20:13:35.304700",
     "exception": false,
     "start_time": "2022-04-27T20:13:35.237603",
     "status": "completed"
    },
    "tags": []
   },
   "outputs": [],
   "source": [
    "model_prob = Model(layers[-2:]) "
   ]
  },
  {
   "cell_type": "code",
   "execution_count": 28,
   "id": "9b96e238",
   "metadata": {
    "execution": {
     "iopub.execute_input": "2022-04-27T20:13:35.429991Z",
     "iopub.status.busy": "2022-04-27T20:13:35.429431Z",
     "iopub.status.idle": "2022-04-27T20:13:35.443643Z",
     "shell.execute_reply": "2022-04-27T20:13:35.444099Z"
    },
    "papermill": {
     "duration": 0.088162,
     "end_time": "2022-04-27T20:13:35.444253",
     "exception": false,
     "start_time": "2022-04-27T20:13:35.356091",
     "status": "completed"
    },
    "tags": []
   },
   "outputs": [],
   "source": [
    "#creating the x and y ranges according to the above generated plot.\n",
    "x_range = np.linspace(-4, 1, 100) \n",
    "y_range = np.linspace(-6, 6, 100) \n",
    "x_grid, y_grid = np.meshgrid(x_range, y_range) # x_grid and y_grig are of size 100 X 100\n",
    "\n",
    "# converting x_grid and y_grid to continuous arrays\n",
    "x_gridflat = np.ravel(x_grid)\n",
    "y_gridflat = np.ravel(y_grid)\n",
    "\n",
    "# The last layer of the current model takes two columns as input. Hence transpose of np.vstack() is required.\n",
    "X = np.vstack((x_gridflat, y_gridflat)).T\n",
    "\n",
    "prob_contour = model_prob(X).reshape(100,100) "
   ]
  },
  {
   "cell_type": "code",
   "execution_count": 29,
   "id": "da72499a",
   "metadata": {
    "execution": {
     "iopub.execute_input": "2022-04-27T20:13:35.549951Z",
     "iopub.status.busy": "2022-04-27T20:13:35.549301Z",
     "iopub.status.idle": "2022-04-27T20:13:35.871991Z",
     "shell.execute_reply": "2022-04-27T20:13:35.871029Z"
    },
    "papermill": {
     "duration": 0.380979,
     "end_time": "2022-04-27T20:13:35.872157",
     "exception": false,
     "start_time": "2022-04-27T20:13:35.491178",
     "status": "completed"
    },
    "tags": []
   },
   "outputs": [
    {
     "data": {
      "image/png": "[encoded data removed]",
      "text/plain": [
       "<Figure size 720x648 with 1 Axes>"
      ]
     },
     "metadata": {
      "needs_background": "light"
     },
     "output_type": "display_data"
    }
   ],
   "source": [
    "plt.figure(figsize=(10,9))\n",
    "plt.scatter(testing_plot[:,0], testing_plot[:,1], alpha = 0.1, c = y_test.ravel())\n",
    "contours = plt.contour(x_grid,y_grid,prob_contour)\n",
    "plt.title('Probability Contours')\n",
    "plt.clabel(contours, inline = True );"
   ]
  },
  {
   "cell_type": "code",
   "execution_count": null,
   "id": "e81b4ac7",
   "metadata": {
    "papermill": {
     "duration": 0.056765,
     "end_time": "2022-04-27T20:13:35.983906",
     "exception": false,
     "start_time": "2022-04-27T20:13:35.927141",
     "status": "completed"
    },
    "tags": []
   },
   "outputs": [],
   "source": []
  }
 ],
 "metadata": {
  "kernelspec": {
   "display_name": "Python 3",
   "language": "python",
   "name": "python3"
  },
  "language_info": {
   "codemirror_mode": {
    "name": "ipython",
    "version": 3
   },
   "file_extension": ".py",
   "mimetype": "text/x-python",
   "name": "python",
   "nbconvert_exporter": "python",
   "pygments_lexer": "ipython3",
   "version": "3.6.15"
  },
  "papermill": {
   "default_parameters": {},
   "duration": 164.728013,
   "end_time": "2022-04-27T20:13:36.458034",
   "environment_variables": {},
   "exception": null,
   "input_path": "2020-08-11-part2.ipynb",
   "output_path": "2020-08-11-part2.ipynb",
   "parameters": {},
   "start_time": "2022-04-27T20:10:51.730021",
   "version": "2.3.3"
  }
 },
 "nbformat": 4,
 "nbformat_minor": 5
}