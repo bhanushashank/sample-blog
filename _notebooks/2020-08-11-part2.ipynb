{
 "cells": [
  {
   "cell_type": "markdown",
   "id": "98380cd3",
   "metadata": {
    "papermill": {
     "duration": 0.027896,
     "end_time": "2021-12-29T00:23:38.348560",
     "exception": false,
     "start_time": "2021-12-29T00:23:38.320664",
     "status": "completed"
    },
    "tags": []
   },
   "source": [
    "# Distinguish Your Own Digits (DYOD)"
   ]
  },
  {
   "cell_type": "markdown",
   "id": "ef31240d",
   "metadata": {
    "papermill": {
     "duration": 0.023766,
     "end_time": "2021-12-29T00:23:38.396753",
     "exception": false,
     "start_time": "2021-12-29T00:23:38.372987",
     "status": "completed"
    },
    "tags": []
   },
   "source": [
    "You are going to write a classifier that distinguishes between the number 3 and number 8."
   ]
  },
  {
   "cell_type": "code",
   "execution_count": 1,
   "id": "b15c8646",
   "metadata": {
    "execution": {
     "iopub.execute_input": "2021-12-29T00:23:38.459475Z",
     "iopub.status.busy": "2021-12-29T00:23:38.458921Z",
     "iopub.status.idle": "2021-12-29T00:23:38.469110Z",
     "shell.execute_reply": "2021-12-29T00:23:38.468696Z"
    },
    "papermill": {
     "duration": 0.046071,
     "end_time": "2021-12-29T00:23:38.469233",
     "exception": false,
     "start_time": "2021-12-29T00:23:38.423162",
     "status": "completed"
    },
    "tags": []
   },
   "outputs": [],
   "source": [
    "%load_ext autoreload\n",
    "%autoreload 2"
   ]
  },
  {
   "cell_type": "code",
   "execution_count": 2,
   "id": "22ef38dc",
   "metadata": {
    "execution": {
     "iopub.execute_input": "2021-12-29T00:23:38.531722Z",
     "iopub.status.busy": "2021-12-29T00:23:38.527500Z",
     "iopub.status.idle": "2021-12-29T00:23:39.086677Z",
     "shell.execute_reply": "2021-12-29T00:23:39.086201Z"
    },
    "papermill": {
     "duration": 0.593868,
     "end_time": "2021-12-29T00:23:39.086802",
     "exception": false,
     "start_time": "2021-12-29T00:23:38.492934",
     "status": "completed"
    },
    "tags": []
   },
   "outputs": [],
   "source": [
    "%matplotlib inline\n",
    "import numpy as np\n",
    "import matplotlib.pyplot as plt\n",
    "import pandas as pd"
   ]
  },
  {
   "cell_type": "markdown",
   "id": "ba036198",
   "metadata": {
    "papermill": {
     "duration": 0.023992,
     "end_time": "2021-12-29T00:23:39.134886",
     "exception": false,
     "start_time": "2021-12-29T00:23:39.110894",
     "status": "completed"
    },
    "tags": []
   },
   "source": [
    "From the command line run `pip install mnist`. This is a library that will help you bring down the mnist dataset. If you run this from a notebook, you need to put  `!pip install mnist` in a cell by itself."
   ]
  },
  {
   "cell_type": "code",
   "execution_count": 3,
   "id": "bb6ad8a1",
   "metadata": {
    "execution": {
     "iopub.execute_input": "2021-12-29T00:23:39.186900Z",
     "iopub.status.busy": "2021-12-29T00:23:39.186374Z",
     "iopub.status.idle": "2021-12-29T00:23:40.900167Z",
     "shell.execute_reply": "2021-12-29T00:23:40.899622Z"
    },
    "papermill": {
     "duration": 1.741416,
     "end_time": "2021-12-29T00:23:40.900299",
     "exception": false,
     "start_time": "2021-12-29T00:23:39.158883",
     "status": "completed"
    },
    "tags": []
   },
   "outputs": [
    {
     "name": "stdout",
     "output_type": "stream",
     "text": [
      "Collecting mnist\r\n"
     ]
    },
    {
     "name": "stdout",
     "output_type": "stream",
     "text": [
      "  Downloading mnist-0.2.2-py2.py3-none-any.whl (3.5 kB)\r\n"
     ]
    },
    {
     "name": "stdout",
     "output_type": "stream",
     "text": [
      "Requirement already satisfied: numpy in /opt/hostedtoolcache/Python/3.6.15/x64/lib/python3.6/site-packages (from mnist) (1.19.5)\r\n"
     ]
    },
    {
     "name": "stdout",
     "output_type": "stream",
     "text": [
      "Installing collected packages: mnist\r\n",
      "Successfully installed mnist-0.2.2\r\n"
     ]
    }
   ],
   "source": [
    "!pip install mnist"
   ]
  },
  {
   "cell_type": "markdown",
   "id": "69df9c9a",
   "metadata": {
    "papermill": {
     "duration": 0.024819,
     "end_time": "2021-12-29T00:23:40.950369",
     "exception": false,
     "start_time": "2021-12-29T00:23:40.925550",
     "status": "completed"
    },
    "tags": []
   },
   "source": [
    "## Preparing the Data"
   ]
  },
  {
   "cell_type": "code",
   "execution_count": 4,
   "id": "7f69d806",
   "metadata": {
    "execution": {
     "iopub.execute_input": "2021-12-29T00:23:41.003313Z",
     "iopub.status.busy": "2021-12-29T00:23:41.002764Z",
     "iopub.status.idle": "2021-12-29T00:23:41.016168Z",
     "shell.execute_reply": "2021-12-29T00:23:41.016553Z"
    },
    "papermill": {
     "duration": 0.041689,
     "end_time": "2021-12-29T00:23:41.016678",
     "exception": false,
     "start_time": "2021-12-29T00:23:40.974989",
     "status": "completed"
    },
    "tags": []
   },
   "outputs": [],
   "source": [
    "import mnist"
   ]
  },
  {
   "cell_type": "code",
   "execution_count": 5,
   "id": "a411e44f",
   "metadata": {
    "execution": {
     "iopub.execute_input": "2021-12-29T00:23:41.085823Z",
     "iopub.status.busy": "2021-12-29T00:23:41.083856Z",
     "iopub.status.idle": "2021-12-29T00:23:41.690563Z",
     "shell.execute_reply": "2021-12-29T00:23:41.690024Z"
    },
    "papermill": {
     "duration": 0.649272,
     "end_time": "2021-12-29T00:23:41.690695",
     "exception": false,
     "start_time": "2021-12-29T00:23:41.041423",
     "status": "completed"
    },
    "tags": []
   },
   "outputs": [],
   "source": [
    "train_images = mnist.train_images()\n",
    "train_labels = mnist.train_labels()"
   ]
  },
  {
   "cell_type": "code",
   "execution_count": 6,
   "id": "dceab3a5",
   "metadata": {
    "execution": {
     "iopub.execute_input": "2021-12-29T00:23:41.745484Z",
     "iopub.status.busy": "2021-12-29T00:23:41.744951Z",
     "iopub.status.idle": "2021-12-29T00:23:41.758707Z",
     "shell.execute_reply": "2021-12-29T00:23:41.759142Z"
    },
    "papermill": {
     "duration": 0.043327,
     "end_time": "2021-12-29T00:23:41.759268",
     "exception": false,
     "start_time": "2021-12-29T00:23:41.715941",
     "status": "completed"
    },
    "tags": []
   },
   "outputs": [
    {
     "data": {
      "text/plain": [
       "((60000, 28, 28), (60000,))"
      ]
     },
     "execution_count": 6,
     "metadata": {},
     "output_type": "execute_result"
    }
   ],
   "source": [
    "train_images.shape, train_labels.shape"
   ]
  },
  {
   "cell_type": "code",
   "execution_count": 7,
   "id": "f50dc2bb",
   "metadata": {
    "execution": {
     "iopub.execute_input": "2021-12-29T00:23:41.822826Z",
     "iopub.status.busy": "2021-12-29T00:23:41.822314Z",
     "iopub.status.idle": "2021-12-29T00:23:42.043786Z",
     "shell.execute_reply": "2021-12-29T00:23:42.043222Z"
    },
    "papermill": {
     "duration": 0.259662,
     "end_time": "2021-12-29T00:23:42.043920",
     "exception": false,
     "start_time": "2021-12-29T00:23:41.784258",
     "status": "completed"
    },
    "tags": []
   },
   "outputs": [],
   "source": [
    "test_images = mnist.test_images()\n",
    "test_labels = mnist.test_labels()"
   ]
  },
  {
   "cell_type": "code",
   "execution_count": 8,
   "id": "fc38cf1b",
   "metadata": {
    "execution": {
     "iopub.execute_input": "2021-12-29T00:23:42.113088Z",
     "iopub.status.busy": "2021-12-29T00:23:42.111618Z",
     "iopub.status.idle": "2021-12-29T00:23:42.116207Z",
     "shell.execute_reply": "2021-12-29T00:23:42.115686Z"
    },
    "papermill": {
     "duration": 0.046463,
     "end_time": "2021-12-29T00:23:42.116319",
     "exception": false,
     "start_time": "2021-12-29T00:23:42.069856",
     "status": "completed"
    },
    "tags": []
   },
   "outputs": [
    {
     "data": {
      "text/plain": [
       "((10000, 28, 28), (10000,))"
      ]
     },
     "execution_count": 8,
     "metadata": {},
     "output_type": "execute_result"
    }
   ],
   "source": [
    "test_images.shape, test_labels.shape"
   ]
  },
  {
   "cell_type": "code",
   "execution_count": 9,
   "id": "f9ed8fe0",
   "metadata": {
    "execution": {
     "iopub.execute_input": "2021-12-29T00:23:42.172130Z",
     "iopub.status.busy": "2021-12-29T00:23:42.171633Z",
     "iopub.status.idle": "2021-12-29T00:23:42.304966Z",
     "shell.execute_reply": "2021-12-29T00:23:42.305441Z"
    },
    "papermill": {
     "duration": 0.163961,
     "end_time": "2021-12-29T00:23:42.305592",
     "exception": false,
     "start_time": "2021-12-29T00:23:42.141631",
     "status": "completed"
    },
    "tags": []
   },
   "outputs": [
    {
     "name": "stdout",
     "output_type": "stream",
     "text": [
      "2\n"
     ]
    },
    {
     "data": {
      "text/plain": [
       "<matplotlib.image.AxesImage at 0x7f1e712d65c0>"
      ]
     },
     "execution_count": 9,
     "metadata": {},
     "output_type": "execute_result"
    },
    {
     "data": {
      "image/png": "[encoded data removed]",
      "text/plain": [
       "<Figure size 432x288 with 1 Axes>"
      ]
     },
     "metadata": {
      "needs_background": "light"
     },
     "output_type": "display_data"
    }
   ],
   "source": [
    "image_index = 7776 # You may select anything up to 60,000\n",
    "print(train_labels[image_index]) \n",
    "plt.imshow(train_images[image_index], cmap='Greys')"
   ]
  },
  {
   "cell_type": "markdown",
   "id": "a8d2388d",
   "metadata": {
    "papermill": {
     "duration": 0.026887,
     "end_time": "2021-12-29T00:23:42.359912",
     "exception": false,
     "start_time": "2021-12-29T00:23:42.333025",
     "status": "completed"
    },
    "tags": []
   },
   "source": [
    "## Filter data to get 3 and 8 out"
   ]
  },
  {
   "cell_type": "code",
   "execution_count": 10,
   "id": "776f7fc7",
   "metadata": {
    "execution": {
     "iopub.execute_input": "2021-12-29T00:23:42.420069Z",
     "iopub.status.busy": "2021-12-29T00:23:42.419555Z",
     "iopub.status.idle": "2021-12-29T00:23:42.436486Z",
     "shell.execute_reply": "2021-12-29T00:23:42.436021Z"
    },
    "papermill": {
     "duration": 0.050424,
     "end_time": "2021-12-29T00:23:42.436608",
     "exception": false,
     "start_time": "2021-12-29T00:23:42.386184",
     "status": "completed"
    },
    "tags": []
   },
   "outputs": [],
   "source": [
    "train_filter = np.where((train_labels == 3 ) | (train_labels == 8))\n",
    "test_filter = np.where((test_labels == 3) | (test_labels == 8))\n",
    "X_train, y_train = train_images[train_filter], train_labels[train_filter]\n",
    "X_test, y_test = test_images[test_filter], test_labels[test_filter]"
   ]
  },
  {
   "cell_type": "markdown",
   "id": "948f0b7e",
   "metadata": {
    "papermill": {
     "duration": 0.026333,
     "end_time": "2021-12-29T00:23:42.490215",
     "exception": false,
     "start_time": "2021-12-29T00:23:42.463882",
     "status": "completed"
    },
    "tags": []
   },
   "source": [
    "We normalize the pizel values in the 0 to 1 range"
   ]
  },
  {
   "cell_type": "code",
   "execution_count": 11,
   "id": "ee4c2166",
   "metadata": {
    "execution": {
     "iopub.execute_input": "2021-12-29T00:23:42.545929Z",
     "iopub.status.busy": "2021-12-29T00:23:42.545424Z",
     "iopub.status.idle": "2021-12-29T00:23:42.591646Z",
     "shell.execute_reply": "2021-12-29T00:23:42.591140Z"
    },
    "papermill": {
     "duration": 0.075274,
     "end_time": "2021-12-29T00:23:42.591783",
     "exception": false,
     "start_time": "2021-12-29T00:23:42.516509",
     "status": "completed"
    },
    "tags": []
   },
   "outputs": [],
   "source": [
    "X_train = X_train/255.\n",
    "X_test = X_test/255."
   ]
  },
  {
   "cell_type": "markdown",
   "id": "ddcf4fab",
   "metadata": {
    "papermill": {
     "duration": 0.026405,
     "end_time": "2021-12-29T00:23:42.645458",
     "exception": false,
     "start_time": "2021-12-29T00:23:42.619053",
     "status": "completed"
    },
    "tags": []
   },
   "source": [
    "And setup the labels as 1 (when the digit is 3) and 0 (when the digit is 8)"
   ]
  },
  {
   "cell_type": "code",
   "execution_count": 12,
   "id": "7dc908f2",
   "metadata": {
    "execution": {
     "iopub.execute_input": "2021-12-29T00:23:42.707634Z",
     "iopub.status.busy": "2021-12-29T00:23:42.707101Z",
     "iopub.status.idle": "2021-12-29T00:23:42.715904Z",
     "shell.execute_reply": "2021-12-29T00:23:42.715472Z"
    },
    "papermill": {
     "duration": 0.044282,
     "end_time": "2021-12-29T00:23:42.716011",
     "exception": false,
     "start_time": "2021-12-29T00:23:42.671729",
     "status": "completed"
    },
    "tags": []
   },
   "outputs": [],
   "source": [
    "y_train = 1*(y_train==3)\n",
    "y_test = 1*(y_test==3)"
   ]
  },
  {
   "cell_type": "code",
   "execution_count": 13,
   "id": "01e4e969",
   "metadata": {
    "execution": {
     "iopub.execute_input": "2021-12-29T00:23:42.771760Z",
     "iopub.status.busy": "2021-12-29T00:23:42.771260Z",
     "iopub.status.idle": "2021-12-29T00:23:42.783794Z",
     "shell.execute_reply": "2021-12-29T00:23:42.784265Z"
    },
    "papermill": {
     "duration": 0.042028,
     "end_time": "2021-12-29T00:23:42.784382",
     "exception": false,
     "start_time": "2021-12-29T00:23:42.742354",
     "status": "completed"
    },
    "tags": []
   },
   "outputs": [
    {
     "data": {
      "text/plain": [
       "((11982, 28, 28), (1984, 28, 28))"
      ]
     },
     "execution_count": 13,
     "metadata": {},
     "output_type": "execute_result"
    }
   ],
   "source": [
    "X_train.shape, X_test.shape"
   ]
  },
  {
   "cell_type": "markdown",
   "id": "5ccf3f85",
   "metadata": {
    "papermill": {
     "duration": 0.026552,
     "end_time": "2021-12-29T00:23:42.837592",
     "exception": false,
     "start_time": "2021-12-29T00:23:42.811040",
     "status": "completed"
    },
    "tags": []
   },
   "source": [
    "We reshape the data to flatten the image pixels into a set of features or co-variates:"
   ]
  },
  {
   "cell_type": "code",
   "execution_count": 14,
   "id": "5286a4a3",
   "metadata": {
    "execution": {
     "iopub.execute_input": "2021-12-29T00:23:42.901635Z",
     "iopub.status.busy": "2021-12-29T00:23:42.901126Z",
     "iopub.status.idle": "2021-12-29T00:23:42.909840Z",
     "shell.execute_reply": "2021-12-29T00:23:42.910243Z"
    },
    "papermill": {
     "duration": 0.046005,
     "end_time": "2021-12-29T00:23:42.910370",
     "exception": false,
     "start_time": "2021-12-29T00:23:42.864365",
     "status": "completed"
    },
    "tags": []
   },
   "outputs": [
    {
     "data": {
      "text/plain": [
       "((11982, 784), (1984, 784))"
      ]
     },
     "execution_count": 14,
     "metadata": {},
     "output_type": "execute_result"
    }
   ],
   "source": [
    "X_train = X_train.reshape(X_train.shape[0], -1)\n",
    "X_test = X_test.reshape(X_test.shape[0], -1)\n",
    "X_train.shape, X_test.shape"
   ]
  },
  {
   "cell_type": "code",
   "execution_count": 15,
   "id": "73c5f88a",
   "metadata": {
    "execution": {
     "iopub.execute_input": "2021-12-29T00:23:42.978228Z",
     "iopub.status.busy": "2021-12-29T00:23:42.970290Z",
     "iopub.status.idle": "2021-12-29T00:23:42.989672Z",
     "shell.execute_reply": "2021-12-29T00:23:42.990080Z"
    },
    "papermill": {
     "duration": 0.05296,
     "end_time": "2021-12-29T00:23:42.990198",
     "exception": false,
     "start_time": "2021-12-29T00:23:42.937238",
     "status": "completed"
    },
    "tags": []
   },
   "outputs": [],
   "source": [
    "#Impoting functions from 'Kudzu'\n",
    "from kudzu.model import Model\n",
    "from kudzu.train import Learner\n",
    "from kudzu.optim import GD\n",
    "from kudzu.data import Data, Sampler,Dataloader\n",
    "\n",
    "from kudzu.callbacks import AccCallback\n",
    "from kudzu.callbacks import ClfCallback\n",
    "\n",
    "from kudzu.loss import MSE\n",
    "\n",
    "from kudzu.layer import Sigmoid,Relu\n",
    "from kudzu.layer import Affine"
   ]
  },
  {
   "cell_type": "markdown",
   "id": "bc01172a",
   "metadata": {
    "papermill": {
     "duration": 0.026918,
     "end_time": "2021-12-29T00:23:43.044068",
     "exception": false,
     "start_time": "2021-12-29T00:23:43.017150",
     "status": "completed"
    },
    "tags": []
   },
   "source": [
    "### Let us create a `Config` class, to store important parameters. \n",
    "This class essentially plays the role of a dictionary."
   ]
  },
  {
   "cell_type": "code",
   "execution_count": 16,
   "id": "978281aa",
   "metadata": {
    "execution": {
     "iopub.execute_input": "2021-12-29T00:23:43.105423Z",
     "iopub.status.busy": "2021-12-29T00:23:43.104905Z",
     "iopub.status.idle": "2021-12-29T00:23:43.113498Z",
     "shell.execute_reply": "2021-12-29T00:23:43.113887Z"
    },
    "papermill": {
     "duration": 0.043168,
     "end_time": "2021-12-29T00:23:43.114009",
     "exception": false,
     "start_time": "2021-12-29T00:23:43.070841",
     "status": "completed"
    },
    "tags": []
   },
   "outputs": [],
   "source": [
    "class Config:\n",
    "    pass\n",
    "config = Config()\n",
    "config.lr = 0.001\n",
    "config.num_epochs = 250\n",
    "config.bs = 50"
   ]
  },
  {
   "cell_type": "markdown",
   "id": "1385fa59",
   "metadata": {
    "papermill": {
     "duration": 0.026872,
     "end_time": "2021-12-29T00:23:43.167908",
     "exception": false,
     "start_time": "2021-12-29T00:23:43.141036",
     "status": "completed"
    },
    "tags": []
   },
   "source": [
    "### Running Models with the Training data\n",
    "Details about the network layers:\n",
    "- A first affine layer has 784 inputs and does 100 affine transforms. These are followed by a Relu\n",
    "- A second affine layer has 100 inputs from the 100 activations of the past layer, and does 100 affine transforms. These are followed by a Relu\n",
    "- A third affine layer has 100 activations and does 2 affine transformations to create an embedding for visualization. There is no non-linearity here.\n",
    "- A final \"logistic regression\" which has an affine transform from 2 inputs to 1 output, which is squeezed through a sigmoid.\n"
   ]
  },
  {
   "cell_type": "code",
   "execution_count": 17,
   "id": "2b9c66db",
   "metadata": {
    "execution": {
     "iopub.execute_input": "2021-12-29T00:23:43.240336Z",
     "iopub.status.busy": "2021-12-29T00:23:43.239825Z",
     "iopub.status.idle": "2021-12-29T00:23:43.242584Z",
     "shell.execute_reply": "2021-12-29T00:23:43.242180Z"
    },
    "papermill": {
     "duration": 0.047873,
     "end_time": "2021-12-29T00:23:43.242687",
     "exception": false,
     "start_time": "2021-12-29T00:23:43.194814",
     "status": "completed"
    },
    "tags": []
   },
   "outputs": [],
   "source": [
    "data = Data(X_train, y_train.reshape(-1,1))\n",
    "sampler = Sampler(data, config.bs, shuffle=True)\n",
    "\n",
    "dl = Dataloader(data, sampler)\n",
    "\n",
    "opt = GD(config.lr)\n",
    "loss = MSE()"
   ]
  },
  {
   "cell_type": "code",
   "execution_count": 18,
   "id": "b275e4c2",
   "metadata": {
    "execution": {
     "iopub.execute_input": "2021-12-29T00:23:43.304926Z",
     "iopub.status.busy": "2021-12-29T00:23:43.304428Z",
     "iopub.status.idle": "2021-12-29T00:23:43.312786Z",
     "shell.execute_reply": "2021-12-29T00:23:43.313168Z"
    },
    "papermill": {
     "duration": 0.043566,
     "end_time": "2021-12-29T00:23:43.313285",
     "exception": false,
     "start_time": "2021-12-29T00:23:43.269719",
     "status": "completed"
    },
    "tags": []
   },
   "outputs": [],
   "source": [
    "training_data_x = X_train\n",
    "testing_data_x = X_test\n",
    "training_data_y = y_train.reshape(-1,1)\n",
    "testing_data_y = y_test.reshape(-1,1)"
   ]
  },
  {
   "cell_type": "code",
   "execution_count": 19,
   "id": "76951160",
   "metadata": {
    "execution": {
     "iopub.execute_input": "2021-12-29T00:23:43.380069Z",
     "iopub.status.busy": "2021-12-29T00:23:43.379555Z",
     "iopub.status.idle": "2021-12-29T00:23:43.388099Z",
     "shell.execute_reply": "2021-12-29T00:23:43.388484Z"
    },
    "papermill": {
     "duration": 0.048511,
     "end_time": "2021-12-29T00:23:43.388603",
     "exception": false,
     "start_time": "2021-12-29T00:23:43.340092",
     "status": "completed"
    },
    "tags": []
   },
   "outputs": [
    {
     "name": "stdout",
     "output_type": "stream",
     "text": [
      "xavier\n",
      "xavier\n",
      "xavier\n",
      "xavier\n",
      "xavier\n"
     ]
    }
   ],
   "source": [
    "layers = [Affine(\"first\", 784, 100), Relu(\"first\"), Affine(\"second\", 100, 100), Relu(\"second\"), Affine(\"third\", 100, 2), Affine(\"last\", 2, 1), Sigmoid(\"last\")]\n",
    "model_nn = Model(layers)\n",
    "model_lr = Model([Affine(\"logits\", 784, 1), Sigmoid(\"sigmoid\")])"
   ]
  },
  {
   "cell_type": "code",
   "execution_count": 20,
   "id": "6eede77a",
   "metadata": {
    "execution": {
     "iopub.execute_input": "2021-12-29T00:23:43.448473Z",
     "iopub.status.busy": "2021-12-29T00:23:43.445529Z",
     "iopub.status.idle": "2021-12-29T00:23:43.456541Z",
     "shell.execute_reply": "2021-12-29T00:23:43.456942Z"
    },
    "papermill": {
     "duration": 0.041279,
     "end_time": "2021-12-29T00:23:43.457057",
     "exception": false,
     "start_time": "2021-12-29T00:23:43.415778",
     "status": "completed"
    },
    "tags": []
   },
   "outputs": [],
   "source": [
    "nn_learner = Learner(loss, model_nn, opt, config.num_epochs)\n",
    "acc_nn = ClfCallback(nn_learner, config.bs, training_data_x , testing_data_x, training_data_y, testing_data_y)\n",
    "nn_learner.set_callbacks([acc_nn])"
   ]
  },
  {
   "cell_type": "code",
   "execution_count": 21,
   "id": "877b6cc7",
   "metadata": {
    "execution": {
     "iopub.execute_input": "2021-12-29T00:23:43.515554Z",
     "iopub.status.busy": "2021-12-29T00:23:43.513815Z",
     "iopub.status.idle": "2021-12-29T00:23:43.525684Z",
     "shell.execute_reply": "2021-12-29T00:23:43.524950Z"
    },
    "papermill": {
     "duration": 0.041676,
     "end_time": "2021-12-29T00:23:43.525790",
     "exception": false,
     "start_time": "2021-12-29T00:23:43.484114",
     "status": "completed"
    },
    "tags": []
   },
   "outputs": [],
   "source": [
    "lr_learner = Learner(loss, model_lr, opt, config.num_epochs)\n",
    "acc_lr = ClfCallback(lr_learner, config.bs, training_data_x , testing_data_x, training_data_y, testing_data_y)\n",
    "lr_learner.set_callbacks([acc_lr])"
   ]
  },
  {
   "cell_type": "code",
   "execution_count": 22,
   "id": "d9b133c3",
   "metadata": {
    "execution": {
     "iopub.execute_input": "2021-12-29T00:23:43.583920Z",
     "iopub.status.busy": "2021-12-29T00:23:43.583427Z",
     "iopub.status.idle": "2021-12-29T00:24:57.819384Z",
     "shell.execute_reply": "2021-12-29T00:24:57.820096Z"
    },
    "papermill": {
     "duration": 74.267251,
     "end_time": "2021-12-29T00:24:57.820244",
     "exception": false,
     "start_time": "2021-12-29T00:23:43.552993",
     "status": "completed"
    },
    "tags": []
   },
   "outputs": [
    {
     "name": "stdout",
     "output_type": "stream",
     "text": [
      "Epoch 0, Loss 0.2434\n",
      "Training Accuracy: 0.6764, Testing Accuracy: 0.7011\n",
      "\n"
     ]
    },
    {
     "name": "stdout",
     "output_type": "stream",
     "text": [
      "Epoch 10, Loss 0.1064\n",
      "Training Accuracy: 0.9150, Testing Accuracy: 0.9244\n",
      "\n"
     ]
    },
    {
     "name": "stdout",
     "output_type": "stream",
     "text": [
      "Epoch 20, Loss 0.0617\n",
      "Training Accuracy: 0.9363, Testing Accuracy: 0.9461\n",
      "\n"
     ]
    },
    {
     "name": "stdout",
     "output_type": "stream",
     "text": [
      "Epoch 30, Loss 0.0477\n",
      "Training Accuracy: 0.9469, Testing Accuracy: 0.9577\n",
      "\n"
     ]
    },
    {
     "name": "stdout",
     "output_type": "stream",
     "text": [
      "Epoch 40, Loss 0.0408\n",
      "Training Accuracy: 0.9537, Testing Accuracy: 0.9622\n",
      "\n"
     ]
    },
    {
     "name": "stdout",
     "output_type": "stream",
     "text": [
      "Epoch 50, Loss 0.0366\n",
      "Training Accuracy: 0.9589, Testing Accuracy: 0.9657\n",
      "\n"
     ]
    },
    {
     "name": "stdout",
     "output_type": "stream",
     "text": [
      "Epoch 60, Loss 0.0337\n",
      "Training Accuracy: 0.9614, Testing Accuracy: 0.9677\n",
      "\n"
     ]
    },
    {
     "name": "stdout",
     "output_type": "stream",
     "text": [
      "Epoch 70, Loss 0.0316\n",
      "Training Accuracy: 0.9630, Testing Accuracy: 0.9677\n",
      "\n"
     ]
    },
    {
     "name": "stdout",
     "output_type": "stream",
     "text": [
      "Epoch 80, Loss 0.0299\n",
      "Training Accuracy: 0.9657, Testing Accuracy: 0.9693\n",
      "\n"
     ]
    },
    {
     "name": "stdout",
     "output_type": "stream",
     "text": [
      "Epoch 90, Loss 0.0285\n",
      "Training Accuracy: 0.9679, Testing Accuracy: 0.9703\n",
      "\n"
     ]
    },
    {
     "name": "stdout",
     "output_type": "stream",
     "text": [
      "Epoch 100, Loss 0.0273\n",
      "Training Accuracy: 0.9685, Testing Accuracy: 0.9708\n",
      "\n"
     ]
    },
    {
     "name": "stdout",
     "output_type": "stream",
     "text": [
      "Epoch 110, Loss 0.0262\n",
      "Training Accuracy: 0.9700, Testing Accuracy: 0.9703\n",
      "\n"
     ]
    },
    {
     "name": "stdout",
     "output_type": "stream",
     "text": [
      "Epoch 120, Loss 0.0253\n",
      "Training Accuracy: 0.9711, Testing Accuracy: 0.9703\n",
      "\n"
     ]
    },
    {
     "name": "stdout",
     "output_type": "stream",
     "text": [
      "Epoch 130, Loss 0.0245\n",
      "Training Accuracy: 0.9725, Testing Accuracy: 0.9708\n",
      "\n"
     ]
    },
    {
     "name": "stdout",
     "output_type": "stream",
     "text": [
      "Epoch 140, Loss 0.0237\n",
      "Training Accuracy: 0.9731, Testing Accuracy: 0.9703\n",
      "\n"
     ]
    },
    {
     "name": "stdout",
     "output_type": "stream",
     "text": [
      "Epoch 150, Loss 0.023\n",
      "Training Accuracy: 0.9740, Testing Accuracy: 0.9708\n",
      "\n"
     ]
    },
    {
     "name": "stdout",
     "output_type": "stream",
     "text": [
      "Epoch 160, Loss 0.0224\n",
      "Training Accuracy: 0.9745, Testing Accuracy: 0.9708\n",
      "\n"
     ]
    },
    {
     "name": "stdout",
     "output_type": "stream",
     "text": [
      "Epoch 170, Loss 0.0218\n",
      "Training Accuracy: 0.9751, Testing Accuracy: 0.9708\n",
      "\n"
     ]
    },
    {
     "name": "stdout",
     "output_type": "stream",
     "text": [
      "Epoch 180, Loss 0.0213\n",
      "Training Accuracy: 0.9760, Testing Accuracy: 0.9708\n",
      "\n"
     ]
    },
    {
     "name": "stdout",
     "output_type": "stream",
     "text": [
      "Epoch 190, Loss 0.0208\n",
      "Training Accuracy: 0.9768, Testing Accuracy: 0.9713\n",
      "\n"
     ]
    },
    {
     "name": "stdout",
     "output_type": "stream",
     "text": [
      "Epoch 200, Loss 0.0203\n",
      "Training Accuracy: 0.9772, Testing Accuracy: 0.9718\n",
      "\n"
     ]
    },
    {
     "name": "stdout",
     "output_type": "stream",
     "text": [
      "Epoch 210, Loss 0.0198\n",
      "Training Accuracy: 0.9775, Testing Accuracy: 0.9718\n",
      "\n"
     ]
    },
    {
     "name": "stdout",
     "output_type": "stream",
     "text": [
      "Epoch 220, Loss 0.0194\n",
      "Training Accuracy: 0.9781, Testing Accuracy: 0.9723\n",
      "\n"
     ]
    },
    {
     "name": "stdout",
     "output_type": "stream",
     "text": [
      "Epoch 230, Loss 0.019\n",
      "Training Accuracy: 0.9786, Testing Accuracy: 0.9728\n",
      "\n"
     ]
    },
    {
     "name": "stdout",
     "output_type": "stream",
     "text": [
      "Epoch 240, Loss 0.0186\n",
      "Training Accuracy: 0.9792, Testing Accuracy: 0.9733\n",
      "\n"
     ]
    },
    {
     "data": {
      "text/plain": [
       "0.007466740091911916"
      ]
     },
     "execution_count": 22,
     "metadata": {},
     "output_type": "execute_result"
    }
   ],
   "source": [
    "nn_learner.train_loop(dl)"
   ]
  },
  {
   "cell_type": "code",
   "execution_count": 23,
   "id": "e0163366",
   "metadata": {
    "execution": {
     "iopub.execute_input": "2021-12-29T00:24:57.900101Z",
     "iopub.status.busy": "2021-12-29T00:24:57.899602Z",
     "iopub.status.idle": "2021-12-29T00:25:10.749667Z",
     "shell.execute_reply": "2021-12-29T00:25:10.750390Z"
    },
    "papermill": {
     "duration": 12.895279,
     "end_time": "2021-12-29T00:25:10.750539",
     "exception": false,
     "start_time": "2021-12-29T00:24:57.855260",
     "status": "completed"
    },
    "tags": []
   },
   "outputs": [
    {
     "name": "stdout",
     "output_type": "stream",
     "text": [
      "Epoch 0, Loss 0.2149\n",
      "Training Accuracy: 0.7783, Testing Accuracy: 0.7918\n",
      "\n"
     ]
    },
    {
     "name": "stdout",
     "output_type": "stream",
     "text": [
      "Epoch 10, Loss 0.0995\n",
      "Training Accuracy: 0.9136, Testing Accuracy: 0.9284\n",
      "\n"
     ]
    },
    {
     "name": "stdout",
     "output_type": "stream",
     "text": [
      "Epoch 20, Loss 0.0775\n",
      "Training Accuracy: 0.9305, Testing Accuracy: 0.9415\n",
      "\n"
     ]
    },
    {
     "name": "stdout",
     "output_type": "stream",
     "text": [
      "Epoch 30, Loss 0.067\n",
      "Training Accuracy: 0.9375, Testing Accuracy: 0.9501\n",
      "\n"
     ]
    },
    {
     "name": "stdout",
     "output_type": "stream",
     "text": [
      "Epoch 40, Loss 0.0606\n",
      "Training Accuracy: 0.9417, Testing Accuracy: 0.9536\n",
      "\n"
     ]
    },
    {
     "name": "stdout",
     "output_type": "stream",
     "text": [
      "Epoch 50, Loss 0.0562\n",
      "Training Accuracy: 0.9460, Testing Accuracy: 0.9567\n",
      "\n"
     ]
    },
    {
     "name": "stdout",
     "output_type": "stream",
     "text": [
      "Epoch 60, Loss 0.053\n",
      "Training Accuracy: 0.9496, Testing Accuracy: 0.9577\n",
      "\n"
     ]
    },
    {
     "name": "stdout",
     "output_type": "stream",
     "text": [
      "Epoch 70, Loss 0.0505\n",
      "Training Accuracy: 0.9511, Testing Accuracy: 0.9577\n",
      "\n"
     ]
    },
    {
     "name": "stdout",
     "output_type": "stream",
     "text": [
      "Epoch 80, Loss 0.0486\n",
      "Training Accuracy: 0.9521, Testing Accuracy: 0.9602\n",
      "\n"
     ]
    },
    {
     "name": "stdout",
     "output_type": "stream",
     "text": [
      "Epoch 90, Loss 0.0469\n",
      "Training Accuracy: 0.9533, Testing Accuracy: 0.9617\n",
      "\n"
     ]
    },
    {
     "name": "stdout",
     "output_type": "stream",
     "text": [
      "Epoch 100, Loss 0.0455\n",
      "Training Accuracy: 0.9543, Testing Accuracy: 0.9622\n",
      "\n"
     ]
    },
    {
     "name": "stdout",
     "output_type": "stream",
     "text": [
      "Epoch 110, Loss 0.0444\n",
      "Training Accuracy: 0.9553, Testing Accuracy: 0.9622\n",
      "\n"
     ]
    },
    {
     "name": "stdout",
     "output_type": "stream",
     "text": [
      "Epoch 120, Loss 0.0433\n",
      "Training Accuracy: 0.9565, Testing Accuracy: 0.9642\n",
      "\n"
     ]
    },
    {
     "name": "stdout",
     "output_type": "stream",
     "text": [
      "Epoch 130, Loss 0.0424\n",
      "Training Accuracy: 0.9571, Testing Accuracy: 0.9652\n",
      "\n"
     ]
    },
    {
     "name": "stdout",
     "output_type": "stream",
     "text": [
      "Epoch 140, Loss 0.0416\n",
      "Training Accuracy: 0.9574, Testing Accuracy: 0.9657\n",
      "\n"
     ]
    },
    {
     "name": "stdout",
     "output_type": "stream",
     "text": [
      "Epoch 150, Loss 0.0409\n",
      "Training Accuracy: 0.9579, Testing Accuracy: 0.9657\n",
      "\n"
     ]
    },
    {
     "name": "stdout",
     "output_type": "stream",
     "text": [
      "Epoch 160, Loss 0.0403\n",
      "Training Accuracy: 0.9589, Testing Accuracy: 0.9657\n",
      "\n"
     ]
    },
    {
     "name": "stdout",
     "output_type": "stream",
     "text": [
      "Epoch 170, Loss 0.0397\n",
      "Training Accuracy: 0.9590, Testing Accuracy: 0.9662\n",
      "\n"
     ]
    },
    {
     "name": "stdout",
     "output_type": "stream",
     "text": [
      "Epoch 180, Loss 0.0391\n",
      "Training Accuracy: 0.9595, Testing Accuracy: 0.9662\n",
      "\n"
     ]
    },
    {
     "name": "stdout",
     "output_type": "stream",
     "text": [
      "Epoch 190, Loss 0.0386\n",
      "Training Accuracy: 0.9599, Testing Accuracy: 0.9662\n",
      "\n"
     ]
    },
    {
     "name": "stdout",
     "output_type": "stream",
     "text": [
      "Epoch 200, Loss 0.0382\n",
      "Training Accuracy: 0.9598, Testing Accuracy: 0.9662\n",
      "\n"
     ]
    },
    {
     "name": "stdout",
     "output_type": "stream",
     "text": [
      "Epoch 210, Loss 0.0377\n",
      "Training Accuracy: 0.9600, Testing Accuracy: 0.9662\n",
      "\n"
     ]
    },
    {
     "name": "stdout",
     "output_type": "stream",
     "text": [
      "Epoch 220, Loss 0.0373\n",
      "Training Accuracy: 0.9607, Testing Accuracy: 0.9662\n",
      "\n"
     ]
    },
    {
     "name": "stdout",
     "output_type": "stream",
     "text": [
      "Epoch 230, Loss 0.037\n",
      "Training Accuracy: 0.9609, Testing Accuracy: 0.9662\n",
      "\n"
     ]
    },
    {
     "name": "stdout",
     "output_type": "stream",
     "text": [
      "Epoch 240, Loss 0.0366\n",
      "Training Accuracy: 0.9610, Testing Accuracy: 0.9662\n",
      "\n"
     ]
    },
    {
     "data": {
      "text/plain": [
       "0.048779280183104255"
      ]
     },
     "execution_count": 23,
     "metadata": {},
     "output_type": "execute_result"
    }
   ],
   "source": [
    "lr_learner.train_loop(dl)"
   ]
  },
  {
   "cell_type": "code",
   "execution_count": 24,
   "id": "ca410940",
   "metadata": {
    "execution": {
     "iopub.execute_input": "2021-12-29T00:25:10.843832Z",
     "iopub.status.busy": "2021-12-29T00:25:10.841056Z",
     "iopub.status.idle": "2021-12-29T00:25:11.061992Z",
     "shell.execute_reply": "2021-12-29T00:25:11.061542Z"
    },
    "papermill": {
     "duration": 0.269766,
     "end_time": "2021-12-29T00:25:11.062108",
     "exception": false,
     "start_time": "2021-12-29T00:25:10.792342",
     "status": "completed"
    },
    "tags": []
   },
   "outputs": [
    {
     "data": {
      "text/plain": [
       "<matplotlib.legend.Legend at 0x7f1e70eb1cc0>"
      ]
     },
     "execution_count": 24,
     "metadata": {},
     "output_type": "execute_result"
    },
    {
     "data": {
      "image/png": "[encoded data removed]",
      "text/plain": [
       "<Figure size 1080x720 with 1 Axes>"
      ]
     },
     "metadata": {
      "needs_background": "light"
     },
     "output_type": "display_data"
    }
   ],
   "source": [
    "#comparing the results of NN and LR\n",
    "plt.figure(figsize=(15,10))\n",
    "\n",
    "# Neural Network plots\n",
    "plt.plot(acc_nn.accuracies, 'r-', label = \"Training Accuracies - NN\")\n",
    "plt.plot(acc_nn.test_accuracies, 'g-', label = \"Testing Accuracies - NN\")\n",
    "\n",
    "# Logistic Regression plots\n",
    "plt.plot(acc_lr.accuracies, 'k-', label = \"Training Accuracies - LR\")\n",
    "plt.plot(acc_lr.test_accuracies, 'b-', label = \"Testing Accuracies - LR\")\n",
    "plt.legend()"
   ]
  },
  {
   "cell_type": "markdown",
   "id": "80dfb35c",
   "metadata": {
    "papermill": {
     "duration": 0.04198,
     "end_time": "2021-12-29T00:25:11.146410",
     "exception": false,
     "start_time": "2021-12-29T00:25:11.104430",
     "status": "completed"
    },
    "tags": []
   },
   "source": [
    "#### Plotting the outputs of this layer of the NN.\n"
   ]
  },
  {
   "cell_type": "code",
   "execution_count": 25,
   "id": "45eb2ff5",
   "metadata": {
    "execution": {
     "iopub.execute_input": "2021-12-29T00:25:11.244792Z",
     "iopub.status.busy": "2021-12-29T00:25:11.243964Z",
     "iopub.status.idle": "2021-12-29T00:25:11.257622Z",
     "shell.execute_reply": "2021-12-29T00:25:11.258037Z"
    },
    "papermill": {
     "duration": 0.069694,
     "end_time": "2021-12-29T00:25:11.258171",
     "exception": false,
     "start_time": "2021-12-29T00:25:11.188477",
     "status": "completed"
    },
    "tags": []
   },
   "outputs": [],
   "source": [
    "new_model = Model(layers[:-2])\n",
    "testing_plot = new_model(testing_data_x)"
   ]
  },
  {
   "cell_type": "code",
   "execution_count": 26,
   "id": "4c0a5485",
   "metadata": {
    "execution": {
     "iopub.execute_input": "2021-12-29T00:25:11.348368Z",
     "iopub.status.busy": "2021-12-29T00:25:11.347833Z",
     "iopub.status.idle": "2021-12-29T00:25:11.537746Z",
     "shell.execute_reply": "2021-12-29T00:25:11.537292Z"
    },
    "papermill": {
     "duration": 0.236993,
     "end_time": "2021-12-29T00:25:11.537864",
     "exception": false,
     "start_time": "2021-12-29T00:25:11.300871",
     "status": "completed"
    },
    "tags": []
   },
   "outputs": [
    {
     "data": {
      "text/plain": [
       "Text(0.5, 1.0, 'Outputs')"
      ]
     },
     "execution_count": 26,
     "metadata": {},
     "output_type": "execute_result"
    },
    {
     "data": {
      "image/png": "[encoded data removed]",
      "text/plain": [
       "<Figure size 576x504 with 1 Axes>"
      ]
     },
     "metadata": {
      "needs_background": "light"
     },
     "output_type": "display_data"
    }
   ],
   "source": [
    "# Plotting the scatter plot of points and color coding by class\n",
    "plt.figure(figsize=(8,7))\n",
    "plt.scatter(testing_plot[:,0], testing_plot[:,1], alpha = 0.1, c = y_test.ravel());\n",
    "plt.title('Outputs')"
   ]
  },
  {
   "cell_type": "markdown",
   "id": "a74fcf8f",
   "metadata": {
    "papermill": {
     "duration": 0.043813,
     "end_time": "2021-12-29T00:25:11.626203",
     "exception": false,
     "start_time": "2021-12-29T00:25:11.582390",
     "status": "completed"
    },
    "tags": []
   },
   "source": [
    "Probability contours"
   ]
  },
  {
   "cell_type": "code",
   "execution_count": 27,
   "id": "d0afc8e3",
   "metadata": {
    "execution": {
     "iopub.execute_input": "2021-12-29T00:25:11.718216Z",
     "iopub.status.busy": "2021-12-29T00:25:11.717693Z",
     "iopub.status.idle": "2021-12-29T00:25:11.729983Z",
     "shell.execute_reply": "2021-12-29T00:25:11.729571Z"
    },
    "papermill": {
     "duration": 0.059866,
     "end_time": "2021-12-29T00:25:11.730091",
     "exception": false,
     "start_time": "2021-12-29T00:25:11.670225",
     "status": "completed"
    },
    "tags": []
   },
   "outputs": [],
   "source": [
    "model_prob = Model(layers[-2:]) "
   ]
  },
  {
   "cell_type": "code",
   "execution_count": 28,
   "id": "9b96e238",
   "metadata": {
    "execution": {
     "iopub.execute_input": "2021-12-29T00:25:11.855685Z",
     "iopub.status.busy": "2021-12-29T00:25:11.851830Z",
     "iopub.status.idle": "2021-12-29T00:25:11.864905Z",
     "shell.execute_reply": "2021-12-29T00:25:11.865315Z"
    },
    "papermill": {
     "duration": 0.091333,
     "end_time": "2021-12-29T00:25:11.865432",
     "exception": false,
     "start_time": "2021-12-29T00:25:11.774099",
     "status": "completed"
    },
    "tags": []
   },
   "outputs": [],
   "source": [
    "#creating the x and y ranges according to the above generated plot.\n",
    "x_range = np.linspace(-4, 1, 100) \n",
    "y_range = np.linspace(-6, 6, 100) \n",
    "x_grid, y_grid = np.meshgrid(x_range, y_range) # x_grid and y_grig are of size 100 X 100\n",
    "\n",
    "# converting x_grid and y_grid to continuous arrays\n",
    "x_gridflat = np.ravel(x_grid)\n",
    "y_gridflat = np.ravel(y_grid)\n",
    "\n",
    "# The last layer of the current model takes two columns as input. Hence transpose of np.vstack() is required.\n",
    "X = np.vstack((x_gridflat, y_gridflat)).T\n",
    "\n",
    "prob_contour = model_prob(X).reshape(100,100) "
   ]
  },
  {
   "cell_type": "code",
   "execution_count": 29,
   "id": "da72499a",
   "metadata": {
    "execution": {
     "iopub.execute_input": "2021-12-29T00:25:11.984342Z",
     "iopub.status.busy": "2021-12-29T00:25:11.983640Z",
     "iopub.status.idle": "2021-12-29T00:25:12.200804Z",
     "shell.execute_reply": "2021-12-29T00:25:12.201212Z"
    },
    "papermill": {
     "duration": 0.291355,
     "end_time": "2021-12-29T00:25:12.201348",
     "exception": false,
     "start_time": "2021-12-29T00:25:11.909993",
     "status": "completed"
    },
    "tags": []
   },
   "outputs": [
    {
     "data": {
      "image/png": "[encoded data removed]",
      "text/plain": [
       "<Figure size 720x648 with 1 Axes>"
      ]
     },
     "metadata": {
      "needs_background": "light"
     },
     "output_type": "display_data"
    }
   ],
   "source": [
    "plt.figure(figsize=(10,9))\n",
    "plt.scatter(testing_plot[:,0], testing_plot[:,1], alpha = 0.1, c = y_test.ravel())\n",
    "contours = plt.contour(x_grid,y_grid,prob_contour)\n",
    "plt.title('Probability Contours')\n",
    "plt.clabel(contours, inline = True );"
   ]
  },
  {
   "cell_type": "code",
   "execution_count": null,
   "id": "e81b4ac7",
   "metadata": {
    "papermill": {
     "duration": 0.046753,
     "end_time": "2021-12-29T00:25:12.295351",
     "exception": false,
     "start_time": "2021-12-29T00:25:12.248598",
     "status": "completed"
    },
    "tags": []
   },
   "outputs": [],
   "source": []
  }
 ],
 "metadata": {
  "kernelspec": {
   "display_name": "Python 3",
   "language": "python",
   "name": "python3"
  },
  "language_info": {
   "codemirror_mode": {
    "name": "ipython",
    "version": 3
   },
   "file_extension": ".py",
   "mimetype": "text/x-python",
   "name": "python",
   "nbconvert_exporter": "python",
   "pygments_lexer": "ipython3",
   "version": "3.6.15"
  },
  "papermill": {
   "default_parameters": {},
   "duration": 95.240996,
   "end_time": "2021-12-29T00:25:12.649432",
   "environment_variables": {},
   "exception": null,
   "input_path": "2020-08-11-part2.ipynb",
   "output_path": "2020-08-11-part2.ipynb",
   "parameters": {},
   "start_time": "2021-12-29T00:23:37.408436",
   "version": "2.3.3"
  }
 },
 "nbformat": 4,
 "nbformat_minor": 5
}