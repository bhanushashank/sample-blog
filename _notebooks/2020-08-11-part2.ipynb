{
 "cells": [
  {
   "cell_type": "markdown",
   "id": "98380cd3",
   "metadata": {
    "papermill": {
     "duration": 0.030125,
     "end_time": "2022-08-20T00:39:04.638451",
     "exception": false,
     "start_time": "2022-08-20T00:39:04.608326",
     "status": "completed"
    },
    "tags": []
   },
   "source": [
    "# Distinguish Your Own Digits (DYOD)"
   ]
  },
  {
   "cell_type": "markdown",
   "id": "ef31240d",
   "metadata": {
    "papermill": {
     "duration": 0.02367,
     "end_time": "2022-08-20T00:39:04.686573",
     "exception": false,
     "start_time": "2022-08-20T00:39:04.662903",
     "status": "completed"
    },
    "tags": []
   },
   "source": [
    "You are going to write a classifier that distinguishes between the number 3 and number 8."
   ]
  },
  {
   "cell_type": "code",
   "execution_count": 1,
   "id": "b15c8646",
   "metadata": {
    "execution": {
     "iopub.execute_input": "2022-08-20T00:39:04.745175Z",
     "iopub.status.busy": "2022-08-20T00:39:04.744569Z",
     "iopub.status.idle": "2022-08-20T00:39:04.755440Z",
     "shell.execute_reply": "2022-08-20T00:39:04.755898Z"
    },
    "papermill": {
     "duration": 0.045737,
     "end_time": "2022-08-20T00:39:04.756049",
     "exception": false,
     "start_time": "2022-08-20T00:39:04.710312",
     "status": "completed"
    },
    "tags": []
   },
   "outputs": [],
   "source": [
    "%load_ext autoreload\n",
    "%autoreload 2"
   ]
  },
  {
   "cell_type": "code",
   "execution_count": 2,
   "id": "22ef38dc",
   "metadata": {
    "execution": {
     "iopub.execute_input": "2022-08-20T00:39:04.809052Z",
     "iopub.status.busy": "2022-08-20T00:39:04.808477Z",
     "iopub.status.idle": "2022-08-20T00:39:05.355773Z",
     "shell.execute_reply": "2022-08-20T00:39:05.354902Z"
    },
    "papermill": {
     "duration": 0.57581,
     "end_time": "2022-08-20T00:39:05.355911",
     "exception": false,
     "start_time": "2022-08-20T00:39:04.780101",
     "status": "completed"
    },
    "tags": []
   },
   "outputs": [],
   "source": [
    "%matplotlib inline\n",
    "import numpy as np\n",
    "import matplotlib.pyplot as plt\n",
    "import pandas as pd"
   ]
  },
  {
   "cell_type": "markdown",
   "id": "ba036198",
   "metadata": {
    "papermill": {
     "duration": 0.023854,
     "end_time": "2022-08-20T00:39:05.403616",
     "exception": false,
     "start_time": "2022-08-20T00:39:05.379762",
     "status": "completed"
    },
    "tags": []
   },
   "source": [
    "From the command line run `pip install mnist`. This is a library that will help you bring down the mnist dataset. If you run this from a notebook, you need to put  `!pip install mnist` in a cell by itself."
   ]
  },
  {
   "cell_type": "code",
   "execution_count": 3,
   "id": "bb6ad8a1",
   "metadata": {
    "execution": {
     "iopub.execute_input": "2022-08-20T00:39:05.460218Z",
     "iopub.status.busy": "2022-08-20T00:39:05.455299Z",
     "iopub.status.idle": "2022-08-20T00:39:07.018556Z",
     "shell.execute_reply": "2022-08-20T00:39:07.017917Z"
    },
    "papermill": {
     "duration": 1.591222,
     "end_time": "2022-08-20T00:39:07.018723",
     "exception": false,
     "start_time": "2022-08-20T00:39:05.427501",
     "status": "completed"
    },
    "tags": []
   },
   "outputs": [
    {
     "name": "stdout",
     "output_type": "stream",
     "text": [
      "Collecting mnist\r\n"
     ]
    },
    {
     "name": "stdout",
     "output_type": "stream",
     "text": [
      "  Downloading mnist-0.2.2-py2.py3-none-any.whl (3.5 kB)\r\n",
      "Requirement already satisfied: numpy in /opt/hostedtoolcache/Python/3.6.15/x64/lib/python3.6/site-packages (from mnist) (1.19.5)\r\n"
     ]
    },
    {
     "name": "stdout",
     "output_type": "stream",
     "text": [
      "Installing collected packages: mnist\r\n"
     ]
    },
    {
     "name": "stdout",
     "output_type": "stream",
     "text": [
      "Successfully installed mnist-0.2.2\r\n"
     ]
    }
   ],
   "source": [
    "!pip install mnist"
   ]
  },
  {
   "cell_type": "markdown",
   "id": "69df9c9a",
   "metadata": {
    "papermill": {
     "duration": 0.025358,
     "end_time": "2022-08-20T00:39:07.069539",
     "exception": false,
     "start_time": "2022-08-20T00:39:07.044181",
     "status": "completed"
    },
    "tags": []
   },
   "source": [
    "## Preparing the Data"
   ]
  },
  {
   "cell_type": "code",
   "execution_count": 4,
   "id": "7f69d806",
   "metadata": {
    "execution": {
     "iopub.execute_input": "2022-08-20T00:39:07.125685Z",
     "iopub.status.busy": "2022-08-20T00:39:07.125097Z",
     "iopub.status.idle": "2022-08-20T00:39:07.141642Z",
     "shell.execute_reply": "2022-08-20T00:39:07.141163Z"
    },
    "papermill": {
     "duration": 0.047394,
     "end_time": "2022-08-20T00:39:07.141758",
     "exception": false,
     "start_time": "2022-08-20T00:39:07.094364",
     "status": "completed"
    },
    "tags": []
   },
   "outputs": [],
   "source": [
    "import mnist"
   ]
  },
  {
   "cell_type": "code",
   "execution_count": 5,
   "id": "a411e44f",
   "metadata": {
    "execution": {
     "iopub.execute_input": "2022-08-20T00:39:07.195570Z",
     "iopub.status.busy": "2022-08-20T00:39:07.194982Z",
     "iopub.status.idle": "2022-08-20T00:39:07.782163Z",
     "shell.execute_reply": "2022-08-20T00:39:07.781550Z"
    },
    "papermill": {
     "duration": 0.615749,
     "end_time": "2022-08-20T00:39:07.782304",
     "exception": false,
     "start_time": "2022-08-20T00:39:07.166555",
     "status": "completed"
    },
    "tags": []
   },
   "outputs": [],
   "source": [
    "train_images = mnist.train_images()\n",
    "train_labels = mnist.train_labels()"
   ]
  },
  {
   "cell_type": "code",
   "execution_count": 6,
   "id": "dceab3a5",
   "metadata": {
    "execution": {
     "iopub.execute_input": "2022-08-20T00:39:07.836831Z",
     "iopub.status.busy": "2022-08-20T00:39:07.836246Z",
     "iopub.status.idle": "2022-08-20T00:39:07.850478Z",
     "shell.execute_reply": "2022-08-20T00:39:07.851044Z"
    },
    "papermill": {
     "duration": 0.043739,
     "end_time": "2022-08-20T00:39:07.851175",
     "exception": false,
     "start_time": "2022-08-20T00:39:07.807436",
     "status": "completed"
    },
    "tags": []
   },
   "outputs": [
    {
     "data": {
      "text/plain": [
       "((60000, 28, 28), (60000,))"
      ]
     },
     "execution_count": 6,
     "metadata": {},
     "output_type": "execute_result"
    }
   ],
   "source": [
    "train_images.shape, train_labels.shape"
   ]
  },
  {
   "cell_type": "code",
   "execution_count": 7,
   "id": "f50dc2bb",
   "metadata": {
    "execution": {
     "iopub.execute_input": "2022-08-20T00:39:07.904902Z",
     "iopub.status.busy": "2022-08-20T00:39:07.904334Z",
     "iopub.status.idle": "2022-08-20T00:39:08.058288Z",
     "shell.execute_reply": "2022-08-20T00:39:08.057028Z"
    },
    "papermill": {
     "duration": 0.182441,
     "end_time": "2022-08-20T00:39:08.058447",
     "exception": false,
     "start_time": "2022-08-20T00:39:07.876006",
     "status": "completed"
    },
    "tags": []
   },
   "outputs": [],
   "source": [
    "test_images = mnist.test_images()\n",
    "test_labels = mnist.test_labels()"
   ]
  },
  {
   "cell_type": "code",
   "execution_count": 8,
   "id": "fc38cf1b",
   "metadata": {
    "execution": {
     "iopub.execute_input": "2022-08-20T00:39:08.125418Z",
     "iopub.status.busy": "2022-08-20T00:39:08.116565Z",
     "iopub.status.idle": "2022-08-20T00:39:08.128971Z",
     "shell.execute_reply": "2022-08-20T00:39:08.128517Z"
    },
    "papermill": {
     "duration": 0.04528,
     "end_time": "2022-08-20T00:39:08.129090",
     "exception": false,
     "start_time": "2022-08-20T00:39:08.083810",
     "status": "completed"
    },
    "tags": []
   },
   "outputs": [
    {
     "data": {
      "text/plain": [
       "((10000, 28, 28), (10000,))"
      ]
     },
     "execution_count": 8,
     "metadata": {},
     "output_type": "execute_result"
    }
   ],
   "source": [
    "test_images.shape, test_labels.shape"
   ]
  },
  {
   "cell_type": "code",
   "execution_count": 9,
   "id": "f9ed8fe0",
   "metadata": {
    "execution": {
     "iopub.execute_input": "2022-08-20T00:39:08.183813Z",
     "iopub.status.busy": "2022-08-20T00:39:08.183239Z",
     "iopub.status.idle": "2022-08-20T00:39:08.326391Z",
     "shell.execute_reply": "2022-08-20T00:39:08.325679Z"
    },
    "papermill": {
     "duration": 0.17206,
     "end_time": "2022-08-20T00:39:08.326525",
     "exception": false,
     "start_time": "2022-08-20T00:39:08.154465",
     "status": "completed"
    },
    "tags": []
   },
   "outputs": [
    {
     "name": "stdout",
     "output_type": "stream",
     "text": [
      "2\n"
     ]
    },
    {
     "data": {
      "text/plain": [
       "<matplotlib.image.AxesImage at 0x7f7fb5e36f60>"
      ]
     },
     "execution_count": 9,
     "metadata": {},
     "output_type": "execute_result"
    },
    {
     "data": {
      "image/png": "[encoded data removed]",
      "text/plain": [
       "<Figure size 432x288 with 1 Axes>"
      ]
     },
     "metadata": {
      "needs_background": "light"
     },
     "output_type": "display_data"
    }
   ],
   "source": [
    "image_index = 7776 # You may select anything up to 60,000\n",
    "print(train_labels[image_index]) \n",
    "plt.imshow(train_images[image_index], cmap='Greys')"
   ]
  },
  {
   "cell_type": "markdown",
   "id": "a8d2388d",
   "metadata": {
    "papermill": {
     "duration": 0.026808,
     "end_time": "2022-08-20T00:39:08.379893",
     "exception": false,
     "start_time": "2022-08-20T00:39:08.353085",
     "status": "completed"
    },
    "tags": []
   },
   "source": [
    "## Filter data to get 3 and 8 out"
   ]
  },
  {
   "cell_type": "code",
   "execution_count": 10,
   "id": "776f7fc7",
   "metadata": {
    "execution": {
     "iopub.execute_input": "2022-08-20T00:39:08.439328Z",
     "iopub.status.busy": "2022-08-20T00:39:08.438707Z",
     "iopub.status.idle": "2022-08-20T00:39:08.456561Z",
     "shell.execute_reply": "2022-08-20T00:39:08.456075Z"
    },
    "papermill": {
     "duration": 0.050503,
     "end_time": "2022-08-20T00:39:08.456677",
     "exception": false,
     "start_time": "2022-08-20T00:39:08.406174",
     "status": "completed"
    },
    "tags": []
   },
   "outputs": [],
   "source": [
    "train_filter = np.where((train_labels == 3 ) | (train_labels == 8))\n",
    "test_filter = np.where((test_labels == 3) | (test_labels == 8))\n",
    "X_train, y_train = train_images[train_filter], train_labels[train_filter]\n",
    "X_test, y_test = test_images[test_filter], test_labels[test_filter]"
   ]
  },
  {
   "cell_type": "markdown",
   "id": "948f0b7e",
   "metadata": {
    "papermill": {
     "duration": 0.026682,
     "end_time": "2022-08-20T00:39:08.509868",
     "exception": false,
     "start_time": "2022-08-20T00:39:08.483186",
     "status": "completed"
    },
    "tags": []
   },
   "source": [
    "We normalize the pizel values in the 0 to 1 range"
   ]
  },
  {
   "cell_type": "code",
   "execution_count": 11,
   "id": "ee4c2166",
   "metadata": {
    "execution": {
     "iopub.execute_input": "2022-08-20T00:39:08.566380Z",
     "iopub.status.busy": "2022-08-20T00:39:08.565793Z",
     "iopub.status.idle": "2022-08-20T00:39:08.615085Z",
     "shell.execute_reply": "2022-08-20T00:39:08.614462Z"
    },
    "papermill": {
     "duration": 0.07916,
     "end_time": "2022-08-20T00:39:08.615228",
     "exception": false,
     "start_time": "2022-08-20T00:39:08.536068",
     "status": "completed"
    },
    "tags": []
   },
   "outputs": [],
   "source": [
    "X_train = X_train/255.\n",
    "X_test = X_test/255."
   ]
  },
  {
   "cell_type": "markdown",
   "id": "ddcf4fab",
   "metadata": {
    "papermill": {
     "duration": 0.02639,
     "end_time": "2022-08-20T00:39:08.668526",
     "exception": false,
     "start_time": "2022-08-20T00:39:08.642136",
     "status": "completed"
    },
    "tags": []
   },
   "source": [
    "And setup the labels as 1 (when the digit is 3) and 0 (when the digit is 8)"
   ]
  },
  {
   "cell_type": "code",
   "execution_count": 12,
   "id": "7dc908f2",
   "metadata": {
    "execution": {
     "iopub.execute_input": "2022-08-20T00:39:08.725237Z",
     "iopub.status.busy": "2022-08-20T00:39:08.724643Z",
     "iopub.status.idle": "2022-08-20T00:39:08.738875Z",
     "shell.execute_reply": "2022-08-20T00:39:08.738394Z"
    },
    "papermill": {
     "duration": 0.044161,
     "end_time": "2022-08-20T00:39:08.738999",
     "exception": false,
     "start_time": "2022-08-20T00:39:08.694838",
     "status": "completed"
    },
    "tags": []
   },
   "outputs": [],
   "source": [
    "y_train = 1*(y_train==3)\n",
    "y_test = 1*(y_test==3)"
   ]
  },
  {
   "cell_type": "code",
   "execution_count": 13,
   "id": "01e4e969",
   "metadata": {
    "execution": {
     "iopub.execute_input": "2022-08-20T00:39:08.795495Z",
     "iopub.status.busy": "2022-08-20T00:39:08.794905Z",
     "iopub.status.idle": "2022-08-20T00:39:08.809419Z",
     "shell.execute_reply": "2022-08-20T00:39:08.809842Z"
    },
    "papermill": {
     "duration": 0.04469,
     "end_time": "2022-08-20T00:39:08.809980",
     "exception": false,
     "start_time": "2022-08-20T00:39:08.765290",
     "status": "completed"
    },
    "tags": []
   },
   "outputs": [
    {
     "data": {
      "text/plain": [
       "((11982, 28, 28), (1984, 28, 28))"
      ]
     },
     "execution_count": 13,
     "metadata": {},
     "output_type": "execute_result"
    }
   ],
   "source": [
    "X_train.shape, X_test.shape"
   ]
  },
  {
   "cell_type": "markdown",
   "id": "5ccf3f85",
   "metadata": {
    "papermill": {
     "duration": 0.026534,
     "end_time": "2022-08-20T00:39:08.863111",
     "exception": false,
     "start_time": "2022-08-20T00:39:08.836577",
     "status": "completed"
    },
    "tags": []
   },
   "source": [
    "We reshape the data to flatten the image pixels into a set of features or co-variates:"
   ]
  },
  {
   "cell_type": "code",
   "execution_count": 14,
   "id": "5286a4a3",
   "metadata": {
    "execution": {
     "iopub.execute_input": "2022-08-20T00:39:08.925692Z",
     "iopub.status.busy": "2022-08-20T00:39:08.925103Z",
     "iopub.status.idle": "2022-08-20T00:39:08.936426Z",
     "shell.execute_reply": "2022-08-20T00:39:08.936897Z"
    },
    "papermill": {
     "duration": 0.047222,
     "end_time": "2022-08-20T00:39:08.937029",
     "exception": false,
     "start_time": "2022-08-20T00:39:08.889807",
     "status": "completed"
    },
    "tags": []
   },
   "outputs": [
    {
     "data": {
      "text/plain": [
       "((11982, 784), (1984, 784))"
      ]
     },
     "execution_count": 14,
     "metadata": {},
     "output_type": "execute_result"
    }
   ],
   "source": [
    "X_train = X_train.reshape(X_train.shape[0], -1)\n",
    "X_test = X_test.reshape(X_test.shape[0], -1)\n",
    "X_train.shape, X_test.shape"
   ]
  },
  {
   "cell_type": "code",
   "execution_count": 15,
   "id": "73c5f88a",
   "metadata": {
    "execution": {
     "iopub.execute_input": "2022-08-20T00:39:08.995470Z",
     "iopub.status.busy": "2022-08-20T00:39:08.994888Z",
     "iopub.status.idle": "2022-08-20T00:39:09.013410Z",
     "shell.execute_reply": "2022-08-20T00:39:09.013834Z"
    },
    "papermill": {
     "duration": 0.049716,
     "end_time": "2022-08-20T00:39:09.013973",
     "exception": false,
     "start_time": "2022-08-20T00:39:08.964257",
     "status": "completed"
    },
    "tags": []
   },
   "outputs": [],
   "source": [
    "#Impoting functions from 'Kudzu'\n",
    "from kudzu.model import Model\n",
    "from kudzu.train import Learner\n",
    "from kudzu.optim import GD\n",
    "from kudzu.data import Data, Sampler,Dataloader\n",
    "\n",
    "from kudzu.callbacks import AccCallback\n",
    "from kudzu.callbacks import ClfCallback\n",
    "\n",
    "from kudzu.loss import MSE\n",
    "\n",
    "from kudzu.layer import Sigmoid,Relu\n",
    "from kudzu.layer import Affine"
   ]
  },
  {
   "cell_type": "markdown",
   "id": "bc01172a",
   "metadata": {
    "papermill": {
     "duration": 0.027174,
     "end_time": "2022-08-20T00:39:09.068134",
     "exception": false,
     "start_time": "2022-08-20T00:39:09.040960",
     "status": "completed"
    },
    "tags": []
   },
   "source": [
    "### Let us create a `Config` class, to store important parameters. \n",
    "This class essentially plays the role of a dictionary."
   ]
  },
  {
   "cell_type": "code",
   "execution_count": 16,
   "id": "978281aa",
   "metadata": {
    "execution": {
     "iopub.execute_input": "2022-08-20T00:39:09.126799Z",
     "iopub.status.busy": "2022-08-20T00:39:09.126165Z",
     "iopub.status.idle": "2022-08-20T00:39:09.138010Z",
     "shell.execute_reply": "2022-08-20T00:39:09.138468Z"
    },
    "papermill": {
     "duration": 0.043705,
     "end_time": "2022-08-20T00:39:09.138601",
     "exception": false,
     "start_time": "2022-08-20T00:39:09.094896",
     "status": "completed"
    },
    "tags": []
   },
   "outputs": [],
   "source": [
    "class Config:\n",
    "    pass\n",
    "config = Config()\n",
    "config.lr = 0.001\n",
    "config.num_epochs = 250\n",
    "config.bs = 50"
   ]
  },
  {
   "cell_type": "markdown",
   "id": "1385fa59",
   "metadata": {
    "papermill": {
     "duration": 0.026684,
     "end_time": "2022-08-20T00:39:09.192143",
     "exception": false,
     "start_time": "2022-08-20T00:39:09.165459",
     "status": "completed"
    },
    "tags": []
   },
   "source": [
    "### Running Models with the Training data\n",
    "Details about the network layers:\n",
    "- A first affine layer has 784 inputs and does 100 affine transforms. These are followed by a Relu\n",
    "- A second affine layer has 100 inputs from the 100 activations of the past layer, and does 100 affine transforms. These are followed by a Relu\n",
    "- A third affine layer has 100 activations and does 2 affine transformations to create an embedding for visualization. There is no non-linearity here.\n",
    "- A final \"logistic regression\" which has an affine transform from 2 inputs to 1 output, which is squeezed through a sigmoid.\n"
   ]
  },
  {
   "cell_type": "code",
   "execution_count": 17,
   "id": "2b9c66db",
   "metadata": {
    "execution": {
     "iopub.execute_input": "2022-08-20T00:39:09.250440Z",
     "iopub.status.busy": "2022-08-20T00:39:09.249762Z",
     "iopub.status.idle": "2022-08-20T00:39:09.262100Z",
     "shell.execute_reply": "2022-08-20T00:39:09.262543Z"
    },
    "papermill": {
     "duration": 0.043733,
     "end_time": "2022-08-20T00:39:09.262692",
     "exception": false,
     "start_time": "2022-08-20T00:39:09.218959",
     "status": "completed"
    },
    "tags": []
   },
   "outputs": [],
   "source": [
    "data = Data(X_train, y_train.reshape(-1,1))\n",
    "sampler = Sampler(data, config.bs, shuffle=True)\n",
    "\n",
    "dl = Dataloader(data, sampler)\n",
    "\n",
    "opt = GD(config.lr)\n",
    "loss = MSE()"
   ]
  },
  {
   "cell_type": "code",
   "execution_count": 18,
   "id": "b275e4c2",
   "metadata": {
    "execution": {
     "iopub.execute_input": "2022-08-20T00:39:09.320053Z",
     "iopub.status.busy": "2022-08-20T00:39:09.319482Z",
     "iopub.status.idle": "2022-08-20T00:39:09.332190Z",
     "shell.execute_reply": "2022-08-20T00:39:09.331707Z"
    },
    "papermill": {
     "duration": 0.042877,
     "end_time": "2022-08-20T00:39:09.332300",
     "exception": false,
     "start_time": "2022-08-20T00:39:09.289423",
     "status": "completed"
    },
    "tags": []
   },
   "outputs": [],
   "source": [
    "training_data_x = X_train\n",
    "testing_data_x = X_test\n",
    "training_data_y = y_train.reshape(-1,1)\n",
    "testing_data_y = y_test.reshape(-1,1)"
   ]
  },
  {
   "cell_type": "code",
   "execution_count": 19,
   "id": "76951160",
   "metadata": {
    "execution": {
     "iopub.execute_input": "2022-08-20T00:39:09.390258Z",
     "iopub.status.busy": "2022-08-20T00:39:09.389673Z",
     "iopub.status.idle": "2022-08-20T00:39:09.410874Z",
     "shell.execute_reply": "2022-08-20T00:39:09.411329Z"
    },
    "papermill": {
     "duration": 0.052428,
     "end_time": "2022-08-20T00:39:09.411465",
     "exception": false,
     "start_time": "2022-08-20T00:39:09.359037",
     "status": "completed"
    },
    "tags": []
   },
   "outputs": [
    {
     "name": "stdout",
     "output_type": "stream",
     "text": [
      "xavier\n",
      "xavier\n",
      "xavier\n",
      "xavier\n",
      "xavier\n"
     ]
    }
   ],
   "source": [
    "layers = [Affine(\"first\", 784, 100), Relu(\"first\"), Affine(\"second\", 100, 100), Relu(\"second\"), Affine(\"third\", 100, 2), Affine(\"last\", 2, 1), Sigmoid(\"last\")]\n",
    "model_nn = Model(layers)\n",
    "model_lr = Model([Affine(\"logits\", 784, 1), Sigmoid(\"sigmoid\")])"
   ]
  },
  {
   "cell_type": "code",
   "execution_count": 20,
   "id": "6eede77a",
   "metadata": {
    "execution": {
     "iopub.execute_input": "2022-08-20T00:39:09.470021Z",
     "iopub.status.busy": "2022-08-20T00:39:09.469447Z",
     "iopub.status.idle": "2022-08-20T00:39:09.482534Z",
     "shell.execute_reply": "2022-08-20T00:39:09.482063Z"
    },
    "papermill": {
     "duration": 0.043933,
     "end_time": "2022-08-20T00:39:09.482668",
     "exception": false,
     "start_time": "2022-08-20T00:39:09.438735",
     "status": "completed"
    },
    "tags": []
   },
   "outputs": [],
   "source": [
    "nn_learner = Learner(loss, model_nn, opt, config.num_epochs)\n",
    "acc_nn = ClfCallback(nn_learner, config.bs, training_data_x , testing_data_x, training_data_y, testing_data_y)\n",
    "nn_learner.set_callbacks([acc_nn])"
   ]
  },
  {
   "cell_type": "code",
   "execution_count": 21,
   "id": "877b6cc7",
   "metadata": {
    "execution": {
     "iopub.execute_input": "2022-08-20T00:39:09.540627Z",
     "iopub.status.busy": "2022-08-20T00:39:09.540060Z",
     "iopub.status.idle": "2022-08-20T00:39:09.553151Z",
     "shell.execute_reply": "2022-08-20T00:39:09.552675Z"
    },
    "papermill": {
     "duration": 0.043498,
     "end_time": "2022-08-20T00:39:09.553262",
     "exception": false,
     "start_time": "2022-08-20T00:39:09.509764",
     "status": "completed"
    },
    "tags": []
   },
   "outputs": [],
   "source": [
    "lr_learner = Learner(loss, model_lr, opt, config.num_epochs)\n",
    "acc_lr = ClfCallback(lr_learner, config.bs, training_data_x , testing_data_x, training_data_y, testing_data_y)\n",
    "lr_learner.set_callbacks([acc_lr])"
   ]
  },
  {
   "cell_type": "code",
   "execution_count": 22,
   "id": "d9b133c3",
   "metadata": {
    "execution": {
     "iopub.execute_input": "2022-08-20T00:39:09.612331Z",
     "iopub.status.busy": "2022-08-20T00:39:09.611756Z",
     "iopub.status.idle": "2022-08-20T00:40:26.860435Z",
     "shell.execute_reply": "2022-08-20T00:40:26.861230Z"
    },
    "papermill": {
     "duration": 77.280856,
     "end_time": "2022-08-20T00:40:26.861384",
     "exception": false,
     "start_time": "2022-08-20T00:39:09.580528",
     "status": "completed"
    },
    "tags": []
   },
   "outputs": [
    {
     "name": "stdout",
     "output_type": "stream",
     "text": [
      "Epoch 0, Loss 0.2321\n",
      "Training Accuracy: 0.7187, Testing Accuracy: 0.7273\n",
      "\n"
     ]
    },
    {
     "name": "stdout",
     "output_type": "stream",
     "text": [
      "Epoch 10, Loss 0.0793\n",
      "Training Accuracy: 0.9213, Testing Accuracy: 0.9340\n",
      "\n"
     ]
    },
    {
     "name": "stdout",
     "output_type": "stream",
     "text": [
      "Epoch 20, Loss 0.0514\n",
      "Training Accuracy: 0.9454, Testing Accuracy: 0.9546\n",
      "\n"
     ]
    },
    {
     "name": "stdout",
     "output_type": "stream",
     "text": [
      "Epoch 30, Loss 0.0414\n",
      "Training Accuracy: 0.9530, Testing Accuracy: 0.9627\n",
      "\n"
     ]
    },
    {
     "name": "stdout",
     "output_type": "stream",
     "text": [
      "Epoch 40, Loss 0.0363\n",
      "Training Accuracy: 0.9584, Testing Accuracy: 0.9667\n",
      "\n"
     ]
    },
    {
     "name": "stdout",
     "output_type": "stream",
     "text": [
      "Epoch 50, Loss 0.033\n",
      "Training Accuracy: 0.9617, Testing Accuracy: 0.9682\n",
      "\n"
     ]
    },
    {
     "name": "stdout",
     "output_type": "stream",
     "text": [
      "Epoch 60, Loss 0.0307\n",
      "Training Accuracy: 0.9644, Testing Accuracy: 0.9693\n",
      "\n"
     ]
    },
    {
     "name": "stdout",
     "output_type": "stream",
     "text": [
      "Epoch 70, Loss 0.029\n",
      "Training Accuracy: 0.9657, Testing Accuracy: 0.9708\n",
      "\n"
     ]
    },
    {
     "name": "stdout",
     "output_type": "stream",
     "text": [
      "Epoch 80, Loss 0.0276\n",
      "Training Accuracy: 0.9673, Testing Accuracy: 0.9708\n",
      "\n"
     ]
    },
    {
     "name": "stdout",
     "output_type": "stream",
     "text": [
      "Epoch 90, Loss 0.0264\n",
      "Training Accuracy: 0.9689, Testing Accuracy: 0.9718\n",
      "\n"
     ]
    },
    {
     "name": "stdout",
     "output_type": "stream",
     "text": [
      "Epoch 100, Loss 0.0254\n",
      "Training Accuracy: 0.9705, Testing Accuracy: 0.9713\n",
      "\n"
     ]
    },
    {
     "name": "stdout",
     "output_type": "stream",
     "text": [
      "Epoch 110, Loss 0.0245\n",
      "Training Accuracy: 0.9717, Testing Accuracy: 0.9728\n",
      "\n"
     ]
    },
    {
     "name": "stdout",
     "output_type": "stream",
     "text": [
      "Epoch 120, Loss 0.0238\n",
      "Training Accuracy: 0.9732, Testing Accuracy: 0.9738\n",
      "\n"
     ]
    },
    {
     "name": "stdout",
     "output_type": "stream",
     "text": [
      "Epoch 130, Loss 0.0231\n",
      "Training Accuracy: 0.9742, Testing Accuracy: 0.9738\n",
      "\n"
     ]
    },
    {
     "name": "stdout",
     "output_type": "stream",
     "text": [
      "Epoch 140, Loss 0.0224\n",
      "Training Accuracy: 0.9751, Testing Accuracy: 0.9738\n",
      "\n"
     ]
    },
    {
     "name": "stdout",
     "output_type": "stream",
     "text": [
      "Epoch 150, Loss 0.0219\n",
      "Training Accuracy: 0.9755, Testing Accuracy: 0.9733\n",
      "\n"
     ]
    },
    {
     "name": "stdout",
     "output_type": "stream",
     "text": [
      "Epoch 160, Loss 0.0213\n",
      "Training Accuracy: 0.9755, Testing Accuracy: 0.9738\n",
      "\n"
     ]
    },
    {
     "name": "stdout",
     "output_type": "stream",
     "text": [
      "Epoch 170, Loss 0.0208\n",
      "Training Accuracy: 0.9755, Testing Accuracy: 0.9743\n",
      "\n"
     ]
    },
    {
     "name": "stdout",
     "output_type": "stream",
     "text": [
      "Epoch 180, Loss 0.0203\n",
      "Training Accuracy: 0.9763, Testing Accuracy: 0.9748\n",
      "\n"
     ]
    },
    {
     "name": "stdout",
     "output_type": "stream",
     "text": [
      "Epoch 190, Loss 0.0199\n",
      "Training Accuracy: 0.9770, Testing Accuracy: 0.9753\n",
      "\n"
     ]
    },
    {
     "name": "stdout",
     "output_type": "stream",
     "text": [
      "Epoch 200, Loss 0.0195\n",
      "Training Accuracy: 0.9781, Testing Accuracy: 0.9753\n",
      "\n"
     ]
    },
    {
     "name": "stdout",
     "output_type": "stream",
     "text": [
      "Epoch 210, Loss 0.019\n",
      "Training Accuracy: 0.9784, Testing Accuracy: 0.9758\n",
      "\n"
     ]
    },
    {
     "name": "stdout",
     "output_type": "stream",
     "text": [
      "Epoch 220, Loss 0.0186\n",
      "Training Accuracy: 0.9787, Testing Accuracy: 0.9758\n",
      "\n"
     ]
    },
    {
     "name": "stdout",
     "output_type": "stream",
     "text": [
      "Epoch 230, Loss 0.0183\n",
      "Training Accuracy: 0.9796, Testing Accuracy: 0.9758\n",
      "\n"
     ]
    },
    {
     "name": "stdout",
     "output_type": "stream",
     "text": [
      "Epoch 240, Loss 0.0179\n",
      "Training Accuracy: 0.9804, Testing Accuracy: 0.9758\n",
      "\n"
     ]
    },
    {
     "data": {
      "text/plain": [
       "0.004653922432487083"
      ]
     },
     "execution_count": 22,
     "metadata": {},
     "output_type": "execute_result"
    }
   ],
   "source": [
    "nn_learner.train_loop(dl)"
   ]
  },
  {
   "cell_type": "code",
   "execution_count": 23,
   "id": "e0163366",
   "metadata": {
    "execution": {
     "iopub.execute_input": "2022-08-20T00:40:26.940056Z",
     "iopub.status.busy": "2022-08-20T00:40:26.939474Z",
     "iopub.status.idle": "2022-08-20T00:40:40.745622Z",
     "shell.execute_reply": "2022-08-20T00:40:40.746464Z"
    },
    "papermill": {
     "duration": 13.850443,
     "end_time": "2022-08-20T00:40:40.746632",
     "exception": false,
     "start_time": "2022-08-20T00:40:26.896189",
     "status": "completed"
    },
    "tags": []
   },
   "outputs": [
    {
     "name": "stdout",
     "output_type": "stream",
     "text": [
      "Epoch 0, Loss 0.24\n",
      "Training Accuracy: 0.6660, Testing Accuracy: 0.6512\n",
      "\n"
     ]
    },
    {
     "name": "stdout",
     "output_type": "stream",
     "text": [
      "Epoch 10, Loss 0.1026\n",
      "Training Accuracy: 0.9115, Testing Accuracy: 0.9189\n",
      "\n"
     ]
    },
    {
     "name": "stdout",
     "output_type": "stream",
     "text": [
      "Epoch 20, Loss 0.0779\n",
      "Training Accuracy: 0.9341, Testing Accuracy: 0.9415\n",
      "\n"
     ]
    },
    {
     "name": "stdout",
     "output_type": "stream",
     "text": [
      "Epoch 30, Loss 0.0669\n",
      "Training Accuracy: 0.9414, Testing Accuracy: 0.9516\n",
      "\n"
     ]
    },
    {
     "name": "stdout",
     "output_type": "stream",
     "text": [
      "Epoch 40, Loss 0.0604\n",
      "Training Accuracy: 0.9452, Testing Accuracy: 0.9551\n",
      "\n"
     ]
    },
    {
     "name": "stdout",
     "output_type": "stream",
     "text": [
      "Epoch 50, Loss 0.056\n",
      "Training Accuracy: 0.9483, Testing Accuracy: 0.9577\n",
      "\n"
     ]
    },
    {
     "name": "stdout",
     "output_type": "stream",
     "text": [
      "Epoch 60, Loss 0.0528\n",
      "Training Accuracy: 0.9507, Testing Accuracy: 0.9592\n",
      "\n"
     ]
    },
    {
     "name": "stdout",
     "output_type": "stream",
     "text": [
      "Epoch 70, Loss 0.0504\n",
      "Training Accuracy: 0.9513, Testing Accuracy: 0.9597\n",
      "\n"
     ]
    },
    {
     "name": "stdout",
     "output_type": "stream",
     "text": [
      "Epoch 80, Loss 0.0484\n",
      "Training Accuracy: 0.9527, Testing Accuracy: 0.9612\n",
      "\n"
     ]
    },
    {
     "name": "stdout",
     "output_type": "stream",
     "text": [
      "Epoch 90, Loss 0.0468\n",
      "Training Accuracy: 0.9535, Testing Accuracy: 0.9632\n",
      "\n"
     ]
    },
    {
     "name": "stdout",
     "output_type": "stream",
     "text": [
      "Epoch 100, Loss 0.0454\n",
      "Training Accuracy: 0.9538, Testing Accuracy: 0.9657\n",
      "\n"
     ]
    },
    {
     "name": "stdout",
     "output_type": "stream",
     "text": [
      "Epoch 110, Loss 0.0442\n",
      "Training Accuracy: 0.9552, Testing Accuracy: 0.9662\n",
      "\n"
     ]
    },
    {
     "name": "stdout",
     "output_type": "stream",
     "text": [
      "Epoch 120, Loss 0.0432\n",
      "Training Accuracy: 0.9561, Testing Accuracy: 0.9667\n",
      "\n"
     ]
    },
    {
     "name": "stdout",
     "output_type": "stream",
     "text": [
      "Epoch 130, Loss 0.0423\n",
      "Training Accuracy: 0.9566, Testing Accuracy: 0.9667\n",
      "\n"
     ]
    },
    {
     "name": "stdout",
     "output_type": "stream",
     "text": [
      "Epoch 140, Loss 0.0415\n",
      "Training Accuracy: 0.9574, Testing Accuracy: 0.9672\n",
      "\n"
     ]
    },
    {
     "name": "stdout",
     "output_type": "stream",
     "text": [
      "Epoch 150, Loss 0.0408\n",
      "Training Accuracy: 0.9580, Testing Accuracy: 0.9672\n",
      "\n"
     ]
    },
    {
     "name": "stdout",
     "output_type": "stream",
     "text": [
      "Epoch 160, Loss 0.0402\n",
      "Training Accuracy: 0.9586, Testing Accuracy: 0.9672\n",
      "\n"
     ]
    },
    {
     "name": "stdout",
     "output_type": "stream",
     "text": [
      "Epoch 170, Loss 0.0396\n",
      "Training Accuracy: 0.9589, Testing Accuracy: 0.9682\n",
      "\n"
     ]
    },
    {
     "name": "stdout",
     "output_type": "stream",
     "text": [
      "Epoch 180, Loss 0.039\n",
      "Training Accuracy: 0.9593, Testing Accuracy: 0.9688\n",
      "\n"
     ]
    },
    {
     "name": "stdout",
     "output_type": "stream",
     "text": [
      "Epoch 190, Loss 0.0385\n",
      "Training Accuracy: 0.9595, Testing Accuracy: 0.9688\n",
      "\n"
     ]
    },
    {
     "name": "stdout",
     "output_type": "stream",
     "text": [
      "Epoch 200, Loss 0.0381\n",
      "Training Accuracy: 0.9594, Testing Accuracy: 0.9688\n",
      "\n"
     ]
    },
    {
     "name": "stdout",
     "output_type": "stream",
     "text": [
      "Epoch 210, Loss 0.0376\n",
      "Training Accuracy: 0.9604, Testing Accuracy: 0.9688\n",
      "\n"
     ]
    },
    {
     "name": "stdout",
     "output_type": "stream",
     "text": [
      "Epoch 220, Loss 0.0373\n",
      "Training Accuracy: 0.9605, Testing Accuracy: 0.9688\n",
      "\n"
     ]
    },
    {
     "name": "stdout",
     "output_type": "stream",
     "text": [
      "Epoch 230, Loss 0.0369\n",
      "Training Accuracy: 0.9613, Testing Accuracy: 0.9688\n",
      "\n"
     ]
    },
    {
     "name": "stdout",
     "output_type": "stream",
     "text": [
      "Epoch 240, Loss 0.0365\n",
      "Training Accuracy: 0.9616, Testing Accuracy: 0.9682\n",
      "\n"
     ]
    },
    {
     "data": {
      "text/plain": [
       "0.06814204996376928"
      ]
     },
     "execution_count": 23,
     "metadata": {},
     "output_type": "execute_result"
    }
   ],
   "source": [
    "lr_learner.train_loop(dl)"
   ]
  },
  {
   "cell_type": "code",
   "execution_count": 24,
   "id": "ca410940",
   "metadata": {
    "execution": {
     "iopub.execute_input": "2022-08-20T00:40:40.840160Z",
     "iopub.status.busy": "2022-08-20T00:40:40.839554Z",
     "iopub.status.idle": "2022-08-20T00:40:41.072169Z",
     "shell.execute_reply": "2022-08-20T00:40:41.072936Z"
    },
    "papermill": {
     "duration": 0.284857,
     "end_time": "2022-08-20T00:40:41.073088",
     "exception": false,
     "start_time": "2022-08-20T00:40:40.788231",
     "status": "completed"
    },
    "tags": []
   },
   "outputs": [
    {
     "data": {
      "text/plain": [
       "<matplotlib.legend.Legend at 0x7f7fb59a6f98>"
      ]
     },
     "execution_count": 24,
     "metadata": {},
     "output_type": "execute_result"
    },
    {
     "data": {
      "image/png": "[encoded data removed]",
      "text/plain": [
       "<Figure size 1080x720 with 1 Axes>"
      ]
     },
     "metadata": {
      "needs_background": "light"
     },
     "output_type": "display_data"
    }
   ],
   "source": [
    "#comparing the results of NN and LR\n",
    "plt.figure(figsize=(15,10))\n",
    "\n",
    "# Neural Network plots\n",
    "plt.plot(acc_nn.accuracies, 'r-', label = \"Training Accuracies - NN\")\n",
    "plt.plot(acc_nn.test_accuracies, 'g-', label = \"Testing Accuracies - NN\")\n",
    "\n",
    "# Logistic Regression plots\n",
    "plt.plot(acc_lr.accuracies, 'k-', label = \"Training Accuracies - LR\")\n",
    "plt.plot(acc_lr.test_accuracies, 'b-', label = \"Testing Accuracies - LR\")\n",
    "plt.legend()"
   ]
  },
  {
   "cell_type": "markdown",
   "id": "80dfb35c",
   "metadata": {
    "papermill": {
     "duration": 0.042197,
     "end_time": "2022-08-20T00:40:41.157615",
     "exception": false,
     "start_time": "2022-08-20T00:40:41.115418",
     "status": "completed"
    },
    "tags": []
   },
   "source": [
    "#### Plotting the outputs of this layer of the NN.\n"
   ]
  },
  {
   "cell_type": "code",
   "execution_count": 25,
   "id": "45eb2ff5",
   "metadata": {
    "execution": {
     "iopub.execute_input": "2022-08-20T00:40:41.247907Z",
     "iopub.status.busy": "2022-08-20T00:40:41.247269Z",
     "iopub.status.idle": "2022-08-20T00:40:41.268309Z",
     "shell.execute_reply": "2022-08-20T00:40:41.267481Z"
    },
    "papermill": {
     "duration": 0.068949,
     "end_time": "2022-08-20T00:40:41.268434",
     "exception": false,
     "start_time": "2022-08-20T00:40:41.199485",
     "status": "completed"
    },
    "tags": []
   },
   "outputs": [],
   "source": [
    "new_model = Model(layers[:-2])\n",
    "testing_plot = new_model(testing_data_x)"
   ]
  },
  {
   "cell_type": "code",
   "execution_count": 26,
   "id": "4c0a5485",
   "metadata": {
    "execution": {
     "iopub.execute_input": "2022-08-20T00:40:41.361291Z",
     "iopub.status.busy": "2022-08-20T00:40:41.359429Z",
     "iopub.status.idle": "2022-08-20T00:40:41.562087Z",
     "shell.execute_reply": "2022-08-20T00:40:41.561509Z"
    },
    "papermill": {
     "duration": 0.250143,
     "end_time": "2022-08-20T00:40:41.562225",
     "exception": false,
     "start_time": "2022-08-20T00:40:41.312082",
     "status": "completed"
    },
    "tags": []
   },
   "outputs": [
    {
     "data": {
      "text/plain": [
       "Text(0.5, 1.0, 'Outputs')"
      ]
     },
     "execution_count": 26,
     "metadata": {},
     "output_type": "execute_result"
    },
    {
     "data": {
      "image/png": "[encoded data removed]",
      "text/plain": [
       "<Figure size 576x504 with 1 Axes>"
      ]
     },
     "metadata": {
      "needs_background": "light"
     },
     "output_type": "display_data"
    }
   ],
   "source": [
    "# Plotting the scatter plot of points and color coding by class\n",
    "plt.figure(figsize=(8,7))\n",
    "plt.scatter(testing_plot[:,0], testing_plot[:,1], alpha = 0.1, c = y_test.ravel());\n",
    "plt.title('Outputs')"
   ]
  },
  {
   "cell_type": "markdown",
   "id": "a74fcf8f",
   "metadata": {
    "papermill": {
     "duration": 0.044172,
     "end_time": "2022-08-20T00:40:41.652230",
     "exception": false,
     "start_time": "2022-08-20T00:40:41.608058",
     "status": "completed"
    },
    "tags": []
   },
   "source": [
    "Probability contours"
   ]
  },
  {
   "cell_type": "code",
   "execution_count": 27,
   "id": "d0afc8e3",
   "metadata": {
    "execution": {
     "iopub.execute_input": "2022-08-20T00:40:41.776025Z",
     "iopub.status.busy": "2022-08-20T00:40:41.775440Z",
     "iopub.status.idle": "2022-08-20T00:40:41.788031Z",
     "shell.execute_reply": "2022-08-20T00:40:41.788456Z"
    },
    "papermill": {
     "duration": 0.091954,
     "end_time": "2022-08-20T00:40:41.788591",
     "exception": false,
     "start_time": "2022-08-20T00:40:41.696637",
     "status": "completed"
    },
    "tags": []
   },
   "outputs": [],
   "source": [
    "model_prob = Model(layers[-2:]) "
   ]
  },
  {
   "cell_type": "code",
   "execution_count": 28,
   "id": "9b96e238",
   "metadata": {
    "execution": {
     "iopub.execute_input": "2022-08-20T00:40:41.883662Z",
     "iopub.status.busy": "2022-08-20T00:40:41.883066Z",
     "iopub.status.idle": "2022-08-20T00:40:41.897444Z",
     "shell.execute_reply": "2022-08-20T00:40:41.897866Z"
    },
    "papermill": {
     "duration": 0.065075,
     "end_time": "2022-08-20T00:40:41.898000",
     "exception": false,
     "start_time": "2022-08-20T00:40:41.832925",
     "status": "completed"
    },
    "tags": []
   },
   "outputs": [],
   "source": [
    "#creating the x and y ranges according to the above generated plot.\n",
    "x_range = np.linspace(-4, 1, 100) \n",
    "y_range = np.linspace(-6, 6, 100) \n",
    "x_grid, y_grid = np.meshgrid(x_range, y_range) # x_grid and y_grig are of size 100 X 100\n",
    "\n",
    "# converting x_grid and y_grid to continuous arrays\n",
    "x_gridflat = np.ravel(x_grid)\n",
    "y_gridflat = np.ravel(y_grid)\n",
    "\n",
    "# The last layer of the current model takes two columns as input. Hence transpose of np.vstack() is required.\n",
    "X = np.vstack((x_gridflat, y_gridflat)).T\n",
    "\n",
    "prob_contour = model_prob(X).reshape(100,100) "
   ]
  },
  {
   "cell_type": "code",
   "execution_count": 29,
   "id": "da72499a",
   "metadata": {
    "execution": {
     "iopub.execute_input": "2022-08-20T00:40:41.996289Z",
     "iopub.status.busy": "2022-08-20T00:40:41.995711Z",
     "iopub.status.idle": "2022-08-20T00:40:42.246303Z",
     "shell.execute_reply": "2022-08-20T00:40:42.246774Z"
    },
    "papermill": {
     "duration": 0.304589,
     "end_time": "2022-08-20T00:40:42.246926",
     "exception": false,
     "start_time": "2022-08-20T00:40:41.942337",
     "status": "completed"
    },
    "tags": []
   },
   "outputs": [
    {
     "data": {
      "image/png": "[encoded data removed]",
      "text/plain": [
       "<Figure size 720x648 with 1 Axes>"
      ]
     },
     "metadata": {
      "needs_background": "light"
     },
     "output_type": "display_data"
    }
   ],
   "source": [
    "plt.figure(figsize=(10,9))\n",
    "plt.scatter(testing_plot[:,0], testing_plot[:,1], alpha = 0.1, c = y_test.ravel())\n",
    "contours = plt.contour(x_grid,y_grid,prob_contour)\n",
    "plt.title('Probability Contours')\n",
    "plt.clabel(contours, inline = True );"
   ]
  },
  {
   "cell_type": "code",
   "execution_count": null,
   "id": "e81b4ac7",
   "metadata": {
    "papermill": {
     "duration": 0.047431,
     "end_time": "2022-08-20T00:40:42.342747",
     "exception": false,
     "start_time": "2022-08-20T00:40:42.295316",
     "status": "completed"
    },
    "tags": []
   },
   "outputs": [],
   "source": []
  }
 ],
 "metadata": {
  "kernelspec": {
   "display_name": "Python 3",
   "language": "python",
   "name": "python3"
  },
  "language_info": {
   "codemirror_mode": {
    "name": "ipython",
    "version": 3
   },
   "file_extension": ".py",
   "mimetype": "text/x-python",
   "name": "python",
   "nbconvert_exporter": "python",
   "pygments_lexer": "ipython3",
   "version": "3.6.15"
  },
  "papermill": {
   "default_parameters": {},
   "duration": 99.154471,
   "end_time": "2022-08-20T00:40:42.808770",
   "environment_variables": {},
   "exception": null,
   "input_path": "2020-08-11-part2.ipynb",
   "output_path": "2020-08-11-part2.ipynb",
   "parameters": {},
   "start_time": "2022-08-20T00:39:03.654299",
   "version": "2.3.3"
  }
 },
 "nbformat": 4,
 "nbformat_minor": 5
}