{
 "cells": [
  {
   "cell_type": "markdown",
   "id": "98380cd3",
   "metadata": {
    "papermill": {
     "duration": 0.030428,
     "end_time": "2022-06-07T20:11:23.795942",
     "exception": false,
     "start_time": "2022-06-07T20:11:23.765514",
     "status": "completed"
    },
    "tags": []
   },
   "source": [
    "# Distinguish Your Own Digits (DYOD)"
   ]
  },
  {
   "cell_type": "markdown",
   "id": "ef31240d",
   "metadata": {
    "papermill": {
     "duration": 0.024292,
     "end_time": "2022-06-07T20:11:23.845186",
     "exception": false,
     "start_time": "2022-06-07T20:11:23.820894",
     "status": "completed"
    },
    "tags": []
   },
   "source": [
    "You are going to write a classifier that distinguishes between the number 3 and number 8."
   ]
  },
  {
   "cell_type": "code",
   "execution_count": 1,
   "id": "b15c8646",
   "metadata": {
    "execution": {
     "iopub.execute_input": "2022-06-07T20:11:23.905137Z",
     "iopub.status.busy": "2022-06-07T20:11:23.904516Z",
     "iopub.status.idle": "2022-06-07T20:11:23.915442Z",
     "shell.execute_reply": "2022-06-07T20:11:23.914836Z"
    },
    "papermill": {
     "duration": 0.046268,
     "end_time": "2022-06-07T20:11:23.915578",
     "exception": false,
     "start_time": "2022-06-07T20:11:23.869310",
     "status": "completed"
    },
    "tags": []
   },
   "outputs": [],
   "source": [
    "%load_ext autoreload\n",
    "%autoreload 2"
   ]
  },
  {
   "cell_type": "code",
   "execution_count": 2,
   "id": "22ef38dc",
   "metadata": {
    "execution": {
     "iopub.execute_input": "2022-06-07T20:11:23.969941Z",
     "iopub.status.busy": "2022-06-07T20:11:23.969337Z",
     "iopub.status.idle": "2022-06-07T20:11:24.524609Z",
     "shell.execute_reply": "2022-06-07T20:11:24.523678Z"
    },
    "papermill": {
     "duration": 0.585038,
     "end_time": "2022-06-07T20:11:24.524751",
     "exception": false,
     "start_time": "2022-06-07T20:11:23.939713",
     "status": "completed"
    },
    "tags": []
   },
   "outputs": [],
   "source": [
    "%matplotlib inline\n",
    "import numpy as np\n",
    "import matplotlib.pyplot as plt\n",
    "import pandas as pd"
   ]
  },
  {
   "cell_type": "markdown",
   "id": "ba036198",
   "metadata": {
    "papermill": {
     "duration": 0.024717,
     "end_time": "2022-06-07T20:11:24.574875",
     "exception": false,
     "start_time": "2022-06-07T20:11:24.550158",
     "status": "completed"
    },
    "tags": []
   },
   "source": [
    "From the command line run `pip install mnist`. This is a library that will help you bring down the mnist dataset. If you run this from a notebook, you need to put  `!pip install mnist` in a cell by itself."
   ]
  },
  {
   "cell_type": "code",
   "execution_count": 3,
   "id": "bb6ad8a1",
   "metadata": {
    "execution": {
     "iopub.execute_input": "2022-06-07T20:11:24.630248Z",
     "iopub.status.busy": "2022-06-07T20:11:24.629599Z",
     "iopub.status.idle": "2022-06-07T20:11:26.401428Z",
     "shell.execute_reply": "2022-06-07T20:11:26.400811Z"
    },
    "papermill": {
     "duration": 1.802494,
     "end_time": "2022-06-07T20:11:26.401570",
     "exception": false,
     "start_time": "2022-06-07T20:11:24.599076",
     "status": "completed"
    },
    "tags": []
   },
   "outputs": [
    {
     "name": "stdout",
     "output_type": "stream",
     "text": [
      "Collecting mnist\r\n"
     ]
    },
    {
     "name": "stdout",
     "output_type": "stream",
     "text": [
      "  Downloading mnist-0.2.2-py2.py3-none-any.whl (3.5 kB)\r\n",
      "Requirement already satisfied: numpy in /opt/hostedtoolcache/Python/3.6.15/x64/lib/python3.6/site-packages (from mnist) (1.19.5)\r\n"
     ]
    },
    {
     "name": "stdout",
     "output_type": "stream",
     "text": [
      "Installing collected packages: mnist\r\n",
      "Successfully installed mnist-0.2.2\r\n"
     ]
    }
   ],
   "source": [
    "!pip install mnist"
   ]
  },
  {
   "cell_type": "markdown",
   "id": "69df9c9a",
   "metadata": {
    "papermill": {
     "duration": 0.024803,
     "end_time": "2022-06-07T20:11:26.452356",
     "exception": false,
     "start_time": "2022-06-07T20:11:26.427553",
     "status": "completed"
    },
    "tags": []
   },
   "source": [
    "## Preparing the Data"
   ]
  },
  {
   "cell_type": "code",
   "execution_count": 4,
   "id": "7f69d806",
   "metadata": {
    "execution": {
     "iopub.execute_input": "2022-06-07T20:11:26.516241Z",
     "iopub.status.busy": "2022-06-07T20:11:26.505709Z",
     "iopub.status.idle": "2022-06-07T20:11:26.524232Z",
     "shell.execute_reply": "2022-06-07T20:11:26.524694Z"
    },
    "papermill": {
     "duration": 0.047755,
     "end_time": "2022-06-07T20:11:26.524842",
     "exception": false,
     "start_time": "2022-06-07T20:11:26.477087",
     "status": "completed"
    },
    "tags": []
   },
   "outputs": [],
   "source": [
    "import mnist"
   ]
  },
  {
   "cell_type": "code",
   "execution_count": 5,
   "id": "a411e44f",
   "metadata": {
    "execution": {
     "iopub.execute_input": "2022-06-07T20:11:26.591153Z",
     "iopub.status.busy": "2022-06-07T20:11:26.586944Z",
     "iopub.status.idle": "2022-06-07T20:11:27.221467Z",
     "shell.execute_reply": "2022-06-07T20:11:27.220850Z"
    },
    "papermill": {
     "duration": 0.671762,
     "end_time": "2022-06-07T20:11:27.221592",
     "exception": false,
     "start_time": "2022-06-07T20:11:26.549830",
     "status": "completed"
    },
    "tags": []
   },
   "outputs": [],
   "source": [
    "train_images = mnist.train_images()\n",
    "train_labels = mnist.train_labels()"
   ]
  },
  {
   "cell_type": "code",
   "execution_count": 6,
   "id": "dceab3a5",
   "metadata": {
    "execution": {
     "iopub.execute_input": "2022-06-07T20:11:27.284928Z",
     "iopub.status.busy": "2022-06-07T20:11:27.284308Z",
     "iopub.status.idle": "2022-06-07T20:11:27.297704Z",
     "shell.execute_reply": "2022-06-07T20:11:27.296599Z"
    },
    "papermill": {
     "duration": 0.051164,
     "end_time": "2022-06-07T20:11:27.297833",
     "exception": false,
     "start_time": "2022-06-07T20:11:27.246669",
     "status": "completed"
    },
    "tags": []
   },
   "outputs": [
    {
     "data": {
      "text/plain": [
       "((60000, 28, 28), (60000,))"
      ]
     },
     "execution_count": 6,
     "metadata": {},
     "output_type": "execute_result"
    }
   ],
   "source": [
    "train_images.shape, train_labels.shape"
   ]
  },
  {
   "cell_type": "code",
   "execution_count": 7,
   "id": "f50dc2bb",
   "metadata": {
    "execution": {
     "iopub.execute_input": "2022-06-07T20:11:27.352774Z",
     "iopub.status.busy": "2022-06-07T20:11:27.352170Z",
     "iopub.status.idle": "2022-06-07T20:11:27.546967Z",
     "shell.execute_reply": "2022-06-07T20:11:27.545589Z"
    },
    "papermill": {
     "duration": 0.224147,
     "end_time": "2022-06-07T20:11:27.547120",
     "exception": false,
     "start_time": "2022-06-07T20:11:27.322973",
     "status": "completed"
    },
    "tags": []
   },
   "outputs": [],
   "source": [
    "test_images = mnist.test_images()\n",
    "test_labels = mnist.test_labels()"
   ]
  },
  {
   "cell_type": "code",
   "execution_count": 8,
   "id": "fc38cf1b",
   "metadata": {
    "execution": {
     "iopub.execute_input": "2022-06-07T20:11:27.603526Z",
     "iopub.status.busy": "2022-06-07T20:11:27.601582Z",
     "iopub.status.idle": "2022-06-07T20:11:27.615137Z",
     "shell.execute_reply": "2022-06-07T20:11:27.615574Z"
    },
    "papermill": {
     "duration": 0.043044,
     "end_time": "2022-06-07T20:11:27.615725",
     "exception": false,
     "start_time": "2022-06-07T20:11:27.572681",
     "status": "completed"
    },
    "tags": []
   },
   "outputs": [
    {
     "data": {
      "text/plain": [
       "((10000, 28, 28), (10000,))"
      ]
     },
     "execution_count": 8,
     "metadata": {},
     "output_type": "execute_result"
    }
   ],
   "source": [
    "test_images.shape, test_labels.shape"
   ]
  },
  {
   "cell_type": "code",
   "execution_count": 9,
   "id": "f9ed8fe0",
   "metadata": {
    "execution": {
     "iopub.execute_input": "2022-06-07T20:11:27.671693Z",
     "iopub.status.busy": "2022-06-07T20:11:27.670998Z",
     "iopub.status.idle": "2022-06-07T20:11:27.810867Z",
     "shell.execute_reply": "2022-06-07T20:11:27.811390Z"
    },
    "papermill": {
     "duration": 0.170337,
     "end_time": "2022-06-07T20:11:27.811547",
     "exception": false,
     "start_time": "2022-06-07T20:11:27.641210",
     "status": "completed"
    },
    "tags": []
   },
   "outputs": [
    {
     "name": "stdout",
     "output_type": "stream",
     "text": [
      "2\n"
     ]
    },
    {
     "data": {
      "text/plain": [
       "<matplotlib.image.AxesImage at 0x7f09a90e4940>"
      ]
     },
     "execution_count": 9,
     "metadata": {},
     "output_type": "execute_result"
    },
    {
     "data": {
      "image/png": "[encoded data removed]",
      "text/plain": [
       "<Figure size 432x288 with 1 Axes>"
      ]
     },
     "metadata": {
      "needs_background": "light"
     },
     "output_type": "display_data"
    }
   ],
   "source": [
    "image_index = 7776 # You may select anything up to 60,000\n",
    "print(train_labels[image_index]) \n",
    "plt.imshow(train_images[image_index], cmap='Greys')"
   ]
  },
  {
   "cell_type": "markdown",
   "id": "a8d2388d",
   "metadata": {
    "papermill": {
     "duration": 0.026656,
     "end_time": "2022-06-07T20:11:27.865289",
     "exception": false,
     "start_time": "2022-06-07T20:11:27.838633",
     "status": "completed"
    },
    "tags": []
   },
   "source": [
    "## Filter data to get 3 and 8 out"
   ]
  },
  {
   "cell_type": "code",
   "execution_count": 10,
   "id": "776f7fc7",
   "metadata": {
    "execution": {
     "iopub.execute_input": "2022-06-07T20:11:27.923176Z",
     "iopub.status.busy": "2022-06-07T20:11:27.922571Z",
     "iopub.status.idle": "2022-06-07T20:11:27.942885Z",
     "shell.execute_reply": "2022-06-07T20:11:27.942312Z"
    },
    "papermill": {
     "duration": 0.051331,
     "end_time": "2022-06-07T20:11:27.943023",
     "exception": false,
     "start_time": "2022-06-07T20:11:27.891692",
     "status": "completed"
    },
    "tags": []
   },
   "outputs": [],
   "source": [
    "train_filter = np.where((train_labels == 3 ) | (train_labels == 8))\n",
    "test_filter = np.where((test_labels == 3) | (test_labels == 8))\n",
    "X_train, y_train = train_images[train_filter], train_labels[train_filter]\n",
    "X_test, y_test = test_images[test_filter], test_labels[test_filter]"
   ]
  },
  {
   "cell_type": "markdown",
   "id": "948f0b7e",
   "metadata": {
    "papermill": {
     "duration": 0.026333,
     "end_time": "2022-06-07T20:11:27.996568",
     "exception": false,
     "start_time": "2022-06-07T20:11:27.970235",
     "status": "completed"
    },
    "tags": []
   },
   "source": [
    "We normalize the pizel values in the 0 to 1 range"
   ]
  },
  {
   "cell_type": "code",
   "execution_count": 11,
   "id": "ee4c2166",
   "metadata": {
    "execution": {
     "iopub.execute_input": "2022-06-07T20:11:28.067671Z",
     "iopub.status.busy": "2022-06-07T20:11:28.063150Z",
     "iopub.status.idle": "2022-06-07T20:11:28.106598Z",
     "shell.execute_reply": "2022-06-07T20:11:28.105957Z"
    },
    "papermill": {
     "duration": 0.083243,
     "end_time": "2022-06-07T20:11:28.106742",
     "exception": false,
     "start_time": "2022-06-07T20:11:28.023499",
     "status": "completed"
    },
    "tags": []
   },
   "outputs": [],
   "source": [
    "X_train = X_train/255.\n",
    "X_test = X_test/255."
   ]
  },
  {
   "cell_type": "markdown",
   "id": "ddcf4fab",
   "metadata": {
    "papermill": {
     "duration": 0.026382,
     "end_time": "2022-06-07T20:11:28.160294",
     "exception": false,
     "start_time": "2022-06-07T20:11:28.133912",
     "status": "completed"
    },
    "tags": []
   },
   "source": [
    "And setup the labels as 1 (when the digit is 3) and 0 (when the digit is 8)"
   ]
  },
  {
   "cell_type": "code",
   "execution_count": 12,
   "id": "7dc908f2",
   "metadata": {
    "execution": {
     "iopub.execute_input": "2022-06-07T20:11:28.231848Z",
     "iopub.status.busy": "2022-06-07T20:11:28.231212Z",
     "iopub.status.idle": "2022-06-07T20:11:28.233836Z",
     "shell.execute_reply": "2022-06-07T20:11:28.234295Z"
    },
    "papermill": {
     "duration": 0.047693,
     "end_time": "2022-06-07T20:11:28.234442",
     "exception": false,
     "start_time": "2022-06-07T20:11:28.186749",
     "status": "completed"
    },
    "tags": []
   },
   "outputs": [],
   "source": [
    "y_train = 1*(y_train==3)\n",
    "y_test = 1*(y_test==3)"
   ]
  },
  {
   "cell_type": "code",
   "execution_count": 13,
   "id": "01e4e969",
   "metadata": {
    "execution": {
     "iopub.execute_input": "2022-06-07T20:11:28.292315Z",
     "iopub.status.busy": "2022-06-07T20:11:28.291051Z",
     "iopub.status.idle": "2022-06-07T20:11:28.305439Z",
     "shell.execute_reply": "2022-06-07T20:11:28.304843Z"
    },
    "papermill": {
     "duration": 0.044568,
     "end_time": "2022-06-07T20:11:28.305564",
     "exception": false,
     "start_time": "2022-06-07T20:11:28.260996",
     "status": "completed"
    },
    "tags": []
   },
   "outputs": [
    {
     "data": {
      "text/plain": [
       "((11982, 28, 28), (1984, 28, 28))"
      ]
     },
     "execution_count": 13,
     "metadata": {},
     "output_type": "execute_result"
    }
   ],
   "source": [
    "X_train.shape, X_test.shape"
   ]
  },
  {
   "cell_type": "markdown",
   "id": "5ccf3f85",
   "metadata": {
    "papermill": {
     "duration": 0.027126,
     "end_time": "2022-06-07T20:11:28.359380",
     "exception": false,
     "start_time": "2022-06-07T20:11:28.332254",
     "status": "completed"
    },
    "tags": []
   },
   "source": [
    "We reshape the data to flatten the image pixels into a set of features or co-variates:"
   ]
  },
  {
   "cell_type": "code",
   "execution_count": 14,
   "id": "5286a4a3",
   "metadata": {
    "execution": {
     "iopub.execute_input": "2022-06-07T20:11:28.420615Z",
     "iopub.status.busy": "2022-06-07T20:11:28.419978Z",
     "iopub.status.idle": "2022-06-07T20:11:28.433558Z",
     "shell.execute_reply": "2022-06-07T20:11:28.434035Z"
    },
    "papermill": {
     "duration": 0.047877,
     "end_time": "2022-06-07T20:11:28.434185",
     "exception": false,
     "start_time": "2022-06-07T20:11:28.386308",
     "status": "completed"
    },
    "tags": []
   },
   "outputs": [
    {
     "data": {
      "text/plain": [
       "((11982, 784), (1984, 784))"
      ]
     },
     "execution_count": 14,
     "metadata": {},
     "output_type": "execute_result"
    }
   ],
   "source": [
    "X_train = X_train.reshape(X_train.shape[0], -1)\n",
    "X_test = X_test.reshape(X_test.shape[0], -1)\n",
    "X_train.shape, X_test.shape"
   ]
  },
  {
   "cell_type": "code",
   "execution_count": 15,
   "id": "73c5f88a",
   "metadata": {
    "execution": {
     "iopub.execute_input": "2022-06-07T20:11:28.497942Z",
     "iopub.status.busy": "2022-06-07T20:11:28.497328Z",
     "iopub.status.idle": "2022-06-07T20:11:28.515383Z",
     "shell.execute_reply": "2022-06-07T20:11:28.514833Z"
    },
    "papermill": {
     "duration": 0.054273,
     "end_time": "2022-06-07T20:11:28.515515",
     "exception": false,
     "start_time": "2022-06-07T20:11:28.461242",
     "status": "completed"
    },
    "tags": []
   },
   "outputs": [],
   "source": [
    "#Impoting functions from 'Kudzu'\n",
    "from kudzu.model import Model\n",
    "from kudzu.train import Learner\n",
    "from kudzu.optim import GD\n",
    "from kudzu.data import Data, Sampler,Dataloader\n",
    "\n",
    "from kudzu.callbacks import AccCallback\n",
    "from kudzu.callbacks import ClfCallback\n",
    "\n",
    "from kudzu.loss import MSE\n",
    "\n",
    "from kudzu.layer import Sigmoid,Relu\n",
    "from kudzu.layer import Affine"
   ]
  },
  {
   "cell_type": "markdown",
   "id": "bc01172a",
   "metadata": {
    "papermill": {
     "duration": 0.027153,
     "end_time": "2022-06-07T20:11:28.570344",
     "exception": false,
     "start_time": "2022-06-07T20:11:28.543191",
     "status": "completed"
    },
    "tags": []
   },
   "source": [
    "### Let us create a `Config` class, to store important parameters. \n",
    "This class essentially plays the role of a dictionary."
   ]
  },
  {
   "cell_type": "code",
   "execution_count": 16,
   "id": "978281aa",
   "metadata": {
    "execution": {
     "iopub.execute_input": "2022-06-07T20:11:28.638874Z",
     "iopub.status.busy": "2022-06-07T20:11:28.635572Z",
     "iopub.status.idle": "2022-06-07T20:11:28.644144Z",
     "shell.execute_reply": "2022-06-07T20:11:28.643632Z"
    },
    "papermill": {
     "duration": 0.047079,
     "end_time": "2022-06-07T20:11:28.644266",
     "exception": false,
     "start_time": "2022-06-07T20:11:28.597187",
     "status": "completed"
    },
    "tags": []
   },
   "outputs": [],
   "source": [
    "class Config:\n",
    "    pass\n",
    "config = Config()\n",
    "config.lr = 0.001\n",
    "config.num_epochs = 250\n",
    "config.bs = 50"
   ]
  },
  {
   "cell_type": "markdown",
   "id": "1385fa59",
   "metadata": {
    "papermill": {
     "duration": 0.026865,
     "end_time": "2022-06-07T20:11:28.698162",
     "exception": false,
     "start_time": "2022-06-07T20:11:28.671297",
     "status": "completed"
    },
    "tags": []
   },
   "source": [
    "### Running Models with the Training data\n",
    "Details about the network layers:\n",
    "- A first affine layer has 784 inputs and does 100 affine transforms. These are followed by a Relu\n",
    "- A second affine layer has 100 inputs from the 100 activations of the past layer, and does 100 affine transforms. These are followed by a Relu\n",
    "- A third affine layer has 100 activations and does 2 affine transformations to create an embedding for visualization. There is no non-linearity here.\n",
    "- A final \"logistic regression\" which has an affine transform from 2 inputs to 1 output, which is squeezed through a sigmoid.\n"
   ]
  },
  {
   "cell_type": "code",
   "execution_count": 17,
   "id": "2b9c66db",
   "metadata": {
    "execution": {
     "iopub.execute_input": "2022-06-07T20:11:28.771522Z",
     "iopub.status.busy": "2022-06-07T20:11:28.770046Z",
     "iopub.status.idle": "2022-06-07T20:11:28.774452Z",
     "shell.execute_reply": "2022-06-07T20:11:28.773695Z"
    },
    "papermill": {
     "duration": 0.049636,
     "end_time": "2022-06-07T20:11:28.774575",
     "exception": false,
     "start_time": "2022-06-07T20:11:28.724939",
     "status": "completed"
    },
    "tags": []
   },
   "outputs": [],
   "source": [
    "data = Data(X_train, y_train.reshape(-1,1))\n",
    "sampler = Sampler(data, config.bs, shuffle=True)\n",
    "\n",
    "dl = Dataloader(data, sampler)\n",
    "\n",
    "opt = GD(config.lr)\n",
    "loss = MSE()"
   ]
  },
  {
   "cell_type": "code",
   "execution_count": 18,
   "id": "b275e4c2",
   "metadata": {
    "execution": {
     "iopub.execute_input": "2022-06-07T20:11:28.847596Z",
     "iopub.status.busy": "2022-06-07T20:11:28.846966Z",
     "iopub.status.idle": "2022-06-07T20:11:28.849685Z",
     "shell.execute_reply": "2022-06-07T20:11:28.849200Z"
    },
    "papermill": {
     "duration": 0.048284,
     "end_time": "2022-06-07T20:11:28.849804",
     "exception": false,
     "start_time": "2022-06-07T20:11:28.801520",
     "status": "completed"
    },
    "tags": []
   },
   "outputs": [],
   "source": [
    "training_data_x = X_train\n",
    "testing_data_x = X_test\n",
    "training_data_y = y_train.reshape(-1,1)\n",
    "testing_data_y = y_test.reshape(-1,1)"
   ]
  },
  {
   "cell_type": "code",
   "execution_count": 19,
   "id": "76951160",
   "metadata": {
    "execution": {
     "iopub.execute_input": "2022-06-07T20:11:28.913517Z",
     "iopub.status.busy": "2022-06-07T20:11:28.912872Z",
     "iopub.status.idle": "2022-06-07T20:11:28.928725Z",
     "shell.execute_reply": "2022-06-07T20:11:28.927828Z"
    },
    "papermill": {
     "duration": 0.052072,
     "end_time": "2022-06-07T20:11:28.928855",
     "exception": false,
     "start_time": "2022-06-07T20:11:28.876783",
     "status": "completed"
    },
    "tags": []
   },
   "outputs": [
    {
     "name": "stdout",
     "output_type": "stream",
     "text": [
      "xavier\n",
      "xavier\n",
      "xavier\n",
      "xavier\n",
      "xavier\n"
     ]
    }
   ],
   "source": [
    "layers = [Affine(\"first\", 784, 100), Relu(\"first\"), Affine(\"second\", 100, 100), Relu(\"second\"), Affine(\"third\", 100, 2), Affine(\"last\", 2, 1), Sigmoid(\"last\")]\n",
    "model_nn = Model(layers)\n",
    "model_lr = Model([Affine(\"logits\", 784, 1), Sigmoid(\"sigmoid\")])"
   ]
  },
  {
   "cell_type": "code",
   "execution_count": 20,
   "id": "6eede77a",
   "metadata": {
    "execution": {
     "iopub.execute_input": "2022-06-07T20:11:29.000029Z",
     "iopub.status.busy": "2022-06-07T20:11:28.999386Z",
     "iopub.status.idle": "2022-06-07T20:11:29.005820Z",
     "shell.execute_reply": "2022-06-07T20:11:29.004971Z"
    },
    "papermill": {
     "duration": 0.049677,
     "end_time": "2022-06-07T20:11:29.005948",
     "exception": false,
     "start_time": "2022-06-07T20:11:28.956271",
     "status": "completed"
    },
    "tags": []
   },
   "outputs": [],
   "source": [
    "nn_learner = Learner(loss, model_nn, opt, config.num_epochs)\n",
    "acc_nn = ClfCallback(nn_learner, config.bs, training_data_x , testing_data_x, training_data_y, testing_data_y)\n",
    "nn_learner.set_callbacks([acc_nn])"
   ]
  },
  {
   "cell_type": "code",
   "execution_count": 21,
   "id": "877b6cc7",
   "metadata": {
    "execution": {
     "iopub.execute_input": "2022-06-07T20:11:29.079374Z",
     "iopub.status.busy": "2022-06-07T20:11:29.066213Z",
     "iopub.status.idle": "2022-06-07T20:11:29.081752Z",
     "shell.execute_reply": "2022-06-07T20:11:29.082220Z"
    },
    "papermill": {
     "duration": 0.048463,
     "end_time": "2022-06-07T20:11:29.082379",
     "exception": false,
     "start_time": "2022-06-07T20:11:29.033916",
     "status": "completed"
    },
    "tags": []
   },
   "outputs": [],
   "source": [
    "lr_learner = Learner(loss, model_lr, opt, config.num_epochs)\n",
    "acc_lr = ClfCallback(lr_learner, config.bs, training_data_x , testing_data_x, training_data_y, testing_data_y)\n",
    "lr_learner.set_callbacks([acc_lr])"
   ]
  },
  {
   "cell_type": "code",
   "execution_count": 22,
   "id": "d9b133c3",
   "metadata": {
    "execution": {
     "iopub.execute_input": "2022-06-07T20:11:29.142038Z",
     "iopub.status.busy": "2022-06-07T20:11:29.141302Z",
     "iopub.status.idle": "2022-06-07T20:12:46.832686Z",
     "shell.execute_reply": "2022-06-07T20:12:46.833583Z"
    },
    "papermill": {
     "duration": 77.723938,
     "end_time": "2022-06-07T20:12:46.833740",
     "exception": false,
     "start_time": "2022-06-07T20:11:29.109802",
     "status": "completed"
    },
    "tags": []
   },
   "outputs": [
    {
     "name": "stdout",
     "output_type": "stream",
     "text": [
      "Epoch 0, Loss 0.2271\n",
      "Training Accuracy: 0.7861, Testing Accuracy: 0.8044\n",
      "\n"
     ]
    },
    {
     "name": "stdout",
     "output_type": "stream",
     "text": [
      "Epoch 10, Loss 0.0644\n",
      "Training Accuracy: 0.9326, Testing Accuracy: 0.9476\n",
      "\n"
     ]
    },
    {
     "name": "stdout",
     "output_type": "stream",
     "text": [
      "Epoch 20, Loss 0.0445\n",
      "Training Accuracy: 0.9508, Testing Accuracy: 0.9622\n",
      "\n"
     ]
    },
    {
     "name": "stdout",
     "output_type": "stream",
     "text": [
      "Epoch 30, Loss 0.037\n",
      "Training Accuracy: 0.9594, Testing Accuracy: 0.9688\n",
      "\n"
     ]
    },
    {
     "name": "stdout",
     "output_type": "stream",
     "text": [
      "Epoch 40, Loss 0.033\n",
      "Training Accuracy: 0.9635, Testing Accuracy: 0.9703\n",
      "\n"
     ]
    },
    {
     "name": "stdout",
     "output_type": "stream",
     "text": [
      "Epoch 50, Loss 0.0303\n",
      "Training Accuracy: 0.9660, Testing Accuracy: 0.9728\n",
      "\n"
     ]
    },
    {
     "name": "stdout",
     "output_type": "stream",
     "text": [
      "Epoch 60, Loss 0.0283\n",
      "Training Accuracy: 0.9680, Testing Accuracy: 0.9728\n",
      "\n"
     ]
    },
    {
     "name": "stdout",
     "output_type": "stream",
     "text": [
      "Epoch 70, Loss 0.0268\n",
      "Training Accuracy: 0.9702, Testing Accuracy: 0.9728\n",
      "\n"
     ]
    },
    {
     "name": "stdout",
     "output_type": "stream",
     "text": [
      "Epoch 80, Loss 0.0255\n",
      "Training Accuracy: 0.9715, Testing Accuracy: 0.9733\n",
      "\n"
     ]
    },
    {
     "name": "stdout",
     "output_type": "stream",
     "text": [
      "Epoch 90, Loss 0.0244\n",
      "Training Accuracy: 0.9724, Testing Accuracy: 0.9743\n",
      "\n"
     ]
    },
    {
     "name": "stdout",
     "output_type": "stream",
     "text": [
      "Epoch 100, Loss 0.0235\n",
      "Training Accuracy: 0.9735, Testing Accuracy: 0.9743\n",
      "\n"
     ]
    },
    {
     "name": "stdout",
     "output_type": "stream",
     "text": [
      "Epoch 110, Loss 0.0226\n",
      "Training Accuracy: 0.9744, Testing Accuracy: 0.9748\n",
      "\n"
     ]
    },
    {
     "name": "stdout",
     "output_type": "stream",
     "text": [
      "Epoch 120, Loss 0.0219\n",
      "Training Accuracy: 0.9753, Testing Accuracy: 0.9768\n",
      "\n"
     ]
    },
    {
     "name": "stdout",
     "output_type": "stream",
     "text": [
      "Epoch 130, Loss 0.0212\n",
      "Training Accuracy: 0.9766, Testing Accuracy: 0.9773\n",
      "\n"
     ]
    },
    {
     "name": "stdout",
     "output_type": "stream",
     "text": [
      "Epoch 140, Loss 0.0205\n",
      "Training Accuracy: 0.9774, Testing Accuracy: 0.9783\n",
      "\n"
     ]
    },
    {
     "name": "stdout",
     "output_type": "stream",
     "text": [
      "Epoch 150, Loss 0.0199\n",
      "Training Accuracy: 0.9781, Testing Accuracy: 0.9788\n",
      "\n"
     ]
    },
    {
     "name": "stdout",
     "output_type": "stream",
     "text": [
      "Epoch 160, Loss 0.0193\n",
      "Training Accuracy: 0.9783, Testing Accuracy: 0.9798\n",
      "\n"
     ]
    },
    {
     "name": "stdout",
     "output_type": "stream",
     "text": [
      "Epoch 170, Loss 0.0188\n",
      "Training Accuracy: 0.9787, Testing Accuracy: 0.9803\n",
      "\n"
     ]
    },
    {
     "name": "stdout",
     "output_type": "stream",
     "text": [
      "Epoch 180, Loss 0.0183\n",
      "Training Accuracy: 0.9797, Testing Accuracy: 0.9803\n",
      "\n"
     ]
    },
    {
     "name": "stdout",
     "output_type": "stream",
     "text": [
      "Epoch 190, Loss 0.0178\n",
      "Training Accuracy: 0.9801, Testing Accuracy: 0.9793\n",
      "\n"
     ]
    },
    {
     "name": "stdout",
     "output_type": "stream",
     "text": [
      "Epoch 200, Loss 0.0173\n",
      "Training Accuracy: 0.9806, Testing Accuracy: 0.9793\n",
      "\n"
     ]
    },
    {
     "name": "stdout",
     "output_type": "stream",
     "text": [
      "Epoch 210, Loss 0.0169\n",
      "Training Accuracy: 0.9814, Testing Accuracy: 0.9798\n",
      "\n"
     ]
    },
    {
     "name": "stdout",
     "output_type": "stream",
     "text": [
      "Epoch 220, Loss 0.0164\n",
      "Training Accuracy: 0.9823, Testing Accuracy: 0.9798\n",
      "\n"
     ]
    },
    {
     "name": "stdout",
     "output_type": "stream",
     "text": [
      "Epoch 230, Loss 0.016\n",
      "Training Accuracy: 0.9828, Testing Accuracy: 0.9798\n",
      "\n"
     ]
    },
    {
     "name": "stdout",
     "output_type": "stream",
     "text": [
      "Epoch 240, Loss 0.0156\n",
      "Training Accuracy: 0.9835, Testing Accuracy: 0.9798\n",
      "\n"
     ]
    },
    {
     "data": {
      "text/plain": [
       "0.006080762607474026"
      ]
     },
     "execution_count": 22,
     "metadata": {},
     "output_type": "execute_result"
    }
   ],
   "source": [
    "nn_learner.train_loop(dl)"
   ]
  },
  {
   "cell_type": "code",
   "execution_count": 23,
   "id": "e0163366",
   "metadata": {
    "execution": {
     "iopub.execute_input": "2022-06-07T20:12:46.932127Z",
     "iopub.status.busy": "2022-06-07T20:12:46.931508Z",
     "iopub.status.idle": "2022-06-07T20:13:01.011213Z",
     "shell.execute_reply": "2022-06-07T20:13:01.012077Z"
    },
    "papermill": {
     "duration": 14.143585,
     "end_time": "2022-06-07T20:13:01.012241",
     "exception": false,
     "start_time": "2022-06-07T20:12:46.868656",
     "status": "completed"
    },
    "tags": []
   },
   "outputs": [
    {
     "name": "stdout",
     "output_type": "stream",
     "text": [
      "Epoch 0, Loss 0.2265\n",
      "Training Accuracy: 0.7477, Testing Accuracy: 0.7369\n",
      "\n"
     ]
    },
    {
     "name": "stdout",
     "output_type": "stream",
     "text": [
      "Epoch 10, Loss 0.0998\n",
      "Training Accuracy: 0.9139, Testing Accuracy: 0.9254\n",
      "\n"
     ]
    },
    {
     "name": "stdout",
     "output_type": "stream",
     "text": [
      "Epoch 20, Loss 0.0776\n",
      "Training Accuracy: 0.9281, Testing Accuracy: 0.9420\n",
      "\n"
     ]
    },
    {
     "name": "stdout",
     "output_type": "stream",
     "text": [
      "Epoch 30, Loss 0.0672\n",
      "Training Accuracy: 0.9366, Testing Accuracy: 0.9476\n",
      "\n"
     ]
    },
    {
     "name": "stdout",
     "output_type": "stream",
     "text": [
      "Epoch 40, Loss 0.0609\n",
      "Training Accuracy: 0.9414, Testing Accuracy: 0.9551\n",
      "\n"
     ]
    },
    {
     "name": "stdout",
     "output_type": "stream",
     "text": [
      "Epoch 50, Loss 0.0566\n",
      "Training Accuracy: 0.9446, Testing Accuracy: 0.9577\n",
      "\n"
     ]
    },
    {
     "name": "stdout",
     "output_type": "stream",
     "text": [
      "Epoch 60, Loss 0.0534\n",
      "Training Accuracy: 0.9471, Testing Accuracy: 0.9597\n",
      "\n"
     ]
    },
    {
     "name": "stdout",
     "output_type": "stream",
     "text": [
      "Epoch 70, Loss 0.0509\n",
      "Training Accuracy: 0.9489, Testing Accuracy: 0.9602\n",
      "\n"
     ]
    },
    {
     "name": "stdout",
     "output_type": "stream",
     "text": [
      "Epoch 80, Loss 0.0489\n",
      "Training Accuracy: 0.9509, Testing Accuracy: 0.9602\n",
      "\n"
     ]
    },
    {
     "name": "stdout",
     "output_type": "stream",
     "text": [
      "Epoch 90, Loss 0.0473\n",
      "Training Accuracy: 0.9522, Testing Accuracy: 0.9607\n",
      "\n"
     ]
    },
    {
     "name": "stdout",
     "output_type": "stream",
     "text": [
      "Epoch 100, Loss 0.0459\n",
      "Training Accuracy: 0.9537, Testing Accuracy: 0.9622\n",
      "\n"
     ]
    },
    {
     "name": "stdout",
     "output_type": "stream",
     "text": [
      "Epoch 110, Loss 0.0447\n",
      "Training Accuracy: 0.9541, Testing Accuracy: 0.9632\n",
      "\n"
     ]
    },
    {
     "name": "stdout",
     "output_type": "stream",
     "text": [
      "Epoch 120, Loss 0.0436\n",
      "Training Accuracy: 0.9551, Testing Accuracy: 0.9642\n",
      "\n"
     ]
    },
    {
     "name": "stdout",
     "output_type": "stream",
     "text": [
      "Epoch 130, Loss 0.0427\n",
      "Training Accuracy: 0.9561, Testing Accuracy: 0.9642\n",
      "\n"
     ]
    },
    {
     "name": "stdout",
     "output_type": "stream",
     "text": [
      "Epoch 140, Loss 0.0419\n",
      "Training Accuracy: 0.9573, Testing Accuracy: 0.9647\n",
      "\n"
     ]
    },
    {
     "name": "stdout",
     "output_type": "stream",
     "text": [
      "Epoch 150, Loss 0.0412\n",
      "Training Accuracy: 0.9581, Testing Accuracy: 0.9647\n",
      "\n"
     ]
    },
    {
     "name": "stdout",
     "output_type": "stream",
     "text": [
      "Epoch 160, Loss 0.0405\n",
      "Training Accuracy: 0.9585, Testing Accuracy: 0.9657\n",
      "\n"
     ]
    },
    {
     "name": "stdout",
     "output_type": "stream",
     "text": [
      "Epoch 170, Loss 0.0399\n",
      "Training Accuracy: 0.9589, Testing Accuracy: 0.9657\n",
      "\n"
     ]
    },
    {
     "name": "stdout",
     "output_type": "stream",
     "text": [
      "Epoch 180, Loss 0.0393\n",
      "Training Accuracy: 0.9596, Testing Accuracy: 0.9657\n",
      "\n"
     ]
    },
    {
     "name": "stdout",
     "output_type": "stream",
     "text": [
      "Epoch 190, Loss 0.0388\n",
      "Training Accuracy: 0.9600, Testing Accuracy: 0.9657\n",
      "\n"
     ]
    },
    {
     "name": "stdout",
     "output_type": "stream",
     "text": [
      "Epoch 200, Loss 0.0383\n",
      "Training Accuracy: 0.9603, Testing Accuracy: 0.9662\n",
      "\n"
     ]
    },
    {
     "name": "stdout",
     "output_type": "stream",
     "text": [
      "Epoch 210, Loss 0.0379\n",
      "Training Accuracy: 0.9605, Testing Accuracy: 0.9662\n",
      "\n"
     ]
    },
    {
     "name": "stdout",
     "output_type": "stream",
     "text": [
      "Epoch 220, Loss 0.0375\n",
      "Training Accuracy: 0.9604, Testing Accuracy: 0.9662\n",
      "\n"
     ]
    },
    {
     "name": "stdout",
     "output_type": "stream",
     "text": [
      "Epoch 230, Loss 0.0371\n",
      "Training Accuracy: 0.9606, Testing Accuracy: 0.9667\n",
      "\n"
     ]
    },
    {
     "name": "stdout",
     "output_type": "stream",
     "text": [
      "Epoch 240, Loss 0.0368\n",
      "Training Accuracy: 0.9609, Testing Accuracy: 0.9667\n",
      "\n"
     ]
    },
    {
     "data": {
      "text/plain": [
       "0.037188517414298364"
      ]
     },
     "execution_count": 23,
     "metadata": {},
     "output_type": "execute_result"
    }
   ],
   "source": [
    "lr_learner.train_loop(dl)"
   ]
  },
  {
   "cell_type": "code",
   "execution_count": 24,
   "id": "ca410940",
   "metadata": {
    "execution": {
     "iopub.execute_input": "2022-06-07T20:13:01.111082Z",
     "iopub.status.busy": "2022-06-07T20:13:01.110445Z",
     "iopub.status.idle": "2022-06-07T20:13:01.328937Z",
     "shell.execute_reply": "2022-06-07T20:13:01.329403Z"
    },
    "papermill": {
     "duration": 0.275244,
     "end_time": "2022-06-07T20:13:01.329552",
     "exception": false,
     "start_time": "2022-06-07T20:13:01.054308",
     "status": "completed"
    },
    "tags": []
   },
   "outputs": [
    {
     "data": {
      "text/plain": [
       "<matplotlib.legend.Legend at 0x7f09a8c52a20>"
      ]
     },
     "execution_count": 24,
     "metadata": {},
     "output_type": "execute_result"
    },
    {
     "data": {
      "image/png": "[encoded data removed]",
      "text/plain": [
       "<Figure size 1080x720 with 1 Axes>"
      ]
     },
     "metadata": {
      "needs_background": "light"
     },
     "output_type": "display_data"
    }
   ],
   "source": [
    "#comparing the results of NN and LR\n",
    "plt.figure(figsize=(15,10))\n",
    "\n",
    "# Neural Network plots\n",
    "plt.plot(acc_nn.accuracies, 'r-', label = \"Training Accuracies - NN\")\n",
    "plt.plot(acc_nn.test_accuracies, 'g-', label = \"Testing Accuracies - NN\")\n",
    "\n",
    "# Logistic Regression plots\n",
    "plt.plot(acc_lr.accuracies, 'k-', label = \"Training Accuracies - LR\")\n",
    "plt.plot(acc_lr.test_accuracies, 'b-', label = \"Testing Accuracies - LR\")\n",
    "plt.legend()"
   ]
  },
  {
   "cell_type": "markdown",
   "id": "80dfb35c",
   "metadata": {
    "papermill": {
     "duration": 0.042321,
     "end_time": "2022-06-07T20:13:01.414180",
     "exception": false,
     "start_time": "2022-06-07T20:13:01.371859",
     "status": "completed"
    },
    "tags": []
   },
   "source": [
    "#### Plotting the outputs of this layer of the NN.\n"
   ]
  },
  {
   "cell_type": "code",
   "execution_count": 25,
   "id": "45eb2ff5",
   "metadata": {
    "execution": {
     "iopub.execute_input": "2022-06-07T20:13:01.503504Z",
     "iopub.status.busy": "2022-06-07T20:13:01.502900Z",
     "iopub.status.idle": "2022-06-07T20:13:01.523061Z",
     "shell.execute_reply": "2022-06-07T20:13:01.523533Z"
    },
    "papermill": {
     "duration": 0.067059,
     "end_time": "2022-06-07T20:13:01.523675",
     "exception": false,
     "start_time": "2022-06-07T20:13:01.456616",
     "status": "completed"
    },
    "tags": []
   },
   "outputs": [],
   "source": [
    "new_model = Model(layers[:-2])\n",
    "testing_plot = new_model(testing_data_x)"
   ]
  },
  {
   "cell_type": "code",
   "execution_count": 26,
   "id": "4c0a5485",
   "metadata": {
    "execution": {
     "iopub.execute_input": "2022-06-07T20:13:01.623345Z",
     "iopub.status.busy": "2022-06-07T20:13:01.622708Z",
     "iopub.status.idle": "2022-06-07T20:13:01.833174Z",
     "shell.execute_reply": "2022-06-07T20:13:01.833640Z"
    },
    "papermill": {
     "duration": 0.2643,
     "end_time": "2022-06-07T20:13:01.833789",
     "exception": false,
     "start_time": "2022-06-07T20:13:01.569489",
     "status": "completed"
    },
    "tags": []
   },
   "outputs": [
    {
     "data": {
      "text/plain": [
       "Text(0.5, 1.0, 'Outputs')"
      ]
     },
     "execution_count": 26,
     "metadata": {},
     "output_type": "execute_result"
    },
    {
     "data": {
      "image/png": "[encoded data removed]",
      "text/plain": [
       "<Figure size 576x504 with 1 Axes>"
      ]
     },
     "metadata": {
      "needs_background": "light"
     },
     "output_type": "display_data"
    }
   ],
   "source": [
    "# Plotting the scatter plot of points and color coding by class\n",
    "plt.figure(figsize=(8,7))\n",
    "plt.scatter(testing_plot[:,0], testing_plot[:,1], alpha = 0.1, c = y_test.ravel());\n",
    "plt.title('Outputs')"
   ]
  },
  {
   "cell_type": "markdown",
   "id": "a74fcf8f",
   "metadata": {
    "papermill": {
     "duration": 0.04495,
     "end_time": "2022-06-07T20:13:01.923952",
     "exception": false,
     "start_time": "2022-06-07T20:13:01.879002",
     "status": "completed"
    },
    "tags": []
   },
   "source": [
    "Probability contours"
   ]
  },
  {
   "cell_type": "code",
   "execution_count": 27,
   "id": "d0afc8e3",
   "metadata": {
    "execution": {
     "iopub.execute_input": "2022-06-07T20:13:02.023351Z",
     "iopub.status.busy": "2022-06-07T20:13:02.018320Z",
     "iopub.status.idle": "2022-06-07T20:13:02.031018Z",
     "shell.execute_reply": "2022-06-07T20:13:02.030518Z"
    },
    "papermill": {
     "duration": 0.061656,
     "end_time": "2022-06-07T20:13:02.031141",
     "exception": false,
     "start_time": "2022-06-07T20:13:01.969485",
     "status": "completed"
    },
    "tags": []
   },
   "outputs": [],
   "source": [
    "model_prob = Model(layers[-2:]) "
   ]
  },
  {
   "cell_type": "code",
   "execution_count": 28,
   "id": "9b96e238",
   "metadata": {
    "execution": {
     "iopub.execute_input": "2022-06-07T20:13:02.139978Z",
     "iopub.status.busy": "2022-06-07T20:13:02.130971Z",
     "iopub.status.idle": "2022-06-07T20:13:02.145641Z",
     "shell.execute_reply": "2022-06-07T20:13:02.146095Z"
    },
    "papermill": {
     "duration": 0.069188,
     "end_time": "2022-06-07T20:13:02.146244",
     "exception": false,
     "start_time": "2022-06-07T20:13:02.077056",
     "status": "completed"
    },
    "tags": []
   },
   "outputs": [],
   "source": [
    "#creating the x and y ranges according to the above generated plot.\n",
    "x_range = np.linspace(-4, 1, 100) \n",
    "y_range = np.linspace(-6, 6, 100) \n",
    "x_grid, y_grid = np.meshgrid(x_range, y_range) # x_grid and y_grig are of size 100 X 100\n",
    "\n",
    "# converting x_grid and y_grid to continuous arrays\n",
    "x_gridflat = np.ravel(x_grid)\n",
    "y_gridflat = np.ravel(y_grid)\n",
    "\n",
    "# The last layer of the current model takes two columns as input. Hence transpose of np.vstack() is required.\n",
    "X = np.vstack((x_gridflat, y_gridflat)).T\n",
    "\n",
    "prob_contour = model_prob(X).reshape(100,100) "
   ]
  },
  {
   "cell_type": "code",
   "execution_count": 29,
   "id": "da72499a",
   "metadata": {
    "execution": {
     "iopub.execute_input": "2022-06-07T20:13:02.281165Z",
     "iopub.status.busy": "2022-06-07T20:13:02.280323Z",
     "iopub.status.idle": "2022-06-07T20:13:02.529084Z",
     "shell.execute_reply": "2022-06-07T20:13:02.528161Z"
    },
    "papermill": {
     "duration": 0.299811,
     "end_time": "2022-06-07T20:13:02.529224",
     "exception": false,
     "start_time": "2022-06-07T20:13:02.229413",
     "status": "completed"
    },
    "tags": []
   },
   "outputs": [
    {
     "data": {
      "image/png": "[encoded data removed]",
      "text/plain": [
       "<Figure size 720x648 with 1 Axes>"
      ]
     },
     "metadata": {
      "needs_background": "light"
     },
     "output_type": "display_data"
    }
   ],
   "source": [
    "plt.figure(figsize=(10,9))\n",
    "plt.scatter(testing_plot[:,0], testing_plot[:,1], alpha = 0.1, c = y_test.ravel())\n",
    "contours = plt.contour(x_grid,y_grid,prob_contour)\n",
    "plt.title('Probability Contours')\n",
    "plt.clabel(contours, inline = True );"
   ]
  },
  {
   "cell_type": "code",
   "execution_count": null,
   "id": "e81b4ac7",
   "metadata": {
    "papermill": {
     "duration": 0.048369,
     "end_time": "2022-06-07T20:13:02.626836",
     "exception": false,
     "start_time": "2022-06-07T20:13:02.578467",
     "status": "completed"
    },
    "tags": []
   },
   "outputs": [],
   "source": []
  }
 ],
 "metadata": {
  "kernelspec": {
   "display_name": "Python 3",
   "language": "python",
   "name": "python3"
  },
  "language_info": {
   "codemirror_mode": {
    "name": "ipython",
    "version": 3
   },
   "file_extension": ".py",
   "mimetype": "text/x-python",
   "name": "python",
   "nbconvert_exporter": "python",
   "pygments_lexer": "ipython3",
   "version": "3.6.15"
  },
  "papermill": {
   "default_parameters": {},
   "duration": 100.376511,
   "end_time": "2022-06-07T20:13:03.095369",
   "environment_variables": {},
   "exception": null,
   "input_path": "2020-08-11-part2.ipynb",
   "output_path": "2020-08-11-part2.ipynb",
   "parameters": {},
   "start_time": "2022-06-07T20:11:22.718858",
   "version": "2.3.3"
  }
 },
 "nbformat": 4,
 "nbformat_minor": 5
}