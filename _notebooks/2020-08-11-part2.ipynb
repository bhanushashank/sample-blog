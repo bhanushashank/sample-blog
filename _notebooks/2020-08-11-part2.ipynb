{
 "cells": [
  {
   "cell_type": "markdown",
   "id": "98380cd3",
   "metadata": {
    "papermill": {
     "duration": 0.030041,
     "end_time": "2022-07-07T10:14:15.221036",
     "exception": false,
     "start_time": "2022-07-07T10:14:15.190995",
     "status": "completed"
    },
    "tags": []
   },
   "source": [
    "# Distinguish Your Own Digits (DYOD)"
   ]
  },
  {
   "cell_type": "markdown",
   "id": "ef31240d",
   "metadata": {
    "papermill": {
     "duration": 0.023932,
     "end_time": "2022-07-07T10:14:15.269757",
     "exception": false,
     "start_time": "2022-07-07T10:14:15.245825",
     "status": "completed"
    },
    "tags": []
   },
   "source": [
    "You are going to write a classifier that distinguishes between the number 3 and number 8."
   ]
  },
  {
   "cell_type": "code",
   "execution_count": 1,
   "id": "b15c8646",
   "metadata": {
    "execution": {
     "iopub.execute_input": "2022-07-07T10:14:15.328298Z",
     "iopub.status.busy": "2022-07-07T10:14:15.327676Z",
     "iopub.status.idle": "2022-07-07T10:14:15.338102Z",
     "shell.execute_reply": "2022-07-07T10:14:15.338606Z"
    },
    "papermill": {
     "duration": 0.044993,
     "end_time": "2022-07-07T10:14:15.338770",
     "exception": false,
     "start_time": "2022-07-07T10:14:15.293777",
     "status": "completed"
    },
    "tags": []
   },
   "outputs": [],
   "source": [
    "%load_ext autoreload\n",
    "%autoreload 2"
   ]
  },
  {
   "cell_type": "code",
   "execution_count": 2,
   "id": "22ef38dc",
   "metadata": {
    "execution": {
     "iopub.execute_input": "2022-07-07T10:14:15.395442Z",
     "iopub.status.busy": "2022-07-07T10:14:15.394839Z",
     "iopub.status.idle": "2022-07-07T10:14:15.936004Z",
     "shell.execute_reply": "2022-07-07T10:14:15.935492Z"
    },
    "papermill": {
     "duration": 0.573196,
     "end_time": "2022-07-07T10:14:15.936131",
     "exception": false,
     "start_time": "2022-07-07T10:14:15.362935",
     "status": "completed"
    },
    "tags": []
   },
   "outputs": [],
   "source": [
    "%matplotlib inline\n",
    "import numpy as np\n",
    "import matplotlib.pyplot as plt\n",
    "import pandas as pd"
   ]
  },
  {
   "cell_type": "markdown",
   "id": "ba036198",
   "metadata": {
    "papermill": {
     "duration": 0.024375,
     "end_time": "2022-07-07T10:14:15.984486",
     "exception": false,
     "start_time": "2022-07-07T10:14:15.960111",
     "status": "completed"
    },
    "tags": []
   },
   "source": [
    "From the command line run `pip install mnist`. This is a library that will help you bring down the mnist dataset. If you run this from a notebook, you need to put  `!pip install mnist` in a cell by itself."
   ]
  },
  {
   "cell_type": "code",
   "execution_count": 3,
   "id": "bb6ad8a1",
   "metadata": {
    "execution": {
     "iopub.execute_input": "2022-07-07T10:14:16.036781Z",
     "iopub.status.busy": "2022-07-07T10:14:16.036180Z",
     "iopub.status.idle": "2022-07-07T10:14:17.713761Z",
     "shell.execute_reply": "2022-07-07T10:14:17.713193Z"
    },
    "papermill": {
     "duration": 1.705274,
     "end_time": "2022-07-07T10:14:17.713893",
     "exception": false,
     "start_time": "2022-07-07T10:14:16.008619",
     "status": "completed"
    },
    "tags": []
   },
   "outputs": [
    {
     "name": "stdout",
     "output_type": "stream",
     "text": [
      "Collecting mnist\r\n"
     ]
    },
    {
     "name": "stdout",
     "output_type": "stream",
     "text": [
      "  Downloading mnist-0.2.2-py2.py3-none-any.whl (3.5 kB)\r\n",
      "Requirement already satisfied: numpy in /opt/hostedtoolcache/Python/3.6.15/x64/lib/python3.6/site-packages (from mnist) (1.19.5)\r\n"
     ]
    },
    {
     "name": "stdout",
     "output_type": "stream",
     "text": [
      "Installing collected packages: mnist\r\n"
     ]
    },
    {
     "name": "stdout",
     "output_type": "stream",
     "text": [
      "Successfully installed mnist-0.2.2\r\n"
     ]
    }
   ],
   "source": [
    "!pip install mnist"
   ]
  },
  {
   "cell_type": "markdown",
   "id": "69df9c9a",
   "metadata": {
    "papermill": {
     "duration": 0.025624,
     "end_time": "2022-07-07T10:14:17.764842",
     "exception": false,
     "start_time": "2022-07-07T10:14:17.739218",
     "status": "completed"
    },
    "tags": []
   },
   "source": [
    "## Preparing the Data"
   ]
  },
  {
   "cell_type": "code",
   "execution_count": 4,
   "id": "7f69d806",
   "metadata": {
    "execution": {
     "iopub.execute_input": "2022-07-07T10:14:17.827336Z",
     "iopub.status.busy": "2022-07-07T10:14:17.826721Z",
     "iopub.status.idle": "2022-07-07T10:14:17.835914Z",
     "shell.execute_reply": "2022-07-07T10:14:17.835421Z"
    },
    "papermill": {
     "duration": 0.046122,
     "end_time": "2022-07-07T10:14:17.836031",
     "exception": false,
     "start_time": "2022-07-07T10:14:17.789909",
     "status": "completed"
    },
    "tags": []
   },
   "outputs": [],
   "source": [
    "import mnist"
   ]
  },
  {
   "cell_type": "code",
   "execution_count": 5,
   "id": "a411e44f",
   "metadata": {
    "execution": {
     "iopub.execute_input": "2022-07-07T10:14:17.890227Z",
     "iopub.status.busy": "2022-07-07T10:14:17.889594Z",
     "iopub.status.idle": "2022-07-07T10:14:18.418319Z",
     "shell.execute_reply": "2022-07-07T10:14:18.417121Z"
    },
    "papermill": {
     "duration": 0.557297,
     "end_time": "2022-07-07T10:14:18.418455",
     "exception": false,
     "start_time": "2022-07-07T10:14:17.861158",
     "status": "completed"
    },
    "tags": []
   },
   "outputs": [],
   "source": [
    "train_images = mnist.train_images()\n",
    "train_labels = mnist.train_labels()"
   ]
  },
  {
   "cell_type": "code",
   "execution_count": 6,
   "id": "dceab3a5",
   "metadata": {
    "execution": {
     "iopub.execute_input": "2022-07-07T10:14:18.475175Z",
     "iopub.status.busy": "2022-07-07T10:14:18.474478Z",
     "iopub.status.idle": "2022-07-07T10:14:18.488896Z",
     "shell.execute_reply": "2022-07-07T10:14:18.488431Z"
    },
    "papermill": {
     "duration": 0.04531,
     "end_time": "2022-07-07T10:14:18.489013",
     "exception": false,
     "start_time": "2022-07-07T10:14:18.443703",
     "status": "completed"
    },
    "tags": []
   },
   "outputs": [
    {
     "data": {
      "text/plain": [
       "((60000, 28, 28), (60000,))"
      ]
     },
     "execution_count": 6,
     "metadata": {},
     "output_type": "execute_result"
    }
   ],
   "source": [
    "train_images.shape, train_labels.shape"
   ]
  },
  {
   "cell_type": "code",
   "execution_count": 7,
   "id": "f50dc2bb",
   "metadata": {
    "execution": {
     "iopub.execute_input": "2022-07-07T10:14:18.543998Z",
     "iopub.status.busy": "2022-07-07T10:14:18.543415Z",
     "iopub.status.idle": "2022-07-07T10:14:18.683097Z",
     "shell.execute_reply": "2022-07-07T10:14:18.682488Z"
    },
    "papermill": {
     "duration": 0.169006,
     "end_time": "2022-07-07T10:14:18.683274",
     "exception": false,
     "start_time": "2022-07-07T10:14:18.514268",
     "status": "completed"
    },
    "tags": []
   },
   "outputs": [],
   "source": [
    "test_images = mnist.test_images()\n",
    "test_labels = mnist.test_labels()"
   ]
  },
  {
   "cell_type": "code",
   "execution_count": 8,
   "id": "fc38cf1b",
   "metadata": {
    "execution": {
     "iopub.execute_input": "2022-07-07T10:14:18.740864Z",
     "iopub.status.busy": "2022-07-07T10:14:18.740252Z",
     "iopub.status.idle": "2022-07-07T10:14:18.752501Z",
     "shell.execute_reply": "2022-07-07T10:14:18.753061Z"
    },
    "papermill": {
     "duration": 0.043393,
     "end_time": "2022-07-07T10:14:18.753193",
     "exception": false,
     "start_time": "2022-07-07T10:14:18.709800",
     "status": "completed"
    },
    "tags": []
   },
   "outputs": [
    {
     "data": {
      "text/plain": [
       "((10000, 28, 28), (10000,))"
      ]
     },
     "execution_count": 8,
     "metadata": {},
     "output_type": "execute_result"
    }
   ],
   "source": [
    "test_images.shape, test_labels.shape"
   ]
  },
  {
   "cell_type": "code",
   "execution_count": 9,
   "id": "f9ed8fe0",
   "metadata": {
    "execution": {
     "iopub.execute_input": "2022-07-07T10:14:18.808621Z",
     "iopub.status.busy": "2022-07-07T10:14:18.808030Z",
     "iopub.status.idle": "2022-07-07T10:14:18.947254Z",
     "shell.execute_reply": "2022-07-07T10:14:18.947711Z"
    },
    "papermill": {
     "duration": 0.169111,
     "end_time": "2022-07-07T10:14:18.947850",
     "exception": false,
     "start_time": "2022-07-07T10:14:18.778739",
     "status": "completed"
    },
    "tags": []
   },
   "outputs": [
    {
     "name": "stdout",
     "output_type": "stream",
     "text": [
      "2\n"
     ]
    },
    {
     "data": {
      "text/plain": [
       "<matplotlib.image.AxesImage at 0x7f20ea225588>"
      ]
     },
     "execution_count": 9,
     "metadata": {},
     "output_type": "execute_result"
    },
    {
     "data": {
      "image/png": "[encoded data removed]",
      "text/plain": [
       "<Figure size 432x288 with 1 Axes>"
      ]
     },
     "metadata": {
      "needs_background": "light"
     },
     "output_type": "display_data"
    }
   ],
   "source": [
    "image_index = 7776 # You may select anything up to 60,000\n",
    "print(train_labels[image_index]) \n",
    "plt.imshow(train_images[image_index], cmap='Greys')"
   ]
  },
  {
   "cell_type": "markdown",
   "id": "a8d2388d",
   "metadata": {
    "papermill": {
     "duration": 0.027194,
     "end_time": "2022-07-07T10:14:19.002437",
     "exception": false,
     "start_time": "2022-07-07T10:14:18.975243",
     "status": "completed"
    },
    "tags": []
   },
   "source": [
    "## Filter data to get 3 and 8 out"
   ]
  },
  {
   "cell_type": "code",
   "execution_count": 10,
   "id": "776f7fc7",
   "metadata": {
    "execution": {
     "iopub.execute_input": "2022-07-07T10:14:19.060629Z",
     "iopub.status.busy": "2022-07-07T10:14:19.060018Z",
     "iopub.status.idle": "2022-07-07T10:14:19.076472Z",
     "shell.execute_reply": "2022-07-07T10:14:19.076930Z"
    },
    "papermill": {
     "duration": 0.047973,
     "end_time": "2022-07-07T10:14:19.077070",
     "exception": false,
     "start_time": "2022-07-07T10:14:19.029097",
     "status": "completed"
    },
    "tags": []
   },
   "outputs": [],
   "source": [
    "train_filter = np.where((train_labels == 3 ) | (train_labels == 8))\n",
    "test_filter = np.where((test_labels == 3) | (test_labels == 8))\n",
    "X_train, y_train = train_images[train_filter], train_labels[train_filter]\n",
    "X_test, y_test = test_images[test_filter], test_labels[test_filter]"
   ]
  },
  {
   "cell_type": "markdown",
   "id": "948f0b7e",
   "metadata": {
    "papermill": {
     "duration": 0.026913,
     "end_time": "2022-07-07T10:14:19.130789",
     "exception": false,
     "start_time": "2022-07-07T10:14:19.103876",
     "status": "completed"
    },
    "tags": []
   },
   "source": [
    "We normalize the pizel values in the 0 to 1 range"
   ]
  },
  {
   "cell_type": "code",
   "execution_count": 11,
   "id": "ee4c2166",
   "metadata": {
    "execution": {
     "iopub.execute_input": "2022-07-07T10:14:19.198578Z",
     "iopub.status.busy": "2022-07-07T10:14:19.195867Z",
     "iopub.status.idle": "2022-07-07T10:14:19.234809Z",
     "shell.execute_reply": "2022-07-07T10:14:19.234294Z"
    },
    "papermill": {
     "duration": 0.077405,
     "end_time": "2022-07-07T10:14:19.234928",
     "exception": false,
     "start_time": "2022-07-07T10:14:19.157523",
     "status": "completed"
    },
    "tags": []
   },
   "outputs": [],
   "source": [
    "X_train = X_train/255.\n",
    "X_test = X_test/255."
   ]
  },
  {
   "cell_type": "markdown",
   "id": "ddcf4fab",
   "metadata": {
    "papermill": {
     "duration": 0.026623,
     "end_time": "2022-07-07T10:14:19.289140",
     "exception": false,
     "start_time": "2022-07-07T10:14:19.262517",
     "status": "completed"
    },
    "tags": []
   },
   "source": [
    "And setup the labels as 1 (when the digit is 3) and 0 (when the digit is 8)"
   ]
  },
  {
   "cell_type": "code",
   "execution_count": 12,
   "id": "7dc908f2",
   "metadata": {
    "execution": {
     "iopub.execute_input": "2022-07-07T10:14:19.358816Z",
     "iopub.status.busy": "2022-07-07T10:14:19.346518Z",
     "iopub.status.idle": "2022-07-07T10:14:19.362485Z",
     "shell.execute_reply": "2022-07-07T10:14:19.361366Z"
    },
    "papermill": {
     "duration": 0.046846,
     "end_time": "2022-07-07T10:14:19.362605",
     "exception": false,
     "start_time": "2022-07-07T10:14:19.315759",
     "status": "completed"
    },
    "tags": []
   },
   "outputs": [],
   "source": [
    "y_train = 1*(y_train==3)\n",
    "y_test = 1*(y_test==3)"
   ]
  },
  {
   "cell_type": "code",
   "execution_count": 13,
   "id": "01e4e969",
   "metadata": {
    "execution": {
     "iopub.execute_input": "2022-07-07T10:14:19.430669Z",
     "iopub.status.busy": "2022-07-07T10:14:19.426035Z",
     "iopub.status.idle": "2022-07-07T10:14:19.435487Z",
     "shell.execute_reply": "2022-07-07T10:14:19.435938Z"
    },
    "papermill": {
     "duration": 0.046786,
     "end_time": "2022-07-07T10:14:19.436070",
     "exception": false,
     "start_time": "2022-07-07T10:14:19.389284",
     "status": "completed"
    },
    "tags": []
   },
   "outputs": [
    {
     "data": {
      "text/plain": [
       "((11982, 28, 28), (1984, 28, 28))"
      ]
     },
     "execution_count": 13,
     "metadata": {},
     "output_type": "execute_result"
    }
   ],
   "source": [
    "X_train.shape, X_test.shape"
   ]
  },
  {
   "cell_type": "markdown",
   "id": "5ccf3f85",
   "metadata": {
    "papermill": {
     "duration": 0.026874,
     "end_time": "2022-07-07T10:14:19.489774",
     "exception": false,
     "start_time": "2022-07-07T10:14:19.462900",
     "status": "completed"
    },
    "tags": []
   },
   "source": [
    "We reshape the data to flatten the image pixels into a set of features or co-variates:"
   ]
  },
  {
   "cell_type": "code",
   "execution_count": 14,
   "id": "5286a4a3",
   "metadata": {
    "execution": {
     "iopub.execute_input": "2022-07-07T10:14:19.553445Z",
     "iopub.status.busy": "2022-07-07T10:14:19.547645Z",
     "iopub.status.idle": "2022-07-07T10:14:19.566055Z",
     "shell.execute_reply": "2022-07-07T10:14:19.564940Z"
    },
    "papermill": {
     "duration": 0.049438,
     "end_time": "2022-07-07T10:14:19.566176",
     "exception": false,
     "start_time": "2022-07-07T10:14:19.516738",
     "status": "completed"
    },
    "tags": []
   },
   "outputs": [
    {
     "data": {
      "text/plain": [
       "((11982, 784), (1984, 784))"
      ]
     },
     "execution_count": 14,
     "metadata": {},
     "output_type": "execute_result"
    }
   ],
   "source": [
    "X_train = X_train.reshape(X_train.shape[0], -1)\n",
    "X_test = X_test.reshape(X_test.shape[0], -1)\n",
    "X_train.shape, X_test.shape"
   ]
  },
  {
   "cell_type": "code",
   "execution_count": 15,
   "id": "73c5f88a",
   "metadata": {
    "execution": {
     "iopub.execute_input": "2022-07-07T10:14:19.625374Z",
     "iopub.status.busy": "2022-07-07T10:14:19.624767Z",
     "iopub.status.idle": "2022-07-07T10:14:19.644532Z",
     "shell.execute_reply": "2022-07-07T10:14:19.643982Z"
    },
    "papermill": {
     "duration": 0.051221,
     "end_time": "2022-07-07T10:14:19.644661",
     "exception": false,
     "start_time": "2022-07-07T10:14:19.593440",
     "status": "completed"
    },
    "tags": []
   },
   "outputs": [],
   "source": [
    "#Impoting functions from 'Kudzu'\n",
    "from kudzu.model import Model\n",
    "from kudzu.train import Learner\n",
    "from kudzu.optim import GD\n",
    "from kudzu.data import Data, Sampler,Dataloader\n",
    "\n",
    "from kudzu.callbacks import AccCallback\n",
    "from kudzu.callbacks import ClfCallback\n",
    "\n",
    "from kudzu.loss import MSE\n",
    "\n",
    "from kudzu.layer import Sigmoid,Relu\n",
    "from kudzu.layer import Affine"
   ]
  },
  {
   "cell_type": "markdown",
   "id": "bc01172a",
   "metadata": {
    "papermill": {
     "duration": 0.02726,
     "end_time": "2022-07-07T10:14:19.699961",
     "exception": false,
     "start_time": "2022-07-07T10:14:19.672701",
     "status": "completed"
    },
    "tags": []
   },
   "source": [
    "### Let us create a `Config` class, to store important parameters. \n",
    "This class essentially plays the role of a dictionary."
   ]
  },
  {
   "cell_type": "code",
   "execution_count": 16,
   "id": "978281aa",
   "metadata": {
    "execution": {
     "iopub.execute_input": "2022-07-07T10:14:19.758704Z",
     "iopub.status.busy": "2022-07-07T10:14:19.758092Z",
     "iopub.status.idle": "2022-07-07T10:14:19.770665Z",
     "shell.execute_reply": "2022-07-07T10:14:19.771120Z"
    },
    "papermill": {
     "duration": 0.044004,
     "end_time": "2022-07-07T10:14:19.771256",
     "exception": false,
     "start_time": "2022-07-07T10:14:19.727252",
     "status": "completed"
    },
    "tags": []
   },
   "outputs": [],
   "source": [
    "class Config:\n",
    "    pass\n",
    "config = Config()\n",
    "config.lr = 0.001\n",
    "config.num_epochs = 250\n",
    "config.bs = 50"
   ]
  },
  {
   "cell_type": "markdown",
   "id": "1385fa59",
   "metadata": {
    "papermill": {
     "duration": 0.027368,
     "end_time": "2022-07-07T10:14:19.826031",
     "exception": false,
     "start_time": "2022-07-07T10:14:19.798663",
     "status": "completed"
    },
    "tags": []
   },
   "source": [
    "### Running Models with the Training data\n",
    "Details about the network layers:\n",
    "- A first affine layer has 784 inputs and does 100 affine transforms. These are followed by a Relu\n",
    "- A second affine layer has 100 inputs from the 100 activations of the past layer, and does 100 affine transforms. These are followed by a Relu\n",
    "- A third affine layer has 100 activations and does 2 affine transformations to create an embedding for visualization. There is no non-linearity here.\n",
    "- A final \"logistic regression\" which has an affine transform from 2 inputs to 1 output, which is squeezed through a sigmoid.\n"
   ]
  },
  {
   "cell_type": "code",
   "execution_count": 17,
   "id": "2b9c66db",
   "metadata": {
    "execution": {
     "iopub.execute_input": "2022-07-07T10:14:19.889319Z",
     "iopub.status.busy": "2022-07-07T10:14:19.888710Z",
     "iopub.status.idle": "2022-07-07T10:14:19.898697Z",
     "shell.execute_reply": "2022-07-07T10:14:19.898210Z"
    },
    "papermill": {
     "duration": 0.045537,
     "end_time": "2022-07-07T10:14:19.898812",
     "exception": false,
     "start_time": "2022-07-07T10:14:19.853275",
     "status": "completed"
    },
    "tags": []
   },
   "outputs": [],
   "source": [
    "data = Data(X_train, y_train.reshape(-1,1))\n",
    "sampler = Sampler(data, config.bs, shuffle=True)\n",
    "\n",
    "dl = Dataloader(data, sampler)\n",
    "\n",
    "opt = GD(config.lr)\n",
    "loss = MSE()"
   ]
  },
  {
   "cell_type": "code",
   "execution_count": 18,
   "id": "b275e4c2",
   "metadata": {
    "execution": {
     "iopub.execute_input": "2022-07-07T10:14:19.966558Z",
     "iopub.status.busy": "2022-07-07T10:14:19.964343Z",
     "iopub.status.idle": "2022-07-07T10:14:19.972441Z",
     "shell.execute_reply": "2022-07-07T10:14:19.972905Z"
    },
    "papermill": {
     "duration": 0.047012,
     "end_time": "2022-07-07T10:14:19.973043",
     "exception": false,
     "start_time": "2022-07-07T10:14:19.926031",
     "status": "completed"
    },
    "tags": []
   },
   "outputs": [],
   "source": [
    "training_data_x = X_train\n",
    "testing_data_x = X_test\n",
    "training_data_y = y_train.reshape(-1,1)\n",
    "testing_data_y = y_test.reshape(-1,1)"
   ]
  },
  {
   "cell_type": "code",
   "execution_count": 19,
   "id": "76951160",
   "metadata": {
    "execution": {
     "iopub.execute_input": "2022-07-07T10:14:20.034965Z",
     "iopub.status.busy": "2022-07-07T10:14:20.031507Z",
     "iopub.status.idle": "2022-07-07T10:14:20.048346Z",
     "shell.execute_reply": "2022-07-07T10:14:20.048797Z"
    },
    "papermill": {
     "duration": 0.048812,
     "end_time": "2022-07-07T10:14:20.048933",
     "exception": false,
     "start_time": "2022-07-07T10:14:20.000121",
     "status": "completed"
    },
    "tags": []
   },
   "outputs": [
    {
     "name": "stdout",
     "output_type": "stream",
     "text": [
      "xavier\n",
      "xavier\n",
      "xavier\n",
      "xavier\n",
      "xavier\n"
     ]
    }
   ],
   "source": [
    "layers = [Affine(\"first\", 784, 100), Relu(\"first\"), Affine(\"second\", 100, 100), Relu(\"second\"), Affine(\"third\", 100, 2), Affine(\"last\", 2, 1), Sigmoid(\"last\")]\n",
    "model_nn = Model(layers)\n",
    "model_lr = Model([Affine(\"logits\", 784, 1), Sigmoid(\"sigmoid\")])"
   ]
  },
  {
   "cell_type": "code",
   "execution_count": 20,
   "id": "6eede77a",
   "metadata": {
    "execution": {
     "iopub.execute_input": "2022-07-07T10:14:20.110929Z",
     "iopub.status.busy": "2022-07-07T10:14:20.107911Z",
     "iopub.status.idle": "2022-07-07T10:14:20.120406Z",
     "shell.execute_reply": "2022-07-07T10:14:20.119892Z"
    },
    "papermill": {
     "duration": 0.043926,
     "end_time": "2022-07-07T10:14:20.120520",
     "exception": false,
     "start_time": "2022-07-07T10:14:20.076594",
     "status": "completed"
    },
    "tags": []
   },
   "outputs": [],
   "source": [
    "nn_learner = Learner(loss, model_nn, opt, config.num_epochs)\n",
    "acc_nn = ClfCallback(nn_learner, config.bs, training_data_x , testing_data_x, training_data_y, testing_data_y)\n",
    "nn_learner.set_callbacks([acc_nn])"
   ]
  },
  {
   "cell_type": "code",
   "execution_count": 21,
   "id": "877b6cc7",
   "metadata": {
    "execution": {
     "iopub.execute_input": "2022-07-07T10:14:20.187241Z",
     "iopub.status.busy": "2022-07-07T10:14:20.186622Z",
     "iopub.status.idle": "2022-07-07T10:14:20.194387Z",
     "shell.execute_reply": "2022-07-07T10:14:20.194843Z"
    },
    "papermill": {
     "duration": 0.046907,
     "end_time": "2022-07-07T10:14:20.194986",
     "exception": false,
     "start_time": "2022-07-07T10:14:20.148079",
     "status": "completed"
    },
    "tags": []
   },
   "outputs": [],
   "source": [
    "lr_learner = Learner(loss, model_lr, opt, config.num_epochs)\n",
    "acc_lr = ClfCallback(lr_learner, config.bs, training_data_x , testing_data_x, training_data_y, testing_data_y)\n",
    "lr_learner.set_callbacks([acc_lr])"
   ]
  },
  {
   "cell_type": "code",
   "execution_count": 22,
   "id": "d9b133c3",
   "metadata": {
    "execution": {
     "iopub.execute_input": "2022-07-07T10:14:20.267448Z",
     "iopub.status.busy": "2022-07-07T10:14:20.253357Z",
     "iopub.status.idle": "2022-07-07T10:15:41.462052Z",
     "shell.execute_reply": "2022-07-07T10:15:41.462901Z"
    },
    "papermill": {
     "duration": 81.240495,
     "end_time": "2022-07-07T10:15:41.463048",
     "exception": false,
     "start_time": "2022-07-07T10:14:20.222553",
     "status": "completed"
    },
    "tags": []
   },
   "outputs": [
    {
     "name": "stdout",
     "output_type": "stream",
     "text": [
      "Epoch 0, Loss 0.2438\n",
      "Training Accuracy: 0.6597, Testing Accuracy: 0.6562\n",
      "\n"
     ]
    },
    {
     "name": "stdout",
     "output_type": "stream",
     "text": [
      "Epoch 10, Loss 0.1007\n",
      "Training Accuracy: 0.9109, Testing Accuracy: 0.9219\n",
      "\n"
     ]
    },
    {
     "name": "stdout",
     "output_type": "stream",
     "text": [
      "Epoch 20, Loss 0.0608\n",
      "Training Accuracy: 0.9367, Testing Accuracy: 0.9456\n",
      "\n"
     ]
    },
    {
     "name": "stdout",
     "output_type": "stream",
     "text": [
      "Epoch 30, Loss 0.0469\n",
      "Training Accuracy: 0.9483, Testing Accuracy: 0.9561\n",
      "\n"
     ]
    },
    {
     "name": "stdout",
     "output_type": "stream",
     "text": [
      "Epoch 40, Loss 0.0401\n",
      "Training Accuracy: 0.9538, Testing Accuracy: 0.9642\n",
      "\n"
     ]
    },
    {
     "name": "stdout",
     "output_type": "stream",
     "text": [
      "Epoch 50, Loss 0.036\n",
      "Training Accuracy: 0.9587, Testing Accuracy: 0.9672\n",
      "\n"
     ]
    },
    {
     "name": "stdout",
     "output_type": "stream",
     "text": [
      "Epoch 60, Loss 0.0333\n",
      "Training Accuracy: 0.9611, Testing Accuracy: 0.9688\n",
      "\n"
     ]
    },
    {
     "name": "stdout",
     "output_type": "stream",
     "text": [
      "Epoch 70, Loss 0.0313\n",
      "Training Accuracy: 0.9639, Testing Accuracy: 0.9718\n",
      "\n"
     ]
    },
    {
     "name": "stdout",
     "output_type": "stream",
     "text": [
      "Epoch 80, Loss 0.0297\n",
      "Training Accuracy: 0.9654, Testing Accuracy: 0.9723\n",
      "\n"
     ]
    },
    {
     "name": "stdout",
     "output_type": "stream",
     "text": [
      "Epoch 90, Loss 0.0284\n",
      "Training Accuracy: 0.9669, Testing Accuracy: 0.9718\n",
      "\n"
     ]
    },
    {
     "name": "stdout",
     "output_type": "stream",
     "text": [
      "Epoch 100, Loss 0.0273\n",
      "Training Accuracy: 0.9682, Testing Accuracy: 0.9718\n",
      "\n"
     ]
    },
    {
     "name": "stdout",
     "output_type": "stream",
     "text": [
      "Epoch 110, Loss 0.0264\n",
      "Training Accuracy: 0.9688, Testing Accuracy: 0.9733\n",
      "\n"
     ]
    },
    {
     "name": "stdout",
     "output_type": "stream",
     "text": [
      "Epoch 120, Loss 0.0256\n",
      "Training Accuracy: 0.9698, Testing Accuracy: 0.9728\n",
      "\n"
     ]
    },
    {
     "name": "stdout",
     "output_type": "stream",
     "text": [
      "Epoch 130, Loss 0.0249\n",
      "Training Accuracy: 0.9714, Testing Accuracy: 0.9718\n",
      "\n"
     ]
    },
    {
     "name": "stdout",
     "output_type": "stream",
     "text": [
      "Epoch 140, Loss 0.0242\n",
      "Training Accuracy: 0.9725, Testing Accuracy: 0.9718\n",
      "\n"
     ]
    },
    {
     "name": "stdout",
     "output_type": "stream",
     "text": [
      "Epoch 150, Loss 0.0236\n",
      "Training Accuracy: 0.9727, Testing Accuracy: 0.9723\n",
      "\n"
     ]
    },
    {
     "name": "stdout",
     "output_type": "stream",
     "text": [
      "Epoch 160, Loss 0.0231\n",
      "Training Accuracy: 0.9735, Testing Accuracy: 0.9718\n",
      "\n"
     ]
    },
    {
     "name": "stdout",
     "output_type": "stream",
     "text": [
      "Epoch 170, Loss 0.0226\n",
      "Training Accuracy: 0.9740, Testing Accuracy: 0.9728\n",
      "\n"
     ]
    },
    {
     "name": "stdout",
     "output_type": "stream",
     "text": [
      "Epoch 180, Loss 0.0221\n",
      "Training Accuracy: 0.9745, Testing Accuracy: 0.9723\n",
      "\n"
     ]
    },
    {
     "name": "stdout",
     "output_type": "stream",
     "text": [
      "Epoch 190, Loss 0.0216\n",
      "Training Accuracy: 0.9755, Testing Accuracy: 0.9733\n",
      "\n"
     ]
    },
    {
     "name": "stdout",
     "output_type": "stream",
     "text": [
      "Epoch 200, Loss 0.0212\n",
      "Training Accuracy: 0.9761, Testing Accuracy: 0.9728\n",
      "\n"
     ]
    },
    {
     "name": "stdout",
     "output_type": "stream",
     "text": [
      "Epoch 210, Loss 0.0208\n",
      "Training Accuracy: 0.9767, Testing Accuracy: 0.9733\n",
      "\n"
     ]
    },
    {
     "name": "stdout",
     "output_type": "stream",
     "text": [
      "Epoch 220, Loss 0.0204\n",
      "Training Accuracy: 0.9771, Testing Accuracy: 0.9738\n",
      "\n"
     ]
    },
    {
     "name": "stdout",
     "output_type": "stream",
     "text": [
      "Epoch 230, Loss 0.0201\n",
      "Training Accuracy: 0.9775, Testing Accuracy: 0.9738\n",
      "\n"
     ]
    },
    {
     "name": "stdout",
     "output_type": "stream",
     "text": [
      "Epoch 240, Loss 0.0197\n",
      "Training Accuracy: 0.9779, Testing Accuracy: 0.9738\n",
      "\n"
     ]
    },
    {
     "data": {
      "text/plain": [
       "0.03445156803979427"
      ]
     },
     "execution_count": 22,
     "metadata": {},
     "output_type": "execute_result"
    }
   ],
   "source": [
    "nn_learner.train_loop(dl)"
   ]
  },
  {
   "cell_type": "code",
   "execution_count": 23,
   "id": "e0163366",
   "metadata": {
    "execution": {
     "iopub.execute_input": "2022-07-07T10:15:41.543337Z",
     "iopub.status.busy": "2022-07-07T10:15:41.542729Z",
     "iopub.status.idle": "2022-07-07T10:15:56.274665Z",
     "shell.execute_reply": "2022-07-07T10:15:56.275497Z"
    },
    "papermill": {
     "duration": 14.777569,
     "end_time": "2022-07-07T10:15:56.275642",
     "exception": false,
     "start_time": "2022-07-07T10:15:41.498073",
     "status": "completed"
    },
    "tags": []
   },
   "outputs": [
    {
     "name": "stdout",
     "output_type": "stream",
     "text": [
      "Epoch 0, Loss 0.2626\n",
      "Training Accuracy: 0.5902, Testing Accuracy: 0.5842\n",
      "\n"
     ]
    },
    {
     "name": "stdout",
     "output_type": "stream",
     "text": [
      "Epoch 10, Loss 0.108\n",
      "Training Accuracy: 0.8973, Testing Accuracy: 0.9098\n",
      "\n"
     ]
    },
    {
     "name": "stdout",
     "output_type": "stream",
     "text": [
      "Epoch 20, Loss 0.0819\n",
      "Training Accuracy: 0.9211, Testing Accuracy: 0.9360\n",
      "\n"
     ]
    },
    {
     "name": "stdout",
     "output_type": "stream",
     "text": [
      "Epoch 30, Loss 0.07\n",
      "Training Accuracy: 0.9316, Testing Accuracy: 0.9461\n",
      "\n"
     ]
    },
    {
     "name": "stdout",
     "output_type": "stream",
     "text": [
      "Epoch 40, Loss 0.0629\n",
      "Training Accuracy: 0.9387, Testing Accuracy: 0.9496\n",
      "\n"
     ]
    },
    {
     "name": "stdout",
     "output_type": "stream",
     "text": [
      "Epoch 50, Loss 0.0582\n",
      "Training Accuracy: 0.9423, Testing Accuracy: 0.9531\n",
      "\n"
     ]
    },
    {
     "name": "stdout",
     "output_type": "stream",
     "text": [
      "Epoch 60, Loss 0.0547\n",
      "Training Accuracy: 0.9453, Testing Accuracy: 0.9546\n",
      "\n"
     ]
    },
    {
     "name": "stdout",
     "output_type": "stream",
     "text": [
      "Epoch 70, Loss 0.052\n",
      "Training Accuracy: 0.9481, Testing Accuracy: 0.9567\n",
      "\n"
     ]
    },
    {
     "name": "stdout",
     "output_type": "stream",
     "text": [
      "Epoch 80, Loss 0.0498\n",
      "Training Accuracy: 0.9502, Testing Accuracy: 0.9582\n",
      "\n"
     ]
    },
    {
     "name": "stdout",
     "output_type": "stream",
     "text": [
      "Epoch 90, Loss 0.0481\n",
      "Training Accuracy: 0.9526, Testing Accuracy: 0.9617\n",
      "\n"
     ]
    },
    {
     "name": "stdout",
     "output_type": "stream",
     "text": [
      "Epoch 100, Loss 0.0466\n",
      "Training Accuracy: 0.9542, Testing Accuracy: 0.9627\n",
      "\n"
     ]
    },
    {
     "name": "stdout",
     "output_type": "stream",
     "text": [
      "Epoch 110, Loss 0.0453\n",
      "Training Accuracy: 0.9548, Testing Accuracy: 0.9637\n",
      "\n"
     ]
    },
    {
     "name": "stdout",
     "output_type": "stream",
     "text": [
      "Epoch 120, Loss 0.0442\n",
      "Training Accuracy: 0.9553, Testing Accuracy: 0.9642\n",
      "\n"
     ]
    },
    {
     "name": "stdout",
     "output_type": "stream",
     "text": [
      "Epoch 130, Loss 0.0432\n",
      "Training Accuracy: 0.9558, Testing Accuracy: 0.9647\n",
      "\n"
     ]
    },
    {
     "name": "stdout",
     "output_type": "stream",
     "text": [
      "Epoch 140, Loss 0.0424\n",
      "Training Accuracy: 0.9564, Testing Accuracy: 0.9662\n",
      "\n"
     ]
    },
    {
     "name": "stdout",
     "output_type": "stream",
     "text": [
      "Epoch 150, Loss 0.0416\n",
      "Training Accuracy: 0.9569, Testing Accuracy: 0.9662\n",
      "\n"
     ]
    },
    {
     "name": "stdout",
     "output_type": "stream",
     "text": [
      "Epoch 160, Loss 0.0409\n",
      "Training Accuracy: 0.9579, Testing Accuracy: 0.9662\n",
      "\n"
     ]
    },
    {
     "name": "stdout",
     "output_type": "stream",
     "text": [
      "Epoch 170, Loss 0.0403\n",
      "Training Accuracy: 0.9584, Testing Accuracy: 0.9667\n",
      "\n"
     ]
    },
    {
     "name": "stdout",
     "output_type": "stream",
     "text": [
      "Epoch 180, Loss 0.0397\n",
      "Training Accuracy: 0.9585, Testing Accuracy: 0.9667\n",
      "\n"
     ]
    },
    {
     "name": "stdout",
     "output_type": "stream",
     "text": [
      "Epoch 190, Loss 0.0392\n",
      "Training Accuracy: 0.9587, Testing Accuracy: 0.9667\n",
      "\n"
     ]
    },
    {
     "name": "stdout",
     "output_type": "stream",
     "text": [
      "Epoch 200, Loss 0.0387\n",
      "Training Accuracy: 0.9590, Testing Accuracy: 0.9672\n",
      "\n"
     ]
    },
    {
     "name": "stdout",
     "output_type": "stream",
     "text": [
      "Epoch 210, Loss 0.0382\n",
      "Training Accuracy: 0.9600, Testing Accuracy: 0.9672\n",
      "\n"
     ]
    },
    {
     "name": "stdout",
     "output_type": "stream",
     "text": [
      "Epoch 220, Loss 0.0378\n",
      "Training Accuracy: 0.9603, Testing Accuracy: 0.9677\n",
      "\n"
     ]
    },
    {
     "name": "stdout",
     "output_type": "stream",
     "text": [
      "Epoch 230, Loss 0.0374\n",
      "Training Accuracy: 0.9604, Testing Accuracy: 0.9677\n",
      "\n"
     ]
    },
    {
     "name": "stdout",
     "output_type": "stream",
     "text": [
      "Epoch 240, Loss 0.0371\n",
      "Training Accuracy: 0.9609, Testing Accuracy: 0.9677\n",
      "\n"
     ]
    },
    {
     "data": {
      "text/plain": [
       "0.05682099288609957"
      ]
     },
     "execution_count": 23,
     "metadata": {},
     "output_type": "execute_result"
    }
   ],
   "source": [
    "lr_learner.train_loop(dl)"
   ]
  },
  {
   "cell_type": "code",
   "execution_count": 24,
   "id": "ca410940",
   "metadata": {
    "execution": {
     "iopub.execute_input": "2022-07-07T10:15:56.367688Z",
     "iopub.status.busy": "2022-07-07T10:15:56.367082Z",
     "iopub.status.idle": "2022-07-07T10:15:56.600538Z",
     "shell.execute_reply": "2022-07-07T10:15:56.601013Z"
    },
    "papermill": {
     "duration": 0.283765,
     "end_time": "2022-07-07T10:15:56.601154",
     "exception": false,
     "start_time": "2022-07-07T10:15:56.317389",
     "status": "completed"
    },
    "tags": []
   },
   "outputs": [
    {
     "data": {
      "text/plain": [
       "<matplotlib.legend.Legend at 0x7f20dd5d6c18>"
      ]
     },
     "execution_count": 24,
     "metadata": {},
     "output_type": "execute_result"
    },
    {
     "data": {
      "image/png": "[encoded data removed]",
      "text/plain": [
       "<Figure size 1080x720 with 1 Axes>"
      ]
     },
     "metadata": {
      "needs_background": "light"
     },
     "output_type": "display_data"
    }
   ],
   "source": [
    "#comparing the results of NN and LR\n",
    "plt.figure(figsize=(15,10))\n",
    "\n",
    "# Neural Network plots\n",
    "plt.plot(acc_nn.accuracies, 'r-', label = \"Training Accuracies - NN\")\n",
    "plt.plot(acc_nn.test_accuracies, 'g-', label = \"Testing Accuracies - NN\")\n",
    "\n",
    "# Logistic Regression plots\n",
    "plt.plot(acc_lr.accuracies, 'k-', label = \"Training Accuracies - LR\")\n",
    "plt.plot(acc_lr.test_accuracies, 'b-', label = \"Testing Accuracies - LR\")\n",
    "plt.legend()"
   ]
  },
  {
   "cell_type": "markdown",
   "id": "80dfb35c",
   "metadata": {
    "papermill": {
     "duration": 0.046556,
     "end_time": "2022-07-07T10:15:56.690385",
     "exception": false,
     "start_time": "2022-07-07T10:15:56.643829",
     "status": "completed"
    },
    "tags": []
   },
   "source": [
    "#### Plotting the outputs of this layer of the NN.\n"
   ]
  },
  {
   "cell_type": "code",
   "execution_count": 25,
   "id": "45eb2ff5",
   "metadata": {
    "execution": {
     "iopub.execute_input": "2022-07-07T10:15:56.788145Z",
     "iopub.status.busy": "2022-07-07T10:15:56.783373Z",
     "iopub.status.idle": "2022-07-07T10:15:56.804119Z",
     "shell.execute_reply": "2022-07-07T10:15:56.803338Z"
    },
    "papermill": {
     "duration": 0.071543,
     "end_time": "2022-07-07T10:15:56.804242",
     "exception": false,
     "start_time": "2022-07-07T10:15:56.732699",
     "status": "completed"
    },
    "tags": []
   },
   "outputs": [],
   "source": [
    "new_model = Model(layers[:-2])\n",
    "testing_plot = new_model(testing_data_x)"
   ]
  },
  {
   "cell_type": "code",
   "execution_count": 26,
   "id": "4c0a5485",
   "metadata": {
    "execution": {
     "iopub.execute_input": "2022-07-07T10:15:56.900206Z",
     "iopub.status.busy": "2022-07-07T10:15:56.898638Z",
     "iopub.status.idle": "2022-07-07T10:15:57.102892Z",
     "shell.execute_reply": "2022-07-07T10:15:57.102141Z"
    },
    "papermill": {
     "duration": 0.255782,
     "end_time": "2022-07-07T10:15:57.103013",
     "exception": false,
     "start_time": "2022-07-07T10:15:56.847231",
     "status": "completed"
    },
    "tags": []
   },
   "outputs": [
    {
     "data": {
      "text/plain": [
       "Text(0.5, 1.0, 'Outputs')"
      ]
     },
     "execution_count": 26,
     "metadata": {},
     "output_type": "execute_result"
    },
    {
     "data": {
      "image/png": "[encoded data removed]",
      "text/plain": [
       "<Figure size 576x504 with 1 Axes>"
      ]
     },
     "metadata": {
      "needs_background": "light"
     },
     "output_type": "display_data"
    }
   ],
   "source": [
    "# Plotting the scatter plot of points and color coding by class\n",
    "plt.figure(figsize=(8,7))\n",
    "plt.scatter(testing_plot[:,0], testing_plot[:,1], alpha = 0.1, c = y_test.ravel());\n",
    "plt.title('Outputs')"
   ]
  },
  {
   "cell_type": "markdown",
   "id": "a74fcf8f",
   "metadata": {
    "papermill": {
     "duration": 0.044278,
     "end_time": "2022-07-07T10:15:57.191804",
     "exception": false,
     "start_time": "2022-07-07T10:15:57.147526",
     "status": "completed"
    },
    "tags": []
   },
   "source": [
    "Probability contours"
   ]
  },
  {
   "cell_type": "code",
   "execution_count": 27,
   "id": "d0afc8e3",
   "metadata": {
    "execution": {
     "iopub.execute_input": "2022-07-07T10:15:57.314765Z",
     "iopub.status.busy": "2022-07-07T10:15:57.313582Z",
     "iopub.status.idle": "2022-07-07T10:15:57.325860Z",
     "shell.execute_reply": "2022-07-07T10:15:57.326322Z"
    },
    "papermill": {
     "duration": 0.089996,
     "end_time": "2022-07-07T10:15:57.326448",
     "exception": false,
     "start_time": "2022-07-07T10:15:57.236452",
     "status": "completed"
    },
    "tags": []
   },
   "outputs": [],
   "source": [
    "model_prob = Model(layers[-2:]) "
   ]
  },
  {
   "cell_type": "code",
   "execution_count": 28,
   "id": "9b96e238",
   "metadata": {
    "execution": {
     "iopub.execute_input": "2022-07-07T10:15:57.420611Z",
     "iopub.status.busy": "2022-07-07T10:15:57.419985Z",
     "iopub.status.idle": "2022-07-07T10:15:57.434540Z",
     "shell.execute_reply": "2022-07-07T10:15:57.434974Z"
    },
    "papermill": {
     "duration": 0.064378,
     "end_time": "2022-07-07T10:15:57.435112",
     "exception": false,
     "start_time": "2022-07-07T10:15:57.370734",
     "status": "completed"
    },
    "tags": []
   },
   "outputs": [],
   "source": [
    "#creating the x and y ranges according to the above generated plot.\n",
    "x_range = np.linspace(-4, 1, 100) \n",
    "y_range = np.linspace(-6, 6, 100) \n",
    "x_grid, y_grid = np.meshgrid(x_range, y_range) # x_grid and y_grig are of size 100 X 100\n",
    "\n",
    "# converting x_grid and y_grid to continuous arrays\n",
    "x_gridflat = np.ravel(x_grid)\n",
    "y_gridflat = np.ravel(y_grid)\n",
    "\n",
    "# The last layer of the current model takes two columns as input. Hence transpose of np.vstack() is required.\n",
    "X = np.vstack((x_gridflat, y_gridflat)).T\n",
    "\n",
    "prob_contour = model_prob(X).reshape(100,100) "
   ]
  },
  {
   "cell_type": "code",
   "execution_count": 29,
   "id": "da72499a",
   "metadata": {
    "execution": {
     "iopub.execute_input": "2022-07-07T10:15:57.535110Z",
     "iopub.status.busy": "2022-07-07T10:15:57.534513Z",
     "iopub.status.idle": "2022-07-07T10:15:57.784832Z",
     "shell.execute_reply": "2022-07-07T10:15:57.784327Z"
    },
    "papermill": {
     "duration": 0.30076,
     "end_time": "2022-07-07T10:15:57.784952",
     "exception": false,
     "start_time": "2022-07-07T10:15:57.484192",
     "status": "completed"
    },
    "tags": []
   },
   "outputs": [
    {
     "data": {
      "image/png": "[encoded data removed]",
      "text/plain": [
       "<Figure size 720x648 with 1 Axes>"
      ]
     },
     "metadata": {
      "needs_background": "light"
     },
     "output_type": "display_data"
    }
   ],
   "source": [
    "plt.figure(figsize=(10,9))\n",
    "plt.scatter(testing_plot[:,0], testing_plot[:,1], alpha = 0.1, c = y_test.ravel())\n",
    "contours = plt.contour(x_grid,y_grid,prob_contour)\n",
    "plt.title('Probability Contours')\n",
    "plt.clabel(contours, inline = True );"
   ]
  },
  {
   "cell_type": "code",
   "execution_count": null,
   "id": "e81b4ac7",
   "metadata": {
    "papermill": {
     "duration": 0.051276,
     "end_time": "2022-07-07T10:15:57.883914",
     "exception": false,
     "start_time": "2022-07-07T10:15:57.832638",
     "status": "completed"
    },
    "tags": []
   },
   "outputs": [],
   "source": []
  }
 ],
 "metadata": {
  "kernelspec": {
   "display_name": "Python 3",
   "language": "python",
   "name": "python3"
  },
  "language_info": {
   "codemirror_mode": {
    "name": "ipython",
    "version": 3
   },
   "file_extension": ".py",
   "mimetype": "text/x-python",
   "name": "python",
   "nbconvert_exporter": "python",
   "pygments_lexer": "ipython3",
   "version": "3.6.15"
  },
  "papermill": {
   "default_parameters": {},
   "duration": 104.108003,
   "end_time": "2022-07-07T10:15:58.350120",
   "environment_variables": {},
   "exception": null,
   "input_path": "2020-08-11-part2.ipynb",
   "output_path": "2020-08-11-part2.ipynb",
   "parameters": {},
   "start_time": "2022-07-07T10:14:14.242117",
   "version": "2.3.3"
  }
 },
 "nbformat": 4,
 "nbformat_minor": 5
}