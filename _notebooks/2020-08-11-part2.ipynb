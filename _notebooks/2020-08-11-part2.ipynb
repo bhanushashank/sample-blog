{
 "cells": [
  {
   "cell_type": "markdown",
   "id": "98380cd3",
   "metadata": {
    "papermill": {
     "duration": 0.035149,
     "end_time": "2022-02-12T10:09:30.932192",
     "exception": false,
     "start_time": "2022-02-12T10:09:30.897043",
     "status": "completed"
    },
    "tags": []
   },
   "source": [
    "# Distinguish Your Own Digits (DYOD)"
   ]
  },
  {
   "cell_type": "markdown",
   "id": "ef31240d",
   "metadata": {
    "papermill": {
     "duration": 0.027101,
     "end_time": "2022-02-12T10:09:30.985394",
     "exception": false,
     "start_time": "2022-02-12T10:09:30.958293",
     "status": "completed"
    },
    "tags": []
   },
   "source": [
    "You are going to write a classifier that distinguishes between the number 3 and number 8."
   ]
  },
  {
   "cell_type": "code",
   "execution_count": 1,
   "id": "b15c8646",
   "metadata": {
    "execution": {
     "iopub.execute_input": "2022-02-12T10:09:31.046825Z",
     "iopub.status.busy": "2022-02-12T10:09:31.046022Z",
     "iopub.status.idle": "2022-02-12T10:09:31.057137Z",
     "shell.execute_reply": "2022-02-12T10:09:31.056647Z"
    },
    "papermill": {
     "duration": 0.046744,
     "end_time": "2022-02-12T10:09:31.057283",
     "exception": false,
     "start_time": "2022-02-12T10:09:31.010539",
     "status": "completed"
    },
    "tags": []
   },
   "outputs": [],
   "source": [
    "%load_ext autoreload\n",
    "%autoreload 2"
   ]
  },
  {
   "cell_type": "code",
   "execution_count": 2,
   "id": "22ef38dc",
   "metadata": {
    "execution": {
     "iopub.execute_input": "2022-02-12T10:09:31.125179Z",
     "iopub.status.busy": "2022-02-12T10:09:31.123205Z",
     "iopub.status.idle": "2022-02-12T10:09:31.739456Z",
     "shell.execute_reply": "2022-02-12T10:09:31.738280Z"
    },
    "papermill": {
     "duration": 0.654368,
     "end_time": "2022-02-12T10:09:31.739617",
     "exception": false,
     "start_time": "2022-02-12T10:09:31.085249",
     "status": "completed"
    },
    "tags": []
   },
   "outputs": [],
   "source": [
    "%matplotlib inline\n",
    "import numpy as np\n",
    "import matplotlib.pyplot as plt\n",
    "import pandas as pd"
   ]
  },
  {
   "cell_type": "markdown",
   "id": "ba036198",
   "metadata": {
    "papermill": {
     "duration": 0.024133,
     "end_time": "2022-02-12T10:09:31.788214",
     "exception": false,
     "start_time": "2022-02-12T10:09:31.764081",
     "status": "completed"
    },
    "tags": []
   },
   "source": [
    "From the command line run `pip install mnist`. This is a library that will help you bring down the mnist dataset. If you run this from a notebook, you need to put  `!pip install mnist` in a cell by itself."
   ]
  },
  {
   "cell_type": "code",
   "execution_count": 3,
   "id": "bb6ad8a1",
   "metadata": {
    "execution": {
     "iopub.execute_input": "2022-02-12T10:09:31.843403Z",
     "iopub.status.busy": "2022-02-12T10:09:31.842255Z",
     "iopub.status.idle": "2022-02-12T10:09:33.575522Z",
     "shell.execute_reply": "2022-02-12T10:09:33.574897Z"
    },
    "papermill": {
     "duration": 1.763581,
     "end_time": "2022-02-12T10:09:33.575662",
     "exception": false,
     "start_time": "2022-02-12T10:09:31.812081",
     "status": "completed"
    },
    "tags": []
   },
   "outputs": [
    {
     "name": "stdout",
     "output_type": "stream",
     "text": [
      "Collecting mnist\r\n"
     ]
    },
    {
     "name": "stdout",
     "output_type": "stream",
     "text": [
      "  Downloading mnist-0.2.2-py2.py3-none-any.whl (3.5 kB)\r\n",
      "Requirement already satisfied: numpy in /opt/hostedtoolcache/Python/3.6.15/x64/lib/python3.6/site-packages (from mnist) (1.19.5)\r\n"
     ]
    },
    {
     "name": "stdout",
     "output_type": "stream",
     "text": [
      "Installing collected packages: mnist\r\n"
     ]
    },
    {
     "name": "stdout",
     "output_type": "stream",
     "text": [
      "Successfully installed mnist-0.2.2\r\n"
     ]
    }
   ],
   "source": [
    "!pip install mnist"
   ]
  },
  {
   "cell_type": "markdown",
   "id": "69df9c9a",
   "metadata": {
    "papermill": {
     "duration": 0.026419,
     "end_time": "2022-02-12T10:09:33.628827",
     "exception": false,
     "start_time": "2022-02-12T10:09:33.602408",
     "status": "completed"
    },
    "tags": []
   },
   "source": [
    "## Preparing the Data"
   ]
  },
  {
   "cell_type": "code",
   "execution_count": 4,
   "id": "7f69d806",
   "metadata": {
    "execution": {
     "iopub.execute_input": "2022-02-12T10:09:33.689297Z",
     "iopub.status.busy": "2022-02-12T10:09:33.688404Z",
     "iopub.status.idle": "2022-02-12T10:09:33.700007Z",
     "shell.execute_reply": "2022-02-12T10:09:33.699565Z"
    },
    "papermill": {
     "duration": 0.046039,
     "end_time": "2022-02-12T10:09:33.700132",
     "exception": false,
     "start_time": "2022-02-12T10:09:33.654093",
     "status": "completed"
    },
    "tags": []
   },
   "outputs": [],
   "source": [
    "import mnist"
   ]
  },
  {
   "cell_type": "code",
   "execution_count": 5,
   "id": "a411e44f",
   "metadata": {
    "execution": {
     "iopub.execute_input": "2022-02-12T10:09:33.764619Z",
     "iopub.status.busy": "2022-02-12T10:09:33.755045Z",
     "iopub.status.idle": "2022-02-12T10:09:34.297265Z",
     "shell.execute_reply": "2022-02-12T10:09:34.296770Z"
    },
    "papermill": {
     "duration": 0.571636,
     "end_time": "2022-02-12T10:09:34.297399",
     "exception": false,
     "start_time": "2022-02-12T10:09:33.725763",
     "status": "completed"
    },
    "tags": []
   },
   "outputs": [],
   "source": [
    "train_images = mnist.train_images()\n",
    "train_labels = mnist.train_labels()"
   ]
  },
  {
   "cell_type": "code",
   "execution_count": 6,
   "id": "dceab3a5",
   "metadata": {
    "execution": {
     "iopub.execute_input": "2022-02-12T10:09:34.364863Z",
     "iopub.status.busy": "2022-02-12T10:09:34.364308Z",
     "iopub.status.idle": "2022-02-12T10:09:34.374973Z",
     "shell.execute_reply": "2022-02-12T10:09:34.374523Z"
    },
    "papermill": {
     "duration": 0.050566,
     "end_time": "2022-02-12T10:09:34.375092",
     "exception": false,
     "start_time": "2022-02-12T10:09:34.324526",
     "status": "completed"
    },
    "tags": []
   },
   "outputs": [
    {
     "data": {
      "text/plain": [
       "((60000, 28, 28), (60000,))"
      ]
     },
     "execution_count": 6,
     "metadata": {},
     "output_type": "execute_result"
    }
   ],
   "source": [
    "train_images.shape, train_labels.shape"
   ]
  },
  {
   "cell_type": "code",
   "execution_count": 7,
   "id": "f50dc2bb",
   "metadata": {
    "execution": {
     "iopub.execute_input": "2022-02-12T10:09:34.430399Z",
     "iopub.status.busy": "2022-02-12T10:09:34.429869Z",
     "iopub.status.idle": "2022-02-12T10:09:34.581897Z",
     "shell.execute_reply": "2022-02-12T10:09:34.581355Z"
    },
    "papermill": {
     "duration": 0.181249,
     "end_time": "2022-02-12T10:09:34.582044",
     "exception": false,
     "start_time": "2022-02-12T10:09:34.400795",
     "status": "completed"
    },
    "tags": []
   },
   "outputs": [],
   "source": [
    "test_images = mnist.test_images()\n",
    "test_labels = mnist.test_labels()"
   ]
  },
  {
   "cell_type": "code",
   "execution_count": 8,
   "id": "fc38cf1b",
   "metadata": {
    "execution": {
     "iopub.execute_input": "2022-02-12T10:09:34.644724Z",
     "iopub.status.busy": "2022-02-12T10:09:34.644190Z",
     "iopub.status.idle": "2022-02-12T10:09:34.656698Z",
     "shell.execute_reply": "2022-02-12T10:09:34.657193Z"
    },
    "papermill": {
     "duration": 0.047493,
     "end_time": "2022-02-12T10:09:34.657329",
     "exception": false,
     "start_time": "2022-02-12T10:09:34.609836",
     "status": "completed"
    },
    "tags": []
   },
   "outputs": [
    {
     "data": {
      "text/plain": [
       "((10000, 28, 28), (10000,))"
      ]
     },
     "execution_count": 8,
     "metadata": {},
     "output_type": "execute_result"
    }
   ],
   "source": [
    "test_images.shape, test_labels.shape"
   ]
  },
  {
   "cell_type": "code",
   "execution_count": 9,
   "id": "f9ed8fe0",
   "metadata": {
    "execution": {
     "iopub.execute_input": "2022-02-12T10:09:34.716793Z",
     "iopub.status.busy": "2022-02-12T10:09:34.716255Z",
     "iopub.status.idle": "2022-02-12T10:09:34.852249Z",
     "shell.execute_reply": "2022-02-12T10:09:34.852683Z"
    },
    "papermill": {
     "duration": 0.169127,
     "end_time": "2022-02-12T10:09:34.852831",
     "exception": false,
     "start_time": "2022-02-12T10:09:34.683704",
     "status": "completed"
    },
    "tags": []
   },
   "outputs": [
    {
     "name": "stdout",
     "output_type": "stream",
     "text": [
      "2\n"
     ]
    },
    {
     "data": {
      "text/plain": [
       "<matplotlib.image.AxesImage at 0x7f923b9a5550>"
      ]
     },
     "execution_count": 9,
     "metadata": {},
     "output_type": "execute_result"
    },
    {
     "data": {
      "image/png": "[encoded data removed]",
      "text/plain": [
       "<Figure size 432x288 with 1 Axes>"
      ]
     },
     "metadata": {
      "needs_background": "light"
     },
     "output_type": "display_data"
    }
   ],
   "source": [
    "image_index = 7776 # You may select anything up to 60,000\n",
    "print(train_labels[image_index]) \n",
    "plt.imshow(train_images[image_index], cmap='Greys')"
   ]
  },
  {
   "cell_type": "markdown",
   "id": "a8d2388d",
   "metadata": {
    "papermill": {
     "duration": 0.027716,
     "end_time": "2022-02-12T10:09:34.907891",
     "exception": false,
     "start_time": "2022-02-12T10:09:34.880175",
     "status": "completed"
    },
    "tags": []
   },
   "source": [
    "## Filter data to get 3 and 8 out"
   ]
  },
  {
   "cell_type": "code",
   "execution_count": 10,
   "id": "776f7fc7",
   "metadata": {
    "execution": {
     "iopub.execute_input": "2022-02-12T10:09:34.971560Z",
     "iopub.status.busy": "2022-02-12T10:09:34.967556Z",
     "iopub.status.idle": "2022-02-12T10:09:34.996240Z",
     "shell.execute_reply": "2022-02-12T10:09:34.995690Z"
    },
    "papermill": {
     "duration": 0.061448,
     "end_time": "2022-02-12T10:09:34.996389",
     "exception": false,
     "start_time": "2022-02-12T10:09:34.934941",
     "status": "completed"
    },
    "tags": []
   },
   "outputs": [],
   "source": [
    "train_filter = np.where((train_labels == 3 ) | (train_labels == 8))\n",
    "test_filter = np.where((test_labels == 3) | (test_labels == 8))\n",
    "X_train, y_train = train_images[train_filter], train_labels[train_filter]\n",
    "X_test, y_test = test_images[test_filter], test_labels[test_filter]"
   ]
  },
  {
   "cell_type": "markdown",
   "id": "948f0b7e",
   "metadata": {
    "papermill": {
     "duration": 0.026653,
     "end_time": "2022-02-12T10:09:35.051042",
     "exception": false,
     "start_time": "2022-02-12T10:09:35.024389",
     "status": "completed"
    },
    "tags": []
   },
   "source": [
    "We normalize the pizel values in the 0 to 1 range"
   ]
  },
  {
   "cell_type": "code",
   "execution_count": 11,
   "id": "ee4c2166",
   "metadata": {
    "execution": {
     "iopub.execute_input": "2022-02-12T10:09:35.108363Z",
     "iopub.status.busy": "2022-02-12T10:09:35.107844Z",
     "iopub.status.idle": "2022-02-12T10:09:35.158198Z",
     "shell.execute_reply": "2022-02-12T10:09:35.157681Z"
    },
    "papermill": {
     "duration": 0.080426,
     "end_time": "2022-02-12T10:09:35.158327",
     "exception": false,
     "start_time": "2022-02-12T10:09:35.077901",
     "status": "completed"
    },
    "tags": []
   },
   "outputs": [],
   "source": [
    "X_train = X_train/255.\n",
    "X_test = X_test/255."
   ]
  },
  {
   "cell_type": "markdown",
   "id": "ddcf4fab",
   "metadata": {
    "papermill": {
     "duration": 0.02672,
     "end_time": "2022-02-12T10:09:35.212159",
     "exception": false,
     "start_time": "2022-02-12T10:09:35.185439",
     "status": "completed"
    },
    "tags": []
   },
   "source": [
    "And setup the labels as 1 (when the digit is 3) and 0 (when the digit is 8)"
   ]
  },
  {
   "cell_type": "code",
   "execution_count": 12,
   "id": "7dc908f2",
   "metadata": {
    "execution": {
     "iopub.execute_input": "2022-02-12T10:09:35.268761Z",
     "iopub.status.busy": "2022-02-12T10:09:35.268235Z",
     "iopub.status.idle": "2022-02-12T10:09:35.281155Z",
     "shell.execute_reply": "2022-02-12T10:09:35.280700Z"
    },
    "papermill": {
     "duration": 0.042029,
     "end_time": "2022-02-12T10:09:35.281273",
     "exception": false,
     "start_time": "2022-02-12T10:09:35.239244",
     "status": "completed"
    },
    "tags": []
   },
   "outputs": [],
   "source": [
    "y_train = 1*(y_train==3)\n",
    "y_test = 1*(y_test==3)"
   ]
  },
  {
   "cell_type": "code",
   "execution_count": 13,
   "id": "01e4e969",
   "metadata": {
    "execution": {
     "iopub.execute_input": "2022-02-12T10:09:35.351720Z",
     "iopub.status.busy": "2022-02-12T10:09:35.345052Z",
     "iopub.status.idle": "2022-02-12T10:09:35.357079Z",
     "shell.execute_reply": "2022-02-12T10:09:35.356619Z"
    },
    "papermill": {
     "duration": 0.048935,
     "end_time": "2022-02-12T10:09:35.357204",
     "exception": false,
     "start_time": "2022-02-12T10:09:35.308269",
     "status": "completed"
    },
    "tags": []
   },
   "outputs": [
    {
     "data": {
      "text/plain": [
       "((11982, 28, 28), (1984, 28, 28))"
      ]
     },
     "execution_count": 13,
     "metadata": {},
     "output_type": "execute_result"
    }
   ],
   "source": [
    "X_train.shape, X_test.shape"
   ]
  },
  {
   "cell_type": "markdown",
   "id": "5ccf3f85",
   "metadata": {
    "papermill": {
     "duration": 0.027127,
     "end_time": "2022-02-12T10:09:35.411506",
     "exception": false,
     "start_time": "2022-02-12T10:09:35.384379",
     "status": "completed"
    },
    "tags": []
   },
   "source": [
    "We reshape the data to flatten the image pixels into a set of features or co-variates:"
   ]
  },
  {
   "cell_type": "code",
   "execution_count": 14,
   "id": "5286a4a3",
   "metadata": {
    "execution": {
     "iopub.execute_input": "2022-02-12T10:09:35.479010Z",
     "iopub.status.busy": "2022-02-12T10:09:35.474243Z",
     "iopub.status.idle": "2022-02-12T10:09:35.486869Z",
     "shell.execute_reply": "2022-02-12T10:09:35.487315Z"
    },
    "papermill": {
     "duration": 0.048781,
     "end_time": "2022-02-12T10:09:35.487486",
     "exception": false,
     "start_time": "2022-02-12T10:09:35.438705",
     "status": "completed"
    },
    "tags": []
   },
   "outputs": [
    {
     "data": {
      "text/plain": [
       "((11982, 784), (1984, 784))"
      ]
     },
     "execution_count": 14,
     "metadata": {},
     "output_type": "execute_result"
    }
   ],
   "source": [
    "X_train = X_train.reshape(X_train.shape[0], -1)\n",
    "X_test = X_test.reshape(X_test.shape[0], -1)\n",
    "X_train.shape, X_test.shape"
   ]
  },
  {
   "cell_type": "code",
   "execution_count": 15,
   "id": "73c5f88a",
   "metadata": {
    "execution": {
     "iopub.execute_input": "2022-02-12T10:09:35.547868Z",
     "iopub.status.busy": "2022-02-12T10:09:35.547303Z",
     "iopub.status.idle": "2022-02-12T10:09:35.566087Z",
     "shell.execute_reply": "2022-02-12T10:09:35.565497Z"
    },
    "papermill": {
     "duration": 0.051426,
     "end_time": "2022-02-12T10:09:35.566211",
     "exception": false,
     "start_time": "2022-02-12T10:09:35.514785",
     "status": "completed"
    },
    "tags": []
   },
   "outputs": [],
   "source": [
    "#Impoting functions from 'Kudzu'\n",
    "from kudzu.model import Model\n",
    "from kudzu.train import Learner\n",
    "from kudzu.optim import GD\n",
    "from kudzu.data import Data, Sampler,Dataloader\n",
    "\n",
    "from kudzu.callbacks import AccCallback\n",
    "from kudzu.callbacks import ClfCallback\n",
    "\n",
    "from kudzu.loss import MSE\n",
    "\n",
    "from kudzu.layer import Sigmoid,Relu\n",
    "from kudzu.layer import Affine"
   ]
  },
  {
   "cell_type": "markdown",
   "id": "bc01172a",
   "metadata": {
    "papermill": {
     "duration": 0.027439,
     "end_time": "2022-02-12T10:09:35.621349",
     "exception": false,
     "start_time": "2022-02-12T10:09:35.593910",
     "status": "completed"
    },
    "tags": []
   },
   "source": [
    "### Let us create a `Config` class, to store important parameters. \n",
    "This class essentially plays the role of a dictionary."
   ]
  },
  {
   "cell_type": "code",
   "execution_count": 16,
   "id": "978281aa",
   "metadata": {
    "execution": {
     "iopub.execute_input": "2022-02-12T10:09:35.690846Z",
     "iopub.status.busy": "2022-02-12T10:09:35.690277Z",
     "iopub.status.idle": "2022-02-12T10:09:35.697918Z",
     "shell.execute_reply": "2022-02-12T10:09:35.697494Z"
    },
    "papermill": {
     "duration": 0.048747,
     "end_time": "2022-02-12T10:09:35.698044",
     "exception": false,
     "start_time": "2022-02-12T10:09:35.649297",
     "status": "completed"
    },
    "tags": []
   },
   "outputs": [],
   "source": [
    "class Config:\n",
    "    pass\n",
    "config = Config()\n",
    "config.lr = 0.001\n",
    "config.num_epochs = 250\n",
    "config.bs = 50"
   ]
  },
  {
   "cell_type": "markdown",
   "id": "1385fa59",
   "metadata": {
    "papermill": {
     "duration": 0.027186,
     "end_time": "2022-02-12T10:09:35.752776",
     "exception": false,
     "start_time": "2022-02-12T10:09:35.725590",
     "status": "completed"
    },
    "tags": []
   },
   "source": [
    "### Running Models with the Training data\n",
    "Details about the network layers:\n",
    "- A first affine layer has 784 inputs and does 100 affine transforms. These are followed by a Relu\n",
    "- A second affine layer has 100 inputs from the 100 activations of the past layer, and does 100 affine transforms. These are followed by a Relu\n",
    "- A third affine layer has 100 activations and does 2 affine transformations to create an embedding for visualization. There is no non-linearity here.\n",
    "- A final \"logistic regression\" which has an affine transform from 2 inputs to 1 output, which is squeezed through a sigmoid.\n"
   ]
  },
  {
   "cell_type": "code",
   "execution_count": 17,
   "id": "2b9c66db",
   "metadata": {
    "execution": {
     "iopub.execute_input": "2022-02-12T10:09:35.824273Z",
     "iopub.status.busy": "2022-02-12T10:09:35.820420Z",
     "iopub.status.idle": "2022-02-12T10:09:35.831775Z",
     "shell.execute_reply": "2022-02-12T10:09:35.832335Z"
    },
    "papermill": {
     "duration": 0.052386,
     "end_time": "2022-02-12T10:09:35.832501",
     "exception": false,
     "start_time": "2022-02-12T10:09:35.780115",
     "status": "completed"
    },
    "tags": []
   },
   "outputs": [],
   "source": [
    "data = Data(X_train, y_train.reshape(-1,1))\n",
    "sampler = Sampler(data, config.bs, shuffle=True)\n",
    "\n",
    "dl = Dataloader(data, sampler)\n",
    "\n",
    "opt = GD(config.lr)\n",
    "loss = MSE()"
   ]
  },
  {
   "cell_type": "code",
   "execution_count": 18,
   "id": "b275e4c2",
   "metadata": {
    "execution": {
     "iopub.execute_input": "2022-02-12T10:09:35.896403Z",
     "iopub.status.busy": "2022-02-12T10:09:35.891933Z",
     "iopub.status.idle": "2022-02-12T10:09:35.904090Z",
     "shell.execute_reply": "2022-02-12T10:09:35.903651Z"
    },
    "papermill": {
     "duration": 0.044023,
     "end_time": "2022-02-12T10:09:35.904217",
     "exception": false,
     "start_time": "2022-02-12T10:09:35.860194",
     "status": "completed"
    },
    "tags": []
   },
   "outputs": [],
   "source": [
    "training_data_x = X_train\n",
    "testing_data_x = X_test\n",
    "training_data_y = y_train.reshape(-1,1)\n",
    "testing_data_y = y_test.reshape(-1,1)"
   ]
  },
  {
   "cell_type": "code",
   "execution_count": 19,
   "id": "76951160",
   "metadata": {
    "execution": {
     "iopub.execute_input": "2022-02-12T10:09:35.964082Z",
     "iopub.status.busy": "2022-02-12T10:09:35.963536Z",
     "iopub.status.idle": "2022-02-12T10:09:35.978895Z",
     "shell.execute_reply": "2022-02-12T10:09:35.979341Z"
    },
    "papermill": {
     "duration": 0.047738,
     "end_time": "2022-02-12T10:09:35.979499",
     "exception": false,
     "start_time": "2022-02-12T10:09:35.931761",
     "status": "completed"
    },
    "tags": []
   },
   "outputs": [
    {
     "name": "stdout",
     "output_type": "stream",
     "text": [
      "xavier\n",
      "xavier\n",
      "xavier\n",
      "xavier\n",
      "xavier\n"
     ]
    }
   ],
   "source": [
    "layers = [Affine(\"first\", 784, 100), Relu(\"first\"), Affine(\"second\", 100, 100), Relu(\"second\"), Affine(\"third\", 100, 2), Affine(\"last\", 2, 1), Sigmoid(\"last\")]\n",
    "model_nn = Model(layers)\n",
    "model_lr = Model([Affine(\"logits\", 784, 1), Sigmoid(\"sigmoid\")])"
   ]
  },
  {
   "cell_type": "code",
   "execution_count": 20,
   "id": "6eede77a",
   "metadata": {
    "execution": {
     "iopub.execute_input": "2022-02-12T10:09:36.040222Z",
     "iopub.status.busy": "2022-02-12T10:09:36.039679Z",
     "iopub.status.idle": "2022-02-12T10:09:36.052311Z",
     "shell.execute_reply": "2022-02-12T10:09:36.051872Z"
    },
    "papermill": {
     "duration": 0.045062,
     "end_time": "2022-02-12T10:09:36.052441",
     "exception": false,
     "start_time": "2022-02-12T10:09:36.007379",
     "status": "completed"
    },
    "tags": []
   },
   "outputs": [],
   "source": [
    "nn_learner = Learner(loss, model_nn, opt, config.num_epochs)\n",
    "acc_nn = ClfCallback(nn_learner, config.bs, training_data_x , testing_data_x, training_data_y, testing_data_y)\n",
    "nn_learner.set_callbacks([acc_nn])"
   ]
  },
  {
   "cell_type": "code",
   "execution_count": 21,
   "id": "877b6cc7",
   "metadata": {
    "execution": {
     "iopub.execute_input": "2022-02-12T10:09:36.112140Z",
     "iopub.status.busy": "2022-02-12T10:09:36.111597Z",
     "iopub.status.idle": "2022-02-12T10:09:36.124215Z",
     "shell.execute_reply": "2022-02-12T10:09:36.123789Z"
    },
    "papermill": {
     "duration": 0.043992,
     "end_time": "2022-02-12T10:09:36.124334",
     "exception": false,
     "start_time": "2022-02-12T10:09:36.080342",
     "status": "completed"
    },
    "tags": []
   },
   "outputs": [],
   "source": [
    "lr_learner = Learner(loss, model_lr, opt, config.num_epochs)\n",
    "acc_lr = ClfCallback(lr_learner, config.bs, training_data_x , testing_data_x, training_data_y, testing_data_y)\n",
    "lr_learner.set_callbacks([acc_lr])"
   ]
  },
  {
   "cell_type": "code",
   "execution_count": 22,
   "id": "d9b133c3",
   "metadata": {
    "execution": {
     "iopub.execute_input": "2022-02-12T10:09:36.190602Z",
     "iopub.status.busy": "2022-02-12T10:09:36.190027Z",
     "iopub.status.idle": "2022-02-12T10:10:54.964938Z",
     "shell.execute_reply": "2022-02-12T10:10:54.965775Z"
    },
    "papermill": {
     "duration": 78.813987,
     "end_time": "2022-02-12T10:10:54.965939",
     "exception": false,
     "start_time": "2022-02-12T10:09:36.151952",
     "status": "completed"
    },
    "tags": []
   },
   "outputs": [
    {
     "name": "stdout",
     "output_type": "stream",
     "text": [
      "Epoch 0, Loss 0.2384\n",
      "Training Accuracy: 0.7364, Testing Accuracy: 0.7606\n",
      "\n"
     ]
    },
    {
     "name": "stdout",
     "output_type": "stream",
     "text": [
      "Epoch 10, Loss 0.0684\n",
      "Training Accuracy: 0.9319, Testing Accuracy: 0.9476\n",
      "\n"
     ]
    },
    {
     "name": "stdout",
     "output_type": "stream",
     "text": [
      "Epoch 20, Loss 0.047\n",
      "Training Accuracy: 0.9498, Testing Accuracy: 0.9582\n",
      "\n"
     ]
    },
    {
     "name": "stdout",
     "output_type": "stream",
     "text": [
      "Epoch 30, Loss 0.0388\n",
      "Training Accuracy: 0.9564, Testing Accuracy: 0.9647\n",
      "\n"
     ]
    },
    {
     "name": "stdout",
     "output_type": "stream",
     "text": [
      "Epoch 40, Loss 0.0343\n",
      "Training Accuracy: 0.9611, Testing Accuracy: 0.9682\n",
      "\n"
     ]
    },
    {
     "name": "stdout",
     "output_type": "stream",
     "text": [
      "Epoch 50, Loss 0.0314\n",
      "Training Accuracy: 0.9645, Testing Accuracy: 0.9708\n",
      "\n"
     ]
    },
    {
     "name": "stdout",
     "output_type": "stream",
     "text": [
      "Epoch 60, Loss 0.0293\n",
      "Training Accuracy: 0.9666, Testing Accuracy: 0.9713\n",
      "\n"
     ]
    },
    {
     "name": "stdout",
     "output_type": "stream",
     "text": [
      "Epoch 70, Loss 0.0276\n",
      "Training Accuracy: 0.9690, Testing Accuracy: 0.9713\n",
      "\n"
     ]
    },
    {
     "name": "stdout",
     "output_type": "stream",
     "text": [
      "Epoch 80, Loss 0.0263\n",
      "Training Accuracy: 0.9705, Testing Accuracy: 0.9713\n",
      "\n"
     ]
    },
    {
     "name": "stdout",
     "output_type": "stream",
     "text": [
      "Epoch 90, Loss 0.0251\n",
      "Training Accuracy: 0.9711, Testing Accuracy: 0.9708\n",
      "\n"
     ]
    },
    {
     "name": "stdout",
     "output_type": "stream",
     "text": [
      "Epoch 100, Loss 0.0241\n",
      "Training Accuracy: 0.9720, Testing Accuracy: 0.9728\n",
      "\n"
     ]
    },
    {
     "name": "stdout",
     "output_type": "stream",
     "text": [
      "Epoch 110, Loss 0.0232\n",
      "Training Accuracy: 0.9737, Testing Accuracy: 0.9733\n",
      "\n"
     ]
    },
    {
     "name": "stdout",
     "output_type": "stream",
     "text": [
      "Epoch 120, Loss 0.0224\n",
      "Training Accuracy: 0.9749, Testing Accuracy: 0.9743\n",
      "\n"
     ]
    },
    {
     "name": "stdout",
     "output_type": "stream",
     "text": [
      "Epoch 130, Loss 0.0217\n",
      "Training Accuracy: 0.9755, Testing Accuracy: 0.9758\n",
      "\n"
     ]
    },
    {
     "name": "stdout",
     "output_type": "stream",
     "text": [
      "Epoch 140, Loss 0.021\n",
      "Training Accuracy: 0.9761, Testing Accuracy: 0.9763\n",
      "\n"
     ]
    },
    {
     "name": "stdout",
     "output_type": "stream",
     "text": [
      "Epoch 150, Loss 0.0204\n",
      "Training Accuracy: 0.9771, Testing Accuracy: 0.9768\n",
      "\n"
     ]
    },
    {
     "name": "stdout",
     "output_type": "stream",
     "text": [
      "Epoch 160, Loss 0.0199\n",
      "Training Accuracy: 0.9779, Testing Accuracy: 0.9763\n",
      "\n"
     ]
    },
    {
     "name": "stdout",
     "output_type": "stream",
     "text": [
      "Epoch 170, Loss 0.0193\n",
      "Training Accuracy: 0.9782, Testing Accuracy: 0.9758\n",
      "\n"
     ]
    },
    {
     "name": "stdout",
     "output_type": "stream",
     "text": [
      "Epoch 180, Loss 0.0188\n",
      "Training Accuracy: 0.9792, Testing Accuracy: 0.9758\n",
      "\n"
     ]
    },
    {
     "name": "stdout",
     "output_type": "stream",
     "text": [
      "Epoch 190, Loss 0.0184\n",
      "Training Accuracy: 0.9800, Testing Accuracy: 0.9758\n",
      "\n"
     ]
    },
    {
     "name": "stdout",
     "output_type": "stream",
     "text": [
      "Epoch 200, Loss 0.0179\n",
      "Training Accuracy: 0.9809, Testing Accuracy: 0.9758\n",
      "\n"
     ]
    },
    {
     "name": "stdout",
     "output_type": "stream",
     "text": [
      "Epoch 210, Loss 0.0175\n",
      "Training Accuracy: 0.9808, Testing Accuracy: 0.9758\n",
      "\n"
     ]
    },
    {
     "name": "stdout",
     "output_type": "stream",
     "text": [
      "Epoch 220, Loss 0.0171\n",
      "Training Accuracy: 0.9816, Testing Accuracy: 0.9758\n",
      "\n"
     ]
    },
    {
     "name": "stdout",
     "output_type": "stream",
     "text": [
      "Epoch 230, Loss 0.0167\n",
      "Training Accuracy: 0.9822, Testing Accuracy: 0.9758\n",
      "\n"
     ]
    },
    {
     "name": "stdout",
     "output_type": "stream",
     "text": [
      "Epoch 240, Loss 0.0163\n",
      "Training Accuracy: 0.9826, Testing Accuracy: 0.9763\n",
      "\n"
     ]
    },
    {
     "data": {
      "text/plain": [
       "0.0006517153352262892"
      ]
     },
     "execution_count": 22,
     "metadata": {},
     "output_type": "execute_result"
    }
   ],
   "source": [
    "nn_learner.train_loop(dl)"
   ]
  },
  {
   "cell_type": "code",
   "execution_count": 23,
   "id": "e0163366",
   "metadata": {
    "execution": {
     "iopub.execute_input": "2022-02-12T10:10:55.053411Z",
     "iopub.status.busy": "2022-02-12T10:10:55.052853Z",
     "iopub.status.idle": "2022-02-12T10:11:09.316976Z",
     "shell.execute_reply": "2022-02-12T10:11:09.317748Z"
    },
    "papermill": {
     "duration": 14.316907,
     "end_time": "2022-02-12T10:11:09.317904",
     "exception": false,
     "start_time": "2022-02-12T10:10:55.000997",
     "status": "completed"
    },
    "tags": []
   },
   "outputs": [
    {
     "name": "stdout",
     "output_type": "stream",
     "text": [
      "Epoch 0, Loss 0.2254\n",
      "Training Accuracy: 0.7483, Testing Accuracy: 0.7581\n",
      "\n"
     ]
    },
    {
     "name": "stdout",
     "output_type": "stream",
     "text": [
      "Epoch 10, Loss 0.0993\n",
      "Training Accuracy: 0.9190, Testing Accuracy: 0.9299\n",
      "\n"
     ]
    },
    {
     "name": "stdout",
     "output_type": "stream",
     "text": [
      "Epoch 20, Loss 0.0771\n",
      "Training Accuracy: 0.9334, Testing Accuracy: 0.9425\n",
      "\n"
     ]
    },
    {
     "name": "stdout",
     "output_type": "stream",
     "text": [
      "Epoch 30, Loss 0.0667\n",
      "Training Accuracy: 0.9398, Testing Accuracy: 0.9491\n",
      "\n"
     ]
    },
    {
     "name": "stdout",
     "output_type": "stream",
     "text": [
      "Epoch 40, Loss 0.0604\n",
      "Training Accuracy: 0.9437, Testing Accuracy: 0.9536\n",
      "\n"
     ]
    },
    {
     "name": "stdout",
     "output_type": "stream",
     "text": [
      "Epoch 50, Loss 0.0561\n",
      "Training Accuracy: 0.9464, Testing Accuracy: 0.9551\n",
      "\n"
     ]
    },
    {
     "name": "stdout",
     "output_type": "stream",
     "text": [
      "Epoch 60, Loss 0.053\n",
      "Training Accuracy: 0.9488, Testing Accuracy: 0.9582\n",
      "\n"
     ]
    },
    {
     "name": "stdout",
     "output_type": "stream",
     "text": [
      "Epoch 70, Loss 0.0505\n",
      "Training Accuracy: 0.9503, Testing Accuracy: 0.9602\n",
      "\n"
     ]
    },
    {
     "name": "stdout",
     "output_type": "stream",
     "text": [
      "Epoch 80, Loss 0.0486\n",
      "Training Accuracy: 0.9518, Testing Accuracy: 0.9607\n",
      "\n"
     ]
    },
    {
     "name": "stdout",
     "output_type": "stream",
     "text": [
      "Epoch 90, Loss 0.047\n",
      "Training Accuracy: 0.9531, Testing Accuracy: 0.9622\n",
      "\n"
     ]
    },
    {
     "name": "stdout",
     "output_type": "stream",
     "text": [
      "Epoch 100, Loss 0.0456\n",
      "Training Accuracy: 0.9541, Testing Accuracy: 0.9632\n",
      "\n"
     ]
    },
    {
     "name": "stdout",
     "output_type": "stream",
     "text": [
      "Epoch 110, Loss 0.0444\n",
      "Training Accuracy: 0.9550, Testing Accuracy: 0.9647\n",
      "\n"
     ]
    },
    {
     "name": "stdout",
     "output_type": "stream",
     "text": [
      "Epoch 120, Loss 0.0434\n",
      "Training Accuracy: 0.9561, Testing Accuracy: 0.9642\n",
      "\n"
     ]
    },
    {
     "name": "stdout",
     "output_type": "stream",
     "text": [
      "Epoch 130, Loss 0.0425\n",
      "Training Accuracy: 0.9568, Testing Accuracy: 0.9642\n",
      "\n"
     ]
    },
    {
     "name": "stdout",
     "output_type": "stream",
     "text": [
      "Epoch 140, Loss 0.0417\n",
      "Training Accuracy: 0.9572, Testing Accuracy: 0.9647\n",
      "\n"
     ]
    },
    {
     "name": "stdout",
     "output_type": "stream",
     "text": [
      "Epoch 150, Loss 0.041\n",
      "Training Accuracy: 0.9575, Testing Accuracy: 0.9652\n",
      "\n"
     ]
    },
    {
     "name": "stdout",
     "output_type": "stream",
     "text": [
      "Epoch 160, Loss 0.0403\n",
      "Training Accuracy: 0.9583, Testing Accuracy: 0.9652\n",
      "\n"
     ]
    },
    {
     "name": "stdout",
     "output_type": "stream",
     "text": [
      "Epoch 170, Loss 0.0397\n",
      "Training Accuracy: 0.9587, Testing Accuracy: 0.9657\n",
      "\n"
     ]
    },
    {
     "name": "stdout",
     "output_type": "stream",
     "text": [
      "Epoch 180, Loss 0.0392\n",
      "Training Accuracy: 0.9589, Testing Accuracy: 0.9652\n",
      "\n"
     ]
    },
    {
     "name": "stdout",
     "output_type": "stream",
     "text": [
      "Epoch 190, Loss 0.0387\n",
      "Training Accuracy: 0.9594, Testing Accuracy: 0.9657\n",
      "\n"
     ]
    },
    {
     "name": "stdout",
     "output_type": "stream",
     "text": [
      "Epoch 200, Loss 0.0382\n",
      "Training Accuracy: 0.9595, Testing Accuracy: 0.9667\n",
      "\n"
     ]
    },
    {
     "name": "stdout",
     "output_type": "stream",
     "text": [
      "Epoch 210, Loss 0.0378\n",
      "Training Accuracy: 0.9599, Testing Accuracy: 0.9667\n",
      "\n"
     ]
    },
    {
     "name": "stdout",
     "output_type": "stream",
     "text": [
      "Epoch 220, Loss 0.0374\n",
      "Training Accuracy: 0.9609, Testing Accuracy: 0.9672\n",
      "\n"
     ]
    },
    {
     "name": "stdout",
     "output_type": "stream",
     "text": [
      "Epoch 230, Loss 0.037\n",
      "Training Accuracy: 0.9611, Testing Accuracy: 0.9672\n",
      "\n"
     ]
    },
    {
     "name": "stdout",
     "output_type": "stream",
     "text": [
      "Epoch 240, Loss 0.0367\n",
      "Training Accuracy: 0.9614, Testing Accuracy: 0.9672\n",
      "\n"
     ]
    },
    {
     "data": {
      "text/plain": [
       "0.015301705114669568"
      ]
     },
     "execution_count": 23,
     "metadata": {},
     "output_type": "execute_result"
    }
   ],
   "source": [
    "lr_learner.train_loop(dl)"
   ]
  },
  {
   "cell_type": "code",
   "execution_count": 24,
   "id": "ca410940",
   "metadata": {
    "execution": {
     "iopub.execute_input": "2022-02-12T10:11:09.409237Z",
     "iopub.status.busy": "2022-02-12T10:11:09.408665Z",
     "iopub.status.idle": "2022-02-12T10:11:09.632510Z",
     "shell.execute_reply": "2022-02-12T10:11:09.631659Z"
    },
    "papermill": {
     "duration": 0.27291,
     "end_time": "2022-02-12T10:11:09.632649",
     "exception": false,
     "start_time": "2022-02-12T10:11:09.359739",
     "status": "completed"
    },
    "tags": []
   },
   "outputs": [
    {
     "data": {
      "text/plain": [
       "<matplotlib.legend.Legend at 0x7f923b581cf8>"
      ]
     },
     "execution_count": 24,
     "metadata": {},
     "output_type": "execute_result"
    },
    {
     "data": {
      "image/png": "[encoded data removed]",
      "text/plain": [
       "<Figure size 1080x720 with 1 Axes>"
      ]
     },
     "metadata": {
      "needs_background": "light"
     },
     "output_type": "display_data"
    }
   ],
   "source": [
    "#comparing the results of NN and LR\n",
    "plt.figure(figsize=(15,10))\n",
    "\n",
    "# Neural Network plots\n",
    "plt.plot(acc_nn.accuracies, 'r-', label = \"Training Accuracies - NN\")\n",
    "plt.plot(acc_nn.test_accuracies, 'g-', label = \"Testing Accuracies - NN\")\n",
    "\n",
    "# Logistic Regression plots\n",
    "plt.plot(acc_lr.accuracies, 'k-', label = \"Training Accuracies - LR\")\n",
    "plt.plot(acc_lr.test_accuracies, 'b-', label = \"Testing Accuracies - LR\")\n",
    "plt.legend()"
   ]
  },
  {
   "cell_type": "markdown",
   "id": "80dfb35c",
   "metadata": {
    "papermill": {
     "duration": 0.042525,
     "end_time": "2022-02-12T10:11:09.718121",
     "exception": false,
     "start_time": "2022-02-12T10:11:09.675596",
     "status": "completed"
    },
    "tags": []
   },
   "source": [
    "#### Plotting the outputs of this layer of the NN.\n"
   ]
  },
  {
   "cell_type": "code",
   "execution_count": 25,
   "id": "45eb2ff5",
   "metadata": {
    "execution": {
     "iopub.execute_input": "2022-02-12T10:11:09.816450Z",
     "iopub.status.busy": "2022-02-12T10:11:09.815630Z",
     "iopub.status.idle": "2022-02-12T10:11:09.832043Z",
     "shell.execute_reply": "2022-02-12T10:11:09.832462Z"
    },
    "papermill": {
     "duration": 0.072027,
     "end_time": "2022-02-12T10:11:09.832623",
     "exception": false,
     "start_time": "2022-02-12T10:11:09.760596",
     "status": "completed"
    },
    "tags": []
   },
   "outputs": [],
   "source": [
    "new_model = Model(layers[:-2])\n",
    "testing_plot = new_model(testing_data_x)"
   ]
  },
  {
   "cell_type": "code",
   "execution_count": 26,
   "id": "4c0a5485",
   "metadata": {
    "execution": {
     "iopub.execute_input": "2022-02-12T10:11:09.933722Z",
     "iopub.status.busy": "2022-02-12T10:11:09.933150Z",
     "iopub.status.idle": "2022-02-12T10:11:10.154118Z",
     "shell.execute_reply": "2022-02-12T10:11:10.153676Z"
    },
    "papermill": {
     "duration": 0.274703,
     "end_time": "2022-02-12T10:11:10.154243",
     "exception": false,
     "start_time": "2022-02-12T10:11:09.879540",
     "status": "completed"
    },
    "tags": []
   },
   "outputs": [
    {
     "data": {
      "text/plain": [
       "Text(0.5, 1.0, 'Outputs')"
      ]
     },
     "execution_count": 26,
     "metadata": {},
     "output_type": "execute_result"
    },
    {
     "data": {
      "image/png": "[encoded data removed]",
      "text/plain": [
       "<Figure size 576x504 with 1 Axes>"
      ]
     },
     "metadata": {
      "needs_background": "light"
     },
     "output_type": "display_data"
    }
   ],
   "source": [
    "# Plotting the scatter plot of points and color coding by class\n",
    "plt.figure(figsize=(8,7))\n",
    "plt.scatter(testing_plot[:,0], testing_plot[:,1], alpha = 0.1, c = y_test.ravel());\n",
    "plt.title('Outputs')"
   ]
  },
  {
   "cell_type": "markdown",
   "id": "a74fcf8f",
   "metadata": {
    "papermill": {
     "duration": 0.046865,
     "end_time": "2022-02-12T10:11:10.247639",
     "exception": false,
     "start_time": "2022-02-12T10:11:10.200774",
     "status": "completed"
    },
    "tags": []
   },
   "source": [
    "Probability contours"
   ]
  },
  {
   "cell_type": "code",
   "execution_count": 27,
   "id": "d0afc8e3",
   "metadata": {
    "execution": {
     "iopub.execute_input": "2022-02-12T10:11:10.352762Z",
     "iopub.status.busy": "2022-02-12T10:11:10.352221Z",
     "iopub.status.idle": "2022-02-12T10:11:10.364366Z",
     "shell.execute_reply": "2022-02-12T10:11:10.364774Z"
    },
    "papermill": {
     "duration": 0.069573,
     "end_time": "2022-02-12T10:11:10.364924",
     "exception": false,
     "start_time": "2022-02-12T10:11:10.295351",
     "status": "completed"
    },
    "tags": []
   },
   "outputs": [],
   "source": [
    "model_prob = Model(layers[-2:]) "
   ]
  },
  {
   "cell_type": "code",
   "execution_count": 28,
   "id": "9b96e238",
   "metadata": {
    "execution": {
     "iopub.execute_input": "2022-02-12T10:11:10.496808Z",
     "iopub.status.busy": "2022-02-12T10:11:10.496247Z",
     "iopub.status.idle": "2022-02-12T10:11:10.507214Z",
     "shell.execute_reply": "2022-02-12T10:11:10.507649Z"
    },
    "papermill": {
     "duration": 0.064629,
     "end_time": "2022-02-12T10:11:10.507801",
     "exception": false,
     "start_time": "2022-02-12T10:11:10.443172",
     "status": "completed"
    },
    "tags": []
   },
   "outputs": [],
   "source": [
    "#creating the x and y ranges according to the above generated plot.\n",
    "x_range = np.linspace(-4, 1, 100) \n",
    "y_range = np.linspace(-6, 6, 100) \n",
    "x_grid, y_grid = np.meshgrid(x_range, y_range) # x_grid and y_grig are of size 100 X 100\n",
    "\n",
    "# converting x_grid and y_grid to continuous arrays\n",
    "x_gridflat = np.ravel(x_grid)\n",
    "y_gridflat = np.ravel(y_grid)\n",
    "\n",
    "# The last layer of the current model takes two columns as input. Hence transpose of np.vstack() is required.\n",
    "X = np.vstack((x_gridflat, y_gridflat)).T\n",
    "\n",
    "prob_contour = model_prob(X).reshape(100,100) "
   ]
  },
  {
   "cell_type": "code",
   "execution_count": 29,
   "id": "da72499a",
   "metadata": {
    "execution": {
     "iopub.execute_input": "2022-02-12T10:11:10.608865Z",
     "iopub.status.busy": "2022-02-12T10:11:10.608320Z",
     "iopub.status.idle": "2022-02-12T10:11:10.850199Z",
     "shell.execute_reply": "2022-02-12T10:11:10.850618Z"
    },
    "papermill": {
     "duration": 0.297017,
     "end_time": "2022-02-12T10:11:10.850770",
     "exception": false,
     "start_time": "2022-02-12T10:11:10.553753",
     "status": "completed"
    },
    "tags": []
   },
   "outputs": [
    {
     "data": {
      "image/png": "[encoded data removed]",
      "text/plain": [
       "<Figure size 720x648 with 1 Axes>"
      ]
     },
     "metadata": {
      "needs_background": "light"
     },
     "output_type": "display_data"
    }
   ],
   "source": [
    "plt.figure(figsize=(10,9))\n",
    "plt.scatter(testing_plot[:,0], testing_plot[:,1], alpha = 0.1, c = y_test.ravel())\n",
    "contours = plt.contour(x_grid,y_grid,prob_contour)\n",
    "plt.title('Probability Contours')\n",
    "plt.clabel(contours, inline = True );"
   ]
  },
  {
   "cell_type": "code",
   "execution_count": null,
   "id": "e81b4ac7",
   "metadata": {
    "papermill": {
     "duration": 0.048031,
     "end_time": "2022-02-12T10:11:10.947740",
     "exception": false,
     "start_time": "2022-02-12T10:11:10.899709",
     "status": "completed"
    },
    "tags": []
   },
   "outputs": [],
   "source": []
  }
 ],
 "metadata": {
  "kernelspec": {
   "display_name": "Python 3",
   "language": "python",
   "name": "python3"
  },
  "language_info": {
   "codemirror_mode": {
    "name": "ipython",
    "version": 3
   },
   "file_extension": ".py",
   "mimetype": "text/x-python",
   "name": "python",
   "nbconvert_exporter": "python",
   "pygments_lexer": "ipython3",
   "version": "3.6.15"
  },
  "papermill": {
   "default_parameters": {},
   "duration": 101.481941,
   "end_time": "2022-02-12T10:11:11.415579",
   "environment_variables": {},
   "exception": null,
   "input_path": "2020-08-11-part2.ipynb",
   "output_path": "2020-08-11-part2.ipynb",
   "parameters": {},
   "start_time": "2022-02-12T10:09:29.933638",
   "version": "2.3.3"
  }
 },
 "nbformat": 4,
 "nbformat_minor": 5
}