{
 "cells": [
  {
   "cell_type": "markdown",
   "id": "98380cd3",
   "metadata": {
    "papermill": {
     "duration": 0.030643,
     "end_time": "2021-09-27T10:07:15.548338",
     "exception": false,
     "start_time": "2021-09-27T10:07:15.517695",
     "status": "completed"
    },
    "tags": []
   },
   "source": [
    "# Distinguish Your Own Digits (DYOD)"
   ]
  },
  {
   "cell_type": "markdown",
   "id": "ef31240d",
   "metadata": {
    "papermill": {
     "duration": 0.026673,
     "end_time": "2021-09-27T10:07:15.602298",
     "exception": false,
     "start_time": "2021-09-27T10:07:15.575625",
     "status": "completed"
    },
    "tags": []
   },
   "source": [
    "You are going to write a classifier that distinguishes between the number 3 and number 8."
   ]
  },
  {
   "cell_type": "code",
   "execution_count": 1,
   "id": "b15c8646",
   "metadata": {
    "execution": {
     "iopub.execute_input": "2021-09-27T10:07:15.669393Z",
     "iopub.status.busy": "2021-09-27T10:07:15.668785Z",
     "iopub.status.idle": "2021-09-27T10:07:15.680080Z",
     "shell.execute_reply": "2021-09-27T10:07:15.679589Z"
    },
    "papermill": {
     "duration": 0.051334,
     "end_time": "2021-09-27T10:07:15.680221",
     "exception": false,
     "start_time": "2021-09-27T10:07:15.628887",
     "status": "completed"
    },
    "tags": []
   },
   "outputs": [],
   "source": [
    "%load_ext autoreload\n",
    "%autoreload 2"
   ]
  },
  {
   "cell_type": "code",
   "execution_count": 2,
   "id": "22ef38dc",
   "metadata": {
    "execution": {
     "iopub.execute_input": "2021-09-27T10:07:15.741095Z",
     "iopub.status.busy": "2021-09-27T10:07:15.740337Z",
     "iopub.status.idle": "2021-09-27T10:07:16.303857Z",
     "shell.execute_reply": "2021-09-27T10:07:16.302927Z"
    },
    "papermill": {
     "duration": 0.597336,
     "end_time": "2021-09-27T10:07:16.304085",
     "exception": false,
     "start_time": "2021-09-27T10:07:15.706749",
     "status": "completed"
    },
    "tags": []
   },
   "outputs": [],
   "source": [
    "%matplotlib inline\n",
    "import numpy as np\n",
    "import matplotlib.pyplot as plt\n",
    "import pandas as pd"
   ]
  },
  {
   "cell_type": "markdown",
   "id": "ba036198",
   "metadata": {
    "papermill": {
     "duration": 0.026982,
     "end_time": "2021-09-27T10:07:16.364621",
     "exception": false,
     "start_time": "2021-09-27T10:07:16.337639",
     "status": "completed"
    },
    "tags": []
   },
   "source": [
    "From the command line run `pip install mnist`. This is a library that will help you bring down the mnist dataset. If you run this from a notebook, you need to put  `!pip install mnist` in a cell by itself."
   ]
  },
  {
   "cell_type": "code",
   "execution_count": 3,
   "id": "bb6ad8a1",
   "metadata": {
    "execution": {
     "iopub.execute_input": "2021-09-27T10:07:16.423442Z",
     "iopub.status.busy": "2021-09-27T10:07:16.422836Z",
     "iopub.status.idle": "2021-09-27T10:07:18.264852Z",
     "shell.execute_reply": "2021-09-27T10:07:18.264201Z"
    },
    "papermill": {
     "duration": 1.874168,
     "end_time": "2021-09-27T10:07:18.265028",
     "exception": false,
     "start_time": "2021-09-27T10:07:16.390860",
     "status": "completed"
    },
    "tags": []
   },
   "outputs": [
    {
     "name": "stdout",
     "output_type": "stream",
     "text": [
      "Collecting mnist\r\n"
     ]
    },
    {
     "name": "stdout",
     "output_type": "stream",
     "text": [
      "  Downloading mnist-0.2.2-py2.py3-none-any.whl (3.5 kB)\r\n",
      "Requirement already satisfied: numpy in /opt/hostedtoolcache/Python/3.6.15/x64/lib/python3.6/site-packages (from mnist) (1.19.5)\r\n"
     ]
    },
    {
     "name": "stdout",
     "output_type": "stream",
     "text": [
      "Installing collected packages: mnist\r\n"
     ]
    },
    {
     "name": "stdout",
     "output_type": "stream",
     "text": [
      "Successfully installed mnist-0.2.2\r\n"
     ]
    }
   ],
   "source": [
    "!pip install mnist"
   ]
  },
  {
   "cell_type": "markdown",
   "id": "69df9c9a",
   "metadata": {
    "papermill": {
     "duration": 0.036898,
     "end_time": "2021-09-27T10:07:18.330417",
     "exception": false,
     "start_time": "2021-09-27T10:07:18.293519",
     "status": "completed"
    },
    "tags": []
   },
   "source": [
    "## Preparing the Data"
   ]
  },
  {
   "cell_type": "code",
   "execution_count": 4,
   "id": "7f69d806",
   "metadata": {
    "execution": {
     "iopub.execute_input": "2021-09-27T10:07:18.391389Z",
     "iopub.status.busy": "2021-09-27T10:07:18.390794Z",
     "iopub.status.idle": "2021-09-27T10:07:18.409824Z",
     "shell.execute_reply": "2021-09-27T10:07:18.410335Z"
    },
    "papermill": {
     "duration": 0.052785,
     "end_time": "2021-09-27T10:07:18.410476",
     "exception": false,
     "start_time": "2021-09-27T10:07:18.357691",
     "status": "completed"
    },
    "tags": []
   },
   "outputs": [],
   "source": [
    "import mnist"
   ]
  },
  {
   "cell_type": "code",
   "execution_count": 5,
   "id": "a411e44f",
   "metadata": {
    "execution": {
     "iopub.execute_input": "2021-09-27T10:07:18.468091Z",
     "iopub.status.busy": "2021-09-27T10:07:18.467543Z",
     "iopub.status.idle": "2021-09-27T10:07:19.034213Z",
     "shell.execute_reply": "2021-09-27T10:07:19.033527Z"
    },
    "papermill": {
     "duration": 0.59634,
     "end_time": "2021-09-27T10:07:19.034378",
     "exception": false,
     "start_time": "2021-09-27T10:07:18.438038",
     "status": "completed"
    },
    "tags": []
   },
   "outputs": [],
   "source": [
    "train_images = mnist.train_images()\n",
    "train_labels = mnist.train_labels()"
   ]
  },
  {
   "cell_type": "code",
   "execution_count": 6,
   "id": "dceab3a5",
   "metadata": {
    "execution": {
     "iopub.execute_input": "2021-09-27T10:07:19.094284Z",
     "iopub.status.busy": "2021-09-27T10:07:19.093683Z",
     "iopub.status.idle": "2021-09-27T10:07:19.109819Z",
     "shell.execute_reply": "2021-09-27T10:07:19.109374Z"
    },
    "papermill": {
     "duration": 0.04693,
     "end_time": "2021-09-27T10:07:19.109959",
     "exception": false,
     "start_time": "2021-09-27T10:07:19.063029",
     "status": "completed"
    },
    "tags": []
   },
   "outputs": [
    {
     "data": {
      "text/plain": [
       "((60000, 28, 28), (60000,))"
      ]
     },
     "execution_count": 6,
     "metadata": {},
     "output_type": "execute_result"
    }
   ],
   "source": [
    "train_images.shape, train_labels.shape"
   ]
  },
  {
   "cell_type": "code",
   "execution_count": 7,
   "id": "f50dc2bb",
   "metadata": {
    "execution": {
     "iopub.execute_input": "2021-09-27T10:07:19.168351Z",
     "iopub.status.busy": "2021-09-27T10:07:19.167770Z",
     "iopub.status.idle": "2021-09-27T10:07:19.294230Z",
     "shell.execute_reply": "2021-09-27T10:07:19.293207Z"
    },
    "papermill": {
     "duration": 0.157316,
     "end_time": "2021-09-27T10:07:19.294452",
     "exception": false,
     "start_time": "2021-09-27T10:07:19.137136",
     "status": "completed"
    },
    "tags": []
   },
   "outputs": [],
   "source": [
    "test_images = mnist.test_images()\n",
    "test_labels = mnist.test_labels()"
   ]
  },
  {
   "cell_type": "code",
   "execution_count": 8,
   "id": "fc38cf1b",
   "metadata": {
    "execution": {
     "iopub.execute_input": "2021-09-27T10:07:19.354060Z",
     "iopub.status.busy": "2021-09-27T10:07:19.352942Z",
     "iopub.status.idle": "2021-09-27T10:07:19.368356Z",
     "shell.execute_reply": "2021-09-27T10:07:19.367855Z"
    },
    "papermill": {
     "duration": 0.046114,
     "end_time": "2021-09-27T10:07:19.368476",
     "exception": false,
     "start_time": "2021-09-27T10:07:19.322362",
     "status": "completed"
    },
    "tags": []
   },
   "outputs": [
    {
     "data": {
      "text/plain": [
       "((10000, 28, 28), (10000,))"
      ]
     },
     "execution_count": 8,
     "metadata": {},
     "output_type": "execute_result"
    }
   ],
   "source": [
    "test_images.shape, test_labels.shape"
   ]
  },
  {
   "cell_type": "code",
   "execution_count": 9,
   "id": "f9ed8fe0",
   "metadata": {
    "execution": {
     "iopub.execute_input": "2021-09-27T10:07:19.428942Z",
     "iopub.status.busy": "2021-09-27T10:07:19.428350Z",
     "iopub.status.idle": "2021-09-27T10:07:19.598487Z",
     "shell.execute_reply": "2021-09-27T10:07:19.597733Z"
    },
    "papermill": {
     "duration": 0.202473,
     "end_time": "2021-09-27T10:07:19.598638",
     "exception": false,
     "start_time": "2021-09-27T10:07:19.396165",
     "status": "completed"
    },
    "tags": []
   },
   "outputs": [
    {
     "name": "stdout",
     "output_type": "stream",
     "text": [
      "2\n"
     ]
    },
    {
     "data": {
      "text/plain": [
       "<matplotlib.image.AxesImage at 0x7f9e8822a898>"
      ]
     },
     "execution_count": 9,
     "metadata": {},
     "output_type": "execute_result"
    },
    {
     "data": {
      "image/png": "[encoded data removed]",
      "text/plain": [
       "<Figure size 432x288 with 1 Axes>"
      ]
     },
     "metadata": {
      "needs_background": "light"
     },
     "output_type": "display_data"
    }
   ],
   "source": [
    "image_index = 7776 # You may select anything up to 60,000\n",
    "print(train_labels[image_index]) \n",
    "plt.imshow(train_images[image_index], cmap='Greys')"
   ]
  },
  {
   "cell_type": "markdown",
   "id": "a8d2388d",
   "metadata": {
    "papermill": {
     "duration": 0.031986,
     "end_time": "2021-09-27T10:07:19.664706",
     "exception": false,
     "start_time": "2021-09-27T10:07:19.632720",
     "status": "completed"
    },
    "tags": []
   },
   "source": [
    "## Filter data to get 3 and 8 out"
   ]
  },
  {
   "cell_type": "code",
   "execution_count": 10,
   "id": "776f7fc7",
   "metadata": {
    "execution": {
     "iopub.execute_input": "2021-09-27T10:07:19.734858Z",
     "iopub.status.busy": "2021-09-27T10:07:19.732990Z",
     "iopub.status.idle": "2021-09-27T10:07:19.753104Z",
     "shell.execute_reply": "2021-09-27T10:07:19.752608Z"
    },
    "papermill": {
     "duration": 0.056708,
     "end_time": "2021-09-27T10:07:19.753240",
     "exception": false,
     "start_time": "2021-09-27T10:07:19.696532",
     "status": "completed"
    },
    "tags": []
   },
   "outputs": [],
   "source": [
    "train_filter = np.where((train_labels == 3 ) | (train_labels == 8))\n",
    "test_filter = np.where((test_labels == 3) | (test_labels == 8))\n",
    "X_train, y_train = train_images[train_filter], train_labels[train_filter]\n",
    "X_test, y_test = test_images[test_filter], test_labels[test_filter]"
   ]
  },
  {
   "cell_type": "markdown",
   "id": "948f0b7e",
   "metadata": {
    "papermill": {
     "duration": 0.029327,
     "end_time": "2021-09-27T10:07:19.813200",
     "exception": false,
     "start_time": "2021-09-27T10:07:19.783873",
     "status": "completed"
    },
    "tags": []
   },
   "source": [
    "We normalize the pizel values in the 0 to 1 range"
   ]
  },
  {
   "cell_type": "code",
   "execution_count": 11,
   "id": "ee4c2166",
   "metadata": {
    "execution": {
     "iopub.execute_input": "2021-09-27T10:07:19.882408Z",
     "iopub.status.busy": "2021-09-27T10:07:19.881769Z",
     "iopub.status.idle": "2021-09-27T10:07:19.936326Z",
     "shell.execute_reply": "2021-09-27T10:07:19.935649Z"
    },
    "papermill": {
     "duration": 0.092435,
     "end_time": "2021-09-27T10:07:19.936466",
     "exception": false,
     "start_time": "2021-09-27T10:07:19.844031",
     "status": "completed"
    },
    "tags": []
   },
   "outputs": [],
   "source": [
    "X_train = X_train/255.\n",
    "X_test = X_test/255."
   ]
  },
  {
   "cell_type": "markdown",
   "id": "ddcf4fab",
   "metadata": {
    "papermill": {
     "duration": 0.036873,
     "end_time": "2021-09-27T10:07:20.010719",
     "exception": false,
     "start_time": "2021-09-27T10:07:19.973846",
     "status": "completed"
    },
    "tags": []
   },
   "source": [
    "And setup the labels as 1 (when the digit is 3) and 0 (when the digit is 8)"
   ]
  },
  {
   "cell_type": "code",
   "execution_count": 12,
   "id": "7dc908f2",
   "metadata": {
    "execution": {
     "iopub.execute_input": "2021-09-27T10:07:20.083125Z",
     "iopub.status.busy": "2021-09-27T10:07:20.082550Z",
     "iopub.status.idle": "2021-09-27T10:07:20.096469Z",
     "shell.execute_reply": "2021-09-27T10:07:20.095980Z"
    },
    "papermill": {
     "duration": 0.048321,
     "end_time": "2021-09-27T10:07:20.096597",
     "exception": false,
     "start_time": "2021-09-27T10:07:20.048276",
     "status": "completed"
    },
    "tags": []
   },
   "outputs": [],
   "source": [
    "y_train = 1*(y_train==3)\n",
    "y_test = 1*(y_test==3)"
   ]
  },
  {
   "cell_type": "code",
   "execution_count": 13,
   "id": "01e4e969",
   "metadata": {
    "execution": {
     "iopub.execute_input": "2021-09-27T10:07:20.160754Z",
     "iopub.status.busy": "2021-09-27T10:07:20.160160Z",
     "iopub.status.idle": "2021-09-27T10:07:20.174020Z",
     "shell.execute_reply": "2021-09-27T10:07:20.173502Z"
    },
    "papermill": {
     "duration": 0.047323,
     "end_time": "2021-09-27T10:07:20.174152",
     "exception": false,
     "start_time": "2021-09-27T10:07:20.126829",
     "status": "completed"
    },
    "tags": []
   },
   "outputs": [
    {
     "data": {
      "text/plain": [
       "((11982, 28, 28), (1984, 28, 28))"
      ]
     },
     "execution_count": 13,
     "metadata": {},
     "output_type": "execute_result"
    }
   ],
   "source": [
    "X_train.shape, X_test.shape"
   ]
  },
  {
   "cell_type": "markdown",
   "id": "5ccf3f85",
   "metadata": {
    "papermill": {
     "duration": 0.029512,
     "end_time": "2021-09-27T10:07:20.233980",
     "exception": false,
     "start_time": "2021-09-27T10:07:20.204468",
     "status": "completed"
    },
    "tags": []
   },
   "source": [
    "We reshape the data to flatten the image pixels into a set of features or co-variates:"
   ]
  },
  {
   "cell_type": "code",
   "execution_count": 14,
   "id": "5286a4a3",
   "metadata": {
    "execution": {
     "iopub.execute_input": "2021-09-27T10:07:20.303121Z",
     "iopub.status.busy": "2021-09-27T10:07:20.300133Z",
     "iopub.status.idle": "2021-09-27T10:07:20.314272Z",
     "shell.execute_reply": "2021-09-27T10:07:20.314695Z"
    },
    "papermill": {
     "duration": 0.05038,
     "end_time": "2021-09-27T10:07:20.314833",
     "exception": false,
     "start_time": "2021-09-27T10:07:20.264453",
     "status": "completed"
    },
    "tags": []
   },
   "outputs": [
    {
     "data": {
      "text/plain": [
       "((11982, 784), (1984, 784))"
      ]
     },
     "execution_count": 14,
     "metadata": {},
     "output_type": "execute_result"
    }
   ],
   "source": [
    "X_train = X_train.reshape(X_train.shape[0], -1)\n",
    "X_test = X_test.reshape(X_test.shape[0], -1)\n",
    "X_train.shape, X_test.shape"
   ]
  },
  {
   "cell_type": "code",
   "execution_count": 15,
   "id": "73c5f88a",
   "metadata": {
    "execution": {
     "iopub.execute_input": "2021-09-27T10:07:20.379345Z",
     "iopub.status.busy": "2021-09-27T10:07:20.378744Z",
     "iopub.status.idle": "2021-09-27T10:07:20.399370Z",
     "shell.execute_reply": "2021-09-27T10:07:20.399828Z"
    },
    "papermill": {
     "duration": 0.054984,
     "end_time": "2021-09-27T10:07:20.399978",
     "exception": false,
     "start_time": "2021-09-27T10:07:20.344994",
     "status": "completed"
    },
    "tags": []
   },
   "outputs": [],
   "source": [
    "#Impoting functions from 'Kudzu'\n",
    "from kudzu.model import Model\n",
    "from kudzu.train import Learner\n",
    "from kudzu.optim import GD\n",
    "from kudzu.data import Data, Sampler,Dataloader\n",
    "\n",
    "from kudzu.callbacks import AccCallback\n",
    "from kudzu.callbacks import ClfCallback\n",
    "\n",
    "from kudzu.loss import MSE\n",
    "\n",
    "from kudzu.layer import Sigmoid,Relu\n",
    "from kudzu.layer import Affine"
   ]
  },
  {
   "cell_type": "markdown",
   "id": "bc01172a",
   "metadata": {
    "papermill": {
     "duration": 0.029738,
     "end_time": "2021-09-27T10:07:20.458908",
     "exception": false,
     "start_time": "2021-09-27T10:07:20.429170",
     "status": "completed"
    },
    "tags": []
   },
   "source": [
    "### Let us create a `Config` class, to store important parameters. \n",
    "This class essentially plays the role of a dictionary."
   ]
  },
  {
   "cell_type": "code",
   "execution_count": 16,
   "id": "978281aa",
   "metadata": {
    "execution": {
     "iopub.execute_input": "2021-09-27T10:07:20.523119Z",
     "iopub.status.busy": "2021-09-27T10:07:20.522559Z",
     "iopub.status.idle": "2021-09-27T10:07:20.535854Z",
     "shell.execute_reply": "2021-09-27T10:07:20.535349Z"
    },
    "papermill": {
     "duration": 0.047138,
     "end_time": "2021-09-27T10:07:20.535976",
     "exception": false,
     "start_time": "2021-09-27T10:07:20.488838",
     "status": "completed"
    },
    "tags": []
   },
   "outputs": [],
   "source": [
    "class Config:\n",
    "    pass\n",
    "config = Config()\n",
    "config.lr = 0.001\n",
    "config.num_epochs = 250\n",
    "config.bs = 50"
   ]
  },
  {
   "cell_type": "markdown",
   "id": "1385fa59",
   "metadata": {
    "papermill": {
     "duration": 0.029122,
     "end_time": "2021-09-27T10:07:20.594866",
     "exception": false,
     "start_time": "2021-09-27T10:07:20.565744",
     "status": "completed"
    },
    "tags": []
   },
   "source": [
    "### Running Models with the Training data\n",
    "Details about the network layers:\n",
    "- A first affine layer has 784 inputs and does 100 affine transforms. These are followed by a Relu\n",
    "- A second affine layer has 100 inputs from the 100 activations of the past layer, and does 100 affine transforms. These are followed by a Relu\n",
    "- A third affine layer has 100 activations and does 2 affine transformations to create an embedding for visualization. There is no non-linearity here.\n",
    "- A final \"logistic regression\" which has an affine transform from 2 inputs to 1 output, which is squeezed through a sigmoid.\n"
   ]
  },
  {
   "cell_type": "code",
   "execution_count": 17,
   "id": "2b9c66db",
   "metadata": {
    "execution": {
     "iopub.execute_input": "2021-09-27T10:07:20.659851Z",
     "iopub.status.busy": "2021-09-27T10:07:20.658806Z",
     "iopub.status.idle": "2021-09-27T10:07:20.674076Z",
     "shell.execute_reply": "2021-09-27T10:07:20.673572Z"
    },
    "papermill": {
     "duration": 0.049574,
     "end_time": "2021-09-27T10:07:20.674193",
     "exception": false,
     "start_time": "2021-09-27T10:07:20.624619",
     "status": "completed"
    },
    "tags": []
   },
   "outputs": [],
   "source": [
    "data = Data(X_train, y_train.reshape(-1,1))\n",
    "sampler = Sampler(data, config.bs, shuffle=True)\n",
    "\n",
    "dl = Dataloader(data, sampler)\n",
    "\n",
    "opt = GD(config.lr)\n",
    "loss = MSE()"
   ]
  },
  {
   "cell_type": "code",
   "execution_count": 18,
   "id": "b275e4c2",
   "metadata": {
    "execution": {
     "iopub.execute_input": "2021-09-27T10:07:20.736750Z",
     "iopub.status.busy": "2021-09-27T10:07:20.736155Z",
     "iopub.status.idle": "2021-09-27T10:07:20.750443Z",
     "shell.execute_reply": "2021-09-27T10:07:20.749529Z"
    },
    "papermill": {
     "duration": 0.047317,
     "end_time": "2021-09-27T10:07:20.750653",
     "exception": false,
     "start_time": "2021-09-27T10:07:20.703336",
     "status": "completed"
    },
    "tags": []
   },
   "outputs": [],
   "source": [
    "training_data_x = X_train\n",
    "testing_data_x = X_test\n",
    "training_data_y = y_train.reshape(-1,1)\n",
    "testing_data_y = y_test.reshape(-1,1)"
   ]
  },
  {
   "cell_type": "code",
   "execution_count": 19,
   "id": "76951160",
   "metadata": {
    "execution": {
     "iopub.execute_input": "2021-09-27T10:07:20.818569Z",
     "iopub.status.busy": "2021-09-27T10:07:20.817977Z",
     "iopub.status.idle": "2021-09-27T10:07:20.836215Z",
     "shell.execute_reply": "2021-09-27T10:07:20.835715Z"
    },
    "papermill": {
     "duration": 0.052991,
     "end_time": "2021-09-27T10:07:20.836335",
     "exception": false,
     "start_time": "2021-09-27T10:07:20.783344",
     "status": "completed"
    },
    "tags": []
   },
   "outputs": [
    {
     "name": "stdout",
     "output_type": "stream",
     "text": [
      "xavier\n",
      "xavier\n",
      "xavier\n",
      "xavier\n",
      "xavier\n"
     ]
    }
   ],
   "source": [
    "layers = [Affine(\"first\", 784, 100), Relu(\"first\"), Affine(\"second\", 100, 100), Relu(\"second\"), Affine(\"third\", 100, 2), Affine(\"last\", 2, 1), Sigmoid(\"last\")]\n",
    "model_nn = Model(layers)\n",
    "model_lr = Model([Affine(\"logits\", 784, 1), Sigmoid(\"sigmoid\")])"
   ]
  },
  {
   "cell_type": "code",
   "execution_count": 20,
   "id": "6eede77a",
   "metadata": {
    "execution": {
     "iopub.execute_input": "2021-09-27T10:07:20.899640Z",
     "iopub.status.busy": "2021-09-27T10:07:20.899097Z",
     "iopub.status.idle": "2021-09-27T10:07:20.914698Z",
     "shell.execute_reply": "2021-09-27T10:07:20.914113Z"
    },
    "papermill": {
     "duration": 0.048653,
     "end_time": "2021-09-27T10:07:20.914809",
     "exception": false,
     "start_time": "2021-09-27T10:07:20.866156",
     "status": "completed"
    },
    "tags": []
   },
   "outputs": [],
   "source": [
    "nn_learner = Learner(loss, model_nn, opt, config.num_epochs)\n",
    "acc_nn = ClfCallback(nn_learner, config.bs, training_data_x , testing_data_x, training_data_y, testing_data_y)\n",
    "nn_learner.set_callbacks([acc_nn])"
   ]
  },
  {
   "cell_type": "code",
   "execution_count": 21,
   "id": "877b6cc7",
   "metadata": {
    "execution": {
     "iopub.execute_input": "2021-09-27T10:07:20.979615Z",
     "iopub.status.busy": "2021-09-27T10:07:20.979068Z",
     "iopub.status.idle": "2021-09-27T10:07:20.991748Z",
     "shell.execute_reply": "2021-09-27T10:07:20.991283Z"
    },
    "papermill": {
     "duration": 0.046564,
     "end_time": "2021-09-27T10:07:20.991857",
     "exception": false,
     "start_time": "2021-09-27T10:07:20.945293",
     "status": "completed"
    },
    "tags": []
   },
   "outputs": [],
   "source": [
    "lr_learner = Learner(loss, model_lr, opt, config.num_epochs)\n",
    "acc_lr = ClfCallback(lr_learner, config.bs, training_data_x , testing_data_x, training_data_y, testing_data_y)\n",
    "lr_learner.set_callbacks([acc_lr])"
   ]
  },
  {
   "cell_type": "code",
   "execution_count": 22,
   "id": "d9b133c3",
   "metadata": {
    "execution": {
     "iopub.execute_input": "2021-09-27T10:07:21.059459Z",
     "iopub.status.busy": "2021-09-27T10:07:21.058520Z",
     "iopub.status.idle": "2021-09-27T10:08:46.906396Z",
     "shell.execute_reply": "2021-09-27T10:08:46.907280Z"
    },
    "papermill": {
     "duration": 85.884592,
     "end_time": "2021-09-27T10:08:46.907453",
     "exception": false,
     "start_time": "2021-09-27T10:07:21.022861",
     "status": "completed"
    },
    "tags": []
   },
   "outputs": [
    {
     "name": "stdout",
     "output_type": "stream",
     "text": [
      "Epoch 0, Loss 0.2464\n",
      "Training Accuracy: 0.6988, Testing Accuracy: 0.7107\n",
      "\n"
     ]
    },
    {
     "name": "stdout",
     "output_type": "stream",
     "text": [
      "Epoch 10, Loss 0.0701\n",
      "Training Accuracy: 0.9346, Testing Accuracy: 0.9496\n",
      "\n"
     ]
    },
    {
     "name": "stdout",
     "output_type": "stream",
     "text": [
      "Epoch 20, Loss 0.0467\n",
      "Training Accuracy: 0.9508, Testing Accuracy: 0.9617\n",
      "\n"
     ]
    },
    {
     "name": "stdout",
     "output_type": "stream",
     "text": [
      "Epoch 30, Loss 0.0383\n",
      "Training Accuracy: 0.9571, Testing Accuracy: 0.9647\n",
      "\n"
     ]
    },
    {
     "name": "stdout",
     "output_type": "stream",
     "text": [
      "Epoch 40, Loss 0.0338\n",
      "Training Accuracy: 0.9618, Testing Accuracy: 0.9698\n",
      "\n"
     ]
    },
    {
     "name": "stdout",
     "output_type": "stream",
     "text": [
      "Epoch 50, Loss 0.0308\n",
      "Training Accuracy: 0.9657, Testing Accuracy: 0.9693\n",
      "\n"
     ]
    },
    {
     "name": "stdout",
     "output_type": "stream",
     "text": [
      "Epoch 60, Loss 0.0287\n",
      "Training Accuracy: 0.9682, Testing Accuracy: 0.9703\n",
      "\n"
     ]
    },
    {
     "name": "stdout",
     "output_type": "stream",
     "text": [
      "Epoch 70, Loss 0.027\n",
      "Training Accuracy: 0.9695, Testing Accuracy: 0.9728\n",
      "\n"
     ]
    },
    {
     "name": "stdout",
     "output_type": "stream",
     "text": [
      "Epoch 80, Loss 0.0256\n",
      "Training Accuracy: 0.9710, Testing Accuracy: 0.9728\n",
      "\n"
     ]
    },
    {
     "name": "stdout",
     "output_type": "stream",
     "text": [
      "Epoch 90, Loss 0.0244\n",
      "Training Accuracy: 0.9718, Testing Accuracy: 0.9728\n",
      "\n"
     ]
    },
    {
     "name": "stdout",
     "output_type": "stream",
     "text": [
      "Epoch 100, Loss 0.0234\n",
      "Training Accuracy: 0.9731, Testing Accuracy: 0.9743\n",
      "\n"
     ]
    },
    {
     "name": "stdout",
     "output_type": "stream",
     "text": [
      "Epoch 110, Loss 0.0225\n",
      "Training Accuracy: 0.9738, Testing Accuracy: 0.9748\n",
      "\n"
     ]
    },
    {
     "name": "stdout",
     "output_type": "stream",
     "text": [
      "Epoch 120, Loss 0.0217\n",
      "Training Accuracy: 0.9745, Testing Accuracy: 0.9753\n",
      "\n"
     ]
    },
    {
     "name": "stdout",
     "output_type": "stream",
     "text": [
      "Epoch 130, Loss 0.0209\n",
      "Training Accuracy: 0.9752, Testing Accuracy: 0.9753\n",
      "\n"
     ]
    },
    {
     "name": "stdout",
     "output_type": "stream",
     "text": [
      "Epoch 140, Loss 0.0202\n",
      "Training Accuracy: 0.9762, Testing Accuracy: 0.9758\n",
      "\n"
     ]
    },
    {
     "name": "stdout",
     "output_type": "stream",
     "text": [
      "Epoch 150, Loss 0.0196\n",
      "Training Accuracy: 0.9777, Testing Accuracy: 0.9763\n",
      "\n"
     ]
    },
    {
     "name": "stdout",
     "output_type": "stream",
     "text": [
      "Epoch 160, Loss 0.019\n",
      "Training Accuracy: 0.9788, Testing Accuracy: 0.9773\n",
      "\n"
     ]
    },
    {
     "name": "stdout",
     "output_type": "stream",
     "text": [
      "Epoch 170, Loss 0.0184\n",
      "Training Accuracy: 0.9795, Testing Accuracy: 0.9773\n",
      "\n"
     ]
    },
    {
     "name": "stdout",
     "output_type": "stream",
     "text": [
      "Epoch 180, Loss 0.0178\n",
      "Training Accuracy: 0.9804, Testing Accuracy: 0.9773\n",
      "\n"
     ]
    },
    {
     "name": "stdout",
     "output_type": "stream",
     "text": [
      "Epoch 190, Loss 0.0173\n",
      "Training Accuracy: 0.9810, Testing Accuracy: 0.9773\n",
      "\n"
     ]
    },
    {
     "name": "stdout",
     "output_type": "stream",
     "text": [
      "Epoch 200, Loss 0.0168\n",
      "Training Accuracy: 0.9816, Testing Accuracy: 0.9768\n",
      "\n"
     ]
    },
    {
     "name": "stdout",
     "output_type": "stream",
     "text": [
      "Epoch 210, Loss 0.0164\n",
      "Training Accuracy: 0.9826, Testing Accuracy: 0.9783\n",
      "\n"
     ]
    },
    {
     "name": "stdout",
     "output_type": "stream",
     "text": [
      "Epoch 220, Loss 0.0159\n",
      "Training Accuracy: 0.9836, Testing Accuracy: 0.9793\n",
      "\n"
     ]
    },
    {
     "name": "stdout",
     "output_type": "stream",
     "text": [
      "Epoch 230, Loss 0.0155\n",
      "Training Accuracy: 0.9840, Testing Accuracy: 0.9798\n",
      "\n"
     ]
    },
    {
     "name": "stdout",
     "output_type": "stream",
     "text": [
      "Epoch 240, Loss 0.0151\n",
      "Training Accuracy: 0.9844, Testing Accuracy: 0.9798\n",
      "\n"
     ]
    },
    {
     "data": {
      "text/plain": [
       "0.02549189772817425"
      ]
     },
     "execution_count": 22,
     "metadata": {},
     "output_type": "execute_result"
    }
   ],
   "source": [
    "nn_learner.train_loop(dl)"
   ]
  },
  {
   "cell_type": "code",
   "execution_count": 23,
   "id": "e0163366",
   "metadata": {
    "execution": {
     "iopub.execute_input": "2021-09-27T10:08:46.998875Z",
     "iopub.status.busy": "2021-09-27T10:08:46.998266Z",
     "iopub.status.idle": "2021-09-27T10:09:01.777179Z",
     "shell.execute_reply": "2021-09-27T10:09:01.777750Z"
    },
    "papermill": {
     "duration": 14.831603,
     "end_time": "2021-09-27T10:09:01.777936",
     "exception": false,
     "start_time": "2021-09-27T10:08:46.946333",
     "status": "completed"
    },
    "tags": []
   },
   "outputs": [
    {
     "name": "stdout",
     "output_type": "stream",
     "text": [
      "Epoch 0, Loss 0.2326\n",
      "Training Accuracy: 0.7293, Testing Accuracy: 0.7243\n",
      "\n"
     ]
    },
    {
     "name": "stdout",
     "output_type": "stream",
     "text": [
      "Epoch 10, Loss 0.1011\n",
      "Training Accuracy: 0.9140, Testing Accuracy: 0.9199\n",
      "\n"
     ]
    },
    {
     "name": "stdout",
     "output_type": "stream",
     "text": [
      "Epoch 20, Loss 0.0776\n",
      "Training Accuracy: 0.9308, Testing Accuracy: 0.9380\n",
      "\n"
     ]
    },
    {
     "name": "stdout",
     "output_type": "stream",
     "text": [
      "Epoch 30, Loss 0.0668\n",
      "Training Accuracy: 0.9389, Testing Accuracy: 0.9446\n",
      "\n"
     ]
    },
    {
     "name": "stdout",
     "output_type": "stream",
     "text": [
      "Epoch 40, Loss 0.0604\n",
      "Training Accuracy: 0.9443, Testing Accuracy: 0.9496\n",
      "\n"
     ]
    },
    {
     "name": "stdout",
     "output_type": "stream",
     "text": [
      "Epoch 50, Loss 0.0561\n",
      "Training Accuracy: 0.9463, Testing Accuracy: 0.9541\n",
      "\n"
     ]
    },
    {
     "name": "stdout",
     "output_type": "stream",
     "text": [
      "Epoch 60, Loss 0.0529\n",
      "Training Accuracy: 0.9486, Testing Accuracy: 0.9561\n",
      "\n"
     ]
    },
    {
     "name": "stdout",
     "output_type": "stream",
     "text": [
      "Epoch 70, Loss 0.0505\n",
      "Training Accuracy: 0.9513, Testing Accuracy: 0.9592\n",
      "\n"
     ]
    },
    {
     "name": "stdout",
     "output_type": "stream",
     "text": [
      "Epoch 80, Loss 0.0485\n",
      "Training Accuracy: 0.9523, Testing Accuracy: 0.9592\n",
      "\n"
     ]
    },
    {
     "name": "stdout",
     "output_type": "stream",
     "text": [
      "Epoch 90, Loss 0.0469\n",
      "Training Accuracy: 0.9531, Testing Accuracy: 0.9607\n",
      "\n"
     ]
    },
    {
     "name": "stdout",
     "output_type": "stream",
     "text": [
      "Epoch 100, Loss 0.0455\n",
      "Training Accuracy: 0.9541, Testing Accuracy: 0.9607\n",
      "\n"
     ]
    },
    {
     "name": "stdout",
     "output_type": "stream",
     "text": [
      "Epoch 110, Loss 0.0443\n",
      "Training Accuracy: 0.9554, Testing Accuracy: 0.9637\n",
      "\n"
     ]
    },
    {
     "name": "stdout",
     "output_type": "stream",
     "text": [
      "Epoch 120, Loss 0.0433\n",
      "Training Accuracy: 0.9564, Testing Accuracy: 0.9642\n",
      "\n"
     ]
    },
    {
     "name": "stdout",
     "output_type": "stream",
     "text": [
      "Epoch 130, Loss 0.0424\n",
      "Training Accuracy: 0.9570, Testing Accuracy: 0.9647\n",
      "\n"
     ]
    },
    {
     "name": "stdout",
     "output_type": "stream",
     "text": [
      "Epoch 140, Loss 0.0416\n",
      "Training Accuracy: 0.9579, Testing Accuracy: 0.9652\n",
      "\n"
     ]
    },
    {
     "name": "stdout",
     "output_type": "stream",
     "text": [
      "Epoch 150, Loss 0.0409\n",
      "Training Accuracy: 0.9583, Testing Accuracy: 0.9657\n",
      "\n"
     ]
    },
    {
     "name": "stdout",
     "output_type": "stream",
     "text": [
      "Epoch 160, Loss 0.0402\n",
      "Training Accuracy: 0.9588, Testing Accuracy: 0.9657\n",
      "\n"
     ]
    },
    {
     "name": "stdout",
     "output_type": "stream",
     "text": [
      "Epoch 170, Loss 0.0397\n",
      "Training Accuracy: 0.9593, Testing Accuracy: 0.9662\n",
      "\n"
     ]
    },
    {
     "name": "stdout",
     "output_type": "stream",
     "text": [
      "Epoch 180, Loss 0.0391\n",
      "Training Accuracy: 0.9597, Testing Accuracy: 0.9662\n",
      "\n"
     ]
    },
    {
     "name": "stdout",
     "output_type": "stream",
     "text": [
      "Epoch 190, Loss 0.0386\n",
      "Training Accuracy: 0.9603, Testing Accuracy: 0.9662\n",
      "\n"
     ]
    },
    {
     "name": "stdout",
     "output_type": "stream",
     "text": [
      "Epoch 200, Loss 0.0382\n",
      "Training Accuracy: 0.9604, Testing Accuracy: 0.9662\n",
      "\n"
     ]
    },
    {
     "name": "stdout",
     "output_type": "stream",
     "text": [
      "Epoch 210, Loss 0.0377\n",
      "Training Accuracy: 0.9604, Testing Accuracy: 0.9667\n",
      "\n"
     ]
    },
    {
     "name": "stdout",
     "output_type": "stream",
     "text": [
      "Epoch 220, Loss 0.0373\n",
      "Training Accuracy: 0.9607, Testing Accuracy: 0.9667\n",
      "\n"
     ]
    },
    {
     "name": "stdout",
     "output_type": "stream",
     "text": [
      "Epoch 230, Loss 0.037\n",
      "Training Accuracy: 0.9607, Testing Accuracy: 0.9667\n",
      "\n"
     ]
    },
    {
     "name": "stdout",
     "output_type": "stream",
     "text": [
      "Epoch 240, Loss 0.0366\n",
      "Training Accuracy: 0.9608, Testing Accuracy: 0.9667\n",
      "\n"
     ]
    },
    {
     "data": {
      "text/plain": [
       "0.0401863442884678"
      ]
     },
     "execution_count": 23,
     "metadata": {},
     "output_type": "execute_result"
    }
   ],
   "source": [
    "lr_learner.train_loop(dl)"
   ]
  },
  {
   "cell_type": "code",
   "execution_count": 24,
   "id": "ca410940",
   "metadata": {
    "execution": {
     "iopub.execute_input": "2021-09-27T10:09:01.879747Z",
     "iopub.status.busy": "2021-09-27T10:09:01.879145Z",
     "iopub.status.idle": "2021-09-27T10:09:02.139597Z",
     "shell.execute_reply": "2021-09-27T10:09:02.139096Z"
    },
    "papermill": {
     "duration": 0.314304,
     "end_time": "2021-09-27T10:09:02.139738",
     "exception": false,
     "start_time": "2021-09-27T10:09:01.825434",
     "status": "completed"
    },
    "tags": []
   },
   "outputs": [
    {
     "data": {
      "text/plain": [
       "<matplotlib.legend.Legend at 0x7f9e87d8d978>"
      ]
     },
     "execution_count": 24,
     "metadata": {},
     "output_type": "execute_result"
    },
    {
     "data": {
      "image/png": "[encoded data removed]",
      "text/plain": [
       "<Figure size 1080x720 with 1 Axes>"
      ]
     },
     "metadata": {
      "needs_background": "light"
     },
     "output_type": "display_data"
    }
   ],
   "source": [
    "#comparing the results of NN and LR\n",
    "plt.figure(figsize=(15,10))\n",
    "\n",
    "# Neural Network plots\n",
    "plt.plot(acc_nn.accuracies, 'r-', label = \"Training Accuracies - NN\")\n",
    "plt.plot(acc_nn.test_accuracies, 'g-', label = \"Testing Accuracies - NN\")\n",
    "\n",
    "# Logistic Regression plots\n",
    "plt.plot(acc_lr.accuracies, 'k-', label = \"Training Accuracies - LR\")\n",
    "plt.plot(acc_lr.test_accuracies, 'b-', label = \"Testing Accuracies - LR\")\n",
    "plt.legend()"
   ]
  },
  {
   "cell_type": "markdown",
   "id": "80dfb35c",
   "metadata": {
    "papermill": {
     "duration": 0.04917,
     "end_time": "2021-09-27T10:09:02.238019",
     "exception": false,
     "start_time": "2021-09-27T10:09:02.188849",
     "status": "completed"
    },
    "tags": []
   },
   "source": [
    "#### Plotting the outputs of this layer of the NN.\n"
   ]
  },
  {
   "cell_type": "code",
   "execution_count": 25,
   "id": "45eb2ff5",
   "metadata": {
    "execution": {
     "iopub.execute_input": "2021-09-27T10:09:02.334905Z",
     "iopub.status.busy": "2021-09-27T10:09:02.334298Z",
     "iopub.status.idle": "2021-09-27T10:09:02.357411Z",
     "shell.execute_reply": "2021-09-27T10:09:02.357942Z"
    },
    "papermill": {
     "duration": 0.074389,
     "end_time": "2021-09-27T10:09:02.358100",
     "exception": false,
     "start_time": "2021-09-27T10:09:02.283711",
     "status": "completed"
    },
    "tags": []
   },
   "outputs": [],
   "source": [
    "new_model = Model(layers[:-2])\n",
    "testing_plot = new_model(testing_data_x)"
   ]
  },
  {
   "cell_type": "code",
   "execution_count": 26,
   "id": "4c0a5485",
   "metadata": {
    "execution": {
     "iopub.execute_input": "2021-09-27T10:09:02.466357Z",
     "iopub.status.busy": "2021-09-27T10:09:02.464360Z",
     "iopub.status.idle": "2021-09-27T10:09:02.679135Z",
     "shell.execute_reply": "2021-09-27T10:09:02.678638Z"
    },
    "papermill": {
     "duration": 0.266694,
     "end_time": "2021-09-27T10:09:02.679273",
     "exception": false,
     "start_time": "2021-09-27T10:09:02.412579",
     "status": "completed"
    },
    "tags": []
   },
   "outputs": [
    {
     "data": {
      "text/plain": [
       "Text(0.5, 1.0, 'Outputs')"
      ]
     },
     "execution_count": 26,
     "metadata": {},
     "output_type": "execute_result"
    },
    {
     "data": {
      "image/png": "[encoded data removed]",
      "text/plain": [
       "<Figure size 576x504 with 1 Axes>"
      ]
     },
     "metadata": {
      "needs_background": "light"
     },
     "output_type": "display_data"
    }
   ],
   "source": [
    "# Plotting the scatter plot of points and color coding by class\n",
    "plt.figure(figsize=(8,7))\n",
    "plt.scatter(testing_plot[:,0], testing_plot[:,1], alpha = 0.1, c = y_test.ravel());\n",
    "plt.title('Outputs')"
   ]
  },
  {
   "cell_type": "markdown",
   "id": "a74fcf8f",
   "metadata": {
    "papermill": {
     "duration": 0.048726,
     "end_time": "2021-09-27T10:09:02.777509",
     "exception": false,
     "start_time": "2021-09-27T10:09:02.728783",
     "status": "completed"
    },
    "tags": []
   },
   "source": [
    "Probability contours"
   ]
  },
  {
   "cell_type": "code",
   "execution_count": 27,
   "id": "d0afc8e3",
   "metadata": {
    "execution": {
     "iopub.execute_input": "2021-09-27T10:09:02.880702Z",
     "iopub.status.busy": "2021-09-27T10:09:02.880105Z",
     "iopub.status.idle": "2021-09-27T10:09:02.894430Z",
     "shell.execute_reply": "2021-09-27T10:09:02.894889Z"
    },
    "papermill": {
     "duration": 0.069009,
     "end_time": "2021-09-27T10:09:02.895044",
     "exception": false,
     "start_time": "2021-09-27T10:09:02.826035",
     "status": "completed"
    },
    "tags": []
   },
   "outputs": [],
   "source": [
    "model_prob = Model(layers[-2:]) "
   ]
  },
  {
   "cell_type": "code",
   "execution_count": 28,
   "id": "9b96e238",
   "metadata": {
    "execution": {
     "iopub.execute_input": "2021-09-27T10:09:03.029288Z",
     "iopub.status.busy": "2021-09-27T10:09:03.028246Z",
     "iopub.status.idle": "2021-09-27T10:09:03.043763Z",
     "shell.execute_reply": "2021-09-27T10:09:03.044241Z"
    },
    "papermill": {
     "duration": 0.070599,
     "end_time": "2021-09-27T10:09:03.044388",
     "exception": false,
     "start_time": "2021-09-27T10:09:02.973789",
     "status": "completed"
    },
    "tags": []
   },
   "outputs": [],
   "source": [
    "#creating the x and y ranges according to the above generated plot.\n",
    "x_range = np.linspace(-4, 1, 100) \n",
    "y_range = np.linspace(-6, 6, 100) \n",
    "x_grid, y_grid = np.meshgrid(x_range, y_range) # x_grid and y_grig are of size 100 X 100\n",
    "\n",
    "# converting x_grid and y_grid to continuous arrays\n",
    "x_gridflat = np.ravel(x_grid)\n",
    "y_gridflat = np.ravel(y_grid)\n",
    "\n",
    "# The last layer of the current model takes two columns as input. Hence transpose of np.vstack() is required.\n",
    "X = np.vstack((x_gridflat, y_gridflat)).T\n",
    "\n",
    "prob_contour = model_prob(X).reshape(100,100) "
   ]
  },
  {
   "cell_type": "code",
   "execution_count": 29,
   "id": "da72499a",
   "metadata": {
    "execution": {
     "iopub.execute_input": "2021-09-27T10:09:03.150516Z",
     "iopub.status.busy": "2021-09-27T10:09:03.149899Z",
     "iopub.status.idle": "2021-09-27T10:09:03.423714Z",
     "shell.execute_reply": "2021-09-27T10:09:03.423192Z"
    },
    "papermill": {
     "duration": 0.329187,
     "end_time": "2021-09-27T10:09:03.423850",
     "exception": false,
     "start_time": "2021-09-27T10:09:03.094663",
     "status": "completed"
    },
    "tags": []
   },
   "outputs": [
    {
     "data": {
      "image/png": "[encoded data removed]",
      "text/plain": [
       "<Figure size 720x648 with 1 Axes>"
      ]
     },
     "metadata": {
      "needs_background": "light"
     },
     "output_type": "display_data"
    }
   ],
   "source": [
    "plt.figure(figsize=(10,9))\n",
    "plt.scatter(testing_plot[:,0], testing_plot[:,1], alpha = 0.1, c = y_test.ravel())\n",
    "contours = plt.contour(x_grid,y_grid,prob_contour)\n",
    "plt.title('Probability Contours')\n",
    "plt.clabel(contours, inline = True );"
   ]
  },
  {
   "cell_type": "code",
   "execution_count": null,
   "id": "e81b4ac7",
   "metadata": {
    "papermill": {
     "duration": 0.051685,
     "end_time": "2021-09-27T10:09:03.528117",
     "exception": false,
     "start_time": "2021-09-27T10:09:03.476432",
     "status": "completed"
    },
    "tags": []
   },
   "outputs": [],
   "source": []
  }
 ],
 "metadata": {
  "kernelspec": {
   "display_name": "Python 3",
   "language": "python",
   "name": "python3"
  },
  "language_info": {
   "codemirror_mode": {
    "name": "ipython",
    "version": 3
   },
   "file_extension": ".py",
   "mimetype": "text/x-python",
   "name": "python",
   "nbconvert_exporter": "python",
   "pygments_lexer": "ipython3",
   "version": "3.6.15"
  },
  "papermill": {
   "default_parameters": {},
   "duration": 109.543821,
   "end_time": "2021-09-27T10:09:03.990470",
   "environment_variables": {},
   "exception": null,
   "input_path": "2020-08-11-part2.ipynb",
   "output_path": "2020-08-11-part2.ipynb",
   "parameters": {},
   "start_time": "2021-09-27T10:07:14.446649",
   "version": "2.3.3"
  }
 },
 "nbformat": 4,
 "nbformat_minor": 5
}