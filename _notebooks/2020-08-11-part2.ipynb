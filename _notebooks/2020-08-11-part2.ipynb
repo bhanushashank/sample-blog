{
 "cells": [
  {
   "cell_type": "markdown",
   "id": "98380cd3",
   "metadata": {
    "papermill": {
     "duration": 0.031481,
     "end_time": "2021-10-29T10:07:41.015018",
     "exception": false,
     "start_time": "2021-10-29T10:07:40.983537",
     "status": "completed"
    },
    "tags": []
   },
   "source": [
    "# Distinguish Your Own Digits (DYOD)"
   ]
  },
  {
   "cell_type": "markdown",
   "id": "ef31240d",
   "metadata": {
    "papermill": {
     "duration": 0.026534,
     "end_time": "2021-10-29T10:07:41.067841",
     "exception": false,
     "start_time": "2021-10-29T10:07:41.041307",
     "status": "completed"
    },
    "tags": []
   },
   "source": [
    "You are going to write a classifier that distinguishes between the number 3 and number 8."
   ]
  },
  {
   "cell_type": "code",
   "execution_count": 1,
   "id": "b15c8646",
   "metadata": {
    "execution": {
     "iopub.execute_input": "2021-10-29T10:07:41.137374Z",
     "iopub.status.busy": "2021-10-29T10:07:41.136688Z",
     "iopub.status.idle": "2021-10-29T10:07:41.148832Z",
     "shell.execute_reply": "2021-10-29T10:07:41.148068Z"
    },
    "papermill": {
     "duration": 0.052364,
     "end_time": "2021-10-29T10:07:41.149003",
     "exception": false,
     "start_time": "2021-10-29T10:07:41.096639",
     "status": "completed"
    },
    "tags": []
   },
   "outputs": [],
   "source": [
    "%load_ext autoreload\n",
    "%autoreload 2"
   ]
  },
  {
   "cell_type": "code",
   "execution_count": 2,
   "id": "22ef38dc",
   "metadata": {
    "execution": {
     "iopub.execute_input": "2021-10-29T10:07:41.210056Z",
     "iopub.status.busy": "2021-10-29T10:07:41.209493Z",
     "iopub.status.idle": "2021-10-29T10:07:41.864286Z",
     "shell.execute_reply": "2021-10-29T10:07:41.863294Z"
    },
    "papermill": {
     "duration": 0.688221,
     "end_time": "2021-10-29T10:07:41.864476",
     "exception": false,
     "start_time": "2021-10-29T10:07:41.176255",
     "status": "completed"
    },
    "tags": []
   },
   "outputs": [],
   "source": [
    "%matplotlib inline\n",
    "import numpy as np\n",
    "import matplotlib.pyplot as plt\n",
    "import pandas as pd"
   ]
  },
  {
   "cell_type": "markdown",
   "id": "ba036198",
   "metadata": {
    "papermill": {
     "duration": 0.02669,
     "end_time": "2021-10-29T10:07:41.921229",
     "exception": false,
     "start_time": "2021-10-29T10:07:41.894539",
     "status": "completed"
    },
    "tags": []
   },
   "source": [
    "From the command line run `pip install mnist`. This is a library that will help you bring down the mnist dataset. If you run this from a notebook, you need to put  `!pip install mnist` in a cell by itself."
   ]
  },
  {
   "cell_type": "code",
   "execution_count": 3,
   "id": "bb6ad8a1",
   "metadata": {
    "execution": {
     "iopub.execute_input": "2021-10-29T10:07:41.979298Z",
     "iopub.status.busy": "2021-10-29T10:07:41.978684Z",
     "iopub.status.idle": "2021-10-29T10:07:44.572897Z",
     "shell.execute_reply": "2021-10-29T10:07:44.571621Z"
    },
    "papermill": {
     "duration": 2.625928,
     "end_time": "2021-10-29T10:07:44.573046",
     "exception": false,
     "start_time": "2021-10-29T10:07:41.947118",
     "status": "completed"
    },
    "tags": []
   },
   "outputs": [
    {
     "name": "stdout",
     "output_type": "stream",
     "text": [
      "Collecting mnist\r\n"
     ]
    },
    {
     "name": "stdout",
     "output_type": "stream",
     "text": [
      "  Downloading mnist-0.2.2-py2.py3-none-any.whl (3.5 kB)\r\n",
      "Requirement already satisfied: numpy in /opt/hostedtoolcache/Python/3.6.15/x64/lib/python3.6/site-packages (from mnist) (1.19.5)\r\n"
     ]
    },
    {
     "name": "stdout",
     "output_type": "stream",
     "text": [
      "Installing collected packages: mnist\r\n"
     ]
    },
    {
     "name": "stdout",
     "output_type": "stream",
     "text": [
      "Successfully installed mnist-0.2.2\r\n"
     ]
    },
    {
     "name": "stdout",
     "output_type": "stream",
     "text": [
      "\u001b[33mWARNING: You are using pip version 21.3; however, version 21.3.1 is available.\r\n",
      "You should consider upgrading via the '/opt/hostedtoolcache/Python/3.6.15/x64/bin/python -m pip install --upgrade pip' command.\u001b[0m\r\n"
     ]
    }
   ],
   "source": [
    "!pip install mnist"
   ]
  },
  {
   "cell_type": "markdown",
   "id": "69df9c9a",
   "metadata": {
    "papermill": {
     "duration": 0.028441,
     "end_time": "2021-10-29T10:07:44.629547",
     "exception": false,
     "start_time": "2021-10-29T10:07:44.601106",
     "status": "completed"
    },
    "tags": []
   },
   "source": [
    "## Preparing the Data"
   ]
  },
  {
   "cell_type": "code",
   "execution_count": 4,
   "id": "7f69d806",
   "metadata": {
    "execution": {
     "iopub.execute_input": "2021-10-29T10:07:44.691244Z",
     "iopub.status.busy": "2021-10-29T10:07:44.689938Z",
     "iopub.status.idle": "2021-10-29T10:07:44.708345Z",
     "shell.execute_reply": "2021-10-29T10:07:44.707417Z"
    },
    "papermill": {
     "duration": 0.051545,
     "end_time": "2021-10-29T10:07:44.708557",
     "exception": false,
     "start_time": "2021-10-29T10:07:44.657012",
     "status": "completed"
    },
    "tags": []
   },
   "outputs": [],
   "source": [
    "import mnist"
   ]
  },
  {
   "cell_type": "code",
   "execution_count": 5,
   "id": "a411e44f",
   "metadata": {
    "execution": {
     "iopub.execute_input": "2021-10-29T10:07:44.775524Z",
     "iopub.status.busy": "2021-10-29T10:07:44.771490Z",
     "iopub.status.idle": "2021-10-29T10:07:45.306373Z",
     "shell.execute_reply": "2021-10-29T10:07:45.305831Z"
    },
    "papermill": {
     "duration": 0.568207,
     "end_time": "2021-10-29T10:07:45.306516",
     "exception": false,
     "start_time": "2021-10-29T10:07:44.738309",
     "status": "completed"
    },
    "tags": []
   },
   "outputs": [],
   "source": [
    "train_images = mnist.train_images()\n",
    "train_labels = mnist.train_labels()"
   ]
  },
  {
   "cell_type": "code",
   "execution_count": 6,
   "id": "dceab3a5",
   "metadata": {
    "execution": {
     "iopub.execute_input": "2021-10-29T10:07:45.375936Z",
     "iopub.status.busy": "2021-10-29T10:07:45.375317Z",
     "iopub.status.idle": "2021-10-29T10:07:45.386202Z",
     "shell.execute_reply": "2021-10-29T10:07:45.385723Z"
    },
    "papermill": {
     "duration": 0.050603,
     "end_time": "2021-10-29T10:07:45.386340",
     "exception": false,
     "start_time": "2021-10-29T10:07:45.335737",
     "status": "completed"
    },
    "tags": []
   },
   "outputs": [
    {
     "data": {
      "text/plain": [
       "((60000, 28, 28), (60000,))"
      ]
     },
     "execution_count": 6,
     "metadata": {},
     "output_type": "execute_result"
    }
   ],
   "source": [
    "train_images.shape, train_labels.shape"
   ]
  },
  {
   "cell_type": "code",
   "execution_count": 7,
   "id": "f50dc2bb",
   "metadata": {
    "execution": {
     "iopub.execute_input": "2021-10-29T10:07:45.449326Z",
     "iopub.status.busy": "2021-10-29T10:07:45.448719Z",
     "iopub.status.idle": "2021-10-29T10:07:45.577298Z",
     "shell.execute_reply": "2021-10-29T10:07:45.576765Z"
    },
    "papermill": {
     "duration": 0.162589,
     "end_time": "2021-10-29T10:07:45.577435",
     "exception": false,
     "start_time": "2021-10-29T10:07:45.414846",
     "status": "completed"
    },
    "tags": []
   },
   "outputs": [],
   "source": [
    "test_images = mnist.test_images()\n",
    "test_labels = mnist.test_labels()"
   ]
  },
  {
   "cell_type": "code",
   "execution_count": 8,
   "id": "fc38cf1b",
   "metadata": {
    "execution": {
     "iopub.execute_input": "2021-10-29T10:07:45.641121Z",
     "iopub.status.busy": "2021-10-29T10:07:45.640526Z",
     "iopub.status.idle": "2021-10-29T10:07:45.656799Z",
     "shell.execute_reply": "2021-10-29T10:07:45.656290Z"
    },
    "papermill": {
     "duration": 0.050425,
     "end_time": "2021-10-29T10:07:45.656930",
     "exception": false,
     "start_time": "2021-10-29T10:07:45.606505",
     "status": "completed"
    },
    "tags": []
   },
   "outputs": [
    {
     "data": {
      "text/plain": [
       "((10000, 28, 28), (10000,))"
      ]
     },
     "execution_count": 8,
     "metadata": {},
     "output_type": "execute_result"
    }
   ],
   "source": [
    "test_images.shape, test_labels.shape"
   ]
  },
  {
   "cell_type": "code",
   "execution_count": 9,
   "id": "f9ed8fe0",
   "metadata": {
    "execution": {
     "iopub.execute_input": "2021-10-29T10:07:45.717050Z",
     "iopub.status.busy": "2021-10-29T10:07:45.716460Z",
     "iopub.status.idle": "2021-10-29T10:07:45.873516Z",
     "shell.execute_reply": "2021-10-29T10:07:45.872990Z"
    },
    "papermill": {
     "duration": 0.189122,
     "end_time": "2021-10-29T10:07:45.873662",
     "exception": false,
     "start_time": "2021-10-29T10:07:45.684540",
     "status": "completed"
    },
    "tags": []
   },
   "outputs": [
    {
     "name": "stdout",
     "output_type": "stream",
     "text": [
      "2\n"
     ]
    },
    {
     "data": {
      "text/plain": [
       "<matplotlib.image.AxesImage at 0x7f39b4e9e208>"
      ]
     },
     "execution_count": 9,
     "metadata": {},
     "output_type": "execute_result"
    },
    {
     "data": {
      "image/png": "[encoded data removed]",
      "text/plain": [
       "<Figure size 432x288 with 1 Axes>"
      ]
     },
     "metadata": {
      "needs_background": "light"
     },
     "output_type": "display_data"
    }
   ],
   "source": [
    "image_index = 7776 # You may select anything up to 60,000\n",
    "print(train_labels[image_index]) \n",
    "plt.imshow(train_images[image_index], cmap='Greys')"
   ]
  },
  {
   "cell_type": "markdown",
   "id": "a8d2388d",
   "metadata": {
    "papermill": {
     "duration": 0.030359,
     "end_time": "2021-10-29T10:07:45.935060",
     "exception": false,
     "start_time": "2021-10-29T10:07:45.904701",
     "status": "completed"
    },
    "tags": []
   },
   "source": [
    "## Filter data to get 3 and 8 out"
   ]
  },
  {
   "cell_type": "code",
   "execution_count": 10,
   "id": "776f7fc7",
   "metadata": {
    "execution": {
     "iopub.execute_input": "2021-10-29T10:07:46.003704Z",
     "iopub.status.busy": "2021-10-29T10:07:46.003131Z",
     "iopub.status.idle": "2021-10-29T10:07:46.022189Z",
     "shell.execute_reply": "2021-10-29T10:07:46.021703Z"
    },
    "papermill": {
     "duration": 0.057898,
     "end_time": "2021-10-29T10:07:46.022320",
     "exception": false,
     "start_time": "2021-10-29T10:07:45.964422",
     "status": "completed"
    },
    "tags": []
   },
   "outputs": [],
   "source": [
    "train_filter = np.where((train_labels == 3 ) | (train_labels == 8))\n",
    "test_filter = np.where((test_labels == 3) | (test_labels == 8))\n",
    "X_train, y_train = train_images[train_filter], train_labels[train_filter]\n",
    "X_test, y_test = test_images[test_filter], test_labels[test_filter]"
   ]
  },
  {
   "cell_type": "markdown",
   "id": "948f0b7e",
   "metadata": {
    "papermill": {
     "duration": 0.03061,
     "end_time": "2021-10-29T10:07:46.083109",
     "exception": false,
     "start_time": "2021-10-29T10:07:46.052499",
     "status": "completed"
    },
    "tags": []
   },
   "source": [
    "We normalize the pizel values in the 0 to 1 range"
   ]
  },
  {
   "cell_type": "code",
   "execution_count": 11,
   "id": "ee4c2166",
   "metadata": {
    "execution": {
     "iopub.execute_input": "2021-10-29T10:07:46.146352Z",
     "iopub.status.busy": "2021-10-29T10:07:46.145802Z",
     "iopub.status.idle": "2021-10-29T10:07:46.198520Z",
     "shell.execute_reply": "2021-10-29T10:07:46.197986Z"
    },
    "papermill": {
     "duration": 0.085795,
     "end_time": "2021-10-29T10:07:46.198688",
     "exception": false,
     "start_time": "2021-10-29T10:07:46.112893",
     "status": "completed"
    },
    "tags": []
   },
   "outputs": [],
   "source": [
    "X_train = X_train/255.\n",
    "X_test = X_test/255."
   ]
  },
  {
   "cell_type": "markdown",
   "id": "ddcf4fab",
   "metadata": {
    "papermill": {
     "duration": 0.033344,
     "end_time": "2021-10-29T10:07:46.263968",
     "exception": false,
     "start_time": "2021-10-29T10:07:46.230624",
     "status": "completed"
    },
    "tags": []
   },
   "source": [
    "And setup the labels as 1 (when the digit is 3) and 0 (when the digit is 8)"
   ]
  },
  {
   "cell_type": "code",
   "execution_count": 12,
   "id": "7dc908f2",
   "metadata": {
    "execution": {
     "iopub.execute_input": "2021-10-29T10:07:46.335789Z",
     "iopub.status.busy": "2021-10-29T10:07:46.335165Z",
     "iopub.status.idle": "2021-10-29T10:07:46.349979Z",
     "shell.execute_reply": "2021-10-29T10:07:46.349515Z"
    },
    "papermill": {
     "duration": 0.049634,
     "end_time": "2021-10-29T10:07:46.350106",
     "exception": false,
     "start_time": "2021-10-29T10:07:46.300472",
     "status": "completed"
    },
    "tags": []
   },
   "outputs": [],
   "source": [
    "y_train = 1*(y_train==3)\n",
    "y_test = 1*(y_test==3)"
   ]
  },
  {
   "cell_type": "code",
   "execution_count": 13,
   "id": "01e4e969",
   "metadata": {
    "execution": {
     "iopub.execute_input": "2021-10-29T10:07:46.415626Z",
     "iopub.status.busy": "2021-10-29T10:07:46.415007Z",
     "iopub.status.idle": "2021-10-29T10:07:46.430947Z",
     "shell.execute_reply": "2021-10-29T10:07:46.431462Z"
    },
    "papermill": {
     "duration": 0.052005,
     "end_time": "2021-10-29T10:07:46.431611",
     "exception": false,
     "start_time": "2021-10-29T10:07:46.379606",
     "status": "completed"
    },
    "tags": []
   },
   "outputs": [
    {
     "data": {
      "text/plain": [
       "((11982, 28, 28), (1984, 28, 28))"
      ]
     },
     "execution_count": 13,
     "metadata": {},
     "output_type": "execute_result"
    }
   ],
   "source": [
    "X_train.shape, X_test.shape"
   ]
  },
  {
   "cell_type": "markdown",
   "id": "5ccf3f85",
   "metadata": {
    "papermill": {
     "duration": 0.030288,
     "end_time": "2021-10-29T10:07:46.492600",
     "exception": false,
     "start_time": "2021-10-29T10:07:46.462312",
     "status": "completed"
    },
    "tags": []
   },
   "source": [
    "We reshape the data to flatten the image pixels into a set of features or co-variates:"
   ]
  },
  {
   "cell_type": "code",
   "execution_count": 14,
   "id": "5286a4a3",
   "metadata": {
    "execution": {
     "iopub.execute_input": "2021-10-29T10:07:46.559884Z",
     "iopub.status.busy": "2021-10-29T10:07:46.559259Z",
     "iopub.status.idle": "2021-10-29T10:07:46.576493Z",
     "shell.execute_reply": "2021-10-29T10:07:46.575987Z"
    },
    "papermill": {
     "duration": 0.053278,
     "end_time": "2021-10-29T10:07:46.576634",
     "exception": false,
     "start_time": "2021-10-29T10:07:46.523356",
     "status": "completed"
    },
    "tags": []
   },
   "outputs": [
    {
     "data": {
      "text/plain": [
       "((11982, 784), (1984, 784))"
      ]
     },
     "execution_count": 14,
     "metadata": {},
     "output_type": "execute_result"
    }
   ],
   "source": [
    "X_train = X_train.reshape(X_train.shape[0], -1)\n",
    "X_test = X_test.reshape(X_test.shape[0], -1)\n",
    "X_train.shape, X_test.shape"
   ]
  },
  {
   "cell_type": "code",
   "execution_count": 15,
   "id": "73c5f88a",
   "metadata": {
    "execution": {
     "iopub.execute_input": "2021-10-29T10:07:46.643959Z",
     "iopub.status.busy": "2021-10-29T10:07:46.643323Z",
     "iopub.status.idle": "2021-10-29T10:07:46.665396Z",
     "shell.execute_reply": "2021-10-29T10:07:46.664924Z"
    },
    "papermill": {
     "duration": 0.057721,
     "end_time": "2021-10-29T10:07:46.665520",
     "exception": false,
     "start_time": "2021-10-29T10:07:46.607799",
     "status": "completed"
    },
    "tags": []
   },
   "outputs": [],
   "source": [
    "#Impoting functions from 'Kudzu'\n",
    "from kudzu.model import Model\n",
    "from kudzu.train import Learner\n",
    "from kudzu.optim import GD\n",
    "from kudzu.data import Data, Sampler,Dataloader\n",
    "\n",
    "from kudzu.callbacks import AccCallback\n",
    "from kudzu.callbacks import ClfCallback\n",
    "\n",
    "from kudzu.loss import MSE\n",
    "\n",
    "from kudzu.layer import Sigmoid,Relu\n",
    "from kudzu.layer import Affine"
   ]
  },
  {
   "cell_type": "markdown",
   "id": "bc01172a",
   "metadata": {
    "papermill": {
     "duration": 0.030684,
     "end_time": "2021-10-29T10:07:46.727640",
     "exception": false,
     "start_time": "2021-10-29T10:07:46.696956",
     "status": "completed"
    },
    "tags": []
   },
   "source": [
    "### Let us create a `Config` class, to store important parameters. \n",
    "This class essentially plays the role of a dictionary."
   ]
  },
  {
   "cell_type": "code",
   "execution_count": 16,
   "id": "978281aa",
   "metadata": {
    "execution": {
     "iopub.execute_input": "2021-10-29T10:07:46.796458Z",
     "iopub.status.busy": "2021-10-29T10:07:46.795852Z",
     "iopub.status.idle": "2021-10-29T10:07:46.808892Z",
     "shell.execute_reply": "2021-10-29T10:07:46.808366Z"
    },
    "papermill": {
     "duration": 0.050703,
     "end_time": "2021-10-29T10:07:46.809016",
     "exception": false,
     "start_time": "2021-10-29T10:07:46.758313",
     "status": "completed"
    },
    "tags": []
   },
   "outputs": [],
   "source": [
    "class Config:\n",
    "    pass\n",
    "config = Config()\n",
    "config.lr = 0.001\n",
    "config.num_epochs = 250\n",
    "config.bs = 50"
   ]
  },
  {
   "cell_type": "markdown",
   "id": "1385fa59",
   "metadata": {
    "papermill": {
     "duration": 0.030479,
     "end_time": "2021-10-29T10:07:46.870633",
     "exception": false,
     "start_time": "2021-10-29T10:07:46.840154",
     "status": "completed"
    },
    "tags": []
   },
   "source": [
    "### Running Models with the Training data\n",
    "Details about the network layers:\n",
    "- A first affine layer has 784 inputs and does 100 affine transforms. These are followed by a Relu\n",
    "- A second affine layer has 100 inputs from the 100 activations of the past layer, and does 100 affine transforms. These are followed by a Relu\n",
    "- A third affine layer has 100 activations and does 2 affine transformations to create an embedding for visualization. There is no non-linearity here.\n",
    "- A final \"logistic regression\" which has an affine transform from 2 inputs to 1 output, which is squeezed through a sigmoid.\n"
   ]
  },
  {
   "cell_type": "code",
   "execution_count": 17,
   "id": "2b9c66db",
   "metadata": {
    "execution": {
     "iopub.execute_input": "2021-10-29T10:07:46.937517Z",
     "iopub.status.busy": "2021-10-29T10:07:46.936885Z",
     "iopub.status.idle": "2021-10-29T10:07:46.951499Z",
     "shell.execute_reply": "2021-10-29T10:07:46.952033Z"
    },
    "papermill": {
     "duration": 0.05076,
     "end_time": "2021-10-29T10:07:46.952188",
     "exception": false,
     "start_time": "2021-10-29T10:07:46.901428",
     "status": "completed"
    },
    "tags": []
   },
   "outputs": [],
   "source": [
    "data = Data(X_train, y_train.reshape(-1,1))\n",
    "sampler = Sampler(data, config.bs, shuffle=True)\n",
    "\n",
    "dl = Dataloader(data, sampler)\n",
    "\n",
    "opt = GD(config.lr)\n",
    "loss = MSE()"
   ]
  },
  {
   "cell_type": "code",
   "execution_count": 18,
   "id": "b275e4c2",
   "metadata": {
    "execution": {
     "iopub.execute_input": "2021-10-29T10:07:47.019937Z",
     "iopub.status.busy": "2021-10-29T10:07:47.019321Z",
     "iopub.status.idle": "2021-10-29T10:07:47.032455Z",
     "shell.execute_reply": "2021-10-29T10:07:47.032905Z"
    },
    "papermill": {
     "duration": 0.049783,
     "end_time": "2021-10-29T10:07:47.033047",
     "exception": false,
     "start_time": "2021-10-29T10:07:46.983264",
     "status": "completed"
    },
    "tags": []
   },
   "outputs": [],
   "source": [
    "training_data_x = X_train\n",
    "testing_data_x = X_test\n",
    "training_data_y = y_train.reshape(-1,1)\n",
    "testing_data_y = y_test.reshape(-1,1)"
   ]
  },
  {
   "cell_type": "code",
   "execution_count": 19,
   "id": "76951160",
   "metadata": {
    "execution": {
     "iopub.execute_input": "2021-10-29T10:07:47.101453Z",
     "iopub.status.busy": "2021-10-29T10:07:47.100816Z",
     "iopub.status.idle": "2021-10-29T10:07:47.119286Z",
     "shell.execute_reply": "2021-10-29T10:07:47.118749Z"
    },
    "papermill": {
     "duration": 0.055425,
     "end_time": "2021-10-29T10:07:47.119423",
     "exception": false,
     "start_time": "2021-10-29T10:07:47.063998",
     "status": "completed"
    },
    "tags": []
   },
   "outputs": [
    {
     "name": "stdout",
     "output_type": "stream",
     "text": [
      "xavier\n",
      "xavier\n",
      "xavier\n",
      "xavier\n",
      "xavier\n"
     ]
    }
   ],
   "source": [
    "layers = [Affine(\"first\", 784, 100), Relu(\"first\"), Affine(\"second\", 100, 100), Relu(\"second\"), Affine(\"third\", 100, 2), Affine(\"last\", 2, 1), Sigmoid(\"last\")]\n",
    "model_nn = Model(layers)\n",
    "model_lr = Model([Affine(\"logits\", 784, 1), Sigmoid(\"sigmoid\")])"
   ]
  },
  {
   "cell_type": "code",
   "execution_count": 20,
   "id": "6eede77a",
   "metadata": {
    "execution": {
     "iopub.execute_input": "2021-10-29T10:07:47.190077Z",
     "iopub.status.busy": "2021-10-29T10:07:47.189450Z",
     "iopub.status.idle": "2021-10-29T10:07:47.202538Z",
     "shell.execute_reply": "2021-10-29T10:07:47.203095Z"
    },
    "papermill": {
     "duration": 0.052209,
     "end_time": "2021-10-29T10:07:47.203249",
     "exception": false,
     "start_time": "2021-10-29T10:07:47.151040",
     "status": "completed"
    },
    "tags": []
   },
   "outputs": [],
   "source": [
    "nn_learner = Learner(loss, model_nn, opt, config.num_epochs)\n",
    "acc_nn = ClfCallback(nn_learner, config.bs, training_data_x , testing_data_x, training_data_y, testing_data_y)\n",
    "nn_learner.set_callbacks([acc_nn])"
   ]
  },
  {
   "cell_type": "code",
   "execution_count": 21,
   "id": "877b6cc7",
   "metadata": {
    "execution": {
     "iopub.execute_input": "2021-10-29T10:07:47.272168Z",
     "iopub.status.busy": "2021-10-29T10:07:47.271556Z",
     "iopub.status.idle": "2021-10-29T10:07:47.285366Z",
     "shell.execute_reply": "2021-10-29T10:07:47.284872Z"
    },
    "papermill": {
     "duration": 0.05071,
     "end_time": "2021-10-29T10:07:47.285499",
     "exception": false,
     "start_time": "2021-10-29T10:07:47.234789",
     "status": "completed"
    },
    "tags": []
   },
   "outputs": [],
   "source": [
    "lr_learner = Learner(loss, model_lr, opt, config.num_epochs)\n",
    "acc_lr = ClfCallback(lr_learner, config.bs, training_data_x , testing_data_x, training_data_y, testing_data_y)\n",
    "lr_learner.set_callbacks([acc_lr])"
   ]
  },
  {
   "cell_type": "code",
   "execution_count": 22,
   "id": "d9b133c3",
   "metadata": {
    "execution": {
     "iopub.execute_input": "2021-10-29T10:07:47.353088Z",
     "iopub.status.busy": "2021-10-29T10:07:47.352491Z",
     "iopub.status.idle": "2021-10-29T10:09:15.020938Z",
     "shell.execute_reply": "2021-10-29T10:09:15.021730Z"
    },
    "papermill": {
     "duration": 87.705008,
     "end_time": "2021-10-29T10:09:15.021887",
     "exception": false,
     "start_time": "2021-10-29T10:07:47.316879",
     "status": "completed"
    },
    "tags": []
   },
   "outputs": [
    {
     "name": "stdout",
     "output_type": "stream",
     "text": [
      "Epoch 0, Loss 0.2364\n",
      "Training Accuracy: 0.7542, Testing Accuracy: 0.7510\n",
      "\n"
     ]
    },
    {
     "name": "stdout",
     "output_type": "stream",
     "text": [
      "Epoch 10, Loss 0.0803\n",
      "Training Accuracy: 0.9259, Testing Accuracy: 0.9335\n",
      "\n"
     ]
    },
    {
     "name": "stdout",
     "output_type": "stream",
     "text": [
      "Epoch 20, Loss 0.0536\n",
      "Training Accuracy: 0.9424, Testing Accuracy: 0.9496\n",
      "\n"
     ]
    },
    {
     "name": "stdout",
     "output_type": "stream",
     "text": [
      "Epoch 30, Loss 0.0437\n",
      "Training Accuracy: 0.9506, Testing Accuracy: 0.9587\n",
      "\n"
     ]
    },
    {
     "name": "stdout",
     "output_type": "stream",
     "text": [
      "Epoch 40, Loss 0.0384\n",
      "Training Accuracy: 0.9548, Testing Accuracy: 0.9612\n",
      "\n"
     ]
    },
    {
     "name": "stdout",
     "output_type": "stream",
     "text": [
      "Epoch 50, Loss 0.0349\n",
      "Training Accuracy: 0.9582, Testing Accuracy: 0.9632\n",
      "\n"
     ]
    },
    {
     "name": "stdout",
     "output_type": "stream",
     "text": [
      "Epoch 60, Loss 0.0324\n",
      "Training Accuracy: 0.9614, Testing Accuracy: 0.9642\n",
      "\n"
     ]
    },
    {
     "name": "stdout",
     "output_type": "stream",
     "text": [
      "Epoch 70, Loss 0.0304\n",
      "Training Accuracy: 0.9641, Testing Accuracy: 0.9667\n",
      "\n"
     ]
    },
    {
     "name": "stdout",
     "output_type": "stream",
     "text": [
      "Epoch 80, Loss 0.0287\n",
      "Training Accuracy: 0.9662, Testing Accuracy: 0.9682\n",
      "\n"
     ]
    },
    {
     "name": "stdout",
     "output_type": "stream",
     "text": [
      "Epoch 90, Loss 0.0273\n",
      "Training Accuracy: 0.9678, Testing Accuracy: 0.9682\n",
      "\n"
     ]
    },
    {
     "name": "stdout",
     "output_type": "stream",
     "text": [
      "Epoch 100, Loss 0.0261\n",
      "Training Accuracy: 0.9695, Testing Accuracy: 0.9693\n",
      "\n"
     ]
    },
    {
     "name": "stdout",
     "output_type": "stream",
     "text": [
      "Epoch 110, Loss 0.0251\n",
      "Training Accuracy: 0.9713, Testing Accuracy: 0.9698\n",
      "\n"
     ]
    },
    {
     "name": "stdout",
     "output_type": "stream",
     "text": [
      "Epoch 120, Loss 0.0241\n",
      "Training Accuracy: 0.9725, Testing Accuracy: 0.9708\n",
      "\n"
     ]
    },
    {
     "name": "stdout",
     "output_type": "stream",
     "text": [
      "Epoch 130, Loss 0.0232\n",
      "Training Accuracy: 0.9734, Testing Accuracy: 0.9718\n",
      "\n"
     ]
    },
    {
     "name": "stdout",
     "output_type": "stream",
     "text": [
      "Epoch 140, Loss 0.0224\n",
      "Training Accuracy: 0.9744, Testing Accuracy: 0.9718\n",
      "\n"
     ]
    },
    {
     "name": "stdout",
     "output_type": "stream",
     "text": [
      "Epoch 150, Loss 0.0216\n",
      "Training Accuracy: 0.9752, Testing Accuracy: 0.9728\n",
      "\n"
     ]
    },
    {
     "name": "stdout",
     "output_type": "stream",
     "text": [
      "Epoch 160, Loss 0.0209\n",
      "Training Accuracy: 0.9765, Testing Accuracy: 0.9728\n",
      "\n"
     ]
    },
    {
     "name": "stdout",
     "output_type": "stream",
     "text": [
      "Epoch 170, Loss 0.0203\n",
      "Training Accuracy: 0.9774, Testing Accuracy: 0.9728\n",
      "\n"
     ]
    },
    {
     "name": "stdout",
     "output_type": "stream",
     "text": [
      "Epoch 180, Loss 0.0197\n",
      "Training Accuracy: 0.9778, Testing Accuracy: 0.9738\n",
      "\n"
     ]
    },
    {
     "name": "stdout",
     "output_type": "stream",
     "text": [
      "Epoch 190, Loss 0.0192\n",
      "Training Accuracy: 0.9786, Testing Accuracy: 0.9738\n",
      "\n"
     ]
    },
    {
     "name": "stdout",
     "output_type": "stream",
     "text": [
      "Epoch 200, Loss 0.0186\n",
      "Training Accuracy: 0.9793, Testing Accuracy: 0.9738\n",
      "\n"
     ]
    },
    {
     "name": "stdout",
     "output_type": "stream",
     "text": [
      "Epoch 210, Loss 0.0181\n",
      "Training Accuracy: 0.9801, Testing Accuracy: 0.9748\n",
      "\n"
     ]
    },
    {
     "name": "stdout",
     "output_type": "stream",
     "text": [
      "Epoch 220, Loss 0.0177\n",
      "Training Accuracy: 0.9810, Testing Accuracy: 0.9748\n",
      "\n"
     ]
    },
    {
     "name": "stdout",
     "output_type": "stream",
     "text": [
      "Epoch 230, Loss 0.0172\n",
      "Training Accuracy: 0.9813, Testing Accuracy: 0.9748\n",
      "\n"
     ]
    },
    {
     "name": "stdout",
     "output_type": "stream",
     "text": [
      "Epoch 240, Loss 0.0168\n",
      "Training Accuracy: 0.9817, Testing Accuracy: 0.9753\n",
      "\n"
     ]
    },
    {
     "data": {
      "text/plain": [
       "0.005693105809895647"
      ]
     },
     "execution_count": 22,
     "metadata": {},
     "output_type": "execute_result"
    }
   ],
   "source": [
    "nn_learner.train_loop(dl)"
   ]
  },
  {
   "cell_type": "code",
   "execution_count": 23,
   "id": "e0163366",
   "metadata": {
    "execution": {
     "iopub.execute_input": "2021-10-29T10:09:15.112248Z",
     "iopub.status.busy": "2021-10-29T10:09:15.111636Z",
     "iopub.status.idle": "2021-10-29T10:09:30.379048Z",
     "shell.execute_reply": "2021-10-29T10:09:30.379895Z"
    },
    "papermill": {
     "duration": 15.31867,
     "end_time": "2021-10-29T10:09:30.380056",
     "exception": false,
     "start_time": "2021-10-29T10:09:15.061386",
     "status": "completed"
    },
    "tags": []
   },
   "outputs": [
    {
     "name": "stdout",
     "output_type": "stream",
     "text": [
      "Epoch 0, Loss 0.2151\n",
      "Training Accuracy: 0.7702, Testing Accuracy: 0.7838\n",
      "\n"
     ]
    },
    {
     "name": "stdout",
     "output_type": "stream",
     "text": [
      "Epoch 10, Loss 0.1037\n",
      "Training Accuracy: 0.9014, Testing Accuracy: 0.9138\n",
      "\n"
     ]
    },
    {
     "name": "stdout",
     "output_type": "stream",
     "text": [
      "Epoch 20, Loss 0.0807\n",
      "Training Accuracy: 0.9218, Testing Accuracy: 0.9385\n",
      "\n"
     ]
    },
    {
     "name": "stdout",
     "output_type": "stream",
     "text": [
      "Epoch 30, Loss 0.0696\n",
      "Training Accuracy: 0.9318, Testing Accuracy: 0.9456\n",
      "\n"
     ]
    },
    {
     "name": "stdout",
     "output_type": "stream",
     "text": [
      "Epoch 40, Loss 0.0628\n",
      "Training Accuracy: 0.9377, Testing Accuracy: 0.9506\n",
      "\n"
     ]
    },
    {
     "name": "stdout",
     "output_type": "stream",
     "text": [
      "Epoch 50, Loss 0.0581\n",
      "Training Accuracy: 0.9422, Testing Accuracy: 0.9556\n",
      "\n"
     ]
    },
    {
     "name": "stdout",
     "output_type": "stream",
     "text": [
      "Epoch 60, Loss 0.0546\n",
      "Training Accuracy: 0.9453, Testing Accuracy: 0.9587\n",
      "\n"
     ]
    },
    {
     "name": "stdout",
     "output_type": "stream",
     "text": [
      "Epoch 70, Loss 0.0519\n",
      "Training Accuracy: 0.9486, Testing Accuracy: 0.9612\n",
      "\n"
     ]
    },
    {
     "name": "stdout",
     "output_type": "stream",
     "text": [
      "Epoch 80, Loss 0.0498\n",
      "Training Accuracy: 0.9502, Testing Accuracy: 0.9622\n",
      "\n"
     ]
    },
    {
     "name": "stdout",
     "output_type": "stream",
     "text": [
      "Epoch 90, Loss 0.048\n",
      "Training Accuracy: 0.9518, Testing Accuracy: 0.9642\n",
      "\n"
     ]
    },
    {
     "name": "stdout",
     "output_type": "stream",
     "text": [
      "Epoch 100, Loss 0.0466\n",
      "Training Accuracy: 0.9522, Testing Accuracy: 0.9647\n",
      "\n"
     ]
    },
    {
     "name": "stdout",
     "output_type": "stream",
     "text": [
      "Epoch 110, Loss 0.0453\n",
      "Training Accuracy: 0.9534, Testing Accuracy: 0.9647\n",
      "\n"
     ]
    },
    {
     "name": "stdout",
     "output_type": "stream",
     "text": [
      "Epoch 120, Loss 0.0442\n",
      "Training Accuracy: 0.9540, Testing Accuracy: 0.9652\n",
      "\n"
     ]
    },
    {
     "name": "stdout",
     "output_type": "stream",
     "text": [
      "Epoch 130, Loss 0.0432\n",
      "Training Accuracy: 0.9551, Testing Accuracy: 0.9652\n",
      "\n"
     ]
    },
    {
     "name": "stdout",
     "output_type": "stream",
     "text": [
      "Epoch 140, Loss 0.0424\n",
      "Training Accuracy: 0.9556, Testing Accuracy: 0.9662\n",
      "\n"
     ]
    },
    {
     "name": "stdout",
     "output_type": "stream",
     "text": [
      "Epoch 150, Loss 0.0416\n",
      "Training Accuracy: 0.9564, Testing Accuracy: 0.9662\n",
      "\n"
     ]
    },
    {
     "name": "stdout",
     "output_type": "stream",
     "text": [
      "Epoch 160, Loss 0.0409\n",
      "Training Accuracy: 0.9570, Testing Accuracy: 0.9667\n",
      "\n"
     ]
    },
    {
     "name": "stdout",
     "output_type": "stream",
     "text": [
      "Epoch 170, Loss 0.0403\n",
      "Training Accuracy: 0.9574, Testing Accuracy: 0.9667\n",
      "\n"
     ]
    },
    {
     "name": "stdout",
     "output_type": "stream",
     "text": [
      "Epoch 180, Loss 0.0397\n",
      "Training Accuracy: 0.9581, Testing Accuracy: 0.9672\n",
      "\n"
     ]
    },
    {
     "name": "stdout",
     "output_type": "stream",
     "text": [
      "Epoch 190, Loss 0.0392\n",
      "Training Accuracy: 0.9584, Testing Accuracy: 0.9672\n",
      "\n"
     ]
    },
    {
     "name": "stdout",
     "output_type": "stream",
     "text": [
      "Epoch 200, Loss 0.0387\n",
      "Training Accuracy: 0.9589, Testing Accuracy: 0.9672\n",
      "\n"
     ]
    },
    {
     "name": "stdout",
     "output_type": "stream",
     "text": [
      "Epoch 210, Loss 0.0382\n",
      "Training Accuracy: 0.9595, Testing Accuracy: 0.9672\n",
      "\n"
     ]
    },
    {
     "name": "stdout",
     "output_type": "stream",
     "text": [
      "Epoch 220, Loss 0.0378\n",
      "Training Accuracy: 0.9599, Testing Accuracy: 0.9677\n",
      "\n"
     ]
    },
    {
     "name": "stdout",
     "output_type": "stream",
     "text": [
      "Epoch 230, Loss 0.0374\n",
      "Training Accuracy: 0.9604, Testing Accuracy: 0.9677\n",
      "\n"
     ]
    },
    {
     "name": "stdout",
     "output_type": "stream",
     "text": [
      "Epoch 240, Loss 0.037\n",
      "Training Accuracy: 0.9606, Testing Accuracy: 0.9677\n",
      "\n"
     ]
    },
    {
     "data": {
      "text/plain": [
       "0.02333311585862235"
      ]
     },
     "execution_count": 23,
     "metadata": {},
     "output_type": "execute_result"
    }
   ],
   "source": [
    "lr_learner.train_loop(dl)"
   ]
  },
  {
   "cell_type": "code",
   "execution_count": 24,
   "id": "ca410940",
   "metadata": {
    "execution": {
     "iopub.execute_input": "2021-10-29T10:09:30.484503Z",
     "iopub.status.busy": "2021-10-29T10:09:30.483878Z",
     "iopub.status.idle": "2021-10-29T10:09:30.737922Z",
     "shell.execute_reply": "2021-10-29T10:09:30.737388Z"
    },
    "papermill": {
     "duration": 0.310292,
     "end_time": "2021-10-29T10:09:30.738067",
     "exception": false,
     "start_time": "2021-10-29T10:09:30.427775",
     "status": "completed"
    },
    "tags": []
   },
   "outputs": [
    {
     "data": {
      "text/plain": [
       "<matplotlib.legend.Legend at 0x7f39b4a04860>"
      ]
     },
     "execution_count": 24,
     "metadata": {},
     "output_type": "execute_result"
    },
    {
     "data": {
      "image/png": "[encoded data removed]",
      "text/plain": [
       "<Figure size 1080x720 with 1 Axes>"
      ]
     },
     "metadata": {
      "needs_background": "light"
     },
     "output_type": "display_data"
    }
   ],
   "source": [
    "#comparing the results of NN and LR\n",
    "plt.figure(figsize=(15,10))\n",
    "\n",
    "# Neural Network plots\n",
    "plt.plot(acc_nn.accuracies, 'r-', label = \"Training Accuracies - NN\")\n",
    "plt.plot(acc_nn.test_accuracies, 'g-', label = \"Testing Accuracies - NN\")\n",
    "\n",
    "# Logistic Regression plots\n",
    "plt.plot(acc_lr.accuracies, 'k-', label = \"Training Accuracies - LR\")\n",
    "plt.plot(acc_lr.test_accuracies, 'b-', label = \"Testing Accuracies - LR\")\n",
    "plt.legend()"
   ]
  },
  {
   "cell_type": "markdown",
   "id": "80dfb35c",
   "metadata": {
    "papermill": {
     "duration": 0.047547,
     "end_time": "2021-10-29T10:09:30.834611",
     "exception": false,
     "start_time": "2021-10-29T10:09:30.787064",
     "status": "completed"
    },
    "tags": []
   },
   "source": [
    "#### Plotting the outputs of this layer of the NN.\n"
   ]
  },
  {
   "cell_type": "code",
   "execution_count": 25,
   "id": "45eb2ff5",
   "metadata": {
    "execution": {
     "iopub.execute_input": "2021-10-29T10:09:30.939650Z",
     "iopub.status.busy": "2021-10-29T10:09:30.938959Z",
     "iopub.status.idle": "2021-10-29T10:09:30.959898Z",
     "shell.execute_reply": "2021-10-29T10:09:30.960385Z"
    },
    "papermill": {
     "duration": 0.07808,
     "end_time": "2021-10-29T10:09:30.960555",
     "exception": false,
     "start_time": "2021-10-29T10:09:30.882475",
     "status": "completed"
    },
    "tags": []
   },
   "outputs": [],
   "source": [
    "new_model = Model(layers[:-2])\n",
    "testing_plot = new_model(testing_data_x)"
   ]
  },
  {
   "cell_type": "code",
   "execution_count": 26,
   "id": "4c0a5485",
   "metadata": {
    "execution": {
     "iopub.execute_input": "2021-10-29T10:09:31.084535Z",
     "iopub.status.busy": "2021-10-29T10:09:31.083503Z",
     "iopub.status.idle": "2021-10-29T10:09:31.313442Z",
     "shell.execute_reply": "2021-10-29T10:09:31.313940Z"
    },
    "papermill": {
     "duration": 0.291547,
     "end_time": "2021-10-29T10:09:31.314089",
     "exception": false,
     "start_time": "2021-10-29T10:09:31.022542",
     "status": "completed"
    },
    "tags": []
   },
   "outputs": [
    {
     "data": {
      "text/plain": [
       "Text(0.5, 1.0, 'Outputs')"
      ]
     },
     "execution_count": 26,
     "metadata": {},
     "output_type": "execute_result"
    },
    {
     "data": {
      "image/png": "[encoded data removed]",
      "text/plain": [
       "<Figure size 576x504 with 1 Axes>"
      ]
     },
     "metadata": {
      "needs_background": "light"
     },
     "output_type": "display_data"
    }
   ],
   "source": [
    "# Plotting the scatter plot of points and color coding by class\n",
    "plt.figure(figsize=(8,7))\n",
    "plt.scatter(testing_plot[:,0], testing_plot[:,1], alpha = 0.1, c = y_test.ravel());\n",
    "plt.title('Outputs')"
   ]
  },
  {
   "cell_type": "markdown",
   "id": "a74fcf8f",
   "metadata": {
    "papermill": {
     "duration": 0.049551,
     "end_time": "2021-10-29T10:09:31.412603",
     "exception": false,
     "start_time": "2021-10-29T10:09:31.363052",
     "status": "completed"
    },
    "tags": []
   },
   "source": [
    "Probability contours"
   ]
  },
  {
   "cell_type": "code",
   "execution_count": 27,
   "id": "d0afc8e3",
   "metadata": {
    "execution": {
     "iopub.execute_input": "2021-10-29T10:09:31.519486Z",
     "iopub.status.busy": "2021-10-29T10:09:31.518824Z",
     "iopub.status.idle": "2021-10-29T10:09:31.531472Z",
     "shell.execute_reply": "2021-10-29T10:09:31.530957Z"
    },
    "papermill": {
     "duration": 0.069218,
     "end_time": "2021-10-29T10:09:31.531598",
     "exception": false,
     "start_time": "2021-10-29T10:09:31.462380",
     "status": "completed"
    },
    "tags": []
   },
   "outputs": [],
   "source": [
    "model_prob = Model(layers[-2:]) "
   ]
  },
  {
   "cell_type": "code",
   "execution_count": 28,
   "id": "9b96e238",
   "metadata": {
    "execution": {
     "iopub.execute_input": "2021-10-29T10:09:31.686370Z",
     "iopub.status.busy": "2021-10-29T10:09:31.685744Z",
     "iopub.status.idle": "2021-10-29T10:09:31.703721Z",
     "shell.execute_reply": "2021-10-29T10:09:31.703219Z"
    },
    "papermill": {
     "duration": 0.076442,
     "end_time": "2021-10-29T10:09:31.703859",
     "exception": false,
     "start_time": "2021-10-29T10:09:31.627417",
     "status": "completed"
    },
    "tags": []
   },
   "outputs": [],
   "source": [
    "#creating the x and y ranges according to the above generated plot.\n",
    "x_range = np.linspace(-4, 1, 100) \n",
    "y_range = np.linspace(-6, 6, 100) \n",
    "x_grid, y_grid = np.meshgrid(x_range, y_range) # x_grid and y_grig are of size 100 X 100\n",
    "\n",
    "# converting x_grid and y_grid to continuous arrays\n",
    "x_gridflat = np.ravel(x_grid)\n",
    "y_gridflat = np.ravel(y_grid)\n",
    "\n",
    "# The last layer of the current model takes two columns as input. Hence transpose of np.vstack() is required.\n",
    "X = np.vstack((x_gridflat, y_gridflat)).T\n",
    "\n",
    "prob_contour = model_prob(X).reshape(100,100) "
   ]
  },
  {
   "cell_type": "code",
   "execution_count": 29,
   "id": "da72499a",
   "metadata": {
    "execution": {
     "iopub.execute_input": "2021-10-29T10:09:31.819413Z",
     "iopub.status.busy": "2021-10-29T10:09:31.817717Z",
     "iopub.status.idle": "2021-10-29T10:09:32.109858Z",
     "shell.execute_reply": "2021-10-29T10:09:32.109344Z"
    },
    "papermill": {
     "duration": 0.350232,
     "end_time": "2021-10-29T10:09:32.109999",
     "exception": false,
     "start_time": "2021-10-29T10:09:31.759767",
     "status": "completed"
    },
    "tags": []
   },
   "outputs": [
    {
     "data": {
      "image/png": "[encoded data removed]",
      "text/plain": [
       "<Figure size 720x648 with 1 Axes>"
      ]
     },
     "metadata": {
      "needs_background": "light"
     },
     "output_type": "display_data"
    }
   ],
   "source": [
    "plt.figure(figsize=(10,9))\n",
    "plt.scatter(testing_plot[:,0], testing_plot[:,1], alpha = 0.1, c = y_test.ravel())\n",
    "contours = plt.contour(x_grid,y_grid,prob_contour)\n",
    "plt.title('Probability Contours')\n",
    "plt.clabel(contours, inline = True );"
   ]
  },
  {
   "cell_type": "code",
   "execution_count": null,
   "id": "e81b4ac7",
   "metadata": {
    "papermill": {
     "duration": 0.054812,
     "end_time": "2021-10-29T10:09:32.220311",
     "exception": false,
     "start_time": "2021-10-29T10:09:32.165499",
     "status": "completed"
    },
    "tags": []
   },
   "outputs": [],
   "source": []
  }
 ],
 "metadata": {
  "kernelspec": {
   "display_name": "Python 3",
   "language": "python",
   "name": "python3"
  },
  "language_info": {
   "codemirror_mode": {
    "name": "ipython",
    "version": 3
   },
   "file_extension": ".py",
   "mimetype": "text/x-python",
   "name": "python",
   "nbconvert_exporter": "python",
   "pygments_lexer": "ipython3",
   "version": "3.6.15"
  },
  "papermill": {
   "default_parameters": {},
   "duration": 112.776905,
   "end_time": "2021-10-29T10:09:32.686356",
   "environment_variables": {},
   "exception": null,
   "input_path": "2020-08-11-part2.ipynb",
   "output_path": "2020-08-11-part2.ipynb",
   "parameters": {},
   "start_time": "2021-10-29T10:07:39.909451",
   "version": "2.3.3"
  }
 },
 "nbformat": 4,
 "nbformat_minor": 5
}