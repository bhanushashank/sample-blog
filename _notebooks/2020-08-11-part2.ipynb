{
 "cells": [
  {
   "cell_type": "markdown",
   "id": "98380cd3",
   "metadata": {
    "papermill": {
     "duration": 0.037767,
     "end_time": "2021-09-26T20:07:24.637192",
     "exception": false,
     "start_time": "2021-09-26T20:07:24.599425",
     "status": "completed"
    },
    "tags": []
   },
   "source": [
    "# Distinguish Your Own Digits (DYOD)"
   ]
  },
  {
   "cell_type": "markdown",
   "id": "ef31240d",
   "metadata": {
    "papermill": {
     "duration": 0.02725,
     "end_time": "2021-09-26T20:07:24.693654",
     "exception": false,
     "start_time": "2021-09-26T20:07:24.666404",
     "status": "completed"
    },
    "tags": []
   },
   "source": [
    "You are going to write a classifier that distinguishes between the number 3 and number 8."
   ]
  },
  {
   "cell_type": "code",
   "execution_count": 1,
   "id": "b15c8646",
   "metadata": {
    "execution": {
     "iopub.execute_input": "2021-09-26T20:07:24.765331Z",
     "iopub.status.busy": "2021-09-26T20:07:24.764679Z",
     "iopub.status.idle": "2021-09-26T20:07:24.776820Z",
     "shell.execute_reply": "2021-09-26T20:07:24.776336Z"
    },
    "papermill": {
     "duration": 0.055609,
     "end_time": "2021-09-26T20:07:24.776965",
     "exception": false,
     "start_time": "2021-09-26T20:07:24.721356",
     "status": "completed"
    },
    "tags": []
   },
   "outputs": [],
   "source": [
    "%load_ext autoreload\n",
    "%autoreload 2"
   ]
  },
  {
   "cell_type": "code",
   "execution_count": 2,
   "id": "22ef38dc",
   "metadata": {
    "execution": {
     "iopub.execute_input": "2021-09-26T20:07:24.840462Z",
     "iopub.status.busy": "2021-09-26T20:07:24.839596Z",
     "iopub.status.idle": "2021-09-26T20:07:25.476049Z",
     "shell.execute_reply": "2021-09-26T20:07:25.476692Z"
    },
    "papermill": {
     "duration": 0.670751,
     "end_time": "2021-09-26T20:07:25.476902",
     "exception": false,
     "start_time": "2021-09-26T20:07:24.806151",
     "status": "completed"
    },
    "tags": []
   },
   "outputs": [],
   "source": [
    "%matplotlib inline\n",
    "import numpy as np\n",
    "import matplotlib.pyplot as plt\n",
    "import pandas as pd"
   ]
  },
  {
   "cell_type": "markdown",
   "id": "ba036198",
   "metadata": {
    "papermill": {
     "duration": 0.02828,
     "end_time": "2021-09-26T20:07:25.534621",
     "exception": false,
     "start_time": "2021-09-26T20:07:25.506341",
     "status": "completed"
    },
    "tags": []
   },
   "source": [
    "From the command line run `pip install mnist`. This is a library that will help you bring down the mnist dataset. If you run this from a notebook, you need to put  `!pip install mnist` in a cell by itself."
   ]
  },
  {
   "cell_type": "code",
   "execution_count": 3,
   "id": "bb6ad8a1",
   "metadata": {
    "execution": {
     "iopub.execute_input": "2021-09-26T20:07:25.598024Z",
     "iopub.status.busy": "2021-09-26T20:07:25.596576Z",
     "iopub.status.idle": "2021-09-26T20:07:28.243967Z",
     "shell.execute_reply": "2021-09-26T20:07:28.243004Z"
    },
    "papermill": {
     "duration": 2.679537,
     "end_time": "2021-09-26T20:07:28.244185",
     "exception": false,
     "start_time": "2021-09-26T20:07:25.564648",
     "status": "completed"
    },
    "tags": []
   },
   "outputs": [
    {
     "name": "stdout",
     "output_type": "stream",
     "text": [
      "Collecting mnist\r\n",
      "  Downloading mnist-0.2.2-py2.py3-none-any.whl (3.5 kB)\r\n",
      "Requirement already satisfied: numpy in /opt/hostedtoolcache/Python/3.6.15/x64/lib/python3.6/site-packages (from mnist) (1.19.5)\r\n"
     ]
    },
    {
     "name": "stdout",
     "output_type": "stream",
     "text": [
      "Installing collected packages: mnist\r\n"
     ]
    },
    {
     "name": "stdout",
     "output_type": "stream",
     "text": [
      "Successfully installed mnist-0.2.2\r\n"
     ]
    }
   ],
   "source": [
    "!pip install mnist"
   ]
  },
  {
   "cell_type": "markdown",
   "id": "69df9c9a",
   "metadata": {
    "papermill": {
     "duration": 0.028561,
     "end_time": "2021-09-26T20:07:28.303111",
     "exception": false,
     "start_time": "2021-09-26T20:07:28.274550",
     "status": "completed"
    },
    "tags": []
   },
   "source": [
    "## Preparing the Data"
   ]
  },
  {
   "cell_type": "code",
   "execution_count": 4,
   "id": "7f69d806",
   "metadata": {
    "execution": {
     "iopub.execute_input": "2021-09-26T20:07:28.364247Z",
     "iopub.status.busy": "2021-09-26T20:07:28.363628Z",
     "iopub.status.idle": "2021-09-26T20:07:28.382340Z",
     "shell.execute_reply": "2021-09-26T20:07:28.381810Z"
    },
    "papermill": {
     "duration": 0.051288,
     "end_time": "2021-09-26T20:07:28.382466",
     "exception": false,
     "start_time": "2021-09-26T20:07:28.331178",
     "status": "completed"
    },
    "tags": []
   },
   "outputs": [],
   "source": [
    "import mnist"
   ]
  },
  {
   "cell_type": "code",
   "execution_count": 5,
   "id": "a411e44f",
   "metadata": {
    "execution": {
     "iopub.execute_input": "2021-09-26T20:07:28.440694Z",
     "iopub.status.busy": "2021-09-26T20:07:28.440091Z",
     "iopub.status.idle": "2021-09-26T20:07:29.010198Z",
     "shell.execute_reply": "2021-09-26T20:07:29.010997Z"
    },
    "papermill": {
     "duration": 0.602293,
     "end_time": "2021-09-26T20:07:29.011221",
     "exception": false,
     "start_time": "2021-09-26T20:07:28.408928",
     "status": "completed"
    },
    "tags": []
   },
   "outputs": [],
   "source": [
    "train_images = mnist.train_images()\n",
    "train_labels = mnist.train_labels()"
   ]
  },
  {
   "cell_type": "code",
   "execution_count": 6,
   "id": "dceab3a5",
   "metadata": {
    "execution": {
     "iopub.execute_input": "2021-09-26T20:07:29.072192Z",
     "iopub.status.busy": "2021-09-26T20:07:29.071593Z",
     "iopub.status.idle": "2021-09-26T20:07:29.090600Z",
     "shell.execute_reply": "2021-09-26T20:07:29.090088Z"
    },
    "papermill": {
     "duration": 0.051702,
     "end_time": "2021-09-26T20:07:29.090727",
     "exception": false,
     "start_time": "2021-09-26T20:07:29.039025",
     "status": "completed"
    },
    "tags": []
   },
   "outputs": [
    {
     "data": {
      "text/plain": [
       "((60000, 28, 28), (60000,))"
      ]
     },
     "execution_count": 6,
     "metadata": {},
     "output_type": "execute_result"
    }
   ],
   "source": [
    "train_images.shape, train_labels.shape"
   ]
  },
  {
   "cell_type": "code",
   "execution_count": 7,
   "id": "f50dc2bb",
   "metadata": {
    "execution": {
     "iopub.execute_input": "2021-09-26T20:07:29.151708Z",
     "iopub.status.busy": "2021-09-26T20:07:29.151126Z",
     "iopub.status.idle": "2021-09-26T20:07:29.333138Z",
     "shell.execute_reply": "2021-09-26T20:07:29.332195Z"
    },
    "papermill": {
     "duration": 0.214744,
     "end_time": "2021-09-26T20:07:29.333352",
     "exception": false,
     "start_time": "2021-09-26T20:07:29.118608",
     "status": "completed"
    },
    "tags": []
   },
   "outputs": [],
   "source": [
    "test_images = mnist.test_images()\n",
    "test_labels = mnist.test_labels()"
   ]
  },
  {
   "cell_type": "code",
   "execution_count": 8,
   "id": "fc38cf1b",
   "metadata": {
    "execution": {
     "iopub.execute_input": "2021-09-26T20:07:29.394995Z",
     "iopub.status.busy": "2021-09-26T20:07:29.394399Z",
     "iopub.status.idle": "2021-09-26T20:07:29.409905Z",
     "shell.execute_reply": "2021-09-26T20:07:29.409372Z"
    },
    "papermill": {
     "duration": 0.047,
     "end_time": "2021-09-26T20:07:29.410051",
     "exception": false,
     "start_time": "2021-09-26T20:07:29.363051",
     "status": "completed"
    },
    "tags": []
   },
   "outputs": [
    {
     "data": {
      "text/plain": [
       "((10000, 28, 28), (10000,))"
      ]
     },
     "execution_count": 8,
     "metadata": {},
     "output_type": "execute_result"
    }
   ],
   "source": [
    "test_images.shape, test_labels.shape"
   ]
  },
  {
   "cell_type": "code",
   "execution_count": 9,
   "id": "f9ed8fe0",
   "metadata": {
    "execution": {
     "iopub.execute_input": "2021-09-26T20:07:29.472719Z",
     "iopub.status.busy": "2021-09-26T20:07:29.471917Z",
     "iopub.status.idle": "2021-09-26T20:07:29.625956Z",
     "shell.execute_reply": "2021-09-26T20:07:29.627030Z"
    },
    "papermill": {
     "duration": 0.189492,
     "end_time": "2021-09-26T20:07:29.627289",
     "exception": false,
     "start_time": "2021-09-26T20:07:29.437797",
     "status": "completed"
    },
    "tags": []
   },
   "outputs": [
    {
     "name": "stdout",
     "output_type": "stream",
     "text": [
      "2\n"
     ]
    },
    {
     "data": {
      "text/plain": [
       "<matplotlib.image.AxesImage at 0x7f17737b1828>"
      ]
     },
     "execution_count": 9,
     "metadata": {},
     "output_type": "execute_result"
    },
    {
     "data": {
      "image/png": "[encoded data removed]",
      "text/plain": [
       "<Figure size 432x288 with 1 Axes>"
      ]
     },
     "metadata": {
      "needs_background": "light"
     },
     "output_type": "display_data"
    }
   ],
   "source": [
    "image_index = 7776 # You may select anything up to 60,000\n",
    "print(train_labels[image_index]) \n",
    "plt.imshow(train_images[image_index], cmap='Greys')"
   ]
  },
  {
   "cell_type": "markdown",
   "id": "a8d2388d",
   "metadata": {
    "papermill": {
     "duration": 0.03124,
     "end_time": "2021-09-26T20:07:29.690392",
     "exception": false,
     "start_time": "2021-09-26T20:07:29.659152",
     "status": "completed"
    },
    "tags": []
   },
   "source": [
    "## Filter data to get 3 and 8 out"
   ]
  },
  {
   "cell_type": "code",
   "execution_count": 10,
   "id": "776f7fc7",
   "metadata": {
    "execution": {
     "iopub.execute_input": "2021-09-26T20:07:29.754902Z",
     "iopub.status.busy": "2021-09-26T20:07:29.754293Z",
     "iopub.status.idle": "2021-09-26T20:07:29.771033Z",
     "shell.execute_reply": "2021-09-26T20:07:29.770550Z"
    },
    "papermill": {
     "duration": 0.051166,
     "end_time": "2021-09-26T20:07:29.771159",
     "exception": false,
     "start_time": "2021-09-26T20:07:29.719993",
     "status": "completed"
    },
    "tags": []
   },
   "outputs": [],
   "source": [
    "train_filter = np.where((train_labels == 3 ) | (train_labels == 8))\n",
    "test_filter = np.where((test_labels == 3) | (test_labels == 8))\n",
    "X_train, y_train = train_images[train_filter], train_labels[train_filter]\n",
    "X_test, y_test = test_images[test_filter], test_labels[test_filter]"
   ]
  },
  {
   "cell_type": "markdown",
   "id": "948f0b7e",
   "metadata": {
    "papermill": {
     "duration": 0.030313,
     "end_time": "2021-09-26T20:07:29.833638",
     "exception": false,
     "start_time": "2021-09-26T20:07:29.803325",
     "status": "completed"
    },
    "tags": []
   },
   "source": [
    "We normalize the pizel values in the 0 to 1 range"
   ]
  },
  {
   "cell_type": "code",
   "execution_count": 11,
   "id": "ee4c2166",
   "metadata": {
    "execution": {
     "iopub.execute_input": "2021-09-26T20:07:29.899063Z",
     "iopub.status.busy": "2021-09-26T20:07:29.898444Z",
     "iopub.status.idle": "2021-09-26T20:07:29.949923Z",
     "shell.execute_reply": "2021-09-26T20:07:29.949251Z"
    },
    "papermill": {
     "duration": 0.08565,
     "end_time": "2021-09-26T20:07:29.950082",
     "exception": false,
     "start_time": "2021-09-26T20:07:29.864432",
     "status": "completed"
    },
    "tags": []
   },
   "outputs": [],
   "source": [
    "X_train = X_train/255.\n",
    "X_test = X_test/255."
   ]
  },
  {
   "cell_type": "markdown",
   "id": "ddcf4fab",
   "metadata": {
    "papermill": {
     "duration": 0.028055,
     "end_time": "2021-09-26T20:07:30.007953",
     "exception": false,
     "start_time": "2021-09-26T20:07:29.979898",
     "status": "completed"
    },
    "tags": []
   },
   "source": [
    "And setup the labels as 1 (when the digit is 3) and 0 (when the digit is 8)"
   ]
  },
  {
   "cell_type": "code",
   "execution_count": 12,
   "id": "7dc908f2",
   "metadata": {
    "execution": {
     "iopub.execute_input": "2021-09-26T20:07:30.072605Z",
     "iopub.status.busy": "2021-09-26T20:07:30.071993Z",
     "iopub.status.idle": "2021-09-26T20:07:30.086977Z",
     "shell.execute_reply": "2021-09-26T20:07:30.086469Z"
    },
    "papermill": {
     "duration": 0.050319,
     "end_time": "2021-09-26T20:07:30.087092",
     "exception": false,
     "start_time": "2021-09-26T20:07:30.036773",
     "status": "completed"
    },
    "tags": []
   },
   "outputs": [],
   "source": [
    "y_train = 1*(y_train==3)\n",
    "y_test = 1*(y_test==3)"
   ]
  },
  {
   "cell_type": "code",
   "execution_count": 13,
   "id": "01e4e969",
   "metadata": {
    "execution": {
     "iopub.execute_input": "2021-09-26T20:07:30.158407Z",
     "iopub.status.busy": "2021-09-26T20:07:30.154375Z",
     "iopub.status.idle": "2021-09-26T20:07:30.169211Z",
     "shell.execute_reply": "2021-09-26T20:07:30.169715Z"
    },
    "papermill": {
     "duration": 0.052472,
     "end_time": "2021-09-26T20:07:30.169865",
     "exception": false,
     "start_time": "2021-09-26T20:07:30.117393",
     "status": "completed"
    },
    "tags": []
   },
   "outputs": [
    {
     "data": {
      "text/plain": [
       "((11982, 28, 28), (1984, 28, 28))"
      ]
     },
     "execution_count": 13,
     "metadata": {},
     "output_type": "execute_result"
    }
   ],
   "source": [
    "X_train.shape, X_test.shape"
   ]
  },
  {
   "cell_type": "markdown",
   "id": "5ccf3f85",
   "metadata": {
    "papermill": {
     "duration": 0.029218,
     "end_time": "2021-09-26T20:07:30.229293",
     "exception": false,
     "start_time": "2021-09-26T20:07:30.200075",
     "status": "completed"
    },
    "tags": []
   },
   "source": [
    "We reshape the data to flatten the image pixels into a set of features or co-variates:"
   ]
  },
  {
   "cell_type": "code",
   "execution_count": 14,
   "id": "5286a4a3",
   "metadata": {
    "execution": {
     "iopub.execute_input": "2021-09-26T20:07:30.295623Z",
     "iopub.status.busy": "2021-09-26T20:07:30.294575Z",
     "iopub.status.idle": "2021-09-26T20:07:30.310211Z",
     "shell.execute_reply": "2021-09-26T20:07:30.309701Z"
    },
    "papermill": {
     "duration": 0.050637,
     "end_time": "2021-09-26T20:07:30.310331",
     "exception": false,
     "start_time": "2021-09-26T20:07:30.259694",
     "status": "completed"
    },
    "tags": []
   },
   "outputs": [
    {
     "data": {
      "text/plain": [
       "((11982, 784), (1984, 784))"
      ]
     },
     "execution_count": 14,
     "metadata": {},
     "output_type": "execute_result"
    }
   ],
   "source": [
    "X_train = X_train.reshape(X_train.shape[0], -1)\n",
    "X_test = X_test.reshape(X_test.shape[0], -1)\n",
    "X_train.shape, X_test.shape"
   ]
  },
  {
   "cell_type": "code",
   "execution_count": 15,
   "id": "73c5f88a",
   "metadata": {
    "execution": {
     "iopub.execute_input": "2021-09-26T20:07:30.374780Z",
     "iopub.status.busy": "2021-09-26T20:07:30.374091Z",
     "iopub.status.idle": "2021-09-26T20:07:30.396016Z",
     "shell.execute_reply": "2021-09-26T20:07:30.396628Z"
    },
    "papermill": {
     "duration": 0.056552,
     "end_time": "2021-09-26T20:07:30.396809",
     "exception": false,
     "start_time": "2021-09-26T20:07:30.340257",
     "status": "completed"
    },
    "tags": []
   },
   "outputs": [],
   "source": [
    "#Impoting functions from 'Kudzu'\n",
    "from kudzu.model import Model\n",
    "from kudzu.train import Learner\n",
    "from kudzu.optim import GD\n",
    "from kudzu.data import Data, Sampler,Dataloader\n",
    "\n",
    "from kudzu.callbacks import AccCallback\n",
    "from kudzu.callbacks import ClfCallback\n",
    "\n",
    "from kudzu.loss import MSE\n",
    "\n",
    "from kudzu.layer import Sigmoid,Relu\n",
    "from kudzu.layer import Affine"
   ]
  },
  {
   "cell_type": "markdown",
   "id": "bc01172a",
   "metadata": {
    "papermill": {
     "duration": 0.034002,
     "end_time": "2021-09-26T20:07:30.463719",
     "exception": false,
     "start_time": "2021-09-26T20:07:30.429717",
     "status": "completed"
    },
    "tags": []
   },
   "source": [
    "### Let us create a `Config` class, to store important parameters. \n",
    "This class essentially plays the role of a dictionary."
   ]
  },
  {
   "cell_type": "code",
   "execution_count": 16,
   "id": "978281aa",
   "metadata": {
    "execution": {
     "iopub.execute_input": "2021-09-26T20:07:30.535870Z",
     "iopub.status.busy": "2021-09-26T20:07:30.535025Z",
     "iopub.status.idle": "2021-09-26T20:07:30.548284Z",
     "shell.execute_reply": "2021-09-26T20:07:30.547803Z"
    },
    "papermill": {
     "duration": 0.053506,
     "end_time": "2021-09-26T20:07:30.548411",
     "exception": false,
     "start_time": "2021-09-26T20:07:30.494905",
     "status": "completed"
    },
    "tags": []
   },
   "outputs": [],
   "source": [
    "class Config:\n",
    "    pass\n",
    "config = Config()\n",
    "config.lr = 0.001\n",
    "config.num_epochs = 250\n",
    "config.bs = 50"
   ]
  },
  {
   "cell_type": "markdown",
   "id": "1385fa59",
   "metadata": {
    "papermill": {
     "duration": 0.031872,
     "end_time": "2021-09-26T20:07:30.611530",
     "exception": false,
     "start_time": "2021-09-26T20:07:30.579658",
     "status": "completed"
    },
    "tags": []
   },
   "source": [
    "### Running Models with the Training data\n",
    "Details about the network layers:\n",
    "- A first affine layer has 784 inputs and does 100 affine transforms. These are followed by a Relu\n",
    "- A second affine layer has 100 inputs from the 100 activations of the past layer, and does 100 affine transforms. These are followed by a Relu\n",
    "- A third affine layer has 100 activations and does 2 affine transformations to create an embedding for visualization. There is no non-linearity here.\n",
    "- A final \"logistic regression\" which has an affine transform from 2 inputs to 1 output, which is squeezed through a sigmoid.\n"
   ]
  },
  {
   "cell_type": "code",
   "execution_count": 17,
   "id": "2b9c66db",
   "metadata": {
    "execution": {
     "iopub.execute_input": "2021-09-26T20:07:30.680535Z",
     "iopub.status.busy": "2021-09-26T20:07:30.679937Z",
     "iopub.status.idle": "2021-09-26T20:07:30.695718Z",
     "shell.execute_reply": "2021-09-26T20:07:30.696171Z"
    },
    "papermill": {
     "duration": 0.053696,
     "end_time": "2021-09-26T20:07:30.696323",
     "exception": false,
     "start_time": "2021-09-26T20:07:30.642627",
     "status": "completed"
    },
    "tags": []
   },
   "outputs": [],
   "source": [
    "data = Data(X_train, y_train.reshape(-1,1))\n",
    "sampler = Sampler(data, config.bs, shuffle=True)\n",
    "\n",
    "dl = Dataloader(data, sampler)\n",
    "\n",
    "opt = GD(config.lr)\n",
    "loss = MSE()"
   ]
  },
  {
   "cell_type": "code",
   "execution_count": 18,
   "id": "b275e4c2",
   "metadata": {
    "execution": {
     "iopub.execute_input": "2021-09-26T20:07:30.763536Z",
     "iopub.status.busy": "2021-09-26T20:07:30.762922Z",
     "iopub.status.idle": "2021-09-26T20:07:30.777584Z",
     "shell.execute_reply": "2021-09-26T20:07:30.777067Z"
    },
    "papermill": {
     "duration": 0.049797,
     "end_time": "2021-09-26T20:07:30.777725",
     "exception": false,
     "start_time": "2021-09-26T20:07:30.727928",
     "status": "completed"
    },
    "tags": []
   },
   "outputs": [],
   "source": [
    "training_data_x = X_train\n",
    "testing_data_x = X_test\n",
    "training_data_y = y_train.reshape(-1,1)\n",
    "testing_data_y = y_test.reshape(-1,1)"
   ]
  },
  {
   "cell_type": "code",
   "execution_count": 19,
   "id": "76951160",
   "metadata": {
    "execution": {
     "iopub.execute_input": "2021-09-26T20:07:30.851556Z",
     "iopub.status.busy": "2021-09-26T20:07:30.850948Z",
     "iopub.status.idle": "2021-09-26T20:07:30.869830Z",
     "shell.execute_reply": "2021-09-26T20:07:30.869304Z"
    },
    "papermill": {
     "duration": 0.055962,
     "end_time": "2021-09-26T20:07:30.869953",
     "exception": false,
     "start_time": "2021-09-26T20:07:30.813991",
     "status": "completed"
    },
    "tags": []
   },
   "outputs": [
    {
     "name": "stdout",
     "output_type": "stream",
     "text": [
      "xavier\n",
      "xavier\n",
      "xavier\n",
      "xavier\n",
      "xavier\n"
     ]
    }
   ],
   "source": [
    "layers = [Affine(\"first\", 784, 100), Relu(\"first\"), Affine(\"second\", 100, 100), Relu(\"second\"), Affine(\"third\", 100, 2), Affine(\"last\", 2, 1), Sigmoid(\"last\")]\n",
    "model_nn = Model(layers)\n",
    "model_lr = Model([Affine(\"logits\", 784, 1), Sigmoid(\"sigmoid\")])"
   ]
  },
  {
   "cell_type": "code",
   "execution_count": 20,
   "id": "6eede77a",
   "metadata": {
    "execution": {
     "iopub.execute_input": "2021-09-26T20:07:30.941366Z",
     "iopub.status.busy": "2021-09-26T20:07:30.940738Z",
     "iopub.status.idle": "2021-09-26T20:07:30.954664Z",
     "shell.execute_reply": "2021-09-26T20:07:30.954155Z"
    },
    "papermill": {
     "duration": 0.05068,
     "end_time": "2021-09-26T20:07:30.954793",
     "exception": false,
     "start_time": "2021-09-26T20:07:30.904113",
     "status": "completed"
    },
    "tags": []
   },
   "outputs": [],
   "source": [
    "nn_learner = Learner(loss, model_nn, opt, config.num_epochs)\n",
    "acc_nn = ClfCallback(nn_learner, config.bs, training_data_x , testing_data_x, training_data_y, testing_data_y)\n",
    "nn_learner.set_callbacks([acc_nn])"
   ]
  },
  {
   "cell_type": "code",
   "execution_count": 21,
   "id": "877b6cc7",
   "metadata": {
    "execution": {
     "iopub.execute_input": "2021-09-26T20:07:31.023069Z",
     "iopub.status.busy": "2021-09-26T20:07:31.022320Z",
     "iopub.status.idle": "2021-09-26T20:07:31.036565Z",
     "shell.execute_reply": "2021-09-26T20:07:31.036059Z"
    },
    "papermill": {
     "duration": 0.050287,
     "end_time": "2021-09-26T20:07:31.036690",
     "exception": false,
     "start_time": "2021-09-26T20:07:30.986403",
     "status": "completed"
    },
    "tags": []
   },
   "outputs": [],
   "source": [
    "lr_learner = Learner(loss, model_lr, opt, config.num_epochs)\n",
    "acc_lr = ClfCallback(lr_learner, config.bs, training_data_x , testing_data_x, training_data_y, testing_data_y)\n",
    "lr_learner.set_callbacks([acc_lr])"
   ]
  },
  {
   "cell_type": "code",
   "execution_count": 22,
   "id": "d9b133c3",
   "metadata": {
    "execution": {
     "iopub.execute_input": "2021-09-26T20:07:31.103053Z",
     "iopub.status.busy": "2021-09-26T20:07:31.102498Z",
     "iopub.status.idle": "2021-09-26T20:09:01.349522Z",
     "shell.execute_reply": "2021-09-26T20:09:01.350101Z"
    },
    "papermill": {
     "duration": 90.281314,
     "end_time": "2021-09-26T20:09:01.350265",
     "exception": false,
     "start_time": "2021-09-26T20:07:31.068951",
     "status": "completed"
    },
    "tags": []
   },
   "outputs": [
    {
     "name": "stdout",
     "output_type": "stream",
     "text": [
      "Epoch 0, Loss 0.2237\n",
      "Training Accuracy: 0.7504, Testing Accuracy: 0.7510\n",
      "\n"
     ]
    },
    {
     "name": "stdout",
     "output_type": "stream",
     "text": [
      "Epoch 10, Loss 0.071\n",
      "Training Accuracy: 0.9328, Testing Accuracy: 0.9405\n",
      "\n"
     ]
    },
    {
     "name": "stdout",
     "output_type": "stream",
     "text": [
      "Epoch 20, Loss 0.0464\n",
      "Training Accuracy: 0.9526, Testing Accuracy: 0.9597\n",
      "\n"
     ]
    },
    {
     "name": "stdout",
     "output_type": "stream",
     "text": [
      "Epoch 30, Loss 0.0376\n",
      "Training Accuracy: 0.9597, Testing Accuracy: 0.9647\n",
      "\n"
     ]
    },
    {
     "name": "stdout",
     "output_type": "stream",
     "text": [
      "Epoch 40, Loss 0.0331\n",
      "Training Accuracy: 0.9636, Testing Accuracy: 0.9662\n",
      "\n"
     ]
    },
    {
     "name": "stdout",
     "output_type": "stream",
     "text": [
      "Epoch 50, Loss 0.0303\n",
      "Training Accuracy: 0.9653, Testing Accuracy: 0.9693\n",
      "\n"
     ]
    },
    {
     "name": "stdout",
     "output_type": "stream",
     "text": [
      "Epoch 60, Loss 0.0282\n",
      "Training Accuracy: 0.9672, Testing Accuracy: 0.9718\n",
      "\n"
     ]
    },
    {
     "name": "stdout",
     "output_type": "stream",
     "text": [
      "Epoch 70, Loss 0.0266\n",
      "Training Accuracy: 0.9679, Testing Accuracy: 0.9753\n",
      "\n"
     ]
    },
    {
     "name": "stdout",
     "output_type": "stream",
     "text": [
      "Epoch 80, Loss 0.0254\n",
      "Training Accuracy: 0.9700, Testing Accuracy: 0.9743\n",
      "\n"
     ]
    },
    {
     "name": "stdout",
     "output_type": "stream",
     "text": [
      "Epoch 90, Loss 0.0243\n",
      "Training Accuracy: 0.9715, Testing Accuracy: 0.9743\n",
      "\n"
     ]
    },
    {
     "name": "stdout",
     "output_type": "stream",
     "text": [
      "Epoch 100, Loss 0.0234\n",
      "Training Accuracy: 0.9725, Testing Accuracy: 0.9748\n",
      "\n"
     ]
    },
    {
     "name": "stdout",
     "output_type": "stream",
     "text": [
      "Epoch 110, Loss 0.0227\n",
      "Training Accuracy: 0.9742, Testing Accuracy: 0.9738\n",
      "\n"
     ]
    },
    {
     "name": "stdout",
     "output_type": "stream",
     "text": [
      "Epoch 120, Loss 0.022\n",
      "Training Accuracy: 0.9750, Testing Accuracy: 0.9743\n",
      "\n"
     ]
    },
    {
     "name": "stdout",
     "output_type": "stream",
     "text": [
      "Epoch 130, Loss 0.0213\n",
      "Training Accuracy: 0.9760, Testing Accuracy: 0.9748\n",
      "\n"
     ]
    },
    {
     "name": "stdout",
     "output_type": "stream",
     "text": [
      "Epoch 140, Loss 0.0208\n",
      "Training Accuracy: 0.9768, Testing Accuracy: 0.9753\n",
      "\n"
     ]
    },
    {
     "name": "stdout",
     "output_type": "stream",
     "text": [
      "Epoch 150, Loss 0.0202\n",
      "Training Accuracy: 0.9776, Testing Accuracy: 0.9753\n",
      "\n"
     ]
    },
    {
     "name": "stdout",
     "output_type": "stream",
     "text": [
      "Epoch 160, Loss 0.0197\n",
      "Training Accuracy: 0.9782, Testing Accuracy: 0.9753\n",
      "\n"
     ]
    },
    {
     "name": "stdout",
     "output_type": "stream",
     "text": [
      "Epoch 170, Loss 0.0193\n",
      "Training Accuracy: 0.9786, Testing Accuracy: 0.9758\n",
      "\n"
     ]
    },
    {
     "name": "stdout",
     "output_type": "stream",
     "text": [
      "Epoch 180, Loss 0.0188\n",
      "Training Accuracy: 0.9793, Testing Accuracy: 0.9758\n",
      "\n"
     ]
    },
    {
     "name": "stdout",
     "output_type": "stream",
     "text": [
      "Epoch 190, Loss 0.0184\n",
      "Training Accuracy: 0.9799, Testing Accuracy: 0.9763\n",
      "\n"
     ]
    },
    {
     "name": "stdout",
     "output_type": "stream",
     "text": [
      "Epoch 200, Loss 0.018\n",
      "Training Accuracy: 0.9803, Testing Accuracy: 0.9768\n",
      "\n"
     ]
    },
    {
     "name": "stdout",
     "output_type": "stream",
     "text": [
      "Epoch 210, Loss 0.0176\n",
      "Training Accuracy: 0.9807, Testing Accuracy: 0.9768\n",
      "\n"
     ]
    },
    {
     "name": "stdout",
     "output_type": "stream",
     "text": [
      "Epoch 220, Loss 0.0173\n",
      "Training Accuracy: 0.9813, Testing Accuracy: 0.9778\n",
      "\n"
     ]
    },
    {
     "name": "stdout",
     "output_type": "stream",
     "text": [
      "Epoch 230, Loss 0.0169\n",
      "Training Accuracy: 0.9817, Testing Accuracy: 0.9778\n",
      "\n"
     ]
    },
    {
     "name": "stdout",
     "output_type": "stream",
     "text": [
      "Epoch 240, Loss 0.0166\n",
      "Training Accuracy: 0.9821, Testing Accuracy: 0.9778\n",
      "\n"
     ]
    },
    {
     "data": {
      "text/plain": [
       "0.0013967403073668382"
      ]
     },
     "execution_count": 22,
     "metadata": {},
     "output_type": "execute_result"
    }
   ],
   "source": [
    "nn_learner.train_loop(dl)"
   ]
  },
  {
   "cell_type": "code",
   "execution_count": 23,
   "id": "e0163366",
   "metadata": {
    "execution": {
     "iopub.execute_input": "2021-09-26T20:09:01.447351Z",
     "iopub.status.busy": "2021-09-26T20:09:01.446707Z",
     "iopub.status.idle": "2021-09-26T20:09:17.376865Z",
     "shell.execute_reply": "2021-09-26T20:09:17.377754Z"
    },
    "papermill": {
     "duration": 15.98479,
     "end_time": "2021-09-26T20:09:17.377926",
     "exception": false,
     "start_time": "2021-09-26T20:09:01.393136",
     "status": "completed"
    },
    "tags": []
   },
   "outputs": [
    {
     "name": "stdout",
     "output_type": "stream",
     "text": [
      "Epoch 0, Loss 0.2472\n",
      "Training Accuracy: 0.6696, Testing Accuracy: 0.6734\n",
      "\n"
     ]
    },
    {
     "name": "stdout",
     "output_type": "stream",
     "text": [
      "Epoch 10, Loss 0.105\n",
      "Training Accuracy: 0.9086, Testing Accuracy: 0.9229\n",
      "\n"
     ]
    },
    {
     "name": "stdout",
     "output_type": "stream",
     "text": [
      "Epoch 20, Loss 0.0801\n",
      "Training Accuracy: 0.9284, Testing Accuracy: 0.9405\n",
      "\n"
     ]
    },
    {
     "name": "stdout",
     "output_type": "stream",
     "text": [
      "Epoch 30, Loss 0.0689\n",
      "Training Accuracy: 0.9364, Testing Accuracy: 0.9471\n",
      "\n"
     ]
    },
    {
     "name": "stdout",
     "output_type": "stream",
     "text": [
      "Epoch 40, Loss 0.0622\n",
      "Training Accuracy: 0.9413, Testing Accuracy: 0.9516\n",
      "\n"
     ]
    },
    {
     "name": "stdout",
     "output_type": "stream",
     "text": [
      "Epoch 50, Loss 0.0577\n",
      "Training Accuracy: 0.9447, Testing Accuracy: 0.9546\n",
      "\n"
     ]
    },
    {
     "name": "stdout",
     "output_type": "stream",
     "text": [
      "Epoch 60, Loss 0.0544\n",
      "Training Accuracy: 0.9473, Testing Accuracy: 0.9582\n",
      "\n"
     ]
    },
    {
     "name": "stdout",
     "output_type": "stream",
     "text": [
      "Epoch 70, Loss 0.0518\n",
      "Training Accuracy: 0.9496, Testing Accuracy: 0.9597\n",
      "\n"
     ]
    },
    {
     "name": "stdout",
     "output_type": "stream",
     "text": [
      "Epoch 80, Loss 0.0497\n",
      "Training Accuracy: 0.9518, Testing Accuracy: 0.9597\n",
      "\n"
     ]
    },
    {
     "name": "stdout",
     "output_type": "stream",
     "text": [
      "Epoch 90, Loss 0.048\n",
      "Training Accuracy: 0.9527, Testing Accuracy: 0.9607\n",
      "\n"
     ]
    },
    {
     "name": "stdout",
     "output_type": "stream",
     "text": [
      "Epoch 100, Loss 0.0466\n",
      "Training Accuracy: 0.9533, Testing Accuracy: 0.9612\n",
      "\n"
     ]
    },
    {
     "name": "stdout",
     "output_type": "stream",
     "text": [
      "Epoch 110, Loss 0.0454\n",
      "Training Accuracy: 0.9538, Testing Accuracy: 0.9637\n",
      "\n"
     ]
    },
    {
     "name": "stdout",
     "output_type": "stream",
     "text": [
      "Epoch 120, Loss 0.0443\n",
      "Training Accuracy: 0.9548, Testing Accuracy: 0.9647\n",
      "\n"
     ]
    },
    {
     "name": "stdout",
     "output_type": "stream",
     "text": [
      "Epoch 130, Loss 0.0434\n",
      "Training Accuracy: 0.9559, Testing Accuracy: 0.9647\n",
      "\n"
     ]
    },
    {
     "name": "stdout",
     "output_type": "stream",
     "text": [
      "Epoch 140, Loss 0.0426\n",
      "Training Accuracy: 0.9566, Testing Accuracy: 0.9647\n",
      "\n"
     ]
    },
    {
     "name": "stdout",
     "output_type": "stream",
     "text": [
      "Epoch 150, Loss 0.0418\n",
      "Training Accuracy: 0.9574, Testing Accuracy: 0.9662\n",
      "\n"
     ]
    },
    {
     "name": "stdout",
     "output_type": "stream",
     "text": [
      "Epoch 160, Loss 0.0411\n",
      "Training Accuracy: 0.9574, Testing Accuracy: 0.9657\n",
      "\n"
     ]
    },
    {
     "name": "stdout",
     "output_type": "stream",
     "text": [
      "Epoch 170, Loss 0.0405\n",
      "Training Accuracy: 0.9578, Testing Accuracy: 0.9652\n",
      "\n"
     ]
    },
    {
     "name": "stdout",
     "output_type": "stream",
     "text": [
      "Epoch 180, Loss 0.0399\n",
      "Training Accuracy: 0.9580, Testing Accuracy: 0.9657\n",
      "\n"
     ]
    },
    {
     "name": "stdout",
     "output_type": "stream",
     "text": [
      "Epoch 190, Loss 0.0394\n",
      "Training Accuracy: 0.9583, Testing Accuracy: 0.9662\n",
      "\n"
     ]
    },
    {
     "name": "stdout",
     "output_type": "stream",
     "text": [
      "Epoch 200, Loss 0.0389\n",
      "Training Accuracy: 0.9589, Testing Accuracy: 0.9657\n",
      "\n"
     ]
    },
    {
     "name": "stdout",
     "output_type": "stream",
     "text": [
      "Epoch 210, Loss 0.0385\n",
      "Training Accuracy: 0.9591, Testing Accuracy: 0.9657\n",
      "\n"
     ]
    },
    {
     "name": "stdout",
     "output_type": "stream",
     "text": [
      "Epoch 220, Loss 0.0381\n",
      "Training Accuracy: 0.9594, Testing Accuracy: 0.9667\n",
      "\n"
     ]
    },
    {
     "name": "stdout",
     "output_type": "stream",
     "text": [
      "Epoch 230, Loss 0.0377\n",
      "Training Accuracy: 0.9597, Testing Accuracy: 0.9667\n",
      "\n"
     ]
    },
    {
     "name": "stdout",
     "output_type": "stream",
     "text": [
      "Epoch 240, Loss 0.0373\n",
      "Training Accuracy: 0.9596, Testing Accuracy: 0.9667\n",
      "\n"
     ]
    },
    {
     "data": {
      "text/plain": [
       "0.03267409930346185"
      ]
     },
     "execution_count": 23,
     "metadata": {},
     "output_type": "execute_result"
    }
   ],
   "source": [
    "lr_learner.train_loop(dl)"
   ]
  },
  {
   "cell_type": "code",
   "execution_count": 24,
   "id": "ca410940",
   "metadata": {
    "execution": {
     "iopub.execute_input": "2021-09-26T20:09:17.480006Z",
     "iopub.status.busy": "2021-09-26T20:09:17.479341Z",
     "iopub.status.idle": "2021-09-26T20:09:17.741402Z",
     "shell.execute_reply": "2021-09-26T20:09:17.740359Z"
    },
    "papermill": {
     "duration": 0.317167,
     "end_time": "2021-09-26T20:09:17.741575",
     "exception": false,
     "start_time": "2021-09-26T20:09:17.424408",
     "status": "completed"
    },
    "tags": []
   },
   "outputs": [
    {
     "data": {
      "text/plain": [
       "<matplotlib.legend.Legend at 0x7f1766b6a908>"
      ]
     },
     "execution_count": 24,
     "metadata": {},
     "output_type": "execute_result"
    },
    {
     "data": {
      "image/png": "[encoded data removed]",
      "text/plain": [
       "<Figure size 1080x720 with 1 Axes>"
      ]
     },
     "metadata": {
      "needs_background": "light"
     },
     "output_type": "display_data"
    }
   ],
   "source": [
    "#comparing the results of NN and LR\n",
    "plt.figure(figsize=(15,10))\n",
    "\n",
    "# Neural Network plots\n",
    "plt.plot(acc_nn.accuracies, 'r-', label = \"Training Accuracies - NN\")\n",
    "plt.plot(acc_nn.test_accuracies, 'g-', label = \"Testing Accuracies - NN\")\n",
    "\n",
    "# Logistic Regression plots\n",
    "plt.plot(acc_lr.accuracies, 'k-', label = \"Training Accuracies - LR\")\n",
    "plt.plot(acc_lr.test_accuracies, 'b-', label = \"Testing Accuracies - LR\")\n",
    "plt.legend()"
   ]
  },
  {
   "cell_type": "markdown",
   "id": "80dfb35c",
   "metadata": {
    "papermill": {
     "duration": 0.047492,
     "end_time": "2021-09-26T20:09:17.836866",
     "exception": false,
     "start_time": "2021-09-26T20:09:17.789374",
     "status": "completed"
    },
    "tags": []
   },
   "source": [
    "#### Plotting the outputs of this layer of the NN.\n"
   ]
  },
  {
   "cell_type": "code",
   "execution_count": 25,
   "id": "45eb2ff5",
   "metadata": {
    "execution": {
     "iopub.execute_input": "2021-09-26T20:09:17.939655Z",
     "iopub.status.busy": "2021-09-26T20:09:17.937784Z",
     "iopub.status.idle": "2021-09-26T20:09:17.959846Z",
     "shell.execute_reply": "2021-09-26T20:09:17.960379Z"
    },
    "papermill": {
     "duration": 0.076104,
     "end_time": "2021-09-26T20:09:17.960538",
     "exception": false,
     "start_time": "2021-09-26T20:09:17.884434",
     "status": "completed"
    },
    "tags": []
   },
   "outputs": [],
   "source": [
    "new_model = Model(layers[:-2])\n",
    "testing_plot = new_model(testing_data_x)"
   ]
  },
  {
   "cell_type": "code",
   "execution_count": 26,
   "id": "4c0a5485",
   "metadata": {
    "execution": {
     "iopub.execute_input": "2021-09-26T20:09:18.070961Z",
     "iopub.status.busy": "2021-09-26T20:09:18.070355Z",
     "iopub.status.idle": "2021-09-26T20:09:18.294660Z",
     "shell.execute_reply": "2021-09-26T20:09:18.295178Z"
    },
    "papermill": {
     "duration": 0.281921,
     "end_time": "2021-09-26T20:09:18.295334",
     "exception": false,
     "start_time": "2021-09-26T20:09:18.013413",
     "status": "completed"
    },
    "tags": []
   },
   "outputs": [
    {
     "data": {
      "text/plain": [
       "Text(0.5, 1.0, 'Outputs')"
      ]
     },
     "execution_count": 26,
     "metadata": {},
     "output_type": "execute_result"
    },
    {
     "data": {
      "image/png": "[encoded data removed]",
      "text/plain": [
       "<Figure size 576x504 with 1 Axes>"
      ]
     },
     "metadata": {
      "needs_background": "light"
     },
     "output_type": "display_data"
    }
   ],
   "source": [
    "# Plotting the scatter plot of points and color coding by class\n",
    "plt.figure(figsize=(8,7))\n",
    "plt.scatter(testing_plot[:,0], testing_plot[:,1], alpha = 0.1, c = y_test.ravel());\n",
    "plt.title('Outputs')"
   ]
  },
  {
   "cell_type": "markdown",
   "id": "a74fcf8f",
   "metadata": {
    "papermill": {
     "duration": 0.050049,
     "end_time": "2021-09-26T20:09:18.395828",
     "exception": false,
     "start_time": "2021-09-26T20:09:18.345779",
     "status": "completed"
    },
    "tags": []
   },
   "source": [
    "Probability contours"
   ]
  },
  {
   "cell_type": "code",
   "execution_count": 27,
   "id": "d0afc8e3",
   "metadata": {
    "execution": {
     "iopub.execute_input": "2021-09-26T20:09:18.503260Z",
     "iopub.status.busy": "2021-09-26T20:09:18.502580Z",
     "iopub.status.idle": "2021-09-26T20:09:18.513794Z",
     "shell.execute_reply": "2021-09-26T20:09:18.513256Z"
    },
    "papermill": {
     "duration": 0.06772,
     "end_time": "2021-09-26T20:09:18.513960",
     "exception": false,
     "start_time": "2021-09-26T20:09:18.446240",
     "status": "completed"
    },
    "tags": []
   },
   "outputs": [],
   "source": [
    "model_prob = Model(layers[-2:]) "
   ]
  },
  {
   "cell_type": "code",
   "execution_count": 28,
   "id": "9b96e238",
   "metadata": {
    "execution": {
     "iopub.execute_input": "2021-09-26T20:09:18.626722Z",
     "iopub.status.busy": "2021-09-26T20:09:18.626091Z",
     "iopub.status.idle": "2021-09-26T20:09:18.642389Z",
     "shell.execute_reply": "2021-09-26T20:09:18.642831Z"
    },
    "papermill": {
     "duration": 0.074993,
     "end_time": "2021-09-26T20:09:18.643055",
     "exception": false,
     "start_time": "2021-09-26T20:09:18.568062",
     "status": "completed"
    },
    "tags": []
   },
   "outputs": [],
   "source": [
    "#creating the x and y ranges according to the above generated plot.\n",
    "x_range = np.linspace(-4, 1, 100) \n",
    "y_range = np.linspace(-6, 6, 100) \n",
    "x_grid, y_grid = np.meshgrid(x_range, y_range) # x_grid and y_grig are of size 100 X 100\n",
    "\n",
    "# converting x_grid and y_grid to continuous arrays\n",
    "x_gridflat = np.ravel(x_grid)\n",
    "y_gridflat = np.ravel(y_grid)\n",
    "\n",
    "# The last layer of the current model takes two columns as input. Hence transpose of np.vstack() is required.\n",
    "X = np.vstack((x_gridflat, y_gridflat)).T\n",
    "\n",
    "prob_contour = model_prob(X).reshape(100,100) "
   ]
  },
  {
   "cell_type": "code",
   "execution_count": 29,
   "id": "da72499a",
   "metadata": {
    "execution": {
     "iopub.execute_input": "2021-09-26T20:09:18.830927Z",
     "iopub.status.busy": "2021-09-26T20:09:18.830264Z",
     "iopub.status.idle": "2021-09-26T20:09:19.128556Z",
     "shell.execute_reply": "2021-09-26T20:09:19.128081Z"
    },
    "papermill": {
     "duration": 0.37454,
     "end_time": "2021-09-26T20:09:19.128690",
     "exception": false,
     "start_time": "2021-09-26T20:09:18.754150",
     "status": "completed"
    },
    "tags": []
   },
   "outputs": [
    {
     "data": {
      "image/png": "[encoded data removed]",
      "text/plain": [
       "<Figure size 720x648 with 1 Axes>"
      ]
     },
     "metadata": {
      "needs_background": "light"
     },
     "output_type": "display_data"
    }
   ],
   "source": [
    "plt.figure(figsize=(10,9))\n",
    "plt.scatter(testing_plot[:,0], testing_plot[:,1], alpha = 0.1, c = y_test.ravel())\n",
    "contours = plt.contour(x_grid,y_grid,prob_contour)\n",
    "plt.title('Probability Contours')\n",
    "plt.clabel(contours, inline = True );"
   ]
  },
  {
   "cell_type": "code",
   "execution_count": null,
   "id": "e81b4ac7",
   "metadata": {
    "papermill": {
     "duration": 0.05354,
     "end_time": "2021-09-26T20:09:19.236258",
     "exception": false,
     "start_time": "2021-09-26T20:09:19.182718",
     "status": "completed"
    },
    "tags": []
   },
   "outputs": [],
   "source": []
  }
 ],
 "metadata": {
  "kernelspec": {
   "display_name": "Python 3",
   "language": "python",
   "name": "python3"
  },
  "language_info": {
   "codemirror_mode": {
    "name": "ipython",
    "version": 3
   },
   "file_extension": ".py",
   "mimetype": "text/x-python",
   "name": "python",
   "nbconvert_exporter": "python",
   "pygments_lexer": "ipython3",
   "version": "3.6.15"
  },
  "papermill": {
   "default_parameters": {},
   "duration": 116.198784,
   "end_time": "2021-09-26T20:09:19.700059",
   "environment_variables": {},
   "exception": null,
   "input_path": "2020-08-11-part2.ipynb",
   "output_path": "2020-08-11-part2.ipynb",
   "parameters": {},
   "start_time": "2021-09-26T20:07:23.501275",
   "version": "2.3.3"
  }
 },
 "nbformat": 4,
 "nbformat_minor": 5
}