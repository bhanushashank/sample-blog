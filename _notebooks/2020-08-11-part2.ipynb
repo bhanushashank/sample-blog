{
 "cells": [
  {
   "cell_type": "markdown",
   "id": "98380cd3",
   "metadata": {
    "papermill": {
     "duration": 0.034692,
     "end_time": "2022-07-10T10:10:03.908967",
     "exception": false,
     "start_time": "2022-07-10T10:10:03.874275",
     "status": "completed"
    },
    "tags": []
   },
   "source": [
    "# Distinguish Your Own Digits (DYOD)"
   ]
  },
  {
   "cell_type": "markdown",
   "id": "ef31240d",
   "metadata": {
    "papermill": {
     "duration": 0.032314,
     "end_time": "2022-07-10T10:10:03.967784",
     "exception": false,
     "start_time": "2022-07-10T10:10:03.935470",
     "status": "completed"
    },
    "tags": []
   },
   "source": [
    "You are going to write a classifier that distinguishes between the number 3 and number 8."
   ]
  },
  {
   "cell_type": "code",
   "execution_count": 1,
   "id": "b15c8646",
   "metadata": {
    "execution": {
     "iopub.execute_input": "2022-07-10T10:10:04.037976Z",
     "iopub.status.busy": "2022-07-10T10:10:04.036939Z",
     "iopub.status.idle": "2022-07-10T10:10:04.051066Z",
     "shell.execute_reply": "2022-07-10T10:10:04.049924Z"
    },
    "papermill": {
     "duration": 0.055173,
     "end_time": "2022-07-10T10:10:04.051215",
     "exception": false,
     "start_time": "2022-07-10T10:10:03.996042",
     "status": "completed"
    },
    "tags": []
   },
   "outputs": [],
   "source": [
    "%load_ext autoreload\n",
    "%autoreload 2"
   ]
  },
  {
   "cell_type": "code",
   "execution_count": 2,
   "id": "22ef38dc",
   "metadata": {
    "execution": {
     "iopub.execute_input": "2022-07-10T10:10:04.117018Z",
     "iopub.status.busy": "2022-07-10T10:10:04.116263Z",
     "iopub.status.idle": "2022-07-10T10:10:04.753576Z",
     "shell.execute_reply": "2022-07-10T10:10:04.752912Z"
    },
    "papermill": {
     "duration": 0.672634,
     "end_time": "2022-07-10T10:10:04.753747",
     "exception": false,
     "start_time": "2022-07-10T10:10:04.081113",
     "status": "completed"
    },
    "tags": []
   },
   "outputs": [],
   "source": [
    "%matplotlib inline\n",
    "import numpy as np\n",
    "import matplotlib.pyplot as plt\n",
    "import pandas as pd"
   ]
  },
  {
   "cell_type": "markdown",
   "id": "ba036198",
   "metadata": {
    "papermill": {
     "duration": 0.029532,
     "end_time": "2022-07-10T10:10:04.824762",
     "exception": false,
     "start_time": "2022-07-10T10:10:04.795230",
     "status": "completed"
    },
    "tags": []
   },
   "source": [
    "From the command line run `pip install mnist`. This is a library that will help you bring down the mnist dataset. If you run this from a notebook, you need to put  `!pip install mnist` in a cell by itself."
   ]
  },
  {
   "cell_type": "code",
   "execution_count": 3,
   "id": "bb6ad8a1",
   "metadata": {
    "execution": {
     "iopub.execute_input": "2022-07-10T10:10:04.884562Z",
     "iopub.status.busy": "2022-07-10T10:10:04.883907Z",
     "iopub.status.idle": "2022-07-10T10:10:06.839393Z",
     "shell.execute_reply": "2022-07-10T10:10:06.838730Z"
    },
    "papermill": {
     "duration": 1.98488,
     "end_time": "2022-07-10T10:10:06.839544",
     "exception": false,
     "start_time": "2022-07-10T10:10:04.854664",
     "status": "completed"
    },
    "tags": []
   },
   "outputs": [
    {
     "name": "stdout",
     "output_type": "stream",
     "text": [
      "Collecting mnist\r\n"
     ]
    },
    {
     "name": "stdout",
     "output_type": "stream",
     "text": [
      "  Downloading mnist-0.2.2-py2.py3-none-any.whl (3.5 kB)\r\n",
      "Requirement already satisfied: numpy in /opt/hostedtoolcache/Python/3.6.15/x64/lib/python3.6/site-packages (from mnist) (1.19.5)\r\n"
     ]
    },
    {
     "name": "stdout",
     "output_type": "stream",
     "text": [
      "Installing collected packages: mnist\r\n"
     ]
    },
    {
     "name": "stdout",
     "output_type": "stream",
     "text": [
      "Successfully installed mnist-0.2.2\r\n"
     ]
    }
   ],
   "source": [
    "!pip install mnist"
   ]
  },
  {
   "cell_type": "markdown",
   "id": "69df9c9a",
   "metadata": {
    "papermill": {
     "duration": 0.027755,
     "end_time": "2022-07-10T10:10:06.898336",
     "exception": false,
     "start_time": "2022-07-10T10:10:06.870581",
     "status": "completed"
    },
    "tags": []
   },
   "source": [
    "## Preparing the Data"
   ]
  },
  {
   "cell_type": "code",
   "execution_count": 4,
   "id": "7f69d806",
   "metadata": {
    "execution": {
     "iopub.execute_input": "2022-07-10T10:10:06.966984Z",
     "iopub.status.busy": "2022-07-10T10:10:06.959046Z",
     "iopub.status.idle": "2022-07-10T10:10:06.976758Z",
     "shell.execute_reply": "2022-07-10T10:10:06.976104Z"
    },
    "papermill": {
     "duration": 0.049782,
     "end_time": "2022-07-10T10:10:06.976878",
     "exception": false,
     "start_time": "2022-07-10T10:10:06.927096",
     "status": "completed"
    },
    "tags": []
   },
   "outputs": [],
   "source": [
    "import mnist"
   ]
  },
  {
   "cell_type": "code",
   "execution_count": 5,
   "id": "a411e44f",
   "metadata": {
    "execution": {
     "iopub.execute_input": "2022-07-10T10:10:07.042166Z",
     "iopub.status.busy": "2022-07-10T10:10:07.041504Z",
     "iopub.status.idle": "2022-07-10T10:10:07.633255Z",
     "shell.execute_reply": "2022-07-10T10:10:07.634101Z"
    },
    "papermill": {
     "duration": 0.630704,
     "end_time": "2022-07-10T10:10:07.634259",
     "exception": false,
     "start_time": "2022-07-10T10:10:07.003555",
     "status": "completed"
    },
    "tags": []
   },
   "outputs": [],
   "source": [
    "train_images = mnist.train_images()\n",
    "train_labels = mnist.train_labels()"
   ]
  },
  {
   "cell_type": "code",
   "execution_count": 6,
   "id": "dceab3a5",
   "metadata": {
    "execution": {
     "iopub.execute_input": "2022-07-10T10:10:07.704535Z",
     "iopub.status.busy": "2022-07-10T10:10:07.703780Z",
     "iopub.status.idle": "2022-07-10T10:10:07.720075Z",
     "shell.execute_reply": "2022-07-10T10:10:07.719527Z"
    },
    "papermill": {
     "duration": 0.053859,
     "end_time": "2022-07-10T10:10:07.720190",
     "exception": false,
     "start_time": "2022-07-10T10:10:07.666331",
     "status": "completed"
    },
    "tags": []
   },
   "outputs": [
    {
     "data": {
      "text/plain": [
       "((60000, 28, 28), (60000,))"
      ]
     },
     "execution_count": 6,
     "metadata": {},
     "output_type": "execute_result"
    }
   ],
   "source": [
    "train_images.shape, train_labels.shape"
   ]
  },
  {
   "cell_type": "code",
   "execution_count": 7,
   "id": "f50dc2bb",
   "metadata": {
    "execution": {
     "iopub.execute_input": "2022-07-10T10:10:07.795698Z",
     "iopub.status.busy": "2022-07-10T10:10:07.794955Z",
     "iopub.status.idle": "2022-07-10T10:10:07.990307Z",
     "shell.execute_reply": "2022-07-10T10:10:07.989514Z"
    },
    "papermill": {
     "duration": 0.234861,
     "end_time": "2022-07-10T10:10:07.990452",
     "exception": false,
     "start_time": "2022-07-10T10:10:07.755591",
     "status": "completed"
    },
    "tags": []
   },
   "outputs": [],
   "source": [
    "test_images = mnist.test_images()\n",
    "test_labels = mnist.test_labels()"
   ]
  },
  {
   "cell_type": "code",
   "execution_count": 8,
   "id": "fc38cf1b",
   "metadata": {
    "execution": {
     "iopub.execute_input": "2022-07-10T10:10:08.061210Z",
     "iopub.status.busy": "2022-07-10T10:10:08.060426Z",
     "iopub.status.idle": "2022-07-10T10:10:08.074450Z",
     "shell.execute_reply": "2022-07-10T10:10:08.073914Z"
    },
    "papermill": {
     "duration": 0.053011,
     "end_time": "2022-07-10T10:10:08.074563",
     "exception": false,
     "start_time": "2022-07-10T10:10:08.021552",
     "status": "completed"
    },
    "tags": []
   },
   "outputs": [
    {
     "data": {
      "text/plain": [
       "((10000, 28, 28), (10000,))"
      ]
     },
     "execution_count": 8,
     "metadata": {},
     "output_type": "execute_result"
    }
   ],
   "source": [
    "test_images.shape, test_labels.shape"
   ]
  },
  {
   "cell_type": "code",
   "execution_count": 9,
   "id": "f9ed8fe0",
   "metadata": {
    "execution": {
     "iopub.execute_input": "2022-07-10T10:10:08.138405Z",
     "iopub.status.busy": "2022-07-10T10:10:08.137767Z",
     "iopub.status.idle": "2022-07-10T10:10:08.314098Z",
     "shell.execute_reply": "2022-07-10T10:10:08.312907Z"
    },
    "papermill": {
     "duration": 0.20934,
     "end_time": "2022-07-10T10:10:08.314252",
     "exception": false,
     "start_time": "2022-07-10T10:10:08.104912",
     "status": "completed"
    },
    "tags": []
   },
   "outputs": [
    {
     "name": "stdout",
     "output_type": "stream",
     "text": [
      "2\n"
     ]
    },
    {
     "data": {
      "text/plain": [
       "<matplotlib.image.AxesImage at 0x7f18258714a8>"
      ]
     },
     "execution_count": 9,
     "metadata": {},
     "output_type": "execute_result"
    },
    {
     "data": {
      "image/png": "[encoded data removed]",
      "text/plain": [
       "<Figure size 432x288 with 1 Axes>"
      ]
     },
     "metadata": {
      "needs_background": "light"
     },
     "output_type": "display_data"
    }
   ],
   "source": [
    "image_index = 7776 # You may select anything up to 60,000\n",
    "print(train_labels[image_index]) \n",
    "plt.imshow(train_images[image_index], cmap='Greys')"
   ]
  },
  {
   "cell_type": "markdown",
   "id": "a8d2388d",
   "metadata": {
    "papermill": {
     "duration": 0.031119,
     "end_time": "2022-07-10T10:10:08.378538",
     "exception": false,
     "start_time": "2022-07-10T10:10:08.347419",
     "status": "completed"
    },
    "tags": []
   },
   "source": [
    "## Filter data to get 3 and 8 out"
   ]
  },
  {
   "cell_type": "code",
   "execution_count": 10,
   "id": "776f7fc7",
   "metadata": {
    "execution": {
     "iopub.execute_input": "2022-07-10T10:10:08.439657Z",
     "iopub.status.busy": "2022-07-10T10:10:08.437710Z",
     "iopub.status.idle": "2022-07-10T10:10:08.454444Z",
     "shell.execute_reply": "2022-07-10T10:10:08.455144Z"
    },
    "papermill": {
     "duration": 0.049468,
     "end_time": "2022-07-10T10:10:08.455306",
     "exception": false,
     "start_time": "2022-07-10T10:10:08.405838",
     "status": "completed"
    },
    "tags": []
   },
   "outputs": [],
   "source": [
    "train_filter = np.where((train_labels == 3 ) | (train_labels == 8))\n",
    "test_filter = np.where((test_labels == 3) | (test_labels == 8))\n",
    "X_train, y_train = train_images[train_filter], train_labels[train_filter]\n",
    "X_test, y_test = test_images[test_filter], test_labels[test_filter]"
   ]
  },
  {
   "cell_type": "markdown",
   "id": "948f0b7e",
   "metadata": {
    "papermill": {
     "duration": 0.033315,
     "end_time": "2022-07-10T10:10:08.516441",
     "exception": false,
     "start_time": "2022-07-10T10:10:08.483126",
     "status": "completed"
    },
    "tags": []
   },
   "source": [
    "We normalize the pizel values in the 0 to 1 range"
   ]
  },
  {
   "cell_type": "code",
   "execution_count": 11,
   "id": "ee4c2166",
   "metadata": {
    "execution": {
     "iopub.execute_input": "2022-07-10T10:10:08.580689Z",
     "iopub.status.busy": "2022-07-10T10:10:08.580019Z",
     "iopub.status.idle": "2022-07-10T10:10:08.633359Z",
     "shell.execute_reply": "2022-07-10T10:10:08.632809Z"
    },
    "papermill": {
     "duration": 0.089701,
     "end_time": "2022-07-10T10:10:08.633523",
     "exception": false,
     "start_time": "2022-07-10T10:10:08.543822",
     "status": "completed"
    },
    "tags": []
   },
   "outputs": [],
   "source": [
    "X_train = X_train/255.\n",
    "X_test = X_test/255."
   ]
  },
  {
   "cell_type": "markdown",
   "id": "ddcf4fab",
   "metadata": {
    "papermill": {
     "duration": 0.027675,
     "end_time": "2022-07-10T10:10:08.689670",
     "exception": false,
     "start_time": "2022-07-10T10:10:08.661995",
     "status": "completed"
    },
    "tags": []
   },
   "source": [
    "And setup the labels as 1 (when the digit is 3) and 0 (when the digit is 8)"
   ]
  },
  {
   "cell_type": "code",
   "execution_count": 12,
   "id": "7dc908f2",
   "metadata": {
    "execution": {
     "iopub.execute_input": "2022-07-10T10:10:08.750899Z",
     "iopub.status.busy": "2022-07-10T10:10:08.750076Z",
     "iopub.status.idle": "2022-07-10T10:10:08.763627Z",
     "shell.execute_reply": "2022-07-10T10:10:08.763147Z"
    },
    "papermill": {
     "duration": 0.043961,
     "end_time": "2022-07-10T10:10:08.763730",
     "exception": false,
     "start_time": "2022-07-10T10:10:08.719769",
     "status": "completed"
    },
    "tags": []
   },
   "outputs": [],
   "source": [
    "y_train = 1*(y_train==3)\n",
    "y_test = 1*(y_test==3)"
   ]
  },
  {
   "cell_type": "code",
   "execution_count": 13,
   "id": "01e4e969",
   "metadata": {
    "execution": {
     "iopub.execute_input": "2022-07-10T10:10:08.829889Z",
     "iopub.status.busy": "2022-07-10T10:10:08.829283Z",
     "iopub.status.idle": "2022-07-10T10:10:08.843126Z",
     "shell.execute_reply": "2022-07-10T10:10:08.843631Z"
    },
    "papermill": {
     "duration": 0.051258,
     "end_time": "2022-07-10T10:10:08.843758",
     "exception": false,
     "start_time": "2022-07-10T10:10:08.792500",
     "status": "completed"
    },
    "tags": []
   },
   "outputs": [
    {
     "data": {
      "text/plain": [
       "((11982, 28, 28), (1984, 28, 28))"
      ]
     },
     "execution_count": 13,
     "metadata": {},
     "output_type": "execute_result"
    }
   ],
   "source": [
    "X_train.shape, X_test.shape"
   ]
  },
  {
   "cell_type": "markdown",
   "id": "5ccf3f85",
   "metadata": {
    "papermill": {
     "duration": 0.039488,
     "end_time": "2022-07-10T10:10:08.912617",
     "exception": false,
     "start_time": "2022-07-10T10:10:08.873129",
     "status": "completed"
    },
    "tags": []
   },
   "source": [
    "We reshape the data to flatten the image pixels into a set of features or co-variates:"
   ]
  },
  {
   "cell_type": "code",
   "execution_count": 14,
   "id": "5286a4a3",
   "metadata": {
    "execution": {
     "iopub.execute_input": "2022-07-10T10:10:08.983749Z",
     "iopub.status.busy": "2022-07-10T10:10:08.983010Z",
     "iopub.status.idle": "2022-07-10T10:10:08.995964Z",
     "shell.execute_reply": "2022-07-10T10:10:08.996545Z"
    },
    "papermill": {
     "duration": 0.048794,
     "end_time": "2022-07-10T10:10:08.996663",
     "exception": false,
     "start_time": "2022-07-10T10:10:08.947869",
     "status": "completed"
    },
    "tags": []
   },
   "outputs": [
    {
     "data": {
      "text/plain": [
       "((11982, 784), (1984, 784))"
      ]
     },
     "execution_count": 14,
     "metadata": {},
     "output_type": "execute_result"
    }
   ],
   "source": [
    "X_train = X_train.reshape(X_train.shape[0], -1)\n",
    "X_test = X_test.reshape(X_test.shape[0], -1)\n",
    "X_train.shape, X_test.shape"
   ]
  },
  {
   "cell_type": "code",
   "execution_count": 15,
   "id": "73c5f88a",
   "metadata": {
    "execution": {
     "iopub.execute_input": "2022-07-10T10:10:09.069205Z",
     "iopub.status.busy": "2022-07-10T10:10:09.068277Z",
     "iopub.status.idle": "2022-07-10T10:10:09.090218Z",
     "shell.execute_reply": "2022-07-10T10:10:09.090794Z"
    },
    "papermill": {
     "duration": 0.064587,
     "end_time": "2022-07-10T10:10:09.090943",
     "exception": false,
     "start_time": "2022-07-10T10:10:09.026356",
     "status": "completed"
    },
    "tags": []
   },
   "outputs": [],
   "source": [
    "#Impoting functions from 'Kudzu'\n",
    "from kudzu.model import Model\n",
    "from kudzu.train import Learner\n",
    "from kudzu.optim import GD\n",
    "from kudzu.data import Data, Sampler,Dataloader\n",
    "\n",
    "from kudzu.callbacks import AccCallback\n",
    "from kudzu.callbacks import ClfCallback\n",
    "\n",
    "from kudzu.loss import MSE\n",
    "\n",
    "from kudzu.layer import Sigmoid,Relu\n",
    "from kudzu.layer import Affine"
   ]
  },
  {
   "cell_type": "markdown",
   "id": "bc01172a",
   "metadata": {
    "papermill": {
     "duration": 0.036477,
     "end_time": "2022-07-10T10:10:09.167128",
     "exception": false,
     "start_time": "2022-07-10T10:10:09.130651",
     "status": "completed"
    },
    "tags": []
   },
   "source": [
    "### Let us create a `Config` class, to store important parameters. \n",
    "This class essentially plays the role of a dictionary."
   ]
  },
  {
   "cell_type": "code",
   "execution_count": 16,
   "id": "978281aa",
   "metadata": {
    "execution": {
     "iopub.execute_input": "2022-07-10T10:10:09.241141Z",
     "iopub.status.busy": "2022-07-10T10:10:09.240275Z",
     "iopub.status.idle": "2022-07-10T10:10:09.253871Z",
     "shell.execute_reply": "2022-07-10T10:10:09.253388Z"
    },
    "papermill": {
     "duration": 0.051854,
     "end_time": "2022-07-10T10:10:09.254062",
     "exception": false,
     "start_time": "2022-07-10T10:10:09.202208",
     "status": "completed"
    },
    "tags": []
   },
   "outputs": [],
   "source": [
    "class Config:\n",
    "    pass\n",
    "config = Config()\n",
    "config.lr = 0.001\n",
    "config.num_epochs = 250\n",
    "config.bs = 50"
   ]
  },
  {
   "cell_type": "markdown",
   "id": "1385fa59",
   "metadata": {
    "papermill": {
     "duration": 0.031006,
     "end_time": "2022-07-10T10:10:09.315568",
     "exception": false,
     "start_time": "2022-07-10T10:10:09.284562",
     "status": "completed"
    },
    "tags": []
   },
   "source": [
    "### Running Models with the Training data\n",
    "Details about the network layers:\n",
    "- A first affine layer has 784 inputs and does 100 affine transforms. These are followed by a Relu\n",
    "- A second affine layer has 100 inputs from the 100 activations of the past layer, and does 100 affine transforms. These are followed by a Relu\n",
    "- A third affine layer has 100 activations and does 2 affine transformations to create an embedding for visualization. There is no non-linearity here.\n",
    "- A final \"logistic regression\" which has an affine transform from 2 inputs to 1 output, which is squeezed through a sigmoid.\n"
   ]
  },
  {
   "cell_type": "code",
   "execution_count": 17,
   "id": "2b9c66db",
   "metadata": {
    "execution": {
     "iopub.execute_input": "2022-07-10T10:10:09.381338Z",
     "iopub.status.busy": "2022-07-10T10:10:09.380651Z",
     "iopub.status.idle": "2022-07-10T10:10:09.392602Z",
     "shell.execute_reply": "2022-07-10T10:10:09.393139Z"
    },
    "papermill": {
     "duration": 0.048568,
     "end_time": "2022-07-10T10:10:09.393287",
     "exception": false,
     "start_time": "2022-07-10T10:10:09.344719",
     "status": "completed"
    },
    "tags": []
   },
   "outputs": [],
   "source": [
    "data = Data(X_train, y_train.reshape(-1,1))\n",
    "sampler = Sampler(data, config.bs, shuffle=True)\n",
    "\n",
    "dl = Dataloader(data, sampler)\n",
    "\n",
    "opt = GD(config.lr)\n",
    "loss = MSE()"
   ]
  },
  {
   "cell_type": "code",
   "execution_count": 18,
   "id": "b275e4c2",
   "metadata": {
    "execution": {
     "iopub.execute_input": "2022-07-10T10:10:09.461210Z",
     "iopub.status.busy": "2022-07-10T10:10:09.460421Z",
     "iopub.status.idle": "2022-07-10T10:10:09.472508Z",
     "shell.execute_reply": "2022-07-10T10:10:09.472031Z"
    },
    "papermill": {
     "duration": 0.046799,
     "end_time": "2022-07-10T10:10:09.472606",
     "exception": false,
     "start_time": "2022-07-10T10:10:09.425807",
     "status": "completed"
    },
    "tags": []
   },
   "outputs": [],
   "source": [
    "training_data_x = X_train\n",
    "testing_data_x = X_test\n",
    "training_data_y = y_train.reshape(-1,1)\n",
    "testing_data_y = y_test.reshape(-1,1)"
   ]
  },
  {
   "cell_type": "code",
   "execution_count": 19,
   "id": "76951160",
   "metadata": {
    "execution": {
     "iopub.execute_input": "2022-07-10T10:10:09.538138Z",
     "iopub.status.busy": "2022-07-10T10:10:09.537416Z",
     "iopub.status.idle": "2022-07-10T10:10:09.554815Z",
     "shell.execute_reply": "2022-07-10T10:10:09.555327Z"
    },
    "papermill": {
     "duration": 0.054244,
     "end_time": "2022-07-10T10:10:09.555439",
     "exception": false,
     "start_time": "2022-07-10T10:10:09.501195",
     "status": "completed"
    },
    "tags": []
   },
   "outputs": [
    {
     "name": "stdout",
     "output_type": "stream",
     "text": [
      "xavier\n",
      "xavier\n",
      "xavier\n",
      "xavier\n",
      "xavier\n"
     ]
    }
   ],
   "source": [
    "layers = [Affine(\"first\", 784, 100), Relu(\"first\"), Affine(\"second\", 100, 100), Relu(\"second\"), Affine(\"third\", 100, 2), Affine(\"last\", 2, 1), Sigmoid(\"last\")]\n",
    "model_nn = Model(layers)\n",
    "model_lr = Model([Affine(\"logits\", 784, 1), Sigmoid(\"sigmoid\")])"
   ]
  },
  {
   "cell_type": "code",
   "execution_count": 20,
   "id": "6eede77a",
   "metadata": {
    "execution": {
     "iopub.execute_input": "2022-07-10T10:10:09.620200Z",
     "iopub.status.busy": "2022-07-10T10:10:09.619599Z",
     "iopub.status.idle": "2022-07-10T10:10:09.635798Z",
     "shell.execute_reply": "2022-07-10T10:10:09.636543Z"
    },
    "papermill": {
     "duration": 0.05096,
     "end_time": "2022-07-10T10:10:09.636700",
     "exception": false,
     "start_time": "2022-07-10T10:10:09.585740",
     "status": "completed"
    },
    "tags": []
   },
   "outputs": [],
   "source": [
    "nn_learner = Learner(loss, model_nn, opt, config.num_epochs)\n",
    "acc_nn = ClfCallback(nn_learner, config.bs, training_data_x , testing_data_x, training_data_y, testing_data_y)\n",
    "nn_learner.set_callbacks([acc_nn])"
   ]
  },
  {
   "cell_type": "code",
   "execution_count": 21,
   "id": "877b6cc7",
   "metadata": {
    "execution": {
     "iopub.execute_input": "2022-07-10T10:10:09.710591Z",
     "iopub.status.busy": "2022-07-10T10:10:09.709821Z",
     "iopub.status.idle": "2022-07-10T10:10:09.722668Z",
     "shell.execute_reply": "2022-07-10T10:10:09.723334Z"
    },
    "papermill": {
     "duration": 0.056129,
     "end_time": "2022-07-10T10:10:09.723513",
     "exception": false,
     "start_time": "2022-07-10T10:10:09.667384",
     "status": "completed"
    },
    "tags": []
   },
   "outputs": [],
   "source": [
    "lr_learner = Learner(loss, model_lr, opt, config.num_epochs)\n",
    "acc_lr = ClfCallback(lr_learner, config.bs, training_data_x , testing_data_x, training_data_y, testing_data_y)\n",
    "lr_learner.set_callbacks([acc_lr])"
   ]
  },
  {
   "cell_type": "code",
   "execution_count": 22,
   "id": "d9b133c3",
   "metadata": {
    "execution": {
     "iopub.execute_input": "2022-07-10T10:10:09.794222Z",
     "iopub.status.busy": "2022-07-10T10:10:09.793558Z",
     "iopub.status.idle": "2022-07-10T10:12:29.134102Z",
     "shell.execute_reply": "2022-07-10T10:12:29.135058Z"
    },
    "papermill": {
     "duration": 139.37673,
     "end_time": "2022-07-10T10:12:29.135243",
     "exception": false,
     "start_time": "2022-07-10T10:10:09.758513",
     "status": "completed"
    },
    "tags": []
   },
   "outputs": [
    {
     "name": "stdout",
     "output_type": "stream",
     "text": [
      "Epoch 0, Loss 0.2633\n",
      "Training Accuracy: 0.5121, Testing Accuracy: 0.5106\n",
      "\n"
     ]
    },
    {
     "name": "stdout",
     "output_type": "stream",
     "text": [
      "Epoch 10, Loss 0.1256\n",
      "Training Accuracy: 0.9135, Testing Accuracy: 0.9194\n",
      "\n"
     ]
    },
    {
     "name": "stdout",
     "output_type": "stream",
     "text": [
      "Epoch 20, Loss 0.0652\n",
      "Training Accuracy: 0.9360, Testing Accuracy: 0.9441\n",
      "\n"
     ]
    },
    {
     "name": "stdout",
     "output_type": "stream",
     "text": [
      "Epoch 30, Loss 0.0486\n",
      "Training Accuracy: 0.9460, Testing Accuracy: 0.9556\n",
      "\n"
     ]
    },
    {
     "name": "stdout",
     "output_type": "stream",
     "text": [
      "Epoch 40, Loss 0.041\n",
      "Training Accuracy: 0.9543, Testing Accuracy: 0.9632\n",
      "\n"
     ]
    },
    {
     "name": "stdout",
     "output_type": "stream",
     "text": [
      "Epoch 50, Loss 0.0366\n",
      "Training Accuracy: 0.9590, Testing Accuracy: 0.9662\n",
      "\n"
     ]
    },
    {
     "name": "stdout",
     "output_type": "stream",
     "text": [
      "Epoch 60, Loss 0.0336\n",
      "Training Accuracy: 0.9619, Testing Accuracy: 0.9677\n",
      "\n"
     ]
    },
    {
     "name": "stdout",
     "output_type": "stream",
     "text": [
      "Epoch 70, Loss 0.0314\n",
      "Training Accuracy: 0.9640, Testing Accuracy: 0.9698\n",
      "\n"
     ]
    },
    {
     "name": "stdout",
     "output_type": "stream",
     "text": [
      "Epoch 80, Loss 0.0296\n",
      "Training Accuracy: 0.9674, Testing Accuracy: 0.9698\n",
      "\n"
     ]
    },
    {
     "name": "stdout",
     "output_type": "stream",
     "text": [
      "Epoch 90, Loss 0.0282\n",
      "Training Accuracy: 0.9689, Testing Accuracy: 0.9708\n",
      "\n"
     ]
    },
    {
     "name": "stdout",
     "output_type": "stream",
     "text": [
      "Epoch 100, Loss 0.0271\n",
      "Training Accuracy: 0.9703, Testing Accuracy: 0.9708\n",
      "\n"
     ]
    },
    {
     "name": "stdout",
     "output_type": "stream",
     "text": [
      "Epoch 110, Loss 0.0261\n",
      "Training Accuracy: 0.9713, Testing Accuracy: 0.9698\n",
      "\n"
     ]
    },
    {
     "name": "stdout",
     "output_type": "stream",
     "text": [
      "Epoch 120, Loss 0.0252\n",
      "Training Accuracy: 0.9716, Testing Accuracy: 0.9703\n",
      "\n"
     ]
    },
    {
     "name": "stdout",
     "output_type": "stream",
     "text": [
      "Epoch 130, Loss 0.0244\n",
      "Training Accuracy: 0.9728, Testing Accuracy: 0.9713\n",
      "\n"
     ]
    },
    {
     "name": "stdout",
     "output_type": "stream",
     "text": [
      "Epoch 140, Loss 0.0237\n",
      "Training Accuracy: 0.9740, Testing Accuracy: 0.9718\n",
      "\n"
     ]
    },
    {
     "name": "stdout",
     "output_type": "stream",
     "text": [
      "Epoch 150, Loss 0.023\n",
      "Training Accuracy: 0.9747, Testing Accuracy: 0.9718\n",
      "\n"
     ]
    },
    {
     "name": "stdout",
     "output_type": "stream",
     "text": [
      "Epoch 160, Loss 0.0224\n",
      "Training Accuracy: 0.9754, Testing Accuracy: 0.9728\n",
      "\n"
     ]
    },
    {
     "name": "stdout",
     "output_type": "stream",
     "text": [
      "Epoch 170, Loss 0.0218\n",
      "Training Accuracy: 0.9759, Testing Accuracy: 0.9733\n",
      "\n"
     ]
    },
    {
     "name": "stdout",
     "output_type": "stream",
     "text": [
      "Epoch 180, Loss 0.0213\n",
      "Training Accuracy: 0.9767, Testing Accuracy: 0.9733\n",
      "\n"
     ]
    },
    {
     "name": "stdout",
     "output_type": "stream",
     "text": [
      "Epoch 190, Loss 0.0208\n",
      "Training Accuracy: 0.9770, Testing Accuracy: 0.9733\n",
      "\n"
     ]
    },
    {
     "name": "stdout",
     "output_type": "stream",
     "text": [
      "Epoch 200, Loss 0.0203\n",
      "Training Accuracy: 0.9774, Testing Accuracy: 0.9733\n",
      "\n"
     ]
    },
    {
     "name": "stdout",
     "output_type": "stream",
     "text": [
      "Epoch 210, Loss 0.0198\n",
      "Training Accuracy: 0.9779, Testing Accuracy: 0.9738\n",
      "\n"
     ]
    },
    {
     "name": "stdout",
     "output_type": "stream",
     "text": [
      "Epoch 220, Loss 0.0194\n",
      "Training Accuracy: 0.9785, Testing Accuracy: 0.9738\n",
      "\n"
     ]
    },
    {
     "name": "stdout",
     "output_type": "stream",
     "text": [
      "Epoch 230, Loss 0.019\n",
      "Training Accuracy: 0.9789, Testing Accuracy: 0.9748\n",
      "\n"
     ]
    },
    {
     "name": "stdout",
     "output_type": "stream",
     "text": [
      "Epoch 240, Loss 0.0186\n",
      "Training Accuracy: 0.9795, Testing Accuracy: 0.9748\n",
      "\n"
     ]
    },
    {
     "data": {
      "text/plain": [
       "0.0007925313087488986"
      ]
     },
     "execution_count": 22,
     "metadata": {},
     "output_type": "execute_result"
    }
   ],
   "source": [
    "nn_learner.train_loop(dl)"
   ]
  },
  {
   "cell_type": "code",
   "execution_count": 23,
   "id": "e0163366",
   "metadata": {
    "execution": {
     "iopub.execute_input": "2022-07-10T10:12:29.232137Z",
     "iopub.status.busy": "2022-07-10T10:12:29.231148Z",
     "iopub.status.idle": "2022-07-10T10:12:49.811330Z",
     "shell.execute_reply": "2022-07-10T10:12:49.810737Z"
    },
    "papermill": {
     "duration": 20.634954,
     "end_time": "2022-07-10T10:12:49.811464",
     "exception": false,
     "start_time": "2022-07-10T10:12:29.176510",
     "status": "completed"
    },
    "tags": []
   },
   "outputs": [
    {
     "name": "stdout",
     "output_type": "stream",
     "text": [
      "Epoch 0, Loss 0.2286\n",
      "Training Accuracy: 0.7363, Testing Accuracy: 0.7389\n",
      "\n"
     ]
    },
    {
     "name": "stdout",
     "output_type": "stream",
     "text": [
      "Epoch 10, Loss 0.1021\n",
      "Training Accuracy: 0.9100, Testing Accuracy: 0.9234\n",
      "\n"
     ]
    },
    {
     "name": "stdout",
     "output_type": "stream",
     "text": [
      "Epoch 20, Loss 0.0792\n",
      "Training Accuracy: 0.9279, Testing Accuracy: 0.9410\n",
      "\n"
     ]
    },
    {
     "name": "stdout",
     "output_type": "stream",
     "text": [
      "Epoch 30, Loss 0.0686\n",
      "Training Accuracy: 0.9358, Testing Accuracy: 0.9476\n",
      "\n"
     ]
    },
    {
     "name": "stdout",
     "output_type": "stream",
     "text": [
      "Epoch 40, Loss 0.0621\n",
      "Training Accuracy: 0.9402, Testing Accuracy: 0.9516\n",
      "\n"
     ]
    },
    {
     "name": "stdout",
     "output_type": "stream",
     "text": [
      "Epoch 50, Loss 0.0576\n",
      "Training Accuracy: 0.9442, Testing Accuracy: 0.9561\n",
      "\n"
     ]
    },
    {
     "name": "stdout",
     "output_type": "stream",
     "text": [
      "Epoch 60, Loss 0.0543\n",
      "Training Accuracy: 0.9469, Testing Accuracy: 0.9582\n",
      "\n"
     ]
    },
    {
     "name": "stdout",
     "output_type": "stream",
     "text": [
      "Epoch 70, Loss 0.0517\n",
      "Training Accuracy: 0.9490, Testing Accuracy: 0.9612\n",
      "\n"
     ]
    },
    {
     "name": "stdout",
     "output_type": "stream",
     "text": [
      "Epoch 80, Loss 0.0496\n",
      "Training Accuracy: 0.9506, Testing Accuracy: 0.9617\n",
      "\n"
     ]
    },
    {
     "name": "stdout",
     "output_type": "stream",
     "text": [
      "Epoch 90, Loss 0.0479\n",
      "Training Accuracy: 0.9511, Testing Accuracy: 0.9632\n",
      "\n"
     ]
    },
    {
     "name": "stdout",
     "output_type": "stream",
     "text": [
      "Epoch 100, Loss 0.0465\n",
      "Training Accuracy: 0.9524, Testing Accuracy: 0.9647\n",
      "\n"
     ]
    },
    {
     "name": "stdout",
     "output_type": "stream",
     "text": [
      "Epoch 110, Loss 0.0452\n",
      "Training Accuracy: 0.9537, Testing Accuracy: 0.9652\n",
      "\n"
     ]
    },
    {
     "name": "stdout",
     "output_type": "stream",
     "text": [
      "Epoch 120, Loss 0.0441\n",
      "Training Accuracy: 0.9542, Testing Accuracy: 0.9657\n",
      "\n"
     ]
    },
    {
     "name": "stdout",
     "output_type": "stream",
     "text": [
      "Epoch 130, Loss 0.0432\n",
      "Training Accuracy: 0.9549, Testing Accuracy: 0.9652\n",
      "\n"
     ]
    },
    {
     "name": "stdout",
     "output_type": "stream",
     "text": [
      "Epoch 140, Loss 0.0423\n",
      "Training Accuracy: 0.9559, Testing Accuracy: 0.9662\n",
      "\n"
     ]
    },
    {
     "name": "stdout",
     "output_type": "stream",
     "text": [
      "Epoch 150, Loss 0.0416\n",
      "Training Accuracy: 0.9571, Testing Accuracy: 0.9667\n",
      "\n"
     ]
    },
    {
     "name": "stdout",
     "output_type": "stream",
     "text": [
      "Epoch 160, Loss 0.0409\n",
      "Training Accuracy: 0.9578, Testing Accuracy: 0.9677\n",
      "\n"
     ]
    },
    {
     "name": "stdout",
     "output_type": "stream",
     "text": [
      "Epoch 170, Loss 0.0403\n",
      "Training Accuracy: 0.9587, Testing Accuracy: 0.9688\n",
      "\n"
     ]
    },
    {
     "name": "stdout",
     "output_type": "stream",
     "text": [
      "Epoch 180, Loss 0.0397\n",
      "Training Accuracy: 0.9590, Testing Accuracy: 0.9688\n",
      "\n"
     ]
    },
    {
     "name": "stdout",
     "output_type": "stream",
     "text": [
      "Epoch 190, Loss 0.0392\n",
      "Training Accuracy: 0.9599, Testing Accuracy: 0.9682\n",
      "\n"
     ]
    },
    {
     "name": "stdout",
     "output_type": "stream",
     "text": [
      "Epoch 200, Loss 0.0387\n",
      "Training Accuracy: 0.9601, Testing Accuracy: 0.9677\n",
      "\n"
     ]
    },
    {
     "name": "stdout",
     "output_type": "stream",
     "text": [
      "Epoch 210, Loss 0.0382\n",
      "Training Accuracy: 0.9605, Testing Accuracy: 0.9682\n",
      "\n"
     ]
    },
    {
     "name": "stdout",
     "output_type": "stream",
     "text": [
      "Epoch 220, Loss 0.0378\n",
      "Training Accuracy: 0.9607, Testing Accuracy: 0.9677\n",
      "\n"
     ]
    },
    {
     "name": "stdout",
     "output_type": "stream",
     "text": [
      "Epoch 230, Loss 0.0374\n",
      "Training Accuracy: 0.9612, Testing Accuracy: 0.9682\n",
      "\n"
     ]
    },
    {
     "name": "stdout",
     "output_type": "stream",
     "text": [
      "Epoch 240, Loss 0.037\n",
      "Training Accuracy: 0.9614, Testing Accuracy: 0.9693\n",
      "\n"
     ]
    },
    {
     "data": {
      "text/plain": [
       "0.05927884179333939"
      ]
     },
     "execution_count": 23,
     "metadata": {},
     "output_type": "execute_result"
    }
   ],
   "source": [
    "lr_learner.train_loop(dl)"
   ]
  },
  {
   "cell_type": "code",
   "execution_count": 24,
   "id": "ca410940",
   "metadata": {
    "execution": {
     "iopub.execute_input": "2022-07-10T10:12:49.914456Z",
     "iopub.status.busy": "2022-07-10T10:12:49.913662Z",
     "iopub.status.idle": "2022-07-10T10:12:50.204020Z",
     "shell.execute_reply": "2022-07-10T10:12:50.202885Z"
    },
    "papermill": {
     "duration": 0.345737,
     "end_time": "2022-07-10T10:12:50.204147",
     "exception": false,
     "start_time": "2022-07-10T10:12:49.858410",
     "status": "completed"
    },
    "tags": []
   },
   "outputs": [
    {
     "data": {
      "text/plain": [
       "<matplotlib.legend.Legend at 0x7f1818c21b70>"
      ]
     },
     "execution_count": 24,
     "metadata": {},
     "output_type": "execute_result"
    },
    {
     "data": {
      "image/png": "[encoded data removed]",
      "text/plain": [
       "<Figure size 1080x720 with 1 Axes>"
      ]
     },
     "metadata": {
      "needs_background": "light"
     },
     "output_type": "display_data"
    }
   ],
   "source": [
    "#comparing the results of NN and LR\n",
    "plt.figure(figsize=(15,10))\n",
    "\n",
    "# Neural Network plots\n",
    "plt.plot(acc_nn.accuracies, 'r-', label = \"Training Accuracies - NN\")\n",
    "plt.plot(acc_nn.test_accuracies, 'g-', label = \"Testing Accuracies - NN\")\n",
    "\n",
    "# Logistic Regression plots\n",
    "plt.plot(acc_lr.accuracies, 'k-', label = \"Training Accuracies - LR\")\n",
    "plt.plot(acc_lr.test_accuracies, 'b-', label = \"Testing Accuracies - LR\")\n",
    "plt.legend()"
   ]
  },
  {
   "cell_type": "markdown",
   "id": "80dfb35c",
   "metadata": {
    "papermill": {
     "duration": 0.050668,
     "end_time": "2022-07-10T10:12:50.312403",
     "exception": false,
     "start_time": "2022-07-10T10:12:50.261735",
     "status": "completed"
    },
    "tags": []
   },
   "source": [
    "#### Plotting the outputs of this layer of the NN.\n"
   ]
  },
  {
   "cell_type": "code",
   "execution_count": 25,
   "id": "45eb2ff5",
   "metadata": {
    "execution": {
     "iopub.execute_input": "2022-07-10T10:12:50.432332Z",
     "iopub.status.busy": "2022-07-10T10:12:50.431607Z",
     "iopub.status.idle": "2022-07-10T10:12:50.456715Z",
     "shell.execute_reply": "2022-07-10T10:12:50.457186Z"
    },
    "papermill": {
     "duration": 0.091163,
     "end_time": "2022-07-10T10:12:50.457321",
     "exception": false,
     "start_time": "2022-07-10T10:12:50.366158",
     "status": "completed"
    },
    "tags": []
   },
   "outputs": [],
   "source": [
    "new_model = Model(layers[:-2])\n",
    "testing_plot = new_model(testing_data_x)"
   ]
  },
  {
   "cell_type": "code",
   "execution_count": 26,
   "id": "4c0a5485",
   "metadata": {
    "execution": {
     "iopub.execute_input": "2022-07-10T10:12:50.570584Z",
     "iopub.status.busy": "2022-07-10T10:12:50.568289Z",
     "iopub.status.idle": "2022-07-10T10:12:50.820825Z",
     "shell.execute_reply": "2022-07-10T10:12:50.821417Z"
    },
    "papermill": {
     "duration": 0.311877,
     "end_time": "2022-07-10T10:12:50.821589",
     "exception": false,
     "start_time": "2022-07-10T10:12:50.509712",
     "status": "completed"
    },
    "tags": []
   },
   "outputs": [
    {
     "data": {
      "text/plain": [
       "Text(0.5, 1.0, 'Outputs')"
      ]
     },
     "execution_count": 26,
     "metadata": {},
     "output_type": "execute_result"
    },
    {
     "data": {
      "image/png": "[encoded data removed]",
      "text/plain": [
       "<Figure size 576x504 with 1 Axes>"
      ]
     },
     "metadata": {
      "needs_background": "light"
     },
     "output_type": "display_data"
    }
   ],
   "source": [
    "# Plotting the scatter plot of points and color coding by class\n",
    "plt.figure(figsize=(8,7))\n",
    "plt.scatter(testing_plot[:,0], testing_plot[:,1], alpha = 0.1, c = y_test.ravel());\n",
    "plt.title('Outputs')"
   ]
  },
  {
   "cell_type": "markdown",
   "id": "a74fcf8f",
   "metadata": {
    "papermill": {
     "duration": 0.069727,
     "end_time": "2022-07-10T10:12:50.943294",
     "exception": false,
     "start_time": "2022-07-10T10:12:50.873567",
     "status": "completed"
    },
    "tags": []
   },
   "source": [
    "Probability contours"
   ]
  },
  {
   "cell_type": "code",
   "execution_count": 27,
   "id": "d0afc8e3",
   "metadata": {
    "execution": {
     "iopub.execute_input": "2022-07-10T10:12:51.047498Z",
     "iopub.status.busy": "2022-07-10T10:12:51.046895Z",
     "iopub.status.idle": "2022-07-10T10:12:51.059929Z",
     "shell.execute_reply": "2022-07-10T10:12:51.059045Z"
    },
    "papermill": {
     "duration": 0.066037,
     "end_time": "2022-07-10T10:12:51.060052",
     "exception": false,
     "start_time": "2022-07-10T10:12:50.994015",
     "status": "completed"
    },
    "tags": []
   },
   "outputs": [],
   "source": [
    "model_prob = Model(layers[-2:]) "
   ]
  },
  {
   "cell_type": "code",
   "execution_count": 28,
   "id": "9b96e238",
   "metadata": {
    "execution": {
     "iopub.execute_input": "2022-07-10T10:12:51.166142Z",
     "iopub.status.busy": "2022-07-10T10:12:51.165427Z",
     "iopub.status.idle": "2022-07-10T10:12:51.178660Z",
     "shell.execute_reply": "2022-07-10T10:12:51.179158Z"
    },
    "papermill": {
     "duration": 0.072599,
     "end_time": "2022-07-10T10:12:51.179283",
     "exception": false,
     "start_time": "2022-07-10T10:12:51.106684",
     "status": "completed"
    },
    "tags": []
   },
   "outputs": [],
   "source": [
    "#creating the x and y ranges according to the above generated plot.\n",
    "x_range = np.linspace(-4, 1, 100) \n",
    "y_range = np.linspace(-6, 6, 100) \n",
    "x_grid, y_grid = np.meshgrid(x_range, y_range) # x_grid and y_grig are of size 100 X 100\n",
    "\n",
    "# converting x_grid and y_grid to continuous arrays\n",
    "x_gridflat = np.ravel(x_grid)\n",
    "y_gridflat = np.ravel(y_grid)\n",
    "\n",
    "# The last layer of the current model takes two columns as input. Hence transpose of np.vstack() is required.\n",
    "X = np.vstack((x_gridflat, y_gridflat)).T\n",
    "\n",
    "prob_contour = model_prob(X).reshape(100,100) "
   ]
  },
  {
   "cell_type": "code",
   "execution_count": 29,
   "id": "da72499a",
   "metadata": {
    "execution": {
     "iopub.execute_input": "2022-07-10T10:12:51.283662Z",
     "iopub.status.busy": "2022-07-10T10:12:51.283054Z",
     "iopub.status.idle": "2022-07-10T10:12:51.561326Z",
     "shell.execute_reply": "2022-07-10T10:12:51.560818Z"
    },
    "papermill": {
     "duration": 0.333339,
     "end_time": "2022-07-10T10:12:51.561526",
     "exception": false,
     "start_time": "2022-07-10T10:12:51.228187",
     "status": "completed"
    },
    "tags": []
   },
   "outputs": [
    {
     "data": {
      "image/png": "[encoded data removed]",
      "text/plain": [
       "<Figure size 720x648 with 1 Axes>"
      ]
     },
     "metadata": {
      "needs_background": "light"
     },
     "output_type": "display_data"
    }
   ],
   "source": [
    "plt.figure(figsize=(10,9))\n",
    "plt.scatter(testing_plot[:,0], testing_plot[:,1], alpha = 0.1, c = y_test.ravel())\n",
    "contours = plt.contour(x_grid,y_grid,prob_contour)\n",
    "plt.title('Probability Contours')\n",
    "plt.clabel(contours, inline = True );"
   ]
  },
  {
   "cell_type": "code",
   "execution_count": null,
   "id": "e81b4ac7",
   "metadata": {
    "papermill": {
     "duration": 0.04585,
     "end_time": "2022-07-10T10:12:51.653486",
     "exception": false,
     "start_time": "2022-07-10T10:12:51.607636",
     "status": "completed"
    },
    "tags": []
   },
   "outputs": [],
   "source": []
  }
 ],
 "metadata": {
  "kernelspec": {
   "display_name": "Python 3",
   "language": "python",
   "name": "python3"
  },
  "language_info": {
   "codemirror_mode": {
    "name": "ipython",
    "version": 3
   },
   "file_extension": ".py",
   "mimetype": "text/x-python",
   "name": "python",
   "nbconvert_exporter": "python",
   "pygments_lexer": "ipython3",
   "version": "3.6.15"
  },
  "papermill": {
   "default_parameters": {},
   "duration": 169.539835,
   "end_time": "2022-07-10T10:12:52.119393",
   "environment_variables": {},
   "exception": null,
   "input_path": "2020-08-11-part2.ipynb",
   "output_path": "2020-08-11-part2.ipynb",
   "parameters": {},
   "start_time": "2022-07-10T10:10:02.579558",
   "version": "2.3.3"
  }
 },
 "nbformat": 4,
 "nbformat_minor": 5
}