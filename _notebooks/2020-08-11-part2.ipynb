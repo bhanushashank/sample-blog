{
 "cells": [
  {
   "cell_type": "markdown",
   "id": "98380cd3",
   "metadata": {
    "papermill": {
     "duration": 0.041835,
     "end_time": "2022-06-30T20:10:37.740083",
     "exception": false,
     "start_time": "2022-06-30T20:10:37.698248",
     "status": "completed"
    },
    "tags": []
   },
   "source": [
    "# Distinguish Your Own Digits (DYOD)"
   ]
  },
  {
   "cell_type": "markdown",
   "id": "ef31240d",
   "metadata": {
    "papermill": {
     "duration": 0.039513,
     "end_time": "2022-06-30T20:10:37.814999",
     "exception": false,
     "start_time": "2022-06-30T20:10:37.775486",
     "status": "completed"
    },
    "tags": []
   },
   "source": [
    "You are going to write a classifier that distinguishes between the number 3 and number 8."
   ]
  },
  {
   "cell_type": "code",
   "execution_count": 1,
   "id": "b15c8646",
   "metadata": {
    "execution": {
     "iopub.execute_input": "2022-06-30T20:10:37.894620Z",
     "iopub.status.busy": "2022-06-30T20:10:37.893812Z",
     "iopub.status.idle": "2022-06-30T20:10:37.906872Z",
     "shell.execute_reply": "2022-06-30T20:10:37.905987Z"
    },
    "papermill": {
     "duration": 0.057408,
     "end_time": "2022-06-30T20:10:37.907039",
     "exception": false,
     "start_time": "2022-06-30T20:10:37.849631",
     "status": "completed"
    },
    "tags": []
   },
   "outputs": [],
   "source": [
    "%load_ext autoreload\n",
    "%autoreload 2"
   ]
  },
  {
   "cell_type": "code",
   "execution_count": 2,
   "id": "22ef38dc",
   "metadata": {
    "execution": {
     "iopub.execute_input": "2022-06-30T20:10:37.979676Z",
     "iopub.status.busy": "2022-06-30T20:10:37.978732Z",
     "iopub.status.idle": "2022-06-30T20:10:38.720980Z",
     "shell.execute_reply": "2022-06-30T20:10:38.719816Z"
    },
    "papermill": {
     "duration": 0.780677,
     "end_time": "2022-06-30T20:10:38.721151",
     "exception": false,
     "start_time": "2022-06-30T20:10:37.940474",
     "status": "completed"
    },
    "tags": []
   },
   "outputs": [],
   "source": [
    "%matplotlib inline\n",
    "import numpy as np\n",
    "import matplotlib.pyplot as plt\n",
    "import pandas as pd"
   ]
  },
  {
   "cell_type": "markdown",
   "id": "ba036198",
   "metadata": {
    "papermill": {
     "duration": 0.03366,
     "end_time": "2022-06-30T20:10:38.786201",
     "exception": false,
     "start_time": "2022-06-30T20:10:38.752541",
     "status": "completed"
    },
    "tags": []
   },
   "source": [
    "From the command line run `pip install mnist`. This is a library that will help you bring down the mnist dataset. If you run this from a notebook, you need to put  `!pip install mnist` in a cell by itself."
   ]
  },
  {
   "cell_type": "code",
   "execution_count": 3,
   "id": "bb6ad8a1",
   "metadata": {
    "execution": {
     "iopub.execute_input": "2022-06-30T20:10:38.866544Z",
     "iopub.status.busy": "2022-06-30T20:10:38.865618Z",
     "iopub.status.idle": "2022-06-30T20:10:41.306123Z",
     "shell.execute_reply": "2022-06-30T20:10:41.305419Z"
    },
    "papermill": {
     "duration": 2.487063,
     "end_time": "2022-06-30T20:10:41.306304",
     "exception": false,
     "start_time": "2022-06-30T20:10:38.819241",
     "status": "completed"
    },
    "tags": []
   },
   "outputs": [
    {
     "name": "stdout",
     "output_type": "stream",
     "text": [
      "Collecting mnist\r\n"
     ]
    },
    {
     "name": "stdout",
     "output_type": "stream",
     "text": [
      "  Downloading mnist-0.2.2-py2.py3-none-any.whl (3.5 kB)\r\n",
      "Requirement already satisfied: numpy in /opt/hostedtoolcache/Python/3.6.15/x64/lib/python3.6/site-packages (from mnist) (1.19.5)\r\n"
     ]
    },
    {
     "name": "stdout",
     "output_type": "stream",
     "text": [
      "Installing collected packages: mnist\r\n"
     ]
    },
    {
     "name": "stdout",
     "output_type": "stream",
     "text": [
      "Successfully installed mnist-0.2.2\r\n"
     ]
    }
   ],
   "source": [
    "!pip install mnist"
   ]
  },
  {
   "cell_type": "markdown",
   "id": "69df9c9a",
   "metadata": {
    "papermill": {
     "duration": 0.039735,
     "end_time": "2022-06-30T20:10:41.391156",
     "exception": false,
     "start_time": "2022-06-30T20:10:41.351421",
     "status": "completed"
    },
    "tags": []
   },
   "source": [
    "## Preparing the Data"
   ]
  },
  {
   "cell_type": "code",
   "execution_count": 4,
   "id": "7f69d806",
   "metadata": {
    "execution": {
     "iopub.execute_input": "2022-06-30T20:10:41.474533Z",
     "iopub.status.busy": "2022-06-30T20:10:41.468444Z",
     "iopub.status.idle": "2022-06-30T20:10:41.493235Z",
     "shell.execute_reply": "2022-06-30T20:10:41.490429Z"
    },
    "papermill": {
     "duration": 0.067311,
     "end_time": "2022-06-30T20:10:41.493420",
     "exception": false,
     "start_time": "2022-06-30T20:10:41.426109",
     "status": "completed"
    },
    "tags": []
   },
   "outputs": [],
   "source": [
    "import mnist"
   ]
  },
  {
   "cell_type": "code",
   "execution_count": 5,
   "id": "a411e44f",
   "metadata": {
    "execution": {
     "iopub.execute_input": "2022-06-30T20:10:41.568709Z",
     "iopub.status.busy": "2022-06-30T20:10:41.567899Z",
     "iopub.status.idle": "2022-06-30T20:10:42.305538Z",
     "shell.execute_reply": "2022-06-30T20:10:42.304787Z"
    },
    "papermill": {
     "duration": 0.77597,
     "end_time": "2022-06-30T20:10:42.305961",
     "exception": false,
     "start_time": "2022-06-30T20:10:41.529991",
     "status": "completed"
    },
    "tags": []
   },
   "outputs": [],
   "source": [
    "train_images = mnist.train_images()\n",
    "train_labels = mnist.train_labels()"
   ]
  },
  {
   "cell_type": "code",
   "execution_count": 6,
   "id": "dceab3a5",
   "metadata": {
    "execution": {
     "iopub.execute_input": "2022-06-30T20:10:42.394383Z",
     "iopub.status.busy": "2022-06-30T20:10:42.393503Z",
     "iopub.status.idle": "2022-06-30T20:10:42.416345Z",
     "shell.execute_reply": "2022-06-30T20:10:42.415576Z"
    },
    "papermill": {
     "duration": 0.064924,
     "end_time": "2022-06-30T20:10:42.416496",
     "exception": false,
     "start_time": "2022-06-30T20:10:42.351572",
     "status": "completed"
    },
    "tags": []
   },
   "outputs": [
    {
     "data": {
      "text/plain": [
       "((60000, 28, 28), (60000,))"
      ]
     },
     "execution_count": 6,
     "metadata": {},
     "output_type": "execute_result"
    }
   ],
   "source": [
    "train_images.shape, train_labels.shape"
   ]
  },
  {
   "cell_type": "code",
   "execution_count": 7,
   "id": "f50dc2bb",
   "metadata": {
    "execution": {
     "iopub.execute_input": "2022-06-30T20:10:42.492654Z",
     "iopub.status.busy": "2022-06-30T20:10:42.491745Z",
     "iopub.status.idle": "2022-06-30T20:10:42.735101Z",
     "shell.execute_reply": "2022-06-30T20:10:42.734362Z"
    },
    "papermill": {
     "duration": 0.284385,
     "end_time": "2022-06-30T20:10:42.735264",
     "exception": false,
     "start_time": "2022-06-30T20:10:42.450879",
     "status": "completed"
    },
    "tags": []
   },
   "outputs": [],
   "source": [
    "test_images = mnist.test_images()\n",
    "test_labels = mnist.test_labels()"
   ]
  },
  {
   "cell_type": "code",
   "execution_count": 8,
   "id": "fc38cf1b",
   "metadata": {
    "execution": {
     "iopub.execute_input": "2022-06-30T20:10:42.813400Z",
     "iopub.status.busy": "2022-06-30T20:10:42.812549Z",
     "iopub.status.idle": "2022-06-30T20:10:42.830293Z",
     "shell.execute_reply": "2022-06-30T20:10:42.829604Z"
    },
    "papermill": {
     "duration": 0.056911,
     "end_time": "2022-06-30T20:10:42.830444",
     "exception": false,
     "start_time": "2022-06-30T20:10:42.773533",
     "status": "completed"
    },
    "tags": []
   },
   "outputs": [
    {
     "data": {
      "text/plain": [
       "((10000, 28, 28), (10000,))"
      ]
     },
     "execution_count": 8,
     "metadata": {},
     "output_type": "execute_result"
    }
   ],
   "source": [
    "test_images.shape, test_labels.shape"
   ]
  },
  {
   "cell_type": "code",
   "execution_count": 9,
   "id": "f9ed8fe0",
   "metadata": {
    "execution": {
     "iopub.execute_input": "2022-06-30T20:10:42.912378Z",
     "iopub.status.busy": "2022-06-30T20:10:42.911322Z",
     "iopub.status.idle": "2022-06-30T20:10:43.122796Z",
     "shell.execute_reply": "2022-06-30T20:10:43.123401Z"
    },
    "papermill": {
     "duration": 0.253913,
     "end_time": "2022-06-30T20:10:43.123578",
     "exception": false,
     "start_time": "2022-06-30T20:10:42.869665",
     "status": "completed"
    },
    "tags": []
   },
   "outputs": [
    {
     "name": "stdout",
     "output_type": "stream",
     "text": [
      "2\n"
     ]
    },
    {
     "data": {
      "text/plain": [
       "<matplotlib.image.AxesImage at 0x7f94db8094a8>"
      ]
     },
     "execution_count": 9,
     "metadata": {},
     "output_type": "execute_result"
    },
    {
     "data": {
      "image/png": "[encoded data removed]",
      "text/plain": [
       "<Figure size 432x288 with 1 Axes>"
      ]
     },
     "metadata": {
      "needs_background": "light"
     },
     "output_type": "display_data"
    }
   ],
   "source": [
    "image_index = 7776 # You may select anything up to 60,000\n",
    "print(train_labels[image_index]) \n",
    "plt.imshow(train_images[image_index], cmap='Greys')"
   ]
  },
  {
   "cell_type": "markdown",
   "id": "a8d2388d",
   "metadata": {
    "papermill": {
     "duration": 0.040487,
     "end_time": "2022-06-30T20:10:43.199457",
     "exception": false,
     "start_time": "2022-06-30T20:10:43.158970",
     "status": "completed"
    },
    "tags": []
   },
   "source": [
    "## Filter data to get 3 and 8 out"
   ]
  },
  {
   "cell_type": "code",
   "execution_count": 10,
   "id": "776f7fc7",
   "metadata": {
    "execution": {
     "iopub.execute_input": "2022-06-30T20:10:43.287151Z",
     "iopub.status.busy": "2022-06-30T20:10:43.286110Z",
     "iopub.status.idle": "2022-06-30T20:10:43.298061Z",
     "shell.execute_reply": "2022-06-30T20:10:43.297250Z"
    },
    "papermill": {
     "duration": 0.062833,
     "end_time": "2022-06-30T20:10:43.298225",
     "exception": false,
     "start_time": "2022-06-30T20:10:43.235392",
     "status": "completed"
    },
    "tags": []
   },
   "outputs": [],
   "source": [
    "train_filter = np.where((train_labels == 3 ) | (train_labels == 8))\n",
    "test_filter = np.where((test_labels == 3) | (test_labels == 8))\n",
    "X_train, y_train = train_images[train_filter], train_labels[train_filter]\n",
    "X_test, y_test = test_images[test_filter], test_labels[test_filter]"
   ]
  },
  {
   "cell_type": "markdown",
   "id": "948f0b7e",
   "metadata": {
    "papermill": {
     "duration": 0.043755,
     "end_time": "2022-06-30T20:10:43.389640",
     "exception": false,
     "start_time": "2022-06-30T20:10:43.345885",
     "status": "completed"
    },
    "tags": []
   },
   "source": [
    "We normalize the pizel values in the 0 to 1 range"
   ]
  },
  {
   "cell_type": "code",
   "execution_count": 11,
   "id": "ee4c2166",
   "metadata": {
    "execution": {
     "iopub.execute_input": "2022-06-30T20:10:43.466986Z",
     "iopub.status.busy": "2022-06-30T20:10:43.466220Z",
     "iopub.status.idle": "2022-06-30T20:10:43.535075Z",
     "shell.execute_reply": "2022-06-30T20:10:43.534385Z"
    },
    "papermill": {
     "duration": 0.108636,
     "end_time": "2022-06-30T20:10:43.535212",
     "exception": false,
     "start_time": "2022-06-30T20:10:43.426576",
     "status": "completed"
    },
    "tags": []
   },
   "outputs": [],
   "source": [
    "X_train = X_train/255.\n",
    "X_test = X_test/255."
   ]
  },
  {
   "cell_type": "markdown",
   "id": "ddcf4fab",
   "metadata": {
    "papermill": {
     "duration": 0.036236,
     "end_time": "2022-06-30T20:10:43.607031",
     "exception": false,
     "start_time": "2022-06-30T20:10:43.570795",
     "status": "completed"
    },
    "tags": []
   },
   "source": [
    "And setup the labels as 1 (when the digit is 3) and 0 (when the digit is 8)"
   ]
  },
  {
   "cell_type": "code",
   "execution_count": 12,
   "id": "7dc908f2",
   "metadata": {
    "execution": {
     "iopub.execute_input": "2022-06-30T20:10:43.685051Z",
     "iopub.status.busy": "2022-06-30T20:10:43.684237Z",
     "iopub.status.idle": "2022-06-30T20:10:43.702448Z",
     "shell.execute_reply": "2022-06-30T20:10:43.701397Z"
    },
    "papermill": {
     "duration": 0.058851,
     "end_time": "2022-06-30T20:10:43.702618",
     "exception": false,
     "start_time": "2022-06-30T20:10:43.643767",
     "status": "completed"
    },
    "tags": []
   },
   "outputs": [],
   "source": [
    "y_train = 1*(y_train==3)\n",
    "y_test = 1*(y_test==3)"
   ]
  },
  {
   "cell_type": "code",
   "execution_count": 13,
   "id": "01e4e969",
   "metadata": {
    "execution": {
     "iopub.execute_input": "2022-06-30T20:10:43.794320Z",
     "iopub.status.busy": "2022-06-30T20:10:43.792771Z",
     "iopub.status.idle": "2022-06-30T20:10:43.810592Z",
     "shell.execute_reply": "2022-06-30T20:10:43.809724Z"
    },
    "papermill": {
     "duration": 0.067901,
     "end_time": "2022-06-30T20:10:43.810745",
     "exception": false,
     "start_time": "2022-06-30T20:10:43.742844",
     "status": "completed"
    },
    "tags": []
   },
   "outputs": [
    {
     "data": {
      "text/plain": [
       "((11982, 28, 28), (1984, 28, 28))"
      ]
     },
     "execution_count": 13,
     "metadata": {},
     "output_type": "execute_result"
    }
   ],
   "source": [
    "X_train.shape, X_test.shape"
   ]
  },
  {
   "cell_type": "markdown",
   "id": "5ccf3f85",
   "metadata": {
    "papermill": {
     "duration": 0.03715,
     "end_time": "2022-06-30T20:10:43.887768",
     "exception": false,
     "start_time": "2022-06-30T20:10:43.850618",
     "status": "completed"
    },
    "tags": []
   },
   "source": [
    "We reshape the data to flatten the image pixels into a set of features or co-variates:"
   ]
  },
  {
   "cell_type": "code",
   "execution_count": 14,
   "id": "5286a4a3",
   "metadata": {
    "execution": {
     "iopub.execute_input": "2022-06-30T20:10:43.965774Z",
     "iopub.status.busy": "2022-06-30T20:10:43.964946Z",
     "iopub.status.idle": "2022-06-30T20:10:43.982177Z",
     "shell.execute_reply": "2022-06-30T20:10:43.981539Z"
    },
    "papermill": {
     "duration": 0.059216,
     "end_time": "2022-06-30T20:10:43.982325",
     "exception": false,
     "start_time": "2022-06-30T20:10:43.923109",
     "status": "completed"
    },
    "tags": []
   },
   "outputs": [
    {
     "data": {
      "text/plain": [
       "((11982, 784), (1984, 784))"
      ]
     },
     "execution_count": 14,
     "metadata": {},
     "output_type": "execute_result"
    }
   ],
   "source": [
    "X_train = X_train.reshape(X_train.shape[0], -1)\n",
    "X_test = X_test.reshape(X_test.shape[0], -1)\n",
    "X_train.shape, X_test.shape"
   ]
  },
  {
   "cell_type": "code",
   "execution_count": 15,
   "id": "73c5f88a",
   "metadata": {
    "execution": {
     "iopub.execute_input": "2022-06-30T20:10:44.064969Z",
     "iopub.status.busy": "2022-06-30T20:10:44.064142Z",
     "iopub.status.idle": "2022-06-30T20:10:44.088659Z",
     "shell.execute_reply": "2022-06-30T20:10:44.089281Z"
    },
    "papermill": {
     "duration": 0.068774,
     "end_time": "2022-06-30T20:10:44.089484",
     "exception": false,
     "start_time": "2022-06-30T20:10:44.020710",
     "status": "completed"
    },
    "tags": []
   },
   "outputs": [],
   "source": [
    "#Impoting functions from 'Kudzu'\n",
    "from kudzu.model import Model\n",
    "from kudzu.train import Learner\n",
    "from kudzu.optim import GD\n",
    "from kudzu.data import Data, Sampler,Dataloader\n",
    "\n",
    "from kudzu.callbacks import AccCallback\n",
    "from kudzu.callbacks import ClfCallback\n",
    "\n",
    "from kudzu.loss import MSE\n",
    "\n",
    "from kudzu.layer import Sigmoid,Relu\n",
    "from kudzu.layer import Affine"
   ]
  },
  {
   "cell_type": "markdown",
   "id": "bc01172a",
   "metadata": {
    "papermill": {
     "duration": 0.037849,
     "end_time": "2022-06-30T20:10:44.166048",
     "exception": false,
     "start_time": "2022-06-30T20:10:44.128199",
     "status": "completed"
    },
    "tags": []
   },
   "source": [
    "### Let us create a `Config` class, to store important parameters. \n",
    "This class essentially plays the role of a dictionary."
   ]
  },
  {
   "cell_type": "code",
   "execution_count": 16,
   "id": "978281aa",
   "metadata": {
    "execution": {
     "iopub.execute_input": "2022-06-30T20:10:44.246443Z",
     "iopub.status.busy": "2022-06-30T20:10:44.245417Z",
     "iopub.status.idle": "2022-06-30T20:10:44.264599Z",
     "shell.execute_reply": "2022-06-30T20:10:44.263905Z"
    },
    "papermill": {
     "duration": 0.062441,
     "end_time": "2022-06-30T20:10:44.264751",
     "exception": false,
     "start_time": "2022-06-30T20:10:44.202310",
     "status": "completed"
    },
    "tags": []
   },
   "outputs": [],
   "source": [
    "class Config:\n",
    "    pass\n",
    "config = Config()\n",
    "config.lr = 0.001\n",
    "config.num_epochs = 250\n",
    "config.bs = 50"
   ]
  },
  {
   "cell_type": "markdown",
   "id": "1385fa59",
   "metadata": {
    "papermill": {
     "duration": 0.037905,
     "end_time": "2022-06-30T20:10:44.340492",
     "exception": false,
     "start_time": "2022-06-30T20:10:44.302587",
     "status": "completed"
    },
    "tags": []
   },
   "source": [
    "### Running Models with the Training data\n",
    "Details about the network layers:\n",
    "- A first affine layer has 784 inputs and does 100 affine transforms. These are followed by a Relu\n",
    "- A second affine layer has 100 inputs from the 100 activations of the past layer, and does 100 affine transforms. These are followed by a Relu\n",
    "- A third affine layer has 100 activations and does 2 affine transformations to create an embedding for visualization. There is no non-linearity here.\n",
    "- A final \"logistic regression\" which has an affine transform from 2 inputs to 1 output, which is squeezed through a sigmoid.\n"
   ]
  },
  {
   "cell_type": "code",
   "execution_count": 17,
   "id": "2b9c66db",
   "metadata": {
    "execution": {
     "iopub.execute_input": "2022-06-30T20:10:44.423176Z",
     "iopub.status.busy": "2022-06-30T20:10:44.422254Z",
     "iopub.status.idle": "2022-06-30T20:10:44.439527Z",
     "shell.execute_reply": "2022-06-30T20:10:44.438693Z"
    },
    "papermill": {
     "duration": 0.060119,
     "end_time": "2022-06-30T20:10:44.439683",
     "exception": false,
     "start_time": "2022-06-30T20:10:44.379564",
     "status": "completed"
    },
    "tags": []
   },
   "outputs": [],
   "source": [
    "data = Data(X_train, y_train.reshape(-1,1))\n",
    "sampler = Sampler(data, config.bs, shuffle=True)\n",
    "\n",
    "dl = Dataloader(data, sampler)\n",
    "\n",
    "opt = GD(config.lr)\n",
    "loss = MSE()"
   ]
  },
  {
   "cell_type": "code",
   "execution_count": 18,
   "id": "b275e4c2",
   "metadata": {
    "execution": {
     "iopub.execute_input": "2022-06-30T20:10:44.521387Z",
     "iopub.status.busy": "2022-06-30T20:10:44.520579Z",
     "iopub.status.idle": "2022-06-30T20:10:44.535509Z",
     "shell.execute_reply": "2022-06-30T20:10:44.534862Z"
    },
    "papermill": {
     "duration": 0.056597,
     "end_time": "2022-06-30T20:10:44.535658",
     "exception": false,
     "start_time": "2022-06-30T20:10:44.479061",
     "status": "completed"
    },
    "tags": []
   },
   "outputs": [],
   "source": [
    "training_data_x = X_train\n",
    "testing_data_x = X_test\n",
    "training_data_y = y_train.reshape(-1,1)\n",
    "testing_data_y = y_test.reshape(-1,1)"
   ]
  },
  {
   "cell_type": "code",
   "execution_count": 19,
   "id": "76951160",
   "metadata": {
    "execution": {
     "iopub.execute_input": "2022-06-30T20:10:44.615370Z",
     "iopub.status.busy": "2022-06-30T20:10:44.614605Z",
     "iopub.status.idle": "2022-06-30T20:10:44.638043Z",
     "shell.execute_reply": "2022-06-30T20:10:44.638790Z"
    },
    "papermill": {
     "duration": 0.066743,
     "end_time": "2022-06-30T20:10:44.638964",
     "exception": false,
     "start_time": "2022-06-30T20:10:44.572221",
     "status": "completed"
    },
    "tags": []
   },
   "outputs": [
    {
     "name": "stdout",
     "output_type": "stream",
     "text": [
      "xavier\n",
      "xavier\n",
      "xavier\n",
      "xavier\n",
      "xavier\n"
     ]
    }
   ],
   "source": [
    "layers = [Affine(\"first\", 784, 100), Relu(\"first\"), Affine(\"second\", 100, 100), Relu(\"second\"), Affine(\"third\", 100, 2), Affine(\"last\", 2, 1), Sigmoid(\"last\")]\n",
    "model_nn = Model(layers)\n",
    "model_lr = Model([Affine(\"logits\", 784, 1), Sigmoid(\"sigmoid\")])"
   ]
  },
  {
   "cell_type": "code",
   "execution_count": 20,
   "id": "6eede77a",
   "metadata": {
    "execution": {
     "iopub.execute_input": "2022-06-30T20:10:44.721948Z",
     "iopub.status.busy": "2022-06-30T20:10:44.721032Z",
     "iopub.status.idle": "2022-06-30T20:10:44.736445Z",
     "shell.execute_reply": "2022-06-30T20:10:44.737201Z"
    },
    "papermill": {
     "duration": 0.058498,
     "end_time": "2022-06-30T20:10:44.737406",
     "exception": false,
     "start_time": "2022-06-30T20:10:44.678908",
     "status": "completed"
    },
    "tags": []
   },
   "outputs": [],
   "source": [
    "nn_learner = Learner(loss, model_nn, opt, config.num_epochs)\n",
    "acc_nn = ClfCallback(nn_learner, config.bs, training_data_x , testing_data_x, training_data_y, testing_data_y)\n",
    "nn_learner.set_callbacks([acc_nn])"
   ]
  },
  {
   "cell_type": "code",
   "execution_count": 21,
   "id": "877b6cc7",
   "metadata": {
    "execution": {
     "iopub.execute_input": "2022-06-30T20:10:44.818897Z",
     "iopub.status.busy": "2022-06-30T20:10:44.818098Z",
     "iopub.status.idle": "2022-06-30T20:10:44.833397Z",
     "shell.execute_reply": "2022-06-30T20:10:44.832726Z"
    },
    "papermill": {
     "duration": 0.056292,
     "end_time": "2022-06-30T20:10:44.833548",
     "exception": false,
     "start_time": "2022-06-30T20:10:44.777256",
     "status": "completed"
    },
    "tags": []
   },
   "outputs": [],
   "source": [
    "lr_learner = Learner(loss, model_lr, opt, config.num_epochs)\n",
    "acc_lr = ClfCallback(lr_learner, config.bs, training_data_x , testing_data_x, training_data_y, testing_data_y)\n",
    "lr_learner.set_callbacks([acc_lr])"
   ]
  },
  {
   "cell_type": "code",
   "execution_count": 22,
   "id": "d9b133c3",
   "metadata": {
    "execution": {
     "iopub.execute_input": "2022-06-30T20:10:44.917818Z",
     "iopub.status.busy": "2022-06-30T20:10:44.916881Z",
     "iopub.status.idle": "2022-06-30T20:13:08.805875Z",
     "shell.execute_reply": "2022-06-30T20:13:08.806984Z"
    },
    "papermill": {
     "duration": 143.934611,
     "end_time": "2022-06-30T20:13:08.807136",
     "exception": false,
     "start_time": "2022-06-30T20:10:44.872525",
     "status": "completed"
    },
    "tags": []
   },
   "outputs": [
    {
     "name": "stdout",
     "output_type": "stream",
     "text": [
      "Epoch 0, Loss 0.2528\n",
      "Training Accuracy: 0.5436, Testing Accuracy: 0.5071\n",
      "\n"
     ]
    },
    {
     "name": "stdout",
     "output_type": "stream",
     "text": [
      "Epoch 10, Loss 0.1315\n",
      "Training Accuracy: 0.9057, Testing Accuracy: 0.9153\n",
      "\n"
     ]
    },
    {
     "name": "stdout",
     "output_type": "stream",
     "text": [
      "Epoch 20, Loss 0.0674\n",
      "Training Accuracy: 0.9339, Testing Accuracy: 0.9430\n",
      "\n"
     ]
    },
    {
     "name": "stdout",
     "output_type": "stream",
     "text": [
      "Epoch 30, Loss 0.0492\n",
      "Training Accuracy: 0.9482, Testing Accuracy: 0.9546\n",
      "\n"
     ]
    },
    {
     "name": "stdout",
     "output_type": "stream",
     "text": [
      "Epoch 40, Loss 0.0411\n",
      "Training Accuracy: 0.9539, Testing Accuracy: 0.9622\n",
      "\n"
     ]
    },
    {
     "name": "stdout",
     "output_type": "stream",
     "text": [
      "Epoch 50, Loss 0.0365\n",
      "Training Accuracy: 0.9587, Testing Accuracy: 0.9642\n",
      "\n"
     ]
    },
    {
     "name": "stdout",
     "output_type": "stream",
     "text": [
      "Epoch 60, Loss 0.0336\n",
      "Training Accuracy: 0.9613, Testing Accuracy: 0.9657\n",
      "\n"
     ]
    },
    {
     "name": "stdout",
     "output_type": "stream",
     "text": [
      "Epoch 70, Loss 0.0315\n",
      "Training Accuracy: 0.9637, Testing Accuracy: 0.9672\n",
      "\n"
     ]
    },
    {
     "name": "stdout",
     "output_type": "stream",
     "text": [
      "Epoch 80, Loss 0.0299\n",
      "Training Accuracy: 0.9660, Testing Accuracy: 0.9688\n",
      "\n"
     ]
    },
    {
     "name": "stdout",
     "output_type": "stream",
     "text": [
      "Epoch 90, Loss 0.0287\n",
      "Training Accuracy: 0.9678, Testing Accuracy: 0.9677\n",
      "\n"
     ]
    },
    {
     "name": "stdout",
     "output_type": "stream",
     "text": [
      "Epoch 100, Loss 0.0276\n",
      "Training Accuracy: 0.9686, Testing Accuracy: 0.9677\n",
      "\n"
     ]
    },
    {
     "name": "stdout",
     "output_type": "stream",
     "text": [
      "Epoch 110, Loss 0.0267\n",
      "Training Accuracy: 0.9694, Testing Accuracy: 0.9682\n",
      "\n"
     ]
    },
    {
     "name": "stdout",
     "output_type": "stream",
     "text": [
      "Epoch 120, Loss 0.0259\n",
      "Training Accuracy: 0.9702, Testing Accuracy: 0.9693\n",
      "\n"
     ]
    },
    {
     "name": "stdout",
     "output_type": "stream",
     "text": [
      "Epoch 130, Loss 0.0253\n",
      "Training Accuracy: 0.9713, Testing Accuracy: 0.9698\n",
      "\n"
     ]
    },
    {
     "name": "stdout",
     "output_type": "stream",
     "text": [
      "Epoch 140, Loss 0.0246\n",
      "Training Accuracy: 0.9724, Testing Accuracy: 0.9698\n",
      "\n"
     ]
    },
    {
     "name": "stdout",
     "output_type": "stream",
     "text": [
      "Epoch 150, Loss 0.0241\n",
      "Training Accuracy: 0.9730, Testing Accuracy: 0.9698\n",
      "\n"
     ]
    },
    {
     "name": "stdout",
     "output_type": "stream",
     "text": [
      "Epoch 160, Loss 0.0236\n",
      "Training Accuracy: 0.9732, Testing Accuracy: 0.9703\n",
      "\n"
     ]
    },
    {
     "name": "stdout",
     "output_type": "stream",
     "text": [
      "Epoch 170, Loss 0.0231\n",
      "Training Accuracy: 0.9736, Testing Accuracy: 0.9698\n",
      "\n"
     ]
    },
    {
     "name": "stdout",
     "output_type": "stream",
     "text": [
      "Epoch 180, Loss 0.0226\n",
      "Training Accuracy: 0.9737, Testing Accuracy: 0.9703\n",
      "\n"
     ]
    },
    {
     "name": "stdout",
     "output_type": "stream",
     "text": [
      "Epoch 190, Loss 0.0222\n",
      "Training Accuracy: 0.9741, Testing Accuracy: 0.9708\n",
      "\n"
     ]
    },
    {
     "name": "stdout",
     "output_type": "stream",
     "text": [
      "Epoch 200, Loss 0.0218\n",
      "Training Accuracy: 0.9748, Testing Accuracy: 0.9713\n",
      "\n"
     ]
    },
    {
     "name": "stdout",
     "output_type": "stream",
     "text": [
      "Epoch 210, Loss 0.0214\n",
      "Training Accuracy: 0.9755, Testing Accuracy: 0.9728\n",
      "\n"
     ]
    },
    {
     "name": "stdout",
     "output_type": "stream",
     "text": [
      "Epoch 220, Loss 0.021\n",
      "Training Accuracy: 0.9761, Testing Accuracy: 0.9723\n",
      "\n"
     ]
    },
    {
     "name": "stdout",
     "output_type": "stream",
     "text": [
      "Epoch 230, Loss 0.0207\n",
      "Training Accuracy: 0.9762, Testing Accuracy: 0.9718\n",
      "\n"
     ]
    },
    {
     "name": "stdout",
     "output_type": "stream",
     "text": [
      "Epoch 240, Loss 0.0203\n",
      "Training Accuracy: 0.9764, Testing Accuracy: 0.9713\n",
      "\n"
     ]
    },
    {
     "data": {
      "text/plain": [
       "0.024046243842105183"
      ]
     },
     "execution_count": 22,
     "metadata": {},
     "output_type": "execute_result"
    }
   ],
   "source": [
    "nn_learner.train_loop(dl)"
   ]
  },
  {
   "cell_type": "code",
   "execution_count": 23,
   "id": "e0163366",
   "metadata": {
    "execution": {
     "iopub.execute_input": "2022-06-30T20:13:08.902794Z",
     "iopub.status.busy": "2022-06-30T20:13:08.902088Z",
     "iopub.status.idle": "2022-06-30T20:13:29.959151Z",
     "shell.execute_reply": "2022-06-30T20:13:29.959982Z"
    },
    "papermill": {
     "duration": 21.110573,
     "end_time": "2022-06-30T20:13:29.960140",
     "exception": false,
     "start_time": "2022-06-30T20:13:08.849567",
     "status": "completed"
    },
    "tags": []
   },
   "outputs": [
    {
     "name": "stdout",
     "output_type": "stream",
     "text": [
      "Epoch 0, Loss 0.2154\n",
      "Training Accuracy: 0.8085, Testing Accuracy: 0.8135\n",
      "\n"
     ]
    },
    {
     "name": "stdout",
     "output_type": "stream",
     "text": [
      "Epoch 10, Loss 0.0978\n",
      "Training Accuracy: 0.9200, Testing Accuracy: 0.9320\n",
      "\n"
     ]
    },
    {
     "name": "stdout",
     "output_type": "stream",
     "text": [
      "Epoch 20, Loss 0.0762\n",
      "Training Accuracy: 0.9324, Testing Accuracy: 0.9435\n",
      "\n"
     ]
    },
    {
     "name": "stdout",
     "output_type": "stream",
     "text": [
      "Epoch 30, Loss 0.066\n",
      "Training Accuracy: 0.9398, Testing Accuracy: 0.9511\n",
      "\n"
     ]
    },
    {
     "name": "stdout",
     "output_type": "stream",
     "text": [
      "Epoch 40, Loss 0.0599\n",
      "Training Accuracy: 0.9437, Testing Accuracy: 0.9546\n",
      "\n"
     ]
    },
    {
     "name": "stdout",
     "output_type": "stream",
     "text": [
      "Epoch 50, Loss 0.0558\n",
      "Training Accuracy: 0.9457, Testing Accuracy: 0.9577\n",
      "\n"
     ]
    },
    {
     "name": "stdout",
     "output_type": "stream",
     "text": [
      "Epoch 60, Loss 0.0527\n",
      "Training Accuracy: 0.9489, Testing Accuracy: 0.9592\n",
      "\n"
     ]
    },
    {
     "name": "stdout",
     "output_type": "stream",
     "text": [
      "Epoch 70, Loss 0.0503\n",
      "Training Accuracy: 0.9508, Testing Accuracy: 0.9597\n",
      "\n"
     ]
    },
    {
     "name": "stdout",
     "output_type": "stream",
     "text": [
      "Epoch 80, Loss 0.0484\n",
      "Training Accuracy: 0.9518, Testing Accuracy: 0.9632\n",
      "\n"
     ]
    },
    {
     "name": "stdout",
     "output_type": "stream",
     "text": [
      "Epoch 90, Loss 0.0468\n",
      "Training Accuracy: 0.9530, Testing Accuracy: 0.9637\n",
      "\n"
     ]
    },
    {
     "name": "stdout",
     "output_type": "stream",
     "text": [
      "Epoch 100, Loss 0.0455\n",
      "Training Accuracy: 0.9533, Testing Accuracy: 0.9647\n",
      "\n"
     ]
    },
    {
     "name": "stdout",
     "output_type": "stream",
     "text": [
      "Epoch 110, Loss 0.0443\n",
      "Training Accuracy: 0.9543, Testing Accuracy: 0.9652\n",
      "\n"
     ]
    },
    {
     "name": "stdout",
     "output_type": "stream",
     "text": [
      "Epoch 120, Loss 0.0433\n",
      "Training Accuracy: 0.9555, Testing Accuracy: 0.9652\n",
      "\n"
     ]
    },
    {
     "name": "stdout",
     "output_type": "stream",
     "text": [
      "Epoch 130, Loss 0.0425\n",
      "Training Accuracy: 0.9562, Testing Accuracy: 0.9657\n",
      "\n"
     ]
    },
    {
     "name": "stdout",
     "output_type": "stream",
     "text": [
      "Epoch 140, Loss 0.0417\n",
      "Training Accuracy: 0.9572, Testing Accuracy: 0.9657\n",
      "\n"
     ]
    },
    {
     "name": "stdout",
     "output_type": "stream",
     "text": [
      "Epoch 150, Loss 0.041\n",
      "Training Accuracy: 0.9575, Testing Accuracy: 0.9667\n",
      "\n"
     ]
    },
    {
     "name": "stdout",
     "output_type": "stream",
     "text": [
      "Epoch 160, Loss 0.0403\n",
      "Training Accuracy: 0.9581, Testing Accuracy: 0.9667\n",
      "\n"
     ]
    },
    {
     "name": "stdout",
     "output_type": "stream",
     "text": [
      "Epoch 170, Loss 0.0397\n",
      "Training Accuracy: 0.9587, Testing Accuracy: 0.9672\n",
      "\n"
     ]
    },
    {
     "name": "stdout",
     "output_type": "stream",
     "text": [
      "Epoch 180, Loss 0.0392\n",
      "Training Accuracy: 0.9589, Testing Accuracy: 0.9672\n",
      "\n"
     ]
    },
    {
     "name": "stdout",
     "output_type": "stream",
     "text": [
      "Epoch 190, Loss 0.0387\n",
      "Training Accuracy: 0.9591, Testing Accuracy: 0.9672\n",
      "\n"
     ]
    },
    {
     "name": "stdout",
     "output_type": "stream",
     "text": [
      "Epoch 200, Loss 0.0383\n",
      "Training Accuracy: 0.9595, Testing Accuracy: 0.9677\n",
      "\n"
     ]
    },
    {
     "name": "stdout",
     "output_type": "stream",
     "text": [
      "Epoch 210, Loss 0.0378\n",
      "Training Accuracy: 0.9599, Testing Accuracy: 0.9677\n",
      "\n"
     ]
    },
    {
     "name": "stdout",
     "output_type": "stream",
     "text": [
      "Epoch 220, Loss 0.0374\n",
      "Training Accuracy: 0.9602, Testing Accuracy: 0.9688\n",
      "\n"
     ]
    },
    {
     "name": "stdout",
     "output_type": "stream",
     "text": [
      "Epoch 230, Loss 0.0371\n",
      "Training Accuracy: 0.9604, Testing Accuracy: 0.9693\n",
      "\n"
     ]
    },
    {
     "name": "stdout",
     "output_type": "stream",
     "text": [
      "Epoch 240, Loss 0.0367\n",
      "Training Accuracy: 0.9610, Testing Accuracy: 0.9693\n",
      "\n"
     ]
    },
    {
     "data": {
      "text/plain": [
       "0.031234577910393815"
      ]
     },
     "execution_count": 23,
     "metadata": {},
     "output_type": "execute_result"
    }
   ],
   "source": [
    "lr_learner.train_loop(dl)"
   ]
  },
  {
   "cell_type": "code",
   "execution_count": 24,
   "id": "ca410940",
   "metadata": {
    "execution": {
     "iopub.execute_input": "2022-06-30T20:13:30.076319Z",
     "iopub.status.busy": "2022-06-30T20:13:30.075274Z",
     "iopub.status.idle": "2022-06-30T20:13:30.397075Z",
     "shell.execute_reply": "2022-06-30T20:13:30.396233Z"
    },
    "papermill": {
     "duration": 0.381637,
     "end_time": "2022-06-30T20:13:30.397267",
     "exception": false,
     "start_time": "2022-06-30T20:13:30.015630",
     "status": "completed"
    },
    "tags": []
   },
   "outputs": [
    {
     "data": {
      "text/plain": [
       "<matplotlib.legend.Legend at 0x7f94cebbacc0>"
      ]
     },
     "execution_count": 24,
     "metadata": {},
     "output_type": "execute_result"
    },
    {
     "data": {
      "image/png": "[encoded data removed]",
      "text/plain": [
       "<Figure size 1080x720 with 1 Axes>"
      ]
     },
     "metadata": {
      "needs_background": "light"
     },
     "output_type": "display_data"
    }
   ],
   "source": [
    "#comparing the results of NN and LR\n",
    "plt.figure(figsize=(15,10))\n",
    "\n",
    "# Neural Network plots\n",
    "plt.plot(acc_nn.accuracies, 'r-', label = \"Training Accuracies - NN\")\n",
    "plt.plot(acc_nn.test_accuracies, 'g-', label = \"Testing Accuracies - NN\")\n",
    "\n",
    "# Logistic Regression plots\n",
    "plt.plot(acc_lr.accuracies, 'k-', label = \"Training Accuracies - LR\")\n",
    "plt.plot(acc_lr.test_accuracies, 'b-', label = \"Testing Accuracies - LR\")\n",
    "plt.legend()"
   ]
  },
  {
   "cell_type": "markdown",
   "id": "80dfb35c",
   "metadata": {
    "papermill": {
     "duration": 0.056715,
     "end_time": "2022-06-30T20:13:30.520794",
     "exception": false,
     "start_time": "2022-06-30T20:13:30.464079",
     "status": "completed"
    },
    "tags": []
   },
   "source": [
    "#### Plotting the outputs of this layer of the NN.\n"
   ]
  },
  {
   "cell_type": "code",
   "execution_count": 25,
   "id": "45eb2ff5",
   "metadata": {
    "execution": {
     "iopub.execute_input": "2022-06-30T20:13:30.628667Z",
     "iopub.status.busy": "2022-06-30T20:13:30.628011Z",
     "iopub.status.idle": "2022-06-30T20:13:30.655541Z",
     "shell.execute_reply": "2022-06-30T20:13:30.656140Z"
    },
    "papermill": {
     "duration": 0.0828,
     "end_time": "2022-06-30T20:13:30.656296",
     "exception": false,
     "start_time": "2022-06-30T20:13:30.573496",
     "status": "completed"
    },
    "tags": []
   },
   "outputs": [],
   "source": [
    "new_model = Model(layers[:-2])\n",
    "testing_plot = new_model(testing_data_x)"
   ]
  },
  {
   "cell_type": "code",
   "execution_count": 26,
   "id": "4c0a5485",
   "metadata": {
    "execution": {
     "iopub.execute_input": "2022-06-30T20:13:30.767348Z",
     "iopub.status.busy": "2022-06-30T20:13:30.766685Z",
     "iopub.status.idle": "2022-06-30T20:13:31.073799Z",
     "shell.execute_reply": "2022-06-30T20:13:31.072588Z"
    },
    "papermill": {
     "duration": 0.368279,
     "end_time": "2022-06-30T20:13:31.073952",
     "exception": false,
     "start_time": "2022-06-30T20:13:30.705673",
     "status": "completed"
    },
    "tags": []
   },
   "outputs": [
    {
     "data": {
      "text/plain": [
       "Text(0.5, 1.0, 'Outputs')"
      ]
     },
     "execution_count": 26,
     "metadata": {},
     "output_type": "execute_result"
    },
    {
     "data": {
      "image/png": "[encoded data removed]",
      "text/plain": [
       "<Figure size 576x504 with 1 Axes>"
      ]
     },
     "metadata": {
      "needs_background": "light"
     },
     "output_type": "display_data"
    }
   ],
   "source": [
    "# Plotting the scatter plot of points and color coding by class\n",
    "plt.figure(figsize=(8,7))\n",
    "plt.scatter(testing_plot[:,0], testing_plot[:,1], alpha = 0.1, c = y_test.ravel());\n",
    "plt.title('Outputs')"
   ]
  },
  {
   "cell_type": "markdown",
   "id": "a74fcf8f",
   "metadata": {
    "papermill": {
     "duration": 0.080154,
     "end_time": "2022-06-30T20:13:31.214763",
     "exception": false,
     "start_time": "2022-06-30T20:13:31.134609",
     "status": "completed"
    },
    "tags": []
   },
   "source": [
    "Probability contours"
   ]
  },
  {
   "cell_type": "code",
   "execution_count": 27,
   "id": "d0afc8e3",
   "metadata": {
    "execution": {
     "iopub.execute_input": "2022-06-30T20:13:31.328403Z",
     "iopub.status.busy": "2022-06-30T20:13:31.327562Z",
     "iopub.status.idle": "2022-06-30T20:13:31.340990Z",
     "shell.execute_reply": "2022-06-30T20:13:31.340358Z"
    },
    "papermill": {
     "duration": 0.073008,
     "end_time": "2022-06-30T20:13:31.341130",
     "exception": false,
     "start_time": "2022-06-30T20:13:31.268122",
     "status": "completed"
    },
    "tags": []
   },
   "outputs": [],
   "source": [
    "model_prob = Model(layers[-2:]) "
   ]
  },
  {
   "cell_type": "code",
   "execution_count": 28,
   "id": "9b96e238",
   "metadata": {
    "execution": {
     "iopub.execute_input": "2022-06-30T20:13:31.452169Z",
     "iopub.status.busy": "2022-06-30T20:13:31.451421Z",
     "iopub.status.idle": "2022-06-30T20:13:31.467104Z",
     "shell.execute_reply": "2022-06-30T20:13:31.467694Z"
    },
    "papermill": {
     "duration": 0.075294,
     "end_time": "2022-06-30T20:13:31.467853",
     "exception": false,
     "start_time": "2022-06-30T20:13:31.392559",
     "status": "completed"
    },
    "tags": []
   },
   "outputs": [],
   "source": [
    "#creating the x and y ranges according to the above generated plot.\n",
    "x_range = np.linspace(-4, 1, 100) \n",
    "y_range = np.linspace(-6, 6, 100) \n",
    "x_grid, y_grid = np.meshgrid(x_range, y_range) # x_grid and y_grig are of size 100 X 100\n",
    "\n",
    "# converting x_grid and y_grid to continuous arrays\n",
    "x_gridflat = np.ravel(x_grid)\n",
    "y_gridflat = np.ravel(y_grid)\n",
    "\n",
    "# The last layer of the current model takes two columns as input. Hence transpose of np.vstack() is required.\n",
    "X = np.vstack((x_gridflat, y_gridflat)).T\n",
    "\n",
    "prob_contour = model_prob(X).reshape(100,100) "
   ]
  },
  {
   "cell_type": "code",
   "execution_count": 29,
   "id": "da72499a",
   "metadata": {
    "execution": {
     "iopub.execute_input": "2022-06-30T20:13:31.585046Z",
     "iopub.status.busy": "2022-06-30T20:13:31.584384Z",
     "iopub.status.idle": "2022-06-30T20:13:31.908341Z",
     "shell.execute_reply": "2022-06-30T20:13:31.907737Z"
    },
    "papermill": {
     "duration": 0.383601,
     "end_time": "2022-06-30T20:13:31.908473",
     "exception": false,
     "start_time": "2022-06-30T20:13:31.524872",
     "status": "completed"
    },
    "tags": []
   },
   "outputs": [
    {
     "data": {
      "image/png": "[encoded data removed]",
      "text/plain": [
       "<Figure size 720x648 with 1 Axes>"
      ]
     },
     "metadata": {
      "needs_background": "light"
     },
     "output_type": "display_data"
    }
   ],
   "source": [
    "plt.figure(figsize=(10,9))\n",
    "plt.scatter(testing_plot[:,0], testing_plot[:,1], alpha = 0.1, c = y_test.ravel())\n",
    "contours = plt.contour(x_grid,y_grid,prob_contour)\n",
    "plt.title('Probability Contours')\n",
    "plt.clabel(contours, inline = True );"
   ]
  },
  {
   "cell_type": "code",
   "execution_count": null,
   "id": "e81b4ac7",
   "metadata": {
    "papermill": {
     "duration": 0.058666,
     "end_time": "2022-06-30T20:13:32.025612",
     "exception": false,
     "start_time": "2022-06-30T20:13:31.966946",
     "status": "completed"
    },
    "tags": []
   },
   "outputs": [],
   "source": []
  }
 ],
 "metadata": {
  "kernelspec": {
   "display_name": "Python 3",
   "language": "python",
   "name": "python3"
  },
  "language_info": {
   "codemirror_mode": {
    "name": "ipython",
    "version": 3
   },
   "file_extension": ".py",
   "mimetype": "text/x-python",
   "name": "python",
   "nbconvert_exporter": "python",
   "pygments_lexer": "ipython3",
   "version": "3.6.15"
  },
  "papermill": {
   "default_parameters": {},
   "duration": 176.07155,
   "end_time": "2022-06-30T20:13:32.507131",
   "environment_variables": {},
   "exception": null,
   "input_path": "2020-08-11-part2.ipynb",
   "output_path": "2020-08-11-part2.ipynb",
   "parameters": {},
   "start_time": "2022-06-30T20:10:36.435581",
   "version": "2.3.3"
  }
 },
 "nbformat": 4,
 "nbformat_minor": 5
}