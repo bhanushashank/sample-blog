{
 "cells": [
  {
   "cell_type": "markdown",
   "id": "98380cd3",
   "metadata": {
    "papermill": {
     "duration": 0.02698,
     "end_time": "2022-02-19T00:29:55.075589",
     "exception": false,
     "start_time": "2022-02-19T00:29:55.048609",
     "status": "completed"
    },
    "tags": []
   },
   "source": [
    "# Distinguish Your Own Digits (DYOD)"
   ]
  },
  {
   "cell_type": "markdown",
   "id": "ef31240d",
   "metadata": {
    "papermill": {
     "duration": 0.022275,
     "end_time": "2022-02-19T00:29:55.119737",
     "exception": false,
     "start_time": "2022-02-19T00:29:55.097462",
     "status": "completed"
    },
    "tags": []
   },
   "source": [
    "You are going to write a classifier that distinguishes between the number 3 and number 8."
   ]
  },
  {
   "cell_type": "code",
   "execution_count": 1,
   "id": "b15c8646",
   "metadata": {
    "execution": {
     "iopub.execute_input": "2022-02-19T00:29:55.172652Z",
     "iopub.status.busy": "2022-02-19T00:29:55.172173Z",
     "iopub.status.idle": "2022-02-19T00:29:55.182791Z",
     "shell.execute_reply": "2022-02-19T00:29:55.182405Z"
    },
    "papermill": {
     "duration": 0.042165,
     "end_time": "2022-02-19T00:29:55.182907",
     "exception": false,
     "start_time": "2022-02-19T00:29:55.140742",
     "status": "completed"
    },
    "tags": []
   },
   "outputs": [],
   "source": [
    "%load_ext autoreload\n",
    "%autoreload 2"
   ]
  },
  {
   "cell_type": "code",
   "execution_count": 2,
   "id": "22ef38dc",
   "metadata": {
    "execution": {
     "iopub.execute_input": "2022-02-19T00:29:55.233176Z",
     "iopub.status.busy": "2022-02-19T00:29:55.232718Z",
     "iopub.status.idle": "2022-02-19T00:29:55.807814Z",
     "shell.execute_reply": "2022-02-19T00:29:55.808325Z"
    },
    "papermill": {
     "duration": 0.604634,
     "end_time": "2022-02-19T00:29:55.808503",
     "exception": false,
     "start_time": "2022-02-19T00:29:55.203869",
     "status": "completed"
    },
    "tags": []
   },
   "outputs": [],
   "source": [
    "%matplotlib inline\n",
    "import numpy as np\n",
    "import matplotlib.pyplot as plt\n",
    "import pandas as pd"
   ]
  },
  {
   "cell_type": "markdown",
   "id": "ba036198",
   "metadata": {
    "papermill": {
     "duration": 0.021122,
     "end_time": "2022-02-19T00:29:55.851127",
     "exception": false,
     "start_time": "2022-02-19T00:29:55.830005",
     "status": "completed"
    },
    "tags": []
   },
   "source": [
    "From the command line run `pip install mnist`. This is a library that will help you bring down the mnist dataset. If you run this from a notebook, you need to put  `!pip install mnist` in a cell by itself."
   ]
  },
  {
   "cell_type": "code",
   "execution_count": 3,
   "id": "bb6ad8a1",
   "metadata": {
    "execution": {
     "iopub.execute_input": "2022-02-19T00:29:55.897392Z",
     "iopub.status.busy": "2022-02-19T00:29:55.896934Z",
     "iopub.status.idle": "2022-02-19T00:29:58.037141Z",
     "shell.execute_reply": "2022-02-19T00:29:58.035939Z"
    },
    "papermill": {
     "duration": 2.165168,
     "end_time": "2022-02-19T00:29:58.037285",
     "exception": false,
     "start_time": "2022-02-19T00:29:55.872117",
     "status": "completed"
    },
    "tags": []
   },
   "outputs": [
    {
     "name": "stdout",
     "output_type": "stream",
     "text": [
      "Collecting mnist\r\n"
     ]
    },
    {
     "name": "stdout",
     "output_type": "stream",
     "text": [
      "  Downloading mnist-0.2.2-py2.py3-none-any.whl (3.5 kB)\r\n",
      "Requirement already satisfied: numpy in /opt/hostedtoolcache/Python/3.6.15/x64/lib/python3.6/site-packages (from mnist) (1.19.5)\r\n"
     ]
    },
    {
     "name": "stdout",
     "output_type": "stream",
     "text": [
      "Installing collected packages: mnist\r\n",
      "Successfully installed mnist-0.2.2\r\n"
     ]
    }
   ],
   "source": [
    "!pip install mnist"
   ]
  },
  {
   "cell_type": "markdown",
   "id": "69df9c9a",
   "metadata": {
    "papermill": {
     "duration": 0.024738,
     "end_time": "2022-02-19T00:29:58.087095",
     "exception": false,
     "start_time": "2022-02-19T00:29:58.062357",
     "status": "completed"
    },
    "tags": []
   },
   "source": [
    "## Preparing the Data"
   ]
  },
  {
   "cell_type": "code",
   "execution_count": 4,
   "id": "7f69d806",
   "metadata": {
    "execution": {
     "iopub.execute_input": "2022-02-19T00:29:58.142163Z",
     "iopub.status.busy": "2022-02-19T00:29:58.141329Z",
     "iopub.status.idle": "2022-02-19T00:29:58.152769Z",
     "shell.execute_reply": "2022-02-19T00:29:58.153179Z"
    },
    "papermill": {
     "duration": 0.041745,
     "end_time": "2022-02-19T00:29:58.153311",
     "exception": false,
     "start_time": "2022-02-19T00:29:58.111566",
     "status": "completed"
    },
    "tags": []
   },
   "outputs": [],
   "source": [
    "import mnist"
   ]
  },
  {
   "cell_type": "code",
   "execution_count": 5,
   "id": "a411e44f",
   "metadata": {
    "execution": {
     "iopub.execute_input": "2022-02-19T00:29:58.209716Z",
     "iopub.status.busy": "2022-02-19T00:29:58.209181Z",
     "iopub.status.idle": "2022-02-19T00:29:58.723103Z",
     "shell.execute_reply": "2022-02-19T00:29:58.722547Z"
    },
    "papermill": {
     "duration": 0.545313,
     "end_time": "2022-02-19T00:29:58.723251",
     "exception": false,
     "start_time": "2022-02-19T00:29:58.177938",
     "status": "completed"
    },
    "tags": []
   },
   "outputs": [],
   "source": [
    "train_images = mnist.train_images()\n",
    "train_labels = mnist.train_labels()"
   ]
  },
  {
   "cell_type": "code",
   "execution_count": 6,
   "id": "dceab3a5",
   "metadata": {
    "execution": {
     "iopub.execute_input": "2022-02-19T00:29:58.777160Z",
     "iopub.status.busy": "2022-02-19T00:29:58.776647Z",
     "iopub.status.idle": "2022-02-19T00:29:58.790223Z",
     "shell.execute_reply": "2022-02-19T00:29:58.789808Z"
    },
    "papermill": {
     "duration": 0.041629,
     "end_time": "2022-02-19T00:29:58.790336",
     "exception": false,
     "start_time": "2022-02-19T00:29:58.748707",
     "status": "completed"
    },
    "tags": []
   },
   "outputs": [
    {
     "data": {
      "text/plain": [
       "((60000, 28, 28), (60000,))"
      ]
     },
     "execution_count": 6,
     "metadata": {},
     "output_type": "execute_result"
    }
   ],
   "source": [
    "train_images.shape, train_labels.shape"
   ]
  },
  {
   "cell_type": "code",
   "execution_count": 7,
   "id": "f50dc2bb",
   "metadata": {
    "execution": {
     "iopub.execute_input": "2022-02-19T00:29:58.843060Z",
     "iopub.status.busy": "2022-02-19T00:29:58.842563Z",
     "iopub.status.idle": "2022-02-19T00:29:58.997927Z",
     "shell.execute_reply": "2022-02-19T00:29:58.997341Z"
    },
    "papermill": {
     "duration": 0.182867,
     "end_time": "2022-02-19T00:29:58.998076",
     "exception": false,
     "start_time": "2022-02-19T00:29:58.815209",
     "status": "completed"
    },
    "tags": []
   },
   "outputs": [],
   "source": [
    "test_images = mnist.test_images()\n",
    "test_labels = mnist.test_labels()"
   ]
  },
  {
   "cell_type": "code",
   "execution_count": 8,
   "id": "fc38cf1b",
   "metadata": {
    "execution": {
     "iopub.execute_input": "2022-02-19T00:29:59.052863Z",
     "iopub.status.busy": "2022-02-19T00:29:59.052353Z",
     "iopub.status.idle": "2022-02-19T00:29:59.064637Z",
     "shell.execute_reply": "2022-02-19T00:29:59.064226Z"
    },
    "papermill": {
     "duration": 0.040861,
     "end_time": "2022-02-19T00:29:59.064749",
     "exception": false,
     "start_time": "2022-02-19T00:29:59.023888",
     "status": "completed"
    },
    "tags": []
   },
   "outputs": [
    {
     "data": {
      "text/plain": [
       "((10000, 28, 28), (10000,))"
      ]
     },
     "execution_count": 8,
     "metadata": {},
     "output_type": "execute_result"
    }
   ],
   "source": [
    "test_images.shape, test_labels.shape"
   ]
  },
  {
   "cell_type": "code",
   "execution_count": 9,
   "id": "f9ed8fe0",
   "metadata": {
    "execution": {
     "iopub.execute_input": "2022-02-19T00:29:59.127135Z",
     "iopub.status.busy": "2022-02-19T00:29:59.124470Z",
     "iopub.status.idle": "2022-02-19T00:29:59.248044Z",
     "shell.execute_reply": "2022-02-19T00:29:59.247637Z"
    },
    "papermill": {
     "duration": 0.158217,
     "end_time": "2022-02-19T00:29:59.248158",
     "exception": false,
     "start_time": "2022-02-19T00:29:59.089941",
     "status": "completed"
    },
    "tags": []
   },
   "outputs": [
    {
     "name": "stdout",
     "output_type": "stream",
     "text": [
      "2\n"
     ]
    },
    {
     "data": {
      "text/plain": [
       "<matplotlib.image.AxesImage at 0x7fb0f7218588>"
      ]
     },
     "execution_count": 9,
     "metadata": {},
     "output_type": "execute_result"
    },
    {
     "data": {
      "image/png": "[encoded data removed]",
      "text/plain": [
       "<Figure size 432x288 with 1 Axes>"
      ]
     },
     "metadata": {
      "needs_background": "light"
     },
     "output_type": "display_data"
    }
   ],
   "source": [
    "image_index = 7776 # You may select anything up to 60,000\n",
    "print(train_labels[image_index]) \n",
    "plt.imshow(train_images[image_index], cmap='Greys')"
   ]
  },
  {
   "cell_type": "markdown",
   "id": "a8d2388d",
   "metadata": {
    "papermill": {
     "duration": 0.023526,
     "end_time": "2022-02-19T00:29:59.295418",
     "exception": false,
     "start_time": "2022-02-19T00:29:59.271892",
     "status": "completed"
    },
    "tags": []
   },
   "source": [
    "## Filter data to get 3 and 8 out"
   ]
  },
  {
   "cell_type": "code",
   "execution_count": 10,
   "id": "776f7fc7",
   "metadata": {
    "execution": {
     "iopub.execute_input": "2022-02-19T00:29:59.360217Z",
     "iopub.status.busy": "2022-02-19T00:29:59.359746Z",
     "iopub.status.idle": "2022-02-19T00:29:59.368692Z",
     "shell.execute_reply": "2022-02-19T00:29:59.368302Z"
    },
    "papermill": {
     "duration": 0.050199,
     "end_time": "2022-02-19T00:29:59.368795",
     "exception": false,
     "start_time": "2022-02-19T00:29:59.318596",
     "status": "completed"
    },
    "tags": []
   },
   "outputs": [],
   "source": [
    "train_filter = np.where((train_labels == 3 ) | (train_labels == 8))\n",
    "test_filter = np.where((test_labels == 3) | (test_labels == 8))\n",
    "X_train, y_train = train_images[train_filter], train_labels[train_filter]\n",
    "X_test, y_test = test_images[test_filter], test_labels[test_filter]"
   ]
  },
  {
   "cell_type": "markdown",
   "id": "948f0b7e",
   "metadata": {
    "papermill": {
     "duration": 0.023523,
     "end_time": "2022-02-19T00:29:59.415625",
     "exception": false,
     "start_time": "2022-02-19T00:29:59.392102",
     "status": "completed"
    },
    "tags": []
   },
   "source": [
    "We normalize the pizel values in the 0 to 1 range"
   ]
  },
  {
   "cell_type": "code",
   "execution_count": 11,
   "id": "ee4c2166",
   "metadata": {
    "execution": {
     "iopub.execute_input": "2022-02-19T00:29:59.468061Z",
     "iopub.status.busy": "2022-02-19T00:29:59.464831Z",
     "iopub.status.idle": "2022-02-19T00:29:59.513814Z",
     "shell.execute_reply": "2022-02-19T00:29:59.513232Z"
    },
    "papermill": {
     "duration": 0.075264,
     "end_time": "2022-02-19T00:29:59.513972",
     "exception": false,
     "start_time": "2022-02-19T00:29:59.438708",
     "status": "completed"
    },
    "tags": []
   },
   "outputs": [],
   "source": [
    "X_train = X_train/255.\n",
    "X_test = X_test/255."
   ]
  },
  {
   "cell_type": "markdown",
   "id": "ddcf4fab",
   "metadata": {
    "papermill": {
     "duration": 0.023541,
     "end_time": "2022-02-19T00:29:59.562557",
     "exception": false,
     "start_time": "2022-02-19T00:29:59.539016",
     "status": "completed"
    },
    "tags": []
   },
   "source": [
    "And setup the labels as 1 (when the digit is 3) and 0 (when the digit is 8)"
   ]
  },
  {
   "cell_type": "code",
   "execution_count": 12,
   "id": "7dc908f2",
   "metadata": {
    "execution": {
     "iopub.execute_input": "2022-02-19T00:29:59.618400Z",
     "iopub.status.busy": "2022-02-19T00:29:59.617941Z",
     "iopub.status.idle": "2022-02-19T00:29:59.627389Z",
     "shell.execute_reply": "2022-02-19T00:29:59.627011Z"
    },
    "papermill": {
     "duration": 0.041686,
     "end_time": "2022-02-19T00:29:59.627488",
     "exception": false,
     "start_time": "2022-02-19T00:29:59.585802",
     "status": "completed"
    },
    "tags": []
   },
   "outputs": [],
   "source": [
    "y_train = 1*(y_train==3)\n",
    "y_test = 1*(y_test==3)"
   ]
  },
  {
   "cell_type": "code",
   "execution_count": 13,
   "id": "01e4e969",
   "metadata": {
    "execution": {
     "iopub.execute_input": "2022-02-19T00:29:59.685075Z",
     "iopub.status.busy": "2022-02-19T00:29:59.684624Z",
     "iopub.status.idle": "2022-02-19T00:29:59.692404Z",
     "shell.execute_reply": "2022-02-19T00:29:59.692021Z"
    },
    "papermill": {
     "duration": 0.041908,
     "end_time": "2022-02-19T00:29:59.692502",
     "exception": false,
     "start_time": "2022-02-19T00:29:59.650594",
     "status": "completed"
    },
    "tags": []
   },
   "outputs": [
    {
     "data": {
      "text/plain": [
       "((11982, 28, 28), (1984, 28, 28))"
      ]
     },
     "execution_count": 13,
     "metadata": {},
     "output_type": "execute_result"
    }
   ],
   "source": [
    "X_train.shape, X_test.shape"
   ]
  },
  {
   "cell_type": "markdown",
   "id": "5ccf3f85",
   "metadata": {
    "papermill": {
     "duration": 0.023401,
     "end_time": "2022-02-19T00:29:59.739171",
     "exception": false,
     "start_time": "2022-02-19T00:29:59.715770",
     "status": "completed"
    },
    "tags": []
   },
   "source": [
    "We reshape the data to flatten the image pixels into a set of features or co-variates:"
   ]
  },
  {
   "cell_type": "code",
   "execution_count": 14,
   "id": "5286a4a3",
   "metadata": {
    "execution": {
     "iopub.execute_input": "2022-02-19T00:29:59.804846Z",
     "iopub.status.busy": "2022-02-19T00:29:59.802700Z",
     "iopub.status.idle": "2022-02-19T00:29:59.807980Z",
     "shell.execute_reply": "2022-02-19T00:29:59.807592Z"
    },
    "papermill": {
     "duration": 0.045537,
     "end_time": "2022-02-19T00:29:59.808078",
     "exception": false,
     "start_time": "2022-02-19T00:29:59.762541",
     "status": "completed"
    },
    "tags": []
   },
   "outputs": [
    {
     "data": {
      "text/plain": [
       "((11982, 784), (1984, 784))"
      ]
     },
     "execution_count": 14,
     "metadata": {},
     "output_type": "execute_result"
    }
   ],
   "source": [
    "X_train = X_train.reshape(X_train.shape[0], -1)\n",
    "X_test = X_test.reshape(X_test.shape[0], -1)\n",
    "X_train.shape, X_test.shape"
   ]
  },
  {
   "cell_type": "code",
   "execution_count": 15,
   "id": "73c5f88a",
   "metadata": {
    "execution": {
     "iopub.execute_input": "2022-02-19T00:29:59.865533Z",
     "iopub.status.busy": "2022-02-19T00:29:59.865023Z",
     "iopub.status.idle": "2022-02-19T00:29:59.880506Z",
     "shell.execute_reply": "2022-02-19T00:29:59.880931Z"
    },
    "papermill": {
     "duration": 0.049159,
     "end_time": "2022-02-19T00:29:59.881050",
     "exception": false,
     "start_time": "2022-02-19T00:29:59.831891",
     "status": "completed"
    },
    "tags": []
   },
   "outputs": [],
   "source": [
    "#Impoting functions from 'Kudzu'\n",
    "from kudzu.model import Model\n",
    "from kudzu.train import Learner\n",
    "from kudzu.optim import GD\n",
    "from kudzu.data import Data, Sampler,Dataloader\n",
    "\n",
    "from kudzu.callbacks import AccCallback\n",
    "from kudzu.callbacks import ClfCallback\n",
    "\n",
    "from kudzu.loss import MSE\n",
    "\n",
    "from kudzu.layer import Sigmoid,Relu\n",
    "from kudzu.layer import Affine"
   ]
  },
  {
   "cell_type": "markdown",
   "id": "bc01172a",
   "metadata": {
    "papermill": {
     "duration": 0.023844,
     "end_time": "2022-02-19T00:29:59.928780",
     "exception": false,
     "start_time": "2022-02-19T00:29:59.904936",
     "status": "completed"
    },
    "tags": []
   },
   "source": [
    "### Let us create a `Config` class, to store important parameters. \n",
    "This class essentially plays the role of a dictionary."
   ]
  },
  {
   "cell_type": "code",
   "execution_count": 16,
   "id": "978281aa",
   "metadata": {
    "execution": {
     "iopub.execute_input": "2022-02-19T00:29:59.979716Z",
     "iopub.status.busy": "2022-02-19T00:29:59.979262Z",
     "iopub.status.idle": "2022-02-19T00:29:59.991745Z",
     "shell.execute_reply": "2022-02-19T00:29:59.991357Z"
    },
    "papermill": {
     "duration": 0.039837,
     "end_time": "2022-02-19T00:29:59.991842",
     "exception": false,
     "start_time": "2022-02-19T00:29:59.952005",
     "status": "completed"
    },
    "tags": []
   },
   "outputs": [],
   "source": [
    "class Config:\n",
    "    pass\n",
    "config = Config()\n",
    "config.lr = 0.001\n",
    "config.num_epochs = 250\n",
    "config.bs = 50"
   ]
  },
  {
   "cell_type": "markdown",
   "id": "1385fa59",
   "metadata": {
    "papermill": {
     "duration": 0.024006,
     "end_time": "2022-02-19T00:30:00.039783",
     "exception": false,
     "start_time": "2022-02-19T00:30:00.015777",
     "status": "completed"
    },
    "tags": []
   },
   "source": [
    "### Running Models with the Training data\n",
    "Details about the network layers:\n",
    "- A first affine layer has 784 inputs and does 100 affine transforms. These are followed by a Relu\n",
    "- A second affine layer has 100 inputs from the 100 activations of the past layer, and does 100 affine transforms. These are followed by a Relu\n",
    "- A third affine layer has 100 activations and does 2 affine transformations to create an embedding for visualization. There is no non-linearity here.\n",
    "- A final \"logistic regression\" which has an affine transform from 2 inputs to 1 output, which is squeezed through a sigmoid.\n"
   ]
  },
  {
   "cell_type": "code",
   "execution_count": 17,
   "id": "2b9c66db",
   "metadata": {
    "execution": {
     "iopub.execute_input": "2022-02-19T00:30:00.093422Z",
     "iopub.status.busy": "2022-02-19T00:30:00.092939Z",
     "iopub.status.idle": "2022-02-19T00:30:00.105894Z",
     "shell.execute_reply": "2022-02-19T00:30:00.106265Z"
    },
    "papermill": {
     "duration": 0.042393,
     "end_time": "2022-02-19T00:30:00.106394",
     "exception": false,
     "start_time": "2022-02-19T00:30:00.064001",
     "status": "completed"
    },
    "tags": []
   },
   "outputs": [],
   "source": [
    "data = Data(X_train, y_train.reshape(-1,1))\n",
    "sampler = Sampler(data, config.bs, shuffle=True)\n",
    "\n",
    "dl = Dataloader(data, sampler)\n",
    "\n",
    "opt = GD(config.lr)\n",
    "loss = MSE()"
   ]
  },
  {
   "cell_type": "code",
   "execution_count": 18,
   "id": "b275e4c2",
   "metadata": {
    "execution": {
     "iopub.execute_input": "2022-02-19T00:30:00.172898Z",
     "iopub.status.busy": "2022-02-19T00:30:00.172428Z",
     "iopub.status.idle": "2022-02-19T00:30:00.174801Z",
     "shell.execute_reply": "2022-02-19T00:30:00.174425Z"
    },
    "papermill": {
     "duration": 0.044677,
     "end_time": "2022-02-19T00:30:00.174908",
     "exception": false,
     "start_time": "2022-02-19T00:30:00.130231",
     "status": "completed"
    },
    "tags": []
   },
   "outputs": [],
   "source": [
    "training_data_x = X_train\n",
    "testing_data_x = X_test\n",
    "training_data_y = y_train.reshape(-1,1)\n",
    "testing_data_y = y_test.reshape(-1,1)"
   ]
  },
  {
   "cell_type": "code",
   "execution_count": 19,
   "id": "76951160",
   "metadata": {
    "execution": {
     "iopub.execute_input": "2022-02-19T00:30:00.238500Z",
     "iopub.status.busy": "2022-02-19T00:30:00.234814Z",
     "iopub.status.idle": "2022-02-19T00:30:00.245918Z",
     "shell.execute_reply": "2022-02-19T00:30:00.245508Z"
    },
    "papermill": {
     "duration": 0.047378,
     "end_time": "2022-02-19T00:30:00.246029",
     "exception": false,
     "start_time": "2022-02-19T00:30:00.198651",
     "status": "completed"
    },
    "tags": []
   },
   "outputs": [
    {
     "name": "stdout",
     "output_type": "stream",
     "text": [
      "xavier\n",
      "xavier\n",
      "xavier\n",
      "xavier\n",
      "xavier\n"
     ]
    }
   ],
   "source": [
    "layers = [Affine(\"first\", 784, 100), Relu(\"first\"), Affine(\"second\", 100, 100), Relu(\"second\"), Affine(\"third\", 100, 2), Affine(\"last\", 2, 1), Sigmoid(\"last\")]\n",
    "model_nn = Model(layers)\n",
    "model_lr = Model([Affine(\"logits\", 784, 1), Sigmoid(\"sigmoid\")])"
   ]
  },
  {
   "cell_type": "code",
   "execution_count": 20,
   "id": "6eede77a",
   "metadata": {
    "execution": {
     "iopub.execute_input": "2022-02-19T00:30:00.298915Z",
     "iopub.status.busy": "2022-02-19T00:30:00.298322Z",
     "iopub.status.idle": "2022-02-19T00:30:00.311590Z",
     "shell.execute_reply": "2022-02-19T00:30:00.310919Z"
    },
    "papermill": {
     "duration": 0.041405,
     "end_time": "2022-02-19T00:30:00.311707",
     "exception": false,
     "start_time": "2022-02-19T00:30:00.270302",
     "status": "completed"
    },
    "tags": []
   },
   "outputs": [],
   "source": [
    "nn_learner = Learner(loss, model_nn, opt, config.num_epochs)\n",
    "acc_nn = ClfCallback(nn_learner, config.bs, training_data_x , testing_data_x, training_data_y, testing_data_y)\n",
    "nn_learner.set_callbacks([acc_nn])"
   ]
  },
  {
   "cell_type": "code",
   "execution_count": 21,
   "id": "877b6cc7",
   "metadata": {
    "execution": {
     "iopub.execute_input": "2022-02-19T00:30:00.374091Z",
     "iopub.status.busy": "2022-02-19T00:30:00.373612Z",
     "iopub.status.idle": "2022-02-19T00:30:00.383350Z",
     "shell.execute_reply": "2022-02-19T00:30:00.383728Z"
    },
    "papermill": {
     "duration": 0.045129,
     "end_time": "2022-02-19T00:30:00.383855",
     "exception": false,
     "start_time": "2022-02-19T00:30:00.338726",
     "status": "completed"
    },
    "tags": []
   },
   "outputs": [],
   "source": [
    "lr_learner = Learner(loss, model_lr, opt, config.num_epochs)\n",
    "acc_lr = ClfCallback(lr_learner, config.bs, training_data_x , testing_data_x, training_data_y, testing_data_y)\n",
    "lr_learner.set_callbacks([acc_lr])"
   ]
  },
  {
   "cell_type": "code",
   "execution_count": 22,
   "id": "d9b133c3",
   "metadata": {
    "execution": {
     "iopub.execute_input": "2022-02-19T00:30:00.435422Z",
     "iopub.status.busy": "2022-02-19T00:30:00.434972Z",
     "iopub.status.idle": "2022-02-19T00:31:15.884298Z",
     "shell.execute_reply": "2022-02-19T00:31:15.885021Z"
    },
    "papermill": {
     "duration": 75.477133,
     "end_time": "2022-02-19T00:31:15.885170",
     "exception": false,
     "start_time": "2022-02-19T00:30:00.408037",
     "status": "completed"
    },
    "tags": []
   },
   "outputs": [
    {
     "name": "stdout",
     "output_type": "stream",
     "text": [
      "Epoch 0, Loss 0.2295\n",
      "Training Accuracy: 0.7308, Testing Accuracy: 0.7404\n",
      "\n"
     ]
    },
    {
     "name": "stdout",
     "output_type": "stream",
     "text": [
      "Epoch 10, Loss 0.0693\n",
      "Training Accuracy: 0.9327, Testing Accuracy: 0.9441\n",
      "\n"
     ]
    },
    {
     "name": "stdout",
     "output_type": "stream",
     "text": [
      "Epoch 20, Loss 0.048\n",
      "Training Accuracy: 0.9483, Testing Accuracy: 0.9587\n",
      "\n"
     ]
    },
    {
     "name": "stdout",
     "output_type": "stream",
     "text": [
      "Epoch 30, Loss 0.04\n",
      "Training Accuracy: 0.9546, Testing Accuracy: 0.9642\n",
      "\n"
     ]
    },
    {
     "name": "stdout",
     "output_type": "stream",
     "text": [
      "Epoch 40, Loss 0.0357\n",
      "Training Accuracy: 0.9594, Testing Accuracy: 0.9667\n",
      "\n"
     ]
    },
    {
     "name": "stdout",
     "output_type": "stream",
     "text": [
      "Epoch 50, Loss 0.0329\n",
      "Training Accuracy: 0.9629, Testing Accuracy: 0.9667\n",
      "\n"
     ]
    },
    {
     "name": "stdout",
     "output_type": "stream",
     "text": [
      "Epoch 60, Loss 0.0309\n",
      "Training Accuracy: 0.9642, Testing Accuracy: 0.9677\n",
      "\n"
     ]
    },
    {
     "name": "stdout",
     "output_type": "stream",
     "text": [
      "Epoch 70, Loss 0.0294\n",
      "Training Accuracy: 0.9659, Testing Accuracy: 0.9693\n",
      "\n"
     ]
    },
    {
     "name": "stdout",
     "output_type": "stream",
     "text": [
      "Epoch 80, Loss 0.0282\n",
      "Training Accuracy: 0.9673, Testing Accuracy: 0.9698\n",
      "\n"
     ]
    },
    {
     "name": "stdout",
     "output_type": "stream",
     "text": [
      "Epoch 90, Loss 0.0271\n",
      "Training Accuracy: 0.9689, Testing Accuracy: 0.9708\n",
      "\n"
     ]
    },
    {
     "name": "stdout",
     "output_type": "stream",
     "text": [
      "Epoch 100, Loss 0.0262\n",
      "Training Accuracy: 0.9703, Testing Accuracy: 0.9708\n",
      "\n"
     ]
    },
    {
     "name": "stdout",
     "output_type": "stream",
     "text": [
      "Epoch 110, Loss 0.0254\n",
      "Training Accuracy: 0.9709, Testing Accuracy: 0.9718\n",
      "\n"
     ]
    },
    {
     "name": "stdout",
     "output_type": "stream",
     "text": [
      "Epoch 120, Loss 0.0247\n",
      "Training Accuracy: 0.9715, Testing Accuracy: 0.9713\n",
      "\n"
     ]
    },
    {
     "name": "stdout",
     "output_type": "stream",
     "text": [
      "Epoch 130, Loss 0.0241\n",
      "Training Accuracy: 0.9722, Testing Accuracy: 0.9713\n",
      "\n"
     ]
    },
    {
     "name": "stdout",
     "output_type": "stream",
     "text": [
      "Epoch 140, Loss 0.0235\n",
      "Training Accuracy: 0.9731, Testing Accuracy: 0.9708\n",
      "\n"
     ]
    },
    {
     "name": "stdout",
     "output_type": "stream",
     "text": [
      "Epoch 150, Loss 0.0229\n",
      "Training Accuracy: 0.9740, Testing Accuracy: 0.9708\n",
      "\n"
     ]
    },
    {
     "name": "stdout",
     "output_type": "stream",
     "text": [
      "Epoch 160, Loss 0.0224\n",
      "Training Accuracy: 0.9748, Testing Accuracy: 0.9713\n",
      "\n"
     ]
    },
    {
     "name": "stdout",
     "output_type": "stream",
     "text": [
      "Epoch 170, Loss 0.0219\n",
      "Training Accuracy: 0.9752, Testing Accuracy: 0.9713\n",
      "\n"
     ]
    },
    {
     "name": "stdout",
     "output_type": "stream",
     "text": [
      "Epoch 180, Loss 0.0214\n",
      "Training Accuracy: 0.9759, Testing Accuracy: 0.9718\n",
      "\n"
     ]
    },
    {
     "name": "stdout",
     "output_type": "stream",
     "text": [
      "Epoch 190, Loss 0.021\n",
      "Training Accuracy: 0.9767, Testing Accuracy: 0.9718\n",
      "\n"
     ]
    },
    {
     "name": "stdout",
     "output_type": "stream",
     "text": [
      "Epoch 200, Loss 0.0206\n",
      "Training Accuracy: 0.9769, Testing Accuracy: 0.9718\n",
      "\n"
     ]
    },
    {
     "name": "stdout",
     "output_type": "stream",
     "text": [
      "Epoch 210, Loss 0.0202\n",
      "Training Accuracy: 0.9775, Testing Accuracy: 0.9723\n",
      "\n"
     ]
    },
    {
     "name": "stdout",
     "output_type": "stream",
     "text": [
      "Epoch 220, Loss 0.0198\n",
      "Training Accuracy: 0.9783, Testing Accuracy: 0.9723\n",
      "\n"
     ]
    },
    {
     "name": "stdout",
     "output_type": "stream",
     "text": [
      "Epoch 230, Loss 0.0194\n",
      "Training Accuracy: 0.9787, Testing Accuracy: 0.9723\n",
      "\n"
     ]
    },
    {
     "name": "stdout",
     "output_type": "stream",
     "text": [
      "Epoch 240, Loss 0.019\n",
      "Training Accuracy: 0.9791, Testing Accuracy: 0.9738\n",
      "\n"
     ]
    },
    {
     "data": {
      "text/plain": [
       "0.008540386054497086"
      ]
     },
     "execution_count": 22,
     "metadata": {},
     "output_type": "execute_result"
    }
   ],
   "source": [
    "nn_learner.train_loop(dl)"
   ]
  },
  {
   "cell_type": "code",
   "execution_count": 23,
   "id": "e0163366",
   "metadata": {
    "execution": {
     "iopub.execute_input": "2022-02-19T00:31:15.958200Z",
     "iopub.status.busy": "2022-02-19T00:31:15.957732Z",
     "iopub.status.idle": "2022-02-19T00:31:29.394894Z",
     "shell.execute_reply": "2022-02-19T00:31:29.395596Z"
    },
    "papermill": {
     "duration": 13.480035,
     "end_time": "2022-02-19T00:31:29.395746",
     "exception": false,
     "start_time": "2022-02-19T00:31:15.915711",
     "status": "completed"
    },
    "tags": []
   },
   "outputs": [
    {
     "name": "stdout",
     "output_type": "stream",
     "text": [
      "Epoch 0, Loss 0.2571\n",
      "Training Accuracy: 0.6466, Testing Accuracy: 0.6472\n",
      "\n"
     ]
    },
    {
     "name": "stdout",
     "output_type": "stream",
     "text": [
      "Epoch 10, Loss 0.1026\n",
      "Training Accuracy: 0.9127, Testing Accuracy: 0.9264\n",
      "\n"
     ]
    },
    {
     "name": "stdout",
     "output_type": "stream",
     "text": [
      "Epoch 20, Loss 0.079\n",
      "Training Accuracy: 0.9281, Testing Accuracy: 0.9435\n",
      "\n"
     ]
    },
    {
     "name": "stdout",
     "output_type": "stream",
     "text": [
      "Epoch 30, Loss 0.0682\n",
      "Training Accuracy: 0.9351, Testing Accuracy: 0.9511\n",
      "\n"
     ]
    },
    {
     "name": "stdout",
     "output_type": "stream",
     "text": [
      "Epoch 40, Loss 0.0616\n",
      "Training Accuracy: 0.9405, Testing Accuracy: 0.9551\n",
      "\n"
     ]
    },
    {
     "name": "stdout",
     "output_type": "stream",
     "text": [
      "Epoch 50, Loss 0.0572\n",
      "Training Accuracy: 0.9437, Testing Accuracy: 0.9556\n",
      "\n"
     ]
    },
    {
     "name": "stdout",
     "output_type": "stream",
     "text": [
      "Epoch 60, Loss 0.0539\n",
      "Training Accuracy: 0.9463, Testing Accuracy: 0.9567\n",
      "\n"
     ]
    },
    {
     "name": "stdout",
     "output_type": "stream",
     "text": [
      "Epoch 70, Loss 0.0513\n",
      "Training Accuracy: 0.9486, Testing Accuracy: 0.9567\n",
      "\n"
     ]
    },
    {
     "name": "stdout",
     "output_type": "stream",
     "text": [
      "Epoch 80, Loss 0.0493\n",
      "Training Accuracy: 0.9498, Testing Accuracy: 0.9592\n",
      "\n"
     ]
    },
    {
     "name": "stdout",
     "output_type": "stream",
     "text": [
      "Epoch 90, Loss 0.0476\n",
      "Training Accuracy: 0.9517, Testing Accuracy: 0.9612\n",
      "\n"
     ]
    },
    {
     "name": "stdout",
     "output_type": "stream",
     "text": [
      "Epoch 100, Loss 0.0462\n",
      "Training Accuracy: 0.9530, Testing Accuracy: 0.9617\n",
      "\n"
     ]
    },
    {
     "name": "stdout",
     "output_type": "stream",
     "text": [
      "Epoch 110, Loss 0.045\n",
      "Training Accuracy: 0.9538, Testing Accuracy: 0.9632\n",
      "\n"
     ]
    },
    {
     "name": "stdout",
     "output_type": "stream",
     "text": [
      "Epoch 120, Loss 0.0439\n",
      "Training Accuracy: 0.9547, Testing Accuracy: 0.9652\n",
      "\n"
     ]
    },
    {
     "name": "stdout",
     "output_type": "stream",
     "text": [
      "Epoch 130, Loss 0.043\n",
      "Training Accuracy: 0.9555, Testing Accuracy: 0.9657\n",
      "\n"
     ]
    },
    {
     "name": "stdout",
     "output_type": "stream",
     "text": [
      "Epoch 140, Loss 0.0421\n",
      "Training Accuracy: 0.9563, Testing Accuracy: 0.9657\n",
      "\n"
     ]
    },
    {
     "name": "stdout",
     "output_type": "stream",
     "text": [
      "Epoch 150, Loss 0.0414\n",
      "Training Accuracy: 0.9569, Testing Accuracy: 0.9667\n",
      "\n"
     ]
    },
    {
     "name": "stdout",
     "output_type": "stream",
     "text": [
      "Epoch 160, Loss 0.0407\n",
      "Training Accuracy: 0.9573, Testing Accuracy: 0.9667\n",
      "\n"
     ]
    },
    {
     "name": "stdout",
     "output_type": "stream",
     "text": [
      "Epoch 170, Loss 0.0401\n",
      "Training Accuracy: 0.9578, Testing Accuracy: 0.9667\n",
      "\n"
     ]
    },
    {
     "name": "stdout",
     "output_type": "stream",
     "text": [
      "Epoch 180, Loss 0.0395\n",
      "Training Accuracy: 0.9584, Testing Accuracy: 0.9662\n",
      "\n"
     ]
    },
    {
     "name": "stdout",
     "output_type": "stream",
     "text": [
      "Epoch 190, Loss 0.039\n",
      "Training Accuracy: 0.9592, Testing Accuracy: 0.9662\n",
      "\n"
     ]
    },
    {
     "name": "stdout",
     "output_type": "stream",
     "text": [
      "Epoch 200, Loss 0.0385\n",
      "Training Accuracy: 0.9598, Testing Accuracy: 0.9667\n",
      "\n"
     ]
    },
    {
     "name": "stdout",
     "output_type": "stream",
     "text": [
      "Epoch 210, Loss 0.0381\n",
      "Training Accuracy: 0.9604, Testing Accuracy: 0.9672\n",
      "\n"
     ]
    },
    {
     "name": "stdout",
     "output_type": "stream",
     "text": [
      "Epoch 220, Loss 0.0377\n",
      "Training Accuracy: 0.9604, Testing Accuracy: 0.9672\n",
      "\n"
     ]
    },
    {
     "name": "stdout",
     "output_type": "stream",
     "text": [
      "Epoch 230, Loss 0.0373\n",
      "Training Accuracy: 0.9605, Testing Accuracy: 0.9672\n",
      "\n"
     ]
    },
    {
     "name": "stdout",
     "output_type": "stream",
     "text": [
      "Epoch 240, Loss 0.0369\n",
      "Training Accuracy: 0.9607, Testing Accuracy: 0.9672\n",
      "\n"
     ]
    },
    {
     "data": {
      "text/plain": [
       "0.0284613168355978"
      ]
     },
     "execution_count": 23,
     "metadata": {},
     "output_type": "execute_result"
    }
   ],
   "source": [
    "lr_learner.train_loop(dl)"
   ]
  },
  {
   "cell_type": "code",
   "execution_count": 24,
   "id": "ca410940",
   "metadata": {
    "execution": {
     "iopub.execute_input": "2022-02-19T00:31:29.482556Z",
     "iopub.status.busy": "2022-02-19T00:31:29.482077Z",
     "iopub.status.idle": "2022-02-19T00:31:29.686025Z",
     "shell.execute_reply": "2022-02-19T00:31:29.686401Z"
    },
    "papermill": {
     "duration": 0.254177,
     "end_time": "2022-02-19T00:31:29.686537",
     "exception": false,
     "start_time": "2022-02-19T00:31:29.432360",
     "status": "completed"
    },
    "tags": []
   },
   "outputs": [
    {
     "data": {
      "text/plain": [
       "<matplotlib.legend.Legend at 0x7fb0f6df3d30>"
      ]
     },
     "execution_count": 24,
     "metadata": {},
     "output_type": "execute_result"
    },
    {
     "data": {
      "image/png": "[encoded data removed]",
      "text/plain": [
       "<Figure size 1080x720 with 1 Axes>"
      ]
     },
     "metadata": {
      "needs_background": "light"
     },
     "output_type": "display_data"
    }
   ],
   "source": [
    "#comparing the results of NN and LR\n",
    "plt.figure(figsize=(15,10))\n",
    "\n",
    "# Neural Network plots\n",
    "plt.plot(acc_nn.accuracies, 'r-', label = \"Training Accuracies - NN\")\n",
    "plt.plot(acc_nn.test_accuracies, 'g-', label = \"Testing Accuracies - NN\")\n",
    "\n",
    "# Logistic Regression plots\n",
    "plt.plot(acc_lr.accuracies, 'k-', label = \"Training Accuracies - LR\")\n",
    "plt.plot(acc_lr.test_accuracies, 'b-', label = \"Testing Accuracies - LR\")\n",
    "plt.legend()"
   ]
  },
  {
   "cell_type": "markdown",
   "id": "80dfb35c",
   "metadata": {
    "papermill": {
     "duration": 0.036967,
     "end_time": "2022-02-19T00:31:29.760953",
     "exception": false,
     "start_time": "2022-02-19T00:31:29.723986",
     "status": "completed"
    },
    "tags": []
   },
   "source": [
    "#### Plotting the outputs of this layer of the NN.\n"
   ]
  },
  {
   "cell_type": "code",
   "execution_count": 25,
   "id": "45eb2ff5",
   "metadata": {
    "execution": {
     "iopub.execute_input": "2022-02-19T00:31:29.839231Z",
     "iopub.status.busy": "2022-02-19T00:31:29.838741Z",
     "iopub.status.idle": "2022-02-19T00:31:29.858819Z",
     "shell.execute_reply": "2022-02-19T00:31:29.859215Z"
    },
    "papermill": {
     "duration": 0.061512,
     "end_time": "2022-02-19T00:31:29.859360",
     "exception": false,
     "start_time": "2022-02-19T00:31:29.797848",
     "status": "completed"
    },
    "tags": []
   },
   "outputs": [],
   "source": [
    "new_model = Model(layers[:-2])\n",
    "testing_plot = new_model(testing_data_x)"
   ]
  },
  {
   "cell_type": "code",
   "execution_count": 26,
   "id": "4c0a5485",
   "metadata": {
    "execution": {
     "iopub.execute_input": "2022-02-19T00:31:29.940758Z",
     "iopub.status.busy": "2022-02-19T00:31:29.940282Z",
     "iopub.status.idle": "2022-02-19T00:31:30.136340Z",
     "shell.execute_reply": "2022-02-19T00:31:30.135947Z"
    },
    "papermill": {
     "duration": 0.237613,
     "end_time": "2022-02-19T00:31:30.136456",
     "exception": false,
     "start_time": "2022-02-19T00:31:29.898843",
     "status": "completed"
    },
    "tags": []
   },
   "outputs": [
    {
     "data": {
      "text/plain": [
       "Text(0.5, 1.0, 'Outputs')"
      ]
     },
     "execution_count": 26,
     "metadata": {},
     "output_type": "execute_result"
    },
    {
     "data": {
      "image/png": "[encoded data removed]",
      "text/plain": [
       "<Figure size 576x504 with 1 Axes>"
      ]
     },
     "metadata": {
      "needs_background": "light"
     },
     "output_type": "display_data"
    }
   ],
   "source": [
    "# Plotting the scatter plot of points and color coding by class\n",
    "plt.figure(figsize=(8,7))\n",
    "plt.scatter(testing_plot[:,0], testing_plot[:,1], alpha = 0.1, c = y_test.ravel());\n",
    "plt.title('Outputs')"
   ]
  },
  {
   "cell_type": "markdown",
   "id": "a74fcf8f",
   "metadata": {
    "papermill": {
     "duration": 0.03888,
     "end_time": "2022-02-19T00:31:30.214506",
     "exception": false,
     "start_time": "2022-02-19T00:31:30.175626",
     "status": "completed"
    },
    "tags": []
   },
   "source": [
    "Probability contours"
   ]
  },
  {
   "cell_type": "code",
   "execution_count": 27,
   "id": "d0afc8e3",
   "metadata": {
    "execution": {
     "iopub.execute_input": "2022-02-19T00:31:30.297258Z",
     "iopub.status.busy": "2022-02-19T00:31:30.296801Z",
     "iopub.status.idle": "2022-02-19T00:31:30.308149Z",
     "shell.execute_reply": "2022-02-19T00:31:30.307780Z"
    },
    "papermill": {
     "duration": 0.054734,
     "end_time": "2022-02-19T00:31:30.308254",
     "exception": false,
     "start_time": "2022-02-19T00:31:30.253520",
     "status": "completed"
    },
    "tags": []
   },
   "outputs": [],
   "source": [
    "model_prob = Model(layers[-2:]) "
   ]
  },
  {
   "cell_type": "code",
   "execution_count": 28,
   "id": "9b96e238",
   "metadata": {
    "execution": {
     "iopub.execute_input": "2022-02-19T00:31:30.394437Z",
     "iopub.status.busy": "2022-02-19T00:31:30.393987Z",
     "iopub.status.idle": "2022-02-19T00:31:30.404398Z",
     "shell.execute_reply": "2022-02-19T00:31:30.404793Z"
    },
    "papermill": {
     "duration": 0.057915,
     "end_time": "2022-02-19T00:31:30.404927",
     "exception": false,
     "start_time": "2022-02-19T00:31:30.347012",
     "status": "completed"
    },
    "tags": []
   },
   "outputs": [],
   "source": [
    "#creating the x and y ranges according to the above generated plot.\n",
    "x_range = np.linspace(-4, 1, 100) \n",
    "y_range = np.linspace(-6, 6, 100) \n",
    "x_grid, y_grid = np.meshgrid(x_range, y_range) # x_grid and y_grig are of size 100 X 100\n",
    "\n",
    "# converting x_grid and y_grid to continuous arrays\n",
    "x_gridflat = np.ravel(x_grid)\n",
    "y_gridflat = np.ravel(y_grid)\n",
    "\n",
    "# The last layer of the current model takes two columns as input. Hence transpose of np.vstack() is required.\n",
    "X = np.vstack((x_gridflat, y_gridflat)).T\n",
    "\n",
    "prob_contour = model_prob(X).reshape(100,100) "
   ]
  },
  {
   "cell_type": "code",
   "execution_count": 29,
   "id": "da72499a",
   "metadata": {
    "execution": {
     "iopub.execute_input": "2022-02-19T00:31:30.527846Z",
     "iopub.status.busy": "2022-02-19T00:31:30.527382Z",
     "iopub.status.idle": "2022-02-19T00:31:30.782352Z",
     "shell.execute_reply": "2022-02-19T00:31:30.782824Z"
    },
    "papermill": {
     "duration": 0.333977,
     "end_time": "2022-02-19T00:31:30.782987",
     "exception": false,
     "start_time": "2022-02-19T00:31:30.449010",
     "status": "completed"
    },
    "tags": []
   },
   "outputs": [
    {
     "data": {
      "image/png": "[encoded data removed]",
      "text/plain": [
       "<Figure size 720x648 with 1 Axes>"
      ]
     },
     "metadata": {
      "needs_background": "light"
     },
     "output_type": "display_data"
    }
   ],
   "source": [
    "plt.figure(figsize=(10,9))\n",
    "plt.scatter(testing_plot[:,0], testing_plot[:,1], alpha = 0.1, c = y_test.ravel())\n",
    "contours = plt.contour(x_grid,y_grid,prob_contour)\n",
    "plt.title('Probability Contours')\n",
    "plt.clabel(contours, inline = True );"
   ]
  },
  {
   "cell_type": "code",
   "execution_count": null,
   "id": "e81b4ac7",
   "metadata": {
    "papermill": {
     "duration": 0.041073,
     "end_time": "2022-02-19T00:31:30.865883",
     "exception": false,
     "start_time": "2022-02-19T00:31:30.824810",
     "status": "completed"
    },
    "tags": []
   },
   "outputs": [],
   "source": []
  }
 ],
 "metadata": {
  "kernelspec": {
   "display_name": "Python 3",
   "language": "python",
   "name": "python3"
  },
  "language_info": {
   "codemirror_mode": {
    "name": "ipython",
    "version": 3
   },
   "file_extension": ".py",
   "mimetype": "text/x-python",
   "name": "python",
   "nbconvert_exporter": "python",
   "pygments_lexer": "ipython3",
   "version": "3.6.15"
  },
  "papermill": {
   "default_parameters": {},
   "duration": 97.174884,
   "end_time": "2022-02-19T00:31:31.325722",
   "environment_variables": {},
   "exception": null,
   "input_path": "2020-08-11-part2.ipynb",
   "output_path": "2020-08-11-part2.ipynb",
   "parameters": {},
   "start_time": "2022-02-19T00:29:54.150838",
   "version": "2.3.3"
  }
 },
 "nbformat": 4,
 "nbformat_minor": 5
}