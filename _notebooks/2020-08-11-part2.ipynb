{
 "cells": [
  {
   "cell_type": "markdown",
   "id": "98380cd3",
   "metadata": {
    "papermill": {
     "duration": 0.030623,
     "end_time": "2022-11-29T20:10:15.812926",
     "exception": false,
     "start_time": "2022-11-29T20:10:15.782303",
     "status": "completed"
    },
    "tags": []
   },
   "source": [
    "# Distinguish Your Own Digits (DYOD)"
   ]
  },
  {
   "cell_type": "markdown",
   "id": "ef31240d",
   "metadata": {
    "papermill": {
     "duration": 0.023816,
     "end_time": "2022-11-29T20:10:15.861749",
     "exception": false,
     "start_time": "2022-11-29T20:10:15.837933",
     "status": "completed"
    },
    "tags": []
   },
   "source": [
    "You are going to write a classifier that distinguishes between the number 3 and number 8."
   ]
  },
  {
   "cell_type": "code",
   "execution_count": 1,
   "id": "b15c8646",
   "metadata": {
    "execution": {
     "iopub.execute_input": "2022-11-29T20:10:15.920963Z",
     "iopub.status.busy": "2022-11-29T20:10:15.920331Z",
     "iopub.status.idle": "2022-11-29T20:10:15.931764Z",
     "shell.execute_reply": "2022-11-29T20:10:15.933289Z"
    },
    "papermill": {
     "duration": 0.048045,
     "end_time": "2022-11-29T20:10:15.933527",
     "exception": false,
     "start_time": "2022-11-29T20:10:15.885482",
     "status": "completed"
    },
    "tags": []
   },
   "outputs": [],
   "source": [
    "%load_ext autoreload\n",
    "%autoreload 2"
   ]
  },
  {
   "cell_type": "code",
   "execution_count": 2,
   "id": "22ef38dc",
   "metadata": {
    "execution": {
     "iopub.execute_input": "2022-11-29T20:10:15.986426Z",
     "iopub.status.busy": "2022-11-29T20:10:15.985803Z",
     "iopub.status.idle": "2022-11-29T20:10:16.569524Z",
     "shell.execute_reply": "2022-11-29T20:10:16.568915Z"
    },
    "papermill": {
     "duration": 0.611979,
     "end_time": "2022-11-29T20:10:16.569673",
     "exception": false,
     "start_time": "2022-11-29T20:10:15.957694",
     "status": "completed"
    },
    "tags": []
   },
   "outputs": [],
   "source": [
    "%matplotlib inline\n",
    "import numpy as np\n",
    "import matplotlib.pyplot as plt\n",
    "import pandas as pd"
   ]
  },
  {
   "cell_type": "markdown",
   "id": "ba036198",
   "metadata": {
    "papermill": {
     "duration": 0.023767,
     "end_time": "2022-11-29T20:10:16.617747",
     "exception": false,
     "start_time": "2022-11-29T20:10:16.593980",
     "status": "completed"
    },
    "tags": []
   },
   "source": [
    "From the command line run `pip install mnist`. This is a library that will help you bring down the mnist dataset. If you run this from a notebook, you need to put  `!pip install mnist` in a cell by itself."
   ]
  },
  {
   "cell_type": "code",
   "execution_count": 3,
   "id": "bb6ad8a1",
   "metadata": {
    "execution": {
     "iopub.execute_input": "2022-11-29T20:10:16.670921Z",
     "iopub.status.busy": "2022-11-29T20:10:16.670296Z",
     "iopub.status.idle": "2022-11-29T20:10:18.303868Z",
     "shell.execute_reply": "2022-11-29T20:10:18.304443Z"
    },
    "papermill": {
     "duration": 1.662922,
     "end_time": "2022-11-29T20:10:18.304610",
     "exception": false,
     "start_time": "2022-11-29T20:10:16.641688",
     "status": "completed"
    },
    "tags": []
   },
   "outputs": [
    {
     "name": "stdout",
     "output_type": "stream",
     "text": [
      "Collecting mnist\r\n"
     ]
    },
    {
     "name": "stdout",
     "output_type": "stream",
     "text": [
      "  Downloading mnist-0.2.2-py2.py3-none-any.whl (3.5 kB)\r\n",
      "Requirement already satisfied: numpy in /opt/hostedtoolcache/Python/3.6.15/x64/lib/python3.6/site-packages (from mnist) (1.19.5)\r\n"
     ]
    },
    {
     "name": "stdout",
     "output_type": "stream",
     "text": [
      "Installing collected packages: mnist\r\n"
     ]
    },
    {
     "name": "stdout",
     "output_type": "stream",
     "text": [
      "Successfully installed mnist-0.2.2\r\n"
     ]
    }
   ],
   "source": [
    "!pip install mnist"
   ]
  },
  {
   "cell_type": "markdown",
   "id": "69df9c9a",
   "metadata": {
    "papermill": {
     "duration": 0.025683,
     "end_time": "2022-11-29T20:10:18.355841",
     "exception": false,
     "start_time": "2022-11-29T20:10:18.330158",
     "status": "completed"
    },
    "tags": []
   },
   "source": [
    "## Preparing the Data"
   ]
  },
  {
   "cell_type": "code",
   "execution_count": 4,
   "id": "7f69d806",
   "metadata": {
    "execution": {
     "iopub.execute_input": "2022-11-29T20:10:18.409027Z",
     "iopub.status.busy": "2022-11-29T20:10:18.408437Z",
     "iopub.status.idle": "2022-11-29T20:10:18.423903Z",
     "shell.execute_reply": "2022-11-29T20:10:18.424490Z"
    },
    "papermill": {
     "duration": 0.043883,
     "end_time": "2022-11-29T20:10:18.424636",
     "exception": false,
     "start_time": "2022-11-29T20:10:18.380753",
     "status": "completed"
    },
    "tags": []
   },
   "outputs": [],
   "source": [
    "import mnist"
   ]
  },
  {
   "cell_type": "code",
   "execution_count": 5,
   "id": "a411e44f",
   "metadata": {
    "execution": {
     "iopub.execute_input": "2022-11-29T20:10:18.479245Z",
     "iopub.status.busy": "2022-11-29T20:10:18.478637Z",
     "iopub.status.idle": "2022-11-29T20:10:18.999520Z",
     "shell.execute_reply": "2022-11-29T20:10:18.998093Z"
    },
    "papermill": {
     "duration": 0.549793,
     "end_time": "2022-11-29T20:10:18.999674",
     "exception": false,
     "start_time": "2022-11-29T20:10:18.449881",
     "status": "completed"
    },
    "tags": []
   },
   "outputs": [],
   "source": [
    "train_images = mnist.train_images()\n",
    "train_labels = mnist.train_labels()"
   ]
  },
  {
   "cell_type": "code",
   "execution_count": 6,
   "id": "dceab3a5",
   "metadata": {
    "execution": {
     "iopub.execute_input": "2022-11-29T20:10:19.054833Z",
     "iopub.status.busy": "2022-11-29T20:10:19.054113Z",
     "iopub.status.idle": "2022-11-29T20:10:19.069902Z",
     "shell.execute_reply": "2022-11-29T20:10:19.069348Z"
    },
    "papermill": {
     "duration": 0.044872,
     "end_time": "2022-11-29T20:10:19.070029",
     "exception": false,
     "start_time": "2022-11-29T20:10:19.025157",
     "status": "completed"
    },
    "tags": []
   },
   "outputs": [
    {
     "data": {
      "text/plain": [
       "((60000, 28, 28), (60000,))"
      ]
     },
     "execution_count": 6,
     "metadata": {},
     "output_type": "execute_result"
    }
   ],
   "source": [
    "train_images.shape, train_labels.shape"
   ]
  },
  {
   "cell_type": "code",
   "execution_count": 7,
   "id": "f50dc2bb",
   "metadata": {
    "execution": {
     "iopub.execute_input": "2022-11-29T20:10:19.129087Z",
     "iopub.status.busy": "2022-11-29T20:10:19.128478Z",
     "iopub.status.idle": "2022-11-29T20:10:19.297942Z",
     "shell.execute_reply": "2022-11-29T20:10:19.296787Z"
    },
    "papermill": {
     "duration": 0.20249,
     "end_time": "2022-11-29T20:10:19.298104",
     "exception": false,
     "start_time": "2022-11-29T20:10:19.095614",
     "status": "completed"
    },
    "tags": []
   },
   "outputs": [],
   "source": [
    "test_images = mnist.test_images()\n",
    "test_labels = mnist.test_labels()"
   ]
  },
  {
   "cell_type": "code",
   "execution_count": 8,
   "id": "fc38cf1b",
   "metadata": {
    "execution": {
     "iopub.execute_input": "2022-11-29T20:10:19.361779Z",
     "iopub.status.busy": "2022-11-29T20:10:19.361100Z",
     "iopub.status.idle": "2022-11-29T20:10:19.374284Z",
     "shell.execute_reply": "2022-11-29T20:10:19.373766Z"
    },
    "papermill": {
     "duration": 0.044444,
     "end_time": "2022-11-29T20:10:19.374415",
     "exception": false,
     "start_time": "2022-11-29T20:10:19.329971",
     "status": "completed"
    },
    "tags": []
   },
   "outputs": [
    {
     "data": {
      "text/plain": [
       "((10000, 28, 28), (10000,))"
      ]
     },
     "execution_count": 8,
     "metadata": {},
     "output_type": "execute_result"
    }
   ],
   "source": [
    "test_images.shape, test_labels.shape"
   ]
  },
  {
   "cell_type": "code",
   "execution_count": 9,
   "id": "f9ed8fe0",
   "metadata": {
    "execution": {
     "iopub.execute_input": "2022-11-29T20:10:19.432619Z",
     "iopub.status.busy": "2022-11-29T20:10:19.431945Z",
     "iopub.status.idle": "2022-11-29T20:10:19.573841Z",
     "shell.execute_reply": "2022-11-29T20:10:19.574386Z"
    },
    "papermill": {
     "duration": 0.174556,
     "end_time": "2022-11-29T20:10:19.574543",
     "exception": false,
     "start_time": "2022-11-29T20:10:19.399987",
     "status": "completed"
    },
    "tags": []
   },
   "outputs": [
    {
     "name": "stdout",
     "output_type": "stream",
     "text": [
      "2\n"
     ]
    },
    {
     "data": {
      "text/plain": [
       "<matplotlib.image.AxesImage at 0x7f7c3cdc6d68>"
      ]
     },
     "execution_count": 9,
     "metadata": {},
     "output_type": "execute_result"
    },
    {
     "data": {
      "image/png": "[encoded data removed]",
      "text/plain": [
       "<Figure size 432x288 with 1 Axes>"
      ]
     },
     "metadata": {
      "needs_background": "light"
     },
     "output_type": "display_data"
    }
   ],
   "source": [
    "image_index = 7776 # You may select anything up to 60,000\n",
    "print(train_labels[image_index]) \n",
    "plt.imshow(train_images[image_index], cmap='Greys')"
   ]
  },
  {
   "cell_type": "markdown",
   "id": "a8d2388d",
   "metadata": {
    "papermill": {
     "duration": 0.026664,
     "end_time": "2022-11-29T20:10:19.627942",
     "exception": false,
     "start_time": "2022-11-29T20:10:19.601278",
     "status": "completed"
    },
    "tags": []
   },
   "source": [
    "## Filter data to get 3 and 8 out"
   ]
  },
  {
   "cell_type": "code",
   "execution_count": 10,
   "id": "776f7fc7",
   "metadata": {
    "execution": {
     "iopub.execute_input": "2022-11-29T20:10:19.686956Z",
     "iopub.status.busy": "2022-11-29T20:10:19.686198Z",
     "iopub.status.idle": "2022-11-29T20:10:19.704437Z",
     "shell.execute_reply": "2022-11-29T20:10:19.703740Z"
    },
    "papermill": {
     "duration": 0.050117,
     "end_time": "2022-11-29T20:10:19.704644",
     "exception": false,
     "start_time": "2022-11-29T20:10:19.654527",
     "status": "completed"
    },
    "tags": []
   },
   "outputs": [],
   "source": [
    "train_filter = np.where((train_labels == 3 ) | (train_labels == 8))\n",
    "test_filter = np.where((test_labels == 3) | (test_labels == 8))\n",
    "X_train, y_train = train_images[train_filter], train_labels[train_filter]\n",
    "X_test, y_test = test_images[test_filter], test_labels[test_filter]"
   ]
  },
  {
   "cell_type": "markdown",
   "id": "948f0b7e",
   "metadata": {
    "papermill": {
     "duration": 0.026459,
     "end_time": "2022-11-29T20:10:19.758178",
     "exception": false,
     "start_time": "2022-11-29T20:10:19.731719",
     "status": "completed"
    },
    "tags": []
   },
   "source": [
    "We normalize the pizel values in the 0 to 1 range"
   ]
  },
  {
   "cell_type": "code",
   "execution_count": 11,
   "id": "ee4c2166",
   "metadata": {
    "execution": {
     "iopub.execute_input": "2022-11-29T20:10:19.815709Z",
     "iopub.status.busy": "2022-11-29T20:10:19.815091Z",
     "iopub.status.idle": "2022-11-29T20:10:19.861763Z",
     "shell.execute_reply": "2022-11-29T20:10:19.861126Z"
    },
    "papermill": {
     "duration": 0.077181,
     "end_time": "2022-11-29T20:10:19.861920",
     "exception": false,
     "start_time": "2022-11-29T20:10:19.784739",
     "status": "completed"
    },
    "tags": []
   },
   "outputs": [],
   "source": [
    "X_train = X_train/255.\n",
    "X_test = X_test/255."
   ]
  },
  {
   "cell_type": "markdown",
   "id": "ddcf4fab",
   "metadata": {
    "papermill": {
     "duration": 0.026379,
     "end_time": "2022-11-29T20:10:19.915062",
     "exception": false,
     "start_time": "2022-11-29T20:10:19.888683",
     "status": "completed"
    },
    "tags": []
   },
   "source": [
    "And setup the labels as 1 (when the digit is 3) and 0 (when the digit is 8)"
   ]
  },
  {
   "cell_type": "code",
   "execution_count": 12,
   "id": "7dc908f2",
   "metadata": {
    "execution": {
     "iopub.execute_input": "2022-11-29T20:10:19.979144Z",
     "iopub.status.busy": "2022-11-29T20:10:19.978495Z",
     "iopub.status.idle": "2022-11-29T20:10:19.987203Z",
     "shell.execute_reply": "2022-11-29T20:10:19.986710Z"
    },
    "papermill": {
     "duration": 0.045861,
     "end_time": "2022-11-29T20:10:19.987327",
     "exception": false,
     "start_time": "2022-11-29T20:10:19.941466",
     "status": "completed"
    },
    "tags": []
   },
   "outputs": [],
   "source": [
    "y_train = 1*(y_train==3)\n",
    "y_test = 1*(y_test==3)"
   ]
  },
  {
   "cell_type": "code",
   "execution_count": 13,
   "id": "01e4e969",
   "metadata": {
    "execution": {
     "iopub.execute_input": "2022-11-29T20:10:20.043750Z",
     "iopub.status.busy": "2022-11-29T20:10:20.043146Z",
     "iopub.status.idle": "2022-11-29T20:10:20.058372Z",
     "shell.execute_reply": "2022-11-29T20:10:20.058843Z"
    },
    "papermill": {
     "duration": 0.045088,
     "end_time": "2022-11-29T20:10:20.059002",
     "exception": false,
     "start_time": "2022-11-29T20:10:20.013914",
     "status": "completed"
    },
    "tags": []
   },
   "outputs": [
    {
     "data": {
      "text/plain": [
       "((11982, 28, 28), (1984, 28, 28))"
      ]
     },
     "execution_count": 13,
     "metadata": {},
     "output_type": "execute_result"
    }
   ],
   "source": [
    "X_train.shape, X_test.shape"
   ]
  },
  {
   "cell_type": "markdown",
   "id": "5ccf3f85",
   "metadata": {
    "papermill": {
     "duration": 0.026565,
     "end_time": "2022-11-29T20:10:20.112364",
     "exception": false,
     "start_time": "2022-11-29T20:10:20.085799",
     "status": "completed"
    },
    "tags": []
   },
   "source": [
    "We reshape the data to flatten the image pixels into a set of features or co-variates:"
   ]
  },
  {
   "cell_type": "code",
   "execution_count": 14,
   "id": "5286a4a3",
   "metadata": {
    "execution": {
     "iopub.execute_input": "2022-11-29T20:10:20.170394Z",
     "iopub.status.busy": "2022-11-29T20:10:20.169789Z",
     "iopub.status.idle": "2022-11-29T20:10:20.184052Z",
     "shell.execute_reply": "2022-11-29T20:10:20.184538Z"
    },
    "papermill": {
     "duration": 0.045469,
     "end_time": "2022-11-29T20:10:20.184684",
     "exception": false,
     "start_time": "2022-11-29T20:10:20.139215",
     "status": "completed"
    },
    "tags": []
   },
   "outputs": [
    {
     "data": {
      "text/plain": [
       "((11982, 784), (1984, 784))"
      ]
     },
     "execution_count": 14,
     "metadata": {},
     "output_type": "execute_result"
    }
   ],
   "source": [
    "X_train = X_train.reshape(X_train.shape[0], -1)\n",
    "X_test = X_test.reshape(X_test.shape[0], -1)\n",
    "X_train.shape, X_test.shape"
   ]
  },
  {
   "cell_type": "code",
   "execution_count": 15,
   "id": "73c5f88a",
   "metadata": {
    "execution": {
     "iopub.execute_input": "2022-11-29T20:10:20.244457Z",
     "iopub.status.busy": "2022-11-29T20:10:20.243570Z",
     "iopub.status.idle": "2022-11-29T20:10:20.263433Z",
     "shell.execute_reply": "2022-11-29T20:10:20.262749Z"
    },
    "papermill": {
     "duration": 0.051724,
     "end_time": "2022-11-29T20:10:20.263555",
     "exception": false,
     "start_time": "2022-11-29T20:10:20.211831",
     "status": "completed"
    },
    "tags": []
   },
   "outputs": [],
   "source": [
    "#Impoting functions from 'Kudzu'\n",
    "from kudzu.model import Model\n",
    "from kudzu.train import Learner\n",
    "from kudzu.optim import GD\n",
    "from kudzu.data import Data, Sampler,Dataloader\n",
    "\n",
    "from kudzu.callbacks import AccCallback\n",
    "from kudzu.callbacks import ClfCallback\n",
    "\n",
    "from kudzu.loss import MSE\n",
    "\n",
    "from kudzu.layer import Sigmoid,Relu\n",
    "from kudzu.layer import Affine"
   ]
  },
  {
   "cell_type": "markdown",
   "id": "bc01172a",
   "metadata": {
    "papermill": {
     "duration": 0.027209,
     "end_time": "2022-11-29T20:10:20.321231",
     "exception": false,
     "start_time": "2022-11-29T20:10:20.294022",
     "status": "completed"
    },
    "tags": []
   },
   "source": [
    "### Let us create a `Config` class, to store important parameters. \n",
    "This class essentially plays the role of a dictionary."
   ]
  },
  {
   "cell_type": "code",
   "execution_count": 16,
   "id": "978281aa",
   "metadata": {
    "execution": {
     "iopub.execute_input": "2022-11-29T20:10:20.379343Z",
     "iopub.status.busy": "2022-11-29T20:10:20.378735Z",
     "iopub.status.idle": "2022-11-29T20:10:20.391972Z",
     "shell.execute_reply": "2022-11-29T20:10:20.392432Z"
    },
    "papermill": {
     "duration": 0.044602,
     "end_time": "2022-11-29T20:10:20.392571",
     "exception": false,
     "start_time": "2022-11-29T20:10:20.347969",
     "status": "completed"
    },
    "tags": []
   },
   "outputs": [],
   "source": [
    "class Config:\n",
    "    pass\n",
    "config = Config()\n",
    "config.lr = 0.001\n",
    "config.num_epochs = 250\n",
    "config.bs = 50"
   ]
  },
  {
   "cell_type": "markdown",
   "id": "1385fa59",
   "metadata": {
    "papermill": {
     "duration": 0.029245,
     "end_time": "2022-11-29T20:10:20.453957",
     "exception": false,
     "start_time": "2022-11-29T20:10:20.424712",
     "status": "completed"
    },
    "tags": []
   },
   "source": [
    "### Running Models with the Training data\n",
    "Details about the network layers:\n",
    "- A first affine layer has 784 inputs and does 100 affine transforms. These are followed by a Relu\n",
    "- A second affine layer has 100 inputs from the 100 activations of the past layer, and does 100 affine transforms. These are followed by a Relu\n",
    "- A third affine layer has 100 activations and does 2 affine transformations to create an embedding for visualization. There is no non-linearity here.\n",
    "- A final \"logistic regression\" which has an affine transform from 2 inputs to 1 output, which is squeezed through a sigmoid.\n"
   ]
  },
  {
   "cell_type": "code",
   "execution_count": 17,
   "id": "2b9c66db",
   "metadata": {
    "execution": {
     "iopub.execute_input": "2022-11-29T20:10:20.514982Z",
     "iopub.status.busy": "2022-11-29T20:10:20.514363Z",
     "iopub.status.idle": "2022-11-29T20:10:20.526230Z",
     "shell.execute_reply": "2022-11-29T20:10:20.525739Z"
    },
    "papermill": {
     "duration": 0.045522,
     "end_time": "2022-11-29T20:10:20.526351",
     "exception": false,
     "start_time": "2022-11-29T20:10:20.480829",
     "status": "completed"
    },
    "tags": []
   },
   "outputs": [],
   "source": [
    "data = Data(X_train, y_train.reshape(-1,1))\n",
    "sampler = Sampler(data, config.bs, shuffle=True)\n",
    "\n",
    "dl = Dataloader(data, sampler)\n",
    "\n",
    "opt = GD(config.lr)\n",
    "loss = MSE()"
   ]
  },
  {
   "cell_type": "code",
   "execution_count": 18,
   "id": "b275e4c2",
   "metadata": {
    "execution": {
     "iopub.execute_input": "2022-11-29T20:10:20.584805Z",
     "iopub.status.busy": "2022-11-29T20:10:20.584193Z",
     "iopub.status.idle": "2022-11-29T20:10:20.597465Z",
     "shell.execute_reply": "2022-11-29T20:10:20.596954Z"
    },
    "papermill": {
     "duration": 0.044205,
     "end_time": "2022-11-29T20:10:20.597586",
     "exception": false,
     "start_time": "2022-11-29T20:10:20.553381",
     "status": "completed"
    },
    "tags": []
   },
   "outputs": [],
   "source": [
    "training_data_x = X_train\n",
    "testing_data_x = X_test\n",
    "training_data_y = y_train.reshape(-1,1)\n",
    "testing_data_y = y_test.reshape(-1,1)"
   ]
  },
  {
   "cell_type": "code",
   "execution_count": 19,
   "id": "76951160",
   "metadata": {
    "execution": {
     "iopub.execute_input": "2022-11-29T20:10:20.662530Z",
     "iopub.status.busy": "2022-11-29T20:10:20.661912Z",
     "iopub.status.idle": "2022-11-29T20:10:20.675114Z",
     "shell.execute_reply": "2022-11-29T20:10:20.674629Z"
    },
    "papermill": {
     "duration": 0.050759,
     "end_time": "2022-11-29T20:10:20.675232",
     "exception": false,
     "start_time": "2022-11-29T20:10:20.624473",
     "status": "completed"
    },
    "tags": []
   },
   "outputs": [
    {
     "name": "stdout",
     "output_type": "stream",
     "text": [
      "xavier\n",
      "xavier\n",
      "xavier\n",
      "xavier\n",
      "xavier\n"
     ]
    }
   ],
   "source": [
    "layers = [Affine(\"first\", 784, 100), Relu(\"first\"), Affine(\"second\", 100, 100), Relu(\"second\"), Affine(\"third\", 100, 2), Affine(\"last\", 2, 1), Sigmoid(\"last\")]\n",
    "model_nn = Model(layers)\n",
    "model_lr = Model([Affine(\"logits\", 784, 1), Sigmoid(\"sigmoid\")])"
   ]
  },
  {
   "cell_type": "code",
   "execution_count": 20,
   "id": "6eede77a",
   "metadata": {
    "execution": {
     "iopub.execute_input": "2022-11-29T20:10:20.734566Z",
     "iopub.status.busy": "2022-11-29T20:10:20.733954Z",
     "iopub.status.idle": "2022-11-29T20:10:20.747128Z",
     "shell.execute_reply": "2022-11-29T20:10:20.746640Z"
    },
    "papermill": {
     "duration": 0.044664,
     "end_time": "2022-11-29T20:10:20.747246",
     "exception": false,
     "start_time": "2022-11-29T20:10:20.702582",
     "status": "completed"
    },
    "tags": []
   },
   "outputs": [],
   "source": [
    "nn_learner = Learner(loss, model_nn, opt, config.num_epochs)\n",
    "acc_nn = ClfCallback(nn_learner, config.bs, training_data_x , testing_data_x, training_data_y, testing_data_y)\n",
    "nn_learner.set_callbacks([acc_nn])"
   ]
  },
  {
   "cell_type": "code",
   "execution_count": 21,
   "id": "877b6cc7",
   "metadata": {
    "execution": {
     "iopub.execute_input": "2022-11-29T20:10:20.806777Z",
     "iopub.status.busy": "2022-11-29T20:10:20.806180Z",
     "iopub.status.idle": "2022-11-29T20:10:20.819011Z",
     "shell.execute_reply": "2022-11-29T20:10:20.818535Z"
    },
    "papermill": {
     "duration": 0.044542,
     "end_time": "2022-11-29T20:10:20.819125",
     "exception": false,
     "start_time": "2022-11-29T20:10:20.774583",
     "status": "completed"
    },
    "tags": []
   },
   "outputs": [],
   "source": [
    "lr_learner = Learner(loss, model_lr, opt, config.num_epochs)\n",
    "acc_lr = ClfCallback(lr_learner, config.bs, training_data_x , testing_data_x, training_data_y, testing_data_y)\n",
    "lr_learner.set_callbacks([acc_lr])"
   ]
  },
  {
   "cell_type": "code",
   "execution_count": 22,
   "id": "d9b133c3",
   "metadata": {
    "execution": {
     "iopub.execute_input": "2022-11-29T20:10:20.878336Z",
     "iopub.status.busy": "2022-11-29T20:10:20.877732Z",
     "iopub.status.idle": "2022-11-29T20:11:43.335629Z",
     "shell.execute_reply": "2022-11-29T20:11:43.336545Z"
    },
    "papermill": {
     "duration": 82.489795,
     "end_time": "2022-11-29T20:11:43.336706",
     "exception": false,
     "start_time": "2022-11-29T20:10:20.846911",
     "status": "completed"
    },
    "tags": []
   },
   "outputs": [
    {
     "name": "stdout",
     "output_type": "stream",
     "text": [
      "Epoch 0, Loss 0.2288\n",
      "Training Accuracy: 0.7347, Testing Accuracy: 0.7616\n",
      "\n"
     ]
    },
    {
     "name": "stdout",
     "output_type": "stream",
     "text": [
      "Epoch 10, Loss 0.0704\n",
      "Training Accuracy: 0.9346, Testing Accuracy: 0.9476\n",
      "\n"
     ]
    },
    {
     "name": "stdout",
     "output_type": "stream",
     "text": [
      "Epoch 20, Loss 0.0482\n",
      "Training Accuracy: 0.9501, Testing Accuracy: 0.9572\n",
      "\n"
     ]
    },
    {
     "name": "stdout",
     "output_type": "stream",
     "text": [
      "Epoch 30, Loss 0.0401\n",
      "Training Accuracy: 0.9557, Testing Accuracy: 0.9607\n",
      "\n"
     ]
    },
    {
     "name": "stdout",
     "output_type": "stream",
     "text": [
      "Epoch 40, Loss 0.0357\n",
      "Training Accuracy: 0.9590, Testing Accuracy: 0.9642\n",
      "\n"
     ]
    },
    {
     "name": "stdout",
     "output_type": "stream",
     "text": [
      "Epoch 50, Loss 0.0329\n",
      "Training Accuracy: 0.9622, Testing Accuracy: 0.9652\n",
      "\n"
     ]
    },
    {
     "name": "stdout",
     "output_type": "stream",
     "text": [
      "Epoch 60, Loss 0.0307\n",
      "Training Accuracy: 0.9634, Testing Accuracy: 0.9642\n",
      "\n"
     ]
    },
    {
     "name": "stdout",
     "output_type": "stream",
     "text": [
      "Epoch 70, Loss 0.0291\n",
      "Training Accuracy: 0.9655, Testing Accuracy: 0.9652\n",
      "\n"
     ]
    },
    {
     "name": "stdout",
     "output_type": "stream",
     "text": [
      "Epoch 80, Loss 0.0278\n",
      "Training Accuracy: 0.9678, Testing Accuracy: 0.9657\n",
      "\n"
     ]
    },
    {
     "name": "stdout",
     "output_type": "stream",
     "text": [
      "Epoch 90, Loss 0.0266\n",
      "Training Accuracy: 0.9688, Testing Accuracy: 0.9667\n",
      "\n"
     ]
    },
    {
     "name": "stdout",
     "output_type": "stream",
     "text": [
      "Epoch 100, Loss 0.0256\n",
      "Training Accuracy: 0.9703, Testing Accuracy: 0.9672\n",
      "\n"
     ]
    },
    {
     "name": "stdout",
     "output_type": "stream",
     "text": [
      "Epoch 110, Loss 0.0248\n",
      "Training Accuracy: 0.9711, Testing Accuracy: 0.9693\n",
      "\n"
     ]
    },
    {
     "name": "stdout",
     "output_type": "stream",
     "text": [
      "Epoch 120, Loss 0.024\n",
      "Training Accuracy: 0.9717, Testing Accuracy: 0.9693\n",
      "\n"
     ]
    },
    {
     "name": "stdout",
     "output_type": "stream",
     "text": [
      "Epoch 130, Loss 0.0233\n",
      "Training Accuracy: 0.9725, Testing Accuracy: 0.9723\n",
      "\n"
     ]
    },
    {
     "name": "stdout",
     "output_type": "stream",
     "text": [
      "Epoch 140, Loss 0.0226\n",
      "Training Accuracy: 0.9731, Testing Accuracy: 0.9728\n",
      "\n"
     ]
    },
    {
     "name": "stdout",
     "output_type": "stream",
     "text": [
      "Epoch 150, Loss 0.022\n",
      "Training Accuracy: 0.9737, Testing Accuracy: 0.9728\n",
      "\n"
     ]
    },
    {
     "name": "stdout",
     "output_type": "stream",
     "text": [
      "Epoch 160, Loss 0.0214\n",
      "Training Accuracy: 0.9747, Testing Accuracy: 0.9733\n",
      "\n"
     ]
    },
    {
     "name": "stdout",
     "output_type": "stream",
     "text": [
      "Epoch 170, Loss 0.0209\n",
      "Training Accuracy: 0.9757, Testing Accuracy: 0.9738\n",
      "\n"
     ]
    },
    {
     "name": "stdout",
     "output_type": "stream",
     "text": [
      "Epoch 180, Loss 0.0204\n",
      "Training Accuracy: 0.9764, Testing Accuracy: 0.9733\n",
      "\n"
     ]
    },
    {
     "name": "stdout",
     "output_type": "stream",
     "text": [
      "Epoch 190, Loss 0.0199\n",
      "Training Accuracy: 0.9774, Testing Accuracy: 0.9728\n",
      "\n"
     ]
    },
    {
     "name": "stdout",
     "output_type": "stream",
     "text": [
      "Epoch 200, Loss 0.0194\n",
      "Training Accuracy: 0.9784, Testing Accuracy: 0.9728\n",
      "\n"
     ]
    },
    {
     "name": "stdout",
     "output_type": "stream",
     "text": [
      "Epoch 210, Loss 0.019\n",
      "Training Accuracy: 0.9787, Testing Accuracy: 0.9738\n",
      "\n"
     ]
    },
    {
     "name": "stdout",
     "output_type": "stream",
     "text": [
      "Epoch 220, Loss 0.0185\n",
      "Training Accuracy: 0.9800, Testing Accuracy: 0.9738\n",
      "\n"
     ]
    },
    {
     "name": "stdout",
     "output_type": "stream",
     "text": [
      "Epoch 230, Loss 0.0181\n",
      "Training Accuracy: 0.9798, Testing Accuracy: 0.9748\n",
      "\n"
     ]
    },
    {
     "name": "stdout",
     "output_type": "stream",
     "text": [
      "Epoch 240, Loss 0.0177\n",
      "Training Accuracy: 0.9803, Testing Accuracy: 0.9753\n",
      "\n"
     ]
    },
    {
     "data": {
      "text/plain": [
       "0.03133295935879184"
      ]
     },
     "execution_count": 22,
     "metadata": {},
     "output_type": "execute_result"
    }
   ],
   "source": [
    "nn_learner.train_loop(dl)"
   ]
  },
  {
   "cell_type": "code",
   "execution_count": 23,
   "id": "e0163366",
   "metadata": {
    "execution": {
     "iopub.execute_input": "2022-11-29T20:11:43.415623Z",
     "iopub.status.busy": "2022-11-29T20:11:43.414975Z",
     "iopub.status.idle": "2022-11-29T20:11:58.232388Z",
     "shell.execute_reply": "2022-11-29T20:11:58.233094Z"
    },
    "papermill": {
     "duration": 14.861623,
     "end_time": "2022-11-29T20:11:58.233249",
     "exception": false,
     "start_time": "2022-11-29T20:11:43.371626",
     "status": "completed"
    },
    "tags": []
   },
   "outputs": [
    {
     "name": "stdout",
     "output_type": "stream",
     "text": [
      "Epoch 0, Loss 0.243\n",
      "Training Accuracy: 0.6575, Testing Accuracy: 0.6361\n",
      "\n"
     ]
    },
    {
     "name": "stdout",
     "output_type": "stream",
     "text": [
      "Epoch 10, Loss 0.1033\n",
      "Training Accuracy: 0.9087, Testing Accuracy: 0.9153\n",
      "\n"
     ]
    },
    {
     "name": "stdout",
     "output_type": "stream",
     "text": [
      "Epoch 20, Loss 0.0792\n",
      "Training Accuracy: 0.9277, Testing Accuracy: 0.9365\n",
      "\n"
     ]
    },
    {
     "name": "stdout",
     "output_type": "stream",
     "text": [
      "Epoch 30, Loss 0.0681\n",
      "Training Accuracy: 0.9352, Testing Accuracy: 0.9486\n",
      "\n"
     ]
    },
    {
     "name": "stdout",
     "output_type": "stream",
     "text": [
      "Epoch 40, Loss 0.0615\n",
      "Training Accuracy: 0.9394, Testing Accuracy: 0.9486\n",
      "\n"
     ]
    },
    {
     "name": "stdout",
     "output_type": "stream",
     "text": [
      "Epoch 50, Loss 0.057\n",
      "Training Accuracy: 0.9448, Testing Accuracy: 0.9516\n",
      "\n"
     ]
    },
    {
     "name": "stdout",
     "output_type": "stream",
     "text": [
      "Epoch 60, Loss 0.0537\n",
      "Training Accuracy: 0.9470, Testing Accuracy: 0.9536\n",
      "\n"
     ]
    },
    {
     "name": "stdout",
     "output_type": "stream",
     "text": [
      "Epoch 70, Loss 0.0511\n",
      "Training Accuracy: 0.9488, Testing Accuracy: 0.9556\n",
      "\n"
     ]
    },
    {
     "name": "stdout",
     "output_type": "stream",
     "text": [
      "Epoch 80, Loss 0.0491\n",
      "Training Accuracy: 0.9500, Testing Accuracy: 0.9592\n",
      "\n"
     ]
    },
    {
     "name": "stdout",
     "output_type": "stream",
     "text": [
      "Epoch 90, Loss 0.0474\n",
      "Training Accuracy: 0.9513, Testing Accuracy: 0.9592\n",
      "\n"
     ]
    },
    {
     "name": "stdout",
     "output_type": "stream",
     "text": [
      "Epoch 100, Loss 0.046\n",
      "Training Accuracy: 0.9533, Testing Accuracy: 0.9602\n",
      "\n"
     ]
    },
    {
     "name": "stdout",
     "output_type": "stream",
     "text": [
      "Epoch 110, Loss 0.0448\n",
      "Training Accuracy: 0.9539, Testing Accuracy: 0.9607\n",
      "\n"
     ]
    },
    {
     "name": "stdout",
     "output_type": "stream",
     "text": [
      "Epoch 120, Loss 0.0437\n",
      "Training Accuracy: 0.9549, Testing Accuracy: 0.9617\n",
      "\n"
     ]
    },
    {
     "name": "stdout",
     "output_type": "stream",
     "text": [
      "Epoch 130, Loss 0.0428\n",
      "Training Accuracy: 0.9559, Testing Accuracy: 0.9637\n",
      "\n"
     ]
    },
    {
     "name": "stdout",
     "output_type": "stream",
     "text": [
      "Epoch 140, Loss 0.042\n",
      "Training Accuracy: 0.9566, Testing Accuracy: 0.9642\n",
      "\n"
     ]
    },
    {
     "name": "stdout",
     "output_type": "stream",
     "text": [
      "Epoch 150, Loss 0.0412\n",
      "Training Accuracy: 0.9574, Testing Accuracy: 0.9652\n",
      "\n"
     ]
    },
    {
     "name": "stdout",
     "output_type": "stream",
     "text": [
      "Epoch 160, Loss 0.0406\n",
      "Training Accuracy: 0.9577, Testing Accuracy: 0.9652\n",
      "\n"
     ]
    },
    {
     "name": "stdout",
     "output_type": "stream",
     "text": [
      "Epoch 170, Loss 0.04\n",
      "Training Accuracy: 0.9580, Testing Accuracy: 0.9662\n",
      "\n"
     ]
    },
    {
     "name": "stdout",
     "output_type": "stream",
     "text": [
      "Epoch 180, Loss 0.0394\n",
      "Training Accuracy: 0.9583, Testing Accuracy: 0.9662\n",
      "\n"
     ]
    },
    {
     "name": "stdout",
     "output_type": "stream",
     "text": [
      "Epoch 190, Loss 0.0389\n",
      "Training Accuracy: 0.9590, Testing Accuracy: 0.9662\n",
      "\n"
     ]
    },
    {
     "name": "stdout",
     "output_type": "stream",
     "text": [
      "Epoch 200, Loss 0.0384\n",
      "Training Accuracy: 0.9594, Testing Accuracy: 0.9677\n",
      "\n"
     ]
    },
    {
     "name": "stdout",
     "output_type": "stream",
     "text": [
      "Epoch 210, Loss 0.038\n",
      "Training Accuracy: 0.9598, Testing Accuracy: 0.9672\n",
      "\n"
     ]
    },
    {
     "name": "stdout",
     "output_type": "stream",
     "text": [
      "Epoch 220, Loss 0.0376\n",
      "Training Accuracy: 0.9604, Testing Accuracy: 0.9672\n",
      "\n"
     ]
    },
    {
     "name": "stdout",
     "output_type": "stream",
     "text": [
      "Epoch 230, Loss 0.0372\n",
      "Training Accuracy: 0.9605, Testing Accuracy: 0.9667\n",
      "\n"
     ]
    },
    {
     "name": "stdout",
     "output_type": "stream",
     "text": [
      "Epoch 240, Loss 0.0368\n",
      "Training Accuracy: 0.9608, Testing Accuracy: 0.9667\n",
      "\n"
     ]
    },
    {
     "data": {
      "text/plain": [
       "0.0444940399565984"
      ]
     },
     "execution_count": 23,
     "metadata": {},
     "output_type": "execute_result"
    }
   ],
   "source": [
    "lr_learner.train_loop(dl)"
   ]
  },
  {
   "cell_type": "code",
   "execution_count": 24,
   "id": "ca410940",
   "metadata": {
    "execution": {
     "iopub.execute_input": "2022-11-29T20:11:58.327410Z",
     "iopub.status.busy": "2022-11-29T20:11:58.326735Z",
     "iopub.status.idle": "2022-11-29T20:11:58.559307Z",
     "shell.execute_reply": "2022-11-29T20:11:58.559753Z"
    },
    "papermill": {
     "duration": 0.285311,
     "end_time": "2022-11-29T20:11:58.559908",
     "exception": false,
     "start_time": "2022-11-29T20:11:58.274597",
     "status": "completed"
    },
    "tags": []
   },
   "outputs": [
    {
     "data": {
      "text/plain": [
       "<matplotlib.legend.Legend at 0x7f7c30188550>"
      ]
     },
     "execution_count": 24,
     "metadata": {},
     "output_type": "execute_result"
    },
    {
     "data": {
      "image/png": "[encoded data removed]",
      "text/plain": [
       "<Figure size 1080x720 with 1 Axes>"
      ]
     },
     "metadata": {
      "needs_background": "light"
     },
     "output_type": "display_data"
    }
   ],
   "source": [
    "#comparing the results of NN and LR\n",
    "plt.figure(figsize=(15,10))\n",
    "\n",
    "# Neural Network plots\n",
    "plt.plot(acc_nn.accuracies, 'r-', label = \"Training Accuracies - NN\")\n",
    "plt.plot(acc_nn.test_accuracies, 'g-', label = \"Testing Accuracies - NN\")\n",
    "\n",
    "# Logistic Regression plots\n",
    "plt.plot(acc_lr.accuracies, 'k-', label = \"Training Accuracies - LR\")\n",
    "plt.plot(acc_lr.test_accuracies, 'b-', label = \"Testing Accuracies - LR\")\n",
    "plt.legend()"
   ]
  },
  {
   "cell_type": "markdown",
   "id": "80dfb35c",
   "metadata": {
    "papermill": {
     "duration": 0.042527,
     "end_time": "2022-11-29T20:11:58.645133",
     "exception": false,
     "start_time": "2022-11-29T20:11:58.602606",
     "status": "completed"
    },
    "tags": []
   },
   "source": [
    "#### Plotting the outputs of this layer of the NN.\n"
   ]
  },
  {
   "cell_type": "code",
   "execution_count": 25,
   "id": "45eb2ff5",
   "metadata": {
    "execution": {
     "iopub.execute_input": "2022-11-29T20:11:58.734294Z",
     "iopub.status.busy": "2022-11-29T20:11:58.733658Z",
     "iopub.status.idle": "2022-11-29T20:11:58.756514Z",
     "shell.execute_reply": "2022-11-29T20:11:58.757019Z"
    },
    "papermill": {
     "duration": 0.069907,
     "end_time": "2022-11-29T20:11:58.757171",
     "exception": false,
     "start_time": "2022-11-29T20:11:58.687264",
     "status": "completed"
    },
    "tags": []
   },
   "outputs": [],
   "source": [
    "new_model = Model(layers[:-2])\n",
    "testing_plot = new_model(testing_data_x)"
   ]
  },
  {
   "cell_type": "code",
   "execution_count": 26,
   "id": "4c0a5485",
   "metadata": {
    "execution": {
     "iopub.execute_input": "2022-11-29T20:11:58.846774Z",
     "iopub.status.busy": "2022-11-29T20:11:58.846172Z",
     "iopub.status.idle": "2022-11-29T20:11:59.064973Z",
     "shell.execute_reply": "2022-11-29T20:11:59.064455Z"
    },
    "papermill": {
     "duration": 0.265552,
     "end_time": "2022-11-29T20:11:59.065098",
     "exception": false,
     "start_time": "2022-11-29T20:11:58.799546",
     "status": "completed"
    },
    "tags": []
   },
   "outputs": [
    {
     "data": {
      "text/plain": [
       "Text(0.5, 1.0, 'Outputs')"
      ]
     },
     "execution_count": 26,
     "metadata": {},
     "output_type": "execute_result"
    },
    {
     "data": {
      "image/png": "[encoded data removed]",
      "text/plain": [
       "<Figure size 576x504 with 1 Axes>"
      ]
     },
     "metadata": {
      "needs_background": "light"
     },
     "output_type": "display_data"
    }
   ],
   "source": [
    "# Plotting the scatter plot of points and color coding by class\n",
    "plt.figure(figsize=(8,7))\n",
    "plt.scatter(testing_plot[:,0], testing_plot[:,1], alpha = 0.1, c = y_test.ravel());\n",
    "plt.title('Outputs')"
   ]
  },
  {
   "cell_type": "markdown",
   "id": "a74fcf8f",
   "metadata": {
    "papermill": {
     "duration": 0.052318,
     "end_time": "2022-11-29T20:11:59.169029",
     "exception": false,
     "start_time": "2022-11-29T20:11:59.116711",
     "status": "completed"
    },
    "tags": []
   },
   "source": [
    "Probability contours"
   ]
  },
  {
   "cell_type": "code",
   "execution_count": 27,
   "id": "d0afc8e3",
   "metadata": {
    "execution": {
     "iopub.execute_input": "2022-11-29T20:11:59.301739Z",
     "iopub.status.busy": "2022-11-29T20:11:59.301111Z",
     "iopub.status.idle": "2022-11-29T20:11:59.315638Z",
     "shell.execute_reply": "2022-11-29T20:11:59.316087Z"
    },
    "papermill": {
     "duration": 0.063942,
     "end_time": "2022-11-29T20:11:59.316228",
     "exception": false,
     "start_time": "2022-11-29T20:11:59.252286",
     "status": "completed"
    },
    "tags": []
   },
   "outputs": [],
   "source": [
    "model_prob = Model(layers[-2:]) "
   ]
  },
  {
   "cell_type": "code",
   "execution_count": 28,
   "id": "9b96e238",
   "metadata": {
    "execution": {
     "iopub.execute_input": "2022-11-29T20:11:59.412562Z",
     "iopub.status.busy": "2022-11-29T20:11:59.411945Z",
     "iopub.status.idle": "2022-11-29T20:11:59.428137Z",
     "shell.execute_reply": "2022-11-29T20:11:59.428568Z"
    },
    "papermill": {
     "duration": 0.067279,
     "end_time": "2022-11-29T20:11:59.428714",
     "exception": false,
     "start_time": "2022-11-29T20:11:59.361435",
     "status": "completed"
    },
    "tags": []
   },
   "outputs": [],
   "source": [
    "#creating the x and y ranges according to the above generated plot.\n",
    "x_range = np.linspace(-4, 1, 100) \n",
    "y_range = np.linspace(-6, 6, 100) \n",
    "x_grid, y_grid = np.meshgrid(x_range, y_range) # x_grid and y_grig are of size 100 X 100\n",
    "\n",
    "# converting x_grid and y_grid to continuous arrays\n",
    "x_gridflat = np.ravel(x_grid)\n",
    "y_gridflat = np.ravel(y_grid)\n",
    "\n",
    "# The last layer of the current model takes two columns as input. Hence transpose of np.vstack() is required.\n",
    "X = np.vstack((x_gridflat, y_gridflat)).T\n",
    "\n",
    "prob_contour = model_prob(X).reshape(100,100) "
   ]
  },
  {
   "cell_type": "code",
   "execution_count": 29,
   "id": "da72499a",
   "metadata": {
    "execution": {
     "iopub.execute_input": "2022-11-29T20:11:59.523827Z",
     "iopub.status.busy": "2022-11-29T20:11:59.523216Z",
     "iopub.status.idle": "2022-11-29T20:11:59.777052Z",
     "shell.execute_reply": "2022-11-29T20:11:59.776450Z"
    },
    "papermill": {
     "duration": 0.30324,
     "end_time": "2022-11-29T20:11:59.777192",
     "exception": false,
     "start_time": "2022-11-29T20:11:59.473952",
     "status": "completed"
    },
    "tags": []
   },
   "outputs": [
    {
     "data": {
      "image/png": "[encoded data removed]",
      "text/plain": [
       "<Figure size 720x648 with 1 Axes>"
      ]
     },
     "metadata": {
      "needs_background": "light"
     },
     "output_type": "display_data"
    }
   ],
   "source": [
    "plt.figure(figsize=(10,9))\n",
    "plt.scatter(testing_plot[:,0], testing_plot[:,1], alpha = 0.1, c = y_test.ravel())\n",
    "contours = plt.contour(x_grid,y_grid,prob_contour)\n",
    "plt.title('Probability Contours')\n",
    "plt.clabel(contours, inline = True );"
   ]
  },
  {
   "cell_type": "code",
   "execution_count": null,
   "id": "e81b4ac7",
   "metadata": {
    "papermill": {
     "duration": 0.047388,
     "end_time": "2022-11-29T20:11:59.872353",
     "exception": false,
     "start_time": "2022-11-29T20:11:59.824965",
     "status": "completed"
    },
    "tags": []
   },
   "outputs": [],
   "source": []
  }
 ],
 "metadata": {
  "kernelspec": {
   "display_name": "Python 3",
   "language": "python",
   "name": "python3"
  },
  "language_info": {
   "codemirror_mode": {
    "name": "ipython",
    "version": 3
   },
   "file_extension": ".py",
   "mimetype": "text/x-python",
   "name": "python",
   "nbconvert_exporter": "python",
   "pygments_lexer": "ipython3",
   "version": "3.6.15"
  },
  "papermill": {
   "default_parameters": {},
   "duration": 105.917734,
   "end_time": "2022-11-29T20:12:00.440002",
   "environment_variables": {},
   "exception": null,
   "input_path": "2020-08-11-part2.ipynb",
   "output_path": "2020-08-11-part2.ipynb",
   "parameters": {},
   "start_time": "2022-11-29T20:10:14.522268",
   "version": "2.3.3"
  }
 },
 "nbformat": 4,
 "nbformat_minor": 5
}