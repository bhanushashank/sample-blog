{
 "cells": [
  {
   "cell_type": "markdown",
   "id": "98380cd3",
   "metadata": {
    "papermill": {
     "duration": 0.030331,
     "end_time": "2022-08-14T00:41:55.238757",
     "exception": false,
     "start_time": "2022-08-14T00:41:55.208426",
     "status": "completed"
    },
    "tags": []
   },
   "source": [
    "# Distinguish Your Own Digits (DYOD)"
   ]
  },
  {
   "cell_type": "markdown",
   "id": "ef31240d",
   "metadata": {
    "papermill": {
     "duration": 0.023793,
     "end_time": "2022-08-14T00:41:55.286761",
     "exception": false,
     "start_time": "2022-08-14T00:41:55.262968",
     "status": "completed"
    },
    "tags": []
   },
   "source": [
    "You are going to write a classifier that distinguishes between the number 3 and number 8."
   ]
  },
  {
   "cell_type": "code",
   "execution_count": 1,
   "id": "b15c8646",
   "metadata": {
    "execution": {
     "iopub.execute_input": "2022-08-14T00:41:55.345447Z",
     "iopub.status.busy": "2022-08-14T00:41:55.344818Z",
     "iopub.status.idle": "2022-08-14T00:41:55.357134Z",
     "shell.execute_reply": "2022-08-14T00:41:55.356607Z"
    },
    "papermill": {
     "duration": 0.046652,
     "end_time": "2022-08-14T00:41:55.357278",
     "exception": false,
     "start_time": "2022-08-14T00:41:55.310626",
     "status": "completed"
    },
    "tags": []
   },
   "outputs": [],
   "source": [
    "%load_ext autoreload\n",
    "%autoreload 2"
   ]
  },
  {
   "cell_type": "code",
   "execution_count": 2,
   "id": "22ef38dc",
   "metadata": {
    "execution": {
     "iopub.execute_input": "2022-08-14T00:41:55.408318Z",
     "iopub.status.busy": "2022-08-14T00:41:55.407717Z",
     "iopub.status.idle": "2022-08-14T00:41:55.969312Z",
     "shell.execute_reply": "2022-08-14T00:41:55.968745Z"
    },
    "papermill": {
     "duration": 0.588366,
     "end_time": "2022-08-14T00:41:55.969455",
     "exception": false,
     "start_time": "2022-08-14T00:41:55.381089",
     "status": "completed"
    },
    "tags": []
   },
   "outputs": [],
   "source": [
    "%matplotlib inline\n",
    "import numpy as np\n",
    "import matplotlib.pyplot as plt\n",
    "import pandas as pd"
   ]
  },
  {
   "cell_type": "markdown",
   "id": "ba036198",
   "metadata": {
    "papermill": {
     "duration": 0.023682,
     "end_time": "2022-08-14T00:41:56.016948",
     "exception": false,
     "start_time": "2022-08-14T00:41:55.993266",
     "status": "completed"
    },
    "tags": []
   },
   "source": [
    "From the command line run `pip install mnist`. This is a library that will help you bring down the mnist dataset. If you run this from a notebook, you need to put  `!pip install mnist` in a cell by itself."
   ]
  },
  {
   "cell_type": "code",
   "execution_count": 3,
   "id": "bb6ad8a1",
   "metadata": {
    "execution": {
     "iopub.execute_input": "2022-08-14T00:41:56.080446Z",
     "iopub.status.busy": "2022-08-14T00:41:56.074549Z",
     "iopub.status.idle": "2022-08-14T00:41:57.677389Z",
     "shell.execute_reply": "2022-08-14T00:41:57.676863Z"
    },
    "papermill": {
     "duration": 1.636942,
     "end_time": "2022-08-14T00:41:57.677516",
     "exception": false,
     "start_time": "2022-08-14T00:41:56.040574",
     "status": "completed"
    },
    "tags": []
   },
   "outputs": [
    {
     "name": "stdout",
     "output_type": "stream",
     "text": [
      "Collecting mnist\r\n",
      "  Downloading mnist-0.2.2-py2.py3-none-any.whl (3.5 kB)\r\n",
      "Requirement already satisfied: numpy in /opt/hostedtoolcache/Python/3.6.15/x64/lib/python3.6/site-packages (from mnist) (1.19.5)\r\n"
     ]
    },
    {
     "name": "stdout",
     "output_type": "stream",
     "text": [
      "Installing collected packages: mnist\r\n",
      "Successfully installed mnist-0.2.2\r\n"
     ]
    }
   ],
   "source": [
    "!pip install mnist"
   ]
  },
  {
   "cell_type": "markdown",
   "id": "69df9c9a",
   "metadata": {
    "papermill": {
     "duration": 0.024735,
     "end_time": "2022-08-14T00:41:57.726548",
     "exception": false,
     "start_time": "2022-08-14T00:41:57.701813",
     "status": "completed"
    },
    "tags": []
   },
   "source": [
    "## Preparing the Data"
   ]
  },
  {
   "cell_type": "code",
   "execution_count": 4,
   "id": "7f69d806",
   "metadata": {
    "execution": {
     "iopub.execute_input": "2022-08-14T00:41:57.794936Z",
     "iopub.status.busy": "2022-08-14T00:41:57.788491Z",
     "iopub.status.idle": "2022-08-14T00:41:57.799168Z",
     "shell.execute_reply": "2022-08-14T00:41:57.798652Z"
    },
    "papermill": {
     "duration": 0.048713,
     "end_time": "2022-08-14T00:41:57.799294",
     "exception": false,
     "start_time": "2022-08-14T00:41:57.750581",
     "status": "completed"
    },
    "tags": []
   },
   "outputs": [],
   "source": [
    "import mnist"
   ]
  },
  {
   "cell_type": "code",
   "execution_count": 5,
   "id": "a411e44f",
   "metadata": {
    "execution": {
     "iopub.execute_input": "2022-08-14T00:41:57.866548Z",
     "iopub.status.busy": "2022-08-14T00:41:57.863903Z",
     "iopub.status.idle": "2022-08-14T00:41:58.387090Z",
     "shell.execute_reply": "2022-08-14T00:41:58.386487Z"
    },
    "papermill": {
     "duration": 0.563534,
     "end_time": "2022-08-14T00:41:58.387230",
     "exception": false,
     "start_time": "2022-08-14T00:41:57.823696",
     "status": "completed"
    },
    "tags": []
   },
   "outputs": [],
   "source": [
    "train_images = mnist.train_images()\n",
    "train_labels = mnist.train_labels()"
   ]
  },
  {
   "cell_type": "code",
   "execution_count": 6,
   "id": "dceab3a5",
   "metadata": {
    "execution": {
     "iopub.execute_input": "2022-08-14T00:41:58.448743Z",
     "iopub.status.busy": "2022-08-14T00:41:58.447819Z",
     "iopub.status.idle": "2022-08-14T00:41:58.462577Z",
     "shell.execute_reply": "2022-08-14T00:41:58.463052Z"
    },
    "papermill": {
     "duration": 0.050607,
     "end_time": "2022-08-14T00:41:58.463189",
     "exception": false,
     "start_time": "2022-08-14T00:41:58.412582",
     "status": "completed"
    },
    "tags": []
   },
   "outputs": [
    {
     "data": {
      "text/plain": [
       "((60000, 28, 28), (60000,))"
      ]
     },
     "execution_count": 6,
     "metadata": {},
     "output_type": "execute_result"
    }
   ],
   "source": [
    "train_images.shape, train_labels.shape"
   ]
  },
  {
   "cell_type": "code",
   "execution_count": 7,
   "id": "f50dc2bb",
   "metadata": {
    "execution": {
     "iopub.execute_input": "2022-08-14T00:41:58.523915Z",
     "iopub.status.busy": "2022-08-14T00:41:58.523292Z",
     "iopub.status.idle": "2022-08-14T00:41:58.700485Z",
     "shell.execute_reply": "2022-08-14T00:41:58.701453Z"
    },
    "papermill": {
     "duration": 0.214158,
     "end_time": "2022-08-14T00:41:58.701636",
     "exception": false,
     "start_time": "2022-08-14T00:41:58.487478",
     "status": "completed"
    },
    "tags": []
   },
   "outputs": [],
   "source": [
    "test_images = mnist.test_images()\n",
    "test_labels = mnist.test_labels()"
   ]
  },
  {
   "cell_type": "code",
   "execution_count": 8,
   "id": "fc38cf1b",
   "metadata": {
    "execution": {
     "iopub.execute_input": "2022-08-14T00:41:58.755844Z",
     "iopub.status.busy": "2022-08-14T00:41:58.755185Z",
     "iopub.status.idle": "2022-08-14T00:41:58.769255Z",
     "shell.execute_reply": "2022-08-14T00:41:58.768767Z"
    },
    "papermill": {
     "duration": 0.042612,
     "end_time": "2022-08-14T00:41:58.769377",
     "exception": false,
     "start_time": "2022-08-14T00:41:58.726765",
     "status": "completed"
    },
    "tags": []
   },
   "outputs": [
    {
     "data": {
      "text/plain": [
       "((10000, 28, 28), (10000,))"
      ]
     },
     "execution_count": 8,
     "metadata": {},
     "output_type": "execute_result"
    }
   ],
   "source": [
    "test_images.shape, test_labels.shape"
   ]
  },
  {
   "cell_type": "code",
   "execution_count": 9,
   "id": "f9ed8fe0",
   "metadata": {
    "execution": {
     "iopub.execute_input": "2022-08-14T00:41:58.823727Z",
     "iopub.status.busy": "2022-08-14T00:41:58.823120Z",
     "iopub.status.idle": "2022-08-14T00:41:58.965684Z",
     "shell.execute_reply": "2022-08-14T00:41:58.966208Z"
    },
    "papermill": {
     "duration": 0.172455,
     "end_time": "2022-08-14T00:41:58.966365",
     "exception": false,
     "start_time": "2022-08-14T00:41:58.793910",
     "status": "completed"
    },
    "tags": []
   },
   "outputs": [
    {
     "name": "stdout",
     "output_type": "stream",
     "text": [
      "2\n"
     ]
    },
    {
     "data": {
      "text/plain": [
       "<matplotlib.image.AxesImage at 0x7fcfc61cf4e0>"
      ]
     },
     "execution_count": 9,
     "metadata": {},
     "output_type": "execute_result"
    },
    {
     "data": {
      "image/png": "[encoded data removed]",
      "text/plain": [
       "<Figure size 432x288 with 1 Axes>"
      ]
     },
     "metadata": {
      "needs_background": "light"
     },
     "output_type": "display_data"
    }
   ],
   "source": [
    "image_index = 7776 # You may select anything up to 60,000\n",
    "print(train_labels[image_index]) \n",
    "plt.imshow(train_images[image_index], cmap='Greys')"
   ]
  },
  {
   "cell_type": "markdown",
   "id": "a8d2388d",
   "metadata": {
    "papermill": {
     "duration": 0.026389,
     "end_time": "2022-08-14T00:41:59.018951",
     "exception": false,
     "start_time": "2022-08-14T00:41:58.992562",
     "status": "completed"
    },
    "tags": []
   },
   "source": [
    "## Filter data to get 3 and 8 out"
   ]
  },
  {
   "cell_type": "code",
   "execution_count": 10,
   "id": "776f7fc7",
   "metadata": {
    "execution": {
     "iopub.execute_input": "2022-08-14T00:41:59.085096Z",
     "iopub.status.busy": "2022-08-14T00:41:59.084477Z",
     "iopub.status.idle": "2022-08-14T00:41:59.098440Z",
     "shell.execute_reply": "2022-08-14T00:41:59.097950Z"
    },
    "papermill": {
     "duration": 0.053908,
     "end_time": "2022-08-14T00:41:59.098558",
     "exception": false,
     "start_time": "2022-08-14T00:41:59.044650",
     "status": "completed"
    },
    "tags": []
   },
   "outputs": [],
   "source": [
    "train_filter = np.where((train_labels == 3 ) | (train_labels == 8))\n",
    "test_filter = np.where((test_labels == 3) | (test_labels == 8))\n",
    "X_train, y_train = train_images[train_filter], train_labels[train_filter]\n",
    "X_test, y_test = test_images[test_filter], test_labels[test_filter]"
   ]
  },
  {
   "cell_type": "markdown",
   "id": "948f0b7e",
   "metadata": {
    "papermill": {
     "duration": 0.025707,
     "end_time": "2022-08-14T00:41:59.150035",
     "exception": false,
     "start_time": "2022-08-14T00:41:59.124328",
     "status": "completed"
    },
    "tags": []
   },
   "source": [
    "We normalize the pizel values in the 0 to 1 range"
   ]
  },
  {
   "cell_type": "code",
   "execution_count": 11,
   "id": "ee4c2166",
   "metadata": {
    "execution": {
     "iopub.execute_input": "2022-08-14T00:41:59.219897Z",
     "iopub.status.busy": "2022-08-14T00:41:59.215929Z",
     "iopub.status.idle": "2022-08-14T00:41:59.259105Z",
     "shell.execute_reply": "2022-08-14T00:41:59.258508Z"
    },
    "papermill": {
     "duration": 0.083423,
     "end_time": "2022-08-14T00:41:59.259243",
     "exception": false,
     "start_time": "2022-08-14T00:41:59.175820",
     "status": "completed"
    },
    "tags": []
   },
   "outputs": [],
   "source": [
    "X_train = X_train/255.\n",
    "X_test = X_test/255."
   ]
  },
  {
   "cell_type": "markdown",
   "id": "ddcf4fab",
   "metadata": {
    "papermill": {
     "duration": 0.025519,
     "end_time": "2022-08-14T00:41:59.311134",
     "exception": false,
     "start_time": "2022-08-14T00:41:59.285615",
     "status": "completed"
    },
    "tags": []
   },
   "source": [
    "And setup the labels as 1 (when the digit is 3) and 0 (when the digit is 8)"
   ]
  },
  {
   "cell_type": "code",
   "execution_count": 12,
   "id": "7dc908f2",
   "metadata": {
    "execution": {
     "iopub.execute_input": "2022-08-14T00:41:59.366737Z",
     "iopub.status.busy": "2022-08-14T00:41:59.366153Z",
     "iopub.status.idle": "2022-08-14T00:41:59.379190Z",
     "shell.execute_reply": "2022-08-14T00:41:59.378682Z"
    },
    "papermill": {
     "duration": 0.042664,
     "end_time": "2022-08-14T00:41:59.379310",
     "exception": false,
     "start_time": "2022-08-14T00:41:59.336646",
     "status": "completed"
    },
    "tags": []
   },
   "outputs": [],
   "source": [
    "y_train = 1*(y_train==3)\n",
    "y_test = 1*(y_test==3)"
   ]
  },
  {
   "cell_type": "code",
   "execution_count": 13,
   "id": "01e4e969",
   "metadata": {
    "execution": {
     "iopub.execute_input": "2022-08-14T00:41:59.434970Z",
     "iopub.status.busy": "2022-08-14T00:41:59.434368Z",
     "iopub.status.idle": "2022-08-14T00:41:59.448894Z",
     "shell.execute_reply": "2022-08-14T00:41:59.448419Z"
    },
    "papermill": {
     "duration": 0.043826,
     "end_time": "2022-08-14T00:41:59.449005",
     "exception": false,
     "start_time": "2022-08-14T00:41:59.405179",
     "status": "completed"
    },
    "tags": []
   },
   "outputs": [
    {
     "data": {
      "text/plain": [
       "((11982, 28, 28), (1984, 28, 28))"
      ]
     },
     "execution_count": 13,
     "metadata": {},
     "output_type": "execute_result"
    }
   ],
   "source": [
    "X_train.shape, X_test.shape"
   ]
  },
  {
   "cell_type": "markdown",
   "id": "5ccf3f85",
   "metadata": {
    "papermill": {
     "duration": 0.025893,
     "end_time": "2022-08-14T00:41:59.500942",
     "exception": false,
     "start_time": "2022-08-14T00:41:59.475049",
     "status": "completed"
    },
    "tags": []
   },
   "source": [
    "We reshape the data to flatten the image pixels into a set of features or co-variates:"
   ]
  },
  {
   "cell_type": "code",
   "execution_count": 14,
   "id": "5286a4a3",
   "metadata": {
    "execution": {
     "iopub.execute_input": "2022-08-14T00:41:59.557322Z",
     "iopub.status.busy": "2022-08-14T00:41:59.556733Z",
     "iopub.status.idle": "2022-08-14T00:41:59.572212Z",
     "shell.execute_reply": "2022-08-14T00:41:59.571716Z"
    },
    "papermill": {
     "duration": 0.04537,
     "end_time": "2022-08-14T00:41:59.572334",
     "exception": false,
     "start_time": "2022-08-14T00:41:59.526964",
     "status": "completed"
    },
    "tags": []
   },
   "outputs": [
    {
     "data": {
      "text/plain": [
       "((11982, 784), (1984, 784))"
      ]
     },
     "execution_count": 14,
     "metadata": {},
     "output_type": "execute_result"
    }
   ],
   "source": [
    "X_train = X_train.reshape(X_train.shape[0], -1)\n",
    "X_test = X_test.reshape(X_test.shape[0], -1)\n",
    "X_train.shape, X_test.shape"
   ]
  },
  {
   "cell_type": "code",
   "execution_count": 15,
   "id": "73c5f88a",
   "metadata": {
    "execution": {
     "iopub.execute_input": "2022-08-14T00:41:59.641681Z",
     "iopub.status.busy": "2022-08-14T00:41:59.641057Z",
     "iopub.status.idle": "2022-08-14T00:41:59.654801Z",
     "shell.execute_reply": "2022-08-14T00:41:59.655265Z"
    },
    "papermill": {
     "duration": 0.056709,
     "end_time": "2022-08-14T00:41:59.655406",
     "exception": false,
     "start_time": "2022-08-14T00:41:59.598697",
     "status": "completed"
    },
    "tags": []
   },
   "outputs": [],
   "source": [
    "#Impoting functions from 'Kudzu'\n",
    "from kudzu.model import Model\n",
    "from kudzu.train import Learner\n",
    "from kudzu.optim import GD\n",
    "from kudzu.data import Data, Sampler,Dataloader\n",
    "\n",
    "from kudzu.callbacks import AccCallback\n",
    "from kudzu.callbacks import ClfCallback\n",
    "\n",
    "from kudzu.loss import MSE\n",
    "\n",
    "from kudzu.layer import Sigmoid,Relu\n",
    "from kudzu.layer import Affine"
   ]
  },
  {
   "cell_type": "markdown",
   "id": "bc01172a",
   "metadata": {
    "papermill": {
     "duration": 0.026767,
     "end_time": "2022-08-14T00:41:59.708500",
     "exception": false,
     "start_time": "2022-08-14T00:41:59.681733",
     "status": "completed"
    },
    "tags": []
   },
   "source": [
    "### Let us create a `Config` class, to store important parameters. \n",
    "This class essentially plays the role of a dictionary."
   ]
  },
  {
   "cell_type": "code",
   "execution_count": 16,
   "id": "978281aa",
   "metadata": {
    "execution": {
     "iopub.execute_input": "2022-08-14T00:41:59.770853Z",
     "iopub.status.busy": "2022-08-14T00:41:59.770218Z",
     "iopub.status.idle": "2022-08-14T00:41:59.781574Z",
     "shell.execute_reply": "2022-08-14T00:41:59.781092Z"
    },
    "papermill": {
     "duration": 0.045611,
     "end_time": "2022-08-14T00:41:59.781694",
     "exception": false,
     "start_time": "2022-08-14T00:41:59.736083",
     "status": "completed"
    },
    "tags": []
   },
   "outputs": [],
   "source": [
    "class Config:\n",
    "    pass\n",
    "config = Config()\n",
    "config.lr = 0.001\n",
    "config.num_epochs = 250\n",
    "config.bs = 50"
   ]
  },
  {
   "cell_type": "markdown",
   "id": "1385fa59",
   "metadata": {
    "papermill": {
     "duration": 0.026505,
     "end_time": "2022-08-14T00:41:59.834816",
     "exception": false,
     "start_time": "2022-08-14T00:41:59.808311",
     "status": "completed"
    },
    "tags": []
   },
   "source": [
    "### Running Models with the Training data\n",
    "Details about the network layers:\n",
    "- A first affine layer has 784 inputs and does 100 affine transforms. These are followed by a Relu\n",
    "- A second affine layer has 100 inputs from the 100 activations of the past layer, and does 100 affine transforms. These are followed by a Relu\n",
    "- A third affine layer has 100 activations and does 2 affine transformations to create an embedding for visualization. There is no non-linearity here.\n",
    "- A final \"logistic regression\" which has an affine transform from 2 inputs to 1 output, which is squeezed through a sigmoid.\n"
   ]
  },
  {
   "cell_type": "code",
   "execution_count": 17,
   "id": "2b9c66db",
   "metadata": {
    "execution": {
     "iopub.execute_input": "2022-08-14T00:41:59.895654Z",
     "iopub.status.busy": "2022-08-14T00:41:59.895012Z",
     "iopub.status.idle": "2022-08-14T00:41:59.906374Z",
     "shell.execute_reply": "2022-08-14T00:41:59.905892Z"
    },
    "papermill": {
     "duration": 0.045333,
     "end_time": "2022-08-14T00:41:59.906487",
     "exception": false,
     "start_time": "2022-08-14T00:41:59.861154",
     "status": "completed"
    },
    "tags": []
   },
   "outputs": [],
   "source": [
    "data = Data(X_train, y_train.reshape(-1,1))\n",
    "sampler = Sampler(data, config.bs, shuffle=True)\n",
    "\n",
    "dl = Dataloader(data, sampler)\n",
    "\n",
    "opt = GD(config.lr)\n",
    "loss = MSE()"
   ]
  },
  {
   "cell_type": "code",
   "execution_count": 18,
   "id": "b275e4c2",
   "metadata": {
    "execution": {
     "iopub.execute_input": "2022-08-14T00:41:59.964486Z",
     "iopub.status.busy": "2022-08-14T00:41:59.963871Z",
     "iopub.status.idle": "2022-08-14T00:41:59.978110Z",
     "shell.execute_reply": "2022-08-14T00:41:59.977333Z"
    },
    "papermill": {
     "duration": 0.045232,
     "end_time": "2022-08-14T00:41:59.978233",
     "exception": false,
     "start_time": "2022-08-14T00:41:59.933001",
     "status": "completed"
    },
    "tags": []
   },
   "outputs": [],
   "source": [
    "training_data_x = X_train\n",
    "testing_data_x = X_test\n",
    "training_data_y = y_train.reshape(-1,1)\n",
    "testing_data_y = y_test.reshape(-1,1)"
   ]
  },
  {
   "cell_type": "code",
   "execution_count": 19,
   "id": "76951160",
   "metadata": {
    "execution": {
     "iopub.execute_input": "2022-08-14T00:42:00.037135Z",
     "iopub.status.busy": "2022-08-14T00:42:00.036515Z",
     "iopub.status.idle": "2022-08-14T00:42:00.053946Z",
     "shell.execute_reply": "2022-08-14T00:42:00.053466Z"
    },
    "papermill": {
     "duration": 0.04945,
     "end_time": "2022-08-14T00:42:00.054065",
     "exception": false,
     "start_time": "2022-08-14T00:42:00.004615",
     "status": "completed"
    },
    "tags": []
   },
   "outputs": [
    {
     "name": "stdout",
     "output_type": "stream",
     "text": [
      "xavier\n",
      "xavier\n",
      "xavier\n",
      "xavier\n",
      "xavier\n"
     ]
    }
   ],
   "source": [
    "layers = [Affine(\"first\", 784, 100), Relu(\"first\"), Affine(\"second\", 100, 100), Relu(\"second\"), Affine(\"third\", 100, 2), Affine(\"last\", 2, 1), Sigmoid(\"last\")]\n",
    "model_nn = Model(layers)\n",
    "model_lr = Model([Affine(\"logits\", 784, 1), Sigmoid(\"sigmoid\")])"
   ]
  },
  {
   "cell_type": "code",
   "execution_count": 20,
   "id": "6eede77a",
   "metadata": {
    "execution": {
     "iopub.execute_input": "2022-08-14T00:42:00.112845Z",
     "iopub.status.busy": "2022-08-14T00:42:00.112257Z",
     "iopub.status.idle": "2022-08-14T00:42:00.125285Z",
     "shell.execute_reply": "2022-08-14T00:42:00.124791Z"
    },
    "papermill": {
     "duration": 0.044581,
     "end_time": "2022-08-14T00:42:00.125408",
     "exception": false,
     "start_time": "2022-08-14T00:42:00.080827",
     "status": "completed"
    },
    "tags": []
   },
   "outputs": [],
   "source": [
    "nn_learner = Learner(loss, model_nn, opt, config.num_epochs)\n",
    "acc_nn = ClfCallback(nn_learner, config.bs, training_data_x , testing_data_x, training_data_y, testing_data_y)\n",
    "nn_learner.set_callbacks([acc_nn])"
   ]
  },
  {
   "cell_type": "code",
   "execution_count": 21,
   "id": "877b6cc7",
   "metadata": {
    "execution": {
     "iopub.execute_input": "2022-08-14T00:42:00.184851Z",
     "iopub.status.busy": "2022-08-14T00:42:00.184258Z",
     "iopub.status.idle": "2022-08-14T00:42:00.196447Z",
     "shell.execute_reply": "2022-08-14T00:42:00.195965Z"
    },
    "papermill": {
     "duration": 0.044481,
     "end_time": "2022-08-14T00:42:00.196563",
     "exception": false,
     "start_time": "2022-08-14T00:42:00.152082",
     "status": "completed"
    },
    "tags": []
   },
   "outputs": [],
   "source": [
    "lr_learner = Learner(loss, model_lr, opt, config.num_epochs)\n",
    "acc_lr = ClfCallback(lr_learner, config.bs, training_data_x , testing_data_x, training_data_y, testing_data_y)\n",
    "lr_learner.set_callbacks([acc_lr])"
   ]
  },
  {
   "cell_type": "code",
   "execution_count": 22,
   "id": "d9b133c3",
   "metadata": {
    "execution": {
     "iopub.execute_input": "2022-08-14T00:42:00.262514Z",
     "iopub.status.busy": "2022-08-14T00:42:00.261904Z",
     "iopub.status.idle": "2022-08-14T00:43:17.806840Z",
     "shell.execute_reply": "2022-08-14T00:43:17.807792Z"
    },
    "papermill": {
     "duration": 77.584639,
     "end_time": "2022-08-14T00:43:17.807950",
     "exception": false,
     "start_time": "2022-08-14T00:42:00.223311",
     "status": "completed"
    },
    "tags": []
   },
   "outputs": [
    {
     "name": "stdout",
     "output_type": "stream",
     "text": [
      "Epoch 0, Loss 0.2477\n",
      "Training Accuracy: 0.5312, Testing Accuracy: 0.5277\n",
      "\n"
     ]
    },
    {
     "name": "stdout",
     "output_type": "stream",
     "text": [
      "Epoch 10, Loss 0.2273\n",
      "Training Accuracy: 0.8314, Testing Accuracy: 0.8246\n",
      "\n"
     ]
    },
    {
     "name": "stdout",
     "output_type": "stream",
     "text": [
      "Epoch 20, Loss 0.1485\n",
      "Training Accuracy: 0.8992, Testing Accuracy: 0.9062\n",
      "\n"
     ]
    },
    {
     "name": "stdout",
     "output_type": "stream",
     "text": [
      "Epoch 30, Loss 0.0776\n",
      "Training Accuracy: 0.9237, Testing Accuracy: 0.9294\n",
      "\n"
     ]
    },
    {
     "name": "stdout",
     "output_type": "stream",
     "text": [
      "Epoch 40, Loss 0.0553\n",
      "Training Accuracy: 0.9397, Testing Accuracy: 0.9501\n",
      "\n"
     ]
    },
    {
     "name": "stdout",
     "output_type": "stream",
     "text": [
      "Epoch 50, Loss 0.0454\n",
      "Training Accuracy: 0.9473, Testing Accuracy: 0.9572\n",
      "\n"
     ]
    },
    {
     "name": "stdout",
     "output_type": "stream",
     "text": [
      "Epoch 60, Loss 0.0398\n",
      "Training Accuracy: 0.9538, Testing Accuracy: 0.9622\n",
      "\n"
     ]
    },
    {
     "name": "stdout",
     "output_type": "stream",
     "text": [
      "Epoch 70, Loss 0.0362\n",
      "Training Accuracy: 0.9575, Testing Accuracy: 0.9652\n",
      "\n"
     ]
    },
    {
     "name": "stdout",
     "output_type": "stream",
     "text": [
      "Epoch 80, Loss 0.0336\n",
      "Training Accuracy: 0.9602, Testing Accuracy: 0.9667\n",
      "\n"
     ]
    },
    {
     "name": "stdout",
     "output_type": "stream",
     "text": [
      "Epoch 90, Loss 0.0317\n",
      "Training Accuracy: 0.9631, Testing Accuracy: 0.9693\n",
      "\n"
     ]
    },
    {
     "name": "stdout",
     "output_type": "stream",
     "text": [
      "Epoch 100, Loss 0.0302\n",
      "Training Accuracy: 0.9642, Testing Accuracy: 0.9708\n",
      "\n"
     ]
    },
    {
     "name": "stdout",
     "output_type": "stream",
     "text": [
      "Epoch 110, Loss 0.0289\n",
      "Training Accuracy: 0.9654, Testing Accuracy: 0.9708\n",
      "\n"
     ]
    },
    {
     "name": "stdout",
     "output_type": "stream",
     "text": [
      "Epoch 120, Loss 0.0278\n",
      "Training Accuracy: 0.9667, Testing Accuracy: 0.9718\n",
      "\n"
     ]
    },
    {
     "name": "stdout",
     "output_type": "stream",
     "text": [
      "Epoch 130, Loss 0.0269\n",
      "Training Accuracy: 0.9676, Testing Accuracy: 0.9718\n",
      "\n"
     ]
    },
    {
     "name": "stdout",
     "output_type": "stream",
     "text": [
      "Epoch 140, Loss 0.0261\n",
      "Training Accuracy: 0.9689, Testing Accuracy: 0.9728\n",
      "\n"
     ]
    },
    {
     "name": "stdout",
     "output_type": "stream",
     "text": [
      "Epoch 150, Loss 0.0254\n",
      "Training Accuracy: 0.9696, Testing Accuracy: 0.9733\n",
      "\n"
     ]
    },
    {
     "name": "stdout",
     "output_type": "stream",
     "text": [
      "Epoch 160, Loss 0.0247\n",
      "Training Accuracy: 0.9710, Testing Accuracy: 0.9728\n",
      "\n"
     ]
    },
    {
     "name": "stdout",
     "output_type": "stream",
     "text": [
      "Epoch 170, Loss 0.0241\n",
      "Training Accuracy: 0.9717, Testing Accuracy: 0.9733\n",
      "\n"
     ]
    },
    {
     "name": "stdout",
     "output_type": "stream",
     "text": [
      "Epoch 180, Loss 0.0236\n",
      "Training Accuracy: 0.9723, Testing Accuracy: 0.9738\n",
      "\n"
     ]
    },
    {
     "name": "stdout",
     "output_type": "stream",
     "text": [
      "Epoch 190, Loss 0.023\n",
      "Training Accuracy: 0.9729, Testing Accuracy: 0.9738\n",
      "\n"
     ]
    },
    {
     "name": "stdout",
     "output_type": "stream",
     "text": [
      "Epoch 200, Loss 0.0225\n",
      "Training Accuracy: 0.9733, Testing Accuracy: 0.9733\n",
      "\n"
     ]
    },
    {
     "name": "stdout",
     "output_type": "stream",
     "text": [
      "Epoch 210, Loss 0.0221\n",
      "Training Accuracy: 0.9739, Testing Accuracy: 0.9723\n",
      "\n"
     ]
    },
    {
     "name": "stdout",
     "output_type": "stream",
     "text": [
      "Epoch 220, Loss 0.0216\n",
      "Training Accuracy: 0.9743, Testing Accuracy: 0.9738\n",
      "\n"
     ]
    },
    {
     "name": "stdout",
     "output_type": "stream",
     "text": [
      "Epoch 230, Loss 0.0212\n",
      "Training Accuracy: 0.9750, Testing Accuracy: 0.9743\n",
      "\n"
     ]
    },
    {
     "name": "stdout",
     "output_type": "stream",
     "text": [
      "Epoch 240, Loss 0.0208\n",
      "Training Accuracy: 0.9754, Testing Accuracy: 0.9738\n",
      "\n"
     ]
    },
    {
     "data": {
      "text/plain": [
       "0.04005047477590938"
      ]
     },
     "execution_count": 22,
     "metadata": {},
     "output_type": "execute_result"
    }
   ],
   "source": [
    "nn_learner.train_loop(dl)"
   ]
  },
  {
   "cell_type": "code",
   "execution_count": 23,
   "id": "e0163366",
   "metadata": {
    "execution": {
     "iopub.execute_input": "2022-08-14T00:43:17.888377Z",
     "iopub.status.busy": "2022-08-14T00:43:17.887774Z",
     "iopub.status.idle": "2022-08-14T00:43:31.928873Z",
     "shell.execute_reply": "2022-08-14T00:43:31.929744Z"
    },
    "papermill": {
     "duration": 14.088026,
     "end_time": "2022-08-14T00:43:31.929891",
     "exception": false,
     "start_time": "2022-08-14T00:43:17.841865",
     "status": "completed"
    },
    "tags": []
   },
   "outputs": [
    {
     "name": "stdout",
     "output_type": "stream",
     "text": [
      "Epoch 0, Loss 0.2085\n",
      "Training Accuracy: 0.7752, Testing Accuracy: 0.7928\n",
      "\n"
     ]
    },
    {
     "name": "stdout",
     "output_type": "stream",
     "text": [
      "Epoch 10, Loss 0.1027\n",
      "Training Accuracy: 0.9068, Testing Accuracy: 0.9153\n",
      "\n"
     ]
    },
    {
     "name": "stdout",
     "output_type": "stream",
     "text": [
      "Epoch 20, Loss 0.0799\n",
      "Training Accuracy: 0.9266, Testing Accuracy: 0.9345\n",
      "\n"
     ]
    },
    {
     "name": "stdout",
     "output_type": "stream",
     "text": [
      "Epoch 30, Loss 0.069\n",
      "Training Accuracy: 0.9347, Testing Accuracy: 0.9451\n",
      "\n"
     ]
    },
    {
     "name": "stdout",
     "output_type": "stream",
     "text": [
      "Epoch 40, Loss 0.0623\n",
      "Training Accuracy: 0.9395, Testing Accuracy: 0.9496\n",
      "\n"
     ]
    },
    {
     "name": "stdout",
     "output_type": "stream",
     "text": [
      "Epoch 50, Loss 0.0578\n",
      "Training Accuracy: 0.9437, Testing Accuracy: 0.9526\n",
      "\n"
     ]
    },
    {
     "name": "stdout",
     "output_type": "stream",
     "text": [
      "Epoch 60, Loss 0.0545\n",
      "Training Accuracy: 0.9454, Testing Accuracy: 0.9536\n",
      "\n"
     ]
    },
    {
     "name": "stdout",
     "output_type": "stream",
     "text": [
      "Epoch 70, Loss 0.0519\n",
      "Training Accuracy: 0.9478, Testing Accuracy: 0.9572\n",
      "\n"
     ]
    },
    {
     "name": "stdout",
     "output_type": "stream",
     "text": [
      "Epoch 80, Loss 0.0498\n",
      "Training Accuracy: 0.9490, Testing Accuracy: 0.9577\n",
      "\n"
     ]
    },
    {
     "name": "stdout",
     "output_type": "stream",
     "text": [
      "Epoch 90, Loss 0.0481\n",
      "Training Accuracy: 0.9503, Testing Accuracy: 0.9597\n",
      "\n"
     ]
    },
    {
     "name": "stdout",
     "output_type": "stream",
     "text": [
      "Epoch 100, Loss 0.0467\n",
      "Training Accuracy: 0.9520, Testing Accuracy: 0.9617\n",
      "\n"
     ]
    },
    {
     "name": "stdout",
     "output_type": "stream",
     "text": [
      "Epoch 110, Loss 0.0454\n",
      "Training Accuracy: 0.9525, Testing Accuracy: 0.9627\n",
      "\n"
     ]
    },
    {
     "name": "stdout",
     "output_type": "stream",
     "text": [
      "Epoch 120, Loss 0.0444\n",
      "Training Accuracy: 0.9534, Testing Accuracy: 0.9632\n",
      "\n"
     ]
    },
    {
     "name": "stdout",
     "output_type": "stream",
     "text": [
      "Epoch 130, Loss 0.0434\n",
      "Training Accuracy: 0.9543, Testing Accuracy: 0.9637\n",
      "\n"
     ]
    },
    {
     "name": "stdout",
     "output_type": "stream",
     "text": [
      "Epoch 140, Loss 0.0426\n",
      "Training Accuracy: 0.9551, Testing Accuracy: 0.9642\n",
      "\n"
     ]
    },
    {
     "name": "stdout",
     "output_type": "stream",
     "text": [
      "Epoch 150, Loss 0.0418\n",
      "Training Accuracy: 0.9555, Testing Accuracy: 0.9642\n",
      "\n"
     ]
    },
    {
     "name": "stdout",
     "output_type": "stream",
     "text": [
      "Epoch 160, Loss 0.0411\n",
      "Training Accuracy: 0.9564, Testing Accuracy: 0.9652\n",
      "\n"
     ]
    },
    {
     "name": "stdout",
     "output_type": "stream",
     "text": [
      "Epoch 170, Loss 0.0405\n",
      "Training Accuracy: 0.9569, Testing Accuracy: 0.9652\n",
      "\n"
     ]
    },
    {
     "name": "stdout",
     "output_type": "stream",
     "text": [
      "Epoch 180, Loss 0.0399\n",
      "Training Accuracy: 0.9575, Testing Accuracy: 0.9657\n",
      "\n"
     ]
    },
    {
     "name": "stdout",
     "output_type": "stream",
     "text": [
      "Epoch 190, Loss 0.0394\n",
      "Training Accuracy: 0.9577, Testing Accuracy: 0.9662\n",
      "\n"
     ]
    },
    {
     "name": "stdout",
     "output_type": "stream",
     "text": [
      "Epoch 200, Loss 0.0389\n",
      "Training Accuracy: 0.9580, Testing Accuracy: 0.9662\n",
      "\n"
     ]
    },
    {
     "name": "stdout",
     "output_type": "stream",
     "text": [
      "Epoch 210, Loss 0.0384\n",
      "Training Accuracy: 0.9586, Testing Accuracy: 0.9662\n",
      "\n"
     ]
    },
    {
     "name": "stdout",
     "output_type": "stream",
     "text": [
      "Epoch 220, Loss 0.038\n",
      "Training Accuracy: 0.9589, Testing Accuracy: 0.9667\n",
      "\n"
     ]
    },
    {
     "name": "stdout",
     "output_type": "stream",
     "text": [
      "Epoch 230, Loss 0.0376\n",
      "Training Accuracy: 0.9591, Testing Accuracy: 0.9677\n",
      "\n"
     ]
    },
    {
     "name": "stdout",
     "output_type": "stream",
     "text": [
      "Epoch 240, Loss 0.0372\n",
      "Training Accuracy: 0.9593, Testing Accuracy: 0.9677\n",
      "\n"
     ]
    },
    {
     "data": {
      "text/plain": [
       "0.047679320967556366"
      ]
     },
     "execution_count": 23,
     "metadata": {},
     "output_type": "execute_result"
    }
   ],
   "source": [
    "lr_learner.train_loop(dl)"
   ]
  },
  {
   "cell_type": "code",
   "execution_count": 24,
   "id": "ca410940",
   "metadata": {
    "execution": {
     "iopub.execute_input": "2022-08-14T00:43:32.024350Z",
     "iopub.status.busy": "2022-08-14T00:43:32.023752Z",
     "iopub.status.idle": "2022-08-14T00:43:32.238089Z",
     "shell.execute_reply": "2022-08-14T00:43:32.238523Z"
    },
    "papermill": {
     "duration": 0.267504,
     "end_time": "2022-08-14T00:43:32.238668",
     "exception": false,
     "start_time": "2022-08-14T00:43:31.971164",
     "status": "completed"
    },
    "tags": []
   },
   "outputs": [
    {
     "data": {
      "text/plain": [
       "<matplotlib.legend.Legend at 0x7fcfc5d2fba8>"
      ]
     },
     "execution_count": 24,
     "metadata": {},
     "output_type": "execute_result"
    },
    {
     "data": {
      "image/png": "[encoded data removed]",
      "text/plain": [
       "<Figure size 1080x720 with 1 Axes>"
      ]
     },
     "metadata": {
      "needs_background": "light"
     },
     "output_type": "display_data"
    }
   ],
   "source": [
    "#comparing the results of NN and LR\n",
    "plt.figure(figsize=(15,10))\n",
    "\n",
    "# Neural Network plots\n",
    "plt.plot(acc_nn.accuracies, 'r-', label = \"Training Accuracies - NN\")\n",
    "plt.plot(acc_nn.test_accuracies, 'g-', label = \"Testing Accuracies - NN\")\n",
    "\n",
    "# Logistic Regression plots\n",
    "plt.plot(acc_lr.accuracies, 'k-', label = \"Training Accuracies - LR\")\n",
    "plt.plot(acc_lr.test_accuracies, 'b-', label = \"Testing Accuracies - LR\")\n",
    "plt.legend()"
   ]
  },
  {
   "cell_type": "markdown",
   "id": "80dfb35c",
   "metadata": {
    "papermill": {
     "duration": 0.040941,
     "end_time": "2022-08-14T00:43:32.321060",
     "exception": false,
     "start_time": "2022-08-14T00:43:32.280119",
     "status": "completed"
    },
    "tags": []
   },
   "source": [
    "#### Plotting the outputs of this layer of the NN.\n"
   ]
  },
  {
   "cell_type": "code",
   "execution_count": 25,
   "id": "45eb2ff5",
   "metadata": {
    "execution": {
     "iopub.execute_input": "2022-08-14T00:43:32.409415Z",
     "iopub.status.busy": "2022-08-14T00:43:32.408772Z",
     "iopub.status.idle": "2022-08-14T00:43:32.429829Z",
     "shell.execute_reply": "2022-08-14T00:43:32.429334Z"
    },
    "papermill": {
     "duration": 0.06762,
     "end_time": "2022-08-14T00:43:32.429950",
     "exception": false,
     "start_time": "2022-08-14T00:43:32.362330",
     "status": "completed"
    },
    "tags": []
   },
   "outputs": [],
   "source": [
    "new_model = Model(layers[:-2])\n",
    "testing_plot = new_model(testing_data_x)"
   ]
  },
  {
   "cell_type": "code",
   "execution_count": 26,
   "id": "4c0a5485",
   "metadata": {
    "execution": {
     "iopub.execute_input": "2022-08-14T00:43:32.520840Z",
     "iopub.status.busy": "2022-08-14T00:43:32.519261Z",
     "iopub.status.idle": "2022-08-14T00:43:32.709238Z",
     "shell.execute_reply": "2022-08-14T00:43:32.709702Z"
    },
    "papermill": {
     "duration": 0.237825,
     "end_time": "2022-08-14T00:43:32.709849",
     "exception": false,
     "start_time": "2022-08-14T00:43:32.472024",
     "status": "completed"
    },
    "tags": []
   },
   "outputs": [
    {
     "data": {
      "text/plain": [
       "Text(0.5, 1.0, 'Outputs')"
      ]
     },
     "execution_count": 26,
     "metadata": {},
     "output_type": "execute_result"
    },
    {
     "data": {
      "image/png": "[encoded data removed]",
      "text/plain": [
       "<Figure size 576x504 with 1 Axes>"
      ]
     },
     "metadata": {
      "needs_background": "light"
     },
     "output_type": "display_data"
    }
   ],
   "source": [
    "# Plotting the scatter plot of points and color coding by class\n",
    "plt.figure(figsize=(8,7))\n",
    "plt.scatter(testing_plot[:,0], testing_plot[:,1], alpha = 0.1, c = y_test.ravel());\n",
    "plt.title('Outputs')"
   ]
  },
  {
   "cell_type": "markdown",
   "id": "a74fcf8f",
   "metadata": {
    "papermill": {
     "duration": 0.043448,
     "end_time": "2022-08-14T00:43:32.797524",
     "exception": false,
     "start_time": "2022-08-14T00:43:32.754076",
     "status": "completed"
    },
    "tags": []
   },
   "source": [
    "Probability contours"
   ]
  },
  {
   "cell_type": "code",
   "execution_count": 27,
   "id": "d0afc8e3",
   "metadata": {
    "execution": {
     "iopub.execute_input": "2022-08-14T00:43:32.888485Z",
     "iopub.status.busy": "2022-08-14T00:43:32.887904Z",
     "iopub.status.idle": "2022-08-14T00:43:32.900795Z",
     "shell.execute_reply": "2022-08-14T00:43:32.900320Z"
    },
    "papermill": {
     "duration": 0.060124,
     "end_time": "2022-08-14T00:43:32.900909",
     "exception": false,
     "start_time": "2022-08-14T00:43:32.840785",
     "status": "completed"
    },
    "tags": []
   },
   "outputs": [],
   "source": [
    "model_prob = Model(layers[-2:]) "
   ]
  },
  {
   "cell_type": "code",
   "execution_count": 28,
   "id": "9b96e238",
   "metadata": {
    "execution": {
     "iopub.execute_input": "2022-08-14T00:43:33.039913Z",
     "iopub.status.busy": "2022-08-14T00:43:33.036012Z",
     "iopub.status.idle": "2022-08-14T00:43:33.045853Z",
     "shell.execute_reply": "2022-08-14T00:43:33.046285Z"
    },
    "papermill": {
     "duration": 0.102296,
     "end_time": "2022-08-14T00:43:33.046430",
     "exception": false,
     "start_time": "2022-08-14T00:43:32.944134",
     "status": "completed"
    },
    "tags": []
   },
   "outputs": [],
   "source": [
    "#creating the x and y ranges according to the above generated plot.\n",
    "x_range = np.linspace(-4, 1, 100) \n",
    "y_range = np.linspace(-6, 6, 100) \n",
    "x_grid, y_grid = np.meshgrid(x_range, y_range) # x_grid and y_grig are of size 100 X 100\n",
    "\n",
    "# converting x_grid and y_grid to continuous arrays\n",
    "x_gridflat = np.ravel(x_grid)\n",
    "y_gridflat = np.ravel(y_grid)\n",
    "\n",
    "# The last layer of the current model takes two columns as input. Hence transpose of np.vstack() is required.\n",
    "X = np.vstack((x_gridflat, y_gridflat)).T\n",
    "\n",
    "prob_contour = model_prob(X).reshape(100,100) "
   ]
  },
  {
   "cell_type": "code",
   "execution_count": 29,
   "id": "da72499a",
   "metadata": {
    "execution": {
     "iopub.execute_input": "2022-08-14T00:43:33.152010Z",
     "iopub.status.busy": "2022-08-14T00:43:33.151392Z",
     "iopub.status.idle": "2022-08-14T00:43:33.396806Z",
     "shell.execute_reply": "2022-08-14T00:43:33.397326Z"
    },
    "papermill": {
     "duration": 0.295494,
     "end_time": "2022-08-14T00:43:33.397485",
     "exception": false,
     "start_time": "2022-08-14T00:43:33.101991",
     "status": "completed"
    },
    "tags": []
   },
   "outputs": [
    {
     "data": {
      "image/png": "[encoded data removed]",
      "text/plain": [
       "<Figure size 720x648 with 1 Axes>"
      ]
     },
     "metadata": {
      "needs_background": "light"
     },
     "output_type": "display_data"
    }
   ],
   "source": [
    "plt.figure(figsize=(10,9))\n",
    "plt.scatter(testing_plot[:,0], testing_plot[:,1], alpha = 0.1, c = y_test.ravel())\n",
    "contours = plt.contour(x_grid,y_grid,prob_contour)\n",
    "plt.title('Probability Contours')\n",
    "plt.clabel(contours, inline = True );"
   ]
  },
  {
   "cell_type": "code",
   "execution_count": null,
   "id": "e81b4ac7",
   "metadata": {
    "papermill": {
     "duration": 0.045854,
     "end_time": "2022-08-14T00:43:33.489527",
     "exception": false,
     "start_time": "2022-08-14T00:43:33.443673",
     "status": "completed"
    },
    "tags": []
   },
   "outputs": [],
   "source": []
  }
 ],
 "metadata": {
  "kernelspec": {
   "display_name": "Python 3",
   "language": "python",
   "name": "python3"
  },
  "language_info": {
   "codemirror_mode": {
    "name": "ipython",
    "version": 3
   },
   "file_extension": ".py",
   "mimetype": "text/x-python",
   "name": "python",
   "nbconvert_exporter": "python",
   "pygments_lexer": "ipython3",
   "version": "3.6.15"
  },
  "papermill": {
   "default_parameters": {},
   "duration": 99.797181,
   "end_time": "2022-08-14T00:43:33.955858",
   "environment_variables": {},
   "exception": null,
   "input_path": "2020-08-11-part2.ipynb",
   "output_path": "2020-08-11-part2.ipynb",
   "parameters": {},
   "start_time": "2022-08-14T00:41:54.158677",
   "version": "2.3.3"
  }
 },
 "nbformat": 4,
 "nbformat_minor": 5
}