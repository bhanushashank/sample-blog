{
 "cells": [
  {
   "cell_type": "markdown",
   "id": "98380cd3",
   "metadata": {
    "papermill": {
     "duration": 0.034651,
     "end_time": "2021-12-15T10:09:11.066827",
     "exception": false,
     "start_time": "2021-12-15T10:09:11.032176",
     "status": "completed"
    },
    "tags": []
   },
   "source": [
    "# Distinguish Your Own Digits (DYOD)"
   ]
  },
  {
   "cell_type": "markdown",
   "id": "ef31240d",
   "metadata": {
    "papermill": {
     "duration": 0.02398,
     "end_time": "2021-12-15T10:09:11.116018",
     "exception": false,
     "start_time": "2021-12-15T10:09:11.092038",
     "status": "completed"
    },
    "tags": []
   },
   "source": [
    "You are going to write a classifier that distinguishes between the number 3 and number 8."
   ]
  },
  {
   "cell_type": "code",
   "execution_count": 1,
   "id": "b15c8646",
   "metadata": {
    "execution": {
     "iopub.execute_input": "2021-12-15T10:09:11.180571Z",
     "iopub.status.busy": "2021-12-15T10:09:11.180011Z",
     "iopub.status.idle": "2021-12-15T10:09:11.190644Z",
     "shell.execute_reply": "2021-12-15T10:09:11.190155Z"
    },
    "papermill": {
     "duration": 0.050388,
     "end_time": "2021-12-15T10:09:11.190786",
     "exception": false,
     "start_time": "2021-12-15T10:09:11.140398",
     "status": "completed"
    },
    "tags": []
   },
   "outputs": [],
   "source": [
    "%load_ext autoreload\n",
    "%autoreload 2"
   ]
  },
  {
   "cell_type": "code",
   "execution_count": 2,
   "id": "22ef38dc",
   "metadata": {
    "execution": {
     "iopub.execute_input": "2021-12-15T10:09:11.244388Z",
     "iopub.status.busy": "2021-12-15T10:09:11.243851Z",
     "iopub.status.idle": "2021-12-15T10:09:11.867930Z",
     "shell.execute_reply": "2021-12-15T10:09:11.867133Z"
    },
    "papermill": {
     "duration": 0.653736,
     "end_time": "2021-12-15T10:09:11.868129",
     "exception": false,
     "start_time": "2021-12-15T10:09:11.214393",
     "status": "completed"
    },
    "tags": []
   },
   "outputs": [],
   "source": [
    "%matplotlib inline\n",
    "import numpy as np\n",
    "import matplotlib.pyplot as plt\n",
    "import pandas as pd"
   ]
  },
  {
   "cell_type": "markdown",
   "id": "ba036198",
   "metadata": {
    "papermill": {
     "duration": 0.026998,
     "end_time": "2021-12-15T10:09:11.924714",
     "exception": false,
     "start_time": "2021-12-15T10:09:11.897716",
     "status": "completed"
    },
    "tags": []
   },
   "source": [
    "From the command line run `pip install mnist`. This is a library that will help you bring down the mnist dataset. If you run this from a notebook, you need to put  `!pip install mnist` in a cell by itself."
   ]
  },
  {
   "cell_type": "code",
   "execution_count": 3,
   "id": "bb6ad8a1",
   "metadata": {
    "execution": {
     "iopub.execute_input": "2021-12-15T10:09:11.984089Z",
     "iopub.status.busy": "2021-12-15T10:09:11.983011Z",
     "iopub.status.idle": "2021-12-15T10:09:14.512934Z",
     "shell.execute_reply": "2021-12-15T10:09:14.513515Z"
    },
    "papermill": {
     "duration": 2.563687,
     "end_time": "2021-12-15T10:09:14.513692",
     "exception": false,
     "start_time": "2021-12-15T10:09:11.950005",
     "status": "completed"
    },
    "tags": []
   },
   "outputs": [
    {
     "name": "stdout",
     "output_type": "stream",
     "text": [
      "Collecting mnist\r\n"
     ]
    },
    {
     "name": "stdout",
     "output_type": "stream",
     "text": [
      "  Downloading mnist-0.2.2-py2.py3-none-any.whl (3.5 kB)\r\n"
     ]
    },
    {
     "name": "stdout",
     "output_type": "stream",
     "text": [
      "Requirement already satisfied: numpy in /opt/hostedtoolcache/Python/3.6.15/x64/lib/python3.6/site-packages (from mnist) (1.19.5)\r\n"
     ]
    },
    {
     "name": "stdout",
     "output_type": "stream",
     "text": [
      "Installing collected packages: mnist\r\n",
      "Successfully installed mnist-0.2.2\r\n"
     ]
    }
   ],
   "source": [
    "!pip install mnist"
   ]
  },
  {
   "cell_type": "markdown",
   "id": "69df9c9a",
   "metadata": {
    "papermill": {
     "duration": 0.025759,
     "end_time": "2021-12-15T10:09:14.564219",
     "exception": false,
     "start_time": "2021-12-15T10:09:14.538460",
     "status": "completed"
    },
    "tags": []
   },
   "source": [
    "## Preparing the Data"
   ]
  },
  {
   "cell_type": "code",
   "execution_count": 4,
   "id": "7f69d806",
   "metadata": {
    "execution": {
     "iopub.execute_input": "2021-12-15T10:09:14.623568Z",
     "iopub.status.busy": "2021-12-15T10:09:14.620349Z",
     "iopub.status.idle": "2021-12-15T10:09:14.636363Z",
     "shell.execute_reply": "2021-12-15T10:09:14.635858Z"
    },
    "papermill": {
     "duration": 0.048019,
     "end_time": "2021-12-15T10:09:14.636494",
     "exception": false,
     "start_time": "2021-12-15T10:09:14.588475",
     "status": "completed"
    },
    "tags": []
   },
   "outputs": [],
   "source": [
    "import mnist"
   ]
  },
  {
   "cell_type": "code",
   "execution_count": 5,
   "id": "a411e44f",
   "metadata": {
    "execution": {
     "iopub.execute_input": "2021-12-15T10:09:14.694428Z",
     "iopub.status.busy": "2021-12-15T10:09:14.690658Z",
     "iopub.status.idle": "2021-12-15T10:09:15.199360Z",
     "shell.execute_reply": "2021-12-15T10:09:15.198881Z"
    },
    "papermill": {
     "duration": 0.538283,
     "end_time": "2021-12-15T10:09:15.199477",
     "exception": false,
     "start_time": "2021-12-15T10:09:14.661194",
     "status": "completed"
    },
    "tags": []
   },
   "outputs": [],
   "source": [
    "train_images = mnist.train_images()\n",
    "train_labels = mnist.train_labels()"
   ]
  },
  {
   "cell_type": "code",
   "execution_count": 6,
   "id": "dceab3a5",
   "metadata": {
    "execution": {
     "iopub.execute_input": "2021-12-15T10:09:15.257062Z",
     "iopub.status.busy": "2021-12-15T10:09:15.256156Z",
     "iopub.status.idle": "2021-12-15T10:09:15.274725Z",
     "shell.execute_reply": "2021-12-15T10:09:15.274238Z"
    },
    "papermill": {
     "duration": 0.04875,
     "end_time": "2021-12-15T10:09:15.274858",
     "exception": false,
     "start_time": "2021-12-15T10:09:15.226108",
     "status": "completed"
    },
    "tags": []
   },
   "outputs": [
    {
     "data": {
      "text/plain": [
       "((60000, 28, 28), (60000,))"
      ]
     },
     "execution_count": 6,
     "metadata": {},
     "output_type": "execute_result"
    }
   ],
   "source": [
    "train_images.shape, train_labels.shape"
   ]
  },
  {
   "cell_type": "code",
   "execution_count": 7,
   "id": "f50dc2bb",
   "metadata": {
    "execution": {
     "iopub.execute_input": "2021-12-15T10:09:15.329918Z",
     "iopub.status.busy": "2021-12-15T10:09:15.329422Z",
     "iopub.status.idle": "2021-12-15T10:09:15.438676Z",
     "shell.execute_reply": "2021-12-15T10:09:15.437778Z"
    },
    "papermill": {
     "duration": 0.139132,
     "end_time": "2021-12-15T10:09:15.438902",
     "exception": false,
     "start_time": "2021-12-15T10:09:15.299770",
     "status": "completed"
    },
    "tags": []
   },
   "outputs": [],
   "source": [
    "test_images = mnist.test_images()\n",
    "test_labels = mnist.test_labels()"
   ]
  },
  {
   "cell_type": "code",
   "execution_count": 8,
   "id": "fc38cf1b",
   "metadata": {
    "execution": {
     "iopub.execute_input": "2021-12-15T10:09:15.500284Z",
     "iopub.status.busy": "2021-12-15T10:09:15.499654Z",
     "iopub.status.idle": "2021-12-15T10:09:15.513086Z",
     "shell.execute_reply": "2021-12-15T10:09:15.512636Z"
    },
    "papermill": {
     "duration": 0.043805,
     "end_time": "2021-12-15T10:09:15.513235",
     "exception": false,
     "start_time": "2021-12-15T10:09:15.469430",
     "status": "completed"
    },
    "tags": []
   },
   "outputs": [
    {
     "data": {
      "text/plain": [
       "((10000, 28, 28), (10000,))"
      ]
     },
     "execution_count": 8,
     "metadata": {},
     "output_type": "execute_result"
    }
   ],
   "source": [
    "test_images.shape, test_labels.shape"
   ]
  },
  {
   "cell_type": "code",
   "execution_count": 9,
   "id": "f9ed8fe0",
   "metadata": {
    "execution": {
     "iopub.execute_input": "2021-12-15T10:09:15.571937Z",
     "iopub.status.busy": "2021-12-15T10:09:15.571342Z",
     "iopub.status.idle": "2021-12-15T10:09:15.716487Z",
     "shell.execute_reply": "2021-12-15T10:09:15.715630Z"
    },
    "papermill": {
     "duration": 0.177048,
     "end_time": "2021-12-15T10:09:15.716701",
     "exception": false,
     "start_time": "2021-12-15T10:09:15.539653",
     "status": "completed"
    },
    "tags": []
   },
   "outputs": [
    {
     "name": "stdout",
     "output_type": "stream",
     "text": [
      "2\n"
     ]
    },
    {
     "data": {
      "text/plain": [
       "<matplotlib.image.AxesImage at 0x7fadd7dd69b0>"
      ]
     },
     "execution_count": 9,
     "metadata": {},
     "output_type": "execute_result"
    },
    {
     "data": {
      "image/png": "[encoded data removed]",
      "text/plain": [
       "<Figure size 432x288 with 1 Axes>"
      ]
     },
     "metadata": {
      "needs_background": "light"
     },
     "output_type": "display_data"
    }
   ],
   "source": [
    "image_index = 7776 # You may select anything up to 60,000\n",
    "print(train_labels[image_index]) \n",
    "plt.imshow(train_images[image_index], cmap='Greys')"
   ]
  },
  {
   "cell_type": "markdown",
   "id": "a8d2388d",
   "metadata": {
    "papermill": {
     "duration": 0.027753,
     "end_time": "2021-12-15T10:09:15.774863",
     "exception": false,
     "start_time": "2021-12-15T10:09:15.747110",
     "status": "completed"
    },
    "tags": []
   },
   "source": [
    "## Filter data to get 3 and 8 out"
   ]
  },
  {
   "cell_type": "code",
   "execution_count": 10,
   "id": "776f7fc7",
   "metadata": {
    "execution": {
     "iopub.execute_input": "2021-12-15T10:09:15.835844Z",
     "iopub.status.busy": "2021-12-15T10:09:15.835223Z",
     "iopub.status.idle": "2021-12-15T10:09:15.852881Z",
     "shell.execute_reply": "2021-12-15T10:09:15.851760Z"
    },
    "papermill": {
     "duration": 0.05114,
     "end_time": "2021-12-15T10:09:15.853019",
     "exception": false,
     "start_time": "2021-12-15T10:09:15.801879",
     "status": "completed"
    },
    "tags": []
   },
   "outputs": [],
   "source": [
    "train_filter = np.where((train_labels == 3 ) | (train_labels == 8))\n",
    "test_filter = np.where((test_labels == 3) | (test_labels == 8))\n",
    "X_train, y_train = train_images[train_filter], train_labels[train_filter]\n",
    "X_test, y_test = test_images[test_filter], test_labels[test_filter]"
   ]
  },
  {
   "cell_type": "markdown",
   "id": "948f0b7e",
   "metadata": {
    "papermill": {
     "duration": 0.02708,
     "end_time": "2021-12-15T10:09:15.908064",
     "exception": false,
     "start_time": "2021-12-15T10:09:15.880984",
     "status": "completed"
    },
    "tags": []
   },
   "source": [
    "We normalize the pizel values in the 0 to 1 range"
   ]
  },
  {
   "cell_type": "code",
   "execution_count": 11,
   "id": "ee4c2166",
   "metadata": {
    "execution": {
     "iopub.execute_input": "2021-12-15T10:09:15.967325Z",
     "iopub.status.busy": "2021-12-15T10:09:15.966762Z",
     "iopub.status.idle": "2021-12-15T10:09:16.019811Z",
     "shell.execute_reply": "2021-12-15T10:09:16.018884Z"
    },
    "papermill": {
     "duration": 0.084916,
     "end_time": "2021-12-15T10:09:16.020027",
     "exception": false,
     "start_time": "2021-12-15T10:09:15.935111",
     "status": "completed"
    },
    "tags": []
   },
   "outputs": [],
   "source": [
    "X_train = X_train/255.\n",
    "X_test = X_test/255."
   ]
  },
  {
   "cell_type": "markdown",
   "id": "ddcf4fab",
   "metadata": {
    "papermill": {
     "duration": 0.028015,
     "end_time": "2021-12-15T10:09:16.077190",
     "exception": false,
     "start_time": "2021-12-15T10:09:16.049175",
     "status": "completed"
    },
    "tags": []
   },
   "source": [
    "And setup the labels as 1 (when the digit is 3) and 0 (when the digit is 8)"
   ]
  },
  {
   "cell_type": "code",
   "execution_count": 12,
   "id": "7dc908f2",
   "metadata": {
    "execution": {
     "iopub.execute_input": "2021-12-15T10:09:16.134388Z",
     "iopub.status.busy": "2021-12-15T10:09:16.133883Z",
     "iopub.status.idle": "2021-12-15T10:09:16.146894Z",
     "shell.execute_reply": "2021-12-15T10:09:16.147343Z"
    },
    "papermill": {
     "duration": 0.043459,
     "end_time": "2021-12-15T10:09:16.147481",
     "exception": false,
     "start_time": "2021-12-15T10:09:16.104022",
     "status": "completed"
    },
    "tags": []
   },
   "outputs": [],
   "source": [
    "y_train = 1*(y_train==3)\n",
    "y_test = 1*(y_test==3)"
   ]
  },
  {
   "cell_type": "code",
   "execution_count": 13,
   "id": "01e4e969",
   "metadata": {
    "execution": {
     "iopub.execute_input": "2021-12-15T10:09:16.208883Z",
     "iopub.status.busy": "2021-12-15T10:09:16.208325Z",
     "iopub.status.idle": "2021-12-15T10:09:16.224308Z",
     "shell.execute_reply": "2021-12-15T10:09:16.223529Z"
    },
    "papermill": {
     "duration": 0.048058,
     "end_time": "2021-12-15T10:09:16.224431",
     "exception": false,
     "start_time": "2021-12-15T10:09:16.176373",
     "status": "completed"
    },
    "tags": []
   },
   "outputs": [
    {
     "data": {
      "text/plain": [
       "((11982, 28, 28), (1984, 28, 28))"
      ]
     },
     "execution_count": 13,
     "metadata": {},
     "output_type": "execute_result"
    }
   ],
   "source": [
    "X_train.shape, X_test.shape"
   ]
  },
  {
   "cell_type": "markdown",
   "id": "5ccf3f85",
   "metadata": {
    "papermill": {
     "duration": 0.030594,
     "end_time": "2021-12-15T10:09:16.285996",
     "exception": false,
     "start_time": "2021-12-15T10:09:16.255402",
     "status": "completed"
    },
    "tags": []
   },
   "source": [
    "We reshape the data to flatten the image pixels into a set of features or co-variates:"
   ]
  },
  {
   "cell_type": "code",
   "execution_count": 14,
   "id": "5286a4a3",
   "metadata": {
    "execution": {
     "iopub.execute_input": "2021-12-15T10:09:16.351493Z",
     "iopub.status.busy": "2021-12-15T10:09:16.350301Z",
     "iopub.status.idle": "2021-12-15T10:09:16.363097Z",
     "shell.execute_reply": "2021-12-15T10:09:16.362650Z"
    },
    "papermill": {
     "duration": 0.047824,
     "end_time": "2021-12-15T10:09:16.363216",
     "exception": false,
     "start_time": "2021-12-15T10:09:16.315392",
     "status": "completed"
    },
    "tags": []
   },
   "outputs": [
    {
     "data": {
      "text/plain": [
       "((11982, 784), (1984, 784))"
      ]
     },
     "execution_count": 14,
     "metadata": {},
     "output_type": "execute_result"
    }
   ],
   "source": [
    "X_train = X_train.reshape(X_train.shape[0], -1)\n",
    "X_test = X_test.reshape(X_test.shape[0], -1)\n",
    "X_train.shape, X_test.shape"
   ]
  },
  {
   "cell_type": "code",
   "execution_count": 15,
   "id": "73c5f88a",
   "metadata": {
    "execution": {
     "iopub.execute_input": "2021-12-15T10:09:16.423120Z",
     "iopub.status.busy": "2021-12-15T10:09:16.422552Z",
     "iopub.status.idle": "2021-12-15T10:09:16.443583Z",
     "shell.execute_reply": "2021-12-15T10:09:16.444073Z"
    },
    "papermill": {
     "duration": 0.054394,
     "end_time": "2021-12-15T10:09:16.444225",
     "exception": false,
     "start_time": "2021-12-15T10:09:16.389831",
     "status": "completed"
    },
    "tags": []
   },
   "outputs": [],
   "source": [
    "#Impoting functions from 'Kudzu'\n",
    "from kudzu.model import Model\n",
    "from kudzu.train import Learner\n",
    "from kudzu.optim import GD\n",
    "from kudzu.data import Data, Sampler,Dataloader\n",
    "\n",
    "from kudzu.callbacks import AccCallback\n",
    "from kudzu.callbacks import ClfCallback\n",
    "\n",
    "from kudzu.loss import MSE\n",
    "\n",
    "from kudzu.layer import Sigmoid,Relu\n",
    "from kudzu.layer import Affine"
   ]
  },
  {
   "cell_type": "markdown",
   "id": "bc01172a",
   "metadata": {
    "papermill": {
     "duration": 0.02753,
     "end_time": "2021-12-15T10:09:16.501054",
     "exception": false,
     "start_time": "2021-12-15T10:09:16.473524",
     "status": "completed"
    },
    "tags": []
   },
   "source": [
    "### Let us create a `Config` class, to store important parameters. \n",
    "This class essentially plays the role of a dictionary."
   ]
  },
  {
   "cell_type": "code",
   "execution_count": 16,
   "id": "978281aa",
   "metadata": {
    "execution": {
     "iopub.execute_input": "2021-12-15T10:09:16.560446Z",
     "iopub.status.busy": "2021-12-15T10:09:16.559890Z",
     "iopub.status.idle": "2021-12-15T10:09:16.572392Z",
     "shell.execute_reply": "2021-12-15T10:09:16.571931Z"
    },
    "papermill": {
     "duration": 0.043953,
     "end_time": "2021-12-15T10:09:16.572508",
     "exception": false,
     "start_time": "2021-12-15T10:09:16.528555",
     "status": "completed"
    },
    "tags": []
   },
   "outputs": [],
   "source": [
    "class Config:\n",
    "    pass\n",
    "config = Config()\n",
    "config.lr = 0.001\n",
    "config.num_epochs = 250\n",
    "config.bs = 50"
   ]
  },
  {
   "cell_type": "markdown",
   "id": "1385fa59",
   "metadata": {
    "papermill": {
     "duration": 0.027674,
     "end_time": "2021-12-15T10:09:16.629124",
     "exception": false,
     "start_time": "2021-12-15T10:09:16.601450",
     "status": "completed"
    },
    "tags": []
   },
   "source": [
    "### Running Models with the Training data\n",
    "Details about the network layers:\n",
    "- A first affine layer has 784 inputs and does 100 affine transforms. These are followed by a Relu\n",
    "- A second affine layer has 100 inputs from the 100 activations of the past layer, and does 100 affine transforms. These are followed by a Relu\n",
    "- A third affine layer has 100 activations and does 2 affine transformations to create an embedding for visualization. There is no non-linearity here.\n",
    "- A final \"logistic regression\" which has an affine transform from 2 inputs to 1 output, which is squeezed through a sigmoid.\n"
   ]
  },
  {
   "cell_type": "code",
   "execution_count": 17,
   "id": "2b9c66db",
   "metadata": {
    "execution": {
     "iopub.execute_input": "2021-12-15T10:09:16.691956Z",
     "iopub.status.busy": "2021-12-15T10:09:16.691456Z",
     "iopub.status.idle": "2021-12-15T10:09:16.703347Z",
     "shell.execute_reply": "2021-12-15T10:09:16.702934Z"
    },
    "papermill": {
     "duration": 0.04436,
     "end_time": "2021-12-15T10:09:16.703452",
     "exception": false,
     "start_time": "2021-12-15T10:09:16.659092",
     "status": "completed"
    },
    "tags": []
   },
   "outputs": [],
   "source": [
    "data = Data(X_train, y_train.reshape(-1,1))\n",
    "sampler = Sampler(data, config.bs, shuffle=True)\n",
    "\n",
    "dl = Dataloader(data, sampler)\n",
    "\n",
    "opt = GD(config.lr)\n",
    "loss = MSE()"
   ]
  },
  {
   "cell_type": "code",
   "execution_count": 18,
   "id": "b275e4c2",
   "metadata": {
    "execution": {
     "iopub.execute_input": "2021-12-15T10:09:16.767599Z",
     "iopub.status.busy": "2021-12-15T10:09:16.767032Z",
     "iopub.status.idle": "2021-12-15T10:09:16.781946Z",
     "shell.execute_reply": "2021-12-15T10:09:16.781450Z"
    },
    "papermill": {
     "duration": 0.049056,
     "end_time": "2021-12-15T10:09:16.782079",
     "exception": false,
     "start_time": "2021-12-15T10:09:16.733023",
     "status": "completed"
    },
    "tags": []
   },
   "outputs": [],
   "source": [
    "training_data_x = X_train\n",
    "testing_data_x = X_test\n",
    "training_data_y = y_train.reshape(-1,1)\n",
    "testing_data_y = y_test.reshape(-1,1)"
   ]
  },
  {
   "cell_type": "code",
   "execution_count": 19,
   "id": "76951160",
   "metadata": {
    "execution": {
     "iopub.execute_input": "2021-12-15T10:09:16.847004Z",
     "iopub.status.busy": "2021-12-15T10:09:16.846501Z",
     "iopub.status.idle": "2021-12-15T10:09:16.863942Z",
     "shell.execute_reply": "2021-12-15T10:09:16.863486Z"
    },
    "papermill": {
     "duration": 0.051898,
     "end_time": "2021-12-15T10:09:16.864099",
     "exception": false,
     "start_time": "2021-12-15T10:09:16.812201",
     "status": "completed"
    },
    "tags": []
   },
   "outputs": [
    {
     "name": "stdout",
     "output_type": "stream",
     "text": [
      "xavier\n",
      "xavier\n",
      "xavier\n",
      "xavier\n",
      "xavier\n"
     ]
    }
   ],
   "source": [
    "layers = [Affine(\"first\", 784, 100), Relu(\"first\"), Affine(\"second\", 100, 100), Relu(\"second\"), Affine(\"third\", 100, 2), Affine(\"last\", 2, 1), Sigmoid(\"last\")]\n",
    "model_nn = Model(layers)\n",
    "model_lr = Model([Affine(\"logits\", 784, 1), Sigmoid(\"sigmoid\")])"
   ]
  },
  {
   "cell_type": "code",
   "execution_count": 20,
   "id": "6eede77a",
   "metadata": {
    "execution": {
     "iopub.execute_input": "2021-12-15T10:09:16.929738Z",
     "iopub.status.busy": "2021-12-15T10:09:16.929138Z",
     "iopub.status.idle": "2021-12-15T10:09:16.942274Z",
     "shell.execute_reply": "2021-12-15T10:09:16.941855Z"
    },
    "papermill": {
     "duration": 0.048612,
     "end_time": "2021-12-15T10:09:16.942383",
     "exception": false,
     "start_time": "2021-12-15T10:09:16.893771",
     "status": "completed"
    },
    "tags": []
   },
   "outputs": [],
   "source": [
    "nn_learner = Learner(loss, model_nn, opt, config.num_epochs)\n",
    "acc_nn = ClfCallback(nn_learner, config.bs, training_data_x , testing_data_x, training_data_y, testing_data_y)\n",
    "nn_learner.set_callbacks([acc_nn])"
   ]
  },
  {
   "cell_type": "code",
   "execution_count": 21,
   "id": "877b6cc7",
   "metadata": {
    "execution": {
     "iopub.execute_input": "2021-12-15T10:09:17.009802Z",
     "iopub.status.busy": "2021-12-15T10:09:17.004037Z",
     "iopub.status.idle": "2021-12-15T10:09:17.019137Z",
     "shell.execute_reply": "2021-12-15T10:09:17.018150Z"
    },
    "papermill": {
     "duration": 0.048363,
     "end_time": "2021-12-15T10:09:17.019263",
     "exception": false,
     "start_time": "2021-12-15T10:09:16.970900",
     "status": "completed"
    },
    "tags": []
   },
   "outputs": [],
   "source": [
    "lr_learner = Learner(loss, model_lr, opt, config.num_epochs)\n",
    "acc_lr = ClfCallback(lr_learner, config.bs, training_data_x , testing_data_x, training_data_y, testing_data_y)\n",
    "lr_learner.set_callbacks([acc_lr])"
   ]
  },
  {
   "cell_type": "code",
   "execution_count": 22,
   "id": "d9b133c3",
   "metadata": {
    "execution": {
     "iopub.execute_input": "2021-12-15T10:09:17.087376Z",
     "iopub.status.busy": "2021-12-15T10:09:17.086322Z",
     "iopub.status.idle": "2021-12-15T10:10:39.805750Z",
     "shell.execute_reply": "2021-12-15T10:10:39.806287Z"
    },
    "papermill": {
     "duration": 82.75621,
     "end_time": "2021-12-15T10:10:39.806436",
     "exception": false,
     "start_time": "2021-12-15T10:09:17.050226",
     "status": "completed"
    },
    "tags": []
   },
   "outputs": [
    {
     "name": "stdout",
     "output_type": "stream",
     "text": [
      "Epoch 0, Loss 0.2065\n",
      "Training Accuracy: 0.8469, Testing Accuracy: 0.8513\n",
      "\n"
     ]
    },
    {
     "name": "stdout",
     "output_type": "stream",
     "text": [
      "Epoch 10, Loss 0.0544\n",
      "Training Accuracy: 0.9469, Testing Accuracy: 0.9567\n",
      "\n"
     ]
    },
    {
     "name": "stdout",
     "output_type": "stream",
     "text": [
      "Epoch 20, Loss 0.0399\n",
      "Training Accuracy: 0.9573, Testing Accuracy: 0.9647\n",
      "\n"
     ]
    },
    {
     "name": "stdout",
     "output_type": "stream",
     "text": [
      "Epoch 30, Loss 0.0341\n",
      "Training Accuracy: 0.9634, Testing Accuracy: 0.9672\n",
      "\n"
     ]
    },
    {
     "name": "stdout",
     "output_type": "stream",
     "text": [
      "Epoch 40, Loss 0.0307\n",
      "Training Accuracy: 0.9661, Testing Accuracy: 0.9682\n",
      "\n"
     ]
    },
    {
     "name": "stdout",
     "output_type": "stream",
     "text": [
      "Epoch 50, Loss 0.0285\n",
      "Training Accuracy: 0.9678, Testing Accuracy: 0.9677\n",
      "\n"
     ]
    },
    {
     "name": "stdout",
     "output_type": "stream",
     "text": [
      "Epoch 60, Loss 0.0268\n",
      "Training Accuracy: 0.9699, Testing Accuracy: 0.9677\n",
      "\n"
     ]
    },
    {
     "name": "stdout",
     "output_type": "stream",
     "text": [
      "Epoch 70, Loss 0.0255\n",
      "Training Accuracy: 0.9713, Testing Accuracy: 0.9688\n",
      "\n"
     ]
    },
    {
     "name": "stdout",
     "output_type": "stream",
     "text": [
      "Epoch 80, Loss 0.0244\n",
      "Training Accuracy: 0.9721, Testing Accuracy: 0.9703\n",
      "\n"
     ]
    },
    {
     "name": "stdout",
     "output_type": "stream",
     "text": [
      "Epoch 90, Loss 0.0235\n",
      "Training Accuracy: 0.9735, Testing Accuracy: 0.9713\n",
      "\n"
     ]
    },
    {
     "name": "stdout",
     "output_type": "stream",
     "text": [
      "Epoch 100, Loss 0.0227\n",
      "Training Accuracy: 0.9741, Testing Accuracy: 0.9718\n",
      "\n"
     ]
    },
    {
     "name": "stdout",
     "output_type": "stream",
     "text": [
      "Epoch 110, Loss 0.022\n",
      "Training Accuracy: 0.9752, Testing Accuracy: 0.9723\n",
      "\n"
     ]
    },
    {
     "name": "stdout",
     "output_type": "stream",
     "text": [
      "Epoch 120, Loss 0.0213\n",
      "Training Accuracy: 0.9761, Testing Accuracy: 0.9723\n",
      "\n"
     ]
    },
    {
     "name": "stdout",
     "output_type": "stream",
     "text": [
      "Epoch 130, Loss 0.0207\n",
      "Training Accuracy: 0.9769, Testing Accuracy: 0.9733\n",
      "\n"
     ]
    },
    {
     "name": "stdout",
     "output_type": "stream",
     "text": [
      "Epoch 140, Loss 0.0202\n",
      "Training Accuracy: 0.9775, Testing Accuracy: 0.9738\n",
      "\n"
     ]
    },
    {
     "name": "stdout",
     "output_type": "stream",
     "text": [
      "Epoch 150, Loss 0.0197\n",
      "Training Accuracy: 0.9780, Testing Accuracy: 0.9743\n",
      "\n"
     ]
    },
    {
     "name": "stdout",
     "output_type": "stream",
     "text": [
      "Epoch 160, Loss 0.0192\n",
      "Training Accuracy: 0.9781, Testing Accuracy: 0.9738\n",
      "\n"
     ]
    },
    {
     "name": "stdout",
     "output_type": "stream",
     "text": [
      "Epoch 170, Loss 0.0188\n",
      "Training Accuracy: 0.9786, Testing Accuracy: 0.9743\n",
      "\n"
     ]
    },
    {
     "name": "stdout",
     "output_type": "stream",
     "text": [
      "Epoch 180, Loss 0.0183\n",
      "Training Accuracy: 0.9793, Testing Accuracy: 0.9738\n",
      "\n"
     ]
    },
    {
     "name": "stdout",
     "output_type": "stream",
     "text": [
      "Epoch 190, Loss 0.018\n",
      "Training Accuracy: 0.9798, Testing Accuracy: 0.9738\n",
      "\n"
     ]
    },
    {
     "name": "stdout",
     "output_type": "stream",
     "text": [
      "Epoch 200, Loss 0.0176\n",
      "Training Accuracy: 0.9802, Testing Accuracy: 0.9738\n",
      "\n"
     ]
    },
    {
     "name": "stdout",
     "output_type": "stream",
     "text": [
      "Epoch 210, Loss 0.0172\n",
      "Training Accuracy: 0.9806, Testing Accuracy: 0.9743\n",
      "\n"
     ]
    },
    {
     "name": "stdout",
     "output_type": "stream",
     "text": [
      "Epoch 220, Loss 0.0169\n",
      "Training Accuracy: 0.9816, Testing Accuracy: 0.9743\n",
      "\n"
     ]
    },
    {
     "name": "stdout",
     "output_type": "stream",
     "text": [
      "Epoch 230, Loss 0.0165\n",
      "Training Accuracy: 0.9819, Testing Accuracy: 0.9748\n",
      "\n"
     ]
    },
    {
     "name": "stdout",
     "output_type": "stream",
     "text": [
      "Epoch 240, Loss 0.0162\n",
      "Training Accuracy: 0.9825, Testing Accuracy: 0.9753\n",
      "\n"
     ]
    },
    {
     "data": {
      "text/plain": [
       "0.0014015330824973912"
      ]
     },
     "execution_count": 22,
     "metadata": {},
     "output_type": "execute_result"
    }
   ],
   "source": [
    "nn_learner.train_loop(dl)"
   ]
  },
  {
   "cell_type": "code",
   "execution_count": 23,
   "id": "e0163366",
   "metadata": {
    "execution": {
     "iopub.execute_input": "2021-12-15T10:10:39.890803Z",
     "iopub.status.busy": "2021-12-15T10:10:39.890212Z",
     "iopub.status.idle": "2021-12-15T10:10:54.363746Z",
     "shell.execute_reply": "2021-12-15T10:10:54.364546Z"
    },
    "papermill": {
     "duration": 14.520782,
     "end_time": "2021-12-15T10:10:54.364720",
     "exception": false,
     "start_time": "2021-12-15T10:10:39.843938",
     "status": "completed"
    },
    "tags": []
   },
   "outputs": [
    {
     "name": "stdout",
     "output_type": "stream",
     "text": [
      "Epoch 0, Loss 0.2339\n",
      "Training Accuracy: 0.7299, Testing Accuracy: 0.7591\n",
      "\n"
     ]
    },
    {
     "name": "stdout",
     "output_type": "stream",
     "text": [
      "Epoch 10, Loss 0.0975\n",
      "Training Accuracy: 0.9199, Testing Accuracy: 0.9315\n",
      "\n"
     ]
    },
    {
     "name": "stdout",
     "output_type": "stream",
     "text": [
      "Epoch 20, Loss 0.0766\n",
      "Training Accuracy: 0.9305, Testing Accuracy: 0.9420\n",
      "\n"
     ]
    },
    {
     "name": "stdout",
     "output_type": "stream",
     "text": [
      "Epoch 30, Loss 0.0669\n",
      "Training Accuracy: 0.9372, Testing Accuracy: 0.9486\n",
      "\n"
     ]
    },
    {
     "name": "stdout",
     "output_type": "stream",
     "text": [
      "Epoch 40, Loss 0.0609\n",
      "Training Accuracy: 0.9407, Testing Accuracy: 0.9536\n",
      "\n"
     ]
    },
    {
     "name": "stdout",
     "output_type": "stream",
     "text": [
      "Epoch 50, Loss 0.0567\n",
      "Training Accuracy: 0.9439, Testing Accuracy: 0.9556\n",
      "\n"
     ]
    },
    {
     "name": "stdout",
     "output_type": "stream",
     "text": [
      "Epoch 60, Loss 0.0536\n",
      "Training Accuracy: 0.9462, Testing Accuracy: 0.9597\n",
      "\n"
     ]
    },
    {
     "name": "stdout",
     "output_type": "stream",
     "text": [
      "Epoch 70, Loss 0.0511\n",
      "Training Accuracy: 0.9484, Testing Accuracy: 0.9622\n",
      "\n"
     ]
    },
    {
     "name": "stdout",
     "output_type": "stream",
     "text": [
      "Epoch 80, Loss 0.0492\n",
      "Training Accuracy: 0.9506, Testing Accuracy: 0.9622\n",
      "\n"
     ]
    },
    {
     "name": "stdout",
     "output_type": "stream",
     "text": [
      "Epoch 90, Loss 0.0475\n",
      "Training Accuracy: 0.9513, Testing Accuracy: 0.9627\n",
      "\n"
     ]
    },
    {
     "name": "stdout",
     "output_type": "stream",
     "text": [
      "Epoch 100, Loss 0.0461\n",
      "Training Accuracy: 0.9528, Testing Accuracy: 0.9632\n",
      "\n"
     ]
    },
    {
     "name": "stdout",
     "output_type": "stream",
     "text": [
      "Epoch 110, Loss 0.0449\n",
      "Training Accuracy: 0.9540, Testing Accuracy: 0.9632\n",
      "\n"
     ]
    },
    {
     "name": "stdout",
     "output_type": "stream",
     "text": [
      "Epoch 120, Loss 0.0439\n",
      "Training Accuracy: 0.9546, Testing Accuracy: 0.9637\n",
      "\n"
     ]
    },
    {
     "name": "stdout",
     "output_type": "stream",
     "text": [
      "Epoch 130, Loss 0.043\n",
      "Training Accuracy: 0.9546, Testing Accuracy: 0.9632\n",
      "\n"
     ]
    },
    {
     "name": "stdout",
     "output_type": "stream",
     "text": [
      "Epoch 140, Loss 0.0422\n",
      "Training Accuracy: 0.9553, Testing Accuracy: 0.9637\n",
      "\n"
     ]
    },
    {
     "name": "stdout",
     "output_type": "stream",
     "text": [
      "Epoch 150, Loss 0.0414\n",
      "Training Accuracy: 0.9556, Testing Accuracy: 0.9637\n",
      "\n"
     ]
    },
    {
     "name": "stdout",
     "output_type": "stream",
     "text": [
      "Epoch 160, Loss 0.0408\n",
      "Training Accuracy: 0.9558, Testing Accuracy: 0.9652\n",
      "\n"
     ]
    },
    {
     "name": "stdout",
     "output_type": "stream",
     "text": [
      "Epoch 170, Loss 0.0401\n",
      "Training Accuracy: 0.9564, Testing Accuracy: 0.9647\n",
      "\n"
     ]
    },
    {
     "name": "stdout",
     "output_type": "stream",
     "text": [
      "Epoch 180, Loss 0.0396\n",
      "Training Accuracy: 0.9568, Testing Accuracy: 0.9647\n",
      "\n"
     ]
    },
    {
     "name": "stdout",
     "output_type": "stream",
     "text": [
      "Epoch 190, Loss 0.0391\n",
      "Training Accuracy: 0.9571, Testing Accuracy: 0.9652\n",
      "\n"
     ]
    },
    {
     "name": "stdout",
     "output_type": "stream",
     "text": [
      "Epoch 200, Loss 0.0386\n",
      "Training Accuracy: 0.9576, Testing Accuracy: 0.9652\n",
      "\n"
     ]
    },
    {
     "name": "stdout",
     "output_type": "stream",
     "text": [
      "Epoch 210, Loss 0.0381\n",
      "Training Accuracy: 0.9581, Testing Accuracy: 0.9652\n",
      "\n"
     ]
    },
    {
     "name": "stdout",
     "output_type": "stream",
     "text": [
      "Epoch 220, Loss 0.0377\n",
      "Training Accuracy: 0.9586, Testing Accuracy: 0.9652\n",
      "\n"
     ]
    },
    {
     "name": "stdout",
     "output_type": "stream",
     "text": [
      "Epoch 230, Loss 0.0374\n",
      "Training Accuracy: 0.9592, Testing Accuracy: 0.9667\n",
      "\n"
     ]
    },
    {
     "name": "stdout",
     "output_type": "stream",
     "text": [
      "Epoch 240, Loss 0.037\n",
      "Training Accuracy: 0.9597, Testing Accuracy: 0.9667\n",
      "\n"
     ]
    },
    {
     "data": {
      "text/plain": [
       "0.04139405570245043"
      ]
     },
     "execution_count": 23,
     "metadata": {},
     "output_type": "execute_result"
    }
   ],
   "source": [
    "lr_learner.train_loop(dl)"
   ]
  },
  {
   "cell_type": "code",
   "execution_count": 24,
   "id": "ca410940",
   "metadata": {
    "execution": {
     "iopub.execute_input": "2021-12-15T10:10:54.463082Z",
     "iopub.status.busy": "2021-12-15T10:10:54.462540Z",
     "iopub.status.idle": "2021-12-15T10:10:54.696486Z",
     "shell.execute_reply": "2021-12-15T10:10:54.696956Z"
    },
    "papermill": {
     "duration": 0.288002,
     "end_time": "2021-12-15T10:10:54.697120",
     "exception": false,
     "start_time": "2021-12-15T10:10:54.409118",
     "status": "completed"
    },
    "tags": []
   },
   "outputs": [
    {
     "data": {
      "text/plain": [
       "<matplotlib.legend.Legend at 0x7fadca632c50>"
      ]
     },
     "execution_count": 24,
     "metadata": {},
     "output_type": "execute_result"
    },
    {
     "data": {
      "image/png": "[encoded data removed]",
      "text/plain": [
       "<Figure size 1080x720 with 1 Axes>"
      ]
     },
     "metadata": {
      "needs_background": "light"
     },
     "output_type": "display_data"
    }
   ],
   "source": [
    "#comparing the results of NN and LR\n",
    "plt.figure(figsize=(15,10))\n",
    "\n",
    "# Neural Network plots\n",
    "plt.plot(acc_nn.accuracies, 'r-', label = \"Training Accuracies - NN\")\n",
    "plt.plot(acc_nn.test_accuracies, 'g-', label = \"Testing Accuracies - NN\")\n",
    "\n",
    "# Logistic Regression plots\n",
    "plt.plot(acc_lr.accuracies, 'k-', label = \"Training Accuracies - LR\")\n",
    "plt.plot(acc_lr.test_accuracies, 'b-', label = \"Testing Accuracies - LR\")\n",
    "plt.legend()"
   ]
  },
  {
   "cell_type": "markdown",
   "id": "80dfb35c",
   "metadata": {
    "papermill": {
     "duration": 0.043071,
     "end_time": "2021-12-15T10:10:54.784644",
     "exception": false,
     "start_time": "2021-12-15T10:10:54.741573",
     "status": "completed"
    },
    "tags": []
   },
   "source": [
    "#### Plotting the outputs of this layer of the NN.\n"
   ]
  },
  {
   "cell_type": "code",
   "execution_count": 25,
   "id": "45eb2ff5",
   "metadata": {
    "execution": {
     "iopub.execute_input": "2021-12-15T10:10:54.876628Z",
     "iopub.status.busy": "2021-12-15T10:10:54.876047Z",
     "iopub.status.idle": "2021-12-15T10:10:54.897542Z",
     "shell.execute_reply": "2021-12-15T10:10:54.898032Z"
    },
    "papermill": {
     "duration": 0.069116,
     "end_time": "2021-12-15T10:10:54.898186",
     "exception": false,
     "start_time": "2021-12-15T10:10:54.829070",
     "status": "completed"
    },
    "tags": []
   },
   "outputs": [],
   "source": [
    "new_model = Model(layers[:-2])\n",
    "testing_plot = new_model(testing_data_x)"
   ]
  },
  {
   "cell_type": "code",
   "execution_count": 26,
   "id": "4c0a5485",
   "metadata": {
    "execution": {
     "iopub.execute_input": "2021-12-15T10:10:55.003477Z",
     "iopub.status.busy": "2021-12-15T10:10:54.997557Z",
     "iopub.status.idle": "2021-12-15T10:10:55.191881Z",
     "shell.execute_reply": "2021-12-15T10:10:55.192314Z"
    },
    "papermill": {
     "duration": 0.249106,
     "end_time": "2021-12-15T10:10:55.192471",
     "exception": false,
     "start_time": "2021-12-15T10:10:54.943365",
     "status": "completed"
    },
    "tags": []
   },
   "outputs": [
    {
     "data": {
      "text/plain": [
       "Text(0.5, 1.0, 'Outputs')"
      ]
     },
     "execution_count": 26,
     "metadata": {},
     "output_type": "execute_result"
    },
    {
     "data": {
      "image/png": "[encoded data removed]",
      "text/plain": [
       "<Figure size 576x504 with 1 Axes>"
      ]
     },
     "metadata": {
      "needs_background": "light"
     },
     "output_type": "display_data"
    }
   ],
   "source": [
    "# Plotting the scatter plot of points and color coding by class\n",
    "plt.figure(figsize=(8,7))\n",
    "plt.scatter(testing_plot[:,0], testing_plot[:,1], alpha = 0.1, c = y_test.ravel());\n",
    "plt.title('Outputs')"
   ]
  },
  {
   "cell_type": "markdown",
   "id": "a74fcf8f",
   "metadata": {
    "papermill": {
     "duration": 0.045863,
     "end_time": "2021-12-15T10:10:55.286443",
     "exception": false,
     "start_time": "2021-12-15T10:10:55.240580",
     "status": "completed"
    },
    "tags": []
   },
   "source": [
    "Probability contours"
   ]
  },
  {
   "cell_type": "code",
   "execution_count": 27,
   "id": "d0afc8e3",
   "metadata": {
    "execution": {
     "iopub.execute_input": "2021-12-15T10:10:55.384354Z",
     "iopub.status.busy": "2021-12-15T10:10:55.383789Z",
     "iopub.status.idle": "2021-12-15T10:10:55.396532Z",
     "shell.execute_reply": "2021-12-15T10:10:55.396047Z"
    },
    "papermill": {
     "duration": 0.063902,
     "end_time": "2021-12-15T10:10:55.396662",
     "exception": false,
     "start_time": "2021-12-15T10:10:55.332760",
     "status": "completed"
    },
    "tags": []
   },
   "outputs": [],
   "source": [
    "model_prob = Model(layers[-2:]) "
   ]
  },
  {
   "cell_type": "code",
   "execution_count": 28,
   "id": "9b96e238",
   "metadata": {
    "execution": {
     "iopub.execute_input": "2021-12-15T10:10:55.526785Z",
     "iopub.status.busy": "2021-12-15T10:10:55.526245Z",
     "iopub.status.idle": "2021-12-15T10:10:55.541632Z",
     "shell.execute_reply": "2021-12-15T10:10:55.542101Z"
    },
    "papermill": {
     "duration": 0.069333,
     "end_time": "2021-12-15T10:10:55.542259",
     "exception": false,
     "start_time": "2021-12-15T10:10:55.472926",
     "status": "completed"
    },
    "tags": []
   },
   "outputs": [],
   "source": [
    "#creating the x and y ranges according to the above generated plot.\n",
    "x_range = np.linspace(-4, 1, 100) \n",
    "y_range = np.linspace(-6, 6, 100) \n",
    "x_grid, y_grid = np.meshgrid(x_range, y_range) # x_grid and y_grig are of size 100 X 100\n",
    "\n",
    "# converting x_grid and y_grid to continuous arrays\n",
    "x_gridflat = np.ravel(x_grid)\n",
    "y_gridflat = np.ravel(y_grid)\n",
    "\n",
    "# The last layer of the current model takes two columns as input. Hence transpose of np.vstack() is required.\n",
    "X = np.vstack((x_gridflat, y_gridflat)).T\n",
    "\n",
    "prob_contour = model_prob(X).reshape(100,100) "
   ]
  },
  {
   "cell_type": "code",
   "execution_count": 29,
   "id": "da72499a",
   "metadata": {
    "execution": {
     "iopub.execute_input": "2021-12-15T10:10:55.654571Z",
     "iopub.status.busy": "2021-12-15T10:10:55.653989Z",
     "iopub.status.idle": "2021-12-15T10:10:55.896295Z",
     "shell.execute_reply": "2021-12-15T10:10:55.896710Z"
    },
    "papermill": {
     "duration": 0.302109,
     "end_time": "2021-12-15T10:10:55.896865",
     "exception": false,
     "start_time": "2021-12-15T10:10:55.594756",
     "status": "completed"
    },
    "tags": []
   },
   "outputs": [
    {
     "data": {
      "image/png": "[encoded data removed]",
      "text/plain": [
       "<Figure size 720x648 with 1 Axes>"
      ]
     },
     "metadata": {
      "needs_background": "light"
     },
     "output_type": "display_data"
    }
   ],
   "source": [
    "plt.figure(figsize=(10,9))\n",
    "plt.scatter(testing_plot[:,0], testing_plot[:,1], alpha = 0.1, c = y_test.ravel())\n",
    "contours = plt.contour(x_grid,y_grid,prob_contour)\n",
    "plt.title('Probability Contours')\n",
    "plt.clabel(contours, inline = True );"
   ]
  },
  {
   "cell_type": "code",
   "execution_count": null,
   "id": "e81b4ac7",
   "metadata": {
    "papermill": {
     "duration": 0.04948,
     "end_time": "2021-12-15T10:10:55.995986",
     "exception": false,
     "start_time": "2021-12-15T10:10:55.946506",
     "status": "completed"
    },
    "tags": []
   },
   "outputs": [],
   "source": []
  }
 ],
 "metadata": {
  "kernelspec": {
   "display_name": "Python 3",
   "language": "python",
   "name": "python3"
  },
  "language_info": {
   "codemirror_mode": {
    "name": "ipython",
    "version": 3
   },
   "file_extension": ".py",
   "mimetype": "text/x-python",
   "name": "python",
   "nbconvert_exporter": "python",
   "pygments_lexer": "ipython3",
   "version": "3.6.15"
  },
  "papermill": {
   "default_parameters": {},
   "duration": 106.70836,
   "end_time": "2021-12-15T10:10:56.459771",
   "environment_variables": {},
   "exception": null,
   "input_path": "2020-08-11-part2.ipynb",
   "output_path": "2020-08-11-part2.ipynb",
   "parameters": {},
   "start_time": "2021-12-15T10:09:09.751411",
   "version": "2.3.3"
  }
 },
 "nbformat": 4,
 "nbformat_minor": 5
}