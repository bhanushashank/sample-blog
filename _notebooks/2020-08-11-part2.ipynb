{
 "cells": [
  {
   "cell_type": "markdown",
   "id": "98380cd3",
   "metadata": {
    "papermill": {
     "duration": 0.033944,
     "end_time": "2021-09-05T00:20:58.127090",
     "exception": false,
     "start_time": "2021-09-05T00:20:58.093146",
     "status": "completed"
    },
    "tags": []
   },
   "source": [
    "# Distinguish Your Own Digits (DYOD)"
   ]
  },
  {
   "cell_type": "markdown",
   "id": "ef31240d",
   "metadata": {
    "papermill": {
     "duration": 0.025647,
     "end_time": "2021-09-05T00:20:58.179191",
     "exception": false,
     "start_time": "2021-09-05T00:20:58.153544",
     "status": "completed"
    },
    "tags": []
   },
   "source": [
    "You are going to write a classifier that distinguishes between the number 3 and number 8."
   ]
  },
  {
   "cell_type": "code",
   "execution_count": 1,
   "id": "b15c8646",
   "metadata": {
    "execution": {
     "iopub.execute_input": "2021-09-05T00:20:58.241731Z",
     "iopub.status.busy": "2021-09-05T00:20:58.241173Z",
     "iopub.status.idle": "2021-09-05T00:20:58.251912Z",
     "shell.execute_reply": "2021-09-05T00:20:58.251438Z"
    },
    "papermill": {
     "duration": 0.047096,
     "end_time": "2021-09-05T00:20:58.252031",
     "exception": false,
     "start_time": "2021-09-05T00:20:58.204935",
     "status": "completed"
    },
    "tags": []
   },
   "outputs": [],
   "source": [
    "%load_ext autoreload\n",
    "%autoreload 2"
   ]
  },
  {
   "cell_type": "code",
   "execution_count": 2,
   "id": "22ef38dc",
   "metadata": {
    "execution": {
     "iopub.execute_input": "2021-09-05T00:20:58.306775Z",
     "iopub.status.busy": "2021-09-05T00:20:58.306196Z",
     "iopub.status.idle": "2021-09-05T00:20:58.868763Z",
     "shell.execute_reply": "2021-09-05T00:20:58.867838Z"
    },
    "papermill": {
     "duration": 0.591463,
     "end_time": "2021-09-05T00:20:58.868985",
     "exception": false,
     "start_time": "2021-09-05T00:20:58.277522",
     "status": "completed"
    },
    "tags": []
   },
   "outputs": [],
   "source": [
    "%matplotlib inline\n",
    "import numpy as np\n",
    "import matplotlib.pyplot as plt\n",
    "import pandas as pd"
   ]
  },
  {
   "cell_type": "markdown",
   "id": "ba036198",
   "metadata": {
    "papermill": {
     "duration": 0.02766,
     "end_time": "2021-09-05T00:20:58.923614",
     "exception": false,
     "start_time": "2021-09-05T00:20:58.895954",
     "status": "completed"
    },
    "tags": []
   },
   "source": [
    "From the command line run `pip install mnist`. This is a library that will help you bring down the mnist dataset. If you run this from a notebook, you need to put  `!pip install mnist` in a cell by itself."
   ]
  },
  {
   "cell_type": "code",
   "execution_count": 3,
   "id": "bb6ad8a1",
   "metadata": {
    "execution": {
     "iopub.execute_input": "2021-09-05T00:20:58.981377Z",
     "iopub.status.busy": "2021-09-05T00:20:58.980786Z",
     "iopub.status.idle": "2021-09-05T00:21:01.565178Z",
     "shell.execute_reply": "2021-09-05T00:21:01.565693Z"
    },
    "papermill": {
     "duration": 2.616299,
     "end_time": "2021-09-05T00:21:01.565843",
     "exception": false,
     "start_time": "2021-09-05T00:20:58.949544",
     "status": "completed"
    },
    "tags": []
   },
   "outputs": [
    {
     "name": "stdout",
     "output_type": "stream",
     "text": [
      "Collecting mnist\r\n"
     ]
    },
    {
     "name": "stdout",
     "output_type": "stream",
     "text": [
      "  Downloading mnist-0.2.2-py2.py3-none-any.whl (3.5 kB)\r\n",
      "Requirement already satisfied: numpy in /opt/hostedtoolcache/Python/3.6.14/x64/lib/python3.6/site-packages (from mnist) (1.19.5)\r\n"
     ]
    },
    {
     "name": "stdout",
     "output_type": "stream",
     "text": [
      "Installing collected packages: mnist\r\n"
     ]
    },
    {
     "name": "stdout",
     "output_type": "stream",
     "text": [
      "Successfully installed mnist-0.2.2\r\n"
     ]
    }
   ],
   "source": [
    "!pip install mnist"
   ]
  },
  {
   "cell_type": "markdown",
   "id": "69df9c9a",
   "metadata": {
    "papermill": {
     "duration": 0.028051,
     "end_time": "2021-09-05T00:21:01.622162",
     "exception": false,
     "start_time": "2021-09-05T00:21:01.594111",
     "status": "completed"
    },
    "tags": []
   },
   "source": [
    "## Preparing the Data"
   ]
  },
  {
   "cell_type": "code",
   "execution_count": 4,
   "id": "7f69d806",
   "metadata": {
    "execution": {
     "iopub.execute_input": "2021-09-05T00:21:01.685014Z",
     "iopub.status.busy": "2021-09-05T00:21:01.684405Z",
     "iopub.status.idle": "2021-09-05T00:21:01.698248Z",
     "shell.execute_reply": "2021-09-05T00:21:01.697748Z"
    },
    "papermill": {
     "duration": 0.0481,
     "end_time": "2021-09-05T00:21:01.698366",
     "exception": false,
     "start_time": "2021-09-05T00:21:01.650266",
     "status": "completed"
    },
    "tags": []
   },
   "outputs": [],
   "source": [
    "import mnist"
   ]
  },
  {
   "cell_type": "code",
   "execution_count": 5,
   "id": "a411e44f",
   "metadata": {
    "execution": {
     "iopub.execute_input": "2021-09-05T00:21:01.756688Z",
     "iopub.status.busy": "2021-09-05T00:21:01.756114Z",
     "iopub.status.idle": "2021-09-05T00:21:02.356449Z",
     "shell.execute_reply": "2021-09-05T00:21:02.357297Z"
    },
    "papermill": {
     "duration": 0.631956,
     "end_time": "2021-09-05T00:21:02.357543",
     "exception": false,
     "start_time": "2021-09-05T00:21:01.725587",
     "status": "completed"
    },
    "tags": []
   },
   "outputs": [],
   "source": [
    "train_images = mnist.train_images()\n",
    "train_labels = mnist.train_labels()"
   ]
  },
  {
   "cell_type": "code",
   "execution_count": 6,
   "id": "dceab3a5",
   "metadata": {
    "execution": {
     "iopub.execute_input": "2021-09-05T00:21:02.419138Z",
     "iopub.status.busy": "2021-09-05T00:21:02.418557Z",
     "iopub.status.idle": "2021-09-05T00:21:02.435115Z",
     "shell.execute_reply": "2021-09-05T00:21:02.435580Z"
    },
    "papermill": {
     "duration": 0.048286,
     "end_time": "2021-09-05T00:21:02.435703",
     "exception": false,
     "start_time": "2021-09-05T00:21:02.387417",
     "status": "completed"
    },
    "tags": []
   },
   "outputs": [
    {
     "data": {
      "text/plain": [
       "((60000, 28, 28), (60000,))"
      ]
     },
     "execution_count": 6,
     "metadata": {},
     "output_type": "execute_result"
    }
   ],
   "source": [
    "train_images.shape, train_labels.shape"
   ]
  },
  {
   "cell_type": "code",
   "execution_count": 7,
   "id": "f50dc2bb",
   "metadata": {
    "execution": {
     "iopub.execute_input": "2021-09-05T00:21:02.494879Z",
     "iopub.status.busy": "2021-09-05T00:21:02.494300Z",
     "iopub.status.idle": "2021-09-05T00:21:02.694846Z",
     "shell.execute_reply": "2021-09-05T00:21:02.693918Z"
    },
    "papermill": {
     "duration": 0.231953,
     "end_time": "2021-09-05T00:21:02.695048",
     "exception": false,
     "start_time": "2021-09-05T00:21:02.463095",
     "status": "completed"
    },
    "tags": []
   },
   "outputs": [],
   "source": [
    "test_images = mnist.test_images()\n",
    "test_labels = mnist.test_labels()"
   ]
  },
  {
   "cell_type": "code",
   "execution_count": 8,
   "id": "fc38cf1b",
   "metadata": {
    "execution": {
     "iopub.execute_input": "2021-09-05T00:21:02.753617Z",
     "iopub.status.busy": "2021-09-05T00:21:02.753073Z",
     "iopub.status.idle": "2021-09-05T00:21:02.767333Z",
     "shell.execute_reply": "2021-09-05T00:21:02.766884Z"
    },
    "papermill": {
     "duration": 0.044599,
     "end_time": "2021-09-05T00:21:02.767448",
     "exception": false,
     "start_time": "2021-09-05T00:21:02.722849",
     "status": "completed"
    },
    "tags": []
   },
   "outputs": [
    {
     "data": {
      "text/plain": [
       "((10000, 28, 28), (10000,))"
      ]
     },
     "execution_count": 8,
     "metadata": {},
     "output_type": "execute_result"
    }
   ],
   "source": [
    "test_images.shape, test_labels.shape"
   ]
  },
  {
   "cell_type": "code",
   "execution_count": 9,
   "id": "f9ed8fe0",
   "metadata": {
    "execution": {
     "iopub.execute_input": "2021-09-05T00:21:02.837581Z",
     "iopub.status.busy": "2021-09-05T00:21:02.833488Z",
     "iopub.status.idle": "2021-09-05T00:21:02.985833Z",
     "shell.execute_reply": "2021-09-05T00:21:02.985153Z"
    },
    "papermill": {
     "duration": 0.183863,
     "end_time": "2021-09-05T00:21:02.986007",
     "exception": false,
     "start_time": "2021-09-05T00:21:02.802144",
     "status": "completed"
    },
    "tags": []
   },
   "outputs": [
    {
     "name": "stdout",
     "output_type": "stream",
     "text": [
      "2\n"
     ]
    },
    {
     "data": {
      "text/plain": [
       "<matplotlib.image.AxesImage at 0x7fc4737d7d68>"
      ]
     },
     "execution_count": 9,
     "metadata": {},
     "output_type": "execute_result"
    },
    {
     "data": {
      "image/png": "[encoded data removed]",
      "text/plain": [
       "<Figure size 432x288 with 1 Axes>"
      ]
     },
     "metadata": {
      "needs_background": "light"
     },
     "output_type": "display_data"
    }
   ],
   "source": [
    "image_index = 7776 # You may select anything up to 60,000\n",
    "print(train_labels[image_index]) \n",
    "plt.imshow(train_images[image_index], cmap='Greys')"
   ]
  },
  {
   "cell_type": "markdown",
   "id": "a8d2388d",
   "metadata": {
    "papermill": {
     "duration": 0.029327,
     "end_time": "2021-09-05T00:21:03.045946",
     "exception": false,
     "start_time": "2021-09-05T00:21:03.016619",
     "status": "completed"
    },
    "tags": []
   },
   "source": [
    "## Filter data to get 3 and 8 out"
   ]
  },
  {
   "cell_type": "code",
   "execution_count": 10,
   "id": "776f7fc7",
   "metadata": {
    "execution": {
     "iopub.execute_input": "2021-09-05T00:21:03.112606Z",
     "iopub.status.busy": "2021-09-05T00:21:03.110908Z",
     "iopub.status.idle": "2021-09-05T00:21:03.131237Z",
     "shell.execute_reply": "2021-09-05T00:21:03.130772Z"
    },
    "papermill": {
     "duration": 0.054593,
     "end_time": "2021-09-05T00:21:03.131347",
     "exception": false,
     "start_time": "2021-09-05T00:21:03.076754",
     "status": "completed"
    },
    "tags": []
   },
   "outputs": [],
   "source": [
    "train_filter = np.where((train_labels == 3 ) | (train_labels == 8))\n",
    "test_filter = np.where((test_labels == 3) | (test_labels == 8))\n",
    "X_train, y_train = train_images[train_filter], train_labels[train_filter]\n",
    "X_test, y_test = test_images[test_filter], test_labels[test_filter]"
   ]
  },
  {
   "cell_type": "markdown",
   "id": "948f0b7e",
   "metadata": {
    "papermill": {
     "duration": 0.030814,
     "end_time": "2021-09-05T00:21:03.191649",
     "exception": false,
     "start_time": "2021-09-05T00:21:03.160835",
     "status": "completed"
    },
    "tags": []
   },
   "source": [
    "We normalize the pizel values in the 0 to 1 range"
   ]
  },
  {
   "cell_type": "code",
   "execution_count": 11,
   "id": "ee4c2166",
   "metadata": {
    "execution": {
     "iopub.execute_input": "2021-09-05T00:21:03.254632Z",
     "iopub.status.busy": "2021-09-05T00:21:03.254044Z",
     "iopub.status.idle": "2021-09-05T00:21:03.306576Z",
     "shell.execute_reply": "2021-09-05T00:21:03.305754Z"
    },
    "papermill": {
     "duration": 0.085763,
     "end_time": "2021-09-05T00:21:03.306756",
     "exception": false,
     "start_time": "2021-09-05T00:21:03.220993",
     "status": "completed"
    },
    "tags": []
   },
   "outputs": [],
   "source": [
    "X_train = X_train/255.\n",
    "X_test = X_test/255."
   ]
  },
  {
   "cell_type": "markdown",
   "id": "ddcf4fab",
   "metadata": {
    "papermill": {
     "duration": 0.031368,
     "end_time": "2021-09-05T00:21:03.371576",
     "exception": false,
     "start_time": "2021-09-05T00:21:03.340208",
     "status": "completed"
    },
    "tags": []
   },
   "source": [
    "And setup the labels as 1 (when the digit is 3) and 0 (when the digit is 8)"
   ]
  },
  {
   "cell_type": "code",
   "execution_count": 12,
   "id": "7dc908f2",
   "metadata": {
    "execution": {
     "iopub.execute_input": "2021-09-05T00:21:03.439466Z",
     "iopub.status.busy": "2021-09-05T00:21:03.438098Z",
     "iopub.status.idle": "2021-09-05T00:21:03.450142Z",
     "shell.execute_reply": "2021-09-05T00:21:03.449640Z"
    },
    "papermill": {
     "duration": 0.048296,
     "end_time": "2021-09-05T00:21:03.450258",
     "exception": false,
     "start_time": "2021-09-05T00:21:03.401962",
     "status": "completed"
    },
    "tags": []
   },
   "outputs": [],
   "source": [
    "y_train = 1*(y_train==3)\n",
    "y_test = 1*(y_test==3)"
   ]
  },
  {
   "cell_type": "code",
   "execution_count": 13,
   "id": "01e4e969",
   "metadata": {
    "execution": {
     "iopub.execute_input": "2021-09-05T00:21:03.519181Z",
     "iopub.status.busy": "2021-09-05T00:21:03.516815Z",
     "iopub.status.idle": "2021-09-05T00:21:03.531713Z",
     "shell.execute_reply": "2021-09-05T00:21:03.531127Z"
    },
    "papermill": {
     "duration": 0.050623,
     "end_time": "2021-09-05T00:21:03.531840",
     "exception": false,
     "start_time": "2021-09-05T00:21:03.481217",
     "status": "completed"
    },
    "tags": []
   },
   "outputs": [
    {
     "data": {
      "text/plain": [
       "((11982, 28, 28), (1984, 28, 28))"
      ]
     },
     "execution_count": 13,
     "metadata": {},
     "output_type": "execute_result"
    }
   ],
   "source": [
    "X_train.shape, X_test.shape"
   ]
  },
  {
   "cell_type": "markdown",
   "id": "5ccf3f85",
   "metadata": {
    "papermill": {
     "duration": 0.03052,
     "end_time": "2021-09-05T00:21:03.591369",
     "exception": false,
     "start_time": "2021-09-05T00:21:03.560849",
     "status": "completed"
    },
    "tags": []
   },
   "source": [
    "We reshape the data to flatten the image pixels into a set of features or co-variates:"
   ]
  },
  {
   "cell_type": "code",
   "execution_count": 14,
   "id": "5286a4a3",
   "metadata": {
    "execution": {
     "iopub.execute_input": "2021-09-05T00:21:03.658513Z",
     "iopub.status.busy": "2021-09-05T00:21:03.657927Z",
     "iopub.status.idle": "2021-09-05T00:21:03.671411Z",
     "shell.execute_reply": "2021-09-05T00:21:03.670979Z"
    },
    "papermill": {
     "duration": 0.048561,
     "end_time": "2021-09-05T00:21:03.671522",
     "exception": false,
     "start_time": "2021-09-05T00:21:03.622961",
     "status": "completed"
    },
    "tags": []
   },
   "outputs": [
    {
     "data": {
      "text/plain": [
       "((11982, 784), (1984, 784))"
      ]
     },
     "execution_count": 14,
     "metadata": {},
     "output_type": "execute_result"
    }
   ],
   "source": [
    "X_train = X_train.reshape(X_train.shape[0], -1)\n",
    "X_test = X_test.reshape(X_test.shape[0], -1)\n",
    "X_train.shape, X_test.shape"
   ]
  },
  {
   "cell_type": "code",
   "execution_count": 15,
   "id": "73c5f88a",
   "metadata": {
    "execution": {
     "iopub.execute_input": "2021-09-05T00:21:03.739586Z",
     "iopub.status.busy": "2021-09-05T00:21:03.738998Z",
     "iopub.status.idle": "2021-09-05T00:21:03.759373Z",
     "shell.execute_reply": "2021-09-05T00:21:03.758895Z"
    },
    "papermill": {
     "duration": 0.056846,
     "end_time": "2021-09-05T00:21:03.759490",
     "exception": false,
     "start_time": "2021-09-05T00:21:03.702644",
     "status": "completed"
    },
    "tags": []
   },
   "outputs": [],
   "source": [
    "#Impoting functions from 'Kudzu'\n",
    "from kudzu.model import Model\n",
    "from kudzu.train import Learner\n",
    "from kudzu.optim import GD\n",
    "from kudzu.data import Data, Sampler,Dataloader\n",
    "\n",
    "from kudzu.callbacks import AccCallback\n",
    "from kudzu.callbacks import ClfCallback\n",
    "\n",
    "from kudzu.loss import MSE\n",
    "\n",
    "from kudzu.layer import Sigmoid,Relu\n",
    "from kudzu.layer import Affine"
   ]
  },
  {
   "cell_type": "markdown",
   "id": "bc01172a",
   "metadata": {
    "papermill": {
     "duration": 0.030615,
     "end_time": "2021-09-05T00:21:03.821192",
     "exception": false,
     "start_time": "2021-09-05T00:21:03.790577",
     "status": "completed"
    },
    "tags": []
   },
   "source": [
    "### Let us create a `Config` class, to store important parameters. \n",
    "This class essentially plays the role of a dictionary."
   ]
  },
  {
   "cell_type": "code",
   "execution_count": 16,
   "id": "978281aa",
   "metadata": {
    "execution": {
     "iopub.execute_input": "2021-09-05T00:21:03.885326Z",
     "iopub.status.busy": "2021-09-05T00:21:03.884718Z",
     "iopub.status.idle": "2021-09-05T00:21:03.896776Z",
     "shell.execute_reply": "2021-09-05T00:21:03.897278Z"
    },
    "papermill": {
     "duration": 0.046797,
     "end_time": "2021-09-05T00:21:03.897411",
     "exception": false,
     "start_time": "2021-09-05T00:21:03.850614",
     "status": "completed"
    },
    "tags": []
   },
   "outputs": [],
   "source": [
    "class Config:\n",
    "    pass\n",
    "config = Config()\n",
    "config.lr = 0.001\n",
    "config.num_epochs = 250\n",
    "config.bs = 50"
   ]
  },
  {
   "cell_type": "markdown",
   "id": "1385fa59",
   "metadata": {
    "papermill": {
     "duration": 0.029921,
     "end_time": "2021-09-05T00:21:03.956611",
     "exception": false,
     "start_time": "2021-09-05T00:21:03.926690",
     "status": "completed"
    },
    "tags": []
   },
   "source": [
    "### Running Models with the Training data\n",
    "Details about the network layers:\n",
    "- A first affine layer has 784 inputs and does 100 affine transforms. These are followed by a Relu\n",
    "- A second affine layer has 100 inputs from the 100 activations of the past layer, and does 100 affine transforms. These are followed by a Relu\n",
    "- A third affine layer has 100 activations and does 2 affine transformations to create an embedding for visualization. There is no non-linearity here.\n",
    "- A final \"logistic regression\" which has an affine transform from 2 inputs to 1 output, which is squeezed through a sigmoid.\n"
   ]
  },
  {
   "cell_type": "code",
   "execution_count": 17,
   "id": "2b9c66db",
   "metadata": {
    "execution": {
     "iopub.execute_input": "2021-09-05T00:21:04.022494Z",
     "iopub.status.busy": "2021-09-05T00:21:04.021885Z",
     "iopub.status.idle": "2021-09-05T00:21:04.035571Z",
     "shell.execute_reply": "2021-09-05T00:21:04.035134Z"
    },
    "papermill": {
     "duration": 0.048422,
     "end_time": "2021-09-05T00:21:04.035681",
     "exception": false,
     "start_time": "2021-09-05T00:21:03.987259",
     "status": "completed"
    },
    "tags": []
   },
   "outputs": [],
   "source": [
    "data = Data(X_train, y_train.reshape(-1,1))\n",
    "sampler = Sampler(data, config.bs, shuffle=True)\n",
    "\n",
    "dl = Dataloader(data, sampler)\n",
    "\n",
    "opt = GD(config.lr)\n",
    "loss = MSE()"
   ]
  },
  {
   "cell_type": "code",
   "execution_count": 18,
   "id": "b275e4c2",
   "metadata": {
    "execution": {
     "iopub.execute_input": "2021-09-05T00:21:04.105014Z",
     "iopub.status.busy": "2021-09-05T00:21:04.104419Z",
     "iopub.status.idle": "2021-09-05T00:21:04.117360Z",
     "shell.execute_reply": "2021-09-05T00:21:04.116884Z"
    },
    "papermill": {
     "duration": 0.052166,
     "end_time": "2021-09-05T00:21:04.117477",
     "exception": false,
     "start_time": "2021-09-05T00:21:04.065311",
     "status": "completed"
    },
    "tags": []
   },
   "outputs": [],
   "source": [
    "training_data_x = X_train\n",
    "testing_data_x = X_test\n",
    "training_data_y = y_train.reshape(-1,1)\n",
    "testing_data_y = y_test.reshape(-1,1)"
   ]
  },
  {
   "cell_type": "code",
   "execution_count": 19,
   "id": "76951160",
   "metadata": {
    "execution": {
     "iopub.execute_input": "2021-09-05T00:21:04.182317Z",
     "iopub.status.busy": "2021-09-05T00:21:04.181734Z",
     "iopub.status.idle": "2021-09-05T00:21:04.202032Z",
     "shell.execute_reply": "2021-09-05T00:21:04.201538Z"
    },
    "papermill": {
     "duration": 0.054938,
     "end_time": "2021-09-05T00:21:04.202147",
     "exception": false,
     "start_time": "2021-09-05T00:21:04.147209",
     "status": "completed"
    },
    "tags": []
   },
   "outputs": [
    {
     "name": "stdout",
     "output_type": "stream",
     "text": [
      "xavier\n",
      "xavier\n",
      "xavier\n",
      "xavier\n",
      "xavier\n"
     ]
    }
   ],
   "source": [
    "layers = [Affine(\"first\", 784, 100), Relu(\"first\"), Affine(\"second\", 100, 100), Relu(\"second\"), Affine(\"third\", 100, 2), Affine(\"last\", 2, 1), Sigmoid(\"last\")]\n",
    "model_nn = Model(layers)\n",
    "model_lr = Model([Affine(\"logits\", 784, 1), Sigmoid(\"sigmoid\")])"
   ]
  },
  {
   "cell_type": "code",
   "execution_count": 20,
   "id": "6eede77a",
   "metadata": {
    "execution": {
     "iopub.execute_input": "2021-09-05T00:21:04.264904Z",
     "iopub.status.busy": "2021-09-05T00:21:04.264328Z",
     "iopub.status.idle": "2021-09-05T00:21:04.276220Z",
     "shell.execute_reply": "2021-09-05T00:21:04.276741Z"
    },
    "papermill": {
     "duration": 0.045234,
     "end_time": "2021-09-05T00:21:04.276871",
     "exception": false,
     "start_time": "2021-09-05T00:21:04.231637",
     "status": "completed"
    },
    "tags": []
   },
   "outputs": [],
   "source": [
    "nn_learner = Learner(loss, model_nn, opt, config.num_epochs)\n",
    "acc_nn = ClfCallback(nn_learner, config.bs, training_data_x , testing_data_x, training_data_y, testing_data_y)\n",
    "nn_learner.set_callbacks([acc_nn])"
   ]
  },
  {
   "cell_type": "code",
   "execution_count": 21,
   "id": "877b6cc7",
   "metadata": {
    "execution": {
     "iopub.execute_input": "2021-09-05T00:21:04.340293Z",
     "iopub.status.busy": "2021-09-05T00:21:04.339755Z",
     "iopub.status.idle": "2021-09-05T00:21:04.352422Z",
     "shell.execute_reply": "2021-09-05T00:21:04.352913Z"
    },
    "papermill": {
     "duration": 0.046821,
     "end_time": "2021-09-05T00:21:04.353042",
     "exception": false,
     "start_time": "2021-09-05T00:21:04.306221",
     "status": "completed"
    },
    "tags": []
   },
   "outputs": [],
   "source": [
    "lr_learner = Learner(loss, model_lr, opt, config.num_epochs)\n",
    "acc_lr = ClfCallback(lr_learner, config.bs, training_data_x , testing_data_x, training_data_y, testing_data_y)\n",
    "lr_learner.set_callbacks([acc_lr])"
   ]
  },
  {
   "cell_type": "code",
   "execution_count": 22,
   "id": "d9b133c3",
   "metadata": {
    "execution": {
     "iopub.execute_input": "2021-09-05T00:21:04.416437Z",
     "iopub.status.busy": "2021-09-05T00:21:04.415817Z",
     "iopub.status.idle": "2021-09-05T00:22:28.773466Z",
     "shell.execute_reply": "2021-09-05T00:22:28.774308Z"
    },
    "papermill": {
     "duration": 84.391498,
     "end_time": "2021-09-05T00:22:28.774459",
     "exception": false,
     "start_time": "2021-09-05T00:21:04.382961",
     "status": "completed"
    },
    "tags": []
   },
   "outputs": [
    {
     "name": "stdout",
     "output_type": "stream",
     "text": [
      "Epoch 0, Loss 0.2355\n",
      "Training Accuracy: 0.7212, Testing Accuracy: 0.7137\n",
      "\n"
     ]
    },
    {
     "name": "stdout",
     "output_type": "stream",
     "text": [
      "Epoch 10, Loss 0.0771\n",
      "Training Accuracy: 0.9244, Testing Accuracy: 0.9355\n",
      "\n"
     ]
    },
    {
     "name": "stdout",
     "output_type": "stream",
     "text": [
      "Epoch 20, Loss 0.0513\n",
      "Training Accuracy: 0.9462, Testing Accuracy: 0.9567\n",
      "\n"
     ]
    },
    {
     "name": "stdout",
     "output_type": "stream",
     "text": [
      "Epoch 30, Loss 0.0412\n",
      "Training Accuracy: 0.9547, Testing Accuracy: 0.9647\n",
      "\n"
     ]
    },
    {
     "name": "stdout",
     "output_type": "stream",
     "text": [
      "Epoch 40, Loss 0.0359\n",
      "Training Accuracy: 0.9595, Testing Accuracy: 0.9672\n",
      "\n"
     ]
    },
    {
     "name": "stdout",
     "output_type": "stream",
     "text": [
      "Epoch 50, Loss 0.0326\n",
      "Training Accuracy: 0.9619, Testing Accuracy: 0.9682\n",
      "\n"
     ]
    },
    {
     "name": "stdout",
     "output_type": "stream",
     "text": [
      "Epoch 60, Loss 0.0303\n",
      "Training Accuracy: 0.9651, Testing Accuracy: 0.9693\n",
      "\n"
     ]
    },
    {
     "name": "stdout",
     "output_type": "stream",
     "text": [
      "Epoch 70, Loss 0.0285\n",
      "Training Accuracy: 0.9675, Testing Accuracy: 0.9713\n",
      "\n"
     ]
    },
    {
     "name": "stdout",
     "output_type": "stream",
     "text": [
      "Epoch 80, Loss 0.0272\n",
      "Training Accuracy: 0.9691, Testing Accuracy: 0.9708\n",
      "\n"
     ]
    },
    {
     "name": "stdout",
     "output_type": "stream",
     "text": [
      "Epoch 90, Loss 0.026\n",
      "Training Accuracy: 0.9707, Testing Accuracy: 0.9693\n",
      "\n"
     ]
    },
    {
     "name": "stdout",
     "output_type": "stream",
     "text": [
      "Epoch 100, Loss 0.0251\n",
      "Training Accuracy: 0.9719, Testing Accuracy: 0.9708\n",
      "\n"
     ]
    },
    {
     "name": "stdout",
     "output_type": "stream",
     "text": [
      "Epoch 110, Loss 0.0242\n",
      "Training Accuracy: 0.9725, Testing Accuracy: 0.9713\n",
      "\n"
     ]
    },
    {
     "name": "stdout",
     "output_type": "stream",
     "text": [
      "Epoch 120, Loss 0.0235\n",
      "Training Accuracy: 0.9735, Testing Accuracy: 0.9713\n",
      "\n"
     ]
    },
    {
     "name": "stdout",
     "output_type": "stream",
     "text": [
      "Epoch 130, Loss 0.0229\n",
      "Training Accuracy: 0.9747, Testing Accuracy: 0.9713\n",
      "\n"
     ]
    },
    {
     "name": "stdout",
     "output_type": "stream",
     "text": [
      "Epoch 140, Loss 0.0223\n",
      "Training Accuracy: 0.9752, Testing Accuracy: 0.9713\n",
      "\n"
     ]
    },
    {
     "name": "stdout",
     "output_type": "stream",
     "text": [
      "Epoch 150, Loss 0.0217\n",
      "Training Accuracy: 0.9763, Testing Accuracy: 0.9713\n",
      "\n"
     ]
    },
    {
     "name": "stdout",
     "output_type": "stream",
     "text": [
      "Epoch 160, Loss 0.0212\n",
      "Training Accuracy: 0.9769, Testing Accuracy: 0.9713\n",
      "\n"
     ]
    },
    {
     "name": "stdout",
     "output_type": "stream",
     "text": [
      "Epoch 170, Loss 0.0208\n",
      "Training Accuracy: 0.9774, Testing Accuracy: 0.9718\n",
      "\n"
     ]
    },
    {
     "name": "stdout",
     "output_type": "stream",
     "text": [
      "Epoch 180, Loss 0.0203\n",
      "Training Accuracy: 0.9777, Testing Accuracy: 0.9718\n",
      "\n"
     ]
    },
    {
     "name": "stdout",
     "output_type": "stream",
     "text": [
      "Epoch 190, Loss 0.0199\n",
      "Training Accuracy: 0.9780, Testing Accuracy: 0.9718\n",
      "\n"
     ]
    },
    {
     "name": "stdout",
     "output_type": "stream",
     "text": [
      "Epoch 200, Loss 0.0195\n",
      "Training Accuracy: 0.9785, Testing Accuracy: 0.9718\n",
      "\n"
     ]
    },
    {
     "name": "stdout",
     "output_type": "stream",
     "text": [
      "Epoch 210, Loss 0.0191\n",
      "Training Accuracy: 0.9787, Testing Accuracy: 0.9718\n",
      "\n"
     ]
    },
    {
     "name": "stdout",
     "output_type": "stream",
     "text": [
      "Epoch 220, Loss 0.0188\n",
      "Training Accuracy: 0.9790, Testing Accuracy: 0.9723\n",
      "\n"
     ]
    },
    {
     "name": "stdout",
     "output_type": "stream",
     "text": [
      "Epoch 230, Loss 0.0184\n",
      "Training Accuracy: 0.9796, Testing Accuracy: 0.9723\n",
      "\n"
     ]
    },
    {
     "name": "stdout",
     "output_type": "stream",
     "text": [
      "Epoch 240, Loss 0.0181\n",
      "Training Accuracy: 0.9802, Testing Accuracy: 0.9728\n",
      "\n"
     ]
    },
    {
     "data": {
      "text/plain": [
       "0.0067673823305362145"
      ]
     },
     "execution_count": 22,
     "metadata": {},
     "output_type": "execute_result"
    }
   ],
   "source": [
    "nn_learner.train_loop(dl)"
   ]
  },
  {
   "cell_type": "code",
   "execution_count": 23,
   "id": "e0163366",
   "metadata": {
    "execution": {
     "iopub.execute_input": "2021-09-05T00:22:28.858277Z",
     "iopub.status.busy": "2021-09-05T00:22:28.857677Z",
     "iopub.status.idle": "2021-09-05T00:22:43.626905Z",
     "shell.execute_reply": "2021-09-05T00:22:43.627717Z"
    },
    "papermill": {
     "duration": 14.816446,
     "end_time": "2021-09-05T00:22:43.627873",
     "exception": false,
     "start_time": "2021-09-05T00:22:28.811427",
     "status": "completed"
    },
    "tags": []
   },
   "outputs": [
    {
     "name": "stdout",
     "output_type": "stream",
     "text": [
      "Epoch 0, Loss 0.2645\n",
      "Training Accuracy: 0.6043, Testing Accuracy: 0.6396\n",
      "\n"
     ]
    },
    {
     "name": "stdout",
     "output_type": "stream",
     "text": [
      "Epoch 10, Loss 0.1038\n",
      "Training Accuracy: 0.9114, Testing Accuracy: 0.9259\n",
      "\n"
     ]
    },
    {
     "name": "stdout",
     "output_type": "stream",
     "text": [
      "Epoch 20, Loss 0.0798\n",
      "Training Accuracy: 0.9269, Testing Accuracy: 0.9390\n",
      "\n"
     ]
    },
    {
     "name": "stdout",
     "output_type": "stream",
     "text": [
      "Epoch 30, Loss 0.0688\n",
      "Training Accuracy: 0.9365, Testing Accuracy: 0.9481\n",
      "\n"
     ]
    },
    {
     "name": "stdout",
     "output_type": "stream",
     "text": [
      "Epoch 40, Loss 0.0622\n",
      "Training Accuracy: 0.9431, Testing Accuracy: 0.9531\n",
      "\n"
     ]
    },
    {
     "name": "stdout",
     "output_type": "stream",
     "text": [
      "Epoch 50, Loss 0.0576\n",
      "Training Accuracy: 0.9460, Testing Accuracy: 0.9561\n",
      "\n"
     ]
    },
    {
     "name": "stdout",
     "output_type": "stream",
     "text": [
      "Epoch 60, Loss 0.0543\n",
      "Training Accuracy: 0.9475, Testing Accuracy: 0.9561\n",
      "\n"
     ]
    },
    {
     "name": "stdout",
     "output_type": "stream",
     "text": [
      "Epoch 70, Loss 0.0517\n",
      "Training Accuracy: 0.9492, Testing Accuracy: 0.9592\n",
      "\n"
     ]
    },
    {
     "name": "stdout",
     "output_type": "stream",
     "text": [
      "Epoch 80, Loss 0.0496\n",
      "Training Accuracy: 0.9506, Testing Accuracy: 0.9622\n",
      "\n"
     ]
    },
    {
     "name": "stdout",
     "output_type": "stream",
     "text": [
      "Epoch 90, Loss 0.0479\n",
      "Training Accuracy: 0.9520, Testing Accuracy: 0.9627\n",
      "\n"
     ]
    },
    {
     "name": "stdout",
     "output_type": "stream",
     "text": [
      "Epoch 100, Loss 0.0464\n",
      "Training Accuracy: 0.9529, Testing Accuracy: 0.9627\n",
      "\n"
     ]
    },
    {
     "name": "stdout",
     "output_type": "stream",
     "text": [
      "Epoch 110, Loss 0.0452\n",
      "Training Accuracy: 0.9536, Testing Accuracy: 0.9632\n",
      "\n"
     ]
    },
    {
     "name": "stdout",
     "output_type": "stream",
     "text": [
      "Epoch 120, Loss 0.0441\n",
      "Training Accuracy: 0.9548, Testing Accuracy: 0.9632\n",
      "\n"
     ]
    },
    {
     "name": "stdout",
     "output_type": "stream",
     "text": [
      "Epoch 130, Loss 0.0431\n",
      "Training Accuracy: 0.9559, Testing Accuracy: 0.9637\n",
      "\n"
     ]
    },
    {
     "name": "stdout",
     "output_type": "stream",
     "text": [
      "Epoch 140, Loss 0.0423\n",
      "Training Accuracy: 0.9565, Testing Accuracy: 0.9632\n",
      "\n"
     ]
    },
    {
     "name": "stdout",
     "output_type": "stream",
     "text": [
      "Epoch 150, Loss 0.0415\n",
      "Training Accuracy: 0.9568, Testing Accuracy: 0.9637\n",
      "\n"
     ]
    },
    {
     "name": "stdout",
     "output_type": "stream",
     "text": [
      "Epoch 160, Loss 0.0408\n",
      "Training Accuracy: 0.9573, Testing Accuracy: 0.9637\n",
      "\n"
     ]
    },
    {
     "name": "stdout",
     "output_type": "stream",
     "text": [
      "Epoch 170, Loss 0.0402\n",
      "Training Accuracy: 0.9581, Testing Accuracy: 0.9637\n",
      "\n"
     ]
    },
    {
     "name": "stdout",
     "output_type": "stream",
     "text": [
      "Epoch 180, Loss 0.0396\n",
      "Training Accuracy: 0.9587, Testing Accuracy: 0.9647\n",
      "\n"
     ]
    },
    {
     "name": "stdout",
     "output_type": "stream",
     "text": [
      "Epoch 190, Loss 0.0391\n",
      "Training Accuracy: 0.9589, Testing Accuracy: 0.9652\n",
      "\n"
     ]
    },
    {
     "name": "stdout",
     "output_type": "stream",
     "text": [
      "Epoch 200, Loss 0.0386\n",
      "Training Accuracy: 0.9593, Testing Accuracy: 0.9652\n",
      "\n"
     ]
    },
    {
     "name": "stdout",
     "output_type": "stream",
     "text": [
      "Epoch 210, Loss 0.0382\n",
      "Training Accuracy: 0.9598, Testing Accuracy: 0.9657\n",
      "\n"
     ]
    },
    {
     "name": "stdout",
     "output_type": "stream",
     "text": [
      "Epoch 220, Loss 0.0378\n",
      "Training Accuracy: 0.9600, Testing Accuracy: 0.9662\n",
      "\n"
     ]
    },
    {
     "name": "stdout",
     "output_type": "stream",
     "text": [
      "Epoch 230, Loss 0.0374\n",
      "Training Accuracy: 0.9602, Testing Accuracy: 0.9662\n",
      "\n"
     ]
    },
    {
     "name": "stdout",
     "output_type": "stream",
     "text": [
      "Epoch 240, Loss 0.037\n",
      "Training Accuracy: 0.9606, Testing Accuracy: 0.9662\n",
      "\n"
     ]
    },
    {
     "data": {
      "text/plain": [
       "0.02243472140753152"
      ]
     },
     "execution_count": 23,
     "metadata": {},
     "output_type": "execute_result"
    }
   ],
   "source": [
    "lr_learner.train_loop(dl)"
   ]
  },
  {
   "cell_type": "code",
   "execution_count": 24,
   "id": "ca410940",
   "metadata": {
    "execution": {
     "iopub.execute_input": "2021-09-05T00:22:43.733919Z",
     "iopub.status.busy": "2021-09-05T00:22:43.733318Z",
     "iopub.status.idle": "2021-09-05T00:22:43.987582Z",
     "shell.execute_reply": "2021-09-05T00:22:43.987039Z"
    },
    "papermill": {
     "duration": 0.315565,
     "end_time": "2021-09-05T00:22:43.987711",
     "exception": false,
     "start_time": "2021-09-05T00:22:43.672146",
     "status": "completed"
    },
    "tags": []
   },
   "outputs": [
    {
     "data": {
      "text/plain": [
       "<matplotlib.legend.Legend at 0x7fc4733b5e80>"
      ]
     },
     "execution_count": 24,
     "metadata": {},
     "output_type": "execute_result"
    },
    {
     "data": {
      "image/png": "[encoded data removed]",
      "text/plain": [
       "<Figure size 1080x720 with 1 Axes>"
      ]
     },
     "metadata": {
      "needs_background": "light"
     },
     "output_type": "display_data"
    }
   ],
   "source": [
    "#comparing the results of NN and LR\n",
    "plt.figure(figsize=(15,10))\n",
    "\n",
    "# Neural Network plots\n",
    "plt.plot(acc_nn.accuracies, 'r-', label = \"Training Accuracies - NN\")\n",
    "plt.plot(acc_nn.test_accuracies, 'g-', label = \"Testing Accuracies - NN\")\n",
    "\n",
    "# Logistic Regression plots\n",
    "plt.plot(acc_lr.accuracies, 'k-', label = \"Training Accuracies - LR\")\n",
    "plt.plot(acc_lr.test_accuracies, 'b-', label = \"Testing Accuracies - LR\")\n",
    "plt.legend()"
   ]
  },
  {
   "cell_type": "markdown",
   "id": "80dfb35c",
   "metadata": {
    "papermill": {
     "duration": 0.047582,
     "end_time": "2021-09-05T00:22:44.084807",
     "exception": false,
     "start_time": "2021-09-05T00:22:44.037225",
     "status": "completed"
    },
    "tags": []
   },
   "source": [
    "#### Plotting the outputs of this layer of the NN.\n"
   ]
  },
  {
   "cell_type": "code",
   "execution_count": 25,
   "id": "45eb2ff5",
   "metadata": {
    "execution": {
     "iopub.execute_input": "2021-09-05T00:22:44.183351Z",
     "iopub.status.busy": "2021-09-05T00:22:44.182753Z",
     "iopub.status.idle": "2021-09-05T00:22:44.206556Z",
     "shell.execute_reply": "2021-09-05T00:22:44.207347Z"
    },
    "papermill": {
     "duration": 0.076016,
     "end_time": "2021-09-05T00:22:44.207505",
     "exception": false,
     "start_time": "2021-09-05T00:22:44.131489",
     "status": "completed"
    },
    "tags": []
   },
   "outputs": [],
   "source": [
    "new_model = Model(layers[:-2])\n",
    "testing_plot = new_model(testing_data_x)"
   ]
  },
  {
   "cell_type": "code",
   "execution_count": 26,
   "id": "4c0a5485",
   "metadata": {
    "execution": {
     "iopub.execute_input": "2021-09-05T00:22:44.305592Z",
     "iopub.status.busy": "2021-09-05T00:22:44.305045Z",
     "iopub.status.idle": "2021-09-05T00:22:44.505328Z",
     "shell.execute_reply": "2021-09-05T00:22:44.505816Z"
    },
    "papermill": {
     "duration": 0.252493,
     "end_time": "2021-09-05T00:22:44.505957",
     "exception": false,
     "start_time": "2021-09-05T00:22:44.253464",
     "status": "completed"
    },
    "tags": []
   },
   "outputs": [
    {
     "data": {
      "text/plain": [
       "Text(0.5, 1.0, 'Outputs')"
      ]
     },
     "execution_count": 26,
     "metadata": {},
     "output_type": "execute_result"
    },
    {
     "data": {
      "image/png": "[encoded data removed]",
      "text/plain": [
       "<Figure size 576x504 with 1 Axes>"
      ]
     },
     "metadata": {
      "needs_background": "light"
     },
     "output_type": "display_data"
    }
   ],
   "source": [
    "# Plotting the scatter plot of points and color coding by class\n",
    "plt.figure(figsize=(8,7))\n",
    "plt.scatter(testing_plot[:,0], testing_plot[:,1], alpha = 0.1, c = y_test.ravel());\n",
    "plt.title('Outputs')"
   ]
  },
  {
   "cell_type": "markdown",
   "id": "a74fcf8f",
   "metadata": {
    "papermill": {
     "duration": 0.046958,
     "end_time": "2021-09-05T00:22:44.601260",
     "exception": false,
     "start_time": "2021-09-05T00:22:44.554302",
     "status": "completed"
    },
    "tags": []
   },
   "source": [
    "Probability contours"
   ]
  },
  {
   "cell_type": "code",
   "execution_count": 27,
   "id": "d0afc8e3",
   "metadata": {
    "execution": {
     "iopub.execute_input": "2021-09-05T00:22:44.701102Z",
     "iopub.status.busy": "2021-09-05T00:22:44.699155Z",
     "iopub.status.idle": "2021-09-05T00:22:44.714491Z",
     "shell.execute_reply": "2021-09-05T00:22:44.713713Z"
    },
    "papermill": {
     "duration": 0.066249,
     "end_time": "2021-09-05T00:22:44.714610",
     "exception": false,
     "start_time": "2021-09-05T00:22:44.648361",
     "status": "completed"
    },
    "tags": []
   },
   "outputs": [],
   "source": [
    "model_prob = Model(layers[-2:]) "
   ]
  },
  {
   "cell_type": "code",
   "execution_count": 28,
   "id": "9b96e238",
   "metadata": {
    "execution": {
     "iopub.execute_input": "2021-09-05T00:22:44.821230Z",
     "iopub.status.busy": "2021-09-05T00:22:44.819965Z",
     "iopub.status.idle": "2021-09-05T00:22:44.834167Z",
     "shell.execute_reply": "2021-09-05T00:22:44.834649Z"
    },
    "papermill": {
     "duration": 0.07308,
     "end_time": "2021-09-05T00:22:44.834786",
     "exception": false,
     "start_time": "2021-09-05T00:22:44.761706",
     "status": "completed"
    },
    "tags": []
   },
   "outputs": [],
   "source": [
    "#creating the x and y ranges according to the above generated plot.\n",
    "x_range = np.linspace(-4, 1, 100) \n",
    "y_range = np.linspace(-6, 6, 100) \n",
    "x_grid, y_grid = np.meshgrid(x_range, y_range) # x_grid and y_grig are of size 100 X 100\n",
    "\n",
    "# converting x_grid and y_grid to continuous arrays\n",
    "x_gridflat = np.ravel(x_grid)\n",
    "y_gridflat = np.ravel(y_grid)\n",
    "\n",
    "# The last layer of the current model takes two columns as input. Hence transpose of np.vstack() is required.\n",
    "X = np.vstack((x_gridflat, y_gridflat)).T\n",
    "\n",
    "prob_contour = model_prob(X).reshape(100,100) "
   ]
  },
  {
   "cell_type": "code",
   "execution_count": 29,
   "id": "da72499a",
   "metadata": {
    "execution": {
     "iopub.execute_input": "2021-09-05T00:22:44.971564Z",
     "iopub.status.busy": "2021-09-05T00:22:44.971000Z",
     "iopub.status.idle": "2021-09-05T00:22:45.225967Z",
     "shell.execute_reply": "2021-09-05T00:22:45.226422Z"
    },
    "papermill": {
     "duration": 0.308344,
     "end_time": "2021-09-05T00:22:45.226564",
     "exception": false,
     "start_time": "2021-09-05T00:22:44.918220",
     "status": "completed"
    },
    "tags": []
   },
   "outputs": [
    {
     "data": {
      "image/png": "[encoded data removed]",
      "text/plain": [
       "<Figure size 720x648 with 1 Axes>"
      ]
     },
     "metadata": {
      "needs_background": "light"
     },
     "output_type": "display_data"
    }
   ],
   "source": [
    "plt.figure(figsize=(10,9))\n",
    "plt.scatter(testing_plot[:,0], testing_plot[:,1], alpha = 0.1, c = y_test.ravel())\n",
    "contours = plt.contour(x_grid,y_grid,prob_contour)\n",
    "plt.title('Probability Contours')\n",
    "plt.clabel(contours, inline = True );"
   ]
  },
  {
   "cell_type": "code",
   "execution_count": null,
   "id": "e81b4ac7",
   "metadata": {
    "papermill": {
     "duration": 0.049554,
     "end_time": "2021-09-05T00:22:45.326781",
     "exception": false,
     "start_time": "2021-09-05T00:22:45.277227",
     "status": "completed"
    },
    "tags": []
   },
   "outputs": [],
   "source": []
  }
 ],
 "metadata": {
  "kernelspec": {
   "display_name": "Python 3",
   "language": "python",
   "name": "python3"
  },
  "language_info": {
   "codemirror_mode": {
    "name": "ipython",
    "version": 3
   },
   "file_extension": ".py",
   "mimetype": "text/x-python",
   "name": "python",
   "nbconvert_exporter": "python",
   "pygments_lexer": "ipython3",
   "version": "3.6.14"
  },
  "papermill": {
   "default_parameters": {},
   "duration": 108.748883,
   "end_time": "2021-09-05T00:22:45.786893",
   "environment_variables": {},
   "exception": null,
   "input_path": "2020-08-11-part2.ipynb",
   "output_path": "2020-08-11-part2.ipynb",
   "parameters": {},
   "start_time": "2021-09-05T00:20:57.038010",
   "version": "2.3.3"
  }
 },
 "nbformat": 4,
 "nbformat_minor": 5
}