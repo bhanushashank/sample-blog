{
 "cells": [
  {
   "cell_type": "markdown",
   "id": "98380cd3",
   "metadata": {
    "papermill": {
     "duration": 0.029845,
     "end_time": "2022-07-07T20:10:09.698231",
     "exception": false,
     "start_time": "2022-07-07T20:10:09.668386",
     "status": "completed"
    },
    "tags": []
   },
   "source": [
    "# Distinguish Your Own Digits (DYOD)"
   ]
  },
  {
   "cell_type": "markdown",
   "id": "ef31240d",
   "metadata": {
    "papermill": {
     "duration": 0.025263,
     "end_time": "2022-07-07T20:10:09.748547",
     "exception": false,
     "start_time": "2022-07-07T20:10:09.723284",
     "status": "completed"
    },
    "tags": []
   },
   "source": [
    "You are going to write a classifier that distinguishes between the number 3 and number 8."
   ]
  },
  {
   "cell_type": "code",
   "execution_count": 1,
   "id": "b15c8646",
   "metadata": {
    "execution": {
     "iopub.execute_input": "2022-07-07T20:10:09.807575Z",
     "iopub.status.busy": "2022-07-07T20:10:09.806989Z",
     "iopub.status.idle": "2022-07-07T20:10:09.817565Z",
     "shell.execute_reply": "2022-07-07T20:10:09.818009Z"
    },
    "papermill": {
     "duration": 0.045162,
     "end_time": "2022-07-07T20:10:09.818154",
     "exception": false,
     "start_time": "2022-07-07T20:10:09.772992",
     "status": "completed"
    },
    "tags": []
   },
   "outputs": [],
   "source": [
    "%load_ext autoreload\n",
    "%autoreload 2"
   ]
  },
  {
   "cell_type": "code",
   "execution_count": 2,
   "id": "22ef38dc",
   "metadata": {
    "execution": {
     "iopub.execute_input": "2022-07-07T20:10:09.871441Z",
     "iopub.status.busy": "2022-07-07T20:10:09.870883Z",
     "iopub.status.idle": "2022-07-07T20:10:10.391846Z",
     "shell.execute_reply": "2022-07-07T20:10:10.391344Z"
    },
    "papermill": {
     "duration": 0.549202,
     "end_time": "2022-07-07T20:10:10.391964",
     "exception": false,
     "start_time": "2022-07-07T20:10:09.842762",
     "status": "completed"
    },
    "tags": []
   },
   "outputs": [],
   "source": [
    "%matplotlib inline\n",
    "import numpy as np\n",
    "import matplotlib.pyplot as plt\n",
    "import pandas as pd"
   ]
  },
  {
   "cell_type": "markdown",
   "id": "ba036198",
   "metadata": {
    "papermill": {
     "duration": 0.024358,
     "end_time": "2022-07-07T20:10:10.440895",
     "exception": false,
     "start_time": "2022-07-07T20:10:10.416537",
     "status": "completed"
    },
    "tags": []
   },
   "source": [
    "From the command line run `pip install mnist`. This is a library that will help you bring down the mnist dataset. If you run this from a notebook, you need to put  `!pip install mnist` in a cell by itself."
   ]
  },
  {
   "cell_type": "code",
   "execution_count": 3,
   "id": "bb6ad8a1",
   "metadata": {
    "execution": {
     "iopub.execute_input": "2022-07-07T20:10:10.493938Z",
     "iopub.status.busy": "2022-07-07T20:10:10.493379Z",
     "iopub.status.idle": "2022-07-07T20:10:12.135753Z",
     "shell.execute_reply": "2022-07-07T20:10:12.135273Z"
    },
    "papermill": {
     "duration": 1.670579,
     "end_time": "2022-07-07T20:10:12.135875",
     "exception": false,
     "start_time": "2022-07-07T20:10:10.465296",
     "status": "completed"
    },
    "tags": []
   },
   "outputs": [
    {
     "name": "stdout",
     "output_type": "stream",
     "text": [
      "Collecting mnist\r\n"
     ]
    },
    {
     "name": "stdout",
     "output_type": "stream",
     "text": [
      "  Downloading mnist-0.2.2-py2.py3-none-any.whl (3.5 kB)\r\n",
      "Requirement already satisfied: numpy in /opt/hostedtoolcache/Python/3.6.15/x64/lib/python3.6/site-packages (from mnist) (1.19.5)\r\n"
     ]
    },
    {
     "name": "stdout",
     "output_type": "stream",
     "text": [
      "Installing collected packages: mnist\r\n"
     ]
    },
    {
     "name": "stdout",
     "output_type": "stream",
     "text": [
      "Successfully installed mnist-0.2.2\r\n"
     ]
    }
   ],
   "source": [
    "!pip install mnist"
   ]
  },
  {
   "cell_type": "markdown",
   "id": "69df9c9a",
   "metadata": {
    "papermill": {
     "duration": 0.025788,
     "end_time": "2022-07-07T20:10:12.187484",
     "exception": false,
     "start_time": "2022-07-07T20:10:12.161696",
     "status": "completed"
    },
    "tags": []
   },
   "source": [
    "## Preparing the Data"
   ]
  },
  {
   "cell_type": "code",
   "execution_count": 4,
   "id": "7f69d806",
   "metadata": {
    "execution": {
     "iopub.execute_input": "2022-07-07T20:10:12.243748Z",
     "iopub.status.busy": "2022-07-07T20:10:12.242004Z",
     "iopub.status.idle": "2022-07-07T20:10:12.256889Z",
     "shell.execute_reply": "2022-07-07T20:10:12.256431Z"
    },
    "papermill": {
     "duration": 0.044097,
     "end_time": "2022-07-07T20:10:12.256999",
     "exception": false,
     "start_time": "2022-07-07T20:10:12.212902",
     "status": "completed"
    },
    "tags": []
   },
   "outputs": [],
   "source": [
    "import mnist"
   ]
  },
  {
   "cell_type": "code",
   "execution_count": 5,
   "id": "a411e44f",
   "metadata": {
    "execution": {
     "iopub.execute_input": "2022-07-07T20:10:12.312218Z",
     "iopub.status.busy": "2022-07-07T20:10:12.311662Z",
     "iopub.status.idle": "2022-07-07T20:10:12.839462Z",
     "shell.execute_reply": "2022-07-07T20:10:12.838948Z"
    },
    "papermill": {
     "duration": 0.556975,
     "end_time": "2022-07-07T20:10:12.839579",
     "exception": false,
     "start_time": "2022-07-07T20:10:12.282604",
     "status": "completed"
    },
    "tags": []
   },
   "outputs": [],
   "source": [
    "train_images = mnist.train_images()\n",
    "train_labels = mnist.train_labels()"
   ]
  },
  {
   "cell_type": "code",
   "execution_count": 6,
   "id": "dceab3a5",
   "metadata": {
    "execution": {
     "iopub.execute_input": "2022-07-07T20:10:12.894548Z",
     "iopub.status.busy": "2022-07-07T20:10:12.893968Z",
     "iopub.status.idle": "2022-07-07T20:10:12.908733Z",
     "shell.execute_reply": "2022-07-07T20:10:12.908181Z"
    },
    "papermill": {
     "duration": 0.043614,
     "end_time": "2022-07-07T20:10:12.908841",
     "exception": false,
     "start_time": "2022-07-07T20:10:12.865227",
     "status": "completed"
    },
    "tags": []
   },
   "outputs": [
    {
     "data": {
      "text/plain": [
       "((60000, 28, 28), (60000,))"
      ]
     },
     "execution_count": 6,
     "metadata": {},
     "output_type": "execute_result"
    }
   ],
   "source": [
    "train_images.shape, train_labels.shape"
   ]
  },
  {
   "cell_type": "code",
   "execution_count": 7,
   "id": "f50dc2bb",
   "metadata": {
    "execution": {
     "iopub.execute_input": "2022-07-07T20:10:12.964008Z",
     "iopub.status.busy": "2022-07-07T20:10:12.963473Z",
     "iopub.status.idle": "2022-07-07T20:10:13.112162Z",
     "shell.execute_reply": "2022-07-07T20:10:13.111661Z"
    },
    "papermill": {
     "duration": 0.177646,
     "end_time": "2022-07-07T20:10:13.112272",
     "exception": false,
     "start_time": "2022-07-07T20:10:12.934626",
     "status": "completed"
    },
    "tags": []
   },
   "outputs": [],
   "source": [
    "test_images = mnist.test_images()\n",
    "test_labels = mnist.test_labels()"
   ]
  },
  {
   "cell_type": "code",
   "execution_count": 8,
   "id": "fc38cf1b",
   "metadata": {
    "execution": {
     "iopub.execute_input": "2022-07-07T20:10:13.168518Z",
     "iopub.status.busy": "2022-07-07T20:10:13.167763Z",
     "iopub.status.idle": "2022-07-07T20:10:13.181230Z",
     "shell.execute_reply": "2022-07-07T20:10:13.180779Z"
    },
    "papermill": {
     "duration": 0.042903,
     "end_time": "2022-07-07T20:10:13.181337",
     "exception": false,
     "start_time": "2022-07-07T20:10:13.138434",
     "status": "completed"
    },
    "tags": []
   },
   "outputs": [
    {
     "data": {
      "text/plain": [
       "((10000, 28, 28), (10000,))"
      ]
     },
     "execution_count": 8,
     "metadata": {},
     "output_type": "execute_result"
    }
   ],
   "source": [
    "test_images.shape, test_labels.shape"
   ]
  },
  {
   "cell_type": "code",
   "execution_count": 9,
   "id": "f9ed8fe0",
   "metadata": {
    "execution": {
     "iopub.execute_input": "2022-07-07T20:10:13.237562Z",
     "iopub.status.busy": "2022-07-07T20:10:13.237014Z",
     "iopub.status.idle": "2022-07-07T20:10:13.370665Z",
     "shell.execute_reply": "2022-07-07T20:10:13.371099Z"
    },
    "papermill": {
     "duration": 0.163732,
     "end_time": "2022-07-07T20:10:13.371224",
     "exception": false,
     "start_time": "2022-07-07T20:10:13.207492",
     "status": "completed"
    },
    "tags": []
   },
   "outputs": [
    {
     "name": "stdout",
     "output_type": "stream",
     "text": [
      "2\n"
     ]
    },
    {
     "data": {
      "text/plain": [
       "<matplotlib.image.AxesImage at 0x7f7a39c5b470>"
      ]
     },
     "execution_count": 9,
     "metadata": {},
     "output_type": "execute_result"
    },
    {
     "data": {
      "image/png": "[encoded data removed]",
      "text/plain": [
       "<Figure size 432x288 with 1 Axes>"
      ]
     },
     "metadata": {
      "needs_background": "light"
     },
     "output_type": "display_data"
    }
   ],
   "source": [
    "image_index = 7776 # You may select anything up to 60,000\n",
    "print(train_labels[image_index]) \n",
    "plt.imshow(train_images[image_index], cmap='Greys')"
   ]
  },
  {
   "cell_type": "markdown",
   "id": "a8d2388d",
   "metadata": {
    "papermill": {
     "duration": 0.027293,
     "end_time": "2022-07-07T20:10:13.426018",
     "exception": false,
     "start_time": "2022-07-07T20:10:13.398725",
     "status": "completed"
    },
    "tags": []
   },
   "source": [
    "## Filter data to get 3 and 8 out"
   ]
  },
  {
   "cell_type": "code",
   "execution_count": 10,
   "id": "776f7fc7",
   "metadata": {
    "execution": {
     "iopub.execute_input": "2022-07-07T20:10:13.484740Z",
     "iopub.status.busy": "2022-07-07T20:10:13.484184Z",
     "iopub.status.idle": "2022-07-07T20:10:13.499377Z",
     "shell.execute_reply": "2022-07-07T20:10:13.498926Z"
    },
    "papermill": {
     "duration": 0.046227,
     "end_time": "2022-07-07T20:10:13.499484",
     "exception": false,
     "start_time": "2022-07-07T20:10:13.453257",
     "status": "completed"
    },
    "tags": []
   },
   "outputs": [],
   "source": [
    "train_filter = np.where((train_labels == 3 ) | (train_labels == 8))\n",
    "test_filter = np.where((test_labels == 3) | (test_labels == 8))\n",
    "X_train, y_train = train_images[train_filter], train_labels[train_filter]\n",
    "X_test, y_test = test_images[test_filter], test_labels[test_filter]"
   ]
  },
  {
   "cell_type": "markdown",
   "id": "948f0b7e",
   "metadata": {
    "papermill": {
     "duration": 0.027061,
     "end_time": "2022-07-07T20:10:13.553892",
     "exception": false,
     "start_time": "2022-07-07T20:10:13.526831",
     "status": "completed"
    },
    "tags": []
   },
   "source": [
    "We normalize the pizel values in the 0 to 1 range"
   ]
  },
  {
   "cell_type": "code",
   "execution_count": 11,
   "id": "ee4c2166",
   "metadata": {
    "execution": {
     "iopub.execute_input": "2022-07-07T20:10:13.611891Z",
     "iopub.status.busy": "2022-07-07T20:10:13.611307Z",
     "iopub.status.idle": "2022-07-07T20:10:13.648848Z",
     "shell.execute_reply": "2022-07-07T20:10:13.648381Z"
    },
    "papermill": {
     "duration": 0.068018,
     "end_time": "2022-07-07T20:10:13.648956",
     "exception": false,
     "start_time": "2022-07-07T20:10:13.580938",
     "status": "completed"
    },
    "tags": []
   },
   "outputs": [],
   "source": [
    "X_train = X_train/255.\n",
    "X_test = X_test/255."
   ]
  },
  {
   "cell_type": "markdown",
   "id": "ddcf4fab",
   "metadata": {
    "papermill": {
     "duration": 0.02713,
     "end_time": "2022-07-07T20:10:13.703561",
     "exception": false,
     "start_time": "2022-07-07T20:10:13.676431",
     "status": "completed"
    },
    "tags": []
   },
   "source": [
    "And setup the labels as 1 (when the digit is 3) and 0 (when the digit is 8)"
   ]
  },
  {
   "cell_type": "code",
   "execution_count": 12,
   "id": "7dc908f2",
   "metadata": {
    "execution": {
     "iopub.execute_input": "2022-07-07T20:10:13.761824Z",
     "iopub.status.busy": "2022-07-07T20:10:13.761257Z",
     "iopub.status.idle": "2022-07-07T20:10:13.774720Z",
     "shell.execute_reply": "2022-07-07T20:10:13.773953Z"
    },
    "papermill": {
     "duration": 0.044055,
     "end_time": "2022-07-07T20:10:13.774834",
     "exception": false,
     "start_time": "2022-07-07T20:10:13.730779",
     "status": "completed"
    },
    "tags": []
   },
   "outputs": [],
   "source": [
    "y_train = 1*(y_train==3)\n",
    "y_test = 1*(y_test==3)"
   ]
  },
  {
   "cell_type": "code",
   "execution_count": 13,
   "id": "01e4e969",
   "metadata": {
    "execution": {
     "iopub.execute_input": "2022-07-07T20:10:13.832961Z",
     "iopub.status.busy": "2022-07-07T20:10:13.832404Z",
     "iopub.status.idle": "2022-07-07T20:10:13.845736Z",
     "shell.execute_reply": "2022-07-07T20:10:13.845280Z"
    },
    "papermill": {
     "duration": 0.043596,
     "end_time": "2022-07-07T20:10:13.845840",
     "exception": false,
     "start_time": "2022-07-07T20:10:13.802244",
     "status": "completed"
    },
    "tags": []
   },
   "outputs": [
    {
     "data": {
      "text/plain": [
       "((11982, 28, 28), (1984, 28, 28))"
      ]
     },
     "execution_count": 13,
     "metadata": {},
     "output_type": "execute_result"
    }
   ],
   "source": [
    "X_train.shape, X_test.shape"
   ]
  },
  {
   "cell_type": "markdown",
   "id": "5ccf3f85",
   "metadata": {
    "papermill": {
     "duration": 0.027362,
     "end_time": "2022-07-07T20:10:13.900692",
     "exception": false,
     "start_time": "2022-07-07T20:10:13.873330",
     "status": "completed"
    },
    "tags": []
   },
   "source": [
    "We reshape the data to flatten the image pixels into a set of features or co-variates:"
   ]
  },
  {
   "cell_type": "code",
   "execution_count": 14,
   "id": "5286a4a3",
   "metadata": {
    "execution": {
     "iopub.execute_input": "2022-07-07T20:10:13.959866Z",
     "iopub.status.busy": "2022-07-07T20:10:13.959301Z",
     "iopub.status.idle": "2022-07-07T20:10:13.974265Z",
     "shell.execute_reply": "2022-07-07T20:10:13.973809Z"
    },
    "papermill": {
     "duration": 0.046115,
     "end_time": "2022-07-07T20:10:13.974389",
     "exception": false,
     "start_time": "2022-07-07T20:10:13.928274",
     "status": "completed"
    },
    "tags": []
   },
   "outputs": [
    {
     "data": {
      "text/plain": [
       "((11982, 784), (1984, 784))"
      ]
     },
     "execution_count": 14,
     "metadata": {},
     "output_type": "execute_result"
    }
   ],
   "source": [
    "X_train = X_train.reshape(X_train.shape[0], -1)\n",
    "X_test = X_test.reshape(X_test.shape[0], -1)\n",
    "X_train.shape, X_test.shape"
   ]
  },
  {
   "cell_type": "code",
   "execution_count": 15,
   "id": "73c5f88a",
   "metadata": {
    "execution": {
     "iopub.execute_input": "2022-07-07T20:10:14.034471Z",
     "iopub.status.busy": "2022-07-07T20:10:14.033871Z",
     "iopub.status.idle": "2022-07-07T20:10:14.052395Z",
     "shell.execute_reply": "2022-07-07T20:10:14.051912Z"
    },
    "papermill": {
     "duration": 0.050447,
     "end_time": "2022-07-07T20:10:14.052503",
     "exception": false,
     "start_time": "2022-07-07T20:10:14.002056",
     "status": "completed"
    },
    "tags": []
   },
   "outputs": [],
   "source": [
    "#Impoting functions from 'Kudzu'\n",
    "from kudzu.model import Model\n",
    "from kudzu.train import Learner\n",
    "from kudzu.optim import GD\n",
    "from kudzu.data import Data, Sampler,Dataloader\n",
    "\n",
    "from kudzu.callbacks import AccCallback\n",
    "from kudzu.callbacks import ClfCallback\n",
    "\n",
    "from kudzu.loss import MSE\n",
    "\n",
    "from kudzu.layer import Sigmoid,Relu\n",
    "from kudzu.layer import Affine"
   ]
  },
  {
   "cell_type": "markdown",
   "id": "bc01172a",
   "metadata": {
    "papermill": {
     "duration": 0.027672,
     "end_time": "2022-07-07T20:10:14.108142",
     "exception": false,
     "start_time": "2022-07-07T20:10:14.080470",
     "status": "completed"
    },
    "tags": []
   },
   "source": [
    "### Let us create a `Config` class, to store important parameters. \n",
    "This class essentially plays the role of a dictionary."
   ]
  },
  {
   "cell_type": "code",
   "execution_count": 16,
   "id": "978281aa",
   "metadata": {
    "execution": {
     "iopub.execute_input": "2022-07-07T20:10:14.167346Z",
     "iopub.status.busy": "2022-07-07T20:10:14.166794Z",
     "iopub.status.idle": "2022-07-07T20:10:14.178820Z",
     "shell.execute_reply": "2022-07-07T20:10:14.178355Z"
    },
    "papermill": {
     "duration": 0.04317,
     "end_time": "2022-07-07T20:10:14.178923",
     "exception": false,
     "start_time": "2022-07-07T20:10:14.135753",
     "status": "completed"
    },
    "tags": []
   },
   "outputs": [],
   "source": [
    "class Config:\n",
    "    pass\n",
    "config = Config()\n",
    "config.lr = 0.001\n",
    "config.num_epochs = 250\n",
    "config.bs = 50"
   ]
  },
  {
   "cell_type": "markdown",
   "id": "1385fa59",
   "metadata": {
    "papermill": {
     "duration": 0.02759,
     "end_time": "2022-07-07T20:10:14.234244",
     "exception": false,
     "start_time": "2022-07-07T20:10:14.206654",
     "status": "completed"
    },
    "tags": []
   },
   "source": [
    "### Running Models with the Training data\n",
    "Details about the network layers:\n",
    "- A first affine layer has 784 inputs and does 100 affine transforms. These are followed by a Relu\n",
    "- A second affine layer has 100 inputs from the 100 activations of the past layer, and does 100 affine transforms. These are followed by a Relu\n",
    "- A third affine layer has 100 activations and does 2 affine transformations to create an embedding for visualization. There is no non-linearity here.\n",
    "- A final \"logistic regression\" which has an affine transform from 2 inputs to 1 output, which is squeezed through a sigmoid.\n"
   ]
  },
  {
   "cell_type": "code",
   "execution_count": 17,
   "id": "2b9c66db",
   "metadata": {
    "execution": {
     "iopub.execute_input": "2022-07-07T20:10:14.293522Z",
     "iopub.status.busy": "2022-07-07T20:10:14.292961Z",
     "iopub.status.idle": "2022-07-07T20:10:14.304505Z",
     "shell.execute_reply": "2022-07-07T20:10:14.304932Z"
    },
    "papermill": {
     "duration": 0.043245,
     "end_time": "2022-07-07T20:10:14.305052",
     "exception": false,
     "start_time": "2022-07-07T20:10:14.261807",
     "status": "completed"
    },
    "tags": []
   },
   "outputs": [],
   "source": [
    "data = Data(X_train, y_train.reshape(-1,1))\n",
    "sampler = Sampler(data, config.bs, shuffle=True)\n",
    "\n",
    "dl = Dataloader(data, sampler)\n",
    "\n",
    "opt = GD(config.lr)\n",
    "loss = MSE()"
   ]
  },
  {
   "cell_type": "code",
   "execution_count": 18,
   "id": "b275e4c2",
   "metadata": {
    "execution": {
     "iopub.execute_input": "2022-07-07T20:10:14.364050Z",
     "iopub.status.busy": "2022-07-07T20:10:14.363491Z",
     "iopub.status.idle": "2022-07-07T20:10:14.375566Z",
     "shell.execute_reply": "2022-07-07T20:10:14.375130Z"
    },
    "papermill": {
     "duration": 0.042897,
     "end_time": "2022-07-07T20:10:14.375667",
     "exception": false,
     "start_time": "2022-07-07T20:10:14.332770",
     "status": "completed"
    },
    "tags": []
   },
   "outputs": [],
   "source": [
    "training_data_x = X_train\n",
    "testing_data_x = X_test\n",
    "training_data_y = y_train.reshape(-1,1)\n",
    "testing_data_y = y_test.reshape(-1,1)"
   ]
  },
  {
   "cell_type": "code",
   "execution_count": 19,
   "id": "76951160",
   "metadata": {
    "execution": {
     "iopub.execute_input": "2022-07-07T20:10:14.434845Z",
     "iopub.status.busy": "2022-07-07T20:10:14.434261Z",
     "iopub.status.idle": "2022-07-07T20:10:14.450206Z",
     "shell.execute_reply": "2022-07-07T20:10:14.450657Z"
    },
    "papermill": {
     "duration": 0.047676,
     "end_time": "2022-07-07T20:10:14.450777",
     "exception": false,
     "start_time": "2022-07-07T20:10:14.403101",
     "status": "completed"
    },
    "tags": []
   },
   "outputs": [
    {
     "name": "stdout",
     "output_type": "stream",
     "text": [
      "xavier\n",
      "xavier\n",
      "xavier\n",
      "xavier\n",
      "xavier\n"
     ]
    }
   ],
   "source": [
    "layers = [Affine(\"first\", 784, 100), Relu(\"first\"), Affine(\"second\", 100, 100), Relu(\"second\"), Affine(\"third\", 100, 2), Affine(\"last\", 2, 1), Sigmoid(\"last\")]\n",
    "model_nn = Model(layers)\n",
    "model_lr = Model([Affine(\"logits\", 784, 1), Sigmoid(\"sigmoid\")])"
   ]
  },
  {
   "cell_type": "code",
   "execution_count": 20,
   "id": "6eede77a",
   "metadata": {
    "execution": {
     "iopub.execute_input": "2022-07-07T20:10:14.510242Z",
     "iopub.status.busy": "2022-07-07T20:10:14.509689Z",
     "iopub.status.idle": "2022-07-07T20:10:14.521729Z",
     "shell.execute_reply": "2022-07-07T20:10:14.521202Z"
    },
    "papermill": {
     "duration": 0.043064,
     "end_time": "2022-07-07T20:10:14.521830",
     "exception": false,
     "start_time": "2022-07-07T20:10:14.478766",
     "status": "completed"
    },
    "tags": []
   },
   "outputs": [],
   "source": [
    "nn_learner = Learner(loss, model_nn, opt, config.num_epochs)\n",
    "acc_nn = ClfCallback(nn_learner, config.bs, training_data_x , testing_data_x, training_data_y, testing_data_y)\n",
    "nn_learner.set_callbacks([acc_nn])"
   ]
  },
  {
   "cell_type": "code",
   "execution_count": 21,
   "id": "877b6cc7",
   "metadata": {
    "execution": {
     "iopub.execute_input": "2022-07-07T20:10:14.581760Z",
     "iopub.status.busy": "2022-07-07T20:10:14.581206Z",
     "iopub.status.idle": "2022-07-07T20:10:14.594731Z",
     "shell.execute_reply": "2022-07-07T20:10:14.593694Z"
    },
    "papermill": {
     "duration": 0.045256,
     "end_time": "2022-07-07T20:10:14.594841",
     "exception": false,
     "start_time": "2022-07-07T20:10:14.549585",
     "status": "completed"
    },
    "tags": []
   },
   "outputs": [],
   "source": [
    "lr_learner = Learner(loss, model_lr, opt, config.num_epochs)\n",
    "acc_lr = ClfCallback(lr_learner, config.bs, training_data_x , testing_data_x, training_data_y, testing_data_y)\n",
    "lr_learner.set_callbacks([acc_lr])"
   ]
  },
  {
   "cell_type": "code",
   "execution_count": 22,
   "id": "d9b133c3",
   "metadata": {
    "execution": {
     "iopub.execute_input": "2022-07-07T20:10:14.654584Z",
     "iopub.status.busy": "2022-07-07T20:10:14.653986Z",
     "iopub.status.idle": "2022-07-07T20:13:10.741208Z",
     "shell.execute_reply": "2022-07-07T20:13:10.741677Z"
    },
    "papermill": {
     "duration": 176.118865,
     "end_time": "2022-07-07T20:13:10.741803",
     "exception": false,
     "start_time": "2022-07-07T20:10:14.622938",
     "status": "completed"
    },
    "tags": []
   },
   "outputs": [
    {
     "name": "stdout",
     "output_type": "stream",
     "text": [
      "Epoch 0, Loss 0.2506\n",
      "Training Accuracy: 0.6721, Testing Accuracy: 0.6971\n",
      "\n"
     ]
    },
    {
     "name": "stdout",
     "output_type": "stream",
     "text": [
      "Epoch 10, Loss 0.0749\n",
      "Training Accuracy: 0.9291, Testing Accuracy: 0.9410\n",
      "\n"
     ]
    },
    {
     "name": "stdout",
     "output_type": "stream",
     "text": [
      "Epoch 20, Loss 0.0488\n",
      "Training Accuracy: 0.9506, Testing Accuracy: 0.9587\n",
      "\n"
     ]
    },
    {
     "name": "stdout",
     "output_type": "stream",
     "text": [
      "Epoch 30, Loss 0.0396\n",
      "Training Accuracy: 0.9586, Testing Accuracy: 0.9652\n",
      "\n"
     ]
    },
    {
     "name": "stdout",
     "output_type": "stream",
     "text": [
      "Epoch 40, Loss 0.0348\n",
      "Training Accuracy: 0.9619, Testing Accuracy: 0.9693\n",
      "\n"
     ]
    },
    {
     "name": "stdout",
     "output_type": "stream",
     "text": [
      "Epoch 50, Loss 0.0318\n",
      "Training Accuracy: 0.9654, Testing Accuracy: 0.9708\n",
      "\n"
     ]
    },
    {
     "name": "stdout",
     "output_type": "stream",
     "text": [
      "Epoch 60, Loss 0.0296\n",
      "Training Accuracy: 0.9669, Testing Accuracy: 0.9713\n",
      "\n"
     ]
    },
    {
     "name": "stdout",
     "output_type": "stream",
     "text": [
      "Epoch 70, Loss 0.0279\n",
      "Training Accuracy: 0.9685, Testing Accuracy: 0.9723\n",
      "\n"
     ]
    },
    {
     "name": "stdout",
     "output_type": "stream",
     "text": [
      "Epoch 80, Loss 0.0265\n",
      "Training Accuracy: 0.9702, Testing Accuracy: 0.9738\n",
      "\n"
     ]
    },
    {
     "name": "stdout",
     "output_type": "stream",
     "text": [
      "Epoch 90, Loss 0.0253\n",
      "Training Accuracy: 0.9708, Testing Accuracy: 0.9738\n",
      "\n"
     ]
    },
    {
     "name": "stdout",
     "output_type": "stream",
     "text": [
      "Epoch 100, Loss 0.0243\n",
      "Training Accuracy: 0.9720, Testing Accuracy: 0.9748\n",
      "\n"
     ]
    },
    {
     "name": "stdout",
     "output_type": "stream",
     "text": [
      "Epoch 110, Loss 0.0234\n",
      "Training Accuracy: 0.9730, Testing Accuracy: 0.9748\n",
      "\n"
     ]
    },
    {
     "name": "stdout",
     "output_type": "stream",
     "text": [
      "Epoch 120, Loss 0.0225\n",
      "Training Accuracy: 0.9740, Testing Accuracy: 0.9753\n",
      "\n"
     ]
    },
    {
     "name": "stdout",
     "output_type": "stream",
     "text": [
      "Epoch 130, Loss 0.0217\n",
      "Training Accuracy: 0.9746, Testing Accuracy: 0.9748\n",
      "\n"
     ]
    },
    {
     "name": "stdout",
     "output_type": "stream",
     "text": [
      "Epoch 140, Loss 0.021\n",
      "Training Accuracy: 0.9758, Testing Accuracy: 0.9753\n",
      "\n"
     ]
    },
    {
     "name": "stdout",
     "output_type": "stream",
     "text": [
      "Epoch 150, Loss 0.0203\n",
      "Training Accuracy: 0.9766, Testing Accuracy: 0.9748\n",
      "\n"
     ]
    },
    {
     "name": "stdout",
     "output_type": "stream",
     "text": [
      "Epoch 160, Loss 0.0197\n",
      "Training Accuracy: 0.9782, Testing Accuracy: 0.9758\n",
      "\n"
     ]
    },
    {
     "name": "stdout",
     "output_type": "stream",
     "text": [
      "Epoch 170, Loss 0.0191\n",
      "Training Accuracy: 0.9790, Testing Accuracy: 0.9753\n",
      "\n"
     ]
    },
    {
     "name": "stdout",
     "output_type": "stream",
     "text": [
      "Epoch 180, Loss 0.0186\n",
      "Training Accuracy: 0.9793, Testing Accuracy: 0.9758\n",
      "\n"
     ]
    },
    {
     "name": "stdout",
     "output_type": "stream",
     "text": [
      "Epoch 190, Loss 0.0181\n",
      "Training Accuracy: 0.9801, Testing Accuracy: 0.9768\n",
      "\n"
     ]
    },
    {
     "name": "stdout",
     "output_type": "stream",
     "text": [
      "Epoch 200, Loss 0.0176\n",
      "Training Accuracy: 0.9807, Testing Accuracy: 0.9773\n",
      "\n"
     ]
    },
    {
     "name": "stdout",
     "output_type": "stream",
     "text": [
      "Epoch 210, Loss 0.0172\n",
      "Training Accuracy: 0.9813, Testing Accuracy: 0.9778\n",
      "\n"
     ]
    },
    {
     "name": "stdout",
     "output_type": "stream",
     "text": [
      "Epoch 220, Loss 0.0167\n",
      "Training Accuracy: 0.9820, Testing Accuracy: 0.9788\n",
      "\n"
     ]
    },
    {
     "name": "stdout",
     "output_type": "stream",
     "text": [
      "Epoch 230, Loss 0.0163\n",
      "Training Accuracy: 0.9828, Testing Accuracy: 0.9798\n",
      "\n"
     ]
    },
    {
     "name": "stdout",
     "output_type": "stream",
     "text": [
      "Epoch 240, Loss 0.0159\n",
      "Training Accuracy: 0.9830, Testing Accuracy: 0.9798\n",
      "\n"
     ]
    },
    {
     "data": {
      "text/plain": [
       "0.022875504861649243"
      ]
     },
     "execution_count": 22,
     "metadata": {},
     "output_type": "execute_result"
    }
   ],
   "source": [
    "nn_learner.train_loop(dl)"
   ]
  },
  {
   "cell_type": "code",
   "execution_count": 23,
   "id": "e0163366",
   "metadata": {
    "execution": {
     "iopub.execute_input": "2022-07-07T20:13:10.818654Z",
     "iopub.status.busy": "2022-07-07T20:13:10.816272Z",
     "iopub.status.idle": "2022-07-07T20:13:22.972678Z",
     "shell.execute_reply": "2022-07-07T20:13:22.973197Z"
    },
    "papermill": {
     "duration": 12.196685,
     "end_time": "2022-07-07T20:13:22.973324",
     "exception": false,
     "start_time": "2022-07-07T20:13:10.776639",
     "status": "completed"
    },
    "tags": []
   },
   "outputs": [
    {
     "name": "stdout",
     "output_type": "stream",
     "text": [
      "Epoch 0, Loss 0.2371\n",
      "Training Accuracy: 0.7052, Testing Accuracy: 0.7082\n",
      "\n"
     ]
    },
    {
     "name": "stdout",
     "output_type": "stream",
     "text": [
      "Epoch 10, Loss 0.1059\n",
      "Training Accuracy: 0.9011, Testing Accuracy: 0.9123\n",
      "\n"
     ]
    },
    {
     "name": "stdout",
     "output_type": "stream",
     "text": [
      "Epoch 20, Loss 0.0816\n",
      "Training Accuracy: 0.9215, Testing Accuracy: 0.9335\n",
      "\n"
     ]
    },
    {
     "name": "stdout",
     "output_type": "stream",
     "text": [
      "Epoch 30, Loss 0.0702\n",
      "Training Accuracy: 0.9331, Testing Accuracy: 0.9451\n",
      "\n"
     ]
    },
    {
     "name": "stdout",
     "output_type": "stream",
     "text": [
      "Epoch 40, Loss 0.0633\n",
      "Training Accuracy: 0.9383, Testing Accuracy: 0.9471\n",
      "\n"
     ]
    },
    {
     "name": "stdout",
     "output_type": "stream",
     "text": [
      "Epoch 50, Loss 0.0586\n",
      "Training Accuracy: 0.9413, Testing Accuracy: 0.9486\n",
      "\n"
     ]
    },
    {
     "name": "stdout",
     "output_type": "stream",
     "text": [
      "Epoch 60, Loss 0.0551\n",
      "Training Accuracy: 0.9441, Testing Accuracy: 0.9511\n",
      "\n"
     ]
    },
    {
     "name": "stdout",
     "output_type": "stream",
     "text": [
      "Epoch 70, Loss 0.0524\n",
      "Training Accuracy: 0.9468, Testing Accuracy: 0.9536\n",
      "\n"
     ]
    },
    {
     "name": "stdout",
     "output_type": "stream",
     "text": [
      "Epoch 80, Loss 0.0503\n",
      "Training Accuracy: 0.9485, Testing Accuracy: 0.9567\n",
      "\n"
     ]
    },
    {
     "name": "stdout",
     "output_type": "stream",
     "text": [
      "Epoch 90, Loss 0.0485\n",
      "Training Accuracy: 0.9494, Testing Accuracy: 0.9597\n",
      "\n"
     ]
    },
    {
     "name": "stdout",
     "output_type": "stream",
     "text": [
      "Epoch 100, Loss 0.047\n",
      "Training Accuracy: 0.9505, Testing Accuracy: 0.9602\n",
      "\n"
     ]
    },
    {
     "name": "stdout",
     "output_type": "stream",
     "text": [
      "Epoch 110, Loss 0.0457\n",
      "Training Accuracy: 0.9515, Testing Accuracy: 0.9627\n",
      "\n"
     ]
    },
    {
     "name": "stdout",
     "output_type": "stream",
     "text": [
      "Epoch 120, Loss 0.0446\n",
      "Training Accuracy: 0.9525, Testing Accuracy: 0.9637\n",
      "\n"
     ]
    },
    {
     "name": "stdout",
     "output_type": "stream",
     "text": [
      "Epoch 130, Loss 0.0436\n",
      "Training Accuracy: 0.9537, Testing Accuracy: 0.9642\n",
      "\n"
     ]
    },
    {
     "name": "stdout",
     "output_type": "stream",
     "text": [
      "Epoch 140, Loss 0.0428\n",
      "Training Accuracy: 0.9547, Testing Accuracy: 0.9647\n",
      "\n"
     ]
    },
    {
     "name": "stdout",
     "output_type": "stream",
     "text": [
      "Epoch 150, Loss 0.042\n",
      "Training Accuracy: 0.9551, Testing Accuracy: 0.9647\n",
      "\n"
     ]
    },
    {
     "name": "stdout",
     "output_type": "stream",
     "text": [
      "Epoch 160, Loss 0.0413\n",
      "Training Accuracy: 0.9559, Testing Accuracy: 0.9657\n",
      "\n"
     ]
    },
    {
     "name": "stdout",
     "output_type": "stream",
     "text": [
      "Epoch 170, Loss 0.0406\n",
      "Training Accuracy: 0.9561, Testing Accuracy: 0.9667\n",
      "\n"
     ]
    },
    {
     "name": "stdout",
     "output_type": "stream",
     "text": [
      "Epoch 180, Loss 0.04\n",
      "Training Accuracy: 0.9570, Testing Accuracy: 0.9667\n",
      "\n"
     ]
    },
    {
     "name": "stdout",
     "output_type": "stream",
     "text": [
      "Epoch 190, Loss 0.0395\n",
      "Training Accuracy: 0.9574, Testing Accuracy: 0.9667\n",
      "\n"
     ]
    },
    {
     "name": "stdout",
     "output_type": "stream",
     "text": [
      "Epoch 200, Loss 0.039\n",
      "Training Accuracy: 0.9579, Testing Accuracy: 0.9677\n",
      "\n"
     ]
    },
    {
     "name": "stdout",
     "output_type": "stream",
     "text": [
      "Epoch 210, Loss 0.0385\n",
      "Training Accuracy: 0.9580, Testing Accuracy: 0.9677\n",
      "\n"
     ]
    },
    {
     "name": "stdout",
     "output_type": "stream",
     "text": [
      "Epoch 220, Loss 0.0381\n",
      "Training Accuracy: 0.9584, Testing Accuracy: 0.9677\n",
      "\n"
     ]
    },
    {
     "name": "stdout",
     "output_type": "stream",
     "text": [
      "Epoch 230, Loss 0.0377\n",
      "Training Accuracy: 0.9589, Testing Accuracy: 0.9672\n",
      "\n"
     ]
    },
    {
     "name": "stdout",
     "output_type": "stream",
     "text": [
      "Epoch 240, Loss 0.0373\n",
      "Training Accuracy: 0.9598, Testing Accuracy: 0.9672\n",
      "\n"
     ]
    },
    {
     "data": {
      "text/plain": [
       "0.03702187676131758"
      ]
     },
     "execution_count": 23,
     "metadata": {},
     "output_type": "execute_result"
    }
   ],
   "source": [
    "lr_learner.train_loop(dl)"
   ]
  },
  {
   "cell_type": "code",
   "execution_count": 24,
   "id": "ca410940",
   "metadata": {
    "execution": {
     "iopub.execute_input": "2022-07-07T20:13:23.065523Z",
     "iopub.status.busy": "2022-07-07T20:13:23.062919Z",
     "iopub.status.idle": "2022-07-07T20:13:23.292676Z",
     "shell.execute_reply": "2022-07-07T20:13:23.292216Z"
    },
    "papermill": {
     "duration": 0.277262,
     "end_time": "2022-07-07T20:13:23.292791",
     "exception": false,
     "start_time": "2022-07-07T20:13:23.015529",
     "status": "completed"
    },
    "tags": []
   },
   "outputs": [
    {
     "data": {
      "text/plain": [
       "<matplotlib.legend.Legend at 0x7f7a2d010ac8>"
      ]
     },
     "execution_count": 24,
     "metadata": {},
     "output_type": "execute_result"
    },
    {
     "data": {
      "image/png": "[encoded data removed]",
      "text/plain": [
       "<Figure size 1080x720 with 1 Axes>"
      ]
     },
     "metadata": {
      "needs_background": "light"
     },
     "output_type": "display_data"
    }
   ],
   "source": [
    "#comparing the results of NN and LR\n",
    "plt.figure(figsize=(15,10))\n",
    "\n",
    "# Neural Network plots\n",
    "plt.plot(acc_nn.accuracies, 'r-', label = \"Training Accuracies - NN\")\n",
    "plt.plot(acc_nn.test_accuracies, 'g-', label = \"Testing Accuracies - NN\")\n",
    "\n",
    "# Logistic Regression plots\n",
    "plt.plot(acc_lr.accuracies, 'k-', label = \"Training Accuracies - LR\")\n",
    "plt.plot(acc_lr.test_accuracies, 'b-', label = \"Testing Accuracies - LR\")\n",
    "plt.legend()"
   ]
  },
  {
   "cell_type": "markdown",
   "id": "80dfb35c",
   "metadata": {
    "papermill": {
     "duration": 0.042984,
     "end_time": "2022-07-07T20:13:23.379077",
     "exception": false,
     "start_time": "2022-07-07T20:13:23.336093",
     "status": "completed"
    },
    "tags": []
   },
   "source": [
    "#### Plotting the outputs of this layer of the NN.\n"
   ]
  },
  {
   "cell_type": "code",
   "execution_count": 25,
   "id": "45eb2ff5",
   "metadata": {
    "execution": {
     "iopub.execute_input": "2022-07-07T20:13:23.471206Z",
     "iopub.status.busy": "2022-07-07T20:13:23.469262Z",
     "iopub.status.idle": "2022-07-07T20:13:23.504832Z",
     "shell.execute_reply": "2022-07-07T20:13:23.505508Z"
    },
    "papermill": {
     "duration": 0.08333,
     "end_time": "2022-07-07T20:13:23.505640",
     "exception": false,
     "start_time": "2022-07-07T20:13:23.422310",
     "status": "completed"
    },
    "tags": []
   },
   "outputs": [],
   "source": [
    "new_model = Model(layers[:-2])\n",
    "testing_plot = new_model(testing_data_x)"
   ]
  },
  {
   "cell_type": "code",
   "execution_count": 26,
   "id": "4c0a5485",
   "metadata": {
    "execution": {
     "iopub.execute_input": "2022-07-07T20:13:23.596497Z",
     "iopub.status.busy": "2022-07-07T20:13:23.595949Z",
     "iopub.status.idle": "2022-07-07T20:13:23.780484Z",
     "shell.execute_reply": "2022-07-07T20:13:23.780014Z"
    },
    "papermill": {
     "duration": 0.231362,
     "end_time": "2022-07-07T20:13:23.780592",
     "exception": false,
     "start_time": "2022-07-07T20:13:23.549230",
     "status": "completed"
    },
    "tags": []
   },
   "outputs": [
    {
     "data": {
      "text/plain": [
       "Text(0.5, 1.0, 'Outputs')"
      ]
     },
     "execution_count": 26,
     "metadata": {},
     "output_type": "execute_result"
    },
    {
     "data": {
      "image/png": "[encoded data removed]",
      "text/plain": [
       "<Figure size 576x504 with 1 Axes>"
      ]
     },
     "metadata": {
      "needs_background": "light"
     },
     "output_type": "display_data"
    }
   ],
   "source": [
    "# Plotting the scatter plot of points and color coding by class\n",
    "plt.figure(figsize=(8,7))\n",
    "plt.scatter(testing_plot[:,0], testing_plot[:,1], alpha = 0.1, c = y_test.ravel());\n",
    "plt.title('Outputs')"
   ]
  },
  {
   "cell_type": "markdown",
   "id": "a74fcf8f",
   "metadata": {
    "papermill": {
     "duration": 0.045111,
     "end_time": "2022-07-07T20:13:23.894309",
     "exception": false,
     "start_time": "2022-07-07T20:13:23.849198",
     "status": "completed"
    },
    "tags": []
   },
   "source": [
    "Probability contours"
   ]
  },
  {
   "cell_type": "code",
   "execution_count": 27,
   "id": "d0afc8e3",
   "metadata": {
    "execution": {
     "iopub.execute_input": "2022-07-07T20:13:23.991544Z",
     "iopub.status.busy": "2022-07-07T20:13:23.990993Z",
     "iopub.status.idle": "2022-07-07T20:13:23.998965Z",
     "shell.execute_reply": "2022-07-07T20:13:23.999396Z"
    },
    "papermill": {
     "duration": 0.059946,
     "end_time": "2022-07-07T20:13:23.999514",
     "exception": false,
     "start_time": "2022-07-07T20:13:23.939568",
     "status": "completed"
    },
    "tags": []
   },
   "outputs": [],
   "source": [
    "model_prob = Model(layers[-2:]) "
   ]
  },
  {
   "cell_type": "code",
   "execution_count": 28,
   "id": "9b96e238",
   "metadata": {
    "execution": {
     "iopub.execute_input": "2022-07-07T20:13:24.094020Z",
     "iopub.status.busy": "2022-07-07T20:13:24.093463Z",
     "iopub.status.idle": "2022-07-07T20:13:24.107219Z",
     "shell.execute_reply": "2022-07-07T20:13:24.107611Z"
    },
    "papermill": {
     "duration": 0.063067,
     "end_time": "2022-07-07T20:13:24.107734",
     "exception": false,
     "start_time": "2022-07-07T20:13:24.044667",
     "status": "completed"
    },
    "tags": []
   },
   "outputs": [],
   "source": [
    "#creating the x and y ranges according to the above generated plot.\n",
    "x_range = np.linspace(-4, 1, 100) \n",
    "y_range = np.linspace(-6, 6, 100) \n",
    "x_grid, y_grid = np.meshgrid(x_range, y_range) # x_grid and y_grig are of size 100 X 100\n",
    "\n",
    "# converting x_grid and y_grid to continuous arrays\n",
    "x_gridflat = np.ravel(x_grid)\n",
    "y_gridflat = np.ravel(y_grid)\n",
    "\n",
    "# The last layer of the current model takes two columns as input. Hence transpose of np.vstack() is required.\n",
    "X = np.vstack((x_gridflat, y_gridflat)).T\n",
    "\n",
    "prob_contour = model_prob(X).reshape(100,100) "
   ]
  },
  {
   "cell_type": "code",
   "execution_count": 29,
   "id": "da72499a",
   "metadata": {
    "execution": {
     "iopub.execute_input": "2022-07-07T20:13:24.202667Z",
     "iopub.status.busy": "2022-07-07T20:13:24.202080Z",
     "iopub.status.idle": "2022-07-07T20:13:24.444414Z",
     "shell.execute_reply": "2022-07-07T20:13:24.444853Z"
    },
    "papermill": {
     "duration": 0.291982,
     "end_time": "2022-07-07T20:13:24.444978",
     "exception": false,
     "start_time": "2022-07-07T20:13:24.152996",
     "status": "completed"
    },
    "tags": []
   },
   "outputs": [
    {
     "data": {
      "image/png": "[encoded data removed]",
      "text/plain": [
       "<Figure size 720x648 with 1 Axes>"
      ]
     },
     "metadata": {
      "needs_background": "light"
     },
     "output_type": "display_data"
    }
   ],
   "source": [
    "plt.figure(figsize=(10,9))\n",
    "plt.scatter(testing_plot[:,0], testing_plot[:,1], alpha = 0.1, c = y_test.ravel())\n",
    "contours = plt.contour(x_grid,y_grid,prob_contour)\n",
    "plt.title('Probability Contours')\n",
    "plt.clabel(contours, inline = True );"
   ]
  },
  {
   "cell_type": "code",
   "execution_count": null,
   "id": "e81b4ac7",
   "metadata": {
    "papermill": {
     "duration": 0.047766,
     "end_time": "2022-07-07T20:13:24.540998",
     "exception": false,
     "start_time": "2022-07-07T20:13:24.493232",
     "status": "completed"
    },
    "tags": []
   },
   "outputs": [],
   "source": []
  }
 ],
 "metadata": {
  "kernelspec": {
   "display_name": "Python 3",
   "language": "python",
   "name": "python3"
  },
  "language_info": {
   "codemirror_mode": {
    "name": "ipython",
    "version": 3
   },
   "file_extension": ".py",
   "mimetype": "text/x-python",
   "name": "python",
   "nbconvert_exporter": "python",
   "pygments_lexer": "ipython3",
   "version": "3.6.15"
  },
  "papermill": {
   "default_parameters": {},
   "duration": 196.268982,
   "end_time": "2022-07-07T20:13:25.006905",
   "environment_variables": {},
   "exception": null,
   "input_path": "2020-08-11-part2.ipynb",
   "output_path": "2020-08-11-part2.ipynb",
   "parameters": {},
   "start_time": "2022-07-07T20:10:08.737923",
   "version": "2.3.3"
  }
 },
 "nbformat": 4,
 "nbformat_minor": 5
}