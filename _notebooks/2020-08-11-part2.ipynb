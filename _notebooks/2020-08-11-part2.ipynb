{
 "cells": [
  {
   "cell_type": "markdown",
   "id": "98380cd3",
   "metadata": {
    "papermill": {
     "duration": 0.028404,
     "end_time": "2022-05-15T20:09:50.292731",
     "exception": false,
     "start_time": "2022-05-15T20:09:50.264327",
     "status": "completed"
    },
    "tags": []
   },
   "source": [
    "# Distinguish Your Own Digits (DYOD)"
   ]
  },
  {
   "cell_type": "markdown",
   "id": "ef31240d",
   "metadata": {
    "papermill": {
     "duration": 0.025011,
     "end_time": "2022-05-15T20:09:50.342149",
     "exception": false,
     "start_time": "2022-05-15T20:09:50.317138",
     "status": "completed"
    },
    "tags": []
   },
   "source": [
    "You are going to write a classifier that distinguishes between the number 3 and number 8."
   ]
  },
  {
   "cell_type": "code",
   "execution_count": 1,
   "id": "b15c8646",
   "metadata": {
    "execution": {
     "iopub.execute_input": "2022-05-15T20:09:50.399865Z",
     "iopub.status.busy": "2022-05-15T20:09:50.399333Z",
     "iopub.status.idle": "2022-05-15T20:09:50.409317Z",
     "shell.execute_reply": "2022-05-15T20:09:50.409704Z"
    },
    "papermill": {
     "duration": 0.044255,
     "end_time": "2022-05-15T20:09:50.409859",
     "exception": false,
     "start_time": "2022-05-15T20:09:50.365604",
     "status": "completed"
    },
    "tags": []
   },
   "outputs": [],
   "source": [
    "%load_ext autoreload\n",
    "%autoreload 2"
   ]
  },
  {
   "cell_type": "code",
   "execution_count": 2,
   "id": "22ef38dc",
   "metadata": {
    "execution": {
     "iopub.execute_input": "2022-05-15T20:09:50.461559Z",
     "iopub.status.busy": "2022-05-15T20:09:50.461047Z",
     "iopub.status.idle": "2022-05-15T20:09:50.991868Z",
     "shell.execute_reply": "2022-05-15T20:09:50.991323Z"
    },
    "papermill": {
     "duration": 0.558689,
     "end_time": "2022-05-15T20:09:50.992013",
     "exception": false,
     "start_time": "2022-05-15T20:09:50.433324",
     "status": "completed"
    },
    "tags": []
   },
   "outputs": [],
   "source": [
    "%matplotlib inline\n",
    "import numpy as np\n",
    "import matplotlib.pyplot as plt\n",
    "import pandas as pd"
   ]
  },
  {
   "cell_type": "markdown",
   "id": "ba036198",
   "metadata": {
    "papermill": {
     "duration": 0.023572,
     "end_time": "2022-05-15T20:09:51.040050",
     "exception": false,
     "start_time": "2022-05-15T20:09:51.016478",
     "status": "completed"
    },
    "tags": []
   },
   "source": [
    "From the command line run `pip install mnist`. This is a library that will help you bring down the mnist dataset. If you run this from a notebook, you need to put  `!pip install mnist` in a cell by itself."
   ]
  },
  {
   "cell_type": "code",
   "execution_count": 3,
   "id": "bb6ad8a1",
   "metadata": {
    "execution": {
     "iopub.execute_input": "2022-05-15T20:09:51.095833Z",
     "iopub.status.busy": "2022-05-15T20:09:51.095320Z",
     "iopub.status.idle": "2022-05-15T20:09:52.910075Z",
     "shell.execute_reply": "2022-05-15T20:09:52.909582Z"
    },
    "papermill": {
     "duration": 1.846541,
     "end_time": "2022-05-15T20:09:52.910199",
     "exception": false,
     "start_time": "2022-05-15T20:09:51.063658",
     "status": "completed"
    },
    "tags": []
   },
   "outputs": [
    {
     "name": "stdout",
     "output_type": "stream",
     "text": [
      "Collecting mnist\r\n"
     ]
    },
    {
     "name": "stdout",
     "output_type": "stream",
     "text": [
      "  Downloading mnist-0.2.2-py2.py3-none-any.whl (3.5 kB)\r\n",
      "Requirement already satisfied: numpy in /opt/hostedtoolcache/Python/3.6.15/x64/lib/python3.6/site-packages (from mnist) (1.19.5)\r\n"
     ]
    },
    {
     "name": "stdout",
     "output_type": "stream",
     "text": [
      "Installing collected packages: mnist\r\n"
     ]
    },
    {
     "name": "stdout",
     "output_type": "stream",
     "text": [
      "Successfully installed mnist-0.2.2\r\n"
     ]
    }
   ],
   "source": [
    "!pip install mnist"
   ]
  },
  {
   "cell_type": "markdown",
   "id": "69df9c9a",
   "metadata": {
    "papermill": {
     "duration": 0.024568,
     "end_time": "2022-05-15T20:09:52.959656",
     "exception": false,
     "start_time": "2022-05-15T20:09:52.935088",
     "status": "completed"
    },
    "tags": []
   },
   "source": [
    "## Preparing the Data"
   ]
  },
  {
   "cell_type": "code",
   "execution_count": 4,
   "id": "7f69d806",
   "metadata": {
    "execution": {
     "iopub.execute_input": "2022-05-15T20:09:53.012848Z",
     "iopub.status.busy": "2022-05-15T20:09:53.012336Z",
     "iopub.status.idle": "2022-05-15T20:09:53.027335Z",
     "shell.execute_reply": "2022-05-15T20:09:53.027750Z"
    },
    "papermill": {
     "duration": 0.043719,
     "end_time": "2022-05-15T20:09:53.027885",
     "exception": false,
     "start_time": "2022-05-15T20:09:52.984166",
     "status": "completed"
    },
    "tags": []
   },
   "outputs": [],
   "source": [
    "import mnist"
   ]
  },
  {
   "cell_type": "code",
   "execution_count": 5,
   "id": "a411e44f",
   "metadata": {
    "execution": {
     "iopub.execute_input": "2022-05-15T20:09:53.086592Z",
     "iopub.status.busy": "2022-05-15T20:09:53.086053Z",
     "iopub.status.idle": "2022-05-15T20:09:53.776533Z",
     "shell.execute_reply": "2022-05-15T20:09:53.776040Z"
    },
    "papermill": {
     "duration": 0.723919,
     "end_time": "2022-05-15T20:09:53.776670",
     "exception": false,
     "start_time": "2022-05-15T20:09:53.052751",
     "status": "completed"
    },
    "tags": []
   },
   "outputs": [],
   "source": [
    "train_images = mnist.train_images()\n",
    "train_labels = mnist.train_labels()"
   ]
  },
  {
   "cell_type": "code",
   "execution_count": 6,
   "id": "dceab3a5",
   "metadata": {
    "execution": {
     "iopub.execute_input": "2022-05-15T20:09:53.833080Z",
     "iopub.status.busy": "2022-05-15T20:09:53.832554Z",
     "iopub.status.idle": "2022-05-15T20:09:53.845618Z",
     "shell.execute_reply": "2022-05-15T20:09:53.846053Z"
    },
    "papermill": {
     "duration": 0.044438,
     "end_time": "2022-05-15T20:09:53.846187",
     "exception": false,
     "start_time": "2022-05-15T20:09:53.801749",
     "status": "completed"
    },
    "tags": []
   },
   "outputs": [
    {
     "data": {
      "text/plain": [
       "((60000, 28, 28), (60000,))"
      ]
     },
     "execution_count": 6,
     "metadata": {},
     "output_type": "execute_result"
    }
   ],
   "source": [
    "train_images.shape, train_labels.shape"
   ]
  },
  {
   "cell_type": "code",
   "execution_count": 7,
   "id": "f50dc2bb",
   "metadata": {
    "execution": {
     "iopub.execute_input": "2022-05-15T20:09:53.907250Z",
     "iopub.status.busy": "2022-05-15T20:09:53.903250Z",
     "iopub.status.idle": "2022-05-15T20:09:54.160139Z",
     "shell.execute_reply": "2022-05-15T20:09:54.159569Z"
    },
    "papermill": {
     "duration": 0.289169,
     "end_time": "2022-05-15T20:09:54.160282",
     "exception": false,
     "start_time": "2022-05-15T20:09:53.871113",
     "status": "completed"
    },
    "tags": []
   },
   "outputs": [],
   "source": [
    "test_images = mnist.test_images()\n",
    "test_labels = mnist.test_labels()"
   ]
  },
  {
   "cell_type": "code",
   "execution_count": 8,
   "id": "fc38cf1b",
   "metadata": {
    "execution": {
     "iopub.execute_input": "2022-05-15T20:09:54.214313Z",
     "iopub.status.busy": "2022-05-15T20:09:54.213793Z",
     "iopub.status.idle": "2022-05-15T20:09:54.226197Z",
     "shell.execute_reply": "2022-05-15T20:09:54.226714Z"
    },
    "papermill": {
     "duration": 0.040937,
     "end_time": "2022-05-15T20:09:54.226847",
     "exception": false,
     "start_time": "2022-05-15T20:09:54.185910",
     "status": "completed"
    },
    "tags": []
   },
   "outputs": [
    {
     "data": {
      "text/plain": [
       "((10000, 28, 28), (10000,))"
      ]
     },
     "execution_count": 8,
     "metadata": {},
     "output_type": "execute_result"
    }
   ],
   "source": [
    "test_images.shape, test_labels.shape"
   ]
  },
  {
   "cell_type": "code",
   "execution_count": 9,
   "id": "f9ed8fe0",
   "metadata": {
    "execution": {
     "iopub.execute_input": "2022-05-15T20:09:54.282451Z",
     "iopub.status.busy": "2022-05-15T20:09:54.281944Z",
     "iopub.status.idle": "2022-05-15T20:09:54.416944Z",
     "shell.execute_reply": "2022-05-15T20:09:54.417416Z"
    },
    "papermill": {
     "duration": 0.165553,
     "end_time": "2022-05-15T20:09:54.417567",
     "exception": false,
     "start_time": "2022-05-15T20:09:54.252014",
     "status": "completed"
    },
    "tags": []
   },
   "outputs": [
    {
     "name": "stdout",
     "output_type": "stream",
     "text": [
      "2\n"
     ]
    },
    {
     "data": {
      "text/plain": [
       "<matplotlib.image.AxesImage at 0x7f99835734e0>"
      ]
     },
     "execution_count": 9,
     "metadata": {},
     "output_type": "execute_result"
    },
    {
     "data": {
      "image/png": "[encoded data removed]",
      "text/plain": [
       "<Figure size 432x288 with 1 Axes>"
      ]
     },
     "metadata": {
      "needs_background": "light"
     },
     "output_type": "display_data"
    }
   ],
   "source": [
    "image_index = 7776 # You may select anything up to 60,000\n",
    "print(train_labels[image_index]) \n",
    "plt.imshow(train_images[image_index], cmap='Greys')"
   ]
  },
  {
   "cell_type": "markdown",
   "id": "a8d2388d",
   "metadata": {
    "papermill": {
     "duration": 0.026062,
     "end_time": "2022-05-15T20:09:54.470110",
     "exception": false,
     "start_time": "2022-05-15T20:09:54.444048",
     "status": "completed"
    },
    "tags": []
   },
   "source": [
    "## Filter data to get 3 and 8 out"
   ]
  },
  {
   "cell_type": "code",
   "execution_count": 10,
   "id": "776f7fc7",
   "metadata": {
    "execution": {
     "iopub.execute_input": "2022-05-15T20:09:54.526154Z",
     "iopub.status.busy": "2022-05-15T20:09:54.525636Z",
     "iopub.status.idle": "2022-05-15T20:09:54.544246Z",
     "shell.execute_reply": "2022-05-15T20:09:54.544681Z"
    },
    "papermill": {
     "duration": 0.048646,
     "end_time": "2022-05-15T20:09:54.544812",
     "exception": false,
     "start_time": "2022-05-15T20:09:54.496166",
     "status": "completed"
    },
    "tags": []
   },
   "outputs": [],
   "source": [
    "train_filter = np.where((train_labels == 3 ) | (train_labels == 8))\n",
    "test_filter = np.where((test_labels == 3) | (test_labels == 8))\n",
    "X_train, y_train = train_images[train_filter], train_labels[train_filter]\n",
    "X_test, y_test = test_images[test_filter], test_labels[test_filter]"
   ]
  },
  {
   "cell_type": "markdown",
   "id": "948f0b7e",
   "metadata": {
    "papermill": {
     "duration": 0.026094,
     "end_time": "2022-05-15T20:09:54.597169",
     "exception": false,
     "start_time": "2022-05-15T20:09:54.571075",
     "status": "completed"
    },
    "tags": []
   },
   "source": [
    "We normalize the pizel values in the 0 to 1 range"
   ]
  },
  {
   "cell_type": "code",
   "execution_count": 11,
   "id": "ee4c2166",
   "metadata": {
    "execution": {
     "iopub.execute_input": "2022-05-15T20:09:54.657306Z",
     "iopub.status.busy": "2022-05-15T20:09:54.656777Z",
     "iopub.status.idle": "2022-05-15T20:09:54.702522Z",
     "shell.execute_reply": "2022-05-15T20:09:54.702989Z"
    },
    "papermill": {
     "duration": 0.079485,
     "end_time": "2022-05-15T20:09:54.703151",
     "exception": false,
     "start_time": "2022-05-15T20:09:54.623666",
     "status": "completed"
    },
    "tags": []
   },
   "outputs": [],
   "source": [
    "X_train = X_train/255.\n",
    "X_test = X_test/255."
   ]
  },
  {
   "cell_type": "markdown",
   "id": "ddcf4fab",
   "metadata": {
    "papermill": {
     "duration": 0.02618,
     "end_time": "2022-05-15T20:09:54.756510",
     "exception": false,
     "start_time": "2022-05-15T20:09:54.730330",
     "status": "completed"
    },
    "tags": []
   },
   "source": [
    "And setup the labels as 1 (when the digit is 3) and 0 (when the digit is 8)"
   ]
  },
  {
   "cell_type": "code",
   "execution_count": 12,
   "id": "7dc908f2",
   "metadata": {
    "execution": {
     "iopub.execute_input": "2022-05-15T20:09:54.828010Z",
     "iopub.status.busy": "2022-05-15T20:09:54.827487Z",
     "iopub.status.idle": "2022-05-15T20:09:54.829864Z",
     "shell.execute_reply": "2022-05-15T20:09:54.830271Z"
    },
    "papermill": {
     "duration": 0.04691,
     "end_time": "2022-05-15T20:09:54.830405",
     "exception": false,
     "start_time": "2022-05-15T20:09:54.783495",
     "status": "completed"
    },
    "tags": []
   },
   "outputs": [],
   "source": [
    "y_train = 1*(y_train==3)\n",
    "y_test = 1*(y_test==3)"
   ]
  },
  {
   "cell_type": "code",
   "execution_count": 13,
   "id": "01e4e969",
   "metadata": {
    "execution": {
     "iopub.execute_input": "2022-05-15T20:09:54.898950Z",
     "iopub.status.busy": "2022-05-15T20:09:54.895430Z",
     "iopub.status.idle": "2022-05-15T20:09:54.901511Z",
     "shell.execute_reply": "2022-05-15T20:09:54.901894Z"
    },
    "papermill": {
     "duration": 0.045443,
     "end_time": "2022-05-15T20:09:54.902023",
     "exception": false,
     "start_time": "2022-05-15T20:09:54.856580",
     "status": "completed"
    },
    "tags": []
   },
   "outputs": [
    {
     "data": {
      "text/plain": [
       "((11982, 28, 28), (1984, 28, 28))"
      ]
     },
     "execution_count": 13,
     "metadata": {},
     "output_type": "execute_result"
    }
   ],
   "source": [
    "X_train.shape, X_test.shape"
   ]
  },
  {
   "cell_type": "markdown",
   "id": "5ccf3f85",
   "metadata": {
    "papermill": {
     "duration": 0.026321,
     "end_time": "2022-05-15T20:09:54.954628",
     "exception": false,
     "start_time": "2022-05-15T20:09:54.928307",
     "status": "completed"
    },
    "tags": []
   },
   "source": [
    "We reshape the data to flatten the image pixels into a set of features or co-variates:"
   ]
  },
  {
   "cell_type": "code",
   "execution_count": 14,
   "id": "5286a4a3",
   "metadata": {
    "execution": {
     "iopub.execute_input": "2022-05-15T20:09:55.025455Z",
     "iopub.status.busy": "2022-05-15T20:09:55.024913Z",
     "iopub.status.idle": "2022-05-15T20:09:55.030293Z",
     "shell.execute_reply": "2022-05-15T20:09:55.029880Z"
    },
    "papermill": {
     "duration": 0.049371,
     "end_time": "2022-05-15T20:09:55.030412",
     "exception": false,
     "start_time": "2022-05-15T20:09:54.981041",
     "status": "completed"
    },
    "tags": []
   },
   "outputs": [
    {
     "data": {
      "text/plain": [
       "((11982, 784), (1984, 784))"
      ]
     },
     "execution_count": 14,
     "metadata": {},
     "output_type": "execute_result"
    }
   ],
   "source": [
    "X_train = X_train.reshape(X_train.shape[0], -1)\n",
    "X_test = X_test.reshape(X_test.shape[0], -1)\n",
    "X_train.shape, X_test.shape"
   ]
  },
  {
   "cell_type": "code",
   "execution_count": 15,
   "id": "73c5f88a",
   "metadata": {
    "execution": {
     "iopub.execute_input": "2022-05-15T20:09:55.088522Z",
     "iopub.status.busy": "2022-05-15T20:09:55.088010Z",
     "iopub.status.idle": "2022-05-15T20:09:55.106047Z",
     "shell.execute_reply": "2022-05-15T20:09:55.106431Z"
    },
    "papermill": {
     "duration": 0.049385,
     "end_time": "2022-05-15T20:09:55.106590",
     "exception": false,
     "start_time": "2022-05-15T20:09:55.057205",
     "status": "completed"
    },
    "tags": []
   },
   "outputs": [],
   "source": [
    "#Impoting functions from 'Kudzu'\n",
    "from kudzu.model import Model\n",
    "from kudzu.train import Learner\n",
    "from kudzu.optim import GD\n",
    "from kudzu.data import Data, Sampler,Dataloader\n",
    "\n",
    "from kudzu.callbacks import AccCallback\n",
    "from kudzu.callbacks import ClfCallback\n",
    "\n",
    "from kudzu.loss import MSE\n",
    "\n",
    "from kudzu.layer import Sigmoid,Relu\n",
    "from kudzu.layer import Affine"
   ]
  },
  {
   "cell_type": "markdown",
   "id": "bc01172a",
   "metadata": {
    "papermill": {
     "duration": 0.02671,
     "end_time": "2022-05-15T20:09:55.160089",
     "exception": false,
     "start_time": "2022-05-15T20:09:55.133379",
     "status": "completed"
    },
    "tags": []
   },
   "source": [
    "### Let us create a `Config` class, to store important parameters. \n",
    "This class essentially plays the role of a dictionary."
   ]
  },
  {
   "cell_type": "code",
   "execution_count": 16,
   "id": "978281aa",
   "metadata": {
    "execution": {
     "iopub.execute_input": "2022-05-15T20:09:55.230660Z",
     "iopub.status.busy": "2022-05-15T20:09:55.227323Z",
     "iopub.status.idle": "2022-05-15T20:09:55.232985Z",
     "shell.execute_reply": "2022-05-15T20:09:55.232475Z"
    },
    "papermill": {
     "duration": 0.046406,
     "end_time": "2022-05-15T20:09:55.233096",
     "exception": false,
     "start_time": "2022-05-15T20:09:55.186690",
     "status": "completed"
    },
    "tags": []
   },
   "outputs": [],
   "source": [
    "class Config:\n",
    "    pass\n",
    "config = Config()\n",
    "config.lr = 0.001\n",
    "config.num_epochs = 250\n",
    "config.bs = 50"
   ]
  },
  {
   "cell_type": "markdown",
   "id": "1385fa59",
   "metadata": {
    "papermill": {
     "duration": 0.026722,
     "end_time": "2022-05-15T20:09:55.286640",
     "exception": false,
     "start_time": "2022-05-15T20:09:55.259918",
     "status": "completed"
    },
    "tags": []
   },
   "source": [
    "### Running Models with the Training data\n",
    "Details about the network layers:\n",
    "- A first affine layer has 784 inputs and does 100 affine transforms. These are followed by a Relu\n",
    "- A second affine layer has 100 inputs from the 100 activations of the past layer, and does 100 affine transforms. These are followed by a Relu\n",
    "- A third affine layer has 100 activations and does 2 affine transformations to create an embedding for visualization. There is no non-linearity here.\n",
    "- A final \"logistic regression\" which has an affine transform from 2 inputs to 1 output, which is squeezed through a sigmoid.\n"
   ]
  },
  {
   "cell_type": "code",
   "execution_count": 17,
   "id": "2b9c66db",
   "metadata": {
    "execution": {
     "iopub.execute_input": "2022-05-15T20:09:55.353957Z",
     "iopub.status.busy": "2022-05-15T20:09:55.345130Z",
     "iopub.status.idle": "2022-05-15T20:09:55.360765Z",
     "shell.execute_reply": "2022-05-15T20:09:55.360326Z"
    },
    "papermill": {
     "duration": 0.047365,
     "end_time": "2022-05-15T20:09:55.360880",
     "exception": false,
     "start_time": "2022-05-15T20:09:55.313515",
     "status": "completed"
    },
    "tags": []
   },
   "outputs": [],
   "source": [
    "data = Data(X_train, y_train.reshape(-1,1))\n",
    "sampler = Sampler(data, config.bs, shuffle=True)\n",
    "\n",
    "dl = Dataloader(data, sampler)\n",
    "\n",
    "opt = GD(config.lr)\n",
    "loss = MSE()"
   ]
  },
  {
   "cell_type": "code",
   "execution_count": 18,
   "id": "b275e4c2",
   "metadata": {
    "execution": {
     "iopub.execute_input": "2022-05-15T20:09:55.427633Z",
     "iopub.status.busy": "2022-05-15T20:09:55.420471Z",
     "iopub.status.idle": "2022-05-15T20:09:55.433937Z",
     "shell.execute_reply": "2022-05-15T20:09:55.433523Z"
    },
    "papermill": {
     "duration": 0.046378,
     "end_time": "2022-05-15T20:09:55.434053",
     "exception": false,
     "start_time": "2022-05-15T20:09:55.387675",
     "status": "completed"
    },
    "tags": []
   },
   "outputs": [],
   "source": [
    "training_data_x = X_train\n",
    "testing_data_x = X_test\n",
    "training_data_y = y_train.reshape(-1,1)\n",
    "testing_data_y = y_test.reshape(-1,1)"
   ]
  },
  {
   "cell_type": "code",
   "execution_count": 19,
   "id": "76951160",
   "metadata": {
    "execution": {
     "iopub.execute_input": "2022-05-15T20:09:55.490910Z",
     "iopub.status.busy": "2022-05-15T20:09:55.490375Z",
     "iopub.status.idle": "2022-05-15T20:09:55.506472Z",
     "shell.execute_reply": "2022-05-15T20:09:55.506066Z"
    },
    "papermill": {
     "duration": 0.045967,
     "end_time": "2022-05-15T20:09:55.506605",
     "exception": false,
     "start_time": "2022-05-15T20:09:55.460638",
     "status": "completed"
    },
    "tags": []
   },
   "outputs": [
    {
     "name": "stdout",
     "output_type": "stream",
     "text": [
      "xavier\n",
      "xavier\n",
      "xavier\n",
      "xavier\n",
      "xavier\n"
     ]
    }
   ],
   "source": [
    "layers = [Affine(\"first\", 784, 100), Relu(\"first\"), Affine(\"second\", 100, 100), Relu(\"second\"), Affine(\"third\", 100, 2), Affine(\"last\", 2, 1), Sigmoid(\"last\")]\n",
    "model_nn = Model(layers)\n",
    "model_lr = Model([Affine(\"logits\", 784, 1), Sigmoid(\"sigmoid\")])"
   ]
  },
  {
   "cell_type": "code",
   "execution_count": 20,
   "id": "6eede77a",
   "metadata": {
    "execution": {
     "iopub.execute_input": "2022-05-15T20:09:55.566540Z",
     "iopub.status.busy": "2022-05-15T20:09:55.565994Z",
     "iopub.status.idle": "2022-05-15T20:09:55.577265Z",
     "shell.execute_reply": "2022-05-15T20:09:55.576812Z"
    },
    "papermill": {
     "duration": 0.043691,
     "end_time": "2022-05-15T20:09:55.577383",
     "exception": false,
     "start_time": "2022-05-15T20:09:55.533692",
     "status": "completed"
    },
    "tags": []
   },
   "outputs": [],
   "source": [
    "nn_learner = Learner(loss, model_nn, opt, config.num_epochs)\n",
    "acc_nn = ClfCallback(nn_learner, config.bs, training_data_x , testing_data_x, training_data_y, testing_data_y)\n",
    "nn_learner.set_callbacks([acc_nn])"
   ]
  },
  {
   "cell_type": "code",
   "execution_count": 21,
   "id": "877b6cc7",
   "metadata": {
    "execution": {
     "iopub.execute_input": "2022-05-15T20:09:55.650426Z",
     "iopub.status.busy": "2022-05-15T20:09:55.649895Z",
     "iopub.status.idle": "2022-05-15T20:09:55.652309Z",
     "shell.execute_reply": "2022-05-15T20:09:55.651896Z"
    },
    "papermill": {
     "duration": 0.047778,
     "end_time": "2022-05-15T20:09:55.652428",
     "exception": false,
     "start_time": "2022-05-15T20:09:55.604650",
     "status": "completed"
    },
    "tags": []
   },
   "outputs": [],
   "source": [
    "lr_learner = Learner(loss, model_lr, opt, config.num_epochs)\n",
    "acc_lr = ClfCallback(lr_learner, config.bs, training_data_x , testing_data_x, training_data_y, testing_data_y)\n",
    "lr_learner.set_callbacks([acc_lr])"
   ]
  },
  {
   "cell_type": "code",
   "execution_count": 22,
   "id": "d9b133c3",
   "metadata": {
    "execution": {
     "iopub.execute_input": "2022-05-15T20:09:55.709813Z",
     "iopub.status.busy": "2022-05-15T20:09:55.709311Z",
     "iopub.status.idle": "2022-05-15T20:11:10.374671Z",
     "shell.execute_reply": "2022-05-15T20:11:10.375423Z"
    },
    "papermill": {
     "duration": 74.696129,
     "end_time": "2022-05-15T20:11:10.375580",
     "exception": false,
     "start_time": "2022-05-15T20:09:55.679451",
     "status": "completed"
    },
    "tags": []
   },
   "outputs": [
    {
     "name": "stdout",
     "output_type": "stream",
     "text": [
      "Epoch 0, Loss 0.235\n",
      "Training Accuracy: 0.7021, Testing Accuracy: 0.7041\n",
      "\n"
     ]
    },
    {
     "name": "stdout",
     "output_type": "stream",
     "text": [
      "Epoch 10, Loss 0.1273\n",
      "Training Accuracy: 0.8959, Testing Accuracy: 0.9093\n",
      "\n"
     ]
    },
    {
     "name": "stdout",
     "output_type": "stream",
     "text": [
      "Epoch 20, Loss 0.0683\n",
      "Training Accuracy: 0.9341, Testing Accuracy: 0.9405\n",
      "\n"
     ]
    },
    {
     "name": "stdout",
     "output_type": "stream",
     "text": [
      "Epoch 30, Loss 0.0494\n",
      "Training Accuracy: 0.9480, Testing Accuracy: 0.9567\n",
      "\n"
     ]
    },
    {
     "name": "stdout",
     "output_type": "stream",
     "text": [
      "Epoch 40, Loss 0.0412\n",
      "Training Accuracy: 0.9538, Testing Accuracy: 0.9622\n",
      "\n"
     ]
    },
    {
     "name": "stdout",
     "output_type": "stream",
     "text": [
      "Epoch 50, Loss 0.0366\n",
      "Training Accuracy: 0.9571, Testing Accuracy: 0.9647\n",
      "\n"
     ]
    },
    {
     "name": "stdout",
     "output_type": "stream",
     "text": [
      "Epoch 60, Loss 0.0336\n",
      "Training Accuracy: 0.9609, Testing Accuracy: 0.9667\n",
      "\n"
     ]
    },
    {
     "name": "stdout",
     "output_type": "stream",
     "text": [
      "Epoch 70, Loss 0.0315\n",
      "Training Accuracy: 0.9634, Testing Accuracy: 0.9688\n",
      "\n"
     ]
    },
    {
     "name": "stdout",
     "output_type": "stream",
     "text": [
      "Epoch 80, Loss 0.0298\n",
      "Training Accuracy: 0.9651, Testing Accuracy: 0.9708\n",
      "\n"
     ]
    },
    {
     "name": "stdout",
     "output_type": "stream",
     "text": [
      "Epoch 90, Loss 0.0285\n",
      "Training Accuracy: 0.9664, Testing Accuracy: 0.9708\n",
      "\n"
     ]
    },
    {
     "name": "stdout",
     "output_type": "stream",
     "text": [
      "Epoch 100, Loss 0.0273\n",
      "Training Accuracy: 0.9681, Testing Accuracy: 0.9708\n",
      "\n"
     ]
    },
    {
     "name": "stdout",
     "output_type": "stream",
     "text": [
      "Epoch 110, Loss 0.0264\n",
      "Training Accuracy: 0.9694, Testing Accuracy: 0.9718\n",
      "\n"
     ]
    },
    {
     "name": "stdout",
     "output_type": "stream",
     "text": [
      "Epoch 120, Loss 0.0255\n",
      "Training Accuracy: 0.9705, Testing Accuracy: 0.9718\n",
      "\n"
     ]
    },
    {
     "name": "stdout",
     "output_type": "stream",
     "text": [
      "Epoch 130, Loss 0.0247\n",
      "Training Accuracy: 0.9710, Testing Accuracy: 0.9713\n",
      "\n"
     ]
    },
    {
     "name": "stdout",
     "output_type": "stream",
     "text": [
      "Epoch 140, Loss 0.024\n",
      "Training Accuracy: 0.9720, Testing Accuracy: 0.9713\n",
      "\n"
     ]
    },
    {
     "name": "stdout",
     "output_type": "stream",
     "text": [
      "Epoch 150, Loss 0.0234\n",
      "Training Accuracy: 0.9730, Testing Accuracy: 0.9718\n",
      "\n"
     ]
    },
    {
     "name": "stdout",
     "output_type": "stream",
     "text": [
      "Epoch 160, Loss 0.0228\n",
      "Training Accuracy: 0.9740, Testing Accuracy: 0.9718\n",
      "\n"
     ]
    },
    {
     "name": "stdout",
     "output_type": "stream",
     "text": [
      "Epoch 170, Loss 0.0222\n",
      "Training Accuracy: 0.9746, Testing Accuracy: 0.9723\n",
      "\n"
     ]
    },
    {
     "name": "stdout",
     "output_type": "stream",
     "text": [
      "Epoch 180, Loss 0.0217\n",
      "Training Accuracy: 0.9754, Testing Accuracy: 0.9723\n",
      "\n"
     ]
    },
    {
     "name": "stdout",
     "output_type": "stream",
     "text": [
      "Epoch 190, Loss 0.0212\n",
      "Training Accuracy: 0.9760, Testing Accuracy: 0.9733\n",
      "\n"
     ]
    },
    {
     "name": "stdout",
     "output_type": "stream",
     "text": [
      "Epoch 200, Loss 0.0207\n",
      "Training Accuracy: 0.9765, Testing Accuracy: 0.9733\n",
      "\n"
     ]
    },
    {
     "name": "stdout",
     "output_type": "stream",
     "text": [
      "Epoch 210, Loss 0.0202\n",
      "Training Accuracy: 0.9772, Testing Accuracy: 0.9733\n",
      "\n"
     ]
    },
    {
     "name": "stdout",
     "output_type": "stream",
     "text": [
      "Epoch 220, Loss 0.0198\n",
      "Training Accuracy: 0.9776, Testing Accuracy: 0.9738\n",
      "\n"
     ]
    },
    {
     "name": "stdout",
     "output_type": "stream",
     "text": [
      "Epoch 230, Loss 0.0193\n",
      "Training Accuracy: 0.9786, Testing Accuracy: 0.9738\n",
      "\n"
     ]
    },
    {
     "name": "stdout",
     "output_type": "stream",
     "text": [
      "Epoch 240, Loss 0.0189\n",
      "Training Accuracy: 0.9789, Testing Accuracy: 0.9733\n",
      "\n"
     ]
    },
    {
     "data": {
      "text/plain": [
       "0.06188987981310053"
      ]
     },
     "execution_count": 22,
     "metadata": {},
     "output_type": "execute_result"
    }
   ],
   "source": [
    "nn_learner.train_loop(dl)"
   ]
  },
  {
   "cell_type": "code",
   "execution_count": 23,
   "id": "e0163366",
   "metadata": {
    "execution": {
     "iopub.execute_input": "2022-05-15T20:11:10.457985Z",
     "iopub.status.busy": "2022-05-15T20:11:10.457454Z",
     "iopub.status.idle": "2022-05-15T20:11:24.200221Z",
     "shell.execute_reply": "2022-05-15T20:11:24.200999Z"
    },
    "papermill": {
     "duration": 13.790249,
     "end_time": "2022-05-15T20:11:24.201162",
     "exception": false,
     "start_time": "2022-05-15T20:11:10.410913",
     "status": "completed"
    },
    "tags": []
   },
   "outputs": [
    {
     "name": "stdout",
     "output_type": "stream",
     "text": [
      "Epoch 0, Loss 0.2419\n",
      "Training Accuracy: 0.6929, Testing Accuracy: 0.6966\n",
      "\n"
     ]
    },
    {
     "name": "stdout",
     "output_type": "stream",
     "text": [
      "Epoch 10, Loss 0.1031\n",
      "Training Accuracy: 0.9084, Testing Accuracy: 0.9163\n",
      "\n"
     ]
    },
    {
     "name": "stdout",
     "output_type": "stream",
     "text": [
      "Epoch 20, Loss 0.0793\n",
      "Training Accuracy: 0.9263, Testing Accuracy: 0.9375\n",
      "\n"
     ]
    },
    {
     "name": "stdout",
     "output_type": "stream",
     "text": [
      "Epoch 30, Loss 0.0682\n",
      "Training Accuracy: 0.9349, Testing Accuracy: 0.9446\n",
      "\n"
     ]
    },
    {
     "name": "stdout",
     "output_type": "stream",
     "text": [
      "Epoch 40, Loss 0.0615\n",
      "Training Accuracy: 0.9408, Testing Accuracy: 0.9486\n",
      "\n"
     ]
    },
    {
     "name": "stdout",
     "output_type": "stream",
     "text": [
      "Epoch 50, Loss 0.057\n",
      "Training Accuracy: 0.9449, Testing Accuracy: 0.9531\n",
      "\n"
     ]
    },
    {
     "name": "stdout",
     "output_type": "stream",
     "text": [
      "Epoch 60, Loss 0.0537\n",
      "Training Accuracy: 0.9479, Testing Accuracy: 0.9556\n",
      "\n"
     ]
    },
    {
     "name": "stdout",
     "output_type": "stream",
     "text": [
      "Epoch 70, Loss 0.0511\n",
      "Training Accuracy: 0.9498, Testing Accuracy: 0.9577\n",
      "\n"
     ]
    },
    {
     "name": "stdout",
     "output_type": "stream",
     "text": [
      "Epoch 80, Loss 0.049\n",
      "Training Accuracy: 0.9514, Testing Accuracy: 0.9592\n",
      "\n"
     ]
    },
    {
     "name": "stdout",
     "output_type": "stream",
     "text": [
      "Epoch 90, Loss 0.0474\n",
      "Training Accuracy: 0.9520, Testing Accuracy: 0.9602\n",
      "\n"
     ]
    },
    {
     "name": "stdout",
     "output_type": "stream",
     "text": [
      "Epoch 100, Loss 0.0459\n",
      "Training Accuracy: 0.9533, Testing Accuracy: 0.9607\n",
      "\n"
     ]
    },
    {
     "name": "stdout",
     "output_type": "stream",
     "text": [
      "Epoch 110, Loss 0.0447\n",
      "Training Accuracy: 0.9543, Testing Accuracy: 0.9622\n",
      "\n"
     ]
    },
    {
     "name": "stdout",
     "output_type": "stream",
     "text": [
      "Epoch 120, Loss 0.0437\n",
      "Training Accuracy: 0.9550, Testing Accuracy: 0.9637\n",
      "\n"
     ]
    },
    {
     "name": "stdout",
     "output_type": "stream",
     "text": [
      "Epoch 130, Loss 0.0427\n",
      "Training Accuracy: 0.9559, Testing Accuracy: 0.9627\n",
      "\n"
     ]
    },
    {
     "name": "stdout",
     "output_type": "stream",
     "text": [
      "Epoch 140, Loss 0.0419\n",
      "Training Accuracy: 0.9566, Testing Accuracy: 0.9637\n",
      "\n"
     ]
    },
    {
     "name": "stdout",
     "output_type": "stream",
     "text": [
      "Epoch 150, Loss 0.0412\n",
      "Training Accuracy: 0.9571, Testing Accuracy: 0.9642\n",
      "\n"
     ]
    },
    {
     "name": "stdout",
     "output_type": "stream",
     "text": [
      "Epoch 160, Loss 0.0405\n",
      "Training Accuracy: 0.9579, Testing Accuracy: 0.9642\n",
      "\n"
     ]
    },
    {
     "name": "stdout",
     "output_type": "stream",
     "text": [
      "Epoch 170, Loss 0.0399\n",
      "Training Accuracy: 0.9584, Testing Accuracy: 0.9642\n",
      "\n"
     ]
    },
    {
     "name": "stdout",
     "output_type": "stream",
     "text": [
      "Epoch 180, Loss 0.0394\n",
      "Training Accuracy: 0.9587, Testing Accuracy: 0.9642\n",
      "\n"
     ]
    },
    {
     "name": "stdout",
     "output_type": "stream",
     "text": [
      "Epoch 190, Loss 0.0388\n",
      "Training Accuracy: 0.9594, Testing Accuracy: 0.9647\n",
      "\n"
     ]
    },
    {
     "name": "stdout",
     "output_type": "stream",
     "text": [
      "Epoch 200, Loss 0.0384\n",
      "Training Accuracy: 0.9597, Testing Accuracy: 0.9647\n",
      "\n"
     ]
    },
    {
     "name": "stdout",
     "output_type": "stream",
     "text": [
      "Epoch 210, Loss 0.0379\n",
      "Training Accuracy: 0.9599, Testing Accuracy: 0.9647\n",
      "\n"
     ]
    },
    {
     "name": "stdout",
     "output_type": "stream",
     "text": [
      "Epoch 220, Loss 0.0375\n",
      "Training Accuracy: 0.9602, Testing Accuracy: 0.9652\n",
      "\n"
     ]
    },
    {
     "name": "stdout",
     "output_type": "stream",
     "text": [
      "Epoch 230, Loss 0.0372\n",
      "Training Accuracy: 0.9605, Testing Accuracy: 0.9652\n",
      "\n"
     ]
    },
    {
     "name": "stdout",
     "output_type": "stream",
     "text": [
      "Epoch 240, Loss 0.0368\n",
      "Training Accuracy: 0.9609, Testing Accuracy: 0.9647\n",
      "\n"
     ]
    },
    {
     "data": {
      "text/plain": [
       "0.057051727243335244"
      ]
     },
     "execution_count": 23,
     "metadata": {},
     "output_type": "execute_result"
    }
   ],
   "source": [
    "lr_learner.train_loop(dl)"
   ]
  },
  {
   "cell_type": "code",
   "execution_count": 24,
   "id": "ca410940",
   "metadata": {
    "execution": {
     "iopub.execute_input": "2022-05-15T20:11:24.292502Z",
     "iopub.status.busy": "2022-05-15T20:11:24.291958Z",
     "iopub.status.idle": "2022-05-15T20:11:24.519916Z",
     "shell.execute_reply": "2022-05-15T20:11:24.519449Z"
    },
    "papermill": {
     "duration": 0.277891,
     "end_time": "2022-05-15T20:11:24.520044",
     "exception": false,
     "start_time": "2022-05-15T20:11:24.242153",
     "status": "completed"
    },
    "tags": []
   },
   "outputs": [
    {
     "data": {
      "text/plain": [
       "<matplotlib.legend.Legend at 0x7f9983152c50>"
      ]
     },
     "execution_count": 24,
     "metadata": {},
     "output_type": "execute_result"
    },
    {
     "data": {
      "image/png": "[encoded data removed]",
      "text/plain": [
       "<Figure size 1080x720 with 1 Axes>"
      ]
     },
     "metadata": {
      "needs_background": "light"
     },
     "output_type": "display_data"
    }
   ],
   "source": [
    "#comparing the results of NN and LR\n",
    "plt.figure(figsize=(15,10))\n",
    "\n",
    "# Neural Network plots\n",
    "plt.plot(acc_nn.accuracies, 'r-', label = \"Training Accuracies - NN\")\n",
    "plt.plot(acc_nn.test_accuracies, 'g-', label = \"Testing Accuracies - NN\")\n",
    "\n",
    "# Logistic Regression plots\n",
    "plt.plot(acc_lr.accuracies, 'k-', label = \"Training Accuracies - LR\")\n",
    "plt.plot(acc_lr.test_accuracies, 'b-', label = \"Testing Accuracies - LR\")\n",
    "plt.legend()"
   ]
  },
  {
   "cell_type": "markdown",
   "id": "80dfb35c",
   "metadata": {
    "papermill": {
     "duration": 0.046236,
     "end_time": "2022-05-15T20:11:24.608355",
     "exception": false,
     "start_time": "2022-05-15T20:11:24.562119",
     "status": "completed"
    },
    "tags": []
   },
   "source": [
    "#### Plotting the outputs of this layer of the NN.\n"
   ]
  },
  {
   "cell_type": "code",
   "execution_count": 25,
   "id": "45eb2ff5",
   "metadata": {
    "execution": {
     "iopub.execute_input": "2022-05-15T20:11:24.707402Z",
     "iopub.status.busy": "2022-05-15T20:11:24.703876Z",
     "iopub.status.idle": "2022-05-15T20:11:24.719754Z",
     "shell.execute_reply": "2022-05-15T20:11:24.720153Z"
    },
    "papermill": {
     "duration": 0.070236,
     "end_time": "2022-05-15T20:11:24.720302",
     "exception": false,
     "start_time": "2022-05-15T20:11:24.650066",
     "status": "completed"
    },
    "tags": []
   },
   "outputs": [],
   "source": [
    "new_model = Model(layers[:-2])\n",
    "testing_plot = new_model(testing_data_x)"
   ]
  },
  {
   "cell_type": "code",
   "execution_count": 26,
   "id": "4c0a5485",
   "metadata": {
    "execution": {
     "iopub.execute_input": "2022-05-15T20:11:24.810021Z",
     "iopub.status.busy": "2022-05-15T20:11:24.808483Z",
     "iopub.status.idle": "2022-05-15T20:11:25.003264Z",
     "shell.execute_reply": "2022-05-15T20:11:25.002810Z"
    },
    "papermill": {
     "duration": 0.241069,
     "end_time": "2022-05-15T20:11:25.003385",
     "exception": false,
     "start_time": "2022-05-15T20:11:24.762316",
     "status": "completed"
    },
    "tags": []
   },
   "outputs": [
    {
     "data": {
      "text/plain": [
       "Text(0.5, 1.0, 'Outputs')"
      ]
     },
     "execution_count": 26,
     "metadata": {},
     "output_type": "execute_result"
    },
    {
     "data": {
      "image/png": "[encoded data removed]",
      "text/plain": [
       "<Figure size 576x504 with 1 Axes>"
      ]
     },
     "metadata": {
      "needs_background": "light"
     },
     "output_type": "display_data"
    }
   ],
   "source": [
    "# Plotting the scatter plot of points and color coding by class\n",
    "plt.figure(figsize=(8,7))\n",
    "plt.scatter(testing_plot[:,0], testing_plot[:,1], alpha = 0.1, c = y_test.ravel());\n",
    "plt.title('Outputs')"
   ]
  },
  {
   "cell_type": "markdown",
   "id": "a74fcf8f",
   "metadata": {
    "papermill": {
     "duration": 0.043218,
     "end_time": "2022-05-15T20:11:25.090630",
     "exception": false,
     "start_time": "2022-05-15T20:11:25.047412",
     "status": "completed"
    },
    "tags": []
   },
   "source": [
    "Probability contours"
   ]
  },
  {
   "cell_type": "code",
   "execution_count": 27,
   "id": "d0afc8e3",
   "metadata": {
    "execution": {
     "iopub.execute_input": "2022-05-15T20:11:25.196675Z",
     "iopub.status.busy": "2022-05-15T20:11:25.195770Z",
     "iopub.status.idle": "2022-05-15T20:11:25.199555Z",
     "shell.execute_reply": "2022-05-15T20:11:25.199115Z"
    },
    "papermill": {
     "duration": 0.06555,
     "end_time": "2022-05-15T20:11:25.199669",
     "exception": false,
     "start_time": "2022-05-15T20:11:25.134119",
     "status": "completed"
    },
    "tags": []
   },
   "outputs": [],
   "source": [
    "model_prob = Model(layers[-2:]) "
   ]
  },
  {
   "cell_type": "code",
   "execution_count": 28,
   "id": "9b96e238",
   "metadata": {
    "execution": {
     "iopub.execute_input": "2022-05-15T20:11:25.323398Z",
     "iopub.status.busy": "2022-05-15T20:11:25.322439Z",
     "iopub.status.idle": "2022-05-15T20:11:25.335600Z",
     "shell.execute_reply": "2022-05-15T20:11:25.335182Z"
    },
    "papermill": {
     "duration": 0.061044,
     "end_time": "2022-05-15T20:11:25.335717",
     "exception": false,
     "start_time": "2022-05-15T20:11:25.274673",
     "status": "completed"
    },
    "tags": []
   },
   "outputs": [],
   "source": [
    "#creating the x and y ranges according to the above generated plot.\n",
    "x_range = np.linspace(-4, 1, 100) \n",
    "y_range = np.linspace(-6, 6, 100) \n",
    "x_grid, y_grid = np.meshgrid(x_range, y_range) # x_grid and y_grig are of size 100 X 100\n",
    "\n",
    "# converting x_grid and y_grid to continuous arrays\n",
    "x_gridflat = np.ravel(x_grid)\n",
    "y_gridflat = np.ravel(y_grid)\n",
    "\n",
    "# The last layer of the current model takes two columns as input. Hence transpose of np.vstack() is required.\n",
    "X = np.vstack((x_gridflat, y_gridflat)).T\n",
    "\n",
    "prob_contour = model_prob(X).reshape(100,100) "
   ]
  },
  {
   "cell_type": "code",
   "execution_count": 29,
   "id": "da72499a",
   "metadata": {
    "execution": {
     "iopub.execute_input": "2022-05-15T20:11:25.432200Z",
     "iopub.status.busy": "2022-05-15T20:11:25.431678Z",
     "iopub.status.idle": "2022-05-15T20:11:25.675072Z",
     "shell.execute_reply": "2022-05-15T20:11:25.674605Z"
    },
    "papermill": {
     "duration": 0.295558,
     "end_time": "2022-05-15T20:11:25.675200",
     "exception": false,
     "start_time": "2022-05-15T20:11:25.379642",
     "status": "completed"
    },
    "tags": []
   },
   "outputs": [
    {
     "data": {
      "image/png": "[encoded data removed]",
      "text/plain": [
       "<Figure size 720x648 with 1 Axes>"
      ]
     },
     "metadata": {
      "needs_background": "light"
     },
     "output_type": "display_data"
    }
   ],
   "source": [
    "plt.figure(figsize=(10,9))\n",
    "plt.scatter(testing_plot[:,0], testing_plot[:,1], alpha = 0.1, c = y_test.ravel())\n",
    "contours = plt.contour(x_grid,y_grid,prob_contour)\n",
    "plt.title('Probability Contours')\n",
    "plt.clabel(contours, inline = True );"
   ]
  },
  {
   "cell_type": "code",
   "execution_count": null,
   "id": "e81b4ac7",
   "metadata": {
    "papermill": {
     "duration": 0.046034,
     "end_time": "2022-05-15T20:11:25.767680",
     "exception": false,
     "start_time": "2022-05-15T20:11:25.721646",
     "status": "completed"
    },
    "tags": []
   },
   "outputs": [],
   "source": []
  }
 ],
 "metadata": {
  "kernelspec": {
   "display_name": "Python 3",
   "language": "python",
   "name": "python3"
  },
  "language_info": {
   "codemirror_mode": {
    "name": "ipython",
    "version": 3
   },
   "file_extension": ".py",
   "mimetype": "text/x-python",
   "name": "python",
   "nbconvert_exporter": "python",
   "pygments_lexer": "ipython3",
   "version": "3.6.15"
  },
  "papermill": {
   "default_parameters": {},
   "duration": 96.894615,
   "end_time": "2022-05-15T20:11:26.232585",
   "environment_variables": {},
   "exception": null,
   "input_path": "2020-08-11-part2.ipynb",
   "output_path": "2020-08-11-part2.ipynb",
   "parameters": {},
   "start_time": "2022-05-15T20:09:49.337970",
   "version": "2.3.3"
  }
 },
 "nbformat": 4,
 "nbformat_minor": 5
}