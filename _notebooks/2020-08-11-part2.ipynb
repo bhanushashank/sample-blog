{
 "cells": [
  {
   "cell_type": "markdown",
   "id": "98380cd3",
   "metadata": {
    "papermill": {
     "duration": 0.029933,
     "end_time": "2022-05-19T20:09:50.576694",
     "exception": false,
     "start_time": "2022-05-19T20:09:50.546761",
     "status": "completed"
    },
    "tags": []
   },
   "source": [
    "# Distinguish Your Own Digits (DYOD)"
   ]
  },
  {
   "cell_type": "markdown",
   "id": "ef31240d",
   "metadata": {
    "papermill": {
     "duration": 0.023656,
     "end_time": "2022-05-19T20:09:50.624770",
     "exception": false,
     "start_time": "2022-05-19T20:09:50.601114",
     "status": "completed"
    },
    "tags": []
   },
   "source": [
    "You are going to write a classifier that distinguishes between the number 3 and number 8."
   ]
  },
  {
   "cell_type": "code",
   "execution_count": 1,
   "id": "b15c8646",
   "metadata": {
    "execution": {
     "iopub.execute_input": "2022-05-19T20:09:50.682789Z",
     "iopub.status.busy": "2022-05-19T20:09:50.682137Z",
     "iopub.status.idle": "2022-05-19T20:09:50.693687Z",
     "shell.execute_reply": "2022-05-19T20:09:50.693194Z"
    },
    "papermill": {
     "duration": 0.045169,
     "end_time": "2022-05-19T20:09:50.693811",
     "exception": false,
     "start_time": "2022-05-19T20:09:50.648642",
     "status": "completed"
    },
    "tags": []
   },
   "outputs": [],
   "source": [
    "%load_ext autoreload\n",
    "%autoreload 2"
   ]
  },
  {
   "cell_type": "code",
   "execution_count": 2,
   "id": "22ef38dc",
   "metadata": {
    "execution": {
     "iopub.execute_input": "2022-05-19T20:09:50.745218Z",
     "iopub.status.busy": "2022-05-19T20:09:50.744649Z",
     "iopub.status.idle": "2022-05-19T20:09:51.269838Z",
     "shell.execute_reply": "2022-05-19T20:09:51.268802Z"
    },
    "papermill": {
     "duration": 0.552326,
     "end_time": "2022-05-19T20:09:51.269984",
     "exception": false,
     "start_time": "2022-05-19T20:09:50.717658",
     "status": "completed"
    },
    "tags": []
   },
   "outputs": [],
   "source": [
    "%matplotlib inline\n",
    "import numpy as np\n",
    "import matplotlib.pyplot as plt\n",
    "import pandas as pd"
   ]
  },
  {
   "cell_type": "markdown",
   "id": "ba036198",
   "metadata": {
    "papermill": {
     "duration": 0.023632,
     "end_time": "2022-05-19T20:09:51.317623",
     "exception": false,
     "start_time": "2022-05-19T20:09:51.293991",
     "status": "completed"
    },
    "tags": []
   },
   "source": [
    "From the command line run `pip install mnist`. This is a library that will help you bring down the mnist dataset. If you run this from a notebook, you need to put  `!pip install mnist` in a cell by itself."
   ]
  },
  {
   "cell_type": "code",
   "execution_count": 3,
   "id": "bb6ad8a1",
   "metadata": {
    "execution": {
     "iopub.execute_input": "2022-05-19T20:09:51.369451Z",
     "iopub.status.busy": "2022-05-19T20:09:51.368782Z",
     "iopub.status.idle": "2022-05-19T20:09:53.032868Z",
     "shell.execute_reply": "2022-05-19T20:09:53.032319Z"
    },
    "papermill": {
     "duration": 1.691519,
     "end_time": "2022-05-19T20:09:53.032994",
     "exception": false,
     "start_time": "2022-05-19T20:09:51.341475",
     "status": "completed"
    },
    "tags": []
   },
   "outputs": [
    {
     "name": "stdout",
     "output_type": "stream",
     "text": [
      "Collecting mnist\r\n"
     ]
    },
    {
     "name": "stdout",
     "output_type": "stream",
     "text": [
      "  Downloading mnist-0.2.2-py2.py3-none-any.whl (3.5 kB)\r\n"
     ]
    },
    {
     "name": "stdout",
     "output_type": "stream",
     "text": [
      "Requirement already satisfied: numpy in /opt/hostedtoolcache/Python/3.6.15/x64/lib/python3.6/site-packages (from mnist) (1.19.5)\r\n"
     ]
    },
    {
     "name": "stdout",
     "output_type": "stream",
     "text": [
      "Installing collected packages: mnist\r\n"
     ]
    },
    {
     "name": "stdout",
     "output_type": "stream",
     "text": [
      "Successfully installed mnist-0.2.2\r\n"
     ]
    }
   ],
   "source": [
    "!pip install mnist"
   ]
  },
  {
   "cell_type": "markdown",
   "id": "69df9c9a",
   "metadata": {
    "papermill": {
     "duration": 0.025182,
     "end_time": "2022-05-19T20:09:53.083771",
     "exception": false,
     "start_time": "2022-05-19T20:09:53.058589",
     "status": "completed"
    },
    "tags": []
   },
   "source": [
    "## Preparing the Data"
   ]
  },
  {
   "cell_type": "code",
   "execution_count": 4,
   "id": "7f69d806",
   "metadata": {
    "execution": {
     "iopub.execute_input": "2022-05-19T20:09:53.148781Z",
     "iopub.status.busy": "2022-05-19T20:09:53.145836Z",
     "iopub.status.idle": "2022-05-19T20:09:53.156549Z",
     "shell.execute_reply": "2022-05-19T20:09:53.156075Z"
    },
    "papermill": {
     "duration": 0.04787,
     "end_time": "2022-05-19T20:09:53.156657",
     "exception": false,
     "start_time": "2022-05-19T20:09:53.108787",
     "status": "completed"
    },
    "tags": []
   },
   "outputs": [],
   "source": [
    "import mnist"
   ]
  },
  {
   "cell_type": "code",
   "execution_count": 5,
   "id": "a411e44f",
   "metadata": {
    "execution": {
     "iopub.execute_input": "2022-05-19T20:09:53.225073Z",
     "iopub.status.busy": "2022-05-19T20:09:53.219825Z",
     "iopub.status.idle": "2022-05-19T20:09:53.775832Z",
     "shell.execute_reply": "2022-05-19T20:09:53.775312Z"
    },
    "papermill": {
     "duration": 0.594182,
     "end_time": "2022-05-19T20:09:53.775965",
     "exception": false,
     "start_time": "2022-05-19T20:09:53.181783",
     "status": "completed"
    },
    "tags": []
   },
   "outputs": [],
   "source": [
    "train_images = mnist.train_images()\n",
    "train_labels = mnist.train_labels()"
   ]
  },
  {
   "cell_type": "code",
   "execution_count": 6,
   "id": "dceab3a5",
   "metadata": {
    "execution": {
     "iopub.execute_input": "2022-05-19T20:09:53.829813Z",
     "iopub.status.busy": "2022-05-19T20:09:53.829240Z",
     "iopub.status.idle": "2022-05-19T20:09:53.843743Z",
     "shell.execute_reply": "2022-05-19T20:09:53.844212Z"
    },
    "papermill": {
     "duration": 0.042945,
     "end_time": "2022-05-19T20:09:53.844330",
     "exception": false,
     "start_time": "2022-05-19T20:09:53.801385",
     "status": "completed"
    },
    "tags": []
   },
   "outputs": [
    {
     "data": {
      "text/plain": [
       "((60000, 28, 28), (60000,))"
      ]
     },
     "execution_count": 6,
     "metadata": {},
     "output_type": "execute_result"
    }
   ],
   "source": [
    "train_images.shape, train_labels.shape"
   ]
  },
  {
   "cell_type": "code",
   "execution_count": 7,
   "id": "f50dc2bb",
   "metadata": {
    "execution": {
     "iopub.execute_input": "2022-05-19T20:09:53.912784Z",
     "iopub.status.busy": "2022-05-19T20:09:53.911256Z",
     "iopub.status.idle": "2022-05-19T20:09:54.063046Z",
     "shell.execute_reply": "2022-05-19T20:09:54.062454Z"
    },
    "papermill": {
     "duration": 0.193646,
     "end_time": "2022-05-19T20:09:54.063192",
     "exception": false,
     "start_time": "2022-05-19T20:09:53.869546",
     "status": "completed"
    },
    "tags": []
   },
   "outputs": [],
   "source": [
    "test_images = mnist.test_images()\n",
    "test_labels = mnist.test_labels()"
   ]
  },
  {
   "cell_type": "code",
   "execution_count": 8,
   "id": "fc38cf1b",
   "metadata": {
    "execution": {
     "iopub.execute_input": "2022-05-19T20:09:54.131961Z",
     "iopub.status.busy": "2022-05-19T20:09:54.131375Z",
     "iopub.status.idle": "2022-05-19T20:09:54.139023Z",
     "shell.execute_reply": "2022-05-19T20:09:54.139476Z"
    },
    "papermill": {
     "duration": 0.050601,
     "end_time": "2022-05-19T20:09:54.139614",
     "exception": false,
     "start_time": "2022-05-19T20:09:54.089013",
     "status": "completed"
    },
    "tags": []
   },
   "outputs": [
    {
     "data": {
      "text/plain": [
       "((10000, 28, 28), (10000,))"
      ]
     },
     "execution_count": 8,
     "metadata": {},
     "output_type": "execute_result"
    }
   ],
   "source": [
    "test_images.shape, test_labels.shape"
   ]
  },
  {
   "cell_type": "code",
   "execution_count": 9,
   "id": "f9ed8fe0",
   "metadata": {
    "execution": {
     "iopub.execute_input": "2022-05-19T20:09:54.195183Z",
     "iopub.status.busy": "2022-05-19T20:09:54.193785Z",
     "iopub.status.idle": "2022-05-19T20:09:54.332536Z",
     "shell.execute_reply": "2022-05-19T20:09:54.333050Z"
    },
    "papermill": {
     "duration": 0.16809,
     "end_time": "2022-05-19T20:09:54.333207",
     "exception": false,
     "start_time": "2022-05-19T20:09:54.165117",
     "status": "completed"
    },
    "tags": []
   },
   "outputs": [
    {
     "name": "stdout",
     "output_type": "stream",
     "text": [
      "2\n"
     ]
    },
    {
     "data": {
      "text/plain": [
       "<matplotlib.image.AxesImage at 0x7f0e6ef29eb8>"
      ]
     },
     "execution_count": 9,
     "metadata": {},
     "output_type": "execute_result"
    },
    {
     "data": {
      "image/png": "[encoded data removed]",
      "text/plain": [
       "<Figure size 432x288 with 1 Axes>"
      ]
     },
     "metadata": {
      "needs_background": "light"
     },
     "output_type": "display_data"
    }
   ],
   "source": [
    "image_index = 7776 # You may select anything up to 60,000\n",
    "print(train_labels[image_index]) \n",
    "plt.imshow(train_images[image_index], cmap='Greys')"
   ]
  },
  {
   "cell_type": "markdown",
   "id": "a8d2388d",
   "metadata": {
    "papermill": {
     "duration": 0.027079,
     "end_time": "2022-05-19T20:09:54.387473",
     "exception": false,
     "start_time": "2022-05-19T20:09:54.360394",
     "status": "completed"
    },
    "tags": []
   },
   "source": [
    "## Filter data to get 3 and 8 out"
   ]
  },
  {
   "cell_type": "code",
   "execution_count": 10,
   "id": "776f7fc7",
   "metadata": {
    "execution": {
     "iopub.execute_input": "2022-05-19T20:09:54.444946Z",
     "iopub.status.busy": "2022-05-19T20:09:54.444370Z",
     "iopub.status.idle": "2022-05-19T20:09:54.464426Z",
     "shell.execute_reply": "2022-05-19T20:09:54.463942Z"
    },
    "papermill": {
     "duration": 0.050446,
     "end_time": "2022-05-19T20:09:54.464537",
     "exception": false,
     "start_time": "2022-05-19T20:09:54.414091",
     "status": "completed"
    },
    "tags": []
   },
   "outputs": [],
   "source": [
    "train_filter = np.where((train_labels == 3 ) | (train_labels == 8))\n",
    "test_filter = np.where((test_labels == 3) | (test_labels == 8))\n",
    "X_train, y_train = train_images[train_filter], train_labels[train_filter]\n",
    "X_test, y_test = test_images[test_filter], test_labels[test_filter]"
   ]
  },
  {
   "cell_type": "markdown",
   "id": "948f0b7e",
   "metadata": {
    "papermill": {
     "duration": 0.026512,
     "end_time": "2022-05-19T20:09:54.517808",
     "exception": false,
     "start_time": "2022-05-19T20:09:54.491296",
     "status": "completed"
    },
    "tags": []
   },
   "source": [
    "We normalize the pizel values in the 0 to 1 range"
   ]
  },
  {
   "cell_type": "code",
   "execution_count": 11,
   "id": "ee4c2166",
   "metadata": {
    "execution": {
     "iopub.execute_input": "2022-05-19T20:09:54.574526Z",
     "iopub.status.busy": "2022-05-19T20:09:54.573929Z",
     "iopub.status.idle": "2022-05-19T20:09:54.623276Z",
     "shell.execute_reply": "2022-05-19T20:09:54.622664Z"
    },
    "papermill": {
     "duration": 0.079233,
     "end_time": "2022-05-19T20:09:54.623412",
     "exception": false,
     "start_time": "2022-05-19T20:09:54.544179",
     "status": "completed"
    },
    "tags": []
   },
   "outputs": [],
   "source": [
    "X_train = X_train/255.\n",
    "X_test = X_test/255."
   ]
  },
  {
   "cell_type": "markdown",
   "id": "ddcf4fab",
   "metadata": {
    "papermill": {
     "duration": 0.026883,
     "end_time": "2022-05-19T20:09:54.678536",
     "exception": false,
     "start_time": "2022-05-19T20:09:54.651653",
     "status": "completed"
    },
    "tags": []
   },
   "source": [
    "And setup the labels as 1 (when the digit is 3) and 0 (when the digit is 8)"
   ]
  },
  {
   "cell_type": "code",
   "execution_count": 12,
   "id": "7dc908f2",
   "metadata": {
    "execution": {
     "iopub.execute_input": "2022-05-19T20:09:54.739822Z",
     "iopub.status.busy": "2022-05-19T20:09:54.739248Z",
     "iopub.status.idle": "2022-05-19T20:09:54.750086Z",
     "shell.execute_reply": "2022-05-19T20:09:54.749620Z"
    },
    "papermill": {
     "duration": 0.04503,
     "end_time": "2022-05-19T20:09:54.750196",
     "exception": false,
     "start_time": "2022-05-19T20:09:54.705166",
     "status": "completed"
    },
    "tags": []
   },
   "outputs": [],
   "source": [
    "y_train = 1*(y_train==3)\n",
    "y_test = 1*(y_test==3)"
   ]
  },
  {
   "cell_type": "code",
   "execution_count": 13,
   "id": "01e4e969",
   "metadata": {
    "execution": {
     "iopub.execute_input": "2022-05-19T20:09:54.811702Z",
     "iopub.status.busy": "2022-05-19T20:09:54.811149Z",
     "iopub.status.idle": "2022-05-19T20:09:54.822178Z",
     "shell.execute_reply": "2022-05-19T20:09:54.821716Z"
    },
    "papermill": {
     "duration": 0.045517,
     "end_time": "2022-05-19T20:09:54.822283",
     "exception": false,
     "start_time": "2022-05-19T20:09:54.776766",
     "status": "completed"
    },
    "tags": []
   },
   "outputs": [
    {
     "data": {
      "text/plain": [
       "((11982, 28, 28), (1984, 28, 28))"
      ]
     },
     "execution_count": 13,
     "metadata": {},
     "output_type": "execute_result"
    }
   ],
   "source": [
    "X_train.shape, X_test.shape"
   ]
  },
  {
   "cell_type": "markdown",
   "id": "5ccf3f85",
   "metadata": {
    "papermill": {
     "duration": 0.026676,
     "end_time": "2022-05-19T20:09:54.875717",
     "exception": false,
     "start_time": "2022-05-19T20:09:54.849041",
     "status": "completed"
    },
    "tags": []
   },
   "source": [
    "We reshape the data to flatten the image pixels into a set of features or co-variates:"
   ]
  },
  {
   "cell_type": "code",
   "execution_count": 14,
   "id": "5286a4a3",
   "metadata": {
    "execution": {
     "iopub.execute_input": "2022-05-19T20:09:54.933382Z",
     "iopub.status.busy": "2022-05-19T20:09:54.932826Z",
     "iopub.status.idle": "2022-05-19T20:09:54.947307Z",
     "shell.execute_reply": "2022-05-19T20:09:54.946837Z"
    },
    "papermill": {
     "duration": 0.044555,
     "end_time": "2022-05-19T20:09:54.947414",
     "exception": false,
     "start_time": "2022-05-19T20:09:54.902859",
     "status": "completed"
    },
    "tags": []
   },
   "outputs": [
    {
     "data": {
      "text/plain": [
       "((11982, 784), (1984, 784))"
      ]
     },
     "execution_count": 14,
     "metadata": {},
     "output_type": "execute_result"
    }
   ],
   "source": [
    "X_train = X_train.reshape(X_train.shape[0], -1)\n",
    "X_test = X_test.reshape(X_test.shape[0], -1)\n",
    "X_train.shape, X_test.shape"
   ]
  },
  {
   "cell_type": "code",
   "execution_count": 15,
   "id": "73c5f88a",
   "metadata": {
    "execution": {
     "iopub.execute_input": "2022-05-19T20:09:55.005306Z",
     "iopub.status.busy": "2022-05-19T20:09:55.004749Z",
     "iopub.status.idle": "2022-05-19T20:09:55.023141Z",
     "shell.execute_reply": "2022-05-19T20:09:55.023582Z"
    },
    "papermill": {
     "duration": 0.049401,
     "end_time": "2022-05-19T20:09:55.023702",
     "exception": false,
     "start_time": "2022-05-19T20:09:54.974301",
     "status": "completed"
    },
    "tags": []
   },
   "outputs": [],
   "source": [
    "#Impoting functions from 'Kudzu'\n",
    "from kudzu.model import Model\n",
    "from kudzu.train import Learner\n",
    "from kudzu.optim import GD\n",
    "from kudzu.data import Data, Sampler,Dataloader\n",
    "\n",
    "from kudzu.callbacks import AccCallback\n",
    "from kudzu.callbacks import ClfCallback\n",
    "\n",
    "from kudzu.loss import MSE\n",
    "\n",
    "from kudzu.layer import Sigmoid,Relu\n",
    "from kudzu.layer import Affine"
   ]
  },
  {
   "cell_type": "markdown",
   "id": "bc01172a",
   "metadata": {
    "papermill": {
     "duration": 0.026743,
     "end_time": "2022-05-19T20:09:55.077424",
     "exception": false,
     "start_time": "2022-05-19T20:09:55.050681",
     "status": "completed"
    },
    "tags": []
   },
   "source": [
    "### Let us create a `Config` class, to store important parameters. \n",
    "This class essentially plays the role of a dictionary."
   ]
  },
  {
   "cell_type": "code",
   "execution_count": 16,
   "id": "978281aa",
   "metadata": {
    "execution": {
     "iopub.execute_input": "2022-05-19T20:09:55.134562Z",
     "iopub.status.busy": "2022-05-19T20:09:55.133929Z",
     "iopub.status.idle": "2022-05-19T20:09:55.147398Z",
     "shell.execute_reply": "2022-05-19T20:09:55.146923Z"
    },
    "papermill": {
     "duration": 0.043136,
     "end_time": "2022-05-19T20:09:55.147509",
     "exception": false,
     "start_time": "2022-05-19T20:09:55.104373",
     "status": "completed"
    },
    "tags": []
   },
   "outputs": [],
   "source": [
    "class Config:\n",
    "    pass\n",
    "config = Config()\n",
    "config.lr = 0.001\n",
    "config.num_epochs = 250\n",
    "config.bs = 50"
   ]
  },
  {
   "cell_type": "markdown",
   "id": "1385fa59",
   "metadata": {
    "papermill": {
     "duration": 0.027255,
     "end_time": "2022-05-19T20:09:55.201925",
     "exception": false,
     "start_time": "2022-05-19T20:09:55.174670",
     "status": "completed"
    },
    "tags": []
   },
   "source": [
    "### Running Models with the Training data\n",
    "Details about the network layers:\n",
    "- A first affine layer has 784 inputs and does 100 affine transforms. These are followed by a Relu\n",
    "- A second affine layer has 100 inputs from the 100 activations of the past layer, and does 100 affine transforms. These are followed by a Relu\n",
    "- A third affine layer has 100 activations and does 2 affine transformations to create an embedding for visualization. There is no non-linearity here.\n",
    "- A final \"logistic regression\" which has an affine transform from 2 inputs to 1 output, which is squeezed through a sigmoid.\n"
   ]
  },
  {
   "cell_type": "code",
   "execution_count": 17,
   "id": "2b9c66db",
   "metadata": {
    "execution": {
     "iopub.execute_input": "2022-05-19T20:09:55.259973Z",
     "iopub.status.busy": "2022-05-19T20:09:55.259408Z",
     "iopub.status.idle": "2022-05-19T20:09:55.272657Z",
     "shell.execute_reply": "2022-05-19T20:09:55.272009Z"
    },
    "papermill": {
     "duration": 0.043837,
     "end_time": "2022-05-19T20:09:55.272775",
     "exception": false,
     "start_time": "2022-05-19T20:09:55.228938",
     "status": "completed"
    },
    "tags": []
   },
   "outputs": [],
   "source": [
    "data = Data(X_train, y_train.reshape(-1,1))\n",
    "sampler = Sampler(data, config.bs, shuffle=True)\n",
    "\n",
    "dl = Dataloader(data, sampler)\n",
    "\n",
    "opt = GD(config.lr)\n",
    "loss = MSE()"
   ]
  },
  {
   "cell_type": "code",
   "execution_count": 18,
   "id": "b275e4c2",
   "metadata": {
    "execution": {
     "iopub.execute_input": "2022-05-19T20:09:55.331266Z",
     "iopub.status.busy": "2022-05-19T20:09:55.330701Z",
     "iopub.status.idle": "2022-05-19T20:09:55.343036Z",
     "shell.execute_reply": "2022-05-19T20:09:55.343499Z"
    },
    "papermill": {
     "duration": 0.042733,
     "end_time": "2022-05-19T20:09:55.343624",
     "exception": false,
     "start_time": "2022-05-19T20:09:55.300891",
     "status": "completed"
    },
    "tags": []
   },
   "outputs": [],
   "source": [
    "training_data_x = X_train\n",
    "testing_data_x = X_test\n",
    "training_data_y = y_train.reshape(-1,1)\n",
    "testing_data_y = y_test.reshape(-1,1)"
   ]
  },
  {
   "cell_type": "code",
   "execution_count": 19,
   "id": "76951160",
   "metadata": {
    "execution": {
     "iopub.execute_input": "2022-05-19T20:09:55.402942Z",
     "iopub.status.busy": "2022-05-19T20:09:55.402352Z",
     "iopub.status.idle": "2022-05-19T20:09:55.418090Z",
     "shell.execute_reply": "2022-05-19T20:09:55.417530Z"
    },
    "papermill": {
     "duration": 0.047178,
     "end_time": "2022-05-19T20:09:55.418193",
     "exception": false,
     "start_time": "2022-05-19T20:09:55.371015",
     "status": "completed"
    },
    "tags": []
   },
   "outputs": [
    {
     "name": "stdout",
     "output_type": "stream",
     "text": [
      "xavier\n",
      "xavier\n",
      "xavier\n",
      "xavier\n",
      "xavier\n"
     ]
    }
   ],
   "source": [
    "layers = [Affine(\"first\", 784, 100), Relu(\"first\"), Affine(\"second\", 100, 100), Relu(\"second\"), Affine(\"third\", 100, 2), Affine(\"last\", 2, 1), Sigmoid(\"last\")]\n",
    "model_nn = Model(layers)\n",
    "model_lr = Model([Affine(\"logits\", 784, 1), Sigmoid(\"sigmoid\")])"
   ]
  },
  {
   "cell_type": "code",
   "execution_count": 20,
   "id": "6eede77a",
   "metadata": {
    "execution": {
     "iopub.execute_input": "2022-05-19T20:09:55.476471Z",
     "iopub.status.busy": "2022-05-19T20:09:55.475920Z",
     "iopub.status.idle": "2022-05-19T20:09:55.489042Z",
     "shell.execute_reply": "2022-05-19T20:09:55.488581Z"
    },
    "papermill": {
     "duration": 0.043553,
     "end_time": "2022-05-19T20:09:55.489142",
     "exception": false,
     "start_time": "2022-05-19T20:09:55.445589",
     "status": "completed"
    },
    "tags": []
   },
   "outputs": [],
   "source": [
    "nn_learner = Learner(loss, model_nn, opt, config.num_epochs)\n",
    "acc_nn = ClfCallback(nn_learner, config.bs, training_data_x , testing_data_x, training_data_y, testing_data_y)\n",
    "nn_learner.set_callbacks([acc_nn])"
   ]
  },
  {
   "cell_type": "code",
   "execution_count": 21,
   "id": "877b6cc7",
   "metadata": {
    "execution": {
     "iopub.execute_input": "2022-05-19T20:09:55.546823Z",
     "iopub.status.busy": "2022-05-19T20:09:55.546219Z",
     "iopub.status.idle": "2022-05-19T20:09:55.559340Z",
     "shell.execute_reply": "2022-05-19T20:09:55.559802Z"
    },
    "papermill": {
     "duration": 0.04369,
     "end_time": "2022-05-19T20:09:55.559913",
     "exception": false,
     "start_time": "2022-05-19T20:09:55.516223",
     "status": "completed"
    },
    "tags": []
   },
   "outputs": [],
   "source": [
    "lr_learner = Learner(loss, model_lr, opt, config.num_epochs)\n",
    "acc_lr = ClfCallback(lr_learner, config.bs, training_data_x , testing_data_x, training_data_y, testing_data_y)\n",
    "lr_learner.set_callbacks([acc_lr])"
   ]
  },
  {
   "cell_type": "code",
   "execution_count": 22,
   "id": "d9b133c3",
   "metadata": {
    "execution": {
     "iopub.execute_input": "2022-05-19T20:09:55.617545Z",
     "iopub.status.busy": "2022-05-19T20:09:55.616990Z",
     "iopub.status.idle": "2022-05-19T20:11:10.837639Z",
     "shell.execute_reply": "2022-05-19T20:11:10.838517Z"
    },
    "papermill": {
     "duration": 75.251509,
     "end_time": "2022-05-19T20:11:10.838681",
     "exception": false,
     "start_time": "2022-05-19T20:09:55.587172",
     "status": "completed"
    },
    "tags": []
   },
   "outputs": [
    {
     "name": "stdout",
     "output_type": "stream",
     "text": [
      "Epoch 0, Loss 0.2533\n",
      "Training Accuracy: 0.4221, Testing Accuracy: 0.4183\n",
      "\n"
     ]
    },
    {
     "name": "stdout",
     "output_type": "stream",
     "text": [
      "Epoch 10, Loss 0.2346\n",
      "Training Accuracy: 0.7894, Testing Accuracy: 0.7742\n",
      "\n"
     ]
    },
    {
     "name": "stdout",
     "output_type": "stream",
     "text": [
      "Epoch 20, Loss 0.1647\n",
      "Training Accuracy: 0.8982, Testing Accuracy: 0.9047\n",
      "\n"
     ]
    },
    {
     "name": "stdout",
     "output_type": "stream",
     "text": [
      "Epoch 30, Loss 0.0783\n",
      "Training Accuracy: 0.9320, Testing Accuracy: 0.9355\n",
      "\n"
     ]
    },
    {
     "name": "stdout",
     "output_type": "stream",
     "text": [
      "Epoch 40, Loss 0.053\n",
      "Training Accuracy: 0.9458, Testing Accuracy: 0.9521\n",
      "\n"
     ]
    },
    {
     "name": "stdout",
     "output_type": "stream",
     "text": [
      "Epoch 50, Loss 0.0433\n",
      "Training Accuracy: 0.9525, Testing Accuracy: 0.9597\n",
      "\n"
     ]
    },
    {
     "name": "stdout",
     "output_type": "stream",
     "text": [
      "Epoch 60, Loss 0.0382\n",
      "Training Accuracy: 0.9564, Testing Accuracy: 0.9632\n",
      "\n"
     ]
    },
    {
     "name": "stdout",
     "output_type": "stream",
     "text": [
      "Epoch 70, Loss 0.0351\n",
      "Training Accuracy: 0.9591, Testing Accuracy: 0.9662\n",
      "\n"
     ]
    },
    {
     "name": "stdout",
     "output_type": "stream",
     "text": [
      "Epoch 80, Loss 0.0329\n",
      "Training Accuracy: 0.9611, Testing Accuracy: 0.9657\n",
      "\n"
     ]
    },
    {
     "name": "stdout",
     "output_type": "stream",
     "text": [
      "Epoch 90, Loss 0.0313\n",
      "Training Accuracy: 0.9638, Testing Accuracy: 0.9652\n",
      "\n"
     ]
    },
    {
     "name": "stdout",
     "output_type": "stream",
     "text": [
      "Epoch 100, Loss 0.03\n",
      "Training Accuracy: 0.9645, Testing Accuracy: 0.9657\n",
      "\n"
     ]
    },
    {
     "name": "stdout",
     "output_type": "stream",
     "text": [
      "Epoch 110, Loss 0.0289\n",
      "Training Accuracy: 0.9660, Testing Accuracy: 0.9672\n",
      "\n"
     ]
    },
    {
     "name": "stdout",
     "output_type": "stream",
     "text": [
      "Epoch 120, Loss 0.0279\n",
      "Training Accuracy: 0.9672, Testing Accuracy: 0.9677\n",
      "\n"
     ]
    },
    {
     "name": "stdout",
     "output_type": "stream",
     "text": [
      "Epoch 130, Loss 0.0271\n",
      "Training Accuracy: 0.9680, Testing Accuracy: 0.9677\n",
      "\n"
     ]
    },
    {
     "name": "stdout",
     "output_type": "stream",
     "text": [
      "Epoch 140, Loss 0.0264\n",
      "Training Accuracy: 0.9688, Testing Accuracy: 0.9677\n",
      "\n"
     ]
    },
    {
     "name": "stdout",
     "output_type": "stream",
     "text": [
      "Epoch 150, Loss 0.0257\n",
      "Training Accuracy: 0.9693, Testing Accuracy: 0.9672\n",
      "\n"
     ]
    },
    {
     "name": "stdout",
     "output_type": "stream",
     "text": [
      "Epoch 160, Loss 0.0252\n",
      "Training Accuracy: 0.9700, Testing Accuracy: 0.9672\n",
      "\n"
     ]
    },
    {
     "name": "stdout",
     "output_type": "stream",
     "text": [
      "Epoch 170, Loss 0.0246\n",
      "Training Accuracy: 0.9710, Testing Accuracy: 0.9677\n",
      "\n"
     ]
    },
    {
     "name": "stdout",
     "output_type": "stream",
     "text": [
      "Epoch 180, Loss 0.0241\n",
      "Training Accuracy: 0.9714, Testing Accuracy: 0.9677\n",
      "\n"
     ]
    },
    {
     "name": "stdout",
     "output_type": "stream",
     "text": [
      "Epoch 190, Loss 0.0236\n",
      "Training Accuracy: 0.9718, Testing Accuracy: 0.9677\n",
      "\n"
     ]
    },
    {
     "name": "stdout",
     "output_type": "stream",
     "text": [
      "Epoch 200, Loss 0.0232\n",
      "Training Accuracy: 0.9721, Testing Accuracy: 0.9682\n",
      "\n"
     ]
    },
    {
     "name": "stdout",
     "output_type": "stream",
     "text": [
      "Epoch 210, Loss 0.0227\n",
      "Training Accuracy: 0.9729, Testing Accuracy: 0.9688\n",
      "\n"
     ]
    },
    {
     "name": "stdout",
     "output_type": "stream",
     "text": [
      "Epoch 220, Loss 0.0223\n",
      "Training Accuracy: 0.9736, Testing Accuracy: 0.9698\n",
      "\n"
     ]
    },
    {
     "name": "stdout",
     "output_type": "stream",
     "text": [
      "Epoch 230, Loss 0.0219\n",
      "Training Accuracy: 0.9745, Testing Accuracy: 0.9693\n",
      "\n"
     ]
    },
    {
     "name": "stdout",
     "output_type": "stream",
     "text": [
      "Epoch 240, Loss 0.0215\n",
      "Training Accuracy: 0.9750, Testing Accuracy: 0.9703\n",
      "\n"
     ]
    },
    {
     "data": {
      "text/plain": [
       "0.025978924038010963"
      ]
     },
     "execution_count": 22,
     "metadata": {},
     "output_type": "execute_result"
    }
   ],
   "source": [
    "nn_learner.train_loop(dl)"
   ]
  },
  {
   "cell_type": "code",
   "execution_count": 23,
   "id": "e0163366",
   "metadata": {
    "execution": {
     "iopub.execute_input": "2022-05-19T20:11:10.921854Z",
     "iopub.status.busy": "2022-05-19T20:11:10.921278Z",
     "iopub.status.idle": "2022-05-19T20:11:24.462525Z",
     "shell.execute_reply": "2022-05-19T20:11:24.463371Z"
    },
    "papermill": {
     "duration": 13.589258,
     "end_time": "2022-05-19T20:11:24.463533",
     "exception": false,
     "start_time": "2022-05-19T20:11:10.874275",
     "status": "completed"
    },
    "tags": []
   },
   "outputs": [
    {
     "name": "stdout",
     "output_type": "stream",
     "text": [
      "Epoch 0, Loss 0.2551\n",
      "Training Accuracy: 0.6363, Testing Accuracy: 0.6472\n",
      "\n"
     ]
    },
    {
     "name": "stdout",
     "output_type": "stream",
     "text": [
      "Epoch 10, Loss 0.1055\n",
      "Training Accuracy: 0.9019, Testing Accuracy: 0.9103\n",
      "\n"
     ]
    },
    {
     "name": "stdout",
     "output_type": "stream",
     "text": [
      "Epoch 20, Loss 0.0813\n",
      "Training Accuracy: 0.9236, Testing Accuracy: 0.9335\n",
      "\n"
     ]
    },
    {
     "name": "stdout",
     "output_type": "stream",
     "text": [
      "Epoch 30, Loss 0.0699\n",
      "Training Accuracy: 0.9321, Testing Accuracy: 0.9405\n",
      "\n"
     ]
    },
    {
     "name": "stdout",
     "output_type": "stream",
     "text": [
      "Epoch 40, Loss 0.0631\n",
      "Training Accuracy: 0.9382, Testing Accuracy: 0.9461\n",
      "\n"
     ]
    },
    {
     "name": "stdout",
     "output_type": "stream",
     "text": [
      "Epoch 50, Loss 0.0584\n",
      "Training Accuracy: 0.9418, Testing Accuracy: 0.9501\n",
      "\n"
     ]
    },
    {
     "name": "stdout",
     "output_type": "stream",
     "text": [
      "Epoch 60, Loss 0.0549\n",
      "Training Accuracy: 0.9450, Testing Accuracy: 0.9531\n",
      "\n"
     ]
    },
    {
     "name": "stdout",
     "output_type": "stream",
     "text": [
      "Epoch 70, Loss 0.0523\n",
      "Training Accuracy: 0.9468, Testing Accuracy: 0.9551\n",
      "\n"
     ]
    },
    {
     "name": "stdout",
     "output_type": "stream",
     "text": [
      "Epoch 80, Loss 0.0501\n",
      "Training Accuracy: 0.9488, Testing Accuracy: 0.9567\n",
      "\n"
     ]
    },
    {
     "name": "stdout",
     "output_type": "stream",
     "text": [
      "Epoch 90, Loss 0.0484\n",
      "Training Accuracy: 0.9506, Testing Accuracy: 0.9587\n",
      "\n"
     ]
    },
    {
     "name": "stdout",
     "output_type": "stream",
     "text": [
      "Epoch 100, Loss 0.0469\n",
      "Training Accuracy: 0.9518, Testing Accuracy: 0.9617\n",
      "\n"
     ]
    },
    {
     "name": "stdout",
     "output_type": "stream",
     "text": [
      "Epoch 110, Loss 0.0456\n",
      "Training Accuracy: 0.9531, Testing Accuracy: 0.9617\n",
      "\n"
     ]
    },
    {
     "name": "stdout",
     "output_type": "stream",
     "text": [
      "Epoch 120, Loss 0.0445\n",
      "Training Accuracy: 0.9543, Testing Accuracy: 0.9632\n",
      "\n"
     ]
    },
    {
     "name": "stdout",
     "output_type": "stream",
     "text": [
      "Epoch 130, Loss 0.0436\n",
      "Training Accuracy: 0.9549, Testing Accuracy: 0.9632\n",
      "\n"
     ]
    },
    {
     "name": "stdout",
     "output_type": "stream",
     "text": [
      "Epoch 140, Loss 0.0427\n",
      "Training Accuracy: 0.9556, Testing Accuracy: 0.9632\n",
      "\n"
     ]
    },
    {
     "name": "stdout",
     "output_type": "stream",
     "text": [
      "Epoch 150, Loss 0.042\n",
      "Training Accuracy: 0.9561, Testing Accuracy: 0.9642\n",
      "\n"
     ]
    },
    {
     "name": "stdout",
     "output_type": "stream",
     "text": [
      "Epoch 160, Loss 0.0413\n",
      "Training Accuracy: 0.9564, Testing Accuracy: 0.9637\n",
      "\n"
     ]
    },
    {
     "name": "stdout",
     "output_type": "stream",
     "text": [
      "Epoch 170, Loss 0.0406\n",
      "Training Accuracy: 0.9570, Testing Accuracy: 0.9637\n",
      "\n"
     ]
    },
    {
     "name": "stdout",
     "output_type": "stream",
     "text": [
      "Epoch 180, Loss 0.04\n",
      "Training Accuracy: 0.9578, Testing Accuracy: 0.9632\n",
      "\n"
     ]
    },
    {
     "name": "stdout",
     "output_type": "stream",
     "text": [
      "Epoch 190, Loss 0.0395\n",
      "Training Accuracy: 0.9586, Testing Accuracy: 0.9632\n",
      "\n"
     ]
    },
    {
     "name": "stdout",
     "output_type": "stream",
     "text": [
      "Epoch 200, Loss 0.039\n",
      "Training Accuracy: 0.9594, Testing Accuracy: 0.9627\n",
      "\n"
     ]
    },
    {
     "name": "stdout",
     "output_type": "stream",
     "text": [
      "Epoch 210, Loss 0.0386\n",
      "Training Accuracy: 0.9597, Testing Accuracy: 0.9637\n",
      "\n"
     ]
    },
    {
     "name": "stdout",
     "output_type": "stream",
     "text": [
      "Epoch 220, Loss 0.0381\n",
      "Training Accuracy: 0.9599, Testing Accuracy: 0.9627\n",
      "\n"
     ]
    },
    {
     "name": "stdout",
     "output_type": "stream",
     "text": [
      "Epoch 230, Loss 0.0377\n",
      "Training Accuracy: 0.9602, Testing Accuracy: 0.9632\n",
      "\n"
     ]
    },
    {
     "name": "stdout",
     "output_type": "stream",
     "text": [
      "Epoch 240, Loss 0.0374\n",
      "Training Accuracy: 0.9609, Testing Accuracy: 0.9642\n",
      "\n"
     ]
    },
    {
     "data": {
      "text/plain": [
       "0.06041934093511775"
      ]
     },
     "execution_count": 23,
     "metadata": {},
     "output_type": "execute_result"
    }
   ],
   "source": [
    "lr_learner.train_loop(dl)"
   ]
  },
  {
   "cell_type": "code",
   "execution_count": 24,
   "id": "ca410940",
   "metadata": {
    "execution": {
     "iopub.execute_input": "2022-05-19T20:11:24.555462Z",
     "iopub.status.busy": "2022-05-19T20:11:24.554865Z",
     "iopub.status.idle": "2022-05-19T20:11:24.786093Z",
     "shell.execute_reply": "2022-05-19T20:11:24.785282Z"
    },
    "papermill": {
     "duration": 0.280598,
     "end_time": "2022-05-19T20:11:24.786224",
     "exception": false,
     "start_time": "2022-05-19T20:11:24.505626",
     "status": "completed"
    },
    "tags": []
   },
   "outputs": [
    {
     "data": {
      "text/plain": [
       "<matplotlib.legend.Legend at 0x7f0e6ea9a4e0>"
      ]
     },
     "execution_count": 24,
     "metadata": {},
     "output_type": "execute_result"
    },
    {
     "data": {
      "image/png": "[encoded data removed]",
      "text/plain": [
       "<Figure size 1080x720 with 1 Axes>"
      ]
     },
     "metadata": {
      "needs_background": "light"
     },
     "output_type": "display_data"
    }
   ],
   "source": [
    "#comparing the results of NN and LR\n",
    "plt.figure(figsize=(15,10))\n",
    "\n",
    "# Neural Network plots\n",
    "plt.plot(acc_nn.accuracies, 'r-', label = \"Training Accuracies - NN\")\n",
    "plt.plot(acc_nn.test_accuracies, 'g-', label = \"Testing Accuracies - NN\")\n",
    "\n",
    "# Logistic Regression plots\n",
    "plt.plot(acc_lr.accuracies, 'k-', label = \"Training Accuracies - LR\")\n",
    "plt.plot(acc_lr.test_accuracies, 'b-', label = \"Testing Accuracies - LR\")\n",
    "plt.legend()"
   ]
  },
  {
   "cell_type": "markdown",
   "id": "80dfb35c",
   "metadata": {
    "papermill": {
     "duration": 0.042136,
     "end_time": "2022-05-19T20:11:24.871051",
     "exception": false,
     "start_time": "2022-05-19T20:11:24.828915",
     "status": "completed"
    },
    "tags": []
   },
   "source": [
    "#### Plotting the outputs of this layer of the NN.\n"
   ]
  },
  {
   "cell_type": "code",
   "execution_count": 25,
   "id": "45eb2ff5",
   "metadata": {
    "execution": {
     "iopub.execute_input": "2022-05-19T20:11:24.960399Z",
     "iopub.status.busy": "2022-05-19T20:11:24.959798Z",
     "iopub.status.idle": "2022-05-19T20:11:24.980751Z",
     "shell.execute_reply": "2022-05-19T20:11:24.980261Z"
    },
    "papermill": {
     "duration": 0.06766,
     "end_time": "2022-05-19T20:11:24.980867",
     "exception": false,
     "start_time": "2022-05-19T20:11:24.913207",
     "status": "completed"
    },
    "tags": []
   },
   "outputs": [],
   "source": [
    "new_model = Model(layers[:-2])\n",
    "testing_plot = new_model(testing_data_x)"
   ]
  },
  {
   "cell_type": "code",
   "execution_count": 26,
   "id": "4c0a5485",
   "metadata": {
    "execution": {
     "iopub.execute_input": "2022-05-19T20:11:25.071627Z",
     "iopub.status.busy": "2022-05-19T20:11:25.071046Z",
     "iopub.status.idle": "2022-05-19T20:11:25.259800Z",
     "shell.execute_reply": "2022-05-19T20:11:25.259286Z"
    },
    "papermill": {
     "duration": 0.235106,
     "end_time": "2022-05-19T20:11:25.259924",
     "exception": false,
     "start_time": "2022-05-19T20:11:25.024818",
     "status": "completed"
    },
    "tags": []
   },
   "outputs": [
    {
     "data": {
      "text/plain": [
       "Text(0.5, 1.0, 'Outputs')"
      ]
     },
     "execution_count": 26,
     "metadata": {},
     "output_type": "execute_result"
    },
    {
     "data": {
      "image/png": "[encoded data removed]",
      "text/plain": [
       "<Figure size 576x504 with 1 Axes>"
      ]
     },
     "metadata": {
      "needs_background": "light"
     },
     "output_type": "display_data"
    }
   ],
   "source": [
    "# Plotting the scatter plot of points and color coding by class\n",
    "plt.figure(figsize=(8,7))\n",
    "plt.scatter(testing_plot[:,0], testing_plot[:,1], alpha = 0.1, c = y_test.ravel());\n",
    "plt.title('Outputs')"
   ]
  },
  {
   "cell_type": "markdown",
   "id": "a74fcf8f",
   "metadata": {
    "papermill": {
     "duration": 0.044181,
     "end_time": "2022-05-19T20:11:25.349613",
     "exception": false,
     "start_time": "2022-05-19T20:11:25.305432",
     "status": "completed"
    },
    "tags": []
   },
   "source": [
    "Probability contours"
   ]
  },
  {
   "cell_type": "code",
   "execution_count": 27,
   "id": "d0afc8e3",
   "metadata": {
    "execution": {
     "iopub.execute_input": "2022-05-19T20:11:25.471965Z",
     "iopub.status.busy": "2022-05-19T20:11:25.471372Z",
     "iopub.status.idle": "2022-05-19T20:11:25.483322Z",
     "shell.execute_reply": "2022-05-19T20:11:25.483769Z"
    },
    "papermill": {
     "duration": 0.088979,
     "end_time": "2022-05-19T20:11:25.483895",
     "exception": false,
     "start_time": "2022-05-19T20:11:25.394916",
     "status": "completed"
    },
    "tags": []
   },
   "outputs": [],
   "source": [
    "model_prob = Model(layers[-2:]) "
   ]
  },
  {
   "cell_type": "code",
   "execution_count": 28,
   "id": "9b96e238",
   "metadata": {
    "execution": {
     "iopub.execute_input": "2022-05-19T20:11:25.577062Z",
     "iopub.status.busy": "2022-05-19T20:11:25.576479Z",
     "iopub.status.idle": "2022-05-19T20:11:25.597947Z",
     "shell.execute_reply": "2022-05-19T20:11:25.598572Z"
    },
    "papermill": {
     "duration": 0.070623,
     "end_time": "2022-05-19T20:11:25.598712",
     "exception": false,
     "start_time": "2022-05-19T20:11:25.528089",
     "status": "completed"
    },
    "tags": []
   },
   "outputs": [],
   "source": [
    "#creating the x and y ranges according to the above generated plot.\n",
    "x_range = np.linspace(-4, 1, 100) \n",
    "y_range = np.linspace(-6, 6, 100) \n",
    "x_grid, y_grid = np.meshgrid(x_range, y_range) # x_grid and y_grig are of size 100 X 100\n",
    "\n",
    "# converting x_grid and y_grid to continuous arrays\n",
    "x_gridflat = np.ravel(x_grid)\n",
    "y_gridflat = np.ravel(y_grid)\n",
    "\n",
    "# The last layer of the current model takes two columns as input. Hence transpose of np.vstack() is required.\n",
    "X = np.vstack((x_gridflat, y_gridflat)).T\n",
    "\n",
    "prob_contour = model_prob(X).reshape(100,100) "
   ]
  },
  {
   "cell_type": "code",
   "execution_count": 29,
   "id": "da72499a",
   "metadata": {
    "execution": {
     "iopub.execute_input": "2022-05-19T20:11:25.699064Z",
     "iopub.status.busy": "2022-05-19T20:11:25.698077Z",
     "iopub.status.idle": "2022-05-19T20:11:25.939499Z",
     "shell.execute_reply": "2022-05-19T20:11:25.938973Z"
    },
    "papermill": {
     "duration": 0.295526,
     "end_time": "2022-05-19T20:11:25.939627",
     "exception": false,
     "start_time": "2022-05-19T20:11:25.644101",
     "status": "completed"
    },
    "tags": []
   },
   "outputs": [
    {
     "data": {
      "image/png": "[encoded data removed]",
      "text/plain": [
       "<Figure size 720x648 with 1 Axes>"
      ]
     },
     "metadata": {
      "needs_background": "light"
     },
     "output_type": "display_data"
    }
   ],
   "source": [
    "plt.figure(figsize=(10,9))\n",
    "plt.scatter(testing_plot[:,0], testing_plot[:,1], alpha = 0.1, c = y_test.ravel())\n",
    "contours = plt.contour(x_grid,y_grid,prob_contour)\n",
    "plt.title('Probability Contours')\n",
    "plt.clabel(contours, inline = True );"
   ]
  },
  {
   "cell_type": "code",
   "execution_count": null,
   "id": "e81b4ac7",
   "metadata": {
    "papermill": {
     "duration": 0.046591,
     "end_time": "2022-05-19T20:11:26.034007",
     "exception": false,
     "start_time": "2022-05-19T20:11:25.987416",
     "status": "completed"
    },
    "tags": []
   },
   "outputs": [],
   "source": []
  }
 ],
 "metadata": {
  "kernelspec": {
   "display_name": "Python 3",
   "language": "python",
   "name": "python3"
  },
  "language_info": {
   "codemirror_mode": {
    "name": "ipython",
    "version": 3
   },
   "file_extension": ".py",
   "mimetype": "text/x-python",
   "name": "python",
   "nbconvert_exporter": "python",
   "pygments_lexer": "ipython3",
   "version": "3.6.15"
  },
  "papermill": {
   "default_parameters": {},
   "duration": 96.883107,
   "end_time": "2022-05-19T20:11:26.500253",
   "environment_variables": {},
   "exception": null,
   "input_path": "2020-08-11-part2.ipynb",
   "output_path": "2020-08-11-part2.ipynb",
   "parameters": {},
   "start_time": "2022-05-19T20:09:49.617146",
   "version": "2.3.3"
  }
 },
 "nbformat": 4,
 "nbformat_minor": 5
}