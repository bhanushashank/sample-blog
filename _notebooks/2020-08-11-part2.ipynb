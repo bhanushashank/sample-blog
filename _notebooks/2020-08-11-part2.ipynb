{
 "cells": [
  {
   "cell_type": "markdown",
   "id": "98380cd3",
   "metadata": {
    "papermill": {
     "duration": 0.028675,
     "end_time": "2022-04-22T20:09:55.416682",
     "exception": false,
     "start_time": "2022-04-22T20:09:55.388007",
     "status": "completed"
    },
    "tags": []
   },
   "source": [
    "# Distinguish Your Own Digits (DYOD)"
   ]
  },
  {
   "cell_type": "markdown",
   "id": "ef31240d",
   "metadata": {
    "papermill": {
     "duration": 0.02477,
     "end_time": "2022-04-22T20:09:55.465600",
     "exception": false,
     "start_time": "2022-04-22T20:09:55.440830",
     "status": "completed"
    },
    "tags": []
   },
   "source": [
    "You are going to write a classifier that distinguishes between the number 3 and number 8."
   ]
  },
  {
   "cell_type": "code",
   "execution_count": 1,
   "id": "b15c8646",
   "metadata": {
    "execution": {
     "iopub.execute_input": "2022-04-22T20:09:55.524029Z",
     "iopub.status.busy": "2022-04-22T20:09:55.523477Z",
     "iopub.status.idle": "2022-04-22T20:09:55.533778Z",
     "shell.execute_reply": "2022-04-22T20:09:55.533328Z"
    },
    "papermill": {
     "duration": 0.04471,
     "end_time": "2022-04-22T20:09:55.533916",
     "exception": false,
     "start_time": "2022-04-22T20:09:55.489206",
     "status": "completed"
    },
    "tags": []
   },
   "outputs": [],
   "source": [
    "%load_ext autoreload\n",
    "%autoreload 2"
   ]
  },
  {
   "cell_type": "code",
   "execution_count": 2,
   "id": "22ef38dc",
   "metadata": {
    "execution": {
     "iopub.execute_input": "2022-04-22T20:09:55.590239Z",
     "iopub.status.busy": "2022-04-22T20:09:55.589724Z",
     "iopub.status.idle": "2022-04-22T20:09:56.119065Z",
     "shell.execute_reply": "2022-04-22T20:09:56.118526Z"
    },
    "papermill": {
     "duration": 0.561545,
     "end_time": "2022-04-22T20:09:56.119203",
     "exception": false,
     "start_time": "2022-04-22T20:09:55.557658",
     "status": "completed"
    },
    "tags": []
   },
   "outputs": [],
   "source": [
    "%matplotlib inline\n",
    "import numpy as np\n",
    "import matplotlib.pyplot as plt\n",
    "import pandas as pd"
   ]
  },
  {
   "cell_type": "markdown",
   "id": "ba036198",
   "metadata": {
    "papermill": {
     "duration": 0.023551,
     "end_time": "2022-04-22T20:09:56.167398",
     "exception": false,
     "start_time": "2022-04-22T20:09:56.143847",
     "status": "completed"
    },
    "tags": []
   },
   "source": [
    "From the command line run `pip install mnist`. This is a library that will help you bring down the mnist dataset. If you run this from a notebook, you need to put  `!pip install mnist` in a cell by itself."
   ]
  },
  {
   "cell_type": "code",
   "execution_count": 3,
   "id": "bb6ad8a1",
   "metadata": {
    "execution": {
     "iopub.execute_input": "2022-04-22T20:09:56.218712Z",
     "iopub.status.busy": "2022-04-22T20:09:56.218192Z",
     "iopub.status.idle": "2022-04-22T20:09:57.901857Z",
     "shell.execute_reply": "2022-04-22T20:09:57.901332Z"
    },
    "papermill": {
     "duration": 1.710965,
     "end_time": "2022-04-22T20:09:57.901996",
     "exception": false,
     "start_time": "2022-04-22T20:09:56.191031",
     "status": "completed"
    },
    "tags": []
   },
   "outputs": [
    {
     "name": "stdout",
     "output_type": "stream",
     "text": [
      "Collecting mnist\r\n",
      "  Downloading mnist-0.2.2-py2.py3-none-any.whl (3.5 kB)\r\n"
     ]
    },
    {
     "name": "stdout",
     "output_type": "stream",
     "text": [
      "Requirement already satisfied: numpy in /opt/hostedtoolcache/Python/3.6.15/x64/lib/python3.6/site-packages (from mnist) (1.19.5)\r\n"
     ]
    },
    {
     "name": "stdout",
     "output_type": "stream",
     "text": [
      "Installing collected packages: mnist\r\n",
      "Successfully installed mnist-0.2.2\r\n"
     ]
    }
   ],
   "source": [
    "!pip install mnist"
   ]
  },
  {
   "cell_type": "markdown",
   "id": "69df9c9a",
   "metadata": {
    "papermill": {
     "duration": 0.024518,
     "end_time": "2022-04-22T20:09:57.952171",
     "exception": false,
     "start_time": "2022-04-22T20:09:57.927653",
     "status": "completed"
    },
    "tags": []
   },
   "source": [
    "## Preparing the Data"
   ]
  },
  {
   "cell_type": "code",
   "execution_count": 4,
   "id": "7f69d806",
   "metadata": {
    "execution": {
     "iopub.execute_input": "2022-04-22T20:09:58.006254Z",
     "iopub.status.busy": "2022-04-22T20:09:58.005733Z",
     "iopub.status.idle": "2022-04-22T20:09:58.019306Z",
     "shell.execute_reply": "2022-04-22T20:09:58.019690Z"
    },
    "papermill": {
     "duration": 0.043236,
     "end_time": "2022-04-22T20:09:58.019823",
     "exception": false,
     "start_time": "2022-04-22T20:09:57.976587",
     "status": "completed"
    },
    "tags": []
   },
   "outputs": [],
   "source": [
    "import mnist"
   ]
  },
  {
   "cell_type": "code",
   "execution_count": 5,
   "id": "a411e44f",
   "metadata": {
    "execution": {
     "iopub.execute_input": "2022-04-22T20:09:58.074948Z",
     "iopub.status.busy": "2022-04-22T20:09:58.074433Z",
     "iopub.status.idle": "2022-04-22T20:09:58.532393Z",
     "shell.execute_reply": "2022-04-22T20:09:58.531875Z"
    },
    "papermill": {
     "duration": 0.488094,
     "end_time": "2022-04-22T20:09:58.532528",
     "exception": false,
     "start_time": "2022-04-22T20:09:58.044434",
     "status": "completed"
    },
    "tags": []
   },
   "outputs": [],
   "source": [
    "train_images = mnist.train_images()\n",
    "train_labels = mnist.train_labels()"
   ]
  },
  {
   "cell_type": "code",
   "execution_count": 6,
   "id": "dceab3a5",
   "metadata": {
    "execution": {
     "iopub.execute_input": "2022-04-22T20:09:58.599979Z",
     "iopub.status.busy": "2022-04-22T20:09:58.591968Z",
     "iopub.status.idle": "2022-04-22T20:09:58.604532Z",
     "shell.execute_reply": "2022-04-22T20:09:58.604099Z"
    },
    "papermill": {
     "duration": 0.046475,
     "end_time": "2022-04-22T20:09:58.604643",
     "exception": false,
     "start_time": "2022-04-22T20:09:58.558168",
     "status": "completed"
    },
    "tags": []
   },
   "outputs": [
    {
     "data": {
      "text/plain": [
       "((60000, 28, 28), (60000,))"
      ]
     },
     "execution_count": 6,
     "metadata": {},
     "output_type": "execute_result"
    }
   ],
   "source": [
    "train_images.shape, train_labels.shape"
   ]
  },
  {
   "cell_type": "code",
   "execution_count": 7,
   "id": "f50dc2bb",
   "metadata": {
    "execution": {
     "iopub.execute_input": "2022-04-22T20:09:58.670164Z",
     "iopub.status.busy": "2022-04-22T20:09:58.662571Z",
     "iopub.status.idle": "2022-04-22T20:09:58.761682Z",
     "shell.execute_reply": "2022-04-22T20:09:58.761157Z"
    },
    "papermill": {
     "duration": 0.132598,
     "end_time": "2022-04-22T20:09:58.761821",
     "exception": false,
     "start_time": "2022-04-22T20:09:58.629223",
     "status": "completed"
    },
    "tags": []
   },
   "outputs": [],
   "source": [
    "test_images = mnist.test_images()\n",
    "test_labels = mnist.test_labels()"
   ]
  },
  {
   "cell_type": "code",
   "execution_count": 8,
   "id": "fc38cf1b",
   "metadata": {
    "execution": {
     "iopub.execute_input": "2022-04-22T20:09:58.815703Z",
     "iopub.status.busy": "2022-04-22T20:09:58.815195Z",
     "iopub.status.idle": "2022-04-22T20:09:58.828405Z",
     "shell.execute_reply": "2022-04-22T20:09:58.827972Z"
    },
    "papermill": {
     "duration": 0.041263,
     "end_time": "2022-04-22T20:09:58.828516",
     "exception": false,
     "start_time": "2022-04-22T20:09:58.787253",
     "status": "completed"
    },
    "tags": []
   },
   "outputs": [
    {
     "data": {
      "text/plain": [
       "((10000, 28, 28), (10000,))"
      ]
     },
     "execution_count": 8,
     "metadata": {},
     "output_type": "execute_result"
    }
   ],
   "source": [
    "test_images.shape, test_labels.shape"
   ]
  },
  {
   "cell_type": "code",
   "execution_count": 9,
   "id": "f9ed8fe0",
   "metadata": {
    "execution": {
     "iopub.execute_input": "2022-04-22T20:09:58.882697Z",
     "iopub.status.busy": "2022-04-22T20:09:58.882188Z",
     "iopub.status.idle": "2022-04-22T20:09:59.016460Z",
     "shell.execute_reply": "2022-04-22T20:09:59.016928Z"
    },
    "papermill": {
     "duration": 0.163617,
     "end_time": "2022-04-22T20:09:59.017112",
     "exception": false,
     "start_time": "2022-04-22T20:09:58.853495",
     "status": "completed"
    },
    "tags": []
   },
   "outputs": [
    {
     "name": "stdout",
     "output_type": "stream",
     "text": [
      "2\n"
     ]
    },
    {
     "data": {
      "text/plain": [
       "<matplotlib.image.AxesImage at 0x7f5c2e4642e8>"
      ]
     },
     "execution_count": 9,
     "metadata": {},
     "output_type": "execute_result"
    },
    {
     "data": {
      "image/png": "[encoded data removed]",
      "text/plain": [
       "<Figure size 432x288 with 1 Axes>"
      ]
     },
     "metadata": {
      "needs_background": "light"
     },
     "output_type": "display_data"
    }
   ],
   "source": [
    "image_index = 7776 # You may select anything up to 60,000\n",
    "print(train_labels[image_index]) \n",
    "plt.imshow(train_images[image_index], cmap='Greys')"
   ]
  },
  {
   "cell_type": "markdown",
   "id": "a8d2388d",
   "metadata": {
    "papermill": {
     "duration": 0.026385,
     "end_time": "2022-04-22T20:09:59.069884",
     "exception": false,
     "start_time": "2022-04-22T20:09:59.043499",
     "status": "completed"
    },
    "tags": []
   },
   "source": [
    "## Filter data to get 3 and 8 out"
   ]
  },
  {
   "cell_type": "code",
   "execution_count": 10,
   "id": "776f7fc7",
   "metadata": {
    "execution": {
     "iopub.execute_input": "2022-04-22T20:09:59.128487Z",
     "iopub.status.busy": "2022-04-22T20:09:59.126780Z",
     "iopub.status.idle": "2022-04-22T20:09:59.142891Z",
     "shell.execute_reply": "2022-04-22T20:09:59.142453Z"
    },
    "papermill": {
     "duration": 0.047093,
     "end_time": "2022-04-22T20:09:59.143004",
     "exception": false,
     "start_time": "2022-04-22T20:09:59.095911",
     "status": "completed"
    },
    "tags": []
   },
   "outputs": [],
   "source": [
    "train_filter = np.where((train_labels == 3 ) | (train_labels == 8))\n",
    "test_filter = np.where((test_labels == 3) | (test_labels == 8))\n",
    "X_train, y_train = train_images[train_filter], train_labels[train_filter]\n",
    "X_test, y_test = test_images[test_filter], test_labels[test_filter]"
   ]
  },
  {
   "cell_type": "markdown",
   "id": "948f0b7e",
   "metadata": {
    "papermill": {
     "duration": 0.026105,
     "end_time": "2022-04-22T20:09:59.195387",
     "exception": false,
     "start_time": "2022-04-22T20:09:59.169282",
     "status": "completed"
    },
    "tags": []
   },
   "source": [
    "We normalize the pizel values in the 0 to 1 range"
   ]
  },
  {
   "cell_type": "code",
   "execution_count": 11,
   "id": "ee4c2166",
   "metadata": {
    "execution": {
     "iopub.execute_input": "2022-04-22T20:09:59.251085Z",
     "iopub.status.busy": "2022-04-22T20:09:59.250548Z",
     "iopub.status.idle": "2022-04-22T20:09:59.293809Z",
     "shell.execute_reply": "2022-04-22T20:09:59.294259Z"
    },
    "papermill": {
     "duration": 0.073154,
     "end_time": "2022-04-22T20:09:59.294413",
     "exception": false,
     "start_time": "2022-04-22T20:09:59.221259",
     "status": "completed"
    },
    "tags": []
   },
   "outputs": [],
   "source": [
    "X_train = X_train/255.\n",
    "X_test = X_test/255."
   ]
  },
  {
   "cell_type": "markdown",
   "id": "ddcf4fab",
   "metadata": {
    "papermill": {
     "duration": 0.026076,
     "end_time": "2022-04-22T20:09:59.346845",
     "exception": false,
     "start_time": "2022-04-22T20:09:59.320769",
     "status": "completed"
    },
    "tags": []
   },
   "source": [
    "And setup the labels as 1 (when the digit is 3) and 0 (when the digit is 8)"
   ]
  },
  {
   "cell_type": "code",
   "execution_count": 12,
   "id": "7dc908f2",
   "metadata": {
    "execution": {
     "iopub.execute_input": "2022-04-22T20:09:59.403606Z",
     "iopub.status.busy": "2022-04-22T20:09:59.403084Z",
     "iopub.status.idle": "2022-04-22T20:09:59.414594Z",
     "shell.execute_reply": "2022-04-22T20:09:59.414184Z"
    },
    "papermill": {
     "duration": 0.041849,
     "end_time": "2022-04-22T20:09:59.414708",
     "exception": false,
     "start_time": "2022-04-22T20:09:59.372859",
     "status": "completed"
    },
    "tags": []
   },
   "outputs": [],
   "source": [
    "y_train = 1*(y_train==3)\n",
    "y_test = 1*(y_test==3)"
   ]
  },
  {
   "cell_type": "code",
   "execution_count": 13,
   "id": "01e4e969",
   "metadata": {
    "execution": {
     "iopub.execute_input": "2022-04-22T20:09:59.474742Z",
     "iopub.status.busy": "2022-04-22T20:09:59.474211Z",
     "iopub.status.idle": "2022-04-22T20:09:59.485762Z",
     "shell.execute_reply": "2022-04-22T20:09:59.485347Z"
    },
    "papermill": {
     "duration": 0.044805,
     "end_time": "2022-04-22T20:09:59.485897",
     "exception": false,
     "start_time": "2022-04-22T20:09:59.441092",
     "status": "completed"
    },
    "tags": []
   },
   "outputs": [
    {
     "data": {
      "text/plain": [
       "((11982, 28, 28), (1984, 28, 28))"
      ]
     },
     "execution_count": 13,
     "metadata": {},
     "output_type": "execute_result"
    }
   ],
   "source": [
    "X_train.shape, X_test.shape"
   ]
  },
  {
   "cell_type": "markdown",
   "id": "5ccf3f85",
   "metadata": {
    "papermill": {
     "duration": 0.026125,
     "end_time": "2022-04-22T20:09:59.538140",
     "exception": false,
     "start_time": "2022-04-22T20:09:59.512015",
     "status": "completed"
    },
    "tags": []
   },
   "source": [
    "We reshape the data to flatten the image pixels into a set of features or co-variates:"
   ]
  },
  {
   "cell_type": "code",
   "execution_count": 14,
   "id": "5286a4a3",
   "metadata": {
    "execution": {
     "iopub.execute_input": "2022-04-22T20:09:59.594534Z",
     "iopub.status.busy": "2022-04-22T20:09:59.594017Z",
     "iopub.status.idle": "2022-04-22T20:09:59.607754Z",
     "shell.execute_reply": "2022-04-22T20:09:59.608160Z"
    },
    "papermill": {
     "duration": 0.04393,
     "end_time": "2022-04-22T20:09:59.608291",
     "exception": false,
     "start_time": "2022-04-22T20:09:59.564361",
     "status": "completed"
    },
    "tags": []
   },
   "outputs": [
    {
     "data": {
      "text/plain": [
       "((11982, 784), (1984, 784))"
      ]
     },
     "execution_count": 14,
     "metadata": {},
     "output_type": "execute_result"
    }
   ],
   "source": [
    "X_train = X_train.reshape(X_train.shape[0], -1)\n",
    "X_test = X_test.reshape(X_test.shape[0], -1)\n",
    "X_train.shape, X_test.shape"
   ]
  },
  {
   "cell_type": "code",
   "execution_count": 15,
   "id": "73c5f88a",
   "metadata": {
    "execution": {
     "iopub.execute_input": "2022-04-22T20:09:59.665139Z",
     "iopub.status.busy": "2022-04-22T20:09:59.664602Z",
     "iopub.status.idle": "2022-04-22T20:09:59.684491Z",
     "shell.execute_reply": "2022-04-22T20:09:59.684036Z"
    },
    "papermill": {
     "duration": 0.049777,
     "end_time": "2022-04-22T20:09:59.684614",
     "exception": false,
     "start_time": "2022-04-22T20:09:59.634837",
     "status": "completed"
    },
    "tags": []
   },
   "outputs": [],
   "source": [
    "#Impoting functions from 'Kudzu'\n",
    "from kudzu.model import Model\n",
    "from kudzu.train import Learner\n",
    "from kudzu.optim import GD\n",
    "from kudzu.data import Data, Sampler,Dataloader\n",
    "\n",
    "from kudzu.callbacks import AccCallback\n",
    "from kudzu.callbacks import ClfCallback\n",
    "\n",
    "from kudzu.loss import MSE\n",
    "\n",
    "from kudzu.layer import Sigmoid,Relu\n",
    "from kudzu.layer import Affine"
   ]
  },
  {
   "cell_type": "markdown",
   "id": "bc01172a",
   "metadata": {
    "papermill": {
     "duration": 0.026932,
     "end_time": "2022-04-22T20:09:59.738804",
     "exception": false,
     "start_time": "2022-04-22T20:09:59.711872",
     "status": "completed"
    },
    "tags": []
   },
   "source": [
    "### Let us create a `Config` class, to store important parameters. \n",
    "This class essentially plays the role of a dictionary."
   ]
  },
  {
   "cell_type": "code",
   "execution_count": 16,
   "id": "978281aa",
   "metadata": {
    "execution": {
     "iopub.execute_input": "2022-04-22T20:09:59.795549Z",
     "iopub.status.busy": "2022-04-22T20:09:59.795034Z",
     "iopub.status.idle": "2022-04-22T20:09:59.807942Z",
     "shell.execute_reply": "2022-04-22T20:09:59.807507Z"
    },
    "papermill": {
     "duration": 0.042831,
     "end_time": "2022-04-22T20:09:59.808049",
     "exception": false,
     "start_time": "2022-04-22T20:09:59.765218",
     "status": "completed"
    },
    "tags": []
   },
   "outputs": [],
   "source": [
    "class Config:\n",
    "    pass\n",
    "config = Config()\n",
    "config.lr = 0.001\n",
    "config.num_epochs = 250\n",
    "config.bs = 50"
   ]
  },
  {
   "cell_type": "markdown",
   "id": "1385fa59",
   "metadata": {
    "papermill": {
     "duration": 0.026725,
     "end_time": "2022-04-22T20:09:59.861363",
     "exception": false,
     "start_time": "2022-04-22T20:09:59.834638",
     "status": "completed"
    },
    "tags": []
   },
   "source": [
    "### Running Models with the Training data\n",
    "Details about the network layers:\n",
    "- A first affine layer has 784 inputs and does 100 affine transforms. These are followed by a Relu\n",
    "- A second affine layer has 100 inputs from the 100 activations of the past layer, and does 100 affine transforms. These are followed by a Relu\n",
    "- A third affine layer has 100 activations and does 2 affine transformations to create an embedding for visualization. There is no non-linearity here.\n",
    "- A final \"logistic regression\" which has an affine transform from 2 inputs to 1 output, which is squeezed through a sigmoid.\n"
   ]
  },
  {
   "cell_type": "code",
   "execution_count": 17,
   "id": "2b9c66db",
   "metadata": {
    "execution": {
     "iopub.execute_input": "2022-04-22T20:09:59.918669Z",
     "iopub.status.busy": "2022-04-22T20:09:59.918154Z",
     "iopub.status.idle": "2022-04-22T20:09:59.931312Z",
     "shell.execute_reply": "2022-04-22T20:09:59.930895Z"
    },
    "papermill": {
     "duration": 0.04346,
     "end_time": "2022-04-22T20:09:59.931425",
     "exception": false,
     "start_time": "2022-04-22T20:09:59.887965",
     "status": "completed"
    },
    "tags": []
   },
   "outputs": [],
   "source": [
    "data = Data(X_train, y_train.reshape(-1,1))\n",
    "sampler = Sampler(data, config.bs, shuffle=True)\n",
    "\n",
    "dl = Dataloader(data, sampler)\n",
    "\n",
    "opt = GD(config.lr)\n",
    "loss = MSE()"
   ]
  },
  {
   "cell_type": "code",
   "execution_count": 18,
   "id": "b275e4c2",
   "metadata": {
    "execution": {
     "iopub.execute_input": "2022-04-22T20:09:59.988339Z",
     "iopub.status.busy": "2022-04-22T20:09:59.987829Z",
     "iopub.status.idle": "2022-04-22T20:10:00.000533Z",
     "shell.execute_reply": "2022-04-22T20:10:00.000124Z"
    },
    "papermill": {
     "duration": 0.042619,
     "end_time": "2022-04-22T20:10:00.000645",
     "exception": false,
     "start_time": "2022-04-22T20:09:59.958026",
     "status": "completed"
    },
    "tags": []
   },
   "outputs": [],
   "source": [
    "training_data_x = X_train\n",
    "testing_data_x = X_test\n",
    "training_data_y = y_train.reshape(-1,1)\n",
    "testing_data_y = y_test.reshape(-1,1)"
   ]
  },
  {
   "cell_type": "code",
   "execution_count": 19,
   "id": "76951160",
   "metadata": {
    "execution": {
     "iopub.execute_input": "2022-04-22T20:10:00.058210Z",
     "iopub.status.busy": "2022-04-22T20:10:00.057694Z",
     "iopub.status.idle": "2022-04-22T20:10:00.073835Z",
     "shell.execute_reply": "2022-04-22T20:10:00.073396Z"
    },
    "papermill": {
     "duration": 0.046685,
     "end_time": "2022-04-22T20:10:00.073949",
     "exception": false,
     "start_time": "2022-04-22T20:10:00.027264",
     "status": "completed"
    },
    "tags": []
   },
   "outputs": [
    {
     "name": "stdout",
     "output_type": "stream",
     "text": [
      "xavier\n",
      "xavier\n",
      "xavier\n",
      "xavier\n",
      "xavier\n"
     ]
    }
   ],
   "source": [
    "layers = [Affine(\"first\", 784, 100), Relu(\"first\"), Affine(\"second\", 100, 100), Relu(\"second\"), Affine(\"third\", 100, 2), Affine(\"last\", 2, 1), Sigmoid(\"last\")]\n",
    "model_nn = Model(layers)\n",
    "model_lr = Model([Affine(\"logits\", 784, 1), Sigmoid(\"sigmoid\")])"
   ]
  },
  {
   "cell_type": "code",
   "execution_count": 20,
   "id": "6eede77a",
   "metadata": {
    "execution": {
     "iopub.execute_input": "2022-04-22T20:10:00.134345Z",
     "iopub.status.busy": "2022-04-22T20:10:00.133814Z",
     "iopub.status.idle": "2022-04-22T20:10:00.145539Z",
     "shell.execute_reply": "2022-04-22T20:10:00.145103Z"
    },
    "papermill": {
     "duration": 0.04466,
     "end_time": "2022-04-22T20:10:00.145659",
     "exception": false,
     "start_time": "2022-04-22T20:10:00.100999",
     "status": "completed"
    },
    "tags": []
   },
   "outputs": [],
   "source": [
    "nn_learner = Learner(loss, model_nn, opt, config.num_epochs)\n",
    "acc_nn = ClfCallback(nn_learner, config.bs, training_data_x , testing_data_x, training_data_y, testing_data_y)\n",
    "nn_learner.set_callbacks([acc_nn])"
   ]
  },
  {
   "cell_type": "code",
   "execution_count": 21,
   "id": "877b6cc7",
   "metadata": {
    "execution": {
     "iopub.execute_input": "2022-04-22T20:10:00.203891Z",
     "iopub.status.busy": "2022-04-22T20:10:00.203376Z",
     "iopub.status.idle": "2022-04-22T20:10:00.216162Z",
     "shell.execute_reply": "2022-04-22T20:10:00.215750Z"
    },
    "papermill": {
     "duration": 0.04363,
     "end_time": "2022-04-22T20:10:00.216276",
     "exception": false,
     "start_time": "2022-04-22T20:10:00.172646",
     "status": "completed"
    },
    "tags": []
   },
   "outputs": [],
   "source": [
    "lr_learner = Learner(loss, model_lr, opt, config.num_epochs)\n",
    "acc_lr = ClfCallback(lr_learner, config.bs, training_data_x , testing_data_x, training_data_y, testing_data_y)\n",
    "lr_learner.set_callbacks([acc_lr])"
   ]
  },
  {
   "cell_type": "code",
   "execution_count": 22,
   "id": "d9b133c3",
   "metadata": {
    "execution": {
     "iopub.execute_input": "2022-04-22T20:10:00.278243Z",
     "iopub.status.busy": "2022-04-22T20:10:00.277734Z",
     "iopub.status.idle": "2022-04-22T20:11:16.077237Z",
     "shell.execute_reply": "2022-04-22T20:11:16.077982Z"
    },
    "papermill": {
     "duration": 75.834858,
     "end_time": "2022-04-22T20:11:16.078125",
     "exception": false,
     "start_time": "2022-04-22T20:10:00.243267",
     "status": "completed"
    },
    "tags": []
   },
   "outputs": [
    {
     "name": "stdout",
     "output_type": "stream",
     "text": [
      "Epoch 0, Loss 0.2553\n",
      "Training Accuracy: 0.5038, Testing Accuracy: 0.5000\n",
      "\n"
     ]
    },
    {
     "name": "stdout",
     "output_type": "stream",
     "text": [
      "Epoch 10, Loss 0.1501\n",
      "Training Accuracy: 0.8845, Testing Accuracy: 0.8891\n",
      "\n"
     ]
    },
    {
     "name": "stdout",
     "output_type": "stream",
     "text": [
      "Epoch 20, Loss 0.077\n",
      "Training Accuracy: 0.9226, Testing Accuracy: 0.9330\n",
      "\n"
     ]
    },
    {
     "name": "stdout",
     "output_type": "stream",
     "text": [
      "Epoch 30, Loss 0.0541\n",
      "Training Accuracy: 0.9417, Testing Accuracy: 0.9516\n",
      "\n"
     ]
    },
    {
     "name": "stdout",
     "output_type": "stream",
     "text": [
      "Epoch 40, Loss 0.044\n",
      "Training Accuracy: 0.9516, Testing Accuracy: 0.9612\n",
      "\n"
     ]
    },
    {
     "name": "stdout",
     "output_type": "stream",
     "text": [
      "Epoch 50, Loss 0.0384\n",
      "Training Accuracy: 0.9563, Testing Accuracy: 0.9662\n",
      "\n"
     ]
    },
    {
     "name": "stdout",
     "output_type": "stream",
     "text": [
      "Epoch 60, Loss 0.0348\n",
      "Training Accuracy: 0.9602, Testing Accuracy: 0.9672\n",
      "\n"
     ]
    },
    {
     "name": "stdout",
     "output_type": "stream",
     "text": [
      "Epoch 70, Loss 0.0323\n",
      "Training Accuracy: 0.9627, Testing Accuracy: 0.9672\n",
      "\n"
     ]
    },
    {
     "name": "stdout",
     "output_type": "stream",
     "text": [
      "Epoch 80, Loss 0.0303\n",
      "Training Accuracy: 0.9649, Testing Accuracy: 0.9667\n",
      "\n"
     ]
    },
    {
     "name": "stdout",
     "output_type": "stream",
     "text": [
      "Epoch 90, Loss 0.0288\n",
      "Training Accuracy: 0.9667, Testing Accuracy: 0.9688\n",
      "\n"
     ]
    },
    {
     "name": "stdout",
     "output_type": "stream",
     "text": [
      "Epoch 100, Loss 0.0275\n",
      "Training Accuracy: 0.9680, Testing Accuracy: 0.9703\n",
      "\n"
     ]
    },
    {
     "name": "stdout",
     "output_type": "stream",
     "text": [
      "Epoch 110, Loss 0.0264\n",
      "Training Accuracy: 0.9690, Testing Accuracy: 0.9713\n",
      "\n"
     ]
    },
    {
     "name": "stdout",
     "output_type": "stream",
     "text": [
      "Epoch 120, Loss 0.0255\n",
      "Training Accuracy: 0.9705, Testing Accuracy: 0.9718\n",
      "\n"
     ]
    },
    {
     "name": "stdout",
     "output_type": "stream",
     "text": [
      "Epoch 130, Loss 0.0247\n",
      "Training Accuracy: 0.9716, Testing Accuracy: 0.9728\n",
      "\n"
     ]
    },
    {
     "name": "stdout",
     "output_type": "stream",
     "text": [
      "Epoch 140, Loss 0.0239\n",
      "Training Accuracy: 0.9723, Testing Accuracy: 0.9743\n",
      "\n"
     ]
    },
    {
     "name": "stdout",
     "output_type": "stream",
     "text": [
      "Epoch 150, Loss 0.0232\n",
      "Training Accuracy: 0.9736, Testing Accuracy: 0.9733\n",
      "\n"
     ]
    },
    {
     "name": "stdout",
     "output_type": "stream",
     "text": [
      "Epoch 160, Loss 0.0226\n",
      "Training Accuracy: 0.9740, Testing Accuracy: 0.9733\n",
      "\n"
     ]
    },
    {
     "name": "stdout",
     "output_type": "stream",
     "text": [
      "Epoch 170, Loss 0.0221\n",
      "Training Accuracy: 0.9754, Testing Accuracy: 0.9738\n",
      "\n"
     ]
    },
    {
     "name": "stdout",
     "output_type": "stream",
     "text": [
      "Epoch 180, Loss 0.0216\n",
      "Training Accuracy: 0.9758, Testing Accuracy: 0.9733\n",
      "\n"
     ]
    },
    {
     "name": "stdout",
     "output_type": "stream",
     "text": [
      "Epoch 190, Loss 0.0211\n",
      "Training Accuracy: 0.9763, Testing Accuracy: 0.9723\n",
      "\n"
     ]
    },
    {
     "name": "stdout",
     "output_type": "stream",
     "text": [
      "Epoch 200, Loss 0.0206\n",
      "Training Accuracy: 0.9771, Testing Accuracy: 0.9723\n",
      "\n"
     ]
    },
    {
     "name": "stdout",
     "output_type": "stream",
     "text": [
      "Epoch 210, Loss 0.0202\n",
      "Training Accuracy: 0.9774, Testing Accuracy: 0.9723\n",
      "\n"
     ]
    },
    {
     "name": "stdout",
     "output_type": "stream",
     "text": [
      "Epoch 220, Loss 0.0198\n",
      "Training Accuracy: 0.9781, Testing Accuracy: 0.9728\n",
      "\n"
     ]
    },
    {
     "name": "stdout",
     "output_type": "stream",
     "text": [
      "Epoch 230, Loss 0.0194\n",
      "Training Accuracy: 0.9781, Testing Accuracy: 0.9728\n",
      "\n"
     ]
    },
    {
     "name": "stdout",
     "output_type": "stream",
     "text": [
      "Epoch 240, Loss 0.0191\n",
      "Training Accuracy: 0.9786, Testing Accuracy: 0.9728\n",
      "\n"
     ]
    },
    {
     "data": {
      "text/plain": [
       "0.0012529763115785787"
      ]
     },
     "execution_count": 22,
     "metadata": {},
     "output_type": "execute_result"
    }
   ],
   "source": [
    "nn_learner.train_loop(dl)"
   ]
  },
  {
   "cell_type": "code",
   "execution_count": 23,
   "id": "e0163366",
   "metadata": {
    "execution": {
     "iopub.execute_input": "2022-04-22T20:11:16.154241Z",
     "iopub.status.busy": "2022-04-22T20:11:16.153716Z",
     "iopub.status.idle": "2022-04-22T20:11:29.618774Z",
     "shell.execute_reply": "2022-04-22T20:11:29.619502Z"
    },
    "papermill": {
     "duration": 13.506785,
     "end_time": "2022-04-22T20:11:29.619648",
     "exception": false,
     "start_time": "2022-04-22T20:11:16.112863",
     "status": "completed"
    },
    "tags": []
   },
   "outputs": [
    {
     "name": "stdout",
     "output_type": "stream",
     "text": [
      "Epoch 0, Loss 0.2218\n",
      "Training Accuracy: 0.7594, Testing Accuracy: 0.7777\n",
      "\n"
     ]
    },
    {
     "name": "stdout",
     "output_type": "stream",
     "text": [
      "Epoch 10, Loss 0.1005\n",
      "Training Accuracy: 0.9131, Testing Accuracy: 0.9259\n",
      "\n"
     ]
    },
    {
     "name": "stdout",
     "output_type": "stream",
     "text": [
      "Epoch 20, Loss 0.0787\n",
      "Training Accuracy: 0.9273, Testing Accuracy: 0.9410\n",
      "\n"
     ]
    },
    {
     "name": "stdout",
     "output_type": "stream",
     "text": [
      "Epoch 30, Loss 0.0683\n",
      "Training Accuracy: 0.9362, Testing Accuracy: 0.9486\n",
      "\n"
     ]
    },
    {
     "name": "stdout",
     "output_type": "stream",
     "text": [
      "Epoch 40, Loss 0.0618\n",
      "Training Accuracy: 0.9407, Testing Accuracy: 0.9516\n",
      "\n"
     ]
    },
    {
     "name": "stdout",
     "output_type": "stream",
     "text": [
      "Epoch 50, Loss 0.0574\n",
      "Training Accuracy: 0.9438, Testing Accuracy: 0.9541\n",
      "\n"
     ]
    },
    {
     "name": "stdout",
     "output_type": "stream",
     "text": [
      "Epoch 60, Loss 0.0541\n",
      "Training Accuracy: 0.9466, Testing Accuracy: 0.9561\n",
      "\n"
     ]
    },
    {
     "name": "stdout",
     "output_type": "stream",
     "text": [
      "Epoch 70, Loss 0.0516\n",
      "Training Accuracy: 0.9485, Testing Accuracy: 0.9582\n",
      "\n"
     ]
    },
    {
     "name": "stdout",
     "output_type": "stream",
     "text": [
      "Epoch 80, Loss 0.0495\n",
      "Training Accuracy: 0.9500, Testing Accuracy: 0.9597\n",
      "\n"
     ]
    },
    {
     "name": "stdout",
     "output_type": "stream",
     "text": [
      "Epoch 90, Loss 0.0478\n",
      "Training Accuracy: 0.9514, Testing Accuracy: 0.9612\n",
      "\n"
     ]
    },
    {
     "name": "stdout",
     "output_type": "stream",
     "text": [
      "Epoch 100, Loss 0.0464\n",
      "Training Accuracy: 0.9525, Testing Accuracy: 0.9627\n",
      "\n"
     ]
    },
    {
     "name": "stdout",
     "output_type": "stream",
     "text": [
      "Epoch 110, Loss 0.0452\n",
      "Training Accuracy: 0.9532, Testing Accuracy: 0.9632\n",
      "\n"
     ]
    },
    {
     "name": "stdout",
     "output_type": "stream",
     "text": [
      "Epoch 120, Loss 0.0441\n",
      "Training Accuracy: 0.9544, Testing Accuracy: 0.9637\n",
      "\n"
     ]
    },
    {
     "name": "stdout",
     "output_type": "stream",
     "text": [
      "Epoch 130, Loss 0.0432\n",
      "Training Accuracy: 0.9553, Testing Accuracy: 0.9647\n",
      "\n"
     ]
    },
    {
     "name": "stdout",
     "output_type": "stream",
     "text": [
      "Epoch 140, Loss 0.0423\n",
      "Training Accuracy: 0.9558, Testing Accuracy: 0.9652\n",
      "\n"
     ]
    },
    {
     "name": "stdout",
     "output_type": "stream",
     "text": [
      "Epoch 150, Loss 0.0416\n",
      "Training Accuracy: 0.9565, Testing Accuracy: 0.9657\n",
      "\n"
     ]
    },
    {
     "name": "stdout",
     "output_type": "stream",
     "text": [
      "Epoch 160, Loss 0.0409\n",
      "Training Accuracy: 0.9574, Testing Accuracy: 0.9657\n",
      "\n"
     ]
    },
    {
     "name": "stdout",
     "output_type": "stream",
     "text": [
      "Epoch 170, Loss 0.0403\n",
      "Training Accuracy: 0.9578, Testing Accuracy: 0.9657\n",
      "\n"
     ]
    },
    {
     "name": "stdout",
     "output_type": "stream",
     "text": [
      "Epoch 180, Loss 0.0397\n",
      "Training Accuracy: 0.9587, Testing Accuracy: 0.9667\n",
      "\n"
     ]
    },
    {
     "name": "stdout",
     "output_type": "stream",
     "text": [
      "Epoch 190, Loss 0.0392\n",
      "Training Accuracy: 0.9594, Testing Accuracy: 0.9672\n",
      "\n"
     ]
    },
    {
     "name": "stdout",
     "output_type": "stream",
     "text": [
      "Epoch 200, Loss 0.0387\n",
      "Training Accuracy: 0.9597, Testing Accuracy: 0.9672\n",
      "\n"
     ]
    },
    {
     "name": "stdout",
     "output_type": "stream",
     "text": [
      "Epoch 210, Loss 0.0382\n",
      "Training Accuracy: 0.9599, Testing Accuracy: 0.9677\n",
      "\n"
     ]
    },
    {
     "name": "stdout",
     "output_type": "stream",
     "text": [
      "Epoch 220, Loss 0.0378\n",
      "Training Accuracy: 0.9599, Testing Accuracy: 0.9677\n",
      "\n"
     ]
    },
    {
     "name": "stdout",
     "output_type": "stream",
     "text": [
      "Epoch 230, Loss 0.0374\n",
      "Training Accuracy: 0.9601, Testing Accuracy: 0.9677\n",
      "\n"
     ]
    },
    {
     "name": "stdout",
     "output_type": "stream",
     "text": [
      "Epoch 240, Loss 0.0371\n",
      "Training Accuracy: 0.9604, Testing Accuracy: 0.9677\n",
      "\n"
     ]
    },
    {
     "data": {
      "text/plain": [
       "0.057468441095401904"
      ]
     },
     "execution_count": 23,
     "metadata": {},
     "output_type": "execute_result"
    }
   ],
   "source": [
    "lr_learner.train_loop(dl)"
   ]
  },
  {
   "cell_type": "code",
   "execution_count": 24,
   "id": "ca410940",
   "metadata": {
    "execution": {
     "iopub.execute_input": "2022-04-22T20:11:29.718211Z",
     "iopub.status.busy": "2022-04-22T20:11:29.717680Z",
     "iopub.status.idle": "2022-04-22T20:11:29.931507Z",
     "shell.execute_reply": "2022-04-22T20:11:29.931924Z"
    },
    "papermill": {
     "duration": 0.271388,
     "end_time": "2022-04-22T20:11:29.932058",
     "exception": false,
     "start_time": "2022-04-22T20:11:29.660670",
     "status": "completed"
    },
    "tags": []
   },
   "outputs": [
    {
     "data": {
      "text/plain": [
       "<matplotlib.legend.Legend at 0x7f5c21896a58>"
      ]
     },
     "execution_count": 24,
     "metadata": {},
     "output_type": "execute_result"
    },
    {
     "data": {
      "image/png": "[encoded data removed]",
      "text/plain": [
       "<Figure size 1080x720 with 1 Axes>"
      ]
     },
     "metadata": {
      "needs_background": "light"
     },
     "output_type": "display_data"
    }
   ],
   "source": [
    "#comparing the results of NN and LR\n",
    "plt.figure(figsize=(15,10))\n",
    "\n",
    "# Neural Network plots\n",
    "plt.plot(acc_nn.accuracies, 'r-', label = \"Training Accuracies - NN\")\n",
    "plt.plot(acc_nn.test_accuracies, 'g-', label = \"Testing Accuracies - NN\")\n",
    "\n",
    "# Logistic Regression plots\n",
    "plt.plot(acc_lr.accuracies, 'k-', label = \"Training Accuracies - LR\")\n",
    "plt.plot(acc_lr.test_accuracies, 'b-', label = \"Testing Accuracies - LR\")\n",
    "plt.legend()"
   ]
  },
  {
   "cell_type": "markdown",
   "id": "80dfb35c",
   "metadata": {
    "papermill": {
     "duration": 0.041222,
     "end_time": "2022-04-22T20:11:30.014964",
     "exception": false,
     "start_time": "2022-04-22T20:11:29.973742",
     "status": "completed"
    },
    "tags": []
   },
   "source": [
    "#### Plotting the outputs of this layer of the NN.\n"
   ]
  },
  {
   "cell_type": "code",
   "execution_count": 25,
   "id": "45eb2ff5",
   "metadata": {
    "execution": {
     "iopub.execute_input": "2022-04-22T20:11:30.121867Z",
     "iopub.status.busy": "2022-04-22T20:11:30.112818Z",
     "iopub.status.idle": "2022-04-22T20:11:30.124863Z",
     "shell.execute_reply": "2022-04-22T20:11:30.125513Z"
    },
    "papermill": {
     "duration": 0.069408,
     "end_time": "2022-04-22T20:11:30.125651",
     "exception": false,
     "start_time": "2022-04-22T20:11:30.056243",
     "status": "completed"
    },
    "tags": []
   },
   "outputs": [],
   "source": [
    "new_model = Model(layers[:-2])\n",
    "testing_plot = new_model(testing_data_x)"
   ]
  },
  {
   "cell_type": "code",
   "execution_count": 26,
   "id": "4c0a5485",
   "metadata": {
    "execution": {
     "iopub.execute_input": "2022-04-22T20:11:30.220095Z",
     "iopub.status.busy": "2022-04-22T20:11:30.219576Z",
     "iopub.status.idle": "2022-04-22T20:11:30.411961Z",
     "shell.execute_reply": "2022-04-22T20:11:30.411537Z"
    },
    "papermill": {
     "duration": 0.244321,
     "end_time": "2022-04-22T20:11:30.412083",
     "exception": false,
     "start_time": "2022-04-22T20:11:30.167762",
     "status": "completed"
    },
    "tags": []
   },
   "outputs": [
    {
     "data": {
      "text/plain": [
       "Text(0.5, 1.0, 'Outputs')"
      ]
     },
     "execution_count": 26,
     "metadata": {},
     "output_type": "execute_result"
    },
    {
     "data": {
      "image/png": "[encoded data removed]",
      "text/plain": [
       "<Figure size 576x504 with 1 Axes>"
      ]
     },
     "metadata": {
      "needs_background": "light"
     },
     "output_type": "display_data"
    }
   ],
   "source": [
    "# Plotting the scatter plot of points and color coding by class\n",
    "plt.figure(figsize=(8,7))\n",
    "plt.scatter(testing_plot[:,0], testing_plot[:,1], alpha = 0.1, c = y_test.ravel());\n",
    "plt.title('Outputs')"
   ]
  },
  {
   "cell_type": "markdown",
   "id": "a74fcf8f",
   "metadata": {
    "papermill": {
     "duration": 0.043594,
     "end_time": "2022-04-22T20:11:30.499395",
     "exception": false,
     "start_time": "2022-04-22T20:11:30.455801",
     "status": "completed"
    },
    "tags": []
   },
   "source": [
    "Probability contours"
   ]
  },
  {
   "cell_type": "code",
   "execution_count": 27,
   "id": "d0afc8e3",
   "metadata": {
    "execution": {
     "iopub.execute_input": "2022-04-22T20:11:30.594218Z",
     "iopub.status.busy": "2022-04-22T20:11:30.593679Z",
     "iopub.status.idle": "2022-04-22T20:11:30.600957Z",
     "shell.execute_reply": "2022-04-22T20:11:30.601346Z"
    },
    "papermill": {
     "duration": 0.05855,
     "end_time": "2022-04-22T20:11:30.601477",
     "exception": false,
     "start_time": "2022-04-22T20:11:30.542927",
     "status": "completed"
    },
    "tags": []
   },
   "outputs": [],
   "source": [
    "model_prob = Model(layers[-2:]) "
   ]
  },
  {
   "cell_type": "code",
   "execution_count": 28,
   "id": "9b96e238",
   "metadata": {
    "execution": {
     "iopub.execute_input": "2022-04-22T20:11:30.693387Z",
     "iopub.status.busy": "2022-04-22T20:11:30.692841Z",
     "iopub.status.idle": "2022-04-22T20:11:30.705564Z",
     "shell.execute_reply": "2022-04-22T20:11:30.705945Z"
    },
    "papermill": {
     "duration": 0.060947,
     "end_time": "2022-04-22T20:11:30.706074",
     "exception": false,
     "start_time": "2022-04-22T20:11:30.645127",
     "status": "completed"
    },
    "tags": []
   },
   "outputs": [],
   "source": [
    "#creating the x and y ranges according to the above generated plot.\n",
    "x_range = np.linspace(-4, 1, 100) \n",
    "y_range = np.linspace(-6, 6, 100) \n",
    "x_grid, y_grid = np.meshgrid(x_range, y_range) # x_grid and y_grig are of size 100 X 100\n",
    "\n",
    "# converting x_grid and y_grid to continuous arrays\n",
    "x_gridflat = np.ravel(x_grid)\n",
    "y_gridflat = np.ravel(y_grid)\n",
    "\n",
    "# The last layer of the current model takes two columns as input. Hence transpose of np.vstack() is required.\n",
    "X = np.vstack((x_gridflat, y_gridflat)).T\n",
    "\n",
    "prob_contour = model_prob(X).reshape(100,100) "
   ]
  },
  {
   "cell_type": "code",
   "execution_count": 29,
   "id": "da72499a",
   "metadata": {
    "execution": {
     "iopub.execute_input": "2022-04-22T20:11:30.824523Z",
     "iopub.status.busy": "2022-04-22T20:11:30.823997Z",
     "iopub.status.idle": "2022-04-22T20:11:31.070419Z",
     "shell.execute_reply": "2022-04-22T20:11:31.069941Z"
    },
    "papermill": {
     "duration": 0.320876,
     "end_time": "2022-04-22T20:11:31.070535",
     "exception": false,
     "start_time": "2022-04-22T20:11:30.749659",
     "status": "completed"
    },
    "tags": []
   },
   "outputs": [
    {
     "data": {
      "image/png": "[encoded data removed]",
      "text/plain": [
       "<Figure size 720x648 with 1 Axes>"
      ]
     },
     "metadata": {
      "needs_background": "light"
     },
     "output_type": "display_data"
    }
   ],
   "source": [
    "plt.figure(figsize=(10,9))\n",
    "plt.scatter(testing_plot[:,0], testing_plot[:,1], alpha = 0.1, c = y_test.ravel())\n",
    "contours = plt.contour(x_grid,y_grid,prob_contour)\n",
    "plt.title('Probability Contours')\n",
    "plt.clabel(contours, inline = True );"
   ]
  },
  {
   "cell_type": "code",
   "execution_count": null,
   "id": "e81b4ac7",
   "metadata": {
    "papermill": {
     "duration": 0.04604,
     "end_time": "2022-04-22T20:11:31.163307",
     "exception": false,
     "start_time": "2022-04-22T20:11:31.117267",
     "status": "completed"
    },
    "tags": []
   },
   "outputs": [],
   "source": []
  }
 ],
 "metadata": {
  "kernelspec": {
   "display_name": "Python 3",
   "language": "python",
   "name": "python3"
  },
  "language_info": {
   "codemirror_mode": {
    "name": "ipython",
    "version": 3
   },
   "file_extension": ".py",
   "mimetype": "text/x-python",
   "name": "python",
   "nbconvert_exporter": "python",
   "pygments_lexer": "ipython3",
   "version": "3.6.15"
  },
  "papermill": {
   "default_parameters": {},
   "duration": 97.171267,
   "end_time": "2022-04-22T20:11:31.628105",
   "environment_variables": {},
   "exception": null,
   "input_path": "2020-08-11-part2.ipynb",
   "output_path": "2020-08-11-part2.ipynb",
   "parameters": {},
   "start_time": "2022-04-22T20:09:54.456838",
   "version": "2.3.3"
  }
 },
 "nbformat": 4,
 "nbformat_minor": 5
}