{
 "cells": [
  {
   "cell_type": "markdown",
   "id": "98380cd3",
   "metadata": {
    "papermill": {
     "duration": 0.033013,
     "end_time": "2021-10-04T00:23:13.503254",
     "exception": false,
     "start_time": "2021-10-04T00:23:13.470241",
     "status": "completed"
    },
    "tags": []
   },
   "source": [
    "# Distinguish Your Own Digits (DYOD)"
   ]
  },
  {
   "cell_type": "markdown",
   "id": "ef31240d",
   "metadata": {
    "papermill": {
     "duration": 0.027953,
     "end_time": "2021-10-04T00:23:13.558672",
     "exception": false,
     "start_time": "2021-10-04T00:23:13.530719",
     "status": "completed"
    },
    "tags": []
   },
   "source": [
    "You are going to write a classifier that distinguishes between the number 3 and number 8."
   ]
  },
  {
   "cell_type": "code",
   "execution_count": 1,
   "id": "b15c8646",
   "metadata": {
    "execution": {
     "iopub.execute_input": "2021-10-04T00:23:13.623717Z",
     "iopub.status.busy": "2021-10-04T00:23:13.623089Z",
     "iopub.status.idle": "2021-10-04T00:23:13.634069Z",
     "shell.execute_reply": "2021-10-04T00:23:13.633558Z"
    },
    "papermill": {
     "duration": 0.048915,
     "end_time": "2021-10-04T00:23:13.634197",
     "exception": false,
     "start_time": "2021-10-04T00:23:13.585282",
     "status": "completed"
    },
    "tags": []
   },
   "outputs": [],
   "source": [
    "%load_ext autoreload\n",
    "%autoreload 2"
   ]
  },
  {
   "cell_type": "code",
   "execution_count": 2,
   "id": "22ef38dc",
   "metadata": {
    "execution": {
     "iopub.execute_input": "2021-10-04T00:23:13.701724Z",
     "iopub.status.busy": "2021-10-04T00:23:13.701067Z",
     "iopub.status.idle": "2021-10-04T00:23:14.267405Z",
     "shell.execute_reply": "2021-10-04T00:23:14.266810Z"
    },
    "papermill": {
     "duration": 0.603182,
     "end_time": "2021-10-04T00:23:14.267540",
     "exception": false,
     "start_time": "2021-10-04T00:23:13.664358",
     "status": "completed"
    },
    "tags": []
   },
   "outputs": [],
   "source": [
    "%matplotlib inline\n",
    "import numpy as np\n",
    "import matplotlib.pyplot as plt\n",
    "import pandas as pd"
   ]
  },
  {
   "cell_type": "markdown",
   "id": "ba036198",
   "metadata": {
    "papermill": {
     "duration": 0.0301,
     "end_time": "2021-10-04T00:23:14.326480",
     "exception": false,
     "start_time": "2021-10-04T00:23:14.296380",
     "status": "completed"
    },
    "tags": []
   },
   "source": [
    "From the command line run `pip install mnist`. This is a library that will help you bring down the mnist dataset. If you run this from a notebook, you need to put  `!pip install mnist` in a cell by itself."
   ]
  },
  {
   "cell_type": "code",
   "execution_count": 3,
   "id": "bb6ad8a1",
   "metadata": {
    "execution": {
     "iopub.execute_input": "2021-10-04T00:23:14.392907Z",
     "iopub.status.busy": "2021-10-04T00:23:14.390120Z",
     "iopub.status.idle": "2021-10-04T00:23:17.019873Z",
     "shell.execute_reply": "2021-10-04T00:23:17.020370Z"
    },
    "papermill": {
     "duration": 2.665405,
     "end_time": "2021-10-04T00:23:17.020522",
     "exception": false,
     "start_time": "2021-10-04T00:23:14.355117",
     "status": "completed"
    },
    "tags": []
   },
   "outputs": [
    {
     "name": "stdout",
     "output_type": "stream",
     "text": [
      "Collecting mnist\r\n"
     ]
    },
    {
     "name": "stdout",
     "output_type": "stream",
     "text": [
      "  Downloading mnist-0.2.2-py2.py3-none-any.whl (3.5 kB)\r\n",
      "Requirement already satisfied: numpy in /opt/hostedtoolcache/Python/3.6.15/x64/lib/python3.6/site-packages (from mnist) (1.19.5)\r\n"
     ]
    },
    {
     "name": "stdout",
     "output_type": "stream",
     "text": [
      "Installing collected packages: mnist\r\n"
     ]
    },
    {
     "name": "stdout",
     "output_type": "stream",
     "text": [
      "Successfully installed mnist-0.2.2\r\n"
     ]
    }
   ],
   "source": [
    "!pip install mnist"
   ]
  },
  {
   "cell_type": "markdown",
   "id": "69df9c9a",
   "metadata": {
    "papermill": {
     "duration": 0.029304,
     "end_time": "2021-10-04T00:23:17.078987",
     "exception": false,
     "start_time": "2021-10-04T00:23:17.049683",
     "status": "completed"
    },
    "tags": []
   },
   "source": [
    "## Preparing the Data"
   ]
  },
  {
   "cell_type": "code",
   "execution_count": 4,
   "id": "7f69d806",
   "metadata": {
    "execution": {
     "iopub.execute_input": "2021-10-04T00:23:17.146113Z",
     "iopub.status.busy": "2021-10-04T00:23:17.145497Z",
     "iopub.status.idle": "2021-10-04T00:23:17.160643Z",
     "shell.execute_reply": "2021-10-04T00:23:17.160131Z"
    },
    "papermill": {
     "duration": 0.049664,
     "end_time": "2021-10-04T00:23:17.160747",
     "exception": false,
     "start_time": "2021-10-04T00:23:17.111083",
     "status": "completed"
    },
    "tags": []
   },
   "outputs": [],
   "source": [
    "import mnist"
   ]
  },
  {
   "cell_type": "code",
   "execution_count": 5,
   "id": "a411e44f",
   "metadata": {
    "execution": {
     "iopub.execute_input": "2021-10-04T00:23:17.228658Z",
     "iopub.status.busy": "2021-10-04T00:23:17.227922Z",
     "iopub.status.idle": "2021-10-04T00:23:17.782274Z",
     "shell.execute_reply": "2021-10-04T00:23:17.782787Z"
    },
    "papermill": {
     "duration": 0.589464,
     "end_time": "2021-10-04T00:23:17.782974",
     "exception": false,
     "start_time": "2021-10-04T00:23:17.193510",
     "status": "completed"
    },
    "tags": []
   },
   "outputs": [],
   "source": [
    "train_images = mnist.train_images()\n",
    "train_labels = mnist.train_labels()"
   ]
  },
  {
   "cell_type": "code",
   "execution_count": 6,
   "id": "dceab3a5",
   "metadata": {
    "execution": {
     "iopub.execute_input": "2021-10-04T00:23:17.847909Z",
     "iopub.status.busy": "2021-10-04T00:23:17.847289Z",
     "iopub.status.idle": "2021-10-04T00:23:17.863770Z",
     "shell.execute_reply": "2021-10-04T00:23:17.863189Z"
    },
    "papermill": {
     "duration": 0.051534,
     "end_time": "2021-10-04T00:23:17.863913",
     "exception": false,
     "start_time": "2021-10-04T00:23:17.812379",
     "status": "completed"
    },
    "tags": []
   },
   "outputs": [
    {
     "data": {
      "text/plain": [
       "((60000, 28, 28), (60000,))"
      ]
     },
     "execution_count": 6,
     "metadata": {},
     "output_type": "execute_result"
    }
   ],
   "source": [
    "train_images.shape, train_labels.shape"
   ]
  },
  {
   "cell_type": "code",
   "execution_count": 7,
   "id": "f50dc2bb",
   "metadata": {
    "execution": {
     "iopub.execute_input": "2021-10-04T00:23:17.928285Z",
     "iopub.status.busy": "2021-10-04T00:23:17.927613Z",
     "iopub.status.idle": "2021-10-04T00:23:18.087748Z",
     "shell.execute_reply": "2021-10-04T00:23:18.087121Z"
    },
    "papermill": {
     "duration": 0.194013,
     "end_time": "2021-10-04T00:23:18.087895",
     "exception": false,
     "start_time": "2021-10-04T00:23:17.893882",
     "status": "completed"
    },
    "tags": []
   },
   "outputs": [],
   "source": [
    "test_images = mnist.test_images()\n",
    "test_labels = mnist.test_labels()"
   ]
  },
  {
   "cell_type": "code",
   "execution_count": 8,
   "id": "fc38cf1b",
   "metadata": {
    "execution": {
     "iopub.execute_input": "2021-10-04T00:23:18.154597Z",
     "iopub.status.busy": "2021-10-04T00:23:18.153952Z",
     "iopub.status.idle": "2021-10-04T00:23:18.168984Z",
     "shell.execute_reply": "2021-10-04T00:23:18.168376Z"
    },
    "papermill": {
     "duration": 0.049043,
     "end_time": "2021-10-04T00:23:18.169099",
     "exception": false,
     "start_time": "2021-10-04T00:23:18.120056",
     "status": "completed"
    },
    "tags": []
   },
   "outputs": [
    {
     "data": {
      "text/plain": [
       "((10000, 28, 28), (10000,))"
      ]
     },
     "execution_count": 8,
     "metadata": {},
     "output_type": "execute_result"
    }
   ],
   "source": [
    "test_images.shape, test_labels.shape"
   ]
  },
  {
   "cell_type": "code",
   "execution_count": 9,
   "id": "f9ed8fe0",
   "metadata": {
    "execution": {
     "iopub.execute_input": "2021-10-04T00:23:18.234287Z",
     "iopub.status.busy": "2021-10-04T00:23:18.233676Z",
     "iopub.status.idle": "2021-10-04T00:23:18.422277Z",
     "shell.execute_reply": "2021-10-04T00:23:18.421710Z"
    },
    "papermill": {
     "duration": 0.22128,
     "end_time": "2021-10-04T00:23:18.422398",
     "exception": false,
     "start_time": "2021-10-04T00:23:18.201118",
     "status": "completed"
    },
    "tags": []
   },
   "outputs": [
    {
     "name": "stdout",
     "output_type": "stream",
     "text": [
      "2\n"
     ]
    },
    {
     "data": {
      "text/plain": [
       "<matplotlib.image.AxesImage at 0x7f812c199780>"
      ]
     },
     "execution_count": 9,
     "metadata": {},
     "output_type": "execute_result"
    },
    {
     "data": {
      "image/png": "[encoded data removed]",
      "text/plain": [
       "<Figure size 432x288 with 1 Axes>"
      ]
     },
     "metadata": {
      "needs_background": "light"
     },
     "output_type": "display_data"
    }
   ],
   "source": [
    "image_index = 7776 # You may select anything up to 60,000\n",
    "print(train_labels[image_index]) \n",
    "plt.imshow(train_images[image_index], cmap='Greys')"
   ]
  },
  {
   "cell_type": "markdown",
   "id": "a8d2388d",
   "metadata": {
    "papermill": {
     "duration": 0.0319,
     "end_time": "2021-10-04T00:23:18.485598",
     "exception": false,
     "start_time": "2021-10-04T00:23:18.453698",
     "status": "completed"
    },
    "tags": []
   },
   "source": [
    "## Filter data to get 3 and 8 out"
   ]
  },
  {
   "cell_type": "code",
   "execution_count": 10,
   "id": "776f7fc7",
   "metadata": {
    "execution": {
     "iopub.execute_input": "2021-10-04T00:23:18.568014Z",
     "iopub.status.busy": "2021-10-04T00:23:18.556844Z",
     "iopub.status.idle": "2021-10-04T00:23:18.579169Z",
     "shell.execute_reply": "2021-10-04T00:23:18.578580Z"
    },
    "papermill": {
     "duration": 0.062543,
     "end_time": "2021-10-04T00:23:18.579286",
     "exception": false,
     "start_time": "2021-10-04T00:23:18.516743",
     "status": "completed"
    },
    "tags": []
   },
   "outputs": [],
   "source": [
    "train_filter = np.where((train_labels == 3 ) | (train_labels == 8))\n",
    "test_filter = np.where((test_labels == 3) | (test_labels == 8))\n",
    "X_train, y_train = train_images[train_filter], train_labels[train_filter]\n",
    "X_test, y_test = test_images[test_filter], test_labels[test_filter]"
   ]
  },
  {
   "cell_type": "markdown",
   "id": "948f0b7e",
   "metadata": {
    "papermill": {
     "duration": 0.033768,
     "end_time": "2021-10-04T00:23:18.653771",
     "exception": false,
     "start_time": "2021-10-04T00:23:18.620003",
     "status": "completed"
    },
    "tags": []
   },
   "source": [
    "We normalize the pizel values in the 0 to 1 range"
   ]
  },
  {
   "cell_type": "code",
   "execution_count": 11,
   "id": "ee4c2166",
   "metadata": {
    "execution": {
     "iopub.execute_input": "2021-10-04T00:23:18.726686Z",
     "iopub.status.busy": "2021-10-04T00:23:18.725699Z",
     "iopub.status.idle": "2021-10-04T00:23:18.781294Z",
     "shell.execute_reply": "2021-10-04T00:23:18.781835Z"
    },
    "papermill": {
     "duration": 0.096021,
     "end_time": "2021-10-04T00:23:18.781997",
     "exception": false,
     "start_time": "2021-10-04T00:23:18.685976",
     "status": "completed"
    },
    "tags": []
   },
   "outputs": [],
   "source": [
    "X_train = X_train/255.\n",
    "X_test = X_test/255."
   ]
  },
  {
   "cell_type": "markdown",
   "id": "ddcf4fab",
   "metadata": {
    "papermill": {
     "duration": 0.031264,
     "end_time": "2021-10-04T00:23:18.845433",
     "exception": false,
     "start_time": "2021-10-04T00:23:18.814169",
     "status": "completed"
    },
    "tags": []
   },
   "source": [
    "And setup the labels as 1 (when the digit is 3) and 0 (when the digit is 8)"
   ]
  },
  {
   "cell_type": "code",
   "execution_count": 12,
   "id": "7dc908f2",
   "metadata": {
    "execution": {
     "iopub.execute_input": "2021-10-04T00:23:18.920056Z",
     "iopub.status.busy": "2021-10-04T00:23:18.919432Z",
     "iopub.status.idle": "2021-10-04T00:23:18.932218Z",
     "shell.execute_reply": "2021-10-04T00:23:18.932834Z"
    },
    "papermill": {
     "duration": 0.054979,
     "end_time": "2021-10-04T00:23:18.933027",
     "exception": false,
     "start_time": "2021-10-04T00:23:18.878048",
     "status": "completed"
    },
    "tags": []
   },
   "outputs": [],
   "source": [
    "y_train = 1*(y_train==3)\n",
    "y_test = 1*(y_test==3)"
   ]
  },
  {
   "cell_type": "code",
   "execution_count": 13,
   "id": "01e4e969",
   "metadata": {
    "execution": {
     "iopub.execute_input": "2021-10-04T00:23:18.997045Z",
     "iopub.status.busy": "2021-10-04T00:23:18.996339Z",
     "iopub.status.idle": "2021-10-04T00:23:19.010042Z",
     "shell.execute_reply": "2021-10-04T00:23:19.010579Z"
    },
    "papermill": {
     "duration": 0.048274,
     "end_time": "2021-10-04T00:23:19.010734",
     "exception": false,
     "start_time": "2021-10-04T00:23:18.962460",
     "status": "completed"
    },
    "tags": []
   },
   "outputs": [
    {
     "data": {
      "text/plain": [
       "((11982, 28, 28), (1984, 28, 28))"
      ]
     },
     "execution_count": 13,
     "metadata": {},
     "output_type": "execute_result"
    }
   ],
   "source": [
    "X_train.shape, X_test.shape"
   ]
  },
  {
   "cell_type": "markdown",
   "id": "5ccf3f85",
   "metadata": {
    "papermill": {
     "duration": 0.031786,
     "end_time": "2021-10-04T00:23:19.073634",
     "exception": false,
     "start_time": "2021-10-04T00:23:19.041848",
     "status": "completed"
    },
    "tags": []
   },
   "source": [
    "We reshape the data to flatten the image pixels into a set of features or co-variates:"
   ]
  },
  {
   "cell_type": "code",
   "execution_count": 14,
   "id": "5286a4a3",
   "metadata": {
    "execution": {
     "iopub.execute_input": "2021-10-04T00:23:19.137941Z",
     "iopub.status.busy": "2021-10-04T00:23:19.137320Z",
     "iopub.status.idle": "2021-10-04T00:23:19.151297Z",
     "shell.execute_reply": "2021-10-04T00:23:19.151909Z"
    },
    "papermill": {
     "duration": 0.047972,
     "end_time": "2021-10-04T00:23:19.152029",
     "exception": false,
     "start_time": "2021-10-04T00:23:19.104057",
     "status": "completed"
    },
    "tags": []
   },
   "outputs": [
    {
     "data": {
      "text/plain": [
       "((11982, 784), (1984, 784))"
      ]
     },
     "execution_count": 14,
     "metadata": {},
     "output_type": "execute_result"
    }
   ],
   "source": [
    "X_train = X_train.reshape(X_train.shape[0], -1)\n",
    "X_test = X_test.reshape(X_test.shape[0], -1)\n",
    "X_train.shape, X_test.shape"
   ]
  },
  {
   "cell_type": "code",
   "execution_count": 15,
   "id": "73c5f88a",
   "metadata": {
    "execution": {
     "iopub.execute_input": "2021-10-04T00:23:19.218917Z",
     "iopub.status.busy": "2021-10-04T00:23:19.215887Z",
     "iopub.status.idle": "2021-10-04T00:23:19.237359Z",
     "shell.execute_reply": "2021-10-04T00:23:19.237862Z"
    },
    "papermill": {
     "duration": 0.055896,
     "end_time": "2021-10-04T00:23:19.237985",
     "exception": false,
     "start_time": "2021-10-04T00:23:19.182089",
     "status": "completed"
    },
    "tags": []
   },
   "outputs": [],
   "source": [
    "#Impoting functions from 'Kudzu'\n",
    "from kudzu.model import Model\n",
    "from kudzu.train import Learner\n",
    "from kudzu.optim import GD\n",
    "from kudzu.data import Data, Sampler,Dataloader\n",
    "\n",
    "from kudzu.callbacks import AccCallback\n",
    "from kudzu.callbacks import ClfCallback\n",
    "\n",
    "from kudzu.loss import MSE\n",
    "\n",
    "from kudzu.layer import Sigmoid,Relu\n",
    "from kudzu.layer import Affine"
   ]
  },
  {
   "cell_type": "markdown",
   "id": "bc01172a",
   "metadata": {
    "papermill": {
     "duration": 0.028873,
     "end_time": "2021-10-04T00:23:19.296674",
     "exception": false,
     "start_time": "2021-10-04T00:23:19.267801",
     "status": "completed"
    },
    "tags": []
   },
   "source": [
    "### Let us create a `Config` class, to store important parameters. \n",
    "This class essentially plays the role of a dictionary."
   ]
  },
  {
   "cell_type": "code",
   "execution_count": 16,
   "id": "978281aa",
   "metadata": {
    "execution": {
     "iopub.execute_input": "2021-10-04T00:23:19.360992Z",
     "iopub.status.busy": "2021-10-04T00:23:19.360290Z",
     "iopub.status.idle": "2021-10-04T00:23:19.371972Z",
     "shell.execute_reply": "2021-10-04T00:23:19.372479Z"
    },
    "papermill": {
     "duration": 0.046432,
     "end_time": "2021-10-04T00:23:19.372639",
     "exception": false,
     "start_time": "2021-10-04T00:23:19.326207",
     "status": "completed"
    },
    "tags": []
   },
   "outputs": [],
   "source": [
    "class Config:\n",
    "    pass\n",
    "config = Config()\n",
    "config.lr = 0.001\n",
    "config.num_epochs = 250\n",
    "config.bs = 50"
   ]
  },
  {
   "cell_type": "markdown",
   "id": "1385fa59",
   "metadata": {
    "papermill": {
     "duration": 0.029898,
     "end_time": "2021-10-04T00:23:19.433588",
     "exception": false,
     "start_time": "2021-10-04T00:23:19.403690",
     "status": "completed"
    },
    "tags": []
   },
   "source": [
    "### Running Models with the Training data\n",
    "Details about the network layers:\n",
    "- A first affine layer has 784 inputs and does 100 affine transforms. These are followed by a Relu\n",
    "- A second affine layer has 100 inputs from the 100 activations of the past layer, and does 100 affine transforms. These are followed by a Relu\n",
    "- A third affine layer has 100 activations and does 2 affine transformations to create an embedding for visualization. There is no non-linearity here.\n",
    "- A final \"logistic regression\" which has an affine transform from 2 inputs to 1 output, which is squeezed through a sigmoid.\n"
   ]
  },
  {
   "cell_type": "code",
   "execution_count": 17,
   "id": "2b9c66db",
   "metadata": {
    "execution": {
     "iopub.execute_input": "2021-10-04T00:23:19.496899Z",
     "iopub.status.busy": "2021-10-04T00:23:19.496258Z",
     "iopub.status.idle": "2021-10-04T00:23:19.509900Z",
     "shell.execute_reply": "2021-10-04T00:23:19.510533Z"
    },
    "papermill": {
     "duration": 0.047651,
     "end_time": "2021-10-04T00:23:19.510652",
     "exception": false,
     "start_time": "2021-10-04T00:23:19.463001",
     "status": "completed"
    },
    "tags": []
   },
   "outputs": [],
   "source": [
    "data = Data(X_train, y_train.reshape(-1,1))\n",
    "sampler = Sampler(data, config.bs, shuffle=True)\n",
    "\n",
    "dl = Dataloader(data, sampler)\n",
    "\n",
    "opt = GD(config.lr)\n",
    "loss = MSE()"
   ]
  },
  {
   "cell_type": "code",
   "execution_count": 18,
   "id": "b275e4c2",
   "metadata": {
    "execution": {
     "iopub.execute_input": "2021-10-04T00:23:19.572871Z",
     "iopub.status.busy": "2021-10-04T00:23:19.572178Z",
     "iopub.status.idle": "2021-10-04T00:23:19.583508Z",
     "shell.execute_reply": "2021-10-04T00:23:19.584120Z"
    },
    "papermill": {
     "duration": 0.043947,
     "end_time": "2021-10-04T00:23:19.584253",
     "exception": false,
     "start_time": "2021-10-04T00:23:19.540306",
     "status": "completed"
    },
    "tags": []
   },
   "outputs": [],
   "source": [
    "training_data_x = X_train\n",
    "testing_data_x = X_test\n",
    "training_data_y = y_train.reshape(-1,1)\n",
    "testing_data_y = y_test.reshape(-1,1)"
   ]
  },
  {
   "cell_type": "code",
   "execution_count": 19,
   "id": "76951160",
   "metadata": {
    "execution": {
     "iopub.execute_input": "2021-10-04T00:23:19.654401Z",
     "iopub.status.busy": "2021-10-04T00:23:19.653759Z",
     "iopub.status.idle": "2021-10-04T00:23:19.669204Z",
     "shell.execute_reply": "2021-10-04T00:23:19.669909Z"
    },
    "papermill": {
     "duration": 0.055142,
     "end_time": "2021-10-04T00:23:19.670024",
     "exception": false,
     "start_time": "2021-10-04T00:23:19.614882",
     "status": "completed"
    },
    "tags": []
   },
   "outputs": [
    {
     "name": "stdout",
     "output_type": "stream",
     "text": [
      "xavier\n",
      "xavier\n",
      "xavier\n",
      "xavier\n",
      "xavier\n"
     ]
    }
   ],
   "source": [
    "layers = [Affine(\"first\", 784, 100), Relu(\"first\"), Affine(\"second\", 100, 100), Relu(\"second\"), Affine(\"third\", 100, 2), Affine(\"last\", 2, 1), Sigmoid(\"last\")]\n",
    "model_nn = Model(layers)\n",
    "model_lr = Model([Affine(\"logits\", 784, 1), Sigmoid(\"sigmoid\")])"
   ]
  },
  {
   "cell_type": "code",
   "execution_count": 20,
   "id": "6eede77a",
   "metadata": {
    "execution": {
     "iopub.execute_input": "2021-10-04T00:23:19.738171Z",
     "iopub.status.busy": "2021-10-04T00:23:19.737563Z",
     "iopub.status.idle": "2021-10-04T00:23:19.749364Z",
     "shell.execute_reply": "2021-10-04T00:23:19.749880Z"
    },
    "papermill": {
     "duration": 0.047281,
     "end_time": "2021-10-04T00:23:19.750051",
     "exception": false,
     "start_time": "2021-10-04T00:23:19.702770",
     "status": "completed"
    },
    "tags": []
   },
   "outputs": [],
   "source": [
    "nn_learner = Learner(loss, model_nn, opt, config.num_epochs)\n",
    "acc_nn = ClfCallback(nn_learner, config.bs, training_data_x , testing_data_x, training_data_y, testing_data_y)\n",
    "nn_learner.set_callbacks([acc_nn])"
   ]
  },
  {
   "cell_type": "code",
   "execution_count": 21,
   "id": "877b6cc7",
   "metadata": {
    "execution": {
     "iopub.execute_input": "2021-10-04T00:23:19.814951Z",
     "iopub.status.busy": "2021-10-04T00:23:19.814337Z",
     "iopub.status.idle": "2021-10-04T00:23:19.826256Z",
     "shell.execute_reply": "2021-10-04T00:23:19.826779Z"
    },
    "papermill": {
     "duration": 0.047046,
     "end_time": "2021-10-04T00:23:19.826912",
     "exception": false,
     "start_time": "2021-10-04T00:23:19.779866",
     "status": "completed"
    },
    "tags": []
   },
   "outputs": [],
   "source": [
    "lr_learner = Learner(loss, model_lr, opt, config.num_epochs)\n",
    "acc_lr = ClfCallback(lr_learner, config.bs, training_data_x , testing_data_x, training_data_y, testing_data_y)\n",
    "lr_learner.set_callbacks([acc_lr])"
   ]
  },
  {
   "cell_type": "code",
   "execution_count": 22,
   "id": "d9b133c3",
   "metadata": {
    "execution": {
     "iopub.execute_input": "2021-10-04T00:23:19.891724Z",
     "iopub.status.busy": "2021-10-04T00:23:19.891070Z",
     "iopub.status.idle": "2021-10-04T00:25:41.731251Z",
     "shell.execute_reply": "2021-10-04T00:25:41.732168Z"
    },
    "papermill": {
     "duration": 141.874404,
     "end_time": "2021-10-04T00:25:41.732343",
     "exception": false,
     "start_time": "2021-10-04T00:23:19.857939",
     "status": "completed"
    },
    "tags": []
   },
   "outputs": [
    {
     "name": "stdout",
     "output_type": "stream",
     "text": [
      "Epoch 0, Loss 0.2515\n",
      "Training Accuracy: 0.5127, Testing Accuracy: 0.5096\n",
      "\n"
     ]
    },
    {
     "name": "stdout",
     "output_type": "stream",
     "text": [
      "Epoch 10, Loss 0.2308\n",
      "Training Accuracy: 0.7752, Testing Accuracy: 0.7626\n",
      "\n"
     ]
    },
    {
     "name": "stdout",
     "output_type": "stream",
     "text": [
      "Epoch 20, Loss 0.161\n",
      "Training Accuracy: 0.8809, Testing Accuracy: 0.8891\n",
      "\n"
     ]
    },
    {
     "name": "stdout",
     "output_type": "stream",
     "text": [
      "Epoch 30, Loss 0.0807\n",
      "Training Accuracy: 0.9217, Testing Accuracy: 0.9355\n",
      "\n"
     ]
    },
    {
     "name": "stdout",
     "output_type": "stream",
     "text": [
      "Epoch 40, Loss 0.0549\n",
      "Training Accuracy: 0.9413, Testing Accuracy: 0.9521\n",
      "\n"
     ]
    },
    {
     "name": "stdout",
     "output_type": "stream",
     "text": [
      "Epoch 50, Loss 0.0446\n",
      "Training Accuracy: 0.9495, Testing Accuracy: 0.9627\n",
      "\n"
     ]
    },
    {
     "name": "stdout",
     "output_type": "stream",
     "text": [
      "Epoch 60, Loss 0.0391\n",
      "Training Accuracy: 0.9546, Testing Accuracy: 0.9672\n",
      "\n"
     ]
    },
    {
     "name": "stdout",
     "output_type": "stream",
     "text": [
      "Epoch 70, Loss 0.0357\n",
      "Training Accuracy: 0.9587, Testing Accuracy: 0.9677\n",
      "\n"
     ]
    },
    {
     "name": "stdout",
     "output_type": "stream",
     "text": [
      "Epoch 80, Loss 0.0332\n",
      "Training Accuracy: 0.9610, Testing Accuracy: 0.9682\n",
      "\n"
     ]
    },
    {
     "name": "stdout",
     "output_type": "stream",
     "text": [
      "Epoch 90, Loss 0.0313\n",
      "Training Accuracy: 0.9635, Testing Accuracy: 0.9677\n",
      "\n"
     ]
    },
    {
     "name": "stdout",
     "output_type": "stream",
     "text": [
      "Epoch 100, Loss 0.0299\n",
      "Training Accuracy: 0.9655, Testing Accuracy: 0.9688\n",
      "\n"
     ]
    },
    {
     "name": "stdout",
     "output_type": "stream",
     "text": [
      "Epoch 110, Loss 0.0286\n",
      "Training Accuracy: 0.9668, Testing Accuracy: 0.9688\n",
      "\n"
     ]
    },
    {
     "name": "stdout",
     "output_type": "stream",
     "text": [
      "Epoch 120, Loss 0.0276\n",
      "Training Accuracy: 0.9679, Testing Accuracy: 0.9688\n",
      "\n"
     ]
    },
    {
     "name": "stdout",
     "output_type": "stream",
     "text": [
      "Epoch 130, Loss 0.0267\n",
      "Training Accuracy: 0.9693, Testing Accuracy: 0.9698\n",
      "\n"
     ]
    },
    {
     "name": "stdout",
     "output_type": "stream",
     "text": [
      "Epoch 140, Loss 0.0259\n",
      "Training Accuracy: 0.9695, Testing Accuracy: 0.9693\n",
      "\n"
     ]
    },
    {
     "name": "stdout",
     "output_type": "stream",
     "text": [
      "Epoch 150, Loss 0.0252\n",
      "Training Accuracy: 0.9705, Testing Accuracy: 0.9698\n",
      "\n"
     ]
    },
    {
     "name": "stdout",
     "output_type": "stream",
     "text": [
      "Epoch 160, Loss 0.0245\n",
      "Training Accuracy: 0.9714, Testing Accuracy: 0.9703\n",
      "\n"
     ]
    },
    {
     "name": "stdout",
     "output_type": "stream",
     "text": [
      "Epoch 170, Loss 0.0239\n",
      "Training Accuracy: 0.9716, Testing Accuracy: 0.9713\n",
      "\n"
     ]
    },
    {
     "name": "stdout",
     "output_type": "stream",
     "text": [
      "Epoch 180, Loss 0.0234\n",
      "Training Accuracy: 0.9725, Testing Accuracy: 0.9703\n",
      "\n"
     ]
    },
    {
     "name": "stdout",
     "output_type": "stream",
     "text": [
      "Epoch 190, Loss 0.0229\n",
      "Training Accuracy: 0.9735, Testing Accuracy: 0.9713\n",
      "\n"
     ]
    },
    {
     "name": "stdout",
     "output_type": "stream",
     "text": [
      "Epoch 200, Loss 0.0224\n",
      "Training Accuracy: 0.9740, Testing Accuracy: 0.9718\n",
      "\n"
     ]
    },
    {
     "name": "stdout",
     "output_type": "stream",
     "text": [
      "Epoch 210, Loss 0.022\n",
      "Training Accuracy: 0.9750, Testing Accuracy: 0.9723\n",
      "\n"
     ]
    },
    {
     "name": "stdout",
     "output_type": "stream",
     "text": [
      "Epoch 220, Loss 0.0215\n",
      "Training Accuracy: 0.9753, Testing Accuracy: 0.9723\n",
      "\n"
     ]
    },
    {
     "name": "stdout",
     "output_type": "stream",
     "text": [
      "Epoch 230, Loss 0.0211\n",
      "Training Accuracy: 0.9755, Testing Accuracy: 0.9723\n",
      "\n"
     ]
    },
    {
     "name": "stdout",
     "output_type": "stream",
     "text": [
      "Epoch 240, Loss 0.0207\n",
      "Training Accuracy: 0.9763, Testing Accuracy: 0.9723\n",
      "\n"
     ]
    },
    {
     "data": {
      "text/plain": [
       "0.027063888114945738"
      ]
     },
     "execution_count": 22,
     "metadata": {},
     "output_type": "execute_result"
    }
   ],
   "source": [
    "nn_learner.train_loop(dl)"
   ]
  },
  {
   "cell_type": "code",
   "execution_count": 23,
   "id": "e0163366",
   "metadata": {
    "execution": {
     "iopub.execute_input": "2021-10-04T00:25:41.827196Z",
     "iopub.status.busy": "2021-10-04T00:25:41.826494Z",
     "iopub.status.idle": "2021-10-04T00:26:01.833292Z",
     "shell.execute_reply": "2021-10-04T00:26:01.834308Z"
    },
    "papermill": {
     "duration": 20.060783,
     "end_time": "2021-10-04T00:26:01.834486",
     "exception": false,
     "start_time": "2021-10-04T00:25:41.773703",
     "status": "completed"
    },
    "tags": []
   },
   "outputs": [
    {
     "name": "stdout",
     "output_type": "stream",
     "text": [
      "Epoch 0, Loss 0.236\n",
      "Training Accuracy: 0.7315, Testing Accuracy: 0.7429\n",
      "\n"
     ]
    },
    {
     "name": "stdout",
     "output_type": "stream",
     "text": [
      "Epoch 10, Loss 0.1005\n",
      "Training Accuracy: 0.9164, Testing Accuracy: 0.9269\n",
      "\n"
     ]
    },
    {
     "name": "stdout",
     "output_type": "stream",
     "text": [
      "Epoch 20, Loss 0.078\n",
      "Training Accuracy: 0.9319, Testing Accuracy: 0.9375\n",
      "\n"
     ]
    },
    {
     "name": "stdout",
     "output_type": "stream",
     "text": [
      "Epoch 30, Loss 0.0675\n",
      "Training Accuracy: 0.9395, Testing Accuracy: 0.9446\n",
      "\n"
     ]
    },
    {
     "name": "stdout",
     "output_type": "stream",
     "text": [
      "Epoch 40, Loss 0.0612\n",
      "Training Accuracy: 0.9433, Testing Accuracy: 0.9491\n",
      "\n"
     ]
    },
    {
     "name": "stdout",
     "output_type": "stream",
     "text": [
      "Epoch 50, Loss 0.0569\n",
      "Training Accuracy: 0.9455, Testing Accuracy: 0.9516\n",
      "\n"
     ]
    },
    {
     "name": "stdout",
     "output_type": "stream",
     "text": [
      "Epoch 60, Loss 0.0536\n",
      "Training Accuracy: 0.9471, Testing Accuracy: 0.9556\n",
      "\n"
     ]
    },
    {
     "name": "stdout",
     "output_type": "stream",
     "text": [
      "Epoch 70, Loss 0.0512\n",
      "Training Accuracy: 0.9488, Testing Accuracy: 0.9582\n",
      "\n"
     ]
    },
    {
     "name": "stdout",
     "output_type": "stream",
     "text": [
      "Epoch 80, Loss 0.0492\n",
      "Training Accuracy: 0.9497, Testing Accuracy: 0.9597\n",
      "\n"
     ]
    },
    {
     "name": "stdout",
     "output_type": "stream",
     "text": [
      "Epoch 90, Loss 0.0475\n",
      "Training Accuracy: 0.9507, Testing Accuracy: 0.9612\n",
      "\n"
     ]
    },
    {
     "name": "stdout",
     "output_type": "stream",
     "text": [
      "Epoch 100, Loss 0.0461\n",
      "Training Accuracy: 0.9514, Testing Accuracy: 0.9617\n",
      "\n"
     ]
    },
    {
     "name": "stdout",
     "output_type": "stream",
     "text": [
      "Epoch 110, Loss 0.0449\n",
      "Training Accuracy: 0.9531, Testing Accuracy: 0.9617\n",
      "\n"
     ]
    },
    {
     "name": "stdout",
     "output_type": "stream",
     "text": [
      "Epoch 120, Loss 0.0439\n",
      "Training Accuracy: 0.9536, Testing Accuracy: 0.9622\n",
      "\n"
     ]
    },
    {
     "name": "stdout",
     "output_type": "stream",
     "text": [
      "Epoch 130, Loss 0.043\n",
      "Training Accuracy: 0.9550, Testing Accuracy: 0.9622\n",
      "\n"
     ]
    },
    {
     "name": "stdout",
     "output_type": "stream",
     "text": [
      "Epoch 140, Loss 0.0421\n",
      "Training Accuracy: 0.9557, Testing Accuracy: 0.9627\n",
      "\n"
     ]
    },
    {
     "name": "stdout",
     "output_type": "stream",
     "text": [
      "Epoch 150, Loss 0.0414\n",
      "Training Accuracy: 0.9563, Testing Accuracy: 0.9637\n",
      "\n"
     ]
    },
    {
     "name": "stdout",
     "output_type": "stream",
     "text": [
      "Epoch 160, Loss 0.0407\n",
      "Training Accuracy: 0.9568, Testing Accuracy: 0.9642\n",
      "\n"
     ]
    },
    {
     "name": "stdout",
     "output_type": "stream",
     "text": [
      "Epoch 170, Loss 0.0401\n",
      "Training Accuracy: 0.9572, Testing Accuracy: 0.9647\n",
      "\n"
     ]
    },
    {
     "name": "stdout",
     "output_type": "stream",
     "text": [
      "Epoch 180, Loss 0.0396\n",
      "Training Accuracy: 0.9574, Testing Accuracy: 0.9652\n",
      "\n"
     ]
    },
    {
     "name": "stdout",
     "output_type": "stream",
     "text": [
      "Epoch 190, Loss 0.0391\n",
      "Training Accuracy: 0.9583, Testing Accuracy: 0.9647\n",
      "\n"
     ]
    },
    {
     "name": "stdout",
     "output_type": "stream",
     "text": [
      "Epoch 200, Loss 0.0386\n",
      "Training Accuracy: 0.9588, Testing Accuracy: 0.9647\n",
      "\n"
     ]
    },
    {
     "name": "stdout",
     "output_type": "stream",
     "text": [
      "Epoch 210, Loss 0.0381\n",
      "Training Accuracy: 0.9591, Testing Accuracy: 0.9642\n",
      "\n"
     ]
    },
    {
     "name": "stdout",
     "output_type": "stream",
     "text": [
      "Epoch 220, Loss 0.0377\n",
      "Training Accuracy: 0.9594, Testing Accuracy: 0.9647\n",
      "\n"
     ]
    },
    {
     "name": "stdout",
     "output_type": "stream",
     "text": [
      "Epoch 230, Loss 0.0373\n",
      "Training Accuracy: 0.9599, Testing Accuracy: 0.9647\n",
      "\n"
     ]
    },
    {
     "name": "stdout",
     "output_type": "stream",
     "text": [
      "Epoch 240, Loss 0.037\n",
      "Training Accuracy: 0.9604, Testing Accuracy: 0.9647\n",
      "\n"
     ]
    },
    {
     "data": {
      "text/plain": [
       "0.06106167206182258"
      ]
     },
     "execution_count": 23,
     "metadata": {},
     "output_type": "execute_result"
    }
   ],
   "source": [
    "lr_learner.train_loop(dl)"
   ]
  },
  {
   "cell_type": "code",
   "execution_count": 24,
   "id": "ca410940",
   "metadata": {
    "execution": {
     "iopub.execute_input": "2021-10-04T00:26:01.944128Z",
     "iopub.status.busy": "2021-10-04T00:26:01.943334Z",
     "iopub.status.idle": "2021-10-04T00:26:02.231926Z",
     "shell.execute_reply": "2021-10-04T00:26:02.232442Z"
    },
    "papermill": {
     "duration": 0.346718,
     "end_time": "2021-10-04T00:26:02.232607",
     "exception": false,
     "start_time": "2021-10-04T00:26:01.885889",
     "status": "completed"
    },
    "tags": []
   },
   "outputs": [
    {
     "data": {
      "text/plain": [
       "<matplotlib.legend.Legend at 0x7f812bcff828>"
      ]
     },
     "execution_count": 24,
     "metadata": {},
     "output_type": "execute_result"
    },
    {
     "data": {
      "image/png": "[encoded data removed]",
      "text/plain": [
       "<Figure size 1080x720 with 1 Axes>"
      ]
     },
     "metadata": {
      "needs_background": "light"
     },
     "output_type": "display_data"
    }
   ],
   "source": [
    "#comparing the results of NN and LR\n",
    "plt.figure(figsize=(15,10))\n",
    "\n",
    "# Neural Network plots\n",
    "plt.plot(acc_nn.accuracies, 'r-', label = \"Training Accuracies - NN\")\n",
    "plt.plot(acc_nn.test_accuracies, 'g-', label = \"Testing Accuracies - NN\")\n",
    "\n",
    "# Logistic Regression plots\n",
    "plt.plot(acc_lr.accuracies, 'k-', label = \"Training Accuracies - LR\")\n",
    "plt.plot(acc_lr.test_accuracies, 'b-', label = \"Testing Accuracies - LR\")\n",
    "plt.legend()"
   ]
  },
  {
   "cell_type": "markdown",
   "id": "80dfb35c",
   "metadata": {
    "papermill": {
     "duration": 0.047413,
     "end_time": "2021-10-04T00:26:02.332378",
     "exception": false,
     "start_time": "2021-10-04T00:26:02.284965",
     "status": "completed"
    },
    "tags": []
   },
   "source": [
    "#### Plotting the outputs of this layer of the NN.\n"
   ]
  },
  {
   "cell_type": "code",
   "execution_count": 25,
   "id": "45eb2ff5",
   "metadata": {
    "execution": {
     "iopub.execute_input": "2021-10-04T00:26:02.438610Z",
     "iopub.status.busy": "2021-10-04T00:26:02.434504Z",
     "iopub.status.idle": "2021-10-04T00:26:02.461829Z",
     "shell.execute_reply": "2021-10-04T00:26:02.462693Z"
    },
    "papermill": {
     "duration": 0.082245,
     "end_time": "2021-10-04T00:26:02.462889",
     "exception": false,
     "start_time": "2021-10-04T00:26:02.380644",
     "status": "completed"
    },
    "tags": []
   },
   "outputs": [],
   "source": [
    "new_model = Model(layers[:-2])\n",
    "testing_plot = new_model(testing_data_x)"
   ]
  },
  {
   "cell_type": "code",
   "execution_count": 26,
   "id": "4c0a5485",
   "metadata": {
    "execution": {
     "iopub.execute_input": "2021-10-04T00:26:02.583101Z",
     "iopub.status.busy": "2021-10-04T00:26:02.582084Z",
     "iopub.status.idle": "2021-10-04T00:26:02.877001Z",
     "shell.execute_reply": "2021-10-04T00:26:02.877488Z"
    },
    "papermill": {
     "duration": 0.357356,
     "end_time": "2021-10-04T00:26:02.877684",
     "exception": false,
     "start_time": "2021-10-04T00:26:02.520328",
     "status": "completed"
    },
    "tags": []
   },
   "outputs": [
    {
     "data": {
      "text/plain": [
       "Text(0.5, 1.0, 'Outputs')"
      ]
     },
     "execution_count": 26,
     "metadata": {},
     "output_type": "execute_result"
    },
    {
     "data": {
      "image/png": "[encoded data removed]",
      "text/plain": [
       "<Figure size 576x504 with 1 Axes>"
      ]
     },
     "metadata": {
      "needs_background": "light"
     },
     "output_type": "display_data"
    }
   ],
   "source": [
    "# Plotting the scatter plot of points and color coding by class\n",
    "plt.figure(figsize=(8,7))\n",
    "plt.scatter(testing_plot[:,0], testing_plot[:,1], alpha = 0.1, c = y_test.ravel());\n",
    "plt.title('Outputs')"
   ]
  },
  {
   "cell_type": "markdown",
   "id": "a74fcf8f",
   "metadata": {
    "papermill": {
     "duration": 0.051814,
     "end_time": "2021-10-04T00:26:02.980411",
     "exception": false,
     "start_time": "2021-10-04T00:26:02.928597",
     "status": "completed"
    },
    "tags": []
   },
   "source": [
    "Probability contours"
   ]
  },
  {
   "cell_type": "code",
   "execution_count": 27,
   "id": "d0afc8e3",
   "metadata": {
    "execution": {
     "iopub.execute_input": "2021-10-04T00:26:03.126265Z",
     "iopub.status.busy": "2021-10-04T00:26:03.125694Z",
     "iopub.status.idle": "2021-10-04T00:26:03.133161Z",
     "shell.execute_reply": "2021-10-04T00:26:03.132580Z"
    },
    "papermill": {
     "duration": 0.099498,
     "end_time": "2021-10-04T00:26:03.133279",
     "exception": false,
     "start_time": "2021-10-04T00:26:03.033781",
     "status": "completed"
    },
    "tags": []
   },
   "outputs": [],
   "source": [
    "model_prob = Model(layers[-2:]) "
   ]
  },
  {
   "cell_type": "code",
   "execution_count": 28,
   "id": "9b96e238",
   "metadata": {
    "execution": {
     "iopub.execute_input": "2021-10-04T00:26:03.240850Z",
     "iopub.status.busy": "2021-10-04T00:26:03.240244Z",
     "iopub.status.idle": "2021-10-04T00:26:03.256085Z",
     "shell.execute_reply": "2021-10-04T00:26:03.256531Z"
    },
    "papermill": {
     "duration": 0.071705,
     "end_time": "2021-10-04T00:26:03.256743",
     "exception": false,
     "start_time": "2021-10-04T00:26:03.185038",
     "status": "completed"
    },
    "tags": []
   },
   "outputs": [],
   "source": [
    "#creating the x and y ranges according to the above generated plot.\n",
    "x_range = np.linspace(-4, 1, 100) \n",
    "y_range = np.linspace(-6, 6, 100) \n",
    "x_grid, y_grid = np.meshgrid(x_range, y_range) # x_grid and y_grig are of size 100 X 100\n",
    "\n",
    "# converting x_grid and y_grid to continuous arrays\n",
    "x_gridflat = np.ravel(x_grid)\n",
    "y_gridflat = np.ravel(y_grid)\n",
    "\n",
    "# The last layer of the current model takes two columns as input. Hence transpose of np.vstack() is required.\n",
    "X = np.vstack((x_gridflat, y_gridflat)).T\n",
    "\n",
    "prob_contour = model_prob(X).reshape(100,100) "
   ]
  },
  {
   "cell_type": "code",
   "execution_count": 29,
   "id": "da72499a",
   "metadata": {
    "execution": {
     "iopub.execute_input": "2021-10-04T00:26:03.372590Z",
     "iopub.status.busy": "2021-10-04T00:26:03.372013Z",
     "iopub.status.idle": "2021-10-04T00:26:03.704555Z",
     "shell.execute_reply": "2021-10-04T00:26:03.704050Z"
    },
    "papermill": {
     "duration": 0.389134,
     "end_time": "2021-10-04T00:26:03.704684",
     "exception": false,
     "start_time": "2021-10-04T00:26:03.315550",
     "status": "completed"
    },
    "tags": []
   },
   "outputs": [
    {
     "data": {
      "image/png": "[encoded data removed]",
      "text/plain": [
       "<Figure size 720x648 with 1 Axes>"
      ]
     },
     "metadata": {
      "needs_background": "light"
     },
     "output_type": "display_data"
    }
   ],
   "source": [
    "plt.figure(figsize=(10,9))\n",
    "plt.scatter(testing_plot[:,0], testing_plot[:,1], alpha = 0.1, c = y_test.ravel())\n",
    "contours = plt.contour(x_grid,y_grid,prob_contour)\n",
    "plt.title('Probability Contours')\n",
    "plt.clabel(contours, inline = True );"
   ]
  },
  {
   "cell_type": "code",
   "execution_count": null,
   "id": "e81b4ac7",
   "metadata": {
    "papermill": {
     "duration": 0.053911,
     "end_time": "2021-10-04T00:26:03.812484",
     "exception": false,
     "start_time": "2021-10-04T00:26:03.758573",
     "status": "completed"
    },
    "tags": []
   },
   "outputs": [],
   "source": []
  }
 ],
 "metadata": {
  "kernelspec": {
   "display_name": "Python 3",
   "language": "python",
   "name": "python3"
  },
  "language_info": {
   "codemirror_mode": {
    "name": "ipython",
    "version": 3
   },
   "file_extension": ".py",
   "mimetype": "text/x-python",
   "name": "python",
   "nbconvert_exporter": "python",
   "pygments_lexer": "ipython3",
   "version": "3.6.15"
  },
  "papermill": {
   "default_parameters": {},
   "duration": 171.877745,
   "end_time": "2021-10-04T00:26:04.277568",
   "environment_variables": {},
   "exception": null,
   "input_path": "2020-08-11-part2.ipynb",
   "output_path": "2020-08-11-part2.ipynb",
   "parameters": {},
   "start_time": "2021-10-04T00:23:12.399823",
   "version": "2.3.3"
  }
 },
 "nbformat": 4,
 "nbformat_minor": 5
}