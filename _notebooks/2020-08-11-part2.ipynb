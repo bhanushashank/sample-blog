{
 "cells": [
  {
   "cell_type": "markdown",
   "id": "98380cd3",
   "metadata": {
    "papermill": {
     "duration": 0.03001,
     "end_time": "2022-11-20T00:43:48.978929",
     "exception": false,
     "start_time": "2022-11-20T00:43:48.948919",
     "status": "completed"
    },
    "tags": []
   },
   "source": [
    "# Distinguish Your Own Digits (DYOD)"
   ]
  },
  {
   "cell_type": "markdown",
   "id": "ef31240d",
   "metadata": {
    "papermill": {
     "duration": 0.0239,
     "end_time": "2022-11-20T00:43:49.027497",
     "exception": false,
     "start_time": "2022-11-20T00:43:49.003597",
     "status": "completed"
    },
    "tags": []
   },
   "source": [
    "You are going to write a classifier that distinguishes between the number 3 and number 8."
   ]
  },
  {
   "cell_type": "code",
   "execution_count": 1,
   "id": "b15c8646",
   "metadata": {
    "execution": {
     "iopub.execute_input": "2022-11-20T00:43:49.086766Z",
     "iopub.status.busy": "2022-11-20T00:43:49.086167Z",
     "iopub.status.idle": "2022-11-20T00:43:49.097148Z",
     "shell.execute_reply": "2022-11-20T00:43:49.096655Z"
    },
    "papermill": {
     "duration": 0.045841,
     "end_time": "2022-11-20T00:43:49.097283",
     "exception": false,
     "start_time": "2022-11-20T00:43:49.051442",
     "status": "completed"
    },
    "tags": []
   },
   "outputs": [],
   "source": [
    "%load_ext autoreload\n",
    "%autoreload 2"
   ]
  },
  {
   "cell_type": "code",
   "execution_count": 2,
   "id": "22ef38dc",
   "metadata": {
    "execution": {
     "iopub.execute_input": "2022-11-20T00:43:49.160614Z",
     "iopub.status.busy": "2022-11-20T00:43:49.158725Z",
     "iopub.status.idle": "2022-11-20T00:43:49.692739Z",
     "shell.execute_reply": "2022-11-20T00:43:49.692176Z"
    },
    "papermill": {
     "duration": 0.571568,
     "end_time": "2022-11-20T00:43:49.692882",
     "exception": false,
     "start_time": "2022-11-20T00:43:49.121314",
     "status": "completed"
    },
    "tags": []
   },
   "outputs": [],
   "source": [
    "%matplotlib inline\n",
    "import numpy as np\n",
    "import matplotlib.pyplot as plt\n",
    "import pandas as pd"
   ]
  },
  {
   "cell_type": "markdown",
   "id": "ba036198",
   "metadata": {
    "papermill": {
     "duration": 0.023951,
     "end_time": "2022-11-20T00:43:49.741128",
     "exception": false,
     "start_time": "2022-11-20T00:43:49.717177",
     "status": "completed"
    },
    "tags": []
   },
   "source": [
    "From the command line run `pip install mnist`. This is a library that will help you bring down the mnist dataset. If you run this from a notebook, you need to put  `!pip install mnist` in a cell by itself."
   ]
  },
  {
   "cell_type": "code",
   "execution_count": 3,
   "id": "bb6ad8a1",
   "metadata": {
    "execution": {
     "iopub.execute_input": "2022-11-20T00:43:49.793309Z",
     "iopub.status.busy": "2022-11-20T00:43:49.792731Z",
     "iopub.status.idle": "2022-11-20T00:43:51.379759Z",
     "shell.execute_reply": "2022-11-20T00:43:51.378226Z"
    },
    "papermill": {
     "duration": 1.614636,
     "end_time": "2022-11-20T00:43:51.379905",
     "exception": false,
     "start_time": "2022-11-20T00:43:49.765269",
     "status": "completed"
    },
    "tags": []
   },
   "outputs": [
    {
     "name": "stdout",
     "output_type": "stream",
     "text": [
      "Collecting mnist\r\n",
      "  Downloading mnist-0.2.2-py2.py3-none-any.whl (3.5 kB)\r\n",
      "Requirement already satisfied: numpy in /opt/hostedtoolcache/Python/3.6.15/x64/lib/python3.6/site-packages (from mnist) (1.19.5)\r\n"
     ]
    },
    {
     "name": "stdout",
     "output_type": "stream",
     "text": [
      "Installing collected packages: mnist\r\n"
     ]
    },
    {
     "name": "stdout",
     "output_type": "stream",
     "text": [
      "Successfully installed mnist-0.2.2\r\n"
     ]
    }
   ],
   "source": [
    "!pip install mnist"
   ]
  },
  {
   "cell_type": "markdown",
   "id": "69df9c9a",
   "metadata": {
    "papermill": {
     "duration": 0.025099,
     "end_time": "2022-11-20T00:43:51.430345",
     "exception": false,
     "start_time": "2022-11-20T00:43:51.405246",
     "status": "completed"
    },
    "tags": []
   },
   "source": [
    "## Preparing the Data"
   ]
  },
  {
   "cell_type": "code",
   "execution_count": 4,
   "id": "7f69d806",
   "metadata": {
    "execution": {
     "iopub.execute_input": "2022-11-20T00:43:51.498752Z",
     "iopub.status.busy": "2022-11-20T00:43:51.492396Z",
     "iopub.status.idle": "2022-11-20T00:43:51.501595Z",
     "shell.execute_reply": "2022-11-20T00:43:51.501142Z"
    },
    "papermill": {
     "duration": 0.046513,
     "end_time": "2022-11-20T00:43:51.501716",
     "exception": false,
     "start_time": "2022-11-20T00:43:51.455203",
     "status": "completed"
    },
    "tags": []
   },
   "outputs": [],
   "source": [
    "import mnist"
   ]
  },
  {
   "cell_type": "code",
   "execution_count": 5,
   "id": "a411e44f",
   "metadata": {
    "execution": {
     "iopub.execute_input": "2022-11-20T00:43:51.559448Z",
     "iopub.status.busy": "2022-11-20T00:43:51.558823Z",
     "iopub.status.idle": "2022-11-20T00:43:52.107697Z",
     "shell.execute_reply": "2022-11-20T00:43:52.107072Z"
    },
    "papermill": {
     "duration": 0.581148,
     "end_time": "2022-11-20T00:43:52.107837",
     "exception": false,
     "start_time": "2022-11-20T00:43:51.526689",
     "status": "completed"
    },
    "tags": []
   },
   "outputs": [],
   "source": [
    "train_images = mnist.train_images()\n",
    "train_labels = mnist.train_labels()"
   ]
  },
  {
   "cell_type": "code",
   "execution_count": 6,
   "id": "dceab3a5",
   "metadata": {
    "execution": {
     "iopub.execute_input": "2022-11-20T00:43:52.162623Z",
     "iopub.status.busy": "2022-11-20T00:43:52.162042Z",
     "iopub.status.idle": "2022-11-20T00:43:52.176632Z",
     "shell.execute_reply": "2022-11-20T00:43:52.177191Z"
    },
    "papermill": {
     "duration": 0.044109,
     "end_time": "2022-11-20T00:43:52.177328",
     "exception": false,
     "start_time": "2022-11-20T00:43:52.133219",
     "status": "completed"
    },
    "tags": []
   },
   "outputs": [
    {
     "data": {
      "text/plain": [
       "((60000, 28, 28), (60000,))"
      ]
     },
     "execution_count": 6,
     "metadata": {},
     "output_type": "execute_result"
    }
   ],
   "source": [
    "train_images.shape, train_labels.shape"
   ]
  },
  {
   "cell_type": "code",
   "execution_count": 7,
   "id": "f50dc2bb",
   "metadata": {
    "execution": {
     "iopub.execute_input": "2022-11-20T00:43:52.231443Z",
     "iopub.status.busy": "2022-11-20T00:43:52.230835Z",
     "iopub.status.idle": "2022-11-20T00:43:52.363037Z",
     "shell.execute_reply": "2022-11-20T00:43:52.363619Z"
    },
    "papermill": {
     "duration": 0.161417,
     "end_time": "2022-11-20T00:43:52.363790",
     "exception": false,
     "start_time": "2022-11-20T00:43:52.202373",
     "status": "completed"
    },
    "tags": []
   },
   "outputs": [],
   "source": [
    "test_images = mnist.test_images()\n",
    "test_labels = mnist.test_labels()"
   ]
  },
  {
   "cell_type": "code",
   "execution_count": 8,
   "id": "fc38cf1b",
   "metadata": {
    "execution": {
     "iopub.execute_input": "2022-11-20T00:43:52.420198Z",
     "iopub.status.busy": "2022-11-20T00:43:52.419589Z",
     "iopub.status.idle": "2022-11-20T00:43:52.432071Z",
     "shell.execute_reply": "2022-11-20T00:43:52.431574Z"
    },
    "papermill": {
     "duration": 0.042738,
     "end_time": "2022-11-20T00:43:52.432189",
     "exception": false,
     "start_time": "2022-11-20T00:43:52.389451",
     "status": "completed"
    },
    "tags": []
   },
   "outputs": [
    {
     "data": {
      "text/plain": [
       "((10000, 28, 28), (10000,))"
      ]
     },
     "execution_count": 8,
     "metadata": {},
     "output_type": "execute_result"
    }
   ],
   "source": [
    "test_images.shape, test_labels.shape"
   ]
  },
  {
   "cell_type": "code",
   "execution_count": 9,
   "id": "f9ed8fe0",
   "metadata": {
    "execution": {
     "iopub.execute_input": "2022-11-20T00:43:52.488179Z",
     "iopub.status.busy": "2022-11-20T00:43:52.487580Z",
     "iopub.status.idle": "2022-11-20T00:43:52.625050Z",
     "shell.execute_reply": "2022-11-20T00:43:52.625575Z"
    },
    "papermill": {
     "duration": 0.167851,
     "end_time": "2022-11-20T00:43:52.625730",
     "exception": false,
     "start_time": "2022-11-20T00:43:52.457879",
     "status": "completed"
    },
    "tags": []
   },
   "outputs": [
    {
     "name": "stdout",
     "output_type": "stream",
     "text": [
      "2\n"
     ]
    },
    {
     "data": {
      "text/plain": [
       "<matplotlib.image.AxesImage at 0x7fbc8361ada0>"
      ]
     },
     "execution_count": 9,
     "metadata": {},
     "output_type": "execute_result"
    },
    {
     "data": {
      "image/png": "[encoded data removed]",
      "text/plain": [
       "<Figure size 432x288 with 1 Axes>"
      ]
     },
     "metadata": {
      "needs_background": "light"
     },
     "output_type": "display_data"
    }
   ],
   "source": [
    "image_index = 7776 # You may select anything up to 60,000\n",
    "print(train_labels[image_index]) \n",
    "plt.imshow(train_images[image_index], cmap='Greys')"
   ]
  },
  {
   "cell_type": "markdown",
   "id": "a8d2388d",
   "metadata": {
    "papermill": {
     "duration": 0.026773,
     "end_time": "2022-11-20T00:43:52.680247",
     "exception": false,
     "start_time": "2022-11-20T00:43:52.653474",
     "status": "completed"
    },
    "tags": []
   },
   "source": [
    "## Filter data to get 3 and 8 out"
   ]
  },
  {
   "cell_type": "code",
   "execution_count": 10,
   "id": "776f7fc7",
   "metadata": {
    "execution": {
     "iopub.execute_input": "2022-11-20T00:43:52.738010Z",
     "iopub.status.busy": "2022-11-20T00:43:52.737395Z",
     "iopub.status.idle": "2022-11-20T00:43:52.756790Z",
     "shell.execute_reply": "2022-11-20T00:43:52.756280Z"
    },
    "papermill": {
     "duration": 0.050303,
     "end_time": "2022-11-20T00:43:52.756976",
     "exception": false,
     "start_time": "2022-11-20T00:43:52.706673",
     "status": "completed"
    },
    "tags": []
   },
   "outputs": [],
   "source": [
    "train_filter = np.where((train_labels == 3 ) | (train_labels == 8))\n",
    "test_filter = np.where((test_labels == 3) | (test_labels == 8))\n",
    "X_train, y_train = train_images[train_filter], train_labels[train_filter]\n",
    "X_test, y_test = test_images[test_filter], test_labels[test_filter]"
   ]
  },
  {
   "cell_type": "markdown",
   "id": "948f0b7e",
   "metadata": {
    "papermill": {
     "duration": 0.026894,
     "end_time": "2022-11-20T00:43:52.811226",
     "exception": false,
     "start_time": "2022-11-20T00:43:52.784332",
     "status": "completed"
    },
    "tags": []
   },
   "source": [
    "We normalize the pizel values in the 0 to 1 range"
   ]
  },
  {
   "cell_type": "code",
   "execution_count": 11,
   "id": "ee4c2166",
   "metadata": {
    "execution": {
     "iopub.execute_input": "2022-11-20T00:43:52.868647Z",
     "iopub.status.busy": "2022-11-20T00:43:52.868060Z",
     "iopub.status.idle": "2022-11-20T00:43:52.917219Z",
     "shell.execute_reply": "2022-11-20T00:43:52.916506Z"
    },
    "papermill": {
     "duration": 0.079239,
     "end_time": "2022-11-20T00:43:52.917368",
     "exception": false,
     "start_time": "2022-11-20T00:43:52.838129",
     "status": "completed"
    },
    "tags": []
   },
   "outputs": [],
   "source": [
    "X_train = X_train/255.\n",
    "X_test = X_test/255."
   ]
  },
  {
   "cell_type": "markdown",
   "id": "ddcf4fab",
   "metadata": {
    "papermill": {
     "duration": 0.026462,
     "end_time": "2022-11-20T00:43:52.971683",
     "exception": false,
     "start_time": "2022-11-20T00:43:52.945221",
     "status": "completed"
    },
    "tags": []
   },
   "source": [
    "And setup the labels as 1 (when the digit is 3) and 0 (when the digit is 8)"
   ]
  },
  {
   "cell_type": "code",
   "execution_count": 12,
   "id": "7dc908f2",
   "metadata": {
    "execution": {
     "iopub.execute_input": "2022-11-20T00:43:53.032367Z",
     "iopub.status.busy": "2022-11-20T00:43:53.031770Z",
     "iopub.status.idle": "2022-11-20T00:43:53.042904Z",
     "shell.execute_reply": "2022-11-20T00:43:53.042368Z"
    },
    "papermill": {
     "duration": 0.044879,
     "end_time": "2022-11-20T00:43:53.043022",
     "exception": false,
     "start_time": "2022-11-20T00:43:52.998143",
     "status": "completed"
    },
    "tags": []
   },
   "outputs": [],
   "source": [
    "y_train = 1*(y_train==3)\n",
    "y_test = 1*(y_test==3)"
   ]
  },
  {
   "cell_type": "code",
   "execution_count": 13,
   "id": "01e4e969",
   "metadata": {
    "execution": {
     "iopub.execute_input": "2022-11-20T00:43:53.100080Z",
     "iopub.status.busy": "2022-11-20T00:43:53.099479Z",
     "iopub.status.idle": "2022-11-20T00:43:53.113388Z",
     "shell.execute_reply": "2022-11-20T00:43:53.112891Z"
    },
    "papermill": {
     "duration": 0.043876,
     "end_time": "2022-11-20T00:43:53.113504",
     "exception": false,
     "start_time": "2022-11-20T00:43:53.069628",
     "status": "completed"
    },
    "tags": []
   },
   "outputs": [
    {
     "data": {
      "text/plain": [
       "((11982, 28, 28), (1984, 28, 28))"
      ]
     },
     "execution_count": 13,
     "metadata": {},
     "output_type": "execute_result"
    }
   ],
   "source": [
    "X_train.shape, X_test.shape"
   ]
  },
  {
   "cell_type": "markdown",
   "id": "5ccf3f85",
   "metadata": {
    "papermill": {
     "duration": 0.027227,
     "end_time": "2022-11-20T00:43:53.168029",
     "exception": false,
     "start_time": "2022-11-20T00:43:53.140802",
     "status": "completed"
    },
    "tags": []
   },
   "source": [
    "We reshape the data to flatten the image pixels into a set of features or co-variates:"
   ]
  },
  {
   "cell_type": "code",
   "execution_count": 14,
   "id": "5286a4a3",
   "metadata": {
    "execution": {
     "iopub.execute_input": "2022-11-20T00:43:53.226166Z",
     "iopub.status.busy": "2022-11-20T00:43:53.225572Z",
     "iopub.status.idle": "2022-11-20T00:43:53.240153Z",
     "shell.execute_reply": "2022-11-20T00:43:53.239670Z"
    },
    "papermill": {
     "duration": 0.045285,
     "end_time": "2022-11-20T00:43:53.240270",
     "exception": false,
     "start_time": "2022-11-20T00:43:53.194985",
     "status": "completed"
    },
    "tags": []
   },
   "outputs": [
    {
     "data": {
      "text/plain": [
       "((11982, 784), (1984, 784))"
      ]
     },
     "execution_count": 14,
     "metadata": {},
     "output_type": "execute_result"
    }
   ],
   "source": [
    "X_train = X_train.reshape(X_train.shape[0], -1)\n",
    "X_test = X_test.reshape(X_test.shape[0], -1)\n",
    "X_train.shape, X_test.shape"
   ]
  },
  {
   "cell_type": "code",
   "execution_count": 15,
   "id": "73c5f88a",
   "metadata": {
    "execution": {
     "iopub.execute_input": "2022-11-20T00:43:53.300772Z",
     "iopub.status.busy": "2022-11-20T00:43:53.300185Z",
     "iopub.status.idle": "2022-11-20T00:43:53.318466Z",
     "shell.execute_reply": "2022-11-20T00:43:53.317979Z"
    },
    "papermill": {
     "duration": 0.051225,
     "end_time": "2022-11-20T00:43:53.318583",
     "exception": false,
     "start_time": "2022-11-20T00:43:53.267358",
     "status": "completed"
    },
    "tags": []
   },
   "outputs": [],
   "source": [
    "#Impoting functions from 'Kudzu'\n",
    "from kudzu.model import Model\n",
    "from kudzu.train import Learner\n",
    "from kudzu.optim import GD\n",
    "from kudzu.data import Data, Sampler,Dataloader\n",
    "\n",
    "from kudzu.callbacks import AccCallback\n",
    "from kudzu.callbacks import ClfCallback\n",
    "\n",
    "from kudzu.loss import MSE\n",
    "\n",
    "from kudzu.layer import Sigmoid,Relu\n",
    "from kudzu.layer import Affine"
   ]
  },
  {
   "cell_type": "markdown",
   "id": "bc01172a",
   "metadata": {
    "papermill": {
     "duration": 0.027018,
     "end_time": "2022-11-20T00:43:53.372648",
     "exception": false,
     "start_time": "2022-11-20T00:43:53.345630",
     "status": "completed"
    },
    "tags": []
   },
   "source": [
    "### Let us create a `Config` class, to store important parameters. \n",
    "This class essentially plays the role of a dictionary."
   ]
  },
  {
   "cell_type": "code",
   "execution_count": 16,
   "id": "978281aa",
   "metadata": {
    "execution": {
     "iopub.execute_input": "2022-11-20T00:43:53.430621Z",
     "iopub.status.busy": "2022-11-20T00:43:53.430027Z",
     "iopub.status.idle": "2022-11-20T00:43:53.443010Z",
     "shell.execute_reply": "2022-11-20T00:43:53.442521Z"
    },
    "papermill": {
     "duration": 0.043608,
     "end_time": "2022-11-20T00:43:53.443126",
     "exception": false,
     "start_time": "2022-11-20T00:43:53.399518",
     "status": "completed"
    },
    "tags": []
   },
   "outputs": [],
   "source": [
    "class Config:\n",
    "    pass\n",
    "config = Config()\n",
    "config.lr = 0.001\n",
    "config.num_epochs = 250\n",
    "config.bs = 50"
   ]
  },
  {
   "cell_type": "markdown",
   "id": "1385fa59",
   "metadata": {
    "papermill": {
     "duration": 0.026884,
     "end_time": "2022-11-20T00:43:53.497108",
     "exception": false,
     "start_time": "2022-11-20T00:43:53.470224",
     "status": "completed"
    },
    "tags": []
   },
   "source": [
    "### Running Models with the Training data\n",
    "Details about the network layers:\n",
    "- A first affine layer has 784 inputs and does 100 affine transforms. These are followed by a Relu\n",
    "- A second affine layer has 100 inputs from the 100 activations of the past layer, and does 100 affine transforms. These are followed by a Relu\n",
    "- A third affine layer has 100 activations and does 2 affine transformations to create an embedding for visualization. There is no non-linearity here.\n",
    "- A final \"logistic regression\" which has an affine transform from 2 inputs to 1 output, which is squeezed through a sigmoid.\n"
   ]
  },
  {
   "cell_type": "code",
   "execution_count": 17,
   "id": "2b9c66db",
   "metadata": {
    "execution": {
     "iopub.execute_input": "2022-11-20T00:43:53.555561Z",
     "iopub.status.busy": "2022-11-20T00:43:53.554946Z",
     "iopub.status.idle": "2022-11-20T00:43:53.567686Z",
     "shell.execute_reply": "2022-11-20T00:43:53.567163Z"
    },
    "papermill": {
     "duration": 0.043776,
     "end_time": "2022-11-20T00:43:53.567804",
     "exception": false,
     "start_time": "2022-11-20T00:43:53.524028",
     "status": "completed"
    },
    "tags": []
   },
   "outputs": [],
   "source": [
    "data = Data(X_train, y_train.reshape(-1,1))\n",
    "sampler = Sampler(data, config.bs, shuffle=True)\n",
    "\n",
    "dl = Dataloader(data, sampler)\n",
    "\n",
    "opt = GD(config.lr)\n",
    "loss = MSE()"
   ]
  },
  {
   "cell_type": "code",
   "execution_count": 18,
   "id": "b275e4c2",
   "metadata": {
    "execution": {
     "iopub.execute_input": "2022-11-20T00:43:53.626031Z",
     "iopub.status.busy": "2022-11-20T00:43:53.625452Z",
     "iopub.status.idle": "2022-11-20T00:43:53.637986Z",
     "shell.execute_reply": "2022-11-20T00:43:53.637472Z"
    },
    "papermill": {
     "duration": 0.043165,
     "end_time": "2022-11-20T00:43:53.638098",
     "exception": false,
     "start_time": "2022-11-20T00:43:53.594933",
     "status": "completed"
    },
    "tags": []
   },
   "outputs": [],
   "source": [
    "training_data_x = X_train\n",
    "testing_data_x = X_test\n",
    "training_data_y = y_train.reshape(-1,1)\n",
    "testing_data_y = y_test.reshape(-1,1)"
   ]
  },
  {
   "cell_type": "code",
   "execution_count": 19,
   "id": "76951160",
   "metadata": {
    "execution": {
     "iopub.execute_input": "2022-11-20T00:43:53.696641Z",
     "iopub.status.busy": "2022-11-20T00:43:53.696047Z",
     "iopub.status.idle": "2022-11-20T00:43:53.712967Z",
     "shell.execute_reply": "2022-11-20T00:43:53.712482Z"
    },
    "papermill": {
     "duration": 0.048134,
     "end_time": "2022-11-20T00:43:53.713080",
     "exception": false,
     "start_time": "2022-11-20T00:43:53.664946",
     "status": "completed"
    },
    "tags": []
   },
   "outputs": [
    {
     "name": "stdout",
     "output_type": "stream",
     "text": [
      "xavier\n",
      "xavier\n",
      "xavier\n",
      "xavier\n",
      "xavier\n"
     ]
    }
   ],
   "source": [
    "layers = [Affine(\"first\", 784, 100), Relu(\"first\"), Affine(\"second\", 100, 100), Relu(\"second\"), Affine(\"third\", 100, 2), Affine(\"last\", 2, 1), Sigmoid(\"last\")]\n",
    "model_nn = Model(layers)\n",
    "model_lr = Model([Affine(\"logits\", 784, 1), Sigmoid(\"sigmoid\")])"
   ]
  },
  {
   "cell_type": "code",
   "execution_count": 20,
   "id": "6eede77a",
   "metadata": {
    "execution": {
     "iopub.execute_input": "2022-11-20T00:43:53.772205Z",
     "iopub.status.busy": "2022-11-20T00:43:53.771615Z",
     "iopub.status.idle": "2022-11-20T00:43:53.784820Z",
     "shell.execute_reply": "2022-11-20T00:43:53.784342Z"
    },
    "papermill": {
     "duration": 0.044365,
     "end_time": "2022-11-20T00:43:53.784933",
     "exception": false,
     "start_time": "2022-11-20T00:43:53.740568",
     "status": "completed"
    },
    "tags": []
   },
   "outputs": [],
   "source": [
    "nn_learner = Learner(loss, model_nn, opt, config.num_epochs)\n",
    "acc_nn = ClfCallback(nn_learner, config.bs, training_data_x , testing_data_x, training_data_y, testing_data_y)\n",
    "nn_learner.set_callbacks([acc_nn])"
   ]
  },
  {
   "cell_type": "code",
   "execution_count": 21,
   "id": "877b6cc7",
   "metadata": {
    "execution": {
     "iopub.execute_input": "2022-11-20T00:43:53.852140Z",
     "iopub.status.busy": "2022-11-20T00:43:53.849922Z",
     "iopub.status.idle": "2022-11-20T00:43:53.858686Z",
     "shell.execute_reply": "2022-11-20T00:43:53.858183Z"
    },
    "papermill": {
     "duration": 0.046787,
     "end_time": "2022-11-20T00:43:53.858800",
     "exception": false,
     "start_time": "2022-11-20T00:43:53.812013",
     "status": "completed"
    },
    "tags": []
   },
   "outputs": [],
   "source": [
    "lr_learner = Learner(loss, model_lr, opt, config.num_epochs)\n",
    "acc_lr = ClfCallback(lr_learner, config.bs, training_data_x , testing_data_x, training_data_y, testing_data_y)\n",
    "lr_learner.set_callbacks([acc_lr])"
   ]
  },
  {
   "cell_type": "code",
   "execution_count": 22,
   "id": "d9b133c3",
   "metadata": {
    "execution": {
     "iopub.execute_input": "2022-11-20T00:43:53.922064Z",
     "iopub.status.busy": "2022-11-20T00:43:53.921465Z",
     "iopub.status.idle": "2022-11-20T00:45:08.187984Z",
     "shell.execute_reply": "2022-11-20T00:45:08.188827Z"
    },
    "papermill": {
     "duration": 74.302772,
     "end_time": "2022-11-20T00:45:08.188979",
     "exception": false,
     "start_time": "2022-11-20T00:43:53.886207",
     "status": "completed"
    },
    "tags": []
   },
   "outputs": [
    {
     "name": "stdout",
     "output_type": "stream",
     "text": [
      "Epoch 0, Loss 0.2523\n",
      "Training Accuracy: 0.5122, Testing Accuracy: 0.5121\n",
      "\n"
     ]
    },
    {
     "name": "stdout",
     "output_type": "stream",
     "text": [
      "Epoch 10, Loss 0.206\n",
      "Training Accuracy: 0.8039, Testing Accuracy: 0.7923\n",
      "\n"
     ]
    },
    {
     "name": "stdout",
     "output_type": "stream",
     "text": [
      "Epoch 20, Loss 0.122\n",
      "Training Accuracy: 0.8903, Testing Accuracy: 0.8906\n",
      "\n"
     ]
    },
    {
     "name": "stdout",
     "output_type": "stream",
     "text": [
      "Epoch 30, Loss 0.0733\n",
      "Training Accuracy: 0.9230, Testing Accuracy: 0.9340\n",
      "\n"
     ]
    },
    {
     "name": "stdout",
     "output_type": "stream",
     "text": [
      "Epoch 40, Loss 0.0536\n",
      "Training Accuracy: 0.9421, Testing Accuracy: 0.9536\n",
      "\n"
     ]
    },
    {
     "name": "stdout",
     "output_type": "stream",
     "text": [
      "Epoch 50, Loss 0.044\n",
      "Training Accuracy: 0.9519, Testing Accuracy: 0.9612\n",
      "\n"
     ]
    },
    {
     "name": "stdout",
     "output_type": "stream",
     "text": [
      "Epoch 60, Loss 0.0386\n",
      "Training Accuracy: 0.9565, Testing Accuracy: 0.9652\n",
      "\n"
     ]
    },
    {
     "name": "stdout",
     "output_type": "stream",
     "text": [
      "Epoch 70, Loss 0.0351\n",
      "Training Accuracy: 0.9599, Testing Accuracy: 0.9682\n",
      "\n"
     ]
    },
    {
     "name": "stdout",
     "output_type": "stream",
     "text": [
      "Epoch 80, Loss 0.0327\n",
      "Training Accuracy: 0.9631, Testing Accuracy: 0.9688\n",
      "\n"
     ]
    },
    {
     "name": "stdout",
     "output_type": "stream",
     "text": [
      "Epoch 90, Loss 0.0309\n",
      "Training Accuracy: 0.9652, Testing Accuracy: 0.9677\n",
      "\n"
     ]
    },
    {
     "name": "stdout",
     "output_type": "stream",
     "text": [
      "Epoch 100, Loss 0.0295\n",
      "Training Accuracy: 0.9663, Testing Accuracy: 0.9682\n",
      "\n"
     ]
    },
    {
     "name": "stdout",
     "output_type": "stream",
     "text": [
      "Epoch 110, Loss 0.0284\n",
      "Training Accuracy: 0.9675, Testing Accuracy: 0.9693\n",
      "\n"
     ]
    },
    {
     "name": "stdout",
     "output_type": "stream",
     "text": [
      "Epoch 120, Loss 0.0274\n",
      "Training Accuracy: 0.9682, Testing Accuracy: 0.9698\n",
      "\n"
     ]
    },
    {
     "name": "stdout",
     "output_type": "stream",
     "text": [
      "Epoch 130, Loss 0.0265\n",
      "Training Accuracy: 0.9687, Testing Accuracy: 0.9703\n",
      "\n"
     ]
    },
    {
     "name": "stdout",
     "output_type": "stream",
     "text": [
      "Epoch 140, Loss 0.0258\n",
      "Training Accuracy: 0.9700, Testing Accuracy: 0.9703\n",
      "\n"
     ]
    },
    {
     "name": "stdout",
     "output_type": "stream",
     "text": [
      "Epoch 150, Loss 0.0251\n",
      "Training Accuracy: 0.9708, Testing Accuracy: 0.9708\n",
      "\n"
     ]
    },
    {
     "name": "stdout",
     "output_type": "stream",
     "text": [
      "Epoch 160, Loss 0.0245\n",
      "Training Accuracy: 0.9720, Testing Accuracy: 0.9708\n",
      "\n"
     ]
    },
    {
     "name": "stdout",
     "output_type": "stream",
     "text": [
      "Epoch 170, Loss 0.0239\n",
      "Training Accuracy: 0.9730, Testing Accuracy: 0.9713\n",
      "\n"
     ]
    },
    {
     "name": "stdout",
     "output_type": "stream",
     "text": [
      "Epoch 180, Loss 0.0234\n",
      "Training Accuracy: 0.9731, Testing Accuracy: 0.9728\n",
      "\n"
     ]
    },
    {
     "name": "stdout",
     "output_type": "stream",
     "text": [
      "Epoch 190, Loss 0.0229\n",
      "Training Accuracy: 0.9740, Testing Accuracy: 0.9728\n",
      "\n"
     ]
    },
    {
     "name": "stdout",
     "output_type": "stream",
     "text": [
      "Epoch 200, Loss 0.0224\n",
      "Training Accuracy: 0.9744, Testing Accuracy: 0.9733\n",
      "\n"
     ]
    },
    {
     "name": "stdout",
     "output_type": "stream",
     "text": [
      "Epoch 210, Loss 0.022\n",
      "Training Accuracy: 0.9750, Testing Accuracy: 0.9723\n",
      "\n"
     ]
    },
    {
     "name": "stdout",
     "output_type": "stream",
     "text": [
      "Epoch 220, Loss 0.0216\n",
      "Training Accuracy: 0.9755, Testing Accuracy: 0.9728\n",
      "\n"
     ]
    },
    {
     "name": "stdout",
     "output_type": "stream",
     "text": [
      "Epoch 230, Loss 0.0212\n",
      "Training Accuracy: 0.9760, Testing Accuracy: 0.9723\n",
      "\n"
     ]
    },
    {
     "name": "stdout",
     "output_type": "stream",
     "text": [
      "Epoch 240, Loss 0.0208\n",
      "Training Accuracy: 0.9765, Testing Accuracy: 0.9723\n",
      "\n"
     ]
    },
    {
     "data": {
      "text/plain": [
       "0.002242652172787244"
      ]
     },
     "execution_count": 22,
     "metadata": {},
     "output_type": "execute_result"
    }
   ],
   "source": [
    "nn_learner.train_loop(dl)"
   ]
  },
  {
   "cell_type": "code",
   "execution_count": 23,
   "id": "e0163366",
   "metadata": {
    "execution": {
     "iopub.execute_input": "2022-11-20T00:45:08.268347Z",
     "iopub.status.busy": "2022-11-20T00:45:08.267754Z",
     "iopub.status.idle": "2022-11-20T00:45:21.613544Z",
     "shell.execute_reply": "2022-11-20T00:45:21.614378Z"
    },
    "papermill": {
     "duration": 13.390379,
     "end_time": "2022-11-20T00:45:21.614527",
     "exception": false,
     "start_time": "2022-11-20T00:45:08.224148",
     "status": "completed"
    },
    "tags": []
   },
   "outputs": [
    {
     "name": "stdout",
     "output_type": "stream",
     "text": [
      "Epoch 0, Loss 0.2603\n",
      "Training Accuracy: 0.6032, Testing Accuracy: 0.6245\n",
      "\n"
     ]
    },
    {
     "name": "stdout",
     "output_type": "stream",
     "text": [
      "Epoch 10, Loss 0.104\n",
      "Training Accuracy: 0.9052, Testing Accuracy: 0.9123\n",
      "\n"
     ]
    },
    {
     "name": "stdout",
     "output_type": "stream",
     "text": [
      "Epoch 20, Loss 0.0789\n",
      "Training Accuracy: 0.9275, Testing Accuracy: 0.9320\n",
      "\n"
     ]
    },
    {
     "name": "stdout",
     "output_type": "stream",
     "text": [
      "Epoch 30, Loss 0.0675\n",
      "Training Accuracy: 0.9369, Testing Accuracy: 0.9435\n",
      "\n"
     ]
    },
    {
     "name": "stdout",
     "output_type": "stream",
     "text": [
      "Epoch 40, Loss 0.0608\n",
      "Training Accuracy: 0.9436, Testing Accuracy: 0.9506\n",
      "\n"
     ]
    },
    {
     "name": "stdout",
     "output_type": "stream",
     "text": [
      "Epoch 50, Loss 0.0563\n",
      "Training Accuracy: 0.9463, Testing Accuracy: 0.9546\n",
      "\n"
     ]
    },
    {
     "name": "stdout",
     "output_type": "stream",
     "text": [
      "Epoch 60, Loss 0.053\n",
      "Training Accuracy: 0.9488, Testing Accuracy: 0.9567\n",
      "\n"
     ]
    },
    {
     "name": "stdout",
     "output_type": "stream",
     "text": [
      "Epoch 70, Loss 0.0505\n",
      "Training Accuracy: 0.9503, Testing Accuracy: 0.9602\n",
      "\n"
     ]
    },
    {
     "name": "stdout",
     "output_type": "stream",
     "text": [
      "Epoch 80, Loss 0.0484\n",
      "Training Accuracy: 0.9519, Testing Accuracy: 0.9617\n",
      "\n"
     ]
    },
    {
     "name": "stdout",
     "output_type": "stream",
     "text": [
      "Epoch 90, Loss 0.0468\n",
      "Training Accuracy: 0.9531, Testing Accuracy: 0.9637\n",
      "\n"
     ]
    },
    {
     "name": "stdout",
     "output_type": "stream",
     "text": [
      "Epoch 100, Loss 0.0454\n",
      "Training Accuracy: 0.9545, Testing Accuracy: 0.9642\n",
      "\n"
     ]
    },
    {
     "name": "stdout",
     "output_type": "stream",
     "text": [
      "Epoch 110, Loss 0.0442\n",
      "Training Accuracy: 0.9559, Testing Accuracy: 0.9647\n",
      "\n"
     ]
    },
    {
     "name": "stdout",
     "output_type": "stream",
     "text": [
      "Epoch 120, Loss 0.0432\n",
      "Training Accuracy: 0.9567, Testing Accuracy: 0.9647\n",
      "\n"
     ]
    },
    {
     "name": "stdout",
     "output_type": "stream",
     "text": [
      "Epoch 130, Loss 0.0423\n",
      "Training Accuracy: 0.9569, Testing Accuracy: 0.9652\n",
      "\n"
     ]
    },
    {
     "name": "stdout",
     "output_type": "stream",
     "text": [
      "Epoch 140, Loss 0.0415\n",
      "Training Accuracy: 0.9572, Testing Accuracy: 0.9657\n",
      "\n"
     ]
    },
    {
     "name": "stdout",
     "output_type": "stream",
     "text": [
      "Epoch 150, Loss 0.0408\n",
      "Training Accuracy: 0.9580, Testing Accuracy: 0.9662\n",
      "\n"
     ]
    },
    {
     "name": "stdout",
     "output_type": "stream",
     "text": [
      "Epoch 160, Loss 0.0401\n",
      "Training Accuracy: 0.9586, Testing Accuracy: 0.9662\n",
      "\n"
     ]
    },
    {
     "name": "stdout",
     "output_type": "stream",
     "text": [
      "Epoch 170, Loss 0.0395\n",
      "Training Accuracy: 0.9590, Testing Accuracy: 0.9667\n",
      "\n"
     ]
    },
    {
     "name": "stdout",
     "output_type": "stream",
     "text": [
      "Epoch 180, Loss 0.039\n",
      "Training Accuracy: 0.9593, Testing Accuracy: 0.9672\n",
      "\n"
     ]
    },
    {
     "name": "stdout",
     "output_type": "stream",
     "text": [
      "Epoch 190, Loss 0.0385\n",
      "Training Accuracy: 0.9594, Testing Accuracy: 0.9672\n",
      "\n"
     ]
    },
    {
     "name": "stdout",
     "output_type": "stream",
     "text": [
      "Epoch 200, Loss 0.038\n",
      "Training Accuracy: 0.9599, Testing Accuracy: 0.9672\n",
      "\n"
     ]
    },
    {
     "name": "stdout",
     "output_type": "stream",
     "text": [
      "Epoch 210, Loss 0.0376\n",
      "Training Accuracy: 0.9601, Testing Accuracy: 0.9672\n",
      "\n"
     ]
    },
    {
     "name": "stdout",
     "output_type": "stream",
     "text": [
      "Epoch 220, Loss 0.0372\n",
      "Training Accuracy: 0.9604, Testing Accuracy: 0.9682\n",
      "\n"
     ]
    },
    {
     "name": "stdout",
     "output_type": "stream",
     "text": [
      "Epoch 230, Loss 0.0368\n",
      "Training Accuracy: 0.9607, Testing Accuracy: 0.9677\n",
      "\n"
     ]
    },
    {
     "name": "stdout",
     "output_type": "stream",
     "text": [
      "Epoch 240, Loss 0.0365\n",
      "Training Accuracy: 0.9609, Testing Accuracy: 0.9677\n",
      "\n"
     ]
    },
    {
     "data": {
      "text/plain": [
       "0.03994272783942905"
      ]
     },
     "execution_count": 23,
     "metadata": {},
     "output_type": "execute_result"
    }
   ],
   "source": [
    "lr_learner.train_loop(dl)"
   ]
  },
  {
   "cell_type": "code",
   "execution_count": 24,
   "id": "ca410940",
   "metadata": {
    "execution": {
     "iopub.execute_input": "2022-11-20T00:45:21.711898Z",
     "iopub.status.busy": "2022-11-20T00:45:21.711256Z",
     "iopub.status.idle": "2022-11-20T00:45:21.930402Z",
     "shell.execute_reply": "2022-11-20T00:45:21.930875Z"
    },
    "papermill": {
     "duration": 0.274281,
     "end_time": "2022-11-20T00:45:21.931027",
     "exception": false,
     "start_time": "2022-11-20T00:45:21.656746",
     "status": "completed"
    },
    "tags": []
   },
   "outputs": [
    {
     "data": {
      "text/plain": [
       "<matplotlib.legend.Legend at 0x7fbc83187400>"
      ]
     },
     "execution_count": 24,
     "metadata": {},
     "output_type": "execute_result"
    },
    {
     "data": {
      "image/png": "[encoded data removed]",
      "text/plain": [
       "<Figure size 1080x720 with 1 Axes>"
      ]
     },
     "metadata": {
      "needs_background": "light"
     },
     "output_type": "display_data"
    }
   ],
   "source": [
    "#comparing the results of NN and LR\n",
    "plt.figure(figsize=(15,10))\n",
    "\n",
    "# Neural Network plots\n",
    "plt.plot(acc_nn.accuracies, 'r-', label = \"Training Accuracies - NN\")\n",
    "plt.plot(acc_nn.test_accuracies, 'g-', label = \"Testing Accuracies - NN\")\n",
    "\n",
    "# Logistic Regression plots\n",
    "plt.plot(acc_lr.accuracies, 'k-', label = \"Training Accuracies - LR\")\n",
    "plt.plot(acc_lr.test_accuracies, 'b-', label = \"Testing Accuracies - LR\")\n",
    "plt.legend()"
   ]
  },
  {
   "cell_type": "markdown",
   "id": "80dfb35c",
   "metadata": {
    "papermill": {
     "duration": 0.042511,
     "end_time": "2022-11-20T00:45:22.015913",
     "exception": false,
     "start_time": "2022-11-20T00:45:21.973402",
     "status": "completed"
    },
    "tags": []
   },
   "source": [
    "#### Plotting the outputs of this layer of the NN.\n"
   ]
  },
  {
   "cell_type": "code",
   "execution_count": 25,
   "id": "45eb2ff5",
   "metadata": {
    "execution": {
     "iopub.execute_input": "2022-11-20T00:45:22.105666Z",
     "iopub.status.busy": "2022-11-20T00:45:22.104810Z",
     "iopub.status.idle": "2022-11-20T00:45:22.124954Z",
     "shell.execute_reply": "2022-11-20T00:45:22.124418Z"
    },
    "papermill": {
     "duration": 0.067137,
     "end_time": "2022-11-20T00:45:22.125078",
     "exception": false,
     "start_time": "2022-11-20T00:45:22.057941",
     "status": "completed"
    },
    "tags": []
   },
   "outputs": [],
   "source": [
    "new_model = Model(layers[:-2])\n",
    "testing_plot = new_model(testing_data_x)"
   ]
  },
  {
   "cell_type": "code",
   "execution_count": 26,
   "id": "4c0a5485",
   "metadata": {
    "execution": {
     "iopub.execute_input": "2022-11-20T00:45:22.222000Z",
     "iopub.status.busy": "2022-11-20T00:45:22.221400Z",
     "iopub.status.idle": "2022-11-20T00:45:22.437619Z",
     "shell.execute_reply": "2022-11-20T00:45:22.438058Z"
    },
    "papermill": {
     "duration": 0.267628,
     "end_time": "2022-11-20T00:45:22.438203",
     "exception": false,
     "start_time": "2022-11-20T00:45:22.170575",
     "status": "completed"
    },
    "tags": []
   },
   "outputs": [
    {
     "data": {
      "text/plain": [
       "Text(0.5, 1.0, 'Outputs')"
      ]
     },
     "execution_count": 26,
     "metadata": {},
     "output_type": "execute_result"
    },
    {
     "data": {
      "image/png": "[encoded data removed]",
      "text/plain": [
       "<Figure size 576x504 with 1 Axes>"
      ]
     },
     "metadata": {
      "needs_background": "light"
     },
     "output_type": "display_data"
    }
   ],
   "source": [
    "# Plotting the scatter plot of points and color coding by class\n",
    "plt.figure(figsize=(8,7))\n",
    "plt.scatter(testing_plot[:,0], testing_plot[:,1], alpha = 0.1, c = y_test.ravel());\n",
    "plt.title('Outputs')"
   ]
  },
  {
   "cell_type": "markdown",
   "id": "a74fcf8f",
   "metadata": {
    "papermill": {
     "duration": 0.045248,
     "end_time": "2022-11-20T00:45:22.529399",
     "exception": false,
     "start_time": "2022-11-20T00:45:22.484151",
     "status": "completed"
    },
    "tags": []
   },
   "source": [
    "Probability contours"
   ]
  },
  {
   "cell_type": "code",
   "execution_count": 27,
   "id": "d0afc8e3",
   "metadata": {
    "execution": {
     "iopub.execute_input": "2022-11-20T00:45:22.633959Z",
     "iopub.status.busy": "2022-11-20T00:45:22.633349Z",
     "iopub.status.idle": "2022-11-20T00:45:22.640840Z",
     "shell.execute_reply": "2022-11-20T00:45:22.641578Z"
    },
    "papermill": {
     "duration": 0.066847,
     "end_time": "2022-11-20T00:45:22.641720",
     "exception": false,
     "start_time": "2022-11-20T00:45:22.574873",
     "status": "completed"
    },
    "tags": []
   },
   "outputs": [],
   "source": [
    "model_prob = Model(layers[-2:]) "
   ]
  },
  {
   "cell_type": "code",
   "execution_count": 28,
   "id": "9b96e238",
   "metadata": {
    "execution": {
     "iopub.execute_input": "2022-11-20T00:45:22.738140Z",
     "iopub.status.busy": "2022-11-20T00:45:22.737236Z",
     "iopub.status.idle": "2022-11-20T00:45:22.752476Z",
     "shell.execute_reply": "2022-11-20T00:45:22.752026Z"
    },
    "papermill": {
     "duration": 0.065395,
     "end_time": "2022-11-20T00:45:22.752591",
     "exception": false,
     "start_time": "2022-11-20T00:45:22.687196",
     "status": "completed"
    },
    "tags": []
   },
   "outputs": [],
   "source": [
    "#creating the x and y ranges according to the above generated plot.\n",
    "x_range = np.linspace(-4, 1, 100) \n",
    "y_range = np.linspace(-6, 6, 100) \n",
    "x_grid, y_grid = np.meshgrid(x_range, y_range) # x_grid and y_grig are of size 100 X 100\n",
    "\n",
    "# converting x_grid and y_grid to continuous arrays\n",
    "x_gridflat = np.ravel(x_grid)\n",
    "y_gridflat = np.ravel(y_grid)\n",
    "\n",
    "# The last layer of the current model takes two columns as input. Hence transpose of np.vstack() is required.\n",
    "X = np.vstack((x_gridflat, y_gridflat)).T\n",
    "\n",
    "prob_contour = model_prob(X).reshape(100,100) "
   ]
  },
  {
   "cell_type": "code",
   "execution_count": 29,
   "id": "da72499a",
   "metadata": {
    "execution": {
     "iopub.execute_input": "2022-11-20T00:45:22.877523Z",
     "iopub.status.busy": "2022-11-20T00:45:22.876858Z",
     "iopub.status.idle": "2022-11-20T00:45:23.129769Z",
     "shell.execute_reply": "2022-11-20T00:45:23.130655Z"
    },
    "papermill": {
     "duration": 0.303765,
     "end_time": "2022-11-20T00:45:23.130805",
     "exception": false,
     "start_time": "2022-11-20T00:45:22.827040",
     "status": "completed"
    },
    "tags": []
   },
   "outputs": [
    {
     "data": {
      "image/png": "[encoded data removed]",
      "text/plain": [
       "<Figure size 720x648 with 1 Axes>"
      ]
     },
     "metadata": {
      "needs_background": "light"
     },
     "output_type": "display_data"
    }
   ],
   "source": [
    "plt.figure(figsize=(10,9))\n",
    "plt.scatter(testing_plot[:,0], testing_plot[:,1], alpha = 0.1, c = y_test.ravel())\n",
    "contours = plt.contour(x_grid,y_grid,prob_contour)\n",
    "plt.title('Probability Contours')\n",
    "plt.clabel(contours, inline = True );"
   ]
  },
  {
   "cell_type": "code",
   "execution_count": null,
   "id": "e81b4ac7",
   "metadata": {
    "papermill": {
     "duration": 0.047873,
     "end_time": "2022-11-20T00:45:23.227099",
     "exception": false,
     "start_time": "2022-11-20T00:45:23.179226",
     "status": "completed"
    },
    "tags": []
   },
   "outputs": [],
   "source": []
  }
 ],
 "metadata": {
  "kernelspec": {
   "display_name": "Python 3",
   "language": "python",
   "name": "python3"
  },
  "language_info": {
   "codemirror_mode": {
    "name": "ipython",
    "version": 3
   },
   "file_extension": ".py",
   "mimetype": "text/x-python",
   "name": "python",
   "nbconvert_exporter": "python",
   "pygments_lexer": "ipython3",
   "version": "3.6.15"
  },
  "papermill": {
   "default_parameters": {},
   "duration": 95.688852,
   "end_time": "2022-11-20T00:45:23.694019",
   "environment_variables": {},
   "exception": null,
   "input_path": "2020-08-11-part2.ipynb",
   "output_path": "2020-08-11-part2.ipynb",
   "parameters": {},
   "start_time": "2022-11-20T00:43:48.005167",
   "version": "2.3.3"
  }
 },
 "nbformat": 4,
 "nbformat_minor": 5
}