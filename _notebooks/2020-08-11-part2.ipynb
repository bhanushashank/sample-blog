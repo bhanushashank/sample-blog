{
 "cells": [
  {
   "cell_type": "markdown",
   "id": "98380cd3",
   "metadata": {
    "papermill": {
     "duration": 0.033971,
     "end_time": "2022-02-27T20:10:08.855920",
     "exception": false,
     "start_time": "2022-02-27T20:10:08.821949",
     "status": "completed"
    },
    "tags": []
   },
   "source": [
    "# Distinguish Your Own Digits (DYOD)"
   ]
  },
  {
   "cell_type": "markdown",
   "id": "ef31240d",
   "metadata": {
    "papermill": {
     "duration": 0.033768,
     "end_time": "2022-02-27T20:10:08.919495",
     "exception": false,
     "start_time": "2022-02-27T20:10:08.885727",
     "status": "completed"
    },
    "tags": []
   },
   "source": [
    "You are going to write a classifier that distinguishes between the number 3 and number 8."
   ]
  },
  {
   "cell_type": "code",
   "execution_count": 1,
   "id": "b15c8646",
   "metadata": {
    "execution": {
     "iopub.execute_input": "2022-02-27T20:10:08.993937Z",
     "iopub.status.busy": "2022-02-27T20:10:08.993014Z",
     "iopub.status.idle": "2022-02-27T20:10:09.005104Z",
     "shell.execute_reply": "2022-02-27T20:10:09.004566Z"
    },
    "papermill": {
     "duration": 0.055046,
     "end_time": "2022-02-27T20:10:09.005266",
     "exception": false,
     "start_time": "2022-02-27T20:10:08.950220",
     "status": "completed"
    },
    "tags": []
   },
   "outputs": [],
   "source": [
    "%load_ext autoreload\n",
    "%autoreload 2"
   ]
  },
  {
   "cell_type": "code",
   "execution_count": 2,
   "id": "22ef38dc",
   "metadata": {
    "execution": {
     "iopub.execute_input": "2022-02-27T20:10:09.068221Z",
     "iopub.status.busy": "2022-02-27T20:10:09.067582Z",
     "iopub.status.idle": "2022-02-27T20:10:09.797559Z",
     "shell.execute_reply": "2022-02-27T20:10:09.796987Z"
    },
    "papermill": {
     "duration": 0.762758,
     "end_time": "2022-02-27T20:10:09.797710",
     "exception": false,
     "start_time": "2022-02-27T20:10:09.034952",
     "status": "completed"
    },
    "tags": []
   },
   "outputs": [],
   "source": [
    "%matplotlib inline\n",
    "import numpy as np\n",
    "import matplotlib.pyplot as plt\n",
    "import pandas as pd"
   ]
  },
  {
   "cell_type": "markdown",
   "id": "ba036198",
   "metadata": {
    "papermill": {
     "duration": 0.029145,
     "end_time": "2022-02-27T20:10:09.857323",
     "exception": false,
     "start_time": "2022-02-27T20:10:09.828178",
     "status": "completed"
    },
    "tags": []
   },
   "source": [
    "From the command line run `pip install mnist`. This is a library that will help you bring down the mnist dataset. If you run this from a notebook, you need to put  `!pip install mnist` in a cell by itself."
   ]
  },
  {
   "cell_type": "code",
   "execution_count": 3,
   "id": "bb6ad8a1",
   "metadata": {
    "execution": {
     "iopub.execute_input": "2022-02-27T20:10:09.929493Z",
     "iopub.status.busy": "2022-02-27T20:10:09.928846Z",
     "iopub.status.idle": "2022-02-27T20:10:12.613891Z",
     "shell.execute_reply": "2022-02-27T20:10:12.613298Z"
    },
    "papermill": {
     "duration": 2.722236,
     "end_time": "2022-02-27T20:10:12.614036",
     "exception": false,
     "start_time": "2022-02-27T20:10:09.891800",
     "status": "completed"
    },
    "tags": []
   },
   "outputs": [
    {
     "name": "stdout",
     "output_type": "stream",
     "text": [
      "Collecting mnist\r\n"
     ]
    },
    {
     "name": "stdout",
     "output_type": "stream",
     "text": [
      "  Downloading mnist-0.2.2-py2.py3-none-any.whl (3.5 kB)\r\n",
      "Requirement already satisfied: numpy in /opt/hostedtoolcache/Python/3.6.15/x64/lib/python3.6/site-packages (from mnist) (1.19.5)\r\n"
     ]
    },
    {
     "name": "stdout",
     "output_type": "stream",
     "text": [
      "Installing collected packages: mnist\r\n",
      "Successfully installed mnist-0.2.2\r\n"
     ]
    }
   ],
   "source": [
    "!pip install mnist"
   ]
  },
  {
   "cell_type": "markdown",
   "id": "69df9c9a",
   "metadata": {
    "papermill": {
     "duration": 0.028908,
     "end_time": "2022-02-27T20:10:12.672349",
     "exception": false,
     "start_time": "2022-02-27T20:10:12.643441",
     "status": "completed"
    },
    "tags": []
   },
   "source": [
    "## Preparing the Data"
   ]
  },
  {
   "cell_type": "code",
   "execution_count": 4,
   "id": "7f69d806",
   "metadata": {
    "execution": {
     "iopub.execute_input": "2022-02-27T20:10:12.734703Z",
     "iopub.status.busy": "2022-02-27T20:10:12.734081Z",
     "iopub.status.idle": "2022-02-27T20:10:12.750781Z",
     "shell.execute_reply": "2022-02-27T20:10:12.751304Z"
    },
    "papermill": {
     "duration": 0.05035,
     "end_time": "2022-02-27T20:10:12.751462",
     "exception": false,
     "start_time": "2022-02-27T20:10:12.701112",
     "status": "completed"
    },
    "tags": []
   },
   "outputs": [],
   "source": [
    "import mnist"
   ]
  },
  {
   "cell_type": "code",
   "execution_count": 5,
   "id": "a411e44f",
   "metadata": {
    "execution": {
     "iopub.execute_input": "2022-02-27T20:10:12.813309Z",
     "iopub.status.busy": "2022-02-27T20:10:12.812690Z",
     "iopub.status.idle": "2022-02-27T20:10:13.444110Z",
     "shell.execute_reply": "2022-02-27T20:10:13.444617Z"
    },
    "papermill": {
     "duration": 0.664378,
     "end_time": "2022-02-27T20:10:13.444795",
     "exception": false,
     "start_time": "2022-02-27T20:10:12.780417",
     "status": "completed"
    },
    "tags": []
   },
   "outputs": [],
   "source": [
    "train_images = mnist.train_images()\n",
    "train_labels = mnist.train_labels()"
   ]
  },
  {
   "cell_type": "code",
   "execution_count": 6,
   "id": "dceab3a5",
   "metadata": {
    "execution": {
     "iopub.execute_input": "2022-02-27T20:10:13.516133Z",
     "iopub.status.busy": "2022-02-27T20:10:13.514113Z",
     "iopub.status.idle": "2022-02-27T20:10:13.529955Z",
     "shell.execute_reply": "2022-02-27T20:10:13.529456Z"
    },
    "papermill": {
     "duration": 0.0557,
     "end_time": "2022-02-27T20:10:13.530089",
     "exception": false,
     "start_time": "2022-02-27T20:10:13.474389",
     "status": "completed"
    },
    "tags": []
   },
   "outputs": [
    {
     "data": {
      "text/plain": [
       "((60000, 28, 28), (60000,))"
      ]
     },
     "execution_count": 6,
     "metadata": {},
     "output_type": "execute_result"
    }
   ],
   "source": [
    "train_images.shape, train_labels.shape"
   ]
  },
  {
   "cell_type": "code",
   "execution_count": 7,
   "id": "f50dc2bb",
   "metadata": {
    "execution": {
     "iopub.execute_input": "2022-02-27T20:10:13.595120Z",
     "iopub.status.busy": "2022-02-27T20:10:13.594500Z",
     "iopub.status.idle": "2022-02-27T20:10:13.746290Z",
     "shell.execute_reply": "2022-02-27T20:10:13.744742Z"
    },
    "papermill": {
     "duration": 0.186664,
     "end_time": "2022-02-27T20:10:13.746478",
     "exception": false,
     "start_time": "2022-02-27T20:10:13.559814",
     "status": "completed"
    },
    "tags": []
   },
   "outputs": [],
   "source": [
    "test_images = mnist.test_images()\n",
    "test_labels = mnist.test_labels()"
   ]
  },
  {
   "cell_type": "code",
   "execution_count": 8,
   "id": "fc38cf1b",
   "metadata": {
    "execution": {
     "iopub.execute_input": "2022-02-27T20:10:13.810359Z",
     "iopub.status.busy": "2022-02-27T20:10:13.809733Z",
     "iopub.status.idle": "2022-02-27T20:10:13.824104Z",
     "shell.execute_reply": "2022-02-27T20:10:13.824597Z"
    },
    "papermill": {
     "duration": 0.048169,
     "end_time": "2022-02-27T20:10:13.824752",
     "exception": false,
     "start_time": "2022-02-27T20:10:13.776583",
     "status": "completed"
    },
    "tags": []
   },
   "outputs": [
    {
     "data": {
      "text/plain": [
       "((10000, 28, 28), (10000,))"
      ]
     },
     "execution_count": 8,
     "metadata": {},
     "output_type": "execute_result"
    }
   ],
   "source": [
    "test_images.shape, test_labels.shape"
   ]
  },
  {
   "cell_type": "code",
   "execution_count": 9,
   "id": "f9ed8fe0",
   "metadata": {
    "execution": {
     "iopub.execute_input": "2022-02-27T20:10:13.890046Z",
     "iopub.status.busy": "2022-02-27T20:10:13.889412Z",
     "iopub.status.idle": "2022-02-27T20:10:14.062929Z",
     "shell.execute_reply": "2022-02-27T20:10:14.063539Z"
    },
    "papermill": {
     "duration": 0.209569,
     "end_time": "2022-02-27T20:10:14.063725",
     "exception": false,
     "start_time": "2022-02-27T20:10:13.854156",
     "status": "completed"
    },
    "tags": []
   },
   "outputs": [
    {
     "name": "stdout",
     "output_type": "stream",
     "text": [
      "2\n"
     ]
    },
    {
     "data": {
      "text/plain": [
       "<matplotlib.image.AxesImage at 0x7fcca42f95c0>"
      ]
     },
     "execution_count": 9,
     "metadata": {},
     "output_type": "execute_result"
    },
    {
     "data": {
      "image/png": "[encoded data removed]",
      "text/plain": [
       "<Figure size 432x288 with 1 Axes>"
      ]
     },
     "metadata": {
      "needs_background": "light"
     },
     "output_type": "display_data"
    }
   ],
   "source": [
    "image_index = 7776 # You may select anything up to 60,000\n",
    "print(train_labels[image_index]) \n",
    "plt.imshow(train_images[image_index], cmap='Greys')"
   ]
  },
  {
   "cell_type": "markdown",
   "id": "a8d2388d",
   "metadata": {
    "papermill": {
     "duration": 0.031658,
     "end_time": "2022-02-27T20:10:14.128430",
     "exception": false,
     "start_time": "2022-02-27T20:10:14.096772",
     "status": "completed"
    },
    "tags": []
   },
   "source": [
    "## Filter data to get 3 and 8 out"
   ]
  },
  {
   "cell_type": "code",
   "execution_count": 10,
   "id": "776f7fc7",
   "metadata": {
    "execution": {
     "iopub.execute_input": "2022-02-27T20:10:14.200654Z",
     "iopub.status.busy": "2022-02-27T20:10:14.198483Z",
     "iopub.status.idle": "2022-02-27T20:10:14.218748Z",
     "shell.execute_reply": "2022-02-27T20:10:14.218180Z"
    },
    "papermill": {
     "duration": 0.055713,
     "end_time": "2022-02-27T20:10:14.218893",
     "exception": false,
     "start_time": "2022-02-27T20:10:14.163180",
     "status": "completed"
    },
    "tags": []
   },
   "outputs": [],
   "source": [
    "train_filter = np.where((train_labels == 3 ) | (train_labels == 8))\n",
    "test_filter = np.where((test_labels == 3) | (test_labels == 8))\n",
    "X_train, y_train = train_images[train_filter], train_labels[train_filter]\n",
    "X_test, y_test = test_images[test_filter], test_labels[test_filter]"
   ]
  },
  {
   "cell_type": "markdown",
   "id": "948f0b7e",
   "metadata": {
    "papermill": {
     "duration": 0.030784,
     "end_time": "2022-02-27T20:10:14.280609",
     "exception": false,
     "start_time": "2022-02-27T20:10:14.249825",
     "status": "completed"
    },
    "tags": []
   },
   "source": [
    "We normalize the pizel values in the 0 to 1 range"
   ]
  },
  {
   "cell_type": "code",
   "execution_count": 11,
   "id": "ee4c2166",
   "metadata": {
    "execution": {
     "iopub.execute_input": "2022-02-27T20:10:14.349966Z",
     "iopub.status.busy": "2022-02-27T20:10:14.349336Z",
     "iopub.status.idle": "2022-02-27T20:10:14.402996Z",
     "shell.execute_reply": "2022-02-27T20:10:14.402195Z"
    },
    "papermill": {
     "duration": 0.091605,
     "end_time": "2022-02-27T20:10:14.403184",
     "exception": false,
     "start_time": "2022-02-27T20:10:14.311579",
     "status": "completed"
    },
    "tags": []
   },
   "outputs": [],
   "source": [
    "X_train = X_train/255.\n",
    "X_test = X_test/255."
   ]
  },
  {
   "cell_type": "markdown",
   "id": "ddcf4fab",
   "metadata": {
    "papermill": {
     "duration": 0.030706,
     "end_time": "2022-02-27T20:10:14.466875",
     "exception": false,
     "start_time": "2022-02-27T20:10:14.436169",
     "status": "completed"
    },
    "tags": []
   },
   "source": [
    "And setup the labels as 1 (when the digit is 3) and 0 (when the digit is 8)"
   ]
  },
  {
   "cell_type": "code",
   "execution_count": 12,
   "id": "7dc908f2",
   "metadata": {
    "execution": {
     "iopub.execute_input": "2022-02-27T20:10:14.533751Z",
     "iopub.status.busy": "2022-02-27T20:10:14.533111Z",
     "iopub.status.idle": "2022-02-27T20:10:14.546979Z",
     "shell.execute_reply": "2022-02-27T20:10:14.546473Z"
    },
    "papermill": {
     "duration": 0.049379,
     "end_time": "2022-02-27T20:10:14.547119",
     "exception": false,
     "start_time": "2022-02-27T20:10:14.497740",
     "status": "completed"
    },
    "tags": []
   },
   "outputs": [],
   "source": [
    "y_train = 1*(y_train==3)\n",
    "y_test = 1*(y_test==3)"
   ]
  },
  {
   "cell_type": "code",
   "execution_count": 13,
   "id": "01e4e969",
   "metadata": {
    "execution": {
     "iopub.execute_input": "2022-02-27T20:10:14.614569Z",
     "iopub.status.busy": "2022-02-27T20:10:14.613948Z",
     "iopub.status.idle": "2022-02-27T20:10:14.628801Z",
     "shell.execute_reply": "2022-02-27T20:10:14.628272Z"
    },
    "papermill": {
     "duration": 0.050816,
     "end_time": "2022-02-27T20:10:14.628938",
     "exception": false,
     "start_time": "2022-02-27T20:10:14.578122",
     "status": "completed"
    },
    "tags": []
   },
   "outputs": [
    {
     "data": {
      "text/plain": [
       "((11982, 28, 28), (1984, 28, 28))"
      ]
     },
     "execution_count": 13,
     "metadata": {},
     "output_type": "execute_result"
    }
   ],
   "source": [
    "X_train.shape, X_test.shape"
   ]
  },
  {
   "cell_type": "markdown",
   "id": "5ccf3f85",
   "metadata": {
    "papermill": {
     "duration": 0.030888,
     "end_time": "2022-02-27T20:10:14.690830",
     "exception": false,
     "start_time": "2022-02-27T20:10:14.659942",
     "status": "completed"
    },
    "tags": []
   },
   "source": [
    "We reshape the data to flatten the image pixels into a set of features or co-variates:"
   ]
  },
  {
   "cell_type": "code",
   "execution_count": 14,
   "id": "5286a4a3",
   "metadata": {
    "execution": {
     "iopub.execute_input": "2022-02-27T20:10:14.758078Z",
     "iopub.status.busy": "2022-02-27T20:10:14.757417Z",
     "iopub.status.idle": "2022-02-27T20:10:14.772998Z",
     "shell.execute_reply": "2022-02-27T20:10:14.772468Z"
    },
    "papermill": {
     "duration": 0.051076,
     "end_time": "2022-02-27T20:10:14.773133",
     "exception": false,
     "start_time": "2022-02-27T20:10:14.722057",
     "status": "completed"
    },
    "tags": []
   },
   "outputs": [
    {
     "data": {
      "text/plain": [
       "((11982, 784), (1984, 784))"
      ]
     },
     "execution_count": 14,
     "metadata": {},
     "output_type": "execute_result"
    }
   ],
   "source": [
    "X_train = X_train.reshape(X_train.shape[0], -1)\n",
    "X_test = X_test.reshape(X_test.shape[0], -1)\n",
    "X_train.shape, X_test.shape"
   ]
  },
  {
   "cell_type": "code",
   "execution_count": 15,
   "id": "73c5f88a",
   "metadata": {
    "execution": {
     "iopub.execute_input": "2022-02-27T20:10:14.841407Z",
     "iopub.status.busy": "2022-02-27T20:10:14.840770Z",
     "iopub.status.idle": "2022-02-27T20:10:14.863741Z",
     "shell.execute_reply": "2022-02-27T20:10:14.862986Z"
    },
    "papermill": {
     "duration": 0.059269,
     "end_time": "2022-02-27T20:10:14.863920",
     "exception": false,
     "start_time": "2022-02-27T20:10:14.804651",
     "status": "completed"
    },
    "tags": []
   },
   "outputs": [],
   "source": [
    "#Impoting functions from 'Kudzu'\n",
    "from kudzu.model import Model\n",
    "from kudzu.train import Learner\n",
    "from kudzu.optim import GD\n",
    "from kudzu.data import Data, Sampler,Dataloader\n",
    "\n",
    "from kudzu.callbacks import AccCallback\n",
    "from kudzu.callbacks import ClfCallback\n",
    "\n",
    "from kudzu.loss import MSE\n",
    "\n",
    "from kudzu.layer import Sigmoid,Relu\n",
    "from kudzu.layer import Affine"
   ]
  },
  {
   "cell_type": "markdown",
   "id": "bc01172a",
   "metadata": {
    "papermill": {
     "duration": 0.031452,
     "end_time": "2022-02-27T20:10:14.928216",
     "exception": false,
     "start_time": "2022-02-27T20:10:14.896764",
     "status": "completed"
    },
    "tags": []
   },
   "source": [
    "### Let us create a `Config` class, to store important parameters. \n",
    "This class essentially plays the role of a dictionary."
   ]
  },
  {
   "cell_type": "code",
   "execution_count": 16,
   "id": "978281aa",
   "metadata": {
    "execution": {
     "iopub.execute_input": "2022-02-27T20:10:14.995917Z",
     "iopub.status.busy": "2022-02-27T20:10:14.995267Z",
     "iopub.status.idle": "2022-02-27T20:10:15.009925Z",
     "shell.execute_reply": "2022-02-27T20:10:15.010467Z"
    },
    "papermill": {
     "duration": 0.051139,
     "end_time": "2022-02-27T20:10:15.010627",
     "exception": false,
     "start_time": "2022-02-27T20:10:14.959488",
     "status": "completed"
    },
    "tags": []
   },
   "outputs": [],
   "source": [
    "class Config:\n",
    "    pass\n",
    "config = Config()\n",
    "config.lr = 0.001\n",
    "config.num_epochs = 250\n",
    "config.bs = 50"
   ]
  },
  {
   "cell_type": "markdown",
   "id": "1385fa59",
   "metadata": {
    "papermill": {
     "duration": 0.031317,
     "end_time": "2022-02-27T20:10:15.073413",
     "exception": false,
     "start_time": "2022-02-27T20:10:15.042096",
     "status": "completed"
    },
    "tags": []
   },
   "source": [
    "### Running Models with the Training data\n",
    "Details about the network layers:\n",
    "- A first affine layer has 784 inputs and does 100 affine transforms. These are followed by a Relu\n",
    "- A second affine layer has 100 inputs from the 100 activations of the past layer, and does 100 affine transforms. These are followed by a Relu\n",
    "- A third affine layer has 100 activations and does 2 affine transformations to create an embedding for visualization. There is no non-linearity here.\n",
    "- A final \"logistic regression\" which has an affine transform from 2 inputs to 1 output, which is squeezed through a sigmoid.\n"
   ]
  },
  {
   "cell_type": "code",
   "execution_count": 17,
   "id": "2b9c66db",
   "metadata": {
    "execution": {
     "iopub.execute_input": "2022-02-27T20:10:15.140915Z",
     "iopub.status.busy": "2022-02-27T20:10:15.140281Z",
     "iopub.status.idle": "2022-02-27T20:10:15.154019Z",
     "shell.execute_reply": "2022-02-27T20:10:15.154613Z"
    },
    "papermill": {
     "duration": 0.050023,
     "end_time": "2022-02-27T20:10:15.154768",
     "exception": false,
     "start_time": "2022-02-27T20:10:15.104745",
     "status": "completed"
    },
    "tags": []
   },
   "outputs": [],
   "source": [
    "data = Data(X_train, y_train.reshape(-1,1))\n",
    "sampler = Sampler(data, config.bs, shuffle=True)\n",
    "\n",
    "dl = Dataloader(data, sampler)\n",
    "\n",
    "opt = GD(config.lr)\n",
    "loss = MSE()"
   ]
  },
  {
   "cell_type": "code",
   "execution_count": 18,
   "id": "b275e4c2",
   "metadata": {
    "execution": {
     "iopub.execute_input": "2022-02-27T20:10:15.222282Z",
     "iopub.status.busy": "2022-02-27T20:10:15.221654Z",
     "iopub.status.idle": "2022-02-27T20:10:15.235612Z",
     "shell.execute_reply": "2022-02-27T20:10:15.235082Z"
    },
    "papermill": {
     "duration": 0.049149,
     "end_time": "2022-02-27T20:10:15.235751",
     "exception": false,
     "start_time": "2022-02-27T20:10:15.186602",
     "status": "completed"
    },
    "tags": []
   },
   "outputs": [],
   "source": [
    "training_data_x = X_train\n",
    "testing_data_x = X_test\n",
    "training_data_y = y_train.reshape(-1,1)\n",
    "testing_data_y = y_test.reshape(-1,1)"
   ]
  },
  {
   "cell_type": "code",
   "execution_count": 19,
   "id": "76951160",
   "metadata": {
    "execution": {
     "iopub.execute_input": "2022-02-27T20:10:15.304913Z",
     "iopub.status.busy": "2022-02-27T20:10:15.304276Z",
     "iopub.status.idle": "2022-02-27T20:10:15.324025Z",
     "shell.execute_reply": "2022-02-27T20:10:15.323516Z"
    },
    "papermill": {
     "duration": 0.057119,
     "end_time": "2022-02-27T20:10:15.324167",
     "exception": false,
     "start_time": "2022-02-27T20:10:15.267048",
     "status": "completed"
    },
    "tags": []
   },
   "outputs": [
    {
     "name": "stdout",
     "output_type": "stream",
     "text": [
      "xavier\n",
      "xavier\n",
      "xavier\n",
      "xavier\n",
      "xavier\n"
     ]
    }
   ],
   "source": [
    "layers = [Affine(\"first\", 784, 100), Relu(\"first\"), Affine(\"second\", 100, 100), Relu(\"second\"), Affine(\"third\", 100, 2), Affine(\"last\", 2, 1), Sigmoid(\"last\")]\n",
    "model_nn = Model(layers)\n",
    "model_lr = Model([Affine(\"logits\", 784, 1), Sigmoid(\"sigmoid\")])"
   ]
  },
  {
   "cell_type": "code",
   "execution_count": 20,
   "id": "6eede77a",
   "metadata": {
    "execution": {
     "iopub.execute_input": "2022-02-27T20:10:15.397372Z",
     "iopub.status.busy": "2022-02-27T20:10:15.396745Z",
     "iopub.status.idle": "2022-02-27T20:10:15.409037Z",
     "shell.execute_reply": "2022-02-27T20:10:15.408539Z"
    },
    "papermill": {
     "duration": 0.05302,
     "end_time": "2022-02-27T20:10:15.409173",
     "exception": false,
     "start_time": "2022-02-27T20:10:15.356153",
     "status": "completed"
    },
    "tags": []
   },
   "outputs": [],
   "source": [
    "nn_learner = Learner(loss, model_nn, opt, config.num_epochs)\n",
    "acc_nn = ClfCallback(nn_learner, config.bs, training_data_x , testing_data_x, training_data_y, testing_data_y)\n",
    "nn_learner.set_callbacks([acc_nn])"
   ]
  },
  {
   "cell_type": "code",
   "execution_count": 21,
   "id": "877b6cc7",
   "metadata": {
    "execution": {
     "iopub.execute_input": "2022-02-27T20:10:15.477599Z",
     "iopub.status.busy": "2022-02-27T20:10:15.476978Z",
     "iopub.status.idle": "2022-02-27T20:10:15.490997Z",
     "shell.execute_reply": "2022-02-27T20:10:15.490481Z"
    },
    "papermill": {
     "duration": 0.049963,
     "end_time": "2022-02-27T20:10:15.491134",
     "exception": false,
     "start_time": "2022-02-27T20:10:15.441171",
     "status": "completed"
    },
    "tags": []
   },
   "outputs": [],
   "source": [
    "lr_learner = Learner(loss, model_lr, opt, config.num_epochs)\n",
    "acc_lr = ClfCallback(lr_learner, config.bs, training_data_x , testing_data_x, training_data_y, testing_data_y)\n",
    "lr_learner.set_callbacks([acc_lr])"
   ]
  },
  {
   "cell_type": "code",
   "execution_count": 22,
   "id": "d9b133c3",
   "metadata": {
    "execution": {
     "iopub.execute_input": "2022-02-27T20:10:15.559383Z",
     "iopub.status.busy": "2022-02-27T20:10:15.558693Z",
     "iopub.status.idle": "2022-02-27T20:11:44.500047Z",
     "shell.execute_reply": "2022-02-27T20:11:44.500633Z"
    },
    "papermill": {
     "duration": 88.977693,
     "end_time": "2022-02-27T20:11:44.500798",
     "exception": false,
     "start_time": "2022-02-27T20:10:15.523105",
     "status": "completed"
    },
    "tags": []
   },
   "outputs": [
    {
     "name": "stdout",
     "output_type": "stream",
     "text": [
      "Epoch 0, Loss 0.2545\n",
      "Training Accuracy: 0.5178, Testing Accuracy: 0.5166\n",
      "\n"
     ]
    },
    {
     "name": "stdout",
     "output_type": "stream",
     "text": [
      "Epoch 10, Loss 0.1516\n",
      "Training Accuracy: 0.9014, Testing Accuracy: 0.9113\n",
      "\n"
     ]
    },
    {
     "name": "stdout",
     "output_type": "stream",
     "text": [
      "Epoch 20, Loss 0.0756\n",
      "Training Accuracy: 0.9267, Testing Accuracy: 0.9345\n",
      "\n"
     ]
    },
    {
     "name": "stdout",
     "output_type": "stream",
     "text": [
      "Epoch 30, Loss 0.0541\n",
      "Training Accuracy: 0.9427, Testing Accuracy: 0.9516\n",
      "\n"
     ]
    },
    {
     "name": "stdout",
     "output_type": "stream",
     "text": [
      "Epoch 40, Loss 0.0445\n",
      "Training Accuracy: 0.9506, Testing Accuracy: 0.9597\n",
      "\n"
     ]
    },
    {
     "name": "stdout",
     "output_type": "stream",
     "text": [
      "Epoch 50, Loss 0.0391\n",
      "Training Accuracy: 0.9559, Testing Accuracy: 0.9632\n",
      "\n"
     ]
    },
    {
     "name": "stdout",
     "output_type": "stream",
     "text": [
      "Epoch 60, Loss 0.0356\n",
      "Training Accuracy: 0.9587, Testing Accuracy: 0.9627\n",
      "\n"
     ]
    },
    {
     "name": "stdout",
     "output_type": "stream",
     "text": [
      "Epoch 70, Loss 0.0332\n",
      "Training Accuracy: 0.9613, Testing Accuracy: 0.9652\n",
      "\n"
     ]
    },
    {
     "name": "stdout",
     "output_type": "stream",
     "text": [
      "Epoch 80, Loss 0.0313\n",
      "Training Accuracy: 0.9639, Testing Accuracy: 0.9677\n",
      "\n"
     ]
    },
    {
     "name": "stdout",
     "output_type": "stream",
     "text": [
      "Epoch 90, Loss 0.0298\n",
      "Training Accuracy: 0.9653, Testing Accuracy: 0.9688\n",
      "\n"
     ]
    },
    {
     "name": "stdout",
     "output_type": "stream",
     "text": [
      "Epoch 100, Loss 0.0286\n",
      "Training Accuracy: 0.9664, Testing Accuracy: 0.9682\n",
      "\n"
     ]
    },
    {
     "name": "stdout",
     "output_type": "stream",
     "text": [
      "Epoch 110, Loss 0.0276\n",
      "Training Accuracy: 0.9672, Testing Accuracy: 0.9688\n",
      "\n"
     ]
    },
    {
     "name": "stdout",
     "output_type": "stream",
     "text": [
      "Epoch 120, Loss 0.0267\n",
      "Training Accuracy: 0.9687, Testing Accuracy: 0.9698\n",
      "\n"
     ]
    },
    {
     "name": "stdout",
     "output_type": "stream",
     "text": [
      "Epoch 130, Loss 0.0258\n",
      "Training Accuracy: 0.9691, Testing Accuracy: 0.9698\n",
      "\n"
     ]
    },
    {
     "name": "stdout",
     "output_type": "stream",
     "text": [
      "Epoch 140, Loss 0.0251\n",
      "Training Accuracy: 0.9706, Testing Accuracy: 0.9693\n",
      "\n"
     ]
    },
    {
     "name": "stdout",
     "output_type": "stream",
     "text": [
      "Epoch 150, Loss 0.0245\n",
      "Training Accuracy: 0.9716, Testing Accuracy: 0.9693\n",
      "\n"
     ]
    },
    {
     "name": "stdout",
     "output_type": "stream",
     "text": [
      "Epoch 160, Loss 0.0239\n",
      "Training Accuracy: 0.9722, Testing Accuracy: 0.9698\n",
      "\n"
     ]
    },
    {
     "name": "stdout",
     "output_type": "stream",
     "text": [
      "Epoch 170, Loss 0.0233\n",
      "Training Accuracy: 0.9733, Testing Accuracy: 0.9708\n",
      "\n"
     ]
    },
    {
     "name": "stdout",
     "output_type": "stream",
     "text": [
      "Epoch 180, Loss 0.0228\n",
      "Training Accuracy: 0.9738, Testing Accuracy: 0.9703\n",
      "\n"
     ]
    },
    {
     "name": "stdout",
     "output_type": "stream",
     "text": [
      "Epoch 190, Loss 0.0223\n",
      "Training Accuracy: 0.9742, Testing Accuracy: 0.9708\n",
      "\n"
     ]
    },
    {
     "name": "stdout",
     "output_type": "stream",
     "text": [
      "Epoch 200, Loss 0.0219\n",
      "Training Accuracy: 0.9748, Testing Accuracy: 0.9723\n",
      "\n"
     ]
    },
    {
     "name": "stdout",
     "output_type": "stream",
     "text": [
      "Epoch 210, Loss 0.0214\n",
      "Training Accuracy: 0.9751, Testing Accuracy: 0.9728\n",
      "\n"
     ]
    },
    {
     "name": "stdout",
     "output_type": "stream",
     "text": [
      "Epoch 220, Loss 0.021\n",
      "Training Accuracy: 0.9757, Testing Accuracy: 0.9728\n",
      "\n"
     ]
    },
    {
     "name": "stdout",
     "output_type": "stream",
     "text": [
      "Epoch 230, Loss 0.0206\n",
      "Training Accuracy: 0.9765, Testing Accuracy: 0.9728\n",
      "\n"
     ]
    },
    {
     "name": "stdout",
     "output_type": "stream",
     "text": [
      "Epoch 240, Loss 0.0203\n",
      "Training Accuracy: 0.9777, Testing Accuracy: 0.9733\n",
      "\n"
     ]
    },
    {
     "data": {
      "text/plain": [
       "0.03650936136559048"
      ]
     },
     "execution_count": 22,
     "metadata": {},
     "output_type": "execute_result"
    }
   ],
   "source": [
    "nn_learner.train_loop(dl)"
   ]
  },
  {
   "cell_type": "code",
   "execution_count": 23,
   "id": "e0163366",
   "metadata": {
    "execution": {
     "iopub.execute_input": "2022-02-27T20:11:44.588205Z",
     "iopub.status.busy": "2022-02-27T20:11:44.586248Z",
     "iopub.status.idle": "2022-02-27T20:12:00.586673Z",
     "shell.execute_reply": "2022-02-27T20:12:00.587588Z"
    },
    "papermill": {
     "duration": 16.046393,
     "end_time": "2022-02-27T20:12:00.587763",
     "exception": false,
     "start_time": "2022-02-27T20:11:44.541370",
     "status": "completed"
    },
    "tags": []
   },
   "outputs": [
    {
     "name": "stdout",
     "output_type": "stream",
     "text": [
      "Epoch 0, Loss 0.2263\n",
      "Training Accuracy: 0.7308, Testing Accuracy: 0.7354\n",
      "\n"
     ]
    },
    {
     "name": "stdout",
     "output_type": "stream",
     "text": [
      "Epoch 10, Loss 0.1009\n",
      "Training Accuracy: 0.9139, Testing Accuracy: 0.9194\n",
      "\n"
     ]
    },
    {
     "name": "stdout",
     "output_type": "stream",
     "text": [
      "Epoch 20, Loss 0.078\n",
      "Training Accuracy: 0.9296, Testing Accuracy: 0.9375\n",
      "\n"
     ]
    },
    {
     "name": "stdout",
     "output_type": "stream",
     "text": [
      "Epoch 30, Loss 0.0674\n",
      "Training Accuracy: 0.9382, Testing Accuracy: 0.9486\n",
      "\n"
     ]
    },
    {
     "name": "stdout",
     "output_type": "stream",
     "text": [
      "Epoch 40, Loss 0.061\n",
      "Training Accuracy: 0.9415, Testing Accuracy: 0.9541\n",
      "\n"
     ]
    },
    {
     "name": "stdout",
     "output_type": "stream",
     "text": [
      "Epoch 50, Loss 0.0567\n",
      "Training Accuracy: 0.9452, Testing Accuracy: 0.9567\n",
      "\n"
     ]
    },
    {
     "name": "stdout",
     "output_type": "stream",
     "text": [
      "Epoch 60, Loss 0.0535\n",
      "Training Accuracy: 0.9477, Testing Accuracy: 0.9572\n",
      "\n"
     ]
    },
    {
     "name": "stdout",
     "output_type": "stream",
     "text": [
      "Epoch 70, Loss 0.051\n",
      "Training Accuracy: 0.9495, Testing Accuracy: 0.9582\n",
      "\n"
     ]
    },
    {
     "name": "stdout",
     "output_type": "stream",
     "text": [
      "Epoch 80, Loss 0.049\n",
      "Training Accuracy: 0.9509, Testing Accuracy: 0.9597\n",
      "\n"
     ]
    },
    {
     "name": "stdout",
     "output_type": "stream",
     "text": [
      "Epoch 90, Loss 0.0473\n",
      "Training Accuracy: 0.9523, Testing Accuracy: 0.9597\n",
      "\n"
     ]
    },
    {
     "name": "stdout",
     "output_type": "stream",
     "text": [
      "Epoch 100, Loss 0.0459\n",
      "Training Accuracy: 0.9536, Testing Accuracy: 0.9612\n",
      "\n"
     ]
    },
    {
     "name": "stdout",
     "output_type": "stream",
     "text": [
      "Epoch 110, Loss 0.0447\n",
      "Training Accuracy: 0.9545, Testing Accuracy: 0.9627\n",
      "\n"
     ]
    },
    {
     "name": "stdout",
     "output_type": "stream",
     "text": [
      "Epoch 120, Loss 0.0436\n",
      "Training Accuracy: 0.9557, Testing Accuracy: 0.9632\n",
      "\n"
     ]
    },
    {
     "name": "stdout",
     "output_type": "stream",
     "text": [
      "Epoch 130, Loss 0.0427\n",
      "Training Accuracy: 0.9562, Testing Accuracy: 0.9647\n",
      "\n"
     ]
    },
    {
     "name": "stdout",
     "output_type": "stream",
     "text": [
      "Epoch 140, Loss 0.0419\n",
      "Training Accuracy: 0.9572, Testing Accuracy: 0.9652\n",
      "\n"
     ]
    },
    {
     "name": "stdout",
     "output_type": "stream",
     "text": [
      "Epoch 150, Loss 0.0412\n",
      "Training Accuracy: 0.9577, Testing Accuracy: 0.9662\n",
      "\n"
     ]
    },
    {
     "name": "stdout",
     "output_type": "stream",
     "text": [
      "Epoch 160, Loss 0.0405\n",
      "Training Accuracy: 0.9582, Testing Accuracy: 0.9667\n",
      "\n"
     ]
    },
    {
     "name": "stdout",
     "output_type": "stream",
     "text": [
      "Epoch 170, Loss 0.0399\n",
      "Training Accuracy: 0.9584, Testing Accuracy: 0.9667\n",
      "\n"
     ]
    },
    {
     "name": "stdout",
     "output_type": "stream",
     "text": [
      "Epoch 180, Loss 0.0393\n",
      "Training Accuracy: 0.9591, Testing Accuracy: 0.9667\n",
      "\n"
     ]
    },
    {
     "name": "stdout",
     "output_type": "stream",
     "text": [
      "Epoch 190, Loss 0.0388\n",
      "Training Accuracy: 0.9600, Testing Accuracy: 0.9667\n",
      "\n"
     ]
    },
    {
     "name": "stdout",
     "output_type": "stream",
     "text": [
      "Epoch 200, Loss 0.0384\n",
      "Training Accuracy: 0.9604, Testing Accuracy: 0.9667\n",
      "\n"
     ]
    },
    {
     "name": "stdout",
     "output_type": "stream",
     "text": [
      "Epoch 210, Loss 0.0379\n",
      "Training Accuracy: 0.9608, Testing Accuracy: 0.9667\n",
      "\n"
     ]
    },
    {
     "name": "stdout",
     "output_type": "stream",
     "text": [
      "Epoch 220, Loss 0.0375\n",
      "Training Accuracy: 0.9608, Testing Accuracy: 0.9667\n",
      "\n"
     ]
    },
    {
     "name": "stdout",
     "output_type": "stream",
     "text": [
      "Epoch 230, Loss 0.0371\n",
      "Training Accuracy: 0.9609, Testing Accuracy: 0.9667\n",
      "\n"
     ]
    },
    {
     "name": "stdout",
     "output_type": "stream",
     "text": [
      "Epoch 240, Loss 0.0368\n",
      "Training Accuracy: 0.9613, Testing Accuracy: 0.9672\n",
      "\n"
     ]
    },
    {
     "data": {
      "text/plain": [
       "0.03502301977952557"
      ]
     },
     "execution_count": 23,
     "metadata": {},
     "output_type": "execute_result"
    }
   ],
   "source": [
    "lr_learner.train_loop(dl)"
   ]
  },
  {
   "cell_type": "code",
   "execution_count": 24,
   "id": "ca410940",
   "metadata": {
    "execution": {
     "iopub.execute_input": "2022-02-27T20:12:00.693403Z",
     "iopub.status.busy": "2022-02-27T20:12:00.692754Z",
     "iopub.status.idle": "2022-02-27T20:12:00.961163Z",
     "shell.execute_reply": "2022-02-27T20:12:00.961664Z"
    },
    "papermill": {
     "duration": 0.325929,
     "end_time": "2022-02-27T20:12:00.961827",
     "exception": false,
     "start_time": "2022-02-27T20:12:00.635898",
     "status": "completed"
    },
    "tags": []
   },
   "outputs": [
    {
     "data": {
      "text/plain": [
       "<matplotlib.legend.Legend at 0x7fcca3ed4da0>"
      ]
     },
     "execution_count": 24,
     "metadata": {},
     "output_type": "execute_result"
    },
    {
     "data": {
      "image/png": "[encoded data removed]",
      "text/plain": [
       "<Figure size 1080x720 with 1 Axes>"
      ]
     },
     "metadata": {
      "needs_background": "light"
     },
     "output_type": "display_data"
    }
   ],
   "source": [
    "#comparing the results of NN and LR\n",
    "plt.figure(figsize=(15,10))\n",
    "\n",
    "# Neural Network plots\n",
    "plt.plot(acc_nn.accuracies, 'r-', label = \"Training Accuracies - NN\")\n",
    "plt.plot(acc_nn.test_accuracies, 'g-', label = \"Testing Accuracies - NN\")\n",
    "\n",
    "# Logistic Regression plots\n",
    "plt.plot(acc_lr.accuracies, 'k-', label = \"Training Accuracies - LR\")\n",
    "plt.plot(acc_lr.test_accuracies, 'b-', label = \"Testing Accuracies - LR\")\n",
    "plt.legend()"
   ]
  },
  {
   "cell_type": "markdown",
   "id": "80dfb35c",
   "metadata": {
    "papermill": {
     "duration": 0.048763,
     "end_time": "2022-02-27T20:12:01.060143",
     "exception": false,
     "start_time": "2022-02-27T20:12:01.011380",
     "status": "completed"
    },
    "tags": []
   },
   "source": [
    "#### Plotting the outputs of this layer of the NN.\n"
   ]
  },
  {
   "cell_type": "code",
   "execution_count": 25,
   "id": "45eb2ff5",
   "metadata": {
    "execution": {
     "iopub.execute_input": "2022-02-27T20:12:01.164565Z",
     "iopub.status.busy": "2022-02-27T20:12:01.163938Z",
     "iopub.status.idle": "2022-02-27T20:12:01.184532Z",
     "shell.execute_reply": "2022-02-27T20:12:01.185042Z"
    },
    "papermill": {
     "duration": 0.076163,
     "end_time": "2022-02-27T20:12:01.185204",
     "exception": false,
     "start_time": "2022-02-27T20:12:01.109041",
     "status": "completed"
    },
    "tags": []
   },
   "outputs": [],
   "source": [
    "new_model = Model(layers[:-2])\n",
    "testing_plot = new_model(testing_data_x)"
   ]
  },
  {
   "cell_type": "code",
   "execution_count": 26,
   "id": "4c0a5485",
   "metadata": {
    "execution": {
     "iopub.execute_input": "2022-02-27T20:12:01.293007Z",
     "iopub.status.busy": "2022-02-27T20:12:01.289782Z",
     "iopub.status.idle": "2022-02-27T20:12:01.514371Z",
     "shell.execute_reply": "2022-02-27T20:12:01.514853Z"
    },
    "papermill": {
     "duration": 0.280097,
     "end_time": "2022-02-27T20:12:01.515022",
     "exception": false,
     "start_time": "2022-02-27T20:12:01.234925",
     "status": "completed"
    },
    "tags": []
   },
   "outputs": [
    {
     "data": {
      "text/plain": [
       "Text(0.5, 1.0, 'Outputs')"
      ]
     },
     "execution_count": 26,
     "metadata": {},
     "output_type": "execute_result"
    },
    {
     "data": {
      "image/png": "[encoded data removed]",
      "text/plain": [
       "<Figure size 576x504 with 1 Axes>"
      ]
     },
     "metadata": {
      "needs_background": "light"
     },
     "output_type": "display_data"
    }
   ],
   "source": [
    "# Plotting the scatter plot of points and color coding by class\n",
    "plt.figure(figsize=(8,7))\n",
    "plt.scatter(testing_plot[:,0], testing_plot[:,1], alpha = 0.1, c = y_test.ravel());\n",
    "plt.title('Outputs')"
   ]
  },
  {
   "cell_type": "markdown",
   "id": "a74fcf8f",
   "metadata": {
    "papermill": {
     "duration": 0.051553,
     "end_time": "2022-02-27T20:12:01.618284",
     "exception": false,
     "start_time": "2022-02-27T20:12:01.566731",
     "status": "completed"
    },
    "tags": []
   },
   "source": [
    "Probability contours"
   ]
  },
  {
   "cell_type": "code",
   "execution_count": 27,
   "id": "d0afc8e3",
   "metadata": {
    "execution": {
     "iopub.execute_input": "2022-02-27T20:12:01.726273Z",
     "iopub.status.busy": "2022-02-27T20:12:01.725622Z",
     "iopub.status.idle": "2022-02-27T20:12:01.740908Z",
     "shell.execute_reply": "2022-02-27T20:12:01.740367Z"
    },
    "papermill": {
     "duration": 0.071147,
     "end_time": "2022-02-27T20:12:01.741047",
     "exception": false,
     "start_time": "2022-02-27T20:12:01.669900",
     "status": "completed"
    },
    "tags": []
   },
   "outputs": [],
   "source": [
    "model_prob = Model(layers[-2:]) "
   ]
  },
  {
   "cell_type": "code",
   "execution_count": 28,
   "id": "9b96e238",
   "metadata": {
    "execution": {
     "iopub.execute_input": "2022-02-27T20:12:01.852049Z",
     "iopub.status.busy": "2022-02-27T20:12:01.850664Z",
     "iopub.status.idle": "2022-02-27T20:12:01.867714Z",
     "shell.execute_reply": "2022-02-27T20:12:01.867167Z"
    },
    "papermill": {
     "duration": 0.074971,
     "end_time": "2022-02-27T20:12:01.867856",
     "exception": false,
     "start_time": "2022-02-27T20:12:01.792885",
     "status": "completed"
    },
    "tags": []
   },
   "outputs": [],
   "source": [
    "#creating the x and y ranges according to the above generated plot.\n",
    "x_range = np.linspace(-4, 1, 100) \n",
    "y_range = np.linspace(-6, 6, 100) \n",
    "x_grid, y_grid = np.meshgrid(x_range, y_range) # x_grid and y_grig are of size 100 X 100\n",
    "\n",
    "# converting x_grid and y_grid to continuous arrays\n",
    "x_gridflat = np.ravel(x_grid)\n",
    "y_gridflat = np.ravel(y_grid)\n",
    "\n",
    "# The last layer of the current model takes two columns as input. Hence transpose of np.vstack() is required.\n",
    "X = np.vstack((x_gridflat, y_gridflat)).T\n",
    "\n",
    "prob_contour = model_prob(X).reshape(100,100) "
   ]
  },
  {
   "cell_type": "code",
   "execution_count": 29,
   "id": "da72499a",
   "metadata": {
    "execution": {
     "iopub.execute_input": "2022-02-27T20:12:02.007239Z",
     "iopub.status.busy": "2022-02-27T20:12:02.006585Z",
     "iopub.status.idle": "2022-02-27T20:12:02.298518Z",
     "shell.execute_reply": "2022-02-27T20:12:02.299010Z"
    },
    "papermill": {
     "duration": 0.348538,
     "end_time": "2022-02-27T20:12:02.299184",
     "exception": false,
     "start_time": "2022-02-27T20:12:01.950646",
     "status": "completed"
    },
    "tags": []
   },
   "outputs": [
    {
     "data": {
      "image/png": "[encoded data removed]",
      "text/plain": [
       "<Figure size 720x648 with 1 Axes>"
      ]
     },
     "metadata": {
      "needs_background": "light"
     },
     "output_type": "display_data"
    }
   ],
   "source": [
    "plt.figure(figsize=(10,9))\n",
    "plt.scatter(testing_plot[:,0], testing_plot[:,1], alpha = 0.1, c = y_test.ravel())\n",
    "contours = plt.contour(x_grid,y_grid,prob_contour)\n",
    "plt.title('Probability Contours')\n",
    "plt.clabel(contours, inline = True );"
   ]
  },
  {
   "cell_type": "code",
   "execution_count": null,
   "id": "e81b4ac7",
   "metadata": {
    "papermill": {
     "duration": 0.054616,
     "end_time": "2022-02-27T20:12:02.408730",
     "exception": false,
     "start_time": "2022-02-27T20:12:02.354114",
     "status": "completed"
    },
    "tags": []
   },
   "outputs": [],
   "source": []
  }
 ],
 "metadata": {
  "kernelspec": {
   "display_name": "Python 3",
   "language": "python",
   "name": "python3"
  },
  "language_info": {
   "codemirror_mode": {
    "name": "ipython",
    "version": 3
   },
   "file_extension": ".py",
   "mimetype": "text/x-python",
   "name": "python",
   "nbconvert_exporter": "python",
   "pygments_lexer": "ipython3",
   "version": "3.6.15"
  },
  "papermill": {
   "default_parameters": {},
   "duration": 115.36133,
   "end_time": "2022-02-27T20:12:02.882725",
   "environment_variables": {},
   "exception": null,
   "input_path": "2020-08-11-part2.ipynb",
   "output_path": "2020-08-11-part2.ipynb",
   "parameters": {},
   "start_time": "2022-02-27T20:10:07.521395",
   "version": "2.3.3"
  }
 },
 "nbformat": 4,
 "nbformat_minor": 5
}