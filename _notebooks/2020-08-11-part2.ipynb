{
 "cells": [
  {
   "cell_type": "markdown",
   "id": "98380cd3",
   "metadata": {
    "papermill": {
     "duration": 0.030878,
     "end_time": "2022-04-18T00:40:16.415211",
     "exception": false,
     "start_time": "2022-04-18T00:40:16.384333",
     "status": "completed"
    },
    "tags": []
   },
   "source": [
    "# Distinguish Your Own Digits (DYOD)"
   ]
  },
  {
   "cell_type": "markdown",
   "id": "ef31240d",
   "metadata": {
    "papermill": {
     "duration": 0.030337,
     "end_time": "2022-04-18T00:40:16.473017",
     "exception": false,
     "start_time": "2022-04-18T00:40:16.442680",
     "status": "completed"
    },
    "tags": []
   },
   "source": [
    "You are going to write a classifier that distinguishes between the number 3 and number 8."
   ]
  },
  {
   "cell_type": "code",
   "execution_count": 1,
   "id": "b15c8646",
   "metadata": {
    "execution": {
     "iopub.execute_input": "2022-04-18T00:40:16.537956Z",
     "iopub.status.busy": "2022-04-18T00:40:16.537244Z",
     "iopub.status.idle": "2022-04-18T00:40:16.548035Z",
     "shell.execute_reply": "2022-04-18T00:40:16.548505Z"
    },
    "papermill": {
     "duration": 0.048442,
     "end_time": "2022-04-18T00:40:16.548667",
     "exception": false,
     "start_time": "2022-04-18T00:40:16.500225",
     "status": "completed"
    },
    "tags": []
   },
   "outputs": [],
   "source": [
    "%load_ext autoreload\n",
    "%autoreload 2"
   ]
  },
  {
   "cell_type": "code",
   "execution_count": 2,
   "id": "22ef38dc",
   "metadata": {
    "execution": {
     "iopub.execute_input": "2022-04-18T00:40:16.610700Z",
     "iopub.status.busy": "2022-04-18T00:40:16.610096Z",
     "iopub.status.idle": "2022-04-18T00:40:17.169210Z",
     "shell.execute_reply": "2022-04-18T00:40:17.168656Z"
    },
    "papermill": {
     "duration": 0.593726,
     "end_time": "2022-04-18T00:40:17.169373",
     "exception": false,
     "start_time": "2022-04-18T00:40:16.575647",
     "status": "completed"
    },
    "tags": []
   },
   "outputs": [],
   "source": [
    "%matplotlib inline\n",
    "import numpy as np\n",
    "import matplotlib.pyplot as plt\n",
    "import pandas as pd"
   ]
  },
  {
   "cell_type": "markdown",
   "id": "ba036198",
   "metadata": {
    "papermill": {
     "duration": 0.029024,
     "end_time": "2022-04-18T00:40:17.229207",
     "exception": false,
     "start_time": "2022-04-18T00:40:17.200183",
     "status": "completed"
    },
    "tags": []
   },
   "source": [
    "From the command line run `pip install mnist`. This is a library that will help you bring down the mnist dataset. If you run this from a notebook, you need to put  `!pip install mnist` in a cell by itself."
   ]
  },
  {
   "cell_type": "code",
   "execution_count": 3,
   "id": "bb6ad8a1",
   "metadata": {
    "execution": {
     "iopub.execute_input": "2022-04-18T00:40:17.290803Z",
     "iopub.status.busy": "2022-04-18T00:40:17.290198Z",
     "iopub.status.idle": "2022-04-18T00:40:19.944890Z",
     "shell.execute_reply": "2022-04-18T00:40:19.944318Z"
    },
    "papermill": {
     "duration": 2.688888,
     "end_time": "2022-04-18T00:40:19.945036",
     "exception": false,
     "start_time": "2022-04-18T00:40:17.256148",
     "status": "completed"
    },
    "tags": []
   },
   "outputs": [
    {
     "name": "stdout",
     "output_type": "stream",
     "text": [
      "Collecting mnist\r\n"
     ]
    },
    {
     "name": "stdout",
     "output_type": "stream",
     "text": [
      "  Downloading mnist-0.2.2-py2.py3-none-any.whl (3.5 kB)\r\n",
      "Requirement already satisfied: numpy in /opt/hostedtoolcache/Python/3.6.15/x64/lib/python3.6/site-packages (from mnist) (1.19.5)\r\n"
     ]
    },
    {
     "name": "stdout",
     "output_type": "stream",
     "text": [
      "Installing collected packages: mnist\r\n"
     ]
    },
    {
     "name": "stdout",
     "output_type": "stream",
     "text": [
      "Successfully installed mnist-0.2.2\r\n"
     ]
    }
   ],
   "source": [
    "!pip install mnist"
   ]
  },
  {
   "cell_type": "markdown",
   "id": "69df9c9a",
   "metadata": {
    "papermill": {
     "duration": 0.028188,
     "end_time": "2022-04-18T00:40:20.002783",
     "exception": false,
     "start_time": "2022-04-18T00:40:19.974595",
     "status": "completed"
    },
    "tags": []
   },
   "source": [
    "## Preparing the Data"
   ]
  },
  {
   "cell_type": "code",
   "execution_count": 4,
   "id": "7f69d806",
   "metadata": {
    "execution": {
     "iopub.execute_input": "2022-04-18T00:40:20.100667Z",
     "iopub.status.busy": "2022-04-18T00:40:20.087169Z",
     "iopub.status.idle": "2022-04-18T00:40:20.107949Z",
     "shell.execute_reply": "2022-04-18T00:40:20.107382Z"
    },
    "papermill": {
     "duration": 0.077338,
     "end_time": "2022-04-18T00:40:20.108073",
     "exception": false,
     "start_time": "2022-04-18T00:40:20.030735",
     "status": "completed"
    },
    "tags": []
   },
   "outputs": [],
   "source": [
    "import mnist"
   ]
  },
  {
   "cell_type": "code",
   "execution_count": 5,
   "id": "a411e44f",
   "metadata": {
    "execution": {
     "iopub.execute_input": "2022-04-18T00:40:20.171866Z",
     "iopub.status.busy": "2022-04-18T00:40:20.171274Z",
     "iopub.status.idle": "2022-04-18T00:40:20.759125Z",
     "shell.execute_reply": "2022-04-18T00:40:20.758462Z"
    },
    "papermill": {
     "duration": 0.619983,
     "end_time": "2022-04-18T00:40:20.759301",
     "exception": false,
     "start_time": "2022-04-18T00:40:20.139318",
     "status": "completed"
    },
    "tags": []
   },
   "outputs": [],
   "source": [
    "train_images = mnist.train_images()\n",
    "train_labels = mnist.train_labels()"
   ]
  },
  {
   "cell_type": "code",
   "execution_count": 6,
   "id": "dceab3a5",
   "metadata": {
    "execution": {
     "iopub.execute_input": "2022-04-18T00:40:20.822330Z",
     "iopub.status.busy": "2022-04-18T00:40:20.821738Z",
     "iopub.status.idle": "2022-04-18T00:40:20.834689Z",
     "shell.execute_reply": "2022-04-18T00:40:20.835260Z"
    },
    "papermill": {
     "duration": 0.047626,
     "end_time": "2022-04-18T00:40:20.835391",
     "exception": false,
     "start_time": "2022-04-18T00:40:20.787765",
     "status": "completed"
    },
    "tags": []
   },
   "outputs": [
    {
     "data": {
      "text/plain": [
       "((60000, 28, 28), (60000,))"
      ]
     },
     "execution_count": 6,
     "metadata": {},
     "output_type": "execute_result"
    }
   ],
   "source": [
    "train_images.shape, train_labels.shape"
   ]
  },
  {
   "cell_type": "code",
   "execution_count": 7,
   "id": "f50dc2bb",
   "metadata": {
    "execution": {
     "iopub.execute_input": "2022-04-18T00:40:20.896838Z",
     "iopub.status.busy": "2022-04-18T00:40:20.896187Z",
     "iopub.status.idle": "2022-04-18T00:40:21.053826Z",
     "shell.execute_reply": "2022-04-18T00:40:21.053197Z"
    },
    "papermill": {
     "duration": 0.190602,
     "end_time": "2022-04-18T00:40:21.053963",
     "exception": false,
     "start_time": "2022-04-18T00:40:20.863361",
     "status": "completed"
    },
    "tags": []
   },
   "outputs": [],
   "source": [
    "test_images = mnist.test_images()\n",
    "test_labels = mnist.test_labels()"
   ]
  },
  {
   "cell_type": "code",
   "execution_count": 8,
   "id": "fc38cf1b",
   "metadata": {
    "execution": {
     "iopub.execute_input": "2022-04-18T00:40:21.116708Z",
     "iopub.status.busy": "2022-04-18T00:40:21.116088Z",
     "iopub.status.idle": "2022-04-18T00:40:21.130195Z",
     "shell.execute_reply": "2022-04-18T00:40:21.129689Z"
    },
    "papermill": {
     "duration": 0.047052,
     "end_time": "2022-04-18T00:40:21.130315",
     "exception": false,
     "start_time": "2022-04-18T00:40:21.083263",
     "status": "completed"
    },
    "tags": []
   },
   "outputs": [
    {
     "data": {
      "text/plain": [
       "((10000, 28, 28), (10000,))"
      ]
     },
     "execution_count": 8,
     "metadata": {},
     "output_type": "execute_result"
    }
   ],
   "source": [
    "test_images.shape, test_labels.shape"
   ]
  },
  {
   "cell_type": "code",
   "execution_count": 9,
   "id": "f9ed8fe0",
   "metadata": {
    "execution": {
     "iopub.execute_input": "2022-04-18T00:40:21.194353Z",
     "iopub.status.busy": "2022-04-18T00:40:21.193748Z",
     "iopub.status.idle": "2022-04-18T00:40:21.358039Z",
     "shell.execute_reply": "2022-04-18T00:40:21.357511Z"
    },
    "papermill": {
     "duration": 0.199708,
     "end_time": "2022-04-18T00:40:21.358170",
     "exception": false,
     "start_time": "2022-04-18T00:40:21.158462",
     "status": "completed"
    },
    "tags": []
   },
   "outputs": [
    {
     "name": "stdout",
     "output_type": "stream",
     "text": [
      "2\n"
     ]
    },
    {
     "data": {
      "text/plain": [
       "<matplotlib.image.AxesImage at 0x7f9f6304b358>"
      ]
     },
     "execution_count": 9,
     "metadata": {},
     "output_type": "execute_result"
    },
    {
     "data": {
      "image/png": "[encoded data removed]",
      "text/plain": [
       "<Figure size 432x288 with 1 Axes>"
      ]
     },
     "metadata": {
      "needs_background": "light"
     },
     "output_type": "display_data"
    }
   ],
   "source": [
    "image_index = 7776 # You may select anything up to 60,000\n",
    "print(train_labels[image_index]) \n",
    "plt.imshow(train_images[image_index], cmap='Greys')"
   ]
  },
  {
   "cell_type": "markdown",
   "id": "a8d2388d",
   "metadata": {
    "papermill": {
     "duration": 0.029633,
     "end_time": "2022-04-18T00:40:21.418615",
     "exception": false,
     "start_time": "2022-04-18T00:40:21.388982",
     "status": "completed"
    },
    "tags": []
   },
   "source": [
    "## Filter data to get 3 and 8 out"
   ]
  },
  {
   "cell_type": "code",
   "execution_count": 10,
   "id": "776f7fc7",
   "metadata": {
    "execution": {
     "iopub.execute_input": "2022-04-18T00:40:21.484749Z",
     "iopub.status.busy": "2022-04-18T00:40:21.483920Z",
     "iopub.status.idle": "2022-04-18T00:40:21.502947Z",
     "shell.execute_reply": "2022-04-18T00:40:21.502405Z"
    },
    "papermill": {
     "duration": 0.054636,
     "end_time": "2022-04-18T00:40:21.503080",
     "exception": false,
     "start_time": "2022-04-18T00:40:21.448444",
     "status": "completed"
    },
    "tags": []
   },
   "outputs": [],
   "source": [
    "train_filter = np.where((train_labels == 3 ) | (train_labels == 8))\n",
    "test_filter = np.where((test_labels == 3) | (test_labels == 8))\n",
    "X_train, y_train = train_images[train_filter], train_labels[train_filter]\n",
    "X_test, y_test = test_images[test_filter], test_labels[test_filter]"
   ]
  },
  {
   "cell_type": "markdown",
   "id": "948f0b7e",
   "metadata": {
    "papermill": {
     "duration": 0.029981,
     "end_time": "2022-04-18T00:40:21.563054",
     "exception": false,
     "start_time": "2022-04-18T00:40:21.533073",
     "status": "completed"
    },
    "tags": []
   },
   "source": [
    "We normalize the pizel values in the 0 to 1 range"
   ]
  },
  {
   "cell_type": "code",
   "execution_count": 11,
   "id": "ee4c2166",
   "metadata": {
    "execution": {
     "iopub.execute_input": "2022-04-18T00:40:21.626135Z",
     "iopub.status.busy": "2022-04-18T00:40:21.625335Z",
     "iopub.status.idle": "2022-04-18T00:40:21.682190Z",
     "shell.execute_reply": "2022-04-18T00:40:21.681551Z"
    },
    "papermill": {
     "duration": 0.089541,
     "end_time": "2022-04-18T00:40:21.682361",
     "exception": false,
     "start_time": "2022-04-18T00:40:21.592820",
     "status": "completed"
    },
    "tags": []
   },
   "outputs": [],
   "source": [
    "X_train = X_train/255.\n",
    "X_test = X_test/255."
   ]
  },
  {
   "cell_type": "markdown",
   "id": "ddcf4fab",
   "metadata": {
    "papermill": {
     "duration": 0.029833,
     "end_time": "2022-04-18T00:40:21.752100",
     "exception": false,
     "start_time": "2022-04-18T00:40:21.722267",
     "status": "completed"
    },
    "tags": []
   },
   "source": [
    "And setup the labels as 1 (when the digit is 3) and 0 (when the digit is 8)"
   ]
  },
  {
   "cell_type": "code",
   "execution_count": 12,
   "id": "7dc908f2",
   "metadata": {
    "execution": {
     "iopub.execute_input": "2022-04-18T00:40:21.815854Z",
     "iopub.status.busy": "2022-04-18T00:40:21.815255Z",
     "iopub.status.idle": "2022-04-18T00:40:21.827804Z",
     "shell.execute_reply": "2022-04-18T00:40:21.827258Z"
    },
    "papermill": {
     "duration": 0.045407,
     "end_time": "2022-04-18T00:40:21.827922",
     "exception": false,
     "start_time": "2022-04-18T00:40:21.782515",
     "status": "completed"
    },
    "tags": []
   },
   "outputs": [],
   "source": [
    "y_train = 1*(y_train==3)\n",
    "y_test = 1*(y_test==3)"
   ]
  },
  {
   "cell_type": "code",
   "execution_count": 13,
   "id": "01e4e969",
   "metadata": {
    "execution": {
     "iopub.execute_input": "2022-04-18T00:40:21.895372Z",
     "iopub.status.busy": "2022-04-18T00:40:21.894788Z",
     "iopub.status.idle": "2022-04-18T00:40:21.904997Z",
     "shell.execute_reply": "2022-04-18T00:40:21.905532Z"
    },
    "papermill": {
     "duration": 0.048024,
     "end_time": "2022-04-18T00:40:21.905662",
     "exception": false,
     "start_time": "2022-04-18T00:40:21.857638",
     "status": "completed"
    },
    "tags": []
   },
   "outputs": [
    {
     "data": {
      "text/plain": [
       "((11982, 28, 28), (1984, 28, 28))"
      ]
     },
     "execution_count": 13,
     "metadata": {},
     "output_type": "execute_result"
    }
   ],
   "source": [
    "X_train.shape, X_test.shape"
   ]
  },
  {
   "cell_type": "markdown",
   "id": "5ccf3f85",
   "metadata": {
    "papermill": {
     "duration": 0.031925,
     "end_time": "2022-04-18T00:40:21.967713",
     "exception": false,
     "start_time": "2022-04-18T00:40:21.935788",
     "status": "completed"
    },
    "tags": []
   },
   "source": [
    "We reshape the data to flatten the image pixels into a set of features or co-variates:"
   ]
  },
  {
   "cell_type": "code",
   "execution_count": 14,
   "id": "5286a4a3",
   "metadata": {
    "execution": {
     "iopub.execute_input": "2022-04-18T00:40:22.037665Z",
     "iopub.status.busy": "2022-04-18T00:40:22.036994Z",
     "iopub.status.idle": "2022-04-18T00:40:22.050749Z",
     "shell.execute_reply": "2022-04-18T00:40:22.051319Z"
    },
    "papermill": {
     "duration": 0.051435,
     "end_time": "2022-04-18T00:40:22.051447",
     "exception": false,
     "start_time": "2022-04-18T00:40:22.000012",
     "status": "completed"
    },
    "tags": []
   },
   "outputs": [
    {
     "data": {
      "text/plain": [
       "((11982, 784), (1984, 784))"
      ]
     },
     "execution_count": 14,
     "metadata": {},
     "output_type": "execute_result"
    }
   ],
   "source": [
    "X_train = X_train.reshape(X_train.shape[0], -1)\n",
    "X_test = X_test.reshape(X_test.shape[0], -1)\n",
    "X_train.shape, X_test.shape"
   ]
  },
  {
   "cell_type": "code",
   "execution_count": 15,
   "id": "73c5f88a",
   "metadata": {
    "execution": {
     "iopub.execute_input": "2022-04-18T00:40:22.115733Z",
     "iopub.status.busy": "2022-04-18T00:40:22.115144Z",
     "iopub.status.idle": "2022-04-18T00:40:22.133613Z",
     "shell.execute_reply": "2022-04-18T00:40:22.134193Z"
    },
    "papermill": {
     "duration": 0.052146,
     "end_time": "2022-04-18T00:40:22.134320",
     "exception": false,
     "start_time": "2022-04-18T00:40:22.082174",
     "status": "completed"
    },
    "tags": []
   },
   "outputs": [],
   "source": [
    "#Impoting functions from 'Kudzu'\n",
    "from kudzu.model import Model\n",
    "from kudzu.train import Learner\n",
    "from kudzu.optim import GD\n",
    "from kudzu.data import Data, Sampler,Dataloader\n",
    "\n",
    "from kudzu.callbacks import AccCallback\n",
    "from kudzu.callbacks import ClfCallback\n",
    "\n",
    "from kudzu.loss import MSE\n",
    "\n",
    "from kudzu.layer import Sigmoid,Relu\n",
    "from kudzu.layer import Affine"
   ]
  },
  {
   "cell_type": "markdown",
   "id": "bc01172a",
   "metadata": {
    "papermill": {
     "duration": 0.03045,
     "end_time": "2022-04-18T00:40:22.194738",
     "exception": false,
     "start_time": "2022-04-18T00:40:22.164288",
     "status": "completed"
    },
    "tags": []
   },
   "source": [
    "### Let us create a `Config` class, to store important parameters. \n",
    "This class essentially plays the role of a dictionary."
   ]
  },
  {
   "cell_type": "code",
   "execution_count": 16,
   "id": "978281aa",
   "metadata": {
    "execution": {
     "iopub.execute_input": "2022-04-18T00:40:22.275670Z",
     "iopub.status.busy": "2022-04-18T00:40:22.275075Z",
     "iopub.status.idle": "2022-04-18T00:40:22.277287Z",
     "shell.execute_reply": "2022-04-18T00:40:22.277825Z"
    },
    "papermill": {
     "duration": 0.052854,
     "end_time": "2022-04-18T00:40:22.277957",
     "exception": false,
     "start_time": "2022-04-18T00:40:22.225103",
     "status": "completed"
    },
    "tags": []
   },
   "outputs": [],
   "source": [
    "class Config:\n",
    "    pass\n",
    "config = Config()\n",
    "config.lr = 0.001\n",
    "config.num_epochs = 250\n",
    "config.bs = 50"
   ]
  },
  {
   "cell_type": "markdown",
   "id": "1385fa59",
   "metadata": {
    "papermill": {
     "duration": 0.034004,
     "end_time": "2022-04-18T00:40:22.344045",
     "exception": false,
     "start_time": "2022-04-18T00:40:22.310041",
     "status": "completed"
    },
    "tags": []
   },
   "source": [
    "### Running Models with the Training data\n",
    "Details about the network layers:\n",
    "- A first affine layer has 784 inputs and does 100 affine transforms. These are followed by a Relu\n",
    "- A second affine layer has 100 inputs from the 100 activations of the past layer, and does 100 affine transforms. These are followed by a Relu\n",
    "- A third affine layer has 100 activations and does 2 affine transformations to create an embedding for visualization. There is no non-linearity here.\n",
    "- A final \"logistic regression\" which has an affine transform from 2 inputs to 1 output, which is squeezed through a sigmoid.\n"
   ]
  },
  {
   "cell_type": "code",
   "execution_count": 17,
   "id": "2b9c66db",
   "metadata": {
    "execution": {
     "iopub.execute_input": "2022-04-18T00:40:22.421222Z",
     "iopub.status.busy": "2022-04-18T00:40:22.409281Z",
     "iopub.status.idle": "2022-04-18T00:40:22.425035Z",
     "shell.execute_reply": "2022-04-18T00:40:22.424447Z"
    },
    "papermill": {
     "duration": 0.049705,
     "end_time": "2022-04-18T00:40:22.425150",
     "exception": false,
     "start_time": "2022-04-18T00:40:22.375445",
     "status": "completed"
    },
    "tags": []
   },
   "outputs": [],
   "source": [
    "data = Data(X_train, y_train.reshape(-1,1))\n",
    "sampler = Sampler(data, config.bs, shuffle=True)\n",
    "\n",
    "dl = Dataloader(data, sampler)\n",
    "\n",
    "opt = GD(config.lr)\n",
    "loss = MSE()"
   ]
  },
  {
   "cell_type": "code",
   "execution_count": 18,
   "id": "b275e4c2",
   "metadata": {
    "execution": {
     "iopub.execute_input": "2022-04-18T00:40:22.492854Z",
     "iopub.status.busy": "2022-04-18T00:40:22.489884Z",
     "iopub.status.idle": "2022-04-18T00:40:22.503240Z",
     "shell.execute_reply": "2022-04-18T00:40:22.503701Z"
    },
    "papermill": {
     "duration": 0.047844,
     "end_time": "2022-04-18T00:40:22.503832",
     "exception": false,
     "start_time": "2022-04-18T00:40:22.455988",
     "status": "completed"
    },
    "tags": []
   },
   "outputs": [],
   "source": [
    "training_data_x = X_train\n",
    "testing_data_x = X_test\n",
    "training_data_y = y_train.reshape(-1,1)\n",
    "testing_data_y = y_test.reshape(-1,1)"
   ]
  },
  {
   "cell_type": "code",
   "execution_count": 19,
   "id": "76951160",
   "metadata": {
    "execution": {
     "iopub.execute_input": "2022-04-18T00:40:22.578214Z",
     "iopub.status.busy": "2022-04-18T00:40:22.569996Z",
     "iopub.status.idle": "2022-04-18T00:40:22.584061Z",
     "shell.execute_reply": "2022-04-18T00:40:22.583137Z"
    },
    "papermill": {
     "duration": 0.050725,
     "end_time": "2022-04-18T00:40:22.584186",
     "exception": false,
     "start_time": "2022-04-18T00:40:22.533461",
     "status": "completed"
    },
    "tags": []
   },
   "outputs": [
    {
     "name": "stdout",
     "output_type": "stream",
     "text": [
      "xavier\n",
      "xavier\n",
      "xavier\n",
      "xavier\n",
      "xavier\n"
     ]
    }
   ],
   "source": [
    "layers = [Affine(\"first\", 784, 100), Relu(\"first\"), Affine(\"second\", 100, 100), Relu(\"second\"), Affine(\"third\", 100, 2), Affine(\"last\", 2, 1), Sigmoid(\"last\")]\n",
    "model_nn = Model(layers)\n",
    "model_lr = Model([Affine(\"logits\", 784, 1), Sigmoid(\"sigmoid\")])"
   ]
  },
  {
   "cell_type": "code",
   "execution_count": 20,
   "id": "6eede77a",
   "metadata": {
    "execution": {
     "iopub.execute_input": "2022-04-18T00:40:22.652432Z",
     "iopub.status.busy": "2022-04-18T00:40:22.651550Z",
     "iopub.status.idle": "2022-04-18T00:40:22.662738Z",
     "shell.execute_reply": "2022-04-18T00:40:22.663191Z"
    },
    "papermill": {
     "duration": 0.046531,
     "end_time": "2022-04-18T00:40:22.663576",
     "exception": false,
     "start_time": "2022-04-18T00:40:22.617045",
     "status": "completed"
    },
    "tags": []
   },
   "outputs": [],
   "source": [
    "nn_learner = Learner(loss, model_nn, opt, config.num_epochs)\n",
    "acc_nn = ClfCallback(nn_learner, config.bs, training_data_x , testing_data_x, training_data_y, testing_data_y)\n",
    "nn_learner.set_callbacks([acc_nn])"
   ]
  },
  {
   "cell_type": "code",
   "execution_count": 21,
   "id": "877b6cc7",
   "metadata": {
    "execution": {
     "iopub.execute_input": "2022-04-18T00:40:22.729478Z",
     "iopub.status.busy": "2022-04-18T00:40:22.728856Z",
     "iopub.status.idle": "2022-04-18T00:40:22.741146Z",
     "shell.execute_reply": "2022-04-18T00:40:22.740638Z"
    },
    "papermill": {
     "duration": 0.046621,
     "end_time": "2022-04-18T00:40:22.741263",
     "exception": false,
     "start_time": "2022-04-18T00:40:22.694642",
     "status": "completed"
    },
    "tags": []
   },
   "outputs": [],
   "source": [
    "lr_learner = Learner(loss, model_lr, opt, config.num_epochs)\n",
    "acc_lr = ClfCallback(lr_learner, config.bs, training_data_x , testing_data_x, training_data_y, testing_data_y)\n",
    "lr_learner.set_callbacks([acc_lr])"
   ]
  },
  {
   "cell_type": "code",
   "execution_count": 22,
   "id": "d9b133c3",
   "metadata": {
    "execution": {
     "iopub.execute_input": "2022-04-18T00:40:22.808042Z",
     "iopub.status.busy": "2022-04-18T00:40:22.807457Z",
     "iopub.status.idle": "2022-04-18T00:42:23.047340Z",
     "shell.execute_reply": "2022-04-18T00:42:23.048242Z"
    },
    "papermill": {
     "duration": 120.275483,
     "end_time": "2022-04-18T00:42:23.048399",
     "exception": false,
     "start_time": "2022-04-18T00:40:22.772916",
     "status": "completed"
    },
    "tags": []
   },
   "outputs": [
    {
     "name": "stdout",
     "output_type": "stream",
     "text": [
      "Epoch 0, Loss 0.244\n",
      "Training Accuracy: 0.6486, Testing Accuracy: 0.6356\n",
      "\n"
     ]
    },
    {
     "name": "stdout",
     "output_type": "stream",
     "text": [
      "Epoch 10, Loss 0.0934\n",
      "Training Accuracy: 0.9205, Testing Accuracy: 0.9294\n",
      "\n"
     ]
    },
    {
     "name": "stdout",
     "output_type": "stream",
     "text": [
      "Epoch 20, Loss 0.0551\n",
      "Training Accuracy: 0.9450, Testing Accuracy: 0.9536\n",
      "\n"
     ]
    },
    {
     "name": "stdout",
     "output_type": "stream",
     "text": [
      "Epoch 30, Loss 0.0429\n",
      "Training Accuracy: 0.9547, Testing Accuracy: 0.9637\n",
      "\n"
     ]
    },
    {
     "name": "stdout",
     "output_type": "stream",
     "text": [
      "Epoch 40, Loss 0.037\n",
      "Training Accuracy: 0.9583, Testing Accuracy: 0.9677\n",
      "\n"
     ]
    },
    {
     "name": "stdout",
     "output_type": "stream",
     "text": [
      "Epoch 50, Loss 0.0335\n",
      "Training Accuracy: 0.9617, Testing Accuracy: 0.9693\n",
      "\n"
     ]
    },
    {
     "name": "stdout",
     "output_type": "stream",
     "text": [
      "Epoch 60, Loss 0.0312\n",
      "Training Accuracy: 0.9641, Testing Accuracy: 0.9703\n",
      "\n"
     ]
    },
    {
     "name": "stdout",
     "output_type": "stream",
     "text": [
      "Epoch 70, Loss 0.0294\n",
      "Training Accuracy: 0.9660, Testing Accuracy: 0.9703\n",
      "\n"
     ]
    },
    {
     "name": "stdout",
     "output_type": "stream",
     "text": [
      "Epoch 80, Loss 0.028\n",
      "Training Accuracy: 0.9675, Testing Accuracy: 0.9698\n",
      "\n"
     ]
    },
    {
     "name": "stdout",
     "output_type": "stream",
     "text": [
      "Epoch 90, Loss 0.0268\n",
      "Training Accuracy: 0.9691, Testing Accuracy: 0.9698\n",
      "\n"
     ]
    },
    {
     "name": "stdout",
     "output_type": "stream",
     "text": [
      "Epoch 100, Loss 0.0259\n",
      "Training Accuracy: 0.9707, Testing Accuracy: 0.9693\n",
      "\n"
     ]
    },
    {
     "name": "stdout",
     "output_type": "stream",
     "text": [
      "Epoch 110, Loss 0.025\n",
      "Training Accuracy: 0.9716, Testing Accuracy: 0.9693\n",
      "\n"
     ]
    },
    {
     "name": "stdout",
     "output_type": "stream",
     "text": [
      "Epoch 120, Loss 0.0243\n",
      "Training Accuracy: 0.9722, Testing Accuracy: 0.9698\n",
      "\n"
     ]
    },
    {
     "name": "stdout",
     "output_type": "stream",
     "text": [
      "Epoch 130, Loss 0.0236\n",
      "Training Accuracy: 0.9732, Testing Accuracy: 0.9703\n",
      "\n"
     ]
    },
    {
     "name": "stdout",
     "output_type": "stream",
     "text": [
      "Epoch 140, Loss 0.023\n",
      "Training Accuracy: 0.9740, Testing Accuracy: 0.9703\n",
      "\n"
     ]
    },
    {
     "name": "stdout",
     "output_type": "stream",
     "text": [
      "Epoch 150, Loss 0.0224\n",
      "Training Accuracy: 0.9748, Testing Accuracy: 0.9708\n",
      "\n"
     ]
    },
    {
     "name": "stdout",
     "output_type": "stream",
     "text": [
      "Epoch 160, Loss 0.0219\n",
      "Training Accuracy: 0.9755, Testing Accuracy: 0.9708\n",
      "\n"
     ]
    },
    {
     "name": "stdout",
     "output_type": "stream",
     "text": [
      "Epoch 170, Loss 0.0214\n",
      "Training Accuracy: 0.9759, Testing Accuracy: 0.9708\n",
      "\n"
     ]
    },
    {
     "name": "stdout",
     "output_type": "stream",
     "text": [
      "Epoch 180, Loss 0.021\n",
      "Training Accuracy: 0.9770, Testing Accuracy: 0.9708\n",
      "\n"
     ]
    },
    {
     "name": "stdout",
     "output_type": "stream",
     "text": [
      "Epoch 190, Loss 0.0205\n",
      "Training Accuracy: 0.9773, Testing Accuracy: 0.9718\n",
      "\n"
     ]
    },
    {
     "name": "stdout",
     "output_type": "stream",
     "text": [
      "Epoch 200, Loss 0.0201\n",
      "Training Accuracy: 0.9777, Testing Accuracy: 0.9728\n",
      "\n"
     ]
    },
    {
     "name": "stdout",
     "output_type": "stream",
     "text": [
      "Epoch 210, Loss 0.0197\n",
      "Training Accuracy: 0.9780, Testing Accuracy: 0.9733\n",
      "\n"
     ]
    },
    {
     "name": "stdout",
     "output_type": "stream",
     "text": [
      "Epoch 220, Loss 0.0193\n",
      "Training Accuracy: 0.9785, Testing Accuracy: 0.9738\n",
      "\n"
     ]
    },
    {
     "name": "stdout",
     "output_type": "stream",
     "text": [
      "Epoch 230, Loss 0.019\n",
      "Training Accuracy: 0.9789, Testing Accuracy: 0.9743\n",
      "\n"
     ]
    },
    {
     "name": "stdout",
     "output_type": "stream",
     "text": [
      "Epoch 240, Loss 0.0186\n",
      "Training Accuracy: 0.9791, Testing Accuracy: 0.9743\n",
      "\n"
     ]
    },
    {
     "data": {
      "text/plain": [
       "0.01108136780872944"
      ]
     },
     "execution_count": 22,
     "metadata": {},
     "output_type": "execute_result"
    }
   ],
   "source": [
    "nn_learner.train_loop(dl)"
   ]
  },
  {
   "cell_type": "code",
   "execution_count": 23,
   "id": "e0163366",
   "metadata": {
    "execution": {
     "iopub.execute_input": "2022-04-18T00:42:23.149869Z",
     "iopub.status.busy": "2022-04-18T00:42:23.149212Z",
     "iopub.status.idle": "2022-04-18T00:42:40.613123Z",
     "shell.execute_reply": "2022-04-18T00:42:40.613942Z"
    },
    "papermill": {
     "duration": 17.519597,
     "end_time": "2022-04-18T00:42:40.614098",
     "exception": false,
     "start_time": "2022-04-18T00:42:23.094501",
     "status": "completed"
    },
    "tags": []
   },
   "outputs": [
    {
     "name": "stdout",
     "output_type": "stream",
     "text": [
      "Epoch 0, Loss 0.2151\n",
      "Training Accuracy: 0.7441, Testing Accuracy: 0.7450\n",
      "\n"
     ]
    },
    {
     "name": "stdout",
     "output_type": "stream",
     "text": [
      "Epoch 10, Loss 0.1064\n",
      "Training Accuracy: 0.8938, Testing Accuracy: 0.9047\n",
      "\n"
     ]
    },
    {
     "name": "stdout",
     "output_type": "stream",
     "text": [
      "Epoch 20, Loss 0.0821\n",
      "Training Accuracy: 0.9206, Testing Accuracy: 0.9289\n",
      "\n"
     ]
    },
    {
     "name": "stdout",
     "output_type": "stream",
     "text": [
      "Epoch 30, Loss 0.0704\n",
      "Training Accuracy: 0.9317, Testing Accuracy: 0.9425\n",
      "\n"
     ]
    },
    {
     "name": "stdout",
     "output_type": "stream",
     "text": [
      "Epoch 40, Loss 0.0633\n",
      "Training Accuracy: 0.9378, Testing Accuracy: 0.9501\n",
      "\n"
     ]
    },
    {
     "name": "stdout",
     "output_type": "stream",
     "text": [
      "Epoch 50, Loss 0.0584\n",
      "Training Accuracy: 0.9425, Testing Accuracy: 0.9526\n",
      "\n"
     ]
    },
    {
     "name": "stdout",
     "output_type": "stream",
     "text": [
      "Epoch 60, Loss 0.0549\n",
      "Training Accuracy: 0.9453, Testing Accuracy: 0.9541\n",
      "\n"
     ]
    },
    {
     "name": "stdout",
     "output_type": "stream",
     "text": [
      "Epoch 70, Loss 0.0522\n",
      "Training Accuracy: 0.9481, Testing Accuracy: 0.9567\n",
      "\n"
     ]
    },
    {
     "name": "stdout",
     "output_type": "stream",
     "text": [
      "Epoch 80, Loss 0.05\n",
      "Training Accuracy: 0.9492, Testing Accuracy: 0.9592\n",
      "\n"
     ]
    },
    {
     "name": "stdout",
     "output_type": "stream",
     "text": [
      "Epoch 90, Loss 0.0482\n",
      "Training Accuracy: 0.9509, Testing Accuracy: 0.9612\n",
      "\n"
     ]
    },
    {
     "name": "stdout",
     "output_type": "stream",
     "text": [
      "Epoch 100, Loss 0.0467\n",
      "Training Accuracy: 0.9519, Testing Accuracy: 0.9607\n",
      "\n"
     ]
    },
    {
     "name": "stdout",
     "output_type": "stream",
     "text": [
      "Epoch 110, Loss 0.0454\n",
      "Training Accuracy: 0.9528, Testing Accuracy: 0.9622\n",
      "\n"
     ]
    },
    {
     "name": "stdout",
     "output_type": "stream",
     "text": [
      "Epoch 120, Loss 0.0443\n",
      "Training Accuracy: 0.9540, Testing Accuracy: 0.9627\n",
      "\n"
     ]
    },
    {
     "name": "stdout",
     "output_type": "stream",
     "text": [
      "Epoch 130, Loss 0.0433\n",
      "Training Accuracy: 0.9548, Testing Accuracy: 0.9627\n",
      "\n"
     ]
    },
    {
     "name": "stdout",
     "output_type": "stream",
     "text": [
      "Epoch 140, Loss 0.0425\n",
      "Training Accuracy: 0.9552, Testing Accuracy: 0.9637\n",
      "\n"
     ]
    },
    {
     "name": "stdout",
     "output_type": "stream",
     "text": [
      "Epoch 150, Loss 0.0417\n",
      "Training Accuracy: 0.9556, Testing Accuracy: 0.9642\n",
      "\n"
     ]
    },
    {
     "name": "stdout",
     "output_type": "stream",
     "text": [
      "Epoch 160, Loss 0.041\n",
      "Training Accuracy: 0.9563, Testing Accuracy: 0.9642\n",
      "\n"
     ]
    },
    {
     "name": "stdout",
     "output_type": "stream",
     "text": [
      "Epoch 170, Loss 0.0404\n",
      "Training Accuracy: 0.9569, Testing Accuracy: 0.9642\n",
      "\n"
     ]
    },
    {
     "name": "stdout",
     "output_type": "stream",
     "text": [
      "Epoch 180, Loss 0.0398\n",
      "Training Accuracy: 0.9573, Testing Accuracy: 0.9647\n",
      "\n"
     ]
    },
    {
     "name": "stdout",
     "output_type": "stream",
     "text": [
      "Epoch 190, Loss 0.0393\n",
      "Training Accuracy: 0.9577, Testing Accuracy: 0.9647\n",
      "\n"
     ]
    },
    {
     "name": "stdout",
     "output_type": "stream",
     "text": [
      "Epoch 200, Loss 0.0388\n",
      "Training Accuracy: 0.9583, Testing Accuracy: 0.9647\n",
      "\n"
     ]
    },
    {
     "name": "stdout",
     "output_type": "stream",
     "text": [
      "Epoch 210, Loss 0.0383\n",
      "Training Accuracy: 0.9591, Testing Accuracy: 0.9652\n",
      "\n"
     ]
    },
    {
     "name": "stdout",
     "output_type": "stream",
     "text": [
      "Epoch 220, Loss 0.0379\n",
      "Training Accuracy: 0.9598, Testing Accuracy: 0.9652\n",
      "\n"
     ]
    },
    {
     "name": "stdout",
     "output_type": "stream",
     "text": [
      "Epoch 230, Loss 0.0375\n",
      "Training Accuracy: 0.9602, Testing Accuracy: 0.9652\n",
      "\n"
     ]
    },
    {
     "name": "stdout",
     "output_type": "stream",
     "text": [
      "Epoch 240, Loss 0.0371\n",
      "Training Accuracy: 0.9608, Testing Accuracy: 0.9657\n",
      "\n"
     ]
    },
    {
     "data": {
      "text/plain": [
       "0.043523365066116725"
      ]
     },
     "execution_count": 23,
     "metadata": {},
     "output_type": "execute_result"
    }
   ],
   "source": [
    "lr_learner.train_loop(dl)"
   ]
  },
  {
   "cell_type": "code",
   "execution_count": 24,
   "id": "ca410940",
   "metadata": {
    "execution": {
     "iopub.execute_input": "2022-04-18T00:42:40.721854Z",
     "iopub.status.busy": "2022-04-18T00:42:40.721185Z",
     "iopub.status.idle": "2022-04-18T00:42:40.987827Z",
     "shell.execute_reply": "2022-04-18T00:42:40.988317Z"
    },
    "papermill": {
     "duration": 0.324788,
     "end_time": "2022-04-18T00:42:40.988474",
     "exception": false,
     "start_time": "2022-04-18T00:42:40.663686",
     "status": "completed"
    },
    "tags": []
   },
   "outputs": [
    {
     "data": {
      "text/plain": [
       "<matplotlib.legend.Legend at 0x7f9f62c29b00>"
      ]
     },
     "execution_count": 24,
     "metadata": {},
     "output_type": "execute_result"
    },
    {
     "data": {
      "image/png": "[encoded data removed]",
      "text/plain": [
       "<Figure size 1080x720 with 1 Axes>"
      ]
     },
     "metadata": {
      "needs_background": "light"
     },
     "output_type": "display_data"
    }
   ],
   "source": [
    "#comparing the results of NN and LR\n",
    "plt.figure(figsize=(15,10))\n",
    "\n",
    "# Neural Network plots\n",
    "plt.plot(acc_nn.accuracies, 'r-', label = \"Training Accuracies - NN\")\n",
    "plt.plot(acc_nn.test_accuracies, 'g-', label = \"Testing Accuracies - NN\")\n",
    "\n",
    "# Logistic Regression plots\n",
    "plt.plot(acc_lr.accuracies, 'k-', label = \"Training Accuracies - LR\")\n",
    "plt.plot(acc_lr.test_accuracies, 'b-', label = \"Testing Accuracies - LR\")\n",
    "plt.legend()"
   ]
  },
  {
   "cell_type": "markdown",
   "id": "80dfb35c",
   "metadata": {
    "papermill": {
     "duration": 0.047723,
     "end_time": "2022-04-18T00:42:41.085882",
     "exception": false,
     "start_time": "2022-04-18T00:42:41.038159",
     "status": "completed"
    },
    "tags": []
   },
   "source": [
    "#### Plotting the outputs of this layer of the NN.\n"
   ]
  },
  {
   "cell_type": "code",
   "execution_count": 25,
   "id": "45eb2ff5",
   "metadata": {
    "execution": {
     "iopub.execute_input": "2022-04-18T00:42:41.189281Z",
     "iopub.status.busy": "2022-04-18T00:42:41.188681Z",
     "iopub.status.idle": "2022-04-18T00:42:41.214212Z",
     "shell.execute_reply": "2022-04-18T00:42:41.214935Z"
    },
    "papermill": {
     "duration": 0.081357,
     "end_time": "2022-04-18T00:42:41.215092",
     "exception": false,
     "start_time": "2022-04-18T00:42:41.133735",
     "status": "completed"
    },
    "tags": []
   },
   "outputs": [],
   "source": [
    "new_model = Model(layers[:-2])\n",
    "testing_plot = new_model(testing_data_x)"
   ]
  },
  {
   "cell_type": "code",
   "execution_count": 26,
   "id": "4c0a5485",
   "metadata": {
    "execution": {
     "iopub.execute_input": "2022-04-18T00:42:41.315789Z",
     "iopub.status.busy": "2022-04-18T00:42:41.315183Z",
     "iopub.status.idle": "2022-04-18T00:42:41.545933Z",
     "shell.execute_reply": "2022-04-18T00:42:41.545189Z"
    },
    "papermill": {
     "duration": 0.283148,
     "end_time": "2022-04-18T00:42:41.546064",
     "exception": false,
     "start_time": "2022-04-18T00:42:41.262916",
     "status": "completed"
    },
    "tags": []
   },
   "outputs": [
    {
     "data": {
      "text/plain": [
       "Text(0.5, 1.0, 'Outputs')"
      ]
     },
     "execution_count": 26,
     "metadata": {},
     "output_type": "execute_result"
    },
    {
     "data": {
      "image/png": "[encoded data removed]",
      "text/plain": [
       "<Figure size 576x504 with 1 Axes>"
      ]
     },
     "metadata": {
      "needs_background": "light"
     },
     "output_type": "display_data"
    }
   ],
   "source": [
    "# Plotting the scatter plot of points and color coding by class\n",
    "plt.figure(figsize=(8,7))\n",
    "plt.scatter(testing_plot[:,0], testing_plot[:,1], alpha = 0.1, c = y_test.ravel());\n",
    "plt.title('Outputs')"
   ]
  },
  {
   "cell_type": "markdown",
   "id": "a74fcf8f",
   "metadata": {
    "papermill": {
     "duration": 0.050052,
     "end_time": "2022-04-18T00:42:41.648266",
     "exception": false,
     "start_time": "2022-04-18T00:42:41.598214",
     "status": "completed"
    },
    "tags": []
   },
   "source": [
    "Probability contours"
   ]
  },
  {
   "cell_type": "code",
   "execution_count": 27,
   "id": "d0afc8e3",
   "metadata": {
    "execution": {
     "iopub.execute_input": "2022-04-18T00:42:41.776121Z",
     "iopub.status.busy": "2022-04-18T00:42:41.775517Z",
     "iopub.status.idle": "2022-04-18T00:42:41.786986Z",
     "shell.execute_reply": "2022-04-18T00:42:41.787517Z"
    },
    "papermill": {
     "duration": 0.06702,
     "end_time": "2022-04-18T00:42:41.787652",
     "exception": false,
     "start_time": "2022-04-18T00:42:41.720632",
     "status": "completed"
    },
    "tags": []
   },
   "outputs": [],
   "source": [
    "model_prob = Model(layers[-2:]) "
   ]
  },
  {
   "cell_type": "code",
   "execution_count": 28,
   "id": "9b96e238",
   "metadata": {
    "execution": {
     "iopub.execute_input": "2022-04-18T00:42:41.906075Z",
     "iopub.status.busy": "2022-04-18T00:42:41.905216Z",
     "iopub.status.idle": "2022-04-18T00:42:41.913063Z",
     "shell.execute_reply": "2022-04-18T00:42:41.912585Z"
    },
    "papermill": {
     "duration": 0.076311,
     "end_time": "2022-04-18T00:42:41.913186",
     "exception": false,
     "start_time": "2022-04-18T00:42:41.836875",
     "status": "completed"
    },
    "tags": []
   },
   "outputs": [],
   "source": [
    "#creating the x and y ranges according to the above generated plot.\n",
    "x_range = np.linspace(-4, 1, 100) \n",
    "y_range = np.linspace(-6, 6, 100) \n",
    "x_grid, y_grid = np.meshgrid(x_range, y_range) # x_grid and y_grig are of size 100 X 100\n",
    "\n",
    "# converting x_grid and y_grid to continuous arrays\n",
    "x_gridflat = np.ravel(x_grid)\n",
    "y_gridflat = np.ravel(y_grid)\n",
    "\n",
    "# The last layer of the current model takes two columns as input. Hence transpose of np.vstack() is required.\n",
    "X = np.vstack((x_gridflat, y_gridflat)).T\n",
    "\n",
    "prob_contour = model_prob(X).reshape(100,100) "
   ]
  },
  {
   "cell_type": "code",
   "execution_count": 29,
   "id": "da72499a",
   "metadata": {
    "execution": {
     "iopub.execute_input": "2022-04-18T00:42:42.023495Z",
     "iopub.status.busy": "2022-04-18T00:42:42.022871Z",
     "iopub.status.idle": "2022-04-18T00:42:42.316062Z",
     "shell.execute_reply": "2022-04-18T00:42:42.316557Z"
    },
    "papermill": {
     "duration": 0.353995,
     "end_time": "2022-04-18T00:42:42.316713",
     "exception": false,
     "start_time": "2022-04-18T00:42:41.962718",
     "status": "completed"
    },
    "tags": []
   },
   "outputs": [
    {
     "data": {
      "image/png": "[encoded data removed]",
      "text/plain": [
       "<Figure size 720x648 with 1 Axes>"
      ]
     },
     "metadata": {
      "needs_background": "light"
     },
     "output_type": "display_data"
    }
   ],
   "source": [
    "plt.figure(figsize=(10,9))\n",
    "plt.scatter(testing_plot[:,0], testing_plot[:,1], alpha = 0.1, c = y_test.ravel())\n",
    "contours = plt.contour(x_grid,y_grid,prob_contour)\n",
    "plt.title('Probability Contours')\n",
    "plt.clabel(contours, inline = True );"
   ]
  },
  {
   "cell_type": "code",
   "execution_count": null,
   "id": "e81b4ac7",
   "metadata": {
    "papermill": {
     "duration": 0.051883,
     "end_time": "2022-04-18T00:42:42.421727",
     "exception": false,
     "start_time": "2022-04-18T00:42:42.369844",
     "status": "completed"
    },
    "tags": []
   },
   "outputs": [],
   "source": []
  }
 ],
 "metadata": {
  "kernelspec": {
   "display_name": "Python 3",
   "language": "python",
   "name": "python3"
  },
  "language_info": {
   "codemirror_mode": {
    "name": "ipython",
    "version": 3
   },
   "file_extension": ".py",
   "mimetype": "text/x-python",
   "name": "python",
   "nbconvert_exporter": "python",
   "pygments_lexer": "ipython3",
   "version": "3.6.15"
  },
  "papermill": {
   "default_parameters": {},
   "duration": 147.790212,
   "end_time": "2022-04-18T00:42:42.892325",
   "environment_variables": {},
   "exception": null,
   "input_path": "2020-08-11-part2.ipynb",
   "output_path": "2020-08-11-part2.ipynb",
   "parameters": {},
   "start_time": "2022-04-18T00:40:15.102113",
   "version": "2.3.3"
  }
 },
 "nbformat": 4,
 "nbformat_minor": 5
}