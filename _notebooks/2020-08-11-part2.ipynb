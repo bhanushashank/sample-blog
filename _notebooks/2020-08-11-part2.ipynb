{
 "cells": [
  {
   "cell_type": "markdown",
   "id": "98380cd3",
   "metadata": {
    "papermill": {
     "duration": 0.029609,
     "end_time": "2022-10-25T10:15:52.614479",
     "exception": false,
     "start_time": "2022-10-25T10:15:52.584870",
     "status": "completed"
    },
    "tags": []
   },
   "source": [
    "# Distinguish Your Own Digits (DYOD)"
   ]
  },
  {
   "cell_type": "markdown",
   "id": "ef31240d",
   "metadata": {
    "papermill": {
     "duration": 0.023947,
     "end_time": "2022-10-25T10:15:52.664081",
     "exception": false,
     "start_time": "2022-10-25T10:15:52.640134",
     "status": "completed"
    },
    "tags": []
   },
   "source": [
    "You are going to write a classifier that distinguishes between the number 3 and number 8."
   ]
  },
  {
   "cell_type": "code",
   "execution_count": 1,
   "id": "b15c8646",
   "metadata": {
    "execution": {
     "iopub.execute_input": "2022-10-25T10:15:52.723471Z",
     "iopub.status.busy": "2022-10-25T10:15:52.722825Z",
     "iopub.status.idle": "2022-10-25T10:15:52.734428Z",
     "shell.execute_reply": "2022-10-25T10:15:52.733898Z"
    },
    "papermill": {
     "duration": 0.046601,
     "end_time": "2022-10-25T10:15:52.734568",
     "exception": false,
     "start_time": "2022-10-25T10:15:52.687967",
     "status": "completed"
    },
    "tags": []
   },
   "outputs": [],
   "source": [
    "%load_ext autoreload\n",
    "%autoreload 2"
   ]
  },
  {
   "cell_type": "code",
   "execution_count": 2,
   "id": "22ef38dc",
   "metadata": {
    "execution": {
     "iopub.execute_input": "2022-10-25T10:15:52.796976Z",
     "iopub.status.busy": "2022-10-25T10:15:52.791945Z",
     "iopub.status.idle": "2022-10-25T10:15:53.370568Z",
     "shell.execute_reply": "2022-10-25T10:15:53.371086Z"
    },
    "papermill": {
     "duration": 0.612859,
     "end_time": "2022-10-25T10:15:53.371251",
     "exception": false,
     "start_time": "2022-10-25T10:15:52.758392",
     "status": "completed"
    },
    "tags": []
   },
   "outputs": [],
   "source": [
    "%matplotlib inline\n",
    "import numpy as np\n",
    "import matplotlib.pyplot as plt\n",
    "import pandas as pd"
   ]
  },
  {
   "cell_type": "markdown",
   "id": "ba036198",
   "metadata": {
    "papermill": {
     "duration": 0.023727,
     "end_time": "2022-10-25T10:15:53.419050",
     "exception": false,
     "start_time": "2022-10-25T10:15:53.395323",
     "status": "completed"
    },
    "tags": []
   },
   "source": [
    "From the command line run `pip install mnist`. This is a library that will help you bring down the mnist dataset. If you run this from a notebook, you need to put  `!pip install mnist` in a cell by itself."
   ]
  },
  {
   "cell_type": "code",
   "execution_count": 3,
   "id": "bb6ad8a1",
   "metadata": {
    "execution": {
     "iopub.execute_input": "2022-10-25T10:15:53.471764Z",
     "iopub.status.busy": "2022-10-25T10:15:53.471083Z",
     "iopub.status.idle": "2022-10-25T10:15:55.195352Z",
     "shell.execute_reply": "2022-10-25T10:15:55.194742Z"
    },
    "papermill": {
     "duration": 1.752523,
     "end_time": "2022-10-25T10:15:55.195485",
     "exception": false,
     "start_time": "2022-10-25T10:15:53.442962",
     "status": "completed"
    },
    "tags": []
   },
   "outputs": [
    {
     "name": "stdout",
     "output_type": "stream",
     "text": [
      "Collecting mnist\r\n"
     ]
    },
    {
     "name": "stdout",
     "output_type": "stream",
     "text": [
      "  Downloading mnist-0.2.2-py2.py3-none-any.whl (3.5 kB)\r\n",
      "Requirement already satisfied: numpy in /opt/hostedtoolcache/Python/3.6.15/x64/lib/python3.6/site-packages (from mnist) (1.19.5)\r\n"
     ]
    },
    {
     "name": "stdout",
     "output_type": "stream",
     "text": [
      "Installing collected packages: mnist\r\n"
     ]
    },
    {
     "name": "stdout",
     "output_type": "stream",
     "text": [
      "Successfully installed mnist-0.2.2\r\n"
     ]
    }
   ],
   "source": [
    "!pip install mnist"
   ]
  },
  {
   "cell_type": "markdown",
   "id": "69df9c9a",
   "metadata": {
    "papermill": {
     "duration": 0.025005,
     "end_time": "2022-10-25T10:15:55.245981",
     "exception": false,
     "start_time": "2022-10-25T10:15:55.220976",
     "status": "completed"
    },
    "tags": []
   },
   "source": [
    "## Preparing the Data"
   ]
  },
  {
   "cell_type": "code",
   "execution_count": 4,
   "id": "7f69d806",
   "metadata": {
    "execution": {
     "iopub.execute_input": "2022-10-25T10:15:55.309405Z",
     "iopub.status.busy": "2022-10-25T10:15:55.308765Z",
     "iopub.status.idle": "2022-10-25T10:15:55.320232Z",
     "shell.execute_reply": "2022-10-25T10:15:55.319654Z"
    },
    "papermill": {
     "duration": 0.049432,
     "end_time": "2022-10-25T10:15:55.320356",
     "exception": false,
     "start_time": "2022-10-25T10:15:55.270924",
     "status": "completed"
    },
    "tags": []
   },
   "outputs": [],
   "source": [
    "import mnist"
   ]
  },
  {
   "cell_type": "code",
   "execution_count": 5,
   "id": "a411e44f",
   "metadata": {
    "execution": {
     "iopub.execute_input": "2022-10-25T10:15:55.392893Z",
     "iopub.status.busy": "2022-10-25T10:15:55.389886Z",
     "iopub.status.idle": "2022-10-25T10:15:55.945997Z",
     "shell.execute_reply": "2022-10-25T10:15:55.944948Z"
    },
    "papermill": {
     "duration": 0.6007,
     "end_time": "2022-10-25T10:15:55.946137",
     "exception": false,
     "start_time": "2022-10-25T10:15:55.345437",
     "status": "completed"
    },
    "tags": []
   },
   "outputs": [],
   "source": [
    "train_images = mnist.train_images()\n",
    "train_labels = mnist.train_labels()"
   ]
  },
  {
   "cell_type": "code",
   "execution_count": 6,
   "id": "dceab3a5",
   "metadata": {
    "execution": {
     "iopub.execute_input": "2022-10-25T10:15:56.000995Z",
     "iopub.status.busy": "2022-10-25T10:15:56.000261Z",
     "iopub.status.idle": "2022-10-25T10:15:56.015380Z",
     "shell.execute_reply": "2022-10-25T10:15:56.014786Z"
    },
    "papermill": {
     "duration": 0.044224,
     "end_time": "2022-10-25T10:15:56.015502",
     "exception": false,
     "start_time": "2022-10-25T10:15:55.971278",
     "status": "completed"
    },
    "tags": []
   },
   "outputs": [
    {
     "data": {
      "text/plain": [
       "((60000, 28, 28), (60000,))"
      ]
     },
     "execution_count": 6,
     "metadata": {},
     "output_type": "execute_result"
    }
   ],
   "source": [
    "train_images.shape, train_labels.shape"
   ]
  },
  {
   "cell_type": "code",
   "execution_count": 7,
   "id": "f50dc2bb",
   "metadata": {
    "execution": {
     "iopub.execute_input": "2022-10-25T10:15:56.082459Z",
     "iopub.status.busy": "2022-10-25T10:15:56.080674Z",
     "iopub.status.idle": "2022-10-25T10:15:56.220190Z",
     "shell.execute_reply": "2022-10-25T10:15:56.219526Z"
    },
    "papermill": {
     "duration": 0.17916,
     "end_time": "2022-10-25T10:15:56.220329",
     "exception": false,
     "start_time": "2022-10-25T10:15:56.041169",
     "status": "completed"
    },
    "tags": []
   },
   "outputs": [],
   "source": [
    "test_images = mnist.test_images()\n",
    "test_labels = mnist.test_labels()"
   ]
  },
  {
   "cell_type": "code",
   "execution_count": 8,
   "id": "fc38cf1b",
   "metadata": {
    "execution": {
     "iopub.execute_input": "2022-10-25T10:15:56.290297Z",
     "iopub.status.busy": "2022-10-25T10:15:56.285683Z",
     "iopub.status.idle": "2022-10-25T10:15:56.295918Z",
     "shell.execute_reply": "2022-10-25T10:15:56.295382Z"
    },
    "papermill": {
     "duration": 0.049335,
     "end_time": "2022-10-25T10:15:56.296043",
     "exception": false,
     "start_time": "2022-10-25T10:15:56.246708",
     "status": "completed"
    },
    "tags": []
   },
   "outputs": [
    {
     "data": {
      "text/plain": [
       "((10000, 28, 28), (10000,))"
      ]
     },
     "execution_count": 8,
     "metadata": {},
     "output_type": "execute_result"
    }
   ],
   "source": [
    "test_images.shape, test_labels.shape"
   ]
  },
  {
   "cell_type": "code",
   "execution_count": 9,
   "id": "f9ed8fe0",
   "metadata": {
    "execution": {
     "iopub.execute_input": "2022-10-25T10:15:56.365398Z",
     "iopub.status.busy": "2022-10-25T10:15:56.364755Z",
     "iopub.status.idle": "2022-10-25T10:15:56.506682Z",
     "shell.execute_reply": "2022-10-25T10:15:56.506162Z"
    },
    "papermill": {
     "duration": 0.185172,
     "end_time": "2022-10-25T10:15:56.506804",
     "exception": false,
     "start_time": "2022-10-25T10:15:56.321632",
     "status": "completed"
    },
    "tags": []
   },
   "outputs": [
    {
     "name": "stdout",
     "output_type": "stream",
     "text": [
      "2\n"
     ]
    },
    {
     "data": {
      "text/plain": [
       "<matplotlib.image.AxesImage at 0x7facec60fcc0>"
      ]
     },
     "execution_count": 9,
     "metadata": {},
     "output_type": "execute_result"
    },
    {
     "data": {
      "image/png": "[encoded data removed]",
      "text/plain": [
       "<Figure size 432x288 with 1 Axes>"
      ]
     },
     "metadata": {
      "needs_background": "light"
     },
     "output_type": "display_data"
    }
   ],
   "source": [
    "image_index = 7776 # You may select anything up to 60,000\n",
    "print(train_labels[image_index]) \n",
    "plt.imshow(train_images[image_index], cmap='Greys')"
   ]
  },
  {
   "cell_type": "markdown",
   "id": "a8d2388d",
   "metadata": {
    "papermill": {
     "duration": 0.026547,
     "end_time": "2022-10-25T10:15:56.560677",
     "exception": false,
     "start_time": "2022-10-25T10:15:56.534130",
     "status": "completed"
    },
    "tags": []
   },
   "source": [
    "## Filter data to get 3 and 8 out"
   ]
  },
  {
   "cell_type": "code",
   "execution_count": 10,
   "id": "776f7fc7",
   "metadata": {
    "execution": {
     "iopub.execute_input": "2022-10-25T10:15:56.619940Z",
     "iopub.status.busy": "2022-10-25T10:15:56.618414Z",
     "iopub.status.idle": "2022-10-25T10:15:56.638087Z",
     "shell.execute_reply": "2022-10-25T10:15:56.637362Z"
    },
    "papermill": {
     "duration": 0.050889,
     "end_time": "2022-10-25T10:15:56.638239",
     "exception": false,
     "start_time": "2022-10-25T10:15:56.587350",
     "status": "completed"
    },
    "tags": []
   },
   "outputs": [],
   "source": [
    "train_filter = np.where((train_labels == 3 ) | (train_labels == 8))\n",
    "test_filter = np.where((test_labels == 3) | (test_labels == 8))\n",
    "X_train, y_train = train_images[train_filter], train_labels[train_filter]\n",
    "X_test, y_test = test_images[test_filter], test_labels[test_filter]"
   ]
  },
  {
   "cell_type": "markdown",
   "id": "948f0b7e",
   "metadata": {
    "papermill": {
     "duration": 0.029038,
     "end_time": "2022-10-25T10:15:56.695473",
     "exception": false,
     "start_time": "2022-10-25T10:15:56.666435",
     "status": "completed"
    },
    "tags": []
   },
   "source": [
    "We normalize the pizel values in the 0 to 1 range"
   ]
  },
  {
   "cell_type": "code",
   "execution_count": 11,
   "id": "ee4c2166",
   "metadata": {
    "execution": {
     "iopub.execute_input": "2022-10-25T10:15:56.764710Z",
     "iopub.status.busy": "2022-10-25T10:15:56.752631Z",
     "iopub.status.idle": "2022-10-25T10:15:56.803101Z",
     "shell.execute_reply": "2022-10-25T10:15:56.802169Z"
    },
    "papermill": {
     "duration": 0.081223,
     "end_time": "2022-10-25T10:15:56.803249",
     "exception": false,
     "start_time": "2022-10-25T10:15:56.722026",
     "status": "completed"
    },
    "tags": []
   },
   "outputs": [],
   "source": [
    "X_train = X_train/255.\n",
    "X_test = X_test/255."
   ]
  },
  {
   "cell_type": "markdown",
   "id": "ddcf4fab",
   "metadata": {
    "papermill": {
     "duration": 0.026669,
     "end_time": "2022-10-25T10:15:56.857197",
     "exception": false,
     "start_time": "2022-10-25T10:15:56.830528",
     "status": "completed"
    },
    "tags": []
   },
   "source": [
    "And setup the labels as 1 (when the digit is 3) and 0 (when the digit is 8)"
   ]
  },
  {
   "cell_type": "code",
   "execution_count": 12,
   "id": "7dc908f2",
   "metadata": {
    "execution": {
     "iopub.execute_input": "2022-10-25T10:15:56.921356Z",
     "iopub.status.busy": "2022-10-25T10:15:56.920729Z",
     "iopub.status.idle": "2022-10-25T10:15:56.933576Z",
     "shell.execute_reply": "2022-10-25T10:15:56.933074Z"
    },
    "papermill": {
     "duration": 0.047537,
     "end_time": "2022-10-25T10:15:56.933704",
     "exception": false,
     "start_time": "2022-10-25T10:15:56.886167",
     "status": "completed"
    },
    "tags": []
   },
   "outputs": [],
   "source": [
    "y_train = 1*(y_train==3)\n",
    "y_test = 1*(y_test==3)"
   ]
  },
  {
   "cell_type": "code",
   "execution_count": 13,
   "id": "01e4e969",
   "metadata": {
    "execution": {
     "iopub.execute_input": "2022-10-25T10:15:56.999057Z",
     "iopub.status.busy": "2022-10-25T10:15:56.994385Z",
     "iopub.status.idle": "2022-10-25T10:15:57.008547Z",
     "shell.execute_reply": "2022-10-25T10:15:57.008041Z"
    },
    "papermill": {
     "duration": 0.048194,
     "end_time": "2022-10-25T10:15:57.008670",
     "exception": false,
     "start_time": "2022-10-25T10:15:56.960476",
     "status": "completed"
    },
    "tags": []
   },
   "outputs": [
    {
     "data": {
      "text/plain": [
       "((11982, 28, 28), (1984, 28, 28))"
      ]
     },
     "execution_count": 13,
     "metadata": {},
     "output_type": "execute_result"
    }
   ],
   "source": [
    "X_train.shape, X_test.shape"
   ]
  },
  {
   "cell_type": "markdown",
   "id": "5ccf3f85",
   "metadata": {
    "papermill": {
     "duration": 0.026905,
     "end_time": "2022-10-25T10:15:57.062641",
     "exception": false,
     "start_time": "2022-10-25T10:15:57.035736",
     "status": "completed"
    },
    "tags": []
   },
   "source": [
    "We reshape the data to flatten the image pixels into a set of features or co-variates:"
   ]
  },
  {
   "cell_type": "code",
   "execution_count": 14,
   "id": "5286a4a3",
   "metadata": {
    "execution": {
     "iopub.execute_input": "2022-10-25T10:15:57.138192Z",
     "iopub.status.busy": "2022-10-25T10:15:57.132669Z",
     "iopub.status.idle": "2022-10-25T10:15:57.141668Z",
     "shell.execute_reply": "2022-10-25T10:15:57.142099Z"
    },
    "papermill": {
     "duration": 0.048994,
     "end_time": "2022-10-25T10:15:57.142248",
     "exception": false,
     "start_time": "2022-10-25T10:15:57.093254",
     "status": "completed"
    },
    "tags": []
   },
   "outputs": [
    {
     "data": {
      "text/plain": [
       "((11982, 784), (1984, 784))"
      ]
     },
     "execution_count": 14,
     "metadata": {},
     "output_type": "execute_result"
    }
   ],
   "source": [
    "X_train = X_train.reshape(X_train.shape[0], -1)\n",
    "X_test = X_test.reshape(X_test.shape[0], -1)\n",
    "X_train.shape, X_test.shape"
   ]
  },
  {
   "cell_type": "code",
   "execution_count": 15,
   "id": "73c5f88a",
   "metadata": {
    "execution": {
     "iopub.execute_input": "2022-10-25T10:15:57.213509Z",
     "iopub.status.busy": "2022-10-25T10:15:57.202221Z",
     "iopub.status.idle": "2022-10-25T10:15:57.226745Z",
     "shell.execute_reply": "2022-10-25T10:15:57.226248Z"
    },
    "papermill": {
     "duration": 0.057363,
     "end_time": "2022-10-25T10:15:57.226873",
     "exception": false,
     "start_time": "2022-10-25T10:15:57.169510",
     "status": "completed"
    },
    "tags": []
   },
   "outputs": [],
   "source": [
    "#Impoting functions from 'Kudzu'\n",
    "from kudzu.model import Model\n",
    "from kudzu.train import Learner\n",
    "from kudzu.optim import GD\n",
    "from kudzu.data import Data, Sampler,Dataloader\n",
    "\n",
    "from kudzu.callbacks import AccCallback\n",
    "from kudzu.callbacks import ClfCallback\n",
    "\n",
    "from kudzu.loss import MSE\n",
    "\n",
    "from kudzu.layer import Sigmoid,Relu\n",
    "from kudzu.layer import Affine"
   ]
  },
  {
   "cell_type": "markdown",
   "id": "bc01172a",
   "metadata": {
    "papermill": {
     "duration": 0.026967,
     "end_time": "2022-10-25T10:15:57.281074",
     "exception": false,
     "start_time": "2022-10-25T10:15:57.254107",
     "status": "completed"
    },
    "tags": []
   },
   "source": [
    "### Let us create a `Config` class, to store important parameters. \n",
    "This class essentially plays the role of a dictionary."
   ]
  },
  {
   "cell_type": "code",
   "execution_count": 16,
   "id": "978281aa",
   "metadata": {
    "execution": {
     "iopub.execute_input": "2022-10-25T10:15:57.340658Z",
     "iopub.status.busy": "2022-10-25T10:15:57.340046Z",
     "iopub.status.idle": "2022-10-25T10:15:57.353734Z",
     "shell.execute_reply": "2022-10-25T10:15:57.353242Z"
    },
    "papermill": {
     "duration": 0.045766,
     "end_time": "2022-10-25T10:15:57.353850",
     "exception": false,
     "start_time": "2022-10-25T10:15:57.308084",
     "status": "completed"
    },
    "tags": []
   },
   "outputs": [],
   "source": [
    "class Config:\n",
    "    pass\n",
    "config = Config()\n",
    "config.lr = 0.001\n",
    "config.num_epochs = 250\n",
    "config.bs = 50"
   ]
  },
  {
   "cell_type": "markdown",
   "id": "1385fa59",
   "metadata": {
    "papermill": {
     "duration": 0.027326,
     "end_time": "2022-10-25T10:15:57.408435",
     "exception": false,
     "start_time": "2022-10-25T10:15:57.381109",
     "status": "completed"
    },
    "tags": []
   },
   "source": [
    "### Running Models with the Training data\n",
    "Details about the network layers:\n",
    "- A first affine layer has 784 inputs and does 100 affine transforms. These are followed by a Relu\n",
    "- A second affine layer has 100 inputs from the 100 activations of the past layer, and does 100 affine transforms. These are followed by a Relu\n",
    "- A third affine layer has 100 activations and does 2 affine transformations to create an embedding for visualization. There is no non-linearity here.\n",
    "- A final \"logistic regression\" which has an affine transform from 2 inputs to 1 output, which is squeezed through a sigmoid.\n"
   ]
  },
  {
   "cell_type": "code",
   "execution_count": 17,
   "id": "2b9c66db",
   "metadata": {
    "execution": {
     "iopub.execute_input": "2022-10-25T10:15:57.474783Z",
     "iopub.status.busy": "2022-10-25T10:15:57.474116Z",
     "iopub.status.idle": "2022-10-25T10:15:57.483434Z",
     "shell.execute_reply": "2022-10-25T10:15:57.482941Z"
    },
    "papermill": {
     "duration": 0.047989,
     "end_time": "2022-10-25T10:15:57.483560",
     "exception": false,
     "start_time": "2022-10-25T10:15:57.435571",
     "status": "completed"
    },
    "tags": []
   },
   "outputs": [],
   "source": [
    "data = Data(X_train, y_train.reshape(-1,1))\n",
    "sampler = Sampler(data, config.bs, shuffle=True)\n",
    "\n",
    "dl = Dataloader(data, sampler)\n",
    "\n",
    "opt = GD(config.lr)\n",
    "loss = MSE()"
   ]
  },
  {
   "cell_type": "code",
   "execution_count": 18,
   "id": "b275e4c2",
   "metadata": {
    "execution": {
     "iopub.execute_input": "2022-10-25T10:15:57.557008Z",
     "iopub.status.busy": "2022-10-25T10:15:57.556329Z",
     "iopub.status.idle": "2022-10-25T10:15:57.564363Z",
     "shell.execute_reply": "2022-10-25T10:15:57.563873Z"
    },
    "papermill": {
     "duration": 0.05366,
     "end_time": "2022-10-25T10:15:57.564486",
     "exception": false,
     "start_time": "2022-10-25T10:15:57.510826",
     "status": "completed"
    },
    "tags": []
   },
   "outputs": [],
   "source": [
    "training_data_x = X_train\n",
    "testing_data_x = X_test\n",
    "training_data_y = y_train.reshape(-1,1)\n",
    "testing_data_y = y_test.reshape(-1,1)"
   ]
  },
  {
   "cell_type": "code",
   "execution_count": 19,
   "id": "76951160",
   "metadata": {
    "execution": {
     "iopub.execute_input": "2022-10-25T10:15:57.640893Z",
     "iopub.status.busy": "2022-10-25T10:15:57.636754Z",
     "iopub.status.idle": "2022-10-25T10:15:57.646737Z",
     "shell.execute_reply": "2022-10-25T10:15:57.647184Z"
    },
    "papermill": {
     "duration": 0.055794,
     "end_time": "2022-10-25T10:15:57.647323",
     "exception": false,
     "start_time": "2022-10-25T10:15:57.591529",
     "status": "completed"
    },
    "tags": []
   },
   "outputs": [
    {
     "name": "stdout",
     "output_type": "stream",
     "text": [
      "xavier\n",
      "xavier\n",
      "xavier\n",
      "xavier\n",
      "xavier\n"
     ]
    }
   ],
   "source": [
    "layers = [Affine(\"first\", 784, 100), Relu(\"first\"), Affine(\"second\", 100, 100), Relu(\"second\"), Affine(\"third\", 100, 2), Affine(\"last\", 2, 1), Sigmoid(\"last\")]\n",
    "model_nn = Model(layers)\n",
    "model_lr = Model([Affine(\"logits\", 784, 1), Sigmoid(\"sigmoid\")])"
   ]
  },
  {
   "cell_type": "code",
   "execution_count": 20,
   "id": "6eede77a",
   "metadata": {
    "execution": {
     "iopub.execute_input": "2022-10-25T10:15:57.721778Z",
     "iopub.status.busy": "2022-10-25T10:15:57.719562Z",
     "iopub.status.idle": "2022-10-25T10:15:57.724901Z",
     "shell.execute_reply": "2022-10-25T10:15:57.723942Z"
    },
    "papermill": {
     "duration": 0.049939,
     "end_time": "2022-10-25T10:15:57.725027",
     "exception": false,
     "start_time": "2022-10-25T10:15:57.675088",
     "status": "completed"
    },
    "tags": []
   },
   "outputs": [],
   "source": [
    "nn_learner = Learner(loss, model_nn, opt, config.num_epochs)\n",
    "acc_nn = ClfCallback(nn_learner, config.bs, training_data_x , testing_data_x, training_data_y, testing_data_y)\n",
    "nn_learner.set_callbacks([acc_nn])"
   ]
  },
  {
   "cell_type": "code",
   "execution_count": 21,
   "id": "877b6cc7",
   "metadata": {
    "execution": {
     "iopub.execute_input": "2022-10-25T10:15:57.799624Z",
     "iopub.status.busy": "2022-10-25T10:15:57.798314Z",
     "iopub.status.idle": "2022-10-25T10:15:57.802734Z",
     "shell.execute_reply": "2022-10-25T10:15:57.801956Z"
    },
    "papermill": {
     "duration": 0.050379,
     "end_time": "2022-10-25T10:15:57.802860",
     "exception": false,
     "start_time": "2022-10-25T10:15:57.752481",
     "status": "completed"
    },
    "tags": []
   },
   "outputs": [],
   "source": [
    "lr_learner = Learner(loss, model_lr, opt, config.num_epochs)\n",
    "acc_lr = ClfCallback(lr_learner, config.bs, training_data_x , testing_data_x, training_data_y, testing_data_y)\n",
    "lr_learner.set_callbacks([acc_lr])"
   ]
  },
  {
   "cell_type": "code",
   "execution_count": 22,
   "id": "d9b133c3",
   "metadata": {
    "execution": {
     "iopub.execute_input": "2022-10-25T10:15:57.873443Z",
     "iopub.status.busy": "2022-10-25T10:15:57.864675Z",
     "iopub.status.idle": "2022-10-25T10:17:22.248675Z",
     "shell.execute_reply": "2022-10-25T10:17:22.249671Z"
    },
    "papermill": {
     "duration": 84.419476,
     "end_time": "2022-10-25T10:17:22.249831",
     "exception": false,
     "start_time": "2022-10-25T10:15:57.830355",
     "status": "completed"
    },
    "tags": []
   },
   "outputs": [
    {
     "name": "stdout",
     "output_type": "stream",
     "text": [
      "Epoch 0, Loss 0.1899\n",
      "Training Accuracy: 0.8462, Testing Accuracy: 0.8518\n",
      "\n"
     ]
    },
    {
     "name": "stdout",
     "output_type": "stream",
     "text": [
      "Epoch 10, Loss 0.0509\n",
      "Training Accuracy: 0.9470, Testing Accuracy: 0.9551\n",
      "\n"
     ]
    },
    {
     "name": "stdout",
     "output_type": "stream",
     "text": [
      "Epoch 20, Loss 0.0377\n",
      "Training Accuracy: 0.9594, Testing Accuracy: 0.9672\n",
      "\n"
     ]
    },
    {
     "name": "stdout",
     "output_type": "stream",
     "text": [
      "Epoch 30, Loss 0.0322\n",
      "Training Accuracy: 0.9652, Testing Accuracy: 0.9693\n",
      "\n"
     ]
    },
    {
     "name": "stdout",
     "output_type": "stream",
     "text": [
      "Epoch 40, Loss 0.0289\n",
      "Training Accuracy: 0.9679, Testing Accuracy: 0.9703\n",
      "\n"
     ]
    },
    {
     "name": "stdout",
     "output_type": "stream",
     "text": [
      "Epoch 50, Loss 0.0268\n",
      "Training Accuracy: 0.9699, Testing Accuracy: 0.9723\n",
      "\n"
     ]
    },
    {
     "name": "stdout",
     "output_type": "stream",
     "text": [
      "Epoch 60, Loss 0.0252\n",
      "Training Accuracy: 0.9718, Testing Accuracy: 0.9728\n",
      "\n"
     ]
    },
    {
     "name": "stdout",
     "output_type": "stream",
     "text": [
      "Epoch 70, Loss 0.0239\n",
      "Training Accuracy: 0.9731, Testing Accuracy: 0.9738\n",
      "\n"
     ]
    },
    {
     "name": "stdout",
     "output_type": "stream",
     "text": [
      "Epoch 80, Loss 0.0229\n",
      "Training Accuracy: 0.9742, Testing Accuracy: 0.9743\n",
      "\n"
     ]
    },
    {
     "name": "stdout",
     "output_type": "stream",
     "text": [
      "Epoch 90, Loss 0.022\n",
      "Training Accuracy: 0.9759, Testing Accuracy: 0.9738\n",
      "\n"
     ]
    },
    {
     "name": "stdout",
     "output_type": "stream",
     "text": [
      "Epoch 100, Loss 0.0212\n",
      "Training Accuracy: 0.9769, Testing Accuracy: 0.9733\n",
      "\n"
     ]
    },
    {
     "name": "stdout",
     "output_type": "stream",
     "text": [
      "Epoch 110, Loss 0.0205\n",
      "Training Accuracy: 0.9777, Testing Accuracy: 0.9748\n",
      "\n"
     ]
    },
    {
     "name": "stdout",
     "output_type": "stream",
     "text": [
      "Epoch 120, Loss 0.0198\n",
      "Training Accuracy: 0.9784, Testing Accuracy: 0.9748\n",
      "\n"
     ]
    },
    {
     "name": "stdout",
     "output_type": "stream",
     "text": [
      "Epoch 130, Loss 0.0192\n",
      "Training Accuracy: 0.9789, Testing Accuracy: 0.9748\n",
      "\n"
     ]
    },
    {
     "name": "stdout",
     "output_type": "stream",
     "text": [
      "Epoch 140, Loss 0.0186\n",
      "Training Accuracy: 0.9793, Testing Accuracy: 0.9748\n",
      "\n"
     ]
    },
    {
     "name": "stdout",
     "output_type": "stream",
     "text": [
      "Epoch 150, Loss 0.0181\n",
      "Training Accuracy: 0.9797, Testing Accuracy: 0.9753\n",
      "\n"
     ]
    },
    {
     "name": "stdout",
     "output_type": "stream",
     "text": [
      "Epoch 160, Loss 0.0176\n",
      "Training Accuracy: 0.9804, Testing Accuracy: 0.9753\n",
      "\n"
     ]
    },
    {
     "name": "stdout",
     "output_type": "stream",
     "text": [
      "Epoch 170, Loss 0.0171\n",
      "Training Accuracy: 0.9811, Testing Accuracy: 0.9758\n",
      "\n"
     ]
    },
    {
     "name": "stdout",
     "output_type": "stream",
     "text": [
      "Epoch 180, Loss 0.0167\n",
      "Training Accuracy: 0.9815, Testing Accuracy: 0.9763\n",
      "\n"
     ]
    },
    {
     "name": "stdout",
     "output_type": "stream",
     "text": [
      "Epoch 190, Loss 0.0162\n",
      "Training Accuracy: 0.9821, Testing Accuracy: 0.9763\n",
      "\n"
     ]
    },
    {
     "name": "stdout",
     "output_type": "stream",
     "text": [
      "Epoch 200, Loss 0.0158\n",
      "Training Accuracy: 0.9829, Testing Accuracy: 0.9768\n",
      "\n"
     ]
    },
    {
     "name": "stdout",
     "output_type": "stream",
     "text": [
      "Epoch 210, Loss 0.0154\n",
      "Training Accuracy: 0.9832, Testing Accuracy: 0.9783\n",
      "\n"
     ]
    },
    {
     "name": "stdout",
     "output_type": "stream",
     "text": [
      "Epoch 220, Loss 0.015\n",
      "Training Accuracy: 0.9840, Testing Accuracy: 0.9788\n",
      "\n"
     ]
    },
    {
     "name": "stdout",
     "output_type": "stream",
     "text": [
      "Epoch 230, Loss 0.0146\n",
      "Training Accuracy: 0.9843, Testing Accuracy: 0.9793\n",
      "\n"
     ]
    },
    {
     "name": "stdout",
     "output_type": "stream",
     "text": [
      "Epoch 240, Loss 0.0143\n",
      "Training Accuracy: 0.9848, Testing Accuracy: 0.9803\n",
      "\n"
     ]
    },
    {
     "data": {
      "text/plain": [
       "0.014162748345354956"
      ]
     },
     "execution_count": 22,
     "metadata": {},
     "output_type": "execute_result"
    }
   ],
   "source": [
    "nn_learner.train_loop(dl)"
   ]
  },
  {
   "cell_type": "code",
   "execution_count": 23,
   "id": "e0163366",
   "metadata": {
    "execution": {
     "iopub.execute_input": "2022-10-25T10:17:22.329278Z",
     "iopub.status.busy": "2022-10-25T10:17:22.328654Z",
     "iopub.status.idle": "2022-10-25T10:17:37.599904Z",
     "shell.execute_reply": "2022-10-25T10:17:37.600931Z"
    },
    "papermill": {
     "duration": 15.316294,
     "end_time": "2022-10-25T10:17:37.601095",
     "exception": false,
     "start_time": "2022-10-25T10:17:22.284801",
     "status": "completed"
    },
    "tags": []
   },
   "outputs": [
    {
     "name": "stdout",
     "output_type": "stream",
     "text": [
      "Epoch 0, Loss 0.2333\n",
      "Training Accuracy: 0.7171, Testing Accuracy: 0.7243\n",
      "\n"
     ]
    },
    {
     "name": "stdout",
     "output_type": "stream",
     "text": [
      "Epoch 10, Loss 0.1002\n",
      "Training Accuracy: 0.9151, Testing Accuracy: 0.9264\n",
      "\n"
     ]
    },
    {
     "name": "stdout",
     "output_type": "stream",
     "text": [
      "Epoch 20, Loss 0.0777\n",
      "Training Accuracy: 0.9300, Testing Accuracy: 0.9405\n",
      "\n"
     ]
    },
    {
     "name": "stdout",
     "output_type": "stream",
     "text": [
      "Epoch 30, Loss 0.0673\n",
      "Training Accuracy: 0.9372, Testing Accuracy: 0.9481\n",
      "\n"
     ]
    },
    {
     "name": "stdout",
     "output_type": "stream",
     "text": [
      "Epoch 40, Loss 0.061\n",
      "Training Accuracy: 0.9417, Testing Accuracy: 0.9511\n",
      "\n"
     ]
    },
    {
     "name": "stdout",
     "output_type": "stream",
     "text": [
      "Epoch 50, Loss 0.0567\n",
      "Training Accuracy: 0.9458, Testing Accuracy: 0.9541\n",
      "\n"
     ]
    },
    {
     "name": "stdout",
     "output_type": "stream",
     "text": [
      "Epoch 60, Loss 0.0535\n",
      "Training Accuracy: 0.9486, Testing Accuracy: 0.9551\n",
      "\n"
     ]
    },
    {
     "name": "stdout",
     "output_type": "stream",
     "text": [
      "Epoch 70, Loss 0.051\n",
      "Training Accuracy: 0.9505, Testing Accuracy: 0.9577\n",
      "\n"
     ]
    },
    {
     "name": "stdout",
     "output_type": "stream",
     "text": [
      "Epoch 80, Loss 0.049\n",
      "Training Accuracy: 0.9511, Testing Accuracy: 0.9592\n",
      "\n"
     ]
    },
    {
     "name": "stdout",
     "output_type": "stream",
     "text": [
      "Epoch 90, Loss 0.0474\n",
      "Training Accuracy: 0.9523, Testing Accuracy: 0.9597\n",
      "\n"
     ]
    },
    {
     "name": "stdout",
     "output_type": "stream",
     "text": [
      "Epoch 100, Loss 0.046\n",
      "Training Accuracy: 0.9532, Testing Accuracy: 0.9617\n",
      "\n"
     ]
    },
    {
     "name": "stdout",
     "output_type": "stream",
     "text": [
      "Epoch 110, Loss 0.0448\n",
      "Training Accuracy: 0.9537, Testing Accuracy: 0.9622\n",
      "\n"
     ]
    },
    {
     "name": "stdout",
     "output_type": "stream",
     "text": [
      "Epoch 120, Loss 0.0437\n",
      "Training Accuracy: 0.9549, Testing Accuracy: 0.9627\n",
      "\n"
     ]
    },
    {
     "name": "stdout",
     "output_type": "stream",
     "text": [
      "Epoch 130, Loss 0.0428\n",
      "Training Accuracy: 0.9559, Testing Accuracy: 0.9637\n",
      "\n"
     ]
    },
    {
     "name": "stdout",
     "output_type": "stream",
     "text": [
      "Epoch 140, Loss 0.042\n",
      "Training Accuracy: 0.9565, Testing Accuracy: 0.9642\n",
      "\n"
     ]
    },
    {
     "name": "stdout",
     "output_type": "stream",
     "text": [
      "Epoch 150, Loss 0.0412\n",
      "Training Accuracy: 0.9570, Testing Accuracy: 0.9647\n",
      "\n"
     ]
    },
    {
     "name": "stdout",
     "output_type": "stream",
     "text": [
      "Epoch 160, Loss 0.0406\n",
      "Training Accuracy: 0.9574, Testing Accuracy: 0.9647\n",
      "\n"
     ]
    },
    {
     "name": "stdout",
     "output_type": "stream",
     "text": [
      "Epoch 170, Loss 0.04\n",
      "Training Accuracy: 0.9582, Testing Accuracy: 0.9657\n",
      "\n"
     ]
    },
    {
     "name": "stdout",
     "output_type": "stream",
     "text": [
      "Epoch 180, Loss 0.0394\n",
      "Training Accuracy: 0.9584, Testing Accuracy: 0.9662\n",
      "\n"
     ]
    },
    {
     "name": "stdout",
     "output_type": "stream",
     "text": [
      "Epoch 190, Loss 0.0389\n",
      "Training Accuracy: 0.9588, Testing Accuracy: 0.9662\n",
      "\n"
     ]
    },
    {
     "name": "stdout",
     "output_type": "stream",
     "text": [
      "Epoch 200, Loss 0.0384\n",
      "Training Accuracy: 0.9591, Testing Accuracy: 0.9662\n",
      "\n"
     ]
    },
    {
     "name": "stdout",
     "output_type": "stream",
     "text": [
      "Epoch 210, Loss 0.038\n",
      "Training Accuracy: 0.9598, Testing Accuracy: 0.9667\n",
      "\n"
     ]
    },
    {
     "name": "stdout",
     "output_type": "stream",
     "text": [
      "Epoch 220, Loss 0.0376\n",
      "Training Accuracy: 0.9605, Testing Accuracy: 0.9672\n",
      "\n"
     ]
    },
    {
     "name": "stdout",
     "output_type": "stream",
     "text": [
      "Epoch 230, Loss 0.0372\n",
      "Training Accuracy: 0.9608, Testing Accuracy: 0.9672\n",
      "\n"
     ]
    },
    {
     "name": "stdout",
     "output_type": "stream",
     "text": [
      "Epoch 240, Loss 0.0368\n",
      "Training Accuracy: 0.9612, Testing Accuracy: 0.9672\n",
      "\n"
     ]
    },
    {
     "data": {
      "text/plain": [
       "0.028830331413277968"
      ]
     },
     "execution_count": 23,
     "metadata": {},
     "output_type": "execute_result"
    }
   ],
   "source": [
    "lr_learner.train_loop(dl)"
   ]
  },
  {
   "cell_type": "code",
   "execution_count": 24,
   "id": "ca410940",
   "metadata": {
    "execution": {
     "iopub.execute_input": "2022-10-25T10:17:37.697311Z",
     "iopub.status.busy": "2022-10-25T10:17:37.696667Z",
     "iopub.status.idle": "2022-10-25T10:17:37.922441Z",
     "shell.execute_reply": "2022-10-25T10:17:37.922899Z"
    },
    "papermill": {
     "duration": 0.279907,
     "end_time": "2022-10-25T10:17:37.923042",
     "exception": false,
     "start_time": "2022-10-25T10:17:37.643135",
     "status": "completed"
    },
    "tags": []
   },
   "outputs": [
    {
     "data": {
      "text/plain": [
       "<matplotlib.legend.Legend at 0x7facec17c320>"
      ]
     },
     "execution_count": 24,
     "metadata": {},
     "output_type": "execute_result"
    },
    {
     "data": {
      "image/png": "[encoded data removed]",
      "text/plain": [
       "<Figure size 1080x720 with 1 Axes>"
      ]
     },
     "metadata": {
      "needs_background": "light"
     },
     "output_type": "display_data"
    }
   ],
   "source": [
    "#comparing the results of NN and LR\n",
    "plt.figure(figsize=(15,10))\n",
    "\n",
    "# Neural Network plots\n",
    "plt.plot(acc_nn.accuracies, 'r-', label = \"Training Accuracies - NN\")\n",
    "plt.plot(acc_nn.test_accuracies, 'g-', label = \"Testing Accuracies - NN\")\n",
    "\n",
    "# Logistic Regression plots\n",
    "plt.plot(acc_lr.accuracies, 'k-', label = \"Training Accuracies - LR\")\n",
    "plt.plot(acc_lr.test_accuracies, 'b-', label = \"Testing Accuracies - LR\")\n",
    "plt.legend()"
   ]
  },
  {
   "cell_type": "markdown",
   "id": "80dfb35c",
   "metadata": {
    "papermill": {
     "duration": 0.042061,
     "end_time": "2022-10-25T10:17:38.007619",
     "exception": false,
     "start_time": "2022-10-25T10:17:37.965558",
     "status": "completed"
    },
    "tags": []
   },
   "source": [
    "#### Plotting the outputs of this layer of the NN.\n"
   ]
  },
  {
   "cell_type": "code",
   "execution_count": 25,
   "id": "45eb2ff5",
   "metadata": {
    "execution": {
     "iopub.execute_input": "2022-10-25T10:17:38.106351Z",
     "iopub.status.busy": "2022-10-25T10:17:38.104743Z",
     "iopub.status.idle": "2022-10-25T10:17:38.120936Z",
     "shell.execute_reply": "2022-10-25T10:17:38.121442Z"
    },
    "papermill": {
     "duration": 0.071821,
     "end_time": "2022-10-25T10:17:38.121594",
     "exception": false,
     "start_time": "2022-10-25T10:17:38.049773",
     "status": "completed"
    },
    "tags": []
   },
   "outputs": [],
   "source": [
    "new_model = Model(layers[:-2])\n",
    "testing_plot = new_model(testing_data_x)"
   ]
  },
  {
   "cell_type": "code",
   "execution_count": 26,
   "id": "4c0a5485",
   "metadata": {
    "execution": {
     "iopub.execute_input": "2022-10-25T10:17:38.221660Z",
     "iopub.status.busy": "2022-10-25T10:17:38.221022Z",
     "iopub.status.idle": "2022-10-25T10:17:38.424170Z",
     "shell.execute_reply": "2022-10-25T10:17:38.424630Z"
    },
    "papermill": {
     "duration": 0.26049,
     "end_time": "2022-10-25T10:17:38.424769",
     "exception": false,
     "start_time": "2022-10-25T10:17:38.164279",
     "status": "completed"
    },
    "tags": []
   },
   "outputs": [
    {
     "data": {
      "text/plain": [
       "Text(0.5, 1.0, 'Outputs')"
      ]
     },
     "execution_count": 26,
     "metadata": {},
     "output_type": "execute_result"
    },
    {
     "data": {
      "image/png": "[encoded data removed]",
      "text/plain": [
       "<Figure size 576x504 with 1 Axes>"
      ]
     },
     "metadata": {
      "needs_background": "light"
     },
     "output_type": "display_data"
    }
   ],
   "source": [
    "# Plotting the scatter plot of points and color coding by class\n",
    "plt.figure(figsize=(8,7))\n",
    "plt.scatter(testing_plot[:,0], testing_plot[:,1], alpha = 0.1, c = y_test.ravel());\n",
    "plt.title('Outputs')"
   ]
  },
  {
   "cell_type": "markdown",
   "id": "a74fcf8f",
   "metadata": {
    "papermill": {
     "duration": 0.04476,
     "end_time": "2022-10-25T10:17:38.514314",
     "exception": false,
     "start_time": "2022-10-25T10:17:38.469554",
     "status": "completed"
    },
    "tags": []
   },
   "source": [
    "Probability contours"
   ]
  },
  {
   "cell_type": "code",
   "execution_count": 27,
   "id": "d0afc8e3",
   "metadata": {
    "execution": {
     "iopub.execute_input": "2022-10-25T10:17:38.653408Z",
     "iopub.status.busy": "2022-10-25T10:17:38.652759Z",
     "iopub.status.idle": "2022-10-25T10:17:38.661680Z",
     "shell.execute_reply": "2022-10-25T10:17:38.661177Z"
    },
    "papermill": {
     "duration": 0.067698,
     "end_time": "2022-10-25T10:17:38.661811",
     "exception": false,
     "start_time": "2022-10-25T10:17:38.594113",
     "status": "completed"
    },
    "tags": []
   },
   "outputs": [],
   "source": [
    "model_prob = Model(layers[-2:]) "
   ]
  },
  {
   "cell_type": "code",
   "execution_count": 28,
   "id": "9b96e238",
   "metadata": {
    "execution": {
     "iopub.execute_input": "2022-10-25T10:17:38.762094Z",
     "iopub.status.busy": "2022-10-25T10:17:38.759135Z",
     "iopub.status.idle": "2022-10-25T10:17:38.775193Z",
     "shell.execute_reply": "2022-10-25T10:17:38.775646Z"
    },
    "papermill": {
     "duration": 0.068936,
     "end_time": "2022-10-25T10:17:38.775825",
     "exception": false,
     "start_time": "2022-10-25T10:17:38.706889",
     "status": "completed"
    },
    "tags": []
   },
   "outputs": [],
   "source": [
    "#creating the x and y ranges according to the above generated plot.\n",
    "x_range = np.linspace(-4, 1, 100) \n",
    "y_range = np.linspace(-6, 6, 100) \n",
    "x_grid, y_grid = np.meshgrid(x_range, y_range) # x_grid and y_grig are of size 100 X 100\n",
    "\n",
    "# converting x_grid and y_grid to continuous arrays\n",
    "x_gridflat = np.ravel(x_grid)\n",
    "y_gridflat = np.ravel(y_grid)\n",
    "\n",
    "# The last layer of the current model takes two columns as input. Hence transpose of np.vstack() is required.\n",
    "X = np.vstack((x_gridflat, y_gridflat)).T\n",
    "\n",
    "prob_contour = model_prob(X).reshape(100,100) "
   ]
  },
  {
   "cell_type": "code",
   "execution_count": 29,
   "id": "da72499a",
   "metadata": {
    "execution": {
     "iopub.execute_input": "2022-10-25T10:17:38.872185Z",
     "iopub.status.busy": "2022-10-25T10:17:38.871496Z",
     "iopub.status.idle": "2022-10-25T10:17:39.114306Z",
     "shell.execute_reply": "2022-10-25T10:17:39.114906Z"
    },
    "papermill": {
     "duration": 0.294019,
     "end_time": "2022-10-25T10:17:39.115053",
     "exception": false,
     "start_time": "2022-10-25T10:17:38.821034",
     "status": "completed"
    },
    "tags": []
   },
   "outputs": [
    {
     "data": {
      "image/png": "[encoded data removed]",
      "text/plain": [
       "<Figure size 720x648 with 1 Axes>"
      ]
     },
     "metadata": {
      "needs_background": "light"
     },
     "output_type": "display_data"
    }
   ],
   "source": [
    "plt.figure(figsize=(10,9))\n",
    "plt.scatter(testing_plot[:,0], testing_plot[:,1], alpha = 0.1, c = y_test.ravel())\n",
    "contours = plt.contour(x_grid,y_grid,prob_contour)\n",
    "plt.title('Probability Contours')\n",
    "plt.clabel(contours, inline = True );"
   ]
  },
  {
   "cell_type": "code",
   "execution_count": null,
   "id": "e81b4ac7",
   "metadata": {
    "papermill": {
     "duration": 0.047607,
     "end_time": "2022-10-25T10:17:39.211310",
     "exception": false,
     "start_time": "2022-10-25T10:17:39.163703",
     "status": "completed"
    },
    "tags": []
   },
   "outputs": [],
   "source": []
  }
 ],
 "metadata": {
  "kernelspec": {
   "display_name": "Python 3",
   "language": "python",
   "name": "python3"
  },
  "language_info": {
   "codemirror_mode": {
    "name": "ipython",
    "version": 3
   },
   "file_extension": ".py",
   "mimetype": "text/x-python",
   "name": "python",
   "nbconvert_exporter": "python",
   "pygments_lexer": "ipython3",
   "version": "3.6.15"
  },
  "papermill": {
   "default_parameters": {},
   "duration": 108.34992,
   "end_time": "2022-10-25T10:17:39.677954",
   "environment_variables": {},
   "exception": null,
   "input_path": "2020-08-11-part2.ipynb",
   "output_path": "2020-08-11-part2.ipynb",
   "parameters": {},
   "start_time": "2022-10-25T10:15:51.328034",
   "version": "2.3.3"
  }
 },
 "nbformat": 4,
 "nbformat_minor": 5
}