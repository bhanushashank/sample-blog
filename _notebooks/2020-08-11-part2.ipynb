{
 "cells": [
  {
   "cell_type": "markdown",
   "id": "98380cd3",
   "metadata": {
    "papermill": {
     "duration": 0.032122,
     "end_time": "2021-10-30T00:21:08.394210",
     "exception": false,
     "start_time": "2021-10-30T00:21:08.362088",
     "status": "completed"
    },
    "tags": []
   },
   "source": [
    "# Distinguish Your Own Digits (DYOD)"
   ]
  },
  {
   "cell_type": "markdown",
   "id": "ef31240d",
   "metadata": {
    "papermill": {
     "duration": 0.024896,
     "end_time": "2021-10-30T00:21:08.446196",
     "exception": false,
     "start_time": "2021-10-30T00:21:08.421300",
     "status": "completed"
    },
    "tags": []
   },
   "source": [
    "You are going to write a classifier that distinguishes between the number 3 and number 8."
   ]
  },
  {
   "cell_type": "code",
   "execution_count": 1,
   "id": "b15c8646",
   "metadata": {
    "execution": {
     "iopub.execute_input": "2021-10-30T00:21:08.512390Z",
     "iopub.status.busy": "2021-10-30T00:21:08.511776Z",
     "iopub.status.idle": "2021-10-30T00:21:08.523289Z",
     "shell.execute_reply": "2021-10-30T00:21:08.522797Z"
    },
    "papermill": {
     "duration": 0.050482,
     "end_time": "2021-10-30T00:21:08.523436",
     "exception": false,
     "start_time": "2021-10-30T00:21:08.472954",
     "status": "completed"
    },
    "tags": []
   },
   "outputs": [],
   "source": [
    "%load_ext autoreload\n",
    "%autoreload 2"
   ]
  },
  {
   "cell_type": "code",
   "execution_count": 2,
   "id": "22ef38dc",
   "metadata": {
    "execution": {
     "iopub.execute_input": "2021-10-30T00:21:08.581728Z",
     "iopub.status.busy": "2021-10-30T00:21:08.581060Z",
     "iopub.status.idle": "2021-10-30T00:21:09.159212Z",
     "shell.execute_reply": "2021-10-30T00:21:09.158065Z"
    },
    "papermill": {
     "duration": 0.609063,
     "end_time": "2021-10-30T00:21:09.159428",
     "exception": false,
     "start_time": "2021-10-30T00:21:08.550365",
     "status": "completed"
    },
    "tags": []
   },
   "outputs": [],
   "source": [
    "%matplotlib inline\n",
    "import numpy as np\n",
    "import matplotlib.pyplot as plt\n",
    "import pandas as pd"
   ]
  },
  {
   "cell_type": "markdown",
   "id": "ba036198",
   "metadata": {
    "papermill": {
     "duration": 0.027494,
     "end_time": "2021-10-30T00:21:09.216412",
     "exception": false,
     "start_time": "2021-10-30T00:21:09.188918",
     "status": "completed"
    },
    "tags": []
   },
   "source": [
    "From the command line run `pip install mnist`. This is a library that will help you bring down the mnist dataset. If you run this from a notebook, you need to put  `!pip install mnist` in a cell by itself."
   ]
  },
  {
   "cell_type": "code",
   "execution_count": 3,
   "id": "bb6ad8a1",
   "metadata": {
    "execution": {
     "iopub.execute_input": "2021-10-30T00:21:09.275863Z",
     "iopub.status.busy": "2021-10-30T00:21:09.275256Z",
     "iopub.status.idle": "2021-10-30T00:21:11.157935Z",
     "shell.execute_reply": "2021-10-30T00:21:11.158772Z"
    },
    "papermill": {
     "duration": 1.916042,
     "end_time": "2021-10-30T00:21:11.159031",
     "exception": false,
     "start_time": "2021-10-30T00:21:09.242989",
     "status": "completed"
    },
    "tags": []
   },
   "outputs": [
    {
     "name": "stdout",
     "output_type": "stream",
     "text": [
      "Collecting mnist\r\n"
     ]
    },
    {
     "name": "stdout",
     "output_type": "stream",
     "text": [
      "  Downloading mnist-0.2.2-py2.py3-none-any.whl (3.5 kB)\r\n",
      "Requirement already satisfied: numpy in /opt/hostedtoolcache/Python/3.6.15/x64/lib/python3.6/site-packages (from mnist) (1.19.5)\r\n"
     ]
    },
    {
     "name": "stdout",
     "output_type": "stream",
     "text": [
      "Installing collected packages: mnist\r\n"
     ]
    },
    {
     "name": "stdout",
     "output_type": "stream",
     "text": [
      "Successfully installed mnist-0.2.2\r\n"
     ]
    },
    {
     "name": "stdout",
     "output_type": "stream",
     "text": [
      "\u001b[33mWARNING: You are using pip version 21.3; however, version 21.3.1 is available.\r\n",
      "You should consider upgrading via the '/opt/hostedtoolcache/Python/3.6.15/x64/bin/python -m pip install --upgrade pip' command.\u001b[0m\r\n"
     ]
    }
   ],
   "source": [
    "!pip install mnist"
   ]
  },
  {
   "cell_type": "markdown",
   "id": "69df9c9a",
   "metadata": {
    "papermill": {
     "duration": 0.028509,
     "end_time": "2021-10-30T00:21:11.215482",
     "exception": false,
     "start_time": "2021-10-30T00:21:11.186973",
     "status": "completed"
    },
    "tags": []
   },
   "source": [
    "## Preparing the Data"
   ]
  },
  {
   "cell_type": "code",
   "execution_count": 4,
   "id": "7f69d806",
   "metadata": {
    "execution": {
     "iopub.execute_input": "2021-10-30T00:21:11.278256Z",
     "iopub.status.busy": "2021-10-30T00:21:11.276766Z",
     "iopub.status.idle": "2021-10-30T00:21:11.293830Z",
     "shell.execute_reply": "2021-10-30T00:21:11.293333Z"
    },
    "papermill": {
     "duration": 0.05067,
     "end_time": "2021-10-30T00:21:11.293964",
     "exception": false,
     "start_time": "2021-10-30T00:21:11.243294",
     "status": "completed"
    },
    "tags": []
   },
   "outputs": [],
   "source": [
    "import mnist"
   ]
  },
  {
   "cell_type": "code",
   "execution_count": 5,
   "id": "a411e44f",
   "metadata": {
    "execution": {
     "iopub.execute_input": "2021-10-30T00:21:11.355267Z",
     "iopub.status.busy": "2021-10-30T00:21:11.354667Z",
     "iopub.status.idle": "2021-10-30T00:21:12.115211Z",
     "shell.execute_reply": "2021-10-30T00:21:12.114457Z"
    },
    "papermill": {
     "duration": 0.792489,
     "end_time": "2021-10-30T00:21:12.115352",
     "exception": false,
     "start_time": "2021-10-30T00:21:11.322863",
     "status": "completed"
    },
    "tags": []
   },
   "outputs": [],
   "source": [
    "train_images = mnist.train_images()\n",
    "train_labels = mnist.train_labels()"
   ]
  },
  {
   "cell_type": "code",
   "execution_count": 6,
   "id": "dceab3a5",
   "metadata": {
    "execution": {
     "iopub.execute_input": "2021-10-30T00:21:12.183353Z",
     "iopub.status.busy": "2021-10-30T00:21:12.182763Z",
     "iopub.status.idle": "2021-10-30T00:21:12.198263Z",
     "shell.execute_reply": "2021-10-30T00:21:12.197757Z"
    },
    "papermill": {
     "duration": 0.053314,
     "end_time": "2021-10-30T00:21:12.198387",
     "exception": false,
     "start_time": "2021-10-30T00:21:12.145073",
     "status": "completed"
    },
    "tags": []
   },
   "outputs": [
    {
     "data": {
      "text/plain": [
       "((60000, 28, 28), (60000,))"
      ]
     },
     "execution_count": 6,
     "metadata": {},
     "output_type": "execute_result"
    }
   ],
   "source": [
    "train_images.shape, train_labels.shape"
   ]
  },
  {
   "cell_type": "code",
   "execution_count": 7,
   "id": "f50dc2bb",
   "metadata": {
    "execution": {
     "iopub.execute_input": "2021-10-30T00:21:12.260541Z",
     "iopub.status.busy": "2021-10-30T00:21:12.259949Z",
     "iopub.status.idle": "2021-10-30T00:21:12.509239Z",
     "shell.execute_reply": "2021-10-30T00:21:12.508691Z"
    },
    "papermill": {
     "duration": 0.282627,
     "end_time": "2021-10-30T00:21:12.509381",
     "exception": false,
     "start_time": "2021-10-30T00:21:12.226754",
     "status": "completed"
    },
    "tags": []
   },
   "outputs": [],
   "source": [
    "test_images = mnist.test_images()\n",
    "test_labels = mnist.test_labels()"
   ]
  },
  {
   "cell_type": "code",
   "execution_count": 8,
   "id": "fc38cf1b",
   "metadata": {
    "execution": {
     "iopub.execute_input": "2021-10-30T00:21:12.579486Z",
     "iopub.status.busy": "2021-10-30T00:21:12.578878Z",
     "iopub.status.idle": "2021-10-30T00:21:12.591984Z",
     "shell.execute_reply": "2021-10-30T00:21:12.591438Z"
    },
    "papermill": {
     "duration": 0.051666,
     "end_time": "2021-10-30T00:21:12.592113",
     "exception": false,
     "start_time": "2021-10-30T00:21:12.540447",
     "status": "completed"
    },
    "tags": []
   },
   "outputs": [
    {
     "data": {
      "text/plain": [
       "((10000, 28, 28), (10000,))"
      ]
     },
     "execution_count": 8,
     "metadata": {},
     "output_type": "execute_result"
    }
   ],
   "source": [
    "test_images.shape, test_labels.shape"
   ]
  },
  {
   "cell_type": "code",
   "execution_count": 9,
   "id": "f9ed8fe0",
   "metadata": {
    "execution": {
     "iopub.execute_input": "2021-10-30T00:21:12.659433Z",
     "iopub.status.busy": "2021-10-30T00:21:12.658837Z",
     "iopub.status.idle": "2021-10-30T00:21:12.810081Z",
     "shell.execute_reply": "2021-10-30T00:21:12.809585Z"
    },
    "papermill": {
     "duration": 0.18853,
     "end_time": "2021-10-30T00:21:12.810205",
     "exception": false,
     "start_time": "2021-10-30T00:21:12.621675",
     "status": "completed"
    },
    "tags": []
   },
   "outputs": [
    {
     "name": "stdout",
     "output_type": "stream",
     "text": [
      "2\n"
     ]
    },
    {
     "data": {
      "text/plain": [
       "<matplotlib.image.AxesImage at 0x7f033ec22080>"
      ]
     },
     "execution_count": 9,
     "metadata": {},
     "output_type": "execute_result"
    },
    {
     "data": {
      "image/png": "[encoded data removed]",
      "text/plain": [
       "<Figure size 432x288 with 1 Axes>"
      ]
     },
     "metadata": {
      "needs_background": "light"
     },
     "output_type": "display_data"
    }
   ],
   "source": [
    "image_index = 7776 # You may select anything up to 60,000\n",
    "print(train_labels[image_index]) \n",
    "plt.imshow(train_images[image_index], cmap='Greys')"
   ]
  },
  {
   "cell_type": "markdown",
   "id": "a8d2388d",
   "metadata": {
    "papermill": {
     "duration": 0.028451,
     "end_time": "2021-10-30T00:21:12.867653",
     "exception": false,
     "start_time": "2021-10-30T00:21:12.839202",
     "status": "completed"
    },
    "tags": []
   },
   "source": [
    "## Filter data to get 3 and 8 out"
   ]
  },
  {
   "cell_type": "code",
   "execution_count": 10,
   "id": "776f7fc7",
   "metadata": {
    "execution": {
     "iopub.execute_input": "2021-10-30T00:21:12.930835Z",
     "iopub.status.busy": "2021-10-30T00:21:12.930219Z",
     "iopub.status.idle": "2021-10-30T00:21:12.946980Z",
     "shell.execute_reply": "2021-10-30T00:21:12.946505Z"
    },
    "papermill": {
     "duration": 0.050907,
     "end_time": "2021-10-30T00:21:12.947119",
     "exception": false,
     "start_time": "2021-10-30T00:21:12.896212",
     "status": "completed"
    },
    "tags": []
   },
   "outputs": [],
   "source": [
    "train_filter = np.where((train_labels == 3 ) | (train_labels == 8))\n",
    "test_filter = np.where((test_labels == 3) | (test_labels == 8))\n",
    "X_train, y_train = train_images[train_filter], train_labels[train_filter]\n",
    "X_test, y_test = test_images[test_filter], test_labels[test_filter]"
   ]
  },
  {
   "cell_type": "markdown",
   "id": "948f0b7e",
   "metadata": {
    "papermill": {
     "duration": 0.029826,
     "end_time": "2021-10-30T00:21:13.006458",
     "exception": false,
     "start_time": "2021-10-30T00:21:12.976632",
     "status": "completed"
    },
    "tags": []
   },
   "source": [
    "We normalize the pizel values in the 0 to 1 range"
   ]
  },
  {
   "cell_type": "code",
   "execution_count": 11,
   "id": "ee4c2166",
   "metadata": {
    "execution": {
     "iopub.execute_input": "2021-10-30T00:21:13.070619Z",
     "iopub.status.busy": "2021-10-30T00:21:13.070011Z",
     "iopub.status.idle": "2021-10-30T00:21:13.126084Z",
     "shell.execute_reply": "2021-10-30T00:21:13.125491Z"
    },
    "papermill": {
     "duration": 0.089983,
     "end_time": "2021-10-30T00:21:13.126237",
     "exception": false,
     "start_time": "2021-10-30T00:21:13.036254",
     "status": "completed"
    },
    "tags": []
   },
   "outputs": [],
   "source": [
    "X_train = X_train/255.\n",
    "X_test = X_test/255."
   ]
  },
  {
   "cell_type": "markdown",
   "id": "ddcf4fab",
   "metadata": {
    "papermill": {
     "duration": 0.030255,
     "end_time": "2021-10-30T00:21:13.187392",
     "exception": false,
     "start_time": "2021-10-30T00:21:13.157137",
     "status": "completed"
    },
    "tags": []
   },
   "source": [
    "And setup the labels as 1 (when the digit is 3) and 0 (when the digit is 8)"
   ]
  },
  {
   "cell_type": "code",
   "execution_count": 12,
   "id": "7dc908f2",
   "metadata": {
    "execution": {
     "iopub.execute_input": "2021-10-30T00:21:13.251435Z",
     "iopub.status.busy": "2021-10-30T00:21:13.250817Z",
     "iopub.status.idle": "2021-10-30T00:21:13.265482Z",
     "shell.execute_reply": "2021-10-30T00:21:13.264496Z"
    },
    "papermill": {
     "duration": 0.04842,
     "end_time": "2021-10-30T00:21:13.265694",
     "exception": false,
     "start_time": "2021-10-30T00:21:13.217274",
     "status": "completed"
    },
    "tags": []
   },
   "outputs": [],
   "source": [
    "y_train = 1*(y_train==3)\n",
    "y_test = 1*(y_test==3)"
   ]
  },
  {
   "cell_type": "code",
   "execution_count": 13,
   "id": "01e4e969",
   "metadata": {
    "execution": {
     "iopub.execute_input": "2021-10-30T00:21:13.330154Z",
     "iopub.status.busy": "2021-10-30T00:21:13.329591Z",
     "iopub.status.idle": "2021-10-30T00:21:13.343423Z",
     "shell.execute_reply": "2021-10-30T00:21:13.343897Z"
    },
    "papermill": {
     "duration": 0.047514,
     "end_time": "2021-10-30T00:21:13.344058",
     "exception": false,
     "start_time": "2021-10-30T00:21:13.296544",
     "status": "completed"
    },
    "tags": []
   },
   "outputs": [
    {
     "data": {
      "text/plain": [
       "((11982, 28, 28), (1984, 28, 28))"
      ]
     },
     "execution_count": 13,
     "metadata": {},
     "output_type": "execute_result"
    }
   ],
   "source": [
    "X_train.shape, X_test.shape"
   ]
  },
  {
   "cell_type": "markdown",
   "id": "5ccf3f85",
   "metadata": {
    "papermill": {
     "duration": 0.029266,
     "end_time": "2021-10-30T00:21:13.403461",
     "exception": false,
     "start_time": "2021-10-30T00:21:13.374195",
     "status": "completed"
    },
    "tags": []
   },
   "source": [
    "We reshape the data to flatten the image pixels into a set of features or co-variates:"
   ]
  },
  {
   "cell_type": "code",
   "execution_count": 14,
   "id": "5286a4a3",
   "metadata": {
    "execution": {
     "iopub.execute_input": "2021-10-30T00:21:13.465315Z",
     "iopub.status.busy": "2021-10-30T00:21:13.464716Z",
     "iopub.status.idle": "2021-10-30T00:21:13.478428Z",
     "shell.execute_reply": "2021-10-30T00:21:13.478876Z"
    },
    "papermill": {
     "duration": 0.046851,
     "end_time": "2021-10-30T00:21:13.479022",
     "exception": false,
     "start_time": "2021-10-30T00:21:13.432171",
     "status": "completed"
    },
    "tags": []
   },
   "outputs": [
    {
     "data": {
      "text/plain": [
       "((11982, 784), (1984, 784))"
      ]
     },
     "execution_count": 14,
     "metadata": {},
     "output_type": "execute_result"
    }
   ],
   "source": [
    "X_train = X_train.reshape(X_train.shape[0], -1)\n",
    "X_test = X_test.reshape(X_test.shape[0], -1)\n",
    "X_train.shape, X_test.shape"
   ]
  },
  {
   "cell_type": "code",
   "execution_count": 15,
   "id": "73c5f88a",
   "metadata": {
    "execution": {
     "iopub.execute_input": "2021-10-30T00:21:13.545031Z",
     "iopub.status.busy": "2021-10-30T00:21:13.544463Z",
     "iopub.status.idle": "2021-10-30T00:21:13.564137Z",
     "shell.execute_reply": "2021-10-30T00:21:13.563666Z"
    },
    "papermill": {
     "duration": 0.055542,
     "end_time": "2021-10-30T00:21:13.564251",
     "exception": false,
     "start_time": "2021-10-30T00:21:13.508709",
     "status": "completed"
    },
    "tags": []
   },
   "outputs": [],
   "source": [
    "#Impoting functions from 'Kudzu'\n",
    "from kudzu.model import Model\n",
    "from kudzu.train import Learner\n",
    "from kudzu.optim import GD\n",
    "from kudzu.data import Data, Sampler,Dataloader\n",
    "\n",
    "from kudzu.callbacks import AccCallback\n",
    "from kudzu.callbacks import ClfCallback\n",
    "\n",
    "from kudzu.loss import MSE\n",
    "\n",
    "from kudzu.layer import Sigmoid,Relu\n",
    "from kudzu.layer import Affine"
   ]
  },
  {
   "cell_type": "markdown",
   "id": "bc01172a",
   "metadata": {
    "papermill": {
     "duration": 0.029947,
     "end_time": "2021-10-30T00:21:13.623739",
     "exception": false,
     "start_time": "2021-10-30T00:21:13.593792",
     "status": "completed"
    },
    "tags": []
   },
   "source": [
    "### Let us create a `Config` class, to store important parameters. \n",
    "This class essentially plays the role of a dictionary."
   ]
  },
  {
   "cell_type": "code",
   "execution_count": 16,
   "id": "978281aa",
   "metadata": {
    "execution": {
     "iopub.execute_input": "2021-10-30T00:21:13.687459Z",
     "iopub.status.busy": "2021-10-30T00:21:13.686858Z",
     "iopub.status.idle": "2021-10-30T00:21:13.699768Z",
     "shell.execute_reply": "2021-10-30T00:21:13.699295Z"
    },
    "papermill": {
     "duration": 0.046238,
     "end_time": "2021-10-30T00:21:13.699898",
     "exception": false,
     "start_time": "2021-10-30T00:21:13.653660",
     "status": "completed"
    },
    "tags": []
   },
   "outputs": [],
   "source": [
    "class Config:\n",
    "    pass\n",
    "config = Config()\n",
    "config.lr = 0.001\n",
    "config.num_epochs = 250\n",
    "config.bs = 50"
   ]
  },
  {
   "cell_type": "markdown",
   "id": "1385fa59",
   "metadata": {
    "papermill": {
     "duration": 0.029351,
     "end_time": "2021-10-30T00:21:13.759137",
     "exception": false,
     "start_time": "2021-10-30T00:21:13.729786",
     "status": "completed"
    },
    "tags": []
   },
   "source": [
    "### Running Models with the Training data\n",
    "Details about the network layers:\n",
    "- A first affine layer has 784 inputs and does 100 affine transforms. These are followed by a Relu\n",
    "- A second affine layer has 100 inputs from the 100 activations of the past layer, and does 100 affine transforms. These are followed by a Relu\n",
    "- A third affine layer has 100 activations and does 2 affine transformations to create an embedding for visualization. There is no non-linearity here.\n",
    "- A final \"logistic regression\" which has an affine transform from 2 inputs to 1 output, which is squeezed through a sigmoid.\n"
   ]
  },
  {
   "cell_type": "code",
   "execution_count": 17,
   "id": "2b9c66db",
   "metadata": {
    "execution": {
     "iopub.execute_input": "2021-10-30T00:21:13.824614Z",
     "iopub.status.busy": "2021-10-30T00:21:13.823993Z",
     "iopub.status.idle": "2021-10-30T00:21:13.838434Z",
     "shell.execute_reply": "2021-10-30T00:21:13.838941Z"
    },
    "papermill": {
     "duration": 0.049751,
     "end_time": "2021-10-30T00:21:13.839075",
     "exception": false,
     "start_time": "2021-10-30T00:21:13.789324",
     "status": "completed"
    },
    "tags": []
   },
   "outputs": [],
   "source": [
    "data = Data(X_train, y_train.reshape(-1,1))\n",
    "sampler = Sampler(data, config.bs, shuffle=True)\n",
    "\n",
    "dl = Dataloader(data, sampler)\n",
    "\n",
    "opt = GD(config.lr)\n",
    "loss = MSE()"
   ]
  },
  {
   "cell_type": "code",
   "execution_count": 18,
   "id": "b275e4c2",
   "metadata": {
    "execution": {
     "iopub.execute_input": "2021-10-30T00:21:13.910393Z",
     "iopub.status.busy": "2021-10-30T00:21:13.909786Z",
     "iopub.status.idle": "2021-10-30T00:21:13.918322Z",
     "shell.execute_reply": "2021-10-30T00:21:13.917802Z"
    },
    "papermill": {
     "duration": 0.049328,
     "end_time": "2021-10-30T00:21:13.918445",
     "exception": false,
     "start_time": "2021-10-30T00:21:13.869117",
     "status": "completed"
    },
    "tags": []
   },
   "outputs": [],
   "source": [
    "training_data_x = X_train\n",
    "testing_data_x = X_test\n",
    "training_data_y = y_train.reshape(-1,1)\n",
    "testing_data_y = y_test.reshape(-1,1)"
   ]
  },
  {
   "cell_type": "code",
   "execution_count": 19,
   "id": "76951160",
   "metadata": {
    "execution": {
     "iopub.execute_input": "2021-10-30T00:21:13.982074Z",
     "iopub.status.busy": "2021-10-30T00:21:13.981476Z",
     "iopub.status.idle": "2021-10-30T00:21:13.998855Z",
     "shell.execute_reply": "2021-10-30T00:21:13.998357Z"
    },
    "papermill": {
     "duration": 0.050903,
     "end_time": "2021-10-30T00:21:13.998981",
     "exception": false,
     "start_time": "2021-10-30T00:21:13.948078",
     "status": "completed"
    },
    "tags": []
   },
   "outputs": [
    {
     "name": "stdout",
     "output_type": "stream",
     "text": [
      "xavier\n",
      "xavier\n",
      "xavier\n",
      "xavier\n",
      "xavier\n"
     ]
    }
   ],
   "source": [
    "layers = [Affine(\"first\", 784, 100), Relu(\"first\"), Affine(\"second\", 100, 100), Relu(\"second\"), Affine(\"third\", 100, 2), Affine(\"last\", 2, 1), Sigmoid(\"last\")]\n",
    "model_nn = Model(layers)\n",
    "model_lr = Model([Affine(\"logits\", 784, 1), Sigmoid(\"sigmoid\")])"
   ]
  },
  {
   "cell_type": "code",
   "execution_count": 20,
   "id": "6eede77a",
   "metadata": {
    "execution": {
     "iopub.execute_input": "2021-10-30T00:21:14.063877Z",
     "iopub.status.busy": "2021-10-30T00:21:14.063273Z",
     "iopub.status.idle": "2021-10-30T00:21:14.076878Z",
     "shell.execute_reply": "2021-10-30T00:21:14.076394Z"
    },
    "papermill": {
     "duration": 0.048012,
     "end_time": "2021-10-30T00:21:14.077003",
     "exception": false,
     "start_time": "2021-10-30T00:21:14.028991",
     "status": "completed"
    },
    "tags": []
   },
   "outputs": [],
   "source": [
    "nn_learner = Learner(loss, model_nn, opt, config.num_epochs)\n",
    "acc_nn = ClfCallback(nn_learner, config.bs, training_data_x , testing_data_x, training_data_y, testing_data_y)\n",
    "nn_learner.set_callbacks([acc_nn])"
   ]
  },
  {
   "cell_type": "code",
   "execution_count": 21,
   "id": "877b6cc7",
   "metadata": {
    "execution": {
     "iopub.execute_input": "2021-10-30T00:21:14.144071Z",
     "iopub.status.busy": "2021-10-30T00:21:14.143490Z",
     "iopub.status.idle": "2021-10-30T00:21:14.155181Z",
     "shell.execute_reply": "2021-10-30T00:21:14.154681Z"
    },
    "papermill": {
     "duration": 0.048178,
     "end_time": "2021-10-30T00:21:14.155294",
     "exception": false,
     "start_time": "2021-10-30T00:21:14.107116",
     "status": "completed"
    },
    "tags": []
   },
   "outputs": [],
   "source": [
    "lr_learner = Learner(loss, model_lr, opt, config.num_epochs)\n",
    "acc_lr = ClfCallback(lr_learner, config.bs, training_data_x , testing_data_x, training_data_y, testing_data_y)\n",
    "lr_learner.set_callbacks([acc_lr])"
   ]
  },
  {
   "cell_type": "code",
   "execution_count": 22,
   "id": "d9b133c3",
   "metadata": {
    "execution": {
     "iopub.execute_input": "2021-10-30T00:21:14.221647Z",
     "iopub.status.busy": "2021-10-30T00:21:14.221001Z",
     "iopub.status.idle": "2021-10-30T00:22:40.497113Z",
     "shell.execute_reply": "2021-10-30T00:22:40.498004Z"
    },
    "papermill": {
     "duration": 86.313074,
     "end_time": "2021-10-30T00:22:40.498174",
     "exception": false,
     "start_time": "2021-10-30T00:21:14.185100",
     "status": "completed"
    },
    "tags": []
   },
   "outputs": [
    {
     "name": "stdout",
     "output_type": "stream",
     "text": [
      "Epoch 0, Loss 0.2282\n",
      "Training Accuracy: 0.7529, Testing Accuracy: 0.7863\n",
      "\n"
     ]
    },
    {
     "name": "stdout",
     "output_type": "stream",
     "text": [
      "Epoch 10, Loss 0.0804\n",
      "Training Accuracy: 0.9205, Testing Accuracy: 0.9360\n",
      "\n"
     ]
    },
    {
     "name": "stdout",
     "output_type": "stream",
     "text": [
      "Epoch 20, Loss 0.053\n",
      "Training Accuracy: 0.9432, Testing Accuracy: 0.9551\n",
      "\n"
     ]
    },
    {
     "name": "stdout",
     "output_type": "stream",
     "text": [
      "Epoch 30, Loss 0.0428\n",
      "Training Accuracy: 0.9533, Testing Accuracy: 0.9652\n",
      "\n"
     ]
    },
    {
     "name": "stdout",
     "output_type": "stream",
     "text": [
      "Epoch 40, Loss 0.0374\n",
      "Training Accuracy: 0.9576, Testing Accuracy: 0.9677\n",
      "\n"
     ]
    },
    {
     "name": "stdout",
     "output_type": "stream",
     "text": [
      "Epoch 50, Loss 0.034\n",
      "Training Accuracy: 0.9610, Testing Accuracy: 0.9662\n",
      "\n"
     ]
    },
    {
     "name": "stdout",
     "output_type": "stream",
     "text": [
      "Epoch 60, Loss 0.0315\n",
      "Training Accuracy: 0.9625, Testing Accuracy: 0.9688\n",
      "\n"
     ]
    },
    {
     "name": "stdout",
     "output_type": "stream",
     "text": [
      "Epoch 70, Loss 0.0297\n",
      "Training Accuracy: 0.9651, Testing Accuracy: 0.9698\n",
      "\n"
     ]
    },
    {
     "name": "stdout",
     "output_type": "stream",
     "text": [
      "Epoch 80, Loss 0.0282\n",
      "Training Accuracy: 0.9672, Testing Accuracy: 0.9698\n",
      "\n"
     ]
    },
    {
     "name": "stdout",
     "output_type": "stream",
     "text": [
      "Epoch 90, Loss 0.027\n",
      "Training Accuracy: 0.9685, Testing Accuracy: 0.9693\n",
      "\n"
     ]
    },
    {
     "name": "stdout",
     "output_type": "stream",
     "text": [
      "Epoch 100, Loss 0.026\n",
      "Training Accuracy: 0.9698, Testing Accuracy: 0.9688\n",
      "\n"
     ]
    },
    {
     "name": "stdout",
     "output_type": "stream",
     "text": [
      "Epoch 110, Loss 0.0251\n",
      "Training Accuracy: 0.9713, Testing Accuracy: 0.9698\n",
      "\n"
     ]
    },
    {
     "name": "stdout",
     "output_type": "stream",
     "text": [
      "Epoch 120, Loss 0.0243\n",
      "Training Accuracy: 0.9729, Testing Accuracy: 0.9698\n",
      "\n"
     ]
    },
    {
     "name": "stdout",
     "output_type": "stream",
     "text": [
      "Epoch 130, Loss 0.0235\n",
      "Training Accuracy: 0.9736, Testing Accuracy: 0.9703\n",
      "\n"
     ]
    },
    {
     "name": "stdout",
     "output_type": "stream",
     "text": [
      "Epoch 140, Loss 0.0229\n",
      "Training Accuracy: 0.9744, Testing Accuracy: 0.9723\n",
      "\n"
     ]
    },
    {
     "name": "stdout",
     "output_type": "stream",
     "text": [
      "Epoch 150, Loss 0.0223\n",
      "Training Accuracy: 0.9750, Testing Accuracy: 0.9728\n",
      "\n"
     ]
    },
    {
     "name": "stdout",
     "output_type": "stream",
     "text": [
      "Epoch 160, Loss 0.0217\n",
      "Training Accuracy: 0.9758, Testing Accuracy: 0.9728\n",
      "\n"
     ]
    },
    {
     "name": "stdout",
     "output_type": "stream",
     "text": [
      "Epoch 170, Loss 0.0212\n",
      "Training Accuracy: 0.9761, Testing Accuracy: 0.9733\n",
      "\n"
     ]
    },
    {
     "name": "stdout",
     "output_type": "stream",
     "text": [
      "Epoch 180, Loss 0.0207\n",
      "Training Accuracy: 0.9770, Testing Accuracy: 0.9733\n",
      "\n"
     ]
    },
    {
     "name": "stdout",
     "output_type": "stream",
     "text": [
      "Epoch 190, Loss 0.0202\n",
      "Training Accuracy: 0.9777, Testing Accuracy: 0.9733\n",
      "\n"
     ]
    },
    {
     "name": "stdout",
     "output_type": "stream",
     "text": [
      "Epoch 200, Loss 0.0198\n",
      "Training Accuracy: 0.9781, Testing Accuracy: 0.9733\n",
      "\n"
     ]
    },
    {
     "name": "stdout",
     "output_type": "stream",
     "text": [
      "Epoch 210, Loss 0.0194\n",
      "Training Accuracy: 0.9786, Testing Accuracy: 0.9738\n",
      "\n"
     ]
    },
    {
     "name": "stdout",
     "output_type": "stream",
     "text": [
      "Epoch 220, Loss 0.019\n",
      "Training Accuracy: 0.9792, Testing Accuracy: 0.9743\n",
      "\n"
     ]
    },
    {
     "name": "stdout",
     "output_type": "stream",
     "text": [
      "Epoch 230, Loss 0.0186\n",
      "Training Accuracy: 0.9802, Testing Accuracy: 0.9743\n",
      "\n"
     ]
    },
    {
     "name": "stdout",
     "output_type": "stream",
     "text": [
      "Epoch 240, Loss 0.0182\n",
      "Training Accuracy: 0.9801, Testing Accuracy: 0.9743\n",
      "\n"
     ]
    },
    {
     "data": {
      "text/plain": [
       "0.03454666613139123"
      ]
     },
     "execution_count": 22,
     "metadata": {},
     "output_type": "execute_result"
    }
   ],
   "source": [
    "nn_learner.train_loop(dl)"
   ]
  },
  {
   "cell_type": "code",
   "execution_count": 23,
   "id": "e0163366",
   "metadata": {
    "execution": {
     "iopub.execute_input": "2021-10-30T00:22:40.590519Z",
     "iopub.status.busy": "2021-10-30T00:22:40.589906Z",
     "iopub.status.idle": "2021-10-30T00:22:55.795197Z",
     "shell.execute_reply": "2021-10-30T00:22:55.796070Z"
    },
    "papermill": {
     "duration": 15.258266,
     "end_time": "2021-10-30T00:22:55.796237",
     "exception": false,
     "start_time": "2021-10-30T00:22:40.537971",
     "status": "completed"
    },
    "tags": []
   },
   "outputs": [
    {
     "name": "stdout",
     "output_type": "stream",
     "text": [
      "Epoch 0, Loss 0.2743\n",
      "Training Accuracy: 0.5489, Testing Accuracy: 0.5645\n",
      "\n"
     ]
    },
    {
     "name": "stdout",
     "output_type": "stream",
     "text": [
      "Epoch 10, Loss 0.1042\n",
      "Training Accuracy: 0.9126, Testing Accuracy: 0.9204\n",
      "\n"
     ]
    },
    {
     "name": "stdout",
     "output_type": "stream",
     "text": [
      "Epoch 20, Loss 0.0795\n",
      "Training Accuracy: 0.9294, Testing Accuracy: 0.9400\n",
      "\n"
     ]
    },
    {
     "name": "stdout",
     "output_type": "stream",
     "text": [
      "Epoch 30, Loss 0.0685\n",
      "Training Accuracy: 0.9371, Testing Accuracy: 0.9481\n",
      "\n"
     ]
    },
    {
     "name": "stdout",
     "output_type": "stream",
     "text": [
      "Epoch 40, Loss 0.0619\n",
      "Training Accuracy: 0.9417, Testing Accuracy: 0.9521\n",
      "\n"
     ]
    },
    {
     "name": "stdout",
     "output_type": "stream",
     "text": [
      "Epoch 50, Loss 0.0574\n",
      "Training Accuracy: 0.9453, Testing Accuracy: 0.9541\n",
      "\n"
     ]
    },
    {
     "name": "stdout",
     "output_type": "stream",
     "text": [
      "Epoch 60, Loss 0.0541\n",
      "Training Accuracy: 0.9472, Testing Accuracy: 0.9556\n",
      "\n"
     ]
    },
    {
     "name": "stdout",
     "output_type": "stream",
     "text": [
      "Epoch 70, Loss 0.0516\n",
      "Training Accuracy: 0.9498, Testing Accuracy: 0.9561\n",
      "\n"
     ]
    },
    {
     "name": "stdout",
     "output_type": "stream",
     "text": [
      "Epoch 80, Loss 0.0495\n",
      "Training Accuracy: 0.9506, Testing Accuracy: 0.9587\n",
      "\n"
     ]
    },
    {
     "name": "stdout",
     "output_type": "stream",
     "text": [
      "Epoch 90, Loss 0.0479\n",
      "Training Accuracy: 0.9525, Testing Accuracy: 0.9597\n",
      "\n"
     ]
    },
    {
     "name": "stdout",
     "output_type": "stream",
     "text": [
      "Epoch 100, Loss 0.0464\n",
      "Training Accuracy: 0.9533, Testing Accuracy: 0.9607\n",
      "\n"
     ]
    },
    {
     "name": "stdout",
     "output_type": "stream",
     "text": [
      "Epoch 110, Loss 0.0452\n",
      "Training Accuracy: 0.9543, Testing Accuracy: 0.9607\n",
      "\n"
     ]
    },
    {
     "name": "stdout",
     "output_type": "stream",
     "text": [
      "Epoch 120, Loss 0.0441\n",
      "Training Accuracy: 0.9551, Testing Accuracy: 0.9617\n",
      "\n"
     ]
    },
    {
     "name": "stdout",
     "output_type": "stream",
     "text": [
      "Epoch 130, Loss 0.0432\n",
      "Training Accuracy: 0.9558, Testing Accuracy: 0.9622\n",
      "\n"
     ]
    },
    {
     "name": "stdout",
     "output_type": "stream",
     "text": [
      "Epoch 140, Loss 0.0424\n",
      "Training Accuracy: 0.9564, Testing Accuracy: 0.9627\n",
      "\n"
     ]
    },
    {
     "name": "stdout",
     "output_type": "stream",
     "text": [
      "Epoch 150, Loss 0.0416\n",
      "Training Accuracy: 0.9572, Testing Accuracy: 0.9632\n",
      "\n"
     ]
    },
    {
     "name": "stdout",
     "output_type": "stream",
     "text": [
      "Epoch 160, Loss 0.0409\n",
      "Training Accuracy: 0.9579, Testing Accuracy: 0.9637\n",
      "\n"
     ]
    },
    {
     "name": "stdout",
     "output_type": "stream",
     "text": [
      "Epoch 170, Loss 0.0403\n",
      "Training Accuracy: 0.9582, Testing Accuracy: 0.9642\n",
      "\n"
     ]
    },
    {
     "name": "stdout",
     "output_type": "stream",
     "text": [
      "Epoch 180, Loss 0.0398\n",
      "Training Accuracy: 0.9589, Testing Accuracy: 0.9642\n",
      "\n"
     ]
    },
    {
     "name": "stdout",
     "output_type": "stream",
     "text": [
      "Epoch 190, Loss 0.0392\n",
      "Training Accuracy: 0.9589, Testing Accuracy: 0.9652\n",
      "\n"
     ]
    },
    {
     "name": "stdout",
     "output_type": "stream",
     "text": [
      "Epoch 200, Loss 0.0388\n",
      "Training Accuracy: 0.9596, Testing Accuracy: 0.9662\n",
      "\n"
     ]
    },
    {
     "name": "stdout",
     "output_type": "stream",
     "text": [
      "Epoch 210, Loss 0.0383\n",
      "Training Accuracy: 0.9596, Testing Accuracy: 0.9672\n",
      "\n"
     ]
    },
    {
     "name": "stdout",
     "output_type": "stream",
     "text": [
      "Epoch 220, Loss 0.0379\n",
      "Training Accuracy: 0.9599, Testing Accuracy: 0.9677\n",
      "\n"
     ]
    },
    {
     "name": "stdout",
     "output_type": "stream",
     "text": [
      "Epoch 230, Loss 0.0375\n",
      "Training Accuracy: 0.9603, Testing Accuracy: 0.9682\n",
      "\n"
     ]
    },
    {
     "name": "stdout",
     "output_type": "stream",
     "text": [
      "Epoch 240, Loss 0.0371\n",
      "Training Accuracy: 0.9607, Testing Accuracy: 0.9688\n",
      "\n"
     ]
    },
    {
     "data": {
      "text/plain": [
       "0.04084739494786762"
      ]
     },
     "execution_count": 23,
     "metadata": {},
     "output_type": "execute_result"
    }
   ],
   "source": [
    "lr_learner.train_loop(dl)"
   ]
  },
  {
   "cell_type": "code",
   "execution_count": 24,
   "id": "ca410940",
   "metadata": {
    "execution": {
     "iopub.execute_input": "2021-10-30T00:22:55.899517Z",
     "iopub.status.busy": "2021-10-30T00:22:55.898882Z",
     "iopub.status.idle": "2021-10-30T00:22:56.139922Z",
     "shell.execute_reply": "2021-10-30T00:22:56.140521Z"
    },
    "papermill": {
     "duration": 0.297787,
     "end_time": "2021-10-30T00:22:56.140709",
     "exception": false,
     "start_time": "2021-10-30T00:22:55.842922",
     "status": "completed"
    },
    "tags": []
   },
   "outputs": [
    {
     "data": {
      "text/plain": [
       "<matplotlib.legend.Legend at 0x7f03313f4710>"
      ]
     },
     "execution_count": 24,
     "metadata": {},
     "output_type": "execute_result"
    },
    {
     "data": {
      "image/png": "[encoded data removed]",
      "text/plain": [
       "<Figure size 1080x720 with 1 Axes>"
      ]
     },
     "metadata": {
      "needs_background": "light"
     },
     "output_type": "display_data"
    }
   ],
   "source": [
    "#comparing the results of NN and LR\n",
    "plt.figure(figsize=(15,10))\n",
    "\n",
    "# Neural Network plots\n",
    "plt.plot(acc_nn.accuracies, 'r-', label = \"Training Accuracies - NN\")\n",
    "plt.plot(acc_nn.test_accuracies, 'g-', label = \"Testing Accuracies - NN\")\n",
    "\n",
    "# Logistic Regression plots\n",
    "plt.plot(acc_lr.accuracies, 'k-', label = \"Training Accuracies - LR\")\n",
    "plt.plot(acc_lr.test_accuracies, 'b-', label = \"Testing Accuracies - LR\")\n",
    "plt.legend()"
   ]
  },
  {
   "cell_type": "markdown",
   "id": "80dfb35c",
   "metadata": {
    "papermill": {
     "duration": 0.045699,
     "end_time": "2021-10-30T00:22:56.233404",
     "exception": false,
     "start_time": "2021-10-30T00:22:56.187705",
     "status": "completed"
    },
    "tags": []
   },
   "source": [
    "#### Plotting the outputs of this layer of the NN.\n"
   ]
  },
  {
   "cell_type": "code",
   "execution_count": 25,
   "id": "45eb2ff5",
   "metadata": {
    "execution": {
     "iopub.execute_input": "2021-10-30T00:22:56.331653Z",
     "iopub.status.busy": "2021-10-30T00:22:56.331035Z",
     "iopub.status.idle": "2021-10-30T00:22:56.353571Z",
     "shell.execute_reply": "2021-10-30T00:22:56.354044Z"
    },
    "papermill": {
     "duration": 0.075651,
     "end_time": "2021-10-30T00:22:56.354201",
     "exception": false,
     "start_time": "2021-10-30T00:22:56.278550",
     "status": "completed"
    },
    "tags": []
   },
   "outputs": [],
   "source": [
    "new_model = Model(layers[:-2])\n",
    "testing_plot = new_model(testing_data_x)"
   ]
  },
  {
   "cell_type": "code",
   "execution_count": 26,
   "id": "4c0a5485",
   "metadata": {
    "execution": {
     "iopub.execute_input": "2021-10-30T00:22:56.463740Z",
     "iopub.status.busy": "2021-10-30T00:22:56.463143Z",
     "iopub.status.idle": "2021-10-30T00:22:56.667788Z",
     "shell.execute_reply": "2021-10-30T00:22:56.667015Z"
    },
    "papermill": {
     "duration": 0.25814,
     "end_time": "2021-10-30T00:22:56.667921",
     "exception": false,
     "start_time": "2021-10-30T00:22:56.409781",
     "status": "completed"
    },
    "tags": []
   },
   "outputs": [
    {
     "data": {
      "text/plain": [
       "Text(0.5, 1.0, 'Outputs')"
      ]
     },
     "execution_count": 26,
     "metadata": {},
     "output_type": "execute_result"
    },
    {
     "data": {
      "image/png": "[encoded data removed]",
      "text/plain": [
       "<Figure size 576x504 with 1 Axes>"
      ]
     },
     "metadata": {
      "needs_background": "light"
     },
     "output_type": "display_data"
    }
   ],
   "source": [
    "# Plotting the scatter plot of points and color coding by class\n",
    "plt.figure(figsize=(8,7))\n",
    "plt.scatter(testing_plot[:,0], testing_plot[:,1], alpha = 0.1, c = y_test.ravel());\n",
    "plt.title('Outputs')"
   ]
  },
  {
   "cell_type": "markdown",
   "id": "a74fcf8f",
   "metadata": {
    "papermill": {
     "duration": 0.048022,
     "end_time": "2021-10-30T00:22:56.765105",
     "exception": false,
     "start_time": "2021-10-30T00:22:56.717083",
     "status": "completed"
    },
    "tags": []
   },
   "source": [
    "Probability contours"
   ]
  },
  {
   "cell_type": "code",
   "execution_count": 27,
   "id": "d0afc8e3",
   "metadata": {
    "execution": {
     "iopub.execute_input": "2021-10-30T00:22:56.874688Z",
     "iopub.status.busy": "2021-10-30T00:22:56.874059Z",
     "iopub.status.idle": "2021-10-30T00:22:56.878411Z",
     "shell.execute_reply": "2021-10-30T00:22:56.878886Z"
    },
    "papermill": {
     "duration": 0.066033,
     "end_time": "2021-10-30T00:22:56.879031",
     "exception": false,
     "start_time": "2021-10-30T00:22:56.812998",
     "status": "completed"
    },
    "tags": []
   },
   "outputs": [],
   "source": [
    "model_prob = Model(layers[-2:]) "
   ]
  },
  {
   "cell_type": "code",
   "execution_count": 28,
   "id": "9b96e238",
   "metadata": {
    "execution": {
     "iopub.execute_input": "2021-10-30T00:22:57.007028Z",
     "iopub.status.busy": "2021-10-30T00:22:57.006426Z",
     "iopub.status.idle": "2021-10-30T00:22:57.020850Z",
     "shell.execute_reply": "2021-10-30T00:22:57.021328Z"
    },
    "papermill": {
     "duration": 0.066332,
     "end_time": "2021-10-30T00:22:57.021482",
     "exception": false,
     "start_time": "2021-10-30T00:22:56.955150",
     "status": "completed"
    },
    "tags": []
   },
   "outputs": [],
   "source": [
    "#creating the x and y ranges according to the above generated plot.\n",
    "x_range = np.linspace(-4, 1, 100) \n",
    "y_range = np.linspace(-6, 6, 100) \n",
    "x_grid, y_grid = np.meshgrid(x_range, y_range) # x_grid and y_grig are of size 100 X 100\n",
    "\n",
    "# converting x_grid and y_grid to continuous arrays\n",
    "x_gridflat = np.ravel(x_grid)\n",
    "y_gridflat = np.ravel(y_grid)\n",
    "\n",
    "# The last layer of the current model takes two columns as input. Hence transpose of np.vstack() is required.\n",
    "X = np.vstack((x_gridflat, y_gridflat)).T\n",
    "\n",
    "prob_contour = model_prob(X).reshape(100,100) "
   ]
  },
  {
   "cell_type": "code",
   "execution_count": 29,
   "id": "da72499a",
   "metadata": {
    "execution": {
     "iopub.execute_input": "2021-10-30T00:22:57.130969Z",
     "iopub.status.busy": "2021-10-30T00:22:57.130377Z",
     "iopub.status.idle": "2021-10-30T00:22:57.390631Z",
     "shell.execute_reply": "2021-10-30T00:22:57.391106Z"
    },
    "papermill": {
     "duration": 0.321216,
     "end_time": "2021-10-30T00:22:57.391255",
     "exception": false,
     "start_time": "2021-10-30T00:22:57.070039",
     "status": "completed"
    },
    "tags": []
   },
   "outputs": [
    {
     "data": {
      "image/png": "[encoded data removed]",
      "text/plain": [
       "<Figure size 720x648 with 1 Axes>"
      ]
     },
     "metadata": {
      "needs_background": "light"
     },
     "output_type": "display_data"
    }
   ],
   "source": [
    "plt.figure(figsize=(10,9))\n",
    "plt.scatter(testing_plot[:,0], testing_plot[:,1], alpha = 0.1, c = y_test.ravel())\n",
    "contours = plt.contour(x_grid,y_grid,prob_contour)\n",
    "plt.title('Probability Contours')\n",
    "plt.clabel(contours, inline = True );"
   ]
  },
  {
   "cell_type": "code",
   "execution_count": null,
   "id": "e81b4ac7",
   "metadata": {
    "papermill": {
     "duration": 0.052528,
     "end_time": "2021-10-30T00:22:57.495746",
     "exception": false,
     "start_time": "2021-10-30T00:22:57.443218",
     "status": "completed"
    },
    "tags": []
   },
   "outputs": [],
   "source": []
  }
 ],
 "metadata": {
  "kernelspec": {
   "display_name": "Python 3",
   "language": "python",
   "name": "python3"
  },
  "language_info": {
   "codemirror_mode": {
    "name": "ipython",
    "version": 3
   },
   "file_extension": ".py",
   "mimetype": "text/x-python",
   "name": "python",
   "nbconvert_exporter": "python",
   "pygments_lexer": "ipython3",
   "version": "3.6.15"
  },
  "papermill": {
   "default_parameters": {},
   "duration": 110.668317,
   "end_time": "2021-10-30T00:22:57.960050",
   "environment_variables": {},
   "exception": null,
   "input_path": "2020-08-11-part2.ipynb",
   "output_path": "2020-08-11-part2.ipynb",
   "parameters": {},
   "start_time": "2021-10-30T00:21:07.291733",
   "version": "2.3.3"
  }
 },
 "nbformat": 4,
 "nbformat_minor": 5
}