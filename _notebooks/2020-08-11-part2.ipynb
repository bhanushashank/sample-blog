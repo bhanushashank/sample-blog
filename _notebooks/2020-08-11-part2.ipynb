{
 "cells": [
  {
   "cell_type": "markdown",
   "id": "98380cd3",
   "metadata": {
    "papermill": {
     "duration": 0.031709,
     "end_time": "2021-12-13T10:08:19.893658",
     "exception": false,
     "start_time": "2021-12-13T10:08:19.861949",
     "status": "completed"
    },
    "tags": []
   },
   "source": [
    "# Distinguish Your Own Digits (DYOD)"
   ]
  },
  {
   "cell_type": "markdown",
   "id": "ef31240d",
   "metadata": {
    "papermill": {
     "duration": 0.029665,
     "end_time": "2021-12-13T10:08:19.953835",
     "exception": false,
     "start_time": "2021-12-13T10:08:19.924170",
     "status": "completed"
    },
    "tags": []
   },
   "source": [
    "You are going to write a classifier that distinguishes between the number 3 and number 8."
   ]
  },
  {
   "cell_type": "code",
   "execution_count": 1,
   "id": "b15c8646",
   "metadata": {
    "execution": {
     "iopub.execute_input": "2021-12-13T10:08:20.028400Z",
     "iopub.status.busy": "2021-12-13T10:08:20.027594Z",
     "iopub.status.idle": "2021-12-13T10:08:20.040219Z",
     "shell.execute_reply": "2021-12-13T10:08:20.039704Z"
    },
    "papermill": {
     "duration": 0.056884,
     "end_time": "2021-12-13T10:08:20.040376",
     "exception": false,
     "start_time": "2021-12-13T10:08:19.983492",
     "status": "completed"
    },
    "tags": []
   },
   "outputs": [],
   "source": [
    "%load_ext autoreload\n",
    "%autoreload 2"
   ]
  },
  {
   "cell_type": "code",
   "execution_count": 2,
   "id": "22ef38dc",
   "metadata": {
    "execution": {
     "iopub.execute_input": "2021-12-13T10:08:20.111241Z",
     "iopub.status.busy": "2021-12-13T10:08:20.110541Z",
     "iopub.status.idle": "2021-12-13T10:08:20.791194Z",
     "shell.execute_reply": "2021-12-13T10:08:20.790654Z"
    },
    "papermill": {
     "duration": 0.714468,
     "end_time": "2021-12-13T10:08:20.791337",
     "exception": false,
     "start_time": "2021-12-13T10:08:20.076869",
     "status": "completed"
    },
    "tags": []
   },
   "outputs": [],
   "source": [
    "%matplotlib inline\n",
    "import numpy as np\n",
    "import matplotlib.pyplot as plt\n",
    "import pandas as pd"
   ]
  },
  {
   "cell_type": "markdown",
   "id": "ba036198",
   "metadata": {
    "papermill": {
     "duration": 0.03084,
     "end_time": "2021-12-13T10:08:20.855002",
     "exception": false,
     "start_time": "2021-12-13T10:08:20.824162",
     "status": "completed"
    },
    "tags": []
   },
   "source": [
    "From the command line run `pip install mnist`. This is a library that will help you bring down the mnist dataset. If you run this from a notebook, you need to put  `!pip install mnist` in a cell by itself."
   ]
  },
  {
   "cell_type": "code",
   "execution_count": 3,
   "id": "bb6ad8a1",
   "metadata": {
    "execution": {
     "iopub.execute_input": "2021-12-13T10:08:20.929534Z",
     "iopub.status.busy": "2021-12-13T10:08:20.927923Z",
     "iopub.status.idle": "2021-12-13T10:08:23.670490Z",
     "shell.execute_reply": "2021-12-13T10:08:23.670987Z"
    },
    "papermill": {
     "duration": 2.784747,
     "end_time": "2021-12-13T10:08:23.671158",
     "exception": false,
     "start_time": "2021-12-13T10:08:20.886411",
     "status": "completed"
    },
    "tags": []
   },
   "outputs": [
    {
     "name": "stdout",
     "output_type": "stream",
     "text": [
      "Collecting mnist\r\n"
     ]
    },
    {
     "name": "stdout",
     "output_type": "stream",
     "text": [
      "  Downloading mnist-0.2.2-py2.py3-none-any.whl (3.5 kB)\r\n",
      "Requirement already satisfied: numpy in /opt/hostedtoolcache/Python/3.6.15/x64/lib/python3.6/site-packages (from mnist) (1.19.5)\r\n"
     ]
    },
    {
     "name": "stdout",
     "output_type": "stream",
     "text": [
      "Installing collected packages: mnist\r\n",
      "Successfully installed mnist-0.2.2\r\n"
     ]
    }
   ],
   "source": [
    "!pip install mnist"
   ]
  },
  {
   "cell_type": "markdown",
   "id": "69df9c9a",
   "metadata": {
    "papermill": {
     "duration": 0.028015,
     "end_time": "2021-12-13T10:08:23.727216",
     "exception": false,
     "start_time": "2021-12-13T10:08:23.699201",
     "status": "completed"
    },
    "tags": []
   },
   "source": [
    "## Preparing the Data"
   ]
  },
  {
   "cell_type": "code",
   "execution_count": 4,
   "id": "7f69d806",
   "metadata": {
    "execution": {
     "iopub.execute_input": "2021-12-13T10:08:23.787888Z",
     "iopub.status.busy": "2021-12-13T10:08:23.787280Z",
     "iopub.status.idle": "2021-12-13T10:08:23.803739Z",
     "shell.execute_reply": "2021-12-13T10:08:23.803074Z"
    },
    "papermill": {
     "duration": 0.048693,
     "end_time": "2021-12-13T10:08:23.803872",
     "exception": false,
     "start_time": "2021-12-13T10:08:23.755179",
     "status": "completed"
    },
    "tags": []
   },
   "outputs": [],
   "source": [
    "import mnist"
   ]
  },
  {
   "cell_type": "code",
   "execution_count": 5,
   "id": "a411e44f",
   "metadata": {
    "execution": {
     "iopub.execute_input": "2021-12-13T10:08:23.871902Z",
     "iopub.status.busy": "2021-12-13T10:08:23.870994Z",
     "iopub.status.idle": "2021-12-13T10:08:24.430218Z",
     "shell.execute_reply": "2021-12-13T10:08:24.429510Z"
    },
    "papermill": {
     "duration": 0.595209,
     "end_time": "2021-12-13T10:08:24.430368",
     "exception": false,
     "start_time": "2021-12-13T10:08:23.835159",
     "status": "completed"
    },
    "tags": []
   },
   "outputs": [],
   "source": [
    "train_images = mnist.train_images()\n",
    "train_labels = mnist.train_labels()"
   ]
  },
  {
   "cell_type": "code",
   "execution_count": 6,
   "id": "dceab3a5",
   "metadata": {
    "execution": {
     "iopub.execute_input": "2021-12-13T10:08:24.503472Z",
     "iopub.status.busy": "2021-12-13T10:08:24.502671Z",
     "iopub.status.idle": "2021-12-13T10:08:24.521541Z",
     "shell.execute_reply": "2021-12-13T10:08:24.520845Z"
    },
    "papermill": {
     "duration": 0.056791,
     "end_time": "2021-12-13T10:08:24.521703",
     "exception": false,
     "start_time": "2021-12-13T10:08:24.464912",
     "status": "completed"
    },
    "tags": []
   },
   "outputs": [
    {
     "data": {
      "text/plain": [
       "((60000, 28, 28), (60000,))"
      ]
     },
     "execution_count": 6,
     "metadata": {},
     "output_type": "execute_result"
    }
   ],
   "source": [
    "train_images.shape, train_labels.shape"
   ]
  },
  {
   "cell_type": "code",
   "execution_count": 7,
   "id": "f50dc2bb",
   "metadata": {
    "execution": {
     "iopub.execute_input": "2021-12-13T10:08:24.590569Z",
     "iopub.status.busy": "2021-12-13T10:08:24.589953Z",
     "iopub.status.idle": "2021-12-13T10:08:24.710845Z",
     "shell.execute_reply": "2021-12-13T10:08:24.709961Z"
    },
    "papermill": {
     "duration": 0.155784,
     "end_time": "2021-12-13T10:08:24.711045",
     "exception": false,
     "start_time": "2021-12-13T10:08:24.555261",
     "status": "completed"
    },
    "tags": []
   },
   "outputs": [],
   "source": [
    "test_images = mnist.test_images()\n",
    "test_labels = mnist.test_labels()"
   ]
  },
  {
   "cell_type": "code",
   "execution_count": 8,
   "id": "fc38cf1b",
   "metadata": {
    "execution": {
     "iopub.execute_input": "2021-12-13T10:08:24.790620Z",
     "iopub.status.busy": "2021-12-13T10:08:24.789729Z",
     "iopub.status.idle": "2021-12-13T10:08:24.805680Z",
     "shell.execute_reply": "2021-12-13T10:08:24.805029Z"
    },
    "papermill": {
     "duration": 0.054097,
     "end_time": "2021-12-13T10:08:24.805816",
     "exception": false,
     "start_time": "2021-12-13T10:08:24.751719",
     "status": "completed"
    },
    "tags": []
   },
   "outputs": [
    {
     "data": {
      "text/plain": [
       "((10000, 28, 28), (10000,))"
      ]
     },
     "execution_count": 8,
     "metadata": {},
     "output_type": "execute_result"
    }
   ],
   "source": [
    "test_images.shape, test_labels.shape"
   ]
  },
  {
   "cell_type": "code",
   "execution_count": 9,
   "id": "f9ed8fe0",
   "metadata": {
    "execution": {
     "iopub.execute_input": "2021-12-13T10:08:24.878476Z",
     "iopub.status.busy": "2021-12-13T10:08:24.877872Z",
     "iopub.status.idle": "2021-12-13T10:08:25.046366Z",
     "shell.execute_reply": "2021-12-13T10:08:25.046857Z"
    },
    "papermill": {
     "duration": 0.206715,
     "end_time": "2021-12-13T10:08:25.047015",
     "exception": false,
     "start_time": "2021-12-13T10:08:24.840300",
     "status": "completed"
    },
    "tags": []
   },
   "outputs": [
    {
     "name": "stdout",
     "output_type": "stream",
     "text": [
      "2\n"
     ]
    },
    {
     "data": {
      "text/plain": [
       "<matplotlib.image.AxesImage at 0x7f8264cf2e48>"
      ]
     },
     "execution_count": 9,
     "metadata": {},
     "output_type": "execute_result"
    },
    {
     "data": {
      "image/png": "[encoded data removed]",
      "text/plain": [
       "<Figure size 432x288 with 1 Axes>"
      ]
     },
     "metadata": {
      "needs_background": "light"
     },
     "output_type": "display_data"
    }
   ],
   "source": [
    "image_index = 7776 # You may select anything up to 60,000\n",
    "print(train_labels[image_index]) \n",
    "plt.imshow(train_images[image_index], cmap='Greys')"
   ]
  },
  {
   "cell_type": "markdown",
   "id": "a8d2388d",
   "metadata": {
    "papermill": {
     "duration": 0.029708,
     "end_time": "2021-12-13T10:08:25.106690",
     "exception": false,
     "start_time": "2021-12-13T10:08:25.076982",
     "status": "completed"
    },
    "tags": []
   },
   "source": [
    "## Filter data to get 3 and 8 out"
   ]
  },
  {
   "cell_type": "code",
   "execution_count": 10,
   "id": "776f7fc7",
   "metadata": {
    "execution": {
     "iopub.execute_input": "2021-12-13T10:08:25.174713Z",
     "iopub.status.busy": "2021-12-13T10:08:25.170548Z",
     "iopub.status.idle": "2021-12-13T10:08:25.191934Z",
     "shell.execute_reply": "2021-12-13T10:08:25.191409Z"
    },
    "papermill": {
     "duration": 0.055472,
     "end_time": "2021-12-13T10:08:25.192078",
     "exception": false,
     "start_time": "2021-12-13T10:08:25.136606",
     "status": "completed"
    },
    "tags": []
   },
   "outputs": [],
   "source": [
    "train_filter = np.where((train_labels == 3 ) | (train_labels == 8))\n",
    "test_filter = np.where((test_labels == 3) | (test_labels == 8))\n",
    "X_train, y_train = train_images[train_filter], train_labels[train_filter]\n",
    "X_test, y_test = test_images[test_filter], test_labels[test_filter]"
   ]
  },
  {
   "cell_type": "markdown",
   "id": "948f0b7e",
   "metadata": {
    "papermill": {
     "duration": 0.029731,
     "end_time": "2021-12-13T10:08:25.251851",
     "exception": false,
     "start_time": "2021-12-13T10:08:25.222120",
     "status": "completed"
    },
    "tags": []
   },
   "source": [
    "We normalize the pizel values in the 0 to 1 range"
   ]
  },
  {
   "cell_type": "code",
   "execution_count": 11,
   "id": "ee4c2166",
   "metadata": {
    "execution": {
     "iopub.execute_input": "2021-12-13T10:08:25.320598Z",
     "iopub.status.busy": "2021-12-13T10:08:25.316966Z",
     "iopub.status.idle": "2021-12-13T10:08:25.371984Z",
     "shell.execute_reply": "2021-12-13T10:08:25.371441Z"
    },
    "papermill": {
     "duration": 0.0904,
     "end_time": "2021-12-13T10:08:25.372132",
     "exception": false,
     "start_time": "2021-12-13T10:08:25.281732",
     "status": "completed"
    },
    "tags": []
   },
   "outputs": [],
   "source": [
    "X_train = X_train/255.\n",
    "X_test = X_test/255."
   ]
  },
  {
   "cell_type": "markdown",
   "id": "ddcf4fab",
   "metadata": {
    "papermill": {
     "duration": 0.029831,
     "end_time": "2021-12-13T10:08:25.432273",
     "exception": false,
     "start_time": "2021-12-13T10:08:25.402442",
     "status": "completed"
    },
    "tags": []
   },
   "source": [
    "And setup the labels as 1 (when the digit is 3) and 0 (when the digit is 8)"
   ]
  },
  {
   "cell_type": "code",
   "execution_count": 12,
   "id": "7dc908f2",
   "metadata": {
    "execution": {
     "iopub.execute_input": "2021-12-13T10:08:25.495938Z",
     "iopub.status.busy": "2021-12-13T10:08:25.495331Z",
     "iopub.status.idle": "2021-12-13T10:08:25.509996Z",
     "shell.execute_reply": "2021-12-13T10:08:25.508861Z"
    },
    "papermill": {
     "duration": 0.048032,
     "end_time": "2021-12-13T10:08:25.510200",
     "exception": false,
     "start_time": "2021-12-13T10:08:25.462168",
     "status": "completed"
    },
    "tags": []
   },
   "outputs": [],
   "source": [
    "y_train = 1*(y_train==3)\n",
    "y_test = 1*(y_test==3)"
   ]
  },
  {
   "cell_type": "code",
   "execution_count": 13,
   "id": "01e4e969",
   "metadata": {
    "execution": {
     "iopub.execute_input": "2021-12-13T10:08:25.589515Z",
     "iopub.status.busy": "2021-12-13T10:08:25.588775Z",
     "iopub.status.idle": "2021-12-13T10:08:25.626644Z",
     "shell.execute_reply": "2021-12-13T10:08:25.625924Z"
    },
    "papermill": {
     "duration": 0.080505,
     "end_time": "2021-12-13T10:08:25.626783",
     "exception": false,
     "start_time": "2021-12-13T10:08:25.546278",
     "status": "completed"
    },
    "tags": []
   },
   "outputs": [
    {
     "data": {
      "text/plain": [
       "((11982, 28, 28), (1984, 28, 28))"
      ]
     },
     "execution_count": 13,
     "metadata": {},
     "output_type": "execute_result"
    }
   ],
   "source": [
    "X_train.shape, X_test.shape"
   ]
  },
  {
   "cell_type": "markdown",
   "id": "5ccf3f85",
   "metadata": {
    "papermill": {
     "duration": 0.034163,
     "end_time": "2021-12-13T10:08:25.700769",
     "exception": false,
     "start_time": "2021-12-13T10:08:25.666606",
     "status": "completed"
    },
    "tags": []
   },
   "source": [
    "We reshape the data to flatten the image pixels into a set of features or co-variates:"
   ]
  },
  {
   "cell_type": "code",
   "execution_count": 14,
   "id": "5286a4a3",
   "metadata": {
    "execution": {
     "iopub.execute_input": "2021-12-13T10:08:25.773082Z",
     "iopub.status.busy": "2021-12-13T10:08:25.771972Z",
     "iopub.status.idle": "2021-12-13T10:08:25.789862Z",
     "shell.execute_reply": "2021-12-13T10:08:25.789370Z"
    },
    "papermill": {
     "duration": 0.054701,
     "end_time": "2021-12-13T10:08:25.790007",
     "exception": false,
     "start_time": "2021-12-13T10:08:25.735306",
     "status": "completed"
    },
    "tags": []
   },
   "outputs": [
    {
     "data": {
      "text/plain": [
       "((11982, 784), (1984, 784))"
      ]
     },
     "execution_count": 14,
     "metadata": {},
     "output_type": "execute_result"
    }
   ],
   "source": [
    "X_train = X_train.reshape(X_train.shape[0], -1)\n",
    "X_test = X_test.reshape(X_test.shape[0], -1)\n",
    "X_train.shape, X_test.shape"
   ]
  },
  {
   "cell_type": "code",
   "execution_count": 15,
   "id": "73c5f88a",
   "metadata": {
    "execution": {
     "iopub.execute_input": "2021-12-13T10:08:25.855743Z",
     "iopub.status.busy": "2021-12-13T10:08:25.855130Z",
     "iopub.status.idle": "2021-12-13T10:08:25.876567Z",
     "shell.execute_reply": "2021-12-13T10:08:25.876042Z"
    },
    "papermill": {
     "duration": 0.05611,
     "end_time": "2021-12-13T10:08:25.876708",
     "exception": false,
     "start_time": "2021-12-13T10:08:25.820598",
     "status": "completed"
    },
    "tags": []
   },
   "outputs": [],
   "source": [
    "#Impoting functions from 'Kudzu'\n",
    "from kudzu.model import Model\n",
    "from kudzu.train import Learner\n",
    "from kudzu.optim import GD\n",
    "from kudzu.data import Data, Sampler,Dataloader\n",
    "\n",
    "from kudzu.callbacks import AccCallback\n",
    "from kudzu.callbacks import ClfCallback\n",
    "\n",
    "from kudzu.loss import MSE\n",
    "\n",
    "from kudzu.layer import Sigmoid,Relu\n",
    "from kudzu.layer import Affine"
   ]
  },
  {
   "cell_type": "markdown",
   "id": "bc01172a",
   "metadata": {
    "papermill": {
     "duration": 0.031505,
     "end_time": "2021-12-13T10:08:25.938748",
     "exception": false,
     "start_time": "2021-12-13T10:08:25.907243",
     "status": "completed"
    },
    "tags": []
   },
   "source": [
    "### Let us create a `Config` class, to store important parameters. \n",
    "This class essentially plays the role of a dictionary."
   ]
  },
  {
   "cell_type": "code",
   "execution_count": 16,
   "id": "978281aa",
   "metadata": {
    "execution": {
     "iopub.execute_input": "2021-12-13T10:08:26.003945Z",
     "iopub.status.busy": "2021-12-13T10:08:26.003305Z",
     "iopub.status.idle": "2021-12-13T10:08:26.018736Z",
     "shell.execute_reply": "2021-12-13T10:08:26.018214Z"
    },
    "papermill": {
     "duration": 0.049659,
     "end_time": "2021-12-13T10:08:26.018868",
     "exception": false,
     "start_time": "2021-12-13T10:08:25.969209",
     "status": "completed"
    },
    "tags": []
   },
   "outputs": [],
   "source": [
    "class Config:\n",
    "    pass\n",
    "config = Config()\n",
    "config.lr = 0.001\n",
    "config.num_epochs = 250\n",
    "config.bs = 50"
   ]
  },
  {
   "cell_type": "markdown",
   "id": "1385fa59",
   "metadata": {
    "papermill": {
     "duration": 0.030309,
     "end_time": "2021-12-13T10:08:26.079690",
     "exception": false,
     "start_time": "2021-12-13T10:08:26.049381",
     "status": "completed"
    },
    "tags": []
   },
   "source": [
    "### Running Models with the Training data\n",
    "Details about the network layers:\n",
    "- A first affine layer has 784 inputs and does 100 affine transforms. These are followed by a Relu\n",
    "- A second affine layer has 100 inputs from the 100 activations of the past layer, and does 100 affine transforms. These are followed by a Relu\n",
    "- A third affine layer has 100 activations and does 2 affine transformations to create an embedding for visualization. There is no non-linearity here.\n",
    "- A final \"logistic regression\" which has an affine transform from 2 inputs to 1 output, which is squeezed through a sigmoid.\n"
   ]
  },
  {
   "cell_type": "code",
   "execution_count": 17,
   "id": "2b9c66db",
   "metadata": {
    "execution": {
     "iopub.execute_input": "2021-12-13T10:08:26.145019Z",
     "iopub.status.busy": "2021-12-13T10:08:26.144393Z",
     "iopub.status.idle": "2021-12-13T10:08:26.157807Z",
     "shell.execute_reply": "2021-12-13T10:08:26.158311Z"
    },
    "papermill": {
     "duration": 0.0485,
     "end_time": "2021-12-13T10:08:26.158477",
     "exception": false,
     "start_time": "2021-12-13T10:08:26.109977",
     "status": "completed"
    },
    "tags": []
   },
   "outputs": [],
   "source": [
    "data = Data(X_train, y_train.reshape(-1,1))\n",
    "sampler = Sampler(data, config.bs, shuffle=True)\n",
    "\n",
    "dl = Dataloader(data, sampler)\n",
    "\n",
    "opt = GD(config.lr)\n",
    "loss = MSE()"
   ]
  },
  {
   "cell_type": "code",
   "execution_count": 18,
   "id": "b275e4c2",
   "metadata": {
    "execution": {
     "iopub.execute_input": "2021-12-13T10:08:26.224256Z",
     "iopub.status.busy": "2021-12-13T10:08:26.223625Z",
     "iopub.status.idle": "2021-12-13T10:08:26.236855Z",
     "shell.execute_reply": "2021-12-13T10:08:26.236329Z"
    },
    "papermill": {
     "duration": 0.047807,
     "end_time": "2021-12-13T10:08:26.236989",
     "exception": false,
     "start_time": "2021-12-13T10:08:26.189182",
     "status": "completed"
    },
    "tags": []
   },
   "outputs": [],
   "source": [
    "training_data_x = X_train\n",
    "testing_data_x = X_test\n",
    "training_data_y = y_train.reshape(-1,1)\n",
    "testing_data_y = y_test.reshape(-1,1)"
   ]
  },
  {
   "cell_type": "code",
   "execution_count": 19,
   "id": "76951160",
   "metadata": {
    "execution": {
     "iopub.execute_input": "2021-12-13T10:08:26.303788Z",
     "iopub.status.busy": "2021-12-13T10:08:26.303170Z",
     "iopub.status.idle": "2021-12-13T10:08:26.322673Z",
     "shell.execute_reply": "2021-12-13T10:08:26.323252Z"
    },
    "papermill": {
     "duration": 0.055972,
     "end_time": "2021-12-13T10:08:26.323409",
     "exception": false,
     "start_time": "2021-12-13T10:08:26.267437",
     "status": "completed"
    },
    "tags": []
   },
   "outputs": [
    {
     "name": "stdout",
     "output_type": "stream",
     "text": [
      "xavier\n",
      "xavier\n",
      "xavier\n",
      "xavier\n",
      "xavier\n"
     ]
    }
   ],
   "source": [
    "layers = [Affine(\"first\", 784, 100), Relu(\"first\"), Affine(\"second\", 100, 100), Relu(\"second\"), Affine(\"third\", 100, 2), Affine(\"last\", 2, 1), Sigmoid(\"last\")]\n",
    "model_nn = Model(layers)\n",
    "model_lr = Model([Affine(\"logits\", 784, 1), Sigmoid(\"sigmoid\")])"
   ]
  },
  {
   "cell_type": "code",
   "execution_count": 20,
   "id": "6eede77a",
   "metadata": {
    "execution": {
     "iopub.execute_input": "2021-12-13T10:08:26.390385Z",
     "iopub.status.busy": "2021-12-13T10:08:26.389771Z",
     "iopub.status.idle": "2021-12-13T10:08:26.409457Z",
     "shell.execute_reply": "2021-12-13T10:08:26.409962Z"
    },
    "papermill": {
     "duration": 0.055827,
     "end_time": "2021-12-13T10:08:26.410122",
     "exception": false,
     "start_time": "2021-12-13T10:08:26.354295",
     "status": "completed"
    },
    "tags": []
   },
   "outputs": [],
   "source": [
    "nn_learner = Learner(loss, model_nn, opt, config.num_epochs)\n",
    "acc_nn = ClfCallback(nn_learner, config.bs, training_data_x , testing_data_x, training_data_y, testing_data_y)\n",
    "nn_learner.set_callbacks([acc_nn])"
   ]
  },
  {
   "cell_type": "code",
   "execution_count": 21,
   "id": "877b6cc7",
   "metadata": {
    "execution": {
     "iopub.execute_input": "2021-12-13T10:08:26.478260Z",
     "iopub.status.busy": "2021-12-13T10:08:26.477651Z",
     "iopub.status.idle": "2021-12-13T10:08:26.497615Z",
     "shell.execute_reply": "2021-12-13T10:08:26.497000Z"
    },
    "papermill": {
     "duration": 0.056733,
     "end_time": "2021-12-13T10:08:26.497775",
     "exception": false,
     "start_time": "2021-12-13T10:08:26.441042",
     "status": "completed"
    },
    "tags": []
   },
   "outputs": [],
   "source": [
    "lr_learner = Learner(loss, model_lr, opt, config.num_epochs)\n",
    "acc_lr = ClfCallback(lr_learner, config.bs, training_data_x , testing_data_x, training_data_y, testing_data_y)\n",
    "lr_learner.set_callbacks([acc_lr])"
   ]
  },
  {
   "cell_type": "code",
   "execution_count": 22,
   "id": "d9b133c3",
   "metadata": {
    "execution": {
     "iopub.execute_input": "2021-12-13T10:08:26.576987Z",
     "iopub.status.busy": "2021-12-13T10:08:26.576386Z",
     "iopub.status.idle": "2021-12-13T10:10:05.995008Z",
     "shell.execute_reply": "2021-12-13T10:10:05.995871Z"
    },
    "papermill": {
     "duration": 99.461206,
     "end_time": "2021-12-13T10:10:05.996042",
     "exception": false,
     "start_time": "2021-12-13T10:08:26.534836",
     "status": "completed"
    },
    "tags": []
   },
   "outputs": [
    {
     "name": "stdout",
     "output_type": "stream",
     "text": [
      "Epoch 0, Loss 0.248\n",
      "Training Accuracy: 0.7591, Testing Accuracy: 0.7807\n",
      "\n"
     ]
    },
    {
     "name": "stdout",
     "output_type": "stream",
     "text": [
      "Epoch 10, Loss 0.0588\n",
      "Training Accuracy: 0.9378, Testing Accuracy: 0.9456\n",
      "\n"
     ]
    },
    {
     "name": "stdout",
     "output_type": "stream",
     "text": [
      "Epoch 20, Loss 0.0413\n",
      "Training Accuracy: 0.9545, Testing Accuracy: 0.9607\n",
      "\n"
     ]
    },
    {
     "name": "stdout",
     "output_type": "stream",
     "text": [
      "Epoch 30, Loss 0.0344\n",
      "Training Accuracy: 0.9616, Testing Accuracy: 0.9627\n",
      "\n"
     ]
    },
    {
     "name": "stdout",
     "output_type": "stream",
     "text": [
      "Epoch 40, Loss 0.0305\n",
      "Training Accuracy: 0.9664, Testing Accuracy: 0.9657\n",
      "\n"
     ]
    },
    {
     "name": "stdout",
     "output_type": "stream",
     "text": [
      "Epoch 50, Loss 0.028\n",
      "Training Accuracy: 0.9684, Testing Accuracy: 0.9682\n",
      "\n"
     ]
    },
    {
     "name": "stdout",
     "output_type": "stream",
     "text": [
      "Epoch 60, Loss 0.0261\n",
      "Training Accuracy: 0.9707, Testing Accuracy: 0.9688\n",
      "\n"
     ]
    },
    {
     "name": "stdout",
     "output_type": "stream",
     "text": [
      "Epoch 70, Loss 0.0247\n",
      "Training Accuracy: 0.9721, Testing Accuracy: 0.9682\n",
      "\n"
     ]
    },
    {
     "name": "stdout",
     "output_type": "stream",
     "text": [
      "Epoch 80, Loss 0.0235\n",
      "Training Accuracy: 0.9735, Testing Accuracy: 0.9693\n",
      "\n"
     ]
    },
    {
     "name": "stdout",
     "output_type": "stream",
     "text": [
      "Epoch 90, Loss 0.0225\n",
      "Training Accuracy: 0.9747, Testing Accuracy: 0.9703\n",
      "\n"
     ]
    },
    {
     "name": "stdout",
     "output_type": "stream",
     "text": [
      "Epoch 100, Loss 0.0216\n",
      "Training Accuracy: 0.9759, Testing Accuracy: 0.9708\n",
      "\n"
     ]
    },
    {
     "name": "stdout",
     "output_type": "stream",
     "text": [
      "Epoch 110, Loss 0.0209\n",
      "Training Accuracy: 0.9769, Testing Accuracy: 0.9718\n",
      "\n"
     ]
    },
    {
     "name": "stdout",
     "output_type": "stream",
     "text": [
      "Epoch 120, Loss 0.0202\n",
      "Training Accuracy: 0.9774, Testing Accuracy: 0.9718\n",
      "\n"
     ]
    },
    {
     "name": "stdout",
     "output_type": "stream",
     "text": [
      "Epoch 130, Loss 0.0196\n",
      "Training Accuracy: 0.9780, Testing Accuracy: 0.9738\n",
      "\n"
     ]
    },
    {
     "name": "stdout",
     "output_type": "stream",
     "text": [
      "Epoch 140, Loss 0.019\n",
      "Training Accuracy: 0.9791, Testing Accuracy: 0.9748\n",
      "\n"
     ]
    },
    {
     "name": "stdout",
     "output_type": "stream",
     "text": [
      "Epoch 150, Loss 0.0184\n",
      "Training Accuracy: 0.9798, Testing Accuracy: 0.9758\n",
      "\n"
     ]
    },
    {
     "name": "stdout",
     "output_type": "stream",
     "text": [
      "Epoch 160, Loss 0.0179\n",
      "Training Accuracy: 0.9804, Testing Accuracy: 0.9758\n",
      "\n"
     ]
    },
    {
     "name": "stdout",
     "output_type": "stream",
     "text": [
      "Epoch 170, Loss 0.0174\n",
      "Training Accuracy: 0.9810, Testing Accuracy: 0.9758\n",
      "\n"
     ]
    },
    {
     "name": "stdout",
     "output_type": "stream",
     "text": [
      "Epoch 180, Loss 0.017\n",
      "Training Accuracy: 0.9813, Testing Accuracy: 0.9753\n",
      "\n"
     ]
    },
    {
     "name": "stdout",
     "output_type": "stream",
     "text": [
      "Epoch 190, Loss 0.0165\n",
      "Training Accuracy: 0.9824, Testing Accuracy: 0.9748\n",
      "\n"
     ]
    },
    {
     "name": "stdout",
     "output_type": "stream",
     "text": [
      "Epoch 200, Loss 0.0161\n",
      "Training Accuracy: 0.9830, Testing Accuracy: 0.9763\n",
      "\n"
     ]
    },
    {
     "name": "stdout",
     "output_type": "stream",
     "text": [
      "Epoch 210, Loss 0.0157\n",
      "Training Accuracy: 0.9833, Testing Accuracy: 0.9763\n",
      "\n"
     ]
    },
    {
     "name": "stdout",
     "output_type": "stream",
     "text": [
      "Epoch 220, Loss 0.0153\n",
      "Training Accuracy: 0.9841, Testing Accuracy: 0.9763\n",
      "\n"
     ]
    },
    {
     "name": "stdout",
     "output_type": "stream",
     "text": [
      "Epoch 230, Loss 0.0149\n",
      "Training Accuracy: 0.9847, Testing Accuracy: 0.9773\n",
      "\n"
     ]
    },
    {
     "name": "stdout",
     "output_type": "stream",
     "text": [
      "Epoch 240, Loss 0.0145\n",
      "Training Accuracy: 0.9851, Testing Accuracy: 0.9768\n",
      "\n"
     ]
    },
    {
     "data": {
      "text/plain": [
       "0.061659814838603846"
      ]
     },
     "execution_count": 22,
     "metadata": {},
     "output_type": "execute_result"
    }
   ],
   "source": [
    "nn_learner.train_loop(dl)"
   ]
  },
  {
   "cell_type": "code",
   "execution_count": 23,
   "id": "e0163366",
   "metadata": {
    "execution": {
     "iopub.execute_input": "2021-12-13T10:10:06.086748Z",
     "iopub.status.busy": "2021-12-13T10:10:06.086135Z",
     "iopub.status.idle": "2021-12-13T10:10:23.634740Z",
     "shell.execute_reply": "2021-12-13T10:10:23.635630Z"
    },
    "papermill": {
     "duration": 17.601058,
     "end_time": "2021-12-13T10:10:23.635799",
     "exception": false,
     "start_time": "2021-12-13T10:10:06.034741",
     "status": "completed"
    },
    "tags": []
   },
   "outputs": [
    {
     "name": "stdout",
     "output_type": "stream",
     "text": [
      "Epoch 0, Loss 0.2389\n",
      "Training Accuracy: 0.7020, Testing Accuracy: 0.6870\n",
      "\n"
     ]
    },
    {
     "name": "stdout",
     "output_type": "stream",
     "text": [
      "Epoch 10, Loss 0.1024\n",
      "Training Accuracy: 0.9112, Testing Accuracy: 0.9289\n",
      "\n"
     ]
    },
    {
     "name": "stdout",
     "output_type": "stream",
     "text": [
      "Epoch 20, Loss 0.0788\n",
      "Training Accuracy: 0.9284, Testing Accuracy: 0.9446\n",
      "\n"
     ]
    },
    {
     "name": "stdout",
     "output_type": "stream",
     "text": [
      "Epoch 30, Loss 0.068\n",
      "Training Accuracy: 0.9361, Testing Accuracy: 0.9511\n",
      "\n"
     ]
    },
    {
     "name": "stdout",
     "output_type": "stream",
     "text": [
      "Epoch 40, Loss 0.0615\n",
      "Training Accuracy: 0.9407, Testing Accuracy: 0.9556\n",
      "\n"
     ]
    },
    {
     "name": "stdout",
     "output_type": "stream",
     "text": [
      "Epoch 50, Loss 0.057\n",
      "Training Accuracy: 0.9440, Testing Accuracy: 0.9567\n",
      "\n"
     ]
    },
    {
     "name": "stdout",
     "output_type": "stream",
     "text": [
      "Epoch 60, Loss 0.0537\n",
      "Training Accuracy: 0.9468, Testing Accuracy: 0.9572\n",
      "\n"
     ]
    },
    {
     "name": "stdout",
     "output_type": "stream",
     "text": [
      "Epoch 70, Loss 0.0512\n",
      "Training Accuracy: 0.9492, Testing Accuracy: 0.9582\n",
      "\n"
     ]
    },
    {
     "name": "stdout",
     "output_type": "stream",
     "text": [
      "Epoch 80, Loss 0.0492\n",
      "Training Accuracy: 0.9502, Testing Accuracy: 0.9587\n",
      "\n"
     ]
    },
    {
     "name": "stdout",
     "output_type": "stream",
     "text": [
      "Epoch 90, Loss 0.0475\n",
      "Training Accuracy: 0.9518, Testing Accuracy: 0.9597\n",
      "\n"
     ]
    },
    {
     "name": "stdout",
     "output_type": "stream",
     "text": [
      "Epoch 100, Loss 0.0461\n",
      "Training Accuracy: 0.9530, Testing Accuracy: 0.9607\n",
      "\n"
     ]
    },
    {
     "name": "stdout",
     "output_type": "stream",
     "text": [
      "Epoch 110, Loss 0.0448\n",
      "Training Accuracy: 0.9539, Testing Accuracy: 0.9617\n",
      "\n"
     ]
    },
    {
     "name": "stdout",
     "output_type": "stream",
     "text": [
      "Epoch 120, Loss 0.0438\n",
      "Training Accuracy: 0.9545, Testing Accuracy: 0.9637\n",
      "\n"
     ]
    },
    {
     "name": "stdout",
     "output_type": "stream",
     "text": [
      "Epoch 130, Loss 0.0429\n",
      "Training Accuracy: 0.9558, Testing Accuracy: 0.9642\n",
      "\n"
     ]
    },
    {
     "name": "stdout",
     "output_type": "stream",
     "text": [
      "Epoch 140, Loss 0.042\n",
      "Training Accuracy: 0.9570, Testing Accuracy: 0.9647\n",
      "\n"
     ]
    },
    {
     "name": "stdout",
     "output_type": "stream",
     "text": [
      "Epoch 150, Loss 0.0413\n",
      "Training Accuracy: 0.9575, Testing Accuracy: 0.9652\n",
      "\n"
     ]
    },
    {
     "name": "stdout",
     "output_type": "stream",
     "text": [
      "Epoch 160, Loss 0.0406\n",
      "Training Accuracy: 0.9579, Testing Accuracy: 0.9667\n",
      "\n"
     ]
    },
    {
     "name": "stdout",
     "output_type": "stream",
     "text": [
      "Epoch 170, Loss 0.04\n",
      "Training Accuracy: 0.9582, Testing Accuracy: 0.9672\n",
      "\n"
     ]
    },
    {
     "name": "stdout",
     "output_type": "stream",
     "text": [
      "Epoch 180, Loss 0.0394\n",
      "Training Accuracy: 0.9586, Testing Accuracy: 0.9672\n",
      "\n"
     ]
    },
    {
     "name": "stdout",
     "output_type": "stream",
     "text": [
      "Epoch 190, Loss 0.0389\n",
      "Training Accuracy: 0.9588, Testing Accuracy: 0.9672\n",
      "\n"
     ]
    },
    {
     "name": "stdout",
     "output_type": "stream",
     "text": [
      "Epoch 200, Loss 0.0384\n",
      "Training Accuracy: 0.9593, Testing Accuracy: 0.9672\n",
      "\n"
     ]
    },
    {
     "name": "stdout",
     "output_type": "stream",
     "text": [
      "Epoch 210, Loss 0.038\n",
      "Training Accuracy: 0.9595, Testing Accuracy: 0.9677\n",
      "\n"
     ]
    },
    {
     "name": "stdout",
     "output_type": "stream",
     "text": [
      "Epoch 220, Loss 0.0376\n",
      "Training Accuracy: 0.9599, Testing Accuracy: 0.9672\n",
      "\n"
     ]
    },
    {
     "name": "stdout",
     "output_type": "stream",
     "text": [
      "Epoch 230, Loss 0.0372\n",
      "Training Accuracy: 0.9603, Testing Accuracy: 0.9677\n",
      "\n"
     ]
    },
    {
     "name": "stdout",
     "output_type": "stream",
     "text": [
      "Epoch 240, Loss 0.0368\n",
      "Training Accuracy: 0.9604, Testing Accuracy: 0.9677\n",
      "\n"
     ]
    },
    {
     "data": {
      "text/plain": [
       "0.016118955594275314"
      ]
     },
     "execution_count": 23,
     "metadata": {},
     "output_type": "execute_result"
    }
   ],
   "source": [
    "lr_learner.train_loop(dl)"
   ]
  },
  {
   "cell_type": "code",
   "execution_count": 24,
   "id": "ca410940",
   "metadata": {
    "execution": {
     "iopub.execute_input": "2021-12-13T10:10:23.742777Z",
     "iopub.status.busy": "2021-12-13T10:10:23.742154Z",
     "iopub.status.idle": "2021-12-13T10:10:24.004589Z",
     "shell.execute_reply": "2021-12-13T10:10:24.004051Z"
    },
    "papermill": {
     "duration": 0.322432,
     "end_time": "2021-12-13T10:10:24.004723",
     "exception": false,
     "start_time": "2021-12-13T10:10:23.682291",
     "status": "completed"
    },
    "tags": []
   },
   "outputs": [
    {
     "data": {
      "text/plain": [
       "<matplotlib.legend.Legend at 0x7f82335bbbe0>"
      ]
     },
     "execution_count": 24,
     "metadata": {},
     "output_type": "execute_result"
    },
    {
     "data": {
      "image/png": "[encoded data removed]",
      "text/plain": [
       "<Figure size 1080x720 with 1 Axes>"
      ]
     },
     "metadata": {
      "needs_background": "light"
     },
     "output_type": "display_data"
    }
   ],
   "source": [
    "#comparing the results of NN and LR\n",
    "plt.figure(figsize=(15,10))\n",
    "\n",
    "# Neural Network plots\n",
    "plt.plot(acc_nn.accuracies, 'r-', label = \"Training Accuracies - NN\")\n",
    "plt.plot(acc_nn.test_accuracies, 'g-', label = \"Testing Accuracies - NN\")\n",
    "\n",
    "# Logistic Regression plots\n",
    "plt.plot(acc_lr.accuracies, 'k-', label = \"Training Accuracies - LR\")\n",
    "plt.plot(acc_lr.test_accuracies, 'b-', label = \"Testing Accuracies - LR\")\n",
    "plt.legend()"
   ]
  },
  {
   "cell_type": "markdown",
   "id": "80dfb35c",
   "metadata": {
    "papermill": {
     "duration": 0.047717,
     "end_time": "2021-12-13T10:10:24.100285",
     "exception": false,
     "start_time": "2021-12-13T10:10:24.052568",
     "status": "completed"
    },
    "tags": []
   },
   "source": [
    "#### Plotting the outputs of this layer of the NN.\n"
   ]
  },
  {
   "cell_type": "code",
   "execution_count": 25,
   "id": "45eb2ff5",
   "metadata": {
    "execution": {
     "iopub.execute_input": "2021-12-13T10:10:24.200118Z",
     "iopub.status.busy": "2021-12-13T10:10:24.199476Z",
     "iopub.status.idle": "2021-12-13T10:10:24.224210Z",
     "shell.execute_reply": "2021-12-13T10:10:24.224727Z"
    },
    "papermill": {
     "duration": 0.077076,
     "end_time": "2021-12-13T10:10:24.224890",
     "exception": false,
     "start_time": "2021-12-13T10:10:24.147814",
     "status": "completed"
    },
    "tags": []
   },
   "outputs": [],
   "source": [
    "new_model = Model(layers[:-2])\n",
    "testing_plot = new_model(testing_data_x)"
   ]
  },
  {
   "cell_type": "code",
   "execution_count": 26,
   "id": "4c0a5485",
   "metadata": {
    "execution": {
     "iopub.execute_input": "2021-12-13T10:10:24.332793Z",
     "iopub.status.busy": "2021-12-13T10:10:24.332179Z",
     "iopub.status.idle": "2021-12-13T10:10:24.542608Z",
     "shell.execute_reply": "2021-12-13T10:10:24.543340Z"
    },
    "papermill": {
     "duration": 0.269243,
     "end_time": "2021-12-13T10:10:24.543519",
     "exception": false,
     "start_time": "2021-12-13T10:10:24.274276",
     "status": "completed"
    },
    "tags": []
   },
   "outputs": [
    {
     "data": {
      "text/plain": [
       "Text(0.5, 1.0, 'Outputs')"
      ]
     },
     "execution_count": 26,
     "metadata": {},
     "output_type": "execute_result"
    },
    {
     "data": {
      "image/png": "[encoded data removed]",
      "text/plain": [
       "<Figure size 576x504 with 1 Axes>"
      ]
     },
     "metadata": {
      "needs_background": "light"
     },
     "output_type": "display_data"
    }
   ],
   "source": [
    "# Plotting the scatter plot of points and color coding by class\n",
    "plt.figure(figsize=(8,7))\n",
    "plt.scatter(testing_plot[:,0], testing_plot[:,1], alpha = 0.1, c = y_test.ravel());\n",
    "plt.title('Outputs')"
   ]
  },
  {
   "cell_type": "markdown",
   "id": "a74fcf8f",
   "metadata": {
    "papermill": {
     "duration": 0.062194,
     "end_time": "2021-12-13T10:10:24.663023",
     "exception": false,
     "start_time": "2021-12-13T10:10:24.600829",
     "status": "completed"
    },
    "tags": []
   },
   "source": [
    "Probability contours"
   ]
  },
  {
   "cell_type": "code",
   "execution_count": 27,
   "id": "d0afc8e3",
   "metadata": {
    "execution": {
     "iopub.execute_input": "2021-12-13T10:10:24.791989Z",
     "iopub.status.busy": "2021-12-13T10:10:24.791121Z",
     "iopub.status.idle": "2021-12-13T10:10:24.806588Z",
     "shell.execute_reply": "2021-12-13T10:10:24.805887Z"
    },
    "papermill": {
     "duration": 0.077394,
     "end_time": "2021-12-13T10:10:24.806735",
     "exception": false,
     "start_time": "2021-12-13T10:10:24.729341",
     "status": "completed"
    },
    "tags": []
   },
   "outputs": [],
   "source": [
    "model_prob = Model(layers[-2:]) "
   ]
  },
  {
   "cell_type": "code",
   "execution_count": 28,
   "id": "9b96e238",
   "metadata": {
    "execution": {
     "iopub.execute_input": "2021-12-13T10:10:24.925413Z",
     "iopub.status.busy": "2021-12-13T10:10:24.924595Z",
     "iopub.status.idle": "2021-12-13T10:10:24.942140Z",
     "shell.execute_reply": "2021-12-13T10:10:24.942943Z"
    },
    "papermill": {
     "duration": 0.080279,
     "end_time": "2021-12-13T10:10:24.943121",
     "exception": false,
     "start_time": "2021-12-13T10:10:24.862842",
     "status": "completed"
    },
    "tags": []
   },
   "outputs": [],
   "source": [
    "#creating the x and y ranges according to the above generated plot.\n",
    "x_range = np.linspace(-4, 1, 100) \n",
    "y_range = np.linspace(-6, 6, 100) \n",
    "x_grid, y_grid = np.meshgrid(x_range, y_range) # x_grid and y_grig are of size 100 X 100\n",
    "\n",
    "# converting x_grid and y_grid to continuous arrays\n",
    "x_gridflat = np.ravel(x_grid)\n",
    "y_gridflat = np.ravel(y_grid)\n",
    "\n",
    "# The last layer of the current model takes two columns as input. Hence transpose of np.vstack() is required.\n",
    "X = np.vstack((x_gridflat, y_gridflat)).T\n",
    "\n",
    "prob_contour = model_prob(X).reshape(100,100) "
   ]
  },
  {
   "cell_type": "code",
   "execution_count": 29,
   "id": "da72499a",
   "metadata": {
    "execution": {
     "iopub.execute_input": "2021-12-13T10:10:25.113555Z",
     "iopub.status.busy": "2021-12-13T10:10:25.111927Z",
     "iopub.status.idle": "2021-12-13T10:10:25.422930Z",
     "shell.execute_reply": "2021-12-13T10:10:25.422140Z"
    },
    "papermill": {
     "duration": 0.41722,
     "end_time": "2021-12-13T10:10:25.423179",
     "exception": false,
     "start_time": "2021-12-13T10:10:25.005959",
     "status": "completed"
    },
    "tags": []
   },
   "outputs": [
    {
     "data": {
      "image/png": "[encoded data removed]",
      "text/plain": [
       "<Figure size 720x648 with 1 Axes>"
      ]
     },
     "metadata": {
      "needs_background": "light"
     },
     "output_type": "display_data"
    }
   ],
   "source": [
    "plt.figure(figsize=(10,9))\n",
    "plt.scatter(testing_plot[:,0], testing_plot[:,1], alpha = 0.1, c = y_test.ravel())\n",
    "contours = plt.contour(x_grid,y_grid,prob_contour)\n",
    "plt.title('Probability Contours')\n",
    "plt.clabel(contours, inline = True );"
   ]
  },
  {
   "cell_type": "code",
   "execution_count": null,
   "id": "e81b4ac7",
   "metadata": {
    "papermill": {
     "duration": 0.064042,
     "end_time": "2021-12-13T10:10:25.548740",
     "exception": false,
     "start_time": "2021-12-13T10:10:25.484698",
     "status": "completed"
    },
    "tags": []
   },
   "outputs": [],
   "source": []
  }
 ],
 "metadata": {
  "kernelspec": {
   "display_name": "Python 3",
   "language": "python",
   "name": "python3"
  },
  "language_info": {
   "codemirror_mode": {
    "name": "ipython",
    "version": 3
   },
   "file_extension": ".py",
   "mimetype": "text/x-python",
   "name": "python",
   "nbconvert_exporter": "python",
   "pygments_lexer": "ipython3",
   "version": "3.6.15"
  },
  "papermill": {
   "default_parameters": {},
   "duration": 127.454028,
   "end_time": "2021-12-13T10:10:26.021457",
   "environment_variables": {},
   "exception": null,
   "input_path": "2020-08-11-part2.ipynb",
   "output_path": "2020-08-11-part2.ipynb",
   "parameters": {},
   "start_time": "2021-12-13T10:08:18.567429",
   "version": "2.3.3"
  }
 },
 "nbformat": 4,
 "nbformat_minor": 5
}