{
 "cells": [
  {
   "cell_type": "markdown",
   "id": "98380cd3",
   "metadata": {
    "papermill": {
     "duration": 0.033756,
     "end_time": "2021-12-22T00:25:06.081673",
     "exception": false,
     "start_time": "2021-12-22T00:25:06.047917",
     "status": "completed"
    },
    "tags": []
   },
   "source": [
    "# Distinguish Your Own Digits (DYOD)"
   ]
  },
  {
   "cell_type": "markdown",
   "id": "ef31240d",
   "metadata": {
    "papermill": {
     "duration": 0.026339,
     "end_time": "2021-12-22T00:25:06.135215",
     "exception": false,
     "start_time": "2021-12-22T00:25:06.108876",
     "status": "completed"
    },
    "tags": []
   },
   "source": [
    "You are going to write a classifier that distinguishes between the number 3 and number 8."
   ]
  },
  {
   "cell_type": "code",
   "execution_count": 1,
   "id": "b15c8646",
   "metadata": {
    "execution": {
     "iopub.execute_input": "2021-12-22T00:25:06.203486Z",
     "iopub.status.busy": "2021-12-22T00:25:06.202715Z",
     "iopub.status.idle": "2021-12-22T00:25:06.215749Z",
     "shell.execute_reply": "2021-12-22T00:25:06.215235Z"
    },
    "papermill": {
     "duration": 0.054559,
     "end_time": "2021-12-22T00:25:06.215902",
     "exception": false,
     "start_time": "2021-12-22T00:25:06.161343",
     "status": "completed"
    },
    "tags": []
   },
   "outputs": [],
   "source": [
    "%load_ext autoreload\n",
    "%autoreload 2"
   ]
  },
  {
   "cell_type": "code",
   "execution_count": 2,
   "id": "22ef38dc",
   "metadata": {
    "execution": {
     "iopub.execute_input": "2021-12-22T00:25:06.274259Z",
     "iopub.status.busy": "2021-12-22T00:25:06.273660Z",
     "iopub.status.idle": "2021-12-22T00:25:06.936588Z",
     "shell.execute_reply": "2021-12-22T00:25:06.935726Z"
    },
    "papermill": {
     "duration": 0.694362,
     "end_time": "2021-12-22T00:25:06.936796",
     "exception": false,
     "start_time": "2021-12-22T00:25:06.242434",
     "status": "completed"
    },
    "tags": []
   },
   "outputs": [],
   "source": [
    "%matplotlib inline\n",
    "import numpy as np\n",
    "import matplotlib.pyplot as plt\n",
    "import pandas as pd"
   ]
  },
  {
   "cell_type": "markdown",
   "id": "ba036198",
   "metadata": {
    "papermill": {
     "duration": 0.026363,
     "end_time": "2021-12-22T00:25:06.989732",
     "exception": false,
     "start_time": "2021-12-22T00:25:06.963369",
     "status": "completed"
    },
    "tags": []
   },
   "source": [
    "From the command line run `pip install mnist`. This is a library that will help you bring down the mnist dataset. If you run this from a notebook, you need to put  `!pip install mnist` in a cell by itself."
   ]
  },
  {
   "cell_type": "code",
   "execution_count": 3,
   "id": "bb6ad8a1",
   "metadata": {
    "execution": {
     "iopub.execute_input": "2021-12-22T00:25:07.047891Z",
     "iopub.status.busy": "2021-12-22T00:25:07.047254Z",
     "iopub.status.idle": "2021-12-22T00:25:08.937497Z",
     "shell.execute_reply": "2021-12-22T00:25:08.936940Z"
    },
    "papermill": {
     "duration": 1.92166,
     "end_time": "2021-12-22T00:25:08.937641",
     "exception": false,
     "start_time": "2021-12-22T00:25:07.015981",
     "status": "completed"
    },
    "tags": []
   },
   "outputs": [
    {
     "name": "stdout",
     "output_type": "stream",
     "text": [
      "Collecting mnist\r\n",
      "  Downloading mnist-0.2.2-py2.py3-none-any.whl (3.5 kB)\r\n",
      "Requirement already satisfied: numpy in /opt/hostedtoolcache/Python/3.6.15/x64/lib/python3.6/site-packages (from mnist) (1.19.5)\r\n"
     ]
    },
    {
     "name": "stdout",
     "output_type": "stream",
     "text": [
      "Installing collected packages: mnist\r\n"
     ]
    },
    {
     "name": "stdout",
     "output_type": "stream",
     "text": [
      "Successfully installed mnist-0.2.2\r\n"
     ]
    }
   ],
   "source": [
    "!pip install mnist"
   ]
  },
  {
   "cell_type": "markdown",
   "id": "69df9c9a",
   "metadata": {
    "papermill": {
     "duration": 0.027936,
     "end_time": "2021-12-22T00:25:08.993842",
     "exception": false,
     "start_time": "2021-12-22T00:25:08.965906",
     "status": "completed"
    },
    "tags": []
   },
   "source": [
    "## Preparing the Data"
   ]
  },
  {
   "cell_type": "code",
   "execution_count": 4,
   "id": "7f69d806",
   "metadata": {
    "execution": {
     "iopub.execute_input": "2021-12-22T00:25:09.054936Z",
     "iopub.status.busy": "2021-12-22T00:25:09.054336Z",
     "iopub.status.idle": "2021-12-22T00:25:09.072952Z",
     "shell.execute_reply": "2021-12-22T00:25:09.072246Z"
    },
    "papermill": {
     "duration": 0.051507,
     "end_time": "2021-12-22T00:25:09.073117",
     "exception": false,
     "start_time": "2021-12-22T00:25:09.021610",
     "status": "completed"
    },
    "tags": []
   },
   "outputs": [],
   "source": [
    "import mnist"
   ]
  },
  {
   "cell_type": "code",
   "execution_count": 5,
   "id": "a411e44f",
   "metadata": {
    "execution": {
     "iopub.execute_input": "2021-12-22T00:25:09.137550Z",
     "iopub.status.busy": "2021-12-22T00:25:09.136995Z",
     "iopub.status.idle": "2021-12-22T00:25:09.701176Z",
     "shell.execute_reply": "2021-12-22T00:25:09.700272Z"
    },
    "papermill": {
     "duration": 0.599183,
     "end_time": "2021-12-22T00:25:09.701398",
     "exception": false,
     "start_time": "2021-12-22T00:25:09.102215",
     "status": "completed"
    },
    "tags": []
   },
   "outputs": [],
   "source": [
    "train_images = mnist.train_images()\n",
    "train_labels = mnist.train_labels()"
   ]
  },
  {
   "cell_type": "code",
   "execution_count": 6,
   "id": "dceab3a5",
   "metadata": {
    "execution": {
     "iopub.execute_input": "2021-12-22T00:25:09.762475Z",
     "iopub.status.busy": "2021-12-22T00:25:09.761865Z",
     "iopub.status.idle": "2021-12-22T00:25:09.780824Z",
     "shell.execute_reply": "2021-12-22T00:25:09.780348Z"
    },
    "papermill": {
     "duration": 0.049774,
     "end_time": "2021-12-22T00:25:09.780947",
     "exception": false,
     "start_time": "2021-12-22T00:25:09.731173",
     "status": "completed"
    },
    "tags": []
   },
   "outputs": [
    {
     "data": {
      "text/plain": [
       "((60000, 28, 28), (60000,))"
      ]
     },
     "execution_count": 6,
     "metadata": {},
     "output_type": "execute_result"
    }
   ],
   "source": [
    "train_images.shape, train_labels.shape"
   ]
  },
  {
   "cell_type": "code",
   "execution_count": 7,
   "id": "f50dc2bb",
   "metadata": {
    "execution": {
     "iopub.execute_input": "2021-12-22T00:25:09.841425Z",
     "iopub.status.busy": "2021-12-22T00:25:09.840849Z",
     "iopub.status.idle": "2021-12-22T00:25:09.964906Z",
     "shell.execute_reply": "2021-12-22T00:25:09.964206Z"
    },
    "papermill": {
     "duration": 0.156929,
     "end_time": "2021-12-22T00:25:09.965047",
     "exception": false,
     "start_time": "2021-12-22T00:25:09.808118",
     "status": "completed"
    },
    "tags": []
   },
   "outputs": [],
   "source": [
    "test_images = mnist.test_images()\n",
    "test_labels = mnist.test_labels()"
   ]
  },
  {
   "cell_type": "code",
   "execution_count": 8,
   "id": "fc38cf1b",
   "metadata": {
    "execution": {
     "iopub.execute_input": "2021-12-22T00:25:10.024709Z",
     "iopub.status.busy": "2021-12-22T00:25:10.024130Z",
     "iopub.status.idle": "2021-12-22T00:25:10.039397Z",
     "shell.execute_reply": "2021-12-22T00:25:10.038877Z"
    },
    "papermill": {
     "duration": 0.047159,
     "end_time": "2021-12-22T00:25:10.039516",
     "exception": false,
     "start_time": "2021-12-22T00:25:09.992357",
     "status": "completed"
    },
    "tags": []
   },
   "outputs": [
    {
     "data": {
      "text/plain": [
       "((10000, 28, 28), (10000,))"
      ]
     },
     "execution_count": 8,
     "metadata": {},
     "output_type": "execute_result"
    }
   ],
   "source": [
    "test_images.shape, test_labels.shape"
   ]
  },
  {
   "cell_type": "code",
   "execution_count": 9,
   "id": "f9ed8fe0",
   "metadata": {
    "execution": {
     "iopub.execute_input": "2021-12-22T00:25:10.100015Z",
     "iopub.status.busy": "2021-12-22T00:25:10.099458Z",
     "iopub.status.idle": "2021-12-22T00:25:10.255838Z",
     "shell.execute_reply": "2021-12-22T00:25:10.254726Z"
    },
    "papermill": {
     "duration": 0.18845,
     "end_time": "2021-12-22T00:25:10.255973",
     "exception": false,
     "start_time": "2021-12-22T00:25:10.067523",
     "status": "completed"
    },
    "tags": []
   },
   "outputs": [
    {
     "name": "stdout",
     "output_type": "stream",
     "text": [
      "2\n"
     ]
    },
    {
     "data": {
      "text/plain": [
       "<matplotlib.image.AxesImage at 0x7f24c79a24a8>"
      ]
     },
     "execution_count": 9,
     "metadata": {},
     "output_type": "execute_result"
    },
    {
     "data": {
      "image/png": "[encoded data removed]",
      "text/plain": [
       "<Figure size 432x288 with 1 Axes>"
      ]
     },
     "metadata": {
      "needs_background": "light"
     },
     "output_type": "display_data"
    }
   ],
   "source": [
    "image_index = 7776 # You may select anything up to 60,000\n",
    "print(train_labels[image_index]) \n",
    "plt.imshow(train_images[image_index], cmap='Greys')"
   ]
  },
  {
   "cell_type": "markdown",
   "id": "a8d2388d",
   "metadata": {
    "papermill": {
     "duration": 0.029484,
     "end_time": "2021-12-22T00:25:10.314916",
     "exception": false,
     "start_time": "2021-12-22T00:25:10.285432",
     "status": "completed"
    },
    "tags": []
   },
   "source": [
    "## Filter data to get 3 and 8 out"
   ]
  },
  {
   "cell_type": "code",
   "execution_count": 10,
   "id": "776f7fc7",
   "metadata": {
    "execution": {
     "iopub.execute_input": "2021-12-22T00:25:10.379794Z",
     "iopub.status.busy": "2021-12-22T00:25:10.378752Z",
     "iopub.status.idle": "2021-12-22T00:25:10.398775Z",
     "shell.execute_reply": "2021-12-22T00:25:10.398272Z"
    },
    "papermill": {
     "duration": 0.053882,
     "end_time": "2021-12-22T00:25:10.398892",
     "exception": false,
     "start_time": "2021-12-22T00:25:10.345010",
     "status": "completed"
    },
    "tags": []
   },
   "outputs": [],
   "source": [
    "train_filter = np.where((train_labels == 3 ) | (train_labels == 8))\n",
    "test_filter = np.where((test_labels == 3) | (test_labels == 8))\n",
    "X_train, y_train = train_images[train_filter], train_labels[train_filter]\n",
    "X_test, y_test = test_images[test_filter], test_labels[test_filter]"
   ]
  },
  {
   "cell_type": "markdown",
   "id": "948f0b7e",
   "metadata": {
    "papermill": {
     "duration": 0.029063,
     "end_time": "2021-12-22T00:25:10.457335",
     "exception": false,
     "start_time": "2021-12-22T00:25:10.428272",
     "status": "completed"
    },
    "tags": []
   },
   "source": [
    "We normalize the pizel values in the 0 to 1 range"
   ]
  },
  {
   "cell_type": "code",
   "execution_count": 11,
   "id": "ee4c2166",
   "metadata": {
    "execution": {
     "iopub.execute_input": "2021-12-22T00:25:10.519046Z",
     "iopub.status.busy": "2021-12-22T00:25:10.518456Z",
     "iopub.status.idle": "2021-12-22T00:25:10.574821Z",
     "shell.execute_reply": "2021-12-22T00:25:10.574271Z"
    },
    "papermill": {
     "duration": 0.08871,
     "end_time": "2021-12-22T00:25:10.574965",
     "exception": false,
     "start_time": "2021-12-22T00:25:10.486255",
     "status": "completed"
    },
    "tags": []
   },
   "outputs": [],
   "source": [
    "X_train = X_train/255.\n",
    "X_test = X_test/255."
   ]
  },
  {
   "cell_type": "markdown",
   "id": "ddcf4fab",
   "metadata": {
    "papermill": {
     "duration": 0.029051,
     "end_time": "2021-12-22T00:25:10.633538",
     "exception": false,
     "start_time": "2021-12-22T00:25:10.604487",
     "status": "completed"
    },
    "tags": []
   },
   "source": [
    "And setup the labels as 1 (when the digit is 3) and 0 (when the digit is 8)"
   ]
  },
  {
   "cell_type": "code",
   "execution_count": 12,
   "id": "7dc908f2",
   "metadata": {
    "execution": {
     "iopub.execute_input": "2021-12-22T00:25:10.696647Z",
     "iopub.status.busy": "2021-12-22T00:25:10.696043Z",
     "iopub.status.idle": "2021-12-22T00:25:10.709436Z",
     "shell.execute_reply": "2021-12-22T00:25:10.708988Z"
    },
    "papermill": {
     "duration": 0.046655,
     "end_time": "2021-12-22T00:25:10.709554",
     "exception": false,
     "start_time": "2021-12-22T00:25:10.662899",
     "status": "completed"
    },
    "tags": []
   },
   "outputs": [],
   "source": [
    "y_train = 1*(y_train==3)\n",
    "y_test = 1*(y_test==3)"
   ]
  },
  {
   "cell_type": "code",
   "execution_count": 13,
   "id": "01e4e969",
   "metadata": {
    "execution": {
     "iopub.execute_input": "2021-12-22T00:25:10.774122Z",
     "iopub.status.busy": "2021-12-22T00:25:10.773533Z",
     "iopub.status.idle": "2021-12-22T00:25:10.787036Z",
     "shell.execute_reply": "2021-12-22T00:25:10.786537Z"
    },
    "papermill": {
     "duration": 0.048583,
     "end_time": "2021-12-22T00:25:10.787153",
     "exception": false,
     "start_time": "2021-12-22T00:25:10.738570",
     "status": "completed"
    },
    "tags": []
   },
   "outputs": [
    {
     "data": {
      "text/plain": [
       "((11982, 28, 28), (1984, 28, 28))"
      ]
     },
     "execution_count": 13,
     "metadata": {},
     "output_type": "execute_result"
    }
   ],
   "source": [
    "X_train.shape, X_test.shape"
   ]
  },
  {
   "cell_type": "markdown",
   "id": "5ccf3f85",
   "metadata": {
    "papermill": {
     "duration": 0.029128,
     "end_time": "2021-12-22T00:25:10.845502",
     "exception": false,
     "start_time": "2021-12-22T00:25:10.816374",
     "status": "completed"
    },
    "tags": []
   },
   "source": [
    "We reshape the data to flatten the image pixels into a set of features or co-variates:"
   ]
  },
  {
   "cell_type": "code",
   "execution_count": 14,
   "id": "5286a4a3",
   "metadata": {
    "execution": {
     "iopub.execute_input": "2021-12-22T00:25:10.909067Z",
     "iopub.status.busy": "2021-12-22T00:25:10.908024Z",
     "iopub.status.idle": "2021-12-22T00:25:10.925878Z",
     "shell.execute_reply": "2021-12-22T00:25:10.926329Z"
    },
    "papermill": {
     "duration": 0.051611,
     "end_time": "2021-12-22T00:25:10.926469",
     "exception": false,
     "start_time": "2021-12-22T00:25:10.874858",
     "status": "completed"
    },
    "tags": []
   },
   "outputs": [
    {
     "data": {
      "text/plain": [
       "((11982, 784), (1984, 784))"
      ]
     },
     "execution_count": 14,
     "metadata": {},
     "output_type": "execute_result"
    }
   ],
   "source": [
    "X_train = X_train.reshape(X_train.shape[0], -1)\n",
    "X_test = X_test.reshape(X_test.shape[0], -1)\n",
    "X_train.shape, X_test.shape"
   ]
  },
  {
   "cell_type": "code",
   "execution_count": 15,
   "id": "73c5f88a",
   "metadata": {
    "execution": {
     "iopub.execute_input": "2021-12-22T00:25:10.988982Z",
     "iopub.status.busy": "2021-12-22T00:25:10.988371Z",
     "iopub.status.idle": "2021-12-22T00:25:11.010247Z",
     "shell.execute_reply": "2021-12-22T00:25:11.009732Z"
    },
    "papermill": {
     "duration": 0.054832,
     "end_time": "2021-12-22T00:25:11.010364",
     "exception": false,
     "start_time": "2021-12-22T00:25:10.955532",
     "status": "completed"
    },
    "tags": []
   },
   "outputs": [],
   "source": [
    "#Impoting functions from 'Kudzu'\n",
    "from kudzu.model import Model\n",
    "from kudzu.train import Learner\n",
    "from kudzu.optim import GD\n",
    "from kudzu.data import Data, Sampler,Dataloader\n",
    "\n",
    "from kudzu.callbacks import AccCallback\n",
    "from kudzu.callbacks import ClfCallback\n",
    "\n",
    "from kudzu.loss import MSE\n",
    "\n",
    "from kudzu.layer import Sigmoid,Relu\n",
    "from kudzu.layer import Affine"
   ]
  },
  {
   "cell_type": "markdown",
   "id": "bc01172a",
   "metadata": {
    "papermill": {
     "duration": 0.029061,
     "end_time": "2021-12-22T00:25:11.068713",
     "exception": false,
     "start_time": "2021-12-22T00:25:11.039652",
     "status": "completed"
    },
    "tags": []
   },
   "source": [
    "### Let us create a `Config` class, to store important parameters. \n",
    "This class essentially plays the role of a dictionary."
   ]
  },
  {
   "cell_type": "code",
   "execution_count": 16,
   "id": "978281aa",
   "metadata": {
    "execution": {
     "iopub.execute_input": "2021-12-22T00:25:11.132254Z",
     "iopub.status.busy": "2021-12-22T00:25:11.131642Z",
     "iopub.status.idle": "2021-12-22T00:25:11.146778Z",
     "shell.execute_reply": "2021-12-22T00:25:11.147295Z"
    },
    "papermill": {
     "duration": 0.050018,
     "end_time": "2021-12-22T00:25:11.147450",
     "exception": false,
     "start_time": "2021-12-22T00:25:11.097432",
     "status": "completed"
    },
    "tags": []
   },
   "outputs": [],
   "source": [
    "class Config:\n",
    "    pass\n",
    "config = Config()\n",
    "config.lr = 0.001\n",
    "config.num_epochs = 250\n",
    "config.bs = 50"
   ]
  },
  {
   "cell_type": "markdown",
   "id": "1385fa59",
   "metadata": {
    "papermill": {
     "duration": 0.0285,
     "end_time": "2021-12-22T00:25:11.204807",
     "exception": false,
     "start_time": "2021-12-22T00:25:11.176307",
     "status": "completed"
    },
    "tags": []
   },
   "source": [
    "### Running Models with the Training data\n",
    "Details about the network layers:\n",
    "- A first affine layer has 784 inputs and does 100 affine transforms. These are followed by a Relu\n",
    "- A second affine layer has 100 inputs from the 100 activations of the past layer, and does 100 affine transforms. These are followed by a Relu\n",
    "- A third affine layer has 100 activations and does 2 affine transformations to create an embedding for visualization. There is no non-linearity here.\n",
    "- A final \"logistic regression\" which has an affine transform from 2 inputs to 1 output, which is squeezed through a sigmoid.\n"
   ]
  },
  {
   "cell_type": "code",
   "execution_count": 17,
   "id": "2b9c66db",
   "metadata": {
    "execution": {
     "iopub.execute_input": "2021-12-22T00:25:11.267539Z",
     "iopub.status.busy": "2021-12-22T00:25:11.266967Z",
     "iopub.status.idle": "2021-12-22T00:25:11.280902Z",
     "shell.execute_reply": "2021-12-22T00:25:11.280462Z"
    },
    "papermill": {
     "duration": 0.047865,
     "end_time": "2021-12-22T00:25:11.281013",
     "exception": false,
     "start_time": "2021-12-22T00:25:11.233148",
     "status": "completed"
    },
    "tags": []
   },
   "outputs": [],
   "source": [
    "data = Data(X_train, y_train.reshape(-1,1))\n",
    "sampler = Sampler(data, config.bs, shuffle=True)\n",
    "\n",
    "dl = Dataloader(data, sampler)\n",
    "\n",
    "opt = GD(config.lr)\n",
    "loss = MSE()"
   ]
  },
  {
   "cell_type": "code",
   "execution_count": 18,
   "id": "b275e4c2",
   "metadata": {
    "execution": {
     "iopub.execute_input": "2021-12-22T00:25:11.349176Z",
     "iopub.status.busy": "2021-12-22T00:25:11.348632Z",
     "iopub.status.idle": "2021-12-22T00:25:11.360462Z",
     "shell.execute_reply": "2021-12-22T00:25:11.359990Z"
    },
    "papermill": {
     "duration": 0.049772,
     "end_time": "2021-12-22T00:25:11.360580",
     "exception": false,
     "start_time": "2021-12-22T00:25:11.310808",
     "status": "completed"
    },
    "tags": []
   },
   "outputs": [],
   "source": [
    "training_data_x = X_train\n",
    "testing_data_x = X_test\n",
    "training_data_y = y_train.reshape(-1,1)\n",
    "testing_data_y = y_test.reshape(-1,1)"
   ]
  },
  {
   "cell_type": "code",
   "execution_count": 19,
   "id": "76951160",
   "metadata": {
    "execution": {
     "iopub.execute_input": "2021-12-22T00:25:11.422535Z",
     "iopub.status.busy": "2021-12-22T00:25:11.421533Z",
     "iopub.status.idle": "2021-12-22T00:25:11.439747Z",
     "shell.execute_reply": "2021-12-22T00:25:11.440233Z"
    },
    "papermill": {
     "duration": 0.051616,
     "end_time": "2021-12-22T00:25:11.440375",
     "exception": false,
     "start_time": "2021-12-22T00:25:11.388759",
     "status": "completed"
    },
    "tags": []
   },
   "outputs": [
    {
     "name": "stdout",
     "output_type": "stream",
     "text": [
      "xavier\n",
      "xavier\n",
      "xavier\n",
      "xavier\n",
      "xavier\n"
     ]
    }
   ],
   "source": [
    "layers = [Affine(\"first\", 784, 100), Relu(\"first\"), Affine(\"second\", 100, 100), Relu(\"second\"), Affine(\"third\", 100, 2), Affine(\"last\", 2, 1), Sigmoid(\"last\")]\n",
    "model_nn = Model(layers)\n",
    "model_lr = Model([Affine(\"logits\", 784, 1), Sigmoid(\"sigmoid\")])"
   ]
  },
  {
   "cell_type": "code",
   "execution_count": 20,
   "id": "6eede77a",
   "metadata": {
    "execution": {
     "iopub.execute_input": "2021-12-22T00:25:11.501982Z",
     "iopub.status.busy": "2021-12-22T00:25:11.501402Z",
     "iopub.status.idle": "2021-12-22T00:25:11.515467Z",
     "shell.execute_reply": "2021-12-22T00:25:11.514895Z"
    },
    "papermill": {
     "duration": 0.04613,
     "end_time": "2021-12-22T00:25:11.515579",
     "exception": false,
     "start_time": "2021-12-22T00:25:11.469449",
     "status": "completed"
    },
    "tags": []
   },
   "outputs": [],
   "source": [
    "nn_learner = Learner(loss, model_nn, opt, config.num_epochs)\n",
    "acc_nn = ClfCallback(nn_learner, config.bs, training_data_x , testing_data_x, training_data_y, testing_data_y)\n",
    "nn_learner.set_callbacks([acc_nn])"
   ]
  },
  {
   "cell_type": "code",
   "execution_count": 21,
   "id": "877b6cc7",
   "metadata": {
    "execution": {
     "iopub.execute_input": "2021-12-22T00:25:11.584288Z",
     "iopub.status.busy": "2021-12-22T00:25:11.577742Z",
     "iopub.status.idle": "2021-12-22T00:25:11.593075Z",
     "shell.execute_reply": "2021-12-22T00:25:11.592639Z"
    },
    "papermill": {
     "duration": 0.049184,
     "end_time": "2021-12-22T00:25:11.593184",
     "exception": false,
     "start_time": "2021-12-22T00:25:11.544000",
     "status": "completed"
    },
    "tags": []
   },
   "outputs": [],
   "source": [
    "lr_learner = Learner(loss, model_lr, opt, config.num_epochs)\n",
    "acc_lr = ClfCallback(lr_learner, config.bs, training_data_x , testing_data_x, training_data_y, testing_data_y)\n",
    "lr_learner.set_callbacks([acc_lr])"
   ]
  },
  {
   "cell_type": "code",
   "execution_count": 22,
   "id": "d9b133c3",
   "metadata": {
    "execution": {
     "iopub.execute_input": "2021-12-22T00:25:11.654709Z",
     "iopub.status.busy": "2021-12-22T00:25:11.653706Z",
     "iopub.status.idle": "2021-12-22T00:26:35.421806Z",
     "shell.execute_reply": "2021-12-22T00:26:35.422640Z"
    },
    "papermill": {
     "duration": 83.800944,
     "end_time": "2021-12-22T00:26:35.422801",
     "exception": false,
     "start_time": "2021-12-22T00:25:11.621857",
     "status": "completed"
    },
    "tags": []
   },
   "outputs": [
    {
     "name": "stdout",
     "output_type": "stream",
     "text": [
      "Epoch 0, Loss 0.2573\n",
      "Training Accuracy: 0.4942, Testing Accuracy: 0.4955\n",
      "\n"
     ]
    },
    {
     "name": "stdout",
     "output_type": "stream",
     "text": [
      "Epoch 10, Loss 0.098\n",
      "Training Accuracy: 0.9141, Testing Accuracy: 0.9239\n",
      "\n"
     ]
    },
    {
     "name": "stdout",
     "output_type": "stream",
     "text": [
      "Epoch 20, Loss 0.0578\n",
      "Training Accuracy: 0.9412, Testing Accuracy: 0.9511\n",
      "\n"
     ]
    },
    {
     "name": "stdout",
     "output_type": "stream",
     "text": [
      "Epoch 30, Loss 0.0444\n",
      "Training Accuracy: 0.9523, Testing Accuracy: 0.9567\n",
      "\n"
     ]
    },
    {
     "name": "stdout",
     "output_type": "stream",
     "text": [
      "Epoch 40, Loss 0.0381\n",
      "Training Accuracy: 0.9584, Testing Accuracy: 0.9627\n",
      "\n"
     ]
    },
    {
     "name": "stdout",
     "output_type": "stream",
     "text": [
      "Epoch 50, Loss 0.0343\n",
      "Training Accuracy: 0.9621, Testing Accuracy: 0.9652\n",
      "\n"
     ]
    },
    {
     "name": "stdout",
     "output_type": "stream",
     "text": [
      "Epoch 60, Loss 0.0318\n",
      "Training Accuracy: 0.9638, Testing Accuracy: 0.9677\n",
      "\n"
     ]
    },
    {
     "name": "stdout",
     "output_type": "stream",
     "text": [
      "Epoch 70, Loss 0.0299\n",
      "Training Accuracy: 0.9659, Testing Accuracy: 0.9688\n",
      "\n"
     ]
    },
    {
     "name": "stdout",
     "output_type": "stream",
     "text": [
      "Epoch 80, Loss 0.0285\n",
      "Training Accuracy: 0.9671, Testing Accuracy: 0.9677\n",
      "\n"
     ]
    },
    {
     "name": "stdout",
     "output_type": "stream",
     "text": [
      "Epoch 90, Loss 0.0273\n",
      "Training Accuracy: 0.9685, Testing Accuracy: 0.9693\n",
      "\n"
     ]
    },
    {
     "name": "stdout",
     "output_type": "stream",
     "text": [
      "Epoch 100, Loss 0.0263\n",
      "Training Accuracy: 0.9699, Testing Accuracy: 0.9703\n",
      "\n"
     ]
    },
    {
     "name": "stdout",
     "output_type": "stream",
     "text": [
      "Epoch 110, Loss 0.0254\n",
      "Training Accuracy: 0.9710, Testing Accuracy: 0.9708\n",
      "\n"
     ]
    },
    {
     "name": "stdout",
     "output_type": "stream",
     "text": [
      "Epoch 120, Loss 0.0247\n",
      "Training Accuracy: 0.9722, Testing Accuracy: 0.9703\n",
      "\n"
     ]
    },
    {
     "name": "stdout",
     "output_type": "stream",
     "text": [
      "Epoch 130, Loss 0.024\n",
      "Training Accuracy: 0.9730, Testing Accuracy: 0.9708\n",
      "\n"
     ]
    },
    {
     "name": "stdout",
     "output_type": "stream",
     "text": [
      "Epoch 140, Loss 0.0234\n",
      "Training Accuracy: 0.9738, Testing Accuracy: 0.9713\n",
      "\n"
     ]
    },
    {
     "name": "stdout",
     "output_type": "stream",
     "text": [
      "Epoch 150, Loss 0.0228\n",
      "Training Accuracy: 0.9744, Testing Accuracy: 0.9713\n",
      "\n"
     ]
    },
    {
     "name": "stdout",
     "output_type": "stream",
     "text": [
      "Epoch 160, Loss 0.0222\n",
      "Training Accuracy: 0.9750, Testing Accuracy: 0.9723\n",
      "\n"
     ]
    },
    {
     "name": "stdout",
     "output_type": "stream",
     "text": [
      "Epoch 170, Loss 0.0218\n",
      "Training Accuracy: 0.9758, Testing Accuracy: 0.9718\n",
      "\n"
     ]
    },
    {
     "name": "stdout",
     "output_type": "stream",
     "text": [
      "Epoch 180, Loss 0.0213\n",
      "Training Accuracy: 0.9767, Testing Accuracy: 0.9723\n",
      "\n"
     ]
    },
    {
     "name": "stdout",
     "output_type": "stream",
     "text": [
      "Epoch 190, Loss 0.0209\n",
      "Training Accuracy: 0.9771, Testing Accuracy: 0.9733\n",
      "\n"
     ]
    },
    {
     "name": "stdout",
     "output_type": "stream",
     "text": [
      "Epoch 200, Loss 0.0205\n",
      "Training Accuracy: 0.9778, Testing Accuracy: 0.9733\n",
      "\n"
     ]
    },
    {
     "name": "stdout",
     "output_type": "stream",
     "text": [
      "Epoch 210, Loss 0.0201\n",
      "Training Accuracy: 0.9782, Testing Accuracy: 0.9733\n",
      "\n"
     ]
    },
    {
     "name": "stdout",
     "output_type": "stream",
     "text": [
      "Epoch 220, Loss 0.0197\n",
      "Training Accuracy: 0.9788, Testing Accuracy: 0.9743\n",
      "\n"
     ]
    },
    {
     "name": "stdout",
     "output_type": "stream",
     "text": [
      "Epoch 230, Loss 0.0193\n",
      "Training Accuracy: 0.9795, Testing Accuracy: 0.9743\n",
      "\n"
     ]
    },
    {
     "name": "stdout",
     "output_type": "stream",
     "text": [
      "Epoch 240, Loss 0.019\n",
      "Training Accuracy: 0.9798, Testing Accuracy: 0.9748\n",
      "\n"
     ]
    },
    {
     "data": {
      "text/plain": [
       "0.05915689357089181"
      ]
     },
     "execution_count": 22,
     "metadata": {},
     "output_type": "execute_result"
    }
   ],
   "source": [
    "nn_learner.train_loop(dl)"
   ]
  },
  {
   "cell_type": "code",
   "execution_count": 23,
   "id": "e0163366",
   "metadata": {
    "execution": {
     "iopub.execute_input": "2021-12-22T00:26:35.512887Z",
     "iopub.status.busy": "2021-12-22T00:26:35.512314Z",
     "iopub.status.idle": "2021-12-22T00:26:50.479315Z",
     "shell.execute_reply": "2021-12-22T00:26:50.480184Z"
    },
    "papermill": {
     "duration": 15.01918,
     "end_time": "2021-12-22T00:26:50.480344",
     "exception": false,
     "start_time": "2021-12-22T00:26:35.461164",
     "status": "completed"
    },
    "tags": []
   },
   "outputs": [
    {
     "name": "stdout",
     "output_type": "stream",
     "text": [
      "Epoch 0, Loss 0.28\n",
      "Training Accuracy: 0.5227, Testing Accuracy: 0.5544\n",
      "\n"
     ]
    },
    {
     "name": "stdout",
     "output_type": "stream",
     "text": [
      "Epoch 10, Loss 0.1116\n",
      "Training Accuracy: 0.8954, Testing Accuracy: 0.9047\n",
      "\n"
     ]
    },
    {
     "name": "stdout",
     "output_type": "stream",
     "text": [
      "Epoch 20, Loss 0.084\n",
      "Training Accuracy: 0.9204, Testing Accuracy: 0.9279\n",
      "\n"
     ]
    },
    {
     "name": "stdout",
     "output_type": "stream",
     "text": [
      "Epoch 30, Loss 0.0715\n",
      "Training Accuracy: 0.9307, Testing Accuracy: 0.9365\n",
      "\n"
     ]
    },
    {
     "name": "stdout",
     "output_type": "stream",
     "text": [
      "Epoch 40, Loss 0.064\n",
      "Training Accuracy: 0.9382, Testing Accuracy: 0.9456\n",
      "\n"
     ]
    },
    {
     "name": "stdout",
     "output_type": "stream",
     "text": [
      "Epoch 50, Loss 0.059\n",
      "Training Accuracy: 0.9417, Testing Accuracy: 0.9496\n",
      "\n"
     ]
    },
    {
     "name": "stdout",
     "output_type": "stream",
     "text": [
      "Epoch 60, Loss 0.0554\n",
      "Training Accuracy: 0.9447, Testing Accuracy: 0.9521\n",
      "\n"
     ]
    },
    {
     "name": "stdout",
     "output_type": "stream",
     "text": [
      "Epoch 70, Loss 0.0526\n",
      "Training Accuracy: 0.9475, Testing Accuracy: 0.9546\n",
      "\n"
     ]
    },
    {
     "name": "stdout",
     "output_type": "stream",
     "text": [
      "Epoch 80, Loss 0.0503\n",
      "Training Accuracy: 0.9492, Testing Accuracy: 0.9556\n",
      "\n"
     ]
    },
    {
     "name": "stdout",
     "output_type": "stream",
     "text": [
      "Epoch 90, Loss 0.0485\n",
      "Training Accuracy: 0.9502, Testing Accuracy: 0.9572\n",
      "\n"
     ]
    },
    {
     "name": "stdout",
     "output_type": "stream",
     "text": [
      "Epoch 100, Loss 0.047\n",
      "Training Accuracy: 0.9513, Testing Accuracy: 0.9587\n",
      "\n"
     ]
    },
    {
     "name": "stdout",
     "output_type": "stream",
     "text": [
      "Epoch 110, Loss 0.0457\n",
      "Training Accuracy: 0.9525, Testing Accuracy: 0.9592\n",
      "\n"
     ]
    },
    {
     "name": "stdout",
     "output_type": "stream",
     "text": [
      "Epoch 120, Loss 0.0446\n",
      "Training Accuracy: 0.9538, Testing Accuracy: 0.9602\n",
      "\n"
     ]
    },
    {
     "name": "stdout",
     "output_type": "stream",
     "text": [
      "Epoch 130, Loss 0.0436\n",
      "Training Accuracy: 0.9547, Testing Accuracy: 0.9627\n",
      "\n"
     ]
    },
    {
     "name": "stdout",
     "output_type": "stream",
     "text": [
      "Epoch 140, Loss 0.0427\n",
      "Training Accuracy: 0.9559, Testing Accuracy: 0.9627\n",
      "\n"
     ]
    },
    {
     "name": "stdout",
     "output_type": "stream",
     "text": [
      "Epoch 150, Loss 0.0419\n",
      "Training Accuracy: 0.9569, Testing Accuracy: 0.9627\n",
      "\n"
     ]
    },
    {
     "name": "stdout",
     "output_type": "stream",
     "text": [
      "Epoch 160, Loss 0.0412\n",
      "Training Accuracy: 0.9575, Testing Accuracy: 0.9627\n",
      "\n"
     ]
    },
    {
     "name": "stdout",
     "output_type": "stream",
     "text": [
      "Epoch 170, Loss 0.0406\n",
      "Training Accuracy: 0.9579, Testing Accuracy: 0.9627\n",
      "\n"
     ]
    },
    {
     "name": "stdout",
     "output_type": "stream",
     "text": [
      "Epoch 180, Loss 0.04\n",
      "Training Accuracy: 0.9586, Testing Accuracy: 0.9632\n",
      "\n"
     ]
    },
    {
     "name": "stdout",
     "output_type": "stream",
     "text": [
      "Epoch 190, Loss 0.0394\n",
      "Training Accuracy: 0.9586, Testing Accuracy: 0.9637\n",
      "\n"
     ]
    },
    {
     "name": "stdout",
     "output_type": "stream",
     "text": [
      "Epoch 200, Loss 0.0389\n",
      "Training Accuracy: 0.9589, Testing Accuracy: 0.9637\n",
      "\n"
     ]
    },
    {
     "name": "stdout",
     "output_type": "stream",
     "text": [
      "Epoch 210, Loss 0.0385\n",
      "Training Accuracy: 0.9594, Testing Accuracy: 0.9642\n",
      "\n"
     ]
    },
    {
     "name": "stdout",
     "output_type": "stream",
     "text": [
      "Epoch 220, Loss 0.038\n",
      "Training Accuracy: 0.9596, Testing Accuracy: 0.9642\n",
      "\n"
     ]
    },
    {
     "name": "stdout",
     "output_type": "stream",
     "text": [
      "Epoch 230, Loss 0.0376\n",
      "Training Accuracy: 0.9600, Testing Accuracy: 0.9642\n",
      "\n"
     ]
    },
    {
     "name": "stdout",
     "output_type": "stream",
     "text": [
      "Epoch 240, Loss 0.0373\n",
      "Training Accuracy: 0.9608, Testing Accuracy: 0.9642\n",
      "\n"
     ]
    },
    {
     "data": {
      "text/plain": [
       "0.020494385752126743"
      ]
     },
     "execution_count": 23,
     "metadata": {},
     "output_type": "execute_result"
    }
   ],
   "source": [
    "lr_learner.train_loop(dl)"
   ]
  },
  {
   "cell_type": "code",
   "execution_count": 24,
   "id": "ca410940",
   "metadata": {
    "execution": {
     "iopub.execute_input": "2021-12-22T00:26:50.583360Z",
     "iopub.status.busy": "2021-12-22T00:26:50.582733Z",
     "iopub.status.idle": "2021-12-22T00:26:50.838649Z",
     "shell.execute_reply": "2021-12-22T00:26:50.839462Z"
    },
    "papermill": {
     "duration": 0.313804,
     "end_time": "2021-12-22T00:26:50.839622",
     "exception": false,
     "start_time": "2021-12-22T00:26:50.525818",
     "status": "completed"
    },
    "tags": []
   },
   "outputs": [
    {
     "data": {
      "text/plain": [
       "<matplotlib.legend.Legend at 0x7f24c757bc50>"
      ]
     },
     "execution_count": 24,
     "metadata": {},
     "output_type": "execute_result"
    },
    {
     "data": {
      "image/png": "[encoded data removed]",
      "text/plain": [
       "<Figure size 1080x720 with 1 Axes>"
      ]
     },
     "metadata": {
      "needs_background": "light"
     },
     "output_type": "display_data"
    }
   ],
   "source": [
    "#comparing the results of NN and LR\n",
    "plt.figure(figsize=(15,10))\n",
    "\n",
    "# Neural Network plots\n",
    "plt.plot(acc_nn.accuracies, 'r-', label = \"Training Accuracies - NN\")\n",
    "plt.plot(acc_nn.test_accuracies, 'g-', label = \"Testing Accuracies - NN\")\n",
    "\n",
    "# Logistic Regression plots\n",
    "plt.plot(acc_lr.accuracies, 'k-', label = \"Training Accuracies - LR\")\n",
    "plt.plot(acc_lr.test_accuracies, 'b-', label = \"Testing Accuracies - LR\")\n",
    "plt.legend()"
   ]
  },
  {
   "cell_type": "markdown",
   "id": "80dfb35c",
   "metadata": {
    "papermill": {
     "duration": 0.04473,
     "end_time": "2021-12-22T00:26:50.929345",
     "exception": false,
     "start_time": "2021-12-22T00:26:50.884615",
     "status": "completed"
    },
    "tags": []
   },
   "source": [
    "#### Plotting the outputs of this layer of the NN.\n"
   ]
  },
  {
   "cell_type": "code",
   "execution_count": 25,
   "id": "45eb2ff5",
   "metadata": {
    "execution": {
     "iopub.execute_input": "2021-12-22T00:26:51.032744Z",
     "iopub.status.busy": "2021-12-22T00:26:51.031602Z",
     "iopub.status.idle": "2021-12-22T00:26:51.050614Z",
     "shell.execute_reply": "2021-12-22T00:26:51.051102Z"
    },
    "papermill": {
     "duration": 0.075941,
     "end_time": "2021-12-22T00:26:51.051254",
     "exception": false,
     "start_time": "2021-12-22T00:26:50.975313",
     "status": "completed"
    },
    "tags": []
   },
   "outputs": [],
   "source": [
    "new_model = Model(layers[:-2])\n",
    "testing_plot = new_model(testing_data_x)"
   ]
  },
  {
   "cell_type": "code",
   "execution_count": 26,
   "id": "4c0a5485",
   "metadata": {
    "execution": {
     "iopub.execute_input": "2021-12-22T00:26:51.149337Z",
     "iopub.status.busy": "2021-12-22T00:26:51.148672Z",
     "iopub.status.idle": "2021-12-22T00:26:51.371630Z",
     "shell.execute_reply": "2021-12-22T00:26:51.372173Z"
    },
    "papermill": {
     "duration": 0.273912,
     "end_time": "2021-12-22T00:26:51.372336",
     "exception": false,
     "start_time": "2021-12-22T00:26:51.098424",
     "status": "completed"
    },
    "tags": []
   },
   "outputs": [
    {
     "data": {
      "text/plain": [
       "Text(0.5, 1.0, 'Outputs')"
      ]
     },
     "execution_count": 26,
     "metadata": {},
     "output_type": "execute_result"
    },
    {
     "data": {
      "image/png": "[encoded data removed]",
      "text/plain": [
       "<Figure size 576x504 with 1 Axes>"
      ]
     },
     "metadata": {
      "needs_background": "light"
     },
     "output_type": "display_data"
    }
   ],
   "source": [
    "# Plotting the scatter plot of points and color coding by class\n",
    "plt.figure(figsize=(8,7))\n",
    "plt.scatter(testing_plot[:,0], testing_plot[:,1], alpha = 0.1, c = y_test.ravel());\n",
    "plt.title('Outputs')"
   ]
  },
  {
   "cell_type": "markdown",
   "id": "a74fcf8f",
   "metadata": {
    "papermill": {
     "duration": 0.049195,
     "end_time": "2021-12-22T00:26:51.469901",
     "exception": false,
     "start_time": "2021-12-22T00:26:51.420706",
     "status": "completed"
    },
    "tags": []
   },
   "source": [
    "Probability contours"
   ]
  },
  {
   "cell_type": "code",
   "execution_count": 27,
   "id": "d0afc8e3",
   "metadata": {
    "execution": {
     "iopub.execute_input": "2021-12-22T00:26:51.575266Z",
     "iopub.status.busy": "2021-12-22T00:26:51.573611Z",
     "iopub.status.idle": "2021-12-22T00:26:51.586465Z",
     "shell.execute_reply": "2021-12-22T00:26:51.585976Z"
    },
    "papermill": {
     "duration": 0.067039,
     "end_time": "2021-12-22T00:26:51.586595",
     "exception": false,
     "start_time": "2021-12-22T00:26:51.519556",
     "status": "completed"
    },
    "tags": []
   },
   "outputs": [],
   "source": [
    "model_prob = Model(layers[-2:]) "
   ]
  },
  {
   "cell_type": "code",
   "execution_count": 28,
   "id": "9b96e238",
   "metadata": {
    "execution": {
     "iopub.execute_input": "2021-12-22T00:26:51.692692Z",
     "iopub.status.busy": "2021-12-22T00:26:51.692071Z",
     "iopub.status.idle": "2021-12-22T00:26:51.710938Z",
     "shell.execute_reply": "2021-12-22T00:26:51.711473Z"
    },
    "papermill": {
     "duration": 0.073953,
     "end_time": "2021-12-22T00:26:51.711629",
     "exception": false,
     "start_time": "2021-12-22T00:26:51.637676",
     "status": "completed"
    },
    "tags": []
   },
   "outputs": [],
   "source": [
    "#creating the x and y ranges according to the above generated plot.\n",
    "x_range = np.linspace(-4, 1, 100) \n",
    "y_range = np.linspace(-6, 6, 100) \n",
    "x_grid, y_grid = np.meshgrid(x_range, y_range) # x_grid and y_grig are of size 100 X 100\n",
    "\n",
    "# converting x_grid and y_grid to continuous arrays\n",
    "x_gridflat = np.ravel(x_grid)\n",
    "y_gridflat = np.ravel(y_grid)\n",
    "\n",
    "# The last layer of the current model takes two columns as input. Hence transpose of np.vstack() is required.\n",
    "X = np.vstack((x_gridflat, y_gridflat)).T\n",
    "\n",
    "prob_contour = model_prob(X).reshape(100,100) "
   ]
  },
  {
   "cell_type": "code",
   "execution_count": 29,
   "id": "da72499a",
   "metadata": {
    "execution": {
     "iopub.execute_input": "2021-12-22T00:26:51.843311Z",
     "iopub.status.busy": "2021-12-22T00:26:51.842744Z",
     "iopub.status.idle": "2021-12-22T00:26:52.123392Z",
     "shell.execute_reply": "2021-12-22T00:26:52.122637Z"
    },
    "papermill": {
     "duration": 0.362076,
     "end_time": "2021-12-22T00:26:52.123585",
     "exception": false,
     "start_time": "2021-12-22T00:26:51.761509",
     "status": "completed"
    },
    "tags": []
   },
   "outputs": [
    {
     "data": {
      "image/png": "[encoded data removed]",
      "text/plain": [
       "<Figure size 720x648 with 1 Axes>"
      ]
     },
     "metadata": {
      "needs_background": "light"
     },
     "output_type": "display_data"
    }
   ],
   "source": [
    "plt.figure(figsize=(10,9))\n",
    "plt.scatter(testing_plot[:,0], testing_plot[:,1], alpha = 0.1, c = y_test.ravel())\n",
    "contours = plt.contour(x_grid,y_grid,prob_contour)\n",
    "plt.title('Probability Contours')\n",
    "plt.clabel(contours, inline = True );"
   ]
  },
  {
   "cell_type": "code",
   "execution_count": null,
   "id": "e81b4ac7",
   "metadata": {
    "papermill": {
     "duration": 0.051775,
     "end_time": "2021-12-22T00:26:52.227166",
     "exception": false,
     "start_time": "2021-12-22T00:26:52.175391",
     "status": "completed"
    },
    "tags": []
   },
   "outputs": [],
   "source": []
  }
 ],
 "metadata": {
  "kernelspec": {
   "display_name": "Python 3",
   "language": "python",
   "name": "python3"
  },
  "language_info": {
   "codemirror_mode": {
    "name": "ipython",
    "version": 3
   },
   "file_extension": ".py",
   "mimetype": "text/x-python",
   "name": "python",
   "nbconvert_exporter": "python",
   "pygments_lexer": "ipython3",
   "version": "3.6.15"
  },
  "papermill": {
   "default_parameters": {},
   "duration": 107.916448,
   "end_time": "2021-12-22T00:26:52.688388",
   "environment_variables": {},
   "exception": null,
   "input_path": "2020-08-11-part2.ipynb",
   "output_path": "2020-08-11-part2.ipynb",
   "parameters": {},
   "start_time": "2021-12-22T00:25:04.771940",
   "version": "2.3.3"
  }
 },
 "nbformat": 4,
 "nbformat_minor": 5
}