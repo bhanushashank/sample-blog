{
 "cells": [
  {
   "cell_type": "markdown",
   "id": "98380cd3",
   "metadata": {
    "papermill": {
     "duration": 0.028853,
     "end_time": "2022-03-01T20:09:39.833000",
     "exception": false,
     "start_time": "2022-03-01T20:09:39.804147",
     "status": "completed"
    },
    "tags": []
   },
   "source": [
    "# Distinguish Your Own Digits (DYOD)"
   ]
  },
  {
   "cell_type": "markdown",
   "id": "ef31240d",
   "metadata": {
    "papermill": {
     "duration": 0.022164,
     "end_time": "2022-03-01T20:09:39.876846",
     "exception": false,
     "start_time": "2022-03-01T20:09:39.854682",
     "status": "completed"
    },
    "tags": []
   },
   "source": [
    "You are going to write a classifier that distinguishes between the number 3 and number 8."
   ]
  },
  {
   "cell_type": "code",
   "execution_count": 1,
   "id": "b15c8646",
   "metadata": {
    "execution": {
     "iopub.execute_input": "2022-03-01T20:09:39.928607Z",
     "iopub.status.busy": "2022-03-01T20:09:39.926054Z",
     "iopub.status.idle": "2022-03-01T20:09:39.938358Z",
     "shell.execute_reply": "2022-03-01T20:09:39.938716Z"
    },
    "papermill": {
     "duration": 0.041287,
     "end_time": "2022-03-01T20:09:39.938866",
     "exception": false,
     "start_time": "2022-03-01T20:09:39.897579",
     "status": "completed"
    },
    "tags": []
   },
   "outputs": [],
   "source": [
    "%load_ext autoreload\n",
    "%autoreload 2"
   ]
  },
  {
   "cell_type": "code",
   "execution_count": 2,
   "id": "22ef38dc",
   "metadata": {
    "execution": {
     "iopub.execute_input": "2022-03-01T20:09:39.996877Z",
     "iopub.status.busy": "2022-03-01T20:09:39.994524Z",
     "iopub.status.idle": "2022-03-01T20:09:40.579894Z",
     "shell.execute_reply": "2022-03-01T20:09:40.579367Z"
    },
    "papermill": {
     "duration": 0.619949,
     "end_time": "2022-03-01T20:09:40.580056",
     "exception": false,
     "start_time": "2022-03-01T20:09:39.960107",
     "status": "completed"
    },
    "tags": []
   },
   "outputs": [],
   "source": [
    "%matplotlib inline\n",
    "import numpy as np\n",
    "import matplotlib.pyplot as plt\n",
    "import pandas as pd"
   ]
  },
  {
   "cell_type": "markdown",
   "id": "ba036198",
   "metadata": {
    "papermill": {
     "duration": 0.020977,
     "end_time": "2022-03-01T20:09:40.623586",
     "exception": false,
     "start_time": "2022-03-01T20:09:40.602609",
     "status": "completed"
    },
    "tags": []
   },
   "source": [
    "From the command line run `pip install mnist`. This is a library that will help you bring down the mnist dataset. If you run this from a notebook, you need to put  `!pip install mnist` in a cell by itself."
   ]
  },
  {
   "cell_type": "code",
   "execution_count": 3,
   "id": "bb6ad8a1",
   "metadata": {
    "execution": {
     "iopub.execute_input": "2022-03-01T20:09:40.670024Z",
     "iopub.status.busy": "2022-03-01T20:09:40.669553Z",
     "iopub.status.idle": "2022-03-01T20:09:42.281428Z",
     "shell.execute_reply": "2022-03-01T20:09:42.280294Z"
    },
    "papermill": {
     "duration": 1.636716,
     "end_time": "2022-03-01T20:09:42.281561",
     "exception": false,
     "start_time": "2022-03-01T20:09:40.644845",
     "status": "completed"
    },
    "tags": []
   },
   "outputs": [
    {
     "name": "stdout",
     "output_type": "stream",
     "text": [
      "Collecting mnist\r\n"
     ]
    },
    {
     "name": "stdout",
     "output_type": "stream",
     "text": [
      "  Downloading mnist-0.2.2-py2.py3-none-any.whl (3.5 kB)\r\n",
      "Requirement already satisfied: numpy in /opt/hostedtoolcache/Python/3.6.15/x64/lib/python3.6/site-packages (from mnist) (1.19.5)\r\n"
     ]
    },
    {
     "name": "stdout",
     "output_type": "stream",
     "text": [
      "Installing collected packages: mnist\r\n"
     ]
    },
    {
     "name": "stdout",
     "output_type": "stream",
     "text": [
      "Successfully installed mnist-0.2.2\r\n"
     ]
    }
   ],
   "source": [
    "!pip install mnist"
   ]
  },
  {
   "cell_type": "markdown",
   "id": "69df9c9a",
   "metadata": {
    "papermill": {
     "duration": 0.024869,
     "end_time": "2022-03-01T20:09:42.331550",
     "exception": false,
     "start_time": "2022-03-01T20:09:42.306681",
     "status": "completed"
    },
    "tags": []
   },
   "source": [
    "## Preparing the Data"
   ]
  },
  {
   "cell_type": "code",
   "execution_count": 4,
   "id": "7f69d806",
   "metadata": {
    "execution": {
     "iopub.execute_input": "2022-03-01T20:09:42.389082Z",
     "iopub.status.busy": "2022-03-01T20:09:42.384924Z",
     "iopub.status.idle": "2022-03-01T20:09:42.398848Z",
     "shell.execute_reply": "2022-03-01T20:09:42.398436Z"
    },
    "papermill": {
     "duration": 0.042489,
     "end_time": "2022-03-01T20:09:42.398952",
     "exception": false,
     "start_time": "2022-03-01T20:09:42.356463",
     "status": "completed"
    },
    "tags": []
   },
   "outputs": [],
   "source": [
    "import mnist"
   ]
  },
  {
   "cell_type": "code",
   "execution_count": 5,
   "id": "a411e44f",
   "metadata": {
    "execution": {
     "iopub.execute_input": "2022-03-01T20:09:42.450739Z",
     "iopub.status.busy": "2022-03-01T20:09:42.450271Z",
     "iopub.status.idle": "2022-03-01T20:09:43.240504Z",
     "shell.execute_reply": "2022-03-01T20:09:43.239904Z"
    },
    "papermill": {
     "duration": 0.819664,
     "end_time": "2022-03-01T20:09:43.240639",
     "exception": false,
     "start_time": "2022-03-01T20:09:42.420975",
     "status": "completed"
    },
    "tags": []
   },
   "outputs": [],
   "source": [
    "train_images = mnist.train_images()\n",
    "train_labels = mnist.train_labels()"
   ]
  },
  {
   "cell_type": "code",
   "execution_count": 6,
   "id": "dceab3a5",
   "metadata": {
    "execution": {
     "iopub.execute_input": "2022-03-01T20:09:43.289173Z",
     "iopub.status.busy": "2022-03-01T20:09:43.288706Z",
     "iopub.status.idle": "2022-03-01T20:09:43.303448Z",
     "shell.execute_reply": "2022-03-01T20:09:43.303048Z"
    },
    "papermill": {
     "duration": 0.040197,
     "end_time": "2022-03-01T20:09:43.303551",
     "exception": false,
     "start_time": "2022-03-01T20:09:43.263354",
     "status": "completed"
    },
    "tags": []
   },
   "outputs": [
    {
     "data": {
      "text/plain": [
       "((60000, 28, 28), (60000,))"
      ]
     },
     "execution_count": 6,
     "metadata": {},
     "output_type": "execute_result"
    }
   ],
   "source": [
    "train_images.shape, train_labels.shape"
   ]
  },
  {
   "cell_type": "code",
   "execution_count": 7,
   "id": "f50dc2bb",
   "metadata": {
    "execution": {
     "iopub.execute_input": "2022-03-01T20:09:43.356036Z",
     "iopub.status.busy": "2022-03-01T20:09:43.355524Z",
     "iopub.status.idle": "2022-03-01T20:09:43.698756Z",
     "shell.execute_reply": "2022-03-01T20:09:43.697596Z"
    },
    "papermill": {
     "duration": 0.372985,
     "end_time": "2022-03-01T20:09:43.698901",
     "exception": false,
     "start_time": "2022-03-01T20:09:43.325916",
     "status": "completed"
    },
    "tags": []
   },
   "outputs": [],
   "source": [
    "test_images = mnist.test_images()\n",
    "test_labels = mnist.test_labels()"
   ]
  },
  {
   "cell_type": "code",
   "execution_count": 8,
   "id": "fc38cf1b",
   "metadata": {
    "execution": {
     "iopub.execute_input": "2022-03-01T20:09:43.748949Z",
     "iopub.status.busy": "2022-03-01T20:09:43.746917Z",
     "iopub.status.idle": "2022-03-01T20:09:43.758489Z",
     "shell.execute_reply": "2022-03-01T20:09:43.758040Z"
    },
    "papermill": {
     "duration": 0.036886,
     "end_time": "2022-03-01T20:09:43.758602",
     "exception": false,
     "start_time": "2022-03-01T20:09:43.721716",
     "status": "completed"
    },
    "tags": []
   },
   "outputs": [
    {
     "data": {
      "text/plain": [
       "((10000, 28, 28), (10000,))"
      ]
     },
     "execution_count": 8,
     "metadata": {},
     "output_type": "execute_result"
    }
   ],
   "source": [
    "test_images.shape, test_labels.shape"
   ]
  },
  {
   "cell_type": "code",
   "execution_count": 9,
   "id": "f9ed8fe0",
   "metadata": {
    "execution": {
     "iopub.execute_input": "2022-03-01T20:09:43.814530Z",
     "iopub.status.busy": "2022-03-01T20:09:43.814043Z",
     "iopub.status.idle": "2022-03-01T20:09:43.949034Z",
     "shell.execute_reply": "2022-03-01T20:09:43.949514Z"
    },
    "papermill": {
     "duration": 0.165715,
     "end_time": "2022-03-01T20:09:43.949737",
     "exception": false,
     "start_time": "2022-03-01T20:09:43.784022",
     "status": "completed"
    },
    "tags": []
   },
   "outputs": [
    {
     "name": "stdout",
     "output_type": "stream",
     "text": [
      "2\n"
     ]
    },
    {
     "data": {
      "text/plain": [
       "<matplotlib.image.AxesImage at 0x7fc67aad5a58>"
      ]
     },
     "execution_count": 9,
     "metadata": {},
     "output_type": "execute_result"
    },
    {
     "data": {
      "image/png": "[encoded data removed]",
      "text/plain": [
       "<Figure size 432x288 with 1 Axes>"
      ]
     },
     "metadata": {
      "needs_background": "light"
     },
     "output_type": "display_data"
    }
   ],
   "source": [
    "image_index = 7776 # You may select anything up to 60,000\n",
    "print(train_labels[image_index]) \n",
    "plt.imshow(train_images[image_index], cmap='Greys')"
   ]
  },
  {
   "cell_type": "markdown",
   "id": "a8d2388d",
   "metadata": {
    "papermill": {
     "duration": 0.023472,
     "end_time": "2022-03-01T20:09:43.997998",
     "exception": false,
     "start_time": "2022-03-01T20:09:43.974526",
     "status": "completed"
    },
    "tags": []
   },
   "source": [
    "## Filter data to get 3 and 8 out"
   ]
  },
  {
   "cell_type": "code",
   "execution_count": 10,
   "id": "776f7fc7",
   "metadata": {
    "execution": {
     "iopub.execute_input": "2022-03-01T20:09:44.048879Z",
     "iopub.status.busy": "2022-03-01T20:09:44.048405Z",
     "iopub.status.idle": "2022-03-01T20:09:44.063737Z",
     "shell.execute_reply": "2022-03-01T20:09:44.063350Z"
    },
    "papermill": {
     "duration": 0.042503,
     "end_time": "2022-03-01T20:09:44.063848",
     "exception": false,
     "start_time": "2022-03-01T20:09:44.021345",
     "status": "completed"
    },
    "tags": []
   },
   "outputs": [],
   "source": [
    "train_filter = np.where((train_labels == 3 ) | (train_labels == 8))\n",
    "test_filter = np.where((test_labels == 3) | (test_labels == 8))\n",
    "X_train, y_train = train_images[train_filter], train_labels[train_filter]\n",
    "X_test, y_test = test_images[test_filter], test_labels[test_filter]"
   ]
  },
  {
   "cell_type": "markdown",
   "id": "948f0b7e",
   "metadata": {
    "papermill": {
     "duration": 0.023174,
     "end_time": "2022-03-01T20:09:44.110611",
     "exception": false,
     "start_time": "2022-03-01T20:09:44.087437",
     "status": "completed"
    },
    "tags": []
   },
   "source": [
    "We normalize the pizel values in the 0 to 1 range"
   ]
  },
  {
   "cell_type": "code",
   "execution_count": 11,
   "id": "ee4c2166",
   "metadata": {
    "execution": {
     "iopub.execute_input": "2022-03-01T20:09:44.161152Z",
     "iopub.status.busy": "2022-03-01T20:09:44.160683Z",
     "iopub.status.idle": "2022-03-01T20:09:44.207885Z",
     "shell.execute_reply": "2022-03-01T20:09:44.207355Z"
    },
    "papermill": {
     "duration": 0.074225,
     "end_time": "2022-03-01T20:09:44.208054",
     "exception": false,
     "start_time": "2022-03-01T20:09:44.133829",
     "status": "completed"
    },
    "tags": []
   },
   "outputs": [],
   "source": [
    "X_train = X_train/255.\n",
    "X_test = X_test/255."
   ]
  },
  {
   "cell_type": "markdown",
   "id": "ddcf4fab",
   "metadata": {
    "papermill": {
     "duration": 0.023262,
     "end_time": "2022-03-01T20:09:44.255052",
     "exception": false,
     "start_time": "2022-03-01T20:09:44.231790",
     "status": "completed"
    },
    "tags": []
   },
   "source": [
    "And setup the labels as 1 (when the digit is 3) and 0 (when the digit is 8)"
   ]
  },
  {
   "cell_type": "code",
   "execution_count": 12,
   "id": "7dc908f2",
   "metadata": {
    "execution": {
     "iopub.execute_input": "2022-03-01T20:09:44.305534Z",
     "iopub.status.busy": "2022-03-01T20:09:44.305071Z",
     "iopub.status.idle": "2022-03-01T20:09:44.317327Z",
     "shell.execute_reply": "2022-03-01T20:09:44.316952Z"
    },
    "papermill": {
     "duration": 0.039194,
     "end_time": "2022-03-01T20:09:44.317431",
     "exception": false,
     "start_time": "2022-03-01T20:09:44.278237",
     "status": "completed"
    },
    "tags": []
   },
   "outputs": [],
   "source": [
    "y_train = 1*(y_train==3)\n",
    "y_test = 1*(y_test==3)"
   ]
  },
  {
   "cell_type": "code",
   "execution_count": 13,
   "id": "01e4e969",
   "metadata": {
    "execution": {
     "iopub.execute_input": "2022-03-01T20:09:44.367385Z",
     "iopub.status.busy": "2022-03-01T20:09:44.366924Z",
     "iopub.status.idle": "2022-03-01T20:09:44.380348Z",
     "shell.execute_reply": "2022-03-01T20:09:44.379941Z"
    },
    "papermill": {
     "duration": 0.039808,
     "end_time": "2022-03-01T20:09:44.380452",
     "exception": false,
     "start_time": "2022-03-01T20:09:44.340644",
     "status": "completed"
    },
    "tags": []
   },
   "outputs": [
    {
     "data": {
      "text/plain": [
       "((11982, 28, 28), (1984, 28, 28))"
      ]
     },
     "execution_count": 13,
     "metadata": {},
     "output_type": "execute_result"
    }
   ],
   "source": [
    "X_train.shape, X_test.shape"
   ]
  },
  {
   "cell_type": "markdown",
   "id": "5ccf3f85",
   "metadata": {
    "papermill": {
     "duration": 0.023412,
     "end_time": "2022-03-01T20:09:44.427309",
     "exception": false,
     "start_time": "2022-03-01T20:09:44.403897",
     "status": "completed"
    },
    "tags": []
   },
   "source": [
    "We reshape the data to flatten the image pixels into a set of features or co-variates:"
   ]
  },
  {
   "cell_type": "code",
   "execution_count": 14,
   "id": "5286a4a3",
   "metadata": {
    "execution": {
     "iopub.execute_input": "2022-03-01T20:09:44.494878Z",
     "iopub.status.busy": "2022-03-01T20:09:44.494380Z",
     "iopub.status.idle": "2022-03-01T20:09:44.499319Z",
     "shell.execute_reply": "2022-03-01T20:09:44.498939Z"
    },
    "papermill": {
     "duration": 0.048671,
     "end_time": "2022-03-01T20:09:44.499427",
     "exception": false,
     "start_time": "2022-03-01T20:09:44.450756",
     "status": "completed"
    },
    "tags": []
   },
   "outputs": [
    {
     "data": {
      "text/plain": [
       "((11982, 784), (1984, 784))"
      ]
     },
     "execution_count": 14,
     "metadata": {},
     "output_type": "execute_result"
    }
   ],
   "source": [
    "X_train = X_train.reshape(X_train.shape[0], -1)\n",
    "X_test = X_test.reshape(X_test.shape[0], -1)\n",
    "X_train.shape, X_test.shape"
   ]
  },
  {
   "cell_type": "code",
   "execution_count": 15,
   "id": "73c5f88a",
   "metadata": {
    "execution": {
     "iopub.execute_input": "2022-03-01T20:09:44.551538Z",
     "iopub.status.busy": "2022-03-01T20:09:44.551074Z",
     "iopub.status.idle": "2022-03-01T20:09:44.569509Z",
     "shell.execute_reply": "2022-03-01T20:09:44.569125Z"
    },
    "papermill": {
     "duration": 0.046249,
     "end_time": "2022-03-01T20:09:44.569615",
     "exception": false,
     "start_time": "2022-03-01T20:09:44.523366",
     "status": "completed"
    },
    "tags": []
   },
   "outputs": [],
   "source": [
    "#Impoting functions from 'Kudzu'\n",
    "from kudzu.model import Model\n",
    "from kudzu.train import Learner\n",
    "from kudzu.optim import GD\n",
    "from kudzu.data import Data, Sampler,Dataloader\n",
    "\n",
    "from kudzu.callbacks import AccCallback\n",
    "from kudzu.callbacks import ClfCallback\n",
    "\n",
    "from kudzu.loss import MSE\n",
    "\n",
    "from kudzu.layer import Sigmoid,Relu\n",
    "from kudzu.layer import Affine"
   ]
  },
  {
   "cell_type": "markdown",
   "id": "bc01172a",
   "metadata": {
    "papermill": {
     "duration": 0.023665,
     "end_time": "2022-03-01T20:09:44.617258",
     "exception": false,
     "start_time": "2022-03-01T20:09:44.593593",
     "status": "completed"
    },
    "tags": []
   },
   "source": [
    "### Let us create a `Config` class, to store important parameters. \n",
    "This class essentially plays the role of a dictionary."
   ]
  },
  {
   "cell_type": "code",
   "execution_count": 16,
   "id": "978281aa",
   "metadata": {
    "execution": {
     "iopub.execute_input": "2022-03-01T20:09:44.681136Z",
     "iopub.status.busy": "2022-03-01T20:09:44.680638Z",
     "iopub.status.idle": "2022-03-01T20:09:44.686113Z",
     "shell.execute_reply": "2022-03-01T20:09:44.686482Z"
    },
    "papermill": {
     "duration": 0.045496,
     "end_time": "2022-03-01T20:09:44.686603",
     "exception": false,
     "start_time": "2022-03-01T20:09:44.641107",
     "status": "completed"
    },
    "tags": []
   },
   "outputs": [],
   "source": [
    "class Config:\n",
    "    pass\n",
    "config = Config()\n",
    "config.lr = 0.001\n",
    "config.num_epochs = 250\n",
    "config.bs = 50"
   ]
  },
  {
   "cell_type": "markdown",
   "id": "1385fa59",
   "metadata": {
    "papermill": {
     "duration": 0.023653,
     "end_time": "2022-03-01T20:09:44.734156",
     "exception": false,
     "start_time": "2022-03-01T20:09:44.710503",
     "status": "completed"
    },
    "tags": []
   },
   "source": [
    "### Running Models with the Training data\n",
    "Details about the network layers:\n",
    "- A first affine layer has 784 inputs and does 100 affine transforms. These are followed by a Relu\n",
    "- A second affine layer has 100 inputs from the 100 activations of the past layer, and does 100 affine transforms. These are followed by a Relu\n",
    "- A third affine layer has 100 activations and does 2 affine transformations to create an embedding for visualization. There is no non-linearity here.\n",
    "- A final \"logistic regression\" which has an affine transform from 2 inputs to 1 output, which is squeezed through a sigmoid.\n"
   ]
  },
  {
   "cell_type": "code",
   "execution_count": 17,
   "id": "2b9c66db",
   "metadata": {
    "execution": {
     "iopub.execute_input": "2022-03-01T20:09:44.799328Z",
     "iopub.status.busy": "2022-03-01T20:09:44.785060Z",
     "iopub.status.idle": "2022-03-01T20:09:44.801670Z",
     "shell.execute_reply": "2022-03-01T20:09:44.801293Z"
    },
    "papermill": {
     "duration": 0.043868,
     "end_time": "2022-03-01T20:09:44.801779",
     "exception": false,
     "start_time": "2022-03-01T20:09:44.757911",
     "status": "completed"
    },
    "tags": []
   },
   "outputs": [],
   "source": [
    "data = Data(X_train, y_train.reshape(-1,1))\n",
    "sampler = Sampler(data, config.bs, shuffle=True)\n",
    "\n",
    "dl = Dataloader(data, sampler)\n",
    "\n",
    "opt = GD(config.lr)\n",
    "loss = MSE()"
   ]
  },
  {
   "cell_type": "code",
   "execution_count": 18,
   "id": "b275e4c2",
   "metadata": {
    "execution": {
     "iopub.execute_input": "2022-03-01T20:09:44.865521Z",
     "iopub.status.busy": "2022-03-01T20:09:44.860808Z",
     "iopub.status.idle": "2022-03-01T20:09:44.868272Z",
     "shell.execute_reply": "2022-03-01T20:09:44.867867Z"
    },
    "papermill": {
     "duration": 0.042735,
     "end_time": "2022-03-01T20:09:44.868380",
     "exception": false,
     "start_time": "2022-03-01T20:09:44.825645",
     "status": "completed"
    },
    "tags": []
   },
   "outputs": [],
   "source": [
    "training_data_x = X_train\n",
    "testing_data_x = X_test\n",
    "training_data_y = y_train.reshape(-1,1)\n",
    "testing_data_y = y_test.reshape(-1,1)"
   ]
  },
  {
   "cell_type": "code",
   "execution_count": 19,
   "id": "76951160",
   "metadata": {
    "execution": {
     "iopub.execute_input": "2022-03-01T20:09:44.929852Z",
     "iopub.status.busy": "2022-03-01T20:09:44.929289Z",
     "iopub.status.idle": "2022-03-01T20:09:44.941661Z",
     "shell.execute_reply": "2022-03-01T20:09:44.941222Z"
    },
    "papermill": {
     "duration": 0.049638,
     "end_time": "2022-03-01T20:09:44.941775",
     "exception": false,
     "start_time": "2022-03-01T20:09:44.892137",
     "status": "completed"
    },
    "tags": []
   },
   "outputs": [
    {
     "name": "stdout",
     "output_type": "stream",
     "text": [
      "xavier\n",
      "xavier\n",
      "xavier\n",
      "xavier\n",
      "xavier\n"
     ]
    }
   ],
   "source": [
    "layers = [Affine(\"first\", 784, 100), Relu(\"first\"), Affine(\"second\", 100, 100), Relu(\"second\"), Affine(\"third\", 100, 2), Affine(\"last\", 2, 1), Sigmoid(\"last\")]\n",
    "model_nn = Model(layers)\n",
    "model_lr = Model([Affine(\"logits\", 784, 1), Sigmoid(\"sigmoid\")])"
   ]
  },
  {
   "cell_type": "code",
   "execution_count": 20,
   "id": "6eede77a",
   "metadata": {
    "execution": {
     "iopub.execute_input": "2022-03-01T20:09:45.009298Z",
     "iopub.status.busy": "2022-03-01T20:09:45.007741Z",
     "iopub.status.idle": "2022-03-01T20:09:45.015087Z",
     "shell.execute_reply": "2022-03-01T20:09:45.014646Z"
    },
    "papermill": {
     "duration": 0.046086,
     "end_time": "2022-03-01T20:09:45.015201",
     "exception": false,
     "start_time": "2022-03-01T20:09:44.969115",
     "status": "completed"
    },
    "tags": []
   },
   "outputs": [],
   "source": [
    "nn_learner = Learner(loss, model_nn, opt, config.num_epochs)\n",
    "acc_nn = ClfCallback(nn_learner, config.bs, training_data_x , testing_data_x, training_data_y, testing_data_y)\n",
    "nn_learner.set_callbacks([acc_nn])"
   ]
  },
  {
   "cell_type": "code",
   "execution_count": 21,
   "id": "877b6cc7",
   "metadata": {
    "execution": {
     "iopub.execute_input": "2022-03-01T20:09:45.080558Z",
     "iopub.status.busy": "2022-03-01T20:09:45.079505Z",
     "iopub.status.idle": "2022-03-01T20:09:45.088201Z",
     "shell.execute_reply": "2022-03-01T20:09:45.087752Z"
    },
    "papermill": {
     "duration": 0.045809,
     "end_time": "2022-03-01T20:09:45.088322",
     "exception": false,
     "start_time": "2022-03-01T20:09:45.042513",
     "status": "completed"
    },
    "tags": []
   },
   "outputs": [],
   "source": [
    "lr_learner = Learner(loss, model_lr, opt, config.num_epochs)\n",
    "acc_lr = ClfCallback(lr_learner, config.bs, training_data_x , testing_data_x, training_data_y, testing_data_y)\n",
    "lr_learner.set_callbacks([acc_lr])"
   ]
  },
  {
   "cell_type": "code",
   "execution_count": 22,
   "id": "d9b133c3",
   "metadata": {
    "execution": {
     "iopub.execute_input": "2022-03-01T20:09:45.146436Z",
     "iopub.status.busy": "2022-03-01T20:09:45.145919Z",
     "iopub.status.idle": "2022-03-01T20:11:02.583702Z",
     "shell.execute_reply": "2022-03-01T20:11:02.584395Z"
    },
    "papermill": {
     "duration": 77.468937,
     "end_time": "2022-03-01T20:11:02.584531",
     "exception": false,
     "start_time": "2022-03-01T20:09:45.115594",
     "status": "completed"
    },
    "tags": []
   },
   "outputs": [
    {
     "name": "stdout",
     "output_type": "stream",
     "text": [
      "Epoch 0, Loss 0.2241\n",
      "Training Accuracy: 0.7532, Testing Accuracy: 0.7969\n",
      "\n"
     ]
    },
    {
     "name": "stdout",
     "output_type": "stream",
     "text": [
      "Epoch 10, Loss 0.0656\n",
      "Training Accuracy: 0.9379, Testing Accuracy: 0.9446\n",
      "\n"
     ]
    },
    {
     "name": "stdout",
     "output_type": "stream",
     "text": [
      "Epoch 20, Loss 0.0455\n",
      "Training Accuracy: 0.9522, Testing Accuracy: 0.9602\n",
      "\n"
     ]
    },
    {
     "name": "stdout",
     "output_type": "stream",
     "text": [
      "Epoch 30, Loss 0.038\n",
      "Training Accuracy: 0.9590, Testing Accuracy: 0.9642\n",
      "\n"
     ]
    },
    {
     "name": "stdout",
     "output_type": "stream",
     "text": [
      "Epoch 40, Loss 0.0339\n",
      "Training Accuracy: 0.9628, Testing Accuracy: 0.9662\n",
      "\n"
     ]
    },
    {
     "name": "stdout",
     "output_type": "stream",
     "text": [
      "Epoch 50, Loss 0.0312\n",
      "Training Accuracy: 0.9648, Testing Accuracy: 0.9708\n",
      "\n"
     ]
    },
    {
     "name": "stdout",
     "output_type": "stream",
     "text": [
      "Epoch 60, Loss 0.0292\n",
      "Training Accuracy: 0.9667, Testing Accuracy: 0.9733\n",
      "\n"
     ]
    },
    {
     "name": "stdout",
     "output_type": "stream",
     "text": [
      "Epoch 70, Loss 0.0276\n",
      "Training Accuracy: 0.9682, Testing Accuracy: 0.9728\n",
      "\n"
     ]
    },
    {
     "name": "stdout",
     "output_type": "stream",
     "text": [
      "Epoch 80, Loss 0.0263\n",
      "Training Accuracy: 0.9698, Testing Accuracy: 0.9728\n",
      "\n"
     ]
    },
    {
     "name": "stdout",
     "output_type": "stream",
     "text": [
      "Epoch 90, Loss 0.0252\n",
      "Training Accuracy: 0.9707, Testing Accuracy: 0.9718\n",
      "\n"
     ]
    },
    {
     "name": "stdout",
     "output_type": "stream",
     "text": [
      "Epoch 100, Loss 0.0242\n",
      "Training Accuracy: 0.9720, Testing Accuracy: 0.9728\n",
      "\n"
     ]
    },
    {
     "name": "stdout",
     "output_type": "stream",
     "text": [
      "Epoch 110, Loss 0.0234\n",
      "Training Accuracy: 0.9730, Testing Accuracy: 0.9718\n",
      "\n"
     ]
    },
    {
     "name": "stdout",
     "output_type": "stream",
     "text": [
      "Epoch 120, Loss 0.0226\n",
      "Training Accuracy: 0.9735, Testing Accuracy: 0.9733\n",
      "\n"
     ]
    },
    {
     "name": "stdout",
     "output_type": "stream",
     "text": [
      "Epoch 130, Loss 0.0219\n",
      "Training Accuracy: 0.9747, Testing Accuracy: 0.9738\n",
      "\n"
     ]
    },
    {
     "name": "stdout",
     "output_type": "stream",
     "text": [
      "Epoch 140, Loss 0.0212\n",
      "Training Accuracy: 0.9760, Testing Accuracy: 0.9733\n",
      "\n"
     ]
    },
    {
     "name": "stdout",
     "output_type": "stream",
     "text": [
      "Epoch 150, Loss 0.0206\n",
      "Training Accuracy: 0.9770, Testing Accuracy: 0.9738\n",
      "\n"
     ]
    },
    {
     "name": "stdout",
     "output_type": "stream",
     "text": [
      "Epoch 160, Loss 0.02\n",
      "Training Accuracy: 0.9775, Testing Accuracy: 0.9748\n",
      "\n"
     ]
    },
    {
     "name": "stdout",
     "output_type": "stream",
     "text": [
      "Epoch 170, Loss 0.0195\n",
      "Training Accuracy: 0.9782, Testing Accuracy: 0.9748\n",
      "\n"
     ]
    },
    {
     "name": "stdout",
     "output_type": "stream",
     "text": [
      "Epoch 180, Loss 0.019\n",
      "Training Accuracy: 0.9786, Testing Accuracy: 0.9748\n",
      "\n"
     ]
    },
    {
     "name": "stdout",
     "output_type": "stream",
     "text": [
      "Epoch 190, Loss 0.0185\n",
      "Training Accuracy: 0.9791, Testing Accuracy: 0.9748\n",
      "\n"
     ]
    },
    {
     "name": "stdout",
     "output_type": "stream",
     "text": [
      "Epoch 200, Loss 0.018\n",
      "Training Accuracy: 0.9795, Testing Accuracy: 0.9753\n",
      "\n"
     ]
    },
    {
     "name": "stdout",
     "output_type": "stream",
     "text": [
      "Epoch 210, Loss 0.0176\n",
      "Training Accuracy: 0.9801, Testing Accuracy: 0.9753\n",
      "\n"
     ]
    },
    {
     "name": "stdout",
     "output_type": "stream",
     "text": [
      "Epoch 220, Loss 0.0172\n",
      "Training Accuracy: 0.9811, Testing Accuracy: 0.9753\n",
      "\n"
     ]
    },
    {
     "name": "stdout",
     "output_type": "stream",
     "text": [
      "Epoch 230, Loss 0.0167\n",
      "Training Accuracy: 0.9814, Testing Accuracy: 0.9758\n",
      "\n"
     ]
    },
    {
     "name": "stdout",
     "output_type": "stream",
     "text": [
      "Epoch 240, Loss 0.0163\n",
      "Training Accuracy: 0.9823, Testing Accuracy: 0.9763\n",
      "\n"
     ]
    },
    {
     "data": {
      "text/plain": [
       "0.0006125779909516478"
      ]
     },
     "execution_count": 22,
     "metadata": {},
     "output_type": "execute_result"
    }
   ],
   "source": [
    "nn_learner.train_loop(dl)"
   ]
  },
  {
   "cell_type": "code",
   "execution_count": 23,
   "id": "e0163366",
   "metadata": {
    "execution": {
     "iopub.execute_input": "2022-03-01T20:11:02.655319Z",
     "iopub.status.busy": "2022-03-01T20:11:02.654843Z",
     "iopub.status.idle": "2022-03-01T20:11:16.360918Z",
     "shell.execute_reply": "2022-03-01T20:11:16.361582Z"
    },
    "papermill": {
     "duration": 13.746425,
     "end_time": "2022-03-01T20:11:16.361719",
     "exception": false,
     "start_time": "2022-03-01T20:11:02.615294",
     "status": "completed"
    },
    "tags": []
   },
   "outputs": [
    {
     "name": "stdout",
     "output_type": "stream",
     "text": [
      "Epoch 0, Loss 0.2569\n",
      "Training Accuracy: 0.6284, Testing Accuracy: 0.6729\n",
      "\n"
     ]
    },
    {
     "name": "stdout",
     "output_type": "stream",
     "text": [
      "Epoch 10, Loss 0.1059\n",
      "Training Accuracy: 0.9039, Testing Accuracy: 0.9194\n",
      "\n"
     ]
    },
    {
     "name": "stdout",
     "output_type": "stream",
     "text": [
      "Epoch 20, Loss 0.0807\n",
      "Training Accuracy: 0.9251, Testing Accuracy: 0.9350\n",
      "\n"
     ]
    },
    {
     "name": "stdout",
     "output_type": "stream",
     "text": [
      "Epoch 30, Loss 0.0693\n",
      "Training Accuracy: 0.9349, Testing Accuracy: 0.9466\n",
      "\n"
     ]
    },
    {
     "name": "stdout",
     "output_type": "stream",
     "text": [
      "Epoch 40, Loss 0.0625\n",
      "Training Accuracy: 0.9398, Testing Accuracy: 0.9491\n",
      "\n"
     ]
    },
    {
     "name": "stdout",
     "output_type": "stream",
     "text": [
      "Epoch 50, Loss 0.0579\n",
      "Training Accuracy: 0.9436, Testing Accuracy: 0.9516\n",
      "\n"
     ]
    },
    {
     "name": "stdout",
     "output_type": "stream",
     "text": [
      "Epoch 60, Loss 0.0545\n",
      "Training Accuracy: 0.9462, Testing Accuracy: 0.9551\n",
      "\n"
     ]
    },
    {
     "name": "stdout",
     "output_type": "stream",
     "text": [
      "Epoch 70, Loss 0.0519\n",
      "Training Accuracy: 0.9488, Testing Accuracy: 0.9567\n",
      "\n"
     ]
    },
    {
     "name": "stdout",
     "output_type": "stream",
     "text": [
      "Epoch 80, Loss 0.0498\n",
      "Training Accuracy: 0.9506, Testing Accuracy: 0.9607\n",
      "\n"
     ]
    },
    {
     "name": "stdout",
     "output_type": "stream",
     "text": [
      "Epoch 90, Loss 0.048\n",
      "Training Accuracy: 0.9521, Testing Accuracy: 0.9617\n",
      "\n"
     ]
    },
    {
     "name": "stdout",
     "output_type": "stream",
     "text": [
      "Epoch 100, Loss 0.0466\n",
      "Training Accuracy: 0.9533, Testing Accuracy: 0.9612\n",
      "\n"
     ]
    },
    {
     "name": "stdout",
     "output_type": "stream",
     "text": [
      "Epoch 110, Loss 0.0453\n",
      "Training Accuracy: 0.9539, Testing Accuracy: 0.9617\n",
      "\n"
     ]
    },
    {
     "name": "stdout",
     "output_type": "stream",
     "text": [
      "Epoch 120, Loss 0.0442\n",
      "Training Accuracy: 0.9548, Testing Accuracy: 0.9632\n",
      "\n"
     ]
    },
    {
     "name": "stdout",
     "output_type": "stream",
     "text": [
      "Epoch 130, Loss 0.0433\n",
      "Training Accuracy: 0.9560, Testing Accuracy: 0.9632\n",
      "\n"
     ]
    },
    {
     "name": "stdout",
     "output_type": "stream",
     "text": [
      "Epoch 140, Loss 0.0424\n",
      "Training Accuracy: 0.9562, Testing Accuracy: 0.9637\n",
      "\n"
     ]
    },
    {
     "name": "stdout",
     "output_type": "stream",
     "text": [
      "Epoch 150, Loss 0.0417\n",
      "Training Accuracy: 0.9569, Testing Accuracy: 0.9647\n",
      "\n"
     ]
    },
    {
     "name": "stdout",
     "output_type": "stream",
     "text": [
      "Epoch 160, Loss 0.041\n",
      "Training Accuracy: 0.9578, Testing Accuracy: 0.9657\n",
      "\n"
     ]
    },
    {
     "name": "stdout",
     "output_type": "stream",
     "text": [
      "Epoch 170, Loss 0.0403\n",
      "Training Accuracy: 0.9583, Testing Accuracy: 0.9662\n",
      "\n"
     ]
    },
    {
     "name": "stdout",
     "output_type": "stream",
     "text": [
      "Epoch 180, Loss 0.0398\n",
      "Training Accuracy: 0.9589, Testing Accuracy: 0.9667\n",
      "\n"
     ]
    },
    {
     "name": "stdout",
     "output_type": "stream",
     "text": [
      "Epoch 190, Loss 0.0392\n",
      "Training Accuracy: 0.9592, Testing Accuracy: 0.9662\n",
      "\n"
     ]
    },
    {
     "name": "stdout",
     "output_type": "stream",
     "text": [
      "Epoch 200, Loss 0.0388\n",
      "Training Accuracy: 0.9594, Testing Accuracy: 0.9657\n",
      "\n"
     ]
    },
    {
     "name": "stdout",
     "output_type": "stream",
     "text": [
      "Epoch 210, Loss 0.0383\n",
      "Training Accuracy: 0.9598, Testing Accuracy: 0.9657\n",
      "\n"
     ]
    },
    {
     "name": "stdout",
     "output_type": "stream",
     "text": [
      "Epoch 220, Loss 0.0379\n",
      "Training Accuracy: 0.9598, Testing Accuracy: 0.9657\n",
      "\n"
     ]
    },
    {
     "name": "stdout",
     "output_type": "stream",
     "text": [
      "Epoch 230, Loss 0.0375\n",
      "Training Accuracy: 0.9600, Testing Accuracy: 0.9662\n",
      "\n"
     ]
    },
    {
     "name": "stdout",
     "output_type": "stream",
     "text": [
      "Epoch 240, Loss 0.0371\n",
      "Training Accuracy: 0.9604, Testing Accuracy: 0.9667\n",
      "\n"
     ]
    },
    {
     "data": {
      "text/plain": [
       "0.03312128990630487"
      ]
     },
     "execution_count": 23,
     "metadata": {},
     "output_type": "execute_result"
    }
   ],
   "source": [
    "lr_learner.train_loop(dl)"
   ]
  },
  {
   "cell_type": "code",
   "execution_count": 24,
   "id": "ca410940",
   "metadata": {
    "execution": {
     "iopub.execute_input": "2022-03-01T20:11:16.445231Z",
     "iopub.status.busy": "2022-03-01T20:11:16.444746Z",
     "iopub.status.idle": "2022-03-01T20:11:16.652280Z",
     "shell.execute_reply": "2022-03-01T20:11:16.651800Z"
    },
    "papermill": {
     "duration": 0.254662,
     "end_time": "2022-03-01T20:11:16.652406",
     "exception": false,
     "start_time": "2022-03-01T20:11:16.397744",
     "status": "completed"
    },
    "tags": []
   },
   "outputs": [
    {
     "data": {
      "text/plain": [
       "<matplotlib.legend.Legend at 0x7fc66d2b6cc0>"
      ]
     },
     "execution_count": 24,
     "metadata": {},
     "output_type": "execute_result"
    },
    {
     "data": {
      "image/png": "[encoded data removed]",
      "text/plain": [
       "<Figure size 1080x720 with 1 Axes>"
      ]
     },
     "metadata": {
      "needs_background": "light"
     },
     "output_type": "display_data"
    }
   ],
   "source": [
    "#comparing the results of NN and LR\n",
    "plt.figure(figsize=(15,10))\n",
    "\n",
    "# Neural Network plots\n",
    "plt.plot(acc_nn.accuracies, 'r-', label = \"Training Accuracies - NN\")\n",
    "plt.plot(acc_nn.test_accuracies, 'g-', label = \"Testing Accuracies - NN\")\n",
    "\n",
    "# Logistic Regression plots\n",
    "plt.plot(acc_lr.accuracies, 'k-', label = \"Training Accuracies - LR\")\n",
    "plt.plot(acc_lr.test_accuracies, 'b-', label = \"Testing Accuracies - LR\")\n",
    "plt.legend()"
   ]
  },
  {
   "cell_type": "markdown",
   "id": "80dfb35c",
   "metadata": {
    "papermill": {
     "duration": 0.042063,
     "end_time": "2022-03-01T20:11:16.737414",
     "exception": false,
     "start_time": "2022-03-01T20:11:16.695351",
     "status": "completed"
    },
    "tags": []
   },
   "source": [
    "#### Plotting the outputs of this layer of the NN.\n"
   ]
  },
  {
   "cell_type": "code",
   "execution_count": 25,
   "id": "45eb2ff5",
   "metadata": {
    "execution": {
     "iopub.execute_input": "2022-03-01T20:11:16.825277Z",
     "iopub.status.busy": "2022-03-01T20:11:16.824738Z",
     "iopub.status.idle": "2022-03-01T20:11:16.843912Z",
     "shell.execute_reply": "2022-03-01T20:11:16.844361Z"
    },
    "papermill": {
     "duration": 0.065188,
     "end_time": "2022-03-01T20:11:16.844496",
     "exception": false,
     "start_time": "2022-03-01T20:11:16.779308",
     "status": "completed"
    },
    "tags": []
   },
   "outputs": [],
   "source": [
    "new_model = Model(layers[:-2])\n",
    "testing_plot = new_model(testing_data_x)"
   ]
  },
  {
   "cell_type": "code",
   "execution_count": 26,
   "id": "4c0a5485",
   "metadata": {
    "execution": {
     "iopub.execute_input": "2022-03-01T20:11:16.934021Z",
     "iopub.status.busy": "2022-03-01T20:11:16.933495Z",
     "iopub.status.idle": "2022-03-01T20:11:17.132932Z",
     "shell.execute_reply": "2022-03-01T20:11:17.133306Z"
    },
    "papermill": {
     "duration": 0.246938,
     "end_time": "2022-03-01T20:11:17.133433",
     "exception": false,
     "start_time": "2022-03-01T20:11:16.886495",
     "status": "completed"
    },
    "tags": []
   },
   "outputs": [
    {
     "data": {
      "text/plain": [
       "Text(0.5, 1.0, 'Outputs')"
      ]
     },
     "execution_count": 26,
     "metadata": {},
     "output_type": "execute_result"
    },
    {
     "data": {
      "image/png": "[encoded data removed]",
      "text/plain": [
       "<Figure size 576x504 with 1 Axes>"
      ]
     },
     "metadata": {
      "needs_background": "light"
     },
     "output_type": "display_data"
    }
   ],
   "source": [
    "# Plotting the scatter plot of points and color coding by class\n",
    "plt.figure(figsize=(8,7))\n",
    "plt.scatter(testing_plot[:,0], testing_plot[:,1], alpha = 0.1, c = y_test.ravel());\n",
    "plt.title('Outputs')"
   ]
  },
  {
   "cell_type": "markdown",
   "id": "a74fcf8f",
   "metadata": {
    "papermill": {
     "duration": 0.040141,
     "end_time": "2022-03-01T20:11:17.213556",
     "exception": false,
     "start_time": "2022-03-01T20:11:17.173415",
     "status": "completed"
    },
    "tags": []
   },
   "source": [
    "Probability contours"
   ]
  },
  {
   "cell_type": "code",
   "execution_count": 27,
   "id": "d0afc8e3",
   "metadata": {
    "execution": {
     "iopub.execute_input": "2022-03-01T20:11:17.300811Z",
     "iopub.status.busy": "2022-03-01T20:11:17.296620Z",
     "iopub.status.idle": "2022-03-01T20:11:17.307327Z",
     "shell.execute_reply": "2022-03-01T20:11:17.306879Z"
    },
    "papermill": {
     "duration": 0.053962,
     "end_time": "2022-03-01T20:11:17.307439",
     "exception": false,
     "start_time": "2022-03-01T20:11:17.253477",
     "status": "completed"
    },
    "tags": []
   },
   "outputs": [],
   "source": [
    "model_prob = Model(layers[-2:]) "
   ]
  },
  {
   "cell_type": "code",
   "execution_count": 28,
   "id": "9b96e238",
   "metadata": {
    "execution": {
     "iopub.execute_input": "2022-03-01T20:11:17.429221Z",
     "iopub.status.busy": "2022-03-01T20:11:17.428702Z",
     "iopub.status.idle": "2022-03-01T20:11:17.440210Z",
     "shell.execute_reply": "2022-03-01T20:11:17.440570Z"
    },
    "papermill": {
     "duration": 0.061805,
     "end_time": "2022-03-01T20:11:17.440693",
     "exception": false,
     "start_time": "2022-03-01T20:11:17.378888",
     "status": "completed"
    },
    "tags": []
   },
   "outputs": [],
   "source": [
    "#creating the x and y ranges according to the above generated plot.\n",
    "x_range = np.linspace(-4, 1, 100) \n",
    "y_range = np.linspace(-6, 6, 100) \n",
    "x_grid, y_grid = np.meshgrid(x_range, y_range) # x_grid and y_grig are of size 100 X 100\n",
    "\n",
    "# converting x_grid and y_grid to continuous arrays\n",
    "x_gridflat = np.ravel(x_grid)\n",
    "y_gridflat = np.ravel(y_grid)\n",
    "\n",
    "# The last layer of the current model takes two columns as input. Hence transpose of np.vstack() is required.\n",
    "X = np.vstack((x_gridflat, y_gridflat)).T\n",
    "\n",
    "prob_contour = model_prob(X).reshape(100,100) "
   ]
  },
  {
   "cell_type": "code",
   "execution_count": 29,
   "id": "da72499a",
   "metadata": {
    "execution": {
     "iopub.execute_input": "2022-03-01T20:11:17.529658Z",
     "iopub.status.busy": "2022-03-01T20:11:17.529188Z",
     "iopub.status.idle": "2022-03-01T20:11:17.742560Z",
     "shell.execute_reply": "2022-03-01T20:11:17.742093Z"
    },
    "papermill": {
     "duration": 0.261928,
     "end_time": "2022-03-01T20:11:17.742687",
     "exception": false,
     "start_time": "2022-03-01T20:11:17.480759",
     "status": "completed"
    },
    "tags": []
   },
   "outputs": [
    {
     "data": {
      "image/png": "[encoded data removed]",
      "text/plain": [
       "<Figure size 720x648 with 1 Axes>"
      ]
     },
     "metadata": {
      "needs_background": "light"
     },
     "output_type": "display_data"
    }
   ],
   "source": [
    "plt.figure(figsize=(10,9))\n",
    "plt.scatter(testing_plot[:,0], testing_plot[:,1], alpha = 0.1, c = y_test.ravel())\n",
    "contours = plt.contour(x_grid,y_grid,prob_contour)\n",
    "plt.title('Probability Contours')\n",
    "plt.clabel(contours, inline = True );"
   ]
  },
  {
   "cell_type": "code",
   "execution_count": null,
   "id": "e81b4ac7",
   "metadata": {
    "papermill": {
     "duration": 0.047238,
     "end_time": "2022-03-01T20:11:17.838533",
     "exception": false,
     "start_time": "2022-03-01T20:11:17.791295",
     "status": "completed"
    },
    "tags": []
   },
   "outputs": [],
   "source": []
  }
 ],
 "metadata": {
  "kernelspec": {
   "display_name": "Python 3",
   "language": "python",
   "name": "python3"
  },
  "language_info": {
   "codemirror_mode": {
    "name": "ipython",
    "version": 3
   },
   "file_extension": ".py",
   "mimetype": "text/x-python",
   "name": "python",
   "nbconvert_exporter": "python",
   "pygments_lexer": "ipython3",
   "version": "3.6.15"
  },
  "papermill": {
   "default_parameters": {},
   "duration": 99.417558,
   "end_time": "2022-03-01T20:11:18.304051",
   "environment_variables": {},
   "exception": null,
   "input_path": "2020-08-11-part2.ipynb",
   "output_path": "2020-08-11-part2.ipynb",
   "parameters": {},
   "start_time": "2022-03-01T20:09:38.886493",
   "version": "2.3.3"
  }
 },
 "nbformat": 4,
 "nbformat_minor": 5
}