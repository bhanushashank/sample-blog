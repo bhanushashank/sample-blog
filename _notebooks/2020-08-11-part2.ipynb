{
 "cells": [
  {
   "cell_type": "markdown",
   "id": "98380cd3",
   "metadata": {
    "papermill": {
     "duration": 0.037406,
     "end_time": "2021-12-02T00:23:36.638590",
     "exception": false,
     "start_time": "2021-12-02T00:23:36.601184",
     "status": "completed"
    },
    "tags": []
   },
   "source": [
    "# Distinguish Your Own Digits (DYOD)"
   ]
  },
  {
   "cell_type": "markdown",
   "id": "ef31240d",
   "metadata": {
    "papermill": {
     "duration": 0.027754,
     "end_time": "2021-12-02T00:23:36.694664",
     "exception": false,
     "start_time": "2021-12-02T00:23:36.666910",
     "status": "completed"
    },
    "tags": []
   },
   "source": [
    "You are going to write a classifier that distinguishes between the number 3 and number 8."
   ]
  },
  {
   "cell_type": "code",
   "execution_count": 1,
   "id": "b15c8646",
   "metadata": {
    "execution": {
     "iopub.execute_input": "2021-12-02T00:23:36.764643Z",
     "iopub.status.busy": "2021-12-02T00:23:36.763840Z",
     "iopub.status.idle": "2021-12-02T00:23:36.775093Z",
     "shell.execute_reply": "2021-12-02T00:23:36.775574Z"
    },
    "papermill": {
     "duration": 0.054458,
     "end_time": "2021-12-02T00:23:36.775743",
     "exception": false,
     "start_time": "2021-12-02T00:23:36.721285",
     "status": "completed"
    },
    "tags": []
   },
   "outputs": [],
   "source": [
    "%load_ext autoreload\n",
    "%autoreload 2"
   ]
  },
  {
   "cell_type": "code",
   "execution_count": 2,
   "id": "22ef38dc",
   "metadata": {
    "execution": {
     "iopub.execute_input": "2021-12-02T00:23:36.834440Z",
     "iopub.status.busy": "2021-12-02T00:23:36.833845Z",
     "iopub.status.idle": "2021-12-02T00:23:37.537374Z",
     "shell.execute_reply": "2021-12-02T00:23:37.536622Z"
    },
    "papermill": {
     "duration": 0.734116,
     "end_time": "2021-12-02T00:23:37.537523",
     "exception": false,
     "start_time": "2021-12-02T00:23:36.803407",
     "status": "completed"
    },
    "tags": []
   },
   "outputs": [],
   "source": [
    "%matplotlib inline\n",
    "import numpy as np\n",
    "import matplotlib.pyplot as plt\n",
    "import pandas as pd"
   ]
  },
  {
   "cell_type": "markdown",
   "id": "ba036198",
   "metadata": {
    "papermill": {
     "duration": 0.029641,
     "end_time": "2021-12-02T00:23:37.596130",
     "exception": false,
     "start_time": "2021-12-02T00:23:37.566489",
     "status": "completed"
    },
    "tags": []
   },
   "source": [
    "From the command line run `pip install mnist`. This is a library that will help you bring down the mnist dataset. If you run this from a notebook, you need to put  `!pip install mnist` in a cell by itself."
   ]
  },
  {
   "cell_type": "code",
   "execution_count": 3,
   "id": "bb6ad8a1",
   "metadata": {
    "execution": {
     "iopub.execute_input": "2021-12-02T00:23:37.656493Z",
     "iopub.status.busy": "2021-12-02T00:23:37.655833Z",
     "iopub.status.idle": "2021-12-02T00:23:39.597028Z",
     "shell.execute_reply": "2021-12-02T00:23:39.596479Z"
    },
    "papermill": {
     "duration": 1.974119,
     "end_time": "2021-12-02T00:23:39.597288",
     "exception": false,
     "start_time": "2021-12-02T00:23:37.623169",
     "status": "completed"
    },
    "tags": []
   },
   "outputs": [
    {
     "name": "stdout",
     "output_type": "stream",
     "text": [
      "Collecting mnist\r\n"
     ]
    },
    {
     "name": "stdout",
     "output_type": "stream",
     "text": [
      "  Downloading mnist-0.2.2-py2.py3-none-any.whl (3.5 kB)\r\n",
      "Requirement already satisfied: numpy in /opt/hostedtoolcache/Python/3.6.15/x64/lib/python3.6/site-packages (from mnist) (1.19.5)\r\n"
     ]
    },
    {
     "name": "stdout",
     "output_type": "stream",
     "text": [
      "Installing collected packages: mnist\r\n",
      "Successfully installed mnist-0.2.2\r\n"
     ]
    }
   ],
   "source": [
    "!pip install mnist"
   ]
  },
  {
   "cell_type": "markdown",
   "id": "69df9c9a",
   "metadata": {
    "papermill": {
     "duration": 0.031133,
     "end_time": "2021-12-02T00:23:39.658532",
     "exception": false,
     "start_time": "2021-12-02T00:23:39.627399",
     "status": "completed"
    },
    "tags": []
   },
   "source": [
    "## Preparing the Data"
   ]
  },
  {
   "cell_type": "code",
   "execution_count": 4,
   "id": "7f69d806",
   "metadata": {
    "execution": {
     "iopub.execute_input": "2021-12-02T00:23:39.718990Z",
     "iopub.status.busy": "2021-12-02T00:23:39.718389Z",
     "iopub.status.idle": "2021-12-02T00:23:39.736316Z",
     "shell.execute_reply": "2021-12-02T00:23:39.735232Z"
    },
    "papermill": {
     "duration": 0.050055,
     "end_time": "2021-12-02T00:23:39.736453",
     "exception": false,
     "start_time": "2021-12-02T00:23:39.686398",
     "status": "completed"
    },
    "tags": []
   },
   "outputs": [],
   "source": [
    "import mnist"
   ]
  },
  {
   "cell_type": "code",
   "execution_count": 5,
   "id": "a411e44f",
   "metadata": {
    "execution": {
     "iopub.execute_input": "2021-12-02T00:23:39.801207Z",
     "iopub.status.busy": "2021-12-02T00:23:39.796250Z",
     "iopub.status.idle": "2021-12-02T00:23:40.376365Z",
     "shell.execute_reply": "2021-12-02T00:23:40.375727Z"
    },
    "papermill": {
     "duration": 0.612015,
     "end_time": "2021-12-02T00:23:40.376509",
     "exception": false,
     "start_time": "2021-12-02T00:23:39.764494",
     "status": "completed"
    },
    "tags": []
   },
   "outputs": [],
   "source": [
    "train_images = mnist.train_images()\n",
    "train_labels = mnist.train_labels()"
   ]
  },
  {
   "cell_type": "code",
   "execution_count": 6,
   "id": "dceab3a5",
   "metadata": {
    "execution": {
     "iopub.execute_input": "2021-12-02T00:23:40.437300Z",
     "iopub.status.busy": "2021-12-02T00:23:40.436664Z",
     "iopub.status.idle": "2021-12-02T00:23:40.452709Z",
     "shell.execute_reply": "2021-12-02T00:23:40.452193Z"
    },
    "papermill": {
     "duration": 0.048345,
     "end_time": "2021-12-02T00:23:40.452833",
     "exception": false,
     "start_time": "2021-12-02T00:23:40.404488",
     "status": "completed"
    },
    "tags": []
   },
   "outputs": [
    {
     "data": {
      "text/plain": [
       "((60000, 28, 28), (60000,))"
      ]
     },
     "execution_count": 6,
     "metadata": {},
     "output_type": "execute_result"
    }
   ],
   "source": [
    "train_images.shape, train_labels.shape"
   ]
  },
  {
   "cell_type": "code",
   "execution_count": 7,
   "id": "f50dc2bb",
   "metadata": {
    "execution": {
     "iopub.execute_input": "2021-12-02T00:23:40.513010Z",
     "iopub.status.busy": "2021-12-02T00:23:40.512416Z",
     "iopub.status.idle": "2021-12-02T00:23:40.650729Z",
     "shell.execute_reply": "2021-12-02T00:23:40.650188Z"
    },
    "papermill": {
     "duration": 0.169982,
     "end_time": "2021-12-02T00:23:40.650872",
     "exception": false,
     "start_time": "2021-12-02T00:23:40.480890",
     "status": "completed"
    },
    "tags": []
   },
   "outputs": [],
   "source": [
    "test_images = mnist.test_images()\n",
    "test_labels = mnist.test_labels()"
   ]
  },
  {
   "cell_type": "code",
   "execution_count": 8,
   "id": "fc38cf1b",
   "metadata": {
    "execution": {
     "iopub.execute_input": "2021-12-02T00:23:40.712164Z",
     "iopub.status.busy": "2021-12-02T00:23:40.711549Z",
     "iopub.status.idle": "2021-12-02T00:23:40.725871Z",
     "shell.execute_reply": "2021-12-02T00:23:40.725365Z"
    },
    "papermill": {
     "duration": 0.046421,
     "end_time": "2021-12-02T00:23:40.725998",
     "exception": false,
     "start_time": "2021-12-02T00:23:40.679577",
     "status": "completed"
    },
    "tags": []
   },
   "outputs": [
    {
     "data": {
      "text/plain": [
       "((10000, 28, 28), (10000,))"
      ]
     },
     "execution_count": 8,
     "metadata": {},
     "output_type": "execute_result"
    }
   ],
   "source": [
    "test_images.shape, test_labels.shape"
   ]
  },
  {
   "cell_type": "code",
   "execution_count": 9,
   "id": "f9ed8fe0",
   "metadata": {
    "execution": {
     "iopub.execute_input": "2021-12-02T00:23:40.787618Z",
     "iopub.status.busy": "2021-12-02T00:23:40.787036Z",
     "iopub.status.idle": "2021-12-02T00:23:40.948711Z",
     "shell.execute_reply": "2021-12-02T00:23:40.949168Z"
    },
    "papermill": {
     "duration": 0.19485,
     "end_time": "2021-12-02T00:23:40.949332",
     "exception": false,
     "start_time": "2021-12-02T00:23:40.754482",
     "status": "completed"
    },
    "tags": []
   },
   "outputs": [
    {
     "name": "stdout",
     "output_type": "stream",
     "text": [
      "2\n"
     ]
    },
    {
     "data": {
      "text/plain": [
       "<matplotlib.image.AxesImage at 0x7fa2f995c518>"
      ]
     },
     "execution_count": 9,
     "metadata": {},
     "output_type": "execute_result"
    },
    {
     "data": {
      "image/png": "[encoded data removed]",
      "text/plain": [
       "<Figure size 432x288 with 1 Axes>"
      ]
     },
     "metadata": {
      "needs_background": "light"
     },
     "output_type": "display_data"
    }
   ],
   "source": [
    "image_index = 7776 # You may select anything up to 60,000\n",
    "print(train_labels[image_index]) \n",
    "plt.imshow(train_images[image_index], cmap='Greys')"
   ]
  },
  {
   "cell_type": "markdown",
   "id": "a8d2388d",
   "metadata": {
    "papermill": {
     "duration": 0.03211,
     "end_time": "2021-12-02T00:23:41.012182",
     "exception": false,
     "start_time": "2021-12-02T00:23:40.980072",
     "status": "completed"
    },
    "tags": []
   },
   "source": [
    "## Filter data to get 3 and 8 out"
   ]
  },
  {
   "cell_type": "code",
   "execution_count": 10,
   "id": "776f7fc7",
   "metadata": {
    "execution": {
     "iopub.execute_input": "2021-12-02T00:23:41.077576Z",
     "iopub.status.busy": "2021-12-02T00:23:41.076968Z",
     "iopub.status.idle": "2021-12-02T00:23:41.096717Z",
     "shell.execute_reply": "2021-12-02T00:23:41.097221Z"
    },
    "papermill": {
     "duration": 0.055437,
     "end_time": "2021-12-02T00:23:41.097372",
     "exception": false,
     "start_time": "2021-12-02T00:23:41.041935",
     "status": "completed"
    },
    "tags": []
   },
   "outputs": [],
   "source": [
    "train_filter = np.where((train_labels == 3 ) | (train_labels == 8))\n",
    "test_filter = np.where((test_labels == 3) | (test_labels == 8))\n",
    "X_train, y_train = train_images[train_filter], train_labels[train_filter]\n",
    "X_test, y_test = test_images[test_filter], test_labels[test_filter]"
   ]
  },
  {
   "cell_type": "markdown",
   "id": "948f0b7e",
   "metadata": {
    "papermill": {
     "duration": 0.029528,
     "end_time": "2021-12-02T00:23:41.156822",
     "exception": false,
     "start_time": "2021-12-02T00:23:41.127294",
     "status": "completed"
    },
    "tags": []
   },
   "source": [
    "We normalize the pizel values in the 0 to 1 range"
   ]
  },
  {
   "cell_type": "code",
   "execution_count": 11,
   "id": "ee4c2166",
   "metadata": {
    "execution": {
     "iopub.execute_input": "2021-12-02T00:23:41.220753Z",
     "iopub.status.busy": "2021-12-02T00:23:41.220175Z",
     "iopub.status.idle": "2021-12-02T00:23:41.273949Z",
     "shell.execute_reply": "2021-12-02T00:23:41.273095Z"
    },
    "papermill": {
     "duration": 0.087928,
     "end_time": "2021-12-02T00:23:41.274169",
     "exception": false,
     "start_time": "2021-12-02T00:23:41.186241",
     "status": "completed"
    },
    "tags": []
   },
   "outputs": [],
   "source": [
    "X_train = X_train/255.\n",
    "X_test = X_test/255."
   ]
  },
  {
   "cell_type": "markdown",
   "id": "ddcf4fab",
   "metadata": {
    "papermill": {
     "duration": 0.029109,
     "end_time": "2021-12-02T00:23:41.335180",
     "exception": false,
     "start_time": "2021-12-02T00:23:41.306071",
     "status": "completed"
    },
    "tags": []
   },
   "source": [
    "And setup the labels as 1 (when the digit is 3) and 0 (when the digit is 8)"
   ]
  },
  {
   "cell_type": "code",
   "execution_count": 12,
   "id": "7dc908f2",
   "metadata": {
    "execution": {
     "iopub.execute_input": "2021-12-02T00:23:41.398644Z",
     "iopub.status.busy": "2021-12-02T00:23:41.398056Z",
     "iopub.status.idle": "2021-12-02T00:23:41.413187Z",
     "shell.execute_reply": "2021-12-02T00:23:41.412716Z"
    },
    "papermill": {
     "duration": 0.048658,
     "end_time": "2021-12-02T00:23:41.413345",
     "exception": false,
     "start_time": "2021-12-02T00:23:41.364687",
     "status": "completed"
    },
    "tags": []
   },
   "outputs": [],
   "source": [
    "y_train = 1*(y_train==3)\n",
    "y_test = 1*(y_test==3)"
   ]
  },
  {
   "cell_type": "code",
   "execution_count": 13,
   "id": "01e4e969",
   "metadata": {
    "execution": {
     "iopub.execute_input": "2021-12-02T00:23:41.477092Z",
     "iopub.status.busy": "2021-12-02T00:23:41.476501Z",
     "iopub.status.idle": "2021-12-02T00:23:41.492840Z",
     "shell.execute_reply": "2021-12-02T00:23:41.493351Z"
    },
    "papermill": {
     "duration": 0.050817,
     "end_time": "2021-12-02T00:23:41.493497",
     "exception": false,
     "start_time": "2021-12-02T00:23:41.442680",
     "status": "completed"
    },
    "tags": []
   },
   "outputs": [
    {
     "data": {
      "text/plain": [
       "((11982, 28, 28), (1984, 28, 28))"
      ]
     },
     "execution_count": 13,
     "metadata": {},
     "output_type": "execute_result"
    }
   ],
   "source": [
    "X_train.shape, X_test.shape"
   ]
  },
  {
   "cell_type": "markdown",
   "id": "5ccf3f85",
   "metadata": {
    "papermill": {
     "duration": 0.029983,
     "end_time": "2021-12-02T00:23:41.553430",
     "exception": false,
     "start_time": "2021-12-02T00:23:41.523447",
     "status": "completed"
    },
    "tags": []
   },
   "source": [
    "We reshape the data to flatten the image pixels into a set of features or co-variates:"
   ]
  },
  {
   "cell_type": "code",
   "execution_count": 14,
   "id": "5286a4a3",
   "metadata": {
    "execution": {
     "iopub.execute_input": "2021-12-02T00:23:41.620992Z",
     "iopub.status.busy": "2021-12-02T00:23:41.620390Z",
     "iopub.status.idle": "2021-12-02T00:23:41.633822Z",
     "shell.execute_reply": "2021-12-02T00:23:41.634318Z"
    },
    "papermill": {
     "duration": 0.050867,
     "end_time": "2021-12-02T00:23:41.634466",
     "exception": false,
     "start_time": "2021-12-02T00:23:41.583599",
     "status": "completed"
    },
    "tags": []
   },
   "outputs": [
    {
     "data": {
      "text/plain": [
       "((11982, 784), (1984, 784))"
      ]
     },
     "execution_count": 14,
     "metadata": {},
     "output_type": "execute_result"
    }
   ],
   "source": [
    "X_train = X_train.reshape(X_train.shape[0], -1)\n",
    "X_test = X_test.reshape(X_test.shape[0], -1)\n",
    "X_train.shape, X_test.shape"
   ]
  },
  {
   "cell_type": "code",
   "execution_count": 15,
   "id": "73c5f88a",
   "metadata": {
    "execution": {
     "iopub.execute_input": "2021-12-02T00:23:41.698953Z",
     "iopub.status.busy": "2021-12-02T00:23:41.698364Z",
     "iopub.status.idle": "2021-12-02T00:23:41.718613Z",
     "shell.execute_reply": "2021-12-02T00:23:41.718120Z"
    },
    "papermill": {
     "duration": 0.054388,
     "end_time": "2021-12-02T00:23:41.718744",
     "exception": false,
     "start_time": "2021-12-02T00:23:41.664356",
     "status": "completed"
    },
    "tags": []
   },
   "outputs": [],
   "source": [
    "#Impoting functions from 'Kudzu'\n",
    "from kudzu.model import Model\n",
    "from kudzu.train import Learner\n",
    "from kudzu.optim import GD\n",
    "from kudzu.data import Data, Sampler,Dataloader\n",
    "\n",
    "from kudzu.callbacks import AccCallback\n",
    "from kudzu.callbacks import ClfCallback\n",
    "\n",
    "from kudzu.loss import MSE\n",
    "\n",
    "from kudzu.layer import Sigmoid,Relu\n",
    "from kudzu.layer import Affine"
   ]
  },
  {
   "cell_type": "markdown",
   "id": "bc01172a",
   "metadata": {
    "papermill": {
     "duration": 0.02951,
     "end_time": "2021-12-02T00:23:41.778404",
     "exception": false,
     "start_time": "2021-12-02T00:23:41.748894",
     "status": "completed"
    },
    "tags": []
   },
   "source": [
    "### Let us create a `Config` class, to store important parameters. \n",
    "This class essentially plays the role of a dictionary."
   ]
  },
  {
   "cell_type": "code",
   "execution_count": 16,
   "id": "978281aa",
   "metadata": {
    "execution": {
     "iopub.execute_input": "2021-12-02T00:23:41.842332Z",
     "iopub.status.busy": "2021-12-02T00:23:41.841760Z",
     "iopub.status.idle": "2021-12-02T00:23:41.857822Z",
     "shell.execute_reply": "2021-12-02T00:23:41.858283Z"
    },
    "papermill": {
     "duration": 0.050448,
     "end_time": "2021-12-02T00:23:41.858433",
     "exception": false,
     "start_time": "2021-12-02T00:23:41.807985",
     "status": "completed"
    },
    "tags": []
   },
   "outputs": [],
   "source": [
    "class Config:\n",
    "    pass\n",
    "config = Config()\n",
    "config.lr = 0.001\n",
    "config.num_epochs = 250\n",
    "config.bs = 50"
   ]
  },
  {
   "cell_type": "markdown",
   "id": "1385fa59",
   "metadata": {
    "papermill": {
     "duration": 0.029734,
     "end_time": "2021-12-02T00:23:41.918106",
     "exception": false,
     "start_time": "2021-12-02T00:23:41.888372",
     "status": "completed"
    },
    "tags": []
   },
   "source": [
    "### Running Models with the Training data\n",
    "Details about the network layers:\n",
    "- A first affine layer has 784 inputs and does 100 affine transforms. These are followed by a Relu\n",
    "- A second affine layer has 100 inputs from the 100 activations of the past layer, and does 100 affine transforms. These are followed by a Relu\n",
    "- A third affine layer has 100 activations and does 2 affine transformations to create an embedding for visualization. There is no non-linearity here.\n",
    "- A final \"logistic regression\" which has an affine transform from 2 inputs to 1 output, which is squeezed through a sigmoid.\n"
   ]
  },
  {
   "cell_type": "code",
   "execution_count": 17,
   "id": "2b9c66db",
   "metadata": {
    "execution": {
     "iopub.execute_input": "2021-12-02T00:23:41.989752Z",
     "iopub.status.busy": "2021-12-02T00:23:41.989127Z",
     "iopub.status.idle": "2021-12-02T00:23:41.999952Z",
     "shell.execute_reply": "2021-12-02T00:23:42.000471Z"
    },
    "papermill": {
     "duration": 0.05251,
     "end_time": "2021-12-02T00:23:42.000633",
     "exception": false,
     "start_time": "2021-12-02T00:23:41.948123",
     "status": "completed"
    },
    "tags": []
   },
   "outputs": [],
   "source": [
    "data = Data(X_train, y_train.reshape(-1,1))\n",
    "sampler = Sampler(data, config.bs, shuffle=True)\n",
    "\n",
    "dl = Dataloader(data, sampler)\n",
    "\n",
    "opt = GD(config.lr)\n",
    "loss = MSE()"
   ]
  },
  {
   "cell_type": "code",
   "execution_count": 18,
   "id": "b275e4c2",
   "metadata": {
    "execution": {
     "iopub.execute_input": "2021-12-02T00:23:42.066573Z",
     "iopub.status.busy": "2021-12-02T00:23:42.065973Z",
     "iopub.status.idle": "2021-12-02T00:23:42.080289Z",
     "shell.execute_reply": "2021-12-02T00:23:42.080777Z"
    },
    "papermill": {
     "duration": 0.049595,
     "end_time": "2021-12-02T00:23:42.080930",
     "exception": false,
     "start_time": "2021-12-02T00:23:42.031335",
     "status": "completed"
    },
    "tags": []
   },
   "outputs": [],
   "source": [
    "training_data_x = X_train\n",
    "testing_data_x = X_test\n",
    "training_data_y = y_train.reshape(-1,1)\n",
    "testing_data_y = y_test.reshape(-1,1)"
   ]
  },
  {
   "cell_type": "code",
   "execution_count": 19,
   "id": "76951160",
   "metadata": {
    "execution": {
     "iopub.execute_input": "2021-12-02T00:23:42.152830Z",
     "iopub.status.busy": "2021-12-02T00:23:42.152194Z",
     "iopub.status.idle": "2021-12-02T00:23:42.168880Z",
     "shell.execute_reply": "2021-12-02T00:23:42.169328Z"
    },
    "papermill": {
     "duration": 0.058103,
     "end_time": "2021-12-02T00:23:42.169485",
     "exception": false,
     "start_time": "2021-12-02T00:23:42.111382",
     "status": "completed"
    },
    "tags": []
   },
   "outputs": [
    {
     "name": "stdout",
     "output_type": "stream",
     "text": [
      "xavier\n",
      "xavier\n",
      "xavier\n",
      "xavier\n",
      "xavier\n"
     ]
    }
   ],
   "source": [
    "layers = [Affine(\"first\", 784, 100), Relu(\"first\"), Affine(\"second\", 100, 100), Relu(\"second\"), Affine(\"third\", 100, 2), Affine(\"last\", 2, 1), Sigmoid(\"last\")]\n",
    "model_nn = Model(layers)\n",
    "model_lr = Model([Affine(\"logits\", 784, 1), Sigmoid(\"sigmoid\")])"
   ]
  },
  {
   "cell_type": "code",
   "execution_count": 20,
   "id": "6eede77a",
   "metadata": {
    "execution": {
     "iopub.execute_input": "2021-12-02T00:23:42.235865Z",
     "iopub.status.busy": "2021-12-02T00:23:42.235274Z",
     "iopub.status.idle": "2021-12-02T00:23:42.248866Z",
     "shell.execute_reply": "2021-12-02T00:23:42.248374Z"
    },
    "papermill": {
     "duration": 0.048965,
     "end_time": "2021-12-02T00:23:42.248998",
     "exception": false,
     "start_time": "2021-12-02T00:23:42.200033",
     "status": "completed"
    },
    "tags": []
   },
   "outputs": [],
   "source": [
    "nn_learner = Learner(loss, model_nn, opt, config.num_epochs)\n",
    "acc_nn = ClfCallback(nn_learner, config.bs, training_data_x , testing_data_x, training_data_y, testing_data_y)\n",
    "nn_learner.set_callbacks([acc_nn])"
   ]
  },
  {
   "cell_type": "code",
   "execution_count": 21,
   "id": "877b6cc7",
   "metadata": {
    "execution": {
     "iopub.execute_input": "2021-12-02T00:23:42.316477Z",
     "iopub.status.busy": "2021-12-02T00:23:42.315857Z",
     "iopub.status.idle": "2021-12-02T00:23:42.329119Z",
     "shell.execute_reply": "2021-12-02T00:23:42.328638Z"
    },
    "papermill": {
     "duration": 0.049241,
     "end_time": "2021-12-02T00:23:42.329273",
     "exception": false,
     "start_time": "2021-12-02T00:23:42.280032",
     "status": "completed"
    },
    "tags": []
   },
   "outputs": [],
   "source": [
    "lr_learner = Learner(loss, model_lr, opt, config.num_epochs)\n",
    "acc_lr = ClfCallback(lr_learner, config.bs, training_data_x , testing_data_x, training_data_y, testing_data_y)\n",
    "lr_learner.set_callbacks([acc_lr])"
   ]
  },
  {
   "cell_type": "code",
   "execution_count": 22,
   "id": "d9b133c3",
   "metadata": {
    "execution": {
     "iopub.execute_input": "2021-12-02T00:23:42.397863Z",
     "iopub.status.busy": "2021-12-02T00:23:42.397281Z",
     "iopub.status.idle": "2021-12-02T00:25:09.132977Z",
     "shell.execute_reply": "2021-12-02T00:25:09.133547Z"
    },
    "papermill": {
     "duration": 86.773442,
     "end_time": "2021-12-02T00:25:09.133710",
     "exception": false,
     "start_time": "2021-12-02T00:23:42.360268",
     "status": "completed"
    },
    "tags": []
   },
   "outputs": [
    {
     "name": "stdout",
     "output_type": "stream",
     "text": [
      "Epoch 0, Loss 0.2389\n",
      "Training Accuracy: 0.7085, Testing Accuracy: 0.7177\n",
      "\n"
     ]
    },
    {
     "name": "stdout",
     "output_type": "stream",
     "text": [
      "Epoch 10, Loss 0.1443\n",
      "Training Accuracy: 0.9043, Testing Accuracy: 0.9199\n",
      "\n"
     ]
    },
    {
     "name": "stdout",
     "output_type": "stream",
     "text": [
      "Epoch 20, Loss 0.0732\n",
      "Training Accuracy: 0.9296, Testing Accuracy: 0.9471\n",
      "\n"
     ]
    },
    {
     "name": "stdout",
     "output_type": "stream",
     "text": [
      "Epoch 30, Loss 0.0515\n",
      "Training Accuracy: 0.9453, Testing Accuracy: 0.9567\n",
      "\n"
     ]
    },
    {
     "name": "stdout",
     "output_type": "stream",
     "text": [
      "Epoch 40, Loss 0.042\n",
      "Training Accuracy: 0.9529, Testing Accuracy: 0.9647\n",
      "\n"
     ]
    },
    {
     "name": "stdout",
     "output_type": "stream",
     "text": [
      "Epoch 50, Loss 0.0369\n",
      "Training Accuracy: 0.9574, Testing Accuracy: 0.9682\n",
      "\n"
     ]
    },
    {
     "name": "stdout",
     "output_type": "stream",
     "text": [
      "Epoch 60, Loss 0.0337\n",
      "Training Accuracy: 0.9614, Testing Accuracy: 0.9698\n",
      "\n"
     ]
    },
    {
     "name": "stdout",
     "output_type": "stream",
     "text": [
      "Epoch 70, Loss 0.0315\n",
      "Training Accuracy: 0.9640, Testing Accuracy: 0.9703\n",
      "\n"
     ]
    },
    {
     "name": "stdout",
     "output_type": "stream",
     "text": [
      "Epoch 80, Loss 0.0298\n",
      "Training Accuracy: 0.9659, Testing Accuracy: 0.9708\n",
      "\n"
     ]
    },
    {
     "name": "stdout",
     "output_type": "stream",
     "text": [
      "Epoch 90, Loss 0.0284\n",
      "Training Accuracy: 0.9670, Testing Accuracy: 0.9713\n",
      "\n"
     ]
    },
    {
     "name": "stdout",
     "output_type": "stream",
     "text": [
      "Epoch 100, Loss 0.0273\n",
      "Training Accuracy: 0.9687, Testing Accuracy: 0.9713\n",
      "\n"
     ]
    },
    {
     "name": "stdout",
     "output_type": "stream",
     "text": [
      "Epoch 110, Loss 0.0263\n",
      "Training Accuracy: 0.9697, Testing Accuracy: 0.9733\n",
      "\n"
     ]
    },
    {
     "name": "stdout",
     "output_type": "stream",
     "text": [
      "Epoch 120, Loss 0.0255\n",
      "Training Accuracy: 0.9710, Testing Accuracy: 0.9743\n",
      "\n"
     ]
    },
    {
     "name": "stdout",
     "output_type": "stream",
     "text": [
      "Epoch 130, Loss 0.0248\n",
      "Training Accuracy: 0.9717, Testing Accuracy: 0.9743\n",
      "\n"
     ]
    },
    {
     "name": "stdout",
     "output_type": "stream",
     "text": [
      "Epoch 140, Loss 0.0241\n",
      "Training Accuracy: 0.9725, Testing Accuracy: 0.9748\n",
      "\n"
     ]
    },
    {
     "name": "stdout",
     "output_type": "stream",
     "text": [
      "Epoch 150, Loss 0.0235\n",
      "Training Accuracy: 0.9738, Testing Accuracy: 0.9748\n",
      "\n"
     ]
    },
    {
     "name": "stdout",
     "output_type": "stream",
     "text": [
      "Epoch 160, Loss 0.0229\n",
      "Training Accuracy: 0.9741, Testing Accuracy: 0.9748\n",
      "\n"
     ]
    },
    {
     "name": "stdout",
     "output_type": "stream",
     "text": [
      "Epoch 170, Loss 0.0224\n",
      "Training Accuracy: 0.9747, Testing Accuracy: 0.9743\n",
      "\n"
     ]
    },
    {
     "name": "stdout",
     "output_type": "stream",
     "text": [
      "Epoch 180, Loss 0.0219\n",
      "Training Accuracy: 0.9751, Testing Accuracy: 0.9743\n",
      "\n"
     ]
    },
    {
     "name": "stdout",
     "output_type": "stream",
     "text": [
      "Epoch 190, Loss 0.0214\n",
      "Training Accuracy: 0.9756, Testing Accuracy: 0.9743\n",
      "\n"
     ]
    },
    {
     "name": "stdout",
     "output_type": "stream",
     "text": [
      "Epoch 200, Loss 0.021\n",
      "Training Accuracy: 0.9760, Testing Accuracy: 0.9738\n",
      "\n"
     ]
    },
    {
     "name": "stdout",
     "output_type": "stream",
     "text": [
      "Epoch 210, Loss 0.0206\n",
      "Training Accuracy: 0.9765, Testing Accuracy: 0.9743\n",
      "\n"
     ]
    },
    {
     "name": "stdout",
     "output_type": "stream",
     "text": [
      "Epoch 220, Loss 0.0202\n",
      "Training Accuracy: 0.9773, Testing Accuracy: 0.9743\n",
      "\n"
     ]
    },
    {
     "name": "stdout",
     "output_type": "stream",
     "text": [
      "Epoch 230, Loss 0.0198\n",
      "Training Accuracy: 0.9779, Testing Accuracy: 0.9743\n",
      "\n"
     ]
    },
    {
     "name": "stdout",
     "output_type": "stream",
     "text": [
      "Epoch 240, Loss 0.0195\n",
      "Training Accuracy: 0.9785, Testing Accuracy: 0.9748\n",
      "\n"
     ]
    },
    {
     "data": {
      "text/plain": [
       "0.05985712720929513"
      ]
     },
     "execution_count": 22,
     "metadata": {},
     "output_type": "execute_result"
    }
   ],
   "source": [
    "nn_learner.train_loop(dl)"
   ]
  },
  {
   "cell_type": "code",
   "execution_count": 23,
   "id": "e0163366",
   "metadata": {
    "execution": {
     "iopub.execute_input": "2021-12-02T00:25:09.221837Z",
     "iopub.status.busy": "2021-12-02T00:25:09.221230Z",
     "iopub.status.idle": "2021-12-02T00:25:24.747004Z",
     "shell.execute_reply": "2021-12-02T00:25:24.747854Z"
    },
    "papermill": {
     "duration": 15.575977,
     "end_time": "2021-12-02T00:25:24.748025",
     "exception": false,
     "start_time": "2021-12-02T00:25:09.172048",
     "status": "completed"
    },
    "tags": []
   },
   "outputs": [
    {
     "name": "stdout",
     "output_type": "stream",
     "text": [
      "Epoch 0, Loss 0.2406\n",
      "Training Accuracy: 0.6935, Testing Accuracy: 0.7046\n",
      "\n"
     ]
    },
    {
     "name": "stdout",
     "output_type": "stream",
     "text": [
      "Epoch 10, Loss 0.1031\n",
      "Training Accuracy: 0.9054, Testing Accuracy: 0.9133\n",
      "\n"
     ]
    },
    {
     "name": "stdout",
     "output_type": "stream",
     "text": [
      "Epoch 20, Loss 0.0798\n",
      "Training Accuracy: 0.9243, Testing Accuracy: 0.9355\n",
      "\n"
     ]
    },
    {
     "name": "stdout",
     "output_type": "stream",
     "text": [
      "Epoch 30, Loss 0.0688\n",
      "Training Accuracy: 0.9347, Testing Accuracy: 0.9451\n",
      "\n"
     ]
    },
    {
     "name": "stdout",
     "output_type": "stream",
     "text": [
      "Epoch 40, Loss 0.0621\n",
      "Training Accuracy: 0.9396, Testing Accuracy: 0.9516\n",
      "\n"
     ]
    },
    {
     "name": "stdout",
     "output_type": "stream",
     "text": [
      "Epoch 50, Loss 0.0575\n",
      "Training Accuracy: 0.9434, Testing Accuracy: 0.9546\n",
      "\n"
     ]
    },
    {
     "name": "stdout",
     "output_type": "stream",
     "text": [
      "Epoch 60, Loss 0.0541\n",
      "Training Accuracy: 0.9455, Testing Accuracy: 0.9561\n",
      "\n"
     ]
    },
    {
     "name": "stdout",
     "output_type": "stream",
     "text": [
      "Epoch 70, Loss 0.0515\n",
      "Training Accuracy: 0.9478, Testing Accuracy: 0.9577\n",
      "\n"
     ]
    },
    {
     "name": "stdout",
     "output_type": "stream",
     "text": [
      "Epoch 80, Loss 0.0494\n",
      "Training Accuracy: 0.9499, Testing Accuracy: 0.9592\n",
      "\n"
     ]
    },
    {
     "name": "stdout",
     "output_type": "stream",
     "text": [
      "Epoch 90, Loss 0.0477\n",
      "Training Accuracy: 0.9518, Testing Accuracy: 0.9597\n",
      "\n"
     ]
    },
    {
     "name": "stdout",
     "output_type": "stream",
     "text": [
      "Epoch 100, Loss 0.0462\n",
      "Training Accuracy: 0.9528, Testing Accuracy: 0.9597\n",
      "\n"
     ]
    },
    {
     "name": "stdout",
     "output_type": "stream",
     "text": [
      "Epoch 110, Loss 0.045\n",
      "Training Accuracy: 0.9536, Testing Accuracy: 0.9607\n",
      "\n"
     ]
    },
    {
     "name": "stdout",
     "output_type": "stream",
     "text": [
      "Epoch 120, Loss 0.0439\n",
      "Training Accuracy: 0.9548, Testing Accuracy: 0.9617\n",
      "\n"
     ]
    },
    {
     "name": "stdout",
     "output_type": "stream",
     "text": [
      "Epoch 130, Loss 0.0429\n",
      "Training Accuracy: 0.9554, Testing Accuracy: 0.9627\n",
      "\n"
     ]
    },
    {
     "name": "stdout",
     "output_type": "stream",
     "text": [
      "Epoch 140, Loss 0.0421\n",
      "Training Accuracy: 0.9565, Testing Accuracy: 0.9632\n",
      "\n"
     ]
    },
    {
     "name": "stdout",
     "output_type": "stream",
     "text": [
      "Epoch 150, Loss 0.0413\n",
      "Training Accuracy: 0.9566, Testing Accuracy: 0.9637\n",
      "\n"
     ]
    },
    {
     "name": "stdout",
     "output_type": "stream",
     "text": [
      "Epoch 160, Loss 0.0406\n",
      "Training Accuracy: 0.9579, Testing Accuracy: 0.9647\n",
      "\n"
     ]
    },
    {
     "name": "stdout",
     "output_type": "stream",
     "text": [
      "Epoch 170, Loss 0.04\n",
      "Training Accuracy: 0.9582, Testing Accuracy: 0.9652\n",
      "\n"
     ]
    },
    {
     "name": "stdout",
     "output_type": "stream",
     "text": [
      "Epoch 180, Loss 0.0394\n",
      "Training Accuracy: 0.9585, Testing Accuracy: 0.9652\n",
      "\n"
     ]
    },
    {
     "name": "stdout",
     "output_type": "stream",
     "text": [
      "Epoch 190, Loss 0.0389\n",
      "Training Accuracy: 0.9587, Testing Accuracy: 0.9652\n",
      "\n"
     ]
    },
    {
     "name": "stdout",
     "output_type": "stream",
     "text": [
      "Epoch 200, Loss 0.0384\n",
      "Training Accuracy: 0.9589, Testing Accuracy: 0.9657\n",
      "\n"
     ]
    },
    {
     "name": "stdout",
     "output_type": "stream",
     "text": [
      "Epoch 210, Loss 0.038\n",
      "Training Accuracy: 0.9599, Testing Accuracy: 0.9667\n",
      "\n"
     ]
    },
    {
     "name": "stdout",
     "output_type": "stream",
     "text": [
      "Epoch 220, Loss 0.0376\n",
      "Training Accuracy: 0.9599, Testing Accuracy: 0.9667\n",
      "\n"
     ]
    },
    {
     "name": "stdout",
     "output_type": "stream",
     "text": [
      "Epoch 230, Loss 0.0372\n",
      "Training Accuracy: 0.9605, Testing Accuracy: 0.9672\n",
      "\n"
     ]
    },
    {
     "name": "stdout",
     "output_type": "stream",
     "text": [
      "Epoch 240, Loss 0.0368\n",
      "Training Accuracy: 0.9609, Testing Accuracy: 0.9677\n",
      "\n"
     ]
    },
    {
     "data": {
      "text/plain": [
       "0.037740953007444636"
      ]
     },
     "execution_count": 23,
     "metadata": {},
     "output_type": "execute_result"
    }
   ],
   "source": [
    "lr_learner.train_loop(dl)"
   ]
  },
  {
   "cell_type": "code",
   "execution_count": 24,
   "id": "ca410940",
   "metadata": {
    "execution": {
     "iopub.execute_input": "2021-12-02T00:25:24.853686Z",
     "iopub.status.busy": "2021-12-02T00:25:24.853072Z",
     "iopub.status.idle": "2021-12-02T00:25:25.110279Z",
     "shell.execute_reply": "2021-12-02T00:25:25.110732Z"
    },
    "papermill": {
     "duration": 0.315856,
     "end_time": "2021-12-02T00:25:25.110895",
     "exception": false,
     "start_time": "2021-12-02T00:25:24.795039",
     "status": "completed"
    },
    "tags": []
   },
   "outputs": [
    {
     "data": {
      "text/plain": [
       "<matplotlib.legend.Legend at 0x7fa2f9536c50>"
      ]
     },
     "execution_count": 24,
     "metadata": {},
     "output_type": "execute_result"
    },
    {
     "data": {
      "image/png": "[encoded data removed]",
      "text/plain": [
       "<Figure size 1080x720 with 1 Axes>"
      ]
     },
     "metadata": {
      "needs_background": "light"
     },
     "output_type": "display_data"
    }
   ],
   "source": [
    "#comparing the results of NN and LR\n",
    "plt.figure(figsize=(15,10))\n",
    "\n",
    "# Neural Network plots\n",
    "plt.plot(acc_nn.accuracies, 'r-', label = \"Training Accuracies - NN\")\n",
    "plt.plot(acc_nn.test_accuracies, 'g-', label = \"Testing Accuracies - NN\")\n",
    "\n",
    "# Logistic Regression plots\n",
    "plt.plot(acc_lr.accuracies, 'k-', label = \"Training Accuracies - LR\")\n",
    "plt.plot(acc_lr.test_accuracies, 'b-', label = \"Testing Accuracies - LR\")\n",
    "plt.legend()"
   ]
  },
  {
   "cell_type": "markdown",
   "id": "80dfb35c",
   "metadata": {
    "papermill": {
     "duration": 0.046893,
     "end_time": "2021-12-02T00:25:25.206835",
     "exception": false,
     "start_time": "2021-12-02T00:25:25.159942",
     "status": "completed"
    },
    "tags": []
   },
   "source": [
    "#### Plotting the outputs of this layer of the NN.\n"
   ]
  },
  {
   "cell_type": "code",
   "execution_count": 25,
   "id": "45eb2ff5",
   "metadata": {
    "execution": {
     "iopub.execute_input": "2021-12-02T00:25:25.305973Z",
     "iopub.status.busy": "2021-12-02T00:25:25.304889Z",
     "iopub.status.idle": "2021-12-02T00:25:25.328440Z",
     "shell.execute_reply": "2021-12-02T00:25:25.328954Z"
    },
    "papermill": {
     "duration": 0.075427,
     "end_time": "2021-12-02T00:25:25.329117",
     "exception": false,
     "start_time": "2021-12-02T00:25:25.253690",
     "status": "completed"
    },
    "tags": []
   },
   "outputs": [],
   "source": [
    "new_model = Model(layers[:-2])\n",
    "testing_plot = new_model(testing_data_x)"
   ]
  },
  {
   "cell_type": "code",
   "execution_count": 26,
   "id": "4c0a5485",
   "metadata": {
    "execution": {
     "iopub.execute_input": "2021-12-02T00:25:25.437013Z",
     "iopub.status.busy": "2021-12-02T00:25:25.436386Z",
     "iopub.status.idle": "2021-12-02T00:25:25.662582Z",
     "shell.execute_reply": "2021-12-02T00:25:25.662054Z"
    },
    "papermill": {
     "duration": 0.285905,
     "end_time": "2021-12-02T00:25:25.662717",
     "exception": false,
     "start_time": "2021-12-02T00:25:25.376812",
     "status": "completed"
    },
    "tags": []
   },
   "outputs": [
    {
     "data": {
      "text/plain": [
       "Text(0.5, 1.0, 'Outputs')"
      ]
     },
     "execution_count": 26,
     "metadata": {},
     "output_type": "execute_result"
    },
    {
     "data": {
      "image/png": "[encoded data removed]",
      "text/plain": [
       "<Figure size 576x504 with 1 Axes>"
      ]
     },
     "metadata": {
      "needs_background": "light"
     },
     "output_type": "display_data"
    }
   ],
   "source": [
    "# Plotting the scatter plot of points and color coding by class\n",
    "plt.figure(figsize=(8,7))\n",
    "plt.scatter(testing_plot[:,0], testing_plot[:,1], alpha = 0.1, c = y_test.ravel());\n",
    "plt.title('Outputs')"
   ]
  },
  {
   "cell_type": "markdown",
   "id": "a74fcf8f",
   "metadata": {
    "papermill": {
     "duration": 0.050487,
     "end_time": "2021-12-02T00:25:25.763515",
     "exception": false,
     "start_time": "2021-12-02T00:25:25.713028",
     "status": "completed"
    },
    "tags": []
   },
   "source": [
    "Probability contours"
   ]
  },
  {
   "cell_type": "code",
   "execution_count": 27,
   "id": "d0afc8e3",
   "metadata": {
    "execution": {
     "iopub.execute_input": "2021-12-02T00:25:25.870343Z",
     "iopub.status.busy": "2021-12-02T00:25:25.869289Z",
     "iopub.status.idle": "2021-12-02T00:25:25.881005Z",
     "shell.execute_reply": "2021-12-02T00:25:25.880455Z"
    },
    "papermill": {
     "duration": 0.067438,
     "end_time": "2021-12-02T00:25:25.881140",
     "exception": false,
     "start_time": "2021-12-02T00:25:25.813702",
     "status": "completed"
    },
    "tags": []
   },
   "outputs": [],
   "source": [
    "model_prob = Model(layers[-2:]) "
   ]
  },
  {
   "cell_type": "code",
   "execution_count": 28,
   "id": "9b96e238",
   "metadata": {
    "execution": {
     "iopub.execute_input": "2021-12-02T00:25:25.992732Z",
     "iopub.status.busy": "2021-12-02T00:25:25.991479Z",
     "iopub.status.idle": "2021-12-02T00:25:26.008833Z",
     "shell.execute_reply": "2021-12-02T00:25:26.009303Z"
    },
    "papermill": {
     "duration": 0.075166,
     "end_time": "2021-12-02T00:25:26.009472",
     "exception": false,
     "start_time": "2021-12-02T00:25:25.934306",
     "status": "completed"
    },
    "tags": []
   },
   "outputs": [],
   "source": [
    "#creating the x and y ranges according to the above generated plot.\n",
    "x_range = np.linspace(-4, 1, 100) \n",
    "y_range = np.linspace(-6, 6, 100) \n",
    "x_grid, y_grid = np.meshgrid(x_range, y_range) # x_grid and y_grig are of size 100 X 100\n",
    "\n",
    "# converting x_grid and y_grid to continuous arrays\n",
    "x_gridflat = np.ravel(x_grid)\n",
    "y_gridflat = np.ravel(y_grid)\n",
    "\n",
    "# The last layer of the current model takes two columns as input. Hence transpose of np.vstack() is required.\n",
    "X = np.vstack((x_gridflat, y_gridflat)).T\n",
    "\n",
    "prob_contour = model_prob(X).reshape(100,100) "
   ]
  },
  {
   "cell_type": "code",
   "execution_count": 29,
   "id": "da72499a",
   "metadata": {
    "execution": {
     "iopub.execute_input": "2021-12-02T00:25:26.153147Z",
     "iopub.status.busy": "2021-12-02T00:25:26.151501Z",
     "iopub.status.idle": "2021-12-02T00:25:26.436781Z",
     "shell.execute_reply": "2021-12-02T00:25:26.437265Z"
    },
    "papermill": {
     "duration": 0.37293,
     "end_time": "2021-12-02T00:25:26.437424",
     "exception": false,
     "start_time": "2021-12-02T00:25:26.064494",
     "status": "completed"
    },
    "tags": []
   },
   "outputs": [
    {
     "data": {
      "image/png": "[encoded data removed]",
      "text/plain": [
       "<Figure size 720x648 with 1 Axes>"
      ]
     },
     "metadata": {
      "needs_background": "light"
     },
     "output_type": "display_data"
    }
   ],
   "source": [
    "plt.figure(figsize=(10,9))\n",
    "plt.scatter(testing_plot[:,0], testing_plot[:,1], alpha = 0.1, c = y_test.ravel())\n",
    "contours = plt.contour(x_grid,y_grid,prob_contour)\n",
    "plt.title('Probability Contours')\n",
    "plt.clabel(contours, inline = True );"
   ]
  },
  {
   "cell_type": "code",
   "execution_count": null,
   "id": "e81b4ac7",
   "metadata": {
    "papermill": {
     "duration": 0.05689,
     "end_time": "2021-12-02T00:25:26.550816",
     "exception": false,
     "start_time": "2021-12-02T00:25:26.493926",
     "status": "completed"
    },
    "tags": []
   },
   "outputs": [],
   "source": []
  }
 ],
 "metadata": {
  "kernelspec": {
   "display_name": "Python 3",
   "language": "python",
   "name": "python3"
  },
  "language_info": {
   "codemirror_mode": {
    "name": "ipython",
    "version": 3
   },
   "file_extension": ".py",
   "mimetype": "text/x-python",
   "name": "python",
   "nbconvert_exporter": "python",
   "pygments_lexer": "ipython3",
   "version": "3.6.15"
  },
  "papermill": {
   "default_parameters": {},
   "duration": 111.700051,
   "end_time": "2021-12-02T00:25:27.014889",
   "environment_variables": {},
   "exception": null,
   "input_path": "2020-08-11-part2.ipynb",
   "output_path": "2020-08-11-part2.ipynb",
   "parameters": {},
   "start_time": "2021-12-02T00:23:35.314838",
   "version": "2.3.3"
  }
 },
 "nbformat": 4,
 "nbformat_minor": 5
}