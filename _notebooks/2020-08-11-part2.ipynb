{
 "cells": [
  {
   "cell_type": "markdown",
   "id": "98380cd3",
   "metadata": {
    "papermill": {
     "duration": 0.031227,
     "end_time": "2022-09-22T20:11:54.401629",
     "exception": false,
     "start_time": "2022-09-22T20:11:54.370402",
     "status": "completed"
    },
    "tags": []
   },
   "source": [
    "# Distinguish Your Own Digits (DYOD)"
   ]
  },
  {
   "cell_type": "markdown",
   "id": "ef31240d",
   "metadata": {
    "papermill": {
     "duration": 0.029759,
     "end_time": "2022-09-22T20:11:54.457936",
     "exception": false,
     "start_time": "2022-09-22T20:11:54.428177",
     "status": "completed"
    },
    "tags": []
   },
   "source": [
    "You are going to write a classifier that distinguishes between the number 3 and number 8."
   ]
  },
  {
   "cell_type": "code",
   "execution_count": 1,
   "id": "b15c8646",
   "metadata": {
    "execution": {
     "iopub.execute_input": "2022-09-22T20:11:54.518273Z",
     "iopub.status.busy": "2022-09-22T20:11:54.517641Z",
     "iopub.status.idle": "2022-09-22T20:11:54.529847Z",
     "shell.execute_reply": "2022-09-22T20:11:54.529346Z"
    },
    "papermill": {
     "duration": 0.047636,
     "end_time": "2022-09-22T20:11:54.529982",
     "exception": false,
     "start_time": "2022-09-22T20:11:54.482346",
     "status": "completed"
    },
    "tags": []
   },
   "outputs": [],
   "source": [
    "%load_ext autoreload\n",
    "%autoreload 2"
   ]
  },
  {
   "cell_type": "code",
   "execution_count": 2,
   "id": "22ef38dc",
   "metadata": {
    "execution": {
     "iopub.execute_input": "2022-09-22T20:11:54.583069Z",
     "iopub.status.busy": "2022-09-22T20:11:54.582413Z",
     "iopub.status.idle": "2022-09-22T20:11:55.177675Z",
     "shell.execute_reply": "2022-09-22T20:11:55.169974Z"
    },
    "papermill": {
     "duration": 0.623946,
     "end_time": "2022-09-22T20:11:55.177944",
     "exception": false,
     "start_time": "2022-09-22T20:11:54.553998",
     "status": "completed"
    },
    "tags": []
   },
   "outputs": [],
   "source": [
    "%matplotlib inline\n",
    "import numpy as np\n",
    "import matplotlib.pyplot as plt\n",
    "import pandas as pd"
   ]
  },
  {
   "cell_type": "markdown",
   "id": "ba036198",
   "metadata": {
    "papermill": {
     "duration": 0.026551,
     "end_time": "2022-09-22T20:11:55.229032",
     "exception": false,
     "start_time": "2022-09-22T20:11:55.202481",
     "status": "completed"
    },
    "tags": []
   },
   "source": [
    "From the command line run `pip install mnist`. This is a library that will help you bring down the mnist dataset. If you run this from a notebook, you need to put  `!pip install mnist` in a cell by itself."
   ]
  },
  {
   "cell_type": "code",
   "execution_count": 3,
   "id": "bb6ad8a1",
   "metadata": {
    "execution": {
     "iopub.execute_input": "2022-09-22T20:11:55.284924Z",
     "iopub.status.busy": "2022-09-22T20:11:55.284274Z",
     "iopub.status.idle": "2022-09-22T20:11:56.977378Z",
     "shell.execute_reply": "2022-09-22T20:11:56.978227Z"
    },
    "papermill": {
     "duration": 1.724396,
     "end_time": "2022-09-22T20:11:56.978383",
     "exception": false,
     "start_time": "2022-09-22T20:11:55.253987",
     "status": "completed"
    },
    "tags": []
   },
   "outputs": [
    {
     "name": "stdout",
     "output_type": "stream",
     "text": [
      "Collecting mnist\r\n"
     ]
    },
    {
     "name": "stdout",
     "output_type": "stream",
     "text": [
      "  Downloading mnist-0.2.2-py2.py3-none-any.whl (3.5 kB)\r\n",
      "Requirement already satisfied: numpy in /opt/hostedtoolcache/Python/3.6.15/x64/lib/python3.6/site-packages (from mnist) (1.19.5)\r\n"
     ]
    },
    {
     "name": "stdout",
     "output_type": "stream",
     "text": [
      "Installing collected packages: mnist\r\n",
      "Successfully installed mnist-0.2.2\r\n"
     ]
    }
   ],
   "source": [
    "!pip install mnist"
   ]
  },
  {
   "cell_type": "markdown",
   "id": "69df9c9a",
   "metadata": {
    "papermill": {
     "duration": 0.025041,
     "end_time": "2022-09-22T20:11:57.028778",
     "exception": false,
     "start_time": "2022-09-22T20:11:57.003737",
     "status": "completed"
    },
    "tags": []
   },
   "source": [
    "## Preparing the Data"
   ]
  },
  {
   "cell_type": "code",
   "execution_count": 4,
   "id": "7f69d806",
   "metadata": {
    "execution": {
     "iopub.execute_input": "2022-09-22T20:11:57.095816Z",
     "iopub.status.busy": "2022-09-22T20:11:57.084417Z",
     "iopub.status.idle": "2022-09-22T20:11:57.101182Z",
     "shell.execute_reply": "2022-09-22T20:11:57.101649Z"
    },
    "papermill": {
     "duration": 0.0484,
     "end_time": "2022-09-22T20:11:57.101792",
     "exception": false,
     "start_time": "2022-09-22T20:11:57.053392",
     "status": "completed"
    },
    "tags": []
   },
   "outputs": [],
   "source": [
    "import mnist"
   ]
  },
  {
   "cell_type": "code",
   "execution_count": 5,
   "id": "a411e44f",
   "metadata": {
    "execution": {
     "iopub.execute_input": "2022-09-22T20:11:57.159467Z",
     "iopub.status.busy": "2022-09-22T20:11:57.158832Z",
     "iopub.status.idle": "2022-09-22T20:11:57.830691Z",
     "shell.execute_reply": "2022-09-22T20:11:57.831373Z"
    },
    "papermill": {
     "duration": 0.704843,
     "end_time": "2022-09-22T20:11:57.831586",
     "exception": false,
     "start_time": "2022-09-22T20:11:57.126743",
     "status": "completed"
    },
    "tags": []
   },
   "outputs": [],
   "source": [
    "train_images = mnist.train_images()\n",
    "train_labels = mnist.train_labels()"
   ]
  },
  {
   "cell_type": "code",
   "execution_count": 6,
   "id": "dceab3a5",
   "metadata": {
    "execution": {
     "iopub.execute_input": "2022-09-22T20:11:57.890394Z",
     "iopub.status.busy": "2022-09-22T20:11:57.889370Z",
     "iopub.status.idle": "2022-09-22T20:11:57.908836Z",
     "shell.execute_reply": "2022-09-22T20:11:57.908341Z"
    },
    "papermill": {
     "duration": 0.049566,
     "end_time": "2022-09-22T20:11:57.908964",
     "exception": false,
     "start_time": "2022-09-22T20:11:57.859398",
     "status": "completed"
    },
    "tags": []
   },
   "outputs": [
    {
     "data": {
      "text/plain": [
       "((60000, 28, 28), (60000,))"
      ]
     },
     "execution_count": 6,
     "metadata": {},
     "output_type": "execute_result"
    }
   ],
   "source": [
    "train_images.shape, train_labels.shape"
   ]
  },
  {
   "cell_type": "code",
   "execution_count": 7,
   "id": "f50dc2bb",
   "metadata": {
    "execution": {
     "iopub.execute_input": "2022-09-22T20:11:57.963790Z",
     "iopub.status.busy": "2022-09-22T20:11:57.963165Z",
     "iopub.status.idle": "2022-09-22T20:11:58.201560Z",
     "shell.execute_reply": "2022-09-22T20:11:58.202066Z"
    },
    "papermill": {
     "duration": 0.268231,
     "end_time": "2022-09-22T20:11:58.202224",
     "exception": false,
     "start_time": "2022-09-22T20:11:57.933993",
     "status": "completed"
    },
    "tags": []
   },
   "outputs": [],
   "source": [
    "test_images = mnist.test_images()\n",
    "test_labels = mnist.test_labels()"
   ]
  },
  {
   "cell_type": "code",
   "execution_count": 8,
   "id": "fc38cf1b",
   "metadata": {
    "execution": {
     "iopub.execute_input": "2022-09-22T20:11:58.257456Z",
     "iopub.status.busy": "2022-09-22T20:11:58.256237Z",
     "iopub.status.idle": "2022-09-22T20:11:58.278132Z",
     "shell.execute_reply": "2022-09-22T20:11:58.280589Z"
    },
    "papermill": {
     "duration": 0.053157,
     "end_time": "2022-09-22T20:11:58.280882",
     "exception": false,
     "start_time": "2022-09-22T20:11:58.227725",
     "status": "completed"
    },
    "tags": []
   },
   "outputs": [
    {
     "data": {
      "text/plain": [
       "((10000, 28, 28), (10000,))"
      ]
     },
     "execution_count": 8,
     "metadata": {},
     "output_type": "execute_result"
    }
   ],
   "source": [
    "test_images.shape, test_labels.shape"
   ]
  },
  {
   "cell_type": "code",
   "execution_count": 9,
   "id": "f9ed8fe0",
   "metadata": {
    "execution": {
     "iopub.execute_input": "2022-09-22T20:11:58.348440Z",
     "iopub.status.busy": "2022-09-22T20:11:58.342414Z",
     "iopub.status.idle": "2022-09-22T20:11:58.491289Z",
     "shell.execute_reply": "2022-09-22T20:11:58.490752Z"
    },
    "papermill": {
     "duration": 0.181702,
     "end_time": "2022-09-22T20:11:58.491418",
     "exception": false,
     "start_time": "2022-09-22T20:11:58.309716",
     "status": "completed"
    },
    "tags": []
   },
   "outputs": [
    {
     "name": "stdout",
     "output_type": "stream",
     "text": [
      "2\n"
     ]
    },
    {
     "data": {
      "text/plain": [
       "<matplotlib.image.AxesImage at 0x7f3fe5b9dc50>"
      ]
     },
     "execution_count": 9,
     "metadata": {},
     "output_type": "execute_result"
    },
    {
     "data": {
      "image/png": "[encoded data removed]",
      "text/plain": [
       "<Figure size 432x288 with 1 Axes>"
      ]
     },
     "metadata": {
      "needs_background": "light"
     },
     "output_type": "display_data"
    }
   ],
   "source": [
    "image_index = 7776 # You may select anything up to 60,000\n",
    "print(train_labels[image_index]) \n",
    "plt.imshow(train_images[image_index], cmap='Greys')"
   ]
  },
  {
   "cell_type": "markdown",
   "id": "a8d2388d",
   "metadata": {
    "papermill": {
     "duration": 0.026376,
     "end_time": "2022-09-22T20:11:58.544669",
     "exception": false,
     "start_time": "2022-09-22T20:11:58.518293",
     "status": "completed"
    },
    "tags": []
   },
   "source": [
    "## Filter data to get 3 and 8 out"
   ]
  },
  {
   "cell_type": "code",
   "execution_count": 10,
   "id": "776f7fc7",
   "metadata": {
    "execution": {
     "iopub.execute_input": "2022-09-22T20:11:58.603273Z",
     "iopub.status.busy": "2022-09-22T20:11:58.602111Z",
     "iopub.status.idle": "2022-09-22T20:11:58.621802Z",
     "shell.execute_reply": "2022-09-22T20:11:58.620657Z"
    },
    "papermill": {
     "duration": 0.050982,
     "end_time": "2022-09-22T20:11:58.621970",
     "exception": false,
     "start_time": "2022-09-22T20:11:58.570988",
     "status": "completed"
    },
    "tags": []
   },
   "outputs": [],
   "source": [
    "train_filter = np.where((train_labels == 3 ) | (train_labels == 8))\n",
    "test_filter = np.where((test_labels == 3) | (test_labels == 8))\n",
    "X_train, y_train = train_images[train_filter], train_labels[train_filter]\n",
    "X_test, y_test = test_images[test_filter], test_labels[test_filter]"
   ]
  },
  {
   "cell_type": "markdown",
   "id": "948f0b7e",
   "metadata": {
    "papermill": {
     "duration": 0.026306,
     "end_time": "2022-09-22T20:11:58.676290",
     "exception": false,
     "start_time": "2022-09-22T20:11:58.649984",
     "status": "completed"
    },
    "tags": []
   },
   "source": [
    "We normalize the pizel values in the 0 to 1 range"
   ]
  },
  {
   "cell_type": "code",
   "execution_count": 11,
   "id": "ee4c2166",
   "metadata": {
    "execution": {
     "iopub.execute_input": "2022-09-22T20:11:58.734258Z",
     "iopub.status.busy": "2022-09-22T20:11:58.733638Z",
     "iopub.status.idle": "2022-09-22T20:11:58.782914Z",
     "shell.execute_reply": "2022-09-22T20:11:58.782368Z"
    },
    "papermill": {
     "duration": 0.079929,
     "end_time": "2022-09-22T20:11:58.783051",
     "exception": false,
     "start_time": "2022-09-22T20:11:58.703122",
     "status": "completed"
    },
    "tags": []
   },
   "outputs": [],
   "source": [
    "X_train = X_train/255.\n",
    "X_test = X_test/255."
   ]
  },
  {
   "cell_type": "markdown",
   "id": "ddcf4fab",
   "metadata": {
    "papermill": {
     "duration": 0.026406,
     "end_time": "2022-09-22T20:11:58.836373",
     "exception": false,
     "start_time": "2022-09-22T20:11:58.809967",
     "status": "completed"
    },
    "tags": []
   },
   "source": [
    "And setup the labels as 1 (when the digit is 3) and 0 (when the digit is 8)"
   ]
  },
  {
   "cell_type": "code",
   "execution_count": 12,
   "id": "7dc908f2",
   "metadata": {
    "execution": {
     "iopub.execute_input": "2022-09-22T20:11:58.893907Z",
     "iopub.status.busy": "2022-09-22T20:11:58.893274Z",
     "iopub.status.idle": "2022-09-22T20:11:58.906276Z",
     "shell.execute_reply": "2022-09-22T20:11:58.905778Z"
    },
    "papermill": {
     "duration": 0.043838,
     "end_time": "2022-09-22T20:11:58.906409",
     "exception": false,
     "start_time": "2022-09-22T20:11:58.862571",
     "status": "completed"
    },
    "tags": []
   },
   "outputs": [],
   "source": [
    "y_train = 1*(y_train==3)\n",
    "y_test = 1*(y_test==3)"
   ]
  },
  {
   "cell_type": "code",
   "execution_count": 13,
   "id": "01e4e969",
   "metadata": {
    "execution": {
     "iopub.execute_input": "2022-09-22T20:11:58.964187Z",
     "iopub.status.busy": "2022-09-22T20:11:58.963571Z",
     "iopub.status.idle": "2022-09-22T20:11:58.979441Z",
     "shell.execute_reply": "2022-09-22T20:11:58.978744Z"
    },
    "papermill": {
     "duration": 0.046595,
     "end_time": "2022-09-22T20:11:58.979591",
     "exception": false,
     "start_time": "2022-09-22T20:11:58.932996",
     "status": "completed"
    },
    "tags": []
   },
   "outputs": [
    {
     "data": {
      "text/plain": [
       "((11982, 28, 28), (1984, 28, 28))"
      ]
     },
     "execution_count": 13,
     "metadata": {},
     "output_type": "execute_result"
    }
   ],
   "source": [
    "X_train.shape, X_test.shape"
   ]
  },
  {
   "cell_type": "markdown",
   "id": "5ccf3f85",
   "metadata": {
    "papermill": {
     "duration": 0.029977,
     "end_time": "2022-09-22T20:11:59.039121",
     "exception": false,
     "start_time": "2022-09-22T20:11:59.009144",
     "status": "completed"
    },
    "tags": []
   },
   "source": [
    "We reshape the data to flatten the image pixels into a set of features or co-variates:"
   ]
  },
  {
   "cell_type": "code",
   "execution_count": 14,
   "id": "5286a4a3",
   "metadata": {
    "execution": {
     "iopub.execute_input": "2022-09-22T20:11:59.104084Z",
     "iopub.status.busy": "2022-09-22T20:11:59.103387Z",
     "iopub.status.idle": "2022-09-22T20:11:59.117645Z",
     "shell.execute_reply": "2022-09-22T20:11:59.119833Z"
    },
    "papermill": {
     "duration": 0.05004,
     "end_time": "2022-09-22T20:11:59.120055",
     "exception": false,
     "start_time": "2022-09-22T20:11:59.070015",
     "status": "completed"
    },
    "tags": []
   },
   "outputs": [
    {
     "data": {
      "text/plain": [
       "((11982, 784), (1984, 784))"
      ]
     },
     "execution_count": 14,
     "metadata": {},
     "output_type": "execute_result"
    }
   ],
   "source": [
    "X_train = X_train.reshape(X_train.shape[0], -1)\n",
    "X_test = X_test.reshape(X_test.shape[0], -1)\n",
    "X_train.shape, X_test.shape"
   ]
  },
  {
   "cell_type": "code",
   "execution_count": 15,
   "id": "73c5f88a",
   "metadata": {
    "execution": {
     "iopub.execute_input": "2022-09-22T20:11:59.182587Z",
     "iopub.status.busy": "2022-09-22T20:11:59.181565Z",
     "iopub.status.idle": "2022-09-22T20:11:59.202344Z",
     "shell.execute_reply": "2022-09-22T20:11:59.201702Z"
    },
    "papermill": {
     "duration": 0.054298,
     "end_time": "2022-09-22T20:11:59.202477",
     "exception": false,
     "start_time": "2022-09-22T20:11:59.148179",
     "status": "completed"
    },
    "tags": []
   },
   "outputs": [],
   "source": [
    "#Impoting functions from 'Kudzu'\n",
    "from kudzu.model import Model\n",
    "from kudzu.train import Learner\n",
    "from kudzu.optim import GD\n",
    "from kudzu.data import Data, Sampler,Dataloader\n",
    "\n",
    "from kudzu.callbacks import AccCallback\n",
    "from kudzu.callbacks import ClfCallback\n",
    "\n",
    "from kudzu.loss import MSE\n",
    "\n",
    "from kudzu.layer import Sigmoid,Relu\n",
    "from kudzu.layer import Affine"
   ]
  },
  {
   "cell_type": "markdown",
   "id": "bc01172a",
   "metadata": {
    "papermill": {
     "duration": 0.033316,
     "end_time": "2022-09-22T20:11:59.263859",
     "exception": false,
     "start_time": "2022-09-22T20:11:59.230543",
     "status": "completed"
    },
    "tags": []
   },
   "source": [
    "### Let us create a `Config` class, to store important parameters. \n",
    "This class essentially plays the role of a dictionary."
   ]
  },
  {
   "cell_type": "code",
   "execution_count": 16,
   "id": "978281aa",
   "metadata": {
    "execution": {
     "iopub.execute_input": "2022-09-22T20:11:59.323567Z",
     "iopub.status.busy": "2022-09-22T20:11:59.322794Z",
     "iopub.status.idle": "2022-09-22T20:11:59.336111Z",
     "shell.execute_reply": "2022-09-22T20:11:59.335497Z"
    },
    "papermill": {
     "duration": 0.045326,
     "end_time": "2022-09-22T20:11:59.336243",
     "exception": false,
     "start_time": "2022-09-22T20:11:59.290917",
     "status": "completed"
    },
    "tags": []
   },
   "outputs": [],
   "source": [
    "class Config:\n",
    "    pass\n",
    "config = Config()\n",
    "config.lr = 0.001\n",
    "config.num_epochs = 250\n",
    "config.bs = 50"
   ]
  },
  {
   "cell_type": "markdown",
   "id": "1385fa59",
   "metadata": {
    "papermill": {
     "duration": 0.027169,
     "end_time": "2022-09-22T20:11:59.390699",
     "exception": false,
     "start_time": "2022-09-22T20:11:59.363530",
     "status": "completed"
    },
    "tags": []
   },
   "source": [
    "### Running Models with the Training data\n",
    "Details about the network layers:\n",
    "- A first affine layer has 784 inputs and does 100 affine transforms. These are followed by a Relu\n",
    "- A second affine layer has 100 inputs from the 100 activations of the past layer, and does 100 affine transforms. These are followed by a Relu\n",
    "- A third affine layer has 100 activations and does 2 affine transformations to create an embedding for visualization. There is no non-linearity here.\n",
    "- A final \"logistic regression\" which has an affine transform from 2 inputs to 1 output, which is squeezed through a sigmoid.\n"
   ]
  },
  {
   "cell_type": "code",
   "execution_count": 17,
   "id": "2b9c66db",
   "metadata": {
    "execution": {
     "iopub.execute_input": "2022-09-22T20:11:59.450717Z",
     "iopub.status.busy": "2022-09-22T20:11:59.450077Z",
     "iopub.status.idle": "2022-09-22T20:11:59.463597Z",
     "shell.execute_reply": "2022-09-22T20:11:59.463053Z"
    },
    "papermill": {
     "duration": 0.046083,
     "end_time": "2022-09-22T20:11:59.463726",
     "exception": false,
     "start_time": "2022-09-22T20:11:59.417643",
     "status": "completed"
    },
    "tags": []
   },
   "outputs": [],
   "source": [
    "data = Data(X_train, y_train.reshape(-1,1))\n",
    "sampler = Sampler(data, config.bs, shuffle=True)\n",
    "\n",
    "dl = Dataloader(data, sampler)\n",
    "\n",
    "opt = GD(config.lr)\n",
    "loss = MSE()"
   ]
  },
  {
   "cell_type": "code",
   "execution_count": 18,
   "id": "b275e4c2",
   "metadata": {
    "execution": {
     "iopub.execute_input": "2022-09-22T20:11:59.522618Z",
     "iopub.status.busy": "2022-09-22T20:11:59.521992Z",
     "iopub.status.idle": "2022-09-22T20:11:59.536112Z",
     "shell.execute_reply": "2022-09-22T20:11:59.536605Z"
    },
    "papermill": {
     "duration": 0.045774,
     "end_time": "2022-09-22T20:11:59.536753",
     "exception": false,
     "start_time": "2022-09-22T20:11:59.490979",
     "status": "completed"
    },
    "tags": []
   },
   "outputs": [],
   "source": [
    "training_data_x = X_train\n",
    "testing_data_x = X_test\n",
    "training_data_y = y_train.reshape(-1,1)\n",
    "testing_data_y = y_test.reshape(-1,1)"
   ]
  },
  {
   "cell_type": "code",
   "execution_count": 19,
   "id": "76951160",
   "metadata": {
    "execution": {
     "iopub.execute_input": "2022-09-22T20:11:59.596018Z",
     "iopub.status.busy": "2022-09-22T20:11:59.595350Z",
     "iopub.status.idle": "2022-09-22T20:11:59.613535Z",
     "shell.execute_reply": "2022-09-22T20:11:59.614017Z"
    },
    "papermill": {
     "duration": 0.050484,
     "end_time": "2022-09-22T20:11:59.614159",
     "exception": false,
     "start_time": "2022-09-22T20:11:59.563675",
     "status": "completed"
    },
    "tags": []
   },
   "outputs": [
    {
     "name": "stdout",
     "output_type": "stream",
     "text": [
      "xavier\n",
      "xavier\n",
      "xavier\n",
      "xavier\n",
      "xavier\n"
     ]
    }
   ],
   "source": [
    "layers = [Affine(\"first\", 784, 100), Relu(\"first\"), Affine(\"second\", 100, 100), Relu(\"second\"), Affine(\"third\", 100, 2), Affine(\"last\", 2, 1), Sigmoid(\"last\")]\n",
    "model_nn = Model(layers)\n",
    "model_lr = Model([Affine(\"logits\", 784, 1), Sigmoid(\"sigmoid\")])"
   ]
  },
  {
   "cell_type": "code",
   "execution_count": 20,
   "id": "6eede77a",
   "metadata": {
    "execution": {
     "iopub.execute_input": "2022-09-22T20:11:59.674486Z",
     "iopub.status.busy": "2022-09-22T20:11:59.673856Z",
     "iopub.status.idle": "2022-09-22T20:11:59.687179Z",
     "shell.execute_reply": "2022-09-22T20:11:59.687703Z"
    },
    "papermill": {
     "duration": 0.046328,
     "end_time": "2022-09-22T20:11:59.687857",
     "exception": false,
     "start_time": "2022-09-22T20:11:59.641529",
     "status": "completed"
    },
    "tags": []
   },
   "outputs": [],
   "source": [
    "nn_learner = Learner(loss, model_nn, opt, config.num_epochs)\n",
    "acc_nn = ClfCallback(nn_learner, config.bs, training_data_x , testing_data_x, training_data_y, testing_data_y)\n",
    "nn_learner.set_callbacks([acc_nn])"
   ]
  },
  {
   "cell_type": "code",
   "execution_count": 21,
   "id": "877b6cc7",
   "metadata": {
    "execution": {
     "iopub.execute_input": "2022-09-22T20:11:59.746921Z",
     "iopub.status.busy": "2022-09-22T20:11:59.746305Z",
     "iopub.status.idle": "2022-09-22T20:11:59.761269Z",
     "shell.execute_reply": "2022-09-22T20:11:59.760782Z"
    },
    "papermill": {
     "duration": 0.046411,
     "end_time": "2022-09-22T20:11:59.761396",
     "exception": false,
     "start_time": "2022-09-22T20:11:59.714985",
     "status": "completed"
    },
    "tags": []
   },
   "outputs": [],
   "source": [
    "lr_learner = Learner(loss, model_lr, opt, config.num_epochs)\n",
    "acc_lr = ClfCallback(lr_learner, config.bs, training_data_x , testing_data_x, training_data_y, testing_data_y)\n",
    "lr_learner.set_callbacks([acc_lr])"
   ]
  },
  {
   "cell_type": "code",
   "execution_count": 22,
   "id": "d9b133c3",
   "metadata": {
    "execution": {
     "iopub.execute_input": "2022-09-22T20:11:59.824614Z",
     "iopub.status.busy": "2022-09-22T20:11:59.821950Z",
     "iopub.status.idle": "2022-09-22T20:13:28.216535Z",
     "shell.execute_reply": "2022-09-22T20:13:28.217437Z"
    },
    "papermill": {
     "duration": 88.428916,
     "end_time": "2022-09-22T20:13:28.217595",
     "exception": false,
     "start_time": "2022-09-22T20:11:59.788679",
     "status": "completed"
    },
    "tags": []
   },
   "outputs": [
    {
     "name": "stdout",
     "output_type": "stream",
     "text": [
      "Epoch 0, Loss 0.2441\n",
      "Training Accuracy: 0.6540, Testing Accuracy: 0.6522\n",
      "\n"
     ]
    },
    {
     "name": "stdout",
     "output_type": "stream",
     "text": [
      "Epoch 10, Loss 0.1068\n",
      "Training Accuracy: 0.9097, Testing Accuracy: 0.9254\n",
      "\n"
     ]
    },
    {
     "name": "stdout",
     "output_type": "stream",
     "text": [
      "Epoch 20, Loss 0.0626\n",
      "Training Accuracy: 0.9364, Testing Accuracy: 0.9466\n",
      "\n"
     ]
    },
    {
     "name": "stdout",
     "output_type": "stream",
     "text": [
      "Epoch 30, Loss 0.0475\n",
      "Training Accuracy: 0.9505, Testing Accuracy: 0.9612\n",
      "\n"
     ]
    },
    {
     "name": "stdout",
     "output_type": "stream",
     "text": [
      "Epoch 40, Loss 0.0402\n",
      "Training Accuracy: 0.9573, Testing Accuracy: 0.9647\n",
      "\n"
     ]
    },
    {
     "name": "stdout",
     "output_type": "stream",
     "text": [
      "Epoch 50, Loss 0.036\n",
      "Training Accuracy: 0.9615, Testing Accuracy: 0.9672\n",
      "\n"
     ]
    },
    {
     "name": "stdout",
     "output_type": "stream",
     "text": [
      "Epoch 60, Loss 0.0331\n",
      "Training Accuracy: 0.9635, Testing Accuracy: 0.9693\n",
      "\n"
     ]
    },
    {
     "name": "stdout",
     "output_type": "stream",
     "text": [
      "Epoch 70, Loss 0.031\n",
      "Training Accuracy: 0.9657, Testing Accuracy: 0.9693\n",
      "\n"
     ]
    },
    {
     "name": "stdout",
     "output_type": "stream",
     "text": [
      "Epoch 80, Loss 0.0294\n",
      "Training Accuracy: 0.9672, Testing Accuracy: 0.9688\n",
      "\n"
     ]
    },
    {
     "name": "stdout",
     "output_type": "stream",
     "text": [
      "Epoch 90, Loss 0.0281\n",
      "Training Accuracy: 0.9685, Testing Accuracy: 0.9677\n",
      "\n"
     ]
    },
    {
     "name": "stdout",
     "output_type": "stream",
     "text": [
      "Epoch 100, Loss 0.027\n",
      "Training Accuracy: 0.9696, Testing Accuracy: 0.9677\n",
      "\n"
     ]
    },
    {
     "name": "stdout",
     "output_type": "stream",
     "text": [
      "Epoch 110, Loss 0.0261\n",
      "Training Accuracy: 0.9710, Testing Accuracy: 0.9672\n",
      "\n"
     ]
    },
    {
     "name": "stdout",
     "output_type": "stream",
     "text": [
      "Epoch 120, Loss 0.0253\n",
      "Training Accuracy: 0.9711, Testing Accuracy: 0.9677\n",
      "\n"
     ]
    },
    {
     "name": "stdout",
     "output_type": "stream",
     "text": [
      "Epoch 130, Loss 0.0246\n",
      "Training Accuracy: 0.9720, Testing Accuracy: 0.9672\n",
      "\n"
     ]
    },
    {
     "name": "stdout",
     "output_type": "stream",
     "text": [
      "Epoch 140, Loss 0.024\n",
      "Training Accuracy: 0.9727, Testing Accuracy: 0.9667\n",
      "\n"
     ]
    },
    {
     "name": "stdout",
     "output_type": "stream",
     "text": [
      "Epoch 150, Loss 0.0234\n",
      "Training Accuracy: 0.9735, Testing Accuracy: 0.9672\n",
      "\n"
     ]
    },
    {
     "name": "stdout",
     "output_type": "stream",
     "text": [
      "Epoch 160, Loss 0.0229\n",
      "Training Accuracy: 0.9740, Testing Accuracy: 0.9682\n",
      "\n"
     ]
    },
    {
     "name": "stdout",
     "output_type": "stream",
     "text": [
      "Epoch 170, Loss 0.0224\n",
      "Training Accuracy: 0.9745, Testing Accuracy: 0.9682\n",
      "\n"
     ]
    },
    {
     "name": "stdout",
     "output_type": "stream",
     "text": [
      "Epoch 180, Loss 0.022\n",
      "Training Accuracy: 0.9753, Testing Accuracy: 0.9693\n",
      "\n"
     ]
    },
    {
     "name": "stdout",
     "output_type": "stream",
     "text": [
      "Epoch 190, Loss 0.0215\n",
      "Training Accuracy: 0.9762, Testing Accuracy: 0.9698\n",
      "\n"
     ]
    },
    {
     "name": "stdout",
     "output_type": "stream",
     "text": [
      "Epoch 200, Loss 0.0211\n",
      "Training Accuracy: 0.9765, Testing Accuracy: 0.9703\n",
      "\n"
     ]
    },
    {
     "name": "stdout",
     "output_type": "stream",
     "text": [
      "Epoch 210, Loss 0.0207\n",
      "Training Accuracy: 0.9776, Testing Accuracy: 0.9713\n",
      "\n"
     ]
    },
    {
     "name": "stdout",
     "output_type": "stream",
     "text": [
      "Epoch 220, Loss 0.0203\n",
      "Training Accuracy: 0.9781, Testing Accuracy: 0.9718\n",
      "\n"
     ]
    },
    {
     "name": "stdout",
     "output_type": "stream",
     "text": [
      "Epoch 230, Loss 0.02\n",
      "Training Accuracy: 0.9784, Testing Accuracy: 0.9718\n",
      "\n"
     ]
    },
    {
     "name": "stdout",
     "output_type": "stream",
     "text": [
      "Epoch 240, Loss 0.0196\n",
      "Training Accuracy: 0.9788, Testing Accuracy: 0.9718\n",
      "\n"
     ]
    },
    {
     "data": {
      "text/plain": [
       "0.03025633232542329"
      ]
     },
     "execution_count": 22,
     "metadata": {},
     "output_type": "execute_result"
    }
   ],
   "source": [
    "nn_learner.train_loop(dl)"
   ]
  },
  {
   "cell_type": "code",
   "execution_count": 23,
   "id": "e0163366",
   "metadata": {
    "execution": {
     "iopub.execute_input": "2022-09-22T20:13:28.301383Z",
     "iopub.status.busy": "2022-09-22T20:13:28.300743Z",
     "iopub.status.idle": "2022-09-22T20:13:43.382090Z",
     "shell.execute_reply": "2022-09-22T20:13:43.382994Z"
    },
    "papermill": {
     "duration": 15.130589,
     "end_time": "2022-09-22T20:13:43.383147",
     "exception": false,
     "start_time": "2022-09-22T20:13:28.252558",
     "status": "completed"
    },
    "tags": []
   },
   "outputs": [
    {
     "name": "stdout",
     "output_type": "stream",
     "text": [
      "Epoch 0, Loss 0.2275\n",
      "Training Accuracy: 0.7526, Testing Accuracy: 0.7540\n",
      "\n"
     ]
    },
    {
     "name": "stdout",
     "output_type": "stream",
     "text": [
      "Epoch 10, Loss 0.099\n",
      "Training Accuracy: 0.9155, Testing Accuracy: 0.9269\n",
      "\n"
     ]
    },
    {
     "name": "stdout",
     "output_type": "stream",
     "text": [
      "Epoch 20, Loss 0.0772\n",
      "Training Accuracy: 0.9305, Testing Accuracy: 0.9405\n",
      "\n"
     ]
    },
    {
     "name": "stdout",
     "output_type": "stream",
     "text": [
      "Epoch 30, Loss 0.067\n",
      "Training Accuracy: 0.9367, Testing Accuracy: 0.9481\n",
      "\n"
     ]
    },
    {
     "name": "stdout",
     "output_type": "stream",
     "text": [
      "Epoch 40, Loss 0.0607\n",
      "Training Accuracy: 0.9415, Testing Accuracy: 0.9567\n",
      "\n"
     ]
    },
    {
     "name": "stdout",
     "output_type": "stream",
     "text": [
      "Epoch 50, Loss 0.0564\n",
      "Training Accuracy: 0.9452, Testing Accuracy: 0.9597\n",
      "\n"
     ]
    },
    {
     "name": "stdout",
     "output_type": "stream",
     "text": [
      "Epoch 60, Loss 0.0533\n",
      "Training Accuracy: 0.9477, Testing Accuracy: 0.9617\n",
      "\n"
     ]
    },
    {
     "name": "stdout",
     "output_type": "stream",
     "text": [
      "Epoch 70, Loss 0.0508\n",
      "Training Accuracy: 0.9498, Testing Accuracy: 0.9617\n",
      "\n"
     ]
    },
    {
     "name": "stdout",
     "output_type": "stream",
     "text": [
      "Epoch 80, Loss 0.0488\n",
      "Training Accuracy: 0.9516, Testing Accuracy: 0.9632\n",
      "\n"
     ]
    },
    {
     "name": "stdout",
     "output_type": "stream",
     "text": [
      "Epoch 90, Loss 0.0472\n",
      "Training Accuracy: 0.9526, Testing Accuracy: 0.9642\n",
      "\n"
     ]
    },
    {
     "name": "stdout",
     "output_type": "stream",
     "text": [
      "Epoch 100, Loss 0.0458\n",
      "Training Accuracy: 0.9540, Testing Accuracy: 0.9662\n",
      "\n"
     ]
    },
    {
     "name": "stdout",
     "output_type": "stream",
     "text": [
      "Epoch 110, Loss 0.0446\n",
      "Training Accuracy: 0.9546, Testing Accuracy: 0.9677\n",
      "\n"
     ]
    },
    {
     "name": "stdout",
     "output_type": "stream",
     "text": [
      "Epoch 120, Loss 0.0435\n",
      "Training Accuracy: 0.9558, Testing Accuracy: 0.9672\n",
      "\n"
     ]
    },
    {
     "name": "stdout",
     "output_type": "stream",
     "text": [
      "Epoch 130, Loss 0.0426\n",
      "Training Accuracy: 0.9569, Testing Accuracy: 0.9677\n",
      "\n"
     ]
    },
    {
     "name": "stdout",
     "output_type": "stream",
     "text": [
      "Epoch 140, Loss 0.0418\n",
      "Training Accuracy: 0.9573, Testing Accuracy: 0.9682\n",
      "\n"
     ]
    },
    {
     "name": "stdout",
     "output_type": "stream",
     "text": [
      "Epoch 150, Loss 0.0411\n",
      "Training Accuracy: 0.9576, Testing Accuracy: 0.9682\n",
      "\n"
     ]
    },
    {
     "name": "stdout",
     "output_type": "stream",
     "text": [
      "Epoch 160, Loss 0.0404\n",
      "Training Accuracy: 0.9579, Testing Accuracy: 0.9682\n",
      "\n"
     ]
    },
    {
     "name": "stdout",
     "output_type": "stream",
     "text": [
      "Epoch 170, Loss 0.0398\n",
      "Training Accuracy: 0.9584, Testing Accuracy: 0.9682\n",
      "\n"
     ]
    },
    {
     "name": "stdout",
     "output_type": "stream",
     "text": [
      "Epoch 180, Loss 0.0393\n",
      "Training Accuracy: 0.9590, Testing Accuracy: 0.9682\n",
      "\n"
     ]
    },
    {
     "name": "stdout",
     "output_type": "stream",
     "text": [
      "Epoch 190, Loss 0.0388\n",
      "Training Accuracy: 0.9592, Testing Accuracy: 0.9682\n",
      "\n"
     ]
    },
    {
     "name": "stdout",
     "output_type": "stream",
     "text": [
      "Epoch 200, Loss 0.0383\n",
      "Training Accuracy: 0.9599, Testing Accuracy: 0.9677\n",
      "\n"
     ]
    },
    {
     "name": "stdout",
     "output_type": "stream",
     "text": [
      "Epoch 210, Loss 0.0379\n",
      "Training Accuracy: 0.9598, Testing Accuracy: 0.9677\n",
      "\n"
     ]
    },
    {
     "name": "stdout",
     "output_type": "stream",
     "text": [
      "Epoch 220, Loss 0.0375\n",
      "Training Accuracy: 0.9599, Testing Accuracy: 0.9677\n",
      "\n"
     ]
    },
    {
     "name": "stdout",
     "output_type": "stream",
     "text": [
      "Epoch 230, Loss 0.0371\n",
      "Training Accuracy: 0.9604, Testing Accuracy: 0.9677\n",
      "\n"
     ]
    },
    {
     "name": "stdout",
     "output_type": "stream",
     "text": [
      "Epoch 240, Loss 0.0367\n",
      "Training Accuracy: 0.9605, Testing Accuracy: 0.9677\n",
      "\n"
     ]
    },
    {
     "data": {
      "text/plain": [
       "0.022105871918330456"
      ]
     },
     "execution_count": 23,
     "metadata": {},
     "output_type": "execute_result"
    }
   ],
   "source": [
    "lr_learner.train_loop(dl)"
   ]
  },
  {
   "cell_type": "code",
   "execution_count": 24,
   "id": "ca410940",
   "metadata": {
    "execution": {
     "iopub.execute_input": "2022-09-22T20:13:43.480529Z",
     "iopub.status.busy": "2022-09-22T20:13:43.479853Z",
     "iopub.status.idle": "2022-09-22T20:13:43.716411Z",
     "shell.execute_reply": "2022-09-22T20:13:43.716881Z"
    },
    "papermill": {
     "duration": 0.292765,
     "end_time": "2022-09-22T20:13:43.717032",
     "exception": false,
     "start_time": "2022-09-22T20:13:43.424267",
     "status": "completed"
    },
    "tags": []
   },
   "outputs": [
    {
     "data": {
      "text/plain": [
       "<matplotlib.legend.Legend at 0x7f3fd837e470>"
      ]
     },
     "execution_count": 24,
     "metadata": {},
     "output_type": "execute_result"
    },
    {
     "data": {
      "image/png": "[encoded data removed]",
      "text/plain": [
       "<Figure size 1080x720 with 1 Axes>"
      ]
     },
     "metadata": {
      "needs_background": "light"
     },
     "output_type": "display_data"
    }
   ],
   "source": [
    "#comparing the results of NN and LR\n",
    "plt.figure(figsize=(15,10))\n",
    "\n",
    "# Neural Network plots\n",
    "plt.plot(acc_nn.accuracies, 'r-', label = \"Training Accuracies - NN\")\n",
    "plt.plot(acc_nn.test_accuracies, 'g-', label = \"Testing Accuracies - NN\")\n",
    "\n",
    "# Logistic Regression plots\n",
    "plt.plot(acc_lr.accuracies, 'k-', label = \"Training Accuracies - LR\")\n",
    "plt.plot(acc_lr.test_accuracies, 'b-', label = \"Testing Accuracies - LR\")\n",
    "plt.legend()"
   ]
  },
  {
   "cell_type": "markdown",
   "id": "80dfb35c",
   "metadata": {
    "papermill": {
     "duration": 0.041492,
     "end_time": "2022-09-22T20:13:43.800402",
     "exception": false,
     "start_time": "2022-09-22T20:13:43.758910",
     "status": "completed"
    },
    "tags": []
   },
   "source": [
    "#### Plotting the outputs of this layer of the NN.\n"
   ]
  },
  {
   "cell_type": "code",
   "execution_count": 25,
   "id": "45eb2ff5",
   "metadata": {
    "execution": {
     "iopub.execute_input": "2022-09-22T20:13:43.890163Z",
     "iopub.status.busy": "2022-09-22T20:13:43.889526Z",
     "iopub.status.idle": "2022-09-22T20:13:43.913177Z",
     "shell.execute_reply": "2022-09-22T20:13:43.912569Z"
    },
    "papermill": {
     "duration": 0.071282,
     "end_time": "2022-09-22T20:13:43.913304",
     "exception": false,
     "start_time": "2022-09-22T20:13:43.842022",
     "status": "completed"
    },
    "tags": []
   },
   "outputs": [],
   "source": [
    "new_model = Model(layers[:-2])\n",
    "testing_plot = new_model(testing_data_x)"
   ]
  },
  {
   "cell_type": "code",
   "execution_count": 26,
   "id": "4c0a5485",
   "metadata": {
    "execution": {
     "iopub.execute_input": "2022-09-22T20:13:44.003059Z",
     "iopub.status.busy": "2022-09-22T20:13:44.002418Z",
     "iopub.status.idle": "2022-09-22T20:13:44.203024Z",
     "shell.execute_reply": "2022-09-22T20:13:44.202334Z"
    },
    "papermill": {
     "duration": 0.247047,
     "end_time": "2022-09-22T20:13:44.203169",
     "exception": false,
     "start_time": "2022-09-22T20:13:43.956122",
     "status": "completed"
    },
    "tags": []
   },
   "outputs": [
    {
     "data": {
      "text/plain": [
       "Text(0.5, 1.0, 'Outputs')"
      ]
     },
     "execution_count": 26,
     "metadata": {},
     "output_type": "execute_result"
    },
    {
     "data": {
      "image/png": "[encoded data removed]",
      "text/plain": [
       "<Figure size 576x504 with 1 Axes>"
      ]
     },
     "metadata": {
      "needs_background": "light"
     },
     "output_type": "display_data"
    }
   ],
   "source": [
    "# Plotting the scatter plot of points and color coding by class\n",
    "plt.figure(figsize=(8,7))\n",
    "plt.scatter(testing_plot[:,0], testing_plot[:,1], alpha = 0.1, c = y_test.ravel());\n",
    "plt.title('Outputs')"
   ]
  },
  {
   "cell_type": "markdown",
   "id": "a74fcf8f",
   "metadata": {
    "papermill": {
     "duration": 0.044156,
     "end_time": "2022-09-22T20:13:44.291832",
     "exception": false,
     "start_time": "2022-09-22T20:13:44.247676",
     "status": "completed"
    },
    "tags": []
   },
   "source": [
    "Probability contours"
   ]
  },
  {
   "cell_type": "code",
   "execution_count": 27,
   "id": "d0afc8e3",
   "metadata": {
    "execution": {
     "iopub.execute_input": "2022-09-22T20:13:44.385284Z",
     "iopub.status.busy": "2022-09-22T20:13:44.384689Z",
     "iopub.status.idle": "2022-09-22T20:13:44.398565Z",
     "shell.execute_reply": "2022-09-22T20:13:44.399026Z"
    },
    "papermill": {
     "duration": 0.063016,
     "end_time": "2022-09-22T20:13:44.399169",
     "exception": false,
     "start_time": "2022-09-22T20:13:44.336153",
     "status": "completed"
    },
    "tags": []
   },
   "outputs": [],
   "source": [
    "model_prob = Model(layers[-2:]) "
   ]
  },
  {
   "cell_type": "code",
   "execution_count": 28,
   "id": "9b96e238",
   "metadata": {
    "execution": {
     "iopub.execute_input": "2022-09-22T20:13:44.533244Z",
     "iopub.status.busy": "2022-09-22T20:13:44.532639Z",
     "iopub.status.idle": "2022-09-22T20:13:44.547389Z",
     "shell.execute_reply": "2022-09-22T20:13:44.547859Z"
    },
    "papermill": {
     "duration": 0.104221,
     "end_time": "2022-09-22T20:13:44.548008",
     "exception": false,
     "start_time": "2022-09-22T20:13:44.443787",
     "status": "completed"
    },
    "tags": []
   },
   "outputs": [],
   "source": [
    "#creating the x and y ranges according to the above generated plot.\n",
    "x_range = np.linspace(-4, 1, 100) \n",
    "y_range = np.linspace(-6, 6, 100) \n",
    "x_grid, y_grid = np.meshgrid(x_range, y_range) # x_grid and y_grig are of size 100 X 100\n",
    "\n",
    "# converting x_grid and y_grid to continuous arrays\n",
    "x_gridflat = np.ravel(x_grid)\n",
    "y_gridflat = np.ravel(y_grid)\n",
    "\n",
    "# The last layer of the current model takes two columns as input. Hence transpose of np.vstack() is required.\n",
    "X = np.vstack((x_gridflat, y_gridflat)).T\n",
    "\n",
    "prob_contour = model_prob(X).reshape(100,100) "
   ]
  },
  {
   "cell_type": "code",
   "execution_count": 29,
   "id": "da72499a",
   "metadata": {
    "execution": {
     "iopub.execute_input": "2022-09-22T20:13:44.644683Z",
     "iopub.status.busy": "2022-09-22T20:13:44.644073Z",
     "iopub.status.idle": "2022-09-22T20:13:44.910311Z",
     "shell.execute_reply": "2022-09-22T20:13:44.910773Z"
    },
    "papermill": {
     "duration": 0.318035,
     "end_time": "2022-09-22T20:13:44.910917",
     "exception": false,
     "start_time": "2022-09-22T20:13:44.592882",
     "status": "completed"
    },
    "tags": []
   },
   "outputs": [
    {
     "data": {
      "image/png": "[encoded data removed]",
      "text/plain": [
       "<Figure size 720x648 with 1 Axes>"
      ]
     },
     "metadata": {
      "needs_background": "light"
     },
     "output_type": "display_data"
    }
   ],
   "source": [
    "plt.figure(figsize=(10,9))\n",
    "plt.scatter(testing_plot[:,0], testing_plot[:,1], alpha = 0.1, c = y_test.ravel())\n",
    "contours = plt.contour(x_grid,y_grid,prob_contour)\n",
    "plt.title('Probability Contours')\n",
    "plt.clabel(contours, inline = True );"
   ]
  },
  {
   "cell_type": "code",
   "execution_count": null,
   "id": "e81b4ac7",
   "metadata": {
    "papermill": {
     "duration": 0.046965,
     "end_time": "2022-09-22T20:13:45.005451",
     "exception": false,
     "start_time": "2022-09-22T20:13:44.958486",
     "status": "completed"
    },
    "tags": []
   },
   "outputs": [],
   "source": []
  }
 ],
 "metadata": {
  "kernelspec": {
   "display_name": "Python 3",
   "language": "python",
   "name": "python3"
  },
  "language_info": {
   "codemirror_mode": {
    "name": "ipython",
    "version": 3
   },
   "file_extension": ".py",
   "mimetype": "text/x-python",
   "name": "python",
   "nbconvert_exporter": "python",
   "pygments_lexer": "ipython3",
   "version": "3.6.15"
  },
  "papermill": {
   "default_parameters": {},
   "duration": 112.461232,
   "end_time": "2022-09-22T20:13:45.572645",
   "environment_variables": {},
   "exception": null,
   "input_path": "2020-08-11-part2.ipynb",
   "output_path": "2020-08-11-part2.ipynb",
   "parameters": {},
   "start_time": "2022-09-22T20:11:53.111413",
   "version": "2.3.3"
  }
 },
 "nbformat": 4,
 "nbformat_minor": 5
}