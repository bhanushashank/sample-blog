{
 "cells": [
  {
   "cell_type": "markdown",
   "id": "98380cd3",
   "metadata": {
    "papermill": {
     "duration": 0.029178,
     "end_time": "2022-07-28T20:09:49.642535",
     "exception": false,
     "start_time": "2022-07-28T20:09:49.613357",
     "status": "completed"
    },
    "tags": []
   },
   "source": [
    "# Distinguish Your Own Digits (DYOD)"
   ]
  },
  {
   "cell_type": "markdown",
   "id": "ef31240d",
   "metadata": {
    "papermill": {
     "duration": 0.024232,
     "end_time": "2022-07-28T20:09:49.691434",
     "exception": false,
     "start_time": "2022-07-28T20:09:49.667202",
     "status": "completed"
    },
    "tags": []
   },
   "source": [
    "You are going to write a classifier that distinguishes between the number 3 and number 8."
   ]
  },
  {
   "cell_type": "code",
   "execution_count": 1,
   "id": "b15c8646",
   "metadata": {
    "execution": {
     "iopub.execute_input": "2022-07-28T20:09:49.749540Z",
     "iopub.status.busy": "2022-07-28T20:09:49.747224Z",
     "iopub.status.idle": "2022-07-28T20:09:49.759730Z",
     "shell.execute_reply": "2022-07-28T20:09:49.759162Z"
    },
    "papermill": {
     "duration": 0.04423,
     "end_time": "2022-07-28T20:09:49.759849",
     "exception": false,
     "start_time": "2022-07-28T20:09:49.715619",
     "status": "completed"
    },
    "tags": []
   },
   "outputs": [],
   "source": [
    "%load_ext autoreload\n",
    "%autoreload 2"
   ]
  },
  {
   "cell_type": "code",
   "execution_count": 2,
   "id": "22ef38dc",
   "metadata": {
    "execution": {
     "iopub.execute_input": "2022-07-28T20:09:49.812017Z",
     "iopub.status.busy": "2022-07-28T20:09:49.811450Z",
     "iopub.status.idle": "2022-07-28T20:09:50.314511Z",
     "shell.execute_reply": "2022-07-28T20:09:50.314033Z"
    },
    "papermill": {
     "duration": 0.530709,
     "end_time": "2022-07-28T20:09:50.314627",
     "exception": false,
     "start_time": "2022-07-28T20:09:49.783918",
     "status": "completed"
    },
    "tags": []
   },
   "outputs": [],
   "source": [
    "%matplotlib inline\n",
    "import numpy as np\n",
    "import matplotlib.pyplot as plt\n",
    "import pandas as pd"
   ]
  },
  {
   "cell_type": "markdown",
   "id": "ba036198",
   "metadata": {
    "papermill": {
     "duration": 0.024466,
     "end_time": "2022-07-28T20:09:50.363115",
     "exception": false,
     "start_time": "2022-07-28T20:09:50.338649",
     "status": "completed"
    },
    "tags": []
   },
   "source": [
    "From the command line run `pip install mnist`. This is a library that will help you bring down the mnist dataset. If you run this from a notebook, you need to put  `!pip install mnist` in a cell by itself."
   ]
  },
  {
   "cell_type": "code",
   "execution_count": 3,
   "id": "bb6ad8a1",
   "metadata": {
    "execution": {
     "iopub.execute_input": "2022-07-28T20:09:50.415302Z",
     "iopub.status.busy": "2022-07-28T20:09:50.414736Z",
     "iopub.status.idle": "2022-07-28T20:09:52.000034Z",
     "shell.execute_reply": "2022-07-28T20:09:51.999559Z"
    },
    "papermill": {
     "duration": 1.612943,
     "end_time": "2022-07-28T20:09:52.000151",
     "exception": false,
     "start_time": "2022-07-28T20:09:50.387208",
     "status": "completed"
    },
    "tags": []
   },
   "outputs": [
    {
     "name": "stdout",
     "output_type": "stream",
     "text": [
      "Collecting mnist\r\n"
     ]
    },
    {
     "name": "stdout",
     "output_type": "stream",
     "text": [
      "  Downloading mnist-0.2.2-py2.py3-none-any.whl (3.5 kB)\r\n",
      "Requirement already satisfied: numpy in /opt/hostedtoolcache/Python/3.6.15/x64/lib/python3.6/site-packages (from mnist) (1.19.5)\r\n"
     ]
    },
    {
     "name": "stdout",
     "output_type": "stream",
     "text": [
      "Installing collected packages: mnist\r\n",
      "Successfully installed mnist-0.2.2\r\n"
     ]
    }
   ],
   "source": [
    "!pip install mnist"
   ]
  },
  {
   "cell_type": "markdown",
   "id": "69df9c9a",
   "metadata": {
    "papermill": {
     "duration": 0.024877,
     "end_time": "2022-07-28T20:09:52.050012",
     "exception": false,
     "start_time": "2022-07-28T20:09:52.025135",
     "status": "completed"
    },
    "tags": []
   },
   "source": [
    "## Preparing the Data"
   ]
  },
  {
   "cell_type": "code",
   "execution_count": 4,
   "id": "7f69d806",
   "metadata": {
    "execution": {
     "iopub.execute_input": "2022-07-28T20:09:52.103059Z",
     "iopub.status.busy": "2022-07-28T20:09:52.102513Z",
     "iopub.status.idle": "2022-07-28T20:09:52.116366Z",
     "shell.execute_reply": "2022-07-28T20:09:52.116798Z"
    },
    "papermill": {
     "duration": 0.042253,
     "end_time": "2022-07-28T20:09:52.116919",
     "exception": false,
     "start_time": "2022-07-28T20:09:52.074666",
     "status": "completed"
    },
    "tags": []
   },
   "outputs": [],
   "source": [
    "import mnist"
   ]
  },
  {
   "cell_type": "code",
   "execution_count": 5,
   "id": "a411e44f",
   "metadata": {
    "execution": {
     "iopub.execute_input": "2022-07-28T20:09:52.169713Z",
     "iopub.status.busy": "2022-07-28T20:09:52.169162Z",
     "iopub.status.idle": "2022-07-28T20:09:52.774011Z",
     "shell.execute_reply": "2022-07-28T20:09:52.773516Z"
    },
    "papermill": {
     "duration": 0.632436,
     "end_time": "2022-07-28T20:09:52.774130",
     "exception": false,
     "start_time": "2022-07-28T20:09:52.141694",
     "status": "completed"
    },
    "tags": []
   },
   "outputs": [],
   "source": [
    "train_images = mnist.train_images()\n",
    "train_labels = mnist.train_labels()"
   ]
  },
  {
   "cell_type": "code",
   "execution_count": 6,
   "id": "dceab3a5",
   "metadata": {
    "execution": {
     "iopub.execute_input": "2022-07-28T20:09:52.827758Z",
     "iopub.status.busy": "2022-07-28T20:09:52.827196Z",
     "iopub.status.idle": "2022-07-28T20:09:52.841498Z",
     "shell.execute_reply": "2022-07-28T20:09:52.840961Z"
    },
    "papermill": {
     "duration": 0.042605,
     "end_time": "2022-07-28T20:09:52.841602",
     "exception": false,
     "start_time": "2022-07-28T20:09:52.798997",
     "status": "completed"
    },
    "tags": []
   },
   "outputs": [
    {
     "data": {
      "text/plain": [
       "((60000, 28, 28), (60000,))"
      ]
     },
     "execution_count": 6,
     "metadata": {},
     "output_type": "execute_result"
    }
   ],
   "source": [
    "train_images.shape, train_labels.shape"
   ]
  },
  {
   "cell_type": "code",
   "execution_count": 7,
   "id": "f50dc2bb",
   "metadata": {
    "execution": {
     "iopub.execute_input": "2022-07-28T20:09:52.895011Z",
     "iopub.status.busy": "2022-07-28T20:09:52.894465Z",
     "iopub.status.idle": "2022-07-28T20:09:53.047660Z",
     "shell.execute_reply": "2022-07-28T20:09:53.047060Z"
    },
    "papermill": {
     "duration": 0.181239,
     "end_time": "2022-07-28T20:09:53.047771",
     "exception": false,
     "start_time": "2022-07-28T20:09:52.866532",
     "status": "completed"
    },
    "tags": []
   },
   "outputs": [],
   "source": [
    "test_images = mnist.test_images()\n",
    "test_labels = mnist.test_labels()"
   ]
  },
  {
   "cell_type": "code",
   "execution_count": 8,
   "id": "fc38cf1b",
   "metadata": {
    "execution": {
     "iopub.execute_input": "2022-07-28T20:09:53.102217Z",
     "iopub.status.busy": "2022-07-28T20:09:53.101650Z",
     "iopub.status.idle": "2022-07-28T20:09:53.113873Z",
     "shell.execute_reply": "2022-07-28T20:09:53.114402Z"
    },
    "papermill": {
     "duration": 0.041428,
     "end_time": "2022-07-28T20:09:53.114521",
     "exception": false,
     "start_time": "2022-07-28T20:09:53.073093",
     "status": "completed"
    },
    "tags": []
   },
   "outputs": [
    {
     "data": {
      "text/plain": [
       "((10000, 28, 28), (10000,))"
      ]
     },
     "execution_count": 8,
     "metadata": {},
     "output_type": "execute_result"
    }
   ],
   "source": [
    "test_images.shape, test_labels.shape"
   ]
  },
  {
   "cell_type": "code",
   "execution_count": 9,
   "id": "f9ed8fe0",
   "metadata": {
    "execution": {
     "iopub.execute_input": "2022-07-28T20:09:53.168504Z",
     "iopub.status.busy": "2022-07-28T20:09:53.167947Z",
     "iopub.status.idle": "2022-07-28T20:09:53.300488Z",
     "shell.execute_reply": "2022-07-28T20:09:53.300943Z"
    },
    "papermill": {
     "duration": 0.161292,
     "end_time": "2022-07-28T20:09:53.301066",
     "exception": false,
     "start_time": "2022-07-28T20:09:53.139774",
     "status": "completed"
    },
    "tags": []
   },
   "outputs": [
    {
     "name": "stdout",
     "output_type": "stream",
     "text": [
      "2\n"
     ]
    },
    {
     "data": {
      "text/plain": [
       "<matplotlib.image.AxesImage at 0x7fd2c1aa73c8>"
      ]
     },
     "execution_count": 9,
     "metadata": {},
     "output_type": "execute_result"
    },
    {
     "data": {
      "image/png": "[encoded data removed]",
      "text/plain": [
       "<Figure size 432x288 with 1 Axes>"
      ]
     },
     "metadata": {
      "needs_background": "light"
     },
     "output_type": "display_data"
    }
   ],
   "source": [
    "image_index = 7776 # You may select anything up to 60,000\n",
    "print(train_labels[image_index]) \n",
    "plt.imshow(train_images[image_index], cmap='Greys')"
   ]
  },
  {
   "cell_type": "markdown",
   "id": "a8d2388d",
   "metadata": {
    "papermill": {
     "duration": 0.026553,
     "end_time": "2022-07-28T20:09:53.354253",
     "exception": false,
     "start_time": "2022-07-28T20:09:53.327700",
     "status": "completed"
    },
    "tags": []
   },
   "source": [
    "## Filter data to get 3 and 8 out"
   ]
  },
  {
   "cell_type": "code",
   "execution_count": 10,
   "id": "776f7fc7",
   "metadata": {
    "execution": {
     "iopub.execute_input": "2022-07-28T20:09:53.410306Z",
     "iopub.status.busy": "2022-07-28T20:09:53.409719Z",
     "iopub.status.idle": "2022-07-28T20:09:53.427822Z",
     "shell.execute_reply": "2022-07-28T20:09:53.428239Z"
    },
    "papermill": {
     "duration": 0.047503,
     "end_time": "2022-07-28T20:09:53.428359",
     "exception": false,
     "start_time": "2022-07-28T20:09:53.380856",
     "status": "completed"
    },
    "tags": []
   },
   "outputs": [],
   "source": [
    "train_filter = np.where((train_labels == 3 ) | (train_labels == 8))\n",
    "test_filter = np.where((test_labels == 3) | (test_labels == 8))\n",
    "X_train, y_train = train_images[train_filter], train_labels[train_filter]\n",
    "X_test, y_test = test_images[test_filter], test_labels[test_filter]"
   ]
  },
  {
   "cell_type": "markdown",
   "id": "948f0b7e",
   "metadata": {
    "papermill": {
     "duration": 0.026601,
     "end_time": "2022-07-28T20:09:53.481624",
     "exception": false,
     "start_time": "2022-07-28T20:09:53.455023",
     "status": "completed"
    },
    "tags": []
   },
   "source": [
    "We normalize the pizel values in the 0 to 1 range"
   ]
  },
  {
   "cell_type": "code",
   "execution_count": 11,
   "id": "ee4c2166",
   "metadata": {
    "execution": {
     "iopub.execute_input": "2022-07-28T20:09:53.537871Z",
     "iopub.status.busy": "2022-07-28T20:09:53.537306Z",
     "iopub.status.idle": "2022-07-28T20:09:53.578736Z",
     "shell.execute_reply": "2022-07-28T20:09:53.578264Z"
    },
    "papermill": {
     "duration": 0.070891,
     "end_time": "2022-07-28T20:09:53.578841",
     "exception": false,
     "start_time": "2022-07-28T20:09:53.507950",
     "status": "completed"
    },
    "tags": []
   },
   "outputs": [],
   "source": [
    "X_train = X_train/255.\n",
    "X_test = X_test/255."
   ]
  },
  {
   "cell_type": "markdown",
   "id": "ddcf4fab",
   "metadata": {
    "papermill": {
     "duration": 0.026571,
     "end_time": "2022-07-28T20:09:53.632065",
     "exception": false,
     "start_time": "2022-07-28T20:09:53.605494",
     "status": "completed"
    },
    "tags": []
   },
   "source": [
    "And setup the labels as 1 (when the digit is 3) and 0 (when the digit is 8)"
   ]
  },
  {
   "cell_type": "code",
   "execution_count": 12,
   "id": "7dc908f2",
   "metadata": {
    "execution": {
     "iopub.execute_input": "2022-07-28T20:09:53.688431Z",
     "iopub.status.busy": "2022-07-28T20:09:53.687887Z",
     "iopub.status.idle": "2022-07-28T20:09:53.700071Z",
     "shell.execute_reply": "2022-07-28T20:09:53.700479Z"
    },
    "papermill": {
     "duration": 0.042124,
     "end_time": "2022-07-28T20:09:53.700598",
     "exception": false,
     "start_time": "2022-07-28T20:09:53.658474",
     "status": "completed"
    },
    "tags": []
   },
   "outputs": [],
   "source": [
    "y_train = 1*(y_train==3)\n",
    "y_test = 1*(y_test==3)"
   ]
  },
  {
   "cell_type": "code",
   "execution_count": 13,
   "id": "01e4e969",
   "metadata": {
    "execution": {
     "iopub.execute_input": "2022-07-28T20:09:53.756847Z",
     "iopub.status.busy": "2022-07-28T20:09:53.756267Z",
     "iopub.status.idle": "2022-07-28T20:09:53.769265Z",
     "shell.execute_reply": "2022-07-28T20:09:53.768727Z"
    },
    "papermill": {
     "duration": 0.042392,
     "end_time": "2022-07-28T20:09:53.769363",
     "exception": false,
     "start_time": "2022-07-28T20:09:53.726971",
     "status": "completed"
    },
    "tags": []
   },
   "outputs": [
    {
     "data": {
      "text/plain": [
       "((11982, 28, 28), (1984, 28, 28))"
      ]
     },
     "execution_count": 13,
     "metadata": {},
     "output_type": "execute_result"
    }
   ],
   "source": [
    "X_train.shape, X_test.shape"
   ]
  },
  {
   "cell_type": "markdown",
   "id": "5ccf3f85",
   "metadata": {
    "papermill": {
     "duration": 0.026437,
     "end_time": "2022-07-28T20:09:53.822282",
     "exception": false,
     "start_time": "2022-07-28T20:09:53.795845",
     "status": "completed"
    },
    "tags": []
   },
   "source": [
    "We reshape the data to flatten the image pixels into a set of features or co-variates:"
   ]
  },
  {
   "cell_type": "code",
   "execution_count": 14,
   "id": "5286a4a3",
   "metadata": {
    "execution": {
     "iopub.execute_input": "2022-07-28T20:09:53.879334Z",
     "iopub.status.busy": "2022-07-28T20:09:53.878766Z",
     "iopub.status.idle": "2022-07-28T20:09:53.891958Z",
     "shell.execute_reply": "2022-07-28T20:09:53.891516Z"
    },
    "papermill": {
     "duration": 0.043156,
     "end_time": "2022-07-28T20:09:53.892057",
     "exception": false,
     "start_time": "2022-07-28T20:09:53.848901",
     "status": "completed"
    },
    "tags": []
   },
   "outputs": [
    {
     "data": {
      "text/plain": [
       "((11982, 784), (1984, 784))"
      ]
     },
     "execution_count": 14,
     "metadata": {},
     "output_type": "execute_result"
    }
   ],
   "source": [
    "X_train = X_train.reshape(X_train.shape[0], -1)\n",
    "X_test = X_test.reshape(X_test.shape[0], -1)\n",
    "X_train.shape, X_test.shape"
   ]
  },
  {
   "cell_type": "code",
   "execution_count": 15,
   "id": "73c5f88a",
   "metadata": {
    "execution": {
     "iopub.execute_input": "2022-07-28T20:09:53.949867Z",
     "iopub.status.busy": "2022-07-28T20:09:53.949309Z",
     "iopub.status.idle": "2022-07-28T20:09:53.967467Z",
     "shell.execute_reply": "2022-07-28T20:09:53.967026Z"
    },
    "papermill": {
     "duration": 0.048598,
     "end_time": "2022-07-28T20:09:53.967569",
     "exception": false,
     "start_time": "2022-07-28T20:09:53.918971",
     "status": "completed"
    },
    "tags": []
   },
   "outputs": [],
   "source": [
    "#Impoting functions from 'Kudzu'\n",
    "from kudzu.model import Model\n",
    "from kudzu.train import Learner\n",
    "from kudzu.optim import GD\n",
    "from kudzu.data import Data, Sampler,Dataloader\n",
    "\n",
    "from kudzu.callbacks import AccCallback\n",
    "from kudzu.callbacks import ClfCallback\n",
    "\n",
    "from kudzu.loss import MSE\n",
    "\n",
    "from kudzu.layer import Sigmoid,Relu\n",
    "from kudzu.layer import Affine"
   ]
  },
  {
   "cell_type": "markdown",
   "id": "bc01172a",
   "metadata": {
    "papermill": {
     "duration": 0.026802,
     "end_time": "2022-07-28T20:09:54.021321",
     "exception": false,
     "start_time": "2022-07-28T20:09:53.994519",
     "status": "completed"
    },
    "tags": []
   },
   "source": [
    "### Let us create a `Config` class, to store important parameters. \n",
    "This class essentially plays the role of a dictionary."
   ]
  },
  {
   "cell_type": "code",
   "execution_count": 16,
   "id": "978281aa",
   "metadata": {
    "execution": {
     "iopub.execute_input": "2022-07-28T20:09:54.078351Z",
     "iopub.status.busy": "2022-07-28T20:09:54.077793Z",
     "iopub.status.idle": "2022-07-28T20:09:54.090337Z",
     "shell.execute_reply": "2022-07-28T20:09:54.089791Z"
    },
    "papermill": {
     "duration": 0.042344,
     "end_time": "2022-07-28T20:09:54.090434",
     "exception": false,
     "start_time": "2022-07-28T20:09:54.048090",
     "status": "completed"
    },
    "tags": []
   },
   "outputs": [],
   "source": [
    "class Config:\n",
    "    pass\n",
    "config = Config()\n",
    "config.lr = 0.001\n",
    "config.num_epochs = 250\n",
    "config.bs = 50"
   ]
  },
  {
   "cell_type": "markdown",
   "id": "1385fa59",
   "metadata": {
    "papermill": {
     "duration": 0.026668,
     "end_time": "2022-07-28T20:09:54.144048",
     "exception": false,
     "start_time": "2022-07-28T20:09:54.117380",
     "status": "completed"
    },
    "tags": []
   },
   "source": [
    "### Running Models with the Training data\n",
    "Details about the network layers:\n",
    "- A first affine layer has 784 inputs and does 100 affine transforms. These are followed by a Relu\n",
    "- A second affine layer has 100 inputs from the 100 activations of the past layer, and does 100 affine transforms. These are followed by a Relu\n",
    "- A third affine layer has 100 activations and does 2 affine transformations to create an embedding for visualization. There is no non-linearity here.\n",
    "- A final \"logistic regression\" which has an affine transform from 2 inputs to 1 output, which is squeezed through a sigmoid.\n"
   ]
  },
  {
   "cell_type": "code",
   "execution_count": 17,
   "id": "2b9c66db",
   "metadata": {
    "execution": {
     "iopub.execute_input": "2022-07-28T20:09:54.201899Z",
     "iopub.status.busy": "2022-07-28T20:09:54.201339Z",
     "iopub.status.idle": "2022-07-28T20:09:54.212820Z",
     "shell.execute_reply": "2022-07-28T20:09:54.213242Z"
    },
    "papermill": {
     "duration": 0.042401,
     "end_time": "2022-07-28T20:09:54.213359",
     "exception": false,
     "start_time": "2022-07-28T20:09:54.170958",
     "status": "completed"
    },
    "tags": []
   },
   "outputs": [],
   "source": [
    "data = Data(X_train, y_train.reshape(-1,1))\n",
    "sampler = Sampler(data, config.bs, shuffle=True)\n",
    "\n",
    "dl = Dataloader(data, sampler)\n",
    "\n",
    "opt = GD(config.lr)\n",
    "loss = MSE()"
   ]
  },
  {
   "cell_type": "code",
   "execution_count": 18,
   "id": "b275e4c2",
   "metadata": {
    "execution": {
     "iopub.execute_input": "2022-07-28T20:09:54.270478Z",
     "iopub.status.busy": "2022-07-28T20:09:54.269920Z",
     "iopub.status.idle": "2022-07-28T20:09:54.281021Z",
     "shell.execute_reply": "2022-07-28T20:09:54.281455Z"
    },
    "papermill": {
     "duration": 0.041385,
     "end_time": "2022-07-28T20:09:54.281565",
     "exception": false,
     "start_time": "2022-07-28T20:09:54.240180",
     "status": "completed"
    },
    "tags": []
   },
   "outputs": [],
   "source": [
    "training_data_x = X_train\n",
    "testing_data_x = X_test\n",
    "training_data_y = y_train.reshape(-1,1)\n",
    "testing_data_y = y_test.reshape(-1,1)"
   ]
  },
  {
   "cell_type": "code",
   "execution_count": 19,
   "id": "76951160",
   "metadata": {
    "execution": {
     "iopub.execute_input": "2022-07-28T20:09:54.338856Z",
     "iopub.status.busy": "2022-07-28T20:09:54.338292Z",
     "iopub.status.idle": "2022-07-28T20:09:54.353787Z",
     "shell.execute_reply": "2022-07-28T20:09:54.354200Z"
    },
    "papermill": {
     "duration": 0.045989,
     "end_time": "2022-07-28T20:09:54.354314",
     "exception": false,
     "start_time": "2022-07-28T20:09:54.308325",
     "status": "completed"
    },
    "tags": []
   },
   "outputs": [
    {
     "name": "stdout",
     "output_type": "stream",
     "text": [
      "xavier\n",
      "xavier\n",
      "xavier\n",
      "xavier\n",
      "xavier\n"
     ]
    }
   ],
   "source": [
    "layers = [Affine(\"first\", 784, 100), Relu(\"first\"), Affine(\"second\", 100, 100), Relu(\"second\"), Affine(\"third\", 100, 2), Affine(\"last\", 2, 1), Sigmoid(\"last\")]\n",
    "model_nn = Model(layers)\n",
    "model_lr = Model([Affine(\"logits\", 784, 1), Sigmoid(\"sigmoid\")])"
   ]
  },
  {
   "cell_type": "code",
   "execution_count": 20,
   "id": "6eede77a",
   "metadata": {
    "execution": {
     "iopub.execute_input": "2022-07-28T20:09:54.411280Z",
     "iopub.status.busy": "2022-07-28T20:09:54.410715Z",
     "iopub.status.idle": "2022-07-28T20:09:54.423209Z",
     "shell.execute_reply": "2022-07-28T20:09:54.422754Z"
    },
    "papermill": {
     "duration": 0.04184,
     "end_time": "2022-07-28T20:09:54.423306",
     "exception": false,
     "start_time": "2022-07-28T20:09:54.381466",
     "status": "completed"
    },
    "tags": []
   },
   "outputs": [],
   "source": [
    "nn_learner = Learner(loss, model_nn, opt, config.num_epochs)\n",
    "acc_nn = ClfCallback(nn_learner, config.bs, training_data_x , testing_data_x, training_data_y, testing_data_y)\n",
    "nn_learner.set_callbacks([acc_nn])"
   ]
  },
  {
   "cell_type": "code",
   "execution_count": 21,
   "id": "877b6cc7",
   "metadata": {
    "execution": {
     "iopub.execute_input": "2022-07-28T20:09:54.480960Z",
     "iopub.status.busy": "2022-07-28T20:09:54.480364Z",
     "iopub.status.idle": "2022-07-28T20:09:54.491842Z",
     "shell.execute_reply": "2022-07-28T20:09:54.491309Z"
    },
    "papermill": {
     "duration": 0.041523,
     "end_time": "2022-07-28T20:09:54.491938",
     "exception": false,
     "start_time": "2022-07-28T20:09:54.450415",
     "status": "completed"
    },
    "tags": []
   },
   "outputs": [],
   "source": [
    "lr_learner = Learner(loss, model_lr, opt, config.num_epochs)\n",
    "acc_lr = ClfCallback(lr_learner, config.bs, training_data_x , testing_data_x, training_data_y, testing_data_y)\n",
    "lr_learner.set_callbacks([acc_lr])"
   ]
  },
  {
   "cell_type": "code",
   "execution_count": 22,
   "id": "d9b133c3",
   "metadata": {
    "execution": {
     "iopub.execute_input": "2022-07-28T20:09:54.549846Z",
     "iopub.status.busy": "2022-07-28T20:09:54.549291Z",
     "iopub.status.idle": "2022-07-28T20:12:49.781549Z",
     "shell.execute_reply": "2022-07-28T20:12:49.782007Z"
    },
    "papermill": {
     "duration": 175.263001,
     "end_time": "2022-07-28T20:12:49.782132",
     "exception": false,
     "start_time": "2022-07-28T20:09:54.519131",
     "status": "completed"
    },
    "tags": []
   },
   "outputs": [
    {
     "name": "stdout",
     "output_type": "stream",
     "text": [
      "Epoch 0, Loss 0.2507\n",
      "Training Accuracy: 0.4448, Testing Accuracy: 0.4708\n",
      "\n"
     ]
    },
    {
     "name": "stdout",
     "output_type": "stream",
     "text": [
      "Epoch 10, Loss 0.2469\n",
      "Training Accuracy: 0.5380, Testing Accuracy: 0.5302\n",
      "\n"
     ]
    },
    {
     "name": "stdout",
     "output_type": "stream",
     "text": [
      "Epoch 20, Loss 0.2329\n",
      "Training Accuracy: 0.7636, Testing Accuracy: 0.7535\n",
      "\n"
     ]
    },
    {
     "name": "stdout",
     "output_type": "stream",
     "text": [
      "Epoch 30, Loss 0.1566\n",
      "Training Accuracy: 0.9022, Testing Accuracy: 0.9078\n",
      "\n"
     ]
    },
    {
     "name": "stdout",
     "output_type": "stream",
     "text": [
      "Epoch 40, Loss 0.0758\n",
      "Training Accuracy: 0.9272, Testing Accuracy: 0.9370\n",
      "\n"
     ]
    },
    {
     "name": "stdout",
     "output_type": "stream",
     "text": [
      "Epoch 50, Loss 0.0532\n",
      "Training Accuracy: 0.9432, Testing Accuracy: 0.9506\n",
      "\n"
     ]
    },
    {
     "name": "stdout",
     "output_type": "stream",
     "text": [
      "Epoch 60, Loss 0.0439\n",
      "Training Accuracy: 0.9508, Testing Accuracy: 0.9587\n",
      "\n"
     ]
    },
    {
     "name": "stdout",
     "output_type": "stream",
     "text": [
      "Epoch 70, Loss 0.0389\n",
      "Training Accuracy: 0.9561, Testing Accuracy: 0.9607\n",
      "\n"
     ]
    },
    {
     "name": "stdout",
     "output_type": "stream",
     "text": [
      "Epoch 80, Loss 0.0357\n",
      "Training Accuracy: 0.9587, Testing Accuracy: 0.9627\n",
      "\n"
     ]
    },
    {
     "name": "stdout",
     "output_type": "stream",
     "text": [
      "Epoch 90, Loss 0.0334\n",
      "Training Accuracy: 0.9602, Testing Accuracy: 0.9662\n",
      "\n"
     ]
    },
    {
     "name": "stdout",
     "output_type": "stream",
     "text": [
      "Epoch 100, Loss 0.0317\n",
      "Training Accuracy: 0.9628, Testing Accuracy: 0.9662\n",
      "\n"
     ]
    },
    {
     "name": "stdout",
     "output_type": "stream",
     "text": [
      "Epoch 110, Loss 0.0303\n",
      "Training Accuracy: 0.9641, Testing Accuracy: 0.9688\n",
      "\n"
     ]
    },
    {
     "name": "stdout",
     "output_type": "stream",
     "text": [
      "Epoch 120, Loss 0.0291\n",
      "Training Accuracy: 0.9662, Testing Accuracy: 0.9703\n",
      "\n"
     ]
    },
    {
     "name": "stdout",
     "output_type": "stream",
     "text": [
      "Epoch 130, Loss 0.0282\n",
      "Training Accuracy: 0.9672, Testing Accuracy: 0.9703\n",
      "\n"
     ]
    },
    {
     "name": "stdout",
     "output_type": "stream",
     "text": [
      "Epoch 140, Loss 0.0273\n",
      "Training Accuracy: 0.9685, Testing Accuracy: 0.9693\n",
      "\n"
     ]
    },
    {
     "name": "stdout",
     "output_type": "stream",
     "text": [
      "Epoch 150, Loss 0.0265\n",
      "Training Accuracy: 0.9690, Testing Accuracy: 0.9693\n",
      "\n"
     ]
    },
    {
     "name": "stdout",
     "output_type": "stream",
     "text": [
      "Epoch 160, Loss 0.0258\n",
      "Training Accuracy: 0.9701, Testing Accuracy: 0.9703\n",
      "\n"
     ]
    },
    {
     "name": "stdout",
     "output_type": "stream",
     "text": [
      "Epoch 170, Loss 0.0252\n",
      "Training Accuracy: 0.9705, Testing Accuracy: 0.9708\n",
      "\n"
     ]
    },
    {
     "name": "stdout",
     "output_type": "stream",
     "text": [
      "Epoch 180, Loss 0.0246\n",
      "Training Accuracy: 0.9714, Testing Accuracy: 0.9713\n",
      "\n"
     ]
    },
    {
     "name": "stdout",
     "output_type": "stream",
     "text": [
      "Epoch 190, Loss 0.024\n",
      "Training Accuracy: 0.9718, Testing Accuracy: 0.9713\n",
      "\n"
     ]
    },
    {
     "name": "stdout",
     "output_type": "stream",
     "text": [
      "Epoch 200, Loss 0.0235\n",
      "Training Accuracy: 0.9722, Testing Accuracy: 0.9723\n",
      "\n"
     ]
    },
    {
     "name": "stdout",
     "output_type": "stream",
     "text": [
      "Epoch 210, Loss 0.0231\n",
      "Training Accuracy: 0.9730, Testing Accuracy: 0.9728\n",
      "\n"
     ]
    },
    {
     "name": "stdout",
     "output_type": "stream",
     "text": [
      "Epoch 220, Loss 0.0226\n",
      "Training Accuracy: 0.9739, Testing Accuracy: 0.9733\n",
      "\n"
     ]
    },
    {
     "name": "stdout",
     "output_type": "stream",
     "text": [
      "Epoch 230, Loss 0.0222\n",
      "Training Accuracy: 0.9744, Testing Accuracy: 0.9728\n",
      "\n"
     ]
    },
    {
     "name": "stdout",
     "output_type": "stream",
     "text": [
      "Epoch 240, Loss 0.0217\n",
      "Training Accuracy: 0.9749, Testing Accuracy: 0.9718\n",
      "\n"
     ]
    },
    {
     "data": {
      "text/plain": [
       "0.003717024084738514"
      ]
     },
     "execution_count": 22,
     "metadata": {},
     "output_type": "execute_result"
    }
   ],
   "source": [
    "nn_learner.train_loop(dl)"
   ]
  },
  {
   "cell_type": "code",
   "execution_count": 23,
   "id": "e0163366",
   "metadata": {
    "execution": {
     "iopub.execute_input": "2022-07-28T20:12:49.855827Z",
     "iopub.status.busy": "2022-07-28T20:12:49.855125Z",
     "iopub.status.idle": "2022-07-28T20:13:02.025323Z",
     "shell.execute_reply": "2022-07-28T20:13:02.026315Z"
    },
    "papermill": {
     "duration": 12.209953,
     "end_time": "2022-07-28T20:13:02.026467",
     "exception": false,
     "start_time": "2022-07-28T20:12:49.816514",
     "status": "completed"
    },
    "tags": []
   },
   "outputs": [
    {
     "name": "stdout",
     "output_type": "stream",
     "text": [
      "Epoch 0, Loss 0.2473\n",
      "Training Accuracy: 0.6778, Testing Accuracy: 0.6809\n",
      "\n"
     ]
    },
    {
     "name": "stdout",
     "output_type": "stream",
     "text": [
      "Epoch 10, Loss 0.1052\n",
      "Training Accuracy: 0.9035, Testing Accuracy: 0.9108\n",
      "\n"
     ]
    },
    {
     "name": "stdout",
     "output_type": "stream",
     "text": [
      "Epoch 20, Loss 0.0805\n",
      "Training Accuracy: 0.9247, Testing Accuracy: 0.9350\n",
      "\n"
     ]
    },
    {
     "name": "stdout",
     "output_type": "stream",
     "text": [
      "Epoch 30, Loss 0.0691\n",
      "Training Accuracy: 0.9333, Testing Accuracy: 0.9446\n",
      "\n"
     ]
    },
    {
     "name": "stdout",
     "output_type": "stream",
     "text": [
      "Epoch 40, Loss 0.0623\n",
      "Training Accuracy: 0.9402, Testing Accuracy: 0.9496\n",
      "\n"
     ]
    },
    {
     "name": "stdout",
     "output_type": "stream",
     "text": [
      "Epoch 50, Loss 0.0576\n",
      "Training Accuracy: 0.9443, Testing Accuracy: 0.9536\n",
      "\n"
     ]
    },
    {
     "name": "stdout",
     "output_type": "stream",
     "text": [
      "Epoch 60, Loss 0.0542\n",
      "Training Accuracy: 0.9478, Testing Accuracy: 0.9587\n",
      "\n"
     ]
    },
    {
     "name": "stdout",
     "output_type": "stream",
     "text": [
      "Epoch 70, Loss 0.0516\n",
      "Training Accuracy: 0.9495, Testing Accuracy: 0.9612\n",
      "\n"
     ]
    },
    {
     "name": "stdout",
     "output_type": "stream",
     "text": [
      "Epoch 80, Loss 0.0495\n",
      "Training Accuracy: 0.9518, Testing Accuracy: 0.9632\n",
      "\n"
     ]
    },
    {
     "name": "stdout",
     "output_type": "stream",
     "text": [
      "Epoch 90, Loss 0.0477\n",
      "Training Accuracy: 0.9528, Testing Accuracy: 0.9637\n",
      "\n"
     ]
    },
    {
     "name": "stdout",
     "output_type": "stream",
     "text": [
      "Epoch 100, Loss 0.0463\n",
      "Training Accuracy: 0.9541, Testing Accuracy: 0.9647\n",
      "\n"
     ]
    },
    {
     "name": "stdout",
     "output_type": "stream",
     "text": [
      "Epoch 110, Loss 0.045\n",
      "Training Accuracy: 0.9550, Testing Accuracy: 0.9652\n",
      "\n"
     ]
    },
    {
     "name": "stdout",
     "output_type": "stream",
     "text": [
      "Epoch 120, Loss 0.0439\n",
      "Training Accuracy: 0.9560, Testing Accuracy: 0.9652\n",
      "\n"
     ]
    },
    {
     "name": "stdout",
     "output_type": "stream",
     "text": [
      "Epoch 130, Loss 0.043\n",
      "Training Accuracy: 0.9570, Testing Accuracy: 0.9662\n",
      "\n"
     ]
    },
    {
     "name": "stdout",
     "output_type": "stream",
     "text": [
      "Epoch 140, Loss 0.0421\n",
      "Training Accuracy: 0.9573, Testing Accuracy: 0.9662\n",
      "\n"
     ]
    },
    {
     "name": "stdout",
     "output_type": "stream",
     "text": [
      "Epoch 150, Loss 0.0414\n",
      "Training Accuracy: 0.9576, Testing Accuracy: 0.9662\n",
      "\n"
     ]
    },
    {
     "name": "stdout",
     "output_type": "stream",
     "text": [
      "Epoch 160, Loss 0.0407\n",
      "Training Accuracy: 0.9584, Testing Accuracy: 0.9667\n",
      "\n"
     ]
    },
    {
     "name": "stdout",
     "output_type": "stream",
     "text": [
      "Epoch 170, Loss 0.0401\n",
      "Training Accuracy: 0.9585, Testing Accuracy: 0.9667\n",
      "\n"
     ]
    },
    {
     "name": "stdout",
     "output_type": "stream",
     "text": [
      "Epoch 180, Loss 0.0395\n",
      "Training Accuracy: 0.9594, Testing Accuracy: 0.9667\n",
      "\n"
     ]
    },
    {
     "name": "stdout",
     "output_type": "stream",
     "text": [
      "Epoch 190, Loss 0.039\n",
      "Training Accuracy: 0.9599, Testing Accuracy: 0.9667\n",
      "\n"
     ]
    },
    {
     "name": "stdout",
     "output_type": "stream",
     "text": [
      "Epoch 200, Loss 0.0385\n",
      "Training Accuracy: 0.9602, Testing Accuracy: 0.9667\n",
      "\n"
     ]
    },
    {
     "name": "stdout",
     "output_type": "stream",
     "text": [
      "Epoch 210, Loss 0.038\n",
      "Training Accuracy: 0.9605, Testing Accuracy: 0.9667\n",
      "\n"
     ]
    },
    {
     "name": "stdout",
     "output_type": "stream",
     "text": [
      "Epoch 220, Loss 0.0376\n",
      "Training Accuracy: 0.9607, Testing Accuracy: 0.9662\n",
      "\n"
     ]
    },
    {
     "name": "stdout",
     "output_type": "stream",
     "text": [
      "Epoch 230, Loss 0.0372\n",
      "Training Accuracy: 0.9606, Testing Accuracy: 0.9662\n",
      "\n"
     ]
    },
    {
     "name": "stdout",
     "output_type": "stream",
     "text": [
      "Epoch 240, Loss 0.0368\n",
      "Training Accuracy: 0.9608, Testing Accuracy: 0.9657\n",
      "\n"
     ]
    },
    {
     "data": {
      "text/plain": [
       "0.020071035565674394"
      ]
     },
     "execution_count": 23,
     "metadata": {},
     "output_type": "execute_result"
    }
   ],
   "source": [
    "lr_learner.train_loop(dl)"
   ]
  },
  {
   "cell_type": "code",
   "execution_count": 24,
   "id": "ca410940",
   "metadata": {
    "execution": {
     "iopub.execute_input": "2022-07-28T20:13:02.116925Z",
     "iopub.status.busy": "2022-07-28T20:13:02.116322Z",
     "iopub.status.idle": "2022-07-28T20:13:02.339895Z",
     "shell.execute_reply": "2022-07-28T20:13:02.339158Z"
    },
    "papermill": {
     "duration": 0.272078,
     "end_time": "2022-07-28T20:13:02.340007",
     "exception": false,
     "start_time": "2022-07-28T20:13:02.067929",
     "status": "completed"
    },
    "tags": []
   },
   "outputs": [
    {
     "data": {
      "text/plain": [
       "<matplotlib.legend.Legend at 0x7fd2c1608a20>"
      ]
     },
     "execution_count": 24,
     "metadata": {},
     "output_type": "execute_result"
    },
    {
     "data": {
      "image/png": "[encoded data removed]",
      "text/plain": [
       "<Figure size 1080x720 with 1 Axes>"
      ]
     },
     "metadata": {
      "needs_background": "light"
     },
     "output_type": "display_data"
    }
   ],
   "source": [
    "#comparing the results of NN and LR\n",
    "plt.figure(figsize=(15,10))\n",
    "\n",
    "# Neural Network plots\n",
    "plt.plot(acc_nn.accuracies, 'r-', label = \"Training Accuracies - NN\")\n",
    "plt.plot(acc_nn.test_accuracies, 'g-', label = \"Testing Accuracies - NN\")\n",
    "\n",
    "# Logistic Regression plots\n",
    "plt.plot(acc_lr.accuracies, 'k-', label = \"Training Accuracies - LR\")\n",
    "plt.plot(acc_lr.test_accuracies, 'b-', label = \"Testing Accuracies - LR\")\n",
    "plt.legend()"
   ]
  },
  {
   "cell_type": "markdown",
   "id": "80dfb35c",
   "metadata": {
    "papermill": {
     "duration": 0.041849,
     "end_time": "2022-07-28T20:13:02.424064",
     "exception": false,
     "start_time": "2022-07-28T20:13:02.382215",
     "status": "completed"
    },
    "tags": []
   },
   "source": [
    "#### Plotting the outputs of this layer of the NN.\n"
   ]
  },
  {
   "cell_type": "code",
   "execution_count": 25,
   "id": "45eb2ff5",
   "metadata": {
    "execution": {
     "iopub.execute_input": "2022-07-28T20:13:02.511206Z",
     "iopub.status.busy": "2022-07-28T20:13:02.510644Z",
     "iopub.status.idle": "2022-07-28T20:13:02.546521Z",
     "shell.execute_reply": "2022-07-28T20:13:02.546057Z"
    },
    "papermill": {
     "duration": 0.08069,
     "end_time": "2022-07-28T20:13:02.546623",
     "exception": false,
     "start_time": "2022-07-28T20:13:02.465933",
     "status": "completed"
    },
    "tags": []
   },
   "outputs": [],
   "source": [
    "new_model = Model(layers[:-2])\n",
    "testing_plot = new_model(testing_data_x)"
   ]
  },
  {
   "cell_type": "code",
   "execution_count": 26,
   "id": "4c0a5485",
   "metadata": {
    "execution": {
     "iopub.execute_input": "2022-07-28T20:13:02.639980Z",
     "iopub.status.busy": "2022-07-28T20:13:02.639411Z",
     "iopub.status.idle": "2022-07-28T20:13:02.831991Z",
     "shell.execute_reply": "2022-07-28T20:13:02.831515Z"
    },
    "papermill": {
     "duration": 0.242413,
     "end_time": "2022-07-28T20:13:02.832098",
     "exception": false,
     "start_time": "2022-07-28T20:13:02.589685",
     "status": "completed"
    },
    "tags": []
   },
   "outputs": [
    {
     "data": {
      "text/plain": [
       "Text(0.5, 1.0, 'Outputs')"
      ]
     },
     "execution_count": 26,
     "metadata": {},
     "output_type": "execute_result"
    },
    {
     "data": {
      "image/png": "[encoded data removed]",
      "text/plain": [
       "<Figure size 576x504 with 1 Axes>"
      ]
     },
     "metadata": {
      "needs_background": "light"
     },
     "output_type": "display_data"
    }
   ],
   "source": [
    "# Plotting the scatter plot of points and color coding by class\n",
    "plt.figure(figsize=(8,7))\n",
    "plt.scatter(testing_plot[:,0], testing_plot[:,1], alpha = 0.1, c = y_test.ravel());\n",
    "plt.title('Outputs')"
   ]
  },
  {
   "cell_type": "markdown",
   "id": "a74fcf8f",
   "metadata": {
    "papermill": {
     "duration": 0.044482,
     "end_time": "2022-07-28T20:13:02.920608",
     "exception": false,
     "start_time": "2022-07-28T20:13:02.876126",
     "status": "completed"
    },
    "tags": []
   },
   "source": [
    "Probability contours"
   ]
  },
  {
   "cell_type": "code",
   "execution_count": 27,
   "id": "d0afc8e3",
   "metadata": {
    "execution": {
     "iopub.execute_input": "2022-07-28T20:13:03.033405Z",
     "iopub.status.busy": "2022-07-28T20:13:03.032278Z",
     "iopub.status.idle": "2022-07-28T20:13:03.043819Z",
     "shell.execute_reply": "2022-07-28T20:13:03.044257Z"
    },
    "papermill": {
     "duration": 0.079574,
     "end_time": "2022-07-28T20:13:03.044367",
     "exception": false,
     "start_time": "2022-07-28T20:13:02.964793",
     "status": "completed"
    },
    "tags": []
   },
   "outputs": [],
   "source": [
    "model_prob = Model(layers[-2:]) "
   ]
  },
  {
   "cell_type": "code",
   "execution_count": 28,
   "id": "9b96e238",
   "metadata": {
    "execution": {
     "iopub.execute_input": "2022-07-28T20:13:03.141543Z",
     "iopub.status.busy": "2022-07-28T20:13:03.135778Z",
     "iopub.status.idle": "2022-07-28T20:13:03.149840Z",
     "shell.execute_reply": "2022-07-28T20:13:03.149395Z"
    },
    "papermill": {
     "duration": 0.061787,
     "end_time": "2022-07-28T20:13:03.149944",
     "exception": false,
     "start_time": "2022-07-28T20:13:03.088157",
     "status": "completed"
    },
    "tags": []
   },
   "outputs": [],
   "source": [
    "#creating the x and y ranges according to the above generated plot.\n",
    "x_range = np.linspace(-4, 1, 100) \n",
    "y_range = np.linspace(-6, 6, 100) \n",
    "x_grid, y_grid = np.meshgrid(x_range, y_range) # x_grid and y_grig are of size 100 X 100\n",
    "\n",
    "# converting x_grid and y_grid to continuous arrays\n",
    "x_gridflat = np.ravel(x_grid)\n",
    "y_gridflat = np.ravel(y_grid)\n",
    "\n",
    "# The last layer of the current model takes two columns as input. Hence transpose of np.vstack() is required.\n",
    "X = np.vstack((x_gridflat, y_gridflat)).T\n",
    "\n",
    "prob_contour = model_prob(X).reshape(100,100) "
   ]
  },
  {
   "cell_type": "code",
   "execution_count": 29,
   "id": "da72499a",
   "metadata": {
    "execution": {
     "iopub.execute_input": "2022-07-28T20:13:03.246088Z",
     "iopub.status.busy": "2022-07-28T20:13:03.245553Z",
     "iopub.status.idle": "2022-07-28T20:13:03.488256Z",
     "shell.execute_reply": "2022-07-28T20:13:03.488715Z"
    },
    "papermill": {
     "duration": 0.294335,
     "end_time": "2022-07-28T20:13:03.488843",
     "exception": false,
     "start_time": "2022-07-28T20:13:03.194508",
     "status": "completed"
    },
    "tags": []
   },
   "outputs": [
    {
     "data": {
      "image/png": "[encoded data removed]",
      "text/plain": [
       "<Figure size 720x648 with 1 Axes>"
      ]
     },
     "metadata": {
      "needs_background": "light"
     },
     "output_type": "display_data"
    }
   ],
   "source": [
    "plt.figure(figsize=(10,9))\n",
    "plt.scatter(testing_plot[:,0], testing_plot[:,1], alpha = 0.1, c = y_test.ravel())\n",
    "contours = plt.contour(x_grid,y_grid,prob_contour)\n",
    "plt.title('Probability Contours')\n",
    "plt.clabel(contours, inline = True );"
   ]
  },
  {
   "cell_type": "code",
   "execution_count": null,
   "id": "e81b4ac7",
   "metadata": {
    "papermill": {
     "duration": 0.046488,
     "end_time": "2022-07-28T20:13:03.582221",
     "exception": false,
     "start_time": "2022-07-28T20:13:03.535733",
     "status": "completed"
    },
    "tags": []
   },
   "outputs": [],
   "source": []
  }
 ],
 "metadata": {
  "kernelspec": {
   "display_name": "Python 3",
   "language": "python",
   "name": "python3"
  },
  "language_info": {
   "codemirror_mode": {
    "name": "ipython",
    "version": 3
   },
   "file_extension": ".py",
   "mimetype": "text/x-python",
   "name": "python",
   "nbconvert_exporter": "python",
   "pygments_lexer": "ipython3",
   "version": "3.6.15"
  },
  "papermill": {
   "default_parameters": {},
   "duration": 195.254268,
   "end_time": "2022-07-28T20:13:03.945998",
   "environment_variables": {},
   "exception": null,
   "input_path": "2020-08-11-part2.ipynb",
   "output_path": "2020-08-11-part2.ipynb",
   "parameters": {},
   "start_time": "2022-07-28T20:09:48.691730",
   "version": "2.3.3"
  }
 },
 "nbformat": 4,
 "nbformat_minor": 5
}