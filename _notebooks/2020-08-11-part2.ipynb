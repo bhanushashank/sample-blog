{
 "cells": [
  {
   "cell_type": "markdown",
   "id": "98380cd3",
   "metadata": {
    "papermill": {
     "duration": 0.027493,
     "end_time": "2022-04-03T00:34:17.195863",
     "exception": false,
     "start_time": "2022-04-03T00:34:17.168370",
     "status": "completed"
    },
    "tags": []
   },
   "source": [
    "# Distinguish Your Own Digits (DYOD)"
   ]
  },
  {
   "cell_type": "markdown",
   "id": "ef31240d",
   "metadata": {
    "papermill": {
     "duration": 0.024997,
     "end_time": "2022-04-03T00:34:17.245281",
     "exception": false,
     "start_time": "2022-04-03T00:34:17.220284",
     "status": "completed"
    },
    "tags": []
   },
   "source": [
    "You are going to write a classifier that distinguishes between the number 3 and number 8."
   ]
  },
  {
   "cell_type": "code",
   "execution_count": 1,
   "id": "b15c8646",
   "metadata": {
    "execution": {
     "iopub.execute_input": "2022-04-03T00:34:17.302990Z",
     "iopub.status.busy": "2022-04-03T00:34:17.302439Z",
     "iopub.status.idle": "2022-04-03T00:34:17.312978Z",
     "shell.execute_reply": "2022-04-03T00:34:17.312512Z"
    },
    "papermill": {
     "duration": 0.044119,
     "end_time": "2022-04-03T00:34:17.313106",
     "exception": false,
     "start_time": "2022-04-03T00:34:17.268987",
     "status": "completed"
    },
    "tags": []
   },
   "outputs": [],
   "source": [
    "%load_ext autoreload\n",
    "%autoreload 2"
   ]
  },
  {
   "cell_type": "code",
   "execution_count": 2,
   "id": "22ef38dc",
   "metadata": {
    "execution": {
     "iopub.execute_input": "2022-04-03T00:34:17.368224Z",
     "iopub.status.busy": "2022-04-03T00:34:17.367687Z",
     "iopub.status.idle": "2022-04-03T00:34:17.941556Z",
     "shell.execute_reply": "2022-04-03T00:34:17.941085Z"
    },
    "papermill": {
     "duration": 0.604548,
     "end_time": "2022-04-03T00:34:17.941681",
     "exception": false,
     "start_time": "2022-04-03T00:34:17.337133",
     "status": "completed"
    },
    "tags": []
   },
   "outputs": [],
   "source": [
    "%matplotlib inline\n",
    "import numpy as np\n",
    "import matplotlib.pyplot as plt\n",
    "import pandas as pd"
   ]
  },
  {
   "cell_type": "markdown",
   "id": "ba036198",
   "metadata": {
    "papermill": {
     "duration": 0.023947,
     "end_time": "2022-04-03T00:34:17.990359",
     "exception": false,
     "start_time": "2022-04-03T00:34:17.966412",
     "status": "completed"
    },
    "tags": []
   },
   "source": [
    "From the command line run `pip install mnist`. This is a library that will help you bring down the mnist dataset. If you run this from a notebook, you need to put  `!pip install mnist` in a cell by itself."
   ]
  },
  {
   "cell_type": "code",
   "execution_count": 3,
   "id": "bb6ad8a1",
   "metadata": {
    "execution": {
     "iopub.execute_input": "2022-04-03T00:34:18.048253Z",
     "iopub.status.busy": "2022-04-03T00:34:18.047691Z",
     "iopub.status.idle": "2022-04-03T00:34:20.605556Z",
     "shell.execute_reply": "2022-04-03T00:34:20.604450Z"
    },
    "papermill": {
     "duration": 2.591282,
     "end_time": "2022-04-03T00:34:20.605705",
     "exception": false,
     "start_time": "2022-04-03T00:34:18.014423",
     "status": "completed"
    },
    "tags": []
   },
   "outputs": [
    {
     "name": "stdout",
     "output_type": "stream",
     "text": [
      "Collecting mnist\r\n"
     ]
    },
    {
     "name": "stdout",
     "output_type": "stream",
     "text": [
      "  Downloading mnist-0.2.2-py2.py3-none-any.whl (3.5 kB)\r\n",
      "Requirement already satisfied: numpy in /opt/hostedtoolcache/Python/3.6.15/x64/lib/python3.6/site-packages (from mnist) (1.19.5)\r\n"
     ]
    },
    {
     "name": "stdout",
     "output_type": "stream",
     "text": [
      "Installing collected packages: mnist\r\n",
      "Successfully installed mnist-0.2.2\r\n"
     ]
    }
   ],
   "source": [
    "!pip install mnist"
   ]
  },
  {
   "cell_type": "markdown",
   "id": "69df9c9a",
   "metadata": {
    "papermill": {
     "duration": 0.028628,
     "end_time": "2022-04-03T00:34:20.663513",
     "exception": false,
     "start_time": "2022-04-03T00:34:20.634885",
     "status": "completed"
    },
    "tags": []
   },
   "source": [
    "## Preparing the Data"
   ]
  },
  {
   "cell_type": "code",
   "execution_count": 4,
   "id": "7f69d806",
   "metadata": {
    "execution": {
     "iopub.execute_input": "2022-04-03T00:34:20.728311Z",
     "iopub.status.busy": "2022-04-03T00:34:20.720331Z",
     "iopub.status.idle": "2022-04-03T00:34:20.733450Z",
     "shell.execute_reply": "2022-04-03T00:34:20.733834Z"
    },
    "papermill": {
     "duration": 0.043576,
     "end_time": "2022-04-03T00:34:20.733969",
     "exception": false,
     "start_time": "2022-04-03T00:34:20.690393",
     "status": "completed"
    },
    "tags": []
   },
   "outputs": [],
   "source": [
    "import mnist"
   ]
  },
  {
   "cell_type": "code",
   "execution_count": 5,
   "id": "a411e44f",
   "metadata": {
    "execution": {
     "iopub.execute_input": "2022-04-03T00:34:20.786970Z",
     "iopub.status.busy": "2022-04-03T00:34:20.786464Z",
     "iopub.status.idle": "2022-04-03T00:34:21.431775Z",
     "shell.execute_reply": "2022-04-03T00:34:21.431165Z"
    },
    "papermill": {
     "duration": 0.67315,
     "end_time": "2022-04-03T00:34:21.431900",
     "exception": false,
     "start_time": "2022-04-03T00:34:20.758750",
     "status": "completed"
    },
    "tags": []
   },
   "outputs": [],
   "source": [
    "train_images = mnist.train_images()\n",
    "train_labels = mnist.train_labels()"
   ]
  },
  {
   "cell_type": "code",
   "execution_count": 6,
   "id": "dceab3a5",
   "metadata": {
    "execution": {
     "iopub.execute_input": "2022-04-03T00:34:21.491741Z",
     "iopub.status.busy": "2022-04-03T00:34:21.489351Z",
     "iopub.status.idle": "2022-04-03T00:34:21.501607Z",
     "shell.execute_reply": "2022-04-03T00:34:21.502015Z"
    },
    "papermill": {
     "duration": 0.045057,
     "end_time": "2022-04-03T00:34:21.502142",
     "exception": false,
     "start_time": "2022-04-03T00:34:21.457085",
     "status": "completed"
    },
    "tags": []
   },
   "outputs": [
    {
     "data": {
      "text/plain": [
       "((60000, 28, 28), (60000,))"
      ]
     },
     "execution_count": 6,
     "metadata": {},
     "output_type": "execute_result"
    }
   ],
   "source": [
    "train_images.shape, train_labels.shape"
   ]
  },
  {
   "cell_type": "code",
   "execution_count": 7,
   "id": "f50dc2bb",
   "metadata": {
    "execution": {
     "iopub.execute_input": "2022-04-03T00:34:21.568344Z",
     "iopub.status.busy": "2022-04-03T00:34:21.566996Z",
     "iopub.status.idle": "2022-04-03T00:34:21.823894Z",
     "shell.execute_reply": "2022-04-03T00:34:21.823352Z"
    },
    "papermill": {
     "duration": 0.29677,
     "end_time": "2022-04-03T00:34:21.824035",
     "exception": false,
     "start_time": "2022-04-03T00:34:21.527265",
     "status": "completed"
    },
    "tags": []
   },
   "outputs": [],
   "source": [
    "test_images = mnist.test_images()\n",
    "test_labels = mnist.test_labels()"
   ]
  },
  {
   "cell_type": "code",
   "execution_count": 8,
   "id": "fc38cf1b",
   "metadata": {
    "execution": {
     "iopub.execute_input": "2022-04-03T00:34:21.880807Z",
     "iopub.status.busy": "2022-04-03T00:34:21.880293Z",
     "iopub.status.idle": "2022-04-03T00:34:21.891880Z",
     "shell.execute_reply": "2022-04-03T00:34:21.891445Z"
    },
    "papermill": {
     "duration": 0.041695,
     "end_time": "2022-04-03T00:34:21.891996",
     "exception": false,
     "start_time": "2022-04-03T00:34:21.850301",
     "status": "completed"
    },
    "tags": []
   },
   "outputs": [
    {
     "data": {
      "text/plain": [
       "((10000, 28, 28), (10000,))"
      ]
     },
     "execution_count": 8,
     "metadata": {},
     "output_type": "execute_result"
    }
   ],
   "source": [
    "test_images.shape, test_labels.shape"
   ]
  },
  {
   "cell_type": "code",
   "execution_count": 9,
   "id": "f9ed8fe0",
   "metadata": {
    "execution": {
     "iopub.execute_input": "2022-04-03T00:34:21.951154Z",
     "iopub.status.busy": "2022-04-03T00:34:21.950641Z",
     "iopub.status.idle": "2022-04-03T00:34:22.085108Z",
     "shell.execute_reply": "2022-04-03T00:34:22.084614Z"
    },
    "papermill": {
     "duration": 0.168032,
     "end_time": "2022-04-03T00:34:22.085240",
     "exception": false,
     "start_time": "2022-04-03T00:34:21.917208",
     "status": "completed"
    },
    "tags": []
   },
   "outputs": [
    {
     "name": "stdout",
     "output_type": "stream",
     "text": [
      "2\n"
     ]
    },
    {
     "data": {
      "text/plain": [
       "<matplotlib.image.AxesImage at 0x7f7fcef3c5c0>"
      ]
     },
     "execution_count": 9,
     "metadata": {},
     "output_type": "execute_result"
    },
    {
     "data": {
      "image/png": "[encoded data removed]",
      "text/plain": [
       "<Figure size 432x288 with 1 Axes>"
      ]
     },
     "metadata": {
      "needs_background": "light"
     },
     "output_type": "display_data"
    }
   ],
   "source": [
    "image_index = 7776 # You may select anything up to 60,000\n",
    "print(train_labels[image_index]) \n",
    "plt.imshow(train_images[image_index], cmap='Greys')"
   ]
  },
  {
   "cell_type": "markdown",
   "id": "a8d2388d",
   "metadata": {
    "papermill": {
     "duration": 0.026784,
     "end_time": "2022-04-03T00:34:22.139569",
     "exception": false,
     "start_time": "2022-04-03T00:34:22.112785",
     "status": "completed"
    },
    "tags": []
   },
   "source": [
    "## Filter data to get 3 and 8 out"
   ]
  },
  {
   "cell_type": "code",
   "execution_count": 10,
   "id": "776f7fc7",
   "metadata": {
    "execution": {
     "iopub.execute_input": "2022-04-03T00:34:22.198499Z",
     "iopub.status.busy": "2022-04-03T00:34:22.197866Z",
     "iopub.status.idle": "2022-04-03T00:34:22.214300Z",
     "shell.execute_reply": "2022-04-03T00:34:22.214710Z"
    },
    "papermill": {
     "duration": 0.04898,
     "end_time": "2022-04-03T00:34:22.214841",
     "exception": false,
     "start_time": "2022-04-03T00:34:22.165861",
     "status": "completed"
    },
    "tags": []
   },
   "outputs": [],
   "source": [
    "train_filter = np.where((train_labels == 3 ) | (train_labels == 8))\n",
    "test_filter = np.where((test_labels == 3) | (test_labels == 8))\n",
    "X_train, y_train = train_images[train_filter], train_labels[train_filter]\n",
    "X_test, y_test = test_images[test_filter], test_labels[test_filter]"
   ]
  },
  {
   "cell_type": "markdown",
   "id": "948f0b7e",
   "metadata": {
    "papermill": {
     "duration": 0.026264,
     "end_time": "2022-04-03T00:34:22.267506",
     "exception": false,
     "start_time": "2022-04-03T00:34:22.241242",
     "status": "completed"
    },
    "tags": []
   },
   "source": [
    "We normalize the pizel values in the 0 to 1 range"
   ]
  },
  {
   "cell_type": "code",
   "execution_count": 11,
   "id": "ee4c2166",
   "metadata": {
    "execution": {
     "iopub.execute_input": "2022-04-03T00:34:22.324639Z",
     "iopub.status.busy": "2022-04-03T00:34:22.324121Z",
     "iopub.status.idle": "2022-04-03T00:34:22.371858Z",
     "shell.execute_reply": "2022-04-03T00:34:22.371354Z"
    },
    "papermill": {
     "duration": 0.078347,
     "end_time": "2022-04-03T00:34:22.371982",
     "exception": false,
     "start_time": "2022-04-03T00:34:22.293635",
     "status": "completed"
    },
    "tags": []
   },
   "outputs": [],
   "source": [
    "X_train = X_train/255.\n",
    "X_test = X_test/255."
   ]
  },
  {
   "cell_type": "markdown",
   "id": "ddcf4fab",
   "metadata": {
    "papermill": {
     "duration": 0.02695,
     "end_time": "2022-04-03T00:34:22.425427",
     "exception": false,
     "start_time": "2022-04-03T00:34:22.398477",
     "status": "completed"
    },
    "tags": []
   },
   "source": [
    "And setup the labels as 1 (when the digit is 3) and 0 (when the digit is 8)"
   ]
  },
  {
   "cell_type": "code",
   "execution_count": 12,
   "id": "7dc908f2",
   "metadata": {
    "execution": {
     "iopub.execute_input": "2022-04-03T00:34:22.483470Z",
     "iopub.status.busy": "2022-04-03T00:34:22.482950Z",
     "iopub.status.idle": "2022-04-03T00:34:22.494313Z",
     "shell.execute_reply": "2022-04-03T00:34:22.493898Z"
    },
    "papermill": {
     "duration": 0.0428,
     "end_time": "2022-04-03T00:34:22.494424",
     "exception": false,
     "start_time": "2022-04-03T00:34:22.451624",
     "status": "completed"
    },
    "tags": []
   },
   "outputs": [],
   "source": [
    "y_train = 1*(y_train==3)\n",
    "y_test = 1*(y_test==3)"
   ]
  },
  {
   "cell_type": "code",
   "execution_count": 13,
   "id": "01e4e969",
   "metadata": {
    "execution": {
     "iopub.execute_input": "2022-04-03T00:34:22.560330Z",
     "iopub.status.busy": "2022-04-03T00:34:22.557411Z",
     "iopub.status.idle": "2022-04-03T00:34:22.566442Z",
     "shell.execute_reply": "2022-04-03T00:34:22.567015Z"
    },
    "papermill": {
     "duration": 0.046328,
     "end_time": "2022-04-03T00:34:22.567154",
     "exception": false,
     "start_time": "2022-04-03T00:34:22.520826",
     "status": "completed"
    },
    "tags": []
   },
   "outputs": [
    {
     "data": {
      "text/plain": [
       "((11982, 28, 28), (1984, 28, 28))"
      ]
     },
     "execution_count": 13,
     "metadata": {},
     "output_type": "execute_result"
    }
   ],
   "source": [
    "X_train.shape, X_test.shape"
   ]
  },
  {
   "cell_type": "markdown",
   "id": "5ccf3f85",
   "metadata": {
    "papermill": {
     "duration": 0.030136,
     "end_time": "2022-04-03T00:34:22.627158",
     "exception": false,
     "start_time": "2022-04-03T00:34:22.597022",
     "status": "completed"
    },
    "tags": []
   },
   "source": [
    "We reshape the data to flatten the image pixels into a set of features or co-variates:"
   ]
  },
  {
   "cell_type": "code",
   "execution_count": 14,
   "id": "5286a4a3",
   "metadata": {
    "execution": {
     "iopub.execute_input": "2022-04-03T00:34:22.690339Z",
     "iopub.status.busy": "2022-04-03T00:34:22.687317Z",
     "iopub.status.idle": "2022-04-03T00:34:22.701538Z",
     "shell.execute_reply": "2022-04-03T00:34:22.701131Z"
    },
    "papermill": {
     "duration": 0.044545,
     "end_time": "2022-04-03T00:34:22.701647",
     "exception": false,
     "start_time": "2022-04-03T00:34:22.657102",
     "status": "completed"
    },
    "tags": []
   },
   "outputs": [
    {
     "data": {
      "text/plain": [
       "((11982, 784), (1984, 784))"
      ]
     },
     "execution_count": 14,
     "metadata": {},
     "output_type": "execute_result"
    }
   ],
   "source": [
    "X_train = X_train.reshape(X_train.shape[0], -1)\n",
    "X_test = X_test.reshape(X_test.shape[0], -1)\n",
    "X_train.shape, X_test.shape"
   ]
  },
  {
   "cell_type": "code",
   "execution_count": 15,
   "id": "73c5f88a",
   "metadata": {
    "execution": {
     "iopub.execute_input": "2022-04-03T00:34:22.758888Z",
     "iopub.status.busy": "2022-04-03T00:34:22.758381Z",
     "iopub.status.idle": "2022-04-03T00:34:22.778337Z",
     "shell.execute_reply": "2022-04-03T00:34:22.777862Z"
    },
    "papermill": {
     "duration": 0.050114,
     "end_time": "2022-04-03T00:34:22.778464",
     "exception": false,
     "start_time": "2022-04-03T00:34:22.728350",
     "status": "completed"
    },
    "tags": []
   },
   "outputs": [],
   "source": [
    "#Impoting functions from 'Kudzu'\n",
    "from kudzu.model import Model\n",
    "from kudzu.train import Learner\n",
    "from kudzu.optim import GD\n",
    "from kudzu.data import Data, Sampler,Dataloader\n",
    "\n",
    "from kudzu.callbacks import AccCallback\n",
    "from kudzu.callbacks import ClfCallback\n",
    "\n",
    "from kudzu.loss import MSE\n",
    "\n",
    "from kudzu.layer import Sigmoid,Relu\n",
    "from kudzu.layer import Affine"
   ]
  },
  {
   "cell_type": "markdown",
   "id": "bc01172a",
   "metadata": {
    "papermill": {
     "duration": 0.026842,
     "end_time": "2022-04-03T00:34:22.833242",
     "exception": false,
     "start_time": "2022-04-03T00:34:22.806400",
     "status": "completed"
    },
    "tags": []
   },
   "source": [
    "### Let us create a `Config` class, to store important parameters. \n",
    "This class essentially plays the role of a dictionary."
   ]
  },
  {
   "cell_type": "code",
   "execution_count": 16,
   "id": "978281aa",
   "metadata": {
    "execution": {
     "iopub.execute_input": "2022-04-03T00:34:22.892394Z",
     "iopub.status.busy": "2022-04-03T00:34:22.891866Z",
     "iopub.status.idle": "2022-04-03T00:34:22.903105Z",
     "shell.execute_reply": "2022-04-03T00:34:22.903538Z"
    },
    "papermill": {
     "duration": 0.043588,
     "end_time": "2022-04-03T00:34:22.903690",
     "exception": false,
     "start_time": "2022-04-03T00:34:22.860102",
     "status": "completed"
    },
    "tags": []
   },
   "outputs": [],
   "source": [
    "class Config:\n",
    "    pass\n",
    "config = Config()\n",
    "config.lr = 0.001\n",
    "config.num_epochs = 250\n",
    "config.bs = 50"
   ]
  },
  {
   "cell_type": "markdown",
   "id": "1385fa59",
   "metadata": {
    "papermill": {
     "duration": 0.02691,
     "end_time": "2022-04-03T00:34:22.957606",
     "exception": false,
     "start_time": "2022-04-03T00:34:22.930696",
     "status": "completed"
    },
    "tags": []
   },
   "source": [
    "### Running Models with the Training data\n",
    "Details about the network layers:\n",
    "- A first affine layer has 784 inputs and does 100 affine transforms. These are followed by a Relu\n",
    "- A second affine layer has 100 inputs from the 100 activations of the past layer, and does 100 affine transforms. These are followed by a Relu\n",
    "- A third affine layer has 100 activations and does 2 affine transformations to create an embedding for visualization. There is no non-linearity here.\n",
    "- A final \"logistic regression\" which has an affine transform from 2 inputs to 1 output, which is squeezed through a sigmoid.\n"
   ]
  },
  {
   "cell_type": "code",
   "execution_count": 17,
   "id": "2b9c66db",
   "metadata": {
    "execution": {
     "iopub.execute_input": "2022-04-03T00:34:23.015329Z",
     "iopub.status.busy": "2022-04-03T00:34:23.014806Z",
     "iopub.status.idle": "2022-04-03T00:34:23.028046Z",
     "shell.execute_reply": "2022-04-03T00:34:23.027617Z"
    },
    "papermill": {
     "duration": 0.043579,
     "end_time": "2022-04-03T00:34:23.028160",
     "exception": false,
     "start_time": "2022-04-03T00:34:22.984581",
     "status": "completed"
    },
    "tags": []
   },
   "outputs": [],
   "source": [
    "data = Data(X_train, y_train.reshape(-1,1))\n",
    "sampler = Sampler(data, config.bs, shuffle=True)\n",
    "\n",
    "dl = Dataloader(data, sampler)\n",
    "\n",
    "opt = GD(config.lr)\n",
    "loss = MSE()"
   ]
  },
  {
   "cell_type": "code",
   "execution_count": 18,
   "id": "b275e4c2",
   "metadata": {
    "execution": {
     "iopub.execute_input": "2022-04-03T00:34:23.085687Z",
     "iopub.status.busy": "2022-04-03T00:34:23.085178Z",
     "iopub.status.idle": "2022-04-03T00:34:23.096865Z",
     "shell.execute_reply": "2022-04-03T00:34:23.096453Z"
    },
    "papermill": {
     "duration": 0.041863,
     "end_time": "2022-04-03T00:34:23.096976",
     "exception": false,
     "start_time": "2022-04-03T00:34:23.055113",
     "status": "completed"
    },
    "tags": []
   },
   "outputs": [],
   "source": [
    "training_data_x = X_train\n",
    "testing_data_x = X_test\n",
    "training_data_y = y_train.reshape(-1,1)\n",
    "testing_data_y = y_test.reshape(-1,1)"
   ]
  },
  {
   "cell_type": "code",
   "execution_count": 19,
   "id": "76951160",
   "metadata": {
    "execution": {
     "iopub.execute_input": "2022-04-03T00:34:23.154222Z",
     "iopub.status.busy": "2022-04-03T00:34:23.153703Z",
     "iopub.status.idle": "2022-04-03T00:34:23.169768Z",
     "shell.execute_reply": "2022-04-03T00:34:23.169355Z"
    },
    "papermill": {
     "duration": 0.046257,
     "end_time": "2022-04-03T00:34:23.169879",
     "exception": false,
     "start_time": "2022-04-03T00:34:23.123622",
     "status": "completed"
    },
    "tags": []
   },
   "outputs": [
    {
     "name": "stdout",
     "output_type": "stream",
     "text": [
      "xavier\n",
      "xavier\n",
      "xavier\n",
      "xavier\n",
      "xavier\n"
     ]
    }
   ],
   "source": [
    "layers = [Affine(\"first\", 784, 100), Relu(\"first\"), Affine(\"second\", 100, 100), Relu(\"second\"), Affine(\"third\", 100, 2), Affine(\"last\", 2, 1), Sigmoid(\"last\")]\n",
    "model_nn = Model(layers)\n",
    "model_lr = Model([Affine(\"logits\", 784, 1), Sigmoid(\"sigmoid\")])"
   ]
  },
  {
   "cell_type": "code",
   "execution_count": 20,
   "id": "6eede77a",
   "metadata": {
    "execution": {
     "iopub.execute_input": "2022-04-03T00:34:23.236554Z",
     "iopub.status.busy": "2022-04-03T00:34:23.236046Z",
     "iopub.status.idle": "2022-04-03T00:34:23.243102Z",
     "shell.execute_reply": "2022-04-03T00:34:23.242670Z"
    },
    "papermill": {
     "duration": 0.046214,
     "end_time": "2022-04-03T00:34:23.243210",
     "exception": false,
     "start_time": "2022-04-03T00:34:23.196996",
     "status": "completed"
    },
    "tags": []
   },
   "outputs": [],
   "source": [
    "nn_learner = Learner(loss, model_nn, opt, config.num_epochs)\n",
    "acc_nn = ClfCallback(nn_learner, config.bs, training_data_x , testing_data_x, training_data_y, testing_data_y)\n",
    "nn_learner.set_callbacks([acc_nn])"
   ]
  },
  {
   "cell_type": "code",
   "execution_count": 21,
   "id": "877b6cc7",
   "metadata": {
    "execution": {
     "iopub.execute_input": "2022-04-03T00:34:23.301690Z",
     "iopub.status.busy": "2022-04-03T00:34:23.301167Z",
     "iopub.status.idle": "2022-04-03T00:34:23.312737Z",
     "shell.execute_reply": "2022-04-03T00:34:23.312303Z"
    },
    "papermill": {
     "duration": 0.042526,
     "end_time": "2022-04-03T00:34:23.312843",
     "exception": false,
     "start_time": "2022-04-03T00:34:23.270317",
     "status": "completed"
    },
    "tags": []
   },
   "outputs": [],
   "source": [
    "lr_learner = Learner(loss, model_lr, opt, config.num_epochs)\n",
    "acc_lr = ClfCallback(lr_learner, config.bs, training_data_x , testing_data_x, training_data_y, testing_data_y)\n",
    "lr_learner.set_callbacks([acc_lr])"
   ]
  },
  {
   "cell_type": "code",
   "execution_count": 22,
   "id": "d9b133c3",
   "metadata": {
    "execution": {
     "iopub.execute_input": "2022-04-03T00:34:23.370666Z",
     "iopub.status.busy": "2022-04-03T00:34:23.370153Z",
     "iopub.status.idle": "2022-04-03T00:35:40.845939Z",
     "shell.execute_reply": "2022-04-03T00:35:40.846687Z"
    },
    "papermill": {
     "duration": 77.506877,
     "end_time": "2022-04-03T00:35:40.846844",
     "exception": false,
     "start_time": "2022-04-03T00:34:23.339967",
     "status": "completed"
    },
    "tags": []
   },
   "outputs": [
    {
     "name": "stdout",
     "output_type": "stream",
     "text": [
      "Epoch 0, Loss 0.2495\n",
      "Training Accuracy: 0.5426, Testing Accuracy: 0.5544\n",
      "\n"
     ]
    },
    {
     "name": "stdout",
     "output_type": "stream",
     "text": [
      "Epoch 10, Loss 0.2432\n",
      "Training Accuracy: 0.7705, Testing Accuracy: 0.7883\n",
      "\n"
     ]
    },
    {
     "name": "stdout",
     "output_type": "stream",
     "text": [
      "Epoch 20, Loss 0.2178\n",
      "Training Accuracy: 0.8549, Testing Accuracy: 0.8740\n",
      "\n"
     ]
    },
    {
     "name": "stdout",
     "output_type": "stream",
     "text": [
      "Epoch 30, Loss 0.1305\n",
      "Training Accuracy: 0.8944, Testing Accuracy: 0.9068\n",
      "\n"
     ]
    },
    {
     "name": "stdout",
     "output_type": "stream",
     "text": [
      "Epoch 40, Loss 0.0728\n",
      "Training Accuracy: 0.9268, Testing Accuracy: 0.9435\n",
      "\n"
     ]
    },
    {
     "name": "stdout",
     "output_type": "stream",
     "text": [
      "Epoch 50, Loss 0.0525\n",
      "Training Accuracy: 0.9437, Testing Accuracy: 0.9551\n",
      "\n"
     ]
    },
    {
     "name": "stdout",
     "output_type": "stream",
     "text": [
      "Epoch 60, Loss 0.0434\n",
      "Training Accuracy: 0.9518, Testing Accuracy: 0.9642\n",
      "\n"
     ]
    },
    {
     "name": "stdout",
     "output_type": "stream",
     "text": [
      "Epoch 70, Loss 0.0384\n",
      "Training Accuracy: 0.9565, Testing Accuracy: 0.9677\n",
      "\n"
     ]
    },
    {
     "name": "stdout",
     "output_type": "stream",
     "text": [
      "Epoch 80, Loss 0.0352\n",
      "Training Accuracy: 0.9594, Testing Accuracy: 0.9688\n",
      "\n"
     ]
    },
    {
     "name": "stdout",
     "output_type": "stream",
     "text": [
      "Epoch 90, Loss 0.0329\n",
      "Training Accuracy: 0.9623, Testing Accuracy: 0.9703\n",
      "\n"
     ]
    },
    {
     "name": "stdout",
     "output_type": "stream",
     "text": [
      "Epoch 100, Loss 0.0312\n",
      "Training Accuracy: 0.9640, Testing Accuracy: 0.9703\n",
      "\n"
     ]
    },
    {
     "name": "stdout",
     "output_type": "stream",
     "text": [
      "Epoch 110, Loss 0.0298\n",
      "Training Accuracy: 0.9652, Testing Accuracy: 0.9708\n",
      "\n"
     ]
    },
    {
     "name": "stdout",
     "output_type": "stream",
     "text": [
      "Epoch 120, Loss 0.0286\n",
      "Training Accuracy: 0.9664, Testing Accuracy: 0.9718\n",
      "\n"
     ]
    },
    {
     "name": "stdout",
     "output_type": "stream",
     "text": [
      "Epoch 130, Loss 0.0276\n",
      "Training Accuracy: 0.9672, Testing Accuracy: 0.9728\n",
      "\n"
     ]
    },
    {
     "name": "stdout",
     "output_type": "stream",
     "text": [
      "Epoch 140, Loss 0.0268\n",
      "Training Accuracy: 0.9680, Testing Accuracy: 0.9728\n",
      "\n"
     ]
    },
    {
     "name": "stdout",
     "output_type": "stream",
     "text": [
      "Epoch 150, Loss 0.026\n",
      "Training Accuracy: 0.9690, Testing Accuracy: 0.9718\n",
      "\n"
     ]
    },
    {
     "name": "stdout",
     "output_type": "stream",
     "text": [
      "Epoch 160, Loss 0.0253\n",
      "Training Accuracy: 0.9700, Testing Accuracy: 0.9713\n",
      "\n"
     ]
    },
    {
     "name": "stdout",
     "output_type": "stream",
     "text": [
      "Epoch 170, Loss 0.0247\n",
      "Training Accuracy: 0.9709, Testing Accuracy: 0.9713\n",
      "\n"
     ]
    },
    {
     "name": "stdout",
     "output_type": "stream",
     "text": [
      "Epoch 180, Loss 0.0241\n",
      "Training Accuracy: 0.9716, Testing Accuracy: 0.9713\n",
      "\n"
     ]
    },
    {
     "name": "stdout",
     "output_type": "stream",
     "text": [
      "Epoch 190, Loss 0.0236\n",
      "Training Accuracy: 0.9723, Testing Accuracy: 0.9718\n",
      "\n"
     ]
    },
    {
     "name": "stdout",
     "output_type": "stream",
     "text": [
      "Epoch 200, Loss 0.0231\n",
      "Training Accuracy: 0.9725, Testing Accuracy: 0.9718\n",
      "\n"
     ]
    },
    {
     "name": "stdout",
     "output_type": "stream",
     "text": [
      "Epoch 210, Loss 0.0226\n",
      "Training Accuracy: 0.9731, Testing Accuracy: 0.9718\n",
      "\n"
     ]
    },
    {
     "name": "stdout",
     "output_type": "stream",
     "text": [
      "Epoch 220, Loss 0.0222\n",
      "Training Accuracy: 0.9738, Testing Accuracy: 0.9718\n",
      "\n"
     ]
    },
    {
     "name": "stdout",
     "output_type": "stream",
     "text": [
      "Epoch 230, Loss 0.0218\n",
      "Training Accuracy: 0.9745, Testing Accuracy: 0.9718\n",
      "\n"
     ]
    },
    {
     "name": "stdout",
     "output_type": "stream",
     "text": [
      "Epoch 240, Loss 0.0214\n",
      "Training Accuracy: 0.9751, Testing Accuracy: 0.9718\n",
      "\n"
     ]
    },
    {
     "data": {
      "text/plain": [
       "0.009405939486807848"
      ]
     },
     "execution_count": 22,
     "metadata": {},
     "output_type": "execute_result"
    }
   ],
   "source": [
    "nn_learner.train_loop(dl)"
   ]
  },
  {
   "cell_type": "code",
   "execution_count": 23,
   "id": "e0163366",
   "metadata": {
    "execution": {
     "iopub.execute_input": "2022-04-03T00:35:40.925500Z",
     "iopub.status.busy": "2022-04-03T00:35:40.924950Z",
     "iopub.status.idle": "2022-04-03T00:35:55.004247Z",
     "shell.execute_reply": "2022-04-03T00:35:55.004983Z"
    },
    "papermill": {
     "duration": 14.123523,
     "end_time": "2022-04-03T00:35:55.005130",
     "exception": false,
     "start_time": "2022-04-03T00:35:40.881607",
     "status": "completed"
    },
    "tags": []
   },
   "outputs": [
    {
     "name": "stdout",
     "output_type": "stream",
     "text": [
      "Epoch 0, Loss 0.2124\n",
      "Training Accuracy: 0.7712, Testing Accuracy: 0.7903\n",
      "\n"
     ]
    },
    {
     "name": "stdout",
     "output_type": "stream",
     "text": [
      "Epoch 10, Loss 0.0996\n",
      "Training Accuracy: 0.9130, Testing Accuracy: 0.9194\n",
      "\n"
     ]
    },
    {
     "name": "stdout",
     "output_type": "stream",
     "text": [
      "Epoch 20, Loss 0.0775\n",
      "Training Accuracy: 0.9289, Testing Accuracy: 0.9395\n",
      "\n"
     ]
    },
    {
     "name": "stdout",
     "output_type": "stream",
     "text": [
      "Epoch 30, Loss 0.0671\n",
      "Training Accuracy: 0.9373, Testing Accuracy: 0.9466\n",
      "\n"
     ]
    },
    {
     "name": "stdout",
     "output_type": "stream",
     "text": [
      "Epoch 40, Loss 0.0607\n",
      "Training Accuracy: 0.9429, Testing Accuracy: 0.9526\n",
      "\n"
     ]
    },
    {
     "name": "stdout",
     "output_type": "stream",
     "text": [
      "Epoch 50, Loss 0.0564\n",
      "Training Accuracy: 0.9469, Testing Accuracy: 0.9551\n",
      "\n"
     ]
    },
    {
     "name": "stdout",
     "output_type": "stream",
     "text": [
      "Epoch 60, Loss 0.0533\n",
      "Training Accuracy: 0.9496, Testing Accuracy: 0.9561\n",
      "\n"
     ]
    },
    {
     "name": "stdout",
     "output_type": "stream",
     "text": [
      "Epoch 70, Loss 0.0508\n",
      "Training Accuracy: 0.9508, Testing Accuracy: 0.9582\n",
      "\n"
     ]
    },
    {
     "name": "stdout",
     "output_type": "stream",
     "text": [
      "Epoch 80, Loss 0.0489\n",
      "Training Accuracy: 0.9525, Testing Accuracy: 0.9597\n",
      "\n"
     ]
    },
    {
     "name": "stdout",
     "output_type": "stream",
     "text": [
      "Epoch 90, Loss 0.0472\n",
      "Training Accuracy: 0.9532, Testing Accuracy: 0.9612\n",
      "\n"
     ]
    },
    {
     "name": "stdout",
     "output_type": "stream",
     "text": [
      "Epoch 100, Loss 0.0459\n",
      "Training Accuracy: 0.9543, Testing Accuracy: 0.9617\n",
      "\n"
     ]
    },
    {
     "name": "stdout",
     "output_type": "stream",
     "text": [
      "Epoch 110, Loss 0.0447\n",
      "Training Accuracy: 0.9549, Testing Accuracy: 0.9632\n",
      "\n"
     ]
    },
    {
     "name": "stdout",
     "output_type": "stream",
     "text": [
      "Epoch 120, Loss 0.0437\n",
      "Training Accuracy: 0.9555, Testing Accuracy: 0.9637\n",
      "\n"
     ]
    },
    {
     "name": "stdout",
     "output_type": "stream",
     "text": [
      "Epoch 130, Loss 0.0428\n",
      "Training Accuracy: 0.9563, Testing Accuracy: 0.9642\n",
      "\n"
     ]
    },
    {
     "name": "stdout",
     "output_type": "stream",
     "text": [
      "Epoch 140, Loss 0.0419\n",
      "Training Accuracy: 0.9564, Testing Accuracy: 0.9652\n",
      "\n"
     ]
    },
    {
     "name": "stdout",
     "output_type": "stream",
     "text": [
      "Epoch 150, Loss 0.0412\n",
      "Training Accuracy: 0.9573, Testing Accuracy: 0.9672\n",
      "\n"
     ]
    },
    {
     "name": "stdout",
     "output_type": "stream",
     "text": [
      "Epoch 160, Loss 0.0406\n",
      "Training Accuracy: 0.9577, Testing Accuracy: 0.9672\n",
      "\n"
     ]
    },
    {
     "name": "stdout",
     "output_type": "stream",
     "text": [
      "Epoch 170, Loss 0.04\n",
      "Training Accuracy: 0.9583, Testing Accuracy: 0.9677\n",
      "\n"
     ]
    },
    {
     "name": "stdout",
     "output_type": "stream",
     "text": [
      "Epoch 180, Loss 0.0394\n",
      "Training Accuracy: 0.9588, Testing Accuracy: 0.9677\n",
      "\n"
     ]
    },
    {
     "name": "stdout",
     "output_type": "stream",
     "text": [
      "Epoch 190, Loss 0.0389\n",
      "Training Accuracy: 0.9591, Testing Accuracy: 0.9672\n",
      "\n"
     ]
    },
    {
     "name": "stdout",
     "output_type": "stream",
     "text": [
      "Epoch 200, Loss 0.0385\n",
      "Training Accuracy: 0.9597, Testing Accuracy: 0.9672\n",
      "\n"
     ]
    },
    {
     "name": "stdout",
     "output_type": "stream",
     "text": [
      "Epoch 210, Loss 0.038\n",
      "Training Accuracy: 0.9600, Testing Accuracy: 0.9677\n",
      "\n"
     ]
    },
    {
     "name": "stdout",
     "output_type": "stream",
     "text": [
      "Epoch 220, Loss 0.0376\n",
      "Training Accuracy: 0.9600, Testing Accuracy: 0.9682\n",
      "\n"
     ]
    },
    {
     "name": "stdout",
     "output_type": "stream",
     "text": [
      "Epoch 230, Loss 0.0372\n",
      "Training Accuracy: 0.9602, Testing Accuracy: 0.9688\n",
      "\n"
     ]
    },
    {
     "name": "stdout",
     "output_type": "stream",
     "text": [
      "Epoch 240, Loss 0.0369\n",
      "Training Accuracy: 0.9604, Testing Accuracy: 0.9688\n",
      "\n"
     ]
    },
    {
     "data": {
      "text/plain": [
       "0.010751729278772645"
      ]
     },
     "execution_count": 23,
     "metadata": {},
     "output_type": "execute_result"
    }
   ],
   "source": [
    "lr_learner.train_loop(dl)"
   ]
  },
  {
   "cell_type": "code",
   "execution_count": 24,
   "id": "ca410940",
   "metadata": {
    "execution": {
     "iopub.execute_input": "2022-04-03T00:35:55.100760Z",
     "iopub.status.busy": "2022-04-03T00:35:55.100219Z",
     "iopub.status.idle": "2022-04-03T00:35:55.310122Z",
     "shell.execute_reply": "2022-04-03T00:35:55.310531Z"
    },
    "papermill": {
     "duration": 0.26387,
     "end_time": "2022-04-03T00:35:55.310680",
     "exception": false,
     "start_time": "2022-04-03T00:35:55.046810",
     "status": "completed"
    },
    "tags": []
   },
   "outputs": [
    {
     "data": {
      "text/plain": [
       "<matplotlib.legend.Legend at 0x7f7fceb18d68>"
      ]
     },
     "execution_count": 24,
     "metadata": {},
     "output_type": "execute_result"
    },
    {
     "data": {
      "image/png": "[encoded data removed]",
      "text/plain": [
       "<Figure size 1080x720 with 1 Axes>"
      ]
     },
     "metadata": {
      "needs_background": "light"
     },
     "output_type": "display_data"
    }
   ],
   "source": [
    "#comparing the results of NN and LR\n",
    "plt.figure(figsize=(15,10))\n",
    "\n",
    "# Neural Network plots\n",
    "plt.plot(acc_nn.accuracies, 'r-', label = \"Training Accuracies - NN\")\n",
    "plt.plot(acc_nn.test_accuracies, 'g-', label = \"Testing Accuracies - NN\")\n",
    "\n",
    "# Logistic Regression plots\n",
    "plt.plot(acc_lr.accuracies, 'k-', label = \"Training Accuracies - LR\")\n",
    "plt.plot(acc_lr.test_accuracies, 'b-', label = \"Testing Accuracies - LR\")\n",
    "plt.legend()"
   ]
  },
  {
   "cell_type": "markdown",
   "id": "80dfb35c",
   "metadata": {
    "papermill": {
     "duration": 0.042137,
     "end_time": "2022-04-03T00:35:55.395235",
     "exception": false,
     "start_time": "2022-04-03T00:35:55.353098",
     "status": "completed"
    },
    "tags": []
   },
   "source": [
    "#### Plotting the outputs of this layer of the NN.\n"
   ]
  },
  {
   "cell_type": "code",
   "execution_count": 25,
   "id": "45eb2ff5",
   "metadata": {
    "execution": {
     "iopub.execute_input": "2022-04-03T00:35:55.485282Z",
     "iopub.status.busy": "2022-04-03T00:35:55.483899Z",
     "iopub.status.idle": "2022-04-03T00:35:55.504425Z",
     "shell.execute_reply": "2022-04-03T00:35:55.504870Z"
    },
    "papermill": {
     "duration": 0.067643,
     "end_time": "2022-04-03T00:35:55.505011",
     "exception": false,
     "start_time": "2022-04-03T00:35:55.437368",
     "status": "completed"
    },
    "tags": []
   },
   "outputs": [],
   "source": [
    "new_model = Model(layers[:-2])\n",
    "testing_plot = new_model(testing_data_x)"
   ]
  },
  {
   "cell_type": "code",
   "execution_count": 26,
   "id": "4c0a5485",
   "metadata": {
    "execution": {
     "iopub.execute_input": "2022-04-03T00:35:55.597112Z",
     "iopub.status.busy": "2022-04-03T00:35:55.596576Z",
     "iopub.status.idle": "2022-04-03T00:35:55.838271Z",
     "shell.execute_reply": "2022-04-03T00:35:55.838687Z"
    },
    "papermill": {
     "duration": 0.291211,
     "end_time": "2022-04-03T00:35:55.838826",
     "exception": false,
     "start_time": "2022-04-03T00:35:55.547615",
     "status": "completed"
    },
    "tags": []
   },
   "outputs": [
    {
     "data": {
      "text/plain": [
       "Text(0.5, 1.0, 'Outputs')"
      ]
     },
     "execution_count": 26,
     "metadata": {},
     "output_type": "execute_result"
    },
    {
     "data": {
      "image/png": "[encoded data removed]",
      "text/plain": [
       "<Figure size 576x504 with 1 Axes>"
      ]
     },
     "metadata": {
      "needs_background": "light"
     },
     "output_type": "display_data"
    }
   ],
   "source": [
    "# Plotting the scatter plot of points and color coding by class\n",
    "plt.figure(figsize=(8,7))\n",
    "plt.scatter(testing_plot[:,0], testing_plot[:,1], alpha = 0.1, c = y_test.ravel());\n",
    "plt.title('Outputs')"
   ]
  },
  {
   "cell_type": "markdown",
   "id": "a74fcf8f",
   "metadata": {
    "papermill": {
     "duration": 0.045674,
     "end_time": "2022-04-03T00:35:55.930259",
     "exception": false,
     "start_time": "2022-04-03T00:35:55.884585",
     "status": "completed"
    },
    "tags": []
   },
   "source": [
    "Probability contours"
   ]
  },
  {
   "cell_type": "code",
   "execution_count": 27,
   "id": "d0afc8e3",
   "metadata": {
    "execution": {
     "iopub.execute_input": "2022-04-03T00:35:56.032792Z",
     "iopub.status.busy": "2022-04-03T00:35:56.026314Z",
     "iopub.status.idle": "2022-04-03T00:35:56.041225Z",
     "shell.execute_reply": "2022-04-03T00:35:56.040775Z"
    },
    "papermill": {
     "duration": 0.065306,
     "end_time": "2022-04-03T00:35:56.041342",
     "exception": false,
     "start_time": "2022-04-03T00:35:55.976036",
     "status": "completed"
    },
    "tags": []
   },
   "outputs": [],
   "source": [
    "model_prob = Model(layers[-2:]) "
   ]
  },
  {
   "cell_type": "code",
   "execution_count": 28,
   "id": "9b96e238",
   "metadata": {
    "execution": {
     "iopub.execute_input": "2022-04-03T00:35:56.144530Z",
     "iopub.status.busy": "2022-04-03T00:35:56.143962Z",
     "iopub.status.idle": "2022-04-03T00:35:56.153545Z",
     "shell.execute_reply": "2022-04-03T00:35:56.153953Z"
    },
    "papermill": {
     "duration": 0.06667,
     "end_time": "2022-04-03T00:35:56.154098",
     "exception": false,
     "start_time": "2022-04-03T00:35:56.087428",
     "status": "completed"
    },
    "tags": []
   },
   "outputs": [],
   "source": [
    "#creating the x and y ranges according to the above generated plot.\n",
    "x_range = np.linspace(-4, 1, 100) \n",
    "y_range = np.linspace(-6, 6, 100) \n",
    "x_grid, y_grid = np.meshgrid(x_range, y_range) # x_grid and y_grig are of size 100 X 100\n",
    "\n",
    "# converting x_grid and y_grid to continuous arrays\n",
    "x_gridflat = np.ravel(x_grid)\n",
    "y_gridflat = np.ravel(y_grid)\n",
    "\n",
    "# The last layer of the current model takes two columns as input. Hence transpose of np.vstack() is required.\n",
    "X = np.vstack((x_gridflat, y_gridflat)).T\n",
    "\n",
    "prob_contour = model_prob(X).reshape(100,100) "
   ]
  },
  {
   "cell_type": "code",
   "execution_count": 29,
   "id": "da72499a",
   "metadata": {
    "execution": {
     "iopub.execute_input": "2022-04-03T00:35:56.285248Z",
     "iopub.status.busy": "2022-04-03T00:35:56.283114Z",
     "iopub.status.idle": "2022-04-03T00:35:56.529737Z",
     "shell.execute_reply": "2022-04-03T00:35:56.530179Z"
    },
    "papermill": {
     "duration": 0.298896,
     "end_time": "2022-04-03T00:35:56.530316",
     "exception": false,
     "start_time": "2022-04-03T00:35:56.231420",
     "status": "completed"
    },
    "tags": []
   },
   "outputs": [
    {
     "data": {
      "image/png": "[encoded data removed]",
      "text/plain": [
       "<Figure size 720x648 with 1 Axes>"
      ]
     },
     "metadata": {
      "needs_background": "light"
     },
     "output_type": "display_data"
    }
   ],
   "source": [
    "plt.figure(figsize=(10,9))\n",
    "plt.scatter(testing_plot[:,0], testing_plot[:,1], alpha = 0.1, c = y_test.ravel())\n",
    "contours = plt.contour(x_grid,y_grid,prob_contour)\n",
    "plt.title('Probability Contours')\n",
    "plt.clabel(contours, inline = True );"
   ]
  },
  {
   "cell_type": "code",
   "execution_count": null,
   "id": "e81b4ac7",
   "metadata": {
    "papermill": {
     "duration": 0.047872,
     "end_time": "2022-04-03T00:35:56.626925",
     "exception": false,
     "start_time": "2022-04-03T00:35:56.579053",
     "status": "completed"
    },
    "tags": []
   },
   "outputs": [],
   "source": []
  }
 ],
 "metadata": {
  "kernelspec": {
   "display_name": "Python 3",
   "language": "python",
   "name": "python3"
  },
  "language_info": {
   "codemirror_mode": {
    "name": "ipython",
    "version": 3
   },
   "file_extension": ".py",
   "mimetype": "text/x-python",
   "name": "python",
   "nbconvert_exporter": "python",
   "pygments_lexer": "ipython3",
   "version": "3.6.15"
  },
  "papermill": {
   "default_parameters": {},
   "duration": 100.859719,
   "end_time": "2022-04-03T00:35:57.095937",
   "environment_variables": {},
   "exception": null,
   "input_path": "2020-08-11-part2.ipynb",
   "output_path": "2020-08-11-part2.ipynb",
   "parameters": {},
   "start_time": "2022-04-03T00:34:16.236218",
   "version": "2.3.3"
  }
 },
 "nbformat": 4,
 "nbformat_minor": 5
}