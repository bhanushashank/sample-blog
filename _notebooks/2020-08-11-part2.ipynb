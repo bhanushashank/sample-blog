{
 "cells": [
  {
   "cell_type": "markdown",
   "id": "98380cd3",
   "metadata": {
    "papermill": {
     "duration": 0.028495,
     "end_time": "2021-11-25T10:08:12.339228",
     "exception": false,
     "start_time": "2021-11-25T10:08:12.310733",
     "status": "completed"
    },
    "tags": []
   },
   "source": [
    "# Distinguish Your Own Digits (DYOD)"
   ]
  },
  {
   "cell_type": "markdown",
   "id": "ef31240d",
   "metadata": {
    "papermill": {
     "duration": 0.025654,
     "end_time": "2021-11-25T10:08:12.390131",
     "exception": false,
     "start_time": "2021-11-25T10:08:12.364477",
     "status": "completed"
    },
    "tags": []
   },
   "source": [
    "You are going to write a classifier that distinguishes between the number 3 and number 8."
   ]
  },
  {
   "cell_type": "code",
   "execution_count": 1,
   "id": "b15c8646",
   "metadata": {
    "execution": {
     "iopub.execute_input": "2021-11-25T10:08:12.448955Z",
     "iopub.status.busy": "2021-11-25T10:08:12.448408Z",
     "iopub.status.idle": "2021-11-25T10:08:12.458946Z",
     "shell.execute_reply": "2021-11-25T10:08:12.458497Z"
    },
    "papermill": {
     "duration": 0.045114,
     "end_time": "2021-11-25T10:08:12.459084",
     "exception": false,
     "start_time": "2021-11-25T10:08:12.413970",
     "status": "completed"
    },
    "tags": []
   },
   "outputs": [],
   "source": [
    "%load_ext autoreload\n",
    "%autoreload 2"
   ]
  },
  {
   "cell_type": "code",
   "execution_count": 2,
   "id": "22ef38dc",
   "metadata": {
    "execution": {
     "iopub.execute_input": "2021-11-25T10:08:12.515543Z",
     "iopub.status.busy": "2021-11-25T10:08:12.514994Z",
     "iopub.status.idle": "2021-11-25T10:08:13.124679Z",
     "shell.execute_reply": "2021-11-25T10:08:13.124099Z"
    },
    "papermill": {
     "duration": 0.641641,
     "end_time": "2021-11-25T10:08:13.124830",
     "exception": false,
     "start_time": "2021-11-25T10:08:12.483189",
     "status": "completed"
    },
    "tags": []
   },
   "outputs": [],
   "source": [
    "%matplotlib inline\n",
    "import numpy as np\n",
    "import matplotlib.pyplot as plt\n",
    "import pandas as pd"
   ]
  },
  {
   "cell_type": "markdown",
   "id": "ba036198",
   "metadata": {
    "papermill": {
     "duration": 0.024079,
     "end_time": "2021-11-25T10:08:13.173537",
     "exception": false,
     "start_time": "2021-11-25T10:08:13.149458",
     "status": "completed"
    },
    "tags": []
   },
   "source": [
    "From the command line run `pip install mnist`. This is a library that will help you bring down the mnist dataset. If you run this from a notebook, you need to put  `!pip install mnist` in a cell by itself."
   ]
  },
  {
   "cell_type": "code",
   "execution_count": 3,
   "id": "bb6ad8a1",
   "metadata": {
    "execution": {
     "iopub.execute_input": "2021-11-25T10:08:13.228394Z",
     "iopub.status.busy": "2021-11-25T10:08:13.227718Z",
     "iopub.status.idle": "2021-11-25T10:08:15.062696Z",
     "shell.execute_reply": "2021-11-25T10:08:15.062116Z"
    },
    "papermill": {
     "duration": 1.864963,
     "end_time": "2021-11-25T10:08:15.062829",
     "exception": false,
     "start_time": "2021-11-25T10:08:13.197866",
     "status": "completed"
    },
    "tags": []
   },
   "outputs": [
    {
     "name": "stdout",
     "output_type": "stream",
     "text": [
      "Collecting mnist\r\n"
     ]
    },
    {
     "name": "stdout",
     "output_type": "stream",
     "text": [
      "  Downloading mnist-0.2.2-py2.py3-none-any.whl (3.5 kB)\r\n",
      "Requirement already satisfied: numpy in /opt/hostedtoolcache/Python/3.6.15/x64/lib/python3.6/site-packages (from mnist) (1.19.5)\r\n"
     ]
    },
    {
     "name": "stdout",
     "output_type": "stream",
     "text": [
      "Installing collected packages: mnist\r\n"
     ]
    },
    {
     "name": "stdout",
     "output_type": "stream",
     "text": [
      "Successfully installed mnist-0.2.2\r\n"
     ]
    }
   ],
   "source": [
    "!pip install mnist"
   ]
  },
  {
   "cell_type": "markdown",
   "id": "69df9c9a",
   "metadata": {
    "papermill": {
     "duration": 0.024953,
     "end_time": "2021-11-25T10:08:15.113014",
     "exception": false,
     "start_time": "2021-11-25T10:08:15.088061",
     "status": "completed"
    },
    "tags": []
   },
   "source": [
    "## Preparing the Data"
   ]
  },
  {
   "cell_type": "code",
   "execution_count": 4,
   "id": "7f69d806",
   "metadata": {
    "execution": {
     "iopub.execute_input": "2021-11-25T10:08:15.167204Z",
     "iopub.status.busy": "2021-11-25T10:08:15.166678Z",
     "iopub.status.idle": "2021-11-25T10:08:15.180855Z",
     "shell.execute_reply": "2021-11-25T10:08:15.180428Z"
    },
    "papermill": {
     "duration": 0.043092,
     "end_time": "2021-11-25T10:08:15.180976",
     "exception": false,
     "start_time": "2021-11-25T10:08:15.137884",
     "status": "completed"
    },
    "tags": []
   },
   "outputs": [],
   "source": [
    "import mnist"
   ]
  },
  {
   "cell_type": "code",
   "execution_count": 5,
   "id": "a411e44f",
   "metadata": {
    "execution": {
     "iopub.execute_input": "2021-11-25T10:08:15.235123Z",
     "iopub.status.busy": "2021-11-25T10:08:15.234613Z",
     "iopub.status.idle": "2021-11-25T10:08:15.770453Z",
     "shell.execute_reply": "2021-11-25T10:08:15.769878Z"
    },
    "papermill": {
     "duration": 0.564147,
     "end_time": "2021-11-25T10:08:15.770601",
     "exception": false,
     "start_time": "2021-11-25T10:08:15.206454",
     "status": "completed"
    },
    "tags": []
   },
   "outputs": [],
   "source": [
    "train_images = mnist.train_images()\n",
    "train_labels = mnist.train_labels()"
   ]
  },
  {
   "cell_type": "code",
   "execution_count": 6,
   "id": "dceab3a5",
   "metadata": {
    "execution": {
     "iopub.execute_input": "2021-11-25T10:08:15.825681Z",
     "iopub.status.busy": "2021-11-25T10:08:15.825163Z",
     "iopub.status.idle": "2021-11-25T10:08:15.839973Z",
     "shell.execute_reply": "2021-11-25T10:08:15.839536Z"
    },
    "papermill": {
     "duration": 0.043422,
     "end_time": "2021-11-25T10:08:15.840086",
     "exception": false,
     "start_time": "2021-11-25T10:08:15.796664",
     "status": "completed"
    },
    "tags": []
   },
   "outputs": [
    {
     "data": {
      "text/plain": [
       "((60000, 28, 28), (60000,))"
      ]
     },
     "execution_count": 6,
     "metadata": {},
     "output_type": "execute_result"
    }
   ],
   "source": [
    "train_images.shape, train_labels.shape"
   ]
  },
  {
   "cell_type": "code",
   "execution_count": 7,
   "id": "f50dc2bb",
   "metadata": {
    "execution": {
     "iopub.execute_input": "2021-11-25T10:08:15.899555Z",
     "iopub.status.busy": "2021-11-25T10:08:15.898999Z",
     "iopub.status.idle": "2021-11-25T10:08:16.071605Z",
     "shell.execute_reply": "2021-11-25T10:08:16.071071Z"
    },
    "papermill": {
     "duration": 0.206476,
     "end_time": "2021-11-25T10:08:16.071747",
     "exception": false,
     "start_time": "2021-11-25T10:08:15.865271",
     "status": "completed"
    },
    "tags": []
   },
   "outputs": [],
   "source": [
    "test_images = mnist.test_images()\n",
    "test_labels = mnist.test_labels()"
   ]
  },
  {
   "cell_type": "code",
   "execution_count": 8,
   "id": "fc38cf1b",
   "metadata": {
    "execution": {
     "iopub.execute_input": "2021-11-25T10:08:16.127500Z",
     "iopub.status.busy": "2021-11-25T10:08:16.126967Z",
     "iopub.status.idle": "2021-11-25T10:08:16.139214Z",
     "shell.execute_reply": "2021-11-25T10:08:16.139695Z"
    },
    "papermill": {
     "duration": 0.042151,
     "end_time": "2021-11-25T10:08:16.139828",
     "exception": false,
     "start_time": "2021-11-25T10:08:16.097677",
     "status": "completed"
    },
    "tags": []
   },
   "outputs": [
    {
     "data": {
      "text/plain": [
       "((10000, 28, 28), (10000,))"
      ]
     },
     "execution_count": 8,
     "metadata": {},
     "output_type": "execute_result"
    }
   ],
   "source": [
    "test_images.shape, test_labels.shape"
   ]
  },
  {
   "cell_type": "code",
   "execution_count": 9,
   "id": "f9ed8fe0",
   "metadata": {
    "execution": {
     "iopub.execute_input": "2021-11-25T10:08:16.203739Z",
     "iopub.status.busy": "2021-11-25T10:08:16.203099Z",
     "iopub.status.idle": "2021-11-25T10:08:16.340925Z",
     "shell.execute_reply": "2021-11-25T10:08:16.340482Z"
    },
    "papermill": {
     "duration": 0.175785,
     "end_time": "2021-11-25T10:08:16.341047",
     "exception": false,
     "start_time": "2021-11-25T10:08:16.165262",
     "status": "completed"
    },
    "tags": []
   },
   "outputs": [
    {
     "name": "stdout",
     "output_type": "stream",
     "text": [
      "2\n"
     ]
    },
    {
     "data": {
      "text/plain": [
       "<matplotlib.image.AxesImage at 0x7f2400510160>"
      ]
     },
     "execution_count": 9,
     "metadata": {},
     "output_type": "execute_result"
    },
    {
     "data": {
      "image/png": "[encoded data removed]",
      "text/plain": [
       "<Figure size 432x288 with 1 Axes>"
      ]
     },
     "metadata": {
      "needs_background": "light"
     },
     "output_type": "display_data"
    }
   ],
   "source": [
    "image_index = 7776 # You may select anything up to 60,000\n",
    "print(train_labels[image_index]) \n",
    "plt.imshow(train_images[image_index], cmap='Greys')"
   ]
  },
  {
   "cell_type": "markdown",
   "id": "a8d2388d",
   "metadata": {
    "papermill": {
     "duration": 0.026722,
     "end_time": "2021-11-25T10:08:16.394747",
     "exception": false,
     "start_time": "2021-11-25T10:08:16.368025",
     "status": "completed"
    },
    "tags": []
   },
   "source": [
    "## Filter data to get 3 and 8 out"
   ]
  },
  {
   "cell_type": "code",
   "execution_count": 10,
   "id": "776f7fc7",
   "metadata": {
    "execution": {
     "iopub.execute_input": "2021-11-25T10:08:16.452658Z",
     "iopub.status.busy": "2021-11-25T10:08:16.452100Z",
     "iopub.status.idle": "2021-11-25T10:08:16.471291Z",
     "shell.execute_reply": "2021-11-25T10:08:16.470815Z"
    },
    "papermill": {
     "duration": 0.05015,
     "end_time": "2021-11-25T10:08:16.471412",
     "exception": false,
     "start_time": "2021-11-25T10:08:16.421262",
     "status": "completed"
    },
    "tags": []
   },
   "outputs": [],
   "source": [
    "train_filter = np.where((train_labels == 3 ) | (train_labels == 8))\n",
    "test_filter = np.where((test_labels == 3) | (test_labels == 8))\n",
    "X_train, y_train = train_images[train_filter], train_labels[train_filter]\n",
    "X_test, y_test = test_images[test_filter], test_labels[test_filter]"
   ]
  },
  {
   "cell_type": "markdown",
   "id": "948f0b7e",
   "metadata": {
    "papermill": {
     "duration": 0.026687,
     "end_time": "2021-11-25T10:08:16.524733",
     "exception": false,
     "start_time": "2021-11-25T10:08:16.498046",
     "status": "completed"
    },
    "tags": []
   },
   "source": [
    "We normalize the pizel values in the 0 to 1 range"
   ]
  },
  {
   "cell_type": "code",
   "execution_count": 11,
   "id": "ee4c2166",
   "metadata": {
    "execution": {
     "iopub.execute_input": "2021-11-25T10:08:16.583591Z",
     "iopub.status.busy": "2021-11-25T10:08:16.583035Z",
     "iopub.status.idle": "2021-11-25T10:08:16.630693Z",
     "shell.execute_reply": "2021-11-25T10:08:16.630148Z"
    },
    "papermill": {
     "duration": 0.079483,
     "end_time": "2021-11-25T10:08:16.630829",
     "exception": false,
     "start_time": "2021-11-25T10:08:16.551346",
     "status": "completed"
    },
    "tags": []
   },
   "outputs": [],
   "source": [
    "X_train = X_train/255.\n",
    "X_test = X_test/255."
   ]
  },
  {
   "cell_type": "markdown",
   "id": "ddcf4fab",
   "metadata": {
    "papermill": {
     "duration": 0.026403,
     "end_time": "2021-11-25T10:08:16.684448",
     "exception": false,
     "start_time": "2021-11-25T10:08:16.658045",
     "status": "completed"
    },
    "tags": []
   },
   "source": [
    "And setup the labels as 1 (when the digit is 3) and 0 (when the digit is 8)"
   ]
  },
  {
   "cell_type": "code",
   "execution_count": 12,
   "id": "7dc908f2",
   "metadata": {
    "execution": {
     "iopub.execute_input": "2021-11-25T10:08:16.741739Z",
     "iopub.status.busy": "2021-11-25T10:08:16.741202Z",
     "iopub.status.idle": "2021-11-25T10:08:16.753923Z",
     "shell.execute_reply": "2021-11-25T10:08:16.753469Z"
    },
    "papermill": {
     "duration": 0.043128,
     "end_time": "2021-11-25T10:08:16.754053",
     "exception": false,
     "start_time": "2021-11-25T10:08:16.710925",
     "status": "completed"
    },
    "tags": []
   },
   "outputs": [],
   "source": [
    "y_train = 1*(y_train==3)\n",
    "y_test = 1*(y_test==3)"
   ]
  },
  {
   "cell_type": "code",
   "execution_count": 13,
   "id": "01e4e969",
   "metadata": {
    "execution": {
     "iopub.execute_input": "2021-11-25T10:08:16.811370Z",
     "iopub.status.busy": "2021-11-25T10:08:16.810845Z",
     "iopub.status.idle": "2021-11-25T10:08:16.824802Z",
     "shell.execute_reply": "2021-11-25T10:08:16.824382Z"
    },
    "papermill": {
     "duration": 0.044079,
     "end_time": "2021-11-25T10:08:16.824925",
     "exception": false,
     "start_time": "2021-11-25T10:08:16.780846",
     "status": "completed"
    },
    "tags": []
   },
   "outputs": [
    {
     "data": {
      "text/plain": [
       "((11982, 28, 28), (1984, 28, 28))"
      ]
     },
     "execution_count": 13,
     "metadata": {},
     "output_type": "execute_result"
    }
   ],
   "source": [
    "X_train.shape, X_test.shape"
   ]
  },
  {
   "cell_type": "markdown",
   "id": "5ccf3f85",
   "metadata": {
    "papermill": {
     "duration": 0.026706,
     "end_time": "2021-11-25T10:08:16.878535",
     "exception": false,
     "start_time": "2021-11-25T10:08:16.851829",
     "status": "completed"
    },
    "tags": []
   },
   "source": [
    "We reshape the data to flatten the image pixels into a set of features or co-variates:"
   ]
  },
  {
   "cell_type": "code",
   "execution_count": 14,
   "id": "5286a4a3",
   "metadata": {
    "execution": {
     "iopub.execute_input": "2021-11-25T10:08:16.939508Z",
     "iopub.status.busy": "2021-11-25T10:08:16.938971Z",
     "iopub.status.idle": "2021-11-25T10:08:16.950805Z",
     "shell.execute_reply": "2021-11-25T10:08:16.951194Z"
    },
    "papermill": {
     "duration": 0.045865,
     "end_time": "2021-11-25T10:08:16.951334",
     "exception": false,
     "start_time": "2021-11-25T10:08:16.905469",
     "status": "completed"
    },
    "tags": []
   },
   "outputs": [
    {
     "data": {
      "text/plain": [
       "((11982, 784), (1984, 784))"
      ]
     },
     "execution_count": 14,
     "metadata": {},
     "output_type": "execute_result"
    }
   ],
   "source": [
    "X_train = X_train.reshape(X_train.shape[0], -1)\n",
    "X_test = X_test.reshape(X_test.shape[0], -1)\n",
    "X_train.shape, X_test.shape"
   ]
  },
  {
   "cell_type": "code",
   "execution_count": 15,
   "id": "73c5f88a",
   "metadata": {
    "execution": {
     "iopub.execute_input": "2021-11-25T10:08:17.012058Z",
     "iopub.status.busy": "2021-11-25T10:08:17.011498Z",
     "iopub.status.idle": "2021-11-25T10:08:17.029382Z",
     "shell.execute_reply": "2021-11-25T10:08:17.029786Z"
    },
    "papermill": {
     "duration": 0.051571,
     "end_time": "2021-11-25T10:08:17.029941",
     "exception": false,
     "start_time": "2021-11-25T10:08:16.978370",
     "status": "completed"
    },
    "tags": []
   },
   "outputs": [],
   "source": [
    "#Impoting functions from 'Kudzu'\n",
    "from kudzu.model import Model\n",
    "from kudzu.train import Learner\n",
    "from kudzu.optim import GD\n",
    "from kudzu.data import Data, Sampler,Dataloader\n",
    "\n",
    "from kudzu.callbacks import AccCallback\n",
    "from kudzu.callbacks import ClfCallback\n",
    "\n",
    "from kudzu.loss import MSE\n",
    "\n",
    "from kudzu.layer import Sigmoid,Relu\n",
    "from kudzu.layer import Affine"
   ]
  },
  {
   "cell_type": "markdown",
   "id": "bc01172a",
   "metadata": {
    "papermill": {
     "duration": 0.028235,
     "end_time": "2021-11-25T10:08:17.085509",
     "exception": false,
     "start_time": "2021-11-25T10:08:17.057274",
     "status": "completed"
    },
    "tags": []
   },
   "source": [
    "### Let us create a `Config` class, to store important parameters. \n",
    "This class essentially plays the role of a dictionary."
   ]
  },
  {
   "cell_type": "code",
   "execution_count": 16,
   "id": "978281aa",
   "metadata": {
    "execution": {
     "iopub.execute_input": "2021-11-25T10:08:17.145592Z",
     "iopub.status.busy": "2021-11-25T10:08:17.145060Z",
     "iopub.status.idle": "2021-11-25T10:08:17.155848Z",
     "shell.execute_reply": "2021-11-25T10:08:17.156267Z"
    },
    "papermill": {
     "duration": 0.043909,
     "end_time": "2021-11-25T10:08:17.156404",
     "exception": false,
     "start_time": "2021-11-25T10:08:17.112495",
     "status": "completed"
    },
    "tags": []
   },
   "outputs": [],
   "source": [
    "class Config:\n",
    "    pass\n",
    "config = Config()\n",
    "config.lr = 0.001\n",
    "config.num_epochs = 250\n",
    "config.bs = 50"
   ]
  },
  {
   "cell_type": "markdown",
   "id": "1385fa59",
   "metadata": {
    "papermill": {
     "duration": 0.026861,
     "end_time": "2021-11-25T10:08:17.210518",
     "exception": false,
     "start_time": "2021-11-25T10:08:17.183657",
     "status": "completed"
    },
    "tags": []
   },
   "source": [
    "### Running Models with the Training data\n",
    "Details about the network layers:\n",
    "- A first affine layer has 784 inputs and does 100 affine transforms. These are followed by a Relu\n",
    "- A second affine layer has 100 inputs from the 100 activations of the past layer, and does 100 affine transforms. These are followed by a Relu\n",
    "- A third affine layer has 100 activations and does 2 affine transformations to create an embedding for visualization. There is no non-linearity here.\n",
    "- A final \"logistic regression\" which has an affine transform from 2 inputs to 1 output, which is squeezed through a sigmoid.\n"
   ]
  },
  {
   "cell_type": "code",
   "execution_count": 17,
   "id": "2b9c66db",
   "metadata": {
    "execution": {
     "iopub.execute_input": "2021-11-25T10:08:17.268613Z",
     "iopub.status.busy": "2021-11-25T10:08:17.268098Z",
     "iopub.status.idle": "2021-11-25T10:08:17.281631Z",
     "shell.execute_reply": "2021-11-25T10:08:17.281194Z"
    },
    "papermill": {
     "duration": 0.044321,
     "end_time": "2021-11-25T10:08:17.281749",
     "exception": false,
     "start_time": "2021-11-25T10:08:17.237428",
     "status": "completed"
    },
    "tags": []
   },
   "outputs": [],
   "source": [
    "data = Data(X_train, y_train.reshape(-1,1))\n",
    "sampler = Sampler(data, config.bs, shuffle=True)\n",
    "\n",
    "dl = Dataloader(data, sampler)\n",
    "\n",
    "opt = GD(config.lr)\n",
    "loss = MSE()"
   ]
  },
  {
   "cell_type": "code",
   "execution_count": 18,
   "id": "b275e4c2",
   "metadata": {
    "execution": {
     "iopub.execute_input": "2021-11-25T10:08:17.341721Z",
     "iopub.status.busy": "2021-11-25T10:08:17.341146Z",
     "iopub.status.idle": "2021-11-25T10:08:17.352603Z",
     "shell.execute_reply": "2021-11-25T10:08:17.352166Z"
    },
    "papermill": {
     "duration": 0.04384,
     "end_time": "2021-11-25T10:08:17.352727",
     "exception": false,
     "start_time": "2021-11-25T10:08:17.308887",
     "status": "completed"
    },
    "tags": []
   },
   "outputs": [],
   "source": [
    "training_data_x = X_train\n",
    "testing_data_x = X_test\n",
    "training_data_y = y_train.reshape(-1,1)\n",
    "testing_data_y = y_test.reshape(-1,1)"
   ]
  },
  {
   "cell_type": "code",
   "execution_count": 19,
   "id": "76951160",
   "metadata": {
    "execution": {
     "iopub.execute_input": "2021-11-25T10:08:17.414964Z",
     "iopub.status.busy": "2021-11-25T10:08:17.414399Z",
     "iopub.status.idle": "2021-11-25T10:08:17.430332Z",
     "shell.execute_reply": "2021-11-25T10:08:17.429866Z"
    },
    "papermill": {
     "duration": 0.050135,
     "end_time": "2021-11-25T10:08:17.430462",
     "exception": false,
     "start_time": "2021-11-25T10:08:17.380327",
     "status": "completed"
    },
    "tags": []
   },
   "outputs": [
    {
     "name": "stdout",
     "output_type": "stream",
     "text": [
      "xavier\n",
      "xavier\n",
      "xavier\n",
      "xavier\n",
      "xavier\n"
     ]
    }
   ],
   "source": [
    "layers = [Affine(\"first\", 784, 100), Relu(\"first\"), Affine(\"second\", 100, 100), Relu(\"second\"), Affine(\"third\", 100, 2), Affine(\"last\", 2, 1), Sigmoid(\"last\")]\n",
    "model_nn = Model(layers)\n",
    "model_lr = Model([Affine(\"logits\", 784, 1), Sigmoid(\"sigmoid\")])"
   ]
  },
  {
   "cell_type": "code",
   "execution_count": 20,
   "id": "6eede77a",
   "metadata": {
    "execution": {
     "iopub.execute_input": "2021-11-25T10:08:17.505083Z",
     "iopub.status.busy": "2021-11-25T10:08:17.502437Z",
     "iopub.status.idle": "2021-11-25T10:08:17.507616Z",
     "shell.execute_reply": "2021-11-25T10:08:17.507078Z"
    },
    "papermill": {
     "duration": 0.049618,
     "end_time": "2021-11-25T10:08:17.507737",
     "exception": false,
     "start_time": "2021-11-25T10:08:17.458119",
     "status": "completed"
    },
    "tags": []
   },
   "outputs": [],
   "source": [
    "nn_learner = Learner(loss, model_nn, opt, config.num_epochs)\n",
    "acc_nn = ClfCallback(nn_learner, config.bs, training_data_x , testing_data_x, training_data_y, testing_data_y)\n",
    "nn_learner.set_callbacks([acc_nn])"
   ]
  },
  {
   "cell_type": "code",
   "execution_count": 21,
   "id": "877b6cc7",
   "metadata": {
    "execution": {
     "iopub.execute_input": "2021-11-25T10:08:17.578907Z",
     "iopub.status.busy": "2021-11-25T10:08:17.574995Z",
     "iopub.status.idle": "2021-11-25T10:08:17.582703Z",
     "shell.execute_reply": "2021-11-25T10:08:17.582224Z"
    },
    "papermill": {
     "duration": 0.047768,
     "end_time": "2021-11-25T10:08:17.582822",
     "exception": false,
     "start_time": "2021-11-25T10:08:17.535054",
     "status": "completed"
    },
    "tags": []
   },
   "outputs": [],
   "source": [
    "lr_learner = Learner(loss, model_lr, opt, config.num_epochs)\n",
    "acc_lr = ClfCallback(lr_learner, config.bs, training_data_x , testing_data_x, training_data_y, testing_data_y)\n",
    "lr_learner.set_callbacks([acc_lr])"
   ]
  },
  {
   "cell_type": "code",
   "execution_count": 22,
   "id": "d9b133c3",
   "metadata": {
    "execution": {
     "iopub.execute_input": "2021-11-25T10:08:17.651264Z",
     "iopub.status.busy": "2021-11-25T10:08:17.643445Z",
     "iopub.status.idle": "2021-11-25T10:09:38.761558Z",
     "shell.execute_reply": "2021-11-25T10:09:38.762352Z"
    },
    "papermill": {
     "duration": 81.152448,
     "end_time": "2021-11-25T10:09:38.762511",
     "exception": false,
     "start_time": "2021-11-25T10:08:17.610063",
     "status": "completed"
    },
    "tags": []
   },
   "outputs": [
    {
     "name": "stdout",
     "output_type": "stream",
     "text": [
      "Epoch 0, Loss 0.2286\n",
      "Training Accuracy: 0.7350, Testing Accuracy: 0.7142\n",
      "\n"
     ]
    },
    {
     "name": "stdout",
     "output_type": "stream",
     "text": [
      "Epoch 10, Loss 0.0829\n",
      "Training Accuracy: 0.9199, Testing Accuracy: 0.9309\n",
      "\n"
     ]
    },
    {
     "name": "stdout",
     "output_type": "stream",
     "text": [
      "Epoch 20, Loss 0.0524\n",
      "Training Accuracy: 0.9467, Testing Accuracy: 0.9536\n",
      "\n"
     ]
    },
    {
     "name": "stdout",
     "output_type": "stream",
     "text": [
      "Epoch 30, Loss 0.0418\n",
      "Training Accuracy: 0.9544, Testing Accuracy: 0.9622\n",
      "\n"
     ]
    },
    {
     "name": "stdout",
     "output_type": "stream",
     "text": [
      "Epoch 40, Loss 0.0365\n",
      "Training Accuracy: 0.9590, Testing Accuracy: 0.9667\n",
      "\n"
     ]
    },
    {
     "name": "stdout",
     "output_type": "stream",
     "text": [
      "Epoch 50, Loss 0.0332\n",
      "Training Accuracy: 0.9619, Testing Accuracy: 0.9693\n",
      "\n"
     ]
    },
    {
     "name": "stdout",
     "output_type": "stream",
     "text": [
      "Epoch 60, Loss 0.031\n",
      "Training Accuracy: 0.9639, Testing Accuracy: 0.9698\n",
      "\n"
     ]
    },
    {
     "name": "stdout",
     "output_type": "stream",
     "text": [
      "Epoch 70, Loss 0.0292\n",
      "Training Accuracy: 0.9657, Testing Accuracy: 0.9723\n",
      "\n"
     ]
    },
    {
     "name": "stdout",
     "output_type": "stream",
     "text": [
      "Epoch 80, Loss 0.0278\n",
      "Training Accuracy: 0.9675, Testing Accuracy: 0.9728\n",
      "\n"
     ]
    },
    {
     "name": "stdout",
     "output_type": "stream",
     "text": [
      "Epoch 90, Loss 0.0266\n",
      "Training Accuracy: 0.9695, Testing Accuracy: 0.9723\n",
      "\n"
     ]
    },
    {
     "name": "stdout",
     "output_type": "stream",
     "text": [
      "Epoch 100, Loss 0.0256\n",
      "Training Accuracy: 0.9707, Testing Accuracy: 0.9728\n",
      "\n"
     ]
    },
    {
     "name": "stdout",
     "output_type": "stream",
     "text": [
      "Epoch 110, Loss 0.0248\n",
      "Training Accuracy: 0.9720, Testing Accuracy: 0.9743\n",
      "\n"
     ]
    },
    {
     "name": "stdout",
     "output_type": "stream",
     "text": [
      "Epoch 120, Loss 0.024\n",
      "Training Accuracy: 0.9733, Testing Accuracy: 0.9748\n",
      "\n"
     ]
    },
    {
     "name": "stdout",
     "output_type": "stream",
     "text": [
      "Epoch 130, Loss 0.0233\n",
      "Training Accuracy: 0.9733, Testing Accuracy: 0.9748\n",
      "\n"
     ]
    },
    {
     "name": "stdout",
     "output_type": "stream",
     "text": [
      "Epoch 140, Loss 0.0226\n",
      "Training Accuracy: 0.9744, Testing Accuracy: 0.9748\n",
      "\n"
     ]
    },
    {
     "name": "stdout",
     "output_type": "stream",
     "text": [
      "Epoch 150, Loss 0.022\n",
      "Training Accuracy: 0.9748, Testing Accuracy: 0.9743\n",
      "\n"
     ]
    },
    {
     "name": "stdout",
     "output_type": "stream",
     "text": [
      "Epoch 160, Loss 0.0214\n",
      "Training Accuracy: 0.9752, Testing Accuracy: 0.9748\n",
      "\n"
     ]
    },
    {
     "name": "stdout",
     "output_type": "stream",
     "text": [
      "Epoch 170, Loss 0.0209\n",
      "Training Accuracy: 0.9759, Testing Accuracy: 0.9748\n",
      "\n"
     ]
    },
    {
     "name": "stdout",
     "output_type": "stream",
     "text": [
      "Epoch 180, Loss 0.0204\n",
      "Training Accuracy: 0.9768, Testing Accuracy: 0.9743\n",
      "\n"
     ]
    },
    {
     "name": "stdout",
     "output_type": "stream",
     "text": [
      "Epoch 190, Loss 0.0199\n",
      "Training Accuracy: 0.9775, Testing Accuracy: 0.9748\n",
      "\n"
     ]
    },
    {
     "name": "stdout",
     "output_type": "stream",
     "text": [
      "Epoch 200, Loss 0.0194\n",
      "Training Accuracy: 0.9782, Testing Accuracy: 0.9748\n",
      "\n"
     ]
    },
    {
     "name": "stdout",
     "output_type": "stream",
     "text": [
      "Epoch 210, Loss 0.019\n",
      "Training Accuracy: 0.9786, Testing Accuracy: 0.9748\n",
      "\n"
     ]
    },
    {
     "name": "stdout",
     "output_type": "stream",
     "text": [
      "Epoch 220, Loss 0.0186\n",
      "Training Accuracy: 0.9790, Testing Accuracy: 0.9753\n",
      "\n"
     ]
    },
    {
     "name": "stdout",
     "output_type": "stream",
     "text": [
      "Epoch 230, Loss 0.0181\n",
      "Training Accuracy: 0.9796, Testing Accuracy: 0.9753\n",
      "\n"
     ]
    },
    {
     "name": "stdout",
     "output_type": "stream",
     "text": [
      "Epoch 240, Loss 0.0177\n",
      "Training Accuracy: 0.9801, Testing Accuracy: 0.9758\n",
      "\n"
     ]
    },
    {
     "data": {
      "text/plain": [
       "0.01718272749204771"
      ]
     },
     "execution_count": 22,
     "metadata": {},
     "output_type": "execute_result"
    }
   ],
   "source": [
    "nn_learner.train_loop(dl)"
   ]
  },
  {
   "cell_type": "code",
   "execution_count": 23,
   "id": "e0163366",
   "metadata": {
    "execution": {
     "iopub.execute_input": "2021-11-25T10:09:38.840084Z",
     "iopub.status.busy": "2021-11-25T10:09:38.839531Z",
     "iopub.status.idle": "2021-11-25T10:09:53.273211Z",
     "shell.execute_reply": "2021-11-25T10:09:53.273704Z"
    },
    "papermill": {
     "duration": 14.476469,
     "end_time": "2021-11-25T10:09:53.273844",
     "exception": false,
     "start_time": "2021-11-25T10:09:38.797375",
     "status": "completed"
    },
    "tags": []
   },
   "outputs": [
    {
     "name": "stdout",
     "output_type": "stream",
     "text": [
      "Epoch 0, Loss 0.2456\n",
      "Training Accuracy: 0.6804, Testing Accuracy: 0.6840\n",
      "\n"
     ]
    },
    {
     "name": "stdout",
     "output_type": "stream",
     "text": [
      "Epoch 10, Loss 0.1038\n",
      "Training Accuracy: 0.9090, Testing Accuracy: 0.9229\n",
      "\n"
     ]
    },
    {
     "name": "stdout",
     "output_type": "stream",
     "text": [
      "Epoch 20, Loss 0.08\n",
      "Training Accuracy: 0.9251, Testing Accuracy: 0.9415\n",
      "\n"
     ]
    },
    {
     "name": "stdout",
     "output_type": "stream",
     "text": [
      "Epoch 30, Loss 0.0689\n",
      "Training Accuracy: 0.9356, Testing Accuracy: 0.9461\n",
      "\n"
     ]
    },
    {
     "name": "stdout",
     "output_type": "stream",
     "text": [
      "Epoch 40, Loss 0.0623\n",
      "Training Accuracy: 0.9418, Testing Accuracy: 0.9521\n",
      "\n"
     ]
    },
    {
     "name": "stdout",
     "output_type": "stream",
     "text": [
      "Epoch 50, Loss 0.0577\n",
      "Training Accuracy: 0.9445, Testing Accuracy: 0.9546\n",
      "\n"
     ]
    },
    {
     "name": "stdout",
     "output_type": "stream",
     "text": [
      "Epoch 60, Loss 0.0543\n",
      "Training Accuracy: 0.9482, Testing Accuracy: 0.9567\n",
      "\n"
     ]
    },
    {
     "name": "stdout",
     "output_type": "stream",
     "text": [
      "Epoch 70, Loss 0.0517\n",
      "Training Accuracy: 0.9500, Testing Accuracy: 0.9572\n",
      "\n"
     ]
    },
    {
     "name": "stdout",
     "output_type": "stream",
     "text": [
      "Epoch 80, Loss 0.0496\n",
      "Training Accuracy: 0.9508, Testing Accuracy: 0.9587\n",
      "\n"
     ]
    },
    {
     "name": "stdout",
     "output_type": "stream",
     "text": [
      "Epoch 90, Loss 0.0479\n",
      "Training Accuracy: 0.9516, Testing Accuracy: 0.9592\n",
      "\n"
     ]
    },
    {
     "name": "stdout",
     "output_type": "stream",
     "text": [
      "Epoch 100, Loss 0.0464\n",
      "Training Accuracy: 0.9525, Testing Accuracy: 0.9612\n",
      "\n"
     ]
    },
    {
     "name": "stdout",
     "output_type": "stream",
     "text": [
      "Epoch 110, Loss 0.0452\n",
      "Training Accuracy: 0.9535, Testing Accuracy: 0.9622\n",
      "\n"
     ]
    },
    {
     "name": "stdout",
     "output_type": "stream",
     "text": [
      "Epoch 120, Loss 0.0441\n",
      "Training Accuracy: 0.9547, Testing Accuracy: 0.9632\n",
      "\n"
     ]
    },
    {
     "name": "stdout",
     "output_type": "stream",
     "text": [
      "Epoch 130, Loss 0.0431\n",
      "Training Accuracy: 0.9556, Testing Accuracy: 0.9637\n",
      "\n"
     ]
    },
    {
     "name": "stdout",
     "output_type": "stream",
     "text": [
      "Epoch 140, Loss 0.0423\n",
      "Training Accuracy: 0.9566, Testing Accuracy: 0.9637\n",
      "\n"
     ]
    },
    {
     "name": "stdout",
     "output_type": "stream",
     "text": [
      "Epoch 150, Loss 0.0415\n",
      "Training Accuracy: 0.9573, Testing Accuracy: 0.9637\n",
      "\n"
     ]
    },
    {
     "name": "stdout",
     "output_type": "stream",
     "text": [
      "Epoch 160, Loss 0.0408\n",
      "Training Accuracy: 0.9577, Testing Accuracy: 0.9652\n",
      "\n"
     ]
    },
    {
     "name": "stdout",
     "output_type": "stream",
     "text": [
      "Epoch 170, Loss 0.0402\n",
      "Training Accuracy: 0.9579, Testing Accuracy: 0.9647\n",
      "\n"
     ]
    },
    {
     "name": "stdout",
     "output_type": "stream",
     "text": [
      "Epoch 180, Loss 0.0396\n",
      "Training Accuracy: 0.9581, Testing Accuracy: 0.9637\n",
      "\n"
     ]
    },
    {
     "name": "stdout",
     "output_type": "stream",
     "text": [
      "Epoch 190, Loss 0.0391\n",
      "Training Accuracy: 0.9584, Testing Accuracy: 0.9637\n",
      "\n"
     ]
    },
    {
     "name": "stdout",
     "output_type": "stream",
     "text": [
      "Epoch 200, Loss 0.0386\n",
      "Training Accuracy: 0.9585, Testing Accuracy: 0.9637\n",
      "\n"
     ]
    },
    {
     "name": "stdout",
     "output_type": "stream",
     "text": [
      "Epoch 210, Loss 0.0382\n",
      "Training Accuracy: 0.9589, Testing Accuracy: 0.9642\n",
      "\n"
     ]
    },
    {
     "name": "stdout",
     "output_type": "stream",
     "text": [
      "Epoch 220, Loss 0.0378\n",
      "Training Accuracy: 0.9594, Testing Accuracy: 0.9642\n",
      "\n"
     ]
    },
    {
     "name": "stdout",
     "output_type": "stream",
     "text": [
      "Epoch 230, Loss 0.0374\n",
      "Training Accuracy: 0.9599, Testing Accuracy: 0.9652\n",
      "\n"
     ]
    },
    {
     "name": "stdout",
     "output_type": "stream",
     "text": [
      "Epoch 240, Loss 0.037\n",
      "Training Accuracy: 0.9599, Testing Accuracy: 0.9647\n",
      "\n"
     ]
    },
    {
     "data": {
      "text/plain": [
       "0.020748003835563106"
      ]
     },
     "execution_count": 23,
     "metadata": {},
     "output_type": "execute_result"
    }
   ],
   "source": [
    "lr_learner.train_loop(dl)"
   ]
  },
  {
   "cell_type": "code",
   "execution_count": 24,
   "id": "ca410940",
   "metadata": {
    "execution": {
     "iopub.execute_input": "2021-11-25T10:09:53.367833Z",
     "iopub.status.busy": "2021-11-25T10:09:53.367265Z",
     "iopub.status.idle": "2021-11-25T10:09:53.606933Z",
     "shell.execute_reply": "2021-11-25T10:09:53.607370Z"
    },
    "papermill": {
     "duration": 0.292161,
     "end_time": "2021-11-25T10:09:53.607520",
     "exception": false,
     "start_time": "2021-11-25T10:09:53.315359",
     "status": "completed"
    },
    "tags": []
   },
   "outputs": [
    {
     "data": {
      "text/plain": [
       "<matplotlib.legend.Legend at 0x7f2400071940>"
      ]
     },
     "execution_count": 24,
     "metadata": {},
     "output_type": "execute_result"
    },
    {
     "data": {
      "image/png": "[encoded data removed]",
      "text/plain": [
       "<Figure size 1080x720 with 1 Axes>"
      ]
     },
     "metadata": {
      "needs_background": "light"
     },
     "output_type": "display_data"
    }
   ],
   "source": [
    "#comparing the results of NN and LR\n",
    "plt.figure(figsize=(15,10))\n",
    "\n",
    "# Neural Network plots\n",
    "plt.plot(acc_nn.accuracies, 'r-', label = \"Training Accuracies - NN\")\n",
    "plt.plot(acc_nn.test_accuracies, 'g-', label = \"Testing Accuracies - NN\")\n",
    "\n",
    "# Logistic Regression plots\n",
    "plt.plot(acc_lr.accuracies, 'k-', label = \"Training Accuracies - LR\")\n",
    "plt.plot(acc_lr.test_accuracies, 'b-', label = \"Testing Accuracies - LR\")\n",
    "plt.legend()"
   ]
  },
  {
   "cell_type": "markdown",
   "id": "80dfb35c",
   "metadata": {
    "papermill": {
     "duration": 0.042212,
     "end_time": "2021-11-25T10:09:53.692982",
     "exception": false,
     "start_time": "2021-11-25T10:09:53.650770",
     "status": "completed"
    },
    "tags": []
   },
   "source": [
    "#### Plotting the outputs of this layer of the NN.\n"
   ]
  },
  {
   "cell_type": "code",
   "execution_count": 25,
   "id": "45eb2ff5",
   "metadata": {
    "execution": {
     "iopub.execute_input": "2021-11-25T10:09:53.787401Z",
     "iopub.status.busy": "2021-11-25T10:09:53.786853Z",
     "iopub.status.idle": "2021-11-25T10:09:53.815553Z",
     "shell.execute_reply": "2021-11-25T10:09:53.816419Z"
    },
    "papermill": {
     "duration": 0.080307,
     "end_time": "2021-11-25T10:09:53.816570",
     "exception": false,
     "start_time": "2021-11-25T10:09:53.736263",
     "status": "completed"
    },
    "tags": []
   },
   "outputs": [],
   "source": [
    "new_model = Model(layers[:-2])\n",
    "testing_plot = new_model(testing_data_x)"
   ]
  },
  {
   "cell_type": "code",
   "execution_count": 26,
   "id": "4c0a5485",
   "metadata": {
    "execution": {
     "iopub.execute_input": "2021-11-25T10:09:53.955977Z",
     "iopub.status.busy": "2021-11-25T10:09:53.955438Z",
     "iopub.status.idle": "2021-11-25T10:09:54.189460Z",
     "shell.execute_reply": "2021-11-25T10:09:54.189856Z"
    },
    "papermill": {
     "duration": 0.293646,
     "end_time": "2021-11-25T10:09:54.190003",
     "exception": false,
     "start_time": "2021-11-25T10:09:53.896357",
     "status": "completed"
    },
    "tags": []
   },
   "outputs": [
    {
     "data": {
      "text/plain": [
       "Text(0.5, 1.0, 'Outputs')"
      ]
     },
     "execution_count": 26,
     "metadata": {},
     "output_type": "execute_result"
    },
    {
     "data": {
      "image/png": "[encoded data removed]",
      "text/plain": [
       "<Figure size 576x504 with 1 Axes>"
      ]
     },
     "metadata": {
      "needs_background": "light"
     },
     "output_type": "display_data"
    }
   ],
   "source": [
    "# Plotting the scatter plot of points and color coding by class\n",
    "plt.figure(figsize=(8,7))\n",
    "plt.scatter(testing_plot[:,0], testing_plot[:,1], alpha = 0.1, c = y_test.ravel());\n",
    "plt.title('Outputs')"
   ]
  },
  {
   "cell_type": "markdown",
   "id": "a74fcf8f",
   "metadata": {
    "papermill": {
     "duration": 0.04801,
     "end_time": "2021-11-25T10:09:54.285173",
     "exception": false,
     "start_time": "2021-11-25T10:09:54.237163",
     "status": "completed"
    },
    "tags": []
   },
   "source": [
    "Probability contours"
   ]
  },
  {
   "cell_type": "code",
   "execution_count": 27,
   "id": "d0afc8e3",
   "metadata": {
    "execution": {
     "iopub.execute_input": "2021-11-25T10:09:54.405905Z",
     "iopub.status.busy": "2021-11-25T10:09:54.405341Z",
     "iopub.status.idle": "2021-11-25T10:09:54.408400Z",
     "shell.execute_reply": "2021-11-25T10:09:54.407610Z"
    },
    "papermill": {
     "duration": 0.071683,
     "end_time": "2021-11-25T10:09:54.408529",
     "exception": false,
     "start_time": "2021-11-25T10:09:54.336846",
     "status": "completed"
    },
    "tags": []
   },
   "outputs": [],
   "source": [
    "model_prob = Model(layers[-2:]) "
   ]
  },
  {
   "cell_type": "code",
   "execution_count": 28,
   "id": "9b96e238",
   "metadata": {
    "execution": {
     "iopub.execute_input": "2021-11-25T10:09:54.542799Z",
     "iopub.status.busy": "2021-11-25T10:09:54.542149Z",
     "iopub.status.idle": "2021-11-25T10:09:54.558019Z",
     "shell.execute_reply": "2021-11-25T10:09:54.558486Z"
    },
    "papermill": {
     "duration": 0.06752,
     "end_time": "2021-11-25T10:09:54.558639",
     "exception": false,
     "start_time": "2021-11-25T10:09:54.491119",
     "status": "completed"
    },
    "tags": []
   },
   "outputs": [],
   "source": [
    "#creating the x and y ranges according to the above generated plot.\n",
    "x_range = np.linspace(-4, 1, 100) \n",
    "y_range = np.linspace(-6, 6, 100) \n",
    "x_grid, y_grid = np.meshgrid(x_range, y_range) # x_grid and y_grig are of size 100 X 100\n",
    "\n",
    "# converting x_grid and y_grid to continuous arrays\n",
    "x_gridflat = np.ravel(x_grid)\n",
    "y_gridflat = np.ravel(y_grid)\n",
    "\n",
    "# The last layer of the current model takes two columns as input. Hence transpose of np.vstack() is required.\n",
    "X = np.vstack((x_gridflat, y_gridflat)).T\n",
    "\n",
    "prob_contour = model_prob(X).reshape(100,100) "
   ]
  },
  {
   "cell_type": "code",
   "execution_count": 29,
   "id": "da72499a",
   "metadata": {
    "execution": {
     "iopub.execute_input": "2021-11-25T10:09:54.663511Z",
     "iopub.status.busy": "2021-11-25T10:09:54.662957Z",
     "iopub.status.idle": "2021-11-25T10:09:54.938695Z",
     "shell.execute_reply": "2021-11-25T10:09:54.939458Z"
    },
    "papermill": {
     "duration": 0.331537,
     "end_time": "2021-11-25T10:09:54.939606",
     "exception": false,
     "start_time": "2021-11-25T10:09:54.608069",
     "status": "completed"
    },
    "tags": []
   },
   "outputs": [
    {
     "data": {
      "image/png": "[encoded data removed]",
      "text/plain": [
       "<Figure size 720x648 with 1 Axes>"
      ]
     },
     "metadata": {
      "needs_background": "light"
     },
     "output_type": "display_data"
    }
   ],
   "source": [
    "plt.figure(figsize=(10,9))\n",
    "plt.scatter(testing_plot[:,0], testing_plot[:,1], alpha = 0.1, c = y_test.ravel())\n",
    "contours = plt.contour(x_grid,y_grid,prob_contour)\n",
    "plt.title('Probability Contours')\n",
    "plt.clabel(contours, inline = True );"
   ]
  },
  {
   "cell_type": "code",
   "execution_count": null,
   "id": "e81b4ac7",
   "metadata": {
    "papermill": {
     "duration": 0.048119,
     "end_time": "2021-11-25T10:09:55.036824",
     "exception": false,
     "start_time": "2021-11-25T10:09:54.988705",
     "status": "completed"
    },
    "tags": []
   },
   "outputs": [],
   "source": []
  }
 ],
 "metadata": {
  "kernelspec": {
   "display_name": "Python 3",
   "language": "python",
   "name": "python3"
  },
  "language_info": {
   "codemirror_mode": {
    "name": "ipython",
    "version": 3
   },
   "file_extension": ".py",
   "mimetype": "text/x-python",
   "name": "python",
   "nbconvert_exporter": "python",
   "pygments_lexer": "ipython3",
   "version": "3.6.15"
  },
  "papermill": {
   "default_parameters": {},
   "duration": 104.446686,
   "end_time": "2021-11-25T10:09:55.496528",
   "environment_variables": {},
   "exception": null,
   "input_path": "2020-08-11-part2.ipynb",
   "output_path": "2020-08-11-part2.ipynb",
   "parameters": {},
   "start_time": "2021-11-25T10:08:11.049842",
   "version": "2.3.3"
  }
 },
 "nbformat": 4,
 "nbformat_minor": 5
}