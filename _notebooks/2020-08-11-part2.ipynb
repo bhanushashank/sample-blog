{
 "cells": [
  {
   "cell_type": "markdown",
   "id": "98380cd3",
   "metadata": {
    "papermill": {
     "duration": 0.028462,
     "end_time": "2022-05-17T00:36:35.620837",
     "exception": false,
     "start_time": "2022-05-17T00:36:35.592375",
     "status": "completed"
    },
    "tags": []
   },
   "source": [
    "# Distinguish Your Own Digits (DYOD)"
   ]
  },
  {
   "cell_type": "markdown",
   "id": "ef31240d",
   "metadata": {
    "papermill": {
     "duration": 0.025745,
     "end_time": "2022-05-17T00:36:35.671854",
     "exception": false,
     "start_time": "2022-05-17T00:36:35.646109",
     "status": "completed"
    },
    "tags": []
   },
   "source": [
    "You are going to write a classifier that distinguishes between the number 3 and number 8."
   ]
  },
  {
   "cell_type": "code",
   "execution_count": 1,
   "id": "b15c8646",
   "metadata": {
    "execution": {
     "iopub.execute_input": "2022-05-17T00:36:35.730563Z",
     "iopub.status.busy": "2022-05-17T00:36:35.728352Z",
     "iopub.status.idle": "2022-05-17T00:36:35.740395Z",
     "shell.execute_reply": "2022-05-17T00:36:35.739993Z"
    },
    "papermill": {
     "duration": 0.044134,
     "end_time": "2022-05-17T00:36:35.740505",
     "exception": false,
     "start_time": "2022-05-17T00:36:35.696371",
     "status": "completed"
    },
    "tags": []
   },
   "outputs": [],
   "source": [
    "%load_ext autoreload\n",
    "%autoreload 2"
   ]
  },
  {
   "cell_type": "code",
   "execution_count": 2,
   "id": "22ef38dc",
   "metadata": {
    "execution": {
     "iopub.execute_input": "2022-05-17T00:36:35.793233Z",
     "iopub.status.busy": "2022-05-17T00:36:35.792730Z",
     "iopub.status.idle": "2022-05-17T00:36:36.290353Z",
     "shell.execute_reply": "2022-05-17T00:36:36.289882Z"
    },
    "papermill": {
     "duration": 0.525129,
     "end_time": "2022-05-17T00:36:36.290464",
     "exception": false,
     "start_time": "2022-05-17T00:36:35.765335",
     "status": "completed"
    },
    "tags": []
   },
   "outputs": [],
   "source": [
    "%matplotlib inline\n",
    "import numpy as np\n",
    "import matplotlib.pyplot as plt\n",
    "import pandas as pd"
   ]
  },
  {
   "cell_type": "markdown",
   "id": "ba036198",
   "metadata": {
    "papermill": {
     "duration": 0.024734,
     "end_time": "2022-05-17T00:36:36.339978",
     "exception": false,
     "start_time": "2022-05-17T00:36:36.315244",
     "status": "completed"
    },
    "tags": []
   },
   "source": [
    "From the command line run `pip install mnist`. This is a library that will help you bring down the mnist dataset. If you run this from a notebook, you need to put  `!pip install mnist` in a cell by itself."
   ]
  },
  {
   "cell_type": "code",
   "execution_count": 3,
   "id": "bb6ad8a1",
   "metadata": {
    "execution": {
     "iopub.execute_input": "2022-05-17T00:36:36.394754Z",
     "iopub.status.busy": "2022-05-17T00:36:36.393630Z",
     "iopub.status.idle": "2022-05-17T00:36:38.082254Z",
     "shell.execute_reply": "2022-05-17T00:36:38.081775Z"
    },
    "papermill": {
     "duration": 1.717579,
     "end_time": "2022-05-17T00:36:38.082367",
     "exception": false,
     "start_time": "2022-05-17T00:36:36.364788",
     "status": "completed"
    },
    "tags": []
   },
   "outputs": [
    {
     "name": "stdout",
     "output_type": "stream",
     "text": [
      "Collecting mnist\r\n"
     ]
    },
    {
     "name": "stdout",
     "output_type": "stream",
     "text": [
      "  Downloading mnist-0.2.2-py2.py3-none-any.whl (3.5 kB)\r\n",
      "Requirement already satisfied: numpy in /opt/hostedtoolcache/Python/3.6.15/x64/lib/python3.6/site-packages (from mnist) (1.19.5)\r\n"
     ]
    },
    {
     "name": "stdout",
     "output_type": "stream",
     "text": [
      "Installing collected packages: mnist\r\n"
     ]
    },
    {
     "name": "stdout",
     "output_type": "stream",
     "text": [
      "Successfully installed mnist-0.2.2\r\n"
     ]
    }
   ],
   "source": [
    "!pip install mnist"
   ]
  },
  {
   "cell_type": "markdown",
   "id": "69df9c9a",
   "metadata": {
    "papermill": {
     "duration": 0.025802,
     "end_time": "2022-05-17T00:36:38.134176",
     "exception": false,
     "start_time": "2022-05-17T00:36:38.108374",
     "status": "completed"
    },
    "tags": []
   },
   "source": [
    "## Preparing the Data"
   ]
  },
  {
   "cell_type": "code",
   "execution_count": 4,
   "id": "7f69d806",
   "metadata": {
    "execution": {
     "iopub.execute_input": "2022-05-17T00:36:38.188903Z",
     "iopub.status.busy": "2022-05-17T00:36:38.188389Z",
     "iopub.status.idle": "2022-05-17T00:36:38.201201Z",
     "shell.execute_reply": "2022-05-17T00:36:38.201578Z"
    },
    "papermill": {
     "duration": 0.041906,
     "end_time": "2022-05-17T00:36:38.201694",
     "exception": false,
     "start_time": "2022-05-17T00:36:38.159788",
     "status": "completed"
    },
    "tags": []
   },
   "outputs": [],
   "source": [
    "import mnist"
   ]
  },
  {
   "cell_type": "code",
   "execution_count": 5,
   "id": "a411e44f",
   "metadata": {
    "execution": {
     "iopub.execute_input": "2022-05-17T00:36:38.256032Z",
     "iopub.status.busy": "2022-05-17T00:36:38.255519Z",
     "iopub.status.idle": "2022-05-17T00:36:38.970868Z",
     "shell.execute_reply": "2022-05-17T00:36:38.970403Z"
    },
    "papermill": {
     "duration": 0.743587,
     "end_time": "2022-05-17T00:36:38.970981",
     "exception": false,
     "start_time": "2022-05-17T00:36:38.227394",
     "status": "completed"
    },
    "tags": []
   },
   "outputs": [],
   "source": [
    "train_images = mnist.train_images()\n",
    "train_labels = mnist.train_labels()"
   ]
  },
  {
   "cell_type": "code",
   "execution_count": 6,
   "id": "dceab3a5",
   "metadata": {
    "execution": {
     "iopub.execute_input": "2022-05-17T00:36:39.026493Z",
     "iopub.status.busy": "2022-05-17T00:36:39.026001Z",
     "iopub.status.idle": "2022-05-17T00:36:39.039534Z",
     "shell.execute_reply": "2022-05-17T00:36:39.039132Z"
    },
    "papermill": {
     "duration": 0.042476,
     "end_time": "2022-05-17T00:36:39.039635",
     "exception": false,
     "start_time": "2022-05-17T00:36:38.997159",
     "status": "completed"
    },
    "tags": []
   },
   "outputs": [
    {
     "data": {
      "text/plain": [
       "((60000, 28, 28), (60000,))"
      ]
     },
     "execution_count": 6,
     "metadata": {},
     "output_type": "execute_result"
    }
   ],
   "source": [
    "train_images.shape, train_labels.shape"
   ]
  },
  {
   "cell_type": "code",
   "execution_count": 7,
   "id": "f50dc2bb",
   "metadata": {
    "execution": {
     "iopub.execute_input": "2022-05-17T00:36:39.095025Z",
     "iopub.status.busy": "2022-05-17T00:36:39.094527Z",
     "iopub.status.idle": "2022-05-17T00:36:39.284753Z",
     "shell.execute_reply": "2022-05-17T00:36:39.284284Z"
    },
    "papermill": {
     "duration": 0.219197,
     "end_time": "2022-05-17T00:36:39.284870",
     "exception": false,
     "start_time": "2022-05-17T00:36:39.065673",
     "status": "completed"
    },
    "tags": []
   },
   "outputs": [],
   "source": [
    "test_images = mnist.test_images()\n",
    "test_labels = mnist.test_labels()"
   ]
  },
  {
   "cell_type": "code",
   "execution_count": 8,
   "id": "fc38cf1b",
   "metadata": {
    "execution": {
     "iopub.execute_input": "2022-05-17T00:36:39.340607Z",
     "iopub.status.busy": "2022-05-17T00:36:39.340085Z",
     "iopub.status.idle": "2022-05-17T00:36:39.351784Z",
     "shell.execute_reply": "2022-05-17T00:36:39.352237Z"
    },
    "papermill": {
     "duration": 0.04112,
     "end_time": "2022-05-17T00:36:39.352354",
     "exception": false,
     "start_time": "2022-05-17T00:36:39.311234",
     "status": "completed"
    },
    "tags": []
   },
   "outputs": [
    {
     "data": {
      "text/plain": [
       "((10000, 28, 28), (10000,))"
      ]
     },
     "execution_count": 8,
     "metadata": {},
     "output_type": "execute_result"
    }
   ],
   "source": [
    "test_images.shape, test_labels.shape"
   ]
  },
  {
   "cell_type": "code",
   "execution_count": 9,
   "id": "f9ed8fe0",
   "metadata": {
    "execution": {
     "iopub.execute_input": "2022-05-17T00:36:39.408139Z",
     "iopub.status.busy": "2022-05-17T00:36:39.407648Z",
     "iopub.status.idle": "2022-05-17T00:36:39.538090Z",
     "shell.execute_reply": "2022-05-17T00:36:39.537690Z"
    },
    "papermill": {
     "duration": 0.15958,
     "end_time": "2022-05-17T00:36:39.538193",
     "exception": false,
     "start_time": "2022-05-17T00:36:39.378613",
     "status": "completed"
    },
    "tags": []
   },
   "outputs": [
    {
     "name": "stdout",
     "output_type": "stream",
     "text": [
      "2\n"
     ]
    },
    {
     "data": {
      "text/plain": [
       "<matplotlib.image.AxesImage at 0x7f9cef2cf4e0>"
      ]
     },
     "execution_count": 9,
     "metadata": {},
     "output_type": "execute_result"
    },
    {
     "data": {
      "image/png": "[encoded data removed]",
      "text/plain": [
       "<Figure size 432x288 with 1 Axes>"
      ]
     },
     "metadata": {
      "needs_background": "light"
     },
     "output_type": "display_data"
    }
   ],
   "source": [
    "image_index = 7776 # You may select anything up to 60,000\n",
    "print(train_labels[image_index]) \n",
    "plt.imshow(train_images[image_index], cmap='Greys')"
   ]
  },
  {
   "cell_type": "markdown",
   "id": "a8d2388d",
   "metadata": {
    "papermill": {
     "duration": 0.027566,
     "end_time": "2022-05-17T00:36:39.593327",
     "exception": false,
     "start_time": "2022-05-17T00:36:39.565761",
     "status": "completed"
    },
    "tags": []
   },
   "source": [
    "## Filter data to get 3 and 8 out"
   ]
  },
  {
   "cell_type": "code",
   "execution_count": 10,
   "id": "776f7fc7",
   "metadata": {
    "execution": {
     "iopub.execute_input": "2022-05-17T00:36:39.651998Z",
     "iopub.status.busy": "2022-05-17T00:36:39.651490Z",
     "iopub.status.idle": "2022-05-17T00:36:39.666639Z",
     "shell.execute_reply": "2022-05-17T00:36:39.667053Z"
    },
    "papermill": {
     "duration": 0.046436,
     "end_time": "2022-05-17T00:36:39.667170",
     "exception": false,
     "start_time": "2022-05-17T00:36:39.620734",
     "status": "completed"
    },
    "tags": []
   },
   "outputs": [],
   "source": [
    "train_filter = np.where((train_labels == 3 ) | (train_labels == 8))\n",
    "test_filter = np.where((test_labels == 3) | (test_labels == 8))\n",
    "X_train, y_train = train_images[train_filter], train_labels[train_filter]\n",
    "X_test, y_test = test_images[test_filter], test_labels[test_filter]"
   ]
  },
  {
   "cell_type": "markdown",
   "id": "948f0b7e",
   "metadata": {
    "papermill": {
     "duration": 0.027293,
     "end_time": "2022-05-17T00:36:39.721971",
     "exception": false,
     "start_time": "2022-05-17T00:36:39.694678",
     "status": "completed"
    },
    "tags": []
   },
   "source": [
    "We normalize the pizel values in the 0 to 1 range"
   ]
  },
  {
   "cell_type": "code",
   "execution_count": 11,
   "id": "ee4c2166",
   "metadata": {
    "execution": {
     "iopub.execute_input": "2022-05-17T00:36:39.779995Z",
     "iopub.status.busy": "2022-05-17T00:36:39.779496Z",
     "iopub.status.idle": "2022-05-17T00:36:39.816044Z",
     "shell.execute_reply": "2022-05-17T00:36:39.815624Z"
    },
    "papermill": {
     "duration": 0.06693,
     "end_time": "2022-05-17T00:36:39.816154",
     "exception": false,
     "start_time": "2022-05-17T00:36:39.749224",
     "status": "completed"
    },
    "tags": []
   },
   "outputs": [],
   "source": [
    "X_train = X_train/255.\n",
    "X_test = X_test/255."
   ]
  },
  {
   "cell_type": "markdown",
   "id": "ddcf4fab",
   "metadata": {
    "papermill": {
     "duration": 0.027433,
     "end_time": "2022-05-17T00:36:39.871265",
     "exception": false,
     "start_time": "2022-05-17T00:36:39.843832",
     "status": "completed"
    },
    "tags": []
   },
   "source": [
    "And setup the labels as 1 (when the digit is 3) and 0 (when the digit is 8)"
   ]
  },
  {
   "cell_type": "code",
   "execution_count": 12,
   "id": "7dc908f2",
   "metadata": {
    "execution": {
     "iopub.execute_input": "2022-05-17T00:36:39.929292Z",
     "iopub.status.busy": "2022-05-17T00:36:39.928808Z",
     "iopub.status.idle": "2022-05-17T00:36:39.940275Z",
     "shell.execute_reply": "2022-05-17T00:36:39.939856Z"
    },
    "papermill": {
     "duration": 0.041672,
     "end_time": "2022-05-17T00:36:39.940376",
     "exception": false,
     "start_time": "2022-05-17T00:36:39.898704",
     "status": "completed"
    },
    "tags": []
   },
   "outputs": [],
   "source": [
    "y_train = 1*(y_train==3)\n",
    "y_test = 1*(y_test==3)"
   ]
  },
  {
   "cell_type": "code",
   "execution_count": 13,
   "id": "01e4e969",
   "metadata": {
    "execution": {
     "iopub.execute_input": "2022-05-17T00:36:39.997841Z",
     "iopub.status.busy": "2022-05-17T00:36:39.997351Z",
     "iopub.status.idle": "2022-05-17T00:36:40.009844Z",
     "shell.execute_reply": "2022-05-17T00:36:40.010263Z"
    },
    "papermill": {
     "duration": 0.042093,
     "end_time": "2022-05-17T00:36:40.010368",
     "exception": false,
     "start_time": "2022-05-17T00:36:39.968275",
     "status": "completed"
    },
    "tags": []
   },
   "outputs": [
    {
     "data": {
      "text/plain": [
       "((11982, 28, 28), (1984, 28, 28))"
      ]
     },
     "execution_count": 13,
     "metadata": {},
     "output_type": "execute_result"
    }
   ],
   "source": [
    "X_train.shape, X_test.shape"
   ]
  },
  {
   "cell_type": "markdown",
   "id": "5ccf3f85",
   "metadata": {
    "papermill": {
     "duration": 0.027617,
     "end_time": "2022-05-17T00:36:40.065590",
     "exception": false,
     "start_time": "2022-05-17T00:36:40.037973",
     "status": "completed"
    },
    "tags": []
   },
   "source": [
    "We reshape the data to flatten the image pixels into a set of features or co-variates:"
   ]
  },
  {
   "cell_type": "code",
   "execution_count": 14,
   "id": "5286a4a3",
   "metadata": {
    "execution": {
     "iopub.execute_input": "2022-05-17T00:36:40.124355Z",
     "iopub.status.busy": "2022-05-17T00:36:40.123864Z",
     "iopub.status.idle": "2022-05-17T00:36:40.135909Z",
     "shell.execute_reply": "2022-05-17T00:36:40.136285Z"
    },
    "papermill": {
     "duration": 0.043091,
     "end_time": "2022-05-17T00:36:40.136399",
     "exception": false,
     "start_time": "2022-05-17T00:36:40.093308",
     "status": "completed"
    },
    "tags": []
   },
   "outputs": [
    {
     "data": {
      "text/plain": [
       "((11982, 784), (1984, 784))"
      ]
     },
     "execution_count": 14,
     "metadata": {},
     "output_type": "execute_result"
    }
   ],
   "source": [
    "X_train = X_train.reshape(X_train.shape[0], -1)\n",
    "X_test = X_test.reshape(X_test.shape[0], -1)\n",
    "X_train.shape, X_test.shape"
   ]
  },
  {
   "cell_type": "code",
   "execution_count": 15,
   "id": "73c5f88a",
   "metadata": {
    "execution": {
     "iopub.execute_input": "2022-05-17T00:36:40.195969Z",
     "iopub.status.busy": "2022-05-17T00:36:40.195473Z",
     "iopub.status.idle": "2022-05-17T00:36:40.211876Z",
     "shell.execute_reply": "2022-05-17T00:36:40.212282Z"
    },
    "papermill": {
     "duration": 0.048003,
     "end_time": "2022-05-17T00:36:40.212388",
     "exception": false,
     "start_time": "2022-05-17T00:36:40.164385",
     "status": "completed"
    },
    "tags": []
   },
   "outputs": [],
   "source": [
    "#Impoting functions from 'Kudzu'\n",
    "from kudzu.model import Model\n",
    "from kudzu.train import Learner\n",
    "from kudzu.optim import GD\n",
    "from kudzu.data import Data, Sampler,Dataloader\n",
    "\n",
    "from kudzu.callbacks import AccCallback\n",
    "from kudzu.callbacks import ClfCallback\n",
    "\n",
    "from kudzu.loss import MSE\n",
    "\n",
    "from kudzu.layer import Sigmoid,Relu\n",
    "from kudzu.layer import Affine"
   ]
  },
  {
   "cell_type": "markdown",
   "id": "bc01172a",
   "metadata": {
    "papermill": {
     "duration": 0.028165,
     "end_time": "2022-05-17T00:36:40.268502",
     "exception": false,
     "start_time": "2022-05-17T00:36:40.240337",
     "status": "completed"
    },
    "tags": []
   },
   "source": [
    "### Let us create a `Config` class, to store important parameters. \n",
    "This class essentially plays the role of a dictionary."
   ]
  },
  {
   "cell_type": "code",
   "execution_count": 16,
   "id": "978281aa",
   "metadata": {
    "execution": {
     "iopub.execute_input": "2022-05-17T00:36:40.328024Z",
     "iopub.status.busy": "2022-05-17T00:36:40.327534Z",
     "iopub.status.idle": "2022-05-17T00:36:40.338957Z",
     "shell.execute_reply": "2022-05-17T00:36:40.338554Z"
    },
    "papermill": {
     "duration": 0.042551,
     "end_time": "2022-05-17T00:36:40.339057",
     "exception": false,
     "start_time": "2022-05-17T00:36:40.296506",
     "status": "completed"
    },
    "tags": []
   },
   "outputs": [],
   "source": [
    "class Config:\n",
    "    pass\n",
    "config = Config()\n",
    "config.lr = 0.001\n",
    "config.num_epochs = 250\n",
    "config.bs = 50"
   ]
  },
  {
   "cell_type": "markdown",
   "id": "1385fa59",
   "metadata": {
    "papermill": {
     "duration": 0.027908,
     "end_time": "2022-05-17T00:36:40.394999",
     "exception": false,
     "start_time": "2022-05-17T00:36:40.367091",
     "status": "completed"
    },
    "tags": []
   },
   "source": [
    "### Running Models with the Training data\n",
    "Details about the network layers:\n",
    "- A first affine layer has 784 inputs and does 100 affine transforms. These are followed by a Relu\n",
    "- A second affine layer has 100 inputs from the 100 activations of the past layer, and does 100 affine transforms. These are followed by a Relu\n",
    "- A third affine layer has 100 activations and does 2 affine transformations to create an embedding for visualization. There is no non-linearity here.\n",
    "- A final \"logistic regression\" which has an affine transform from 2 inputs to 1 output, which is squeezed through a sigmoid.\n"
   ]
  },
  {
   "cell_type": "code",
   "execution_count": 17,
   "id": "2b9c66db",
   "metadata": {
    "execution": {
     "iopub.execute_input": "2022-05-17T00:36:40.454279Z",
     "iopub.status.busy": "2022-05-17T00:36:40.453783Z",
     "iopub.status.idle": "2022-05-17T00:36:40.465247Z",
     "shell.execute_reply": "2022-05-17T00:36:40.464850Z"
    },
    "papermill": {
     "duration": 0.042358,
     "end_time": "2022-05-17T00:36:40.465345",
     "exception": false,
     "start_time": "2022-05-17T00:36:40.422987",
     "status": "completed"
    },
    "tags": []
   },
   "outputs": [],
   "source": [
    "data = Data(X_train, y_train.reshape(-1,1))\n",
    "sampler = Sampler(data, config.bs, shuffle=True)\n",
    "\n",
    "dl = Dataloader(data, sampler)\n",
    "\n",
    "opt = GD(config.lr)\n",
    "loss = MSE()"
   ]
  },
  {
   "cell_type": "code",
   "execution_count": 18,
   "id": "b275e4c2",
   "metadata": {
    "execution": {
     "iopub.execute_input": "2022-05-17T00:36:40.524279Z",
     "iopub.status.busy": "2022-05-17T00:36:40.523776Z",
     "iopub.status.idle": "2022-05-17T00:36:40.535344Z",
     "shell.execute_reply": "2022-05-17T00:36:40.535754Z"
    },
    "papermill": {
     "duration": 0.042574,
     "end_time": "2022-05-17T00:36:40.535866",
     "exception": false,
     "start_time": "2022-05-17T00:36:40.493292",
     "status": "completed"
    },
    "tags": []
   },
   "outputs": [],
   "source": [
    "training_data_x = X_train\n",
    "testing_data_x = X_test\n",
    "training_data_y = y_train.reshape(-1,1)\n",
    "testing_data_y = y_test.reshape(-1,1)"
   ]
  },
  {
   "cell_type": "code",
   "execution_count": 19,
   "id": "76951160",
   "metadata": {
    "execution": {
     "iopub.execute_input": "2022-05-17T00:36:40.595338Z",
     "iopub.status.busy": "2022-05-17T00:36:40.594836Z",
     "iopub.status.idle": "2022-05-17T00:36:40.609264Z",
     "shell.execute_reply": "2022-05-17T00:36:40.609682Z"
    },
    "papermill": {
     "duration": 0.046023,
     "end_time": "2022-05-17T00:36:40.609789",
     "exception": false,
     "start_time": "2022-05-17T00:36:40.563766",
     "status": "completed"
    },
    "tags": []
   },
   "outputs": [
    {
     "name": "stdout",
     "output_type": "stream",
     "text": [
      "xavier\n",
      "xavier\n",
      "xavier\n",
      "xavier\n",
      "xavier\n"
     ]
    }
   ],
   "source": [
    "layers = [Affine(\"first\", 784, 100), Relu(\"first\"), Affine(\"second\", 100, 100), Relu(\"second\"), Affine(\"third\", 100, 2), Affine(\"last\", 2, 1), Sigmoid(\"last\")]\n",
    "model_nn = Model(layers)\n",
    "model_lr = Model([Affine(\"logits\", 784, 1), Sigmoid(\"sigmoid\")])"
   ]
  },
  {
   "cell_type": "code",
   "execution_count": 20,
   "id": "6eede77a",
   "metadata": {
    "execution": {
     "iopub.execute_input": "2022-05-17T00:36:40.669593Z",
     "iopub.status.busy": "2022-05-17T00:36:40.669100Z",
     "iopub.status.idle": "2022-05-17T00:36:40.679586Z",
     "shell.execute_reply": "2022-05-17T00:36:40.679202Z"
    },
    "papermill": {
     "duration": 0.041657,
     "end_time": "2022-05-17T00:36:40.679681",
     "exception": false,
     "start_time": "2022-05-17T00:36:40.638024",
     "status": "completed"
    },
    "tags": []
   },
   "outputs": [],
   "source": [
    "nn_learner = Learner(loss, model_nn, opt, config.num_epochs)\n",
    "acc_nn = ClfCallback(nn_learner, config.bs, training_data_x , testing_data_x, training_data_y, testing_data_y)\n",
    "nn_learner.set_callbacks([acc_nn])"
   ]
  },
  {
   "cell_type": "code",
   "execution_count": 21,
   "id": "877b6cc7",
   "metadata": {
    "execution": {
     "iopub.execute_input": "2022-05-17T00:36:40.739241Z",
     "iopub.status.busy": "2022-05-17T00:36:40.738745Z",
     "iopub.status.idle": "2022-05-17T00:36:40.749181Z",
     "shell.execute_reply": "2022-05-17T00:36:40.749545Z"
    },
    "papermill": {
     "duration": 0.041713,
     "end_time": "2022-05-17T00:36:40.749653",
     "exception": false,
     "start_time": "2022-05-17T00:36:40.707940",
     "status": "completed"
    },
    "tags": []
   },
   "outputs": [],
   "source": [
    "lr_learner = Learner(loss, model_lr, opt, config.num_epochs)\n",
    "acc_lr = ClfCallback(lr_learner, config.bs, training_data_x , testing_data_x, training_data_y, testing_data_y)\n",
    "lr_learner.set_callbacks([acc_lr])"
   ]
  },
  {
   "cell_type": "code",
   "execution_count": 22,
   "id": "d9b133c3",
   "metadata": {
    "execution": {
     "iopub.execute_input": "2022-05-17T00:36:40.808918Z",
     "iopub.status.busy": "2022-05-17T00:36:40.808399Z",
     "iopub.status.idle": "2022-05-17T00:39:36.520890Z",
     "shell.execute_reply": "2022-05-17T00:39:36.521324Z"
    },
    "papermill": {
     "duration": 175.743564,
     "end_time": "2022-05-17T00:39:36.521455",
     "exception": false,
     "start_time": "2022-05-17T00:36:40.777891",
     "status": "completed"
    },
    "tags": []
   },
   "outputs": [
    {
     "name": "stdout",
     "output_type": "stream",
     "text": [
      "Epoch 0, Loss 0.25\n",
      "Training Accuracy: 0.6047, Testing Accuracy: 0.6401\n",
      "\n"
     ]
    },
    {
     "name": "stdout",
     "output_type": "stream",
     "text": [
      "Epoch 10, Loss 0.1181\n",
      "Training Accuracy: 0.9147, Testing Accuracy: 0.9259\n",
      "\n"
     ]
    },
    {
     "name": "stdout",
     "output_type": "stream",
     "text": [
      "Epoch 20, Loss 0.0627\n",
      "Training Accuracy: 0.9382, Testing Accuracy: 0.9521\n",
      "\n"
     ]
    },
    {
     "name": "stdout",
     "output_type": "stream",
     "text": [
      "Epoch 30, Loss 0.0468\n",
      "Training Accuracy: 0.9484, Testing Accuracy: 0.9597\n",
      "\n"
     ]
    },
    {
     "name": "stdout",
     "output_type": "stream",
     "text": [
      "Epoch 40, Loss 0.0398\n",
      "Training Accuracy: 0.9553, Testing Accuracy: 0.9637\n",
      "\n"
     ]
    },
    {
     "name": "stdout",
     "output_type": "stream",
     "text": [
      "Epoch 50, Loss 0.0358\n",
      "Training Accuracy: 0.9591, Testing Accuracy: 0.9672\n",
      "\n"
     ]
    },
    {
     "name": "stdout",
     "output_type": "stream",
     "text": [
      "Epoch 60, Loss 0.0331\n",
      "Training Accuracy: 0.9614, Testing Accuracy: 0.9688\n",
      "\n"
     ]
    },
    {
     "name": "stdout",
     "output_type": "stream",
     "text": [
      "Epoch 70, Loss 0.0311\n",
      "Training Accuracy: 0.9634, Testing Accuracy: 0.9682\n",
      "\n"
     ]
    },
    {
     "name": "stdout",
     "output_type": "stream",
     "text": [
      "Epoch 80, Loss 0.0295\n",
      "Training Accuracy: 0.9655, Testing Accuracy: 0.9677\n",
      "\n"
     ]
    },
    {
     "name": "stdout",
     "output_type": "stream",
     "text": [
      "Epoch 90, Loss 0.0281\n",
      "Training Accuracy: 0.9675, Testing Accuracy: 0.9677\n",
      "\n"
     ]
    },
    {
     "name": "stdout",
     "output_type": "stream",
     "text": [
      "Epoch 100, Loss 0.027\n",
      "Training Accuracy: 0.9688, Testing Accuracy: 0.9698\n",
      "\n"
     ]
    },
    {
     "name": "stdout",
     "output_type": "stream",
     "text": [
      "Epoch 110, Loss 0.0261\n",
      "Training Accuracy: 0.9697, Testing Accuracy: 0.9693\n",
      "\n"
     ]
    },
    {
     "name": "stdout",
     "output_type": "stream",
     "text": [
      "Epoch 120, Loss 0.0252\n",
      "Training Accuracy: 0.9702, Testing Accuracy: 0.9703\n",
      "\n"
     ]
    },
    {
     "name": "stdout",
     "output_type": "stream",
     "text": [
      "Epoch 130, Loss 0.0244\n",
      "Training Accuracy: 0.9713, Testing Accuracy: 0.9703\n",
      "\n"
     ]
    },
    {
     "name": "stdout",
     "output_type": "stream",
     "text": [
      "Epoch 140, Loss 0.0237\n",
      "Training Accuracy: 0.9723, Testing Accuracy: 0.9703\n",
      "\n"
     ]
    },
    {
     "name": "stdout",
     "output_type": "stream",
     "text": [
      "Epoch 150, Loss 0.0231\n",
      "Training Accuracy: 0.9736, Testing Accuracy: 0.9703\n",
      "\n"
     ]
    },
    {
     "name": "stdout",
     "output_type": "stream",
     "text": [
      "Epoch 160, Loss 0.0224\n",
      "Training Accuracy: 0.9740, Testing Accuracy: 0.9713\n",
      "\n"
     ]
    },
    {
     "name": "stdout",
     "output_type": "stream",
     "text": [
      "Epoch 170, Loss 0.0219\n",
      "Training Accuracy: 0.9748, Testing Accuracy: 0.9713\n",
      "\n"
     ]
    },
    {
     "name": "stdout",
     "output_type": "stream",
     "text": [
      "Epoch 180, Loss 0.0213\n",
      "Training Accuracy: 0.9752, Testing Accuracy: 0.9713\n",
      "\n"
     ]
    },
    {
     "name": "stdout",
     "output_type": "stream",
     "text": [
      "Epoch 190, Loss 0.0208\n",
      "Training Accuracy: 0.9759, Testing Accuracy: 0.9713\n",
      "\n"
     ]
    },
    {
     "name": "stdout",
     "output_type": "stream",
     "text": [
      "Epoch 200, Loss 0.0203\n",
      "Training Accuracy: 0.9765, Testing Accuracy: 0.9713\n",
      "\n"
     ]
    },
    {
     "name": "stdout",
     "output_type": "stream",
     "text": [
      "Epoch 210, Loss 0.0199\n",
      "Training Accuracy: 0.9772, Testing Accuracy: 0.9713\n",
      "\n"
     ]
    },
    {
     "name": "stdout",
     "output_type": "stream",
     "text": [
      "Epoch 220, Loss 0.0194\n",
      "Training Accuracy: 0.9776, Testing Accuracy: 0.9713\n",
      "\n"
     ]
    },
    {
     "name": "stdout",
     "output_type": "stream",
     "text": [
      "Epoch 230, Loss 0.019\n",
      "Training Accuracy: 0.9781, Testing Accuracy: 0.9718\n",
      "\n"
     ]
    },
    {
     "name": "stdout",
     "output_type": "stream",
     "text": [
      "Epoch 240, Loss 0.0186\n",
      "Training Accuracy: 0.9789, Testing Accuracy: 0.9728\n",
      "\n"
     ]
    },
    {
     "data": {
      "text/plain": [
       "0.00500926639076812"
      ]
     },
     "execution_count": 22,
     "metadata": {},
     "output_type": "execute_result"
    }
   ],
   "source": [
    "nn_learner.train_loop(dl)"
   ]
  },
  {
   "cell_type": "code",
   "execution_count": 23,
   "id": "e0163366",
   "metadata": {
    "execution": {
     "iopub.execute_input": "2022-05-17T00:39:36.597579Z",
     "iopub.status.busy": "2022-05-17T00:39:36.596507Z",
     "iopub.status.idle": "2022-05-17T00:39:48.813702Z",
     "shell.execute_reply": "2022-05-17T00:39:48.814159Z"
    },
    "papermill": {
     "duration": 12.257037,
     "end_time": "2022-05-17T00:39:48.814284",
     "exception": false,
     "start_time": "2022-05-17T00:39:36.557247",
     "status": "completed"
    },
    "tags": []
   },
   "outputs": [
    {
     "name": "stdout",
     "output_type": "stream",
     "text": [
      "Epoch 0, Loss 0.2358\n",
      "Training Accuracy: 0.7245, Testing Accuracy: 0.7324\n",
      "\n"
     ]
    },
    {
     "name": "stdout",
     "output_type": "stream",
     "text": [
      "Epoch 10, Loss 0.1012\n",
      "Training Accuracy: 0.9168, Testing Accuracy: 0.9304\n",
      "\n"
     ]
    },
    {
     "name": "stdout",
     "output_type": "stream",
     "text": [
      "Epoch 20, Loss 0.0784\n",
      "Training Accuracy: 0.9313, Testing Accuracy: 0.9390\n",
      "\n"
     ]
    },
    {
     "name": "stdout",
     "output_type": "stream",
     "text": [
      "Epoch 30, Loss 0.0679\n",
      "Training Accuracy: 0.9377, Testing Accuracy: 0.9466\n",
      "\n"
     ]
    },
    {
     "name": "stdout",
     "output_type": "stream",
     "text": [
      "Epoch 40, Loss 0.0615\n",
      "Training Accuracy: 0.9414, Testing Accuracy: 0.9516\n",
      "\n"
     ]
    },
    {
     "name": "stdout",
     "output_type": "stream",
     "text": [
      "Epoch 50, Loss 0.0571\n",
      "Training Accuracy: 0.9453, Testing Accuracy: 0.9541\n",
      "\n"
     ]
    },
    {
     "name": "stdout",
     "output_type": "stream",
     "text": [
      "Epoch 60, Loss 0.0538\n",
      "Training Accuracy: 0.9473, Testing Accuracy: 0.9556\n",
      "\n"
     ]
    },
    {
     "name": "stdout",
     "output_type": "stream",
     "text": [
      "Epoch 70, Loss 0.0513\n",
      "Training Accuracy: 0.9484, Testing Accuracy: 0.9556\n",
      "\n"
     ]
    },
    {
     "name": "stdout",
     "output_type": "stream",
     "text": [
      "Epoch 80, Loss 0.0493\n",
      "Training Accuracy: 0.9502, Testing Accuracy: 0.9572\n",
      "\n"
     ]
    },
    {
     "name": "stdout",
     "output_type": "stream",
     "text": [
      "Epoch 90, Loss 0.0476\n",
      "Training Accuracy: 0.9512, Testing Accuracy: 0.9582\n",
      "\n"
     ]
    },
    {
     "name": "stdout",
     "output_type": "stream",
     "text": [
      "Epoch 100, Loss 0.0462\n",
      "Training Accuracy: 0.9524, Testing Accuracy: 0.9597\n",
      "\n"
     ]
    },
    {
     "name": "stdout",
     "output_type": "stream",
     "text": [
      "Epoch 110, Loss 0.045\n",
      "Training Accuracy: 0.9536, Testing Accuracy: 0.9607\n",
      "\n"
     ]
    },
    {
     "name": "stdout",
     "output_type": "stream",
     "text": [
      "Epoch 120, Loss 0.0439\n",
      "Training Accuracy: 0.9549, Testing Accuracy: 0.9622\n",
      "\n"
     ]
    },
    {
     "name": "stdout",
     "output_type": "stream",
     "text": [
      "Epoch 130, Loss 0.043\n",
      "Training Accuracy: 0.9562, Testing Accuracy: 0.9622\n",
      "\n"
     ]
    },
    {
     "name": "stdout",
     "output_type": "stream",
     "text": [
      "Epoch 140, Loss 0.0421\n",
      "Training Accuracy: 0.9569, Testing Accuracy: 0.9627\n",
      "\n"
     ]
    },
    {
     "name": "stdout",
     "output_type": "stream",
     "text": [
      "Epoch 150, Loss 0.0414\n",
      "Training Accuracy: 0.9577, Testing Accuracy: 0.9637\n",
      "\n"
     ]
    },
    {
     "name": "stdout",
     "output_type": "stream",
     "text": [
      "Epoch 160, Loss 0.0407\n",
      "Training Accuracy: 0.9579, Testing Accuracy: 0.9637\n",
      "\n"
     ]
    },
    {
     "name": "stdout",
     "output_type": "stream",
     "text": [
      "Epoch 170, Loss 0.0401\n",
      "Training Accuracy: 0.9581, Testing Accuracy: 0.9642\n",
      "\n"
     ]
    },
    {
     "name": "stdout",
     "output_type": "stream",
     "text": [
      "Epoch 180, Loss 0.0395\n",
      "Training Accuracy: 0.9589, Testing Accuracy: 0.9642\n",
      "\n"
     ]
    },
    {
     "name": "stdout",
     "output_type": "stream",
     "text": [
      "Epoch 190, Loss 0.039\n",
      "Training Accuracy: 0.9591, Testing Accuracy: 0.9642\n",
      "\n"
     ]
    },
    {
     "name": "stdout",
     "output_type": "stream",
     "text": [
      "Epoch 200, Loss 0.0385\n",
      "Training Accuracy: 0.9598, Testing Accuracy: 0.9642\n",
      "\n"
     ]
    },
    {
     "name": "stdout",
     "output_type": "stream",
     "text": [
      "Epoch 210, Loss 0.0381\n",
      "Training Accuracy: 0.9600, Testing Accuracy: 0.9652\n",
      "\n"
     ]
    },
    {
     "name": "stdout",
     "output_type": "stream",
     "text": [
      "Epoch 220, Loss 0.0377\n",
      "Training Accuracy: 0.9605, Testing Accuracy: 0.9652\n",
      "\n"
     ]
    },
    {
     "name": "stdout",
     "output_type": "stream",
     "text": [
      "Epoch 230, Loss 0.0373\n",
      "Training Accuracy: 0.9609, Testing Accuracy: 0.9662\n",
      "\n"
     ]
    },
    {
     "name": "stdout",
     "output_type": "stream",
     "text": [
      "Epoch 240, Loss 0.0369\n",
      "Training Accuracy: 0.9609, Testing Accuracy: 0.9672\n",
      "\n"
     ]
    },
    {
     "data": {
      "text/plain": [
       "0.009771614222752502"
      ]
     },
     "execution_count": 23,
     "metadata": {},
     "output_type": "execute_result"
    }
   ],
   "source": [
    "lr_learner.train_loop(dl)"
   ]
  },
  {
   "cell_type": "code",
   "execution_count": 24,
   "id": "ca410940",
   "metadata": {
    "execution": {
     "iopub.execute_input": "2022-05-17T00:39:48.907656Z",
     "iopub.status.busy": "2022-05-17T00:39:48.906808Z",
     "iopub.status.idle": "2022-05-17T00:39:49.141098Z",
     "shell.execute_reply": "2022-05-17T00:39:49.141489Z"
    },
    "papermill": {
     "duration": 0.284413,
     "end_time": "2022-05-17T00:39:49.141621",
     "exception": false,
     "start_time": "2022-05-17T00:39:48.857208",
     "status": "completed"
    },
    "tags": []
   },
   "outputs": [
    {
     "data": {
      "text/plain": [
       "<matplotlib.legend.Legend at 0x7f9ce2701c50>"
      ]
     },
     "execution_count": 24,
     "metadata": {},
     "output_type": "execute_result"
    },
    {
     "data": {
      "image/png": "[encoded data removed]",
      "text/plain": [
       "<Figure size 1080x720 with 1 Axes>"
      ]
     },
     "metadata": {
      "needs_background": "light"
     },
     "output_type": "display_data"
    }
   ],
   "source": [
    "#comparing the results of NN and LR\n",
    "plt.figure(figsize=(15,10))\n",
    "\n",
    "# Neural Network plots\n",
    "plt.plot(acc_nn.accuracies, 'r-', label = \"Training Accuracies - NN\")\n",
    "plt.plot(acc_nn.test_accuracies, 'g-', label = \"Testing Accuracies - NN\")\n",
    "\n",
    "# Logistic Regression plots\n",
    "plt.plot(acc_lr.accuracies, 'k-', label = \"Training Accuracies - LR\")\n",
    "plt.plot(acc_lr.test_accuracies, 'b-', label = \"Testing Accuracies - LR\")\n",
    "plt.legend()"
   ]
  },
  {
   "cell_type": "markdown",
   "id": "80dfb35c",
   "metadata": {
    "papermill": {
     "duration": 0.04351,
     "end_time": "2022-05-17T00:39:49.228810",
     "exception": false,
     "start_time": "2022-05-17T00:39:49.185300",
     "status": "completed"
    },
    "tags": []
   },
   "source": [
    "#### Plotting the outputs of this layer of the NN.\n"
   ]
  },
  {
   "cell_type": "code",
   "execution_count": 25,
   "id": "45eb2ff5",
   "metadata": {
    "execution": {
     "iopub.execute_input": "2022-05-17T00:39:49.320975Z",
     "iopub.status.busy": "2022-05-17T00:39:49.319873Z",
     "iopub.status.idle": "2022-05-17T00:39:49.354549Z",
     "shell.execute_reply": "2022-05-17T00:39:49.354943Z"
    },
    "papermill": {
     "duration": 0.082688,
     "end_time": "2022-05-17T00:39:49.355074",
     "exception": false,
     "start_time": "2022-05-17T00:39:49.272386",
     "status": "completed"
    },
    "tags": []
   },
   "outputs": [],
   "source": [
    "new_model = Model(layers[:-2])\n",
    "testing_plot = new_model(testing_data_x)"
   ]
  },
  {
   "cell_type": "code",
   "execution_count": 26,
   "id": "4c0a5485",
   "metadata": {
    "execution": {
     "iopub.execute_input": "2022-05-17T00:39:49.449035Z",
     "iopub.status.busy": "2022-05-17T00:39:49.448512Z",
     "iopub.status.idle": "2022-05-17T00:39:49.627052Z",
     "shell.execute_reply": "2022-05-17T00:39:49.627435Z"
    },
    "papermill": {
     "duration": 0.22815,
     "end_time": "2022-05-17T00:39:49.627564",
     "exception": false,
     "start_time": "2022-05-17T00:39:49.399414",
     "status": "completed"
    },
    "tags": []
   },
   "outputs": [
    {
     "data": {
      "text/plain": [
       "Text(0.5, 1.0, 'Outputs')"
      ]
     },
     "execution_count": 26,
     "metadata": {},
     "output_type": "execute_result"
    },
    {
     "data": {
      "image/png": "[encoded data removed]",
      "text/plain": [
       "<Figure size 576x504 with 1 Axes>"
      ]
     },
     "metadata": {
      "needs_background": "light"
     },
     "output_type": "display_data"
    }
   ],
   "source": [
    "# Plotting the scatter plot of points and color coding by class\n",
    "plt.figure(figsize=(8,7))\n",
    "plt.scatter(testing_plot[:,0], testing_plot[:,1], alpha = 0.1, c = y_test.ravel());\n",
    "plt.title('Outputs')"
   ]
  },
  {
   "cell_type": "markdown",
   "id": "a74fcf8f",
   "metadata": {
    "papermill": {
     "duration": 0.066298,
     "end_time": "2022-05-17T00:39:49.739548",
     "exception": false,
     "start_time": "2022-05-17T00:39:49.673250",
     "status": "completed"
    },
    "tags": []
   },
   "source": [
    "Probability contours"
   ]
  },
  {
   "cell_type": "code",
   "execution_count": 27,
   "id": "d0afc8e3",
   "metadata": {
    "execution": {
     "iopub.execute_input": "2022-05-17T00:39:49.835096Z",
     "iopub.status.busy": "2022-05-17T00:39:49.834596Z",
     "iopub.status.idle": "2022-05-17T00:39:49.846312Z",
     "shell.execute_reply": "2022-05-17T00:39:49.845874Z"
    },
    "papermill": {
     "duration": 0.061108,
     "end_time": "2022-05-17T00:39:49.846418",
     "exception": false,
     "start_time": "2022-05-17T00:39:49.785310",
     "status": "completed"
    },
    "tags": []
   },
   "outputs": [],
   "source": [
    "model_prob = Model(layers[-2:]) "
   ]
  },
  {
   "cell_type": "code",
   "execution_count": 28,
   "id": "9b96e238",
   "metadata": {
    "execution": {
     "iopub.execute_input": "2022-05-17T00:39:49.943433Z",
     "iopub.status.busy": "2022-05-17T00:39:49.942932Z",
     "iopub.status.idle": "2022-05-17T00:39:49.955231Z",
     "shell.execute_reply": "2022-05-17T00:39:49.955627Z"
    },
    "papermill": {
     "duration": 0.063111,
     "end_time": "2022-05-17T00:39:49.955751",
     "exception": false,
     "start_time": "2022-05-17T00:39:49.892640",
     "status": "completed"
    },
    "tags": []
   },
   "outputs": [],
   "source": [
    "#creating the x and y ranges according to the above generated plot.\n",
    "x_range = np.linspace(-4, 1, 100) \n",
    "y_range = np.linspace(-6, 6, 100) \n",
    "x_grid, y_grid = np.meshgrid(x_range, y_range) # x_grid and y_grig are of size 100 X 100\n",
    "\n",
    "# converting x_grid and y_grid to continuous arrays\n",
    "x_gridflat = np.ravel(x_grid)\n",
    "y_gridflat = np.ravel(y_grid)\n",
    "\n",
    "# The last layer of the current model takes two columns as input. Hence transpose of np.vstack() is required.\n",
    "X = np.vstack((x_gridflat, y_gridflat)).T\n",
    "\n",
    "prob_contour = model_prob(X).reshape(100,100) "
   ]
  },
  {
   "cell_type": "code",
   "execution_count": 29,
   "id": "da72499a",
   "metadata": {
    "execution": {
     "iopub.execute_input": "2022-05-17T00:39:50.051837Z",
     "iopub.status.busy": "2022-05-17T00:39:50.051344Z",
     "iopub.status.idle": "2022-05-17T00:39:50.290357Z",
     "shell.execute_reply": "2022-05-17T00:39:50.289911Z"
    },
    "papermill": {
     "duration": 0.288448,
     "end_time": "2022-05-17T00:39:50.290465",
     "exception": false,
     "start_time": "2022-05-17T00:39:50.002017",
     "status": "completed"
    },
    "tags": []
   },
   "outputs": [
    {
     "data": {
      "image/png": "[encoded data removed]",
      "text/plain": [
       "<Figure size 720x648 with 1 Axes>"
      ]
     },
     "metadata": {
      "needs_background": "light"
     },
     "output_type": "display_data"
    }
   ],
   "source": [
    "plt.figure(figsize=(10,9))\n",
    "plt.scatter(testing_plot[:,0], testing_plot[:,1], alpha = 0.1, c = y_test.ravel())\n",
    "contours = plt.contour(x_grid,y_grid,prob_contour)\n",
    "plt.title('Probability Contours')\n",
    "plt.clabel(contours, inline = True );"
   ]
  },
  {
   "cell_type": "code",
   "execution_count": null,
   "id": "e81b4ac7",
   "metadata": {
    "papermill": {
     "duration": 0.049168,
     "end_time": "2022-05-17T00:39:50.390721",
     "exception": false,
     "start_time": "2022-05-17T00:39:50.341553",
     "status": "completed"
    },
    "tags": []
   },
   "outputs": [],
   "source": []
  }
 ],
 "metadata": {
  "kernelspec": {
   "display_name": "Python 3",
   "language": "python",
   "name": "python3"
  },
  "language_info": {
   "codemirror_mode": {
    "name": "ipython",
    "version": 3
   },
   "file_extension": ".py",
   "mimetype": "text/x-python",
   "name": "python",
   "nbconvert_exporter": "python",
   "pygments_lexer": "ipython3",
   "version": "3.6.15"
  },
  "papermill": {
   "default_parameters": {},
   "duration": 196.0729,
   "end_time": "2022-05-17T00:39:50.757086",
   "environment_variables": {},
   "exception": null,
   "input_path": "2020-08-11-part2.ipynb",
   "output_path": "2020-08-11-part2.ipynb",
   "parameters": {},
   "start_time": "2022-05-17T00:36:34.684186",
   "version": "2.3.3"
  }
 },
 "nbformat": 4,
 "nbformat_minor": 5
}