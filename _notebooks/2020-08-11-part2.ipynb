{
 "cells": [
  {
   "cell_type": "markdown",
   "id": "98380cd3",
   "metadata": {
    "papermill": {
     "duration": 0.033014,
     "end_time": "2021-11-27T20:07:05.017890",
     "exception": false,
     "start_time": "2021-11-27T20:07:04.984876",
     "status": "completed"
    },
    "tags": []
   },
   "source": [
    "# Distinguish Your Own Digits (DYOD)"
   ]
  },
  {
   "cell_type": "markdown",
   "id": "ef31240d",
   "metadata": {
    "papermill": {
     "duration": 0.025191,
     "end_time": "2021-11-27T20:07:05.070189",
     "exception": false,
     "start_time": "2021-11-27T20:07:05.044998",
     "status": "completed"
    },
    "tags": []
   },
   "source": [
    "You are going to write a classifier that distinguishes between the number 3 and number 8."
   ]
  },
  {
   "cell_type": "code",
   "execution_count": 1,
   "id": "b15c8646",
   "metadata": {
    "execution": {
     "iopub.execute_input": "2021-11-27T20:07:05.134997Z",
     "iopub.status.busy": "2021-11-27T20:07:05.134248Z",
     "iopub.status.idle": "2021-11-27T20:07:05.145626Z",
     "shell.execute_reply": "2021-11-27T20:07:05.145128Z"
    },
    "papermill": {
     "duration": 0.050126,
     "end_time": "2021-11-27T20:07:05.145749",
     "exception": false,
     "start_time": "2021-11-27T20:07:05.095623",
     "status": "completed"
    },
    "tags": []
   },
   "outputs": [],
   "source": [
    "%load_ext autoreload\n",
    "%autoreload 2"
   ]
  },
  {
   "cell_type": "code",
   "execution_count": 2,
   "id": "22ef38dc",
   "metadata": {
    "execution": {
     "iopub.execute_input": "2021-11-27T20:07:05.206752Z",
     "iopub.status.busy": "2021-11-27T20:07:05.206165Z",
     "iopub.status.idle": "2021-11-27T20:07:05.817396Z",
     "shell.execute_reply": "2021-11-27T20:07:05.816116Z"
    },
    "papermill": {
     "duration": 0.645933,
     "end_time": "2021-11-27T20:07:05.817545",
     "exception": false,
     "start_time": "2021-11-27T20:07:05.171612",
     "status": "completed"
    },
    "tags": []
   },
   "outputs": [],
   "source": [
    "%matplotlib inline\n",
    "import numpy as np\n",
    "import matplotlib.pyplot as plt\n",
    "import pandas as pd"
   ]
  },
  {
   "cell_type": "markdown",
   "id": "ba036198",
   "metadata": {
    "papermill": {
     "duration": 0.02427,
     "end_time": "2021-11-27T20:07:05.866159",
     "exception": false,
     "start_time": "2021-11-27T20:07:05.841889",
     "status": "completed"
    },
    "tags": []
   },
   "source": [
    "From the command line run `pip install mnist`. This is a library that will help you bring down the mnist dataset. If you run this from a notebook, you need to put  `!pip install mnist` in a cell by itself."
   ]
  },
  {
   "cell_type": "code",
   "execution_count": 3,
   "id": "bb6ad8a1",
   "metadata": {
    "execution": {
     "iopub.execute_input": "2021-11-27T20:07:05.920332Z",
     "iopub.status.busy": "2021-11-27T20:07:05.919303Z",
     "iopub.status.idle": "2021-11-27T20:07:07.666028Z",
     "shell.execute_reply": "2021-11-27T20:07:07.665488Z"
    },
    "papermill": {
     "duration": 1.775367,
     "end_time": "2021-11-27T20:07:07.666166",
     "exception": false,
     "start_time": "2021-11-27T20:07:05.890799",
     "status": "completed"
    },
    "tags": []
   },
   "outputs": [
    {
     "name": "stdout",
     "output_type": "stream",
     "text": [
      "Collecting mnist\r\n"
     ]
    },
    {
     "name": "stdout",
     "output_type": "stream",
     "text": [
      "  Downloading mnist-0.2.2-py2.py3-none-any.whl (3.5 kB)\r\n",
      "Requirement already satisfied: numpy in /opt/hostedtoolcache/Python/3.6.15/x64/lib/python3.6/site-packages (from mnist) (1.19.5)\r\n"
     ]
    },
    {
     "name": "stdout",
     "output_type": "stream",
     "text": [
      "Installing collected packages: mnist\r\n",
      "Successfully installed mnist-0.2.2\r\n"
     ]
    }
   ],
   "source": [
    "!pip install mnist"
   ]
  },
  {
   "cell_type": "markdown",
   "id": "69df9c9a",
   "metadata": {
    "papermill": {
     "duration": 0.025348,
     "end_time": "2021-11-27T20:07:07.717885",
     "exception": false,
     "start_time": "2021-11-27T20:07:07.692537",
     "status": "completed"
    },
    "tags": []
   },
   "source": [
    "## Preparing the Data"
   ]
  },
  {
   "cell_type": "code",
   "execution_count": 4,
   "id": "7f69d806",
   "metadata": {
    "execution": {
     "iopub.execute_input": "2021-11-27T20:07:07.775703Z",
     "iopub.status.busy": "2021-11-27T20:07:07.775217Z",
     "iopub.status.idle": "2021-11-27T20:07:07.789537Z",
     "shell.execute_reply": "2021-11-27T20:07:07.789930Z"
    },
    "papermill": {
     "duration": 0.045531,
     "end_time": "2021-11-27T20:07:07.790051",
     "exception": false,
     "start_time": "2021-11-27T20:07:07.744520",
     "status": "completed"
    },
    "tags": []
   },
   "outputs": [],
   "source": [
    "import mnist"
   ]
  },
  {
   "cell_type": "code",
   "execution_count": 5,
   "id": "a411e44f",
   "metadata": {
    "execution": {
     "iopub.execute_input": "2021-11-27T20:07:07.843843Z",
     "iopub.status.busy": "2021-11-27T20:07:07.842879Z",
     "iopub.status.idle": "2021-11-27T20:07:08.542368Z",
     "shell.execute_reply": "2021-11-27T20:07:08.541443Z"
    },
    "papermill": {
     "duration": 0.727767,
     "end_time": "2021-11-27T20:07:08.542596",
     "exception": false,
     "start_time": "2021-11-27T20:07:07.814829",
     "status": "completed"
    },
    "tags": []
   },
   "outputs": [],
   "source": [
    "train_images = mnist.train_images()\n",
    "train_labels = mnist.train_labels()"
   ]
  },
  {
   "cell_type": "code",
   "execution_count": 6,
   "id": "dceab3a5",
   "metadata": {
    "execution": {
     "iopub.execute_input": "2021-11-27T20:07:08.602084Z",
     "iopub.status.busy": "2021-11-27T20:07:08.601496Z",
     "iopub.status.idle": "2021-11-27T20:07:08.619015Z",
     "shell.execute_reply": "2021-11-27T20:07:08.618546Z"
    },
    "papermill": {
     "duration": 0.047663,
     "end_time": "2021-11-27T20:07:08.619121",
     "exception": false,
     "start_time": "2021-11-27T20:07:08.571458",
     "status": "completed"
    },
    "tags": []
   },
   "outputs": [
    {
     "data": {
      "text/plain": [
       "((60000, 28, 28), (60000,))"
      ]
     },
     "execution_count": 6,
     "metadata": {},
     "output_type": "execute_result"
    }
   ],
   "source": [
    "train_images.shape, train_labels.shape"
   ]
  },
  {
   "cell_type": "code",
   "execution_count": 7,
   "id": "f50dc2bb",
   "metadata": {
    "execution": {
     "iopub.execute_input": "2021-11-27T20:07:08.674912Z",
     "iopub.status.busy": "2021-11-27T20:07:08.674365Z",
     "iopub.status.idle": "2021-11-27T20:07:08.808824Z",
     "shell.execute_reply": "2021-11-27T20:07:08.807934Z"
    },
    "papermill": {
     "duration": 0.164885,
     "end_time": "2021-11-27T20:07:08.809045",
     "exception": false,
     "start_time": "2021-11-27T20:07:08.644160",
     "status": "completed"
    },
    "tags": []
   },
   "outputs": [],
   "source": [
    "test_images = mnist.test_images()\n",
    "test_labels = mnist.test_labels()"
   ]
  },
  {
   "cell_type": "code",
   "execution_count": 8,
   "id": "fc38cf1b",
   "metadata": {
    "execution": {
     "iopub.execute_input": "2021-11-27T20:07:08.869160Z",
     "iopub.status.busy": "2021-11-27T20:07:08.868570Z",
     "iopub.status.idle": "2021-11-27T20:07:08.884345Z",
     "shell.execute_reply": "2021-11-27T20:07:08.883848Z"
    },
    "papermill": {
     "duration": 0.048357,
     "end_time": "2021-11-27T20:07:08.884473",
     "exception": false,
     "start_time": "2021-11-27T20:07:08.836116",
     "status": "completed"
    },
    "tags": []
   },
   "outputs": [
    {
     "data": {
      "text/plain": [
       "((10000, 28, 28), (10000,))"
      ]
     },
     "execution_count": 8,
     "metadata": {},
     "output_type": "execute_result"
    }
   ],
   "source": [
    "test_images.shape, test_labels.shape"
   ]
  },
  {
   "cell_type": "code",
   "execution_count": 9,
   "id": "f9ed8fe0",
   "metadata": {
    "execution": {
     "iopub.execute_input": "2021-11-27T20:07:08.941998Z",
     "iopub.status.busy": "2021-11-27T20:07:08.941374Z",
     "iopub.status.idle": "2021-11-27T20:07:09.086454Z",
     "shell.execute_reply": "2021-11-27T20:07:09.085977Z"
    },
    "papermill": {
     "duration": 0.175317,
     "end_time": "2021-11-27T20:07:09.086574",
     "exception": false,
     "start_time": "2021-11-27T20:07:08.911257",
     "status": "completed"
    },
    "tags": []
   },
   "outputs": [
    {
     "name": "stdout",
     "output_type": "stream",
     "text": [
      "2\n"
     ]
    },
    {
     "data": {
      "text/plain": [
       "<matplotlib.image.AxesImage at 0x7fee479734e0>"
      ]
     },
     "execution_count": 9,
     "metadata": {},
     "output_type": "execute_result"
    },
    {
     "data": {
      "image/png": "[encoded data removed]",
      "text/plain": [
       "<Figure size 432x288 with 1 Axes>"
      ]
     },
     "metadata": {
      "needs_background": "light"
     },
     "output_type": "display_data"
    }
   ],
   "source": [
    "image_index = 7776 # You may select anything up to 60,000\n",
    "print(train_labels[image_index]) \n",
    "plt.imshow(train_images[image_index], cmap='Greys')"
   ]
  },
  {
   "cell_type": "markdown",
   "id": "a8d2388d",
   "metadata": {
    "papermill": {
     "duration": 0.026943,
     "end_time": "2021-11-27T20:07:09.140151",
     "exception": false,
     "start_time": "2021-11-27T20:07:09.113208",
     "status": "completed"
    },
    "tags": []
   },
   "source": [
    "## Filter data to get 3 and 8 out"
   ]
  },
  {
   "cell_type": "code",
   "execution_count": 10,
   "id": "776f7fc7",
   "metadata": {
    "execution": {
     "iopub.execute_input": "2021-11-27T20:07:09.200331Z",
     "iopub.status.busy": "2021-11-27T20:07:09.199831Z",
     "iopub.status.idle": "2021-11-27T20:07:09.218411Z",
     "shell.execute_reply": "2021-11-27T20:07:09.218899Z"
    },
    "papermill": {
     "duration": 0.051804,
     "end_time": "2021-11-27T20:07:09.219044",
     "exception": false,
     "start_time": "2021-11-27T20:07:09.167240",
     "status": "completed"
    },
    "tags": []
   },
   "outputs": [],
   "source": [
    "train_filter = np.where((train_labels == 3 ) | (train_labels == 8))\n",
    "test_filter = np.where((test_labels == 3) | (test_labels == 8))\n",
    "X_train, y_train = train_images[train_filter], train_labels[train_filter]\n",
    "X_test, y_test = test_images[test_filter], test_labels[test_filter]"
   ]
  },
  {
   "cell_type": "markdown",
   "id": "948f0b7e",
   "metadata": {
    "papermill": {
     "duration": 0.029295,
     "end_time": "2021-11-27T20:07:09.278208",
     "exception": false,
     "start_time": "2021-11-27T20:07:09.248913",
     "status": "completed"
    },
    "tags": []
   },
   "source": [
    "We normalize the pizel values in the 0 to 1 range"
   ]
  },
  {
   "cell_type": "code",
   "execution_count": 11,
   "id": "ee4c2166",
   "metadata": {
    "execution": {
     "iopub.execute_input": "2021-11-27T20:07:09.342280Z",
     "iopub.status.busy": "2021-11-27T20:07:09.340886Z",
     "iopub.status.idle": "2021-11-27T20:07:09.392739Z",
     "shell.execute_reply": "2021-11-27T20:07:09.392194Z"
    },
    "papermill": {
     "duration": 0.085695,
     "end_time": "2021-11-27T20:07:09.392877",
     "exception": false,
     "start_time": "2021-11-27T20:07:09.307182",
     "status": "completed"
    },
    "tags": []
   },
   "outputs": [],
   "source": [
    "X_train = X_train/255.\n",
    "X_test = X_test/255."
   ]
  },
  {
   "cell_type": "markdown",
   "id": "ddcf4fab",
   "metadata": {
    "papermill": {
     "duration": 0.026954,
     "end_time": "2021-11-27T20:07:09.449750",
     "exception": false,
     "start_time": "2021-11-27T20:07:09.422796",
     "status": "completed"
    },
    "tags": []
   },
   "source": [
    "And setup the labels as 1 (when the digit is 3) and 0 (when the digit is 8)"
   ]
  },
  {
   "cell_type": "code",
   "execution_count": 12,
   "id": "7dc908f2",
   "metadata": {
    "execution": {
     "iopub.execute_input": "2021-11-27T20:07:09.506987Z",
     "iopub.status.busy": "2021-11-27T20:07:09.506382Z",
     "iopub.status.idle": "2021-11-27T20:07:09.519543Z",
     "shell.execute_reply": "2021-11-27T20:07:09.519986Z"
    },
    "papermill": {
     "duration": 0.04463,
     "end_time": "2021-11-27T20:07:09.520118",
     "exception": false,
     "start_time": "2021-11-27T20:07:09.475488",
     "status": "completed"
    },
    "tags": []
   },
   "outputs": [],
   "source": [
    "y_train = 1*(y_train==3)\n",
    "y_test = 1*(y_test==3)"
   ]
  },
  {
   "cell_type": "code",
   "execution_count": 13,
   "id": "01e4e969",
   "metadata": {
    "execution": {
     "iopub.execute_input": "2021-11-27T20:07:09.577816Z",
     "iopub.status.busy": "2021-11-27T20:07:09.577246Z",
     "iopub.status.idle": "2021-11-27T20:07:09.591318Z",
     "shell.execute_reply": "2021-11-27T20:07:09.592338Z"
    },
    "papermill": {
     "duration": 0.045309,
     "end_time": "2021-11-27T20:07:09.592575",
     "exception": false,
     "start_time": "2021-11-27T20:07:09.547266",
     "status": "completed"
    },
    "tags": []
   },
   "outputs": [
    {
     "data": {
      "text/plain": [
       "((11982, 28, 28), (1984, 28, 28))"
      ]
     },
     "execution_count": 13,
     "metadata": {},
     "output_type": "execute_result"
    }
   ],
   "source": [
    "X_train.shape, X_test.shape"
   ]
  },
  {
   "cell_type": "markdown",
   "id": "5ccf3f85",
   "metadata": {
    "papermill": {
     "duration": 0.026429,
     "end_time": "2021-11-27T20:07:09.653823",
     "exception": false,
     "start_time": "2021-11-27T20:07:09.627394",
     "status": "completed"
    },
    "tags": []
   },
   "source": [
    "We reshape the data to flatten the image pixels into a set of features or co-variates:"
   ]
  },
  {
   "cell_type": "code",
   "execution_count": 14,
   "id": "5286a4a3",
   "metadata": {
    "execution": {
     "iopub.execute_input": "2021-11-27T20:07:09.713676Z",
     "iopub.status.busy": "2021-11-27T20:07:09.713229Z",
     "iopub.status.idle": "2021-11-27T20:07:09.727859Z",
     "shell.execute_reply": "2021-11-27T20:07:09.727416Z"
    },
    "papermill": {
     "duration": 0.047696,
     "end_time": "2021-11-27T20:07:09.727971",
     "exception": false,
     "start_time": "2021-11-27T20:07:09.680275",
     "status": "completed"
    },
    "tags": []
   },
   "outputs": [
    {
     "data": {
      "text/plain": [
       "((11982, 784), (1984, 784))"
      ]
     },
     "execution_count": 14,
     "metadata": {},
     "output_type": "execute_result"
    }
   ],
   "source": [
    "X_train = X_train.reshape(X_train.shape[0], -1)\n",
    "X_test = X_test.reshape(X_test.shape[0], -1)\n",
    "X_train.shape, X_test.shape"
   ]
  },
  {
   "cell_type": "code",
   "execution_count": 15,
   "id": "73c5f88a",
   "metadata": {
    "execution": {
     "iopub.execute_input": "2021-11-27T20:07:09.790898Z",
     "iopub.status.busy": "2021-11-27T20:07:09.790294Z",
     "iopub.status.idle": "2021-11-27T20:07:09.811312Z",
     "shell.execute_reply": "2021-11-27T20:07:09.810580Z"
    },
    "papermill": {
     "duration": 0.055663,
     "end_time": "2021-11-27T20:07:09.811432",
     "exception": false,
     "start_time": "2021-11-27T20:07:09.755769",
     "status": "completed"
    },
    "tags": []
   },
   "outputs": [],
   "source": [
    "#Impoting functions from 'Kudzu'\n",
    "from kudzu.model import Model\n",
    "from kudzu.train import Learner\n",
    "from kudzu.optim import GD\n",
    "from kudzu.data import Data, Sampler,Dataloader\n",
    "\n",
    "from kudzu.callbacks import AccCallback\n",
    "from kudzu.callbacks import ClfCallback\n",
    "\n",
    "from kudzu.loss import MSE\n",
    "\n",
    "from kudzu.layer import Sigmoid,Relu\n",
    "from kudzu.layer import Affine"
   ]
  },
  {
   "cell_type": "markdown",
   "id": "bc01172a",
   "metadata": {
    "papermill": {
     "duration": 0.02821,
     "end_time": "2021-11-27T20:07:09.867438",
     "exception": false,
     "start_time": "2021-11-27T20:07:09.839228",
     "status": "completed"
    },
    "tags": []
   },
   "source": [
    "### Let us create a `Config` class, to store important parameters. \n",
    "This class essentially plays the role of a dictionary."
   ]
  },
  {
   "cell_type": "code",
   "execution_count": 16,
   "id": "978281aa",
   "metadata": {
    "execution": {
     "iopub.execute_input": "2021-11-27T20:07:09.927810Z",
     "iopub.status.busy": "2021-11-27T20:07:09.927245Z",
     "iopub.status.idle": "2021-11-27T20:07:09.943356Z",
     "shell.execute_reply": "2021-11-27T20:07:09.942880Z"
    },
    "papermill": {
     "duration": 0.047962,
     "end_time": "2021-11-27T20:07:09.943490",
     "exception": false,
     "start_time": "2021-11-27T20:07:09.895528",
     "status": "completed"
    },
    "tags": []
   },
   "outputs": [],
   "source": [
    "class Config:\n",
    "    pass\n",
    "config = Config()\n",
    "config.lr = 0.001\n",
    "config.num_epochs = 250\n",
    "config.bs = 50"
   ]
  },
  {
   "cell_type": "markdown",
   "id": "1385fa59",
   "metadata": {
    "papermill": {
     "duration": 0.0277,
     "end_time": "2021-11-27T20:07:10.000060",
     "exception": false,
     "start_time": "2021-11-27T20:07:09.972360",
     "status": "completed"
    },
    "tags": []
   },
   "source": [
    "### Running Models with the Training data\n",
    "Details about the network layers:\n",
    "- A first affine layer has 784 inputs and does 100 affine transforms. These are followed by a Relu\n",
    "- A second affine layer has 100 inputs from the 100 activations of the past layer, and does 100 affine transforms. These are followed by a Relu\n",
    "- A third affine layer has 100 activations and does 2 affine transformations to create an embedding for visualization. There is no non-linearity here.\n",
    "- A final \"logistic regression\" which has an affine transform from 2 inputs to 1 output, which is squeezed through a sigmoid.\n"
   ]
  },
  {
   "cell_type": "code",
   "execution_count": 17,
   "id": "2b9c66db",
   "metadata": {
    "execution": {
     "iopub.execute_input": "2021-11-27T20:07:10.062998Z",
     "iopub.status.busy": "2021-11-27T20:07:10.062401Z",
     "iopub.status.idle": "2021-11-27T20:07:10.076030Z",
     "shell.execute_reply": "2021-11-27T20:07:10.075547Z"
    },
    "papermill": {
     "duration": 0.048262,
     "end_time": "2021-11-27T20:07:10.076163",
     "exception": false,
     "start_time": "2021-11-27T20:07:10.027901",
     "status": "completed"
    },
    "tags": []
   },
   "outputs": [],
   "source": [
    "data = Data(X_train, y_train.reshape(-1,1))\n",
    "sampler = Sampler(data, config.bs, shuffle=True)\n",
    "\n",
    "dl = Dataloader(data, sampler)\n",
    "\n",
    "opt = GD(config.lr)\n",
    "loss = MSE()"
   ]
  },
  {
   "cell_type": "code",
   "execution_count": 18,
   "id": "b275e4c2",
   "metadata": {
    "execution": {
     "iopub.execute_input": "2021-11-27T20:07:10.140787Z",
     "iopub.status.busy": "2021-11-27T20:07:10.140184Z",
     "iopub.status.idle": "2021-11-27T20:07:10.154879Z",
     "shell.execute_reply": "2021-11-27T20:07:10.154372Z"
    },
    "papermill": {
     "duration": 0.049672,
     "end_time": "2021-11-27T20:07:10.155007",
     "exception": false,
     "start_time": "2021-11-27T20:07:10.105335",
     "status": "completed"
    },
    "tags": []
   },
   "outputs": [],
   "source": [
    "training_data_x = X_train\n",
    "testing_data_x = X_test\n",
    "training_data_y = y_train.reshape(-1,1)\n",
    "testing_data_y = y_test.reshape(-1,1)"
   ]
  },
  {
   "cell_type": "code",
   "execution_count": 19,
   "id": "76951160",
   "metadata": {
    "execution": {
     "iopub.execute_input": "2021-11-27T20:07:10.220268Z",
     "iopub.status.busy": "2021-11-27T20:07:10.219666Z",
     "iopub.status.idle": "2021-11-27T20:07:10.241432Z",
     "shell.execute_reply": "2021-11-27T20:07:10.240836Z"
    },
    "papermill": {
     "duration": 0.056632,
     "end_time": "2021-11-27T20:07:10.241575",
     "exception": false,
     "start_time": "2021-11-27T20:07:10.184943",
     "status": "completed"
    },
    "tags": []
   },
   "outputs": [
    {
     "name": "stdout",
     "output_type": "stream",
     "text": [
      "xavier\n",
      "xavier\n",
      "xavier\n",
      "xavier\n",
      "xavier\n"
     ]
    }
   ],
   "source": [
    "layers = [Affine(\"first\", 784, 100), Relu(\"first\"), Affine(\"second\", 100, 100), Relu(\"second\"), Affine(\"third\", 100, 2), Affine(\"last\", 2, 1), Sigmoid(\"last\")]\n",
    "model_nn = Model(layers)\n",
    "model_lr = Model([Affine(\"logits\", 784, 1), Sigmoid(\"sigmoid\")])"
   ]
  },
  {
   "cell_type": "code",
   "execution_count": 20,
   "id": "6eede77a",
   "metadata": {
    "execution": {
     "iopub.execute_input": "2021-11-27T20:07:10.305968Z",
     "iopub.status.busy": "2021-11-27T20:07:10.305429Z",
     "iopub.status.idle": "2021-11-27T20:07:10.318410Z",
     "shell.execute_reply": "2021-11-27T20:07:10.317932Z"
    },
    "papermill": {
     "duration": 0.046234,
     "end_time": "2021-11-27T20:07:10.318538",
     "exception": false,
     "start_time": "2021-11-27T20:07:10.272304",
     "status": "completed"
    },
    "tags": []
   },
   "outputs": [],
   "source": [
    "nn_learner = Learner(loss, model_nn, opt, config.num_epochs)\n",
    "acc_nn = ClfCallback(nn_learner, config.bs, training_data_x , testing_data_x, training_data_y, testing_data_y)\n",
    "nn_learner.set_callbacks([acc_nn])"
   ]
  },
  {
   "cell_type": "code",
   "execution_count": 21,
   "id": "877b6cc7",
   "metadata": {
    "execution": {
     "iopub.execute_input": "2021-11-27T20:07:10.378028Z",
     "iopub.status.busy": "2021-11-27T20:07:10.376292Z",
     "iopub.status.idle": "2021-11-27T20:07:10.388557Z",
     "shell.execute_reply": "2021-11-27T20:07:10.389005Z"
    },
    "papermill": {
     "duration": 0.043059,
     "end_time": "2021-11-27T20:07:10.389133",
     "exception": false,
     "start_time": "2021-11-27T20:07:10.346074",
     "status": "completed"
    },
    "tags": []
   },
   "outputs": [],
   "source": [
    "lr_learner = Learner(loss, model_lr, opt, config.num_epochs)\n",
    "acc_lr = ClfCallback(lr_learner, config.bs, training_data_x , testing_data_x, training_data_y, testing_data_y)\n",
    "lr_learner.set_callbacks([acc_lr])"
   ]
  },
  {
   "cell_type": "code",
   "execution_count": 22,
   "id": "d9b133c3",
   "metadata": {
    "execution": {
     "iopub.execute_input": "2021-11-27T20:07:10.453238Z",
     "iopub.status.busy": "2021-11-27T20:07:10.452591Z",
     "iopub.status.idle": "2021-11-27T20:08:34.148790Z",
     "shell.execute_reply": "2021-11-27T20:08:34.149603Z"
    },
    "papermill": {
     "duration": 83.73206,
     "end_time": "2021-11-27T20:08:34.149767",
     "exception": false,
     "start_time": "2021-11-27T20:07:10.417707",
     "status": "completed"
    },
    "tags": []
   },
   "outputs": [
    {
     "name": "stdout",
     "output_type": "stream",
     "text": [
      "Epoch 0, Loss 0.229\n",
      "Training Accuracy: 0.7535, Testing Accuracy: 0.7722\n",
      "\n"
     ]
    },
    {
     "name": "stdout",
     "output_type": "stream",
     "text": [
      "Epoch 10, Loss 0.071\n",
      "Training Accuracy: 0.9271, Testing Accuracy: 0.9456\n",
      "\n"
     ]
    },
    {
     "name": "stdout",
     "output_type": "stream",
     "text": [
      "Epoch 20, Loss 0.0482\n",
      "Training Accuracy: 0.9474, Testing Accuracy: 0.9637\n",
      "\n"
     ]
    },
    {
     "name": "stdout",
     "output_type": "stream",
     "text": [
      "Epoch 30, Loss 0.0394\n",
      "Training Accuracy: 0.9569, Testing Accuracy: 0.9693\n",
      "\n"
     ]
    },
    {
     "name": "stdout",
     "output_type": "stream",
     "text": [
      "Epoch 40, Loss 0.0347\n",
      "Training Accuracy: 0.9616, Testing Accuracy: 0.9688\n",
      "\n"
     ]
    },
    {
     "name": "stdout",
     "output_type": "stream",
     "text": [
      "Epoch 50, Loss 0.0317\n",
      "Training Accuracy: 0.9649, Testing Accuracy: 0.9708\n",
      "\n"
     ]
    },
    {
     "name": "stdout",
     "output_type": "stream",
     "text": [
      "Epoch 60, Loss 0.0295\n",
      "Training Accuracy: 0.9660, Testing Accuracy: 0.9718\n",
      "\n"
     ]
    },
    {
     "name": "stdout",
     "output_type": "stream",
     "text": [
      "Epoch 70, Loss 0.0279\n",
      "Training Accuracy: 0.9675, Testing Accuracy: 0.9718\n",
      "\n"
     ]
    },
    {
     "name": "stdout",
     "output_type": "stream",
     "text": [
      "Epoch 80, Loss 0.0266\n",
      "Training Accuracy: 0.9695, Testing Accuracy: 0.9713\n",
      "\n"
     ]
    },
    {
     "name": "stdout",
     "output_type": "stream",
     "text": [
      "Epoch 90, Loss 0.0255\n",
      "Training Accuracy: 0.9709, Testing Accuracy: 0.9713\n",
      "\n"
     ]
    },
    {
     "name": "stdout",
     "output_type": "stream",
     "text": [
      "Epoch 100, Loss 0.0245\n",
      "Training Accuracy: 0.9715, Testing Accuracy: 0.9718\n",
      "\n"
     ]
    },
    {
     "name": "stdout",
     "output_type": "stream",
     "text": [
      "Epoch 110, Loss 0.0237\n",
      "Training Accuracy: 0.9725, Testing Accuracy: 0.9728\n",
      "\n"
     ]
    },
    {
     "name": "stdout",
     "output_type": "stream",
     "text": [
      "Epoch 120, Loss 0.0229\n",
      "Training Accuracy: 0.9736, Testing Accuracy: 0.9728\n",
      "\n"
     ]
    },
    {
     "name": "stdout",
     "output_type": "stream",
     "text": [
      "Epoch 130, Loss 0.0223\n",
      "Training Accuracy: 0.9741, Testing Accuracy: 0.9743\n",
      "\n"
     ]
    },
    {
     "name": "stdout",
     "output_type": "stream",
     "text": [
      "Epoch 140, Loss 0.0216\n",
      "Training Accuracy: 0.9748, Testing Accuracy: 0.9743\n",
      "\n"
     ]
    },
    {
     "name": "stdout",
     "output_type": "stream",
     "text": [
      "Epoch 150, Loss 0.0211\n",
      "Training Accuracy: 0.9756, Testing Accuracy: 0.9743\n",
      "\n"
     ]
    },
    {
     "name": "stdout",
     "output_type": "stream",
     "text": [
      "Epoch 160, Loss 0.0205\n",
      "Training Accuracy: 0.9770, Testing Accuracy: 0.9743\n",
      "\n"
     ]
    },
    {
     "name": "stdout",
     "output_type": "stream",
     "text": [
      "Epoch 170, Loss 0.02\n",
      "Training Accuracy: 0.9778, Testing Accuracy: 0.9753\n",
      "\n"
     ]
    },
    {
     "name": "stdout",
     "output_type": "stream",
     "text": [
      "Epoch 180, Loss 0.0195\n",
      "Training Accuracy: 0.9781, Testing Accuracy: 0.9758\n",
      "\n"
     ]
    },
    {
     "name": "stdout",
     "output_type": "stream",
     "text": [
      "Epoch 190, Loss 0.0191\n",
      "Training Accuracy: 0.9786, Testing Accuracy: 0.9763\n",
      "\n"
     ]
    },
    {
     "name": "stdout",
     "output_type": "stream",
     "text": [
      "Epoch 200, Loss 0.0186\n",
      "Training Accuracy: 0.9796, Testing Accuracy: 0.9768\n",
      "\n"
     ]
    },
    {
     "name": "stdout",
     "output_type": "stream",
     "text": [
      "Epoch 210, Loss 0.0182\n",
      "Training Accuracy: 0.9796, Testing Accuracy: 0.9773\n",
      "\n"
     ]
    },
    {
     "name": "stdout",
     "output_type": "stream",
     "text": [
      "Epoch 220, Loss 0.0178\n",
      "Training Accuracy: 0.9803, Testing Accuracy: 0.9768\n",
      "\n"
     ]
    },
    {
     "name": "stdout",
     "output_type": "stream",
     "text": [
      "Epoch 230, Loss 0.0174\n",
      "Training Accuracy: 0.9811, Testing Accuracy: 0.9768\n",
      "\n"
     ]
    },
    {
     "name": "stdout",
     "output_type": "stream",
     "text": [
      "Epoch 240, Loss 0.017\n",
      "Training Accuracy: 0.9815, Testing Accuracy: 0.9768\n",
      "\n"
     ]
    },
    {
     "data": {
      "text/plain": [
       "0.0022177151473265037"
      ]
     },
     "execution_count": 22,
     "metadata": {},
     "output_type": "execute_result"
    }
   ],
   "source": [
    "nn_learner.train_loop(dl)"
   ]
  },
  {
   "cell_type": "code",
   "execution_count": 23,
   "id": "e0163366",
   "metadata": {
    "execution": {
     "iopub.execute_input": "2021-11-27T20:08:34.231078Z",
     "iopub.status.busy": "2021-11-27T20:08:34.230507Z",
     "iopub.status.idle": "2021-11-27T20:08:48.469396Z",
     "shell.execute_reply": "2021-11-27T20:08:48.470145Z"
    },
    "papermill": {
     "duration": 14.284008,
     "end_time": "2021-11-27T20:08:48.470302",
     "exception": false,
     "start_time": "2021-11-27T20:08:34.186294",
     "status": "completed"
    },
    "tags": []
   },
   "outputs": [
    {
     "name": "stdout",
     "output_type": "stream",
     "text": [
      "Epoch 0, Loss 0.2996\n",
      "Training Accuracy: 0.4422, Testing Accuracy: 0.4612\n",
      "\n"
     ]
    },
    {
     "name": "stdout",
     "output_type": "stream",
     "text": [
      "Epoch 10, Loss 0.105\n",
      "Training Accuracy: 0.9126, Testing Accuracy: 0.9259\n",
      "\n"
     ]
    },
    {
     "name": "stdout",
     "output_type": "stream",
     "text": [
      "Epoch 20, Loss 0.0798\n",
      "Training Accuracy: 0.9278, Testing Accuracy: 0.9390\n",
      "\n"
     ]
    },
    {
     "name": "stdout",
     "output_type": "stream",
     "text": [
      "Epoch 30, Loss 0.0686\n",
      "Training Accuracy: 0.9365, Testing Accuracy: 0.9476\n",
      "\n"
     ]
    },
    {
     "name": "stdout",
     "output_type": "stream",
     "text": [
      "Epoch 40, Loss 0.062\n",
      "Training Accuracy: 0.9406, Testing Accuracy: 0.9511\n",
      "\n"
     ]
    },
    {
     "name": "stdout",
     "output_type": "stream",
     "text": [
      "Epoch 50, Loss 0.0575\n",
      "Training Accuracy: 0.9437, Testing Accuracy: 0.9541\n",
      "\n"
     ]
    },
    {
     "name": "stdout",
     "output_type": "stream",
     "text": [
      "Epoch 60, Loss 0.0541\n",
      "Training Accuracy: 0.9464, Testing Accuracy: 0.9561\n",
      "\n"
     ]
    },
    {
     "name": "stdout",
     "output_type": "stream",
     "text": [
      "Epoch 70, Loss 0.0515\n",
      "Training Accuracy: 0.9482, Testing Accuracy: 0.9582\n",
      "\n"
     ]
    },
    {
     "name": "stdout",
     "output_type": "stream",
     "text": [
      "Epoch 80, Loss 0.0495\n",
      "Training Accuracy: 0.9500, Testing Accuracy: 0.9612\n",
      "\n"
     ]
    },
    {
     "name": "stdout",
     "output_type": "stream",
     "text": [
      "Epoch 90, Loss 0.0478\n",
      "Training Accuracy: 0.9510, Testing Accuracy: 0.9637\n",
      "\n"
     ]
    },
    {
     "name": "stdout",
     "output_type": "stream",
     "text": [
      "Epoch 100, Loss 0.0463\n",
      "Training Accuracy: 0.9523, Testing Accuracy: 0.9647\n",
      "\n"
     ]
    },
    {
     "name": "stdout",
     "output_type": "stream",
     "text": [
      "Epoch 110, Loss 0.0451\n",
      "Training Accuracy: 0.9539, Testing Accuracy: 0.9642\n",
      "\n"
     ]
    },
    {
     "name": "stdout",
     "output_type": "stream",
     "text": [
      "Epoch 120, Loss 0.044\n",
      "Training Accuracy: 0.9546, Testing Accuracy: 0.9637\n",
      "\n"
     ]
    },
    {
     "name": "stdout",
     "output_type": "stream",
     "text": [
      "Epoch 130, Loss 0.0431\n",
      "Training Accuracy: 0.9554, Testing Accuracy: 0.9647\n",
      "\n"
     ]
    },
    {
     "name": "stdout",
     "output_type": "stream",
     "text": [
      "Epoch 140, Loss 0.0423\n",
      "Training Accuracy: 0.9562, Testing Accuracy: 0.9652\n",
      "\n"
     ]
    },
    {
     "name": "stdout",
     "output_type": "stream",
     "text": [
      "Epoch 150, Loss 0.0415\n",
      "Training Accuracy: 0.9569, Testing Accuracy: 0.9657\n",
      "\n"
     ]
    },
    {
     "name": "stdout",
     "output_type": "stream",
     "text": [
      "Epoch 160, Loss 0.0408\n",
      "Training Accuracy: 0.9579, Testing Accuracy: 0.9657\n",
      "\n"
     ]
    },
    {
     "name": "stdout",
     "output_type": "stream",
     "text": [
      "Epoch 170, Loss 0.0402\n",
      "Training Accuracy: 0.9585, Testing Accuracy: 0.9657\n",
      "\n"
     ]
    },
    {
     "name": "stdout",
     "output_type": "stream",
     "text": [
      "Epoch 180, Loss 0.0396\n",
      "Training Accuracy: 0.9588, Testing Accuracy: 0.9657\n",
      "\n"
     ]
    },
    {
     "name": "stdout",
     "output_type": "stream",
     "text": [
      "Epoch 190, Loss 0.0391\n",
      "Training Accuracy: 0.9594, Testing Accuracy: 0.9657\n",
      "\n"
     ]
    },
    {
     "name": "stdout",
     "output_type": "stream",
     "text": [
      "Epoch 200, Loss 0.0386\n",
      "Training Accuracy: 0.9595, Testing Accuracy: 0.9662\n",
      "\n"
     ]
    },
    {
     "name": "stdout",
     "output_type": "stream",
     "text": [
      "Epoch 210, Loss 0.0382\n",
      "Training Accuracy: 0.9598, Testing Accuracy: 0.9667\n",
      "\n"
     ]
    },
    {
     "name": "stdout",
     "output_type": "stream",
     "text": [
      "Epoch 220, Loss 0.0378\n",
      "Training Accuracy: 0.9602, Testing Accuracy: 0.9667\n",
      "\n"
     ]
    },
    {
     "name": "stdout",
     "output_type": "stream",
     "text": [
      "Epoch 230, Loss 0.0374\n",
      "Training Accuracy: 0.9606, Testing Accuracy: 0.9662\n",
      "\n"
     ]
    },
    {
     "name": "stdout",
     "output_type": "stream",
     "text": [
      "Epoch 240, Loss 0.037\n",
      "Training Accuracy: 0.9609, Testing Accuracy: 0.9662\n",
      "\n"
     ]
    },
    {
     "data": {
      "text/plain": [
       "0.03595354462407234"
      ]
     },
     "execution_count": 23,
     "metadata": {},
     "output_type": "execute_result"
    }
   ],
   "source": [
    "lr_learner.train_loop(dl)"
   ]
  },
  {
   "cell_type": "code",
   "execution_count": 24,
   "id": "ca410940",
   "metadata": {
    "execution": {
     "iopub.execute_input": "2021-11-27T20:08:48.570715Z",
     "iopub.status.busy": "2021-11-27T20:08:48.570147Z",
     "iopub.status.idle": "2021-11-27T20:08:48.797194Z",
     "shell.execute_reply": "2021-11-27T20:08:48.797693Z"
    },
    "papermill": {
     "duration": 0.284705,
     "end_time": "2021-11-27T20:08:48.797853",
     "exception": false,
     "start_time": "2021-11-27T20:08:48.513148",
     "status": "completed"
    },
    "tags": []
   },
   "outputs": [
    {
     "data": {
      "text/plain": [
       "<matplotlib.legend.Legend at 0x7fee4754bc88>"
      ]
     },
     "execution_count": 24,
     "metadata": {},
     "output_type": "execute_result"
    },
    {
     "data": {
      "image/png": "[encoded data removed]",
      "text/plain": [
       "<Figure size 1080x720 with 1 Axes>"
      ]
     },
     "metadata": {
      "needs_background": "light"
     },
     "output_type": "display_data"
    }
   ],
   "source": [
    "#comparing the results of NN and LR\n",
    "plt.figure(figsize=(15,10))\n",
    "\n",
    "# Neural Network plots\n",
    "plt.plot(acc_nn.accuracies, 'r-', label = \"Training Accuracies - NN\")\n",
    "plt.plot(acc_nn.test_accuracies, 'g-', label = \"Testing Accuracies - NN\")\n",
    "\n",
    "# Logistic Regression plots\n",
    "plt.plot(acc_lr.accuracies, 'k-', label = \"Training Accuracies - LR\")\n",
    "plt.plot(acc_lr.test_accuracies, 'b-', label = \"Testing Accuracies - LR\")\n",
    "plt.legend()"
   ]
  },
  {
   "cell_type": "markdown",
   "id": "80dfb35c",
   "metadata": {
    "papermill": {
     "duration": 0.041953,
     "end_time": "2021-11-27T20:08:48.881876",
     "exception": false,
     "start_time": "2021-11-27T20:08:48.839923",
     "status": "completed"
    },
    "tags": []
   },
   "source": [
    "#### Plotting the outputs of this layer of the NN.\n"
   ]
  },
  {
   "cell_type": "code",
   "execution_count": 25,
   "id": "45eb2ff5",
   "metadata": {
    "execution": {
     "iopub.execute_input": "2021-11-27T20:08:48.969055Z",
     "iopub.status.busy": "2021-11-27T20:08:48.968075Z",
     "iopub.status.idle": "2021-11-27T20:08:48.987122Z",
     "shell.execute_reply": "2021-11-27T20:08:48.987808Z"
    },
    "papermill": {
     "duration": 0.065436,
     "end_time": "2021-11-27T20:08:48.987936",
     "exception": false,
     "start_time": "2021-11-27T20:08:48.922500",
     "status": "completed"
    },
    "tags": []
   },
   "outputs": [],
   "source": [
    "new_model = Model(layers[:-2])\n",
    "testing_plot = new_model(testing_data_x)"
   ]
  },
  {
   "cell_type": "code",
   "execution_count": 26,
   "id": "4c0a5485",
   "metadata": {
    "execution": {
     "iopub.execute_input": "2021-11-27T20:08:49.083166Z",
     "iopub.status.busy": "2021-11-27T20:08:49.082574Z",
     "iopub.status.idle": "2021-11-27T20:08:49.288331Z",
     "shell.execute_reply": "2021-11-27T20:08:49.287901Z"
    },
    "papermill": {
     "duration": 0.257473,
     "end_time": "2021-11-27T20:08:49.288444",
     "exception": false,
     "start_time": "2021-11-27T20:08:49.030971",
     "status": "completed"
    },
    "tags": []
   },
   "outputs": [
    {
     "data": {
      "text/plain": [
       "Text(0.5, 1.0, 'Outputs')"
      ]
     },
     "execution_count": 26,
     "metadata": {},
     "output_type": "execute_result"
    },
    {
     "data": {
      "image/png": "[encoded data removed]",
      "text/plain": [
       "<Figure size 576x504 with 1 Axes>"
      ]
     },
     "metadata": {
      "needs_background": "light"
     },
     "output_type": "display_data"
    }
   ],
   "source": [
    "# Plotting the scatter plot of points and color coding by class\n",
    "plt.figure(figsize=(8,7))\n",
    "plt.scatter(testing_plot[:,0], testing_plot[:,1], alpha = 0.1, c = y_test.ravel());\n",
    "plt.title('Outputs')"
   ]
  },
  {
   "cell_type": "markdown",
   "id": "a74fcf8f",
   "metadata": {
    "papermill": {
     "duration": 0.046347,
     "end_time": "2021-11-27T20:08:49.382037",
     "exception": false,
     "start_time": "2021-11-27T20:08:49.335690",
     "status": "completed"
    },
    "tags": []
   },
   "source": [
    "Probability contours"
   ]
  },
  {
   "cell_type": "code",
   "execution_count": 27,
   "id": "d0afc8e3",
   "metadata": {
    "execution": {
     "iopub.execute_input": "2021-11-27T20:08:49.478845Z",
     "iopub.status.busy": "2021-11-27T20:08:49.478311Z",
     "iopub.status.idle": "2021-11-27T20:08:49.491249Z",
     "shell.execute_reply": "2021-11-27T20:08:49.491705Z"
    },
    "papermill": {
     "duration": 0.061095,
     "end_time": "2021-11-27T20:08:49.491833",
     "exception": false,
     "start_time": "2021-11-27T20:08:49.430738",
     "status": "completed"
    },
    "tags": []
   },
   "outputs": [],
   "source": [
    "model_prob = Model(layers[-2:]) "
   ]
  },
  {
   "cell_type": "code",
   "execution_count": 28,
   "id": "9b96e238",
   "metadata": {
    "execution": {
     "iopub.execute_input": "2021-11-27T20:08:49.585265Z",
     "iopub.status.busy": "2021-11-27T20:08:49.584455Z",
     "iopub.status.idle": "2021-11-27T20:08:49.597830Z",
     "shell.execute_reply": "2021-11-27T20:08:49.598273Z"
    },
    "papermill": {
     "duration": 0.061707,
     "end_time": "2021-11-27T20:08:49.598402",
     "exception": false,
     "start_time": "2021-11-27T20:08:49.536695",
     "status": "completed"
    },
    "tags": []
   },
   "outputs": [],
   "source": [
    "#creating the x and y ranges according to the above generated plot.\n",
    "x_range = np.linspace(-4, 1, 100) \n",
    "y_range = np.linspace(-6, 6, 100) \n",
    "x_grid, y_grid = np.meshgrid(x_range, y_range) # x_grid and y_grig are of size 100 X 100\n",
    "\n",
    "# converting x_grid and y_grid to continuous arrays\n",
    "x_gridflat = np.ravel(x_grid)\n",
    "y_gridflat = np.ravel(y_grid)\n",
    "\n",
    "# The last layer of the current model takes two columns as input. Hence transpose of np.vstack() is required.\n",
    "X = np.vstack((x_gridflat, y_gridflat)).T\n",
    "\n",
    "prob_contour = model_prob(X).reshape(100,100) "
   ]
  },
  {
   "cell_type": "code",
   "execution_count": 29,
   "id": "da72499a",
   "metadata": {
    "execution": {
     "iopub.execute_input": "2021-11-27T20:08:49.724541Z",
     "iopub.status.busy": "2021-11-27T20:08:49.723929Z",
     "iopub.status.idle": "2021-11-27T20:08:49.996341Z",
     "shell.execute_reply": "2021-11-27T20:08:49.996875Z"
    },
    "papermill": {
     "duration": 0.352915,
     "end_time": "2021-11-27T20:08:49.997054",
     "exception": false,
     "start_time": "2021-11-27T20:08:49.644139",
     "status": "completed"
    },
    "tags": []
   },
   "outputs": [
    {
     "data": {
      "image/png": "[encoded data removed]",
      "text/plain": [
       "<Figure size 720x648 with 1 Axes>"
      ]
     },
     "metadata": {
      "needs_background": "light"
     },
     "output_type": "display_data"
    }
   ],
   "source": [
    "plt.figure(figsize=(10,9))\n",
    "plt.scatter(testing_plot[:,0], testing_plot[:,1], alpha = 0.1, c = y_test.ravel())\n",
    "contours = plt.contour(x_grid,y_grid,prob_contour)\n",
    "plt.title('Probability Contours')\n",
    "plt.clabel(contours, inline = True );"
   ]
  },
  {
   "cell_type": "code",
   "execution_count": null,
   "id": "e81b4ac7",
   "metadata": {
    "papermill": {
     "duration": 0.04777,
     "end_time": "2021-11-27T20:08:50.095981",
     "exception": false,
     "start_time": "2021-11-27T20:08:50.048211",
     "status": "completed"
    },
    "tags": []
   },
   "outputs": [],
   "source": []
  }
 ],
 "metadata": {
  "kernelspec": {
   "display_name": "Python 3",
   "language": "python",
   "name": "python3"
  },
  "language_info": {
   "codemirror_mode": {
    "name": "ipython",
    "version": 3
   },
   "file_extension": ".py",
   "mimetype": "text/x-python",
   "name": "python",
   "nbconvert_exporter": "python",
   "pygments_lexer": "ipython3",
   "version": "3.6.15"
  },
  "papermill": {
   "default_parameters": {},
   "duration": 106.649781,
   "end_time": "2021-11-27T20:08:50.555963",
   "environment_variables": {},
   "exception": null,
   "input_path": "2020-08-11-part2.ipynb",
   "output_path": "2020-08-11-part2.ipynb",
   "parameters": {},
   "start_time": "2021-11-27T20:07:03.906182",
   "version": "2.3.3"
  }
 },
 "nbformat": 4,
 "nbformat_minor": 5
}