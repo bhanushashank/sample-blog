{
 "cells": [
  {
   "cell_type": "markdown",
   "id": "98380cd3",
   "metadata": {
    "papermill": {
     "duration": 0.029096,
     "end_time": "2022-11-12T20:09:52.356529",
     "exception": false,
     "start_time": "2022-11-12T20:09:52.327433",
     "status": "completed"
    },
    "tags": []
   },
   "source": [
    "# Distinguish Your Own Digits (DYOD)"
   ]
  },
  {
   "cell_type": "markdown",
   "id": "ef31240d",
   "metadata": {
    "papermill": {
     "duration": 0.023548,
     "end_time": "2022-11-12T20:09:52.404504",
     "exception": false,
     "start_time": "2022-11-12T20:09:52.380956",
     "status": "completed"
    },
    "tags": []
   },
   "source": [
    "You are going to write a classifier that distinguishes between the number 3 and number 8."
   ]
  },
  {
   "cell_type": "code",
   "execution_count": 1,
   "id": "b15c8646",
   "metadata": {
    "execution": {
     "iopub.execute_input": "2022-11-12T20:09:52.462388Z",
     "iopub.status.busy": "2022-11-12T20:09:52.459521Z",
     "iopub.status.idle": "2022-11-12T20:09:52.473407Z",
     "shell.execute_reply": "2022-11-12T20:09:52.472827Z"
    },
    "papermill": {
     "duration": 0.045435,
     "end_time": "2022-11-12T20:09:52.473529",
     "exception": false,
     "start_time": "2022-11-12T20:09:52.428094",
     "status": "completed"
    },
    "tags": []
   },
   "outputs": [],
   "source": [
    "%load_ext autoreload\n",
    "%autoreload 2"
   ]
  },
  {
   "cell_type": "code",
   "execution_count": 2,
   "id": "22ef38dc",
   "metadata": {
    "execution": {
     "iopub.execute_input": "2022-11-12T20:09:52.524509Z",
     "iopub.status.busy": "2022-11-12T20:09:52.523935Z",
     "iopub.status.idle": "2022-11-12T20:09:53.045845Z",
     "shell.execute_reply": "2022-11-12T20:09:53.045291Z"
    },
    "papermill": {
     "duration": 0.548885,
     "end_time": "2022-11-12T20:09:53.045981",
     "exception": false,
     "start_time": "2022-11-12T20:09:52.497096",
     "status": "completed"
    },
    "tags": []
   },
   "outputs": [],
   "source": [
    "%matplotlib inline\n",
    "import numpy as np\n",
    "import matplotlib.pyplot as plt\n",
    "import pandas as pd"
   ]
  },
  {
   "cell_type": "markdown",
   "id": "ba036198",
   "metadata": {
    "papermill": {
     "duration": 0.023704,
     "end_time": "2022-11-12T20:09:53.093965",
     "exception": false,
     "start_time": "2022-11-12T20:09:53.070261",
     "status": "completed"
    },
    "tags": []
   },
   "source": [
    "From the command line run `pip install mnist`. This is a library that will help you bring down the mnist dataset. If you run this from a notebook, you need to put  `!pip install mnist` in a cell by itself."
   ]
  },
  {
   "cell_type": "code",
   "execution_count": 3,
   "id": "bb6ad8a1",
   "metadata": {
    "execution": {
     "iopub.execute_input": "2022-11-12T20:09:53.145132Z",
     "iopub.status.busy": "2022-11-12T20:09:53.144514Z",
     "iopub.status.idle": "2022-11-12T20:09:54.666790Z",
     "shell.execute_reply": "2022-11-12T20:09:54.665796Z"
    },
    "papermill": {
     "duration": 1.549262,
     "end_time": "2022-11-12T20:09:54.666933",
     "exception": false,
     "start_time": "2022-11-12T20:09:53.117671",
     "status": "completed"
    },
    "tags": []
   },
   "outputs": [
    {
     "name": "stdout",
     "output_type": "stream",
     "text": [
      "Collecting mnist\r\n",
      "  Downloading mnist-0.2.2-py2.py3-none-any.whl (3.5 kB)\r\n",
      "Requirement already satisfied: numpy in /opt/hostedtoolcache/Python/3.6.15/x64/lib/python3.6/site-packages (from mnist) (1.19.5)\r\n"
     ]
    },
    {
     "name": "stdout",
     "output_type": "stream",
     "text": [
      "Installing collected packages: mnist\r\n"
     ]
    },
    {
     "name": "stdout",
     "output_type": "stream",
     "text": [
      "Successfully installed mnist-0.2.2\r\n"
     ]
    }
   ],
   "source": [
    "!pip install mnist"
   ]
  },
  {
   "cell_type": "markdown",
   "id": "69df9c9a",
   "metadata": {
    "papermill": {
     "duration": 0.024655,
     "end_time": "2022-11-12T20:09:54.717146",
     "exception": false,
     "start_time": "2022-11-12T20:09:54.692491",
     "status": "completed"
    },
    "tags": []
   },
   "source": [
    "## Preparing the Data"
   ]
  },
  {
   "cell_type": "code",
   "execution_count": 4,
   "id": "7f69d806",
   "metadata": {
    "execution": {
     "iopub.execute_input": "2022-11-12T20:09:54.770792Z",
     "iopub.status.busy": "2022-11-12T20:09:54.770219Z",
     "iopub.status.idle": "2022-11-12T20:09:54.784328Z",
     "shell.execute_reply": "2022-11-12T20:09:54.783855Z"
    },
    "papermill": {
     "duration": 0.042482,
     "end_time": "2022-11-12T20:09:54.784434",
     "exception": false,
     "start_time": "2022-11-12T20:09:54.741952",
     "status": "completed"
    },
    "tags": []
   },
   "outputs": [],
   "source": [
    "import mnist"
   ]
  },
  {
   "cell_type": "code",
   "execution_count": 5,
   "id": "a411e44f",
   "metadata": {
    "execution": {
     "iopub.execute_input": "2022-11-12T20:09:54.837235Z",
     "iopub.status.busy": "2022-11-12T20:09:54.836651Z",
     "iopub.status.idle": "2022-11-12T20:09:55.341412Z",
     "shell.execute_reply": "2022-11-12T20:09:55.340896Z"
    },
    "papermill": {
     "duration": 0.532645,
     "end_time": "2022-11-12T20:09:55.341534",
     "exception": false,
     "start_time": "2022-11-12T20:09:54.808889",
     "status": "completed"
    },
    "tags": []
   },
   "outputs": [],
   "source": [
    "train_images = mnist.train_images()\n",
    "train_labels = mnist.train_labels()"
   ]
  },
  {
   "cell_type": "code",
   "execution_count": 6,
   "id": "dceab3a5",
   "metadata": {
    "execution": {
     "iopub.execute_input": "2022-11-12T20:09:55.401499Z",
     "iopub.status.busy": "2022-11-12T20:09:55.395454Z",
     "iopub.status.idle": "2022-11-12T20:09:55.413240Z",
     "shell.execute_reply": "2022-11-12T20:09:55.412767Z"
    },
    "papermill": {
     "duration": 0.046937,
     "end_time": "2022-11-12T20:09:55.413346",
     "exception": false,
     "start_time": "2022-11-12T20:09:55.366409",
     "status": "completed"
    },
    "tags": []
   },
   "outputs": [
    {
     "data": {
      "text/plain": [
       "((60000, 28, 28), (60000,))"
      ]
     },
     "execution_count": 6,
     "metadata": {},
     "output_type": "execute_result"
    }
   ],
   "source": [
    "train_images.shape, train_labels.shape"
   ]
  },
  {
   "cell_type": "code",
   "execution_count": 7,
   "id": "f50dc2bb",
   "metadata": {
    "execution": {
     "iopub.execute_input": "2022-11-12T20:09:55.466211Z",
     "iopub.status.busy": "2022-11-12T20:09:55.465651Z",
     "iopub.status.idle": "2022-11-12T20:09:55.583788Z",
     "shell.execute_reply": "2022-11-12T20:09:55.583076Z"
    },
    "papermill": {
     "duration": 0.145826,
     "end_time": "2022-11-12T20:09:55.583917",
     "exception": false,
     "start_time": "2022-11-12T20:09:55.438091",
     "status": "completed"
    },
    "tags": []
   },
   "outputs": [],
   "source": [
    "test_images = mnist.test_images()\n",
    "test_labels = mnist.test_labels()"
   ]
  },
  {
   "cell_type": "code",
   "execution_count": 8,
   "id": "fc38cf1b",
   "metadata": {
    "execution": {
     "iopub.execute_input": "2022-11-12T20:09:55.638217Z",
     "iopub.status.busy": "2022-11-12T20:09:55.637643Z",
     "iopub.status.idle": "2022-11-12T20:09:55.651779Z",
     "shell.execute_reply": "2022-11-12T20:09:55.651215Z"
    },
    "papermill": {
     "duration": 0.042739,
     "end_time": "2022-11-12T20:09:55.651886",
     "exception": false,
     "start_time": "2022-11-12T20:09:55.609147",
     "status": "completed"
    },
    "tags": []
   },
   "outputs": [
    {
     "data": {
      "text/plain": [
       "((10000, 28, 28), (10000,))"
      ]
     },
     "execution_count": 8,
     "metadata": {},
     "output_type": "execute_result"
    }
   ],
   "source": [
    "test_images.shape, test_labels.shape"
   ]
  },
  {
   "cell_type": "code",
   "execution_count": 9,
   "id": "f9ed8fe0",
   "metadata": {
    "execution": {
     "iopub.execute_input": "2022-11-12T20:09:55.705660Z",
     "iopub.status.busy": "2022-11-12T20:09:55.705086Z",
     "iopub.status.idle": "2022-11-12T20:09:55.843272Z",
     "shell.execute_reply": "2022-11-12T20:09:55.842786Z"
    },
    "papermill": {
     "duration": 0.166606,
     "end_time": "2022-11-12T20:09:55.843384",
     "exception": false,
     "start_time": "2022-11-12T20:09:55.676778",
     "status": "completed"
    },
    "tags": []
   },
   "outputs": [
    {
     "name": "stdout",
     "output_type": "stream",
     "text": [
      "2\n"
     ]
    },
    {
     "data": {
      "text/plain": [
       "<matplotlib.image.AxesImage at 0x7f15d491de10>"
      ]
     },
     "execution_count": 9,
     "metadata": {},
     "output_type": "execute_result"
    },
    {
     "data": {
      "image/png": "[encoded data removed]",
      "text/plain": [
       "<Figure size 432x288 with 1 Axes>"
      ]
     },
     "metadata": {
      "needs_background": "light"
     },
     "output_type": "display_data"
    }
   ],
   "source": [
    "image_index = 7776 # You may select anything up to 60,000\n",
    "print(train_labels[image_index]) \n",
    "plt.imshow(train_images[image_index], cmap='Greys')"
   ]
  },
  {
   "cell_type": "markdown",
   "id": "a8d2388d",
   "metadata": {
    "papermill": {
     "duration": 0.026086,
     "end_time": "2022-11-12T20:09:55.895740",
     "exception": false,
     "start_time": "2022-11-12T20:09:55.869654",
     "status": "completed"
    },
    "tags": []
   },
   "source": [
    "## Filter data to get 3 and 8 out"
   ]
  },
  {
   "cell_type": "code",
   "execution_count": 10,
   "id": "776f7fc7",
   "metadata": {
    "execution": {
     "iopub.execute_input": "2022-11-12T20:09:55.951857Z",
     "iopub.status.busy": "2022-11-12T20:09:55.951267Z",
     "iopub.status.idle": "2022-11-12T20:09:55.968857Z",
     "shell.execute_reply": "2022-11-12T20:09:55.968360Z"
    },
    "papermill": {
     "duration": 0.047313,
     "end_time": "2022-11-12T20:09:55.968966",
     "exception": false,
     "start_time": "2022-11-12T20:09:55.921653",
     "status": "completed"
    },
    "tags": []
   },
   "outputs": [],
   "source": [
    "train_filter = np.where((train_labels == 3 ) | (train_labels == 8))\n",
    "test_filter = np.where((test_labels == 3) | (test_labels == 8))\n",
    "X_train, y_train = train_images[train_filter], train_labels[train_filter]\n",
    "X_test, y_test = test_images[test_filter], test_labels[test_filter]"
   ]
  },
  {
   "cell_type": "markdown",
   "id": "948f0b7e",
   "metadata": {
    "papermill": {
     "duration": 0.026781,
     "end_time": "2022-11-12T20:09:56.021868",
     "exception": false,
     "start_time": "2022-11-12T20:09:55.995087",
     "status": "completed"
    },
    "tags": []
   },
   "source": [
    "We normalize the pizel values in the 0 to 1 range"
   ]
  },
  {
   "cell_type": "code",
   "execution_count": 11,
   "id": "ee4c2166",
   "metadata": {
    "execution": {
     "iopub.execute_input": "2022-11-12T20:09:56.080026Z",
     "iopub.status.busy": "2022-11-12T20:09:56.079445Z",
     "iopub.status.idle": "2022-11-12T20:09:56.126504Z",
     "shell.execute_reply": "2022-11-12T20:09:56.127000Z"
    },
    "papermill": {
     "duration": 0.079257,
     "end_time": "2022-11-12T20:09:56.127153",
     "exception": false,
     "start_time": "2022-11-12T20:09:56.047896",
     "status": "completed"
    },
    "tags": []
   },
   "outputs": [],
   "source": [
    "X_train = X_train/255.\n",
    "X_test = X_test/255."
   ]
  },
  {
   "cell_type": "markdown",
   "id": "ddcf4fab",
   "metadata": {
    "papermill": {
     "duration": 0.025938,
     "end_time": "2022-11-12T20:09:56.180698",
     "exception": false,
     "start_time": "2022-11-12T20:09:56.154760",
     "status": "completed"
    },
    "tags": []
   },
   "source": [
    "And setup the labels as 1 (when the digit is 3) and 0 (when the digit is 8)"
   ]
  },
  {
   "cell_type": "code",
   "execution_count": 12,
   "id": "7dc908f2",
   "metadata": {
    "execution": {
     "iopub.execute_input": "2022-11-12T20:09:56.241183Z",
     "iopub.status.busy": "2022-11-12T20:09:56.235720Z",
     "iopub.status.idle": "2022-11-12T20:09:56.249200Z",
     "shell.execute_reply": "2022-11-12T20:09:56.248594Z"
    },
    "papermill": {
     "duration": 0.042731,
     "end_time": "2022-11-12T20:09:56.249310",
     "exception": false,
     "start_time": "2022-11-12T20:09:56.206579",
     "status": "completed"
    },
    "tags": []
   },
   "outputs": [],
   "source": [
    "y_train = 1*(y_train==3)\n",
    "y_test = 1*(y_test==3)"
   ]
  },
  {
   "cell_type": "code",
   "execution_count": 13,
   "id": "01e4e969",
   "metadata": {
    "execution": {
     "iopub.execute_input": "2022-11-12T20:09:56.305389Z",
     "iopub.status.busy": "2022-11-12T20:09:56.304149Z",
     "iopub.status.idle": "2022-11-12T20:09:56.317937Z",
     "shell.execute_reply": "2022-11-12T20:09:56.317474Z"
    },
    "papermill": {
     "duration": 0.042657,
     "end_time": "2022-11-12T20:09:56.318043",
     "exception": false,
     "start_time": "2022-11-12T20:09:56.275386",
     "status": "completed"
    },
    "tags": []
   },
   "outputs": [
    {
     "data": {
      "text/plain": [
       "((11982, 28, 28), (1984, 28, 28))"
      ]
     },
     "execution_count": 13,
     "metadata": {},
     "output_type": "execute_result"
    }
   ],
   "source": [
    "X_train.shape, X_test.shape"
   ]
  },
  {
   "cell_type": "markdown",
   "id": "5ccf3f85",
   "metadata": {
    "papermill": {
     "duration": 0.026109,
     "end_time": "2022-11-12T20:09:56.370449",
     "exception": false,
     "start_time": "2022-11-12T20:09:56.344340",
     "status": "completed"
    },
    "tags": []
   },
   "source": [
    "We reshape the data to flatten the image pixels into a set of features or co-variates:"
   ]
  },
  {
   "cell_type": "code",
   "execution_count": 14,
   "id": "5286a4a3",
   "metadata": {
    "execution": {
     "iopub.execute_input": "2022-11-12T20:09:56.427055Z",
     "iopub.status.busy": "2022-11-12T20:09:56.426473Z",
     "iopub.status.idle": "2022-11-12T20:09:56.440153Z",
     "shell.execute_reply": "2022-11-12T20:09:56.440570Z"
    },
    "papermill": {
     "duration": 0.043754,
     "end_time": "2022-11-12T20:09:56.440723",
     "exception": false,
     "start_time": "2022-11-12T20:09:56.396969",
     "status": "completed"
    },
    "tags": []
   },
   "outputs": [
    {
     "data": {
      "text/plain": [
       "((11982, 784), (1984, 784))"
      ]
     },
     "execution_count": 14,
     "metadata": {},
     "output_type": "execute_result"
    }
   ],
   "source": [
    "X_train = X_train.reshape(X_train.shape[0], -1)\n",
    "X_test = X_test.reshape(X_test.shape[0], -1)\n",
    "X_train.shape, X_test.shape"
   ]
  },
  {
   "cell_type": "code",
   "execution_count": 15,
   "id": "73c5f88a",
   "metadata": {
    "execution": {
     "iopub.execute_input": "2022-11-12T20:09:56.497699Z",
     "iopub.status.busy": "2022-11-12T20:09:56.497126Z",
     "iopub.status.idle": "2022-11-12T20:09:56.515867Z",
     "shell.execute_reply": "2022-11-12T20:09:56.515367Z"
    },
    "papermill": {
     "duration": 0.0487,
     "end_time": "2022-11-12T20:09:56.515975",
     "exception": false,
     "start_time": "2022-11-12T20:09:56.467275",
     "status": "completed"
    },
    "tags": []
   },
   "outputs": [],
   "source": [
    "#Impoting functions from 'Kudzu'\n",
    "from kudzu.model import Model\n",
    "from kudzu.train import Learner\n",
    "from kudzu.optim import GD\n",
    "from kudzu.data import Data, Sampler,Dataloader\n",
    "\n",
    "from kudzu.callbacks import AccCallback\n",
    "from kudzu.callbacks import ClfCallback\n",
    "\n",
    "from kudzu.loss import MSE\n",
    "\n",
    "from kudzu.layer import Sigmoid,Relu\n",
    "from kudzu.layer import Affine"
   ]
  },
  {
   "cell_type": "markdown",
   "id": "bc01172a",
   "metadata": {
    "papermill": {
     "duration": 0.026386,
     "end_time": "2022-11-12T20:09:56.569206",
     "exception": false,
     "start_time": "2022-11-12T20:09:56.542820",
     "status": "completed"
    },
    "tags": []
   },
   "source": [
    "### Let us create a `Config` class, to store important parameters. \n",
    "This class essentially plays the role of a dictionary."
   ]
  },
  {
   "cell_type": "code",
   "execution_count": 16,
   "id": "978281aa",
   "metadata": {
    "execution": {
     "iopub.execute_input": "2022-11-12T20:09:56.625753Z",
     "iopub.status.busy": "2022-11-12T20:09:56.625179Z",
     "iopub.status.idle": "2022-11-12T20:09:56.639372Z",
     "shell.execute_reply": "2022-11-12T20:09:56.638907Z"
    },
    "papermill": {
     "duration": 0.043928,
     "end_time": "2022-11-12T20:09:56.639473",
     "exception": false,
     "start_time": "2022-11-12T20:09:56.595545",
     "status": "completed"
    },
    "tags": []
   },
   "outputs": [],
   "source": [
    "class Config:\n",
    "    pass\n",
    "config = Config()\n",
    "config.lr = 0.001\n",
    "config.num_epochs = 250\n",
    "config.bs = 50"
   ]
  },
  {
   "cell_type": "markdown",
   "id": "1385fa59",
   "metadata": {
    "papermill": {
     "duration": 0.026284,
     "end_time": "2022-11-12T20:09:56.692250",
     "exception": false,
     "start_time": "2022-11-12T20:09:56.665966",
     "status": "completed"
    },
    "tags": []
   },
   "source": [
    "### Running Models with the Training data\n",
    "Details about the network layers:\n",
    "- A first affine layer has 784 inputs and does 100 affine transforms. These are followed by a Relu\n",
    "- A second affine layer has 100 inputs from the 100 activations of the past layer, and does 100 affine transforms. These are followed by a Relu\n",
    "- A third affine layer has 100 activations and does 2 affine transformations to create an embedding for visualization. There is no non-linearity here.\n",
    "- A final \"logistic regression\" which has an affine transform from 2 inputs to 1 output, which is squeezed through a sigmoid.\n"
   ]
  },
  {
   "cell_type": "code",
   "execution_count": 17,
   "id": "2b9c66db",
   "metadata": {
    "execution": {
     "iopub.execute_input": "2022-11-12T20:09:56.761934Z",
     "iopub.status.busy": "2022-11-12T20:09:56.761365Z",
     "iopub.status.idle": "2022-11-12T20:09:56.767183Z",
     "shell.execute_reply": "2022-11-12T20:09:56.767623Z"
    },
    "papermill": {
     "duration": 0.048769,
     "end_time": "2022-11-12T20:09:56.767740",
     "exception": false,
     "start_time": "2022-11-12T20:09:56.718971",
     "status": "completed"
    },
    "tags": []
   },
   "outputs": [],
   "source": [
    "data = Data(X_train, y_train.reshape(-1,1))\n",
    "sampler = Sampler(data, config.bs, shuffle=True)\n",
    "\n",
    "dl = Dataloader(data, sampler)\n",
    "\n",
    "opt = GD(config.lr)\n",
    "loss = MSE()"
   ]
  },
  {
   "cell_type": "code",
   "execution_count": 18,
   "id": "b275e4c2",
   "metadata": {
    "execution": {
     "iopub.execute_input": "2022-11-12T20:09:56.833011Z",
     "iopub.status.busy": "2022-11-12T20:09:56.826566Z",
     "iopub.status.idle": "2022-11-12T20:09:56.838626Z",
     "shell.execute_reply": "2022-11-12T20:09:56.838139Z"
    },
    "papermill": {
     "duration": 0.044577,
     "end_time": "2022-11-12T20:09:56.838726",
     "exception": false,
     "start_time": "2022-11-12T20:09:56.794149",
     "status": "completed"
    },
    "tags": []
   },
   "outputs": [],
   "source": [
    "training_data_x = X_train\n",
    "testing_data_x = X_test\n",
    "training_data_y = y_train.reshape(-1,1)\n",
    "testing_data_y = y_test.reshape(-1,1)"
   ]
  },
  {
   "cell_type": "code",
   "execution_count": 19,
   "id": "76951160",
   "metadata": {
    "execution": {
     "iopub.execute_input": "2022-11-12T20:09:56.897388Z",
     "iopub.status.busy": "2022-11-12T20:09:56.894943Z",
     "iopub.status.idle": "2022-11-12T20:09:56.910660Z",
     "shell.execute_reply": "2022-11-12T20:09:56.911109Z"
    },
    "papermill": {
     "duration": 0.046156,
     "end_time": "2022-11-12T20:09:56.911223",
     "exception": false,
     "start_time": "2022-11-12T20:09:56.865067",
     "status": "completed"
    },
    "tags": []
   },
   "outputs": [
    {
     "name": "stdout",
     "output_type": "stream",
     "text": [
      "xavier\n",
      "xavier\n",
      "xavier\n",
      "xavier\n",
      "xavier\n"
     ]
    }
   ],
   "source": [
    "layers = [Affine(\"first\", 784, 100), Relu(\"first\"), Affine(\"second\", 100, 100), Relu(\"second\"), Affine(\"third\", 100, 2), Affine(\"last\", 2, 1), Sigmoid(\"last\")]\n",
    "model_nn = Model(layers)\n",
    "model_lr = Model([Affine(\"logits\", 784, 1), Sigmoid(\"sigmoid\")])"
   ]
  },
  {
   "cell_type": "code",
   "execution_count": 20,
   "id": "6eede77a",
   "metadata": {
    "execution": {
     "iopub.execute_input": "2022-11-12T20:09:56.974897Z",
     "iopub.status.busy": "2022-11-12T20:09:56.973537Z",
     "iopub.status.idle": "2022-11-12T20:09:56.980512Z",
     "shell.execute_reply": "2022-11-12T20:09:56.980988Z"
    },
    "papermill": {
     "duration": 0.043108,
     "end_time": "2022-11-12T20:09:56.981107",
     "exception": false,
     "start_time": "2022-11-12T20:09:56.937999",
     "status": "completed"
    },
    "tags": []
   },
   "outputs": [],
   "source": [
    "nn_learner = Learner(loss, model_nn, opt, config.num_epochs)\n",
    "acc_nn = ClfCallback(nn_learner, config.bs, training_data_x , testing_data_x, training_data_y, testing_data_y)\n",
    "nn_learner.set_callbacks([acc_nn])"
   ]
  },
  {
   "cell_type": "code",
   "execution_count": 21,
   "id": "877b6cc7",
   "metadata": {
    "execution": {
     "iopub.execute_input": "2022-11-12T20:09:57.041404Z",
     "iopub.status.busy": "2022-11-12T20:09:57.038096Z",
     "iopub.status.idle": "2022-11-12T20:09:57.050099Z",
     "shell.execute_reply": "2022-11-12T20:09:57.050549Z"
    },
    "papermill": {
     "duration": 0.042637,
     "end_time": "2022-11-12T20:09:57.050671",
     "exception": false,
     "start_time": "2022-11-12T20:09:57.008034",
     "status": "completed"
    },
    "tags": []
   },
   "outputs": [],
   "source": [
    "lr_learner = Learner(loss, model_lr, opt, config.num_epochs)\n",
    "acc_lr = ClfCallback(lr_learner, config.bs, training_data_x , testing_data_x, training_data_y, testing_data_y)\n",
    "lr_learner.set_callbacks([acc_lr])"
   ]
  },
  {
   "cell_type": "code",
   "execution_count": 22,
   "id": "d9b133c3",
   "metadata": {
    "execution": {
     "iopub.execute_input": "2022-11-12T20:09:57.117446Z",
     "iopub.status.busy": "2022-11-12T20:09:57.108004Z",
     "iopub.status.idle": "2022-11-12T20:11:10.466597Z",
     "shell.execute_reply": "2022-11-12T20:11:10.467433Z"
    },
    "papermill": {
     "duration": 73.389678,
     "end_time": "2022-11-12T20:11:10.467577",
     "exception": false,
     "start_time": "2022-11-12T20:09:57.077899",
     "status": "completed"
    },
    "tags": []
   },
   "outputs": [
    {
     "name": "stdout",
     "output_type": "stream",
     "text": [
      "Epoch 0, Loss 0.2523\n",
      "Training Accuracy: 0.6200, Testing Accuracy: 0.6321\n",
      "\n"
     ]
    },
    {
     "name": "stdout",
     "output_type": "stream",
     "text": [
      "Epoch 10, Loss 0.0953\n",
      "Training Accuracy: 0.9104, Testing Accuracy: 0.9229\n",
      "\n"
     ]
    },
    {
     "name": "stdout",
     "output_type": "stream",
     "text": [
      "Epoch 20, Loss 0.058\n",
      "Training Accuracy: 0.9390, Testing Accuracy: 0.9461\n",
      "\n"
     ]
    },
    {
     "name": "stdout",
     "output_type": "stream",
     "text": [
      "Epoch 30, Loss 0.0455\n",
      "Training Accuracy: 0.9507, Testing Accuracy: 0.9582\n",
      "\n"
     ]
    },
    {
     "name": "stdout",
     "output_type": "stream",
     "text": [
      "Epoch 40, Loss 0.0394\n",
      "Training Accuracy: 0.9564, Testing Accuracy: 0.9622\n",
      "\n"
     ]
    },
    {
     "name": "stdout",
     "output_type": "stream",
     "text": [
      "Epoch 50, Loss 0.0357\n",
      "Training Accuracy: 0.9597, Testing Accuracy: 0.9657\n",
      "\n"
     ]
    },
    {
     "name": "stdout",
     "output_type": "stream",
     "text": [
      "Epoch 60, Loss 0.0331\n",
      "Training Accuracy: 0.9624, Testing Accuracy: 0.9657\n",
      "\n"
     ]
    },
    {
     "name": "stdout",
     "output_type": "stream",
     "text": [
      "Epoch 70, Loss 0.0312\n",
      "Training Accuracy: 0.9644, Testing Accuracy: 0.9657\n",
      "\n"
     ]
    },
    {
     "name": "stdout",
     "output_type": "stream",
     "text": [
      "Epoch 80, Loss 0.0297\n",
      "Training Accuracy: 0.9659, Testing Accuracy: 0.9667\n",
      "\n"
     ]
    },
    {
     "name": "stdout",
     "output_type": "stream",
     "text": [
      "Epoch 90, Loss 0.0284\n",
      "Training Accuracy: 0.9673, Testing Accuracy: 0.9667\n",
      "\n"
     ]
    },
    {
     "name": "stdout",
     "output_type": "stream",
     "text": [
      "Epoch 100, Loss 0.0273\n",
      "Training Accuracy: 0.9682, Testing Accuracy: 0.9688\n",
      "\n"
     ]
    },
    {
     "name": "stdout",
     "output_type": "stream",
     "text": [
      "Epoch 110, Loss 0.0264\n",
      "Training Accuracy: 0.9695, Testing Accuracy: 0.9703\n",
      "\n"
     ]
    },
    {
     "name": "stdout",
     "output_type": "stream",
     "text": [
      "Epoch 120, Loss 0.0256\n",
      "Training Accuracy: 0.9705, Testing Accuracy: 0.9708\n",
      "\n"
     ]
    },
    {
     "name": "stdout",
     "output_type": "stream",
     "text": [
      "Epoch 130, Loss 0.0249\n",
      "Training Accuracy: 0.9715, Testing Accuracy: 0.9713\n",
      "\n"
     ]
    },
    {
     "name": "stdout",
     "output_type": "stream",
     "text": [
      "Epoch 140, Loss 0.0243\n",
      "Training Accuracy: 0.9722, Testing Accuracy: 0.9708\n",
      "\n"
     ]
    },
    {
     "name": "stdout",
     "output_type": "stream",
     "text": [
      "Epoch 150, Loss 0.0237\n",
      "Training Accuracy: 0.9726, Testing Accuracy: 0.9713\n",
      "\n"
     ]
    },
    {
     "name": "stdout",
     "output_type": "stream",
     "text": [
      "Epoch 160, Loss 0.0232\n",
      "Training Accuracy: 0.9733, Testing Accuracy: 0.9713\n",
      "\n"
     ]
    },
    {
     "name": "stdout",
     "output_type": "stream",
     "text": [
      "Epoch 170, Loss 0.0227\n",
      "Training Accuracy: 0.9737, Testing Accuracy: 0.9723\n",
      "\n"
     ]
    },
    {
     "name": "stdout",
     "output_type": "stream",
     "text": [
      "Epoch 180, Loss 0.0223\n",
      "Training Accuracy: 0.9746, Testing Accuracy: 0.9723\n",
      "\n"
     ]
    },
    {
     "name": "stdout",
     "output_type": "stream",
     "text": [
      "Epoch 190, Loss 0.0218\n",
      "Training Accuracy: 0.9753, Testing Accuracy: 0.9723\n",
      "\n"
     ]
    },
    {
     "name": "stdout",
     "output_type": "stream",
     "text": [
      "Epoch 200, Loss 0.0214\n",
      "Training Accuracy: 0.9755, Testing Accuracy: 0.9723\n",
      "\n"
     ]
    },
    {
     "name": "stdout",
     "output_type": "stream",
     "text": [
      "Epoch 210, Loss 0.0211\n",
      "Training Accuracy: 0.9761, Testing Accuracy: 0.9718\n",
      "\n"
     ]
    },
    {
     "name": "stdout",
     "output_type": "stream",
     "text": [
      "Epoch 220, Loss 0.0207\n",
      "Training Accuracy: 0.9760, Testing Accuracy: 0.9723\n",
      "\n"
     ]
    },
    {
     "name": "stdout",
     "output_type": "stream",
     "text": [
      "Epoch 230, Loss 0.0203\n",
      "Training Accuracy: 0.9765, Testing Accuracy: 0.9718\n",
      "\n"
     ]
    },
    {
     "name": "stdout",
     "output_type": "stream",
     "text": [
      "Epoch 240, Loss 0.02\n",
      "Training Accuracy: 0.9775, Testing Accuracy: 0.9723\n",
      "\n"
     ]
    },
    {
     "data": {
      "text/plain": [
       "0.023353448444070255"
      ]
     },
     "execution_count": 22,
     "metadata": {},
     "output_type": "execute_result"
    }
   ],
   "source": [
    "nn_learner.train_loop(dl)"
   ]
  },
  {
   "cell_type": "code",
   "execution_count": 23,
   "id": "e0163366",
   "metadata": {
    "execution": {
     "iopub.execute_input": "2022-11-12T20:11:10.549066Z",
     "iopub.status.busy": "2022-11-12T20:11:10.548463Z",
     "iopub.status.idle": "2022-11-12T20:11:23.564805Z",
     "shell.execute_reply": "2022-11-12T20:11:23.565624Z"
    },
    "papermill": {
     "duration": 13.063738,
     "end_time": "2022-11-12T20:11:23.565761",
     "exception": false,
     "start_time": "2022-11-12T20:11:10.502023",
     "status": "completed"
    },
    "tags": []
   },
   "outputs": [
    {
     "name": "stdout",
     "output_type": "stream",
     "text": [
      "Epoch 0, Loss 0.2402\n",
      "Training Accuracy: 0.6941, Testing Accuracy: 0.7233\n",
      "\n"
     ]
    },
    {
     "name": "stdout",
     "output_type": "stream",
     "text": [
      "Epoch 10, Loss 0.1004\n",
      "Training Accuracy: 0.9147, Testing Accuracy: 0.9304\n",
      "\n"
     ]
    },
    {
     "name": "stdout",
     "output_type": "stream",
     "text": [
      "Epoch 20, Loss 0.0776\n",
      "Training Accuracy: 0.9297, Testing Accuracy: 0.9435\n",
      "\n"
     ]
    },
    {
     "name": "stdout",
     "output_type": "stream",
     "text": [
      "Epoch 30, Loss 0.0671\n",
      "Training Accuracy: 0.9382, Testing Accuracy: 0.9511\n",
      "\n"
     ]
    },
    {
     "name": "stdout",
     "output_type": "stream",
     "text": [
      "Epoch 40, Loss 0.0607\n",
      "Training Accuracy: 0.9425, Testing Accuracy: 0.9551\n",
      "\n"
     ]
    },
    {
     "name": "stdout",
     "output_type": "stream",
     "text": [
      "Epoch 50, Loss 0.0564\n",
      "Training Accuracy: 0.9458, Testing Accuracy: 0.9582\n",
      "\n"
     ]
    },
    {
     "name": "stdout",
     "output_type": "stream",
     "text": [
      "Epoch 60, Loss 0.0532\n",
      "Training Accuracy: 0.9486, Testing Accuracy: 0.9597\n",
      "\n"
     ]
    },
    {
     "name": "stdout",
     "output_type": "stream",
     "text": [
      "Epoch 70, Loss 0.0507\n",
      "Training Accuracy: 0.9511, Testing Accuracy: 0.9607\n",
      "\n"
     ]
    },
    {
     "name": "stdout",
     "output_type": "stream",
     "text": [
      "Epoch 80, Loss 0.0487\n",
      "Training Accuracy: 0.9524, Testing Accuracy: 0.9622\n",
      "\n"
     ]
    },
    {
     "name": "stdout",
     "output_type": "stream",
     "text": [
      "Epoch 90, Loss 0.0471\n",
      "Training Accuracy: 0.9539, Testing Accuracy: 0.9632\n",
      "\n"
     ]
    },
    {
     "name": "stdout",
     "output_type": "stream",
     "text": [
      "Epoch 100, Loss 0.0457\n",
      "Training Accuracy: 0.9544, Testing Accuracy: 0.9637\n",
      "\n"
     ]
    },
    {
     "name": "stdout",
     "output_type": "stream",
     "text": [
      "Epoch 110, Loss 0.0445\n",
      "Training Accuracy: 0.9553, Testing Accuracy: 0.9657\n",
      "\n"
     ]
    },
    {
     "name": "stdout",
     "output_type": "stream",
     "text": [
      "Epoch 120, Loss 0.0435\n",
      "Training Accuracy: 0.9564, Testing Accuracy: 0.9662\n",
      "\n"
     ]
    },
    {
     "name": "stdout",
     "output_type": "stream",
     "text": [
      "Epoch 130, Loss 0.0425\n",
      "Training Accuracy: 0.9570, Testing Accuracy: 0.9662\n",
      "\n"
     ]
    },
    {
     "name": "stdout",
     "output_type": "stream",
     "text": [
      "Epoch 140, Loss 0.0417\n",
      "Training Accuracy: 0.9579, Testing Accuracy: 0.9667\n",
      "\n"
     ]
    },
    {
     "name": "stdout",
     "output_type": "stream",
     "text": [
      "Epoch 150, Loss 0.041\n",
      "Training Accuracy: 0.9582, Testing Accuracy: 0.9672\n",
      "\n"
     ]
    },
    {
     "name": "stdout",
     "output_type": "stream",
     "text": [
      "Epoch 160, Loss 0.0403\n",
      "Training Accuracy: 0.9585, Testing Accuracy: 0.9677\n",
      "\n"
     ]
    },
    {
     "name": "stdout",
     "output_type": "stream",
     "text": [
      "Epoch 170, Loss 0.0397\n",
      "Training Accuracy: 0.9589, Testing Accuracy: 0.9682\n",
      "\n"
     ]
    },
    {
     "name": "stdout",
     "output_type": "stream",
     "text": [
      "Epoch 180, Loss 0.0392\n",
      "Training Accuracy: 0.9594, Testing Accuracy: 0.9682\n",
      "\n"
     ]
    },
    {
     "name": "stdout",
     "output_type": "stream",
     "text": [
      "Epoch 190, Loss 0.0387\n",
      "Training Accuracy: 0.9602, Testing Accuracy: 0.9688\n",
      "\n"
     ]
    },
    {
     "name": "stdout",
     "output_type": "stream",
     "text": [
      "Epoch 200, Loss 0.0382\n",
      "Training Accuracy: 0.9604, Testing Accuracy: 0.9688\n",
      "\n"
     ]
    },
    {
     "name": "stdout",
     "output_type": "stream",
     "text": [
      "Epoch 210, Loss 0.0378\n",
      "Training Accuracy: 0.9609, Testing Accuracy: 0.9682\n",
      "\n"
     ]
    },
    {
     "name": "stdout",
     "output_type": "stream",
     "text": [
      "Epoch 220, Loss 0.0374\n",
      "Training Accuracy: 0.9609, Testing Accuracy: 0.9688\n",
      "\n"
     ]
    },
    {
     "name": "stdout",
     "output_type": "stream",
     "text": [
      "Epoch 230, Loss 0.037\n",
      "Training Accuracy: 0.9611, Testing Accuracy: 0.9682\n",
      "\n"
     ]
    },
    {
     "name": "stdout",
     "output_type": "stream",
     "text": [
      "Epoch 240, Loss 0.0366\n",
      "Training Accuracy: 0.9614, Testing Accuracy: 0.9682\n",
      "\n"
     ]
    },
    {
     "data": {
      "text/plain": [
       "0.0479276707264567"
      ]
     },
     "execution_count": 23,
     "metadata": {},
     "output_type": "execute_result"
    }
   ],
   "source": [
    "lr_learner.train_loop(dl)"
   ]
  },
  {
   "cell_type": "code",
   "execution_count": 24,
   "id": "ca410940",
   "metadata": {
    "execution": {
     "iopub.execute_input": "2022-11-12T20:11:23.660368Z",
     "iopub.status.busy": "2022-11-12T20:11:23.659788Z",
     "iopub.status.idle": "2022-11-12T20:11:23.883591Z",
     "shell.execute_reply": "2022-11-12T20:11:23.883102Z"
    },
    "papermill": {
     "duration": 0.27704,
     "end_time": "2022-11-12T20:11:23.883714",
     "exception": false,
     "start_time": "2022-11-12T20:11:23.606674",
     "status": "completed"
    },
    "tags": []
   },
   "outputs": [
    {
     "data": {
      "text/plain": [
       "<matplotlib.legend.Legend at 0x7f15d448c438>"
      ]
     },
     "execution_count": 24,
     "metadata": {},
     "output_type": "execute_result"
    },
    {
     "data": {
      "image/png": "[encoded data removed]",
      "text/plain": [
       "<Figure size 1080x720 with 1 Axes>"
      ]
     },
     "metadata": {
      "needs_background": "light"
     },
     "output_type": "display_data"
    }
   ],
   "source": [
    "#comparing the results of NN and LR\n",
    "plt.figure(figsize=(15,10))\n",
    "\n",
    "# Neural Network plots\n",
    "plt.plot(acc_nn.accuracies, 'r-', label = \"Training Accuracies - NN\")\n",
    "plt.plot(acc_nn.test_accuracies, 'g-', label = \"Testing Accuracies - NN\")\n",
    "\n",
    "# Logistic Regression plots\n",
    "plt.plot(acc_lr.accuracies, 'k-', label = \"Training Accuracies - LR\")\n",
    "plt.plot(acc_lr.test_accuracies, 'b-', label = \"Testing Accuracies - LR\")\n",
    "plt.legend()"
   ]
  },
  {
   "cell_type": "markdown",
   "id": "80dfb35c",
   "metadata": {
    "papermill": {
     "duration": 0.041524,
     "end_time": "2022-11-12T20:11:23.967037",
     "exception": false,
     "start_time": "2022-11-12T20:11:23.925513",
     "status": "completed"
    },
    "tags": []
   },
   "source": [
    "#### Plotting the outputs of this layer of the NN.\n"
   ]
  },
  {
   "cell_type": "code",
   "execution_count": 25,
   "id": "45eb2ff5",
   "metadata": {
    "execution": {
     "iopub.execute_input": "2022-11-12T20:11:24.054067Z",
     "iopub.status.busy": "2022-11-12T20:11:24.053469Z",
     "iopub.status.idle": "2022-11-12T20:11:24.073960Z",
     "shell.execute_reply": "2022-11-12T20:11:24.073474Z"
    },
    "papermill": {
     "duration": 0.065696,
     "end_time": "2022-11-12T20:11:24.074080",
     "exception": false,
     "start_time": "2022-11-12T20:11:24.008384",
     "status": "completed"
    },
    "tags": []
   },
   "outputs": [],
   "source": [
    "new_model = Model(layers[:-2])\n",
    "testing_plot = new_model(testing_data_x)"
   ]
  },
  {
   "cell_type": "code",
   "execution_count": 26,
   "id": "4c0a5485",
   "metadata": {
    "execution": {
     "iopub.execute_input": "2022-11-12T20:11:24.164267Z",
     "iopub.status.busy": "2022-11-12T20:11:24.162269Z",
     "iopub.status.idle": "2022-11-12T20:11:24.355046Z",
     "shell.execute_reply": "2022-11-12T20:11:24.354264Z"
    },
    "papermill": {
     "duration": 0.239264,
     "end_time": "2022-11-12T20:11:24.355163",
     "exception": false,
     "start_time": "2022-11-12T20:11:24.115899",
     "status": "completed"
    },
    "tags": []
   },
   "outputs": [
    {
     "data": {
      "text/plain": [
       "Text(0.5, 1.0, 'Outputs')"
      ]
     },
     "execution_count": 26,
     "metadata": {},
     "output_type": "execute_result"
    },
    {
     "data": {
      "image/png": "[encoded data removed]",
      "text/plain": [
       "<Figure size 576x504 with 1 Axes>"
      ]
     },
     "metadata": {
      "needs_background": "light"
     },
     "output_type": "display_data"
    }
   ],
   "source": [
    "# Plotting the scatter plot of points and color coding by class\n",
    "plt.figure(figsize=(8,7))\n",
    "plt.scatter(testing_plot[:,0], testing_plot[:,1], alpha = 0.1, c = y_test.ravel());\n",
    "plt.title('Outputs')"
   ]
  },
  {
   "cell_type": "markdown",
   "id": "a74fcf8f",
   "metadata": {
    "papermill": {
     "duration": 0.043391,
     "end_time": "2022-11-12T20:11:24.442229",
     "exception": false,
     "start_time": "2022-11-12T20:11:24.398838",
     "status": "completed"
    },
    "tags": []
   },
   "source": [
    "Probability contours"
   ]
  },
  {
   "cell_type": "code",
   "execution_count": 27,
   "id": "d0afc8e3",
   "metadata": {
    "execution": {
     "iopub.execute_input": "2022-11-12T20:11:24.550375Z",
     "iopub.status.busy": "2022-11-12T20:11:24.549449Z",
     "iopub.status.idle": "2022-11-12T20:11:24.554277Z",
     "shell.execute_reply": "2022-11-12T20:11:24.554716Z"
    },
    "papermill": {
     "duration": 0.069072,
     "end_time": "2022-11-12T20:11:24.554839",
     "exception": false,
     "start_time": "2022-11-12T20:11:24.485767",
     "status": "completed"
    },
    "tags": []
   },
   "outputs": [],
   "source": [
    "model_prob = Model(layers[-2:]) "
   ]
  },
  {
   "cell_type": "code",
   "execution_count": 28,
   "id": "9b96e238",
   "metadata": {
    "execution": {
     "iopub.execute_input": "2022-11-12T20:11:24.648795Z",
     "iopub.status.busy": "2022-11-12T20:11:24.648195Z",
     "iopub.status.idle": "2022-11-12T20:11:24.660636Z",
     "shell.execute_reply": "2022-11-12T20:11:24.661073Z"
    },
    "papermill": {
     "duration": 0.063125,
     "end_time": "2022-11-12T20:11:24.661200",
     "exception": false,
     "start_time": "2022-11-12T20:11:24.598075",
     "status": "completed"
    },
    "tags": []
   },
   "outputs": [],
   "source": [
    "#creating the x and y ranges according to the above generated plot.\n",
    "x_range = np.linspace(-4, 1, 100) \n",
    "y_range = np.linspace(-6, 6, 100) \n",
    "x_grid, y_grid = np.meshgrid(x_range, y_range) # x_grid and y_grig are of size 100 X 100\n",
    "\n",
    "# converting x_grid and y_grid to continuous arrays\n",
    "x_gridflat = np.ravel(x_grid)\n",
    "y_gridflat = np.ravel(y_grid)\n",
    "\n",
    "# The last layer of the current model takes two columns as input. Hence transpose of np.vstack() is required.\n",
    "X = np.vstack((x_gridflat, y_gridflat)).T\n",
    "\n",
    "prob_contour = model_prob(X).reshape(100,100) "
   ]
  },
  {
   "cell_type": "code",
   "execution_count": 29,
   "id": "da72499a",
   "metadata": {
    "execution": {
     "iopub.execute_input": "2022-11-12T20:11:24.779556Z",
     "iopub.status.busy": "2022-11-12T20:11:24.778138Z",
     "iopub.status.idle": "2022-11-12T20:11:25.020753Z",
     "shell.execute_reply": "2022-11-12T20:11:25.021272Z"
    },
    "papermill": {
     "duration": 0.29239,
     "end_time": "2022-11-12T20:11:25.021421",
     "exception": false,
     "start_time": "2022-11-12T20:11:24.729031",
     "status": "completed"
    },
    "tags": []
   },
   "outputs": [
    {
     "data": {
      "image/png": "[encoded data removed]",
      "text/plain": [
       "<Figure size 720x648 with 1 Axes>"
      ]
     },
     "metadata": {
      "needs_background": "light"
     },
     "output_type": "display_data"
    }
   ],
   "source": [
    "plt.figure(figsize=(10,9))\n",
    "plt.scatter(testing_plot[:,0], testing_plot[:,1], alpha = 0.1, c = y_test.ravel())\n",
    "contours = plt.contour(x_grid,y_grid,prob_contour)\n",
    "plt.title('Probability Contours')\n",
    "plt.clabel(contours, inline = True );"
   ]
  },
  {
   "cell_type": "code",
   "execution_count": null,
   "id": "e81b4ac7",
   "metadata": {
    "papermill": {
     "duration": 0.046295,
     "end_time": "2022-11-12T20:11:25.114529",
     "exception": false,
     "start_time": "2022-11-12T20:11:25.068234",
     "status": "completed"
    },
    "tags": []
   },
   "outputs": [],
   "source": []
  }
 ],
 "metadata": {
  "kernelspec": {
   "display_name": "Python 3",
   "language": "python",
   "name": "python3"
  },
  "language_info": {
   "codemirror_mode": {
    "name": "ipython",
    "version": 3
   },
   "file_extension": ".py",
   "mimetype": "text/x-python",
   "name": "python",
   "nbconvert_exporter": "python",
   "pygments_lexer": "ipython3",
   "version": "3.6.15"
  },
  "papermill": {
   "default_parameters": {},
   "duration": 94.182926,
   "end_time": "2022-11-12T20:11:25.579300",
   "environment_variables": {},
   "exception": null,
   "input_path": "2020-08-11-part2.ipynb",
   "output_path": "2020-08-11-part2.ipynb",
   "parameters": {},
   "start_time": "2022-11-12T20:09:51.396374",
   "version": "2.3.3"
  }
 },
 "nbformat": 4,
 "nbformat_minor": 5
}