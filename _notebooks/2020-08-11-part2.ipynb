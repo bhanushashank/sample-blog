{
 "cells": [
  {
   "cell_type": "markdown",
   "id": "98380cd3",
   "metadata": {
    "papermill": {
     "duration": 0.03089,
     "end_time": "2022-08-23T00:48:23.925665",
     "exception": false,
     "start_time": "2022-08-23T00:48:23.894775",
     "status": "completed"
    },
    "tags": []
   },
   "source": [
    "# Distinguish Your Own Digits (DYOD)"
   ]
  },
  {
   "cell_type": "markdown",
   "id": "ef31240d",
   "metadata": {
    "papermill": {
     "duration": 0.023874,
     "end_time": "2022-08-23T00:48:23.973880",
     "exception": false,
     "start_time": "2022-08-23T00:48:23.950006",
     "status": "completed"
    },
    "tags": []
   },
   "source": [
    "You are going to write a classifier that distinguishes between the number 3 and number 8."
   ]
  },
  {
   "cell_type": "code",
   "execution_count": 1,
   "id": "b15c8646",
   "metadata": {
    "execution": {
     "iopub.execute_input": "2022-08-23T00:48:24.032996Z",
     "iopub.status.busy": "2022-08-23T00:48:24.032321Z",
     "iopub.status.idle": "2022-08-23T00:48:24.043192Z",
     "shell.execute_reply": "2022-08-23T00:48:24.043701Z"
    },
    "papermill": {
     "duration": 0.04612,
     "end_time": "2022-08-23T00:48:24.043871",
     "exception": false,
     "start_time": "2022-08-23T00:48:23.997751",
     "status": "completed"
    },
    "tags": []
   },
   "outputs": [],
   "source": [
    "%load_ext autoreload\n",
    "%autoreload 2"
   ]
  },
  {
   "cell_type": "code",
   "execution_count": 2,
   "id": "22ef38dc",
   "metadata": {
    "execution": {
     "iopub.execute_input": "2022-08-23T00:48:24.099140Z",
     "iopub.status.busy": "2022-08-23T00:48:24.098520Z",
     "iopub.status.idle": "2022-08-23T00:48:24.662016Z",
     "shell.execute_reply": "2022-08-23T00:48:24.661430Z"
    },
    "papermill": {
     "duration": 0.594311,
     "end_time": "2022-08-23T00:48:24.662161",
     "exception": false,
     "start_time": "2022-08-23T00:48:24.067850",
     "status": "completed"
    },
    "tags": []
   },
   "outputs": [],
   "source": [
    "%matplotlib inline\n",
    "import numpy as np\n",
    "import matplotlib.pyplot as plt\n",
    "import pandas as pd"
   ]
  },
  {
   "cell_type": "markdown",
   "id": "ba036198",
   "metadata": {
    "papermill": {
     "duration": 0.024036,
     "end_time": "2022-08-23T00:48:24.709972",
     "exception": false,
     "start_time": "2022-08-23T00:48:24.685936",
     "status": "completed"
    },
    "tags": []
   },
   "source": [
    "From the command line run `pip install mnist`. This is a library that will help you bring down the mnist dataset. If you run this from a notebook, you need to put  `!pip install mnist` in a cell by itself."
   ]
  },
  {
   "cell_type": "code",
   "execution_count": 3,
   "id": "bb6ad8a1",
   "metadata": {
    "execution": {
     "iopub.execute_input": "2022-08-23T00:48:24.774406Z",
     "iopub.status.busy": "2022-08-23T00:48:24.767795Z",
     "iopub.status.idle": "2022-08-23T00:48:26.489761Z",
     "shell.execute_reply": "2022-08-23T00:48:26.490259Z"
    },
    "papermill": {
     "duration": 1.756364,
     "end_time": "2022-08-23T00:48:26.490421",
     "exception": false,
     "start_time": "2022-08-23T00:48:24.734057",
     "status": "completed"
    },
    "tags": []
   },
   "outputs": [
    {
     "name": "stdout",
     "output_type": "stream",
     "text": [
      "Collecting mnist\r\n"
     ]
    },
    {
     "name": "stdout",
     "output_type": "stream",
     "text": [
      "  Downloading mnist-0.2.2-py2.py3-none-any.whl (3.5 kB)\r\n"
     ]
    },
    {
     "name": "stdout",
     "output_type": "stream",
     "text": [
      "Requirement already satisfied: numpy in /opt/hostedtoolcache/Python/3.6.15/x64/lib/python3.6/site-packages (from mnist) (1.19.5)\r\n"
     ]
    },
    {
     "name": "stdout",
     "output_type": "stream",
     "text": [
      "Installing collected packages: mnist\r\n",
      "Successfully installed mnist-0.2.2\r\n"
     ]
    }
   ],
   "source": [
    "!pip install mnist"
   ]
  },
  {
   "cell_type": "markdown",
   "id": "69df9c9a",
   "metadata": {
    "papermill": {
     "duration": 0.025271,
     "end_time": "2022-08-23T00:48:26.540605",
     "exception": false,
     "start_time": "2022-08-23T00:48:26.515334",
     "status": "completed"
    },
    "tags": []
   },
   "source": [
    "## Preparing the Data"
   ]
  },
  {
   "cell_type": "code",
   "execution_count": 4,
   "id": "7f69d806",
   "metadata": {
    "execution": {
     "iopub.execute_input": "2022-08-23T00:48:26.600867Z",
     "iopub.status.busy": "2022-08-23T00:48:26.600233Z",
     "iopub.status.idle": "2022-08-23T00:48:26.613673Z",
     "shell.execute_reply": "2022-08-23T00:48:26.613153Z"
    },
    "papermill": {
     "duration": 0.048457,
     "end_time": "2022-08-23T00:48:26.613804",
     "exception": false,
     "start_time": "2022-08-23T00:48:26.565347",
     "status": "completed"
    },
    "tags": []
   },
   "outputs": [],
   "source": [
    "import mnist"
   ]
  },
  {
   "cell_type": "code",
   "execution_count": 5,
   "id": "a411e44f",
   "metadata": {
    "execution": {
     "iopub.execute_input": "2022-08-23T00:48:26.675140Z",
     "iopub.status.busy": "2022-08-23T00:48:26.674519Z",
     "iopub.status.idle": "2022-08-23T00:48:27.273468Z",
     "shell.execute_reply": "2022-08-23T00:48:27.272913Z"
    },
    "papermill": {
     "duration": 0.634868,
     "end_time": "2022-08-23T00:48:27.273621",
     "exception": false,
     "start_time": "2022-08-23T00:48:26.638753",
     "status": "completed"
    },
    "tags": []
   },
   "outputs": [],
   "source": [
    "train_images = mnist.train_images()\n",
    "train_labels = mnist.train_labels()"
   ]
  },
  {
   "cell_type": "code",
   "execution_count": 6,
   "id": "dceab3a5",
   "metadata": {
    "execution": {
     "iopub.execute_input": "2022-08-23T00:48:27.339139Z",
     "iopub.status.busy": "2022-08-23T00:48:27.334258Z",
     "iopub.status.idle": "2022-08-23T00:48:27.347569Z",
     "shell.execute_reply": "2022-08-23T00:48:27.346996Z"
    },
    "papermill": {
     "duration": 0.048286,
     "end_time": "2022-08-23T00:48:27.347679",
     "exception": false,
     "start_time": "2022-08-23T00:48:27.299393",
     "status": "completed"
    },
    "tags": []
   },
   "outputs": [
    {
     "data": {
      "text/plain": [
       "((60000, 28, 28), (60000,))"
      ]
     },
     "execution_count": 6,
     "metadata": {},
     "output_type": "execute_result"
    }
   ],
   "source": [
    "train_images.shape, train_labels.shape"
   ]
  },
  {
   "cell_type": "code",
   "execution_count": 7,
   "id": "f50dc2bb",
   "metadata": {
    "execution": {
     "iopub.execute_input": "2022-08-23T00:48:27.402741Z",
     "iopub.status.busy": "2022-08-23T00:48:27.401236Z",
     "iopub.status.idle": "2022-08-23T00:48:27.630922Z",
     "shell.execute_reply": "2022-08-23T00:48:27.630358Z"
    },
    "papermill": {
     "duration": 0.258172,
     "end_time": "2022-08-23T00:48:27.631048",
     "exception": false,
     "start_time": "2022-08-23T00:48:27.372876",
     "status": "completed"
    },
    "tags": []
   },
   "outputs": [],
   "source": [
    "test_images = mnist.test_images()\n",
    "test_labels = mnist.test_labels()"
   ]
  },
  {
   "cell_type": "code",
   "execution_count": 8,
   "id": "fc38cf1b",
   "metadata": {
    "execution": {
     "iopub.execute_input": "2022-08-23T00:48:27.694484Z",
     "iopub.status.busy": "2022-08-23T00:48:27.685034Z",
     "iopub.status.idle": "2022-08-23T00:48:27.703847Z",
     "shell.execute_reply": "2022-08-23T00:48:27.703046Z"
    },
    "papermill": {
     "duration": 0.047604,
     "end_time": "2022-08-23T00:48:27.703971",
     "exception": false,
     "start_time": "2022-08-23T00:48:27.656367",
     "status": "completed"
    },
    "tags": []
   },
   "outputs": [
    {
     "data": {
      "text/plain": [
       "((10000, 28, 28), (10000,))"
      ]
     },
     "execution_count": 8,
     "metadata": {},
     "output_type": "execute_result"
    }
   ],
   "source": [
    "test_images.shape, test_labels.shape"
   ]
  },
  {
   "cell_type": "code",
   "execution_count": 9,
   "id": "f9ed8fe0",
   "metadata": {
    "execution": {
     "iopub.execute_input": "2022-08-23T00:48:27.765890Z",
     "iopub.status.busy": "2022-08-23T00:48:27.765235Z",
     "iopub.status.idle": "2022-08-23T00:48:27.903648Z",
     "shell.execute_reply": "2022-08-23T00:48:27.903142Z"
    },
    "papermill": {
     "duration": 0.174671,
     "end_time": "2022-08-23T00:48:27.903768",
     "exception": false,
     "start_time": "2022-08-23T00:48:27.729097",
     "status": "completed"
    },
    "tags": []
   },
   "outputs": [
    {
     "name": "stdout",
     "output_type": "stream",
     "text": [
      "2\n"
     ]
    },
    {
     "data": {
      "text/plain": [
       "<matplotlib.image.AxesImage at 0x7f12df476978>"
      ]
     },
     "execution_count": 9,
     "metadata": {},
     "output_type": "execute_result"
    },
    {
     "data": {
      "image/png": "[encoded data removed]",
      "text/plain": [
       "<Figure size 432x288 with 1 Axes>"
      ]
     },
     "metadata": {
      "needs_background": "light"
     },
     "output_type": "display_data"
    }
   ],
   "source": [
    "image_index = 7776 # You may select anything up to 60,000\n",
    "print(train_labels[image_index]) \n",
    "plt.imshow(train_images[image_index], cmap='Greys')"
   ]
  },
  {
   "cell_type": "markdown",
   "id": "a8d2388d",
   "metadata": {
    "papermill": {
     "duration": 0.026401,
     "end_time": "2022-08-23T00:48:27.956901",
     "exception": false,
     "start_time": "2022-08-23T00:48:27.930500",
     "status": "completed"
    },
    "tags": []
   },
   "source": [
    "## Filter data to get 3 and 8 out"
   ]
  },
  {
   "cell_type": "code",
   "execution_count": 10,
   "id": "776f7fc7",
   "metadata": {
    "execution": {
     "iopub.execute_input": "2022-08-23T00:48:28.019432Z",
     "iopub.status.busy": "2022-08-23T00:48:28.014743Z",
     "iopub.status.idle": "2022-08-23T00:48:28.033656Z",
     "shell.execute_reply": "2022-08-23T00:48:28.034134Z"
    },
    "papermill": {
     "duration": 0.050885,
     "end_time": "2022-08-23T00:48:28.034281",
     "exception": false,
     "start_time": "2022-08-23T00:48:27.983396",
     "status": "completed"
    },
    "tags": []
   },
   "outputs": [],
   "source": [
    "train_filter = np.where((train_labels == 3 ) | (train_labels == 8))\n",
    "test_filter = np.where((test_labels == 3) | (test_labels == 8))\n",
    "X_train, y_train = train_images[train_filter], train_labels[train_filter]\n",
    "X_test, y_test = test_images[test_filter], test_labels[test_filter]"
   ]
  },
  {
   "cell_type": "markdown",
   "id": "948f0b7e",
   "metadata": {
    "papermill": {
     "duration": 0.026401,
     "end_time": "2022-08-23T00:48:28.087328",
     "exception": false,
     "start_time": "2022-08-23T00:48:28.060927",
     "status": "completed"
    },
    "tags": []
   },
   "source": [
    "We normalize the pizel values in the 0 to 1 range"
   ]
  },
  {
   "cell_type": "code",
   "execution_count": 11,
   "id": "ee4c2166",
   "metadata": {
    "execution": {
     "iopub.execute_input": "2022-08-23T00:48:28.158935Z",
     "iopub.status.busy": "2022-08-23T00:48:28.158292Z",
     "iopub.status.idle": "2022-08-23T00:48:28.197901Z",
     "shell.execute_reply": "2022-08-23T00:48:28.197257Z"
    },
    "papermill": {
     "duration": 0.084308,
     "end_time": "2022-08-23T00:48:28.198046",
     "exception": false,
     "start_time": "2022-08-23T00:48:28.113738",
     "status": "completed"
    },
    "tags": []
   },
   "outputs": [],
   "source": [
    "X_train = X_train/255.\n",
    "X_test = X_test/255."
   ]
  },
  {
   "cell_type": "markdown",
   "id": "ddcf4fab",
   "metadata": {
    "papermill": {
     "duration": 0.026243,
     "end_time": "2022-08-23T00:48:28.251178",
     "exception": false,
     "start_time": "2022-08-23T00:48:28.224935",
     "status": "completed"
    },
    "tags": []
   },
   "source": [
    "And setup the labels as 1 (when the digit is 3) and 0 (when the digit is 8)"
   ]
  },
  {
   "cell_type": "code",
   "execution_count": 12,
   "id": "7dc908f2",
   "metadata": {
    "execution": {
     "iopub.execute_input": "2022-08-23T00:48:28.318670Z",
     "iopub.status.busy": "2022-08-23T00:48:28.310478Z",
     "iopub.status.idle": "2022-08-23T00:48:28.321777Z",
     "shell.execute_reply": "2022-08-23T00:48:28.322215Z"
    },
    "papermill": {
     "duration": 0.044969,
     "end_time": "2022-08-23T00:48:28.322358",
     "exception": false,
     "start_time": "2022-08-23T00:48:28.277389",
     "status": "completed"
    },
    "tags": []
   },
   "outputs": [],
   "source": [
    "y_train = 1*(y_train==3)\n",
    "y_test = 1*(y_test==3)"
   ]
  },
  {
   "cell_type": "code",
   "execution_count": 13,
   "id": "01e4e969",
   "metadata": {
    "execution": {
     "iopub.execute_input": "2022-08-23T00:48:28.379575Z",
     "iopub.status.busy": "2022-08-23T00:48:28.378365Z",
     "iopub.status.idle": "2022-08-23T00:48:28.392622Z",
     "shell.execute_reply": "2022-08-23T00:48:28.392128Z"
    },
    "papermill": {
     "duration": 0.044061,
     "end_time": "2022-08-23T00:48:28.392742",
     "exception": false,
     "start_time": "2022-08-23T00:48:28.348681",
     "status": "completed"
    },
    "tags": []
   },
   "outputs": [
    {
     "data": {
      "text/plain": [
       "((11982, 28, 28), (1984, 28, 28))"
      ]
     },
     "execution_count": 13,
     "metadata": {},
     "output_type": "execute_result"
    }
   ],
   "source": [
    "X_train.shape, X_test.shape"
   ]
  },
  {
   "cell_type": "markdown",
   "id": "5ccf3f85",
   "metadata": {
    "papermill": {
     "duration": 0.026529,
     "end_time": "2022-08-23T00:48:28.445971",
     "exception": false,
     "start_time": "2022-08-23T00:48:28.419442",
     "status": "completed"
    },
    "tags": []
   },
   "source": [
    "We reshape the data to flatten the image pixels into a set of features or co-variates:"
   ]
  },
  {
   "cell_type": "code",
   "execution_count": 14,
   "id": "5286a4a3",
   "metadata": {
    "execution": {
     "iopub.execute_input": "2022-08-23T00:48:28.516748Z",
     "iopub.status.busy": "2022-08-23T00:48:28.510470Z",
     "iopub.status.idle": "2022-08-23T00:48:28.520432Z",
     "shell.execute_reply": "2022-08-23T00:48:28.519972Z"
    },
    "papermill": {
     "duration": 0.047925,
     "end_time": "2022-08-23T00:48:28.520551",
     "exception": false,
     "start_time": "2022-08-23T00:48:28.472626",
     "status": "completed"
    },
    "tags": []
   },
   "outputs": [
    {
     "data": {
      "text/plain": [
       "((11982, 784), (1984, 784))"
      ]
     },
     "execution_count": 14,
     "metadata": {},
     "output_type": "execute_result"
    }
   ],
   "source": [
    "X_train = X_train.reshape(X_train.shape[0], -1)\n",
    "X_test = X_test.reshape(X_test.shape[0], -1)\n",
    "X_train.shape, X_test.shape"
   ]
  },
  {
   "cell_type": "code",
   "execution_count": 15,
   "id": "73c5f88a",
   "metadata": {
    "execution": {
     "iopub.execute_input": "2022-08-23T00:48:28.580047Z",
     "iopub.status.busy": "2022-08-23T00:48:28.579414Z",
     "iopub.status.idle": "2022-08-23T00:48:28.598748Z",
     "shell.execute_reply": "2022-08-23T00:48:28.598243Z"
    },
    "papermill": {
     "duration": 0.051531,
     "end_time": "2022-08-23T00:48:28.598874",
     "exception": false,
     "start_time": "2022-08-23T00:48:28.547343",
     "status": "completed"
    },
    "tags": []
   },
   "outputs": [],
   "source": [
    "#Impoting functions from 'Kudzu'\n",
    "from kudzu.model import Model\n",
    "from kudzu.train import Learner\n",
    "from kudzu.optim import GD\n",
    "from kudzu.data import Data, Sampler,Dataloader\n",
    "\n",
    "from kudzu.callbacks import AccCallback\n",
    "from kudzu.callbacks import ClfCallback\n",
    "\n",
    "from kudzu.loss import MSE\n",
    "\n",
    "from kudzu.layer import Sigmoid,Relu\n",
    "from kudzu.layer import Affine"
   ]
  },
  {
   "cell_type": "markdown",
   "id": "bc01172a",
   "metadata": {
    "papermill": {
     "duration": 0.026795,
     "end_time": "2022-08-23T00:48:28.652811",
     "exception": false,
     "start_time": "2022-08-23T00:48:28.626016",
     "status": "completed"
    },
    "tags": []
   },
   "source": [
    "### Let us create a `Config` class, to store important parameters. \n",
    "This class essentially plays the role of a dictionary."
   ]
  },
  {
   "cell_type": "code",
   "execution_count": 16,
   "id": "978281aa",
   "metadata": {
    "execution": {
     "iopub.execute_input": "2022-08-23T00:48:28.712292Z",
     "iopub.status.busy": "2022-08-23T00:48:28.711636Z",
     "iopub.status.idle": "2022-08-23T00:48:28.723501Z",
     "shell.execute_reply": "2022-08-23T00:48:28.723987Z"
    },
    "papermill": {
     "duration": 0.044441,
     "end_time": "2022-08-23T00:48:28.724127",
     "exception": false,
     "start_time": "2022-08-23T00:48:28.679686",
     "status": "completed"
    },
    "tags": []
   },
   "outputs": [],
   "source": [
    "class Config:\n",
    "    pass\n",
    "config = Config()\n",
    "config.lr = 0.001\n",
    "config.num_epochs = 250\n",
    "config.bs = 50"
   ]
  },
  {
   "cell_type": "markdown",
   "id": "1385fa59",
   "metadata": {
    "papermill": {
     "duration": 0.026737,
     "end_time": "2022-08-23T00:48:28.777764",
     "exception": false,
     "start_time": "2022-08-23T00:48:28.751027",
     "status": "completed"
    },
    "tags": []
   },
   "source": [
    "### Running Models with the Training data\n",
    "Details about the network layers:\n",
    "- A first affine layer has 784 inputs and does 100 affine transforms. These are followed by a Relu\n",
    "- A second affine layer has 100 inputs from the 100 activations of the past layer, and does 100 affine transforms. These are followed by a Relu\n",
    "- A third affine layer has 100 activations and does 2 affine transformations to create an embedding for visualization. There is no non-linearity here.\n",
    "- A final \"logistic regression\" which has an affine transform from 2 inputs to 1 output, which is squeezed through a sigmoid.\n"
   ]
  },
  {
   "cell_type": "code",
   "execution_count": 17,
   "id": "2b9c66db",
   "metadata": {
    "execution": {
     "iopub.execute_input": "2022-08-23T00:48:28.835962Z",
     "iopub.status.busy": "2022-08-23T00:48:28.835358Z",
     "iopub.status.idle": "2022-08-23T00:48:28.849188Z",
     "shell.execute_reply": "2022-08-23T00:48:28.848703Z"
    },
    "papermill": {
     "duration": 0.044803,
     "end_time": "2022-08-23T00:48:28.849304",
     "exception": false,
     "start_time": "2022-08-23T00:48:28.804501",
     "status": "completed"
    },
    "tags": []
   },
   "outputs": [],
   "source": [
    "data = Data(X_train, y_train.reshape(-1,1))\n",
    "sampler = Sampler(data, config.bs, shuffle=True)\n",
    "\n",
    "dl = Dataloader(data, sampler)\n",
    "\n",
    "opt = GD(config.lr)\n",
    "loss = MSE()"
   ]
  },
  {
   "cell_type": "code",
   "execution_count": 18,
   "id": "b275e4c2",
   "metadata": {
    "execution": {
     "iopub.execute_input": "2022-08-23T00:48:28.909378Z",
     "iopub.status.busy": "2022-08-23T00:48:28.908781Z",
     "iopub.status.idle": "2022-08-23T00:48:28.920746Z",
     "shell.execute_reply": "2022-08-23T00:48:28.921224Z"
    },
    "papermill": {
     "duration": 0.04514,
     "end_time": "2022-08-23T00:48:28.921355",
     "exception": false,
     "start_time": "2022-08-23T00:48:28.876215",
     "status": "completed"
    },
    "tags": []
   },
   "outputs": [],
   "source": [
    "training_data_x = X_train\n",
    "testing_data_x = X_test\n",
    "training_data_y = y_train.reshape(-1,1)\n",
    "testing_data_y = y_test.reshape(-1,1)"
   ]
  },
  {
   "cell_type": "code",
   "execution_count": 19,
   "id": "76951160",
   "metadata": {
    "execution": {
     "iopub.execute_input": "2022-08-23T00:48:28.991114Z",
     "iopub.status.busy": "2022-08-23T00:48:28.990486Z",
     "iopub.status.idle": "2022-08-23T00:48:29.003993Z",
     "shell.execute_reply": "2022-08-23T00:48:29.002885Z"
    },
    "papermill": {
     "duration": 0.055944,
     "end_time": "2022-08-23T00:48:29.004111",
     "exception": false,
     "start_time": "2022-08-23T00:48:28.948167",
     "status": "completed"
    },
    "tags": []
   },
   "outputs": [
    {
     "name": "stdout",
     "output_type": "stream",
     "text": [
      "xavier\n",
      "xavier\n",
      "xavier\n",
      "xavier\n",
      "xavier\n"
     ]
    }
   ],
   "source": [
    "layers = [Affine(\"first\", 784, 100), Relu(\"first\"), Affine(\"second\", 100, 100), Relu(\"second\"), Affine(\"third\", 100, 2), Affine(\"last\", 2, 1), Sigmoid(\"last\")]\n",
    "model_nn = Model(layers)\n",
    "model_lr = Model([Affine(\"logits\", 784, 1), Sigmoid(\"sigmoid\")])"
   ]
  },
  {
   "cell_type": "code",
   "execution_count": 20,
   "id": "6eede77a",
   "metadata": {
    "execution": {
     "iopub.execute_input": "2022-08-23T00:48:29.074780Z",
     "iopub.status.busy": "2022-08-23T00:48:29.070279Z",
     "iopub.status.idle": "2022-08-23T00:48:29.078890Z",
     "shell.execute_reply": "2022-08-23T00:48:29.078412Z"
    },
    "papermill": {
     "duration": 0.047814,
     "end_time": "2022-08-23T00:48:29.079004",
     "exception": false,
     "start_time": "2022-08-23T00:48:29.031190",
     "status": "completed"
    },
    "tags": []
   },
   "outputs": [],
   "source": [
    "nn_learner = Learner(loss, model_nn, opt, config.num_epochs)\n",
    "acc_nn = ClfCallback(nn_learner, config.bs, training_data_x , testing_data_x, training_data_y, testing_data_y)\n",
    "nn_learner.set_callbacks([acc_nn])"
   ]
  },
  {
   "cell_type": "code",
   "execution_count": 21,
   "id": "877b6cc7",
   "metadata": {
    "execution": {
     "iopub.execute_input": "2022-08-23T00:48:29.142554Z",
     "iopub.status.busy": "2022-08-23T00:48:29.141965Z",
     "iopub.status.idle": "2022-08-23T00:48:29.151140Z",
     "shell.execute_reply": "2022-08-23T00:48:29.151613Z"
    },
    "papermill": {
     "duration": 0.045611,
     "end_time": "2022-08-23T00:48:29.151743",
     "exception": false,
     "start_time": "2022-08-23T00:48:29.106132",
     "status": "completed"
    },
    "tags": []
   },
   "outputs": [],
   "source": [
    "lr_learner = Learner(loss, model_lr, opt, config.num_epochs)\n",
    "acc_lr = ClfCallback(lr_learner, config.bs, training_data_x , testing_data_x, training_data_y, testing_data_y)\n",
    "lr_learner.set_callbacks([acc_lr])"
   ]
  },
  {
   "cell_type": "code",
   "execution_count": 22,
   "id": "d9b133c3",
   "metadata": {
    "execution": {
     "iopub.execute_input": "2022-08-23T00:48:29.210209Z",
     "iopub.status.busy": "2022-08-23T00:48:29.209598Z",
     "iopub.status.idle": "2022-08-23T00:49:47.387654Z",
     "shell.execute_reply": "2022-08-23T00:49:47.388524Z"
    },
    "papermill": {
     "duration": 78.209848,
     "end_time": "2022-08-23T00:49:47.388677",
     "exception": false,
     "start_time": "2022-08-23T00:48:29.178829",
     "status": "completed"
    },
    "tags": []
   },
   "outputs": [
    {
     "name": "stdout",
     "output_type": "stream",
     "text": [
      "Epoch 0, Loss 0.227\n",
      "Training Accuracy: 0.7444, Testing Accuracy: 0.7797\n",
      "\n"
     ]
    },
    {
     "name": "stdout",
     "output_type": "stream",
     "text": [
      "Epoch 10, Loss 0.0797\n",
      "Training Accuracy: 0.9258, Testing Accuracy: 0.9385\n",
      "\n"
     ]
    },
    {
     "name": "stdout",
     "output_type": "stream",
     "text": [
      "Epoch 20, Loss 0.0531\n",
      "Training Accuracy: 0.9424, Testing Accuracy: 0.9521\n",
      "\n"
     ]
    },
    {
     "name": "stdout",
     "output_type": "stream",
     "text": [
      "Epoch 30, Loss 0.0436\n",
      "Training Accuracy: 0.9498, Testing Accuracy: 0.9597\n",
      "\n"
     ]
    },
    {
     "name": "stdout",
     "output_type": "stream",
     "text": [
      "Epoch 40, Loss 0.0385\n",
      "Training Accuracy: 0.9543, Testing Accuracy: 0.9647\n",
      "\n"
     ]
    },
    {
     "name": "stdout",
     "output_type": "stream",
     "text": [
      "Epoch 50, Loss 0.0352\n",
      "Training Accuracy: 0.9582, Testing Accuracy: 0.9682\n",
      "\n"
     ]
    },
    {
     "name": "stdout",
     "output_type": "stream",
     "text": [
      "Epoch 60, Loss 0.0328\n",
      "Training Accuracy: 0.9620, Testing Accuracy: 0.9688\n",
      "\n"
     ]
    },
    {
     "name": "stdout",
     "output_type": "stream",
     "text": [
      "Epoch 70, Loss 0.031\n",
      "Training Accuracy: 0.9633, Testing Accuracy: 0.9693\n",
      "\n"
     ]
    },
    {
     "name": "stdout",
     "output_type": "stream",
     "text": [
      "Epoch 80, Loss 0.0295\n",
      "Training Accuracy: 0.9645, Testing Accuracy: 0.9703\n",
      "\n"
     ]
    },
    {
     "name": "stdout",
     "output_type": "stream",
     "text": [
      "Epoch 90, Loss 0.0282\n",
      "Training Accuracy: 0.9657, Testing Accuracy: 0.9703\n",
      "\n"
     ]
    },
    {
     "name": "stdout",
     "output_type": "stream",
     "text": [
      "Epoch 100, Loss 0.0271\n",
      "Training Accuracy: 0.9672, Testing Accuracy: 0.9713\n",
      "\n"
     ]
    },
    {
     "name": "stdout",
     "output_type": "stream",
     "text": [
      "Epoch 110, Loss 0.0262\n",
      "Training Accuracy: 0.9687, Testing Accuracy: 0.9713\n",
      "\n"
     ]
    },
    {
     "name": "stdout",
     "output_type": "stream",
     "text": [
      "Epoch 120, Loss 0.0253\n",
      "Training Accuracy: 0.9704, Testing Accuracy: 0.9718\n",
      "\n"
     ]
    },
    {
     "name": "stdout",
     "output_type": "stream",
     "text": [
      "Epoch 130, Loss 0.0245\n",
      "Training Accuracy: 0.9714, Testing Accuracy: 0.9713\n",
      "\n"
     ]
    },
    {
     "name": "stdout",
     "output_type": "stream",
     "text": [
      "Epoch 140, Loss 0.0238\n",
      "Training Accuracy: 0.9723, Testing Accuracy: 0.9718\n",
      "\n"
     ]
    },
    {
     "name": "stdout",
     "output_type": "stream",
     "text": [
      "Epoch 150, Loss 0.0232\n",
      "Training Accuracy: 0.9738, Testing Accuracy: 0.9708\n",
      "\n"
     ]
    },
    {
     "name": "stdout",
     "output_type": "stream",
     "text": [
      "Epoch 160, Loss 0.0226\n",
      "Training Accuracy: 0.9745, Testing Accuracy: 0.9718\n",
      "\n"
     ]
    },
    {
     "name": "stdout",
     "output_type": "stream",
     "text": [
      "Epoch 170, Loss 0.0221\n",
      "Training Accuracy: 0.9750, Testing Accuracy: 0.9728\n",
      "\n"
     ]
    },
    {
     "name": "stdout",
     "output_type": "stream",
     "text": [
      "Epoch 180, Loss 0.0215\n",
      "Training Accuracy: 0.9758, Testing Accuracy: 0.9738\n",
      "\n"
     ]
    },
    {
     "name": "stdout",
     "output_type": "stream",
     "text": [
      "Epoch 190, Loss 0.0211\n",
      "Training Accuracy: 0.9762, Testing Accuracy: 0.9743\n",
      "\n"
     ]
    },
    {
     "name": "stdout",
     "output_type": "stream",
     "text": [
      "Epoch 200, Loss 0.0206\n",
      "Training Accuracy: 0.9766, Testing Accuracy: 0.9733\n",
      "\n"
     ]
    },
    {
     "name": "stdout",
     "output_type": "stream",
     "text": [
      "Epoch 210, Loss 0.0201\n",
      "Training Accuracy: 0.9772, Testing Accuracy: 0.9738\n",
      "\n"
     ]
    },
    {
     "name": "stdout",
     "output_type": "stream",
     "text": [
      "Epoch 220, Loss 0.0197\n",
      "Training Accuracy: 0.9776, Testing Accuracy: 0.9743\n",
      "\n"
     ]
    },
    {
     "name": "stdout",
     "output_type": "stream",
     "text": [
      "Epoch 230, Loss 0.0193\n",
      "Training Accuracy: 0.9780, Testing Accuracy: 0.9743\n",
      "\n"
     ]
    },
    {
     "name": "stdout",
     "output_type": "stream",
     "text": [
      "Epoch 240, Loss 0.0189\n",
      "Training Accuracy: 0.9784, Testing Accuracy: 0.9748\n",
      "\n"
     ]
    },
    {
     "data": {
      "text/plain": [
       "0.006063652816255705"
      ]
     },
     "execution_count": 22,
     "metadata": {},
     "output_type": "execute_result"
    }
   ],
   "source": [
    "nn_learner.train_loop(dl)"
   ]
  },
  {
   "cell_type": "code",
   "execution_count": 23,
   "id": "e0163366",
   "metadata": {
    "execution": {
     "iopub.execute_input": "2022-08-23T00:49:47.467743Z",
     "iopub.status.busy": "2022-08-23T00:49:47.467102Z",
     "iopub.status.idle": "2022-08-23T00:50:01.803733Z",
     "shell.execute_reply": "2022-08-23T00:50:01.804622Z"
    },
    "papermill": {
     "duration": 14.380061,
     "end_time": "2022-08-23T00:50:01.804780",
     "exception": false,
     "start_time": "2022-08-23T00:49:47.424719",
     "status": "completed"
    },
    "tags": []
   },
   "outputs": [
    {
     "name": "stdout",
     "output_type": "stream",
     "text": [
      "Epoch 0, Loss 0.2504\n",
      "Training Accuracy: 0.6477, Testing Accuracy: 0.6230\n",
      "\n"
     ]
    },
    {
     "name": "stdout",
     "output_type": "stream",
     "text": [
      "Epoch 10, Loss 0.1027\n",
      "Training Accuracy: 0.9166, Testing Accuracy: 0.9219\n",
      "\n"
     ]
    },
    {
     "name": "stdout",
     "output_type": "stream",
     "text": [
      "Epoch 20, Loss 0.0786\n",
      "Training Accuracy: 0.9321, Testing Accuracy: 0.9400\n",
      "\n"
     ]
    },
    {
     "name": "stdout",
     "output_type": "stream",
     "text": [
      "Epoch 30, Loss 0.0677\n",
      "Training Accuracy: 0.9382, Testing Accuracy: 0.9496\n",
      "\n"
     ]
    },
    {
     "name": "stdout",
     "output_type": "stream",
     "text": [
      "Epoch 40, Loss 0.0612\n",
      "Training Accuracy: 0.9434, Testing Accuracy: 0.9501\n",
      "\n"
     ]
    },
    {
     "name": "stdout",
     "output_type": "stream",
     "text": [
      "Epoch 50, Loss 0.0568\n",
      "Training Accuracy: 0.9462, Testing Accuracy: 0.9531\n",
      "\n"
     ]
    },
    {
     "name": "stdout",
     "output_type": "stream",
     "text": [
      "Epoch 60, Loss 0.0535\n",
      "Training Accuracy: 0.9475, Testing Accuracy: 0.9541\n",
      "\n"
     ]
    },
    {
     "name": "stdout",
     "output_type": "stream",
     "text": [
      "Epoch 70, Loss 0.051\n",
      "Training Accuracy: 0.9493, Testing Accuracy: 0.9567\n",
      "\n"
     ]
    },
    {
     "name": "stdout",
     "output_type": "stream",
     "text": [
      "Epoch 80, Loss 0.049\n",
      "Training Accuracy: 0.9507, Testing Accuracy: 0.9592\n",
      "\n"
     ]
    },
    {
     "name": "stdout",
     "output_type": "stream",
     "text": [
      "Epoch 90, Loss 0.0473\n",
      "Training Accuracy: 0.9518, Testing Accuracy: 0.9612\n",
      "\n"
     ]
    },
    {
     "name": "stdout",
     "output_type": "stream",
     "text": [
      "Epoch 100, Loss 0.0459\n",
      "Training Accuracy: 0.9531, Testing Accuracy: 0.9632\n",
      "\n"
     ]
    },
    {
     "name": "stdout",
     "output_type": "stream",
     "text": [
      "Epoch 110, Loss 0.0447\n",
      "Training Accuracy: 0.9543, Testing Accuracy: 0.9642\n",
      "\n"
     ]
    },
    {
     "name": "stdout",
     "output_type": "stream",
     "text": [
      "Epoch 120, Loss 0.0436\n",
      "Training Accuracy: 0.9551, Testing Accuracy: 0.9647\n",
      "\n"
     ]
    },
    {
     "name": "stdout",
     "output_type": "stream",
     "text": [
      "Epoch 130, Loss 0.0427\n",
      "Training Accuracy: 0.9556, Testing Accuracy: 0.9652\n",
      "\n"
     ]
    },
    {
     "name": "stdout",
     "output_type": "stream",
     "text": [
      "Epoch 140, Loss 0.0419\n",
      "Training Accuracy: 0.9565, Testing Accuracy: 0.9657\n",
      "\n"
     ]
    },
    {
     "name": "stdout",
     "output_type": "stream",
     "text": [
      "Epoch 150, Loss 0.0412\n",
      "Training Accuracy: 0.9569, Testing Accuracy: 0.9657\n",
      "\n"
     ]
    },
    {
     "name": "stdout",
     "output_type": "stream",
     "text": [
      "Epoch 160, Loss 0.0405\n",
      "Training Accuracy: 0.9577, Testing Accuracy: 0.9657\n",
      "\n"
     ]
    },
    {
     "name": "stdout",
     "output_type": "stream",
     "text": [
      "Epoch 170, Loss 0.0399\n",
      "Training Accuracy: 0.9580, Testing Accuracy: 0.9662\n",
      "\n"
     ]
    },
    {
     "name": "stdout",
     "output_type": "stream",
     "text": [
      "Epoch 180, Loss 0.0393\n",
      "Training Accuracy: 0.9584, Testing Accuracy: 0.9662\n",
      "\n"
     ]
    },
    {
     "name": "stdout",
     "output_type": "stream",
     "text": [
      "Epoch 190, Loss 0.0388\n",
      "Training Accuracy: 0.9588, Testing Accuracy: 0.9662\n",
      "\n"
     ]
    },
    {
     "name": "stdout",
     "output_type": "stream",
     "text": [
      "Epoch 200, Loss 0.0384\n",
      "Training Accuracy: 0.9589, Testing Accuracy: 0.9657\n",
      "\n"
     ]
    },
    {
     "name": "stdout",
     "output_type": "stream",
     "text": [
      "Epoch 210, Loss 0.0379\n",
      "Training Accuracy: 0.9589, Testing Accuracy: 0.9657\n",
      "\n"
     ]
    },
    {
     "name": "stdout",
     "output_type": "stream",
     "text": [
      "Epoch 220, Loss 0.0375\n",
      "Training Accuracy: 0.9594, Testing Accuracy: 0.9662\n",
      "\n"
     ]
    },
    {
     "name": "stdout",
     "output_type": "stream",
     "text": [
      "Epoch 230, Loss 0.0371\n",
      "Training Accuracy: 0.9599, Testing Accuracy: 0.9672\n",
      "\n"
     ]
    },
    {
     "name": "stdout",
     "output_type": "stream",
     "text": [
      "Epoch 240, Loss 0.0368\n",
      "Training Accuracy: 0.9601, Testing Accuracy: 0.9682\n",
      "\n"
     ]
    },
    {
     "data": {
      "text/plain": [
       "0.03978003429651693"
      ]
     },
     "execution_count": 23,
     "metadata": {},
     "output_type": "execute_result"
    }
   ],
   "source": [
    "lr_learner.train_loop(dl)"
   ]
  },
  {
   "cell_type": "code",
   "execution_count": 24,
   "id": "ca410940",
   "metadata": {
    "execution": {
     "iopub.execute_input": "2022-08-23T00:50:01.895978Z",
     "iopub.status.busy": "2022-08-23T00:50:01.895330Z",
     "iopub.status.idle": "2022-08-23T00:50:02.132791Z",
     "shell.execute_reply": "2022-08-23T00:50:02.133249Z"
    },
    "papermill": {
     "duration": 0.287098,
     "end_time": "2022-08-23T00:50:02.133396",
     "exception": false,
     "start_time": "2022-08-23T00:50:01.846298",
     "status": "completed"
    },
    "tags": []
   },
   "outputs": [
    {
     "data": {
      "text/plain": [
       "<matplotlib.legend.Legend at 0x7f12d282af98>"
      ]
     },
     "execution_count": 24,
     "metadata": {},
     "output_type": "execute_result"
    },
    {
     "data": {
      "image/png": "[encoded data removed]",
      "text/plain": [
       "<Figure size 1080x720 with 1 Axes>"
      ]
     },
     "metadata": {
      "needs_background": "light"
     },
     "output_type": "display_data"
    }
   ],
   "source": [
    "#comparing the results of NN and LR\n",
    "plt.figure(figsize=(15,10))\n",
    "\n",
    "# Neural Network plots\n",
    "plt.plot(acc_nn.accuracies, 'r-', label = \"Training Accuracies - NN\")\n",
    "plt.plot(acc_nn.test_accuracies, 'g-', label = \"Testing Accuracies - NN\")\n",
    "\n",
    "# Logistic Regression plots\n",
    "plt.plot(acc_lr.accuracies, 'k-', label = \"Training Accuracies - LR\")\n",
    "plt.plot(acc_lr.test_accuracies, 'b-', label = \"Testing Accuracies - LR\")\n",
    "plt.legend()"
   ]
  },
  {
   "cell_type": "markdown",
   "id": "80dfb35c",
   "metadata": {
    "papermill": {
     "duration": 0.042666,
     "end_time": "2022-08-23T00:50:02.218412",
     "exception": false,
     "start_time": "2022-08-23T00:50:02.175746",
     "status": "completed"
    },
    "tags": []
   },
   "source": [
    "#### Plotting the outputs of this layer of the NN.\n"
   ]
  },
  {
   "cell_type": "code",
   "execution_count": 25,
   "id": "45eb2ff5",
   "metadata": {
    "execution": {
     "iopub.execute_input": "2022-08-23T00:50:02.311777Z",
     "iopub.status.busy": "2022-08-23T00:50:02.311002Z",
     "iopub.status.idle": "2022-08-23T00:50:02.330734Z",
     "shell.execute_reply": "2022-08-23T00:50:02.330072Z"
    },
    "papermill": {
     "duration": 0.070498,
     "end_time": "2022-08-23T00:50:02.330859",
     "exception": false,
     "start_time": "2022-08-23T00:50:02.260361",
     "status": "completed"
    },
    "tags": []
   },
   "outputs": [],
   "source": [
    "new_model = Model(layers[:-2])\n",
    "testing_plot = new_model(testing_data_x)"
   ]
  },
  {
   "cell_type": "code",
   "execution_count": 26,
   "id": "4c0a5485",
   "metadata": {
    "execution": {
     "iopub.execute_input": "2022-08-23T00:50:02.422784Z",
     "iopub.status.busy": "2022-08-23T00:50:02.422045Z",
     "iopub.status.idle": "2022-08-23T00:50:02.624234Z",
     "shell.execute_reply": "2022-08-23T00:50:02.623280Z"
    },
    "papermill": {
     "duration": 0.251121,
     "end_time": "2022-08-23T00:50:02.624402",
     "exception": false,
     "start_time": "2022-08-23T00:50:02.373281",
     "status": "completed"
    },
    "tags": []
   },
   "outputs": [
    {
     "data": {
      "text/plain": [
       "Text(0.5, 1.0, 'Outputs')"
      ]
     },
     "execution_count": 26,
     "metadata": {},
     "output_type": "execute_result"
    },
    {
     "data": {
      "image/png": "[encoded data removed]",
      "text/plain": [
       "<Figure size 576x504 with 1 Axes>"
      ]
     },
     "metadata": {
      "needs_background": "light"
     },
     "output_type": "display_data"
    }
   ],
   "source": [
    "# Plotting the scatter plot of points and color coding by class\n",
    "plt.figure(figsize=(8,7))\n",
    "plt.scatter(testing_plot[:,0], testing_plot[:,1], alpha = 0.1, c = y_test.ravel());\n",
    "plt.title('Outputs')"
   ]
  },
  {
   "cell_type": "markdown",
   "id": "a74fcf8f",
   "metadata": {
    "papermill": {
     "duration": 0.044196,
     "end_time": "2022-08-23T00:50:02.713095",
     "exception": false,
     "start_time": "2022-08-23T00:50:02.668899",
     "status": "completed"
    },
    "tags": []
   },
   "source": [
    "Probability contours"
   ]
  },
  {
   "cell_type": "code",
   "execution_count": 27,
   "id": "d0afc8e3",
   "metadata": {
    "execution": {
     "iopub.execute_input": "2022-08-23T00:50:02.843724Z",
     "iopub.status.busy": "2022-08-23T00:50:02.843006Z",
     "iopub.status.idle": "2022-08-23T00:50:02.856327Z",
     "shell.execute_reply": "2022-08-23T00:50:02.855796Z"
    },
    "papermill": {
     "duration": 0.098899,
     "end_time": "2022-08-23T00:50:02.856465",
     "exception": false,
     "start_time": "2022-08-23T00:50:02.757566",
     "status": "completed"
    },
    "tags": []
   },
   "outputs": [],
   "source": [
    "model_prob = Model(layers[-2:]) "
   ]
  },
  {
   "cell_type": "code",
   "execution_count": 28,
   "id": "9b96e238",
   "metadata": {
    "execution": {
     "iopub.execute_input": "2022-08-23T00:50:02.956662Z",
     "iopub.status.busy": "2022-08-23T00:50:02.956007Z",
     "iopub.status.idle": "2022-08-23T00:50:02.968420Z",
     "shell.execute_reply": "2022-08-23T00:50:02.968862Z"
    },
    "papermill": {
     "duration": 0.067816,
     "end_time": "2022-08-23T00:50:02.969013",
     "exception": false,
     "start_time": "2022-08-23T00:50:02.901197",
     "status": "completed"
    },
    "tags": []
   },
   "outputs": [],
   "source": [
    "#creating the x and y ranges according to the above generated plot.\n",
    "x_range = np.linspace(-4, 1, 100) \n",
    "y_range = np.linspace(-6, 6, 100) \n",
    "x_grid, y_grid = np.meshgrid(x_range, y_range) # x_grid and y_grig are of size 100 X 100\n",
    "\n",
    "# converting x_grid and y_grid to continuous arrays\n",
    "x_gridflat = np.ravel(x_grid)\n",
    "y_gridflat = np.ravel(y_grid)\n",
    "\n",
    "# The last layer of the current model takes two columns as input. Hence transpose of np.vstack() is required.\n",
    "X = np.vstack((x_gridflat, y_gridflat)).T\n",
    "\n",
    "prob_contour = model_prob(X).reshape(100,100) "
   ]
  },
  {
   "cell_type": "code",
   "execution_count": 29,
   "id": "da72499a",
   "metadata": {
    "execution": {
     "iopub.execute_input": "2022-08-23T00:50:03.067311Z",
     "iopub.status.busy": "2022-08-23T00:50:03.066677Z",
     "iopub.status.idle": "2022-08-23T00:50:03.312623Z",
     "shell.execute_reply": "2022-08-23T00:50:03.313064Z"
    },
    "papermill": {
     "duration": 0.299201,
     "end_time": "2022-08-23T00:50:03.313217",
     "exception": false,
     "start_time": "2022-08-23T00:50:03.014016",
     "status": "completed"
    },
    "tags": []
   },
   "outputs": [
    {
     "data": {
      "image/png": "[encoded data removed]",
      "text/plain": [
       "<Figure size 720x648 with 1 Axes>"
      ]
     },
     "metadata": {
      "needs_background": "light"
     },
     "output_type": "display_data"
    }
   ],
   "source": [
    "plt.figure(figsize=(10,9))\n",
    "plt.scatter(testing_plot[:,0], testing_plot[:,1], alpha = 0.1, c = y_test.ravel())\n",
    "contours = plt.contour(x_grid,y_grid,prob_contour)\n",
    "plt.title('Probability Contours')\n",
    "plt.clabel(contours, inline = True );"
   ]
  },
  {
   "cell_type": "code",
   "execution_count": null,
   "id": "e81b4ac7",
   "metadata": {
    "papermill": {
     "duration": 0.047046,
     "end_time": "2022-08-23T00:50:03.407764",
     "exception": false,
     "start_time": "2022-08-23T00:50:03.360718",
     "status": "completed"
    },
    "tags": []
   },
   "outputs": [],
   "source": []
  }
 ],
 "metadata": {
  "kernelspec": {
   "display_name": "Python 3",
   "language": "python",
   "name": "python3"
  },
  "language_info": {
   "codemirror_mode": {
    "name": "ipython",
    "version": 3
   },
   "file_extension": ".py",
   "mimetype": "text/x-python",
   "name": "python",
   "nbconvert_exporter": "python",
   "pygments_lexer": "ipython3",
   "version": "3.6.15"
  },
  "papermill": {
   "default_parameters": {},
   "duration": 101.029313,
   "end_time": "2022-08-23T00:50:03.875281",
   "environment_variables": {},
   "exception": null,
   "input_path": "2020-08-11-part2.ipynb",
   "output_path": "2020-08-11-part2.ipynb",
   "parameters": {},
   "start_time": "2022-08-23T00:48:22.845968",
   "version": "2.3.3"
  }
 },
 "nbformat": 4,
 "nbformat_minor": 5
}