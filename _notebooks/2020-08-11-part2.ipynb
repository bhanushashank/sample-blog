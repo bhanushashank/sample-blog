{
 "cells": [
  {
   "cell_type": "markdown",
   "id": "98380cd3",
   "metadata": {
    "papermill": {
     "duration": 0.032281,
     "end_time": "2022-01-22T00:22:23.650976",
     "exception": false,
     "start_time": "2022-01-22T00:22:23.618695",
     "status": "completed"
    },
    "tags": []
   },
   "source": [
    "# Distinguish Your Own Digits (DYOD)"
   ]
  },
  {
   "cell_type": "markdown",
   "id": "ef31240d",
   "metadata": {
    "papermill": {
     "duration": 0.027613,
     "end_time": "2022-01-22T00:22:23.706862",
     "exception": false,
     "start_time": "2022-01-22T00:22:23.679249",
     "status": "completed"
    },
    "tags": []
   },
   "source": [
    "You are going to write a classifier that distinguishes between the number 3 and number 8."
   ]
  },
  {
   "cell_type": "code",
   "execution_count": 1,
   "id": "b15c8646",
   "metadata": {
    "execution": {
     "iopub.execute_input": "2022-01-22T00:22:23.781181Z",
     "iopub.status.busy": "2022-01-22T00:22:23.780536Z",
     "iopub.status.idle": "2022-01-22T00:22:23.792183Z",
     "shell.execute_reply": "2022-01-22T00:22:23.792698Z"
    },
    "papermill": {
     "duration": 0.05678,
     "end_time": "2022-01-22T00:22:23.792871",
     "exception": false,
     "start_time": "2022-01-22T00:22:23.736091",
     "status": "completed"
    },
    "tags": []
   },
   "outputs": [],
   "source": [
    "%load_ext autoreload\n",
    "%autoreload 2"
   ]
  },
  {
   "cell_type": "code",
   "execution_count": 2,
   "id": "22ef38dc",
   "metadata": {
    "execution": {
     "iopub.execute_input": "2022-01-22T00:22:23.853052Z",
     "iopub.status.busy": "2022-01-22T00:22:23.852440Z",
     "iopub.status.idle": "2022-01-22T00:22:24.575864Z",
     "shell.execute_reply": "2022-01-22T00:22:24.574983Z"
    },
    "papermill": {
     "duration": 0.755998,
     "end_time": "2022-01-22T00:22:24.576225",
     "exception": false,
     "start_time": "2022-01-22T00:22:23.820227",
     "status": "completed"
    },
    "tags": []
   },
   "outputs": [],
   "source": [
    "%matplotlib inline\n",
    "import numpy as np\n",
    "import matplotlib.pyplot as plt\n",
    "import pandas as pd"
   ]
  },
  {
   "cell_type": "markdown",
   "id": "ba036198",
   "metadata": {
    "papermill": {
     "duration": 0.029249,
     "end_time": "2022-01-22T00:22:24.635717",
     "exception": false,
     "start_time": "2022-01-22T00:22:24.606468",
     "status": "completed"
    },
    "tags": []
   },
   "source": [
    "From the command line run `pip install mnist`. This is a library that will help you bring down the mnist dataset. If you run this from a notebook, you need to put  `!pip install mnist` in a cell by itself."
   ]
  },
  {
   "cell_type": "code",
   "execution_count": 3,
   "id": "bb6ad8a1",
   "metadata": {
    "execution": {
     "iopub.execute_input": "2022-01-22T00:22:24.697631Z",
     "iopub.status.busy": "2022-01-22T00:22:24.696931Z",
     "iopub.status.idle": "2022-01-22T00:22:26.738846Z",
     "shell.execute_reply": "2022-01-22T00:22:26.738039Z"
    },
    "papermill": {
     "duration": 2.075785,
     "end_time": "2022-01-22T00:22:26.738995",
     "exception": false,
     "start_time": "2022-01-22T00:22:24.663210",
     "status": "completed"
    },
    "tags": []
   },
   "outputs": [
    {
     "name": "stdout",
     "output_type": "stream",
     "text": [
      "Collecting mnist\r\n"
     ]
    },
    {
     "name": "stdout",
     "output_type": "stream",
     "text": [
      "  Downloading mnist-0.2.2-py2.py3-none-any.whl (3.5 kB)\r\n",
      "Requirement already satisfied: numpy in /opt/hostedtoolcache/Python/3.6.15/x64/lib/python3.6/site-packages (from mnist) (1.19.5)\r\n"
     ]
    },
    {
     "name": "stdout",
     "output_type": "stream",
     "text": [
      "Installing collected packages: mnist\r\n"
     ]
    },
    {
     "name": "stdout",
     "output_type": "stream",
     "text": [
      "Successfully installed mnist-0.2.2\r\n"
     ]
    }
   ],
   "source": [
    "!pip install mnist"
   ]
  },
  {
   "cell_type": "markdown",
   "id": "69df9c9a",
   "metadata": {
    "papermill": {
     "duration": 0.028143,
     "end_time": "2022-01-22T00:22:26.795363",
     "exception": false,
     "start_time": "2022-01-22T00:22:26.767220",
     "status": "completed"
    },
    "tags": []
   },
   "source": [
    "## Preparing the Data"
   ]
  },
  {
   "cell_type": "code",
   "execution_count": 4,
   "id": "7f69d806",
   "metadata": {
    "execution": {
     "iopub.execute_input": "2022-01-22T00:22:26.860513Z",
     "iopub.status.busy": "2022-01-22T00:22:26.858824Z",
     "iopub.status.idle": "2022-01-22T00:22:26.881079Z",
     "shell.execute_reply": "2022-01-22T00:22:26.880500Z"
    },
    "papermill": {
     "duration": 0.056979,
     "end_time": "2022-01-22T00:22:26.881211",
     "exception": false,
     "start_time": "2022-01-22T00:22:26.824232",
     "status": "completed"
    },
    "tags": []
   },
   "outputs": [],
   "source": [
    "import mnist"
   ]
  },
  {
   "cell_type": "code",
   "execution_count": 5,
   "id": "a411e44f",
   "metadata": {
    "execution": {
     "iopub.execute_input": "2022-01-22T00:22:26.943226Z",
     "iopub.status.busy": "2022-01-22T00:22:26.942605Z",
     "iopub.status.idle": "2022-01-22T00:22:27.556832Z",
     "shell.execute_reply": "2022-01-22T00:22:27.555534Z"
    },
    "papermill": {
     "duration": 0.646635,
     "end_time": "2022-01-22T00:22:27.556981",
     "exception": false,
     "start_time": "2022-01-22T00:22:26.910346",
     "status": "completed"
    },
    "tags": []
   },
   "outputs": [],
   "source": [
    "train_images = mnist.train_images()\n",
    "train_labels = mnist.train_labels()"
   ]
  },
  {
   "cell_type": "code",
   "execution_count": 6,
   "id": "dceab3a5",
   "metadata": {
    "execution": {
     "iopub.execute_input": "2022-01-22T00:22:27.619368Z",
     "iopub.status.busy": "2022-01-22T00:22:27.617667Z",
     "iopub.status.idle": "2022-01-22T00:22:27.637794Z",
     "shell.execute_reply": "2022-01-22T00:22:27.638426Z"
    },
    "papermill": {
     "duration": 0.053187,
     "end_time": "2022-01-22T00:22:27.638587",
     "exception": false,
     "start_time": "2022-01-22T00:22:27.585400",
     "status": "completed"
    },
    "tags": []
   },
   "outputs": [
    {
     "data": {
      "text/plain": [
       "((60000, 28, 28), (60000,))"
      ]
     },
     "execution_count": 6,
     "metadata": {},
     "output_type": "execute_result"
    }
   ],
   "source": [
    "train_images.shape, train_labels.shape"
   ]
  },
  {
   "cell_type": "code",
   "execution_count": 7,
   "id": "f50dc2bb",
   "metadata": {
    "execution": {
     "iopub.execute_input": "2022-01-22T00:22:27.704299Z",
     "iopub.status.busy": "2022-01-22T00:22:27.703681Z",
     "iopub.status.idle": "2022-01-22T00:22:27.852729Z",
     "shell.execute_reply": "2022-01-22T00:22:27.852183Z"
    },
    "papermill": {
     "duration": 0.185348,
     "end_time": "2022-01-22T00:22:27.852871",
     "exception": false,
     "start_time": "2022-01-22T00:22:27.667523",
     "status": "completed"
    },
    "tags": []
   },
   "outputs": [],
   "source": [
    "test_images = mnist.test_images()\n",
    "test_labels = mnist.test_labels()"
   ]
  },
  {
   "cell_type": "code",
   "execution_count": 8,
   "id": "fc38cf1b",
   "metadata": {
    "execution": {
     "iopub.execute_input": "2022-01-22T00:22:27.923169Z",
     "iopub.status.busy": "2022-01-22T00:22:27.922553Z",
     "iopub.status.idle": "2022-01-22T00:22:27.939379Z",
     "shell.execute_reply": "2022-01-22T00:22:27.940223Z"
    },
    "papermill": {
     "duration": 0.05135,
     "end_time": "2022-01-22T00:22:27.940469",
     "exception": false,
     "start_time": "2022-01-22T00:22:27.889119",
     "status": "completed"
    },
    "tags": []
   },
   "outputs": [
    {
     "data": {
      "text/plain": [
       "((10000, 28, 28), (10000,))"
      ]
     },
     "execution_count": 8,
     "metadata": {},
     "output_type": "execute_result"
    }
   ],
   "source": [
    "test_images.shape, test_labels.shape"
   ]
  },
  {
   "cell_type": "code",
   "execution_count": 9,
   "id": "f9ed8fe0",
   "metadata": {
    "execution": {
     "iopub.execute_input": "2022-01-22T00:22:28.006868Z",
     "iopub.status.busy": "2022-01-22T00:22:28.006105Z",
     "iopub.status.idle": "2022-01-22T00:22:28.169681Z",
     "shell.execute_reply": "2022-01-22T00:22:28.169175Z"
    },
    "papermill": {
     "duration": 0.198484,
     "end_time": "2022-01-22T00:22:28.169830",
     "exception": false,
     "start_time": "2022-01-22T00:22:27.971346",
     "status": "completed"
    },
    "tags": []
   },
   "outputs": [
    {
     "name": "stdout",
     "output_type": "stream",
     "text": [
      "2\n"
     ]
    },
    {
     "data": {
      "text/plain": [
       "<matplotlib.image.AxesImage at 0x7fd149bbdac8>"
      ]
     },
     "execution_count": 9,
     "metadata": {},
     "output_type": "execute_result"
    },
    {
     "data": {
      "image/png": "[encoded data removed]",
      "text/plain": [
       "<Figure size 432x288 with 1 Axes>"
      ]
     },
     "metadata": {
      "needs_background": "light"
     },
     "output_type": "display_data"
    }
   ],
   "source": [
    "image_index = 7776 # You may select anything up to 60,000\n",
    "print(train_labels[image_index]) \n",
    "plt.imshow(train_images[image_index], cmap='Greys')"
   ]
  },
  {
   "cell_type": "markdown",
   "id": "a8d2388d",
   "metadata": {
    "papermill": {
     "duration": 0.030977,
     "end_time": "2022-01-22T00:22:28.230782",
     "exception": false,
     "start_time": "2022-01-22T00:22:28.199805",
     "status": "completed"
    },
    "tags": []
   },
   "source": [
    "## Filter data to get 3 and 8 out"
   ]
  },
  {
   "cell_type": "code",
   "execution_count": 10,
   "id": "776f7fc7",
   "metadata": {
    "execution": {
     "iopub.execute_input": "2022-01-22T00:22:28.297116Z",
     "iopub.status.busy": "2022-01-22T00:22:28.296486Z",
     "iopub.status.idle": "2022-01-22T00:22:28.318960Z",
     "shell.execute_reply": "2022-01-22T00:22:28.318309Z"
    },
    "papermill": {
     "duration": 0.058309,
     "end_time": "2022-01-22T00:22:28.319107",
     "exception": false,
     "start_time": "2022-01-22T00:22:28.260798",
     "status": "completed"
    },
    "tags": []
   },
   "outputs": [],
   "source": [
    "train_filter = np.where((train_labels == 3 ) | (train_labels == 8))\n",
    "test_filter = np.where((test_labels == 3) | (test_labels == 8))\n",
    "X_train, y_train = train_images[train_filter], train_labels[train_filter]\n",
    "X_test, y_test = test_images[test_filter], test_labels[test_filter]"
   ]
  },
  {
   "cell_type": "markdown",
   "id": "948f0b7e",
   "metadata": {
    "papermill": {
     "duration": 0.030297,
     "end_time": "2022-01-22T00:22:28.380103",
     "exception": false,
     "start_time": "2022-01-22T00:22:28.349806",
     "status": "completed"
    },
    "tags": []
   },
   "source": [
    "We normalize the pizel values in the 0 to 1 range"
   ]
  },
  {
   "cell_type": "code",
   "execution_count": 11,
   "id": "ee4c2166",
   "metadata": {
    "execution": {
     "iopub.execute_input": "2022-01-22T00:22:28.445819Z",
     "iopub.status.busy": "2022-01-22T00:22:28.444690Z",
     "iopub.status.idle": "2022-01-22T00:22:28.504225Z",
     "shell.execute_reply": "2022-01-22T00:22:28.503429Z"
    },
    "papermill": {
     "duration": 0.093333,
     "end_time": "2022-01-22T00:22:28.504426",
     "exception": false,
     "start_time": "2022-01-22T00:22:28.411093",
     "status": "completed"
    },
    "tags": []
   },
   "outputs": [],
   "source": [
    "X_train = X_train/255.\n",
    "X_test = X_test/255."
   ]
  },
  {
   "cell_type": "markdown",
   "id": "ddcf4fab",
   "metadata": {
    "papermill": {
     "duration": 0.029907,
     "end_time": "2022-01-22T00:22:28.567219",
     "exception": false,
     "start_time": "2022-01-22T00:22:28.537312",
     "status": "completed"
    },
    "tags": []
   },
   "source": [
    "And setup the labels as 1 (when the digit is 3) and 0 (when the digit is 8)"
   ]
  },
  {
   "cell_type": "code",
   "execution_count": 12,
   "id": "7dc908f2",
   "metadata": {
    "execution": {
     "iopub.execute_input": "2022-01-22T00:22:28.642815Z",
     "iopub.status.busy": "2022-01-22T00:22:28.642179Z",
     "iopub.status.idle": "2022-01-22T00:22:28.656406Z",
     "shell.execute_reply": "2022-01-22T00:22:28.655789Z"
    },
    "papermill": {
     "duration": 0.052301,
     "end_time": "2022-01-22T00:22:28.656547",
     "exception": false,
     "start_time": "2022-01-22T00:22:28.604246",
     "status": "completed"
    },
    "tags": []
   },
   "outputs": [],
   "source": [
    "y_train = 1*(y_train==3)\n",
    "y_test = 1*(y_test==3)"
   ]
  },
  {
   "cell_type": "code",
   "execution_count": 13,
   "id": "01e4e969",
   "metadata": {
    "execution": {
     "iopub.execute_input": "2022-01-22T00:22:28.723262Z",
     "iopub.status.busy": "2022-01-22T00:22:28.722653Z",
     "iopub.status.idle": "2022-01-22T00:22:28.737901Z",
     "shell.execute_reply": "2022-01-22T00:22:28.737388Z"
    },
    "papermill": {
     "duration": 0.050887,
     "end_time": "2022-01-22T00:22:28.738053",
     "exception": false,
     "start_time": "2022-01-22T00:22:28.687166",
     "status": "completed"
    },
    "tags": []
   },
   "outputs": [
    {
     "data": {
      "text/plain": [
       "((11982, 28, 28), (1984, 28, 28))"
      ]
     },
     "execution_count": 13,
     "metadata": {},
     "output_type": "execute_result"
    }
   ],
   "source": [
    "X_train.shape, X_test.shape"
   ]
  },
  {
   "cell_type": "markdown",
   "id": "5ccf3f85",
   "metadata": {
    "papermill": {
     "duration": 0.030643,
     "end_time": "2022-01-22T00:22:28.798949",
     "exception": false,
     "start_time": "2022-01-22T00:22:28.768306",
     "status": "completed"
    },
    "tags": []
   },
   "source": [
    "We reshape the data to flatten the image pixels into a set of features or co-variates:"
   ]
  },
  {
   "cell_type": "code",
   "execution_count": 14,
   "id": "5286a4a3",
   "metadata": {
    "execution": {
     "iopub.execute_input": "2022-01-22T00:22:28.866753Z",
     "iopub.status.busy": "2022-01-22T00:22:28.865657Z",
     "iopub.status.idle": "2022-01-22T00:22:28.883262Z",
     "shell.execute_reply": "2022-01-22T00:22:28.883737Z"
    },
    "papermill": {
     "duration": 0.053661,
     "end_time": "2022-01-22T00:22:28.883888",
     "exception": false,
     "start_time": "2022-01-22T00:22:28.830227",
     "status": "completed"
    },
    "tags": []
   },
   "outputs": [
    {
     "data": {
      "text/plain": [
       "((11982, 784), (1984, 784))"
      ]
     },
     "execution_count": 14,
     "metadata": {},
     "output_type": "execute_result"
    }
   ],
   "source": [
    "X_train = X_train.reshape(X_train.shape[0], -1)\n",
    "X_test = X_test.reshape(X_test.shape[0], -1)\n",
    "X_train.shape, X_test.shape"
   ]
  },
  {
   "cell_type": "code",
   "execution_count": 15,
   "id": "73c5f88a",
   "metadata": {
    "execution": {
     "iopub.execute_input": "2022-01-22T00:22:28.955551Z",
     "iopub.status.busy": "2022-01-22T00:22:28.954937Z",
     "iopub.status.idle": "2022-01-22T00:22:28.977132Z",
     "shell.execute_reply": "2022-01-22T00:22:28.976452Z"
    },
    "papermill": {
     "duration": 0.062607,
     "end_time": "2022-01-22T00:22:28.977292",
     "exception": false,
     "start_time": "2022-01-22T00:22:28.914685",
     "status": "completed"
    },
    "tags": []
   },
   "outputs": [],
   "source": [
    "#Impoting functions from 'Kudzu'\n",
    "from kudzu.model import Model\n",
    "from kudzu.train import Learner\n",
    "from kudzu.optim import GD\n",
    "from kudzu.data import Data, Sampler,Dataloader\n",
    "\n",
    "from kudzu.callbacks import AccCallback\n",
    "from kudzu.callbacks import ClfCallback\n",
    "\n",
    "from kudzu.loss import MSE\n",
    "\n",
    "from kudzu.layer import Sigmoid,Relu\n",
    "from kudzu.layer import Affine"
   ]
  },
  {
   "cell_type": "markdown",
   "id": "bc01172a",
   "metadata": {
    "papermill": {
     "duration": 0.030255,
     "end_time": "2022-01-22T00:22:29.038567",
     "exception": false,
     "start_time": "2022-01-22T00:22:29.008312",
     "status": "completed"
    },
    "tags": []
   },
   "source": [
    "### Let us create a `Config` class, to store important parameters. \n",
    "This class essentially plays the role of a dictionary."
   ]
  },
  {
   "cell_type": "code",
   "execution_count": 16,
   "id": "978281aa",
   "metadata": {
    "execution": {
     "iopub.execute_input": "2022-01-22T00:22:29.110457Z",
     "iopub.status.busy": "2022-01-22T00:22:29.109787Z",
     "iopub.status.idle": "2022-01-22T00:22:29.121309Z",
     "shell.execute_reply": "2022-01-22T00:22:29.120803Z"
    },
    "papermill": {
     "duration": 0.051308,
     "end_time": "2022-01-22T00:22:29.121437",
     "exception": false,
     "start_time": "2022-01-22T00:22:29.070129",
     "status": "completed"
    },
    "tags": []
   },
   "outputs": [],
   "source": [
    "class Config:\n",
    "    pass\n",
    "config = Config()\n",
    "config.lr = 0.001\n",
    "config.num_epochs = 250\n",
    "config.bs = 50"
   ]
  },
  {
   "cell_type": "markdown",
   "id": "1385fa59",
   "metadata": {
    "papermill": {
     "duration": 0.032317,
     "end_time": "2022-01-22T00:22:29.183973",
     "exception": false,
     "start_time": "2022-01-22T00:22:29.151656",
     "status": "completed"
    },
    "tags": []
   },
   "source": [
    "### Running Models with the Training data\n",
    "Details about the network layers:\n",
    "- A first affine layer has 784 inputs and does 100 affine transforms. These are followed by a Relu\n",
    "- A second affine layer has 100 inputs from the 100 activations of the past layer, and does 100 affine transforms. These are followed by a Relu\n",
    "- A third affine layer has 100 activations and does 2 affine transformations to create an embedding for visualization. There is no non-linearity here.\n",
    "- A final \"logistic regression\" which has an affine transform from 2 inputs to 1 output, which is squeezed through a sigmoid.\n"
   ]
  },
  {
   "cell_type": "code",
   "execution_count": 17,
   "id": "2b9c66db",
   "metadata": {
    "execution": {
     "iopub.execute_input": "2022-01-22T00:22:29.253503Z",
     "iopub.status.busy": "2022-01-22T00:22:29.252885Z",
     "iopub.status.idle": "2022-01-22T00:22:29.266639Z",
     "shell.execute_reply": "2022-01-22T00:22:29.266083Z"
    },
    "papermill": {
     "duration": 0.051526,
     "end_time": "2022-01-22T00:22:29.266770",
     "exception": false,
     "start_time": "2022-01-22T00:22:29.215244",
     "status": "completed"
    },
    "tags": []
   },
   "outputs": [],
   "source": [
    "data = Data(X_train, y_train.reshape(-1,1))\n",
    "sampler = Sampler(data, config.bs, shuffle=True)\n",
    "\n",
    "dl = Dataloader(data, sampler)\n",
    "\n",
    "opt = GD(config.lr)\n",
    "loss = MSE()"
   ]
  },
  {
   "cell_type": "code",
   "execution_count": 18,
   "id": "b275e4c2",
   "metadata": {
    "execution": {
     "iopub.execute_input": "2022-01-22T00:22:29.335692Z",
     "iopub.status.busy": "2022-01-22T00:22:29.334901Z",
     "iopub.status.idle": "2022-01-22T00:22:29.351683Z",
     "shell.execute_reply": "2022-01-22T00:22:29.350981Z"
    },
    "papermill": {
     "duration": 0.052275,
     "end_time": "2022-01-22T00:22:29.351831",
     "exception": false,
     "start_time": "2022-01-22T00:22:29.299556",
     "status": "completed"
    },
    "tags": []
   },
   "outputs": [],
   "source": [
    "training_data_x = X_train\n",
    "testing_data_x = X_test\n",
    "training_data_y = y_train.reshape(-1,1)\n",
    "testing_data_y = y_test.reshape(-1,1)"
   ]
  },
  {
   "cell_type": "code",
   "execution_count": 19,
   "id": "76951160",
   "metadata": {
    "execution": {
     "iopub.execute_input": "2022-01-22T00:22:29.420087Z",
     "iopub.status.busy": "2022-01-22T00:22:29.419467Z",
     "iopub.status.idle": "2022-01-22T00:22:29.438382Z",
     "shell.execute_reply": "2022-01-22T00:22:29.437833Z"
    },
    "papermill": {
     "duration": 0.055489,
     "end_time": "2022-01-22T00:22:29.438517",
     "exception": false,
     "start_time": "2022-01-22T00:22:29.383028",
     "status": "completed"
    },
    "tags": []
   },
   "outputs": [
    {
     "name": "stdout",
     "output_type": "stream",
     "text": [
      "xavier\n",
      "xavier\n",
      "xavier\n",
      "xavier\n",
      "xavier\n"
     ]
    }
   ],
   "source": [
    "layers = [Affine(\"first\", 784, 100), Relu(\"first\"), Affine(\"second\", 100, 100), Relu(\"second\"), Affine(\"third\", 100, 2), Affine(\"last\", 2, 1), Sigmoid(\"last\")]\n",
    "model_nn = Model(layers)\n",
    "model_lr = Model([Affine(\"logits\", 784, 1), Sigmoid(\"sigmoid\")])"
   ]
  },
  {
   "cell_type": "code",
   "execution_count": 20,
   "id": "6eede77a",
   "metadata": {
    "execution": {
     "iopub.execute_input": "2022-01-22T00:22:29.523574Z",
     "iopub.status.busy": "2022-01-22T00:22:29.522946Z",
     "iopub.status.idle": "2022-01-22T00:22:29.538709Z",
     "shell.execute_reply": "2022-01-22T00:22:29.538148Z"
    },
    "papermill": {
     "duration": 0.069117,
     "end_time": "2022-01-22T00:22:29.538842",
     "exception": false,
     "start_time": "2022-01-22T00:22:29.469725",
     "status": "completed"
    },
    "tags": []
   },
   "outputs": [],
   "source": [
    "nn_learner = Learner(loss, model_nn, opt, config.num_epochs)\n",
    "acc_nn = ClfCallback(nn_learner, config.bs, training_data_x , testing_data_x, training_data_y, testing_data_y)\n",
    "nn_learner.set_callbacks([acc_nn])"
   ]
  },
  {
   "cell_type": "code",
   "execution_count": 21,
   "id": "877b6cc7",
   "metadata": {
    "execution": {
     "iopub.execute_input": "2022-01-22T00:22:29.606855Z",
     "iopub.status.busy": "2022-01-22T00:22:29.606165Z",
     "iopub.status.idle": "2022-01-22T00:22:29.620803Z",
     "shell.execute_reply": "2022-01-22T00:22:29.620223Z"
    },
    "papermill": {
     "duration": 0.050923,
     "end_time": "2022-01-22T00:22:29.620936",
     "exception": false,
     "start_time": "2022-01-22T00:22:29.570013",
     "status": "completed"
    },
    "tags": []
   },
   "outputs": [],
   "source": [
    "lr_learner = Learner(loss, model_lr, opt, config.num_epochs)\n",
    "acc_lr = ClfCallback(lr_learner, config.bs, training_data_x , testing_data_x, training_data_y, testing_data_y)\n",
    "lr_learner.set_callbacks([acc_lr])"
   ]
  },
  {
   "cell_type": "code",
   "execution_count": 22,
   "id": "d9b133c3",
   "metadata": {
    "execution": {
     "iopub.execute_input": "2022-01-22T00:22:29.688995Z",
     "iopub.status.busy": "2022-01-22T00:22:29.688395Z",
     "iopub.status.idle": "2022-01-22T00:24:02.784802Z",
     "shell.execute_reply": "2022-01-22T00:24:02.785720Z"
    },
    "papermill": {
     "duration": 93.132706,
     "end_time": "2022-01-22T00:24:02.785892",
     "exception": false,
     "start_time": "2022-01-22T00:22:29.653186",
     "status": "completed"
    },
    "tags": []
   },
   "outputs": [
    {
     "name": "stdout",
     "output_type": "stream",
     "text": [
      "Epoch 0, Loss 0.216\n",
      "Training Accuracy: 0.7937, Testing Accuracy: 0.7994\n",
      "\n"
     ]
    },
    {
     "name": "stdout",
     "output_type": "stream",
     "text": [
      "Epoch 10, Loss 0.0587\n",
      "Training Accuracy: 0.9409, Testing Accuracy: 0.9486\n",
      "\n"
     ]
    },
    {
     "name": "stdout",
     "output_type": "stream",
     "text": [
      "Epoch 20, Loss 0.0414\n",
      "Training Accuracy: 0.9556, Testing Accuracy: 0.9642\n",
      "\n"
     ]
    },
    {
     "name": "stdout",
     "output_type": "stream",
     "text": [
      "Epoch 30, Loss 0.0347\n",
      "Training Accuracy: 0.9615, Testing Accuracy: 0.9698\n",
      "\n"
     ]
    },
    {
     "name": "stdout",
     "output_type": "stream",
     "text": [
      "Epoch 40, Loss 0.031\n",
      "Training Accuracy: 0.9649, Testing Accuracy: 0.9723\n",
      "\n"
     ]
    },
    {
     "name": "stdout",
     "output_type": "stream",
     "text": [
      "Epoch 50, Loss 0.0285\n",
      "Training Accuracy: 0.9676, Testing Accuracy: 0.9738\n",
      "\n"
     ]
    },
    {
     "name": "stdout",
     "output_type": "stream",
     "text": [
      "Epoch 60, Loss 0.0266\n",
      "Training Accuracy: 0.9698, Testing Accuracy: 0.9763\n",
      "\n"
     ]
    },
    {
     "name": "stdout",
     "output_type": "stream",
     "text": [
      "Epoch 70, Loss 0.0252\n",
      "Training Accuracy: 0.9715, Testing Accuracy: 0.9773\n",
      "\n"
     ]
    },
    {
     "name": "stdout",
     "output_type": "stream",
     "text": [
      "Epoch 80, Loss 0.024\n",
      "Training Accuracy: 0.9732, Testing Accuracy: 0.9768\n",
      "\n"
     ]
    },
    {
     "name": "stdout",
     "output_type": "stream",
     "text": [
      "Epoch 90, Loss 0.0229\n",
      "Training Accuracy: 0.9743, Testing Accuracy: 0.9783\n",
      "\n"
     ]
    },
    {
     "name": "stdout",
     "output_type": "stream",
     "text": [
      "Epoch 100, Loss 0.022\n",
      "Training Accuracy: 0.9753, Testing Accuracy: 0.9793\n",
      "\n"
     ]
    },
    {
     "name": "stdout",
     "output_type": "stream",
     "text": [
      "Epoch 110, Loss 0.0213\n",
      "Training Accuracy: 0.9758, Testing Accuracy: 0.9793\n",
      "\n"
     ]
    },
    {
     "name": "stdout",
     "output_type": "stream",
     "text": [
      "Epoch 120, Loss 0.0205\n",
      "Training Accuracy: 0.9769, Testing Accuracy: 0.9798\n",
      "\n"
     ]
    },
    {
     "name": "stdout",
     "output_type": "stream",
     "text": [
      "Epoch 130, Loss 0.0199\n",
      "Training Accuracy: 0.9783, Testing Accuracy: 0.9803\n",
      "\n"
     ]
    },
    {
     "name": "stdout",
     "output_type": "stream",
     "text": [
      "Epoch 140, Loss 0.0192\n",
      "Training Accuracy: 0.9791, Testing Accuracy: 0.9803\n",
      "\n"
     ]
    },
    {
     "name": "stdout",
     "output_type": "stream",
     "text": [
      "Epoch 150, Loss 0.0187\n",
      "Training Accuracy: 0.9797, Testing Accuracy: 0.9808\n",
      "\n"
     ]
    },
    {
     "name": "stdout",
     "output_type": "stream",
     "text": [
      "Epoch 160, Loss 0.0181\n",
      "Training Accuracy: 0.9810, Testing Accuracy: 0.9808\n",
      "\n"
     ]
    },
    {
     "name": "stdout",
     "output_type": "stream",
     "text": [
      "Epoch 170, Loss 0.0176\n",
      "Training Accuracy: 0.9812, Testing Accuracy: 0.9808\n",
      "\n"
     ]
    },
    {
     "name": "stdout",
     "output_type": "stream",
     "text": [
      "Epoch 180, Loss 0.0171\n",
      "Training Accuracy: 0.9822, Testing Accuracy: 0.9814\n",
      "\n"
     ]
    },
    {
     "name": "stdout",
     "output_type": "stream",
     "text": [
      "Epoch 190, Loss 0.0166\n",
      "Training Accuracy: 0.9828, Testing Accuracy: 0.9814\n",
      "\n"
     ]
    },
    {
     "name": "stdout",
     "output_type": "stream",
     "text": [
      "Epoch 200, Loss 0.0161\n",
      "Training Accuracy: 0.9836, Testing Accuracy: 0.9814\n",
      "\n"
     ]
    },
    {
     "name": "stdout",
     "output_type": "stream",
     "text": [
      "Epoch 210, Loss 0.0157\n",
      "Training Accuracy: 0.9838, Testing Accuracy: 0.9814\n",
      "\n"
     ]
    },
    {
     "name": "stdout",
     "output_type": "stream",
     "text": [
      "Epoch 220, Loss 0.0153\n",
      "Training Accuracy: 0.9845, Testing Accuracy: 0.9814\n",
      "\n"
     ]
    },
    {
     "name": "stdout",
     "output_type": "stream",
     "text": [
      "Epoch 230, Loss 0.0149\n",
      "Training Accuracy: 0.9850, Testing Accuracy: 0.9819\n",
      "\n"
     ]
    },
    {
     "name": "stdout",
     "output_type": "stream",
     "text": [
      "Epoch 240, Loss 0.0145\n",
      "Training Accuracy: 0.9852, Testing Accuracy: 0.9819\n",
      "\n"
     ]
    },
    {
     "data": {
      "text/plain": [
       "0.0029153160757426112"
      ]
     },
     "execution_count": 22,
     "metadata": {},
     "output_type": "execute_result"
    }
   ],
   "source": [
    "nn_learner.train_loop(dl)"
   ]
  },
  {
   "cell_type": "code",
   "execution_count": 23,
   "id": "e0163366",
   "metadata": {
    "execution": {
     "iopub.execute_input": "2022-01-22T00:24:02.876301Z",
     "iopub.status.busy": "2022-01-22T00:24:02.875529Z",
     "iopub.status.idle": "2022-01-22T00:24:19.430233Z",
     "shell.execute_reply": "2022-01-22T00:24:19.431068Z"
    },
    "papermill": {
     "duration": 16.604482,
     "end_time": "2022-01-22T00:24:19.431238",
     "exception": false,
     "start_time": "2022-01-22T00:24:02.826756",
     "status": "completed"
    },
    "tags": []
   },
   "outputs": [
    {
     "name": "stdout",
     "output_type": "stream",
     "text": [
      "Epoch 0, Loss 0.2971\n",
      "Training Accuracy: 0.4281, Testing Accuracy: 0.4375\n",
      "\n"
     ]
    },
    {
     "name": "stdout",
     "output_type": "stream",
     "text": [
      "Epoch 10, Loss 0.1063\n",
      "Training Accuracy: 0.9092, Testing Accuracy: 0.9194\n",
      "\n"
     ]
    },
    {
     "name": "stdout",
     "output_type": "stream",
     "text": [
      "Epoch 20, Loss 0.08\n",
      "Training Accuracy: 0.9276, Testing Accuracy: 0.9395\n",
      "\n"
     ]
    },
    {
     "name": "stdout",
     "output_type": "stream",
     "text": [
      "Epoch 30, Loss 0.0687\n",
      "Training Accuracy: 0.9367, Testing Accuracy: 0.9471\n",
      "\n"
     ]
    },
    {
     "name": "stdout",
     "output_type": "stream",
     "text": [
      "Epoch 40, Loss 0.062\n",
      "Training Accuracy: 0.9413, Testing Accuracy: 0.9496\n",
      "\n"
     ]
    },
    {
     "name": "stdout",
     "output_type": "stream",
     "text": [
      "Epoch 50, Loss 0.0575\n",
      "Training Accuracy: 0.9447, Testing Accuracy: 0.9531\n",
      "\n"
     ]
    },
    {
     "name": "stdout",
     "output_type": "stream",
     "text": [
      "Epoch 60, Loss 0.0542\n",
      "Training Accuracy: 0.9462, Testing Accuracy: 0.9551\n",
      "\n"
     ]
    },
    {
     "name": "stdout",
     "output_type": "stream",
     "text": [
      "Epoch 70, Loss 0.0516\n",
      "Training Accuracy: 0.9474, Testing Accuracy: 0.9582\n",
      "\n"
     ]
    },
    {
     "name": "stdout",
     "output_type": "stream",
     "text": [
      "Epoch 80, Loss 0.0496\n",
      "Training Accuracy: 0.9486, Testing Accuracy: 0.9597\n",
      "\n"
     ]
    },
    {
     "name": "stdout",
     "output_type": "stream",
     "text": [
      "Epoch 90, Loss 0.0479\n",
      "Training Accuracy: 0.9506, Testing Accuracy: 0.9602\n",
      "\n"
     ]
    },
    {
     "name": "stdout",
     "output_type": "stream",
     "text": [
      "Epoch 100, Loss 0.0465\n",
      "Training Accuracy: 0.9513, Testing Accuracy: 0.9592\n",
      "\n"
     ]
    },
    {
     "name": "stdout",
     "output_type": "stream",
     "text": [
      "Epoch 110, Loss 0.0453\n",
      "Training Accuracy: 0.9523, Testing Accuracy: 0.9607\n",
      "\n"
     ]
    },
    {
     "name": "stdout",
     "output_type": "stream",
     "text": [
      "Epoch 120, Loss 0.0442\n",
      "Training Accuracy: 0.9538, Testing Accuracy: 0.9622\n",
      "\n"
     ]
    },
    {
     "name": "stdout",
     "output_type": "stream",
     "text": [
      "Epoch 130, Loss 0.0433\n",
      "Training Accuracy: 0.9549, Testing Accuracy: 0.9617\n",
      "\n"
     ]
    },
    {
     "name": "stdout",
     "output_type": "stream",
     "text": [
      "Epoch 140, Loss 0.0424\n",
      "Training Accuracy: 0.9555, Testing Accuracy: 0.9627\n",
      "\n"
     ]
    },
    {
     "name": "stdout",
     "output_type": "stream",
     "text": [
      "Epoch 150, Loss 0.0417\n",
      "Training Accuracy: 0.9560, Testing Accuracy: 0.9637\n",
      "\n"
     ]
    },
    {
     "name": "stdout",
     "output_type": "stream",
     "text": [
      "Epoch 160, Loss 0.041\n",
      "Training Accuracy: 0.9569, Testing Accuracy: 0.9642\n",
      "\n"
     ]
    },
    {
     "name": "stdout",
     "output_type": "stream",
     "text": [
      "Epoch 170, Loss 0.0404\n",
      "Training Accuracy: 0.9571, Testing Accuracy: 0.9647\n",
      "\n"
     ]
    },
    {
     "name": "stdout",
     "output_type": "stream",
     "text": [
      "Epoch 180, Loss 0.0398\n",
      "Training Accuracy: 0.9574, Testing Accuracy: 0.9647\n",
      "\n"
     ]
    },
    {
     "name": "stdout",
     "output_type": "stream",
     "text": [
      "Epoch 190, Loss 0.0393\n",
      "Training Accuracy: 0.9577, Testing Accuracy: 0.9647\n",
      "\n"
     ]
    },
    {
     "name": "stdout",
     "output_type": "stream",
     "text": [
      "Epoch 200, Loss 0.0388\n",
      "Training Accuracy: 0.9577, Testing Accuracy: 0.9647\n",
      "\n"
     ]
    },
    {
     "name": "stdout",
     "output_type": "stream",
     "text": [
      "Epoch 210, Loss 0.0384\n",
      "Training Accuracy: 0.9582, Testing Accuracy: 0.9647\n",
      "\n"
     ]
    },
    {
     "name": "stdout",
     "output_type": "stream",
     "text": [
      "Epoch 220, Loss 0.0379\n",
      "Training Accuracy: 0.9586, Testing Accuracy: 0.9657\n",
      "\n"
     ]
    },
    {
     "name": "stdout",
     "output_type": "stream",
     "text": [
      "Epoch 230, Loss 0.0376\n",
      "Training Accuracy: 0.9589, Testing Accuracy: 0.9662\n",
      "\n"
     ]
    },
    {
     "name": "stdout",
     "output_type": "stream",
     "text": [
      "Epoch 240, Loss 0.0372\n",
      "Training Accuracy: 0.9590, Testing Accuracy: 0.9657\n",
      "\n"
     ]
    },
    {
     "data": {
      "text/plain": [
       "0.06813786126309897"
      ]
     },
     "execution_count": 23,
     "metadata": {},
     "output_type": "execute_result"
    }
   ],
   "source": [
    "lr_learner.train_loop(dl)"
   ]
  },
  {
   "cell_type": "code",
   "execution_count": 24,
   "id": "ca410940",
   "metadata": {
    "execution": {
     "iopub.execute_input": "2022-01-22T00:24:19.551867Z",
     "iopub.status.busy": "2022-01-22T00:24:19.551091Z",
     "iopub.status.idle": "2022-01-22T00:24:19.837448Z",
     "shell.execute_reply": "2022-01-22T00:24:19.836839Z"
    },
    "papermill": {
     "duration": 0.358877,
     "end_time": "2022-01-22T00:24:19.837594",
     "exception": false,
     "start_time": "2022-01-22T00:24:19.478717",
     "status": "completed"
    },
    "tags": []
   },
   "outputs": [
    {
     "data": {
      "text/plain": [
       "<matplotlib.legend.Legend at 0x7fd149718f60>"
      ]
     },
     "execution_count": 24,
     "metadata": {},
     "output_type": "execute_result"
    },
    {
     "data": {
      "image/png": "[encoded data removed]",
      "text/plain": [
       "<Figure size 1080x720 with 1 Axes>"
      ]
     },
     "metadata": {
      "needs_background": "light"
     },
     "output_type": "display_data"
    }
   ],
   "source": [
    "#comparing the results of NN and LR\n",
    "plt.figure(figsize=(15,10))\n",
    "\n",
    "# Neural Network plots\n",
    "plt.plot(acc_nn.accuracies, 'r-', label = \"Training Accuracies - NN\")\n",
    "plt.plot(acc_nn.test_accuracies, 'g-', label = \"Testing Accuracies - NN\")\n",
    "\n",
    "# Logistic Regression plots\n",
    "plt.plot(acc_lr.accuracies, 'k-', label = \"Training Accuracies - LR\")\n",
    "plt.plot(acc_lr.test_accuracies, 'b-', label = \"Testing Accuracies - LR\")\n",
    "plt.legend()"
   ]
  },
  {
   "cell_type": "markdown",
   "id": "80dfb35c",
   "metadata": {
    "papermill": {
     "duration": 0.051566,
     "end_time": "2022-01-22T00:24:19.937161",
     "exception": false,
     "start_time": "2022-01-22T00:24:19.885595",
     "status": "completed"
    },
    "tags": []
   },
   "source": [
    "#### Plotting the outputs of this layer of the NN.\n"
   ]
  },
  {
   "cell_type": "code",
   "execution_count": 25,
   "id": "45eb2ff5",
   "metadata": {
    "execution": {
     "iopub.execute_input": "2022-01-22T00:24:20.050802Z",
     "iopub.status.busy": "2022-01-22T00:24:20.049530Z",
     "iopub.status.idle": "2022-01-22T00:24:20.074732Z",
     "shell.execute_reply": "2022-01-22T00:24:20.075525Z"
    },
    "papermill": {
     "duration": 0.090078,
     "end_time": "2022-01-22T00:24:20.075779",
     "exception": false,
     "start_time": "2022-01-22T00:24:19.985701",
     "status": "completed"
    },
    "tags": []
   },
   "outputs": [],
   "source": [
    "new_model = Model(layers[:-2])\n",
    "testing_plot = new_model(testing_data_x)"
   ]
  },
  {
   "cell_type": "code",
   "execution_count": 26,
   "id": "4c0a5485",
   "metadata": {
    "execution": {
     "iopub.execute_input": "2022-01-22T00:24:20.187761Z",
     "iopub.status.busy": "2022-01-22T00:24:20.187103Z",
     "iopub.status.idle": "2022-01-22T00:24:20.444534Z",
     "shell.execute_reply": "2022-01-22T00:24:20.445022Z"
    },
    "papermill": {
     "duration": 0.311833,
     "end_time": "2022-01-22T00:24:20.445177",
     "exception": false,
     "start_time": "2022-01-22T00:24:20.133344",
     "status": "completed"
    },
    "tags": []
   },
   "outputs": [
    {
     "data": {
      "text/plain": [
       "Text(0.5, 1.0, 'Outputs')"
      ]
     },
     "execution_count": 26,
     "metadata": {},
     "output_type": "execute_result"
    },
    {
     "data": {
      "image/png": "[encoded data removed]",
      "text/plain": [
       "<Figure size 576x504 with 1 Axes>"
      ]
     },
     "metadata": {
      "needs_background": "light"
     },
     "output_type": "display_data"
    }
   ],
   "source": [
    "# Plotting the scatter plot of points and color coding by class\n",
    "plt.figure(figsize=(8,7))\n",
    "plt.scatter(testing_plot[:,0], testing_plot[:,1], alpha = 0.1, c = y_test.ravel());\n",
    "plt.title('Outputs')"
   ]
  },
  {
   "cell_type": "markdown",
   "id": "a74fcf8f",
   "metadata": {
    "papermill": {
     "duration": 0.050534,
     "end_time": "2022-01-22T00:24:20.548013",
     "exception": false,
     "start_time": "2022-01-22T00:24:20.497479",
     "status": "completed"
    },
    "tags": []
   },
   "source": [
    "Probability contours"
   ]
  },
  {
   "cell_type": "code",
   "execution_count": 27,
   "id": "d0afc8e3",
   "metadata": {
    "execution": {
     "iopub.execute_input": "2022-01-22T00:24:20.659861Z",
     "iopub.status.busy": "2022-01-22T00:24:20.658952Z",
     "iopub.status.idle": "2022-01-22T00:24:20.669969Z",
     "shell.execute_reply": "2022-01-22T00:24:20.669457Z"
    },
    "papermill": {
     "duration": 0.071097,
     "end_time": "2022-01-22T00:24:20.670120",
     "exception": false,
     "start_time": "2022-01-22T00:24:20.599023",
     "status": "completed"
    },
    "tags": []
   },
   "outputs": [],
   "source": [
    "model_prob = Model(layers[-2:]) "
   ]
  },
  {
   "cell_type": "code",
   "execution_count": 28,
   "id": "9b96e238",
   "metadata": {
    "execution": {
     "iopub.execute_input": "2022-01-22T00:24:20.829409Z",
     "iopub.status.busy": "2022-01-22T00:24:20.828802Z",
     "iopub.status.idle": "2022-01-22T00:24:20.842057Z",
     "shell.execute_reply": "2022-01-22T00:24:20.842530Z"
    },
    "papermill": {
     "duration": 0.077762,
     "end_time": "2022-01-22T00:24:20.842689",
     "exception": false,
     "start_time": "2022-01-22T00:24:20.764927",
     "status": "completed"
    },
    "tags": []
   },
   "outputs": [],
   "source": [
    "#creating the x and y ranges according to the above generated plot.\n",
    "x_range = np.linspace(-4, 1, 100) \n",
    "y_range = np.linspace(-6, 6, 100) \n",
    "x_grid, y_grid = np.meshgrid(x_range, y_range) # x_grid and y_grig are of size 100 X 100\n",
    "\n",
    "# converting x_grid and y_grid to continuous arrays\n",
    "x_gridflat = np.ravel(x_grid)\n",
    "y_gridflat = np.ravel(y_grid)\n",
    "\n",
    "# The last layer of the current model takes two columns as input. Hence transpose of np.vstack() is required.\n",
    "X = np.vstack((x_gridflat, y_gridflat)).T\n",
    "\n",
    "prob_contour = model_prob(X).reshape(100,100) "
   ]
  },
  {
   "cell_type": "code",
   "execution_count": 29,
   "id": "da72499a",
   "metadata": {
    "execution": {
     "iopub.execute_input": "2022-01-22T00:24:20.963717Z",
     "iopub.status.busy": "2022-01-22T00:24:20.963022Z",
     "iopub.status.idle": "2022-01-22T00:24:21.238868Z",
     "shell.execute_reply": "2022-01-22T00:24:21.239353Z"
    },
    "papermill": {
     "duration": 0.34439,
     "end_time": "2022-01-22T00:24:21.239510",
     "exception": false,
     "start_time": "2022-01-22T00:24:20.895120",
     "status": "completed"
    },
    "tags": []
   },
   "outputs": [
    {
     "data": {
      "image/png": "[encoded data removed]",
      "text/plain": [
       "<Figure size 720x648 with 1 Axes>"
      ]
     },
     "metadata": {
      "needs_background": "light"
     },
     "output_type": "display_data"
    }
   ],
   "source": [
    "plt.figure(figsize=(10,9))\n",
    "plt.scatter(testing_plot[:,0], testing_plot[:,1], alpha = 0.1, c = y_test.ravel())\n",
    "contours = plt.contour(x_grid,y_grid,prob_contour)\n",
    "plt.title('Probability Contours')\n",
    "plt.clabel(contours, inline = True );"
   ]
  },
  {
   "cell_type": "code",
   "execution_count": null,
   "id": "e81b4ac7",
   "metadata": {
    "papermill": {
     "duration": 0.054071,
     "end_time": "2022-01-22T00:24:21.349703",
     "exception": false,
     "start_time": "2022-01-22T00:24:21.295632",
     "status": "completed"
    },
    "tags": []
   },
   "outputs": [],
   "source": []
  }
 ],
 "metadata": {
  "kernelspec": {
   "display_name": "Python 3",
   "language": "python",
   "name": "python3"
  },
  "language_info": {
   "codemirror_mode": {
    "name": "ipython",
    "version": 3
   },
   "file_extension": ".py",
   "mimetype": "text/x-python",
   "name": "python",
   "nbconvert_exporter": "python",
   "pygments_lexer": "ipython3",
   "version": "3.6.15"
  },
  "papermill": {
   "default_parameters": {},
   "duration": 119.518756,
   "end_time": "2022-01-22T00:24:21.825500",
   "environment_variables": {},
   "exception": null,
   "input_path": "2020-08-11-part2.ipynb",
   "output_path": "2020-08-11-part2.ipynb",
   "parameters": {},
   "start_time": "2022-01-22T00:22:22.306744",
   "version": "2.3.3"
  }
 },
 "nbformat": 4,
 "nbformat_minor": 5
}