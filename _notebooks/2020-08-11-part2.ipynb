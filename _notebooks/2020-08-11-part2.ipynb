{
 "cells": [
  {
   "cell_type": "markdown",
   "id": "98380cd3",
   "metadata": {
    "papermill": {
     "duration": 0.032113,
     "end_time": "2021-10-09T20:07:41.378941",
     "exception": false,
     "start_time": "2021-10-09T20:07:41.346828",
     "status": "completed"
    },
    "tags": []
   },
   "source": [
    "# Distinguish Your Own Digits (DYOD)"
   ]
  },
  {
   "cell_type": "markdown",
   "id": "ef31240d",
   "metadata": {
    "papermill": {
     "duration": 0.027853,
     "end_time": "2021-10-09T20:07:41.436693",
     "exception": false,
     "start_time": "2021-10-09T20:07:41.408840",
     "status": "completed"
    },
    "tags": []
   },
   "source": [
    "You are going to write a classifier that distinguishes between the number 3 and number 8."
   ]
  },
  {
   "cell_type": "code",
   "execution_count": 1,
   "id": "b15c8646",
   "metadata": {
    "execution": {
     "iopub.execute_input": "2021-10-09T20:07:41.502974Z",
     "iopub.status.busy": "2021-10-09T20:07:41.502324Z",
     "iopub.status.idle": "2021-10-09T20:07:41.512646Z",
     "shell.execute_reply": "2021-10-09T20:07:41.513353Z"
    },
    "papermill": {
     "duration": 0.049986,
     "end_time": "2021-10-09T20:07:41.513537",
     "exception": false,
     "start_time": "2021-10-09T20:07:41.463551",
     "status": "completed"
    },
    "tags": []
   },
   "outputs": [],
   "source": [
    "%load_ext autoreload\n",
    "%autoreload 2"
   ]
  },
  {
   "cell_type": "code",
   "execution_count": 2,
   "id": "22ef38dc",
   "metadata": {
    "execution": {
     "iopub.execute_input": "2021-10-09T20:07:41.574275Z",
     "iopub.status.busy": "2021-10-09T20:07:41.573653Z",
     "iopub.status.idle": "2021-10-09T20:07:42.185211Z",
     "shell.execute_reply": "2021-10-09T20:07:42.184124Z"
    },
    "papermill": {
     "duration": 0.643859,
     "end_time": "2021-10-09T20:07:42.185363",
     "exception": false,
     "start_time": "2021-10-09T20:07:41.541504",
     "status": "completed"
    },
    "tags": []
   },
   "outputs": [],
   "source": [
    "%matplotlib inline\n",
    "import numpy as np\n",
    "import matplotlib.pyplot as plt\n",
    "import pandas as pd"
   ]
  },
  {
   "cell_type": "markdown",
   "id": "ba036198",
   "metadata": {
    "papermill": {
     "duration": 0.032209,
     "end_time": "2021-10-09T20:07:42.247702",
     "exception": false,
     "start_time": "2021-10-09T20:07:42.215493",
     "status": "completed"
    },
    "tags": []
   },
   "source": [
    "From the command line run `pip install mnist`. This is a library that will help you bring down the mnist dataset. If you run this from a notebook, you need to put  `!pip install mnist` in a cell by itself."
   ]
  },
  {
   "cell_type": "code",
   "execution_count": 3,
   "id": "bb6ad8a1",
   "metadata": {
    "execution": {
     "iopub.execute_input": "2021-10-09T20:07:42.317007Z",
     "iopub.status.busy": "2021-10-09T20:07:42.316385Z",
     "iopub.status.idle": "2021-10-09T20:07:44.184122Z",
     "shell.execute_reply": "2021-10-09T20:07:44.183559Z"
    },
    "papermill": {
     "duration": 1.906445,
     "end_time": "2021-10-09T20:07:44.184263",
     "exception": false,
     "start_time": "2021-10-09T20:07:42.277818",
     "status": "completed"
    },
    "tags": []
   },
   "outputs": [
    {
     "name": "stdout",
     "output_type": "stream",
     "text": [
      "Collecting mnist\r\n"
     ]
    },
    {
     "name": "stdout",
     "output_type": "stream",
     "text": [
      "  Downloading mnist-0.2.2-py2.py3-none-any.whl (3.5 kB)\r\n",
      "Requirement already satisfied: numpy in /opt/hostedtoolcache/Python/3.6.15/x64/lib/python3.6/site-packages (from mnist) (1.19.5)\r\n"
     ]
    },
    {
     "name": "stdout",
     "output_type": "stream",
     "text": [
      "Installing collected packages: mnist\r\n"
     ]
    },
    {
     "name": "stdout",
     "output_type": "stream",
     "text": [
      "Successfully installed mnist-0.2.2\r\n"
     ]
    }
   ],
   "source": [
    "!pip install mnist"
   ]
  },
  {
   "cell_type": "markdown",
   "id": "69df9c9a",
   "metadata": {
    "papermill": {
     "duration": 0.02951,
     "end_time": "2021-10-09T20:07:44.247912",
     "exception": false,
     "start_time": "2021-10-09T20:07:44.218402",
     "status": "completed"
    },
    "tags": []
   },
   "source": [
    "## Preparing the Data"
   ]
  },
  {
   "cell_type": "code",
   "execution_count": 4,
   "id": "7f69d806",
   "metadata": {
    "execution": {
     "iopub.execute_input": "2021-10-09T20:07:44.326148Z",
     "iopub.status.busy": "2021-10-09T20:07:44.319778Z",
     "iopub.status.idle": "2021-10-09T20:07:44.330777Z",
     "shell.execute_reply": "2021-10-09T20:07:44.330301Z"
    },
    "papermill": {
     "duration": 0.053968,
     "end_time": "2021-10-09T20:07:44.330967",
     "exception": false,
     "start_time": "2021-10-09T20:07:44.276999",
     "status": "completed"
    },
    "tags": []
   },
   "outputs": [],
   "source": [
    "import mnist"
   ]
  },
  {
   "cell_type": "code",
   "execution_count": 5,
   "id": "a411e44f",
   "metadata": {
    "execution": {
     "iopub.execute_input": "2021-10-09T20:07:44.392250Z",
     "iopub.status.busy": "2021-10-09T20:07:44.391541Z",
     "iopub.status.idle": "2021-10-09T20:07:44.981752Z",
     "shell.execute_reply": "2021-10-09T20:07:44.981219Z"
    },
    "papermill": {
     "duration": 0.621793,
     "end_time": "2021-10-09T20:07:44.981892",
     "exception": false,
     "start_time": "2021-10-09T20:07:44.360099",
     "status": "completed"
    },
    "tags": []
   },
   "outputs": [],
   "source": [
    "train_images = mnist.train_images()\n",
    "train_labels = mnist.train_labels()"
   ]
  },
  {
   "cell_type": "code",
   "execution_count": 6,
   "id": "dceab3a5",
   "metadata": {
    "execution": {
     "iopub.execute_input": "2021-10-09T20:07:45.042805Z",
     "iopub.status.busy": "2021-10-09T20:07:45.042204Z",
     "iopub.status.idle": "2021-10-09T20:07:45.058851Z",
     "shell.execute_reply": "2021-10-09T20:07:45.058332Z"
    },
    "papermill": {
     "duration": 0.048355,
     "end_time": "2021-10-09T20:07:45.058963",
     "exception": false,
     "start_time": "2021-10-09T20:07:45.010608",
     "status": "completed"
    },
    "tags": []
   },
   "outputs": [
    {
     "data": {
      "text/plain": [
       "((60000, 28, 28), (60000,))"
      ]
     },
     "execution_count": 6,
     "metadata": {},
     "output_type": "execute_result"
    }
   ],
   "source": [
    "train_images.shape, train_labels.shape"
   ]
  },
  {
   "cell_type": "code",
   "execution_count": 7,
   "id": "f50dc2bb",
   "metadata": {
    "execution": {
     "iopub.execute_input": "2021-10-09T20:07:45.118958Z",
     "iopub.status.busy": "2021-10-09T20:07:45.118364Z",
     "iopub.status.idle": "2021-10-09T20:07:45.383227Z",
     "shell.execute_reply": "2021-10-09T20:07:45.382618Z"
    },
    "papermill": {
     "duration": 0.295534,
     "end_time": "2021-10-09T20:07:45.383372",
     "exception": false,
     "start_time": "2021-10-09T20:07:45.087838",
     "status": "completed"
    },
    "tags": []
   },
   "outputs": [],
   "source": [
    "test_images = mnist.test_images()\n",
    "test_labels = mnist.test_labels()"
   ]
  },
  {
   "cell_type": "code",
   "execution_count": 8,
   "id": "fc38cf1b",
   "metadata": {
    "execution": {
     "iopub.execute_input": "2021-10-09T20:07:45.447778Z",
     "iopub.status.busy": "2021-10-09T20:07:45.445517Z",
     "iopub.status.idle": "2021-10-09T20:07:45.460216Z",
     "shell.execute_reply": "2021-10-09T20:07:45.460687Z"
    },
    "papermill": {
     "duration": 0.048104,
     "end_time": "2021-10-09T20:07:45.460806",
     "exception": false,
     "start_time": "2021-10-09T20:07:45.412702",
     "status": "completed"
    },
    "tags": []
   },
   "outputs": [
    {
     "data": {
      "text/plain": [
       "((10000, 28, 28), (10000,))"
      ]
     },
     "execution_count": 8,
     "metadata": {},
     "output_type": "execute_result"
    }
   ],
   "source": [
    "test_images.shape, test_labels.shape"
   ]
  },
  {
   "cell_type": "code",
   "execution_count": 9,
   "id": "f9ed8fe0",
   "metadata": {
    "execution": {
     "iopub.execute_input": "2021-10-09T20:07:45.520551Z",
     "iopub.status.busy": "2021-10-09T20:07:45.519943Z",
     "iopub.status.idle": "2021-10-09T20:07:45.688419Z",
     "shell.execute_reply": "2021-10-09T20:07:45.687872Z"
    },
    "papermill": {
     "duration": 0.200338,
     "end_time": "2021-10-09T20:07:45.688557",
     "exception": false,
     "start_time": "2021-10-09T20:07:45.488219",
     "status": "completed"
    },
    "tags": []
   },
   "outputs": [
    {
     "name": "stdout",
     "output_type": "stream",
     "text": [
      "2\n"
     ]
    },
    {
     "data": {
      "text/plain": [
       "<matplotlib.image.AxesImage at 0x7fb6707bb828>"
      ]
     },
     "execution_count": 9,
     "metadata": {},
     "output_type": "execute_result"
    },
    {
     "data": {
      "image/png": "[encoded data removed]",
      "text/plain": [
       "<Figure size 432x288 with 1 Axes>"
      ]
     },
     "metadata": {
      "needs_background": "light"
     },
     "output_type": "display_data"
    }
   ],
   "source": [
    "image_index = 7776 # You may select anything up to 60,000\n",
    "print(train_labels[image_index]) \n",
    "plt.imshow(train_images[image_index], cmap='Greys')"
   ]
  },
  {
   "cell_type": "markdown",
   "id": "a8d2388d",
   "metadata": {
    "papermill": {
     "duration": 0.033232,
     "end_time": "2021-10-09T20:07:45.753059",
     "exception": false,
     "start_time": "2021-10-09T20:07:45.719827",
     "status": "completed"
    },
    "tags": []
   },
   "source": [
    "## Filter data to get 3 and 8 out"
   ]
  },
  {
   "cell_type": "code",
   "execution_count": 10,
   "id": "776f7fc7",
   "metadata": {
    "execution": {
     "iopub.execute_input": "2021-10-09T20:07:45.818452Z",
     "iopub.status.busy": "2021-10-09T20:07:45.817851Z",
     "iopub.status.idle": "2021-10-09T20:07:45.836843Z",
     "shell.execute_reply": "2021-10-09T20:07:45.836334Z"
    },
    "papermill": {
     "duration": 0.054381,
     "end_time": "2021-10-09T20:07:45.836976",
     "exception": false,
     "start_time": "2021-10-09T20:07:45.782595",
     "status": "completed"
    },
    "tags": []
   },
   "outputs": [],
   "source": [
    "train_filter = np.where((train_labels == 3 ) | (train_labels == 8))\n",
    "test_filter = np.where((test_labels == 3) | (test_labels == 8))\n",
    "X_train, y_train = train_images[train_filter], train_labels[train_filter]\n",
    "X_test, y_test = test_images[test_filter], test_labels[test_filter]"
   ]
  },
  {
   "cell_type": "markdown",
   "id": "948f0b7e",
   "metadata": {
    "papermill": {
     "duration": 0.030104,
     "end_time": "2021-10-09T20:07:45.897181",
     "exception": false,
     "start_time": "2021-10-09T20:07:45.867077",
     "status": "completed"
    },
    "tags": []
   },
   "source": [
    "We normalize the pizel values in the 0 to 1 range"
   ]
  },
  {
   "cell_type": "code",
   "execution_count": 11,
   "id": "ee4c2166",
   "metadata": {
    "execution": {
     "iopub.execute_input": "2021-10-09T20:07:45.964671Z",
     "iopub.status.busy": "2021-10-09T20:07:45.964044Z",
     "iopub.status.idle": "2021-10-09T20:07:46.030715Z",
     "shell.execute_reply": "2021-10-09T20:07:46.030161Z"
    },
    "papermill": {
     "duration": 0.103912,
     "end_time": "2021-10-09T20:07:46.030862",
     "exception": false,
     "start_time": "2021-10-09T20:07:45.926950",
     "status": "completed"
    },
    "tags": []
   },
   "outputs": [],
   "source": [
    "X_train = X_train/255.\n",
    "X_test = X_test/255."
   ]
  },
  {
   "cell_type": "markdown",
   "id": "ddcf4fab",
   "metadata": {
    "papermill": {
     "duration": 0.033152,
     "end_time": "2021-10-09T20:07:46.097413",
     "exception": false,
     "start_time": "2021-10-09T20:07:46.064261",
     "status": "completed"
    },
    "tags": []
   },
   "source": [
    "And setup the labels as 1 (when the digit is 3) and 0 (when the digit is 8)"
   ]
  },
  {
   "cell_type": "code",
   "execution_count": 12,
   "id": "7dc908f2",
   "metadata": {
    "execution": {
     "iopub.execute_input": "2021-10-09T20:07:46.165759Z",
     "iopub.status.busy": "2021-10-09T20:07:46.165176Z",
     "iopub.status.idle": "2021-10-09T20:07:46.176176Z",
     "shell.execute_reply": "2021-10-09T20:07:46.175619Z"
    },
    "papermill": {
     "duration": 0.049436,
     "end_time": "2021-10-09T20:07:46.176309",
     "exception": false,
     "start_time": "2021-10-09T20:07:46.126873",
     "status": "completed"
    },
    "tags": []
   },
   "outputs": [],
   "source": [
    "y_train = 1*(y_train==3)\n",
    "y_test = 1*(y_test==3)"
   ]
  },
  {
   "cell_type": "code",
   "execution_count": 13,
   "id": "01e4e969",
   "metadata": {
    "execution": {
     "iopub.execute_input": "2021-10-09T20:07:46.240155Z",
     "iopub.status.busy": "2021-10-09T20:07:46.239582Z",
     "iopub.status.idle": "2021-10-09T20:07:46.252587Z",
     "shell.execute_reply": "2021-10-09T20:07:46.252084Z"
    },
    "papermill": {
     "duration": 0.045685,
     "end_time": "2021-10-09T20:07:46.252700",
     "exception": false,
     "start_time": "2021-10-09T20:07:46.207015",
     "status": "completed"
    },
    "tags": []
   },
   "outputs": [
    {
     "data": {
      "text/plain": [
       "((11982, 28, 28), (1984, 28, 28))"
      ]
     },
     "execution_count": 13,
     "metadata": {},
     "output_type": "execute_result"
    }
   ],
   "source": [
    "X_train.shape, X_test.shape"
   ]
  },
  {
   "cell_type": "markdown",
   "id": "5ccf3f85",
   "metadata": {
    "papermill": {
     "duration": 0.030482,
     "end_time": "2021-10-09T20:07:46.316190",
     "exception": false,
     "start_time": "2021-10-09T20:07:46.285708",
     "status": "completed"
    },
    "tags": []
   },
   "source": [
    "We reshape the data to flatten the image pixels into a set of features or co-variates:"
   ]
  },
  {
   "cell_type": "code",
   "execution_count": 14,
   "id": "5286a4a3",
   "metadata": {
    "execution": {
     "iopub.execute_input": "2021-10-09T20:07:46.398723Z",
     "iopub.status.busy": "2021-10-09T20:07:46.398086Z",
     "iopub.status.idle": "2021-10-09T20:07:46.400897Z",
     "shell.execute_reply": "2021-10-09T20:07:46.401376Z"
    },
    "papermill": {
     "duration": 0.051407,
     "end_time": "2021-10-09T20:07:46.401507",
     "exception": false,
     "start_time": "2021-10-09T20:07:46.350100",
     "status": "completed"
    },
    "tags": []
   },
   "outputs": [
    {
     "data": {
      "text/plain": [
       "((11982, 784), (1984, 784))"
      ]
     },
     "execution_count": 14,
     "metadata": {},
     "output_type": "execute_result"
    }
   ],
   "source": [
    "X_train = X_train.reshape(X_train.shape[0], -1)\n",
    "X_test = X_test.reshape(X_test.shape[0], -1)\n",
    "X_train.shape, X_test.shape"
   ]
  },
  {
   "cell_type": "code",
   "execution_count": 15,
   "id": "73c5f88a",
   "metadata": {
    "execution": {
     "iopub.execute_input": "2021-10-09T20:07:46.479890Z",
     "iopub.status.busy": "2021-10-09T20:07:46.467398Z",
     "iopub.status.idle": "2021-10-09T20:07:46.491283Z",
     "shell.execute_reply": "2021-10-09T20:07:46.492012Z"
    },
    "papermill": {
     "duration": 0.059913,
     "end_time": "2021-10-09T20:07:46.492146",
     "exception": false,
     "start_time": "2021-10-09T20:07:46.432233",
     "status": "completed"
    },
    "tags": []
   },
   "outputs": [],
   "source": [
    "#Impoting functions from 'Kudzu'\n",
    "from kudzu.model import Model\n",
    "from kudzu.train import Learner\n",
    "from kudzu.optim import GD\n",
    "from kudzu.data import Data, Sampler,Dataloader\n",
    "\n",
    "from kudzu.callbacks import AccCallback\n",
    "from kudzu.callbacks import ClfCallback\n",
    "\n",
    "from kudzu.loss import MSE\n",
    "\n",
    "from kudzu.layer import Sigmoid,Relu\n",
    "from kudzu.layer import Affine"
   ]
  },
  {
   "cell_type": "markdown",
   "id": "bc01172a",
   "metadata": {
    "papermill": {
     "duration": 0.030824,
     "end_time": "2021-10-09T20:07:46.555030",
     "exception": false,
     "start_time": "2021-10-09T20:07:46.524206",
     "status": "completed"
    },
    "tags": []
   },
   "source": [
    "### Let us create a `Config` class, to store important parameters. \n",
    "This class essentially plays the role of a dictionary."
   ]
  },
  {
   "cell_type": "code",
   "execution_count": 16,
   "id": "978281aa",
   "metadata": {
    "execution": {
     "iopub.execute_input": "2021-10-09T20:07:46.620053Z",
     "iopub.status.busy": "2021-10-09T20:07:46.619435Z",
     "iopub.status.idle": "2021-10-09T20:07:46.630246Z",
     "shell.execute_reply": "2021-10-09T20:07:46.630922Z"
    },
    "papermill": {
     "duration": 0.046302,
     "end_time": "2021-10-09T20:07:46.631102",
     "exception": false,
     "start_time": "2021-10-09T20:07:46.584800",
     "status": "completed"
    },
    "tags": []
   },
   "outputs": [],
   "source": [
    "class Config:\n",
    "    pass\n",
    "config = Config()\n",
    "config.lr = 0.001\n",
    "config.num_epochs = 250\n",
    "config.bs = 50"
   ]
  },
  {
   "cell_type": "markdown",
   "id": "1385fa59",
   "metadata": {
    "papermill": {
     "duration": 0.030844,
     "end_time": "2021-10-09T20:07:46.693079",
     "exception": false,
     "start_time": "2021-10-09T20:07:46.662235",
     "status": "completed"
    },
    "tags": []
   },
   "source": [
    "### Running Models with the Training data\n",
    "Details about the network layers:\n",
    "- A first affine layer has 784 inputs and does 100 affine transforms. These are followed by a Relu\n",
    "- A second affine layer has 100 inputs from the 100 activations of the past layer, and does 100 affine transforms. These are followed by a Relu\n",
    "- A third affine layer has 100 activations and does 2 affine transformations to create an embedding for visualization. There is no non-linearity here.\n",
    "- A final \"logistic regression\" which has an affine transform from 2 inputs to 1 output, which is squeezed through a sigmoid.\n"
   ]
  },
  {
   "cell_type": "code",
   "execution_count": 17,
   "id": "2b9c66db",
   "metadata": {
    "execution": {
     "iopub.execute_input": "2021-10-09T20:07:46.755977Z",
     "iopub.status.busy": "2021-10-09T20:07:46.755402Z",
     "iopub.status.idle": "2021-10-09T20:07:46.767306Z",
     "shell.execute_reply": "2021-10-09T20:07:46.767817Z"
    },
    "papermill": {
     "duration": 0.045249,
     "end_time": "2021-10-09T20:07:46.767944",
     "exception": false,
     "start_time": "2021-10-09T20:07:46.722695",
     "status": "completed"
    },
    "tags": []
   },
   "outputs": [],
   "source": [
    "data = Data(X_train, y_train.reshape(-1,1))\n",
    "sampler = Sampler(data, config.bs, shuffle=True)\n",
    "\n",
    "dl = Dataloader(data, sampler)\n",
    "\n",
    "opt = GD(config.lr)\n",
    "loss = MSE()"
   ]
  },
  {
   "cell_type": "code",
   "execution_count": 18,
   "id": "b275e4c2",
   "metadata": {
    "execution": {
     "iopub.execute_input": "2021-10-09T20:07:46.843206Z",
     "iopub.status.busy": "2021-10-09T20:07:46.840961Z",
     "iopub.status.idle": "2021-10-09T20:07:46.848124Z",
     "shell.execute_reply": "2021-10-09T20:07:46.847651Z"
    },
    "papermill": {
     "duration": 0.049239,
     "end_time": "2021-10-09T20:07:46.848235",
     "exception": false,
     "start_time": "2021-10-09T20:07:46.798996",
     "status": "completed"
    },
    "tags": []
   },
   "outputs": [],
   "source": [
    "training_data_x = X_train\n",
    "testing_data_x = X_test\n",
    "training_data_y = y_train.reshape(-1,1)\n",
    "testing_data_y = y_test.reshape(-1,1)"
   ]
  },
  {
   "cell_type": "code",
   "execution_count": 19,
   "id": "76951160",
   "metadata": {
    "execution": {
     "iopub.execute_input": "2021-10-09T20:07:46.929761Z",
     "iopub.status.busy": "2021-10-09T20:07:46.923564Z",
     "iopub.status.idle": "2021-10-09T20:07:46.932624Z",
     "shell.execute_reply": "2021-10-09T20:07:46.933105Z"
    },
    "papermill": {
     "duration": 0.05531,
     "end_time": "2021-10-09T20:07:46.933227",
     "exception": false,
     "start_time": "2021-10-09T20:07:46.877917",
     "status": "completed"
    },
    "tags": []
   },
   "outputs": [
    {
     "name": "stdout",
     "output_type": "stream",
     "text": [
      "xavier\n",
      "xavier\n",
      "xavier\n",
      "xavier\n",
      "xavier\n"
     ]
    }
   ],
   "source": [
    "layers = [Affine(\"first\", 784, 100), Relu(\"first\"), Affine(\"second\", 100, 100), Relu(\"second\"), Affine(\"third\", 100, 2), Affine(\"last\", 2, 1), Sigmoid(\"last\")]\n",
    "model_nn = Model(layers)\n",
    "model_lr = Model([Affine(\"logits\", 784, 1), Sigmoid(\"sigmoid\")])"
   ]
  },
  {
   "cell_type": "code",
   "execution_count": 20,
   "id": "6eede77a",
   "metadata": {
    "execution": {
     "iopub.execute_input": "2021-10-09T20:07:46.998660Z",
     "iopub.status.busy": "2021-10-09T20:07:46.998074Z",
     "iopub.status.idle": "2021-10-09T20:07:47.009465Z",
     "shell.execute_reply": "2021-10-09T20:07:47.008972Z"
    },
    "papermill": {
     "duration": 0.045849,
     "end_time": "2021-10-09T20:07:47.009575",
     "exception": false,
     "start_time": "2021-10-09T20:07:46.963726",
     "status": "completed"
    },
    "tags": []
   },
   "outputs": [],
   "source": [
    "nn_learner = Learner(loss, model_nn, opt, config.num_epochs)\n",
    "acc_nn = ClfCallback(nn_learner, config.bs, training_data_x , testing_data_x, training_data_y, testing_data_y)\n",
    "nn_learner.set_callbacks([acc_nn])"
   ]
  },
  {
   "cell_type": "code",
   "execution_count": 21,
   "id": "877b6cc7",
   "metadata": {
    "execution": {
     "iopub.execute_input": "2021-10-09T20:07:47.076659Z",
     "iopub.status.busy": "2021-10-09T20:07:47.076078Z",
     "iopub.status.idle": "2021-10-09T20:07:47.087847Z",
     "shell.execute_reply": "2021-10-09T20:07:47.087345Z"
    },
    "papermill": {
     "duration": 0.047753,
     "end_time": "2021-10-09T20:07:47.087957",
     "exception": false,
     "start_time": "2021-10-09T20:07:47.040204",
     "status": "completed"
    },
    "tags": []
   },
   "outputs": [],
   "source": [
    "lr_learner = Learner(loss, model_lr, opt, config.num_epochs)\n",
    "acc_lr = ClfCallback(lr_learner, config.bs, training_data_x , testing_data_x, training_data_y, testing_data_y)\n",
    "lr_learner.set_callbacks([acc_lr])"
   ]
  },
  {
   "cell_type": "code",
   "execution_count": 22,
   "id": "d9b133c3",
   "metadata": {
    "execution": {
     "iopub.execute_input": "2021-10-09T20:07:47.164956Z",
     "iopub.status.busy": "2021-10-09T20:07:47.159714Z",
     "iopub.status.idle": "2021-10-09T20:09:52.764830Z",
     "shell.execute_reply": "2021-10-09T20:09:52.765345Z"
    },
    "papermill": {
     "duration": 125.646354,
     "end_time": "2021-10-09T20:09:52.765503",
     "exception": false,
     "start_time": "2021-10-09T20:07:47.119149",
     "status": "completed"
    },
    "tags": []
   },
   "outputs": [
    {
     "name": "stdout",
     "output_type": "stream",
     "text": [
      "Epoch 0, Loss 0.2508\n",
      "Training Accuracy: 0.5320, Testing Accuracy: 0.5307\n",
      "\n"
     ]
    },
    {
     "name": "stdout",
     "output_type": "stream",
     "text": [
      "Epoch 10, Loss 0.1146\n",
      "Training Accuracy: 0.9040, Testing Accuracy: 0.9088\n",
      "\n"
     ]
    },
    {
     "name": "stdout",
     "output_type": "stream",
     "text": [
      "Epoch 20, Loss 0.0637\n",
      "Training Accuracy: 0.9344, Testing Accuracy: 0.9415\n",
      "\n"
     ]
    },
    {
     "name": "stdout",
     "output_type": "stream",
     "text": [
      "Epoch 30, Loss 0.0486\n",
      "Training Accuracy: 0.9468, Testing Accuracy: 0.9516\n",
      "\n"
     ]
    },
    {
     "name": "stdout",
     "output_type": "stream",
     "text": [
      "Epoch 40, Loss 0.0416\n",
      "Training Accuracy: 0.9526, Testing Accuracy: 0.9597\n",
      "\n"
     ]
    },
    {
     "name": "stdout",
     "output_type": "stream",
     "text": [
      "Epoch 50, Loss 0.0375\n",
      "Training Accuracy: 0.9564, Testing Accuracy: 0.9617\n",
      "\n"
     ]
    },
    {
     "name": "stdout",
     "output_type": "stream",
     "text": [
      "Epoch 60, Loss 0.0346\n",
      "Training Accuracy: 0.9592, Testing Accuracy: 0.9657\n",
      "\n"
     ]
    },
    {
     "name": "stdout",
     "output_type": "stream",
     "text": [
      "Epoch 70, Loss 0.0324\n",
      "Training Accuracy: 0.9618, Testing Accuracy: 0.9682\n",
      "\n"
     ]
    },
    {
     "name": "stdout",
     "output_type": "stream",
     "text": [
      "Epoch 80, Loss 0.0307\n",
      "Training Accuracy: 0.9642, Testing Accuracy: 0.9703\n",
      "\n"
     ]
    },
    {
     "name": "stdout",
     "output_type": "stream",
     "text": [
      "Epoch 90, Loss 0.0292\n",
      "Training Accuracy: 0.9664, Testing Accuracy: 0.9698\n",
      "\n"
     ]
    },
    {
     "name": "stdout",
     "output_type": "stream",
     "text": [
      "Epoch 100, Loss 0.028\n",
      "Training Accuracy: 0.9675, Testing Accuracy: 0.9703\n",
      "\n"
     ]
    },
    {
     "name": "stdout",
     "output_type": "stream",
     "text": [
      "Epoch 110, Loss 0.0269\n",
      "Training Accuracy: 0.9686, Testing Accuracy: 0.9718\n",
      "\n"
     ]
    },
    {
     "name": "stdout",
     "output_type": "stream",
     "text": [
      "Epoch 120, Loss 0.026\n",
      "Training Accuracy: 0.9693, Testing Accuracy: 0.9718\n",
      "\n"
     ]
    },
    {
     "name": "stdout",
     "output_type": "stream",
     "text": [
      "Epoch 130, Loss 0.0251\n",
      "Training Accuracy: 0.9702, Testing Accuracy: 0.9728\n",
      "\n"
     ]
    },
    {
     "name": "stdout",
     "output_type": "stream",
     "text": [
      "Epoch 140, Loss 0.0243\n",
      "Training Accuracy: 0.9711, Testing Accuracy: 0.9738\n",
      "\n"
     ]
    },
    {
     "name": "stdout",
     "output_type": "stream",
     "text": [
      "Epoch 150, Loss 0.0235\n",
      "Training Accuracy: 0.9719, Testing Accuracy: 0.9748\n",
      "\n"
     ]
    },
    {
     "name": "stdout",
     "output_type": "stream",
     "text": [
      "Epoch 160, Loss 0.0228\n",
      "Training Accuracy: 0.9730, Testing Accuracy: 0.9748\n",
      "\n"
     ]
    },
    {
     "name": "stdout",
     "output_type": "stream",
     "text": [
      "Epoch 170, Loss 0.0222\n",
      "Training Accuracy: 0.9745, Testing Accuracy: 0.9738\n",
      "\n"
     ]
    },
    {
     "name": "stdout",
     "output_type": "stream",
     "text": [
      "Epoch 180, Loss 0.0215\n",
      "Training Accuracy: 0.9755, Testing Accuracy: 0.9738\n",
      "\n"
     ]
    },
    {
     "name": "stdout",
     "output_type": "stream",
     "text": [
      "Epoch 190, Loss 0.0209\n",
      "Training Accuracy: 0.9760, Testing Accuracy: 0.9748\n",
      "\n"
     ]
    },
    {
     "name": "stdout",
     "output_type": "stream",
     "text": [
      "Epoch 200, Loss 0.0204\n",
      "Training Accuracy: 0.9765, Testing Accuracy: 0.9758\n",
      "\n"
     ]
    },
    {
     "name": "stdout",
     "output_type": "stream",
     "text": [
      "Epoch 210, Loss 0.0198\n",
      "Training Accuracy: 0.9775, Testing Accuracy: 0.9748\n",
      "\n"
     ]
    },
    {
     "name": "stdout",
     "output_type": "stream",
     "text": [
      "Epoch 220, Loss 0.0193\n",
      "Training Accuracy: 0.9782, Testing Accuracy: 0.9763\n",
      "\n"
     ]
    },
    {
     "name": "stdout",
     "output_type": "stream",
     "text": [
      "Epoch 230, Loss 0.0188\n",
      "Training Accuracy: 0.9790, Testing Accuracy: 0.9758\n",
      "\n"
     ]
    },
    {
     "name": "stdout",
     "output_type": "stream",
     "text": [
      "Epoch 240, Loss 0.0184\n",
      "Training Accuracy: 0.9797, Testing Accuracy: 0.9763\n",
      "\n"
     ]
    },
    {
     "data": {
      "text/plain": [
       "0.019672992712967866"
      ]
     },
     "execution_count": 22,
     "metadata": {},
     "output_type": "execute_result"
    }
   ],
   "source": [
    "nn_learner.train_loop(dl)"
   ]
  },
  {
   "cell_type": "code",
   "execution_count": 23,
   "id": "e0163366",
   "metadata": {
    "execution": {
     "iopub.execute_input": "2021-10-09T20:09:52.870731Z",
     "iopub.status.busy": "2021-10-09T20:09:52.870108Z",
     "iopub.status.idle": "2021-10-09T20:10:10.902304Z",
     "shell.execute_reply": "2021-10-09T20:10:10.902865Z"
    },
    "papermill": {
     "duration": 18.094481,
     "end_time": "2021-10-09T20:10:10.903015",
     "exception": false,
     "start_time": "2021-10-09T20:09:52.808534",
     "status": "completed"
    },
    "tags": []
   },
   "outputs": [
    {
     "name": "stdout",
     "output_type": "stream",
     "text": [
      "Epoch 0, Loss 0.2205\n",
      "Training Accuracy: 0.7689, Testing Accuracy: 0.7707\n",
      "\n"
     ]
    },
    {
     "name": "stdout",
     "output_type": "stream",
     "text": [
      "Epoch 10, Loss 0.0999\n",
      "Training Accuracy: 0.9125, Testing Accuracy: 0.9239\n",
      "\n"
     ]
    },
    {
     "name": "stdout",
     "output_type": "stream",
     "text": [
      "Epoch 20, Loss 0.0777\n",
      "Training Accuracy: 0.9281, Testing Accuracy: 0.9380\n",
      "\n"
     ]
    },
    {
     "name": "stdout",
     "output_type": "stream",
     "text": [
      "Epoch 30, Loss 0.0674\n",
      "Training Accuracy: 0.9361, Testing Accuracy: 0.9461\n",
      "\n"
     ]
    },
    {
     "name": "stdout",
     "output_type": "stream",
     "text": [
      "Epoch 40, Loss 0.0611\n",
      "Training Accuracy: 0.9398, Testing Accuracy: 0.9501\n",
      "\n"
     ]
    },
    {
     "name": "stdout",
     "output_type": "stream",
     "text": [
      "Epoch 50, Loss 0.0568\n",
      "Training Accuracy: 0.9429, Testing Accuracy: 0.9551\n",
      "\n"
     ]
    },
    {
     "name": "stdout",
     "output_type": "stream",
     "text": [
      "Epoch 60, Loss 0.0536\n",
      "Training Accuracy: 0.9451, Testing Accuracy: 0.9567\n",
      "\n"
     ]
    },
    {
     "name": "stdout",
     "output_type": "stream",
     "text": [
      "Epoch 70, Loss 0.0512\n",
      "Training Accuracy: 0.9473, Testing Accuracy: 0.9582\n",
      "\n"
     ]
    },
    {
     "name": "stdout",
     "output_type": "stream",
     "text": [
      "Epoch 80, Loss 0.0492\n",
      "Training Accuracy: 0.9501, Testing Accuracy: 0.9592\n",
      "\n"
     ]
    },
    {
     "name": "stdout",
     "output_type": "stream",
     "text": [
      "Epoch 90, Loss 0.0475\n",
      "Training Accuracy: 0.9510, Testing Accuracy: 0.9597\n",
      "\n"
     ]
    },
    {
     "name": "stdout",
     "output_type": "stream",
     "text": [
      "Epoch 100, Loss 0.0461\n",
      "Training Accuracy: 0.9518, Testing Accuracy: 0.9612\n",
      "\n"
     ]
    },
    {
     "name": "stdout",
     "output_type": "stream",
     "text": [
      "Epoch 110, Loss 0.045\n",
      "Training Accuracy: 0.9523, Testing Accuracy: 0.9622\n",
      "\n"
     ]
    },
    {
     "name": "stdout",
     "output_type": "stream",
     "text": [
      "Epoch 120, Loss 0.0439\n",
      "Training Accuracy: 0.9540, Testing Accuracy: 0.9622\n",
      "\n"
     ]
    },
    {
     "name": "stdout",
     "output_type": "stream",
     "text": [
      "Epoch 130, Loss 0.043\n",
      "Training Accuracy: 0.9552, Testing Accuracy: 0.9637\n",
      "\n"
     ]
    },
    {
     "name": "stdout",
     "output_type": "stream",
     "text": [
      "Epoch 140, Loss 0.0422\n",
      "Training Accuracy: 0.9559, Testing Accuracy: 0.9637\n",
      "\n"
     ]
    },
    {
     "name": "stdout",
     "output_type": "stream",
     "text": [
      "Epoch 150, Loss 0.0414\n",
      "Training Accuracy: 0.9568, Testing Accuracy: 0.9647\n",
      "\n"
     ]
    },
    {
     "name": "stdout",
     "output_type": "stream",
     "text": [
      "Epoch 160, Loss 0.0408\n",
      "Training Accuracy: 0.9572, Testing Accuracy: 0.9652\n",
      "\n"
     ]
    },
    {
     "name": "stdout",
     "output_type": "stream",
     "text": [
      "Epoch 170, Loss 0.0402\n",
      "Training Accuracy: 0.9574, Testing Accuracy: 0.9657\n",
      "\n"
     ]
    },
    {
     "name": "stdout",
     "output_type": "stream",
     "text": [
      "Epoch 180, Loss 0.0396\n",
      "Training Accuracy: 0.9576, Testing Accuracy: 0.9657\n",
      "\n"
     ]
    },
    {
     "name": "stdout",
     "output_type": "stream",
     "text": [
      "Epoch 190, Loss 0.0391\n",
      "Training Accuracy: 0.9579, Testing Accuracy: 0.9657\n",
      "\n"
     ]
    },
    {
     "name": "stdout",
     "output_type": "stream",
     "text": [
      "Epoch 200, Loss 0.0386\n",
      "Training Accuracy: 0.9584, Testing Accuracy: 0.9657\n",
      "\n"
     ]
    },
    {
     "name": "stdout",
     "output_type": "stream",
     "text": [
      "Epoch 210, Loss 0.0382\n",
      "Training Accuracy: 0.9586, Testing Accuracy: 0.9652\n",
      "\n"
     ]
    },
    {
     "name": "stdout",
     "output_type": "stream",
     "text": [
      "Epoch 220, Loss 0.0378\n",
      "Training Accuracy: 0.9591, Testing Accuracy: 0.9652\n",
      "\n"
     ]
    },
    {
     "name": "stdout",
     "output_type": "stream",
     "text": [
      "Epoch 230, Loss 0.0374\n",
      "Training Accuracy: 0.9594, Testing Accuracy: 0.9652\n",
      "\n"
     ]
    },
    {
     "name": "stdout",
     "output_type": "stream",
     "text": [
      "Epoch 240, Loss 0.037\n",
      "Training Accuracy: 0.9596, Testing Accuracy: 0.9657\n",
      "\n"
     ]
    },
    {
     "data": {
      "text/plain": [
       "0.03809533405520119"
      ]
     },
     "execution_count": 23,
     "metadata": {},
     "output_type": "execute_result"
    }
   ],
   "source": [
    "lr_learner.train_loop(dl)"
   ]
  },
  {
   "cell_type": "code",
   "execution_count": 24,
   "id": "ca410940",
   "metadata": {
    "execution": {
     "iopub.execute_input": "2021-10-09T20:10:11.016592Z",
     "iopub.status.busy": "2021-10-09T20:10:11.015933Z",
     "iopub.status.idle": "2021-10-09T20:10:11.293462Z",
     "shell.execute_reply": "2021-10-09T20:10:11.293950Z"
    },
    "papermill": {
     "duration": 0.340125,
     "end_time": "2021-10-09T20:10:11.294105",
     "exception": false,
     "start_time": "2021-10-09T20:10:10.953980",
     "status": "completed"
    },
    "tags": []
   },
   "outputs": [
    {
     "data": {
      "text/plain": [
       "<matplotlib.legend.Legend at 0x7fb67031b908>"
      ]
     },
     "execution_count": 24,
     "metadata": {},
     "output_type": "execute_result"
    },
    {
     "data": {
      "image/png": "[encoded data removed]",
      "text/plain": [
       "<Figure size 1080x720 with 1 Axes>"
      ]
     },
     "metadata": {
      "needs_background": "light"
     },
     "output_type": "display_data"
    }
   ],
   "source": [
    "#comparing the results of NN and LR\n",
    "plt.figure(figsize=(15,10))\n",
    "\n",
    "# Neural Network plots\n",
    "plt.plot(acc_nn.accuracies, 'r-', label = \"Training Accuracies - NN\")\n",
    "plt.plot(acc_nn.test_accuracies, 'g-', label = \"Testing Accuracies - NN\")\n",
    "\n",
    "# Logistic Regression plots\n",
    "plt.plot(acc_lr.accuracies, 'k-', label = \"Training Accuracies - LR\")\n",
    "plt.plot(acc_lr.test_accuracies, 'b-', label = \"Testing Accuracies - LR\")\n",
    "plt.legend()"
   ]
  },
  {
   "cell_type": "markdown",
   "id": "80dfb35c",
   "metadata": {
    "papermill": {
     "duration": 0.047855,
     "end_time": "2021-10-09T20:10:11.390194",
     "exception": false,
     "start_time": "2021-10-09T20:10:11.342339",
     "status": "completed"
    },
    "tags": []
   },
   "source": [
    "#### Plotting the outputs of this layer of the NN.\n"
   ]
  },
  {
   "cell_type": "code",
   "execution_count": 25,
   "id": "45eb2ff5",
   "metadata": {
    "execution": {
     "iopub.execute_input": "2021-10-09T20:10:11.504083Z",
     "iopub.status.busy": "2021-10-09T20:10:11.502102Z",
     "iopub.status.idle": "2021-10-09T20:10:11.530171Z",
     "shell.execute_reply": "2021-10-09T20:10:11.531009Z"
    },
    "papermill": {
     "duration": 0.093665,
     "end_time": "2021-10-09T20:10:11.531200",
     "exception": false,
     "start_time": "2021-10-09T20:10:11.437535",
     "status": "completed"
    },
    "tags": []
   },
   "outputs": [],
   "source": [
    "new_model = Model(layers[:-2])\n",
    "testing_plot = new_model(testing_data_x)"
   ]
  },
  {
   "cell_type": "code",
   "execution_count": 26,
   "id": "4c0a5485",
   "metadata": {
    "execution": {
     "iopub.execute_input": "2021-10-09T20:10:11.644449Z",
     "iopub.status.busy": "2021-10-09T20:10:11.643829Z",
     "iopub.status.idle": "2021-10-09T20:10:11.863873Z",
     "shell.execute_reply": "2021-10-09T20:10:11.863365Z"
    },
    "papermill": {
     "duration": 0.283813,
     "end_time": "2021-10-09T20:10:11.863999",
     "exception": false,
     "start_time": "2021-10-09T20:10:11.580186",
     "status": "completed"
    },
    "tags": []
   },
   "outputs": [
    {
     "data": {
      "text/plain": [
       "Text(0.5, 1.0, 'Outputs')"
      ]
     },
     "execution_count": 26,
     "metadata": {},
     "output_type": "execute_result"
    },
    {
     "data": {
      "image/png": "[encoded data removed]",
      "text/plain": [
       "<Figure size 576x504 with 1 Axes>"
      ]
     },
     "metadata": {
      "needs_background": "light"
     },
     "output_type": "display_data"
    }
   ],
   "source": [
    "# Plotting the scatter plot of points and color coding by class\n",
    "plt.figure(figsize=(8,7))\n",
    "plt.scatter(testing_plot[:,0], testing_plot[:,1], alpha = 0.1, c = y_test.ravel());\n",
    "plt.title('Outputs')"
   ]
  },
  {
   "cell_type": "markdown",
   "id": "a74fcf8f",
   "metadata": {
    "papermill": {
     "duration": 0.051221,
     "end_time": "2021-10-09T20:10:11.970539",
     "exception": false,
     "start_time": "2021-10-09T20:10:11.919318",
     "status": "completed"
    },
    "tags": []
   },
   "source": [
    "Probability contours"
   ]
  },
  {
   "cell_type": "code",
   "execution_count": 27,
   "id": "d0afc8e3",
   "metadata": {
    "execution": {
     "iopub.execute_input": "2021-10-09T20:10:12.074026Z",
     "iopub.status.busy": "2021-10-09T20:10:12.073302Z",
     "iopub.status.idle": "2021-10-09T20:10:12.085186Z",
     "shell.execute_reply": "2021-10-09T20:10:12.084701Z"
    },
    "papermill": {
     "duration": 0.065423,
     "end_time": "2021-10-09T20:10:12.085305",
     "exception": false,
     "start_time": "2021-10-09T20:10:12.019882",
     "status": "completed"
    },
    "tags": []
   },
   "outputs": [],
   "source": [
    "model_prob = Model(layers[-2:]) "
   ]
  },
  {
   "cell_type": "code",
   "execution_count": 28,
   "id": "9b96e238",
   "metadata": {
    "execution": {
     "iopub.execute_input": "2021-10-09T20:10:12.213564Z",
     "iopub.status.busy": "2021-10-09T20:10:12.212873Z",
     "iopub.status.idle": "2021-10-09T20:10:12.227134Z",
     "shell.execute_reply": "2021-10-09T20:10:12.226620Z"
    },
    "papermill": {
     "duration": 0.092343,
     "end_time": "2021-10-09T20:10:12.227255",
     "exception": false,
     "start_time": "2021-10-09T20:10:12.134912",
     "status": "completed"
    },
    "tags": []
   },
   "outputs": [],
   "source": [
    "#creating the x and y ranges according to the above generated plot.\n",
    "x_range = np.linspace(-4, 1, 100) \n",
    "y_range = np.linspace(-6, 6, 100) \n",
    "x_grid, y_grid = np.meshgrid(x_range, y_range) # x_grid and y_grig are of size 100 X 100\n",
    "\n",
    "# converting x_grid and y_grid to continuous arrays\n",
    "x_gridflat = np.ravel(x_grid)\n",
    "y_gridflat = np.ravel(y_grid)\n",
    "\n",
    "# The last layer of the current model takes two columns as input. Hence transpose of np.vstack() is required.\n",
    "X = np.vstack((x_gridflat, y_gridflat)).T\n",
    "\n",
    "prob_contour = model_prob(X).reshape(100,100) "
   ]
  },
  {
   "cell_type": "code",
   "execution_count": 29,
   "id": "da72499a",
   "metadata": {
    "execution": {
     "iopub.execute_input": "2021-10-09T20:10:12.336287Z",
     "iopub.status.busy": "2021-10-09T20:10:12.335688Z",
     "iopub.status.idle": "2021-10-09T20:10:12.622391Z",
     "shell.execute_reply": "2021-10-09T20:10:12.621847Z"
    },
    "papermill": {
     "duration": 0.340702,
     "end_time": "2021-10-09T20:10:12.622536",
     "exception": false,
     "start_time": "2021-10-09T20:10:12.281834",
     "status": "completed"
    },
    "tags": []
   },
   "outputs": [
    {
     "data": {
      "image/png": "[encoded data removed]",
      "text/plain": [
       "<Figure size 720x648 with 1 Axes>"
      ]
     },
     "metadata": {
      "needs_background": "light"
     },
     "output_type": "display_data"
    }
   ],
   "source": [
    "plt.figure(figsize=(10,9))\n",
    "plt.scatter(testing_plot[:,0], testing_plot[:,1], alpha = 0.1, c = y_test.ravel())\n",
    "contours = plt.contour(x_grid,y_grid,prob_contour)\n",
    "plt.title('Probability Contours')\n",
    "plt.clabel(contours, inline = True );"
   ]
  },
  {
   "cell_type": "code",
   "execution_count": null,
   "id": "e81b4ac7",
   "metadata": {
    "papermill": {
     "duration": 0.055193,
     "end_time": "2021-10-09T20:10:12.732986",
     "exception": false,
     "start_time": "2021-10-09T20:10:12.677793",
     "status": "completed"
    },
    "tags": []
   },
   "outputs": [],
   "source": []
  }
 ],
 "metadata": {
  "kernelspec": {
   "display_name": "Python 3",
   "language": "python",
   "name": "python3"
  },
  "language_info": {
   "codemirror_mode": {
    "name": "ipython",
    "version": 3
   },
   "file_extension": ".py",
   "mimetype": "text/x-python",
   "name": "python",
   "nbconvert_exporter": "python",
   "pygments_lexer": "ipython3",
   "version": "3.6.15"
  },
  "papermill": {
   "default_parameters": {},
   "duration": 153.081741,
   "end_time": "2021-10-09T20:10:13.194553",
   "environment_variables": {},
   "exception": null,
   "input_path": "2020-08-11-part2.ipynb",
   "output_path": "2020-08-11-part2.ipynb",
   "parameters": {},
   "start_time": "2021-10-09T20:07:40.112812",
   "version": "2.3.3"
  }
 },
 "nbformat": 4,
 "nbformat_minor": 5
}