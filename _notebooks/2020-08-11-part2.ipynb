{
 "cells": [
  {
   "cell_type": "markdown",
   "id": "98380cd3",
   "metadata": {
    "papermill": {
     "duration": 0.036526,
     "end_time": "2022-11-18T00:45:20.495899",
     "exception": false,
     "start_time": "2022-11-18T00:45:20.459373",
     "status": "completed"
    },
    "tags": []
   },
   "source": [
    "# Distinguish Your Own Digits (DYOD)"
   ]
  },
  {
   "cell_type": "markdown",
   "id": "ef31240d",
   "metadata": {
    "papermill": {
     "duration": 0.027734,
     "end_time": "2022-11-18T00:45:20.551693",
     "exception": false,
     "start_time": "2022-11-18T00:45:20.523959",
     "status": "completed"
    },
    "tags": []
   },
   "source": [
    "You are going to write a classifier that distinguishes between the number 3 and number 8."
   ]
  },
  {
   "cell_type": "code",
   "execution_count": 1,
   "id": "b15c8646",
   "metadata": {
    "execution": {
     "iopub.execute_input": "2022-11-18T00:45:20.619611Z",
     "iopub.status.busy": "2022-11-18T00:45:20.618846Z",
     "iopub.status.idle": "2022-11-18T00:45:20.630938Z",
     "shell.execute_reply": "2022-11-18T00:45:20.631504Z"
    },
    "papermill": {
     "duration": 0.05283,
     "end_time": "2022-11-18T00:45:20.631687",
     "exception": false,
     "start_time": "2022-11-18T00:45:20.578857",
     "status": "completed"
    },
    "tags": []
   },
   "outputs": [],
   "source": [
    "%load_ext autoreload\n",
    "%autoreload 2"
   ]
  },
  {
   "cell_type": "code",
   "execution_count": 2,
   "id": "22ef38dc",
   "metadata": {
    "execution": {
     "iopub.execute_input": "2022-11-18T00:45:20.694499Z",
     "iopub.status.busy": "2022-11-18T00:45:20.693850Z",
     "iopub.status.idle": "2022-11-18T00:45:21.322245Z",
     "shell.execute_reply": "2022-11-18T00:45:21.320700Z"
    },
    "papermill": {
     "duration": 0.66337,
     "end_time": "2022-11-18T00:45:21.322396",
     "exception": false,
     "start_time": "2022-11-18T00:45:20.659026",
     "status": "completed"
    },
    "tags": []
   },
   "outputs": [],
   "source": [
    "%matplotlib inline\n",
    "import numpy as np\n",
    "import matplotlib.pyplot as plt\n",
    "import pandas as pd"
   ]
  },
  {
   "cell_type": "markdown",
   "id": "ba036198",
   "metadata": {
    "papermill": {
     "duration": 0.027459,
     "end_time": "2022-11-18T00:45:21.376703",
     "exception": false,
     "start_time": "2022-11-18T00:45:21.349244",
     "status": "completed"
    },
    "tags": []
   },
   "source": [
    "From the command line run `pip install mnist`. This is a library that will help you bring down the mnist dataset. If you run this from a notebook, you need to put  `!pip install mnist` in a cell by itself."
   ]
  },
  {
   "cell_type": "code",
   "execution_count": 3,
   "id": "bb6ad8a1",
   "metadata": {
    "execution": {
     "iopub.execute_input": "2022-11-18T00:45:21.435420Z",
     "iopub.status.busy": "2022-11-18T00:45:21.434731Z",
     "iopub.status.idle": "2022-11-18T00:45:23.227195Z",
     "shell.execute_reply": "2022-11-18T00:45:23.226162Z"
    },
    "papermill": {
     "duration": 1.824174,
     "end_time": "2022-11-18T00:45:23.227430",
     "exception": false,
     "start_time": "2022-11-18T00:45:21.403256",
     "status": "completed"
    },
    "tags": []
   },
   "outputs": [
    {
     "name": "stdout",
     "output_type": "stream",
     "text": [
      "Collecting mnist\r\n",
      "  Downloading mnist-0.2.2-py2.py3-none-any.whl (3.5 kB)\r\n"
     ]
    },
    {
     "name": "stdout",
     "output_type": "stream",
     "text": [
      "Requirement already satisfied: numpy in /opt/hostedtoolcache/Python/3.6.15/x64/lib/python3.6/site-packages (from mnist) (1.19.5)\r\n"
     ]
    },
    {
     "name": "stdout",
     "output_type": "stream",
     "text": [
      "Installing collected packages: mnist\r\n"
     ]
    },
    {
     "name": "stdout",
     "output_type": "stream",
     "text": [
      "Successfully installed mnist-0.2.2\r\n"
     ]
    }
   ],
   "source": [
    "!pip install mnist"
   ]
  },
  {
   "cell_type": "markdown",
   "id": "69df9c9a",
   "metadata": {
    "papermill": {
     "duration": 0.028708,
     "end_time": "2022-11-18T00:45:23.286478",
     "exception": false,
     "start_time": "2022-11-18T00:45:23.257770",
     "status": "completed"
    },
    "tags": []
   },
   "source": [
    "## Preparing the Data"
   ]
  },
  {
   "cell_type": "code",
   "execution_count": 4,
   "id": "7f69d806",
   "metadata": {
    "execution": {
     "iopub.execute_input": "2022-11-18T00:45:23.356841Z",
     "iopub.status.busy": "2022-11-18T00:45:23.351833Z",
     "iopub.status.idle": "2022-11-18T00:45:23.368334Z",
     "shell.execute_reply": "2022-11-18T00:45:23.367754Z"
    },
    "papermill": {
     "duration": 0.053656,
     "end_time": "2022-11-18T00:45:23.368470",
     "exception": false,
     "start_time": "2022-11-18T00:45:23.314814",
     "status": "completed"
    },
    "tags": []
   },
   "outputs": [],
   "source": [
    "import mnist"
   ]
  },
  {
   "cell_type": "code",
   "execution_count": 5,
   "id": "a411e44f",
   "metadata": {
    "execution": {
     "iopub.execute_input": "2022-11-18T00:45:23.433729Z",
     "iopub.status.busy": "2022-11-18T00:45:23.429313Z",
     "iopub.status.idle": "2022-11-18T00:45:24.044734Z",
     "shell.execute_reply": "2022-11-18T00:45:24.044155Z"
    },
    "papermill": {
     "duration": 0.647719,
     "end_time": "2022-11-18T00:45:24.044864",
     "exception": false,
     "start_time": "2022-11-18T00:45:23.397145",
     "status": "completed"
    },
    "tags": []
   },
   "outputs": [],
   "source": [
    "train_images = mnist.train_images()\n",
    "train_labels = mnist.train_labels()"
   ]
  },
  {
   "cell_type": "code",
   "execution_count": 6,
   "id": "dceab3a5",
   "metadata": {
    "execution": {
     "iopub.execute_input": "2022-11-18T00:45:24.107356Z",
     "iopub.status.busy": "2022-11-18T00:45:24.106253Z",
     "iopub.status.idle": "2022-11-18T00:45:24.124960Z",
     "shell.execute_reply": "2022-11-18T00:45:24.125521Z"
    },
    "papermill": {
     "duration": 0.051865,
     "end_time": "2022-11-18T00:45:24.125680",
     "exception": false,
     "start_time": "2022-11-18T00:45:24.073815",
     "status": "completed"
    },
    "tags": []
   },
   "outputs": [
    {
     "data": {
      "text/plain": [
       "((60000, 28, 28), (60000,))"
      ]
     },
     "execution_count": 6,
     "metadata": {},
     "output_type": "execute_result"
    }
   ],
   "source": [
    "train_images.shape, train_labels.shape"
   ]
  },
  {
   "cell_type": "code",
   "execution_count": 7,
   "id": "f50dc2bb",
   "metadata": {
    "execution": {
     "iopub.execute_input": "2022-11-18T00:45:24.194026Z",
     "iopub.status.busy": "2022-11-18T00:45:24.193326Z",
     "iopub.status.idle": "2022-11-18T00:45:24.350838Z",
     "shell.execute_reply": "2022-11-18T00:45:24.349827Z"
    },
    "papermill": {
     "duration": 0.196252,
     "end_time": "2022-11-18T00:45:24.351052",
     "exception": false,
     "start_time": "2022-11-18T00:45:24.154800",
     "status": "completed"
    },
    "tags": []
   },
   "outputs": [],
   "source": [
    "test_images = mnist.test_images()\n",
    "test_labels = mnist.test_labels()"
   ]
  },
  {
   "cell_type": "code",
   "execution_count": 8,
   "id": "fc38cf1b",
   "metadata": {
    "execution": {
     "iopub.execute_input": "2022-11-18T00:45:24.418290Z",
     "iopub.status.busy": "2022-11-18T00:45:24.417607Z",
     "iopub.status.idle": "2022-11-18T00:45:24.432151Z",
     "shell.execute_reply": "2022-11-18T00:45:24.431588Z"
    },
    "papermill": {
     "duration": 0.050724,
     "end_time": "2022-11-18T00:45:24.432280",
     "exception": false,
     "start_time": "2022-11-18T00:45:24.381556",
     "status": "completed"
    },
    "tags": []
   },
   "outputs": [
    {
     "data": {
      "text/plain": [
       "((10000, 28, 28), (10000,))"
      ]
     },
     "execution_count": 8,
     "metadata": {},
     "output_type": "execute_result"
    }
   ],
   "source": [
    "test_images.shape, test_labels.shape"
   ]
  },
  {
   "cell_type": "code",
   "execution_count": 9,
   "id": "f9ed8fe0",
   "metadata": {
    "execution": {
     "iopub.execute_input": "2022-11-18T00:45:24.499375Z",
     "iopub.status.busy": "2022-11-18T00:45:24.498211Z",
     "iopub.status.idle": "2022-11-18T00:45:24.658144Z",
     "shell.execute_reply": "2022-11-18T00:45:24.657574Z"
    },
    "papermill": {
     "duration": 0.197549,
     "end_time": "2022-11-18T00:45:24.658278",
     "exception": false,
     "start_time": "2022-11-18T00:45:24.460729",
     "status": "completed"
    },
    "tags": []
   },
   "outputs": [
    {
     "name": "stdout",
     "output_type": "stream",
     "text": [
      "2\n"
     ]
    },
    {
     "data": {
      "text/plain": [
       "<matplotlib.image.AxesImage at 0x7f946db9bdd8>"
      ]
     },
     "execution_count": 9,
     "metadata": {},
     "output_type": "execute_result"
    },
    {
     "data": {
      "image/png": "[encoded data removed]",
      "text/plain": [
       "<Figure size 432x288 with 1 Axes>"
      ]
     },
     "metadata": {
      "needs_background": "light"
     },
     "output_type": "display_data"
    }
   ],
   "source": [
    "image_index = 7776 # You may select anything up to 60,000\n",
    "print(train_labels[image_index]) \n",
    "plt.imshow(train_images[image_index], cmap='Greys')"
   ]
  },
  {
   "cell_type": "markdown",
   "id": "a8d2388d",
   "metadata": {
    "papermill": {
     "duration": 0.030351,
     "end_time": "2022-11-18T00:45:24.719143",
     "exception": false,
     "start_time": "2022-11-18T00:45:24.688792",
     "status": "completed"
    },
    "tags": []
   },
   "source": [
    "## Filter data to get 3 and 8 out"
   ]
  },
  {
   "cell_type": "code",
   "execution_count": 10,
   "id": "776f7fc7",
   "metadata": {
    "execution": {
     "iopub.execute_input": "2022-11-18T00:45:24.788330Z",
     "iopub.status.busy": "2022-11-18T00:45:24.787199Z",
     "iopub.status.idle": "2022-11-18T00:45:24.810328Z",
     "shell.execute_reply": "2022-11-18T00:45:24.811034Z"
    },
    "papermill": {
     "duration": 0.061844,
     "end_time": "2022-11-18T00:45:24.811238",
     "exception": false,
     "start_time": "2022-11-18T00:45:24.749394",
     "status": "completed"
    },
    "tags": []
   },
   "outputs": [],
   "source": [
    "train_filter = np.where((train_labels == 3 ) | (train_labels == 8))\n",
    "test_filter = np.where((test_labels == 3) | (test_labels == 8))\n",
    "X_train, y_train = train_images[train_filter], train_labels[train_filter]\n",
    "X_test, y_test = test_images[test_filter], test_labels[test_filter]"
   ]
  },
  {
   "cell_type": "markdown",
   "id": "948f0b7e",
   "metadata": {
    "papermill": {
     "duration": 0.029853,
     "end_time": "2022-11-18T00:45:24.871853",
     "exception": false,
     "start_time": "2022-11-18T00:45:24.842000",
     "status": "completed"
    },
    "tags": []
   },
   "source": [
    "We normalize the pizel values in the 0 to 1 range"
   ]
  },
  {
   "cell_type": "code",
   "execution_count": 11,
   "id": "ee4c2166",
   "metadata": {
    "execution": {
     "iopub.execute_input": "2022-11-18T00:45:24.937154Z",
     "iopub.status.busy": "2022-11-18T00:45:24.936452Z",
     "iopub.status.idle": "2022-11-18T00:45:24.992926Z",
     "shell.execute_reply": "2022-11-18T00:45:24.991914Z"
    },
    "papermill": {
     "duration": 0.091315,
     "end_time": "2022-11-18T00:45:24.993149",
     "exception": false,
     "start_time": "2022-11-18T00:45:24.901834",
     "status": "completed"
    },
    "tags": []
   },
   "outputs": [],
   "source": [
    "X_train = X_train/255.\n",
    "X_test = X_test/255."
   ]
  },
  {
   "cell_type": "markdown",
   "id": "ddcf4fab",
   "metadata": {
    "papermill": {
     "duration": 0.029944,
     "end_time": "2022-11-18T00:45:25.054928",
     "exception": false,
     "start_time": "2022-11-18T00:45:25.024984",
     "status": "completed"
    },
    "tags": []
   },
   "source": [
    "And setup the labels as 1 (when the digit is 3) and 0 (when the digit is 8)"
   ]
  },
  {
   "cell_type": "code",
   "execution_count": 12,
   "id": "7dc908f2",
   "metadata": {
    "execution": {
     "iopub.execute_input": "2022-11-18T00:45:25.119448Z",
     "iopub.status.busy": "2022-11-18T00:45:25.118764Z",
     "iopub.status.idle": "2022-11-18T00:45:25.133546Z",
     "shell.execute_reply": "2022-11-18T00:45:25.132968Z"
    },
    "papermill": {
     "duration": 0.048366,
     "end_time": "2022-11-18T00:45:25.133680",
     "exception": false,
     "start_time": "2022-11-18T00:45:25.085314",
     "status": "completed"
    },
    "tags": []
   },
   "outputs": [],
   "source": [
    "y_train = 1*(y_train==3)\n",
    "y_test = 1*(y_test==3)"
   ]
  },
  {
   "cell_type": "code",
   "execution_count": 13,
   "id": "01e4e969",
   "metadata": {
    "execution": {
     "iopub.execute_input": "2022-11-18T00:45:25.201855Z",
     "iopub.status.busy": "2022-11-18T00:45:25.201062Z",
     "iopub.status.idle": "2022-11-18T00:45:25.215388Z",
     "shell.execute_reply": "2022-11-18T00:45:25.214830Z"
    },
    "papermill": {
     "duration": 0.051561,
     "end_time": "2022-11-18T00:45:25.215547",
     "exception": false,
     "start_time": "2022-11-18T00:45:25.163986",
     "status": "completed"
    },
    "tags": []
   },
   "outputs": [
    {
     "data": {
      "text/plain": [
       "((11982, 28, 28), (1984, 28, 28))"
      ]
     },
     "execution_count": 13,
     "metadata": {},
     "output_type": "execute_result"
    }
   ],
   "source": [
    "X_train.shape, X_test.shape"
   ]
  },
  {
   "cell_type": "markdown",
   "id": "5ccf3f85",
   "metadata": {
    "papermill": {
     "duration": 0.030607,
     "end_time": "2022-11-18T00:45:25.277194",
     "exception": false,
     "start_time": "2022-11-18T00:45:25.246587",
     "status": "completed"
    },
    "tags": []
   },
   "source": [
    "We reshape the data to flatten the image pixels into a set of features or co-variates:"
   ]
  },
  {
   "cell_type": "code",
   "execution_count": 14,
   "id": "5286a4a3",
   "metadata": {
    "execution": {
     "iopub.execute_input": "2022-11-18T00:45:25.343954Z",
     "iopub.status.busy": "2022-11-18T00:45:25.343223Z",
     "iopub.status.idle": "2022-11-18T00:45:25.358845Z",
     "shell.execute_reply": "2022-11-18T00:45:25.359404Z"
    },
    "papermill": {
     "duration": 0.051593,
     "end_time": "2022-11-18T00:45:25.359581",
     "exception": false,
     "start_time": "2022-11-18T00:45:25.307988",
     "status": "completed"
    },
    "tags": []
   },
   "outputs": [
    {
     "data": {
      "text/plain": [
       "((11982, 784), (1984, 784))"
      ]
     },
     "execution_count": 14,
     "metadata": {},
     "output_type": "execute_result"
    }
   ],
   "source": [
    "X_train = X_train.reshape(X_train.shape[0], -1)\n",
    "X_test = X_test.reshape(X_test.shape[0], -1)\n",
    "X_train.shape, X_test.shape"
   ]
  },
  {
   "cell_type": "code",
   "execution_count": 15,
   "id": "73c5f88a",
   "metadata": {
    "execution": {
     "iopub.execute_input": "2022-11-18T00:45:25.433363Z",
     "iopub.status.busy": "2022-11-18T00:45:25.432660Z",
     "iopub.status.idle": "2022-11-18T00:45:25.453161Z",
     "shell.execute_reply": "2022-11-18T00:45:25.452605Z"
    },
    "papermill": {
     "duration": 0.062869,
     "end_time": "2022-11-18T00:45:25.453292",
     "exception": false,
     "start_time": "2022-11-18T00:45:25.390423",
     "status": "completed"
    },
    "tags": []
   },
   "outputs": [],
   "source": [
    "#Impoting functions from 'Kudzu'\n",
    "from kudzu.model import Model\n",
    "from kudzu.train import Learner\n",
    "from kudzu.optim import GD\n",
    "from kudzu.data import Data, Sampler,Dataloader\n",
    "\n",
    "from kudzu.callbacks import AccCallback\n",
    "from kudzu.callbacks import ClfCallback\n",
    "\n",
    "from kudzu.loss import MSE\n",
    "\n",
    "from kudzu.layer import Sigmoid,Relu\n",
    "from kudzu.layer import Affine"
   ]
  },
  {
   "cell_type": "markdown",
   "id": "bc01172a",
   "metadata": {
    "papermill": {
     "duration": 0.031656,
     "end_time": "2022-11-18T00:45:25.516164",
     "exception": false,
     "start_time": "2022-11-18T00:45:25.484508",
     "status": "completed"
    },
    "tags": []
   },
   "source": [
    "### Let us create a `Config` class, to store important parameters. \n",
    "This class essentially plays the role of a dictionary."
   ]
  },
  {
   "cell_type": "code",
   "execution_count": 16,
   "id": "978281aa",
   "metadata": {
    "execution": {
     "iopub.execute_input": "2022-11-18T00:45:25.584615Z",
     "iopub.status.busy": "2022-11-18T00:45:25.583879Z",
     "iopub.status.idle": "2022-11-18T00:45:25.599313Z",
     "shell.execute_reply": "2022-11-18T00:45:25.598746Z"
    },
    "papermill": {
     "duration": 0.052329,
     "end_time": "2022-11-18T00:45:25.599447",
     "exception": false,
     "start_time": "2022-11-18T00:45:25.547118",
     "status": "completed"
    },
    "tags": []
   },
   "outputs": [],
   "source": [
    "class Config:\n",
    "    pass\n",
    "config = Config()\n",
    "config.lr = 0.001\n",
    "config.num_epochs = 250\n",
    "config.bs = 50"
   ]
  },
  {
   "cell_type": "markdown",
   "id": "1385fa59",
   "metadata": {
    "papermill": {
     "duration": 0.031099,
     "end_time": "2022-11-18T00:45:25.661953",
     "exception": false,
     "start_time": "2022-11-18T00:45:25.630854",
     "status": "completed"
    },
    "tags": []
   },
   "source": [
    "### Running Models with the Training data\n",
    "Details about the network layers:\n",
    "- A first affine layer has 784 inputs and does 100 affine transforms. These are followed by a Relu\n",
    "- A second affine layer has 100 inputs from the 100 activations of the past layer, and does 100 affine transforms. These are followed by a Relu\n",
    "- A third affine layer has 100 activations and does 2 affine transformations to create an embedding for visualization. There is no non-linearity here.\n",
    "- A final \"logistic regression\" which has an affine transform from 2 inputs to 1 output, which is squeezed through a sigmoid.\n"
   ]
  },
  {
   "cell_type": "code",
   "execution_count": 17,
   "id": "2b9c66db",
   "metadata": {
    "execution": {
     "iopub.execute_input": "2022-11-18T00:45:25.729824Z",
     "iopub.status.busy": "2022-11-18T00:45:25.729110Z",
     "iopub.status.idle": "2022-11-18T00:45:25.743667Z",
     "shell.execute_reply": "2022-11-18T00:45:25.743080Z"
    },
    "papermill": {
     "duration": 0.050839,
     "end_time": "2022-11-18T00:45:25.743802",
     "exception": false,
     "start_time": "2022-11-18T00:45:25.692963",
     "status": "completed"
    },
    "tags": []
   },
   "outputs": [],
   "source": [
    "data = Data(X_train, y_train.reshape(-1,1))\n",
    "sampler = Sampler(data, config.bs, shuffle=True)\n",
    "\n",
    "dl = Dataloader(data, sampler)\n",
    "\n",
    "opt = GD(config.lr)\n",
    "loss = MSE()"
   ]
  },
  {
   "cell_type": "code",
   "execution_count": 18,
   "id": "b275e4c2",
   "metadata": {
    "execution": {
     "iopub.execute_input": "2022-11-18T00:45:25.810292Z",
     "iopub.status.busy": "2022-11-18T00:45:25.809576Z",
     "iopub.status.idle": "2022-11-18T00:45:25.824124Z",
     "shell.execute_reply": "2022-11-18T00:45:25.823581Z"
    },
    "papermill": {
     "duration": 0.049441,
     "end_time": "2022-11-18T00:45:25.824247",
     "exception": false,
     "start_time": "2022-11-18T00:45:25.774806",
     "status": "completed"
    },
    "tags": []
   },
   "outputs": [],
   "source": [
    "training_data_x = X_train\n",
    "testing_data_x = X_test\n",
    "training_data_y = y_train.reshape(-1,1)\n",
    "testing_data_y = y_test.reshape(-1,1)"
   ]
  },
  {
   "cell_type": "code",
   "execution_count": 19,
   "id": "76951160",
   "metadata": {
    "execution": {
     "iopub.execute_input": "2022-11-18T00:45:25.891270Z",
     "iopub.status.busy": "2022-11-18T00:45:25.890564Z",
     "iopub.status.idle": "2022-11-18T00:45:25.909101Z",
     "shell.execute_reply": "2022-11-18T00:45:25.909660Z"
    },
    "papermill": {
     "duration": 0.055326,
     "end_time": "2022-11-18T00:45:25.909818",
     "exception": false,
     "start_time": "2022-11-18T00:45:25.854492",
     "status": "completed"
    },
    "tags": []
   },
   "outputs": [
    {
     "name": "stdout",
     "output_type": "stream",
     "text": [
      "xavier\n",
      "xavier\n",
      "xavier\n",
      "xavier\n",
      "xavier\n"
     ]
    }
   ],
   "source": [
    "layers = [Affine(\"first\", 784, 100), Relu(\"first\"), Affine(\"second\", 100, 100), Relu(\"second\"), Affine(\"third\", 100, 2), Affine(\"last\", 2, 1), Sigmoid(\"last\")]\n",
    "model_nn = Model(layers)\n",
    "model_lr = Model([Affine(\"logits\", 784, 1), Sigmoid(\"sigmoid\")])"
   ]
  },
  {
   "cell_type": "code",
   "execution_count": 20,
   "id": "6eede77a",
   "metadata": {
    "execution": {
     "iopub.execute_input": "2022-11-18T00:45:25.979872Z",
     "iopub.status.busy": "2022-11-18T00:45:25.979130Z",
     "iopub.status.idle": "2022-11-18T00:45:25.993033Z",
     "shell.execute_reply": "2022-11-18T00:45:25.993684Z"
    },
    "papermill": {
     "duration": 0.052472,
     "end_time": "2022-11-18T00:45:25.993837",
     "exception": false,
     "start_time": "2022-11-18T00:45:25.941365",
     "status": "completed"
    },
    "tags": []
   },
   "outputs": [],
   "source": [
    "nn_learner = Learner(loss, model_nn, opt, config.num_epochs)\n",
    "acc_nn = ClfCallback(nn_learner, config.bs, training_data_x , testing_data_x, training_data_y, testing_data_y)\n",
    "nn_learner.set_callbacks([acc_nn])"
   ]
  },
  {
   "cell_type": "code",
   "execution_count": 21,
   "id": "877b6cc7",
   "metadata": {
    "execution": {
     "iopub.execute_input": "2022-11-18T00:45:26.063240Z",
     "iopub.status.busy": "2022-11-18T00:45:26.062533Z",
     "iopub.status.idle": "2022-11-18T00:45:26.077073Z",
     "shell.execute_reply": "2022-11-18T00:45:26.076486Z"
    },
    "papermill": {
     "duration": 0.052042,
     "end_time": "2022-11-18T00:45:26.077212",
     "exception": false,
     "start_time": "2022-11-18T00:45:26.025170",
     "status": "completed"
    },
    "tags": []
   },
   "outputs": [],
   "source": [
    "lr_learner = Learner(loss, model_lr, opt, config.num_epochs)\n",
    "acc_lr = ClfCallback(lr_learner, config.bs, training_data_x , testing_data_x, training_data_y, testing_data_y)\n",
    "lr_learner.set_callbacks([acc_lr])"
   ]
  },
  {
   "cell_type": "code",
   "execution_count": 22,
   "id": "d9b133c3",
   "metadata": {
    "execution": {
     "iopub.execute_input": "2022-11-18T00:45:26.145362Z",
     "iopub.status.busy": "2022-11-18T00:45:26.144681Z",
     "iopub.status.idle": "2022-11-18T00:46:53.234064Z",
     "shell.execute_reply": "2022-11-18T00:46:53.235041Z"
    },
    "papermill": {
     "duration": 87.126601,
     "end_time": "2022-11-18T00:46:53.235211",
     "exception": false,
     "start_time": "2022-11-18T00:45:26.108610",
     "status": "completed"
    },
    "tags": []
   },
   "outputs": [
    {
     "name": "stdout",
     "output_type": "stream",
     "text": [
      "Epoch 0, Loss 0.2375\n",
      "Training Accuracy: 0.6099, Testing Accuracy: 0.6230\n",
      "\n"
     ]
    },
    {
     "name": "stdout",
     "output_type": "stream",
     "text": [
      "Epoch 10, Loss 0.1056\n",
      "Training Accuracy: 0.9079, Testing Accuracy: 0.9158\n",
      "\n"
     ]
    },
    {
     "name": "stdout",
     "output_type": "stream",
     "text": [
      "Epoch 20, Loss 0.0643\n",
      "Training Accuracy: 0.9305, Testing Accuracy: 0.9441\n",
      "\n"
     ]
    },
    {
     "name": "stdout",
     "output_type": "stream",
     "text": [
      "Epoch 30, Loss 0.0497\n",
      "Training Accuracy: 0.9435, Testing Accuracy: 0.9536\n",
      "\n"
     ]
    },
    {
     "name": "stdout",
     "output_type": "stream",
     "text": [
      "Epoch 40, Loss 0.0423\n",
      "Training Accuracy: 0.9516, Testing Accuracy: 0.9607\n",
      "\n"
     ]
    },
    {
     "name": "stdout",
     "output_type": "stream",
     "text": [
      "Epoch 50, Loss 0.0378\n",
      "Training Accuracy: 0.9567, Testing Accuracy: 0.9662\n",
      "\n"
     ]
    },
    {
     "name": "stdout",
     "output_type": "stream",
     "text": [
      "Epoch 60, Loss 0.0347\n",
      "Training Accuracy: 0.9603, Testing Accuracy: 0.9667\n",
      "\n"
     ]
    },
    {
     "name": "stdout",
     "output_type": "stream",
     "text": [
      "Epoch 70, Loss 0.0325\n",
      "Training Accuracy: 0.9622, Testing Accuracy: 0.9672\n",
      "\n"
     ]
    },
    {
     "name": "stdout",
     "output_type": "stream",
     "text": [
      "Epoch 80, Loss 0.0307\n",
      "Training Accuracy: 0.9634, Testing Accuracy: 0.9662\n",
      "\n"
     ]
    },
    {
     "name": "stdout",
     "output_type": "stream",
     "text": [
      "Epoch 90, Loss 0.0293\n",
      "Training Accuracy: 0.9651, Testing Accuracy: 0.9652\n",
      "\n"
     ]
    },
    {
     "name": "stdout",
     "output_type": "stream",
     "text": [
      "Epoch 100, Loss 0.0282\n",
      "Training Accuracy: 0.9669, Testing Accuracy: 0.9667\n",
      "\n"
     ]
    },
    {
     "name": "stdout",
     "output_type": "stream",
     "text": [
      "Epoch 110, Loss 0.0272\n",
      "Training Accuracy: 0.9680, Testing Accuracy: 0.9677\n",
      "\n"
     ]
    },
    {
     "name": "stdout",
     "output_type": "stream",
     "text": [
      "Epoch 120, Loss 0.0263\n",
      "Training Accuracy: 0.9689, Testing Accuracy: 0.9682\n",
      "\n"
     ]
    },
    {
     "name": "stdout",
     "output_type": "stream",
     "text": [
      "Epoch 130, Loss 0.0255\n",
      "Training Accuracy: 0.9705, Testing Accuracy: 0.9693\n",
      "\n"
     ]
    },
    {
     "name": "stdout",
     "output_type": "stream",
     "text": [
      "Epoch 140, Loss 0.0248\n",
      "Training Accuracy: 0.9716, Testing Accuracy: 0.9703\n",
      "\n"
     ]
    },
    {
     "name": "stdout",
     "output_type": "stream",
     "text": [
      "Epoch 150, Loss 0.0242\n",
      "Training Accuracy: 0.9721, Testing Accuracy: 0.9703\n",
      "\n"
     ]
    },
    {
     "name": "stdout",
     "output_type": "stream",
     "text": [
      "Epoch 160, Loss 0.0236\n",
      "Training Accuracy: 0.9728, Testing Accuracy: 0.9703\n",
      "\n"
     ]
    },
    {
     "name": "stdout",
     "output_type": "stream",
     "text": [
      "Epoch 170, Loss 0.0231\n",
      "Training Accuracy: 0.9735, Testing Accuracy: 0.9703\n",
      "\n"
     ]
    },
    {
     "name": "stdout",
     "output_type": "stream",
     "text": [
      "Epoch 180, Loss 0.0226\n",
      "Training Accuracy: 0.9740, Testing Accuracy: 0.9713\n",
      "\n"
     ]
    },
    {
     "name": "stdout",
     "output_type": "stream",
     "text": [
      "Epoch 190, Loss 0.0221\n",
      "Training Accuracy: 0.9749, Testing Accuracy: 0.9718\n",
      "\n"
     ]
    },
    {
     "name": "stdout",
     "output_type": "stream",
     "text": [
      "Epoch 200, Loss 0.0217\n",
      "Training Accuracy: 0.9756, Testing Accuracy: 0.9718\n",
      "\n"
     ]
    },
    {
     "name": "stdout",
     "output_type": "stream",
     "text": [
      "Epoch 210, Loss 0.0212\n",
      "Training Accuracy: 0.9761, Testing Accuracy: 0.9718\n",
      "\n"
     ]
    },
    {
     "name": "stdout",
     "output_type": "stream",
     "text": [
      "Epoch 220, Loss 0.0208\n",
      "Training Accuracy: 0.9766, Testing Accuracy: 0.9718\n",
      "\n"
     ]
    },
    {
     "name": "stdout",
     "output_type": "stream",
     "text": [
      "Epoch 230, Loss 0.0204\n",
      "Training Accuracy: 0.9771, Testing Accuracy: 0.9718\n",
      "\n"
     ]
    },
    {
     "name": "stdout",
     "output_type": "stream",
     "text": [
      "Epoch 240, Loss 0.0201\n",
      "Training Accuracy: 0.9775, Testing Accuracy: 0.9718\n",
      "\n"
     ]
    },
    {
     "data": {
      "text/plain": [
       "0.007833115517271687"
      ]
     },
     "execution_count": 22,
     "metadata": {},
     "output_type": "execute_result"
    }
   ],
   "source": [
    "nn_learner.train_loop(dl)"
   ]
  },
  {
   "cell_type": "code",
   "execution_count": 23,
   "id": "e0163366",
   "metadata": {
    "execution": {
     "iopub.execute_input": "2022-11-18T00:46:53.329314Z",
     "iopub.status.busy": "2022-11-18T00:46:53.328614Z",
     "iopub.status.idle": "2022-11-18T00:47:09.170087Z",
     "shell.execute_reply": "2022-11-18T00:47:09.171058Z"
    },
    "papermill": {
     "duration": 15.896345,
     "end_time": "2022-11-18T00:47:09.171225",
     "exception": false,
     "start_time": "2022-11-18T00:46:53.274880",
     "status": "completed"
    },
    "tags": []
   },
   "outputs": [
    {
     "name": "stdout",
     "output_type": "stream",
     "text": [
      "Epoch 0, Loss 0.2541\n",
      "Training Accuracy: 0.6344, Testing Accuracy: 0.6436\n",
      "\n"
     ]
    },
    {
     "name": "stdout",
     "output_type": "stream",
     "text": [
      "Epoch 10, Loss 0.1019\n",
      "Training Accuracy: 0.9136, Testing Accuracy: 0.9178\n",
      "\n"
     ]
    },
    {
     "name": "stdout",
     "output_type": "stream",
     "text": [
      "Epoch 20, Loss 0.0778\n",
      "Training Accuracy: 0.9307, Testing Accuracy: 0.9380\n",
      "\n"
     ]
    },
    {
     "name": "stdout",
     "output_type": "stream",
     "text": [
      "Epoch 30, Loss 0.067\n",
      "Training Accuracy: 0.9379, Testing Accuracy: 0.9471\n",
      "\n"
     ]
    },
    {
     "name": "stdout",
     "output_type": "stream",
     "text": [
      "Epoch 40, Loss 0.0606\n",
      "Training Accuracy: 0.9417, Testing Accuracy: 0.9541\n",
      "\n"
     ]
    },
    {
     "name": "stdout",
     "output_type": "stream",
     "text": [
      "Epoch 50, Loss 0.0562\n",
      "Training Accuracy: 0.9458, Testing Accuracy: 0.9567\n",
      "\n"
     ]
    },
    {
     "name": "stdout",
     "output_type": "stream",
     "text": [
      "Epoch 60, Loss 0.053\n",
      "Training Accuracy: 0.9481, Testing Accuracy: 0.9592\n",
      "\n"
     ]
    },
    {
     "name": "stdout",
     "output_type": "stream",
     "text": [
      "Epoch 70, Loss 0.0506\n",
      "Training Accuracy: 0.9499, Testing Accuracy: 0.9597\n",
      "\n"
     ]
    },
    {
     "name": "stdout",
     "output_type": "stream",
     "text": [
      "Epoch 80, Loss 0.0486\n",
      "Training Accuracy: 0.9517, Testing Accuracy: 0.9612\n",
      "\n"
     ]
    },
    {
     "name": "stdout",
     "output_type": "stream",
     "text": [
      "Epoch 90, Loss 0.047\n",
      "Training Accuracy: 0.9526, Testing Accuracy: 0.9622\n",
      "\n"
     ]
    },
    {
     "name": "stdout",
     "output_type": "stream",
     "text": [
      "Epoch 100, Loss 0.0456\n",
      "Training Accuracy: 0.9535, Testing Accuracy: 0.9632\n",
      "\n"
     ]
    },
    {
     "name": "stdout",
     "output_type": "stream",
     "text": [
      "Epoch 110, Loss 0.0444\n",
      "Training Accuracy: 0.9548, Testing Accuracy: 0.9652\n",
      "\n"
     ]
    },
    {
     "name": "stdout",
     "output_type": "stream",
     "text": [
      "Epoch 120, Loss 0.0434\n",
      "Training Accuracy: 0.9557, Testing Accuracy: 0.9657\n",
      "\n"
     ]
    },
    {
     "name": "stdout",
     "output_type": "stream",
     "text": [
      "Epoch 130, Loss 0.0425\n",
      "Training Accuracy: 0.9568, Testing Accuracy: 0.9662\n",
      "\n"
     ]
    },
    {
     "name": "stdout",
     "output_type": "stream",
     "text": [
      "Epoch 140, Loss 0.0417\n",
      "Training Accuracy: 0.9575, Testing Accuracy: 0.9652\n",
      "\n"
     ]
    },
    {
     "name": "stdout",
     "output_type": "stream",
     "text": [
      "Epoch 150, Loss 0.0409\n",
      "Training Accuracy: 0.9576, Testing Accuracy: 0.9647\n",
      "\n"
     ]
    },
    {
     "name": "stdout",
     "output_type": "stream",
     "text": [
      "Epoch 160, Loss 0.0403\n",
      "Training Accuracy: 0.9581, Testing Accuracy: 0.9642\n",
      "\n"
     ]
    },
    {
     "name": "stdout",
     "output_type": "stream",
     "text": [
      "Epoch 170, Loss 0.0397\n",
      "Training Accuracy: 0.9587, Testing Accuracy: 0.9647\n",
      "\n"
     ]
    },
    {
     "name": "stdout",
     "output_type": "stream",
     "text": [
      "Epoch 180, Loss 0.0391\n",
      "Training Accuracy: 0.9592, Testing Accuracy: 0.9657\n",
      "\n"
     ]
    },
    {
     "name": "stdout",
     "output_type": "stream",
     "text": [
      "Epoch 190, Loss 0.0386\n",
      "Training Accuracy: 0.9594, Testing Accuracy: 0.9662\n",
      "\n"
     ]
    },
    {
     "name": "stdout",
     "output_type": "stream",
     "text": [
      "Epoch 200, Loss 0.0382\n",
      "Training Accuracy: 0.9595, Testing Accuracy: 0.9662\n",
      "\n"
     ]
    },
    {
     "name": "stdout",
     "output_type": "stream",
     "text": [
      "Epoch 210, Loss 0.0377\n",
      "Training Accuracy: 0.9599, Testing Accuracy: 0.9662\n",
      "\n"
     ]
    },
    {
     "name": "stdout",
     "output_type": "stream",
     "text": [
      "Epoch 220, Loss 0.0373\n",
      "Training Accuracy: 0.9604, Testing Accuracy: 0.9667\n",
      "\n"
     ]
    },
    {
     "name": "stdout",
     "output_type": "stream",
     "text": [
      "Epoch 230, Loss 0.037\n",
      "Training Accuracy: 0.9607, Testing Accuracy: 0.9667\n",
      "\n"
     ]
    },
    {
     "name": "stdout",
     "output_type": "stream",
     "text": [
      "Epoch 240, Loss 0.0366\n",
      "Training Accuracy: 0.9610, Testing Accuracy: 0.9667\n",
      "\n"
     ]
    },
    {
     "data": {
      "text/plain": [
       "0.0201621210221702"
      ]
     },
     "execution_count": 23,
     "metadata": {},
     "output_type": "execute_result"
    }
   ],
   "source": [
    "lr_learner.train_loop(dl)"
   ]
  },
  {
   "cell_type": "code",
   "execution_count": 24,
   "id": "ca410940",
   "metadata": {
    "execution": {
     "iopub.execute_input": "2022-11-18T00:47:09.274496Z",
     "iopub.status.busy": "2022-11-18T00:47:09.273773Z",
     "iopub.status.idle": "2022-11-18T00:47:09.550287Z",
     "shell.execute_reply": "2022-11-18T00:47:09.549440Z"
    },
    "papermill": {
     "duration": 0.332124,
     "end_time": "2022-11-18T00:47:09.550423",
     "exception": false,
     "start_time": "2022-11-18T00:47:09.218299",
     "status": "completed"
    },
    "tags": []
   },
   "outputs": [
    {
     "data": {
      "text/plain": [
       "<matplotlib.legend.Legend at 0x7f946d70b4e0>"
      ]
     },
     "execution_count": 24,
     "metadata": {},
     "output_type": "execute_result"
    },
    {
     "data": {
      "image/png": "[encoded data removed]",
      "text/plain": [
       "<Figure size 1080x720 with 1 Axes>"
      ]
     },
     "metadata": {
      "needs_background": "light"
     },
     "output_type": "display_data"
    }
   ],
   "source": [
    "#comparing the results of NN and LR\n",
    "plt.figure(figsize=(15,10))\n",
    "\n",
    "# Neural Network plots\n",
    "plt.plot(acc_nn.accuracies, 'r-', label = \"Training Accuracies - NN\")\n",
    "plt.plot(acc_nn.test_accuracies, 'g-', label = \"Testing Accuracies - NN\")\n",
    "\n",
    "# Logistic Regression plots\n",
    "plt.plot(acc_lr.accuracies, 'k-', label = \"Training Accuracies - LR\")\n",
    "plt.plot(acc_lr.test_accuracies, 'b-', label = \"Testing Accuracies - LR\")\n",
    "plt.legend()"
   ]
  },
  {
   "cell_type": "markdown",
   "id": "80dfb35c",
   "metadata": {
    "papermill": {
     "duration": 0.047181,
     "end_time": "2022-11-18T00:47:09.646110",
     "exception": false,
     "start_time": "2022-11-18T00:47:09.598929",
     "status": "completed"
    },
    "tags": []
   },
   "source": [
    "#### Plotting the outputs of this layer of the NN.\n"
   ]
  },
  {
   "cell_type": "code",
   "execution_count": 25,
   "id": "45eb2ff5",
   "metadata": {
    "execution": {
     "iopub.execute_input": "2022-11-18T00:47:09.755045Z",
     "iopub.status.busy": "2022-11-18T00:47:09.748141Z",
     "iopub.status.idle": "2022-11-18T00:47:09.769874Z",
     "shell.execute_reply": "2022-11-18T00:47:09.770779Z"
    },
    "papermill": {
     "duration": 0.077774,
     "end_time": "2022-11-18T00:47:09.770957",
     "exception": false,
     "start_time": "2022-11-18T00:47:09.693183",
     "status": "completed"
    },
    "tags": []
   },
   "outputs": [],
   "source": [
    "new_model = Model(layers[:-2])\n",
    "testing_plot = new_model(testing_data_x)"
   ]
  },
  {
   "cell_type": "code",
   "execution_count": 26,
   "id": "4c0a5485",
   "metadata": {
    "execution": {
     "iopub.execute_input": "2022-11-18T00:47:09.873681Z",
     "iopub.status.busy": "2022-11-18T00:47:09.872989Z",
     "iopub.status.idle": "2022-11-18T00:47:10.109649Z",
     "shell.execute_reply": "2022-11-18T00:47:10.110180Z"
    },
    "papermill": {
     "duration": 0.2901,
     "end_time": "2022-11-18T00:47:10.110338",
     "exception": false,
     "start_time": "2022-11-18T00:47:09.820238",
     "status": "completed"
    },
    "tags": []
   },
   "outputs": [
    {
     "data": {
      "text/plain": [
       "Text(0.5, 1.0, 'Outputs')"
      ]
     },
     "execution_count": 26,
     "metadata": {},
     "output_type": "execute_result"
    },
    {
     "data": {
      "image/png": "[encoded data removed]",
      "text/plain": [
       "<Figure size 576x504 with 1 Axes>"
      ]
     },
     "metadata": {
      "needs_background": "light"
     },
     "output_type": "display_data"
    }
   ],
   "source": [
    "# Plotting the scatter plot of points and color coding by class\n",
    "plt.figure(figsize=(8,7))\n",
    "plt.scatter(testing_plot[:,0], testing_plot[:,1], alpha = 0.1, c = y_test.ravel());\n",
    "plt.title('Outputs')"
   ]
  },
  {
   "cell_type": "markdown",
   "id": "a74fcf8f",
   "metadata": {
    "papermill": {
     "duration": 0.05138,
     "end_time": "2022-11-18T00:47:10.215743",
     "exception": false,
     "start_time": "2022-11-18T00:47:10.164363",
     "status": "completed"
    },
    "tags": []
   },
   "source": [
    "Probability contours"
   ]
  },
  {
   "cell_type": "code",
   "execution_count": 27,
   "id": "d0afc8e3",
   "metadata": {
    "execution": {
     "iopub.execute_input": "2022-11-18T00:47:10.365510Z",
     "iopub.status.busy": "2022-11-18T00:47:10.364817Z",
     "iopub.status.idle": "2022-11-18T00:47:10.378310Z",
     "shell.execute_reply": "2022-11-18T00:47:10.378849Z"
    },
    "papermill": {
     "duration": 0.075903,
     "end_time": "2022-11-18T00:47:10.379004",
     "exception": false,
     "start_time": "2022-11-18T00:47:10.303101",
     "status": "completed"
    },
    "tags": []
   },
   "outputs": [],
   "source": [
    "model_prob = Model(layers[-2:]) "
   ]
  },
  {
   "cell_type": "code",
   "execution_count": 28,
   "id": "9b96e238",
   "metadata": {
    "execution": {
     "iopub.execute_input": "2022-11-18T00:47:10.489671Z",
     "iopub.status.busy": "2022-11-18T00:47:10.488937Z",
     "iopub.status.idle": "2022-11-18T00:47:10.504324Z",
     "shell.execute_reply": "2022-11-18T00:47:10.504833Z"
    },
    "papermill": {
     "duration": 0.074357,
     "end_time": "2022-11-18T00:47:10.504986",
     "exception": false,
     "start_time": "2022-11-18T00:47:10.430629",
     "status": "completed"
    },
    "tags": []
   },
   "outputs": [],
   "source": [
    "#creating the x and y ranges according to the above generated plot.\n",
    "x_range = np.linspace(-4, 1, 100) \n",
    "y_range = np.linspace(-6, 6, 100) \n",
    "x_grid, y_grid = np.meshgrid(x_range, y_range) # x_grid and y_grig are of size 100 X 100\n",
    "\n",
    "# converting x_grid and y_grid to continuous arrays\n",
    "x_gridflat = np.ravel(x_grid)\n",
    "y_gridflat = np.ravel(y_grid)\n",
    "\n",
    "# The last layer of the current model takes two columns as input. Hence transpose of np.vstack() is required.\n",
    "X = np.vstack((x_gridflat, y_gridflat)).T\n",
    "\n",
    "prob_contour = model_prob(X).reshape(100,100) "
   ]
  },
  {
   "cell_type": "code",
   "execution_count": 29,
   "id": "da72499a",
   "metadata": {
    "execution": {
     "iopub.execute_input": "2022-11-18T00:47:10.617913Z",
     "iopub.status.busy": "2022-11-18T00:47:10.617209Z",
     "iopub.status.idle": "2022-11-18T00:47:10.902878Z",
     "shell.execute_reply": "2022-11-18T00:47:10.903382Z"
    },
    "papermill": {
     "duration": 0.346925,
     "end_time": "2022-11-18T00:47:10.903570",
     "exception": false,
     "start_time": "2022-11-18T00:47:10.556645",
     "status": "completed"
    },
    "tags": []
   },
   "outputs": [
    {
     "data": {
      "image/png": "[encoded data removed]",
      "text/plain": [
       "<Figure size 720x648 with 1 Axes>"
      ]
     },
     "metadata": {
      "needs_background": "light"
     },
     "output_type": "display_data"
    }
   ],
   "source": [
    "plt.figure(figsize=(10,9))\n",
    "plt.scatter(testing_plot[:,0], testing_plot[:,1], alpha = 0.1, c = y_test.ravel())\n",
    "contours = plt.contour(x_grid,y_grid,prob_contour)\n",
    "plt.title('Probability Contours')\n",
    "plt.clabel(contours, inline = True );"
   ]
  },
  {
   "cell_type": "code",
   "execution_count": null,
   "id": "e81b4ac7",
   "metadata": {
    "papermill": {
     "duration": 0.053627,
     "end_time": "2022-11-18T00:47:11.011217",
     "exception": false,
     "start_time": "2022-11-18T00:47:10.957590",
     "status": "completed"
    },
    "tags": []
   },
   "outputs": [],
   "source": []
  }
 ],
 "metadata": {
  "kernelspec": {
   "display_name": "Python 3",
   "language": "python",
   "name": "python3"
  },
  "language_info": {
   "codemirror_mode": {
    "name": "ipython",
    "version": 3
   },
   "file_extension": ".py",
   "mimetype": "text/x-python",
   "name": "python",
   "nbconvert_exporter": "python",
   "pygments_lexer": "ipython3",
   "version": "3.6.15"
  },
  "papermill": {
   "default_parameters": {},
   "duration": 112.328137,
   "end_time": "2022-11-18T00:47:11.486474",
   "environment_variables": {},
   "exception": null,
   "input_path": "2020-08-11-part2.ipynb",
   "output_path": "2020-08-11-part2.ipynb",
   "parameters": {},
   "start_time": "2022-11-18T00:45:19.158337",
   "version": "2.3.3"
  }
 },
 "nbformat": 4,
 "nbformat_minor": 5
}