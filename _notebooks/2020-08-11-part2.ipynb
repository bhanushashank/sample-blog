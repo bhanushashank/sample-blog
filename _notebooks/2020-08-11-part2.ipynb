{
 "cells": [
  {
   "cell_type": "markdown",
   "id": "98380cd3",
   "metadata": {
    "papermill": {
     "duration": 0.028803,
     "end_time": "2022-09-16T10:10:47.883437",
     "exception": false,
     "start_time": "2022-09-16T10:10:47.854634",
     "status": "completed"
    },
    "tags": []
   },
   "source": [
    "# Distinguish Your Own Digits (DYOD)"
   ]
  },
  {
   "cell_type": "markdown",
   "id": "ef31240d",
   "metadata": {
    "papermill": {
     "duration": 0.024054,
     "end_time": "2022-09-16T10:10:47.932261",
     "exception": false,
     "start_time": "2022-09-16T10:10:47.908207",
     "status": "completed"
    },
    "tags": []
   },
   "source": [
    "You are going to write a classifier that distinguishes between the number 3 and number 8."
   ]
  },
  {
   "cell_type": "code",
   "execution_count": 1,
   "id": "b15c8646",
   "metadata": {
    "execution": {
     "iopub.execute_input": "2022-09-16T10:10:47.990024Z",
     "iopub.status.busy": "2022-09-16T10:10:47.989455Z",
     "iopub.status.idle": "2022-09-16T10:10:47.999988Z",
     "shell.execute_reply": "2022-09-16T10:10:47.999411Z"
    },
    "papermill": {
     "duration": 0.043903,
     "end_time": "2022-09-16T10:10:48.000106",
     "exception": false,
     "start_time": "2022-09-16T10:10:47.956203",
     "status": "completed"
    },
    "tags": []
   },
   "outputs": [],
   "source": [
    "%load_ext autoreload\n",
    "%autoreload 2"
   ]
  },
  {
   "cell_type": "code",
   "execution_count": 2,
   "id": "22ef38dc",
   "metadata": {
    "execution": {
     "iopub.execute_input": "2022-09-16T10:10:48.051855Z",
     "iopub.status.busy": "2022-09-16T10:10:48.051270Z",
     "iopub.status.idle": "2022-09-16T10:10:48.559490Z",
     "shell.execute_reply": "2022-09-16T10:10:48.559005Z"
    },
    "papermill": {
     "duration": 0.535334,
     "end_time": "2022-09-16T10:10:48.559610",
     "exception": false,
     "start_time": "2022-09-16T10:10:48.024276",
     "status": "completed"
    },
    "tags": []
   },
   "outputs": [],
   "source": [
    "%matplotlib inline\n",
    "import numpy as np\n",
    "import matplotlib.pyplot as plt\n",
    "import pandas as pd"
   ]
  },
  {
   "cell_type": "markdown",
   "id": "ba036198",
   "metadata": {
    "papermill": {
     "duration": 0.024215,
     "end_time": "2022-09-16T10:10:48.608059",
     "exception": false,
     "start_time": "2022-09-16T10:10:48.583844",
     "status": "completed"
    },
    "tags": []
   },
   "source": [
    "From the command line run `pip install mnist`. This is a library that will help you bring down the mnist dataset. If you run this from a notebook, you need to put  `!pip install mnist` in a cell by itself."
   ]
  },
  {
   "cell_type": "code",
   "execution_count": 3,
   "id": "bb6ad8a1",
   "metadata": {
    "execution": {
     "iopub.execute_input": "2022-09-16T10:10:48.660827Z",
     "iopub.status.busy": "2022-09-16T10:10:48.660257Z",
     "iopub.status.idle": "2022-09-16T10:10:50.306976Z",
     "shell.execute_reply": "2022-09-16T10:10:50.306471Z"
    },
    "papermill": {
     "duration": 1.674693,
     "end_time": "2022-09-16T10:10:50.307089",
     "exception": false,
     "start_time": "2022-09-16T10:10:48.632396",
     "status": "completed"
    },
    "tags": []
   },
   "outputs": [
    {
     "name": "stdout",
     "output_type": "stream",
     "text": [
      "Collecting mnist\r\n"
     ]
    },
    {
     "name": "stdout",
     "output_type": "stream",
     "text": [
      "  Downloading mnist-0.2.2-py2.py3-none-any.whl (3.5 kB)\r\n",
      "Requirement already satisfied: numpy in /opt/hostedtoolcache/Python/3.6.15/x64/lib/python3.6/site-packages (from mnist) (1.19.5)\r\n"
     ]
    },
    {
     "name": "stdout",
     "output_type": "stream",
     "text": [
      "Installing collected packages: mnist\r\n"
     ]
    },
    {
     "name": "stdout",
     "output_type": "stream",
     "text": [
      "Successfully installed mnist-0.2.2\r\n"
     ]
    }
   ],
   "source": [
    "!pip install mnist"
   ]
  },
  {
   "cell_type": "markdown",
   "id": "69df9c9a",
   "metadata": {
    "papermill": {
     "duration": 0.02531,
     "end_time": "2022-09-16T10:10:50.358267",
     "exception": false,
     "start_time": "2022-09-16T10:10:50.332957",
     "status": "completed"
    },
    "tags": []
   },
   "source": [
    "## Preparing the Data"
   ]
  },
  {
   "cell_type": "code",
   "execution_count": 4,
   "id": "7f69d806",
   "metadata": {
    "execution": {
     "iopub.execute_input": "2022-09-16T10:10:50.412276Z",
     "iopub.status.busy": "2022-09-16T10:10:50.411705Z",
     "iopub.status.idle": "2022-09-16T10:10:50.425858Z",
     "shell.execute_reply": "2022-09-16T10:10:50.425407Z"
    },
    "papermill": {
     "duration": 0.042608,
     "end_time": "2022-09-16T10:10:50.425960",
     "exception": false,
     "start_time": "2022-09-16T10:10:50.383352",
     "status": "completed"
    },
    "tags": []
   },
   "outputs": [],
   "source": [
    "import mnist"
   ]
  },
  {
   "cell_type": "code",
   "execution_count": 5,
   "id": "a411e44f",
   "metadata": {
    "execution": {
     "iopub.execute_input": "2022-09-16T10:10:50.480029Z",
     "iopub.status.busy": "2022-09-16T10:10:50.479423Z",
     "iopub.status.idle": "2022-09-16T10:10:51.046453Z",
     "shell.execute_reply": "2022-09-16T10:10:51.045941Z"
    },
    "papermill": {
     "duration": 0.595424,
     "end_time": "2022-09-16T10:10:51.046565",
     "exception": false,
     "start_time": "2022-09-16T10:10:50.451141",
     "status": "completed"
    },
    "tags": []
   },
   "outputs": [],
   "source": [
    "train_images = mnist.train_images()\n",
    "train_labels = mnist.train_labels()"
   ]
  },
  {
   "cell_type": "code",
   "execution_count": 6,
   "id": "dceab3a5",
   "metadata": {
    "execution": {
     "iopub.execute_input": "2022-09-16T10:10:51.101134Z",
     "iopub.status.busy": "2022-09-16T10:10:51.100570Z",
     "iopub.status.idle": "2022-09-16T10:10:51.114884Z",
     "shell.execute_reply": "2022-09-16T10:10:51.114351Z"
    },
    "papermill": {
     "duration": 0.04276,
     "end_time": "2022-09-16T10:10:51.114988",
     "exception": false,
     "start_time": "2022-09-16T10:10:51.072228",
     "status": "completed"
    },
    "tags": []
   },
   "outputs": [
    {
     "data": {
      "text/plain": [
       "((60000, 28, 28), (60000,))"
      ]
     },
     "execution_count": 6,
     "metadata": {},
     "output_type": "execute_result"
    }
   ],
   "source": [
    "train_images.shape, train_labels.shape"
   ]
  },
  {
   "cell_type": "code",
   "execution_count": 7,
   "id": "f50dc2bb",
   "metadata": {
    "execution": {
     "iopub.execute_input": "2022-09-16T10:10:51.169603Z",
     "iopub.status.busy": "2022-09-16T10:10:51.169044Z",
     "iopub.status.idle": "2022-09-16T10:10:51.349040Z",
     "shell.execute_reply": "2022-09-16T10:10:51.348172Z"
    },
    "papermill": {
     "duration": 0.208675,
     "end_time": "2022-09-16T10:10:51.349168",
     "exception": false,
     "start_time": "2022-09-16T10:10:51.140493",
     "status": "completed"
    },
    "tags": []
   },
   "outputs": [],
   "source": [
    "test_images = mnist.test_images()\n",
    "test_labels = mnist.test_labels()"
   ]
  },
  {
   "cell_type": "code",
   "execution_count": 8,
   "id": "fc38cf1b",
   "metadata": {
    "execution": {
     "iopub.execute_input": "2022-09-16T10:10:51.404308Z",
     "iopub.status.busy": "2022-09-16T10:10:51.403735Z",
     "iopub.status.idle": "2022-09-16T10:10:51.417086Z",
     "shell.execute_reply": "2022-09-16T10:10:51.416548Z"
    },
    "papermill": {
     "duration": 0.042255,
     "end_time": "2022-09-16T10:10:51.417192",
     "exception": false,
     "start_time": "2022-09-16T10:10:51.374937",
     "status": "completed"
    },
    "tags": []
   },
   "outputs": [
    {
     "data": {
      "text/plain": [
       "((10000, 28, 28), (10000,))"
      ]
     },
     "execution_count": 8,
     "metadata": {},
     "output_type": "execute_result"
    }
   ],
   "source": [
    "test_images.shape, test_labels.shape"
   ]
  },
  {
   "cell_type": "code",
   "execution_count": 9,
   "id": "f9ed8fe0",
   "metadata": {
    "execution": {
     "iopub.execute_input": "2022-09-16T10:10:51.472365Z",
     "iopub.status.busy": "2022-09-16T10:10:51.471807Z",
     "iopub.status.idle": "2022-09-16T10:10:51.602663Z",
     "shell.execute_reply": "2022-09-16T10:10:51.603102Z"
    },
    "papermill": {
     "duration": 0.160336,
     "end_time": "2022-09-16T10:10:51.603227",
     "exception": false,
     "start_time": "2022-09-16T10:10:51.442891",
     "status": "completed"
    },
    "tags": []
   },
   "outputs": [
    {
     "name": "stdout",
     "output_type": "stream",
     "text": [
      "2\n"
     ]
    },
    {
     "data": {
      "text/plain": [
       "<matplotlib.image.AxesImage at 0x7f1be3e59c18>"
      ]
     },
     "execution_count": 9,
     "metadata": {},
     "output_type": "execute_result"
    },
    {
     "data": {
      "image/png": "[encoded data removed]",
      "text/plain": [
       "<Figure size 432x288 with 1 Axes>"
      ]
     },
     "metadata": {
      "needs_background": "light"
     },
     "output_type": "display_data"
    }
   ],
   "source": [
    "image_index = 7776 # You may select anything up to 60,000\n",
    "print(train_labels[image_index]) \n",
    "plt.imshow(train_images[image_index], cmap='Greys')"
   ]
  },
  {
   "cell_type": "markdown",
   "id": "a8d2388d",
   "metadata": {
    "papermill": {
     "duration": 0.027164,
     "end_time": "2022-09-16T10:10:51.657383",
     "exception": false,
     "start_time": "2022-09-16T10:10:51.630219",
     "status": "completed"
    },
    "tags": []
   },
   "source": [
    "## Filter data to get 3 and 8 out"
   ]
  },
  {
   "cell_type": "code",
   "execution_count": 10,
   "id": "776f7fc7",
   "metadata": {
    "execution": {
     "iopub.execute_input": "2022-09-16T10:10:51.717872Z",
     "iopub.status.busy": "2022-09-16T10:10:51.716422Z",
     "iopub.status.idle": "2022-09-16T10:10:51.732966Z",
     "shell.execute_reply": "2022-09-16T10:10:51.732506Z"
    },
    "papermill": {
     "duration": 0.048543,
     "end_time": "2022-09-16T10:10:51.733072",
     "exception": false,
     "start_time": "2022-09-16T10:10:51.684529",
     "status": "completed"
    },
    "tags": []
   },
   "outputs": [],
   "source": [
    "train_filter = np.where((train_labels == 3 ) | (train_labels == 8))\n",
    "test_filter = np.where((test_labels == 3) | (test_labels == 8))\n",
    "X_train, y_train = train_images[train_filter], train_labels[train_filter]\n",
    "X_test, y_test = test_images[test_filter], test_labels[test_filter]"
   ]
  },
  {
   "cell_type": "markdown",
   "id": "948f0b7e",
   "metadata": {
    "papermill": {
     "duration": 0.026811,
     "end_time": "2022-09-16T10:10:51.786951",
     "exception": false,
     "start_time": "2022-09-16T10:10:51.760140",
     "status": "completed"
    },
    "tags": []
   },
   "source": [
    "We normalize the pizel values in the 0 to 1 range"
   ]
  },
  {
   "cell_type": "code",
   "execution_count": 11,
   "id": "ee4c2166",
   "metadata": {
    "execution": {
     "iopub.execute_input": "2022-09-16T10:10:51.844405Z",
     "iopub.status.busy": "2022-09-16T10:10:51.843833Z",
     "iopub.status.idle": "2022-09-16T10:10:51.884511Z",
     "shell.execute_reply": "2022-09-16T10:10:51.884028Z"
    },
    "papermill": {
     "duration": 0.07082,
     "end_time": "2022-09-16T10:10:51.884636",
     "exception": false,
     "start_time": "2022-09-16T10:10:51.813816",
     "status": "completed"
    },
    "tags": []
   },
   "outputs": [],
   "source": [
    "X_train = X_train/255.\n",
    "X_test = X_test/255."
   ]
  },
  {
   "cell_type": "markdown",
   "id": "ddcf4fab",
   "metadata": {
    "papermill": {
     "duration": 0.027196,
     "end_time": "2022-09-16T10:10:51.938980",
     "exception": false,
     "start_time": "2022-09-16T10:10:51.911784",
     "status": "completed"
    },
    "tags": []
   },
   "source": [
    "And setup the labels as 1 (when the digit is 3) and 0 (when the digit is 8)"
   ]
  },
  {
   "cell_type": "code",
   "execution_count": 12,
   "id": "7dc908f2",
   "metadata": {
    "execution": {
     "iopub.execute_input": "2022-09-16T10:10:51.998965Z",
     "iopub.status.busy": "2022-09-16T10:10:51.997715Z",
     "iopub.status.idle": "2022-09-16T10:10:52.008468Z",
     "shell.execute_reply": "2022-09-16T10:10:52.008904Z"
    },
    "papermill": {
     "duration": 0.043034,
     "end_time": "2022-09-16T10:10:52.009027",
     "exception": false,
     "start_time": "2022-09-16T10:10:51.965993",
     "status": "completed"
    },
    "tags": []
   },
   "outputs": [],
   "source": [
    "y_train = 1*(y_train==3)\n",
    "y_test = 1*(y_test==3)"
   ]
  },
  {
   "cell_type": "code",
   "execution_count": 13,
   "id": "01e4e969",
   "metadata": {
    "execution": {
     "iopub.execute_input": "2022-09-16T10:10:52.067078Z",
     "iopub.status.busy": "2022-09-16T10:10:52.066512Z",
     "iopub.status.idle": "2022-09-16T10:10:52.079330Z",
     "shell.execute_reply": "2022-09-16T10:10:52.078864Z"
    },
    "papermill": {
     "duration": 0.043278,
     "end_time": "2022-09-16T10:10:52.079437",
     "exception": false,
     "start_time": "2022-09-16T10:10:52.036159",
     "status": "completed"
    },
    "tags": []
   },
   "outputs": [
    {
     "data": {
      "text/plain": [
       "((11982, 28, 28), (1984, 28, 28))"
      ]
     },
     "execution_count": 13,
     "metadata": {},
     "output_type": "execute_result"
    }
   ],
   "source": [
    "X_train.shape, X_test.shape"
   ]
  },
  {
   "cell_type": "markdown",
   "id": "5ccf3f85",
   "metadata": {
    "papermill": {
     "duration": 0.027157,
     "end_time": "2022-09-16T10:10:52.133927",
     "exception": false,
     "start_time": "2022-09-16T10:10:52.106770",
     "status": "completed"
    },
    "tags": []
   },
   "source": [
    "We reshape the data to flatten the image pixels into a set of features or co-variates:"
   ]
  },
  {
   "cell_type": "code",
   "execution_count": 14,
   "id": "5286a4a3",
   "metadata": {
    "execution": {
     "iopub.execute_input": "2022-09-16T10:10:52.192662Z",
     "iopub.status.busy": "2022-09-16T10:10:52.192084Z",
     "iopub.status.idle": "2022-09-16T10:10:52.206777Z",
     "shell.execute_reply": "2022-09-16T10:10:52.206021Z"
    },
    "papermill": {
     "duration": 0.045577,
     "end_time": "2022-09-16T10:10:52.206909",
     "exception": false,
     "start_time": "2022-09-16T10:10:52.161332",
     "status": "completed"
    },
    "tags": []
   },
   "outputs": [
    {
     "data": {
      "text/plain": [
       "((11982, 784), (1984, 784))"
      ]
     },
     "execution_count": 14,
     "metadata": {},
     "output_type": "execute_result"
    }
   ],
   "source": [
    "X_train = X_train.reshape(X_train.shape[0], -1)\n",
    "X_test = X_test.reshape(X_test.shape[0], -1)\n",
    "X_train.shape, X_test.shape"
   ]
  },
  {
   "cell_type": "code",
   "execution_count": 15,
   "id": "73c5f88a",
   "metadata": {
    "execution": {
     "iopub.execute_input": "2022-09-16T10:10:52.267206Z",
     "iopub.status.busy": "2022-09-16T10:10:52.266629Z",
     "iopub.status.idle": "2022-09-16T10:10:52.284113Z",
     "shell.execute_reply": "2022-09-16T10:10:52.283628Z"
    },
    "papermill": {
     "duration": 0.049755,
     "end_time": "2022-09-16T10:10:52.284218",
     "exception": false,
     "start_time": "2022-09-16T10:10:52.234463",
     "status": "completed"
    },
    "tags": []
   },
   "outputs": [],
   "source": [
    "#Impoting functions from 'Kudzu'\n",
    "from kudzu.model import Model\n",
    "from kudzu.train import Learner\n",
    "from kudzu.optim import GD\n",
    "from kudzu.data import Data, Sampler,Dataloader\n",
    "\n",
    "from kudzu.callbacks import AccCallback\n",
    "from kudzu.callbacks import ClfCallback\n",
    "\n",
    "from kudzu.loss import MSE\n",
    "\n",
    "from kudzu.layer import Sigmoid,Relu\n",
    "from kudzu.layer import Affine"
   ]
  },
  {
   "cell_type": "markdown",
   "id": "bc01172a",
   "metadata": {
    "papermill": {
     "duration": 0.028177,
     "end_time": "2022-09-16T10:10:52.339908",
     "exception": false,
     "start_time": "2022-09-16T10:10:52.311731",
     "status": "completed"
    },
    "tags": []
   },
   "source": [
    "### Let us create a `Config` class, to store important parameters. \n",
    "This class essentially plays the role of a dictionary."
   ]
  },
  {
   "cell_type": "code",
   "execution_count": 16,
   "id": "978281aa",
   "metadata": {
    "execution": {
     "iopub.execute_input": "2022-09-16T10:10:52.398528Z",
     "iopub.status.busy": "2022-09-16T10:10:52.397976Z",
     "iopub.status.idle": "2022-09-16T10:10:52.409921Z",
     "shell.execute_reply": "2022-09-16T10:10:52.409468Z"
    },
    "papermill": {
     "duration": 0.042863,
     "end_time": "2022-09-16T10:10:52.410023",
     "exception": false,
     "start_time": "2022-09-16T10:10:52.367160",
     "status": "completed"
    },
    "tags": []
   },
   "outputs": [],
   "source": [
    "class Config:\n",
    "    pass\n",
    "config = Config()\n",
    "config.lr = 0.001\n",
    "config.num_epochs = 250\n",
    "config.bs = 50"
   ]
  },
  {
   "cell_type": "markdown",
   "id": "1385fa59",
   "metadata": {
    "papermill": {
     "duration": 0.027456,
     "end_time": "2022-09-16T10:10:52.464922",
     "exception": false,
     "start_time": "2022-09-16T10:10:52.437466",
     "status": "completed"
    },
    "tags": []
   },
   "source": [
    "### Running Models with the Training data\n",
    "Details about the network layers:\n",
    "- A first affine layer has 784 inputs and does 100 affine transforms. These are followed by a Relu\n",
    "- A second affine layer has 100 inputs from the 100 activations of the past layer, and does 100 affine transforms. These are followed by a Relu\n",
    "- A third affine layer has 100 activations and does 2 affine transformations to create an embedding for visualization. There is no non-linearity here.\n",
    "- A final \"logistic regression\" which has an affine transform from 2 inputs to 1 output, which is squeezed through a sigmoid.\n"
   ]
  },
  {
   "cell_type": "code",
   "execution_count": 17,
   "id": "2b9c66db",
   "metadata": {
    "execution": {
     "iopub.execute_input": "2022-09-16T10:10:52.523992Z",
     "iopub.status.busy": "2022-09-16T10:10:52.523404Z",
     "iopub.status.idle": "2022-09-16T10:10:52.535235Z",
     "shell.execute_reply": "2022-09-16T10:10:52.534792Z"
    },
    "papermill": {
     "duration": 0.043143,
     "end_time": "2022-09-16T10:10:52.535337",
     "exception": false,
     "start_time": "2022-09-16T10:10:52.492194",
     "status": "completed"
    },
    "tags": []
   },
   "outputs": [],
   "source": [
    "data = Data(X_train, y_train.reshape(-1,1))\n",
    "sampler = Sampler(data, config.bs, shuffle=True)\n",
    "\n",
    "dl = Dataloader(data, sampler)\n",
    "\n",
    "opt = GD(config.lr)\n",
    "loss = MSE()"
   ]
  },
  {
   "cell_type": "code",
   "execution_count": 18,
   "id": "b275e4c2",
   "metadata": {
    "execution": {
     "iopub.execute_input": "2022-09-16T10:10:52.593347Z",
     "iopub.status.busy": "2022-09-16T10:10:52.592790Z",
     "iopub.status.idle": "2022-09-16T10:10:52.604415Z",
     "shell.execute_reply": "2022-09-16T10:10:52.604845Z"
    },
    "papermill": {
     "duration": 0.042342,
     "end_time": "2022-09-16T10:10:52.604958",
     "exception": false,
     "start_time": "2022-09-16T10:10:52.562616",
     "status": "completed"
    },
    "tags": []
   },
   "outputs": [],
   "source": [
    "training_data_x = X_train\n",
    "testing_data_x = X_test\n",
    "training_data_y = y_train.reshape(-1,1)\n",
    "testing_data_y = y_test.reshape(-1,1)"
   ]
  },
  {
   "cell_type": "code",
   "execution_count": 19,
   "id": "76951160",
   "metadata": {
    "execution": {
     "iopub.execute_input": "2022-09-16T10:10:52.663210Z",
     "iopub.status.busy": "2022-09-16T10:10:52.662660Z",
     "iopub.status.idle": "2022-09-16T10:10:52.678900Z",
     "shell.execute_reply": "2022-09-16T10:10:52.678352Z"
    },
    "papermill": {
     "duration": 0.04693,
     "end_time": "2022-09-16T10:10:52.679003",
     "exception": false,
     "start_time": "2022-09-16T10:10:52.632073",
     "status": "completed"
    },
    "tags": []
   },
   "outputs": [
    {
     "name": "stdout",
     "output_type": "stream",
     "text": [
      "xavier\n",
      "xavier\n",
      "xavier\n",
      "xavier\n",
      "xavier\n"
     ]
    }
   ],
   "source": [
    "layers = [Affine(\"first\", 784, 100), Relu(\"first\"), Affine(\"second\", 100, 100), Relu(\"second\"), Affine(\"third\", 100, 2), Affine(\"last\", 2, 1), Sigmoid(\"last\")]\n",
    "model_nn = Model(layers)\n",
    "model_lr = Model([Affine(\"logits\", 784, 1), Sigmoid(\"sigmoid\")])"
   ]
  },
  {
   "cell_type": "code",
   "execution_count": 20,
   "id": "6eede77a",
   "metadata": {
    "execution": {
     "iopub.execute_input": "2022-09-16T10:10:52.739026Z",
     "iopub.status.busy": "2022-09-16T10:10:52.738440Z",
     "iopub.status.idle": "2022-09-16T10:10:52.749830Z",
     "shell.execute_reply": "2022-09-16T10:10:52.749374Z"
    },
    "papermill": {
     "duration": 0.043326,
     "end_time": "2022-09-16T10:10:52.749931",
     "exception": false,
     "start_time": "2022-09-16T10:10:52.706605",
     "status": "completed"
    },
    "tags": []
   },
   "outputs": [],
   "source": [
    "nn_learner = Learner(loss, model_nn, opt, config.num_epochs)\n",
    "acc_nn = ClfCallback(nn_learner, config.bs, training_data_x , testing_data_x, training_data_y, testing_data_y)\n",
    "nn_learner.set_callbacks([acc_nn])"
   ]
  },
  {
   "cell_type": "code",
   "execution_count": 21,
   "id": "877b6cc7",
   "metadata": {
    "execution": {
     "iopub.execute_input": "2022-09-16T10:10:52.811417Z",
     "iopub.status.busy": "2022-09-16T10:10:52.809880Z",
     "iopub.status.idle": "2022-09-16T10:10:52.821468Z",
     "shell.execute_reply": "2022-09-16T10:10:52.821020Z"
    },
    "papermill": {
     "duration": 0.043971,
     "end_time": "2022-09-16T10:10:52.821569",
     "exception": false,
     "start_time": "2022-09-16T10:10:52.777598",
     "status": "completed"
    },
    "tags": []
   },
   "outputs": [],
   "source": [
    "lr_learner = Learner(loss, model_lr, opt, config.num_epochs)\n",
    "acc_lr = ClfCallback(lr_learner, config.bs, training_data_x , testing_data_x, training_data_y, testing_data_y)\n",
    "lr_learner.set_callbacks([acc_lr])"
   ]
  },
  {
   "cell_type": "code",
   "execution_count": 22,
   "id": "d9b133c3",
   "metadata": {
    "execution": {
     "iopub.execute_input": "2022-09-16T10:10:52.883953Z",
     "iopub.status.busy": "2022-09-16T10:10:52.882478Z",
     "iopub.status.idle": "2022-09-16T10:13:50.148935Z",
     "shell.execute_reply": "2022-09-16T10:13:50.149386Z"
    },
    "papermill": {
     "duration": 177.299985,
     "end_time": "2022-09-16T10:13:50.149924",
     "exception": false,
     "start_time": "2022-09-16T10:10:52.849939",
     "status": "completed"
    },
    "tags": []
   },
   "outputs": [
    {
     "name": "stdout",
     "output_type": "stream",
     "text": [
      "Epoch 0, Loss 0.2624\n",
      "Training Accuracy: 0.4927, Testing Accuracy: 0.4909\n",
      "\n"
     ]
    },
    {
     "name": "stdout",
     "output_type": "stream",
     "text": [
      "Epoch 10, Loss 0.1118\n",
      "Training Accuracy: 0.8997, Testing Accuracy: 0.9108\n",
      "\n"
     ]
    },
    {
     "name": "stdout",
     "output_type": "stream",
     "text": [
      "Epoch 20, Loss 0.0625\n",
      "Training Accuracy: 0.9387, Testing Accuracy: 0.9461\n",
      "\n"
     ]
    },
    {
     "name": "stdout",
     "output_type": "stream",
     "text": [
      "Epoch 30, Loss 0.0471\n",
      "Training Accuracy: 0.9500, Testing Accuracy: 0.9541\n",
      "\n"
     ]
    },
    {
     "name": "stdout",
     "output_type": "stream",
     "text": [
      "Epoch 40, Loss 0.0399\n",
      "Training Accuracy: 0.9559, Testing Accuracy: 0.9647\n",
      "\n"
     ]
    },
    {
     "name": "stdout",
     "output_type": "stream",
     "text": [
      "Epoch 50, Loss 0.0357\n",
      "Training Accuracy: 0.9602, Testing Accuracy: 0.9672\n",
      "\n"
     ]
    },
    {
     "name": "stdout",
     "output_type": "stream",
     "text": [
      "Epoch 60, Loss 0.0329\n",
      "Training Accuracy: 0.9633, Testing Accuracy: 0.9693\n",
      "\n"
     ]
    },
    {
     "name": "stdout",
     "output_type": "stream",
     "text": [
      "Epoch 70, Loss 0.0309\n",
      "Training Accuracy: 0.9654, Testing Accuracy: 0.9698\n",
      "\n"
     ]
    },
    {
     "name": "stdout",
     "output_type": "stream",
     "text": [
      "Epoch 80, Loss 0.0292\n",
      "Training Accuracy: 0.9664, Testing Accuracy: 0.9693\n",
      "\n"
     ]
    },
    {
     "name": "stdout",
     "output_type": "stream",
     "text": [
      "Epoch 90, Loss 0.0279\n",
      "Training Accuracy: 0.9675, Testing Accuracy: 0.9703\n",
      "\n"
     ]
    },
    {
     "name": "stdout",
     "output_type": "stream",
     "text": [
      "Epoch 100, Loss 0.0268\n",
      "Training Accuracy: 0.9690, Testing Accuracy: 0.9698\n",
      "\n"
     ]
    },
    {
     "name": "stdout",
     "output_type": "stream",
     "text": [
      "Epoch 110, Loss 0.0258\n",
      "Training Accuracy: 0.9710, Testing Accuracy: 0.9693\n",
      "\n"
     ]
    },
    {
     "name": "stdout",
     "output_type": "stream",
     "text": [
      "Epoch 120, Loss 0.025\n",
      "Training Accuracy: 0.9722, Testing Accuracy: 0.9708\n",
      "\n"
     ]
    },
    {
     "name": "stdout",
     "output_type": "stream",
     "text": [
      "Epoch 130, Loss 0.0242\n",
      "Training Accuracy: 0.9726, Testing Accuracy: 0.9713\n",
      "\n"
     ]
    },
    {
     "name": "stdout",
     "output_type": "stream",
     "text": [
      "Epoch 140, Loss 0.0235\n",
      "Training Accuracy: 0.9737, Testing Accuracy: 0.9718\n",
      "\n"
     ]
    },
    {
     "name": "stdout",
     "output_type": "stream",
     "text": [
      "Epoch 150, Loss 0.0229\n",
      "Training Accuracy: 0.9746, Testing Accuracy: 0.9713\n",
      "\n"
     ]
    },
    {
     "name": "stdout",
     "output_type": "stream",
     "text": [
      "Epoch 160, Loss 0.0223\n",
      "Training Accuracy: 0.9750, Testing Accuracy: 0.9708\n",
      "\n"
     ]
    },
    {
     "name": "stdout",
     "output_type": "stream",
     "text": [
      "Epoch 170, Loss 0.0217\n",
      "Training Accuracy: 0.9759, Testing Accuracy: 0.9718\n",
      "\n"
     ]
    },
    {
     "name": "stdout",
     "output_type": "stream",
     "text": [
      "Epoch 180, Loss 0.0212\n",
      "Training Accuracy: 0.9766, Testing Accuracy: 0.9728\n",
      "\n"
     ]
    },
    {
     "name": "stdout",
     "output_type": "stream",
     "text": [
      "Epoch 190, Loss 0.0207\n",
      "Training Accuracy: 0.9773, Testing Accuracy: 0.9723\n",
      "\n"
     ]
    },
    {
     "name": "stdout",
     "output_type": "stream",
     "text": [
      "Epoch 200, Loss 0.0203\n",
      "Training Accuracy: 0.9779, Testing Accuracy: 0.9723\n",
      "\n"
     ]
    },
    {
     "name": "stdout",
     "output_type": "stream",
     "text": [
      "Epoch 210, Loss 0.0199\n",
      "Training Accuracy: 0.9784, Testing Accuracy: 0.9723\n",
      "\n"
     ]
    },
    {
     "name": "stdout",
     "output_type": "stream",
     "text": [
      "Epoch 220, Loss 0.0194\n",
      "Training Accuracy: 0.9786, Testing Accuracy: 0.9728\n",
      "\n"
     ]
    },
    {
     "name": "stdout",
     "output_type": "stream",
     "text": [
      "Epoch 230, Loss 0.019\n",
      "Training Accuracy: 0.9795, Testing Accuracy: 0.9733\n",
      "\n"
     ]
    },
    {
     "name": "stdout",
     "output_type": "stream",
     "text": [
      "Epoch 240, Loss 0.0187\n",
      "Training Accuracy: 0.9796, Testing Accuracy: 0.9738\n",
      "\n"
     ]
    },
    {
     "data": {
      "text/plain": [
       "0.03422128249636613"
      ]
     },
     "execution_count": 22,
     "metadata": {},
     "output_type": "execute_result"
    }
   ],
   "source": [
    "nn_learner.train_loop(dl)"
   ]
  },
  {
   "cell_type": "code",
   "execution_count": 23,
   "id": "e0163366",
   "metadata": {
    "execution": {
     "iopub.execute_input": "2022-09-16T10:13:50.224978Z",
     "iopub.status.busy": "2022-09-16T10:13:50.224389Z",
     "iopub.status.idle": "2022-09-16T10:14:02.363108Z",
     "shell.execute_reply": "2022-09-16T10:14:02.363893Z"
    },
    "papermill": {
     "duration": 12.179238,
     "end_time": "2022-09-16T10:14:02.364032",
     "exception": false,
     "start_time": "2022-09-16T10:13:50.184794",
     "status": "completed"
    },
    "tags": []
   },
   "outputs": [
    {
     "name": "stdout",
     "output_type": "stream",
     "text": [
      "Epoch 0, Loss 0.235\n",
      "Training Accuracy: 0.7203, Testing Accuracy: 0.7535\n",
      "\n"
     ]
    },
    {
     "name": "stdout",
     "output_type": "stream",
     "text": [
      "Epoch 10, Loss 0.101\n",
      "Training Accuracy: 0.9155, Testing Accuracy: 0.9330\n",
      "\n"
     ]
    },
    {
     "name": "stdout",
     "output_type": "stream",
     "text": [
      "Epoch 20, Loss 0.0785\n",
      "Training Accuracy: 0.9301, Testing Accuracy: 0.9420\n",
      "\n"
     ]
    },
    {
     "name": "stdout",
     "output_type": "stream",
     "text": [
      "Epoch 30, Loss 0.0679\n",
      "Training Accuracy: 0.9367, Testing Accuracy: 0.9486\n",
      "\n"
     ]
    },
    {
     "name": "stdout",
     "output_type": "stream",
     "text": [
      "Epoch 40, Loss 0.0615\n",
      "Training Accuracy: 0.9415, Testing Accuracy: 0.9526\n",
      "\n"
     ]
    },
    {
     "name": "stdout",
     "output_type": "stream",
     "text": [
      "Epoch 50, Loss 0.057\n",
      "Training Accuracy: 0.9450, Testing Accuracy: 0.9546\n",
      "\n"
     ]
    },
    {
     "name": "stdout",
     "output_type": "stream",
     "text": [
      "Epoch 60, Loss 0.0537\n",
      "Training Accuracy: 0.9470, Testing Accuracy: 0.9567\n",
      "\n"
     ]
    },
    {
     "name": "stdout",
     "output_type": "stream",
     "text": [
      "Epoch 70, Loss 0.0512\n",
      "Training Accuracy: 0.9491, Testing Accuracy: 0.9592\n",
      "\n"
     ]
    },
    {
     "name": "stdout",
     "output_type": "stream",
     "text": [
      "Epoch 80, Loss 0.0491\n",
      "Training Accuracy: 0.9510, Testing Accuracy: 0.9597\n",
      "\n"
     ]
    },
    {
     "name": "stdout",
     "output_type": "stream",
     "text": [
      "Epoch 90, Loss 0.0474\n",
      "Training Accuracy: 0.9529, Testing Accuracy: 0.9612\n",
      "\n"
     ]
    },
    {
     "name": "stdout",
     "output_type": "stream",
     "text": [
      "Epoch 100, Loss 0.046\n",
      "Training Accuracy: 0.9540, Testing Accuracy: 0.9617\n",
      "\n"
     ]
    },
    {
     "name": "stdout",
     "output_type": "stream",
     "text": [
      "Epoch 110, Loss 0.0448\n",
      "Training Accuracy: 0.9550, Testing Accuracy: 0.9627\n",
      "\n"
     ]
    },
    {
     "name": "stdout",
     "output_type": "stream",
     "text": [
      "Epoch 120, Loss 0.0437\n",
      "Training Accuracy: 0.9559, Testing Accuracy: 0.9637\n",
      "\n"
     ]
    },
    {
     "name": "stdout",
     "output_type": "stream",
     "text": [
      "Epoch 130, Loss 0.0428\n",
      "Training Accuracy: 0.9561, Testing Accuracy: 0.9647\n",
      "\n"
     ]
    },
    {
     "name": "stdout",
     "output_type": "stream",
     "text": [
      "Epoch 140, Loss 0.042\n",
      "Training Accuracy: 0.9567, Testing Accuracy: 0.9657\n",
      "\n"
     ]
    },
    {
     "name": "stdout",
     "output_type": "stream",
     "text": [
      "Epoch 150, Loss 0.0412\n",
      "Training Accuracy: 0.9569, Testing Accuracy: 0.9652\n",
      "\n"
     ]
    },
    {
     "name": "stdout",
     "output_type": "stream",
     "text": [
      "Epoch 160, Loss 0.0405\n",
      "Training Accuracy: 0.9574, Testing Accuracy: 0.9652\n",
      "\n"
     ]
    },
    {
     "name": "stdout",
     "output_type": "stream",
     "text": [
      "Epoch 170, Loss 0.0399\n",
      "Training Accuracy: 0.9583, Testing Accuracy: 0.9657\n",
      "\n"
     ]
    },
    {
     "name": "stdout",
     "output_type": "stream",
     "text": [
      "Epoch 180, Loss 0.0393\n",
      "Training Accuracy: 0.9586, Testing Accuracy: 0.9657\n",
      "\n"
     ]
    },
    {
     "name": "stdout",
     "output_type": "stream",
     "text": [
      "Epoch 190, Loss 0.0388\n",
      "Training Accuracy: 0.9592, Testing Accuracy: 0.9667\n",
      "\n"
     ]
    },
    {
     "name": "stdout",
     "output_type": "stream",
     "text": [
      "Epoch 200, Loss 0.0383\n",
      "Training Accuracy: 0.9594, Testing Accuracy: 0.9672\n",
      "\n"
     ]
    },
    {
     "name": "stdout",
     "output_type": "stream",
     "text": [
      "Epoch 210, Loss 0.0379\n",
      "Training Accuracy: 0.9599, Testing Accuracy: 0.9672\n",
      "\n"
     ]
    },
    {
     "name": "stdout",
     "output_type": "stream",
     "text": [
      "Epoch 220, Loss 0.0375\n",
      "Training Accuracy: 0.9603, Testing Accuracy: 0.9672\n",
      "\n"
     ]
    },
    {
     "name": "stdout",
     "output_type": "stream",
     "text": [
      "Epoch 230, Loss 0.0371\n",
      "Training Accuracy: 0.9607, Testing Accuracy: 0.9682\n",
      "\n"
     ]
    },
    {
     "name": "stdout",
     "output_type": "stream",
     "text": [
      "Epoch 240, Loss 0.0367\n",
      "Training Accuracy: 0.9609, Testing Accuracy: 0.9688\n",
      "\n"
     ]
    },
    {
     "data": {
      "text/plain": [
       "0.021553661744811308"
      ]
     },
     "execution_count": 23,
     "metadata": {},
     "output_type": "execute_result"
    }
   ],
   "source": [
    "lr_learner.train_loop(dl)"
   ]
  },
  {
   "cell_type": "code",
   "execution_count": 24,
   "id": "ca410940",
   "metadata": {
    "execution": {
     "iopub.execute_input": "2022-09-16T10:14:02.454443Z",
     "iopub.status.busy": "2022-09-16T10:14:02.453853Z",
     "iopub.status.idle": "2022-09-16T10:14:02.677965Z",
     "shell.execute_reply": "2022-09-16T10:14:02.678414Z"
    },
    "papermill": {
     "duration": 0.272243,
     "end_time": "2022-09-16T10:14:02.678539",
     "exception": false,
     "start_time": "2022-09-16T10:14:02.406296",
     "status": "completed"
    },
    "tags": []
   },
   "outputs": [
    {
     "data": {
      "text/plain": [
       "<matplotlib.legend.Legend at 0x7f1be39c82e8>"
      ]
     },
     "execution_count": 24,
     "metadata": {},
     "output_type": "execute_result"
    },
    {
     "data": {
      "image/png": "[encoded data removed]",
      "text/plain": [
       "<Figure size 1080x720 with 1 Axes>"
      ]
     },
     "metadata": {
      "needs_background": "light"
     },
     "output_type": "display_data"
    }
   ],
   "source": [
    "#comparing the results of NN and LR\n",
    "plt.figure(figsize=(15,10))\n",
    "\n",
    "# Neural Network plots\n",
    "plt.plot(acc_nn.accuracies, 'r-', label = \"Training Accuracies - NN\")\n",
    "plt.plot(acc_nn.test_accuracies, 'g-', label = \"Testing Accuracies - NN\")\n",
    "\n",
    "# Logistic Regression plots\n",
    "plt.plot(acc_lr.accuracies, 'k-', label = \"Training Accuracies - LR\")\n",
    "plt.plot(acc_lr.test_accuracies, 'b-', label = \"Testing Accuracies - LR\")\n",
    "plt.legend()"
   ]
  },
  {
   "cell_type": "markdown",
   "id": "80dfb35c",
   "metadata": {
    "papermill": {
     "duration": 0.042537,
     "end_time": "2022-09-16T10:14:02.763841",
     "exception": false,
     "start_time": "2022-09-16T10:14:02.721304",
     "status": "completed"
    },
    "tags": []
   },
   "source": [
    "#### Plotting the outputs of this layer of the NN.\n"
   ]
  },
  {
   "cell_type": "code",
   "execution_count": 25,
   "id": "45eb2ff5",
   "metadata": {
    "execution": {
     "iopub.execute_input": "2022-09-16T10:14:02.853080Z",
     "iopub.status.busy": "2022-09-16T10:14:02.852502Z",
     "iopub.status.idle": "2022-09-16T10:14:02.887688Z",
     "shell.execute_reply": "2022-09-16T10:14:02.888337Z"
    },
    "papermill": {
     "duration": 0.082064,
     "end_time": "2022-09-16T10:14:02.888466",
     "exception": false,
     "start_time": "2022-09-16T10:14:02.806402",
     "status": "completed"
    },
    "tags": []
   },
   "outputs": [],
   "source": [
    "new_model = Model(layers[:-2])\n",
    "testing_plot = new_model(testing_data_x)"
   ]
  },
  {
   "cell_type": "code",
   "execution_count": 26,
   "id": "4c0a5485",
   "metadata": {
    "execution": {
     "iopub.execute_input": "2022-09-16T10:14:02.978466Z",
     "iopub.status.busy": "2022-09-16T10:14:02.977895Z",
     "iopub.status.idle": "2022-09-16T10:14:03.163961Z",
     "shell.execute_reply": "2022-09-16T10:14:03.163490Z"
    },
    "papermill": {
     "duration": 0.232361,
     "end_time": "2022-09-16T10:14:03.164077",
     "exception": false,
     "start_time": "2022-09-16T10:14:02.931716",
     "status": "completed"
    },
    "tags": []
   },
   "outputs": [
    {
     "data": {
      "text/plain": [
       "Text(0.5, 1.0, 'Outputs')"
      ]
     },
     "execution_count": 26,
     "metadata": {},
     "output_type": "execute_result"
    },
    {
     "data": {
      "image/png": "[encoded data removed]",
      "text/plain": [
       "<Figure size 576x504 with 1 Axes>"
      ]
     },
     "metadata": {
      "needs_background": "light"
     },
     "output_type": "display_data"
    }
   ],
   "source": [
    "# Plotting the scatter plot of points and color coding by class\n",
    "plt.figure(figsize=(8,7))\n",
    "plt.scatter(testing_plot[:,0], testing_plot[:,1], alpha = 0.1, c = y_test.ravel());\n",
    "plt.title('Outputs')"
   ]
  },
  {
   "cell_type": "markdown",
   "id": "a74fcf8f",
   "metadata": {
    "papermill": {
     "duration": 0.044562,
     "end_time": "2022-09-16T10:14:03.278889",
     "exception": false,
     "start_time": "2022-09-16T10:14:03.234327",
     "status": "completed"
    },
    "tags": []
   },
   "source": [
    "Probability contours"
   ]
  },
  {
   "cell_type": "code",
   "execution_count": 27,
   "id": "d0afc8e3",
   "metadata": {
    "execution": {
     "iopub.execute_input": "2022-09-16T10:14:03.372722Z",
     "iopub.status.busy": "2022-09-16T10:14:03.372131Z",
     "iopub.status.idle": "2022-09-16T10:14:03.383688Z",
     "shell.execute_reply": "2022-09-16T10:14:03.383189Z"
    },
    "papermill": {
     "duration": 0.059578,
     "end_time": "2022-09-16T10:14:03.383800",
     "exception": false,
     "start_time": "2022-09-16T10:14:03.324222",
     "status": "completed"
    },
    "tags": []
   },
   "outputs": [],
   "source": [
    "model_prob = Model(layers[-2:]) "
   ]
  },
  {
   "cell_type": "code",
   "execution_count": 28,
   "id": "9b96e238",
   "metadata": {
    "execution": {
     "iopub.execute_input": "2022-09-16T10:14:03.478055Z",
     "iopub.status.busy": "2022-09-16T10:14:03.477484Z",
     "iopub.status.idle": "2022-09-16T10:14:03.490518Z",
     "shell.execute_reply": "2022-09-16T10:14:03.490950Z"
    },
    "papermill": {
     "duration": 0.06246,
     "end_time": "2022-09-16T10:14:03.491083",
     "exception": false,
     "start_time": "2022-09-16T10:14:03.428623",
     "status": "completed"
    },
    "tags": []
   },
   "outputs": [],
   "source": [
    "#creating the x and y ranges according to the above generated plot.\n",
    "x_range = np.linspace(-4, 1, 100) \n",
    "y_range = np.linspace(-6, 6, 100) \n",
    "x_grid, y_grid = np.meshgrid(x_range, y_range) # x_grid and y_grig are of size 100 X 100\n",
    "\n",
    "# converting x_grid and y_grid to continuous arrays\n",
    "x_gridflat = np.ravel(x_grid)\n",
    "y_gridflat = np.ravel(y_grid)\n",
    "\n",
    "# The last layer of the current model takes two columns as input. Hence transpose of np.vstack() is required.\n",
    "X = np.vstack((x_gridflat, y_gridflat)).T\n",
    "\n",
    "prob_contour = model_prob(X).reshape(100,100) "
   ]
  },
  {
   "cell_type": "code",
   "execution_count": 29,
   "id": "da72499a",
   "metadata": {
    "execution": {
     "iopub.execute_input": "2022-09-16T10:14:03.585112Z",
     "iopub.status.busy": "2022-09-16T10:14:03.584549Z",
     "iopub.status.idle": "2022-09-16T10:14:03.830717Z",
     "shell.execute_reply": "2022-09-16T10:14:03.830222Z"
    },
    "papermill": {
     "duration": 0.294322,
     "end_time": "2022-09-16T10:14:03.830828",
     "exception": false,
     "start_time": "2022-09-16T10:14:03.536506",
     "status": "completed"
    },
    "tags": []
   },
   "outputs": [
    {
     "data": {
      "image/png": "[encoded data removed]",
      "text/plain": [
       "<Figure size 720x648 with 1 Axes>"
      ]
     },
     "metadata": {
      "needs_background": "light"
     },
     "output_type": "display_data"
    }
   ],
   "source": [
    "plt.figure(figsize=(10,9))\n",
    "plt.scatter(testing_plot[:,0], testing_plot[:,1], alpha = 0.1, c = y_test.ravel())\n",
    "contours = plt.contour(x_grid,y_grid,prob_contour)\n",
    "plt.title('Probability Contours')\n",
    "plt.clabel(contours, inline = True );"
   ]
  },
  {
   "cell_type": "code",
   "execution_count": null,
   "id": "e81b4ac7",
   "metadata": {
    "papermill": {
     "duration": 0.048233,
     "end_time": "2022-09-16T10:14:03.927074",
     "exception": false,
     "start_time": "2022-09-16T10:14:03.878841",
     "status": "completed"
    },
    "tags": []
   },
   "outputs": [],
   "source": []
  }
 ],
 "metadata": {
  "kernelspec": {
   "display_name": "Python 3",
   "language": "python",
   "name": "python3"
  },
  "language_info": {
   "codemirror_mode": {
    "name": "ipython",
    "version": 3
   },
   "file_extension": ".py",
   "mimetype": "text/x-python",
   "name": "python",
   "nbconvert_exporter": "python",
   "pygments_lexer": "ipython3",
   "version": "3.6.15"
  },
  "papermill": {
   "default_parameters": {},
   "duration": 197.361057,
   "end_time": "2022-09-16T10:14:04.291641",
   "environment_variables": {},
   "exception": null,
   "input_path": "2020-08-11-part2.ipynb",
   "output_path": "2020-08-11-part2.ipynb",
   "parameters": {},
   "start_time": "2022-09-16T10:10:46.930584",
   "version": "2.3.3"
  }
 },
 "nbformat": 4,
 "nbformat_minor": 5
}