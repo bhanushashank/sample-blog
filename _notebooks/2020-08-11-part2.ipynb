{
 "cells": [
  {
   "cell_type": "markdown",
   "id": "98380cd3",
   "metadata": {
    "papermill": {
     "duration": 0.026048,
     "end_time": "2022-01-28T00:25:21.144971",
     "exception": false,
     "start_time": "2022-01-28T00:25:21.118923",
     "status": "completed"
    },
    "tags": []
   },
   "source": [
    "# Distinguish Your Own Digits (DYOD)"
   ]
  },
  {
   "cell_type": "markdown",
   "id": "ef31240d",
   "metadata": {
    "papermill": {
     "duration": 0.020328,
     "end_time": "2022-01-28T00:25:21.185932",
     "exception": false,
     "start_time": "2022-01-28T00:25:21.165604",
     "status": "completed"
    },
    "tags": []
   },
   "source": [
    "You are going to write a classifier that distinguishes between the number 3 and number 8."
   ]
  },
  {
   "cell_type": "code",
   "execution_count": 1,
   "id": "b15c8646",
   "metadata": {
    "execution": {
     "iopub.execute_input": "2022-01-28T00:25:21.240245Z",
     "iopub.status.busy": "2022-01-28T00:25:21.239772Z",
     "iopub.status.idle": "2022-01-28T00:25:21.249420Z",
     "shell.execute_reply": "2022-01-28T00:25:21.249024Z"
    },
    "papermill": {
     "duration": 0.043036,
     "end_time": "2022-01-28T00:25:21.249549",
     "exception": false,
     "start_time": "2022-01-28T00:25:21.206513",
     "status": "completed"
    },
    "tags": []
   },
   "outputs": [],
   "source": [
    "%load_ext autoreload\n",
    "%autoreload 2"
   ]
  },
  {
   "cell_type": "code",
   "execution_count": 2,
   "id": "22ef38dc",
   "metadata": {
    "execution": {
     "iopub.execute_input": "2022-01-28T00:25:21.301380Z",
     "iopub.status.busy": "2022-01-28T00:25:21.300902Z",
     "iopub.status.idle": "2022-01-28T00:25:21.802692Z",
     "shell.execute_reply": "2022-01-28T00:25:21.802149Z"
    },
    "papermill": {
     "duration": 0.532608,
     "end_time": "2022-01-28T00:25:21.802832",
     "exception": false,
     "start_time": "2022-01-28T00:25:21.270224",
     "status": "completed"
    },
    "tags": []
   },
   "outputs": [],
   "source": [
    "%matplotlib inline\n",
    "import numpy as np\n",
    "import matplotlib.pyplot as plt\n",
    "import pandas as pd"
   ]
  },
  {
   "cell_type": "markdown",
   "id": "ba036198",
   "metadata": {
    "papermill": {
     "duration": 0.023755,
     "end_time": "2022-01-28T00:25:21.851256",
     "exception": false,
     "start_time": "2022-01-28T00:25:21.827501",
     "status": "completed"
    },
    "tags": []
   },
   "source": [
    "From the command line run `pip install mnist`. This is a library that will help you bring down the mnist dataset. If you run this from a notebook, you need to put  `!pip install mnist` in a cell by itself."
   ]
  },
  {
   "cell_type": "code",
   "execution_count": 3,
   "id": "bb6ad8a1",
   "metadata": {
    "execution": {
     "iopub.execute_input": "2022-01-28T00:25:21.903064Z",
     "iopub.status.busy": "2022-01-28T00:25:21.902085Z",
     "iopub.status.idle": "2022-01-28T00:25:23.478070Z",
     "shell.execute_reply": "2022-01-28T00:25:23.477532Z"
    },
    "papermill": {
     "duration": 1.60334,
     "end_time": "2022-01-28T00:25:23.478216",
     "exception": false,
     "start_time": "2022-01-28T00:25:21.874876",
     "status": "completed"
    },
    "tags": []
   },
   "outputs": [
    {
     "name": "stdout",
     "output_type": "stream",
     "text": [
      "Collecting mnist\r\n"
     ]
    },
    {
     "name": "stdout",
     "output_type": "stream",
     "text": [
      "  Downloading mnist-0.2.2-py2.py3-none-any.whl (3.5 kB)\r\n",
      "Requirement already satisfied: numpy in /opt/hostedtoolcache/Python/3.6.15/x64/lib/python3.6/site-packages (from mnist) (1.19.5)\r\n"
     ]
    },
    {
     "name": "stdout",
     "output_type": "stream",
     "text": [
      "Installing collected packages: mnist\r\n",
      "Successfully installed mnist-0.2.2\r\n"
     ]
    }
   ],
   "source": [
    "!pip install mnist"
   ]
  },
  {
   "cell_type": "markdown",
   "id": "69df9c9a",
   "metadata": {
    "papermill": {
     "duration": 0.020667,
     "end_time": "2022-01-28T00:25:23.521314",
     "exception": false,
     "start_time": "2022-01-28T00:25:23.500647",
     "status": "completed"
    },
    "tags": []
   },
   "source": [
    "## Preparing the Data"
   ]
  },
  {
   "cell_type": "code",
   "execution_count": 4,
   "id": "7f69d806",
   "metadata": {
    "execution": {
     "iopub.execute_input": "2022-01-28T00:25:23.571336Z",
     "iopub.status.busy": "2022-01-28T00:25:23.570866Z",
     "iopub.status.idle": "2022-01-28T00:25:23.580751Z",
     "shell.execute_reply": "2022-01-28T00:25:23.580392Z"
    },
    "papermill": {
     "duration": 0.038322,
     "end_time": "2022-01-28T00:25:23.580855",
     "exception": false,
     "start_time": "2022-01-28T00:25:23.542533",
     "status": "completed"
    },
    "tags": []
   },
   "outputs": [],
   "source": [
    "import mnist"
   ]
  },
  {
   "cell_type": "code",
   "execution_count": 5,
   "id": "a411e44f",
   "metadata": {
    "execution": {
     "iopub.execute_input": "2022-01-28T00:25:23.631750Z",
     "iopub.status.busy": "2022-01-28T00:25:23.631289Z",
     "iopub.status.idle": "2022-01-28T00:25:24.087368Z",
     "shell.execute_reply": "2022-01-28T00:25:24.086453Z"
    },
    "papermill": {
     "duration": 0.485749,
     "end_time": "2022-01-28T00:25:24.087501",
     "exception": false,
     "start_time": "2022-01-28T00:25:23.601752",
     "status": "completed"
    },
    "tags": []
   },
   "outputs": [],
   "source": [
    "train_images = mnist.train_images()\n",
    "train_labels = mnist.train_labels()"
   ]
  },
  {
   "cell_type": "code",
   "execution_count": 6,
   "id": "dceab3a5",
   "metadata": {
    "execution": {
     "iopub.execute_input": "2022-01-28T00:25:24.135145Z",
     "iopub.status.busy": "2022-01-28T00:25:24.134647Z",
     "iopub.status.idle": "2022-01-28T00:25:24.146274Z",
     "shell.execute_reply": "2022-01-28T00:25:24.146713Z"
    },
    "papermill": {
     "duration": 0.037557,
     "end_time": "2022-01-28T00:25:24.146835",
     "exception": false,
     "start_time": "2022-01-28T00:25:24.109278",
     "status": "completed"
    },
    "tags": []
   },
   "outputs": [
    {
     "data": {
      "text/plain": [
       "((60000, 28, 28), (60000,))"
      ]
     },
     "execution_count": 6,
     "metadata": {},
     "output_type": "execute_result"
    }
   ],
   "source": [
    "train_images.shape, train_labels.shape"
   ]
  },
  {
   "cell_type": "code",
   "execution_count": 7,
   "id": "f50dc2bb",
   "metadata": {
    "execution": {
     "iopub.execute_input": "2022-01-28T00:25:24.193648Z",
     "iopub.status.busy": "2022-01-28T00:25:24.193201Z",
     "iopub.status.idle": "2022-01-28T00:25:24.307306Z",
     "shell.execute_reply": "2022-01-28T00:25:24.306870Z"
    },
    "papermill": {
     "duration": 0.138781,
     "end_time": "2022-01-28T00:25:24.307423",
     "exception": false,
     "start_time": "2022-01-28T00:25:24.168642",
     "status": "completed"
    },
    "tags": []
   },
   "outputs": [],
   "source": [
    "test_images = mnist.test_images()\n",
    "test_labels = mnist.test_labels()"
   ]
  },
  {
   "cell_type": "code",
   "execution_count": 8,
   "id": "fc38cf1b",
   "metadata": {
    "execution": {
     "iopub.execute_input": "2022-01-28T00:25:24.354699Z",
     "iopub.status.busy": "2022-01-28T00:25:24.354213Z",
     "iopub.status.idle": "2022-01-28T00:25:24.366623Z",
     "shell.execute_reply": "2022-01-28T00:25:24.366239Z"
    },
    "papermill": {
     "duration": 0.037223,
     "end_time": "2022-01-28T00:25:24.366725",
     "exception": false,
     "start_time": "2022-01-28T00:25:24.329502",
     "status": "completed"
    },
    "tags": []
   },
   "outputs": [
    {
     "data": {
      "text/plain": [
       "((10000, 28, 28), (10000,))"
      ]
     },
     "execution_count": 8,
     "metadata": {},
     "output_type": "execute_result"
    }
   ],
   "source": [
    "test_images.shape, test_labels.shape"
   ]
  },
  {
   "cell_type": "code",
   "execution_count": 9,
   "id": "f9ed8fe0",
   "metadata": {
    "execution": {
     "iopub.execute_input": "2022-01-28T00:25:24.438642Z",
     "iopub.status.busy": "2022-01-28T00:25:24.425367Z",
     "iopub.status.idle": "2022-01-28T00:25:24.542371Z",
     "shell.execute_reply": "2022-01-28T00:25:24.541989Z"
    },
    "papermill": {
     "duration": 0.153545,
     "end_time": "2022-01-28T00:25:24.542474",
     "exception": false,
     "start_time": "2022-01-28T00:25:24.388929",
     "status": "completed"
    },
    "tags": []
   },
   "outputs": [
    {
     "name": "stdout",
     "output_type": "stream",
     "text": [
      "2\n"
     ]
    },
    {
     "data": {
      "text/plain": [
       "<matplotlib.image.AxesImage at 0x7febd8328cc0>"
      ]
     },
     "execution_count": 9,
     "metadata": {},
     "output_type": "execute_result"
    },
    {
     "data": {
      "image/png": "[encoded data removed]",
      "text/plain": [
       "<Figure size 432x288 with 1 Axes>"
      ]
     },
     "metadata": {
      "needs_background": "light"
     },
     "output_type": "display_data"
    }
   ],
   "source": [
    "image_index = 7776 # You may select anything up to 60,000\n",
    "print(train_labels[image_index]) \n",
    "plt.imshow(train_images[image_index], cmap='Greys')"
   ]
  },
  {
   "cell_type": "markdown",
   "id": "a8d2388d",
   "metadata": {
    "papermill": {
     "duration": 0.022381,
     "end_time": "2022-01-28T00:25:24.587441",
     "exception": false,
     "start_time": "2022-01-28T00:25:24.565060",
     "status": "completed"
    },
    "tags": []
   },
   "source": [
    "## Filter data to get 3 and 8 out"
   ]
  },
  {
   "cell_type": "code",
   "execution_count": 10,
   "id": "776f7fc7",
   "metadata": {
    "execution": {
     "iopub.execute_input": "2022-01-28T00:25:24.640126Z",
     "iopub.status.busy": "2022-01-28T00:25:24.639649Z",
     "iopub.status.idle": "2022-01-28T00:25:24.655301Z",
     "shell.execute_reply": "2022-01-28T00:25:24.654933Z"
    },
    "papermill": {
     "duration": 0.046044,
     "end_time": "2022-01-28T00:25:24.655396",
     "exception": false,
     "start_time": "2022-01-28T00:25:24.609352",
     "status": "completed"
    },
    "tags": []
   },
   "outputs": [],
   "source": [
    "train_filter = np.where((train_labels == 3 ) | (train_labels == 8))\n",
    "test_filter = np.where((test_labels == 3) | (test_labels == 8))\n",
    "X_train, y_train = train_images[train_filter], train_labels[train_filter]\n",
    "X_test, y_test = test_images[test_filter], test_labels[test_filter]"
   ]
  },
  {
   "cell_type": "markdown",
   "id": "948f0b7e",
   "metadata": {
    "papermill": {
     "duration": 0.022203,
     "end_time": "2022-01-28T00:25:24.699631",
     "exception": false,
     "start_time": "2022-01-28T00:25:24.677428",
     "status": "completed"
    },
    "tags": []
   },
   "source": [
    "We normalize the pizel values in the 0 to 1 range"
   ]
  },
  {
   "cell_type": "code",
   "execution_count": 11,
   "id": "ee4c2166",
   "metadata": {
    "execution": {
     "iopub.execute_input": "2022-01-28T00:25:24.754187Z",
     "iopub.status.busy": "2022-01-28T00:25:24.753731Z",
     "iopub.status.idle": "2022-01-28T00:25:24.795396Z",
     "shell.execute_reply": "2022-01-28T00:25:24.794866Z"
    },
    "papermill": {
     "duration": 0.0729,
     "end_time": "2022-01-28T00:25:24.795526",
     "exception": false,
     "start_time": "2022-01-28T00:25:24.722626",
     "status": "completed"
    },
    "tags": []
   },
   "outputs": [],
   "source": [
    "X_train = X_train/255.\n",
    "X_test = X_test/255."
   ]
  },
  {
   "cell_type": "markdown",
   "id": "ddcf4fab",
   "metadata": {
    "papermill": {
     "duration": 0.022835,
     "end_time": "2022-01-28T00:25:24.843966",
     "exception": false,
     "start_time": "2022-01-28T00:25:24.821131",
     "status": "completed"
    },
    "tags": []
   },
   "source": [
    "And setup the labels as 1 (when the digit is 3) and 0 (when the digit is 8)"
   ]
  },
  {
   "cell_type": "code",
   "execution_count": 12,
   "id": "7dc908f2",
   "metadata": {
    "execution": {
     "iopub.execute_input": "2022-01-28T00:25:24.897976Z",
     "iopub.status.busy": "2022-01-28T00:25:24.897501Z",
     "iopub.status.idle": "2022-01-28T00:25:24.906624Z",
     "shell.execute_reply": "2022-01-28T00:25:24.906222Z"
    },
    "papermill": {
     "duration": 0.040175,
     "end_time": "2022-01-28T00:25:24.906722",
     "exception": false,
     "start_time": "2022-01-28T00:25:24.866547",
     "status": "completed"
    },
    "tags": []
   },
   "outputs": [],
   "source": [
    "y_train = 1*(y_train==3)\n",
    "y_test = 1*(y_test==3)"
   ]
  },
  {
   "cell_type": "code",
   "execution_count": 13,
   "id": "01e4e969",
   "metadata": {
    "execution": {
     "iopub.execute_input": "2022-01-28T00:25:24.957488Z",
     "iopub.status.busy": "2022-01-28T00:25:24.956096Z",
     "iopub.status.idle": "2022-01-28T00:25:24.967495Z",
     "shell.execute_reply": "2022-01-28T00:25:24.967115Z"
    },
    "papermill": {
     "duration": 0.03823,
     "end_time": "2022-01-28T00:25:24.967593",
     "exception": false,
     "start_time": "2022-01-28T00:25:24.929363",
     "status": "completed"
    },
    "tags": []
   },
   "outputs": [
    {
     "data": {
      "text/plain": [
       "((11982, 28, 28), (1984, 28, 28))"
      ]
     },
     "execution_count": 13,
     "metadata": {},
     "output_type": "execute_result"
    }
   ],
   "source": [
    "X_train.shape, X_test.shape"
   ]
  },
  {
   "cell_type": "markdown",
   "id": "5ccf3f85",
   "metadata": {
    "papermill": {
     "duration": 0.022552,
     "end_time": "2022-01-28T00:25:25.012767",
     "exception": false,
     "start_time": "2022-01-28T00:25:24.990215",
     "status": "completed"
    },
    "tags": []
   },
   "source": [
    "We reshape the data to flatten the image pixels into a set of features or co-variates:"
   ]
  },
  {
   "cell_type": "code",
   "execution_count": 14,
   "id": "5286a4a3",
   "metadata": {
    "execution": {
     "iopub.execute_input": "2022-01-28T00:25:25.062525Z",
     "iopub.status.busy": "2022-01-28T00:25:25.062074Z",
     "iopub.status.idle": "2022-01-28T00:25:25.075540Z",
     "shell.execute_reply": "2022-01-28T00:25:25.075156Z"
    },
    "papermill": {
     "duration": 0.039735,
     "end_time": "2022-01-28T00:25:25.075640",
     "exception": false,
     "start_time": "2022-01-28T00:25:25.035905",
     "status": "completed"
    },
    "tags": []
   },
   "outputs": [
    {
     "data": {
      "text/plain": [
       "((11982, 784), (1984, 784))"
      ]
     },
     "execution_count": 14,
     "metadata": {},
     "output_type": "execute_result"
    }
   ],
   "source": [
    "X_train = X_train.reshape(X_train.shape[0], -1)\n",
    "X_test = X_test.reshape(X_test.shape[0], -1)\n",
    "X_train.shape, X_test.shape"
   ]
  },
  {
   "cell_type": "code",
   "execution_count": 15,
   "id": "73c5f88a",
   "metadata": {
    "execution": {
     "iopub.execute_input": "2022-01-28T00:25:25.133114Z",
     "iopub.status.busy": "2022-01-28T00:25:25.132611Z",
     "iopub.status.idle": "2022-01-28T00:25:25.145738Z",
     "shell.execute_reply": "2022-01-28T00:25:25.145355Z"
    },
    "papermill": {
     "duration": 0.046804,
     "end_time": "2022-01-28T00:25:25.145837",
     "exception": false,
     "start_time": "2022-01-28T00:25:25.099033",
     "status": "completed"
    },
    "tags": []
   },
   "outputs": [],
   "source": [
    "#Impoting functions from 'Kudzu'\n",
    "from kudzu.model import Model\n",
    "from kudzu.train import Learner\n",
    "from kudzu.optim import GD\n",
    "from kudzu.data import Data, Sampler,Dataloader\n",
    "\n",
    "from kudzu.callbacks import AccCallback\n",
    "from kudzu.callbacks import ClfCallback\n",
    "\n",
    "from kudzu.loss import MSE\n",
    "\n",
    "from kudzu.layer import Sigmoid,Relu\n",
    "from kudzu.layer import Affine"
   ]
  },
  {
   "cell_type": "markdown",
   "id": "bc01172a",
   "metadata": {
    "papermill": {
     "duration": 0.022991,
     "end_time": "2022-01-28T00:25:25.192461",
     "exception": false,
     "start_time": "2022-01-28T00:25:25.169470",
     "status": "completed"
    },
    "tags": []
   },
   "source": [
    "### Let us create a `Config` class, to store important parameters. \n",
    "This class essentially plays the role of a dictionary."
   ]
  },
  {
   "cell_type": "code",
   "execution_count": 16,
   "id": "978281aa",
   "metadata": {
    "execution": {
     "iopub.execute_input": "2022-01-28T00:25:25.245931Z",
     "iopub.status.busy": "2022-01-28T00:25:25.245460Z",
     "iopub.status.idle": "2022-01-28T00:25:25.254181Z",
     "shell.execute_reply": "2022-01-28T00:25:25.254563Z"
    },
    "papermill": {
     "duration": 0.03919,
     "end_time": "2022-01-28T00:25:25.254670",
     "exception": false,
     "start_time": "2022-01-28T00:25:25.215480",
     "status": "completed"
    },
    "tags": []
   },
   "outputs": [],
   "source": [
    "class Config:\n",
    "    pass\n",
    "config = Config()\n",
    "config.lr = 0.001\n",
    "config.num_epochs = 250\n",
    "config.bs = 50"
   ]
  },
  {
   "cell_type": "markdown",
   "id": "1385fa59",
   "metadata": {
    "papermill": {
     "duration": 0.023088,
     "end_time": "2022-01-28T00:25:25.300758",
     "exception": false,
     "start_time": "2022-01-28T00:25:25.277670",
     "status": "completed"
    },
    "tags": []
   },
   "source": [
    "### Running Models with the Training data\n",
    "Details about the network layers:\n",
    "- A first affine layer has 784 inputs and does 100 affine transforms. These are followed by a Relu\n",
    "- A second affine layer has 100 inputs from the 100 activations of the past layer, and does 100 affine transforms. These are followed by a Relu\n",
    "- A third affine layer has 100 activations and does 2 affine transformations to create an embedding for visualization. There is no non-linearity here.\n",
    "- A final \"logistic regression\" which has an affine transform from 2 inputs to 1 output, which is squeezed through a sigmoid.\n"
   ]
  },
  {
   "cell_type": "code",
   "execution_count": 17,
   "id": "2b9c66db",
   "metadata": {
    "execution": {
     "iopub.execute_input": "2022-01-28T00:25:25.352985Z",
     "iopub.status.busy": "2022-01-28T00:25:25.352487Z",
     "iopub.status.idle": "2022-01-28T00:25:25.362803Z",
     "shell.execute_reply": "2022-01-28T00:25:25.362433Z"
    },
    "papermill": {
     "duration": 0.038619,
     "end_time": "2022-01-28T00:25:25.362904",
     "exception": false,
     "start_time": "2022-01-28T00:25:25.324285",
     "status": "completed"
    },
    "tags": []
   },
   "outputs": [],
   "source": [
    "data = Data(X_train, y_train.reshape(-1,1))\n",
    "sampler = Sampler(data, config.bs, shuffle=True)\n",
    "\n",
    "dl = Dataloader(data, sampler)\n",
    "\n",
    "opt = GD(config.lr)\n",
    "loss = MSE()"
   ]
  },
  {
   "cell_type": "code",
   "execution_count": 18,
   "id": "b275e4c2",
   "metadata": {
    "execution": {
     "iopub.execute_input": "2022-01-28T00:25:25.413566Z",
     "iopub.status.busy": "2022-01-28T00:25:25.413113Z",
     "iopub.status.idle": "2022-01-28T00:25:25.422948Z",
     "shell.execute_reply": "2022-01-28T00:25:25.422583Z"
    },
    "papermill": {
     "duration": 0.037033,
     "end_time": "2022-01-28T00:25:25.423042",
     "exception": false,
     "start_time": "2022-01-28T00:25:25.386009",
     "status": "completed"
    },
    "tags": []
   },
   "outputs": [],
   "source": [
    "training_data_x = X_train\n",
    "testing_data_x = X_test\n",
    "training_data_y = y_train.reshape(-1,1)\n",
    "testing_data_y = y_test.reshape(-1,1)"
   ]
  },
  {
   "cell_type": "code",
   "execution_count": 19,
   "id": "76951160",
   "metadata": {
    "execution": {
     "iopub.execute_input": "2022-01-28T00:25:25.476773Z",
     "iopub.status.busy": "2022-01-28T00:25:25.476345Z",
     "iopub.status.idle": "2022-01-28T00:25:25.487451Z",
     "shell.execute_reply": "2022-01-28T00:25:25.487070Z"
    },
    "papermill": {
     "duration": 0.041307,
     "end_time": "2022-01-28T00:25:25.487543",
     "exception": false,
     "start_time": "2022-01-28T00:25:25.446236",
     "status": "completed"
    },
    "tags": []
   },
   "outputs": [
    {
     "name": "stdout",
     "output_type": "stream",
     "text": [
      "xavier\n",
      "xavier\n",
      "xavier\n",
      "xavier\n",
      "xavier\n"
     ]
    }
   ],
   "source": [
    "layers = [Affine(\"first\", 784, 100), Relu(\"first\"), Affine(\"second\", 100, 100), Relu(\"second\"), Affine(\"third\", 100, 2), Affine(\"last\", 2, 1), Sigmoid(\"last\")]\n",
    "model_nn = Model(layers)\n",
    "model_lr = Model([Affine(\"logits\", 784, 1), Sigmoid(\"sigmoid\")])"
   ]
  },
  {
   "cell_type": "code",
   "execution_count": 20,
   "id": "6eede77a",
   "metadata": {
    "execution": {
     "iopub.execute_input": "2022-01-28T00:25:25.537236Z",
     "iopub.status.busy": "2022-01-28T00:25:25.536747Z",
     "iopub.status.idle": "2022-01-28T00:25:25.548836Z",
     "shell.execute_reply": "2022-01-28T00:25:25.548452Z"
    },
    "papermill": {
     "duration": 0.038626,
     "end_time": "2022-01-28T00:25:25.548935",
     "exception": false,
     "start_time": "2022-01-28T00:25:25.510309",
     "status": "completed"
    },
    "tags": []
   },
   "outputs": [],
   "source": [
    "nn_learner = Learner(loss, model_nn, opt, config.num_epochs)\n",
    "acc_nn = ClfCallback(nn_learner, config.bs, training_data_x , testing_data_x, training_data_y, testing_data_y)\n",
    "nn_learner.set_callbacks([acc_nn])"
   ]
  },
  {
   "cell_type": "code",
   "execution_count": 21,
   "id": "877b6cc7",
   "metadata": {
    "execution": {
     "iopub.execute_input": "2022-01-28T00:25:25.598391Z",
     "iopub.status.busy": "2022-01-28T00:25:25.597943Z",
     "iopub.status.idle": "2022-01-28T00:25:25.610373Z",
     "shell.execute_reply": "2022-01-28T00:25:25.609988Z"
    },
    "papermill": {
     "duration": 0.038921,
     "end_time": "2022-01-28T00:25:25.610464",
     "exception": false,
     "start_time": "2022-01-28T00:25:25.571543",
     "status": "completed"
    },
    "tags": []
   },
   "outputs": [],
   "source": [
    "lr_learner = Learner(loss, model_lr, opt, config.num_epochs)\n",
    "acc_lr = ClfCallback(lr_learner, config.bs, training_data_x , testing_data_x, training_data_y, testing_data_y)\n",
    "lr_learner.set_callbacks([acc_lr])"
   ]
  },
  {
   "cell_type": "code",
   "execution_count": 22,
   "id": "d9b133c3",
   "metadata": {
    "execution": {
     "iopub.execute_input": "2022-01-28T00:25:25.659995Z",
     "iopub.status.busy": "2022-01-28T00:25:25.659543Z",
     "iopub.status.idle": "2022-01-28T00:26:37.503378Z",
     "shell.execute_reply": "2022-01-28T00:26:37.504129Z"
    },
    "papermill": {
     "duration": 71.870582,
     "end_time": "2022-01-28T00:26:37.504280",
     "exception": false,
     "start_time": "2022-01-28T00:25:25.633698",
     "status": "completed"
    },
    "tags": []
   },
   "outputs": [
    {
     "name": "stdout",
     "output_type": "stream",
     "text": [
      "Epoch 0, Loss 0.2118\n",
      "Training Accuracy: 0.8186, Testing Accuracy: 0.8427\n",
      "\n"
     ]
    },
    {
     "name": "stdout",
     "output_type": "stream",
     "text": [
      "Epoch 10, Loss 0.0551\n",
      "Training Accuracy: 0.9422, Testing Accuracy: 0.9561\n",
      "\n"
     ]
    },
    {
     "name": "stdout",
     "output_type": "stream",
     "text": [
      "Epoch 20, Loss 0.0408\n",
      "Training Accuracy: 0.9547, Testing Accuracy: 0.9657\n",
      "\n"
     ]
    },
    {
     "name": "stdout",
     "output_type": "stream",
     "text": [
      "Epoch 30, Loss 0.0351\n",
      "Training Accuracy: 0.9597, Testing Accuracy: 0.9682\n",
      "\n"
     ]
    },
    {
     "name": "stdout",
     "output_type": "stream",
     "text": [
      "Epoch 40, Loss 0.0318\n",
      "Training Accuracy: 0.9639, Testing Accuracy: 0.9703\n",
      "\n"
     ]
    },
    {
     "name": "stdout",
     "output_type": "stream",
     "text": [
      "Epoch 50, Loss 0.0296\n",
      "Training Accuracy: 0.9666, Testing Accuracy: 0.9708\n",
      "\n"
     ]
    },
    {
     "name": "stdout",
     "output_type": "stream",
     "text": [
      "Epoch 60, Loss 0.0279\n",
      "Training Accuracy: 0.9687, Testing Accuracy: 0.9703\n",
      "\n"
     ]
    },
    {
     "name": "stdout",
     "output_type": "stream",
     "text": [
      "Epoch 70, Loss 0.0266\n",
      "Training Accuracy: 0.9698, Testing Accuracy: 0.9708\n",
      "\n"
     ]
    },
    {
     "name": "stdout",
     "output_type": "stream",
     "text": [
      "Epoch 80, Loss 0.0255\n",
      "Training Accuracy: 0.9709, Testing Accuracy: 0.9718\n",
      "\n"
     ]
    },
    {
     "name": "stdout",
     "output_type": "stream",
     "text": [
      "Epoch 90, Loss 0.0246\n",
      "Training Accuracy: 0.9720, Testing Accuracy: 0.9713\n",
      "\n"
     ]
    },
    {
     "name": "stdout",
     "output_type": "stream",
     "text": [
      "Epoch 100, Loss 0.0238\n",
      "Training Accuracy: 0.9735, Testing Accuracy: 0.9713\n",
      "\n"
     ]
    },
    {
     "name": "stdout",
     "output_type": "stream",
     "text": [
      "Epoch 110, Loss 0.023\n",
      "Training Accuracy: 0.9749, Testing Accuracy: 0.9713\n",
      "\n"
     ]
    },
    {
     "name": "stdout",
     "output_type": "stream",
     "text": [
      "Epoch 120, Loss 0.0224\n",
      "Training Accuracy: 0.9759, Testing Accuracy: 0.9723\n",
      "\n"
     ]
    },
    {
     "name": "stdout",
     "output_type": "stream",
     "text": [
      "Epoch 130, Loss 0.0218\n",
      "Training Accuracy: 0.9762, Testing Accuracy: 0.9723\n",
      "\n"
     ]
    },
    {
     "name": "stdout",
     "output_type": "stream",
     "text": [
      "Epoch 140, Loss 0.0212\n",
      "Training Accuracy: 0.9768, Testing Accuracy: 0.9728\n",
      "\n"
     ]
    },
    {
     "name": "stdout",
     "output_type": "stream",
     "text": [
      "Epoch 150, Loss 0.0207\n",
      "Training Accuracy: 0.9775, Testing Accuracy: 0.9733\n",
      "\n"
     ]
    },
    {
     "name": "stdout",
     "output_type": "stream",
     "text": [
      "Epoch 160, Loss 0.0202\n",
      "Training Accuracy: 0.9782, Testing Accuracy: 0.9738\n",
      "\n"
     ]
    },
    {
     "name": "stdout",
     "output_type": "stream",
     "text": [
      "Epoch 170, Loss 0.0197\n",
      "Training Accuracy: 0.9783, Testing Accuracy: 0.9748\n",
      "\n"
     ]
    },
    {
     "name": "stdout",
     "output_type": "stream",
     "text": [
      "Epoch 180, Loss 0.0193\n",
      "Training Accuracy: 0.9789, Testing Accuracy: 0.9748\n",
      "\n"
     ]
    },
    {
     "name": "stdout",
     "output_type": "stream",
     "text": [
      "Epoch 190, Loss 0.0188\n",
      "Training Accuracy: 0.9792, Testing Accuracy: 0.9753\n",
      "\n"
     ]
    },
    {
     "name": "stdout",
     "output_type": "stream",
     "text": [
      "Epoch 200, Loss 0.0184\n",
      "Training Accuracy: 0.9796, Testing Accuracy: 0.9748\n",
      "\n"
     ]
    },
    {
     "name": "stdout",
     "output_type": "stream",
     "text": [
      "Epoch 210, Loss 0.018\n",
      "Training Accuracy: 0.9799, Testing Accuracy: 0.9753\n",
      "\n"
     ]
    },
    {
     "name": "stdout",
     "output_type": "stream",
     "text": [
      "Epoch 220, Loss 0.0176\n",
      "Training Accuracy: 0.9801, Testing Accuracy: 0.9773\n",
      "\n"
     ]
    },
    {
     "name": "stdout",
     "output_type": "stream",
     "text": [
      "Epoch 230, Loss 0.0172\n",
      "Training Accuracy: 0.9806, Testing Accuracy: 0.9778\n",
      "\n"
     ]
    },
    {
     "name": "stdout",
     "output_type": "stream",
     "text": [
      "Epoch 240, Loss 0.0168\n",
      "Training Accuracy: 0.9812, Testing Accuracy: 0.9773\n",
      "\n"
     ]
    },
    {
     "data": {
      "text/plain": [
       "0.03557320795646383"
      ]
     },
     "execution_count": 22,
     "metadata": {},
     "output_type": "execute_result"
    }
   ],
   "source": [
    "nn_learner.train_loop(dl)"
   ]
  },
  {
   "cell_type": "code",
   "execution_count": 23,
   "id": "e0163366",
   "metadata": {
    "execution": {
     "iopub.execute_input": "2022-01-28T00:26:37.574071Z",
     "iopub.status.busy": "2022-01-28T00:26:37.573584Z",
     "iopub.status.idle": "2022-01-28T00:26:50.456771Z",
     "shell.execute_reply": "2022-01-28T00:26:50.457423Z"
    },
    "papermill": {
     "duration": 12.923001,
     "end_time": "2022-01-28T00:26:50.457556",
     "exception": false,
     "start_time": "2022-01-28T00:26:37.534555",
     "status": "completed"
    },
    "tags": []
   },
   "outputs": [
    {
     "name": "stdout",
     "output_type": "stream",
     "text": [
      "Epoch 0, Loss 0.2929\n",
      "Training Accuracy: 0.4960, Testing Accuracy: 0.4793\n",
      "\n"
     ]
    },
    {
     "name": "stdout",
     "output_type": "stream",
     "text": [
      "Epoch 10, Loss 0.1115\n",
      "Training Accuracy: 0.8920, Testing Accuracy: 0.9062\n",
      "\n"
     ]
    },
    {
     "name": "stdout",
     "output_type": "stream",
     "text": [
      "Epoch 20, Loss 0.0831\n",
      "Training Accuracy: 0.9205, Testing Accuracy: 0.9350\n",
      "\n"
     ]
    },
    {
     "name": "stdout",
     "output_type": "stream",
     "text": [
      "Epoch 30, Loss 0.0705\n",
      "Training Accuracy: 0.9331, Testing Accuracy: 0.9435\n",
      "\n"
     ]
    },
    {
     "name": "stdout",
     "output_type": "stream",
     "text": [
      "Epoch 40, Loss 0.0632\n",
      "Training Accuracy: 0.9407, Testing Accuracy: 0.9501\n",
      "\n"
     ]
    },
    {
     "name": "stdout",
     "output_type": "stream",
     "text": [
      "Epoch 50, Loss 0.0583\n",
      "Training Accuracy: 0.9453, Testing Accuracy: 0.9561\n",
      "\n"
     ]
    },
    {
     "name": "stdout",
     "output_type": "stream",
     "text": [
      "Epoch 60, Loss 0.0547\n",
      "Training Accuracy: 0.9479, Testing Accuracy: 0.9551\n",
      "\n"
     ]
    },
    {
     "name": "stdout",
     "output_type": "stream",
     "text": [
      "Epoch 70, Loss 0.0519\n",
      "Training Accuracy: 0.9496, Testing Accuracy: 0.9567\n",
      "\n"
     ]
    },
    {
     "name": "stdout",
     "output_type": "stream",
     "text": [
      "Epoch 80, Loss 0.0498\n",
      "Training Accuracy: 0.9508, Testing Accuracy: 0.9592\n",
      "\n"
     ]
    },
    {
     "name": "stdout",
     "output_type": "stream",
     "text": [
      "Epoch 90, Loss 0.048\n",
      "Training Accuracy: 0.9519, Testing Accuracy: 0.9602\n",
      "\n"
     ]
    },
    {
     "name": "stdout",
     "output_type": "stream",
     "text": [
      "Epoch 100, Loss 0.0465\n",
      "Training Accuracy: 0.9531, Testing Accuracy: 0.9607\n",
      "\n"
     ]
    },
    {
     "name": "stdout",
     "output_type": "stream",
     "text": [
      "Epoch 110, Loss 0.0452\n",
      "Training Accuracy: 0.9546, Testing Accuracy: 0.9622\n",
      "\n"
     ]
    },
    {
     "name": "stdout",
     "output_type": "stream",
     "text": [
      "Epoch 120, Loss 0.0441\n",
      "Training Accuracy: 0.9559, Testing Accuracy: 0.9622\n",
      "\n"
     ]
    },
    {
     "name": "stdout",
     "output_type": "stream",
     "text": [
      "Epoch 130, Loss 0.0431\n",
      "Training Accuracy: 0.9564, Testing Accuracy: 0.9637\n",
      "\n"
     ]
    },
    {
     "name": "stdout",
     "output_type": "stream",
     "text": [
      "Epoch 140, Loss 0.0423\n",
      "Training Accuracy: 0.9574, Testing Accuracy: 0.9637\n",
      "\n"
     ]
    },
    {
     "name": "stdout",
     "output_type": "stream",
     "text": [
      "Epoch 150, Loss 0.0415\n",
      "Training Accuracy: 0.9579, Testing Accuracy: 0.9647\n",
      "\n"
     ]
    },
    {
     "name": "stdout",
     "output_type": "stream",
     "text": [
      "Epoch 160, Loss 0.0408\n",
      "Training Accuracy: 0.9586, Testing Accuracy: 0.9657\n",
      "\n"
     ]
    },
    {
     "name": "stdout",
     "output_type": "stream",
     "text": [
      "Epoch 170, Loss 0.0402\n",
      "Training Accuracy: 0.9589, Testing Accuracy: 0.9662\n",
      "\n"
     ]
    },
    {
     "name": "stdout",
     "output_type": "stream",
     "text": [
      "Epoch 180, Loss 0.0396\n",
      "Training Accuracy: 0.9592, Testing Accuracy: 0.9662\n",
      "\n"
     ]
    },
    {
     "name": "stdout",
     "output_type": "stream",
     "text": [
      "Epoch 190, Loss 0.0391\n",
      "Training Accuracy: 0.9595, Testing Accuracy: 0.9662\n",
      "\n"
     ]
    },
    {
     "name": "stdout",
     "output_type": "stream",
     "text": [
      "Epoch 200, Loss 0.0386\n",
      "Training Accuracy: 0.9597, Testing Accuracy: 0.9667\n",
      "\n"
     ]
    },
    {
     "name": "stdout",
     "output_type": "stream",
     "text": [
      "Epoch 210, Loss 0.0382\n",
      "Training Accuracy: 0.9598, Testing Accuracy: 0.9667\n",
      "\n"
     ]
    },
    {
     "name": "stdout",
     "output_type": "stream",
     "text": [
      "Epoch 220, Loss 0.0377\n",
      "Training Accuracy: 0.9600, Testing Accuracy: 0.9667\n",
      "\n"
     ]
    },
    {
     "name": "stdout",
     "output_type": "stream",
     "text": [
      "Epoch 230, Loss 0.0373\n",
      "Training Accuracy: 0.9606, Testing Accuracy: 0.9667\n",
      "\n"
     ]
    },
    {
     "name": "stdout",
     "output_type": "stream",
     "text": [
      "Epoch 240, Loss 0.037\n",
      "Training Accuracy: 0.9609, Testing Accuracy: 0.9667\n",
      "\n"
     ]
    },
    {
     "data": {
      "text/plain": [
       "0.016728180632063043"
      ]
     },
     "execution_count": 23,
     "metadata": {},
     "output_type": "execute_result"
    }
   ],
   "source": [
    "lr_learner.train_loop(dl)"
   ]
  },
  {
   "cell_type": "code",
   "execution_count": 24,
   "id": "ca410940",
   "metadata": {
    "execution": {
     "iopub.execute_input": "2022-01-28T00:26:50.537971Z",
     "iopub.status.busy": "2022-01-28T00:26:50.537499Z",
     "iopub.status.idle": "2022-01-28T00:26:50.733673Z",
     "shell.execute_reply": "2022-01-28T00:26:50.733270Z"
    },
    "papermill": {
     "duration": 0.240795,
     "end_time": "2022-01-28T00:26:50.733779",
     "exception": false,
     "start_time": "2022-01-28T00:26:50.492984",
     "status": "completed"
    },
    "tags": []
   },
   "outputs": [
    {
     "data": {
      "text/plain": [
       "<matplotlib.legend.Legend at 0x7febd7e98320>"
      ]
     },
     "execution_count": 24,
     "metadata": {},
     "output_type": "execute_result"
    },
    {
     "data": {
      "image/png": "[encoded data removed]",
      "text/plain": [
       "<Figure size 1080x720 with 1 Axes>"
      ]
     },
     "metadata": {
      "needs_background": "light"
     },
     "output_type": "display_data"
    }
   ],
   "source": [
    "#comparing the results of NN and LR\n",
    "plt.figure(figsize=(15,10))\n",
    "\n",
    "# Neural Network plots\n",
    "plt.plot(acc_nn.accuracies, 'r-', label = \"Training Accuracies - NN\")\n",
    "plt.plot(acc_nn.test_accuracies, 'g-', label = \"Testing Accuracies - NN\")\n",
    "\n",
    "# Logistic Regression plots\n",
    "plt.plot(acc_lr.accuracies, 'k-', label = \"Training Accuracies - LR\")\n",
    "plt.plot(acc_lr.test_accuracies, 'b-', label = \"Testing Accuracies - LR\")\n",
    "plt.legend()"
   ]
  },
  {
   "cell_type": "markdown",
   "id": "80dfb35c",
   "metadata": {
    "papermill": {
     "duration": 0.035649,
     "end_time": "2022-01-28T00:26:50.805108",
     "exception": false,
     "start_time": "2022-01-28T00:26:50.769459",
     "status": "completed"
    },
    "tags": []
   },
   "source": [
    "#### Plotting the outputs of this layer of the NN.\n"
   ]
  },
  {
   "cell_type": "code",
   "execution_count": 25,
   "id": "45eb2ff5",
   "metadata": {
    "execution": {
     "iopub.execute_input": "2022-01-28T00:26:50.882134Z",
     "iopub.status.busy": "2022-01-28T00:26:50.881697Z",
     "iopub.status.idle": "2022-01-28T00:26:50.900143Z",
     "shell.execute_reply": "2022-01-28T00:26:50.899741Z"
    },
    "papermill": {
     "duration": 0.059267,
     "end_time": "2022-01-28T00:26:50.900243",
     "exception": false,
     "start_time": "2022-01-28T00:26:50.840976",
     "status": "completed"
    },
    "tags": []
   },
   "outputs": [],
   "source": [
    "new_model = Model(layers[:-2])\n",
    "testing_plot = new_model(testing_data_x)"
   ]
  },
  {
   "cell_type": "code",
   "execution_count": 26,
   "id": "4c0a5485",
   "metadata": {
    "execution": {
     "iopub.execute_input": "2022-01-28T00:26:50.985811Z",
     "iopub.status.busy": "2022-01-28T00:26:50.985335Z",
     "iopub.status.idle": "2022-01-28T00:26:51.147513Z",
     "shell.execute_reply": "2022-01-28T00:26:51.146989Z"
    },
    "papermill": {
     "duration": 0.210511,
     "end_time": "2022-01-28T00:26:51.147643",
     "exception": false,
     "start_time": "2022-01-28T00:26:50.937132",
     "status": "completed"
    },
    "tags": []
   },
   "outputs": [
    {
     "data": {
      "text/plain": [
       "Text(0.5, 1.0, 'Outputs')"
      ]
     },
     "execution_count": 26,
     "metadata": {},
     "output_type": "execute_result"
    },
    {
     "data": {
      "image/png": "[encoded data removed]",
      "text/plain": [
       "<Figure size 576x504 with 1 Axes>"
      ]
     },
     "metadata": {
      "needs_background": "light"
     },
     "output_type": "display_data"
    }
   ],
   "source": [
    "# Plotting the scatter plot of points and color coding by class\n",
    "plt.figure(figsize=(8,7))\n",
    "plt.scatter(testing_plot[:,0], testing_plot[:,1], alpha = 0.1, c = y_test.ravel());\n",
    "plt.title('Outputs')"
   ]
  },
  {
   "cell_type": "markdown",
   "id": "a74fcf8f",
   "metadata": {
    "papermill": {
     "duration": 0.038317,
     "end_time": "2022-01-28T00:26:51.225397",
     "exception": false,
     "start_time": "2022-01-28T00:26:51.187080",
     "status": "completed"
    },
    "tags": []
   },
   "source": [
    "Probability contours"
   ]
  },
  {
   "cell_type": "code",
   "execution_count": 27,
   "id": "d0afc8e3",
   "metadata": {
    "execution": {
     "iopub.execute_input": "2022-01-28T00:26:51.304483Z",
     "iopub.status.busy": "2022-01-28T00:26:51.304021Z",
     "iopub.status.idle": "2022-01-28T00:26:51.316671Z",
     "shell.execute_reply": "2022-01-28T00:26:51.316248Z"
    },
    "papermill": {
     "duration": 0.05335,
     "end_time": "2022-01-28T00:26:51.316803",
     "exception": false,
     "start_time": "2022-01-28T00:26:51.263453",
     "status": "completed"
    },
    "tags": []
   },
   "outputs": [],
   "source": [
    "model_prob = Model(layers[-2:]) "
   ]
  },
  {
   "cell_type": "code",
   "execution_count": 28,
   "id": "9b96e238",
   "metadata": {
    "execution": {
     "iopub.execute_input": "2022-01-28T00:26:51.410130Z",
     "iopub.status.busy": "2022-01-28T00:26:51.409574Z",
     "iopub.status.idle": "2022-01-28T00:26:51.423903Z",
     "shell.execute_reply": "2022-01-28T00:26:51.424289Z"
    },
    "papermill": {
     "duration": 0.063385,
     "end_time": "2022-01-28T00:26:51.424426",
     "exception": false,
     "start_time": "2022-01-28T00:26:51.361041",
     "status": "completed"
    },
    "tags": []
   },
   "outputs": [],
   "source": [
    "#creating the x and y ranges according to the above generated plot.\n",
    "x_range = np.linspace(-4, 1, 100) \n",
    "y_range = np.linspace(-6, 6, 100) \n",
    "x_grid, y_grid = np.meshgrid(x_range, y_range) # x_grid and y_grig are of size 100 X 100\n",
    "\n",
    "# converting x_grid and y_grid to continuous arrays\n",
    "x_gridflat = np.ravel(x_grid)\n",
    "y_gridflat = np.ravel(y_grid)\n",
    "\n",
    "# The last layer of the current model takes two columns as input. Hence transpose of np.vstack() is required.\n",
    "X = np.vstack((x_gridflat, y_gridflat)).T\n",
    "\n",
    "prob_contour = model_prob(X).reshape(100,100) "
   ]
  },
  {
   "cell_type": "code",
   "execution_count": 29,
   "id": "da72499a",
   "metadata": {
    "execution": {
     "iopub.execute_input": "2022-01-28T00:26:51.517327Z",
     "iopub.status.busy": "2022-01-28T00:26:51.516744Z",
     "iopub.status.idle": "2022-01-28T00:26:51.735666Z",
     "shell.execute_reply": "2022-01-28T00:26:51.735270Z"
    },
    "papermill": {
     "duration": 0.266882,
     "end_time": "2022-01-28T00:26:51.735778",
     "exception": false,
     "start_time": "2022-01-28T00:26:51.468896",
     "status": "completed"
    },
    "tags": []
   },
   "outputs": [
    {
     "data": {
      "image/png": "[encoded data removed]",
      "text/plain": [
       "<Figure size 720x648 with 1 Axes>"
      ]
     },
     "metadata": {
      "needs_background": "light"
     },
     "output_type": "display_data"
    }
   ],
   "source": [
    "plt.figure(figsize=(10,9))\n",
    "plt.scatter(testing_plot[:,0], testing_plot[:,1], alpha = 0.1, c = y_test.ravel())\n",
    "contours = plt.contour(x_grid,y_grid,prob_contour)\n",
    "plt.title('Probability Contours')\n",
    "plt.clabel(contours, inline = True );"
   ]
  },
  {
   "cell_type": "code",
   "execution_count": null,
   "id": "e81b4ac7",
   "metadata": {
    "papermill": {
     "duration": 0.041507,
     "end_time": "2022-01-28T00:26:51.846257",
     "exception": false,
     "start_time": "2022-01-28T00:26:51.804750",
     "status": "completed"
    },
    "tags": []
   },
   "outputs": [],
   "source": []
  }
 ],
 "metadata": {
  "kernelspec": {
   "display_name": "Python 3",
   "language": "python",
   "name": "python3"
  },
  "language_info": {
   "codemirror_mode": {
    "name": "ipython",
    "version": 3
   },
   "file_extension": ".py",
   "mimetype": "text/x-python",
   "name": "python",
   "nbconvert_exporter": "python",
   "pygments_lexer": "ipython3",
   "version": "3.6.15"
  },
  "papermill": {
   "default_parameters": {},
   "duration": 92.273509,
   "end_time": "2022-01-28T00:26:52.306107",
   "environment_variables": {},
   "exception": null,
   "input_path": "2020-08-11-part2.ipynb",
   "output_path": "2020-08-11-part2.ipynb",
   "parameters": {},
   "start_time": "2022-01-28T00:25:20.032598",
   "version": "2.3.3"
  }
 },
 "nbformat": 4,
 "nbformat_minor": 5
}