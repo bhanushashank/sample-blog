{
 "cells": [
  {
   "cell_type": "markdown",
   "id": "98380cd3",
   "metadata": {
    "papermill": {
     "duration": 0.028911,
     "end_time": "2022-03-16T20:09:40.031198",
     "exception": false,
     "start_time": "2022-03-16T20:09:40.002287",
     "status": "completed"
    },
    "tags": []
   },
   "source": [
    "# Distinguish Your Own Digits (DYOD)"
   ]
  },
  {
   "cell_type": "markdown",
   "id": "ef31240d",
   "metadata": {
    "papermill": {
     "duration": 0.025458,
     "end_time": "2022-03-16T20:09:40.081402",
     "exception": false,
     "start_time": "2022-03-16T20:09:40.055944",
     "status": "completed"
    },
    "tags": []
   },
   "source": [
    "You are going to write a classifier that distinguishes between the number 3 and number 8."
   ]
  },
  {
   "cell_type": "code",
   "execution_count": 1,
   "id": "b15c8646",
   "metadata": {
    "execution": {
     "iopub.execute_input": "2022-03-16T20:09:40.140172Z",
     "iopub.status.busy": "2022-03-16T20:09:40.139576Z",
     "iopub.status.idle": "2022-03-16T20:09:40.150559Z",
     "shell.execute_reply": "2022-03-16T20:09:40.150092Z"
    },
    "papermill": {
     "duration": 0.045264,
     "end_time": "2022-03-16T20:09:40.150699",
     "exception": false,
     "start_time": "2022-03-16T20:09:40.105435",
     "status": "completed"
    },
    "tags": []
   },
   "outputs": [],
   "source": [
    "%load_ext autoreload\n",
    "%autoreload 2"
   ]
  },
  {
   "cell_type": "code",
   "execution_count": 2,
   "id": "22ef38dc",
   "metadata": {
    "execution": {
     "iopub.execute_input": "2022-03-16T20:09:40.203408Z",
     "iopub.status.busy": "2022-03-16T20:09:40.202852Z",
     "iopub.status.idle": "2022-03-16T20:09:40.813000Z",
     "shell.execute_reply": "2022-03-16T20:09:40.813490Z"
    },
    "papermill": {
     "duration": 0.638657,
     "end_time": "2022-03-16T20:09:40.813655",
     "exception": false,
     "start_time": "2022-03-16T20:09:40.174998",
     "status": "completed"
    },
    "tags": []
   },
   "outputs": [],
   "source": [
    "%matplotlib inline\n",
    "import numpy as np\n",
    "import matplotlib.pyplot as plt\n",
    "import pandas as pd"
   ]
  },
  {
   "cell_type": "markdown",
   "id": "ba036198",
   "metadata": {
    "papermill": {
     "duration": 0.024202,
     "end_time": "2022-03-16T20:09:40.862955",
     "exception": false,
     "start_time": "2022-03-16T20:09:40.838753",
     "status": "completed"
    },
    "tags": []
   },
   "source": [
    "From the command line run `pip install mnist`. This is a library that will help you bring down the mnist dataset. If you run this from a notebook, you need to put  `!pip install mnist` in a cell by itself."
   ]
  },
  {
   "cell_type": "code",
   "execution_count": 3,
   "id": "bb6ad8a1",
   "metadata": {
    "execution": {
     "iopub.execute_input": "2022-03-16T20:09:40.915657Z",
     "iopub.status.busy": "2022-03-16T20:09:40.915124Z",
     "iopub.status.idle": "2022-03-16T20:09:42.643246Z",
     "shell.execute_reply": "2022-03-16T20:09:42.642706Z"
    },
    "papermill": {
     "duration": 1.756347,
     "end_time": "2022-03-16T20:09:42.643370",
     "exception": false,
     "start_time": "2022-03-16T20:09:40.887023",
     "status": "completed"
    },
    "tags": []
   },
   "outputs": [
    {
     "name": "stdout",
     "output_type": "stream",
     "text": [
      "Collecting mnist\r\n"
     ]
    },
    {
     "name": "stdout",
     "output_type": "stream",
     "text": [
      "  Downloading mnist-0.2.2-py2.py3-none-any.whl (3.5 kB)\r\n",
      "Requirement already satisfied: numpy in /opt/hostedtoolcache/Python/3.6.15/x64/lib/python3.6/site-packages (from mnist) (1.19.5)\r\n"
     ]
    },
    {
     "name": "stdout",
     "output_type": "stream",
     "text": [
      "Installing collected packages: mnist\r\n",
      "Successfully installed mnist-0.2.2\r\n"
     ]
    }
   ],
   "source": [
    "!pip install mnist"
   ]
  },
  {
   "cell_type": "markdown",
   "id": "69df9c9a",
   "metadata": {
    "papermill": {
     "duration": 0.024739,
     "end_time": "2022-03-16T20:09:42.692962",
     "exception": false,
     "start_time": "2022-03-16T20:09:42.668223",
     "status": "completed"
    },
    "tags": []
   },
   "source": [
    "## Preparing the Data"
   ]
  },
  {
   "cell_type": "code",
   "execution_count": 4,
   "id": "7f69d806",
   "metadata": {
    "execution": {
     "iopub.execute_input": "2022-03-16T20:09:42.760510Z",
     "iopub.status.busy": "2022-03-16T20:09:42.751601Z",
     "iopub.status.idle": "2022-03-16T20:09:42.764549Z",
     "shell.execute_reply": "2022-03-16T20:09:42.764134Z"
    },
    "papermill": {
     "duration": 0.04708,
     "end_time": "2022-03-16T20:09:42.764667",
     "exception": false,
     "start_time": "2022-03-16T20:09:42.717587",
     "status": "completed"
    },
    "tags": []
   },
   "outputs": [],
   "source": [
    "import mnist"
   ]
  },
  {
   "cell_type": "code",
   "execution_count": 5,
   "id": "a411e44f",
   "metadata": {
    "execution": {
     "iopub.execute_input": "2022-03-16T20:09:42.817640Z",
     "iopub.status.busy": "2022-03-16T20:09:42.817124Z",
     "iopub.status.idle": "2022-03-16T20:09:43.474165Z",
     "shell.execute_reply": "2022-03-16T20:09:43.473637Z"
    },
    "papermill": {
     "duration": 0.684839,
     "end_time": "2022-03-16T20:09:43.474306",
     "exception": false,
     "start_time": "2022-03-16T20:09:42.789467",
     "status": "completed"
    },
    "tags": []
   },
   "outputs": [],
   "source": [
    "train_images = mnist.train_images()\n",
    "train_labels = mnist.train_labels()"
   ]
  },
  {
   "cell_type": "code",
   "execution_count": 6,
   "id": "dceab3a5",
   "metadata": {
    "execution": {
     "iopub.execute_input": "2022-03-16T20:09:43.532264Z",
     "iopub.status.busy": "2022-03-16T20:09:43.531753Z",
     "iopub.status.idle": "2022-03-16T20:09:43.543674Z",
     "shell.execute_reply": "2022-03-16T20:09:43.543249Z"
    },
    "papermill": {
     "duration": 0.043563,
     "end_time": "2022-03-16T20:09:43.543775",
     "exception": false,
     "start_time": "2022-03-16T20:09:43.500212",
     "status": "completed"
    },
    "tags": []
   },
   "outputs": [
    {
     "data": {
      "text/plain": [
       "((60000, 28, 28), (60000,))"
      ]
     },
     "execution_count": 6,
     "metadata": {},
     "output_type": "execute_result"
    }
   ],
   "source": [
    "train_images.shape, train_labels.shape"
   ]
  },
  {
   "cell_type": "code",
   "execution_count": 7,
   "id": "f50dc2bb",
   "metadata": {
    "execution": {
     "iopub.execute_input": "2022-03-16T20:09:43.608302Z",
     "iopub.status.busy": "2022-03-16T20:09:43.602855Z",
     "iopub.status.idle": "2022-03-16T20:09:43.914709Z",
     "shell.execute_reply": "2022-03-16T20:09:43.914174Z"
    },
    "papermill": {
     "duration": 0.346446,
     "end_time": "2022-03-16T20:09:43.914875",
     "exception": false,
     "start_time": "2022-03-16T20:09:43.568429",
     "status": "completed"
    },
    "tags": []
   },
   "outputs": [],
   "source": [
    "test_images = mnist.test_images()\n",
    "test_labels = mnist.test_labels()"
   ]
  },
  {
   "cell_type": "code",
   "execution_count": 8,
   "id": "fc38cf1b",
   "metadata": {
    "execution": {
     "iopub.execute_input": "2022-03-16T20:09:43.969855Z",
     "iopub.status.busy": "2022-03-16T20:09:43.969320Z",
     "iopub.status.idle": "2022-03-16T20:09:43.983829Z",
     "shell.execute_reply": "2022-03-16T20:09:43.983375Z"
    },
    "papermill": {
     "duration": 0.043187,
     "end_time": "2022-03-16T20:09:43.983946",
     "exception": false,
     "start_time": "2022-03-16T20:09:43.940759",
     "status": "completed"
    },
    "tags": []
   },
   "outputs": [
    {
     "data": {
      "text/plain": [
       "((10000, 28, 28), (10000,))"
      ]
     },
     "execution_count": 8,
     "metadata": {},
     "output_type": "execute_result"
    }
   ],
   "source": [
    "test_images.shape, test_labels.shape"
   ]
  },
  {
   "cell_type": "code",
   "execution_count": 9,
   "id": "f9ed8fe0",
   "metadata": {
    "execution": {
     "iopub.execute_input": "2022-03-16T20:09:44.038998Z",
     "iopub.status.busy": "2022-03-16T20:09:44.038440Z",
     "iopub.status.idle": "2022-03-16T20:09:44.178295Z",
     "shell.execute_reply": "2022-03-16T20:09:44.178802Z"
    },
    "papermill": {
     "duration": 0.169496,
     "end_time": "2022-03-16T20:09:44.178961",
     "exception": false,
     "start_time": "2022-03-16T20:09:44.009465",
     "status": "completed"
    },
    "tags": []
   },
   "outputs": [
    {
     "name": "stdout",
     "output_type": "stream",
     "text": [
      "2\n"
     ]
    },
    {
     "data": {
      "text/plain": [
       "<matplotlib.image.AxesImage at 0x7f5251930198>"
      ]
     },
     "execution_count": 9,
     "metadata": {},
     "output_type": "execute_result"
    },
    {
     "data": {
      "image/png": "[encoded data removed]",
      "text/plain": [
       "<Figure size 432x288 with 1 Axes>"
      ]
     },
     "metadata": {
      "needs_background": "light"
     },
     "output_type": "display_data"
    }
   ],
   "source": [
    "image_index = 7776 # You may select anything up to 60,000\n",
    "print(train_labels[image_index]) \n",
    "plt.imshow(train_images[image_index], cmap='Greys')"
   ]
  },
  {
   "cell_type": "markdown",
   "id": "a8d2388d",
   "metadata": {
    "papermill": {
     "duration": 0.026765,
     "end_time": "2022-03-16T20:09:44.232989",
     "exception": false,
     "start_time": "2022-03-16T20:09:44.206224",
     "status": "completed"
    },
    "tags": []
   },
   "source": [
    "## Filter data to get 3 and 8 out"
   ]
  },
  {
   "cell_type": "code",
   "execution_count": 10,
   "id": "776f7fc7",
   "metadata": {
    "execution": {
     "iopub.execute_input": "2022-03-16T20:09:44.296249Z",
     "iopub.status.busy": "2022-03-16T20:09:44.295677Z",
     "iopub.status.idle": "2022-03-16T20:09:44.311942Z",
     "shell.execute_reply": "2022-03-16T20:09:44.311473Z"
    },
    "papermill": {
     "duration": 0.051497,
     "end_time": "2022-03-16T20:09:44.312064",
     "exception": false,
     "start_time": "2022-03-16T20:09:44.260567",
     "status": "completed"
    },
    "tags": []
   },
   "outputs": [],
   "source": [
    "train_filter = np.where((train_labels == 3 ) | (train_labels == 8))\n",
    "test_filter = np.where((test_labels == 3) | (test_labels == 8))\n",
    "X_train, y_train = train_images[train_filter], train_labels[train_filter]\n",
    "X_test, y_test = test_images[test_filter], test_labels[test_filter]"
   ]
  },
  {
   "cell_type": "markdown",
   "id": "948f0b7e",
   "metadata": {
    "papermill": {
     "duration": 0.026939,
     "end_time": "2022-03-16T20:09:44.365928",
     "exception": false,
     "start_time": "2022-03-16T20:09:44.338989",
     "status": "completed"
    },
    "tags": []
   },
   "source": [
    "We normalize the pizel values in the 0 to 1 range"
   ]
  },
  {
   "cell_type": "code",
   "execution_count": 11,
   "id": "ee4c2166",
   "metadata": {
    "execution": {
     "iopub.execute_input": "2022-03-16T20:09:44.434741Z",
     "iopub.status.busy": "2022-03-16T20:09:44.434180Z",
     "iopub.status.idle": "2022-03-16T20:09:44.476889Z",
     "shell.execute_reply": "2022-03-16T20:09:44.476394Z"
    },
    "papermill": {
     "duration": 0.08445,
     "end_time": "2022-03-16T20:09:44.477011",
     "exception": false,
     "start_time": "2022-03-16T20:09:44.392561",
     "status": "completed"
    },
    "tags": []
   },
   "outputs": [],
   "source": [
    "X_train = X_train/255.\n",
    "X_test = X_test/255."
   ]
  },
  {
   "cell_type": "markdown",
   "id": "ddcf4fab",
   "metadata": {
    "papermill": {
     "duration": 0.026596,
     "end_time": "2022-03-16T20:09:44.530543",
     "exception": false,
     "start_time": "2022-03-16T20:09:44.503947",
     "status": "completed"
    },
    "tags": []
   },
   "source": [
    "And setup the labels as 1 (when the digit is 3) and 0 (when the digit is 8)"
   ]
  },
  {
   "cell_type": "code",
   "execution_count": 12,
   "id": "7dc908f2",
   "metadata": {
    "execution": {
     "iopub.execute_input": "2022-03-16T20:09:44.592234Z",
     "iopub.status.busy": "2022-03-16T20:09:44.591686Z",
     "iopub.status.idle": "2022-03-16T20:09:44.601304Z",
     "shell.execute_reply": "2022-03-16T20:09:44.600865Z"
    },
    "papermill": {
     "duration": 0.044134,
     "end_time": "2022-03-16T20:09:44.601429",
     "exception": false,
     "start_time": "2022-03-16T20:09:44.557295",
     "status": "completed"
    },
    "tags": []
   },
   "outputs": [],
   "source": [
    "y_train = 1*(y_train==3)\n",
    "y_test = 1*(y_test==3)"
   ]
  },
  {
   "cell_type": "code",
   "execution_count": 13,
   "id": "01e4e969",
   "metadata": {
    "execution": {
     "iopub.execute_input": "2022-03-16T20:09:44.662137Z",
     "iopub.status.busy": "2022-03-16T20:09:44.661594Z",
     "iopub.status.idle": "2022-03-16T20:09:44.673390Z",
     "shell.execute_reply": "2022-03-16T20:09:44.672950Z"
    },
    "papermill": {
     "duration": 0.045315,
     "end_time": "2022-03-16T20:09:44.673516",
     "exception": false,
     "start_time": "2022-03-16T20:09:44.628201",
     "status": "completed"
    },
    "tags": []
   },
   "outputs": [
    {
     "data": {
      "text/plain": [
       "((11982, 28, 28), (1984, 28, 28))"
      ]
     },
     "execution_count": 13,
     "metadata": {},
     "output_type": "execute_result"
    }
   ],
   "source": [
    "X_train.shape, X_test.shape"
   ]
  },
  {
   "cell_type": "markdown",
   "id": "5ccf3f85",
   "metadata": {
    "papermill": {
     "duration": 0.026517,
     "end_time": "2022-03-16T20:09:44.726836",
     "exception": false,
     "start_time": "2022-03-16T20:09:44.700319",
     "status": "completed"
    },
    "tags": []
   },
   "source": [
    "We reshape the data to flatten the image pixels into a set of features or co-variates:"
   ]
  },
  {
   "cell_type": "code",
   "execution_count": 14,
   "id": "5286a4a3",
   "metadata": {
    "execution": {
     "iopub.execute_input": "2022-03-16T20:09:44.788271Z",
     "iopub.status.busy": "2022-03-16T20:09:44.787698Z",
     "iopub.status.idle": "2022-03-16T20:09:44.800499Z",
     "shell.execute_reply": "2022-03-16T20:09:44.800067Z"
    },
    "papermill": {
     "duration": 0.047078,
     "end_time": "2022-03-16T20:09:44.800624",
     "exception": false,
     "start_time": "2022-03-16T20:09:44.753546",
     "status": "completed"
    },
    "tags": []
   },
   "outputs": [
    {
     "data": {
      "text/plain": [
       "((11982, 784), (1984, 784))"
      ]
     },
     "execution_count": 14,
     "metadata": {},
     "output_type": "execute_result"
    }
   ],
   "source": [
    "X_train = X_train.reshape(X_train.shape[0], -1)\n",
    "X_test = X_test.reshape(X_test.shape[0], -1)\n",
    "X_train.shape, X_test.shape"
   ]
  },
  {
   "cell_type": "code",
   "execution_count": 15,
   "id": "73c5f88a",
   "metadata": {
    "execution": {
     "iopub.execute_input": "2022-03-16T20:09:44.865426Z",
     "iopub.status.busy": "2022-03-16T20:09:44.864843Z",
     "iopub.status.idle": "2022-03-16T20:09:44.880581Z",
     "shell.execute_reply": "2022-03-16T20:09:44.880132Z"
    },
    "papermill": {
     "duration": 0.052741,
     "end_time": "2022-03-16T20:09:44.880708",
     "exception": false,
     "start_time": "2022-03-16T20:09:44.827967",
     "status": "completed"
    },
    "tags": []
   },
   "outputs": [],
   "source": [
    "#Impoting functions from 'Kudzu'\n",
    "from kudzu.model import Model\n",
    "from kudzu.train import Learner\n",
    "from kudzu.optim import GD\n",
    "from kudzu.data import Data, Sampler,Dataloader\n",
    "\n",
    "from kudzu.callbacks import AccCallback\n",
    "from kudzu.callbacks import ClfCallback\n",
    "\n",
    "from kudzu.loss import MSE\n",
    "\n",
    "from kudzu.layer import Sigmoid,Relu\n",
    "from kudzu.layer import Affine"
   ]
  },
  {
   "cell_type": "markdown",
   "id": "bc01172a",
   "metadata": {
    "papermill": {
     "duration": 0.027555,
     "end_time": "2022-03-16T20:09:44.935610",
     "exception": false,
     "start_time": "2022-03-16T20:09:44.908055",
     "status": "completed"
    },
    "tags": []
   },
   "source": [
    "### Let us create a `Config` class, to store important parameters. \n",
    "This class essentially plays the role of a dictionary."
   ]
  },
  {
   "cell_type": "code",
   "execution_count": 16,
   "id": "978281aa",
   "metadata": {
    "execution": {
     "iopub.execute_input": "2022-03-16T20:09:44.996262Z",
     "iopub.status.busy": "2022-03-16T20:09:44.995691Z",
     "iopub.status.idle": "2022-03-16T20:09:45.007149Z",
     "shell.execute_reply": "2022-03-16T20:09:45.006634Z"
    },
    "papermill": {
     "duration": 0.04454,
     "end_time": "2022-03-16T20:09:45.007271",
     "exception": false,
     "start_time": "2022-03-16T20:09:44.962731",
     "status": "completed"
    },
    "tags": []
   },
   "outputs": [],
   "source": [
    "class Config:\n",
    "    pass\n",
    "config = Config()\n",
    "config.lr = 0.001\n",
    "config.num_epochs = 250\n",
    "config.bs = 50"
   ]
  },
  {
   "cell_type": "markdown",
   "id": "1385fa59",
   "metadata": {
    "papermill": {
     "duration": 0.027568,
     "end_time": "2022-03-16T20:09:45.062182",
     "exception": false,
     "start_time": "2022-03-16T20:09:45.034614",
     "status": "completed"
    },
    "tags": []
   },
   "source": [
    "### Running Models with the Training data\n",
    "Details about the network layers:\n",
    "- A first affine layer has 784 inputs and does 100 affine transforms. These are followed by a Relu\n",
    "- A second affine layer has 100 inputs from the 100 activations of the past layer, and does 100 affine transforms. These are followed by a Relu\n",
    "- A third affine layer has 100 activations and does 2 affine transformations to create an embedding for visualization. There is no non-linearity here.\n",
    "- A final \"logistic regression\" which has an affine transform from 2 inputs to 1 output, which is squeezed through a sigmoid.\n"
   ]
  },
  {
   "cell_type": "code",
   "execution_count": 17,
   "id": "2b9c66db",
   "metadata": {
    "execution": {
     "iopub.execute_input": "2022-03-16T20:09:45.125120Z",
     "iopub.status.busy": "2022-03-16T20:09:45.124572Z",
     "iopub.status.idle": "2022-03-16T20:09:45.134840Z",
     "shell.execute_reply": "2022-03-16T20:09:45.134343Z"
    },
    "papermill": {
     "duration": 0.045451,
     "end_time": "2022-03-16T20:09:45.134966",
     "exception": false,
     "start_time": "2022-03-16T20:09:45.089515",
     "status": "completed"
    },
    "tags": []
   },
   "outputs": [],
   "source": [
    "data = Data(X_train, y_train.reshape(-1,1))\n",
    "sampler = Sampler(data, config.bs, shuffle=True)\n",
    "\n",
    "dl = Dataloader(data, sampler)\n",
    "\n",
    "opt = GD(config.lr)\n",
    "loss = MSE()"
   ]
  },
  {
   "cell_type": "code",
   "execution_count": 18,
   "id": "b275e4c2",
   "metadata": {
    "execution": {
     "iopub.execute_input": "2022-03-16T20:09:45.193621Z",
     "iopub.status.busy": "2022-03-16T20:09:45.193080Z",
     "iopub.status.idle": "2022-03-16T20:09:45.206064Z",
     "shell.execute_reply": "2022-03-16T20:09:45.206475Z"
    },
    "papermill": {
     "duration": 0.04438,
     "end_time": "2022-03-16T20:09:45.206624",
     "exception": false,
     "start_time": "2022-03-16T20:09:45.162244",
     "status": "completed"
    },
    "tags": []
   },
   "outputs": [],
   "source": [
    "training_data_x = X_train\n",
    "testing_data_x = X_test\n",
    "training_data_y = y_train.reshape(-1,1)\n",
    "testing_data_y = y_test.reshape(-1,1)"
   ]
  },
  {
   "cell_type": "code",
   "execution_count": 19,
   "id": "76951160",
   "metadata": {
    "execution": {
     "iopub.execute_input": "2022-03-16T20:09:45.279702Z",
     "iopub.status.busy": "2022-03-16T20:09:45.273679Z",
     "iopub.status.idle": "2022-03-16T20:09:45.284299Z",
     "shell.execute_reply": "2022-03-16T20:09:45.284684Z"
    },
    "papermill": {
     "duration": 0.051098,
     "end_time": "2022-03-16T20:09:45.284821",
     "exception": false,
     "start_time": "2022-03-16T20:09:45.233723",
     "status": "completed"
    },
    "tags": []
   },
   "outputs": [
    {
     "name": "stdout",
     "output_type": "stream",
     "text": [
      "xavier\n",
      "xavier\n",
      "xavier\n",
      "xavier\n",
      "xavier\n"
     ]
    }
   ],
   "source": [
    "layers = [Affine(\"first\", 784, 100), Relu(\"first\"), Affine(\"second\", 100, 100), Relu(\"second\"), Affine(\"third\", 100, 2), Affine(\"last\", 2, 1), Sigmoid(\"last\")]\n",
    "model_nn = Model(layers)\n",
    "model_lr = Model([Affine(\"logits\", 784, 1), Sigmoid(\"sigmoid\")])"
   ]
  },
  {
   "cell_type": "code",
   "execution_count": 20,
   "id": "6eede77a",
   "metadata": {
    "execution": {
     "iopub.execute_input": "2022-03-16T20:09:45.344310Z",
     "iopub.status.busy": "2022-03-16T20:09:45.343744Z",
     "iopub.status.idle": "2022-03-16T20:09:45.356067Z",
     "shell.execute_reply": "2022-03-16T20:09:45.355610Z"
    },
    "papermill": {
     "duration": 0.044102,
     "end_time": "2022-03-16T20:09:45.356193",
     "exception": false,
     "start_time": "2022-03-16T20:09:45.312091",
     "status": "completed"
    },
    "tags": []
   },
   "outputs": [],
   "source": [
    "nn_learner = Learner(loss, model_nn, opt, config.num_epochs)\n",
    "acc_nn = ClfCallback(nn_learner, config.bs, training_data_x , testing_data_x, training_data_y, testing_data_y)\n",
    "nn_learner.set_callbacks([acc_nn])"
   ]
  },
  {
   "cell_type": "code",
   "execution_count": 21,
   "id": "877b6cc7",
   "metadata": {
    "execution": {
     "iopub.execute_input": "2022-03-16T20:09:45.418588Z",
     "iopub.status.busy": "2022-03-16T20:09:45.418047Z",
     "iopub.status.idle": "2022-03-16T20:09:45.428024Z",
     "shell.execute_reply": "2022-03-16T20:09:45.428443Z"
    },
    "papermill": {
     "duration": 0.044982,
     "end_time": "2022-03-16T20:09:45.428593",
     "exception": false,
     "start_time": "2022-03-16T20:09:45.383611",
     "status": "completed"
    },
    "tags": []
   },
   "outputs": [],
   "source": [
    "lr_learner = Learner(loss, model_lr, opt, config.num_epochs)\n",
    "acc_lr = ClfCallback(lr_learner, config.bs, training_data_x , testing_data_x, training_data_y, testing_data_y)\n",
    "lr_learner.set_callbacks([acc_lr])"
   ]
  },
  {
   "cell_type": "code",
   "execution_count": 22,
   "id": "d9b133c3",
   "metadata": {
    "execution": {
     "iopub.execute_input": "2022-03-16T20:09:45.492222Z",
     "iopub.status.busy": "2022-03-16T20:09:45.491674Z",
     "iopub.status.idle": "2022-03-16T20:11:06.069116Z",
     "shell.execute_reply": "2022-03-16T20:11:06.069869Z"
    },
    "papermill": {
     "duration": 80.613908,
     "end_time": "2022-03-16T20:11:06.070019",
     "exception": false,
     "start_time": "2022-03-16T20:09:45.456111",
     "status": "completed"
    },
    "tags": []
   },
   "outputs": [
    {
     "name": "stdout",
     "output_type": "stream",
     "text": [
      "Epoch 0, Loss 0.2425\n",
      "Training Accuracy: 0.6498, Testing Accuracy: 0.6426\n",
      "\n"
     ]
    },
    {
     "name": "stdout",
     "output_type": "stream",
     "text": [
      "Epoch 10, Loss 0.0859\n",
      "Training Accuracy: 0.9185, Testing Accuracy: 0.9315\n",
      "\n"
     ]
    },
    {
     "name": "stdout",
     "output_type": "stream",
     "text": [
      "Epoch 20, Loss 0.0529\n",
      "Training Accuracy: 0.9464, Testing Accuracy: 0.9612\n",
      "\n"
     ]
    },
    {
     "name": "stdout",
     "output_type": "stream",
     "text": [
      "Epoch 30, Loss 0.0419\n",
      "Training Accuracy: 0.9551, Testing Accuracy: 0.9672\n",
      "\n"
     ]
    },
    {
     "name": "stdout",
     "output_type": "stream",
     "text": [
      "Epoch 40, Loss 0.0366\n",
      "Training Accuracy: 0.9599, Testing Accuracy: 0.9682\n",
      "\n"
     ]
    },
    {
     "name": "stdout",
     "output_type": "stream",
     "text": [
      "Epoch 50, Loss 0.0335\n",
      "Training Accuracy: 0.9631, Testing Accuracy: 0.9688\n",
      "\n"
     ]
    },
    {
     "name": "stdout",
     "output_type": "stream",
     "text": [
      "Epoch 60, Loss 0.0313\n",
      "Training Accuracy: 0.9644, Testing Accuracy: 0.9703\n",
      "\n"
     ]
    },
    {
     "name": "stdout",
     "output_type": "stream",
     "text": [
      "Epoch 70, Loss 0.0297\n",
      "Training Accuracy: 0.9660, Testing Accuracy: 0.9703\n",
      "\n"
     ]
    },
    {
     "name": "stdout",
     "output_type": "stream",
     "text": [
      "Epoch 80, Loss 0.0284\n",
      "Training Accuracy: 0.9675, Testing Accuracy: 0.9718\n",
      "\n"
     ]
    },
    {
     "name": "stdout",
     "output_type": "stream",
     "text": [
      "Epoch 90, Loss 0.0273\n",
      "Training Accuracy: 0.9679, Testing Accuracy: 0.9723\n",
      "\n"
     ]
    },
    {
     "name": "stdout",
     "output_type": "stream",
     "text": [
      "Epoch 100, Loss 0.0263\n",
      "Training Accuracy: 0.9695, Testing Accuracy: 0.9713\n",
      "\n"
     ]
    },
    {
     "name": "stdout",
     "output_type": "stream",
     "text": [
      "Epoch 110, Loss 0.0255\n",
      "Training Accuracy: 0.9702, Testing Accuracy: 0.9713\n",
      "\n"
     ]
    },
    {
     "name": "stdout",
     "output_type": "stream",
     "text": [
      "Epoch 120, Loss 0.0248\n",
      "Training Accuracy: 0.9715, Testing Accuracy: 0.9713\n",
      "\n"
     ]
    },
    {
     "name": "stdout",
     "output_type": "stream",
     "text": [
      "Epoch 130, Loss 0.0241\n",
      "Training Accuracy: 0.9726, Testing Accuracy: 0.9723\n",
      "\n"
     ]
    },
    {
     "name": "stdout",
     "output_type": "stream",
     "text": [
      "Epoch 140, Loss 0.0235\n",
      "Training Accuracy: 0.9730, Testing Accuracy: 0.9723\n",
      "\n"
     ]
    },
    {
     "name": "stdout",
     "output_type": "stream",
     "text": [
      "Epoch 150, Loss 0.0229\n",
      "Training Accuracy: 0.9737, Testing Accuracy: 0.9718\n",
      "\n"
     ]
    },
    {
     "name": "stdout",
     "output_type": "stream",
     "text": [
      "Epoch 160, Loss 0.0223\n",
      "Training Accuracy: 0.9747, Testing Accuracy: 0.9723\n",
      "\n"
     ]
    },
    {
     "name": "stdout",
     "output_type": "stream",
     "text": [
      "Epoch 170, Loss 0.0218\n",
      "Training Accuracy: 0.9751, Testing Accuracy: 0.9728\n",
      "\n"
     ]
    },
    {
     "name": "stdout",
     "output_type": "stream",
     "text": [
      "Epoch 180, Loss 0.0213\n",
      "Training Accuracy: 0.9759, Testing Accuracy: 0.9728\n",
      "\n"
     ]
    },
    {
     "name": "stdout",
     "output_type": "stream",
     "text": [
      "Epoch 190, Loss 0.0209\n",
      "Training Accuracy: 0.9760, Testing Accuracy: 0.9738\n",
      "\n"
     ]
    },
    {
     "name": "stdout",
     "output_type": "stream",
     "text": [
      "Epoch 200, Loss 0.0204\n",
      "Training Accuracy: 0.9770, Testing Accuracy: 0.9738\n",
      "\n"
     ]
    },
    {
     "name": "stdout",
     "output_type": "stream",
     "text": [
      "Epoch 210, Loss 0.02\n",
      "Training Accuracy: 0.9775, Testing Accuracy: 0.9743\n",
      "\n"
     ]
    },
    {
     "name": "stdout",
     "output_type": "stream",
     "text": [
      "Epoch 220, Loss 0.0196\n",
      "Training Accuracy: 0.9779, Testing Accuracy: 0.9753\n",
      "\n"
     ]
    },
    {
     "name": "stdout",
     "output_type": "stream",
     "text": [
      "Epoch 230, Loss 0.0191\n",
      "Training Accuracy: 0.9786, Testing Accuracy: 0.9743\n",
      "\n"
     ]
    },
    {
     "name": "stdout",
     "output_type": "stream",
     "text": [
      "Epoch 240, Loss 0.0188\n",
      "Training Accuracy: 0.9790, Testing Accuracy: 0.9748\n",
      "\n"
     ]
    },
    {
     "data": {
      "text/plain": [
       "0.008855219331080511"
      ]
     },
     "execution_count": 22,
     "metadata": {},
     "output_type": "execute_result"
    }
   ],
   "source": [
    "nn_learner.train_loop(dl)"
   ]
  },
  {
   "cell_type": "code",
   "execution_count": 23,
   "id": "e0163366",
   "metadata": {
    "execution": {
     "iopub.execute_input": "2022-03-16T20:11:06.163778Z",
     "iopub.status.busy": "2022-03-16T20:11:06.161336Z",
     "iopub.status.idle": "2022-03-16T20:11:21.072738Z",
     "shell.execute_reply": "2022-03-16T20:11:21.073182Z"
    },
    "papermill": {
     "duration": 14.968838,
     "end_time": "2022-03-16T20:11:21.073321",
     "exception": false,
     "start_time": "2022-03-16T20:11:06.104483",
     "status": "completed"
    },
    "tags": []
   },
   "outputs": [
    {
     "name": "stdout",
     "output_type": "stream",
     "text": [
      "Epoch 0, Loss 0.2445\n",
      "Training Accuracy: 0.6675, Testing Accuracy: 0.6925\n",
      "\n"
     ]
    },
    {
     "name": "stdout",
     "output_type": "stream",
     "text": [
      "Epoch 10, Loss 0.099\n",
      "Training Accuracy: 0.9213, Testing Accuracy: 0.9325\n",
      "\n"
     ]
    },
    {
     "name": "stdout",
     "output_type": "stream",
     "text": [
      "Epoch 20, Loss 0.0771\n",
      "Training Accuracy: 0.9309, Testing Accuracy: 0.9415\n",
      "\n"
     ]
    },
    {
     "name": "stdout",
     "output_type": "stream",
     "text": [
      "Epoch 30, Loss 0.0671\n",
      "Training Accuracy: 0.9359, Testing Accuracy: 0.9471\n",
      "\n"
     ]
    },
    {
     "name": "stdout",
     "output_type": "stream",
     "text": [
      "Epoch 40, Loss 0.061\n",
      "Training Accuracy: 0.9396, Testing Accuracy: 0.9521\n",
      "\n"
     ]
    },
    {
     "name": "stdout",
     "output_type": "stream",
     "text": [
      "Epoch 50, Loss 0.0569\n",
      "Training Accuracy: 0.9433, Testing Accuracy: 0.9541\n",
      "\n"
     ]
    },
    {
     "name": "stdout",
     "output_type": "stream",
     "text": [
      "Epoch 60, Loss 0.0538\n",
      "Training Accuracy: 0.9460, Testing Accuracy: 0.9582\n",
      "\n"
     ]
    },
    {
     "name": "stdout",
     "output_type": "stream",
     "text": [
      "Epoch 70, Loss 0.0514\n",
      "Training Accuracy: 0.9473, Testing Accuracy: 0.9592\n",
      "\n"
     ]
    },
    {
     "name": "stdout",
     "output_type": "stream",
     "text": [
      "Epoch 80, Loss 0.0494\n",
      "Training Accuracy: 0.9490, Testing Accuracy: 0.9597\n",
      "\n"
     ]
    },
    {
     "name": "stdout",
     "output_type": "stream",
     "text": [
      "Epoch 90, Loss 0.0478\n",
      "Training Accuracy: 0.9505, Testing Accuracy: 0.9612\n",
      "\n"
     ]
    },
    {
     "name": "stdout",
     "output_type": "stream",
     "text": [
      "Epoch 100, Loss 0.0464\n",
      "Training Accuracy: 0.9519, Testing Accuracy: 0.9617\n",
      "\n"
     ]
    },
    {
     "name": "stdout",
     "output_type": "stream",
     "text": [
      "Epoch 110, Loss 0.0452\n",
      "Training Accuracy: 0.9530, Testing Accuracy: 0.9622\n",
      "\n"
     ]
    },
    {
     "name": "stdout",
     "output_type": "stream",
     "text": [
      "Epoch 120, Loss 0.0442\n",
      "Training Accuracy: 0.9533, Testing Accuracy: 0.9637\n",
      "\n"
     ]
    },
    {
     "name": "stdout",
     "output_type": "stream",
     "text": [
      "Epoch 130, Loss 0.0433\n",
      "Training Accuracy: 0.9543, Testing Accuracy: 0.9637\n",
      "\n"
     ]
    },
    {
     "name": "stdout",
     "output_type": "stream",
     "text": [
      "Epoch 140, Loss 0.0425\n",
      "Training Accuracy: 0.9549, Testing Accuracy: 0.9642\n",
      "\n"
     ]
    },
    {
     "name": "stdout",
     "output_type": "stream",
     "text": [
      "Epoch 150, Loss 0.0417\n",
      "Training Accuracy: 0.9554, Testing Accuracy: 0.9642\n",
      "\n"
     ]
    },
    {
     "name": "stdout",
     "output_type": "stream",
     "text": [
      "Epoch 160, Loss 0.0411\n",
      "Training Accuracy: 0.9559, Testing Accuracy: 0.9647\n",
      "\n"
     ]
    },
    {
     "name": "stdout",
     "output_type": "stream",
     "text": [
      "Epoch 170, Loss 0.0405\n",
      "Training Accuracy: 0.9567, Testing Accuracy: 0.9647\n",
      "\n"
     ]
    },
    {
     "name": "stdout",
     "output_type": "stream",
     "text": [
      "Epoch 180, Loss 0.0399\n",
      "Training Accuracy: 0.9574, Testing Accuracy: 0.9652\n",
      "\n"
     ]
    },
    {
     "name": "stdout",
     "output_type": "stream",
     "text": [
      "Epoch 190, Loss 0.0394\n",
      "Training Accuracy: 0.9578, Testing Accuracy: 0.9652\n",
      "\n"
     ]
    },
    {
     "name": "stdout",
     "output_type": "stream",
     "text": [
      "Epoch 200, Loss 0.0389\n",
      "Training Accuracy: 0.9582, Testing Accuracy: 0.9657\n",
      "\n"
     ]
    },
    {
     "name": "stdout",
     "output_type": "stream",
     "text": [
      "Epoch 210, Loss 0.0385\n",
      "Training Accuracy: 0.9584, Testing Accuracy: 0.9657\n",
      "\n"
     ]
    },
    {
     "name": "stdout",
     "output_type": "stream",
     "text": [
      "Epoch 220, Loss 0.038\n",
      "Training Accuracy: 0.9589, Testing Accuracy: 0.9657\n",
      "\n"
     ]
    },
    {
     "name": "stdout",
     "output_type": "stream",
     "text": [
      "Epoch 230, Loss 0.0377\n",
      "Training Accuracy: 0.9594, Testing Accuracy: 0.9657\n",
      "\n"
     ]
    },
    {
     "name": "stdout",
     "output_type": "stream",
     "text": [
      "Epoch 240, Loss 0.0373\n",
      "Training Accuracy: 0.9598, Testing Accuracy: 0.9662\n",
      "\n"
     ]
    },
    {
     "data": {
      "text/plain": [
       "0.04081852738814626"
      ]
     },
     "execution_count": 23,
     "metadata": {},
     "output_type": "execute_result"
    }
   ],
   "source": [
    "lr_learner.train_loop(dl)"
   ]
  },
  {
   "cell_type": "code",
   "execution_count": 24,
   "id": "ca410940",
   "metadata": {
    "execution": {
     "iopub.execute_input": "2022-03-16T20:11:21.163384Z",
     "iopub.status.busy": "2022-03-16T20:11:21.159193Z",
     "iopub.status.idle": "2022-03-16T20:11:21.389252Z",
     "shell.execute_reply": "2022-03-16T20:11:21.388819Z"
    },
    "papermill": {
     "duration": 0.275094,
     "end_time": "2022-03-16T20:11:21.389372",
     "exception": false,
     "start_time": "2022-03-16T20:11:21.114278",
     "status": "completed"
    },
    "tags": []
   },
   "outputs": [
    {
     "data": {
      "text/plain": [
       "<matplotlib.legend.Legend at 0x7f524e513d30>"
      ]
     },
     "execution_count": 24,
     "metadata": {},
     "output_type": "execute_result"
    },
    {
     "data": {
      "image/png": "[encoded data removed]",
      "text/plain": [
       "<Figure size 1080x720 with 1 Axes>"
      ]
     },
     "metadata": {
      "needs_background": "light"
     },
     "output_type": "display_data"
    }
   ],
   "source": [
    "#comparing the results of NN and LR\n",
    "plt.figure(figsize=(15,10))\n",
    "\n",
    "# Neural Network plots\n",
    "plt.plot(acc_nn.accuracies, 'r-', label = \"Training Accuracies - NN\")\n",
    "plt.plot(acc_nn.test_accuracies, 'g-', label = \"Testing Accuracies - NN\")\n",
    "\n",
    "# Logistic Regression plots\n",
    "plt.plot(acc_lr.accuracies, 'k-', label = \"Training Accuracies - LR\")\n",
    "plt.plot(acc_lr.test_accuracies, 'b-', label = \"Testing Accuracies - LR\")\n",
    "plt.legend()"
   ]
  },
  {
   "cell_type": "markdown",
   "id": "80dfb35c",
   "metadata": {
    "papermill": {
     "duration": 0.041525,
     "end_time": "2022-03-16T20:11:21.472912",
     "exception": false,
     "start_time": "2022-03-16T20:11:21.431387",
     "status": "completed"
    },
    "tags": []
   },
   "source": [
    "#### Plotting the outputs of this layer of the NN.\n"
   ]
  },
  {
   "cell_type": "code",
   "execution_count": 25,
   "id": "45eb2ff5",
   "metadata": {
    "execution": {
     "iopub.execute_input": "2022-03-16T20:11:21.559550Z",
     "iopub.status.busy": "2022-03-16T20:11:21.559031Z",
     "iopub.status.idle": "2022-03-16T20:11:21.577857Z",
     "shell.execute_reply": "2022-03-16T20:11:21.578333Z"
    },
    "papermill": {
     "duration": 0.063932,
     "end_time": "2022-03-16T20:11:21.578470",
     "exception": false,
     "start_time": "2022-03-16T20:11:21.514538",
     "status": "completed"
    },
    "tags": []
   },
   "outputs": [],
   "source": [
    "new_model = Model(layers[:-2])\n",
    "testing_plot = new_model(testing_data_x)"
   ]
  },
  {
   "cell_type": "code",
   "execution_count": 26,
   "id": "4c0a5485",
   "metadata": {
    "execution": {
     "iopub.execute_input": "2022-03-16T20:11:21.666681Z",
     "iopub.status.busy": "2022-03-16T20:11:21.666165Z",
     "iopub.status.idle": "2022-03-16T20:11:21.859801Z",
     "shell.execute_reply": "2022-03-16T20:11:21.860222Z"
    },
    "papermill": {
     "duration": 0.239434,
     "end_time": "2022-03-16T20:11:21.860362",
     "exception": false,
     "start_time": "2022-03-16T20:11:21.620928",
     "status": "completed"
    },
    "tags": []
   },
   "outputs": [
    {
     "data": {
      "text/plain": [
       "Text(0.5, 1.0, 'Outputs')"
      ]
     },
     "execution_count": 26,
     "metadata": {},
     "output_type": "execute_result"
    },
    {
     "data": {
      "image/png": "[encoded data removed]",
      "text/plain": [
       "<Figure size 576x504 with 1 Axes>"
      ]
     },
     "metadata": {
      "needs_background": "light"
     },
     "output_type": "display_data"
    }
   ],
   "source": [
    "# Plotting the scatter plot of points and color coding by class\n",
    "plt.figure(figsize=(8,7))\n",
    "plt.scatter(testing_plot[:,0], testing_plot[:,1], alpha = 0.1, c = y_test.ravel());\n",
    "plt.title('Outputs')"
   ]
  },
  {
   "cell_type": "markdown",
   "id": "a74fcf8f",
   "metadata": {
    "papermill": {
     "duration": 0.043492,
     "end_time": "2022-03-16T20:11:21.947656",
     "exception": false,
     "start_time": "2022-03-16T20:11:21.904164",
     "status": "completed"
    },
    "tags": []
   },
   "source": [
    "Probability contours"
   ]
  },
  {
   "cell_type": "code",
   "execution_count": 27,
   "id": "d0afc8e3",
   "metadata": {
    "execution": {
     "iopub.execute_input": "2022-03-16T20:11:22.048336Z",
     "iopub.status.busy": "2022-03-16T20:11:22.047814Z",
     "iopub.status.idle": "2022-03-16T20:11:22.054447Z",
     "shell.execute_reply": "2022-03-16T20:11:22.054903Z"
    },
    "papermill": {
     "duration": 0.063807,
     "end_time": "2022-03-16T20:11:22.055037",
     "exception": false,
     "start_time": "2022-03-16T20:11:21.991230",
     "status": "completed"
    },
    "tags": []
   },
   "outputs": [],
   "source": [
    "model_prob = Model(layers[-2:]) "
   ]
  },
  {
   "cell_type": "code",
   "execution_count": 28,
   "id": "9b96e238",
   "metadata": {
    "execution": {
     "iopub.execute_input": "2022-03-16T20:11:22.152196Z",
     "iopub.status.busy": "2022-03-16T20:11:22.147543Z",
     "iopub.status.idle": "2022-03-16T20:11:22.163399Z",
     "shell.execute_reply": "2022-03-16T20:11:22.163792Z"
    },
    "papermill": {
     "duration": 0.065223,
     "end_time": "2022-03-16T20:11:22.163926",
     "exception": false,
     "start_time": "2022-03-16T20:11:22.098703",
     "status": "completed"
    },
    "tags": []
   },
   "outputs": [],
   "source": [
    "#creating the x and y ranges according to the above generated plot.\n",
    "x_range = np.linspace(-4, 1, 100) \n",
    "y_range = np.linspace(-6, 6, 100) \n",
    "x_grid, y_grid = np.meshgrid(x_range, y_range) # x_grid and y_grig are of size 100 X 100\n",
    "\n",
    "# converting x_grid and y_grid to continuous arrays\n",
    "x_gridflat = np.ravel(x_grid)\n",
    "y_gridflat = np.ravel(y_grid)\n",
    "\n",
    "# The last layer of the current model takes two columns as input. Hence transpose of np.vstack() is required.\n",
    "X = np.vstack((x_gridflat, y_gridflat)).T\n",
    "\n",
    "prob_contour = model_prob(X).reshape(100,100) "
   ]
  },
  {
   "cell_type": "code",
   "execution_count": 29,
   "id": "da72499a",
   "metadata": {
    "execution": {
     "iopub.execute_input": "2022-03-16T20:11:22.282559Z",
     "iopub.status.busy": "2022-03-16T20:11:22.282044Z",
     "iopub.status.idle": "2022-03-16T20:11:22.517477Z",
     "shell.execute_reply": "2022-03-16T20:11:22.517906Z"
    },
    "papermill": {
     "duration": 0.309895,
     "end_time": "2022-03-16T20:11:22.518048",
     "exception": false,
     "start_time": "2022-03-16T20:11:22.208153",
     "status": "completed"
    },
    "tags": []
   },
   "outputs": [
    {
     "data": {
      "image/png": "[encoded data removed]",
      "text/plain": [
       "<Figure size 720x648 with 1 Axes>"
      ]
     },
     "metadata": {
      "needs_background": "light"
     },
     "output_type": "display_data"
    }
   ],
   "source": [
    "plt.figure(figsize=(10,9))\n",
    "plt.scatter(testing_plot[:,0], testing_plot[:,1], alpha = 0.1, c = y_test.ravel())\n",
    "contours = plt.contour(x_grid,y_grid,prob_contour)\n",
    "plt.title('Probability Contours')\n",
    "plt.clabel(contours, inline = True );"
   ]
  },
  {
   "cell_type": "code",
   "execution_count": null,
   "id": "e81b4ac7",
   "metadata": {
    "papermill": {
     "duration": 0.045746,
     "end_time": "2022-03-16T20:11:22.610143",
     "exception": false,
     "start_time": "2022-03-16T20:11:22.564397",
     "status": "completed"
    },
    "tags": []
   },
   "outputs": [],
   "source": []
  }
 ],
 "metadata": {
  "kernelspec": {
   "display_name": "Python 3",
   "language": "python",
   "name": "python3"
  },
  "language_info": {
   "codemirror_mode": {
    "name": "ipython",
    "version": 3
   },
   "file_extension": ".py",
   "mimetype": "text/x-python",
   "name": "python",
   "nbconvert_exporter": "python",
   "pygments_lexer": "ipython3",
   "version": "3.6.15"
  },
  "papermill": {
   "default_parameters": {},
   "duration": 104.12187,
   "end_time": "2022-03-16T20:11:23.074396",
   "environment_variables": {},
   "exception": null,
   "input_path": "2020-08-11-part2.ipynb",
   "output_path": "2020-08-11-part2.ipynb",
   "parameters": {},
   "start_time": "2022-03-16T20:09:38.952526",
   "version": "2.3.3"
  }
 },
 "nbformat": 4,
 "nbformat_minor": 5
}