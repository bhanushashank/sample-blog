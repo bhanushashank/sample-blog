{
 "cells": [
  {
   "cell_type": "markdown",
   "id": "98380cd3",
   "metadata": {
    "papermill": {
     "duration": 0.030832,
     "end_time": "2022-03-04T00:34:01.860287",
     "exception": false,
     "start_time": "2022-03-04T00:34:01.829455",
     "status": "completed"
    },
    "tags": []
   },
   "source": [
    "# Distinguish Your Own Digits (DYOD)"
   ]
  },
  {
   "cell_type": "markdown",
   "id": "ef31240d",
   "metadata": {
    "papermill": {
     "duration": 0.027302,
     "end_time": "2022-03-04T00:34:01.914564",
     "exception": false,
     "start_time": "2022-03-04T00:34:01.887262",
     "status": "completed"
    },
    "tags": []
   },
   "source": [
    "You are going to write a classifier that distinguishes between the number 3 and number 8."
   ]
  },
  {
   "cell_type": "code",
   "execution_count": 1,
   "id": "b15c8646",
   "metadata": {
    "execution": {
     "iopub.execute_input": "2022-03-04T00:34:01.981471Z",
     "iopub.status.busy": "2022-03-04T00:34:01.979569Z",
     "iopub.status.idle": "2022-03-04T00:34:01.992647Z",
     "shell.execute_reply": "2022-03-04T00:34:01.992125Z"
    },
    "papermill": {
     "duration": 0.052613,
     "end_time": "2022-03-04T00:34:01.992783",
     "exception": false,
     "start_time": "2022-03-04T00:34:01.940170",
     "status": "completed"
    },
    "tags": []
   },
   "outputs": [],
   "source": [
    "%load_ext autoreload\n",
    "%autoreload 2"
   ]
  },
  {
   "cell_type": "code",
   "execution_count": 2,
   "id": "22ef38dc",
   "metadata": {
    "execution": {
     "iopub.execute_input": "2022-03-04T00:34:02.051559Z",
     "iopub.status.busy": "2022-03-04T00:34:02.048571Z",
     "iopub.status.idle": "2022-03-04T00:34:02.695974Z",
     "shell.execute_reply": "2022-03-04T00:34:02.695067Z"
    },
    "papermill": {
     "duration": 0.677153,
     "end_time": "2022-03-04T00:34:02.696197",
     "exception": false,
     "start_time": "2022-03-04T00:34:02.019044",
     "status": "completed"
    },
    "tags": []
   },
   "outputs": [],
   "source": [
    "%matplotlib inline\n",
    "import numpy as np\n",
    "import matplotlib.pyplot as plt\n",
    "import pandas as pd"
   ]
  },
  {
   "cell_type": "markdown",
   "id": "ba036198",
   "metadata": {
    "papermill": {
     "duration": 0.029002,
     "end_time": "2022-03-04T00:34:02.751896",
     "exception": false,
     "start_time": "2022-03-04T00:34:02.722894",
     "status": "completed"
    },
    "tags": []
   },
   "source": [
    "From the command line run `pip install mnist`. This is a library that will help you bring down the mnist dataset. If you run this from a notebook, you need to put  `!pip install mnist` in a cell by itself."
   ]
  },
  {
   "cell_type": "code",
   "execution_count": 3,
   "id": "bb6ad8a1",
   "metadata": {
    "execution": {
     "iopub.execute_input": "2022-03-04T00:34:02.809880Z",
     "iopub.status.busy": "2022-03-04T00:34:02.808848Z",
     "iopub.status.idle": "2022-03-04T00:34:04.718915Z",
     "shell.execute_reply": "2022-03-04T00:34:04.719441Z"
    },
    "papermill": {
     "duration": 1.941071,
     "end_time": "2022-03-04T00:34:04.719598",
     "exception": false,
     "start_time": "2022-03-04T00:34:02.778527",
     "status": "completed"
    },
    "tags": []
   },
   "outputs": [
    {
     "name": "stdout",
     "output_type": "stream",
     "text": [
      "Collecting mnist\r\n"
     ]
    },
    {
     "name": "stdout",
     "output_type": "stream",
     "text": [
      "  Downloading mnist-0.2.2-py2.py3-none-any.whl (3.5 kB)\r\n",
      "Requirement already satisfied: numpy in /opt/hostedtoolcache/Python/3.6.15/x64/lib/python3.6/site-packages (from mnist) (1.19.5)\r\n"
     ]
    },
    {
     "name": "stdout",
     "output_type": "stream",
     "text": [
      "Installing collected packages: mnist\r\n"
     ]
    },
    {
     "name": "stdout",
     "output_type": "stream",
     "text": [
      "Successfully installed mnist-0.2.2\r\n"
     ]
    }
   ],
   "source": [
    "!pip install mnist"
   ]
  },
  {
   "cell_type": "markdown",
   "id": "69df9c9a",
   "metadata": {
    "papermill": {
     "duration": 0.027889,
     "end_time": "2022-03-04T00:34:04.775077",
     "exception": false,
     "start_time": "2022-03-04T00:34:04.747188",
     "status": "completed"
    },
    "tags": []
   },
   "source": [
    "## Preparing the Data"
   ]
  },
  {
   "cell_type": "code",
   "execution_count": 4,
   "id": "7f69d806",
   "metadata": {
    "execution": {
     "iopub.execute_input": "2022-03-04T00:34:04.835392Z",
     "iopub.status.busy": "2022-03-04T00:34:04.834821Z",
     "iopub.status.idle": "2022-03-04T00:34:04.850406Z",
     "shell.execute_reply": "2022-03-04T00:34:04.849900Z"
    },
    "papermill": {
     "duration": 0.04775,
     "end_time": "2022-03-04T00:34:04.850545",
     "exception": false,
     "start_time": "2022-03-04T00:34:04.802795",
     "status": "completed"
    },
    "tags": []
   },
   "outputs": [],
   "source": [
    "import mnist"
   ]
  },
  {
   "cell_type": "code",
   "execution_count": 5,
   "id": "a411e44f",
   "metadata": {
    "execution": {
     "iopub.execute_input": "2022-03-04T00:34:04.909030Z",
     "iopub.status.busy": "2022-03-04T00:34:04.908478Z",
     "iopub.status.idle": "2022-03-04T00:34:05.472999Z",
     "shell.execute_reply": "2022-03-04T00:34:05.472107Z"
    },
    "papermill": {
     "duration": 0.595126,
     "end_time": "2022-03-04T00:34:05.473215",
     "exception": false,
     "start_time": "2022-03-04T00:34:04.878089",
     "status": "completed"
    },
    "tags": []
   },
   "outputs": [],
   "source": [
    "train_images = mnist.train_images()\n",
    "train_labels = mnist.train_labels()"
   ]
  },
  {
   "cell_type": "code",
   "execution_count": 6,
   "id": "dceab3a5",
   "metadata": {
    "execution": {
     "iopub.execute_input": "2022-03-04T00:34:05.534341Z",
     "iopub.status.busy": "2022-03-04T00:34:05.533730Z",
     "iopub.status.idle": "2022-03-04T00:34:05.549788Z",
     "shell.execute_reply": "2022-03-04T00:34:05.550294Z"
    },
    "papermill": {
     "duration": 0.048226,
     "end_time": "2022-03-04T00:34:05.550437",
     "exception": false,
     "start_time": "2022-03-04T00:34:05.502211",
     "status": "completed"
    },
    "tags": []
   },
   "outputs": [
    {
     "data": {
      "text/plain": [
       "((60000, 28, 28), (60000,))"
      ]
     },
     "execution_count": 6,
     "metadata": {},
     "output_type": "execute_result"
    }
   ],
   "source": [
    "train_images.shape, train_labels.shape"
   ]
  },
  {
   "cell_type": "code",
   "execution_count": 7,
   "id": "f50dc2bb",
   "metadata": {
    "execution": {
     "iopub.execute_input": "2022-03-04T00:34:05.609931Z",
     "iopub.status.busy": "2022-03-04T00:34:05.609356Z",
     "iopub.status.idle": "2022-03-04T00:34:05.768231Z",
     "shell.execute_reply": "2022-03-04T00:34:05.767293Z"
    },
    "papermill": {
     "duration": 0.190303,
     "end_time": "2022-03-04T00:34:05.768440",
     "exception": false,
     "start_time": "2022-03-04T00:34:05.578137",
     "status": "completed"
    },
    "tags": []
   },
   "outputs": [],
   "source": [
    "test_images = mnist.test_images()\n",
    "test_labels = mnist.test_labels()"
   ]
  },
  {
   "cell_type": "code",
   "execution_count": 8,
   "id": "fc38cf1b",
   "metadata": {
    "execution": {
     "iopub.execute_input": "2022-03-04T00:34:05.828928Z",
     "iopub.status.busy": "2022-03-04T00:34:05.827904Z",
     "iopub.status.idle": "2022-03-04T00:34:05.842811Z",
     "shell.execute_reply": "2022-03-04T00:34:05.842296Z"
    },
    "papermill": {
     "duration": 0.046156,
     "end_time": "2022-03-04T00:34:05.842941",
     "exception": false,
     "start_time": "2022-03-04T00:34:05.796785",
     "status": "completed"
    },
    "tags": []
   },
   "outputs": [
    {
     "data": {
      "text/plain": [
       "((10000, 28, 28), (10000,))"
      ]
     },
     "execution_count": 8,
     "metadata": {},
     "output_type": "execute_result"
    }
   ],
   "source": [
    "test_images.shape, test_labels.shape"
   ]
  },
  {
   "cell_type": "code",
   "execution_count": 9,
   "id": "f9ed8fe0",
   "metadata": {
    "execution": {
     "iopub.execute_input": "2022-03-04T00:34:05.902351Z",
     "iopub.status.busy": "2022-03-04T00:34:05.901763Z",
     "iopub.status.idle": "2022-03-04T00:34:06.064044Z",
     "shell.execute_reply": "2022-03-04T00:34:06.063543Z"
    },
    "papermill": {
     "duration": 0.193802,
     "end_time": "2022-03-04T00:34:06.064166",
     "exception": false,
     "start_time": "2022-03-04T00:34:05.870364",
     "status": "completed"
    },
    "tags": []
   },
   "outputs": [
    {
     "name": "stdout",
     "output_type": "stream",
     "text": [
      "2\n"
     ]
    },
    {
     "data": {
      "text/plain": [
       "<matplotlib.image.AxesImage at 0x7f33ca6c1588>"
      ]
     },
     "execution_count": 9,
     "metadata": {},
     "output_type": "execute_result"
    },
    {
     "data": {
      "image/png": "[encoded data removed]",
      "text/plain": [
       "<Figure size 432x288 with 1 Axes>"
      ]
     },
     "metadata": {
      "needs_background": "light"
     },
     "output_type": "display_data"
    }
   ],
   "source": [
    "image_index = 7776 # You may select anything up to 60,000\n",
    "print(train_labels[image_index]) \n",
    "plt.imshow(train_images[image_index], cmap='Greys')"
   ]
  },
  {
   "cell_type": "markdown",
   "id": "a8d2388d",
   "metadata": {
    "papermill": {
     "duration": 0.029923,
     "end_time": "2022-03-04T00:34:06.126152",
     "exception": false,
     "start_time": "2022-03-04T00:34:06.096229",
     "status": "completed"
    },
    "tags": []
   },
   "source": [
    "## Filter data to get 3 and 8 out"
   ]
  },
  {
   "cell_type": "code",
   "execution_count": 10,
   "id": "776f7fc7",
   "metadata": {
    "execution": {
     "iopub.execute_input": "2022-03-04T00:34:06.195695Z",
     "iopub.status.busy": "2022-03-04T00:34:06.190473Z",
     "iopub.status.idle": "2022-03-04T00:34:06.210966Z",
     "shell.execute_reply": "2022-03-04T00:34:06.210186Z"
    },
    "papermill": {
     "duration": 0.055053,
     "end_time": "2022-03-04T00:34:06.211128",
     "exception": false,
     "start_time": "2022-03-04T00:34:06.156075",
     "status": "completed"
    },
    "tags": []
   },
   "outputs": [],
   "source": [
    "train_filter = np.where((train_labels == 3 ) | (train_labels == 8))\n",
    "test_filter = np.where((test_labels == 3) | (test_labels == 8))\n",
    "X_train, y_train = train_images[train_filter], train_labels[train_filter]\n",
    "X_test, y_test = test_images[test_filter], test_labels[test_filter]"
   ]
  },
  {
   "cell_type": "markdown",
   "id": "948f0b7e",
   "metadata": {
    "papermill": {
     "duration": 0.028622,
     "end_time": "2022-03-04T00:34:06.269423",
     "exception": false,
     "start_time": "2022-03-04T00:34:06.240801",
     "status": "completed"
    },
    "tags": []
   },
   "source": [
    "We normalize the pizel values in the 0 to 1 range"
   ]
  },
  {
   "cell_type": "code",
   "execution_count": 11,
   "id": "ee4c2166",
   "metadata": {
    "execution": {
     "iopub.execute_input": "2022-03-04T00:34:06.335308Z",
     "iopub.status.busy": "2022-03-04T00:34:06.331319Z",
     "iopub.status.idle": "2022-03-04T00:34:06.387636Z",
     "shell.execute_reply": "2022-03-04T00:34:06.386985Z"
    },
    "papermill": {
     "duration": 0.090042,
     "end_time": "2022-03-04T00:34:06.387799",
     "exception": false,
     "start_time": "2022-03-04T00:34:06.297757",
     "status": "completed"
    },
    "tags": []
   },
   "outputs": [],
   "source": [
    "X_train = X_train/255.\n",
    "X_test = X_test/255."
   ]
  },
  {
   "cell_type": "markdown",
   "id": "ddcf4fab",
   "metadata": {
    "papermill": {
     "duration": 0.029747,
     "end_time": "2022-03-04T00:34:06.448273",
     "exception": false,
     "start_time": "2022-03-04T00:34:06.418526",
     "status": "completed"
    },
    "tags": []
   },
   "source": [
    "And setup the labels as 1 (when the digit is 3) and 0 (when the digit is 8)"
   ]
  },
  {
   "cell_type": "code",
   "execution_count": 12,
   "id": "7dc908f2",
   "metadata": {
    "execution": {
     "iopub.execute_input": "2022-03-04T00:34:06.510262Z",
     "iopub.status.busy": "2022-03-04T00:34:06.509661Z",
     "iopub.status.idle": "2022-03-04T00:34:06.523130Z",
     "shell.execute_reply": "2022-03-04T00:34:06.522638Z"
    },
    "papermill": {
     "duration": 0.045823,
     "end_time": "2022-03-04T00:34:06.523265",
     "exception": false,
     "start_time": "2022-03-04T00:34:06.477442",
     "status": "completed"
    },
    "tags": []
   },
   "outputs": [],
   "source": [
    "y_train = 1*(y_train==3)\n",
    "y_test = 1*(y_test==3)"
   ]
  },
  {
   "cell_type": "code",
   "execution_count": 13,
   "id": "01e4e969",
   "metadata": {
    "execution": {
     "iopub.execute_input": "2022-03-04T00:34:06.586296Z",
     "iopub.status.busy": "2022-03-04T00:34:06.585698Z",
     "iopub.status.idle": "2022-03-04T00:34:06.602372Z",
     "shell.execute_reply": "2022-03-04T00:34:06.601880Z"
    },
    "papermill": {
     "duration": 0.049972,
     "end_time": "2022-03-04T00:34:06.602523",
     "exception": false,
     "start_time": "2022-03-04T00:34:06.552551",
     "status": "completed"
    },
    "tags": []
   },
   "outputs": [
    {
     "data": {
      "text/plain": [
       "((11982, 28, 28), (1984, 28, 28))"
      ]
     },
     "execution_count": 13,
     "metadata": {},
     "output_type": "execute_result"
    }
   ],
   "source": [
    "X_train.shape, X_test.shape"
   ]
  },
  {
   "cell_type": "markdown",
   "id": "5ccf3f85",
   "metadata": {
    "papermill": {
     "duration": 0.029514,
     "end_time": "2022-03-04T00:34:06.661826",
     "exception": false,
     "start_time": "2022-03-04T00:34:06.632312",
     "status": "completed"
    },
    "tags": []
   },
   "source": [
    "We reshape the data to flatten the image pixels into a set of features or co-variates:"
   ]
  },
  {
   "cell_type": "code",
   "execution_count": 14,
   "id": "5286a4a3",
   "metadata": {
    "execution": {
     "iopub.execute_input": "2022-03-04T00:34:06.729103Z",
     "iopub.status.busy": "2022-03-04T00:34:06.728486Z",
     "iopub.status.idle": "2022-03-04T00:34:06.742633Z",
     "shell.execute_reply": "2022-03-04T00:34:06.743092Z"
    },
    "papermill": {
     "duration": 0.051875,
     "end_time": "2022-03-04T00:34:06.743248",
     "exception": false,
     "start_time": "2022-03-04T00:34:06.691373",
     "status": "completed"
    },
    "tags": []
   },
   "outputs": [
    {
     "data": {
      "text/plain": [
       "((11982, 784), (1984, 784))"
      ]
     },
     "execution_count": 14,
     "metadata": {},
     "output_type": "execute_result"
    }
   ],
   "source": [
    "X_train = X_train.reshape(X_train.shape[0], -1)\n",
    "X_test = X_test.reshape(X_test.shape[0], -1)\n",
    "X_train.shape, X_test.shape"
   ]
  },
  {
   "cell_type": "code",
   "execution_count": 15,
   "id": "73c5f88a",
   "metadata": {
    "execution": {
     "iopub.execute_input": "2022-03-04T00:34:06.809096Z",
     "iopub.status.busy": "2022-03-04T00:34:06.808484Z",
     "iopub.status.idle": "2022-03-04T00:34:06.830552Z",
     "shell.execute_reply": "2022-03-04T00:34:06.829991Z"
    },
    "papermill": {
     "duration": 0.05698,
     "end_time": "2022-03-04T00:34:06.830697",
     "exception": false,
     "start_time": "2022-03-04T00:34:06.773717",
     "status": "completed"
    },
    "tags": []
   },
   "outputs": [],
   "source": [
    "#Impoting functions from 'Kudzu'\n",
    "from kudzu.model import Model\n",
    "from kudzu.train import Learner\n",
    "from kudzu.optim import GD\n",
    "from kudzu.data import Data, Sampler,Dataloader\n",
    "\n",
    "from kudzu.callbacks import AccCallback\n",
    "from kudzu.callbacks import ClfCallback\n",
    "\n",
    "from kudzu.loss import MSE\n",
    "\n",
    "from kudzu.layer import Sigmoid,Relu\n",
    "from kudzu.layer import Affine"
   ]
  },
  {
   "cell_type": "markdown",
   "id": "bc01172a",
   "metadata": {
    "papermill": {
     "duration": 0.02991,
     "end_time": "2022-03-04T00:34:06.890675",
     "exception": false,
     "start_time": "2022-03-04T00:34:06.860765",
     "status": "completed"
    },
    "tags": []
   },
   "source": [
    "### Let us create a `Config` class, to store important parameters. \n",
    "This class essentially plays the role of a dictionary."
   ]
  },
  {
   "cell_type": "code",
   "execution_count": 16,
   "id": "978281aa",
   "metadata": {
    "execution": {
     "iopub.execute_input": "2022-03-04T00:34:06.954661Z",
     "iopub.status.busy": "2022-03-04T00:34:06.954077Z",
     "iopub.status.idle": "2022-03-04T00:34:06.967232Z",
     "shell.execute_reply": "2022-03-04T00:34:06.967752Z"
    },
    "papermill": {
     "duration": 0.046197,
     "end_time": "2022-03-04T00:34:06.967892",
     "exception": false,
     "start_time": "2022-03-04T00:34:06.921695",
     "status": "completed"
    },
    "tags": []
   },
   "outputs": [],
   "source": [
    "class Config:\n",
    "    pass\n",
    "config = Config()\n",
    "config.lr = 0.001\n",
    "config.num_epochs = 250\n",
    "config.bs = 50"
   ]
  },
  {
   "cell_type": "markdown",
   "id": "1385fa59",
   "metadata": {
    "papermill": {
     "duration": 0.029743,
     "end_time": "2022-03-04T00:34:07.026680",
     "exception": false,
     "start_time": "2022-03-04T00:34:06.996937",
     "status": "completed"
    },
    "tags": []
   },
   "source": [
    "### Running Models with the Training data\n",
    "Details about the network layers:\n",
    "- A first affine layer has 784 inputs and does 100 affine transforms. These are followed by a Relu\n",
    "- A second affine layer has 100 inputs from the 100 activations of the past layer, and does 100 affine transforms. These are followed by a Relu\n",
    "- A third affine layer has 100 activations and does 2 affine transformations to create an embedding for visualization. There is no non-linearity here.\n",
    "- A final \"logistic regression\" which has an affine transform from 2 inputs to 1 output, which is squeezed through a sigmoid.\n"
   ]
  },
  {
   "cell_type": "code",
   "execution_count": 17,
   "id": "2b9c66db",
   "metadata": {
    "execution": {
     "iopub.execute_input": "2022-03-04T00:34:07.092241Z",
     "iopub.status.busy": "2022-03-04T00:34:07.091642Z",
     "iopub.status.idle": "2022-03-04T00:34:07.105103Z",
     "shell.execute_reply": "2022-03-04T00:34:07.105623Z"
    },
    "papermill": {
     "duration": 0.049064,
     "end_time": "2022-03-04T00:34:07.105769",
     "exception": false,
     "start_time": "2022-03-04T00:34:07.056705",
     "status": "completed"
    },
    "tags": []
   },
   "outputs": [],
   "source": [
    "data = Data(X_train, y_train.reshape(-1,1))\n",
    "sampler = Sampler(data, config.bs, shuffle=True)\n",
    "\n",
    "dl = Dataloader(data, sampler)\n",
    "\n",
    "opt = GD(config.lr)\n",
    "loss = MSE()"
   ]
  },
  {
   "cell_type": "code",
   "execution_count": 18,
   "id": "b275e4c2",
   "metadata": {
    "execution": {
     "iopub.execute_input": "2022-03-04T00:34:07.169412Z",
     "iopub.status.busy": "2022-03-04T00:34:07.168805Z",
     "iopub.status.idle": "2022-03-04T00:34:07.182911Z",
     "shell.execute_reply": "2022-03-04T00:34:07.182431Z"
    },
    "papermill": {
     "duration": 0.04775,
     "end_time": "2022-03-04T00:34:07.183059",
     "exception": false,
     "start_time": "2022-03-04T00:34:07.135309",
     "status": "completed"
    },
    "tags": []
   },
   "outputs": [],
   "source": [
    "training_data_x = X_train\n",
    "testing_data_x = X_test\n",
    "training_data_y = y_train.reshape(-1,1)\n",
    "testing_data_y = y_test.reshape(-1,1)"
   ]
  },
  {
   "cell_type": "code",
   "execution_count": 19,
   "id": "76951160",
   "metadata": {
    "execution": {
     "iopub.execute_input": "2022-03-04T00:34:07.248385Z",
     "iopub.status.busy": "2022-03-04T00:34:07.247818Z",
     "iopub.status.idle": "2022-03-04T00:34:07.263439Z",
     "shell.execute_reply": "2022-03-04T00:34:07.263898Z"
    },
    "papermill": {
     "duration": 0.05182,
     "end_time": "2022-03-04T00:34:07.264034",
     "exception": false,
     "start_time": "2022-03-04T00:34:07.212214",
     "status": "completed"
    },
    "tags": []
   },
   "outputs": [
    {
     "name": "stdout",
     "output_type": "stream",
     "text": [
      "xavier\n",
      "xavier\n",
      "xavier\n",
      "xavier\n",
      "xavier\n"
     ]
    }
   ],
   "source": [
    "layers = [Affine(\"first\", 784, 100), Relu(\"first\"), Affine(\"second\", 100, 100), Relu(\"second\"), Affine(\"third\", 100, 2), Affine(\"last\", 2, 1), Sigmoid(\"last\")]\n",
    "model_nn = Model(layers)\n",
    "model_lr = Model([Affine(\"logits\", 784, 1), Sigmoid(\"sigmoid\")])"
   ]
  },
  {
   "cell_type": "code",
   "execution_count": 20,
   "id": "6eede77a",
   "metadata": {
    "execution": {
     "iopub.execute_input": "2022-03-04T00:34:07.328250Z",
     "iopub.status.busy": "2022-03-04T00:34:07.327698Z",
     "iopub.status.idle": "2022-03-04T00:34:07.342904Z",
     "shell.execute_reply": "2022-03-04T00:34:07.342420Z"
    },
    "papermill": {
     "duration": 0.048952,
     "end_time": "2022-03-04T00:34:07.343028",
     "exception": false,
     "start_time": "2022-03-04T00:34:07.294076",
     "status": "completed"
    },
    "tags": []
   },
   "outputs": [],
   "source": [
    "nn_learner = Learner(loss, model_nn, opt, config.num_epochs)\n",
    "acc_nn = ClfCallback(nn_learner, config.bs, training_data_x , testing_data_x, training_data_y, testing_data_y)\n",
    "nn_learner.set_callbacks([acc_nn])"
   ]
  },
  {
   "cell_type": "code",
   "execution_count": 21,
   "id": "877b6cc7",
   "metadata": {
    "execution": {
     "iopub.execute_input": "2022-03-04T00:34:07.406156Z",
     "iopub.status.busy": "2022-03-04T00:34:07.405565Z",
     "iopub.status.idle": "2022-03-04T00:34:07.419603Z",
     "shell.execute_reply": "2022-03-04T00:34:07.419122Z"
    },
    "papermill": {
     "duration": 0.047387,
     "end_time": "2022-03-04T00:34:07.419729",
     "exception": false,
     "start_time": "2022-03-04T00:34:07.372342",
     "status": "completed"
    },
    "tags": []
   },
   "outputs": [],
   "source": [
    "lr_learner = Learner(loss, model_lr, opt, config.num_epochs)\n",
    "acc_lr = ClfCallback(lr_learner, config.bs, training_data_x , testing_data_x, training_data_y, testing_data_y)\n",
    "lr_learner.set_callbacks([acc_lr])"
   ]
  },
  {
   "cell_type": "code",
   "execution_count": 22,
   "id": "d9b133c3",
   "metadata": {
    "execution": {
     "iopub.execute_input": "2022-03-04T00:34:07.491867Z",
     "iopub.status.busy": "2022-03-04T00:34:07.487317Z",
     "iopub.status.idle": "2022-03-04T00:35:34.616385Z",
     "shell.execute_reply": "2022-03-04T00:35:34.617240Z"
    },
    "papermill": {
     "duration": 87.167746,
     "end_time": "2022-03-04T00:35:34.617396",
     "exception": false,
     "start_time": "2022-03-04T00:34:07.449650",
     "status": "completed"
    },
    "tags": []
   },
   "outputs": [
    {
     "name": "stdout",
     "output_type": "stream",
     "text": [
      "Epoch 0, Loss 0.2509\n",
      "Training Accuracy: 0.4855, Testing Accuracy: 0.4768\n",
      "\n"
     ]
    },
    {
     "name": "stdout",
     "output_type": "stream",
     "text": [
      "Epoch 10, Loss 0.2378\n",
      "Training Accuracy: 0.8049, Testing Accuracy: 0.8080\n",
      "\n"
     ]
    },
    {
     "name": "stdout",
     "output_type": "stream",
     "text": [
      "Epoch 20, Loss 0.1899\n",
      "Training Accuracy: 0.8667, Testing Accuracy: 0.8735\n",
      "\n"
     ]
    },
    {
     "name": "stdout",
     "output_type": "stream",
     "text": [
      "Epoch 30, Loss 0.1008\n",
      "Training Accuracy: 0.9015, Testing Accuracy: 0.9128\n",
      "\n"
     ]
    },
    {
     "name": "stdout",
     "output_type": "stream",
     "text": [
      "Epoch 40, Loss 0.0652\n",
      "Training Accuracy: 0.9276, Testing Accuracy: 0.9420\n",
      "\n"
     ]
    },
    {
     "name": "stdout",
     "output_type": "stream",
     "text": [
      "Epoch 50, Loss 0.0509\n",
      "Training Accuracy: 0.9405, Testing Accuracy: 0.9516\n",
      "\n"
     ]
    },
    {
     "name": "stdout",
     "output_type": "stream",
     "text": [
      "Epoch 60, Loss 0.0435\n",
      "Training Accuracy: 0.9498, Testing Accuracy: 0.9592\n",
      "\n"
     ]
    },
    {
     "name": "stdout",
     "output_type": "stream",
     "text": [
      "Epoch 70, Loss 0.0389\n",
      "Training Accuracy: 0.9557, Testing Accuracy: 0.9622\n",
      "\n"
     ]
    },
    {
     "name": "stdout",
     "output_type": "stream",
     "text": [
      "Epoch 80, Loss 0.0358\n",
      "Training Accuracy: 0.9588, Testing Accuracy: 0.9662\n",
      "\n"
     ]
    },
    {
     "name": "stdout",
     "output_type": "stream",
     "text": [
      "Epoch 90, Loss 0.0335\n",
      "Training Accuracy: 0.9604, Testing Accuracy: 0.9682\n",
      "\n"
     ]
    },
    {
     "name": "stdout",
     "output_type": "stream",
     "text": [
      "Epoch 100, Loss 0.0318\n",
      "Training Accuracy: 0.9623, Testing Accuracy: 0.9672\n",
      "\n"
     ]
    },
    {
     "name": "stdout",
     "output_type": "stream",
     "text": [
      "Epoch 110, Loss 0.0303\n",
      "Training Accuracy: 0.9635, Testing Accuracy: 0.9688\n",
      "\n"
     ]
    },
    {
     "name": "stdout",
     "output_type": "stream",
     "text": [
      "Epoch 120, Loss 0.0291\n",
      "Training Accuracy: 0.9647, Testing Accuracy: 0.9703\n",
      "\n"
     ]
    },
    {
     "name": "stdout",
     "output_type": "stream",
     "text": [
      "Epoch 130, Loss 0.0281\n",
      "Training Accuracy: 0.9663, Testing Accuracy: 0.9693\n",
      "\n"
     ]
    },
    {
     "name": "stdout",
     "output_type": "stream",
     "text": [
      "Epoch 140, Loss 0.0272\n",
      "Training Accuracy: 0.9680, Testing Accuracy: 0.9682\n",
      "\n"
     ]
    },
    {
     "name": "stdout",
     "output_type": "stream",
     "text": [
      "Epoch 150, Loss 0.0264\n",
      "Training Accuracy: 0.9695, Testing Accuracy: 0.9677\n",
      "\n"
     ]
    },
    {
     "name": "stdout",
     "output_type": "stream",
     "text": [
      "Epoch 160, Loss 0.0257\n",
      "Training Accuracy: 0.9703, Testing Accuracy: 0.9693\n",
      "\n"
     ]
    },
    {
     "name": "stdout",
     "output_type": "stream",
     "text": [
      "Epoch 170, Loss 0.025\n",
      "Training Accuracy: 0.9712, Testing Accuracy: 0.9708\n",
      "\n"
     ]
    },
    {
     "name": "stdout",
     "output_type": "stream",
     "text": [
      "Epoch 180, Loss 0.0244\n",
      "Training Accuracy: 0.9724, Testing Accuracy: 0.9713\n",
      "\n"
     ]
    },
    {
     "name": "stdout",
     "output_type": "stream",
     "text": [
      "Epoch 190, Loss 0.0238\n",
      "Training Accuracy: 0.9735, Testing Accuracy: 0.9708\n",
      "\n"
     ]
    },
    {
     "name": "stdout",
     "output_type": "stream",
     "text": [
      "Epoch 200, Loss 0.0233\n",
      "Training Accuracy: 0.9740, Testing Accuracy: 0.9708\n",
      "\n"
     ]
    },
    {
     "name": "stdout",
     "output_type": "stream",
     "text": [
      "Epoch 210, Loss 0.0227\n",
      "Training Accuracy: 0.9745, Testing Accuracy: 0.9708\n",
      "\n"
     ]
    },
    {
     "name": "stdout",
     "output_type": "stream",
     "text": [
      "Epoch 220, Loss 0.0222\n",
      "Training Accuracy: 0.9751, Testing Accuracy: 0.9713\n",
      "\n"
     ]
    },
    {
     "name": "stdout",
     "output_type": "stream",
     "text": [
      "Epoch 230, Loss 0.0218\n",
      "Training Accuracy: 0.9757, Testing Accuracy: 0.9713\n",
      "\n"
     ]
    },
    {
     "name": "stdout",
     "output_type": "stream",
     "text": [
      "Epoch 240, Loss 0.0213\n",
      "Training Accuracy: 0.9761, Testing Accuracy: 0.9728\n",
      "\n"
     ]
    },
    {
     "data": {
      "text/plain": [
       "0.042642969542291145"
      ]
     },
     "execution_count": 22,
     "metadata": {},
     "output_type": "execute_result"
    }
   ],
   "source": [
    "nn_learner.train_loop(dl)"
   ]
  },
  {
   "cell_type": "code",
   "execution_count": 23,
   "id": "e0163366",
   "metadata": {
    "execution": {
     "iopub.execute_input": "2022-03-04T00:35:34.706466Z",
     "iopub.status.busy": "2022-03-04T00:35:34.705834Z",
     "iopub.status.idle": "2022-03-04T00:35:49.932139Z",
     "shell.execute_reply": "2022-03-04T00:35:49.932991Z"
    },
    "papermill": {
     "duration": 15.278175,
     "end_time": "2022-03-04T00:35:49.933153",
     "exception": false,
     "start_time": "2022-03-04T00:35:34.654978",
     "status": "completed"
    },
    "tags": []
   },
   "outputs": [
    {
     "name": "stdout",
     "output_type": "stream",
     "text": [
      "Epoch 0, Loss 0.2709\n",
      "Training Accuracy: 0.5807, Testing Accuracy: 0.5675\n",
      "\n"
     ]
    },
    {
     "name": "stdout",
     "output_type": "stream",
     "text": [
      "Epoch 10, Loss 0.1099\n",
      "Training Accuracy: 0.8942, Testing Accuracy: 0.9057\n",
      "\n"
     ]
    },
    {
     "name": "stdout",
     "output_type": "stream",
     "text": [
      "Epoch 20, Loss 0.0826\n",
      "Training Accuracy: 0.9223, Testing Accuracy: 0.9370\n",
      "\n"
     ]
    },
    {
     "name": "stdout",
     "output_type": "stream",
     "text": [
      "Epoch 30, Loss 0.0704\n",
      "Training Accuracy: 0.9330, Testing Accuracy: 0.9471\n",
      "\n"
     ]
    },
    {
     "name": "stdout",
     "output_type": "stream",
     "text": [
      "Epoch 40, Loss 0.0632\n",
      "Training Accuracy: 0.9386, Testing Accuracy: 0.9516\n",
      "\n"
     ]
    },
    {
     "name": "stdout",
     "output_type": "stream",
     "text": [
      "Epoch 50, Loss 0.0584\n",
      "Training Accuracy: 0.9430, Testing Accuracy: 0.9526\n",
      "\n"
     ]
    },
    {
     "name": "stdout",
     "output_type": "stream",
     "text": [
      "Epoch 60, Loss 0.0548\n",
      "Training Accuracy: 0.9453, Testing Accuracy: 0.9546\n",
      "\n"
     ]
    },
    {
     "name": "stdout",
     "output_type": "stream",
     "text": [
      "Epoch 70, Loss 0.0521\n",
      "Training Accuracy: 0.9475, Testing Accuracy: 0.9582\n",
      "\n"
     ]
    },
    {
     "name": "stdout",
     "output_type": "stream",
     "text": [
      "Epoch 80, Loss 0.05\n",
      "Training Accuracy: 0.9497, Testing Accuracy: 0.9597\n",
      "\n"
     ]
    },
    {
     "name": "stdout",
     "output_type": "stream",
     "text": [
      "Epoch 90, Loss 0.0482\n",
      "Training Accuracy: 0.9503, Testing Accuracy: 0.9607\n",
      "\n"
     ]
    },
    {
     "name": "stdout",
     "output_type": "stream",
     "text": [
      "Epoch 100, Loss 0.0467\n",
      "Training Accuracy: 0.9520, Testing Accuracy: 0.9617\n",
      "\n"
     ]
    },
    {
     "name": "stdout",
     "output_type": "stream",
     "text": [
      "Epoch 110, Loss 0.0454\n",
      "Training Accuracy: 0.9539, Testing Accuracy: 0.9617\n",
      "\n"
     ]
    },
    {
     "name": "stdout",
     "output_type": "stream",
     "text": [
      "Epoch 120, Loss 0.0443\n",
      "Training Accuracy: 0.9546, Testing Accuracy: 0.9617\n",
      "\n"
     ]
    },
    {
     "name": "stdout",
     "output_type": "stream",
     "text": [
      "Epoch 130, Loss 0.0433\n",
      "Training Accuracy: 0.9553, Testing Accuracy: 0.9622\n",
      "\n"
     ]
    },
    {
     "name": "stdout",
     "output_type": "stream",
     "text": [
      "Epoch 140, Loss 0.0425\n",
      "Training Accuracy: 0.9563, Testing Accuracy: 0.9622\n",
      "\n"
     ]
    },
    {
     "name": "stdout",
     "output_type": "stream",
     "text": [
      "Epoch 150, Loss 0.0417\n",
      "Training Accuracy: 0.9570, Testing Accuracy: 0.9642\n",
      "\n"
     ]
    },
    {
     "name": "stdout",
     "output_type": "stream",
     "text": [
      "Epoch 160, Loss 0.041\n",
      "Training Accuracy: 0.9575, Testing Accuracy: 0.9642\n",
      "\n"
     ]
    },
    {
     "name": "stdout",
     "output_type": "stream",
     "text": [
      "Epoch 170, Loss 0.0404\n",
      "Training Accuracy: 0.9581, Testing Accuracy: 0.9642\n",
      "\n"
     ]
    },
    {
     "name": "stdout",
     "output_type": "stream",
     "text": [
      "Epoch 180, Loss 0.0398\n",
      "Training Accuracy: 0.9586, Testing Accuracy: 0.9652\n",
      "\n"
     ]
    },
    {
     "name": "stdout",
     "output_type": "stream",
     "text": [
      "Epoch 190, Loss 0.0393\n",
      "Training Accuracy: 0.9589, Testing Accuracy: 0.9657\n",
      "\n"
     ]
    },
    {
     "name": "stdout",
     "output_type": "stream",
     "text": [
      "Epoch 200, Loss 0.0388\n",
      "Training Accuracy: 0.9594, Testing Accuracy: 0.9657\n",
      "\n"
     ]
    },
    {
     "name": "stdout",
     "output_type": "stream",
     "text": [
      "Epoch 210, Loss 0.0383\n",
      "Training Accuracy: 0.9597, Testing Accuracy: 0.9662\n",
      "\n"
     ]
    },
    {
     "name": "stdout",
     "output_type": "stream",
     "text": [
      "Epoch 220, Loss 0.0379\n",
      "Training Accuracy: 0.9599, Testing Accuracy: 0.9667\n",
      "\n"
     ]
    },
    {
     "name": "stdout",
     "output_type": "stream",
     "text": [
      "Epoch 230, Loss 0.0375\n",
      "Training Accuracy: 0.9601, Testing Accuracy: 0.9662\n",
      "\n"
     ]
    },
    {
     "name": "stdout",
     "output_type": "stream",
     "text": [
      "Epoch 240, Loss 0.0371\n",
      "Training Accuracy: 0.9604, Testing Accuracy: 0.9667\n",
      "\n"
     ]
    },
    {
     "data": {
      "text/plain": [
       "0.04326418052618194"
      ]
     },
     "execution_count": 23,
     "metadata": {},
     "output_type": "execute_result"
    }
   ],
   "source": [
    "lr_learner.train_loop(dl)"
   ]
  },
  {
   "cell_type": "code",
   "execution_count": 24,
   "id": "ca410940",
   "metadata": {
    "execution": {
     "iopub.execute_input": "2022-03-04T00:35:50.032311Z",
     "iopub.status.busy": "2022-03-04T00:35:50.031701Z",
     "iopub.status.idle": "2022-03-04T00:35:50.284205Z",
     "shell.execute_reply": "2022-03-04T00:35:50.283739Z"
    },
    "papermill": {
     "duration": 0.306119,
     "end_time": "2022-03-04T00:35:50.284351",
     "exception": false,
     "start_time": "2022-03-04T00:35:49.978232",
     "status": "completed"
    },
    "tags": []
   },
   "outputs": [
    {
     "data": {
      "text/plain": [
       "<matplotlib.legend.Legend at 0x7f33ca29ccc0>"
      ]
     },
     "execution_count": 24,
     "metadata": {},
     "output_type": "execute_result"
    },
    {
     "data": {
      "image/png": "[encoded data removed]",
      "text/plain": [
       "<Figure size 1080x720 with 1 Axes>"
      ]
     },
     "metadata": {
      "needs_background": "light"
     },
     "output_type": "display_data"
    }
   ],
   "source": [
    "#comparing the results of NN and LR\n",
    "plt.figure(figsize=(15,10))\n",
    "\n",
    "# Neural Network plots\n",
    "plt.plot(acc_nn.accuracies, 'r-', label = \"Training Accuracies - NN\")\n",
    "plt.plot(acc_nn.test_accuracies, 'g-', label = \"Testing Accuracies - NN\")\n",
    "\n",
    "# Logistic Regression plots\n",
    "plt.plot(acc_lr.accuracies, 'k-', label = \"Training Accuracies - LR\")\n",
    "plt.plot(acc_lr.test_accuracies, 'b-', label = \"Testing Accuracies - LR\")\n",
    "plt.legend()"
   ]
  },
  {
   "cell_type": "markdown",
   "id": "80dfb35c",
   "metadata": {
    "papermill": {
     "duration": 0.04552,
     "end_time": "2022-03-04T00:35:50.380124",
     "exception": false,
     "start_time": "2022-03-04T00:35:50.334604",
     "status": "completed"
    },
    "tags": []
   },
   "source": [
    "#### Plotting the outputs of this layer of the NN.\n"
   ]
  },
  {
   "cell_type": "code",
   "execution_count": 25,
   "id": "45eb2ff5",
   "metadata": {
    "execution": {
     "iopub.execute_input": "2022-03-04T00:35:50.476239Z",
     "iopub.status.busy": "2022-03-04T00:35:50.475675Z",
     "iopub.status.idle": "2022-03-04T00:35:50.497485Z",
     "shell.execute_reply": "2022-03-04T00:35:50.498022Z"
    },
    "papermill": {
     "duration": 0.07305,
     "end_time": "2022-03-04T00:35:50.498161",
     "exception": false,
     "start_time": "2022-03-04T00:35:50.425111",
     "status": "completed"
    },
    "tags": []
   },
   "outputs": [],
   "source": [
    "new_model = Model(layers[:-2])\n",
    "testing_plot = new_model(testing_data_x)"
   ]
  },
  {
   "cell_type": "code",
   "execution_count": 26,
   "id": "4c0a5485",
   "metadata": {
    "execution": {
     "iopub.execute_input": "2022-03-04T00:35:50.596241Z",
     "iopub.status.busy": "2022-03-04T00:35:50.595657Z",
     "iopub.status.idle": "2022-03-04T00:35:50.808391Z",
     "shell.execute_reply": "2022-03-04T00:35:50.808844Z"
    },
    "papermill": {
     "duration": 0.265606,
     "end_time": "2022-03-04T00:35:50.808990",
     "exception": false,
     "start_time": "2022-03-04T00:35:50.543384",
     "status": "completed"
    },
    "tags": []
   },
   "outputs": [
    {
     "data": {
      "text/plain": [
       "Text(0.5, 1.0, 'Outputs')"
      ]
     },
     "execution_count": 26,
     "metadata": {},
     "output_type": "execute_result"
    },
    {
     "data": {
      "image/png": "[encoded data removed]",
      "text/plain": [
       "<Figure size 576x504 with 1 Axes>"
      ]
     },
     "metadata": {
      "needs_background": "light"
     },
     "output_type": "display_data"
    }
   ],
   "source": [
    "# Plotting the scatter plot of points and color coding by class\n",
    "plt.figure(figsize=(8,7))\n",
    "plt.scatter(testing_plot[:,0], testing_plot[:,1], alpha = 0.1, c = y_test.ravel());\n",
    "plt.title('Outputs')"
   ]
  },
  {
   "cell_type": "markdown",
   "id": "a74fcf8f",
   "metadata": {
    "papermill": {
     "duration": 0.047392,
     "end_time": "2022-03-04T00:35:50.903995",
     "exception": false,
     "start_time": "2022-03-04T00:35:50.856603",
     "status": "completed"
    },
    "tags": []
   },
   "source": [
    "Probability contours"
   ]
  },
  {
   "cell_type": "code",
   "execution_count": 27,
   "id": "d0afc8e3",
   "metadata": {
    "execution": {
     "iopub.execute_input": "2022-03-04T00:35:51.036460Z",
     "iopub.status.busy": "2022-03-04T00:35:51.035895Z",
     "iopub.status.idle": "2022-03-04T00:35:51.048399Z",
     "shell.execute_reply": "2022-03-04T00:35:51.048884Z"
    },
    "papermill": {
     "duration": 0.097769,
     "end_time": "2022-03-04T00:35:51.049021",
     "exception": false,
     "start_time": "2022-03-04T00:35:50.951252",
     "status": "completed"
    },
    "tags": []
   },
   "outputs": [],
   "source": [
    "model_prob = Model(layers[-2:]) "
   ]
  },
  {
   "cell_type": "code",
   "execution_count": 28,
   "id": "9b96e238",
   "metadata": {
    "execution": {
     "iopub.execute_input": "2022-03-04T00:35:51.148760Z",
     "iopub.status.busy": "2022-03-04T00:35:51.147509Z",
     "iopub.status.idle": "2022-03-04T00:35:51.163126Z",
     "shell.execute_reply": "2022-03-04T00:35:51.163545Z"
    },
    "papermill": {
     "duration": 0.067126,
     "end_time": "2022-03-04T00:35:51.163680",
     "exception": false,
     "start_time": "2022-03-04T00:35:51.096554",
     "status": "completed"
    },
    "tags": []
   },
   "outputs": [],
   "source": [
    "#creating the x and y ranges according to the above generated plot.\n",
    "x_range = np.linspace(-4, 1, 100) \n",
    "y_range = np.linspace(-6, 6, 100) \n",
    "x_grid, y_grid = np.meshgrid(x_range, y_range) # x_grid and y_grig are of size 100 X 100\n",
    "\n",
    "# converting x_grid and y_grid to continuous arrays\n",
    "x_gridflat = np.ravel(x_grid)\n",
    "y_gridflat = np.ravel(y_grid)\n",
    "\n",
    "# The last layer of the current model takes two columns as input. Hence transpose of np.vstack() is required.\n",
    "X = np.vstack((x_gridflat, y_gridflat)).T\n",
    "\n",
    "prob_contour = model_prob(X).reshape(100,100) "
   ]
  },
  {
   "cell_type": "code",
   "execution_count": 29,
   "id": "da72499a",
   "metadata": {
    "execution": {
     "iopub.execute_input": "2022-03-04T00:35:51.272887Z",
     "iopub.status.busy": "2022-03-04T00:35:51.272212Z",
     "iopub.status.idle": "2022-03-04T00:35:51.566142Z",
     "shell.execute_reply": "2022-03-04T00:35:51.566723Z"
    },
    "papermill": {
     "duration": 0.35373,
     "end_time": "2022-03-04T00:35:51.566889",
     "exception": false,
     "start_time": "2022-03-04T00:35:51.213159",
     "status": "completed"
    },
    "tags": []
   },
   "outputs": [
    {
     "data": {
      "image/png": "[encoded data removed]",
      "text/plain": [
       "<Figure size 720x648 with 1 Axes>"
      ]
     },
     "metadata": {
      "needs_background": "light"
     },
     "output_type": "display_data"
    }
   ],
   "source": [
    "plt.figure(figsize=(10,9))\n",
    "plt.scatter(testing_plot[:,0], testing_plot[:,1], alpha = 0.1, c = y_test.ravel())\n",
    "contours = plt.contour(x_grid,y_grid,prob_contour)\n",
    "plt.title('Probability Contours')\n",
    "plt.clabel(contours, inline = True );"
   ]
  },
  {
   "cell_type": "code",
   "execution_count": null,
   "id": "e81b4ac7",
   "metadata": {
    "papermill": {
     "duration": 0.053114,
     "end_time": "2022-03-04T00:35:51.672396",
     "exception": false,
     "start_time": "2022-03-04T00:35:51.619282",
     "status": "completed"
    },
    "tags": []
   },
   "outputs": [],
   "source": []
  }
 ],
 "metadata": {
  "kernelspec": {
   "display_name": "Python 3",
   "language": "python",
   "name": "python3"
  },
  "language_info": {
   "codemirror_mode": {
    "name": "ipython",
    "version": 3
   },
   "file_extension": ".py",
   "mimetype": "text/x-python",
   "name": "python",
   "nbconvert_exporter": "python",
   "pygments_lexer": "ipython3",
   "version": "3.6.15"
  },
  "papermill": {
   "default_parameters": {},
   "duration": 111.597723,
   "end_time": "2022-03-04T00:35:52.148708",
   "environment_variables": {},
   "exception": null,
   "input_path": "2020-08-11-part2.ipynb",
   "output_path": "2020-08-11-part2.ipynb",
   "parameters": {},
   "start_time": "2022-03-04T00:34:00.550985",
   "version": "2.3.3"
  }
 },
 "nbformat": 4,
 "nbformat_minor": 5
}