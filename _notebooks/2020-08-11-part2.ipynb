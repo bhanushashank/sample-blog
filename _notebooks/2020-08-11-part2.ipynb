{
 "cells": [
  {
   "cell_type": "markdown",
   "id": "98380cd3",
   "metadata": {
    "papermill": {
     "duration": 0.029571,
     "end_time": "2021-12-18T10:07:54.808664",
     "exception": false,
     "start_time": "2021-12-18T10:07:54.779093",
     "status": "completed"
    },
    "tags": []
   },
   "source": [
    "# Distinguish Your Own Digits (DYOD)"
   ]
  },
  {
   "cell_type": "markdown",
   "id": "ef31240d",
   "metadata": {
    "papermill": {
     "duration": 0.023951,
     "end_time": "2021-12-18T10:07:54.859802",
     "exception": false,
     "start_time": "2021-12-18T10:07:54.835851",
     "status": "completed"
    },
    "tags": []
   },
   "source": [
    "You are going to write a classifier that distinguishes between the number 3 and number 8."
   ]
  },
  {
   "cell_type": "code",
   "execution_count": 1,
   "id": "b15c8646",
   "metadata": {
    "execution": {
     "iopub.execute_input": "2021-12-18T10:07:54.923731Z",
     "iopub.status.busy": "2021-12-18T10:07:54.923136Z",
     "iopub.status.idle": "2021-12-18T10:07:54.936098Z",
     "shell.execute_reply": "2021-12-18T10:07:54.936630Z"
    },
    "papermill": {
     "duration": 0.051463,
     "end_time": "2021-12-18T10:07:54.936817",
     "exception": false,
     "start_time": "2021-12-18T10:07:54.885354",
     "status": "completed"
    },
    "tags": []
   },
   "outputs": [],
   "source": [
    "%load_ext autoreload\n",
    "%autoreload 2"
   ]
  },
  {
   "cell_type": "code",
   "execution_count": 2,
   "id": "22ef38dc",
   "metadata": {
    "execution": {
     "iopub.execute_input": "2021-12-18T10:07:54.994278Z",
     "iopub.status.busy": "2021-12-18T10:07:54.993668Z",
     "iopub.status.idle": "2021-12-18T10:07:55.670469Z",
     "shell.execute_reply": "2021-12-18T10:07:55.669560Z"
    },
    "papermill": {
     "duration": 0.707949,
     "end_time": "2021-12-18T10:07:55.670695",
     "exception": false,
     "start_time": "2021-12-18T10:07:54.962746",
     "status": "completed"
    },
    "tags": []
   },
   "outputs": [],
   "source": [
    "%matplotlib inline\n",
    "import numpy as np\n",
    "import matplotlib.pyplot as plt\n",
    "import pandas as pd"
   ]
  },
  {
   "cell_type": "markdown",
   "id": "ba036198",
   "metadata": {
    "papermill": {
     "duration": 0.02716,
     "end_time": "2021-12-18T10:07:55.724914",
     "exception": false,
     "start_time": "2021-12-18T10:07:55.697754",
     "status": "completed"
    },
    "tags": []
   },
   "source": [
    "From the command line run `pip install mnist`. This is a library that will help you bring down the mnist dataset. If you run this from a notebook, you need to put  `!pip install mnist` in a cell by itself."
   ]
  },
  {
   "cell_type": "code",
   "execution_count": 3,
   "id": "bb6ad8a1",
   "metadata": {
    "execution": {
     "iopub.execute_input": "2021-12-18T10:07:55.783796Z",
     "iopub.status.busy": "2021-12-18T10:07:55.782641Z",
     "iopub.status.idle": "2021-12-18T10:07:57.711719Z",
     "shell.execute_reply": "2021-12-18T10:07:57.712247Z"
    },
    "papermill": {
     "duration": 1.961624,
     "end_time": "2021-12-18T10:07:57.712407",
     "exception": false,
     "start_time": "2021-12-18T10:07:55.750783",
     "status": "completed"
    },
    "tags": []
   },
   "outputs": [
    {
     "name": "stdout",
     "output_type": "stream",
     "text": [
      "Collecting mnist\r\n"
     ]
    },
    {
     "name": "stdout",
     "output_type": "stream",
     "text": [
      "  Downloading mnist-0.2.2-py2.py3-none-any.whl (3.5 kB)\r\n",
      "Requirement already satisfied: numpy in /opt/hostedtoolcache/Python/3.6.15/x64/lib/python3.6/site-packages (from mnist) (1.19.5)\r\n"
     ]
    },
    {
     "name": "stdout",
     "output_type": "stream",
     "text": [
      "Installing collected packages: mnist\r\n",
      "Successfully installed mnist-0.2.2\r\n"
     ]
    }
   ],
   "source": [
    "!pip install mnist"
   ]
  },
  {
   "cell_type": "markdown",
   "id": "69df9c9a",
   "metadata": {
    "papermill": {
     "duration": 0.027434,
     "end_time": "2021-12-18T10:07:57.766026",
     "exception": false,
     "start_time": "2021-12-18T10:07:57.738592",
     "status": "completed"
    },
    "tags": []
   },
   "source": [
    "## Preparing the Data"
   ]
  },
  {
   "cell_type": "code",
   "execution_count": 4,
   "id": "7f69d806",
   "metadata": {
    "execution": {
     "iopub.execute_input": "2021-12-18T10:07:57.825828Z",
     "iopub.status.busy": "2021-12-18T10:07:57.825199Z",
     "iopub.status.idle": "2021-12-18T10:07:57.841491Z",
     "shell.execute_reply": "2021-12-18T10:07:57.840993Z"
    },
    "papermill": {
     "duration": 0.048117,
     "end_time": "2021-12-18T10:07:57.841621",
     "exception": false,
     "start_time": "2021-12-18T10:07:57.793504",
     "status": "completed"
    },
    "tags": []
   },
   "outputs": [],
   "source": [
    "import mnist"
   ]
  },
  {
   "cell_type": "code",
   "execution_count": 5,
   "id": "a411e44f",
   "metadata": {
    "execution": {
     "iopub.execute_input": "2021-12-18T10:07:57.895447Z",
     "iopub.status.busy": "2021-12-18T10:07:57.894851Z",
     "iopub.status.idle": "2021-12-18T10:07:58.417784Z",
     "shell.execute_reply": "2021-12-18T10:07:58.416888Z"
    },
    "papermill": {
     "duration": 0.549967,
     "end_time": "2021-12-18T10:07:58.418008",
     "exception": false,
     "start_time": "2021-12-18T10:07:57.868041",
     "status": "completed"
    },
    "tags": []
   },
   "outputs": [],
   "source": [
    "train_images = mnist.train_images()\n",
    "train_labels = mnist.train_labels()"
   ]
  },
  {
   "cell_type": "code",
   "execution_count": 6,
   "id": "dceab3a5",
   "metadata": {
    "execution": {
     "iopub.execute_input": "2021-12-18T10:07:58.472108Z",
     "iopub.status.busy": "2021-12-18T10:07:58.471539Z",
     "iopub.status.idle": "2021-12-18T10:07:58.491091Z",
     "shell.execute_reply": "2021-12-18T10:07:58.490586Z"
    },
    "papermill": {
     "duration": 0.047661,
     "end_time": "2021-12-18T10:07:58.491228",
     "exception": false,
     "start_time": "2021-12-18T10:07:58.443567",
     "status": "completed"
    },
    "tags": []
   },
   "outputs": [
    {
     "data": {
      "text/plain": [
       "((60000, 28, 28), (60000,))"
      ]
     },
     "execution_count": 6,
     "metadata": {},
     "output_type": "execute_result"
    }
   ],
   "source": [
    "train_images.shape, train_labels.shape"
   ]
  },
  {
   "cell_type": "code",
   "execution_count": 7,
   "id": "f50dc2bb",
   "metadata": {
    "execution": {
     "iopub.execute_input": "2021-12-18T10:07:58.548242Z",
     "iopub.status.busy": "2021-12-18T10:07:58.547652Z",
     "iopub.status.idle": "2021-12-18T10:07:58.698014Z",
     "shell.execute_reply": "2021-12-18T10:07:58.697301Z"
    },
    "papermill": {
     "duration": 0.180497,
     "end_time": "2021-12-18T10:07:58.698159",
     "exception": false,
     "start_time": "2021-12-18T10:07:58.517662",
     "status": "completed"
    },
    "tags": []
   },
   "outputs": [],
   "source": [
    "test_images = mnist.test_images()\n",
    "test_labels = mnist.test_labels()"
   ]
  },
  {
   "cell_type": "code",
   "execution_count": 8,
   "id": "fc38cf1b",
   "metadata": {
    "execution": {
     "iopub.execute_input": "2021-12-18T10:07:58.756036Z",
     "iopub.status.busy": "2021-12-18T10:07:58.755474Z",
     "iopub.status.idle": "2021-12-18T10:07:58.768897Z",
     "shell.execute_reply": "2021-12-18T10:07:58.769390Z"
    },
    "papermill": {
     "duration": 0.044626,
     "end_time": "2021-12-18T10:07:58.769524",
     "exception": false,
     "start_time": "2021-12-18T10:07:58.724898",
     "status": "completed"
    },
    "tags": []
   },
   "outputs": [
    {
     "data": {
      "text/plain": [
       "((10000, 28, 28), (10000,))"
      ]
     },
     "execution_count": 8,
     "metadata": {},
     "output_type": "execute_result"
    }
   ],
   "source": [
    "test_images.shape, test_labels.shape"
   ]
  },
  {
   "cell_type": "code",
   "execution_count": 9,
   "id": "f9ed8fe0",
   "metadata": {
    "execution": {
     "iopub.execute_input": "2021-12-18T10:07:58.821471Z",
     "iopub.status.busy": "2021-12-18T10:07:58.820849Z",
     "iopub.status.idle": "2021-12-18T10:07:58.967573Z",
     "shell.execute_reply": "2021-12-18T10:07:58.968003Z"
    },
    "papermill": {
     "duration": 0.175133,
     "end_time": "2021-12-18T10:07:58.968154",
     "exception": false,
     "start_time": "2021-12-18T10:07:58.793021",
     "status": "completed"
    },
    "tags": []
   },
   "outputs": [
    {
     "name": "stdout",
     "output_type": "stream",
     "text": [
      "2\n"
     ]
    },
    {
     "data": {
      "text/plain": [
       "<matplotlib.image.AxesImage at 0x7f8a516d8a90>"
      ]
     },
     "execution_count": 9,
     "metadata": {},
     "output_type": "execute_result"
    },
    {
     "data": {
      "image/png": "[encoded data removed]",
      "text/plain": [
       "<Figure size 432x288 with 1 Axes>"
      ]
     },
     "metadata": {
      "needs_background": "light"
     },
     "output_type": "display_data"
    }
   ],
   "source": [
    "image_index = 7776 # You may select anything up to 60,000\n",
    "print(train_labels[image_index]) \n",
    "plt.imshow(train_images[image_index], cmap='Greys')"
   ]
  },
  {
   "cell_type": "markdown",
   "id": "a8d2388d",
   "metadata": {
    "papermill": {
     "duration": 0.026854,
     "end_time": "2021-12-18T10:07:59.021671",
     "exception": false,
     "start_time": "2021-12-18T10:07:58.994817",
     "status": "completed"
    },
    "tags": []
   },
   "source": [
    "## Filter data to get 3 and 8 out"
   ]
  },
  {
   "cell_type": "code",
   "execution_count": 10,
   "id": "776f7fc7",
   "metadata": {
    "execution": {
     "iopub.execute_input": "2021-12-18T10:07:59.080992Z",
     "iopub.status.busy": "2021-12-18T10:07:59.080351Z",
     "iopub.status.idle": "2021-12-18T10:07:59.099029Z",
     "shell.execute_reply": "2021-12-18T10:07:59.098616Z"
    },
    "papermill": {
     "duration": 0.05078,
     "end_time": "2021-12-18T10:07:59.099164",
     "exception": false,
     "start_time": "2021-12-18T10:07:59.048384",
     "status": "completed"
    },
    "tags": []
   },
   "outputs": [],
   "source": [
    "train_filter = np.where((train_labels == 3 ) | (train_labels == 8))\n",
    "test_filter = np.where((test_labels == 3) | (test_labels == 8))\n",
    "X_train, y_train = train_images[train_filter], train_labels[train_filter]\n",
    "X_test, y_test = test_images[test_filter], test_labels[test_filter]"
   ]
  },
  {
   "cell_type": "markdown",
   "id": "948f0b7e",
   "metadata": {
    "papermill": {
     "duration": 0.02743,
     "end_time": "2021-12-18T10:07:59.153670",
     "exception": false,
     "start_time": "2021-12-18T10:07:59.126240",
     "status": "completed"
    },
    "tags": []
   },
   "source": [
    "We normalize the pizel values in the 0 to 1 range"
   ]
  },
  {
   "cell_type": "code",
   "execution_count": 11,
   "id": "ee4c2166",
   "metadata": {
    "execution": {
     "iopub.execute_input": "2021-12-18T10:07:59.214778Z",
     "iopub.status.busy": "2021-12-18T10:07:59.214215Z",
     "iopub.status.idle": "2021-12-18T10:07:59.271068Z",
     "shell.execute_reply": "2021-12-18T10:07:59.271820Z"
    },
    "papermill": {
     "duration": 0.089581,
     "end_time": "2021-12-18T10:07:59.271975",
     "exception": false,
     "start_time": "2021-12-18T10:07:59.182394",
     "status": "completed"
    },
    "tags": []
   },
   "outputs": [],
   "source": [
    "X_train = X_train/255.\n",
    "X_test = X_test/255."
   ]
  },
  {
   "cell_type": "markdown",
   "id": "ddcf4fab",
   "metadata": {
    "papermill": {
     "duration": 0.028994,
     "end_time": "2021-12-18T10:07:59.329934",
     "exception": false,
     "start_time": "2021-12-18T10:07:59.300940",
     "status": "completed"
    },
    "tags": []
   },
   "source": [
    "And setup the labels as 1 (when the digit is 3) and 0 (when the digit is 8)"
   ]
  },
  {
   "cell_type": "code",
   "execution_count": 12,
   "id": "7dc908f2",
   "metadata": {
    "execution": {
     "iopub.execute_input": "2021-12-18T10:07:59.391906Z",
     "iopub.status.busy": "2021-12-18T10:07:59.391263Z",
     "iopub.status.idle": "2021-12-18T10:07:59.404888Z",
     "shell.execute_reply": "2021-12-18T10:07:59.405342Z"
    },
    "papermill": {
     "duration": 0.046431,
     "end_time": "2021-12-18T10:07:59.405479",
     "exception": false,
     "start_time": "2021-12-18T10:07:59.359048",
     "status": "completed"
    },
    "tags": []
   },
   "outputs": [],
   "source": [
    "y_train = 1*(y_train==3)\n",
    "y_test = 1*(y_test==3)"
   ]
  },
  {
   "cell_type": "code",
   "execution_count": 13,
   "id": "01e4e969",
   "metadata": {
    "execution": {
     "iopub.execute_input": "2021-12-18T10:07:59.474900Z",
     "iopub.status.busy": "2021-12-18T10:07:59.474264Z",
     "iopub.status.idle": "2021-12-18T10:07:59.488995Z",
     "shell.execute_reply": "2021-12-18T10:07:59.489833Z"
    },
    "papermill": {
     "duration": 0.055179,
     "end_time": "2021-12-18T10:07:59.490075",
     "exception": false,
     "start_time": "2021-12-18T10:07:59.434896",
     "status": "completed"
    },
    "tags": []
   },
   "outputs": [
    {
     "data": {
      "text/plain": [
       "((11982, 28, 28), (1984, 28, 28))"
      ]
     },
     "execution_count": 13,
     "metadata": {},
     "output_type": "execute_result"
    }
   ],
   "source": [
    "X_train.shape, X_test.shape"
   ]
  },
  {
   "cell_type": "markdown",
   "id": "5ccf3f85",
   "metadata": {
    "papermill": {
     "duration": 0.028808,
     "end_time": "2021-12-18T10:07:59.550542",
     "exception": false,
     "start_time": "2021-12-18T10:07:59.521734",
     "status": "completed"
    },
    "tags": []
   },
   "source": [
    "We reshape the data to flatten the image pixels into a set of features or co-variates:"
   ]
  },
  {
   "cell_type": "code",
   "execution_count": 14,
   "id": "5286a4a3",
   "metadata": {
    "execution": {
     "iopub.execute_input": "2021-12-18T10:07:59.613180Z",
     "iopub.status.busy": "2021-12-18T10:07:59.612610Z",
     "iopub.status.idle": "2021-12-18T10:07:59.628661Z",
     "shell.execute_reply": "2021-12-18T10:07:59.629090Z"
    },
    "papermill": {
     "duration": 0.050218,
     "end_time": "2021-12-18T10:07:59.629232",
     "exception": false,
     "start_time": "2021-12-18T10:07:59.579014",
     "status": "completed"
    },
    "tags": []
   },
   "outputs": [
    {
     "data": {
      "text/plain": [
       "((11982, 784), (1984, 784))"
      ]
     },
     "execution_count": 14,
     "metadata": {},
     "output_type": "execute_result"
    }
   ],
   "source": [
    "X_train = X_train.reshape(X_train.shape[0], -1)\n",
    "X_test = X_test.reshape(X_test.shape[0], -1)\n",
    "X_train.shape, X_test.shape"
   ]
  },
  {
   "cell_type": "code",
   "execution_count": 15,
   "id": "73c5f88a",
   "metadata": {
    "execution": {
     "iopub.execute_input": "2021-12-18T10:07:59.698530Z",
     "iopub.status.busy": "2021-12-18T10:07:59.697983Z",
     "iopub.status.idle": "2021-12-18T10:07:59.717433Z",
     "shell.execute_reply": "2021-12-18T10:07:59.717855Z"
    },
    "papermill": {
     "duration": 0.060076,
     "end_time": "2021-12-18T10:07:59.717998",
     "exception": false,
     "start_time": "2021-12-18T10:07:59.657922",
     "status": "completed"
    },
    "tags": []
   },
   "outputs": [],
   "source": [
    "#Impoting functions from 'Kudzu'\n",
    "from kudzu.model import Model\n",
    "from kudzu.train import Learner\n",
    "from kudzu.optim import GD\n",
    "from kudzu.data import Data, Sampler,Dataloader\n",
    "\n",
    "from kudzu.callbacks import AccCallback\n",
    "from kudzu.callbacks import ClfCallback\n",
    "\n",
    "from kudzu.loss import MSE\n",
    "\n",
    "from kudzu.layer import Sigmoid,Relu\n",
    "from kudzu.layer import Affine"
   ]
  },
  {
   "cell_type": "markdown",
   "id": "bc01172a",
   "metadata": {
    "papermill": {
     "duration": 0.02852,
     "end_time": "2021-12-18T10:07:59.775463",
     "exception": false,
     "start_time": "2021-12-18T10:07:59.746943",
     "status": "completed"
    },
    "tags": []
   },
   "source": [
    "### Let us create a `Config` class, to store important parameters. \n",
    "This class essentially plays the role of a dictionary."
   ]
  },
  {
   "cell_type": "code",
   "execution_count": 16,
   "id": "978281aa",
   "metadata": {
    "execution": {
     "iopub.execute_input": "2021-12-18T10:07:59.837692Z",
     "iopub.status.busy": "2021-12-18T10:07:59.837114Z",
     "iopub.status.idle": "2021-12-18T10:07:59.849366Z",
     "shell.execute_reply": "2021-12-18T10:07:59.848762Z"
    },
    "papermill": {
     "duration": 0.045447,
     "end_time": "2021-12-18T10:07:59.849483",
     "exception": false,
     "start_time": "2021-12-18T10:07:59.804036",
     "status": "completed"
    },
    "tags": []
   },
   "outputs": [],
   "source": [
    "class Config:\n",
    "    pass\n",
    "config = Config()\n",
    "config.lr = 0.001\n",
    "config.num_epochs = 250\n",
    "config.bs = 50"
   ]
  },
  {
   "cell_type": "markdown",
   "id": "1385fa59",
   "metadata": {
    "papermill": {
     "duration": 0.028751,
     "end_time": "2021-12-18T10:07:59.905788",
     "exception": false,
     "start_time": "2021-12-18T10:07:59.877037",
     "status": "completed"
    },
    "tags": []
   },
   "source": [
    "### Running Models with the Training data\n",
    "Details about the network layers:\n",
    "- A first affine layer has 784 inputs and does 100 affine transforms. These are followed by a Relu\n",
    "- A second affine layer has 100 inputs from the 100 activations of the past layer, and does 100 affine transforms. These are followed by a Relu\n",
    "- A third affine layer has 100 activations and does 2 affine transformations to create an embedding for visualization. There is no non-linearity here.\n",
    "- A final \"logistic regression\" which has an affine transform from 2 inputs to 1 output, which is squeezed through a sigmoid.\n"
   ]
  },
  {
   "cell_type": "code",
   "execution_count": 17,
   "id": "2b9c66db",
   "metadata": {
    "execution": {
     "iopub.execute_input": "2021-12-18T10:07:59.963882Z",
     "iopub.status.busy": "2021-12-18T10:07:59.963331Z",
     "iopub.status.idle": "2021-12-18T10:07:59.975664Z",
     "shell.execute_reply": "2021-12-18T10:07:59.976141Z"
    },
    "papermill": {
     "duration": 0.045019,
     "end_time": "2021-12-18T10:07:59.976279",
     "exception": false,
     "start_time": "2021-12-18T10:07:59.931260",
     "status": "completed"
    },
    "tags": []
   },
   "outputs": [],
   "source": [
    "data = Data(X_train, y_train.reshape(-1,1))\n",
    "sampler = Sampler(data, config.bs, shuffle=True)\n",
    "\n",
    "dl = Dataloader(data, sampler)\n",
    "\n",
    "opt = GD(config.lr)\n",
    "loss = MSE()"
   ]
  },
  {
   "cell_type": "code",
   "execution_count": 18,
   "id": "b275e4c2",
   "metadata": {
    "execution": {
     "iopub.execute_input": "2021-12-18T10:08:00.037235Z",
     "iopub.status.busy": "2021-12-18T10:08:00.036560Z",
     "iopub.status.idle": "2021-12-18T10:08:00.050128Z",
     "shell.execute_reply": "2021-12-18T10:08:00.049597Z"
    },
    "papermill": {
     "duration": 0.04738,
     "end_time": "2021-12-18T10:08:00.050269",
     "exception": false,
     "start_time": "2021-12-18T10:08:00.002889",
     "status": "completed"
    },
    "tags": []
   },
   "outputs": [],
   "source": [
    "training_data_x = X_train\n",
    "testing_data_x = X_test\n",
    "training_data_y = y_train.reshape(-1,1)\n",
    "testing_data_y = y_test.reshape(-1,1)"
   ]
  },
  {
   "cell_type": "code",
   "execution_count": 19,
   "id": "76951160",
   "metadata": {
    "execution": {
     "iopub.execute_input": "2021-12-18T10:08:00.117296Z",
     "iopub.status.busy": "2021-12-18T10:08:00.116665Z",
     "iopub.status.idle": "2021-12-18T10:08:00.134180Z",
     "shell.execute_reply": "2021-12-18T10:08:00.133681Z"
    },
    "papermill": {
     "duration": 0.053128,
     "end_time": "2021-12-18T10:08:00.134298",
     "exception": false,
     "start_time": "2021-12-18T10:08:00.081170",
     "status": "completed"
    },
    "tags": []
   },
   "outputs": [
    {
     "name": "stdout",
     "output_type": "stream",
     "text": [
      "xavier\n",
      "xavier\n",
      "xavier\n",
      "xavier\n",
      "xavier\n"
     ]
    }
   ],
   "source": [
    "layers = [Affine(\"first\", 784, 100), Relu(\"first\"), Affine(\"second\", 100, 100), Relu(\"second\"), Affine(\"third\", 100, 2), Affine(\"last\", 2, 1), Sigmoid(\"last\")]\n",
    "model_nn = Model(layers)\n",
    "model_lr = Model([Affine(\"logits\", 784, 1), Sigmoid(\"sigmoid\")])"
   ]
  },
  {
   "cell_type": "code",
   "execution_count": 20,
   "id": "6eede77a",
   "metadata": {
    "execution": {
     "iopub.execute_input": "2021-12-18T10:08:00.203128Z",
     "iopub.status.busy": "2021-12-18T10:08:00.202522Z",
     "iopub.status.idle": "2021-12-18T10:08:00.217147Z",
     "shell.execute_reply": "2021-12-18T10:08:00.216476Z"
    },
    "papermill": {
     "duration": 0.053888,
     "end_time": "2021-12-18T10:08:00.217273",
     "exception": false,
     "start_time": "2021-12-18T10:08:00.163385",
     "status": "completed"
    },
    "tags": []
   },
   "outputs": [],
   "source": [
    "nn_learner = Learner(loss, model_nn, opt, config.num_epochs)\n",
    "acc_nn = ClfCallback(nn_learner, config.bs, training_data_x , testing_data_x, training_data_y, testing_data_y)\n",
    "nn_learner.set_callbacks([acc_nn])"
   ]
  },
  {
   "cell_type": "code",
   "execution_count": 21,
   "id": "877b6cc7",
   "metadata": {
    "execution": {
     "iopub.execute_input": "2021-12-18T10:08:00.284621Z",
     "iopub.status.busy": "2021-12-18T10:08:00.284011Z",
     "iopub.status.idle": "2021-12-18T10:08:00.297496Z",
     "shell.execute_reply": "2021-12-18T10:08:00.297035Z"
    },
    "papermill": {
     "duration": 0.050849,
     "end_time": "2021-12-18T10:08:00.297622",
     "exception": false,
     "start_time": "2021-12-18T10:08:00.246773",
     "status": "completed"
    },
    "tags": []
   },
   "outputs": [],
   "source": [
    "lr_learner = Learner(loss, model_lr, opt, config.num_epochs)\n",
    "acc_lr = ClfCallback(lr_learner, config.bs, training_data_x , testing_data_x, training_data_y, testing_data_y)\n",
    "lr_learner.set_callbacks([acc_lr])"
   ]
  },
  {
   "cell_type": "code",
   "execution_count": 22,
   "id": "d9b133c3",
   "metadata": {
    "execution": {
     "iopub.execute_input": "2021-12-18T10:08:00.359029Z",
     "iopub.status.busy": "2021-12-18T10:08:00.358421Z",
     "iopub.status.idle": "2021-12-18T10:09:23.156064Z",
     "shell.execute_reply": "2021-12-18T10:09:23.156878Z"
    },
    "papermill": {
     "duration": 82.831338,
     "end_time": "2021-12-18T10:09:23.157039",
     "exception": false,
     "start_time": "2021-12-18T10:08:00.325701",
     "status": "completed"
    },
    "tags": []
   },
   "outputs": [
    {
     "name": "stdout",
     "output_type": "stream",
     "text": [
      "Epoch 0, Loss 0.2436\n",
      "Training Accuracy: 0.5590, Testing Accuracy: 0.5600\n",
      "\n"
     ]
    },
    {
     "name": "stdout",
     "output_type": "stream",
     "text": [
      "Epoch 10, Loss 0.1144\n",
      "Training Accuracy: 0.9072, Testing Accuracy: 0.9214\n",
      "\n"
     ]
    },
    {
     "name": "stdout",
     "output_type": "stream",
     "text": [
      "Epoch 20, Loss 0.0645\n",
      "Training Accuracy: 0.9323, Testing Accuracy: 0.9471\n",
      "\n"
     ]
    },
    {
     "name": "stdout",
     "output_type": "stream",
     "text": [
      "Epoch 30, Loss 0.0489\n",
      "Training Accuracy: 0.9451, Testing Accuracy: 0.9567\n",
      "\n"
     ]
    },
    {
     "name": "stdout",
     "output_type": "stream",
     "text": [
      "Epoch 40, Loss 0.0414\n",
      "Training Accuracy: 0.9518, Testing Accuracy: 0.9627\n",
      "\n"
     ]
    },
    {
     "name": "stdout",
     "output_type": "stream",
     "text": [
      "Epoch 50, Loss 0.0371\n",
      "Training Accuracy: 0.9564, Testing Accuracy: 0.9647\n",
      "\n"
     ]
    },
    {
     "name": "stdout",
     "output_type": "stream",
     "text": [
      "Epoch 60, Loss 0.0341\n",
      "Training Accuracy: 0.9610, Testing Accuracy: 0.9688\n",
      "\n"
     ]
    },
    {
     "name": "stdout",
     "output_type": "stream",
     "text": [
      "Epoch 70, Loss 0.0319\n",
      "Training Accuracy: 0.9629, Testing Accuracy: 0.9693\n",
      "\n"
     ]
    },
    {
     "name": "stdout",
     "output_type": "stream",
     "text": [
      "Epoch 80, Loss 0.0302\n",
      "Training Accuracy: 0.9646, Testing Accuracy: 0.9713\n",
      "\n"
     ]
    },
    {
     "name": "stdout",
     "output_type": "stream",
     "text": [
      "Epoch 90, Loss 0.0288\n",
      "Training Accuracy: 0.9657, Testing Accuracy: 0.9708\n",
      "\n"
     ]
    },
    {
     "name": "stdout",
     "output_type": "stream",
     "text": [
      "Epoch 100, Loss 0.0275\n",
      "Training Accuracy: 0.9669, Testing Accuracy: 0.9738\n",
      "\n"
     ]
    },
    {
     "name": "stdout",
     "output_type": "stream",
     "text": [
      "Epoch 110, Loss 0.0265\n",
      "Training Accuracy: 0.9680, Testing Accuracy: 0.9743\n",
      "\n"
     ]
    },
    {
     "name": "stdout",
     "output_type": "stream",
     "text": [
      "Epoch 120, Loss 0.0255\n",
      "Training Accuracy: 0.9705, Testing Accuracy: 0.9743\n",
      "\n"
     ]
    },
    {
     "name": "stdout",
     "output_type": "stream",
     "text": [
      "Epoch 130, Loss 0.0246\n",
      "Training Accuracy: 0.9712, Testing Accuracy: 0.9753\n",
      "\n"
     ]
    },
    {
     "name": "stdout",
     "output_type": "stream",
     "text": [
      "Epoch 140, Loss 0.0239\n",
      "Training Accuracy: 0.9725, Testing Accuracy: 0.9753\n",
      "\n"
     ]
    },
    {
     "name": "stdout",
     "output_type": "stream",
     "text": [
      "Epoch 150, Loss 0.0231\n",
      "Training Accuracy: 0.9735, Testing Accuracy: 0.9758\n",
      "\n"
     ]
    },
    {
     "name": "stdout",
     "output_type": "stream",
     "text": [
      "Epoch 160, Loss 0.0225\n",
      "Training Accuracy: 0.9740, Testing Accuracy: 0.9768\n",
      "\n"
     ]
    },
    {
     "name": "stdout",
     "output_type": "stream",
     "text": [
      "Epoch 170, Loss 0.0218\n",
      "Training Accuracy: 0.9744, Testing Accuracy: 0.9768\n",
      "\n"
     ]
    },
    {
     "name": "stdout",
     "output_type": "stream",
     "text": [
      "Epoch 180, Loss 0.0213\n",
      "Training Accuracy: 0.9757, Testing Accuracy: 0.9768\n",
      "\n"
     ]
    },
    {
     "name": "stdout",
     "output_type": "stream",
     "text": [
      "Epoch 190, Loss 0.0207\n",
      "Training Accuracy: 0.9762, Testing Accuracy: 0.9768\n",
      "\n"
     ]
    },
    {
     "name": "stdout",
     "output_type": "stream",
     "text": [
      "Epoch 200, Loss 0.0202\n",
      "Training Accuracy: 0.9770, Testing Accuracy: 0.9763\n",
      "\n"
     ]
    },
    {
     "name": "stdout",
     "output_type": "stream",
     "text": [
      "Epoch 210, Loss 0.0197\n",
      "Training Accuracy: 0.9778, Testing Accuracy: 0.9773\n",
      "\n"
     ]
    },
    {
     "name": "stdout",
     "output_type": "stream",
     "text": [
      "Epoch 220, Loss 0.0192\n",
      "Training Accuracy: 0.9781, Testing Accuracy: 0.9773\n",
      "\n"
     ]
    },
    {
     "name": "stdout",
     "output_type": "stream",
     "text": [
      "Epoch 230, Loss 0.0188\n",
      "Training Accuracy: 0.9787, Testing Accuracy: 0.9773\n",
      "\n"
     ]
    },
    {
     "name": "stdout",
     "output_type": "stream",
     "text": [
      "Epoch 240, Loss 0.0184\n",
      "Training Accuracy: 0.9795, Testing Accuracy: 0.9778\n",
      "\n"
     ]
    },
    {
     "data": {
      "text/plain": [
       "0.030149181609079014"
      ]
     },
     "execution_count": 22,
     "metadata": {},
     "output_type": "execute_result"
    }
   ],
   "source": [
    "nn_learner.train_loop(dl)"
   ]
  },
  {
   "cell_type": "code",
   "execution_count": 23,
   "id": "e0163366",
   "metadata": {
    "execution": {
     "iopub.execute_input": "2021-12-18T10:09:23.237913Z",
     "iopub.status.busy": "2021-12-18T10:09:23.237355Z",
     "iopub.status.idle": "2021-12-18T10:09:38.064452Z",
     "shell.execute_reply": "2021-12-18T10:09:38.065286Z"
    },
    "papermill": {
     "duration": 14.871836,
     "end_time": "2021-12-18T10:09:38.065455",
     "exception": false,
     "start_time": "2021-12-18T10:09:23.193619",
     "status": "completed"
    },
    "tags": []
   },
   "outputs": [
    {
     "name": "stdout",
     "output_type": "stream",
     "text": [
      "Epoch 0, Loss 0.204\n",
      "Training Accuracy: 0.7909, Testing Accuracy: 0.8155\n",
      "\n"
     ]
    },
    {
     "name": "stdout",
     "output_type": "stream",
     "text": [
      "Epoch 10, Loss 0.0994\n",
      "Training Accuracy: 0.9137, Testing Accuracy: 0.9254\n",
      "\n"
     ]
    },
    {
     "name": "stdout",
     "output_type": "stream",
     "text": [
      "Epoch 20, Loss 0.0773\n",
      "Training Accuracy: 0.9312, Testing Accuracy: 0.9430\n",
      "\n"
     ]
    },
    {
     "name": "stdout",
     "output_type": "stream",
     "text": [
      "Epoch 30, Loss 0.0669\n",
      "Training Accuracy: 0.9397, Testing Accuracy: 0.9506\n",
      "\n"
     ]
    },
    {
     "name": "stdout",
     "output_type": "stream",
     "text": [
      "Epoch 40, Loss 0.0606\n",
      "Training Accuracy: 0.9440, Testing Accuracy: 0.9546\n",
      "\n"
     ]
    },
    {
     "name": "stdout",
     "output_type": "stream",
     "text": [
      "Epoch 50, Loss 0.0563\n",
      "Training Accuracy: 0.9466, Testing Accuracy: 0.9577\n",
      "\n"
     ]
    },
    {
     "name": "stdout",
     "output_type": "stream",
     "text": [
      "Epoch 60, Loss 0.0532\n",
      "Training Accuracy: 0.9490, Testing Accuracy: 0.9582\n",
      "\n"
     ]
    },
    {
     "name": "stdout",
     "output_type": "stream",
     "text": [
      "Epoch 70, Loss 0.0507\n",
      "Training Accuracy: 0.9508, Testing Accuracy: 0.9597\n",
      "\n"
     ]
    },
    {
     "name": "stdout",
     "output_type": "stream",
     "text": [
      "Epoch 80, Loss 0.0487\n",
      "Training Accuracy: 0.9521, Testing Accuracy: 0.9612\n",
      "\n"
     ]
    },
    {
     "name": "stdout",
     "output_type": "stream",
     "text": [
      "Epoch 90, Loss 0.0471\n",
      "Training Accuracy: 0.9529, Testing Accuracy: 0.9612\n",
      "\n"
     ]
    },
    {
     "name": "stdout",
     "output_type": "stream",
     "text": [
      "Epoch 100, Loss 0.0458\n",
      "Training Accuracy: 0.9539, Testing Accuracy: 0.9632\n",
      "\n"
     ]
    },
    {
     "name": "stdout",
     "output_type": "stream",
     "text": [
      "Epoch 110, Loss 0.0446\n",
      "Training Accuracy: 0.9546, Testing Accuracy: 0.9642\n",
      "\n"
     ]
    },
    {
     "name": "stdout",
     "output_type": "stream",
     "text": [
      "Epoch 120, Loss 0.0436\n",
      "Training Accuracy: 0.9554, Testing Accuracy: 0.9642\n",
      "\n"
     ]
    },
    {
     "name": "stdout",
     "output_type": "stream",
     "text": [
      "Epoch 130, Loss 0.0426\n",
      "Training Accuracy: 0.9563, Testing Accuracy: 0.9647\n",
      "\n"
     ]
    },
    {
     "name": "stdout",
     "output_type": "stream",
     "text": [
      "Epoch 140, Loss 0.0418\n",
      "Training Accuracy: 0.9574, Testing Accuracy: 0.9652\n",
      "\n"
     ]
    },
    {
     "name": "stdout",
     "output_type": "stream",
     "text": [
      "Epoch 150, Loss 0.0411\n",
      "Training Accuracy: 0.9579, Testing Accuracy: 0.9662\n",
      "\n"
     ]
    },
    {
     "name": "stdout",
     "output_type": "stream",
     "text": [
      "Epoch 160, Loss 0.0405\n",
      "Training Accuracy: 0.9585, Testing Accuracy: 0.9662\n",
      "\n"
     ]
    },
    {
     "name": "stdout",
     "output_type": "stream",
     "text": [
      "Epoch 170, Loss 0.0399\n",
      "Training Accuracy: 0.9587, Testing Accuracy: 0.9657\n",
      "\n"
     ]
    },
    {
     "name": "stdout",
     "output_type": "stream",
     "text": [
      "Epoch 180, Loss 0.0393\n",
      "Training Accuracy: 0.9592, Testing Accuracy: 0.9652\n",
      "\n"
     ]
    },
    {
     "name": "stdout",
     "output_type": "stream",
     "text": [
      "Epoch 190, Loss 0.0388\n",
      "Training Accuracy: 0.9595, Testing Accuracy: 0.9652\n",
      "\n"
     ]
    },
    {
     "name": "stdout",
     "output_type": "stream",
     "text": [
      "Epoch 200, Loss 0.0383\n",
      "Training Accuracy: 0.9595, Testing Accuracy: 0.9662\n",
      "\n"
     ]
    },
    {
     "name": "stdout",
     "output_type": "stream",
     "text": [
      "Epoch 210, Loss 0.0379\n",
      "Training Accuracy: 0.9597, Testing Accuracy: 0.9662\n",
      "\n"
     ]
    },
    {
     "name": "stdout",
     "output_type": "stream",
     "text": [
      "Epoch 220, Loss 0.0375\n",
      "Training Accuracy: 0.9598, Testing Accuracy: 0.9662\n",
      "\n"
     ]
    },
    {
     "name": "stdout",
     "output_type": "stream",
     "text": [
      "Epoch 230, Loss 0.0371\n",
      "Training Accuracy: 0.9602, Testing Accuracy: 0.9667\n",
      "\n"
     ]
    },
    {
     "name": "stdout",
     "output_type": "stream",
     "text": [
      "Epoch 240, Loss 0.0368\n",
      "Training Accuracy: 0.9606, Testing Accuracy: 0.9667\n",
      "\n"
     ]
    },
    {
     "data": {
      "text/plain": [
       "0.05815714942278126"
      ]
     },
     "execution_count": 23,
     "metadata": {},
     "output_type": "execute_result"
    }
   ],
   "source": [
    "lr_learner.train_loop(dl)"
   ]
  },
  {
   "cell_type": "code",
   "execution_count": 24,
   "id": "ca410940",
   "metadata": {
    "execution": {
     "iopub.execute_input": "2021-12-18T10:09:38.165045Z",
     "iopub.status.busy": "2021-12-18T10:09:38.164369Z",
     "iopub.status.idle": "2021-12-18T10:09:38.413690Z",
     "shell.execute_reply": "2021-12-18T10:09:38.414295Z"
    },
    "papermill": {
     "duration": 0.303323,
     "end_time": "2021-12-18T10:09:38.414493",
     "exception": false,
     "start_time": "2021-12-18T10:09:38.111170",
     "status": "completed"
    },
    "tags": []
   },
   "outputs": [
    {
     "data": {
      "text/plain": [
       "<matplotlib.legend.Legend at 0x7f8a512bfcc0>"
      ]
     },
     "execution_count": 24,
     "metadata": {},
     "output_type": "execute_result"
    },
    {
     "data": {
      "image/png": "[encoded data removed]",
      "text/plain": [
       "<Figure size 1080x720 with 1 Axes>"
      ]
     },
     "metadata": {
      "needs_background": "light"
     },
     "output_type": "display_data"
    }
   ],
   "source": [
    "#comparing the results of NN and LR\n",
    "plt.figure(figsize=(15,10))\n",
    "\n",
    "# Neural Network plots\n",
    "plt.plot(acc_nn.accuracies, 'r-', label = \"Training Accuracies - NN\")\n",
    "plt.plot(acc_nn.test_accuracies, 'g-', label = \"Testing Accuracies - NN\")\n",
    "\n",
    "# Logistic Regression plots\n",
    "plt.plot(acc_lr.accuracies, 'k-', label = \"Training Accuracies - LR\")\n",
    "plt.plot(acc_lr.test_accuracies, 'b-', label = \"Testing Accuracies - LR\")\n",
    "plt.legend()"
   ]
  },
  {
   "cell_type": "markdown",
   "id": "80dfb35c",
   "metadata": {
    "papermill": {
     "duration": 0.044714,
     "end_time": "2021-12-18T10:09:38.505808",
     "exception": false,
     "start_time": "2021-12-18T10:09:38.461094",
     "status": "completed"
    },
    "tags": []
   },
   "source": [
    "#### Plotting the outputs of this layer of the NN.\n"
   ]
  },
  {
   "cell_type": "code",
   "execution_count": 25,
   "id": "45eb2ff5",
   "metadata": {
    "execution": {
     "iopub.execute_input": "2021-12-18T10:09:38.592565Z",
     "iopub.status.busy": "2021-12-18T10:09:38.592009Z",
     "iopub.status.idle": "2021-12-18T10:09:38.611954Z",
     "shell.execute_reply": "2021-12-18T10:09:38.612399Z"
    },
    "papermill": {
     "duration": 0.065255,
     "end_time": "2021-12-18T10:09:38.612566",
     "exception": false,
     "start_time": "2021-12-18T10:09:38.547311",
     "status": "completed"
    },
    "tags": []
   },
   "outputs": [],
   "source": [
    "new_model = Model(layers[:-2])\n",
    "testing_plot = new_model(testing_data_x)"
   ]
  },
  {
   "cell_type": "code",
   "execution_count": 26,
   "id": "4c0a5485",
   "metadata": {
    "execution": {
     "iopub.execute_input": "2021-12-18T10:09:38.707514Z",
     "iopub.status.busy": "2021-12-18T10:09:38.703435Z",
     "iopub.status.idle": "2021-12-18T10:09:38.935578Z",
     "shell.execute_reply": "2021-12-18T10:09:38.936086Z"
    },
    "papermill": {
     "duration": 0.281024,
     "end_time": "2021-12-18T10:09:38.936253",
     "exception": false,
     "start_time": "2021-12-18T10:09:38.655229",
     "status": "completed"
    },
    "tags": []
   },
   "outputs": [
    {
     "data": {
      "text/plain": [
       "Text(0.5, 1.0, 'Outputs')"
      ]
     },
     "execution_count": 26,
     "metadata": {},
     "output_type": "execute_result"
    },
    {
     "data": {
      "image/png": "[encoded data removed]",
      "text/plain": [
       "<Figure size 576x504 with 1 Axes>"
      ]
     },
     "metadata": {
      "needs_background": "light"
     },
     "output_type": "display_data"
    }
   ],
   "source": [
    "# Plotting the scatter plot of points and color coding by class\n",
    "plt.figure(figsize=(8,7))\n",
    "plt.scatter(testing_plot[:,0], testing_plot[:,1], alpha = 0.1, c = y_test.ravel());\n",
    "plt.title('Outputs')"
   ]
  },
  {
   "cell_type": "markdown",
   "id": "a74fcf8f",
   "metadata": {
    "papermill": {
     "duration": 0.049387,
     "end_time": "2021-12-18T10:09:39.032620",
     "exception": false,
     "start_time": "2021-12-18T10:09:38.983233",
     "status": "completed"
    },
    "tags": []
   },
   "source": [
    "Probability contours"
   ]
  },
  {
   "cell_type": "code",
   "execution_count": 27,
   "id": "d0afc8e3",
   "metadata": {
    "execution": {
     "iopub.execute_input": "2021-12-18T10:09:39.142012Z",
     "iopub.status.busy": "2021-12-18T10:09:39.141384Z",
     "iopub.status.idle": "2021-12-18T10:09:39.154691Z",
     "shell.execute_reply": "2021-12-18T10:09:39.154157Z"
    },
    "papermill": {
     "duration": 0.067589,
     "end_time": "2021-12-18T10:09:39.154812",
     "exception": false,
     "start_time": "2021-12-18T10:09:39.087223",
     "status": "completed"
    },
    "tags": []
   },
   "outputs": [],
   "source": [
    "model_prob = Model(layers[-2:]) "
   ]
  },
  {
   "cell_type": "code",
   "execution_count": 28,
   "id": "9b96e238",
   "metadata": {
    "execution": {
     "iopub.execute_input": "2021-12-18T10:09:39.262989Z",
     "iopub.status.busy": "2021-12-18T10:09:39.262424Z",
     "iopub.status.idle": "2021-12-18T10:09:39.275522Z",
     "shell.execute_reply": "2021-12-18T10:09:39.275956Z"
    },
    "papermill": {
     "duration": 0.070448,
     "end_time": "2021-12-18T10:09:39.276104",
     "exception": false,
     "start_time": "2021-12-18T10:09:39.205656",
     "status": "completed"
    },
    "tags": []
   },
   "outputs": [],
   "source": [
    "#creating the x and y ranges according to the above generated plot.\n",
    "x_range = np.linspace(-4, 1, 100) \n",
    "y_range = np.linspace(-6, 6, 100) \n",
    "x_grid, y_grid = np.meshgrid(x_range, y_range) # x_grid and y_grig are of size 100 X 100\n",
    "\n",
    "# converting x_grid and y_grid to continuous arrays\n",
    "x_gridflat = np.ravel(x_grid)\n",
    "y_gridflat = np.ravel(y_grid)\n",
    "\n",
    "# The last layer of the current model takes two columns as input. Hence transpose of np.vstack() is required.\n",
    "X = np.vstack((x_gridflat, y_gridflat)).T\n",
    "\n",
    "prob_contour = model_prob(X).reshape(100,100) "
   ]
  },
  {
   "cell_type": "code",
   "execution_count": 29,
   "id": "da72499a",
   "metadata": {
    "execution": {
     "iopub.execute_input": "2021-12-18T10:09:39.409116Z",
     "iopub.status.busy": "2021-12-18T10:09:39.408453Z",
     "iopub.status.idle": "2021-12-18T10:09:39.694881Z",
     "shell.execute_reply": "2021-12-18T10:09:39.694369Z"
    },
    "papermill": {
     "duration": 0.36992,
     "end_time": "2021-12-18T10:09:39.695008",
     "exception": false,
     "start_time": "2021-12-18T10:09:39.325088",
     "status": "completed"
    },
    "tags": []
   },
   "outputs": [
    {
     "data": {
      "image/png": "[encoded data removed]",
      "text/plain": [
       "<Figure size 720x648 with 1 Axes>"
      ]
     },
     "metadata": {
      "needs_background": "light"
     },
     "output_type": "display_data"
    }
   ],
   "source": [
    "plt.figure(figsize=(10,9))\n",
    "plt.scatter(testing_plot[:,0], testing_plot[:,1], alpha = 0.1, c = y_test.ravel())\n",
    "contours = plt.contour(x_grid,y_grid,prob_contour)\n",
    "plt.title('Probability Contours')\n",
    "plt.clabel(contours, inline = True );"
   ]
  },
  {
   "cell_type": "code",
   "execution_count": null,
   "id": "e81b4ac7",
   "metadata": {
    "papermill": {
     "duration": 0.051392,
     "end_time": "2021-12-18T10:09:39.798674",
     "exception": false,
     "start_time": "2021-12-18T10:09:39.747282",
     "status": "completed"
    },
    "tags": []
   },
   "outputs": [],
   "source": []
  }
 ],
 "metadata": {
  "kernelspec": {
   "display_name": "Python 3",
   "language": "python",
   "name": "python3"
  },
  "language_info": {
   "codemirror_mode": {
    "name": "ipython",
    "version": 3
   },
   "file_extension": ".py",
   "mimetype": "text/x-python",
   "name": "python",
   "nbconvert_exporter": "python",
   "pygments_lexer": "ipython3",
   "version": "3.6.15"
  },
  "papermill": {
   "default_parameters": {},
   "duration": 106.767292,
   "end_time": "2021-12-18T10:09:40.260978",
   "environment_variables": {},
   "exception": null,
   "input_path": "2020-08-11-part2.ipynb",
   "output_path": "2020-08-11-part2.ipynb",
   "parameters": {},
   "start_time": "2021-12-18T10:07:53.493686",
   "version": "2.3.3"
  }
 },
 "nbformat": 4,
 "nbformat_minor": 5
}