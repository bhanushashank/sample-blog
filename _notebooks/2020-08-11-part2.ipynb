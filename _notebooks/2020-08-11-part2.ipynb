{
 "cells": [
  {
   "cell_type": "markdown",
   "id": "98380cd3",
   "metadata": {
    "papermill": {
     "duration": 0.03418,
     "end_time": "2022-10-04T10:12:19.517411",
     "exception": false,
     "start_time": "2022-10-04T10:12:19.483231",
     "status": "completed"
    },
    "tags": []
   },
   "source": [
    "# Distinguish Your Own Digits (DYOD)"
   ]
  },
  {
   "cell_type": "markdown",
   "id": "ef31240d",
   "metadata": {
    "papermill": {
     "duration": 0.029802,
     "end_time": "2022-10-04T10:12:19.579978",
     "exception": false,
     "start_time": "2022-10-04T10:12:19.550176",
     "status": "completed"
    },
    "tags": []
   },
   "source": [
    "You are going to write a classifier that distinguishes between the number 3 and number 8."
   ]
  },
  {
   "cell_type": "code",
   "execution_count": 1,
   "id": "b15c8646",
   "metadata": {
    "execution": {
     "iopub.execute_input": "2022-10-04T10:12:19.649712Z",
     "iopub.status.busy": "2022-10-04T10:12:19.648951Z",
     "iopub.status.idle": "2022-10-04T10:12:19.661173Z",
     "shell.execute_reply": "2022-10-04T10:12:19.660570Z"
    },
    "papermill": {
     "duration": 0.052886,
     "end_time": "2022-10-04T10:12:19.661329",
     "exception": false,
     "start_time": "2022-10-04T10:12:19.608443",
     "status": "completed"
    },
    "tags": []
   },
   "outputs": [],
   "source": [
    "%load_ext autoreload\n",
    "%autoreload 2"
   ]
  },
  {
   "cell_type": "code",
   "execution_count": 2,
   "id": "22ef38dc",
   "metadata": {
    "execution": {
     "iopub.execute_input": "2022-10-04T10:12:19.724815Z",
     "iopub.status.busy": "2022-10-04T10:12:19.724011Z",
     "iopub.status.idle": "2022-10-04T10:12:20.366388Z",
     "shell.execute_reply": "2022-10-04T10:12:20.365774Z"
    },
    "papermill": {
     "duration": 0.676684,
     "end_time": "2022-10-04T10:12:20.366537",
     "exception": false,
     "start_time": "2022-10-04T10:12:19.689853",
     "status": "completed"
    },
    "tags": []
   },
   "outputs": [],
   "source": [
    "%matplotlib inline\n",
    "import numpy as np\n",
    "import matplotlib.pyplot as plt\n",
    "import pandas as pd"
   ]
  },
  {
   "cell_type": "markdown",
   "id": "ba036198",
   "metadata": {
    "papermill": {
     "duration": 0.031646,
     "end_time": "2022-10-04T10:12:20.429778",
     "exception": false,
     "start_time": "2022-10-04T10:12:20.398132",
     "status": "completed"
    },
    "tags": []
   },
   "source": [
    "From the command line run `pip install mnist`. This is a library that will help you bring down the mnist dataset. If you run this from a notebook, you need to put  `!pip install mnist` in a cell by itself."
   ]
  },
  {
   "cell_type": "code",
   "execution_count": 3,
   "id": "bb6ad8a1",
   "metadata": {
    "execution": {
     "iopub.execute_input": "2022-10-04T10:12:20.498520Z",
     "iopub.status.busy": "2022-10-04T10:12:20.497803Z",
     "iopub.status.idle": "2022-10-04T10:12:22.688786Z",
     "shell.execute_reply": "2022-10-04T10:12:22.689347Z"
    },
    "papermill": {
     "duration": 2.228606,
     "end_time": "2022-10-04T10:12:22.689523",
     "exception": false,
     "start_time": "2022-10-04T10:12:20.460917",
     "status": "completed"
    },
    "tags": []
   },
   "outputs": [
    {
     "name": "stdout",
     "output_type": "stream",
     "text": [
      "Collecting mnist\r\n"
     ]
    },
    {
     "name": "stdout",
     "output_type": "stream",
     "text": [
      "  Downloading mnist-0.2.2-py2.py3-none-any.whl (3.5 kB)\r\n",
      "Requirement already satisfied: numpy in /opt/hostedtoolcache/Python/3.6.15/x64/lib/python3.6/site-packages (from mnist) (1.19.5)\r\n"
     ]
    },
    {
     "name": "stdout",
     "output_type": "stream",
     "text": [
      "Installing collected packages: mnist\r\n"
     ]
    },
    {
     "name": "stdout",
     "output_type": "stream",
     "text": [
      "Successfully installed mnist-0.2.2\r\n"
     ]
    }
   ],
   "source": [
    "!pip install mnist"
   ]
  },
  {
   "cell_type": "markdown",
   "id": "69df9c9a",
   "metadata": {
    "papermill": {
     "duration": 0.030227,
     "end_time": "2022-10-04T10:12:22.751009",
     "exception": false,
     "start_time": "2022-10-04T10:12:22.720782",
     "status": "completed"
    },
    "tags": []
   },
   "source": [
    "## Preparing the Data"
   ]
  },
  {
   "cell_type": "code",
   "execution_count": 4,
   "id": "7f69d806",
   "metadata": {
    "execution": {
     "iopub.execute_input": "2022-10-04T10:12:22.815888Z",
     "iopub.status.busy": "2022-10-04T10:12:22.815043Z",
     "iopub.status.idle": "2022-10-04T10:12:22.831580Z",
     "shell.execute_reply": "2022-10-04T10:12:22.830995Z"
    },
    "papermill": {
     "duration": 0.051694,
     "end_time": "2022-10-04T10:12:22.831715",
     "exception": false,
     "start_time": "2022-10-04T10:12:22.780021",
     "status": "completed"
    },
    "tags": []
   },
   "outputs": [],
   "source": [
    "import mnist"
   ]
  },
  {
   "cell_type": "code",
   "execution_count": 5,
   "id": "a411e44f",
   "metadata": {
    "execution": {
     "iopub.execute_input": "2022-10-04T10:12:22.897769Z",
     "iopub.status.busy": "2022-10-04T10:12:22.897037Z",
     "iopub.status.idle": "2022-10-04T10:12:23.430561Z",
     "shell.execute_reply": "2022-10-04T10:12:23.429486Z"
    },
    "papermill": {
     "duration": 0.568683,
     "end_time": "2022-10-04T10:12:23.430794",
     "exception": false,
     "start_time": "2022-10-04T10:12:22.862111",
     "status": "completed"
    },
    "tags": []
   },
   "outputs": [],
   "source": [
    "train_images = mnist.train_images()\n",
    "train_labels = mnist.train_labels()"
   ]
  },
  {
   "cell_type": "code",
   "execution_count": 6,
   "id": "dceab3a5",
   "metadata": {
    "execution": {
     "iopub.execute_input": "2022-10-04T10:12:23.497462Z",
     "iopub.status.busy": "2022-10-04T10:12:23.496565Z",
     "iopub.status.idle": "2022-10-04T10:12:23.515055Z",
     "shell.execute_reply": "2022-10-04T10:12:23.515614Z"
    },
    "papermill": {
     "duration": 0.054751,
     "end_time": "2022-10-04T10:12:23.515768",
     "exception": false,
     "start_time": "2022-10-04T10:12:23.461017",
     "status": "completed"
    },
    "tags": []
   },
   "outputs": [
    {
     "data": {
      "text/plain": [
       "((60000, 28, 28), (60000,))"
      ]
     },
     "execution_count": 6,
     "metadata": {},
     "output_type": "execute_result"
    }
   ],
   "source": [
    "train_images.shape, train_labels.shape"
   ]
  },
  {
   "cell_type": "code",
   "execution_count": 7,
   "id": "f50dc2bb",
   "metadata": {
    "execution": {
     "iopub.execute_input": "2022-10-04T10:12:23.581753Z",
     "iopub.status.busy": "2022-10-04T10:12:23.581018Z",
     "iopub.status.idle": "2022-10-04T10:12:23.710577Z",
     "shell.execute_reply": "2022-10-04T10:12:23.709902Z"
    },
    "papermill": {
     "duration": 0.165667,
     "end_time": "2022-10-04T10:12:23.710739",
     "exception": false,
     "start_time": "2022-10-04T10:12:23.545072",
     "status": "completed"
    },
    "tags": []
   },
   "outputs": [],
   "source": [
    "test_images = mnist.test_images()\n",
    "test_labels = mnist.test_labels()"
   ]
  },
  {
   "cell_type": "code",
   "execution_count": 8,
   "id": "fc38cf1b",
   "metadata": {
    "execution": {
     "iopub.execute_input": "2022-10-04T10:12:23.778867Z",
     "iopub.status.busy": "2022-10-04T10:12:23.778134Z",
     "iopub.status.idle": "2022-10-04T10:12:23.794565Z",
     "shell.execute_reply": "2022-10-04T10:12:23.795074Z"
    },
    "papermill": {
     "duration": 0.053482,
     "end_time": "2022-10-04T10:12:23.795236",
     "exception": false,
     "start_time": "2022-10-04T10:12:23.741754",
     "status": "completed"
    },
    "tags": []
   },
   "outputs": [
    {
     "data": {
      "text/plain": [
       "((10000, 28, 28), (10000,))"
      ]
     },
     "execution_count": 8,
     "metadata": {},
     "output_type": "execute_result"
    }
   ],
   "source": [
    "test_images.shape, test_labels.shape"
   ]
  },
  {
   "cell_type": "code",
   "execution_count": 9,
   "id": "f9ed8fe0",
   "metadata": {
    "execution": {
     "iopub.execute_input": "2022-10-04T10:12:23.860648Z",
     "iopub.status.busy": "2022-10-04T10:12:23.859930Z",
     "iopub.status.idle": "2022-10-04T10:12:24.029040Z",
     "shell.execute_reply": "2022-10-04T10:12:24.028437Z"
    },
    "papermill": {
     "duration": 0.204008,
     "end_time": "2022-10-04T10:12:24.029180",
     "exception": false,
     "start_time": "2022-10-04T10:12:23.825172",
     "status": "completed"
    },
    "tags": []
   },
   "outputs": [
    {
     "name": "stdout",
     "output_type": "stream",
     "text": [
      "2\n"
     ]
    },
    {
     "data": {
      "text/plain": [
       "<matplotlib.image.AxesImage at 0x7fdb2633eba8>"
      ]
     },
     "execution_count": 9,
     "metadata": {},
     "output_type": "execute_result"
    },
    {
     "data": {
      "image/png": "[encoded data removed]",
      "text/plain": [
       "<Figure size 432x288 with 1 Axes>"
      ]
     },
     "metadata": {
      "needs_background": "light"
     },
     "output_type": "display_data"
    }
   ],
   "source": [
    "image_index = 7776 # You may select anything up to 60,000\n",
    "print(train_labels[image_index]) \n",
    "plt.imshow(train_images[image_index], cmap='Greys')"
   ]
  },
  {
   "cell_type": "markdown",
   "id": "a8d2388d",
   "metadata": {
    "papermill": {
     "duration": 0.032278,
     "end_time": "2022-10-04T10:12:24.095484",
     "exception": false,
     "start_time": "2022-10-04T10:12:24.063206",
     "status": "completed"
    },
    "tags": []
   },
   "source": [
    "## Filter data to get 3 and 8 out"
   ]
  },
  {
   "cell_type": "code",
   "execution_count": 10,
   "id": "776f7fc7",
   "metadata": {
    "execution": {
     "iopub.execute_input": "2022-10-04T10:12:24.169033Z",
     "iopub.status.busy": "2022-10-04T10:12:24.168100Z",
     "iopub.status.idle": "2022-10-04T10:12:24.187945Z",
     "shell.execute_reply": "2022-10-04T10:12:24.187351Z"
    },
    "papermill": {
     "duration": 0.06025,
     "end_time": "2022-10-04T10:12:24.188090",
     "exception": false,
     "start_time": "2022-10-04T10:12:24.127840",
     "status": "completed"
    },
    "tags": []
   },
   "outputs": [],
   "source": [
    "train_filter = np.where((train_labels == 3 ) | (train_labels == 8))\n",
    "test_filter = np.where((test_labels == 3) | (test_labels == 8))\n",
    "X_train, y_train = train_images[train_filter], train_labels[train_filter]\n",
    "X_test, y_test = test_images[test_filter], test_labels[test_filter]"
   ]
  },
  {
   "cell_type": "markdown",
   "id": "948f0b7e",
   "metadata": {
    "papermill": {
     "duration": 0.031532,
     "end_time": "2022-10-04T10:12:24.251273",
     "exception": false,
     "start_time": "2022-10-04T10:12:24.219741",
     "status": "completed"
    },
    "tags": []
   },
   "source": [
    "We normalize the pizel values in the 0 to 1 range"
   ]
  },
  {
   "cell_type": "code",
   "execution_count": 11,
   "id": "ee4c2166",
   "metadata": {
    "execution": {
     "iopub.execute_input": "2022-10-04T10:12:24.319510Z",
     "iopub.status.busy": "2022-10-04T10:12:24.318792Z",
     "iopub.status.idle": "2022-10-04T10:12:24.373180Z",
     "shell.execute_reply": "2022-10-04T10:12:24.372299Z"
    },
    "papermill": {
     "duration": 0.09111,
     "end_time": "2022-10-04T10:12:24.373368",
     "exception": false,
     "start_time": "2022-10-04T10:12:24.282258",
     "status": "completed"
    },
    "tags": []
   },
   "outputs": [],
   "source": [
    "X_train = X_train/255.\n",
    "X_test = X_test/255."
   ]
  },
  {
   "cell_type": "markdown",
   "id": "ddcf4fab",
   "metadata": {
    "papermill": {
     "duration": 0.031088,
     "end_time": "2022-10-04T10:12:24.437014",
     "exception": false,
     "start_time": "2022-10-04T10:12:24.405926",
     "status": "completed"
    },
    "tags": []
   },
   "source": [
    "And setup the labels as 1 (when the digit is 3) and 0 (when the digit is 8)"
   ]
  },
  {
   "cell_type": "code",
   "execution_count": 12,
   "id": "7dc908f2",
   "metadata": {
    "execution": {
     "iopub.execute_input": "2022-10-04T10:12:24.510107Z",
     "iopub.status.busy": "2022-10-04T10:12:24.509335Z",
     "iopub.status.idle": "2022-10-04T10:12:24.523420Z",
     "shell.execute_reply": "2022-10-04T10:12:24.522824Z"
    },
    "papermill": {
     "duration": 0.050907,
     "end_time": "2022-10-04T10:12:24.523558",
     "exception": false,
     "start_time": "2022-10-04T10:12:24.472651",
     "status": "completed"
    },
    "tags": []
   },
   "outputs": [],
   "source": [
    "y_train = 1*(y_train==3)\n",
    "y_test = 1*(y_test==3)"
   ]
  },
  {
   "cell_type": "code",
   "execution_count": 13,
   "id": "01e4e969",
   "metadata": {
    "execution": {
     "iopub.execute_input": "2022-10-04T10:12:24.591535Z",
     "iopub.status.busy": "2022-10-04T10:12:24.590816Z",
     "iopub.status.idle": "2022-10-04T10:12:24.607667Z",
     "shell.execute_reply": "2022-10-04T10:12:24.607087Z"
    },
    "papermill": {
     "duration": 0.052393,
     "end_time": "2022-10-04T10:12:24.607803",
     "exception": false,
     "start_time": "2022-10-04T10:12:24.555410",
     "status": "completed"
    },
    "tags": []
   },
   "outputs": [
    {
     "data": {
      "text/plain": [
       "((11982, 28, 28), (1984, 28, 28))"
      ]
     },
     "execution_count": 13,
     "metadata": {},
     "output_type": "execute_result"
    }
   ],
   "source": [
    "X_train.shape, X_test.shape"
   ]
  },
  {
   "cell_type": "markdown",
   "id": "5ccf3f85",
   "metadata": {
    "papermill": {
     "duration": 0.030892,
     "end_time": "2022-10-04T10:12:24.670056",
     "exception": false,
     "start_time": "2022-10-04T10:12:24.639164",
     "status": "completed"
    },
    "tags": []
   },
   "source": [
    "We reshape the data to flatten the image pixels into a set of features or co-variates:"
   ]
  },
  {
   "cell_type": "code",
   "execution_count": 14,
   "id": "5286a4a3",
   "metadata": {
    "execution": {
     "iopub.execute_input": "2022-10-04T10:12:24.741352Z",
     "iopub.status.busy": "2022-10-04T10:12:24.740619Z",
     "iopub.status.idle": "2022-10-04T10:12:24.757110Z",
     "shell.execute_reply": "2022-10-04T10:12:24.757644Z"
    },
    "papermill": {
     "duration": 0.056957,
     "end_time": "2022-10-04T10:12:24.757814",
     "exception": false,
     "start_time": "2022-10-04T10:12:24.700857",
     "status": "completed"
    },
    "tags": []
   },
   "outputs": [
    {
     "data": {
      "text/plain": [
       "((11982, 784), (1984, 784))"
      ]
     },
     "execution_count": 14,
     "metadata": {},
     "output_type": "execute_result"
    }
   ],
   "source": [
    "X_train = X_train.reshape(X_train.shape[0], -1)\n",
    "X_test = X_test.reshape(X_test.shape[0], -1)\n",
    "X_train.shape, X_test.shape"
   ]
  },
  {
   "cell_type": "code",
   "execution_count": 15,
   "id": "73c5f88a",
   "metadata": {
    "execution": {
     "iopub.execute_input": "2022-10-04T10:12:24.826842Z",
     "iopub.status.busy": "2022-10-04T10:12:24.826088Z",
     "iopub.status.idle": "2022-10-04T10:12:24.848815Z",
     "shell.execute_reply": "2022-10-04T10:12:24.848141Z"
    },
    "papermill": {
     "duration": 0.060171,
     "end_time": "2022-10-04T10:12:24.848964",
     "exception": false,
     "start_time": "2022-10-04T10:12:24.788793",
     "status": "completed"
    },
    "tags": []
   },
   "outputs": [],
   "source": [
    "#Impoting functions from 'Kudzu'\n",
    "from kudzu.model import Model\n",
    "from kudzu.train import Learner\n",
    "from kudzu.optim import GD\n",
    "from kudzu.data import Data, Sampler,Dataloader\n",
    "\n",
    "from kudzu.callbacks import AccCallback\n",
    "from kudzu.callbacks import ClfCallback\n",
    "\n",
    "from kudzu.loss import MSE\n",
    "\n",
    "from kudzu.layer import Sigmoid,Relu\n",
    "from kudzu.layer import Affine"
   ]
  },
  {
   "cell_type": "markdown",
   "id": "bc01172a",
   "metadata": {
    "papermill": {
     "duration": 0.031362,
     "end_time": "2022-10-04T10:12:24.914207",
     "exception": false,
     "start_time": "2022-10-04T10:12:24.882845",
     "status": "completed"
    },
    "tags": []
   },
   "source": [
    "### Let us create a `Config` class, to store important parameters. \n",
    "This class essentially plays the role of a dictionary."
   ]
  },
  {
   "cell_type": "code",
   "execution_count": 16,
   "id": "978281aa",
   "metadata": {
    "execution": {
     "iopub.execute_input": "2022-10-04T10:12:24.982228Z",
     "iopub.status.busy": "2022-10-04T10:12:24.981417Z",
     "iopub.status.idle": "2022-10-04T10:12:24.996384Z",
     "shell.execute_reply": "2022-10-04T10:12:24.995787Z"
    },
    "papermill": {
     "duration": 0.050954,
     "end_time": "2022-10-04T10:12:24.996519",
     "exception": false,
     "start_time": "2022-10-04T10:12:24.945565",
     "status": "completed"
    },
    "tags": []
   },
   "outputs": [],
   "source": [
    "class Config:\n",
    "    pass\n",
    "config = Config()\n",
    "config.lr = 0.001\n",
    "config.num_epochs = 250\n",
    "config.bs = 50"
   ]
  },
  {
   "cell_type": "markdown",
   "id": "1385fa59",
   "metadata": {
    "papermill": {
     "duration": 0.032337,
     "end_time": "2022-10-04T10:12:25.061000",
     "exception": false,
     "start_time": "2022-10-04T10:12:25.028663",
     "status": "completed"
    },
    "tags": []
   },
   "source": [
    "### Running Models with the Training data\n",
    "Details about the network layers:\n",
    "- A first affine layer has 784 inputs and does 100 affine transforms. These are followed by a Relu\n",
    "- A second affine layer has 100 inputs from the 100 activations of the past layer, and does 100 affine transforms. These are followed by a Relu\n",
    "- A third affine layer has 100 activations and does 2 affine transformations to create an embedding for visualization. There is no non-linearity here.\n",
    "- A final \"logistic regression\" which has an affine transform from 2 inputs to 1 output, which is squeezed through a sigmoid.\n"
   ]
  },
  {
   "cell_type": "code",
   "execution_count": 17,
   "id": "2b9c66db",
   "metadata": {
    "execution": {
     "iopub.execute_input": "2022-10-04T10:12:25.131673Z",
     "iopub.status.busy": "2022-10-04T10:12:25.130946Z",
     "iopub.status.idle": "2022-10-04T10:12:25.146531Z",
     "shell.execute_reply": "2022-10-04T10:12:25.145728Z"
    },
    "papermill": {
     "duration": 0.053782,
     "end_time": "2022-10-04T10:12:25.146673",
     "exception": false,
     "start_time": "2022-10-04T10:12:25.092891",
     "status": "completed"
    },
    "tags": []
   },
   "outputs": [],
   "source": [
    "data = Data(X_train, y_train.reshape(-1,1))\n",
    "sampler = Sampler(data, config.bs, shuffle=True)\n",
    "\n",
    "dl = Dataloader(data, sampler)\n",
    "\n",
    "opt = GD(config.lr)\n",
    "loss = MSE()"
   ]
  },
  {
   "cell_type": "code",
   "execution_count": 18,
   "id": "b275e4c2",
   "metadata": {
    "execution": {
     "iopub.execute_input": "2022-10-04T10:12:25.216747Z",
     "iopub.status.busy": "2022-10-04T10:12:25.216076Z",
     "iopub.status.idle": "2022-10-04T10:12:25.233457Z",
     "shell.execute_reply": "2022-10-04T10:12:25.234029Z"
    },
    "papermill": {
     "duration": 0.055183,
     "end_time": "2022-10-04T10:12:25.234189",
     "exception": false,
     "start_time": "2022-10-04T10:12:25.179006",
     "status": "completed"
    },
    "tags": []
   },
   "outputs": [],
   "source": [
    "training_data_x = X_train\n",
    "testing_data_x = X_test\n",
    "training_data_y = y_train.reshape(-1,1)\n",
    "testing_data_y = y_test.reshape(-1,1)"
   ]
  },
  {
   "cell_type": "code",
   "execution_count": 19,
   "id": "76951160",
   "metadata": {
    "execution": {
     "iopub.execute_input": "2022-10-04T10:12:25.304960Z",
     "iopub.status.busy": "2022-10-04T10:12:25.304109Z",
     "iopub.status.idle": "2022-10-04T10:12:25.324242Z",
     "shell.execute_reply": "2022-10-04T10:12:25.323692Z"
    },
    "papermill": {
     "duration": 0.057235,
     "end_time": "2022-10-04T10:12:25.324389",
     "exception": false,
     "start_time": "2022-10-04T10:12:25.267154",
     "status": "completed"
    },
    "tags": []
   },
   "outputs": [
    {
     "name": "stdout",
     "output_type": "stream",
     "text": [
      "xavier\n",
      "xavier\n",
      "xavier\n",
      "xavier\n",
      "xavier\n"
     ]
    }
   ],
   "source": [
    "layers = [Affine(\"first\", 784, 100), Relu(\"first\"), Affine(\"second\", 100, 100), Relu(\"second\"), Affine(\"third\", 100, 2), Affine(\"last\", 2, 1), Sigmoid(\"last\")]\n",
    "model_nn = Model(layers)\n",
    "model_lr = Model([Affine(\"logits\", 784, 1), Sigmoid(\"sigmoid\")])"
   ]
  },
  {
   "cell_type": "code",
   "execution_count": 20,
   "id": "6eede77a",
   "metadata": {
    "execution": {
     "iopub.execute_input": "2022-10-04T10:12:25.395783Z",
     "iopub.status.busy": "2022-10-04T10:12:25.395078Z",
     "iopub.status.idle": "2022-10-04T10:12:25.411743Z",
     "shell.execute_reply": "2022-10-04T10:12:25.411132Z"
    },
    "papermill": {
     "duration": 0.054677,
     "end_time": "2022-10-04T10:12:25.411880",
     "exception": false,
     "start_time": "2022-10-04T10:12:25.357203",
     "status": "completed"
    },
    "tags": []
   },
   "outputs": [],
   "source": [
    "nn_learner = Learner(loss, model_nn, opt, config.num_epochs)\n",
    "acc_nn = ClfCallback(nn_learner, config.bs, training_data_x , testing_data_x, training_data_y, testing_data_y)\n",
    "nn_learner.set_callbacks([acc_nn])"
   ]
  },
  {
   "cell_type": "code",
   "execution_count": 21,
   "id": "877b6cc7",
   "metadata": {
    "execution": {
     "iopub.execute_input": "2022-10-04T10:12:25.484409Z",
     "iopub.status.busy": "2022-10-04T10:12:25.483570Z",
     "iopub.status.idle": "2022-10-04T10:12:25.497971Z",
     "shell.execute_reply": "2022-10-04T10:12:25.497368Z"
    },
    "papermill": {
     "duration": 0.054191,
     "end_time": "2022-10-04T10:12:25.498101",
     "exception": false,
     "start_time": "2022-10-04T10:12:25.443910",
     "status": "completed"
    },
    "tags": []
   },
   "outputs": [],
   "source": [
    "lr_learner = Learner(loss, model_lr, opt, config.num_epochs)\n",
    "acc_lr = ClfCallback(lr_learner, config.bs, training_data_x , testing_data_x, training_data_y, testing_data_y)\n",
    "lr_learner.set_callbacks([acc_lr])"
   ]
  },
  {
   "cell_type": "code",
   "execution_count": 22,
   "id": "d9b133c3",
   "metadata": {
    "execution": {
     "iopub.execute_input": "2022-10-04T10:12:25.570104Z",
     "iopub.status.busy": "2022-10-04T10:12:25.569373Z",
     "iopub.status.idle": "2022-10-04T10:13:55.383458Z",
     "shell.execute_reply": "2022-10-04T10:13:55.384430Z"
    },
    "papermill": {
     "duration": 89.853825,
     "end_time": "2022-10-04T10:13:55.384595",
     "exception": false,
     "start_time": "2022-10-04T10:12:25.530770",
     "status": "completed"
    },
    "tags": []
   },
   "outputs": [
    {
     "name": "stdout",
     "output_type": "stream",
     "text": [
      "Epoch 0, Loss 0.2483\n",
      "Training Accuracy: 0.5878, Testing Accuracy: 0.5786\n",
      "\n"
     ]
    },
    {
     "name": "stdout",
     "output_type": "stream",
     "text": [
      "Epoch 10, Loss 0.1841\n",
      "Training Accuracy: 0.8725, Testing Accuracy: 0.8810\n",
      "\n"
     ]
    },
    {
     "name": "stdout",
     "output_type": "stream",
     "text": [
      "Epoch 20, Loss 0.0914\n",
      "Training Accuracy: 0.9139, Testing Accuracy: 0.9224\n",
      "\n"
     ]
    },
    {
     "name": "stdout",
     "output_type": "stream",
     "text": [
      "Epoch 30, Loss 0.0601\n",
      "Training Accuracy: 0.9358, Testing Accuracy: 0.9466\n",
      "\n"
     ]
    },
    {
     "name": "stdout",
     "output_type": "stream",
     "text": [
      "Epoch 40, Loss 0.0475\n",
      "Training Accuracy: 0.9473, Testing Accuracy: 0.9551\n",
      "\n"
     ]
    },
    {
     "name": "stdout",
     "output_type": "stream",
     "text": [
      "Epoch 50, Loss 0.041\n",
      "Training Accuracy: 0.9533, Testing Accuracy: 0.9632\n",
      "\n"
     ]
    },
    {
     "name": "stdout",
     "output_type": "stream",
     "text": [
      "Epoch 60, Loss 0.037\n",
      "Training Accuracy: 0.9572, Testing Accuracy: 0.9667\n",
      "\n"
     ]
    },
    {
     "name": "stdout",
     "output_type": "stream",
     "text": [
      "Epoch 70, Loss 0.0343\n",
      "Training Accuracy: 0.9601, Testing Accuracy: 0.9667\n",
      "\n"
     ]
    },
    {
     "name": "stdout",
     "output_type": "stream",
     "text": [
      "Epoch 80, Loss 0.0323\n",
      "Training Accuracy: 0.9619, Testing Accuracy: 0.9677\n",
      "\n"
     ]
    },
    {
     "name": "stdout",
     "output_type": "stream",
     "text": [
      "Epoch 90, Loss 0.0306\n",
      "Training Accuracy: 0.9640, Testing Accuracy: 0.9672\n",
      "\n"
     ]
    },
    {
     "name": "stdout",
     "output_type": "stream",
     "text": [
      "Epoch 100, Loss 0.0293\n",
      "Training Accuracy: 0.9658, Testing Accuracy: 0.9667\n",
      "\n"
     ]
    },
    {
     "name": "stdout",
     "output_type": "stream",
     "text": [
      "Epoch 110, Loss 0.0282\n",
      "Training Accuracy: 0.9673, Testing Accuracy: 0.9682\n",
      "\n"
     ]
    },
    {
     "name": "stdout",
     "output_type": "stream",
     "text": [
      "Epoch 120, Loss 0.0272\n",
      "Training Accuracy: 0.9685, Testing Accuracy: 0.9693\n",
      "\n"
     ]
    },
    {
     "name": "stdout",
     "output_type": "stream",
     "text": [
      "Epoch 130, Loss 0.0264\n",
      "Training Accuracy: 0.9699, Testing Accuracy: 0.9688\n",
      "\n"
     ]
    },
    {
     "name": "stdout",
     "output_type": "stream",
     "text": [
      "Epoch 140, Loss 0.0256\n",
      "Training Accuracy: 0.9704, Testing Accuracy: 0.9693\n",
      "\n"
     ]
    },
    {
     "name": "stdout",
     "output_type": "stream",
     "text": [
      "Epoch 150, Loss 0.0249\n",
      "Training Accuracy: 0.9711, Testing Accuracy: 0.9703\n",
      "\n"
     ]
    },
    {
     "name": "stdout",
     "output_type": "stream",
     "text": [
      "Epoch 160, Loss 0.0243\n",
      "Training Accuracy: 0.9718, Testing Accuracy: 0.9708\n",
      "\n"
     ]
    },
    {
     "name": "stdout",
     "output_type": "stream",
     "text": [
      "Epoch 170, Loss 0.0237\n",
      "Training Accuracy: 0.9724, Testing Accuracy: 0.9703\n",
      "\n"
     ]
    },
    {
     "name": "stdout",
     "output_type": "stream",
     "text": [
      "Epoch 180, Loss 0.0232\n",
      "Training Accuracy: 0.9728, Testing Accuracy: 0.9708\n",
      "\n"
     ]
    },
    {
     "name": "stdout",
     "output_type": "stream",
     "text": [
      "Epoch 190, Loss 0.0226\n",
      "Training Accuracy: 0.9732, Testing Accuracy: 0.9718\n",
      "\n"
     ]
    },
    {
     "name": "stdout",
     "output_type": "stream",
     "text": [
      "Epoch 200, Loss 0.0222\n",
      "Training Accuracy: 0.9739, Testing Accuracy: 0.9718\n",
      "\n"
     ]
    },
    {
     "name": "stdout",
     "output_type": "stream",
     "text": [
      "Epoch 210, Loss 0.0217\n",
      "Training Accuracy: 0.9746, Testing Accuracy: 0.9723\n",
      "\n"
     ]
    },
    {
     "name": "stdout",
     "output_type": "stream",
     "text": [
      "Epoch 220, Loss 0.0213\n",
      "Training Accuracy: 0.9752, Testing Accuracy: 0.9718\n",
      "\n"
     ]
    },
    {
     "name": "stdout",
     "output_type": "stream",
     "text": [
      "Epoch 230, Loss 0.0209\n",
      "Training Accuracy: 0.9760, Testing Accuracy: 0.9718\n",
      "\n"
     ]
    },
    {
     "name": "stdout",
     "output_type": "stream",
     "text": [
      "Epoch 240, Loss 0.0205\n",
      "Training Accuracy: 0.9765, Testing Accuracy: 0.9723\n",
      "\n"
     ]
    },
    {
     "data": {
      "text/plain": [
       "0.04336243988202575"
      ]
     },
     "execution_count": 22,
     "metadata": {},
     "output_type": "execute_result"
    }
   ],
   "source": [
    "nn_learner.train_loop(dl)"
   ]
  },
  {
   "cell_type": "code",
   "execution_count": 23,
   "id": "e0163366",
   "metadata": {
    "execution": {
     "iopub.execute_input": "2022-10-04T10:13:55.479555Z",
     "iopub.status.busy": "2022-10-04T10:13:55.478833Z",
     "iopub.status.idle": "2022-10-04T10:14:11.257815Z",
     "shell.execute_reply": "2022-10-04T10:14:11.258752Z"
    },
    "papermill": {
     "duration": 15.83375,
     "end_time": "2022-10-04T10:14:11.258907",
     "exception": false,
     "start_time": "2022-10-04T10:13:55.425157",
     "status": "completed"
    },
    "tags": []
   },
   "outputs": [
    {
     "name": "stdout",
     "output_type": "stream",
     "text": [
      "Epoch 0, Loss 0.2623\n",
      "Training Accuracy: 0.6012, Testing Accuracy: 0.6250\n",
      "\n"
     ]
    },
    {
     "name": "stdout",
     "output_type": "stream",
     "text": [
      "Epoch 10, Loss 0.1041\n",
      "Training Accuracy: 0.9079, Testing Accuracy: 0.9224\n",
      "\n"
     ]
    },
    {
     "name": "stdout",
     "output_type": "stream",
     "text": [
      "Epoch 20, Loss 0.0794\n",
      "Training Accuracy: 0.9262, Testing Accuracy: 0.9370\n",
      "\n"
     ]
    },
    {
     "name": "stdout",
     "output_type": "stream",
     "text": [
      "Epoch 30, Loss 0.0684\n",
      "Training Accuracy: 0.9362, Testing Accuracy: 0.9486\n",
      "\n"
     ]
    },
    {
     "name": "stdout",
     "output_type": "stream",
     "text": [
      "Epoch 40, Loss 0.0618\n",
      "Training Accuracy: 0.9406, Testing Accuracy: 0.9516\n",
      "\n"
     ]
    },
    {
     "name": "stdout",
     "output_type": "stream",
     "text": [
      "Epoch 50, Loss 0.0573\n",
      "Training Accuracy: 0.9436, Testing Accuracy: 0.9551\n",
      "\n"
     ]
    },
    {
     "name": "stdout",
     "output_type": "stream",
     "text": [
      "Epoch 60, Loss 0.054\n",
      "Training Accuracy: 0.9470, Testing Accuracy: 0.9567\n",
      "\n"
     ]
    },
    {
     "name": "stdout",
     "output_type": "stream",
     "text": [
      "Epoch 70, Loss 0.0514\n",
      "Training Accuracy: 0.9495, Testing Accuracy: 0.9567\n",
      "\n"
     ]
    },
    {
     "name": "stdout",
     "output_type": "stream",
     "text": [
      "Epoch 80, Loss 0.0493\n",
      "Training Accuracy: 0.9508, Testing Accuracy: 0.9587\n",
      "\n"
     ]
    },
    {
     "name": "stdout",
     "output_type": "stream",
     "text": [
      "Epoch 90, Loss 0.0477\n",
      "Training Accuracy: 0.9523, Testing Accuracy: 0.9602\n",
      "\n"
     ]
    },
    {
     "name": "stdout",
     "output_type": "stream",
     "text": [
      "Epoch 100, Loss 0.0462\n",
      "Training Accuracy: 0.9530, Testing Accuracy: 0.9617\n",
      "\n"
     ]
    },
    {
     "name": "stdout",
     "output_type": "stream",
     "text": [
      "Epoch 110, Loss 0.045\n",
      "Training Accuracy: 0.9539, Testing Accuracy: 0.9632\n",
      "\n"
     ]
    },
    {
     "name": "stdout",
     "output_type": "stream",
     "text": [
      "Epoch 120, Loss 0.0439\n",
      "Training Accuracy: 0.9546, Testing Accuracy: 0.9642\n",
      "\n"
     ]
    },
    {
     "name": "stdout",
     "output_type": "stream",
     "text": [
      "Epoch 130, Loss 0.043\n",
      "Training Accuracy: 0.9553, Testing Accuracy: 0.9657\n",
      "\n"
     ]
    },
    {
     "name": "stdout",
     "output_type": "stream",
     "text": [
      "Epoch 140, Loss 0.0422\n",
      "Training Accuracy: 0.9558, Testing Accuracy: 0.9662\n",
      "\n"
     ]
    },
    {
     "name": "stdout",
     "output_type": "stream",
     "text": [
      "Epoch 150, Loss 0.0414\n",
      "Training Accuracy: 0.9566, Testing Accuracy: 0.9667\n",
      "\n"
     ]
    },
    {
     "name": "stdout",
     "output_type": "stream",
     "text": [
      "Epoch 160, Loss 0.0407\n",
      "Training Accuracy: 0.9571, Testing Accuracy: 0.9672\n",
      "\n"
     ]
    },
    {
     "name": "stdout",
     "output_type": "stream",
     "text": [
      "Epoch 170, Loss 0.0401\n",
      "Training Accuracy: 0.9574, Testing Accuracy: 0.9672\n",
      "\n"
     ]
    },
    {
     "name": "stdout",
     "output_type": "stream",
     "text": [
      "Epoch 180, Loss 0.0396\n",
      "Training Accuracy: 0.9581, Testing Accuracy: 0.9667\n",
      "\n"
     ]
    },
    {
     "name": "stdout",
     "output_type": "stream",
     "text": [
      "Epoch 190, Loss 0.039\n",
      "Training Accuracy: 0.9589, Testing Accuracy: 0.9667\n",
      "\n"
     ]
    },
    {
     "name": "stdout",
     "output_type": "stream",
     "text": [
      "Epoch 200, Loss 0.0386\n",
      "Training Accuracy: 0.9594, Testing Accuracy: 0.9667\n",
      "\n"
     ]
    },
    {
     "name": "stdout",
     "output_type": "stream",
     "text": [
      "Epoch 210, Loss 0.0381\n",
      "Training Accuracy: 0.9595, Testing Accuracy: 0.9672\n",
      "\n"
     ]
    },
    {
     "name": "stdout",
     "output_type": "stream",
     "text": [
      "Epoch 220, Loss 0.0377\n",
      "Training Accuracy: 0.9602, Testing Accuracy: 0.9672\n",
      "\n"
     ]
    },
    {
     "name": "stdout",
     "output_type": "stream",
     "text": [
      "Epoch 230, Loss 0.0373\n",
      "Training Accuracy: 0.9604, Testing Accuracy: 0.9677\n",
      "\n"
     ]
    },
    {
     "name": "stdout",
     "output_type": "stream",
     "text": [
      "Epoch 240, Loss 0.0369\n",
      "Training Accuracy: 0.9606, Testing Accuracy: 0.9672\n",
      "\n"
     ]
    },
    {
     "data": {
      "text/plain": [
       "0.030340341726662917"
      ]
     },
     "execution_count": 23,
     "metadata": {},
     "output_type": "execute_result"
    }
   ],
   "source": [
    "lr_learner.train_loop(dl)"
   ]
  },
  {
   "cell_type": "code",
   "execution_count": 24,
   "id": "ca410940",
   "metadata": {
    "execution": {
     "iopub.execute_input": "2022-10-04T10:14:11.362634Z",
     "iopub.status.busy": "2022-10-04T10:14:11.361892Z",
     "iopub.status.idle": "2022-10-04T10:14:11.638031Z",
     "shell.execute_reply": "2022-10-04T10:14:11.636888Z"
    },
    "papermill": {
     "duration": 0.332957,
     "end_time": "2022-10-04T10:14:11.638180",
     "exception": false,
     "start_time": "2022-10-04T10:14:11.305223",
     "status": "completed"
    },
    "tags": []
   },
   "outputs": [
    {
     "data": {
      "text/plain": [
       "<matplotlib.legend.Legend at 0x7fdb25ecc2b0>"
      ]
     },
     "execution_count": 24,
     "metadata": {},
     "output_type": "execute_result"
    },
    {
     "data": {
      "image/png": "[encoded data removed]",
      "text/plain": [
       "<Figure size 1080x720 with 1 Axes>"
      ]
     },
     "metadata": {
      "needs_background": "light"
     },
     "output_type": "display_data"
    }
   ],
   "source": [
    "#comparing the results of NN and LR\n",
    "plt.figure(figsize=(15,10))\n",
    "\n",
    "# Neural Network plots\n",
    "plt.plot(acc_nn.accuracies, 'r-', label = \"Training Accuracies - NN\")\n",
    "plt.plot(acc_nn.test_accuracies, 'g-', label = \"Testing Accuracies - NN\")\n",
    "\n",
    "# Logistic Regression plots\n",
    "plt.plot(acc_lr.accuracies, 'k-', label = \"Training Accuracies - LR\")\n",
    "plt.plot(acc_lr.test_accuracies, 'b-', label = \"Testing Accuracies - LR\")\n",
    "plt.legend()"
   ]
  },
  {
   "cell_type": "markdown",
   "id": "80dfb35c",
   "metadata": {
    "papermill": {
     "duration": 0.048074,
     "end_time": "2022-10-04T10:14:11.736264",
     "exception": false,
     "start_time": "2022-10-04T10:14:11.688190",
     "status": "completed"
    },
    "tags": []
   },
   "source": [
    "#### Plotting the outputs of this layer of the NN.\n"
   ]
  },
  {
   "cell_type": "code",
   "execution_count": 25,
   "id": "45eb2ff5",
   "metadata": {
    "execution": {
     "iopub.execute_input": "2022-10-04T10:14:11.845287Z",
     "iopub.status.busy": "2022-10-04T10:14:11.843993Z",
     "iopub.status.idle": "2022-10-04T10:14:11.864005Z",
     "shell.execute_reply": "2022-10-04T10:14:11.864567Z"
    },
    "papermill": {
     "duration": 0.080269,
     "end_time": "2022-10-04T10:14:11.864730",
     "exception": false,
     "start_time": "2022-10-04T10:14:11.784461",
     "status": "completed"
    },
    "tags": []
   },
   "outputs": [],
   "source": [
    "new_model = Model(layers[:-2])\n",
    "testing_plot = new_model(testing_data_x)"
   ]
  },
  {
   "cell_type": "code",
   "execution_count": 26,
   "id": "4c0a5485",
   "metadata": {
    "execution": {
     "iopub.execute_input": "2022-10-04T10:14:11.971682Z",
     "iopub.status.busy": "2022-10-04T10:14:11.967731Z",
     "iopub.status.idle": "2022-10-04T10:14:12.221889Z",
     "shell.execute_reply": "2022-10-04T10:14:12.222438Z"
    },
    "papermill": {
     "duration": 0.309327,
     "end_time": "2022-10-04T10:14:12.222584",
     "exception": false,
     "start_time": "2022-10-04T10:14:11.913257",
     "status": "completed"
    },
    "tags": []
   },
   "outputs": [
    {
     "data": {
      "text/plain": [
       "Text(0.5, 1.0, 'Outputs')"
      ]
     },
     "execution_count": 26,
     "metadata": {},
     "output_type": "execute_result"
    },
    {
     "data": {
      "image/png": "[encoded data removed]",
      "text/plain": [
       "<Figure size 576x504 with 1 Axes>"
      ]
     },
     "metadata": {
      "needs_background": "light"
     },
     "output_type": "display_data"
    }
   ],
   "source": [
    "# Plotting the scatter plot of points and color coding by class\n",
    "plt.figure(figsize=(8,7))\n",
    "plt.scatter(testing_plot[:,0], testing_plot[:,1], alpha = 0.1, c = y_test.ravel());\n",
    "plt.title('Outputs')"
   ]
  },
  {
   "cell_type": "markdown",
   "id": "a74fcf8f",
   "metadata": {
    "papermill": {
     "duration": 0.05136,
     "end_time": "2022-10-04T10:14:12.326451",
     "exception": false,
     "start_time": "2022-10-04T10:14:12.275091",
     "status": "completed"
    },
    "tags": []
   },
   "source": [
    "Probability contours"
   ]
  },
  {
   "cell_type": "code",
   "execution_count": 27,
   "id": "d0afc8e3",
   "metadata": {
    "execution": {
     "iopub.execute_input": "2022-10-04T10:14:12.476344Z",
     "iopub.status.busy": "2022-10-04T10:14:12.475635Z",
     "iopub.status.idle": "2022-10-04T10:14:12.487792Z",
     "shell.execute_reply": "2022-10-04T10:14:12.488281Z"
    },
    "papermill": {
     "duration": 0.072488,
     "end_time": "2022-10-04T10:14:12.488431",
     "exception": false,
     "start_time": "2022-10-04T10:14:12.415943",
     "status": "completed"
    },
    "tags": []
   },
   "outputs": [],
   "source": [
    "model_prob = Model(layers[-2:]) "
   ]
  },
  {
   "cell_type": "code",
   "execution_count": 28,
   "id": "9b96e238",
   "metadata": {
    "execution": {
     "iopub.execute_input": "2022-10-04T10:14:12.598020Z",
     "iopub.status.busy": "2022-10-04T10:14:12.597226Z",
     "iopub.status.idle": "2022-10-04T10:14:12.613025Z",
     "shell.execute_reply": "2022-10-04T10:14:12.613515Z"
    },
    "papermill": {
     "duration": 0.074984,
     "end_time": "2022-10-04T10:14:12.613704",
     "exception": false,
     "start_time": "2022-10-04T10:14:12.538720",
     "status": "completed"
    },
    "tags": []
   },
   "outputs": [],
   "source": [
    "#creating the x and y ranges according to the above generated plot.\n",
    "x_range = np.linspace(-4, 1, 100) \n",
    "y_range = np.linspace(-6, 6, 100) \n",
    "x_grid, y_grid = np.meshgrid(x_range, y_range) # x_grid and y_grig are of size 100 X 100\n",
    "\n",
    "# converting x_grid and y_grid to continuous arrays\n",
    "x_gridflat = np.ravel(x_grid)\n",
    "y_gridflat = np.ravel(y_grid)\n",
    "\n",
    "# The last layer of the current model takes two columns as input. Hence transpose of np.vstack() is required.\n",
    "X = np.vstack((x_gridflat, y_gridflat)).T\n",
    "\n",
    "prob_contour = model_prob(X).reshape(100,100) "
   ]
  },
  {
   "cell_type": "code",
   "execution_count": 29,
   "id": "da72499a",
   "metadata": {
    "execution": {
     "iopub.execute_input": "2022-10-04T10:14:12.739181Z",
     "iopub.status.busy": "2022-10-04T10:14:12.738415Z",
     "iopub.status.idle": "2022-10-04T10:14:13.021638Z",
     "shell.execute_reply": "2022-10-04T10:14:13.022155Z"
    },
    "papermill": {
     "duration": 0.351669,
     "end_time": "2022-10-04T10:14:13.022328",
     "exception": false,
     "start_time": "2022-10-04T10:14:12.670659",
     "status": "completed"
    },
    "tags": []
   },
   "outputs": [
    {
     "data": {
      "image/png": "[encoded data removed]",
      "text/plain": [
       "<Figure size 720x648 with 1 Axes>"
      ]
     },
     "metadata": {
      "needs_background": "light"
     },
     "output_type": "display_data"
    }
   ],
   "source": [
    "plt.figure(figsize=(10,9))\n",
    "plt.scatter(testing_plot[:,0], testing_plot[:,1], alpha = 0.1, c = y_test.ravel())\n",
    "contours = plt.contour(x_grid,y_grid,prob_contour)\n",
    "plt.title('Probability Contours')\n",
    "plt.clabel(contours, inline = True );"
   ]
  },
  {
   "cell_type": "code",
   "execution_count": null,
   "id": "e81b4ac7",
   "metadata": {
    "papermill": {
     "duration": 0.056233,
     "end_time": "2022-10-04T10:14:13.135174",
     "exception": false,
     "start_time": "2022-10-04T10:14:13.078941",
     "status": "completed"
    },
    "tags": []
   },
   "outputs": [],
   "source": []
  }
 ],
 "metadata": {
  "kernelspec": {
   "display_name": "Python 3",
   "language": "python",
   "name": "python3"
  },
  "language_info": {
   "codemirror_mode": {
    "name": "ipython",
    "version": 3
   },
   "file_extension": ".py",
   "mimetype": "text/x-python",
   "name": "python",
   "nbconvert_exporter": "python",
   "pygments_lexer": "ipython3",
   "version": "3.6.15"
  },
  "papermill": {
   "default_parameters": {},
   "duration": 115.347105,
   "end_time": "2022-10-04T10:14:13.614714",
   "environment_variables": {},
   "exception": null,
   "input_path": "2020-08-11-part2.ipynb",
   "output_path": "2020-08-11-part2.ipynb",
   "parameters": {},
   "start_time": "2022-10-04T10:12:18.267609",
   "version": "2.3.3"
  }
 },
 "nbformat": 4,
 "nbformat_minor": 5
}