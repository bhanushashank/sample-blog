{
 "cells": [
  {
   "cell_type": "markdown",
   "id": "98380cd3",
   "metadata": {
    "papermill": {
     "duration": 0.034626,
     "end_time": "2021-10-09T00:21:02.108127",
     "exception": false,
     "start_time": "2021-10-09T00:21:02.073501",
     "status": "completed"
    },
    "tags": []
   },
   "source": [
    "# Distinguish Your Own Digits (DYOD)"
   ]
  },
  {
   "cell_type": "markdown",
   "id": "ef31240d",
   "metadata": {
    "papermill": {
     "duration": 0.029247,
     "end_time": "2021-10-09T00:21:02.166586",
     "exception": false,
     "start_time": "2021-10-09T00:21:02.137339",
     "status": "completed"
    },
    "tags": []
   },
   "source": [
    "You are going to write a classifier that distinguishes between the number 3 and number 8."
   ]
  },
  {
   "cell_type": "code",
   "execution_count": 1,
   "id": "b15c8646",
   "metadata": {
    "execution": {
     "iopub.execute_input": "2021-10-09T00:21:02.237330Z",
     "iopub.status.busy": "2021-10-09T00:21:02.236655Z",
     "iopub.status.idle": "2021-10-09T00:21:02.257009Z",
     "shell.execute_reply": "2021-10-09T00:21:02.257621Z"
    },
    "papermill": {
     "duration": 0.063711,
     "end_time": "2021-10-09T00:21:02.257805",
     "exception": false,
     "start_time": "2021-10-09T00:21:02.194094",
     "status": "completed"
    },
    "tags": []
   },
   "outputs": [],
   "source": [
    "%load_ext autoreload\n",
    "%autoreload 2"
   ]
  },
  {
   "cell_type": "code",
   "execution_count": 2,
   "id": "22ef38dc",
   "metadata": {
    "execution": {
     "iopub.execute_input": "2021-10-09T00:21:02.319180Z",
     "iopub.status.busy": "2021-10-09T00:21:02.318577Z",
     "iopub.status.idle": "2021-10-09T00:21:02.928583Z",
     "shell.execute_reply": "2021-10-09T00:21:02.927700Z"
    },
    "papermill": {
     "duration": 0.643052,
     "end_time": "2021-10-09T00:21:02.928834",
     "exception": false,
     "start_time": "2021-10-09T00:21:02.285782",
     "status": "completed"
    },
    "tags": []
   },
   "outputs": [],
   "source": [
    "%matplotlib inline\n",
    "import numpy as np\n",
    "import matplotlib.pyplot as plt\n",
    "import pandas as pd"
   ]
  },
  {
   "cell_type": "markdown",
   "id": "ba036198",
   "metadata": {
    "papermill": {
     "duration": 0.029632,
     "end_time": "2021-10-09T00:21:02.988679",
     "exception": false,
     "start_time": "2021-10-09T00:21:02.959047",
     "status": "completed"
    },
    "tags": []
   },
   "source": [
    "From the command line run `pip install mnist`. This is a library that will help you bring down the mnist dataset. If you run this from a notebook, you need to put  `!pip install mnist` in a cell by itself."
   ]
  },
  {
   "cell_type": "code",
   "execution_count": 3,
   "id": "bb6ad8a1",
   "metadata": {
    "execution": {
     "iopub.execute_input": "2021-10-09T00:21:03.050348Z",
     "iopub.status.busy": "2021-10-09T00:21:03.049730Z",
     "iopub.status.idle": "2021-10-09T00:21:05.849036Z",
     "shell.execute_reply": "2021-10-09T00:21:05.846844Z"
    },
    "papermill": {
     "duration": 2.833737,
     "end_time": "2021-10-09T00:21:05.849275",
     "exception": false,
     "start_time": "2021-10-09T00:21:03.015538",
     "status": "completed"
    },
    "tags": []
   },
   "outputs": [
    {
     "name": "stdout",
     "output_type": "stream",
     "text": [
      "Collecting mnist\r\n"
     ]
    },
    {
     "name": "stdout",
     "output_type": "stream",
     "text": [
      "  Downloading mnist-0.2.2-py2.py3-none-any.whl (3.5 kB)\r\n"
     ]
    },
    {
     "name": "stdout",
     "output_type": "stream",
     "text": [
      "Requirement already satisfied: numpy in /opt/hostedtoolcache/Python/3.6.15/x64/lib/python3.6/site-packages (from mnist) (1.19.5)\r\n"
     ]
    },
    {
     "name": "stdout",
     "output_type": "stream",
     "text": [
      "Installing collected packages: mnist\r\n",
      "Successfully installed mnist-0.2.2\r\n"
     ]
    }
   ],
   "source": [
    "!pip install mnist"
   ]
  },
  {
   "cell_type": "markdown",
   "id": "69df9c9a",
   "metadata": {
    "papermill": {
     "duration": 0.028953,
     "end_time": "2021-10-09T00:21:05.915392",
     "exception": false,
     "start_time": "2021-10-09T00:21:05.886439",
     "status": "completed"
    },
    "tags": []
   },
   "source": [
    "## Preparing the Data"
   ]
  },
  {
   "cell_type": "code",
   "execution_count": 4,
   "id": "7f69d806",
   "metadata": {
    "execution": {
     "iopub.execute_input": "2021-10-09T00:21:05.982077Z",
     "iopub.status.busy": "2021-10-09T00:21:05.981047Z",
     "iopub.status.idle": "2021-10-09T00:21:05.997632Z",
     "shell.execute_reply": "2021-10-09T00:21:05.997091Z"
    },
    "papermill": {
     "duration": 0.050631,
     "end_time": "2021-10-09T00:21:05.997777",
     "exception": false,
     "start_time": "2021-10-09T00:21:05.947146",
     "status": "completed"
    },
    "tags": []
   },
   "outputs": [],
   "source": [
    "import mnist"
   ]
  },
  {
   "cell_type": "code",
   "execution_count": 5,
   "id": "a411e44f",
   "metadata": {
    "execution": {
     "iopub.execute_input": "2021-10-09T00:21:06.062923Z",
     "iopub.status.busy": "2021-10-09T00:21:06.062310Z",
     "iopub.status.idle": "2021-10-09T00:21:06.779779Z",
     "shell.execute_reply": "2021-10-09T00:21:06.780930Z"
    },
    "papermill": {
     "duration": 0.753818,
     "end_time": "2021-10-09T00:21:06.781172",
     "exception": false,
     "start_time": "2021-10-09T00:21:06.027354",
     "status": "completed"
    },
    "tags": []
   },
   "outputs": [],
   "source": [
    "train_images = mnist.train_images()\n",
    "train_labels = mnist.train_labels()"
   ]
  },
  {
   "cell_type": "code",
   "execution_count": 6,
   "id": "dceab3a5",
   "metadata": {
    "execution": {
     "iopub.execute_input": "2021-10-09T00:21:06.849421Z",
     "iopub.status.busy": "2021-10-09T00:21:06.848782Z",
     "iopub.status.idle": "2021-10-09T00:21:06.868373Z",
     "shell.execute_reply": "2021-10-09T00:21:06.867822Z"
    },
    "papermill": {
     "duration": 0.053219,
     "end_time": "2021-10-09T00:21:06.868507",
     "exception": false,
     "start_time": "2021-10-09T00:21:06.815288",
     "status": "completed"
    },
    "tags": []
   },
   "outputs": [
    {
     "data": {
      "text/plain": [
       "((60000, 28, 28), (60000,))"
      ]
     },
     "execution_count": 6,
     "metadata": {},
     "output_type": "execute_result"
    }
   ],
   "source": [
    "train_images.shape, train_labels.shape"
   ]
  },
  {
   "cell_type": "code",
   "execution_count": 7,
   "id": "f50dc2bb",
   "metadata": {
    "execution": {
     "iopub.execute_input": "2021-10-09T00:21:06.931997Z",
     "iopub.status.busy": "2021-10-09T00:21:06.931400Z",
     "iopub.status.idle": "2021-10-09T00:21:07.123057Z",
     "shell.execute_reply": "2021-10-09T00:21:07.123890Z"
    },
    "papermill": {
     "duration": 0.22622,
     "end_time": "2021-10-09T00:21:07.124149",
     "exception": false,
     "start_time": "2021-10-09T00:21:06.897929",
     "status": "completed"
    },
    "tags": []
   },
   "outputs": [],
   "source": [
    "test_images = mnist.test_images()\n",
    "test_labels = mnist.test_labels()"
   ]
  },
  {
   "cell_type": "code",
   "execution_count": 8,
   "id": "fc38cf1b",
   "metadata": {
    "execution": {
     "iopub.execute_input": "2021-10-09T00:21:07.194105Z",
     "iopub.status.busy": "2021-10-09T00:21:07.193480Z",
     "iopub.status.idle": "2021-10-09T00:21:07.204964Z",
     "shell.execute_reply": "2021-10-09T00:21:07.205864Z"
    },
    "papermill": {
     "duration": 0.050867,
     "end_time": "2021-10-09T00:21:07.206087",
     "exception": false,
     "start_time": "2021-10-09T00:21:07.155220",
     "status": "completed"
    },
    "tags": []
   },
   "outputs": [
    {
     "data": {
      "text/plain": [
       "((10000, 28, 28), (10000,))"
      ]
     },
     "execution_count": 8,
     "metadata": {},
     "output_type": "execute_result"
    }
   ],
   "source": [
    "test_images.shape, test_labels.shape"
   ]
  },
  {
   "cell_type": "code",
   "execution_count": 9,
   "id": "f9ed8fe0",
   "metadata": {
    "execution": {
     "iopub.execute_input": "2021-10-09T00:21:07.271930Z",
     "iopub.status.busy": "2021-10-09T00:21:07.271331Z",
     "iopub.status.idle": "2021-10-09T00:21:07.437066Z",
     "shell.execute_reply": "2021-10-09T00:21:07.437733Z"
    },
    "papermill": {
     "duration": 0.200678,
     "end_time": "2021-10-09T00:21:07.437933",
     "exception": false,
     "start_time": "2021-10-09T00:21:07.237255",
     "status": "completed"
    },
    "tags": []
   },
   "outputs": [
    {
     "name": "stdout",
     "output_type": "stream",
     "text": [
      "2\n"
     ]
    },
    {
     "data": {
      "text/plain": [
       "<matplotlib.image.AxesImage at 0x7f805db04828>"
      ]
     },
     "execution_count": 9,
     "metadata": {},
     "output_type": "execute_result"
    },
    {
     "data": {
      "image/png": "[encoded data removed]",
      "text/plain": [
       "<Figure size 432x288 with 1 Axes>"
      ]
     },
     "metadata": {
      "needs_background": "light"
     },
     "output_type": "display_data"
    }
   ],
   "source": [
    "image_index = 7776 # You may select anything up to 60,000\n",
    "print(train_labels[image_index]) \n",
    "plt.imshow(train_images[image_index], cmap='Greys')"
   ]
  },
  {
   "cell_type": "markdown",
   "id": "a8d2388d",
   "metadata": {
    "papermill": {
     "duration": 0.029723,
     "end_time": "2021-10-09T00:21:07.500496",
     "exception": false,
     "start_time": "2021-10-09T00:21:07.470773",
     "status": "completed"
    },
    "tags": []
   },
   "source": [
    "## Filter data to get 3 and 8 out"
   ]
  },
  {
   "cell_type": "code",
   "execution_count": 10,
   "id": "776f7fc7",
   "metadata": {
    "execution": {
     "iopub.execute_input": "2021-10-09T00:21:07.567651Z",
     "iopub.status.busy": "2021-10-09T00:21:07.566497Z",
     "iopub.status.idle": "2021-10-09T00:21:07.585619Z",
     "shell.execute_reply": "2021-10-09T00:21:07.584916Z"
    },
    "papermill": {
     "duration": 0.055293,
     "end_time": "2021-10-09T00:21:07.585754",
     "exception": false,
     "start_time": "2021-10-09T00:21:07.530461",
     "status": "completed"
    },
    "tags": []
   },
   "outputs": [],
   "source": [
    "train_filter = np.where((train_labels == 3 ) | (train_labels == 8))\n",
    "test_filter = np.where((test_labels == 3) | (test_labels == 8))\n",
    "X_train, y_train = train_images[train_filter], train_labels[train_filter]\n",
    "X_test, y_test = test_images[test_filter], test_labels[test_filter]"
   ]
  },
  {
   "cell_type": "markdown",
   "id": "948f0b7e",
   "metadata": {
    "papermill": {
     "duration": 0.029852,
     "end_time": "2021-10-09T00:21:07.646144",
     "exception": false,
     "start_time": "2021-10-09T00:21:07.616292",
     "status": "completed"
    },
    "tags": []
   },
   "source": [
    "We normalize the pizel values in the 0 to 1 range"
   ]
  },
  {
   "cell_type": "code",
   "execution_count": 11,
   "id": "ee4c2166",
   "metadata": {
    "execution": {
     "iopub.execute_input": "2021-10-09T00:21:07.710854Z",
     "iopub.status.busy": "2021-10-09T00:21:07.710247Z",
     "iopub.status.idle": "2021-10-09T00:21:07.766220Z",
     "shell.execute_reply": "2021-10-09T00:21:07.765648Z"
    },
    "papermill": {
     "duration": 0.090123,
     "end_time": "2021-10-09T00:21:07.766358",
     "exception": false,
     "start_time": "2021-10-09T00:21:07.676235",
     "status": "completed"
    },
    "tags": []
   },
   "outputs": [],
   "source": [
    "X_train = X_train/255.\n",
    "X_test = X_test/255."
   ]
  },
  {
   "cell_type": "markdown",
   "id": "ddcf4fab",
   "metadata": {
    "papermill": {
     "duration": 0.03036,
     "end_time": "2021-10-09T00:21:07.827477",
     "exception": false,
     "start_time": "2021-10-09T00:21:07.797117",
     "status": "completed"
    },
    "tags": []
   },
   "source": [
    "And setup the labels as 1 (when the digit is 3) and 0 (when the digit is 8)"
   ]
  },
  {
   "cell_type": "code",
   "execution_count": 12,
   "id": "7dc908f2",
   "metadata": {
    "execution": {
     "iopub.execute_input": "2021-10-09T00:21:07.893560Z",
     "iopub.status.busy": "2021-10-09T00:21:07.892461Z",
     "iopub.status.idle": "2021-10-09T00:21:07.909268Z",
     "shell.execute_reply": "2021-10-09T00:21:07.908735Z"
    },
    "papermill": {
     "duration": 0.051589,
     "end_time": "2021-10-09T00:21:07.909412",
     "exception": false,
     "start_time": "2021-10-09T00:21:07.857823",
     "status": "completed"
    },
    "tags": []
   },
   "outputs": [],
   "source": [
    "y_train = 1*(y_train==3)\n",
    "y_test = 1*(y_test==3)"
   ]
  },
  {
   "cell_type": "code",
   "execution_count": 13,
   "id": "01e4e969",
   "metadata": {
    "execution": {
     "iopub.execute_input": "2021-10-09T00:21:07.976379Z",
     "iopub.status.busy": "2021-10-09T00:21:07.975791Z",
     "iopub.status.idle": "2021-10-09T00:21:07.992748Z",
     "shell.execute_reply": "2021-10-09T00:21:07.992261Z"
    },
    "papermill": {
     "duration": 0.05158,
     "end_time": "2021-10-09T00:21:07.992914",
     "exception": false,
     "start_time": "2021-10-09T00:21:07.941334",
     "status": "completed"
    },
    "tags": []
   },
   "outputs": [
    {
     "data": {
      "text/plain": [
       "((11982, 28, 28), (1984, 28, 28))"
      ]
     },
     "execution_count": 13,
     "metadata": {},
     "output_type": "execute_result"
    }
   ],
   "source": [
    "X_train.shape, X_test.shape"
   ]
  },
  {
   "cell_type": "markdown",
   "id": "5ccf3f85",
   "metadata": {
    "papermill": {
     "duration": 0.030823,
     "end_time": "2021-10-09T00:21:08.055800",
     "exception": false,
     "start_time": "2021-10-09T00:21:08.024977",
     "status": "completed"
    },
    "tags": []
   },
   "source": [
    "We reshape the data to flatten the image pixels into a set of features or co-variates:"
   ]
  },
  {
   "cell_type": "code",
   "execution_count": 14,
   "id": "5286a4a3",
   "metadata": {
    "execution": {
     "iopub.execute_input": "2021-10-09T00:21:08.128987Z",
     "iopub.status.busy": "2021-10-09T00:21:08.128194Z",
     "iopub.status.idle": "2021-10-09T00:21:08.143287Z",
     "shell.execute_reply": "2021-10-09T00:21:08.142807Z"
    },
    "papermill": {
     "duration": 0.056246,
     "end_time": "2021-10-09T00:21:08.143417",
     "exception": false,
     "start_time": "2021-10-09T00:21:08.087171",
     "status": "completed"
    },
    "tags": []
   },
   "outputs": [
    {
     "data": {
      "text/plain": [
       "((11982, 784), (1984, 784))"
      ]
     },
     "execution_count": 14,
     "metadata": {},
     "output_type": "execute_result"
    }
   ],
   "source": [
    "X_train = X_train.reshape(X_train.shape[0], -1)\n",
    "X_test = X_test.reshape(X_test.shape[0], -1)\n",
    "X_train.shape, X_test.shape"
   ]
  },
  {
   "cell_type": "code",
   "execution_count": 15,
   "id": "73c5f88a",
   "metadata": {
    "execution": {
     "iopub.execute_input": "2021-10-09T00:21:08.214905Z",
     "iopub.status.busy": "2021-10-09T00:21:08.214296Z",
     "iopub.status.idle": "2021-10-09T00:21:08.234818Z",
     "shell.execute_reply": "2021-10-09T00:21:08.235327Z"
    },
    "papermill": {
     "duration": 0.057211,
     "end_time": "2021-10-09T00:21:08.235476",
     "exception": false,
     "start_time": "2021-10-09T00:21:08.178265",
     "status": "completed"
    },
    "tags": []
   },
   "outputs": [],
   "source": [
    "#Impoting functions from 'Kudzu'\n",
    "from kudzu.model import Model\n",
    "from kudzu.train import Learner\n",
    "from kudzu.optim import GD\n",
    "from kudzu.data import Data, Sampler,Dataloader\n",
    "\n",
    "from kudzu.callbacks import AccCallback\n",
    "from kudzu.callbacks import ClfCallback\n",
    "\n",
    "from kudzu.loss import MSE\n",
    "\n",
    "from kudzu.layer import Sigmoid,Relu\n",
    "from kudzu.layer import Affine"
   ]
  },
  {
   "cell_type": "markdown",
   "id": "bc01172a",
   "metadata": {
    "papermill": {
     "duration": 0.031669,
     "end_time": "2021-10-09T00:21:08.298351",
     "exception": false,
     "start_time": "2021-10-09T00:21:08.266682",
     "status": "completed"
    },
    "tags": []
   },
   "source": [
    "### Let us create a `Config` class, to store important parameters. \n",
    "This class essentially plays the role of a dictionary."
   ]
  },
  {
   "cell_type": "code",
   "execution_count": 16,
   "id": "978281aa",
   "metadata": {
    "execution": {
     "iopub.execute_input": "2021-10-09T00:21:08.365678Z",
     "iopub.status.busy": "2021-10-09T00:21:08.365063Z",
     "iopub.status.idle": "2021-10-09T00:21:08.381508Z",
     "shell.execute_reply": "2021-10-09T00:21:08.381002Z"
    },
    "papermill": {
     "duration": 0.051731,
     "end_time": "2021-10-09T00:21:08.381642",
     "exception": false,
     "start_time": "2021-10-09T00:21:08.329911",
     "status": "completed"
    },
    "tags": []
   },
   "outputs": [],
   "source": [
    "class Config:\n",
    "    pass\n",
    "config = Config()\n",
    "config.lr = 0.001\n",
    "config.num_epochs = 250\n",
    "config.bs = 50"
   ]
  },
  {
   "cell_type": "markdown",
   "id": "1385fa59",
   "metadata": {
    "papermill": {
     "duration": 0.030562,
     "end_time": "2021-10-09T00:21:08.443996",
     "exception": false,
     "start_time": "2021-10-09T00:21:08.413434",
     "status": "completed"
    },
    "tags": []
   },
   "source": [
    "### Running Models with the Training data\n",
    "Details about the network layers:\n",
    "- A first affine layer has 784 inputs and does 100 affine transforms. These are followed by a Relu\n",
    "- A second affine layer has 100 inputs from the 100 activations of the past layer, and does 100 affine transforms. These are followed by a Relu\n",
    "- A third affine layer has 100 activations and does 2 affine transformations to create an embedding for visualization. There is no non-linearity here.\n",
    "- A final \"logistic regression\" which has an affine transform from 2 inputs to 1 output, which is squeezed through a sigmoid.\n"
   ]
  },
  {
   "cell_type": "code",
   "execution_count": 17,
   "id": "2b9c66db",
   "metadata": {
    "execution": {
     "iopub.execute_input": "2021-10-09T00:21:08.515008Z",
     "iopub.status.busy": "2021-10-09T00:21:08.514171Z",
     "iopub.status.idle": "2021-10-09T00:21:08.531178Z",
     "shell.execute_reply": "2021-10-09T00:21:08.531644Z"
    },
    "papermill": {
     "duration": 0.055798,
     "end_time": "2021-10-09T00:21:08.531789",
     "exception": false,
     "start_time": "2021-10-09T00:21:08.475991",
     "status": "completed"
    },
    "tags": []
   },
   "outputs": [],
   "source": [
    "data = Data(X_train, y_train.reshape(-1,1))\n",
    "sampler = Sampler(data, config.bs, shuffle=True)\n",
    "\n",
    "dl = Dataloader(data, sampler)\n",
    "\n",
    "opt = GD(config.lr)\n",
    "loss = MSE()"
   ]
  },
  {
   "cell_type": "code",
   "execution_count": 18,
   "id": "b275e4c2",
   "metadata": {
    "execution": {
     "iopub.execute_input": "2021-10-09T00:21:08.602881Z",
     "iopub.status.busy": "2021-10-09T00:21:08.602266Z",
     "iopub.status.idle": "2021-10-09T00:21:08.619040Z",
     "shell.execute_reply": "2021-10-09T00:21:08.618205Z"
    },
    "papermill": {
     "duration": 0.056684,
     "end_time": "2021-10-09T00:21:08.619172",
     "exception": false,
     "start_time": "2021-10-09T00:21:08.562488",
     "status": "completed"
    },
    "tags": []
   },
   "outputs": [],
   "source": [
    "training_data_x = X_train\n",
    "testing_data_x = X_test\n",
    "training_data_y = y_train.reshape(-1,1)\n",
    "testing_data_y = y_test.reshape(-1,1)"
   ]
  },
  {
   "cell_type": "code",
   "execution_count": 19,
   "id": "76951160",
   "metadata": {
    "execution": {
     "iopub.execute_input": "2021-10-09T00:21:08.686514Z",
     "iopub.status.busy": "2021-10-09T00:21:08.685955Z",
     "iopub.status.idle": "2021-10-09T00:21:08.705157Z",
     "shell.execute_reply": "2021-10-09T00:21:08.705616Z"
    },
    "papermill": {
     "duration": 0.056051,
     "end_time": "2021-10-09T00:21:08.705769",
     "exception": false,
     "start_time": "2021-10-09T00:21:08.649718",
     "status": "completed"
    },
    "tags": []
   },
   "outputs": [
    {
     "name": "stdout",
     "output_type": "stream",
     "text": [
      "xavier\n",
      "xavier\n",
      "xavier\n",
      "xavier\n",
      "xavier\n"
     ]
    }
   ],
   "source": [
    "layers = [Affine(\"first\", 784, 100), Relu(\"first\"), Affine(\"second\", 100, 100), Relu(\"second\"), Affine(\"third\", 100, 2), Affine(\"last\", 2, 1), Sigmoid(\"last\")]\n",
    "model_nn = Model(layers)\n",
    "model_lr = Model([Affine(\"logits\", 784, 1), Sigmoid(\"sigmoid\")])"
   ]
  },
  {
   "cell_type": "code",
   "execution_count": 20,
   "id": "6eede77a",
   "metadata": {
    "execution": {
     "iopub.execute_input": "2021-10-09T00:21:08.773074Z",
     "iopub.status.busy": "2021-10-09T00:21:08.772472Z",
     "iopub.status.idle": "2021-10-09T00:21:08.784992Z",
     "shell.execute_reply": "2021-10-09T00:21:08.785512Z"
    },
    "papermill": {
     "duration": 0.047839,
     "end_time": "2021-10-09T00:21:08.785654",
     "exception": false,
     "start_time": "2021-10-09T00:21:08.737815",
     "status": "completed"
    },
    "tags": []
   },
   "outputs": [],
   "source": [
    "nn_learner = Learner(loss, model_nn, opt, config.num_epochs)\n",
    "acc_nn = ClfCallback(nn_learner, config.bs, training_data_x , testing_data_x, training_data_y, testing_data_y)\n",
    "nn_learner.set_callbacks([acc_nn])"
   ]
  },
  {
   "cell_type": "code",
   "execution_count": 21,
   "id": "877b6cc7",
   "metadata": {
    "execution": {
     "iopub.execute_input": "2021-10-09T00:21:08.852843Z",
     "iopub.status.busy": "2021-10-09T00:21:08.852200Z",
     "iopub.status.idle": "2021-10-09T00:21:08.866312Z",
     "shell.execute_reply": "2021-10-09T00:21:08.866822Z"
    },
    "papermill": {
     "duration": 0.051173,
     "end_time": "2021-10-09T00:21:08.866974",
     "exception": false,
     "start_time": "2021-10-09T00:21:08.815801",
     "status": "completed"
    },
    "tags": []
   },
   "outputs": [],
   "source": [
    "lr_learner = Learner(loss, model_lr, opt, config.num_epochs)\n",
    "acc_lr = ClfCallback(lr_learner, config.bs, training_data_x , testing_data_x, training_data_y, testing_data_y)\n",
    "lr_learner.set_callbacks([acc_lr])"
   ]
  },
  {
   "cell_type": "code",
   "execution_count": 22,
   "id": "d9b133c3",
   "metadata": {
    "execution": {
     "iopub.execute_input": "2021-10-09T00:21:08.935778Z",
     "iopub.status.busy": "2021-10-09T00:21:08.935180Z",
     "iopub.status.idle": "2021-10-09T00:22:39.816763Z",
     "shell.execute_reply": "2021-10-09T00:22:39.817649Z"
    },
    "papermill": {
     "duration": 90.919046,
     "end_time": "2021-10-09T00:22:39.817814",
     "exception": false,
     "start_time": "2021-10-09T00:21:08.898768",
     "status": "completed"
    },
    "tags": []
   },
   "outputs": [
    {
     "name": "stdout",
     "output_type": "stream",
     "text": [
      "Epoch 0, Loss 0.232\n",
      "Training Accuracy: 0.7234, Testing Accuracy: 0.7324\n",
      "\n"
     ]
    },
    {
     "name": "stdout",
     "output_type": "stream",
     "text": [
      "Epoch 10, Loss 0.0902\n",
      "Training Accuracy: 0.9106, Testing Accuracy: 0.9234\n",
      "\n"
     ]
    },
    {
     "name": "stdout",
     "output_type": "stream",
     "text": [
      "Epoch 20, Loss 0.057\n",
      "Training Accuracy: 0.9394, Testing Accuracy: 0.9481\n",
      "\n"
     ]
    },
    {
     "name": "stdout",
     "output_type": "stream",
     "text": [
      "Epoch 30, Loss 0.045\n",
      "Training Accuracy: 0.9501, Testing Accuracy: 0.9627\n",
      "\n"
     ]
    },
    {
     "name": "stdout",
     "output_type": "stream",
     "text": [
      "Epoch 40, Loss 0.039\n",
      "Training Accuracy: 0.9548, Testing Accuracy: 0.9642\n",
      "\n"
     ]
    },
    {
     "name": "stdout",
     "output_type": "stream",
     "text": [
      "Epoch 50, Loss 0.0354\n",
      "Training Accuracy: 0.9604, Testing Accuracy: 0.9688\n",
      "\n"
     ]
    },
    {
     "name": "stdout",
     "output_type": "stream",
     "text": [
      "Epoch 60, Loss 0.033\n",
      "Training Accuracy: 0.9624, Testing Accuracy: 0.9688\n",
      "\n"
     ]
    },
    {
     "name": "stdout",
     "output_type": "stream",
     "text": [
      "Epoch 70, Loss 0.0311\n",
      "Training Accuracy: 0.9636, Testing Accuracy: 0.9688\n",
      "\n"
     ]
    },
    {
     "name": "stdout",
     "output_type": "stream",
     "text": [
      "Epoch 80, Loss 0.0297\n",
      "Training Accuracy: 0.9659, Testing Accuracy: 0.9688\n",
      "\n"
     ]
    },
    {
     "name": "stdout",
     "output_type": "stream",
     "text": [
      "Epoch 90, Loss 0.0285\n",
      "Training Accuracy: 0.9673, Testing Accuracy: 0.9688\n",
      "\n"
     ]
    },
    {
     "name": "stdout",
     "output_type": "stream",
     "text": [
      "Epoch 100, Loss 0.0274\n",
      "Training Accuracy: 0.9683, Testing Accuracy: 0.9698\n",
      "\n"
     ]
    },
    {
     "name": "stdout",
     "output_type": "stream",
     "text": [
      "Epoch 110, Loss 0.0266\n",
      "Training Accuracy: 0.9688, Testing Accuracy: 0.9703\n",
      "\n"
     ]
    },
    {
     "name": "stdout",
     "output_type": "stream",
     "text": [
      "Epoch 120, Loss 0.0258\n",
      "Training Accuracy: 0.9700, Testing Accuracy: 0.9713\n",
      "\n"
     ]
    },
    {
     "name": "stdout",
     "output_type": "stream",
     "text": [
      "Epoch 130, Loss 0.025\n",
      "Training Accuracy: 0.9711, Testing Accuracy: 0.9708\n",
      "\n"
     ]
    },
    {
     "name": "stdout",
     "output_type": "stream",
     "text": [
      "Epoch 140, Loss 0.0244\n",
      "Training Accuracy: 0.9718, Testing Accuracy: 0.9708\n",
      "\n"
     ]
    },
    {
     "name": "stdout",
     "output_type": "stream",
     "text": [
      "Epoch 150, Loss 0.0238\n",
      "Training Accuracy: 0.9729, Testing Accuracy: 0.9713\n",
      "\n"
     ]
    },
    {
     "name": "stdout",
     "output_type": "stream",
     "text": [
      "Epoch 160, Loss 0.0232\n",
      "Training Accuracy: 0.9732, Testing Accuracy: 0.9718\n",
      "\n"
     ]
    },
    {
     "name": "stdout",
     "output_type": "stream",
     "text": [
      "Epoch 170, Loss 0.0226\n",
      "Training Accuracy: 0.9737, Testing Accuracy: 0.9718\n",
      "\n"
     ]
    },
    {
     "name": "stdout",
     "output_type": "stream",
     "text": [
      "Epoch 180, Loss 0.0221\n",
      "Training Accuracy: 0.9744, Testing Accuracy: 0.9723\n",
      "\n"
     ]
    },
    {
     "name": "stdout",
     "output_type": "stream",
     "text": [
      "Epoch 190, Loss 0.0216\n",
      "Training Accuracy: 0.9750, Testing Accuracy: 0.9728\n",
      "\n"
     ]
    },
    {
     "name": "stdout",
     "output_type": "stream",
     "text": [
      "Epoch 200, Loss 0.0212\n",
      "Training Accuracy: 0.9753, Testing Accuracy: 0.9728\n",
      "\n"
     ]
    },
    {
     "name": "stdout",
     "output_type": "stream",
     "text": [
      "Epoch 210, Loss 0.0207\n",
      "Training Accuracy: 0.9760, Testing Accuracy: 0.9733\n",
      "\n"
     ]
    },
    {
     "name": "stdout",
     "output_type": "stream",
     "text": [
      "Epoch 220, Loss 0.0203\n",
      "Training Accuracy: 0.9770, Testing Accuracy: 0.9738\n",
      "\n"
     ]
    },
    {
     "name": "stdout",
     "output_type": "stream",
     "text": [
      "Epoch 230, Loss 0.0198\n",
      "Training Accuracy: 0.9779, Testing Accuracy: 0.9748\n",
      "\n"
     ]
    },
    {
     "name": "stdout",
     "output_type": "stream",
     "text": [
      "Epoch 240, Loss 0.0194\n",
      "Training Accuracy: 0.9784, Testing Accuracy: 0.9738\n",
      "\n"
     ]
    },
    {
     "data": {
      "text/plain": [
       "0.0022425832845064716"
      ]
     },
     "execution_count": 22,
     "metadata": {},
     "output_type": "execute_result"
    }
   ],
   "source": [
    "nn_learner.train_loop(dl)"
   ]
  },
  {
   "cell_type": "code",
   "execution_count": 23,
   "id": "e0163366",
   "metadata": {
    "execution": {
     "iopub.execute_input": "2021-10-09T00:22:39.918612Z",
     "iopub.status.busy": "2021-10-09T00:22:39.917951Z",
     "iopub.status.idle": "2021-10-09T00:22:56.487302Z",
     "shell.execute_reply": "2021-10-09T00:22:56.488193Z"
    },
    "papermill": {
     "duration": 16.627463,
     "end_time": "2021-10-09T00:22:56.488358",
     "exception": false,
     "start_time": "2021-10-09T00:22:39.860895",
     "status": "completed"
    },
    "tags": []
   },
   "outputs": [
    {
     "name": "stdout",
     "output_type": "stream",
     "text": [
      "Epoch 0, Loss 0.2524\n",
      "Training Accuracy: 0.6371, Testing Accuracy: 0.6497\n",
      "\n"
     ]
    },
    {
     "name": "stdout",
     "output_type": "stream",
     "text": [
      "Epoch 10, Loss 0.1077\n",
      "Training Accuracy: 0.8969, Testing Accuracy: 0.9047\n",
      "\n"
     ]
    },
    {
     "name": "stdout",
     "output_type": "stream",
     "text": [
      "Epoch 20, Loss 0.0823\n",
      "Training Accuracy: 0.9188, Testing Accuracy: 0.9299\n",
      "\n"
     ]
    },
    {
     "name": "stdout",
     "output_type": "stream",
     "text": [
      "Epoch 30, Loss 0.0705\n",
      "Training Accuracy: 0.9306, Testing Accuracy: 0.9420\n",
      "\n"
     ]
    },
    {
     "name": "stdout",
     "output_type": "stream",
     "text": [
      "Epoch 40, Loss 0.0635\n",
      "Training Accuracy: 0.9380, Testing Accuracy: 0.9481\n",
      "\n"
     ]
    },
    {
     "name": "stdout",
     "output_type": "stream",
     "text": [
      "Epoch 50, Loss 0.0587\n",
      "Training Accuracy: 0.9416, Testing Accuracy: 0.9511\n",
      "\n"
     ]
    },
    {
     "name": "stdout",
     "output_type": "stream",
     "text": [
      "Epoch 60, Loss 0.0552\n",
      "Training Accuracy: 0.9442, Testing Accuracy: 0.9561\n",
      "\n"
     ]
    },
    {
     "name": "stdout",
     "output_type": "stream",
     "text": [
      "Epoch 70, Loss 0.0524\n",
      "Training Accuracy: 0.9472, Testing Accuracy: 0.9587\n",
      "\n"
     ]
    },
    {
     "name": "stdout",
     "output_type": "stream",
     "text": [
      "Epoch 80, Loss 0.0503\n",
      "Training Accuracy: 0.9479, Testing Accuracy: 0.9607\n",
      "\n"
     ]
    },
    {
     "name": "stdout",
     "output_type": "stream",
     "text": [
      "Epoch 90, Loss 0.0485\n",
      "Training Accuracy: 0.9488, Testing Accuracy: 0.9607\n",
      "\n"
     ]
    },
    {
     "name": "stdout",
     "output_type": "stream",
     "text": [
      "Epoch 100, Loss 0.047\n",
      "Training Accuracy: 0.9511, Testing Accuracy: 0.9612\n",
      "\n"
     ]
    },
    {
     "name": "stdout",
     "output_type": "stream",
     "text": [
      "Epoch 110, Loss 0.0457\n",
      "Training Accuracy: 0.9518, Testing Accuracy: 0.9632\n",
      "\n"
     ]
    },
    {
     "name": "stdout",
     "output_type": "stream",
     "text": [
      "Epoch 120, Loss 0.0446\n",
      "Training Accuracy: 0.9534, Testing Accuracy: 0.9647\n",
      "\n"
     ]
    },
    {
     "name": "stdout",
     "output_type": "stream",
     "text": [
      "Epoch 130, Loss 0.0436\n",
      "Training Accuracy: 0.9540, Testing Accuracy: 0.9652\n",
      "\n"
     ]
    },
    {
     "name": "stdout",
     "output_type": "stream",
     "text": [
      "Epoch 140, Loss 0.0427\n",
      "Training Accuracy: 0.9547, Testing Accuracy: 0.9652\n",
      "\n"
     ]
    },
    {
     "name": "stdout",
     "output_type": "stream",
     "text": [
      "Epoch 150, Loss 0.0419\n",
      "Training Accuracy: 0.9553, Testing Accuracy: 0.9657\n",
      "\n"
     ]
    },
    {
     "name": "stdout",
     "output_type": "stream",
     "text": [
      "Epoch 160, Loss 0.0412\n",
      "Training Accuracy: 0.9561, Testing Accuracy: 0.9657\n",
      "\n"
     ]
    },
    {
     "name": "stdout",
     "output_type": "stream",
     "text": [
      "Epoch 170, Loss 0.0406\n",
      "Training Accuracy: 0.9569, Testing Accuracy: 0.9652\n",
      "\n"
     ]
    },
    {
     "name": "stdout",
     "output_type": "stream",
     "text": [
      "Epoch 180, Loss 0.04\n",
      "Training Accuracy: 0.9576, Testing Accuracy: 0.9652\n",
      "\n"
     ]
    },
    {
     "name": "stdout",
     "output_type": "stream",
     "text": [
      "Epoch 190, Loss 0.0394\n",
      "Training Accuracy: 0.9578, Testing Accuracy: 0.9647\n",
      "\n"
     ]
    },
    {
     "name": "stdout",
     "output_type": "stream",
     "text": [
      "Epoch 200, Loss 0.0389\n",
      "Training Accuracy: 0.9580, Testing Accuracy: 0.9642\n",
      "\n"
     ]
    },
    {
     "name": "stdout",
     "output_type": "stream",
     "text": [
      "Epoch 210, Loss 0.0385\n",
      "Training Accuracy: 0.9585, Testing Accuracy: 0.9647\n",
      "\n"
     ]
    },
    {
     "name": "stdout",
     "output_type": "stream",
     "text": [
      "Epoch 220, Loss 0.038\n",
      "Training Accuracy: 0.9592, Testing Accuracy: 0.9657\n",
      "\n"
     ]
    },
    {
     "name": "stdout",
     "output_type": "stream",
     "text": [
      "Epoch 230, Loss 0.0376\n",
      "Training Accuracy: 0.9595, Testing Accuracy: 0.9657\n",
      "\n"
     ]
    },
    {
     "name": "stdout",
     "output_type": "stream",
     "text": [
      "Epoch 240, Loss 0.0372\n",
      "Training Accuracy: 0.9599, Testing Accuracy: 0.9657\n",
      "\n"
     ]
    },
    {
     "data": {
      "text/plain": [
       "0.026711155350325793"
      ]
     },
     "execution_count": 23,
     "metadata": {},
     "output_type": "execute_result"
    }
   ],
   "source": [
    "lr_learner.train_loop(dl)"
   ]
  },
  {
   "cell_type": "code",
   "execution_count": 24,
   "id": "ca410940",
   "metadata": {
    "execution": {
     "iopub.execute_input": "2021-10-09T00:22:56.598443Z",
     "iopub.status.busy": "2021-10-09T00:22:56.597819Z",
     "iopub.status.idle": "2021-10-09T00:22:56.867933Z",
     "shell.execute_reply": "2021-10-09T00:22:56.867468Z"
    },
    "papermill": {
     "duration": 0.33088,
     "end_time": "2021-10-09T00:22:56.868061",
     "exception": false,
     "start_time": "2021-10-09T00:22:56.537181",
     "status": "completed"
    },
    "tags": []
   },
   "outputs": [
    {
     "data": {
      "text/plain": [
       "<matplotlib.legend.Legend at 0x7f80502da908>"
      ]
     },
     "execution_count": 24,
     "metadata": {},
     "output_type": "execute_result"
    },
    {
     "data": {
      "image/png": "[encoded data removed]",
      "text/plain": [
       "<Figure size 1080x720 with 1 Axes>"
      ]
     },
     "metadata": {
      "needs_background": "light"
     },
     "output_type": "display_data"
    }
   ],
   "source": [
    "#comparing the results of NN and LR\n",
    "plt.figure(figsize=(15,10))\n",
    "\n",
    "# Neural Network plots\n",
    "plt.plot(acc_nn.accuracies, 'r-', label = \"Training Accuracies - NN\")\n",
    "plt.plot(acc_nn.test_accuracies, 'g-', label = \"Testing Accuracies - NN\")\n",
    "\n",
    "# Logistic Regression plots\n",
    "plt.plot(acc_lr.accuracies, 'k-', label = \"Training Accuracies - LR\")\n",
    "plt.plot(acc_lr.test_accuracies, 'b-', label = \"Testing Accuracies - LR\")\n",
    "plt.legend()"
   ]
  },
  {
   "cell_type": "markdown",
   "id": "80dfb35c",
   "metadata": {
    "papermill": {
     "duration": 0.047982,
     "end_time": "2021-10-09T00:22:56.968993",
     "exception": false,
     "start_time": "2021-10-09T00:22:56.921011",
     "status": "completed"
    },
    "tags": []
   },
   "source": [
    "#### Plotting the outputs of this layer of the NN.\n"
   ]
  },
  {
   "cell_type": "code",
   "execution_count": 25,
   "id": "45eb2ff5",
   "metadata": {
    "execution": {
     "iopub.execute_input": "2021-10-09T00:22:57.072213Z",
     "iopub.status.busy": "2021-10-09T00:22:57.071605Z",
     "iopub.status.idle": "2021-10-09T00:22:57.094419Z",
     "shell.execute_reply": "2021-10-09T00:22:57.093872Z"
    },
    "papermill": {
     "duration": 0.07614,
     "end_time": "2021-10-09T00:22:57.094541",
     "exception": false,
     "start_time": "2021-10-09T00:22:57.018401",
     "status": "completed"
    },
    "tags": []
   },
   "outputs": [],
   "source": [
    "new_model = Model(layers[:-2])\n",
    "testing_plot = new_model(testing_data_x)"
   ]
  },
  {
   "cell_type": "code",
   "execution_count": 26,
   "id": "4c0a5485",
   "metadata": {
    "execution": {
     "iopub.execute_input": "2021-10-09T00:22:57.209512Z",
     "iopub.status.busy": "2021-10-09T00:22:57.207999Z",
     "iopub.status.idle": "2021-10-09T00:22:57.447287Z",
     "shell.execute_reply": "2021-10-09T00:22:57.447778Z"
    },
    "papermill": {
     "duration": 0.29511,
     "end_time": "2021-10-09T00:22:57.447937",
     "exception": false,
     "start_time": "2021-10-09T00:22:57.152827",
     "status": "completed"
    },
    "tags": []
   },
   "outputs": [
    {
     "data": {
      "text/plain": [
       "Text(0.5, 1.0, 'Outputs')"
      ]
     },
     "execution_count": 26,
     "metadata": {},
     "output_type": "execute_result"
    },
    {
     "data": {
      "image/png": "[encoded data removed]",
      "text/plain": [
       "<Figure size 576x504 with 1 Axes>"
      ]
     },
     "metadata": {
      "needs_background": "light"
     },
     "output_type": "display_data"
    }
   ],
   "source": [
    "# Plotting the scatter plot of points and color coding by class\n",
    "plt.figure(figsize=(8,7))\n",
    "plt.scatter(testing_plot[:,0], testing_plot[:,1], alpha = 0.1, c = y_test.ravel());\n",
    "plt.title('Outputs')"
   ]
  },
  {
   "cell_type": "markdown",
   "id": "a74fcf8f",
   "metadata": {
    "papermill": {
     "duration": 0.054583,
     "end_time": "2021-10-09T00:22:57.553797",
     "exception": false,
     "start_time": "2021-10-09T00:22:57.499214",
     "status": "completed"
    },
    "tags": []
   },
   "source": [
    "Probability contours"
   ]
  },
  {
   "cell_type": "code",
   "execution_count": 27,
   "id": "d0afc8e3",
   "metadata": {
    "execution": {
     "iopub.execute_input": "2021-10-09T00:22:57.678077Z",
     "iopub.status.busy": "2021-10-09T00:22:57.677432Z",
     "iopub.status.idle": "2021-10-09T00:22:57.682646Z",
     "shell.execute_reply": "2021-10-09T00:22:57.683127Z"
    },
    "papermill": {
     "duration": 0.070777,
     "end_time": "2021-10-09T00:22:57.683279",
     "exception": false,
     "start_time": "2021-10-09T00:22:57.612502",
     "status": "completed"
    },
    "tags": []
   },
   "outputs": [],
   "source": [
    "model_prob = Model(layers[-2:]) "
   ]
  },
  {
   "cell_type": "code",
   "execution_count": 28,
   "id": "9b96e238",
   "metadata": {
    "execution": {
     "iopub.execute_input": "2021-10-09T00:22:57.826507Z",
     "iopub.status.busy": "2021-10-09T00:22:57.825877Z",
     "iopub.status.idle": "2021-10-09T00:22:57.841853Z",
     "shell.execute_reply": "2021-10-09T00:22:57.842295Z"
    },
    "papermill": {
     "duration": 0.075394,
     "end_time": "2021-10-09T00:22:57.842442",
     "exception": false,
     "start_time": "2021-10-09T00:22:57.767048",
     "status": "completed"
    },
    "tags": []
   },
   "outputs": [],
   "source": [
    "#creating the x and y ranges according to the above generated plot.\n",
    "x_range = np.linspace(-4, 1, 100) \n",
    "y_range = np.linspace(-6, 6, 100) \n",
    "x_grid, y_grid = np.meshgrid(x_range, y_range) # x_grid and y_grig are of size 100 X 100\n",
    "\n",
    "# converting x_grid and y_grid to continuous arrays\n",
    "x_gridflat = np.ravel(x_grid)\n",
    "y_gridflat = np.ravel(y_grid)\n",
    "\n",
    "# The last layer of the current model takes two columns as input. Hence transpose of np.vstack() is required.\n",
    "X = np.vstack((x_gridflat, y_gridflat)).T\n",
    "\n",
    "prob_contour = model_prob(X).reshape(100,100) "
   ]
  },
  {
   "cell_type": "code",
   "execution_count": 29,
   "id": "da72499a",
   "metadata": {
    "execution": {
     "iopub.execute_input": "2021-10-09T00:22:57.961655Z",
     "iopub.status.busy": "2021-10-09T00:22:57.961038Z",
     "iopub.status.idle": "2021-10-09T00:22:58.272546Z",
     "shell.execute_reply": "2021-10-09T00:22:58.273083Z"
    },
    "papermill": {
     "duration": 0.369532,
     "end_time": "2021-10-09T00:22:58.273252",
     "exception": false,
     "start_time": "2021-10-09T00:22:57.903720",
     "status": "completed"
    },
    "tags": []
   },
   "outputs": [
    {
     "data": {
      "image/png": "[encoded data removed]",
      "text/plain": [
       "<Figure size 720x648 with 1 Axes>"
      ]
     },
     "metadata": {
      "needs_background": "light"
     },
     "output_type": "display_data"
    }
   ],
   "source": [
    "plt.figure(figsize=(10,9))\n",
    "plt.scatter(testing_plot[:,0], testing_plot[:,1], alpha = 0.1, c = y_test.ravel())\n",
    "contours = plt.contour(x_grid,y_grid,prob_contour)\n",
    "plt.title('Probability Contours')\n",
    "plt.clabel(contours, inline = True );"
   ]
  },
  {
   "cell_type": "code",
   "execution_count": null,
   "id": "e81b4ac7",
   "metadata": {
    "papermill": {
     "duration": 0.059651,
     "end_time": "2021-10-09T00:22:58.390931",
     "exception": false,
     "start_time": "2021-10-09T00:22:58.331280",
     "status": "completed"
    },
    "tags": []
   },
   "outputs": [],
   "source": []
  }
 ],
 "metadata": {
  "kernelspec": {
   "display_name": "Python 3",
   "language": "python",
   "name": "python3"
  },
  "language_info": {
   "codemirror_mode": {
    "name": "ipython",
    "version": 3
   },
   "file_extension": ".py",
   "mimetype": "text/x-python",
   "name": "python",
   "nbconvert_exporter": "python",
   "pygments_lexer": "ipython3",
   "version": "3.6.15"
  },
  "papermill": {
   "default_parameters": {},
   "duration": 117.874748,
   "end_time": "2021-10-09T00:22:58.857320",
   "environment_variables": {},
   "exception": null,
   "input_path": "2020-08-11-part2.ipynb",
   "output_path": "2020-08-11-part2.ipynb",
   "parameters": {},
   "start_time": "2021-10-09T00:21:00.982572",
   "version": "2.3.3"
  }
 },
 "nbformat": 4,
 "nbformat_minor": 5
}