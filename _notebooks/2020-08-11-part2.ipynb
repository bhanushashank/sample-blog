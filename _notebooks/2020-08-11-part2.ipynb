{
 "cells": [
  {
   "cell_type": "markdown",
   "id": "98380cd3",
   "metadata": {
    "papermill": {
     "duration": 0.030549,
     "end_time": "2022-08-06T10:09:49.365166",
     "exception": false,
     "start_time": "2022-08-06T10:09:49.334617",
     "status": "completed"
    },
    "tags": []
   },
   "source": [
    "# Distinguish Your Own Digits (DYOD)"
   ]
  },
  {
   "cell_type": "markdown",
   "id": "ef31240d",
   "metadata": {
    "papermill": {
     "duration": 0.024259,
     "end_time": "2022-08-06T10:09:49.414116",
     "exception": false,
     "start_time": "2022-08-06T10:09:49.389857",
     "status": "completed"
    },
    "tags": []
   },
   "source": [
    "You are going to write a classifier that distinguishes between the number 3 and number 8."
   ]
  },
  {
   "cell_type": "code",
   "execution_count": 1,
   "id": "b15c8646",
   "metadata": {
    "execution": {
     "iopub.execute_input": "2022-08-06T10:09:49.476455Z",
     "iopub.status.busy": "2022-08-06T10:09:49.475814Z",
     "iopub.status.idle": "2022-08-06T10:09:49.487118Z",
     "shell.execute_reply": "2022-08-06T10:09:49.486524Z"
    },
    "papermill": {
     "duration": 0.04719,
     "end_time": "2022-08-06T10:09:49.487271",
     "exception": false,
     "start_time": "2022-08-06T10:09:49.440081",
     "status": "completed"
    },
    "tags": []
   },
   "outputs": [],
   "source": [
    "%load_ext autoreload\n",
    "%autoreload 2"
   ]
  },
  {
   "cell_type": "code",
   "execution_count": 2,
   "id": "22ef38dc",
   "metadata": {
    "execution": {
     "iopub.execute_input": "2022-08-06T10:09:49.540775Z",
     "iopub.status.busy": "2022-08-06T10:09:49.540147Z",
     "iopub.status.idle": "2022-08-06T10:09:50.115648Z",
     "shell.execute_reply": "2022-08-06T10:09:50.115014Z"
    },
    "papermill": {
     "duration": 0.60394,
     "end_time": "2022-08-06T10:09:50.115802",
     "exception": false,
     "start_time": "2022-08-06T10:09:49.511862",
     "status": "completed"
    },
    "tags": []
   },
   "outputs": [],
   "source": [
    "%matplotlib inline\n",
    "import numpy as np\n",
    "import matplotlib.pyplot as plt\n",
    "import pandas as pd"
   ]
  },
  {
   "cell_type": "markdown",
   "id": "ba036198",
   "metadata": {
    "papermill": {
     "duration": 0.024453,
     "end_time": "2022-08-06T10:09:50.164827",
     "exception": false,
     "start_time": "2022-08-06T10:09:50.140374",
     "status": "completed"
    },
    "tags": []
   },
   "source": [
    "From the command line run `pip install mnist`. This is a library that will help you bring down the mnist dataset. If you run this from a notebook, you need to put  `!pip install mnist` in a cell by itself."
   ]
  },
  {
   "cell_type": "code",
   "execution_count": 3,
   "id": "bb6ad8a1",
   "metadata": {
    "execution": {
     "iopub.execute_input": "2022-08-06T10:09:50.218167Z",
     "iopub.status.busy": "2022-08-06T10:09:50.217560Z",
     "iopub.status.idle": "2022-08-06T10:09:52.017680Z",
     "shell.execute_reply": "2022-08-06T10:09:52.017041Z"
    },
    "papermill": {
     "duration": 1.829018,
     "end_time": "2022-08-06T10:09:52.017823",
     "exception": false,
     "start_time": "2022-08-06T10:09:50.188805",
     "status": "completed"
    },
    "tags": []
   },
   "outputs": [
    {
     "name": "stdout",
     "output_type": "stream",
     "text": [
      "Collecting mnist\r\n"
     ]
    },
    {
     "name": "stdout",
     "output_type": "stream",
     "text": [
      "  Downloading mnist-0.2.2-py2.py3-none-any.whl (3.5 kB)\r\n",
      "Requirement already satisfied: numpy in /opt/hostedtoolcache/Python/3.6.15/x64/lib/python3.6/site-packages (from mnist) (1.19.5)\r\n"
     ]
    },
    {
     "name": "stdout",
     "output_type": "stream",
     "text": [
      "Installing collected packages: mnist\r\n"
     ]
    },
    {
     "name": "stdout",
     "output_type": "stream",
     "text": [
      "Successfully installed mnist-0.2.2\r\n"
     ]
    }
   ],
   "source": [
    "!pip install mnist"
   ]
  },
  {
   "cell_type": "markdown",
   "id": "69df9c9a",
   "metadata": {
    "papermill": {
     "duration": 0.025346,
     "end_time": "2022-08-06T10:09:52.068930",
     "exception": false,
     "start_time": "2022-08-06T10:09:52.043584",
     "status": "completed"
    },
    "tags": []
   },
   "source": [
    "## Preparing the Data"
   ]
  },
  {
   "cell_type": "code",
   "execution_count": 4,
   "id": "7f69d806",
   "metadata": {
    "execution": {
     "iopub.execute_input": "2022-08-06T10:09:52.134906Z",
     "iopub.status.busy": "2022-08-06T10:09:52.124531Z",
     "iopub.status.idle": "2022-08-06T10:09:52.142189Z",
     "shell.execute_reply": "2022-08-06T10:09:52.143053Z"
    },
    "papermill": {
     "duration": 0.049184,
     "end_time": "2022-08-06T10:09:52.143215",
     "exception": false,
     "start_time": "2022-08-06T10:09:52.094031",
     "status": "completed"
    },
    "tags": []
   },
   "outputs": [],
   "source": [
    "import mnist"
   ]
  },
  {
   "cell_type": "code",
   "execution_count": 5,
   "id": "a411e44f",
   "metadata": {
    "execution": {
     "iopub.execute_input": "2022-08-06T10:09:52.198073Z",
     "iopub.status.busy": "2022-08-06T10:09:52.197439Z",
     "iopub.status.idle": "2022-08-06T10:09:52.829640Z",
     "shell.execute_reply": "2022-08-06T10:09:52.829043Z"
    },
    "papermill": {
     "duration": 0.661325,
     "end_time": "2022-08-06T10:09:52.829791",
     "exception": false,
     "start_time": "2022-08-06T10:09:52.168466",
     "status": "completed"
    },
    "tags": []
   },
   "outputs": [],
   "source": [
    "train_images = mnist.train_images()\n",
    "train_labels = mnist.train_labels()"
   ]
  },
  {
   "cell_type": "code",
   "execution_count": 6,
   "id": "dceab3a5",
   "metadata": {
    "execution": {
     "iopub.execute_input": "2022-08-06T10:09:52.886029Z",
     "iopub.status.busy": "2022-08-06T10:09:52.885424Z",
     "iopub.status.idle": "2022-08-06T10:09:52.900329Z",
     "shell.execute_reply": "2022-08-06T10:09:52.900811Z"
    },
    "papermill": {
     "duration": 0.045255,
     "end_time": "2022-08-06T10:09:52.900959",
     "exception": false,
     "start_time": "2022-08-06T10:09:52.855704",
     "status": "completed"
    },
    "tags": []
   },
   "outputs": [
    {
     "data": {
      "text/plain": [
       "((60000, 28, 28), (60000,))"
      ]
     },
     "execution_count": 6,
     "metadata": {},
     "output_type": "execute_result"
    }
   ],
   "source": [
    "train_images.shape, train_labels.shape"
   ]
  },
  {
   "cell_type": "code",
   "execution_count": 7,
   "id": "f50dc2bb",
   "metadata": {
    "execution": {
     "iopub.execute_input": "2022-08-06T10:09:52.963647Z",
     "iopub.status.busy": "2022-08-06T10:09:52.962507Z",
     "iopub.status.idle": "2022-08-06T10:09:53.212008Z",
     "shell.execute_reply": "2022-08-06T10:09:53.211372Z"
    },
    "papermill": {
     "duration": 0.285914,
     "end_time": "2022-08-06T10:09:53.212151",
     "exception": false,
     "start_time": "2022-08-06T10:09:52.926237",
     "status": "completed"
    },
    "tags": []
   },
   "outputs": [],
   "source": [
    "test_images = mnist.test_images()\n",
    "test_labels = mnist.test_labels()"
   ]
  },
  {
   "cell_type": "code",
   "execution_count": 8,
   "id": "fc38cf1b",
   "metadata": {
    "execution": {
     "iopub.execute_input": "2022-08-06T10:09:53.279628Z",
     "iopub.status.busy": "2022-08-06T10:09:53.267763Z",
     "iopub.status.idle": "2022-08-06T10:09:53.285304Z",
     "shell.execute_reply": "2022-08-06T10:09:53.285731Z"
    },
    "papermill": {
     "duration": 0.048143,
     "end_time": "2022-08-06T10:09:53.285881",
     "exception": false,
     "start_time": "2022-08-06T10:09:53.237738",
     "status": "completed"
    },
    "tags": []
   },
   "outputs": [
    {
     "data": {
      "text/plain": [
       "((10000, 28, 28), (10000,))"
      ]
     },
     "execution_count": 8,
     "metadata": {},
     "output_type": "execute_result"
    }
   ],
   "source": [
    "test_images.shape, test_labels.shape"
   ]
  },
  {
   "cell_type": "code",
   "execution_count": 9,
   "id": "f9ed8fe0",
   "metadata": {
    "execution": {
     "iopub.execute_input": "2022-08-06T10:09:53.368659Z",
     "iopub.status.busy": "2022-08-06T10:09:53.351788Z",
     "iopub.status.idle": "2022-08-06T10:09:53.488561Z",
     "shell.execute_reply": "2022-08-06T10:09:53.488046Z"
    },
    "papermill": {
     "duration": 0.17727,
     "end_time": "2022-08-06T10:09:53.488690",
     "exception": false,
     "start_time": "2022-08-06T10:09:53.311420",
     "status": "completed"
    },
    "tags": []
   },
   "outputs": [
    {
     "name": "stdout",
     "output_type": "stream",
     "text": [
      "2\n"
     ]
    },
    {
     "data": {
      "text/plain": [
       "<matplotlib.image.AxesImage at 0x7f3736c9c668>"
      ]
     },
     "execution_count": 9,
     "metadata": {},
     "output_type": "execute_result"
    },
    {
     "data": {
      "image/png": "[encoded data removed]",
      "text/plain": [
       "<Figure size 432x288 with 1 Axes>"
      ]
     },
     "metadata": {
      "needs_background": "light"
     },
     "output_type": "display_data"
    }
   ],
   "source": [
    "image_index = 7776 # You may select anything up to 60,000\n",
    "print(train_labels[image_index]) \n",
    "plt.imshow(train_images[image_index], cmap='Greys')"
   ]
  },
  {
   "cell_type": "markdown",
   "id": "a8d2388d",
   "metadata": {
    "papermill": {
     "duration": 0.026963,
     "end_time": "2022-08-06T10:09:53.543154",
     "exception": false,
     "start_time": "2022-08-06T10:09:53.516191",
     "status": "completed"
    },
    "tags": []
   },
   "source": [
    "## Filter data to get 3 and 8 out"
   ]
  },
  {
   "cell_type": "code",
   "execution_count": 10,
   "id": "776f7fc7",
   "metadata": {
    "execution": {
     "iopub.execute_input": "2022-08-06T10:09:53.611760Z",
     "iopub.status.busy": "2022-08-06T10:09:53.601430Z",
     "iopub.status.idle": "2022-08-06T10:09:53.626180Z",
     "shell.execute_reply": "2022-08-06T10:09:53.625675Z"
    },
    "papermill": {
     "duration": 0.056228,
     "end_time": "2022-08-06T10:09:53.626308",
     "exception": false,
     "start_time": "2022-08-06T10:09:53.570080",
     "status": "completed"
    },
    "tags": []
   },
   "outputs": [],
   "source": [
    "train_filter = np.where((train_labels == 3 ) | (train_labels == 8))\n",
    "test_filter = np.where((test_labels == 3) | (test_labels == 8))\n",
    "X_train, y_train = train_images[train_filter], train_labels[train_filter]\n",
    "X_test, y_test = test_images[test_filter], test_labels[test_filter]"
   ]
  },
  {
   "cell_type": "markdown",
   "id": "948f0b7e",
   "metadata": {
    "papermill": {
     "duration": 0.026755,
     "end_time": "2022-08-06T10:09:53.680047",
     "exception": false,
     "start_time": "2022-08-06T10:09:53.653292",
     "status": "completed"
    },
    "tags": []
   },
   "source": [
    "We normalize the pizel values in the 0 to 1 range"
   ]
  },
  {
   "cell_type": "code",
   "execution_count": 11,
   "id": "ee4c2166",
   "metadata": {
    "execution": {
     "iopub.execute_input": "2022-08-06T10:09:53.738589Z",
     "iopub.status.busy": "2022-08-06T10:09:53.737881Z",
     "iopub.status.idle": "2022-08-06T10:09:53.789268Z",
     "shell.execute_reply": "2022-08-06T10:09:53.788334Z"
    },
    "papermill": {
     "duration": 0.082571,
     "end_time": "2022-08-06T10:09:53.789411",
     "exception": false,
     "start_time": "2022-08-06T10:09:53.706840",
     "status": "completed"
    },
    "tags": []
   },
   "outputs": [],
   "source": [
    "X_train = X_train/255.\n",
    "X_test = X_test/255."
   ]
  },
  {
   "cell_type": "markdown",
   "id": "ddcf4fab",
   "metadata": {
    "papermill": {
     "duration": 0.02714,
     "end_time": "2022-08-06T10:09:53.843677",
     "exception": false,
     "start_time": "2022-08-06T10:09:53.816537",
     "status": "completed"
    },
    "tags": []
   },
   "source": [
    "And setup the labels as 1 (when the digit is 3) and 0 (when the digit is 8)"
   ]
  },
  {
   "cell_type": "code",
   "execution_count": 12,
   "id": "7dc908f2",
   "metadata": {
    "execution": {
     "iopub.execute_input": "2022-08-06T10:09:53.904116Z",
     "iopub.status.busy": "2022-08-06T10:09:53.903396Z",
     "iopub.status.idle": "2022-08-06T10:09:53.915534Z",
     "shell.execute_reply": "2022-08-06T10:09:53.915000Z"
    },
    "papermill": {
     "duration": 0.045132,
     "end_time": "2022-08-06T10:09:53.915668",
     "exception": false,
     "start_time": "2022-08-06T10:09:53.870536",
     "status": "completed"
    },
    "tags": []
   },
   "outputs": [],
   "source": [
    "y_train = 1*(y_train==3)\n",
    "y_test = 1*(y_test==3)"
   ]
  },
  {
   "cell_type": "code",
   "execution_count": 13,
   "id": "01e4e969",
   "metadata": {
    "execution": {
     "iopub.execute_input": "2022-08-06T10:09:53.974328Z",
     "iopub.status.busy": "2022-08-06T10:09:53.973721Z",
     "iopub.status.idle": "2022-08-06T10:09:53.989005Z",
     "shell.execute_reply": "2022-08-06T10:09:53.988427Z"
    },
    "papermill": {
     "duration": 0.0465,
     "end_time": "2022-08-06T10:09:53.989129",
     "exception": false,
     "start_time": "2022-08-06T10:09:53.942629",
     "status": "completed"
    },
    "tags": []
   },
   "outputs": [
    {
     "data": {
      "text/plain": [
       "((11982, 28, 28), (1984, 28, 28))"
      ]
     },
     "execution_count": 13,
     "metadata": {},
     "output_type": "execute_result"
    }
   ],
   "source": [
    "X_train.shape, X_test.shape"
   ]
  },
  {
   "cell_type": "markdown",
   "id": "5ccf3f85",
   "metadata": {
    "papermill": {
     "duration": 0.027013,
     "end_time": "2022-08-06T10:09:54.042929",
     "exception": false,
     "start_time": "2022-08-06T10:09:54.015916",
     "status": "completed"
    },
    "tags": []
   },
   "source": [
    "We reshape the data to flatten the image pixels into a set of features or co-variates:"
   ]
  },
  {
   "cell_type": "code",
   "execution_count": 14,
   "id": "5286a4a3",
   "metadata": {
    "execution": {
     "iopub.execute_input": "2022-08-06T10:09:54.104280Z",
     "iopub.status.busy": "2022-08-06T10:09:54.103631Z",
     "iopub.status.idle": "2022-08-06T10:09:54.116933Z",
     "shell.execute_reply": "2022-08-06T10:09:54.117377Z"
    },
    "papermill": {
     "duration": 0.047486,
     "end_time": "2022-08-06T10:09:54.117534",
     "exception": false,
     "start_time": "2022-08-06T10:09:54.070048",
     "status": "completed"
    },
    "tags": []
   },
   "outputs": [
    {
     "data": {
      "text/plain": [
       "((11982, 784), (1984, 784))"
      ]
     },
     "execution_count": 14,
     "metadata": {},
     "output_type": "execute_result"
    }
   ],
   "source": [
    "X_train = X_train.reshape(X_train.shape[0], -1)\n",
    "X_test = X_test.reshape(X_test.shape[0], -1)\n",
    "X_train.shape, X_test.shape"
   ]
  },
  {
   "cell_type": "code",
   "execution_count": 15,
   "id": "73c5f88a",
   "metadata": {
    "execution": {
     "iopub.execute_input": "2022-08-06T10:09:54.181772Z",
     "iopub.status.busy": "2022-08-06T10:09:54.181031Z",
     "iopub.status.idle": "2022-08-06T10:09:54.200175Z",
     "shell.execute_reply": "2022-08-06T10:09:54.199615Z"
    },
    "papermill": {
     "duration": 0.055192,
     "end_time": "2022-08-06T10:09:54.200308",
     "exception": false,
     "start_time": "2022-08-06T10:09:54.145116",
     "status": "completed"
    },
    "tags": []
   },
   "outputs": [],
   "source": [
    "#Impoting functions from 'Kudzu'\n",
    "from kudzu.model import Model\n",
    "from kudzu.train import Learner\n",
    "from kudzu.optim import GD\n",
    "from kudzu.data import Data, Sampler,Dataloader\n",
    "\n",
    "from kudzu.callbacks import AccCallback\n",
    "from kudzu.callbacks import ClfCallback\n",
    "\n",
    "from kudzu.loss import MSE\n",
    "\n",
    "from kudzu.layer import Sigmoid,Relu\n",
    "from kudzu.layer import Affine"
   ]
  },
  {
   "cell_type": "markdown",
   "id": "bc01172a",
   "metadata": {
    "papermill": {
     "duration": 0.030009,
     "end_time": "2022-08-06T10:09:54.257999",
     "exception": false,
     "start_time": "2022-08-06T10:09:54.227990",
     "status": "completed"
    },
    "tags": []
   },
   "source": [
    "### Let us create a `Config` class, to store important parameters. \n",
    "This class essentially plays the role of a dictionary."
   ]
  },
  {
   "cell_type": "code",
   "execution_count": 16,
   "id": "978281aa",
   "metadata": {
    "execution": {
     "iopub.execute_input": "2022-08-06T10:09:54.320447Z",
     "iopub.status.busy": "2022-08-06T10:09:54.319802Z",
     "iopub.status.idle": "2022-08-06T10:09:54.331356Z",
     "shell.execute_reply": "2022-08-06T10:09:54.330830Z"
    },
    "papermill": {
     "duration": 0.046187,
     "end_time": "2022-08-06T10:09:54.331485",
     "exception": false,
     "start_time": "2022-08-06T10:09:54.285298",
     "status": "completed"
    },
    "tags": []
   },
   "outputs": [],
   "source": [
    "class Config:\n",
    "    pass\n",
    "config = Config()\n",
    "config.lr = 0.001\n",
    "config.num_epochs = 250\n",
    "config.bs = 50"
   ]
  },
  {
   "cell_type": "markdown",
   "id": "1385fa59",
   "metadata": {
    "papermill": {
     "duration": 0.027325,
     "end_time": "2022-08-06T10:09:54.386316",
     "exception": false,
     "start_time": "2022-08-06T10:09:54.358991",
     "status": "completed"
    },
    "tags": []
   },
   "source": [
    "### Running Models with the Training data\n",
    "Details about the network layers:\n",
    "- A first affine layer has 784 inputs and does 100 affine transforms. These are followed by a Relu\n",
    "- A second affine layer has 100 inputs from the 100 activations of the past layer, and does 100 affine transforms. These are followed by a Relu\n",
    "- A third affine layer has 100 activations and does 2 affine transformations to create an embedding for visualization. There is no non-linearity here.\n",
    "- A final \"logistic regression\" which has an affine transform from 2 inputs to 1 output, which is squeezed through a sigmoid.\n"
   ]
  },
  {
   "cell_type": "code",
   "execution_count": 17,
   "id": "2b9c66db",
   "metadata": {
    "execution": {
     "iopub.execute_input": "2022-08-06T10:09:54.445718Z",
     "iopub.status.busy": "2022-08-06T10:09:54.445115Z",
     "iopub.status.idle": "2022-08-06T10:09:54.458956Z",
     "shell.execute_reply": "2022-08-06T10:09:54.459457Z"
    },
    "papermill": {
     "duration": 0.046026,
     "end_time": "2022-08-06T10:09:54.459609",
     "exception": false,
     "start_time": "2022-08-06T10:09:54.413583",
     "status": "completed"
    },
    "tags": []
   },
   "outputs": [],
   "source": [
    "data = Data(X_train, y_train.reshape(-1,1))\n",
    "sampler = Sampler(data, config.bs, shuffle=True)\n",
    "\n",
    "dl = Dataloader(data, sampler)\n",
    "\n",
    "opt = GD(config.lr)\n",
    "loss = MSE()"
   ]
  },
  {
   "cell_type": "code",
   "execution_count": 18,
   "id": "b275e4c2",
   "metadata": {
    "execution": {
     "iopub.execute_input": "2022-08-06T10:09:54.519243Z",
     "iopub.status.busy": "2022-08-06T10:09:54.518594Z",
     "iopub.status.idle": "2022-08-06T10:09:54.532087Z",
     "shell.execute_reply": "2022-08-06T10:09:54.531612Z"
    },
    "papermill": {
     "duration": 0.045186,
     "end_time": "2022-08-06T10:09:54.532218",
     "exception": false,
     "start_time": "2022-08-06T10:09:54.487032",
     "status": "completed"
    },
    "tags": []
   },
   "outputs": [],
   "source": [
    "training_data_x = X_train\n",
    "testing_data_x = X_test\n",
    "training_data_y = y_train.reshape(-1,1)\n",
    "testing_data_y = y_test.reshape(-1,1)"
   ]
  },
  {
   "cell_type": "code",
   "execution_count": 19,
   "id": "76951160",
   "metadata": {
    "execution": {
     "iopub.execute_input": "2022-08-06T10:09:54.594501Z",
     "iopub.status.busy": "2022-08-06T10:09:54.593848Z",
     "iopub.status.idle": "2022-08-06T10:09:54.609525Z",
     "shell.execute_reply": "2022-08-06T10:09:54.609961Z"
    },
    "papermill": {
     "duration": 0.050655,
     "end_time": "2022-08-06T10:09:54.610117",
     "exception": false,
     "start_time": "2022-08-06T10:09:54.559462",
     "status": "completed"
    },
    "tags": []
   },
   "outputs": [
    {
     "name": "stdout",
     "output_type": "stream",
     "text": [
      "xavier\n",
      "xavier\n",
      "xavier\n",
      "xavier\n",
      "xavier\n"
     ]
    }
   ],
   "source": [
    "layers = [Affine(\"first\", 784, 100), Relu(\"first\"), Affine(\"second\", 100, 100), Relu(\"second\"), Affine(\"third\", 100, 2), Affine(\"last\", 2, 1), Sigmoid(\"last\")]\n",
    "model_nn = Model(layers)\n",
    "model_lr = Model([Affine(\"logits\", 784, 1), Sigmoid(\"sigmoid\")])"
   ]
  },
  {
   "cell_type": "code",
   "execution_count": 20,
   "id": "6eede77a",
   "metadata": {
    "execution": {
     "iopub.execute_input": "2022-08-06T10:09:54.671010Z",
     "iopub.status.busy": "2022-08-06T10:09:54.670367Z",
     "iopub.status.idle": "2022-08-06T10:09:54.683991Z",
     "shell.execute_reply": "2022-08-06T10:09:54.683470Z"
    },
    "papermill": {
     "duration": 0.046292,
     "end_time": "2022-08-06T10:09:54.684117",
     "exception": false,
     "start_time": "2022-08-06T10:09:54.637825",
     "status": "completed"
    },
    "tags": []
   },
   "outputs": [],
   "source": [
    "nn_learner = Learner(loss, model_nn, opt, config.num_epochs)\n",
    "acc_nn = ClfCallback(nn_learner, config.bs, training_data_x , testing_data_x, training_data_y, testing_data_y)\n",
    "nn_learner.set_callbacks([acc_nn])"
   ]
  },
  {
   "cell_type": "code",
   "execution_count": 21,
   "id": "877b6cc7",
   "metadata": {
    "execution": {
     "iopub.execute_input": "2022-08-06T10:09:54.744215Z",
     "iopub.status.busy": "2022-08-06T10:09:54.743608Z",
     "iopub.status.idle": "2022-08-06T10:09:54.756961Z",
     "shell.execute_reply": "2022-08-06T10:09:54.756468Z"
    },
    "papermill": {
     "duration": 0.045105,
     "end_time": "2022-08-06T10:09:54.757087",
     "exception": false,
     "start_time": "2022-08-06T10:09:54.711982",
     "status": "completed"
    },
    "tags": []
   },
   "outputs": [],
   "source": [
    "lr_learner = Learner(loss, model_lr, opt, config.num_epochs)\n",
    "acc_lr = ClfCallback(lr_learner, config.bs, training_data_x , testing_data_x, training_data_y, testing_data_y)\n",
    "lr_learner.set_callbacks([acc_lr])"
   ]
  },
  {
   "cell_type": "code",
   "execution_count": 22,
   "id": "d9b133c3",
   "metadata": {
    "execution": {
     "iopub.execute_input": "2022-08-06T10:09:54.817266Z",
     "iopub.status.busy": "2022-08-06T10:09:54.816661Z",
     "iopub.status.idle": "2022-08-06T10:11:16.452678Z",
     "shell.execute_reply": "2022-08-06T10:11:16.452049Z"
    },
    "papermill": {
     "duration": 81.667962,
     "end_time": "2022-08-06T10:11:16.452830",
     "exception": false,
     "start_time": "2022-08-06T10:09:54.784868",
     "status": "completed"
    },
    "tags": []
   },
   "outputs": [
    {
     "name": "stdout",
     "output_type": "stream",
     "text": [
      "Epoch 0, Loss 0.2518\n",
      "Training Accuracy: 0.4906, Testing Accuracy: 0.4960\n",
      "\n"
     ]
    },
    {
     "name": "stdout",
     "output_type": "stream",
     "text": [
      "Epoch 10, Loss 0.2152\n",
      "Training Accuracy: 0.8494, Testing Accuracy: 0.8679\n",
      "\n"
     ]
    },
    {
     "name": "stdout",
     "output_type": "stream",
     "text": [
      "Epoch 20, Loss 0.1181\n",
      "Training Accuracy: 0.9050, Testing Accuracy: 0.9158\n",
      "\n"
     ]
    },
    {
     "name": "stdout",
     "output_type": "stream",
     "text": [
      "Epoch 30, Loss 0.0664\n",
      "Training Accuracy: 0.9340, Testing Accuracy: 0.9420\n",
      "\n"
     ]
    },
    {
     "name": "stdout",
     "output_type": "stream",
     "text": [
      "Epoch 40, Loss 0.0493\n",
      "Training Accuracy: 0.9459, Testing Accuracy: 0.9572\n",
      "\n"
     ]
    },
    {
     "name": "stdout",
     "output_type": "stream",
     "text": [
      "Epoch 50, Loss 0.0416\n",
      "Training Accuracy: 0.9536, Testing Accuracy: 0.9627\n",
      "\n"
     ]
    },
    {
     "name": "stdout",
     "output_type": "stream",
     "text": [
      "Epoch 60, Loss 0.0372\n",
      "Training Accuracy: 0.9575, Testing Accuracy: 0.9642\n",
      "\n"
     ]
    },
    {
     "name": "stdout",
     "output_type": "stream",
     "text": [
      "Epoch 70, Loss 0.0343\n",
      "Training Accuracy: 0.9602, Testing Accuracy: 0.9662\n",
      "\n"
     ]
    },
    {
     "name": "stdout",
     "output_type": "stream",
     "text": [
      "Epoch 80, Loss 0.0322\n",
      "Training Accuracy: 0.9624, Testing Accuracy: 0.9677\n",
      "\n"
     ]
    },
    {
     "name": "stdout",
     "output_type": "stream",
     "text": [
      "Epoch 90, Loss 0.0307\n",
      "Training Accuracy: 0.9640, Testing Accuracy: 0.9698\n",
      "\n"
     ]
    },
    {
     "name": "stdout",
     "output_type": "stream",
     "text": [
      "Epoch 100, Loss 0.0294\n",
      "Training Accuracy: 0.9648, Testing Accuracy: 0.9693\n",
      "\n"
     ]
    },
    {
     "name": "stdout",
     "output_type": "stream",
     "text": [
      "Epoch 110, Loss 0.0284\n",
      "Training Accuracy: 0.9656, Testing Accuracy: 0.9688\n",
      "\n"
     ]
    },
    {
     "name": "stdout",
     "output_type": "stream",
     "text": [
      "Epoch 120, Loss 0.0275\n",
      "Training Accuracy: 0.9673, Testing Accuracy: 0.9698\n",
      "\n"
     ]
    },
    {
     "name": "stdout",
     "output_type": "stream",
     "text": [
      "Epoch 130, Loss 0.0268\n",
      "Training Accuracy: 0.9686, Testing Accuracy: 0.9698\n",
      "\n"
     ]
    },
    {
     "name": "stdout",
     "output_type": "stream",
     "text": [
      "Epoch 140, Loss 0.0261\n",
      "Training Accuracy: 0.9694, Testing Accuracy: 0.9698\n",
      "\n"
     ]
    },
    {
     "name": "stdout",
     "output_type": "stream",
     "text": [
      "Epoch 150, Loss 0.0255\n",
      "Training Accuracy: 0.9701, Testing Accuracy: 0.9698\n",
      "\n"
     ]
    },
    {
     "name": "stdout",
     "output_type": "stream",
     "text": [
      "Epoch 160, Loss 0.025\n",
      "Training Accuracy: 0.9708, Testing Accuracy: 0.9688\n",
      "\n"
     ]
    },
    {
     "name": "stdout",
     "output_type": "stream",
     "text": [
      "Epoch 170, Loss 0.0245\n",
      "Training Accuracy: 0.9717, Testing Accuracy: 0.9698\n",
      "\n"
     ]
    },
    {
     "name": "stdout",
     "output_type": "stream",
     "text": [
      "Epoch 180, Loss 0.0241\n",
      "Training Accuracy: 0.9722, Testing Accuracy: 0.9708\n",
      "\n"
     ]
    },
    {
     "name": "stdout",
     "output_type": "stream",
     "text": [
      "Epoch 190, Loss 0.0237\n",
      "Training Accuracy: 0.9730, Testing Accuracy: 0.9713\n",
      "\n"
     ]
    },
    {
     "name": "stdout",
     "output_type": "stream",
     "text": [
      "Epoch 200, Loss 0.0233\n",
      "Training Accuracy: 0.9732, Testing Accuracy: 0.9718\n",
      "\n"
     ]
    },
    {
     "name": "stdout",
     "output_type": "stream",
     "text": [
      "Epoch 210, Loss 0.0229\n",
      "Training Accuracy: 0.9737, Testing Accuracy: 0.9713\n",
      "\n"
     ]
    },
    {
     "name": "stdout",
     "output_type": "stream",
     "text": [
      "Epoch 220, Loss 0.0226\n",
      "Training Accuracy: 0.9740, Testing Accuracy: 0.9718\n",
      "\n"
     ]
    },
    {
     "name": "stdout",
     "output_type": "stream",
     "text": [
      "Epoch 230, Loss 0.0223\n",
      "Training Accuracy: 0.9745, Testing Accuracy: 0.9713\n",
      "\n"
     ]
    },
    {
     "name": "stdout",
     "output_type": "stream",
     "text": [
      "Epoch 240, Loss 0.022\n",
      "Training Accuracy: 0.9746, Testing Accuracy: 0.9723\n",
      "\n"
     ]
    },
    {
     "data": {
      "text/plain": [
       "0.03397923747768319"
      ]
     },
     "execution_count": 22,
     "metadata": {},
     "output_type": "execute_result"
    }
   ],
   "source": [
    "nn_learner.train_loop(dl)"
   ]
  },
  {
   "cell_type": "code",
   "execution_count": 23,
   "id": "e0163366",
   "metadata": {
    "execution": {
     "iopub.execute_input": "2022-08-06T10:11:16.537409Z",
     "iopub.status.busy": "2022-08-06T10:11:16.536716Z",
     "iopub.status.idle": "2022-08-06T10:11:31.228789Z",
     "shell.execute_reply": "2022-08-06T10:11:31.229274Z"
    },
    "papermill": {
     "duration": 14.740542,
     "end_time": "2022-08-06T10:11:31.229425",
     "exception": false,
     "start_time": "2022-08-06T10:11:16.488883",
     "status": "completed"
    },
    "tags": []
   },
   "outputs": [
    {
     "name": "stdout",
     "output_type": "stream",
     "text": [
      "Epoch 0, Loss 0.2293\n",
      "Training Accuracy: 0.7435, Testing Accuracy: 0.7540\n",
      "\n"
     ]
    },
    {
     "name": "stdout",
     "output_type": "stream",
     "text": [
      "Epoch 10, Loss 0.0995\n",
      "Training Accuracy: 0.9208, Testing Accuracy: 0.9279\n",
      "\n"
     ]
    },
    {
     "name": "stdout",
     "output_type": "stream",
     "text": [
      "Epoch 20, Loss 0.0769\n",
      "Training Accuracy: 0.9331, Testing Accuracy: 0.9441\n",
      "\n"
     ]
    },
    {
     "name": "stdout",
     "output_type": "stream",
     "text": [
      "Epoch 30, Loss 0.0666\n",
      "Training Accuracy: 0.9402, Testing Accuracy: 0.9476\n",
      "\n"
     ]
    },
    {
     "name": "stdout",
     "output_type": "stream",
     "text": [
      "Epoch 40, Loss 0.0604\n",
      "Training Accuracy: 0.9440, Testing Accuracy: 0.9516\n",
      "\n"
     ]
    },
    {
     "name": "stdout",
     "output_type": "stream",
     "text": [
      "Epoch 50, Loss 0.0561\n",
      "Training Accuracy: 0.9473, Testing Accuracy: 0.9556\n",
      "\n"
     ]
    },
    {
     "name": "stdout",
     "output_type": "stream",
     "text": [
      "Epoch 60, Loss 0.053\n",
      "Training Accuracy: 0.9493, Testing Accuracy: 0.9582\n",
      "\n"
     ]
    },
    {
     "name": "stdout",
     "output_type": "stream",
     "text": [
      "Epoch 70, Loss 0.0506\n",
      "Training Accuracy: 0.9510, Testing Accuracy: 0.9597\n",
      "\n"
     ]
    },
    {
     "name": "stdout",
     "output_type": "stream",
     "text": [
      "Epoch 80, Loss 0.0487\n",
      "Training Accuracy: 0.9517, Testing Accuracy: 0.9607\n",
      "\n"
     ]
    },
    {
     "name": "stdout",
     "output_type": "stream",
     "text": [
      "Epoch 90, Loss 0.0471\n",
      "Training Accuracy: 0.9528, Testing Accuracy: 0.9612\n",
      "\n"
     ]
    },
    {
     "name": "stdout",
     "output_type": "stream",
     "text": [
      "Epoch 100, Loss 0.0457\n",
      "Training Accuracy: 0.9536, Testing Accuracy: 0.9612\n",
      "\n"
     ]
    },
    {
     "name": "stdout",
     "output_type": "stream",
     "text": [
      "Epoch 110, Loss 0.0445\n",
      "Training Accuracy: 0.9543, Testing Accuracy: 0.9627\n",
      "\n"
     ]
    },
    {
     "name": "stdout",
     "output_type": "stream",
     "text": [
      "Epoch 120, Loss 0.0435\n",
      "Training Accuracy: 0.9549, Testing Accuracy: 0.9627\n",
      "\n"
     ]
    },
    {
     "name": "stdout",
     "output_type": "stream",
     "text": [
      "Epoch 130, Loss 0.0426\n",
      "Training Accuracy: 0.9557, Testing Accuracy: 0.9637\n",
      "\n"
     ]
    },
    {
     "name": "stdout",
     "output_type": "stream",
     "text": [
      "Epoch 140, Loss 0.0418\n",
      "Training Accuracy: 0.9563, Testing Accuracy: 0.9637\n",
      "\n"
     ]
    },
    {
     "name": "stdout",
     "output_type": "stream",
     "text": [
      "Epoch 150, Loss 0.0411\n",
      "Training Accuracy: 0.9566, Testing Accuracy: 0.9647\n",
      "\n"
     ]
    },
    {
     "name": "stdout",
     "output_type": "stream",
     "text": [
      "Epoch 160, Loss 0.0404\n",
      "Training Accuracy: 0.9574, Testing Accuracy: 0.9652\n",
      "\n"
     ]
    },
    {
     "name": "stdout",
     "output_type": "stream",
     "text": [
      "Epoch 170, Loss 0.0398\n",
      "Training Accuracy: 0.9574, Testing Accuracy: 0.9667\n",
      "\n"
     ]
    },
    {
     "name": "stdout",
     "output_type": "stream",
     "text": [
      "Epoch 180, Loss 0.0393\n",
      "Training Accuracy: 0.9579, Testing Accuracy: 0.9672\n",
      "\n"
     ]
    },
    {
     "name": "stdout",
     "output_type": "stream",
     "text": [
      "Epoch 190, Loss 0.0388\n",
      "Training Accuracy: 0.9584, Testing Accuracy: 0.9672\n",
      "\n"
     ]
    },
    {
     "name": "stdout",
     "output_type": "stream",
     "text": [
      "Epoch 200, Loss 0.0383\n",
      "Training Accuracy: 0.9586, Testing Accuracy: 0.9672\n",
      "\n"
     ]
    },
    {
     "name": "stdout",
     "output_type": "stream",
     "text": [
      "Epoch 210, Loss 0.0379\n",
      "Training Accuracy: 0.9591, Testing Accuracy: 0.9672\n",
      "\n"
     ]
    },
    {
     "name": "stdout",
     "output_type": "stream",
     "text": [
      "Epoch 220, Loss 0.0375\n",
      "Training Accuracy: 0.9595, Testing Accuracy: 0.9672\n",
      "\n"
     ]
    },
    {
     "name": "stdout",
     "output_type": "stream",
     "text": [
      "Epoch 230, Loss 0.0371\n",
      "Training Accuracy: 0.9599, Testing Accuracy: 0.9672\n",
      "\n"
     ]
    },
    {
     "name": "stdout",
     "output_type": "stream",
     "text": [
      "Epoch 240, Loss 0.0368\n",
      "Training Accuracy: 0.9604, Testing Accuracy: 0.9688\n",
      "\n"
     ]
    },
    {
     "data": {
      "text/plain": [
       "0.029491106664530694"
      ]
     },
     "execution_count": 23,
     "metadata": {},
     "output_type": "execute_result"
    }
   ],
   "source": [
    "lr_learner.train_loop(dl)"
   ]
  },
  {
   "cell_type": "code",
   "execution_count": 24,
   "id": "ca410940",
   "metadata": {
    "execution": {
     "iopub.execute_input": "2022-08-06T10:11:31.316442Z",
     "iopub.status.busy": "2022-08-06T10:11:31.315787Z",
     "iopub.status.idle": "2022-08-06T10:11:31.545545Z",
     "shell.execute_reply": "2022-08-06T10:11:31.546000Z"
    },
    "papermill": {
     "duration": 0.275354,
     "end_time": "2022-08-06T10:11:31.546155",
     "exception": false,
     "start_time": "2022-08-06T10:11:31.270801",
     "status": "completed"
    },
    "tags": []
   },
   "outputs": [
    {
     "data": {
      "text/plain": [
       "<matplotlib.legend.Legend at 0x7f37367fac18>"
      ]
     },
     "execution_count": 24,
     "metadata": {},
     "output_type": "execute_result"
    },
    {
     "data": {
      "image/png": "[encoded data removed]",
      "text/plain": [
       "<Figure size 1080x720 with 1 Axes>"
      ]
     },
     "metadata": {
      "needs_background": "light"
     },
     "output_type": "display_data"
    }
   ],
   "source": [
    "#comparing the results of NN and LR\n",
    "plt.figure(figsize=(15,10))\n",
    "\n",
    "# Neural Network plots\n",
    "plt.plot(acc_nn.accuracies, 'r-', label = \"Training Accuracies - NN\")\n",
    "plt.plot(acc_nn.test_accuracies, 'g-', label = \"Testing Accuracies - NN\")\n",
    "\n",
    "# Logistic Regression plots\n",
    "plt.plot(acc_lr.accuracies, 'k-', label = \"Training Accuracies - LR\")\n",
    "plt.plot(acc_lr.test_accuracies, 'b-', label = \"Testing Accuracies - LR\")\n",
    "plt.legend()"
   ]
  },
  {
   "cell_type": "markdown",
   "id": "80dfb35c",
   "metadata": {
    "papermill": {
     "duration": 0.042039,
     "end_time": "2022-08-06T10:11:31.631175",
     "exception": false,
     "start_time": "2022-08-06T10:11:31.589136",
     "status": "completed"
    },
    "tags": []
   },
   "source": [
    "#### Plotting the outputs of this layer of the NN.\n"
   ]
  },
  {
   "cell_type": "code",
   "execution_count": 25,
   "id": "45eb2ff5",
   "metadata": {
    "execution": {
     "iopub.execute_input": "2022-08-06T10:11:31.719677Z",
     "iopub.status.busy": "2022-08-06T10:11:31.719077Z",
     "iopub.status.idle": "2022-08-06T10:11:31.740761Z",
     "shell.execute_reply": "2022-08-06T10:11:31.740268Z"
    },
    "papermill": {
     "duration": 0.067763,
     "end_time": "2022-08-06T10:11:31.740891",
     "exception": false,
     "start_time": "2022-08-06T10:11:31.673128",
     "status": "completed"
    },
    "tags": []
   },
   "outputs": [],
   "source": [
    "new_model = Model(layers[:-2])\n",
    "testing_plot = new_model(testing_data_x)"
   ]
  },
  {
   "cell_type": "code",
   "execution_count": 26,
   "id": "4c0a5485",
   "metadata": {
    "execution": {
     "iopub.execute_input": "2022-08-06T10:11:31.833939Z",
     "iopub.status.busy": "2022-08-06T10:11:31.833295Z",
     "iopub.status.idle": "2022-08-06T10:11:32.050314Z",
     "shell.execute_reply": "2022-08-06T10:11:32.049782Z"
    },
    "papermill": {
     "duration": 0.265715,
     "end_time": "2022-08-06T10:11:32.050443",
     "exception": false,
     "start_time": "2022-08-06T10:11:31.784728",
     "status": "completed"
    },
    "tags": []
   },
   "outputs": [
    {
     "data": {
      "text/plain": [
       "Text(0.5, 1.0, 'Outputs')"
      ]
     },
     "execution_count": 26,
     "metadata": {},
     "output_type": "execute_result"
    },
    {
     "data": {
      "image/png": "[encoded data removed]",
      "text/plain": [
       "<Figure size 576x504 with 1 Axes>"
      ]
     },
     "metadata": {
      "needs_background": "light"
     },
     "output_type": "display_data"
    }
   ],
   "source": [
    "# Plotting the scatter plot of points and color coding by class\n",
    "plt.figure(figsize=(8,7))\n",
    "plt.scatter(testing_plot[:,0], testing_plot[:,1], alpha = 0.1, c = y_test.ravel());\n",
    "plt.title('Outputs')"
   ]
  },
  {
   "cell_type": "markdown",
   "id": "a74fcf8f",
   "metadata": {
    "papermill": {
     "duration": 0.044429,
     "end_time": "2022-08-06T10:11:32.139591",
     "exception": false,
     "start_time": "2022-08-06T10:11:32.095162",
     "status": "completed"
    },
    "tags": []
   },
   "source": [
    "Probability contours"
   ]
  },
  {
   "cell_type": "code",
   "execution_count": 27,
   "id": "d0afc8e3",
   "metadata": {
    "execution": {
     "iopub.execute_input": "2022-08-06T10:11:32.278055Z",
     "iopub.status.busy": "2022-08-06T10:11:32.277400Z",
     "iopub.status.idle": "2022-08-06T10:11:32.286160Z",
     "shell.execute_reply": "2022-08-06T10:11:32.286621Z"
    },
    "papermill": {
     "duration": 0.064927,
     "end_time": "2022-08-06T10:11:32.286794",
     "exception": false,
     "start_time": "2022-08-06T10:11:32.221867",
     "status": "completed"
    },
    "tags": []
   },
   "outputs": [],
   "source": [
    "model_prob = Model(layers[-2:]) "
   ]
  },
  {
   "cell_type": "code",
   "execution_count": 28,
   "id": "9b96e238",
   "metadata": {
    "execution": {
     "iopub.execute_input": "2022-08-06T10:11:32.383556Z",
     "iopub.status.busy": "2022-08-06T10:11:32.382828Z",
     "iopub.status.idle": "2022-08-06T10:11:32.397036Z",
     "shell.execute_reply": "2022-08-06T10:11:32.397491Z"
    },
    "papermill": {
     "duration": 0.065623,
     "end_time": "2022-08-06T10:11:32.397648",
     "exception": false,
     "start_time": "2022-08-06T10:11:32.332025",
     "status": "completed"
    },
    "tags": []
   },
   "outputs": [],
   "source": [
    "#creating the x and y ranges according to the above generated plot.\n",
    "x_range = np.linspace(-4, 1, 100) \n",
    "y_range = np.linspace(-6, 6, 100) \n",
    "x_grid, y_grid = np.meshgrid(x_range, y_range) # x_grid and y_grig are of size 100 X 100\n",
    "\n",
    "# converting x_grid and y_grid to continuous arrays\n",
    "x_gridflat = np.ravel(x_grid)\n",
    "y_gridflat = np.ravel(y_grid)\n",
    "\n",
    "# The last layer of the current model takes two columns as input. Hence transpose of np.vstack() is required.\n",
    "X = np.vstack((x_gridflat, y_gridflat)).T\n",
    "\n",
    "prob_contour = model_prob(X).reshape(100,100) "
   ]
  },
  {
   "cell_type": "code",
   "execution_count": 29,
   "id": "da72499a",
   "metadata": {
    "execution": {
     "iopub.execute_input": "2022-08-06T10:11:32.492409Z",
     "iopub.status.busy": "2022-08-06T10:11:32.491819Z",
     "iopub.status.idle": "2022-08-06T10:11:32.744755Z",
     "shell.execute_reply": "2022-08-06T10:11:32.744009Z"
    },
    "papermill": {
     "duration": 0.301959,
     "end_time": "2022-08-06T10:11:32.744894",
     "exception": false,
     "start_time": "2022-08-06T10:11:32.442935",
     "status": "completed"
    },
    "tags": []
   },
   "outputs": [
    {
     "data": {
      "image/png": "[encoded data removed]",
      "text/plain": [
       "<Figure size 720x648 with 1 Axes>"
      ]
     },
     "metadata": {
      "needs_background": "light"
     },
     "output_type": "display_data"
    }
   ],
   "source": [
    "plt.figure(figsize=(10,9))\n",
    "plt.scatter(testing_plot[:,0], testing_plot[:,1], alpha = 0.1, c = y_test.ravel())\n",
    "contours = plt.contour(x_grid,y_grid,prob_contour)\n",
    "plt.title('Probability Contours')\n",
    "plt.clabel(contours, inline = True );"
   ]
  },
  {
   "cell_type": "code",
   "execution_count": null,
   "id": "e81b4ac7",
   "metadata": {
    "papermill": {
     "duration": 0.047763,
     "end_time": "2022-08-06T10:11:32.840647",
     "exception": false,
     "start_time": "2022-08-06T10:11:32.792884",
     "status": "completed"
    },
    "tags": []
   },
   "outputs": [],
   "source": []
  }
 ],
 "metadata": {
  "kernelspec": {
   "display_name": "Python 3",
   "language": "python",
   "name": "python3"
  },
  "language_info": {
   "codemirror_mode": {
    "name": "ipython",
    "version": 3
   },
   "file_extension": ".py",
   "mimetype": "text/x-python",
   "name": "python",
   "nbconvert_exporter": "python",
   "pygments_lexer": "ipython3",
   "version": "3.6.15"
  },
  "papermill": {
   "default_parameters": {},
   "duration": 105.104672,
   "end_time": "2022-08-06T10:11:33.308165",
   "environment_variables": {},
   "exception": null,
   "input_path": "2020-08-11-part2.ipynb",
   "output_path": "2020-08-11-part2.ipynb",
   "parameters": {},
   "start_time": "2022-08-06T10:09:48.203493",
   "version": "2.3.3"
  }
 },
 "nbformat": 4,
 "nbformat_minor": 5
}