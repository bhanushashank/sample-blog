{
 "cells": [
  {
   "cell_type": "markdown",
   "id": "98380cd3",
   "metadata": {
    "papermill": {
     "duration": 0.028982,
     "end_time": "2021-12-30T20:09:22.606044",
     "exception": false,
     "start_time": "2021-12-30T20:09:22.577062",
     "status": "completed"
    },
    "tags": []
   },
   "source": [
    "# Distinguish Your Own Digits (DYOD)"
   ]
  },
  {
   "cell_type": "markdown",
   "id": "ef31240d",
   "metadata": {
    "papermill": {
     "duration": 0.026057,
     "end_time": "2021-12-30T20:09:22.658019",
     "exception": false,
     "start_time": "2021-12-30T20:09:22.631962",
     "status": "completed"
    },
    "tags": []
   },
   "source": [
    "You are going to write a classifier that distinguishes between the number 3 and number 8."
   ]
  },
  {
   "cell_type": "code",
   "execution_count": 1,
   "id": "b15c8646",
   "metadata": {
    "execution": {
     "iopub.execute_input": "2021-12-30T20:09:22.723925Z",
     "iopub.status.busy": "2021-12-30T20:09:22.723310Z",
     "iopub.status.idle": "2021-12-30T20:09:22.735755Z",
     "shell.execute_reply": "2021-12-30T20:09:22.735266Z"
    },
    "papermill": {
     "duration": 0.049847,
     "end_time": "2021-12-30T20:09:22.735893",
     "exception": false,
     "start_time": "2021-12-30T20:09:22.686046",
     "status": "completed"
    },
    "tags": []
   },
   "outputs": [],
   "source": [
    "%load_ext autoreload\n",
    "%autoreload 2"
   ]
  },
  {
   "cell_type": "code",
   "execution_count": 2,
   "id": "22ef38dc",
   "metadata": {
    "execution": {
     "iopub.execute_input": "2021-12-30T20:09:22.792895Z",
     "iopub.status.busy": "2021-12-30T20:09:22.792399Z",
     "iopub.status.idle": "2021-12-30T20:09:23.405523Z",
     "shell.execute_reply": "2021-12-30T20:09:23.404986Z"
    },
    "papermill": {
     "duration": 0.643411,
     "end_time": "2021-12-30T20:09:23.405663",
     "exception": false,
     "start_time": "2021-12-30T20:09:22.762252",
     "status": "completed"
    },
    "tags": []
   },
   "outputs": [],
   "source": [
    "%matplotlib inline\n",
    "import numpy as np\n",
    "import matplotlib.pyplot as plt\n",
    "import pandas as pd"
   ]
  },
  {
   "cell_type": "markdown",
   "id": "ba036198",
   "metadata": {
    "papermill": {
     "duration": 0.026747,
     "end_time": "2021-12-30T20:09:23.458808",
     "exception": false,
     "start_time": "2021-12-30T20:09:23.432061",
     "status": "completed"
    },
    "tags": []
   },
   "source": [
    "From the command line run `pip install mnist`. This is a library that will help you bring down the mnist dataset. If you run this from a notebook, you need to put  `!pip install mnist` in a cell by itself."
   ]
  },
  {
   "cell_type": "code",
   "execution_count": 3,
   "id": "bb6ad8a1",
   "metadata": {
    "execution": {
     "iopub.execute_input": "2021-12-30T20:09:23.513559Z",
     "iopub.status.busy": "2021-12-30T20:09:23.512910Z",
     "iopub.status.idle": "2021-12-30T20:09:26.086091Z",
     "shell.execute_reply": "2021-12-30T20:09:26.086559Z"
    },
    "papermill": {
     "duration": 2.603083,
     "end_time": "2021-12-30T20:09:26.086698",
     "exception": false,
     "start_time": "2021-12-30T20:09:23.483615",
     "status": "completed"
    },
    "tags": []
   },
   "outputs": [
    {
     "name": "stdout",
     "output_type": "stream",
     "text": [
      "Collecting mnist\r\n"
     ]
    },
    {
     "name": "stdout",
     "output_type": "stream",
     "text": [
      "  Downloading mnist-0.2.2-py2.py3-none-any.whl (3.5 kB)\r\n",
      "Requirement already satisfied: numpy in /opt/hostedtoolcache/Python/3.6.15/x64/lib/python3.6/site-packages (from mnist) (1.19.5)\r\n"
     ]
    },
    {
     "name": "stdout",
     "output_type": "stream",
     "text": [
      "Installing collected packages: mnist\r\n",
      "Successfully installed mnist-0.2.2\r\n"
     ]
    }
   ],
   "source": [
    "!pip install mnist"
   ]
  },
  {
   "cell_type": "markdown",
   "id": "69df9c9a",
   "metadata": {
    "papermill": {
     "duration": 0.026378,
     "end_time": "2021-12-30T20:09:26.140584",
     "exception": false,
     "start_time": "2021-12-30T20:09:26.114206",
     "status": "completed"
    },
    "tags": []
   },
   "source": [
    "## Preparing the Data"
   ]
  },
  {
   "cell_type": "code",
   "execution_count": 4,
   "id": "7f69d806",
   "metadata": {
    "execution": {
     "iopub.execute_input": "2021-12-30T20:09:26.199511Z",
     "iopub.status.busy": "2021-12-30T20:09:26.197229Z",
     "iopub.status.idle": "2021-12-30T20:09:26.213799Z",
     "shell.execute_reply": "2021-12-30T20:09:26.213348Z"
    },
    "papermill": {
     "duration": 0.047214,
     "end_time": "2021-12-30T20:09:26.213920",
     "exception": false,
     "start_time": "2021-12-30T20:09:26.166706",
     "status": "completed"
    },
    "tags": []
   },
   "outputs": [],
   "source": [
    "import mnist"
   ]
  },
  {
   "cell_type": "code",
   "execution_count": 5,
   "id": "a411e44f",
   "metadata": {
    "execution": {
     "iopub.execute_input": "2021-12-30T20:09:26.267783Z",
     "iopub.status.busy": "2021-12-30T20:09:26.267248Z",
     "iopub.status.idle": "2021-12-30T20:09:26.820138Z",
     "shell.execute_reply": "2021-12-30T20:09:26.819535Z"
    },
    "papermill": {
     "duration": 0.582201,
     "end_time": "2021-12-30T20:09:26.820297",
     "exception": false,
     "start_time": "2021-12-30T20:09:26.238096",
     "status": "completed"
    },
    "tags": []
   },
   "outputs": [],
   "source": [
    "train_images = mnist.train_images()\n",
    "train_labels = mnist.train_labels()"
   ]
  },
  {
   "cell_type": "code",
   "execution_count": 6,
   "id": "dceab3a5",
   "metadata": {
    "execution": {
     "iopub.execute_input": "2021-12-30T20:09:26.879634Z",
     "iopub.status.busy": "2021-12-30T20:09:26.879039Z",
     "iopub.status.idle": "2021-12-30T20:09:26.894290Z",
     "shell.execute_reply": "2021-12-30T20:09:26.893792Z"
    },
    "papermill": {
     "duration": 0.046669,
     "end_time": "2021-12-30T20:09:26.894419",
     "exception": false,
     "start_time": "2021-12-30T20:09:26.847750",
     "status": "completed"
    },
    "tags": []
   },
   "outputs": [
    {
     "data": {
      "text/plain": [
       "((60000, 28, 28), (60000,))"
      ]
     },
     "execution_count": 6,
     "metadata": {},
     "output_type": "execute_result"
    }
   ],
   "source": [
    "train_images.shape, train_labels.shape"
   ]
  },
  {
   "cell_type": "code",
   "execution_count": 7,
   "id": "f50dc2bb",
   "metadata": {
    "execution": {
     "iopub.execute_input": "2021-12-30T20:09:26.949508Z",
     "iopub.status.busy": "2021-12-30T20:09:26.948865Z",
     "iopub.status.idle": "2021-12-30T20:09:27.069534Z",
     "shell.execute_reply": "2021-12-30T20:09:27.068893Z"
    },
    "papermill": {
     "duration": 0.149056,
     "end_time": "2021-12-30T20:09:27.069704",
     "exception": false,
     "start_time": "2021-12-30T20:09:26.920648",
     "status": "completed"
    },
    "tags": []
   },
   "outputs": [],
   "source": [
    "test_images = mnist.test_images()\n",
    "test_labels = mnist.test_labels()"
   ]
  },
  {
   "cell_type": "code",
   "execution_count": 8,
   "id": "fc38cf1b",
   "metadata": {
    "execution": {
     "iopub.execute_input": "2021-12-30T20:09:27.130396Z",
     "iopub.status.busy": "2021-12-30T20:09:27.129793Z",
     "iopub.status.idle": "2021-12-30T20:09:27.143872Z",
     "shell.execute_reply": "2021-12-30T20:09:27.144387Z"
    },
    "papermill": {
     "duration": 0.045593,
     "end_time": "2021-12-30T20:09:27.144529",
     "exception": false,
     "start_time": "2021-12-30T20:09:27.098936",
     "status": "completed"
    },
    "tags": []
   },
   "outputs": [
    {
     "data": {
      "text/plain": [
       "((10000, 28, 28), (10000,))"
      ]
     },
     "execution_count": 8,
     "metadata": {},
     "output_type": "execute_result"
    }
   ],
   "source": [
    "test_images.shape, test_labels.shape"
   ]
  },
  {
   "cell_type": "code",
   "execution_count": 9,
   "id": "f9ed8fe0",
   "metadata": {
    "execution": {
     "iopub.execute_input": "2021-12-30T20:09:27.198012Z",
     "iopub.status.busy": "2021-12-30T20:09:27.197419Z",
     "iopub.status.idle": "2021-12-30T20:09:27.353692Z",
     "shell.execute_reply": "2021-12-30T20:09:27.353116Z"
    },
    "papermill": {
     "duration": 0.184253,
     "end_time": "2021-12-30T20:09:27.353834",
     "exception": false,
     "start_time": "2021-12-30T20:09:27.169581",
     "status": "completed"
    },
    "tags": []
   },
   "outputs": [
    {
     "name": "stdout",
     "output_type": "stream",
     "text": [
      "2\n"
     ]
    },
    {
     "data": {
      "text/plain": [
       "<matplotlib.image.AxesImage at 0x7fcc873cd358>"
      ]
     },
     "execution_count": 9,
     "metadata": {},
     "output_type": "execute_result"
    },
    {
     "data": {
      "image/png": "[encoded data removed]",
      "text/plain": [
       "<Figure size 432x288 with 1 Axes>"
      ]
     },
     "metadata": {
      "needs_background": "light"
     },
     "output_type": "display_data"
    }
   ],
   "source": [
    "image_index = 7776 # You may select anything up to 60,000\n",
    "print(train_labels[image_index]) \n",
    "plt.imshow(train_images[image_index], cmap='Greys')"
   ]
  },
  {
   "cell_type": "markdown",
   "id": "a8d2388d",
   "metadata": {
    "papermill": {
     "duration": 0.028725,
     "end_time": "2021-12-30T20:09:27.411929",
     "exception": false,
     "start_time": "2021-12-30T20:09:27.383204",
     "status": "completed"
    },
    "tags": []
   },
   "source": [
    "## Filter data to get 3 and 8 out"
   ]
  },
  {
   "cell_type": "code",
   "execution_count": 10,
   "id": "776f7fc7",
   "metadata": {
    "execution": {
     "iopub.execute_input": "2021-12-30T20:09:27.472880Z",
     "iopub.status.busy": "2021-12-30T20:09:27.472248Z",
     "iopub.status.idle": "2021-12-30T20:09:27.488455Z",
     "shell.execute_reply": "2021-12-30T20:09:27.488920Z"
    },
    "papermill": {
     "duration": 0.04936,
     "end_time": "2021-12-30T20:09:27.489069",
     "exception": false,
     "start_time": "2021-12-30T20:09:27.439709",
     "status": "completed"
    },
    "tags": []
   },
   "outputs": [],
   "source": [
    "train_filter = np.where((train_labels == 3 ) | (train_labels == 8))\n",
    "test_filter = np.where((test_labels == 3) | (test_labels == 8))\n",
    "X_train, y_train = train_images[train_filter], train_labels[train_filter]\n",
    "X_test, y_test = test_images[test_filter], test_labels[test_filter]"
   ]
  },
  {
   "cell_type": "markdown",
   "id": "948f0b7e",
   "metadata": {
    "papermill": {
     "duration": 0.027256,
     "end_time": "2021-12-30T20:09:27.544175",
     "exception": false,
     "start_time": "2021-12-30T20:09:27.516919",
     "status": "completed"
    },
    "tags": []
   },
   "source": [
    "We normalize the pizel values in the 0 to 1 range"
   ]
  },
  {
   "cell_type": "code",
   "execution_count": 11,
   "id": "ee4c2166",
   "metadata": {
    "execution": {
     "iopub.execute_input": "2021-12-30T20:09:27.604416Z",
     "iopub.status.busy": "2021-12-30T20:09:27.603807Z",
     "iopub.status.idle": "2021-12-30T20:09:27.655824Z",
     "shell.execute_reply": "2021-12-30T20:09:27.655219Z"
    },
    "papermill": {
     "duration": 0.084378,
     "end_time": "2021-12-30T20:09:27.655981",
     "exception": false,
     "start_time": "2021-12-30T20:09:27.571603",
     "status": "completed"
    },
    "tags": []
   },
   "outputs": [],
   "source": [
    "X_train = X_train/255.\n",
    "X_test = X_test/255."
   ]
  },
  {
   "cell_type": "markdown",
   "id": "ddcf4fab",
   "metadata": {
    "papermill": {
     "duration": 0.028808,
     "end_time": "2021-12-30T20:09:27.715759",
     "exception": false,
     "start_time": "2021-12-30T20:09:27.686951",
     "status": "completed"
    },
    "tags": []
   },
   "source": [
    "And setup the labels as 1 (when the digit is 3) and 0 (when the digit is 8)"
   ]
  },
  {
   "cell_type": "code",
   "execution_count": 12,
   "id": "7dc908f2",
   "metadata": {
    "execution": {
     "iopub.execute_input": "2021-12-30T20:09:27.777182Z",
     "iopub.status.busy": "2021-12-30T20:09:27.776557Z",
     "iopub.status.idle": "2021-12-30T20:09:27.789984Z",
     "shell.execute_reply": "2021-12-30T20:09:27.789493Z"
    },
    "papermill": {
     "duration": 0.045655,
     "end_time": "2021-12-30T20:09:27.790119",
     "exception": false,
     "start_time": "2021-12-30T20:09:27.744464",
     "status": "completed"
    },
    "tags": []
   },
   "outputs": [],
   "source": [
    "y_train = 1*(y_train==3)\n",
    "y_test = 1*(y_test==3)"
   ]
  },
  {
   "cell_type": "code",
   "execution_count": 13,
   "id": "01e4e969",
   "metadata": {
    "execution": {
     "iopub.execute_input": "2021-12-30T20:09:27.856824Z",
     "iopub.status.busy": "2021-12-30T20:09:27.856224Z",
     "iopub.status.idle": "2021-12-30T20:09:27.868196Z",
     "shell.execute_reply": "2021-12-30T20:09:27.867680Z"
    },
    "papermill": {
     "duration": 0.049592,
     "end_time": "2021-12-30T20:09:27.868325",
     "exception": false,
     "start_time": "2021-12-30T20:09:27.818733",
     "status": "completed"
    },
    "tags": []
   },
   "outputs": [
    {
     "data": {
      "text/plain": [
       "((11982, 28, 28), (1984, 28, 28))"
      ]
     },
     "execution_count": 13,
     "metadata": {},
     "output_type": "execute_result"
    }
   ],
   "source": [
    "X_train.shape, X_test.shape"
   ]
  },
  {
   "cell_type": "markdown",
   "id": "5ccf3f85",
   "metadata": {
    "papermill": {
     "duration": 0.028868,
     "end_time": "2021-12-30T20:09:27.926453",
     "exception": false,
     "start_time": "2021-12-30T20:09:27.897585",
     "status": "completed"
    },
    "tags": []
   },
   "source": [
    "We reshape the data to flatten the image pixels into a set of features or co-variates:"
   ]
  },
  {
   "cell_type": "code",
   "execution_count": 14,
   "id": "5286a4a3",
   "metadata": {
    "execution": {
     "iopub.execute_input": "2021-12-30T20:09:27.989240Z",
     "iopub.status.busy": "2021-12-30T20:09:27.988665Z",
     "iopub.status.idle": "2021-12-30T20:09:28.002747Z",
     "shell.execute_reply": "2021-12-30T20:09:28.003297Z"
    },
    "papermill": {
     "duration": 0.047232,
     "end_time": "2021-12-30T20:09:28.003443",
     "exception": false,
     "start_time": "2021-12-30T20:09:27.956211",
     "status": "completed"
    },
    "tags": []
   },
   "outputs": [
    {
     "data": {
      "text/plain": [
       "((11982, 784), (1984, 784))"
      ]
     },
     "execution_count": 14,
     "metadata": {},
     "output_type": "execute_result"
    }
   ],
   "source": [
    "X_train = X_train.reshape(X_train.shape[0], -1)\n",
    "X_test = X_test.reshape(X_test.shape[0], -1)\n",
    "X_train.shape, X_test.shape"
   ]
  },
  {
   "cell_type": "code",
   "execution_count": 15,
   "id": "73c5f88a",
   "metadata": {
    "execution": {
     "iopub.execute_input": "2021-12-30T20:09:28.070414Z",
     "iopub.status.busy": "2021-12-30T20:09:28.069796Z",
     "iopub.status.idle": "2021-12-30T20:09:28.089812Z",
     "shell.execute_reply": "2021-12-30T20:09:28.089310Z"
    },
    "papermill": {
     "duration": 0.056628,
     "end_time": "2021-12-30T20:09:28.089941",
     "exception": false,
     "start_time": "2021-12-30T20:09:28.033313",
     "status": "completed"
    },
    "tags": []
   },
   "outputs": [],
   "source": [
    "#Impoting functions from 'Kudzu'\n",
    "from kudzu.model import Model\n",
    "from kudzu.train import Learner\n",
    "from kudzu.optim import GD\n",
    "from kudzu.data import Data, Sampler,Dataloader\n",
    "\n",
    "from kudzu.callbacks import AccCallback\n",
    "from kudzu.callbacks import ClfCallback\n",
    "\n",
    "from kudzu.loss import MSE\n",
    "\n",
    "from kudzu.layer import Sigmoid,Relu\n",
    "from kudzu.layer import Affine"
   ]
  },
  {
   "cell_type": "markdown",
   "id": "bc01172a",
   "metadata": {
    "papermill": {
     "duration": 0.02907,
     "end_time": "2021-12-30T20:09:28.148475",
     "exception": false,
     "start_time": "2021-12-30T20:09:28.119405",
     "status": "completed"
    },
    "tags": []
   },
   "source": [
    "### Let us create a `Config` class, to store important parameters. \n",
    "This class essentially plays the role of a dictionary."
   ]
  },
  {
   "cell_type": "code",
   "execution_count": 16,
   "id": "978281aa",
   "metadata": {
    "execution": {
     "iopub.execute_input": "2021-12-30T20:09:28.210617Z",
     "iopub.status.busy": "2021-12-30T20:09:28.210025Z",
     "iopub.status.idle": "2021-12-30T20:09:28.223685Z",
     "shell.execute_reply": "2021-12-30T20:09:28.223205Z"
    },
    "papermill": {
     "duration": 0.046574,
     "end_time": "2021-12-30T20:09:28.223820",
     "exception": false,
     "start_time": "2021-12-30T20:09:28.177246",
     "status": "completed"
    },
    "tags": []
   },
   "outputs": [],
   "source": [
    "class Config:\n",
    "    pass\n",
    "config = Config()\n",
    "config.lr = 0.001\n",
    "config.num_epochs = 250\n",
    "config.bs = 50"
   ]
  },
  {
   "cell_type": "markdown",
   "id": "1385fa59",
   "metadata": {
    "papermill": {
     "duration": 0.029653,
     "end_time": "2021-12-30T20:09:28.283412",
     "exception": false,
     "start_time": "2021-12-30T20:09:28.253759",
     "status": "completed"
    },
    "tags": []
   },
   "source": [
    "### Running Models with the Training data\n",
    "Details about the network layers:\n",
    "- A first affine layer has 784 inputs and does 100 affine transforms. These are followed by a Relu\n",
    "- A second affine layer has 100 inputs from the 100 activations of the past layer, and does 100 affine transforms. These are followed by a Relu\n",
    "- A third affine layer has 100 activations and does 2 affine transformations to create an embedding for visualization. There is no non-linearity here.\n",
    "- A final \"logistic regression\" which has an affine transform from 2 inputs to 1 output, which is squeezed through a sigmoid.\n"
   ]
  },
  {
   "cell_type": "code",
   "execution_count": 17,
   "id": "2b9c66db",
   "metadata": {
    "execution": {
     "iopub.execute_input": "2021-12-30T20:09:28.345925Z",
     "iopub.status.busy": "2021-12-30T20:09:28.345308Z",
     "iopub.status.idle": "2021-12-30T20:09:28.358437Z",
     "shell.execute_reply": "2021-12-30T20:09:28.357927Z"
    },
    "papermill": {
     "duration": 0.046247,
     "end_time": "2021-12-30T20:09:28.358563",
     "exception": false,
     "start_time": "2021-12-30T20:09:28.312316",
     "status": "completed"
    },
    "tags": []
   },
   "outputs": [],
   "source": [
    "data = Data(X_train, y_train.reshape(-1,1))\n",
    "sampler = Sampler(data, config.bs, shuffle=True)\n",
    "\n",
    "dl = Dataloader(data, sampler)\n",
    "\n",
    "opt = GD(config.lr)\n",
    "loss = MSE()"
   ]
  },
  {
   "cell_type": "code",
   "execution_count": 18,
   "id": "b275e4c2",
   "metadata": {
    "execution": {
     "iopub.execute_input": "2021-12-30T20:09:28.421455Z",
     "iopub.status.busy": "2021-12-30T20:09:28.420831Z",
     "iopub.status.idle": "2021-12-30T20:09:28.434999Z",
     "shell.execute_reply": "2021-12-30T20:09:28.434554Z"
    },
    "papermill": {
     "duration": 0.047225,
     "end_time": "2021-12-30T20:09:28.435122",
     "exception": false,
     "start_time": "2021-12-30T20:09:28.387897",
     "status": "completed"
    },
    "tags": []
   },
   "outputs": [],
   "source": [
    "training_data_x = X_train\n",
    "testing_data_x = X_test\n",
    "training_data_y = y_train.reshape(-1,1)\n",
    "testing_data_y = y_test.reshape(-1,1)"
   ]
  },
  {
   "cell_type": "code",
   "execution_count": 19,
   "id": "76951160",
   "metadata": {
    "execution": {
     "iopub.execute_input": "2021-12-30T20:09:28.498154Z",
     "iopub.status.busy": "2021-12-30T20:09:28.497581Z",
     "iopub.status.idle": "2021-12-30T20:09:28.515115Z",
     "shell.execute_reply": "2021-12-30T20:09:28.514637Z"
    },
    "papermill": {
     "duration": 0.051016,
     "end_time": "2021-12-30T20:09:28.515245",
     "exception": false,
     "start_time": "2021-12-30T20:09:28.464229",
     "status": "completed"
    },
    "tags": []
   },
   "outputs": [
    {
     "name": "stdout",
     "output_type": "stream",
     "text": [
      "xavier\n",
      "xavier\n",
      "xavier\n",
      "xavier\n",
      "xavier\n"
     ]
    }
   ],
   "source": [
    "layers = [Affine(\"first\", 784, 100), Relu(\"first\"), Affine(\"second\", 100, 100), Relu(\"second\"), Affine(\"third\", 100, 2), Affine(\"last\", 2, 1), Sigmoid(\"last\")]\n",
    "model_nn = Model(layers)\n",
    "model_lr = Model([Affine(\"logits\", 784, 1), Sigmoid(\"sigmoid\")])"
   ]
  },
  {
   "cell_type": "code",
   "execution_count": 20,
   "id": "6eede77a",
   "metadata": {
    "execution": {
     "iopub.execute_input": "2021-12-30T20:09:28.579157Z",
     "iopub.status.busy": "2021-12-30T20:09:28.578605Z",
     "iopub.status.idle": "2021-12-30T20:09:28.591350Z",
     "shell.execute_reply": "2021-12-30T20:09:28.590847Z"
    },
    "papermill": {
     "duration": 0.046367,
     "end_time": "2021-12-30T20:09:28.591481",
     "exception": false,
     "start_time": "2021-12-30T20:09:28.545114",
     "status": "completed"
    },
    "tags": []
   },
   "outputs": [],
   "source": [
    "nn_learner = Learner(loss, model_nn, opt, config.num_epochs)\n",
    "acc_nn = ClfCallback(nn_learner, config.bs, training_data_x , testing_data_x, training_data_y, testing_data_y)\n",
    "nn_learner.set_callbacks([acc_nn])"
   ]
  },
  {
   "cell_type": "code",
   "execution_count": 21,
   "id": "877b6cc7",
   "metadata": {
    "execution": {
     "iopub.execute_input": "2021-12-30T20:09:28.656349Z",
     "iopub.status.busy": "2021-12-30T20:09:28.655768Z",
     "iopub.status.idle": "2021-12-30T20:09:28.670170Z",
     "shell.execute_reply": "2021-12-30T20:09:28.669692Z"
    },
    "papermill": {
     "duration": 0.049344,
     "end_time": "2021-12-30T20:09:28.670294",
     "exception": false,
     "start_time": "2021-12-30T20:09:28.620950",
     "status": "completed"
    },
    "tags": []
   },
   "outputs": [],
   "source": [
    "lr_learner = Learner(loss, model_lr, opt, config.num_epochs)\n",
    "acc_lr = ClfCallback(lr_learner, config.bs, training_data_x , testing_data_x, training_data_y, testing_data_y)\n",
    "lr_learner.set_callbacks([acc_lr])"
   ]
  },
  {
   "cell_type": "code",
   "execution_count": 22,
   "id": "d9b133c3",
   "metadata": {
    "execution": {
     "iopub.execute_input": "2021-12-30T20:09:28.731694Z",
     "iopub.status.busy": "2021-12-30T20:09:28.731142Z",
     "iopub.status.idle": "2021-12-30T20:10:52.008681Z",
     "shell.execute_reply": "2021-12-30T20:10:52.009558Z"
    },
    "papermill": {
     "duration": 83.310364,
     "end_time": "2021-12-30T20:10:52.009724",
     "exception": false,
     "start_time": "2021-12-30T20:09:28.699360",
     "status": "completed"
    },
    "tags": []
   },
   "outputs": [
    {
     "name": "stdout",
     "output_type": "stream",
     "text": [
      "Epoch 0, Loss 0.2375\n",
      "Training Accuracy: 0.7300, Testing Accuracy: 0.6986\n",
      "\n"
     ]
    },
    {
     "name": "stdout",
     "output_type": "stream",
     "text": [
      "Epoch 10, Loss 0.08\n",
      "Training Accuracy: 0.9191, Testing Accuracy: 0.9269\n",
      "\n"
     ]
    },
    {
     "name": "stdout",
     "output_type": "stream",
     "text": [
      "Epoch 20, Loss 0.051\n",
      "Training Accuracy: 0.9466, Testing Accuracy: 0.9551\n",
      "\n"
     ]
    },
    {
     "name": "stdout",
     "output_type": "stream",
     "text": [
      "Epoch 30, Loss 0.0404\n",
      "Training Accuracy: 0.9554, Testing Accuracy: 0.9657\n",
      "\n"
     ]
    },
    {
     "name": "stdout",
     "output_type": "stream",
     "text": [
      "Epoch 40, Loss 0.035\n",
      "Training Accuracy: 0.9612, Testing Accuracy: 0.9688\n",
      "\n"
     ]
    },
    {
     "name": "stdout",
     "output_type": "stream",
     "text": [
      "Epoch 50, Loss 0.0318\n",
      "Training Accuracy: 0.9644, Testing Accuracy: 0.9688\n",
      "\n"
     ]
    },
    {
     "name": "stdout",
     "output_type": "stream",
     "text": [
      "Epoch 60, Loss 0.0295\n",
      "Training Accuracy: 0.9665, Testing Accuracy: 0.9698\n",
      "\n"
     ]
    },
    {
     "name": "stdout",
     "output_type": "stream",
     "text": [
      "Epoch 70, Loss 0.0278\n",
      "Training Accuracy: 0.9681, Testing Accuracy: 0.9713\n",
      "\n"
     ]
    },
    {
     "name": "stdout",
     "output_type": "stream",
     "text": [
      "Epoch 80, Loss 0.0265\n",
      "Training Accuracy: 0.9696, Testing Accuracy: 0.9703\n",
      "\n"
     ]
    },
    {
     "name": "stdout",
     "output_type": "stream",
     "text": [
      "Epoch 90, Loss 0.0254\n",
      "Training Accuracy: 0.9709, Testing Accuracy: 0.9708\n",
      "\n"
     ]
    },
    {
     "name": "stdout",
     "output_type": "stream",
     "text": [
      "Epoch 100, Loss 0.0244\n",
      "Training Accuracy: 0.9726, Testing Accuracy: 0.9713\n",
      "\n"
     ]
    },
    {
     "name": "stdout",
     "output_type": "stream",
     "text": [
      "Epoch 110, Loss 0.0236\n",
      "Training Accuracy: 0.9733, Testing Accuracy: 0.9713\n",
      "\n"
     ]
    },
    {
     "name": "stdout",
     "output_type": "stream",
     "text": [
      "Epoch 120, Loss 0.0229\n",
      "Training Accuracy: 0.9745, Testing Accuracy: 0.9713\n",
      "\n"
     ]
    },
    {
     "name": "stdout",
     "output_type": "stream",
     "text": [
      "Epoch 130, Loss 0.0222\n",
      "Training Accuracy: 0.9759, Testing Accuracy: 0.9723\n",
      "\n"
     ]
    },
    {
     "name": "stdout",
     "output_type": "stream",
     "text": [
      "Epoch 140, Loss 0.0216\n",
      "Training Accuracy: 0.9768, Testing Accuracy: 0.9733\n",
      "\n"
     ]
    },
    {
     "name": "stdout",
     "output_type": "stream",
     "text": [
      "Epoch 150, Loss 0.0211\n",
      "Training Accuracy: 0.9771, Testing Accuracy: 0.9728\n",
      "\n"
     ]
    },
    {
     "name": "stdout",
     "output_type": "stream",
     "text": [
      "Epoch 160, Loss 0.0205\n",
      "Training Accuracy: 0.9774, Testing Accuracy: 0.9728\n",
      "\n"
     ]
    },
    {
     "name": "stdout",
     "output_type": "stream",
     "text": [
      "Epoch 170, Loss 0.02\n",
      "Training Accuracy: 0.9782, Testing Accuracy: 0.9723\n",
      "\n"
     ]
    },
    {
     "name": "stdout",
     "output_type": "stream",
     "text": [
      "Epoch 180, Loss 0.0195\n",
      "Training Accuracy: 0.9787, Testing Accuracy: 0.9723\n",
      "\n"
     ]
    },
    {
     "name": "stdout",
     "output_type": "stream",
     "text": [
      "Epoch 190, Loss 0.0191\n",
      "Training Accuracy: 0.9793, Testing Accuracy: 0.9723\n",
      "\n"
     ]
    },
    {
     "name": "stdout",
     "output_type": "stream",
     "text": [
      "Epoch 200, Loss 0.0187\n",
      "Training Accuracy: 0.9797, Testing Accuracy: 0.9728\n",
      "\n"
     ]
    },
    {
     "name": "stdout",
     "output_type": "stream",
     "text": [
      "Epoch 210, Loss 0.0182\n",
      "Training Accuracy: 0.9800, Testing Accuracy: 0.9728\n",
      "\n"
     ]
    },
    {
     "name": "stdout",
     "output_type": "stream",
     "text": [
      "Epoch 220, Loss 0.0178\n",
      "Training Accuracy: 0.9806, Testing Accuracy: 0.9728\n",
      "\n"
     ]
    },
    {
     "name": "stdout",
     "output_type": "stream",
     "text": [
      "Epoch 230, Loss 0.0175\n",
      "Training Accuracy: 0.9809, Testing Accuracy: 0.9728\n",
      "\n"
     ]
    },
    {
     "name": "stdout",
     "output_type": "stream",
     "text": [
      "Epoch 240, Loss 0.0171\n",
      "Training Accuracy: 0.9813, Testing Accuracy: 0.9733\n",
      "\n"
     ]
    },
    {
     "data": {
      "text/plain": [
       "0.009870672130004516"
      ]
     },
     "execution_count": 22,
     "metadata": {},
     "output_type": "execute_result"
    }
   ],
   "source": [
    "nn_learner.train_loop(dl)"
   ]
  },
  {
   "cell_type": "code",
   "execution_count": 23,
   "id": "e0163366",
   "metadata": {
    "execution": {
     "iopub.execute_input": "2021-12-30T20:10:52.095237Z",
     "iopub.status.busy": "2021-12-30T20:10:52.094637Z",
     "iopub.status.idle": "2021-12-30T20:11:07.356281Z",
     "shell.execute_reply": "2021-12-30T20:11:07.357070Z"
    },
    "papermill": {
     "duration": 15.30895,
     "end_time": "2021-12-30T20:11:07.357248",
     "exception": false,
     "start_time": "2021-12-30T20:10:52.048298",
     "status": "completed"
    },
    "tags": []
   },
   "outputs": [
    {
     "name": "stdout",
     "output_type": "stream",
     "text": [
      "Epoch 0, Loss 0.2306\n",
      "Training Accuracy: 0.7296, Testing Accuracy: 0.7409\n",
      "\n"
     ]
    },
    {
     "name": "stdout",
     "output_type": "stream",
     "text": [
      "Epoch 10, Loss 0.1025\n",
      "Training Accuracy: 0.9085, Testing Accuracy: 0.9214\n",
      "\n"
     ]
    },
    {
     "name": "stdout",
     "output_type": "stream",
     "text": [
      "Epoch 20, Loss 0.0793\n",
      "Training Accuracy: 0.9273, Testing Accuracy: 0.9430\n",
      "\n"
     ]
    },
    {
     "name": "stdout",
     "output_type": "stream",
     "text": [
      "Epoch 30, Loss 0.0684\n",
      "Training Accuracy: 0.9369, Testing Accuracy: 0.9521\n",
      "\n"
     ]
    },
    {
     "name": "stdout",
     "output_type": "stream",
     "text": [
      "Epoch 40, Loss 0.0618\n",
      "Training Accuracy: 0.9418, Testing Accuracy: 0.9551\n",
      "\n"
     ]
    },
    {
     "name": "stdout",
     "output_type": "stream",
     "text": [
      "Epoch 50, Loss 0.0573\n",
      "Training Accuracy: 0.9453, Testing Accuracy: 0.9577\n",
      "\n"
     ]
    },
    {
     "name": "stdout",
     "output_type": "stream",
     "text": [
      "Epoch 60, Loss 0.054\n",
      "Training Accuracy: 0.9480, Testing Accuracy: 0.9587\n",
      "\n"
     ]
    },
    {
     "name": "stdout",
     "output_type": "stream",
     "text": [
      "Epoch 70, Loss 0.0514\n",
      "Training Accuracy: 0.9490, Testing Accuracy: 0.9602\n",
      "\n"
     ]
    },
    {
     "name": "stdout",
     "output_type": "stream",
     "text": [
      "Epoch 80, Loss 0.0494\n",
      "Training Accuracy: 0.9513, Testing Accuracy: 0.9612\n",
      "\n"
     ]
    },
    {
     "name": "stdout",
     "output_type": "stream",
     "text": [
      "Epoch 90, Loss 0.0477\n",
      "Training Accuracy: 0.9519, Testing Accuracy: 0.9627\n",
      "\n"
     ]
    },
    {
     "name": "stdout",
     "output_type": "stream",
     "text": [
      "Epoch 100, Loss 0.0463\n",
      "Training Accuracy: 0.9532, Testing Accuracy: 0.9642\n",
      "\n"
     ]
    },
    {
     "name": "stdout",
     "output_type": "stream",
     "text": [
      "Epoch 110, Loss 0.045\n",
      "Training Accuracy: 0.9540, Testing Accuracy: 0.9642\n",
      "\n"
     ]
    },
    {
     "name": "stdout",
     "output_type": "stream",
     "text": [
      "Epoch 120, Loss 0.044\n",
      "Training Accuracy: 0.9549, Testing Accuracy: 0.9642\n",
      "\n"
     ]
    },
    {
     "name": "stdout",
     "output_type": "stream",
     "text": [
      "Epoch 130, Loss 0.043\n",
      "Training Accuracy: 0.9553, Testing Accuracy: 0.9642\n",
      "\n"
     ]
    },
    {
     "name": "stdout",
     "output_type": "stream",
     "text": [
      "Epoch 140, Loss 0.0422\n",
      "Training Accuracy: 0.9563, Testing Accuracy: 0.9647\n",
      "\n"
     ]
    },
    {
     "name": "stdout",
     "output_type": "stream",
     "text": [
      "Epoch 150, Loss 0.0414\n",
      "Training Accuracy: 0.9568, Testing Accuracy: 0.9657\n",
      "\n"
     ]
    },
    {
     "name": "stdout",
     "output_type": "stream",
     "text": [
      "Epoch 160, Loss 0.0407\n",
      "Training Accuracy: 0.9577, Testing Accuracy: 0.9657\n",
      "\n"
     ]
    },
    {
     "name": "stdout",
     "output_type": "stream",
     "text": [
      "Epoch 170, Loss 0.0401\n",
      "Training Accuracy: 0.9578, Testing Accuracy: 0.9657\n",
      "\n"
     ]
    },
    {
     "name": "stdout",
     "output_type": "stream",
     "text": [
      "Epoch 180, Loss 0.0396\n",
      "Training Accuracy: 0.9584, Testing Accuracy: 0.9667\n",
      "\n"
     ]
    },
    {
     "name": "stdout",
     "output_type": "stream",
     "text": [
      "Epoch 190, Loss 0.039\n",
      "Training Accuracy: 0.9585, Testing Accuracy: 0.9667\n",
      "\n"
     ]
    },
    {
     "name": "stdout",
     "output_type": "stream",
     "text": [
      "Epoch 200, Loss 0.0386\n",
      "Training Accuracy: 0.9587, Testing Accuracy: 0.9667\n",
      "\n"
     ]
    },
    {
     "name": "stdout",
     "output_type": "stream",
     "text": [
      "Epoch 210, Loss 0.0381\n",
      "Training Accuracy: 0.9589, Testing Accuracy: 0.9667\n",
      "\n"
     ]
    },
    {
     "name": "stdout",
     "output_type": "stream",
     "text": [
      "Epoch 220, Loss 0.0377\n",
      "Training Accuracy: 0.9591, Testing Accuracy: 0.9667\n",
      "\n"
     ]
    },
    {
     "name": "stdout",
     "output_type": "stream",
     "text": [
      "Epoch 230, Loss 0.0373\n",
      "Training Accuracy: 0.9596, Testing Accuracy: 0.9672\n",
      "\n"
     ]
    },
    {
     "name": "stdout",
     "output_type": "stream",
     "text": [
      "Epoch 240, Loss 0.037\n",
      "Training Accuracy: 0.9597, Testing Accuracy: 0.9672\n",
      "\n"
     ]
    },
    {
     "data": {
      "text/plain": [
       "0.05562338163686097"
      ]
     },
     "execution_count": 23,
     "metadata": {},
     "output_type": "execute_result"
    }
   ],
   "source": [
    "lr_learner.train_loop(dl)"
   ]
  },
  {
   "cell_type": "code",
   "execution_count": 24,
   "id": "ca410940",
   "metadata": {
    "execution": {
     "iopub.execute_input": "2021-12-30T20:11:07.458866Z",
     "iopub.status.busy": "2021-12-30T20:11:07.458262Z",
     "iopub.status.idle": "2021-12-30T20:11:07.715853Z",
     "shell.execute_reply": "2021-12-30T20:11:07.716301Z"
    },
    "papermill": {
     "duration": 0.313987,
     "end_time": "2021-12-30T20:11:07.716447",
     "exception": false,
     "start_time": "2021-12-30T20:11:07.402460",
     "status": "completed"
    },
    "tags": []
   },
   "outputs": [
    {
     "data": {
      "text/plain": [
       "<matplotlib.legend.Legend at 0x7fcc79ba0ac8>"
      ]
     },
     "execution_count": 24,
     "metadata": {},
     "output_type": "execute_result"
    },
    {
     "data": {
      "image/png": "[encoded data removed]",
      "text/plain": [
       "<Figure size 1080x720 with 1 Axes>"
      ]
     },
     "metadata": {
      "needs_background": "light"
     },
     "output_type": "display_data"
    }
   ],
   "source": [
    "#comparing the results of NN and LR\n",
    "plt.figure(figsize=(15,10))\n",
    "\n",
    "# Neural Network plots\n",
    "plt.plot(acc_nn.accuracies, 'r-', label = \"Training Accuracies - NN\")\n",
    "plt.plot(acc_nn.test_accuracies, 'g-', label = \"Testing Accuracies - NN\")\n",
    "\n",
    "# Logistic Regression plots\n",
    "plt.plot(acc_lr.accuracies, 'k-', label = \"Training Accuracies - LR\")\n",
    "plt.plot(acc_lr.test_accuracies, 'b-', label = \"Testing Accuracies - LR\")\n",
    "plt.legend()"
   ]
  },
  {
   "cell_type": "markdown",
   "id": "80dfb35c",
   "metadata": {
    "papermill": {
     "duration": 0.045453,
     "end_time": "2021-12-30T20:11:07.807790",
     "exception": false,
     "start_time": "2021-12-30T20:11:07.762337",
     "status": "completed"
    },
    "tags": []
   },
   "source": [
    "#### Plotting the outputs of this layer of the NN.\n"
   ]
  },
  {
   "cell_type": "code",
   "execution_count": 25,
   "id": "45eb2ff5",
   "metadata": {
    "execution": {
     "iopub.execute_input": "2021-12-30T20:11:07.902630Z",
     "iopub.status.busy": "2021-12-30T20:11:07.902000Z",
     "iopub.status.idle": "2021-12-30T20:11:07.923655Z",
     "shell.execute_reply": "2021-12-30T20:11:07.924139Z"
    },
    "papermill": {
     "duration": 0.070481,
     "end_time": "2021-12-30T20:11:07.924281",
     "exception": false,
     "start_time": "2021-12-30T20:11:07.853800",
     "status": "completed"
    },
    "tags": []
   },
   "outputs": [],
   "source": [
    "new_model = Model(layers[:-2])\n",
    "testing_plot = new_model(testing_data_x)"
   ]
  },
  {
   "cell_type": "code",
   "execution_count": 26,
   "id": "4c0a5485",
   "metadata": {
    "execution": {
     "iopub.execute_input": "2021-12-30T20:11:08.020466Z",
     "iopub.status.busy": "2021-12-30T20:11:08.019853Z",
     "iopub.status.idle": "2021-12-30T20:11:08.244568Z",
     "shell.execute_reply": "2021-12-30T20:11:08.244064Z"
    },
    "papermill": {
     "duration": 0.274336,
     "end_time": "2021-12-30T20:11:08.244729",
     "exception": false,
     "start_time": "2021-12-30T20:11:07.970393",
     "status": "completed"
    },
    "tags": []
   },
   "outputs": [
    {
     "data": {
      "text/plain": [
       "Text(0.5, 1.0, 'Outputs')"
      ]
     },
     "execution_count": 26,
     "metadata": {},
     "output_type": "execute_result"
    },
    {
     "data": {
      "image/png": "[encoded data removed]",
      "text/plain": [
       "<Figure size 576x504 with 1 Axes>"
      ]
     },
     "metadata": {
      "needs_background": "light"
     },
     "output_type": "display_data"
    }
   ],
   "source": [
    "# Plotting the scatter plot of points and color coding by class\n",
    "plt.figure(figsize=(8,7))\n",
    "plt.scatter(testing_plot[:,0], testing_plot[:,1], alpha = 0.1, c = y_test.ravel());\n",
    "plt.title('Outputs')"
   ]
  },
  {
   "cell_type": "markdown",
   "id": "a74fcf8f",
   "metadata": {
    "papermill": {
     "duration": 0.048803,
     "end_time": "2021-12-30T20:11:08.342177",
     "exception": false,
     "start_time": "2021-12-30T20:11:08.293374",
     "status": "completed"
    },
    "tags": []
   },
   "source": [
    "Probability contours"
   ]
  },
  {
   "cell_type": "code",
   "execution_count": 27,
   "id": "d0afc8e3",
   "metadata": {
    "execution": {
     "iopub.execute_input": "2021-12-30T20:11:08.449263Z",
     "iopub.status.busy": "2021-12-30T20:11:08.448610Z",
     "iopub.status.idle": "2021-12-30T20:11:08.458931Z",
     "shell.execute_reply": "2021-12-30T20:11:08.459497Z"
    },
    "papermill": {
     "duration": 0.068827,
     "end_time": "2021-12-30T20:11:08.459648",
     "exception": false,
     "start_time": "2021-12-30T20:11:08.390821",
     "status": "completed"
    },
    "tags": []
   },
   "outputs": [],
   "source": [
    "model_prob = Model(layers[-2:]) "
   ]
  },
  {
   "cell_type": "code",
   "execution_count": 28,
   "id": "9b96e238",
   "metadata": {
    "execution": {
     "iopub.execute_input": "2021-12-30T20:11:08.561948Z",
     "iopub.status.busy": "2021-12-30T20:11:08.561331Z",
     "iopub.status.idle": "2021-12-30T20:11:08.576629Z",
     "shell.execute_reply": "2021-12-30T20:11:08.577074Z"
    },
    "papermill": {
     "duration": 0.069253,
     "end_time": "2021-12-30T20:11:08.577255",
     "exception": false,
     "start_time": "2021-12-30T20:11:08.508002",
     "status": "completed"
    },
    "tags": []
   },
   "outputs": [],
   "source": [
    "#creating the x and y ranges according to the above generated plot.\n",
    "x_range = np.linspace(-4, 1, 100) \n",
    "y_range = np.linspace(-6, 6, 100) \n",
    "x_grid, y_grid = np.meshgrid(x_range, y_range) # x_grid and y_grig are of size 100 X 100\n",
    "\n",
    "# converting x_grid and y_grid to continuous arrays\n",
    "x_gridflat = np.ravel(x_grid)\n",
    "y_gridflat = np.ravel(y_grid)\n",
    "\n",
    "# The last layer of the current model takes two columns as input. Hence transpose of np.vstack() is required.\n",
    "X = np.vstack((x_gridflat, y_gridflat)).T\n",
    "\n",
    "prob_contour = model_prob(X).reshape(100,100) "
   ]
  },
  {
   "cell_type": "code",
   "execution_count": 29,
   "id": "da72499a",
   "metadata": {
    "execution": {
     "iopub.execute_input": "2021-12-30T20:11:08.710346Z",
     "iopub.status.busy": "2021-12-30T20:11:08.709795Z",
     "iopub.status.idle": "2021-12-30T20:11:08.996135Z",
     "shell.execute_reply": "2021-12-30T20:11:08.995629Z"
    },
    "papermill": {
     "duration": 0.370136,
     "end_time": "2021-12-30T20:11:08.996263",
     "exception": false,
     "start_time": "2021-12-30T20:11:08.626127",
     "status": "completed"
    },
    "tags": []
   },
   "outputs": [
    {
     "data": {
      "image/png": "[encoded data removed]",
      "text/plain": [
       "<Figure size 720x648 with 1 Axes>"
      ]
     },
     "metadata": {
      "needs_background": "light"
     },
     "output_type": "display_data"
    }
   ],
   "source": [
    "plt.figure(figsize=(10,9))\n",
    "plt.scatter(testing_plot[:,0], testing_plot[:,1], alpha = 0.1, c = y_test.ravel())\n",
    "contours = plt.contour(x_grid,y_grid,prob_contour)\n",
    "plt.title('Probability Contours')\n",
    "plt.clabel(contours, inline = True );"
   ]
  },
  {
   "cell_type": "code",
   "execution_count": null,
   "id": "e81b4ac7",
   "metadata": {
    "papermill": {
     "duration": 0.051206,
     "end_time": "2021-12-30T20:11:09.099476",
     "exception": false,
     "start_time": "2021-12-30T20:11:09.048270",
     "status": "completed"
    },
    "tags": []
   },
   "outputs": [],
   "source": []
  }
 ],
 "metadata": {
  "kernelspec": {
   "display_name": "Python 3",
   "language": "python",
   "name": "python3"
  },
  "language_info": {
   "codemirror_mode": {
    "name": "ipython",
    "version": 3
   },
   "file_extension": ".py",
   "mimetype": "text/x-python",
   "name": "python",
   "nbconvert_exporter": "python",
   "pygments_lexer": "ipython3",
   "version": "3.6.15"
  },
  "papermill": {
   "default_parameters": {},
   "duration": 108.246261,
   "end_time": "2021-12-30T20:11:09.559747",
   "environment_variables": {},
   "exception": null,
   "input_path": "2020-08-11-part2.ipynb",
   "output_path": "2020-08-11-part2.ipynb",
   "parameters": {},
   "start_time": "2021-12-30T20:09:21.313486",
   "version": "2.3.3"
  }
 },
 "nbformat": 4,
 "nbformat_minor": 5
}