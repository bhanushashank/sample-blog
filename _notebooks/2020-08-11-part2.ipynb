{
 "cells": [
  {
   "cell_type": "markdown",
   "id": "98380cd3",
   "metadata": {
    "papermill": {
     "duration": 0.028886,
     "end_time": "2022-05-08T10:10:08.841280",
     "exception": false,
     "start_time": "2022-05-08T10:10:08.812394",
     "status": "completed"
    },
    "tags": []
   },
   "source": [
    "# Distinguish Your Own Digits (DYOD)"
   ]
  },
  {
   "cell_type": "markdown",
   "id": "ef31240d",
   "metadata": {
    "papermill": {
     "duration": 0.025452,
     "end_time": "2022-05-08T10:10:08.891473",
     "exception": false,
     "start_time": "2022-05-08T10:10:08.866021",
     "status": "completed"
    },
    "tags": []
   },
   "source": [
    "You are going to write a classifier that distinguishes between the number 3 and number 8."
   ]
  },
  {
   "cell_type": "code",
   "execution_count": 1,
   "id": "b15c8646",
   "metadata": {
    "execution": {
     "iopub.execute_input": "2022-05-08T10:10:08.950086Z",
     "iopub.status.busy": "2022-05-08T10:10:08.949498Z",
     "iopub.status.idle": "2022-05-08T10:10:08.959872Z",
     "shell.execute_reply": "2022-05-08T10:10:08.960281Z"
    },
    "papermill": {
     "duration": 0.045063,
     "end_time": "2022-05-08T10:10:08.960451",
     "exception": false,
     "start_time": "2022-05-08T10:10:08.915388",
     "status": "completed"
    },
    "tags": []
   },
   "outputs": [],
   "source": [
    "%load_ext autoreload\n",
    "%autoreload 2"
   ]
  },
  {
   "cell_type": "code",
   "execution_count": 2,
   "id": "22ef38dc",
   "metadata": {
    "execution": {
     "iopub.execute_input": "2022-05-08T10:10:09.016264Z",
     "iopub.status.busy": "2022-05-08T10:10:09.015705Z",
     "iopub.status.idle": "2022-05-08T10:10:09.559909Z",
     "shell.execute_reply": "2022-05-08T10:10:09.559377Z"
    },
    "papermill": {
     "duration": 0.575531,
     "end_time": "2022-05-08T10:10:09.560049",
     "exception": false,
     "start_time": "2022-05-08T10:10:08.984518",
     "status": "completed"
    },
    "tags": []
   },
   "outputs": [],
   "source": [
    "%matplotlib inline\n",
    "import numpy as np\n",
    "import matplotlib.pyplot as plt\n",
    "import pandas as pd"
   ]
  },
  {
   "cell_type": "markdown",
   "id": "ba036198",
   "metadata": {
    "papermill": {
     "duration": 0.024159,
     "end_time": "2022-05-08T10:10:09.609224",
     "exception": false,
     "start_time": "2022-05-08T10:10:09.585065",
     "status": "completed"
    },
    "tags": []
   },
   "source": [
    "From the command line run `pip install mnist`. This is a library that will help you bring down the mnist dataset. If you run this from a notebook, you need to put  `!pip install mnist` in a cell by itself."
   ]
  },
  {
   "cell_type": "code",
   "execution_count": 3,
   "id": "bb6ad8a1",
   "metadata": {
    "execution": {
     "iopub.execute_input": "2022-05-08T10:10:09.670926Z",
     "iopub.status.busy": "2022-05-08T10:10:09.670381Z",
     "iopub.status.idle": "2022-05-08T10:10:11.350914Z",
     "shell.execute_reply": "2022-05-08T10:10:11.350357Z"
    },
    "papermill": {
     "duration": 1.717523,
     "end_time": "2022-05-08T10:10:11.351045",
     "exception": false,
     "start_time": "2022-05-08T10:10:09.633522",
     "status": "completed"
    },
    "tags": []
   },
   "outputs": [
    {
     "name": "stdout",
     "output_type": "stream",
     "text": [
      "Collecting mnist\r\n",
      "  Downloading mnist-0.2.2-py2.py3-none-any.whl (3.5 kB)\r\n",
      "Requirement already satisfied: numpy in /opt/hostedtoolcache/Python/3.6.15/x64/lib/python3.6/site-packages (from mnist) (1.19.5)\r\n"
     ]
    },
    {
     "name": "stdout",
     "output_type": "stream",
     "text": [
      "Installing collected packages: mnist\r\n"
     ]
    },
    {
     "name": "stdout",
     "output_type": "stream",
     "text": [
      "Successfully installed mnist-0.2.2\r\n"
     ]
    }
   ],
   "source": [
    "!pip install mnist"
   ]
  },
  {
   "cell_type": "markdown",
   "id": "69df9c9a",
   "metadata": {
    "papermill": {
     "duration": 0.024884,
     "end_time": "2022-05-08T10:10:11.401711",
     "exception": false,
     "start_time": "2022-05-08T10:10:11.376827",
     "status": "completed"
    },
    "tags": []
   },
   "source": [
    "## Preparing the Data"
   ]
  },
  {
   "cell_type": "code",
   "execution_count": 4,
   "id": "7f69d806",
   "metadata": {
    "execution": {
     "iopub.execute_input": "2022-05-08T10:10:11.467678Z",
     "iopub.status.busy": "2022-05-08T10:10:11.467113Z",
     "iopub.status.idle": "2022-05-08T10:10:11.473692Z",
     "shell.execute_reply": "2022-05-08T10:10:11.474105Z"
    },
    "papermill": {
     "duration": 0.047707,
     "end_time": "2022-05-08T10:10:11.474239",
     "exception": false,
     "start_time": "2022-05-08T10:10:11.426532",
     "status": "completed"
    },
    "tags": []
   },
   "outputs": [],
   "source": [
    "import mnist"
   ]
  },
  {
   "cell_type": "code",
   "execution_count": 5,
   "id": "a411e44f",
   "metadata": {
    "execution": {
     "iopub.execute_input": "2022-05-08T10:10:11.538346Z",
     "iopub.status.busy": "2022-05-08T10:10:11.537794Z",
     "iopub.status.idle": "2022-05-08T10:10:12.022949Z",
     "shell.execute_reply": "2022-05-08T10:10:12.023364Z"
    },
    "papermill": {
     "duration": 0.524232,
     "end_time": "2022-05-08T10:10:12.023512",
     "exception": false,
     "start_time": "2022-05-08T10:10:11.499280",
     "status": "completed"
    },
    "tags": []
   },
   "outputs": [],
   "source": [
    "train_images = mnist.train_images()\n",
    "train_labels = mnist.train_labels()"
   ]
  },
  {
   "cell_type": "code",
   "execution_count": 6,
   "id": "dceab3a5",
   "metadata": {
    "execution": {
     "iopub.execute_input": "2022-05-08T10:10:12.084431Z",
     "iopub.status.busy": "2022-05-08T10:10:12.083873Z",
     "iopub.status.idle": "2022-05-08T10:10:12.096461Z",
     "shell.execute_reply": "2022-05-08T10:10:12.096004Z"
    },
    "papermill": {
     "duration": 0.048054,
     "end_time": "2022-05-08T10:10:12.096579",
     "exception": false,
     "start_time": "2022-05-08T10:10:12.048525",
     "status": "completed"
    },
    "tags": []
   },
   "outputs": [
    {
     "data": {
      "text/plain": [
       "((60000, 28, 28), (60000,))"
      ]
     },
     "execution_count": 6,
     "metadata": {},
     "output_type": "execute_result"
    }
   ],
   "source": [
    "train_images.shape, train_labels.shape"
   ]
  },
  {
   "cell_type": "code",
   "execution_count": 7,
   "id": "f50dc2bb",
   "metadata": {
    "execution": {
     "iopub.execute_input": "2022-05-08T10:10:12.153594Z",
     "iopub.status.busy": "2022-05-08T10:10:12.150284Z",
     "iopub.status.idle": "2022-05-08T10:10:12.271085Z",
     "shell.execute_reply": "2022-05-08T10:10:12.271601Z"
    },
    "papermill": {
     "duration": 0.150013,
     "end_time": "2022-05-08T10:10:12.271754",
     "exception": false,
     "start_time": "2022-05-08T10:10:12.121741",
     "status": "completed"
    },
    "tags": []
   },
   "outputs": [],
   "source": [
    "test_images = mnist.test_images()\n",
    "test_labels = mnist.test_labels()"
   ]
  },
  {
   "cell_type": "code",
   "execution_count": 8,
   "id": "fc38cf1b",
   "metadata": {
    "execution": {
     "iopub.execute_input": "2022-05-08T10:10:12.328210Z",
     "iopub.status.busy": "2022-05-08T10:10:12.326646Z",
     "iopub.status.idle": "2022-05-08T10:10:12.340669Z",
     "shell.execute_reply": "2022-05-08T10:10:12.341174Z"
    },
    "papermill": {
     "duration": 0.043438,
     "end_time": "2022-05-08T10:10:12.341316",
     "exception": false,
     "start_time": "2022-05-08T10:10:12.297878",
     "status": "completed"
    },
    "tags": []
   },
   "outputs": [
    {
     "data": {
      "text/plain": [
       "((10000, 28, 28), (10000,))"
      ]
     },
     "execution_count": 8,
     "metadata": {},
     "output_type": "execute_result"
    }
   ],
   "source": [
    "test_images.shape, test_labels.shape"
   ]
  },
  {
   "cell_type": "code",
   "execution_count": 9,
   "id": "f9ed8fe0",
   "metadata": {
    "execution": {
     "iopub.execute_input": "2022-05-08T10:10:12.398768Z",
     "iopub.status.busy": "2022-05-08T10:10:12.398217Z",
     "iopub.status.idle": "2022-05-08T10:10:12.536717Z",
     "shell.execute_reply": "2022-05-08T10:10:12.537236Z"
    },
    "papermill": {
     "duration": 0.170726,
     "end_time": "2022-05-08T10:10:12.537391",
     "exception": false,
     "start_time": "2022-05-08T10:10:12.366665",
     "status": "completed"
    },
    "tags": []
   },
   "outputs": [
    {
     "name": "stdout",
     "output_type": "stream",
     "text": [
      "2\n"
     ]
    },
    {
     "data": {
      "text/plain": [
       "<matplotlib.image.AxesImage at 0x7fae186fb390>"
      ]
     },
     "execution_count": 9,
     "metadata": {},
     "output_type": "execute_result"
    },
    {
     "data": {
      "image/png": "[encoded data removed]",
      "text/plain": [
       "<Figure size 432x288 with 1 Axes>"
      ]
     },
     "metadata": {
      "needs_background": "light"
     },
     "output_type": "display_data"
    }
   ],
   "source": [
    "image_index = 7776 # You may select anything up to 60,000\n",
    "print(train_labels[image_index]) \n",
    "plt.imshow(train_images[image_index], cmap='Greys')"
   ]
  },
  {
   "cell_type": "markdown",
   "id": "a8d2388d",
   "metadata": {
    "papermill": {
     "duration": 0.02637,
     "end_time": "2022-05-08T10:10:12.591108",
     "exception": false,
     "start_time": "2022-05-08T10:10:12.564738",
     "status": "completed"
    },
    "tags": []
   },
   "source": [
    "## Filter data to get 3 and 8 out"
   ]
  },
  {
   "cell_type": "code",
   "execution_count": 10,
   "id": "776f7fc7",
   "metadata": {
    "execution": {
     "iopub.execute_input": "2022-05-08T10:10:12.650041Z",
     "iopub.status.busy": "2022-05-08T10:10:12.649477Z",
     "iopub.status.idle": "2022-05-08T10:10:12.666905Z",
     "shell.execute_reply": "2022-05-08T10:10:12.666455Z"
    },
    "papermill": {
     "duration": 0.049381,
     "end_time": "2022-05-08T10:10:12.667023",
     "exception": false,
     "start_time": "2022-05-08T10:10:12.617642",
     "status": "completed"
    },
    "tags": []
   },
   "outputs": [],
   "source": [
    "train_filter = np.where((train_labels == 3 ) | (train_labels == 8))\n",
    "test_filter = np.where((test_labels == 3) | (test_labels == 8))\n",
    "X_train, y_train = train_images[train_filter], train_labels[train_filter]\n",
    "X_test, y_test = test_images[test_filter], test_labels[test_filter]"
   ]
  },
  {
   "cell_type": "markdown",
   "id": "948f0b7e",
   "metadata": {
    "papermill": {
     "duration": 0.026488,
     "end_time": "2022-05-08T10:10:12.720201",
     "exception": false,
     "start_time": "2022-05-08T10:10:12.693713",
     "status": "completed"
    },
    "tags": []
   },
   "source": [
    "We normalize the pizel values in the 0 to 1 range"
   ]
  },
  {
   "cell_type": "code",
   "execution_count": 11,
   "id": "ee4c2166",
   "metadata": {
    "execution": {
     "iopub.execute_input": "2022-05-08T10:10:12.780515Z",
     "iopub.status.busy": "2022-05-08T10:10:12.779967Z",
     "iopub.status.idle": "2022-05-08T10:10:12.826229Z",
     "shell.execute_reply": "2022-05-08T10:10:12.825704Z"
    },
    "papermill": {
     "duration": 0.079403,
     "end_time": "2022-05-08T10:10:12.826369",
     "exception": false,
     "start_time": "2022-05-08T10:10:12.746966",
     "status": "completed"
    },
    "tags": []
   },
   "outputs": [],
   "source": [
    "X_train = X_train/255.\n",
    "X_test = X_test/255."
   ]
  },
  {
   "cell_type": "markdown",
   "id": "ddcf4fab",
   "metadata": {
    "papermill": {
     "duration": 0.02631,
     "end_time": "2022-05-08T10:10:12.879891",
     "exception": false,
     "start_time": "2022-05-08T10:10:12.853581",
     "status": "completed"
    },
    "tags": []
   },
   "source": [
    "And setup the labels as 1 (when the digit is 3) and 0 (when the digit is 8)"
   ]
  },
  {
   "cell_type": "code",
   "execution_count": 12,
   "id": "7dc908f2",
   "metadata": {
    "execution": {
     "iopub.execute_input": "2022-05-08T10:10:12.949935Z",
     "iopub.status.busy": "2022-05-08T10:10:12.945282Z",
     "iopub.status.idle": "2022-05-08T10:10:12.952771Z",
     "shell.execute_reply": "2022-05-08T10:10:12.952347Z"
    },
    "papermill": {
     "duration": 0.046567,
     "end_time": "2022-05-08T10:10:12.952908",
     "exception": false,
     "start_time": "2022-05-08T10:10:12.906341",
     "status": "completed"
    },
    "tags": []
   },
   "outputs": [],
   "source": [
    "y_train = 1*(y_train==3)\n",
    "y_test = 1*(y_test==3)"
   ]
  },
  {
   "cell_type": "code",
   "execution_count": 13,
   "id": "01e4e969",
   "metadata": {
    "execution": {
     "iopub.execute_input": "2022-05-08T10:10:13.009802Z",
     "iopub.status.busy": "2022-05-08T10:10:13.009243Z",
     "iopub.status.idle": "2022-05-08T10:10:13.023940Z",
     "shell.execute_reply": "2022-05-08T10:10:13.023513Z"
    },
    "papermill": {
     "duration": 0.044563,
     "end_time": "2022-05-08T10:10:13.024059",
     "exception": false,
     "start_time": "2022-05-08T10:10:12.979496",
     "status": "completed"
    },
    "tags": []
   },
   "outputs": [
    {
     "data": {
      "text/plain": [
       "((11982, 28, 28), (1984, 28, 28))"
      ]
     },
     "execution_count": 13,
     "metadata": {},
     "output_type": "execute_result"
    }
   ],
   "source": [
    "X_train.shape, X_test.shape"
   ]
  },
  {
   "cell_type": "markdown",
   "id": "5ccf3f85",
   "metadata": {
    "papermill": {
     "duration": 0.026595,
     "end_time": "2022-05-08T10:10:13.077375",
     "exception": false,
     "start_time": "2022-05-08T10:10:13.050780",
     "status": "completed"
    },
    "tags": []
   },
   "source": [
    "We reshape the data to flatten the image pixels into a set of features or co-variates:"
   ]
  },
  {
   "cell_type": "code",
   "execution_count": 14,
   "id": "5286a4a3",
   "metadata": {
    "execution": {
     "iopub.execute_input": "2022-05-08T10:10:13.134927Z",
     "iopub.status.busy": "2022-05-08T10:10:13.134400Z",
     "iopub.status.idle": "2022-05-08T10:10:13.149322Z",
     "shell.execute_reply": "2022-05-08T10:10:13.148840Z"
    },
    "papermill": {
     "duration": 0.045324,
     "end_time": "2022-05-08T10:10:13.149440",
     "exception": false,
     "start_time": "2022-05-08T10:10:13.104116",
     "status": "completed"
    },
    "tags": []
   },
   "outputs": [
    {
     "data": {
      "text/plain": [
       "((11982, 784), (1984, 784))"
      ]
     },
     "execution_count": 14,
     "metadata": {},
     "output_type": "execute_result"
    }
   ],
   "source": [
    "X_train = X_train.reshape(X_train.shape[0], -1)\n",
    "X_test = X_test.reshape(X_test.shape[0], -1)\n",
    "X_train.shape, X_test.shape"
   ]
  },
  {
   "cell_type": "code",
   "execution_count": 15,
   "id": "73c5f88a",
   "metadata": {
    "execution": {
     "iopub.execute_input": "2022-05-08T10:10:13.212193Z",
     "iopub.status.busy": "2022-05-08T10:10:13.211614Z",
     "iopub.status.idle": "2022-05-08T10:10:13.228812Z",
     "shell.execute_reply": "2022-05-08T10:10:13.229272Z"
    },
    "papermill": {
     "duration": 0.05292,
     "end_time": "2022-05-08T10:10:13.229421",
     "exception": false,
     "start_time": "2022-05-08T10:10:13.176501",
     "status": "completed"
    },
    "tags": []
   },
   "outputs": [],
   "source": [
    "#Impoting functions from 'Kudzu'\n",
    "from kudzu.model import Model\n",
    "from kudzu.train import Learner\n",
    "from kudzu.optim import GD\n",
    "from kudzu.data import Data, Sampler,Dataloader\n",
    "\n",
    "from kudzu.callbacks import AccCallback\n",
    "from kudzu.callbacks import ClfCallback\n",
    "\n",
    "from kudzu.loss import MSE\n",
    "\n",
    "from kudzu.layer import Sigmoid,Relu\n",
    "from kudzu.layer import Affine"
   ]
  },
  {
   "cell_type": "markdown",
   "id": "bc01172a",
   "metadata": {
    "papermill": {
     "duration": 0.02689,
     "end_time": "2022-05-08T10:10:13.283450",
     "exception": false,
     "start_time": "2022-05-08T10:10:13.256560",
     "status": "completed"
    },
    "tags": []
   },
   "source": [
    "### Let us create a `Config` class, to store important parameters. \n",
    "This class essentially plays the role of a dictionary."
   ]
  },
  {
   "cell_type": "code",
   "execution_count": 16,
   "id": "978281aa",
   "metadata": {
    "execution": {
     "iopub.execute_input": "2022-05-08T10:10:13.341248Z",
     "iopub.status.busy": "2022-05-08T10:10:13.340679Z",
     "iopub.status.idle": "2022-05-08T10:10:13.353227Z",
     "shell.execute_reply": "2022-05-08T10:10:13.353658Z"
    },
    "papermill": {
     "duration": 0.043505,
     "end_time": "2022-05-08T10:10:13.353796",
     "exception": false,
     "start_time": "2022-05-08T10:10:13.310291",
     "status": "completed"
    },
    "tags": []
   },
   "outputs": [],
   "source": [
    "class Config:\n",
    "    pass\n",
    "config = Config()\n",
    "config.lr = 0.001\n",
    "config.num_epochs = 250\n",
    "config.bs = 50"
   ]
  },
  {
   "cell_type": "markdown",
   "id": "1385fa59",
   "metadata": {
    "papermill": {
     "duration": 0.02686,
     "end_time": "2022-05-08T10:10:13.407679",
     "exception": false,
     "start_time": "2022-05-08T10:10:13.380819",
     "status": "completed"
    },
    "tags": []
   },
   "source": [
    "### Running Models with the Training data\n",
    "Details about the network layers:\n",
    "- A first affine layer has 784 inputs and does 100 affine transforms. These are followed by a Relu\n",
    "- A second affine layer has 100 inputs from the 100 activations of the past layer, and does 100 affine transforms. These are followed by a Relu\n",
    "- A third affine layer has 100 activations and does 2 affine transformations to create an embedding for visualization. There is no non-linearity here.\n",
    "- A final \"logistic regression\" which has an affine transform from 2 inputs to 1 output, which is squeezed through a sigmoid.\n"
   ]
  },
  {
   "cell_type": "code",
   "execution_count": 17,
   "id": "2b9c66db",
   "metadata": {
    "execution": {
     "iopub.execute_input": "2022-05-08T10:10:13.465910Z",
     "iopub.status.busy": "2022-05-08T10:10:13.465370Z",
     "iopub.status.idle": "2022-05-08T10:10:13.477768Z",
     "shell.execute_reply": "2022-05-08T10:10:13.478192Z"
    },
    "papermill": {
     "duration": 0.043634,
     "end_time": "2022-05-08T10:10:13.478330",
     "exception": false,
     "start_time": "2022-05-08T10:10:13.434696",
     "status": "completed"
    },
    "tags": []
   },
   "outputs": [],
   "source": [
    "data = Data(X_train, y_train.reshape(-1,1))\n",
    "sampler = Sampler(data, config.bs, shuffle=True)\n",
    "\n",
    "dl = Dataloader(data, sampler)\n",
    "\n",
    "opt = GD(config.lr)\n",
    "loss = MSE()"
   ]
  },
  {
   "cell_type": "code",
   "execution_count": 18,
   "id": "b275e4c2",
   "metadata": {
    "execution": {
     "iopub.execute_input": "2022-05-08T10:10:13.536842Z",
     "iopub.status.busy": "2022-05-08T10:10:13.535829Z",
     "iopub.status.idle": "2022-05-08T10:10:13.549079Z",
     "shell.execute_reply": "2022-05-08T10:10:13.548625Z"
    },
    "papermill": {
     "duration": 0.043778,
     "end_time": "2022-05-08T10:10:13.549204",
     "exception": false,
     "start_time": "2022-05-08T10:10:13.505426",
     "status": "completed"
    },
    "tags": []
   },
   "outputs": [],
   "source": [
    "training_data_x = X_train\n",
    "testing_data_x = X_test\n",
    "training_data_y = y_train.reshape(-1,1)\n",
    "testing_data_y = y_test.reshape(-1,1)"
   ]
  },
  {
   "cell_type": "code",
   "execution_count": 19,
   "id": "76951160",
   "metadata": {
    "execution": {
     "iopub.execute_input": "2022-05-08T10:10:13.616020Z",
     "iopub.status.busy": "2022-05-08T10:10:13.615440Z",
     "iopub.status.idle": "2022-05-08T10:10:13.627328Z",
     "shell.execute_reply": "2022-05-08T10:10:13.626901Z"
    },
    "papermill": {
     "duration": 0.051302,
     "end_time": "2022-05-08T10:10:13.627449",
     "exception": false,
     "start_time": "2022-05-08T10:10:13.576147",
     "status": "completed"
    },
    "tags": []
   },
   "outputs": [
    {
     "name": "stdout",
     "output_type": "stream",
     "text": [
      "xavier\n",
      "xavier\n",
      "xavier\n",
      "xavier\n",
      "xavier\n"
     ]
    }
   ],
   "source": [
    "layers = [Affine(\"first\", 784, 100), Relu(\"first\"), Affine(\"second\", 100, 100), Relu(\"second\"), Affine(\"third\", 100, 2), Affine(\"last\", 2, 1), Sigmoid(\"last\")]\n",
    "model_nn = Model(layers)\n",
    "model_lr = Model([Affine(\"logits\", 784, 1), Sigmoid(\"sigmoid\")])"
   ]
  },
  {
   "cell_type": "code",
   "execution_count": 20,
   "id": "6eede77a",
   "metadata": {
    "execution": {
     "iopub.execute_input": "2022-05-08T10:10:13.686199Z",
     "iopub.status.busy": "2022-05-08T10:10:13.685662Z",
     "iopub.status.idle": "2022-05-08T10:10:13.698824Z",
     "shell.execute_reply": "2022-05-08T10:10:13.698379Z"
    },
    "papermill": {
     "duration": 0.044137,
     "end_time": "2022-05-08T10:10:13.698943",
     "exception": false,
     "start_time": "2022-05-08T10:10:13.654806",
     "status": "completed"
    },
    "tags": []
   },
   "outputs": [],
   "source": [
    "nn_learner = Learner(loss, model_nn, opt, config.num_epochs)\n",
    "acc_nn = ClfCallback(nn_learner, config.bs, training_data_x , testing_data_x, training_data_y, testing_data_y)\n",
    "nn_learner.set_callbacks([acc_nn])"
   ]
  },
  {
   "cell_type": "code",
   "execution_count": 21,
   "id": "877b6cc7",
   "metadata": {
    "execution": {
     "iopub.execute_input": "2022-05-08T10:10:13.758165Z",
     "iopub.status.busy": "2022-05-08T10:10:13.757636Z",
     "iopub.status.idle": "2022-05-08T10:10:13.770168Z",
     "shell.execute_reply": "2022-05-08T10:10:13.770558Z"
    },
    "papermill": {
     "duration": 0.044022,
     "end_time": "2022-05-08T10:10:13.770697",
     "exception": false,
     "start_time": "2022-05-08T10:10:13.726675",
     "status": "completed"
    },
    "tags": []
   },
   "outputs": [],
   "source": [
    "lr_learner = Learner(loss, model_lr, opt, config.num_epochs)\n",
    "acc_lr = ClfCallback(lr_learner, config.bs, training_data_x , testing_data_x, training_data_y, testing_data_y)\n",
    "lr_learner.set_callbacks([acc_lr])"
   ]
  },
  {
   "cell_type": "code",
   "execution_count": 22,
   "id": "d9b133c3",
   "metadata": {
    "execution": {
     "iopub.execute_input": "2022-05-08T10:10:13.829362Z",
     "iopub.status.busy": "2022-05-08T10:10:13.828776Z",
     "iopub.status.idle": "2022-05-08T10:11:29.971427Z",
     "shell.execute_reply": "2022-05-08T10:11:29.972166Z"
    },
    "papermill": {
     "duration": 76.174301,
     "end_time": "2022-05-08T10:11:29.972317",
     "exception": false,
     "start_time": "2022-05-08T10:10:13.798016",
     "status": "completed"
    },
    "tags": []
   },
   "outputs": [
    {
     "name": "stdout",
     "output_type": "stream",
     "text": [
      "Epoch 0, Loss 0.2484\n",
      "Training Accuracy: 0.5379, Testing Accuracy: 0.5262\n",
      "\n"
     ]
    },
    {
     "name": "stdout",
     "output_type": "stream",
     "text": [
      "Epoch 10, Loss 0.2155\n",
      "Training Accuracy: 0.8473, Testing Accuracy: 0.8513\n",
      "\n"
     ]
    },
    {
     "name": "stdout",
     "output_type": "stream",
     "text": [
      "Epoch 20, Loss 0.1227\n",
      "Training Accuracy: 0.8931, Testing Accuracy: 0.8962\n",
      "\n"
     ]
    },
    {
     "name": "stdout",
     "output_type": "stream",
     "text": [
      "Epoch 30, Loss 0.0706\n",
      "Training Accuracy: 0.9261, Testing Accuracy: 0.9320\n",
      "\n"
     ]
    },
    {
     "name": "stdout",
     "output_type": "stream",
     "text": [
      "Epoch 40, Loss 0.0519\n",
      "Training Accuracy: 0.9420, Testing Accuracy: 0.9491\n",
      "\n"
     ]
    },
    {
     "name": "stdout",
     "output_type": "stream",
     "text": [
      "Epoch 50, Loss 0.043\n",
      "Training Accuracy: 0.9508, Testing Accuracy: 0.9587\n",
      "\n"
     ]
    },
    {
     "name": "stdout",
     "output_type": "stream",
     "text": [
      "Epoch 60, Loss 0.0381\n",
      "Training Accuracy: 0.9556, Testing Accuracy: 0.9627\n",
      "\n"
     ]
    },
    {
     "name": "stdout",
     "output_type": "stream",
     "text": [
      "Epoch 70, Loss 0.0349\n",
      "Training Accuracy: 0.9599, Testing Accuracy: 0.9657\n",
      "\n"
     ]
    },
    {
     "name": "stdout",
     "output_type": "stream",
     "text": [
      "Epoch 80, Loss 0.0327\n",
      "Training Accuracy: 0.9619, Testing Accuracy: 0.9662\n",
      "\n"
     ]
    },
    {
     "name": "stdout",
     "output_type": "stream",
     "text": [
      "Epoch 90, Loss 0.031\n",
      "Training Accuracy: 0.9638, Testing Accuracy: 0.9652\n",
      "\n"
     ]
    },
    {
     "name": "stdout",
     "output_type": "stream",
     "text": [
      "Epoch 100, Loss 0.0296\n",
      "Training Accuracy: 0.9646, Testing Accuracy: 0.9662\n",
      "\n"
     ]
    },
    {
     "name": "stdout",
     "output_type": "stream",
     "text": [
      "Epoch 110, Loss 0.0285\n",
      "Training Accuracy: 0.9659, Testing Accuracy: 0.9672\n",
      "\n"
     ]
    },
    {
     "name": "stdout",
     "output_type": "stream",
     "text": [
      "Epoch 120, Loss 0.0276\n",
      "Training Accuracy: 0.9676, Testing Accuracy: 0.9667\n",
      "\n"
     ]
    },
    {
     "name": "stdout",
     "output_type": "stream",
     "text": [
      "Epoch 130, Loss 0.0268\n",
      "Training Accuracy: 0.9685, Testing Accuracy: 0.9677\n",
      "\n"
     ]
    },
    {
     "name": "stdout",
     "output_type": "stream",
     "text": [
      "Epoch 140, Loss 0.026\n",
      "Training Accuracy: 0.9691, Testing Accuracy: 0.9688\n",
      "\n"
     ]
    },
    {
     "name": "stdout",
     "output_type": "stream",
     "text": [
      "Epoch 150, Loss 0.0254\n",
      "Training Accuracy: 0.9700, Testing Accuracy: 0.9682\n",
      "\n"
     ]
    },
    {
     "name": "stdout",
     "output_type": "stream",
     "text": [
      "Epoch 160, Loss 0.0248\n",
      "Training Accuracy: 0.9704, Testing Accuracy: 0.9682\n",
      "\n"
     ]
    },
    {
     "name": "stdout",
     "output_type": "stream",
     "text": [
      "Epoch 170, Loss 0.0242\n",
      "Training Accuracy: 0.9715, Testing Accuracy: 0.9693\n",
      "\n"
     ]
    },
    {
     "name": "stdout",
     "output_type": "stream",
     "text": [
      "Epoch 180, Loss 0.0237\n",
      "Training Accuracy: 0.9724, Testing Accuracy: 0.9698\n",
      "\n"
     ]
    },
    {
     "name": "stdout",
     "output_type": "stream",
     "text": [
      "Epoch 190, Loss 0.0233\n",
      "Training Accuracy: 0.9726, Testing Accuracy: 0.9698\n",
      "\n"
     ]
    },
    {
     "name": "stdout",
     "output_type": "stream",
     "text": [
      "Epoch 200, Loss 0.0228\n",
      "Training Accuracy: 0.9732, Testing Accuracy: 0.9703\n",
      "\n"
     ]
    },
    {
     "name": "stdout",
     "output_type": "stream",
     "text": [
      "Epoch 210, Loss 0.0224\n",
      "Training Accuracy: 0.9737, Testing Accuracy: 0.9708\n",
      "\n"
     ]
    },
    {
     "name": "stdout",
     "output_type": "stream",
     "text": [
      "Epoch 220, Loss 0.022\n",
      "Training Accuracy: 0.9743, Testing Accuracy: 0.9708\n",
      "\n"
     ]
    },
    {
     "name": "stdout",
     "output_type": "stream",
     "text": [
      "Epoch 230, Loss 0.0217\n",
      "Training Accuracy: 0.9745, Testing Accuracy: 0.9713\n",
      "\n"
     ]
    },
    {
     "name": "stdout",
     "output_type": "stream",
     "text": [
      "Epoch 240, Loss 0.0213\n",
      "Training Accuracy: 0.9748, Testing Accuracy: 0.9718\n",
      "\n"
     ]
    },
    {
     "data": {
      "text/plain": [
       "0.025743080209643023"
      ]
     },
     "execution_count": 22,
     "metadata": {},
     "output_type": "execute_result"
    }
   ],
   "source": [
    "nn_learner.train_loop(dl)"
   ]
  },
  {
   "cell_type": "code",
   "execution_count": 23,
   "id": "e0163366",
   "metadata": {
    "execution": {
     "iopub.execute_input": "2022-05-08T10:11:30.050240Z",
     "iopub.status.busy": "2022-05-08T10:11:30.049690Z",
     "iopub.status.idle": "2022-05-08T10:11:43.644501Z",
     "shell.execute_reply": "2022-05-08T10:11:43.645198Z"
    },
    "papermill": {
     "duration": 13.638382,
     "end_time": "2022-05-08T10:11:43.645345",
     "exception": false,
     "start_time": "2022-05-08T10:11:30.006963",
     "status": "completed"
    },
    "tags": []
   },
   "outputs": [
    {
     "name": "stdout",
     "output_type": "stream",
     "text": [
      "Epoch 0, Loss 0.2445\n",
      "Training Accuracy: 0.6983, Testing Accuracy: 0.6920\n",
      "\n"
     ]
    },
    {
     "name": "stdout",
     "output_type": "stream",
     "text": [
      "Epoch 10, Loss 0.0997\n",
      "Training Accuracy: 0.9180, Testing Accuracy: 0.9315\n",
      "\n"
     ]
    },
    {
     "name": "stdout",
     "output_type": "stream",
     "text": [
      "Epoch 20, Loss 0.0775\n",
      "Training Accuracy: 0.9311, Testing Accuracy: 0.9430\n",
      "\n"
     ]
    },
    {
     "name": "stdout",
     "output_type": "stream",
     "text": [
      "Epoch 30, Loss 0.0672\n",
      "Training Accuracy: 0.9381, Testing Accuracy: 0.9486\n",
      "\n"
     ]
    },
    {
     "name": "stdout",
     "output_type": "stream",
     "text": [
      "Epoch 40, Loss 0.061\n",
      "Training Accuracy: 0.9423, Testing Accuracy: 0.9516\n",
      "\n"
     ]
    },
    {
     "name": "stdout",
     "output_type": "stream",
     "text": [
      "Epoch 50, Loss 0.0567\n",
      "Training Accuracy: 0.9453, Testing Accuracy: 0.9551\n",
      "\n"
     ]
    },
    {
     "name": "stdout",
     "output_type": "stream",
     "text": [
      "Epoch 60, Loss 0.0535\n",
      "Training Accuracy: 0.9478, Testing Accuracy: 0.9561\n",
      "\n"
     ]
    },
    {
     "name": "stdout",
     "output_type": "stream",
     "text": [
      "Epoch 70, Loss 0.0511\n",
      "Training Accuracy: 0.9505, Testing Accuracy: 0.9577\n",
      "\n"
     ]
    },
    {
     "name": "stdout",
     "output_type": "stream",
     "text": [
      "Epoch 80, Loss 0.0491\n",
      "Training Accuracy: 0.9518, Testing Accuracy: 0.9587\n",
      "\n"
     ]
    },
    {
     "name": "stdout",
     "output_type": "stream",
     "text": [
      "Epoch 90, Loss 0.0474\n",
      "Training Accuracy: 0.9524, Testing Accuracy: 0.9607\n",
      "\n"
     ]
    },
    {
     "name": "stdout",
     "output_type": "stream",
     "text": [
      "Epoch 100, Loss 0.0461\n",
      "Training Accuracy: 0.9537, Testing Accuracy: 0.9637\n",
      "\n"
     ]
    },
    {
     "name": "stdout",
     "output_type": "stream",
     "text": [
      "Epoch 110, Loss 0.0449\n",
      "Training Accuracy: 0.9545, Testing Accuracy: 0.9647\n",
      "\n"
     ]
    },
    {
     "name": "stdout",
     "output_type": "stream",
     "text": [
      "Epoch 120, Loss 0.0438\n",
      "Training Accuracy: 0.9548, Testing Accuracy: 0.9652\n",
      "\n"
     ]
    },
    {
     "name": "stdout",
     "output_type": "stream",
     "text": [
      "Epoch 130, Loss 0.0429\n",
      "Training Accuracy: 0.9551, Testing Accuracy: 0.9652\n",
      "\n"
     ]
    },
    {
     "name": "stdout",
     "output_type": "stream",
     "text": [
      "Epoch 140, Loss 0.0421\n",
      "Training Accuracy: 0.9556, Testing Accuracy: 0.9657\n",
      "\n"
     ]
    },
    {
     "name": "stdout",
     "output_type": "stream",
     "text": [
      "Epoch 150, Loss 0.0413\n",
      "Training Accuracy: 0.9565, Testing Accuracy: 0.9657\n",
      "\n"
     ]
    },
    {
     "name": "stdout",
     "output_type": "stream",
     "text": [
      "Epoch 160, Loss 0.0407\n",
      "Training Accuracy: 0.9570, Testing Accuracy: 0.9657\n",
      "\n"
     ]
    },
    {
     "name": "stdout",
     "output_type": "stream",
     "text": [
      "Epoch 170, Loss 0.0401\n",
      "Training Accuracy: 0.9577, Testing Accuracy: 0.9662\n",
      "\n"
     ]
    },
    {
     "name": "stdout",
     "output_type": "stream",
     "text": [
      "Epoch 180, Loss 0.0395\n",
      "Training Accuracy: 0.9579, Testing Accuracy: 0.9667\n",
      "\n"
     ]
    },
    {
     "name": "stdout",
     "output_type": "stream",
     "text": [
      "Epoch 190, Loss 0.039\n",
      "Training Accuracy: 0.9588, Testing Accuracy: 0.9667\n",
      "\n"
     ]
    },
    {
     "name": "stdout",
     "output_type": "stream",
     "text": [
      "Epoch 200, Loss 0.0385\n",
      "Training Accuracy: 0.9592, Testing Accuracy: 0.9667\n",
      "\n"
     ]
    },
    {
     "name": "stdout",
     "output_type": "stream",
     "text": [
      "Epoch 210, Loss 0.0381\n",
      "Training Accuracy: 0.9592, Testing Accuracy: 0.9667\n",
      "\n"
     ]
    },
    {
     "name": "stdout",
     "output_type": "stream",
     "text": [
      "Epoch 220, Loss 0.0377\n",
      "Training Accuracy: 0.9594, Testing Accuracy: 0.9667\n",
      "\n"
     ]
    },
    {
     "name": "stdout",
     "output_type": "stream",
     "text": [
      "Epoch 230, Loss 0.0373\n",
      "Training Accuracy: 0.9594, Testing Accuracy: 0.9667\n",
      "\n"
     ]
    },
    {
     "name": "stdout",
     "output_type": "stream",
     "text": [
      "Epoch 240, Loss 0.037\n",
      "Training Accuracy: 0.9600, Testing Accuracy: 0.9672\n",
      "\n"
     ]
    },
    {
     "data": {
      "text/plain": [
       "0.01636665303054617"
      ]
     },
     "execution_count": 23,
     "metadata": {},
     "output_type": "execute_result"
    }
   ],
   "source": [
    "lr_learner.train_loop(dl)"
   ]
  },
  {
   "cell_type": "code",
   "execution_count": 24,
   "id": "ca410940",
   "metadata": {
    "execution": {
     "iopub.execute_input": "2022-05-08T10:11:43.738343Z",
     "iopub.status.busy": "2022-05-08T10:11:43.737759Z",
     "iopub.status.idle": "2022-05-08T10:11:43.957702Z",
     "shell.execute_reply": "2022-05-08T10:11:43.957232Z"
    },
    "papermill": {
     "duration": 0.271069,
     "end_time": "2022-05-08T10:11:43.957822",
     "exception": false,
     "start_time": "2022-05-08T10:11:43.686753",
     "status": "completed"
    },
    "tags": []
   },
   "outputs": [
    {
     "data": {
      "text/plain": [
       "<matplotlib.legend.Legend at 0x7fae182dab70>"
      ]
     },
     "execution_count": 24,
     "metadata": {},
     "output_type": "execute_result"
    },
    {
     "data": {
      "image/png": "[encoded data removed]",
      "text/plain": [
       "<Figure size 1080x720 with 1 Axes>"
      ]
     },
     "metadata": {
      "needs_background": "light"
     },
     "output_type": "display_data"
    }
   ],
   "source": [
    "#comparing the results of NN and LR\n",
    "plt.figure(figsize=(15,10))\n",
    "\n",
    "# Neural Network plots\n",
    "plt.plot(acc_nn.accuracies, 'r-', label = \"Training Accuracies - NN\")\n",
    "plt.plot(acc_nn.test_accuracies, 'g-', label = \"Testing Accuracies - NN\")\n",
    "\n",
    "# Logistic Regression plots\n",
    "plt.plot(acc_lr.accuracies, 'k-', label = \"Training Accuracies - LR\")\n",
    "plt.plot(acc_lr.test_accuracies, 'b-', label = \"Testing Accuracies - LR\")\n",
    "plt.legend()"
   ]
  },
  {
   "cell_type": "markdown",
   "id": "80dfb35c",
   "metadata": {
    "papermill": {
     "duration": 0.042443,
     "end_time": "2022-05-08T10:11:44.042615",
     "exception": false,
     "start_time": "2022-05-08T10:11:44.000172",
     "status": "completed"
    },
    "tags": []
   },
   "source": [
    "#### Plotting the outputs of this layer of the NN.\n"
   ]
  },
  {
   "cell_type": "code",
   "execution_count": 25,
   "id": "45eb2ff5",
   "metadata": {
    "execution": {
     "iopub.execute_input": "2022-05-08T10:11:44.131612Z",
     "iopub.status.busy": "2022-05-08T10:11:44.131043Z",
     "iopub.status.idle": "2022-05-08T10:11:44.151213Z",
     "shell.execute_reply": "2022-05-08T10:11:44.151653Z"
    },
    "papermill": {
     "duration": 0.067207,
     "end_time": "2022-05-08T10:11:44.151795",
     "exception": false,
     "start_time": "2022-05-08T10:11:44.084588",
     "status": "completed"
    },
    "tags": []
   },
   "outputs": [],
   "source": [
    "new_model = Model(layers[:-2])\n",
    "testing_plot = new_model(testing_data_x)"
   ]
  },
  {
   "cell_type": "code",
   "execution_count": 26,
   "id": "4c0a5485",
   "metadata": {
    "execution": {
     "iopub.execute_input": "2022-05-08T10:11:44.244131Z",
     "iopub.status.busy": "2022-05-08T10:11:44.242673Z",
     "iopub.status.idle": "2022-05-08T10:11:44.467742Z",
     "shell.execute_reply": "2022-05-08T10:11:44.467287Z"
    },
    "papermill": {
     "duration": 0.273478,
     "end_time": "2022-05-08T10:11:44.467859",
     "exception": false,
     "start_time": "2022-05-08T10:11:44.194381",
     "status": "completed"
    },
    "tags": []
   },
   "outputs": [
    {
     "data": {
      "text/plain": [
       "Text(0.5, 1.0, 'Outputs')"
      ]
     },
     "execution_count": 26,
     "metadata": {},
     "output_type": "execute_result"
    },
    {
     "data": {
      "image/png": "[encoded data removed]",
      "text/plain": [
       "<Figure size 576x504 with 1 Axes>"
      ]
     },
     "metadata": {
      "needs_background": "light"
     },
     "output_type": "display_data"
    }
   ],
   "source": [
    "# Plotting the scatter plot of points and color coding by class\n",
    "plt.figure(figsize=(8,7))\n",
    "plt.scatter(testing_plot[:,0], testing_plot[:,1], alpha = 0.1, c = y_test.ravel());\n",
    "plt.title('Outputs')"
   ]
  },
  {
   "cell_type": "markdown",
   "id": "a74fcf8f",
   "metadata": {
    "papermill": {
     "duration": 0.045403,
     "end_time": "2022-05-08T10:11:44.558809",
     "exception": false,
     "start_time": "2022-05-08T10:11:44.513406",
     "status": "completed"
    },
    "tags": []
   },
   "source": [
    "Probability contours"
   ]
  },
  {
   "cell_type": "code",
   "execution_count": 27,
   "id": "d0afc8e3",
   "metadata": {
    "execution": {
     "iopub.execute_input": "2022-05-08T10:11:44.654108Z",
     "iopub.status.busy": "2022-05-08T10:11:44.653583Z",
     "iopub.status.idle": "2022-05-08T10:11:44.666493Z",
     "shell.execute_reply": "2022-05-08T10:11:44.666069Z"
    },
    "papermill": {
     "duration": 0.062159,
     "end_time": "2022-05-08T10:11:44.666607",
     "exception": false,
     "start_time": "2022-05-08T10:11:44.604448",
     "status": "completed"
    },
    "tags": []
   },
   "outputs": [],
   "source": [
    "model_prob = Model(layers[-2:]) "
   ]
  },
  {
   "cell_type": "code",
   "execution_count": 28,
   "id": "9b96e238",
   "metadata": {
    "execution": {
     "iopub.execute_input": "2022-05-08T10:11:44.762790Z",
     "iopub.status.busy": "2022-05-08T10:11:44.762258Z",
     "iopub.status.idle": "2022-05-08T10:11:44.776543Z",
     "shell.execute_reply": "2022-05-08T10:11:44.776092Z"
    },
    "papermill": {
     "duration": 0.064566,
     "end_time": "2022-05-08T10:11:44.776657",
     "exception": false,
     "start_time": "2022-05-08T10:11:44.712091",
     "status": "completed"
    },
    "tags": []
   },
   "outputs": [],
   "source": [
    "#creating the x and y ranges according to the above generated plot.\n",
    "x_range = np.linspace(-4, 1, 100) \n",
    "y_range = np.linspace(-6, 6, 100) \n",
    "x_grid, y_grid = np.meshgrid(x_range, y_range) # x_grid and y_grig are of size 100 X 100\n",
    "\n",
    "# converting x_grid and y_grid to continuous arrays\n",
    "x_gridflat = np.ravel(x_grid)\n",
    "y_gridflat = np.ravel(y_grid)\n",
    "\n",
    "# The last layer of the current model takes two columns as input. Hence transpose of np.vstack() is required.\n",
    "X = np.vstack((x_gridflat, y_gridflat)).T\n",
    "\n",
    "prob_contour = model_prob(X).reshape(100,100) "
   ]
  },
  {
   "cell_type": "code",
   "execution_count": 29,
   "id": "da72499a",
   "metadata": {
    "execution": {
     "iopub.execute_input": "2022-05-08T10:11:44.902241Z",
     "iopub.status.busy": "2022-05-08T10:11:44.901707Z",
     "iopub.status.idle": "2022-05-08T10:11:45.155309Z",
     "shell.execute_reply": "2022-05-08T10:11:45.154813Z"
    },
    "papermill": {
     "duration": 0.33296,
     "end_time": "2022-05-08T10:11:45.155441",
     "exception": false,
     "start_time": "2022-05-08T10:11:44.822481",
     "status": "completed"
    },
    "tags": []
   },
   "outputs": [
    {
     "data": {
      "image/png": "[encoded data removed]",
      "text/plain": [
       "<Figure size 720x648 with 1 Axes>"
      ]
     },
     "metadata": {
      "needs_background": "light"
     },
     "output_type": "display_data"
    }
   ],
   "source": [
    "plt.figure(figsize=(10,9))\n",
    "plt.scatter(testing_plot[:,0], testing_plot[:,1], alpha = 0.1, c = y_test.ravel())\n",
    "contours = plt.contour(x_grid,y_grid,prob_contour)\n",
    "plt.title('Probability Contours')\n",
    "plt.clabel(contours, inline = True );"
   ]
  },
  {
   "cell_type": "code",
   "execution_count": null,
   "id": "e81b4ac7",
   "metadata": {
    "papermill": {
     "duration": 0.047652,
     "end_time": "2022-05-08T10:11:45.251943",
     "exception": false,
     "start_time": "2022-05-08T10:11:45.204291",
     "status": "completed"
    },
    "tags": []
   },
   "outputs": [],
   "source": []
  }
 ],
 "metadata": {
  "kernelspec": {
   "display_name": "Python 3",
   "language": "python",
   "name": "python3"
  },
  "language_info": {
   "codemirror_mode": {
    "name": "ipython",
    "version": 3
   },
   "file_extension": ".py",
   "mimetype": "text/x-python",
   "name": "python",
   "nbconvert_exporter": "python",
   "pygments_lexer": "ipython3",
   "version": "3.6.15"
  },
  "papermill": {
   "default_parameters": {},
   "duration": 97.857625,
   "end_time": "2022-05-08T10:11:45.719054",
   "environment_variables": {},
   "exception": null,
   "input_path": "2020-08-11-part2.ipynb",
   "output_path": "2020-08-11-part2.ipynb",
   "parameters": {},
   "start_time": "2022-05-08T10:10:07.861429",
   "version": "2.3.3"
  }
 },
 "nbformat": 4,
 "nbformat_minor": 5
}