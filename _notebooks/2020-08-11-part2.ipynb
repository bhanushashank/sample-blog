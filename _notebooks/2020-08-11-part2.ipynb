{
 "cells": [
  {
   "cell_type": "markdown",
   "id": "98380cd3",
   "metadata": {
    "papermill": {
     "duration": 0.037591,
     "end_time": "2022-08-05T00:54:32.934267",
     "exception": false,
     "start_time": "2022-08-05T00:54:32.896676",
     "status": "completed"
    },
    "tags": []
   },
   "source": [
    "# Distinguish Your Own Digits (DYOD)"
   ]
  },
  {
   "cell_type": "markdown",
   "id": "ef31240d",
   "metadata": {
    "papermill": {
     "duration": 0.027804,
     "end_time": "2022-08-05T00:54:32.990546",
     "exception": false,
     "start_time": "2022-08-05T00:54:32.962742",
     "status": "completed"
    },
    "tags": []
   },
   "source": [
    "You are going to write a classifier that distinguishes between the number 3 and number 8."
   ]
  },
  {
   "cell_type": "code",
   "execution_count": 1,
   "id": "b15c8646",
   "metadata": {
    "execution": {
     "iopub.execute_input": "2022-08-05T00:54:33.051777Z",
     "iopub.status.busy": "2022-08-05T00:54:33.050499Z",
     "iopub.status.idle": "2022-08-05T00:54:33.076510Z",
     "shell.execute_reply": "2022-08-05T00:54:33.075715Z"
    },
    "papermill": {
     "duration": 0.057924,
     "end_time": "2022-08-05T00:54:33.076709",
     "exception": false,
     "start_time": "2022-08-05T00:54:33.018785",
     "status": "completed"
    },
    "tags": []
   },
   "outputs": [],
   "source": [
    "%load_ext autoreload\n",
    "%autoreload 2"
   ]
  },
  {
   "cell_type": "code",
   "execution_count": 2,
   "id": "22ef38dc",
   "metadata": {
    "execution": {
     "iopub.execute_input": "2022-08-05T00:54:33.141390Z",
     "iopub.status.busy": "2022-08-05T00:54:33.140636Z",
     "iopub.status.idle": "2022-08-05T00:54:33.816882Z",
     "shell.execute_reply": "2022-08-05T00:54:33.815982Z"
    },
    "papermill": {
     "duration": 0.711593,
     "end_time": "2022-08-05T00:54:33.817097",
     "exception": false,
     "start_time": "2022-08-05T00:54:33.105504",
     "status": "completed"
    },
    "tags": []
   },
   "outputs": [],
   "source": [
    "%matplotlib inline\n",
    "import numpy as np\n",
    "import matplotlib.pyplot as plt\n",
    "import pandas as pd"
   ]
  },
  {
   "cell_type": "markdown",
   "id": "ba036198",
   "metadata": {
    "papermill": {
     "duration": 0.028132,
     "end_time": "2022-08-05T00:54:33.873913",
     "exception": false,
     "start_time": "2022-08-05T00:54:33.845781",
     "status": "completed"
    },
    "tags": []
   },
   "source": [
    "From the command line run `pip install mnist`. This is a library that will help you bring down the mnist dataset. If you run this from a notebook, you need to put  `!pip install mnist` in a cell by itself."
   ]
  },
  {
   "cell_type": "code",
   "execution_count": 3,
   "id": "bb6ad8a1",
   "metadata": {
    "execution": {
     "iopub.execute_input": "2022-08-05T00:54:33.935611Z",
     "iopub.status.busy": "2022-08-05T00:54:33.934238Z",
     "iopub.status.idle": "2022-08-05T00:54:35.938053Z",
     "shell.execute_reply": "2022-08-05T00:54:35.939053Z"
    },
    "papermill": {
     "duration": 2.037547,
     "end_time": "2022-08-05T00:54:35.939257",
     "exception": false,
     "start_time": "2022-08-05T00:54:33.901710",
     "status": "completed"
    },
    "tags": []
   },
   "outputs": [
    {
     "name": "stdout",
     "output_type": "stream",
     "text": [
      "Collecting mnist\r\n"
     ]
    },
    {
     "name": "stdout",
     "output_type": "stream",
     "text": [
      "  Downloading mnist-0.2.2-py2.py3-none-any.whl (3.5 kB)\r\n",
      "Requirement already satisfied: numpy in /opt/hostedtoolcache/Python/3.6.15/x64/lib/python3.6/site-packages (from mnist) (1.19.5)\r\n"
     ]
    },
    {
     "name": "stdout",
     "output_type": "stream",
     "text": [
      "Installing collected packages: mnist\r\n"
     ]
    },
    {
     "name": "stdout",
     "output_type": "stream",
     "text": [
      "Successfully installed mnist-0.2.2\r\n"
     ]
    }
   ],
   "source": [
    "!pip install mnist"
   ]
  },
  {
   "cell_type": "markdown",
   "id": "69df9c9a",
   "metadata": {
    "papermill": {
     "duration": 0.028984,
     "end_time": "2022-08-05T00:54:35.998249",
     "exception": false,
     "start_time": "2022-08-05T00:54:35.969265",
     "status": "completed"
    },
    "tags": []
   },
   "source": [
    "## Preparing the Data"
   ]
  },
  {
   "cell_type": "code",
   "execution_count": 4,
   "id": "7f69d806",
   "metadata": {
    "execution": {
     "iopub.execute_input": "2022-08-05T00:54:36.062601Z",
     "iopub.status.busy": "2022-08-05T00:54:36.061804Z",
     "iopub.status.idle": "2022-08-05T00:54:36.077798Z",
     "shell.execute_reply": "2022-08-05T00:54:36.078319Z"
    },
    "papermill": {
     "duration": 0.051241,
     "end_time": "2022-08-05T00:54:36.078471",
     "exception": false,
     "start_time": "2022-08-05T00:54:36.027230",
     "status": "completed"
    },
    "tags": []
   },
   "outputs": [],
   "source": [
    "import mnist"
   ]
  },
  {
   "cell_type": "code",
   "execution_count": 5,
   "id": "a411e44f",
   "metadata": {
    "execution": {
     "iopub.execute_input": "2022-08-05T00:54:36.144479Z",
     "iopub.status.busy": "2022-08-05T00:54:36.143775Z",
     "iopub.status.idle": "2022-08-05T00:54:37.768851Z",
     "shell.execute_reply": "2022-08-05T00:54:37.768164Z"
    },
    "papermill": {
     "duration": 1.661563,
     "end_time": "2022-08-05T00:54:37.769019",
     "exception": false,
     "start_time": "2022-08-05T00:54:36.107456",
     "status": "completed"
    },
    "tags": []
   },
   "outputs": [],
   "source": [
    "train_images = mnist.train_images()\n",
    "train_labels = mnist.train_labels()"
   ]
  },
  {
   "cell_type": "code",
   "execution_count": 6,
   "id": "dceab3a5",
   "metadata": {
    "execution": {
     "iopub.execute_input": "2022-08-05T00:54:37.834012Z",
     "iopub.status.busy": "2022-08-05T00:54:37.833259Z",
     "iopub.status.idle": "2022-08-05T00:54:37.853077Z",
     "shell.execute_reply": "2022-08-05T00:54:37.852505Z"
    },
    "papermill": {
     "duration": 0.053926,
     "end_time": "2022-08-05T00:54:37.853208",
     "exception": false,
     "start_time": "2022-08-05T00:54:37.799282",
     "status": "completed"
    },
    "tags": []
   },
   "outputs": [
    {
     "data": {
      "text/plain": [
       "((60000, 28, 28), (60000,))"
      ]
     },
     "execution_count": 6,
     "metadata": {},
     "output_type": "execute_result"
    }
   ],
   "source": [
    "train_images.shape, train_labels.shape"
   ]
  },
  {
   "cell_type": "code",
   "execution_count": 7,
   "id": "f50dc2bb",
   "metadata": {
    "execution": {
     "iopub.execute_input": "2022-08-05T00:54:37.922382Z",
     "iopub.status.busy": "2022-08-05T00:54:37.921116Z",
     "iopub.status.idle": "2022-08-05T00:54:38.132237Z",
     "shell.execute_reply": "2022-08-05T00:54:38.131165Z"
    },
    "papermill": {
     "duration": 0.24836,
     "end_time": "2022-08-05T00:54:38.132431",
     "exception": false,
     "start_time": "2022-08-05T00:54:37.884071",
     "status": "completed"
    },
    "tags": []
   },
   "outputs": [],
   "source": [
    "test_images = mnist.test_images()\n",
    "test_labels = mnist.test_labels()"
   ]
  },
  {
   "cell_type": "code",
   "execution_count": 8,
   "id": "fc38cf1b",
   "metadata": {
    "execution": {
     "iopub.execute_input": "2022-08-05T00:54:38.206537Z",
     "iopub.status.busy": "2022-08-05T00:54:38.205608Z",
     "iopub.status.idle": "2022-08-05T00:54:38.218835Z",
     "shell.execute_reply": "2022-08-05T00:54:38.218277Z"
    },
    "papermill": {
     "duration": 0.055038,
     "end_time": "2022-08-05T00:54:38.218974",
     "exception": false,
     "start_time": "2022-08-05T00:54:38.163936",
     "status": "completed"
    },
    "tags": []
   },
   "outputs": [
    {
     "data": {
      "text/plain": [
       "((10000, 28, 28), (10000,))"
      ]
     },
     "execution_count": 8,
     "metadata": {},
     "output_type": "execute_result"
    }
   ],
   "source": [
    "test_images.shape, test_labels.shape"
   ]
  },
  {
   "cell_type": "code",
   "execution_count": 9,
   "id": "f9ed8fe0",
   "metadata": {
    "execution": {
     "iopub.execute_input": "2022-08-05T00:54:38.286788Z",
     "iopub.status.busy": "2022-08-05T00:54:38.286074Z",
     "iopub.status.idle": "2022-08-05T00:54:38.469134Z",
     "shell.execute_reply": "2022-08-05T00:54:38.469700Z"
    },
    "papermill": {
     "duration": 0.218127,
     "end_time": "2022-08-05T00:54:38.469869",
     "exception": false,
     "start_time": "2022-08-05T00:54:38.251742",
     "status": "completed"
    },
    "tags": []
   },
   "outputs": [
    {
     "name": "stdout",
     "output_type": "stream",
     "text": [
      "2\n"
     ]
    },
    {
     "data": {
      "text/plain": [
       "<matplotlib.image.AxesImage at 0x7f71db25d550>"
      ]
     },
     "execution_count": 9,
     "metadata": {},
     "output_type": "execute_result"
    },
    {
     "data": {
      "image/png": "[encoded data removed]",
      "text/plain": [
       "<Figure size 432x288 with 1 Axes>"
      ]
     },
     "metadata": {
      "needs_background": "light"
     },
     "output_type": "display_data"
    }
   ],
   "source": [
    "image_index = 7776 # You may select anything up to 60,000\n",
    "print(train_labels[image_index]) \n",
    "plt.imshow(train_images[image_index], cmap='Greys')"
   ]
  },
  {
   "cell_type": "markdown",
   "id": "a8d2388d",
   "metadata": {
    "papermill": {
     "duration": 0.034624,
     "end_time": "2022-08-05T00:54:38.537383",
     "exception": false,
     "start_time": "2022-08-05T00:54:38.502759",
     "status": "completed"
    },
    "tags": []
   },
   "source": [
    "## Filter data to get 3 and 8 out"
   ]
  },
  {
   "cell_type": "code",
   "execution_count": 10,
   "id": "776f7fc7",
   "metadata": {
    "execution": {
     "iopub.execute_input": "2022-08-05T00:54:38.614598Z",
     "iopub.status.busy": "2022-08-05T00:54:38.607319Z",
     "iopub.status.idle": "2022-08-05T00:54:38.629722Z",
     "shell.execute_reply": "2022-08-05T00:54:38.629092Z"
    },
    "papermill": {
     "duration": 0.061221,
     "end_time": "2022-08-05T00:54:38.629861",
     "exception": false,
     "start_time": "2022-08-05T00:54:38.568640",
     "status": "completed"
    },
    "tags": []
   },
   "outputs": [],
   "source": [
    "train_filter = np.where((train_labels == 3 ) | (train_labels == 8))\n",
    "test_filter = np.where((test_labels == 3) | (test_labels == 8))\n",
    "X_train, y_train = train_images[train_filter], train_labels[train_filter]\n",
    "X_test, y_test = test_images[test_filter], test_labels[test_filter]"
   ]
  },
  {
   "cell_type": "markdown",
   "id": "948f0b7e",
   "metadata": {
    "papermill": {
     "duration": 0.03103,
     "end_time": "2022-08-05T00:54:38.692209",
     "exception": false,
     "start_time": "2022-08-05T00:54:38.661179",
     "status": "completed"
    },
    "tags": []
   },
   "source": [
    "We normalize the pizel values in the 0 to 1 range"
   ]
  },
  {
   "cell_type": "code",
   "execution_count": 11,
   "id": "ee4c2166",
   "metadata": {
    "execution": {
     "iopub.execute_input": "2022-08-05T00:54:38.762449Z",
     "iopub.status.busy": "2022-08-05T00:54:38.759735Z",
     "iopub.status.idle": "2022-08-05T00:54:38.818663Z",
     "shell.execute_reply": "2022-08-05T00:54:38.817186Z"
    },
    "papermill": {
     "duration": 0.095654,
     "end_time": "2022-08-05T00:54:38.818821",
     "exception": false,
     "start_time": "2022-08-05T00:54:38.723167",
     "status": "completed"
    },
    "tags": []
   },
   "outputs": [],
   "source": [
    "X_train = X_train/255.\n",
    "X_test = X_test/255."
   ]
  },
  {
   "cell_type": "markdown",
   "id": "ddcf4fab",
   "metadata": {
    "papermill": {
     "duration": 0.031431,
     "end_time": "2022-08-05T00:54:38.885605",
     "exception": false,
     "start_time": "2022-08-05T00:54:38.854174",
     "status": "completed"
    },
    "tags": []
   },
   "source": [
    "And setup the labels as 1 (when the digit is 3) and 0 (when the digit is 8)"
   ]
  },
  {
   "cell_type": "code",
   "execution_count": 12,
   "id": "7dc908f2",
   "metadata": {
    "execution": {
     "iopub.execute_input": "2022-08-05T00:54:38.956245Z",
     "iopub.status.busy": "2022-08-05T00:54:38.955048Z",
     "iopub.status.idle": "2022-08-05T00:54:38.970372Z",
     "shell.execute_reply": "2022-08-05T00:54:38.969779Z"
    },
    "papermill": {
     "duration": 0.052947,
     "end_time": "2022-08-05T00:54:38.970503",
     "exception": false,
     "start_time": "2022-08-05T00:54:38.917556",
     "status": "completed"
    },
    "tags": []
   },
   "outputs": [],
   "source": [
    "y_train = 1*(y_train==3)\n",
    "y_test = 1*(y_test==3)"
   ]
  },
  {
   "cell_type": "code",
   "execution_count": 13,
   "id": "01e4e969",
   "metadata": {
    "execution": {
     "iopub.execute_input": "2022-08-05T00:54:39.038846Z",
     "iopub.status.busy": "2022-08-05T00:54:39.038144Z",
     "iopub.status.idle": "2022-08-05T00:54:39.054663Z",
     "shell.execute_reply": "2022-08-05T00:54:39.053969Z"
    },
    "papermill": {
     "duration": 0.052554,
     "end_time": "2022-08-05T00:54:39.054795",
     "exception": false,
     "start_time": "2022-08-05T00:54:39.002241",
     "status": "completed"
    },
    "tags": []
   },
   "outputs": [
    {
     "data": {
      "text/plain": [
       "((11982, 28, 28), (1984, 28, 28))"
      ]
     },
     "execution_count": 13,
     "metadata": {},
     "output_type": "execute_result"
    }
   ],
   "source": [
    "X_train.shape, X_test.shape"
   ]
  },
  {
   "cell_type": "markdown",
   "id": "5ccf3f85",
   "metadata": {
    "papermill": {
     "duration": 0.031625,
     "end_time": "2022-08-05T00:54:39.121493",
     "exception": false,
     "start_time": "2022-08-05T00:54:39.089868",
     "status": "completed"
    },
    "tags": []
   },
   "source": [
    "We reshape the data to flatten the image pixels into a set of features or co-variates:"
   ]
  },
  {
   "cell_type": "code",
   "execution_count": 14,
   "id": "5286a4a3",
   "metadata": {
    "execution": {
     "iopub.execute_input": "2022-08-05T00:54:39.192136Z",
     "iopub.status.busy": "2022-08-05T00:54:39.191414Z",
     "iopub.status.idle": "2022-08-05T00:54:39.210712Z",
     "shell.execute_reply": "2022-08-05T00:54:39.210020Z"
    },
    "papermill": {
     "duration": 0.057427,
     "end_time": "2022-08-05T00:54:39.210842",
     "exception": false,
     "start_time": "2022-08-05T00:54:39.153415",
     "status": "completed"
    },
    "tags": []
   },
   "outputs": [
    {
     "data": {
      "text/plain": [
       "((11982, 784), (1984, 784))"
      ]
     },
     "execution_count": 14,
     "metadata": {},
     "output_type": "execute_result"
    }
   ],
   "source": [
    "X_train = X_train.reshape(X_train.shape[0], -1)\n",
    "X_test = X_test.reshape(X_test.shape[0], -1)\n",
    "X_train.shape, X_test.shape"
   ]
  },
  {
   "cell_type": "code",
   "execution_count": 15,
   "id": "73c5f88a",
   "metadata": {
    "execution": {
     "iopub.execute_input": "2022-08-05T00:54:39.284269Z",
     "iopub.status.busy": "2022-08-05T00:54:39.283545Z",
     "iopub.status.idle": "2022-08-05T00:54:39.309022Z",
     "shell.execute_reply": "2022-08-05T00:54:39.308361Z"
    },
    "papermill": {
     "duration": 0.064122,
     "end_time": "2022-08-05T00:54:39.309161",
     "exception": false,
     "start_time": "2022-08-05T00:54:39.245039",
     "status": "completed"
    },
    "tags": []
   },
   "outputs": [],
   "source": [
    "#Impoting functions from 'Kudzu'\n",
    "from kudzu.model import Model\n",
    "from kudzu.train import Learner\n",
    "from kudzu.optim import GD\n",
    "from kudzu.data import Data, Sampler,Dataloader\n",
    "\n",
    "from kudzu.callbacks import AccCallback\n",
    "from kudzu.callbacks import ClfCallback\n",
    "\n",
    "from kudzu.loss import MSE\n",
    "\n",
    "from kudzu.layer import Sigmoid,Relu\n",
    "from kudzu.layer import Affine"
   ]
  },
  {
   "cell_type": "markdown",
   "id": "bc01172a",
   "metadata": {
    "papermill": {
     "duration": 0.036328,
     "end_time": "2022-08-05T00:54:39.379395",
     "exception": false,
     "start_time": "2022-08-05T00:54:39.343067",
     "status": "completed"
    },
    "tags": []
   },
   "source": [
    "### Let us create a `Config` class, to store important parameters. \n",
    "This class essentially plays the role of a dictionary."
   ]
  },
  {
   "cell_type": "code",
   "execution_count": 16,
   "id": "978281aa",
   "metadata": {
    "execution": {
     "iopub.execute_input": "2022-08-05T00:54:39.452243Z",
     "iopub.status.busy": "2022-08-05T00:54:39.451524Z",
     "iopub.status.idle": "2022-08-05T00:54:39.465605Z",
     "shell.execute_reply": "2022-08-05T00:54:39.466196Z"
    },
    "papermill": {
     "duration": 0.054484,
     "end_time": "2022-08-05T00:54:39.466353",
     "exception": false,
     "start_time": "2022-08-05T00:54:39.411869",
     "status": "completed"
    },
    "tags": []
   },
   "outputs": [],
   "source": [
    "class Config:\n",
    "    pass\n",
    "config = Config()\n",
    "config.lr = 0.001\n",
    "config.num_epochs = 250\n",
    "config.bs = 50"
   ]
  },
  {
   "cell_type": "markdown",
   "id": "1385fa59",
   "metadata": {
    "papermill": {
     "duration": 0.031523,
     "end_time": "2022-08-05T00:54:39.529491",
     "exception": false,
     "start_time": "2022-08-05T00:54:39.497968",
     "status": "completed"
    },
    "tags": []
   },
   "source": [
    "### Running Models with the Training data\n",
    "Details about the network layers:\n",
    "- A first affine layer has 784 inputs and does 100 affine transforms. These are followed by a Relu\n",
    "- A second affine layer has 100 inputs from the 100 activations of the past layer, and does 100 affine transforms. These are followed by a Relu\n",
    "- A third affine layer has 100 activations and does 2 affine transformations to create an embedding for visualization. There is no non-linearity here.\n",
    "- A final \"logistic regression\" which has an affine transform from 2 inputs to 1 output, which is squeezed through a sigmoid.\n"
   ]
  },
  {
   "cell_type": "code",
   "execution_count": 17,
   "id": "2b9c66db",
   "metadata": {
    "execution": {
     "iopub.execute_input": "2022-08-05T00:54:39.599428Z",
     "iopub.status.busy": "2022-08-05T00:54:39.598697Z",
     "iopub.status.idle": "2022-08-05T00:54:39.614940Z",
     "shell.execute_reply": "2022-08-05T00:54:39.614350Z"
    },
    "papermill": {
     "duration": 0.054004,
     "end_time": "2022-08-05T00:54:39.615076",
     "exception": false,
     "start_time": "2022-08-05T00:54:39.561072",
     "status": "completed"
    },
    "tags": []
   },
   "outputs": [],
   "source": [
    "data = Data(X_train, y_train.reshape(-1,1))\n",
    "sampler = Sampler(data, config.bs, shuffle=True)\n",
    "\n",
    "dl = Dataloader(data, sampler)\n",
    "\n",
    "opt = GD(config.lr)\n",
    "loss = MSE()"
   ]
  },
  {
   "cell_type": "code",
   "execution_count": 18,
   "id": "b275e4c2",
   "metadata": {
    "execution": {
     "iopub.execute_input": "2022-08-05T00:54:39.684617Z",
     "iopub.status.busy": "2022-08-05T00:54:39.683881Z",
     "iopub.status.idle": "2022-08-05T00:54:39.697828Z",
     "shell.execute_reply": "2022-08-05T00:54:39.698353Z"
    },
    "papermill": {
     "duration": 0.051593,
     "end_time": "2022-08-05T00:54:39.698514",
     "exception": false,
     "start_time": "2022-08-05T00:54:39.646921",
     "status": "completed"
    },
    "tags": []
   },
   "outputs": [],
   "source": [
    "training_data_x = X_train\n",
    "testing_data_x = X_test\n",
    "training_data_y = y_train.reshape(-1,1)\n",
    "testing_data_y = y_test.reshape(-1,1)"
   ]
  },
  {
   "cell_type": "code",
   "execution_count": 19,
   "id": "76951160",
   "metadata": {
    "execution": {
     "iopub.execute_input": "2022-08-05T00:54:39.773936Z",
     "iopub.status.busy": "2022-08-05T00:54:39.773161Z",
     "iopub.status.idle": "2022-08-05T00:54:39.792029Z",
     "shell.execute_reply": "2022-08-05T00:54:39.792617Z"
    },
    "papermill": {
     "duration": 0.061716,
     "end_time": "2022-08-05T00:54:39.792772",
     "exception": false,
     "start_time": "2022-08-05T00:54:39.731056",
     "status": "completed"
    },
    "tags": []
   },
   "outputs": [
    {
     "name": "stdout",
     "output_type": "stream",
     "text": [
      "xavier\n",
      "xavier\n",
      "xavier\n",
      "xavier\n",
      "xavier\n"
     ]
    }
   ],
   "source": [
    "layers = [Affine(\"first\", 784, 100), Relu(\"first\"), Affine(\"second\", 100, 100), Relu(\"second\"), Affine(\"third\", 100, 2), Affine(\"last\", 2, 1), Sigmoid(\"last\")]\n",
    "model_nn = Model(layers)\n",
    "model_lr = Model([Affine(\"logits\", 784, 1), Sigmoid(\"sigmoid\")])"
   ]
  },
  {
   "cell_type": "code",
   "execution_count": 20,
   "id": "6eede77a",
   "metadata": {
    "execution": {
     "iopub.execute_input": "2022-08-05T00:54:39.867147Z",
     "iopub.status.busy": "2022-08-05T00:54:39.866411Z",
     "iopub.status.idle": "2022-08-05T00:54:39.880562Z",
     "shell.execute_reply": "2022-08-05T00:54:39.879980Z"
    },
    "papermill": {
     "duration": 0.055456,
     "end_time": "2022-08-05T00:54:39.880693",
     "exception": false,
     "start_time": "2022-08-05T00:54:39.825237",
     "status": "completed"
    },
    "tags": []
   },
   "outputs": [],
   "source": [
    "nn_learner = Learner(loss, model_nn, opt, config.num_epochs)\n",
    "acc_nn = ClfCallback(nn_learner, config.bs, training_data_x , testing_data_x, training_data_y, testing_data_y)\n",
    "nn_learner.set_callbacks([acc_nn])"
   ]
  },
  {
   "cell_type": "code",
   "execution_count": 21,
   "id": "877b6cc7",
   "metadata": {
    "execution": {
     "iopub.execute_input": "2022-08-05T00:54:39.949781Z",
     "iopub.status.busy": "2022-08-05T00:54:39.949026Z",
     "iopub.status.idle": "2022-08-05T00:54:39.963463Z",
     "shell.execute_reply": "2022-08-05T00:54:39.963978Z"
    },
    "papermill": {
     "duration": 0.051501,
     "end_time": "2022-08-05T00:54:39.964137",
     "exception": false,
     "start_time": "2022-08-05T00:54:39.912636",
     "status": "completed"
    },
    "tags": []
   },
   "outputs": [],
   "source": [
    "lr_learner = Learner(loss, model_lr, opt, config.num_epochs)\n",
    "acc_lr = ClfCallback(lr_learner, config.bs, training_data_x , testing_data_x, training_data_y, testing_data_y)\n",
    "lr_learner.set_callbacks([acc_lr])"
   ]
  },
  {
   "cell_type": "code",
   "execution_count": 22,
   "id": "d9b133c3",
   "metadata": {
    "execution": {
     "iopub.execute_input": "2022-08-05T00:54:40.032961Z",
     "iopub.status.busy": "2022-08-05T00:54:40.032270Z",
     "iopub.status.idle": "2022-08-05T00:56:09.772786Z",
     "shell.execute_reply": "2022-08-05T00:56:09.773819Z"
    },
    "papermill": {
     "duration": 89.777933,
     "end_time": "2022-08-05T00:56:09.773996",
     "exception": false,
     "start_time": "2022-08-05T00:54:39.996063",
     "status": "completed"
    },
    "tags": []
   },
   "outputs": [
    {
     "name": "stdout",
     "output_type": "stream",
     "text": [
      "Epoch 0, Loss 0.2404\n",
      "Training Accuracy: 0.6666, Testing Accuracy: 0.6865\n",
      "\n"
     ]
    },
    {
     "name": "stdout",
     "output_type": "stream",
     "text": [
      "Epoch 10, Loss 0.0778\n",
      "Training Accuracy: 0.9311, Testing Accuracy: 0.9491\n",
      "\n"
     ]
    },
    {
     "name": "stdout",
     "output_type": "stream",
     "text": [
      "Epoch 20, Loss 0.0505\n",
      "Training Accuracy: 0.9493, Testing Accuracy: 0.9612\n",
      "\n"
     ]
    },
    {
     "name": "stdout",
     "output_type": "stream",
     "text": [
      "Epoch 30, Loss 0.0409\n",
      "Training Accuracy: 0.9570, Testing Accuracy: 0.9677\n",
      "\n"
     ]
    },
    {
     "name": "stdout",
     "output_type": "stream",
     "text": [
      "Epoch 40, Loss 0.0359\n",
      "Training Accuracy: 0.9599, Testing Accuracy: 0.9703\n",
      "\n"
     ]
    },
    {
     "name": "stdout",
     "output_type": "stream",
     "text": [
      "Epoch 50, Loss 0.0328\n",
      "Training Accuracy: 0.9635, Testing Accuracy: 0.9713\n",
      "\n"
     ]
    },
    {
     "name": "stdout",
     "output_type": "stream",
     "text": [
      "Epoch 60, Loss 0.0305\n",
      "Training Accuracy: 0.9663, Testing Accuracy: 0.9708\n",
      "\n"
     ]
    },
    {
     "name": "stdout",
     "output_type": "stream",
     "text": [
      "Epoch 70, Loss 0.0288\n",
      "Training Accuracy: 0.9683, Testing Accuracy: 0.9718\n",
      "\n"
     ]
    },
    {
     "name": "stdout",
     "output_type": "stream",
     "text": [
      "Epoch 80, Loss 0.0274\n",
      "Training Accuracy: 0.9692, Testing Accuracy: 0.9728\n",
      "\n"
     ]
    },
    {
     "name": "stdout",
     "output_type": "stream",
     "text": [
      "Epoch 90, Loss 0.0262\n",
      "Training Accuracy: 0.9705, Testing Accuracy: 0.9738\n",
      "\n"
     ]
    },
    {
     "name": "stdout",
     "output_type": "stream",
     "text": [
      "Epoch 100, Loss 0.0252\n",
      "Training Accuracy: 0.9712, Testing Accuracy: 0.9738\n",
      "\n"
     ]
    },
    {
     "name": "stdout",
     "output_type": "stream",
     "text": [
      "Epoch 110, Loss 0.0243\n",
      "Training Accuracy: 0.9719, Testing Accuracy: 0.9748\n",
      "\n"
     ]
    },
    {
     "name": "stdout",
     "output_type": "stream",
     "text": [
      "Epoch 120, Loss 0.0235\n",
      "Training Accuracy: 0.9730, Testing Accuracy: 0.9763\n",
      "\n"
     ]
    },
    {
     "name": "stdout",
     "output_type": "stream",
     "text": [
      "Epoch 130, Loss 0.0228\n",
      "Training Accuracy: 0.9735, Testing Accuracy: 0.9783\n",
      "\n"
     ]
    },
    {
     "name": "stdout",
     "output_type": "stream",
     "text": [
      "Epoch 140, Loss 0.0222\n",
      "Training Accuracy: 0.9742, Testing Accuracy: 0.9773\n",
      "\n"
     ]
    },
    {
     "name": "stdout",
     "output_type": "stream",
     "text": [
      "Epoch 150, Loss 0.0216\n",
      "Training Accuracy: 0.9750, Testing Accuracy: 0.9773\n",
      "\n"
     ]
    },
    {
     "name": "stdout",
     "output_type": "stream",
     "text": [
      "Epoch 160, Loss 0.021\n",
      "Training Accuracy: 0.9755, Testing Accuracy: 0.9773\n",
      "\n"
     ]
    },
    {
     "name": "stdout",
     "output_type": "stream",
     "text": [
      "Epoch 170, Loss 0.0205\n",
      "Training Accuracy: 0.9764, Testing Accuracy: 0.9773\n",
      "\n"
     ]
    },
    {
     "name": "stdout",
     "output_type": "stream",
     "text": [
      "Epoch 180, Loss 0.02\n",
      "Training Accuracy: 0.9771, Testing Accuracy: 0.9778\n",
      "\n"
     ]
    },
    {
     "name": "stdout",
     "output_type": "stream",
     "text": [
      "Epoch 190, Loss 0.0196\n",
      "Training Accuracy: 0.9775, Testing Accuracy: 0.9783\n",
      "\n"
     ]
    },
    {
     "name": "stdout",
     "output_type": "stream",
     "text": [
      "Epoch 200, Loss 0.0191\n",
      "Training Accuracy: 0.9780, Testing Accuracy: 0.9783\n",
      "\n"
     ]
    },
    {
     "name": "stdout",
     "output_type": "stream",
     "text": [
      "Epoch 210, Loss 0.0187\n",
      "Training Accuracy: 0.9784, Testing Accuracy: 0.9783\n",
      "\n"
     ]
    },
    {
     "name": "stdout",
     "output_type": "stream",
     "text": [
      "Epoch 220, Loss 0.0183\n",
      "Training Accuracy: 0.9793, Testing Accuracy: 0.9788\n",
      "\n"
     ]
    },
    {
     "name": "stdout",
     "output_type": "stream",
     "text": [
      "Epoch 230, Loss 0.0179\n",
      "Training Accuracy: 0.9796, Testing Accuracy: 0.9788\n",
      "\n"
     ]
    },
    {
     "name": "stdout",
     "output_type": "stream",
     "text": [
      "Epoch 240, Loss 0.0175\n",
      "Training Accuracy: 0.9802, Testing Accuracy: 0.9788\n",
      "\n"
     ]
    },
    {
     "data": {
      "text/plain": [
       "0.014863034497055273"
      ]
     },
     "execution_count": 22,
     "metadata": {},
     "output_type": "execute_result"
    }
   ],
   "source": [
    "nn_learner.train_loop(dl)"
   ]
  },
  {
   "cell_type": "code",
   "execution_count": 23,
   "id": "e0163366",
   "metadata": {
    "execution": {
     "iopub.execute_input": "2022-08-05T00:56:09.871130Z",
     "iopub.status.busy": "2022-08-05T00:56:09.870415Z",
     "iopub.status.idle": "2022-08-05T00:56:26.064050Z",
     "shell.execute_reply": "2022-08-05T00:56:26.064642Z"
    },
    "papermill": {
     "duration": 16.249259,
     "end_time": "2022-08-05T00:56:26.064810",
     "exception": false,
     "start_time": "2022-08-05T00:56:09.815551",
     "status": "completed"
    },
    "tags": []
   },
   "outputs": [
    {
     "name": "stdout",
     "output_type": "stream",
     "text": [
      "Epoch 0, Loss 0.2478\n",
      "Training Accuracy: 0.6536, Testing Accuracy: 0.6351\n",
      "\n"
     ]
    },
    {
     "name": "stdout",
     "output_type": "stream",
     "text": [
      "Epoch 10, Loss 0.1057\n",
      "Training Accuracy: 0.9029, Testing Accuracy: 0.9123\n",
      "\n"
     ]
    },
    {
     "name": "stdout",
     "output_type": "stream",
     "text": [
      "Epoch 20, Loss 0.0806\n",
      "Training Accuracy: 0.9262, Testing Accuracy: 0.9365\n",
      "\n"
     ]
    },
    {
     "name": "stdout",
     "output_type": "stream",
     "text": [
      "Epoch 30, Loss 0.0692\n",
      "Training Accuracy: 0.9352, Testing Accuracy: 0.9456\n",
      "\n"
     ]
    },
    {
     "name": "stdout",
     "output_type": "stream",
     "text": [
      "Epoch 40, Loss 0.0624\n",
      "Training Accuracy: 0.9406, Testing Accuracy: 0.9506\n",
      "\n"
     ]
    },
    {
     "name": "stdout",
     "output_type": "stream",
     "text": [
      "Epoch 50, Loss 0.0578\n",
      "Training Accuracy: 0.9453, Testing Accuracy: 0.9521\n",
      "\n"
     ]
    },
    {
     "name": "stdout",
     "output_type": "stream",
     "text": [
      "Epoch 60, Loss 0.0544\n",
      "Training Accuracy: 0.9473, Testing Accuracy: 0.9541\n",
      "\n"
     ]
    },
    {
     "name": "stdout",
     "output_type": "stream",
     "text": [
      "Epoch 70, Loss 0.0518\n",
      "Training Accuracy: 0.9491, Testing Accuracy: 0.9572\n",
      "\n"
     ]
    },
    {
     "name": "stdout",
     "output_type": "stream",
     "text": [
      "Epoch 80, Loss 0.0497\n",
      "Training Accuracy: 0.9505, Testing Accuracy: 0.9587\n",
      "\n"
     ]
    },
    {
     "name": "stdout",
     "output_type": "stream",
     "text": [
      "Epoch 90, Loss 0.048\n",
      "Training Accuracy: 0.9518, Testing Accuracy: 0.9617\n",
      "\n"
     ]
    },
    {
     "name": "stdout",
     "output_type": "stream",
     "text": [
      "Epoch 100, Loss 0.0465\n",
      "Training Accuracy: 0.9534, Testing Accuracy: 0.9627\n",
      "\n"
     ]
    },
    {
     "name": "stdout",
     "output_type": "stream",
     "text": [
      "Epoch 110, Loss 0.0453\n",
      "Training Accuracy: 0.9538, Testing Accuracy: 0.9657\n",
      "\n"
     ]
    },
    {
     "name": "stdout",
     "output_type": "stream",
     "text": [
      "Epoch 120, Loss 0.0442\n",
      "Training Accuracy: 0.9547, Testing Accuracy: 0.9662\n",
      "\n"
     ]
    },
    {
     "name": "stdout",
     "output_type": "stream",
     "text": [
      "Epoch 130, Loss 0.0433\n",
      "Training Accuracy: 0.9553, Testing Accuracy: 0.9662\n",
      "\n"
     ]
    },
    {
     "name": "stdout",
     "output_type": "stream",
     "text": [
      "Epoch 140, Loss 0.0424\n",
      "Training Accuracy: 0.9560, Testing Accuracy: 0.9657\n",
      "\n"
     ]
    },
    {
     "name": "stdout",
     "output_type": "stream",
     "text": [
      "Epoch 150, Loss 0.0417\n",
      "Training Accuracy: 0.9566, Testing Accuracy: 0.9657\n",
      "\n"
     ]
    },
    {
     "name": "stdout",
     "output_type": "stream",
     "text": [
      "Epoch 160, Loss 0.041\n",
      "Training Accuracy: 0.9570, Testing Accuracy: 0.9657\n",
      "\n"
     ]
    },
    {
     "name": "stdout",
     "output_type": "stream",
     "text": [
      "Epoch 170, Loss 0.0404\n",
      "Training Accuracy: 0.9573, Testing Accuracy: 0.9657\n",
      "\n"
     ]
    },
    {
     "name": "stdout",
     "output_type": "stream",
     "text": [
      "Epoch 180, Loss 0.0398\n",
      "Training Accuracy: 0.9573, Testing Accuracy: 0.9657\n",
      "\n"
     ]
    },
    {
     "name": "stdout",
     "output_type": "stream",
     "text": [
      "Epoch 190, Loss 0.0393\n",
      "Training Accuracy: 0.9579, Testing Accuracy: 0.9657\n",
      "\n"
     ]
    },
    {
     "name": "stdout",
     "output_type": "stream",
     "text": [
      "Epoch 200, Loss 0.0388\n",
      "Training Accuracy: 0.9581, Testing Accuracy: 0.9662\n",
      "\n"
     ]
    },
    {
     "name": "stdout",
     "output_type": "stream",
     "text": [
      "Epoch 210, Loss 0.0383\n",
      "Training Accuracy: 0.9583, Testing Accuracy: 0.9662\n",
      "\n"
     ]
    },
    {
     "name": "stdout",
     "output_type": "stream",
     "text": [
      "Epoch 220, Loss 0.0379\n",
      "Training Accuracy: 0.9589, Testing Accuracy: 0.9657\n",
      "\n"
     ]
    },
    {
     "name": "stdout",
     "output_type": "stream",
     "text": [
      "Epoch 230, Loss 0.0375\n",
      "Training Accuracy: 0.9591, Testing Accuracy: 0.9657\n",
      "\n"
     ]
    },
    {
     "name": "stdout",
     "output_type": "stream",
     "text": [
      "Epoch 240, Loss 0.0371\n",
      "Training Accuracy: 0.9594, Testing Accuracy: 0.9657\n",
      "\n"
     ]
    },
    {
     "data": {
      "text/plain": [
       "0.03929709657251421"
      ]
     },
     "execution_count": 23,
     "metadata": {},
     "output_type": "execute_result"
    }
   ],
   "source": [
    "lr_learner.train_loop(dl)"
   ]
  },
  {
   "cell_type": "code",
   "execution_count": 24,
   "id": "ca410940",
   "metadata": {
    "execution": {
     "iopub.execute_input": "2022-08-05T00:56:26.176810Z",
     "iopub.status.busy": "2022-08-05T00:56:26.173776Z",
     "iopub.status.idle": "2022-08-05T00:56:26.461206Z",
     "shell.execute_reply": "2022-08-05T00:56:26.460579Z"
    },
    "papermill": {
     "duration": 0.341936,
     "end_time": "2022-08-05T00:56:26.461375",
     "exception": false,
     "start_time": "2022-08-05T00:56:26.119439",
     "status": "completed"
    },
    "tags": []
   },
   "outputs": [
    {
     "data": {
      "text/plain": [
       "<matplotlib.legend.Legend at 0x7f71dadbfc50>"
      ]
     },
     "execution_count": 24,
     "metadata": {},
     "output_type": "execute_result"
    },
    {
     "data": {
      "image/png": "[encoded data removed]",
      "text/plain": [
       "<Figure size 1080x720 with 1 Axes>"
      ]
     },
     "metadata": {
      "needs_background": "light"
     },
     "output_type": "display_data"
    }
   ],
   "source": [
    "#comparing the results of NN and LR\n",
    "plt.figure(figsize=(15,10))\n",
    "\n",
    "# Neural Network plots\n",
    "plt.plot(acc_nn.accuracies, 'r-', label = \"Training Accuracies - NN\")\n",
    "plt.plot(acc_nn.test_accuracies, 'g-', label = \"Testing Accuracies - NN\")\n",
    "\n",
    "# Logistic Regression plots\n",
    "plt.plot(acc_lr.accuracies, 'k-', label = \"Training Accuracies - LR\")\n",
    "plt.plot(acc_lr.test_accuracies, 'b-', label = \"Testing Accuracies - LR\")\n",
    "plt.legend()"
   ]
  },
  {
   "cell_type": "markdown",
   "id": "80dfb35c",
   "metadata": {
    "papermill": {
     "duration": 0.04964,
     "end_time": "2022-08-05T00:56:26.561043",
     "exception": false,
     "start_time": "2022-08-05T00:56:26.511403",
     "status": "completed"
    },
    "tags": []
   },
   "source": [
    "#### Plotting the outputs of this layer of the NN.\n"
   ]
  },
  {
   "cell_type": "code",
   "execution_count": 25,
   "id": "45eb2ff5",
   "metadata": {
    "execution": {
     "iopub.execute_input": "2022-08-05T00:56:26.671061Z",
     "iopub.status.busy": "2022-08-05T00:56:26.666342Z",
     "iopub.status.idle": "2022-08-05T00:56:26.692102Z",
     "shell.execute_reply": "2022-08-05T00:56:26.693068Z"
    },
    "papermill": {
     "duration": 0.082271,
     "end_time": "2022-08-05T00:56:26.693248",
     "exception": false,
     "start_time": "2022-08-05T00:56:26.610977",
     "status": "completed"
    },
    "tags": []
   },
   "outputs": [],
   "source": [
    "new_model = Model(layers[:-2])\n",
    "testing_plot = new_model(testing_data_x)"
   ]
  },
  {
   "cell_type": "code",
   "execution_count": 26,
   "id": "4c0a5485",
   "metadata": {
    "execution": {
     "iopub.execute_input": "2022-08-05T00:56:26.801978Z",
     "iopub.status.busy": "2022-08-05T00:56:26.801108Z",
     "iopub.status.idle": "2022-08-05T00:56:27.072557Z",
     "shell.execute_reply": "2022-08-05T00:56:27.073135Z"
    },
    "papermill": {
     "duration": 0.328393,
     "end_time": "2022-08-05T00:56:27.073313",
     "exception": false,
     "start_time": "2022-08-05T00:56:26.744920",
     "status": "completed"
    },
    "tags": []
   },
   "outputs": [
    {
     "data": {
      "text/plain": [
       "Text(0.5, 1.0, 'Outputs')"
      ]
     },
     "execution_count": 26,
     "metadata": {},
     "output_type": "execute_result"
    },
    {
     "data": {
      "image/png": "[encoded data removed]",
      "text/plain": [
       "<Figure size 576x504 with 1 Axes>"
      ]
     },
     "metadata": {
      "needs_background": "light"
     },
     "output_type": "display_data"
    }
   ],
   "source": [
    "# Plotting the scatter plot of points and color coding by class\n",
    "plt.figure(figsize=(8,7))\n",
    "plt.scatter(testing_plot[:,0], testing_plot[:,1], alpha = 0.1, c = y_test.ravel());\n",
    "plt.title('Outputs')"
   ]
  },
  {
   "cell_type": "markdown",
   "id": "a74fcf8f",
   "metadata": {
    "papermill": {
     "duration": 0.064336,
     "end_time": "2022-08-05T00:56:27.199236",
     "exception": false,
     "start_time": "2022-08-05T00:56:27.134900",
     "status": "completed"
    },
    "tags": []
   },
   "source": [
    "Probability contours"
   ]
  },
  {
   "cell_type": "code",
   "execution_count": 27,
   "id": "d0afc8e3",
   "metadata": {
    "execution": {
     "iopub.execute_input": "2022-08-05T00:56:27.365389Z",
     "iopub.status.busy": "2022-08-05T00:56:27.364365Z",
     "iopub.status.idle": "2022-08-05T00:56:27.379679Z",
     "shell.execute_reply": "2022-08-05T00:56:27.379026Z"
    },
    "papermill": {
     "duration": 0.083629,
     "end_time": "2022-08-05T00:56:27.379892",
     "exception": false,
     "start_time": "2022-08-05T00:56:27.296263",
     "status": "completed"
    },
    "tags": []
   },
   "outputs": [],
   "source": [
    "model_prob = Model(layers[-2:]) "
   ]
  },
  {
   "cell_type": "code",
   "execution_count": 28,
   "id": "9b96e238",
   "metadata": {
    "execution": {
     "iopub.execute_input": "2022-08-05T00:56:27.503057Z",
     "iopub.status.busy": "2022-08-05T00:56:27.502322Z",
     "iopub.status.idle": "2022-08-05T00:56:27.518422Z",
     "shell.execute_reply": "2022-08-05T00:56:27.518947Z"
    },
    "papermill": {
     "duration": 0.077444,
     "end_time": "2022-08-05T00:56:27.519116",
     "exception": false,
     "start_time": "2022-08-05T00:56:27.441672",
     "status": "completed"
    },
    "tags": []
   },
   "outputs": [],
   "source": [
    "#creating the x and y ranges according to the above generated plot.\n",
    "x_range = np.linspace(-4, 1, 100) \n",
    "y_range = np.linspace(-6, 6, 100) \n",
    "x_grid, y_grid = np.meshgrid(x_range, y_range) # x_grid and y_grig are of size 100 X 100\n",
    "\n",
    "# converting x_grid and y_grid to continuous arrays\n",
    "x_gridflat = np.ravel(x_grid)\n",
    "y_gridflat = np.ravel(y_grid)\n",
    "\n",
    "# The last layer of the current model takes two columns as input. Hence transpose of np.vstack() is required.\n",
    "X = np.vstack((x_gridflat, y_gridflat)).T\n",
    "\n",
    "prob_contour = model_prob(X).reshape(100,100) "
   ]
  },
  {
   "cell_type": "code",
   "execution_count": 29,
   "id": "da72499a",
   "metadata": {
    "execution": {
     "iopub.execute_input": "2022-08-05T00:56:27.642931Z",
     "iopub.status.busy": "2022-08-05T00:56:27.639602Z",
     "iopub.status.idle": "2022-08-05T00:56:27.960141Z",
     "shell.execute_reply": "2022-08-05T00:56:27.960698Z"
    },
    "papermill": {
     "duration": 0.38685,
     "end_time": "2022-08-05T00:56:27.960860",
     "exception": false,
     "start_time": "2022-08-05T00:56:27.574010",
     "status": "completed"
    },
    "tags": []
   },
   "outputs": [
    {
     "data": {
      "image/png": "[encoded data removed]",
      "text/plain": [
       "<Figure size 720x648 with 1 Axes>"
      ]
     },
     "metadata": {
      "needs_background": "light"
     },
     "output_type": "display_data"
    }
   ],
   "source": [
    "plt.figure(figsize=(10,9))\n",
    "plt.scatter(testing_plot[:,0], testing_plot[:,1], alpha = 0.1, c = y_test.ravel())\n",
    "contours = plt.contour(x_grid,y_grid,prob_contour)\n",
    "plt.title('Probability Contours')\n",
    "plt.clabel(contours, inline = True );"
   ]
  },
  {
   "cell_type": "code",
   "execution_count": null,
   "id": "e81b4ac7",
   "metadata": {
    "papermill": {
     "duration": 0.06245,
     "end_time": "2022-08-05T00:56:28.084757",
     "exception": false,
     "start_time": "2022-08-05T00:56:28.022307",
     "status": "completed"
    },
    "tags": []
   },
   "outputs": [],
   "source": []
  }
 ],
 "metadata": {
  "kernelspec": {
   "display_name": "Python 3",
   "language": "python",
   "name": "python3"
  },
  "language_info": {
   "codemirror_mode": {
    "name": "ipython",
    "version": 3
   },
   "file_extension": ".py",
   "mimetype": "text/x-python",
   "name": "python",
   "nbconvert_exporter": "python",
   "pygments_lexer": "ipython3",
   "version": "3.6.15"
  },
  "papermill": {
   "default_parameters": {},
   "duration": 116.983791,
   "end_time": "2022-08-05T00:56:28.562825",
   "environment_variables": {},
   "exception": null,
   "input_path": "2020-08-11-part2.ipynb",
   "output_path": "2020-08-11-part2.ipynb",
   "parameters": {},
   "start_time": "2022-08-05T00:54:31.579034",
   "version": "2.3.3"
  }
 },
 "nbformat": 4,
 "nbformat_minor": 5
}