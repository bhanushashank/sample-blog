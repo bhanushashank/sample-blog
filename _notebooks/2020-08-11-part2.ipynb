{
 "cells": [
  {
   "cell_type": "markdown",
   "id": "98380cd3",
   "metadata": {
    "papermill": {
     "duration": 0.036135,
     "end_time": "2021-09-03T00:18:51.362976",
     "exception": false,
     "start_time": "2021-09-03T00:18:51.326841",
     "status": "completed"
    },
    "tags": []
   },
   "source": [
    "# Distinguish Your Own Digits (DYOD)"
   ]
  },
  {
   "cell_type": "markdown",
   "id": "ef31240d",
   "metadata": {
    "papermill": {
     "duration": 0.029508,
     "end_time": "2021-09-03T00:18:51.423324",
     "exception": false,
     "start_time": "2021-09-03T00:18:51.393816",
     "status": "completed"
    },
    "tags": []
   },
   "source": [
    "You are going to write a classifier that distinguishes between the number 3 and number 8."
   ]
  },
  {
   "cell_type": "code",
   "execution_count": 1,
   "id": "b15c8646",
   "metadata": {
    "execution": {
     "iopub.execute_input": "2021-09-03T00:18:51.494404Z",
     "iopub.status.busy": "2021-09-03T00:18:51.490556Z",
     "iopub.status.idle": "2021-09-03T00:18:51.505593Z",
     "shell.execute_reply": "2021-09-03T00:18:51.505058Z"
    },
    "papermill": {
     "duration": 0.0526,
     "end_time": "2021-09-03T00:18:51.505743",
     "exception": false,
     "start_time": "2021-09-03T00:18:51.453143",
     "status": "completed"
    },
    "tags": []
   },
   "outputs": [],
   "source": [
    "%load_ext autoreload\n",
    "%autoreload 2"
   ]
  },
  {
   "cell_type": "code",
   "execution_count": 2,
   "id": "22ef38dc",
   "metadata": {
    "execution": {
     "iopub.execute_input": "2021-09-03T00:18:51.575769Z",
     "iopub.status.busy": "2021-09-03T00:18:51.575117Z",
     "iopub.status.idle": "2021-09-03T00:18:52.173648Z",
     "shell.execute_reply": "2021-09-03T00:18:52.173101Z"
    },
    "papermill": {
     "duration": 0.637973,
     "end_time": "2021-09-03T00:18:52.173793",
     "exception": false,
     "start_time": "2021-09-03T00:18:51.535820",
     "status": "completed"
    },
    "tags": []
   },
   "outputs": [],
   "source": [
    "%matplotlib inline\n",
    "import numpy as np\n",
    "import matplotlib.pyplot as plt\n",
    "import pandas as pd"
   ]
  },
  {
   "cell_type": "markdown",
   "id": "ba036198",
   "metadata": {
    "papermill": {
     "duration": 0.030968,
     "end_time": "2021-09-03T00:18:52.235242",
     "exception": false,
     "start_time": "2021-09-03T00:18:52.204274",
     "status": "completed"
    },
    "tags": []
   },
   "source": [
    "From the command line run `pip install mnist`. This is a library that will help you bring down the mnist dataset. If you run this from a notebook, you need to put  `!pip install mnist` in a cell by itself."
   ]
  },
  {
   "cell_type": "code",
   "execution_count": 3,
   "id": "bb6ad8a1",
   "metadata": {
    "execution": {
     "iopub.execute_input": "2021-09-03T00:18:52.300722Z",
     "iopub.status.busy": "2021-09-03T00:18:52.300091Z",
     "iopub.status.idle": "2021-09-03T00:18:55.146475Z",
     "shell.execute_reply": "2021-09-03T00:18:55.145805Z"
    },
    "papermill": {
     "duration": 2.880462,
     "end_time": "2021-09-03T00:18:55.146622",
     "exception": false,
     "start_time": "2021-09-03T00:18:52.266160",
     "status": "completed"
    },
    "tags": []
   },
   "outputs": [
    {
     "name": "stdout",
     "output_type": "stream",
     "text": [
      "Collecting mnist\r\n"
     ]
    },
    {
     "name": "stdout",
     "output_type": "stream",
     "text": [
      "  Downloading mnist-0.2.2-py2.py3-none-any.whl (3.5 kB)\r\n"
     ]
    },
    {
     "name": "stdout",
     "output_type": "stream",
     "text": [
      "Requirement already satisfied: numpy in /opt/hostedtoolcache/Python/3.6.14/x64/lib/python3.6/site-packages (from mnist) (1.19.5)\r\n"
     ]
    },
    {
     "name": "stdout",
     "output_type": "stream",
     "text": [
      "Installing collected packages: mnist\r\n"
     ]
    },
    {
     "name": "stdout",
     "output_type": "stream",
     "text": [
      "Successfully installed mnist-0.2.2\r\n"
     ]
    }
   ],
   "source": [
    "!pip install mnist"
   ]
  },
  {
   "cell_type": "markdown",
   "id": "69df9c9a",
   "metadata": {
    "papermill": {
     "duration": 0.036601,
     "end_time": "2021-09-03T00:18:55.217875",
     "exception": false,
     "start_time": "2021-09-03T00:18:55.181274",
     "status": "completed"
    },
    "tags": []
   },
   "source": [
    "## Preparing the Data"
   ]
  },
  {
   "cell_type": "code",
   "execution_count": 4,
   "id": "7f69d806",
   "metadata": {
    "execution": {
     "iopub.execute_input": "2021-09-03T00:18:55.292310Z",
     "iopub.status.busy": "2021-09-03T00:18:55.291476Z",
     "iopub.status.idle": "2021-09-03T00:18:55.302728Z",
     "shell.execute_reply": "2021-09-03T00:18:55.303314Z"
    },
    "papermill": {
     "duration": 0.052003,
     "end_time": "2021-09-03T00:18:55.303460",
     "exception": false,
     "start_time": "2021-09-03T00:18:55.251457",
     "status": "completed"
    },
    "tags": []
   },
   "outputs": [],
   "source": [
    "import mnist"
   ]
  },
  {
   "cell_type": "code",
   "execution_count": 5,
   "id": "a411e44f",
   "metadata": {
    "execution": {
     "iopub.execute_input": "2021-09-03T00:18:55.372305Z",
     "iopub.status.busy": "2021-09-03T00:18:55.371595Z",
     "iopub.status.idle": "2021-09-03T00:18:56.180122Z",
     "shell.execute_reply": "2021-09-03T00:18:56.180678Z"
    },
    "papermill": {
     "duration": 0.845963,
     "end_time": "2021-09-03T00:18:56.180849",
     "exception": false,
     "start_time": "2021-09-03T00:18:55.334886",
     "status": "completed"
    },
    "tags": []
   },
   "outputs": [],
   "source": [
    "train_images = mnist.train_images()\n",
    "train_labels = mnist.train_labels()"
   ]
  },
  {
   "cell_type": "code",
   "execution_count": 6,
   "id": "dceab3a5",
   "metadata": {
    "execution": {
     "iopub.execute_input": "2021-09-03T00:18:56.249877Z",
     "iopub.status.busy": "2021-09-03T00:18:56.249148Z",
     "iopub.status.idle": "2021-09-03T00:18:56.264892Z",
     "shell.execute_reply": "2021-09-03T00:18:56.264350Z"
    },
    "papermill": {
     "duration": 0.050073,
     "end_time": "2021-09-03T00:18:56.265020",
     "exception": false,
     "start_time": "2021-09-03T00:18:56.214947",
     "status": "completed"
    },
    "tags": []
   },
   "outputs": [
    {
     "data": {
      "text/plain": [
       "((60000, 28, 28), (60000,))"
      ]
     },
     "execution_count": 6,
     "metadata": {},
     "output_type": "execute_result"
    }
   ],
   "source": [
    "train_images.shape, train_labels.shape"
   ]
  },
  {
   "cell_type": "code",
   "execution_count": 7,
   "id": "f50dc2bb",
   "metadata": {
    "execution": {
     "iopub.execute_input": "2021-09-03T00:18:56.338462Z",
     "iopub.status.busy": "2021-09-03T00:18:56.337773Z",
     "iopub.status.idle": "2021-09-03T00:18:56.697501Z",
     "shell.execute_reply": "2021-09-03T00:18:56.696815Z"
    },
    "papermill": {
     "duration": 0.397693,
     "end_time": "2021-09-03T00:18:56.697649",
     "exception": false,
     "start_time": "2021-09-03T00:18:56.299956",
     "status": "completed"
    },
    "tags": []
   },
   "outputs": [],
   "source": [
    "test_images = mnist.test_images()\n",
    "test_labels = mnist.test_labels()"
   ]
  },
  {
   "cell_type": "code",
   "execution_count": 8,
   "id": "fc38cf1b",
   "metadata": {
    "execution": {
     "iopub.execute_input": "2021-09-03T00:18:56.778166Z",
     "iopub.status.busy": "2021-09-03T00:18:56.770969Z",
     "iopub.status.idle": "2021-09-03T00:18:56.787244Z",
     "shell.execute_reply": "2021-09-03T00:18:56.786692Z"
    },
    "papermill": {
     "duration": 0.054592,
     "end_time": "2021-09-03T00:18:56.787376",
     "exception": false,
     "start_time": "2021-09-03T00:18:56.732784",
     "status": "completed"
    },
    "tags": []
   },
   "outputs": [
    {
     "data": {
      "text/plain": [
       "((10000, 28, 28), (10000,))"
      ]
     },
     "execution_count": 8,
     "metadata": {},
     "output_type": "execute_result"
    }
   ],
   "source": [
    "test_images.shape, test_labels.shape"
   ]
  },
  {
   "cell_type": "code",
   "execution_count": 9,
   "id": "f9ed8fe0",
   "metadata": {
    "execution": {
     "iopub.execute_input": "2021-09-03T00:18:56.857169Z",
     "iopub.status.busy": "2021-09-03T00:18:56.856523Z",
     "iopub.status.idle": "2021-09-03T00:18:57.036517Z",
     "shell.execute_reply": "2021-09-03T00:18:57.035981Z"
    },
    "papermill": {
     "duration": 0.215887,
     "end_time": "2021-09-03T00:18:57.036658",
     "exception": false,
     "start_time": "2021-09-03T00:18:56.820771",
     "status": "completed"
    },
    "tags": []
   },
   "outputs": [
    {
     "name": "stdout",
     "output_type": "stream",
     "text": [
      "2\n"
     ]
    },
    {
     "data": {
      "text/plain": [
       "<matplotlib.image.AxesImage at 0x7f4732156d68>"
      ]
     },
     "execution_count": 9,
     "metadata": {},
     "output_type": "execute_result"
    },
    {
     "data": {
      "image/png": "[encoded data removed]",
      "text/plain": [
       "<Figure size 432x288 with 1 Axes>"
      ]
     },
     "metadata": {
      "needs_background": "light"
     },
     "output_type": "display_data"
    }
   ],
   "source": [
    "image_index = 7776 # You may select anything up to 60,000\n",
    "print(train_labels[image_index]) \n",
    "plt.imshow(train_images[image_index], cmap='Greys')"
   ]
  },
  {
   "cell_type": "markdown",
   "id": "a8d2388d",
   "metadata": {
    "papermill": {
     "duration": 0.037508,
     "end_time": "2021-09-03T00:18:57.108958",
     "exception": false,
     "start_time": "2021-09-03T00:18:57.071450",
     "status": "completed"
    },
    "tags": []
   },
   "source": [
    "## Filter data to get 3 and 8 out"
   ]
  },
  {
   "cell_type": "code",
   "execution_count": 10,
   "id": "776f7fc7",
   "metadata": {
    "execution": {
     "iopub.execute_input": "2021-09-03T00:18:57.199081Z",
     "iopub.status.busy": "2021-09-03T00:18:57.189884Z",
     "iopub.status.idle": "2021-09-03T00:18:57.208564Z",
     "shell.execute_reply": "2021-09-03T00:18:57.209092Z"
    },
    "papermill": {
     "duration": 0.061452,
     "end_time": "2021-09-03T00:18:57.209251",
     "exception": false,
     "start_time": "2021-09-03T00:18:57.147799",
     "status": "completed"
    },
    "tags": []
   },
   "outputs": [],
   "source": [
    "train_filter = np.where((train_labels == 3 ) | (train_labels == 8))\n",
    "test_filter = np.where((test_labels == 3) | (test_labels == 8))\n",
    "X_train, y_train = train_images[train_filter], train_labels[train_filter]\n",
    "X_test, y_test = test_images[test_filter], test_labels[test_filter]"
   ]
  },
  {
   "cell_type": "markdown",
   "id": "948f0b7e",
   "metadata": {
    "papermill": {
     "duration": 0.033343,
     "end_time": "2021-09-03T00:18:57.277337",
     "exception": false,
     "start_time": "2021-09-03T00:18:57.243994",
     "status": "completed"
    },
    "tags": []
   },
   "source": [
    "We normalize the pizel values in the 0 to 1 range"
   ]
  },
  {
   "cell_type": "code",
   "execution_count": 11,
   "id": "ee4c2166",
   "metadata": {
    "execution": {
     "iopub.execute_input": "2021-09-03T00:18:57.351700Z",
     "iopub.status.busy": "2021-09-03T00:18:57.348301Z",
     "iopub.status.idle": "2021-09-03T00:18:57.412046Z",
     "shell.execute_reply": "2021-09-03T00:18:57.411373Z"
    },
    "papermill": {
     "duration": 0.100054,
     "end_time": "2021-09-03T00:18:57.412195",
     "exception": false,
     "start_time": "2021-09-03T00:18:57.312141",
     "status": "completed"
    },
    "tags": []
   },
   "outputs": [],
   "source": [
    "X_train = X_train/255.\n",
    "X_test = X_test/255."
   ]
  },
  {
   "cell_type": "markdown",
   "id": "ddcf4fab",
   "metadata": {
    "papermill": {
     "duration": 0.036798,
     "end_time": "2021-09-03T00:18:57.489403",
     "exception": false,
     "start_time": "2021-09-03T00:18:57.452605",
     "status": "completed"
    },
    "tags": []
   },
   "source": [
    "And setup the labels as 1 (when the digit is 3) and 0 (when the digit is 8)"
   ]
  },
  {
   "cell_type": "code",
   "execution_count": 12,
   "id": "7dc908f2",
   "metadata": {
    "execution": {
     "iopub.execute_input": "2021-09-03T00:18:57.560037Z",
     "iopub.status.busy": "2021-09-03T00:18:57.559396Z",
     "iopub.status.idle": "2021-09-03T00:18:57.572154Z",
     "shell.execute_reply": "2021-09-03T00:18:57.572749Z"
    },
    "papermill": {
     "duration": 0.050259,
     "end_time": "2021-09-03T00:18:57.573142",
     "exception": false,
     "start_time": "2021-09-03T00:18:57.522883",
     "status": "completed"
    },
    "tags": []
   },
   "outputs": [],
   "source": [
    "y_train = 1*(y_train==3)\n",
    "y_test = 1*(y_test==3)"
   ]
  },
  {
   "cell_type": "code",
   "execution_count": 13,
   "id": "01e4e969",
   "metadata": {
    "execution": {
     "iopub.execute_input": "2021-09-03T00:18:57.642721Z",
     "iopub.status.busy": "2021-09-03T00:18:57.642049Z",
     "iopub.status.idle": "2021-09-03T00:18:57.656048Z",
     "shell.execute_reply": "2021-09-03T00:18:57.656572Z"
    },
    "papermill": {
     "duration": 0.050318,
     "end_time": "2021-09-03T00:18:57.656711",
     "exception": false,
     "start_time": "2021-09-03T00:18:57.606393",
     "status": "completed"
    },
    "tags": []
   },
   "outputs": [
    {
     "data": {
      "text/plain": [
       "((11982, 28, 28), (1984, 28, 28))"
      ]
     },
     "execution_count": 13,
     "metadata": {},
     "output_type": "execute_result"
    }
   ],
   "source": [
    "X_train.shape, X_test.shape"
   ]
  },
  {
   "cell_type": "markdown",
   "id": "5ccf3f85",
   "metadata": {
    "papermill": {
     "duration": 0.033186,
     "end_time": "2021-09-03T00:18:57.726142",
     "exception": false,
     "start_time": "2021-09-03T00:18:57.692956",
     "status": "completed"
    },
    "tags": []
   },
   "source": [
    "We reshape the data to flatten the image pixels into a set of features or co-variates:"
   ]
  },
  {
   "cell_type": "code",
   "execution_count": 14,
   "id": "5286a4a3",
   "metadata": {
    "execution": {
     "iopub.execute_input": "2021-09-03T00:18:57.803606Z",
     "iopub.status.busy": "2021-09-03T00:18:57.802964Z",
     "iopub.status.idle": "2021-09-03T00:18:57.816329Z",
     "shell.execute_reply": "2021-09-03T00:18:57.815812Z"
    },
    "papermill": {
     "duration": 0.0554,
     "end_time": "2021-09-03T00:18:57.816458",
     "exception": false,
     "start_time": "2021-09-03T00:18:57.761058",
     "status": "completed"
    },
    "tags": []
   },
   "outputs": [
    {
     "data": {
      "text/plain": [
       "((11982, 784), (1984, 784))"
      ]
     },
     "execution_count": 14,
     "metadata": {},
     "output_type": "execute_result"
    }
   ],
   "source": [
    "X_train = X_train.reshape(X_train.shape[0], -1)\n",
    "X_test = X_test.reshape(X_test.shape[0], -1)\n",
    "X_train.shape, X_test.shape"
   ]
  },
  {
   "cell_type": "code",
   "execution_count": 15,
   "id": "73c5f88a",
   "metadata": {
    "execution": {
     "iopub.execute_input": "2021-09-03T00:18:57.889387Z",
     "iopub.status.busy": "2021-09-03T00:18:57.888739Z",
     "iopub.status.idle": "2021-09-03T00:18:57.908863Z",
     "shell.execute_reply": "2021-09-03T00:18:57.909429Z"
    },
    "papermill": {
     "duration": 0.058839,
     "end_time": "2021-09-03T00:18:57.909574",
     "exception": false,
     "start_time": "2021-09-03T00:18:57.850735",
     "status": "completed"
    },
    "tags": []
   },
   "outputs": [],
   "source": [
    "#Impoting functions from 'Kudzu'\n",
    "from kudzu.model import Model\n",
    "from kudzu.train import Learner\n",
    "from kudzu.optim import GD\n",
    "from kudzu.data import Data, Sampler,Dataloader\n",
    "\n",
    "from kudzu.callbacks import AccCallback\n",
    "from kudzu.callbacks import ClfCallback\n",
    "\n",
    "from kudzu.loss import MSE\n",
    "\n",
    "from kudzu.layer import Sigmoid,Relu\n",
    "from kudzu.layer import Affine"
   ]
  },
  {
   "cell_type": "markdown",
   "id": "bc01172a",
   "metadata": {
    "papermill": {
     "duration": 0.035123,
     "end_time": "2021-09-03T00:18:57.980796",
     "exception": false,
     "start_time": "2021-09-03T00:18:57.945673",
     "status": "completed"
    },
    "tags": []
   },
   "source": [
    "### Let us create a `Config` class, to store important parameters. \n",
    "This class essentially plays the role of a dictionary."
   ]
  },
  {
   "cell_type": "code",
   "execution_count": 16,
   "id": "978281aa",
   "metadata": {
    "execution": {
     "iopub.execute_input": "2021-09-03T00:18:58.054397Z",
     "iopub.status.busy": "2021-09-03T00:18:58.053732Z",
     "iopub.status.idle": "2021-09-03T00:18:58.067089Z",
     "shell.execute_reply": "2021-09-03T00:18:58.066545Z"
    },
    "papermill": {
     "duration": 0.051909,
     "end_time": "2021-09-03T00:18:58.067215",
     "exception": false,
     "start_time": "2021-09-03T00:18:58.015306",
     "status": "completed"
    },
    "tags": []
   },
   "outputs": [],
   "source": [
    "class Config:\n",
    "    pass\n",
    "config = Config()\n",
    "config.lr = 0.001\n",
    "config.num_epochs = 250\n",
    "config.bs = 50"
   ]
  },
  {
   "cell_type": "markdown",
   "id": "1385fa59",
   "metadata": {
    "papermill": {
     "duration": 0.034756,
     "end_time": "2021-09-03T00:18:58.137389",
     "exception": false,
     "start_time": "2021-09-03T00:18:58.102633",
     "status": "completed"
    },
    "tags": []
   },
   "source": [
    "### Running Models with the Training data\n",
    "Details about the network layers:\n",
    "- A first affine layer has 784 inputs and does 100 affine transforms. These are followed by a Relu\n",
    "- A second affine layer has 100 inputs from the 100 activations of the past layer, and does 100 affine transforms. These are followed by a Relu\n",
    "- A third affine layer has 100 activations and does 2 affine transformations to create an embedding for visualization. There is no non-linearity here.\n",
    "- A final \"logistic regression\" which has an affine transform from 2 inputs to 1 output, which is squeezed through a sigmoid.\n"
   ]
  },
  {
   "cell_type": "code",
   "execution_count": 17,
   "id": "2b9c66db",
   "metadata": {
    "execution": {
     "iopub.execute_input": "2021-09-03T00:18:58.212228Z",
     "iopub.status.busy": "2021-09-03T00:18:58.211591Z",
     "iopub.status.idle": "2021-09-03T00:18:58.224475Z",
     "shell.execute_reply": "2021-09-03T00:18:58.225068Z"
    },
    "papermill": {
     "duration": 0.05317,
     "end_time": "2021-09-03T00:18:58.225208",
     "exception": false,
     "start_time": "2021-09-03T00:18:58.172038",
     "status": "completed"
    },
    "tags": []
   },
   "outputs": [],
   "source": [
    "data = Data(X_train, y_train.reshape(-1,1))\n",
    "sampler = Sampler(data, config.bs, shuffle=True)\n",
    "\n",
    "dl = Dataloader(data, sampler)\n",
    "\n",
    "opt = GD(config.lr)\n",
    "loss = MSE()"
   ]
  },
  {
   "cell_type": "code",
   "execution_count": 18,
   "id": "b275e4c2",
   "metadata": {
    "execution": {
     "iopub.execute_input": "2021-09-03T00:18:58.302943Z",
     "iopub.status.busy": "2021-09-03T00:18:58.302292Z",
     "iopub.status.idle": "2021-09-03T00:18:58.314304Z",
     "shell.execute_reply": "2021-09-03T00:18:58.313694Z"
    },
    "papermill": {
     "duration": 0.054487,
     "end_time": "2021-09-03T00:18:58.314432",
     "exception": false,
     "start_time": "2021-09-03T00:18:58.259945",
     "status": "completed"
    },
    "tags": []
   },
   "outputs": [],
   "source": [
    "training_data_x = X_train\n",
    "testing_data_x = X_test\n",
    "training_data_y = y_train.reshape(-1,1)\n",
    "testing_data_y = y_test.reshape(-1,1)"
   ]
  },
  {
   "cell_type": "code",
   "execution_count": 19,
   "id": "76951160",
   "metadata": {
    "execution": {
     "iopub.execute_input": "2021-09-03T00:18:58.398606Z",
     "iopub.status.busy": "2021-09-03T00:18:58.397943Z",
     "iopub.status.idle": "2021-09-03T00:18:58.410225Z",
     "shell.execute_reply": "2021-09-03T00:18:58.410761Z"
    },
    "papermill": {
     "duration": 0.06134,
     "end_time": "2021-09-03T00:18:58.410913",
     "exception": false,
     "start_time": "2021-09-03T00:18:58.349573",
     "status": "completed"
    },
    "tags": []
   },
   "outputs": [
    {
     "name": "stdout",
     "output_type": "stream",
     "text": [
      "xavier\n",
      "xavier\n",
      "xavier\n",
      "xavier\n",
      "xavier\n"
     ]
    }
   ],
   "source": [
    "layers = [Affine(\"first\", 784, 100), Relu(\"first\"), Affine(\"second\", 100, 100), Relu(\"second\"), Affine(\"third\", 100, 2), Affine(\"last\", 2, 1), Sigmoid(\"last\")]\n",
    "model_nn = Model(layers)\n",
    "model_lr = Model([Affine(\"logits\", 784, 1), Sigmoid(\"sigmoid\")])"
   ]
  },
  {
   "cell_type": "code",
   "execution_count": 20,
   "id": "6eede77a",
   "metadata": {
    "execution": {
     "iopub.execute_input": "2021-09-03T00:18:58.501019Z",
     "iopub.status.busy": "2021-09-03T00:18:58.500370Z",
     "iopub.status.idle": "2021-09-03T00:18:58.512304Z",
     "shell.execute_reply": "2021-09-03T00:18:58.511757Z"
    },
    "papermill": {
     "duration": 0.064714,
     "end_time": "2021-09-03T00:18:58.512439",
     "exception": false,
     "start_time": "2021-09-03T00:18:58.447725",
     "status": "completed"
    },
    "tags": []
   },
   "outputs": [],
   "source": [
    "nn_learner = Learner(loss, model_nn, opt, config.num_epochs)\n",
    "acc_nn = ClfCallback(nn_learner, config.bs, training_data_x , testing_data_x, training_data_y, testing_data_y)\n",
    "nn_learner.set_callbacks([acc_nn])"
   ]
  },
  {
   "cell_type": "code",
   "execution_count": 21,
   "id": "877b6cc7",
   "metadata": {
    "execution": {
     "iopub.execute_input": "2021-09-03T00:18:58.592288Z",
     "iopub.status.busy": "2021-09-03T00:18:58.591653Z",
     "iopub.status.idle": "2021-09-03T00:18:58.603524Z",
     "shell.execute_reply": "2021-09-03T00:18:58.604078Z"
    },
    "papermill": {
     "duration": 0.056484,
     "end_time": "2021-09-03T00:18:58.604239",
     "exception": false,
     "start_time": "2021-09-03T00:18:58.547755",
     "status": "completed"
    },
    "tags": []
   },
   "outputs": [],
   "source": [
    "lr_learner = Learner(loss, model_lr, opt, config.num_epochs)\n",
    "acc_lr = ClfCallback(lr_learner, config.bs, training_data_x , testing_data_x, training_data_y, testing_data_y)\n",
    "lr_learner.set_callbacks([acc_lr])"
   ]
  },
  {
   "cell_type": "code",
   "execution_count": 22,
   "id": "d9b133c3",
   "metadata": {
    "execution": {
     "iopub.execute_input": "2021-09-03T00:18:58.694761Z",
     "iopub.status.busy": "2021-09-03T00:18:58.694073Z",
     "iopub.status.idle": "2021-09-03T00:21:05.012208Z",
     "shell.execute_reply": "2021-09-03T00:21:05.013037Z"
    },
    "papermill": {
     "duration": 126.374665,
     "end_time": "2021-09-03T00:21:05.013202",
     "exception": false,
     "start_time": "2021-09-03T00:18:58.638537",
     "status": "completed"
    },
    "tags": []
   },
   "outputs": [
    {
     "name": "stdout",
     "output_type": "stream",
     "text": [
      "Epoch 0, Loss 0.2368\n",
      "Training Accuracy: 0.6344, Testing Accuracy: 0.6285\n",
      "\n"
     ]
    },
    {
     "name": "stdout",
     "output_type": "stream",
     "text": [
      "Epoch 10, Loss 0.1309\n",
      "Training Accuracy: 0.9047, Testing Accuracy: 0.9123\n",
      "\n"
     ]
    },
    {
     "name": "stdout",
     "output_type": "stream",
     "text": [
      "Epoch 20, Loss 0.0682\n",
      "Training Accuracy: 0.9345, Testing Accuracy: 0.9435\n",
      "\n"
     ]
    },
    {
     "name": "stdout",
     "output_type": "stream",
     "text": [
      "Epoch 30, Loss 0.0494\n",
      "Training Accuracy: 0.9477, Testing Accuracy: 0.9551\n",
      "\n"
     ]
    },
    {
     "name": "stdout",
     "output_type": "stream",
     "text": [
      "Epoch 40, Loss 0.0411\n",
      "Training Accuracy: 0.9553, Testing Accuracy: 0.9597\n",
      "\n"
     ]
    },
    {
     "name": "stdout",
     "output_type": "stream",
     "text": [
      "Epoch 50, Loss 0.0367\n",
      "Training Accuracy: 0.9580, Testing Accuracy: 0.9622\n",
      "\n"
     ]
    },
    {
     "name": "stdout",
     "output_type": "stream",
     "text": [
      "Epoch 60, Loss 0.0339\n",
      "Training Accuracy: 0.9604, Testing Accuracy: 0.9647\n",
      "\n"
     ]
    },
    {
     "name": "stdout",
     "output_type": "stream",
     "text": [
      "Epoch 70, Loss 0.0319\n",
      "Training Accuracy: 0.9633, Testing Accuracy: 0.9662\n",
      "\n"
     ]
    },
    {
     "name": "stdout",
     "output_type": "stream",
     "text": [
      "Epoch 80, Loss 0.0304\n",
      "Training Accuracy: 0.9649, Testing Accuracy: 0.9652\n",
      "\n"
     ]
    },
    {
     "name": "stdout",
     "output_type": "stream",
     "text": [
      "Epoch 90, Loss 0.0292\n",
      "Training Accuracy: 0.9659, Testing Accuracy: 0.9667\n",
      "\n"
     ]
    },
    {
     "name": "stdout",
     "output_type": "stream",
     "text": [
      "Epoch 100, Loss 0.0282\n",
      "Training Accuracy: 0.9663, Testing Accuracy: 0.9667\n",
      "\n"
     ]
    },
    {
     "name": "stdout",
     "output_type": "stream",
     "text": [
      "Epoch 110, Loss 0.0273\n",
      "Training Accuracy: 0.9670, Testing Accuracy: 0.9667\n",
      "\n"
     ]
    },
    {
     "name": "stdout",
     "output_type": "stream",
     "text": [
      "Epoch 120, Loss 0.0265\n",
      "Training Accuracy: 0.9678, Testing Accuracy: 0.9672\n",
      "\n"
     ]
    },
    {
     "name": "stdout",
     "output_type": "stream",
     "text": [
      "Epoch 130, Loss 0.0259\n",
      "Training Accuracy: 0.9690, Testing Accuracy: 0.9672\n",
      "\n"
     ]
    },
    {
     "name": "stdout",
     "output_type": "stream",
     "text": [
      "Epoch 140, Loss 0.0252\n",
      "Training Accuracy: 0.9693, Testing Accuracy: 0.9677\n",
      "\n"
     ]
    },
    {
     "name": "stdout",
     "output_type": "stream",
     "text": [
      "Epoch 150, Loss 0.0247\n",
      "Training Accuracy: 0.9700, Testing Accuracy: 0.9677\n",
      "\n"
     ]
    },
    {
     "name": "stdout",
     "output_type": "stream",
     "text": [
      "Epoch 160, Loss 0.0241\n",
      "Training Accuracy: 0.9711, Testing Accuracy: 0.9677\n",
      "\n"
     ]
    },
    {
     "name": "stdout",
     "output_type": "stream",
     "text": [
      "Epoch 170, Loss 0.0237\n",
      "Training Accuracy: 0.9720, Testing Accuracy: 0.9682\n",
      "\n"
     ]
    },
    {
     "name": "stdout",
     "output_type": "stream",
     "text": [
      "Epoch 180, Loss 0.0232\n",
      "Training Accuracy: 0.9727, Testing Accuracy: 0.9688\n",
      "\n"
     ]
    },
    {
     "name": "stdout",
     "output_type": "stream",
     "text": [
      "Epoch 190, Loss 0.0228\n",
      "Training Accuracy: 0.9732, Testing Accuracy: 0.9693\n",
      "\n"
     ]
    },
    {
     "name": "stdout",
     "output_type": "stream",
     "text": [
      "Epoch 200, Loss 0.0223\n",
      "Training Accuracy: 0.9740, Testing Accuracy: 0.9703\n",
      "\n"
     ]
    },
    {
     "name": "stdout",
     "output_type": "stream",
     "text": [
      "Epoch 210, Loss 0.0219\n",
      "Training Accuracy: 0.9743, Testing Accuracy: 0.9713\n",
      "\n"
     ]
    },
    {
     "name": "stdout",
     "output_type": "stream",
     "text": [
      "Epoch 220, Loss 0.0216\n",
      "Training Accuracy: 0.9748, Testing Accuracy: 0.9713\n",
      "\n"
     ]
    },
    {
     "name": "stdout",
     "output_type": "stream",
     "text": [
      "Epoch 230, Loss 0.0212\n",
      "Training Accuracy: 0.9751, Testing Accuracy: 0.9718\n",
      "\n"
     ]
    },
    {
     "name": "stdout",
     "output_type": "stream",
     "text": [
      "Epoch 240, Loss 0.0208\n",
      "Training Accuracy: 0.9762, Testing Accuracy: 0.9718\n",
      "\n"
     ]
    },
    {
     "data": {
      "text/plain": [
       "0.01730457419095753"
      ]
     },
     "execution_count": 22,
     "metadata": {},
     "output_type": "execute_result"
    }
   ],
   "source": [
    "nn_learner.train_loop(dl)"
   ]
  },
  {
   "cell_type": "code",
   "execution_count": 23,
   "id": "e0163366",
   "metadata": {
    "execution": {
     "iopub.execute_input": "2021-09-03T00:21:05.105879Z",
     "iopub.status.busy": "2021-09-03T00:21:05.105248Z",
     "iopub.status.idle": "2021-09-03T00:21:23.371752Z",
     "shell.execute_reply": "2021-09-03T00:21:23.372257Z"
    },
    "papermill": {
     "duration": 18.315262,
     "end_time": "2021-09-03T00:21:23.372422",
     "exception": false,
     "start_time": "2021-09-03T00:21:05.057160",
     "status": "completed"
    },
    "tags": []
   },
   "outputs": [
    {
     "name": "stdout",
     "output_type": "stream",
     "text": [
      "Epoch 0, Loss 0.2316\n",
      "Training Accuracy: 0.7268, Testing Accuracy: 0.7676\n",
      "\n"
     ]
    },
    {
     "name": "stdout",
     "output_type": "stream",
     "text": [
      "Epoch 10, Loss 0.0976\n",
      "Training Accuracy: 0.9236, Testing Accuracy: 0.9340\n",
      "\n"
     ]
    },
    {
     "name": "stdout",
     "output_type": "stream",
     "text": [
      "Epoch 20, Loss 0.0759\n",
      "Training Accuracy: 0.9352, Testing Accuracy: 0.9441\n",
      "\n"
     ]
    },
    {
     "name": "stdout",
     "output_type": "stream",
     "text": [
      "Epoch 30, Loss 0.0658\n",
      "Training Accuracy: 0.9402, Testing Accuracy: 0.9511\n",
      "\n"
     ]
    },
    {
     "name": "stdout",
     "output_type": "stream",
     "text": [
      "Epoch 40, Loss 0.0598\n",
      "Training Accuracy: 0.9447, Testing Accuracy: 0.9536\n",
      "\n"
     ]
    },
    {
     "name": "stdout",
     "output_type": "stream",
     "text": [
      "Epoch 50, Loss 0.0556\n",
      "Training Accuracy: 0.9478, Testing Accuracy: 0.9567\n",
      "\n"
     ]
    },
    {
     "name": "stdout",
     "output_type": "stream",
     "text": [
      "Epoch 60, Loss 0.0526\n",
      "Training Accuracy: 0.9500, Testing Accuracy: 0.9592\n",
      "\n"
     ]
    },
    {
     "name": "stdout",
     "output_type": "stream",
     "text": [
      "Epoch 70, Loss 0.0502\n",
      "Training Accuracy: 0.9525, Testing Accuracy: 0.9612\n",
      "\n"
     ]
    },
    {
     "name": "stdout",
     "output_type": "stream",
     "text": [
      "Epoch 80, Loss 0.0483\n",
      "Training Accuracy: 0.9532, Testing Accuracy: 0.9607\n",
      "\n"
     ]
    },
    {
     "name": "stdout",
     "output_type": "stream",
     "text": [
      "Epoch 90, Loss 0.0467\n",
      "Training Accuracy: 0.9541, Testing Accuracy: 0.9622\n",
      "\n"
     ]
    },
    {
     "name": "stdout",
     "output_type": "stream",
     "text": [
      "Epoch 100, Loss 0.0454\n",
      "Training Accuracy: 0.9550, Testing Accuracy: 0.9622\n",
      "\n"
     ]
    },
    {
     "name": "stdout",
     "output_type": "stream",
     "text": [
      "Epoch 110, Loss 0.0442\n",
      "Training Accuracy: 0.9557, Testing Accuracy: 0.9627\n",
      "\n"
     ]
    },
    {
     "name": "stdout",
     "output_type": "stream",
     "text": [
      "Epoch 120, Loss 0.0432\n",
      "Training Accuracy: 0.9560, Testing Accuracy: 0.9632\n",
      "\n"
     ]
    },
    {
     "name": "stdout",
     "output_type": "stream",
     "text": [
      "Epoch 130, Loss 0.0423\n",
      "Training Accuracy: 0.9565, Testing Accuracy: 0.9632\n",
      "\n"
     ]
    },
    {
     "name": "stdout",
     "output_type": "stream",
     "text": [
      "Epoch 140, Loss 0.0415\n",
      "Training Accuracy: 0.9574, Testing Accuracy: 0.9632\n",
      "\n"
     ]
    },
    {
     "name": "stdout",
     "output_type": "stream",
     "text": [
      "Epoch 150, Loss 0.0408\n",
      "Training Accuracy: 0.9579, Testing Accuracy: 0.9637\n",
      "\n"
     ]
    },
    {
     "name": "stdout",
     "output_type": "stream",
     "text": [
      "Epoch 160, Loss 0.0402\n",
      "Training Accuracy: 0.9582, Testing Accuracy: 0.9637\n",
      "\n"
     ]
    },
    {
     "name": "stdout",
     "output_type": "stream",
     "text": [
      "Epoch 170, Loss 0.0396\n",
      "Training Accuracy: 0.9585, Testing Accuracy: 0.9647\n",
      "\n"
     ]
    },
    {
     "name": "stdout",
     "output_type": "stream",
     "text": [
      "Epoch 180, Loss 0.0391\n",
      "Training Accuracy: 0.9589, Testing Accuracy: 0.9647\n",
      "\n"
     ]
    },
    {
     "name": "stdout",
     "output_type": "stream",
     "text": [
      "Epoch 190, Loss 0.0386\n",
      "Training Accuracy: 0.9593, Testing Accuracy: 0.9652\n",
      "\n"
     ]
    },
    {
     "name": "stdout",
     "output_type": "stream",
     "text": [
      "Epoch 200, Loss 0.0381\n",
      "Training Accuracy: 0.9596, Testing Accuracy: 0.9657\n",
      "\n"
     ]
    },
    {
     "name": "stdout",
     "output_type": "stream",
     "text": [
      "Epoch 210, Loss 0.0377\n",
      "Training Accuracy: 0.9600, Testing Accuracy: 0.9657\n",
      "\n"
     ]
    },
    {
     "name": "stdout",
     "output_type": "stream",
     "text": [
      "Epoch 220, Loss 0.0373\n",
      "Training Accuracy: 0.9604, Testing Accuracy: 0.9662\n",
      "\n"
     ]
    },
    {
     "name": "stdout",
     "output_type": "stream",
     "text": [
      "Epoch 230, Loss 0.0369\n",
      "Training Accuracy: 0.9606, Testing Accuracy: 0.9662\n",
      "\n"
     ]
    },
    {
     "name": "stdout",
     "output_type": "stream",
     "text": [
      "Epoch 240, Loss 0.0366\n",
      "Training Accuracy: 0.9608, Testing Accuracy: 0.9662\n",
      "\n"
     ]
    },
    {
     "data": {
      "text/plain": [
       "0.028927587426447722"
      ]
     },
     "execution_count": 23,
     "metadata": {},
     "output_type": "execute_result"
    }
   ],
   "source": [
    "lr_learner.train_loop(dl)"
   ]
  },
  {
   "cell_type": "code",
   "execution_count": 24,
   "id": "ca410940",
   "metadata": {
    "execution": {
     "iopub.execute_input": "2021-09-03T00:21:23.491610Z",
     "iopub.status.busy": "2021-09-03T00:21:23.490945Z",
     "iopub.status.idle": "2021-09-03T00:21:23.790017Z",
     "shell.execute_reply": "2021-09-03T00:21:23.789475Z"
    },
    "papermill": {
     "duration": 0.363261,
     "end_time": "2021-09-03T00:21:23.790163",
     "exception": false,
     "start_time": "2021-09-03T00:21:23.426902",
     "status": "completed"
    },
    "tags": []
   },
   "outputs": [
    {
     "data": {
      "text/plain": [
       "<matplotlib.legend.Legend at 0x7f4731d35eb8>"
      ]
     },
     "execution_count": 24,
     "metadata": {},
     "output_type": "execute_result"
    },
    {
     "data": {
      "image/png": "[encoded data removed]",
      "text/plain": [
       "<Figure size 1080x720 with 1 Axes>"
      ]
     },
     "metadata": {
      "needs_background": "light"
     },
     "output_type": "display_data"
    }
   ],
   "source": [
    "#comparing the results of NN and LR\n",
    "plt.figure(figsize=(15,10))\n",
    "\n",
    "# Neural Network plots\n",
    "plt.plot(acc_nn.accuracies, 'r-', label = \"Training Accuracies - NN\")\n",
    "plt.plot(acc_nn.test_accuracies, 'g-', label = \"Testing Accuracies - NN\")\n",
    "\n",
    "# Logistic Regression plots\n",
    "plt.plot(acc_lr.accuracies, 'k-', label = \"Training Accuracies - LR\")\n",
    "plt.plot(acc_lr.test_accuracies, 'b-', label = \"Testing Accuracies - LR\")\n",
    "plt.legend()"
   ]
  },
  {
   "cell_type": "markdown",
   "id": "80dfb35c",
   "metadata": {
    "papermill": {
     "duration": 0.053483,
     "end_time": "2021-09-03T00:21:23.898687",
     "exception": false,
     "start_time": "2021-09-03T00:21:23.845204",
     "status": "completed"
    },
    "tags": []
   },
   "source": [
    "#### Plotting the outputs of this layer of the NN.\n"
   ]
  },
  {
   "cell_type": "code",
   "execution_count": 25,
   "id": "45eb2ff5",
   "metadata": {
    "execution": {
     "iopub.execute_input": "2021-09-03T00:21:24.035960Z",
     "iopub.status.busy": "2021-09-03T00:21:24.035274Z",
     "iopub.status.idle": "2021-09-03T00:21:24.042217Z",
     "shell.execute_reply": "2021-09-03T00:21:24.042846Z"
    },
    "papermill": {
     "duration": 0.088991,
     "end_time": "2021-09-03T00:21:24.043011",
     "exception": false,
     "start_time": "2021-09-03T00:21:23.954020",
     "status": "completed"
    },
    "tags": []
   },
   "outputs": [],
   "source": [
    "new_model = Model(layers[:-2])\n",
    "testing_plot = new_model(testing_data_x)"
   ]
  },
  {
   "cell_type": "code",
   "execution_count": 26,
   "id": "4c0a5485",
   "metadata": {
    "execution": {
     "iopub.execute_input": "2021-09-03T00:21:24.167487Z",
     "iopub.status.busy": "2021-09-03T00:21:24.166834Z",
     "iopub.status.idle": "2021-09-03T00:21:24.422063Z",
     "shell.execute_reply": "2021-09-03T00:21:24.422698Z"
    },
    "papermill": {
     "duration": 0.320033,
     "end_time": "2021-09-03T00:21:24.422871",
     "exception": false,
     "start_time": "2021-09-03T00:21:24.102838",
     "status": "completed"
    },
    "tags": []
   },
   "outputs": [
    {
     "data": {
      "text/plain": [
       "Text(0.5, 1.0, 'Outputs')"
      ]
     },
     "execution_count": 26,
     "metadata": {},
     "output_type": "execute_result"
    },
    {
     "data": {
      "image/png": "[encoded data removed]",
      "text/plain": [
       "<Figure size 576x504 with 1 Axes>"
      ]
     },
     "metadata": {
      "needs_background": "light"
     },
     "output_type": "display_data"
    }
   ],
   "source": [
    "# Plotting the scatter plot of points and color coding by class\n",
    "plt.figure(figsize=(8,7))\n",
    "plt.scatter(testing_plot[:,0], testing_plot[:,1], alpha = 0.1, c = y_test.ravel());\n",
    "plt.title('Outputs')"
   ]
  },
  {
   "cell_type": "markdown",
   "id": "a74fcf8f",
   "metadata": {
    "papermill": {
     "duration": 0.055784,
     "end_time": "2021-09-03T00:21:24.534755",
     "exception": false,
     "start_time": "2021-09-03T00:21:24.478971",
     "status": "completed"
    },
    "tags": []
   },
   "source": [
    "Probability contours"
   ]
  },
  {
   "cell_type": "code",
   "execution_count": 27,
   "id": "d0afc8e3",
   "metadata": {
    "execution": {
     "iopub.execute_input": "2021-09-03T00:21:24.652235Z",
     "iopub.status.busy": "2021-09-03T00:21:24.651596Z",
     "iopub.status.idle": "2021-09-03T00:21:24.664048Z",
     "shell.execute_reply": "2021-09-03T00:21:24.664643Z"
    },
    "papermill": {
     "duration": 0.073619,
     "end_time": "2021-09-03T00:21:24.664792",
     "exception": false,
     "start_time": "2021-09-03T00:21:24.591173",
     "status": "completed"
    },
    "tags": []
   },
   "outputs": [],
   "source": [
    "model_prob = Model(layers[-2:]) "
   ]
  },
  {
   "cell_type": "code",
   "execution_count": 28,
   "id": "9b96e238",
   "metadata": {
    "execution": {
     "iopub.execute_input": "2021-09-03T00:21:24.804109Z",
     "iopub.status.busy": "2021-09-03T00:21:24.803458Z",
     "iopub.status.idle": "2021-09-03T00:21:24.819438Z",
     "shell.execute_reply": "2021-09-03T00:21:24.819937Z"
    },
    "papermill": {
     "duration": 0.100115,
     "end_time": "2021-09-03T00:21:24.820091",
     "exception": false,
     "start_time": "2021-09-03T00:21:24.719976",
     "status": "completed"
    },
    "tags": []
   },
   "outputs": [],
   "source": [
    "#creating the x and y ranges according to the above generated plot.\n",
    "x_range = np.linspace(-4, 1, 100) \n",
    "y_range = np.linspace(-6, 6, 100) \n",
    "x_grid, y_grid = np.meshgrid(x_range, y_range) # x_grid and y_grig are of size 100 X 100\n",
    "\n",
    "# converting x_grid and y_grid to continuous arrays\n",
    "x_gridflat = np.ravel(x_grid)\n",
    "y_gridflat = np.ravel(y_grid)\n",
    "\n",
    "# The last layer of the current model takes two columns as input. Hence transpose of np.vstack() is required.\n",
    "X = np.vstack((x_gridflat, y_gridflat)).T\n",
    "\n",
    "prob_contour = model_prob(X).reshape(100,100) "
   ]
  },
  {
   "cell_type": "code",
   "execution_count": 29,
   "id": "da72499a",
   "metadata": {
    "execution": {
     "iopub.execute_input": "2021-09-03T00:21:24.955556Z",
     "iopub.status.busy": "2021-09-03T00:21:24.954909Z",
     "iopub.status.idle": "2021-09-03T00:21:25.271880Z",
     "shell.execute_reply": "2021-09-03T00:21:25.272414Z"
    },
    "papermill": {
     "duration": 0.387872,
     "end_time": "2021-09-03T00:21:25.272580",
     "exception": false,
     "start_time": "2021-09-03T00:21:24.884708",
     "status": "completed"
    },
    "tags": []
   },
   "outputs": [
    {
     "data": {
      "image/png": "[encoded data removed]",
      "text/plain": [
       "<Figure size 720x648 with 1 Axes>"
      ]
     },
     "metadata": {
      "needs_background": "light"
     },
     "output_type": "display_data"
    }
   ],
   "source": [
    "plt.figure(figsize=(10,9))\n",
    "plt.scatter(testing_plot[:,0], testing_plot[:,1], alpha = 0.1, c = y_test.ravel())\n",
    "contours = plt.contour(x_grid,y_grid,prob_contour)\n",
    "plt.title('Probability Contours')\n",
    "plt.clabel(contours, inline = True );"
   ]
  },
  {
   "cell_type": "code",
   "execution_count": null,
   "id": "e81b4ac7",
   "metadata": {
    "papermill": {
     "duration": 0.058972,
     "end_time": "2021-09-03T00:21:25.389958",
     "exception": false,
     "start_time": "2021-09-03T00:21:25.330986",
     "status": "completed"
    },
    "tags": []
   },
   "outputs": [],
   "source": []
  }
 ],
 "metadata": {
  "kernelspec": {
   "display_name": "Python 3",
   "language": "python",
   "name": "python3"
  },
  "language_info": {
   "codemirror_mode": {
    "name": "ipython",
    "version": 3
   },
   "file_extension": ".py",
   "mimetype": "text/x-python",
   "name": "python",
   "nbconvert_exporter": "python",
   "pygments_lexer": "ipython3",
   "version": "3.6.14"
  },
  "papermill": {
   "default_parameters": {},
   "duration": 155.636828,
   "end_time": "2021-09-03T00:21:25.859049",
   "environment_variables": {},
   "exception": null,
   "input_path": "2020-08-11-part2.ipynb",
   "output_path": "2020-08-11-part2.ipynb",
   "parameters": {},
   "start_time": "2021-09-03T00:18:50.222221",
   "version": "2.3.3"
  }
 },
 "nbformat": 4,
 "nbformat_minor": 5
}