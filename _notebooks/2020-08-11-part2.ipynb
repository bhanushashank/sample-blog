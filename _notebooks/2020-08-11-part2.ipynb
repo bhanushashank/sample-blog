{
 "cells": [
  {
   "cell_type": "markdown",
   "id": "98380cd3",
   "metadata": {
    "papermill": {
     "duration": 0.028537,
     "end_time": "2022-05-12T00:37:00.486064",
     "exception": false,
     "start_time": "2022-05-12T00:37:00.457527",
     "status": "completed"
    },
    "tags": []
   },
   "source": [
    "# Distinguish Your Own Digits (DYOD)"
   ]
  },
  {
   "cell_type": "markdown",
   "id": "ef31240d",
   "metadata": {
    "papermill": {
     "duration": 0.025693,
     "end_time": "2022-05-12T00:37:00.536847",
     "exception": false,
     "start_time": "2022-05-12T00:37:00.511154",
     "status": "completed"
    },
    "tags": []
   },
   "source": [
    "You are going to write a classifier that distinguishes between the number 3 and number 8."
   ]
  },
  {
   "cell_type": "code",
   "execution_count": 1,
   "id": "b15c8646",
   "metadata": {
    "execution": {
     "iopub.execute_input": "2022-05-12T00:37:00.595634Z",
     "iopub.status.busy": "2022-05-12T00:37:00.595110Z",
     "iopub.status.idle": "2022-05-12T00:37:00.604836Z",
     "shell.execute_reply": "2022-05-12T00:37:00.605202Z"
    },
    "papermill": {
     "duration": 0.043951,
     "end_time": "2022-05-12T00:37:00.605330",
     "exception": false,
     "start_time": "2022-05-12T00:37:00.561379",
     "status": "completed"
    },
    "tags": []
   },
   "outputs": [],
   "source": [
    "%load_ext autoreload\n",
    "%autoreload 2"
   ]
  },
  {
   "cell_type": "code",
   "execution_count": 2,
   "id": "22ef38dc",
   "metadata": {
    "execution": {
     "iopub.execute_input": "2022-05-12T00:37:00.657657Z",
     "iopub.status.busy": "2022-05-12T00:37:00.657166Z",
     "iopub.status.idle": "2022-05-12T00:37:01.156474Z",
     "shell.execute_reply": "2022-05-12T00:37:01.155707Z"
    },
    "papermill": {
     "duration": 0.526759,
     "end_time": "2022-05-12T00:37:01.156600",
     "exception": false,
     "start_time": "2022-05-12T00:37:00.629841",
     "status": "completed"
    },
    "tags": []
   },
   "outputs": [],
   "source": [
    "%matplotlib inline\n",
    "import numpy as np\n",
    "import matplotlib.pyplot as plt\n",
    "import pandas as pd"
   ]
  },
  {
   "cell_type": "markdown",
   "id": "ba036198",
   "metadata": {
    "papermill": {
     "duration": 0.024685,
     "end_time": "2022-05-12T00:37:01.206846",
     "exception": false,
     "start_time": "2022-05-12T00:37:01.182161",
     "status": "completed"
    },
    "tags": []
   },
   "source": [
    "From the command line run `pip install mnist`. This is a library that will help you bring down the mnist dataset. If you run this from a notebook, you need to put  `!pip install mnist` in a cell by itself."
   ]
  },
  {
   "cell_type": "code",
   "execution_count": 3,
   "id": "bb6ad8a1",
   "metadata": {
    "execution": {
     "iopub.execute_input": "2022-05-12T00:37:01.260307Z",
     "iopub.status.busy": "2022-05-12T00:37:01.259813Z",
     "iopub.status.idle": "2022-05-12T00:37:02.998496Z",
     "shell.execute_reply": "2022-05-12T00:37:02.998930Z"
    },
    "papermill": {
     "duration": 1.767605,
     "end_time": "2022-05-12T00:37:02.999059",
     "exception": false,
     "start_time": "2022-05-12T00:37:01.231454",
     "status": "completed"
    },
    "tags": []
   },
   "outputs": [
    {
     "name": "stdout",
     "output_type": "stream",
     "text": [
      "Collecting mnist\r\n"
     ]
    },
    {
     "name": "stdout",
     "output_type": "stream",
     "text": [
      "  Downloading mnist-0.2.2-py2.py3-none-any.whl (3.5 kB)\r\n",
      "Requirement already satisfied: numpy in /opt/hostedtoolcache/Python/3.6.15/x64/lib/python3.6/site-packages (from mnist) (1.19.5)\r\n"
     ]
    },
    {
     "name": "stdout",
     "output_type": "stream",
     "text": [
      "Installing collected packages: mnist\r\n"
     ]
    },
    {
     "name": "stdout",
     "output_type": "stream",
     "text": [
      "Successfully installed mnist-0.2.2\r\n"
     ]
    }
   ],
   "source": [
    "!pip install mnist"
   ]
  },
  {
   "cell_type": "markdown",
   "id": "69df9c9a",
   "metadata": {
    "papermill": {
     "duration": 0.025641,
     "end_time": "2022-05-12T00:37:03.050743",
     "exception": false,
     "start_time": "2022-05-12T00:37:03.025102",
     "status": "completed"
    },
    "tags": []
   },
   "source": [
    "## Preparing the Data"
   ]
  },
  {
   "cell_type": "code",
   "execution_count": 4,
   "id": "7f69d806",
   "metadata": {
    "execution": {
     "iopub.execute_input": "2022-05-12T00:37:03.105366Z",
     "iopub.status.busy": "2022-05-12T00:37:03.104878Z",
     "iopub.status.idle": "2022-05-12T00:37:03.118401Z",
     "shell.execute_reply": "2022-05-12T00:37:03.118008Z"
    },
    "papermill": {
     "duration": 0.042186,
     "end_time": "2022-05-12T00:37:03.118500",
     "exception": false,
     "start_time": "2022-05-12T00:37:03.076314",
     "status": "completed"
    },
    "tags": []
   },
   "outputs": [],
   "source": [
    "import mnist"
   ]
  },
  {
   "cell_type": "code",
   "execution_count": 5,
   "id": "a411e44f",
   "metadata": {
    "execution": {
     "iopub.execute_input": "2022-05-12T00:37:03.173158Z",
     "iopub.status.busy": "2022-05-12T00:37:03.172655Z",
     "iopub.status.idle": "2022-05-12T00:37:03.931492Z",
     "shell.execute_reply": "2022-05-12T00:37:03.931036Z"
    },
    "papermill": {
     "duration": 0.787357,
     "end_time": "2022-05-12T00:37:03.931627",
     "exception": false,
     "start_time": "2022-05-12T00:37:03.144270",
     "status": "completed"
    },
    "tags": []
   },
   "outputs": [],
   "source": [
    "train_images = mnist.train_images()\n",
    "train_labels = mnist.train_labels()"
   ]
  },
  {
   "cell_type": "code",
   "execution_count": 6,
   "id": "dceab3a5",
   "metadata": {
    "execution": {
     "iopub.execute_input": "2022-05-12T00:37:03.988255Z",
     "iopub.status.busy": "2022-05-12T00:37:03.987307Z",
     "iopub.status.idle": "2022-05-12T00:37:04.000161Z",
     "shell.execute_reply": "2022-05-12T00:37:04.000618Z"
    },
    "papermill": {
     "duration": 0.043213,
     "end_time": "2022-05-12T00:37:04.000733",
     "exception": false,
     "start_time": "2022-05-12T00:37:03.957520",
     "status": "completed"
    },
    "tags": []
   },
   "outputs": [
    {
     "data": {
      "text/plain": [
       "((60000, 28, 28), (60000,))"
      ]
     },
     "execution_count": 6,
     "metadata": {},
     "output_type": "execute_result"
    }
   ],
   "source": [
    "train_images.shape, train_labels.shape"
   ]
  },
  {
   "cell_type": "code",
   "execution_count": 7,
   "id": "f50dc2bb",
   "metadata": {
    "execution": {
     "iopub.execute_input": "2022-05-12T00:37:04.056424Z",
     "iopub.status.busy": "2022-05-12T00:37:04.055918Z",
     "iopub.status.idle": "2022-05-12T00:37:04.415658Z",
     "shell.execute_reply": "2022-05-12T00:37:04.415203Z"
    },
    "papermill": {
     "duration": 0.389029,
     "end_time": "2022-05-12T00:37:04.415774",
     "exception": false,
     "start_time": "2022-05-12T00:37:04.026745",
     "status": "completed"
    },
    "tags": []
   },
   "outputs": [],
   "source": [
    "test_images = mnist.test_images()\n",
    "test_labels = mnist.test_labels()"
   ]
  },
  {
   "cell_type": "code",
   "execution_count": 8,
   "id": "fc38cf1b",
   "metadata": {
    "execution": {
     "iopub.execute_input": "2022-05-12T00:37:04.473536Z",
     "iopub.status.busy": "2022-05-12T00:37:04.473040Z",
     "iopub.status.idle": "2022-05-12T00:37:04.485633Z",
     "shell.execute_reply": "2022-05-12T00:37:04.485219Z"
    },
    "papermill": {
     "duration": 0.043552,
     "end_time": "2022-05-12T00:37:04.485735",
     "exception": false,
     "start_time": "2022-05-12T00:37:04.442183",
     "status": "completed"
    },
    "tags": []
   },
   "outputs": [
    {
     "data": {
      "text/plain": [
       "((10000, 28, 28), (10000,))"
      ]
     },
     "execution_count": 8,
     "metadata": {},
     "output_type": "execute_result"
    }
   ],
   "source": [
    "test_images.shape, test_labels.shape"
   ]
  },
  {
   "cell_type": "code",
   "execution_count": 9,
   "id": "f9ed8fe0",
   "metadata": {
    "execution": {
     "iopub.execute_input": "2022-05-12T00:37:04.542065Z",
     "iopub.status.busy": "2022-05-12T00:37:04.541559Z",
     "iopub.status.idle": "2022-05-12T00:37:04.675287Z",
     "shell.execute_reply": "2022-05-12T00:37:04.675715Z"
    },
    "papermill": {
     "duration": 0.163593,
     "end_time": "2022-05-12T00:37:04.675844",
     "exception": false,
     "start_time": "2022-05-12T00:37:04.512251",
     "status": "completed"
    },
    "tags": []
   },
   "outputs": [
    {
     "name": "stdout",
     "output_type": "stream",
     "text": [
      "2\n"
     ]
    },
    {
     "data": {
      "text/plain": [
       "<matplotlib.image.AxesImage at 0x7fd5378c0518>"
      ]
     },
     "execution_count": 9,
     "metadata": {},
     "output_type": "execute_result"
    },
    {
     "data": {
      "image/png": "[encoded data removed]",
      "text/plain": [
       "<Figure size 432x288 with 1 Axes>"
      ]
     },
     "metadata": {
      "needs_background": "light"
     },
     "output_type": "display_data"
    }
   ],
   "source": [
    "image_index = 7776 # You may select anything up to 60,000\n",
    "print(train_labels[image_index]) \n",
    "plt.imshow(train_images[image_index], cmap='Greys')"
   ]
  },
  {
   "cell_type": "markdown",
   "id": "a8d2388d",
   "metadata": {
    "papermill": {
     "duration": 0.027488,
     "end_time": "2022-05-12T00:37:04.731052",
     "exception": false,
     "start_time": "2022-05-12T00:37:04.703564",
     "status": "completed"
    },
    "tags": []
   },
   "source": [
    "## Filter data to get 3 and 8 out"
   ]
  },
  {
   "cell_type": "code",
   "execution_count": 10,
   "id": "776f7fc7",
   "metadata": {
    "execution": {
     "iopub.execute_input": "2022-05-12T00:37:04.790989Z",
     "iopub.status.busy": "2022-05-12T00:37:04.790471Z",
     "iopub.status.idle": "2022-05-12T00:37:04.807597Z",
     "shell.execute_reply": "2022-05-12T00:37:04.807176Z"
    },
    "papermill": {
     "duration": 0.048619,
     "end_time": "2022-05-12T00:37:04.807708",
     "exception": false,
     "start_time": "2022-05-12T00:37:04.759089",
     "status": "completed"
    },
    "tags": []
   },
   "outputs": [],
   "source": [
    "train_filter = np.where((train_labels == 3 ) | (train_labels == 8))\n",
    "test_filter = np.where((test_labels == 3) | (test_labels == 8))\n",
    "X_train, y_train = train_images[train_filter], train_labels[train_filter]\n",
    "X_test, y_test = test_images[test_filter], test_labels[test_filter]"
   ]
  },
  {
   "cell_type": "markdown",
   "id": "948f0b7e",
   "metadata": {
    "papermill": {
     "duration": 0.027355,
     "end_time": "2022-05-12T00:37:04.863130",
     "exception": false,
     "start_time": "2022-05-12T00:37:04.835775",
     "status": "completed"
    },
    "tags": []
   },
   "source": [
    "We normalize the pizel values in the 0 to 1 range"
   ]
  },
  {
   "cell_type": "code",
   "execution_count": 11,
   "id": "ee4c2166",
   "metadata": {
    "execution": {
     "iopub.execute_input": "2022-05-12T00:37:04.921838Z",
     "iopub.status.busy": "2022-05-12T00:37:04.921349Z",
     "iopub.status.idle": "2022-05-12T00:37:04.961250Z",
     "shell.execute_reply": "2022-05-12T00:37:04.960830Z"
    },
    "papermill": {
     "duration": 0.070737,
     "end_time": "2022-05-12T00:37:04.961361",
     "exception": false,
     "start_time": "2022-05-12T00:37:04.890624",
     "status": "completed"
    },
    "tags": []
   },
   "outputs": [],
   "source": [
    "X_train = X_train/255.\n",
    "X_test = X_test/255."
   ]
  },
  {
   "cell_type": "markdown",
   "id": "ddcf4fab",
   "metadata": {
    "papermill": {
     "duration": 0.027491,
     "end_time": "2022-05-12T00:37:05.016619",
     "exception": false,
     "start_time": "2022-05-12T00:37:04.989128",
     "status": "completed"
    },
    "tags": []
   },
   "source": [
    "And setup the labels as 1 (when the digit is 3) and 0 (when the digit is 8)"
   ]
  },
  {
   "cell_type": "code",
   "execution_count": 12,
   "id": "7dc908f2",
   "metadata": {
    "execution": {
     "iopub.execute_input": "2022-05-12T00:37:05.075148Z",
     "iopub.status.busy": "2022-05-12T00:37:05.074642Z",
     "iopub.status.idle": "2022-05-12T00:37:05.086421Z",
     "shell.execute_reply": "2022-05-12T00:37:05.086024Z"
    },
    "papermill": {
     "duration": 0.042489,
     "end_time": "2022-05-12T00:37:05.086527",
     "exception": false,
     "start_time": "2022-05-12T00:37:05.044038",
     "status": "completed"
    },
    "tags": []
   },
   "outputs": [],
   "source": [
    "y_train = 1*(y_train==3)\n",
    "y_test = 1*(y_test==3)"
   ]
  },
  {
   "cell_type": "code",
   "execution_count": 13,
   "id": "01e4e969",
   "metadata": {
    "execution": {
     "iopub.execute_input": "2022-05-12T00:37:05.145287Z",
     "iopub.status.busy": "2022-05-12T00:37:05.144774Z",
     "iopub.status.idle": "2022-05-12T00:37:05.157417Z",
     "shell.execute_reply": "2022-05-12T00:37:05.157010Z"
    },
    "papermill": {
     "duration": 0.043342,
     "end_time": "2022-05-12T00:37:05.157525",
     "exception": false,
     "start_time": "2022-05-12T00:37:05.114183",
     "status": "completed"
    },
    "tags": []
   },
   "outputs": [
    {
     "data": {
      "text/plain": [
       "((11982, 28, 28), (1984, 28, 28))"
      ]
     },
     "execution_count": 13,
     "metadata": {},
     "output_type": "execute_result"
    }
   ],
   "source": [
    "X_train.shape, X_test.shape"
   ]
  },
  {
   "cell_type": "markdown",
   "id": "5ccf3f85",
   "metadata": {
    "papermill": {
     "duration": 0.027813,
     "end_time": "2022-05-12T00:37:05.213303",
     "exception": false,
     "start_time": "2022-05-12T00:37:05.185490",
     "status": "completed"
    },
    "tags": []
   },
   "source": [
    "We reshape the data to flatten the image pixels into a set of features or co-variates:"
   ]
  },
  {
   "cell_type": "code",
   "execution_count": 14,
   "id": "5286a4a3",
   "metadata": {
    "execution": {
     "iopub.execute_input": "2022-05-12T00:37:05.273644Z",
     "iopub.status.busy": "2022-05-12T00:37:05.273126Z",
     "iopub.status.idle": "2022-05-12T00:37:05.287420Z",
     "shell.execute_reply": "2022-05-12T00:37:05.287010Z"
    },
    "papermill": {
     "duration": 0.04621,
     "end_time": "2022-05-12T00:37:05.287543",
     "exception": false,
     "start_time": "2022-05-12T00:37:05.241333",
     "status": "completed"
    },
    "tags": []
   },
   "outputs": [
    {
     "data": {
      "text/plain": [
       "((11982, 784), (1984, 784))"
      ]
     },
     "execution_count": 14,
     "metadata": {},
     "output_type": "execute_result"
    }
   ],
   "source": [
    "X_train = X_train.reshape(X_train.shape[0], -1)\n",
    "X_test = X_test.reshape(X_test.shape[0], -1)\n",
    "X_train.shape, X_test.shape"
   ]
  },
  {
   "cell_type": "code",
   "execution_count": 15,
   "id": "73c5f88a",
   "metadata": {
    "execution": {
     "iopub.execute_input": "2022-05-12T00:37:05.348186Z",
     "iopub.status.busy": "2022-05-12T00:37:05.347657Z",
     "iopub.status.idle": "2022-05-12T00:37:05.366165Z",
     "shell.execute_reply": "2022-05-12T00:37:05.365748Z"
    },
    "papermill": {
     "duration": 0.050484,
     "end_time": "2022-05-12T00:37:05.366277",
     "exception": false,
     "start_time": "2022-05-12T00:37:05.315793",
     "status": "completed"
    },
    "tags": []
   },
   "outputs": [],
   "source": [
    "#Impoting functions from 'Kudzu'\n",
    "from kudzu.model import Model\n",
    "from kudzu.train import Learner\n",
    "from kudzu.optim import GD\n",
    "from kudzu.data import Data, Sampler,Dataloader\n",
    "\n",
    "from kudzu.callbacks import AccCallback\n",
    "from kudzu.callbacks import ClfCallback\n",
    "\n",
    "from kudzu.loss import MSE\n",
    "\n",
    "from kudzu.layer import Sigmoid,Relu\n",
    "from kudzu.layer import Affine"
   ]
  },
  {
   "cell_type": "markdown",
   "id": "bc01172a",
   "metadata": {
    "papermill": {
     "duration": 0.028319,
     "end_time": "2022-05-12T00:37:05.423023",
     "exception": false,
     "start_time": "2022-05-12T00:37:05.394704",
     "status": "completed"
    },
    "tags": []
   },
   "source": [
    "### Let us create a `Config` class, to store important parameters. \n",
    "This class essentially plays the role of a dictionary."
   ]
  },
  {
   "cell_type": "code",
   "execution_count": 16,
   "id": "978281aa",
   "metadata": {
    "execution": {
     "iopub.execute_input": "2022-05-12T00:37:05.483140Z",
     "iopub.status.busy": "2022-05-12T00:37:05.482639Z",
     "iopub.status.idle": "2022-05-12T00:37:05.494519Z",
     "shell.execute_reply": "2022-05-12T00:37:05.494112Z"
    },
    "papermill": {
     "duration": 0.043528,
     "end_time": "2022-05-12T00:37:05.494626",
     "exception": false,
     "start_time": "2022-05-12T00:37:05.451098",
     "status": "completed"
    },
    "tags": []
   },
   "outputs": [],
   "source": [
    "class Config:\n",
    "    pass\n",
    "config = Config()\n",
    "config.lr = 0.001\n",
    "config.num_epochs = 250\n",
    "config.bs = 50"
   ]
  },
  {
   "cell_type": "markdown",
   "id": "1385fa59",
   "metadata": {
    "papermill": {
     "duration": 0.028003,
     "end_time": "2022-05-12T00:37:05.550914",
     "exception": false,
     "start_time": "2022-05-12T00:37:05.522911",
     "status": "completed"
    },
    "tags": []
   },
   "source": [
    "### Running Models with the Training data\n",
    "Details about the network layers:\n",
    "- A first affine layer has 784 inputs and does 100 affine transforms. These are followed by a Relu\n",
    "- A second affine layer has 100 inputs from the 100 activations of the past layer, and does 100 affine transforms. These are followed by a Relu\n",
    "- A third affine layer has 100 activations and does 2 affine transformations to create an embedding for visualization. There is no non-linearity here.\n",
    "- A final \"logistic regression\" which has an affine transform from 2 inputs to 1 output, which is squeezed through a sigmoid.\n"
   ]
  },
  {
   "cell_type": "code",
   "execution_count": 17,
   "id": "2b9c66db",
   "metadata": {
    "execution": {
     "iopub.execute_input": "2022-05-12T00:37:05.610878Z",
     "iopub.status.busy": "2022-05-12T00:37:05.610371Z",
     "iopub.status.idle": "2022-05-12T00:37:05.622318Z",
     "shell.execute_reply": "2022-05-12T00:37:05.621926Z"
    },
    "papermill": {
     "duration": 0.043367,
     "end_time": "2022-05-12T00:37:05.622420",
     "exception": false,
     "start_time": "2022-05-12T00:37:05.579053",
     "status": "completed"
    },
    "tags": []
   },
   "outputs": [],
   "source": [
    "data = Data(X_train, y_train.reshape(-1,1))\n",
    "sampler = Sampler(data, config.bs, shuffle=True)\n",
    "\n",
    "dl = Dataloader(data, sampler)\n",
    "\n",
    "opt = GD(config.lr)\n",
    "loss = MSE()"
   ]
  },
  {
   "cell_type": "code",
   "execution_count": 18,
   "id": "b275e4c2",
   "metadata": {
    "execution": {
     "iopub.execute_input": "2022-05-12T00:37:05.682427Z",
     "iopub.status.busy": "2022-05-12T00:37:05.681926Z",
     "iopub.status.idle": "2022-05-12T00:37:05.693537Z",
     "shell.execute_reply": "2022-05-12T00:37:05.693128Z"
    },
    "papermill": {
     "duration": 0.042977,
     "end_time": "2022-05-12T00:37:05.693646",
     "exception": false,
     "start_time": "2022-05-12T00:37:05.650669",
     "status": "completed"
    },
    "tags": []
   },
   "outputs": [],
   "source": [
    "training_data_x = X_train\n",
    "testing_data_x = X_test\n",
    "training_data_y = y_train.reshape(-1,1)\n",
    "testing_data_y = y_test.reshape(-1,1)"
   ]
  },
  {
   "cell_type": "code",
   "execution_count": 19,
   "id": "76951160",
   "metadata": {
    "execution": {
     "iopub.execute_input": "2022-05-12T00:37:05.754353Z",
     "iopub.status.busy": "2022-05-12T00:37:05.753470Z",
     "iopub.status.idle": "2022-05-12T00:37:05.769909Z",
     "shell.execute_reply": "2022-05-12T00:37:05.770283Z"
    },
    "papermill": {
     "duration": 0.048655,
     "end_time": "2022-05-12T00:37:05.770410",
     "exception": false,
     "start_time": "2022-05-12T00:37:05.721755",
     "status": "completed"
    },
    "tags": []
   },
   "outputs": [
    {
     "name": "stdout",
     "output_type": "stream",
     "text": [
      "xavier\n",
      "xavier\n",
      "xavier\n",
      "xavier\n",
      "xavier\n"
     ]
    }
   ],
   "source": [
    "layers = [Affine(\"first\", 784, 100), Relu(\"first\"), Affine(\"second\", 100, 100), Relu(\"second\"), Affine(\"third\", 100, 2), Affine(\"last\", 2, 1), Sigmoid(\"last\")]\n",
    "model_nn = Model(layers)\n",
    "model_lr = Model([Affine(\"logits\", 784, 1), Sigmoid(\"sigmoid\")])"
   ]
  },
  {
   "cell_type": "code",
   "execution_count": 20,
   "id": "6eede77a",
   "metadata": {
    "execution": {
     "iopub.execute_input": "2022-05-12T00:37:05.830841Z",
     "iopub.status.busy": "2022-05-12T00:37:05.830339Z",
     "iopub.status.idle": "2022-05-12T00:37:05.843350Z",
     "shell.execute_reply": "2022-05-12T00:37:05.842909Z"
    },
    "papermill": {
     "duration": 0.044582,
     "end_time": "2022-05-12T00:37:05.843456",
     "exception": false,
     "start_time": "2022-05-12T00:37:05.798874",
     "status": "completed"
    },
    "tags": []
   },
   "outputs": [],
   "source": [
    "nn_learner = Learner(loss, model_nn, opt, config.num_epochs)\n",
    "acc_nn = ClfCallback(nn_learner, config.bs, training_data_x , testing_data_x, training_data_y, testing_data_y)\n",
    "nn_learner.set_callbacks([acc_nn])"
   ]
  },
  {
   "cell_type": "code",
   "execution_count": 21,
   "id": "877b6cc7",
   "metadata": {
    "execution": {
     "iopub.execute_input": "2022-05-12T00:37:05.904280Z",
     "iopub.status.busy": "2022-05-12T00:37:05.903778Z",
     "iopub.status.idle": "2022-05-12T00:37:05.914953Z",
     "shell.execute_reply": "2022-05-12T00:37:05.914560Z"
    },
    "papermill": {
     "duration": 0.043221,
     "end_time": "2022-05-12T00:37:05.915056",
     "exception": false,
     "start_time": "2022-05-12T00:37:05.871835",
     "status": "completed"
    },
    "tags": []
   },
   "outputs": [],
   "source": [
    "lr_learner = Learner(loss, model_lr, opt, config.num_epochs)\n",
    "acc_lr = ClfCallback(lr_learner, config.bs, training_data_x , testing_data_x, training_data_y, testing_data_y)\n",
    "lr_learner.set_callbacks([acc_lr])"
   ]
  },
  {
   "cell_type": "code",
   "execution_count": 22,
   "id": "d9b133c3",
   "metadata": {
    "execution": {
     "iopub.execute_input": "2022-05-12T00:37:05.974586Z",
     "iopub.status.busy": "2022-05-12T00:37:05.974106Z",
     "iopub.status.idle": "2022-05-12T00:40:00.809714Z",
     "shell.execute_reply": "2022-05-12T00:40:00.810119Z"
    },
    "papermill": {
     "duration": 174.866809,
     "end_time": "2022-05-12T00:40:00.810240",
     "exception": false,
     "start_time": "2022-05-12T00:37:05.943431",
     "status": "completed"
    },
    "tags": []
   },
   "outputs": [
    {
     "name": "stdout",
     "output_type": "stream",
     "text": [
      "Epoch 0, Loss 0.2262\n",
      "Training Accuracy: 0.7347, Testing Accuracy: 0.7545\n",
      "\n"
     ]
    },
    {
     "name": "stdout",
     "output_type": "stream",
     "text": [
      "Epoch 10, Loss 0.0784\n",
      "Training Accuracy: 0.9185, Testing Accuracy: 0.9304\n",
      "\n"
     ]
    },
    {
     "name": "stdout",
     "output_type": "stream",
     "text": [
      "Epoch 20, Loss 0.0527\n",
      "Training Accuracy: 0.9420, Testing Accuracy: 0.9516\n",
      "\n"
     ]
    },
    {
     "name": "stdout",
     "output_type": "stream",
     "text": [
      "Epoch 30, Loss 0.043\n",
      "Training Accuracy: 0.9493, Testing Accuracy: 0.9607\n",
      "\n"
     ]
    },
    {
     "name": "stdout",
     "output_type": "stream",
     "text": [
      "Epoch 40, Loss 0.0378\n",
      "Training Accuracy: 0.9560, Testing Accuracy: 0.9662\n",
      "\n"
     ]
    },
    {
     "name": "stdout",
     "output_type": "stream",
     "text": [
      "Epoch 50, Loss 0.0344\n",
      "Training Accuracy: 0.9594, Testing Accuracy: 0.9688\n",
      "\n"
     ]
    },
    {
     "name": "stdout",
     "output_type": "stream",
     "text": [
      "Epoch 60, Loss 0.032\n",
      "Training Accuracy: 0.9614, Testing Accuracy: 0.9698\n",
      "\n"
     ]
    },
    {
     "name": "stdout",
     "output_type": "stream",
     "text": [
      "Epoch 70, Loss 0.0301\n",
      "Training Accuracy: 0.9639, Testing Accuracy: 0.9708\n",
      "\n"
     ]
    },
    {
     "name": "stdout",
     "output_type": "stream",
     "text": [
      "Epoch 80, Loss 0.0286\n",
      "Training Accuracy: 0.9659, Testing Accuracy: 0.9713\n",
      "\n"
     ]
    },
    {
     "name": "stdout",
     "output_type": "stream",
     "text": [
      "Epoch 90, Loss 0.0273\n",
      "Training Accuracy: 0.9676, Testing Accuracy: 0.9723\n",
      "\n"
     ]
    },
    {
     "name": "stdout",
     "output_type": "stream",
     "text": [
      "Epoch 100, Loss 0.0262\n",
      "Training Accuracy: 0.9693, Testing Accuracy: 0.9733\n",
      "\n"
     ]
    },
    {
     "name": "stdout",
     "output_type": "stream",
     "text": [
      "Epoch 110, Loss 0.0253\n",
      "Training Accuracy: 0.9709, Testing Accuracy: 0.9723\n",
      "\n"
     ]
    },
    {
     "name": "stdout",
     "output_type": "stream",
     "text": [
      "Epoch 120, Loss 0.0244\n",
      "Training Accuracy: 0.9717, Testing Accuracy: 0.9713\n",
      "\n"
     ]
    },
    {
     "name": "stdout",
     "output_type": "stream",
     "text": [
      "Epoch 130, Loss 0.0237\n",
      "Training Accuracy: 0.9728, Testing Accuracy: 0.9733\n",
      "\n"
     ]
    },
    {
     "name": "stdout",
     "output_type": "stream",
     "text": [
      "Epoch 140, Loss 0.023\n",
      "Training Accuracy: 0.9735, Testing Accuracy: 0.9738\n",
      "\n"
     ]
    },
    {
     "name": "stdout",
     "output_type": "stream",
     "text": [
      "Epoch 150, Loss 0.0223\n",
      "Training Accuracy: 0.9747, Testing Accuracy: 0.9733\n",
      "\n"
     ]
    },
    {
     "name": "stdout",
     "output_type": "stream",
     "text": [
      "Epoch 160, Loss 0.0217\n",
      "Training Accuracy: 0.9754, Testing Accuracy: 0.9743\n",
      "\n"
     ]
    },
    {
     "name": "stdout",
     "output_type": "stream",
     "text": [
      "Epoch 170, Loss 0.0212\n",
      "Training Accuracy: 0.9760, Testing Accuracy: 0.9748\n",
      "\n"
     ]
    },
    {
     "name": "stdout",
     "output_type": "stream",
     "text": [
      "Epoch 180, Loss 0.0206\n",
      "Training Accuracy: 0.9767, Testing Accuracy: 0.9743\n",
      "\n"
     ]
    },
    {
     "name": "stdout",
     "output_type": "stream",
     "text": [
      "Epoch 190, Loss 0.0201\n",
      "Training Accuracy: 0.9776, Testing Accuracy: 0.9743\n",
      "\n"
     ]
    },
    {
     "name": "stdout",
     "output_type": "stream",
     "text": [
      "Epoch 200, Loss 0.0196\n",
      "Training Accuracy: 0.9782, Testing Accuracy: 0.9743\n",
      "\n"
     ]
    },
    {
     "name": "stdout",
     "output_type": "stream",
     "text": [
      "Epoch 210, Loss 0.0192\n",
      "Training Accuracy: 0.9788, Testing Accuracy: 0.9743\n",
      "\n"
     ]
    },
    {
     "name": "stdout",
     "output_type": "stream",
     "text": [
      "Epoch 220, Loss 0.0188\n",
      "Training Accuracy: 0.9789, Testing Accuracy: 0.9743\n",
      "\n"
     ]
    },
    {
     "name": "stdout",
     "output_type": "stream",
     "text": [
      "Epoch 230, Loss 0.0183\n",
      "Training Accuracy: 0.9791, Testing Accuracy: 0.9743\n",
      "\n"
     ]
    },
    {
     "name": "stdout",
     "output_type": "stream",
     "text": [
      "Epoch 240, Loss 0.0179\n",
      "Training Accuracy: 0.9797, Testing Accuracy: 0.9738\n",
      "\n"
     ]
    },
    {
     "data": {
      "text/plain": [
       "0.04467941726316725"
      ]
     },
     "execution_count": 22,
     "metadata": {},
     "output_type": "execute_result"
    }
   ],
   "source": [
    "nn_learner.train_loop(dl)"
   ]
  },
  {
   "cell_type": "code",
   "execution_count": 23,
   "id": "e0163366",
   "metadata": {
    "execution": {
     "iopub.execute_input": "2022-05-12T00:40:00.883671Z",
     "iopub.status.busy": "2022-05-12T00:40:00.883151Z",
     "iopub.status.idle": "2022-05-12T00:40:13.257949Z",
     "shell.execute_reply": "2022-05-12T00:40:13.258626Z"
    },
    "papermill": {
     "duration": 12.413428,
     "end_time": "2022-05-12T00:40:13.258760",
     "exception": false,
     "start_time": "2022-05-12T00:40:00.845332",
     "status": "completed"
    },
    "tags": []
   },
   "outputs": [
    {
     "name": "stdout",
     "output_type": "stream",
     "text": [
      "Epoch 0, Loss 0.2116\n",
      "Training Accuracy: 0.7931, Testing Accuracy: 0.7974\n",
      "\n"
     ]
    },
    {
     "name": "stdout",
     "output_type": "stream",
     "text": [
      "Epoch 10, Loss 0.1001\n",
      "Training Accuracy: 0.9104, Testing Accuracy: 0.9204\n",
      "\n"
     ]
    },
    {
     "name": "stdout",
     "output_type": "stream",
     "text": [
      "Epoch 20, Loss 0.0786\n",
      "Training Accuracy: 0.9271, Testing Accuracy: 0.9395\n",
      "\n"
     ]
    },
    {
     "name": "stdout",
     "output_type": "stream",
     "text": [
      "Epoch 30, Loss 0.0682\n",
      "Training Accuracy: 0.9345, Testing Accuracy: 0.9481\n",
      "\n"
     ]
    },
    {
     "name": "stdout",
     "output_type": "stream",
     "text": [
      "Epoch 40, Loss 0.0619\n",
      "Training Accuracy: 0.9400, Testing Accuracy: 0.9531\n",
      "\n"
     ]
    },
    {
     "name": "stdout",
     "output_type": "stream",
     "text": [
      "Epoch 50, Loss 0.0575\n",
      "Training Accuracy: 0.9437, Testing Accuracy: 0.9556\n",
      "\n"
     ]
    },
    {
     "name": "stdout",
     "output_type": "stream",
     "text": [
      "Epoch 60, Loss 0.0542\n",
      "Training Accuracy: 0.9467, Testing Accuracy: 0.9577\n",
      "\n"
     ]
    },
    {
     "name": "stdout",
     "output_type": "stream",
     "text": [
      "Epoch 70, Loss 0.0516\n",
      "Training Accuracy: 0.9486, Testing Accuracy: 0.9587\n",
      "\n"
     ]
    },
    {
     "name": "stdout",
     "output_type": "stream",
     "text": [
      "Epoch 80, Loss 0.0496\n",
      "Training Accuracy: 0.9507, Testing Accuracy: 0.9597\n",
      "\n"
     ]
    },
    {
     "name": "stdout",
     "output_type": "stream",
     "text": [
      "Epoch 90, Loss 0.0479\n",
      "Training Accuracy: 0.9515, Testing Accuracy: 0.9602\n",
      "\n"
     ]
    },
    {
     "name": "stdout",
     "output_type": "stream",
     "text": [
      "Epoch 100, Loss 0.0464\n",
      "Training Accuracy: 0.9528, Testing Accuracy: 0.9617\n",
      "\n"
     ]
    },
    {
     "name": "stdout",
     "output_type": "stream",
     "text": [
      "Epoch 110, Loss 0.0452\n",
      "Training Accuracy: 0.9536, Testing Accuracy: 0.9617\n",
      "\n"
     ]
    },
    {
     "name": "stdout",
     "output_type": "stream",
     "text": [
      "Epoch 120, Loss 0.0441\n",
      "Training Accuracy: 0.9541, Testing Accuracy: 0.9637\n",
      "\n"
     ]
    },
    {
     "name": "stdout",
     "output_type": "stream",
     "text": [
      "Epoch 130, Loss 0.0432\n",
      "Training Accuracy: 0.9549, Testing Accuracy: 0.9647\n",
      "\n"
     ]
    },
    {
     "name": "stdout",
     "output_type": "stream",
     "text": [
      "Epoch 140, Loss 0.0423\n",
      "Training Accuracy: 0.9551, Testing Accuracy: 0.9657\n",
      "\n"
     ]
    },
    {
     "name": "stdout",
     "output_type": "stream",
     "text": [
      "Epoch 150, Loss 0.0416\n",
      "Training Accuracy: 0.9556, Testing Accuracy: 0.9647\n",
      "\n"
     ]
    },
    {
     "name": "stdout",
     "output_type": "stream",
     "text": [
      "Epoch 160, Loss 0.0409\n",
      "Training Accuracy: 0.9564, Testing Accuracy: 0.9637\n",
      "\n"
     ]
    },
    {
     "name": "stdout",
     "output_type": "stream",
     "text": [
      "Epoch 170, Loss 0.0402\n",
      "Training Accuracy: 0.9569, Testing Accuracy: 0.9642\n",
      "\n"
     ]
    },
    {
     "name": "stdout",
     "output_type": "stream",
     "text": [
      "Epoch 180, Loss 0.0397\n",
      "Training Accuracy: 0.9573, Testing Accuracy: 0.9642\n",
      "\n"
     ]
    },
    {
     "name": "stdout",
     "output_type": "stream",
     "text": [
      "Epoch 190, Loss 0.0391\n",
      "Training Accuracy: 0.9579, Testing Accuracy: 0.9637\n",
      "\n"
     ]
    },
    {
     "name": "stdout",
     "output_type": "stream",
     "text": [
      "Epoch 200, Loss 0.0387\n",
      "Training Accuracy: 0.9586, Testing Accuracy: 0.9647\n",
      "\n"
     ]
    },
    {
     "name": "stdout",
     "output_type": "stream",
     "text": [
      "Epoch 210, Loss 0.0382\n",
      "Training Accuracy: 0.9590, Testing Accuracy: 0.9647\n",
      "\n"
     ]
    },
    {
     "name": "stdout",
     "output_type": "stream",
     "text": [
      "Epoch 220, Loss 0.0378\n",
      "Training Accuracy: 0.9593, Testing Accuracy: 0.9647\n",
      "\n"
     ]
    },
    {
     "name": "stdout",
     "output_type": "stream",
     "text": [
      "Epoch 230, Loss 0.0374\n",
      "Training Accuracy: 0.9598, Testing Accuracy: 0.9652\n",
      "\n"
     ]
    },
    {
     "name": "stdout",
     "output_type": "stream",
     "text": [
      "Epoch 240, Loss 0.037\n",
      "Training Accuracy: 0.9599, Testing Accuracy: 0.9657\n",
      "\n"
     ]
    },
    {
     "data": {
      "text/plain": [
       "0.05256111851862609"
      ]
     },
     "execution_count": 23,
     "metadata": {},
     "output_type": "execute_result"
    }
   ],
   "source": [
    "lr_learner.train_loop(dl)"
   ]
  },
  {
   "cell_type": "code",
   "execution_count": 24,
   "id": "ca410940",
   "metadata": {
    "execution": {
     "iopub.execute_input": "2022-05-12T00:40:13.352927Z",
     "iopub.status.busy": "2022-05-12T00:40:13.352417Z",
     "iopub.status.idle": "2022-05-12T00:40:13.573945Z",
     "shell.execute_reply": "2022-05-12T00:40:13.573516Z"
    },
    "papermill": {
     "duration": 0.272363,
     "end_time": "2022-05-12T00:40:13.574055",
     "exception": false,
     "start_time": "2022-05-12T00:40:13.301692",
     "status": "completed"
    },
    "tags": []
   },
   "outputs": [
    {
     "data": {
      "text/plain": [
       "<matplotlib.legend.Legend at 0x7fd53749fc88>"
      ]
     },
     "execution_count": 24,
     "metadata": {},
     "output_type": "execute_result"
    },
    {
     "data": {
      "image/png": "[encoded data removed]",
      "text/plain": [
       "<Figure size 1080x720 with 1 Axes>"
      ]
     },
     "metadata": {
      "needs_background": "light"
     },
     "output_type": "display_data"
    }
   ],
   "source": [
    "#comparing the results of NN and LR\n",
    "plt.figure(figsize=(15,10))\n",
    "\n",
    "# Neural Network plots\n",
    "plt.plot(acc_nn.accuracies, 'r-', label = \"Training Accuracies - NN\")\n",
    "plt.plot(acc_nn.test_accuracies, 'g-', label = \"Testing Accuracies - NN\")\n",
    "\n",
    "# Logistic Regression plots\n",
    "plt.plot(acc_lr.accuracies, 'k-', label = \"Training Accuracies - LR\")\n",
    "plt.plot(acc_lr.test_accuracies, 'b-', label = \"Testing Accuracies - LR\")\n",
    "plt.legend()"
   ]
  },
  {
   "cell_type": "markdown",
   "id": "80dfb35c",
   "metadata": {
    "papermill": {
     "duration": 0.044155,
     "end_time": "2022-05-12T00:40:13.662055",
     "exception": false,
     "start_time": "2022-05-12T00:40:13.617900",
     "status": "completed"
    },
    "tags": []
   },
   "source": [
    "#### Plotting the outputs of this layer of the NN.\n"
   ]
  },
  {
   "cell_type": "code",
   "execution_count": 25,
   "id": "45eb2ff5",
   "metadata": {
    "execution": {
     "iopub.execute_input": "2022-05-12T00:40:13.752912Z",
     "iopub.status.busy": "2022-05-12T00:40:13.752408Z",
     "iopub.status.idle": "2022-05-12T00:40:13.787337Z",
     "shell.execute_reply": "2022-05-12T00:40:13.787751Z"
    },
    "papermill": {
     "duration": 0.082161,
     "end_time": "2022-05-12T00:40:13.787876",
     "exception": false,
     "start_time": "2022-05-12T00:40:13.705715",
     "status": "completed"
    },
    "tags": []
   },
   "outputs": [],
   "source": [
    "new_model = Model(layers[:-2])\n",
    "testing_plot = new_model(testing_data_x)"
   ]
  },
  {
   "cell_type": "code",
   "execution_count": 26,
   "id": "4c0a5485",
   "metadata": {
    "execution": {
     "iopub.execute_input": "2022-05-12T00:40:13.883995Z",
     "iopub.status.busy": "2022-05-12T00:40:13.882621Z",
     "iopub.status.idle": "2022-05-12T00:40:14.072548Z",
     "shell.execute_reply": "2022-05-12T00:40:14.072129Z"
    },
    "papermill": {
     "duration": 0.240038,
     "end_time": "2022-05-12T00:40:14.072661",
     "exception": false,
     "start_time": "2022-05-12T00:40:13.832623",
     "status": "completed"
    },
    "tags": []
   },
   "outputs": [
    {
     "data": {
      "text/plain": [
       "Text(0.5, 1.0, 'Outputs')"
      ]
     },
     "execution_count": 26,
     "metadata": {},
     "output_type": "execute_result"
    },
    {
     "data": {
      "image/png": "[encoded data removed]",
      "text/plain": [
       "<Figure size 576x504 with 1 Axes>"
      ]
     },
     "metadata": {
      "needs_background": "light"
     },
     "output_type": "display_data"
    }
   ],
   "source": [
    "# Plotting the scatter plot of points and color coding by class\n",
    "plt.figure(figsize=(8,7))\n",
    "plt.scatter(testing_plot[:,0], testing_plot[:,1], alpha = 0.1, c = y_test.ravel());\n",
    "plt.title('Outputs')"
   ]
  },
  {
   "cell_type": "markdown",
   "id": "a74fcf8f",
   "metadata": {
    "papermill": {
     "duration": 0.069437,
     "end_time": "2022-05-12T00:40:14.188266",
     "exception": false,
     "start_time": "2022-05-12T00:40:14.118829",
     "status": "completed"
    },
    "tags": []
   },
   "source": [
    "Probability contours"
   ]
  },
  {
   "cell_type": "code",
   "execution_count": 27,
   "id": "d0afc8e3",
   "metadata": {
    "execution": {
     "iopub.execute_input": "2022-05-12T00:40:14.283804Z",
     "iopub.status.busy": "2022-05-12T00:40:14.283248Z",
     "iopub.status.idle": "2022-05-12T00:40:14.294356Z",
     "shell.execute_reply": "2022-05-12T00:40:14.294742Z"
    },
    "papermill": {
     "duration": 0.060588,
     "end_time": "2022-05-12T00:40:14.294865",
     "exception": false,
     "start_time": "2022-05-12T00:40:14.234277",
     "status": "completed"
    },
    "tags": []
   },
   "outputs": [],
   "source": [
    "model_prob = Model(layers[-2:]) "
   ]
  },
  {
   "cell_type": "code",
   "execution_count": 28,
   "id": "9b96e238",
   "metadata": {
    "execution": {
     "iopub.execute_input": "2022-05-12T00:40:14.391691Z",
     "iopub.status.busy": "2022-05-12T00:40:14.390734Z",
     "iopub.status.idle": "2022-05-12T00:40:14.404584Z",
     "shell.execute_reply": "2022-05-12T00:40:14.404996Z"
    },
    "papermill": {
     "duration": 0.064231,
     "end_time": "2022-05-12T00:40:14.405123",
     "exception": false,
     "start_time": "2022-05-12T00:40:14.340892",
     "status": "completed"
    },
    "tags": []
   },
   "outputs": [],
   "source": [
    "#creating the x and y ranges according to the above generated plot.\n",
    "x_range = np.linspace(-4, 1, 100) \n",
    "y_range = np.linspace(-6, 6, 100) \n",
    "x_grid, y_grid = np.meshgrid(x_range, y_range) # x_grid and y_grig are of size 100 X 100\n",
    "\n",
    "# converting x_grid and y_grid to continuous arrays\n",
    "x_gridflat = np.ravel(x_grid)\n",
    "y_gridflat = np.ravel(y_grid)\n",
    "\n",
    "# The last layer of the current model takes two columns as input. Hence transpose of np.vstack() is required.\n",
    "X = np.vstack((x_gridflat, y_gridflat)).T\n",
    "\n",
    "prob_contour = model_prob(X).reshape(100,100) "
   ]
  },
  {
   "cell_type": "code",
   "execution_count": 29,
   "id": "da72499a",
   "metadata": {
    "execution": {
     "iopub.execute_input": "2022-05-12T00:40:14.501075Z",
     "iopub.status.busy": "2022-05-12T00:40:14.500560Z",
     "iopub.status.idle": "2022-05-12T00:40:14.750245Z",
     "shell.execute_reply": "2022-05-12T00:40:14.749833Z"
    },
    "papermill": {
     "duration": 0.299016,
     "end_time": "2022-05-12T00:40:14.750357",
     "exception": false,
     "start_time": "2022-05-12T00:40:14.451341",
     "status": "completed"
    },
    "tags": []
   },
   "outputs": [
    {
     "data": {
      "image/png": "[encoded data removed]",
      "text/plain": [
       "<Figure size 720x648 with 1 Axes>"
      ]
     },
     "metadata": {
      "needs_background": "light"
     },
     "output_type": "display_data"
    }
   ],
   "source": [
    "plt.figure(figsize=(10,9))\n",
    "plt.scatter(testing_plot[:,0], testing_plot[:,1], alpha = 0.1, c = y_test.ravel())\n",
    "contours = plt.contour(x_grid,y_grid,prob_contour)\n",
    "plt.title('Probability Contours')\n",
    "plt.clabel(contours, inline = True );"
   ]
  },
  {
   "cell_type": "code",
   "execution_count": null,
   "id": "e81b4ac7",
   "metadata": {
    "papermill": {
     "duration": 0.048348,
     "end_time": "2022-05-12T00:40:14.847577",
     "exception": false,
     "start_time": "2022-05-12T00:40:14.799229",
     "status": "completed"
    },
    "tags": []
   },
   "outputs": [],
   "source": []
  }
 ],
 "metadata": {
  "kernelspec": {
   "display_name": "Python 3",
   "language": "python",
   "name": "python3"
  },
  "language_info": {
   "codemirror_mode": {
    "name": "ipython",
    "version": 3
   },
   "file_extension": ".py",
   "mimetype": "text/x-python",
   "name": "python",
   "nbconvert_exporter": "python",
   "pygments_lexer": "ipython3",
   "version": "3.6.15"
  },
  "papermill": {
   "default_parameters": {},
   "duration": 195.657738,
   "end_time": "2022-05-12T00:40:15.212908",
   "environment_variables": {},
   "exception": null,
   "input_path": "2020-08-11-part2.ipynb",
   "output_path": "2020-08-11-part2.ipynb",
   "parameters": {},
   "start_time": "2022-05-12T00:36:59.555170",
   "version": "2.3.3"
  }
 },
 "nbformat": 4,
 "nbformat_minor": 5
}