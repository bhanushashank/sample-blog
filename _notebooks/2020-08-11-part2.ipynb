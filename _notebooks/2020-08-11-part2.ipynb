{
 "cells": [
  {
   "cell_type": "markdown",
   "id": "98380cd3",
   "metadata": {
    "papermill": {
     "duration": 0.03539,
     "end_time": "2022-06-30T10:12:14.693321",
     "exception": false,
     "start_time": "2022-06-30T10:12:14.657931",
     "status": "completed"
    },
    "tags": []
   },
   "source": [
    "# Distinguish Your Own Digits (DYOD)"
   ]
  },
  {
   "cell_type": "markdown",
   "id": "ef31240d",
   "metadata": {
    "papermill": {
     "duration": 0.030931,
     "end_time": "2022-06-30T10:12:14.754503",
     "exception": false,
     "start_time": "2022-06-30T10:12:14.723572",
     "status": "completed"
    },
    "tags": []
   },
   "source": [
    "You are going to write a classifier that distinguishes between the number 3 and number 8."
   ]
  },
  {
   "cell_type": "code",
   "execution_count": 1,
   "id": "b15c8646",
   "metadata": {
    "execution": {
     "iopub.execute_input": "2022-06-30T10:12:14.826574Z",
     "iopub.status.busy": "2022-06-30T10:12:14.825767Z",
     "iopub.status.idle": "2022-06-30T10:12:14.838659Z",
     "shell.execute_reply": "2022-06-30T10:12:14.837793Z"
    },
    "papermill": {
     "duration": 0.05459,
     "end_time": "2022-06-30T10:12:14.838836",
     "exception": false,
     "start_time": "2022-06-30T10:12:14.784246",
     "status": "completed"
    },
    "tags": []
   },
   "outputs": [],
   "source": [
    "%load_ext autoreload\n",
    "%autoreload 2"
   ]
  },
  {
   "cell_type": "code",
   "execution_count": 2,
   "id": "22ef38dc",
   "metadata": {
    "execution": {
     "iopub.execute_input": "2022-06-30T10:12:14.904270Z",
     "iopub.status.busy": "2022-06-30T10:12:14.903499Z",
     "iopub.status.idle": "2022-06-30T10:12:15.559158Z",
     "shell.execute_reply": "2022-06-30T10:12:15.558421Z"
    },
    "papermill": {
     "duration": 0.691098,
     "end_time": "2022-06-30T10:12:15.559300",
     "exception": false,
     "start_time": "2022-06-30T10:12:14.868202",
     "status": "completed"
    },
    "tags": []
   },
   "outputs": [],
   "source": [
    "%matplotlib inline\n",
    "import numpy as np\n",
    "import matplotlib.pyplot as plt\n",
    "import pandas as pd"
   ]
  },
  {
   "cell_type": "markdown",
   "id": "ba036198",
   "metadata": {
    "papermill": {
     "duration": 0.031221,
     "end_time": "2022-06-30T10:12:15.622122",
     "exception": false,
     "start_time": "2022-06-30T10:12:15.590901",
     "status": "completed"
    },
    "tags": []
   },
   "source": [
    "From the command line run `pip install mnist`. This is a library that will help you bring down the mnist dataset. If you run this from a notebook, you need to put  `!pip install mnist` in a cell by itself."
   ]
  },
  {
   "cell_type": "code",
   "execution_count": 3,
   "id": "bb6ad8a1",
   "metadata": {
    "execution": {
     "iopub.execute_input": "2022-06-30T10:12:15.695458Z",
     "iopub.status.busy": "2022-06-30T10:12:15.694224Z",
     "iopub.status.idle": "2022-06-30T10:12:17.792665Z",
     "shell.execute_reply": "2022-06-30T10:12:17.791686Z"
    },
    "papermill": {
     "duration": 2.139567,
     "end_time": "2022-06-30T10:12:17.792834",
     "exception": false,
     "start_time": "2022-06-30T10:12:15.653267",
     "status": "completed"
    },
    "tags": []
   },
   "outputs": [
    {
     "name": "stdout",
     "output_type": "stream",
     "text": [
      "Collecting mnist\r\n"
     ]
    },
    {
     "name": "stdout",
     "output_type": "stream",
     "text": [
      "  Downloading mnist-0.2.2-py2.py3-none-any.whl (3.5 kB)\r\n"
     ]
    },
    {
     "name": "stdout",
     "output_type": "stream",
     "text": [
      "Requirement already satisfied: numpy in /opt/hostedtoolcache/Python/3.6.15/x64/lib/python3.6/site-packages (from mnist) (1.19.5)\r\n"
     ]
    },
    {
     "name": "stdout",
     "output_type": "stream",
     "text": [
      "Installing collected packages: mnist\r\n"
     ]
    },
    {
     "name": "stdout",
     "output_type": "stream",
     "text": [
      "Successfully installed mnist-0.2.2\r\n"
     ]
    }
   ],
   "source": [
    "!pip install mnist"
   ]
  },
  {
   "cell_type": "markdown",
   "id": "69df9c9a",
   "metadata": {
    "papermill": {
     "duration": 0.029196,
     "end_time": "2022-06-30T10:12:17.854104",
     "exception": false,
     "start_time": "2022-06-30T10:12:17.824908",
     "status": "completed"
    },
    "tags": []
   },
   "source": [
    "## Preparing the Data"
   ]
  },
  {
   "cell_type": "code",
   "execution_count": 4,
   "id": "7f69d806",
   "metadata": {
    "execution": {
     "iopub.execute_input": "2022-06-30T10:12:17.924581Z",
     "iopub.status.busy": "2022-06-30T10:12:17.922070Z",
     "iopub.status.idle": "2022-06-30T10:12:17.938134Z",
     "shell.execute_reply": "2022-06-30T10:12:17.937538Z"
    },
    "papermill": {
     "duration": 0.053798,
     "end_time": "2022-06-30T10:12:17.938298",
     "exception": false,
     "start_time": "2022-06-30T10:12:17.884500",
     "status": "completed"
    },
    "tags": []
   },
   "outputs": [],
   "source": [
    "import mnist"
   ]
  },
  {
   "cell_type": "code",
   "execution_count": 5,
   "id": "a411e44f",
   "metadata": {
    "execution": {
     "iopub.execute_input": "2022-06-30T10:12:18.004907Z",
     "iopub.status.busy": "2022-06-30T10:12:18.004117Z",
     "iopub.status.idle": "2022-06-30T10:12:18.839822Z",
     "shell.execute_reply": "2022-06-30T10:12:18.839140Z"
    },
    "papermill": {
     "duration": 0.872724,
     "end_time": "2022-06-30T10:12:18.839978",
     "exception": false,
     "start_time": "2022-06-30T10:12:17.967254",
     "status": "completed"
    },
    "tags": []
   },
   "outputs": [],
   "source": [
    "train_images = mnist.train_images()\n",
    "train_labels = mnist.train_labels()"
   ]
  },
  {
   "cell_type": "code",
   "execution_count": 6,
   "id": "dceab3a5",
   "metadata": {
    "execution": {
     "iopub.execute_input": "2022-06-30T10:12:18.911379Z",
     "iopub.status.busy": "2022-06-30T10:12:18.910667Z",
     "iopub.status.idle": "2022-06-30T10:12:18.930109Z",
     "shell.execute_reply": "2022-06-30T10:12:18.929513Z"
    },
    "papermill": {
     "duration": 0.055239,
     "end_time": "2022-06-30T10:12:18.930251",
     "exception": false,
     "start_time": "2022-06-30T10:12:18.875012",
     "status": "completed"
    },
    "tags": []
   },
   "outputs": [
    {
     "data": {
      "text/plain": [
       "((60000, 28, 28), (60000,))"
      ]
     },
     "execution_count": 6,
     "metadata": {},
     "output_type": "execute_result"
    }
   ],
   "source": [
    "train_images.shape, train_labels.shape"
   ]
  },
  {
   "cell_type": "code",
   "execution_count": 7,
   "id": "f50dc2bb",
   "metadata": {
    "execution": {
     "iopub.execute_input": "2022-06-30T10:12:19.001107Z",
     "iopub.status.busy": "2022-06-30T10:12:19.000330Z",
     "iopub.status.idle": "2022-06-30T10:12:19.187788Z",
     "shell.execute_reply": "2022-06-30T10:12:19.187092Z"
    },
    "papermill": {
     "duration": 0.22538,
     "end_time": "2022-06-30T10:12:19.187933",
     "exception": false,
     "start_time": "2022-06-30T10:12:18.962553",
     "status": "completed"
    },
    "tags": []
   },
   "outputs": [],
   "source": [
    "test_images = mnist.test_images()\n",
    "test_labels = mnist.test_labels()"
   ]
  },
  {
   "cell_type": "code",
   "execution_count": 8,
   "id": "fc38cf1b",
   "metadata": {
    "execution": {
     "iopub.execute_input": "2022-06-30T10:12:19.254316Z",
     "iopub.status.busy": "2022-06-30T10:12:19.253674Z",
     "iopub.status.idle": "2022-06-30T10:12:19.272159Z",
     "shell.execute_reply": "2022-06-30T10:12:19.271287Z"
    },
    "papermill": {
     "duration": 0.05316,
     "end_time": "2022-06-30T10:12:19.272295",
     "exception": false,
     "start_time": "2022-06-30T10:12:19.219135",
     "status": "completed"
    },
    "tags": []
   },
   "outputs": [
    {
     "data": {
      "text/plain": [
       "((10000, 28, 28), (10000,))"
      ]
     },
     "execution_count": 8,
     "metadata": {},
     "output_type": "execute_result"
    }
   ],
   "source": [
    "test_images.shape, test_labels.shape"
   ]
  },
  {
   "cell_type": "code",
   "execution_count": 9,
   "id": "f9ed8fe0",
   "metadata": {
    "execution": {
     "iopub.execute_input": "2022-06-30T10:12:19.344041Z",
     "iopub.status.busy": "2022-06-30T10:12:19.341716Z",
     "iopub.status.idle": "2022-06-30T10:12:19.539376Z",
     "shell.execute_reply": "2022-06-30T10:12:19.538753Z"
    },
    "papermill": {
     "duration": 0.23596,
     "end_time": "2022-06-30T10:12:19.539594",
     "exception": false,
     "start_time": "2022-06-30T10:12:19.303634",
     "status": "completed"
    },
    "tags": []
   },
   "outputs": [
    {
     "name": "stdout",
     "output_type": "stream",
     "text": [
      "2\n"
     ]
    },
    {
     "data": {
      "text/plain": [
       "<matplotlib.image.AxesImage at 0x7f3a5b555588>"
      ]
     },
     "execution_count": 9,
     "metadata": {},
     "output_type": "execute_result"
    },
    {
     "data": {
      "image/png": "[encoded data removed]",
      "text/plain": [
       "<Figure size 432x288 with 1 Axes>"
      ]
     },
     "metadata": {
      "needs_background": "light"
     },
     "output_type": "display_data"
    }
   ],
   "source": [
    "image_index = 7776 # You may select anything up to 60,000\n",
    "print(train_labels[image_index]) \n",
    "plt.imshow(train_images[image_index], cmap='Greys')"
   ]
  },
  {
   "cell_type": "markdown",
   "id": "a8d2388d",
   "metadata": {
    "papermill": {
     "duration": 0.033977,
     "end_time": "2022-06-30T10:12:19.609041",
     "exception": false,
     "start_time": "2022-06-30T10:12:19.575064",
     "status": "completed"
    },
    "tags": []
   },
   "source": [
    "## Filter data to get 3 and 8 out"
   ]
  },
  {
   "cell_type": "code",
   "execution_count": 10,
   "id": "776f7fc7",
   "metadata": {
    "execution": {
     "iopub.execute_input": "2022-06-30T10:12:19.684238Z",
     "iopub.status.busy": "2022-06-30T10:12:19.683445Z",
     "iopub.status.idle": "2022-06-30T10:12:19.706849Z",
     "shell.execute_reply": "2022-06-30T10:12:19.706170Z"
    },
    "papermill": {
     "duration": 0.062832,
     "end_time": "2022-06-30T10:12:19.707059",
     "exception": false,
     "start_time": "2022-06-30T10:12:19.644227",
     "status": "completed"
    },
    "tags": []
   },
   "outputs": [],
   "source": [
    "train_filter = np.where((train_labels == 3 ) | (train_labels == 8))\n",
    "test_filter = np.where((test_labels == 3) | (test_labels == 8))\n",
    "X_train, y_train = train_images[train_filter], train_labels[train_filter]\n",
    "X_test, y_test = test_images[test_filter], test_labels[test_filter]"
   ]
  },
  {
   "cell_type": "markdown",
   "id": "948f0b7e",
   "metadata": {
    "papermill": {
     "duration": 0.035396,
     "end_time": "2022-06-30T10:12:19.778197",
     "exception": false,
     "start_time": "2022-06-30T10:12:19.742801",
     "status": "completed"
    },
    "tags": []
   },
   "source": [
    "We normalize the pizel values in the 0 to 1 range"
   ]
  },
  {
   "cell_type": "code",
   "execution_count": 11,
   "id": "ee4c2166",
   "metadata": {
    "execution": {
     "iopub.execute_input": "2022-06-30T10:12:19.854501Z",
     "iopub.status.busy": "2022-06-30T10:12:19.853612Z",
     "iopub.status.idle": "2022-06-30T10:12:19.919537Z",
     "shell.execute_reply": "2022-06-30T10:12:19.918823Z"
    },
    "papermill": {
     "duration": 0.10724,
     "end_time": "2022-06-30T10:12:19.919692",
     "exception": false,
     "start_time": "2022-06-30T10:12:19.812452",
     "status": "completed"
    },
    "tags": []
   },
   "outputs": [],
   "source": [
    "X_train = X_train/255.\n",
    "X_test = X_test/255."
   ]
  },
  {
   "cell_type": "markdown",
   "id": "ddcf4fab",
   "metadata": {
    "papermill": {
     "duration": 0.033757,
     "end_time": "2022-06-30T10:12:19.987267",
     "exception": false,
     "start_time": "2022-06-30T10:12:19.953510",
     "status": "completed"
    },
    "tags": []
   },
   "source": [
    "And setup the labels as 1 (when the digit is 3) and 0 (when the digit is 8)"
   ]
  },
  {
   "cell_type": "code",
   "execution_count": 12,
   "id": "7dc908f2",
   "metadata": {
    "execution": {
     "iopub.execute_input": "2022-06-30T10:12:20.057165Z",
     "iopub.status.busy": "2022-06-30T10:12:20.056269Z",
     "iopub.status.idle": "2022-06-30T10:12:20.070209Z",
     "shell.execute_reply": "2022-06-30T10:12:20.070836Z"
    },
    "papermill": {
     "duration": 0.052915,
     "end_time": "2022-06-30T10:12:20.070993",
     "exception": false,
     "start_time": "2022-06-30T10:12:20.018078",
     "status": "completed"
    },
    "tags": []
   },
   "outputs": [],
   "source": [
    "y_train = 1*(y_train==3)\n",
    "y_test = 1*(y_test==3)"
   ]
  },
  {
   "cell_type": "code",
   "execution_count": 13,
   "id": "01e4e969",
   "metadata": {
    "execution": {
     "iopub.execute_input": "2022-06-30T10:12:20.142727Z",
     "iopub.status.busy": "2022-06-30T10:12:20.141999Z",
     "iopub.status.idle": "2022-06-30T10:12:20.157979Z",
     "shell.execute_reply": "2022-06-30T10:12:20.157082Z"
    },
    "papermill": {
     "duration": 0.054897,
     "end_time": "2022-06-30T10:12:20.158188",
     "exception": false,
     "start_time": "2022-06-30T10:12:20.103291",
     "status": "completed"
    },
    "tags": []
   },
   "outputs": [
    {
     "data": {
      "text/plain": [
       "((11982, 28, 28), (1984, 28, 28))"
      ]
     },
     "execution_count": 13,
     "metadata": {},
     "output_type": "execute_result"
    }
   ],
   "source": [
    "X_train.shape, X_test.shape"
   ]
  },
  {
   "cell_type": "markdown",
   "id": "5ccf3f85",
   "metadata": {
    "papermill": {
     "duration": 0.036328,
     "end_time": "2022-06-30T10:12:20.229993",
     "exception": false,
     "start_time": "2022-06-30T10:12:20.193665",
     "status": "completed"
    },
    "tags": []
   },
   "source": [
    "We reshape the data to flatten the image pixels into a set of features or co-variates:"
   ]
  },
  {
   "cell_type": "code",
   "execution_count": 14,
   "id": "5286a4a3",
   "metadata": {
    "execution": {
     "iopub.execute_input": "2022-06-30T10:12:20.307379Z",
     "iopub.status.busy": "2022-06-30T10:12:20.306581Z",
     "iopub.status.idle": "2022-06-30T10:12:20.323916Z",
     "shell.execute_reply": "2022-06-30T10:12:20.323249Z"
    },
    "papermill": {
     "duration": 0.058184,
     "end_time": "2022-06-30T10:12:20.324091",
     "exception": false,
     "start_time": "2022-06-30T10:12:20.265907",
     "status": "completed"
    },
    "tags": []
   },
   "outputs": [
    {
     "data": {
      "text/plain": [
       "((11982, 784), (1984, 784))"
      ]
     },
     "execution_count": 14,
     "metadata": {},
     "output_type": "execute_result"
    }
   ],
   "source": [
    "X_train = X_train.reshape(X_train.shape[0], -1)\n",
    "X_test = X_test.reshape(X_test.shape[0], -1)\n",
    "X_train.shape, X_test.shape"
   ]
  },
  {
   "cell_type": "code",
   "execution_count": 15,
   "id": "73c5f88a",
   "metadata": {
    "execution": {
     "iopub.execute_input": "2022-06-30T10:12:20.406378Z",
     "iopub.status.busy": "2022-06-30T10:12:20.405534Z",
     "iopub.status.idle": "2022-06-30T10:12:20.428508Z",
     "shell.execute_reply": "2022-06-30T10:12:20.427812Z"
    },
    "papermill": {
     "duration": 0.067797,
     "end_time": "2022-06-30T10:12:20.428659",
     "exception": false,
     "start_time": "2022-06-30T10:12:20.360862",
     "status": "completed"
    },
    "tags": []
   },
   "outputs": [],
   "source": [
    "#Impoting functions from 'Kudzu'\n",
    "from kudzu.model import Model\n",
    "from kudzu.train import Learner\n",
    "from kudzu.optim import GD\n",
    "from kudzu.data import Data, Sampler,Dataloader\n",
    "\n",
    "from kudzu.callbacks import AccCallback\n",
    "from kudzu.callbacks import ClfCallback\n",
    "\n",
    "from kudzu.loss import MSE\n",
    "\n",
    "from kudzu.layer import Sigmoid,Relu\n",
    "from kudzu.layer import Affine"
   ]
  },
  {
   "cell_type": "markdown",
   "id": "bc01172a",
   "metadata": {
    "papermill": {
     "duration": 0.035976,
     "end_time": "2022-06-30T10:12:20.500317",
     "exception": false,
     "start_time": "2022-06-30T10:12:20.464341",
     "status": "completed"
    },
    "tags": []
   },
   "source": [
    "### Let us create a `Config` class, to store important parameters. \n",
    "This class essentially plays the role of a dictionary."
   ]
  },
  {
   "cell_type": "code",
   "execution_count": 16,
   "id": "978281aa",
   "metadata": {
    "execution": {
     "iopub.execute_input": "2022-06-30T10:12:20.576865Z",
     "iopub.status.busy": "2022-06-30T10:12:20.576003Z",
     "iopub.status.idle": "2022-06-30T10:12:20.589829Z",
     "shell.execute_reply": "2022-06-30T10:12:20.589154Z"
    },
    "papermill": {
     "duration": 0.054761,
     "end_time": "2022-06-30T10:12:20.589953",
     "exception": false,
     "start_time": "2022-06-30T10:12:20.535192",
     "status": "completed"
    },
    "tags": []
   },
   "outputs": [],
   "source": [
    "class Config:\n",
    "    pass\n",
    "config = Config()\n",
    "config.lr = 0.001\n",
    "config.num_epochs = 250\n",
    "config.bs = 50"
   ]
  },
  {
   "cell_type": "markdown",
   "id": "1385fa59",
   "metadata": {
    "papermill": {
     "duration": 0.033773,
     "end_time": "2022-06-30T10:12:20.658309",
     "exception": false,
     "start_time": "2022-06-30T10:12:20.624536",
     "status": "completed"
    },
    "tags": []
   },
   "source": [
    "### Running Models with the Training data\n",
    "Details about the network layers:\n",
    "- A first affine layer has 784 inputs and does 100 affine transforms. These are followed by a Relu\n",
    "- A second affine layer has 100 inputs from the 100 activations of the past layer, and does 100 affine transforms. These are followed by a Relu\n",
    "- A third affine layer has 100 activations and does 2 affine transformations to create an embedding for visualization. There is no non-linearity here.\n",
    "- A final \"logistic regression\" which has an affine transform from 2 inputs to 1 output, which is squeezed through a sigmoid.\n"
   ]
  },
  {
   "cell_type": "code",
   "execution_count": 17,
   "id": "2b9c66db",
   "metadata": {
    "execution": {
     "iopub.execute_input": "2022-06-30T10:12:20.734383Z",
     "iopub.status.busy": "2022-06-30T10:12:20.733691Z",
     "iopub.status.idle": "2022-06-30T10:12:20.745790Z",
     "shell.execute_reply": "2022-06-30T10:12:20.746572Z"
    },
    "papermill": {
     "duration": 0.054546,
     "end_time": "2022-06-30T10:12:20.746726",
     "exception": false,
     "start_time": "2022-06-30T10:12:20.692180",
     "status": "completed"
    },
    "tags": []
   },
   "outputs": [],
   "source": [
    "data = Data(X_train, y_train.reshape(-1,1))\n",
    "sampler = Sampler(data, config.bs, shuffle=True)\n",
    "\n",
    "dl = Dataloader(data, sampler)\n",
    "\n",
    "opt = GD(config.lr)\n",
    "loss = MSE()"
   ]
  },
  {
   "cell_type": "code",
   "execution_count": 18,
   "id": "b275e4c2",
   "metadata": {
    "execution": {
     "iopub.execute_input": "2022-06-30T10:12:20.821633Z",
     "iopub.status.busy": "2022-06-30T10:12:20.820895Z",
     "iopub.status.idle": "2022-06-30T10:12:20.836139Z",
     "shell.execute_reply": "2022-06-30T10:12:20.835484Z"
    },
    "papermill": {
     "duration": 0.056193,
     "end_time": "2022-06-30T10:12:20.836266",
     "exception": false,
     "start_time": "2022-06-30T10:12:20.780073",
     "status": "completed"
    },
    "tags": []
   },
   "outputs": [],
   "source": [
    "training_data_x = X_train\n",
    "testing_data_x = X_test\n",
    "training_data_y = y_train.reshape(-1,1)\n",
    "testing_data_y = y_test.reshape(-1,1)"
   ]
  },
  {
   "cell_type": "code",
   "execution_count": 19,
   "id": "76951160",
   "metadata": {
    "execution": {
     "iopub.execute_input": "2022-06-30T10:12:20.914531Z",
     "iopub.status.busy": "2022-06-30T10:12:20.913807Z",
     "iopub.status.idle": "2022-06-30T10:12:20.932853Z",
     "shell.execute_reply": "2022-06-30T10:12:20.933548Z"
    },
    "papermill": {
     "duration": 0.064428,
     "end_time": "2022-06-30T10:12:20.933712",
     "exception": false,
     "start_time": "2022-06-30T10:12:20.869284",
     "status": "completed"
    },
    "tags": []
   },
   "outputs": [
    {
     "name": "stdout",
     "output_type": "stream",
     "text": [
      "xavier\n",
      "xavier\n",
      "xavier\n",
      "xavier\n",
      "xavier\n"
     ]
    }
   ],
   "source": [
    "layers = [Affine(\"first\", 784, 100), Relu(\"first\"), Affine(\"second\", 100, 100), Relu(\"second\"), Affine(\"third\", 100, 2), Affine(\"last\", 2, 1), Sigmoid(\"last\")]\n",
    "model_nn = Model(layers)\n",
    "model_lr = Model([Affine(\"logits\", 784, 1), Sigmoid(\"sigmoid\")])"
   ]
  },
  {
   "cell_type": "code",
   "execution_count": 20,
   "id": "6eede77a",
   "metadata": {
    "execution": {
     "iopub.execute_input": "2022-06-30T10:12:21.016141Z",
     "iopub.status.busy": "2022-06-30T10:12:21.015297Z",
     "iopub.status.idle": "2022-06-30T10:12:21.031746Z",
     "shell.execute_reply": "2022-06-30T10:12:21.031120Z"
    },
    "papermill": {
     "duration": 0.060927,
     "end_time": "2022-06-30T10:12:21.031885",
     "exception": false,
     "start_time": "2022-06-30T10:12:20.970958",
     "status": "completed"
    },
    "tags": []
   },
   "outputs": [],
   "source": [
    "nn_learner = Learner(loss, model_nn, opt, config.num_epochs)\n",
    "acc_nn = ClfCallback(nn_learner, config.bs, training_data_x , testing_data_x, training_data_y, testing_data_y)\n",
    "nn_learner.set_callbacks([acc_nn])"
   ]
  },
  {
   "cell_type": "code",
   "execution_count": 21,
   "id": "877b6cc7",
   "metadata": {
    "execution": {
     "iopub.execute_input": "2022-06-30T10:12:21.109978Z",
     "iopub.status.busy": "2022-06-30T10:12:21.109123Z",
     "iopub.status.idle": "2022-06-30T10:12:21.122607Z",
     "shell.execute_reply": "2022-06-30T10:12:21.123179Z"
    },
    "papermill": {
     "duration": 0.054846,
     "end_time": "2022-06-30T10:12:21.123331",
     "exception": false,
     "start_time": "2022-06-30T10:12:21.068485",
     "status": "completed"
    },
    "tags": []
   },
   "outputs": [],
   "source": [
    "lr_learner = Learner(loss, model_lr, opt, config.num_epochs)\n",
    "acc_lr = ClfCallback(lr_learner, config.bs, training_data_x , testing_data_x, training_data_y, testing_data_y)\n",
    "lr_learner.set_callbacks([acc_lr])"
   ]
  },
  {
   "cell_type": "code",
   "execution_count": 22,
   "id": "d9b133c3",
   "metadata": {
    "execution": {
     "iopub.execute_input": "2022-06-30T10:12:21.198920Z",
     "iopub.status.busy": "2022-06-30T10:12:21.198001Z",
     "iopub.status.idle": "2022-06-30T10:14:44.868977Z",
     "shell.execute_reply": "2022-06-30T10:14:44.870031Z"
    },
    "papermill": {
     "duration": 143.713709,
     "end_time": "2022-06-30T10:14:44.870230",
     "exception": false,
     "start_time": "2022-06-30T10:12:21.156521",
     "status": "completed"
    },
    "tags": []
   },
   "outputs": [
    {
     "name": "stdout",
     "output_type": "stream",
     "text": [
      "Epoch 0, Loss 0.2426\n",
      "Training Accuracy: 0.6342, Testing Accuracy: 0.6326\n",
      "\n"
     ]
    },
    {
     "name": "stdout",
     "output_type": "stream",
     "text": [
      "Epoch 10, Loss 0.1255\n",
      "Training Accuracy: 0.8967, Testing Accuracy: 0.9093\n",
      "\n"
     ]
    },
    {
     "name": "stdout",
     "output_type": "stream",
     "text": [
      "Epoch 20, Loss 0.0679\n",
      "Training Accuracy: 0.9298, Testing Accuracy: 0.9476\n",
      "\n"
     ]
    },
    {
     "name": "stdout",
     "output_type": "stream",
     "text": [
      "Epoch 30, Loss 0.0502\n",
      "Training Accuracy: 0.9453, Testing Accuracy: 0.9561\n",
      "\n"
     ]
    },
    {
     "name": "stdout",
     "output_type": "stream",
     "text": [
      "Epoch 40, Loss 0.0423\n",
      "Training Accuracy: 0.9522, Testing Accuracy: 0.9582\n",
      "\n"
     ]
    },
    {
     "name": "stdout",
     "output_type": "stream",
     "text": [
      "Epoch 50, Loss 0.0377\n",
      "Training Accuracy: 0.9557, Testing Accuracy: 0.9627\n",
      "\n"
     ]
    },
    {
     "name": "stdout",
     "output_type": "stream",
     "text": [
      "Epoch 60, Loss 0.0347\n",
      "Training Accuracy: 0.9588, Testing Accuracy: 0.9642\n",
      "\n"
     ]
    },
    {
     "name": "stdout",
     "output_type": "stream",
     "text": [
      "Epoch 70, Loss 0.0324\n",
      "Training Accuracy: 0.9619, Testing Accuracy: 0.9662\n",
      "\n"
     ]
    },
    {
     "name": "stdout",
     "output_type": "stream",
     "text": [
      "Epoch 80, Loss 0.0306\n",
      "Training Accuracy: 0.9642, Testing Accuracy: 0.9677\n",
      "\n"
     ]
    },
    {
     "name": "stdout",
     "output_type": "stream",
     "text": [
      "Epoch 90, Loss 0.0292\n",
      "Training Accuracy: 0.9662, Testing Accuracy: 0.9682\n",
      "\n"
     ]
    },
    {
     "name": "stdout",
     "output_type": "stream",
     "text": [
      "Epoch 100, Loss 0.028\n",
      "Training Accuracy: 0.9680, Testing Accuracy: 0.9688\n",
      "\n"
     ]
    },
    {
     "name": "stdout",
     "output_type": "stream",
     "text": [
      "Epoch 110, Loss 0.027\n",
      "Training Accuracy: 0.9697, Testing Accuracy: 0.9698\n",
      "\n"
     ]
    },
    {
     "name": "stdout",
     "output_type": "stream",
     "text": [
      "Epoch 120, Loss 0.026\n",
      "Training Accuracy: 0.9710, Testing Accuracy: 0.9693\n",
      "\n"
     ]
    },
    {
     "name": "stdout",
     "output_type": "stream",
     "text": [
      "Epoch 130, Loss 0.0252\n",
      "Training Accuracy: 0.9714, Testing Accuracy: 0.9688\n",
      "\n"
     ]
    },
    {
     "name": "stdout",
     "output_type": "stream",
     "text": [
      "Epoch 140, Loss 0.0245\n",
      "Training Accuracy: 0.9720, Testing Accuracy: 0.9693\n",
      "\n"
     ]
    },
    {
     "name": "stdout",
     "output_type": "stream",
     "text": [
      "Epoch 150, Loss 0.0238\n",
      "Training Accuracy: 0.9725, Testing Accuracy: 0.9693\n",
      "\n"
     ]
    },
    {
     "name": "stdout",
     "output_type": "stream",
     "text": [
      "Epoch 160, Loss 0.0232\n",
      "Training Accuracy: 0.9732, Testing Accuracy: 0.9693\n",
      "\n"
     ]
    },
    {
     "name": "stdout",
     "output_type": "stream",
     "text": [
      "Epoch 170, Loss 0.0227\n",
      "Training Accuracy: 0.9738, Testing Accuracy: 0.9688\n",
      "\n"
     ]
    },
    {
     "name": "stdout",
     "output_type": "stream",
     "text": [
      "Epoch 180, Loss 0.0222\n",
      "Training Accuracy: 0.9744, Testing Accuracy: 0.9698\n",
      "\n"
     ]
    },
    {
     "name": "stdout",
     "output_type": "stream",
     "text": [
      "Epoch 190, Loss 0.0217\n",
      "Training Accuracy: 0.9750, Testing Accuracy: 0.9693\n",
      "\n"
     ]
    },
    {
     "name": "stdout",
     "output_type": "stream",
     "text": [
      "Epoch 200, Loss 0.0212\n",
      "Training Accuracy: 0.9757, Testing Accuracy: 0.9718\n",
      "\n"
     ]
    },
    {
     "name": "stdout",
     "output_type": "stream",
     "text": [
      "Epoch 210, Loss 0.0208\n",
      "Training Accuracy: 0.9769, Testing Accuracy: 0.9718\n",
      "\n"
     ]
    },
    {
     "name": "stdout",
     "output_type": "stream",
     "text": [
      "Epoch 220, Loss 0.0204\n",
      "Training Accuracy: 0.9773, Testing Accuracy: 0.9728\n",
      "\n"
     ]
    },
    {
     "name": "stdout",
     "output_type": "stream",
     "text": [
      "Epoch 230, Loss 0.0199\n",
      "Training Accuracy: 0.9779, Testing Accuracy: 0.9728\n",
      "\n"
     ]
    },
    {
     "name": "stdout",
     "output_type": "stream",
     "text": [
      "Epoch 240, Loss 0.0196\n",
      "Training Accuracy: 0.9785, Testing Accuracy: 0.9728\n",
      "\n"
     ]
    },
    {
     "data": {
      "text/plain": [
       "0.005267957363636298"
      ]
     },
     "execution_count": 22,
     "metadata": {},
     "output_type": "execute_result"
    }
   ],
   "source": [
    "nn_learner.train_loop(dl)"
   ]
  },
  {
   "cell_type": "code",
   "execution_count": 23,
   "id": "e0163366",
   "metadata": {
    "execution": {
     "iopub.execute_input": "2022-06-30T10:14:44.969964Z",
     "iopub.status.busy": "2022-06-30T10:14:44.968954Z",
     "iopub.status.idle": "2022-06-30T10:15:05.872433Z",
     "shell.execute_reply": "2022-06-30T10:15:05.873525Z"
    },
    "papermill": {
     "duration": 20.958156,
     "end_time": "2022-06-30T10:15:05.873691",
     "exception": false,
     "start_time": "2022-06-30T10:14:44.915535",
     "status": "completed"
    },
    "tags": []
   },
   "outputs": [
    {
     "name": "stdout",
     "output_type": "stream",
     "text": [
      "Epoch 0, Loss 0.2563\n",
      "Training Accuracy: 0.6231, Testing Accuracy: 0.6321\n",
      "\n"
     ]
    },
    {
     "name": "stdout",
     "output_type": "stream",
     "text": [
      "Epoch 10, Loss 0.1068\n",
      "Training Accuracy: 0.9019, Testing Accuracy: 0.9118\n",
      "\n"
     ]
    },
    {
     "name": "stdout",
     "output_type": "stream",
     "text": [
      "Epoch 20, Loss 0.0808\n",
      "Training Accuracy: 0.9266, Testing Accuracy: 0.9360\n",
      "\n"
     ]
    },
    {
     "name": "stdout",
     "output_type": "stream",
     "text": [
      "Epoch 30, Loss 0.0691\n",
      "Training Accuracy: 0.9377, Testing Accuracy: 0.9435\n",
      "\n"
     ]
    },
    {
     "name": "stdout",
     "output_type": "stream",
     "text": [
      "Epoch 40, Loss 0.0621\n",
      "Training Accuracy: 0.9422, Testing Accuracy: 0.9521\n",
      "\n"
     ]
    },
    {
     "name": "stdout",
     "output_type": "stream",
     "text": [
      "Epoch 50, Loss 0.0574\n",
      "Training Accuracy: 0.9462, Testing Accuracy: 0.9531\n",
      "\n"
     ]
    },
    {
     "name": "stdout",
     "output_type": "stream",
     "text": [
      "Epoch 60, Loss 0.054\n",
      "Training Accuracy: 0.9478, Testing Accuracy: 0.9572\n",
      "\n"
     ]
    },
    {
     "name": "stdout",
     "output_type": "stream",
     "text": [
      "Epoch 70, Loss 0.0514\n",
      "Training Accuracy: 0.9490, Testing Accuracy: 0.9587\n",
      "\n"
     ]
    },
    {
     "name": "stdout",
     "output_type": "stream",
     "text": [
      "Epoch 80, Loss 0.0493\n",
      "Training Accuracy: 0.9508, Testing Accuracy: 0.9602\n",
      "\n"
     ]
    },
    {
     "name": "stdout",
     "output_type": "stream",
     "text": [
      "Epoch 90, Loss 0.0476\n",
      "Training Accuracy: 0.9511, Testing Accuracy: 0.9602\n",
      "\n"
     ]
    },
    {
     "name": "stdout",
     "output_type": "stream",
     "text": [
      "Epoch 100, Loss 0.0462\n",
      "Training Accuracy: 0.9522, Testing Accuracy: 0.9612\n",
      "\n"
     ]
    },
    {
     "name": "stdout",
     "output_type": "stream",
     "text": [
      "Epoch 110, Loss 0.0449\n",
      "Training Accuracy: 0.9534, Testing Accuracy: 0.9627\n",
      "\n"
     ]
    },
    {
     "name": "stdout",
     "output_type": "stream",
     "text": [
      "Epoch 120, Loss 0.0439\n",
      "Training Accuracy: 0.9549, Testing Accuracy: 0.9637\n",
      "\n"
     ]
    },
    {
     "name": "stdout",
     "output_type": "stream",
     "text": [
      "Epoch 130, Loss 0.0429\n",
      "Training Accuracy: 0.9559, Testing Accuracy: 0.9632\n",
      "\n"
     ]
    },
    {
     "name": "stdout",
     "output_type": "stream",
     "text": [
      "Epoch 140, Loss 0.0421\n",
      "Training Accuracy: 0.9567, Testing Accuracy: 0.9632\n",
      "\n"
     ]
    },
    {
     "name": "stdout",
     "output_type": "stream",
     "text": [
      "Epoch 150, Loss 0.0413\n",
      "Training Accuracy: 0.9574, Testing Accuracy: 0.9642\n",
      "\n"
     ]
    },
    {
     "name": "stdout",
     "output_type": "stream",
     "text": [
      "Epoch 160, Loss 0.0407\n",
      "Training Accuracy: 0.9578, Testing Accuracy: 0.9642\n",
      "\n"
     ]
    },
    {
     "name": "stdout",
     "output_type": "stream",
     "text": [
      "Epoch 170, Loss 0.04\n",
      "Training Accuracy: 0.9585, Testing Accuracy: 0.9637\n",
      "\n"
     ]
    },
    {
     "name": "stdout",
     "output_type": "stream",
     "text": [
      "Epoch 180, Loss 0.0395\n",
      "Training Accuracy: 0.9594, Testing Accuracy: 0.9642\n",
      "\n"
     ]
    },
    {
     "name": "stdout",
     "output_type": "stream",
     "text": [
      "Epoch 190, Loss 0.039\n",
      "Training Accuracy: 0.9597, Testing Accuracy: 0.9647\n",
      "\n"
     ]
    },
    {
     "name": "stdout",
     "output_type": "stream",
     "text": [
      "Epoch 200, Loss 0.0385\n",
      "Training Accuracy: 0.9599, Testing Accuracy: 0.9647\n",
      "\n"
     ]
    },
    {
     "name": "stdout",
     "output_type": "stream",
     "text": [
      "Epoch 210, Loss 0.038\n",
      "Training Accuracy: 0.9605, Testing Accuracy: 0.9642\n",
      "\n"
     ]
    },
    {
     "name": "stdout",
     "output_type": "stream",
     "text": [
      "Epoch 220, Loss 0.0376\n",
      "Training Accuracy: 0.9606, Testing Accuracy: 0.9637\n",
      "\n"
     ]
    },
    {
     "name": "stdout",
     "output_type": "stream",
     "text": [
      "Epoch 230, Loss 0.0372\n",
      "Training Accuracy: 0.9607, Testing Accuracy: 0.9642\n",
      "\n"
     ]
    },
    {
     "name": "stdout",
     "output_type": "stream",
     "text": [
      "Epoch 240, Loss 0.0369\n",
      "Training Accuracy: 0.9610, Testing Accuracy: 0.9647\n",
      "\n"
     ]
    },
    {
     "data": {
      "text/plain": [
       "0.04193726277038289"
      ]
     },
     "execution_count": 23,
     "metadata": {},
     "output_type": "execute_result"
    }
   ],
   "source": [
    "lr_learner.train_loop(dl)"
   ]
  },
  {
   "cell_type": "code",
   "execution_count": 24,
   "id": "ca410940",
   "metadata": {
    "execution": {
     "iopub.execute_input": "2022-06-30T10:15:05.989846Z",
     "iopub.status.busy": "2022-06-30T10:15:05.988964Z",
     "iopub.status.idle": "2022-06-30T10:15:06.310185Z",
     "shell.execute_reply": "2022-06-30T10:15:06.310770Z"
    },
    "papermill": {
     "duration": 0.382023,
     "end_time": "2022-06-30T10:15:06.310934",
     "exception": false,
     "start_time": "2022-06-30T10:15:05.928911",
     "status": "completed"
    },
    "tags": []
   },
   "outputs": [
    {
     "data": {
      "text/plain": [
       "<matplotlib.legend.Legend at 0x7f3a5b0b6b00>"
      ]
     },
     "execution_count": 24,
     "metadata": {},
     "output_type": "execute_result"
    },
    {
     "data": {
      "image/png": "[encoded data removed]",
      "text/plain": [
       "<Figure size 1080x720 with 1 Axes>"
      ]
     },
     "metadata": {
      "needs_background": "light"
     },
     "output_type": "display_data"
    }
   ],
   "source": [
    "#comparing the results of NN and LR\n",
    "plt.figure(figsize=(15,10))\n",
    "\n",
    "# Neural Network plots\n",
    "plt.plot(acc_nn.accuracies, 'r-', label = \"Training Accuracies - NN\")\n",
    "plt.plot(acc_nn.test_accuracies, 'g-', label = \"Testing Accuracies - NN\")\n",
    "\n",
    "# Logistic Regression plots\n",
    "plt.plot(acc_lr.accuracies, 'k-', label = \"Training Accuracies - LR\")\n",
    "plt.plot(acc_lr.test_accuracies, 'b-', label = \"Testing Accuracies - LR\")\n",
    "plt.legend()"
   ]
  },
  {
   "cell_type": "markdown",
   "id": "80dfb35c",
   "metadata": {
    "papermill": {
     "duration": 0.053217,
     "end_time": "2022-06-30T10:15:06.418257",
     "exception": false,
     "start_time": "2022-06-30T10:15:06.365040",
     "status": "completed"
    },
    "tags": []
   },
   "source": [
    "#### Plotting the outputs of this layer of the NN.\n"
   ]
  },
  {
   "cell_type": "code",
   "execution_count": 25,
   "id": "45eb2ff5",
   "metadata": {
    "execution": {
     "iopub.execute_input": "2022-06-30T10:15:06.531834Z",
     "iopub.status.busy": "2022-06-30T10:15:06.531063Z",
     "iopub.status.idle": "2022-06-30T10:15:06.559253Z",
     "shell.execute_reply": "2022-06-30T10:15:06.560384Z"
    },
    "papermill": {
     "duration": 0.088708,
     "end_time": "2022-06-30T10:15:06.560549",
     "exception": false,
     "start_time": "2022-06-30T10:15:06.471841",
     "status": "completed"
    },
    "tags": []
   },
   "outputs": [],
   "source": [
    "new_model = Model(layers[:-2])\n",
    "testing_plot = new_model(testing_data_x)"
   ]
  },
  {
   "cell_type": "code",
   "execution_count": 26,
   "id": "4c0a5485",
   "metadata": {
    "execution": {
     "iopub.execute_input": "2022-06-30T10:15:06.680274Z",
     "iopub.status.busy": "2022-06-30T10:15:06.679431Z",
     "iopub.status.idle": "2022-06-30T10:15:06.938743Z",
     "shell.execute_reply": "2022-06-30T10:15:06.939421Z"
    },
    "papermill": {
     "duration": 0.325701,
     "end_time": "2022-06-30T10:15:06.939604",
     "exception": false,
     "start_time": "2022-06-30T10:15:06.613903",
     "status": "completed"
    },
    "tags": []
   },
   "outputs": [
    {
     "data": {
      "text/plain": [
       "Text(0.5, 1.0, 'Outputs')"
      ]
     },
     "execution_count": 26,
     "metadata": {},
     "output_type": "execute_result"
    },
    {
     "data": {
      "image/png": "[encoded data removed]",
      "text/plain": [
       "<Figure size 576x504 with 1 Axes>"
      ]
     },
     "metadata": {
      "needs_background": "light"
     },
     "output_type": "display_data"
    }
   ],
   "source": [
    "# Plotting the scatter plot of points and color coding by class\n",
    "plt.figure(figsize=(8,7))\n",
    "plt.scatter(testing_plot[:,0], testing_plot[:,1], alpha = 0.1, c = y_test.ravel());\n",
    "plt.title('Outputs')"
   ]
  },
  {
   "cell_type": "markdown",
   "id": "a74fcf8f",
   "metadata": {
    "papermill": {
     "duration": 0.093872,
     "end_time": "2022-06-30T10:15:07.091144",
     "exception": false,
     "start_time": "2022-06-30T10:15:06.997272",
     "status": "completed"
    },
    "tags": []
   },
   "source": [
    "Probability contours"
   ]
  },
  {
   "cell_type": "code",
   "execution_count": 27,
   "id": "d0afc8e3",
   "metadata": {
    "execution": {
     "iopub.execute_input": "2022-06-30T10:15:07.213892Z",
     "iopub.status.busy": "2022-06-30T10:15:07.213059Z",
     "iopub.status.idle": "2022-06-30T10:15:07.226467Z",
     "shell.execute_reply": "2022-06-30T10:15:07.225602Z"
    },
    "papermill": {
     "duration": 0.076276,
     "end_time": "2022-06-30T10:15:07.226624",
     "exception": false,
     "start_time": "2022-06-30T10:15:07.150348",
     "status": "completed"
    },
    "tags": []
   },
   "outputs": [],
   "source": [
    "model_prob = Model(layers[-2:]) "
   ]
  },
  {
   "cell_type": "code",
   "execution_count": 28,
   "id": "9b96e238",
   "metadata": {
    "execution": {
     "iopub.execute_input": "2022-06-30T10:15:07.350572Z",
     "iopub.status.busy": "2022-06-30T10:15:07.349739Z",
     "iopub.status.idle": "2022-06-30T10:15:07.365973Z",
     "shell.execute_reply": "2022-06-30T10:15:07.367133Z"
    },
    "papermill": {
     "duration": 0.083598,
     "end_time": "2022-06-30T10:15:07.367340",
     "exception": false,
     "start_time": "2022-06-30T10:15:07.283742",
     "status": "completed"
    },
    "tags": []
   },
   "outputs": [],
   "source": [
    "#creating the x and y ranges according to the above generated plot.\n",
    "x_range = np.linspace(-4, 1, 100) \n",
    "y_range = np.linspace(-6, 6, 100) \n",
    "x_grid, y_grid = np.meshgrid(x_range, y_range) # x_grid and y_grig are of size 100 X 100\n",
    "\n",
    "# converting x_grid and y_grid to continuous arrays\n",
    "x_gridflat = np.ravel(x_grid)\n",
    "y_gridflat = np.ravel(y_grid)\n",
    "\n",
    "# The last layer of the current model takes two columns as input. Hence transpose of np.vstack() is required.\n",
    "X = np.vstack((x_gridflat, y_gridflat)).T\n",
    "\n",
    "prob_contour = model_prob(X).reshape(100,100) "
   ]
  },
  {
   "cell_type": "code",
   "execution_count": 29,
   "id": "da72499a",
   "metadata": {
    "execution": {
     "iopub.execute_input": "2022-06-30T10:15:07.489847Z",
     "iopub.status.busy": "2022-06-30T10:15:07.489058Z",
     "iopub.status.idle": "2022-06-30T10:15:07.823847Z",
     "shell.execute_reply": "2022-06-30T10:15:07.824395Z"
    },
    "papermill": {
     "duration": 0.398207,
     "end_time": "2022-06-30T10:15:07.824555",
     "exception": false,
     "start_time": "2022-06-30T10:15:07.426348",
     "status": "completed"
    },
    "tags": []
   },
   "outputs": [
    {
     "data": {
      "image/png": "[encoded data removed]",
      "text/plain": [
       "<Figure size 720x648 with 1 Axes>"
      ]
     },
     "metadata": {
      "needs_background": "light"
     },
     "output_type": "display_data"
    }
   ],
   "source": [
    "plt.figure(figsize=(10,9))\n",
    "plt.scatter(testing_plot[:,0], testing_plot[:,1], alpha = 0.1, c = y_test.ravel())\n",
    "contours = plt.contour(x_grid,y_grid,prob_contour)\n",
    "plt.title('Probability Contours')\n",
    "plt.clabel(contours, inline = True );"
   ]
  },
  {
   "cell_type": "code",
   "execution_count": null,
   "id": "e81b4ac7",
   "metadata": {
    "papermill": {
     "duration": 0.056917,
     "end_time": "2022-06-30T10:15:07.941309",
     "exception": false,
     "start_time": "2022-06-30T10:15:07.884392",
     "status": "completed"
    },
    "tags": []
   },
   "outputs": [],
   "source": []
  }
 ],
 "metadata": {
  "kernelspec": {
   "display_name": "Python 3",
   "language": "python",
   "name": "python3"
  },
  "language_info": {
   "codemirror_mode": {
    "name": "ipython",
    "version": 3
   },
   "file_extension": ".py",
   "mimetype": "text/x-python",
   "name": "python",
   "nbconvert_exporter": "python",
   "pygments_lexer": "ipython3",
   "version": "3.6.15"
  },
  "papermill": {
   "default_parameters": {},
   "duration": 175.082563,
   "end_time": "2022-06-30T10:15:08.435270",
   "environment_variables": {},
   "exception": null,
   "input_path": "2020-08-11-part2.ipynb",
   "output_path": "2020-08-11-part2.ipynb",
   "parameters": {},
   "start_time": "2022-06-30T10:12:13.352707",
   "version": "2.3.3"
  }
 },
 "nbformat": 4,
 "nbformat_minor": 5
}