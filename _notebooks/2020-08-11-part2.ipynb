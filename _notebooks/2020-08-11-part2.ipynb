{
 "cells": [
  {
   "cell_type": "markdown",
   "id": "98380cd3",
   "metadata": {
    "papermill": {
     "duration": 0.028983,
     "end_time": "2022-11-11T10:11:43.666746",
     "exception": false,
     "start_time": "2022-11-11T10:11:43.637763",
     "status": "completed"
    },
    "tags": []
   },
   "source": [
    "# Distinguish Your Own Digits (DYOD)"
   ]
  },
  {
   "cell_type": "markdown",
   "id": "ef31240d",
   "metadata": {
    "papermill": {
     "duration": 0.02394,
     "end_time": "2022-11-11T10:11:43.715434",
     "exception": false,
     "start_time": "2022-11-11T10:11:43.691494",
     "status": "completed"
    },
    "tags": []
   },
   "source": [
    "You are going to write a classifier that distinguishes between the number 3 and number 8."
   ]
  },
  {
   "cell_type": "code",
   "execution_count": 1,
   "id": "b15c8646",
   "metadata": {
    "execution": {
     "iopub.execute_input": "2022-11-11T10:11:43.773428Z",
     "iopub.status.busy": "2022-11-11T10:11:43.772856Z",
     "iopub.status.idle": "2022-11-11T10:11:43.783571Z",
     "shell.execute_reply": "2022-11-11T10:11:43.783123Z"
    },
    "papermill": {
     "duration": 0.044334,
     "end_time": "2022-11-11T10:11:43.783691",
     "exception": false,
     "start_time": "2022-11-11T10:11:43.739357",
     "status": "completed"
    },
    "tags": []
   },
   "outputs": [],
   "source": [
    "%load_ext autoreload\n",
    "%autoreload 2"
   ]
  },
  {
   "cell_type": "code",
   "execution_count": 2,
   "id": "22ef38dc",
   "metadata": {
    "execution": {
     "iopub.execute_input": "2022-11-11T10:11:43.835423Z",
     "iopub.status.busy": "2022-11-11T10:11:43.834860Z",
     "iopub.status.idle": "2022-11-11T10:11:44.333410Z",
     "shell.execute_reply": "2022-11-11T10:11:44.332913Z"
    },
    "papermill": {
     "duration": 0.525774,
     "end_time": "2022-11-11T10:11:44.333527",
     "exception": false,
     "start_time": "2022-11-11T10:11:43.807753",
     "status": "completed"
    },
    "tags": []
   },
   "outputs": [],
   "source": [
    "%matplotlib inline\n",
    "import numpy as np\n",
    "import matplotlib.pyplot as plt\n",
    "import pandas as pd"
   ]
  },
  {
   "cell_type": "markdown",
   "id": "ba036198",
   "metadata": {
    "papermill": {
     "duration": 0.024124,
     "end_time": "2022-11-11T10:11:44.381905",
     "exception": false,
     "start_time": "2022-11-11T10:11:44.357781",
     "status": "completed"
    },
    "tags": []
   },
   "source": [
    "From the command line run `pip install mnist`. This is a library that will help you bring down the mnist dataset. If you run this from a notebook, you need to put  `!pip install mnist` in a cell by itself."
   ]
  },
  {
   "cell_type": "code",
   "execution_count": 3,
   "id": "bb6ad8a1",
   "metadata": {
    "execution": {
     "iopub.execute_input": "2022-11-11T10:11:44.433821Z",
     "iopub.status.busy": "2022-11-11T10:11:44.433260Z",
     "iopub.status.idle": "2022-11-11T10:11:46.964828Z",
     "shell.execute_reply": "2022-11-11T10:11:46.964141Z"
    },
    "papermill": {
     "duration": 2.558963,
     "end_time": "2022-11-11T10:11:46.964939",
     "exception": false,
     "start_time": "2022-11-11T10:11:44.405976",
     "status": "completed"
    },
    "tags": []
   },
   "outputs": [
    {
     "name": "stdout",
     "output_type": "stream",
     "text": [
      "Collecting mnist\r\n"
     ]
    },
    {
     "name": "stdout",
     "output_type": "stream",
     "text": [
      "  Downloading mnist-0.2.2-py2.py3-none-any.whl (3.5 kB)\r\n",
      "Requirement already satisfied: numpy in /opt/hostedtoolcache/Python/3.6.15/x64/lib/python3.6/site-packages (from mnist) (1.19.5)\r\n"
     ]
    },
    {
     "name": "stdout",
     "output_type": "stream",
     "text": [
      "Installing collected packages: mnist\r\n",
      "Successfully installed mnist-0.2.2\r\n"
     ]
    }
   ],
   "source": [
    "!pip install mnist"
   ]
  },
  {
   "cell_type": "markdown",
   "id": "69df9c9a",
   "metadata": {
    "papermill": {
     "duration": 0.025972,
     "end_time": "2022-11-11T10:11:47.016068",
     "exception": false,
     "start_time": "2022-11-11T10:11:46.990096",
     "status": "completed"
    },
    "tags": []
   },
   "source": [
    "## Preparing the Data"
   ]
  },
  {
   "cell_type": "code",
   "execution_count": 4,
   "id": "7f69d806",
   "metadata": {
    "execution": {
     "iopub.execute_input": "2022-11-11T10:11:47.074355Z",
     "iopub.status.busy": "2022-11-11T10:11:47.068971Z",
     "iopub.status.idle": "2022-11-11T10:11:47.084584Z",
     "shell.execute_reply": "2022-11-11T10:11:47.084111Z"
    },
    "papermill": {
     "duration": 0.043768,
     "end_time": "2022-11-11T10:11:47.084687",
     "exception": false,
     "start_time": "2022-11-11T10:11:47.040919",
     "status": "completed"
    },
    "tags": []
   },
   "outputs": [],
   "source": [
    "import mnist"
   ]
  },
  {
   "cell_type": "code",
   "execution_count": 5,
   "id": "a411e44f",
   "metadata": {
    "execution": {
     "iopub.execute_input": "2022-11-11T10:11:47.138171Z",
     "iopub.status.busy": "2022-11-11T10:11:47.137617Z",
     "iopub.status.idle": "2022-11-11T10:11:47.779644Z",
     "shell.execute_reply": "2022-11-11T10:11:47.779162Z"
    },
    "papermill": {
     "duration": 0.670217,
     "end_time": "2022-11-11T10:11:47.779760",
     "exception": false,
     "start_time": "2022-11-11T10:11:47.109543",
     "status": "completed"
    },
    "tags": []
   },
   "outputs": [],
   "source": [
    "train_images = mnist.train_images()\n",
    "train_labels = mnist.train_labels()"
   ]
  },
  {
   "cell_type": "code",
   "execution_count": 6,
   "id": "dceab3a5",
   "metadata": {
    "execution": {
     "iopub.execute_input": "2022-11-11T10:11:47.833971Z",
     "iopub.status.busy": "2022-11-11T10:11:47.833401Z",
     "iopub.status.idle": "2022-11-11T10:11:47.848932Z",
     "shell.execute_reply": "2022-11-11T10:11:47.848259Z"
    },
    "papermill": {
     "duration": 0.04412,
     "end_time": "2022-11-11T10:11:47.849037",
     "exception": false,
     "start_time": "2022-11-11T10:11:47.804917",
     "status": "completed"
    },
    "tags": []
   },
   "outputs": [
    {
     "data": {
      "text/plain": [
       "((60000, 28, 28), (60000,))"
      ]
     },
     "execution_count": 6,
     "metadata": {},
     "output_type": "execute_result"
    }
   ],
   "source": [
    "train_images.shape, train_labels.shape"
   ]
  },
  {
   "cell_type": "code",
   "execution_count": 7,
   "id": "f50dc2bb",
   "metadata": {
    "execution": {
     "iopub.execute_input": "2022-11-11T10:11:47.902723Z",
     "iopub.status.busy": "2022-11-11T10:11:47.902168Z",
     "iopub.status.idle": "2022-11-11T10:11:48.130509Z",
     "shell.execute_reply": "2022-11-11T10:11:48.130004Z"
    },
    "papermill": {
     "duration": 0.256392,
     "end_time": "2022-11-11T10:11:48.130622",
     "exception": false,
     "start_time": "2022-11-11T10:11:47.874230",
     "status": "completed"
    },
    "tags": []
   },
   "outputs": [],
   "source": [
    "test_images = mnist.test_images()\n",
    "test_labels = mnist.test_labels()"
   ]
  },
  {
   "cell_type": "code",
   "execution_count": 8,
   "id": "fc38cf1b",
   "metadata": {
    "execution": {
     "iopub.execute_input": "2022-11-11T10:11:48.185593Z",
     "iopub.status.busy": "2022-11-11T10:11:48.185039Z",
     "iopub.status.idle": "2022-11-11T10:11:48.197826Z",
     "shell.execute_reply": "2022-11-11T10:11:48.197372Z"
    },
    "papermill": {
     "duration": 0.041426,
     "end_time": "2022-11-11T10:11:48.197932",
     "exception": false,
     "start_time": "2022-11-11T10:11:48.156506",
     "status": "completed"
    },
    "tags": []
   },
   "outputs": [
    {
     "data": {
      "text/plain": [
       "((10000, 28, 28), (10000,))"
      ]
     },
     "execution_count": 8,
     "metadata": {},
     "output_type": "execute_result"
    }
   ],
   "source": [
    "test_images.shape, test_labels.shape"
   ]
  },
  {
   "cell_type": "code",
   "execution_count": 9,
   "id": "f9ed8fe0",
   "metadata": {
    "execution": {
     "iopub.execute_input": "2022-11-11T10:11:48.252769Z",
     "iopub.status.busy": "2022-11-11T10:11:48.252171Z",
     "iopub.status.idle": "2022-11-11T10:11:48.385618Z",
     "shell.execute_reply": "2022-11-11T10:11:48.385167Z"
    },
    "papermill": {
     "duration": 0.162204,
     "end_time": "2022-11-11T10:11:48.385727",
     "exception": false,
     "start_time": "2022-11-11T10:11:48.223523",
     "status": "completed"
    },
    "tags": []
   },
   "outputs": [
    {
     "name": "stdout",
     "output_type": "stream",
     "text": [
      "2\n"
     ]
    },
    {
     "data": {
      "text/plain": [
       "<matplotlib.image.AxesImage at 0x7f985f330d68>"
      ]
     },
     "execution_count": 9,
     "metadata": {},
     "output_type": "execute_result"
    },
    {
     "data": {
      "image/png": "[encoded data removed]",
      "text/plain": [
       "<Figure size 432x288 with 1 Axes>"
      ]
     },
     "metadata": {
      "needs_background": "light"
     },
     "output_type": "display_data"
    }
   ],
   "source": [
    "image_index = 7776 # You may select anything up to 60,000\n",
    "print(train_labels[image_index]) \n",
    "plt.imshow(train_images[image_index], cmap='Greys')"
   ]
  },
  {
   "cell_type": "markdown",
   "id": "a8d2388d",
   "metadata": {
    "papermill": {
     "duration": 0.026857,
     "end_time": "2022-11-11T10:11:48.439359",
     "exception": false,
     "start_time": "2022-11-11T10:11:48.412502",
     "status": "completed"
    },
    "tags": []
   },
   "source": [
    "## Filter data to get 3 and 8 out"
   ]
  },
  {
   "cell_type": "code",
   "execution_count": 10,
   "id": "776f7fc7",
   "metadata": {
    "execution": {
     "iopub.execute_input": "2022-11-11T10:11:48.496794Z",
     "iopub.status.busy": "2022-11-11T10:11:48.496211Z",
     "iopub.status.idle": "2022-11-11T10:11:48.512278Z",
     "shell.execute_reply": "2022-11-11T10:11:48.511819Z"
    },
    "papermill": {
     "duration": 0.046497,
     "end_time": "2022-11-11T10:11:48.512386",
     "exception": false,
     "start_time": "2022-11-11T10:11:48.465889",
     "status": "completed"
    },
    "tags": []
   },
   "outputs": [],
   "source": [
    "train_filter = np.where((train_labels == 3 ) | (train_labels == 8))\n",
    "test_filter = np.where((test_labels == 3) | (test_labels == 8))\n",
    "X_train, y_train = train_images[train_filter], train_labels[train_filter]\n",
    "X_test, y_test = test_images[test_filter], test_labels[test_filter]"
   ]
  },
  {
   "cell_type": "markdown",
   "id": "948f0b7e",
   "metadata": {
    "papermill": {
     "duration": 0.026496,
     "end_time": "2022-11-11T10:11:48.565537",
     "exception": false,
     "start_time": "2022-11-11T10:11:48.539041",
     "status": "completed"
    },
    "tags": []
   },
   "source": [
    "We normalize the pizel values in the 0 to 1 range"
   ]
  },
  {
   "cell_type": "code",
   "execution_count": 11,
   "id": "ee4c2166",
   "metadata": {
    "execution": {
     "iopub.execute_input": "2022-11-11T10:11:48.621893Z",
     "iopub.status.busy": "2022-11-11T10:11:48.621328Z",
     "iopub.status.idle": "2022-11-11T10:11:48.660655Z",
     "shell.execute_reply": "2022-11-11T10:11:48.660168Z"
    },
    "papermill": {
     "duration": 0.068795,
     "end_time": "2022-11-11T10:11:48.660766",
     "exception": false,
     "start_time": "2022-11-11T10:11:48.591971",
     "status": "completed"
    },
    "tags": []
   },
   "outputs": [],
   "source": [
    "X_train = X_train/255.\n",
    "X_test = X_test/255."
   ]
  },
  {
   "cell_type": "markdown",
   "id": "ddcf4fab",
   "metadata": {
    "papermill": {
     "duration": 0.026558,
     "end_time": "2022-11-11T10:11:48.714003",
     "exception": false,
     "start_time": "2022-11-11T10:11:48.687445",
     "status": "completed"
    },
    "tags": []
   },
   "source": [
    "And setup the labels as 1 (when the digit is 3) and 0 (when the digit is 8)"
   ]
  },
  {
   "cell_type": "code",
   "execution_count": 12,
   "id": "7dc908f2",
   "metadata": {
    "execution": {
     "iopub.execute_input": "2022-11-11T10:11:48.770791Z",
     "iopub.status.busy": "2022-11-11T10:11:48.770233Z",
     "iopub.status.idle": "2022-11-11T10:11:48.781635Z",
     "shell.execute_reply": "2022-11-11T10:11:48.781085Z"
    },
    "papermill": {
     "duration": 0.041274,
     "end_time": "2022-11-11T10:11:48.781737",
     "exception": false,
     "start_time": "2022-11-11T10:11:48.740463",
     "status": "completed"
    },
    "tags": []
   },
   "outputs": [],
   "source": [
    "y_train = 1*(y_train==3)\n",
    "y_test = 1*(y_test==3)"
   ]
  },
  {
   "cell_type": "code",
   "execution_count": 13,
   "id": "01e4e969",
   "metadata": {
    "execution": {
     "iopub.execute_input": "2022-11-11T10:11:48.838397Z",
     "iopub.status.busy": "2022-11-11T10:11:48.837845Z",
     "iopub.status.idle": "2022-11-11T10:11:48.850309Z",
     "shell.execute_reply": "2022-11-11T10:11:48.850742Z"
    },
    "papermill": {
     "duration": 0.042498,
     "end_time": "2022-11-11T10:11:48.850859",
     "exception": false,
     "start_time": "2022-11-11T10:11:48.808361",
     "status": "completed"
    },
    "tags": []
   },
   "outputs": [
    {
     "data": {
      "text/plain": [
       "((11982, 28, 28), (1984, 28, 28))"
      ]
     },
     "execution_count": 13,
     "metadata": {},
     "output_type": "execute_result"
    }
   ],
   "source": [
    "X_train.shape, X_test.shape"
   ]
  },
  {
   "cell_type": "markdown",
   "id": "5ccf3f85",
   "metadata": {
    "papermill": {
     "duration": 0.026777,
     "end_time": "2022-11-11T10:11:48.904463",
     "exception": false,
     "start_time": "2022-11-11T10:11:48.877686",
     "status": "completed"
    },
    "tags": []
   },
   "source": [
    "We reshape the data to flatten the image pixels into a set of features or co-variates:"
   ]
  },
  {
   "cell_type": "code",
   "execution_count": 14,
   "id": "5286a4a3",
   "metadata": {
    "execution": {
     "iopub.execute_input": "2022-11-11T10:11:48.962335Z",
     "iopub.status.busy": "2022-11-11T10:11:48.961777Z",
     "iopub.status.idle": "2022-11-11T10:11:48.974769Z",
     "shell.execute_reply": "2022-11-11T10:11:48.974310Z"
    },
    "papermill": {
     "duration": 0.043611,
     "end_time": "2022-11-11T10:11:48.974868",
     "exception": false,
     "start_time": "2022-11-11T10:11:48.931257",
     "status": "completed"
    },
    "tags": []
   },
   "outputs": [
    {
     "data": {
      "text/plain": [
       "((11982, 784), (1984, 784))"
      ]
     },
     "execution_count": 14,
     "metadata": {},
     "output_type": "execute_result"
    }
   ],
   "source": [
    "X_train = X_train.reshape(X_train.shape[0], -1)\n",
    "X_test = X_test.reshape(X_test.shape[0], -1)\n",
    "X_train.shape, X_test.shape"
   ]
  },
  {
   "cell_type": "code",
   "execution_count": 15,
   "id": "73c5f88a",
   "metadata": {
    "execution": {
     "iopub.execute_input": "2022-11-11T10:11:49.033155Z",
     "iopub.status.busy": "2022-11-11T10:11:49.032584Z",
     "iopub.status.idle": "2022-11-11T10:11:49.051095Z",
     "shell.execute_reply": "2022-11-11T10:11:49.050649Z"
    },
    "papermill": {
     "duration": 0.049308,
     "end_time": "2022-11-11T10:11:49.051203",
     "exception": false,
     "start_time": "2022-11-11T10:11:49.001895",
     "status": "completed"
    },
    "tags": []
   },
   "outputs": [],
   "source": [
    "#Impoting functions from 'Kudzu'\n",
    "from kudzu.model import Model\n",
    "from kudzu.train import Learner\n",
    "from kudzu.optim import GD\n",
    "from kudzu.data import Data, Sampler,Dataloader\n",
    "\n",
    "from kudzu.callbacks import AccCallback\n",
    "from kudzu.callbacks import ClfCallback\n",
    "\n",
    "from kudzu.loss import MSE\n",
    "\n",
    "from kudzu.layer import Sigmoid,Relu\n",
    "from kudzu.layer import Affine"
   ]
  },
  {
   "cell_type": "markdown",
   "id": "bc01172a",
   "metadata": {
    "papermill": {
     "duration": 0.027025,
     "end_time": "2022-11-11T10:11:49.105384",
     "exception": false,
     "start_time": "2022-11-11T10:11:49.078359",
     "status": "completed"
    },
    "tags": []
   },
   "source": [
    "### Let us create a `Config` class, to store important parameters. \n",
    "This class essentially plays the role of a dictionary."
   ]
  },
  {
   "cell_type": "code",
   "execution_count": 16,
   "id": "978281aa",
   "metadata": {
    "execution": {
     "iopub.execute_input": "2022-11-11T10:11:49.163705Z",
     "iopub.status.busy": "2022-11-11T10:11:49.163130Z",
     "iopub.status.idle": "2022-11-11T10:11:49.174614Z",
     "shell.execute_reply": "2022-11-11T10:11:49.174159Z"
    },
    "papermill": {
     "duration": 0.042225,
     "end_time": "2022-11-11T10:11:49.174715",
     "exception": false,
     "start_time": "2022-11-11T10:11:49.132490",
     "status": "completed"
    },
    "tags": []
   },
   "outputs": [],
   "source": [
    "class Config:\n",
    "    pass\n",
    "config = Config()\n",
    "config.lr = 0.001\n",
    "config.num_epochs = 250\n",
    "config.bs = 50"
   ]
  },
  {
   "cell_type": "markdown",
   "id": "1385fa59",
   "metadata": {
    "papermill": {
     "duration": 0.027025,
     "end_time": "2022-11-11T10:11:49.229180",
     "exception": false,
     "start_time": "2022-11-11T10:11:49.202155",
     "status": "completed"
    },
    "tags": []
   },
   "source": [
    "### Running Models with the Training data\n",
    "Details about the network layers:\n",
    "- A first affine layer has 784 inputs and does 100 affine transforms. These are followed by a Relu\n",
    "- A second affine layer has 100 inputs from the 100 activations of the past layer, and does 100 affine transforms. These are followed by a Relu\n",
    "- A third affine layer has 100 activations and does 2 affine transformations to create an embedding for visualization. There is no non-linearity here.\n",
    "- A final \"logistic regression\" which has an affine transform from 2 inputs to 1 output, which is squeezed through a sigmoid.\n"
   ]
  },
  {
   "cell_type": "code",
   "execution_count": 17,
   "id": "2b9c66db",
   "metadata": {
    "execution": {
     "iopub.execute_input": "2022-11-11T10:11:49.287324Z",
     "iopub.status.busy": "2022-11-11T10:11:49.286757Z",
     "iopub.status.idle": "2022-11-11T10:11:49.298754Z",
     "shell.execute_reply": "2022-11-11T10:11:49.298302Z"
    },
    "papermill": {
     "duration": 0.042601,
     "end_time": "2022-11-11T10:11:49.298852",
     "exception": false,
     "start_time": "2022-11-11T10:11:49.256251",
     "status": "completed"
    },
    "tags": []
   },
   "outputs": [],
   "source": [
    "data = Data(X_train, y_train.reshape(-1,1))\n",
    "sampler = Sampler(data, config.bs, shuffle=True)\n",
    "\n",
    "dl = Dataloader(data, sampler)\n",
    "\n",
    "opt = GD(config.lr)\n",
    "loss = MSE()"
   ]
  },
  {
   "cell_type": "code",
   "execution_count": 18,
   "id": "b275e4c2",
   "metadata": {
    "execution": {
     "iopub.execute_input": "2022-11-11T10:11:49.356173Z",
     "iopub.status.busy": "2022-11-11T10:11:49.355609Z",
     "iopub.status.idle": "2022-11-11T10:11:49.366773Z",
     "shell.execute_reply": "2022-11-11T10:11:49.367212Z"
    },
    "papermill": {
     "duration": 0.041387,
     "end_time": "2022-11-11T10:11:49.367322",
     "exception": false,
     "start_time": "2022-11-11T10:11:49.325935",
     "status": "completed"
    },
    "tags": []
   },
   "outputs": [],
   "source": [
    "training_data_x = X_train\n",
    "testing_data_x = X_test\n",
    "training_data_y = y_train.reshape(-1,1)\n",
    "testing_data_y = y_test.reshape(-1,1)"
   ]
  },
  {
   "cell_type": "code",
   "execution_count": 19,
   "id": "76951160",
   "metadata": {
    "execution": {
     "iopub.execute_input": "2022-11-11T10:11:49.425283Z",
     "iopub.status.busy": "2022-11-11T10:11:49.424726Z",
     "iopub.status.idle": "2022-11-11T10:11:49.440735Z",
     "shell.execute_reply": "2022-11-11T10:11:49.440279Z"
    },
    "papermill": {
     "duration": 0.046449,
     "end_time": "2022-11-11T10:11:49.440833",
     "exception": false,
     "start_time": "2022-11-11T10:11:49.394384",
     "status": "completed"
    },
    "tags": []
   },
   "outputs": [
    {
     "name": "stdout",
     "output_type": "stream",
     "text": [
      "xavier\n",
      "xavier\n",
      "xavier\n",
      "xavier\n",
      "xavier\n"
     ]
    }
   ],
   "source": [
    "layers = [Affine(\"first\", 784, 100), Relu(\"first\"), Affine(\"second\", 100, 100), Relu(\"second\"), Affine(\"third\", 100, 2), Affine(\"last\", 2, 1), Sigmoid(\"last\")]\n",
    "model_nn = Model(layers)\n",
    "model_lr = Model([Affine(\"logits\", 784, 1), Sigmoid(\"sigmoid\")])"
   ]
  },
  {
   "cell_type": "code",
   "execution_count": 20,
   "id": "6eede77a",
   "metadata": {
    "execution": {
     "iopub.execute_input": "2022-11-11T10:11:49.501442Z",
     "iopub.status.busy": "2022-11-11T10:11:49.499881Z",
     "iopub.status.idle": "2022-11-11T10:11:49.511237Z",
     "shell.execute_reply": "2022-11-11T10:11:49.510790Z"
    },
    "papermill": {
     "duration": 0.043196,
     "end_time": "2022-11-11T10:11:49.511336",
     "exception": false,
     "start_time": "2022-11-11T10:11:49.468140",
     "status": "completed"
    },
    "tags": []
   },
   "outputs": [],
   "source": [
    "nn_learner = Learner(loss, model_nn, opt, config.num_epochs)\n",
    "acc_nn = ClfCallback(nn_learner, config.bs, training_data_x , testing_data_x, training_data_y, testing_data_y)\n",
    "nn_learner.set_callbacks([acc_nn])"
   ]
  },
  {
   "cell_type": "code",
   "execution_count": 21,
   "id": "877b6cc7",
   "metadata": {
    "execution": {
     "iopub.execute_input": "2022-11-11T10:11:49.570122Z",
     "iopub.status.busy": "2022-11-11T10:11:49.569543Z",
     "iopub.status.idle": "2022-11-11T10:11:49.580656Z",
     "shell.execute_reply": "2022-11-11T10:11:49.581092Z"
    },
    "papermill": {
     "duration": 0.042687,
     "end_time": "2022-11-11T10:11:49.581206",
     "exception": false,
     "start_time": "2022-11-11T10:11:49.538519",
     "status": "completed"
    },
    "tags": []
   },
   "outputs": [],
   "source": [
    "lr_learner = Learner(loss, model_lr, opt, config.num_epochs)\n",
    "acc_lr = ClfCallback(lr_learner, config.bs, training_data_x , testing_data_x, training_data_y, testing_data_y)\n",
    "lr_learner.set_callbacks([acc_lr])"
   ]
  },
  {
   "cell_type": "code",
   "execution_count": 22,
   "id": "d9b133c3",
   "metadata": {
    "execution": {
     "iopub.execute_input": "2022-11-11T10:11:49.641681Z",
     "iopub.status.busy": "2022-11-11T10:11:49.640300Z",
     "iopub.status.idle": "2022-11-11T10:14:44.405681Z",
     "shell.execute_reply": "2022-11-11T10:14:44.406123Z"
    },
    "papermill": {
     "duration": 174.79765,
     "end_time": "2022-11-11T10:14:44.406246",
     "exception": false,
     "start_time": "2022-11-11T10:11:49.608596",
     "status": "completed"
    },
    "tags": []
   },
   "outputs": [
    {
     "name": "stdout",
     "output_type": "stream",
     "text": [
      "Epoch 0, Loss 0.2463\n",
      "Training Accuracy: 0.5255, Testing Accuracy: 0.5186\n",
      "\n"
     ]
    },
    {
     "name": "stdout",
     "output_type": "stream",
     "text": [
      "Epoch 10, Loss 0.162\n",
      "Training Accuracy: 0.8968, Testing Accuracy: 0.8967\n",
      "\n"
     ]
    },
    {
     "name": "stdout",
     "output_type": "stream",
     "text": [
      "Epoch 20, Loss 0.0783\n",
      "Training Accuracy: 0.9296, Testing Accuracy: 0.9395\n",
      "\n"
     ]
    },
    {
     "name": "stdout",
     "output_type": "stream",
     "text": [
      "Epoch 30, Loss 0.0525\n",
      "Training Accuracy: 0.9481, Testing Accuracy: 0.9536\n",
      "\n"
     ]
    },
    {
     "name": "stdout",
     "output_type": "stream",
     "text": [
      "Epoch 40, Loss 0.0423\n",
      "Training Accuracy: 0.9553, Testing Accuracy: 0.9597\n",
      "\n"
     ]
    },
    {
     "name": "stdout",
     "output_type": "stream",
     "text": [
      "Epoch 50, Loss 0.037\n",
      "Training Accuracy: 0.9591, Testing Accuracy: 0.9642\n",
      "\n"
     ]
    },
    {
     "name": "stdout",
     "output_type": "stream",
     "text": [
      "Epoch 60, Loss 0.0337\n",
      "Training Accuracy: 0.9614, Testing Accuracy: 0.9672\n",
      "\n"
     ]
    },
    {
     "name": "stdout",
     "output_type": "stream",
     "text": [
      "Epoch 70, Loss 0.0314\n",
      "Training Accuracy: 0.9636, Testing Accuracy: 0.9682\n",
      "\n"
     ]
    },
    {
     "name": "stdout",
     "output_type": "stream",
     "text": [
      "Epoch 80, Loss 0.0296\n",
      "Training Accuracy: 0.9652, Testing Accuracy: 0.9682\n",
      "\n"
     ]
    },
    {
     "name": "stdout",
     "output_type": "stream",
     "text": [
      "Epoch 90, Loss 0.0283\n",
      "Training Accuracy: 0.9670, Testing Accuracy: 0.9682\n",
      "\n"
     ]
    },
    {
     "name": "stdout",
     "output_type": "stream",
     "text": [
      "Epoch 100, Loss 0.0271\n",
      "Training Accuracy: 0.9684, Testing Accuracy: 0.9682\n",
      "\n"
     ]
    },
    {
     "name": "stdout",
     "output_type": "stream",
     "text": [
      "Epoch 110, Loss 0.0261\n",
      "Training Accuracy: 0.9697, Testing Accuracy: 0.9688\n",
      "\n"
     ]
    },
    {
     "name": "stdout",
     "output_type": "stream",
     "text": [
      "Epoch 120, Loss 0.0253\n",
      "Training Accuracy: 0.9707, Testing Accuracy: 0.9693\n",
      "\n"
     ]
    },
    {
     "name": "stdout",
     "output_type": "stream",
     "text": [
      "Epoch 130, Loss 0.0245\n",
      "Training Accuracy: 0.9715, Testing Accuracy: 0.9698\n",
      "\n"
     ]
    },
    {
     "name": "stdout",
     "output_type": "stream",
     "text": [
      "Epoch 140, Loss 0.0238\n",
      "Training Accuracy: 0.9723, Testing Accuracy: 0.9698\n",
      "\n"
     ]
    },
    {
     "name": "stdout",
     "output_type": "stream",
     "text": [
      "Epoch 150, Loss 0.0232\n",
      "Training Accuracy: 0.9730, Testing Accuracy: 0.9698\n",
      "\n"
     ]
    },
    {
     "name": "stdout",
     "output_type": "stream",
     "text": [
      "Epoch 160, Loss 0.0226\n",
      "Training Accuracy: 0.9741, Testing Accuracy: 0.9693\n",
      "\n"
     ]
    },
    {
     "name": "stdout",
     "output_type": "stream",
     "text": [
      "Epoch 170, Loss 0.0221\n",
      "Training Accuracy: 0.9747, Testing Accuracy: 0.9693\n",
      "\n"
     ]
    },
    {
     "name": "stdout",
     "output_type": "stream",
     "text": [
      "Epoch 180, Loss 0.0215\n",
      "Training Accuracy: 0.9754, Testing Accuracy: 0.9693\n",
      "\n"
     ]
    },
    {
     "name": "stdout",
     "output_type": "stream",
     "text": [
      "Epoch 190, Loss 0.0211\n",
      "Training Accuracy: 0.9762, Testing Accuracy: 0.9703\n",
      "\n"
     ]
    },
    {
     "name": "stdout",
     "output_type": "stream",
     "text": [
      "Epoch 200, Loss 0.0206\n",
      "Training Accuracy: 0.9770, Testing Accuracy: 0.9703\n",
      "\n"
     ]
    },
    {
     "name": "stdout",
     "output_type": "stream",
     "text": [
      "Epoch 210, Loss 0.0202\n",
      "Training Accuracy: 0.9773, Testing Accuracy: 0.9698\n",
      "\n"
     ]
    },
    {
     "name": "stdout",
     "output_type": "stream",
     "text": [
      "Epoch 220, Loss 0.0197\n",
      "Training Accuracy: 0.9779, Testing Accuracy: 0.9708\n",
      "\n"
     ]
    },
    {
     "name": "stdout",
     "output_type": "stream",
     "text": [
      "Epoch 230, Loss 0.0193\n",
      "Training Accuracy: 0.9784, Testing Accuracy: 0.9718\n",
      "\n"
     ]
    },
    {
     "name": "stdout",
     "output_type": "stream",
     "text": [
      "Epoch 240, Loss 0.0189\n",
      "Training Accuracy: 0.9788, Testing Accuracy: 0.9723\n",
      "\n"
     ]
    },
    {
     "data": {
      "text/plain": [
       "0.01837756757098419"
      ]
     },
     "execution_count": 22,
     "metadata": {},
     "output_type": "execute_result"
    }
   ],
   "source": [
    "nn_learner.train_loop(dl)"
   ]
  },
  {
   "cell_type": "code",
   "execution_count": 23,
   "id": "e0163366",
   "metadata": {
    "execution": {
     "iopub.execute_input": "2022-11-11T10:14:44.480893Z",
     "iopub.status.busy": "2022-11-11T10:14:44.479463Z",
     "iopub.status.idle": "2022-11-11T10:14:56.483469Z",
     "shell.execute_reply": "2022-11-11T10:14:56.484003Z"
    },
    "papermill": {
     "duration": 12.043543,
     "end_time": "2022-11-11T10:14:56.484128",
     "exception": false,
     "start_time": "2022-11-11T10:14:44.440585",
     "status": "completed"
    },
    "tags": []
   },
   "outputs": [
    {
     "name": "stdout",
     "output_type": "stream",
     "text": [
      "Epoch 0, Loss 0.2082\n",
      "Training Accuracy: 0.8128, Testing Accuracy: 0.8301\n",
      "\n"
     ]
    },
    {
     "name": "stdout",
     "output_type": "stream",
     "text": [
      "Epoch 10, Loss 0.0976\n",
      "Training Accuracy: 0.9185, Testing Accuracy: 0.9279\n",
      "\n"
     ]
    },
    {
     "name": "stdout",
     "output_type": "stream",
     "text": [
      "Epoch 20, Loss 0.0767\n",
      "Training Accuracy: 0.9315, Testing Accuracy: 0.9410\n",
      "\n"
     ]
    },
    {
     "name": "stdout",
     "output_type": "stream",
     "text": [
      "Epoch 30, Loss 0.0667\n",
      "Training Accuracy: 0.9391, Testing Accuracy: 0.9496\n",
      "\n"
     ]
    },
    {
     "name": "stdout",
     "output_type": "stream",
     "text": [
      "Epoch 40, Loss 0.0606\n",
      "Training Accuracy: 0.9417, Testing Accuracy: 0.9516\n",
      "\n"
     ]
    },
    {
     "name": "stdout",
     "output_type": "stream",
     "text": [
      "Epoch 50, Loss 0.0564\n",
      "Training Accuracy: 0.9449, Testing Accuracy: 0.9536\n",
      "\n"
     ]
    },
    {
     "name": "stdout",
     "output_type": "stream",
     "text": [
      "Epoch 60, Loss 0.0533\n",
      "Training Accuracy: 0.9468, Testing Accuracy: 0.9572\n",
      "\n"
     ]
    },
    {
     "name": "stdout",
     "output_type": "stream",
     "text": [
      "Epoch 70, Loss 0.0509\n",
      "Training Accuracy: 0.9496, Testing Accuracy: 0.9587\n",
      "\n"
     ]
    },
    {
     "name": "stdout",
     "output_type": "stream",
     "text": [
      "Epoch 80, Loss 0.0489\n",
      "Training Accuracy: 0.9508, Testing Accuracy: 0.9612\n",
      "\n"
     ]
    },
    {
     "name": "stdout",
     "output_type": "stream",
     "text": [
      "Epoch 90, Loss 0.0473\n",
      "Training Accuracy: 0.9519, Testing Accuracy: 0.9617\n",
      "\n"
     ]
    },
    {
     "name": "stdout",
     "output_type": "stream",
     "text": [
      "Epoch 100, Loss 0.0459\n",
      "Training Accuracy: 0.9535, Testing Accuracy: 0.9617\n",
      "\n"
     ]
    },
    {
     "name": "stdout",
     "output_type": "stream",
     "text": [
      "Epoch 110, Loss 0.0448\n",
      "Training Accuracy: 0.9547, Testing Accuracy: 0.9647\n",
      "\n"
     ]
    },
    {
     "name": "stdout",
     "output_type": "stream",
     "text": [
      "Epoch 120, Loss 0.0437\n",
      "Training Accuracy: 0.9557, Testing Accuracy: 0.9652\n",
      "\n"
     ]
    },
    {
     "name": "stdout",
     "output_type": "stream",
     "text": [
      "Epoch 130, Loss 0.0428\n",
      "Training Accuracy: 0.9571, Testing Accuracy: 0.9657\n",
      "\n"
     ]
    },
    {
     "name": "stdout",
     "output_type": "stream",
     "text": [
      "Epoch 140, Loss 0.042\n",
      "Training Accuracy: 0.9575, Testing Accuracy: 0.9657\n",
      "\n"
     ]
    },
    {
     "name": "stdout",
     "output_type": "stream",
     "text": [
      "Epoch 150, Loss 0.0413\n",
      "Training Accuracy: 0.9579, Testing Accuracy: 0.9667\n",
      "\n"
     ]
    },
    {
     "name": "stdout",
     "output_type": "stream",
     "text": [
      "Epoch 160, Loss 0.0406\n",
      "Training Accuracy: 0.9587, Testing Accuracy: 0.9672\n",
      "\n"
     ]
    },
    {
     "name": "stdout",
     "output_type": "stream",
     "text": [
      "Epoch 170, Loss 0.04\n",
      "Training Accuracy: 0.9592, Testing Accuracy: 0.9672\n",
      "\n"
     ]
    },
    {
     "name": "stdout",
     "output_type": "stream",
     "text": [
      "Epoch 180, Loss 0.0395\n",
      "Training Accuracy: 0.9597, Testing Accuracy: 0.9667\n",
      "\n"
     ]
    },
    {
     "name": "stdout",
     "output_type": "stream",
     "text": [
      "Epoch 190, Loss 0.0389\n",
      "Training Accuracy: 0.9600, Testing Accuracy: 0.9667\n",
      "\n"
     ]
    },
    {
     "name": "stdout",
     "output_type": "stream",
     "text": [
      "Epoch 200, Loss 0.0385\n",
      "Training Accuracy: 0.9601, Testing Accuracy: 0.9662\n",
      "\n"
     ]
    },
    {
     "name": "stdout",
     "output_type": "stream",
     "text": [
      "Epoch 210, Loss 0.038\n",
      "Training Accuracy: 0.9604, Testing Accuracy: 0.9657\n",
      "\n"
     ]
    },
    {
     "name": "stdout",
     "output_type": "stream",
     "text": [
      "Epoch 220, Loss 0.0376\n",
      "Training Accuracy: 0.9605, Testing Accuracy: 0.9657\n",
      "\n"
     ]
    },
    {
     "name": "stdout",
     "output_type": "stream",
     "text": [
      "Epoch 230, Loss 0.0372\n",
      "Training Accuracy: 0.9609, Testing Accuracy: 0.9657\n",
      "\n"
     ]
    },
    {
     "name": "stdout",
     "output_type": "stream",
     "text": [
      "Epoch 240, Loss 0.0369\n",
      "Training Accuracy: 0.9611, Testing Accuracy: 0.9667\n",
      "\n"
     ]
    },
    {
     "data": {
      "text/plain": [
       "0.009396675722652735"
      ]
     },
     "execution_count": 23,
     "metadata": {},
     "output_type": "execute_result"
    }
   ],
   "source": [
    "lr_learner.train_loop(dl)"
   ]
  },
  {
   "cell_type": "code",
   "execution_count": 24,
   "id": "ca410940",
   "metadata": {
    "execution": {
     "iopub.execute_input": "2022-11-11T10:14:56.576396Z",
     "iopub.status.busy": "2022-11-11T10:14:56.575783Z",
     "iopub.status.idle": "2022-11-11T10:14:56.797809Z",
     "shell.execute_reply": "2022-11-11T10:14:56.797289Z"
    },
    "papermill": {
     "duration": 0.27259,
     "end_time": "2022-11-11T10:14:56.797921",
     "exception": false,
     "start_time": "2022-11-11T10:14:56.525331",
     "status": "completed"
    },
    "tags": []
   },
   "outputs": [
    {
     "data": {
      "text/plain": [
       "<matplotlib.legend.Legend at 0x7f985ee9b438>"
      ]
     },
     "execution_count": 24,
     "metadata": {},
     "output_type": "execute_result"
    },
    {
     "data": {
      "image/png": "[encoded data removed]",
      "text/plain": [
       "<Figure size 1080x720 with 1 Axes>"
      ]
     },
     "metadata": {
      "needs_background": "light"
     },
     "output_type": "display_data"
    }
   ],
   "source": [
    "#comparing the results of NN and LR\n",
    "plt.figure(figsize=(15,10))\n",
    "\n",
    "# Neural Network plots\n",
    "plt.plot(acc_nn.accuracies, 'r-', label = \"Training Accuracies - NN\")\n",
    "plt.plot(acc_nn.test_accuracies, 'g-', label = \"Testing Accuracies - NN\")\n",
    "\n",
    "# Logistic Regression plots\n",
    "plt.plot(acc_lr.accuracies, 'k-', label = \"Training Accuracies - LR\")\n",
    "plt.plot(acc_lr.test_accuracies, 'b-', label = \"Testing Accuracies - LR\")\n",
    "plt.legend()"
   ]
  },
  {
   "cell_type": "markdown",
   "id": "80dfb35c",
   "metadata": {
    "papermill": {
     "duration": 0.042467,
     "end_time": "2022-11-11T10:14:56.883234",
     "exception": false,
     "start_time": "2022-11-11T10:14:56.840767",
     "status": "completed"
    },
    "tags": []
   },
   "source": [
    "#### Plotting the outputs of this layer of the NN.\n"
   ]
  },
  {
   "cell_type": "code",
   "execution_count": 25,
   "id": "45eb2ff5",
   "metadata": {
    "execution": {
     "iopub.execute_input": "2022-11-11T10:14:56.975997Z",
     "iopub.status.busy": "2022-11-11T10:14:56.973039Z",
     "iopub.status.idle": "2022-11-11T10:14:57.010337Z",
     "shell.execute_reply": "2022-11-11T10:14:57.009524Z"
    },
    "papermill": {
     "duration": 0.084766,
     "end_time": "2022-11-11T10:14:57.010457",
     "exception": false,
     "start_time": "2022-11-11T10:14:56.925691",
     "status": "completed"
    },
    "tags": []
   },
   "outputs": [],
   "source": [
    "new_model = Model(layers[:-2])\n",
    "testing_plot = new_model(testing_data_x)"
   ]
  },
  {
   "cell_type": "code",
   "execution_count": 26,
   "id": "4c0a5485",
   "metadata": {
    "execution": {
     "iopub.execute_input": "2022-11-11T10:14:57.106215Z",
     "iopub.status.busy": "2022-11-11T10:14:57.105092Z",
     "iopub.status.idle": "2022-11-11T10:14:57.302951Z",
     "shell.execute_reply": "2022-11-11T10:14:57.302461Z"
    },
    "papermill": {
     "duration": 0.249418,
     "end_time": "2022-11-11T10:14:57.303063",
     "exception": false,
     "start_time": "2022-11-11T10:14:57.053645",
     "status": "completed"
    },
    "tags": []
   },
   "outputs": [
    {
     "data": {
      "text/plain": [
       "Text(0.5, 1.0, 'Outputs')"
      ]
     },
     "execution_count": 26,
     "metadata": {},
     "output_type": "execute_result"
    },
    {
     "data": {
      "image/png": "[encoded data removed]",
      "text/plain": [
       "<Figure size 576x504 with 1 Axes>"
      ]
     },
     "metadata": {
      "needs_background": "light"
     },
     "output_type": "display_data"
    }
   ],
   "source": [
    "# Plotting the scatter plot of points and color coding by class\n",
    "plt.figure(figsize=(8,7))\n",
    "plt.scatter(testing_plot[:,0], testing_plot[:,1], alpha = 0.1, c = y_test.ravel());\n",
    "plt.title('Outputs')"
   ]
  },
  {
   "cell_type": "markdown",
   "id": "a74fcf8f",
   "metadata": {
    "papermill": {
     "duration": 0.04472,
     "end_time": "2022-11-11T10:14:57.395713",
     "exception": false,
     "start_time": "2022-11-11T10:14:57.350993",
     "status": "completed"
    },
    "tags": []
   },
   "source": [
    "Probability contours"
   ]
  },
  {
   "cell_type": "code",
   "execution_count": 27,
   "id": "d0afc8e3",
   "metadata": {
    "execution": {
     "iopub.execute_input": "2022-11-11T10:14:57.516945Z",
     "iopub.status.busy": "2022-11-11T10:14:57.514178Z",
     "iopub.status.idle": "2022-11-11T10:14:57.525698Z",
     "shell.execute_reply": "2022-11-11T10:14:57.526148Z"
    },
    "papermill": {
     "duration": 0.060126,
     "end_time": "2022-11-11T10:14:57.526277",
     "exception": false,
     "start_time": "2022-11-11T10:14:57.466151",
     "status": "completed"
    },
    "tags": []
   },
   "outputs": [],
   "source": [
    "model_prob = Model(layers[-2:]) "
   ]
  },
  {
   "cell_type": "code",
   "execution_count": 28,
   "id": "9b96e238",
   "metadata": {
    "execution": {
     "iopub.execute_input": "2022-11-11T10:14:57.620099Z",
     "iopub.status.busy": "2022-11-11T10:14:57.619501Z",
     "iopub.status.idle": "2022-11-11T10:14:57.633229Z",
     "shell.execute_reply": "2022-11-11T10:14:57.633746Z"
    },
    "papermill": {
     "duration": 0.063046,
     "end_time": "2022-11-11T10:14:57.633875",
     "exception": false,
     "start_time": "2022-11-11T10:14:57.570829",
     "status": "completed"
    },
    "tags": []
   },
   "outputs": [],
   "source": [
    "#creating the x and y ranges according to the above generated plot.\n",
    "x_range = np.linspace(-4, 1, 100) \n",
    "y_range = np.linspace(-6, 6, 100) \n",
    "x_grid, y_grid = np.meshgrid(x_range, y_range) # x_grid and y_grig are of size 100 X 100\n",
    "\n",
    "# converting x_grid and y_grid to continuous arrays\n",
    "x_gridflat = np.ravel(x_grid)\n",
    "y_gridflat = np.ravel(y_grid)\n",
    "\n",
    "# The last layer of the current model takes two columns as input. Hence transpose of np.vstack() is required.\n",
    "X = np.vstack((x_gridflat, y_gridflat)).T\n",
    "\n",
    "prob_contour = model_prob(X).reshape(100,100) "
   ]
  },
  {
   "cell_type": "code",
   "execution_count": 29,
   "id": "da72499a",
   "metadata": {
    "execution": {
     "iopub.execute_input": "2022-11-11T10:14:57.734614Z",
     "iopub.status.busy": "2022-11-11T10:14:57.734044Z",
     "iopub.status.idle": "2022-11-11T10:14:57.983052Z",
     "shell.execute_reply": "2022-11-11T10:14:57.983485Z"
    },
    "papermill": {
     "duration": 0.297784,
     "end_time": "2022-11-11T10:14:57.983618",
     "exception": false,
     "start_time": "2022-11-11T10:14:57.685834",
     "status": "completed"
    },
    "tags": []
   },
   "outputs": [
    {
     "data": {
      "image/png": "[encoded data removed]",
      "text/plain": [
       "<Figure size 720x648 with 1 Axes>"
      ]
     },
     "metadata": {
      "needs_background": "light"
     },
     "output_type": "display_data"
    }
   ],
   "source": [
    "plt.figure(figsize=(10,9))\n",
    "plt.scatter(testing_plot[:,0], testing_plot[:,1], alpha = 0.1, c = y_test.ravel())\n",
    "contours = plt.contour(x_grid,y_grid,prob_contour)\n",
    "plt.title('Probability Contours')\n",
    "plt.clabel(contours, inline = True );"
   ]
  },
  {
   "cell_type": "code",
   "execution_count": null,
   "id": "e81b4ac7",
   "metadata": {
    "papermill": {
     "duration": 0.046977,
     "end_time": "2022-11-11T10:14:58.077798",
     "exception": false,
     "start_time": "2022-11-11T10:14:58.030821",
     "status": "completed"
    },
    "tags": []
   },
   "outputs": [],
   "source": []
  }
 ],
 "metadata": {
  "kernelspec": {
   "display_name": "Python 3",
   "language": "python",
   "name": "python3"
  },
  "language_info": {
   "codemirror_mode": {
    "name": "ipython",
    "version": 3
   },
   "file_extension": ".py",
   "mimetype": "text/x-python",
   "name": "python",
   "nbconvert_exporter": "python",
   "pygments_lexer": "ipython3",
   "version": "3.6.15"
  },
  "papermill": {
   "default_parameters": {},
   "duration": 195.823806,
   "end_time": "2022-11-11T10:14:58.542498",
   "environment_variables": {},
   "exception": null,
   "input_path": "2020-08-11-part2.ipynb",
   "output_path": "2020-08-11-part2.ipynb",
   "parameters": {},
   "start_time": "2022-11-11T10:11:42.718692",
   "version": "2.3.3"
  }
 },
 "nbformat": 4,
 "nbformat_minor": 5
}