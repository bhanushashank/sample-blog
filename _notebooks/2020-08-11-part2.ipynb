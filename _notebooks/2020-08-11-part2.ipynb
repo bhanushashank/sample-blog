{
 "cells": [
  {
   "cell_type": "markdown",
   "id": "98380cd3",
   "metadata": {
    "papermill": {
     "duration": 0.035862,
     "end_time": "2022-08-07T10:10:40.086231",
     "exception": false,
     "start_time": "2022-08-07T10:10:40.050369",
     "status": "completed"
    },
    "tags": []
   },
   "source": [
    "# Distinguish Your Own Digits (DYOD)"
   ]
  },
  {
   "cell_type": "markdown",
   "id": "ef31240d",
   "metadata": {
    "papermill": {
     "duration": 0.027089,
     "end_time": "2022-08-07T10:10:40.140966",
     "exception": false,
     "start_time": "2022-08-07T10:10:40.113877",
     "status": "completed"
    },
    "tags": []
   },
   "source": [
    "You are going to write a classifier that distinguishes between the number 3 and number 8."
   ]
  },
  {
   "cell_type": "code",
   "execution_count": 1,
   "id": "b15c8646",
   "metadata": {
    "execution": {
     "iopub.execute_input": "2022-08-07T10:10:40.206601Z",
     "iopub.status.busy": "2022-08-07T10:10:40.205887Z",
     "iopub.status.idle": "2022-08-07T10:10:40.218439Z",
     "shell.execute_reply": "2022-08-07T10:10:40.218946Z"
    },
    "papermill": {
     "duration": 0.051491,
     "end_time": "2022-08-07T10:10:40.219124",
     "exception": false,
     "start_time": "2022-08-07T10:10:40.167633",
     "status": "completed"
    },
    "tags": []
   },
   "outputs": [],
   "source": [
    "%load_ext autoreload\n",
    "%autoreload 2"
   ]
  },
  {
   "cell_type": "code",
   "execution_count": 2,
   "id": "22ef38dc",
   "metadata": {
    "execution": {
     "iopub.execute_input": "2022-08-07T10:10:40.276790Z",
     "iopub.status.busy": "2022-08-07T10:10:40.276089Z",
     "iopub.status.idle": "2022-08-07T10:10:40.899571Z",
     "shell.execute_reply": "2022-08-07T10:10:40.898196Z"
    },
    "papermill": {
     "duration": 0.654009,
     "end_time": "2022-08-07T10:10:40.899722",
     "exception": false,
     "start_time": "2022-08-07T10:10:40.245713",
     "status": "completed"
    },
    "tags": []
   },
   "outputs": [],
   "source": [
    "%matplotlib inline\n",
    "import numpy as np\n",
    "import matplotlib.pyplot as plt\n",
    "import pandas as pd"
   ]
  },
  {
   "cell_type": "markdown",
   "id": "ba036198",
   "metadata": {
    "papermill": {
     "duration": 0.02664,
     "end_time": "2022-08-07T10:10:40.953422",
     "exception": false,
     "start_time": "2022-08-07T10:10:40.926782",
     "status": "completed"
    },
    "tags": []
   },
   "source": [
    "From the command line run `pip install mnist`. This is a library that will help you bring down the mnist dataset. If you run this from a notebook, you need to put  `!pip install mnist` in a cell by itself."
   ]
  },
  {
   "cell_type": "code",
   "execution_count": 3,
   "id": "bb6ad8a1",
   "metadata": {
    "execution": {
     "iopub.execute_input": "2022-08-07T10:10:41.013967Z",
     "iopub.status.busy": "2022-08-07T10:10:41.010610Z",
     "iopub.status.idle": "2022-08-07T10:10:43.726359Z",
     "shell.execute_reply": "2022-08-07T10:10:43.725738Z"
    },
    "papermill": {
     "duration": 2.746688,
     "end_time": "2022-08-07T10:10:43.726495",
     "exception": false,
     "start_time": "2022-08-07T10:10:40.979807",
     "status": "completed"
    },
    "tags": []
   },
   "outputs": [
    {
     "name": "stdout",
     "output_type": "stream",
     "text": [
      "Collecting mnist\r\n",
      "  Downloading mnist-0.2.2-py2.py3-none-any.whl (3.5 kB)\r\n"
     ]
    },
    {
     "name": "stdout",
     "output_type": "stream",
     "text": [
      "Requirement already satisfied: numpy in /opt/hostedtoolcache/Python/3.6.15/x64/lib/python3.6/site-packages (from mnist) (1.19.5)\r\n"
     ]
    },
    {
     "name": "stdout",
     "output_type": "stream",
     "text": [
      "Installing collected packages: mnist\r\n"
     ]
    },
    {
     "name": "stdout",
     "output_type": "stream",
     "text": [
      "Successfully installed mnist-0.2.2\r\n"
     ]
    }
   ],
   "source": [
    "!pip install mnist"
   ]
  },
  {
   "cell_type": "markdown",
   "id": "69df9c9a",
   "metadata": {
    "papermill": {
     "duration": 0.02784,
     "end_time": "2022-08-07T10:10:43.785221",
     "exception": false,
     "start_time": "2022-08-07T10:10:43.757381",
     "status": "completed"
    },
    "tags": []
   },
   "source": [
    "## Preparing the Data"
   ]
  },
  {
   "cell_type": "code",
   "execution_count": 4,
   "id": "7f69d806",
   "metadata": {
    "execution": {
     "iopub.execute_input": "2022-08-07T10:10:43.853050Z",
     "iopub.status.busy": "2022-08-07T10:10:43.846133Z",
     "iopub.status.idle": "2022-08-07T10:10:43.865264Z",
     "shell.execute_reply": "2022-08-07T10:10:43.865833Z"
    },
    "papermill": {
     "duration": 0.051965,
     "end_time": "2022-08-07T10:10:43.865986",
     "exception": false,
     "start_time": "2022-08-07T10:10:43.814021",
     "status": "completed"
    },
    "tags": []
   },
   "outputs": [],
   "source": [
    "import mnist"
   ]
  },
  {
   "cell_type": "code",
   "execution_count": 5,
   "id": "a411e44f",
   "metadata": {
    "execution": {
     "iopub.execute_input": "2022-08-07T10:10:43.926428Z",
     "iopub.status.busy": "2022-08-07T10:10:43.925741Z",
     "iopub.status.idle": "2022-08-07T10:10:44.516093Z",
     "shell.execute_reply": "2022-08-07T10:10:44.514654Z"
    },
    "papermill": {
     "duration": 0.622131,
     "end_time": "2022-08-07T10:10:44.516244",
     "exception": false,
     "start_time": "2022-08-07T10:10:43.894113",
     "status": "completed"
    },
    "tags": []
   },
   "outputs": [],
   "source": [
    "train_images = mnist.train_images()\n",
    "train_labels = mnist.train_labels()"
   ]
  },
  {
   "cell_type": "code",
   "execution_count": 6,
   "id": "dceab3a5",
   "metadata": {
    "execution": {
     "iopub.execute_input": "2022-08-07T10:10:44.579684Z",
     "iopub.status.busy": "2022-08-07T10:10:44.578122Z",
     "iopub.status.idle": "2022-08-07T10:10:44.595221Z",
     "shell.execute_reply": "2022-08-07T10:10:44.594562Z"
    },
    "papermill": {
     "duration": 0.049562,
     "end_time": "2022-08-07T10:10:44.595345",
     "exception": false,
     "start_time": "2022-08-07T10:10:44.545783",
     "status": "completed"
    },
    "tags": []
   },
   "outputs": [
    {
     "data": {
      "text/plain": [
       "((60000, 28, 28), (60000,))"
      ]
     },
     "execution_count": 6,
     "metadata": {},
     "output_type": "execute_result"
    }
   ],
   "source": [
    "train_images.shape, train_labels.shape"
   ]
  },
  {
   "cell_type": "code",
   "execution_count": 7,
   "id": "f50dc2bb",
   "metadata": {
    "execution": {
     "iopub.execute_input": "2022-08-07T10:10:44.661179Z",
     "iopub.status.busy": "2022-08-07T10:10:44.660483Z",
     "iopub.status.idle": "2022-08-07T10:10:44.851366Z",
     "shell.execute_reply": "2022-08-07T10:10:44.850652Z"
    },
    "papermill": {
     "duration": 0.223952,
     "end_time": "2022-08-07T10:10:44.851522",
     "exception": false,
     "start_time": "2022-08-07T10:10:44.627570",
     "status": "completed"
    },
    "tags": []
   },
   "outputs": [],
   "source": [
    "test_images = mnist.test_images()\n",
    "test_labels = mnist.test_labels()"
   ]
  },
  {
   "cell_type": "code",
   "execution_count": 8,
   "id": "fc38cf1b",
   "metadata": {
    "execution": {
     "iopub.execute_input": "2022-08-07T10:10:44.912825Z",
     "iopub.status.busy": "2022-08-07T10:10:44.912111Z",
     "iopub.status.idle": "2022-08-07T10:10:44.928203Z",
     "shell.execute_reply": "2022-08-07T10:10:44.928792Z"
    },
    "papermill": {
     "duration": 0.048354,
     "end_time": "2022-08-07T10:10:44.928941",
     "exception": false,
     "start_time": "2022-08-07T10:10:44.880587",
     "status": "completed"
    },
    "tags": []
   },
   "outputs": [
    {
     "data": {
      "text/plain": [
       "((10000, 28, 28), (10000,))"
      ]
     },
     "execution_count": 8,
     "metadata": {},
     "output_type": "execute_result"
    }
   ],
   "source": [
    "test_images.shape, test_labels.shape"
   ]
  },
  {
   "cell_type": "code",
   "execution_count": 9,
   "id": "f9ed8fe0",
   "metadata": {
    "execution": {
     "iopub.execute_input": "2022-08-07T10:10:44.990458Z",
     "iopub.status.busy": "2022-08-07T10:10:44.989777Z",
     "iopub.status.idle": "2022-08-07T10:10:45.167548Z",
     "shell.execute_reply": "2022-08-07T10:10:45.166678Z"
    },
    "papermill": {
     "duration": 0.210176,
     "end_time": "2022-08-07T10:10:45.167692",
     "exception": false,
     "start_time": "2022-08-07T10:10:44.957516",
     "status": "completed"
    },
    "tags": []
   },
   "outputs": [
    {
     "name": "stdout",
     "output_type": "stream",
     "text": [
      "2\n"
     ]
    },
    {
     "data": {
      "text/plain": [
       "<matplotlib.image.AxesImage at 0x7f45f6db74e0>"
      ]
     },
     "execution_count": 9,
     "metadata": {},
     "output_type": "execute_result"
    },
    {
     "data": {
      "image/png": "[encoded data removed]",
      "text/plain": [
       "<Figure size 432x288 with 1 Axes>"
      ]
     },
     "metadata": {
      "needs_background": "light"
     },
     "output_type": "display_data"
    }
   ],
   "source": [
    "image_index = 7776 # You may select anything up to 60,000\n",
    "print(train_labels[image_index]) \n",
    "plt.imshow(train_images[image_index], cmap='Greys')"
   ]
  },
  {
   "cell_type": "markdown",
   "id": "a8d2388d",
   "metadata": {
    "papermill": {
     "duration": 0.030615,
     "end_time": "2022-08-07T10:10:45.229649",
     "exception": false,
     "start_time": "2022-08-07T10:10:45.199034",
     "status": "completed"
    },
    "tags": []
   },
   "source": [
    "## Filter data to get 3 and 8 out"
   ]
  },
  {
   "cell_type": "code",
   "execution_count": 10,
   "id": "776f7fc7",
   "metadata": {
    "execution": {
     "iopub.execute_input": "2022-08-07T10:10:45.305338Z",
     "iopub.status.busy": "2022-08-07T10:10:45.297322Z",
     "iopub.status.idle": "2022-08-07T10:10:45.313686Z",
     "shell.execute_reply": "2022-08-07T10:10:45.314215Z"
    },
    "papermill": {
     "duration": 0.054589,
     "end_time": "2022-08-07T10:10:45.314356",
     "exception": false,
     "start_time": "2022-08-07T10:10:45.259767",
     "status": "completed"
    },
    "tags": []
   },
   "outputs": [],
   "source": [
    "train_filter = np.where((train_labels == 3 ) | (train_labels == 8))\n",
    "test_filter = np.where((test_labels == 3) | (test_labels == 8))\n",
    "X_train, y_train = train_images[train_filter], train_labels[train_filter]\n",
    "X_test, y_test = test_images[test_filter], test_labels[test_filter]"
   ]
  },
  {
   "cell_type": "markdown",
   "id": "948f0b7e",
   "metadata": {
    "papermill": {
     "duration": 0.030554,
     "end_time": "2022-08-07T10:10:45.375150",
     "exception": false,
     "start_time": "2022-08-07T10:10:45.344596",
     "status": "completed"
    },
    "tags": []
   },
   "source": [
    "We normalize the pizel values in the 0 to 1 range"
   ]
  },
  {
   "cell_type": "code",
   "execution_count": 11,
   "id": "ee4c2166",
   "metadata": {
    "execution": {
     "iopub.execute_input": "2022-08-07T10:10:45.439591Z",
     "iopub.status.busy": "2022-08-07T10:10:45.438929Z",
     "iopub.status.idle": "2022-08-07T10:10:45.490477Z",
     "shell.execute_reply": "2022-08-07T10:10:45.489767Z"
    },
    "papermill": {
     "duration": 0.08547,
     "end_time": "2022-08-07T10:10:45.490633",
     "exception": false,
     "start_time": "2022-08-07T10:10:45.405163",
     "status": "completed"
    },
    "tags": []
   },
   "outputs": [],
   "source": [
    "X_train = X_train/255.\n",
    "X_test = X_test/255."
   ]
  },
  {
   "cell_type": "markdown",
   "id": "ddcf4fab",
   "metadata": {
    "papermill": {
     "duration": 0.030734,
     "end_time": "2022-08-07T10:10:45.552873",
     "exception": false,
     "start_time": "2022-08-07T10:10:45.522139",
     "status": "completed"
    },
    "tags": []
   },
   "source": [
    "And setup the labels as 1 (when the digit is 3) and 0 (when the digit is 8)"
   ]
  },
  {
   "cell_type": "code",
   "execution_count": 12,
   "id": "7dc908f2",
   "metadata": {
    "execution": {
     "iopub.execute_input": "2022-08-07T10:10:45.623634Z",
     "iopub.status.busy": "2022-08-07T10:10:45.622842Z",
     "iopub.status.idle": "2022-08-07T10:10:45.636231Z",
     "shell.execute_reply": "2022-08-07T10:10:45.636770Z"
    },
    "papermill": {
     "duration": 0.054143,
     "end_time": "2022-08-07T10:10:45.636927",
     "exception": false,
     "start_time": "2022-08-07T10:10:45.582784",
     "status": "completed"
    },
    "tags": []
   },
   "outputs": [],
   "source": [
    "y_train = 1*(y_train==3)\n",
    "y_test = 1*(y_test==3)"
   ]
  },
  {
   "cell_type": "code",
   "execution_count": 13,
   "id": "01e4e969",
   "metadata": {
    "execution": {
     "iopub.execute_input": "2022-08-07T10:10:45.700613Z",
     "iopub.status.busy": "2022-08-07T10:10:45.699909Z",
     "iopub.status.idle": "2022-08-07T10:10:45.716524Z",
     "shell.execute_reply": "2022-08-07T10:10:45.715941Z"
    },
    "papermill": {
     "duration": 0.050075,
     "end_time": "2022-08-07T10:10:45.716650",
     "exception": false,
     "start_time": "2022-08-07T10:10:45.666575",
     "status": "completed"
    },
    "tags": []
   },
   "outputs": [
    {
     "data": {
      "text/plain": [
       "((11982, 28, 28), (1984, 28, 28))"
      ]
     },
     "execution_count": 13,
     "metadata": {},
     "output_type": "execute_result"
    }
   ],
   "source": [
    "X_train.shape, X_test.shape"
   ]
  },
  {
   "cell_type": "markdown",
   "id": "5ccf3f85",
   "metadata": {
    "papermill": {
     "duration": 0.029632,
     "end_time": "2022-08-07T10:10:45.775933",
     "exception": false,
     "start_time": "2022-08-07T10:10:45.746301",
     "status": "completed"
    },
    "tags": []
   },
   "source": [
    "We reshape the data to flatten the image pixels into a set of features or co-variates:"
   ]
  },
  {
   "cell_type": "code",
   "execution_count": 14,
   "id": "5286a4a3",
   "metadata": {
    "execution": {
     "iopub.execute_input": "2022-08-07T10:10:45.840702Z",
     "iopub.status.busy": "2022-08-07T10:10:45.839997Z",
     "iopub.status.idle": "2022-08-07T10:10:45.855617Z",
     "shell.execute_reply": "2022-08-07T10:10:45.856112Z"
    },
    "papermill": {
     "duration": 0.050426,
     "end_time": "2022-08-07T10:10:45.856253",
     "exception": false,
     "start_time": "2022-08-07T10:10:45.805827",
     "status": "completed"
    },
    "tags": []
   },
   "outputs": [
    {
     "data": {
      "text/plain": [
       "((11982, 784), (1984, 784))"
      ]
     },
     "execution_count": 14,
     "metadata": {},
     "output_type": "execute_result"
    }
   ],
   "source": [
    "X_train = X_train.reshape(X_train.shape[0], -1)\n",
    "X_test = X_test.reshape(X_test.shape[0], -1)\n",
    "X_train.shape, X_test.shape"
   ]
  },
  {
   "cell_type": "code",
   "execution_count": 15,
   "id": "73c5f88a",
   "metadata": {
    "execution": {
     "iopub.execute_input": "2022-08-07T10:10:45.924654Z",
     "iopub.status.busy": "2022-08-07T10:10:45.923935Z",
     "iopub.status.idle": "2022-08-07T10:10:45.945131Z",
     "shell.execute_reply": "2022-08-07T10:10:45.945748Z"
    },
    "papermill": {
     "duration": 0.059519,
     "end_time": "2022-08-07T10:10:45.945900",
     "exception": false,
     "start_time": "2022-08-07T10:10:45.886381",
     "status": "completed"
    },
    "tags": []
   },
   "outputs": [],
   "source": [
    "#Impoting functions from 'Kudzu'\n",
    "from kudzu.model import Model\n",
    "from kudzu.train import Learner\n",
    "from kudzu.optim import GD\n",
    "from kudzu.data import Data, Sampler,Dataloader\n",
    "\n",
    "from kudzu.callbacks import AccCallback\n",
    "from kudzu.callbacks import ClfCallback\n",
    "\n",
    "from kudzu.loss import MSE\n",
    "\n",
    "from kudzu.layer import Sigmoid,Relu\n",
    "from kudzu.layer import Affine"
   ]
  },
  {
   "cell_type": "markdown",
   "id": "bc01172a",
   "metadata": {
    "papermill": {
     "duration": 0.029986,
     "end_time": "2022-08-07T10:10:46.008961",
     "exception": false,
     "start_time": "2022-08-07T10:10:45.978975",
     "status": "completed"
    },
    "tags": []
   },
   "source": [
    "### Let us create a `Config` class, to store important parameters. \n",
    "This class essentially plays the role of a dictionary."
   ]
  },
  {
   "cell_type": "code",
   "execution_count": 16,
   "id": "978281aa",
   "metadata": {
    "execution": {
     "iopub.execute_input": "2022-08-07T10:10:46.076135Z",
     "iopub.status.busy": "2022-08-07T10:10:46.075448Z",
     "iopub.status.idle": "2022-08-07T10:10:46.089299Z",
     "shell.execute_reply": "2022-08-07T10:10:46.088742Z"
    },
    "papermill": {
     "duration": 0.050491,
     "end_time": "2022-08-07T10:10:46.089420",
     "exception": false,
     "start_time": "2022-08-07T10:10:46.038929",
     "status": "completed"
    },
    "tags": []
   },
   "outputs": [],
   "source": [
    "class Config:\n",
    "    pass\n",
    "config = Config()\n",
    "config.lr = 0.001\n",
    "config.num_epochs = 250\n",
    "config.bs = 50"
   ]
  },
  {
   "cell_type": "markdown",
   "id": "1385fa59",
   "metadata": {
    "papermill": {
     "duration": 0.029898,
     "end_time": "2022-08-07T10:10:46.149518",
     "exception": false,
     "start_time": "2022-08-07T10:10:46.119620",
     "status": "completed"
    },
    "tags": []
   },
   "source": [
    "### Running Models with the Training data\n",
    "Details about the network layers:\n",
    "- A first affine layer has 784 inputs and does 100 affine transforms. These are followed by a Relu\n",
    "- A second affine layer has 100 inputs from the 100 activations of the past layer, and does 100 affine transforms. These are followed by a Relu\n",
    "- A third affine layer has 100 activations and does 2 affine transformations to create an embedding for visualization. There is no non-linearity here.\n",
    "- A final \"logistic regression\" which has an affine transform from 2 inputs to 1 output, which is squeezed through a sigmoid.\n"
   ]
  },
  {
   "cell_type": "code",
   "execution_count": 17,
   "id": "2b9c66db",
   "metadata": {
    "execution": {
     "iopub.execute_input": "2022-08-07T10:10:46.215408Z",
     "iopub.status.busy": "2022-08-07T10:10:46.214715Z",
     "iopub.status.idle": "2022-08-07T10:10:46.230259Z",
     "shell.execute_reply": "2022-08-07T10:10:46.231159Z"
    },
    "papermill": {
     "duration": 0.0517,
     "end_time": "2022-08-07T10:10:46.231301",
     "exception": false,
     "start_time": "2022-08-07T10:10:46.179601",
     "status": "completed"
    },
    "tags": []
   },
   "outputs": [],
   "source": [
    "data = Data(X_train, y_train.reshape(-1,1))\n",
    "sampler = Sampler(data, config.bs, shuffle=True)\n",
    "\n",
    "dl = Dataloader(data, sampler)\n",
    "\n",
    "opt = GD(config.lr)\n",
    "loss = MSE()"
   ]
  },
  {
   "cell_type": "code",
   "execution_count": 18,
   "id": "b275e4c2",
   "metadata": {
    "execution": {
     "iopub.execute_input": "2022-08-07T10:10:46.306019Z",
     "iopub.status.busy": "2022-08-07T10:10:46.305332Z",
     "iopub.status.idle": "2022-08-07T10:10:46.312707Z",
     "shell.execute_reply": "2022-08-07T10:10:46.312134Z"
    },
    "papermill": {
     "duration": 0.051405,
     "end_time": "2022-08-07T10:10:46.312828",
     "exception": false,
     "start_time": "2022-08-07T10:10:46.261423",
     "status": "completed"
    },
    "tags": []
   },
   "outputs": [],
   "source": [
    "training_data_x = X_train\n",
    "testing_data_x = X_test\n",
    "training_data_y = y_train.reshape(-1,1)\n",
    "testing_data_y = y_test.reshape(-1,1)"
   ]
  },
  {
   "cell_type": "code",
   "execution_count": 19,
   "id": "76951160",
   "metadata": {
    "execution": {
     "iopub.execute_input": "2022-08-07T10:10:46.379558Z",
     "iopub.status.busy": "2022-08-07T10:10:46.378879Z",
     "iopub.status.idle": "2022-08-07T10:10:46.397481Z",
     "shell.execute_reply": "2022-08-07T10:10:46.396820Z"
    },
    "papermill": {
     "duration": 0.054845,
     "end_time": "2022-08-07T10:10:46.397599",
     "exception": false,
     "start_time": "2022-08-07T10:10:46.342754",
     "status": "completed"
    },
    "tags": []
   },
   "outputs": [
    {
     "name": "stdout",
     "output_type": "stream",
     "text": [
      "xavier\n",
      "xavier\n",
      "xavier\n",
      "xavier\n",
      "xavier\n"
     ]
    }
   ],
   "source": [
    "layers = [Affine(\"first\", 784, 100), Relu(\"first\"), Affine(\"second\", 100, 100), Relu(\"second\"), Affine(\"third\", 100, 2), Affine(\"last\", 2, 1), Sigmoid(\"last\")]\n",
    "model_nn = Model(layers)\n",
    "model_lr = Model([Affine(\"logits\", 784, 1), Sigmoid(\"sigmoid\")])"
   ]
  },
  {
   "cell_type": "code",
   "execution_count": 20,
   "id": "6eede77a",
   "metadata": {
    "execution": {
     "iopub.execute_input": "2022-08-07T10:10:46.463129Z",
     "iopub.status.busy": "2022-08-07T10:10:46.462464Z",
     "iopub.status.idle": "2022-08-07T10:10:46.477411Z",
     "shell.execute_reply": "2022-08-07T10:10:46.476831Z"
    },
    "papermill": {
     "duration": 0.049643,
     "end_time": "2022-08-07T10:10:46.477532",
     "exception": false,
     "start_time": "2022-08-07T10:10:46.427889",
     "status": "completed"
    },
    "tags": []
   },
   "outputs": [],
   "source": [
    "nn_learner = Learner(loss, model_nn, opt, config.num_epochs)\n",
    "acc_nn = ClfCallback(nn_learner, config.bs, training_data_x , testing_data_x, training_data_y, testing_data_y)\n",
    "nn_learner.set_callbacks([acc_nn])"
   ]
  },
  {
   "cell_type": "code",
   "execution_count": 21,
   "id": "877b6cc7",
   "metadata": {
    "execution": {
     "iopub.execute_input": "2022-08-07T10:10:46.542870Z",
     "iopub.status.busy": "2022-08-07T10:10:46.542198Z",
     "iopub.status.idle": "2022-08-07T10:10:46.557310Z",
     "shell.execute_reply": "2022-08-07T10:10:46.556510Z"
    },
    "papermill": {
     "duration": 0.049287,
     "end_time": "2022-08-07T10:10:46.557430",
     "exception": false,
     "start_time": "2022-08-07T10:10:46.508143",
     "status": "completed"
    },
    "tags": []
   },
   "outputs": [],
   "source": [
    "lr_learner = Learner(loss, model_lr, opt, config.num_epochs)\n",
    "acc_lr = ClfCallback(lr_learner, config.bs, training_data_x , testing_data_x, training_data_y, testing_data_y)\n",
    "lr_learner.set_callbacks([acc_lr])"
   ]
  },
  {
   "cell_type": "code",
   "execution_count": 22,
   "id": "d9b133c3",
   "metadata": {
    "execution": {
     "iopub.execute_input": "2022-08-07T10:10:46.625880Z",
     "iopub.status.busy": "2022-08-07T10:10:46.625200Z",
     "iopub.status.idle": "2022-08-07T10:12:15.545749Z",
     "shell.execute_reply": "2022-08-07T10:12:15.546408Z"
    },
    "papermill": {
     "duration": 88.95686,
     "end_time": "2022-08-07T10:12:15.546570",
     "exception": false,
     "start_time": "2022-08-07T10:10:46.589710",
     "status": "completed"
    },
    "tags": []
   },
   "outputs": [
    {
     "name": "stdout",
     "output_type": "stream",
     "text": [
      "Epoch 0, Loss 0.2527\n",
      "Training Accuracy: 0.4937, Testing Accuracy: 0.4934\n",
      "\n"
     ]
    },
    {
     "name": "stdout",
     "output_type": "stream",
     "text": [
      "Epoch 10, Loss 0.219\n",
      "Training Accuracy: 0.8320, Testing Accuracy: 0.8594\n",
      "\n"
     ]
    },
    {
     "name": "stdout",
     "output_type": "stream",
     "text": [
      "Epoch 20, Loss 0.123\n",
      "Training Accuracy: 0.9097, Testing Accuracy: 0.9254\n",
      "\n"
     ]
    },
    {
     "name": "stdout",
     "output_type": "stream",
     "text": [
      "Epoch 30, Loss 0.0682\n",
      "Training Accuracy: 0.9311, Testing Accuracy: 0.9430\n",
      "\n"
     ]
    },
    {
     "name": "stdout",
     "output_type": "stream",
     "text": [
      "Epoch 40, Loss 0.051\n",
      "Training Accuracy: 0.9437, Testing Accuracy: 0.9541\n",
      "\n"
     ]
    },
    {
     "name": "stdout",
     "output_type": "stream",
     "text": [
      "Epoch 50, Loss 0.043\n",
      "Training Accuracy: 0.9511, Testing Accuracy: 0.9587\n",
      "\n"
     ]
    },
    {
     "name": "stdout",
     "output_type": "stream",
     "text": [
      "Epoch 60, Loss 0.0384\n",
      "Training Accuracy: 0.9559, Testing Accuracy: 0.9612\n",
      "\n"
     ]
    },
    {
     "name": "stdout",
     "output_type": "stream",
     "text": [
      "Epoch 70, Loss 0.0353\n",
      "Training Accuracy: 0.9596, Testing Accuracy: 0.9627\n",
      "\n"
     ]
    },
    {
     "name": "stdout",
     "output_type": "stream",
     "text": [
      "Epoch 80, Loss 0.033\n",
      "Training Accuracy: 0.9620, Testing Accuracy: 0.9642\n",
      "\n"
     ]
    },
    {
     "name": "stdout",
     "output_type": "stream",
     "text": [
      "Epoch 90, Loss 0.0313\n",
      "Training Accuracy: 0.9638, Testing Accuracy: 0.9667\n",
      "\n"
     ]
    },
    {
     "name": "stdout",
     "output_type": "stream",
     "text": [
      "Epoch 100, Loss 0.0298\n",
      "Training Accuracy: 0.9654, Testing Accuracy: 0.9677\n",
      "\n"
     ]
    },
    {
     "name": "stdout",
     "output_type": "stream",
     "text": [
      "Epoch 110, Loss 0.0286\n",
      "Training Accuracy: 0.9669, Testing Accuracy: 0.9682\n",
      "\n"
     ]
    },
    {
     "name": "stdout",
     "output_type": "stream",
     "text": [
      "Epoch 120, Loss 0.0276\n",
      "Training Accuracy: 0.9685, Testing Accuracy: 0.9682\n",
      "\n"
     ]
    },
    {
     "name": "stdout",
     "output_type": "stream",
     "text": [
      "Epoch 130, Loss 0.0266\n",
      "Training Accuracy: 0.9694, Testing Accuracy: 0.9688\n",
      "\n"
     ]
    },
    {
     "name": "stdout",
     "output_type": "stream",
     "text": [
      "Epoch 140, Loss 0.0258\n",
      "Training Accuracy: 0.9700, Testing Accuracy: 0.9698\n",
      "\n"
     ]
    },
    {
     "name": "stdout",
     "output_type": "stream",
     "text": [
      "Epoch 150, Loss 0.0251\n",
      "Training Accuracy: 0.9709, Testing Accuracy: 0.9698\n",
      "\n"
     ]
    },
    {
     "name": "stdout",
     "output_type": "stream",
     "text": [
      "Epoch 160, Loss 0.0244\n",
      "Training Accuracy: 0.9718, Testing Accuracy: 0.9703\n",
      "\n"
     ]
    },
    {
     "name": "stdout",
     "output_type": "stream",
     "text": [
      "Epoch 170, Loss 0.0238\n",
      "Training Accuracy: 0.9725, Testing Accuracy: 0.9713\n",
      "\n"
     ]
    },
    {
     "name": "stdout",
     "output_type": "stream",
     "text": [
      "Epoch 180, Loss 0.0232\n",
      "Training Accuracy: 0.9732, Testing Accuracy: 0.9723\n",
      "\n"
     ]
    },
    {
     "name": "stdout",
     "output_type": "stream",
     "text": [
      "Epoch 190, Loss 0.0226\n",
      "Training Accuracy: 0.9739, Testing Accuracy: 0.9728\n",
      "\n"
     ]
    },
    {
     "name": "stdout",
     "output_type": "stream",
     "text": [
      "Epoch 200, Loss 0.0221\n",
      "Training Accuracy: 0.9746, Testing Accuracy: 0.9723\n",
      "\n"
     ]
    },
    {
     "name": "stdout",
     "output_type": "stream",
     "text": [
      "Epoch 210, Loss 0.0216\n",
      "Training Accuracy: 0.9753, Testing Accuracy: 0.9723\n",
      "\n"
     ]
    },
    {
     "name": "stdout",
     "output_type": "stream",
     "text": [
      "Epoch 220, Loss 0.0212\n",
      "Training Accuracy: 0.9757, Testing Accuracy: 0.9723\n",
      "\n"
     ]
    },
    {
     "name": "stdout",
     "output_type": "stream",
     "text": [
      "Epoch 230, Loss 0.0208\n",
      "Training Accuracy: 0.9762, Testing Accuracy: 0.9723\n",
      "\n"
     ]
    },
    {
     "name": "stdout",
     "output_type": "stream",
     "text": [
      "Epoch 240, Loss 0.0203\n",
      "Training Accuracy: 0.9770, Testing Accuracy: 0.9733\n",
      "\n"
     ]
    },
    {
     "data": {
      "text/plain": [
       "0.01647018298817636"
      ]
     },
     "execution_count": 22,
     "metadata": {},
     "output_type": "execute_result"
    }
   ],
   "source": [
    "nn_learner.train_loop(dl)"
   ]
  },
  {
   "cell_type": "code",
   "execution_count": 23,
   "id": "e0163366",
   "metadata": {
    "execution": {
     "iopub.execute_input": "2022-08-07T10:12:15.631887Z",
     "iopub.status.busy": "2022-08-07T10:12:15.631203Z",
     "iopub.status.idle": "2022-08-07T10:12:31.444332Z",
     "shell.execute_reply": "2022-08-07T10:12:31.445329Z"
    },
    "papermill": {
     "duration": 15.860413,
     "end_time": "2022-08-07T10:12:31.445498",
     "exception": false,
     "start_time": "2022-08-07T10:12:15.585085",
     "status": "completed"
    },
    "tags": []
   },
   "outputs": [
    {
     "name": "stdout",
     "output_type": "stream",
     "text": [
      "Epoch 0, Loss 0.2403\n",
      "Training Accuracy: 0.7143, Testing Accuracy: 0.7203\n",
      "\n"
     ]
    },
    {
     "name": "stdout",
     "output_type": "stream",
     "text": [
      "Epoch 10, Loss 0.0981\n",
      "Training Accuracy: 0.9248, Testing Accuracy: 0.9335\n",
      "\n"
     ]
    },
    {
     "name": "stdout",
     "output_type": "stream",
     "text": [
      "Epoch 20, Loss 0.0763\n",
      "Training Accuracy: 0.9347, Testing Accuracy: 0.9435\n",
      "\n"
     ]
    },
    {
     "name": "stdout",
     "output_type": "stream",
     "text": [
      "Epoch 30, Loss 0.0663\n",
      "Training Accuracy: 0.9412, Testing Accuracy: 0.9481\n",
      "\n"
     ]
    },
    {
     "name": "stdout",
     "output_type": "stream",
     "text": [
      "Epoch 40, Loss 0.0602\n",
      "Training Accuracy: 0.9439, Testing Accuracy: 0.9531\n",
      "\n"
     ]
    },
    {
     "name": "stdout",
     "output_type": "stream",
     "text": [
      "Epoch 50, Loss 0.056\n",
      "Training Accuracy: 0.9457, Testing Accuracy: 0.9551\n",
      "\n"
     ]
    },
    {
     "name": "stdout",
     "output_type": "stream",
     "text": [
      "Epoch 60, Loss 0.053\n",
      "Training Accuracy: 0.9478, Testing Accuracy: 0.9567\n",
      "\n"
     ]
    },
    {
     "name": "stdout",
     "output_type": "stream",
     "text": [
      "Epoch 70, Loss 0.0506\n",
      "Training Accuracy: 0.9490, Testing Accuracy: 0.9577\n",
      "\n"
     ]
    },
    {
     "name": "stdout",
     "output_type": "stream",
     "text": [
      "Epoch 80, Loss 0.0486\n",
      "Training Accuracy: 0.9503, Testing Accuracy: 0.9592\n",
      "\n"
     ]
    },
    {
     "name": "stdout",
     "output_type": "stream",
     "text": [
      "Epoch 90, Loss 0.047\n",
      "Training Accuracy: 0.9514, Testing Accuracy: 0.9607\n",
      "\n"
     ]
    },
    {
     "name": "stdout",
     "output_type": "stream",
     "text": [
      "Epoch 100, Loss 0.0457\n",
      "Training Accuracy: 0.9536, Testing Accuracy: 0.9612\n",
      "\n"
     ]
    },
    {
     "name": "stdout",
     "output_type": "stream",
     "text": [
      "Epoch 110, Loss 0.0445\n",
      "Training Accuracy: 0.9547, Testing Accuracy: 0.9612\n",
      "\n"
     ]
    },
    {
     "name": "stdout",
     "output_type": "stream",
     "text": [
      "Epoch 120, Loss 0.0435\n",
      "Training Accuracy: 0.9550, Testing Accuracy: 0.9617\n",
      "\n"
     ]
    },
    {
     "name": "stdout",
     "output_type": "stream",
     "text": [
      "Epoch 130, Loss 0.0427\n",
      "Training Accuracy: 0.9553, Testing Accuracy: 0.9612\n",
      "\n"
     ]
    },
    {
     "name": "stdout",
     "output_type": "stream",
     "text": [
      "Epoch 140, Loss 0.0419\n",
      "Training Accuracy: 0.9560, Testing Accuracy: 0.9617\n",
      "\n"
     ]
    },
    {
     "name": "stdout",
     "output_type": "stream",
     "text": [
      "Epoch 150, Loss 0.0411\n",
      "Training Accuracy: 0.9566, Testing Accuracy: 0.9627\n",
      "\n"
     ]
    },
    {
     "name": "stdout",
     "output_type": "stream",
     "text": [
      "Epoch 160, Loss 0.0405\n",
      "Training Accuracy: 0.9571, Testing Accuracy: 0.9627\n",
      "\n"
     ]
    },
    {
     "name": "stdout",
     "output_type": "stream",
     "text": [
      "Epoch 170, Loss 0.0399\n",
      "Training Accuracy: 0.9576, Testing Accuracy: 0.9627\n",
      "\n"
     ]
    },
    {
     "name": "stdout",
     "output_type": "stream",
     "text": [
      "Epoch 180, Loss 0.0394\n",
      "Training Accuracy: 0.9579, Testing Accuracy: 0.9637\n",
      "\n"
     ]
    },
    {
     "name": "stdout",
     "output_type": "stream",
     "text": [
      "Epoch 190, Loss 0.0389\n",
      "Training Accuracy: 0.9582, Testing Accuracy: 0.9642\n",
      "\n"
     ]
    },
    {
     "name": "stdout",
     "output_type": "stream",
     "text": [
      "Epoch 200, Loss 0.0384\n",
      "Training Accuracy: 0.9587, Testing Accuracy: 0.9652\n",
      "\n"
     ]
    },
    {
     "name": "stdout",
     "output_type": "stream",
     "text": [
      "Epoch 210, Loss 0.038\n",
      "Training Accuracy: 0.9589, Testing Accuracy: 0.9652\n",
      "\n"
     ]
    },
    {
     "name": "stdout",
     "output_type": "stream",
     "text": [
      "Epoch 220, Loss 0.0376\n",
      "Training Accuracy: 0.9599, Testing Accuracy: 0.9662\n",
      "\n"
     ]
    },
    {
     "name": "stdout",
     "output_type": "stream",
     "text": [
      "Epoch 230, Loss 0.0372\n",
      "Training Accuracy: 0.9604, Testing Accuracy: 0.9662\n",
      "\n"
     ]
    },
    {
     "name": "stdout",
     "output_type": "stream",
     "text": [
      "Epoch 240, Loss 0.0369\n",
      "Training Accuracy: 0.9609, Testing Accuracy: 0.9662\n",
      "\n"
     ]
    },
    {
     "data": {
      "text/plain": [
       "0.020407328627201286"
      ]
     },
     "execution_count": 23,
     "metadata": {},
     "output_type": "execute_result"
    }
   ],
   "source": [
    "lr_learner.train_loop(dl)"
   ]
  },
  {
   "cell_type": "code",
   "execution_count": 24,
   "id": "ca410940",
   "metadata": {
    "execution": {
     "iopub.execute_input": "2022-08-07T10:12:31.546569Z",
     "iopub.status.busy": "2022-08-07T10:12:31.545878Z",
     "iopub.status.idle": "2022-08-07T10:12:31.807232Z",
     "shell.execute_reply": "2022-08-07T10:12:31.807769Z"
    },
    "papermill": {
     "duration": 0.315989,
     "end_time": "2022-08-07T10:12:31.807928",
     "exception": false,
     "start_time": "2022-08-07T10:12:31.491939",
     "status": "completed"
    },
    "tags": []
   },
   "outputs": [
    {
     "data": {
      "text/plain": [
       "<matplotlib.legend.Legend at 0x7f45ea168c50>"
      ]
     },
     "execution_count": 24,
     "metadata": {},
     "output_type": "execute_result"
    },
    {
     "data": {
      "image/png": "[encoded data removed]",
      "text/plain": [
       "<Figure size 1080x720 with 1 Axes>"
      ]
     },
     "metadata": {
      "needs_background": "light"
     },
     "output_type": "display_data"
    }
   ],
   "source": [
    "#comparing the results of NN and LR\n",
    "plt.figure(figsize=(15,10))\n",
    "\n",
    "# Neural Network plots\n",
    "plt.plot(acc_nn.accuracies, 'r-', label = \"Training Accuracies - NN\")\n",
    "plt.plot(acc_nn.test_accuracies, 'g-', label = \"Testing Accuracies - NN\")\n",
    "\n",
    "# Logistic Regression plots\n",
    "plt.plot(acc_lr.accuracies, 'k-', label = \"Training Accuracies - LR\")\n",
    "plt.plot(acc_lr.test_accuracies, 'b-', label = \"Testing Accuracies - LR\")\n",
    "plt.legend()"
   ]
  },
  {
   "cell_type": "markdown",
   "id": "80dfb35c",
   "metadata": {
    "papermill": {
     "duration": 0.046928,
     "end_time": "2022-08-07T10:12:31.902046",
     "exception": false,
     "start_time": "2022-08-07T10:12:31.855118",
     "status": "completed"
    },
    "tags": []
   },
   "source": [
    "#### Plotting the outputs of this layer of the NN.\n"
   ]
  },
  {
   "cell_type": "code",
   "execution_count": 25,
   "id": "45eb2ff5",
   "metadata": {
    "execution": {
     "iopub.execute_input": "2022-08-07T10:12:32.000976Z",
     "iopub.status.busy": "2022-08-07T10:12:31.999895Z",
     "iopub.status.idle": "2022-08-07T10:12:32.023229Z",
     "shell.execute_reply": "2022-08-07T10:12:32.023773Z"
    },
    "papermill": {
     "duration": 0.074733,
     "end_time": "2022-08-07T10:12:32.023933",
     "exception": false,
     "start_time": "2022-08-07T10:12:31.949200",
     "status": "completed"
    },
    "tags": []
   },
   "outputs": [],
   "source": [
    "new_model = Model(layers[:-2])\n",
    "testing_plot = new_model(testing_data_x)"
   ]
  },
  {
   "cell_type": "code",
   "execution_count": 26,
   "id": "4c0a5485",
   "metadata": {
    "execution": {
     "iopub.execute_input": "2022-08-07T10:12:32.124505Z",
     "iopub.status.busy": "2022-08-07T10:12:32.123788Z",
     "iopub.status.idle": "2022-08-07T10:12:32.419915Z",
     "shell.execute_reply": "2022-08-07T10:12:32.420500Z"
    },
    "papermill": {
     "duration": 0.348707,
     "end_time": "2022-08-07T10:12:32.420670",
     "exception": false,
     "start_time": "2022-08-07T10:12:32.071963",
     "status": "completed"
    },
    "tags": []
   },
   "outputs": [
    {
     "data": {
      "text/plain": [
       "Text(0.5, 1.0, 'Outputs')"
      ]
     },
     "execution_count": 26,
     "metadata": {},
     "output_type": "execute_result"
    },
    {
     "data": {
      "image/png": "[encoded data removed]",
      "text/plain": [
       "<Figure size 576x504 with 1 Axes>"
      ]
     },
     "metadata": {
      "needs_background": "light"
     },
     "output_type": "display_data"
    }
   ],
   "source": [
    "# Plotting the scatter plot of points and color coding by class\n",
    "plt.figure(figsize=(8,7))\n",
    "plt.scatter(testing_plot[:,0], testing_plot[:,1], alpha = 0.1, c = y_test.ravel());\n",
    "plt.title('Outputs')"
   ]
  },
  {
   "cell_type": "markdown",
   "id": "a74fcf8f",
   "metadata": {
    "papermill": {
     "duration": 0.050965,
     "end_time": "2022-08-07T10:12:32.522746",
     "exception": false,
     "start_time": "2022-08-07T10:12:32.471781",
     "status": "completed"
    },
    "tags": []
   },
   "source": [
    "Probability contours"
   ]
  },
  {
   "cell_type": "code",
   "execution_count": 27,
   "id": "d0afc8e3",
   "metadata": {
    "execution": {
     "iopub.execute_input": "2022-08-07T10:12:32.659517Z",
     "iopub.status.busy": "2022-08-07T10:12:32.658808Z",
     "iopub.status.idle": "2022-08-07T10:12:32.673475Z",
     "shell.execute_reply": "2022-08-07T10:12:32.672785Z"
    },
    "papermill": {
     "duration": 0.070816,
     "end_time": "2022-08-07T10:12:32.673603",
     "exception": false,
     "start_time": "2022-08-07T10:12:32.602787",
     "status": "completed"
    },
    "tags": []
   },
   "outputs": [],
   "source": [
    "model_prob = Model(layers[-2:]) "
   ]
  },
  {
   "cell_type": "code",
   "execution_count": 28,
   "id": "9b96e238",
   "metadata": {
    "execution": {
     "iopub.execute_input": "2022-08-07T10:12:32.781082Z",
     "iopub.status.busy": "2022-08-07T10:12:32.780328Z",
     "iopub.status.idle": "2022-08-07T10:12:32.797027Z",
     "shell.execute_reply": "2022-08-07T10:12:32.797520Z"
    },
    "papermill": {
     "duration": 0.073108,
     "end_time": "2022-08-07T10:12:32.797663",
     "exception": false,
     "start_time": "2022-08-07T10:12:32.724555",
     "status": "completed"
    },
    "tags": []
   },
   "outputs": [],
   "source": [
    "#creating the x and y ranges according to the above generated plot.\n",
    "x_range = np.linspace(-4, 1, 100) \n",
    "y_range = np.linspace(-6, 6, 100) \n",
    "x_grid, y_grid = np.meshgrid(x_range, y_range) # x_grid and y_grig are of size 100 X 100\n",
    "\n",
    "# converting x_grid and y_grid to continuous arrays\n",
    "x_gridflat = np.ravel(x_grid)\n",
    "y_gridflat = np.ravel(y_grid)\n",
    "\n",
    "# The last layer of the current model takes two columns as input. Hence transpose of np.vstack() is required.\n",
    "X = np.vstack((x_gridflat, y_gridflat)).T\n",
    "\n",
    "prob_contour = model_prob(X).reshape(100,100) "
   ]
  },
  {
   "cell_type": "code",
   "execution_count": 29,
   "id": "da72499a",
   "metadata": {
    "execution": {
     "iopub.execute_input": "2022-08-07T10:12:32.921915Z",
     "iopub.status.busy": "2022-08-07T10:12:32.921239Z",
     "iopub.status.idle": "2022-08-07T10:12:33.214319Z",
     "shell.execute_reply": "2022-08-07T10:12:33.214911Z"
    },
    "papermill": {
     "duration": 0.360024,
     "end_time": "2022-08-07T10:12:33.215076",
     "exception": false,
     "start_time": "2022-08-07T10:12:32.855052",
     "status": "completed"
    },
    "tags": []
   },
   "outputs": [
    {
     "data": {
      "image/png": "[encoded data removed]",
      "text/plain": [
       "<Figure size 720x648 with 1 Axes>"
      ]
     },
     "metadata": {
      "needs_background": "light"
     },
     "output_type": "display_data"
    }
   ],
   "source": [
    "plt.figure(figsize=(10,9))\n",
    "plt.scatter(testing_plot[:,0], testing_plot[:,1], alpha = 0.1, c = y_test.ravel())\n",
    "contours = plt.contour(x_grid,y_grid,prob_contour)\n",
    "plt.title('Probability Contours')\n",
    "plt.clabel(contours, inline = True );"
   ]
  },
  {
   "cell_type": "code",
   "execution_count": null,
   "id": "e81b4ac7",
   "metadata": {
    "papermill": {
     "duration": 0.056897,
     "end_time": "2022-08-07T10:12:33.328907",
     "exception": false,
     "start_time": "2022-08-07T10:12:33.272010",
     "status": "completed"
    },
    "tags": []
   },
   "outputs": [],
   "source": []
  }
 ],
 "metadata": {
  "kernelspec": {
   "display_name": "Python 3",
   "language": "python",
   "name": "python3"
  },
  "language_info": {
   "codemirror_mode": {
    "name": "ipython",
    "version": 3
   },
   "file_extension": ".py",
   "mimetype": "text/x-python",
   "name": "python",
   "nbconvert_exporter": "python",
   "pygments_lexer": "ipython3",
   "version": "3.6.15"
  },
  "papermill": {
   "default_parameters": {},
   "duration": 114.914312,
   "end_time": "2022-08-07T10:12:33.805716",
   "environment_variables": {},
   "exception": null,
   "input_path": "2020-08-11-part2.ipynb",
   "output_path": "2020-08-11-part2.ipynb",
   "parameters": {},
   "start_time": "2022-08-07T10:10:38.891404",
   "version": "2.3.3"
  }
 },
 "nbformat": 4,
 "nbformat_minor": 5
}