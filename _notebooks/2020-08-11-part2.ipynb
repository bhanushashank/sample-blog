{
 "cells": [
  {
   "cell_type": "markdown",
   "id": "98380cd3",
   "metadata": {
    "papermill": {
     "duration": 0.029383,
     "end_time": "2022-05-15T00:46:20.101434",
     "exception": false,
     "start_time": "2022-05-15T00:46:20.072051",
     "status": "completed"
    },
    "tags": []
   },
   "source": [
    "# Distinguish Your Own Digits (DYOD)"
   ]
  },
  {
   "cell_type": "markdown",
   "id": "ef31240d",
   "metadata": {
    "papermill": {
     "duration": 0.025216,
     "end_time": "2022-05-15T00:46:20.151303",
     "exception": false,
     "start_time": "2022-05-15T00:46:20.126087",
     "status": "completed"
    },
    "tags": []
   },
   "source": [
    "You are going to write a classifier that distinguishes between the number 3 and number 8."
   ]
  },
  {
   "cell_type": "code",
   "execution_count": 1,
   "id": "b15c8646",
   "metadata": {
    "execution": {
     "iopub.execute_input": "2022-05-15T00:46:20.209515Z",
     "iopub.status.busy": "2022-05-15T00:46:20.208976Z",
     "iopub.status.idle": "2022-05-15T00:46:20.219552Z",
     "shell.execute_reply": "2022-05-15T00:46:20.219109Z"
    },
    "papermill": {
     "duration": 0.04455,
     "end_time": "2022-05-15T00:46:20.219688",
     "exception": false,
     "start_time": "2022-05-15T00:46:20.175138",
     "status": "completed"
    },
    "tags": []
   },
   "outputs": [],
   "source": [
    "%load_ext autoreload\n",
    "%autoreload 2"
   ]
  },
  {
   "cell_type": "code",
   "execution_count": 2,
   "id": "22ef38dc",
   "metadata": {
    "execution": {
     "iopub.execute_input": "2022-05-15T00:46:20.271757Z",
     "iopub.status.busy": "2022-05-15T00:46:20.271239Z",
     "iopub.status.idle": "2022-05-15T00:46:20.809820Z",
     "shell.execute_reply": "2022-05-15T00:46:20.809296Z"
    },
    "papermill": {
     "duration": 0.566225,
     "end_time": "2022-05-15T00:46:20.809992",
     "exception": false,
     "start_time": "2022-05-15T00:46:20.243767",
     "status": "completed"
    },
    "tags": []
   },
   "outputs": [],
   "source": [
    "%matplotlib inline\n",
    "import numpy as np\n",
    "import matplotlib.pyplot as plt\n",
    "import pandas as pd"
   ]
  },
  {
   "cell_type": "markdown",
   "id": "ba036198",
   "metadata": {
    "papermill": {
     "duration": 0.023838,
     "end_time": "2022-05-15T00:46:20.858915",
     "exception": false,
     "start_time": "2022-05-15T00:46:20.835077",
     "status": "completed"
    },
    "tags": []
   },
   "source": [
    "From the command line run `pip install mnist`. This is a library that will help you bring down the mnist dataset. If you run this from a notebook, you need to put  `!pip install mnist` in a cell by itself."
   ]
  },
  {
   "cell_type": "code",
   "execution_count": 3,
   "id": "bb6ad8a1",
   "metadata": {
    "execution": {
     "iopub.execute_input": "2022-05-15T00:46:20.943015Z",
     "iopub.status.busy": "2022-05-15T00:46:20.938705Z",
     "iopub.status.idle": "2022-05-15T00:46:22.669599Z",
     "shell.execute_reply": "2022-05-15T00:46:22.669078Z"
    },
    "papermill": {
     "duration": 1.786904,
     "end_time": "2022-05-15T00:46:22.669747",
     "exception": false,
     "start_time": "2022-05-15T00:46:20.882843",
     "status": "completed"
    },
    "tags": []
   },
   "outputs": [
    {
     "name": "stdout",
     "output_type": "stream",
     "text": [
      "Collecting mnist\r\n"
     ]
    },
    {
     "name": "stdout",
     "output_type": "stream",
     "text": [
      "  Downloading mnist-0.2.2-py2.py3-none-any.whl (3.5 kB)\r\n"
     ]
    },
    {
     "name": "stdout",
     "output_type": "stream",
     "text": [
      "Requirement already satisfied: numpy in /opt/hostedtoolcache/Python/3.6.15/x64/lib/python3.6/site-packages (from mnist) (1.19.5)\r\n"
     ]
    },
    {
     "name": "stdout",
     "output_type": "stream",
     "text": [
      "Installing collected packages: mnist\r\n",
      "Successfully installed mnist-0.2.2\r\n"
     ]
    }
   ],
   "source": [
    "!pip install mnist"
   ]
  },
  {
   "cell_type": "markdown",
   "id": "69df9c9a",
   "metadata": {
    "papermill": {
     "duration": 0.02544,
     "end_time": "2022-05-15T00:46:22.720450",
     "exception": false,
     "start_time": "2022-05-15T00:46:22.695010",
     "status": "completed"
    },
    "tags": []
   },
   "source": [
    "## Preparing the Data"
   ]
  },
  {
   "cell_type": "code",
   "execution_count": 4,
   "id": "7f69d806",
   "metadata": {
    "execution": {
     "iopub.execute_input": "2022-05-15T00:46:22.780761Z",
     "iopub.status.busy": "2022-05-15T00:46:22.780153Z",
     "iopub.status.idle": "2022-05-15T00:46:22.790861Z",
     "shell.execute_reply": "2022-05-15T00:46:22.790383Z"
    },
    "papermill": {
     "duration": 0.04557,
     "end_time": "2022-05-15T00:46:22.790973",
     "exception": false,
     "start_time": "2022-05-15T00:46:22.745403",
     "status": "completed"
    },
    "tags": []
   },
   "outputs": [],
   "source": [
    "import mnist"
   ]
  },
  {
   "cell_type": "code",
   "execution_count": 5,
   "id": "a411e44f",
   "metadata": {
    "execution": {
     "iopub.execute_input": "2022-05-15T00:46:22.847232Z",
     "iopub.status.busy": "2022-05-15T00:46:22.846715Z",
     "iopub.status.idle": "2022-05-15T00:46:23.460999Z",
     "shell.execute_reply": "2022-05-15T00:46:23.460477Z"
    },
    "papermill": {
     "duration": 0.645012,
     "end_time": "2022-05-15T00:46:23.461139",
     "exception": false,
     "start_time": "2022-05-15T00:46:22.816127",
     "status": "completed"
    },
    "tags": []
   },
   "outputs": [],
   "source": [
    "train_images = mnist.train_images()\n",
    "train_labels = mnist.train_labels()"
   ]
  },
  {
   "cell_type": "code",
   "execution_count": 6,
   "id": "dceab3a5",
   "metadata": {
    "execution": {
     "iopub.execute_input": "2022-05-15T00:46:23.528673Z",
     "iopub.status.busy": "2022-05-15T00:46:23.527830Z",
     "iopub.status.idle": "2022-05-15T00:46:23.536209Z",
     "shell.execute_reply": "2022-05-15T00:46:23.535789Z"
    },
    "papermill": {
     "duration": 0.049324,
     "end_time": "2022-05-15T00:46:23.536322",
     "exception": false,
     "start_time": "2022-05-15T00:46:23.486998",
     "status": "completed"
    },
    "tags": []
   },
   "outputs": [
    {
     "data": {
      "text/plain": [
       "((60000, 28, 28), (60000,))"
      ]
     },
     "execution_count": 6,
     "metadata": {},
     "output_type": "execute_result"
    }
   ],
   "source": [
    "train_images.shape, train_labels.shape"
   ]
  },
  {
   "cell_type": "code",
   "execution_count": 7,
   "id": "f50dc2bb",
   "metadata": {
    "execution": {
     "iopub.execute_input": "2022-05-15T00:46:23.604299Z",
     "iopub.status.busy": "2022-05-15T00:46:23.602937Z",
     "iopub.status.idle": "2022-05-15T00:46:23.781458Z",
     "shell.execute_reply": "2022-05-15T00:46:23.780941Z"
    },
    "papermill": {
     "duration": 0.220139,
     "end_time": "2022-05-15T00:46:23.781594",
     "exception": false,
     "start_time": "2022-05-15T00:46:23.561455",
     "status": "completed"
    },
    "tags": []
   },
   "outputs": [],
   "source": [
    "test_images = mnist.test_images()\n",
    "test_labels = mnist.test_labels()"
   ]
  },
  {
   "cell_type": "code",
   "execution_count": 8,
   "id": "fc38cf1b",
   "metadata": {
    "execution": {
     "iopub.execute_input": "2022-05-15T00:46:23.849073Z",
     "iopub.status.busy": "2022-05-15T00:46:23.848534Z",
     "iopub.status.idle": "2022-05-15T00:46:23.856583Z",
     "shell.execute_reply": "2022-05-15T00:46:23.856165Z"
    },
    "papermill": {
     "duration": 0.049557,
     "end_time": "2022-05-15T00:46:23.856700",
     "exception": false,
     "start_time": "2022-05-15T00:46:23.807143",
     "status": "completed"
    },
    "tags": []
   },
   "outputs": [
    {
     "data": {
      "text/plain": [
       "((10000, 28, 28), (10000,))"
      ]
     },
     "execution_count": 8,
     "metadata": {},
     "output_type": "execute_result"
    }
   ],
   "source": [
    "test_images.shape, test_labels.shape"
   ]
  },
  {
   "cell_type": "code",
   "execution_count": 9,
   "id": "f9ed8fe0",
   "metadata": {
    "execution": {
     "iopub.execute_input": "2022-05-15T00:46:23.911522Z",
     "iopub.status.busy": "2022-05-15T00:46:23.911009Z",
     "iopub.status.idle": "2022-05-15T00:46:24.048436Z",
     "shell.execute_reply": "2022-05-15T00:46:24.048855Z"
    },
    "papermill": {
     "duration": 0.166789,
     "end_time": "2022-05-15T00:46:24.048989",
     "exception": false,
     "start_time": "2022-05-15T00:46:23.882200",
     "status": "completed"
    },
    "tags": []
   },
   "outputs": [
    {
     "name": "stdout",
     "output_type": "stream",
     "text": [
      "2\n"
     ]
    },
    {
     "data": {
      "text/plain": [
       "<matplotlib.image.AxesImage at 0x7f51205f0550>"
      ]
     },
     "execution_count": 9,
     "metadata": {},
     "output_type": "execute_result"
    },
    {
     "data": {
      "image/png": "[encoded data removed]",
      "text/plain": [
       "<Figure size 432x288 with 1 Axes>"
      ]
     },
     "metadata": {
      "needs_background": "light"
     },
     "output_type": "display_data"
    }
   ],
   "source": [
    "image_index = 7776 # You may select anything up to 60,000\n",
    "print(train_labels[image_index]) \n",
    "plt.imshow(train_images[image_index], cmap='Greys')"
   ]
  },
  {
   "cell_type": "markdown",
   "id": "a8d2388d",
   "metadata": {
    "papermill": {
     "duration": 0.026779,
     "end_time": "2022-05-15T00:46:24.102513",
     "exception": false,
     "start_time": "2022-05-15T00:46:24.075734",
     "status": "completed"
    },
    "tags": []
   },
   "source": [
    "## Filter data to get 3 and 8 out"
   ]
  },
  {
   "cell_type": "code",
   "execution_count": 10,
   "id": "776f7fc7",
   "metadata": {
    "execution": {
     "iopub.execute_input": "2022-05-15T00:46:24.164142Z",
     "iopub.status.busy": "2022-05-15T00:46:24.163598Z",
     "iopub.status.idle": "2022-05-15T00:46:24.179396Z",
     "shell.execute_reply": "2022-05-15T00:46:24.178960Z"
    },
    "papermill": {
     "duration": 0.050419,
     "end_time": "2022-05-15T00:46:24.179520",
     "exception": false,
     "start_time": "2022-05-15T00:46:24.129101",
     "status": "completed"
    },
    "tags": []
   },
   "outputs": [],
   "source": [
    "train_filter = np.where((train_labels == 3 ) | (train_labels == 8))\n",
    "test_filter = np.where((test_labels == 3) | (test_labels == 8))\n",
    "X_train, y_train = train_images[train_filter], train_labels[train_filter]\n",
    "X_test, y_test = test_images[test_filter], test_labels[test_filter]"
   ]
  },
  {
   "cell_type": "markdown",
   "id": "948f0b7e",
   "metadata": {
    "papermill": {
     "duration": 0.026786,
     "end_time": "2022-05-15T00:46:24.233021",
     "exception": false,
     "start_time": "2022-05-15T00:46:24.206235",
     "status": "completed"
    },
    "tags": []
   },
   "source": [
    "We normalize the pizel values in the 0 to 1 range"
   ]
  },
  {
   "cell_type": "code",
   "execution_count": 11,
   "id": "ee4c2166",
   "metadata": {
    "execution": {
     "iopub.execute_input": "2022-05-15T00:46:24.293827Z",
     "iopub.status.busy": "2022-05-15T00:46:24.293303Z",
     "iopub.status.idle": "2022-05-15T00:46:24.337759Z",
     "shell.execute_reply": "2022-05-15T00:46:24.337259Z"
    },
    "papermill": {
     "duration": 0.078422,
     "end_time": "2022-05-15T00:46:24.337895",
     "exception": false,
     "start_time": "2022-05-15T00:46:24.259473",
     "status": "completed"
    },
    "tags": []
   },
   "outputs": [],
   "source": [
    "X_train = X_train/255.\n",
    "X_test = X_test/255."
   ]
  },
  {
   "cell_type": "markdown",
   "id": "ddcf4fab",
   "metadata": {
    "papermill": {
     "duration": 0.026797,
     "end_time": "2022-05-15T00:46:24.392216",
     "exception": false,
     "start_time": "2022-05-15T00:46:24.365419",
     "status": "completed"
    },
    "tags": []
   },
   "source": [
    "And setup the labels as 1 (when the digit is 3) and 0 (when the digit is 8)"
   ]
  },
  {
   "cell_type": "code",
   "execution_count": 12,
   "id": "7dc908f2",
   "metadata": {
    "execution": {
     "iopub.execute_input": "2022-05-15T00:46:24.449397Z",
     "iopub.status.busy": "2022-05-15T00:46:24.448872Z",
     "iopub.status.idle": "2022-05-15T00:46:24.461231Z",
     "shell.execute_reply": "2022-05-15T00:46:24.461670Z"
    },
    "papermill": {
     "duration": 0.043108,
     "end_time": "2022-05-15T00:46:24.461799",
     "exception": false,
     "start_time": "2022-05-15T00:46:24.418691",
     "status": "completed"
    },
    "tags": []
   },
   "outputs": [],
   "source": [
    "y_train = 1*(y_train==3)\n",
    "y_test = 1*(y_test==3)"
   ]
  },
  {
   "cell_type": "code",
   "execution_count": 13,
   "id": "01e4e969",
   "metadata": {
    "execution": {
     "iopub.execute_input": "2022-05-15T00:46:24.535233Z",
     "iopub.status.busy": "2022-05-15T00:46:24.534681Z",
     "iopub.status.idle": "2022-05-15T00:46:24.537459Z",
     "shell.execute_reply": "2022-05-15T00:46:24.537846Z"
    },
    "papermill": {
     "duration": 0.049494,
     "end_time": "2022-05-15T00:46:24.538002",
     "exception": false,
     "start_time": "2022-05-15T00:46:24.488508",
     "status": "completed"
    },
    "tags": []
   },
   "outputs": [
    {
     "data": {
      "text/plain": [
       "((11982, 28, 28), (1984, 28, 28))"
      ]
     },
     "execution_count": 13,
     "metadata": {},
     "output_type": "execute_result"
    }
   ],
   "source": [
    "X_train.shape, X_test.shape"
   ]
  },
  {
   "cell_type": "markdown",
   "id": "5ccf3f85",
   "metadata": {
    "papermill": {
     "duration": 0.026742,
     "end_time": "2022-05-15T00:46:24.591594",
     "exception": false,
     "start_time": "2022-05-15T00:46:24.564852",
     "status": "completed"
    },
    "tags": []
   },
   "source": [
    "We reshape the data to flatten the image pixels into a set of features or co-variates:"
   ]
  },
  {
   "cell_type": "code",
   "execution_count": 14,
   "id": "5286a4a3",
   "metadata": {
    "execution": {
     "iopub.execute_input": "2022-05-15T00:46:24.659723Z",
     "iopub.status.busy": "2022-05-15T00:46:24.649276Z",
     "iopub.status.idle": "2022-05-15T00:46:24.668634Z",
     "shell.execute_reply": "2022-05-15T00:46:24.668187Z"
    },
    "papermill": {
     "duration": 0.050234,
     "end_time": "2022-05-15T00:46:24.668750",
     "exception": false,
     "start_time": "2022-05-15T00:46:24.618516",
     "status": "completed"
    },
    "tags": []
   },
   "outputs": [
    {
     "data": {
      "text/plain": [
       "((11982, 784), (1984, 784))"
      ]
     },
     "execution_count": 14,
     "metadata": {},
     "output_type": "execute_result"
    }
   ],
   "source": [
    "X_train = X_train.reshape(X_train.shape[0], -1)\n",
    "X_test = X_test.reshape(X_test.shape[0], -1)\n",
    "X_train.shape, X_test.shape"
   ]
  },
  {
   "cell_type": "code",
   "execution_count": 15,
   "id": "73c5f88a",
   "metadata": {
    "execution": {
     "iopub.execute_input": "2022-05-15T00:46:24.742853Z",
     "iopub.status.busy": "2022-05-15T00:46:24.740787Z",
     "iopub.status.idle": "2022-05-15T00:46:24.752137Z",
     "shell.execute_reply": "2022-05-15T00:46:24.751704Z"
    },
    "papermill": {
     "duration": 0.056289,
     "end_time": "2022-05-15T00:46:24.752260",
     "exception": false,
     "start_time": "2022-05-15T00:46:24.695971",
     "status": "completed"
    },
    "tags": []
   },
   "outputs": [],
   "source": [
    "#Impoting functions from 'Kudzu'\n",
    "from kudzu.model import Model\n",
    "from kudzu.train import Learner\n",
    "from kudzu.optim import GD\n",
    "from kudzu.data import Data, Sampler,Dataloader\n",
    "\n",
    "from kudzu.callbacks import AccCallback\n",
    "from kudzu.callbacks import ClfCallback\n",
    "\n",
    "from kudzu.loss import MSE\n",
    "\n",
    "from kudzu.layer import Sigmoid,Relu\n",
    "from kudzu.layer import Affine"
   ]
  },
  {
   "cell_type": "markdown",
   "id": "bc01172a",
   "metadata": {
    "papermill": {
     "duration": 0.027394,
     "end_time": "2022-05-15T00:46:24.807062",
     "exception": false,
     "start_time": "2022-05-15T00:46:24.779668",
     "status": "completed"
    },
    "tags": []
   },
   "source": [
    "### Let us create a `Config` class, to store important parameters. \n",
    "This class essentially plays the role of a dictionary."
   ]
  },
  {
   "cell_type": "code",
   "execution_count": 16,
   "id": "978281aa",
   "metadata": {
    "execution": {
     "iopub.execute_input": "2022-05-15T00:46:24.867780Z",
     "iopub.status.busy": "2022-05-15T00:46:24.867240Z",
     "iopub.status.idle": "2022-05-15T00:46:24.879175Z",
     "shell.execute_reply": "2022-05-15T00:46:24.878727Z"
    },
    "papermill": {
     "duration": 0.045144,
     "end_time": "2022-05-15T00:46:24.879290",
     "exception": false,
     "start_time": "2022-05-15T00:46:24.834146",
     "status": "completed"
    },
    "tags": []
   },
   "outputs": [],
   "source": [
    "class Config:\n",
    "    pass\n",
    "config = Config()\n",
    "config.lr = 0.001\n",
    "config.num_epochs = 250\n",
    "config.bs = 50"
   ]
  },
  {
   "cell_type": "markdown",
   "id": "1385fa59",
   "metadata": {
    "papermill": {
     "duration": 0.027339,
     "end_time": "2022-05-15T00:46:24.933814",
     "exception": false,
     "start_time": "2022-05-15T00:46:24.906475",
     "status": "completed"
    },
    "tags": []
   },
   "source": [
    "### Running Models with the Training data\n",
    "Details about the network layers:\n",
    "- A first affine layer has 784 inputs and does 100 affine transforms. These are followed by a Relu\n",
    "- A second affine layer has 100 inputs from the 100 activations of the past layer, and does 100 affine transforms. These are followed by a Relu\n",
    "- A third affine layer has 100 activations and does 2 affine transformations to create an embedding for visualization. There is no non-linearity here.\n",
    "- A final \"logistic regression\" which has an affine transform from 2 inputs to 1 output, which is squeezed through a sigmoid.\n"
   ]
  },
  {
   "cell_type": "code",
   "execution_count": 17,
   "id": "2b9c66db",
   "metadata": {
    "execution": {
     "iopub.execute_input": "2022-05-15T00:46:24.993847Z",
     "iopub.status.busy": "2022-05-15T00:46:24.993312Z",
     "iopub.status.idle": "2022-05-15T00:46:25.005402Z",
     "shell.execute_reply": "2022-05-15T00:46:25.005818Z"
    },
    "papermill": {
     "duration": 0.044967,
     "end_time": "2022-05-15T00:46:25.005967",
     "exception": false,
     "start_time": "2022-05-15T00:46:24.961000",
     "status": "completed"
    },
    "tags": []
   },
   "outputs": [],
   "source": [
    "data = Data(X_train, y_train.reshape(-1,1))\n",
    "sampler = Sampler(data, config.bs, shuffle=True)\n",
    "\n",
    "dl = Dataloader(data, sampler)\n",
    "\n",
    "opt = GD(config.lr)\n",
    "loss = MSE()"
   ]
  },
  {
   "cell_type": "code",
   "execution_count": 18,
   "id": "b275e4c2",
   "metadata": {
    "execution": {
     "iopub.execute_input": "2022-05-15T00:46:25.067355Z",
     "iopub.status.busy": "2022-05-15T00:46:25.066817Z",
     "iopub.status.idle": "2022-05-15T00:46:25.078440Z",
     "shell.execute_reply": "2022-05-15T00:46:25.077989Z"
    },
    "papermill": {
     "duration": 0.045321,
     "end_time": "2022-05-15T00:46:25.078562",
     "exception": false,
     "start_time": "2022-05-15T00:46:25.033241",
     "status": "completed"
    },
    "tags": []
   },
   "outputs": [],
   "source": [
    "training_data_x = X_train\n",
    "testing_data_x = X_test\n",
    "training_data_y = y_train.reshape(-1,1)\n",
    "testing_data_y = y_test.reshape(-1,1)"
   ]
  },
  {
   "cell_type": "code",
   "execution_count": 19,
   "id": "76951160",
   "metadata": {
    "execution": {
     "iopub.execute_input": "2022-05-15T00:46:25.137498Z",
     "iopub.status.busy": "2022-05-15T00:46:25.136961Z",
     "iopub.status.idle": "2022-05-15T00:46:25.153830Z",
     "shell.execute_reply": "2022-05-15T00:46:25.153397Z"
    },
    "papermill": {
     "duration": 0.048148,
     "end_time": "2022-05-15T00:46:25.153969",
     "exception": false,
     "start_time": "2022-05-15T00:46:25.105821",
     "status": "completed"
    },
    "tags": []
   },
   "outputs": [
    {
     "name": "stdout",
     "output_type": "stream",
     "text": [
      "xavier\n",
      "xavier\n",
      "xavier\n",
      "xavier\n",
      "xavier\n"
     ]
    }
   ],
   "source": [
    "layers = [Affine(\"first\", 784, 100), Relu(\"first\"), Affine(\"second\", 100, 100), Relu(\"second\"), Affine(\"third\", 100, 2), Affine(\"last\", 2, 1), Sigmoid(\"last\")]\n",
    "model_nn = Model(layers)\n",
    "model_lr = Model([Affine(\"logits\", 784, 1), Sigmoid(\"sigmoid\")])"
   ]
  },
  {
   "cell_type": "code",
   "execution_count": 20,
   "id": "6eede77a",
   "metadata": {
    "execution": {
     "iopub.execute_input": "2022-05-15T00:46:25.224122Z",
     "iopub.status.busy": "2022-05-15T00:46:25.223591Z",
     "iopub.status.idle": "2022-05-15T00:46:25.230681Z",
     "shell.execute_reply": "2022-05-15T00:46:25.230233Z"
    },
    "papermill": {
     "duration": 0.049233,
     "end_time": "2022-05-15T00:46:25.230793",
     "exception": false,
     "start_time": "2022-05-15T00:46:25.181560",
     "status": "completed"
    },
    "tags": []
   },
   "outputs": [],
   "source": [
    "nn_learner = Learner(loss, model_nn, opt, config.num_epochs)\n",
    "acc_nn = ClfCallback(nn_learner, config.bs, training_data_x , testing_data_x, training_data_y, testing_data_y)\n",
    "nn_learner.set_callbacks([acc_nn])"
   ]
  },
  {
   "cell_type": "code",
   "execution_count": 21,
   "id": "877b6cc7",
   "metadata": {
    "execution": {
     "iopub.execute_input": "2022-05-15T00:46:25.303428Z",
     "iopub.status.busy": "2022-05-15T00:46:25.298795Z",
     "iopub.status.idle": "2022-05-15T00:46:25.305682Z",
     "shell.execute_reply": "2022-05-15T00:46:25.305240Z"
    },
    "papermill": {
     "duration": 0.047514,
     "end_time": "2022-05-15T00:46:25.305792",
     "exception": false,
     "start_time": "2022-05-15T00:46:25.258278",
     "status": "completed"
    },
    "tags": []
   },
   "outputs": [],
   "source": [
    "lr_learner = Learner(loss, model_lr, opt, config.num_epochs)\n",
    "acc_lr = ClfCallback(lr_learner, config.bs, training_data_x , testing_data_x, training_data_y, testing_data_y)\n",
    "lr_learner.set_callbacks([acc_lr])"
   ]
  },
  {
   "cell_type": "code",
   "execution_count": 22,
   "id": "d9b133c3",
   "metadata": {
    "execution": {
     "iopub.execute_input": "2022-05-15T00:46:25.369990Z",
     "iopub.status.busy": "2022-05-15T00:46:25.369424Z",
     "iopub.status.idle": "2022-05-15T00:47:40.082445Z",
     "shell.execute_reply": "2022-05-15T00:47:40.081690Z"
    },
    "papermill": {
     "duration": 74.749247,
     "end_time": "2022-05-15T00:47:40.082570",
     "exception": false,
     "start_time": "2022-05-15T00:46:25.333323",
     "status": "completed"
    },
    "tags": []
   },
   "outputs": [
    {
     "name": "stdout",
     "output_type": "stream",
     "text": [
      "Epoch 0, Loss 0.2316\n",
      "Training Accuracy: 0.7439, Testing Accuracy: 0.7535\n",
      "\n"
     ]
    },
    {
     "name": "stdout",
     "output_type": "stream",
     "text": [
      "Epoch 10, Loss 0.0805\n",
      "Training Accuracy: 0.9223, Testing Accuracy: 0.9294\n",
      "\n"
     ]
    },
    {
     "name": "stdout",
     "output_type": "stream",
     "text": [
      "Epoch 20, Loss 0.0518\n",
      "Training Accuracy: 0.9461, Testing Accuracy: 0.9531\n",
      "\n"
     ]
    },
    {
     "name": "stdout",
     "output_type": "stream",
     "text": [
      "Epoch 30, Loss 0.0414\n",
      "Training Accuracy: 0.9553, Testing Accuracy: 0.9617\n",
      "\n"
     ]
    },
    {
     "name": "stdout",
     "output_type": "stream",
     "text": [
      "Epoch 40, Loss 0.0361\n",
      "Training Accuracy: 0.9595, Testing Accuracy: 0.9652\n",
      "\n"
     ]
    },
    {
     "name": "stdout",
     "output_type": "stream",
     "text": [
      "Epoch 50, Loss 0.0328\n",
      "Training Accuracy: 0.9624, Testing Accuracy: 0.9667\n",
      "\n"
     ]
    },
    {
     "name": "stdout",
     "output_type": "stream",
     "text": [
      "Epoch 60, Loss 0.0305\n",
      "Training Accuracy: 0.9657, Testing Accuracy: 0.9693\n",
      "\n"
     ]
    },
    {
     "name": "stdout",
     "output_type": "stream",
     "text": [
      "Epoch 70, Loss 0.0288\n",
      "Training Accuracy: 0.9673, Testing Accuracy: 0.9698\n",
      "\n"
     ]
    },
    {
     "name": "stdout",
     "output_type": "stream",
     "text": [
      "Epoch 80, Loss 0.0274\n",
      "Training Accuracy: 0.9693, Testing Accuracy: 0.9698\n",
      "\n"
     ]
    },
    {
     "name": "stdout",
     "output_type": "stream",
     "text": [
      "Epoch 90, Loss 0.0262\n",
      "Training Accuracy: 0.9703, Testing Accuracy: 0.9718\n",
      "\n"
     ]
    },
    {
     "name": "stdout",
     "output_type": "stream",
     "text": [
      "Epoch 100, Loss 0.0252\n",
      "Training Accuracy: 0.9714, Testing Accuracy: 0.9718\n",
      "\n"
     ]
    },
    {
     "name": "stdout",
     "output_type": "stream",
     "text": [
      "Epoch 110, Loss 0.0243\n",
      "Training Accuracy: 0.9726, Testing Accuracy: 0.9738\n",
      "\n"
     ]
    },
    {
     "name": "stdout",
     "output_type": "stream",
     "text": [
      "Epoch 120, Loss 0.0236\n",
      "Training Accuracy: 0.9730, Testing Accuracy: 0.9738\n",
      "\n"
     ]
    },
    {
     "name": "stdout",
     "output_type": "stream",
     "text": [
      "Epoch 130, Loss 0.0229\n",
      "Training Accuracy: 0.9739, Testing Accuracy: 0.9728\n",
      "\n"
     ]
    },
    {
     "name": "stdout",
     "output_type": "stream",
     "text": [
      "Epoch 140, Loss 0.0222\n",
      "Training Accuracy: 0.9745, Testing Accuracy: 0.9733\n",
      "\n"
     ]
    },
    {
     "name": "stdout",
     "output_type": "stream",
     "text": [
      "Epoch 150, Loss 0.0216\n",
      "Training Accuracy: 0.9758, Testing Accuracy: 0.9733\n",
      "\n"
     ]
    },
    {
     "name": "stdout",
     "output_type": "stream",
     "text": [
      "Epoch 160, Loss 0.0211\n",
      "Training Accuracy: 0.9768, Testing Accuracy: 0.9743\n",
      "\n"
     ]
    },
    {
     "name": "stdout",
     "output_type": "stream",
     "text": [
      "Epoch 170, Loss 0.0205\n",
      "Training Accuracy: 0.9775, Testing Accuracy: 0.9753\n",
      "\n"
     ]
    },
    {
     "name": "stdout",
     "output_type": "stream",
     "text": [
      "Epoch 180, Loss 0.0201\n",
      "Training Accuracy: 0.9775, Testing Accuracy: 0.9753\n",
      "\n"
     ]
    },
    {
     "name": "stdout",
     "output_type": "stream",
     "text": [
      "Epoch 190, Loss 0.0196\n",
      "Training Accuracy: 0.9779, Testing Accuracy: 0.9758\n",
      "\n"
     ]
    },
    {
     "name": "stdout",
     "output_type": "stream",
     "text": [
      "Epoch 200, Loss 0.0192\n",
      "Training Accuracy: 0.9783, Testing Accuracy: 0.9758\n",
      "\n"
     ]
    },
    {
     "name": "stdout",
     "output_type": "stream",
     "text": [
      "Epoch 210, Loss 0.0188\n",
      "Training Accuracy: 0.9792, Testing Accuracy: 0.9768\n",
      "\n"
     ]
    },
    {
     "name": "stdout",
     "output_type": "stream",
     "text": [
      "Epoch 220, Loss 0.0184\n",
      "Training Accuracy: 0.9796, Testing Accuracy: 0.9768\n",
      "\n"
     ]
    },
    {
     "name": "stdout",
     "output_type": "stream",
     "text": [
      "Epoch 230, Loss 0.018\n",
      "Training Accuracy: 0.9801, Testing Accuracy: 0.9763\n",
      "\n"
     ]
    },
    {
     "name": "stdout",
     "output_type": "stream",
     "text": [
      "Epoch 240, Loss 0.0176\n",
      "Training Accuracy: 0.9806, Testing Accuracy: 0.9763\n",
      "\n"
     ]
    },
    {
     "data": {
      "text/plain": [
       "0.004389192690106125"
      ]
     },
     "execution_count": 22,
     "metadata": {},
     "output_type": "execute_result"
    }
   ],
   "source": [
    "nn_learner.train_loop(dl)"
   ]
  },
  {
   "cell_type": "code",
   "execution_count": 23,
   "id": "e0163366",
   "metadata": {
    "execution": {
     "iopub.execute_input": "2022-05-15T00:47:40.158474Z",
     "iopub.status.busy": "2022-05-15T00:47:40.155997Z",
     "iopub.status.idle": "2022-05-15T00:47:53.713247Z",
     "shell.execute_reply": "2022-05-15T00:47:53.714056Z"
    },
    "papermill": {
     "duration": 13.596949,
     "end_time": "2022-05-15T00:47:53.714211",
     "exception": false,
     "start_time": "2022-05-15T00:47:40.117262",
     "status": "completed"
    },
    "tags": []
   },
   "outputs": [
    {
     "name": "stdout",
     "output_type": "stream",
     "text": [
      "Epoch 0, Loss 0.2287\n",
      "Training Accuracy: 0.7611, Testing Accuracy: 0.7591\n",
      "\n"
     ]
    },
    {
     "name": "stdout",
     "output_type": "stream",
     "text": [
      "Epoch 10, Loss 0.0986\n",
      "Training Accuracy: 0.9166, Testing Accuracy: 0.9259\n",
      "\n"
     ]
    },
    {
     "name": "stdout",
     "output_type": "stream",
     "text": [
      "Epoch 20, Loss 0.0773\n",
      "Training Accuracy: 0.9301, Testing Accuracy: 0.9425\n",
      "\n"
     ]
    },
    {
     "name": "stdout",
     "output_type": "stream",
     "text": [
      "Epoch 30, Loss 0.0672\n",
      "Training Accuracy: 0.9362, Testing Accuracy: 0.9481\n",
      "\n"
     ]
    },
    {
     "name": "stdout",
     "output_type": "stream",
     "text": [
      "Epoch 40, Loss 0.0611\n",
      "Training Accuracy: 0.9401, Testing Accuracy: 0.9511\n",
      "\n"
     ]
    },
    {
     "name": "stdout",
     "output_type": "stream",
     "text": [
      "Epoch 50, Loss 0.0568\n",
      "Training Accuracy: 0.9442, Testing Accuracy: 0.9546\n",
      "\n"
     ]
    },
    {
     "name": "stdout",
     "output_type": "stream",
     "text": [
      "Epoch 60, Loss 0.0537\n",
      "Training Accuracy: 0.9469, Testing Accuracy: 0.9556\n",
      "\n"
     ]
    },
    {
     "name": "stdout",
     "output_type": "stream",
     "text": [
      "Epoch 70, Loss 0.0512\n",
      "Training Accuracy: 0.9483, Testing Accuracy: 0.9572\n",
      "\n"
     ]
    },
    {
     "name": "stdout",
     "output_type": "stream",
     "text": [
      "Epoch 80, Loss 0.0492\n",
      "Training Accuracy: 0.9498, Testing Accuracy: 0.9592\n",
      "\n"
     ]
    },
    {
     "name": "stdout",
     "output_type": "stream",
     "text": [
      "Epoch 90, Loss 0.0476\n",
      "Training Accuracy: 0.9508, Testing Accuracy: 0.9612\n",
      "\n"
     ]
    },
    {
     "name": "stdout",
     "output_type": "stream",
     "text": [
      "Epoch 100, Loss 0.0462\n",
      "Training Accuracy: 0.9523, Testing Accuracy: 0.9612\n",
      "\n"
     ]
    },
    {
     "name": "stdout",
     "output_type": "stream",
     "text": [
      "Epoch 110, Loss 0.045\n",
      "Training Accuracy: 0.9542, Testing Accuracy: 0.9617\n",
      "\n"
     ]
    },
    {
     "name": "stdout",
     "output_type": "stream",
     "text": [
      "Epoch 120, Loss 0.0439\n",
      "Training Accuracy: 0.9553, Testing Accuracy: 0.9627\n",
      "\n"
     ]
    },
    {
     "name": "stdout",
     "output_type": "stream",
     "text": [
      "Epoch 130, Loss 0.043\n",
      "Training Accuracy: 0.9555, Testing Accuracy: 0.9632\n",
      "\n"
     ]
    },
    {
     "name": "stdout",
     "output_type": "stream",
     "text": [
      "Epoch 140, Loss 0.0422\n",
      "Training Accuracy: 0.9563, Testing Accuracy: 0.9632\n",
      "\n"
     ]
    },
    {
     "name": "stdout",
     "output_type": "stream",
     "text": [
      "Epoch 150, Loss 0.0414\n",
      "Training Accuracy: 0.9569, Testing Accuracy: 0.9637\n",
      "\n"
     ]
    },
    {
     "name": "stdout",
     "output_type": "stream",
     "text": [
      "Epoch 160, Loss 0.0408\n",
      "Training Accuracy: 0.9573, Testing Accuracy: 0.9647\n",
      "\n"
     ]
    },
    {
     "name": "stdout",
     "output_type": "stream",
     "text": [
      "Epoch 170, Loss 0.0402\n",
      "Training Accuracy: 0.9579, Testing Accuracy: 0.9657\n",
      "\n"
     ]
    },
    {
     "name": "stdout",
     "output_type": "stream",
     "text": [
      "Epoch 180, Loss 0.0396\n",
      "Training Accuracy: 0.9585, Testing Accuracy: 0.9657\n",
      "\n"
     ]
    },
    {
     "name": "stdout",
     "output_type": "stream",
     "text": [
      "Epoch 190, Loss 0.0391\n",
      "Training Accuracy: 0.9591, Testing Accuracy: 0.9662\n",
      "\n"
     ]
    },
    {
     "name": "stdout",
     "output_type": "stream",
     "text": [
      "Epoch 200, Loss 0.0386\n",
      "Training Accuracy: 0.9594, Testing Accuracy: 0.9667\n",
      "\n"
     ]
    },
    {
     "name": "stdout",
     "output_type": "stream",
     "text": [
      "Epoch 210, Loss 0.0382\n",
      "Training Accuracy: 0.9597, Testing Accuracy: 0.9677\n",
      "\n"
     ]
    },
    {
     "name": "stdout",
     "output_type": "stream",
     "text": [
      "Epoch 220, Loss 0.0378\n",
      "Training Accuracy: 0.9602, Testing Accuracy: 0.9677\n",
      "\n"
     ]
    },
    {
     "name": "stdout",
     "output_type": "stream",
     "text": [
      "Epoch 230, Loss 0.0374\n",
      "Training Accuracy: 0.9606, Testing Accuracy: 0.9677\n",
      "\n"
     ]
    },
    {
     "name": "stdout",
     "output_type": "stream",
     "text": [
      "Epoch 240, Loss 0.037\n",
      "Training Accuracy: 0.9607, Testing Accuracy: 0.9677\n",
      "\n"
     ]
    },
    {
     "data": {
      "text/plain": [
       "0.0316941418607497"
      ]
     },
     "execution_count": 23,
     "metadata": {},
     "output_type": "execute_result"
    }
   ],
   "source": [
    "lr_learner.train_loop(dl)"
   ]
  },
  {
   "cell_type": "code",
   "execution_count": 24,
   "id": "ca410940",
   "metadata": {
    "execution": {
     "iopub.execute_input": "2022-05-15T00:47:53.811308Z",
     "iopub.status.busy": "2022-05-15T00:47:53.810764Z",
     "iopub.status.idle": "2022-05-15T00:47:54.027727Z",
     "shell.execute_reply": "2022-05-15T00:47:54.027292Z"
    },
    "papermill": {
     "duration": 0.272205,
     "end_time": "2022-05-15T00:47:54.027848",
     "exception": false,
     "start_time": "2022-05-15T00:47:53.755643",
     "status": "completed"
    },
    "tags": []
   },
   "outputs": [
    {
     "data": {
      "text/plain": [
       "<matplotlib.legend.Legend at 0x7f51201d0c18>"
      ]
     },
     "execution_count": 24,
     "metadata": {},
     "output_type": "execute_result"
    },
    {
     "data": {
      "image/png": "[encoded data removed]",
      "text/plain": [
       "<Figure size 1080x720 with 1 Axes>"
      ]
     },
     "metadata": {
      "needs_background": "light"
     },
     "output_type": "display_data"
    }
   ],
   "source": [
    "#comparing the results of NN and LR\n",
    "plt.figure(figsize=(15,10))\n",
    "\n",
    "# Neural Network plots\n",
    "plt.plot(acc_nn.accuracies, 'r-', label = \"Training Accuracies - NN\")\n",
    "plt.plot(acc_nn.test_accuracies, 'g-', label = \"Testing Accuracies - NN\")\n",
    "\n",
    "# Logistic Regression plots\n",
    "plt.plot(acc_lr.accuracies, 'k-', label = \"Training Accuracies - LR\")\n",
    "plt.plot(acc_lr.test_accuracies, 'b-', label = \"Testing Accuracies - LR\")\n",
    "plt.legend()"
   ]
  },
  {
   "cell_type": "markdown",
   "id": "80dfb35c",
   "metadata": {
    "papermill": {
     "duration": 0.042271,
     "end_time": "2022-05-15T00:47:54.112880",
     "exception": false,
     "start_time": "2022-05-15T00:47:54.070609",
     "status": "completed"
    },
    "tags": []
   },
   "source": [
    "#### Plotting the outputs of this layer of the NN.\n"
   ]
  },
  {
   "cell_type": "code",
   "execution_count": 25,
   "id": "45eb2ff5",
   "metadata": {
    "execution": {
     "iopub.execute_input": "2022-05-15T00:47:54.212664Z",
     "iopub.status.busy": "2022-05-15T00:47:54.211774Z",
     "iopub.status.idle": "2022-05-15T00:47:54.225577Z",
     "shell.execute_reply": "2022-05-15T00:47:54.226041Z"
    },
    "papermill": {
     "duration": 0.070989,
     "end_time": "2022-05-15T00:47:54.226186",
     "exception": false,
     "start_time": "2022-05-15T00:47:54.155197",
     "status": "completed"
    },
    "tags": []
   },
   "outputs": [],
   "source": [
    "new_model = Model(layers[:-2])\n",
    "testing_plot = new_model(testing_data_x)"
   ]
  },
  {
   "cell_type": "code",
   "execution_count": 26,
   "id": "4c0a5485",
   "metadata": {
    "execution": {
     "iopub.execute_input": "2022-05-15T00:47:54.323192Z",
     "iopub.status.busy": "2022-05-15T00:47:54.322647Z",
     "iopub.status.idle": "2022-05-15T00:47:54.536700Z",
     "shell.execute_reply": "2022-05-15T00:47:54.537123Z"
    },
    "papermill": {
     "duration": 0.268594,
     "end_time": "2022-05-15T00:47:54.537262",
     "exception": false,
     "start_time": "2022-05-15T00:47:54.268668",
     "status": "completed"
    },
    "tags": []
   },
   "outputs": [
    {
     "data": {
      "text/plain": [
       "Text(0.5, 1.0, 'Outputs')"
      ]
     },
     "execution_count": 26,
     "metadata": {},
     "output_type": "execute_result"
    },
    {
     "data": {
      "image/png": "[encoded data removed]",
      "text/plain": [
       "<Figure size 576x504 with 1 Axes>"
      ]
     },
     "metadata": {
      "needs_background": "light"
     },
     "output_type": "display_data"
    }
   ],
   "source": [
    "# Plotting the scatter plot of points and color coding by class\n",
    "plt.figure(figsize=(8,7))\n",
    "plt.scatter(testing_plot[:,0], testing_plot[:,1], alpha = 0.1, c = y_test.ravel());\n",
    "plt.title('Outputs')"
   ]
  },
  {
   "cell_type": "markdown",
   "id": "a74fcf8f",
   "metadata": {
    "papermill": {
     "duration": 0.045518,
     "end_time": "2022-05-15T00:47:54.628539",
     "exception": false,
     "start_time": "2022-05-15T00:47:54.583021",
     "status": "completed"
    },
    "tags": []
   },
   "source": [
    "Probability contours"
   ]
  },
  {
   "cell_type": "code",
   "execution_count": 27,
   "id": "d0afc8e3",
   "metadata": {
    "execution": {
     "iopub.execute_input": "2022-05-15T00:47:54.737171Z",
     "iopub.status.busy": "2022-05-15T00:47:54.734896Z",
     "iopub.status.idle": "2022-05-15T00:47:54.739123Z",
     "shell.execute_reply": "2022-05-15T00:47:54.739515Z"
    },
    "papermill": {
     "duration": 0.065422,
     "end_time": "2022-05-15T00:47:54.739654",
     "exception": false,
     "start_time": "2022-05-15T00:47:54.674232",
     "status": "completed"
    },
    "tags": []
   },
   "outputs": [],
   "source": [
    "model_prob = Model(layers[-2:]) "
   ]
  },
  {
   "cell_type": "code",
   "execution_count": 28,
   "id": "9b96e238",
   "metadata": {
    "execution": {
     "iopub.execute_input": "2022-05-15T00:47:54.879459Z",
     "iopub.status.busy": "2022-05-15T00:47:54.878905Z",
     "iopub.status.idle": "2022-05-15T00:47:54.885453Z",
     "shell.execute_reply": "2022-05-15T00:47:54.884983Z"
    },
    "papermill": {
     "duration": 0.068949,
     "end_time": "2022-05-15T00:47:54.885572",
     "exception": false,
     "start_time": "2022-05-15T00:47:54.816623",
     "status": "completed"
    },
    "tags": []
   },
   "outputs": [],
   "source": [
    "#creating the x and y ranges according to the above generated plot.\n",
    "x_range = np.linspace(-4, 1, 100) \n",
    "y_range = np.linspace(-6, 6, 100) \n",
    "x_grid, y_grid = np.meshgrid(x_range, y_range) # x_grid and y_grig are of size 100 X 100\n",
    "\n",
    "# converting x_grid and y_grid to continuous arrays\n",
    "x_gridflat = np.ravel(x_grid)\n",
    "y_gridflat = np.ravel(y_grid)\n",
    "\n",
    "# The last layer of the current model takes two columns as input. Hence transpose of np.vstack() is required.\n",
    "X = np.vstack((x_gridflat, y_gridflat)).T\n",
    "\n",
    "prob_contour = model_prob(X).reshape(100,100) "
   ]
  },
  {
   "cell_type": "code",
   "execution_count": 29,
   "id": "da72499a",
   "metadata": {
    "execution": {
     "iopub.execute_input": "2022-05-15T00:47:54.992366Z",
     "iopub.status.busy": "2022-05-15T00:47:54.991831Z",
     "iopub.status.idle": "2022-05-15T00:47:55.229349Z",
     "shell.execute_reply": "2022-05-15T00:47:55.228468Z"
    },
    "papermill": {
     "duration": 0.2984,
     "end_time": "2022-05-15T00:47:55.229491",
     "exception": false,
     "start_time": "2022-05-15T00:47:54.931091",
     "status": "completed"
    },
    "tags": []
   },
   "outputs": [
    {
     "data": {
      "image/png": "[encoded data removed]",
      "text/plain": [
       "<Figure size 720x648 with 1 Axes>"
      ]
     },
     "metadata": {
      "needs_background": "light"
     },
     "output_type": "display_data"
    }
   ],
   "source": [
    "plt.figure(figsize=(10,9))\n",
    "plt.scatter(testing_plot[:,0], testing_plot[:,1], alpha = 0.1, c = y_test.ravel())\n",
    "contours = plt.contour(x_grid,y_grid,prob_contour)\n",
    "plt.title('Probability Contours')\n",
    "plt.clabel(contours, inline = True );"
   ]
  },
  {
   "cell_type": "code",
   "execution_count": null,
   "id": "e81b4ac7",
   "metadata": {
    "papermill": {
     "duration": 0.048396,
     "end_time": "2022-05-15T00:47:55.326567",
     "exception": false,
     "start_time": "2022-05-15T00:47:55.278171",
     "status": "completed"
    },
    "tags": []
   },
   "outputs": [],
   "source": []
  }
 ],
 "metadata": {
  "kernelspec": {
   "display_name": "Python 3",
   "language": "python",
   "name": "python3"
  },
  "language_info": {
   "codemirror_mode": {
    "name": "ipython",
    "version": 3
   },
   "file_extension": ".py",
   "mimetype": "text/x-python",
   "name": "python",
   "nbconvert_exporter": "python",
   "pygments_lexer": "ipython3",
   "version": "3.6.15"
  },
  "papermill": {
   "default_parameters": {},
   "duration": 96.654546,
   "end_time": "2022-05-15T00:47:55.792955",
   "environment_variables": {},
   "exception": null,
   "input_path": "2020-08-11-part2.ipynb",
   "output_path": "2020-08-11-part2.ipynb",
   "parameters": {},
   "start_time": "2022-05-15T00:46:19.138409",
   "version": "2.3.3"
  }
 },
 "nbformat": 4,
 "nbformat_minor": 5
}