{
 "cells": [
  {
   "cell_type": "markdown",
   "id": "98380cd3",
   "metadata": {
    "papermill": {
     "duration": 0.035471,
     "end_time": "2022-03-26T10:09:10.774064",
     "exception": false,
     "start_time": "2022-03-26T10:09:10.738593",
     "status": "completed"
    },
    "tags": []
   },
   "source": [
    "# Distinguish Your Own Digits (DYOD)"
   ]
  },
  {
   "cell_type": "markdown",
   "id": "ef31240d",
   "metadata": {
    "papermill": {
     "duration": 0.03211,
     "end_time": "2022-03-26T10:09:10.835555",
     "exception": false,
     "start_time": "2022-03-26T10:09:10.803445",
     "status": "completed"
    },
    "tags": []
   },
   "source": [
    "You are going to write a classifier that distinguishes between the number 3 and number 8."
   ]
  },
  {
   "cell_type": "code",
   "execution_count": 1,
   "id": "b15c8646",
   "metadata": {
    "execution": {
     "iopub.execute_input": "2022-03-26T10:09:10.904972Z",
     "iopub.status.busy": "2022-03-26T10:09:10.904292Z",
     "iopub.status.idle": "2022-03-26T10:09:10.921000Z",
     "shell.execute_reply": "2022-03-26T10:09:10.920425Z"
    },
    "papermill": {
     "duration": 0.055355,
     "end_time": "2022-03-26T10:09:10.921150",
     "exception": false,
     "start_time": "2022-03-26T10:09:10.865795",
     "status": "completed"
    },
    "tags": []
   },
   "outputs": [],
   "source": [
    "%load_ext autoreload\n",
    "%autoreload 2"
   ]
  },
  {
   "cell_type": "code",
   "execution_count": 2,
   "id": "22ef38dc",
   "metadata": {
    "execution": {
     "iopub.execute_input": "2022-03-26T10:09:10.991028Z",
     "iopub.status.busy": "2022-03-26T10:09:10.990322Z",
     "iopub.status.idle": "2022-03-26T10:09:11.686921Z",
     "shell.execute_reply": "2022-03-26T10:09:11.685850Z"
    },
    "papermill": {
     "duration": 0.735988,
     "end_time": "2022-03-26T10:09:11.687103",
     "exception": false,
     "start_time": "2022-03-26T10:09:10.951115",
     "status": "completed"
    },
    "tags": []
   },
   "outputs": [],
   "source": [
    "%matplotlib inline\n",
    "import numpy as np\n",
    "import matplotlib.pyplot as plt\n",
    "import pandas as pd"
   ]
  },
  {
   "cell_type": "markdown",
   "id": "ba036198",
   "metadata": {
    "papermill": {
     "duration": 0.032031,
     "end_time": "2022-03-26T10:09:11.750771",
     "exception": false,
     "start_time": "2022-03-26T10:09:11.718740",
     "status": "completed"
    },
    "tags": []
   },
   "source": [
    "From the command line run `pip install mnist`. This is a library that will help you bring down the mnist dataset. If you run this from a notebook, you need to put  `!pip install mnist` in a cell by itself."
   ]
  },
  {
   "cell_type": "code",
   "execution_count": 3,
   "id": "bb6ad8a1",
   "metadata": {
    "execution": {
     "iopub.execute_input": "2022-03-26T10:09:11.819029Z",
     "iopub.status.busy": "2022-03-26T10:09:11.818334Z",
     "iopub.status.idle": "2022-03-26T10:09:13.887243Z",
     "shell.execute_reply": "2022-03-26T10:09:13.886209Z"
    },
    "papermill": {
     "duration": 2.10507,
     "end_time": "2022-03-26T10:09:13.887397",
     "exception": false,
     "start_time": "2022-03-26T10:09:11.782327",
     "status": "completed"
    },
    "tags": []
   },
   "outputs": [
    {
     "name": "stdout",
     "output_type": "stream",
     "text": [
      "Collecting mnist\r\n"
     ]
    },
    {
     "name": "stdout",
     "output_type": "stream",
     "text": [
      "  Downloading mnist-0.2.2-py2.py3-none-any.whl (3.5 kB)\r\n",
      "Requirement already satisfied: numpy in /opt/hostedtoolcache/Python/3.6.15/x64/lib/python3.6/site-packages (from mnist) (1.19.5)\r\n"
     ]
    },
    {
     "name": "stdout",
     "output_type": "stream",
     "text": [
      "Installing collected packages: mnist\r\n"
     ]
    },
    {
     "name": "stdout",
     "output_type": "stream",
     "text": [
      "Successfully installed mnist-0.2.2\r\n"
     ]
    }
   ],
   "source": [
    "!pip install mnist"
   ]
  },
  {
   "cell_type": "markdown",
   "id": "69df9c9a",
   "metadata": {
    "papermill": {
     "duration": 0.031223,
     "end_time": "2022-03-26T10:09:13.950595",
     "exception": false,
     "start_time": "2022-03-26T10:09:13.919372",
     "status": "completed"
    },
    "tags": []
   },
   "source": [
    "## Preparing the Data"
   ]
  },
  {
   "cell_type": "code",
   "execution_count": 4,
   "id": "7f69d806",
   "metadata": {
    "execution": {
     "iopub.execute_input": "2022-03-26T10:09:14.030568Z",
     "iopub.status.busy": "2022-03-26T10:09:14.017749Z",
     "iopub.status.idle": "2022-03-26T10:09:14.034499Z",
     "shell.execute_reply": "2022-03-26T10:09:14.033973Z"
    },
    "papermill": {
     "duration": 0.053562,
     "end_time": "2022-03-26T10:09:14.034674",
     "exception": false,
     "start_time": "2022-03-26T10:09:13.981112",
     "status": "completed"
    },
    "tags": []
   },
   "outputs": [],
   "source": [
    "import mnist"
   ]
  },
  {
   "cell_type": "code",
   "execution_count": 5,
   "id": "a411e44f",
   "metadata": {
    "execution": {
     "iopub.execute_input": "2022-03-26T10:09:14.102280Z",
     "iopub.status.busy": "2022-03-26T10:09:14.101577Z",
     "iopub.status.idle": "2022-03-26T10:09:14.696777Z",
     "shell.execute_reply": "2022-03-26T10:09:14.696140Z"
    },
    "papermill": {
     "duration": 0.630353,
     "end_time": "2022-03-26T10:09:14.696926",
     "exception": false,
     "start_time": "2022-03-26T10:09:14.066573",
     "status": "completed"
    },
    "tags": []
   },
   "outputs": [],
   "source": [
    "train_images = mnist.train_images()\n",
    "train_labels = mnist.train_labels()"
   ]
  },
  {
   "cell_type": "code",
   "execution_count": 6,
   "id": "dceab3a5",
   "metadata": {
    "execution": {
     "iopub.execute_input": "2022-03-26T10:09:14.764044Z",
     "iopub.status.busy": "2022-03-26T10:09:14.763458Z",
     "iopub.status.idle": "2022-03-26T10:09:14.777813Z",
     "shell.execute_reply": "2022-03-26T10:09:14.778356Z"
    },
    "papermill": {
     "duration": 0.051225,
     "end_time": "2022-03-26T10:09:14.778472",
     "exception": false,
     "start_time": "2022-03-26T10:09:14.727247",
     "status": "completed"
    },
    "tags": []
   },
   "outputs": [
    {
     "data": {
      "text/plain": [
       "((60000, 28, 28), (60000,))"
      ]
     },
     "execution_count": 6,
     "metadata": {},
     "output_type": "execute_result"
    }
   ],
   "source": [
    "train_images.shape, train_labels.shape"
   ]
  },
  {
   "cell_type": "code",
   "execution_count": 7,
   "id": "f50dc2bb",
   "metadata": {
    "execution": {
     "iopub.execute_input": "2022-03-26T10:09:14.842851Z",
     "iopub.status.busy": "2022-03-26T10:09:14.842154Z",
     "iopub.status.idle": "2022-03-26T10:09:14.962046Z",
     "shell.execute_reply": "2022-03-26T10:09:14.961378Z"
    },
    "papermill": {
     "duration": 0.153492,
     "end_time": "2022-03-26T10:09:14.962177",
     "exception": false,
     "start_time": "2022-03-26T10:09:14.808685",
     "status": "completed"
    },
    "tags": []
   },
   "outputs": [],
   "source": [
    "test_images = mnist.test_images()\n",
    "test_labels = mnist.test_labels()"
   ]
  },
  {
   "cell_type": "code",
   "execution_count": 8,
   "id": "fc38cf1b",
   "metadata": {
    "execution": {
     "iopub.execute_input": "2022-03-26T10:09:15.026927Z",
     "iopub.status.busy": "2022-03-26T10:09:15.026298Z",
     "iopub.status.idle": "2022-03-26T10:09:15.039988Z",
     "shell.execute_reply": "2022-03-26T10:09:15.040608Z"
    },
    "papermill": {
     "duration": 0.048222,
     "end_time": "2022-03-26T10:09:15.040716",
     "exception": false,
     "start_time": "2022-03-26T10:09:14.992494",
     "status": "completed"
    },
    "tags": []
   },
   "outputs": [
    {
     "data": {
      "text/plain": [
       "((10000, 28, 28), (10000,))"
      ]
     },
     "execution_count": 8,
     "metadata": {},
     "output_type": "execute_result"
    }
   ],
   "source": [
    "test_images.shape, test_labels.shape"
   ]
  },
  {
   "cell_type": "code",
   "execution_count": 9,
   "id": "f9ed8fe0",
   "metadata": {
    "execution": {
     "iopub.execute_input": "2022-03-26T10:09:15.110724Z",
     "iopub.status.busy": "2022-03-26T10:09:15.110077Z",
     "iopub.status.idle": "2022-03-26T10:09:15.303379Z",
     "shell.execute_reply": "2022-03-26T10:09:15.302862Z"
    },
    "papermill": {
     "duration": 0.22908,
     "end_time": "2022-03-26T10:09:15.303545",
     "exception": false,
     "start_time": "2022-03-26T10:09:15.074465",
     "status": "completed"
    },
    "tags": []
   },
   "outputs": [
    {
     "name": "stdout",
     "output_type": "stream",
     "text": [
      "2\n"
     ]
    },
    {
     "data": {
      "text/plain": [
       "<matplotlib.image.AxesImage at 0x7f66338465c0>"
      ]
     },
     "execution_count": 9,
     "metadata": {},
     "output_type": "execute_result"
    },
    {
     "data": {
      "image/png": "[encoded data removed]",
      "text/plain": [
       "<Figure size 432x288 with 1 Axes>"
      ]
     },
     "metadata": {
      "needs_background": "light"
     },
     "output_type": "display_data"
    }
   ],
   "source": [
    "image_index = 7776 # You may select anything up to 60,000\n",
    "print(train_labels[image_index]) \n",
    "plt.imshow(train_images[image_index], cmap='Greys')"
   ]
  },
  {
   "cell_type": "markdown",
   "id": "a8d2388d",
   "metadata": {
    "papermill": {
     "duration": 0.033814,
     "end_time": "2022-03-26T10:09:15.371692",
     "exception": false,
     "start_time": "2022-03-26T10:09:15.337878",
     "status": "completed"
    },
    "tags": []
   },
   "source": [
    "## Filter data to get 3 and 8 out"
   ]
  },
  {
   "cell_type": "code",
   "execution_count": 10,
   "id": "776f7fc7",
   "metadata": {
    "execution": {
     "iopub.execute_input": "2022-03-26T10:09:15.444607Z",
     "iopub.status.busy": "2022-03-26T10:09:15.443773Z",
     "iopub.status.idle": "2022-03-26T10:09:15.465793Z",
     "shell.execute_reply": "2022-03-26T10:09:15.465267Z"
    },
    "papermill": {
     "duration": 0.061668,
     "end_time": "2022-03-26T10:09:15.465924",
     "exception": false,
     "start_time": "2022-03-26T10:09:15.404256",
     "status": "completed"
    },
    "tags": []
   },
   "outputs": [],
   "source": [
    "train_filter = np.where((train_labels == 3 ) | (train_labels == 8))\n",
    "test_filter = np.where((test_labels == 3) | (test_labels == 8))\n",
    "X_train, y_train = train_images[train_filter], train_labels[train_filter]\n",
    "X_test, y_test = test_images[test_filter], test_labels[test_filter]"
   ]
  },
  {
   "cell_type": "markdown",
   "id": "948f0b7e",
   "metadata": {
    "papermill": {
     "duration": 0.03241,
     "end_time": "2022-03-26T10:09:15.531425",
     "exception": false,
     "start_time": "2022-03-26T10:09:15.499015",
     "status": "completed"
    },
    "tags": []
   },
   "source": [
    "We normalize the pizel values in the 0 to 1 range"
   ]
  },
  {
   "cell_type": "code",
   "execution_count": 11,
   "id": "ee4c2166",
   "metadata": {
    "execution": {
     "iopub.execute_input": "2022-03-26T10:09:15.604251Z",
     "iopub.status.busy": "2022-03-26T10:09:15.603612Z",
     "iopub.status.idle": "2022-03-26T10:09:15.668150Z",
     "shell.execute_reply": "2022-03-26T10:09:15.668829Z"
    },
    "papermill": {
     "duration": 0.104141,
     "end_time": "2022-03-26T10:09:15.669092",
     "exception": false,
     "start_time": "2022-03-26T10:09:15.564951",
     "status": "completed"
    },
    "tags": []
   },
   "outputs": [],
   "source": [
    "X_train = X_train/255.\n",
    "X_test = X_test/255."
   ]
  },
  {
   "cell_type": "markdown",
   "id": "ddcf4fab",
   "metadata": {
    "papermill": {
     "duration": 0.031111,
     "end_time": "2022-03-26T10:09:15.733469",
     "exception": false,
     "start_time": "2022-03-26T10:09:15.702358",
     "status": "completed"
    },
    "tags": []
   },
   "source": [
    "And setup the labels as 1 (when the digit is 3) and 0 (when the digit is 8)"
   ]
  },
  {
   "cell_type": "code",
   "execution_count": 12,
   "id": "7dc908f2",
   "metadata": {
    "execution": {
     "iopub.execute_input": "2022-03-26T10:09:15.801025Z",
     "iopub.status.busy": "2022-03-26T10:09:15.800438Z",
     "iopub.status.idle": "2022-03-26T10:09:15.812814Z",
     "shell.execute_reply": "2022-03-26T10:09:15.813288Z"
    },
    "papermill": {
     "duration": 0.050317,
     "end_time": "2022-03-26T10:09:15.813431",
     "exception": false,
     "start_time": "2022-03-26T10:09:15.763114",
     "status": "completed"
    },
    "tags": []
   },
   "outputs": [],
   "source": [
    "y_train = 1*(y_train==3)\n",
    "y_test = 1*(y_test==3)"
   ]
  },
  {
   "cell_type": "code",
   "execution_count": 13,
   "id": "01e4e969",
   "metadata": {
    "execution": {
     "iopub.execute_input": "2022-03-26T10:09:15.884620Z",
     "iopub.status.busy": "2022-03-26T10:09:15.883560Z",
     "iopub.status.idle": "2022-03-26T10:09:15.897303Z",
     "shell.execute_reply": "2022-03-26T10:09:15.897854Z"
    },
    "papermill": {
     "duration": 0.052753,
     "end_time": "2022-03-26T10:09:15.897970",
     "exception": false,
     "start_time": "2022-03-26T10:09:15.845217",
     "status": "completed"
    },
    "tags": []
   },
   "outputs": [
    {
     "data": {
      "text/plain": [
       "((11982, 28, 28), (1984, 28, 28))"
      ]
     },
     "execution_count": 13,
     "metadata": {},
     "output_type": "execute_result"
    }
   ],
   "source": [
    "X_train.shape, X_test.shape"
   ]
  },
  {
   "cell_type": "markdown",
   "id": "5ccf3f85",
   "metadata": {
    "papermill": {
     "duration": 0.030789,
     "end_time": "2022-03-26T10:09:15.961117",
     "exception": false,
     "start_time": "2022-03-26T10:09:15.930328",
     "status": "completed"
    },
    "tags": []
   },
   "source": [
    "We reshape the data to flatten the image pixels into a set of features or co-variates:"
   ]
  },
  {
   "cell_type": "code",
   "execution_count": 14,
   "id": "5286a4a3",
   "metadata": {
    "execution": {
     "iopub.execute_input": "2022-03-26T10:09:16.030870Z",
     "iopub.status.busy": "2022-03-26T10:09:16.030250Z",
     "iopub.status.idle": "2022-03-26T10:09:16.044659Z",
     "shell.execute_reply": "2022-03-26T10:09:16.045175Z"
    },
    "papermill": {
     "duration": 0.051865,
     "end_time": "2022-03-26T10:09:16.045392",
     "exception": false,
     "start_time": "2022-03-26T10:09:15.993527",
     "status": "completed"
    },
    "tags": []
   },
   "outputs": [
    {
     "data": {
      "text/plain": [
       "((11982, 784), (1984, 784))"
      ]
     },
     "execution_count": 14,
     "metadata": {},
     "output_type": "execute_result"
    }
   ],
   "source": [
    "X_train = X_train.reshape(X_train.shape[0], -1)\n",
    "X_test = X_test.reshape(X_test.shape[0], -1)\n",
    "X_train.shape, X_test.shape"
   ]
  },
  {
   "cell_type": "code",
   "execution_count": 15,
   "id": "73c5f88a",
   "metadata": {
    "execution": {
     "iopub.execute_input": "2022-03-26T10:09:16.112524Z",
     "iopub.status.busy": "2022-03-26T10:09:16.111851Z",
     "iopub.status.idle": "2022-03-26T10:09:16.131919Z",
     "shell.execute_reply": "2022-03-26T10:09:16.132404Z"
    },
    "papermill": {
     "duration": 0.055477,
     "end_time": "2022-03-26T10:09:16.132516",
     "exception": false,
     "start_time": "2022-03-26T10:09:16.077039",
     "status": "completed"
    },
    "tags": []
   },
   "outputs": [],
   "source": [
    "#Impoting functions from 'Kudzu'\n",
    "from kudzu.model import Model\n",
    "from kudzu.train import Learner\n",
    "from kudzu.optim import GD\n",
    "from kudzu.data import Data, Sampler,Dataloader\n",
    "\n",
    "from kudzu.callbacks import AccCallback\n",
    "from kudzu.callbacks import ClfCallback\n",
    "\n",
    "from kudzu.loss import MSE\n",
    "\n",
    "from kudzu.layer import Sigmoid,Relu\n",
    "from kudzu.layer import Affine"
   ]
  },
  {
   "cell_type": "markdown",
   "id": "bc01172a",
   "metadata": {
    "papermill": {
     "duration": 0.032223,
     "end_time": "2022-03-26T10:09:16.197536",
     "exception": false,
     "start_time": "2022-03-26T10:09:16.165313",
     "status": "completed"
    },
    "tags": []
   },
   "source": [
    "### Let us create a `Config` class, to store important parameters. \n",
    "This class essentially plays the role of a dictionary."
   ]
  },
  {
   "cell_type": "code",
   "execution_count": 16,
   "id": "978281aa",
   "metadata": {
    "execution": {
     "iopub.execute_input": "2022-03-26T10:09:16.271673Z",
     "iopub.status.busy": "2022-03-26T10:09:16.271021Z",
     "iopub.status.idle": "2022-03-26T10:09:16.283569Z",
     "shell.execute_reply": "2022-03-26T10:09:16.283041Z"
    },
    "papermill": {
     "duration": 0.05312,
     "end_time": "2022-03-26T10:09:16.283715",
     "exception": false,
     "start_time": "2022-03-26T10:09:16.230595",
     "status": "completed"
    },
    "tags": []
   },
   "outputs": [],
   "source": [
    "class Config:\n",
    "    pass\n",
    "config = Config()\n",
    "config.lr = 0.001\n",
    "config.num_epochs = 250\n",
    "config.bs = 50"
   ]
  },
  {
   "cell_type": "markdown",
   "id": "1385fa59",
   "metadata": {
    "papermill": {
     "duration": 0.032985,
     "end_time": "2022-03-26T10:09:16.349393",
     "exception": false,
     "start_time": "2022-03-26T10:09:16.316408",
     "status": "completed"
    },
    "tags": []
   },
   "source": [
    "### Running Models with the Training data\n",
    "Details about the network layers:\n",
    "- A first affine layer has 784 inputs and does 100 affine transforms. These are followed by a Relu\n",
    "- A second affine layer has 100 inputs from the 100 activations of the past layer, and does 100 affine transforms. These are followed by a Relu\n",
    "- A third affine layer has 100 activations and does 2 affine transformations to create an embedding for visualization. There is no non-linearity here.\n",
    "- A final \"logistic regression\" which has an affine transform from 2 inputs to 1 output, which is squeezed through a sigmoid.\n"
   ]
  },
  {
   "cell_type": "code",
   "execution_count": 17,
   "id": "2b9c66db",
   "metadata": {
    "execution": {
     "iopub.execute_input": "2022-03-26T10:09:16.422006Z",
     "iopub.status.busy": "2022-03-26T10:09:16.421112Z",
     "iopub.status.idle": "2022-03-26T10:09:16.435051Z",
     "shell.execute_reply": "2022-03-26T10:09:16.434549Z"
    },
    "papermill": {
     "duration": 0.053283,
     "end_time": "2022-03-26T10:09:16.435175",
     "exception": false,
     "start_time": "2022-03-26T10:09:16.381892",
     "status": "completed"
    },
    "tags": []
   },
   "outputs": [],
   "source": [
    "data = Data(X_train, y_train.reshape(-1,1))\n",
    "sampler = Sampler(data, config.bs, shuffle=True)\n",
    "\n",
    "dl = Dataloader(data, sampler)\n",
    "\n",
    "opt = GD(config.lr)\n",
    "loss = MSE()"
   ]
  },
  {
   "cell_type": "code",
   "execution_count": 18,
   "id": "b275e4c2",
   "metadata": {
    "execution": {
     "iopub.execute_input": "2022-03-26T10:09:16.509779Z",
     "iopub.status.busy": "2022-03-26T10:09:16.509029Z",
     "iopub.status.idle": "2022-03-26T10:09:16.520822Z",
     "shell.execute_reply": "2022-03-26T10:09:16.521363Z"
    },
    "papermill": {
     "duration": 0.053394,
     "end_time": "2022-03-26T10:09:16.521592",
     "exception": false,
     "start_time": "2022-03-26T10:09:16.468198",
     "status": "completed"
    },
    "tags": []
   },
   "outputs": [],
   "source": [
    "training_data_x = X_train\n",
    "testing_data_x = X_test\n",
    "training_data_y = y_train.reshape(-1,1)\n",
    "testing_data_y = y_test.reshape(-1,1)"
   ]
  },
  {
   "cell_type": "code",
   "execution_count": 19,
   "id": "76951160",
   "metadata": {
    "execution": {
     "iopub.execute_input": "2022-03-26T10:09:16.595522Z",
     "iopub.status.busy": "2022-03-26T10:09:16.594807Z",
     "iopub.status.idle": "2022-03-26T10:09:16.613747Z",
     "shell.execute_reply": "2022-03-26T10:09:16.614251Z"
    },
    "papermill": {
     "duration": 0.059146,
     "end_time": "2022-03-26T10:09:16.614433",
     "exception": false,
     "start_time": "2022-03-26T10:09:16.555287",
     "status": "completed"
    },
    "tags": []
   },
   "outputs": [
    {
     "name": "stdout",
     "output_type": "stream",
     "text": [
      "xavier\n",
      "xavier\n",
      "xavier\n",
      "xavier\n",
      "xavier\n"
     ]
    }
   ],
   "source": [
    "layers = [Affine(\"first\", 784, 100), Relu(\"first\"), Affine(\"second\", 100, 100), Relu(\"second\"), Affine(\"third\", 100, 2), Affine(\"last\", 2, 1), Sigmoid(\"last\")]\n",
    "model_nn = Model(layers)\n",
    "model_lr = Model([Affine(\"logits\", 784, 1), Sigmoid(\"sigmoid\")])"
   ]
  },
  {
   "cell_type": "code",
   "execution_count": 20,
   "id": "6eede77a",
   "metadata": {
    "execution": {
     "iopub.execute_input": "2022-03-26T10:09:16.689000Z",
     "iopub.status.busy": "2022-03-26T10:09:16.688287Z",
     "iopub.status.idle": "2022-03-26T10:09:16.704051Z",
     "shell.execute_reply": "2022-03-26T10:09:16.703494Z"
    },
    "papermill": {
     "duration": 0.056337,
     "end_time": "2022-03-26T10:09:16.704197",
     "exception": false,
     "start_time": "2022-03-26T10:09:16.647860",
     "status": "completed"
    },
    "tags": []
   },
   "outputs": [],
   "source": [
    "nn_learner = Learner(loss, model_nn, opt, config.num_epochs)\n",
    "acc_nn = ClfCallback(nn_learner, config.bs, training_data_x , testing_data_x, training_data_y, testing_data_y)\n",
    "nn_learner.set_callbacks([acc_nn])"
   ]
  },
  {
   "cell_type": "code",
   "execution_count": 21,
   "id": "877b6cc7",
   "metadata": {
    "execution": {
     "iopub.execute_input": "2022-03-26T10:09:16.777875Z",
     "iopub.status.busy": "2022-03-26T10:09:16.777179Z",
     "iopub.status.idle": "2022-03-26T10:09:16.791658Z",
     "shell.execute_reply": "2022-03-26T10:09:16.791102Z"
    },
    "papermill": {
     "duration": 0.053622,
     "end_time": "2022-03-26T10:09:16.791797",
     "exception": false,
     "start_time": "2022-03-26T10:09:16.738175",
     "status": "completed"
    },
    "tags": []
   },
   "outputs": [],
   "source": [
    "lr_learner = Learner(loss, model_lr, opt, config.num_epochs)\n",
    "acc_lr = ClfCallback(lr_learner, config.bs, training_data_x , testing_data_x, training_data_y, testing_data_y)\n",
    "lr_learner.set_callbacks([acc_lr])"
   ]
  },
  {
   "cell_type": "code",
   "execution_count": 22,
   "id": "d9b133c3",
   "metadata": {
    "execution": {
     "iopub.execute_input": "2022-03-26T10:09:16.877947Z",
     "iopub.status.busy": "2022-03-26T10:09:16.877203Z",
     "iopub.status.idle": "2022-03-26T10:11:40.069694Z",
     "shell.execute_reply": "2022-03-26T10:11:40.070609Z"
    },
    "papermill": {
     "duration": 143.24087,
     "end_time": "2022-03-26T10:11:40.070830",
     "exception": false,
     "start_time": "2022-03-26T10:09:16.829960",
     "status": "completed"
    },
    "tags": []
   },
   "outputs": [
    {
     "name": "stdout",
     "output_type": "stream",
     "text": [
      "Epoch 0, Loss 0.2553\n",
      "Training Accuracy: 0.3964, Testing Accuracy: 0.3664\n",
      "\n"
     ]
    },
    {
     "name": "stdout",
     "output_type": "stream",
     "text": [
      "Epoch 10, Loss 0.2167\n",
      "Training Accuracy: 0.8382, Testing Accuracy: 0.8463\n",
      "\n"
     ]
    },
    {
     "name": "stdout",
     "output_type": "stream",
     "text": [
      "Epoch 20, Loss 0.1234\n",
      "Training Accuracy: 0.8939, Testing Accuracy: 0.9022\n",
      "\n"
     ]
    },
    {
     "name": "stdout",
     "output_type": "stream",
     "text": [
      "Epoch 30, Loss 0.0705\n",
      "Training Accuracy: 0.9275, Testing Accuracy: 0.9355\n",
      "\n"
     ]
    },
    {
     "name": "stdout",
     "output_type": "stream",
     "text": [
      "Epoch 40, Loss 0.0514\n",
      "Training Accuracy: 0.9453, Testing Accuracy: 0.9556\n",
      "\n"
     ]
    },
    {
     "name": "stdout",
     "output_type": "stream",
     "text": [
      "Epoch 50, Loss 0.0427\n",
      "Training Accuracy: 0.9532, Testing Accuracy: 0.9627\n",
      "\n"
     ]
    },
    {
     "name": "stdout",
     "output_type": "stream",
     "text": [
      "Epoch 60, Loss 0.0379\n",
      "Training Accuracy: 0.9571, Testing Accuracy: 0.9652\n",
      "\n"
     ]
    },
    {
     "name": "stdout",
     "output_type": "stream",
     "text": [
      "Epoch 70, Loss 0.0349\n",
      "Training Accuracy: 0.9596, Testing Accuracy: 0.9693\n",
      "\n"
     ]
    },
    {
     "name": "stdout",
     "output_type": "stream",
     "text": [
      "Epoch 80, Loss 0.0327\n",
      "Training Accuracy: 0.9618, Testing Accuracy: 0.9698\n",
      "\n"
     ]
    },
    {
     "name": "stdout",
     "output_type": "stream",
     "text": [
      "Epoch 90, Loss 0.031\n",
      "Training Accuracy: 0.9636, Testing Accuracy: 0.9703\n",
      "\n"
     ]
    },
    {
     "name": "stdout",
     "output_type": "stream",
     "text": [
      "Epoch 100, Loss 0.0297\n",
      "Training Accuracy: 0.9653, Testing Accuracy: 0.9708\n",
      "\n"
     ]
    },
    {
     "name": "stdout",
     "output_type": "stream",
     "text": [
      "Epoch 110, Loss 0.0286\n",
      "Training Accuracy: 0.9667, Testing Accuracy: 0.9703\n",
      "\n"
     ]
    },
    {
     "name": "stdout",
     "output_type": "stream",
     "text": [
      "Epoch 120, Loss 0.0276\n",
      "Training Accuracy: 0.9675, Testing Accuracy: 0.9703\n",
      "\n"
     ]
    },
    {
     "name": "stdout",
     "output_type": "stream",
     "text": [
      "Epoch 130, Loss 0.0268\n",
      "Training Accuracy: 0.9682, Testing Accuracy: 0.9713\n",
      "\n"
     ]
    },
    {
     "name": "stdout",
     "output_type": "stream",
     "text": [
      "Epoch 140, Loss 0.026\n",
      "Training Accuracy: 0.9690, Testing Accuracy: 0.9703\n",
      "\n"
     ]
    },
    {
     "name": "stdout",
     "output_type": "stream",
     "text": [
      "Epoch 150, Loss 0.0253\n",
      "Training Accuracy: 0.9698, Testing Accuracy: 0.9718\n",
      "\n"
     ]
    },
    {
     "name": "stdout",
     "output_type": "stream",
     "text": [
      "Epoch 160, Loss 0.0247\n",
      "Training Accuracy: 0.9704, Testing Accuracy: 0.9718\n",
      "\n"
     ]
    },
    {
     "name": "stdout",
     "output_type": "stream",
     "text": [
      "Epoch 170, Loss 0.0241\n",
      "Training Accuracy: 0.9710, Testing Accuracy: 0.9718\n",
      "\n"
     ]
    },
    {
     "name": "stdout",
     "output_type": "stream",
     "text": [
      "Epoch 180, Loss 0.0236\n",
      "Training Accuracy: 0.9720, Testing Accuracy: 0.9718\n",
      "\n"
     ]
    },
    {
     "name": "stdout",
     "output_type": "stream",
     "text": [
      "Epoch 190, Loss 0.023\n",
      "Training Accuracy: 0.9726, Testing Accuracy: 0.9723\n",
      "\n"
     ]
    },
    {
     "name": "stdout",
     "output_type": "stream",
     "text": [
      "Epoch 200, Loss 0.0225\n",
      "Training Accuracy: 0.9729, Testing Accuracy: 0.9728\n",
      "\n"
     ]
    },
    {
     "name": "stdout",
     "output_type": "stream",
     "text": [
      "Epoch 210, Loss 0.0221\n",
      "Training Accuracy: 0.9735, Testing Accuracy: 0.9723\n",
      "\n"
     ]
    },
    {
     "name": "stdout",
     "output_type": "stream",
     "text": [
      "Epoch 220, Loss 0.0216\n",
      "Training Accuracy: 0.9743, Testing Accuracy: 0.9728\n",
      "\n"
     ]
    },
    {
     "name": "stdout",
     "output_type": "stream",
     "text": [
      "Epoch 230, Loss 0.0212\n",
      "Training Accuracy: 0.9749, Testing Accuracy: 0.9728\n",
      "\n"
     ]
    },
    {
     "name": "stdout",
     "output_type": "stream",
     "text": [
      "Epoch 240, Loss 0.0208\n",
      "Training Accuracy: 0.9754, Testing Accuracy: 0.9733\n",
      "\n"
     ]
    },
    {
     "data": {
      "text/plain": [
       "0.0011525373107291869"
      ]
     },
     "execution_count": 22,
     "metadata": {},
     "output_type": "execute_result"
    }
   ],
   "source": [
    "nn_learner.train_loop(dl)"
   ]
  },
  {
   "cell_type": "code",
   "execution_count": 23,
   "id": "e0163366",
   "metadata": {
    "execution": {
     "iopub.execute_input": "2022-03-26T10:11:40.167471Z",
     "iopub.status.busy": "2022-03-26T10:11:40.166751Z",
     "iopub.status.idle": "2022-03-26T10:12:00.769873Z",
     "shell.execute_reply": "2022-03-26T10:12:00.770718Z"
    },
    "papermill": {
     "duration": 20.655394,
     "end_time": "2022-03-26T10:12:00.770881",
     "exception": false,
     "start_time": "2022-03-26T10:11:40.115487",
     "status": "completed"
    },
    "tags": []
   },
   "outputs": [
    {
     "name": "stdout",
     "output_type": "stream",
     "text": [
      "Epoch 0, Loss 0.2604\n",
      "Training Accuracy: 0.6109, Testing Accuracy: 0.6043\n",
      "\n"
     ]
    },
    {
     "name": "stdout",
     "output_type": "stream",
     "text": [
      "Epoch 10, Loss 0.1035\n",
      "Training Accuracy: 0.9093, Testing Accuracy: 0.9194\n",
      "\n"
     ]
    },
    {
     "name": "stdout",
     "output_type": "stream",
     "text": [
      "Epoch 20, Loss 0.0795\n",
      "Training Accuracy: 0.9258, Testing Accuracy: 0.9365\n",
      "\n"
     ]
    },
    {
     "name": "stdout",
     "output_type": "stream",
     "text": [
      "Epoch 30, Loss 0.0687\n",
      "Training Accuracy: 0.9349, Testing Accuracy: 0.9461\n",
      "\n"
     ]
    },
    {
     "name": "stdout",
     "output_type": "stream",
     "text": [
      "Epoch 40, Loss 0.0621\n",
      "Training Accuracy: 0.9395, Testing Accuracy: 0.9521\n",
      "\n"
     ]
    },
    {
     "name": "stdout",
     "output_type": "stream",
     "text": [
      "Epoch 50, Loss 0.0576\n",
      "Training Accuracy: 0.9423, Testing Accuracy: 0.9556\n",
      "\n"
     ]
    },
    {
     "name": "stdout",
     "output_type": "stream",
     "text": [
      "Epoch 60, Loss 0.0543\n",
      "Training Accuracy: 0.9453, Testing Accuracy: 0.9567\n",
      "\n"
     ]
    },
    {
     "name": "stdout",
     "output_type": "stream",
     "text": [
      "Epoch 70, Loss 0.0517\n",
      "Training Accuracy: 0.9475, Testing Accuracy: 0.9587\n",
      "\n"
     ]
    },
    {
     "name": "stdout",
     "output_type": "stream",
     "text": [
      "Epoch 80, Loss 0.0496\n",
      "Training Accuracy: 0.9487, Testing Accuracy: 0.9592\n",
      "\n"
     ]
    },
    {
     "name": "stdout",
     "output_type": "stream",
     "text": [
      "Epoch 90, Loss 0.0479\n",
      "Training Accuracy: 0.9507, Testing Accuracy: 0.9607\n",
      "\n"
     ]
    },
    {
     "name": "stdout",
     "output_type": "stream",
     "text": [
      "Epoch 100, Loss 0.0465\n",
      "Training Accuracy: 0.9523, Testing Accuracy: 0.9602\n",
      "\n"
     ]
    },
    {
     "name": "stdout",
     "output_type": "stream",
     "text": [
      "Epoch 110, Loss 0.0453\n",
      "Training Accuracy: 0.9532, Testing Accuracy: 0.9622\n",
      "\n"
     ]
    },
    {
     "name": "stdout",
     "output_type": "stream",
     "text": [
      "Epoch 120, Loss 0.0442\n",
      "Training Accuracy: 0.9543, Testing Accuracy: 0.9642\n",
      "\n"
     ]
    },
    {
     "name": "stdout",
     "output_type": "stream",
     "text": [
      "Epoch 130, Loss 0.0432\n",
      "Training Accuracy: 0.9552, Testing Accuracy: 0.9647\n",
      "\n"
     ]
    },
    {
     "name": "stdout",
     "output_type": "stream",
     "text": [
      "Epoch 140, Loss 0.0424\n",
      "Training Accuracy: 0.9556, Testing Accuracy: 0.9657\n",
      "\n"
     ]
    },
    {
     "name": "stdout",
     "output_type": "stream",
     "text": [
      "Epoch 150, Loss 0.0416\n",
      "Training Accuracy: 0.9561, Testing Accuracy: 0.9662\n",
      "\n"
     ]
    },
    {
     "name": "stdout",
     "output_type": "stream",
     "text": [
      "Epoch 160, Loss 0.0409\n",
      "Training Accuracy: 0.9564, Testing Accuracy: 0.9667\n",
      "\n"
     ]
    },
    {
     "name": "stdout",
     "output_type": "stream",
     "text": [
      "Epoch 170, Loss 0.0403\n",
      "Training Accuracy: 0.9569, Testing Accuracy: 0.9672\n",
      "\n"
     ]
    },
    {
     "name": "stdout",
     "output_type": "stream",
     "text": [
      "Epoch 180, Loss 0.0397\n",
      "Training Accuracy: 0.9575, Testing Accuracy: 0.9677\n",
      "\n"
     ]
    },
    {
     "name": "stdout",
     "output_type": "stream",
     "text": [
      "Epoch 190, Loss 0.0392\n",
      "Training Accuracy: 0.9580, Testing Accuracy: 0.9677\n",
      "\n"
     ]
    },
    {
     "name": "stdout",
     "output_type": "stream",
     "text": [
      "Epoch 200, Loss 0.0387\n",
      "Training Accuracy: 0.9582, Testing Accuracy: 0.9682\n",
      "\n"
     ]
    },
    {
     "name": "stdout",
     "output_type": "stream",
     "text": [
      "Epoch 210, Loss 0.0383\n",
      "Training Accuracy: 0.9589, Testing Accuracy: 0.9682\n",
      "\n"
     ]
    },
    {
     "name": "stdout",
     "output_type": "stream",
     "text": [
      "Epoch 220, Loss 0.0378\n",
      "Training Accuracy: 0.9594, Testing Accuracy: 0.9682\n",
      "\n"
     ]
    },
    {
     "name": "stdout",
     "output_type": "stream",
     "text": [
      "Epoch 230, Loss 0.0375\n",
      "Training Accuracy: 0.9599, Testing Accuracy: 0.9682\n",
      "\n"
     ]
    },
    {
     "name": "stdout",
     "output_type": "stream",
     "text": [
      "Epoch 240, Loss 0.0371\n",
      "Training Accuracy: 0.9602, Testing Accuracy: 0.9688\n",
      "\n"
     ]
    },
    {
     "data": {
      "text/plain": [
       "0.020111085473668945"
      ]
     },
     "execution_count": 23,
     "metadata": {},
     "output_type": "execute_result"
    }
   ],
   "source": [
    "lr_learner.train_loop(dl)"
   ]
  },
  {
   "cell_type": "code",
   "execution_count": 24,
   "id": "ca410940",
   "metadata": {
    "execution": {
     "iopub.execute_input": "2022-03-26T10:12:00.882497Z",
     "iopub.status.busy": "2022-03-26T10:12:00.881858Z",
     "iopub.status.idle": "2022-03-26T10:12:01.195455Z",
     "shell.execute_reply": "2022-03-26T10:12:01.196024Z"
    },
    "papermill": {
     "duration": 0.374135,
     "end_time": "2022-03-26T10:12:01.196185",
     "exception": false,
     "start_time": "2022-03-26T10:12:00.822050",
     "status": "completed"
    },
    "tags": []
   },
   "outputs": [
    {
     "data": {
      "text/plain": [
       "<matplotlib.legend.Legend at 0x7f663341fda0>"
      ]
     },
     "execution_count": 24,
     "metadata": {},
     "output_type": "execute_result"
    },
    {
     "data": {
      "image/png": "[encoded data removed]",
      "text/plain": [
       "<Figure size 1080x720 with 1 Axes>"
      ]
     },
     "metadata": {
      "needs_background": "light"
     },
     "output_type": "display_data"
    }
   ],
   "source": [
    "#comparing the results of NN and LR\n",
    "plt.figure(figsize=(15,10))\n",
    "\n",
    "# Neural Network plots\n",
    "plt.plot(acc_nn.accuracies, 'r-', label = \"Training Accuracies - NN\")\n",
    "plt.plot(acc_nn.test_accuracies, 'g-', label = \"Testing Accuracies - NN\")\n",
    "\n",
    "# Logistic Regression plots\n",
    "plt.plot(acc_lr.accuracies, 'k-', label = \"Training Accuracies - LR\")\n",
    "plt.plot(acc_lr.test_accuracies, 'b-', label = \"Testing Accuracies - LR\")\n",
    "plt.legend()"
   ]
  },
  {
   "cell_type": "markdown",
   "id": "80dfb35c",
   "metadata": {
    "papermill": {
     "duration": 0.053481,
     "end_time": "2022-03-26T10:12:01.304893",
     "exception": false,
     "start_time": "2022-03-26T10:12:01.251412",
     "status": "completed"
    },
    "tags": []
   },
   "source": [
    "#### Plotting the outputs of this layer of the NN.\n"
   ]
  },
  {
   "cell_type": "code",
   "execution_count": 25,
   "id": "45eb2ff5",
   "metadata": {
    "execution": {
     "iopub.execute_input": "2022-03-26T10:12:01.425614Z",
     "iopub.status.busy": "2022-03-26T10:12:01.424727Z",
     "iopub.status.idle": "2022-03-26T10:12:01.448898Z",
     "shell.execute_reply": "2022-03-26T10:12:01.449481Z"
    },
    "papermill": {
     "duration": 0.088975,
     "end_time": "2022-03-26T10:12:01.449657",
     "exception": false,
     "start_time": "2022-03-26T10:12:01.360682",
     "status": "completed"
    },
    "tags": []
   },
   "outputs": [],
   "source": [
    "new_model = Model(layers[:-2])\n",
    "testing_plot = new_model(testing_data_x)"
   ]
  },
  {
   "cell_type": "code",
   "execution_count": 26,
   "id": "4c0a5485",
   "metadata": {
    "execution": {
     "iopub.execute_input": "2022-03-26T10:12:01.563060Z",
     "iopub.status.busy": "2022-03-26T10:12:01.562375Z",
     "iopub.status.idle": "2022-03-26T10:12:01.828415Z",
     "shell.execute_reply": "2022-03-26T10:12:01.829112Z"
    },
    "papermill": {
     "duration": 0.324419,
     "end_time": "2022-03-26T10:12:01.829266",
     "exception": false,
     "start_time": "2022-03-26T10:12:01.504847",
     "status": "completed"
    },
    "tags": []
   },
   "outputs": [
    {
     "data": {
      "text/plain": [
       "Text(0.5, 1.0, 'Outputs')"
      ]
     },
     "execution_count": 26,
     "metadata": {},
     "output_type": "execute_result"
    },
    {
     "data": {
      "image/png": "[encoded data removed]",
      "text/plain": [
       "<Figure size 576x504 with 1 Axes>"
      ]
     },
     "metadata": {
      "needs_background": "light"
     },
     "output_type": "display_data"
    }
   ],
   "source": [
    "# Plotting the scatter plot of points and color coding by class\n",
    "plt.figure(figsize=(8,7))\n",
    "plt.scatter(testing_plot[:,0], testing_plot[:,1], alpha = 0.1, c = y_test.ravel());\n",
    "plt.title('Outputs')"
   ]
  },
  {
   "cell_type": "markdown",
   "id": "a74fcf8f",
   "metadata": {
    "papermill": {
     "duration": 0.054572,
     "end_time": "2022-03-26T10:12:01.936982",
     "exception": false,
     "start_time": "2022-03-26T10:12:01.882410",
     "status": "completed"
    },
    "tags": []
   },
   "source": [
    "Probability contours"
   ]
  },
  {
   "cell_type": "code",
   "execution_count": 27,
   "id": "d0afc8e3",
   "metadata": {
    "execution": {
     "iopub.execute_input": "2022-03-26T10:12:02.079177Z",
     "iopub.status.busy": "2022-03-26T10:12:02.078219Z",
     "iopub.status.idle": "2022-03-26T10:12:02.091734Z",
     "shell.execute_reply": "2022-03-26T10:12:02.091056Z"
    },
    "papermill": {
     "duration": 0.076777,
     "end_time": "2022-03-26T10:12:02.091853",
     "exception": false,
     "start_time": "2022-03-26T10:12:02.015076",
     "status": "completed"
    },
    "tags": []
   },
   "outputs": [],
   "source": [
    "model_prob = Model(layers[-2:]) "
   ]
  },
  {
   "cell_type": "code",
   "execution_count": 28,
   "id": "9b96e238",
   "metadata": {
    "execution": {
     "iopub.execute_input": "2022-03-26T10:12:02.214394Z",
     "iopub.status.busy": "2022-03-26T10:12:02.205740Z",
     "iopub.status.idle": "2022-03-26T10:12:02.220993Z",
     "shell.execute_reply": "2022-03-26T10:12:02.221499Z"
    },
    "papermill": {
     "duration": 0.075749,
     "end_time": "2022-03-26T10:12:02.221666",
     "exception": false,
     "start_time": "2022-03-26T10:12:02.145917",
     "status": "completed"
    },
    "tags": []
   },
   "outputs": [],
   "source": [
    "#creating the x and y ranges according to the above generated plot.\n",
    "x_range = np.linspace(-4, 1, 100) \n",
    "y_range = np.linspace(-6, 6, 100) \n",
    "x_grid, y_grid = np.meshgrid(x_range, y_range) # x_grid and y_grig are of size 100 X 100\n",
    "\n",
    "# converting x_grid and y_grid to continuous arrays\n",
    "x_gridflat = np.ravel(x_grid)\n",
    "y_gridflat = np.ravel(y_grid)\n",
    "\n",
    "# The last layer of the current model takes two columns as input. Hence transpose of np.vstack() is required.\n",
    "X = np.vstack((x_gridflat, y_gridflat)).T\n",
    "\n",
    "prob_contour = model_prob(X).reshape(100,100) "
   ]
  },
  {
   "cell_type": "code",
   "execution_count": 29,
   "id": "da72499a",
   "metadata": {
    "execution": {
     "iopub.execute_input": "2022-03-26T10:12:02.342823Z",
     "iopub.status.busy": "2022-03-26T10:12:02.342137Z",
     "iopub.status.idle": "2022-03-26T10:12:02.683017Z",
     "shell.execute_reply": "2022-03-26T10:12:02.683476Z"
    },
    "papermill": {
     "duration": 0.402871,
     "end_time": "2022-03-26T10:12:02.683635",
     "exception": false,
     "start_time": "2022-03-26T10:12:02.280764",
     "status": "completed"
    },
    "tags": []
   },
   "outputs": [
    {
     "data": {
      "image/png": "[encoded data removed]",
      "text/plain": [
       "<Figure size 720x648 with 1 Axes>"
      ]
     },
     "metadata": {
      "needs_background": "light"
     },
     "output_type": "display_data"
    }
   ],
   "source": [
    "plt.figure(figsize=(10,9))\n",
    "plt.scatter(testing_plot[:,0], testing_plot[:,1], alpha = 0.1, c = y_test.ravel())\n",
    "contours = plt.contour(x_grid,y_grid,prob_contour)\n",
    "plt.title('Probability Contours')\n",
    "plt.clabel(contours, inline = True );"
   ]
  },
  {
   "cell_type": "code",
   "execution_count": null,
   "id": "e81b4ac7",
   "metadata": {
    "papermill": {
     "duration": 0.055484,
     "end_time": "2022-03-26T10:12:02.797297",
     "exception": false,
     "start_time": "2022-03-26T10:12:02.741813",
     "status": "completed"
    },
    "tags": []
   },
   "outputs": [],
   "source": []
  }
 ],
 "metadata": {
  "kernelspec": {
   "display_name": "Python 3",
   "language": "python",
   "name": "python3"
  },
  "language_info": {
   "codemirror_mode": {
    "name": "ipython",
    "version": 3
   },
   "file_extension": ".py",
   "mimetype": "text/x-python",
   "name": "python",
   "nbconvert_exporter": "python",
   "pygments_lexer": "ipython3",
   "version": "3.6.15"
  },
  "papermill": {
   "default_parameters": {},
   "duration": 173.850997,
   "end_time": "2022-03-26T10:12:03.274158",
   "environment_variables": {},
   "exception": null,
   "input_path": "2020-08-11-part2.ipynb",
   "output_path": "2020-08-11-part2.ipynb",
   "parameters": {},
   "start_time": "2022-03-26T10:09:09.423161",
   "version": "2.3.3"
  }
 },
 "nbformat": 4,
 "nbformat_minor": 5
}