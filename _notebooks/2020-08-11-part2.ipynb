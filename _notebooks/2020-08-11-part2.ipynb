{
 "cells": [
  {
   "cell_type": "markdown",
   "id": "98380cd3",
   "metadata": {
    "papermill": {
     "duration": 0.143973,
     "end_time": "2021-09-30T00:23:27.729052",
     "exception": false,
     "start_time": "2021-09-30T00:23:27.585079",
     "status": "completed"
    },
    "tags": []
   },
   "source": [
    "# Distinguish Your Own Digits (DYOD)"
   ]
  },
  {
   "cell_type": "markdown",
   "id": "ef31240d",
   "metadata": {
    "papermill": {
     "duration": 0.116947,
     "end_time": "2021-09-30T00:23:27.971225",
     "exception": false,
     "start_time": "2021-09-30T00:23:27.854278",
     "status": "completed"
    },
    "tags": []
   },
   "source": [
    "You are going to write a classifier that distinguishes between the number 3 and number 8."
   ]
  },
  {
   "cell_type": "code",
   "execution_count": 1,
   "id": "b15c8646",
   "metadata": {
    "execution": {
     "iopub.execute_input": "2021-09-30T00:23:28.226304Z",
     "iopub.status.busy": "2021-09-30T00:23:28.225651Z",
     "iopub.status.idle": "2021-09-30T00:23:28.236519Z",
     "shell.execute_reply": "2021-09-30T00:23:28.237198Z"
    },
    "papermill": {
     "duration": 0.144341,
     "end_time": "2021-09-30T00:23:28.237394",
     "exception": false,
     "start_time": "2021-09-30T00:23:28.093053",
     "status": "completed"
    },
    "tags": []
   },
   "outputs": [],
   "source": [
    "%load_ext autoreload\n",
    "%autoreload 2"
   ]
  },
  {
   "cell_type": "code",
   "execution_count": 2,
   "id": "22ef38dc",
   "metadata": {
    "execution": {
     "iopub.execute_input": "2021-09-30T00:23:28.479467Z",
     "iopub.status.busy": "2021-09-30T00:23:28.478773Z",
     "iopub.status.idle": "2021-09-30T00:23:29.071289Z",
     "shell.execute_reply": "2021-09-30T00:23:29.070700Z"
    },
    "papermill": {
     "duration": 0.714505,
     "end_time": "2021-09-30T00:23:29.071441",
     "exception": false,
     "start_time": "2021-09-30T00:23:28.356936",
     "status": "completed"
    },
    "tags": []
   },
   "outputs": [],
   "source": [
    "%matplotlib inline\n",
    "import numpy as np\n",
    "import matplotlib.pyplot as plt\n",
    "import pandas as pd"
   ]
  },
  {
   "cell_type": "markdown",
   "id": "ba036198",
   "metadata": {
    "papermill": {
     "duration": 0.126584,
     "end_time": "2021-09-30T00:23:29.325020",
     "exception": false,
     "start_time": "2021-09-30T00:23:29.198436",
     "status": "completed"
    },
    "tags": []
   },
   "source": [
    "From the command line run `pip install mnist`. This is a library that will help you bring down the mnist dataset. If you run this from a notebook, you need to put  `!pip install mnist` in a cell by itself."
   ]
  },
  {
   "cell_type": "code",
   "execution_count": 3,
   "id": "bb6ad8a1",
   "metadata": {
    "execution": {
     "iopub.execute_input": "2021-09-30T00:23:29.571438Z",
     "iopub.status.busy": "2021-09-30T00:23:29.570804Z",
     "iopub.status.idle": "2021-09-30T00:23:31.482994Z",
     "shell.execute_reply": "2021-09-30T00:23:31.481500Z"
    },
    "papermill": {
     "duration": 2.03979,
     "end_time": "2021-09-30T00:23:31.483168",
     "exception": false,
     "start_time": "2021-09-30T00:23:29.443378",
     "status": "completed"
    },
    "tags": []
   },
   "outputs": [
    {
     "name": "stdout",
     "output_type": "stream",
     "text": [
      "Collecting mnist\r\n"
     ]
    },
    {
     "name": "stdout",
     "output_type": "stream",
     "text": [
      "  Downloading mnist-0.2.2-py2.py3-none-any.whl (3.5 kB)\r\n",
      "Requirement already satisfied: numpy in /opt/hostedtoolcache/Python/3.6.15/x64/lib/python3.6/site-packages (from mnist) (1.19.5)\r\n"
     ]
    },
    {
     "name": "stdout",
     "output_type": "stream",
     "text": [
      "Installing collected packages: mnist\r\n"
     ]
    },
    {
     "name": "stdout",
     "output_type": "stream",
     "text": [
      "Successfully installed mnist-0.2.2\r\n"
     ]
    }
   ],
   "source": [
    "!pip install mnist"
   ]
  },
  {
   "cell_type": "markdown",
   "id": "69df9c9a",
   "metadata": {
    "papermill": {
     "duration": 0.129195,
     "end_time": "2021-09-30T00:23:31.744954",
     "exception": false,
     "start_time": "2021-09-30T00:23:31.615759",
     "status": "completed"
    },
    "tags": []
   },
   "source": [
    "## Preparing the Data"
   ]
  },
  {
   "cell_type": "code",
   "execution_count": 4,
   "id": "7f69d806",
   "metadata": {
    "execution": {
     "iopub.execute_input": "2021-09-30T00:23:31.997706Z",
     "iopub.status.busy": "2021-09-30T00:23:31.992765Z",
     "iopub.status.idle": "2021-09-30T00:23:32.008055Z",
     "shell.execute_reply": "2021-09-30T00:23:32.008676Z"
    },
    "papermill": {
     "duration": 0.139117,
     "end_time": "2021-09-30T00:23:32.008821",
     "exception": false,
     "start_time": "2021-09-30T00:23:31.869704",
     "status": "completed"
    },
    "tags": []
   },
   "outputs": [],
   "source": [
    "import mnist"
   ]
  },
  {
   "cell_type": "code",
   "execution_count": 5,
   "id": "a411e44f",
   "metadata": {
    "execution": {
     "iopub.execute_input": "2021-09-30T00:23:32.265389Z",
     "iopub.status.busy": "2021-09-30T00:23:32.264727Z",
     "iopub.status.idle": "2021-09-30T00:23:32.815051Z",
     "shell.execute_reply": "2021-09-30T00:23:32.814405Z"
    },
    "papermill": {
     "duration": 0.677297,
     "end_time": "2021-09-30T00:23:32.815217",
     "exception": false,
     "start_time": "2021-09-30T00:23:32.137920",
     "status": "completed"
    },
    "tags": []
   },
   "outputs": [],
   "source": [
    "train_images = mnist.train_images()\n",
    "train_labels = mnist.train_labels()"
   ]
  },
  {
   "cell_type": "code",
   "execution_count": 6,
   "id": "dceab3a5",
   "metadata": {
    "execution": {
     "iopub.execute_input": "2021-09-30T00:23:33.062652Z",
     "iopub.status.busy": "2021-09-30T00:23:33.061993Z",
     "iopub.status.idle": "2021-09-30T00:23:33.077121Z",
     "shell.execute_reply": "2021-09-30T00:23:33.077691Z"
    },
    "papermill": {
     "duration": 0.142267,
     "end_time": "2021-09-30T00:23:33.077831",
     "exception": false,
     "start_time": "2021-09-30T00:23:32.935564",
     "status": "completed"
    },
    "tags": []
   },
   "outputs": [
    {
     "data": {
      "text/plain": [
       "((60000, 28, 28), (60000,))"
      ]
     },
     "execution_count": 6,
     "metadata": {},
     "output_type": "execute_result"
    }
   ],
   "source": [
    "train_images.shape, train_labels.shape"
   ]
  },
  {
   "cell_type": "code",
   "execution_count": 7,
   "id": "f50dc2bb",
   "metadata": {
    "execution": {
     "iopub.execute_input": "2021-09-30T00:23:33.337750Z",
     "iopub.status.busy": "2021-09-30T00:23:33.337136Z",
     "iopub.status.idle": "2021-09-30T00:23:33.486953Z",
     "shell.execute_reply": "2021-09-30T00:23:33.486401Z"
    },
    "papermill": {
     "duration": 0.283489,
     "end_time": "2021-09-30T00:23:33.487143",
     "exception": false,
     "start_time": "2021-09-30T00:23:33.203654",
     "status": "completed"
    },
    "tags": []
   },
   "outputs": [],
   "source": [
    "test_images = mnist.test_images()\n",
    "test_labels = mnist.test_labels()"
   ]
  },
  {
   "cell_type": "code",
   "execution_count": 8,
   "id": "fc38cf1b",
   "metadata": {
    "execution": {
     "iopub.execute_input": "2021-09-30T00:23:33.752326Z",
     "iopub.status.busy": "2021-09-30T00:23:33.751627Z",
     "iopub.status.idle": "2021-09-30T00:23:33.766383Z",
     "shell.execute_reply": "2021-09-30T00:23:33.765805Z"
    },
    "papermill": {
     "duration": 0.14892,
     "end_time": "2021-09-30T00:23:33.766517",
     "exception": false,
     "start_time": "2021-09-30T00:23:33.617597",
     "status": "completed"
    },
    "tags": []
   },
   "outputs": [
    {
     "data": {
      "text/plain": [
       "((10000, 28, 28), (10000,))"
      ]
     },
     "execution_count": 8,
     "metadata": {},
     "output_type": "execute_result"
    }
   ],
   "source": [
    "test_images.shape, test_labels.shape"
   ]
  },
  {
   "cell_type": "code",
   "execution_count": 9,
   "id": "f9ed8fe0",
   "metadata": {
    "execution": {
     "iopub.execute_input": "2021-09-30T00:23:34.028225Z",
     "iopub.status.busy": "2021-09-30T00:23:34.027440Z",
     "iopub.status.idle": "2021-09-30T00:23:34.211293Z",
     "shell.execute_reply": "2021-09-30T00:23:34.210770Z"
    },
    "papermill": {
     "duration": 0.318191,
     "end_time": "2021-09-30T00:23:34.211427",
     "exception": false,
     "start_time": "2021-09-30T00:23:33.893236",
     "status": "completed"
    },
    "tags": []
   },
   "outputs": [
    {
     "name": "stdout",
     "output_type": "stream",
     "text": [
      "2\n"
     ]
    },
    {
     "data": {
      "text/plain": [
       "<matplotlib.image.AxesImage at 0x7f57ec979780>"
      ]
     },
     "execution_count": 9,
     "metadata": {},
     "output_type": "execute_result"
    },
    {
     "data": {
      "image/png": "[encoded data removed]",
      "text/plain": [
       "<Figure size 432x288 with 1 Axes>"
      ]
     },
     "metadata": {
      "needs_background": "light"
     },
     "output_type": "display_data"
    }
   ],
   "source": [
    "image_index = 7776 # You may select anything up to 60,000\n",
    "print(train_labels[image_index]) \n",
    "plt.imshow(train_images[image_index], cmap='Greys')"
   ]
  },
  {
   "cell_type": "markdown",
   "id": "a8d2388d",
   "metadata": {
    "papermill": {
     "duration": 0.135942,
     "end_time": "2021-09-30T00:23:34.474057",
     "exception": false,
     "start_time": "2021-09-30T00:23:34.338115",
     "status": "completed"
    },
    "tags": []
   },
   "source": [
    "## Filter data to get 3 and 8 out"
   ]
  },
  {
   "cell_type": "code",
   "execution_count": 10,
   "id": "776f7fc7",
   "metadata": {
    "execution": {
     "iopub.execute_input": "2021-09-30T00:23:34.750988Z",
     "iopub.status.busy": "2021-09-30T00:23:34.745282Z",
     "iopub.status.idle": "2021-09-30T00:23:34.757900Z",
     "shell.execute_reply": "2021-09-30T00:23:34.757338Z"
    },
    "papermill": {
     "duration": 0.152029,
     "end_time": "2021-09-30T00:23:34.758044",
     "exception": false,
     "start_time": "2021-09-30T00:23:34.606015",
     "status": "completed"
    },
    "tags": []
   },
   "outputs": [],
   "source": [
    "train_filter = np.where((train_labels == 3 ) | (train_labels == 8))\n",
    "test_filter = np.where((test_labels == 3) | (test_labels == 8))\n",
    "X_train, y_train = train_images[train_filter], train_labels[train_filter]\n",
    "X_test, y_test = test_images[test_filter], test_labels[test_filter]"
   ]
  },
  {
   "cell_type": "markdown",
   "id": "948f0b7e",
   "metadata": {
    "papermill": {
     "duration": 0.1288,
     "end_time": "2021-09-30T00:23:35.022902",
     "exception": false,
     "start_time": "2021-09-30T00:23:34.894102",
     "status": "completed"
    },
    "tags": []
   },
   "source": [
    "We normalize the pizel values in the 0 to 1 range"
   ]
  },
  {
   "cell_type": "code",
   "execution_count": 11,
   "id": "ee4c2166",
   "metadata": {
    "execution": {
     "iopub.execute_input": "2021-09-30T00:23:35.299494Z",
     "iopub.status.busy": "2021-09-30T00:23:35.298797Z",
     "iopub.status.idle": "2021-09-30T00:23:35.349566Z",
     "shell.execute_reply": "2021-09-30T00:23:35.350082Z"
    },
    "papermill": {
     "duration": 0.196831,
     "end_time": "2021-09-30T00:23:35.350259",
     "exception": false,
     "start_time": "2021-09-30T00:23:35.153428",
     "status": "completed"
    },
    "tags": []
   },
   "outputs": [],
   "source": [
    "X_train = X_train/255.\n",
    "X_test = X_test/255."
   ]
  },
  {
   "cell_type": "markdown",
   "id": "ddcf4fab",
   "metadata": {
    "papermill": {
     "duration": 0.137736,
     "end_time": "2021-09-30T00:23:35.622207",
     "exception": false,
     "start_time": "2021-09-30T00:23:35.484471",
     "status": "completed"
    },
    "tags": []
   },
   "source": [
    "And setup the labels as 1 (when the digit is 3) and 0 (when the digit is 8)"
   ]
  },
  {
   "cell_type": "code",
   "execution_count": 12,
   "id": "7dc908f2",
   "metadata": {
    "execution": {
     "iopub.execute_input": "2021-09-30T00:23:35.881829Z",
     "iopub.status.busy": "2021-09-30T00:23:35.881173Z",
     "iopub.status.idle": "2021-09-30T00:23:35.892520Z",
     "shell.execute_reply": "2021-09-30T00:23:35.893111Z"
    },
    "papermill": {
     "duration": 0.142395,
     "end_time": "2021-09-30T00:23:35.893257",
     "exception": false,
     "start_time": "2021-09-30T00:23:35.750862",
     "status": "completed"
    },
    "tags": []
   },
   "outputs": [],
   "source": [
    "y_train = 1*(y_train==3)\n",
    "y_test = 1*(y_test==3)"
   ]
  },
  {
   "cell_type": "code",
   "execution_count": 13,
   "id": "01e4e969",
   "metadata": {
    "execution": {
     "iopub.execute_input": "2021-09-30T00:23:36.168742Z",
     "iopub.status.busy": "2021-09-30T00:23:36.168008Z",
     "iopub.status.idle": "2021-09-30T00:23:36.182159Z",
     "shell.execute_reply": "2021-09-30T00:23:36.182702Z"
    },
    "papermill": {
     "duration": 0.160526,
     "end_time": "2021-09-30T00:23:36.182857",
     "exception": false,
     "start_time": "2021-09-30T00:23:36.022331",
     "status": "completed"
    },
    "tags": []
   },
   "outputs": [
    {
     "data": {
      "text/plain": [
       "((11982, 28, 28), (1984, 28, 28))"
      ]
     },
     "execution_count": 13,
     "metadata": {},
     "output_type": "execute_result"
    }
   ],
   "source": [
    "X_train.shape, X_test.shape"
   ]
  },
  {
   "cell_type": "markdown",
   "id": "5ccf3f85",
   "metadata": {
    "papermill": {
     "duration": 0.131227,
     "end_time": "2021-09-30T00:23:36.446240",
     "exception": false,
     "start_time": "2021-09-30T00:23:36.315013",
     "status": "completed"
    },
    "tags": []
   },
   "source": [
    "We reshape the data to flatten the image pixels into a set of features or co-variates:"
   ]
  },
  {
   "cell_type": "code",
   "execution_count": 14,
   "id": "5286a4a3",
   "metadata": {
    "execution": {
     "iopub.execute_input": "2021-09-30T00:23:36.708706Z",
     "iopub.status.busy": "2021-09-30T00:23:36.707982Z",
     "iopub.status.idle": "2021-09-30T00:23:36.721743Z",
     "shell.execute_reply": "2021-09-30T00:23:36.722387Z"
    },
    "papermill": {
     "duration": 0.147897,
     "end_time": "2021-09-30T00:23:36.722565",
     "exception": false,
     "start_time": "2021-09-30T00:23:36.574668",
     "status": "completed"
    },
    "tags": []
   },
   "outputs": [
    {
     "data": {
      "text/plain": [
       "((11982, 784), (1984, 784))"
      ]
     },
     "execution_count": 14,
     "metadata": {},
     "output_type": "execute_result"
    }
   ],
   "source": [
    "X_train = X_train.reshape(X_train.shape[0], -1)\n",
    "X_test = X_test.reshape(X_test.shape[0], -1)\n",
    "X_train.shape, X_test.shape"
   ]
  },
  {
   "cell_type": "code",
   "execution_count": 15,
   "id": "73c5f88a",
   "metadata": {
    "execution": {
     "iopub.execute_input": "2021-09-30T00:23:37.020822Z",
     "iopub.status.busy": "2021-09-30T00:23:37.020122Z",
     "iopub.status.idle": "2021-09-30T00:23:37.038651Z",
     "shell.execute_reply": "2021-09-30T00:23:37.038072Z"
    },
    "papermill": {
     "duration": 0.16429,
     "end_time": "2021-09-30T00:23:37.038795",
     "exception": false,
     "start_time": "2021-09-30T00:23:36.874505",
     "status": "completed"
    },
    "tags": []
   },
   "outputs": [],
   "source": [
    "#Impoting functions from 'Kudzu'\n",
    "from kudzu.model import Model\n",
    "from kudzu.train import Learner\n",
    "from kudzu.optim import GD\n",
    "from kudzu.data import Data, Sampler,Dataloader\n",
    "\n",
    "from kudzu.callbacks import AccCallback\n",
    "from kudzu.callbacks import ClfCallback\n",
    "\n",
    "from kudzu.loss import MSE\n",
    "\n",
    "from kudzu.layer import Sigmoid,Relu\n",
    "from kudzu.layer import Affine"
   ]
  },
  {
   "cell_type": "markdown",
   "id": "bc01172a",
   "metadata": {
    "papermill": {
     "duration": 0.13155,
     "end_time": "2021-09-30T00:23:37.311644",
     "exception": false,
     "start_time": "2021-09-30T00:23:37.180094",
     "status": "completed"
    },
    "tags": []
   },
   "source": [
    "### Let us create a `Config` class, to store important parameters. \n",
    "This class essentially plays the role of a dictionary."
   ]
  },
  {
   "cell_type": "code",
   "execution_count": 16,
   "id": "978281aa",
   "metadata": {
    "execution": {
     "iopub.execute_input": "2021-09-30T00:23:37.581241Z",
     "iopub.status.busy": "2021-09-30T00:23:37.580545Z",
     "iopub.status.idle": "2021-09-30T00:23:37.592551Z",
     "shell.execute_reply": "2021-09-30T00:23:37.593196Z"
    },
    "papermill": {
     "duration": 0.148166,
     "end_time": "2021-09-30T00:23:37.593347",
     "exception": false,
     "start_time": "2021-09-30T00:23:37.445181",
     "status": "completed"
    },
    "tags": []
   },
   "outputs": [],
   "source": [
    "class Config:\n",
    "    pass\n",
    "config = Config()\n",
    "config.lr = 0.001\n",
    "config.num_epochs = 250\n",
    "config.bs = 50"
   ]
  },
  {
   "cell_type": "markdown",
   "id": "1385fa59",
   "metadata": {
    "papermill": {
     "duration": 0.129522,
     "end_time": "2021-09-30T00:23:37.855255",
     "exception": false,
     "start_time": "2021-09-30T00:23:37.725733",
     "status": "completed"
    },
    "tags": []
   },
   "source": [
    "### Running Models with the Training data\n",
    "Details about the network layers:\n",
    "- A first affine layer has 784 inputs and does 100 affine transforms. These are followed by a Relu\n",
    "- A second affine layer has 100 inputs from the 100 activations of the past layer, and does 100 affine transforms. These are followed by a Relu\n",
    "- A third affine layer has 100 activations and does 2 affine transformations to create an embedding for visualization. There is no non-linearity here.\n",
    "- A final \"logistic regression\" which has an affine transform from 2 inputs to 1 output, which is squeezed through a sigmoid.\n"
   ]
  },
  {
   "cell_type": "code",
   "execution_count": 17,
   "id": "2b9c66db",
   "metadata": {
    "execution": {
     "iopub.execute_input": "2021-09-30T00:23:38.125463Z",
     "iopub.status.busy": "2021-09-30T00:23:38.123736Z",
     "iopub.status.idle": "2021-09-30T00:23:38.136009Z",
     "shell.execute_reply": "2021-09-30T00:23:38.136647Z"
    },
    "papermill": {
     "duration": 0.147778,
     "end_time": "2021-09-30T00:23:38.136795",
     "exception": false,
     "start_time": "2021-09-30T00:23:37.989017",
     "status": "completed"
    },
    "tags": []
   },
   "outputs": [],
   "source": [
    "data = Data(X_train, y_train.reshape(-1,1))\n",
    "sampler = Sampler(data, config.bs, shuffle=True)\n",
    "\n",
    "dl = Dataloader(data, sampler)\n",
    "\n",
    "opt = GD(config.lr)\n",
    "loss = MSE()"
   ]
  },
  {
   "cell_type": "code",
   "execution_count": 18,
   "id": "b275e4c2",
   "metadata": {
    "execution": {
     "iopub.execute_input": "2021-09-30T00:23:38.407127Z",
     "iopub.status.busy": "2021-09-30T00:23:38.406372Z",
     "iopub.status.idle": "2021-09-30T00:23:38.418529Z",
     "shell.execute_reply": "2021-09-30T00:23:38.419044Z"
    },
    "papermill": {
     "duration": 0.147529,
     "end_time": "2021-09-30T00:23:38.419212",
     "exception": false,
     "start_time": "2021-09-30T00:23:38.271683",
     "status": "completed"
    },
    "tags": []
   },
   "outputs": [],
   "source": [
    "training_data_x = X_train\n",
    "testing_data_x = X_test\n",
    "training_data_y = y_train.reshape(-1,1)\n",
    "testing_data_y = y_test.reshape(-1,1)"
   ]
  },
  {
   "cell_type": "code",
   "execution_count": 19,
   "id": "76951160",
   "metadata": {
    "execution": {
     "iopub.execute_input": "2021-09-30T00:23:38.695657Z",
     "iopub.status.busy": "2021-09-30T00:23:38.694958Z",
     "iopub.status.idle": "2021-09-30T00:23:38.712390Z",
     "shell.execute_reply": "2021-09-30T00:23:38.711860Z"
    },
    "papermill": {
     "duration": 0.155891,
     "end_time": "2021-09-30T00:23:38.712513",
     "exception": false,
     "start_time": "2021-09-30T00:23:38.556622",
     "status": "completed"
    },
    "tags": []
   },
   "outputs": [
    {
     "name": "stdout",
     "output_type": "stream",
     "text": [
      "xavier\n",
      "xavier\n",
      "xavier\n",
      "xavier\n",
      "xavier\n"
     ]
    }
   ],
   "source": [
    "layers = [Affine(\"first\", 784, 100), Relu(\"first\"), Affine(\"second\", 100, 100), Relu(\"second\"), Affine(\"third\", 100, 2), Affine(\"last\", 2, 1), Sigmoid(\"last\")]\n",
    "model_nn = Model(layers)\n",
    "model_lr = Model([Affine(\"logits\", 784, 1), Sigmoid(\"sigmoid\")])"
   ]
  },
  {
   "cell_type": "code",
   "execution_count": 20,
   "id": "6eede77a",
   "metadata": {
    "execution": {
     "iopub.execute_input": "2021-09-30T00:23:38.990813Z",
     "iopub.status.busy": "2021-09-30T00:23:38.984204Z",
     "iopub.status.idle": "2021-09-30T00:23:38.997004Z",
     "shell.execute_reply": "2021-09-30T00:23:38.996427Z"
    },
    "papermill": {
     "duration": 0.150388,
     "end_time": "2021-09-30T00:23:38.997151",
     "exception": false,
     "start_time": "2021-09-30T00:23:38.846763",
     "status": "completed"
    },
    "tags": []
   },
   "outputs": [],
   "source": [
    "nn_learner = Learner(loss, model_nn, opt, config.num_epochs)\n",
    "acc_nn = ClfCallback(nn_learner, config.bs, training_data_x , testing_data_x, training_data_y, testing_data_y)\n",
    "nn_learner.set_callbacks([acc_nn])"
   ]
  },
  {
   "cell_type": "code",
   "execution_count": 21,
   "id": "877b6cc7",
   "metadata": {
    "execution": {
     "iopub.execute_input": "2021-09-30T00:23:39.277240Z",
     "iopub.status.busy": "2021-09-30T00:23:39.276587Z",
     "iopub.status.idle": "2021-09-30T00:23:39.289938Z",
     "shell.execute_reply": "2021-09-30T00:23:39.290490Z"
    },
    "papermill": {
     "duration": 0.159373,
     "end_time": "2021-09-30T00:23:39.290655",
     "exception": false,
     "start_time": "2021-09-30T00:23:39.131282",
     "status": "completed"
    },
    "tags": []
   },
   "outputs": [],
   "source": [
    "lr_learner = Learner(loss, model_lr, opt, config.num_epochs)\n",
    "acc_lr = ClfCallback(lr_learner, config.bs, training_data_x , testing_data_x, training_data_y, testing_data_y)\n",
    "lr_learner.set_callbacks([acc_lr])"
   ]
  },
  {
   "cell_type": "code",
   "execution_count": 22,
   "id": "d9b133c3",
   "metadata": {
    "execution": {
     "iopub.execute_input": "2021-09-30T00:23:39.566845Z",
     "iopub.status.busy": "2021-09-30T00:23:39.566135Z",
     "iopub.status.idle": "2021-09-30T00:25:45.456103Z",
     "shell.execute_reply": "2021-09-30T00:25:45.456975Z"
    },
    "papermill": {
     "duration": 126.030992,
     "end_time": "2021-09-30T00:25:45.457145",
     "exception": false,
     "start_time": "2021-09-30T00:23:39.426153",
     "status": "completed"
    },
    "tags": []
   },
   "outputs": [
    {
     "name": "stdout",
     "output_type": "stream",
     "text": [
      "Epoch 0, Loss 0.2336\n",
      "Training Accuracy: 0.7433, Testing Accuracy: 0.7666\n",
      "\n"
     ]
    },
    {
     "name": "stdout",
     "output_type": "stream",
     "text": [
      "Epoch 10, Loss 0.0564\n",
      "Training Accuracy: 0.9375, Testing Accuracy: 0.9466\n",
      "\n"
     ]
    },
    {
     "name": "stdout",
     "output_type": "stream",
     "text": [
      "Epoch 20, Loss 0.0403\n",
      "Training Accuracy: 0.9553, Testing Accuracy: 0.9637\n",
      "\n"
     ]
    },
    {
     "name": "stdout",
     "output_type": "stream",
     "text": [
      "Epoch 30, Loss 0.0337\n",
      "Training Accuracy: 0.9619, Testing Accuracy: 0.9672\n",
      "\n"
     ]
    },
    {
     "name": "stdout",
     "output_type": "stream",
     "text": [
      "Epoch 40, Loss 0.0299\n",
      "Training Accuracy: 0.9672, Testing Accuracy: 0.9703\n",
      "\n"
     ]
    },
    {
     "name": "stdout",
     "output_type": "stream",
     "text": [
      "Epoch 50, Loss 0.0272\n",
      "Training Accuracy: 0.9703, Testing Accuracy: 0.9718\n",
      "\n"
     ]
    },
    {
     "name": "stdout",
     "output_type": "stream",
     "text": [
      "Epoch 60, Loss 0.0253\n",
      "Training Accuracy: 0.9727, Testing Accuracy: 0.9723\n",
      "\n"
     ]
    },
    {
     "name": "stdout",
     "output_type": "stream",
     "text": [
      "Epoch 70, Loss 0.0238\n",
      "Training Accuracy: 0.9734, Testing Accuracy: 0.9728\n",
      "\n"
     ]
    },
    {
     "name": "stdout",
     "output_type": "stream",
     "text": [
      "Epoch 80, Loss 0.0226\n",
      "Training Accuracy: 0.9752, Testing Accuracy: 0.9743\n",
      "\n"
     ]
    },
    {
     "name": "stdout",
     "output_type": "stream",
     "text": [
      "Epoch 90, Loss 0.0215\n",
      "Training Accuracy: 0.9759, Testing Accuracy: 0.9753\n",
      "\n"
     ]
    },
    {
     "name": "stdout",
     "output_type": "stream",
     "text": [
      "Epoch 100, Loss 0.0205\n",
      "Training Accuracy: 0.9773, Testing Accuracy: 0.9748\n",
      "\n"
     ]
    },
    {
     "name": "stdout",
     "output_type": "stream",
     "text": [
      "Epoch 110, Loss 0.0197\n",
      "Training Accuracy: 0.9778, Testing Accuracy: 0.9743\n",
      "\n"
     ]
    },
    {
     "name": "stdout",
     "output_type": "stream",
     "text": [
      "Epoch 120, Loss 0.0189\n",
      "Training Accuracy: 0.9791, Testing Accuracy: 0.9738\n",
      "\n"
     ]
    },
    {
     "name": "stdout",
     "output_type": "stream",
     "text": [
      "Epoch 130, Loss 0.0182\n",
      "Training Accuracy: 0.9804, Testing Accuracy: 0.9753\n",
      "\n"
     ]
    },
    {
     "name": "stdout",
     "output_type": "stream",
     "text": [
      "Epoch 140, Loss 0.0176\n",
      "Training Accuracy: 0.9811, Testing Accuracy: 0.9763\n",
      "\n"
     ]
    },
    {
     "name": "stdout",
     "output_type": "stream",
     "text": [
      "Epoch 150, Loss 0.017\n",
      "Training Accuracy: 0.9817, Testing Accuracy: 0.9768\n",
      "\n"
     ]
    },
    {
     "name": "stdout",
     "output_type": "stream",
     "text": [
      "Epoch 160, Loss 0.0164\n",
      "Training Accuracy: 0.9826, Testing Accuracy: 0.9778\n",
      "\n"
     ]
    },
    {
     "name": "stdout",
     "output_type": "stream",
     "text": [
      "Epoch 170, Loss 0.0159\n",
      "Training Accuracy: 0.9833, Testing Accuracy: 0.9773\n",
      "\n"
     ]
    },
    {
     "name": "stdout",
     "output_type": "stream",
     "text": [
      "Epoch 180, Loss 0.0154\n",
      "Training Accuracy: 0.9839, Testing Accuracy: 0.9773\n",
      "\n"
     ]
    },
    {
     "name": "stdout",
     "output_type": "stream",
     "text": [
      "Epoch 190, Loss 0.0149\n",
      "Training Accuracy: 0.9840, Testing Accuracy: 0.9773\n",
      "\n"
     ]
    },
    {
     "name": "stdout",
     "output_type": "stream",
     "text": [
      "Epoch 200, Loss 0.0145\n",
      "Training Accuracy: 0.9842, Testing Accuracy: 0.9778\n",
      "\n"
     ]
    },
    {
     "name": "stdout",
     "output_type": "stream",
     "text": [
      "Epoch 210, Loss 0.014\n",
      "Training Accuracy: 0.9852, Testing Accuracy: 0.9778\n",
      "\n"
     ]
    },
    {
     "name": "stdout",
     "output_type": "stream",
     "text": [
      "Epoch 220, Loss 0.0136\n",
      "Training Accuracy: 0.9856, Testing Accuracy: 0.9778\n",
      "\n"
     ]
    },
    {
     "name": "stdout",
     "output_type": "stream",
     "text": [
      "Epoch 230, Loss 0.0132\n",
      "Training Accuracy: 0.9867, Testing Accuracy: 0.9788\n",
      "\n"
     ]
    },
    {
     "name": "stdout",
     "output_type": "stream",
     "text": [
      "Epoch 240, Loss 0.0129\n",
      "Training Accuracy: 0.9871, Testing Accuracy: 0.9793\n",
      "\n"
     ]
    },
    {
     "data": {
      "text/plain": [
       "0.003557041276989641"
      ]
     },
     "execution_count": 22,
     "metadata": {},
     "output_type": "execute_result"
    }
   ],
   "source": [
    "nn_learner.train_loop(dl)"
   ]
  },
  {
   "cell_type": "code",
   "execution_count": 23,
   "id": "e0163366",
   "metadata": {
    "execution": {
     "iopub.execute_input": "2021-09-30T00:25:45.801517Z",
     "iopub.status.busy": "2021-09-30T00:25:45.800819Z",
     "iopub.status.idle": "2021-09-30T00:26:04.022366Z",
     "shell.execute_reply": "2021-09-30T00:26:04.023282Z"
    },
    "papermill": {
     "duration": 18.394089,
     "end_time": "2021-09-30T00:26:04.023450",
     "exception": false,
     "start_time": "2021-09-30T00:25:45.629361",
     "status": "completed"
    },
    "tags": []
   },
   "outputs": [
    {
     "name": "stdout",
     "output_type": "stream",
     "text": [
      "Epoch 0, Loss 0.3089\n",
      "Training Accuracy: 0.4427, Testing Accuracy: 0.4410\n",
      "\n"
     ]
    },
    {
     "name": "stdout",
     "output_type": "stream",
     "text": [
      "Epoch 10, Loss 0.1093\n",
      "Training Accuracy: 0.9045, Testing Accuracy: 0.9189\n",
      "\n"
     ]
    },
    {
     "name": "stdout",
     "output_type": "stream",
     "text": [
      "Epoch 20, Loss 0.082\n",
      "Training Accuracy: 0.9251, Testing Accuracy: 0.9355\n",
      "\n"
     ]
    },
    {
     "name": "stdout",
     "output_type": "stream",
     "text": [
      "Epoch 30, Loss 0.07\n",
      "Training Accuracy: 0.9348, Testing Accuracy: 0.9456\n",
      "\n"
     ]
    },
    {
     "name": "stdout",
     "output_type": "stream",
     "text": [
      "Epoch 40, Loss 0.0628\n",
      "Training Accuracy: 0.9411, Testing Accuracy: 0.9521\n",
      "\n"
     ]
    },
    {
     "name": "stdout",
     "output_type": "stream",
     "text": [
      "Epoch 50, Loss 0.058\n",
      "Training Accuracy: 0.9447, Testing Accuracy: 0.9551\n",
      "\n"
     ]
    },
    {
     "name": "stdout",
     "output_type": "stream",
     "text": [
      "Epoch 60, Loss 0.0545\n",
      "Training Accuracy: 0.9473, Testing Accuracy: 0.9561\n",
      "\n"
     ]
    },
    {
     "name": "stdout",
     "output_type": "stream",
     "text": [
      "Epoch 70, Loss 0.0518\n",
      "Training Accuracy: 0.9492, Testing Accuracy: 0.9572\n",
      "\n"
     ]
    },
    {
     "name": "stdout",
     "output_type": "stream",
     "text": [
      "Epoch 80, Loss 0.0497\n",
      "Training Accuracy: 0.9509, Testing Accuracy: 0.9592\n",
      "\n"
     ]
    },
    {
     "name": "stdout",
     "output_type": "stream",
     "text": [
      "Epoch 90, Loss 0.0479\n",
      "Training Accuracy: 0.9528, Testing Accuracy: 0.9602\n",
      "\n"
     ]
    },
    {
     "name": "stdout",
     "output_type": "stream",
     "text": [
      "Epoch 100, Loss 0.0464\n",
      "Training Accuracy: 0.9535, Testing Accuracy: 0.9612\n",
      "\n"
     ]
    },
    {
     "name": "stdout",
     "output_type": "stream",
     "text": [
      "Epoch 110, Loss 0.0452\n",
      "Training Accuracy: 0.9545, Testing Accuracy: 0.9617\n",
      "\n"
     ]
    },
    {
     "name": "stdout",
     "output_type": "stream",
     "text": [
      "Epoch 120, Loss 0.0441\n",
      "Training Accuracy: 0.9548, Testing Accuracy: 0.9622\n",
      "\n"
     ]
    },
    {
     "name": "stdout",
     "output_type": "stream",
     "text": [
      "Epoch 130, Loss 0.0431\n",
      "Training Accuracy: 0.9554, Testing Accuracy: 0.9647\n",
      "\n"
     ]
    },
    {
     "name": "stdout",
     "output_type": "stream",
     "text": [
      "Epoch 140, Loss 0.0423\n",
      "Training Accuracy: 0.9561, Testing Accuracy: 0.9652\n",
      "\n"
     ]
    },
    {
     "name": "stdout",
     "output_type": "stream",
     "text": [
      "Epoch 150, Loss 0.0415\n",
      "Training Accuracy: 0.9569, Testing Accuracy: 0.9652\n",
      "\n"
     ]
    },
    {
     "name": "stdout",
     "output_type": "stream",
     "text": [
      "Epoch 160, Loss 0.0408\n",
      "Training Accuracy: 0.9574, Testing Accuracy: 0.9657\n",
      "\n"
     ]
    },
    {
     "name": "stdout",
     "output_type": "stream",
     "text": [
      "Epoch 170, Loss 0.0402\n",
      "Training Accuracy: 0.9578, Testing Accuracy: 0.9657\n",
      "\n"
     ]
    },
    {
     "name": "stdout",
     "output_type": "stream",
     "text": [
      "Epoch 180, Loss 0.0396\n",
      "Training Accuracy: 0.9584, Testing Accuracy: 0.9657\n",
      "\n"
     ]
    },
    {
     "name": "stdout",
     "output_type": "stream",
     "text": [
      "Epoch 190, Loss 0.0391\n",
      "Training Accuracy: 0.9590, Testing Accuracy: 0.9662\n",
      "\n"
     ]
    },
    {
     "name": "stdout",
     "output_type": "stream",
     "text": [
      "Epoch 200, Loss 0.0386\n",
      "Training Accuracy: 0.9596, Testing Accuracy: 0.9667\n",
      "\n"
     ]
    },
    {
     "name": "stdout",
     "output_type": "stream",
     "text": [
      "Epoch 210, Loss 0.0382\n",
      "Training Accuracy: 0.9596, Testing Accuracy: 0.9662\n",
      "\n"
     ]
    },
    {
     "name": "stdout",
     "output_type": "stream",
     "text": [
      "Epoch 220, Loss 0.0377\n",
      "Training Accuracy: 0.9599, Testing Accuracy: 0.9662\n",
      "\n"
     ]
    },
    {
     "name": "stdout",
     "output_type": "stream",
     "text": [
      "Epoch 230, Loss 0.0374\n",
      "Training Accuracy: 0.9602, Testing Accuracy: 0.9662\n",
      "\n"
     ]
    },
    {
     "name": "stdout",
     "output_type": "stream",
     "text": [
      "Epoch 240, Loss 0.037\n",
      "Training Accuracy: 0.9608, Testing Accuracy: 0.9662\n",
      "\n"
     ]
    },
    {
     "data": {
      "text/plain": [
       "0.02450666817633201"
      ]
     },
     "execution_count": 23,
     "metadata": {},
     "output_type": "execute_result"
    }
   ],
   "source": [
    "lr_learner.train_loop(dl)"
   ]
  },
  {
   "cell_type": "code",
   "execution_count": 24,
   "id": "ca410940",
   "metadata": {
    "execution": {
     "iopub.execute_input": "2021-09-30T00:26:04.434262Z",
     "iopub.status.busy": "2021-09-30T00:26:04.433570Z",
     "iopub.status.idle": "2021-09-30T00:26:04.720774Z",
     "shell.execute_reply": "2021-09-30T00:26:04.720204Z"
    },
    "papermill": {
     "duration": 0.491336,
     "end_time": "2021-09-30T00:26:04.720907",
     "exception": false,
     "start_time": "2021-09-30T00:26:04.229571",
     "status": "completed"
    },
    "tags": []
   },
   "outputs": [
    {
     "data": {
      "text/plain": [
       "<matplotlib.legend.Legend at 0x7f57df1518d0>"
      ]
     },
     "execution_count": 24,
     "metadata": {},
     "output_type": "execute_result"
    },
    {
     "data": {
      "image/png": "[encoded data removed]",
      "text/plain": [
       "<Figure size 1080x720 with 1 Axes>"
      ]
     },
     "metadata": {
      "needs_background": "light"
     },
     "output_type": "display_data"
    }
   ],
   "source": [
    "#comparing the results of NN and LR\n",
    "plt.figure(figsize=(15,10))\n",
    "\n",
    "# Neural Network plots\n",
    "plt.plot(acc_nn.accuracies, 'r-', label = \"Training Accuracies - NN\")\n",
    "plt.plot(acc_nn.test_accuracies, 'g-', label = \"Testing Accuracies - NN\")\n",
    "\n",
    "# Logistic Regression plots\n",
    "plt.plot(acc_lr.accuracies, 'k-', label = \"Training Accuracies - LR\")\n",
    "plt.plot(acc_lr.test_accuracies, 'b-', label = \"Testing Accuracies - LR\")\n",
    "plt.legend()"
   ]
  },
  {
   "cell_type": "markdown",
   "id": "80dfb35c",
   "metadata": {
    "papermill": {
     "duration": 0.203598,
     "end_time": "2021-09-30T00:26:05.122644",
     "exception": false,
     "start_time": "2021-09-30T00:26:04.919046",
     "status": "completed"
    },
    "tags": []
   },
   "source": [
    "#### Plotting the outputs of this layer of the NN.\n"
   ]
  },
  {
   "cell_type": "code",
   "execution_count": 25,
   "id": "45eb2ff5",
   "metadata": {
    "execution": {
     "iopub.execute_input": "2021-09-30T00:26:05.534227Z",
     "iopub.status.busy": "2021-09-30T00:26:05.531470Z",
     "iopub.status.idle": "2021-09-30T00:26:05.556643Z",
     "shell.execute_reply": "2021-09-30T00:26:05.557177Z"
    },
    "papermill": {
     "duration": 0.229752,
     "end_time": "2021-09-30T00:26:05.557345",
     "exception": false,
     "start_time": "2021-09-30T00:26:05.327593",
     "status": "completed"
    },
    "tags": []
   },
   "outputs": [],
   "source": [
    "new_model = Model(layers[:-2])\n",
    "testing_plot = new_model(testing_data_x)"
   ]
  },
  {
   "cell_type": "code",
   "execution_count": 26,
   "id": "4c0a5485",
   "metadata": {
    "execution": {
     "iopub.execute_input": "2021-09-30T00:26:05.978088Z",
     "iopub.status.busy": "2021-09-30T00:26:05.977418Z",
     "iopub.status.idle": "2021-09-30T00:26:06.223329Z",
     "shell.execute_reply": "2021-09-30T00:26:06.223834Z"
    },
    "papermill": {
     "duration": 0.458952,
     "end_time": "2021-09-30T00:26:06.223990",
     "exception": false,
     "start_time": "2021-09-30T00:26:05.765038",
     "status": "completed"
    },
    "tags": []
   },
   "outputs": [
    {
     "data": {
      "text/plain": [
       "Text(0.5, 1.0, 'Outputs')"
      ]
     },
     "execution_count": 26,
     "metadata": {},
     "output_type": "execute_result"
    },
    {
     "data": {
      "image/png": "[encoded data removed]",
      "text/plain": [
       "<Figure size 576x504 with 1 Axes>"
      ]
     },
     "metadata": {
      "needs_background": "light"
     },
     "output_type": "display_data"
    }
   ],
   "source": [
    "# Plotting the scatter plot of points and color coding by class\n",
    "plt.figure(figsize=(8,7))\n",
    "plt.scatter(testing_plot[:,0], testing_plot[:,1], alpha = 0.1, c = y_test.ravel());\n",
    "plt.title('Outputs')"
   ]
  },
  {
   "cell_type": "markdown",
   "id": "a74fcf8f",
   "metadata": {
    "papermill": {
     "duration": 0.212995,
     "end_time": "2021-09-30T00:26:06.641706",
     "exception": false,
     "start_time": "2021-09-30T00:26:06.428711",
     "status": "completed"
    },
    "tags": []
   },
   "source": [
    "Probability contours"
   ]
  },
  {
   "cell_type": "code",
   "execution_count": 27,
   "id": "d0afc8e3",
   "metadata": {
    "execution": {
     "iopub.execute_input": "2021-09-30T00:26:07.080099Z",
     "iopub.status.busy": "2021-09-30T00:26:07.079363Z",
     "iopub.status.idle": "2021-09-30T00:26:07.088960Z",
     "shell.execute_reply": "2021-09-30T00:26:07.088381Z"
    },
    "papermill": {
     "duration": 0.233052,
     "end_time": "2021-09-30T00:26:07.089093",
     "exception": false,
     "start_time": "2021-09-30T00:26:06.856041",
     "status": "completed"
    },
    "tags": []
   },
   "outputs": [],
   "source": [
    "model_prob = Model(layers[-2:]) "
   ]
  },
  {
   "cell_type": "code",
   "execution_count": 28,
   "id": "9b96e238",
   "metadata": {
    "execution": {
     "iopub.execute_input": "2021-09-30T00:26:07.547848Z",
     "iopub.status.busy": "2021-09-30T00:26:07.547188Z",
     "iopub.status.idle": "2021-09-30T00:26:07.561384Z",
     "shell.execute_reply": "2021-09-30T00:26:07.561881Z"
    },
    "papermill": {
     "duration": 0.255488,
     "end_time": "2021-09-30T00:26:07.562039",
     "exception": false,
     "start_time": "2021-09-30T00:26:07.306551",
     "status": "completed"
    },
    "tags": []
   },
   "outputs": [],
   "source": [
    "#creating the x and y ranges according to the above generated plot.\n",
    "x_range = np.linspace(-4, 1, 100) \n",
    "y_range = np.linspace(-6, 6, 100) \n",
    "x_grid, y_grid = np.meshgrid(x_range, y_range) # x_grid and y_grig are of size 100 X 100\n",
    "\n",
    "# converting x_grid and y_grid to continuous arrays\n",
    "x_gridflat = np.ravel(x_grid)\n",
    "y_gridflat = np.ravel(y_grid)\n",
    "\n",
    "# The last layer of the current model takes two columns as input. Hence transpose of np.vstack() is required.\n",
    "X = np.vstack((x_gridflat, y_gridflat)).T\n",
    "\n",
    "prob_contour = model_prob(X).reshape(100,100) "
   ]
  },
  {
   "cell_type": "code",
   "execution_count": 29,
   "id": "da72499a",
   "metadata": {
    "execution": {
     "iopub.execute_input": "2021-09-30T00:26:08.007717Z",
     "iopub.status.busy": "2021-09-30T00:26:08.007076Z",
     "iopub.status.idle": "2021-09-30T00:26:08.324735Z",
     "shell.execute_reply": "2021-09-30T00:26:08.323393Z"
    },
    "papermill": {
     "duration": 0.540525,
     "end_time": "2021-09-30T00:26:08.324880",
     "exception": false,
     "start_time": "2021-09-30T00:26:07.784355",
     "status": "completed"
    },
    "tags": []
   },
   "outputs": [
    {
     "data": {
      "image/png": "[encoded data removed]",
      "text/plain": [
       "<Figure size 720x648 with 1 Axes>"
      ]
     },
     "metadata": {
      "needs_background": "light"
     },
     "output_type": "display_data"
    }
   ],
   "source": [
    "plt.figure(figsize=(10,9))\n",
    "plt.scatter(testing_plot[:,0], testing_plot[:,1], alpha = 0.1, c = y_test.ravel())\n",
    "contours = plt.contour(x_grid,y_grid,prob_contour)\n",
    "plt.title('Probability Contours')\n",
    "plt.clabel(contours, inline = True );"
   ]
  },
  {
   "cell_type": "code",
   "execution_count": null,
   "id": "e81b4ac7",
   "metadata": {
    "papermill": {
     "duration": 0.210257,
     "end_time": "2021-09-30T00:26:08.741234",
     "exception": false,
     "start_time": "2021-09-30T00:26:08.530977",
     "status": "completed"
    },
    "tags": []
   },
   "outputs": [],
   "source": []
  }
 ],
 "metadata": {
  "kernelspec": {
   "display_name": "Python 3",
   "language": "python",
   "name": "python3"
  },
  "language_info": {
   "codemirror_mode": {
    "name": "ipython",
    "version": 3
   },
   "file_extension": ".py",
   "mimetype": "text/x-python",
   "name": "python",
   "nbconvert_exporter": "python",
   "pygments_lexer": "ipython3",
   "version": "3.6.15"
  },
  "papermill": {
   "default_parameters": {},
   "duration": 162.953814,
   "end_time": "2021-09-30T00:26:09.356115",
   "environment_variables": {},
   "exception": null,
   "input_path": "2020-08-11-part2.ipynb",
   "output_path": "2020-08-11-part2.ipynb",
   "parameters": {},
   "start_time": "2021-09-30T00:23:26.402301",
   "version": "2.3.3"
  }
 },
 "nbformat": 4,
 "nbformat_minor": 5
}