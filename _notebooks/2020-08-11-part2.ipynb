{
 "cells": [
  {
   "cell_type": "markdown",
   "id": "98380cd3",
   "metadata": {
    "papermill": {
     "duration": 0.029415,
     "end_time": "2022-07-31T20:10:26.971272",
     "exception": false,
     "start_time": "2022-07-31T20:10:26.941857",
     "status": "completed"
    },
    "tags": []
   },
   "source": [
    "# Distinguish Your Own Digits (DYOD)"
   ]
  },
  {
   "cell_type": "markdown",
   "id": "ef31240d",
   "metadata": {
    "papermill": {
     "duration": 0.024895,
     "end_time": "2022-07-31T20:10:27.021241",
     "exception": false,
     "start_time": "2022-07-31T20:10:26.996346",
     "status": "completed"
    },
    "tags": []
   },
   "source": [
    "You are going to write a classifier that distinguishes between the number 3 and number 8."
   ]
  },
  {
   "cell_type": "code",
   "execution_count": 1,
   "id": "b15c8646",
   "metadata": {
    "execution": {
     "iopub.execute_input": "2022-07-31T20:10:27.079738Z",
     "iopub.status.busy": "2022-07-31T20:10:27.079161Z",
     "iopub.status.idle": "2022-07-31T20:10:27.089947Z",
     "shell.execute_reply": "2022-07-31T20:10:27.089496Z"
    },
    "papermill": {
     "duration": 0.044576,
     "end_time": "2022-07-31T20:10:27.090062",
     "exception": false,
     "start_time": "2022-07-31T20:10:27.045486",
     "status": "completed"
    },
    "tags": []
   },
   "outputs": [],
   "source": [
    "%load_ext autoreload\n",
    "%autoreload 2"
   ]
  },
  {
   "cell_type": "code",
   "execution_count": 2,
   "id": "22ef38dc",
   "metadata": {
    "execution": {
     "iopub.execute_input": "2022-07-31T20:10:27.142489Z",
     "iopub.status.busy": "2022-07-31T20:10:27.141915Z",
     "iopub.status.idle": "2022-07-31T20:10:27.648282Z",
     "shell.execute_reply": "2022-07-31T20:10:27.649023Z"
    },
    "papermill": {
     "duration": 0.534734,
     "end_time": "2022-07-31T20:10:27.649157",
     "exception": false,
     "start_time": "2022-07-31T20:10:27.114423",
     "status": "completed"
    },
    "tags": []
   },
   "outputs": [],
   "source": [
    "%matplotlib inline\n",
    "import numpy as np\n",
    "import matplotlib.pyplot as plt\n",
    "import pandas as pd"
   ]
  },
  {
   "cell_type": "markdown",
   "id": "ba036198",
   "metadata": {
    "papermill": {
     "duration": 0.024499,
     "end_time": "2022-07-31T20:10:27.698218",
     "exception": false,
     "start_time": "2022-07-31T20:10:27.673719",
     "status": "completed"
    },
    "tags": []
   },
   "source": [
    "From the command line run `pip install mnist`. This is a library that will help you bring down the mnist dataset. If you run this from a notebook, you need to put  `!pip install mnist` in a cell by itself."
   ]
  },
  {
   "cell_type": "code",
   "execution_count": 3,
   "id": "bb6ad8a1",
   "metadata": {
    "execution": {
     "iopub.execute_input": "2022-07-31T20:10:27.751341Z",
     "iopub.status.busy": "2022-07-31T20:10:27.750773Z",
     "iopub.status.idle": "2022-07-31T20:10:30.110863Z",
     "shell.execute_reply": "2022-07-31T20:10:30.111311Z"
    },
    "papermill": {
     "duration": 2.388508,
     "end_time": "2022-07-31T20:10:30.111448",
     "exception": false,
     "start_time": "2022-07-31T20:10:27.722940",
     "status": "completed"
    },
    "tags": []
   },
   "outputs": [
    {
     "name": "stdout",
     "output_type": "stream",
     "text": [
      "Collecting mnist\r\n"
     ]
    },
    {
     "name": "stdout",
     "output_type": "stream",
     "text": [
      "  Downloading mnist-0.2.2-py2.py3-none-any.whl (3.5 kB)\r\n",
      "Requirement already satisfied: numpy in /opt/hostedtoolcache/Python/3.6.15/x64/lib/python3.6/site-packages (from mnist) (1.19.5)\r\n"
     ]
    },
    {
     "name": "stdout",
     "output_type": "stream",
     "text": [
      "Installing collected packages: mnist\r\n"
     ]
    },
    {
     "name": "stdout",
     "output_type": "stream",
     "text": [
      "Successfully installed mnist-0.2.2\r\n"
     ]
    }
   ],
   "source": [
    "!pip install mnist"
   ]
  },
  {
   "cell_type": "markdown",
   "id": "69df9c9a",
   "metadata": {
    "papermill": {
     "duration": 0.025686,
     "end_time": "2022-07-31T20:10:30.162772",
     "exception": false,
     "start_time": "2022-07-31T20:10:30.137086",
     "status": "completed"
    },
    "tags": []
   },
   "source": [
    "## Preparing the Data"
   ]
  },
  {
   "cell_type": "code",
   "execution_count": 4,
   "id": "7f69d806",
   "metadata": {
    "execution": {
     "iopub.execute_input": "2022-07-31T20:10:30.219252Z",
     "iopub.status.busy": "2022-07-31T20:10:30.216849Z",
     "iopub.status.idle": "2022-07-31T20:10:30.231008Z",
     "shell.execute_reply": "2022-07-31T20:10:30.230436Z"
    },
    "papermill": {
     "duration": 0.043015,
     "end_time": "2022-07-31T20:10:30.231113",
     "exception": false,
     "start_time": "2022-07-31T20:10:30.188098",
     "status": "completed"
    },
    "tags": []
   },
   "outputs": [],
   "source": [
    "import mnist"
   ]
  },
  {
   "cell_type": "code",
   "execution_count": 5,
   "id": "a411e44f",
   "metadata": {
    "execution": {
     "iopub.execute_input": "2022-07-31T20:10:30.287380Z",
     "iopub.status.busy": "2022-07-31T20:10:30.285583Z",
     "iopub.status.idle": "2022-07-31T20:10:30.918480Z",
     "shell.execute_reply": "2022-07-31T20:10:30.917999Z"
    },
    "papermill": {
     "duration": 0.661951,
     "end_time": "2022-07-31T20:10:30.918620",
     "exception": false,
     "start_time": "2022-07-31T20:10:30.256669",
     "status": "completed"
    },
    "tags": []
   },
   "outputs": [],
   "source": [
    "train_images = mnist.train_images()\n",
    "train_labels = mnist.train_labels()"
   ]
  },
  {
   "cell_type": "code",
   "execution_count": 6,
   "id": "dceab3a5",
   "metadata": {
    "execution": {
     "iopub.execute_input": "2022-07-31T20:10:30.975343Z",
     "iopub.status.busy": "2022-07-31T20:10:30.972798Z",
     "iopub.status.idle": "2022-07-31T20:10:30.987212Z",
     "shell.execute_reply": "2022-07-31T20:10:30.986664Z"
    },
    "papermill": {
     "duration": 0.043149,
     "end_time": "2022-07-31T20:10:30.987321",
     "exception": false,
     "start_time": "2022-07-31T20:10:30.944172",
     "status": "completed"
    },
    "tags": []
   },
   "outputs": [
    {
     "data": {
      "text/plain": [
       "((60000, 28, 28), (60000,))"
      ]
     },
     "execution_count": 6,
     "metadata": {},
     "output_type": "execute_result"
    }
   ],
   "source": [
    "train_images.shape, train_labels.shape"
   ]
  },
  {
   "cell_type": "code",
   "execution_count": 7,
   "id": "f50dc2bb",
   "metadata": {
    "execution": {
     "iopub.execute_input": "2022-07-31T20:10:31.043277Z",
     "iopub.status.busy": "2022-07-31T20:10:31.041577Z",
     "iopub.status.idle": "2022-07-31T20:10:31.219205Z",
     "shell.execute_reply": "2022-07-31T20:10:31.218716Z"
    },
    "papermill": {
     "duration": 0.206397,
     "end_time": "2022-07-31T20:10:31.219324",
     "exception": false,
     "start_time": "2022-07-31T20:10:31.012927",
     "status": "completed"
    },
    "tags": []
   },
   "outputs": [],
   "source": [
    "test_images = mnist.test_images()\n",
    "test_labels = mnist.test_labels()"
   ]
  },
  {
   "cell_type": "code",
   "execution_count": 8,
   "id": "fc38cf1b",
   "metadata": {
    "execution": {
     "iopub.execute_input": "2022-07-31T20:10:31.274717Z",
     "iopub.status.busy": "2022-07-31T20:10:31.274135Z",
     "iopub.status.idle": "2022-07-31T20:10:31.286621Z",
     "shell.execute_reply": "2022-07-31T20:10:31.287143Z"
    },
    "papermill": {
     "duration": 0.042071,
     "end_time": "2022-07-31T20:10:31.287270",
     "exception": false,
     "start_time": "2022-07-31T20:10:31.245199",
     "status": "completed"
    },
    "tags": []
   },
   "outputs": [
    {
     "data": {
      "text/plain": [
       "((10000, 28, 28), (10000,))"
      ]
     },
     "execution_count": 8,
     "metadata": {},
     "output_type": "execute_result"
    }
   ],
   "source": [
    "test_images.shape, test_labels.shape"
   ]
  },
  {
   "cell_type": "code",
   "execution_count": 9,
   "id": "f9ed8fe0",
   "metadata": {
    "execution": {
     "iopub.execute_input": "2022-07-31T20:10:31.343753Z",
     "iopub.status.busy": "2022-07-31T20:10:31.343189Z",
     "iopub.status.idle": "2022-07-31T20:10:31.477940Z",
     "shell.execute_reply": "2022-07-31T20:10:31.478380Z"
    },
    "papermill": {
     "duration": 0.165023,
     "end_time": "2022-07-31T20:10:31.478493",
     "exception": false,
     "start_time": "2022-07-31T20:10:31.313470",
     "status": "completed"
    },
    "tags": []
   },
   "outputs": [
    {
     "name": "stdout",
     "output_type": "stream",
     "text": [
      "2\n"
     ]
    },
    {
     "data": {
      "text/plain": [
       "<matplotlib.image.AxesImage at 0x7f1f2deb24a8>"
      ]
     },
     "execution_count": 9,
     "metadata": {},
     "output_type": "execute_result"
    },
    {
     "data": {
      "image/png": "[encoded data removed]",
      "text/plain": [
       "<Figure size 432x288 with 1 Axes>"
      ]
     },
     "metadata": {
      "needs_background": "light"
     },
     "output_type": "display_data"
    }
   ],
   "source": [
    "image_index = 7776 # You may select anything up to 60,000\n",
    "print(train_labels[image_index]) \n",
    "plt.imshow(train_images[image_index], cmap='Greys')"
   ]
  },
  {
   "cell_type": "markdown",
   "id": "a8d2388d",
   "metadata": {
    "papermill": {
     "duration": 0.026962,
     "end_time": "2022-07-31T20:10:31.532794",
     "exception": false,
     "start_time": "2022-07-31T20:10:31.505832",
     "status": "completed"
    },
    "tags": []
   },
   "source": [
    "## Filter data to get 3 and 8 out"
   ]
  },
  {
   "cell_type": "code",
   "execution_count": 10,
   "id": "776f7fc7",
   "metadata": {
    "execution": {
     "iopub.execute_input": "2022-07-31T20:10:31.591561Z",
     "iopub.status.busy": "2022-07-31T20:10:31.590988Z",
     "iopub.status.idle": "2022-07-31T20:10:31.607969Z",
     "shell.execute_reply": "2022-07-31T20:10:31.607501Z"
    },
    "papermill": {
     "duration": 0.048279,
     "end_time": "2022-07-31T20:10:31.608077",
     "exception": false,
     "start_time": "2022-07-31T20:10:31.559798",
     "status": "completed"
    },
    "tags": []
   },
   "outputs": [],
   "source": [
    "train_filter = np.where((train_labels == 3 ) | (train_labels == 8))\n",
    "test_filter = np.where((test_labels == 3) | (test_labels == 8))\n",
    "X_train, y_train = train_images[train_filter], train_labels[train_filter]\n",
    "X_test, y_test = test_images[test_filter], test_labels[test_filter]"
   ]
  },
  {
   "cell_type": "markdown",
   "id": "948f0b7e",
   "metadata": {
    "papermill": {
     "duration": 0.0271,
     "end_time": "2022-07-31T20:10:31.662607",
     "exception": false,
     "start_time": "2022-07-31T20:10:31.635507",
     "status": "completed"
    },
    "tags": []
   },
   "source": [
    "We normalize the pizel values in the 0 to 1 range"
   ]
  },
  {
   "cell_type": "code",
   "execution_count": 11,
   "id": "ee4c2166",
   "metadata": {
    "execution": {
     "iopub.execute_input": "2022-07-31T20:10:31.720528Z",
     "iopub.status.busy": "2022-07-31T20:10:31.719966Z",
     "iopub.status.idle": "2022-07-31T20:10:31.759755Z",
     "shell.execute_reply": "2022-07-31T20:10:31.759273Z"
    },
    "papermill": {
     "duration": 0.070154,
     "end_time": "2022-07-31T20:10:31.759874",
     "exception": false,
     "start_time": "2022-07-31T20:10:31.689720",
     "status": "completed"
    },
    "tags": []
   },
   "outputs": [],
   "source": [
    "X_train = X_train/255.\n",
    "X_test = X_test/255."
   ]
  },
  {
   "cell_type": "markdown",
   "id": "ddcf4fab",
   "metadata": {
    "papermill": {
     "duration": 0.02699,
     "end_time": "2022-07-31T20:10:31.814113",
     "exception": false,
     "start_time": "2022-07-31T20:10:31.787123",
     "status": "completed"
    },
    "tags": []
   },
   "source": [
    "And setup the labels as 1 (when the digit is 3) and 0 (when the digit is 8)"
   ]
  },
  {
   "cell_type": "code",
   "execution_count": 12,
   "id": "7dc908f2",
   "metadata": {
    "execution": {
     "iopub.execute_input": "2022-07-31T20:10:31.872213Z",
     "iopub.status.busy": "2022-07-31T20:10:31.871648Z",
     "iopub.status.idle": "2022-07-31T20:10:31.884599Z",
     "shell.execute_reply": "2022-07-31T20:10:31.885052Z"
    },
    "papermill": {
     "duration": 0.044001,
     "end_time": "2022-07-31T20:10:31.885180",
     "exception": false,
     "start_time": "2022-07-31T20:10:31.841179",
     "status": "completed"
    },
    "tags": []
   },
   "outputs": [],
   "source": [
    "y_train = 1*(y_train==3)\n",
    "y_test = 1*(y_test==3)"
   ]
  },
  {
   "cell_type": "code",
   "execution_count": 13,
   "id": "01e4e969",
   "metadata": {
    "execution": {
     "iopub.execute_input": "2022-07-31T20:10:31.947290Z",
     "iopub.status.busy": "2022-07-31T20:10:31.944069Z",
     "iopub.status.idle": "2022-07-31T20:10:31.956877Z",
     "shell.execute_reply": "2022-07-31T20:10:31.956325Z"
    },
    "papermill": {
     "duration": 0.044151,
     "end_time": "2022-07-31T20:10:31.956980",
     "exception": false,
     "start_time": "2022-07-31T20:10:31.912829",
     "status": "completed"
    },
    "tags": []
   },
   "outputs": [
    {
     "data": {
      "text/plain": [
       "((11982, 28, 28), (1984, 28, 28))"
      ]
     },
     "execution_count": 13,
     "metadata": {},
     "output_type": "execute_result"
    }
   ],
   "source": [
    "X_train.shape, X_test.shape"
   ]
  },
  {
   "cell_type": "markdown",
   "id": "5ccf3f85",
   "metadata": {
    "papermill": {
     "duration": 0.027272,
     "end_time": "2022-07-31T20:10:32.011388",
     "exception": false,
     "start_time": "2022-07-31T20:10:31.984116",
     "status": "completed"
    },
    "tags": []
   },
   "source": [
    "We reshape the data to flatten the image pixels into a set of features or co-variates:"
   ]
  },
  {
   "cell_type": "code",
   "execution_count": 14,
   "id": "5286a4a3",
   "metadata": {
    "execution": {
     "iopub.execute_input": "2022-07-31T20:10:32.069927Z",
     "iopub.status.busy": "2022-07-31T20:10:32.069247Z",
     "iopub.status.idle": "2022-07-31T20:10:32.083050Z",
     "shell.execute_reply": "2022-07-31T20:10:32.082586Z"
    },
    "papermill": {
     "duration": 0.044306,
     "end_time": "2022-07-31T20:10:32.083156",
     "exception": false,
     "start_time": "2022-07-31T20:10:32.038850",
     "status": "completed"
    },
    "tags": []
   },
   "outputs": [
    {
     "data": {
      "text/plain": [
       "((11982, 784), (1984, 784))"
      ]
     },
     "execution_count": 14,
     "metadata": {},
     "output_type": "execute_result"
    }
   ],
   "source": [
    "X_train = X_train.reshape(X_train.shape[0], -1)\n",
    "X_test = X_test.reshape(X_test.shape[0], -1)\n",
    "X_train.shape, X_test.shape"
   ]
  },
  {
   "cell_type": "code",
   "execution_count": 15,
   "id": "73c5f88a",
   "metadata": {
    "execution": {
     "iopub.execute_input": "2022-07-31T20:10:32.142687Z",
     "iopub.status.busy": "2022-07-31T20:10:32.142071Z",
     "iopub.status.idle": "2022-07-31T20:10:32.160095Z",
     "shell.execute_reply": "2022-07-31T20:10:32.160531Z"
    },
    "papermill": {
     "duration": 0.049895,
     "end_time": "2022-07-31T20:10:32.160655",
     "exception": false,
     "start_time": "2022-07-31T20:10:32.110760",
     "status": "completed"
    },
    "tags": []
   },
   "outputs": [],
   "source": [
    "#Impoting functions from 'Kudzu'\n",
    "from kudzu.model import Model\n",
    "from kudzu.train import Learner\n",
    "from kudzu.optim import GD\n",
    "from kudzu.data import Data, Sampler,Dataloader\n",
    "\n",
    "from kudzu.callbacks import AccCallback\n",
    "from kudzu.callbacks import ClfCallback\n",
    "\n",
    "from kudzu.loss import MSE\n",
    "\n",
    "from kudzu.layer import Sigmoid,Relu\n",
    "from kudzu.layer import Affine"
   ]
  },
  {
   "cell_type": "markdown",
   "id": "bc01172a",
   "metadata": {
    "papermill": {
     "duration": 0.027716,
     "end_time": "2022-07-31T20:10:32.216213",
     "exception": false,
     "start_time": "2022-07-31T20:10:32.188497",
     "status": "completed"
    },
    "tags": []
   },
   "source": [
    "### Let us create a `Config` class, to store important parameters. \n",
    "This class essentially plays the role of a dictionary."
   ]
  },
  {
   "cell_type": "code",
   "execution_count": 16,
   "id": "978281aa",
   "metadata": {
    "execution": {
     "iopub.execute_input": "2022-07-31T20:10:32.275655Z",
     "iopub.status.busy": "2022-07-31T20:10:32.275093Z",
     "iopub.status.idle": "2022-07-31T20:10:32.287000Z",
     "shell.execute_reply": "2022-07-31T20:10:32.286539Z"
    },
    "papermill": {
     "duration": 0.043335,
     "end_time": "2022-07-31T20:10:32.287105",
     "exception": false,
     "start_time": "2022-07-31T20:10:32.243770",
     "status": "completed"
    },
    "tags": []
   },
   "outputs": [],
   "source": [
    "class Config:\n",
    "    pass\n",
    "config = Config()\n",
    "config.lr = 0.001\n",
    "config.num_epochs = 250\n",
    "config.bs = 50"
   ]
  },
  {
   "cell_type": "markdown",
   "id": "1385fa59",
   "metadata": {
    "papermill": {
     "duration": 0.027594,
     "end_time": "2022-07-31T20:10:32.342600",
     "exception": false,
     "start_time": "2022-07-31T20:10:32.315006",
     "status": "completed"
    },
    "tags": []
   },
   "source": [
    "### Running Models with the Training data\n",
    "Details about the network layers:\n",
    "- A first affine layer has 784 inputs and does 100 affine transforms. These are followed by a Relu\n",
    "- A second affine layer has 100 inputs from the 100 activations of the past layer, and does 100 affine transforms. These are followed by a Relu\n",
    "- A third affine layer has 100 activations and does 2 affine transformations to create an embedding for visualization. There is no non-linearity here.\n",
    "- A final \"logistic regression\" which has an affine transform from 2 inputs to 1 output, which is squeezed through a sigmoid.\n"
   ]
  },
  {
   "cell_type": "code",
   "execution_count": 17,
   "id": "2b9c66db",
   "metadata": {
    "execution": {
     "iopub.execute_input": "2022-07-31T20:10:32.402549Z",
     "iopub.status.busy": "2022-07-31T20:10:32.401948Z",
     "iopub.status.idle": "2022-07-31T20:10:32.413744Z",
     "shell.execute_reply": "2022-07-31T20:10:32.413289Z"
    },
    "papermill": {
     "duration": 0.043647,
     "end_time": "2022-07-31T20:10:32.413848",
     "exception": false,
     "start_time": "2022-07-31T20:10:32.370201",
     "status": "completed"
    },
    "tags": []
   },
   "outputs": [],
   "source": [
    "data = Data(X_train, y_train.reshape(-1,1))\n",
    "sampler = Sampler(data, config.bs, shuffle=True)\n",
    "\n",
    "dl = Dataloader(data, sampler)\n",
    "\n",
    "opt = GD(config.lr)\n",
    "loss = MSE()"
   ]
  },
  {
   "cell_type": "code",
   "execution_count": 18,
   "id": "b275e4c2",
   "metadata": {
    "execution": {
     "iopub.execute_input": "2022-07-31T20:10:32.473025Z",
     "iopub.status.busy": "2022-07-31T20:10:32.472473Z",
     "iopub.status.idle": "2022-07-31T20:10:32.484318Z",
     "shell.execute_reply": "2022-07-31T20:10:32.483768Z"
    },
    "papermill": {
     "duration": 0.042998,
     "end_time": "2022-07-31T20:10:32.484422",
     "exception": false,
     "start_time": "2022-07-31T20:10:32.441424",
     "status": "completed"
    },
    "tags": []
   },
   "outputs": [],
   "source": [
    "training_data_x = X_train\n",
    "testing_data_x = X_test\n",
    "training_data_y = y_train.reshape(-1,1)\n",
    "testing_data_y = y_test.reshape(-1,1)"
   ]
  },
  {
   "cell_type": "code",
   "execution_count": 19,
   "id": "76951160",
   "metadata": {
    "execution": {
     "iopub.execute_input": "2022-07-31T20:10:32.543664Z",
     "iopub.status.busy": "2022-07-31T20:10:32.543094Z",
     "iopub.status.idle": "2022-07-31T20:10:32.559240Z",
     "shell.execute_reply": "2022-07-31T20:10:32.558780Z"
    },
    "papermill": {
     "duration": 0.047526,
     "end_time": "2022-07-31T20:10:32.559345",
     "exception": false,
     "start_time": "2022-07-31T20:10:32.511819",
     "status": "completed"
    },
    "tags": []
   },
   "outputs": [
    {
     "name": "stdout",
     "output_type": "stream",
     "text": [
      "xavier\n",
      "xavier\n",
      "xavier\n",
      "xavier\n",
      "xavier\n"
     ]
    }
   ],
   "source": [
    "layers = [Affine(\"first\", 784, 100), Relu(\"first\"), Affine(\"second\", 100, 100), Relu(\"second\"), Affine(\"third\", 100, 2), Affine(\"last\", 2, 1), Sigmoid(\"last\")]\n",
    "model_nn = Model(layers)\n",
    "model_lr = Model([Affine(\"logits\", 784, 1), Sigmoid(\"sigmoid\")])"
   ]
  },
  {
   "cell_type": "code",
   "execution_count": 20,
   "id": "6eede77a",
   "metadata": {
    "execution": {
     "iopub.execute_input": "2022-07-31T20:10:32.619410Z",
     "iopub.status.busy": "2022-07-31T20:10:32.618826Z",
     "iopub.status.idle": "2022-07-31T20:10:32.630306Z",
     "shell.execute_reply": "2022-07-31T20:10:32.630741Z"
    },
    "papermill": {
     "duration": 0.043719,
     "end_time": "2022-07-31T20:10:32.630866",
     "exception": false,
     "start_time": "2022-07-31T20:10:32.587147",
     "status": "completed"
    },
    "tags": []
   },
   "outputs": [],
   "source": [
    "nn_learner = Learner(loss, model_nn, opt, config.num_epochs)\n",
    "acc_nn = ClfCallback(nn_learner, config.bs, training_data_x , testing_data_x, training_data_y, testing_data_y)\n",
    "nn_learner.set_callbacks([acc_nn])"
   ]
  },
  {
   "cell_type": "code",
   "execution_count": 21,
   "id": "877b6cc7",
   "metadata": {
    "execution": {
     "iopub.execute_input": "2022-07-31T20:10:32.690561Z",
     "iopub.status.busy": "2022-07-31T20:10:32.689982Z",
     "iopub.status.idle": "2022-07-31T20:10:32.702342Z",
     "shell.execute_reply": "2022-07-31T20:10:32.701889Z"
    },
    "papermill": {
     "duration": 0.043688,
     "end_time": "2022-07-31T20:10:32.702446",
     "exception": false,
     "start_time": "2022-07-31T20:10:32.658758",
     "status": "completed"
    },
    "tags": []
   },
   "outputs": [],
   "source": [
    "lr_learner = Learner(loss, model_lr, opt, config.num_epochs)\n",
    "acc_lr = ClfCallback(lr_learner, config.bs, training_data_x , testing_data_x, training_data_y, testing_data_y)\n",
    "lr_learner.set_callbacks([acc_lr])"
   ]
  },
  {
   "cell_type": "code",
   "execution_count": 22,
   "id": "d9b133c3",
   "metadata": {
    "execution": {
     "iopub.execute_input": "2022-07-31T20:10:32.761977Z",
     "iopub.status.busy": "2022-07-31T20:10:32.761406Z",
     "iopub.status.idle": "2022-07-31T20:13:29.428207Z",
     "shell.execute_reply": "2022-07-31T20:13:29.428667Z"
    },
    "papermill": {
     "duration": 176.698341,
     "end_time": "2022-07-31T20:13:29.428790",
     "exception": false,
     "start_time": "2022-07-31T20:10:32.730449",
     "status": "completed"
    },
    "tags": []
   },
   "outputs": [
    {
     "name": "stdout",
     "output_type": "stream",
     "text": [
      "Epoch 0, Loss 0.2475\n",
      "Training Accuracy: 0.5698, Testing Accuracy: 0.5549\n",
      "\n"
     ]
    },
    {
     "name": "stdout",
     "output_type": "stream",
     "text": [
      "Epoch 10, Loss 0.1419\n",
      "Training Accuracy: 0.8817, Testing Accuracy: 0.8957\n",
      "\n"
     ]
    },
    {
     "name": "stdout",
     "output_type": "stream",
     "text": [
      "Epoch 20, Loss 0.0748\n",
      "Training Accuracy: 0.9250, Testing Accuracy: 0.9380\n",
      "\n"
     ]
    },
    {
     "name": "stdout",
     "output_type": "stream",
     "text": [
      "Epoch 30, Loss 0.0532\n",
      "Training Accuracy: 0.9431, Testing Accuracy: 0.9546\n",
      "\n"
     ]
    },
    {
     "name": "stdout",
     "output_type": "stream",
     "text": [
      "Epoch 40, Loss 0.0438\n",
      "Training Accuracy: 0.9517, Testing Accuracy: 0.9612\n",
      "\n"
     ]
    },
    {
     "name": "stdout",
     "output_type": "stream",
     "text": [
      "Epoch 50, Loss 0.0386\n",
      "Training Accuracy: 0.9556, Testing Accuracy: 0.9632\n",
      "\n"
     ]
    },
    {
     "name": "stdout",
     "output_type": "stream",
     "text": [
      "Epoch 60, Loss 0.0353\n",
      "Training Accuracy: 0.9589, Testing Accuracy: 0.9652\n",
      "\n"
     ]
    },
    {
     "name": "stdout",
     "output_type": "stream",
     "text": [
      "Epoch 70, Loss 0.0329\n",
      "Training Accuracy: 0.9613, Testing Accuracy: 0.9657\n",
      "\n"
     ]
    },
    {
     "name": "stdout",
     "output_type": "stream",
     "text": [
      "Epoch 80, Loss 0.0311\n",
      "Training Accuracy: 0.9639, Testing Accuracy: 0.9677\n",
      "\n"
     ]
    },
    {
     "name": "stdout",
     "output_type": "stream",
     "text": [
      "Epoch 90, Loss 0.0297\n",
      "Training Accuracy: 0.9654, Testing Accuracy: 0.9672\n",
      "\n"
     ]
    },
    {
     "name": "stdout",
     "output_type": "stream",
     "text": [
      "Epoch 100, Loss 0.0284\n",
      "Training Accuracy: 0.9669, Testing Accuracy: 0.9672\n",
      "\n"
     ]
    },
    {
     "name": "stdout",
     "output_type": "stream",
     "text": [
      "Epoch 110, Loss 0.0274\n",
      "Training Accuracy: 0.9687, Testing Accuracy: 0.9677\n",
      "\n"
     ]
    },
    {
     "name": "stdout",
     "output_type": "stream",
     "text": [
      "Epoch 120, Loss 0.0265\n",
      "Training Accuracy: 0.9696, Testing Accuracy: 0.9682\n",
      "\n"
     ]
    },
    {
     "name": "stdout",
     "output_type": "stream",
     "text": [
      "Epoch 130, Loss 0.0257\n",
      "Training Accuracy: 0.9707, Testing Accuracy: 0.9693\n",
      "\n"
     ]
    },
    {
     "name": "stdout",
     "output_type": "stream",
     "text": [
      "Epoch 140, Loss 0.0249\n",
      "Training Accuracy: 0.9714, Testing Accuracy: 0.9693\n",
      "\n"
     ]
    },
    {
     "name": "stdout",
     "output_type": "stream",
     "text": [
      "Epoch 150, Loss 0.0243\n",
      "Training Accuracy: 0.9721, Testing Accuracy: 0.9703\n",
      "\n"
     ]
    },
    {
     "name": "stdout",
     "output_type": "stream",
     "text": [
      "Epoch 160, Loss 0.0237\n",
      "Training Accuracy: 0.9730, Testing Accuracy: 0.9703\n",
      "\n"
     ]
    },
    {
     "name": "stdout",
     "output_type": "stream",
     "text": [
      "Epoch 170, Loss 0.0231\n",
      "Training Accuracy: 0.9740, Testing Accuracy: 0.9698\n",
      "\n"
     ]
    },
    {
     "name": "stdout",
     "output_type": "stream",
     "text": [
      "Epoch 180, Loss 0.0226\n",
      "Training Accuracy: 0.9748, Testing Accuracy: 0.9703\n",
      "\n"
     ]
    },
    {
     "name": "stdout",
     "output_type": "stream",
     "text": [
      "Epoch 190, Loss 0.0221\n",
      "Training Accuracy: 0.9754, Testing Accuracy: 0.9703\n",
      "\n"
     ]
    },
    {
     "name": "stdout",
     "output_type": "stream",
     "text": [
      "Epoch 200, Loss 0.0216\n",
      "Training Accuracy: 0.9757, Testing Accuracy: 0.9713\n",
      "\n"
     ]
    },
    {
     "name": "stdout",
     "output_type": "stream",
     "text": [
      "Epoch 210, Loss 0.0212\n",
      "Training Accuracy: 0.9763, Testing Accuracy: 0.9718\n",
      "\n"
     ]
    },
    {
     "name": "stdout",
     "output_type": "stream",
     "text": [
      "Epoch 220, Loss 0.0207\n",
      "Training Accuracy: 0.9768, Testing Accuracy: 0.9733\n",
      "\n"
     ]
    },
    {
     "name": "stdout",
     "output_type": "stream",
     "text": [
      "Epoch 230, Loss 0.0203\n",
      "Training Accuracy: 0.9770, Testing Accuracy: 0.9728\n",
      "\n"
     ]
    },
    {
     "name": "stdout",
     "output_type": "stream",
     "text": [
      "Epoch 240, Loss 0.02\n",
      "Training Accuracy: 0.9775, Testing Accuracy: 0.9723\n",
      "\n"
     ]
    },
    {
     "data": {
      "text/plain": [
       "0.010110635478703727"
      ]
     },
     "execution_count": 22,
     "metadata": {},
     "output_type": "execute_result"
    }
   ],
   "source": [
    "nn_learner.train_loop(dl)"
   ]
  },
  {
   "cell_type": "code",
   "execution_count": 23,
   "id": "e0163366",
   "metadata": {
    "execution": {
     "iopub.execute_input": "2022-07-31T20:13:29.505070Z",
     "iopub.status.busy": "2022-07-31T20:13:29.503387Z",
     "iopub.status.idle": "2022-07-31T20:13:41.871815Z",
     "shell.execute_reply": "2022-07-31T20:13:41.872616Z"
    },
    "papermill": {
     "duration": 12.408848,
     "end_time": "2022-07-31T20:13:41.872758",
     "exception": false,
     "start_time": "2022-07-31T20:13:29.463910",
     "status": "completed"
    },
    "tags": []
   },
   "outputs": [
    {
     "name": "stdout",
     "output_type": "stream",
     "text": [
      "Epoch 0, Loss 0.2524\n",
      "Training Accuracy: 0.6431, Testing Accuracy: 0.6966\n",
      "\n"
     ]
    },
    {
     "name": "stdout",
     "output_type": "stream",
     "text": [
      "Epoch 10, Loss 0.1007\n",
      "Training Accuracy: 0.9186, Testing Accuracy: 0.9385\n",
      "\n"
     ]
    },
    {
     "name": "stdout",
     "output_type": "stream",
     "text": [
      "Epoch 20, Loss 0.0772\n",
      "Training Accuracy: 0.9326, Testing Accuracy: 0.9451\n",
      "\n"
     ]
    },
    {
     "name": "stdout",
     "output_type": "stream",
     "text": [
      "Epoch 30, Loss 0.0667\n",
      "Training Accuracy: 0.9395, Testing Accuracy: 0.9501\n",
      "\n"
     ]
    },
    {
     "name": "stdout",
     "output_type": "stream",
     "text": [
      "Epoch 40, Loss 0.0605\n",
      "Training Accuracy: 0.9438, Testing Accuracy: 0.9521\n",
      "\n"
     ]
    },
    {
     "name": "stdout",
     "output_type": "stream",
     "text": [
      "Epoch 50, Loss 0.0562\n",
      "Training Accuracy: 0.9468, Testing Accuracy: 0.9561\n",
      "\n"
     ]
    },
    {
     "name": "stdout",
     "output_type": "stream",
     "text": [
      "Epoch 60, Loss 0.0531\n",
      "Training Accuracy: 0.9481, Testing Accuracy: 0.9587\n",
      "\n"
     ]
    },
    {
     "name": "stdout",
     "output_type": "stream",
     "text": [
      "Epoch 70, Loss 0.0506\n",
      "Training Accuracy: 0.9497, Testing Accuracy: 0.9592\n",
      "\n"
     ]
    },
    {
     "name": "stdout",
     "output_type": "stream",
     "text": [
      "Epoch 80, Loss 0.0487\n",
      "Training Accuracy: 0.9509, Testing Accuracy: 0.9602\n",
      "\n"
     ]
    },
    {
     "name": "stdout",
     "output_type": "stream",
     "text": [
      "Epoch 90, Loss 0.0471\n",
      "Training Accuracy: 0.9525, Testing Accuracy: 0.9612\n",
      "\n"
     ]
    },
    {
     "name": "stdout",
     "output_type": "stream",
     "text": [
      "Epoch 100, Loss 0.0457\n",
      "Training Accuracy: 0.9538, Testing Accuracy: 0.9627\n",
      "\n"
     ]
    },
    {
     "name": "stdout",
     "output_type": "stream",
     "text": [
      "Epoch 110, Loss 0.0446\n",
      "Training Accuracy: 0.9543, Testing Accuracy: 0.9637\n",
      "\n"
     ]
    },
    {
     "name": "stdout",
     "output_type": "stream",
     "text": [
      "Epoch 120, Loss 0.0436\n",
      "Training Accuracy: 0.9548, Testing Accuracy: 0.9632\n",
      "\n"
     ]
    },
    {
     "name": "stdout",
     "output_type": "stream",
     "text": [
      "Epoch 130, Loss 0.0427\n",
      "Training Accuracy: 0.9554, Testing Accuracy: 0.9632\n",
      "\n"
     ]
    },
    {
     "name": "stdout",
     "output_type": "stream",
     "text": [
      "Epoch 140, Loss 0.0419\n",
      "Training Accuracy: 0.9559, Testing Accuracy: 0.9632\n",
      "\n"
     ]
    },
    {
     "name": "stdout",
     "output_type": "stream",
     "text": [
      "Epoch 150, Loss 0.0411\n",
      "Training Accuracy: 0.9563, Testing Accuracy: 0.9637\n",
      "\n"
     ]
    },
    {
     "name": "stdout",
     "output_type": "stream",
     "text": [
      "Epoch 160, Loss 0.0405\n",
      "Training Accuracy: 0.9568, Testing Accuracy: 0.9642\n",
      "\n"
     ]
    },
    {
     "name": "stdout",
     "output_type": "stream",
     "text": [
      "Epoch 170, Loss 0.0399\n",
      "Training Accuracy: 0.9572, Testing Accuracy: 0.9652\n",
      "\n"
     ]
    },
    {
     "name": "stdout",
     "output_type": "stream",
     "text": [
      "Epoch 180, Loss 0.0394\n",
      "Training Accuracy: 0.9578, Testing Accuracy: 0.9652\n",
      "\n"
     ]
    },
    {
     "name": "stdout",
     "output_type": "stream",
     "text": [
      "Epoch 190, Loss 0.0389\n",
      "Training Accuracy: 0.9586, Testing Accuracy: 0.9662\n",
      "\n"
     ]
    },
    {
     "name": "stdout",
     "output_type": "stream",
     "text": [
      "Epoch 200, Loss 0.0384\n",
      "Training Accuracy: 0.9587, Testing Accuracy: 0.9662\n",
      "\n"
     ]
    },
    {
     "name": "stdout",
     "output_type": "stream",
     "text": [
      "Epoch 210, Loss 0.038\n",
      "Training Accuracy: 0.9594, Testing Accuracy: 0.9662\n",
      "\n"
     ]
    },
    {
     "name": "stdout",
     "output_type": "stream",
     "text": [
      "Epoch 220, Loss 0.0376\n",
      "Training Accuracy: 0.9598, Testing Accuracy: 0.9657\n",
      "\n"
     ]
    },
    {
     "name": "stdout",
     "output_type": "stream",
     "text": [
      "Epoch 230, Loss 0.0372\n",
      "Training Accuracy: 0.9602, Testing Accuracy: 0.9657\n",
      "\n"
     ]
    },
    {
     "name": "stdout",
     "output_type": "stream",
     "text": [
      "Epoch 240, Loss 0.0368\n",
      "Training Accuracy: 0.9605, Testing Accuracy: 0.9652\n",
      "\n"
     ]
    },
    {
     "data": {
      "text/plain": [
       "0.04312123289828198"
      ]
     },
     "execution_count": 23,
     "metadata": {},
     "output_type": "execute_result"
    }
   ],
   "source": [
    "lr_learner.train_loop(dl)"
   ]
  },
  {
   "cell_type": "code",
   "execution_count": 24,
   "id": "ca410940",
   "metadata": {
    "execution": {
     "iopub.execute_input": "2022-07-31T20:13:41.964664Z",
     "iopub.status.busy": "2022-07-31T20:13:41.964124Z",
     "iopub.status.idle": "2022-07-31T20:13:42.180947Z",
     "shell.execute_reply": "2022-07-31T20:13:42.180466Z"
    },
    "papermill": {
     "duration": 0.266745,
     "end_time": "2022-07-31T20:13:42.181057",
     "exception": false,
     "start_time": "2022-07-31T20:13:41.914312",
     "status": "completed"
    },
    "tags": []
   },
   "outputs": [
    {
     "data": {
      "text/plain": [
       "<matplotlib.legend.Legend at 0x7f1f2da13ac8>"
      ]
     },
     "execution_count": 24,
     "metadata": {},
     "output_type": "execute_result"
    },
    {
     "data": {
      "image/png": "[encoded data removed]",
      "text/plain": [
       "<Figure size 1080x720 with 1 Axes>"
      ]
     },
     "metadata": {
      "needs_background": "light"
     },
     "output_type": "display_data"
    }
   ],
   "source": [
    "#comparing the results of NN and LR\n",
    "plt.figure(figsize=(15,10))\n",
    "\n",
    "# Neural Network plots\n",
    "plt.plot(acc_nn.accuracies, 'r-', label = \"Training Accuracies - NN\")\n",
    "plt.plot(acc_nn.test_accuracies, 'g-', label = \"Testing Accuracies - NN\")\n",
    "\n",
    "# Logistic Regression plots\n",
    "plt.plot(acc_lr.accuracies, 'k-', label = \"Training Accuracies - LR\")\n",
    "plt.plot(acc_lr.test_accuracies, 'b-', label = \"Testing Accuracies - LR\")\n",
    "plt.legend()"
   ]
  },
  {
   "cell_type": "markdown",
   "id": "80dfb35c",
   "metadata": {
    "papermill": {
     "duration": 0.042528,
     "end_time": "2022-07-31T20:13:42.266608",
     "exception": false,
     "start_time": "2022-07-31T20:13:42.224080",
     "status": "completed"
    },
    "tags": []
   },
   "source": [
    "#### Plotting the outputs of this layer of the NN.\n"
   ]
  },
  {
   "cell_type": "code",
   "execution_count": 25,
   "id": "45eb2ff5",
   "metadata": {
    "execution": {
     "iopub.execute_input": "2022-07-31T20:13:42.355733Z",
     "iopub.status.busy": "2022-07-31T20:13:42.355160Z",
     "iopub.status.idle": "2022-07-31T20:13:42.391368Z",
     "shell.execute_reply": "2022-07-31T20:13:42.392003Z"
    },
    "papermill": {
     "duration": 0.082843,
     "end_time": "2022-07-31T20:13:42.392125",
     "exception": false,
     "start_time": "2022-07-31T20:13:42.309282",
     "status": "completed"
    },
    "tags": []
   },
   "outputs": [],
   "source": [
    "new_model = Model(layers[:-2])\n",
    "testing_plot = new_model(testing_data_x)"
   ]
  },
  {
   "cell_type": "code",
   "execution_count": 26,
   "id": "4c0a5485",
   "metadata": {
    "execution": {
     "iopub.execute_input": "2022-07-31T20:13:42.485429Z",
     "iopub.status.busy": "2022-07-31T20:13:42.483855Z",
     "iopub.status.idle": "2022-07-31T20:13:42.671899Z",
     "shell.execute_reply": "2022-07-31T20:13:42.672331Z"
    },
    "papermill": {
     "duration": 0.236578,
     "end_time": "2022-07-31T20:13:42.672458",
     "exception": false,
     "start_time": "2022-07-31T20:13:42.435880",
     "status": "completed"
    },
    "tags": []
   },
   "outputs": [
    {
     "data": {
      "text/plain": [
       "Text(0.5, 1.0, 'Outputs')"
      ]
     },
     "execution_count": 26,
     "metadata": {},
     "output_type": "execute_result"
    },
    {
     "data": {
      "image/png": "[encoded data removed]",
      "text/plain": [
       "<Figure size 576x504 with 1 Axes>"
      ]
     },
     "metadata": {
      "needs_background": "light"
     },
     "output_type": "display_data"
    }
   ],
   "source": [
    "# Plotting the scatter plot of points and color coding by class\n",
    "plt.figure(figsize=(8,7))\n",
    "plt.scatter(testing_plot[:,0], testing_plot[:,1], alpha = 0.1, c = y_test.ravel());\n",
    "plt.title('Outputs')"
   ]
  },
  {
   "cell_type": "markdown",
   "id": "a74fcf8f",
   "metadata": {
    "papermill": {
     "duration": 0.044861,
     "end_time": "2022-07-31T20:13:42.782798",
     "exception": false,
     "start_time": "2022-07-31T20:13:42.737937",
     "status": "completed"
    },
    "tags": []
   },
   "source": [
    "Probability contours"
   ]
  },
  {
   "cell_type": "code",
   "execution_count": 27,
   "id": "d0afc8e3",
   "metadata": {
    "execution": {
     "iopub.execute_input": "2022-07-31T20:13:42.877952Z",
     "iopub.status.busy": "2022-07-31T20:13:42.877396Z",
     "iopub.status.idle": "2022-07-31T20:13:42.888924Z",
     "shell.execute_reply": "2022-07-31T20:13:42.888481Z"
    },
    "papermill": {
     "duration": 0.061481,
     "end_time": "2022-07-31T20:13:42.889024",
     "exception": false,
     "start_time": "2022-07-31T20:13:42.827543",
     "status": "completed"
    },
    "tags": []
   },
   "outputs": [],
   "source": [
    "model_prob = Model(layers[-2:]) "
   ]
  },
  {
   "cell_type": "code",
   "execution_count": 28,
   "id": "9b96e238",
   "metadata": {
    "execution": {
     "iopub.execute_input": "2022-07-31T20:13:42.982978Z",
     "iopub.status.busy": "2022-07-31T20:13:42.982392Z",
     "iopub.status.idle": "2022-07-31T20:13:42.995288Z",
     "shell.execute_reply": "2022-07-31T20:13:42.995719Z"
    },
    "papermill": {
     "duration": 0.06211,
     "end_time": "2022-07-31T20:13:42.995843",
     "exception": false,
     "start_time": "2022-07-31T20:13:42.933733",
     "status": "completed"
    },
    "tags": []
   },
   "outputs": [],
   "source": [
    "#creating the x and y ranges according to the above generated plot.\n",
    "x_range = np.linspace(-4, 1, 100) \n",
    "y_range = np.linspace(-6, 6, 100) \n",
    "x_grid, y_grid = np.meshgrid(x_range, y_range) # x_grid and y_grig are of size 100 X 100\n",
    "\n",
    "# converting x_grid and y_grid to continuous arrays\n",
    "x_gridflat = np.ravel(x_grid)\n",
    "y_gridflat = np.ravel(y_grid)\n",
    "\n",
    "# The last layer of the current model takes two columns as input. Hence transpose of np.vstack() is required.\n",
    "X = np.vstack((x_gridflat, y_gridflat)).T\n",
    "\n",
    "prob_contour = model_prob(X).reshape(100,100) "
   ]
  },
  {
   "cell_type": "code",
   "execution_count": 29,
   "id": "da72499a",
   "metadata": {
    "execution": {
     "iopub.execute_input": "2022-07-31T20:13:43.090281Z",
     "iopub.status.busy": "2022-07-31T20:13:43.089743Z",
     "iopub.status.idle": "2022-07-31T20:13:43.335521Z",
     "shell.execute_reply": "2022-07-31T20:13:43.335967Z"
    },
    "papermill": {
     "duration": 0.294227,
     "end_time": "2022-07-31T20:13:43.336095",
     "exception": false,
     "start_time": "2022-07-31T20:13:43.041868",
     "status": "completed"
    },
    "tags": []
   },
   "outputs": [
    {
     "data": {
      "image/png": "[encoded data removed]",
      "text/plain": [
       "<Figure size 720x648 with 1 Axes>"
      ]
     },
     "metadata": {
      "needs_background": "light"
     },
     "output_type": "display_data"
    }
   ],
   "source": [
    "plt.figure(figsize=(10,9))\n",
    "plt.scatter(testing_plot[:,0], testing_plot[:,1], alpha = 0.1, c = y_test.ravel())\n",
    "contours = plt.contour(x_grid,y_grid,prob_contour)\n",
    "plt.title('Probability Contours')\n",
    "plt.clabel(contours, inline = True );"
   ]
  },
  {
   "cell_type": "code",
   "execution_count": null,
   "id": "e81b4ac7",
   "metadata": {
    "papermill": {
     "duration": 0.04712,
     "end_time": "2022-07-31T20:13:43.430846",
     "exception": false,
     "start_time": "2022-07-31T20:13:43.383726",
     "status": "completed"
    },
    "tags": []
   },
   "outputs": [],
   "source": []
  }
 ],
 "metadata": {
  "kernelspec": {
   "display_name": "Python 3",
   "language": "python",
   "name": "python3"
  },
  "language_info": {
   "codemirror_mode": {
    "name": "ipython",
    "version": 3
   },
   "file_extension": ".py",
   "mimetype": "text/x-python",
   "name": "python",
   "nbconvert_exporter": "python",
   "pygments_lexer": "ipython3",
   "version": "3.6.15"
  },
  "papermill": {
   "default_parameters": {},
   "duration": 197.78004,
   "end_time": "2022-07-31T20:13:43.796047",
   "environment_variables": {},
   "exception": null,
   "input_path": "2020-08-11-part2.ipynb",
   "output_path": "2020-08-11-part2.ipynb",
   "parameters": {},
   "start_time": "2022-07-31T20:10:26.016007",
   "version": "2.3.3"
  }
 },
 "nbformat": 4,
 "nbformat_minor": 5
}