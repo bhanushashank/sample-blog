{
 "cells": [
  {
   "cell_type": "markdown",
   "id": "98380cd3",
   "metadata": {
    "papermill": {
     "duration": 0.037474,
     "end_time": "2022-11-06T00:43:55.166203",
     "exception": false,
     "start_time": "2022-11-06T00:43:55.128729",
     "status": "completed"
    },
    "tags": []
   },
   "source": [
    "# Distinguish Your Own Digits (DYOD)"
   ]
  },
  {
   "cell_type": "markdown",
   "id": "ef31240d",
   "metadata": {
    "papermill": {
     "duration": 0.029113,
     "end_time": "2022-11-06T00:43:55.226825",
     "exception": false,
     "start_time": "2022-11-06T00:43:55.197712",
     "status": "completed"
    },
    "tags": []
   },
   "source": [
    "You are going to write a classifier that distinguishes between the number 3 and number 8."
   ]
  },
  {
   "cell_type": "code",
   "execution_count": 1,
   "id": "b15c8646",
   "metadata": {
    "execution": {
     "iopub.execute_input": "2022-11-06T00:43:55.311690Z",
     "iopub.status.busy": "2022-11-06T00:43:55.310906Z",
     "iopub.status.idle": "2022-11-06T00:43:55.323968Z",
     "shell.execute_reply": "2022-11-06T00:43:55.323271Z"
    },
    "papermill": {
     "duration": 0.060049,
     "end_time": "2022-11-06T00:43:55.324150",
     "exception": false,
     "start_time": "2022-11-06T00:43:55.264101",
     "status": "completed"
    },
    "tags": []
   },
   "outputs": [],
   "source": [
    "%load_ext autoreload\n",
    "%autoreload 2"
   ]
  },
  {
   "cell_type": "code",
   "execution_count": 2,
   "id": "22ef38dc",
   "metadata": {
    "execution": {
     "iopub.execute_input": "2022-11-06T00:43:55.405561Z",
     "iopub.status.busy": "2022-11-06T00:43:55.404826Z",
     "iopub.status.idle": "2022-11-06T00:43:56.145313Z",
     "shell.execute_reply": "2022-11-06T00:43:56.146354Z"
    },
    "papermill": {
     "duration": 0.779502,
     "end_time": "2022-11-06T00:43:56.146536",
     "exception": false,
     "start_time": "2022-11-06T00:43:55.367034",
     "status": "completed"
    },
    "tags": []
   },
   "outputs": [],
   "source": [
    "%matplotlib inline\n",
    "import numpy as np\n",
    "import matplotlib.pyplot as plt\n",
    "import pandas as pd"
   ]
  },
  {
   "cell_type": "markdown",
   "id": "ba036198",
   "metadata": {
    "papermill": {
     "duration": 0.036871,
     "end_time": "2022-11-06T00:43:56.215006",
     "exception": false,
     "start_time": "2022-11-06T00:43:56.178135",
     "status": "completed"
    },
    "tags": []
   },
   "source": [
    "From the command line run `pip install mnist`. This is a library that will help you bring down the mnist dataset. If you run this from a notebook, you need to put  `!pip install mnist` in a cell by itself."
   ]
  },
  {
   "cell_type": "code",
   "execution_count": 3,
   "id": "bb6ad8a1",
   "metadata": {
    "execution": {
     "iopub.execute_input": "2022-11-06T00:43:56.282237Z",
     "iopub.status.busy": "2022-11-06T00:43:56.281381Z",
     "iopub.status.idle": "2022-11-06T00:43:58.498288Z",
     "shell.execute_reply": "2022-11-06T00:43:58.497582Z"
    },
    "papermill": {
     "duration": 2.253369,
     "end_time": "2022-11-06T00:43:58.498460",
     "exception": false,
     "start_time": "2022-11-06T00:43:56.245091",
     "status": "completed"
    },
    "tags": []
   },
   "outputs": [
    {
     "name": "stdout",
     "output_type": "stream",
     "text": [
      "Collecting mnist\r\n"
     ]
    },
    {
     "name": "stdout",
     "output_type": "stream",
     "text": [
      "  Downloading mnist-0.2.2-py2.py3-none-any.whl (3.5 kB)\r\n",
      "Requirement already satisfied: numpy in /opt/hostedtoolcache/Python/3.6.15/x64/lib/python3.6/site-packages (from mnist) (1.19.5)\r\n"
     ]
    },
    {
     "name": "stdout",
     "output_type": "stream",
     "text": [
      "Installing collected packages: mnist\r\n"
     ]
    },
    {
     "name": "stdout",
     "output_type": "stream",
     "text": [
      "Successfully installed mnist-0.2.2\r\n"
     ]
    }
   ],
   "source": [
    "!pip install mnist"
   ]
  },
  {
   "cell_type": "markdown",
   "id": "69df9c9a",
   "metadata": {
    "papermill": {
     "duration": 0.034168,
     "end_time": "2022-11-06T00:43:58.566263",
     "exception": false,
     "start_time": "2022-11-06T00:43:58.532095",
     "status": "completed"
    },
    "tags": []
   },
   "source": [
    "## Preparing the Data"
   ]
  },
  {
   "cell_type": "code",
   "execution_count": 4,
   "id": "7f69d806",
   "metadata": {
    "execution": {
     "iopub.execute_input": "2022-11-06T00:43:58.641520Z",
     "iopub.status.busy": "2022-11-06T00:43:58.637862Z",
     "iopub.status.idle": "2022-11-06T00:43:58.656630Z",
     "shell.execute_reply": "2022-11-06T00:43:58.655970Z"
    },
    "papermill": {
     "duration": 0.058088,
     "end_time": "2022-11-06T00:43:58.656797",
     "exception": false,
     "start_time": "2022-11-06T00:43:58.598709",
     "status": "completed"
    },
    "tags": []
   },
   "outputs": [],
   "source": [
    "import mnist"
   ]
  },
  {
   "cell_type": "code",
   "execution_count": 5,
   "id": "a411e44f",
   "metadata": {
    "execution": {
     "iopub.execute_input": "2022-11-06T00:43:58.734717Z",
     "iopub.status.busy": "2022-11-06T00:43:58.733881Z",
     "iopub.status.idle": "2022-11-06T00:43:59.654642Z",
     "shell.execute_reply": "2022-11-06T00:43:59.654036Z"
    },
    "papermill": {
     "duration": 0.960522,
     "end_time": "2022-11-06T00:43:59.654879",
     "exception": false,
     "start_time": "2022-11-06T00:43:58.694357",
     "status": "completed"
    },
    "tags": []
   },
   "outputs": [],
   "source": [
    "train_images = mnist.train_images()\n",
    "train_labels = mnist.train_labels()"
   ]
  },
  {
   "cell_type": "code",
   "execution_count": 6,
   "id": "dceab3a5",
   "metadata": {
    "execution": {
     "iopub.execute_input": "2022-11-06T00:43:59.728049Z",
     "iopub.status.busy": "2022-11-06T00:43:59.727318Z",
     "iopub.status.idle": "2022-11-06T00:43:59.744248Z",
     "shell.execute_reply": "2022-11-06T00:43:59.744812Z"
    },
    "papermill": {
     "duration": 0.057012,
     "end_time": "2022-11-06T00:43:59.744971",
     "exception": false,
     "start_time": "2022-11-06T00:43:59.687959",
     "status": "completed"
    },
    "tags": []
   },
   "outputs": [
    {
     "data": {
      "text/plain": [
       "((60000, 28, 28), (60000,))"
      ]
     },
     "execution_count": 6,
     "metadata": {},
     "output_type": "execute_result"
    }
   ],
   "source": [
    "train_images.shape, train_labels.shape"
   ]
  },
  {
   "cell_type": "code",
   "execution_count": 7,
   "id": "f50dc2bb",
   "metadata": {
    "execution": {
     "iopub.execute_input": "2022-11-06T00:43:59.818141Z",
     "iopub.status.busy": "2022-11-06T00:43:59.817338Z",
     "iopub.status.idle": "2022-11-06T00:44:00.076114Z",
     "shell.execute_reply": "2022-11-06T00:44:00.075444Z"
    },
    "papermill": {
     "duration": 0.297357,
     "end_time": "2022-11-06T00:44:00.076280",
     "exception": false,
     "start_time": "2022-11-06T00:43:59.778923",
     "status": "completed"
    },
    "tags": []
   },
   "outputs": [],
   "source": [
    "test_images = mnist.test_images()\n",
    "test_labels = mnist.test_labels()"
   ]
  },
  {
   "cell_type": "code",
   "execution_count": 8,
   "id": "fc38cf1b",
   "metadata": {
    "execution": {
     "iopub.execute_input": "2022-11-06T00:44:00.151969Z",
     "iopub.status.busy": "2022-11-06T00:44:00.151101Z",
     "iopub.status.idle": "2022-11-06T00:44:00.166921Z",
     "shell.execute_reply": "2022-11-06T00:44:00.167782Z"
    },
    "papermill": {
     "duration": 0.058442,
     "end_time": "2022-11-06T00:44:00.167963",
     "exception": false,
     "start_time": "2022-11-06T00:44:00.109521",
     "status": "completed"
    },
    "tags": []
   },
   "outputs": [
    {
     "data": {
      "text/plain": [
       "((10000, 28, 28), (10000,))"
      ]
     },
     "execution_count": 8,
     "metadata": {},
     "output_type": "execute_result"
    }
   ],
   "source": [
    "test_images.shape, test_labels.shape"
   ]
  },
  {
   "cell_type": "code",
   "execution_count": 9,
   "id": "f9ed8fe0",
   "metadata": {
    "execution": {
     "iopub.execute_input": "2022-11-06T00:44:00.243546Z",
     "iopub.status.busy": "2022-11-06T00:44:00.241200Z",
     "iopub.status.idle": "2022-11-06T00:44:00.444980Z",
     "shell.execute_reply": "2022-11-06T00:44:00.445617Z"
    },
    "papermill": {
     "duration": 0.244148,
     "end_time": "2022-11-06T00:44:00.445791",
     "exception": false,
     "start_time": "2022-11-06T00:44:00.201643",
     "status": "completed"
    },
    "tags": []
   },
   "outputs": [
    {
     "name": "stdout",
     "output_type": "stream",
     "text": [
      "2\n"
     ]
    },
    {
     "data": {
      "text/plain": [
       "<matplotlib.image.AxesImage at 0x7fde7c93ee48>"
      ]
     },
     "execution_count": 9,
     "metadata": {},
     "output_type": "execute_result"
    },
    {
     "data": {
      "image/png": "[encoded data removed]",
      "text/plain": [
       "<Figure size 432x288 with 1 Axes>"
      ]
     },
     "metadata": {
      "needs_background": "light"
     },
     "output_type": "display_data"
    }
   ],
   "source": [
    "image_index = 7776 # You may select anything up to 60,000\n",
    "print(train_labels[image_index]) \n",
    "plt.imshow(train_images[image_index], cmap='Greys')"
   ]
  },
  {
   "cell_type": "markdown",
   "id": "a8d2388d",
   "metadata": {
    "papermill": {
     "duration": 0.035148,
     "end_time": "2022-11-06T00:44:00.516355",
     "exception": false,
     "start_time": "2022-11-06T00:44:00.481207",
     "status": "completed"
    },
    "tags": []
   },
   "source": [
    "## Filter data to get 3 and 8 out"
   ]
  },
  {
   "cell_type": "code",
   "execution_count": 10,
   "id": "776f7fc7",
   "metadata": {
    "execution": {
     "iopub.execute_input": "2022-11-06T00:44:00.593488Z",
     "iopub.status.busy": "2022-11-06T00:44:00.592564Z",
     "iopub.status.idle": "2022-11-06T00:44:00.621328Z",
     "shell.execute_reply": "2022-11-06T00:44:00.621909Z"
    },
    "papermill": {
     "duration": 0.068128,
     "end_time": "2022-11-06T00:44:00.622088",
     "exception": false,
     "start_time": "2022-11-06T00:44:00.553960",
     "status": "completed"
    },
    "tags": []
   },
   "outputs": [],
   "source": [
    "train_filter = np.where((train_labels == 3 ) | (train_labels == 8))\n",
    "test_filter = np.where((test_labels == 3) | (test_labels == 8))\n",
    "X_train, y_train = train_images[train_filter], train_labels[train_filter]\n",
    "X_test, y_test = test_images[test_filter], test_labels[test_filter]"
   ]
  },
  {
   "cell_type": "markdown",
   "id": "948f0b7e",
   "metadata": {
    "papermill": {
     "duration": 0.033865,
     "end_time": "2022-11-06T00:44:00.690734",
     "exception": false,
     "start_time": "2022-11-06T00:44:00.656869",
     "status": "completed"
    },
    "tags": []
   },
   "source": [
    "We normalize the pizel values in the 0 to 1 range"
   ]
  },
  {
   "cell_type": "code",
   "execution_count": 11,
   "id": "ee4c2166",
   "metadata": {
    "execution": {
     "iopub.execute_input": "2022-11-06T00:44:00.769173Z",
     "iopub.status.busy": "2022-11-06T00:44:00.768233Z",
     "iopub.status.idle": "2022-11-06T00:44:00.839482Z",
     "shell.execute_reply": "2022-11-06T00:44:00.840123Z"
    },
    "papermill": {
     "duration": 0.111159,
     "end_time": "2022-11-06T00:44:00.840318",
     "exception": false,
     "start_time": "2022-11-06T00:44:00.729159",
     "status": "completed"
    },
    "tags": []
   },
   "outputs": [],
   "source": [
    "X_train = X_train/255.\n",
    "X_test = X_test/255."
   ]
  },
  {
   "cell_type": "markdown",
   "id": "ddcf4fab",
   "metadata": {
    "papermill": {
     "duration": 0.033095,
     "end_time": "2022-11-06T00:44:00.908794",
     "exception": false,
     "start_time": "2022-11-06T00:44:00.875699",
     "status": "completed"
    },
    "tags": []
   },
   "source": [
    "And setup the labels as 1 (when the digit is 3) and 0 (when the digit is 8)"
   ]
  },
  {
   "cell_type": "code",
   "execution_count": 12,
   "id": "7dc908f2",
   "metadata": {
    "execution": {
     "iopub.execute_input": "2022-11-06T00:44:00.985918Z",
     "iopub.status.busy": "2022-11-06T00:44:00.985210Z",
     "iopub.status.idle": "2022-11-06T00:44:01.000591Z",
     "shell.execute_reply": "2022-11-06T00:44:00.999858Z"
    },
    "papermill": {
     "duration": 0.054343,
     "end_time": "2022-11-06T00:44:01.000911",
     "exception": false,
     "start_time": "2022-11-06T00:44:00.946568",
     "status": "completed"
    },
    "tags": []
   },
   "outputs": [],
   "source": [
    "y_train = 1*(y_train==3)\n",
    "y_test = 1*(y_test==3)"
   ]
  },
  {
   "cell_type": "code",
   "execution_count": 13,
   "id": "01e4e969",
   "metadata": {
    "execution": {
     "iopub.execute_input": "2022-11-06T00:44:01.080960Z",
     "iopub.status.busy": "2022-11-06T00:44:01.080240Z",
     "iopub.status.idle": "2022-11-06T00:44:01.095732Z",
     "shell.execute_reply": "2022-11-06T00:44:01.096425Z"
    },
    "papermill": {
     "duration": 0.059309,
     "end_time": "2022-11-06T00:44:01.096617",
     "exception": false,
     "start_time": "2022-11-06T00:44:01.037308",
     "status": "completed"
    },
    "tags": []
   },
   "outputs": [
    {
     "data": {
      "text/plain": [
       "((11982, 28, 28), (1984, 28, 28))"
      ]
     },
     "execution_count": 13,
     "metadata": {},
     "output_type": "execute_result"
    }
   ],
   "source": [
    "X_train.shape, X_test.shape"
   ]
  },
  {
   "cell_type": "markdown",
   "id": "5ccf3f85",
   "metadata": {
    "papermill": {
     "duration": 0.03468,
     "end_time": "2022-11-06T00:44:01.165500",
     "exception": false,
     "start_time": "2022-11-06T00:44:01.130820",
     "status": "completed"
    },
    "tags": []
   },
   "source": [
    "We reshape the data to flatten the image pixels into a set of features or co-variates:"
   ]
  },
  {
   "cell_type": "code",
   "execution_count": 14,
   "id": "5286a4a3",
   "metadata": {
    "execution": {
     "iopub.execute_input": "2022-11-06T00:44:01.243376Z",
     "iopub.status.busy": "2022-11-06T00:44:01.242554Z",
     "iopub.status.idle": "2022-11-06T00:44:01.260609Z",
     "shell.execute_reply": "2022-11-06T00:44:01.259925Z"
    },
    "papermill": {
     "duration": 0.05922,
     "end_time": "2022-11-06T00:44:01.260770",
     "exception": false,
     "start_time": "2022-11-06T00:44:01.201550",
     "status": "completed"
    },
    "tags": []
   },
   "outputs": [
    {
     "data": {
      "text/plain": [
       "((11982, 784), (1984, 784))"
      ]
     },
     "execution_count": 14,
     "metadata": {},
     "output_type": "execute_result"
    }
   ],
   "source": [
    "X_train = X_train.reshape(X_train.shape[0], -1)\n",
    "X_test = X_test.reshape(X_test.shape[0], -1)\n",
    "X_train.shape, X_test.shape"
   ]
  },
  {
   "cell_type": "code",
   "execution_count": 15,
   "id": "73c5f88a",
   "metadata": {
    "execution": {
     "iopub.execute_input": "2022-11-06T00:44:01.341899Z",
     "iopub.status.busy": "2022-11-06T00:44:01.341083Z",
     "iopub.status.idle": "2022-11-06T00:44:01.366375Z",
     "shell.execute_reply": "2022-11-06T00:44:01.365261Z"
    },
    "papermill": {
     "duration": 0.070687,
     "end_time": "2022-11-06T00:44:01.366790",
     "exception": false,
     "start_time": "2022-11-06T00:44:01.296103",
     "status": "completed"
    },
    "tags": []
   },
   "outputs": [],
   "source": [
    "#Impoting functions from 'Kudzu'\n",
    "from kudzu.model import Model\n",
    "from kudzu.train import Learner\n",
    "from kudzu.optim import GD\n",
    "from kudzu.data import Data, Sampler,Dataloader\n",
    "\n",
    "from kudzu.callbacks import AccCallback\n",
    "from kudzu.callbacks import ClfCallback\n",
    "\n",
    "from kudzu.loss import MSE\n",
    "\n",
    "from kudzu.layer import Sigmoid,Relu\n",
    "from kudzu.layer import Affine"
   ]
  },
  {
   "cell_type": "markdown",
   "id": "bc01172a",
   "metadata": {
    "papermill": {
     "duration": 0.037812,
     "end_time": "2022-11-06T00:44:01.439860",
     "exception": false,
     "start_time": "2022-11-06T00:44:01.402048",
     "status": "completed"
    },
    "tags": []
   },
   "source": [
    "### Let us create a `Config` class, to store important parameters. \n",
    "This class essentially plays the role of a dictionary."
   ]
  },
  {
   "cell_type": "code",
   "execution_count": 16,
   "id": "978281aa",
   "metadata": {
    "execution": {
     "iopub.execute_input": "2022-11-06T00:44:01.517044Z",
     "iopub.status.busy": "2022-11-06T00:44:01.516093Z",
     "iopub.status.idle": "2022-11-06T00:44:01.530939Z",
     "shell.execute_reply": "2022-11-06T00:44:01.531564Z"
    },
    "papermill": {
     "duration": 0.056187,
     "end_time": "2022-11-06T00:44:01.531734",
     "exception": false,
     "start_time": "2022-11-06T00:44:01.475547",
     "status": "completed"
    },
    "tags": []
   },
   "outputs": [],
   "source": [
    "class Config:\n",
    "    pass\n",
    "config = Config()\n",
    "config.lr = 0.001\n",
    "config.num_epochs = 250\n",
    "config.bs = 50"
   ]
  },
  {
   "cell_type": "markdown",
   "id": "1385fa59",
   "metadata": {
    "papermill": {
     "duration": 0.035488,
     "end_time": "2022-11-06T00:44:01.605267",
     "exception": false,
     "start_time": "2022-11-06T00:44:01.569779",
     "status": "completed"
    },
    "tags": []
   },
   "source": [
    "### Running Models with the Training data\n",
    "Details about the network layers:\n",
    "- A first affine layer has 784 inputs and does 100 affine transforms. These are followed by a Relu\n",
    "- A second affine layer has 100 inputs from the 100 activations of the past layer, and does 100 affine transforms. These are followed by a Relu\n",
    "- A third affine layer has 100 activations and does 2 affine transformations to create an embedding for visualization. There is no non-linearity here.\n",
    "- A final \"logistic regression\" which has an affine transform from 2 inputs to 1 output, which is squeezed through a sigmoid.\n"
   ]
  },
  {
   "cell_type": "code",
   "execution_count": 17,
   "id": "2b9c66db",
   "metadata": {
    "execution": {
     "iopub.execute_input": "2022-11-06T00:44:01.684731Z",
     "iopub.status.busy": "2022-11-06T00:44:01.683744Z",
     "iopub.status.idle": "2022-11-06T00:44:01.707992Z",
     "shell.execute_reply": "2022-11-06T00:44:01.707337Z"
    },
    "papermill": {
     "duration": 0.067501,
     "end_time": "2022-11-06T00:44:01.708151",
     "exception": false,
     "start_time": "2022-11-06T00:44:01.640650",
     "status": "completed"
    },
    "tags": []
   },
   "outputs": [],
   "source": [
    "data = Data(X_train, y_train.reshape(-1,1))\n",
    "sampler = Sampler(data, config.bs, shuffle=True)\n",
    "\n",
    "dl = Dataloader(data, sampler)\n",
    "\n",
    "opt = GD(config.lr)\n",
    "loss = MSE()"
   ]
  },
  {
   "cell_type": "code",
   "execution_count": 18,
   "id": "b275e4c2",
   "metadata": {
    "execution": {
     "iopub.execute_input": "2022-11-06T00:44:01.790504Z",
     "iopub.status.busy": "2022-11-06T00:44:01.789633Z",
     "iopub.status.idle": "2022-11-06T00:44:01.806349Z",
     "shell.execute_reply": "2022-11-06T00:44:01.805742Z"
    },
    "papermill": {
     "duration": 0.060056,
     "end_time": "2022-11-06T00:44:01.806504",
     "exception": false,
     "start_time": "2022-11-06T00:44:01.746448",
     "status": "completed"
    },
    "tags": []
   },
   "outputs": [],
   "source": [
    "training_data_x = X_train\n",
    "testing_data_x = X_test\n",
    "training_data_y = y_train.reshape(-1,1)\n",
    "testing_data_y = y_test.reshape(-1,1)"
   ]
  },
  {
   "cell_type": "code",
   "execution_count": 19,
   "id": "76951160",
   "metadata": {
    "execution": {
     "iopub.execute_input": "2022-11-06T00:44:01.883996Z",
     "iopub.status.busy": "2022-11-06T00:44:01.883010Z",
     "iopub.status.idle": "2022-11-06T00:44:01.904567Z",
     "shell.execute_reply": "2022-11-06T00:44:01.903907Z"
    },
    "papermill": {
     "duration": 0.06265,
     "end_time": "2022-11-06T00:44:01.904724",
     "exception": false,
     "start_time": "2022-11-06T00:44:01.842074",
     "status": "completed"
    },
    "tags": []
   },
   "outputs": [
    {
     "name": "stdout",
     "output_type": "stream",
     "text": [
      "xavier\n",
      "xavier\n",
      "xavier\n",
      "xavier\n",
      "xavier\n"
     ]
    }
   ],
   "source": [
    "layers = [Affine(\"first\", 784, 100), Relu(\"first\"), Affine(\"second\", 100, 100), Relu(\"second\"), Affine(\"third\", 100, 2), Affine(\"last\", 2, 1), Sigmoid(\"last\")]\n",
    "model_nn = Model(layers)\n",
    "model_lr = Model([Affine(\"logits\", 784, 1), Sigmoid(\"sigmoid\")])"
   ]
  },
  {
   "cell_type": "code",
   "execution_count": 20,
   "id": "6eede77a",
   "metadata": {
    "execution": {
     "iopub.execute_input": "2022-11-06T00:44:01.988891Z",
     "iopub.status.busy": "2022-11-06T00:44:01.988095Z",
     "iopub.status.idle": "2022-11-06T00:44:02.002164Z",
     "shell.execute_reply": "2022-11-06T00:44:02.001432Z"
    },
    "papermill": {
     "duration": 0.056039,
     "end_time": "2022-11-06T00:44:02.002301",
     "exception": false,
     "start_time": "2022-11-06T00:44:01.946262",
     "status": "completed"
    },
    "tags": []
   },
   "outputs": [],
   "source": [
    "nn_learner = Learner(loss, model_nn, opt, config.num_epochs)\n",
    "acc_nn = ClfCallback(nn_learner, config.bs, training_data_x , testing_data_x, training_data_y, testing_data_y)\n",
    "nn_learner.set_callbacks([acc_nn])"
   ]
  },
  {
   "cell_type": "code",
   "execution_count": 21,
   "id": "877b6cc7",
   "metadata": {
    "execution": {
     "iopub.execute_input": "2022-11-06T00:44:02.088597Z",
     "iopub.status.busy": "2022-11-06T00:44:02.085907Z",
     "iopub.status.idle": "2022-11-06T00:44:02.102074Z",
     "shell.execute_reply": "2022-11-06T00:44:02.101406Z"
    },
    "papermill": {
     "duration": 0.061323,
     "end_time": "2022-11-06T00:44:02.102305",
     "exception": false,
     "start_time": "2022-11-06T00:44:02.040982",
     "status": "completed"
    },
    "tags": []
   },
   "outputs": [],
   "source": [
    "lr_learner = Learner(loss, model_lr, opt, config.num_epochs)\n",
    "acc_lr = ClfCallback(lr_learner, config.bs, training_data_x , testing_data_x, training_data_y, testing_data_y)\n",
    "lr_learner.set_callbacks([acc_lr])"
   ]
  },
  {
   "cell_type": "code",
   "execution_count": 22,
   "id": "d9b133c3",
   "metadata": {
    "execution": {
     "iopub.execute_input": "2022-11-06T00:44:02.182500Z",
     "iopub.status.busy": "2022-11-06T00:44:02.181766Z",
     "iopub.status.idle": "2022-11-06T00:46:31.875177Z",
     "shell.execute_reply": "2022-11-06T00:46:31.876434Z"
    },
    "papermill": {
     "duration": 149.736826,
     "end_time": "2022-11-06T00:46:31.876591",
     "exception": false,
     "start_time": "2022-11-06T00:44:02.139765",
     "status": "completed"
    },
    "tags": []
   },
   "outputs": [
    {
     "name": "stdout",
     "output_type": "stream",
     "text": [
      "Epoch 0, Loss 0.2517\n",
      "Training Accuracy: 0.5188, Testing Accuracy: 0.5474\n",
      "\n"
     ]
    },
    {
     "name": "stdout",
     "output_type": "stream",
     "text": [
      "Epoch 10, Loss 0.1345\n",
      "Training Accuracy: 0.8863, Testing Accuracy: 0.9012\n",
      "\n"
     ]
    },
    {
     "name": "stdout",
     "output_type": "stream",
     "text": [
      "Epoch 20, Loss 0.0731\n",
      "Training Accuracy: 0.9260, Testing Accuracy: 0.9385\n",
      "\n"
     ]
    },
    {
     "name": "stdout",
     "output_type": "stream",
     "text": [
      "Epoch 30, Loss 0.0523\n",
      "Training Accuracy: 0.9432, Testing Accuracy: 0.9546\n",
      "\n"
     ]
    },
    {
     "name": "stdout",
     "output_type": "stream",
     "text": [
      "Epoch 40, Loss 0.0429\n",
      "Training Accuracy: 0.9517, Testing Accuracy: 0.9622\n",
      "\n"
     ]
    },
    {
     "name": "stdout",
     "output_type": "stream",
     "text": [
      "Epoch 50, Loss 0.0377\n",
      "Training Accuracy: 0.9569, Testing Accuracy: 0.9662\n",
      "\n"
     ]
    },
    {
     "name": "stdout",
     "output_type": "stream",
     "text": [
      "Epoch 60, Loss 0.0343\n",
      "Training Accuracy: 0.9600, Testing Accuracy: 0.9682\n",
      "\n"
     ]
    },
    {
     "name": "stdout",
     "output_type": "stream",
     "text": [
      "Epoch 70, Loss 0.032\n",
      "Training Accuracy: 0.9626, Testing Accuracy: 0.9693\n",
      "\n"
     ]
    },
    {
     "name": "stdout",
     "output_type": "stream",
     "text": [
      "Epoch 80, Loss 0.0302\n",
      "Training Accuracy: 0.9639, Testing Accuracy: 0.9703\n",
      "\n"
     ]
    },
    {
     "name": "stdout",
     "output_type": "stream",
     "text": [
      "Epoch 90, Loss 0.0288\n",
      "Training Accuracy: 0.9658, Testing Accuracy: 0.9708\n",
      "\n"
     ]
    },
    {
     "name": "stdout",
     "output_type": "stream",
     "text": [
      "Epoch 100, Loss 0.0277\n",
      "Training Accuracy: 0.9673, Testing Accuracy: 0.9718\n",
      "\n"
     ]
    },
    {
     "name": "stdout",
     "output_type": "stream",
     "text": [
      "Epoch 110, Loss 0.0268\n",
      "Training Accuracy: 0.9690, Testing Accuracy: 0.9718\n",
      "\n"
     ]
    },
    {
     "name": "stdout",
     "output_type": "stream",
     "text": [
      "Epoch 120, Loss 0.0259\n",
      "Training Accuracy: 0.9706, Testing Accuracy: 0.9718\n",
      "\n"
     ]
    },
    {
     "name": "stdout",
     "output_type": "stream",
     "text": [
      "Epoch 130, Loss 0.0252\n",
      "Training Accuracy: 0.9713, Testing Accuracy: 0.9713\n",
      "\n"
     ]
    },
    {
     "name": "stdout",
     "output_type": "stream",
     "text": [
      "Epoch 140, Loss 0.0246\n",
      "Training Accuracy: 0.9716, Testing Accuracy: 0.9723\n",
      "\n"
     ]
    },
    {
     "name": "stdout",
     "output_type": "stream",
     "text": [
      "Epoch 150, Loss 0.024\n",
      "Training Accuracy: 0.9726, Testing Accuracy: 0.9718\n",
      "\n"
     ]
    },
    {
     "name": "stdout",
     "output_type": "stream",
     "text": [
      "Epoch 160, Loss 0.0235\n",
      "Training Accuracy: 0.9734, Testing Accuracy: 0.9723\n",
      "\n"
     ]
    },
    {
     "name": "stdout",
     "output_type": "stream",
     "text": [
      "Epoch 170, Loss 0.023\n",
      "Training Accuracy: 0.9738, Testing Accuracy: 0.9728\n",
      "\n"
     ]
    },
    {
     "name": "stdout",
     "output_type": "stream",
     "text": [
      "Epoch 180, Loss 0.0225\n",
      "Training Accuracy: 0.9741, Testing Accuracy: 0.9728\n",
      "\n"
     ]
    },
    {
     "name": "stdout",
     "output_type": "stream",
     "text": [
      "Epoch 190, Loss 0.0221\n",
      "Training Accuracy: 0.9745, Testing Accuracy: 0.9728\n",
      "\n"
     ]
    },
    {
     "name": "stdout",
     "output_type": "stream",
     "text": [
      "Epoch 200, Loss 0.0217\n",
      "Training Accuracy: 0.9752, Testing Accuracy: 0.9728\n",
      "\n"
     ]
    },
    {
     "name": "stdout",
     "output_type": "stream",
     "text": [
      "Epoch 210, Loss 0.0212\n",
      "Training Accuracy: 0.9757, Testing Accuracy: 0.9728\n",
      "\n"
     ]
    },
    {
     "name": "stdout",
     "output_type": "stream",
     "text": [
      "Epoch 220, Loss 0.0208\n",
      "Training Accuracy: 0.9761, Testing Accuracy: 0.9733\n",
      "\n"
     ]
    },
    {
     "name": "stdout",
     "output_type": "stream",
     "text": [
      "Epoch 230, Loss 0.0205\n",
      "Training Accuracy: 0.9770, Testing Accuracy: 0.9738\n",
      "\n"
     ]
    },
    {
     "name": "stdout",
     "output_type": "stream",
     "text": [
      "Epoch 240, Loss 0.0201\n",
      "Training Accuracy: 0.9774, Testing Accuracy: 0.9738\n",
      "\n"
     ]
    },
    {
     "data": {
      "text/plain": [
       "0.07302098372537044"
      ]
     },
     "execution_count": 22,
     "metadata": {},
     "output_type": "execute_result"
    }
   ],
   "source": [
    "nn_learner.train_loop(dl)"
   ]
  },
  {
   "cell_type": "code",
   "execution_count": 23,
   "id": "e0163366",
   "metadata": {
    "execution": {
     "iopub.execute_input": "2022-11-06T00:46:31.977052Z",
     "iopub.status.busy": "2022-11-06T00:46:31.976383Z",
     "iopub.status.idle": "2022-11-06T00:46:53.899400Z",
     "shell.execute_reply": "2022-11-06T00:46:53.900645Z"
    },
    "papermill": {
     "duration": 21.981002,
     "end_time": "2022-11-06T00:46:53.900888",
     "exception": false,
     "start_time": "2022-11-06T00:46:31.919886",
     "status": "completed"
    },
    "tags": []
   },
   "outputs": [
    {
     "name": "stdout",
     "output_type": "stream",
     "text": [
      "Epoch 0, Loss 0.2732\n",
      "Training Accuracy: 0.5351, Testing Accuracy: 0.5166\n",
      "\n"
     ]
    },
    {
     "name": "stdout",
     "output_type": "stream",
     "text": [
      "Epoch 10, Loss 0.1084\n",
      "Training Accuracy: 0.8998, Testing Accuracy: 0.9083\n",
      "\n"
     ]
    },
    {
     "name": "stdout",
     "output_type": "stream",
     "text": [
      "Epoch 20, Loss 0.0822\n",
      "Training Accuracy: 0.9219, Testing Accuracy: 0.9350\n",
      "\n"
     ]
    },
    {
     "name": "stdout",
     "output_type": "stream",
     "text": [
      "Epoch 30, Loss 0.0703\n",
      "Training Accuracy: 0.9316, Testing Accuracy: 0.9496\n",
      "\n"
     ]
    },
    {
     "name": "stdout",
     "output_type": "stream",
     "text": [
      "Epoch 40, Loss 0.0632\n",
      "Training Accuracy: 0.9372, Testing Accuracy: 0.9541\n",
      "\n"
     ]
    },
    {
     "name": "stdout",
     "output_type": "stream",
     "text": [
      "Epoch 50, Loss 0.0583\n",
      "Training Accuracy: 0.9424, Testing Accuracy: 0.9556\n",
      "\n"
     ]
    },
    {
     "name": "stdout",
     "output_type": "stream",
     "text": [
      "Epoch 60, Loss 0.0548\n",
      "Training Accuracy: 0.9451, Testing Accuracy: 0.9567\n",
      "\n"
     ]
    },
    {
     "name": "stdout",
     "output_type": "stream",
     "text": [
      "Epoch 70, Loss 0.052\n",
      "Training Accuracy: 0.9479, Testing Accuracy: 0.9572\n",
      "\n"
     ]
    },
    {
     "name": "stdout",
     "output_type": "stream",
     "text": [
      "Epoch 80, Loss 0.0499\n",
      "Training Accuracy: 0.9492, Testing Accuracy: 0.9597\n",
      "\n"
     ]
    },
    {
     "name": "stdout",
     "output_type": "stream",
     "text": [
      "Epoch 90, Loss 0.0481\n",
      "Training Accuracy: 0.9503, Testing Accuracy: 0.9597\n",
      "\n"
     ]
    },
    {
     "name": "stdout",
     "output_type": "stream",
     "text": [
      "Epoch 100, Loss 0.0466\n",
      "Training Accuracy: 0.9513, Testing Accuracy: 0.9627\n",
      "\n"
     ]
    },
    {
     "name": "stdout",
     "output_type": "stream",
     "text": [
      "Epoch 110, Loss 0.0453\n",
      "Training Accuracy: 0.9527, Testing Accuracy: 0.9627\n",
      "\n"
     ]
    },
    {
     "name": "stdout",
     "output_type": "stream",
     "text": [
      "Epoch 120, Loss 0.0442\n",
      "Training Accuracy: 0.9540, Testing Accuracy: 0.9647\n",
      "\n"
     ]
    },
    {
     "name": "stdout",
     "output_type": "stream",
     "text": [
      "Epoch 130, Loss 0.0432\n",
      "Training Accuracy: 0.9550, Testing Accuracy: 0.9662\n",
      "\n"
     ]
    },
    {
     "name": "stdout",
     "output_type": "stream",
     "text": [
      "Epoch 140, Loss 0.0423\n",
      "Training Accuracy: 0.9558, Testing Accuracy: 0.9667\n",
      "\n"
     ]
    },
    {
     "name": "stdout",
     "output_type": "stream",
     "text": [
      "Epoch 150, Loss 0.0415\n",
      "Training Accuracy: 0.9563, Testing Accuracy: 0.9672\n",
      "\n"
     ]
    },
    {
     "name": "stdout",
     "output_type": "stream",
     "text": [
      "Epoch 160, Loss 0.0408\n",
      "Training Accuracy: 0.9570, Testing Accuracy: 0.9677\n",
      "\n"
     ]
    },
    {
     "name": "stdout",
     "output_type": "stream",
     "text": [
      "Epoch 170, Loss 0.0402\n",
      "Training Accuracy: 0.9582, Testing Accuracy: 0.9682\n",
      "\n"
     ]
    },
    {
     "name": "stdout",
     "output_type": "stream",
     "text": [
      "Epoch 180, Loss 0.0396\n",
      "Training Accuracy: 0.9584, Testing Accuracy: 0.9682\n",
      "\n"
     ]
    },
    {
     "name": "stdout",
     "output_type": "stream",
     "text": [
      "Epoch 190, Loss 0.0391\n",
      "Training Accuracy: 0.9590, Testing Accuracy: 0.9688\n",
      "\n"
     ]
    },
    {
     "name": "stdout",
     "output_type": "stream",
     "text": [
      "Epoch 200, Loss 0.0386\n",
      "Training Accuracy: 0.9593, Testing Accuracy: 0.9682\n",
      "\n"
     ]
    },
    {
     "name": "stdout",
     "output_type": "stream",
     "text": [
      "Epoch 210, Loss 0.0381\n",
      "Training Accuracy: 0.9598, Testing Accuracy: 0.9677\n",
      "\n"
     ]
    },
    {
     "name": "stdout",
     "output_type": "stream",
     "text": [
      "Epoch 220, Loss 0.0377\n",
      "Training Accuracy: 0.9601, Testing Accuracy: 0.9677\n",
      "\n"
     ]
    },
    {
     "name": "stdout",
     "output_type": "stream",
     "text": [
      "Epoch 230, Loss 0.0373\n",
      "Training Accuracy: 0.9606, Testing Accuracy: 0.9677\n",
      "\n"
     ]
    },
    {
     "name": "stdout",
     "output_type": "stream",
     "text": [
      "Epoch 240, Loss 0.0369\n",
      "Training Accuracy: 0.9611, Testing Accuracy: 0.9677\n",
      "\n"
     ]
    },
    {
     "data": {
      "text/plain": [
       "0.04678675278175967"
      ]
     },
     "execution_count": 23,
     "metadata": {},
     "output_type": "execute_result"
    }
   ],
   "source": [
    "lr_learner.train_loop(dl)"
   ]
  },
  {
   "cell_type": "code",
   "execution_count": 24,
   "id": "ca410940",
   "metadata": {
    "execution": {
     "iopub.execute_input": "2022-11-06T00:46:54.025094Z",
     "iopub.status.busy": "2022-11-06T00:46:54.024241Z",
     "iopub.status.idle": "2022-11-06T00:46:54.343959Z",
     "shell.execute_reply": "2022-11-06T00:46:54.342635Z"
    },
    "papermill": {
     "duration": 0.388066,
     "end_time": "2022-11-06T00:46:54.344151",
     "exception": false,
     "start_time": "2022-11-06T00:46:53.956085",
     "status": "completed"
    },
    "tags": []
   },
   "outputs": [
    {
     "data": {
      "text/plain": [
       "<matplotlib.legend.Legend at 0x7fde7c4ae518>"
      ]
     },
     "execution_count": 24,
     "metadata": {},
     "output_type": "execute_result"
    },
    {
     "data": {
      "image/png": "[encoded data removed]",
      "text/plain": [
       "<Figure size 1080x720 with 1 Axes>"
      ]
     },
     "metadata": {
      "needs_background": "light"
     },
     "output_type": "display_data"
    }
   ],
   "source": [
    "#comparing the results of NN and LR\n",
    "plt.figure(figsize=(15,10))\n",
    "\n",
    "# Neural Network plots\n",
    "plt.plot(acc_nn.accuracies, 'r-', label = \"Training Accuracies - NN\")\n",
    "plt.plot(acc_nn.test_accuracies, 'g-', label = \"Testing Accuracies - NN\")\n",
    "\n",
    "# Logistic Regression plots\n",
    "plt.plot(acc_lr.accuracies, 'k-', label = \"Training Accuracies - LR\")\n",
    "plt.plot(acc_lr.test_accuracies, 'b-', label = \"Testing Accuracies - LR\")\n",
    "plt.legend()"
   ]
  },
  {
   "cell_type": "markdown",
   "id": "80dfb35c",
   "metadata": {
    "papermill": {
     "duration": 0.056435,
     "end_time": "2022-11-06T00:46:54.458554",
     "exception": false,
     "start_time": "2022-11-06T00:46:54.402119",
     "status": "completed"
    },
    "tags": []
   },
   "source": [
    "#### Plotting the outputs of this layer of the NN.\n"
   ]
  },
  {
   "cell_type": "code",
   "execution_count": 25,
   "id": "45eb2ff5",
   "metadata": {
    "execution": {
     "iopub.execute_input": "2022-11-06T00:46:54.576454Z",
     "iopub.status.busy": "2022-11-06T00:46:54.575602Z",
     "iopub.status.idle": "2022-11-06T00:46:54.607240Z",
     "shell.execute_reply": "2022-11-06T00:46:54.607987Z"
    },
    "papermill": {
     "duration": 0.093471,
     "end_time": "2022-11-06T00:46:54.608180",
     "exception": false,
     "start_time": "2022-11-06T00:46:54.514709",
     "status": "completed"
    },
    "tags": []
   },
   "outputs": [],
   "source": [
    "new_model = Model(layers[:-2])\n",
    "testing_plot = new_model(testing_data_x)"
   ]
  },
  {
   "cell_type": "code",
   "execution_count": 26,
   "id": "4c0a5485",
   "metadata": {
    "execution": {
     "iopub.execute_input": "2022-11-06T00:46:54.731573Z",
     "iopub.status.busy": "2022-11-06T00:46:54.730643Z",
     "iopub.status.idle": "2022-11-06T00:46:55.003286Z",
     "shell.execute_reply": "2022-11-06T00:46:55.002478Z"
    },
    "papermill": {
     "duration": 0.33747,
     "end_time": "2022-11-06T00:46:55.003454",
     "exception": false,
     "start_time": "2022-11-06T00:46:54.665984",
     "status": "completed"
    },
    "tags": []
   },
   "outputs": [
    {
     "data": {
      "text/plain": [
       "Text(0.5, 1.0, 'Outputs')"
      ]
     },
     "execution_count": 26,
     "metadata": {},
     "output_type": "execute_result"
    },
    {
     "data": {
      "image/png": "[encoded data removed]",
      "text/plain": [
       "<Figure size 576x504 with 1 Axes>"
      ]
     },
     "metadata": {
      "needs_background": "light"
     },
     "output_type": "display_data"
    }
   ],
   "source": [
    "# Plotting the scatter plot of points and color coding by class\n",
    "plt.figure(figsize=(8,7))\n",
    "plt.scatter(testing_plot[:,0], testing_plot[:,1], alpha = 0.1, c = y_test.ravel());\n",
    "plt.title('Outputs')"
   ]
  },
  {
   "cell_type": "markdown",
   "id": "a74fcf8f",
   "metadata": {
    "papermill": {
     "duration": 0.090788,
     "end_time": "2022-11-06T00:46:55.151863",
     "exception": false,
     "start_time": "2022-11-06T00:46:55.061075",
     "status": "completed"
    },
    "tags": []
   },
   "source": [
    "Probability contours"
   ]
  },
  {
   "cell_type": "code",
   "execution_count": 27,
   "id": "d0afc8e3",
   "metadata": {
    "execution": {
     "iopub.execute_input": "2022-11-06T00:46:55.281731Z",
     "iopub.status.busy": "2022-11-06T00:46:55.280938Z",
     "iopub.status.idle": "2022-11-06T00:46:55.297165Z",
     "shell.execute_reply": "2022-11-06T00:46:55.296348Z"
    },
    "papermill": {
     "duration": 0.083162,
     "end_time": "2022-11-06T00:46:55.297335",
     "exception": false,
     "start_time": "2022-11-06T00:46:55.214173",
     "status": "completed"
    },
    "tags": []
   },
   "outputs": [],
   "source": [
    "model_prob = Model(layers[-2:]) "
   ]
  },
  {
   "cell_type": "code",
   "execution_count": 28,
   "id": "9b96e238",
   "metadata": {
    "execution": {
     "iopub.execute_input": "2022-11-06T00:46:55.427110Z",
     "iopub.status.busy": "2022-11-06T00:46:55.426169Z",
     "iopub.status.idle": "2022-11-06T00:46:55.445185Z",
     "shell.execute_reply": "2022-11-06T00:46:55.445751Z"
    },
    "papermill": {
     "duration": 0.087867,
     "end_time": "2022-11-06T00:46:55.445944",
     "exception": false,
     "start_time": "2022-11-06T00:46:55.358077",
     "status": "completed"
    },
    "tags": []
   },
   "outputs": [],
   "source": [
    "#creating the x and y ranges according to the above generated plot.\n",
    "x_range = np.linspace(-4, 1, 100) \n",
    "y_range = np.linspace(-6, 6, 100) \n",
    "x_grid, y_grid = np.meshgrid(x_range, y_range) # x_grid and y_grig are of size 100 X 100\n",
    "\n",
    "# converting x_grid and y_grid to continuous arrays\n",
    "x_gridflat = np.ravel(x_grid)\n",
    "y_gridflat = np.ravel(y_grid)\n",
    "\n",
    "# The last layer of the current model takes two columns as input. Hence transpose of np.vstack() is required.\n",
    "X = np.vstack((x_gridflat, y_gridflat)).T\n",
    "\n",
    "prob_contour = model_prob(X).reshape(100,100) "
   ]
  },
  {
   "cell_type": "code",
   "execution_count": 29,
   "id": "da72499a",
   "metadata": {
    "execution": {
     "iopub.execute_input": "2022-11-06T00:46:55.568710Z",
     "iopub.status.busy": "2022-11-06T00:46:55.567935Z",
     "iopub.status.idle": "2022-11-06T00:46:55.907784Z",
     "shell.execute_reply": "2022-11-06T00:46:55.908323Z"
    },
    "papermill": {
     "duration": 0.403932,
     "end_time": "2022-11-06T00:46:55.908488",
     "exception": false,
     "start_time": "2022-11-06T00:46:55.504556",
     "status": "completed"
    },
    "tags": []
   },
   "outputs": [
    {
     "data": {
      "image/png": "[encoded data removed]",
      "text/plain": [
       "<Figure size 720x648 with 1 Axes>"
      ]
     },
     "metadata": {
      "needs_background": "light"
     },
     "output_type": "display_data"
    }
   ],
   "source": [
    "plt.figure(figsize=(10,9))\n",
    "plt.scatter(testing_plot[:,0], testing_plot[:,1], alpha = 0.1, c = y_test.ravel())\n",
    "contours = plt.contour(x_grid,y_grid,prob_contour)\n",
    "plt.title('Probability Contours')\n",
    "plt.clabel(contours, inline = True );"
   ]
  },
  {
   "cell_type": "code",
   "execution_count": null,
   "id": "e81b4ac7",
   "metadata": {
    "papermill": {
     "duration": 0.061821,
     "end_time": "2022-11-06T00:46:56.029531",
     "exception": false,
     "start_time": "2022-11-06T00:46:55.967710",
     "status": "completed"
    },
    "tags": []
   },
   "outputs": [],
   "source": []
  }
 ],
 "metadata": {
  "kernelspec": {
   "display_name": "Python 3",
   "language": "python",
   "name": "python3"
  },
  "language_info": {
   "codemirror_mode": {
    "name": "ipython",
    "version": 3
   },
   "file_extension": ".py",
   "mimetype": "text/x-python",
   "name": "python",
   "nbconvert_exporter": "python",
   "pygments_lexer": "ipython3",
   "version": "3.6.15"
  },
  "papermill": {
   "default_parameters": {},
   "duration": 182.681661,
   "end_time": "2022-11-06T00:46:56.510820",
   "environment_variables": {},
   "exception": null,
   "input_path": "2020-08-11-part2.ipynb",
   "output_path": "2020-08-11-part2.ipynb",
   "parameters": {},
   "start_time": "2022-11-06T00:43:53.829159",
   "version": "2.3.3"
  }
 },
 "nbformat": 4,
 "nbformat_minor": 5
}