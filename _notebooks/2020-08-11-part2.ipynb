{
 "cells": [
  {
   "cell_type": "markdown",
   "id": "98380cd3",
   "metadata": {
    "papermill": {
     "duration": 0.030487,
     "end_time": "2022-09-15T00:47:28.701435",
     "exception": false,
     "start_time": "2022-09-15T00:47:28.670948",
     "status": "completed"
    },
    "tags": []
   },
   "source": [
    "# Distinguish Your Own Digits (DYOD)"
   ]
  },
  {
   "cell_type": "markdown",
   "id": "ef31240d",
   "metadata": {
    "papermill": {
     "duration": 0.024423,
     "end_time": "2022-09-15T00:47:28.751443",
     "exception": false,
     "start_time": "2022-09-15T00:47:28.727020",
     "status": "completed"
    },
    "tags": []
   },
   "source": [
    "You are going to write a classifier that distinguishes between the number 3 and number 8."
   ]
  },
  {
   "cell_type": "code",
   "execution_count": 1,
   "id": "b15c8646",
   "metadata": {
    "execution": {
     "iopub.execute_input": "2022-09-15T00:47:28.810394Z",
     "iopub.status.busy": "2022-09-15T00:47:28.809745Z",
     "iopub.status.idle": "2022-09-15T00:47:28.820952Z",
     "shell.execute_reply": "2022-09-15T00:47:28.820442Z"
    },
    "papermill": {
     "duration": 0.045661,
     "end_time": "2022-09-15T00:47:28.821084",
     "exception": false,
     "start_time": "2022-09-15T00:47:28.775423",
     "status": "completed"
    },
    "tags": []
   },
   "outputs": [],
   "source": [
    "%load_ext autoreload\n",
    "%autoreload 2"
   ]
  },
  {
   "cell_type": "code",
   "execution_count": 2,
   "id": "22ef38dc",
   "metadata": {
    "execution": {
     "iopub.execute_input": "2022-09-15T00:47:28.878388Z",
     "iopub.status.busy": "2022-09-15T00:47:28.877701Z",
     "iopub.status.idle": "2022-09-15T00:47:29.442144Z",
     "shell.execute_reply": "2022-09-15T00:47:29.441143Z"
    },
    "papermill": {
     "duration": 0.59683,
     "end_time": "2022-09-15T00:47:29.442283",
     "exception": false,
     "start_time": "2022-09-15T00:47:28.845453",
     "status": "completed"
    },
    "tags": []
   },
   "outputs": [],
   "source": [
    "%matplotlib inline\n",
    "import numpy as np\n",
    "import matplotlib.pyplot as plt\n",
    "import pandas as pd"
   ]
  },
  {
   "cell_type": "markdown",
   "id": "ba036198",
   "metadata": {
    "papermill": {
     "duration": 0.025566,
     "end_time": "2022-09-15T00:47:29.492389",
     "exception": false,
     "start_time": "2022-09-15T00:47:29.466823",
     "status": "completed"
    },
    "tags": []
   },
   "source": [
    "From the command line run `pip install mnist`. This is a library that will help you bring down the mnist dataset. If you run this from a notebook, you need to put  `!pip install mnist` in a cell by itself."
   ]
  },
  {
   "cell_type": "code",
   "execution_count": 3,
   "id": "bb6ad8a1",
   "metadata": {
    "execution": {
     "iopub.execute_input": "2022-09-15T00:47:29.545639Z",
     "iopub.status.busy": "2022-09-15T00:47:29.545001Z",
     "iopub.status.idle": "2022-09-15T00:47:31.200921Z",
     "shell.execute_reply": "2022-09-15T00:47:31.200376Z"
    },
    "papermill": {
     "duration": 1.68438,
     "end_time": "2022-09-15T00:47:31.201037",
     "exception": false,
     "start_time": "2022-09-15T00:47:29.516657",
     "status": "completed"
    },
    "tags": []
   },
   "outputs": [
    {
     "name": "stdout",
     "output_type": "stream",
     "text": [
      "Collecting mnist\r\n"
     ]
    },
    {
     "name": "stdout",
     "output_type": "stream",
     "text": [
      "  Downloading mnist-0.2.2-py2.py3-none-any.whl (3.5 kB)\r\n",
      "Requirement already satisfied: numpy in /opt/hostedtoolcache/Python/3.6.15/x64/lib/python3.6/site-packages (from mnist) (1.19.5)\r\n"
     ]
    },
    {
     "name": "stdout",
     "output_type": "stream",
     "text": [
      "Installing collected packages: mnist\r\n"
     ]
    },
    {
     "name": "stdout",
     "output_type": "stream",
     "text": [
      "Successfully installed mnist-0.2.2\r\n"
     ]
    }
   ],
   "source": [
    "!pip install mnist"
   ]
  },
  {
   "cell_type": "markdown",
   "id": "69df9c9a",
   "metadata": {
    "papermill": {
     "duration": 0.02522,
     "end_time": "2022-09-15T00:47:31.252117",
     "exception": false,
     "start_time": "2022-09-15T00:47:31.226897",
     "status": "completed"
    },
    "tags": []
   },
   "source": [
    "## Preparing the Data"
   ]
  },
  {
   "cell_type": "code",
   "execution_count": 4,
   "id": "7f69d806",
   "metadata": {
    "execution": {
     "iopub.execute_input": "2022-09-15T00:47:31.315139Z",
     "iopub.status.busy": "2022-09-15T00:47:31.314516Z",
     "iopub.status.idle": "2022-09-15T00:47:31.326233Z",
     "shell.execute_reply": "2022-09-15T00:47:31.325753Z"
    },
    "papermill": {
     "duration": 0.049179,
     "end_time": "2022-09-15T00:47:31.326353",
     "exception": false,
     "start_time": "2022-09-15T00:47:31.277174",
     "status": "completed"
    },
    "tags": []
   },
   "outputs": [],
   "source": [
    "import mnist"
   ]
  },
  {
   "cell_type": "code",
   "execution_count": 5,
   "id": "a411e44f",
   "metadata": {
    "execution": {
     "iopub.execute_input": "2022-09-15T00:47:31.380822Z",
     "iopub.status.busy": "2022-09-15T00:47:31.380217Z",
     "iopub.status.idle": "2022-09-15T00:47:31.936469Z",
     "shell.execute_reply": "2022-09-15T00:47:31.935300Z"
    },
    "papermill": {
     "duration": 0.584954,
     "end_time": "2022-09-15T00:47:31.936603",
     "exception": false,
     "start_time": "2022-09-15T00:47:31.351649",
     "status": "completed"
    },
    "tags": []
   },
   "outputs": [],
   "source": [
    "train_images = mnist.train_images()\n",
    "train_labels = mnist.train_labels()"
   ]
  },
  {
   "cell_type": "code",
   "execution_count": 6,
   "id": "dceab3a5",
   "metadata": {
    "execution": {
     "iopub.execute_input": "2022-09-15T00:47:31.991464Z",
     "iopub.status.busy": "2022-09-15T00:47:31.990864Z",
     "iopub.status.idle": "2022-09-15T00:47:32.006277Z",
     "shell.execute_reply": "2022-09-15T00:47:32.006836Z"
    },
    "papermill": {
     "duration": 0.04501,
     "end_time": "2022-09-15T00:47:32.006969",
     "exception": false,
     "start_time": "2022-09-15T00:47:31.961959",
     "status": "completed"
    },
    "tags": []
   },
   "outputs": [
    {
     "data": {
      "text/plain": [
       "((60000, 28, 28), (60000,))"
      ]
     },
     "execution_count": 6,
     "metadata": {},
     "output_type": "execute_result"
    }
   ],
   "source": [
    "train_images.shape, train_labels.shape"
   ]
  },
  {
   "cell_type": "code",
   "execution_count": 7,
   "id": "f50dc2bb",
   "metadata": {
    "execution": {
     "iopub.execute_input": "2022-09-15T00:47:32.062237Z",
     "iopub.status.busy": "2022-09-15T00:47:32.061619Z",
     "iopub.status.idle": "2022-09-15T00:47:32.232560Z",
     "shell.execute_reply": "2022-09-15T00:47:32.231903Z"
    },
    "papermill": {
     "duration": 0.200345,
     "end_time": "2022-09-15T00:47:32.232707",
     "exception": false,
     "start_time": "2022-09-15T00:47:32.032362",
     "status": "completed"
    },
    "tags": []
   },
   "outputs": [],
   "source": [
    "test_images = mnist.test_images()\n",
    "test_labels = mnist.test_labels()"
   ]
  },
  {
   "cell_type": "code",
   "execution_count": 8,
   "id": "fc38cf1b",
   "metadata": {
    "execution": {
     "iopub.execute_input": "2022-09-15T00:47:32.288003Z",
     "iopub.status.busy": "2022-09-15T00:47:32.287420Z",
     "iopub.status.idle": "2022-09-15T00:47:32.301494Z",
     "shell.execute_reply": "2022-09-15T00:47:32.302064Z"
    },
    "papermill": {
     "duration": 0.043727,
     "end_time": "2022-09-15T00:47:32.302200",
     "exception": false,
     "start_time": "2022-09-15T00:47:32.258473",
     "status": "completed"
    },
    "tags": []
   },
   "outputs": [
    {
     "data": {
      "text/plain": [
       "((10000, 28, 28), (10000,))"
      ]
     },
     "execution_count": 8,
     "metadata": {},
     "output_type": "execute_result"
    }
   ],
   "source": [
    "test_images.shape, test_labels.shape"
   ]
  },
  {
   "cell_type": "code",
   "execution_count": 9,
   "id": "f9ed8fe0",
   "metadata": {
    "execution": {
     "iopub.execute_input": "2022-09-15T00:47:32.371124Z",
     "iopub.status.busy": "2022-09-15T00:47:32.369154Z",
     "iopub.status.idle": "2022-09-15T00:47:32.501774Z",
     "shell.execute_reply": "2022-09-15T00:47:32.502233Z"
    },
    "papermill": {
     "duration": 0.174531,
     "end_time": "2022-09-15T00:47:32.502376",
     "exception": false,
     "start_time": "2022-09-15T00:47:32.327845",
     "status": "completed"
    },
    "tags": []
   },
   "outputs": [
    {
     "name": "stdout",
     "output_type": "stream",
     "text": [
      "2\n"
     ]
    },
    {
     "data": {
      "text/plain": [
       "<matplotlib.image.AxesImage at 0x7f28b98c7d68>"
      ]
     },
     "execution_count": 9,
     "metadata": {},
     "output_type": "execute_result"
    },
    {
     "data": {
      "image/png": "[encoded data removed]",
      "text/plain": [
       "<Figure size 432x288 with 1 Axes>"
      ]
     },
     "metadata": {
      "needs_background": "light"
     },
     "output_type": "display_data"
    }
   ],
   "source": [
    "image_index = 7776 # You may select anything up to 60,000\n",
    "print(train_labels[image_index]) \n",
    "plt.imshow(train_images[image_index], cmap='Greys')"
   ]
  },
  {
   "cell_type": "markdown",
   "id": "a8d2388d",
   "metadata": {
    "papermill": {
     "duration": 0.027052,
     "end_time": "2022-09-15T00:47:32.556347",
     "exception": false,
     "start_time": "2022-09-15T00:47:32.529295",
     "status": "completed"
    },
    "tags": []
   },
   "source": [
    "## Filter data to get 3 and 8 out"
   ]
  },
  {
   "cell_type": "code",
   "execution_count": 10,
   "id": "776f7fc7",
   "metadata": {
    "execution": {
     "iopub.execute_input": "2022-09-15T00:47:32.625566Z",
     "iopub.status.busy": "2022-09-15T00:47:32.614134Z",
     "iopub.status.idle": "2022-09-15T00:47:32.636491Z",
     "shell.execute_reply": "2022-09-15T00:47:32.635987Z"
    },
    "papermill": {
     "duration": 0.053442,
     "end_time": "2022-09-15T00:47:32.636610",
     "exception": false,
     "start_time": "2022-09-15T00:47:32.583168",
     "status": "completed"
    },
    "tags": []
   },
   "outputs": [],
   "source": [
    "train_filter = np.where((train_labels == 3 ) | (train_labels == 8))\n",
    "test_filter = np.where((test_labels == 3) | (test_labels == 8))\n",
    "X_train, y_train = train_images[train_filter], train_labels[train_filter]\n",
    "X_test, y_test = test_images[test_filter], test_labels[test_filter]"
   ]
  },
  {
   "cell_type": "markdown",
   "id": "948f0b7e",
   "metadata": {
    "papermill": {
     "duration": 0.026659,
     "end_time": "2022-09-15T00:47:32.690393",
     "exception": false,
     "start_time": "2022-09-15T00:47:32.663734",
     "status": "completed"
    },
    "tags": []
   },
   "source": [
    "We normalize the pizel values in the 0 to 1 range"
   ]
  },
  {
   "cell_type": "code",
   "execution_count": 11,
   "id": "ee4c2166",
   "metadata": {
    "execution": {
     "iopub.execute_input": "2022-09-15T00:47:32.748189Z",
     "iopub.status.busy": "2022-09-15T00:47:32.747599Z",
     "iopub.status.idle": "2022-09-15T00:47:32.796539Z",
     "shell.execute_reply": "2022-09-15T00:47:32.795987Z"
    },
    "papermill": {
     "duration": 0.079337,
     "end_time": "2022-09-15T00:47:32.796655",
     "exception": false,
     "start_time": "2022-09-15T00:47:32.717318",
     "status": "completed"
    },
    "tags": []
   },
   "outputs": [],
   "source": [
    "X_train = X_train/255.\n",
    "X_test = X_test/255."
   ]
  },
  {
   "cell_type": "markdown",
   "id": "ddcf4fab",
   "metadata": {
    "papermill": {
     "duration": 0.026808,
     "end_time": "2022-09-15T00:47:32.850584",
     "exception": false,
     "start_time": "2022-09-15T00:47:32.823776",
     "status": "completed"
    },
    "tags": []
   },
   "source": [
    "And setup the labels as 1 (when the digit is 3) and 0 (when the digit is 8)"
   ]
  },
  {
   "cell_type": "code",
   "execution_count": 12,
   "id": "7dc908f2",
   "metadata": {
    "execution": {
     "iopub.execute_input": "2022-09-15T00:47:32.908330Z",
     "iopub.status.busy": "2022-09-15T00:47:32.907748Z",
     "iopub.status.idle": "2022-09-15T00:47:32.920534Z",
     "shell.execute_reply": "2022-09-15T00:47:32.920999Z"
    },
    "papermill": {
     "duration": 0.043744,
     "end_time": "2022-09-15T00:47:32.921133",
     "exception": false,
     "start_time": "2022-09-15T00:47:32.877389",
     "status": "completed"
    },
    "tags": []
   },
   "outputs": [],
   "source": [
    "y_train = 1*(y_train==3)\n",
    "y_test = 1*(y_test==3)"
   ]
  },
  {
   "cell_type": "code",
   "execution_count": 13,
   "id": "01e4e969",
   "metadata": {
    "execution": {
     "iopub.execute_input": "2022-09-15T00:47:32.978956Z",
     "iopub.status.busy": "2022-09-15T00:47:32.978352Z",
     "iopub.status.idle": "2022-09-15T00:47:32.992958Z",
     "shell.execute_reply": "2022-09-15T00:47:32.992473Z"
    },
    "papermill": {
     "duration": 0.045009,
     "end_time": "2022-09-15T00:47:32.993076",
     "exception": false,
     "start_time": "2022-09-15T00:47:32.948067",
     "status": "completed"
    },
    "tags": []
   },
   "outputs": [
    {
     "data": {
      "text/plain": [
       "((11982, 28, 28), (1984, 28, 28))"
      ]
     },
     "execution_count": 13,
     "metadata": {},
     "output_type": "execute_result"
    }
   ],
   "source": [
    "X_train.shape, X_test.shape"
   ]
  },
  {
   "cell_type": "markdown",
   "id": "5ccf3f85",
   "metadata": {
    "papermill": {
     "duration": 0.027057,
     "end_time": "2022-09-15T00:47:33.047223",
     "exception": false,
     "start_time": "2022-09-15T00:47:33.020166",
     "status": "completed"
    },
    "tags": []
   },
   "source": [
    "We reshape the data to flatten the image pixels into a set of features or co-variates:"
   ]
  },
  {
   "cell_type": "code",
   "execution_count": 14,
   "id": "5286a4a3",
   "metadata": {
    "execution": {
     "iopub.execute_input": "2022-09-15T00:47:33.107012Z",
     "iopub.status.busy": "2022-09-15T00:47:33.106399Z",
     "iopub.status.idle": "2022-09-15T00:47:33.120125Z",
     "shell.execute_reply": "2022-09-15T00:47:33.119631Z"
    },
    "papermill": {
     "duration": 0.045797,
     "end_time": "2022-09-15T00:47:33.120239",
     "exception": false,
     "start_time": "2022-09-15T00:47:33.074442",
     "status": "completed"
    },
    "tags": []
   },
   "outputs": [
    {
     "data": {
      "text/plain": [
       "((11982, 784), (1984, 784))"
      ]
     },
     "execution_count": 14,
     "metadata": {},
     "output_type": "execute_result"
    }
   ],
   "source": [
    "X_train = X_train.reshape(X_train.shape[0], -1)\n",
    "X_test = X_test.reshape(X_test.shape[0], -1)\n",
    "X_train.shape, X_test.shape"
   ]
  },
  {
   "cell_type": "code",
   "execution_count": 15,
   "id": "73c5f88a",
   "metadata": {
    "execution": {
     "iopub.execute_input": "2022-09-15T00:47:33.180122Z",
     "iopub.status.busy": "2022-09-15T00:47:33.179502Z",
     "iopub.status.idle": "2022-09-15T00:47:33.200139Z",
     "shell.execute_reply": "2022-09-15T00:47:33.199487Z"
    },
    "papermill": {
     "duration": 0.052584,
     "end_time": "2022-09-15T00:47:33.200276",
     "exception": false,
     "start_time": "2022-09-15T00:47:33.147692",
     "status": "completed"
    },
    "tags": []
   },
   "outputs": [],
   "source": [
    "#Impoting functions from 'Kudzu'\n",
    "from kudzu.model import Model\n",
    "from kudzu.train import Learner\n",
    "from kudzu.optim import GD\n",
    "from kudzu.data import Data, Sampler,Dataloader\n",
    "\n",
    "from kudzu.callbacks import AccCallback\n",
    "from kudzu.callbacks import ClfCallback\n",
    "\n",
    "from kudzu.loss import MSE\n",
    "\n",
    "from kudzu.layer import Sigmoid,Relu\n",
    "from kudzu.layer import Affine"
   ]
  },
  {
   "cell_type": "markdown",
   "id": "bc01172a",
   "metadata": {
    "papermill": {
     "duration": 0.027274,
     "end_time": "2022-09-15T00:47:33.255846",
     "exception": false,
     "start_time": "2022-09-15T00:47:33.228572",
     "status": "completed"
    },
    "tags": []
   },
   "source": [
    "### Let us create a `Config` class, to store important parameters. \n",
    "This class essentially plays the role of a dictionary."
   ]
  },
  {
   "cell_type": "code",
   "execution_count": 16,
   "id": "978281aa",
   "metadata": {
    "execution": {
     "iopub.execute_input": "2022-09-15T00:47:33.314750Z",
     "iopub.status.busy": "2022-09-15T00:47:33.314150Z",
     "iopub.status.idle": "2022-09-15T00:47:33.327773Z",
     "shell.execute_reply": "2022-09-15T00:47:33.327265Z"
    },
    "papermill": {
     "duration": 0.044793,
     "end_time": "2022-09-15T00:47:33.327890",
     "exception": false,
     "start_time": "2022-09-15T00:47:33.283097",
     "status": "completed"
    },
    "tags": []
   },
   "outputs": [],
   "source": [
    "class Config:\n",
    "    pass\n",
    "config = Config()\n",
    "config.lr = 0.001\n",
    "config.num_epochs = 250\n",
    "config.bs = 50"
   ]
  },
  {
   "cell_type": "markdown",
   "id": "1385fa59",
   "metadata": {
    "papermill": {
     "duration": 0.027263,
     "end_time": "2022-09-15T00:47:33.382685",
     "exception": false,
     "start_time": "2022-09-15T00:47:33.355422",
     "status": "completed"
    },
    "tags": []
   },
   "source": [
    "### Running Models with the Training data\n",
    "Details about the network layers:\n",
    "- A first affine layer has 784 inputs and does 100 affine transforms. These are followed by a Relu\n",
    "- A second affine layer has 100 inputs from the 100 activations of the past layer, and does 100 affine transforms. These are followed by a Relu\n",
    "- A third affine layer has 100 activations and does 2 affine transformations to create an embedding for visualization. There is no non-linearity here.\n",
    "- A final \"logistic regression\" which has an affine transform from 2 inputs to 1 output, which is squeezed through a sigmoid.\n"
   ]
  },
  {
   "cell_type": "code",
   "execution_count": 17,
   "id": "2b9c66db",
   "metadata": {
    "execution": {
     "iopub.execute_input": "2022-09-15T00:47:33.443615Z",
     "iopub.status.busy": "2022-09-15T00:47:33.442998Z",
     "iopub.status.idle": "2022-09-15T00:47:33.455303Z",
     "shell.execute_reply": "2022-09-15T00:47:33.454800Z"
    },
    "papermill": {
     "duration": 0.04537,
     "end_time": "2022-09-15T00:47:33.455422",
     "exception": false,
     "start_time": "2022-09-15T00:47:33.410052",
     "status": "completed"
    },
    "tags": []
   },
   "outputs": [],
   "source": [
    "data = Data(X_train, y_train.reshape(-1,1))\n",
    "sampler = Sampler(data, config.bs, shuffle=True)\n",
    "\n",
    "dl = Dataloader(data, sampler)\n",
    "\n",
    "opt = GD(config.lr)\n",
    "loss = MSE()"
   ]
  },
  {
   "cell_type": "code",
   "execution_count": 18,
   "id": "b275e4c2",
   "metadata": {
    "execution": {
     "iopub.execute_input": "2022-09-15T00:47:33.514515Z",
     "iopub.status.busy": "2022-09-15T00:47:33.513909Z",
     "iopub.status.idle": "2022-09-15T00:47:33.526814Z",
     "shell.execute_reply": "2022-09-15T00:47:33.526321Z"
    },
    "papermill": {
     "duration": 0.044099,
     "end_time": "2022-09-15T00:47:33.526927",
     "exception": false,
     "start_time": "2022-09-15T00:47:33.482828",
     "status": "completed"
    },
    "tags": []
   },
   "outputs": [],
   "source": [
    "training_data_x = X_train\n",
    "testing_data_x = X_test\n",
    "training_data_y = y_train.reshape(-1,1)\n",
    "testing_data_y = y_test.reshape(-1,1)"
   ]
  },
  {
   "cell_type": "code",
   "execution_count": 19,
   "id": "76951160",
   "metadata": {
    "execution": {
     "iopub.execute_input": "2022-09-15T00:47:33.599677Z",
     "iopub.status.busy": "2022-09-15T00:47:33.594999Z",
     "iopub.status.idle": "2022-09-15T00:47:33.606163Z",
     "shell.execute_reply": "2022-09-15T00:47:33.606620Z"
    },
    "papermill": {
     "duration": 0.052541,
     "end_time": "2022-09-15T00:47:33.606760",
     "exception": false,
     "start_time": "2022-09-15T00:47:33.554219",
     "status": "completed"
    },
    "tags": []
   },
   "outputs": [
    {
     "name": "stdout",
     "output_type": "stream",
     "text": [
      "xavier\n",
      "xavier\n",
      "xavier\n",
      "xavier\n",
      "xavier\n"
     ]
    }
   ],
   "source": [
    "layers = [Affine(\"first\", 784, 100), Relu(\"first\"), Affine(\"second\", 100, 100), Relu(\"second\"), Affine(\"third\", 100, 2), Affine(\"last\", 2, 1), Sigmoid(\"last\")]\n",
    "model_nn = Model(layers)\n",
    "model_lr = Model([Affine(\"logits\", 784, 1), Sigmoid(\"sigmoid\")])"
   ]
  },
  {
   "cell_type": "code",
   "execution_count": 20,
   "id": "6eede77a",
   "metadata": {
    "execution": {
     "iopub.execute_input": "2022-09-15T00:47:33.678391Z",
     "iopub.status.busy": "2022-09-15T00:47:33.666314Z",
     "iopub.status.idle": "2022-09-15T00:47:33.682569Z",
     "shell.execute_reply": "2022-09-15T00:47:33.682068Z"
    },
    "papermill": {
     "duration": 0.048082,
     "end_time": "2022-09-15T00:47:33.682683",
     "exception": false,
     "start_time": "2022-09-15T00:47:33.634601",
     "status": "completed"
    },
    "tags": []
   },
   "outputs": [],
   "source": [
    "nn_learner = Learner(loss, model_nn, opt, config.num_epochs)\n",
    "acc_nn = ClfCallback(nn_learner, config.bs, training_data_x , testing_data_x, training_data_y, testing_data_y)\n",
    "nn_learner.set_callbacks([acc_nn])"
   ]
  },
  {
   "cell_type": "code",
   "execution_count": 21,
   "id": "877b6cc7",
   "metadata": {
    "execution": {
     "iopub.execute_input": "2022-09-15T00:47:33.747180Z",
     "iopub.status.busy": "2022-09-15T00:47:33.746505Z",
     "iopub.status.idle": "2022-09-15T00:47:33.757264Z",
     "shell.execute_reply": "2022-09-15T00:47:33.756736Z"
    },
    "papermill": {
     "duration": 0.046992,
     "end_time": "2022-09-15T00:47:33.757385",
     "exception": false,
     "start_time": "2022-09-15T00:47:33.710393",
     "status": "completed"
    },
    "tags": []
   },
   "outputs": [],
   "source": [
    "lr_learner = Learner(loss, model_lr, opt, config.num_epochs)\n",
    "acc_lr = ClfCallback(lr_learner, config.bs, training_data_x , testing_data_x, training_data_y, testing_data_y)\n",
    "lr_learner.set_callbacks([acc_lr])"
   ]
  },
  {
   "cell_type": "code",
   "execution_count": 22,
   "id": "d9b133c3",
   "metadata": {
    "execution": {
     "iopub.execute_input": "2022-09-15T00:47:33.830784Z",
     "iopub.status.busy": "2022-09-15T00:47:33.825329Z",
     "iopub.status.idle": "2022-09-15T00:48:51.058771Z",
     "shell.execute_reply": "2022-09-15T00:48:51.059694Z"
    },
    "papermill": {
     "duration": 77.274598,
     "end_time": "2022-09-15T00:48:51.059845",
     "exception": false,
     "start_time": "2022-09-15T00:47:33.785247",
     "status": "completed"
    },
    "tags": []
   },
   "outputs": [
    {
     "name": "stdout",
     "output_type": "stream",
     "text": [
      "Epoch 0, Loss 0.2489\n",
      "Training Accuracy: 0.5460, Testing Accuracy: 0.5353\n",
      "\n"
     ]
    },
    {
     "name": "stdout",
     "output_type": "stream",
     "text": [
      "Epoch 10, Loss 0.2253\n",
      "Training Accuracy: 0.8202, Testing Accuracy: 0.8261\n",
      "\n"
     ]
    },
    {
     "name": "stdout",
     "output_type": "stream",
     "text": [
      "Epoch 20, Loss 0.1514\n",
      "Training Accuracy: 0.8765, Testing Accuracy: 0.8856\n",
      "\n"
     ]
    },
    {
     "name": "stdout",
     "output_type": "stream",
     "text": [
      "Epoch 30, Loss 0.0832\n",
      "Training Accuracy: 0.9154, Testing Accuracy: 0.9284\n",
      "\n"
     ]
    },
    {
     "name": "stdout",
     "output_type": "stream",
     "text": [
      "Epoch 40, Loss 0.0577\n",
      "Training Accuracy: 0.9387, Testing Accuracy: 0.9486\n",
      "\n"
     ]
    },
    {
     "name": "stdout",
     "output_type": "stream",
     "text": [
      "Epoch 50, Loss 0.0462\n",
      "Training Accuracy: 0.9503, Testing Accuracy: 0.9556\n",
      "\n"
     ]
    },
    {
     "name": "stdout",
     "output_type": "stream",
     "text": [
      "Epoch 60, Loss 0.0401\n",
      "Training Accuracy: 0.9552, Testing Accuracy: 0.9607\n",
      "\n"
     ]
    },
    {
     "name": "stdout",
     "output_type": "stream",
     "text": [
      "Epoch 70, Loss 0.0363\n",
      "Training Accuracy: 0.9584, Testing Accuracy: 0.9647\n",
      "\n"
     ]
    },
    {
     "name": "stdout",
     "output_type": "stream",
     "text": [
      "Epoch 80, Loss 0.0336\n",
      "Training Accuracy: 0.9601, Testing Accuracy: 0.9652\n",
      "\n"
     ]
    },
    {
     "name": "stdout",
     "output_type": "stream",
     "text": [
      "Epoch 90, Loss 0.0317\n",
      "Training Accuracy: 0.9622, Testing Accuracy: 0.9672\n",
      "\n"
     ]
    },
    {
     "name": "stdout",
     "output_type": "stream",
     "text": [
      "Epoch 100, Loss 0.0301\n",
      "Training Accuracy: 0.9640, Testing Accuracy: 0.9682\n",
      "\n"
     ]
    },
    {
     "name": "stdout",
     "output_type": "stream",
     "text": [
      "Epoch 110, Loss 0.0289\n",
      "Training Accuracy: 0.9656, Testing Accuracy: 0.9698\n",
      "\n"
     ]
    },
    {
     "name": "stdout",
     "output_type": "stream",
     "text": [
      "Epoch 120, Loss 0.0278\n",
      "Training Accuracy: 0.9667, Testing Accuracy: 0.9713\n",
      "\n"
     ]
    },
    {
     "name": "stdout",
     "output_type": "stream",
     "text": [
      "Epoch 130, Loss 0.0269\n",
      "Training Accuracy: 0.9677, Testing Accuracy: 0.9718\n",
      "\n"
     ]
    },
    {
     "name": "stdout",
     "output_type": "stream",
     "text": [
      "Epoch 140, Loss 0.0261\n",
      "Training Accuracy: 0.9685, Testing Accuracy: 0.9713\n",
      "\n"
     ]
    },
    {
     "name": "stdout",
     "output_type": "stream",
     "text": [
      "Epoch 150, Loss 0.0254\n",
      "Training Accuracy: 0.9705, Testing Accuracy: 0.9718\n",
      "\n"
     ]
    },
    {
     "name": "stdout",
     "output_type": "stream",
     "text": [
      "Epoch 160, Loss 0.0247\n",
      "Training Accuracy: 0.9715, Testing Accuracy: 0.9728\n",
      "\n"
     ]
    },
    {
     "name": "stdout",
     "output_type": "stream",
     "text": [
      "Epoch 170, Loss 0.0241\n",
      "Training Accuracy: 0.9720, Testing Accuracy: 0.9728\n",
      "\n"
     ]
    },
    {
     "name": "stdout",
     "output_type": "stream",
     "text": [
      "Epoch 180, Loss 0.0236\n",
      "Training Accuracy: 0.9726, Testing Accuracy: 0.9723\n",
      "\n"
     ]
    },
    {
     "name": "stdout",
     "output_type": "stream",
     "text": [
      "Epoch 190, Loss 0.0231\n",
      "Training Accuracy: 0.9730, Testing Accuracy: 0.9723\n",
      "\n"
     ]
    },
    {
     "name": "stdout",
     "output_type": "stream",
     "text": [
      "Epoch 200, Loss 0.0226\n",
      "Training Accuracy: 0.9734, Testing Accuracy: 0.9723\n",
      "\n"
     ]
    },
    {
     "name": "stdout",
     "output_type": "stream",
     "text": [
      "Epoch 210, Loss 0.0222\n",
      "Training Accuracy: 0.9737, Testing Accuracy: 0.9713\n",
      "\n"
     ]
    },
    {
     "name": "stdout",
     "output_type": "stream",
     "text": [
      "Epoch 220, Loss 0.0218\n",
      "Training Accuracy: 0.9744, Testing Accuracy: 0.9713\n",
      "\n"
     ]
    },
    {
     "name": "stdout",
     "output_type": "stream",
     "text": [
      "Epoch 230, Loss 0.0214\n",
      "Training Accuracy: 0.9752, Testing Accuracy: 0.9708\n",
      "\n"
     ]
    },
    {
     "name": "stdout",
     "output_type": "stream",
     "text": [
      "Epoch 240, Loss 0.021\n",
      "Training Accuracy: 0.9756, Testing Accuracy: 0.9703\n",
      "\n"
     ]
    },
    {
     "data": {
      "text/plain": [
       "0.006880477728281202"
      ]
     },
     "execution_count": 22,
     "metadata": {},
     "output_type": "execute_result"
    }
   ],
   "source": [
    "nn_learner.train_loop(dl)"
   ]
  },
  {
   "cell_type": "code",
   "execution_count": 23,
   "id": "e0163366",
   "metadata": {
    "execution": {
     "iopub.execute_input": "2022-09-15T00:48:51.143167Z",
     "iopub.status.busy": "2022-09-15T00:48:51.142546Z",
     "iopub.status.idle": "2022-09-15T00:49:04.782891Z",
     "shell.execute_reply": "2022-09-15T00:49:04.783789Z"
    },
    "papermill": {
     "duration": 13.688343,
     "end_time": "2022-09-15T00:49:04.783937",
     "exception": false,
     "start_time": "2022-09-15T00:48:51.095594",
     "status": "completed"
    },
    "tags": []
   },
   "outputs": [
    {
     "name": "stdout",
     "output_type": "stream",
     "text": [
      "Epoch 0, Loss 0.2121\n",
      "Training Accuracy: 0.7663, Testing Accuracy: 0.7828\n",
      "\n"
     ]
    },
    {
     "name": "stdout",
     "output_type": "stream",
     "text": [
      "Epoch 10, Loss 0.1025\n",
      "Training Accuracy: 0.9034, Testing Accuracy: 0.9148\n",
      "\n"
     ]
    },
    {
     "name": "stdout",
     "output_type": "stream",
     "text": [
      "Epoch 20, Loss 0.0802\n",
      "Training Accuracy: 0.9214, Testing Accuracy: 0.9320\n",
      "\n"
     ]
    },
    {
     "name": "stdout",
     "output_type": "stream",
     "text": [
      "Epoch 30, Loss 0.0693\n",
      "Training Accuracy: 0.9321, Testing Accuracy: 0.9435\n",
      "\n"
     ]
    },
    {
     "name": "stdout",
     "output_type": "stream",
     "text": [
      "Epoch 40, Loss 0.0626\n",
      "Training Accuracy: 0.9376, Testing Accuracy: 0.9486\n",
      "\n"
     ]
    },
    {
     "name": "stdout",
     "output_type": "stream",
     "text": [
      "Epoch 50, Loss 0.058\n",
      "Training Accuracy: 0.9419, Testing Accuracy: 0.9521\n",
      "\n"
     ]
    },
    {
     "name": "stdout",
     "output_type": "stream",
     "text": [
      "Epoch 60, Loss 0.0546\n",
      "Training Accuracy: 0.9452, Testing Accuracy: 0.9551\n",
      "\n"
     ]
    },
    {
     "name": "stdout",
     "output_type": "stream",
     "text": [
      "Epoch 70, Loss 0.0519\n",
      "Training Accuracy: 0.9476, Testing Accuracy: 0.9567\n",
      "\n"
     ]
    },
    {
     "name": "stdout",
     "output_type": "stream",
     "text": [
      "Epoch 80, Loss 0.0498\n",
      "Training Accuracy: 0.9491, Testing Accuracy: 0.9582\n",
      "\n"
     ]
    },
    {
     "name": "stdout",
     "output_type": "stream",
     "text": [
      "Epoch 90, Loss 0.048\n",
      "Training Accuracy: 0.9515, Testing Accuracy: 0.9592\n",
      "\n"
     ]
    },
    {
     "name": "stdout",
     "output_type": "stream",
     "text": [
      "Epoch 100, Loss 0.0466\n",
      "Training Accuracy: 0.9523, Testing Accuracy: 0.9607\n",
      "\n"
     ]
    },
    {
     "name": "stdout",
     "output_type": "stream",
     "text": [
      "Epoch 110, Loss 0.0453\n",
      "Training Accuracy: 0.9535, Testing Accuracy: 0.9622\n",
      "\n"
     ]
    },
    {
     "name": "stdout",
     "output_type": "stream",
     "text": [
      "Epoch 120, Loss 0.0442\n",
      "Training Accuracy: 0.9546, Testing Accuracy: 0.9632\n",
      "\n"
     ]
    },
    {
     "name": "stdout",
     "output_type": "stream",
     "text": [
      "Epoch 130, Loss 0.0432\n",
      "Training Accuracy: 0.9553, Testing Accuracy: 0.9627\n",
      "\n"
     ]
    },
    {
     "name": "stdout",
     "output_type": "stream",
     "text": [
      "Epoch 140, Loss 0.0424\n",
      "Training Accuracy: 0.9560, Testing Accuracy: 0.9642\n",
      "\n"
     ]
    },
    {
     "name": "stdout",
     "output_type": "stream",
     "text": [
      "Epoch 150, Loss 0.0416\n",
      "Training Accuracy: 0.9572, Testing Accuracy: 0.9642\n",
      "\n"
     ]
    },
    {
     "name": "stdout",
     "output_type": "stream",
     "text": [
      "Epoch 160, Loss 0.0409\n",
      "Training Accuracy: 0.9579, Testing Accuracy: 0.9642\n",
      "\n"
     ]
    },
    {
     "name": "stdout",
     "output_type": "stream",
     "text": [
      "Epoch 170, Loss 0.0403\n",
      "Training Accuracy: 0.9583, Testing Accuracy: 0.9647\n",
      "\n"
     ]
    },
    {
     "name": "stdout",
     "output_type": "stream",
     "text": [
      "Epoch 180, Loss 0.0397\n",
      "Training Accuracy: 0.9587, Testing Accuracy: 0.9652\n",
      "\n"
     ]
    },
    {
     "name": "stdout",
     "output_type": "stream",
     "text": [
      "Epoch 190, Loss 0.0391\n",
      "Training Accuracy: 0.9594, Testing Accuracy: 0.9657\n",
      "\n"
     ]
    },
    {
     "name": "stdout",
     "output_type": "stream",
     "text": [
      "Epoch 200, Loss 0.0386\n",
      "Training Accuracy: 0.9597, Testing Accuracy: 0.9662\n",
      "\n"
     ]
    },
    {
     "name": "stdout",
     "output_type": "stream",
     "text": [
      "Epoch 210, Loss 0.0382\n",
      "Training Accuracy: 0.9602, Testing Accuracy: 0.9667\n",
      "\n"
     ]
    },
    {
     "name": "stdout",
     "output_type": "stream",
     "text": [
      "Epoch 220, Loss 0.0378\n",
      "Training Accuracy: 0.9608, Testing Accuracy: 0.9667\n",
      "\n"
     ]
    },
    {
     "name": "stdout",
     "output_type": "stream",
     "text": [
      "Epoch 230, Loss 0.0374\n",
      "Training Accuracy: 0.9609, Testing Accuracy: 0.9667\n",
      "\n"
     ]
    },
    {
     "name": "stdout",
     "output_type": "stream",
     "text": [
      "Epoch 240, Loss 0.037\n",
      "Training Accuracy: 0.9613, Testing Accuracy: 0.9672\n",
      "\n"
     ]
    },
    {
     "data": {
      "text/plain": [
       "0.033043514108089686"
      ]
     },
     "execution_count": 23,
     "metadata": {},
     "output_type": "execute_result"
    }
   ],
   "source": [
    "lr_learner.train_loop(dl)"
   ]
  },
  {
   "cell_type": "code",
   "execution_count": 24,
   "id": "ca410940",
   "metadata": {
    "execution": {
     "iopub.execute_input": "2022-09-15T00:49:04.881429Z",
     "iopub.status.busy": "2022-09-15T00:49:04.880775Z",
     "iopub.status.idle": "2022-09-15T00:49:05.093249Z",
     "shell.execute_reply": "2022-09-15T00:49:05.093747Z"
    },
    "papermill": {
     "duration": 0.267861,
     "end_time": "2022-09-15T00:49:05.093892",
     "exception": false,
     "start_time": "2022-09-15T00:49:04.826031",
     "status": "completed"
    },
    "tags": []
   },
   "outputs": [
    {
     "data": {
      "text/plain": [
       "<matplotlib.legend.Legend at 0x7f28b9436320>"
      ]
     },
     "execution_count": 24,
     "metadata": {},
     "output_type": "execute_result"
    },
    {
     "data": {
      "image/png": "[encoded data removed]",
      "text/plain": [
       "<Figure size 1080x720 with 1 Axes>"
      ]
     },
     "metadata": {
      "needs_background": "light"
     },
     "output_type": "display_data"
    }
   ],
   "source": [
    "#comparing the results of NN and LR\n",
    "plt.figure(figsize=(15,10))\n",
    "\n",
    "# Neural Network plots\n",
    "plt.plot(acc_nn.accuracies, 'r-', label = \"Training Accuracies - NN\")\n",
    "plt.plot(acc_nn.test_accuracies, 'g-', label = \"Testing Accuracies - NN\")\n",
    "\n",
    "# Logistic Regression plots\n",
    "plt.plot(acc_lr.accuracies, 'k-', label = \"Training Accuracies - LR\")\n",
    "plt.plot(acc_lr.test_accuracies, 'b-', label = \"Testing Accuracies - LR\")\n",
    "plt.legend()"
   ]
  },
  {
   "cell_type": "markdown",
   "id": "80dfb35c",
   "metadata": {
    "papermill": {
     "duration": 0.042502,
     "end_time": "2022-09-15T00:49:05.178910",
     "exception": false,
     "start_time": "2022-09-15T00:49:05.136408",
     "status": "completed"
    },
    "tags": []
   },
   "source": [
    "#### Plotting the outputs of this layer of the NN.\n"
   ]
  },
  {
   "cell_type": "code",
   "execution_count": 25,
   "id": "45eb2ff5",
   "metadata": {
    "execution": {
     "iopub.execute_input": "2022-09-15T00:49:05.267772Z",
     "iopub.status.busy": "2022-09-15T00:49:05.267150Z",
     "iopub.status.idle": "2022-09-15T00:49:05.290209Z",
     "shell.execute_reply": "2022-09-15T00:49:05.290667Z"
    },
    "papermill": {
     "duration": 0.069755,
     "end_time": "2022-09-15T00:49:05.290818",
     "exception": false,
     "start_time": "2022-09-15T00:49:05.221063",
     "status": "completed"
    },
    "tags": []
   },
   "outputs": [],
   "source": [
    "new_model = Model(layers[:-2])\n",
    "testing_plot = new_model(testing_data_x)"
   ]
  },
  {
   "cell_type": "code",
   "execution_count": 26,
   "id": "4c0a5485",
   "metadata": {
    "execution": {
     "iopub.execute_input": "2022-09-15T00:49:05.383369Z",
     "iopub.status.busy": "2022-09-15T00:49:05.381291Z",
     "iopub.status.idle": "2022-09-15T00:49:05.588053Z",
     "shell.execute_reply": "2022-09-15T00:49:05.587560Z"
    },
    "papermill": {
     "duration": 0.254785,
     "end_time": "2022-09-15T00:49:05.588170",
     "exception": false,
     "start_time": "2022-09-15T00:49:05.333385",
     "status": "completed"
    },
    "tags": []
   },
   "outputs": [
    {
     "data": {
      "text/plain": [
       "Text(0.5, 1.0, 'Outputs')"
      ]
     },
     "execution_count": 26,
     "metadata": {},
     "output_type": "execute_result"
    },
    {
     "data": {
      "image/png": "[encoded data removed]",
      "text/plain": [
       "<Figure size 576x504 with 1 Axes>"
      ]
     },
     "metadata": {
      "needs_background": "light"
     },
     "output_type": "display_data"
    }
   ],
   "source": [
    "# Plotting the scatter plot of points and color coding by class\n",
    "plt.figure(figsize=(8,7))\n",
    "plt.scatter(testing_plot[:,0], testing_plot[:,1], alpha = 0.1, c = y_test.ravel());\n",
    "plt.title('Outputs')"
   ]
  },
  {
   "cell_type": "markdown",
   "id": "a74fcf8f",
   "metadata": {
    "papermill": {
     "duration": 0.044211,
     "end_time": "2022-09-15T00:49:05.676955",
     "exception": false,
     "start_time": "2022-09-15T00:49:05.632744",
     "status": "completed"
    },
    "tags": []
   },
   "source": [
    "Probability contours"
   ]
  },
  {
   "cell_type": "code",
   "execution_count": 27,
   "id": "d0afc8e3",
   "metadata": {
    "execution": {
     "iopub.execute_input": "2022-09-15T00:49:05.812059Z",
     "iopub.status.busy": "2022-09-15T00:49:05.802218Z",
     "iopub.status.idle": "2022-09-15T00:49:05.818335Z",
     "shell.execute_reply": "2022-09-15T00:49:05.818802Z"
    },
    "papermill": {
     "duration": 0.097234,
     "end_time": "2022-09-15T00:49:05.818943",
     "exception": false,
     "start_time": "2022-09-15T00:49:05.721709",
     "status": "completed"
    },
    "tags": []
   },
   "outputs": [],
   "source": [
    "model_prob = Model(layers[-2:]) "
   ]
  },
  {
   "cell_type": "code",
   "execution_count": 28,
   "id": "9b96e238",
   "metadata": {
    "execution": {
     "iopub.execute_input": "2022-09-15T00:49:05.918238Z",
     "iopub.status.busy": "2022-09-15T00:49:05.912929Z",
     "iopub.status.idle": "2022-09-15T00:49:05.932787Z",
     "shell.execute_reply": "2022-09-15T00:49:05.932207Z"
    },
    "papermill": {
     "duration": 0.069012,
     "end_time": "2022-09-15T00:49:05.932903",
     "exception": false,
     "start_time": "2022-09-15T00:49:05.863891",
     "status": "completed"
    },
    "tags": []
   },
   "outputs": [],
   "source": [
    "#creating the x and y ranges according to the above generated plot.\n",
    "x_range = np.linspace(-4, 1, 100) \n",
    "y_range = np.linspace(-6, 6, 100) \n",
    "x_grid, y_grid = np.meshgrid(x_range, y_range) # x_grid and y_grig are of size 100 X 100\n",
    "\n",
    "# converting x_grid and y_grid to continuous arrays\n",
    "x_gridflat = np.ravel(x_grid)\n",
    "y_gridflat = np.ravel(y_grid)\n",
    "\n",
    "# The last layer of the current model takes two columns as input. Hence transpose of np.vstack() is required.\n",
    "X = np.vstack((x_gridflat, y_gridflat)).T\n",
    "\n",
    "prob_contour = model_prob(X).reshape(100,100) "
   ]
  },
  {
   "cell_type": "code",
   "execution_count": 29,
   "id": "da72499a",
   "metadata": {
    "execution": {
     "iopub.execute_input": "2022-09-15T00:49:06.034015Z",
     "iopub.status.busy": "2022-09-15T00:49:06.032807Z",
     "iopub.status.idle": "2022-09-15T00:49:06.288164Z",
     "shell.execute_reply": "2022-09-15T00:49:06.288642Z"
    },
    "papermill": {
     "duration": 0.310849,
     "end_time": "2022-09-15T00:49:06.288786",
     "exception": false,
     "start_time": "2022-09-15T00:49:05.977937",
     "status": "completed"
    },
    "tags": []
   },
   "outputs": [
    {
     "data": {
      "image/png": "[encoded data removed]",
      "text/plain": [
       "<Figure size 720x648 with 1 Axes>"
      ]
     },
     "metadata": {
      "needs_background": "light"
     },
     "output_type": "display_data"
    }
   ],
   "source": [
    "plt.figure(figsize=(10,9))\n",
    "plt.scatter(testing_plot[:,0], testing_plot[:,1], alpha = 0.1, c = y_test.ravel())\n",
    "contours = plt.contour(x_grid,y_grid,prob_contour)\n",
    "plt.title('Probability Contours')\n",
    "plt.clabel(contours, inline = True );"
   ]
  },
  {
   "cell_type": "code",
   "execution_count": null,
   "id": "e81b4ac7",
   "metadata": {
    "papermill": {
     "duration": 0.046753,
     "end_time": "2022-09-15T00:49:06.382770",
     "exception": false,
     "start_time": "2022-09-15T00:49:06.336017",
     "status": "completed"
    },
    "tags": []
   },
   "outputs": [],
   "source": []
  }
 ],
 "metadata": {
  "kernelspec": {
   "display_name": "Python 3",
   "language": "python",
   "name": "python3"
  },
  "language_info": {
   "codemirror_mode": {
    "name": "ipython",
    "version": 3
   },
   "file_extension": ".py",
   "mimetype": "text/x-python",
   "name": "python",
   "nbconvert_exporter": "python",
   "pygments_lexer": "ipython3",
   "version": "3.6.15"
  },
  "papermill": {
   "default_parameters": {},
   "duration": 99.436104,
   "end_time": "2022-09-15T00:49:06.849352",
   "environment_variables": {},
   "exception": null,
   "input_path": "2020-08-11-part2.ipynb",
   "output_path": "2020-08-11-part2.ipynb",
   "parameters": {},
   "start_time": "2022-09-15T00:47:27.413248",
   "version": "2.3.3"
  }
 },
 "nbformat": 4,
 "nbformat_minor": 5
}