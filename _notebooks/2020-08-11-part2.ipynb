{
 "cells": [
  {
   "cell_type": "markdown",
   "id": "98380cd3",
   "metadata": {
    "papermill": {
     "duration": 0.036539,
     "end_time": "2022-08-31T20:11:17.754408",
     "exception": false,
     "start_time": "2022-08-31T20:11:17.717869",
     "status": "completed"
    },
    "tags": []
   },
   "source": [
    "# Distinguish Your Own Digits (DYOD)"
   ]
  },
  {
   "cell_type": "markdown",
   "id": "ef31240d",
   "metadata": {
    "papermill": {
     "duration": 0.02469,
     "end_time": "2022-08-31T20:11:17.805734",
     "exception": false,
     "start_time": "2022-08-31T20:11:17.781044",
     "status": "completed"
    },
    "tags": []
   },
   "source": [
    "You are going to write a classifier that distinguishes between the number 3 and number 8."
   ]
  },
  {
   "cell_type": "code",
   "execution_count": 1,
   "id": "b15c8646",
   "metadata": {
    "execution": {
     "iopub.execute_input": "2022-08-31T20:11:17.869390Z",
     "iopub.status.busy": "2022-08-31T20:11:17.866129Z",
     "iopub.status.idle": "2022-08-31T20:11:17.880618Z",
     "shell.execute_reply": "2022-08-31T20:11:17.881149Z"
    },
    "papermill": {
     "duration": 0.049876,
     "end_time": "2022-08-31T20:11:17.881301",
     "exception": false,
     "start_time": "2022-08-31T20:11:17.831425",
     "status": "completed"
    },
    "tags": []
   },
   "outputs": [],
   "source": [
    "%load_ext autoreload\n",
    "%autoreload 2"
   ]
  },
  {
   "cell_type": "code",
   "execution_count": 2,
   "id": "22ef38dc",
   "metadata": {
    "execution": {
     "iopub.execute_input": "2022-08-31T20:11:17.931270Z",
     "iopub.status.busy": "2022-08-31T20:11:17.930681Z",
     "iopub.status.idle": "2022-08-31T20:11:18.529808Z",
     "shell.execute_reply": "2022-08-31T20:11:18.529269Z"
    },
    "papermill": {
     "duration": 0.625791,
     "end_time": "2022-08-31T20:11:18.529960",
     "exception": false,
     "start_time": "2022-08-31T20:11:17.904169",
     "status": "completed"
    },
    "tags": []
   },
   "outputs": [],
   "source": [
    "%matplotlib inline\n",
    "import numpy as np\n",
    "import matplotlib.pyplot as plt\n",
    "import pandas as pd"
   ]
  },
  {
   "cell_type": "markdown",
   "id": "ba036198",
   "metadata": {
    "papermill": {
     "duration": 0.024188,
     "end_time": "2022-08-31T20:11:18.579628",
     "exception": false,
     "start_time": "2022-08-31T20:11:18.555440",
     "status": "completed"
    },
    "tags": []
   },
   "source": [
    "From the command line run `pip install mnist`. This is a library that will help you bring down the mnist dataset. If you run this from a notebook, you need to put  `!pip install mnist` in a cell by itself."
   ]
  },
  {
   "cell_type": "code",
   "execution_count": 3,
   "id": "bb6ad8a1",
   "metadata": {
    "execution": {
     "iopub.execute_input": "2022-08-31T20:11:18.635730Z",
     "iopub.status.busy": "2022-08-31T20:11:18.633556Z",
     "iopub.status.idle": "2022-08-31T20:11:21.341552Z",
     "shell.execute_reply": "2022-08-31T20:11:21.340667Z"
    },
    "papermill": {
     "duration": 2.738561,
     "end_time": "2022-08-31T20:11:21.341693",
     "exception": false,
     "start_time": "2022-08-31T20:11:18.603132",
     "status": "completed"
    },
    "tags": []
   },
   "outputs": [
    {
     "name": "stdout",
     "output_type": "stream",
     "text": [
      "Collecting mnist\r\n"
     ]
    },
    {
     "name": "stdout",
     "output_type": "stream",
     "text": [
      "  Downloading mnist-0.2.2-py2.py3-none-any.whl (3.5 kB)\r\n",
      "Requirement already satisfied: numpy in /opt/hostedtoolcache/Python/3.6.15/x64/lib/python3.6/site-packages (from mnist) (1.19.5)\r\n"
     ]
    },
    {
     "name": "stdout",
     "output_type": "stream",
     "text": [
      "Installing collected packages: mnist\r\n"
     ]
    },
    {
     "name": "stdout",
     "output_type": "stream",
     "text": [
      "Successfully installed mnist-0.2.2\r\n"
     ]
    }
   ],
   "source": [
    "!pip install mnist"
   ]
  },
  {
   "cell_type": "markdown",
   "id": "69df9c9a",
   "metadata": {
    "papermill": {
     "duration": 0.028452,
     "end_time": "2022-08-31T20:11:21.399016",
     "exception": false,
     "start_time": "2022-08-31T20:11:21.370564",
     "status": "completed"
    },
    "tags": []
   },
   "source": [
    "## Preparing the Data"
   ]
  },
  {
   "cell_type": "code",
   "execution_count": 4,
   "id": "7f69d806",
   "metadata": {
    "execution": {
     "iopub.execute_input": "2022-08-31T20:11:21.465209Z",
     "iopub.status.busy": "2022-08-31T20:11:21.464485Z",
     "iopub.status.idle": "2022-08-31T20:11:21.480889Z",
     "shell.execute_reply": "2022-08-31T20:11:21.480311Z"
    },
    "papermill": {
     "duration": 0.053879,
     "end_time": "2022-08-31T20:11:21.481021",
     "exception": false,
     "start_time": "2022-08-31T20:11:21.427142",
     "status": "completed"
    },
    "tags": []
   },
   "outputs": [],
   "source": [
    "import mnist"
   ]
  },
  {
   "cell_type": "code",
   "execution_count": 5,
   "id": "a411e44f",
   "metadata": {
    "execution": {
     "iopub.execute_input": "2022-08-31T20:11:21.541700Z",
     "iopub.status.busy": "2022-08-31T20:11:21.541034Z",
     "iopub.status.idle": "2022-08-31T20:11:22.170365Z",
     "shell.execute_reply": "2022-08-31T20:11:22.170940Z"
    },
    "papermill": {
     "duration": 0.662096,
     "end_time": "2022-08-31T20:11:22.171104",
     "exception": false,
     "start_time": "2022-08-31T20:11:21.509008",
     "status": "completed"
    },
    "tags": []
   },
   "outputs": [],
   "source": [
    "train_images = mnist.train_images()\n",
    "train_labels = mnist.train_labels()"
   ]
  },
  {
   "cell_type": "code",
   "execution_count": 6,
   "id": "dceab3a5",
   "metadata": {
    "execution": {
     "iopub.execute_input": "2022-08-31T20:11:22.231524Z",
     "iopub.status.busy": "2022-08-31T20:11:22.230871Z",
     "iopub.status.idle": "2022-08-31T20:11:22.247984Z",
     "shell.execute_reply": "2022-08-31T20:11:22.247423Z"
    },
    "papermill": {
     "duration": 0.048815,
     "end_time": "2022-08-31T20:11:22.248113",
     "exception": false,
     "start_time": "2022-08-31T20:11:22.199298",
     "status": "completed"
    },
    "tags": []
   },
   "outputs": [
    {
     "data": {
      "text/plain": [
       "((60000, 28, 28), (60000,))"
      ]
     },
     "execution_count": 6,
     "metadata": {},
     "output_type": "execute_result"
    }
   ],
   "source": [
    "train_images.shape, train_labels.shape"
   ]
  },
  {
   "cell_type": "code",
   "execution_count": 7,
   "id": "f50dc2bb",
   "metadata": {
    "execution": {
     "iopub.execute_input": "2022-08-31T20:11:22.310074Z",
     "iopub.status.busy": "2022-08-31T20:11:22.309372Z",
     "iopub.status.idle": "2022-08-31T20:11:22.502223Z",
     "shell.execute_reply": "2022-08-31T20:11:22.499947Z"
    },
    "papermill": {
     "duration": 0.225994,
     "end_time": "2022-08-31T20:11:22.502457",
     "exception": false,
     "start_time": "2022-08-31T20:11:22.276463",
     "status": "completed"
    },
    "tags": []
   },
   "outputs": [],
   "source": [
    "test_images = mnist.test_images()\n",
    "test_labels = mnist.test_labels()"
   ]
  },
  {
   "cell_type": "code",
   "execution_count": 8,
   "id": "fc38cf1b",
   "metadata": {
    "execution": {
     "iopub.execute_input": "2022-08-31T20:11:22.566655Z",
     "iopub.status.busy": "2022-08-31T20:11:22.565928Z",
     "iopub.status.idle": "2022-08-31T20:11:22.581259Z",
     "shell.execute_reply": "2022-08-31T20:11:22.580579Z"
    },
    "papermill": {
     "duration": 0.048756,
     "end_time": "2022-08-31T20:11:22.581396",
     "exception": false,
     "start_time": "2022-08-31T20:11:22.532640",
     "status": "completed"
    },
    "tags": []
   },
   "outputs": [
    {
     "data": {
      "text/plain": [
       "((10000, 28, 28), (10000,))"
      ]
     },
     "execution_count": 8,
     "metadata": {},
     "output_type": "execute_result"
    }
   ],
   "source": [
    "test_images.shape, test_labels.shape"
   ]
  },
  {
   "cell_type": "code",
   "execution_count": 9,
   "id": "f9ed8fe0",
   "metadata": {
    "execution": {
     "iopub.execute_input": "2022-08-31T20:11:22.647810Z",
     "iopub.status.busy": "2022-08-31T20:11:22.645198Z",
     "iopub.status.idle": "2022-08-31T20:11:22.806669Z",
     "shell.execute_reply": "2022-08-31T20:11:22.807252Z"
    },
    "papermill": {
     "duration": 0.196708,
     "end_time": "2022-08-31T20:11:22.807424",
     "exception": false,
     "start_time": "2022-08-31T20:11:22.610716",
     "status": "completed"
    },
    "tags": []
   },
   "outputs": [
    {
     "name": "stdout",
     "output_type": "stream",
     "text": [
      "2\n"
     ]
    },
    {
     "data": {
      "text/plain": [
       "<matplotlib.image.AxesImage at 0x7ff1c702c978>"
      ]
     },
     "execution_count": 9,
     "metadata": {},
     "output_type": "execute_result"
    },
    {
     "data": {
      "image/png": "[encoded data removed]",
      "text/plain": [
       "<Figure size 432x288 with 1 Axes>"
      ]
     },
     "metadata": {
      "needs_background": "light"
     },
     "output_type": "display_data"
    }
   ],
   "source": [
    "image_index = 7776 # You may select anything up to 60,000\n",
    "print(train_labels[image_index]) \n",
    "plt.imshow(train_images[image_index], cmap='Greys')"
   ]
  },
  {
   "cell_type": "markdown",
   "id": "a8d2388d",
   "metadata": {
    "papermill": {
     "duration": 0.029256,
     "end_time": "2022-08-31T20:11:22.867468",
     "exception": false,
     "start_time": "2022-08-31T20:11:22.838212",
     "status": "completed"
    },
    "tags": []
   },
   "source": [
    "## Filter data to get 3 and 8 out"
   ]
  },
  {
   "cell_type": "code",
   "execution_count": 10,
   "id": "776f7fc7",
   "metadata": {
    "execution": {
     "iopub.execute_input": "2022-08-31T20:11:22.935755Z",
     "iopub.status.busy": "2022-08-31T20:11:22.931541Z",
     "iopub.status.idle": "2022-08-31T20:11:22.949127Z",
     "shell.execute_reply": "2022-08-31T20:11:22.948450Z"
    },
    "papermill": {
     "duration": 0.052393,
     "end_time": "2022-08-31T20:11:22.949262",
     "exception": false,
     "start_time": "2022-08-31T20:11:22.896869",
     "status": "completed"
    },
    "tags": []
   },
   "outputs": [],
   "source": [
    "train_filter = np.where((train_labels == 3 ) | (train_labels == 8))\n",
    "test_filter = np.where((test_labels == 3) | (test_labels == 8))\n",
    "X_train, y_train = train_images[train_filter], train_labels[train_filter]\n",
    "X_test, y_test = test_images[test_filter], test_labels[test_filter]"
   ]
  },
  {
   "cell_type": "markdown",
   "id": "948f0b7e",
   "metadata": {
    "papermill": {
     "duration": 0.029257,
     "end_time": "2022-08-31T20:11:23.008093",
     "exception": false,
     "start_time": "2022-08-31T20:11:22.978836",
     "status": "completed"
    },
    "tags": []
   },
   "source": [
    "We normalize the pizel values in the 0 to 1 range"
   ]
  },
  {
   "cell_type": "code",
   "execution_count": 11,
   "id": "ee4c2166",
   "metadata": {
    "execution": {
     "iopub.execute_input": "2022-08-31T20:11:23.075674Z",
     "iopub.status.busy": "2022-08-31T20:11:23.070899Z",
     "iopub.status.idle": "2022-08-31T20:11:23.121468Z",
     "shell.execute_reply": "2022-08-31T20:11:23.120806Z"
    },
    "papermill": {
     "duration": 0.084585,
     "end_time": "2022-08-31T20:11:23.121600",
     "exception": false,
     "start_time": "2022-08-31T20:11:23.037015",
     "status": "completed"
    },
    "tags": []
   },
   "outputs": [],
   "source": [
    "X_train = X_train/255.\n",
    "X_test = X_test/255."
   ]
  },
  {
   "cell_type": "markdown",
   "id": "ddcf4fab",
   "metadata": {
    "papermill": {
     "duration": 0.030661,
     "end_time": "2022-08-31T20:11:23.181699",
     "exception": false,
     "start_time": "2022-08-31T20:11:23.151038",
     "status": "completed"
    },
    "tags": []
   },
   "source": [
    "And setup the labels as 1 (when the digit is 3) and 0 (when the digit is 8)"
   ]
  },
  {
   "cell_type": "code",
   "execution_count": 12,
   "id": "7dc908f2",
   "metadata": {
    "execution": {
     "iopub.execute_input": "2022-08-31T20:11:23.247421Z",
     "iopub.status.busy": "2022-08-31T20:11:23.244670Z",
     "iopub.status.idle": "2022-08-31T20:11:23.258437Z",
     "shell.execute_reply": "2022-08-31T20:11:23.258961Z"
    },
    "papermill": {
     "duration": 0.047861,
     "end_time": "2022-08-31T20:11:23.259114",
     "exception": false,
     "start_time": "2022-08-31T20:11:23.211253",
     "status": "completed"
    },
    "tags": []
   },
   "outputs": [],
   "source": [
    "y_train = 1*(y_train==3)\n",
    "y_test = 1*(y_test==3)"
   ]
  },
  {
   "cell_type": "code",
   "execution_count": 13,
   "id": "01e4e969",
   "metadata": {
    "execution": {
     "iopub.execute_input": "2022-08-31T20:11:23.327816Z",
     "iopub.status.busy": "2022-08-31T20:11:23.323857Z",
     "iopub.status.idle": "2022-08-31T20:11:23.340196Z",
     "shell.execute_reply": "2022-08-31T20:11:23.339678Z"
    },
    "papermill": {
     "duration": 0.051645,
     "end_time": "2022-08-31T20:11:23.340318",
     "exception": false,
     "start_time": "2022-08-31T20:11:23.288673",
     "status": "completed"
    },
    "tags": []
   },
   "outputs": [
    {
     "data": {
      "text/plain": [
       "((11982, 28, 28), (1984, 28, 28))"
      ]
     },
     "execution_count": 13,
     "metadata": {},
     "output_type": "execute_result"
    }
   ],
   "source": [
    "X_train.shape, X_test.shape"
   ]
  },
  {
   "cell_type": "markdown",
   "id": "5ccf3f85",
   "metadata": {
    "papermill": {
     "duration": 0.030024,
     "end_time": "2022-08-31T20:11:23.400688",
     "exception": false,
     "start_time": "2022-08-31T20:11:23.370664",
     "status": "completed"
    },
    "tags": []
   },
   "source": [
    "We reshape the data to flatten the image pixels into a set of features or co-variates:"
   ]
  },
  {
   "cell_type": "code",
   "execution_count": 14,
   "id": "5286a4a3",
   "metadata": {
    "execution": {
     "iopub.execute_input": "2022-08-31T20:11:23.469930Z",
     "iopub.status.busy": "2022-08-31T20:11:23.469286Z",
     "iopub.status.idle": "2022-08-31T20:11:23.482244Z",
     "shell.execute_reply": "2022-08-31T20:11:23.482791Z"
    },
    "papermill": {
     "duration": 0.052735,
     "end_time": "2022-08-31T20:11:23.482964",
     "exception": false,
     "start_time": "2022-08-31T20:11:23.430229",
     "status": "completed"
    },
    "tags": []
   },
   "outputs": [
    {
     "data": {
      "text/plain": [
       "((11982, 784), (1984, 784))"
      ]
     },
     "execution_count": 14,
     "metadata": {},
     "output_type": "execute_result"
    }
   ],
   "source": [
    "X_train = X_train.reshape(X_train.shape[0], -1)\n",
    "X_test = X_test.reshape(X_test.shape[0], -1)\n",
    "X_train.shape, X_test.shape"
   ]
  },
  {
   "cell_type": "code",
   "execution_count": 15,
   "id": "73c5f88a",
   "metadata": {
    "execution": {
     "iopub.execute_input": "2022-08-31T20:11:23.548884Z",
     "iopub.status.busy": "2022-08-31T20:11:23.548222Z",
     "iopub.status.idle": "2022-08-31T20:11:23.570093Z",
     "shell.execute_reply": "2022-08-31T20:11:23.569514Z"
    },
    "papermill": {
     "duration": 0.05675,
     "end_time": "2022-08-31T20:11:23.570235",
     "exception": false,
     "start_time": "2022-08-31T20:11:23.513485",
     "status": "completed"
    },
    "tags": []
   },
   "outputs": [],
   "source": [
    "#Impoting functions from 'Kudzu'\n",
    "from kudzu.model import Model\n",
    "from kudzu.train import Learner\n",
    "from kudzu.optim import GD\n",
    "from kudzu.data import Data, Sampler,Dataloader\n",
    "\n",
    "from kudzu.callbacks import AccCallback\n",
    "from kudzu.callbacks import ClfCallback\n",
    "\n",
    "from kudzu.loss import MSE\n",
    "\n",
    "from kudzu.layer import Sigmoid,Relu\n",
    "from kudzu.layer import Affine"
   ]
  },
  {
   "cell_type": "markdown",
   "id": "bc01172a",
   "metadata": {
    "papermill": {
     "duration": 0.030612,
     "end_time": "2022-08-31T20:11:23.631573",
     "exception": false,
     "start_time": "2022-08-31T20:11:23.600961",
     "status": "completed"
    },
    "tags": []
   },
   "source": [
    "### Let us create a `Config` class, to store important parameters. \n",
    "This class essentially plays the role of a dictionary."
   ]
  },
  {
   "cell_type": "code",
   "execution_count": 16,
   "id": "978281aa",
   "metadata": {
    "execution": {
     "iopub.execute_input": "2022-08-31T20:11:23.700524Z",
     "iopub.status.busy": "2022-08-31T20:11:23.699813Z",
     "iopub.status.idle": "2022-08-31T20:11:23.713688Z",
     "shell.execute_reply": "2022-08-31T20:11:23.713000Z"
    },
    "papermill": {
     "duration": 0.051681,
     "end_time": "2022-08-31T20:11:23.713822",
     "exception": false,
     "start_time": "2022-08-31T20:11:23.662141",
     "status": "completed"
    },
    "tags": []
   },
   "outputs": [],
   "source": [
    "class Config:\n",
    "    pass\n",
    "config = Config()\n",
    "config.lr = 0.001\n",
    "config.num_epochs = 250\n",
    "config.bs = 50"
   ]
  },
  {
   "cell_type": "markdown",
   "id": "1385fa59",
   "metadata": {
    "papermill": {
     "duration": 0.031476,
     "end_time": "2022-08-31T20:11:23.776340",
     "exception": false,
     "start_time": "2022-08-31T20:11:23.744864",
     "status": "completed"
    },
    "tags": []
   },
   "source": [
    "### Running Models with the Training data\n",
    "Details about the network layers:\n",
    "- A first affine layer has 784 inputs and does 100 affine transforms. These are followed by a Relu\n",
    "- A second affine layer has 100 inputs from the 100 activations of the past layer, and does 100 affine transforms. These are followed by a Relu\n",
    "- A third affine layer has 100 activations and does 2 affine transformations to create an embedding for visualization. There is no non-linearity here.\n",
    "- A final \"logistic regression\" which has an affine transform from 2 inputs to 1 output, which is squeezed through a sigmoid.\n"
   ]
  },
  {
   "cell_type": "code",
   "execution_count": 17,
   "id": "2b9c66db",
   "metadata": {
    "execution": {
     "iopub.execute_input": "2022-08-31T20:11:23.845199Z",
     "iopub.status.busy": "2022-08-31T20:11:23.844478Z",
     "iopub.status.idle": "2022-08-31T20:11:23.858572Z",
     "shell.execute_reply": "2022-08-31T20:11:23.857980Z"
    },
    "papermill": {
     "duration": 0.051116,
     "end_time": "2022-08-31T20:11:23.858705",
     "exception": false,
     "start_time": "2022-08-31T20:11:23.807589",
     "status": "completed"
    },
    "tags": []
   },
   "outputs": [],
   "source": [
    "data = Data(X_train, y_train.reshape(-1,1))\n",
    "sampler = Sampler(data, config.bs, shuffle=True)\n",
    "\n",
    "dl = Dataloader(data, sampler)\n",
    "\n",
    "opt = GD(config.lr)\n",
    "loss = MSE()"
   ]
  },
  {
   "cell_type": "code",
   "execution_count": 18,
   "id": "b275e4c2",
   "metadata": {
    "execution": {
     "iopub.execute_input": "2022-08-31T20:11:23.928510Z",
     "iopub.status.busy": "2022-08-31T20:11:23.927811Z",
     "iopub.status.idle": "2022-08-31T20:11:23.943498Z",
     "shell.execute_reply": "2022-08-31T20:11:23.942916Z"
    },
    "papermill": {
     "duration": 0.053616,
     "end_time": "2022-08-31T20:11:23.943634",
     "exception": false,
     "start_time": "2022-08-31T20:11:23.890018",
     "status": "completed"
    },
    "tags": []
   },
   "outputs": [],
   "source": [
    "training_data_x = X_train\n",
    "testing_data_x = X_test\n",
    "training_data_y = y_train.reshape(-1,1)\n",
    "testing_data_y = y_test.reshape(-1,1)"
   ]
  },
  {
   "cell_type": "code",
   "execution_count": 19,
   "id": "76951160",
   "metadata": {
    "execution": {
     "iopub.execute_input": "2022-08-31T20:11:24.015068Z",
     "iopub.status.busy": "2022-08-31T20:11:24.014315Z",
     "iopub.status.idle": "2022-08-31T20:11:24.032925Z",
     "shell.execute_reply": "2022-08-31T20:11:24.032370Z"
    },
    "papermill": {
     "duration": 0.058808,
     "end_time": "2022-08-31T20:11:24.033065",
     "exception": false,
     "start_time": "2022-08-31T20:11:23.974257",
     "status": "completed"
    },
    "tags": []
   },
   "outputs": [
    {
     "name": "stdout",
     "output_type": "stream",
     "text": [
      "xavier\n",
      "xavier\n",
      "xavier\n",
      "xavier\n",
      "xavier\n"
     ]
    }
   ],
   "source": [
    "layers = [Affine(\"first\", 784, 100), Relu(\"first\"), Affine(\"second\", 100, 100), Relu(\"second\"), Affine(\"third\", 100, 2), Affine(\"last\", 2, 1), Sigmoid(\"last\")]\n",
    "model_nn = Model(layers)\n",
    "model_lr = Model([Affine(\"logits\", 784, 1), Sigmoid(\"sigmoid\")])"
   ]
  },
  {
   "cell_type": "code",
   "execution_count": 20,
   "id": "6eede77a",
   "metadata": {
    "execution": {
     "iopub.execute_input": "2022-08-31T20:11:24.105734Z",
     "iopub.status.busy": "2022-08-31T20:11:24.105046Z",
     "iopub.status.idle": "2022-08-31T20:11:24.117653Z",
     "shell.execute_reply": "2022-08-31T20:11:24.116972Z"
    },
    "papermill": {
     "duration": 0.053404,
     "end_time": "2022-08-31T20:11:24.117788",
     "exception": false,
     "start_time": "2022-08-31T20:11:24.064384",
     "status": "completed"
    },
    "tags": []
   },
   "outputs": [],
   "source": [
    "nn_learner = Learner(loss, model_nn, opt, config.num_epochs)\n",
    "acc_nn = ClfCallback(nn_learner, config.bs, training_data_x , testing_data_x, training_data_y, testing_data_y)\n",
    "nn_learner.set_callbacks([acc_nn])"
   ]
  },
  {
   "cell_type": "code",
   "execution_count": 21,
   "id": "877b6cc7",
   "metadata": {
    "execution": {
     "iopub.execute_input": "2022-08-31T20:11:24.185599Z",
     "iopub.status.busy": "2022-08-31T20:11:24.184926Z",
     "iopub.status.idle": "2022-08-31T20:11:24.200551Z",
     "shell.execute_reply": "2022-08-31T20:11:24.199958Z"
    },
    "papermill": {
     "duration": 0.051494,
     "end_time": "2022-08-31T20:11:24.200674",
     "exception": false,
     "start_time": "2022-08-31T20:11:24.149180",
     "status": "completed"
    },
    "tags": []
   },
   "outputs": [],
   "source": [
    "lr_learner = Learner(loss, model_lr, opt, config.num_epochs)\n",
    "acc_lr = ClfCallback(lr_learner, config.bs, training_data_x , testing_data_x, training_data_y, testing_data_y)\n",
    "lr_learner.set_callbacks([acc_lr])"
   ]
  },
  {
   "cell_type": "code",
   "execution_count": 22,
   "id": "d9b133c3",
   "metadata": {
    "execution": {
     "iopub.execute_input": "2022-08-31T20:11:24.268620Z",
     "iopub.status.busy": "2022-08-31T20:11:24.267934Z",
     "iopub.status.idle": "2022-08-31T20:12:48.749171Z",
     "shell.execute_reply": "2022-08-31T20:12:48.750163Z"
    },
    "papermill": {
     "duration": 84.518297,
     "end_time": "2022-08-31T20:12:48.750333",
     "exception": false,
     "start_time": "2022-08-31T20:11:24.232036",
     "status": "completed"
    },
    "tags": []
   },
   "outputs": [
    {
     "name": "stdout",
     "output_type": "stream",
     "text": [
      "Epoch 0, Loss 0.243\n",
      "Training Accuracy: 0.5108, Testing Accuracy: 0.5116\n",
      "\n"
     ]
    },
    {
     "name": "stdout",
     "output_type": "stream",
     "text": [
      "Epoch 10, Loss 0.1284\n",
      "Training Accuracy: 0.9035, Testing Accuracy: 0.9143\n",
      "\n"
     ]
    },
    {
     "name": "stdout",
     "output_type": "stream",
     "text": [
      "Epoch 20, Loss 0.0685\n",
      "Training Accuracy: 0.9312, Testing Accuracy: 0.9415\n",
      "\n"
     ]
    },
    {
     "name": "stdout",
     "output_type": "stream",
     "text": [
      "Epoch 30, Loss 0.0502\n",
      "Training Accuracy: 0.9460, Testing Accuracy: 0.9572\n",
      "\n"
     ]
    },
    {
     "name": "stdout",
     "output_type": "stream",
     "text": [
      "Epoch 40, Loss 0.042\n",
      "Training Accuracy: 0.9532, Testing Accuracy: 0.9652\n",
      "\n"
     ]
    },
    {
     "name": "stdout",
     "output_type": "stream",
     "text": [
      "Epoch 50, Loss 0.0373\n",
      "Training Accuracy: 0.9584, Testing Accuracy: 0.9662\n",
      "\n"
     ]
    },
    {
     "name": "stdout",
     "output_type": "stream",
     "text": [
      "Epoch 60, Loss 0.0343\n",
      "Training Accuracy: 0.9606, Testing Accuracy: 0.9682\n",
      "\n"
     ]
    },
    {
     "name": "stdout",
     "output_type": "stream",
     "text": [
      "Epoch 70, Loss 0.0321\n",
      "Training Accuracy: 0.9624, Testing Accuracy: 0.9688\n",
      "\n"
     ]
    },
    {
     "name": "stdout",
     "output_type": "stream",
     "text": [
      "Epoch 80, Loss 0.0304\n",
      "Training Accuracy: 0.9634, Testing Accuracy: 0.9682\n",
      "\n"
     ]
    },
    {
     "name": "stdout",
     "output_type": "stream",
     "text": [
      "Epoch 90, Loss 0.0291\n",
      "Training Accuracy: 0.9653, Testing Accuracy: 0.9682\n",
      "\n"
     ]
    },
    {
     "name": "stdout",
     "output_type": "stream",
     "text": [
      "Epoch 100, Loss 0.0279\n",
      "Training Accuracy: 0.9664, Testing Accuracy: 0.9698\n",
      "\n"
     ]
    },
    {
     "name": "stdout",
     "output_type": "stream",
     "text": [
      "Epoch 110, Loss 0.0269\n",
      "Training Accuracy: 0.9677, Testing Accuracy: 0.9703\n",
      "\n"
     ]
    },
    {
     "name": "stdout",
     "output_type": "stream",
     "text": [
      "Epoch 120, Loss 0.0261\n",
      "Training Accuracy: 0.9691, Testing Accuracy: 0.9708\n",
      "\n"
     ]
    },
    {
     "name": "stdout",
     "output_type": "stream",
     "text": [
      "Epoch 130, Loss 0.0253\n",
      "Training Accuracy: 0.9705, Testing Accuracy: 0.9718\n",
      "\n"
     ]
    },
    {
     "name": "stdout",
     "output_type": "stream",
     "text": [
      "Epoch 140, Loss 0.0246\n",
      "Training Accuracy: 0.9715, Testing Accuracy: 0.9718\n",
      "\n"
     ]
    },
    {
     "name": "stdout",
     "output_type": "stream",
     "text": [
      "Epoch 150, Loss 0.0239\n",
      "Training Accuracy: 0.9721, Testing Accuracy: 0.9718\n",
      "\n"
     ]
    },
    {
     "name": "stdout",
     "output_type": "stream",
     "text": [
      "Epoch 160, Loss 0.0233\n",
      "Training Accuracy: 0.9729, Testing Accuracy: 0.9713\n",
      "\n"
     ]
    },
    {
     "name": "stdout",
     "output_type": "stream",
     "text": [
      "Epoch 170, Loss 0.0228\n",
      "Training Accuracy: 0.9743, Testing Accuracy: 0.9713\n",
      "\n"
     ]
    },
    {
     "name": "stdout",
     "output_type": "stream",
     "text": [
      "Epoch 180, Loss 0.0222\n",
      "Training Accuracy: 0.9749, Testing Accuracy: 0.9713\n",
      "\n"
     ]
    },
    {
     "name": "stdout",
     "output_type": "stream",
     "text": [
      "Epoch 190, Loss 0.0218\n",
      "Training Accuracy: 0.9753, Testing Accuracy: 0.9708\n",
      "\n"
     ]
    },
    {
     "name": "stdout",
     "output_type": "stream",
     "text": [
      "Epoch 200, Loss 0.0213\n",
      "Training Accuracy: 0.9757, Testing Accuracy: 0.9723\n",
      "\n"
     ]
    },
    {
     "name": "stdout",
     "output_type": "stream",
     "text": [
      "Epoch 210, Loss 0.0209\n",
      "Training Accuracy: 0.9765, Testing Accuracy: 0.9728\n",
      "\n"
     ]
    },
    {
     "name": "stdout",
     "output_type": "stream",
     "text": [
      "Epoch 220, Loss 0.0205\n",
      "Training Accuracy: 0.9774, Testing Accuracy: 0.9723\n",
      "\n"
     ]
    },
    {
     "name": "stdout",
     "output_type": "stream",
     "text": [
      "Epoch 230, Loss 0.0201\n",
      "Training Accuracy: 0.9781, Testing Accuracy: 0.9738\n",
      "\n"
     ]
    },
    {
     "name": "stdout",
     "output_type": "stream",
     "text": [
      "Epoch 240, Loss 0.0197\n",
      "Training Accuracy: 0.9784, Testing Accuracy: 0.9738\n",
      "\n"
     ]
    },
    {
     "data": {
      "text/plain": [
       "0.008830373057639099"
      ]
     },
     "execution_count": 22,
     "metadata": {},
     "output_type": "execute_result"
    }
   ],
   "source": [
    "nn_learner.train_loop(dl)"
   ]
  },
  {
   "cell_type": "code",
   "execution_count": 23,
   "id": "e0163366",
   "metadata": {
    "execution": {
     "iopub.execute_input": "2022-08-31T20:12:48.841382Z",
     "iopub.status.busy": "2022-08-31T20:12:48.840672Z",
     "iopub.status.idle": "2022-08-31T20:13:04.360279Z",
     "shell.execute_reply": "2022-08-31T20:13:04.361238Z"
    },
    "papermill": {
     "duration": 15.569919,
     "end_time": "2022-08-31T20:13:04.361409",
     "exception": false,
     "start_time": "2022-08-31T20:12:48.791490",
     "status": "completed"
    },
    "tags": []
   },
   "outputs": [
    {
     "name": "stdout",
     "output_type": "stream",
     "text": [
      "Epoch 0, Loss 0.2362\n",
      "Training Accuracy: 0.7201, Testing Accuracy: 0.7051\n",
      "\n"
     ]
    },
    {
     "name": "stdout",
     "output_type": "stream",
     "text": [
      "Epoch 10, Loss 0.1035\n",
      "Training Accuracy: 0.9059, Testing Accuracy: 0.9163\n",
      "\n"
     ]
    },
    {
     "name": "stdout",
     "output_type": "stream",
     "text": [
      "Epoch 20, Loss 0.0794\n",
      "Training Accuracy: 0.9282, Testing Accuracy: 0.9340\n",
      "\n"
     ]
    },
    {
     "name": "stdout",
     "output_type": "stream",
     "text": [
      "Epoch 30, Loss 0.0681\n",
      "Training Accuracy: 0.9372, Testing Accuracy: 0.9430\n",
      "\n"
     ]
    },
    {
     "name": "stdout",
     "output_type": "stream",
     "text": [
      "Epoch 40, Loss 0.0614\n",
      "Training Accuracy: 0.9424, Testing Accuracy: 0.9486\n",
      "\n"
     ]
    },
    {
     "name": "stdout",
     "output_type": "stream",
     "text": [
      "Epoch 50, Loss 0.0568\n",
      "Training Accuracy: 0.9460, Testing Accuracy: 0.9526\n",
      "\n"
     ]
    },
    {
     "name": "stdout",
     "output_type": "stream",
     "text": [
      "Epoch 60, Loss 0.0535\n",
      "Training Accuracy: 0.9493, Testing Accuracy: 0.9551\n",
      "\n"
     ]
    },
    {
     "name": "stdout",
     "output_type": "stream",
     "text": [
      "Epoch 70, Loss 0.0509\n",
      "Training Accuracy: 0.9508, Testing Accuracy: 0.9577\n",
      "\n"
     ]
    },
    {
     "name": "stdout",
     "output_type": "stream",
     "text": [
      "Epoch 80, Loss 0.0489\n",
      "Training Accuracy: 0.9514, Testing Accuracy: 0.9592\n",
      "\n"
     ]
    },
    {
     "name": "stdout",
     "output_type": "stream",
     "text": [
      "Epoch 90, Loss 0.0472\n",
      "Training Accuracy: 0.9530, Testing Accuracy: 0.9612\n",
      "\n"
     ]
    },
    {
     "name": "stdout",
     "output_type": "stream",
     "text": [
      "Epoch 100, Loss 0.0458\n",
      "Training Accuracy: 0.9538, Testing Accuracy: 0.9622\n",
      "\n"
     ]
    },
    {
     "name": "stdout",
     "output_type": "stream",
     "text": [
      "Epoch 110, Loss 0.0446\n",
      "Training Accuracy: 0.9550, Testing Accuracy: 0.9622\n",
      "\n"
     ]
    },
    {
     "name": "stdout",
     "output_type": "stream",
     "text": [
      "Epoch 120, Loss 0.0435\n",
      "Training Accuracy: 0.9559, Testing Accuracy: 0.9632\n",
      "\n"
     ]
    },
    {
     "name": "stdout",
     "output_type": "stream",
     "text": [
      "Epoch 130, Loss 0.0426\n",
      "Training Accuracy: 0.9569, Testing Accuracy: 0.9642\n",
      "\n"
     ]
    },
    {
     "name": "stdout",
     "output_type": "stream",
     "text": [
      "Epoch 140, Loss 0.0418\n",
      "Training Accuracy: 0.9573, Testing Accuracy: 0.9647\n",
      "\n"
     ]
    },
    {
     "name": "stdout",
     "output_type": "stream",
     "text": [
      "Epoch 150, Loss 0.0411\n",
      "Training Accuracy: 0.9579, Testing Accuracy: 0.9642\n",
      "\n"
     ]
    },
    {
     "name": "stdout",
     "output_type": "stream",
     "text": [
      "Epoch 160, Loss 0.0404\n",
      "Training Accuracy: 0.9581, Testing Accuracy: 0.9637\n",
      "\n"
     ]
    },
    {
     "name": "stdout",
     "output_type": "stream",
     "text": [
      "Epoch 170, Loss 0.0398\n",
      "Training Accuracy: 0.9584, Testing Accuracy: 0.9632\n",
      "\n"
     ]
    },
    {
     "name": "stdout",
     "output_type": "stream",
     "text": [
      "Epoch 180, Loss 0.0392\n",
      "Training Accuracy: 0.9589, Testing Accuracy: 0.9627\n",
      "\n"
     ]
    },
    {
     "name": "stdout",
     "output_type": "stream",
     "text": [
      "Epoch 190, Loss 0.0387\n",
      "Training Accuracy: 0.9593, Testing Accuracy: 0.9632\n",
      "\n"
     ]
    },
    {
     "name": "stdout",
     "output_type": "stream",
     "text": [
      "Epoch 200, Loss 0.0383\n",
      "Training Accuracy: 0.9594, Testing Accuracy: 0.9632\n",
      "\n"
     ]
    },
    {
     "name": "stdout",
     "output_type": "stream",
     "text": [
      "Epoch 210, Loss 0.0378\n",
      "Training Accuracy: 0.9595, Testing Accuracy: 0.9632\n",
      "\n"
     ]
    },
    {
     "name": "stdout",
     "output_type": "stream",
     "text": [
      "Epoch 220, Loss 0.0374\n",
      "Training Accuracy: 0.9599, Testing Accuracy: 0.9627\n",
      "\n"
     ]
    },
    {
     "name": "stdout",
     "output_type": "stream",
     "text": [
      "Epoch 230, Loss 0.037\n",
      "Training Accuracy: 0.9604, Testing Accuracy: 0.9627\n",
      "\n"
     ]
    },
    {
     "name": "stdout",
     "output_type": "stream",
     "text": [
      "Epoch 240, Loss 0.0367\n",
      "Training Accuracy: 0.9608, Testing Accuracy: 0.9627\n",
      "\n"
     ]
    },
    {
     "data": {
      "text/plain": [
       "0.0774550692423069"
      ]
     },
     "execution_count": 23,
     "metadata": {},
     "output_type": "execute_result"
    }
   ],
   "source": [
    "lr_learner.train_loop(dl)"
   ]
  },
  {
   "cell_type": "code",
   "execution_count": 24,
   "id": "ca410940",
   "metadata": {
    "execution": {
     "iopub.execute_input": "2022-08-31T20:13:04.465205Z",
     "iopub.status.busy": "2022-08-31T20:13:04.464509Z",
     "iopub.status.idle": "2022-08-31T20:13:04.714485Z",
     "shell.execute_reply": "2022-08-31T20:13:04.713904Z"
    },
    "papermill": {
     "duration": 0.304675,
     "end_time": "2022-08-31T20:13:04.714624",
     "exception": false,
     "start_time": "2022-08-31T20:13:04.409949",
     "status": "completed"
    },
    "tags": []
   },
   "outputs": [
    {
     "data": {
      "text/plain": [
       "<matplotlib.legend.Legend at 0x7ff1ba3e1fd0>"
      ]
     },
     "execution_count": 24,
     "metadata": {},
     "output_type": "execute_result"
    },
    {
     "data": {
      "image/png": "[encoded data removed]",
      "text/plain": [
       "<Figure size 1080x720 with 1 Axes>"
      ]
     },
     "metadata": {
      "needs_background": "light"
     },
     "output_type": "display_data"
    }
   ],
   "source": [
    "#comparing the results of NN and LR\n",
    "plt.figure(figsize=(15,10))\n",
    "\n",
    "# Neural Network plots\n",
    "plt.plot(acc_nn.accuracies, 'r-', label = \"Training Accuracies - NN\")\n",
    "plt.plot(acc_nn.test_accuracies, 'g-', label = \"Testing Accuracies - NN\")\n",
    "\n",
    "# Logistic Regression plots\n",
    "plt.plot(acc_lr.accuracies, 'k-', label = \"Training Accuracies - LR\")\n",
    "plt.plot(acc_lr.test_accuracies, 'b-', label = \"Testing Accuracies - LR\")\n",
    "plt.legend()"
   ]
  },
  {
   "cell_type": "markdown",
   "id": "80dfb35c",
   "metadata": {
    "papermill": {
     "duration": 0.048252,
     "end_time": "2022-08-31T20:13:04.811342",
     "exception": false,
     "start_time": "2022-08-31T20:13:04.763090",
     "status": "completed"
    },
    "tags": []
   },
   "source": [
    "#### Plotting the outputs of this layer of the NN.\n"
   ]
  },
  {
   "cell_type": "code",
   "execution_count": 25,
   "id": "45eb2ff5",
   "metadata": {
    "execution": {
     "iopub.execute_input": "2022-08-31T20:13:04.915870Z",
     "iopub.status.busy": "2022-08-31T20:13:04.915137Z",
     "iopub.status.idle": "2022-08-31T20:13:04.936621Z",
     "shell.execute_reply": "2022-08-31T20:13:04.937503Z"
    },
    "papermill": {
     "duration": 0.077426,
     "end_time": "2022-08-31T20:13:04.937672",
     "exception": false,
     "start_time": "2022-08-31T20:13:04.860246",
     "status": "completed"
    },
    "tags": []
   },
   "outputs": [],
   "source": [
    "new_model = Model(layers[:-2])\n",
    "testing_plot = new_model(testing_data_x)"
   ]
  },
  {
   "cell_type": "code",
   "execution_count": 26,
   "id": "4c0a5485",
   "metadata": {
    "execution": {
     "iopub.execute_input": "2022-08-31T20:13:05.040647Z",
     "iopub.status.busy": "2022-08-31T20:13:05.039961Z",
     "iopub.status.idle": "2022-08-31T20:13:05.266686Z",
     "shell.execute_reply": "2022-08-31T20:13:05.266017Z"
    },
    "papermill": {
     "duration": 0.28071,
     "end_time": "2022-08-31T20:13:05.266867",
     "exception": false,
     "start_time": "2022-08-31T20:13:04.986157",
     "status": "completed"
    },
    "tags": []
   },
   "outputs": [
    {
     "data": {
      "text/plain": [
       "Text(0.5, 1.0, 'Outputs')"
      ]
     },
     "execution_count": 26,
     "metadata": {},
     "output_type": "execute_result"
    },
    {
     "data": {
      "image/png": "[encoded data removed]",
      "text/plain": [
       "<Figure size 576x504 with 1 Axes>"
      ]
     },
     "metadata": {
      "needs_background": "light"
     },
     "output_type": "display_data"
    }
   ],
   "source": [
    "# Plotting the scatter plot of points and color coding by class\n",
    "plt.figure(figsize=(8,7))\n",
    "plt.scatter(testing_plot[:,0], testing_plot[:,1], alpha = 0.1, c = y_test.ravel());\n",
    "plt.title('Outputs')"
   ]
  },
  {
   "cell_type": "markdown",
   "id": "a74fcf8f",
   "metadata": {
    "papermill": {
     "duration": 0.051519,
     "end_time": "2022-08-31T20:13:05.369931",
     "exception": false,
     "start_time": "2022-08-31T20:13:05.318412",
     "status": "completed"
    },
    "tags": []
   },
   "source": [
    "Probability contours"
   ]
  },
  {
   "cell_type": "code",
   "execution_count": 27,
   "id": "d0afc8e3",
   "metadata": {
    "execution": {
     "iopub.execute_input": "2022-08-31T20:13:05.507622Z",
     "iopub.status.busy": "2022-08-31T20:13:05.505338Z",
     "iopub.status.idle": "2022-08-31T20:13:05.519232Z",
     "shell.execute_reply": "2022-08-31T20:13:05.518507Z"
    },
    "papermill": {
     "duration": 0.07038,
     "end_time": "2022-08-31T20:13:05.519367",
     "exception": false,
     "start_time": "2022-08-31T20:13:05.448987",
     "status": "completed"
    },
    "tags": []
   },
   "outputs": [],
   "source": [
    "model_prob = Model(layers[-2:]) "
   ]
  },
  {
   "cell_type": "code",
   "execution_count": 28,
   "id": "9b96e238",
   "metadata": {
    "execution": {
     "iopub.execute_input": "2022-08-31T20:13:05.626042Z",
     "iopub.status.busy": "2022-08-31T20:13:05.625390Z",
     "iopub.status.idle": "2022-08-31T20:13:05.639662Z",
     "shell.execute_reply": "2022-08-31T20:13:05.640176Z"
    },
    "papermill": {
     "duration": 0.071191,
     "end_time": "2022-08-31T20:13:05.640337",
     "exception": false,
     "start_time": "2022-08-31T20:13:05.569146",
     "status": "completed"
    },
    "tags": []
   },
   "outputs": [],
   "source": [
    "#creating the x and y ranges according to the above generated plot.\n",
    "x_range = np.linspace(-4, 1, 100) \n",
    "y_range = np.linspace(-6, 6, 100) \n",
    "x_grid, y_grid = np.meshgrid(x_range, y_range) # x_grid and y_grig are of size 100 X 100\n",
    "\n",
    "# converting x_grid and y_grid to continuous arrays\n",
    "x_gridflat = np.ravel(x_grid)\n",
    "y_gridflat = np.ravel(y_grid)\n",
    "\n",
    "# The last layer of the current model takes two columns as input. Hence transpose of np.vstack() is required.\n",
    "X = np.vstack((x_gridflat, y_gridflat)).T\n",
    "\n",
    "prob_contour = model_prob(X).reshape(100,100) "
   ]
  },
  {
   "cell_type": "code",
   "execution_count": 29,
   "id": "da72499a",
   "metadata": {
    "execution": {
     "iopub.execute_input": "2022-08-31T20:13:05.749124Z",
     "iopub.status.busy": "2022-08-31T20:13:05.748437Z",
     "iopub.status.idle": "2022-08-31T20:13:06.028367Z",
     "shell.execute_reply": "2022-08-31T20:13:06.029014Z"
    },
    "papermill": {
     "duration": 0.338609,
     "end_time": "2022-08-31T20:13:06.029174",
     "exception": false,
     "start_time": "2022-08-31T20:13:05.690565",
     "status": "completed"
    },
    "tags": []
   },
   "outputs": [
    {
     "data": {
      "image/png": "[encoded data removed]",
      "text/plain": [
       "<Figure size 720x648 with 1 Axes>"
      ]
     },
     "metadata": {
      "needs_background": "light"
     },
     "output_type": "display_data"
    }
   ],
   "source": [
    "plt.figure(figsize=(10,9))\n",
    "plt.scatter(testing_plot[:,0], testing_plot[:,1], alpha = 0.1, c = y_test.ravel())\n",
    "contours = plt.contour(x_grid,y_grid,prob_contour)\n",
    "plt.title('Probability Contours')\n",
    "plt.clabel(contours, inline = True );"
   ]
  },
  {
   "cell_type": "code",
   "execution_count": null,
   "id": "e81b4ac7",
   "metadata": {
    "papermill": {
     "duration": 0.051423,
     "end_time": "2022-08-31T20:13:06.132129",
     "exception": false,
     "start_time": "2022-08-31T20:13:06.080706",
     "status": "completed"
    },
    "tags": []
   },
   "outputs": [],
   "source": []
  }
 ],
 "metadata": {
  "kernelspec": {
   "display_name": "Python 3",
   "language": "python",
   "name": "python3"
  },
  "language_info": {
   "codemirror_mode": {
    "name": "ipython",
    "version": 3
   },
   "file_extension": ".py",
   "mimetype": "text/x-python",
   "name": "python",
   "nbconvert_exporter": "python",
   "pygments_lexer": "ipython3",
   "version": "3.6.15"
  },
  "papermill": {
   "default_parameters": {},
   "duration": 110.167001,
   "end_time": "2022-08-31T20:13:06.607693",
   "environment_variables": {},
   "exception": null,
   "input_path": "2020-08-11-part2.ipynb",
   "output_path": "2020-08-11-part2.ipynb",
   "parameters": {},
   "start_time": "2022-08-31T20:11:16.440692",
   "version": "2.3.3"
  }
 },
 "nbformat": 4,
 "nbformat_minor": 5
}