{
 "cells": [
  {
   "cell_type": "markdown",
   "id": "98380cd3",
   "metadata": {
    "papermill": {
     "duration": 0.029067,
     "end_time": "2022-05-02T20:24:50.152755",
     "exception": false,
     "start_time": "2022-05-02T20:24:50.123688",
     "status": "completed"
    },
    "tags": []
   },
   "source": [
    "# Distinguish Your Own Digits (DYOD)"
   ]
  },
  {
   "cell_type": "markdown",
   "id": "ef31240d",
   "metadata": {
    "papermill": {
     "duration": 0.026035,
     "end_time": "2022-05-02T20:24:50.204770",
     "exception": false,
     "start_time": "2022-05-02T20:24:50.178735",
     "status": "completed"
    },
    "tags": []
   },
   "source": [
    "You are going to write a classifier that distinguishes between the number 3 and number 8."
   ]
  },
  {
   "cell_type": "code",
   "execution_count": 1,
   "id": "b15c8646",
   "metadata": {
    "execution": {
     "iopub.execute_input": "2022-05-02T20:24:50.264011Z",
     "iopub.status.busy": "2022-05-02T20:24:50.263365Z",
     "iopub.status.idle": "2022-05-02T20:24:50.274650Z",
     "shell.execute_reply": "2022-05-02T20:24:50.274163Z"
    },
    "papermill": {
     "duration": 0.045817,
     "end_time": "2022-05-02T20:24:50.274791",
     "exception": false,
     "start_time": "2022-05-02T20:24:50.228974",
     "status": "completed"
    },
    "tags": []
   },
   "outputs": [],
   "source": [
    "%load_ext autoreload\n",
    "%autoreload 2"
   ]
  },
  {
   "cell_type": "code",
   "execution_count": 2,
   "id": "22ef38dc",
   "metadata": {
    "execution": {
     "iopub.execute_input": "2022-05-02T20:24:50.330027Z",
     "iopub.status.busy": "2022-05-02T20:24:50.329461Z",
     "iopub.status.idle": "2022-05-02T20:24:50.906876Z",
     "shell.execute_reply": "2022-05-02T20:24:50.906326Z"
    },
    "papermill": {
     "duration": 0.607882,
     "end_time": "2022-05-02T20:24:50.907025",
     "exception": false,
     "start_time": "2022-05-02T20:24:50.299143",
     "status": "completed"
    },
    "tags": []
   },
   "outputs": [],
   "source": [
    "%matplotlib inline\n",
    "import numpy as np\n",
    "import matplotlib.pyplot as plt\n",
    "import pandas as pd"
   ]
  },
  {
   "cell_type": "markdown",
   "id": "ba036198",
   "metadata": {
    "papermill": {
     "duration": 0.025129,
     "end_time": "2022-05-02T20:24:50.956700",
     "exception": false,
     "start_time": "2022-05-02T20:24:50.931571",
     "status": "completed"
    },
    "tags": []
   },
   "source": [
    "From the command line run `pip install mnist`. This is a library that will help you bring down the mnist dataset. If you run this from a notebook, you need to put  `!pip install mnist` in a cell by itself."
   ]
  },
  {
   "cell_type": "code",
   "execution_count": 3,
   "id": "bb6ad8a1",
   "metadata": {
    "execution": {
     "iopub.execute_input": "2022-05-02T20:24:51.016205Z",
     "iopub.status.busy": "2022-05-02T20:24:51.015633Z",
     "iopub.status.idle": "2022-05-02T20:24:53.881806Z",
     "shell.execute_reply": "2022-05-02T20:24:53.882308Z"
    },
    "papermill": {
     "duration": 2.900724,
     "end_time": "2022-05-02T20:24:53.882487",
     "exception": false,
     "start_time": "2022-05-02T20:24:50.981763",
     "status": "completed"
    },
    "tags": []
   },
   "outputs": [
    {
     "name": "stdout",
     "output_type": "stream",
     "text": [
      "Collecting mnist\r\n"
     ]
    },
    {
     "name": "stdout",
     "output_type": "stream",
     "text": [
      "  Downloading mnist-0.2.2-py2.py3-none-any.whl (3.5 kB)\r\n",
      "Requirement already satisfied: numpy in /opt/hostedtoolcache/Python/3.6.15/x64/lib/python3.6/site-packages (from mnist) (1.19.5)\r\n"
     ]
    },
    {
     "name": "stdout",
     "output_type": "stream",
     "text": [
      "Installing collected packages: mnist\r\n"
     ]
    },
    {
     "name": "stdout",
     "output_type": "stream",
     "text": [
      "Successfully installed mnist-0.2.2\r\n"
     ]
    }
   ],
   "source": [
    "!pip install mnist"
   ]
  },
  {
   "cell_type": "markdown",
   "id": "69df9c9a",
   "metadata": {
    "papermill": {
     "duration": 0.025778,
     "end_time": "2022-05-02T20:24:53.934070",
     "exception": false,
     "start_time": "2022-05-02T20:24:53.908292",
     "status": "completed"
    },
    "tags": []
   },
   "source": [
    "## Preparing the Data"
   ]
  },
  {
   "cell_type": "code",
   "execution_count": 4,
   "id": "7f69d806",
   "metadata": {
    "execution": {
     "iopub.execute_input": "2022-05-02T20:24:53.995666Z",
     "iopub.status.busy": "2022-05-02T20:24:53.995027Z",
     "iopub.status.idle": "2022-05-02T20:24:54.007027Z",
     "shell.execute_reply": "2022-05-02T20:24:54.006567Z"
    },
    "papermill": {
     "duration": 0.047713,
     "end_time": "2022-05-02T20:24:54.007159",
     "exception": false,
     "start_time": "2022-05-02T20:24:53.959446",
     "status": "completed"
    },
    "tags": []
   },
   "outputs": [],
   "source": [
    "import mnist"
   ]
  },
  {
   "cell_type": "code",
   "execution_count": 5,
   "id": "a411e44f",
   "metadata": {
    "execution": {
     "iopub.execute_input": "2022-05-02T20:24:54.062890Z",
     "iopub.status.busy": "2022-05-02T20:24:54.062317Z",
     "iopub.status.idle": "2022-05-02T20:24:54.769671Z",
     "shell.execute_reply": "2022-05-02T20:24:54.770204Z"
    },
    "papermill": {
     "duration": 0.73809,
     "end_time": "2022-05-02T20:24:54.770806",
     "exception": false,
     "start_time": "2022-05-02T20:24:54.032716",
     "status": "completed"
    },
    "tags": []
   },
   "outputs": [],
   "source": [
    "train_images = mnist.train_images()\n",
    "train_labels = mnist.train_labels()"
   ]
  },
  {
   "cell_type": "code",
   "execution_count": 6,
   "id": "dceab3a5",
   "metadata": {
    "execution": {
     "iopub.execute_input": "2022-05-02T20:24:54.830552Z",
     "iopub.status.busy": "2022-05-02T20:24:54.829875Z",
     "iopub.status.idle": "2022-05-02T20:24:54.847827Z",
     "shell.execute_reply": "2022-05-02T20:24:54.848397Z"
    },
    "papermill": {
     "duration": 0.051288,
     "end_time": "2022-05-02T20:24:54.848591",
     "exception": false,
     "start_time": "2022-05-02T20:24:54.797303",
     "status": "completed"
    },
    "tags": []
   },
   "outputs": [
    {
     "data": {
      "text/plain": [
       "((60000, 28, 28), (60000,))"
      ]
     },
     "execution_count": 6,
     "metadata": {},
     "output_type": "execute_result"
    }
   ],
   "source": [
    "train_images.shape, train_labels.shape"
   ]
  },
  {
   "cell_type": "code",
   "execution_count": 7,
   "id": "f50dc2bb",
   "metadata": {
    "execution": {
     "iopub.execute_input": "2022-05-02T20:24:54.918119Z",
     "iopub.status.busy": "2022-05-02T20:24:54.917536Z",
     "iopub.status.idle": "2022-05-02T20:24:55.180387Z",
     "shell.execute_reply": "2022-05-02T20:24:55.179731Z"
    },
    "papermill": {
     "duration": 0.301996,
     "end_time": "2022-05-02T20:24:55.180583",
     "exception": false,
     "start_time": "2022-05-02T20:24:54.878587",
     "status": "completed"
    },
    "tags": []
   },
   "outputs": [],
   "source": [
    "test_images = mnist.test_images()\n",
    "test_labels = mnist.test_labels()"
   ]
  },
  {
   "cell_type": "code",
   "execution_count": 8,
   "id": "fc38cf1b",
   "metadata": {
    "execution": {
     "iopub.execute_input": "2022-05-02T20:24:55.241813Z",
     "iopub.status.busy": "2022-05-02T20:24:55.241218Z",
     "iopub.status.idle": "2022-05-02T20:24:55.254013Z",
     "shell.execute_reply": "2022-05-02T20:24:55.254471Z"
    },
    "papermill": {
     "duration": 0.045158,
     "end_time": "2022-05-02T20:24:55.254616",
     "exception": false,
     "start_time": "2022-05-02T20:24:55.209458",
     "status": "completed"
    },
    "tags": []
   },
   "outputs": [
    {
     "data": {
      "text/plain": [
       "((10000, 28, 28), (10000,))"
      ]
     },
     "execution_count": 8,
     "metadata": {},
     "output_type": "execute_result"
    }
   ],
   "source": [
    "test_images.shape, test_labels.shape"
   ]
  },
  {
   "cell_type": "code",
   "execution_count": 9,
   "id": "f9ed8fe0",
   "metadata": {
    "execution": {
     "iopub.execute_input": "2022-05-02T20:24:55.317892Z",
     "iopub.status.busy": "2022-05-02T20:24:55.317327Z",
     "iopub.status.idle": "2022-05-02T20:24:55.462564Z",
     "shell.execute_reply": "2022-05-02T20:24:55.461898Z"
    },
    "papermill": {
     "duration": 0.179673,
     "end_time": "2022-05-02T20:24:55.462716",
     "exception": false,
     "start_time": "2022-05-02T20:24:55.283043",
     "status": "completed"
    },
    "tags": []
   },
   "outputs": [
    {
     "name": "stdout",
     "output_type": "stream",
     "text": [
      "2\n"
     ]
    },
    {
     "data": {
      "text/plain": [
       "<matplotlib.image.AxesImage at 0x7f3d47a38390>"
      ]
     },
     "execution_count": 9,
     "metadata": {},
     "output_type": "execute_result"
    },
    {
     "data": {
      "image/png": "[encoded data removed]",
      "text/plain": [
       "<Figure size 432x288 with 1 Axes>"
      ]
     },
     "metadata": {
      "needs_background": "light"
     },
     "output_type": "display_data"
    }
   ],
   "source": [
    "image_index = 7776 # You may select anything up to 60,000\n",
    "print(train_labels[image_index]) \n",
    "plt.imshow(train_images[image_index], cmap='Greys')"
   ]
  },
  {
   "cell_type": "markdown",
   "id": "a8d2388d",
   "metadata": {
    "papermill": {
     "duration": 0.02922,
     "end_time": "2022-05-02T20:24:55.522164",
     "exception": false,
     "start_time": "2022-05-02T20:24:55.492944",
     "status": "completed"
    },
    "tags": []
   },
   "source": [
    "## Filter data to get 3 and 8 out"
   ]
  },
  {
   "cell_type": "code",
   "execution_count": 10,
   "id": "776f7fc7",
   "metadata": {
    "execution": {
     "iopub.execute_input": "2022-05-02T20:24:55.587295Z",
     "iopub.status.busy": "2022-05-02T20:24:55.586668Z",
     "iopub.status.idle": "2022-05-02T20:24:55.609412Z",
     "shell.execute_reply": "2022-05-02T20:24:55.608815Z"
    },
    "papermill": {
     "duration": 0.056905,
     "end_time": "2022-05-02T20:24:55.609558",
     "exception": false,
     "start_time": "2022-05-02T20:24:55.552653",
     "status": "completed"
    },
    "tags": []
   },
   "outputs": [],
   "source": [
    "train_filter = np.where((train_labels == 3 ) | (train_labels == 8))\n",
    "test_filter = np.where((test_labels == 3) | (test_labels == 8))\n",
    "X_train, y_train = train_images[train_filter], train_labels[train_filter]\n",
    "X_test, y_test = test_images[test_filter], test_labels[test_filter]"
   ]
  },
  {
   "cell_type": "markdown",
   "id": "948f0b7e",
   "metadata": {
    "papermill": {
     "duration": 0.028654,
     "end_time": "2022-05-02T20:24:55.671296",
     "exception": false,
     "start_time": "2022-05-02T20:24:55.642642",
     "status": "completed"
    },
    "tags": []
   },
   "source": [
    "We normalize the pizel values in the 0 to 1 range"
   ]
  },
  {
   "cell_type": "code",
   "execution_count": 11,
   "id": "ee4c2166",
   "metadata": {
    "execution": {
     "iopub.execute_input": "2022-05-02T20:24:55.732629Z",
     "iopub.status.busy": "2022-05-02T20:24:55.732059Z",
     "iopub.status.idle": "2022-05-02T20:24:55.780451Z",
     "shell.execute_reply": "2022-05-02T20:24:55.779958Z"
    },
    "papermill": {
     "duration": 0.079895,
     "end_time": "2022-05-02T20:24:55.780584",
     "exception": false,
     "start_time": "2022-05-02T20:24:55.700689",
     "status": "completed"
    },
    "tags": []
   },
   "outputs": [],
   "source": [
    "X_train = X_train/255.\n",
    "X_test = X_test/255."
   ]
  },
  {
   "cell_type": "markdown",
   "id": "ddcf4fab",
   "metadata": {
    "papermill": {
     "duration": 0.026849,
     "end_time": "2022-05-02T20:24:55.834512",
     "exception": false,
     "start_time": "2022-05-02T20:24:55.807663",
     "status": "completed"
    },
    "tags": []
   },
   "source": [
    "And setup the labels as 1 (when the digit is 3) and 0 (when the digit is 8)"
   ]
  },
  {
   "cell_type": "code",
   "execution_count": 12,
   "id": "7dc908f2",
   "metadata": {
    "execution": {
     "iopub.execute_input": "2022-05-02T20:24:55.896124Z",
     "iopub.status.busy": "2022-05-02T20:24:55.895521Z",
     "iopub.status.idle": "2022-05-02T20:24:55.906336Z",
     "shell.execute_reply": "2022-05-02T20:24:55.905875Z"
    },
    "papermill": {
     "duration": 0.044724,
     "end_time": "2022-05-02T20:24:55.906466",
     "exception": false,
     "start_time": "2022-05-02T20:24:55.861742",
     "status": "completed"
    },
    "tags": []
   },
   "outputs": [],
   "source": [
    "y_train = 1*(y_train==3)\n",
    "y_test = 1*(y_test==3)"
   ]
  },
  {
   "cell_type": "code",
   "execution_count": 13,
   "id": "01e4e969",
   "metadata": {
    "execution": {
     "iopub.execute_input": "2022-05-02T20:24:55.969701Z",
     "iopub.status.busy": "2022-05-02T20:24:55.969114Z",
     "iopub.status.idle": "2022-05-02T20:24:55.980291Z",
     "shell.execute_reply": "2022-05-02T20:24:55.979808Z"
    },
    "papermill": {
     "duration": 0.046878,
     "end_time": "2022-05-02T20:24:55.980412",
     "exception": false,
     "start_time": "2022-05-02T20:24:55.933534",
     "status": "completed"
    },
    "tags": []
   },
   "outputs": [
    {
     "data": {
      "text/plain": [
       "((11982, 28, 28), (1984, 28, 28))"
      ]
     },
     "execution_count": 13,
     "metadata": {},
     "output_type": "execute_result"
    }
   ],
   "source": [
    "X_train.shape, X_test.shape"
   ]
  },
  {
   "cell_type": "markdown",
   "id": "5ccf3f85",
   "metadata": {
    "papermill": {
     "duration": 0.027016,
     "end_time": "2022-05-02T20:24:56.034628",
     "exception": false,
     "start_time": "2022-05-02T20:24:56.007612",
     "status": "completed"
    },
    "tags": []
   },
   "source": [
    "We reshape the data to flatten the image pixels into a set of features or co-variates:"
   ]
  },
  {
   "cell_type": "code",
   "execution_count": 14,
   "id": "5286a4a3",
   "metadata": {
    "execution": {
     "iopub.execute_input": "2022-05-02T20:24:56.104440Z",
     "iopub.status.busy": "2022-05-02T20:24:56.098784Z",
     "iopub.status.idle": "2022-05-02T20:24:56.109427Z",
     "shell.execute_reply": "2022-05-02T20:24:56.109828Z"
    },
    "papermill": {
     "duration": 0.048039,
     "end_time": "2022-05-02T20:24:56.109973",
     "exception": false,
     "start_time": "2022-05-02T20:24:56.061934",
     "status": "completed"
    },
    "tags": []
   },
   "outputs": [
    {
     "data": {
      "text/plain": [
       "((11982, 784), (1984, 784))"
      ]
     },
     "execution_count": 14,
     "metadata": {},
     "output_type": "execute_result"
    }
   ],
   "source": [
    "X_train = X_train.reshape(X_train.shape[0], -1)\n",
    "X_test = X_test.reshape(X_test.shape[0], -1)\n",
    "X_train.shape, X_test.shape"
   ]
  },
  {
   "cell_type": "code",
   "execution_count": 15,
   "id": "73c5f88a",
   "metadata": {
    "execution": {
     "iopub.execute_input": "2022-05-02T20:24:56.184584Z",
     "iopub.status.busy": "2022-05-02T20:24:56.179286Z",
     "iopub.status.idle": "2022-05-02T20:24:56.192389Z",
     "shell.execute_reply": "2022-05-02T20:24:56.191596Z"
    },
    "papermill": {
     "duration": 0.054914,
     "end_time": "2022-05-02T20:24:56.192551",
     "exception": false,
     "start_time": "2022-05-02T20:24:56.137637",
     "status": "completed"
    },
    "tags": []
   },
   "outputs": [],
   "source": [
    "#Impoting functions from 'Kudzu'\n",
    "from kudzu.model import Model\n",
    "from kudzu.train import Learner\n",
    "from kudzu.optim import GD\n",
    "from kudzu.data import Data, Sampler,Dataloader\n",
    "\n",
    "from kudzu.callbacks import AccCallback\n",
    "from kudzu.callbacks import ClfCallback\n",
    "\n",
    "from kudzu.loss import MSE\n",
    "\n",
    "from kudzu.layer import Sigmoid,Relu\n",
    "from kudzu.layer import Affine"
   ]
  },
  {
   "cell_type": "markdown",
   "id": "bc01172a",
   "metadata": {
    "papermill": {
     "duration": 0.027451,
     "end_time": "2022-05-02T20:24:56.247929",
     "exception": false,
     "start_time": "2022-05-02T20:24:56.220478",
     "status": "completed"
    },
    "tags": []
   },
   "source": [
    "### Let us create a `Config` class, to store important parameters. \n",
    "This class essentially plays the role of a dictionary."
   ]
  },
  {
   "cell_type": "code",
   "execution_count": 16,
   "id": "978281aa",
   "metadata": {
    "execution": {
     "iopub.execute_input": "2022-05-02T20:24:56.311487Z",
     "iopub.status.busy": "2022-05-02T20:24:56.310739Z",
     "iopub.status.idle": "2022-05-02T20:24:56.324632Z",
     "shell.execute_reply": "2022-05-02T20:24:56.324144Z"
    },
    "papermill": {
     "duration": 0.049272,
     "end_time": "2022-05-02T20:24:56.324776",
     "exception": false,
     "start_time": "2022-05-02T20:24:56.275504",
     "status": "completed"
    },
    "tags": []
   },
   "outputs": [],
   "source": [
    "class Config:\n",
    "    pass\n",
    "config = Config()\n",
    "config.lr = 0.001\n",
    "config.num_epochs = 250\n",
    "config.bs = 50"
   ]
  },
  {
   "cell_type": "markdown",
   "id": "1385fa59",
   "metadata": {
    "papermill": {
     "duration": 0.027954,
     "end_time": "2022-05-02T20:24:56.380765",
     "exception": false,
     "start_time": "2022-05-02T20:24:56.352811",
     "status": "completed"
    },
    "tags": []
   },
   "source": [
    "### Running Models with the Training data\n",
    "Details about the network layers:\n",
    "- A first affine layer has 784 inputs and does 100 affine transforms. These are followed by a Relu\n",
    "- A second affine layer has 100 inputs from the 100 activations of the past layer, and does 100 affine transforms. These are followed by a Relu\n",
    "- A third affine layer has 100 activations and does 2 affine transformations to create an embedding for visualization. There is no non-linearity here.\n",
    "- A final \"logistic regression\" which has an affine transform from 2 inputs to 1 output, which is squeezed through a sigmoid.\n"
   ]
  },
  {
   "cell_type": "code",
   "execution_count": 17,
   "id": "2b9c66db",
   "metadata": {
    "execution": {
     "iopub.execute_input": "2022-05-02T20:24:56.448148Z",
     "iopub.status.busy": "2022-05-02T20:24:56.447386Z",
     "iopub.status.idle": "2022-05-02T20:24:56.461967Z",
     "shell.execute_reply": "2022-05-02T20:24:56.462456Z"
    },
    "papermill": {
     "duration": 0.053792,
     "end_time": "2022-05-02T20:24:56.462636",
     "exception": false,
     "start_time": "2022-05-02T20:24:56.408844",
     "status": "completed"
    },
    "tags": []
   },
   "outputs": [],
   "source": [
    "data = Data(X_train, y_train.reshape(-1,1))\n",
    "sampler = Sampler(data, config.bs, shuffle=True)\n",
    "\n",
    "dl = Dataloader(data, sampler)\n",
    "\n",
    "opt = GD(config.lr)\n",
    "loss = MSE()"
   ]
  },
  {
   "cell_type": "code",
   "execution_count": 18,
   "id": "b275e4c2",
   "metadata": {
    "execution": {
     "iopub.execute_input": "2022-05-02T20:24:56.525257Z",
     "iopub.status.busy": "2022-05-02T20:24:56.524598Z",
     "iopub.status.idle": "2022-05-02T20:24:56.540061Z",
     "shell.execute_reply": "2022-05-02T20:24:56.540541Z"
    },
    "papermill": {
     "duration": 0.049819,
     "end_time": "2022-05-02T20:24:56.540725",
     "exception": false,
     "start_time": "2022-05-02T20:24:56.490906",
     "status": "completed"
    },
    "tags": []
   },
   "outputs": [],
   "source": [
    "training_data_x = X_train\n",
    "testing_data_x = X_test\n",
    "training_data_y = y_train.reshape(-1,1)\n",
    "testing_data_y = y_test.reshape(-1,1)"
   ]
  },
  {
   "cell_type": "code",
   "execution_count": 19,
   "id": "76951160",
   "metadata": {
    "execution": {
     "iopub.execute_input": "2022-05-02T20:24:56.602019Z",
     "iopub.status.busy": "2022-05-02T20:24:56.601364Z",
     "iopub.status.idle": "2022-05-02T20:24:56.621942Z",
     "shell.execute_reply": "2022-05-02T20:24:56.622400Z"
    },
    "papermill": {
     "duration": 0.053751,
     "end_time": "2022-05-02T20:24:56.622569",
     "exception": false,
     "start_time": "2022-05-02T20:24:56.568818",
     "status": "completed"
    },
    "tags": []
   },
   "outputs": [
    {
     "name": "stdout",
     "output_type": "stream",
     "text": [
      "xavier\n",
      "xavier\n",
      "xavier\n",
      "xavier\n",
      "xavier\n"
     ]
    }
   ],
   "source": [
    "layers = [Affine(\"first\", 784, 100), Relu(\"first\"), Affine(\"second\", 100, 100), Relu(\"second\"), Affine(\"third\", 100, 2), Affine(\"last\", 2, 1), Sigmoid(\"last\")]\n",
    "model_nn = Model(layers)\n",
    "model_lr = Model([Affine(\"logits\", 784, 1), Sigmoid(\"sigmoid\")])"
   ]
  },
  {
   "cell_type": "code",
   "execution_count": 20,
   "id": "6eede77a",
   "metadata": {
    "execution": {
     "iopub.execute_input": "2022-05-02T20:24:56.684584Z",
     "iopub.status.busy": "2022-05-02T20:24:56.683983Z",
     "iopub.status.idle": "2022-05-02T20:24:56.698240Z",
     "shell.execute_reply": "2022-05-02T20:24:56.697750Z"
    },
    "papermill": {
     "duration": 0.047407,
     "end_time": "2022-05-02T20:24:56.698367",
     "exception": false,
     "start_time": "2022-05-02T20:24:56.650960",
     "status": "completed"
    },
    "tags": []
   },
   "outputs": [],
   "source": [
    "nn_learner = Learner(loss, model_nn, opt, config.num_epochs)\n",
    "acc_nn = ClfCallback(nn_learner, config.bs, training_data_x , testing_data_x, training_data_y, testing_data_y)\n",
    "nn_learner.set_callbacks([acc_nn])"
   ]
  },
  {
   "cell_type": "code",
   "execution_count": 21,
   "id": "877b6cc7",
   "metadata": {
    "execution": {
     "iopub.execute_input": "2022-05-02T20:24:56.759394Z",
     "iopub.status.busy": "2022-05-02T20:24:56.758821Z",
     "iopub.status.idle": "2022-05-02T20:24:56.777034Z",
     "shell.execute_reply": "2022-05-02T20:24:56.777537Z"
    },
    "papermill": {
     "duration": 0.051485,
     "end_time": "2022-05-02T20:24:56.777698",
     "exception": false,
     "start_time": "2022-05-02T20:24:56.726213",
     "status": "completed"
    },
    "tags": []
   },
   "outputs": [],
   "source": [
    "lr_learner = Learner(loss, model_lr, opt, config.num_epochs)\n",
    "acc_lr = ClfCallback(lr_learner, config.bs, training_data_x , testing_data_x, training_data_y, testing_data_y)\n",
    "lr_learner.set_callbacks([acc_lr])"
   ]
  },
  {
   "cell_type": "code",
   "execution_count": 22,
   "id": "d9b133c3",
   "metadata": {
    "execution": {
     "iopub.execute_input": "2022-05-02T20:24:56.843573Z",
     "iopub.status.busy": "2022-05-02T20:24:56.842926Z",
     "iopub.status.idle": "2022-05-02T20:26:25.043725Z",
     "shell.execute_reply": "2022-05-02T20:26:25.044551Z"
    },
    "papermill": {
     "duration": 88.238767,
     "end_time": "2022-05-02T20:26:25.044706",
     "exception": false,
     "start_time": "2022-05-02T20:24:56.805939",
     "status": "completed"
    },
    "tags": []
   },
   "outputs": [
    {
     "name": "stdout",
     "output_type": "stream",
     "text": [
      "Epoch 0, Loss 0.2575\n",
      "Training Accuracy: 0.5312, Testing Accuracy: 0.5454\n",
      "\n"
     ]
    },
    {
     "name": "stdout",
     "output_type": "stream",
     "text": [
      "Epoch 10, Loss 0.0964\n",
      "Training Accuracy: 0.9168, Testing Accuracy: 0.9289\n",
      "\n"
     ]
    },
    {
     "name": "stdout",
     "output_type": "stream",
     "text": [
      "Epoch 20, Loss 0.0567\n",
      "Training Accuracy: 0.9427, Testing Accuracy: 0.9491\n",
      "\n"
     ]
    },
    {
     "name": "stdout",
     "output_type": "stream",
     "text": [
      "Epoch 30, Loss 0.0441\n",
      "Training Accuracy: 0.9533, Testing Accuracy: 0.9577\n",
      "\n"
     ]
    },
    {
     "name": "stdout",
     "output_type": "stream",
     "text": [
      "Epoch 40, Loss 0.038\n",
      "Training Accuracy: 0.9577, Testing Accuracy: 0.9647\n",
      "\n"
     ]
    },
    {
     "name": "stdout",
     "output_type": "stream",
     "text": [
      "Epoch 50, Loss 0.0344\n",
      "Training Accuracy: 0.9614, Testing Accuracy: 0.9657\n",
      "\n"
     ]
    },
    {
     "name": "stdout",
     "output_type": "stream",
     "text": [
      "Epoch 60, Loss 0.0319\n",
      "Training Accuracy: 0.9635, Testing Accuracy: 0.9652\n",
      "\n"
     ]
    },
    {
     "name": "stdout",
     "output_type": "stream",
     "text": [
      "Epoch 70, Loss 0.03\n",
      "Training Accuracy: 0.9655, Testing Accuracy: 0.9672\n",
      "\n"
     ]
    },
    {
     "name": "stdout",
     "output_type": "stream",
     "text": [
      "Epoch 80, Loss 0.0285\n",
      "Training Accuracy: 0.9670, Testing Accuracy: 0.9677\n",
      "\n"
     ]
    },
    {
     "name": "stdout",
     "output_type": "stream",
     "text": [
      "Epoch 90, Loss 0.0273\n",
      "Training Accuracy: 0.9680, Testing Accuracy: 0.9688\n",
      "\n"
     ]
    },
    {
     "name": "stdout",
     "output_type": "stream",
     "text": [
      "Epoch 100, Loss 0.0262\n",
      "Training Accuracy: 0.9693, Testing Accuracy: 0.9698\n",
      "\n"
     ]
    },
    {
     "name": "stdout",
     "output_type": "stream",
     "text": [
      "Epoch 110, Loss 0.0253\n",
      "Training Accuracy: 0.9702, Testing Accuracy: 0.9708\n",
      "\n"
     ]
    },
    {
     "name": "stdout",
     "output_type": "stream",
     "text": [
      "Epoch 120, Loss 0.0245\n",
      "Training Accuracy: 0.9712, Testing Accuracy: 0.9713\n",
      "\n"
     ]
    },
    {
     "name": "stdout",
     "output_type": "stream",
     "text": [
      "Epoch 130, Loss 0.0238\n",
      "Training Accuracy: 0.9721, Testing Accuracy: 0.9723\n",
      "\n"
     ]
    },
    {
     "name": "stdout",
     "output_type": "stream",
     "text": [
      "Epoch 140, Loss 0.0231\n",
      "Training Accuracy: 0.9728, Testing Accuracy: 0.9723\n",
      "\n"
     ]
    },
    {
     "name": "stdout",
     "output_type": "stream",
     "text": [
      "Epoch 150, Loss 0.0225\n",
      "Training Accuracy: 0.9740, Testing Accuracy: 0.9723\n",
      "\n"
     ]
    },
    {
     "name": "stdout",
     "output_type": "stream",
     "text": [
      "Epoch 160, Loss 0.0219\n",
      "Training Accuracy: 0.9746, Testing Accuracy: 0.9728\n",
      "\n"
     ]
    },
    {
     "name": "stdout",
     "output_type": "stream",
     "text": [
      "Epoch 170, Loss 0.0214\n",
      "Training Accuracy: 0.9750, Testing Accuracy: 0.9733\n",
      "\n"
     ]
    },
    {
     "name": "stdout",
     "output_type": "stream",
     "text": [
      "Epoch 180, Loss 0.0209\n",
      "Training Accuracy: 0.9754, Testing Accuracy: 0.9728\n",
      "\n"
     ]
    },
    {
     "name": "stdout",
     "output_type": "stream",
     "text": [
      "Epoch 190, Loss 0.0204\n",
      "Training Accuracy: 0.9763, Testing Accuracy: 0.9728\n",
      "\n"
     ]
    },
    {
     "name": "stdout",
     "output_type": "stream",
     "text": [
      "Epoch 200, Loss 0.02\n",
      "Training Accuracy: 0.9772, Testing Accuracy: 0.9743\n",
      "\n"
     ]
    },
    {
     "name": "stdout",
     "output_type": "stream",
     "text": [
      "Epoch 210, Loss 0.0195\n",
      "Training Accuracy: 0.9778, Testing Accuracy: 0.9748\n",
      "\n"
     ]
    },
    {
     "name": "stdout",
     "output_type": "stream",
     "text": [
      "Epoch 220, Loss 0.0191\n",
      "Training Accuracy: 0.9784, Testing Accuracy: 0.9748\n",
      "\n"
     ]
    },
    {
     "name": "stdout",
     "output_type": "stream",
     "text": [
      "Epoch 230, Loss 0.0187\n",
      "Training Accuracy: 0.9791, Testing Accuracy: 0.9748\n",
      "\n"
     ]
    },
    {
     "name": "stdout",
     "output_type": "stream",
     "text": [
      "Epoch 240, Loss 0.0183\n",
      "Training Accuracy: 0.9799, Testing Accuracy: 0.9748\n",
      "\n"
     ]
    },
    {
     "data": {
      "text/plain": [
       "0.03393245297222877"
      ]
     },
     "execution_count": 22,
     "metadata": {},
     "output_type": "execute_result"
    }
   ],
   "source": [
    "nn_learner.train_loop(dl)"
   ]
  },
  {
   "cell_type": "code",
   "execution_count": 23,
   "id": "e0163366",
   "metadata": {
    "execution": {
     "iopub.execute_input": "2022-05-02T20:26:25.127379Z",
     "iopub.status.busy": "2022-05-02T20:26:25.126848Z",
     "iopub.status.idle": "2022-05-02T20:26:40.402651Z",
     "shell.execute_reply": "2022-05-02T20:26:40.403443Z"
    },
    "papermill": {
     "duration": 15.323495,
     "end_time": "2022-05-02T20:26:40.403594",
     "exception": false,
     "start_time": "2022-05-02T20:26:25.080099",
     "status": "completed"
    },
    "tags": []
   },
   "outputs": [
    {
     "name": "stdout",
     "output_type": "stream",
     "text": [
      "Epoch 0, Loss 0.2494\n",
      "Training Accuracy: 0.6667, Testing Accuracy: 0.6431\n",
      "\n"
     ]
    },
    {
     "name": "stdout",
     "output_type": "stream",
     "text": [
      "Epoch 10, Loss 0.1037\n",
      "Training Accuracy: 0.9089, Testing Accuracy: 0.9183\n",
      "\n"
     ]
    },
    {
     "name": "stdout",
     "output_type": "stream",
     "text": [
      "Epoch 20, Loss 0.0796\n",
      "Training Accuracy: 0.9268, Testing Accuracy: 0.9340\n",
      "\n"
     ]
    },
    {
     "name": "stdout",
     "output_type": "stream",
     "text": [
      "Epoch 30, Loss 0.0686\n",
      "Training Accuracy: 0.9356, Testing Accuracy: 0.9476\n",
      "\n"
     ]
    },
    {
     "name": "stdout",
     "output_type": "stream",
     "text": [
      "Epoch 40, Loss 0.0619\n",
      "Training Accuracy: 0.9402, Testing Accuracy: 0.9531\n",
      "\n"
     ]
    },
    {
     "name": "stdout",
     "output_type": "stream",
     "text": [
      "Epoch 50, Loss 0.0573\n",
      "Training Accuracy: 0.9448, Testing Accuracy: 0.9587\n",
      "\n"
     ]
    },
    {
     "name": "stdout",
     "output_type": "stream",
     "text": [
      "Epoch 60, Loss 0.054\n",
      "Training Accuracy: 0.9469, Testing Accuracy: 0.9607\n",
      "\n"
     ]
    },
    {
     "name": "stdout",
     "output_type": "stream",
     "text": [
      "Epoch 70, Loss 0.0514\n",
      "Training Accuracy: 0.9495, Testing Accuracy: 0.9627\n",
      "\n"
     ]
    },
    {
     "name": "stdout",
     "output_type": "stream",
     "text": [
      "Epoch 80, Loss 0.0493\n",
      "Training Accuracy: 0.9510, Testing Accuracy: 0.9632\n",
      "\n"
     ]
    },
    {
     "name": "stdout",
     "output_type": "stream",
     "text": [
      "Epoch 90, Loss 0.0476\n",
      "Training Accuracy: 0.9528, Testing Accuracy: 0.9642\n",
      "\n"
     ]
    },
    {
     "name": "stdout",
     "output_type": "stream",
     "text": [
      "Epoch 100, Loss 0.0462\n",
      "Training Accuracy: 0.9541, Testing Accuracy: 0.9652\n",
      "\n"
     ]
    },
    {
     "name": "stdout",
     "output_type": "stream",
     "text": [
      "Epoch 110, Loss 0.0449\n",
      "Training Accuracy: 0.9550, Testing Accuracy: 0.9647\n",
      "\n"
     ]
    },
    {
     "name": "stdout",
     "output_type": "stream",
     "text": [
      "Epoch 120, Loss 0.0438\n",
      "Training Accuracy: 0.9561, Testing Accuracy: 0.9647\n",
      "\n"
     ]
    },
    {
     "name": "stdout",
     "output_type": "stream",
     "text": [
      "Epoch 130, Loss 0.0429\n",
      "Training Accuracy: 0.9566, Testing Accuracy: 0.9662\n",
      "\n"
     ]
    },
    {
     "name": "stdout",
     "output_type": "stream",
     "text": [
      "Epoch 140, Loss 0.0421\n",
      "Training Accuracy: 0.9565, Testing Accuracy: 0.9667\n",
      "\n"
     ]
    },
    {
     "name": "stdout",
     "output_type": "stream",
     "text": [
      "Epoch 150, Loss 0.0413\n",
      "Training Accuracy: 0.9574, Testing Accuracy: 0.9677\n",
      "\n"
     ]
    },
    {
     "name": "stdout",
     "output_type": "stream",
     "text": [
      "Epoch 160, Loss 0.0406\n",
      "Training Accuracy: 0.9582, Testing Accuracy: 0.9682\n",
      "\n"
     ]
    },
    {
     "name": "stdout",
     "output_type": "stream",
     "text": [
      "Epoch 170, Loss 0.04\n",
      "Training Accuracy: 0.9589, Testing Accuracy: 0.9682\n",
      "\n"
     ]
    },
    {
     "name": "stdout",
     "output_type": "stream",
     "text": [
      "Epoch 180, Loss 0.0394\n",
      "Training Accuracy: 0.9590, Testing Accuracy: 0.9682\n",
      "\n"
     ]
    },
    {
     "name": "stdout",
     "output_type": "stream",
     "text": [
      "Epoch 190, Loss 0.0389\n",
      "Training Accuracy: 0.9591, Testing Accuracy: 0.9682\n",
      "\n"
     ]
    },
    {
     "name": "stdout",
     "output_type": "stream",
     "text": [
      "Epoch 200, Loss 0.0384\n",
      "Training Accuracy: 0.9594, Testing Accuracy: 0.9682\n",
      "\n"
     ]
    },
    {
     "name": "stdout",
     "output_type": "stream",
     "text": [
      "Epoch 210, Loss 0.038\n",
      "Training Accuracy: 0.9599, Testing Accuracy: 0.9682\n",
      "\n"
     ]
    },
    {
     "name": "stdout",
     "output_type": "stream",
     "text": [
      "Epoch 220, Loss 0.0376\n",
      "Training Accuracy: 0.9599, Testing Accuracy: 0.9682\n",
      "\n"
     ]
    },
    {
     "name": "stdout",
     "output_type": "stream",
     "text": [
      "Epoch 230, Loss 0.0372\n",
      "Training Accuracy: 0.9604, Testing Accuracy: 0.9682\n",
      "\n"
     ]
    },
    {
     "name": "stdout",
     "output_type": "stream",
     "text": [
      "Epoch 240, Loss 0.0368\n",
      "Training Accuracy: 0.9612, Testing Accuracy: 0.9677\n",
      "\n"
     ]
    },
    {
     "data": {
      "text/plain": [
       "0.037027466262687186"
      ]
     },
     "execution_count": 23,
     "metadata": {},
     "output_type": "execute_result"
    }
   ],
   "source": [
    "lr_learner.train_loop(dl)"
   ]
  },
  {
   "cell_type": "code",
   "execution_count": 24,
   "id": "ca410940",
   "metadata": {
    "execution": {
     "iopub.execute_input": "2022-05-02T20:26:40.496959Z",
     "iopub.status.busy": "2022-05-02T20:26:40.496369Z",
     "iopub.status.idle": "2022-05-02T20:26:40.722657Z",
     "shell.execute_reply": "2022-05-02T20:26:40.721902Z"
    },
    "papermill": {
     "duration": 0.277557,
     "end_time": "2022-05-02T20:26:40.722784",
     "exception": false,
     "start_time": "2022-05-02T20:26:40.445227",
     "status": "completed"
    },
    "tags": []
   },
   "outputs": [
    {
     "data": {
      "text/plain": [
       "<matplotlib.legend.Legend at 0x7f3d47618b00>"
      ]
     },
     "execution_count": 24,
     "metadata": {},
     "output_type": "execute_result"
    },
    {
     "data": {
      "image/png": "[encoded data removed]",
      "text/plain": [
       "<Figure size 1080x720 with 1 Axes>"
      ]
     },
     "metadata": {
      "needs_background": "light"
     },
     "output_type": "display_data"
    }
   ],
   "source": [
    "#comparing the results of NN and LR\n",
    "plt.figure(figsize=(15,10))\n",
    "\n",
    "# Neural Network plots\n",
    "plt.plot(acc_nn.accuracies, 'r-', label = \"Training Accuracies - NN\")\n",
    "plt.plot(acc_nn.test_accuracies, 'g-', label = \"Testing Accuracies - NN\")\n",
    "\n",
    "# Logistic Regression plots\n",
    "plt.plot(acc_lr.accuracies, 'k-', label = \"Training Accuracies - LR\")\n",
    "plt.plot(acc_lr.test_accuracies, 'b-', label = \"Testing Accuracies - LR\")\n",
    "plt.legend()"
   ]
  },
  {
   "cell_type": "markdown",
   "id": "80dfb35c",
   "metadata": {
    "papermill": {
     "duration": 0.042335,
     "end_time": "2022-05-02T20:26:40.807817",
     "exception": false,
     "start_time": "2022-05-02T20:26:40.765482",
     "status": "completed"
    },
    "tags": []
   },
   "source": [
    "#### Plotting the outputs of this layer of the NN.\n"
   ]
  },
  {
   "cell_type": "code",
   "execution_count": 25,
   "id": "45eb2ff5",
   "metadata": {
    "execution": {
     "iopub.execute_input": "2022-05-02T20:26:40.896996Z",
     "iopub.status.busy": "2022-05-02T20:26:40.896444Z",
     "iopub.status.idle": "2022-05-02T20:26:40.917062Z",
     "shell.execute_reply": "2022-05-02T20:26:40.917513Z"
    },
    "papermill": {
     "duration": 0.067509,
     "end_time": "2022-05-02T20:26:40.917657",
     "exception": false,
     "start_time": "2022-05-02T20:26:40.850148",
     "status": "completed"
    },
    "tags": []
   },
   "outputs": [],
   "source": [
    "new_model = Model(layers[:-2])\n",
    "testing_plot = new_model(testing_data_x)"
   ]
  },
  {
   "cell_type": "code",
   "execution_count": 26,
   "id": "4c0a5485",
   "metadata": {
    "execution": {
     "iopub.execute_input": "2022-05-02T20:26:41.012392Z",
     "iopub.status.busy": "2022-05-02T20:26:41.007747Z",
     "iopub.status.idle": "2022-05-02T20:26:41.218663Z",
     "shell.execute_reply": "2022-05-02T20:26:41.219080Z"
    },
    "papermill": {
     "duration": 0.258697,
     "end_time": "2022-05-02T20:26:41.219227",
     "exception": false,
     "start_time": "2022-05-02T20:26:40.960530",
     "status": "completed"
    },
    "tags": []
   },
   "outputs": [
    {
     "data": {
      "text/plain": [
       "Text(0.5, 1.0, 'Outputs')"
      ]
     },
     "execution_count": 26,
     "metadata": {},
     "output_type": "execute_result"
    },
    {
     "data": {
      "image/png": "[encoded data removed]",
      "text/plain": [
       "<Figure size 576x504 with 1 Axes>"
      ]
     },
     "metadata": {
      "needs_background": "light"
     },
     "output_type": "display_data"
    }
   ],
   "source": [
    "# Plotting the scatter plot of points and color coding by class\n",
    "plt.figure(figsize=(8,7))\n",
    "plt.scatter(testing_plot[:,0], testing_plot[:,1], alpha = 0.1, c = y_test.ravel());\n",
    "plt.title('Outputs')"
   ]
  },
  {
   "cell_type": "markdown",
   "id": "a74fcf8f",
   "metadata": {
    "papermill": {
     "duration": 0.04516,
     "end_time": "2022-05-02T20:26:41.310531",
     "exception": false,
     "start_time": "2022-05-02T20:26:41.265371",
     "status": "completed"
    },
    "tags": []
   },
   "source": [
    "Probability contours"
   ]
  },
  {
   "cell_type": "code",
   "execution_count": 27,
   "id": "d0afc8e3",
   "metadata": {
    "execution": {
     "iopub.execute_input": "2022-05-02T20:26:41.441278Z",
     "iopub.status.busy": "2022-05-02T20:26:41.440674Z",
     "iopub.status.idle": "2022-05-02T20:26:41.452883Z",
     "shell.execute_reply": "2022-05-02T20:26:41.452397Z"
    },
    "papermill": {
     "duration": 0.097311,
     "end_time": "2022-05-02T20:26:41.453016",
     "exception": false,
     "start_time": "2022-05-02T20:26:41.355705",
     "status": "completed"
    },
    "tags": []
   },
   "outputs": [],
   "source": [
    "model_prob = Model(layers[-2:]) "
   ]
  },
  {
   "cell_type": "code",
   "execution_count": 28,
   "id": "9b96e238",
   "metadata": {
    "execution": {
     "iopub.execute_input": "2022-05-02T20:26:41.548601Z",
     "iopub.status.busy": "2022-05-02T20:26:41.548012Z",
     "iopub.status.idle": "2022-05-02T20:26:41.561431Z",
     "shell.execute_reply": "2022-05-02T20:26:41.561864Z"
    },
    "papermill": {
     "duration": 0.063834,
     "end_time": "2022-05-02T20:26:41.562017",
     "exception": false,
     "start_time": "2022-05-02T20:26:41.498183",
     "status": "completed"
    },
    "tags": []
   },
   "outputs": [],
   "source": [
    "#creating the x and y ranges according to the above generated plot.\n",
    "x_range = np.linspace(-4, 1, 100) \n",
    "y_range = np.linspace(-6, 6, 100) \n",
    "x_grid, y_grid = np.meshgrid(x_range, y_range) # x_grid and y_grig are of size 100 X 100\n",
    "\n",
    "# converting x_grid and y_grid to continuous arrays\n",
    "x_gridflat = np.ravel(x_grid)\n",
    "y_gridflat = np.ravel(y_grid)\n",
    "\n",
    "# The last layer of the current model takes two columns as input. Hence transpose of np.vstack() is required.\n",
    "X = np.vstack((x_gridflat, y_gridflat)).T\n",
    "\n",
    "prob_contour = model_prob(X).reshape(100,100) "
   ]
  },
  {
   "cell_type": "code",
   "execution_count": 29,
   "id": "da72499a",
   "metadata": {
    "execution": {
     "iopub.execute_input": "2022-05-02T20:26:41.665141Z",
     "iopub.status.busy": "2022-05-02T20:26:41.664590Z",
     "iopub.status.idle": "2022-05-02T20:26:41.934441Z",
     "shell.execute_reply": "2022-05-02T20:26:41.934891Z"
    },
    "papermill": {
     "duration": 0.323244,
     "end_time": "2022-05-02T20:26:41.935033",
     "exception": false,
     "start_time": "2022-05-02T20:26:41.611789",
     "status": "completed"
    },
    "tags": []
   },
   "outputs": [
    {
     "data": {
      "image/png": "[encoded data removed]",
      "text/plain": [
       "<Figure size 720x648 with 1 Axes>"
      ]
     },
     "metadata": {
      "needs_background": "light"
     },
     "output_type": "display_data"
    }
   ],
   "source": [
    "plt.figure(figsize=(10,9))\n",
    "plt.scatter(testing_plot[:,0], testing_plot[:,1], alpha = 0.1, c = y_test.ravel())\n",
    "contours = plt.contour(x_grid,y_grid,prob_contour)\n",
    "plt.title('Probability Contours')\n",
    "plt.clabel(contours, inline = True );"
   ]
  },
  {
   "cell_type": "code",
   "execution_count": null,
   "id": "e81b4ac7",
   "metadata": {
    "papermill": {
     "duration": 0.047887,
     "end_time": "2022-05-02T20:26:42.032052",
     "exception": false,
     "start_time": "2022-05-02T20:26:41.984165",
     "status": "completed"
    },
    "tags": []
   },
   "outputs": [],
   "source": []
  }
 ],
 "metadata": {
  "kernelspec": {
   "display_name": "Python 3",
   "language": "python",
   "name": "python3"
  },
  "language_info": {
   "codemirror_mode": {
    "name": "ipython",
    "version": 3
   },
   "file_extension": ".py",
   "mimetype": "text/x-python",
   "name": "python",
   "nbconvert_exporter": "python",
   "pygments_lexer": "ipython3",
   "version": "3.6.15"
  },
  "papermill": {
   "default_parameters": {},
   "duration": 113.63787,
   "end_time": "2022-05-02T20:26:42.499035",
   "environment_variables": {},
   "exception": null,
   "input_path": "2020-08-11-part2.ipynb",
   "output_path": "2020-08-11-part2.ipynb",
   "parameters": {},
   "start_time": "2022-05-02T20:24:48.861165",
   "version": "2.3.3"
  }
 },
 "nbformat": 4,
 "nbformat_minor": 5
}