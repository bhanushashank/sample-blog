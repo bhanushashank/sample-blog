{
 "cells": [
  {
   "cell_type": "markdown",
   "id": "98380cd3",
   "metadata": {
    "papermill": {
     "duration": 0.036404,
     "end_time": "2022-01-16T10:08:49.987286",
     "exception": false,
     "start_time": "2022-01-16T10:08:49.950882",
     "status": "completed"
    },
    "tags": []
   },
   "source": [
    "# Distinguish Your Own Digits (DYOD)"
   ]
  },
  {
   "cell_type": "markdown",
   "id": "ef31240d",
   "metadata": {
    "papermill": {
     "duration": 0.024066,
     "end_time": "2022-01-16T10:08:50.038555",
     "exception": false,
     "start_time": "2022-01-16T10:08:50.014489",
     "status": "completed"
    },
    "tags": []
   },
   "source": [
    "You are going to write a classifier that distinguishes between the number 3 and number 8."
   ]
  },
  {
   "cell_type": "code",
   "execution_count": 1,
   "id": "b15c8646",
   "metadata": {
    "execution": {
     "iopub.execute_input": "2022-01-16T10:08:50.106706Z",
     "iopub.status.busy": "2022-01-16T10:08:50.105573Z",
     "iopub.status.idle": "2022-01-16T10:08:50.116407Z",
     "shell.execute_reply": "2022-01-16T10:08:50.115881Z"
    },
    "papermill": {
     "duration": 0.050528,
     "end_time": "2022-01-16T10:08:50.116554",
     "exception": false,
     "start_time": "2022-01-16T10:08:50.066026",
     "status": "completed"
    },
    "tags": []
   },
   "outputs": [],
   "source": [
    "%load_ext autoreload\n",
    "%autoreload 2"
   ]
  },
  {
   "cell_type": "code",
   "execution_count": 2,
   "id": "22ef38dc",
   "metadata": {
    "execution": {
     "iopub.execute_input": "2022-01-16T10:08:50.173400Z",
     "iopub.status.busy": "2022-01-16T10:08:50.172807Z",
     "iopub.status.idle": "2022-01-16T10:08:50.824958Z",
     "shell.execute_reply": "2022-01-16T10:08:50.823485Z"
    },
    "papermill": {
     "duration": 0.684333,
     "end_time": "2022-01-16T10:08:50.825110",
     "exception": false,
     "start_time": "2022-01-16T10:08:50.140777",
     "status": "completed"
    },
    "tags": []
   },
   "outputs": [],
   "source": [
    "%matplotlib inline\n",
    "import numpy as np\n",
    "import matplotlib.pyplot as plt\n",
    "import pandas as pd"
   ]
  },
  {
   "cell_type": "markdown",
   "id": "ba036198",
   "metadata": {
    "papermill": {
     "duration": 0.027153,
     "end_time": "2022-01-16T10:08:50.875734",
     "exception": false,
     "start_time": "2022-01-16T10:08:50.848581",
     "status": "completed"
    },
    "tags": []
   },
   "source": [
    "From the command line run `pip install mnist`. This is a library that will help you bring down the mnist dataset. If you run this from a notebook, you need to put  `!pip install mnist` in a cell by itself."
   ]
  },
  {
   "cell_type": "code",
   "execution_count": 3,
   "id": "bb6ad8a1",
   "metadata": {
    "execution": {
     "iopub.execute_input": "2022-01-16T10:08:50.930997Z",
     "iopub.status.busy": "2022-01-16T10:08:50.930381Z",
     "iopub.status.idle": "2022-01-16T10:08:52.819027Z",
     "shell.execute_reply": "2022-01-16T10:08:52.818111Z"
    },
    "papermill": {
     "duration": 1.918615,
     "end_time": "2022-01-16T10:08:52.819251",
     "exception": false,
     "start_time": "2022-01-16T10:08:50.900636",
     "status": "completed"
    },
    "tags": []
   },
   "outputs": [
    {
     "name": "stdout",
     "output_type": "stream",
     "text": [
      "Collecting mnist\r\n"
     ]
    },
    {
     "name": "stdout",
     "output_type": "stream",
     "text": [
      "  Downloading mnist-0.2.2-py2.py3-none-any.whl (3.5 kB)\r\n",
      "Requirement already satisfied: numpy in /opt/hostedtoolcache/Python/3.6.15/x64/lib/python3.6/site-packages (from mnist) (1.19.5)\r\n"
     ]
    },
    {
     "name": "stdout",
     "output_type": "stream",
     "text": [
      "Installing collected packages: mnist\r\n"
     ]
    },
    {
     "name": "stdout",
     "output_type": "stream",
     "text": [
      "Successfully installed mnist-0.2.2\r\n"
     ]
    }
   ],
   "source": [
    "!pip install mnist"
   ]
  },
  {
   "cell_type": "markdown",
   "id": "69df9c9a",
   "metadata": {
    "papermill": {
     "duration": 0.026474,
     "end_time": "2022-01-16T10:08:52.873616",
     "exception": false,
     "start_time": "2022-01-16T10:08:52.847142",
     "status": "completed"
    },
    "tags": []
   },
   "source": [
    "## Preparing the Data"
   ]
  },
  {
   "cell_type": "code",
   "execution_count": 4,
   "id": "7f69d806",
   "metadata": {
    "execution": {
     "iopub.execute_input": "2022-01-16T10:08:52.933159Z",
     "iopub.status.busy": "2022-01-16T10:08:52.932537Z",
     "iopub.status.idle": "2022-01-16T10:08:52.946992Z",
     "shell.execute_reply": "2022-01-16T10:08:52.947477Z"
    },
    "papermill": {
     "duration": 0.047115,
     "end_time": "2022-01-16T10:08:52.947612",
     "exception": false,
     "start_time": "2022-01-16T10:08:52.900497",
     "status": "completed"
    },
    "tags": []
   },
   "outputs": [],
   "source": [
    "import mnist"
   ]
  },
  {
   "cell_type": "code",
   "execution_count": 5,
   "id": "a411e44f",
   "metadata": {
    "execution": {
     "iopub.execute_input": "2022-01-16T10:08:53.006535Z",
     "iopub.status.busy": "2022-01-16T10:08:53.005915Z",
     "iopub.status.idle": "2022-01-16T10:08:53.754305Z",
     "shell.execute_reply": "2022-01-16T10:08:53.754734Z"
    },
    "papermill": {
     "duration": 0.78057,
     "end_time": "2022-01-16T10:08:53.754880",
     "exception": false,
     "start_time": "2022-01-16T10:08:52.974310",
     "status": "completed"
    },
    "tags": []
   },
   "outputs": [],
   "source": [
    "train_images = mnist.train_images()\n",
    "train_labels = mnist.train_labels()"
   ]
  },
  {
   "cell_type": "code",
   "execution_count": 6,
   "id": "dceab3a5",
   "metadata": {
    "execution": {
     "iopub.execute_input": "2022-01-16T10:08:53.813465Z",
     "iopub.status.busy": "2022-01-16T10:08:53.812977Z",
     "iopub.status.idle": "2022-01-16T10:08:53.831853Z",
     "shell.execute_reply": "2022-01-16T10:08:53.831372Z"
    },
    "papermill": {
     "duration": 0.049861,
     "end_time": "2022-01-16T10:08:53.831972",
     "exception": false,
     "start_time": "2022-01-16T10:08:53.782111",
     "status": "completed"
    },
    "tags": []
   },
   "outputs": [
    {
     "data": {
      "text/plain": [
       "((60000, 28, 28), (60000,))"
      ]
     },
     "execution_count": 6,
     "metadata": {},
     "output_type": "execute_result"
    }
   ],
   "source": [
    "train_images.shape, train_labels.shape"
   ]
  },
  {
   "cell_type": "code",
   "execution_count": 7,
   "id": "f50dc2bb",
   "metadata": {
    "execution": {
     "iopub.execute_input": "2022-01-16T10:08:53.889503Z",
     "iopub.status.busy": "2022-01-16T10:08:53.888902Z",
     "iopub.status.idle": "2022-01-16T10:08:54.220599Z",
     "shell.execute_reply": "2022-01-16T10:08:54.221098Z"
    },
    "papermill": {
     "duration": 0.362023,
     "end_time": "2022-01-16T10:08:54.221263",
     "exception": false,
     "start_time": "2022-01-16T10:08:53.859240",
     "status": "completed"
    },
    "tags": []
   },
   "outputs": [],
   "source": [
    "test_images = mnist.test_images()\n",
    "test_labels = mnist.test_labels()"
   ]
  },
  {
   "cell_type": "code",
   "execution_count": 8,
   "id": "fc38cf1b",
   "metadata": {
    "execution": {
     "iopub.execute_input": "2022-01-16T10:08:54.282749Z",
     "iopub.status.busy": "2022-01-16T10:08:54.282047Z",
     "iopub.status.idle": "2022-01-16T10:08:54.295878Z",
     "shell.execute_reply": "2022-01-16T10:08:54.295329Z"
    },
    "papermill": {
     "duration": 0.044553,
     "end_time": "2022-01-16T10:08:54.295994",
     "exception": false,
     "start_time": "2022-01-16T10:08:54.251441",
     "status": "completed"
    },
    "tags": []
   },
   "outputs": [
    {
     "data": {
      "text/plain": [
       "((10000, 28, 28), (10000,))"
      ]
     },
     "execution_count": 8,
     "metadata": {},
     "output_type": "execute_result"
    }
   ],
   "source": [
    "test_images.shape, test_labels.shape"
   ]
  },
  {
   "cell_type": "code",
   "execution_count": 9,
   "id": "f9ed8fe0",
   "metadata": {
    "execution": {
     "iopub.execute_input": "2022-01-16T10:08:54.354064Z",
     "iopub.status.busy": "2022-01-16T10:08:54.353327Z",
     "iopub.status.idle": "2022-01-16T10:08:54.507644Z",
     "shell.execute_reply": "2022-01-16T10:08:54.508209Z"
    },
    "papermill": {
     "duration": 0.187705,
     "end_time": "2022-01-16T10:08:54.508382",
     "exception": false,
     "start_time": "2022-01-16T10:08:54.320677",
     "status": "completed"
    },
    "tags": []
   },
   "outputs": [
    {
     "name": "stdout",
     "output_type": "stream",
     "text": [
      "2\n"
     ]
    },
    {
     "data": {
      "text/plain": [
       "<matplotlib.image.AxesImage at 0x7fceee519518>"
      ]
     },
     "execution_count": 9,
     "metadata": {},
     "output_type": "execute_result"
    },
    {
     "data": {
      "image/png": "[encoded data removed]",
      "text/plain": [
       "<Figure size 432x288 with 1 Axes>"
      ]
     },
     "metadata": {
      "needs_background": "light"
     },
     "output_type": "display_data"
    }
   ],
   "source": [
    "image_index = 7776 # You may select anything up to 60,000\n",
    "print(train_labels[image_index]) \n",
    "plt.imshow(train_images[image_index], cmap='Greys')"
   ]
  },
  {
   "cell_type": "markdown",
   "id": "a8d2388d",
   "metadata": {
    "papermill": {
     "duration": 0.028776,
     "end_time": "2022-01-16T10:08:54.567837",
     "exception": false,
     "start_time": "2022-01-16T10:08:54.539061",
     "status": "completed"
    },
    "tags": []
   },
   "source": [
    "## Filter data to get 3 and 8 out"
   ]
  },
  {
   "cell_type": "code",
   "execution_count": 10,
   "id": "776f7fc7",
   "metadata": {
    "execution": {
     "iopub.execute_input": "2022-01-16T10:08:54.632326Z",
     "iopub.status.busy": "2022-01-16T10:08:54.631755Z",
     "iopub.status.idle": "2022-01-16T10:08:54.653875Z",
     "shell.execute_reply": "2022-01-16T10:08:54.653197Z"
    },
    "papermill": {
     "duration": 0.057508,
     "end_time": "2022-01-16T10:08:54.654037",
     "exception": false,
     "start_time": "2022-01-16T10:08:54.596529",
     "status": "completed"
    },
    "tags": []
   },
   "outputs": [],
   "source": [
    "train_filter = np.where((train_labels == 3 ) | (train_labels == 8))\n",
    "test_filter = np.where((test_labels == 3) | (test_labels == 8))\n",
    "X_train, y_train = train_images[train_filter], train_labels[train_filter]\n",
    "X_test, y_test = test_images[test_filter], test_labels[test_filter]"
   ]
  },
  {
   "cell_type": "markdown",
   "id": "948f0b7e",
   "metadata": {
    "papermill": {
     "duration": 0.027476,
     "end_time": "2022-01-16T10:08:54.709689",
     "exception": false,
     "start_time": "2022-01-16T10:08:54.682213",
     "status": "completed"
    },
    "tags": []
   },
   "source": [
    "We normalize the pizel values in the 0 to 1 range"
   ]
  },
  {
   "cell_type": "code",
   "execution_count": 11,
   "id": "ee4c2166",
   "metadata": {
    "execution": {
     "iopub.execute_input": "2022-01-16T10:08:54.767038Z",
     "iopub.status.busy": "2022-01-16T10:08:54.766478Z",
     "iopub.status.idle": "2022-01-16T10:08:54.820001Z",
     "shell.execute_reply": "2022-01-16T10:08:54.819342Z"
    },
    "papermill": {
     "duration": 0.084715,
     "end_time": "2022-01-16T10:08:54.820135",
     "exception": false,
     "start_time": "2022-01-16T10:08:54.735420",
     "status": "completed"
    },
    "tags": []
   },
   "outputs": [],
   "source": [
    "X_train = X_train/255.\n",
    "X_test = X_test/255."
   ]
  },
  {
   "cell_type": "markdown",
   "id": "ddcf4fab",
   "metadata": {
    "papermill": {
     "duration": 0.029177,
     "end_time": "2022-01-16T10:08:54.877710",
     "exception": false,
     "start_time": "2022-01-16T10:08:54.848533",
     "status": "completed"
    },
    "tags": []
   },
   "source": [
    "And setup the labels as 1 (when the digit is 3) and 0 (when the digit is 8)"
   ]
  },
  {
   "cell_type": "code",
   "execution_count": 12,
   "id": "7dc908f2",
   "metadata": {
    "execution": {
     "iopub.execute_input": "2022-01-16T10:08:54.943250Z",
     "iopub.status.busy": "2022-01-16T10:08:54.936990Z",
     "iopub.status.idle": "2022-01-16T10:08:54.951475Z",
     "shell.execute_reply": "2022-01-16T10:08:54.950982Z"
    },
    "papermill": {
     "duration": 0.045474,
     "end_time": "2022-01-16T10:08:54.951602",
     "exception": false,
     "start_time": "2022-01-16T10:08:54.906128",
     "status": "completed"
    },
    "tags": []
   },
   "outputs": [],
   "source": [
    "y_train = 1*(y_train==3)\n",
    "y_test = 1*(y_test==3)"
   ]
  },
  {
   "cell_type": "code",
   "execution_count": 13,
   "id": "01e4e969",
   "metadata": {
    "execution": {
     "iopub.execute_input": "2022-01-16T10:08:55.014731Z",
     "iopub.status.busy": "2022-01-16T10:08:55.014177Z",
     "iopub.status.idle": "2022-01-16T10:08:55.027613Z",
     "shell.execute_reply": "2022-01-16T10:08:55.028080Z"
    },
    "papermill": {
     "duration": 0.047539,
     "end_time": "2022-01-16T10:08:55.028212",
     "exception": false,
     "start_time": "2022-01-16T10:08:54.980673",
     "status": "completed"
    },
    "tags": []
   },
   "outputs": [
    {
     "data": {
      "text/plain": [
       "((11982, 28, 28), (1984, 28, 28))"
      ]
     },
     "execution_count": 13,
     "metadata": {},
     "output_type": "execute_result"
    }
   ],
   "source": [
    "X_train.shape, X_test.shape"
   ]
  },
  {
   "cell_type": "markdown",
   "id": "5ccf3f85",
   "metadata": {
    "papermill": {
     "duration": 0.030898,
     "end_time": "2022-01-16T10:08:55.092001",
     "exception": false,
     "start_time": "2022-01-16T10:08:55.061103",
     "status": "completed"
    },
    "tags": []
   },
   "source": [
    "We reshape the data to flatten the image pixels into a set of features or co-variates:"
   ]
  },
  {
   "cell_type": "code",
   "execution_count": 14,
   "id": "5286a4a3",
   "metadata": {
    "execution": {
     "iopub.execute_input": "2022-01-16T10:08:55.157113Z",
     "iopub.status.busy": "2022-01-16T10:08:55.156597Z",
     "iopub.status.idle": "2022-01-16T10:08:55.171346Z",
     "shell.execute_reply": "2022-01-16T10:08:55.170820Z"
    },
    "papermill": {
     "duration": 0.049642,
     "end_time": "2022-01-16T10:08:55.171475",
     "exception": false,
     "start_time": "2022-01-16T10:08:55.121833",
     "status": "completed"
    },
    "tags": []
   },
   "outputs": [
    {
     "data": {
      "text/plain": [
       "((11982, 784), (1984, 784))"
      ]
     },
     "execution_count": 14,
     "metadata": {},
     "output_type": "execute_result"
    }
   ],
   "source": [
    "X_train = X_train.reshape(X_train.shape[0], -1)\n",
    "X_test = X_test.reshape(X_test.shape[0], -1)\n",
    "X_train.shape, X_test.shape"
   ]
  },
  {
   "cell_type": "code",
   "execution_count": 15,
   "id": "73c5f88a",
   "metadata": {
    "execution": {
     "iopub.execute_input": "2022-01-16T10:08:55.238431Z",
     "iopub.status.busy": "2022-01-16T10:08:55.237831Z",
     "iopub.status.idle": "2022-01-16T10:08:55.257048Z",
     "shell.execute_reply": "2022-01-16T10:08:55.256489Z"
    },
    "papermill": {
     "duration": 0.055806,
     "end_time": "2022-01-16T10:08:55.257182",
     "exception": false,
     "start_time": "2022-01-16T10:08:55.201376",
     "status": "completed"
    },
    "tags": []
   },
   "outputs": [],
   "source": [
    "#Impoting functions from 'Kudzu'\n",
    "from kudzu.model import Model\n",
    "from kudzu.train import Learner\n",
    "from kudzu.optim import GD\n",
    "from kudzu.data import Data, Sampler,Dataloader\n",
    "\n",
    "from kudzu.callbacks import AccCallback\n",
    "from kudzu.callbacks import ClfCallback\n",
    "\n",
    "from kudzu.loss import MSE\n",
    "\n",
    "from kudzu.layer import Sigmoid,Relu\n",
    "from kudzu.layer import Affine"
   ]
  },
  {
   "cell_type": "markdown",
   "id": "bc01172a",
   "metadata": {
    "papermill": {
     "duration": 0.028739,
     "end_time": "2022-01-16T10:08:55.314775",
     "exception": false,
     "start_time": "2022-01-16T10:08:55.286036",
     "status": "completed"
    },
    "tags": []
   },
   "source": [
    "### Let us create a `Config` class, to store important parameters. \n",
    "This class essentially plays the role of a dictionary."
   ]
  },
  {
   "cell_type": "code",
   "execution_count": 16,
   "id": "978281aa",
   "metadata": {
    "execution": {
     "iopub.execute_input": "2022-01-16T10:08:55.381896Z",
     "iopub.status.busy": "2022-01-16T10:08:55.381307Z",
     "iopub.status.idle": "2022-01-16T10:08:55.394779Z",
     "shell.execute_reply": "2022-01-16T10:08:55.394289Z"
    },
    "papermill": {
     "duration": 0.051778,
     "end_time": "2022-01-16T10:08:55.394914",
     "exception": false,
     "start_time": "2022-01-16T10:08:55.343136",
     "status": "completed"
    },
    "tags": []
   },
   "outputs": [],
   "source": [
    "class Config:\n",
    "    pass\n",
    "config = Config()\n",
    "config.lr = 0.001\n",
    "config.num_epochs = 250\n",
    "config.bs = 50"
   ]
  },
  {
   "cell_type": "markdown",
   "id": "1385fa59",
   "metadata": {
    "papermill": {
     "duration": 0.031164,
     "end_time": "2022-01-16T10:08:55.456569",
     "exception": false,
     "start_time": "2022-01-16T10:08:55.425405",
     "status": "completed"
    },
    "tags": []
   },
   "source": [
    "### Running Models with the Training data\n",
    "Details about the network layers:\n",
    "- A first affine layer has 784 inputs and does 100 affine transforms. These are followed by a Relu\n",
    "- A second affine layer has 100 inputs from the 100 activations of the past layer, and does 100 affine transforms. These are followed by a Relu\n",
    "- A third affine layer has 100 activations and does 2 affine transformations to create an embedding for visualization. There is no non-linearity here.\n",
    "- A final \"logistic regression\" which has an affine transform from 2 inputs to 1 output, which is squeezed through a sigmoid.\n"
   ]
  },
  {
   "cell_type": "code",
   "execution_count": 17,
   "id": "2b9c66db",
   "metadata": {
    "execution": {
     "iopub.execute_input": "2022-01-16T10:08:55.522670Z",
     "iopub.status.busy": "2022-01-16T10:08:55.522102Z",
     "iopub.status.idle": "2022-01-16T10:08:55.536958Z",
     "shell.execute_reply": "2022-01-16T10:08:55.536022Z"
    },
    "papermill": {
     "duration": 0.049362,
     "end_time": "2022-01-16T10:08:55.537161",
     "exception": false,
     "start_time": "2022-01-16T10:08:55.487799",
     "status": "completed"
    },
    "tags": []
   },
   "outputs": [],
   "source": [
    "data = Data(X_train, y_train.reshape(-1,1))\n",
    "sampler = Sampler(data, config.bs, shuffle=True)\n",
    "\n",
    "dl = Dataloader(data, sampler)\n",
    "\n",
    "opt = GD(config.lr)\n",
    "loss = MSE()"
   ]
  },
  {
   "cell_type": "code",
   "execution_count": 18,
   "id": "b275e4c2",
   "metadata": {
    "execution": {
     "iopub.execute_input": "2022-01-16T10:08:55.604287Z",
     "iopub.status.busy": "2022-01-16T10:08:55.603694Z",
     "iopub.status.idle": "2022-01-16T10:08:55.618879Z",
     "shell.execute_reply": "2022-01-16T10:08:55.618362Z"
    },
    "papermill": {
     "duration": 0.050608,
     "end_time": "2022-01-16T10:08:55.619014",
     "exception": false,
     "start_time": "2022-01-16T10:08:55.568406",
     "status": "completed"
    },
    "tags": []
   },
   "outputs": [],
   "source": [
    "training_data_x = X_train\n",
    "testing_data_x = X_test\n",
    "training_data_y = y_train.reshape(-1,1)\n",
    "testing_data_y = y_test.reshape(-1,1)"
   ]
  },
  {
   "cell_type": "code",
   "execution_count": 19,
   "id": "76951160",
   "metadata": {
    "execution": {
     "iopub.execute_input": "2022-01-16T10:08:55.695152Z",
     "iopub.status.busy": "2022-01-16T10:08:55.694483Z",
     "iopub.status.idle": "2022-01-16T10:08:55.711097Z",
     "shell.execute_reply": "2022-01-16T10:08:55.711543Z"
    },
    "papermill": {
     "duration": 0.056052,
     "end_time": "2022-01-16T10:08:55.711679",
     "exception": false,
     "start_time": "2022-01-16T10:08:55.655627",
     "status": "completed"
    },
    "tags": []
   },
   "outputs": [
    {
     "name": "stdout",
     "output_type": "stream",
     "text": [
      "xavier\n",
      "xavier\n",
      "xavier\n",
      "xavier\n",
      "xavier\n"
     ]
    }
   ],
   "source": [
    "layers = [Affine(\"first\", 784, 100), Relu(\"first\"), Affine(\"second\", 100, 100), Relu(\"second\"), Affine(\"third\", 100, 2), Affine(\"last\", 2, 1), Sigmoid(\"last\")]\n",
    "model_nn = Model(layers)\n",
    "model_lr = Model([Affine(\"logits\", 784, 1), Sigmoid(\"sigmoid\")])"
   ]
  },
  {
   "cell_type": "code",
   "execution_count": 20,
   "id": "6eede77a",
   "metadata": {
    "execution": {
     "iopub.execute_input": "2022-01-16T10:08:55.775657Z",
     "iopub.status.busy": "2022-01-16T10:08:55.774924Z",
     "iopub.status.idle": "2022-01-16T10:08:55.787466Z",
     "shell.execute_reply": "2022-01-16T10:08:55.787946Z"
    },
    "papermill": {
     "duration": 0.046729,
     "end_time": "2022-01-16T10:08:55.788080",
     "exception": false,
     "start_time": "2022-01-16T10:08:55.741351",
     "status": "completed"
    },
    "tags": []
   },
   "outputs": [],
   "source": [
    "nn_learner = Learner(loss, model_nn, opt, config.num_epochs)\n",
    "acc_nn = ClfCallback(nn_learner, config.bs, training_data_x , testing_data_x, training_data_y, testing_data_y)\n",
    "nn_learner.set_callbacks([acc_nn])"
   ]
  },
  {
   "cell_type": "code",
   "execution_count": 21,
   "id": "877b6cc7",
   "metadata": {
    "execution": {
     "iopub.execute_input": "2022-01-16T10:08:55.852398Z",
     "iopub.status.busy": "2022-01-16T10:08:55.851838Z",
     "iopub.status.idle": "2022-01-16T10:08:55.867630Z",
     "shell.execute_reply": "2022-01-16T10:08:55.867158Z"
    },
    "papermill": {
     "duration": 0.049396,
     "end_time": "2022-01-16T10:08:55.867744",
     "exception": false,
     "start_time": "2022-01-16T10:08:55.818348",
     "status": "completed"
    },
    "tags": []
   },
   "outputs": [],
   "source": [
    "lr_learner = Learner(loss, model_lr, opt, config.num_epochs)\n",
    "acc_lr = ClfCallback(lr_learner, config.bs, training_data_x , testing_data_x, training_data_y, testing_data_y)\n",
    "lr_learner.set_callbacks([acc_lr])"
   ]
  },
  {
   "cell_type": "code",
   "execution_count": 22,
   "id": "d9b133c3",
   "metadata": {
    "execution": {
     "iopub.execute_input": "2022-01-16T10:08:55.930999Z",
     "iopub.status.busy": "2022-01-16T10:08:55.930452Z",
     "iopub.status.idle": "2022-01-16T10:10:22.135675Z",
     "shell.execute_reply": "2022-01-16T10:10:22.136621Z"
    },
    "papermill": {
     "duration": 86.240199,
     "end_time": "2022-01-16T10:10:22.136788",
     "exception": false,
     "start_time": "2022-01-16T10:08:55.896589",
     "status": "completed"
    },
    "tags": []
   },
   "outputs": [
    {
     "name": "stdout",
     "output_type": "stream",
     "text": [
      "Epoch 0, Loss 0.2495\n",
      "Training Accuracy: 0.5528, Testing Accuracy: 0.6028\n",
      "\n"
     ]
    },
    {
     "name": "stdout",
     "output_type": "stream",
     "text": [
      "Epoch 10, Loss 0.197\n",
      "Training Accuracy: 0.8445, Testing Accuracy: 0.8609\n",
      "\n"
     ]
    },
    {
     "name": "stdout",
     "output_type": "stream",
     "text": [
      "Epoch 20, Loss 0.1031\n",
      "Training Accuracy: 0.8933, Testing Accuracy: 0.9017\n",
      "\n"
     ]
    },
    {
     "name": "stdout",
     "output_type": "stream",
     "text": [
      "Epoch 30, Loss 0.0675\n",
      "Training Accuracy: 0.9221, Testing Accuracy: 0.9355\n",
      "\n"
     ]
    },
    {
     "name": "stdout",
     "output_type": "stream",
     "text": [
      "Epoch 40, Loss 0.0522\n",
      "Training Accuracy: 0.9380, Testing Accuracy: 0.9511\n",
      "\n"
     ]
    },
    {
     "name": "stdout",
     "output_type": "stream",
     "text": [
      "Epoch 50, Loss 0.0441\n",
      "Training Accuracy: 0.9494, Testing Accuracy: 0.9582\n",
      "\n"
     ]
    },
    {
     "name": "stdout",
     "output_type": "stream",
     "text": [
      "Epoch 60, Loss 0.0393\n",
      "Training Accuracy: 0.9537, Testing Accuracy: 0.9617\n",
      "\n"
     ]
    },
    {
     "name": "stdout",
     "output_type": "stream",
     "text": [
      "Epoch 70, Loss 0.0361\n",
      "Training Accuracy: 0.9566, Testing Accuracy: 0.9637\n",
      "\n"
     ]
    },
    {
     "name": "stdout",
     "output_type": "stream",
     "text": [
      "Epoch 80, Loss 0.0338\n",
      "Training Accuracy: 0.9594, Testing Accuracy: 0.9647\n",
      "\n"
     ]
    },
    {
     "name": "stdout",
     "output_type": "stream",
     "text": [
      "Epoch 90, Loss 0.032\n",
      "Training Accuracy: 0.9614, Testing Accuracy: 0.9657\n",
      "\n"
     ]
    },
    {
     "name": "stdout",
     "output_type": "stream",
     "text": [
      "Epoch 100, Loss 0.0305\n",
      "Training Accuracy: 0.9639, Testing Accuracy: 0.9672\n",
      "\n"
     ]
    },
    {
     "name": "stdout",
     "output_type": "stream",
     "text": [
      "Epoch 110, Loss 0.0292\n",
      "Training Accuracy: 0.9662, Testing Accuracy: 0.9688\n",
      "\n"
     ]
    },
    {
     "name": "stdout",
     "output_type": "stream",
     "text": [
      "Epoch 120, Loss 0.0281\n",
      "Training Accuracy: 0.9675, Testing Accuracy: 0.9698\n",
      "\n"
     ]
    },
    {
     "name": "stdout",
     "output_type": "stream",
     "text": [
      "Epoch 130, Loss 0.0272\n",
      "Training Accuracy: 0.9689, Testing Accuracy: 0.9723\n",
      "\n"
     ]
    },
    {
     "name": "stdout",
     "output_type": "stream",
     "text": [
      "Epoch 140, Loss 0.0263\n",
      "Training Accuracy: 0.9697, Testing Accuracy: 0.9728\n",
      "\n"
     ]
    },
    {
     "name": "stdout",
     "output_type": "stream",
     "text": [
      "Epoch 150, Loss 0.0256\n",
      "Training Accuracy: 0.9701, Testing Accuracy: 0.9728\n",
      "\n"
     ]
    },
    {
     "name": "stdout",
     "output_type": "stream",
     "text": [
      "Epoch 160, Loss 0.0249\n",
      "Training Accuracy: 0.9705, Testing Accuracy: 0.9728\n",
      "\n"
     ]
    },
    {
     "name": "stdout",
     "output_type": "stream",
     "text": [
      "Epoch 170, Loss 0.0243\n",
      "Training Accuracy: 0.9713, Testing Accuracy: 0.9718\n",
      "\n"
     ]
    },
    {
     "name": "stdout",
     "output_type": "stream",
     "text": [
      "Epoch 180, Loss 0.0237\n",
      "Training Accuracy: 0.9718, Testing Accuracy: 0.9718\n",
      "\n"
     ]
    },
    {
     "name": "stdout",
     "output_type": "stream",
     "text": [
      "Epoch 190, Loss 0.0232\n",
      "Training Accuracy: 0.9723, Testing Accuracy: 0.9723\n",
      "\n"
     ]
    },
    {
     "name": "stdout",
     "output_type": "stream",
     "text": [
      "Epoch 200, Loss 0.0227\n",
      "Training Accuracy: 0.9732, Testing Accuracy: 0.9728\n",
      "\n"
     ]
    },
    {
     "name": "stdout",
     "output_type": "stream",
     "text": [
      "Epoch 210, Loss 0.0222\n",
      "Training Accuracy: 0.9740, Testing Accuracy: 0.9733\n",
      "\n"
     ]
    },
    {
     "name": "stdout",
     "output_type": "stream",
     "text": [
      "Epoch 220, Loss 0.0217\n",
      "Training Accuracy: 0.9746, Testing Accuracy: 0.9728\n",
      "\n"
     ]
    },
    {
     "name": "stdout",
     "output_type": "stream",
     "text": [
      "Epoch 230, Loss 0.0213\n",
      "Training Accuracy: 0.9750, Testing Accuracy: 0.9738\n",
      "\n"
     ]
    },
    {
     "name": "stdout",
     "output_type": "stream",
     "text": [
      "Epoch 240, Loss 0.0209\n",
      "Training Accuracy: 0.9755, Testing Accuracy: 0.9738\n",
      "\n"
     ]
    },
    {
     "data": {
      "text/plain": [
       "0.020714393224994652"
      ]
     },
     "execution_count": 22,
     "metadata": {},
     "output_type": "execute_result"
    }
   ],
   "source": [
    "nn_learner.train_loop(dl)"
   ]
  },
  {
   "cell_type": "code",
   "execution_count": 23,
   "id": "e0163366",
   "metadata": {
    "execution": {
     "iopub.execute_input": "2022-01-16T10:10:22.230313Z",
     "iopub.status.busy": "2022-01-16T10:10:22.229634Z",
     "iopub.status.idle": "2022-01-16T10:10:37.542603Z",
     "shell.execute_reply": "2022-01-16T10:10:37.543428Z"
    },
    "papermill": {
     "duration": 15.36681,
     "end_time": "2022-01-16T10:10:37.543584",
     "exception": false,
     "start_time": "2022-01-16T10:10:22.176774",
     "status": "completed"
    },
    "tags": []
   },
   "outputs": [
    {
     "name": "stdout",
     "output_type": "stream",
     "text": [
      "Epoch 0, Loss 0.2533\n",
      "Training Accuracy: 0.6146, Testing Accuracy: 0.6305\n",
      "\n"
     ]
    },
    {
     "name": "stdout",
     "output_type": "stream",
     "text": [
      "Epoch 10, Loss 0.1072\n",
      "Training Accuracy: 0.9039, Testing Accuracy: 0.9178\n",
      "\n"
     ]
    },
    {
     "name": "stdout",
     "output_type": "stream",
     "text": [
      "Epoch 20, Loss 0.0813\n",
      "Training Accuracy: 0.9273, Testing Accuracy: 0.9350\n",
      "\n"
     ]
    },
    {
     "name": "stdout",
     "output_type": "stream",
     "text": [
      "Epoch 30, Loss 0.0695\n",
      "Training Accuracy: 0.9362, Testing Accuracy: 0.9461\n",
      "\n"
     ]
    },
    {
     "name": "stdout",
     "output_type": "stream",
     "text": [
      "Epoch 40, Loss 0.0626\n",
      "Training Accuracy: 0.9410, Testing Accuracy: 0.9541\n",
      "\n"
     ]
    },
    {
     "name": "stdout",
     "output_type": "stream",
     "text": [
      "Epoch 50, Loss 0.0578\n",
      "Training Accuracy: 0.9440, Testing Accuracy: 0.9572\n",
      "\n"
     ]
    },
    {
     "name": "stdout",
     "output_type": "stream",
     "text": [
      "Epoch 60, Loss 0.0544\n",
      "Training Accuracy: 0.9470, Testing Accuracy: 0.9587\n",
      "\n"
     ]
    },
    {
     "name": "stdout",
     "output_type": "stream",
     "text": [
      "Epoch 70, Loss 0.0518\n",
      "Training Accuracy: 0.9486, Testing Accuracy: 0.9607\n",
      "\n"
     ]
    },
    {
     "name": "stdout",
     "output_type": "stream",
     "text": [
      "Epoch 80, Loss 0.0497\n",
      "Training Accuracy: 0.9500, Testing Accuracy: 0.9627\n",
      "\n"
     ]
    },
    {
     "name": "stdout",
     "output_type": "stream",
     "text": [
      "Epoch 90, Loss 0.0479\n",
      "Training Accuracy: 0.9512, Testing Accuracy: 0.9647\n",
      "\n"
     ]
    },
    {
     "name": "stdout",
     "output_type": "stream",
     "text": [
      "Epoch 100, Loss 0.0465\n",
      "Training Accuracy: 0.9524, Testing Accuracy: 0.9652\n",
      "\n"
     ]
    },
    {
     "name": "stdout",
     "output_type": "stream",
     "text": [
      "Epoch 110, Loss 0.0452\n",
      "Training Accuracy: 0.9529, Testing Accuracy: 0.9667\n",
      "\n"
     ]
    },
    {
     "name": "stdout",
     "output_type": "stream",
     "text": [
      "Epoch 120, Loss 0.0441\n",
      "Training Accuracy: 0.9535, Testing Accuracy: 0.9667\n",
      "\n"
     ]
    },
    {
     "name": "stdout",
     "output_type": "stream",
     "text": [
      "Epoch 130, Loss 0.0432\n",
      "Training Accuracy: 0.9545, Testing Accuracy: 0.9667\n",
      "\n"
     ]
    },
    {
     "name": "stdout",
     "output_type": "stream",
     "text": [
      "Epoch 140, Loss 0.0423\n",
      "Training Accuracy: 0.9549, Testing Accuracy: 0.9667\n",
      "\n"
     ]
    },
    {
     "name": "stdout",
     "output_type": "stream",
     "text": [
      "Epoch 150, Loss 0.0415\n",
      "Training Accuracy: 0.9560, Testing Accuracy: 0.9672\n",
      "\n"
     ]
    },
    {
     "name": "stdout",
     "output_type": "stream",
     "text": [
      "Epoch 160, Loss 0.0409\n",
      "Training Accuracy: 0.9565, Testing Accuracy: 0.9682\n",
      "\n"
     ]
    },
    {
     "name": "stdout",
     "output_type": "stream",
     "text": [
      "Epoch 170, Loss 0.0402\n",
      "Training Accuracy: 0.9569, Testing Accuracy: 0.9677\n",
      "\n"
     ]
    },
    {
     "name": "stdout",
     "output_type": "stream",
     "text": [
      "Epoch 180, Loss 0.0397\n",
      "Training Accuracy: 0.9574, Testing Accuracy: 0.9682\n",
      "\n"
     ]
    },
    {
     "name": "stdout",
     "output_type": "stream",
     "text": [
      "Epoch 190, Loss 0.0391\n",
      "Training Accuracy: 0.9583, Testing Accuracy: 0.9677\n",
      "\n"
     ]
    },
    {
     "name": "stdout",
     "output_type": "stream",
     "text": [
      "Epoch 200, Loss 0.0386\n",
      "Training Accuracy: 0.9585, Testing Accuracy: 0.9688\n",
      "\n"
     ]
    },
    {
     "name": "stdout",
     "output_type": "stream",
     "text": [
      "Epoch 210, Loss 0.0382\n",
      "Training Accuracy: 0.9589, Testing Accuracy: 0.9698\n",
      "\n"
     ]
    },
    {
     "name": "stdout",
     "output_type": "stream",
     "text": [
      "Epoch 220, Loss 0.0378\n",
      "Training Accuracy: 0.9594, Testing Accuracy: 0.9693\n",
      "\n"
     ]
    },
    {
     "name": "stdout",
     "output_type": "stream",
     "text": [
      "Epoch 230, Loss 0.0374\n",
      "Training Accuracy: 0.9597, Testing Accuracy: 0.9693\n",
      "\n"
     ]
    },
    {
     "name": "stdout",
     "output_type": "stream",
     "text": [
      "Epoch 240, Loss 0.037\n",
      "Training Accuracy: 0.9603, Testing Accuracy: 0.9688\n",
      "\n"
     ]
    },
    {
     "data": {
      "text/plain": [
       "0.02972122148955668"
      ]
     },
     "execution_count": 23,
     "metadata": {},
     "output_type": "execute_result"
    }
   ],
   "source": [
    "lr_learner.train_loop(dl)"
   ]
  },
  {
   "cell_type": "code",
   "execution_count": 24,
   "id": "ca410940",
   "metadata": {
    "execution": {
     "iopub.execute_input": "2022-01-16T10:10:37.651176Z",
     "iopub.status.busy": "2022-01-16T10:10:37.650530Z",
     "iopub.status.idle": "2022-01-16T10:10:37.892839Z",
     "shell.execute_reply": "2022-01-16T10:10:37.892315Z"
    },
    "papermill": {
     "duration": 0.302746,
     "end_time": "2022-01-16T10:10:37.892965",
     "exception": false,
     "start_time": "2022-01-16T10:10:37.590219",
     "status": "completed"
    },
    "tags": []
   },
   "outputs": [
    {
     "data": {
      "text/plain": [
       "<matplotlib.legend.Legend at 0x7fceee0f2c88>"
      ]
     },
     "execution_count": 24,
     "metadata": {},
     "output_type": "execute_result"
    },
    {
     "data": {
      "image/png": "[encoded data removed]",
      "text/plain": [
       "<Figure size 1080x720 with 1 Axes>"
      ]
     },
     "metadata": {
      "needs_background": "light"
     },
     "output_type": "display_data"
    }
   ],
   "source": [
    "#comparing the results of NN and LR\n",
    "plt.figure(figsize=(15,10))\n",
    "\n",
    "# Neural Network plots\n",
    "plt.plot(acc_nn.accuracies, 'r-', label = \"Training Accuracies - NN\")\n",
    "plt.plot(acc_nn.test_accuracies, 'g-', label = \"Testing Accuracies - NN\")\n",
    "\n",
    "# Logistic Regression plots\n",
    "plt.plot(acc_lr.accuracies, 'k-', label = \"Training Accuracies - LR\")\n",
    "plt.plot(acc_lr.test_accuracies, 'b-', label = \"Testing Accuracies - LR\")\n",
    "plt.legend()"
   ]
  },
  {
   "cell_type": "markdown",
   "id": "80dfb35c",
   "metadata": {
    "papermill": {
     "duration": 0.046931,
     "end_time": "2022-01-16T10:10:37.986542",
     "exception": false,
     "start_time": "2022-01-16T10:10:37.939611",
     "status": "completed"
    },
    "tags": []
   },
   "source": [
    "#### Plotting the outputs of this layer of the NN.\n"
   ]
  },
  {
   "cell_type": "code",
   "execution_count": 25,
   "id": "45eb2ff5",
   "metadata": {
    "execution": {
     "iopub.execute_input": "2022-01-16T10:10:38.085515Z",
     "iopub.status.busy": "2022-01-16T10:10:38.084875Z",
     "iopub.status.idle": "2022-01-16T10:10:38.110117Z",
     "shell.execute_reply": "2022-01-16T10:10:38.110926Z"
    },
    "papermill": {
     "duration": 0.07776,
     "end_time": "2022-01-16T10:10:38.111094",
     "exception": false,
     "start_time": "2022-01-16T10:10:38.033334",
     "status": "completed"
    },
    "tags": []
   },
   "outputs": [],
   "source": [
    "new_model = Model(layers[:-2])\n",
    "testing_plot = new_model(testing_data_x)"
   ]
  },
  {
   "cell_type": "code",
   "execution_count": 26,
   "id": "4c0a5485",
   "metadata": {
    "execution": {
     "iopub.execute_input": "2022-01-16T10:10:38.219253Z",
     "iopub.status.busy": "2022-01-16T10:10:38.218638Z",
     "iopub.status.idle": "2022-01-16T10:10:38.464977Z",
     "shell.execute_reply": "2022-01-16T10:10:38.465430Z"
    },
    "papermill": {
     "duration": 0.305186,
     "end_time": "2022-01-16T10:10:38.465576",
     "exception": false,
     "start_time": "2022-01-16T10:10:38.160390",
     "status": "completed"
    },
    "tags": []
   },
   "outputs": [
    {
     "data": {
      "text/plain": [
       "Text(0.5, 1.0, 'Outputs')"
      ]
     },
     "execution_count": 26,
     "metadata": {},
     "output_type": "execute_result"
    },
    {
     "data": {
      "image/png": "[encoded data removed]",
      "text/plain": [
       "<Figure size 576x504 with 1 Axes>"
      ]
     },
     "metadata": {
      "needs_background": "light"
     },
     "output_type": "display_data"
    }
   ],
   "source": [
    "# Plotting the scatter plot of points and color coding by class\n",
    "plt.figure(figsize=(8,7))\n",
    "plt.scatter(testing_plot[:,0], testing_plot[:,1], alpha = 0.1, c = y_test.ravel());\n",
    "plt.title('Outputs')"
   ]
  },
  {
   "cell_type": "markdown",
   "id": "a74fcf8f",
   "metadata": {
    "papermill": {
     "duration": 0.050646,
     "end_time": "2022-01-16T10:10:38.567396",
     "exception": false,
     "start_time": "2022-01-16T10:10:38.516750",
     "status": "completed"
    },
    "tags": []
   },
   "source": [
    "Probability contours"
   ]
  },
  {
   "cell_type": "code",
   "execution_count": 27,
   "id": "d0afc8e3",
   "metadata": {
    "execution": {
     "iopub.execute_input": "2022-01-16T10:10:38.679228Z",
     "iopub.status.busy": "2022-01-16T10:10:38.673290Z",
     "iopub.status.idle": "2022-01-16T10:10:38.686848Z",
     "shell.execute_reply": "2022-01-16T10:10:38.687278Z"
    },
    "papermill": {
     "duration": 0.068765,
     "end_time": "2022-01-16T10:10:38.687427",
     "exception": false,
     "start_time": "2022-01-16T10:10:38.618662",
     "status": "completed"
    },
    "tags": []
   },
   "outputs": [],
   "source": [
    "model_prob = Model(layers[-2:]) "
   ]
  },
  {
   "cell_type": "code",
   "execution_count": 28,
   "id": "9b96e238",
   "metadata": {
    "execution": {
     "iopub.execute_input": "2022-01-16T10:10:38.834081Z",
     "iopub.status.busy": "2022-01-16T10:10:38.833474Z",
     "iopub.status.idle": "2022-01-16T10:10:38.846584Z",
     "shell.execute_reply": "2022-01-16T10:10:38.847028Z"
    },
    "papermill": {
     "duration": 0.07637,
     "end_time": "2022-01-16T10:10:38.847173",
     "exception": false,
     "start_time": "2022-01-16T10:10:38.770803",
     "status": "completed"
    },
    "tags": []
   },
   "outputs": [],
   "source": [
    "#creating the x and y ranges according to the above generated plot.\n",
    "x_range = np.linspace(-4, 1, 100) \n",
    "y_range = np.linspace(-6, 6, 100) \n",
    "x_grid, y_grid = np.meshgrid(x_range, y_range) # x_grid and y_grig are of size 100 X 100\n",
    "\n",
    "# converting x_grid and y_grid to continuous arrays\n",
    "x_gridflat = np.ravel(x_grid)\n",
    "y_gridflat = np.ravel(y_grid)\n",
    "\n",
    "# The last layer of the current model takes two columns as input. Hence transpose of np.vstack() is required.\n",
    "X = np.vstack((x_gridflat, y_gridflat)).T\n",
    "\n",
    "prob_contour = model_prob(X).reshape(100,100) "
   ]
  },
  {
   "cell_type": "code",
   "execution_count": 29,
   "id": "da72499a",
   "metadata": {
    "execution": {
     "iopub.execute_input": "2022-01-16T10:10:38.963189Z",
     "iopub.status.busy": "2022-01-16T10:10:38.962625Z",
     "iopub.status.idle": "2022-01-16T10:10:39.239535Z",
     "shell.execute_reply": "2022-01-16T10:10:39.240017Z"
    },
    "papermill": {
     "duration": 0.342538,
     "end_time": "2022-01-16T10:10:39.240169",
     "exception": false,
     "start_time": "2022-01-16T10:10:38.897631",
     "status": "completed"
    },
    "tags": []
   },
   "outputs": [
    {
     "data": {
      "image/png": "[encoded data removed]",
      "text/plain": [
       "<Figure size 720x648 with 1 Axes>"
      ]
     },
     "metadata": {
      "needs_background": "light"
     },
     "output_type": "display_data"
    }
   ],
   "source": [
    "plt.figure(figsize=(10,9))\n",
    "plt.scatter(testing_plot[:,0], testing_plot[:,1], alpha = 0.1, c = y_test.ravel())\n",
    "contours = plt.contour(x_grid,y_grid,prob_contour)\n",
    "plt.title('Probability Contours')\n",
    "plt.clabel(contours, inline = True );"
   ]
  },
  {
   "cell_type": "code",
   "execution_count": null,
   "id": "e81b4ac7",
   "metadata": {
    "papermill": {
     "duration": 0.054671,
     "end_time": "2022-01-16T10:10:39.349212",
     "exception": false,
     "start_time": "2022-01-16T10:10:39.294541",
     "status": "completed"
    },
    "tags": []
   },
   "outputs": [],
   "source": []
  }
 ],
 "metadata": {
  "kernelspec": {
   "display_name": "Python 3",
   "language": "python",
   "name": "python3"
  },
  "language_info": {
   "codemirror_mode": {
    "name": "ipython",
    "version": 3
   },
   "file_extension": ".py",
   "mimetype": "text/x-python",
   "name": "python",
   "nbconvert_exporter": "python",
   "pygments_lexer": "ipython3",
   "version": "3.6.15"
  },
  "papermill": {
   "default_parameters": {},
   "duration": 111.151335,
   "end_time": "2022-01-16T10:10:39.823805",
   "environment_variables": {},
   "exception": null,
   "input_path": "2020-08-11-part2.ipynb",
   "output_path": "2020-08-11-part2.ipynb",
   "parameters": {},
   "start_time": "2022-01-16T10:08:48.672470",
   "version": "2.3.3"
  }
 },
 "nbformat": 4,
 "nbformat_minor": 5
}