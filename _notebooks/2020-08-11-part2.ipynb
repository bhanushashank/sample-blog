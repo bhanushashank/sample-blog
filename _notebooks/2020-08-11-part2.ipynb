{
 "cells": [
  {
   "cell_type": "markdown",
   "id": "98380cd3",
   "metadata": {
    "papermill": {
     "duration": 0.036775,
     "end_time": "2022-10-27T10:12:10.594796",
     "exception": false,
     "start_time": "2022-10-27T10:12:10.558021",
     "status": "completed"
    },
    "tags": []
   },
   "source": [
    "# Distinguish Your Own Digits (DYOD)"
   ]
  },
  {
   "cell_type": "markdown",
   "id": "ef31240d",
   "metadata": {
    "papermill": {
     "duration": 0.039298,
     "end_time": "2022-10-27T10:12:10.668377",
     "exception": false,
     "start_time": "2022-10-27T10:12:10.629079",
     "status": "completed"
    },
    "tags": []
   },
   "source": [
    "You are going to write a classifier that distinguishes between the number 3 and number 8."
   ]
  },
  {
   "cell_type": "code",
   "execution_count": 1,
   "id": "b15c8646",
   "metadata": {
    "execution": {
     "iopub.execute_input": "2022-10-27T10:12:10.757269Z",
     "iopub.status.busy": "2022-10-27T10:12:10.756221Z",
     "iopub.status.idle": "2022-10-27T10:12:10.768962Z",
     "shell.execute_reply": "2022-10-27T10:12:10.768315Z"
    },
    "papermill": {
     "duration": 0.064425,
     "end_time": "2022-10-27T10:12:10.769126",
     "exception": false,
     "start_time": "2022-10-27T10:12:10.704701",
     "status": "completed"
    },
    "tags": []
   },
   "outputs": [],
   "source": [
    "%load_ext autoreload\n",
    "%autoreload 2"
   ]
  },
  {
   "cell_type": "code",
   "execution_count": 2,
   "id": "22ef38dc",
   "metadata": {
    "execution": {
     "iopub.execute_input": "2022-10-27T10:12:10.863883Z",
     "iopub.status.busy": "2022-10-27T10:12:10.863113Z",
     "iopub.status.idle": "2022-10-27T10:12:11.546109Z",
     "shell.execute_reply": "2022-10-27T10:12:11.545317Z"
    },
    "papermill": {
     "duration": 0.731008,
     "end_time": "2022-10-27T10:12:11.546272",
     "exception": false,
     "start_time": "2022-10-27T10:12:10.815264",
     "status": "completed"
    },
    "tags": []
   },
   "outputs": [],
   "source": [
    "%matplotlib inline\n",
    "import numpy as np\n",
    "import matplotlib.pyplot as plt\n",
    "import pandas as pd"
   ]
  },
  {
   "cell_type": "markdown",
   "id": "ba036198",
   "metadata": {
    "papermill": {
     "duration": 0.0311,
     "end_time": "2022-10-27T10:12:11.606589",
     "exception": false,
     "start_time": "2022-10-27T10:12:11.575489",
     "status": "completed"
    },
    "tags": []
   },
   "source": [
    "From the command line run `pip install mnist`. This is a library that will help you bring down the mnist dataset. If you run this from a notebook, you need to put  `!pip install mnist` in a cell by itself."
   ]
  },
  {
   "cell_type": "code",
   "execution_count": 3,
   "id": "bb6ad8a1",
   "metadata": {
    "execution": {
     "iopub.execute_input": "2022-10-27T10:12:11.673433Z",
     "iopub.status.busy": "2022-10-27T10:12:11.672710Z",
     "iopub.status.idle": "2022-10-27T10:12:14.389338Z",
     "shell.execute_reply": "2022-10-27T10:12:14.388093Z"
    },
    "papermill": {
     "duration": 2.753407,
     "end_time": "2022-10-27T10:12:14.389517",
     "exception": false,
     "start_time": "2022-10-27T10:12:11.636110",
     "status": "completed"
    },
    "tags": []
   },
   "outputs": [
    {
     "name": "stdout",
     "output_type": "stream",
     "text": [
      "Collecting mnist\r\n"
     ]
    },
    {
     "name": "stdout",
     "output_type": "stream",
     "text": [
      "  Downloading mnist-0.2.2-py2.py3-none-any.whl (3.5 kB)\r\n",
      "Requirement already satisfied: numpy in /opt/hostedtoolcache/Python/3.6.15/x64/lib/python3.6/site-packages (from mnist) (1.19.5)\r\n"
     ]
    },
    {
     "name": "stdout",
     "output_type": "stream",
     "text": [
      "Installing collected packages: mnist\r\n"
     ]
    },
    {
     "name": "stdout",
     "output_type": "stream",
     "text": [
      "Successfully installed mnist-0.2.2\r\n"
     ]
    }
   ],
   "source": [
    "!pip install mnist"
   ]
  },
  {
   "cell_type": "markdown",
   "id": "69df9c9a",
   "metadata": {
    "papermill": {
     "duration": 0.028196,
     "end_time": "2022-10-27T10:12:14.446365",
     "exception": false,
     "start_time": "2022-10-27T10:12:14.418169",
     "status": "completed"
    },
    "tags": []
   },
   "source": [
    "## Preparing the Data"
   ]
  },
  {
   "cell_type": "code",
   "execution_count": 4,
   "id": "7f69d806",
   "metadata": {
    "execution": {
     "iopub.execute_input": "2022-10-27T10:12:14.515583Z",
     "iopub.status.busy": "2022-10-27T10:12:14.508353Z",
     "iopub.status.idle": "2022-10-27T10:12:14.524878Z",
     "shell.execute_reply": "2022-10-27T10:12:14.524279Z"
    },
    "papermill": {
     "duration": 0.050334,
     "end_time": "2022-10-27T10:12:14.524996",
     "exception": false,
     "start_time": "2022-10-27T10:12:14.474662",
     "status": "completed"
    },
    "tags": []
   },
   "outputs": [],
   "source": [
    "import mnist"
   ]
  },
  {
   "cell_type": "code",
   "execution_count": 5,
   "id": "a411e44f",
   "metadata": {
    "execution": {
     "iopub.execute_input": "2022-10-27T10:12:14.584407Z",
     "iopub.status.busy": "2022-10-27T10:12:14.583666Z",
     "iopub.status.idle": "2022-10-27T10:12:15.104018Z",
     "shell.execute_reply": "2022-10-27T10:12:15.103414Z"
    },
    "papermill": {
     "duration": 0.551435,
     "end_time": "2022-10-27T10:12:15.104183",
     "exception": false,
     "start_time": "2022-10-27T10:12:14.552748",
     "status": "completed"
    },
    "tags": []
   },
   "outputs": [],
   "source": [
    "train_images = mnist.train_images()\n",
    "train_labels = mnist.train_labels()"
   ]
  },
  {
   "cell_type": "code",
   "execution_count": 6,
   "id": "dceab3a5",
   "metadata": {
    "execution": {
     "iopub.execute_input": "2022-10-27T10:12:15.167662Z",
     "iopub.status.busy": "2022-10-27T10:12:15.166929Z",
     "iopub.status.idle": "2022-10-27T10:12:15.184245Z",
     "shell.execute_reply": "2022-10-27T10:12:15.183727Z"
    },
    "papermill": {
     "duration": 0.048802,
     "end_time": "2022-10-27T10:12:15.184368",
     "exception": false,
     "start_time": "2022-10-27T10:12:15.135566",
     "status": "completed"
    },
    "tags": []
   },
   "outputs": [
    {
     "data": {
      "text/plain": [
       "((60000, 28, 28), (60000,))"
      ]
     },
     "execution_count": 6,
     "metadata": {},
     "output_type": "execute_result"
    }
   ],
   "source": [
    "train_images.shape, train_labels.shape"
   ]
  },
  {
   "cell_type": "code",
   "execution_count": 7,
   "id": "f50dc2bb",
   "metadata": {
    "execution": {
     "iopub.execute_input": "2022-10-27T10:12:15.246560Z",
     "iopub.status.busy": "2022-10-27T10:12:15.245747Z",
     "iopub.status.idle": "2022-10-27T10:12:15.395612Z",
     "shell.execute_reply": "2022-10-27T10:12:15.394762Z"
    },
    "papermill": {
     "duration": 0.182576,
     "end_time": "2022-10-27T10:12:15.395754",
     "exception": false,
     "start_time": "2022-10-27T10:12:15.213178",
     "status": "completed"
    },
    "tags": []
   },
   "outputs": [],
   "source": [
    "test_images = mnist.test_images()\n",
    "test_labels = mnist.test_labels()"
   ]
  },
  {
   "cell_type": "code",
   "execution_count": 8,
   "id": "fc38cf1b",
   "metadata": {
    "execution": {
     "iopub.execute_input": "2022-10-27T10:12:15.463296Z",
     "iopub.status.busy": "2022-10-27T10:12:15.462534Z",
     "iopub.status.idle": "2022-10-27T10:12:15.479146Z",
     "shell.execute_reply": "2022-10-27T10:12:15.478433Z"
    },
    "papermill": {
     "duration": 0.052938,
     "end_time": "2022-10-27T10:12:15.479283",
     "exception": false,
     "start_time": "2022-10-27T10:12:15.426345",
     "status": "completed"
    },
    "tags": []
   },
   "outputs": [
    {
     "data": {
      "text/plain": [
       "((10000, 28, 28), (10000,))"
      ]
     },
     "execution_count": 8,
     "metadata": {},
     "output_type": "execute_result"
    }
   ],
   "source": [
    "test_images.shape, test_labels.shape"
   ]
  },
  {
   "cell_type": "code",
   "execution_count": 9,
   "id": "f9ed8fe0",
   "metadata": {
    "execution": {
     "iopub.execute_input": "2022-10-27T10:12:15.550301Z",
     "iopub.status.busy": "2022-10-27T10:12:15.549609Z",
     "iopub.status.idle": "2022-10-27T10:12:15.733097Z",
     "shell.execute_reply": "2022-10-27T10:12:15.732559Z"
    },
    "papermill": {
     "duration": 0.21977,
     "end_time": "2022-10-27T10:12:15.733232",
     "exception": false,
     "start_time": "2022-10-27T10:12:15.513462",
     "status": "completed"
    },
    "tags": []
   },
   "outputs": [
    {
     "name": "stdout",
     "output_type": "stream",
     "text": [
      "2\n"
     ]
    },
    {
     "data": {
      "text/plain": [
       "<matplotlib.image.AxesImage at 0x7f996f6a5cf8>"
      ]
     },
     "execution_count": 9,
     "metadata": {},
     "output_type": "execute_result"
    },
    {
     "data": {
      "image/png": "[encoded data removed]",
      "text/plain": [
       "<Figure size 432x288 with 1 Axes>"
      ]
     },
     "metadata": {
      "needs_background": "light"
     },
     "output_type": "display_data"
    }
   ],
   "source": [
    "image_index = 7776 # You may select anything up to 60,000\n",
    "print(train_labels[image_index]) \n",
    "plt.imshow(train_images[image_index], cmap='Greys')"
   ]
  },
  {
   "cell_type": "markdown",
   "id": "a8d2388d",
   "metadata": {
    "papermill": {
     "duration": 0.033402,
     "end_time": "2022-10-27T10:12:15.798303",
     "exception": false,
     "start_time": "2022-10-27T10:12:15.764901",
     "status": "completed"
    },
    "tags": []
   },
   "source": [
    "## Filter data to get 3 and 8 out"
   ]
  },
  {
   "cell_type": "code",
   "execution_count": 10,
   "id": "776f7fc7",
   "metadata": {
    "execution": {
     "iopub.execute_input": "2022-10-27T10:12:15.868428Z",
     "iopub.status.busy": "2022-10-27T10:12:15.866386Z",
     "iopub.status.idle": "2022-10-27T10:12:15.889101Z",
     "shell.execute_reply": "2022-10-27T10:12:15.888402Z"
    },
    "papermill": {
     "duration": 0.060885,
     "end_time": "2022-10-27T10:12:15.889243",
     "exception": false,
     "start_time": "2022-10-27T10:12:15.828358",
     "status": "completed"
    },
    "tags": []
   },
   "outputs": [],
   "source": [
    "train_filter = np.where((train_labels == 3 ) | (train_labels == 8))\n",
    "test_filter = np.where((test_labels == 3) | (test_labels == 8))\n",
    "X_train, y_train = train_images[train_filter], train_labels[train_filter]\n",
    "X_test, y_test = test_images[test_filter], test_labels[test_filter]"
   ]
  },
  {
   "cell_type": "markdown",
   "id": "948f0b7e",
   "metadata": {
    "papermill": {
     "duration": 0.033017,
     "end_time": "2022-10-27T10:12:15.954028",
     "exception": false,
     "start_time": "2022-10-27T10:12:15.921011",
     "status": "completed"
    },
    "tags": []
   },
   "source": [
    "We normalize the pizel values in the 0 to 1 range"
   ]
  },
  {
   "cell_type": "code",
   "execution_count": 11,
   "id": "ee4c2166",
   "metadata": {
    "execution": {
     "iopub.execute_input": "2022-10-27T10:12:16.034048Z",
     "iopub.status.busy": "2022-10-27T10:12:16.025780Z",
     "iopub.status.idle": "2022-10-27T10:12:16.084289Z",
     "shell.execute_reply": "2022-10-27T10:12:16.083640Z"
    },
    "papermill": {
     "duration": 0.099985,
     "end_time": "2022-10-27T10:12:16.084431",
     "exception": false,
     "start_time": "2022-10-27T10:12:15.984446",
     "status": "completed"
    },
    "tags": []
   },
   "outputs": [],
   "source": [
    "X_train = X_train/255.\n",
    "X_test = X_test/255."
   ]
  },
  {
   "cell_type": "markdown",
   "id": "ddcf4fab",
   "metadata": {
    "papermill": {
     "duration": 0.032917,
     "end_time": "2022-10-27T10:12:16.151066",
     "exception": false,
     "start_time": "2022-10-27T10:12:16.118149",
     "status": "completed"
    },
    "tags": []
   },
   "source": [
    "And setup the labels as 1 (when the digit is 3) and 0 (when the digit is 8)"
   ]
  },
  {
   "cell_type": "code",
   "execution_count": 12,
   "id": "7dc908f2",
   "metadata": {
    "execution": {
     "iopub.execute_input": "2022-10-27T10:12:16.218311Z",
     "iopub.status.busy": "2022-10-27T10:12:16.217556Z",
     "iopub.status.idle": "2022-10-27T10:12:16.246243Z",
     "shell.execute_reply": "2022-10-27T10:12:16.245597Z"
    },
    "papermill": {
     "duration": 0.06404,
     "end_time": "2022-10-27T10:12:16.246387",
     "exception": false,
     "start_time": "2022-10-27T10:12:16.182347",
     "status": "completed"
    },
    "tags": []
   },
   "outputs": [],
   "source": [
    "y_train = 1*(y_train==3)\n",
    "y_test = 1*(y_test==3)"
   ]
  },
  {
   "cell_type": "code",
   "execution_count": 13,
   "id": "01e4e969",
   "metadata": {
    "execution": {
     "iopub.execute_input": "2022-10-27T10:12:16.321964Z",
     "iopub.status.busy": "2022-10-27T10:12:16.321272Z",
     "iopub.status.idle": "2022-10-27T10:12:16.337601Z",
     "shell.execute_reply": "2022-10-27T10:12:16.337055Z"
    },
    "papermill": {
     "duration": 0.054958,
     "end_time": "2022-10-27T10:12:16.337723",
     "exception": false,
     "start_time": "2022-10-27T10:12:16.282765",
     "status": "completed"
    },
    "tags": []
   },
   "outputs": [
    {
     "data": {
      "text/plain": [
       "((11982, 28, 28), (1984, 28, 28))"
      ]
     },
     "execution_count": 13,
     "metadata": {},
     "output_type": "execute_result"
    }
   ],
   "source": [
    "X_train.shape, X_test.shape"
   ]
  },
  {
   "cell_type": "markdown",
   "id": "5ccf3f85",
   "metadata": {
    "papermill": {
     "duration": 0.030657,
     "end_time": "2022-10-27T10:12:16.400880",
     "exception": false,
     "start_time": "2022-10-27T10:12:16.370223",
     "status": "completed"
    },
    "tags": []
   },
   "source": [
    "We reshape the data to flatten the image pixels into a set of features or co-variates:"
   ]
  },
  {
   "cell_type": "code",
   "execution_count": 14,
   "id": "5286a4a3",
   "metadata": {
    "execution": {
     "iopub.execute_input": "2022-10-27T10:12:16.468401Z",
     "iopub.status.busy": "2022-10-27T10:12:16.467688Z",
     "iopub.status.idle": "2022-10-27T10:12:16.481430Z",
     "shell.execute_reply": "2022-10-27T10:12:16.481979Z"
    },
    "papermill": {
     "duration": 0.050738,
     "end_time": "2022-10-27T10:12:16.482113",
     "exception": false,
     "start_time": "2022-10-27T10:12:16.431375",
     "status": "completed"
    },
    "tags": []
   },
   "outputs": [
    {
     "data": {
      "text/plain": [
       "((11982, 784), (1984, 784))"
      ]
     },
     "execution_count": 14,
     "metadata": {},
     "output_type": "execute_result"
    }
   ],
   "source": [
    "X_train = X_train.reshape(X_train.shape[0], -1)\n",
    "X_test = X_test.reshape(X_test.shape[0], -1)\n",
    "X_train.shape, X_test.shape"
   ]
  },
  {
   "cell_type": "code",
   "execution_count": 15,
   "id": "73c5f88a",
   "metadata": {
    "execution": {
     "iopub.execute_input": "2022-10-27T10:12:16.549734Z",
     "iopub.status.busy": "2022-10-27T10:12:16.549077Z",
     "iopub.status.idle": "2022-10-27T10:12:16.570167Z",
     "shell.execute_reply": "2022-10-27T10:12:16.569405Z"
    },
    "papermill": {
     "duration": 0.056422,
     "end_time": "2022-10-27T10:12:16.570293",
     "exception": false,
     "start_time": "2022-10-27T10:12:16.513871",
     "status": "completed"
    },
    "tags": []
   },
   "outputs": [],
   "source": [
    "#Impoting functions from 'Kudzu'\n",
    "from kudzu.model import Model\n",
    "from kudzu.train import Learner\n",
    "from kudzu.optim import GD\n",
    "from kudzu.data import Data, Sampler,Dataloader\n",
    "\n",
    "from kudzu.callbacks import AccCallback\n",
    "from kudzu.callbacks import ClfCallback\n",
    "\n",
    "from kudzu.loss import MSE\n",
    "\n",
    "from kudzu.layer import Sigmoid,Relu\n",
    "from kudzu.layer import Affine"
   ]
  },
  {
   "cell_type": "markdown",
   "id": "bc01172a",
   "metadata": {
    "papermill": {
     "duration": 0.030832,
     "end_time": "2022-10-27T10:12:16.633356",
     "exception": false,
     "start_time": "2022-10-27T10:12:16.602524",
     "status": "completed"
    },
    "tags": []
   },
   "source": [
    "### Let us create a `Config` class, to store important parameters. \n",
    "This class essentially plays the role of a dictionary."
   ]
  },
  {
   "cell_type": "code",
   "execution_count": 16,
   "id": "978281aa",
   "metadata": {
    "execution": {
     "iopub.execute_input": "2022-10-27T10:12:16.699219Z",
     "iopub.status.busy": "2022-10-27T10:12:16.698385Z",
     "iopub.status.idle": "2022-10-27T10:12:16.711937Z",
     "shell.execute_reply": "2022-10-27T10:12:16.711277Z"
    },
    "papermill": {
     "duration": 0.047802,
     "end_time": "2022-10-27T10:12:16.712074",
     "exception": false,
     "start_time": "2022-10-27T10:12:16.664272",
     "status": "completed"
    },
    "tags": []
   },
   "outputs": [],
   "source": [
    "class Config:\n",
    "    pass\n",
    "config = Config()\n",
    "config.lr = 0.001\n",
    "config.num_epochs = 250\n",
    "config.bs = 50"
   ]
  },
  {
   "cell_type": "markdown",
   "id": "1385fa59",
   "metadata": {
    "papermill": {
     "duration": 0.032195,
     "end_time": "2022-10-27T10:12:16.775681",
     "exception": false,
     "start_time": "2022-10-27T10:12:16.743486",
     "status": "completed"
    },
    "tags": []
   },
   "source": [
    "### Running Models with the Training data\n",
    "Details about the network layers:\n",
    "- A first affine layer has 784 inputs and does 100 affine transforms. These are followed by a Relu\n",
    "- A second affine layer has 100 inputs from the 100 activations of the past layer, and does 100 affine transforms. These are followed by a Relu\n",
    "- A third affine layer has 100 activations and does 2 affine transformations to create an embedding for visualization. There is no non-linearity here.\n",
    "- A final \"logistic regression\" which has an affine transform from 2 inputs to 1 output, which is squeezed through a sigmoid.\n"
   ]
  },
  {
   "cell_type": "code",
   "execution_count": 17,
   "id": "2b9c66db",
   "metadata": {
    "execution": {
     "iopub.execute_input": "2022-10-27T10:12:16.843073Z",
     "iopub.status.busy": "2022-10-27T10:12:16.842378Z",
     "iopub.status.idle": "2022-10-27T10:12:16.856226Z",
     "shell.execute_reply": "2022-10-27T10:12:16.855400Z"
    },
    "papermill": {
     "duration": 0.050172,
     "end_time": "2022-10-27T10:12:16.856358",
     "exception": false,
     "start_time": "2022-10-27T10:12:16.806186",
     "status": "completed"
    },
    "tags": []
   },
   "outputs": [],
   "source": [
    "data = Data(X_train, y_train.reshape(-1,1))\n",
    "sampler = Sampler(data, config.bs, shuffle=True)\n",
    "\n",
    "dl = Dataloader(data, sampler)\n",
    "\n",
    "opt = GD(config.lr)\n",
    "loss = MSE()"
   ]
  },
  {
   "cell_type": "code",
   "execution_count": 18,
   "id": "b275e4c2",
   "metadata": {
    "execution": {
     "iopub.execute_input": "2022-10-27T10:12:16.926662Z",
     "iopub.status.busy": "2022-10-27T10:12:16.925929Z",
     "iopub.status.idle": "2022-10-27T10:12:16.940408Z",
     "shell.execute_reply": "2022-10-27T10:12:16.939683Z"
    },
    "papermill": {
     "duration": 0.05004,
     "end_time": "2022-10-27T10:12:16.940537",
     "exception": false,
     "start_time": "2022-10-27T10:12:16.890497",
     "status": "completed"
    },
    "tags": []
   },
   "outputs": [],
   "source": [
    "training_data_x = X_train\n",
    "testing_data_x = X_test\n",
    "training_data_y = y_train.reshape(-1,1)\n",
    "testing_data_y = y_test.reshape(-1,1)"
   ]
  },
  {
   "cell_type": "code",
   "execution_count": 19,
   "id": "76951160",
   "metadata": {
    "execution": {
     "iopub.execute_input": "2022-10-27T10:12:17.018917Z",
     "iopub.status.busy": "2022-10-27T10:12:17.018151Z",
     "iopub.status.idle": "2022-10-27T10:12:17.038711Z",
     "shell.execute_reply": "2022-10-27T10:12:17.038168Z"
    },
    "papermill": {
     "duration": 0.061615,
     "end_time": "2022-10-27T10:12:17.038853",
     "exception": false,
     "start_time": "2022-10-27T10:12:16.977238",
     "status": "completed"
    },
    "tags": []
   },
   "outputs": [
    {
     "name": "stdout",
     "output_type": "stream",
     "text": [
      "xavier\n",
      "xavier\n",
      "xavier\n",
      "xavier\n",
      "xavier\n"
     ]
    }
   ],
   "source": [
    "layers = [Affine(\"first\", 784, 100), Relu(\"first\"), Affine(\"second\", 100, 100), Relu(\"second\"), Affine(\"third\", 100, 2), Affine(\"last\", 2, 1), Sigmoid(\"last\")]\n",
    "model_nn = Model(layers)\n",
    "model_lr = Model([Affine(\"logits\", 784, 1), Sigmoid(\"sigmoid\")])"
   ]
  },
  {
   "cell_type": "code",
   "execution_count": 20,
   "id": "6eede77a",
   "metadata": {
    "execution": {
     "iopub.execute_input": "2022-10-27T10:12:17.117213Z",
     "iopub.status.busy": "2022-10-27T10:12:17.115844Z",
     "iopub.status.idle": "2022-10-27T10:12:17.127623Z",
     "shell.execute_reply": "2022-10-27T10:12:17.128283Z"
    },
    "papermill": {
     "duration": 0.056382,
     "end_time": "2022-10-27T10:12:17.128415",
     "exception": false,
     "start_time": "2022-10-27T10:12:17.072033",
     "status": "completed"
    },
    "tags": []
   },
   "outputs": [],
   "source": [
    "nn_learner = Learner(loss, model_nn, opt, config.num_epochs)\n",
    "acc_nn = ClfCallback(nn_learner, config.bs, training_data_x , testing_data_x, training_data_y, testing_data_y)\n",
    "nn_learner.set_callbacks([acc_nn])"
   ]
  },
  {
   "cell_type": "code",
   "execution_count": 21,
   "id": "877b6cc7",
   "metadata": {
    "execution": {
     "iopub.execute_input": "2022-10-27T10:12:17.198094Z",
     "iopub.status.busy": "2022-10-27T10:12:17.197323Z",
     "iopub.status.idle": "2022-10-27T10:12:17.210537Z",
     "shell.execute_reply": "2022-10-27T10:12:17.209959Z"
    },
    "papermill": {
     "duration": 0.050392,
     "end_time": "2022-10-27T10:12:17.210674",
     "exception": false,
     "start_time": "2022-10-27T10:12:17.160282",
     "status": "completed"
    },
    "tags": []
   },
   "outputs": [],
   "source": [
    "lr_learner = Learner(loss, model_lr, opt, config.num_epochs)\n",
    "acc_lr = ClfCallback(lr_learner, config.bs, training_data_x , testing_data_x, training_data_y, testing_data_y)\n",
    "lr_learner.set_callbacks([acc_lr])"
   ]
  },
  {
   "cell_type": "code",
   "execution_count": 22,
   "id": "d9b133c3",
   "metadata": {
    "execution": {
     "iopub.execute_input": "2022-10-27T10:12:17.281774Z",
     "iopub.status.busy": "2022-10-27T10:12:17.281015Z",
     "iopub.status.idle": "2022-10-27T10:14:21.698559Z",
     "shell.execute_reply": "2022-10-27T10:14:21.699477Z"
    },
    "papermill": {
     "duration": 124.456521,
     "end_time": "2022-10-27T10:14:21.699633",
     "exception": false,
     "start_time": "2022-10-27T10:12:17.243112",
     "status": "completed"
    },
    "tags": []
   },
   "outputs": [
    {
     "name": "stdout",
     "output_type": "stream",
     "text": [
      "Epoch 0, Loss 0.2352\n",
      "Training Accuracy: 0.7502, Testing Accuracy: 0.7686\n",
      "\n"
     ]
    },
    {
     "name": "stdout",
     "output_type": "stream",
     "text": [
      "Epoch 10, Loss 0.0827\n",
      "Training Accuracy: 0.9212, Testing Accuracy: 0.9320\n",
      "\n"
     ]
    },
    {
     "name": "stdout",
     "output_type": "stream",
     "text": [
      "Epoch 20, Loss 0.0527\n",
      "Training Accuracy: 0.9458, Testing Accuracy: 0.9551\n",
      "\n"
     ]
    },
    {
     "name": "stdout",
     "output_type": "stream",
     "text": [
      "Epoch 30, Loss 0.0419\n",
      "Training Accuracy: 0.9547, Testing Accuracy: 0.9632\n",
      "\n"
     ]
    },
    {
     "name": "stdout",
     "output_type": "stream",
     "text": [
      "Epoch 40, Loss 0.0363\n",
      "Training Accuracy: 0.9605, Testing Accuracy: 0.9652\n",
      "\n"
     ]
    },
    {
     "name": "stdout",
     "output_type": "stream",
     "text": [
      "Epoch 50, Loss 0.0328\n",
      "Training Accuracy: 0.9647, Testing Accuracy: 0.9672\n",
      "\n"
     ]
    },
    {
     "name": "stdout",
     "output_type": "stream",
     "text": [
      "Epoch 60, Loss 0.0303\n",
      "Training Accuracy: 0.9667, Testing Accuracy: 0.9693\n",
      "\n"
     ]
    },
    {
     "name": "stdout",
     "output_type": "stream",
     "text": [
      "Epoch 70, Loss 0.0284\n",
      "Training Accuracy: 0.9675, Testing Accuracy: 0.9698\n",
      "\n"
     ]
    },
    {
     "name": "stdout",
     "output_type": "stream",
     "text": [
      "Epoch 80, Loss 0.027\n",
      "Training Accuracy: 0.9697, Testing Accuracy: 0.9708\n",
      "\n"
     ]
    },
    {
     "name": "stdout",
     "output_type": "stream",
     "text": [
      "Epoch 90, Loss 0.0257\n",
      "Training Accuracy: 0.9711, Testing Accuracy: 0.9723\n",
      "\n"
     ]
    },
    {
     "name": "stdout",
     "output_type": "stream",
     "text": [
      "Epoch 100, Loss 0.0247\n",
      "Training Accuracy: 0.9720, Testing Accuracy: 0.9738\n",
      "\n"
     ]
    },
    {
     "name": "stdout",
     "output_type": "stream",
     "text": [
      "Epoch 110, Loss 0.0238\n",
      "Training Accuracy: 0.9730, Testing Accuracy: 0.9743\n",
      "\n"
     ]
    },
    {
     "name": "stdout",
     "output_type": "stream",
     "text": [
      "Epoch 120, Loss 0.023\n",
      "Training Accuracy: 0.9745, Testing Accuracy: 0.9763\n",
      "\n"
     ]
    },
    {
     "name": "stdout",
     "output_type": "stream",
     "text": [
      "Epoch 130, Loss 0.0222\n",
      "Training Accuracy: 0.9751, Testing Accuracy: 0.9768\n",
      "\n"
     ]
    },
    {
     "name": "stdout",
     "output_type": "stream",
     "text": [
      "Epoch 140, Loss 0.0215\n",
      "Training Accuracy: 0.9761, Testing Accuracy: 0.9758\n",
      "\n"
     ]
    },
    {
     "name": "stdout",
     "output_type": "stream",
     "text": [
      "Epoch 150, Loss 0.0209\n",
      "Training Accuracy: 0.9769, Testing Accuracy: 0.9758\n",
      "\n"
     ]
    },
    {
     "name": "stdout",
     "output_type": "stream",
     "text": [
      "Epoch 160, Loss 0.0203\n",
      "Training Accuracy: 0.9775, Testing Accuracy: 0.9768\n",
      "\n"
     ]
    },
    {
     "name": "stdout",
     "output_type": "stream",
     "text": [
      "Epoch 170, Loss 0.0198\n",
      "Training Accuracy: 0.9782, Testing Accuracy: 0.9773\n",
      "\n"
     ]
    },
    {
     "name": "stdout",
     "output_type": "stream",
     "text": [
      "Epoch 180, Loss 0.0192\n",
      "Training Accuracy: 0.9787, Testing Accuracy: 0.9773\n",
      "\n"
     ]
    },
    {
     "name": "stdout",
     "output_type": "stream",
     "text": [
      "Epoch 190, Loss 0.0187\n",
      "Training Accuracy: 0.9795, Testing Accuracy: 0.9773\n",
      "\n"
     ]
    },
    {
     "name": "stdout",
     "output_type": "stream",
     "text": [
      "Epoch 200, Loss 0.0182\n",
      "Training Accuracy: 0.9801, Testing Accuracy: 0.9763\n",
      "\n"
     ]
    },
    {
     "name": "stdout",
     "output_type": "stream",
     "text": [
      "Epoch 210, Loss 0.0177\n",
      "Training Accuracy: 0.9806, Testing Accuracy: 0.9763\n",
      "\n"
     ]
    },
    {
     "name": "stdout",
     "output_type": "stream",
     "text": [
      "Epoch 220, Loss 0.0173\n",
      "Training Accuracy: 0.9809, Testing Accuracy: 0.9763\n",
      "\n"
     ]
    },
    {
     "name": "stdout",
     "output_type": "stream",
     "text": [
      "Epoch 230, Loss 0.0168\n",
      "Training Accuracy: 0.9816, Testing Accuracy: 0.9758\n",
      "\n"
     ]
    },
    {
     "name": "stdout",
     "output_type": "stream",
     "text": [
      "Epoch 240, Loss 0.0164\n",
      "Training Accuracy: 0.9821, Testing Accuracy: 0.9758\n",
      "\n"
     ]
    },
    {
     "data": {
      "text/plain": [
       "0.021465805691579742"
      ]
     },
     "execution_count": 22,
     "metadata": {},
     "output_type": "execute_result"
    }
   ],
   "source": [
    "nn_learner.train_loop(dl)"
   ]
  },
  {
   "cell_type": "code",
   "execution_count": 23,
   "id": "e0163366",
   "metadata": {
    "execution": {
     "iopub.execute_input": "2022-10-27T10:14:21.789046Z",
     "iopub.status.busy": "2022-10-27T10:14:21.788320Z",
     "iopub.status.idle": "2022-10-27T10:14:39.644934Z",
     "shell.execute_reply": "2022-10-27T10:14:39.646131Z"
    },
    "papermill": {
     "duration": 17.905707,
     "end_time": "2022-10-27T10:14:39.646298",
     "exception": false,
     "start_time": "2022-10-27T10:14:21.740591",
     "status": "completed"
    },
    "tags": []
   },
   "outputs": [
    {
     "name": "stdout",
     "output_type": "stream",
     "text": [
      "Epoch 0, Loss 0.2273\n",
      "Training Accuracy: 0.6859, Testing Accuracy: 0.7112\n",
      "\n"
     ]
    },
    {
     "name": "stdout",
     "output_type": "stream",
     "text": [
      "Epoch 10, Loss 0.1041\n",
      "Training Accuracy: 0.9089, Testing Accuracy: 0.9264\n",
      "\n"
     ]
    },
    {
     "name": "stdout",
     "output_type": "stream",
     "text": [
      "Epoch 20, Loss 0.0794\n",
      "Training Accuracy: 0.9286, Testing Accuracy: 0.9435\n",
      "\n"
     ]
    },
    {
     "name": "stdout",
     "output_type": "stream",
     "text": [
      "Epoch 30, Loss 0.0681\n",
      "Training Accuracy: 0.9365, Testing Accuracy: 0.9491\n",
      "\n"
     ]
    },
    {
     "name": "stdout",
     "output_type": "stream",
     "text": [
      "Epoch 40, Loss 0.0615\n",
      "Training Accuracy: 0.9419, Testing Accuracy: 0.9516\n",
      "\n"
     ]
    },
    {
     "name": "stdout",
     "output_type": "stream",
     "text": [
      "Epoch 50, Loss 0.057\n",
      "Training Accuracy: 0.9453, Testing Accuracy: 0.9551\n",
      "\n"
     ]
    },
    {
     "name": "stdout",
     "output_type": "stream",
     "text": [
      "Epoch 60, Loss 0.0537\n",
      "Training Accuracy: 0.9479, Testing Accuracy: 0.9597\n",
      "\n"
     ]
    },
    {
     "name": "stdout",
     "output_type": "stream",
     "text": [
      "Epoch 70, Loss 0.0512\n",
      "Training Accuracy: 0.9499, Testing Accuracy: 0.9607\n",
      "\n"
     ]
    },
    {
     "name": "stdout",
     "output_type": "stream",
     "text": [
      "Epoch 80, Loss 0.0492\n",
      "Training Accuracy: 0.9517, Testing Accuracy: 0.9612\n",
      "\n"
     ]
    },
    {
     "name": "stdout",
     "output_type": "stream",
     "text": [
      "Epoch 90, Loss 0.0475\n",
      "Training Accuracy: 0.9529, Testing Accuracy: 0.9627\n",
      "\n"
     ]
    },
    {
     "name": "stdout",
     "output_type": "stream",
     "text": [
      "Epoch 100, Loss 0.0461\n",
      "Training Accuracy: 0.9531, Testing Accuracy: 0.9627\n",
      "\n"
     ]
    },
    {
     "name": "stdout",
     "output_type": "stream",
     "text": [
      "Epoch 110, Loss 0.0449\n",
      "Training Accuracy: 0.9537, Testing Accuracy: 0.9642\n",
      "\n"
     ]
    },
    {
     "name": "stdout",
     "output_type": "stream",
     "text": [
      "Epoch 120, Loss 0.0439\n",
      "Training Accuracy: 0.9547, Testing Accuracy: 0.9652\n",
      "\n"
     ]
    },
    {
     "name": "stdout",
     "output_type": "stream",
     "text": [
      "Epoch 130, Loss 0.0429\n",
      "Training Accuracy: 0.9555, Testing Accuracy: 0.9667\n",
      "\n"
     ]
    },
    {
     "name": "stdout",
     "output_type": "stream",
     "text": [
      "Epoch 140, Loss 0.0421\n",
      "Training Accuracy: 0.9559, Testing Accuracy: 0.9667\n",
      "\n"
     ]
    },
    {
     "name": "stdout",
     "output_type": "stream",
     "text": [
      "Epoch 150, Loss 0.0414\n",
      "Training Accuracy: 0.9560, Testing Accuracy: 0.9657\n",
      "\n"
     ]
    },
    {
     "name": "stdout",
     "output_type": "stream",
     "text": [
      "Epoch 160, Loss 0.0407\n",
      "Training Accuracy: 0.9566, Testing Accuracy: 0.9662\n",
      "\n"
     ]
    },
    {
     "name": "stdout",
     "output_type": "stream",
     "text": [
      "Epoch 170, Loss 0.0401\n",
      "Training Accuracy: 0.9569, Testing Accuracy: 0.9662\n",
      "\n"
     ]
    },
    {
     "name": "stdout",
     "output_type": "stream",
     "text": [
      "Epoch 180, Loss 0.0396\n",
      "Training Accuracy: 0.9574, Testing Accuracy: 0.9667\n",
      "\n"
     ]
    },
    {
     "name": "stdout",
     "output_type": "stream",
     "text": [
      "Epoch 190, Loss 0.039\n",
      "Training Accuracy: 0.9580, Testing Accuracy: 0.9667\n",
      "\n"
     ]
    },
    {
     "name": "stdout",
     "output_type": "stream",
     "text": [
      "Epoch 200, Loss 0.0386\n",
      "Training Accuracy: 0.9584, Testing Accuracy: 0.9677\n",
      "\n"
     ]
    },
    {
     "name": "stdout",
     "output_type": "stream",
     "text": [
      "Epoch 210, Loss 0.0381\n",
      "Training Accuracy: 0.9584, Testing Accuracy: 0.9682\n",
      "\n"
     ]
    },
    {
     "name": "stdout",
     "output_type": "stream",
     "text": [
      "Epoch 220, Loss 0.0377\n",
      "Training Accuracy: 0.9585, Testing Accuracy: 0.9688\n",
      "\n"
     ]
    },
    {
     "name": "stdout",
     "output_type": "stream",
     "text": [
      "Epoch 230, Loss 0.0373\n",
      "Training Accuracy: 0.9587, Testing Accuracy: 0.9693\n",
      "\n"
     ]
    },
    {
     "name": "stdout",
     "output_type": "stream",
     "text": [
      "Epoch 240, Loss 0.037\n",
      "Training Accuracy: 0.9592, Testing Accuracy: 0.9693\n",
      "\n"
     ]
    },
    {
     "data": {
      "text/plain": [
       "0.059045543001294325"
      ]
     },
     "execution_count": 23,
     "metadata": {},
     "output_type": "execute_result"
    }
   ],
   "source": [
    "lr_learner.train_loop(dl)"
   ]
  },
  {
   "cell_type": "code",
   "execution_count": 24,
   "id": "ca410940",
   "metadata": {
    "execution": {
     "iopub.execute_input": "2022-10-27T10:14:39.752430Z",
     "iopub.status.busy": "2022-10-27T10:14:39.751746Z",
     "iopub.status.idle": "2022-10-27T10:14:40.016532Z",
     "shell.execute_reply": "2022-10-27T10:14:40.015650Z"
    },
    "papermill": {
     "duration": 0.322913,
     "end_time": "2022-10-27T10:14:40.016676",
     "exception": false,
     "start_time": "2022-10-27T10:14:39.693763",
     "status": "completed"
    },
    "tags": []
   },
   "outputs": [
    {
     "data": {
      "text/plain": [
       "<matplotlib.legend.Legend at 0x7f996f2123c8>"
      ]
     },
     "execution_count": 24,
     "metadata": {},
     "output_type": "execute_result"
    },
    {
     "data": {
      "image/png": "[encoded data removed]",
      "text/plain": [
       "<Figure size 1080x720 with 1 Axes>"
      ]
     },
     "metadata": {
      "needs_background": "light"
     },
     "output_type": "display_data"
    }
   ],
   "source": [
    "#comparing the results of NN and LR\n",
    "plt.figure(figsize=(15,10))\n",
    "\n",
    "# Neural Network plots\n",
    "plt.plot(acc_nn.accuracies, 'r-', label = \"Training Accuracies - NN\")\n",
    "plt.plot(acc_nn.test_accuracies, 'g-', label = \"Testing Accuracies - NN\")\n",
    "\n",
    "# Logistic Regression plots\n",
    "plt.plot(acc_lr.accuracies, 'k-', label = \"Training Accuracies - LR\")\n",
    "plt.plot(acc_lr.test_accuracies, 'b-', label = \"Testing Accuracies - LR\")\n",
    "plt.legend()"
   ]
  },
  {
   "cell_type": "markdown",
   "id": "80dfb35c",
   "metadata": {
    "papermill": {
     "duration": 0.048879,
     "end_time": "2022-10-27T10:14:40.115507",
     "exception": false,
     "start_time": "2022-10-27T10:14:40.066628",
     "status": "completed"
    },
    "tags": []
   },
   "source": [
    "#### Plotting the outputs of this layer of the NN.\n"
   ]
  },
  {
   "cell_type": "code",
   "execution_count": 25,
   "id": "45eb2ff5",
   "metadata": {
    "execution": {
     "iopub.execute_input": "2022-10-27T10:14:40.229718Z",
     "iopub.status.busy": "2022-10-27T10:14:40.228617Z",
     "iopub.status.idle": "2022-10-27T10:14:40.248508Z",
     "shell.execute_reply": "2022-10-27T10:14:40.249037Z"
    },
    "papermill": {
     "duration": 0.084002,
     "end_time": "2022-10-27T10:14:40.249191",
     "exception": false,
     "start_time": "2022-10-27T10:14:40.165189",
     "status": "completed"
    },
    "tags": []
   },
   "outputs": [],
   "source": [
    "new_model = Model(layers[:-2])\n",
    "testing_plot = new_model(testing_data_x)"
   ]
  },
  {
   "cell_type": "code",
   "execution_count": 26,
   "id": "4c0a5485",
   "metadata": {
    "execution": {
     "iopub.execute_input": "2022-10-27T10:14:40.368990Z",
     "iopub.status.busy": "2022-10-27T10:14:40.367893Z",
     "iopub.status.idle": "2022-10-27T10:14:40.581871Z",
     "shell.execute_reply": "2022-10-27T10:14:40.582389Z"
    },
    "papermill": {
     "duration": 0.280977,
     "end_time": "2022-10-27T10:14:40.582540",
     "exception": false,
     "start_time": "2022-10-27T10:14:40.301563",
     "status": "completed"
    },
    "tags": []
   },
   "outputs": [
    {
     "data": {
      "text/plain": [
       "Text(0.5, 1.0, 'Outputs')"
      ]
     },
     "execution_count": 26,
     "metadata": {},
     "output_type": "execute_result"
    },
    {
     "data": {
      "image/png": "[encoded data removed]",
      "text/plain": [
       "<Figure size 576x504 with 1 Axes>"
      ]
     },
     "metadata": {
      "needs_background": "light"
     },
     "output_type": "display_data"
    }
   ],
   "source": [
    "# Plotting the scatter plot of points and color coding by class\n",
    "plt.figure(figsize=(8,7))\n",
    "plt.scatter(testing_plot[:,0], testing_plot[:,1], alpha = 0.1, c = y_test.ravel());\n",
    "plt.title('Outputs')"
   ]
  },
  {
   "cell_type": "markdown",
   "id": "a74fcf8f",
   "metadata": {
    "papermill": {
     "duration": 0.089916,
     "end_time": "2022-10-27T10:14:40.724347",
     "exception": false,
     "start_time": "2022-10-27T10:14:40.634431",
     "status": "completed"
    },
    "tags": []
   },
   "source": [
    "Probability contours"
   ]
  },
  {
   "cell_type": "code",
   "execution_count": 27,
   "id": "d0afc8e3",
   "metadata": {
    "execution": {
     "iopub.execute_input": "2022-10-27T10:14:40.851221Z",
     "iopub.status.busy": "2022-10-27T10:14:40.850094Z",
     "iopub.status.idle": "2022-10-27T10:14:40.860257Z",
     "shell.execute_reply": "2022-10-27T10:14:40.859401Z"
    },
    "papermill": {
     "duration": 0.075837,
     "end_time": "2022-10-27T10:14:40.860395",
     "exception": false,
     "start_time": "2022-10-27T10:14:40.784558",
     "status": "completed"
    },
    "tags": []
   },
   "outputs": [],
   "source": [
    "model_prob = Model(layers[-2:]) "
   ]
  },
  {
   "cell_type": "code",
   "execution_count": 28,
   "id": "9b96e238",
   "metadata": {
    "execution": {
     "iopub.execute_input": "2022-10-27T10:14:40.976886Z",
     "iopub.status.busy": "2022-10-27T10:14:40.974759Z",
     "iopub.status.idle": "2022-10-27T10:14:40.990602Z",
     "shell.execute_reply": "2022-10-27T10:14:40.989935Z"
    },
    "papermill": {
     "duration": 0.074491,
     "end_time": "2022-10-27T10:14:40.990724",
     "exception": false,
     "start_time": "2022-10-27T10:14:40.916233",
     "status": "completed"
    },
    "tags": []
   },
   "outputs": [],
   "source": [
    "#creating the x and y ranges according to the above generated plot.\n",
    "x_range = np.linspace(-4, 1, 100) \n",
    "y_range = np.linspace(-6, 6, 100) \n",
    "x_grid, y_grid = np.meshgrid(x_range, y_range) # x_grid and y_grig are of size 100 X 100\n",
    "\n",
    "# converting x_grid and y_grid to continuous arrays\n",
    "x_gridflat = np.ravel(x_grid)\n",
    "y_gridflat = np.ravel(y_grid)\n",
    "\n",
    "# The last layer of the current model takes two columns as input. Hence transpose of np.vstack() is required.\n",
    "X = np.vstack((x_gridflat, y_gridflat)).T\n",
    "\n",
    "prob_contour = model_prob(X).reshape(100,100) "
   ]
  },
  {
   "cell_type": "code",
   "execution_count": 29,
   "id": "da72499a",
   "metadata": {
    "execution": {
     "iopub.execute_input": "2022-10-27T10:14:41.108423Z",
     "iopub.status.busy": "2022-10-27T10:14:41.107684Z",
     "iopub.status.idle": "2022-10-27T10:14:41.402883Z",
     "shell.execute_reply": "2022-10-27T10:14:41.402261Z"
    },
    "papermill": {
     "duration": 0.35253,
     "end_time": "2022-10-27T10:14:41.403017",
     "exception": false,
     "start_time": "2022-10-27T10:14:41.050487",
     "status": "completed"
    },
    "tags": []
   },
   "outputs": [
    {
     "data": {
      "image/png": "[encoded data removed]",
      "text/plain": [
       "<Figure size 720x648 with 1 Axes>"
      ]
     },
     "metadata": {
      "needs_background": "light"
     },
     "output_type": "display_data"
    }
   ],
   "source": [
    "plt.figure(figsize=(10,9))\n",
    "plt.scatter(testing_plot[:,0], testing_plot[:,1], alpha = 0.1, c = y_test.ravel())\n",
    "contours = plt.contour(x_grid,y_grid,prob_contour)\n",
    "plt.title('Probability Contours')\n",
    "plt.clabel(contours, inline = True );"
   ]
  },
  {
   "cell_type": "code",
   "execution_count": null,
   "id": "e81b4ac7",
   "metadata": {
    "papermill": {
     "duration": 0.05344,
     "end_time": "2022-10-27T10:14:41.510544",
     "exception": false,
     "start_time": "2022-10-27T10:14:41.457104",
     "status": "completed"
    },
    "tags": []
   },
   "outputs": [],
   "source": []
  }
 ],
 "metadata": {
  "kernelspec": {
   "display_name": "Python 3",
   "language": "python",
   "name": "python3"
  },
  "language_info": {
   "codemirror_mode": {
    "name": "ipython",
    "version": 3
   },
   "file_extension": ".py",
   "mimetype": "text/x-python",
   "name": "python",
   "nbconvert_exporter": "python",
   "pygments_lexer": "ipython3",
   "version": "3.6.15"
  },
  "papermill": {
   "default_parameters": {},
   "duration": 152.711445,
   "end_time": "2022-10-27T10:14:41.983056",
   "environment_variables": {},
   "exception": null,
   "input_path": "2020-08-11-part2.ipynb",
   "output_path": "2020-08-11-part2.ipynb",
   "parameters": {},
   "start_time": "2022-10-27T10:12:09.271611",
   "version": "2.3.3"
  }
 },
 "nbformat": 4,
 "nbformat_minor": 5
}