{
 "cells": [
  {
   "cell_type": "markdown",
   "id": "98380cd3",
   "metadata": {
    "papermill": {
     "duration": 0.028725,
     "end_time": "2022-04-26T00:37:00.172684",
     "exception": false,
     "start_time": "2022-04-26T00:37:00.143959",
     "status": "completed"
    },
    "tags": []
   },
   "source": [
    "# Distinguish Your Own Digits (DYOD)"
   ]
  },
  {
   "cell_type": "markdown",
   "id": "ef31240d",
   "metadata": {
    "papermill": {
     "duration": 0.025505,
     "end_time": "2022-04-26T00:37:00.222854",
     "exception": false,
     "start_time": "2022-04-26T00:37:00.197349",
     "status": "completed"
    },
    "tags": []
   },
   "source": [
    "You are going to write a classifier that distinguishes between the number 3 and number 8."
   ]
  },
  {
   "cell_type": "code",
   "execution_count": 1,
   "id": "b15c8646",
   "metadata": {
    "execution": {
     "iopub.execute_input": "2022-04-26T00:37:00.281117Z",
     "iopub.status.busy": "2022-04-26T00:37:00.280575Z",
     "iopub.status.idle": "2022-04-26T00:37:00.290781Z",
     "shell.execute_reply": "2022-04-26T00:37:00.291208Z"
    },
    "papermill": {
     "duration": 0.044552,
     "end_time": "2022-04-26T00:37:00.291377",
     "exception": false,
     "start_time": "2022-04-26T00:37:00.246825",
     "status": "completed"
    },
    "tags": []
   },
   "outputs": [],
   "source": [
    "%load_ext autoreload\n",
    "%autoreload 2"
   ]
  },
  {
   "cell_type": "code",
   "execution_count": 2,
   "id": "22ef38dc",
   "metadata": {
    "execution": {
     "iopub.execute_input": "2022-04-26T00:37:00.351857Z",
     "iopub.status.busy": "2022-04-26T00:37:00.347850Z",
     "iopub.status.idle": "2022-04-26T00:37:00.898501Z",
     "shell.execute_reply": "2022-04-26T00:37:00.898995Z"
    },
    "papermill": {
     "duration": 0.583861,
     "end_time": "2022-04-26T00:37:00.899207",
     "exception": false,
     "start_time": "2022-04-26T00:37:00.315346",
     "status": "completed"
    },
    "tags": []
   },
   "outputs": [],
   "source": [
    "%matplotlib inline\n",
    "import numpy as np\n",
    "import matplotlib.pyplot as plt\n",
    "import pandas as pd"
   ]
  },
  {
   "cell_type": "markdown",
   "id": "ba036198",
   "metadata": {
    "papermill": {
     "duration": 0.023877,
     "end_time": "2022-04-26T00:37:00.947554",
     "exception": false,
     "start_time": "2022-04-26T00:37:00.923677",
     "status": "completed"
    },
    "tags": []
   },
   "source": [
    "From the command line run `pip install mnist`. This is a library that will help you bring down the mnist dataset. If you run this from a notebook, you need to put  `!pip install mnist` in a cell by itself."
   ]
  },
  {
   "cell_type": "code",
   "execution_count": 3,
   "id": "bb6ad8a1",
   "metadata": {
    "execution": {
     "iopub.execute_input": "2022-04-26T00:37:00.999653Z",
     "iopub.status.busy": "2022-04-26T00:37:00.999118Z",
     "iopub.status.idle": "2022-04-26T00:37:02.738955Z",
     "shell.execute_reply": "2022-04-26T00:37:02.738457Z"
    },
    "papermill": {
     "duration": 1.767679,
     "end_time": "2022-04-26T00:37:02.739104",
     "exception": false,
     "start_time": "2022-04-26T00:37:00.971425",
     "status": "completed"
    },
    "tags": []
   },
   "outputs": [
    {
     "name": "stdout",
     "output_type": "stream",
     "text": [
      "Collecting mnist\r\n"
     ]
    },
    {
     "name": "stdout",
     "output_type": "stream",
     "text": [
      "  Downloading mnist-0.2.2-py2.py3-none-any.whl (3.5 kB)\r\n",
      "Requirement already satisfied: numpy in /opt/hostedtoolcache/Python/3.6.15/x64/lib/python3.6/site-packages (from mnist) (1.19.5)\r\n"
     ]
    },
    {
     "name": "stdout",
     "output_type": "stream",
     "text": [
      "Installing collected packages: mnist\r\n"
     ]
    },
    {
     "name": "stdout",
     "output_type": "stream",
     "text": [
      "Successfully installed mnist-0.2.2\r\n"
     ]
    }
   ],
   "source": [
    "!pip install mnist"
   ]
  },
  {
   "cell_type": "markdown",
   "id": "69df9c9a",
   "metadata": {
    "papermill": {
     "duration": 0.02527,
     "end_time": "2022-04-26T00:37:02.789575",
     "exception": false,
     "start_time": "2022-04-26T00:37:02.764305",
     "status": "completed"
    },
    "tags": []
   },
   "source": [
    "## Preparing the Data"
   ]
  },
  {
   "cell_type": "code",
   "execution_count": 4,
   "id": "7f69d806",
   "metadata": {
    "execution": {
     "iopub.execute_input": "2022-04-26T00:37:02.849751Z",
     "iopub.status.busy": "2022-04-26T00:37:02.849222Z",
     "iopub.status.idle": "2022-04-26T00:37:02.860444Z",
     "shell.execute_reply": "2022-04-26T00:37:02.859982Z"
    },
    "papermill": {
     "duration": 0.046317,
     "end_time": "2022-04-26T00:37:02.860552",
     "exception": false,
     "start_time": "2022-04-26T00:37:02.814235",
     "status": "completed"
    },
    "tags": []
   },
   "outputs": [],
   "source": [
    "import mnist"
   ]
  },
  {
   "cell_type": "code",
   "execution_count": 5,
   "id": "a411e44f",
   "metadata": {
    "execution": {
     "iopub.execute_input": "2022-04-26T00:37:02.927590Z",
     "iopub.status.busy": "2022-04-26T00:37:02.913536Z",
     "iopub.status.idle": "2022-04-26T00:37:03.496622Z",
     "shell.execute_reply": "2022-04-26T00:37:03.497433Z"
    },
    "papermill": {
     "duration": 0.611974,
     "end_time": "2022-04-26T00:37:03.497602",
     "exception": false,
     "start_time": "2022-04-26T00:37:02.885628",
     "status": "completed"
    },
    "tags": []
   },
   "outputs": [],
   "source": [
    "train_images = mnist.train_images()\n",
    "train_labels = mnist.train_labels()"
   ]
  },
  {
   "cell_type": "code",
   "execution_count": 6,
   "id": "dceab3a5",
   "metadata": {
    "execution": {
     "iopub.execute_input": "2022-04-26T00:37:03.559746Z",
     "iopub.status.busy": "2022-04-26T00:37:03.558258Z",
     "iopub.status.idle": "2022-04-26T00:37:03.570322Z",
     "shell.execute_reply": "2022-04-26T00:37:03.569901Z"
    },
    "papermill": {
     "duration": 0.047481,
     "end_time": "2022-04-26T00:37:03.570438",
     "exception": false,
     "start_time": "2022-04-26T00:37:03.522957",
     "status": "completed"
    },
    "tags": []
   },
   "outputs": [
    {
     "data": {
      "text/plain": [
       "((60000, 28, 28), (60000,))"
      ]
     },
     "execution_count": 6,
     "metadata": {},
     "output_type": "execute_result"
    }
   ],
   "source": [
    "train_images.shape, train_labels.shape"
   ]
  },
  {
   "cell_type": "code",
   "execution_count": 7,
   "id": "f50dc2bb",
   "metadata": {
    "execution": {
     "iopub.execute_input": "2022-04-26T00:37:03.628518Z",
     "iopub.status.busy": "2022-04-26T00:37:03.627974Z",
     "iopub.status.idle": "2022-04-26T00:37:03.788874Z",
     "shell.execute_reply": "2022-04-26T00:37:03.788326Z"
    },
    "papermill": {
     "duration": 0.193426,
     "end_time": "2022-04-26T00:37:03.789021",
     "exception": false,
     "start_time": "2022-04-26T00:37:03.595595",
     "status": "completed"
    },
    "tags": []
   },
   "outputs": [],
   "source": [
    "test_images = mnist.test_images()\n",
    "test_labels = mnist.test_labels()"
   ]
  },
  {
   "cell_type": "code",
   "execution_count": 8,
   "id": "fc38cf1b",
   "metadata": {
    "execution": {
     "iopub.execute_input": "2022-04-26T00:37:03.855934Z",
     "iopub.status.busy": "2022-04-26T00:37:03.854666Z",
     "iopub.status.idle": "2022-04-26T00:37:03.861733Z",
     "shell.execute_reply": "2022-04-26T00:37:03.860752Z"
    },
    "papermill": {
     "duration": 0.046448,
     "end_time": "2022-04-26T00:37:03.861846",
     "exception": false,
     "start_time": "2022-04-26T00:37:03.815398",
     "status": "completed"
    },
    "tags": []
   },
   "outputs": [
    {
     "data": {
      "text/plain": [
       "((10000, 28, 28), (10000,))"
      ]
     },
     "execution_count": 8,
     "metadata": {},
     "output_type": "execute_result"
    }
   ],
   "source": [
    "test_images.shape, test_labels.shape"
   ]
  },
  {
   "cell_type": "code",
   "execution_count": 9,
   "id": "f9ed8fe0",
   "metadata": {
    "execution": {
     "iopub.execute_input": "2022-04-26T00:37:03.923997Z",
     "iopub.status.busy": "2022-04-26T00:37:03.923474Z",
     "iopub.status.idle": "2022-04-26T00:37:04.058629Z",
     "shell.execute_reply": "2022-04-26T00:37:04.058062Z"
    },
    "papermill": {
     "duration": 0.171439,
     "end_time": "2022-04-26T00:37:04.058769",
     "exception": false,
     "start_time": "2022-04-26T00:37:03.887330",
     "status": "completed"
    },
    "tags": []
   },
   "outputs": [
    {
     "name": "stdout",
     "output_type": "stream",
     "text": [
      "2\n"
     ]
    },
    {
     "data": {
      "text/plain": [
       "<matplotlib.image.AxesImage at 0x7f07637973c8>"
      ]
     },
     "execution_count": 9,
     "metadata": {},
     "output_type": "execute_result"
    },
    {
     "data": {
      "image/png": "[encoded data removed]",
      "text/plain": [
       "<Figure size 432x288 with 1 Axes>"
      ]
     },
     "metadata": {
      "needs_background": "light"
     },
     "output_type": "display_data"
    }
   ],
   "source": [
    "image_index = 7776 # You may select anything up to 60,000\n",
    "print(train_labels[image_index]) \n",
    "plt.imshow(train_images[image_index], cmap='Greys')"
   ]
  },
  {
   "cell_type": "markdown",
   "id": "a8d2388d",
   "metadata": {
    "papermill": {
     "duration": 0.026825,
     "end_time": "2022-04-26T00:37:04.112434",
     "exception": false,
     "start_time": "2022-04-26T00:37:04.085609",
     "status": "completed"
    },
    "tags": []
   },
   "source": [
    "## Filter data to get 3 and 8 out"
   ]
  },
  {
   "cell_type": "code",
   "execution_count": 10,
   "id": "776f7fc7",
   "metadata": {
    "execution": {
     "iopub.execute_input": "2022-04-26T00:37:04.171152Z",
     "iopub.status.busy": "2022-04-26T00:37:04.170504Z",
     "iopub.status.idle": "2022-04-26T00:37:04.188753Z",
     "shell.execute_reply": "2022-04-26T00:37:04.188322Z"
    },
    "papermill": {
     "duration": 0.049975,
     "end_time": "2022-04-26T00:37:04.188873",
     "exception": false,
     "start_time": "2022-04-26T00:37:04.138898",
     "status": "completed"
    },
    "tags": []
   },
   "outputs": [],
   "source": [
    "train_filter = np.where((train_labels == 3 ) | (train_labels == 8))\n",
    "test_filter = np.where((test_labels == 3) | (test_labels == 8))\n",
    "X_train, y_train = train_images[train_filter], train_labels[train_filter]\n",
    "X_test, y_test = test_images[test_filter], test_labels[test_filter]"
   ]
  },
  {
   "cell_type": "markdown",
   "id": "948f0b7e",
   "metadata": {
    "papermill": {
     "duration": 0.026965,
     "end_time": "2022-04-26T00:37:04.242449",
     "exception": false,
     "start_time": "2022-04-26T00:37:04.215484",
     "status": "completed"
    },
    "tags": []
   },
   "source": [
    "We normalize the pizel values in the 0 to 1 range"
   ]
  },
  {
   "cell_type": "code",
   "execution_count": 11,
   "id": "ee4c2166",
   "metadata": {
    "execution": {
     "iopub.execute_input": "2022-04-26T00:37:04.299940Z",
     "iopub.status.busy": "2022-04-26T00:37:04.299402Z",
     "iopub.status.idle": "2022-04-26T00:37:04.347879Z",
     "shell.execute_reply": "2022-04-26T00:37:04.348350Z"
    },
    "papermill": {
     "duration": 0.079392,
     "end_time": "2022-04-26T00:37:04.348516",
     "exception": false,
     "start_time": "2022-04-26T00:37:04.269124",
     "status": "completed"
    },
    "tags": []
   },
   "outputs": [],
   "source": [
    "X_train = X_train/255.\n",
    "X_test = X_test/255."
   ]
  },
  {
   "cell_type": "markdown",
   "id": "ddcf4fab",
   "metadata": {
    "papermill": {
     "duration": 0.02684,
     "end_time": "2022-04-26T00:37:04.403198",
     "exception": false,
     "start_time": "2022-04-26T00:37:04.376358",
     "status": "completed"
    },
    "tags": []
   },
   "source": [
    "And setup the labels as 1 (when the digit is 3) and 0 (when the digit is 8)"
   ]
  },
  {
   "cell_type": "code",
   "execution_count": 12,
   "id": "7dc908f2",
   "metadata": {
    "execution": {
     "iopub.execute_input": "2022-04-26T00:37:04.460170Z",
     "iopub.status.busy": "2022-04-26T00:37:04.459641Z",
     "iopub.status.idle": "2022-04-26T00:37:04.472705Z",
     "shell.execute_reply": "2022-04-26T00:37:04.472282Z"
    },
    "papermill": {
     "duration": 0.043144,
     "end_time": "2022-04-26T00:37:04.472820",
     "exception": false,
     "start_time": "2022-04-26T00:37:04.429676",
     "status": "completed"
    },
    "tags": []
   },
   "outputs": [],
   "source": [
    "y_train = 1*(y_train==3)\n",
    "y_test = 1*(y_test==3)"
   ]
  },
  {
   "cell_type": "code",
   "execution_count": 13,
   "id": "01e4e969",
   "metadata": {
    "execution": {
     "iopub.execute_input": "2022-04-26T00:37:04.538904Z",
     "iopub.status.busy": "2022-04-26T00:37:04.538388Z",
     "iopub.status.idle": "2022-04-26T00:37:04.546804Z",
     "shell.execute_reply": "2022-04-26T00:37:04.546387Z"
    },
    "papermill": {
     "duration": 0.046983,
     "end_time": "2022-04-26T00:37:04.546919",
     "exception": false,
     "start_time": "2022-04-26T00:37:04.499936",
     "status": "completed"
    },
    "tags": []
   },
   "outputs": [
    {
     "data": {
      "text/plain": [
       "((11982, 28, 28), (1984, 28, 28))"
      ]
     },
     "execution_count": 13,
     "metadata": {},
     "output_type": "execute_result"
    }
   ],
   "source": [
    "X_train.shape, X_test.shape"
   ]
  },
  {
   "cell_type": "markdown",
   "id": "5ccf3f85",
   "metadata": {
    "papermill": {
     "duration": 0.026649,
     "end_time": "2022-04-26T00:37:04.600354",
     "exception": false,
     "start_time": "2022-04-26T00:37:04.573705",
     "status": "completed"
    },
    "tags": []
   },
   "source": [
    "We reshape the data to flatten the image pixels into a set of features or co-variates:"
   ]
  },
  {
   "cell_type": "code",
   "execution_count": 14,
   "id": "5286a4a3",
   "metadata": {
    "execution": {
     "iopub.execute_input": "2022-04-26T00:37:04.661984Z",
     "iopub.status.busy": "2022-04-26T00:37:04.661443Z",
     "iopub.status.idle": "2022-04-26T00:37:04.673135Z",
     "shell.execute_reply": "2022-04-26T00:37:04.672716Z"
    },
    "papermill": {
     "duration": 0.046154,
     "end_time": "2022-04-26T00:37:04.673248",
     "exception": false,
     "start_time": "2022-04-26T00:37:04.627094",
     "status": "completed"
    },
    "tags": []
   },
   "outputs": [
    {
     "data": {
      "text/plain": [
       "((11982, 784), (1984, 784))"
      ]
     },
     "execution_count": 14,
     "metadata": {},
     "output_type": "execute_result"
    }
   ],
   "source": [
    "X_train = X_train.reshape(X_train.shape[0], -1)\n",
    "X_test = X_test.reshape(X_test.shape[0], -1)\n",
    "X_train.shape, X_test.shape"
   ]
  },
  {
   "cell_type": "code",
   "execution_count": 15,
   "id": "73c5f88a",
   "metadata": {
    "execution": {
     "iopub.execute_input": "2022-04-26T00:37:04.731841Z",
     "iopub.status.busy": "2022-04-26T00:37:04.731306Z",
     "iopub.status.idle": "2022-04-26T00:37:04.749881Z",
     "shell.execute_reply": "2022-04-26T00:37:04.749456Z"
    },
    "papermill": {
     "duration": 0.04958,
     "end_time": "2022-04-26T00:37:04.750000",
     "exception": false,
     "start_time": "2022-04-26T00:37:04.700420",
     "status": "completed"
    },
    "tags": []
   },
   "outputs": [],
   "source": [
    "#Impoting functions from 'Kudzu'\n",
    "from kudzu.model import Model\n",
    "from kudzu.train import Learner\n",
    "from kudzu.optim import GD\n",
    "from kudzu.data import Data, Sampler,Dataloader\n",
    "\n",
    "from kudzu.callbacks import AccCallback\n",
    "from kudzu.callbacks import ClfCallback\n",
    "\n",
    "from kudzu.loss import MSE\n",
    "\n",
    "from kudzu.layer import Sigmoid,Relu\n",
    "from kudzu.layer import Affine"
   ]
  },
  {
   "cell_type": "markdown",
   "id": "bc01172a",
   "metadata": {
    "papermill": {
     "duration": 0.026841,
     "end_time": "2022-04-26T00:37:04.803904",
     "exception": false,
     "start_time": "2022-04-26T00:37:04.777063",
     "status": "completed"
    },
    "tags": []
   },
   "source": [
    "### Let us create a `Config` class, to store important parameters. \n",
    "This class essentially plays the role of a dictionary."
   ]
  },
  {
   "cell_type": "code",
   "execution_count": 16,
   "id": "978281aa",
   "metadata": {
    "execution": {
     "iopub.execute_input": "2022-04-26T00:37:04.863915Z",
     "iopub.status.busy": "2022-04-26T00:37:04.863385Z",
     "iopub.status.idle": "2022-04-26T00:37:04.874507Z",
     "shell.execute_reply": "2022-04-26T00:37:04.874090Z"
    },
    "papermill": {
     "duration": 0.043849,
     "end_time": "2022-04-26T00:37:04.874619",
     "exception": false,
     "start_time": "2022-04-26T00:37:04.830770",
     "status": "completed"
    },
    "tags": []
   },
   "outputs": [],
   "source": [
    "class Config:\n",
    "    pass\n",
    "config = Config()\n",
    "config.lr = 0.001\n",
    "config.num_epochs = 250\n",
    "config.bs = 50"
   ]
  },
  {
   "cell_type": "markdown",
   "id": "1385fa59",
   "metadata": {
    "papermill": {
     "duration": 0.026943,
     "end_time": "2022-04-26T00:37:04.928623",
     "exception": false,
     "start_time": "2022-04-26T00:37:04.901680",
     "status": "completed"
    },
    "tags": []
   },
   "source": [
    "### Running Models with the Training data\n",
    "Details about the network layers:\n",
    "- A first affine layer has 784 inputs and does 100 affine transforms. These are followed by a Relu\n",
    "- A second affine layer has 100 inputs from the 100 activations of the past layer, and does 100 affine transforms. These are followed by a Relu\n",
    "- A third affine layer has 100 activations and does 2 affine transformations to create an embedding for visualization. There is no non-linearity here.\n",
    "- A final \"logistic regression\" which has an affine transform from 2 inputs to 1 output, which is squeezed through a sigmoid.\n"
   ]
  },
  {
   "cell_type": "code",
   "execution_count": 17,
   "id": "2b9c66db",
   "metadata": {
    "execution": {
     "iopub.execute_input": "2022-04-26T00:37:04.993143Z",
     "iopub.status.busy": "2022-04-26T00:37:04.992580Z",
     "iopub.status.idle": "2022-04-26T00:37:05.001022Z",
     "shell.execute_reply": "2022-04-26T00:37:05.000581Z"
    },
    "papermill": {
     "duration": 0.045532,
     "end_time": "2022-04-26T00:37:05.001132",
     "exception": false,
     "start_time": "2022-04-26T00:37:04.955600",
     "status": "completed"
    },
    "tags": []
   },
   "outputs": [],
   "source": [
    "data = Data(X_train, y_train.reshape(-1,1))\n",
    "sampler = Sampler(data, config.bs, shuffle=True)\n",
    "\n",
    "dl = Dataloader(data, sampler)\n",
    "\n",
    "opt = GD(config.lr)\n",
    "loss = MSE()"
   ]
  },
  {
   "cell_type": "code",
   "execution_count": 18,
   "id": "b275e4c2",
   "metadata": {
    "execution": {
     "iopub.execute_input": "2022-04-26T00:37:05.059404Z",
     "iopub.status.busy": "2022-04-26T00:37:05.058865Z",
     "iopub.status.idle": "2022-04-26T00:37:05.071514Z",
     "shell.execute_reply": "2022-04-26T00:37:05.071061Z"
    },
    "papermill": {
     "duration": 0.043569,
     "end_time": "2022-04-26T00:37:05.071628",
     "exception": false,
     "start_time": "2022-04-26T00:37:05.028059",
     "status": "completed"
    },
    "tags": []
   },
   "outputs": [],
   "source": [
    "training_data_x = X_train\n",
    "testing_data_x = X_test\n",
    "training_data_y = y_train.reshape(-1,1)\n",
    "testing_data_y = y_test.reshape(-1,1)"
   ]
  },
  {
   "cell_type": "code",
   "execution_count": 19,
   "id": "76951160",
   "metadata": {
    "execution": {
     "iopub.execute_input": "2022-04-26T00:37:05.132537Z",
     "iopub.status.busy": "2022-04-26T00:37:05.132012Z",
     "iopub.status.idle": "2022-04-26T00:37:05.146672Z",
     "shell.execute_reply": "2022-04-26T00:37:05.147059Z"
    },
    "papermill": {
     "duration": 0.048654,
     "end_time": "2022-04-26T00:37:05.147215",
     "exception": false,
     "start_time": "2022-04-26T00:37:05.098561",
     "status": "completed"
    },
    "tags": []
   },
   "outputs": [
    {
     "name": "stdout",
     "output_type": "stream",
     "text": [
      "xavier\n",
      "xavier\n",
      "xavier\n",
      "xavier\n",
      "xavier\n"
     ]
    }
   ],
   "source": [
    "layers = [Affine(\"first\", 784, 100), Relu(\"first\"), Affine(\"second\", 100, 100), Relu(\"second\"), Affine(\"third\", 100, 2), Affine(\"last\", 2, 1), Sigmoid(\"last\")]\n",
    "model_nn = Model(layers)\n",
    "model_lr = Model([Affine(\"logits\", 784, 1), Sigmoid(\"sigmoid\")])"
   ]
  },
  {
   "cell_type": "code",
   "execution_count": 20,
   "id": "6eede77a",
   "metadata": {
    "execution": {
     "iopub.execute_input": "2022-04-26T00:37:05.210920Z",
     "iopub.status.busy": "2022-04-26T00:37:05.210402Z",
     "iopub.status.idle": "2022-04-26T00:37:05.218951Z",
     "shell.execute_reply": "2022-04-26T00:37:05.219409Z"
    },
    "papermill": {
     "duration": 0.045067,
     "end_time": "2022-04-26T00:37:05.219543",
     "exception": false,
     "start_time": "2022-04-26T00:37:05.174476",
     "status": "completed"
    },
    "tags": []
   },
   "outputs": [],
   "source": [
    "nn_learner = Learner(loss, model_nn, opt, config.num_epochs)\n",
    "acc_nn = ClfCallback(nn_learner, config.bs, training_data_x , testing_data_x, training_data_y, testing_data_y)\n",
    "nn_learner.set_callbacks([acc_nn])"
   ]
  },
  {
   "cell_type": "code",
   "execution_count": 21,
   "id": "877b6cc7",
   "metadata": {
    "execution": {
     "iopub.execute_input": "2022-04-26T00:37:05.277725Z",
     "iopub.status.busy": "2022-04-26T00:37:05.277217Z",
     "iopub.status.idle": "2022-04-26T00:37:05.289647Z",
     "shell.execute_reply": "2022-04-26T00:37:05.289208Z"
    },
    "papermill": {
     "duration": 0.043074,
     "end_time": "2022-04-26T00:37:05.289752",
     "exception": false,
     "start_time": "2022-04-26T00:37:05.246678",
     "status": "completed"
    },
    "tags": []
   },
   "outputs": [],
   "source": [
    "lr_learner = Learner(loss, model_lr, opt, config.num_epochs)\n",
    "acc_lr = ClfCallback(lr_learner, config.bs, training_data_x , testing_data_x, training_data_y, testing_data_y)\n",
    "lr_learner.set_callbacks([acc_lr])"
   ]
  },
  {
   "cell_type": "code",
   "execution_count": 22,
   "id": "d9b133c3",
   "metadata": {
    "execution": {
     "iopub.execute_input": "2022-04-26T00:37:05.348610Z",
     "iopub.status.busy": "2022-04-26T00:37:05.347995Z",
     "iopub.status.idle": "2022-04-26T00:38:21.792177Z",
     "shell.execute_reply": "2022-04-26T00:38:21.792927Z"
    },
    "papermill": {
     "duration": 76.476173,
     "end_time": "2022-04-26T00:38:21.793085",
     "exception": false,
     "start_time": "2022-04-26T00:37:05.316912",
     "status": "completed"
    },
    "tags": []
   },
   "outputs": [
    {
     "name": "stdout",
     "output_type": "stream",
     "text": [
      "Epoch 0, Loss 0.2139\n",
      "Training Accuracy: 0.7904, Testing Accuracy: 0.8100\n",
      "\n"
     ]
    },
    {
     "name": "stdout",
     "output_type": "stream",
     "text": [
      "Epoch 10, Loss 0.0566\n",
      "Training Accuracy: 0.9370, Testing Accuracy: 0.9501\n",
      "\n"
     ]
    },
    {
     "name": "stdout",
     "output_type": "stream",
     "text": [
      "Epoch 20, Loss 0.0416\n",
      "Training Accuracy: 0.9516, Testing Accuracy: 0.9642\n",
      "\n"
     ]
    },
    {
     "name": "stdout",
     "output_type": "stream",
     "text": [
      "Epoch 30, Loss 0.0356\n",
      "Training Accuracy: 0.9573, Testing Accuracy: 0.9677\n",
      "\n"
     ]
    },
    {
     "name": "stdout",
     "output_type": "stream",
     "text": [
      "Epoch 40, Loss 0.0321\n",
      "Training Accuracy: 0.9626, Testing Accuracy: 0.9688\n",
      "\n"
     ]
    },
    {
     "name": "stdout",
     "output_type": "stream",
     "text": [
      "Epoch 50, Loss 0.0297\n",
      "Training Accuracy: 0.9652, Testing Accuracy: 0.9703\n",
      "\n"
     ]
    },
    {
     "name": "stdout",
     "output_type": "stream",
     "text": [
      "Epoch 60, Loss 0.0279\n",
      "Training Accuracy: 0.9674, Testing Accuracy: 0.9733\n",
      "\n"
     ]
    },
    {
     "name": "stdout",
     "output_type": "stream",
     "text": [
      "Epoch 70, Loss 0.0264\n",
      "Training Accuracy: 0.9694, Testing Accuracy: 0.9733\n",
      "\n"
     ]
    },
    {
     "name": "stdout",
     "output_type": "stream",
     "text": [
      "Epoch 80, Loss 0.0251\n",
      "Training Accuracy: 0.9711, Testing Accuracy: 0.9738\n",
      "\n"
     ]
    },
    {
     "name": "stdout",
     "output_type": "stream",
     "text": [
      "Epoch 90, Loss 0.024\n",
      "Training Accuracy: 0.9726, Testing Accuracy: 0.9748\n",
      "\n"
     ]
    },
    {
     "name": "stdout",
     "output_type": "stream",
     "text": [
      "Epoch 100, Loss 0.0231\n",
      "Training Accuracy: 0.9734, Testing Accuracy: 0.9758\n",
      "\n"
     ]
    },
    {
     "name": "stdout",
     "output_type": "stream",
     "text": [
      "Epoch 110, Loss 0.0222\n",
      "Training Accuracy: 0.9744, Testing Accuracy: 0.9763\n",
      "\n"
     ]
    },
    {
     "name": "stdout",
     "output_type": "stream",
     "text": [
      "Epoch 120, Loss 0.0215\n",
      "Training Accuracy: 0.9753, Testing Accuracy: 0.9768\n",
      "\n"
     ]
    },
    {
     "name": "stdout",
     "output_type": "stream",
     "text": [
      "Epoch 130, Loss 0.0208\n",
      "Training Accuracy: 0.9765, Testing Accuracy: 0.9768\n",
      "\n"
     ]
    },
    {
     "name": "stdout",
     "output_type": "stream",
     "text": [
      "Epoch 140, Loss 0.0201\n",
      "Training Accuracy: 0.9774, Testing Accuracy: 0.9763\n",
      "\n"
     ]
    },
    {
     "name": "stdout",
     "output_type": "stream",
     "text": [
      "Epoch 150, Loss 0.0195\n",
      "Training Accuracy: 0.9788, Testing Accuracy: 0.9763\n",
      "\n"
     ]
    },
    {
     "name": "stdout",
     "output_type": "stream",
     "text": [
      "Epoch 160, Loss 0.019\n",
      "Training Accuracy: 0.9795, Testing Accuracy: 0.9768\n",
      "\n"
     ]
    },
    {
     "name": "stdout",
     "output_type": "stream",
     "text": [
      "Epoch 170, Loss 0.0185\n",
      "Training Accuracy: 0.9800, Testing Accuracy: 0.9773\n",
      "\n"
     ]
    },
    {
     "name": "stdout",
     "output_type": "stream",
     "text": [
      "Epoch 180, Loss 0.018\n",
      "Training Accuracy: 0.9806, Testing Accuracy: 0.9783\n",
      "\n"
     ]
    },
    {
     "name": "stdout",
     "output_type": "stream",
     "text": [
      "Epoch 190, Loss 0.0175\n",
      "Training Accuracy: 0.9811, Testing Accuracy: 0.9793\n",
      "\n"
     ]
    },
    {
     "name": "stdout",
     "output_type": "stream",
     "text": [
      "Epoch 200, Loss 0.017\n",
      "Training Accuracy: 0.9816, Testing Accuracy: 0.9793\n",
      "\n"
     ]
    },
    {
     "name": "stdout",
     "output_type": "stream",
     "text": [
      "Epoch 210, Loss 0.0166\n",
      "Training Accuracy: 0.9824, Testing Accuracy: 0.9798\n",
      "\n"
     ]
    },
    {
     "name": "stdout",
     "output_type": "stream",
     "text": [
      "Epoch 220, Loss 0.0162\n",
      "Training Accuracy: 0.9830, Testing Accuracy: 0.9793\n",
      "\n"
     ]
    },
    {
     "name": "stdout",
     "output_type": "stream",
     "text": [
      "Epoch 230, Loss 0.0158\n",
      "Training Accuracy: 0.9836, Testing Accuracy: 0.9793\n",
      "\n"
     ]
    },
    {
     "name": "stdout",
     "output_type": "stream",
     "text": [
      "Epoch 240, Loss 0.0154\n",
      "Training Accuracy: 0.9839, Testing Accuracy: 0.9793\n",
      "\n"
     ]
    },
    {
     "data": {
      "text/plain": [
       "0.006981091543292549"
      ]
     },
     "execution_count": 22,
     "metadata": {},
     "output_type": "execute_result"
    }
   ],
   "source": [
    "nn_learner.train_loop(dl)"
   ]
  },
  {
   "cell_type": "code",
   "execution_count": 23,
   "id": "e0163366",
   "metadata": {
    "execution": {
     "iopub.execute_input": "2022-04-26T00:38:21.872459Z",
     "iopub.status.busy": "2022-04-26T00:38:21.871938Z",
     "iopub.status.idle": "2022-04-26T00:38:35.666376Z",
     "shell.execute_reply": "2022-04-26T00:38:35.667134Z"
    },
    "papermill": {
     "duration": 13.839178,
     "end_time": "2022-04-26T00:38:35.667288",
     "exception": false,
     "start_time": "2022-04-26T00:38:21.828110",
     "status": "completed"
    },
    "tags": []
   },
   "outputs": [
    {
     "name": "stdout",
     "output_type": "stream",
     "text": [
      "Epoch 0, Loss 0.2257\n",
      "Training Accuracy: 0.7365, Testing Accuracy: 0.7868\n",
      "\n"
     ]
    },
    {
     "name": "stdout",
     "output_type": "stream",
     "text": [
      "Epoch 10, Loss 0.0987\n",
      "Training Accuracy: 0.9161, Testing Accuracy: 0.9284\n",
      "\n"
     ]
    },
    {
     "name": "stdout",
     "output_type": "stream",
     "text": [
      "Epoch 20, Loss 0.0772\n",
      "Training Accuracy: 0.9301, Testing Accuracy: 0.9430\n",
      "\n"
     ]
    },
    {
     "name": "stdout",
     "output_type": "stream",
     "text": [
      "Epoch 30, Loss 0.0671\n",
      "Training Accuracy: 0.9367, Testing Accuracy: 0.9486\n",
      "\n"
     ]
    },
    {
     "name": "stdout",
     "output_type": "stream",
     "text": [
      "Epoch 40, Loss 0.0609\n",
      "Training Accuracy: 0.9410, Testing Accuracy: 0.9511\n",
      "\n"
     ]
    },
    {
     "name": "stdout",
     "output_type": "stream",
     "text": [
      "Epoch 50, Loss 0.0567\n",
      "Training Accuracy: 0.9437, Testing Accuracy: 0.9551\n",
      "\n"
     ]
    },
    {
     "name": "stdout",
     "output_type": "stream",
     "text": [
      "Epoch 60, Loss 0.0536\n",
      "Training Accuracy: 0.9465, Testing Accuracy: 0.9592\n",
      "\n"
     ]
    },
    {
     "name": "stdout",
     "output_type": "stream",
     "text": [
      "Epoch 70, Loss 0.0511\n",
      "Training Accuracy: 0.9483, Testing Accuracy: 0.9607\n",
      "\n"
     ]
    },
    {
     "name": "stdout",
     "output_type": "stream",
     "text": [
      "Epoch 80, Loss 0.0491\n",
      "Training Accuracy: 0.9503, Testing Accuracy: 0.9602\n",
      "\n"
     ]
    },
    {
     "name": "stdout",
     "output_type": "stream",
     "text": [
      "Epoch 90, Loss 0.0475\n",
      "Training Accuracy: 0.9513, Testing Accuracy: 0.9627\n",
      "\n"
     ]
    },
    {
     "name": "stdout",
     "output_type": "stream",
     "text": [
      "Epoch 100, Loss 0.0461\n",
      "Training Accuracy: 0.9527, Testing Accuracy: 0.9632\n",
      "\n"
     ]
    },
    {
     "name": "stdout",
     "output_type": "stream",
     "text": [
      "Epoch 110, Loss 0.0449\n",
      "Training Accuracy: 0.9536, Testing Accuracy: 0.9632\n",
      "\n"
     ]
    },
    {
     "name": "stdout",
     "output_type": "stream",
     "text": [
      "Epoch 120, Loss 0.0439\n",
      "Training Accuracy: 0.9544, Testing Accuracy: 0.9637\n",
      "\n"
     ]
    },
    {
     "name": "stdout",
     "output_type": "stream",
     "text": [
      "Epoch 130, Loss 0.043\n",
      "Training Accuracy: 0.9555, Testing Accuracy: 0.9652\n",
      "\n"
     ]
    },
    {
     "name": "stdout",
     "output_type": "stream",
     "text": [
      "Epoch 140, Loss 0.0422\n",
      "Training Accuracy: 0.9561, Testing Accuracy: 0.9667\n",
      "\n"
     ]
    },
    {
     "name": "stdout",
     "output_type": "stream",
     "text": [
      "Epoch 150, Loss 0.0414\n",
      "Training Accuracy: 0.9567, Testing Accuracy: 0.9672\n",
      "\n"
     ]
    },
    {
     "name": "stdout",
     "output_type": "stream",
     "text": [
      "Epoch 160, Loss 0.0408\n",
      "Training Accuracy: 0.9569, Testing Accuracy: 0.9677\n",
      "\n"
     ]
    },
    {
     "name": "stdout",
     "output_type": "stream",
     "text": [
      "Epoch 170, Loss 0.0401\n",
      "Training Accuracy: 0.9572, Testing Accuracy: 0.9682\n",
      "\n"
     ]
    },
    {
     "name": "stdout",
     "output_type": "stream",
     "text": [
      "Epoch 180, Loss 0.0396\n",
      "Training Accuracy: 0.9581, Testing Accuracy: 0.9682\n",
      "\n"
     ]
    },
    {
     "name": "stdout",
     "output_type": "stream",
     "text": [
      "Epoch 190, Loss 0.0391\n",
      "Training Accuracy: 0.9583, Testing Accuracy: 0.9682\n",
      "\n"
     ]
    },
    {
     "name": "stdout",
     "output_type": "stream",
     "text": [
      "Epoch 200, Loss 0.0386\n",
      "Training Accuracy: 0.9587, Testing Accuracy: 0.9677\n",
      "\n"
     ]
    },
    {
     "name": "stdout",
     "output_type": "stream",
     "text": [
      "Epoch 210, Loss 0.0382\n",
      "Training Accuracy: 0.9594, Testing Accuracy: 0.9677\n",
      "\n"
     ]
    },
    {
     "name": "stdout",
     "output_type": "stream",
     "text": [
      "Epoch 220, Loss 0.0378\n",
      "Training Accuracy: 0.9599, Testing Accuracy: 0.9672\n",
      "\n"
     ]
    },
    {
     "name": "stdout",
     "output_type": "stream",
     "text": [
      "Epoch 230, Loss 0.0374\n",
      "Training Accuracy: 0.9601, Testing Accuracy: 0.9672\n",
      "\n"
     ]
    },
    {
     "name": "stdout",
     "output_type": "stream",
     "text": [
      "Epoch 240, Loss 0.037\n",
      "Training Accuracy: 0.9604, Testing Accuracy: 0.9672\n",
      "\n"
     ]
    },
    {
     "data": {
      "text/plain": [
       "0.05064771619506089"
      ]
     },
     "execution_count": 23,
     "metadata": {},
     "output_type": "execute_result"
    }
   ],
   "source": [
    "lr_learner.train_loop(dl)"
   ]
  },
  {
   "cell_type": "code",
   "execution_count": 24,
   "id": "ca410940",
   "metadata": {
    "execution": {
     "iopub.execute_input": "2022-04-26T00:38:35.764464Z",
     "iopub.status.busy": "2022-04-26T00:38:35.763927Z",
     "iopub.status.idle": "2022-04-26T00:38:35.981157Z",
     "shell.execute_reply": "2022-04-26T00:38:35.980721Z"
    },
    "papermill": {
     "duration": 0.271116,
     "end_time": "2022-04-26T00:38:35.981283",
     "exception": false,
     "start_time": "2022-04-26T00:38:35.710167",
     "status": "completed"
    },
    "tags": []
   },
   "outputs": [
    {
     "data": {
      "text/plain": [
       "<matplotlib.legend.Legend at 0x7f0763376ac8>"
      ]
     },
     "execution_count": 24,
     "metadata": {},
     "output_type": "execute_result"
    },
    {
     "data": {
      "image/png": "[encoded data removed]",
      "text/plain": [
       "<Figure size 1080x720 with 1 Axes>"
      ]
     },
     "metadata": {
      "needs_background": "light"
     },
     "output_type": "display_data"
    }
   ],
   "source": [
    "#comparing the results of NN and LR\n",
    "plt.figure(figsize=(15,10))\n",
    "\n",
    "# Neural Network plots\n",
    "plt.plot(acc_nn.accuracies, 'r-', label = \"Training Accuracies - NN\")\n",
    "plt.plot(acc_nn.test_accuracies, 'g-', label = \"Testing Accuracies - NN\")\n",
    "\n",
    "# Logistic Regression plots\n",
    "plt.plot(acc_lr.accuracies, 'k-', label = \"Training Accuracies - LR\")\n",
    "plt.plot(acc_lr.test_accuracies, 'b-', label = \"Testing Accuracies - LR\")\n",
    "plt.legend()"
   ]
  },
  {
   "cell_type": "markdown",
   "id": "80dfb35c",
   "metadata": {
    "papermill": {
     "duration": 0.042082,
     "end_time": "2022-04-26T00:38:36.065883",
     "exception": false,
     "start_time": "2022-04-26T00:38:36.023801",
     "status": "completed"
    },
    "tags": []
   },
   "source": [
    "#### Plotting the outputs of this layer of the NN.\n"
   ]
  },
  {
   "cell_type": "code",
   "execution_count": 25,
   "id": "45eb2ff5",
   "metadata": {
    "execution": {
     "iopub.execute_input": "2022-04-26T00:38:36.160998Z",
     "iopub.status.busy": "2022-04-26T00:38:36.160123Z",
     "iopub.status.idle": "2022-04-26T00:38:36.176190Z",
     "shell.execute_reply": "2022-04-26T00:38:36.176617Z"
    },
    "papermill": {
     "duration": 0.068709,
     "end_time": "2022-04-26T00:38:36.176761",
     "exception": false,
     "start_time": "2022-04-26T00:38:36.108052",
     "status": "completed"
    },
    "tags": []
   },
   "outputs": [],
   "source": [
    "new_model = Model(layers[:-2])\n",
    "testing_plot = new_model(testing_data_x)"
   ]
  },
  {
   "cell_type": "code",
   "execution_count": 26,
   "id": "4c0a5485",
   "metadata": {
    "execution": {
     "iopub.execute_input": "2022-04-26T00:38:36.266036Z",
     "iopub.status.busy": "2022-04-26T00:38:36.265511Z",
     "iopub.status.idle": "2022-04-26T00:38:36.452777Z",
     "shell.execute_reply": "2022-04-26T00:38:36.452346Z"
    },
    "papermill": {
     "duration": 0.233473,
     "end_time": "2022-04-26T00:38:36.452900",
     "exception": false,
     "start_time": "2022-04-26T00:38:36.219427",
     "status": "completed"
    },
    "tags": []
   },
   "outputs": [
    {
     "data": {
      "text/plain": [
       "Text(0.5, 1.0, 'Outputs')"
      ]
     },
     "execution_count": 26,
     "metadata": {},
     "output_type": "execute_result"
    },
    {
     "data": {
      "image/png": "[encoded data removed]",
      "text/plain": [
       "<Figure size 576x504 with 1 Axes>"
      ]
     },
     "metadata": {
      "needs_background": "light"
     },
     "output_type": "display_data"
    }
   ],
   "source": [
    "# Plotting the scatter plot of points and color coding by class\n",
    "plt.figure(figsize=(8,7))\n",
    "plt.scatter(testing_plot[:,0], testing_plot[:,1], alpha = 0.1, c = y_test.ravel());\n",
    "plt.title('Outputs')"
   ]
  },
  {
   "cell_type": "markdown",
   "id": "a74fcf8f",
   "metadata": {
    "papermill": {
     "duration": 0.04474,
     "end_time": "2022-04-26T00:38:36.542302",
     "exception": false,
     "start_time": "2022-04-26T00:38:36.497562",
     "status": "completed"
    },
    "tags": []
   },
   "source": [
    "Probability contours"
   ]
  },
  {
   "cell_type": "code",
   "execution_count": 27,
   "id": "d0afc8e3",
   "metadata": {
    "execution": {
     "iopub.execute_input": "2022-04-26T00:38:36.638193Z",
     "iopub.status.busy": "2022-04-26T00:38:36.636766Z",
     "iopub.status.idle": "2022-04-26T00:38:36.647463Z",
     "shell.execute_reply": "2022-04-26T00:38:36.647863Z"
    },
    "papermill": {
     "duration": 0.061241,
     "end_time": "2022-04-26T00:38:36.648006",
     "exception": false,
     "start_time": "2022-04-26T00:38:36.586765",
     "status": "completed"
    },
    "tags": []
   },
   "outputs": [],
   "source": [
    "model_prob = Model(layers[-2:]) "
   ]
  },
  {
   "cell_type": "code",
   "execution_count": 28,
   "id": "9b96e238",
   "metadata": {
    "execution": {
     "iopub.execute_input": "2022-04-26T00:38:36.776739Z",
     "iopub.status.busy": "2022-04-26T00:38:36.776205Z",
     "iopub.status.idle": "2022-04-26T00:38:36.787742Z",
     "shell.execute_reply": "2022-04-26T00:38:36.788130Z"
    },
    "papermill": {
     "duration": 0.063788,
     "end_time": "2022-04-26T00:38:36.788266",
     "exception": false,
     "start_time": "2022-04-26T00:38:36.724478",
     "status": "completed"
    },
    "tags": []
   },
   "outputs": [],
   "source": [
    "#creating the x and y ranges according to the above generated plot.\n",
    "x_range = np.linspace(-4, 1, 100) \n",
    "y_range = np.linspace(-6, 6, 100) \n",
    "x_grid, y_grid = np.meshgrid(x_range, y_range) # x_grid and y_grig are of size 100 X 100\n",
    "\n",
    "# converting x_grid and y_grid to continuous arrays\n",
    "x_gridflat = np.ravel(x_grid)\n",
    "y_gridflat = np.ravel(y_grid)\n",
    "\n",
    "# The last layer of the current model takes two columns as input. Hence transpose of np.vstack() is required.\n",
    "X = np.vstack((x_gridflat, y_gridflat)).T\n",
    "\n",
    "prob_contour = model_prob(X).reshape(100,100) "
   ]
  },
  {
   "cell_type": "code",
   "execution_count": 29,
   "id": "da72499a",
   "metadata": {
    "execution": {
     "iopub.execute_input": "2022-04-26T00:38:36.882345Z",
     "iopub.status.busy": "2022-04-26T00:38:36.881803Z",
     "iopub.status.idle": "2022-04-26T00:38:37.124520Z",
     "shell.execute_reply": "2022-04-26T00:38:37.124942Z"
    },
    "papermill": {
     "duration": 0.291815,
     "end_time": "2022-04-26T00:38:37.125084",
     "exception": false,
     "start_time": "2022-04-26T00:38:36.833269",
     "status": "completed"
    },
    "tags": []
   },
   "outputs": [
    {
     "data": {
      "image/png": "[encoded data removed]",
      "text/plain": [
       "<Figure size 720x648 with 1 Axes>"
      ]
     },
     "metadata": {
      "needs_background": "light"
     },
     "output_type": "display_data"
    }
   ],
   "source": [
    "plt.figure(figsize=(10,9))\n",
    "plt.scatter(testing_plot[:,0], testing_plot[:,1], alpha = 0.1, c = y_test.ravel())\n",
    "contours = plt.contour(x_grid,y_grid,prob_contour)\n",
    "plt.title('Probability Contours')\n",
    "plt.clabel(contours, inline = True );"
   ]
  },
  {
   "cell_type": "code",
   "execution_count": null,
   "id": "e81b4ac7",
   "metadata": {
    "papermill": {
     "duration": 0.048623,
     "end_time": "2022-04-26T00:38:37.221264",
     "exception": false,
     "start_time": "2022-04-26T00:38:37.172641",
     "status": "completed"
    },
    "tags": []
   },
   "outputs": [],
   "source": []
  }
 ],
 "metadata": {
  "kernelspec": {
   "display_name": "Python 3",
   "language": "python",
   "name": "python3"
  },
  "language_info": {
   "codemirror_mode": {
    "name": "ipython",
    "version": 3
   },
   "file_extension": ".py",
   "mimetype": "text/x-python",
   "name": "python",
   "nbconvert_exporter": "python",
   "pygments_lexer": "ipython3",
   "version": "3.6.15"
  },
  "papermill": {
   "default_parameters": {},
   "duration": 98.483509,
   "end_time": "2022-04-26T00:38:37.687737",
   "environment_variables": {},
   "exception": null,
   "input_path": "2020-08-11-part2.ipynb",
   "output_path": "2020-08-11-part2.ipynb",
   "parameters": {},
   "start_time": "2022-04-26T00:36:59.204228",
   "version": "2.3.3"
  }
 },
 "nbformat": 4,
 "nbformat_minor": 5
}