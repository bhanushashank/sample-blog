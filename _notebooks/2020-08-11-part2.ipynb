{
 "cells": [
  {
   "cell_type": "markdown",
   "id": "98380cd3",
   "metadata": {
    "papermill": {
     "duration": 0.029449,
     "end_time": "2022-04-26T20:10:20.361440",
     "exception": false,
     "start_time": "2022-04-26T20:10:20.331991",
     "status": "completed"
    },
    "tags": []
   },
   "source": [
    "# Distinguish Your Own Digits (DYOD)"
   ]
  },
  {
   "cell_type": "markdown",
   "id": "ef31240d",
   "metadata": {
    "papermill": {
     "duration": 0.025271,
     "end_time": "2022-04-26T20:10:20.411322",
     "exception": false,
     "start_time": "2022-04-26T20:10:20.386051",
     "status": "completed"
    },
    "tags": []
   },
   "source": [
    "You are going to write a classifier that distinguishes between the number 3 and number 8."
   ]
  },
  {
   "cell_type": "code",
   "execution_count": 1,
   "id": "b15c8646",
   "metadata": {
    "execution": {
     "iopub.execute_input": "2022-04-26T20:10:20.468822Z",
     "iopub.status.busy": "2022-04-26T20:10:20.468283Z",
     "iopub.status.idle": "2022-04-26T20:10:20.478026Z",
     "shell.execute_reply": "2022-04-26T20:10:20.477596Z"
    },
    "papermill": {
     "duration": 0.043044,
     "end_time": "2022-04-26T20:10:20.478155",
     "exception": false,
     "start_time": "2022-04-26T20:10:20.435111",
     "status": "completed"
    },
    "tags": []
   },
   "outputs": [],
   "source": [
    "%load_ext autoreload\n",
    "%autoreload 2"
   ]
  },
  {
   "cell_type": "code",
   "execution_count": 2,
   "id": "22ef38dc",
   "metadata": {
    "execution": {
     "iopub.execute_input": "2022-04-26T20:10:20.530659Z",
     "iopub.status.busy": "2022-04-26T20:10:20.530143Z",
     "iopub.status.idle": "2022-04-26T20:10:21.014406Z",
     "shell.execute_reply": "2022-04-26T20:10:21.013871Z"
    },
    "papermill": {
     "duration": 0.512317,
     "end_time": "2022-04-26T20:10:21.014549",
     "exception": false,
     "start_time": "2022-04-26T20:10:20.502232",
     "status": "completed"
    },
    "tags": []
   },
   "outputs": [],
   "source": [
    "%matplotlib inline\n",
    "import numpy as np\n",
    "import matplotlib.pyplot as plt\n",
    "import pandas as pd"
   ]
  },
  {
   "cell_type": "markdown",
   "id": "ba036198",
   "metadata": {
    "papermill": {
     "duration": 0.023887,
     "end_time": "2022-04-26T20:10:21.063321",
     "exception": false,
     "start_time": "2022-04-26T20:10:21.039434",
     "status": "completed"
    },
    "tags": []
   },
   "source": [
    "From the command line run `pip install mnist`. This is a library that will help you bring down the mnist dataset. If you run this from a notebook, you need to put  `!pip install mnist` in a cell by itself."
   ]
  },
  {
   "cell_type": "code",
   "execution_count": 3,
   "id": "bb6ad8a1",
   "metadata": {
    "execution": {
     "iopub.execute_input": "2022-04-26T20:10:21.141418Z",
     "iopub.status.busy": "2022-04-26T20:10:21.134102Z",
     "iopub.status.idle": "2022-04-26T20:10:22.808715Z",
     "shell.execute_reply": "2022-04-26T20:10:22.808147Z"
    },
    "papermill": {
     "duration": 1.721637,
     "end_time": "2022-04-26T20:10:22.808856",
     "exception": false,
     "start_time": "2022-04-26T20:10:21.087219",
     "status": "completed"
    },
    "tags": []
   },
   "outputs": [
    {
     "name": "stdout",
     "output_type": "stream",
     "text": [
      "Collecting mnist\r\n"
     ]
    },
    {
     "name": "stdout",
     "output_type": "stream",
     "text": [
      "  Downloading mnist-0.2.2-py2.py3-none-any.whl (3.5 kB)\r\n",
      "Requirement already satisfied: numpy in /opt/hostedtoolcache/Python/3.6.15/x64/lib/python3.6/site-packages (from mnist) (1.19.5)\r\n"
     ]
    },
    {
     "name": "stdout",
     "output_type": "stream",
     "text": [
      "Installing collected packages: mnist\r\n",
      "Successfully installed mnist-0.2.2\r\n"
     ]
    }
   ],
   "source": [
    "!pip install mnist"
   ]
  },
  {
   "cell_type": "markdown",
   "id": "69df9c9a",
   "metadata": {
    "papermill": {
     "duration": 0.024689,
     "end_time": "2022-04-26T20:10:22.859042",
     "exception": false,
     "start_time": "2022-04-26T20:10:22.834353",
     "status": "completed"
    },
    "tags": []
   },
   "source": [
    "## Preparing the Data"
   ]
  },
  {
   "cell_type": "code",
   "execution_count": 4,
   "id": "7f69d806",
   "metadata": {
    "execution": {
     "iopub.execute_input": "2022-04-26T20:10:22.912158Z",
     "iopub.status.busy": "2022-04-26T20:10:22.911652Z",
     "iopub.status.idle": "2022-04-26T20:10:22.925265Z",
     "shell.execute_reply": "2022-04-26T20:10:22.924831Z"
    },
    "papermill": {
     "duration": 0.041791,
     "end_time": "2022-04-26T20:10:22.925384",
     "exception": false,
     "start_time": "2022-04-26T20:10:22.883593",
     "status": "completed"
    },
    "tags": []
   },
   "outputs": [],
   "source": [
    "import mnist"
   ]
  },
  {
   "cell_type": "code",
   "execution_count": 5,
   "id": "a411e44f",
   "metadata": {
    "execution": {
     "iopub.execute_input": "2022-04-26T20:10:22.979606Z",
     "iopub.status.busy": "2022-04-26T20:10:22.979092Z",
     "iopub.status.idle": "2022-04-26T20:10:23.711022Z",
     "shell.execute_reply": "2022-04-26T20:10:23.711500Z"
    },
    "papermill": {
     "duration": 0.761634,
     "end_time": "2022-04-26T20:10:23.711672",
     "exception": false,
     "start_time": "2022-04-26T20:10:22.950038",
     "status": "completed"
    },
    "tags": []
   },
   "outputs": [],
   "source": [
    "train_images = mnist.train_images()\n",
    "train_labels = mnist.train_labels()"
   ]
  },
  {
   "cell_type": "code",
   "execution_count": 6,
   "id": "dceab3a5",
   "metadata": {
    "execution": {
     "iopub.execute_input": "2022-04-26T20:10:23.770107Z",
     "iopub.status.busy": "2022-04-26T20:10:23.769570Z",
     "iopub.status.idle": "2022-04-26T20:10:23.780434Z",
     "shell.execute_reply": "2022-04-26T20:10:23.780863Z"
    },
    "papermill": {
     "duration": 0.043446,
     "end_time": "2022-04-26T20:10:23.780990",
     "exception": false,
     "start_time": "2022-04-26T20:10:23.737544",
     "status": "completed"
    },
    "tags": []
   },
   "outputs": [
    {
     "data": {
      "text/plain": [
       "((60000, 28, 28), (60000,))"
      ]
     },
     "execution_count": 6,
     "metadata": {},
     "output_type": "execute_result"
    }
   ],
   "source": [
    "train_images.shape, train_labels.shape"
   ]
  },
  {
   "cell_type": "code",
   "execution_count": 7,
   "id": "f50dc2bb",
   "metadata": {
    "execution": {
     "iopub.execute_input": "2022-04-26T20:10:23.834464Z",
     "iopub.status.busy": "2022-04-26T20:10:23.833949Z",
     "iopub.status.idle": "2022-04-26T20:10:24.086943Z",
     "shell.execute_reply": "2022-04-26T20:10:24.086416Z"
    },
    "papermill": {
     "duration": 0.281333,
     "end_time": "2022-04-26T20:10:24.087089",
     "exception": false,
     "start_time": "2022-04-26T20:10:23.805756",
     "status": "completed"
    },
    "tags": []
   },
   "outputs": [],
   "source": [
    "test_images = mnist.test_images()\n",
    "test_labels = mnist.test_labels()"
   ]
  },
  {
   "cell_type": "code",
   "execution_count": 8,
   "id": "fc38cf1b",
   "metadata": {
    "execution": {
     "iopub.execute_input": "2022-04-26T20:10:24.144128Z",
     "iopub.status.busy": "2022-04-26T20:10:24.143610Z",
     "iopub.status.idle": "2022-04-26T20:10:24.155271Z",
     "shell.execute_reply": "2022-04-26T20:10:24.154856Z"
    },
    "papermill": {
     "duration": 0.042035,
     "end_time": "2022-04-26T20:10:24.155381",
     "exception": false,
     "start_time": "2022-04-26T20:10:24.113346",
     "status": "completed"
    },
    "tags": []
   },
   "outputs": [
    {
     "data": {
      "text/plain": [
       "((10000, 28, 28), (10000,))"
      ]
     },
     "execution_count": 8,
     "metadata": {},
     "output_type": "execute_result"
    }
   ],
   "source": [
    "test_images.shape, test_labels.shape"
   ]
  },
  {
   "cell_type": "code",
   "execution_count": 9,
   "id": "f9ed8fe0",
   "metadata": {
    "execution": {
     "iopub.execute_input": "2022-04-26T20:10:24.213541Z",
     "iopub.status.busy": "2022-04-26T20:10:24.212935Z",
     "iopub.status.idle": "2022-04-26T20:10:24.337092Z",
     "shell.execute_reply": "2022-04-26T20:10:24.337535Z"
    },
    "papermill": {
     "duration": 0.157313,
     "end_time": "2022-04-26T20:10:24.337683",
     "exception": false,
     "start_time": "2022-04-26T20:10:24.180370",
     "status": "completed"
    },
    "tags": []
   },
   "outputs": [
    {
     "name": "stdout",
     "output_type": "stream",
     "text": [
      "2\n"
     ]
    },
    {
     "data": {
      "text/plain": [
       "<matplotlib.image.AxesImage at 0x7f44a3890390>"
      ]
     },
     "execution_count": 9,
     "metadata": {},
     "output_type": "execute_result"
    },
    {
     "data": {
      "image/png": "[encoded data removed]",
      "text/plain": [
       "<Figure size 432x288 with 1 Axes>"
      ]
     },
     "metadata": {
      "needs_background": "light"
     },
     "output_type": "display_data"
    }
   ],
   "source": [
    "image_index = 7776 # You may select anything up to 60,000\n",
    "print(train_labels[image_index]) \n",
    "plt.imshow(train_images[image_index], cmap='Greys')"
   ]
  },
  {
   "cell_type": "markdown",
   "id": "a8d2388d",
   "metadata": {
    "papermill": {
     "duration": 0.026208,
     "end_time": "2022-04-26T20:10:24.390473",
     "exception": false,
     "start_time": "2022-04-26T20:10:24.364265",
     "status": "completed"
    },
    "tags": []
   },
   "source": [
    "## Filter data to get 3 and 8 out"
   ]
  },
  {
   "cell_type": "code",
   "execution_count": 10,
   "id": "776f7fc7",
   "metadata": {
    "execution": {
     "iopub.execute_input": "2022-04-26T20:10:24.450692Z",
     "iopub.status.busy": "2022-04-26T20:10:24.450203Z",
     "iopub.status.idle": "2022-04-26T20:10:24.468322Z",
     "shell.execute_reply": "2022-04-26T20:10:24.467916Z"
    },
    "papermill": {
     "duration": 0.051584,
     "end_time": "2022-04-26T20:10:24.468427",
     "exception": false,
     "start_time": "2022-04-26T20:10:24.416843",
     "status": "completed"
    },
    "tags": []
   },
   "outputs": [],
   "source": [
    "train_filter = np.where((train_labels == 3 ) | (train_labels == 8))\n",
    "test_filter = np.where((test_labels == 3) | (test_labels == 8))\n",
    "X_train, y_train = train_images[train_filter], train_labels[train_filter]\n",
    "X_test, y_test = test_images[test_filter], test_labels[test_filter]"
   ]
  },
  {
   "cell_type": "markdown",
   "id": "948f0b7e",
   "metadata": {
    "papermill": {
     "duration": 0.02357,
     "end_time": "2022-04-26T20:10:24.515500",
     "exception": false,
     "start_time": "2022-04-26T20:10:24.491930",
     "status": "completed"
    },
    "tags": []
   },
   "source": [
    "We normalize the pizel values in the 0 to 1 range"
   ]
  },
  {
   "cell_type": "code",
   "execution_count": 11,
   "id": "ee4c2166",
   "metadata": {
    "execution": {
     "iopub.execute_input": "2022-04-26T20:10:24.577939Z",
     "iopub.status.busy": "2022-04-26T20:10:24.571763Z",
     "iopub.status.idle": "2022-04-26T20:10:24.615725Z",
     "shell.execute_reply": "2022-04-26T20:10:24.615225Z"
    },
    "papermill": {
     "duration": 0.077117,
     "end_time": "2022-04-26T20:10:24.615864",
     "exception": false,
     "start_time": "2022-04-26T20:10:24.538747",
     "status": "completed"
    },
    "tags": []
   },
   "outputs": [],
   "source": [
    "X_train = X_train/255.\n",
    "X_test = X_test/255."
   ]
  },
  {
   "cell_type": "markdown",
   "id": "ddcf4fab",
   "metadata": {
    "papermill": {
     "duration": 0.023144,
     "end_time": "2022-04-26T20:10:24.665161",
     "exception": false,
     "start_time": "2022-04-26T20:10:24.642017",
     "status": "completed"
    },
    "tags": []
   },
   "source": [
    "And setup the labels as 1 (when the digit is 3) and 0 (when the digit is 8)"
   ]
  },
  {
   "cell_type": "code",
   "execution_count": 12,
   "id": "7dc908f2",
   "metadata": {
    "execution": {
     "iopub.execute_input": "2022-04-26T20:10:24.720423Z",
     "iopub.status.busy": "2022-04-26T20:10:24.719887Z",
     "iopub.status.idle": "2022-04-26T20:10:24.729583Z",
     "shell.execute_reply": "2022-04-26T20:10:24.729999Z"
    },
    "papermill": {
     "duration": 0.041815,
     "end_time": "2022-04-26T20:10:24.730130",
     "exception": false,
     "start_time": "2022-04-26T20:10:24.688315",
     "status": "completed"
    },
    "tags": []
   },
   "outputs": [],
   "source": [
    "y_train = 1*(y_train==3)\n",
    "y_test = 1*(y_test==3)"
   ]
  },
  {
   "cell_type": "code",
   "execution_count": 13,
   "id": "01e4e969",
   "metadata": {
    "execution": {
     "iopub.execute_input": "2022-04-26T20:10:24.795089Z",
     "iopub.status.busy": "2022-04-26T20:10:24.786161Z",
     "iopub.status.idle": "2022-04-26T20:10:24.804424Z",
     "shell.execute_reply": "2022-04-26T20:10:24.803510Z"
    },
    "papermill": {
     "duration": 0.047925,
     "end_time": "2022-04-26T20:10:24.804541",
     "exception": false,
     "start_time": "2022-04-26T20:10:24.756616",
     "status": "completed"
    },
    "tags": []
   },
   "outputs": [
    {
     "data": {
      "text/plain": [
       "((11982, 28, 28), (1984, 28, 28))"
      ]
     },
     "execution_count": 13,
     "metadata": {},
     "output_type": "execute_result"
    }
   ],
   "source": [
    "X_train.shape, X_test.shape"
   ]
  },
  {
   "cell_type": "markdown",
   "id": "5ccf3f85",
   "metadata": {
    "papermill": {
     "duration": 0.026472,
     "end_time": "2022-04-26T20:10:24.857636",
     "exception": false,
     "start_time": "2022-04-26T20:10:24.831164",
     "status": "completed"
    },
    "tags": []
   },
   "source": [
    "We reshape the data to flatten the image pixels into a set of features or co-variates:"
   ]
  },
  {
   "cell_type": "code",
   "execution_count": 14,
   "id": "5286a4a3",
   "metadata": {
    "execution": {
     "iopub.execute_input": "2022-04-26T20:10:24.915139Z",
     "iopub.status.busy": "2022-04-26T20:10:24.914006Z",
     "iopub.status.idle": "2022-04-26T20:10:24.926865Z",
     "shell.execute_reply": "2022-04-26T20:10:24.927202Z"
    },
    "papermill": {
     "duration": 0.043188,
     "end_time": "2022-04-26T20:10:24.927318",
     "exception": false,
     "start_time": "2022-04-26T20:10:24.884130",
     "status": "completed"
    },
    "tags": []
   },
   "outputs": [
    {
     "data": {
      "text/plain": [
       "((11982, 784), (1984, 784))"
      ]
     },
     "execution_count": 14,
     "metadata": {},
     "output_type": "execute_result"
    }
   ],
   "source": [
    "X_train = X_train.reshape(X_train.shape[0], -1)\n",
    "X_test = X_test.reshape(X_test.shape[0], -1)\n",
    "X_train.shape, X_test.shape"
   ]
  },
  {
   "cell_type": "code",
   "execution_count": 15,
   "id": "73c5f88a",
   "metadata": {
    "execution": {
     "iopub.execute_input": "2022-04-26T20:10:24.985891Z",
     "iopub.status.busy": "2022-04-26T20:10:24.978402Z",
     "iopub.status.idle": "2022-04-26T20:10:24.996205Z",
     "shell.execute_reply": "2022-04-26T20:10:24.995809Z"
    },
    "papermill": {
     "duration": 0.045334,
     "end_time": "2022-04-26T20:10:24.996304",
     "exception": false,
     "start_time": "2022-04-26T20:10:24.950970",
     "status": "completed"
    },
    "tags": []
   },
   "outputs": [],
   "source": [
    "#Impoting functions from 'Kudzu'\n",
    "from kudzu.model import Model\n",
    "from kudzu.train import Learner\n",
    "from kudzu.optim import GD\n",
    "from kudzu.data import Data, Sampler,Dataloader\n",
    "\n",
    "from kudzu.callbacks import AccCallback\n",
    "from kudzu.callbacks import ClfCallback\n",
    "\n",
    "from kudzu.loss import MSE\n",
    "\n",
    "from kudzu.layer import Sigmoid,Relu\n",
    "from kudzu.layer import Affine"
   ]
  },
  {
   "cell_type": "markdown",
   "id": "bc01172a",
   "metadata": {
    "papermill": {
     "duration": 0.024018,
     "end_time": "2022-04-26T20:10:25.044086",
     "exception": false,
     "start_time": "2022-04-26T20:10:25.020068",
     "status": "completed"
    },
    "tags": []
   },
   "source": [
    "### Let us create a `Config` class, to store important parameters. \n",
    "This class essentially plays the role of a dictionary."
   ]
  },
  {
   "cell_type": "code",
   "execution_count": 16,
   "id": "978281aa",
   "metadata": {
    "execution": {
     "iopub.execute_input": "2022-04-26T20:10:25.110112Z",
     "iopub.status.busy": "2022-04-26T20:10:25.108275Z",
     "iopub.status.idle": "2022-04-26T20:10:25.112396Z",
     "shell.execute_reply": "2022-04-26T20:10:25.111960Z"
    },
    "papermill": {
     "duration": 0.044726,
     "end_time": "2022-04-26T20:10:25.112504",
     "exception": false,
     "start_time": "2022-04-26T20:10:25.067778",
     "status": "completed"
    },
    "tags": []
   },
   "outputs": [],
   "source": [
    "class Config:\n",
    "    pass\n",
    "config = Config()\n",
    "config.lr = 0.001\n",
    "config.num_epochs = 250\n",
    "config.bs = 50"
   ]
  },
  {
   "cell_type": "markdown",
   "id": "1385fa59",
   "metadata": {
    "papermill": {
     "duration": 0.026763,
     "end_time": "2022-04-26T20:10:25.166319",
     "exception": false,
     "start_time": "2022-04-26T20:10:25.139556",
     "status": "completed"
    },
    "tags": []
   },
   "source": [
    "### Running Models with the Training data\n",
    "Details about the network layers:\n",
    "- A first affine layer has 784 inputs and does 100 affine transforms. These are followed by a Relu\n",
    "- A second affine layer has 100 inputs from the 100 activations of the past layer, and does 100 affine transforms. These are followed by a Relu\n",
    "- A third affine layer has 100 activations and does 2 affine transformations to create an embedding for visualization. There is no non-linearity here.\n",
    "- A final \"logistic regression\" which has an affine transform from 2 inputs to 1 output, which is squeezed through a sigmoid.\n"
   ]
  },
  {
   "cell_type": "code",
   "execution_count": 17,
   "id": "2b9c66db",
   "metadata": {
    "execution": {
     "iopub.execute_input": "2022-04-26T20:10:25.232589Z",
     "iopub.status.busy": "2022-04-26T20:10:25.232056Z",
     "iopub.status.idle": "2022-04-26T20:10:25.239778Z",
     "shell.execute_reply": "2022-04-26T20:10:25.239343Z"
    },
    "papermill": {
     "duration": 0.046832,
     "end_time": "2022-04-26T20:10:25.239885",
     "exception": false,
     "start_time": "2022-04-26T20:10:25.193053",
     "status": "completed"
    },
    "tags": []
   },
   "outputs": [],
   "source": [
    "data = Data(X_train, y_train.reshape(-1,1))\n",
    "sampler = Sampler(data, config.bs, shuffle=True)\n",
    "\n",
    "dl = Dataloader(data, sampler)\n",
    "\n",
    "opt = GD(config.lr)\n",
    "loss = MSE()"
   ]
  },
  {
   "cell_type": "code",
   "execution_count": 18,
   "id": "b275e4c2",
   "metadata": {
    "execution": {
     "iopub.execute_input": "2022-04-26T20:10:25.302950Z",
     "iopub.status.busy": "2022-04-26T20:10:25.296593Z",
     "iopub.status.idle": "2022-04-26T20:10:25.310604Z",
     "shell.execute_reply": "2022-04-26T20:10:25.310983Z"
    },
    "papermill": {
     "duration": 0.044486,
     "end_time": "2022-04-26T20:10:25.311110",
     "exception": false,
     "start_time": "2022-04-26T20:10:25.266624",
     "status": "completed"
    },
    "tags": []
   },
   "outputs": [],
   "source": [
    "training_data_x = X_train\n",
    "testing_data_x = X_test\n",
    "training_data_y = y_train.reshape(-1,1)\n",
    "testing_data_y = y_test.reshape(-1,1)"
   ]
  },
  {
   "cell_type": "code",
   "execution_count": 19,
   "id": "76951160",
   "metadata": {
    "execution": {
     "iopub.execute_input": "2022-04-26T20:10:25.374552Z",
     "iopub.status.busy": "2022-04-26T20:10:25.368027Z",
     "iopub.status.idle": "2022-04-26T20:10:25.386605Z",
     "shell.execute_reply": "2022-04-26T20:10:25.386985Z"
    },
    "papermill": {
     "duration": 0.049415,
     "end_time": "2022-04-26T20:10:25.387116",
     "exception": false,
     "start_time": "2022-04-26T20:10:25.337701",
     "status": "completed"
    },
    "tags": []
   },
   "outputs": [
    {
     "name": "stdout",
     "output_type": "stream",
     "text": [
      "xavier\n",
      "xavier\n",
      "xavier\n",
      "xavier\n",
      "xavier\n"
     ]
    }
   ],
   "source": [
    "layers = [Affine(\"first\", 784, 100), Relu(\"first\"), Affine(\"second\", 100, 100), Relu(\"second\"), Affine(\"third\", 100, 2), Affine(\"last\", 2, 1), Sigmoid(\"last\")]\n",
    "model_nn = Model(layers)\n",
    "model_lr = Model([Affine(\"logits\", 784, 1), Sigmoid(\"sigmoid\")])"
   ]
  },
  {
   "cell_type": "code",
   "execution_count": 20,
   "id": "6eede77a",
   "metadata": {
    "execution": {
     "iopub.execute_input": "2022-04-26T20:10:25.451493Z",
     "iopub.status.busy": "2022-04-26T20:10:25.445444Z",
     "iopub.status.idle": "2022-04-26T20:10:25.456134Z",
     "shell.execute_reply": "2022-04-26T20:10:25.456538Z"
    },
    "papermill": {
     "duration": 0.042409,
     "end_time": "2022-04-26T20:10:25.456662",
     "exception": false,
     "start_time": "2022-04-26T20:10:25.414253",
     "status": "completed"
    },
    "tags": []
   },
   "outputs": [],
   "source": [
    "nn_learner = Learner(loss, model_nn, opt, config.num_epochs)\n",
    "acc_nn = ClfCallback(nn_learner, config.bs, training_data_x , testing_data_x, training_data_y, testing_data_y)\n",
    "nn_learner.set_callbacks([acc_nn])"
   ]
  },
  {
   "cell_type": "code",
   "execution_count": 21,
   "id": "877b6cc7",
   "metadata": {
    "execution": {
     "iopub.execute_input": "2022-04-26T20:10:25.516632Z",
     "iopub.status.busy": "2022-04-26T20:10:25.516115Z",
     "iopub.status.idle": "2022-04-26T20:10:25.526862Z",
     "shell.execute_reply": "2022-04-26T20:10:25.526499Z"
    },
    "papermill": {
     "duration": 0.043369,
     "end_time": "2022-04-26T20:10:25.526962",
     "exception": false,
     "start_time": "2022-04-26T20:10:25.483593",
     "status": "completed"
    },
    "tags": []
   },
   "outputs": [],
   "source": [
    "lr_learner = Learner(loss, model_lr, opt, config.num_epochs)\n",
    "acc_lr = ClfCallback(lr_learner, config.bs, training_data_x , testing_data_x, training_data_y, testing_data_y)\n",
    "lr_learner.set_callbacks([acc_lr])"
   ]
  },
  {
   "cell_type": "code",
   "execution_count": 22,
   "id": "d9b133c3",
   "metadata": {
    "execution": {
     "iopub.execute_input": "2022-04-26T20:10:25.579349Z",
     "iopub.status.busy": "2022-04-26T20:10:25.578905Z",
     "iopub.status.idle": "2022-04-26T20:11:41.399614Z",
     "shell.execute_reply": "2022-04-26T20:11:41.400379Z"
    },
    "papermill": {
     "duration": 75.849586,
     "end_time": "2022-04-26T20:11:41.400535",
     "exception": false,
     "start_time": "2022-04-26T20:10:25.550949",
     "status": "completed"
    },
    "tags": []
   },
   "outputs": [
    {
     "name": "stdout",
     "output_type": "stream",
     "text": [
      "Epoch 0, Loss 0.244\n",
      "Training Accuracy: 0.5482, Testing Accuracy: 0.5444\n",
      "\n"
     ]
    },
    {
     "name": "stdout",
     "output_type": "stream",
     "text": [
      "Epoch 10, Loss 0.107\n",
      "Training Accuracy: 0.9205, Testing Accuracy: 0.9385\n",
      "\n"
     ]
    },
    {
     "name": "stdout",
     "output_type": "stream",
     "text": [
      "Epoch 20, Loss 0.0607\n",
      "Training Accuracy: 0.9401, Testing Accuracy: 0.9541\n",
      "\n"
     ]
    },
    {
     "name": "stdout",
     "output_type": "stream",
     "text": [
      "Epoch 30, Loss 0.0464\n",
      "Training Accuracy: 0.9508, Testing Accuracy: 0.9617\n",
      "\n"
     ]
    },
    {
     "name": "stdout",
     "output_type": "stream",
     "text": [
      "Epoch 40, Loss 0.0398\n",
      "Training Accuracy: 0.9561, Testing Accuracy: 0.9647\n",
      "\n"
     ]
    },
    {
     "name": "stdout",
     "output_type": "stream",
     "text": [
      "Epoch 50, Loss 0.0359\n",
      "Training Accuracy: 0.9598, Testing Accuracy: 0.9667\n",
      "\n"
     ]
    },
    {
     "name": "stdout",
     "output_type": "stream",
     "text": [
      "Epoch 60, Loss 0.0333\n",
      "Training Accuracy: 0.9626, Testing Accuracy: 0.9672\n",
      "\n"
     ]
    },
    {
     "name": "stdout",
     "output_type": "stream",
     "text": [
      "Epoch 70, Loss 0.0314\n",
      "Training Accuracy: 0.9643, Testing Accuracy: 0.9688\n",
      "\n"
     ]
    },
    {
     "name": "stdout",
     "output_type": "stream",
     "text": [
      "Epoch 80, Loss 0.03\n",
      "Training Accuracy: 0.9658, Testing Accuracy: 0.9703\n",
      "\n"
     ]
    },
    {
     "name": "stdout",
     "output_type": "stream",
     "text": [
      "Epoch 90, Loss 0.0288\n",
      "Training Accuracy: 0.9670, Testing Accuracy: 0.9708\n",
      "\n"
     ]
    },
    {
     "name": "stdout",
     "output_type": "stream",
     "text": [
      "Epoch 100, Loss 0.0278\n",
      "Training Accuracy: 0.9683, Testing Accuracy: 0.9723\n",
      "\n"
     ]
    },
    {
     "name": "stdout",
     "output_type": "stream",
     "text": [
      "Epoch 110, Loss 0.0269\n",
      "Training Accuracy: 0.9690, Testing Accuracy: 0.9723\n",
      "\n"
     ]
    },
    {
     "name": "stdout",
     "output_type": "stream",
     "text": [
      "Epoch 120, Loss 0.0262\n",
      "Training Accuracy: 0.9693, Testing Accuracy: 0.9728\n",
      "\n"
     ]
    },
    {
     "name": "stdout",
     "output_type": "stream",
     "text": [
      "Epoch 130, Loss 0.0255\n",
      "Training Accuracy: 0.9697, Testing Accuracy: 0.9733\n",
      "\n"
     ]
    },
    {
     "name": "stdout",
     "output_type": "stream",
     "text": [
      "Epoch 140, Loss 0.0249\n",
      "Training Accuracy: 0.9700, Testing Accuracy: 0.9738\n",
      "\n"
     ]
    },
    {
     "name": "stdout",
     "output_type": "stream",
     "text": [
      "Epoch 150, Loss 0.0243\n",
      "Training Accuracy: 0.9706, Testing Accuracy: 0.9743\n",
      "\n"
     ]
    },
    {
     "name": "stdout",
     "output_type": "stream",
     "text": [
      "Epoch 160, Loss 0.0238\n",
      "Training Accuracy: 0.9722, Testing Accuracy: 0.9748\n",
      "\n"
     ]
    },
    {
     "name": "stdout",
     "output_type": "stream",
     "text": [
      "Epoch 170, Loss 0.0233\n",
      "Training Accuracy: 0.9731, Testing Accuracy: 0.9748\n",
      "\n"
     ]
    },
    {
     "name": "stdout",
     "output_type": "stream",
     "text": [
      "Epoch 180, Loss 0.0229\n",
      "Training Accuracy: 0.9735, Testing Accuracy: 0.9748\n",
      "\n"
     ]
    },
    {
     "name": "stdout",
     "output_type": "stream",
     "text": [
      "Epoch 190, Loss 0.0225\n",
      "Training Accuracy: 0.9740, Testing Accuracy: 0.9753\n",
      "\n"
     ]
    },
    {
     "name": "stdout",
     "output_type": "stream",
     "text": [
      "Epoch 200, Loss 0.0221\n",
      "Training Accuracy: 0.9745, Testing Accuracy: 0.9753\n",
      "\n"
     ]
    },
    {
     "name": "stdout",
     "output_type": "stream",
     "text": [
      "Epoch 210, Loss 0.0217\n",
      "Training Accuracy: 0.9746, Testing Accuracy: 0.9748\n",
      "\n"
     ]
    },
    {
     "name": "stdout",
     "output_type": "stream",
     "text": [
      "Epoch 220, Loss 0.0213\n",
      "Training Accuracy: 0.9755, Testing Accuracy: 0.9748\n",
      "\n"
     ]
    },
    {
     "name": "stdout",
     "output_type": "stream",
     "text": [
      "Epoch 230, Loss 0.0209\n",
      "Training Accuracy: 0.9754, Testing Accuracy: 0.9753\n",
      "\n"
     ]
    },
    {
     "name": "stdout",
     "output_type": "stream",
     "text": [
      "Epoch 240, Loss 0.0205\n",
      "Training Accuracy: 0.9760, Testing Accuracy: 0.9753\n",
      "\n"
     ]
    },
    {
     "data": {
      "text/plain": [
       "0.02576725948486511"
      ]
     },
     "execution_count": 22,
     "metadata": {},
     "output_type": "execute_result"
    }
   ],
   "source": [
    "nn_learner.train_loop(dl)"
   ]
  },
  {
   "cell_type": "code",
   "execution_count": 23,
   "id": "e0163366",
   "metadata": {
    "execution": {
     "iopub.execute_input": "2022-04-26T20:11:41.481793Z",
     "iopub.status.busy": "2022-04-26T20:11:41.481249Z",
     "iopub.status.idle": "2022-04-26T20:11:55.382661Z",
     "shell.execute_reply": "2022-04-26T20:11:55.383402Z"
    },
    "papermill": {
     "duration": 13.948558,
     "end_time": "2022-04-26T20:11:55.383558",
     "exception": false,
     "start_time": "2022-04-26T20:11:41.435000",
     "status": "completed"
    },
    "tags": []
   },
   "outputs": [
    {
     "name": "stdout",
     "output_type": "stream",
     "text": [
      "Epoch 0, Loss 0.213\n",
      "Training Accuracy: 0.8078, Testing Accuracy: 0.8095\n",
      "\n"
     ]
    },
    {
     "name": "stdout",
     "output_type": "stream",
     "text": [
      "Epoch 10, Loss 0.0971\n",
      "Training Accuracy: 0.9200, Testing Accuracy: 0.9304\n",
      "\n"
     ]
    },
    {
     "name": "stdout",
     "output_type": "stream",
     "text": [
      "Epoch 20, Loss 0.076\n",
      "Training Accuracy: 0.9333, Testing Accuracy: 0.9451\n",
      "\n"
     ]
    },
    {
     "name": "stdout",
     "output_type": "stream",
     "text": [
      "Epoch 30, Loss 0.066\n",
      "Training Accuracy: 0.9395, Testing Accuracy: 0.9521\n",
      "\n"
     ]
    },
    {
     "name": "stdout",
     "output_type": "stream",
     "text": [
      "Epoch 40, Loss 0.06\n",
      "Training Accuracy: 0.9433, Testing Accuracy: 0.9577\n",
      "\n"
     ]
    },
    {
     "name": "stdout",
     "output_type": "stream",
     "text": [
      "Epoch 50, Loss 0.0558\n",
      "Training Accuracy: 0.9461, Testing Accuracy: 0.9597\n",
      "\n"
     ]
    },
    {
     "name": "stdout",
     "output_type": "stream",
     "text": [
      "Epoch 60, Loss 0.0527\n",
      "Training Accuracy: 0.9488, Testing Accuracy: 0.9602\n",
      "\n"
     ]
    },
    {
     "name": "stdout",
     "output_type": "stream",
     "text": [
      "Epoch 70, Loss 0.0503\n",
      "Training Accuracy: 0.9501, Testing Accuracy: 0.9607\n",
      "\n"
     ]
    },
    {
     "name": "stdout",
     "output_type": "stream",
     "text": [
      "Epoch 80, Loss 0.0484\n",
      "Training Accuracy: 0.9516, Testing Accuracy: 0.9612\n",
      "\n"
     ]
    },
    {
     "name": "stdout",
     "output_type": "stream",
     "text": [
      "Epoch 90, Loss 0.0468\n",
      "Training Accuracy: 0.9531, Testing Accuracy: 0.9627\n",
      "\n"
     ]
    },
    {
     "name": "stdout",
     "output_type": "stream",
     "text": [
      "Epoch 100, Loss 0.0454\n",
      "Training Accuracy: 0.9541, Testing Accuracy: 0.9622\n",
      "\n"
     ]
    },
    {
     "name": "stdout",
     "output_type": "stream",
     "text": [
      "Epoch 110, Loss 0.0443\n",
      "Training Accuracy: 0.9549, Testing Accuracy: 0.9622\n",
      "\n"
     ]
    },
    {
     "name": "stdout",
     "output_type": "stream",
     "text": [
      "Epoch 120, Loss 0.0432\n",
      "Training Accuracy: 0.9555, Testing Accuracy: 0.9622\n",
      "\n"
     ]
    },
    {
     "name": "stdout",
     "output_type": "stream",
     "text": [
      "Epoch 130, Loss 0.0423\n",
      "Training Accuracy: 0.9563, Testing Accuracy: 0.9632\n",
      "\n"
     ]
    },
    {
     "name": "stdout",
     "output_type": "stream",
     "text": [
      "Epoch 140, Loss 0.0416\n",
      "Training Accuracy: 0.9569, Testing Accuracy: 0.9637\n",
      "\n"
     ]
    },
    {
     "name": "stdout",
     "output_type": "stream",
     "text": [
      "Epoch 150, Loss 0.0408\n",
      "Training Accuracy: 0.9575, Testing Accuracy: 0.9637\n",
      "\n"
     ]
    },
    {
     "name": "stdout",
     "output_type": "stream",
     "text": [
      "Epoch 160, Loss 0.0402\n",
      "Training Accuracy: 0.9583, Testing Accuracy: 0.9652\n",
      "\n"
     ]
    },
    {
     "name": "stdout",
     "output_type": "stream",
     "text": [
      "Epoch 170, Loss 0.0396\n",
      "Training Accuracy: 0.9585, Testing Accuracy: 0.9652\n",
      "\n"
     ]
    },
    {
     "name": "stdout",
     "output_type": "stream",
     "text": [
      "Epoch 180, Loss 0.0391\n",
      "Training Accuracy: 0.9590, Testing Accuracy: 0.9652\n",
      "\n"
     ]
    },
    {
     "name": "stdout",
     "output_type": "stream",
     "text": [
      "Epoch 190, Loss 0.0386\n",
      "Training Accuracy: 0.9594, Testing Accuracy: 0.9652\n",
      "\n"
     ]
    },
    {
     "name": "stdout",
     "output_type": "stream",
     "text": [
      "Epoch 200, Loss 0.0381\n",
      "Training Accuracy: 0.9599, Testing Accuracy: 0.9652\n",
      "\n"
     ]
    },
    {
     "name": "stdout",
     "output_type": "stream",
     "text": [
      "Epoch 210, Loss 0.0377\n",
      "Training Accuracy: 0.9601, Testing Accuracy: 0.9652\n",
      "\n"
     ]
    },
    {
     "name": "stdout",
     "output_type": "stream",
     "text": [
      "Epoch 220, Loss 0.0373\n",
      "Training Accuracy: 0.9605, Testing Accuracy: 0.9652\n",
      "\n"
     ]
    },
    {
     "name": "stdout",
     "output_type": "stream",
     "text": [
      "Epoch 230, Loss 0.0369\n",
      "Training Accuracy: 0.9604, Testing Accuracy: 0.9652\n",
      "\n"
     ]
    },
    {
     "name": "stdout",
     "output_type": "stream",
     "text": [
      "Epoch 240, Loss 0.0366\n",
      "Training Accuracy: 0.9604, Testing Accuracy: 0.9657\n",
      "\n"
     ]
    },
    {
     "data": {
      "text/plain": [
       "0.02208843702186537"
      ]
     },
     "execution_count": 23,
     "metadata": {},
     "output_type": "execute_result"
    }
   ],
   "source": [
    "lr_learner.train_loop(dl)"
   ]
  },
  {
   "cell_type": "code",
   "execution_count": 24,
   "id": "ca410940",
   "metadata": {
    "execution": {
     "iopub.execute_input": "2022-04-26T20:11:55.475466Z",
     "iopub.status.busy": "2022-04-26T20:11:55.474700Z",
     "iopub.status.idle": "2022-04-26T20:11:55.691947Z",
     "shell.execute_reply": "2022-04-26T20:11:55.691541Z"
    },
    "papermill": {
     "duration": 0.266934,
     "end_time": "2022-04-26T20:11:55.692060",
     "exception": false,
     "start_time": "2022-04-26T20:11:55.425126",
     "status": "completed"
    },
    "tags": []
   },
   "outputs": [
    {
     "data": {
      "text/plain": [
       "<matplotlib.legend.Legend at 0x7f44a346eb00>"
      ]
     },
     "execution_count": 24,
     "metadata": {},
     "output_type": "execute_result"
    },
    {
     "data": {
      "image/png": "[encoded data removed]",
      "text/plain": [
       "<Figure size 1080x720 with 1 Axes>"
      ]
     },
     "metadata": {
      "needs_background": "light"
     },
     "output_type": "display_data"
    }
   ],
   "source": [
    "#comparing the results of NN and LR\n",
    "plt.figure(figsize=(15,10))\n",
    "\n",
    "# Neural Network plots\n",
    "plt.plot(acc_nn.accuracies, 'r-', label = \"Training Accuracies - NN\")\n",
    "plt.plot(acc_nn.test_accuracies, 'g-', label = \"Testing Accuracies - NN\")\n",
    "\n",
    "# Logistic Regression plots\n",
    "plt.plot(acc_lr.accuracies, 'k-', label = \"Training Accuracies - LR\")\n",
    "plt.plot(acc_lr.test_accuracies, 'b-', label = \"Testing Accuracies - LR\")\n",
    "plt.legend()"
   ]
  },
  {
   "cell_type": "markdown",
   "id": "80dfb35c",
   "metadata": {
    "papermill": {
     "duration": 0.037372,
     "end_time": "2022-04-26T20:11:55.767388",
     "exception": false,
     "start_time": "2022-04-26T20:11:55.730016",
     "status": "completed"
    },
    "tags": []
   },
   "source": [
    "#### Plotting the outputs of this layer of the NN.\n"
   ]
  },
  {
   "cell_type": "code",
   "execution_count": 25,
   "id": "45eb2ff5",
   "metadata": {
    "execution": {
     "iopub.execute_input": "2022-04-26T20:11:55.846476Z",
     "iopub.status.busy": "2022-04-26T20:11:55.846010Z",
     "iopub.status.idle": "2022-04-26T20:11:55.866499Z",
     "shell.execute_reply": "2022-04-26T20:11:55.866892Z"
    },
    "papermill": {
     "duration": 0.062466,
     "end_time": "2022-04-26T20:11:55.867022",
     "exception": false,
     "start_time": "2022-04-26T20:11:55.804556",
     "status": "completed"
    },
    "tags": []
   },
   "outputs": [],
   "source": [
    "new_model = Model(layers[:-2])\n",
    "testing_plot = new_model(testing_data_x)"
   ]
  },
  {
   "cell_type": "code",
   "execution_count": 26,
   "id": "4c0a5485",
   "metadata": {
    "execution": {
     "iopub.execute_input": "2022-04-26T20:11:55.947908Z",
     "iopub.status.busy": "2022-04-26T20:11:55.947446Z",
     "iopub.status.idle": "2022-04-26T20:11:56.155301Z",
     "shell.execute_reply": "2022-04-26T20:11:56.154824Z"
    },
    "papermill": {
     "duration": 0.249038,
     "end_time": "2022-04-26T20:11:56.155426",
     "exception": false,
     "start_time": "2022-04-26T20:11:55.906388",
     "status": "completed"
    },
    "tags": []
   },
   "outputs": [
    {
     "data": {
      "text/plain": [
       "Text(0.5, 1.0, 'Outputs')"
      ]
     },
     "execution_count": 26,
     "metadata": {},
     "output_type": "execute_result"
    },
    {
     "data": {
      "image/png": "[encoded data removed]",
      "text/plain": [
       "<Figure size 576x504 with 1 Axes>"
      ]
     },
     "metadata": {
      "needs_background": "light"
     },
     "output_type": "display_data"
    }
   ],
   "source": [
    "# Plotting the scatter plot of points and color coding by class\n",
    "plt.figure(figsize=(8,7))\n",
    "plt.scatter(testing_plot[:,0], testing_plot[:,1], alpha = 0.1, c = y_test.ravel());\n",
    "plt.title('Outputs')"
   ]
  },
  {
   "cell_type": "markdown",
   "id": "a74fcf8f",
   "metadata": {
    "papermill": {
     "duration": 0.044539,
     "end_time": "2022-04-26T20:11:56.244659",
     "exception": false,
     "start_time": "2022-04-26T20:11:56.200120",
     "status": "completed"
    },
    "tags": []
   },
   "source": [
    "Probability contours"
   ]
  },
  {
   "cell_type": "code",
   "execution_count": 27,
   "id": "d0afc8e3",
   "metadata": {
    "execution": {
     "iopub.execute_input": "2022-04-26T20:11:56.340867Z",
     "iopub.status.busy": "2022-04-26T20:11:56.339702Z",
     "iopub.status.idle": "2022-04-26T20:11:56.350216Z",
     "shell.execute_reply": "2022-04-26T20:11:56.350560Z"
    },
    "papermill": {
     "duration": 0.061225,
     "end_time": "2022-04-26T20:11:56.350686",
     "exception": false,
     "start_time": "2022-04-26T20:11:56.289461",
     "status": "completed"
    },
    "tags": []
   },
   "outputs": [],
   "source": [
    "model_prob = Model(layers[-2:]) "
   ]
  },
  {
   "cell_type": "code",
   "execution_count": 28,
   "id": "9b96e238",
   "metadata": {
    "execution": {
     "iopub.execute_input": "2022-04-26T20:11:56.435527Z",
     "iopub.status.busy": "2022-04-26T20:11:56.435056Z",
     "iopub.status.idle": "2022-04-26T20:11:56.448845Z",
     "shell.execute_reply": "2022-04-26T20:11:56.449184Z"
    },
    "papermill": {
     "duration": 0.059282,
     "end_time": "2022-04-26T20:11:56.449334",
     "exception": false,
     "start_time": "2022-04-26T20:11:56.390052",
     "status": "completed"
    },
    "tags": []
   },
   "outputs": [],
   "source": [
    "#creating the x and y ranges according to the above generated plot.\n",
    "x_range = np.linspace(-4, 1, 100) \n",
    "y_range = np.linspace(-6, 6, 100) \n",
    "x_grid, y_grid = np.meshgrid(x_range, y_range) # x_grid and y_grig are of size 100 X 100\n",
    "\n",
    "# converting x_grid and y_grid to continuous arrays\n",
    "x_gridflat = np.ravel(x_grid)\n",
    "y_gridflat = np.ravel(y_grid)\n",
    "\n",
    "# The last layer of the current model takes two columns as input. Hence transpose of np.vstack() is required.\n",
    "X = np.vstack((x_gridflat, y_gridflat)).T\n",
    "\n",
    "prob_contour = model_prob(X).reshape(100,100) "
   ]
  },
  {
   "cell_type": "code",
   "execution_count": 29,
   "id": "da72499a",
   "metadata": {
    "execution": {
     "iopub.execute_input": "2022-04-26T20:11:56.566420Z",
     "iopub.status.busy": "2022-04-26T20:11:56.565893Z",
     "iopub.status.idle": "2022-04-26T20:11:56.811628Z",
     "shell.execute_reply": "2022-04-26T20:11:56.812004Z"
    },
    "papermill": {
     "duration": 0.323543,
     "end_time": "2022-04-26T20:11:56.812137",
     "exception": false,
     "start_time": "2022-04-26T20:11:56.488594",
     "status": "completed"
    },
    "tags": []
   },
   "outputs": [
    {
     "data": {
      "image/png": "[encoded data removed]",
      "text/plain": [
       "<Figure size 720x648 with 1 Axes>"
      ]
     },
     "metadata": {
      "needs_background": "light"
     },
     "output_type": "display_data"
    }
   ],
   "source": [
    "plt.figure(figsize=(10,9))\n",
    "plt.scatter(testing_plot[:,0], testing_plot[:,1], alpha = 0.1, c = y_test.ravel())\n",
    "contours = plt.contour(x_grid,y_grid,prob_contour)\n",
    "plt.title('Probability Contours')\n",
    "plt.clabel(contours, inline = True );"
   ]
  },
  {
   "cell_type": "code",
   "execution_count": null,
   "id": "e81b4ac7",
   "metadata": {
    "papermill": {
     "duration": 0.041213,
     "end_time": "2022-04-26T20:11:56.895717",
     "exception": false,
     "start_time": "2022-04-26T20:11:56.854504",
     "status": "completed"
    },
    "tags": []
   },
   "outputs": [],
   "source": []
  }
 ],
 "metadata": {
  "kernelspec": {
   "display_name": "Python 3",
   "language": "python",
   "name": "python3"
  },
  "language_info": {
   "codemirror_mode": {
    "name": "ipython",
    "version": 3
   },
   "file_extension": ".py",
   "mimetype": "text/x-python",
   "name": "python",
   "nbconvert_exporter": "python",
   "pygments_lexer": "ipython3",
   "version": "3.6.15"
  },
  "papermill": {
   "default_parameters": {},
   "duration": 98.134945,
   "end_time": "2022-04-26T20:11:57.354986",
   "environment_variables": {},
   "exception": null,
   "input_path": "2020-08-11-part2.ipynb",
   "output_path": "2020-08-11-part2.ipynb",
   "parameters": {},
   "start_time": "2022-04-26T20:10:19.220041",
   "version": "2.3.3"
  }
 },
 "nbformat": 4,
 "nbformat_minor": 5
}