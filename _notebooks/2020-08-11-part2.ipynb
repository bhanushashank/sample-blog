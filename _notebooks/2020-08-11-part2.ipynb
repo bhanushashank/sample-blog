{
 "cells": [
  {
   "cell_type": "markdown",
   "id": "98380cd3",
   "metadata": {
    "papermill": {
     "duration": 0.028894,
     "end_time": "2022-02-05T10:05:49.427690",
     "exception": false,
     "start_time": "2022-02-05T10:05:49.398796",
     "status": "completed"
    },
    "tags": []
   },
   "source": [
    "# Distinguish Your Own Digits (DYOD)"
   ]
  },
  {
   "cell_type": "markdown",
   "id": "ef31240d",
   "metadata": {
    "papermill": {
     "duration": 0.024516,
     "end_time": "2022-02-05T10:05:49.476895",
     "exception": false,
     "start_time": "2022-02-05T10:05:49.452379",
     "status": "completed"
    },
    "tags": []
   },
   "source": [
    "You are going to write a classifier that distinguishes between the number 3 and number 8."
   ]
  },
  {
   "cell_type": "code",
   "execution_count": 1,
   "id": "b15c8646",
   "metadata": {
    "execution": {
     "iopub.execute_input": "2022-02-05T10:05:49.535702Z",
     "iopub.status.busy": "2022-02-05T10:05:49.535138Z",
     "iopub.status.idle": "2022-02-05T10:05:49.544649Z",
     "shell.execute_reply": "2022-02-05T10:05:49.544212Z"
    },
    "papermill": {
     "duration": 0.043843,
     "end_time": "2022-02-05T10:05:49.544783",
     "exception": false,
     "start_time": "2022-02-05T10:05:49.500940",
     "status": "completed"
    },
    "tags": []
   },
   "outputs": [],
   "source": [
    "%load_ext autoreload\n",
    "%autoreload 2"
   ]
  },
  {
   "cell_type": "code",
   "execution_count": 2,
   "id": "22ef38dc",
   "metadata": {
    "execution": {
     "iopub.execute_input": "2022-02-05T10:05:49.597938Z",
     "iopub.status.busy": "2022-02-05T10:05:49.597374Z",
     "iopub.status.idle": "2022-02-05T10:05:50.130832Z",
     "shell.execute_reply": "2022-02-05T10:05:50.130356Z"
    },
    "papermill": {
     "duration": 0.561434,
     "end_time": "2022-02-05T10:05:50.130961",
     "exception": false,
     "start_time": "2022-02-05T10:05:49.569527",
     "status": "completed"
    },
    "tags": []
   },
   "outputs": [],
   "source": [
    "%matplotlib inline\n",
    "import numpy as np\n",
    "import matplotlib.pyplot as plt\n",
    "import pandas as pd"
   ]
  },
  {
   "cell_type": "markdown",
   "id": "ba036198",
   "metadata": {
    "papermill": {
     "duration": 0.024057,
     "end_time": "2022-02-05T10:05:50.179244",
     "exception": false,
     "start_time": "2022-02-05T10:05:50.155187",
     "status": "completed"
    },
    "tags": []
   },
   "source": [
    "From the command line run `pip install mnist`. This is a library that will help you bring down the mnist dataset. If you run this from a notebook, you need to put  `!pip install mnist` in a cell by itself."
   ]
  },
  {
   "cell_type": "code",
   "execution_count": 3,
   "id": "bb6ad8a1",
   "metadata": {
    "execution": {
     "iopub.execute_input": "2022-02-05T10:05:50.234645Z",
     "iopub.status.busy": "2022-02-05T10:05:50.234079Z",
     "iopub.status.idle": "2022-02-05T10:05:51.957163Z",
     "shell.execute_reply": "2022-02-05T10:05:51.956653Z"
    },
    "papermill": {
     "duration": 1.753765,
     "end_time": "2022-02-05T10:05:51.957287",
     "exception": false,
     "start_time": "2022-02-05T10:05:50.203522",
     "status": "completed"
    },
    "tags": []
   },
   "outputs": [
    {
     "name": "stdout",
     "output_type": "stream",
     "text": [
      "Collecting mnist\r\n"
     ]
    },
    {
     "name": "stdout",
     "output_type": "stream",
     "text": [
      "  Downloading mnist-0.2.2-py2.py3-none-any.whl (3.5 kB)\r\n",
      "Requirement already satisfied: numpy in /opt/hostedtoolcache/Python/3.6.15/x64/lib/python3.6/site-packages (from mnist) (1.19.5)\r\n"
     ]
    },
    {
     "name": "stdout",
     "output_type": "stream",
     "text": [
      "Installing collected packages: mnist\r\n",
      "Successfully installed mnist-0.2.2\r\n"
     ]
    }
   ],
   "source": [
    "!pip install mnist"
   ]
  },
  {
   "cell_type": "markdown",
   "id": "69df9c9a",
   "metadata": {
    "papermill": {
     "duration": 0.025358,
     "end_time": "2022-02-05T10:05:52.009781",
     "exception": false,
     "start_time": "2022-02-05T10:05:51.984423",
     "status": "completed"
    },
    "tags": []
   },
   "source": [
    "## Preparing the Data"
   ]
  },
  {
   "cell_type": "code",
   "execution_count": 4,
   "id": "7f69d806",
   "metadata": {
    "execution": {
     "iopub.execute_input": "2022-02-05T10:05:52.063464Z",
     "iopub.status.busy": "2022-02-05T10:05:52.062938Z",
     "iopub.status.idle": "2022-02-05T10:05:52.077676Z",
     "shell.execute_reply": "2022-02-05T10:05:52.077217Z"
    },
    "papermill": {
     "duration": 0.043224,
     "end_time": "2022-02-05T10:05:52.077802",
     "exception": false,
     "start_time": "2022-02-05T10:05:52.034578",
     "status": "completed"
    },
    "tags": []
   },
   "outputs": [],
   "source": [
    "import mnist"
   ]
  },
  {
   "cell_type": "code",
   "execution_count": 5,
   "id": "a411e44f",
   "metadata": {
    "execution": {
     "iopub.execute_input": "2022-02-05T10:05:52.140345Z",
     "iopub.status.busy": "2022-02-05T10:05:52.139786Z",
     "iopub.status.idle": "2022-02-05T10:05:52.689895Z",
     "shell.execute_reply": "2022-02-05T10:05:52.690339Z"
    },
    "papermill": {
     "duration": 0.587614,
     "end_time": "2022-02-05T10:05:52.690496",
     "exception": false,
     "start_time": "2022-02-05T10:05:52.102882",
     "status": "completed"
    },
    "tags": []
   },
   "outputs": [],
   "source": [
    "train_images = mnist.train_images()\n",
    "train_labels = mnist.train_labels()"
   ]
  },
  {
   "cell_type": "code",
   "execution_count": 6,
   "id": "dceab3a5",
   "metadata": {
    "execution": {
     "iopub.execute_input": "2022-02-05T10:05:52.750332Z",
     "iopub.status.busy": "2022-02-05T10:05:52.744285Z",
     "iopub.status.idle": "2022-02-05T10:05:52.761533Z",
     "shell.execute_reply": "2022-02-05T10:05:52.761982Z"
    },
    "papermill": {
     "duration": 0.046402,
     "end_time": "2022-02-05T10:05:52.762120",
     "exception": false,
     "start_time": "2022-02-05T10:05:52.715718",
     "status": "completed"
    },
    "tags": []
   },
   "outputs": [
    {
     "data": {
      "text/plain": [
       "((60000, 28, 28), (60000,))"
      ]
     },
     "execution_count": 6,
     "metadata": {},
     "output_type": "execute_result"
    }
   ],
   "source": [
    "train_images.shape, train_labels.shape"
   ]
  },
  {
   "cell_type": "code",
   "execution_count": 7,
   "id": "f50dc2bb",
   "metadata": {
    "execution": {
     "iopub.execute_input": "2022-02-05T10:05:52.829772Z",
     "iopub.status.busy": "2022-02-05T10:05:52.815321Z",
     "iopub.status.idle": "2022-02-05T10:05:52.981291Z",
     "shell.execute_reply": "2022-02-05T10:05:52.980818Z"
    },
    "papermill": {
     "duration": 0.194261,
     "end_time": "2022-02-05T10:05:52.981423",
     "exception": false,
     "start_time": "2022-02-05T10:05:52.787162",
     "status": "completed"
    },
    "tags": []
   },
   "outputs": [],
   "source": [
    "test_images = mnist.test_images()\n",
    "test_labels = mnist.test_labels()"
   ]
  },
  {
   "cell_type": "code",
   "execution_count": 8,
   "id": "fc38cf1b",
   "metadata": {
    "execution": {
     "iopub.execute_input": "2022-02-05T10:05:53.041680Z",
     "iopub.status.busy": "2022-02-05T10:05:53.041102Z",
     "iopub.status.idle": "2022-02-05T10:05:53.052296Z",
     "shell.execute_reply": "2022-02-05T10:05:53.052797Z"
    },
    "papermill": {
     "duration": 0.044248,
     "end_time": "2022-02-05T10:05:53.052948",
     "exception": false,
     "start_time": "2022-02-05T10:05:53.008700",
     "status": "completed"
    },
    "tags": []
   },
   "outputs": [
    {
     "data": {
      "text/plain": [
       "((10000, 28, 28), (10000,))"
      ]
     },
     "execution_count": 8,
     "metadata": {},
     "output_type": "execute_result"
    }
   ],
   "source": [
    "test_images.shape, test_labels.shape"
   ]
  },
  {
   "cell_type": "code",
   "execution_count": 9,
   "id": "f9ed8fe0",
   "metadata": {
    "execution": {
     "iopub.execute_input": "2022-02-05T10:05:53.115777Z",
     "iopub.status.busy": "2022-02-05T10:05:53.115213Z",
     "iopub.status.idle": "2022-02-05T10:05:53.250275Z",
     "shell.execute_reply": "2022-02-05T10:05:53.249817Z"
    },
    "papermill": {
     "duration": 0.171424,
     "end_time": "2022-02-05T10:05:53.250401",
     "exception": false,
     "start_time": "2022-02-05T10:05:53.078977",
     "status": "completed"
    },
    "tags": []
   },
   "outputs": [
    {
     "name": "stdout",
     "output_type": "stream",
     "text": [
      "2\n"
     ]
    },
    {
     "data": {
      "text/plain": [
       "<matplotlib.image.AxesImage at 0x7fcb726f1c18>"
      ]
     },
     "execution_count": 9,
     "metadata": {},
     "output_type": "execute_result"
    },
    {
     "data": {
      "image/png": "[encoded data removed]",
      "text/plain": [
       "<Figure size 432x288 with 1 Axes>"
      ]
     },
     "metadata": {
      "needs_background": "light"
     },
     "output_type": "display_data"
    }
   ],
   "source": [
    "image_index = 7776 # You may select anything up to 60,000\n",
    "print(train_labels[image_index]) \n",
    "plt.imshow(train_images[image_index], cmap='Greys')"
   ]
  },
  {
   "cell_type": "markdown",
   "id": "a8d2388d",
   "metadata": {
    "papermill": {
     "duration": 0.030228,
     "end_time": "2022-02-05T10:05:53.308412",
     "exception": false,
     "start_time": "2022-02-05T10:05:53.278184",
     "status": "completed"
    },
    "tags": []
   },
   "source": [
    "## Filter data to get 3 and 8 out"
   ]
  },
  {
   "cell_type": "code",
   "execution_count": 10,
   "id": "776f7fc7",
   "metadata": {
    "execution": {
     "iopub.execute_input": "2022-02-05T10:05:53.370339Z",
     "iopub.status.busy": "2022-02-05T10:05:53.369771Z",
     "iopub.status.idle": "2022-02-05T10:05:53.385851Z",
     "shell.execute_reply": "2022-02-05T10:05:53.385389Z"
    },
    "papermill": {
     "duration": 0.050414,
     "end_time": "2022-02-05T10:05:53.385977",
     "exception": false,
     "start_time": "2022-02-05T10:05:53.335563",
     "status": "completed"
    },
    "tags": []
   },
   "outputs": [],
   "source": [
    "train_filter = np.where((train_labels == 3 ) | (train_labels == 8))\n",
    "test_filter = np.where((test_labels == 3) | (test_labels == 8))\n",
    "X_train, y_train = train_images[train_filter], train_labels[train_filter]\n",
    "X_test, y_test = test_images[test_filter], test_labels[test_filter]"
   ]
  },
  {
   "cell_type": "markdown",
   "id": "948f0b7e",
   "metadata": {
    "papermill": {
     "duration": 0.027622,
     "end_time": "2022-02-05T10:05:53.441476",
     "exception": false,
     "start_time": "2022-02-05T10:05:53.413854",
     "status": "completed"
    },
    "tags": []
   },
   "source": [
    "We normalize the pizel values in the 0 to 1 range"
   ]
  },
  {
   "cell_type": "code",
   "execution_count": 11,
   "id": "ee4c2166",
   "metadata": {
    "execution": {
     "iopub.execute_input": "2022-02-05T10:05:53.506637Z",
     "iopub.status.busy": "2022-02-05T10:05:53.506099Z",
     "iopub.status.idle": "2022-02-05T10:05:53.552977Z",
     "shell.execute_reply": "2022-02-05T10:05:53.552406Z"
    },
    "papermill": {
     "duration": 0.085138,
     "end_time": "2022-02-05T10:05:53.553112",
     "exception": false,
     "start_time": "2022-02-05T10:05:53.467974",
     "status": "completed"
    },
    "tags": []
   },
   "outputs": [],
   "source": [
    "X_train = X_train/255.\n",
    "X_test = X_test/255."
   ]
  },
  {
   "cell_type": "markdown",
   "id": "ddcf4fab",
   "metadata": {
    "papermill": {
     "duration": 0.026472,
     "end_time": "2022-02-05T10:05:53.607254",
     "exception": false,
     "start_time": "2022-02-05T10:05:53.580782",
     "status": "completed"
    },
    "tags": []
   },
   "source": [
    "And setup the labels as 1 (when the digit is 3) and 0 (when the digit is 8)"
   ]
  },
  {
   "cell_type": "code",
   "execution_count": 12,
   "id": "7dc908f2",
   "metadata": {
    "execution": {
     "iopub.execute_input": "2022-02-05T10:05:53.666910Z",
     "iopub.status.busy": "2022-02-05T10:05:53.666323Z",
     "iopub.status.idle": "2022-02-05T10:05:53.677854Z",
     "shell.execute_reply": "2022-02-05T10:05:53.677382Z"
    },
    "papermill": {
     "duration": 0.044348,
     "end_time": "2022-02-05T10:05:53.677982",
     "exception": false,
     "start_time": "2022-02-05T10:05:53.633634",
     "status": "completed"
    },
    "tags": []
   },
   "outputs": [],
   "source": [
    "y_train = 1*(y_train==3)\n",
    "y_test = 1*(y_test==3)"
   ]
  },
  {
   "cell_type": "code",
   "execution_count": 13,
   "id": "01e4e969",
   "metadata": {
    "execution": {
     "iopub.execute_input": "2022-02-05T10:05:53.734916Z",
     "iopub.status.busy": "2022-02-05T10:05:53.734385Z",
     "iopub.status.idle": "2022-02-05T10:05:53.748488Z",
     "shell.execute_reply": "2022-02-05T10:05:53.748064Z"
    },
    "papermill": {
     "duration": 0.043973,
     "end_time": "2022-02-05T10:05:53.748606",
     "exception": false,
     "start_time": "2022-02-05T10:05:53.704633",
     "status": "completed"
    },
    "tags": []
   },
   "outputs": [
    {
     "data": {
      "text/plain": [
       "((11982, 28, 28), (1984, 28, 28))"
      ]
     },
     "execution_count": 13,
     "metadata": {},
     "output_type": "execute_result"
    }
   ],
   "source": [
    "X_train.shape, X_test.shape"
   ]
  },
  {
   "cell_type": "markdown",
   "id": "5ccf3f85",
   "metadata": {
    "papermill": {
     "duration": 0.02669,
     "end_time": "2022-02-05T10:05:53.802383",
     "exception": false,
     "start_time": "2022-02-05T10:05:53.775693",
     "status": "completed"
    },
    "tags": []
   },
   "source": [
    "We reshape the data to flatten the image pixels into a set of features or co-variates:"
   ]
  },
  {
   "cell_type": "code",
   "execution_count": 14,
   "id": "5286a4a3",
   "metadata": {
    "execution": {
     "iopub.execute_input": "2022-02-05T10:05:53.864149Z",
     "iopub.status.busy": "2022-02-05T10:05:53.863599Z",
     "iopub.status.idle": "2022-02-05T10:05:53.874747Z",
     "shell.execute_reply": "2022-02-05T10:05:53.874304Z"
    },
    "papermill": {
     "duration": 0.045646,
     "end_time": "2022-02-05T10:05:53.874861",
     "exception": false,
     "start_time": "2022-02-05T10:05:53.829215",
     "status": "completed"
    },
    "tags": []
   },
   "outputs": [
    {
     "data": {
      "text/plain": [
       "((11982, 784), (1984, 784))"
      ]
     },
     "execution_count": 14,
     "metadata": {},
     "output_type": "execute_result"
    }
   ],
   "source": [
    "X_train = X_train.reshape(X_train.shape[0], -1)\n",
    "X_test = X_test.reshape(X_test.shape[0], -1)\n",
    "X_train.shape, X_test.shape"
   ]
  },
  {
   "cell_type": "code",
   "execution_count": 15,
   "id": "73c5f88a",
   "metadata": {
    "execution": {
     "iopub.execute_input": "2022-02-05T10:05:53.938534Z",
     "iopub.status.busy": "2022-02-05T10:05:53.937975Z",
     "iopub.status.idle": "2022-02-05T10:05:53.953356Z",
     "shell.execute_reply": "2022-02-05T10:05:53.952926Z"
    },
    "papermill": {
     "duration": 0.05142,
     "end_time": "2022-02-05T10:05:53.953475",
     "exception": false,
     "start_time": "2022-02-05T10:05:53.902055",
     "status": "completed"
    },
    "tags": []
   },
   "outputs": [],
   "source": [
    "#Impoting functions from 'Kudzu'\n",
    "from kudzu.model import Model\n",
    "from kudzu.train import Learner\n",
    "from kudzu.optim import GD\n",
    "from kudzu.data import Data, Sampler,Dataloader\n",
    "\n",
    "from kudzu.callbacks import AccCallback\n",
    "from kudzu.callbacks import ClfCallback\n",
    "\n",
    "from kudzu.loss import MSE\n",
    "\n",
    "from kudzu.layer import Sigmoid,Relu\n",
    "from kudzu.layer import Affine"
   ]
  },
  {
   "cell_type": "markdown",
   "id": "bc01172a",
   "metadata": {
    "papermill": {
     "duration": 0.026963,
     "end_time": "2022-02-05T10:05:54.007720",
     "exception": false,
     "start_time": "2022-02-05T10:05:53.980757",
     "status": "completed"
    },
    "tags": []
   },
   "source": [
    "### Let us create a `Config` class, to store important parameters. \n",
    "This class essentially plays the role of a dictionary."
   ]
  },
  {
   "cell_type": "code",
   "execution_count": 16,
   "id": "978281aa",
   "metadata": {
    "execution": {
     "iopub.execute_input": "2022-02-05T10:05:54.065791Z",
     "iopub.status.busy": "2022-02-05T10:05:54.065233Z",
     "iopub.status.idle": "2022-02-05T10:05:54.077821Z",
     "shell.execute_reply": "2022-02-05T10:05:54.077214Z"
    },
    "papermill": {
     "duration": 0.043185,
     "end_time": "2022-02-05T10:05:54.077954",
     "exception": false,
     "start_time": "2022-02-05T10:05:54.034769",
     "status": "completed"
    },
    "tags": []
   },
   "outputs": [],
   "source": [
    "class Config:\n",
    "    pass\n",
    "config = Config()\n",
    "config.lr = 0.001\n",
    "config.num_epochs = 250\n",
    "config.bs = 50"
   ]
  },
  {
   "cell_type": "markdown",
   "id": "1385fa59",
   "metadata": {
    "papermill": {
     "duration": 0.026933,
     "end_time": "2022-02-05T10:05:54.133498",
     "exception": false,
     "start_time": "2022-02-05T10:05:54.106565",
     "status": "completed"
    },
    "tags": []
   },
   "source": [
    "### Running Models with the Training data\n",
    "Details about the network layers:\n",
    "- A first affine layer has 784 inputs and does 100 affine transforms. These are followed by a Relu\n",
    "- A second affine layer has 100 inputs from the 100 activations of the past layer, and does 100 affine transforms. These are followed by a Relu\n",
    "- A third affine layer has 100 activations and does 2 affine transformations to create an embedding for visualization. There is no non-linearity here.\n",
    "- A final \"logistic regression\" which has an affine transform from 2 inputs to 1 output, which is squeezed through a sigmoid.\n"
   ]
  },
  {
   "cell_type": "code",
   "execution_count": 17,
   "id": "2b9c66db",
   "metadata": {
    "execution": {
     "iopub.execute_input": "2022-02-05T10:05:54.194960Z",
     "iopub.status.busy": "2022-02-05T10:05:54.194410Z",
     "iopub.status.idle": "2022-02-05T10:05:54.204688Z",
     "shell.execute_reply": "2022-02-05T10:05:54.205128Z"
    },
    "papermill": {
     "duration": 0.044711,
     "end_time": "2022-02-05T10:05:54.205263",
     "exception": false,
     "start_time": "2022-02-05T10:05:54.160552",
     "status": "completed"
    },
    "tags": []
   },
   "outputs": [],
   "source": [
    "data = Data(X_train, y_train.reshape(-1,1))\n",
    "sampler = Sampler(data, config.bs, shuffle=True)\n",
    "\n",
    "dl = Dataloader(data, sampler)\n",
    "\n",
    "opt = GD(config.lr)\n",
    "loss = MSE()"
   ]
  },
  {
   "cell_type": "code",
   "execution_count": 18,
   "id": "b275e4c2",
   "metadata": {
    "execution": {
     "iopub.execute_input": "2022-02-05T10:05:54.267057Z",
     "iopub.status.busy": "2022-02-05T10:05:54.266526Z",
     "iopub.status.idle": "2022-02-05T10:05:54.276418Z",
     "shell.execute_reply": "2022-02-05T10:05:54.275995Z"
    },
    "papermill": {
     "duration": 0.044178,
     "end_time": "2022-02-05T10:05:54.276535",
     "exception": false,
     "start_time": "2022-02-05T10:05:54.232357",
     "status": "completed"
    },
    "tags": []
   },
   "outputs": [],
   "source": [
    "training_data_x = X_train\n",
    "testing_data_x = X_test\n",
    "training_data_y = y_train.reshape(-1,1)\n",
    "testing_data_y = y_test.reshape(-1,1)"
   ]
  },
  {
   "cell_type": "code",
   "execution_count": 19,
   "id": "76951160",
   "metadata": {
    "execution": {
     "iopub.execute_input": "2022-02-05T10:05:54.341204Z",
     "iopub.status.busy": "2022-02-05T10:05:54.340628Z",
     "iopub.status.idle": "2022-02-05T10:05:54.354509Z",
     "shell.execute_reply": "2022-02-05T10:05:54.354092Z"
    },
    "papermill": {
     "duration": 0.050826,
     "end_time": "2022-02-05T10:05:54.354626",
     "exception": false,
     "start_time": "2022-02-05T10:05:54.303800",
     "status": "completed"
    },
    "tags": []
   },
   "outputs": [
    {
     "name": "stdout",
     "output_type": "stream",
     "text": [
      "xavier\n",
      "xavier\n",
      "xavier\n",
      "xavier\n",
      "xavier\n"
     ]
    }
   ],
   "source": [
    "layers = [Affine(\"first\", 784, 100), Relu(\"first\"), Affine(\"second\", 100, 100), Relu(\"second\"), Affine(\"third\", 100, 2), Affine(\"last\", 2, 1), Sigmoid(\"last\")]\n",
    "model_nn = Model(layers)\n",
    "model_lr = Model([Affine(\"logits\", 784, 1), Sigmoid(\"sigmoid\")])"
   ]
  },
  {
   "cell_type": "code",
   "execution_count": 20,
   "id": "6eede77a",
   "metadata": {
    "execution": {
     "iopub.execute_input": "2022-02-05T10:05:54.422415Z",
     "iopub.status.busy": "2022-02-05T10:05:54.420896Z",
     "iopub.status.idle": "2022-02-05T10:05:54.428520Z",
     "shell.execute_reply": "2022-02-05T10:05:54.427604Z"
    },
    "papermill": {
     "duration": 0.046631,
     "end_time": "2022-02-05T10:05:54.428638",
     "exception": false,
     "start_time": "2022-02-05T10:05:54.382007",
     "status": "completed"
    },
    "tags": []
   },
   "outputs": [],
   "source": [
    "nn_learner = Learner(loss, model_nn, opt, config.num_epochs)\n",
    "acc_nn = ClfCallback(nn_learner, config.bs, training_data_x , testing_data_x, training_data_y, testing_data_y)\n",
    "nn_learner.set_callbacks([acc_nn])"
   ]
  },
  {
   "cell_type": "code",
   "execution_count": 21,
   "id": "877b6cc7",
   "metadata": {
    "execution": {
     "iopub.execute_input": "2022-02-05T10:05:54.494268Z",
     "iopub.status.busy": "2022-02-05T10:05:54.487664Z",
     "iopub.status.idle": "2022-02-05T10:05:54.502225Z",
     "shell.execute_reply": "2022-02-05T10:05:54.501805Z"
    },
    "papermill": {
     "duration": 0.046335,
     "end_time": "2022-02-05T10:05:54.502340",
     "exception": false,
     "start_time": "2022-02-05T10:05:54.456005",
     "status": "completed"
    },
    "tags": []
   },
   "outputs": [],
   "source": [
    "lr_learner = Learner(loss, model_lr, opt, config.num_epochs)\n",
    "acc_lr = ClfCallback(lr_learner, config.bs, training_data_x , testing_data_x, training_data_y, testing_data_y)\n",
    "lr_learner.set_callbacks([acc_lr])"
   ]
  },
  {
   "cell_type": "code",
   "execution_count": 22,
   "id": "d9b133c3",
   "metadata": {
    "execution": {
     "iopub.execute_input": "2022-02-05T10:05:54.560483Z",
     "iopub.status.busy": "2022-02-05T10:05:54.559963Z",
     "iopub.status.idle": "2022-02-05T10:07:10.601970Z",
     "shell.execute_reply": "2022-02-05T10:07:10.602469Z"
    },
    "papermill": {
     "duration": 76.072949,
     "end_time": "2022-02-05T10:07:10.602607",
     "exception": false,
     "start_time": "2022-02-05T10:05:54.529658",
     "status": "completed"
    },
    "tags": []
   },
   "outputs": [
    {
     "name": "stdout",
     "output_type": "stream",
     "text": [
      "Epoch 0, Loss 0.2701\n",
      "Training Accuracy: 0.4426, Testing Accuracy: 0.4194\n",
      "\n"
     ]
    },
    {
     "name": "stdout",
     "output_type": "stream",
     "text": [
      "Epoch 10, Loss 0.1155\n",
      "Training Accuracy: 0.9109, Testing Accuracy: 0.9229\n",
      "\n"
     ]
    },
    {
     "name": "stdout",
     "output_type": "stream",
     "text": [
      "Epoch 20, Loss 0.0624\n",
      "Training Accuracy: 0.9373, Testing Accuracy: 0.9430\n",
      "\n"
     ]
    },
    {
     "name": "stdout",
     "output_type": "stream",
     "text": [
      "Epoch 30, Loss 0.0472\n",
      "Training Accuracy: 0.9480, Testing Accuracy: 0.9567\n",
      "\n"
     ]
    },
    {
     "name": "stdout",
     "output_type": "stream",
     "text": [
      "Epoch 40, Loss 0.0401\n",
      "Training Accuracy: 0.9545, Testing Accuracy: 0.9602\n",
      "\n"
     ]
    },
    {
     "name": "stdout",
     "output_type": "stream",
     "text": [
      "Epoch 50, Loss 0.036\n",
      "Training Accuracy: 0.9586, Testing Accuracy: 0.9632\n",
      "\n"
     ]
    },
    {
     "name": "stdout",
     "output_type": "stream",
     "text": [
      "Epoch 60, Loss 0.0332\n",
      "Training Accuracy: 0.9613, Testing Accuracy: 0.9657\n",
      "\n"
     ]
    },
    {
     "name": "stdout",
     "output_type": "stream",
     "text": [
      "Epoch 70, Loss 0.0311\n",
      "Training Accuracy: 0.9637, Testing Accuracy: 0.9682\n",
      "\n"
     ]
    },
    {
     "name": "stdout",
     "output_type": "stream",
     "text": [
      "Epoch 80, Loss 0.0295\n",
      "Training Accuracy: 0.9654, Testing Accuracy: 0.9693\n",
      "\n"
     ]
    },
    {
     "name": "stdout",
     "output_type": "stream",
     "text": [
      "Epoch 90, Loss 0.0281\n",
      "Training Accuracy: 0.9665, Testing Accuracy: 0.9703\n",
      "\n"
     ]
    },
    {
     "name": "stdout",
     "output_type": "stream",
     "text": [
      "Epoch 100, Loss 0.0269\n",
      "Training Accuracy: 0.9677, Testing Accuracy: 0.9703\n",
      "\n"
     ]
    },
    {
     "name": "stdout",
     "output_type": "stream",
     "text": [
      "Epoch 110, Loss 0.0259\n",
      "Training Accuracy: 0.9695, Testing Accuracy: 0.9708\n",
      "\n"
     ]
    },
    {
     "name": "stdout",
     "output_type": "stream",
     "text": [
      "Epoch 120, Loss 0.025\n",
      "Training Accuracy: 0.9701, Testing Accuracy: 0.9708\n",
      "\n"
     ]
    },
    {
     "name": "stdout",
     "output_type": "stream",
     "text": [
      "Epoch 130, Loss 0.0242\n",
      "Training Accuracy: 0.9710, Testing Accuracy: 0.9723\n",
      "\n"
     ]
    },
    {
     "name": "stdout",
     "output_type": "stream",
     "text": [
      "Epoch 140, Loss 0.0234\n",
      "Training Accuracy: 0.9715, Testing Accuracy: 0.9723\n",
      "\n"
     ]
    },
    {
     "name": "stdout",
     "output_type": "stream",
     "text": [
      "Epoch 150, Loss 0.0227\n",
      "Training Accuracy: 0.9729, Testing Accuracy: 0.9728\n",
      "\n"
     ]
    },
    {
     "name": "stdout",
     "output_type": "stream",
     "text": [
      "Epoch 160, Loss 0.0221\n",
      "Training Accuracy: 0.9738, Testing Accuracy: 0.9718\n",
      "\n"
     ]
    },
    {
     "name": "stdout",
     "output_type": "stream",
     "text": [
      "Epoch 170, Loss 0.0215\n",
      "Training Accuracy: 0.9747, Testing Accuracy: 0.9718\n",
      "\n"
     ]
    },
    {
     "name": "stdout",
     "output_type": "stream",
     "text": [
      "Epoch 180, Loss 0.0209\n",
      "Training Accuracy: 0.9765, Testing Accuracy: 0.9728\n",
      "\n"
     ]
    },
    {
     "name": "stdout",
     "output_type": "stream",
     "text": [
      "Epoch 190, Loss 0.0203\n",
      "Training Accuracy: 0.9770, Testing Accuracy: 0.9733\n",
      "\n"
     ]
    },
    {
     "name": "stdout",
     "output_type": "stream",
     "text": [
      "Epoch 200, Loss 0.0198\n",
      "Training Accuracy: 0.9775, Testing Accuracy: 0.9733\n",
      "\n"
     ]
    },
    {
     "name": "stdout",
     "output_type": "stream",
     "text": [
      "Epoch 210, Loss 0.0193\n",
      "Training Accuracy: 0.9783, Testing Accuracy: 0.9738\n",
      "\n"
     ]
    },
    {
     "name": "stdout",
     "output_type": "stream",
     "text": [
      "Epoch 220, Loss 0.0189\n",
      "Training Accuracy: 0.9787, Testing Accuracy: 0.9738\n",
      "\n"
     ]
    },
    {
     "name": "stdout",
     "output_type": "stream",
     "text": [
      "Epoch 230, Loss 0.0184\n",
      "Training Accuracy: 0.9792, Testing Accuracy: 0.9738\n",
      "\n"
     ]
    },
    {
     "name": "stdout",
     "output_type": "stream",
     "text": [
      "Epoch 240, Loss 0.018\n",
      "Training Accuracy: 0.9800, Testing Accuracy: 0.9743\n",
      "\n"
     ]
    },
    {
     "data": {
      "text/plain": [
       "0.005346248077550591"
      ]
     },
     "execution_count": 22,
     "metadata": {},
     "output_type": "execute_result"
    }
   ],
   "source": [
    "nn_learner.train_loop(dl)"
   ]
  },
  {
   "cell_type": "code",
   "execution_count": 23,
   "id": "e0163366",
   "metadata": {
    "execution": {
     "iopub.execute_input": "2022-02-05T10:07:10.683166Z",
     "iopub.status.busy": "2022-02-05T10:07:10.682616Z",
     "iopub.status.idle": "2022-02-05T10:07:24.171252Z",
     "shell.execute_reply": "2022-02-05T10:07:24.172038Z"
    },
    "papermill": {
     "duration": 13.53516,
     "end_time": "2022-02-05T10:07:24.172197",
     "exception": false,
     "start_time": "2022-02-05T10:07:10.637037",
     "status": "completed"
    },
    "tags": []
   },
   "outputs": [
    {
     "name": "stdout",
     "output_type": "stream",
     "text": [
      "Epoch 0, Loss 0.2268\n",
      "Training Accuracy: 0.7238, Testing Accuracy: 0.7319\n",
      "\n"
     ]
    },
    {
     "name": "stdout",
     "output_type": "stream",
     "text": [
      "Epoch 10, Loss 0.1033\n",
      "Training Accuracy: 0.9069, Testing Accuracy: 0.9234\n",
      "\n"
     ]
    },
    {
     "name": "stdout",
     "output_type": "stream",
     "text": [
      "Epoch 20, Loss 0.0797\n",
      "Training Accuracy: 0.9269, Testing Accuracy: 0.9390\n",
      "\n"
     ]
    },
    {
     "name": "stdout",
     "output_type": "stream",
     "text": [
      "Epoch 30, Loss 0.0686\n",
      "Training Accuracy: 0.9347, Testing Accuracy: 0.9451\n",
      "\n"
     ]
    },
    {
     "name": "stdout",
     "output_type": "stream",
     "text": [
      "Epoch 40, Loss 0.0618\n",
      "Training Accuracy: 0.9392, Testing Accuracy: 0.9526\n",
      "\n"
     ]
    },
    {
     "name": "stdout",
     "output_type": "stream",
     "text": [
      "Epoch 50, Loss 0.0572\n",
      "Training Accuracy: 0.9431, Testing Accuracy: 0.9531\n",
      "\n"
     ]
    },
    {
     "name": "stdout",
     "output_type": "stream",
     "text": [
      "Epoch 60, Loss 0.0538\n",
      "Training Accuracy: 0.9471, Testing Accuracy: 0.9577\n",
      "\n"
     ]
    },
    {
     "name": "stdout",
     "output_type": "stream",
     "text": [
      "Epoch 70, Loss 0.0512\n",
      "Training Accuracy: 0.9493, Testing Accuracy: 0.9592\n",
      "\n"
     ]
    },
    {
     "name": "stdout",
     "output_type": "stream",
     "text": [
      "Epoch 80, Loss 0.0492\n",
      "Training Accuracy: 0.9511, Testing Accuracy: 0.9612\n",
      "\n"
     ]
    },
    {
     "name": "stdout",
     "output_type": "stream",
     "text": [
      "Epoch 90, Loss 0.0475\n",
      "Training Accuracy: 0.9515, Testing Accuracy: 0.9617\n",
      "\n"
     ]
    },
    {
     "name": "stdout",
     "output_type": "stream",
     "text": [
      "Epoch 100, Loss 0.046\n",
      "Training Accuracy: 0.9528, Testing Accuracy: 0.9627\n",
      "\n"
     ]
    },
    {
     "name": "stdout",
     "output_type": "stream",
     "text": [
      "Epoch 110, Loss 0.0448\n",
      "Training Accuracy: 0.9538, Testing Accuracy: 0.9632\n",
      "\n"
     ]
    },
    {
     "name": "stdout",
     "output_type": "stream",
     "text": [
      "Epoch 120, Loss 0.0437\n",
      "Training Accuracy: 0.9549, Testing Accuracy: 0.9642\n",
      "\n"
     ]
    },
    {
     "name": "stdout",
     "output_type": "stream",
     "text": [
      "Epoch 130, Loss 0.0428\n",
      "Training Accuracy: 0.9559, Testing Accuracy: 0.9647\n",
      "\n"
     ]
    },
    {
     "name": "stdout",
     "output_type": "stream",
     "text": [
      "Epoch 140, Loss 0.042\n",
      "Training Accuracy: 0.9559, Testing Accuracy: 0.9647\n",
      "\n"
     ]
    },
    {
     "name": "stdout",
     "output_type": "stream",
     "text": [
      "Epoch 150, Loss 0.0412\n",
      "Training Accuracy: 0.9564, Testing Accuracy: 0.9652\n",
      "\n"
     ]
    },
    {
     "name": "stdout",
     "output_type": "stream",
     "text": [
      "Epoch 160, Loss 0.0405\n",
      "Training Accuracy: 0.9568, Testing Accuracy: 0.9657\n",
      "\n"
     ]
    },
    {
     "name": "stdout",
     "output_type": "stream",
     "text": [
      "Epoch 170, Loss 0.0399\n",
      "Training Accuracy: 0.9577, Testing Accuracy: 0.9667\n",
      "\n"
     ]
    },
    {
     "name": "stdout",
     "output_type": "stream",
     "text": [
      "Epoch 180, Loss 0.0394\n",
      "Training Accuracy: 0.9583, Testing Accuracy: 0.9667\n",
      "\n"
     ]
    },
    {
     "name": "stdout",
     "output_type": "stream",
     "text": [
      "Epoch 190, Loss 0.0388\n",
      "Training Accuracy: 0.9588, Testing Accuracy: 0.9672\n",
      "\n"
     ]
    },
    {
     "name": "stdout",
     "output_type": "stream",
     "text": [
      "Epoch 200, Loss 0.0384\n",
      "Training Accuracy: 0.9594, Testing Accuracy: 0.9677\n",
      "\n"
     ]
    },
    {
     "name": "stdout",
     "output_type": "stream",
     "text": [
      "Epoch 210, Loss 0.0379\n",
      "Training Accuracy: 0.9599, Testing Accuracy: 0.9677\n",
      "\n"
     ]
    },
    {
     "name": "stdout",
     "output_type": "stream",
     "text": [
      "Epoch 220, Loss 0.0375\n",
      "Training Accuracy: 0.9606, Testing Accuracy: 0.9677\n",
      "\n"
     ]
    },
    {
     "name": "stdout",
     "output_type": "stream",
     "text": [
      "Epoch 230, Loss 0.0371\n",
      "Training Accuracy: 0.9609, Testing Accuracy: 0.9682\n",
      "\n"
     ]
    },
    {
     "name": "stdout",
     "output_type": "stream",
     "text": [
      "Epoch 240, Loss 0.0368\n",
      "Training Accuracy: 0.9614, Testing Accuracy: 0.9688\n",
      "\n"
     ]
    },
    {
     "data": {
      "text/plain": [
       "0.01690254279280042"
      ]
     },
     "execution_count": 23,
     "metadata": {},
     "output_type": "execute_result"
    }
   ],
   "source": [
    "lr_learner.train_loop(dl)"
   ]
  },
  {
   "cell_type": "code",
   "execution_count": 24,
   "id": "ca410940",
   "metadata": {
    "execution": {
     "iopub.execute_input": "2022-02-05T10:07:24.267069Z",
     "iopub.status.busy": "2022-02-05T10:07:24.266524Z",
     "iopub.status.idle": "2022-02-05T10:07:24.488554Z",
     "shell.execute_reply": "2022-02-05T10:07:24.488117Z"
    },
    "papermill": {
     "duration": 0.275191,
     "end_time": "2022-02-05T10:07:24.488673",
     "exception": false,
     "start_time": "2022-02-05T10:07:24.213482",
     "status": "completed"
    },
    "tags": []
   },
   "outputs": [
    {
     "data": {
      "text/plain": [
       "<matplotlib.legend.Legend at 0x7fcb7225f400>"
      ]
     },
     "execution_count": 24,
     "metadata": {},
     "output_type": "execute_result"
    },
    {
     "data": {
      "image/png": "[encoded data removed]",
      "text/plain": [
       "<Figure size 1080x720 with 1 Axes>"
      ]
     },
     "metadata": {
      "needs_background": "light"
     },
     "output_type": "display_data"
    }
   ],
   "source": [
    "#comparing the results of NN and LR\n",
    "plt.figure(figsize=(15,10))\n",
    "\n",
    "# Neural Network plots\n",
    "plt.plot(acc_nn.accuracies, 'r-', label = \"Training Accuracies - NN\")\n",
    "plt.plot(acc_nn.test_accuracies, 'g-', label = \"Testing Accuracies - NN\")\n",
    "\n",
    "# Logistic Regression plots\n",
    "plt.plot(acc_lr.accuracies, 'k-', label = \"Training Accuracies - LR\")\n",
    "plt.plot(acc_lr.test_accuracies, 'b-', label = \"Testing Accuracies - LR\")\n",
    "plt.legend()"
   ]
  },
  {
   "cell_type": "markdown",
   "id": "80dfb35c",
   "metadata": {
    "papermill": {
     "duration": 0.04191,
     "end_time": "2022-02-05T10:07:24.573350",
     "exception": false,
     "start_time": "2022-02-05T10:07:24.531440",
     "status": "completed"
    },
    "tags": []
   },
   "source": [
    "#### Plotting the outputs of this layer of the NN.\n"
   ]
  },
  {
   "cell_type": "code",
   "execution_count": 25,
   "id": "45eb2ff5",
   "metadata": {
    "execution": {
     "iopub.execute_input": "2022-02-05T10:07:24.680177Z",
     "iopub.status.busy": "2022-02-05T10:07:24.674638Z",
     "iopub.status.idle": "2022-02-05T10:07:24.686097Z",
     "shell.execute_reply": "2022-02-05T10:07:24.686594Z"
    },
    "papermill": {
     "duration": 0.071278,
     "end_time": "2022-02-05T10:07:24.686733",
     "exception": false,
     "start_time": "2022-02-05T10:07:24.615455",
     "status": "completed"
    },
    "tags": []
   },
   "outputs": [],
   "source": [
    "new_model = Model(layers[:-2])\n",
    "testing_plot = new_model(testing_data_x)"
   ]
  },
  {
   "cell_type": "code",
   "execution_count": 26,
   "id": "4c0a5485",
   "metadata": {
    "execution": {
     "iopub.execute_input": "2022-02-05T10:07:24.778384Z",
     "iopub.status.busy": "2022-02-05T10:07:24.776054Z",
     "iopub.status.idle": "2022-02-05T10:07:24.988295Z",
     "shell.execute_reply": "2022-02-05T10:07:24.987762Z"
    },
    "papermill": {
     "duration": 0.258995,
     "end_time": "2022-02-05T10:07:24.988412",
     "exception": false,
     "start_time": "2022-02-05T10:07:24.729417",
     "status": "completed"
    },
    "tags": []
   },
   "outputs": [
    {
     "data": {
      "text/plain": [
       "Text(0.5, 1.0, 'Outputs')"
      ]
     },
     "execution_count": 26,
     "metadata": {},
     "output_type": "execute_result"
    },
    {
     "data": {
      "image/png": "[encoded data removed]",
      "text/plain": [
       "<Figure size 576x504 with 1 Axes>"
      ]
     },
     "metadata": {
      "needs_background": "light"
     },
     "output_type": "display_data"
    }
   ],
   "source": [
    "# Plotting the scatter plot of points and color coding by class\n",
    "plt.figure(figsize=(8,7))\n",
    "plt.scatter(testing_plot[:,0], testing_plot[:,1], alpha = 0.1, c = y_test.ravel());\n",
    "plt.title('Outputs')"
   ]
  },
  {
   "cell_type": "markdown",
   "id": "a74fcf8f",
   "metadata": {
    "papermill": {
     "duration": 0.044122,
     "end_time": "2022-02-05T10:07:25.076997",
     "exception": false,
     "start_time": "2022-02-05T10:07:25.032875",
     "status": "completed"
    },
    "tags": []
   },
   "source": [
    "Probability contours"
   ]
  },
  {
   "cell_type": "code",
   "execution_count": 27,
   "id": "d0afc8e3",
   "metadata": {
    "execution": {
     "iopub.execute_input": "2022-02-05T10:07:25.177271Z",
     "iopub.status.busy": "2022-02-05T10:07:25.173912Z",
     "iopub.status.idle": "2022-02-05T10:07:25.184722Z",
     "shell.execute_reply": "2022-02-05T10:07:25.184305Z"
    },
    "papermill": {
     "duration": 0.063295,
     "end_time": "2022-02-05T10:07:25.184842",
     "exception": false,
     "start_time": "2022-02-05T10:07:25.121547",
     "status": "completed"
    },
    "tags": []
   },
   "outputs": [],
   "source": [
    "model_prob = Model(layers[-2:]) "
   ]
  },
  {
   "cell_type": "code",
   "execution_count": 28,
   "id": "9b96e238",
   "metadata": {
    "execution": {
     "iopub.execute_input": "2022-02-05T10:07:25.279231Z",
     "iopub.status.busy": "2022-02-05T10:07:25.278699Z",
     "iopub.status.idle": "2022-02-05T10:07:25.290597Z",
     "shell.execute_reply": "2022-02-05T10:07:25.290996Z"
    },
    "papermill": {
     "duration": 0.061966,
     "end_time": "2022-02-05T10:07:25.291139",
     "exception": false,
     "start_time": "2022-02-05T10:07:25.229173",
     "status": "completed"
    },
    "tags": []
   },
   "outputs": [],
   "source": [
    "#creating the x and y ranges according to the above generated plot.\n",
    "x_range = np.linspace(-4, 1, 100) \n",
    "y_range = np.linspace(-6, 6, 100) \n",
    "x_grid, y_grid = np.meshgrid(x_range, y_range) # x_grid and y_grig are of size 100 X 100\n",
    "\n",
    "# converting x_grid and y_grid to continuous arrays\n",
    "x_gridflat = np.ravel(x_grid)\n",
    "y_gridflat = np.ravel(y_grid)\n",
    "\n",
    "# The last layer of the current model takes two columns as input. Hence transpose of np.vstack() is required.\n",
    "X = np.vstack((x_gridflat, y_gridflat)).T\n",
    "\n",
    "prob_contour = model_prob(X).reshape(100,100) "
   ]
  },
  {
   "cell_type": "code",
   "execution_count": 29,
   "id": "da72499a",
   "metadata": {
    "execution": {
     "iopub.execute_input": "2022-02-05T10:07:25.415240Z",
     "iopub.status.busy": "2022-02-05T10:07:25.412981Z",
     "iopub.status.idle": "2022-02-05T10:07:25.659302Z",
     "shell.execute_reply": "2022-02-05T10:07:25.659949Z"
    },
    "papermill": {
     "duration": 0.32381,
     "end_time": "2022-02-05T10:07:25.660096",
     "exception": false,
     "start_time": "2022-02-05T10:07:25.336286",
     "status": "completed"
    },
    "tags": []
   },
   "outputs": [
    {
     "data": {
      "image/png": "[encoded data removed]",
      "text/plain": [
       "<Figure size 720x648 with 1 Axes>"
      ]
     },
     "metadata": {
      "needs_background": "light"
     },
     "output_type": "display_data"
    }
   ],
   "source": [
    "plt.figure(figsize=(10,9))\n",
    "plt.scatter(testing_plot[:,0], testing_plot[:,1], alpha = 0.1, c = y_test.ravel())\n",
    "contours = plt.contour(x_grid,y_grid,prob_contour)\n",
    "plt.title('Probability Contours')\n",
    "plt.clabel(contours, inline = True );"
   ]
  },
  {
   "cell_type": "code",
   "execution_count": null,
   "id": "e81b4ac7",
   "metadata": {
    "papermill": {
     "duration": 0.04672,
     "end_time": "2022-02-05T10:07:25.754295",
     "exception": false,
     "start_time": "2022-02-05T10:07:25.707575",
     "status": "completed"
    },
    "tags": []
   },
   "outputs": [],
   "source": []
  }
 ],
 "metadata": {
  "kernelspec": {
   "display_name": "Python 3",
   "language": "python",
   "name": "python3"
  },
  "language_info": {
   "codemirror_mode": {
    "name": "ipython",
    "version": 3
   },
   "file_extension": ".py",
   "mimetype": "text/x-python",
   "name": "python",
   "nbconvert_exporter": "python",
   "pygments_lexer": "ipython3",
   "version": "3.6.15"
  },
  "papermill": {
   "default_parameters": {},
   "duration": 97.936502,
   "end_time": "2022-02-05T10:07:26.219960",
   "environment_variables": {},
   "exception": null,
   "input_path": "2020-08-11-part2.ipynb",
   "output_path": "2020-08-11-part2.ipynb",
   "parameters": {},
   "start_time": "2022-02-05T10:05:48.283458",
   "version": "2.3.3"
  }
 },
 "nbformat": 4,
 "nbformat_minor": 5
}