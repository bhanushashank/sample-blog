{
 "cells": [
  {
   "cell_type": "markdown",
   "id": "98380cd3",
   "metadata": {
    "papermill": {
     "duration": 0.027802,
     "end_time": "2021-12-21T20:09:17.756303",
     "exception": false,
     "start_time": "2021-12-21T20:09:17.728501",
     "status": "completed"
    },
    "tags": []
   },
   "source": [
    "# Distinguish Your Own Digits (DYOD)"
   ]
  },
  {
   "cell_type": "markdown",
   "id": "ef31240d",
   "metadata": {
    "papermill": {
     "duration": 0.026306,
     "end_time": "2021-12-21T20:09:17.806970",
     "exception": false,
     "start_time": "2021-12-21T20:09:17.780664",
     "status": "completed"
    },
    "tags": []
   },
   "source": [
    "You are going to write a classifier that distinguishes between the number 3 and number 8."
   ]
  },
  {
   "cell_type": "code",
   "execution_count": 1,
   "id": "b15c8646",
   "metadata": {
    "execution": {
     "iopub.execute_input": "2021-12-21T20:09:17.866653Z",
     "iopub.status.busy": "2021-12-21T20:09:17.866091Z",
     "iopub.status.idle": "2021-12-21T20:09:17.876388Z",
     "shell.execute_reply": "2021-12-21T20:09:17.875938Z"
    },
    "papermill": {
     "duration": 0.045799,
     "end_time": "2021-12-21T20:09:17.876514",
     "exception": false,
     "start_time": "2021-12-21T20:09:17.830715",
     "status": "completed"
    },
    "tags": []
   },
   "outputs": [],
   "source": [
    "%load_ext autoreload\n",
    "%autoreload 2"
   ]
  },
  {
   "cell_type": "code",
   "execution_count": 2,
   "id": "22ef38dc",
   "metadata": {
    "execution": {
     "iopub.execute_input": "2021-12-21T20:09:17.939384Z",
     "iopub.status.busy": "2021-12-21T20:09:17.935792Z",
     "iopub.status.idle": "2021-12-21T20:09:18.500230Z",
     "shell.execute_reply": "2021-12-21T20:09:18.500704Z"
    },
    "papermill": {
     "duration": 0.60046,
     "end_time": "2021-12-21T20:09:18.500866",
     "exception": false,
     "start_time": "2021-12-21T20:09:17.900406",
     "status": "completed"
    },
    "tags": []
   },
   "outputs": [],
   "source": [
    "%matplotlib inline\n",
    "import numpy as np\n",
    "import matplotlib.pyplot as plt\n",
    "import pandas as pd"
   ]
  },
  {
   "cell_type": "markdown",
   "id": "ba036198",
   "metadata": {
    "papermill": {
     "duration": 0.023744,
     "end_time": "2021-12-21T20:09:18.549354",
     "exception": false,
     "start_time": "2021-12-21T20:09:18.525610",
     "status": "completed"
    },
    "tags": []
   },
   "source": [
    "From the command line run `pip install mnist`. This is a library that will help you bring down the mnist dataset. If you run this from a notebook, you need to put  `!pip install mnist` in a cell by itself."
   ]
  },
  {
   "cell_type": "code",
   "execution_count": 3,
   "id": "bb6ad8a1",
   "metadata": {
    "execution": {
     "iopub.execute_input": "2021-12-21T20:09:18.601029Z",
     "iopub.status.busy": "2021-12-21T20:09:18.600513Z",
     "iopub.status.idle": "2021-12-21T20:09:21.098819Z",
     "shell.execute_reply": "2021-12-21T20:09:21.098262Z"
    },
    "papermill": {
     "duration": 2.525629,
     "end_time": "2021-12-21T20:09:21.098970",
     "exception": false,
     "start_time": "2021-12-21T20:09:18.573341",
     "status": "completed"
    },
    "tags": []
   },
   "outputs": [
    {
     "name": "stdout",
     "output_type": "stream",
     "text": [
      "Collecting mnist\r\n"
     ]
    },
    {
     "name": "stdout",
     "output_type": "stream",
     "text": [
      "  Downloading mnist-0.2.2-py2.py3-none-any.whl (3.5 kB)\r\n",
      "Requirement already satisfied: numpy in /opt/hostedtoolcache/Python/3.6.15/x64/lib/python3.6/site-packages (from mnist) (1.19.5)\r\n"
     ]
    },
    {
     "name": "stdout",
     "output_type": "stream",
     "text": [
      "Installing collected packages: mnist\r\n",
      "Successfully installed mnist-0.2.2\r\n"
     ]
    }
   ],
   "source": [
    "!pip install mnist"
   ]
  },
  {
   "cell_type": "markdown",
   "id": "69df9c9a",
   "metadata": {
    "papermill": {
     "duration": 0.024757,
     "end_time": "2021-12-21T20:09:21.149143",
     "exception": false,
     "start_time": "2021-12-21T20:09:21.124386",
     "status": "completed"
    },
    "tags": []
   },
   "source": [
    "## Preparing the Data"
   ]
  },
  {
   "cell_type": "code",
   "execution_count": 4,
   "id": "7f69d806",
   "metadata": {
    "execution": {
     "iopub.execute_input": "2021-12-21T20:09:21.216432Z",
     "iopub.status.busy": "2021-12-21T20:09:21.212265Z",
     "iopub.status.idle": "2021-12-21T20:09:21.220344Z",
     "shell.execute_reply": "2021-12-21T20:09:21.219910Z"
    },
    "papermill": {
     "duration": 0.046653,
     "end_time": "2021-12-21T20:09:21.220453",
     "exception": false,
     "start_time": "2021-12-21T20:09:21.173800",
     "status": "completed"
    },
    "tags": []
   },
   "outputs": [],
   "source": [
    "import mnist"
   ]
  },
  {
   "cell_type": "code",
   "execution_count": 5,
   "id": "a411e44f",
   "metadata": {
    "execution": {
     "iopub.execute_input": "2021-12-21T20:09:21.287127Z",
     "iopub.status.busy": "2021-12-21T20:09:21.286324Z",
     "iopub.status.idle": "2021-12-21T20:09:21.796173Z",
     "shell.execute_reply": "2021-12-21T20:09:21.795258Z"
    },
    "papermill": {
     "duration": 0.55117,
     "end_time": "2021-12-21T20:09:21.796315",
     "exception": false,
     "start_time": "2021-12-21T20:09:21.245145",
     "status": "completed"
    },
    "tags": []
   },
   "outputs": [],
   "source": [
    "train_images = mnist.train_images()\n",
    "train_labels = mnist.train_labels()"
   ]
  },
  {
   "cell_type": "code",
   "execution_count": 6,
   "id": "dceab3a5",
   "metadata": {
    "execution": {
     "iopub.execute_input": "2021-12-21T20:09:21.855430Z",
     "iopub.status.busy": "2021-12-21T20:09:21.848602Z",
     "iopub.status.idle": "2021-12-21T20:09:21.862380Z",
     "shell.execute_reply": "2021-12-21T20:09:21.861977Z"
    },
    "papermill": {
     "duration": 0.041374,
     "end_time": "2021-12-21T20:09:21.862491",
     "exception": false,
     "start_time": "2021-12-21T20:09:21.821117",
     "status": "completed"
    },
    "tags": []
   },
   "outputs": [
    {
     "data": {
      "text/plain": [
       "((60000, 28, 28), (60000,))"
      ]
     },
     "execution_count": 6,
     "metadata": {},
     "output_type": "execute_result"
    }
   ],
   "source": [
    "train_images.shape, train_labels.shape"
   ]
  },
  {
   "cell_type": "code",
   "execution_count": 7,
   "id": "f50dc2bb",
   "metadata": {
    "execution": {
     "iopub.execute_input": "2021-12-21T20:09:21.915802Z",
     "iopub.status.busy": "2021-12-21T20:09:21.915297Z",
     "iopub.status.idle": "2021-12-21T20:09:22.080741Z",
     "shell.execute_reply": "2021-12-21T20:09:22.080267Z"
    },
    "papermill": {
     "duration": 0.19369,
     "end_time": "2021-12-21T20:09:22.080875",
     "exception": false,
     "start_time": "2021-12-21T20:09:21.887185",
     "status": "completed"
    },
    "tags": []
   },
   "outputs": [],
   "source": [
    "test_images = mnist.test_images()\n",
    "test_labels = mnist.test_labels()"
   ]
  },
  {
   "cell_type": "code",
   "execution_count": 8,
   "id": "fc38cf1b",
   "metadata": {
    "execution": {
     "iopub.execute_input": "2021-12-21T20:09:22.134803Z",
     "iopub.status.busy": "2021-12-21T20:09:22.134260Z",
     "iopub.status.idle": "2021-12-21T20:09:22.147463Z",
     "shell.execute_reply": "2021-12-21T20:09:22.147039Z"
    },
    "papermill": {
     "duration": 0.041022,
     "end_time": "2021-12-21T20:09:22.147573",
     "exception": false,
     "start_time": "2021-12-21T20:09:22.106551",
     "status": "completed"
    },
    "tags": []
   },
   "outputs": [
    {
     "data": {
      "text/plain": [
       "((10000, 28, 28), (10000,))"
      ]
     },
     "execution_count": 8,
     "metadata": {},
     "output_type": "execute_result"
    }
   ],
   "source": [
    "test_images.shape, test_labels.shape"
   ]
  },
  {
   "cell_type": "code",
   "execution_count": 9,
   "id": "f9ed8fe0",
   "metadata": {
    "execution": {
     "iopub.execute_input": "2021-12-21T20:09:22.201105Z",
     "iopub.status.busy": "2021-12-21T20:09:22.200606Z",
     "iopub.status.idle": "2021-12-21T20:09:22.338896Z",
     "shell.execute_reply": "2021-12-21T20:09:22.338436Z"
    },
    "papermill": {
     "duration": 0.166327,
     "end_time": "2021-12-21T20:09:22.339023",
     "exception": false,
     "start_time": "2021-12-21T20:09:22.172696",
     "status": "completed"
    },
    "tags": []
   },
   "outputs": [
    {
     "name": "stdout",
     "output_type": "stream",
     "text": [
      "2\n"
     ]
    },
    {
     "data": {
      "text/plain": [
       "<matplotlib.image.AxesImage at 0x7fa00cdcf470>"
      ]
     },
     "execution_count": 9,
     "metadata": {},
     "output_type": "execute_result"
    },
    {
     "data": {
      "image/png": "[encoded data removed]",
      "text/plain": [
       "<Figure size 432x288 with 1 Axes>"
      ]
     },
     "metadata": {
      "needs_background": "light"
     },
     "output_type": "display_data"
    }
   ],
   "source": [
    "image_index = 7776 # You may select anything up to 60,000\n",
    "print(train_labels[image_index]) \n",
    "plt.imshow(train_images[image_index], cmap='Greys')"
   ]
  },
  {
   "cell_type": "markdown",
   "id": "a8d2388d",
   "metadata": {
    "papermill": {
     "duration": 0.026311,
     "end_time": "2021-12-21T20:09:22.391883",
     "exception": false,
     "start_time": "2021-12-21T20:09:22.365572",
     "status": "completed"
    },
    "tags": []
   },
   "source": [
    "## Filter data to get 3 and 8 out"
   ]
  },
  {
   "cell_type": "code",
   "execution_count": 10,
   "id": "776f7fc7",
   "metadata": {
    "execution": {
     "iopub.execute_input": "2021-12-21T20:09:22.451765Z",
     "iopub.status.busy": "2021-12-21T20:09:22.447967Z",
     "iopub.status.idle": "2021-12-21T20:09:22.465008Z",
     "shell.execute_reply": "2021-12-21T20:09:22.465466Z"
    },
    "papermill": {
     "duration": 0.047398,
     "end_time": "2021-12-21T20:09:22.465618",
     "exception": false,
     "start_time": "2021-12-21T20:09:22.418220",
     "status": "completed"
    },
    "tags": []
   },
   "outputs": [],
   "source": [
    "train_filter = np.where((train_labels == 3 ) | (train_labels == 8))\n",
    "test_filter = np.where((test_labels == 3) | (test_labels == 8))\n",
    "X_train, y_train = train_images[train_filter], train_labels[train_filter]\n",
    "X_test, y_test = test_images[test_filter], test_labels[test_filter]"
   ]
  },
  {
   "cell_type": "markdown",
   "id": "948f0b7e",
   "metadata": {
    "papermill": {
     "duration": 0.026366,
     "end_time": "2021-12-21T20:09:22.519348",
     "exception": false,
     "start_time": "2021-12-21T20:09:22.492982",
     "status": "completed"
    },
    "tags": []
   },
   "source": [
    "We normalize the pizel values in the 0 to 1 range"
   ]
  },
  {
   "cell_type": "code",
   "execution_count": 11,
   "id": "ee4c2166",
   "metadata": {
    "execution": {
     "iopub.execute_input": "2021-12-21T20:09:22.577344Z",
     "iopub.status.busy": "2021-12-21T20:09:22.576790Z",
     "iopub.status.idle": "2021-12-21T20:09:22.624747Z",
     "shell.execute_reply": "2021-12-21T20:09:22.624127Z"
    },
    "papermill": {
     "duration": 0.079292,
     "end_time": "2021-12-21T20:09:22.624882",
     "exception": false,
     "start_time": "2021-12-21T20:09:22.545590",
     "status": "completed"
    },
    "tags": []
   },
   "outputs": [],
   "source": [
    "X_train = X_train/255.\n",
    "X_test = X_test/255."
   ]
  },
  {
   "cell_type": "markdown",
   "id": "ddcf4fab",
   "metadata": {
    "papermill": {
     "duration": 0.026373,
     "end_time": "2021-12-21T20:09:22.678032",
     "exception": false,
     "start_time": "2021-12-21T20:09:22.651659",
     "status": "completed"
    },
    "tags": []
   },
   "source": [
    "And setup the labels as 1 (when the digit is 3) and 0 (when the digit is 8)"
   ]
  },
  {
   "cell_type": "code",
   "execution_count": 12,
   "id": "7dc908f2",
   "metadata": {
    "execution": {
     "iopub.execute_input": "2021-12-21T20:09:22.734184Z",
     "iopub.status.busy": "2021-12-21T20:09:22.733657Z",
     "iopub.status.idle": "2021-12-21T20:09:22.745711Z",
     "shell.execute_reply": "2021-12-21T20:09:22.745305Z"
    },
    "papermill": {
     "duration": 0.041498,
     "end_time": "2021-12-21T20:09:22.745826",
     "exception": false,
     "start_time": "2021-12-21T20:09:22.704328",
     "status": "completed"
    },
    "tags": []
   },
   "outputs": [],
   "source": [
    "y_train = 1*(y_train==3)\n",
    "y_test = 1*(y_test==3)"
   ]
  },
  {
   "cell_type": "code",
   "execution_count": 13,
   "id": "01e4e969",
   "metadata": {
    "execution": {
     "iopub.execute_input": "2021-12-21T20:09:22.803828Z",
     "iopub.status.busy": "2021-12-21T20:09:22.803328Z",
     "iopub.status.idle": "2021-12-21T20:09:22.815479Z",
     "shell.execute_reply": "2021-12-21T20:09:22.815075Z"
    },
    "papermill": {
     "duration": 0.043514,
     "end_time": "2021-12-21T20:09:22.815590",
     "exception": false,
     "start_time": "2021-12-21T20:09:22.772076",
     "status": "completed"
    },
    "tags": []
   },
   "outputs": [
    {
     "data": {
      "text/plain": [
       "((11982, 28, 28), (1984, 28, 28))"
      ]
     },
     "execution_count": 13,
     "metadata": {},
     "output_type": "execute_result"
    }
   ],
   "source": [
    "X_train.shape, X_test.shape"
   ]
  },
  {
   "cell_type": "markdown",
   "id": "5ccf3f85",
   "metadata": {
    "papermill": {
     "duration": 0.026201,
     "end_time": "2021-12-21T20:09:22.868113",
     "exception": false,
     "start_time": "2021-12-21T20:09:22.841912",
     "status": "completed"
    },
    "tags": []
   },
   "source": [
    "We reshape the data to flatten the image pixels into a set of features or co-variates:"
   ]
  },
  {
   "cell_type": "code",
   "execution_count": 14,
   "id": "5286a4a3",
   "metadata": {
    "execution": {
     "iopub.execute_input": "2021-12-21T20:09:22.924739Z",
     "iopub.status.busy": "2021-12-21T20:09:22.924227Z",
     "iopub.status.idle": "2021-12-21T20:09:22.937955Z",
     "shell.execute_reply": "2021-12-21T20:09:22.937551Z"
    },
    "papermill": {
     "duration": 0.043528,
     "end_time": "2021-12-21T20:09:22.938065",
     "exception": false,
     "start_time": "2021-12-21T20:09:22.894537",
     "status": "completed"
    },
    "tags": []
   },
   "outputs": [
    {
     "data": {
      "text/plain": [
       "((11982, 784), (1984, 784))"
      ]
     },
     "execution_count": 14,
     "metadata": {},
     "output_type": "execute_result"
    }
   ],
   "source": [
    "X_train = X_train.reshape(X_train.shape[0], -1)\n",
    "X_test = X_test.reshape(X_test.shape[0], -1)\n",
    "X_train.shape, X_test.shape"
   ]
  },
  {
   "cell_type": "code",
   "execution_count": 15,
   "id": "73c5f88a",
   "metadata": {
    "execution": {
     "iopub.execute_input": "2021-12-21T20:09:22.997847Z",
     "iopub.status.busy": "2021-12-21T20:09:22.997325Z",
     "iopub.status.idle": "2021-12-21T20:09:23.014622Z",
     "shell.execute_reply": "2021-12-21T20:09:23.014207Z"
    },
    "papermill": {
     "duration": 0.050055,
     "end_time": "2021-12-21T20:09:23.014766",
     "exception": false,
     "start_time": "2021-12-21T20:09:22.964711",
     "status": "completed"
    },
    "tags": []
   },
   "outputs": [],
   "source": [
    "#Impoting functions from 'Kudzu'\n",
    "from kudzu.model import Model\n",
    "from kudzu.train import Learner\n",
    "from kudzu.optim import GD\n",
    "from kudzu.data import Data, Sampler,Dataloader\n",
    "\n",
    "from kudzu.callbacks import AccCallback\n",
    "from kudzu.callbacks import ClfCallback\n",
    "\n",
    "from kudzu.loss import MSE\n",
    "\n",
    "from kudzu.layer import Sigmoid,Relu\n",
    "from kudzu.layer import Affine"
   ]
  },
  {
   "cell_type": "markdown",
   "id": "bc01172a",
   "metadata": {
    "papermill": {
     "duration": 0.026892,
     "end_time": "2021-12-21T20:09:23.068632",
     "exception": false,
     "start_time": "2021-12-21T20:09:23.041740",
     "status": "completed"
    },
    "tags": []
   },
   "source": [
    "### Let us create a `Config` class, to store important parameters. \n",
    "This class essentially plays the role of a dictionary."
   ]
  },
  {
   "cell_type": "code",
   "execution_count": 16,
   "id": "978281aa",
   "metadata": {
    "execution": {
     "iopub.execute_input": "2021-12-21T20:09:23.129720Z",
     "iopub.status.busy": "2021-12-21T20:09:23.129194Z",
     "iopub.status.idle": "2021-12-21T20:09:23.139001Z",
     "shell.execute_reply": "2021-12-21T20:09:23.138564Z"
    },
    "papermill": {
     "duration": 0.043519,
     "end_time": "2021-12-21T20:09:23.139118",
     "exception": false,
     "start_time": "2021-12-21T20:09:23.095599",
     "status": "completed"
    },
    "tags": []
   },
   "outputs": [],
   "source": [
    "class Config:\n",
    "    pass\n",
    "config = Config()\n",
    "config.lr = 0.001\n",
    "config.num_epochs = 250\n",
    "config.bs = 50"
   ]
  },
  {
   "cell_type": "markdown",
   "id": "1385fa59",
   "metadata": {
    "papermill": {
     "duration": 0.026793,
     "end_time": "2021-12-21T20:09:23.192790",
     "exception": false,
     "start_time": "2021-12-21T20:09:23.165997",
     "status": "completed"
    },
    "tags": []
   },
   "source": [
    "### Running Models with the Training data\n",
    "Details about the network layers:\n",
    "- A first affine layer has 784 inputs and does 100 affine transforms. These are followed by a Relu\n",
    "- A second affine layer has 100 inputs from the 100 activations of the past layer, and does 100 affine transforms. These are followed by a Relu\n",
    "- A third affine layer has 100 activations and does 2 affine transformations to create an embedding for visualization. There is no non-linearity here.\n",
    "- A final \"logistic regression\" which has an affine transform from 2 inputs to 1 output, which is squeezed through a sigmoid.\n"
   ]
  },
  {
   "cell_type": "code",
   "execution_count": 17,
   "id": "2b9c66db",
   "metadata": {
    "execution": {
     "iopub.execute_input": "2021-12-21T20:09:23.259973Z",
     "iopub.status.busy": "2021-12-21T20:09:23.259448Z",
     "iopub.status.idle": "2021-12-21T20:09:23.266760Z",
     "shell.execute_reply": "2021-12-21T20:09:23.266333Z"
    },
    "papermill": {
     "duration": 0.047331,
     "end_time": "2021-12-21T20:09:23.266878",
     "exception": false,
     "start_time": "2021-12-21T20:09:23.219547",
     "status": "completed"
    },
    "tags": []
   },
   "outputs": [],
   "source": [
    "data = Data(X_train, y_train.reshape(-1,1))\n",
    "sampler = Sampler(data, config.bs, shuffle=True)\n",
    "\n",
    "dl = Dataloader(data, sampler)\n",
    "\n",
    "opt = GD(config.lr)\n",
    "loss = MSE()"
   ]
  },
  {
   "cell_type": "code",
   "execution_count": 18,
   "id": "b275e4c2",
   "metadata": {
    "execution": {
     "iopub.execute_input": "2021-12-21T20:09:23.335511Z",
     "iopub.status.busy": "2021-12-21T20:09:23.331989Z",
     "iopub.status.idle": "2021-12-21T20:09:23.338737Z",
     "shell.execute_reply": "2021-12-21T20:09:23.339125Z"
    },
    "papermill": {
     "duration": 0.045641,
     "end_time": "2021-12-21T20:09:23.339248",
     "exception": false,
     "start_time": "2021-12-21T20:09:23.293607",
     "status": "completed"
    },
    "tags": []
   },
   "outputs": [],
   "source": [
    "training_data_x = X_train\n",
    "testing_data_x = X_test\n",
    "training_data_y = y_train.reshape(-1,1)\n",
    "testing_data_y = y_test.reshape(-1,1)"
   ]
  },
  {
   "cell_type": "code",
   "execution_count": 19,
   "id": "76951160",
   "metadata": {
    "execution": {
     "iopub.execute_input": "2021-12-21T20:09:23.407166Z",
     "iopub.status.busy": "2021-12-21T20:09:23.395656Z",
     "iopub.status.idle": "2021-12-21T20:09:23.415315Z",
     "shell.execute_reply": "2021-12-21T20:09:23.415696Z"
    },
    "papermill": {
     "duration": 0.050113,
     "end_time": "2021-12-21T20:09:23.415823",
     "exception": false,
     "start_time": "2021-12-21T20:09:23.365710",
     "status": "completed"
    },
    "tags": []
   },
   "outputs": [
    {
     "name": "stdout",
     "output_type": "stream",
     "text": [
      "xavier\n",
      "xavier\n",
      "xavier\n",
      "xavier\n",
      "xavier\n"
     ]
    }
   ],
   "source": [
    "layers = [Affine(\"first\", 784, 100), Relu(\"first\"), Affine(\"second\", 100, 100), Relu(\"second\"), Affine(\"third\", 100, 2), Affine(\"last\", 2, 1), Sigmoid(\"last\")]\n",
    "model_nn = Model(layers)\n",
    "model_lr = Model([Affine(\"logits\", 784, 1), Sigmoid(\"sigmoid\")])"
   ]
  },
  {
   "cell_type": "code",
   "execution_count": 20,
   "id": "6eede77a",
   "metadata": {
    "execution": {
     "iopub.execute_input": "2021-12-21T20:09:23.482132Z",
     "iopub.status.busy": "2021-12-21T20:09:23.472905Z",
     "iopub.status.idle": "2021-12-21T20:09:23.488150Z",
     "shell.execute_reply": "2021-12-21T20:09:23.488549Z"
    },
    "papermill": {
     "duration": 0.045851,
     "end_time": "2021-12-21T20:09:23.488671",
     "exception": false,
     "start_time": "2021-12-21T20:09:23.442820",
     "status": "completed"
    },
    "tags": []
   },
   "outputs": [],
   "source": [
    "nn_learner = Learner(loss, model_nn, opt, config.num_epochs)\n",
    "acc_nn = ClfCallback(nn_learner, config.bs, training_data_x , testing_data_x, training_data_y, testing_data_y)\n",
    "nn_learner.set_callbacks([acc_nn])"
   ]
  },
  {
   "cell_type": "code",
   "execution_count": 21,
   "id": "877b6cc7",
   "metadata": {
    "execution": {
     "iopub.execute_input": "2021-12-21T20:09:23.547346Z",
     "iopub.status.busy": "2021-12-21T20:09:23.546835Z",
     "iopub.status.idle": "2021-12-21T20:09:23.558281Z",
     "shell.execute_reply": "2021-12-21T20:09:23.557861Z"
    },
    "papermill": {
     "duration": 0.042769,
     "end_time": "2021-12-21T20:09:23.558388",
     "exception": false,
     "start_time": "2021-12-21T20:09:23.515619",
     "status": "completed"
    },
    "tags": []
   },
   "outputs": [],
   "source": [
    "lr_learner = Learner(loss, model_lr, opt, config.num_epochs)\n",
    "acc_lr = ClfCallback(lr_learner, config.bs, training_data_x , testing_data_x, training_data_y, testing_data_y)\n",
    "lr_learner.set_callbacks([acc_lr])"
   ]
  },
  {
   "cell_type": "code",
   "execution_count": 22,
   "id": "d9b133c3",
   "metadata": {
    "execution": {
     "iopub.execute_input": "2021-12-21T20:09:23.627882Z",
     "iopub.status.busy": "2021-12-21T20:09:23.624489Z",
     "iopub.status.idle": "2021-12-21T20:10:38.555504Z",
     "shell.execute_reply": "2021-12-21T20:10:38.556245Z"
    },
    "papermill": {
     "duration": 74.971011,
     "end_time": "2021-12-21T20:10:38.556392",
     "exception": false,
     "start_time": "2021-12-21T20:09:23.585381",
     "status": "completed"
    },
    "tags": []
   },
   "outputs": [
    {
     "name": "stdout",
     "output_type": "stream",
     "text": [
      "Epoch 0, Loss 0.2433\n",
      "Training Accuracy: 0.6764, Testing Accuracy: 0.6991\n",
      "\n"
     ]
    },
    {
     "name": "stdout",
     "output_type": "stream",
     "text": [
      "Epoch 10, Loss 0.1254\n",
      "Training Accuracy: 0.9043, Testing Accuracy: 0.9239\n",
      "\n"
     ]
    },
    {
     "name": "stdout",
     "output_type": "stream",
     "text": [
      "Epoch 20, Loss 0.0681\n",
      "Training Accuracy: 0.9312, Testing Accuracy: 0.9441\n",
      "\n"
     ]
    },
    {
     "name": "stdout",
     "output_type": "stream",
     "text": [
      "Epoch 30, Loss 0.0506\n",
      "Training Accuracy: 0.9454, Testing Accuracy: 0.9551\n",
      "\n"
     ]
    },
    {
     "name": "stdout",
     "output_type": "stream",
     "text": [
      "Epoch 40, Loss 0.0426\n",
      "Training Accuracy: 0.9530, Testing Accuracy: 0.9622\n",
      "\n"
     ]
    },
    {
     "name": "stdout",
     "output_type": "stream",
     "text": [
      "Epoch 50, Loss 0.0381\n",
      "Training Accuracy: 0.9573, Testing Accuracy: 0.9657\n",
      "\n"
     ]
    },
    {
     "name": "stdout",
     "output_type": "stream",
     "text": [
      "Epoch 60, Loss 0.0351\n",
      "Training Accuracy: 0.9599, Testing Accuracy: 0.9682\n",
      "\n"
     ]
    },
    {
     "name": "stdout",
     "output_type": "stream",
     "text": [
      "Epoch 70, Loss 0.0329\n",
      "Training Accuracy: 0.9621, Testing Accuracy: 0.9693\n",
      "\n"
     ]
    },
    {
     "name": "stdout",
     "output_type": "stream",
     "text": [
      "Epoch 80, Loss 0.0313\n",
      "Training Accuracy: 0.9637, Testing Accuracy: 0.9693\n",
      "\n"
     ]
    },
    {
     "name": "stdout",
     "output_type": "stream",
     "text": [
      "Epoch 90, Loss 0.0299\n",
      "Training Accuracy: 0.9645, Testing Accuracy: 0.9693\n",
      "\n"
     ]
    },
    {
     "name": "stdout",
     "output_type": "stream",
     "text": [
      "Epoch 100, Loss 0.0288\n",
      "Training Accuracy: 0.9662, Testing Accuracy: 0.9703\n",
      "\n"
     ]
    },
    {
     "name": "stdout",
     "output_type": "stream",
     "text": [
      "Epoch 110, Loss 0.0279\n",
      "Training Accuracy: 0.9673, Testing Accuracy: 0.9723\n",
      "\n"
     ]
    },
    {
     "name": "stdout",
     "output_type": "stream",
     "text": [
      "Epoch 120, Loss 0.027\n",
      "Training Accuracy: 0.9686, Testing Accuracy: 0.9723\n",
      "\n"
     ]
    },
    {
     "name": "stdout",
     "output_type": "stream",
     "text": [
      "Epoch 130, Loss 0.0263\n",
      "Training Accuracy: 0.9694, Testing Accuracy: 0.9708\n",
      "\n"
     ]
    },
    {
     "name": "stdout",
     "output_type": "stream",
     "text": [
      "Epoch 140, Loss 0.0256\n",
      "Training Accuracy: 0.9699, Testing Accuracy: 0.9708\n",
      "\n"
     ]
    },
    {
     "name": "stdout",
     "output_type": "stream",
     "text": [
      "Epoch 150, Loss 0.025\n",
      "Training Accuracy: 0.9705, Testing Accuracy: 0.9718\n",
      "\n"
     ]
    },
    {
     "name": "stdout",
     "output_type": "stream",
     "text": [
      "Epoch 160, Loss 0.0245\n",
      "Training Accuracy: 0.9712, Testing Accuracy: 0.9713\n",
      "\n"
     ]
    },
    {
     "name": "stdout",
     "output_type": "stream",
     "text": [
      "Epoch 170, Loss 0.024\n",
      "Training Accuracy: 0.9717, Testing Accuracy: 0.9713\n",
      "\n"
     ]
    },
    {
     "name": "stdout",
     "output_type": "stream",
     "text": [
      "Epoch 180, Loss 0.0235\n",
      "Training Accuracy: 0.9725, Testing Accuracy: 0.9723\n",
      "\n"
     ]
    },
    {
     "name": "stdout",
     "output_type": "stream",
     "text": [
      "Epoch 190, Loss 0.0231\n",
      "Training Accuracy: 0.9730, Testing Accuracy: 0.9713\n",
      "\n"
     ]
    },
    {
     "name": "stdout",
     "output_type": "stream",
     "text": [
      "Epoch 200, Loss 0.0227\n",
      "Training Accuracy: 0.9735, Testing Accuracy: 0.9713\n",
      "\n"
     ]
    },
    {
     "name": "stdout",
     "output_type": "stream",
     "text": [
      "Epoch 210, Loss 0.0223\n",
      "Training Accuracy: 0.9740, Testing Accuracy: 0.9723\n",
      "\n"
     ]
    },
    {
     "name": "stdout",
     "output_type": "stream",
     "text": [
      "Epoch 220, Loss 0.0219\n",
      "Training Accuracy: 0.9750, Testing Accuracy: 0.9728\n",
      "\n"
     ]
    },
    {
     "name": "stdout",
     "output_type": "stream",
     "text": [
      "Epoch 230, Loss 0.0215\n",
      "Training Accuracy: 0.9753, Testing Accuracy: 0.9728\n",
      "\n"
     ]
    },
    {
     "name": "stdout",
     "output_type": "stream",
     "text": [
      "Epoch 240, Loss 0.0212\n",
      "Training Accuracy: 0.9756, Testing Accuracy: 0.9733\n",
      "\n"
     ]
    },
    {
     "data": {
      "text/plain": [
       "0.0046684833815387825"
      ]
     },
     "execution_count": 22,
     "metadata": {},
     "output_type": "execute_result"
    }
   ],
   "source": [
    "nn_learner.train_loop(dl)"
   ]
  },
  {
   "cell_type": "code",
   "execution_count": 23,
   "id": "e0163366",
   "metadata": {
    "execution": {
     "iopub.execute_input": "2021-12-21T20:10:38.636905Z",
     "iopub.status.busy": "2021-12-21T20:10:38.636360Z",
     "iopub.status.idle": "2021-12-21T20:10:51.898727Z",
     "shell.execute_reply": "2021-12-21T20:10:51.899468Z"
    },
    "papermill": {
     "duration": 13.308842,
     "end_time": "2021-12-21T20:10:51.899616",
     "exception": false,
     "start_time": "2021-12-21T20:10:38.590774",
     "status": "completed"
    },
    "tags": []
   },
   "outputs": [
    {
     "name": "stdout",
     "output_type": "stream",
     "text": [
      "Epoch 0, Loss 0.2477\n",
      "Training Accuracy: 0.6797, Testing Accuracy: 0.6815\n",
      "\n"
     ]
    },
    {
     "name": "stdout",
     "output_type": "stream",
     "text": [
      "Epoch 10, Loss 0.1029\n",
      "Training Accuracy: 0.9144, Testing Accuracy: 0.9234\n",
      "\n"
     ]
    },
    {
     "name": "stdout",
     "output_type": "stream",
     "text": [
      "Epoch 20, Loss 0.0788\n",
      "Training Accuracy: 0.9305, Testing Accuracy: 0.9415\n",
      "\n"
     ]
    },
    {
     "name": "stdout",
     "output_type": "stream",
     "text": [
      "Epoch 30, Loss 0.0677\n",
      "Training Accuracy: 0.9383, Testing Accuracy: 0.9506\n",
      "\n"
     ]
    },
    {
     "name": "stdout",
     "output_type": "stream",
     "text": [
      "Epoch 40, Loss 0.061\n",
      "Training Accuracy: 0.9417, Testing Accuracy: 0.9556\n",
      "\n"
     ]
    },
    {
     "name": "stdout",
     "output_type": "stream",
     "text": [
      "Epoch 50, Loss 0.0565\n",
      "Training Accuracy: 0.9456, Testing Accuracy: 0.9561\n",
      "\n"
     ]
    },
    {
     "name": "stdout",
     "output_type": "stream",
     "text": [
      "Epoch 60, Loss 0.0532\n",
      "Training Accuracy: 0.9486, Testing Accuracy: 0.9572\n",
      "\n"
     ]
    },
    {
     "name": "stdout",
     "output_type": "stream",
     "text": [
      "Epoch 70, Loss 0.0506\n",
      "Training Accuracy: 0.9499, Testing Accuracy: 0.9602\n",
      "\n"
     ]
    },
    {
     "name": "stdout",
     "output_type": "stream",
     "text": [
      "Epoch 80, Loss 0.0486\n",
      "Training Accuracy: 0.9516, Testing Accuracy: 0.9617\n",
      "\n"
     ]
    },
    {
     "name": "stdout",
     "output_type": "stream",
     "text": [
      "Epoch 90, Loss 0.0469\n",
      "Training Accuracy: 0.9528, Testing Accuracy: 0.9622\n",
      "\n"
     ]
    },
    {
     "name": "stdout",
     "output_type": "stream",
     "text": [
      "Epoch 100, Loss 0.0455\n",
      "Training Accuracy: 0.9540, Testing Accuracy: 0.9627\n",
      "\n"
     ]
    },
    {
     "name": "stdout",
     "output_type": "stream",
     "text": [
      "Epoch 110, Loss 0.0443\n",
      "Training Accuracy: 0.9548, Testing Accuracy: 0.9632\n",
      "\n"
     ]
    },
    {
     "name": "stdout",
     "output_type": "stream",
     "text": [
      "Epoch 120, Loss 0.0432\n",
      "Training Accuracy: 0.9560, Testing Accuracy: 0.9627\n",
      "\n"
     ]
    },
    {
     "name": "stdout",
     "output_type": "stream",
     "text": [
      "Epoch 130, Loss 0.0423\n",
      "Training Accuracy: 0.9568, Testing Accuracy: 0.9647\n",
      "\n"
     ]
    },
    {
     "name": "stdout",
     "output_type": "stream",
     "text": [
      "Epoch 140, Loss 0.0415\n",
      "Training Accuracy: 0.9574, Testing Accuracy: 0.9662\n",
      "\n"
     ]
    },
    {
     "name": "stdout",
     "output_type": "stream",
     "text": [
      "Epoch 150, Loss 0.0407\n",
      "Training Accuracy: 0.9580, Testing Accuracy: 0.9657\n",
      "\n"
     ]
    },
    {
     "name": "stdout",
     "output_type": "stream",
     "text": [
      "Epoch 160, Loss 0.0401\n",
      "Training Accuracy: 0.9587, Testing Accuracy: 0.9657\n",
      "\n"
     ]
    },
    {
     "name": "stdout",
     "output_type": "stream",
     "text": [
      "Epoch 170, Loss 0.0395\n",
      "Training Accuracy: 0.9591, Testing Accuracy: 0.9662\n",
      "\n"
     ]
    },
    {
     "name": "stdout",
     "output_type": "stream",
     "text": [
      "Epoch 180, Loss 0.0389\n",
      "Training Accuracy: 0.9594, Testing Accuracy: 0.9672\n",
      "\n"
     ]
    },
    {
     "name": "stdout",
     "output_type": "stream",
     "text": [
      "Epoch 190, Loss 0.0384\n",
      "Training Accuracy: 0.9596, Testing Accuracy: 0.9672\n",
      "\n"
     ]
    },
    {
     "name": "stdout",
     "output_type": "stream",
     "text": [
      "Epoch 200, Loss 0.0379\n",
      "Training Accuracy: 0.9600, Testing Accuracy: 0.9677\n",
      "\n"
     ]
    },
    {
     "name": "stdout",
     "output_type": "stream",
     "text": [
      "Epoch 210, Loss 0.0375\n",
      "Training Accuracy: 0.9601, Testing Accuracy: 0.9682\n",
      "\n"
     ]
    },
    {
     "name": "stdout",
     "output_type": "stream",
     "text": [
      "Epoch 220, Loss 0.0371\n",
      "Training Accuracy: 0.9604, Testing Accuracy: 0.9682\n",
      "\n"
     ]
    },
    {
     "name": "stdout",
     "output_type": "stream",
     "text": [
      "Epoch 230, Loss 0.0367\n",
      "Training Accuracy: 0.9607, Testing Accuracy: 0.9682\n",
      "\n"
     ]
    },
    {
     "name": "stdout",
     "output_type": "stream",
     "text": [
      "Epoch 240, Loss 0.0364\n",
      "Training Accuracy: 0.9611, Testing Accuracy: 0.9688\n",
      "\n"
     ]
    },
    {
     "data": {
      "text/plain": [
       "0.050998005870210604"
      ]
     },
     "execution_count": 23,
     "metadata": {},
     "output_type": "execute_result"
    }
   ],
   "source": [
    "lr_learner.train_loop(dl)"
   ]
  },
  {
   "cell_type": "code",
   "execution_count": 24,
   "id": "ca410940",
   "metadata": {
    "execution": {
     "iopub.execute_input": "2021-12-21T20:10:51.995976Z",
     "iopub.status.busy": "2021-12-21T20:10:51.995444Z",
     "iopub.status.idle": "2021-12-21T20:10:52.213558Z",
     "shell.execute_reply": "2021-12-21T20:10:52.213107Z"
    },
    "papermill": {
     "duration": 0.273004,
     "end_time": "2021-12-21T20:10:52.213678",
     "exception": false,
     "start_time": "2021-12-21T20:10:51.940674",
     "status": "completed"
    },
    "tags": []
   },
   "outputs": [
    {
     "data": {
      "text/plain": [
       "<matplotlib.legend.Legend at 0x7fa00c9aabe0>"
      ]
     },
     "execution_count": 24,
     "metadata": {},
     "output_type": "execute_result"
    },
    {
     "data": {
      "image/png": "[encoded data removed]",
      "text/plain": [
       "<Figure size 1080x720 with 1 Axes>"
      ]
     },
     "metadata": {
      "needs_background": "light"
     },
     "output_type": "display_data"
    }
   ],
   "source": [
    "#comparing the results of NN and LR\n",
    "plt.figure(figsize=(15,10))\n",
    "\n",
    "# Neural Network plots\n",
    "plt.plot(acc_nn.accuracies, 'r-', label = \"Training Accuracies - NN\")\n",
    "plt.plot(acc_nn.test_accuracies, 'g-', label = \"Testing Accuracies - NN\")\n",
    "\n",
    "# Logistic Regression plots\n",
    "plt.plot(acc_lr.accuracies, 'k-', label = \"Training Accuracies - LR\")\n",
    "plt.plot(acc_lr.test_accuracies, 'b-', label = \"Testing Accuracies - LR\")\n",
    "plt.legend()"
   ]
  },
  {
   "cell_type": "markdown",
   "id": "80dfb35c",
   "metadata": {
    "papermill": {
     "duration": 0.041699,
     "end_time": "2021-12-21T20:10:52.297953",
     "exception": false,
     "start_time": "2021-12-21T20:10:52.256254",
     "status": "completed"
    },
    "tags": []
   },
   "source": [
    "#### Plotting the outputs of this layer of the NN.\n"
   ]
  },
  {
   "cell_type": "code",
   "execution_count": 25,
   "id": "45eb2ff5",
   "metadata": {
    "execution": {
     "iopub.execute_input": "2021-12-21T20:10:52.391374Z",
     "iopub.status.busy": "2021-12-21T20:10:52.389774Z",
     "iopub.status.idle": "2021-12-21T20:10:52.406057Z",
     "shell.execute_reply": "2021-12-21T20:10:52.406485Z"
    },
    "papermill": {
     "duration": 0.066931,
     "end_time": "2021-12-21T20:10:52.406619",
     "exception": false,
     "start_time": "2021-12-21T20:10:52.339688",
     "status": "completed"
    },
    "tags": []
   },
   "outputs": [],
   "source": [
    "new_model = Model(layers[:-2])\n",
    "testing_plot = new_model(testing_data_x)"
   ]
  },
  {
   "cell_type": "code",
   "execution_count": 26,
   "id": "4c0a5485",
   "metadata": {
    "execution": {
     "iopub.execute_input": "2021-12-21T20:10:52.497931Z",
     "iopub.status.busy": "2021-12-21T20:10:52.495953Z",
     "iopub.status.idle": "2021-12-21T20:10:52.693455Z",
     "shell.execute_reply": "2021-12-21T20:10:52.693029Z"
    },
    "papermill": {
     "duration": 0.244408,
     "end_time": "2021-12-21T20:10:52.693577",
     "exception": false,
     "start_time": "2021-12-21T20:10:52.449169",
     "status": "completed"
    },
    "tags": []
   },
   "outputs": [
    {
     "data": {
      "text/plain": [
       "Text(0.5, 1.0, 'Outputs')"
      ]
     },
     "execution_count": 26,
     "metadata": {},
     "output_type": "execute_result"
    },
    {
     "data": {
      "image/png": "[encoded data removed]",
      "text/plain": [
       "<Figure size 576x504 with 1 Axes>"
      ]
     },
     "metadata": {
      "needs_background": "light"
     },
     "output_type": "display_data"
    }
   ],
   "source": [
    "# Plotting the scatter plot of points and color coding by class\n",
    "plt.figure(figsize=(8,7))\n",
    "plt.scatter(testing_plot[:,0], testing_plot[:,1], alpha = 0.1, c = y_test.ravel());\n",
    "plt.title('Outputs')"
   ]
  },
  {
   "cell_type": "markdown",
   "id": "a74fcf8f",
   "metadata": {
    "papermill": {
     "duration": 0.043875,
     "end_time": "2021-12-21T20:10:52.781716",
     "exception": false,
     "start_time": "2021-12-21T20:10:52.737841",
     "status": "completed"
    },
    "tags": []
   },
   "source": [
    "Probability contours"
   ]
  },
  {
   "cell_type": "code",
   "execution_count": 27,
   "id": "d0afc8e3",
   "metadata": {
    "execution": {
     "iopub.execute_input": "2021-12-21T20:10:52.876305Z",
     "iopub.status.busy": "2021-12-21T20:10:52.875717Z",
     "iopub.status.idle": "2021-12-21T20:10:52.887170Z",
     "shell.execute_reply": "2021-12-21T20:10:52.887576Z"
    },
    "papermill": {
     "duration": 0.062046,
     "end_time": "2021-12-21T20:10:52.887706",
     "exception": false,
     "start_time": "2021-12-21T20:10:52.825660",
     "status": "completed"
    },
    "tags": []
   },
   "outputs": [],
   "source": [
    "model_prob = Model(layers[-2:]) "
   ]
  },
  {
   "cell_type": "code",
   "execution_count": 28,
   "id": "9b96e238",
   "metadata": {
    "execution": {
     "iopub.execute_input": "2021-12-21T20:10:52.988521Z",
     "iopub.status.busy": "2021-12-21T20:10:52.981743Z",
     "iopub.status.idle": "2021-12-21T20:10:52.997671Z",
     "shell.execute_reply": "2021-12-21T20:10:52.997269Z"
    },
    "papermill": {
     "duration": 0.065818,
     "end_time": "2021-12-21T20:10:52.997785",
     "exception": false,
     "start_time": "2021-12-21T20:10:52.931967",
     "status": "completed"
    },
    "tags": []
   },
   "outputs": [],
   "source": [
    "#creating the x and y ranges according to the above generated plot.\n",
    "x_range = np.linspace(-4, 1, 100) \n",
    "y_range = np.linspace(-6, 6, 100) \n",
    "x_grid, y_grid = np.meshgrid(x_range, y_range) # x_grid and y_grig are of size 100 X 100\n",
    "\n",
    "# converting x_grid and y_grid to continuous arrays\n",
    "x_gridflat = np.ravel(x_grid)\n",
    "y_gridflat = np.ravel(y_grid)\n",
    "\n",
    "# The last layer of the current model takes two columns as input. Hence transpose of np.vstack() is required.\n",
    "X = np.vstack((x_gridflat, y_gridflat)).T\n",
    "\n",
    "prob_contour = model_prob(X).reshape(100,100) "
   ]
  },
  {
   "cell_type": "code",
   "execution_count": 29,
   "id": "da72499a",
   "metadata": {
    "execution": {
     "iopub.execute_input": "2021-12-21T20:10:53.096087Z",
     "iopub.status.busy": "2021-12-21T20:10:53.095561Z",
     "iopub.status.idle": "2021-12-21T20:10:53.331472Z",
     "shell.execute_reply": "2021-12-21T20:10:53.331923Z"
    },
    "papermill": {
     "duration": 0.289959,
     "end_time": "2021-12-21T20:10:53.332078",
     "exception": false,
     "start_time": "2021-12-21T20:10:53.042119",
     "status": "completed"
    },
    "tags": []
   },
   "outputs": [
    {
     "data": {
      "image/png": "[encoded data removed]",
      "text/plain": [
       "<Figure size 720x648 with 1 Axes>"
      ]
     },
     "metadata": {
      "needs_background": "light"
     },
     "output_type": "display_data"
    }
   ],
   "source": [
    "plt.figure(figsize=(10,9))\n",
    "plt.scatter(testing_plot[:,0], testing_plot[:,1], alpha = 0.1, c = y_test.ravel())\n",
    "contours = plt.contour(x_grid,y_grid,prob_contour)\n",
    "plt.title('Probability Contours')\n",
    "plt.clabel(contours, inline = True );"
   ]
  },
  {
   "cell_type": "code",
   "execution_count": null,
   "id": "e81b4ac7",
   "metadata": {
    "papermill": {
     "duration": 0.046521,
     "end_time": "2021-12-21T20:10:53.452058",
     "exception": false,
     "start_time": "2021-12-21T20:10:53.405537",
     "status": "completed"
    },
    "tags": []
   },
   "outputs": [],
   "source": []
  }
 ],
 "metadata": {
  "kernelspec": {
   "display_name": "Python 3",
   "language": "python",
   "name": "python3"
  },
  "language_info": {
   "codemirror_mode": {
    "name": "ipython",
    "version": 3
   },
   "file_extension": ".py",
   "mimetype": "text/x-python",
   "name": "python",
   "nbconvert_exporter": "python",
   "pygments_lexer": "ipython3",
   "version": "3.6.15"
  },
  "papermill": {
   "default_parameters": {},
   "duration": 97.09899,
   "end_time": "2021-12-21T20:10:53.906187",
   "environment_variables": {},
   "exception": null,
   "input_path": "2020-08-11-part2.ipynb",
   "output_path": "2020-08-11-part2.ipynb",
   "parameters": {},
   "start_time": "2021-12-21T20:09:16.807197",
   "version": "2.3.3"
  }
 },
 "nbformat": 4,
 "nbformat_minor": 5
}