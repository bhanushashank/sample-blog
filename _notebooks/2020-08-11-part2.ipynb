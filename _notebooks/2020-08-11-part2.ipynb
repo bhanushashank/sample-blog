{
 "cells": [
  {
   "cell_type": "markdown",
   "id": "98380cd3",
   "metadata": {
    "papermill": {
     "duration": 0.03001,
     "end_time": "2022-10-22T10:11:13.012848",
     "exception": false,
     "start_time": "2022-10-22T10:11:12.982838",
     "status": "completed"
    },
    "tags": []
   },
   "source": [
    "# Distinguish Your Own Digits (DYOD)"
   ]
  },
  {
   "cell_type": "markdown",
   "id": "ef31240d",
   "metadata": {
    "papermill": {
     "duration": 0.024105,
     "end_time": "2022-10-22T10:11:13.062224",
     "exception": false,
     "start_time": "2022-10-22T10:11:13.038119",
     "status": "completed"
    },
    "tags": []
   },
   "source": [
    "You are going to write a classifier that distinguishes between the number 3 and number 8."
   ]
  },
  {
   "cell_type": "code",
   "execution_count": 1,
   "id": "b15c8646",
   "metadata": {
    "execution": {
     "iopub.execute_input": "2022-10-22T10:11:13.121970Z",
     "iopub.status.busy": "2022-10-22T10:11:13.121316Z",
     "iopub.status.idle": "2022-10-22T10:11:13.133199Z",
     "shell.execute_reply": "2022-10-22T10:11:13.132691Z"
    },
    "papermill": {
     "duration": 0.047052,
     "end_time": "2022-10-22T10:11:13.133349",
     "exception": false,
     "start_time": "2022-10-22T10:11:13.086297",
     "status": "completed"
    },
    "tags": []
   },
   "outputs": [],
   "source": [
    "%load_ext autoreload\n",
    "%autoreload 2"
   ]
  },
  {
   "cell_type": "code",
   "execution_count": 2,
   "id": "22ef38dc",
   "metadata": {
    "execution": {
     "iopub.execute_input": "2022-10-22T10:11:13.205370Z",
     "iopub.status.busy": "2022-10-22T10:11:13.196402Z",
     "iopub.status.idle": "2022-10-22T10:11:13.793303Z",
     "shell.execute_reply": "2022-10-22T10:11:13.792729Z"
    },
    "papermill": {
     "duration": 0.63579,
     "end_time": "2022-10-22T10:11:13.793445",
     "exception": false,
     "start_time": "2022-10-22T10:11:13.157655",
     "status": "completed"
    },
    "tags": []
   },
   "outputs": [],
   "source": [
    "%matplotlib inline\n",
    "import numpy as np\n",
    "import matplotlib.pyplot as plt\n",
    "import pandas as pd"
   ]
  },
  {
   "cell_type": "markdown",
   "id": "ba036198",
   "metadata": {
    "papermill": {
     "duration": 0.024106,
     "end_time": "2022-10-22T10:11:13.842228",
     "exception": false,
     "start_time": "2022-10-22T10:11:13.818122",
     "status": "completed"
    },
    "tags": []
   },
   "source": [
    "From the command line run `pip install mnist`. This is a library that will help you bring down the mnist dataset. If you run this from a notebook, you need to put  `!pip install mnist` in a cell by itself."
   ]
  },
  {
   "cell_type": "code",
   "execution_count": 3,
   "id": "bb6ad8a1",
   "metadata": {
    "execution": {
     "iopub.execute_input": "2022-10-22T10:11:13.895840Z",
     "iopub.status.busy": "2022-10-22T10:11:13.895220Z",
     "iopub.status.idle": "2022-10-22T10:11:15.562992Z",
     "shell.execute_reply": "2022-10-22T10:11:15.562429Z"
    },
    "papermill": {
     "duration": 1.696716,
     "end_time": "2022-10-22T10:11:15.563118",
     "exception": false,
     "start_time": "2022-10-22T10:11:13.866402",
     "status": "completed"
    },
    "tags": []
   },
   "outputs": [
    {
     "name": "stdout",
     "output_type": "stream",
     "text": [
      "Collecting mnist\r\n"
     ]
    },
    {
     "name": "stdout",
     "output_type": "stream",
     "text": [
      "  Downloading mnist-0.2.2-py2.py3-none-any.whl (3.5 kB)\r\n",
      "Requirement already satisfied: numpy in /opt/hostedtoolcache/Python/3.6.15/x64/lib/python3.6/site-packages (from mnist) (1.19.5)\r\n"
     ]
    },
    {
     "name": "stdout",
     "output_type": "stream",
     "text": [
      "Installing collected packages: mnist\r\n"
     ]
    },
    {
     "name": "stdout",
     "output_type": "stream",
     "text": [
      "Successfully installed mnist-0.2.2\r\n"
     ]
    }
   ],
   "source": [
    "!pip install mnist"
   ]
  },
  {
   "cell_type": "markdown",
   "id": "69df9c9a",
   "metadata": {
    "papermill": {
     "duration": 0.025615,
     "end_time": "2022-10-22T10:11:15.614487",
     "exception": false,
     "start_time": "2022-10-22T10:11:15.588872",
     "status": "completed"
    },
    "tags": []
   },
   "source": [
    "## Preparing the Data"
   ]
  },
  {
   "cell_type": "code",
   "execution_count": 4,
   "id": "7f69d806",
   "metadata": {
    "execution": {
     "iopub.execute_input": "2022-10-22T10:11:15.677960Z",
     "iopub.status.busy": "2022-10-22T10:11:15.673137Z",
     "iopub.status.idle": "2022-10-22T10:11:15.686200Z",
     "shell.execute_reply": "2022-10-22T10:11:15.685719Z"
    },
    "papermill": {
     "duration": 0.046722,
     "end_time": "2022-10-22T10:11:15.686335",
     "exception": false,
     "start_time": "2022-10-22T10:11:15.639613",
     "status": "completed"
    },
    "tags": []
   },
   "outputs": [],
   "source": [
    "import mnist"
   ]
  },
  {
   "cell_type": "code",
   "execution_count": 5,
   "id": "a411e44f",
   "metadata": {
    "execution": {
     "iopub.execute_input": "2022-10-22T10:11:15.742215Z",
     "iopub.status.busy": "2022-10-22T10:11:15.741618Z",
     "iopub.status.idle": "2022-10-22T10:11:16.292310Z",
     "shell.execute_reply": "2022-10-22T10:11:16.291728Z"
    },
    "papermill": {
     "duration": 0.580722,
     "end_time": "2022-10-22T10:11:16.292449",
     "exception": false,
     "start_time": "2022-10-22T10:11:15.711727",
     "status": "completed"
    },
    "tags": []
   },
   "outputs": [],
   "source": [
    "train_images = mnist.train_images()\n",
    "train_labels = mnist.train_labels()"
   ]
  },
  {
   "cell_type": "code",
   "execution_count": 6,
   "id": "dceab3a5",
   "metadata": {
    "execution": {
     "iopub.execute_input": "2022-10-22T10:11:16.354846Z",
     "iopub.status.busy": "2022-10-22T10:11:16.353179Z",
     "iopub.status.idle": "2022-10-22T10:11:16.366711Z",
     "shell.execute_reply": "2022-10-22T10:11:16.366216Z"
    },
    "papermill": {
     "duration": 0.048443,
     "end_time": "2022-10-22T10:11:16.366826",
     "exception": false,
     "start_time": "2022-10-22T10:11:16.318383",
     "status": "completed"
    },
    "tags": []
   },
   "outputs": [
    {
     "data": {
      "text/plain": [
       "((60000, 28, 28), (60000,))"
      ]
     },
     "execution_count": 6,
     "metadata": {},
     "output_type": "execute_result"
    }
   ],
   "source": [
    "train_images.shape, train_labels.shape"
   ]
  },
  {
   "cell_type": "code",
   "execution_count": 7,
   "id": "f50dc2bb",
   "metadata": {
    "execution": {
     "iopub.execute_input": "2022-10-22T10:11:16.422693Z",
     "iopub.status.busy": "2022-10-22T10:11:16.422087Z",
     "iopub.status.idle": "2022-10-22T10:11:16.598776Z",
     "shell.execute_reply": "2022-10-22T10:11:16.598178Z"
    },
    "papermill": {
     "duration": 0.206355,
     "end_time": "2022-10-22T10:11:16.598928",
     "exception": false,
     "start_time": "2022-10-22T10:11:16.392573",
     "status": "completed"
    },
    "tags": []
   },
   "outputs": [],
   "source": [
    "test_images = mnist.test_images()\n",
    "test_labels = mnist.test_labels()"
   ]
  },
  {
   "cell_type": "code",
   "execution_count": 8,
   "id": "fc38cf1b",
   "metadata": {
    "execution": {
     "iopub.execute_input": "2022-10-22T10:11:16.661812Z",
     "iopub.status.busy": "2022-10-22T10:11:16.659042Z",
     "iopub.status.idle": "2022-10-22T10:11:16.672434Z",
     "shell.execute_reply": "2022-10-22T10:11:16.671900Z"
    },
    "papermill": {
     "duration": 0.046635,
     "end_time": "2022-10-22T10:11:16.672562",
     "exception": false,
     "start_time": "2022-10-22T10:11:16.625927",
     "status": "completed"
    },
    "tags": []
   },
   "outputs": [
    {
     "data": {
      "text/plain": [
       "((10000, 28, 28), (10000,))"
      ]
     },
     "execution_count": 8,
     "metadata": {},
     "output_type": "execute_result"
    }
   ],
   "source": [
    "test_images.shape, test_labels.shape"
   ]
  },
  {
   "cell_type": "code",
   "execution_count": 9,
   "id": "f9ed8fe0",
   "metadata": {
    "execution": {
     "iopub.execute_input": "2022-10-22T10:11:16.728913Z",
     "iopub.status.busy": "2022-10-22T10:11:16.728299Z",
     "iopub.status.idle": "2022-10-22T10:11:16.875188Z",
     "shell.execute_reply": "2022-10-22T10:11:16.874683Z"
    },
    "papermill": {
     "duration": 0.176695,
     "end_time": "2022-10-22T10:11:16.875317",
     "exception": false,
     "start_time": "2022-10-22T10:11:16.698622",
     "status": "completed"
    },
    "tags": []
   },
   "outputs": [
    {
     "name": "stdout",
     "output_type": "stream",
     "text": [
      "2\n"
     ]
    },
    {
     "data": {
      "text/plain": [
       "<matplotlib.image.AxesImage at 0x7f9617653c88>"
      ]
     },
     "execution_count": 9,
     "metadata": {},
     "output_type": "execute_result"
    },
    {
     "data": {
      "image/png": "[encoded data removed]",
      "text/plain": [
       "<Figure size 432x288 with 1 Axes>"
      ]
     },
     "metadata": {
      "needs_background": "light"
     },
     "output_type": "display_data"
    }
   ],
   "source": [
    "image_index = 7776 # You may select anything up to 60,000\n",
    "print(train_labels[image_index]) \n",
    "plt.imshow(train_images[image_index], cmap='Greys')"
   ]
  },
  {
   "cell_type": "markdown",
   "id": "a8d2388d",
   "metadata": {
    "papermill": {
     "duration": 0.026802,
     "end_time": "2022-10-22T10:11:16.929265",
     "exception": false,
     "start_time": "2022-10-22T10:11:16.902463",
     "status": "completed"
    },
    "tags": []
   },
   "source": [
    "## Filter data to get 3 and 8 out"
   ]
  },
  {
   "cell_type": "code",
   "execution_count": 10,
   "id": "776f7fc7",
   "metadata": {
    "execution": {
     "iopub.execute_input": "2022-10-22T10:11:16.990315Z",
     "iopub.status.busy": "2022-10-22T10:11:16.989583Z",
     "iopub.status.idle": "2022-10-22T10:11:17.010430Z",
     "shell.execute_reply": "2022-10-22T10:11:17.009816Z"
    },
    "papermill": {
     "duration": 0.052608,
     "end_time": "2022-10-22T10:11:17.010569",
     "exception": false,
     "start_time": "2022-10-22T10:11:16.957961",
     "status": "completed"
    },
    "tags": []
   },
   "outputs": [],
   "source": [
    "train_filter = np.where((train_labels == 3 ) | (train_labels == 8))\n",
    "test_filter = np.where((test_labels == 3) | (test_labels == 8))\n",
    "X_train, y_train = train_images[train_filter], train_labels[train_filter]\n",
    "X_test, y_test = test_images[test_filter], test_labels[test_filter]"
   ]
  },
  {
   "cell_type": "markdown",
   "id": "948f0b7e",
   "metadata": {
    "papermill": {
     "duration": 0.026967,
     "end_time": "2022-10-22T10:11:17.065651",
     "exception": false,
     "start_time": "2022-10-22T10:11:17.038684",
     "status": "completed"
    },
    "tags": []
   },
   "source": [
    "We normalize the pizel values in the 0 to 1 range"
   ]
  },
  {
   "cell_type": "code",
   "execution_count": 11,
   "id": "ee4c2166",
   "metadata": {
    "execution": {
     "iopub.execute_input": "2022-10-22T10:11:17.124767Z",
     "iopub.status.busy": "2022-10-22T10:11:17.124131Z",
     "iopub.status.idle": "2022-10-22T10:11:17.173195Z",
     "shell.execute_reply": "2022-10-22T10:11:17.172611Z"
    },
    "papermill": {
     "duration": 0.080948,
     "end_time": "2022-10-22T10:11:17.173330",
     "exception": false,
     "start_time": "2022-10-22T10:11:17.092382",
     "status": "completed"
    },
    "tags": []
   },
   "outputs": [],
   "source": [
    "X_train = X_train/255.\n",
    "X_test = X_test/255."
   ]
  },
  {
   "cell_type": "markdown",
   "id": "ddcf4fab",
   "metadata": {
    "papermill": {
     "duration": 0.02677,
     "end_time": "2022-10-22T10:11:17.227177",
     "exception": false,
     "start_time": "2022-10-22T10:11:17.200407",
     "status": "completed"
    },
    "tags": []
   },
   "source": [
    "And setup the labels as 1 (when the digit is 3) and 0 (when the digit is 8)"
   ]
  },
  {
   "cell_type": "code",
   "execution_count": 12,
   "id": "7dc908f2",
   "metadata": {
    "execution": {
     "iopub.execute_input": "2022-10-22T10:11:17.288554Z",
     "iopub.status.busy": "2022-10-22T10:11:17.287895Z",
     "iopub.status.idle": "2022-10-22T10:11:17.299591Z",
     "shell.execute_reply": "2022-10-22T10:11:17.299081Z"
    },
    "papermill": {
     "duration": 0.045824,
     "end_time": "2022-10-22T10:11:17.299717",
     "exception": false,
     "start_time": "2022-10-22T10:11:17.253893",
     "status": "completed"
    },
    "tags": []
   },
   "outputs": [],
   "source": [
    "y_train = 1*(y_train==3)\n",
    "y_test = 1*(y_test==3)"
   ]
  },
  {
   "cell_type": "code",
   "execution_count": 13,
   "id": "01e4e969",
   "metadata": {
    "execution": {
     "iopub.execute_input": "2022-10-22T10:11:17.362633Z",
     "iopub.status.busy": "2022-10-22T10:11:17.361985Z",
     "iopub.status.idle": "2022-10-22T10:11:17.375211Z",
     "shell.execute_reply": "2022-10-22T10:11:17.375653Z"
    },
    "papermill": {
     "duration": 0.049095,
     "end_time": "2022-10-22T10:11:17.375799",
     "exception": false,
     "start_time": "2022-10-22T10:11:17.326704",
     "status": "completed"
    },
    "tags": []
   },
   "outputs": [
    {
     "data": {
      "text/plain": [
       "((11982, 28, 28), (1984, 28, 28))"
      ]
     },
     "execution_count": 13,
     "metadata": {},
     "output_type": "execute_result"
    }
   ],
   "source": [
    "X_train.shape, X_test.shape"
   ]
  },
  {
   "cell_type": "markdown",
   "id": "5ccf3f85",
   "metadata": {
    "papermill": {
     "duration": 0.027102,
     "end_time": "2022-10-22T10:11:17.430039",
     "exception": false,
     "start_time": "2022-10-22T10:11:17.402937",
     "status": "completed"
    },
    "tags": []
   },
   "source": [
    "We reshape the data to flatten the image pixels into a set of features or co-variates:"
   ]
  },
  {
   "cell_type": "code",
   "execution_count": 14,
   "id": "5286a4a3",
   "metadata": {
    "execution": {
     "iopub.execute_input": "2022-10-22T10:11:17.493619Z",
     "iopub.status.busy": "2022-10-22T10:11:17.492975Z",
     "iopub.status.idle": "2022-10-22T10:11:17.507650Z",
     "shell.execute_reply": "2022-10-22T10:11:17.508138Z"
    },
    "papermill": {
     "duration": 0.050912,
     "end_time": "2022-10-22T10:11:17.508292",
     "exception": false,
     "start_time": "2022-10-22T10:11:17.457380",
     "status": "completed"
    },
    "tags": []
   },
   "outputs": [
    {
     "data": {
      "text/plain": [
       "((11982, 784), (1984, 784))"
      ]
     },
     "execution_count": 14,
     "metadata": {},
     "output_type": "execute_result"
    }
   ],
   "source": [
    "X_train = X_train.reshape(X_train.shape[0], -1)\n",
    "X_test = X_test.reshape(X_test.shape[0], -1)\n",
    "X_train.shape, X_test.shape"
   ]
  },
  {
   "cell_type": "code",
   "execution_count": 15,
   "id": "73c5f88a",
   "metadata": {
    "execution": {
     "iopub.execute_input": "2022-10-22T10:11:17.568495Z",
     "iopub.status.busy": "2022-10-22T10:11:17.567828Z",
     "iopub.status.idle": "2022-10-22T10:11:17.590848Z",
     "shell.execute_reply": "2022-10-22T10:11:17.590332Z"
    },
    "papermill": {
     "duration": 0.055204,
     "end_time": "2022-10-22T10:11:17.590981",
     "exception": false,
     "start_time": "2022-10-22T10:11:17.535777",
     "status": "completed"
    },
    "tags": []
   },
   "outputs": [],
   "source": [
    "#Impoting functions from 'Kudzu'\n",
    "from kudzu.model import Model\n",
    "from kudzu.train import Learner\n",
    "from kudzu.optim import GD\n",
    "from kudzu.data import Data, Sampler,Dataloader\n",
    "\n",
    "from kudzu.callbacks import AccCallback\n",
    "from kudzu.callbacks import ClfCallback\n",
    "\n",
    "from kudzu.loss import MSE\n",
    "\n",
    "from kudzu.layer import Sigmoid,Relu\n",
    "from kudzu.layer import Affine"
   ]
  },
  {
   "cell_type": "markdown",
   "id": "bc01172a",
   "metadata": {
    "papermill": {
     "duration": 0.027215,
     "end_time": "2022-10-22T10:11:17.645674",
     "exception": false,
     "start_time": "2022-10-22T10:11:17.618459",
     "status": "completed"
    },
    "tags": []
   },
   "source": [
    "### Let us create a `Config` class, to store important parameters. \n",
    "This class essentially plays the role of a dictionary."
   ]
  },
  {
   "cell_type": "code",
   "execution_count": 16,
   "id": "978281aa",
   "metadata": {
    "execution": {
     "iopub.execute_input": "2022-10-22T10:11:17.705800Z",
     "iopub.status.busy": "2022-10-22T10:11:17.705164Z",
     "iopub.status.idle": "2022-10-22T10:11:17.718078Z",
     "shell.execute_reply": "2022-10-22T10:11:17.717600Z"
    },
    "papermill": {
     "duration": 0.045429,
     "end_time": "2022-10-22T10:11:17.718199",
     "exception": false,
     "start_time": "2022-10-22T10:11:17.672770",
     "status": "completed"
    },
    "tags": []
   },
   "outputs": [],
   "source": [
    "class Config:\n",
    "    pass\n",
    "config = Config()\n",
    "config.lr = 0.001\n",
    "config.num_epochs = 250\n",
    "config.bs = 50"
   ]
  },
  {
   "cell_type": "markdown",
   "id": "1385fa59",
   "metadata": {
    "papermill": {
     "duration": 0.027293,
     "end_time": "2022-10-22T10:11:17.772896",
     "exception": false,
     "start_time": "2022-10-22T10:11:17.745603",
     "status": "completed"
    },
    "tags": []
   },
   "source": [
    "### Running Models with the Training data\n",
    "Details about the network layers:\n",
    "- A first affine layer has 784 inputs and does 100 affine transforms. These are followed by a Relu\n",
    "- A second affine layer has 100 inputs from the 100 activations of the past layer, and does 100 affine transforms. These are followed by a Relu\n",
    "- A third affine layer has 100 activations and does 2 affine transformations to create an embedding for visualization. There is no non-linearity here.\n",
    "- A final \"logistic regression\" which has an affine transform from 2 inputs to 1 output, which is squeezed through a sigmoid.\n"
   ]
  },
  {
   "cell_type": "code",
   "execution_count": 17,
   "id": "2b9c66db",
   "metadata": {
    "execution": {
     "iopub.execute_input": "2022-10-22T10:11:17.836000Z",
     "iopub.status.busy": "2022-10-22T10:11:17.835368Z",
     "iopub.status.idle": "2022-10-22T10:11:17.847567Z",
     "shell.execute_reply": "2022-10-22T10:11:17.847072Z"
    },
    "papermill": {
     "duration": 0.047523,
     "end_time": "2022-10-22T10:11:17.847695",
     "exception": false,
     "start_time": "2022-10-22T10:11:17.800172",
     "status": "completed"
    },
    "tags": []
   },
   "outputs": [],
   "source": [
    "data = Data(X_train, y_train.reshape(-1,1))\n",
    "sampler = Sampler(data, config.bs, shuffle=True)\n",
    "\n",
    "dl = Dataloader(data, sampler)\n",
    "\n",
    "opt = GD(config.lr)\n",
    "loss = MSE()"
   ]
  },
  {
   "cell_type": "code",
   "execution_count": 18,
   "id": "b275e4c2",
   "metadata": {
    "execution": {
     "iopub.execute_input": "2022-10-22T10:11:17.907165Z",
     "iopub.status.busy": "2022-10-22T10:11:17.906549Z",
     "iopub.status.idle": "2022-10-22T10:11:17.920258Z",
     "shell.execute_reply": "2022-10-22T10:11:17.919710Z"
    },
    "papermill": {
     "duration": 0.045212,
     "end_time": "2022-10-22T10:11:17.920393",
     "exception": false,
     "start_time": "2022-10-22T10:11:17.875181",
     "status": "completed"
    },
    "tags": []
   },
   "outputs": [],
   "source": [
    "training_data_x = X_train\n",
    "testing_data_x = X_test\n",
    "training_data_y = y_train.reshape(-1,1)\n",
    "testing_data_y = y_test.reshape(-1,1)"
   ]
  },
  {
   "cell_type": "code",
   "execution_count": 19,
   "id": "76951160",
   "metadata": {
    "execution": {
     "iopub.execute_input": "2022-10-22T10:11:17.981279Z",
     "iopub.status.busy": "2022-10-22T10:11:17.980636Z",
     "iopub.status.idle": "2022-10-22T10:11:17.997109Z",
     "shell.execute_reply": "2022-10-22T10:11:17.996509Z"
    },
    "papermill": {
     "duration": 0.049545,
     "end_time": "2022-10-22T10:11:17.997227",
     "exception": false,
     "start_time": "2022-10-22T10:11:17.947682",
     "status": "completed"
    },
    "tags": []
   },
   "outputs": [
    {
     "name": "stdout",
     "output_type": "stream",
     "text": [
      "xavier\n",
      "xavier\n",
      "xavier\n",
      "xavier\n",
      "xavier\n"
     ]
    }
   ],
   "source": [
    "layers = [Affine(\"first\", 784, 100), Relu(\"first\"), Affine(\"second\", 100, 100), Relu(\"second\"), Affine(\"third\", 100, 2), Affine(\"last\", 2, 1), Sigmoid(\"last\")]\n",
    "model_nn = Model(layers)\n",
    "model_lr = Model([Affine(\"logits\", 784, 1), Sigmoid(\"sigmoid\")])"
   ]
  },
  {
   "cell_type": "code",
   "execution_count": 20,
   "id": "6eede77a",
   "metadata": {
    "execution": {
     "iopub.execute_input": "2022-10-22T10:11:18.069506Z",
     "iopub.status.busy": "2022-10-22T10:11:18.061096Z",
     "iopub.status.idle": "2022-10-22T10:11:18.071751Z",
     "shell.execute_reply": "2022-10-22T10:11:18.072235Z"
    },
    "papermill": {
     "duration": 0.04716,
     "end_time": "2022-10-22T10:11:18.072379",
     "exception": false,
     "start_time": "2022-10-22T10:11:18.025219",
     "status": "completed"
    },
    "tags": []
   },
   "outputs": [],
   "source": [
    "nn_learner = Learner(loss, model_nn, opt, config.num_epochs)\n",
    "acc_nn = ClfCallback(nn_learner, config.bs, training_data_x , testing_data_x, training_data_y, testing_data_y)\n",
    "nn_learner.set_callbacks([acc_nn])"
   ]
  },
  {
   "cell_type": "code",
   "execution_count": 21,
   "id": "877b6cc7",
   "metadata": {
    "execution": {
     "iopub.execute_input": "2022-10-22T10:11:18.137915Z",
     "iopub.status.busy": "2022-10-22T10:11:18.137251Z",
     "iopub.status.idle": "2022-10-22T10:11:18.149426Z",
     "shell.execute_reply": "2022-10-22T10:11:18.148899Z"
    },
    "papermill": {
     "duration": 0.049598,
     "end_time": "2022-10-22T10:11:18.149550",
     "exception": false,
     "start_time": "2022-10-22T10:11:18.099952",
     "status": "completed"
    },
    "tags": []
   },
   "outputs": [],
   "source": [
    "lr_learner = Learner(loss, model_lr, opt, config.num_epochs)\n",
    "acc_lr = ClfCallback(lr_learner, config.bs, training_data_x , testing_data_x, training_data_y, testing_data_y)\n",
    "lr_learner.set_callbacks([acc_lr])"
   ]
  },
  {
   "cell_type": "code",
   "execution_count": 22,
   "id": "d9b133c3",
   "metadata": {
    "execution": {
     "iopub.execute_input": "2022-10-22T10:11:18.212140Z",
     "iopub.status.busy": "2022-10-22T10:11:18.211392Z",
     "iopub.status.idle": "2022-10-22T10:12:38.848513Z",
     "shell.execute_reply": "2022-10-22T10:12:38.849359Z"
    },
    "papermill": {
     "duration": 80.671774,
     "end_time": "2022-10-22T10:12:38.849504",
     "exception": false,
     "start_time": "2022-10-22T10:11:18.177730",
     "status": "completed"
    },
    "tags": []
   },
   "outputs": [
    {
     "name": "stdout",
     "output_type": "stream",
     "text": [
      "Epoch 0, Loss 0.253\n",
      "Training Accuracy: 0.7418, Testing Accuracy: 0.7349\n",
      "\n"
     ]
    },
    {
     "name": "stdout",
     "output_type": "stream",
     "text": [
      "Epoch 10, Loss 0.0629\n",
      "Training Accuracy: 0.9405, Testing Accuracy: 0.9511\n",
      "\n"
     ]
    },
    {
     "name": "stdout",
     "output_type": "stream",
     "text": [
      "Epoch 20, Loss 0.0441\n",
      "Training Accuracy: 0.9526, Testing Accuracy: 0.9592\n",
      "\n"
     ]
    },
    {
     "name": "stdout",
     "output_type": "stream",
     "text": [
      "Epoch 30, Loss 0.0371\n",
      "Training Accuracy: 0.9597, Testing Accuracy: 0.9627\n",
      "\n"
     ]
    },
    {
     "name": "stdout",
     "output_type": "stream",
     "text": [
      "Epoch 40, Loss 0.0332\n",
      "Training Accuracy: 0.9646, Testing Accuracy: 0.9677\n",
      "\n"
     ]
    },
    {
     "name": "stdout",
     "output_type": "stream",
     "text": [
      "Epoch 50, Loss 0.0305\n",
      "Training Accuracy: 0.9670, Testing Accuracy: 0.9672\n",
      "\n"
     ]
    },
    {
     "name": "stdout",
     "output_type": "stream",
     "text": [
      "Epoch 60, Loss 0.0286\n",
      "Training Accuracy: 0.9690, Testing Accuracy: 0.9693\n",
      "\n"
     ]
    },
    {
     "name": "stdout",
     "output_type": "stream",
     "text": [
      "Epoch 70, Loss 0.027\n",
      "Training Accuracy: 0.9698, Testing Accuracy: 0.9708\n",
      "\n"
     ]
    },
    {
     "name": "stdout",
     "output_type": "stream",
     "text": [
      "Epoch 80, Loss 0.0258\n",
      "Training Accuracy: 0.9715, Testing Accuracy: 0.9703\n",
      "\n"
     ]
    },
    {
     "name": "stdout",
     "output_type": "stream",
     "text": [
      "Epoch 90, Loss 0.0247\n",
      "Training Accuracy: 0.9725, Testing Accuracy: 0.9708\n",
      "\n"
     ]
    },
    {
     "name": "stdout",
     "output_type": "stream",
     "text": [
      "Epoch 100, Loss 0.0238\n",
      "Training Accuracy: 0.9735, Testing Accuracy: 0.9723\n",
      "\n"
     ]
    },
    {
     "name": "stdout",
     "output_type": "stream",
     "text": [
      "Epoch 110, Loss 0.0229\n",
      "Training Accuracy: 0.9740, Testing Accuracy: 0.9743\n",
      "\n"
     ]
    },
    {
     "name": "stdout",
     "output_type": "stream",
     "text": [
      "Epoch 120, Loss 0.0222\n",
      "Training Accuracy: 0.9749, Testing Accuracy: 0.9733\n",
      "\n"
     ]
    },
    {
     "name": "stdout",
     "output_type": "stream",
     "text": [
      "Epoch 130, Loss 0.0215\n",
      "Training Accuracy: 0.9755, Testing Accuracy: 0.9738\n",
      "\n"
     ]
    },
    {
     "name": "stdout",
     "output_type": "stream",
     "text": [
      "Epoch 140, Loss 0.0208\n",
      "Training Accuracy: 0.9765, Testing Accuracy: 0.9753\n",
      "\n"
     ]
    },
    {
     "name": "stdout",
     "output_type": "stream",
     "text": [
      "Epoch 150, Loss 0.0202\n",
      "Training Accuracy: 0.9770, Testing Accuracy: 0.9758\n",
      "\n"
     ]
    },
    {
     "name": "stdout",
     "output_type": "stream",
     "text": [
      "Epoch 160, Loss 0.0196\n",
      "Training Accuracy: 0.9781, Testing Accuracy: 0.9768\n",
      "\n"
     ]
    },
    {
     "name": "stdout",
     "output_type": "stream",
     "text": [
      "Epoch 170, Loss 0.019\n",
      "Training Accuracy: 0.9784, Testing Accuracy: 0.9768\n",
      "\n"
     ]
    },
    {
     "name": "stdout",
     "output_type": "stream",
     "text": [
      "Epoch 180, Loss 0.0184\n",
      "Training Accuracy: 0.9790, Testing Accuracy: 0.9768\n",
      "\n"
     ]
    },
    {
     "name": "stdout",
     "output_type": "stream",
     "text": [
      "Epoch 190, Loss 0.018\n",
      "Training Accuracy: 0.9801, Testing Accuracy: 0.9778\n",
      "\n"
     ]
    },
    {
     "name": "stdout",
     "output_type": "stream",
     "text": [
      "Epoch 200, Loss 0.0175\n",
      "Training Accuracy: 0.9805, Testing Accuracy: 0.9778\n",
      "\n"
     ]
    },
    {
     "name": "stdout",
     "output_type": "stream",
     "text": [
      "Epoch 210, Loss 0.017\n",
      "Training Accuracy: 0.9811, Testing Accuracy: 0.9783\n",
      "\n"
     ]
    },
    {
     "name": "stdout",
     "output_type": "stream",
     "text": [
      "Epoch 220, Loss 0.0166\n",
      "Training Accuracy: 0.9815, Testing Accuracy: 0.9788\n",
      "\n"
     ]
    },
    {
     "name": "stdout",
     "output_type": "stream",
     "text": [
      "Epoch 230, Loss 0.0161\n",
      "Training Accuracy: 0.9817, Testing Accuracy: 0.9793\n",
      "\n"
     ]
    },
    {
     "name": "stdout",
     "output_type": "stream",
     "text": [
      "Epoch 240, Loss 0.0157\n",
      "Training Accuracy: 0.9827, Testing Accuracy: 0.9793\n",
      "\n"
     ]
    },
    {
     "data": {
      "text/plain": [
       "0.0013141566223209048"
      ]
     },
     "execution_count": 22,
     "metadata": {},
     "output_type": "execute_result"
    }
   ],
   "source": [
    "nn_learner.train_loop(dl)"
   ]
  },
  {
   "cell_type": "code",
   "execution_count": 23,
   "id": "e0163366",
   "metadata": {
    "execution": {
     "iopub.execute_input": "2022-10-22T10:12:38.929568Z",
     "iopub.status.busy": "2022-10-22T10:12:38.928988Z",
     "iopub.status.idle": "2022-10-22T10:12:52.997709Z",
     "shell.execute_reply": "2022-10-22T10:12:52.998537Z"
    },
    "papermill": {
     "duration": 14.114535,
     "end_time": "2022-10-22T10:12:52.998687",
     "exception": false,
     "start_time": "2022-10-22T10:12:38.884152",
     "status": "completed"
    },
    "tags": []
   },
   "outputs": [
    {
     "name": "stdout",
     "output_type": "stream",
     "text": [
      "Epoch 0, Loss 0.2403\n",
      "Training Accuracy: 0.6926, Testing Accuracy: 0.7152\n",
      "\n"
     ]
    },
    {
     "name": "stdout",
     "output_type": "stream",
     "text": [
      "Epoch 10, Loss 0.1038\n",
      "Training Accuracy: 0.9057, Testing Accuracy: 0.9108\n",
      "\n"
     ]
    },
    {
     "name": "stdout",
     "output_type": "stream",
     "text": [
      "Epoch 20, Loss 0.0802\n",
      "Training Accuracy: 0.9264, Testing Accuracy: 0.9330\n",
      "\n"
     ]
    },
    {
     "name": "stdout",
     "output_type": "stream",
     "text": [
      "Epoch 30, Loss 0.0692\n",
      "Training Accuracy: 0.9342, Testing Accuracy: 0.9441\n",
      "\n"
     ]
    },
    {
     "name": "stdout",
     "output_type": "stream",
     "text": [
      "Epoch 40, Loss 0.0626\n",
      "Training Accuracy: 0.9390, Testing Accuracy: 0.9491\n",
      "\n"
     ]
    },
    {
     "name": "stdout",
     "output_type": "stream",
     "text": [
      "Epoch 50, Loss 0.058\n",
      "Training Accuracy: 0.9422, Testing Accuracy: 0.9486\n",
      "\n"
     ]
    },
    {
     "name": "stdout",
     "output_type": "stream",
     "text": [
      "Epoch 60, Loss 0.0546\n",
      "Training Accuracy: 0.9453, Testing Accuracy: 0.9521\n",
      "\n"
     ]
    },
    {
     "name": "stdout",
     "output_type": "stream",
     "text": [
      "Epoch 70, Loss 0.052\n",
      "Training Accuracy: 0.9474, Testing Accuracy: 0.9536\n",
      "\n"
     ]
    },
    {
     "name": "stdout",
     "output_type": "stream",
     "text": [
      "Epoch 80, Loss 0.0499\n",
      "Training Accuracy: 0.9493, Testing Accuracy: 0.9541\n",
      "\n"
     ]
    },
    {
     "name": "stdout",
     "output_type": "stream",
     "text": [
      "Epoch 90, Loss 0.0482\n",
      "Training Accuracy: 0.9514, Testing Accuracy: 0.9577\n",
      "\n"
     ]
    },
    {
     "name": "stdout",
     "output_type": "stream",
     "text": [
      "Epoch 100, Loss 0.0467\n",
      "Training Accuracy: 0.9523, Testing Accuracy: 0.9592\n",
      "\n"
     ]
    },
    {
     "name": "stdout",
     "output_type": "stream",
     "text": [
      "Epoch 110, Loss 0.0455\n",
      "Training Accuracy: 0.9531, Testing Accuracy: 0.9592\n",
      "\n"
     ]
    },
    {
     "name": "stdout",
     "output_type": "stream",
     "text": [
      "Epoch 120, Loss 0.0444\n",
      "Training Accuracy: 0.9539, Testing Accuracy: 0.9607\n",
      "\n"
     ]
    },
    {
     "name": "stdout",
     "output_type": "stream",
     "text": [
      "Epoch 130, Loss 0.0434\n",
      "Training Accuracy: 0.9544, Testing Accuracy: 0.9622\n",
      "\n"
     ]
    },
    {
     "name": "stdout",
     "output_type": "stream",
     "text": [
      "Epoch 140, Loss 0.0426\n",
      "Training Accuracy: 0.9553, Testing Accuracy: 0.9632\n",
      "\n"
     ]
    },
    {
     "name": "stdout",
     "output_type": "stream",
     "text": [
      "Epoch 150, Loss 0.0418\n",
      "Training Accuracy: 0.9555, Testing Accuracy: 0.9637\n",
      "\n"
     ]
    },
    {
     "name": "stdout",
     "output_type": "stream",
     "text": [
      "Epoch 160, Loss 0.0411\n",
      "Training Accuracy: 0.9562, Testing Accuracy: 0.9642\n",
      "\n"
     ]
    },
    {
     "name": "stdout",
     "output_type": "stream",
     "text": [
      "Epoch 170, Loss 0.0405\n",
      "Training Accuracy: 0.9570, Testing Accuracy: 0.9647\n",
      "\n"
     ]
    },
    {
     "name": "stdout",
     "output_type": "stream",
     "text": [
      "Epoch 180, Loss 0.0399\n",
      "Training Accuracy: 0.9575, Testing Accuracy: 0.9652\n",
      "\n"
     ]
    },
    {
     "name": "stdout",
     "output_type": "stream",
     "text": [
      "Epoch 190, Loss 0.0394\n",
      "Training Accuracy: 0.9577, Testing Accuracy: 0.9662\n",
      "\n"
     ]
    },
    {
     "name": "stdout",
     "output_type": "stream",
     "text": [
      "Epoch 200, Loss 0.0389\n",
      "Training Accuracy: 0.9584, Testing Accuracy: 0.9657\n",
      "\n"
     ]
    },
    {
     "name": "stdout",
     "output_type": "stream",
     "text": [
      "Epoch 210, Loss 0.0384\n",
      "Training Accuracy: 0.9588, Testing Accuracy: 0.9662\n",
      "\n"
     ]
    },
    {
     "name": "stdout",
     "output_type": "stream",
     "text": [
      "Epoch 220, Loss 0.038\n",
      "Training Accuracy: 0.9589, Testing Accuracy: 0.9672\n",
      "\n"
     ]
    },
    {
     "name": "stdout",
     "output_type": "stream",
     "text": [
      "Epoch 230, Loss 0.0376\n",
      "Training Accuracy: 0.9591, Testing Accuracy: 0.9672\n",
      "\n"
     ]
    },
    {
     "name": "stdout",
     "output_type": "stream",
     "text": [
      "Epoch 240, Loss 0.0372\n",
      "Training Accuracy: 0.9594, Testing Accuracy: 0.9677\n",
      "\n"
     ]
    },
    {
     "data": {
      "text/plain": [
       "0.04282079257012874"
      ]
     },
     "execution_count": 23,
     "metadata": {},
     "output_type": "execute_result"
    }
   ],
   "source": [
    "lr_learner.train_loop(dl)"
   ]
  },
  {
   "cell_type": "code",
   "execution_count": 24,
   "id": "ca410940",
   "metadata": {
    "execution": {
     "iopub.execute_input": "2022-10-22T10:12:53.093532Z",
     "iopub.status.busy": "2022-10-22T10:12:53.092939Z",
     "iopub.status.idle": "2022-10-22T10:12:53.319216Z",
     "shell.execute_reply": "2022-10-22T10:12:53.318716Z"
    },
    "papermill": {
     "duration": 0.278553,
     "end_time": "2022-10-22T10:12:53.319338",
     "exception": false,
     "start_time": "2022-10-22T10:12:53.040785",
     "status": "completed"
    },
    "tags": []
   },
   "outputs": [
    {
     "data": {
      "text/plain": [
       "<matplotlib.legend.Legend at 0x7f96171c12e8>"
      ]
     },
     "execution_count": 24,
     "metadata": {},
     "output_type": "execute_result"
    },
    {
     "data": {
      "image/png": "[encoded data removed]",
      "text/plain": [
       "<Figure size 1080x720 with 1 Axes>"
      ]
     },
     "metadata": {
      "needs_background": "light"
     },
     "output_type": "display_data"
    }
   ],
   "source": [
    "#comparing the results of NN and LR\n",
    "plt.figure(figsize=(15,10))\n",
    "\n",
    "# Neural Network plots\n",
    "plt.plot(acc_nn.accuracies, 'r-', label = \"Training Accuracies - NN\")\n",
    "plt.plot(acc_nn.test_accuracies, 'g-', label = \"Testing Accuracies - NN\")\n",
    "\n",
    "# Logistic Regression plots\n",
    "plt.plot(acc_lr.accuracies, 'k-', label = \"Training Accuracies - LR\")\n",
    "plt.plot(acc_lr.test_accuracies, 'b-', label = \"Testing Accuracies - LR\")\n",
    "plt.legend()"
   ]
  },
  {
   "cell_type": "markdown",
   "id": "80dfb35c",
   "metadata": {
    "papermill": {
     "duration": 0.041691,
     "end_time": "2022-10-22T10:12:53.403267",
     "exception": false,
     "start_time": "2022-10-22T10:12:53.361576",
     "status": "completed"
    },
    "tags": []
   },
   "source": [
    "#### Plotting the outputs of this layer of the NN.\n"
   ]
  },
  {
   "cell_type": "code",
   "execution_count": 25,
   "id": "45eb2ff5",
   "metadata": {
    "execution": {
     "iopub.execute_input": "2022-10-22T10:12:53.491135Z",
     "iopub.status.busy": "2022-10-22T10:12:53.490542Z",
     "iopub.status.idle": "2022-10-22T10:12:53.511040Z",
     "shell.execute_reply": "2022-10-22T10:12:53.511493Z"
    },
    "papermill": {
     "duration": 0.066673,
     "end_time": "2022-10-22T10:12:53.511628",
     "exception": false,
     "start_time": "2022-10-22T10:12:53.444955",
     "status": "completed"
    },
    "tags": []
   },
   "outputs": [],
   "source": [
    "new_model = Model(layers[:-2])\n",
    "testing_plot = new_model(testing_data_x)"
   ]
  },
  {
   "cell_type": "code",
   "execution_count": 26,
   "id": "4c0a5485",
   "metadata": {
    "execution": {
     "iopub.execute_input": "2022-10-22T10:12:53.601650Z",
     "iopub.status.busy": "2022-10-22T10:12:53.601056Z",
     "iopub.status.idle": "2022-10-22T10:12:53.801071Z",
     "shell.execute_reply": "2022-10-22T10:12:53.801639Z"
    },
    "papermill": {
     "duration": 0.247826,
     "end_time": "2022-10-22T10:12:53.801780",
     "exception": false,
     "start_time": "2022-10-22T10:12:53.553954",
     "status": "completed"
    },
    "tags": []
   },
   "outputs": [
    {
     "data": {
      "text/plain": [
       "Text(0.5, 1.0, 'Outputs')"
      ]
     },
     "execution_count": 26,
     "metadata": {},
     "output_type": "execute_result"
    },
    {
     "data": {
      "image/png": "[encoded data removed]",
      "text/plain": [
       "<Figure size 576x504 with 1 Axes>"
      ]
     },
     "metadata": {
      "needs_background": "light"
     },
     "output_type": "display_data"
    }
   ],
   "source": [
    "# Plotting the scatter plot of points and color coding by class\n",
    "plt.figure(figsize=(8,7))\n",
    "plt.scatter(testing_plot[:,0], testing_plot[:,1], alpha = 0.1, c = y_test.ravel());\n",
    "plt.title('Outputs')"
   ]
  },
  {
   "cell_type": "markdown",
   "id": "a74fcf8f",
   "metadata": {
    "papermill": {
     "duration": 0.043986,
     "end_time": "2022-10-22T10:12:53.890141",
     "exception": false,
     "start_time": "2022-10-22T10:12:53.846155",
     "status": "completed"
    },
    "tags": []
   },
   "source": [
    "Probability contours"
   ]
  },
  {
   "cell_type": "code",
   "execution_count": 27,
   "id": "d0afc8e3",
   "metadata": {
    "execution": {
     "iopub.execute_input": "2022-10-22T10:12:54.025737Z",
     "iopub.status.busy": "2022-10-22T10:12:54.025148Z",
     "iopub.status.idle": "2022-10-22T10:12:54.030422Z",
     "shell.execute_reply": "2022-10-22T10:12:54.030870Z"
    },
    "papermill": {
     "duration": 0.068254,
     "end_time": "2022-10-22T10:12:54.030997",
     "exception": false,
     "start_time": "2022-10-22T10:12:53.962743",
     "status": "completed"
    },
    "tags": []
   },
   "outputs": [],
   "source": [
    "model_prob = Model(layers[-2:]) "
   ]
  },
  {
   "cell_type": "code",
   "execution_count": 28,
   "id": "9b96e238",
   "metadata": {
    "execution": {
     "iopub.execute_input": "2022-10-22T10:12:54.125735Z",
     "iopub.status.busy": "2022-10-22T10:12:54.124551Z",
     "iopub.status.idle": "2022-10-22T10:12:54.140264Z",
     "shell.execute_reply": "2022-10-22T10:12:54.139793Z"
    },
    "papermill": {
     "duration": 0.064894,
     "end_time": "2022-10-22T10:12:54.140382",
     "exception": false,
     "start_time": "2022-10-22T10:12:54.075488",
     "status": "completed"
    },
    "tags": []
   },
   "outputs": [],
   "source": [
    "#creating the x and y ranges according to the above generated plot.\n",
    "x_range = np.linspace(-4, 1, 100) \n",
    "y_range = np.linspace(-6, 6, 100) \n",
    "x_grid, y_grid = np.meshgrid(x_range, y_range) # x_grid and y_grig are of size 100 X 100\n",
    "\n",
    "# converting x_grid and y_grid to continuous arrays\n",
    "x_gridflat = np.ravel(x_grid)\n",
    "y_gridflat = np.ravel(y_grid)\n",
    "\n",
    "# The last layer of the current model takes two columns as input. Hence transpose of np.vstack() is required.\n",
    "X = np.vstack((x_gridflat, y_gridflat)).T\n",
    "\n",
    "prob_contour = model_prob(X).reshape(100,100) "
   ]
  },
  {
   "cell_type": "code",
   "execution_count": 29,
   "id": "da72499a",
   "metadata": {
    "execution": {
     "iopub.execute_input": "2022-10-22T10:12:54.237897Z",
     "iopub.status.busy": "2022-10-22T10:12:54.237294Z",
     "iopub.status.idle": "2022-10-22T10:12:54.475605Z",
     "shell.execute_reply": "2022-10-22T10:12:54.475055Z"
    },
    "papermill": {
     "duration": 0.290847,
     "end_time": "2022-10-22T10:12:54.475725",
     "exception": false,
     "start_time": "2022-10-22T10:12:54.184878",
     "status": "completed"
    },
    "tags": []
   },
   "outputs": [
    {
     "data": {
      "image/png": "[encoded data removed]",
      "text/plain": [
       "<Figure size 720x648 with 1 Axes>"
      ]
     },
     "metadata": {
      "needs_background": "light"
     },
     "output_type": "display_data"
    }
   ],
   "source": [
    "plt.figure(figsize=(10,9))\n",
    "plt.scatter(testing_plot[:,0], testing_plot[:,1], alpha = 0.1, c = y_test.ravel())\n",
    "contours = plt.contour(x_grid,y_grid,prob_contour)\n",
    "plt.title('Probability Contours')\n",
    "plt.clabel(contours, inline = True );"
   ]
  },
  {
   "cell_type": "code",
   "execution_count": null,
   "id": "e81b4ac7",
   "metadata": {
    "papermill": {
     "duration": 0.046848,
     "end_time": "2022-10-22T10:12:54.571802",
     "exception": false,
     "start_time": "2022-10-22T10:12:54.524954",
     "status": "completed"
    },
    "tags": []
   },
   "outputs": [],
   "source": []
  }
 ],
 "metadata": {
  "kernelspec": {
   "display_name": "Python 3",
   "language": "python",
   "name": "python3"
  },
  "language_info": {
   "codemirror_mode": {
    "name": "ipython",
    "version": 3
   },
   "file_extension": ".py",
   "mimetype": "text/x-python",
   "name": "python",
   "nbconvert_exporter": "python",
   "pygments_lexer": "ipython3",
   "version": "3.6.15"
  },
  "papermill": {
   "default_parameters": {},
   "duration": 103.319016,
   "end_time": "2022-10-22T10:12:55.038344",
   "environment_variables": {},
   "exception": null,
   "input_path": "2020-08-11-part2.ipynb",
   "output_path": "2020-08-11-part2.ipynb",
   "parameters": {},
   "start_time": "2022-10-22T10:11:11.719328",
   "version": "2.3.3"
  }
 },
 "nbformat": 4,
 "nbformat_minor": 5
}