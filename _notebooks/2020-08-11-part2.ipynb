{
 "cells": [
  {
   "cell_type": "markdown",
   "id": "98380cd3",
   "metadata": {
    "papermill": {
     "duration": 0.028664,
     "end_time": "2022-04-07T00:35:51.562809",
     "exception": false,
     "start_time": "2022-04-07T00:35:51.534145",
     "status": "completed"
    },
    "tags": []
   },
   "source": [
    "# Distinguish Your Own Digits (DYOD)"
   ]
  },
  {
   "cell_type": "markdown",
   "id": "ef31240d",
   "metadata": {
    "papermill": {
     "duration": 0.025266,
     "end_time": "2022-04-07T00:35:51.612374",
     "exception": false,
     "start_time": "2022-04-07T00:35:51.587108",
     "status": "completed"
    },
    "tags": []
   },
   "source": [
    "You are going to write a classifier that distinguishes between the number 3 and number 8."
   ]
  },
  {
   "cell_type": "code",
   "execution_count": 1,
   "id": "b15c8646",
   "metadata": {
    "execution": {
     "iopub.execute_input": "2022-04-07T00:35:51.670750Z",
     "iopub.status.busy": "2022-04-07T00:35:51.670163Z",
     "iopub.status.idle": "2022-04-07T00:35:51.680586Z",
     "shell.execute_reply": "2022-04-07T00:35:51.680132Z"
    },
    "papermill": {
     "duration": 0.044727,
     "end_time": "2022-04-07T00:35:51.680710",
     "exception": false,
     "start_time": "2022-04-07T00:35:51.635983",
     "status": "completed"
    },
    "tags": []
   },
   "outputs": [],
   "source": [
    "%load_ext autoreload\n",
    "%autoreload 2"
   ]
  },
  {
   "cell_type": "code",
   "execution_count": 2,
   "id": "22ef38dc",
   "metadata": {
    "execution": {
     "iopub.execute_input": "2022-04-07T00:35:51.734611Z",
     "iopub.status.busy": "2022-04-07T00:35:51.734072Z",
     "iopub.status.idle": "2022-04-07T00:35:52.311019Z",
     "shell.execute_reply": "2022-04-07T00:35:52.309997Z"
    },
    "papermill": {
     "duration": 0.606714,
     "end_time": "2022-04-07T00:35:52.311172",
     "exception": false,
     "start_time": "2022-04-07T00:35:51.704458",
     "status": "completed"
    },
    "tags": []
   },
   "outputs": [],
   "source": [
    "%matplotlib inline\n",
    "import numpy as np\n",
    "import matplotlib.pyplot as plt\n",
    "import pandas as pd"
   ]
  },
  {
   "cell_type": "markdown",
   "id": "ba036198",
   "metadata": {
    "papermill": {
     "duration": 0.023611,
     "end_time": "2022-04-07T00:35:52.359598",
     "exception": false,
     "start_time": "2022-04-07T00:35:52.335987",
     "status": "completed"
    },
    "tags": []
   },
   "source": [
    "From the command line run `pip install mnist`. This is a library that will help you bring down the mnist dataset. If you run this from a notebook, you need to put  `!pip install mnist` in a cell by itself."
   ]
  },
  {
   "cell_type": "code",
   "execution_count": 3,
   "id": "bb6ad8a1",
   "metadata": {
    "execution": {
     "iopub.execute_input": "2022-04-07T00:35:52.430170Z",
     "iopub.status.busy": "2022-04-07T00:35:52.423456Z",
     "iopub.status.idle": "2022-04-07T00:35:54.025454Z",
     "shell.execute_reply": "2022-04-07T00:35:54.024980Z"
    },
    "papermill": {
     "duration": 1.642268,
     "end_time": "2022-04-07T00:35:54.025580",
     "exception": false,
     "start_time": "2022-04-07T00:35:52.383312",
     "status": "completed"
    },
    "tags": []
   },
   "outputs": [
    {
     "name": "stdout",
     "output_type": "stream",
     "text": [
      "Collecting mnist\r\n",
      "  Downloading mnist-0.2.2-py2.py3-none-any.whl (3.5 kB)\r\n",
      "Requirement already satisfied: numpy in /opt/hostedtoolcache/Python/3.6.15/x64/lib/python3.6/site-packages (from mnist) (1.19.5)\r\n"
     ]
    },
    {
     "name": "stdout",
     "output_type": "stream",
     "text": [
      "Installing collected packages: mnist\r\n"
     ]
    },
    {
     "name": "stdout",
     "output_type": "stream",
     "text": [
      "Successfully installed mnist-0.2.2\r\n"
     ]
    }
   ],
   "source": [
    "!pip install mnist"
   ]
  },
  {
   "cell_type": "markdown",
   "id": "69df9c9a",
   "metadata": {
    "papermill": {
     "duration": 0.025064,
     "end_time": "2022-04-07T00:35:54.075501",
     "exception": false,
     "start_time": "2022-04-07T00:35:54.050437",
     "status": "completed"
    },
    "tags": []
   },
   "source": [
    "## Preparing the Data"
   ]
  },
  {
   "cell_type": "code",
   "execution_count": 4,
   "id": "7f69d806",
   "metadata": {
    "execution": {
     "iopub.execute_input": "2022-04-07T00:35:54.128672Z",
     "iopub.status.busy": "2022-04-07T00:35:54.128161Z",
     "iopub.status.idle": "2022-04-07T00:35:54.143303Z",
     "shell.execute_reply": "2022-04-07T00:35:54.142876Z"
    },
    "papermill": {
     "duration": 0.043295,
     "end_time": "2022-04-07T00:35:54.143417",
     "exception": false,
     "start_time": "2022-04-07T00:35:54.100122",
     "status": "completed"
    },
    "tags": []
   },
   "outputs": [],
   "source": [
    "import mnist"
   ]
  },
  {
   "cell_type": "code",
   "execution_count": 5,
   "id": "a411e44f",
   "metadata": {
    "execution": {
     "iopub.execute_input": "2022-04-07T00:35:54.214668Z",
     "iopub.status.busy": "2022-04-07T00:35:54.210653Z",
     "iopub.status.idle": "2022-04-07T00:35:54.659580Z",
     "shell.execute_reply": "2022-04-07T00:35:54.659082Z"
    },
    "papermill": {
     "duration": 0.491314,
     "end_time": "2022-04-07T00:35:54.659696",
     "exception": false,
     "start_time": "2022-04-07T00:35:54.168382",
     "status": "completed"
    },
    "tags": []
   },
   "outputs": [],
   "source": [
    "train_images = mnist.train_images()\n",
    "train_labels = mnist.train_labels()"
   ]
  },
  {
   "cell_type": "code",
   "execution_count": 6,
   "id": "dceab3a5",
   "metadata": {
    "execution": {
     "iopub.execute_input": "2022-04-07T00:35:54.723993Z",
     "iopub.status.busy": "2022-04-07T00:35:54.723133Z",
     "iopub.status.idle": "2022-04-07T00:35:54.733344Z",
     "shell.execute_reply": "2022-04-07T00:35:54.732932Z"
    },
    "papermill": {
     "duration": 0.048498,
     "end_time": "2022-04-07T00:35:54.733457",
     "exception": false,
     "start_time": "2022-04-07T00:35:54.684959",
     "status": "completed"
    },
    "tags": []
   },
   "outputs": [
    {
     "data": {
      "text/plain": [
       "((60000, 28, 28), (60000,))"
      ]
     },
     "execution_count": 6,
     "metadata": {},
     "output_type": "execute_result"
    }
   ],
   "source": [
    "train_images.shape, train_labels.shape"
   ]
  },
  {
   "cell_type": "code",
   "execution_count": 7,
   "id": "f50dc2bb",
   "metadata": {
    "execution": {
     "iopub.execute_input": "2022-04-07T00:35:54.786564Z",
     "iopub.status.busy": "2022-04-07T00:35:54.786067Z",
     "iopub.status.idle": "2022-04-07T00:35:54.904012Z",
     "shell.execute_reply": "2022-04-07T00:35:54.903477Z"
    },
    "papermill": {
     "duration": 0.145914,
     "end_time": "2022-04-07T00:35:54.904152",
     "exception": false,
     "start_time": "2022-04-07T00:35:54.758238",
     "status": "completed"
    },
    "tags": []
   },
   "outputs": [],
   "source": [
    "test_images = mnist.test_images()\n",
    "test_labels = mnist.test_labels()"
   ]
  },
  {
   "cell_type": "code",
   "execution_count": 8,
   "id": "fc38cf1b",
   "metadata": {
    "execution": {
     "iopub.execute_input": "2022-04-07T00:35:54.958549Z",
     "iopub.status.busy": "2022-04-07T00:35:54.958045Z",
     "iopub.status.idle": "2022-04-07T00:35:54.971248Z",
     "shell.execute_reply": "2022-04-07T00:35:54.970814Z"
    },
    "papermill": {
     "duration": 0.041168,
     "end_time": "2022-04-07T00:35:54.971354",
     "exception": false,
     "start_time": "2022-04-07T00:35:54.930186",
     "status": "completed"
    },
    "tags": []
   },
   "outputs": [
    {
     "data": {
      "text/plain": [
       "((10000, 28, 28), (10000,))"
      ]
     },
     "execution_count": 8,
     "metadata": {},
     "output_type": "execute_result"
    }
   ],
   "source": [
    "test_images.shape, test_labels.shape"
   ]
  },
  {
   "cell_type": "code",
   "execution_count": 9,
   "id": "f9ed8fe0",
   "metadata": {
    "execution": {
     "iopub.execute_input": "2022-04-07T00:35:55.053085Z",
     "iopub.status.busy": "2022-04-07T00:35:55.039784Z",
     "iopub.status.idle": "2022-04-07T00:35:55.167694Z",
     "shell.execute_reply": "2022-04-07T00:35:55.168117Z"
    },
    "papermill": {
     "duration": 0.171768,
     "end_time": "2022-04-07T00:35:55.168254",
     "exception": false,
     "start_time": "2022-04-07T00:35:54.996486",
     "status": "completed"
    },
    "tags": []
   },
   "outputs": [
    {
     "name": "stdout",
     "output_type": "stream",
     "text": [
      "2\n"
     ]
    },
    {
     "data": {
      "text/plain": [
       "<matplotlib.image.AxesImage at 0x7fdc72b55ac8>"
      ]
     },
     "execution_count": 9,
     "metadata": {},
     "output_type": "execute_result"
    },
    {
     "data": {
      "image/png": "[encoded data removed]",
      "text/plain": [
       "<Figure size 432x288 with 1 Axes>"
      ]
     },
     "metadata": {
      "needs_background": "light"
     },
     "output_type": "display_data"
    }
   ],
   "source": [
    "image_index = 7776 # You may select anything up to 60,000\n",
    "print(train_labels[image_index]) \n",
    "plt.imshow(train_images[image_index], cmap='Greys')"
   ]
  },
  {
   "cell_type": "markdown",
   "id": "a8d2388d",
   "metadata": {
    "papermill": {
     "duration": 0.026045,
     "end_time": "2022-04-07T00:35:55.220445",
     "exception": false,
     "start_time": "2022-04-07T00:35:55.194400",
     "status": "completed"
    },
    "tags": []
   },
   "source": [
    "## Filter data to get 3 and 8 out"
   ]
  },
  {
   "cell_type": "code",
   "execution_count": 10,
   "id": "776f7fc7",
   "metadata": {
    "execution": {
     "iopub.execute_input": "2022-04-07T00:35:55.296063Z",
     "iopub.status.busy": "2022-04-07T00:35:55.287391Z",
     "iopub.status.idle": "2022-04-07T00:35:55.297977Z",
     "shell.execute_reply": "2022-04-07T00:35:55.298693Z"
    },
    "papermill": {
     "duration": 0.052216,
     "end_time": "2022-04-07T00:35:55.298845",
     "exception": false,
     "start_time": "2022-04-07T00:35:55.246629",
     "status": "completed"
    },
    "tags": []
   },
   "outputs": [],
   "source": [
    "train_filter = np.where((train_labels == 3 ) | (train_labels == 8))\n",
    "test_filter = np.where((test_labels == 3) | (test_labels == 8))\n",
    "X_train, y_train = train_images[train_filter], train_labels[train_filter]\n",
    "X_test, y_test = test_images[test_filter], test_labels[test_filter]"
   ]
  },
  {
   "cell_type": "markdown",
   "id": "948f0b7e",
   "metadata": {
    "papermill": {
     "duration": 0.026289,
     "end_time": "2022-04-07T00:35:55.351347",
     "exception": false,
     "start_time": "2022-04-07T00:35:55.325058",
     "status": "completed"
    },
    "tags": []
   },
   "source": [
    "We normalize the pizel values in the 0 to 1 range"
   ]
  },
  {
   "cell_type": "code",
   "execution_count": 11,
   "id": "ee4c2166",
   "metadata": {
    "execution": {
     "iopub.execute_input": "2022-04-07T00:35:55.407843Z",
     "iopub.status.busy": "2022-04-07T00:35:55.407329Z",
     "iopub.status.idle": "2022-04-07T00:35:55.453400Z",
     "shell.execute_reply": "2022-04-07T00:35:55.453852Z"
    },
    "papermill": {
     "duration": 0.076785,
     "end_time": "2022-04-07T00:35:55.454010",
     "exception": false,
     "start_time": "2022-04-07T00:35:55.377225",
     "status": "completed"
    },
    "tags": []
   },
   "outputs": [],
   "source": [
    "X_train = X_train/255.\n",
    "X_test = X_test/255."
   ]
  },
  {
   "cell_type": "markdown",
   "id": "ddcf4fab",
   "metadata": {
    "papermill": {
     "duration": 0.026327,
     "end_time": "2022-04-07T00:35:55.507316",
     "exception": false,
     "start_time": "2022-04-07T00:35:55.480989",
     "status": "completed"
    },
    "tags": []
   },
   "source": [
    "And setup the labels as 1 (when the digit is 3) and 0 (when the digit is 8)"
   ]
  },
  {
   "cell_type": "code",
   "execution_count": 12,
   "id": "7dc908f2",
   "metadata": {
    "execution": {
     "iopub.execute_input": "2022-04-07T00:35:55.562639Z",
     "iopub.status.busy": "2022-04-07T00:35:55.562096Z",
     "iopub.status.idle": "2022-04-07T00:35:55.573623Z",
     "shell.execute_reply": "2022-04-07T00:35:55.574056Z"
    },
    "papermill": {
     "duration": 0.040902,
     "end_time": "2022-04-07T00:35:55.574184",
     "exception": false,
     "start_time": "2022-04-07T00:35:55.533282",
     "status": "completed"
    },
    "tags": []
   },
   "outputs": [],
   "source": [
    "y_train = 1*(y_train==3)\n",
    "y_test = 1*(y_test==3)"
   ]
  },
  {
   "cell_type": "code",
   "execution_count": 13,
   "id": "01e4e969",
   "metadata": {
    "execution": {
     "iopub.execute_input": "2022-04-07T00:35:55.629976Z",
     "iopub.status.busy": "2022-04-07T00:35:55.629473Z",
     "iopub.status.idle": "2022-04-07T00:35:55.642972Z",
     "shell.execute_reply": "2022-04-07T00:35:55.642510Z"
    },
    "papermill": {
     "duration": 0.042859,
     "end_time": "2022-04-07T00:35:55.643081",
     "exception": false,
     "start_time": "2022-04-07T00:35:55.600222",
     "status": "completed"
    },
    "tags": []
   },
   "outputs": [
    {
     "data": {
      "text/plain": [
       "((11982, 28, 28), (1984, 28, 28))"
      ]
     },
     "execution_count": 13,
     "metadata": {},
     "output_type": "execute_result"
    }
   ],
   "source": [
    "X_train.shape, X_test.shape"
   ]
  },
  {
   "cell_type": "markdown",
   "id": "5ccf3f85",
   "metadata": {
    "papermill": {
     "duration": 0.026109,
     "end_time": "2022-04-07T00:35:55.695812",
     "exception": false,
     "start_time": "2022-04-07T00:35:55.669703",
     "status": "completed"
    },
    "tags": []
   },
   "source": [
    "We reshape the data to flatten the image pixels into a set of features or co-variates:"
   ]
  },
  {
   "cell_type": "code",
   "execution_count": 14,
   "id": "5286a4a3",
   "metadata": {
    "execution": {
     "iopub.execute_input": "2022-04-07T00:35:55.752631Z",
     "iopub.status.busy": "2022-04-07T00:35:55.752033Z",
     "iopub.status.idle": "2022-04-07T00:35:55.765170Z",
     "shell.execute_reply": "2022-04-07T00:35:55.765644Z"
    },
    "papermill": {
     "duration": 0.043803,
     "end_time": "2022-04-07T00:35:55.765775",
     "exception": false,
     "start_time": "2022-04-07T00:35:55.721972",
     "status": "completed"
    },
    "tags": []
   },
   "outputs": [
    {
     "data": {
      "text/plain": [
       "((11982, 784), (1984, 784))"
      ]
     },
     "execution_count": 14,
     "metadata": {},
     "output_type": "execute_result"
    }
   ],
   "source": [
    "X_train = X_train.reshape(X_train.shape[0], -1)\n",
    "X_test = X_test.reshape(X_test.shape[0], -1)\n",
    "X_train.shape, X_test.shape"
   ]
  },
  {
   "cell_type": "code",
   "execution_count": 15,
   "id": "73c5f88a",
   "metadata": {
    "execution": {
     "iopub.execute_input": "2022-04-07T00:35:55.823086Z",
     "iopub.status.busy": "2022-04-07T00:35:55.822537Z",
     "iopub.status.idle": "2022-04-07T00:35:55.840897Z",
     "shell.execute_reply": "2022-04-07T00:35:55.841355Z"
    },
    "papermill": {
     "duration": 0.049226,
     "end_time": "2022-04-07T00:35:55.841494",
     "exception": false,
     "start_time": "2022-04-07T00:35:55.792268",
     "status": "completed"
    },
    "tags": []
   },
   "outputs": [],
   "source": [
    "#Impoting functions from 'Kudzu'\n",
    "from kudzu.model import Model\n",
    "from kudzu.train import Learner\n",
    "from kudzu.optim import GD\n",
    "from kudzu.data import Data, Sampler,Dataloader\n",
    "\n",
    "from kudzu.callbacks import AccCallback\n",
    "from kudzu.callbacks import ClfCallback\n",
    "\n",
    "from kudzu.loss import MSE\n",
    "\n",
    "from kudzu.layer import Sigmoid,Relu\n",
    "from kudzu.layer import Affine"
   ]
  },
  {
   "cell_type": "markdown",
   "id": "bc01172a",
   "metadata": {
    "papermill": {
     "duration": 0.026646,
     "end_time": "2022-04-07T00:35:55.894895",
     "exception": false,
     "start_time": "2022-04-07T00:35:55.868249",
     "status": "completed"
    },
    "tags": []
   },
   "source": [
    "### Let us create a `Config` class, to store important parameters. \n",
    "This class essentially plays the role of a dictionary."
   ]
  },
  {
   "cell_type": "code",
   "execution_count": 16,
   "id": "978281aa",
   "metadata": {
    "execution": {
     "iopub.execute_input": "2022-04-07T00:35:55.953801Z",
     "iopub.status.busy": "2022-04-07T00:35:55.953278Z",
     "iopub.status.idle": "2022-04-07T00:35:55.964701Z",
     "shell.execute_reply": "2022-04-07T00:35:55.964293Z"
    },
    "papermill": {
     "duration": 0.043438,
     "end_time": "2022-04-07T00:35:55.964812",
     "exception": false,
     "start_time": "2022-04-07T00:35:55.921374",
     "status": "completed"
    },
    "tags": []
   },
   "outputs": [],
   "source": [
    "class Config:\n",
    "    pass\n",
    "config = Config()\n",
    "config.lr = 0.001\n",
    "config.num_epochs = 250\n",
    "config.bs = 50"
   ]
  },
  {
   "cell_type": "markdown",
   "id": "1385fa59",
   "metadata": {
    "papermill": {
     "duration": 0.026482,
     "end_time": "2022-04-07T00:35:56.017989",
     "exception": false,
     "start_time": "2022-04-07T00:35:55.991507",
     "status": "completed"
    },
    "tags": []
   },
   "source": [
    "### Running Models with the Training data\n",
    "Details about the network layers:\n",
    "- A first affine layer has 784 inputs and does 100 affine transforms. These are followed by a Relu\n",
    "- A second affine layer has 100 inputs from the 100 activations of the past layer, and does 100 affine transforms. These are followed by a Relu\n",
    "- A third affine layer has 100 activations and does 2 affine transformations to create an embedding for visualization. There is no non-linearity here.\n",
    "- A final \"logistic regression\" which has an affine transform from 2 inputs to 1 output, which is squeezed through a sigmoid.\n"
   ]
  },
  {
   "cell_type": "code",
   "execution_count": 17,
   "id": "2b9c66db",
   "metadata": {
    "execution": {
     "iopub.execute_input": "2022-04-07T00:35:56.090721Z",
     "iopub.status.busy": "2022-04-07T00:35:56.090171Z",
     "iopub.status.idle": "2022-04-07T00:35:56.093037Z",
     "shell.execute_reply": "2022-04-07T00:35:56.092602Z"
    },
    "papermill": {
     "duration": 0.048615,
     "end_time": "2022-04-07T00:35:56.093143",
     "exception": false,
     "start_time": "2022-04-07T00:35:56.044528",
     "status": "completed"
    },
    "tags": []
   },
   "outputs": [],
   "source": [
    "data = Data(X_train, y_train.reshape(-1,1))\n",
    "sampler = Sampler(data, config.bs, shuffle=True)\n",
    "\n",
    "dl = Dataloader(data, sampler)\n",
    "\n",
    "opt = GD(config.lr)\n",
    "loss = MSE()"
   ]
  },
  {
   "cell_type": "code",
   "execution_count": 18,
   "id": "b275e4c2",
   "metadata": {
    "execution": {
     "iopub.execute_input": "2022-04-07T00:35:56.156186Z",
     "iopub.status.busy": "2022-04-07T00:35:56.155684Z",
     "iopub.status.idle": "2022-04-07T00:35:56.164879Z",
     "shell.execute_reply": "2022-04-07T00:35:56.164472Z"
    },
    "papermill": {
     "duration": 0.045438,
     "end_time": "2022-04-07T00:35:56.164984",
     "exception": false,
     "start_time": "2022-04-07T00:35:56.119546",
     "status": "completed"
    },
    "tags": []
   },
   "outputs": [],
   "source": [
    "training_data_x = X_train\n",
    "testing_data_x = X_test\n",
    "training_data_y = y_train.reshape(-1,1)\n",
    "testing_data_y = y_test.reshape(-1,1)"
   ]
  },
  {
   "cell_type": "code",
   "execution_count": 19,
   "id": "76951160",
   "metadata": {
    "execution": {
     "iopub.execute_input": "2022-04-07T00:35:56.233622Z",
     "iopub.status.busy": "2022-04-07T00:35:56.227241Z",
     "iopub.status.idle": "2022-04-07T00:35:56.239234Z",
     "shell.execute_reply": "2022-04-07T00:35:56.239613Z"
    },
    "papermill": {
     "duration": 0.048363,
     "end_time": "2022-04-07T00:35:56.239736",
     "exception": false,
     "start_time": "2022-04-07T00:35:56.191373",
     "status": "completed"
    },
    "tags": []
   },
   "outputs": [
    {
     "name": "stdout",
     "output_type": "stream",
     "text": [
      "xavier\n",
      "xavier\n",
      "xavier\n",
      "xavier\n",
      "xavier\n"
     ]
    }
   ],
   "source": [
    "layers = [Affine(\"first\", 784, 100), Relu(\"first\"), Affine(\"second\", 100, 100), Relu(\"second\"), Affine(\"third\", 100, 2), Affine(\"last\", 2, 1), Sigmoid(\"last\")]\n",
    "model_nn = Model(layers)\n",
    "model_lr = Model([Affine(\"logits\", 784, 1), Sigmoid(\"sigmoid\")])"
   ]
  },
  {
   "cell_type": "code",
   "execution_count": 20,
   "id": "6eede77a",
   "metadata": {
    "execution": {
     "iopub.execute_input": "2022-04-07T00:35:56.303222Z",
     "iopub.status.busy": "2022-04-07T00:35:56.302705Z",
     "iopub.status.idle": "2022-04-07T00:35:56.311127Z",
     "shell.execute_reply": "2022-04-07T00:35:56.311559Z"
    },
    "papermill": {
     "duration": 0.045261,
     "end_time": "2022-04-07T00:35:56.311683",
     "exception": false,
     "start_time": "2022-04-07T00:35:56.266422",
     "status": "completed"
    },
    "tags": []
   },
   "outputs": [],
   "source": [
    "nn_learner = Learner(loss, model_nn, opt, config.num_epochs)\n",
    "acc_nn = ClfCallback(nn_learner, config.bs, training_data_x , testing_data_x, training_data_y, testing_data_y)\n",
    "nn_learner.set_callbacks([acc_nn])"
   ]
  },
  {
   "cell_type": "code",
   "execution_count": 21,
   "id": "877b6cc7",
   "metadata": {
    "execution": {
     "iopub.execute_input": "2022-04-07T00:35:56.380945Z",
     "iopub.status.busy": "2022-04-07T00:35:56.375320Z",
     "iopub.status.idle": "2022-04-07T00:35:56.383242Z",
     "shell.execute_reply": "2022-04-07T00:35:56.382808Z"
    },
    "papermill": {
     "duration": 0.044979,
     "end_time": "2022-04-07T00:35:56.383348",
     "exception": false,
     "start_time": "2022-04-07T00:35:56.338369",
     "status": "completed"
    },
    "tags": []
   },
   "outputs": [],
   "source": [
    "lr_learner = Learner(loss, model_lr, opt, config.num_epochs)\n",
    "acc_lr = ClfCallback(lr_learner, config.bs, training_data_x , testing_data_x, training_data_y, testing_data_y)\n",
    "lr_learner.set_callbacks([acc_lr])"
   ]
  },
  {
   "cell_type": "code",
   "execution_count": 22,
   "id": "d9b133c3",
   "metadata": {
    "execution": {
     "iopub.execute_input": "2022-04-07T00:35:56.443817Z",
     "iopub.status.busy": "2022-04-07T00:35:56.443309Z",
     "iopub.status.idle": "2022-04-07T00:37:09.962768Z",
     "shell.execute_reply": "2022-04-07T00:37:09.963496Z"
    },
    "papermill": {
     "duration": 73.553426,
     "end_time": "2022-04-07T00:37:09.963644",
     "exception": false,
     "start_time": "2022-04-07T00:35:56.410218",
     "status": "completed"
    },
    "tags": []
   },
   "outputs": [
    {
     "name": "stdout",
     "output_type": "stream",
     "text": [
      "Epoch 0, Loss 0.2267\n",
      "Training Accuracy: 0.7669, Testing Accuracy: 0.7802\n",
      "\n"
     ]
    },
    {
     "name": "stdout",
     "output_type": "stream",
     "text": [
      "Epoch 10, Loss 0.0534\n",
      "Training Accuracy: 0.9463, Testing Accuracy: 0.9541\n",
      "\n"
     ]
    },
    {
     "name": "stdout",
     "output_type": "stream",
     "text": [
      "Epoch 20, Loss 0.0376\n",
      "Training Accuracy: 0.9596, Testing Accuracy: 0.9657\n",
      "\n"
     ]
    },
    {
     "name": "stdout",
     "output_type": "stream",
     "text": [
      "Epoch 30, Loss 0.032\n",
      "Training Accuracy: 0.9640, Testing Accuracy: 0.9708\n",
      "\n"
     ]
    },
    {
     "name": "stdout",
     "output_type": "stream",
     "text": [
      "Epoch 40, Loss 0.0289\n",
      "Training Accuracy: 0.9671, Testing Accuracy: 0.9713\n",
      "\n"
     ]
    },
    {
     "name": "stdout",
     "output_type": "stream",
     "text": [
      "Epoch 50, Loss 0.0268\n",
      "Training Accuracy: 0.9690, Testing Accuracy: 0.9718\n",
      "\n"
     ]
    },
    {
     "name": "stdout",
     "output_type": "stream",
     "text": [
      "Epoch 60, Loss 0.0253\n",
      "Training Accuracy: 0.9705, Testing Accuracy: 0.9728\n",
      "\n"
     ]
    },
    {
     "name": "stdout",
     "output_type": "stream",
     "text": [
      "Epoch 70, Loss 0.024\n",
      "Training Accuracy: 0.9715, Testing Accuracy: 0.9738\n",
      "\n"
     ]
    },
    {
     "name": "stdout",
     "output_type": "stream",
     "text": [
      "Epoch 80, Loss 0.0229\n",
      "Training Accuracy: 0.9729, Testing Accuracy: 0.9723\n",
      "\n"
     ]
    },
    {
     "name": "stdout",
     "output_type": "stream",
     "text": [
      "Epoch 90, Loss 0.022\n",
      "Training Accuracy: 0.9750, Testing Accuracy: 0.9733\n",
      "\n"
     ]
    },
    {
     "name": "stdout",
     "output_type": "stream",
     "text": [
      "Epoch 100, Loss 0.0212\n",
      "Training Accuracy: 0.9759, Testing Accuracy: 0.9758\n",
      "\n"
     ]
    },
    {
     "name": "stdout",
     "output_type": "stream",
     "text": [
      "Epoch 110, Loss 0.0205\n",
      "Training Accuracy: 0.9769, Testing Accuracy: 0.9763\n",
      "\n"
     ]
    },
    {
     "name": "stdout",
     "output_type": "stream",
     "text": [
      "Epoch 120, Loss 0.0198\n",
      "Training Accuracy: 0.9776, Testing Accuracy: 0.9763\n",
      "\n"
     ]
    },
    {
     "name": "stdout",
     "output_type": "stream",
     "text": [
      "Epoch 130, Loss 0.0192\n",
      "Training Accuracy: 0.9785, Testing Accuracy: 0.9758\n",
      "\n"
     ]
    },
    {
     "name": "stdout",
     "output_type": "stream",
     "text": [
      "Epoch 140, Loss 0.0185\n",
      "Training Accuracy: 0.9793, Testing Accuracy: 0.9758\n",
      "\n"
     ]
    },
    {
     "name": "stdout",
     "output_type": "stream",
     "text": [
      "Epoch 150, Loss 0.018\n",
      "Training Accuracy: 0.9798, Testing Accuracy: 0.9768\n",
      "\n"
     ]
    },
    {
     "name": "stdout",
     "output_type": "stream",
     "text": [
      "Epoch 160, Loss 0.0174\n",
      "Training Accuracy: 0.9809, Testing Accuracy: 0.9768\n",
      "\n"
     ]
    },
    {
     "name": "stdout",
     "output_type": "stream",
     "text": [
      "Epoch 170, Loss 0.0169\n",
      "Training Accuracy: 0.9814, Testing Accuracy: 0.9773\n",
      "\n"
     ]
    },
    {
     "name": "stdout",
     "output_type": "stream",
     "text": [
      "Epoch 180, Loss 0.0164\n",
      "Training Accuracy: 0.9821, Testing Accuracy: 0.9773\n",
      "\n"
     ]
    },
    {
     "name": "stdout",
     "output_type": "stream",
     "text": [
      "Epoch 190, Loss 0.0159\n",
      "Training Accuracy: 0.9827, Testing Accuracy: 0.9773\n",
      "\n"
     ]
    },
    {
     "name": "stdout",
     "output_type": "stream",
     "text": [
      "Epoch 200, Loss 0.0154\n",
      "Training Accuracy: 0.9836, Testing Accuracy: 0.9773\n",
      "\n"
     ]
    },
    {
     "name": "stdout",
     "output_type": "stream",
     "text": [
      "Epoch 210, Loss 0.015\n",
      "Training Accuracy: 0.9841, Testing Accuracy: 0.9773\n",
      "\n"
     ]
    },
    {
     "name": "stdout",
     "output_type": "stream",
     "text": [
      "Epoch 220, Loss 0.0146\n",
      "Training Accuracy: 0.9848, Testing Accuracy: 0.9778\n",
      "\n"
     ]
    },
    {
     "name": "stdout",
     "output_type": "stream",
     "text": [
      "Epoch 230, Loss 0.0142\n",
      "Training Accuracy: 0.9851, Testing Accuracy: 0.9778\n",
      "\n"
     ]
    },
    {
     "name": "stdout",
     "output_type": "stream",
     "text": [
      "Epoch 240, Loss 0.0138\n",
      "Training Accuracy: 0.9858, Testing Accuracy: 0.9788\n",
      "\n"
     ]
    },
    {
     "data": {
      "text/plain": [
       "0.007194108697691264"
      ]
     },
     "execution_count": 22,
     "metadata": {},
     "output_type": "execute_result"
    }
   ],
   "source": [
    "nn_learner.train_loop(dl)"
   ]
  },
  {
   "cell_type": "code",
   "execution_count": 23,
   "id": "e0163366",
   "metadata": {
    "execution": {
     "iopub.execute_input": "2022-04-07T00:37:10.043967Z",
     "iopub.status.busy": "2022-04-07T00:37:10.043439Z",
     "iopub.status.idle": "2022-04-07T00:37:23.137129Z",
     "shell.execute_reply": "2022-04-07T00:37:23.137868Z"
    },
    "papermill": {
     "duration": 13.140039,
     "end_time": "2022-04-07T00:37:23.138017",
     "exception": false,
     "start_time": "2022-04-07T00:37:09.997978",
     "status": "completed"
    },
    "tags": []
   },
   "outputs": [
    {
     "name": "stdout",
     "output_type": "stream",
     "text": [
      "Epoch 0, Loss 0.2399\n",
      "Training Accuracy: 0.6963, Testing Accuracy: 0.7172\n",
      "\n"
     ]
    },
    {
     "name": "stdout",
     "output_type": "stream",
     "text": [
      "Epoch 10, Loss 0.1056\n",
      "Training Accuracy: 0.8999, Testing Accuracy: 0.9078\n",
      "\n"
     ]
    },
    {
     "name": "stdout",
     "output_type": "stream",
     "text": [
      "Epoch 20, Loss 0.0812\n",
      "Training Accuracy: 0.9205, Testing Accuracy: 0.9299\n",
      "\n"
     ]
    },
    {
     "name": "stdout",
     "output_type": "stream",
     "text": [
      "Epoch 30, Loss 0.0696\n",
      "Training Accuracy: 0.9317, Testing Accuracy: 0.9410\n",
      "\n"
     ]
    },
    {
     "name": "stdout",
     "output_type": "stream",
     "text": [
      "Epoch 40, Loss 0.0627\n",
      "Training Accuracy: 0.9397, Testing Accuracy: 0.9476\n",
      "\n"
     ]
    },
    {
     "name": "stdout",
     "output_type": "stream",
     "text": [
      "Epoch 50, Loss 0.0579\n",
      "Training Accuracy: 0.9437, Testing Accuracy: 0.9516\n",
      "\n"
     ]
    },
    {
     "name": "stdout",
     "output_type": "stream",
     "text": [
      "Epoch 60, Loss 0.0544\n",
      "Training Accuracy: 0.9462, Testing Accuracy: 0.9536\n",
      "\n"
     ]
    },
    {
     "name": "stdout",
     "output_type": "stream",
     "text": [
      "Epoch 70, Loss 0.0517\n",
      "Training Accuracy: 0.9490, Testing Accuracy: 0.9567\n",
      "\n"
     ]
    },
    {
     "name": "stdout",
     "output_type": "stream",
     "text": [
      "Epoch 80, Loss 0.0496\n",
      "Training Accuracy: 0.9504, Testing Accuracy: 0.9602\n",
      "\n"
     ]
    },
    {
     "name": "stdout",
     "output_type": "stream",
     "text": [
      "Epoch 90, Loss 0.0478\n",
      "Training Accuracy: 0.9523, Testing Accuracy: 0.9602\n",
      "\n"
     ]
    },
    {
     "name": "stdout",
     "output_type": "stream",
     "text": [
      "Epoch 100, Loss 0.0464\n",
      "Training Accuracy: 0.9529, Testing Accuracy: 0.9612\n",
      "\n"
     ]
    },
    {
     "name": "stdout",
     "output_type": "stream",
     "text": [
      "Epoch 110, Loss 0.0451\n",
      "Training Accuracy: 0.9538, Testing Accuracy: 0.9617\n",
      "\n"
     ]
    },
    {
     "name": "stdout",
     "output_type": "stream",
     "text": [
      "Epoch 120, Loss 0.044\n",
      "Training Accuracy: 0.9546, Testing Accuracy: 0.9622\n",
      "\n"
     ]
    },
    {
     "name": "stdout",
     "output_type": "stream",
     "text": [
      "Epoch 130, Loss 0.0431\n",
      "Training Accuracy: 0.9558, Testing Accuracy: 0.9627\n",
      "\n"
     ]
    },
    {
     "name": "stdout",
     "output_type": "stream",
     "text": [
      "Epoch 140, Loss 0.0422\n",
      "Training Accuracy: 0.9566, Testing Accuracy: 0.9637\n",
      "\n"
     ]
    },
    {
     "name": "stdout",
     "output_type": "stream",
     "text": [
      "Epoch 150, Loss 0.0414\n",
      "Training Accuracy: 0.9570, Testing Accuracy: 0.9637\n",
      "\n"
     ]
    },
    {
     "name": "stdout",
     "output_type": "stream",
     "text": [
      "Epoch 160, Loss 0.0408\n",
      "Training Accuracy: 0.9574, Testing Accuracy: 0.9642\n",
      "\n"
     ]
    },
    {
     "name": "stdout",
     "output_type": "stream",
     "text": [
      "Epoch 170, Loss 0.0401\n",
      "Training Accuracy: 0.9583, Testing Accuracy: 0.9652\n",
      "\n"
     ]
    },
    {
     "name": "stdout",
     "output_type": "stream",
     "text": [
      "Epoch 180, Loss 0.0396\n",
      "Training Accuracy: 0.9587, Testing Accuracy: 0.9647\n",
      "\n"
     ]
    },
    {
     "name": "stdout",
     "output_type": "stream",
     "text": [
      "Epoch 190, Loss 0.039\n",
      "Training Accuracy: 0.9590, Testing Accuracy: 0.9647\n",
      "\n"
     ]
    },
    {
     "name": "stdout",
     "output_type": "stream",
     "text": [
      "Epoch 200, Loss 0.0386\n",
      "Training Accuracy: 0.9593, Testing Accuracy: 0.9652\n",
      "\n"
     ]
    },
    {
     "name": "stdout",
     "output_type": "stream",
     "text": [
      "Epoch 210, Loss 0.0381\n",
      "Training Accuracy: 0.9594, Testing Accuracy: 0.9647\n",
      "\n"
     ]
    },
    {
     "name": "stdout",
     "output_type": "stream",
     "text": [
      "Epoch 220, Loss 0.0377\n",
      "Training Accuracy: 0.9596, Testing Accuracy: 0.9652\n",
      "\n"
     ]
    },
    {
     "name": "stdout",
     "output_type": "stream",
     "text": [
      "Epoch 230, Loss 0.0373\n",
      "Training Accuracy: 0.9598, Testing Accuracy: 0.9657\n",
      "\n"
     ]
    },
    {
     "name": "stdout",
     "output_type": "stream",
     "text": [
      "Epoch 240, Loss 0.0369\n",
      "Training Accuracy: 0.9599, Testing Accuracy: 0.9662\n",
      "\n"
     ]
    },
    {
     "data": {
      "text/plain": [
       "0.036635029340692564"
      ]
     },
     "execution_count": 23,
     "metadata": {},
     "output_type": "execute_result"
    }
   ],
   "source": [
    "lr_learner.train_loop(dl)"
   ]
  },
  {
   "cell_type": "code",
   "execution_count": 24,
   "id": "ca410940",
   "metadata": {
    "execution": {
     "iopub.execute_input": "2022-04-07T00:37:23.228440Z",
     "iopub.status.busy": "2022-04-07T00:37:23.227904Z",
     "iopub.status.idle": "2022-04-07T00:37:23.456980Z",
     "shell.execute_reply": "2022-04-07T00:37:23.457371Z"
    },
    "papermill": {
     "duration": 0.277871,
     "end_time": "2022-04-07T00:37:23.457511",
     "exception": false,
     "start_time": "2022-04-07T00:37:23.179640",
     "status": "completed"
    },
    "tags": []
   },
   "outputs": [
    {
     "data": {
      "text/plain": [
       "<matplotlib.legend.Legend at 0x7fdc726c2be0>"
      ]
     },
     "execution_count": 24,
     "metadata": {},
     "output_type": "execute_result"
    },
    {
     "data": {
      "image/png": "[encoded data removed]",
      "text/plain": [
       "<Figure size 1080x720 with 1 Axes>"
      ]
     },
     "metadata": {
      "needs_background": "light"
     },
     "output_type": "display_data"
    }
   ],
   "source": [
    "#comparing the results of NN and LR\n",
    "plt.figure(figsize=(15,10))\n",
    "\n",
    "# Neural Network plots\n",
    "plt.plot(acc_nn.accuracies, 'r-', label = \"Training Accuracies - NN\")\n",
    "plt.plot(acc_nn.test_accuracies, 'g-', label = \"Testing Accuracies - NN\")\n",
    "\n",
    "# Logistic Regression plots\n",
    "plt.plot(acc_lr.accuracies, 'k-', label = \"Training Accuracies - LR\")\n",
    "plt.plot(acc_lr.test_accuracies, 'b-', label = \"Testing Accuracies - LR\")\n",
    "plt.legend()"
   ]
  },
  {
   "cell_type": "markdown",
   "id": "80dfb35c",
   "metadata": {
    "papermill": {
     "duration": 0.041377,
     "end_time": "2022-04-07T00:37:23.540768",
     "exception": false,
     "start_time": "2022-04-07T00:37:23.499391",
     "status": "completed"
    },
    "tags": []
   },
   "source": [
    "#### Plotting the outputs of this layer of the NN.\n"
   ]
  },
  {
   "cell_type": "code",
   "execution_count": 25,
   "id": "45eb2ff5",
   "metadata": {
    "execution": {
     "iopub.execute_input": "2022-04-07T00:37:23.633920Z",
     "iopub.status.busy": "2022-04-07T00:37:23.633377Z",
     "iopub.status.idle": "2022-04-07T00:37:23.651016Z",
     "shell.execute_reply": "2022-04-07T00:37:23.651448Z"
    },
    "papermill": {
     "duration": 0.069412,
     "end_time": "2022-04-07T00:37:23.651583",
     "exception": false,
     "start_time": "2022-04-07T00:37:23.582171",
     "status": "completed"
    },
    "tags": []
   },
   "outputs": [],
   "source": [
    "new_model = Model(layers[:-2])\n",
    "testing_plot = new_model(testing_data_x)"
   ]
  },
  {
   "cell_type": "code",
   "execution_count": 26,
   "id": "4c0a5485",
   "metadata": {
    "execution": {
     "iopub.execute_input": "2022-04-07T00:37:23.743016Z",
     "iopub.status.busy": "2022-04-07T00:37:23.742482Z",
     "iopub.status.idle": "2022-04-07T00:37:23.949609Z",
     "shell.execute_reply": "2022-04-07T00:37:23.949177Z"
    },
    "papermill": {
     "duration": 0.255245,
     "end_time": "2022-04-07T00:37:23.949725",
     "exception": false,
     "start_time": "2022-04-07T00:37:23.694480",
     "status": "completed"
    },
    "tags": []
   },
   "outputs": [
    {
     "data": {
      "text/plain": [
       "Text(0.5, 1.0, 'Outputs')"
      ]
     },
     "execution_count": 26,
     "metadata": {},
     "output_type": "execute_result"
    },
    {
     "data": {
      "image/png": "[encoded data removed]",
      "text/plain": [
       "<Figure size 576x504 with 1 Axes>"
      ]
     },
     "metadata": {
      "needs_background": "light"
     },
     "output_type": "display_data"
    }
   ],
   "source": [
    "# Plotting the scatter plot of points and color coding by class\n",
    "plt.figure(figsize=(8,7))\n",
    "plt.scatter(testing_plot[:,0], testing_plot[:,1], alpha = 0.1, c = y_test.ravel());\n",
    "plt.title('Outputs')"
   ]
  },
  {
   "cell_type": "markdown",
   "id": "a74fcf8f",
   "metadata": {
    "papermill": {
     "duration": 0.043823,
     "end_time": "2022-04-07T00:37:24.037517",
     "exception": false,
     "start_time": "2022-04-07T00:37:23.993694",
     "status": "completed"
    },
    "tags": []
   },
   "source": [
    "Probability contours"
   ]
  },
  {
   "cell_type": "code",
   "execution_count": 27,
   "id": "d0afc8e3",
   "metadata": {
    "execution": {
     "iopub.execute_input": "2022-04-07T00:37:24.132476Z",
     "iopub.status.busy": "2022-04-07T00:37:24.130947Z",
     "iopub.status.idle": "2022-04-07T00:37:24.141708Z",
     "shell.execute_reply": "2022-04-07T00:37:24.141269Z"
    },
    "papermill": {
     "duration": 0.060228,
     "end_time": "2022-04-07T00:37:24.141815",
     "exception": false,
     "start_time": "2022-04-07T00:37:24.081587",
     "status": "completed"
    },
    "tags": []
   },
   "outputs": [],
   "source": [
    "model_prob = Model(layers[-2:]) "
   ]
  },
  {
   "cell_type": "code",
   "execution_count": 28,
   "id": "9b96e238",
   "metadata": {
    "execution": {
     "iopub.execute_input": "2022-04-07T00:37:24.234708Z",
     "iopub.status.busy": "2022-04-07T00:37:24.234148Z",
     "iopub.status.idle": "2022-04-07T00:37:24.247246Z",
     "shell.execute_reply": "2022-04-07T00:37:24.248288Z"
    },
    "papermill": {
     "duration": 0.062777,
     "end_time": "2022-04-07T00:37:24.248443",
     "exception": false,
     "start_time": "2022-04-07T00:37:24.185666",
     "status": "completed"
    },
    "tags": []
   },
   "outputs": [],
   "source": [
    "#creating the x and y ranges according to the above generated plot.\n",
    "x_range = np.linspace(-4, 1, 100) \n",
    "y_range = np.linspace(-6, 6, 100) \n",
    "x_grid, y_grid = np.meshgrid(x_range, y_range) # x_grid and y_grig are of size 100 X 100\n",
    "\n",
    "# converting x_grid and y_grid to continuous arrays\n",
    "x_gridflat = np.ravel(x_grid)\n",
    "y_gridflat = np.ravel(y_grid)\n",
    "\n",
    "# The last layer of the current model takes two columns as input. Hence transpose of np.vstack() is required.\n",
    "X = np.vstack((x_gridflat, y_gridflat)).T\n",
    "\n",
    "prob_contour = model_prob(X).reshape(100,100) "
   ]
  },
  {
   "cell_type": "code",
   "execution_count": 29,
   "id": "da72499a",
   "metadata": {
    "execution": {
     "iopub.execute_input": "2022-04-07T00:37:24.367738Z",
     "iopub.status.busy": "2022-04-07T00:37:24.367216Z",
     "iopub.status.idle": "2022-04-07T00:37:24.616357Z",
     "shell.execute_reply": "2022-04-07T00:37:24.615897Z"
    },
    "papermill": {
     "duration": 0.32344,
     "end_time": "2022-04-07T00:37:24.616475",
     "exception": false,
     "start_time": "2022-04-07T00:37:24.293035",
     "status": "completed"
    },
    "tags": []
   },
   "outputs": [
    {
     "data": {
      "image/png": "[encoded data removed]",
      "text/plain": [
       "<Figure size 720x648 with 1 Axes>"
      ]
     },
     "metadata": {
      "needs_background": "light"
     },
     "output_type": "display_data"
    }
   ],
   "source": [
    "plt.figure(figsize=(10,9))\n",
    "plt.scatter(testing_plot[:,0], testing_plot[:,1], alpha = 0.1, c = y_test.ravel())\n",
    "contours = plt.contour(x_grid,y_grid,prob_contour)\n",
    "plt.title('Probability Contours')\n",
    "plt.clabel(contours, inline = True );"
   ]
  },
  {
   "cell_type": "code",
   "execution_count": null,
   "id": "e81b4ac7",
   "metadata": {
    "papermill": {
     "duration": 0.046937,
     "end_time": "2022-04-07T00:37:24.710720",
     "exception": false,
     "start_time": "2022-04-07T00:37:24.663783",
     "status": "completed"
    },
    "tags": []
   },
   "outputs": [],
   "source": []
  }
 ],
 "metadata": {
  "kernelspec": {
   "display_name": "Python 3",
   "language": "python",
   "name": "python3"
  },
  "language_info": {
   "codemirror_mode": {
    "name": "ipython",
    "version": 3
   },
   "file_extension": ".py",
   "mimetype": "text/x-python",
   "name": "python",
   "nbconvert_exporter": "python",
   "pygments_lexer": "ipython3",
   "version": "3.6.15"
  },
  "papermill": {
   "default_parameters": {},
   "duration": 94.565191,
   "end_time": "2022-04-07T00:37:25.175227",
   "environment_variables": {},
   "exception": null,
   "input_path": "2020-08-11-part2.ipynb",
   "output_path": "2020-08-11-part2.ipynb",
   "parameters": {},
   "start_time": "2022-04-07T00:35:50.610036",
   "version": "2.3.3"
  }
 },
 "nbformat": 4,
 "nbformat_minor": 5
}