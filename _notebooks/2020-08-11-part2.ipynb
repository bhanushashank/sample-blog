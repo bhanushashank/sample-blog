{
 "cells": [
  {
   "cell_type": "markdown",
   "id": "98380cd3",
   "metadata": {
    "papermill": {
     "duration": 0.027163,
     "end_time": "2022-01-30T10:07:18.246806",
     "exception": false,
     "start_time": "2022-01-30T10:07:18.219643",
     "status": "completed"
    },
    "tags": []
   },
   "source": [
    "# Distinguish Your Own Digits (DYOD)"
   ]
  },
  {
   "cell_type": "markdown",
   "id": "ef31240d",
   "metadata": {
    "papermill": {
     "duration": 0.021072,
     "end_time": "2022-01-30T10:07:18.289547",
     "exception": false,
     "start_time": "2022-01-30T10:07:18.268475",
     "status": "completed"
    },
    "tags": []
   },
   "source": [
    "You are going to write a classifier that distinguishes between the number 3 and number 8."
   ]
  },
  {
   "cell_type": "code",
   "execution_count": 1,
   "id": "b15c8646",
   "metadata": {
    "execution": {
     "iopub.execute_input": "2022-01-30T10:07:18.343551Z",
     "iopub.status.busy": "2022-01-30T10:07:18.343084Z",
     "iopub.status.idle": "2022-01-30T10:07:18.353054Z",
     "shell.execute_reply": "2022-01-30T10:07:18.353488Z"
    },
    "papermill": {
     "duration": 0.043125,
     "end_time": "2022-01-30T10:07:18.353630",
     "exception": false,
     "start_time": "2022-01-30T10:07:18.310505",
     "status": "completed"
    },
    "tags": []
   },
   "outputs": [],
   "source": [
    "%load_ext autoreload\n",
    "%autoreload 2"
   ]
  },
  {
   "cell_type": "code",
   "execution_count": 2,
   "id": "22ef38dc",
   "metadata": {
    "execution": {
     "iopub.execute_input": "2022-01-30T10:07:18.411910Z",
     "iopub.status.busy": "2022-01-30T10:07:18.409897Z",
     "iopub.status.idle": "2022-01-30T10:07:18.993354Z",
     "shell.execute_reply": "2022-01-30T10:07:18.992786Z"
    },
    "papermill": {
     "duration": 0.618711,
     "end_time": "2022-01-30T10:07:18.993491",
     "exception": false,
     "start_time": "2022-01-30T10:07:18.374780",
     "status": "completed"
    },
    "tags": []
   },
   "outputs": [],
   "source": [
    "%matplotlib inline\n",
    "import numpy as np\n",
    "import matplotlib.pyplot as plt\n",
    "import pandas as pd"
   ]
  },
  {
   "cell_type": "markdown",
   "id": "ba036198",
   "metadata": {
    "papermill": {
     "duration": 0.021226,
     "end_time": "2022-01-30T10:07:19.037494",
     "exception": false,
     "start_time": "2022-01-30T10:07:19.016268",
     "status": "completed"
    },
    "tags": []
   },
   "source": [
    "From the command line run `pip install mnist`. This is a library that will help you bring down the mnist dataset. If you run this from a notebook, you need to put  `!pip install mnist` in a cell by itself."
   ]
  },
  {
   "cell_type": "code",
   "execution_count": 3,
   "id": "bb6ad8a1",
   "metadata": {
    "execution": {
     "iopub.execute_input": "2022-01-30T10:07:19.091819Z",
     "iopub.status.busy": "2022-01-30T10:07:19.091343Z",
     "iopub.status.idle": "2022-01-30T10:07:21.541827Z",
     "shell.execute_reply": "2022-01-30T10:07:21.541293Z"
    },
    "papermill": {
     "duration": 2.483088,
     "end_time": "2022-01-30T10:07:21.541971",
     "exception": false,
     "start_time": "2022-01-30T10:07:19.058883",
     "status": "completed"
    },
    "tags": []
   },
   "outputs": [
    {
     "name": "stdout",
     "output_type": "stream",
     "text": [
      "Collecting mnist\r\n"
     ]
    },
    {
     "name": "stdout",
     "output_type": "stream",
     "text": [
      "  Downloading mnist-0.2.2-py2.py3-none-any.whl (3.5 kB)\r\n",
      "Requirement already satisfied: numpy in /opt/hostedtoolcache/Python/3.6.15/x64/lib/python3.6/site-packages (from mnist) (1.19.5)\r\n"
     ]
    },
    {
     "name": "stdout",
     "output_type": "stream",
     "text": [
      "Installing collected packages: mnist\r\n",
      "Successfully installed mnist-0.2.2\r\n"
     ]
    }
   ],
   "source": [
    "!pip install mnist"
   ]
  },
  {
   "cell_type": "markdown",
   "id": "69df9c9a",
   "metadata": {
    "papermill": {
     "duration": 0.021871,
     "end_time": "2022-01-30T10:07:21.587650",
     "exception": false,
     "start_time": "2022-01-30T10:07:21.565779",
     "status": "completed"
    },
    "tags": []
   },
   "source": [
    "## Preparing the Data"
   ]
  },
  {
   "cell_type": "code",
   "execution_count": 4,
   "id": "7f69d806",
   "metadata": {
    "execution": {
     "iopub.execute_input": "2022-01-30T10:07:21.639653Z",
     "iopub.status.busy": "2022-01-30T10:07:21.639178Z",
     "iopub.status.idle": "2022-01-30T10:07:21.651295Z",
     "shell.execute_reply": "2022-01-30T10:07:21.650903Z"
    },
    "papermill": {
     "duration": 0.042018,
     "end_time": "2022-01-30T10:07:21.651405",
     "exception": false,
     "start_time": "2022-01-30T10:07:21.609387",
     "status": "completed"
    },
    "tags": []
   },
   "outputs": [],
   "source": [
    "import mnist"
   ]
  },
  {
   "cell_type": "code",
   "execution_count": 5,
   "id": "a411e44f",
   "metadata": {
    "execution": {
     "iopub.execute_input": "2022-01-30T10:07:21.698297Z",
     "iopub.status.busy": "2022-01-30T10:07:21.697840Z",
     "iopub.status.idle": "2022-01-30T10:07:22.229163Z",
     "shell.execute_reply": "2022-01-30T10:07:22.228632Z"
    },
    "papermill": {
     "duration": 0.556068,
     "end_time": "2022-01-30T10:07:22.229304",
     "exception": false,
     "start_time": "2022-01-30T10:07:21.673236",
     "status": "completed"
    },
    "tags": []
   },
   "outputs": [],
   "source": [
    "train_images = mnist.train_images()\n",
    "train_labels = mnist.train_labels()"
   ]
  },
  {
   "cell_type": "code",
   "execution_count": 6,
   "id": "dceab3a5",
   "metadata": {
    "execution": {
     "iopub.execute_input": "2022-01-30T10:07:22.276684Z",
     "iopub.status.busy": "2022-01-30T10:07:22.276221Z",
     "iopub.status.idle": "2022-01-30T10:07:22.290898Z",
     "shell.execute_reply": "2022-01-30T10:07:22.290524Z"
    },
    "papermill": {
     "duration": 0.0397,
     "end_time": "2022-01-30T10:07:22.290999",
     "exception": false,
     "start_time": "2022-01-30T10:07:22.251299",
     "status": "completed"
    },
    "tags": []
   },
   "outputs": [
    {
     "data": {
      "text/plain": [
       "((60000, 28, 28), (60000,))"
      ]
     },
     "execution_count": 6,
     "metadata": {},
     "output_type": "execute_result"
    }
   ],
   "source": [
    "train_images.shape, train_labels.shape"
   ]
  },
  {
   "cell_type": "code",
   "execution_count": 7,
   "id": "f50dc2bb",
   "metadata": {
    "execution": {
     "iopub.execute_input": "2022-01-30T10:07:22.342620Z",
     "iopub.status.busy": "2022-01-30T10:07:22.342139Z",
     "iopub.status.idle": "2022-01-30T10:07:22.474108Z",
     "shell.execute_reply": "2022-01-30T10:07:22.474545Z"
    },
    "papermill": {
     "duration": 0.16201,
     "end_time": "2022-01-30T10:07:22.474688",
     "exception": false,
     "start_time": "2022-01-30T10:07:22.312678",
     "status": "completed"
    },
    "tags": []
   },
   "outputs": [],
   "source": [
    "test_images = mnist.test_images()\n",
    "test_labels = mnist.test_labels()"
   ]
  },
  {
   "cell_type": "code",
   "execution_count": 8,
   "id": "fc38cf1b",
   "metadata": {
    "execution": {
     "iopub.execute_input": "2022-01-30T10:07:22.523295Z",
     "iopub.status.busy": "2022-01-30T10:07:22.522817Z",
     "iopub.status.idle": "2022-01-30T10:07:22.535557Z",
     "shell.execute_reply": "2022-01-30T10:07:22.535164Z"
    },
    "papermill": {
     "duration": 0.038629,
     "end_time": "2022-01-30T10:07:22.535659",
     "exception": false,
     "start_time": "2022-01-30T10:07:22.497030",
     "status": "completed"
    },
    "tags": []
   },
   "outputs": [
    {
     "data": {
      "text/plain": [
       "((10000, 28, 28), (10000,))"
      ]
     },
     "execution_count": 8,
     "metadata": {},
     "output_type": "execute_result"
    }
   ],
   "source": [
    "test_images.shape, test_labels.shape"
   ]
  },
  {
   "cell_type": "code",
   "execution_count": 9,
   "id": "f9ed8fe0",
   "metadata": {
    "execution": {
     "iopub.execute_input": "2022-01-30T10:07:22.586458Z",
     "iopub.status.busy": "2022-01-30T10:07:22.585969Z",
     "iopub.status.idle": "2022-01-30T10:07:22.723874Z",
     "shell.execute_reply": "2022-01-30T10:07:22.723370Z"
    },
    "papermill": {
     "duration": 0.166297,
     "end_time": "2022-01-30T10:07:22.724015",
     "exception": false,
     "start_time": "2022-01-30T10:07:22.557718",
     "status": "completed"
    },
    "tags": []
   },
   "outputs": [
    {
     "name": "stdout",
     "output_type": "stream",
     "text": [
      "2\n"
     ]
    },
    {
     "data": {
      "text/plain": [
       "<matplotlib.image.AxesImage at 0x7efd1c640c18>"
      ]
     },
     "execution_count": 9,
     "metadata": {},
     "output_type": "execute_result"
    },
    {
     "data": {
      "image/png": "[encoded data removed]",
      "text/plain": [
       "<Figure size 432x288 with 1 Axes>"
      ]
     },
     "metadata": {
      "needs_background": "light"
     },
     "output_type": "display_data"
    }
   ],
   "source": [
    "image_index = 7776 # You may select anything up to 60,000\n",
    "print(train_labels[image_index]) \n",
    "plt.imshow(train_images[image_index], cmap='Greys')"
   ]
  },
  {
   "cell_type": "markdown",
   "id": "a8d2388d",
   "metadata": {
    "papermill": {
     "duration": 0.023619,
     "end_time": "2022-01-30T10:07:22.771970",
     "exception": false,
     "start_time": "2022-01-30T10:07:22.748351",
     "status": "completed"
    },
    "tags": []
   },
   "source": [
    "## Filter data to get 3 and 8 out"
   ]
  },
  {
   "cell_type": "code",
   "execution_count": 10,
   "id": "776f7fc7",
   "metadata": {
    "execution": {
     "iopub.execute_input": "2022-01-30T10:07:22.837158Z",
     "iopub.status.busy": "2022-01-30T10:07:22.828973Z",
     "iopub.status.idle": "2022-01-30T10:07:22.846193Z",
     "shell.execute_reply": "2022-01-30T10:07:22.845790Z"
    },
    "papermill": {
     "duration": 0.051003,
     "end_time": "2022-01-30T10:07:22.846303",
     "exception": false,
     "start_time": "2022-01-30T10:07:22.795300",
     "status": "completed"
    },
    "tags": []
   },
   "outputs": [],
   "source": [
    "train_filter = np.where((train_labels == 3 ) | (train_labels == 8))\n",
    "test_filter = np.where((test_labels == 3) | (test_labels == 8))\n",
    "X_train, y_train = train_images[train_filter], train_labels[train_filter]\n",
    "X_test, y_test = test_images[test_filter], test_labels[test_filter]"
   ]
  },
  {
   "cell_type": "markdown",
   "id": "948f0b7e",
   "metadata": {
    "papermill": {
     "duration": 0.023198,
     "end_time": "2022-01-30T10:07:22.893109",
     "exception": false,
     "start_time": "2022-01-30T10:07:22.869911",
     "status": "completed"
    },
    "tags": []
   },
   "source": [
    "We normalize the pizel values in the 0 to 1 range"
   ]
  },
  {
   "cell_type": "code",
   "execution_count": 11,
   "id": "ee4c2166",
   "metadata": {
    "execution": {
     "iopub.execute_input": "2022-01-30T10:07:22.942848Z",
     "iopub.status.busy": "2022-01-30T10:07:22.942341Z",
     "iopub.status.idle": "2022-01-30T10:07:22.992600Z",
     "shell.execute_reply": "2022-01-30T10:07:22.992067Z"
    },
    "papermill": {
     "duration": 0.076608,
     "end_time": "2022-01-30T10:07:22.992747",
     "exception": false,
     "start_time": "2022-01-30T10:07:22.916139",
     "status": "completed"
    },
    "tags": []
   },
   "outputs": [],
   "source": [
    "X_train = X_train/255.\n",
    "X_test = X_test/255."
   ]
  },
  {
   "cell_type": "markdown",
   "id": "ddcf4fab",
   "metadata": {
    "papermill": {
     "duration": 0.023218,
     "end_time": "2022-01-30T10:07:23.041245",
     "exception": false,
     "start_time": "2022-01-30T10:07:23.018027",
     "status": "completed"
    },
    "tags": []
   },
   "source": [
    "And setup the labels as 1 (when the digit is 3) and 0 (when the digit is 8)"
   ]
  },
  {
   "cell_type": "code",
   "execution_count": 12,
   "id": "7dc908f2",
   "metadata": {
    "execution": {
     "iopub.execute_input": "2022-01-30T10:07:23.094978Z",
     "iopub.status.busy": "2022-01-30T10:07:23.094494Z",
     "iopub.status.idle": "2022-01-30T10:07:23.104468Z",
     "shell.execute_reply": "2022-01-30T10:07:23.104075Z"
    },
    "papermill": {
     "duration": 0.040234,
     "end_time": "2022-01-30T10:07:23.104572",
     "exception": false,
     "start_time": "2022-01-30T10:07:23.064338",
     "status": "completed"
    },
    "tags": []
   },
   "outputs": [],
   "source": [
    "y_train = 1*(y_train==3)\n",
    "y_test = 1*(y_test==3)"
   ]
  },
  {
   "cell_type": "code",
   "execution_count": 13,
   "id": "01e4e969",
   "metadata": {
    "execution": {
     "iopub.execute_input": "2022-01-30T10:07:23.154239Z",
     "iopub.status.busy": "2022-01-30T10:07:23.153787Z",
     "iopub.status.idle": "2022-01-30T10:07:23.167021Z",
     "shell.execute_reply": "2022-01-30T10:07:23.166651Z"
    },
    "papermill": {
     "duration": 0.039368,
     "end_time": "2022-01-30T10:07:23.167125",
     "exception": false,
     "start_time": "2022-01-30T10:07:23.127757",
     "status": "completed"
    },
    "tags": []
   },
   "outputs": [
    {
     "data": {
      "text/plain": [
       "((11982, 28, 28), (1984, 28, 28))"
      ]
     },
     "execution_count": 13,
     "metadata": {},
     "output_type": "execute_result"
    }
   ],
   "source": [
    "X_train.shape, X_test.shape"
   ]
  },
  {
   "cell_type": "markdown",
   "id": "5ccf3f85",
   "metadata": {
    "papermill": {
     "duration": 0.023247,
     "end_time": "2022-01-30T10:07:23.213639",
     "exception": false,
     "start_time": "2022-01-30T10:07:23.190392",
     "status": "completed"
    },
    "tags": []
   },
   "source": [
    "We reshape the data to flatten the image pixels into a set of features or co-variates:"
   ]
  },
  {
   "cell_type": "code",
   "execution_count": 14,
   "id": "5286a4a3",
   "metadata": {
    "execution": {
     "iopub.execute_input": "2022-01-30T10:07:23.279903Z",
     "iopub.status.busy": "2022-01-30T10:07:23.277656Z",
     "iopub.status.idle": "2022-01-30T10:07:23.283655Z",
     "shell.execute_reply": "2022-01-30T10:07:23.283283Z"
    },
    "papermill": {
     "duration": 0.046851,
     "end_time": "2022-01-30T10:07:23.283764",
     "exception": false,
     "start_time": "2022-01-30T10:07:23.236913",
     "status": "completed"
    },
    "tags": []
   },
   "outputs": [
    {
     "data": {
      "text/plain": [
       "((11982, 784), (1984, 784))"
      ]
     },
     "execution_count": 14,
     "metadata": {},
     "output_type": "execute_result"
    }
   ],
   "source": [
    "X_train = X_train.reshape(X_train.shape[0], -1)\n",
    "X_test = X_test.reshape(X_test.shape[0], -1)\n",
    "X_train.shape, X_test.shape"
   ]
  },
  {
   "cell_type": "code",
   "execution_count": 15,
   "id": "73c5f88a",
   "metadata": {
    "execution": {
     "iopub.execute_input": "2022-01-30T10:07:23.347900Z",
     "iopub.status.busy": "2022-01-30T10:07:23.343102Z",
     "iopub.status.idle": "2022-01-30T10:07:23.356277Z",
     "shell.execute_reply": "2022-01-30T10:07:23.356645Z"
    },
    "papermill": {
     "duration": 0.049262,
     "end_time": "2022-01-30T10:07:23.356762",
     "exception": false,
     "start_time": "2022-01-30T10:07:23.307500",
     "status": "completed"
    },
    "tags": []
   },
   "outputs": [],
   "source": [
    "#Impoting functions from 'Kudzu'\n",
    "from kudzu.model import Model\n",
    "from kudzu.train import Learner\n",
    "from kudzu.optim import GD\n",
    "from kudzu.data import Data, Sampler,Dataloader\n",
    "\n",
    "from kudzu.callbacks import AccCallback\n",
    "from kudzu.callbacks import ClfCallback\n",
    "\n",
    "from kudzu.loss import MSE\n",
    "\n",
    "from kudzu.layer import Sigmoid,Relu\n",
    "from kudzu.layer import Affine"
   ]
  },
  {
   "cell_type": "markdown",
   "id": "bc01172a",
   "metadata": {
    "papermill": {
     "duration": 0.023976,
     "end_time": "2022-01-30T10:07:23.404643",
     "exception": false,
     "start_time": "2022-01-30T10:07:23.380667",
     "status": "completed"
    },
    "tags": []
   },
   "source": [
    "### Let us create a `Config` class, to store important parameters. \n",
    "This class essentially plays the role of a dictionary."
   ]
  },
  {
   "cell_type": "code",
   "execution_count": 16,
   "id": "978281aa",
   "metadata": {
    "execution": {
     "iopub.execute_input": "2022-01-30T10:07:23.462601Z",
     "iopub.status.busy": "2022-01-30T10:07:23.462086Z",
     "iopub.status.idle": "2022-01-30T10:07:23.470646Z",
     "shell.execute_reply": "2022-01-30T10:07:23.471018Z"
    },
    "papermill": {
     "duration": 0.042898,
     "end_time": "2022-01-30T10:07:23.471138",
     "exception": false,
     "start_time": "2022-01-30T10:07:23.428240",
     "status": "completed"
    },
    "tags": []
   },
   "outputs": [],
   "source": [
    "class Config:\n",
    "    pass\n",
    "config = Config()\n",
    "config.lr = 0.001\n",
    "config.num_epochs = 250\n",
    "config.bs = 50"
   ]
  },
  {
   "cell_type": "markdown",
   "id": "1385fa59",
   "metadata": {
    "papermill": {
     "duration": 0.023615,
     "end_time": "2022-01-30T10:07:23.518623",
     "exception": false,
     "start_time": "2022-01-30T10:07:23.495008",
     "status": "completed"
    },
    "tags": []
   },
   "source": [
    "### Running Models with the Training data\n",
    "Details about the network layers:\n",
    "- A first affine layer has 784 inputs and does 100 affine transforms. These are followed by a Relu\n",
    "- A second affine layer has 100 inputs from the 100 activations of the past layer, and does 100 affine transforms. These are followed by a Relu\n",
    "- A third affine layer has 100 activations and does 2 affine transformations to create an embedding for visualization. There is no non-linearity here.\n",
    "- A final \"logistic regression\" which has an affine transform from 2 inputs to 1 output, which is squeezed through a sigmoid.\n"
   ]
  },
  {
   "cell_type": "code",
   "execution_count": 17,
   "id": "2b9c66db",
   "metadata": {
    "execution": {
     "iopub.execute_input": "2022-01-30T10:07:23.584573Z",
     "iopub.status.busy": "2022-01-30T10:07:23.569677Z",
     "iopub.status.idle": "2022-01-30T10:07:23.587494Z",
     "shell.execute_reply": "2022-01-30T10:07:23.587116Z"
    },
    "papermill": {
     "duration": 0.045375,
     "end_time": "2022-01-30T10:07:23.587607",
     "exception": false,
     "start_time": "2022-01-30T10:07:23.542232",
     "status": "completed"
    },
    "tags": []
   },
   "outputs": [],
   "source": [
    "data = Data(X_train, y_train.reshape(-1,1))\n",
    "sampler = Sampler(data, config.bs, shuffle=True)\n",
    "\n",
    "dl = Dataloader(data, sampler)\n",
    "\n",
    "opt = GD(config.lr)\n",
    "loss = MSE()"
   ]
  },
  {
   "cell_type": "code",
   "execution_count": 18,
   "id": "b275e4c2",
   "metadata": {
    "execution": {
     "iopub.execute_input": "2022-01-30T10:07:23.638906Z",
     "iopub.status.busy": "2022-01-30T10:07:23.638404Z",
     "iopub.status.idle": "2022-01-30T10:07:23.650253Z",
     "shell.execute_reply": "2022-01-30T10:07:23.650670Z"
    },
    "papermill": {
     "duration": 0.039281,
     "end_time": "2022-01-30T10:07:23.650794",
     "exception": false,
     "start_time": "2022-01-30T10:07:23.611513",
     "status": "completed"
    },
    "tags": []
   },
   "outputs": [],
   "source": [
    "training_data_x = X_train\n",
    "testing_data_x = X_test\n",
    "training_data_y = y_train.reshape(-1,1)\n",
    "testing_data_y = y_test.reshape(-1,1)"
   ]
  },
  {
   "cell_type": "code",
   "execution_count": 19,
   "id": "76951160",
   "metadata": {
    "execution": {
     "iopub.execute_input": "2022-01-30T10:07:23.702686Z",
     "iopub.status.busy": "2022-01-30T10:07:23.702190Z",
     "iopub.status.idle": "2022-01-30T10:07:23.718291Z",
     "shell.execute_reply": "2022-01-30T10:07:23.717913Z"
    },
    "papermill": {
     "duration": 0.043911,
     "end_time": "2022-01-30T10:07:23.718402",
     "exception": false,
     "start_time": "2022-01-30T10:07:23.674491",
     "status": "completed"
    },
    "tags": []
   },
   "outputs": [
    {
     "name": "stdout",
     "output_type": "stream",
     "text": [
      "xavier\n",
      "xavier\n",
      "xavier\n",
      "xavier\n",
      "xavier\n"
     ]
    }
   ],
   "source": [
    "layers = [Affine(\"first\", 784, 100), Relu(\"first\"), Affine(\"second\", 100, 100), Relu(\"second\"), Affine(\"third\", 100, 2), Affine(\"last\", 2, 1), Sigmoid(\"last\")]\n",
    "model_nn = Model(layers)\n",
    "model_lr = Model([Affine(\"logits\", 784, 1), Sigmoid(\"sigmoid\")])"
   ]
  },
  {
   "cell_type": "code",
   "execution_count": 20,
   "id": "6eede77a",
   "metadata": {
    "execution": {
     "iopub.execute_input": "2022-01-30T10:07:23.773456Z",
     "iopub.status.busy": "2022-01-30T10:07:23.772981Z",
     "iopub.status.idle": "2022-01-30T10:07:23.784390Z",
     "shell.execute_reply": "2022-01-30T10:07:23.784001Z"
    },
    "papermill": {
     "duration": 0.041615,
     "end_time": "2022-01-30T10:07:23.784502",
     "exception": false,
     "start_time": "2022-01-30T10:07:23.742887",
     "status": "completed"
    },
    "tags": []
   },
   "outputs": [],
   "source": [
    "nn_learner = Learner(loss, model_nn, opt, config.num_epochs)\n",
    "acc_nn = ClfCallback(nn_learner, config.bs, training_data_x , testing_data_x, training_data_y, testing_data_y)\n",
    "nn_learner.set_callbacks([acc_nn])"
   ]
  },
  {
   "cell_type": "code",
   "execution_count": 21,
   "id": "877b6cc7",
   "metadata": {
    "execution": {
     "iopub.execute_input": "2022-01-30T10:07:23.849671Z",
     "iopub.status.busy": "2022-01-30T10:07:23.843892Z",
     "iopub.status.idle": "2022-01-30T10:07:23.851923Z",
     "shell.execute_reply": "2022-01-30T10:07:23.851553Z"
    },
    "papermill": {
     "duration": 0.04347,
     "end_time": "2022-01-30T10:07:23.852025",
     "exception": false,
     "start_time": "2022-01-30T10:07:23.808555",
     "status": "completed"
    },
    "tags": []
   },
   "outputs": [],
   "source": [
    "lr_learner = Learner(loss, model_lr, opt, config.num_epochs)\n",
    "acc_lr = ClfCallback(lr_learner, config.bs, training_data_x , testing_data_x, training_data_y, testing_data_y)\n",
    "lr_learner.set_callbacks([acc_lr])"
   ]
  },
  {
   "cell_type": "code",
   "execution_count": 22,
   "id": "d9b133c3",
   "metadata": {
    "execution": {
     "iopub.execute_input": "2022-01-30T10:07:23.903370Z",
     "iopub.status.busy": "2022-01-30T10:07:23.902916Z",
     "iopub.status.idle": "2022-01-30T10:08:39.505809Z",
     "shell.execute_reply": "2022-01-30T10:08:39.506513Z"
    },
    "papermill": {
     "duration": 75.63068,
     "end_time": "2022-01-30T10:08:39.506661",
     "exception": false,
     "start_time": "2022-01-30T10:07:23.875981",
     "status": "completed"
    },
    "tags": []
   },
   "outputs": [
    {
     "name": "stdout",
     "output_type": "stream",
     "text": [
      "Epoch 0, Loss 0.232\n",
      "Training Accuracy: 0.7152, Testing Accuracy: 0.7248\n",
      "\n"
     ]
    },
    {
     "name": "stdout",
     "output_type": "stream",
     "text": [
      "Epoch 10, Loss 0.0748\n",
      "Training Accuracy: 0.9336, Testing Accuracy: 0.9415\n",
      "\n"
     ]
    },
    {
     "name": "stdout",
     "output_type": "stream",
     "text": [
      "Epoch 20, Loss 0.0496\n",
      "Training Accuracy: 0.9483, Testing Accuracy: 0.9516\n",
      "\n"
     ]
    },
    {
     "name": "stdout",
     "output_type": "stream",
     "text": [
      "Epoch 30, Loss 0.0405\n",
      "Training Accuracy: 0.9575, Testing Accuracy: 0.9577\n",
      "\n"
     ]
    },
    {
     "name": "stdout",
     "output_type": "stream",
     "text": [
      "Epoch 40, Loss 0.0358\n",
      "Training Accuracy: 0.9613, Testing Accuracy: 0.9617\n",
      "\n"
     ]
    },
    {
     "name": "stdout",
     "output_type": "stream",
     "text": [
      "Epoch 50, Loss 0.0328\n",
      "Training Accuracy: 0.9631, Testing Accuracy: 0.9647\n",
      "\n"
     ]
    },
    {
     "name": "stdout",
     "output_type": "stream",
     "text": [
      "Epoch 60, Loss 0.0306\n",
      "Training Accuracy: 0.9657, Testing Accuracy: 0.9652\n",
      "\n"
     ]
    },
    {
     "name": "stdout",
     "output_type": "stream",
     "text": [
      "Epoch 70, Loss 0.029\n",
      "Training Accuracy: 0.9677, Testing Accuracy: 0.9652\n",
      "\n"
     ]
    },
    {
     "name": "stdout",
     "output_type": "stream",
     "text": [
      "Epoch 80, Loss 0.0276\n",
      "Training Accuracy: 0.9687, Testing Accuracy: 0.9667\n",
      "\n"
     ]
    },
    {
     "name": "stdout",
     "output_type": "stream",
     "text": [
      "Epoch 90, Loss 0.0265\n",
      "Training Accuracy: 0.9695, Testing Accuracy: 0.9677\n",
      "\n"
     ]
    },
    {
     "name": "stdout",
     "output_type": "stream",
     "text": [
      "Epoch 100, Loss 0.0256\n",
      "Training Accuracy: 0.9704, Testing Accuracy: 0.9682\n",
      "\n"
     ]
    },
    {
     "name": "stdout",
     "output_type": "stream",
     "text": [
      "Epoch 110, Loss 0.0248\n",
      "Training Accuracy: 0.9710, Testing Accuracy: 0.9682\n",
      "\n"
     ]
    },
    {
     "name": "stdout",
     "output_type": "stream",
     "text": [
      "Epoch 120, Loss 0.0241\n",
      "Training Accuracy: 0.9721, Testing Accuracy: 0.9682\n",
      "\n"
     ]
    },
    {
     "name": "stdout",
     "output_type": "stream",
     "text": [
      "Epoch 130, Loss 0.0234\n",
      "Training Accuracy: 0.9726, Testing Accuracy: 0.9688\n",
      "\n"
     ]
    },
    {
     "name": "stdout",
     "output_type": "stream",
     "text": [
      "Epoch 140, Loss 0.0228\n",
      "Training Accuracy: 0.9739, Testing Accuracy: 0.9693\n",
      "\n"
     ]
    },
    {
     "name": "stdout",
     "output_type": "stream",
     "text": [
      "Epoch 150, Loss 0.0222\n",
      "Training Accuracy: 0.9744, Testing Accuracy: 0.9693\n",
      "\n"
     ]
    },
    {
     "name": "stdout",
     "output_type": "stream",
     "text": [
      "Epoch 160, Loss 0.0217\n",
      "Training Accuracy: 0.9756, Testing Accuracy: 0.9693\n",
      "\n"
     ]
    },
    {
     "name": "stdout",
     "output_type": "stream",
     "text": [
      "Epoch 170, Loss 0.0212\n",
      "Training Accuracy: 0.9764, Testing Accuracy: 0.9693\n",
      "\n"
     ]
    },
    {
     "name": "stdout",
     "output_type": "stream",
     "text": [
      "Epoch 180, Loss 0.0207\n",
      "Training Accuracy: 0.9770, Testing Accuracy: 0.9698\n",
      "\n"
     ]
    },
    {
     "name": "stdout",
     "output_type": "stream",
     "text": [
      "Epoch 190, Loss 0.0202\n",
      "Training Accuracy: 0.9775, Testing Accuracy: 0.9708\n",
      "\n"
     ]
    },
    {
     "name": "stdout",
     "output_type": "stream",
     "text": [
      "Epoch 200, Loss 0.0197\n",
      "Training Accuracy: 0.9781, Testing Accuracy: 0.9708\n",
      "\n"
     ]
    },
    {
     "name": "stdout",
     "output_type": "stream",
     "text": [
      "Epoch 210, Loss 0.0193\n",
      "Training Accuracy: 0.9788, Testing Accuracy: 0.9723\n",
      "\n"
     ]
    },
    {
     "name": "stdout",
     "output_type": "stream",
     "text": [
      "Epoch 220, Loss 0.0189\n",
      "Training Accuracy: 0.9793, Testing Accuracy: 0.9728\n",
      "\n"
     ]
    },
    {
     "name": "stdout",
     "output_type": "stream",
     "text": [
      "Epoch 230, Loss 0.0184\n",
      "Training Accuracy: 0.9799, Testing Accuracy: 0.9733\n",
      "\n"
     ]
    },
    {
     "name": "stdout",
     "output_type": "stream",
     "text": [
      "Epoch 240, Loss 0.018\n",
      "Training Accuracy: 0.9802, Testing Accuracy: 0.9733\n",
      "\n"
     ]
    },
    {
     "data": {
      "text/plain": [
       "0.02126916926380435"
      ]
     },
     "execution_count": 22,
     "metadata": {},
     "output_type": "execute_result"
    }
   ],
   "source": [
    "nn_learner.train_loop(dl)"
   ]
  },
  {
   "cell_type": "code",
   "execution_count": 23,
   "id": "e0163366",
   "metadata": {
    "execution": {
     "iopub.execute_input": "2022-01-30T10:08:39.576021Z",
     "iopub.status.busy": "2022-01-30T10:08:39.575557Z",
     "iopub.status.idle": "2022-01-30T10:08:53.000377Z",
     "shell.execute_reply": "2022-01-30T10:08:53.001141Z"
    },
    "papermill": {
     "duration": 13.463605,
     "end_time": "2022-01-30T10:08:53.001307",
     "exception": false,
     "start_time": "2022-01-30T10:08:39.537702",
     "status": "completed"
    },
    "tags": []
   },
   "outputs": [
    {
     "name": "stdout",
     "output_type": "stream",
     "text": [
      "Epoch 0, Loss 0.2165\n",
      "Training Accuracy: 0.7587, Testing Accuracy: 0.7485\n",
      "\n"
     ]
    },
    {
     "name": "stdout",
     "output_type": "stream",
     "text": [
      "Epoch 10, Loss 0.1025\n",
      "Training Accuracy: 0.9037, Testing Accuracy: 0.9068\n",
      "\n"
     ]
    },
    {
     "name": "stdout",
     "output_type": "stream",
     "text": [
      "Epoch 20, Loss 0.0794\n",
      "Training Accuracy: 0.9251, Testing Accuracy: 0.9345\n",
      "\n"
     ]
    },
    {
     "name": "stdout",
     "output_type": "stream",
     "text": [
      "Epoch 30, Loss 0.0685\n",
      "Training Accuracy: 0.9352, Testing Accuracy: 0.9425\n",
      "\n"
     ]
    },
    {
     "name": "stdout",
     "output_type": "stream",
     "text": [
      "Epoch 40, Loss 0.0619\n",
      "Training Accuracy: 0.9395, Testing Accuracy: 0.9471\n",
      "\n"
     ]
    },
    {
     "name": "stdout",
     "output_type": "stream",
     "text": [
      "Epoch 50, Loss 0.0574\n",
      "Training Accuracy: 0.9432, Testing Accuracy: 0.9521\n",
      "\n"
     ]
    },
    {
     "name": "stdout",
     "output_type": "stream",
     "text": [
      "Epoch 60, Loss 0.054\n",
      "Training Accuracy: 0.9468, Testing Accuracy: 0.9556\n",
      "\n"
     ]
    },
    {
     "name": "stdout",
     "output_type": "stream",
     "text": [
      "Epoch 70, Loss 0.0515\n",
      "Training Accuracy: 0.9489, Testing Accuracy: 0.9577\n",
      "\n"
     ]
    },
    {
     "name": "stdout",
     "output_type": "stream",
     "text": [
      "Epoch 80, Loss 0.0494\n",
      "Training Accuracy: 0.9499, Testing Accuracy: 0.9592\n",
      "\n"
     ]
    },
    {
     "name": "stdout",
     "output_type": "stream",
     "text": [
      "Epoch 90, Loss 0.0477\n",
      "Training Accuracy: 0.9508, Testing Accuracy: 0.9592\n",
      "\n"
     ]
    },
    {
     "name": "stdout",
     "output_type": "stream",
     "text": [
      "Epoch 100, Loss 0.0463\n",
      "Training Accuracy: 0.9523, Testing Accuracy: 0.9597\n",
      "\n"
     ]
    },
    {
     "name": "stdout",
     "output_type": "stream",
     "text": [
      "Epoch 110, Loss 0.0451\n",
      "Training Accuracy: 0.9541, Testing Accuracy: 0.9602\n",
      "\n"
     ]
    },
    {
     "name": "stdout",
     "output_type": "stream",
     "text": [
      "Epoch 120, Loss 0.044\n",
      "Training Accuracy: 0.9551, Testing Accuracy: 0.9617\n",
      "\n"
     ]
    },
    {
     "name": "stdout",
     "output_type": "stream",
     "text": [
      "Epoch 130, Loss 0.0431\n",
      "Training Accuracy: 0.9554, Testing Accuracy: 0.9627\n",
      "\n"
     ]
    },
    {
     "name": "stdout",
     "output_type": "stream",
     "text": [
      "Epoch 140, Loss 0.0422\n",
      "Training Accuracy: 0.9559, Testing Accuracy: 0.9642\n",
      "\n"
     ]
    },
    {
     "name": "stdout",
     "output_type": "stream",
     "text": [
      "Epoch 150, Loss 0.0415\n",
      "Training Accuracy: 0.9569, Testing Accuracy: 0.9642\n",
      "\n"
     ]
    },
    {
     "name": "stdout",
     "output_type": "stream",
     "text": [
      "Epoch 160, Loss 0.0408\n",
      "Training Accuracy: 0.9576, Testing Accuracy: 0.9642\n",
      "\n"
     ]
    },
    {
     "name": "stdout",
     "output_type": "stream",
     "text": [
      "Epoch 170, Loss 0.0402\n",
      "Training Accuracy: 0.9579, Testing Accuracy: 0.9647\n",
      "\n"
     ]
    },
    {
     "name": "stdout",
     "output_type": "stream",
     "text": [
      "Epoch 180, Loss 0.0396\n",
      "Training Accuracy: 0.9585, Testing Accuracy: 0.9647\n",
      "\n"
     ]
    },
    {
     "name": "stdout",
     "output_type": "stream",
     "text": [
      "Epoch 190, Loss 0.0391\n",
      "Training Accuracy: 0.9594, Testing Accuracy: 0.9662\n",
      "\n"
     ]
    },
    {
     "name": "stdout",
     "output_type": "stream",
     "text": [
      "Epoch 200, Loss 0.0386\n",
      "Training Accuracy: 0.9595, Testing Accuracy: 0.9662\n",
      "\n"
     ]
    },
    {
     "name": "stdout",
     "output_type": "stream",
     "text": [
      "Epoch 210, Loss 0.0382\n",
      "Training Accuracy: 0.9598, Testing Accuracy: 0.9657\n",
      "\n"
     ]
    },
    {
     "name": "stdout",
     "output_type": "stream",
     "text": [
      "Epoch 220, Loss 0.0378\n",
      "Training Accuracy: 0.9603, Testing Accuracy: 0.9657\n",
      "\n"
     ]
    },
    {
     "name": "stdout",
     "output_type": "stream",
     "text": [
      "Epoch 230, Loss 0.0374\n",
      "Training Accuracy: 0.9602, Testing Accuracy: 0.9657\n",
      "\n"
     ]
    },
    {
     "name": "stdout",
     "output_type": "stream",
     "text": [
      "Epoch 240, Loss 0.037\n",
      "Training Accuracy: 0.9606, Testing Accuracy: 0.9657\n",
      "\n"
     ]
    },
    {
     "data": {
      "text/plain": [
       "0.010308192876499981"
      ]
     },
     "execution_count": 23,
     "metadata": {},
     "output_type": "execute_result"
    }
   ],
   "source": [
    "lr_learner.train_loop(dl)"
   ]
  },
  {
   "cell_type": "code",
   "execution_count": 24,
   "id": "ca410940",
   "metadata": {
    "execution": {
     "iopub.execute_input": "2022-01-30T10:08:53.092302Z",
     "iopub.status.busy": "2022-01-30T10:08:53.091754Z",
     "iopub.status.idle": "2022-01-30T10:08:53.313929Z",
     "shell.execute_reply": "2022-01-30T10:08:53.313030Z"
    },
    "papermill": {
     "duration": 0.271296,
     "end_time": "2022-01-30T10:08:53.314078",
     "exception": false,
     "start_time": "2022-01-30T10:08:53.042782",
     "status": "completed"
    },
    "tags": []
   },
   "outputs": [
    {
     "data": {
      "text/plain": [
       "<matplotlib.legend.Legend at 0x7efd1c1ab3c8>"
      ]
     },
     "execution_count": 24,
     "metadata": {},
     "output_type": "execute_result"
    },
    {
     "data": {
      "image/png": "[encoded data removed]",
      "text/plain": [
       "<Figure size 1080x720 with 1 Axes>"
      ]
     },
     "metadata": {
      "needs_background": "light"
     },
     "output_type": "display_data"
    }
   ],
   "source": [
    "#comparing the results of NN and LR\n",
    "plt.figure(figsize=(15,10))\n",
    "\n",
    "# Neural Network plots\n",
    "plt.plot(acc_nn.accuracies, 'r-', label = \"Training Accuracies - NN\")\n",
    "plt.plot(acc_nn.test_accuracies, 'g-', label = \"Testing Accuracies - NN\")\n",
    "\n",
    "# Logistic Regression plots\n",
    "plt.plot(acc_lr.accuracies, 'k-', label = \"Training Accuracies - LR\")\n",
    "plt.plot(acc_lr.test_accuracies, 'b-', label = \"Testing Accuracies - LR\")\n",
    "plt.legend()"
   ]
  },
  {
   "cell_type": "markdown",
   "id": "80dfb35c",
   "metadata": {
    "papermill": {
     "duration": 0.036875,
     "end_time": "2022-01-30T10:08:53.389436",
     "exception": false,
     "start_time": "2022-01-30T10:08:53.352561",
     "status": "completed"
    },
    "tags": []
   },
   "source": [
    "#### Plotting the outputs of this layer of the NN.\n"
   ]
  },
  {
   "cell_type": "code",
   "execution_count": 25,
   "id": "45eb2ff5",
   "metadata": {
    "execution": {
     "iopub.execute_input": "2022-01-30T10:08:53.484151Z",
     "iopub.status.busy": "2022-01-30T10:08:53.479138Z",
     "iopub.status.idle": "2022-01-30T10:08:53.491813Z",
     "shell.execute_reply": "2022-01-30T10:08:53.492413Z"
    },
    "papermill": {
     "duration": 0.06624,
     "end_time": "2022-01-30T10:08:53.492548",
     "exception": false,
     "start_time": "2022-01-30T10:08:53.426308",
     "status": "completed"
    },
    "tags": []
   },
   "outputs": [],
   "source": [
    "new_model = Model(layers[:-2])\n",
    "testing_plot = new_model(testing_data_x)"
   ]
  },
  {
   "cell_type": "code",
   "execution_count": 26,
   "id": "4c0a5485",
   "metadata": {
    "execution": {
     "iopub.execute_input": "2022-01-30T10:08:53.575904Z",
     "iopub.status.busy": "2022-01-30T10:08:53.575424Z",
     "iopub.status.idle": "2022-01-30T10:08:53.763961Z",
     "shell.execute_reply": "2022-01-30T10:08:53.763516Z"
    },
    "papermill": {
     "duration": 0.233926,
     "end_time": "2022-01-30T10:08:53.764088",
     "exception": false,
     "start_time": "2022-01-30T10:08:53.530162",
     "status": "completed"
    },
    "tags": []
   },
   "outputs": [
    {
     "data": {
      "text/plain": [
       "Text(0.5, 1.0, 'Outputs')"
      ]
     },
     "execution_count": 26,
     "metadata": {},
     "output_type": "execute_result"
    },
    {
     "data": {
      "image/png": "[encoded data removed]",
      "text/plain": [
       "<Figure size 576x504 with 1 Axes>"
      ]
     },
     "metadata": {
      "needs_background": "light"
     },
     "output_type": "display_data"
    }
   ],
   "source": [
    "# Plotting the scatter plot of points and color coding by class\n",
    "plt.figure(figsize=(8,7))\n",
    "plt.scatter(testing_plot[:,0], testing_plot[:,1], alpha = 0.1, c = y_test.ravel());\n",
    "plt.title('Outputs')"
   ]
  },
  {
   "cell_type": "markdown",
   "id": "a74fcf8f",
   "metadata": {
    "papermill": {
     "duration": 0.043818,
     "end_time": "2022-01-30T10:08:53.851878",
     "exception": false,
     "start_time": "2022-01-30T10:08:53.808060",
     "status": "completed"
    },
    "tags": []
   },
   "source": [
    "Probability contours"
   ]
  },
  {
   "cell_type": "code",
   "execution_count": 27,
   "id": "d0afc8e3",
   "metadata": {
    "execution": {
     "iopub.execute_input": "2022-01-30T10:08:53.943629Z",
     "iopub.status.busy": "2022-01-30T10:08:53.943106Z",
     "iopub.status.idle": "2022-01-30T10:08:53.954813Z",
     "shell.execute_reply": "2022-01-30T10:08:53.955255Z"
    },
    "papermill": {
     "duration": 0.059671,
     "end_time": "2022-01-30T10:08:53.955391",
     "exception": false,
     "start_time": "2022-01-30T10:08:53.895720",
     "status": "completed"
    },
    "tags": []
   },
   "outputs": [],
   "source": [
    "model_prob = Model(layers[-2:]) "
   ]
  },
  {
   "cell_type": "code",
   "execution_count": 28,
   "id": "9b96e238",
   "metadata": {
    "execution": {
     "iopub.execute_input": "2022-01-30T10:08:54.054480Z",
     "iopub.status.busy": "2022-01-30T10:08:54.053956Z",
     "iopub.status.idle": "2022-01-30T10:08:54.063105Z",
     "shell.execute_reply": "2022-01-30T10:08:54.063504Z"
    },
    "papermill": {
     "duration": 0.064117,
     "end_time": "2022-01-30T10:08:54.063641",
     "exception": false,
     "start_time": "2022-01-30T10:08:53.999524",
     "status": "completed"
    },
    "tags": []
   },
   "outputs": [],
   "source": [
    "#creating the x and y ranges according to the above generated plot.\n",
    "x_range = np.linspace(-4, 1, 100) \n",
    "y_range = np.linspace(-6, 6, 100) \n",
    "x_grid, y_grid = np.meshgrid(x_range, y_range) # x_grid and y_grig are of size 100 X 100\n",
    "\n",
    "# converting x_grid and y_grid to continuous arrays\n",
    "x_gridflat = np.ravel(x_grid)\n",
    "y_gridflat = np.ravel(y_grid)\n",
    "\n",
    "# The last layer of the current model takes two columns as input. Hence transpose of np.vstack() is required.\n",
    "X = np.vstack((x_gridflat, y_gridflat)).T\n",
    "\n",
    "prob_contour = model_prob(X).reshape(100,100) "
   ]
  },
  {
   "cell_type": "code",
   "execution_count": 29,
   "id": "da72499a",
   "metadata": {
    "execution": {
     "iopub.execute_input": "2022-01-30T10:08:54.196251Z",
     "iopub.status.busy": "2022-01-30T10:08:54.195625Z",
     "iopub.status.idle": "2022-01-30T10:08:54.443429Z",
     "shell.execute_reply": "2022-01-30T10:08:54.443848Z"
    },
    "papermill": {
     "duration": 0.336292,
     "end_time": "2022-01-30T10:08:54.443993",
     "exception": false,
     "start_time": "2022-01-30T10:08:54.107701",
     "status": "completed"
    },
    "tags": []
   },
   "outputs": [
    {
     "data": {
      "image/png": "[encoded data removed]",
      "text/plain": [
       "<Figure size 720x648 with 1 Axes>"
      ]
     },
     "metadata": {
      "needs_background": "light"
     },
     "output_type": "display_data"
    }
   ],
   "source": [
    "plt.figure(figsize=(10,9))\n",
    "plt.scatter(testing_plot[:,0], testing_plot[:,1], alpha = 0.1, c = y_test.ravel())\n",
    "contours = plt.contour(x_grid,y_grid,prob_contour)\n",
    "plt.title('Probability Contours')\n",
    "plt.clabel(contours, inline = True );"
   ]
  },
  {
   "cell_type": "code",
   "execution_count": null,
   "id": "e81b4ac7",
   "metadata": {
    "papermill": {
     "duration": 0.046528,
     "end_time": "2022-01-30T10:08:54.538148",
     "exception": false,
     "start_time": "2022-01-30T10:08:54.491620",
     "status": "completed"
    },
    "tags": []
   },
   "outputs": [],
   "source": []
  }
 ],
 "metadata": {
  "kernelspec": {
   "display_name": "Python 3",
   "language": "python",
   "name": "python3"
  },
  "language_info": {
   "codemirror_mode": {
    "name": "ipython",
    "version": 3
   },
   "file_extension": ".py",
   "mimetype": "text/x-python",
   "name": "python",
   "nbconvert_exporter": "python",
   "pygments_lexer": "ipython3",
   "version": "3.6.15"
  },
  "papermill": {
   "default_parameters": {},
   "duration": 97.894581,
   "end_time": "2022-01-30T10:08:55.003639",
   "environment_variables": {},
   "exception": null,
   "input_path": "2020-08-11-part2.ipynb",
   "output_path": "2020-08-11-part2.ipynb",
   "parameters": {},
   "start_time": "2022-01-30T10:07:17.109058",
   "version": "2.3.3"
  }
 },
 "nbformat": 4,
 "nbformat_minor": 5
}