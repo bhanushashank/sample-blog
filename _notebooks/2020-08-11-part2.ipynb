{
 "cells": [
  {
   "cell_type": "markdown",
   "id": "98380cd3",
   "metadata": {
    "papermill": {
     "duration": 0.025001,
     "end_time": "2021-12-16T20:09:00.527931",
     "exception": false,
     "start_time": "2021-12-16T20:09:00.502930",
     "status": "completed"
    },
    "tags": []
   },
   "source": [
    "# Distinguish Your Own Digits (DYOD)"
   ]
  },
  {
   "cell_type": "markdown",
   "id": "ef31240d",
   "metadata": {
    "papermill": {
     "duration": 0.0211,
     "end_time": "2021-12-16T20:09:00.570898",
     "exception": false,
     "start_time": "2021-12-16T20:09:00.549798",
     "status": "completed"
    },
    "tags": []
   },
   "source": [
    "You are going to write a classifier that distinguishes between the number 3 and number 8."
   ]
  },
  {
   "cell_type": "code",
   "execution_count": 1,
   "id": "b15c8646",
   "metadata": {
    "execution": {
     "iopub.execute_input": "2021-12-16T20:09:00.626594Z",
     "iopub.status.busy": "2021-12-16T20:09:00.626067Z",
     "iopub.status.idle": "2021-12-16T20:09:00.636766Z",
     "shell.execute_reply": "2021-12-16T20:09:00.637162Z"
    },
    "papermill": {
     "duration": 0.045233,
     "end_time": "2021-12-16T20:09:00.637306",
     "exception": false,
     "start_time": "2021-12-16T20:09:00.592073",
     "status": "completed"
    },
    "tags": []
   },
   "outputs": [],
   "source": [
    "%load_ext autoreload\n",
    "%autoreload 2"
   ]
  },
  {
   "cell_type": "code",
   "execution_count": 2,
   "id": "22ef38dc",
   "metadata": {
    "execution": {
     "iopub.execute_input": "2021-12-16T20:09:00.684121Z",
     "iopub.status.busy": "2021-12-16T20:09:00.683634Z",
     "iopub.status.idle": "2021-12-16T20:09:01.237351Z",
     "shell.execute_reply": "2021-12-16T20:09:01.236370Z"
    },
    "papermill": {
     "duration": 0.57875,
     "end_time": "2021-12-16T20:09:01.237512",
     "exception": false,
     "start_time": "2021-12-16T20:09:00.658762",
     "status": "completed"
    },
    "tags": []
   },
   "outputs": [],
   "source": [
    "%matplotlib inline\n",
    "import numpy as np\n",
    "import matplotlib.pyplot as plt\n",
    "import pandas as pd"
   ]
  },
  {
   "cell_type": "markdown",
   "id": "ba036198",
   "metadata": {
    "papermill": {
     "duration": 0.024134,
     "end_time": "2021-12-16T20:09:01.286853",
     "exception": false,
     "start_time": "2021-12-16T20:09:01.262719",
     "status": "completed"
    },
    "tags": []
   },
   "source": [
    "From the command line run `pip install mnist`. This is a library that will help you bring down the mnist dataset. If you run this from a notebook, you need to put  `!pip install mnist` in a cell by itself."
   ]
  },
  {
   "cell_type": "code",
   "execution_count": 3,
   "id": "bb6ad8a1",
   "metadata": {
    "execution": {
     "iopub.execute_input": "2021-12-16T20:09:01.341987Z",
     "iopub.status.busy": "2021-12-16T20:09:01.341459Z",
     "iopub.status.idle": "2021-12-16T20:09:03.154002Z",
     "shell.execute_reply": "2021-12-16T20:09:03.152935Z"
    },
    "papermill": {
     "duration": 1.842936,
     "end_time": "2021-12-16T20:09:03.154133",
     "exception": false,
     "start_time": "2021-12-16T20:09:01.311197",
     "status": "completed"
    },
    "tags": []
   },
   "outputs": [
    {
     "name": "stdout",
     "output_type": "stream",
     "text": [
      "Collecting mnist\r\n"
     ]
    },
    {
     "name": "stdout",
     "output_type": "stream",
     "text": [
      "  Downloading mnist-0.2.2-py2.py3-none-any.whl (3.5 kB)\r\n"
     ]
    },
    {
     "name": "stdout",
     "output_type": "stream",
     "text": [
      "Requirement already satisfied: numpy in /opt/hostedtoolcache/Python/3.6.15/x64/lib/python3.6/site-packages (from mnist) (1.19.5)\r\n"
     ]
    },
    {
     "name": "stdout",
     "output_type": "stream",
     "text": [
      "Installing collected packages: mnist\r\n",
      "Successfully installed mnist-0.2.2\r\n"
     ]
    }
   ],
   "source": [
    "!pip install mnist"
   ]
  },
  {
   "cell_type": "markdown",
   "id": "69df9c9a",
   "metadata": {
    "papermill": {
     "duration": 0.022372,
     "end_time": "2021-12-16T20:09:03.199189",
     "exception": false,
     "start_time": "2021-12-16T20:09:03.176817",
     "status": "completed"
    },
    "tags": []
   },
   "source": [
    "## Preparing the Data"
   ]
  },
  {
   "cell_type": "code",
   "execution_count": 4,
   "id": "7f69d806",
   "metadata": {
    "execution": {
     "iopub.execute_input": "2021-12-16T20:09:03.251220Z",
     "iopub.status.busy": "2021-12-16T20:09:03.250639Z",
     "iopub.status.idle": "2021-12-16T20:09:03.265188Z",
     "shell.execute_reply": "2021-12-16T20:09:03.264696Z"
    },
    "papermill": {
     "duration": 0.043833,
     "end_time": "2021-12-16T20:09:03.265311",
     "exception": false,
     "start_time": "2021-12-16T20:09:03.221478",
     "status": "completed"
    },
    "tags": []
   },
   "outputs": [],
   "source": [
    "import mnist"
   ]
  },
  {
   "cell_type": "code",
   "execution_count": 5,
   "id": "a411e44f",
   "metadata": {
    "execution": {
     "iopub.execute_input": "2021-12-16T20:09:03.321469Z",
     "iopub.status.busy": "2021-12-16T20:09:03.320936Z",
     "iopub.status.idle": "2021-12-16T20:09:03.804513Z",
     "shell.execute_reply": "2021-12-16T20:09:03.805015Z"
    },
    "papermill": {
     "duration": 0.514072,
     "end_time": "2021-12-16T20:09:03.805189",
     "exception": false,
     "start_time": "2021-12-16T20:09:03.291117",
     "status": "completed"
    },
    "tags": []
   },
   "outputs": [],
   "source": [
    "train_images = mnist.train_images()\n",
    "train_labels = mnist.train_labels()"
   ]
  },
  {
   "cell_type": "code",
   "execution_count": 6,
   "id": "dceab3a5",
   "metadata": {
    "execution": {
     "iopub.execute_input": "2021-12-16T20:09:03.864090Z",
     "iopub.status.busy": "2021-12-16T20:09:03.863583Z",
     "iopub.status.idle": "2021-12-16T20:09:03.877099Z",
     "shell.execute_reply": "2021-12-16T20:09:03.877447Z"
    },
    "papermill": {
     "duration": 0.045803,
     "end_time": "2021-12-16T20:09:03.877582",
     "exception": false,
     "start_time": "2021-12-16T20:09:03.831779",
     "status": "completed"
    },
    "tags": []
   },
   "outputs": [
    {
     "data": {
      "text/plain": [
       "((60000, 28, 28), (60000,))"
      ]
     },
     "execution_count": 6,
     "metadata": {},
     "output_type": "execute_result"
    }
   ],
   "source": [
    "train_images.shape, train_labels.shape"
   ]
  },
  {
   "cell_type": "code",
   "execution_count": 7,
   "id": "f50dc2bb",
   "metadata": {
    "execution": {
     "iopub.execute_input": "2021-12-16T20:09:03.926542Z",
     "iopub.status.busy": "2021-12-16T20:09:03.925996Z",
     "iopub.status.idle": "2021-12-16T20:09:04.070196Z",
     "shell.execute_reply": "2021-12-16T20:09:04.069689Z"
    },
    "papermill": {
     "duration": 0.170166,
     "end_time": "2021-12-16T20:09:04.070356",
     "exception": false,
     "start_time": "2021-12-16T20:09:03.900190",
     "status": "completed"
    },
    "tags": []
   },
   "outputs": [],
   "source": [
    "test_images = mnist.test_images()\n",
    "test_labels = mnist.test_labels()"
   ]
  },
  {
   "cell_type": "code",
   "execution_count": 8,
   "id": "fc38cf1b",
   "metadata": {
    "execution": {
     "iopub.execute_input": "2021-12-16T20:09:04.127480Z",
     "iopub.status.busy": "2021-12-16T20:09:04.126938Z",
     "iopub.status.idle": "2021-12-16T20:09:04.139788Z",
     "shell.execute_reply": "2021-12-16T20:09:04.140229Z"
    },
    "papermill": {
     "duration": 0.043855,
     "end_time": "2021-12-16T20:09:04.140373",
     "exception": false,
     "start_time": "2021-12-16T20:09:04.096518",
     "status": "completed"
    },
    "tags": []
   },
   "outputs": [
    {
     "data": {
      "text/plain": [
       "((10000, 28, 28), (10000,))"
      ]
     },
     "execution_count": 8,
     "metadata": {},
     "output_type": "execute_result"
    }
   ],
   "source": [
    "test_images.shape, test_labels.shape"
   ]
  },
  {
   "cell_type": "code",
   "execution_count": 9,
   "id": "f9ed8fe0",
   "metadata": {
    "execution": {
     "iopub.execute_input": "2021-12-16T20:09:04.199523Z",
     "iopub.status.busy": "2021-12-16T20:09:04.198989Z",
     "iopub.status.idle": "2021-12-16T20:09:04.340946Z",
     "shell.execute_reply": "2021-12-16T20:09:04.341349Z"
    },
    "papermill": {
     "duration": 0.17496,
     "end_time": "2021-12-16T20:09:04.341505",
     "exception": false,
     "start_time": "2021-12-16T20:09:04.166545",
     "status": "completed"
    },
    "tags": []
   },
   "outputs": [
    {
     "name": "stdout",
     "output_type": "stream",
     "text": [
      "2\n"
     ]
    },
    {
     "data": {
      "text/plain": [
       "<matplotlib.image.AxesImage at 0x7f51164374e0>"
      ]
     },
     "execution_count": 9,
     "metadata": {},
     "output_type": "execute_result"
    },
    {
     "data": {
      "image/png": "[encoded data removed]",
      "text/plain": [
       "<Figure size 432x288 with 1 Axes>"
      ]
     },
     "metadata": {
      "needs_background": "light"
     },
     "output_type": "display_data"
    }
   ],
   "source": [
    "image_index = 7776 # You may select anything up to 60,000\n",
    "print(train_labels[image_index]) \n",
    "plt.imshow(train_images[image_index], cmap='Greys')"
   ]
  },
  {
   "cell_type": "markdown",
   "id": "a8d2388d",
   "metadata": {
    "papermill": {
     "duration": 0.027378,
     "end_time": "2021-12-16T20:09:04.396394",
     "exception": false,
     "start_time": "2021-12-16T20:09:04.369016",
     "status": "completed"
    },
    "tags": []
   },
   "source": [
    "## Filter data to get 3 and 8 out"
   ]
  },
  {
   "cell_type": "code",
   "execution_count": 10,
   "id": "776f7fc7",
   "metadata": {
    "execution": {
     "iopub.execute_input": "2021-12-16T20:09:04.455683Z",
     "iopub.status.busy": "2021-12-16T20:09:04.455140Z",
     "iopub.status.idle": "2021-12-16T20:09:04.474861Z",
     "shell.execute_reply": "2021-12-16T20:09:04.474378Z"
    },
    "papermill": {
     "duration": 0.051239,
     "end_time": "2021-12-16T20:09:04.474991",
     "exception": false,
     "start_time": "2021-12-16T20:09:04.423752",
     "status": "completed"
    },
    "tags": []
   },
   "outputs": [],
   "source": [
    "train_filter = np.where((train_labels == 3 ) | (train_labels == 8))\n",
    "test_filter = np.where((test_labels == 3) | (test_labels == 8))\n",
    "X_train, y_train = train_images[train_filter], train_labels[train_filter]\n",
    "X_test, y_test = test_images[test_filter], test_labels[test_filter]"
   ]
  },
  {
   "cell_type": "markdown",
   "id": "948f0b7e",
   "metadata": {
    "papermill": {
     "duration": 0.026907,
     "end_time": "2021-12-16T20:09:04.529073",
     "exception": false,
     "start_time": "2021-12-16T20:09:04.502166",
     "status": "completed"
    },
    "tags": []
   },
   "source": [
    "We normalize the pizel values in the 0 to 1 range"
   ]
  },
  {
   "cell_type": "code",
   "execution_count": 11,
   "id": "ee4c2166",
   "metadata": {
    "execution": {
     "iopub.execute_input": "2021-12-16T20:09:04.587776Z",
     "iopub.status.busy": "2021-12-16T20:09:04.587241Z",
     "iopub.status.idle": "2021-12-16T20:09:04.635743Z",
     "shell.execute_reply": "2021-12-16T20:09:04.636219Z"
    },
    "papermill": {
     "duration": 0.080076,
     "end_time": "2021-12-16T20:09:04.636391",
     "exception": false,
     "start_time": "2021-12-16T20:09:04.556315",
     "status": "completed"
    },
    "tags": []
   },
   "outputs": [],
   "source": [
    "X_train = X_train/255.\n",
    "X_test = X_test/255."
   ]
  },
  {
   "cell_type": "markdown",
   "id": "ddcf4fab",
   "metadata": {
    "papermill": {
     "duration": 0.027476,
     "end_time": "2021-12-16T20:09:04.692079",
     "exception": false,
     "start_time": "2021-12-16T20:09:04.664603",
     "status": "completed"
    },
    "tags": []
   },
   "source": [
    "And setup the labels as 1 (when the digit is 3) and 0 (when the digit is 8)"
   ]
  },
  {
   "cell_type": "code",
   "execution_count": 12,
   "id": "7dc908f2",
   "metadata": {
    "execution": {
     "iopub.execute_input": "2021-12-16T20:09:04.760536Z",
     "iopub.status.busy": "2021-12-16T20:09:04.757565Z",
     "iopub.status.idle": "2021-12-16T20:09:04.766189Z",
     "shell.execute_reply": "2021-12-16T20:09:04.765751Z"
    },
    "papermill": {
     "duration": 0.047031,
     "end_time": "2021-12-16T20:09:04.766341",
     "exception": false,
     "start_time": "2021-12-16T20:09:04.719310",
     "status": "completed"
    },
    "tags": []
   },
   "outputs": [],
   "source": [
    "y_train = 1*(y_train==3)\n",
    "y_test = 1*(y_test==3)"
   ]
  },
  {
   "cell_type": "code",
   "execution_count": 13,
   "id": "01e4e969",
   "metadata": {
    "execution": {
     "iopub.execute_input": "2021-12-16T20:09:04.824593Z",
     "iopub.status.busy": "2021-12-16T20:09:04.824043Z",
     "iopub.status.idle": "2021-12-16T20:09:04.839961Z",
     "shell.execute_reply": "2021-12-16T20:09:04.840389Z"
    },
    "papermill": {
     "duration": 0.047014,
     "end_time": "2021-12-16T20:09:04.840537",
     "exception": false,
     "start_time": "2021-12-16T20:09:04.793523",
     "status": "completed"
    },
    "tags": []
   },
   "outputs": [
    {
     "data": {
      "text/plain": [
       "((11982, 28, 28), (1984, 28, 28))"
      ]
     },
     "execution_count": 13,
     "metadata": {},
     "output_type": "execute_result"
    }
   ],
   "source": [
    "X_train.shape, X_test.shape"
   ]
  },
  {
   "cell_type": "markdown",
   "id": "5ccf3f85",
   "metadata": {
    "papermill": {
     "duration": 0.027351,
     "end_time": "2021-12-16T20:09:04.895607",
     "exception": false,
     "start_time": "2021-12-16T20:09:04.868256",
     "status": "completed"
    },
    "tags": []
   },
   "source": [
    "We reshape the data to flatten the image pixels into a set of features or co-variates:"
   ]
  },
  {
   "cell_type": "code",
   "execution_count": 14,
   "id": "5286a4a3",
   "metadata": {
    "execution": {
     "iopub.execute_input": "2021-12-16T20:09:04.960121Z",
     "iopub.status.busy": "2021-12-16T20:09:04.957054Z",
     "iopub.status.idle": "2021-12-16T20:09:04.969763Z",
     "shell.execute_reply": "2021-12-16T20:09:04.969313Z"
    },
    "papermill": {
     "duration": 0.046864,
     "end_time": "2021-12-16T20:09:04.969886",
     "exception": false,
     "start_time": "2021-12-16T20:09:04.923022",
     "status": "completed"
    },
    "tags": []
   },
   "outputs": [
    {
     "data": {
      "text/plain": [
       "((11982, 784), (1984, 784))"
      ]
     },
     "execution_count": 14,
     "metadata": {},
     "output_type": "execute_result"
    }
   ],
   "source": [
    "X_train = X_train.reshape(X_train.shape[0], -1)\n",
    "X_test = X_test.reshape(X_test.shape[0], -1)\n",
    "X_train.shape, X_test.shape"
   ]
  },
  {
   "cell_type": "code",
   "execution_count": 15,
   "id": "73c5f88a",
   "metadata": {
    "execution": {
     "iopub.execute_input": "2021-12-16T20:09:05.038320Z",
     "iopub.status.busy": "2021-12-16T20:09:05.037714Z",
     "iopub.status.idle": "2021-12-16T20:09:05.053411Z",
     "shell.execute_reply": "2021-12-16T20:09:05.052962Z"
    },
    "papermill": {
     "duration": 0.055967,
     "end_time": "2021-12-16T20:09:05.053537",
     "exception": false,
     "start_time": "2021-12-16T20:09:04.997570",
     "status": "completed"
    },
    "tags": []
   },
   "outputs": [],
   "source": [
    "#Impoting functions from 'Kudzu'\n",
    "from kudzu.model import Model\n",
    "from kudzu.train import Learner\n",
    "from kudzu.optim import GD\n",
    "from kudzu.data import Data, Sampler,Dataloader\n",
    "\n",
    "from kudzu.callbacks import AccCallback\n",
    "from kudzu.callbacks import ClfCallback\n",
    "\n",
    "from kudzu.loss import MSE\n",
    "\n",
    "from kudzu.layer import Sigmoid,Relu\n",
    "from kudzu.layer import Affine"
   ]
  },
  {
   "cell_type": "markdown",
   "id": "bc01172a",
   "metadata": {
    "papermill": {
     "duration": 0.027563,
     "end_time": "2021-12-16T20:09:05.108845",
     "exception": false,
     "start_time": "2021-12-16T20:09:05.081282",
     "status": "completed"
    },
    "tags": []
   },
   "source": [
    "### Let us create a `Config` class, to store important parameters. \n",
    "This class essentially plays the role of a dictionary."
   ]
  },
  {
   "cell_type": "code",
   "execution_count": 16,
   "id": "978281aa",
   "metadata": {
    "execution": {
     "iopub.execute_input": "2021-12-16T20:09:05.168044Z",
     "iopub.status.busy": "2021-12-16T20:09:05.167494Z",
     "iopub.status.idle": "2021-12-16T20:09:05.182214Z",
     "shell.execute_reply": "2021-12-16T20:09:05.181777Z"
    },
    "papermill": {
     "duration": 0.046159,
     "end_time": "2021-12-16T20:09:05.182357",
     "exception": false,
     "start_time": "2021-12-16T20:09:05.136198",
     "status": "completed"
    },
    "tags": []
   },
   "outputs": [],
   "source": [
    "class Config:\n",
    "    pass\n",
    "config = Config()\n",
    "config.lr = 0.001\n",
    "config.num_epochs = 250\n",
    "config.bs = 50"
   ]
  },
  {
   "cell_type": "markdown",
   "id": "1385fa59",
   "metadata": {
    "papermill": {
     "duration": 0.027547,
     "end_time": "2021-12-16T20:09:05.237535",
     "exception": false,
     "start_time": "2021-12-16T20:09:05.209988",
     "status": "completed"
    },
    "tags": []
   },
   "source": [
    "### Running Models with the Training data\n",
    "Details about the network layers:\n",
    "- A first affine layer has 784 inputs and does 100 affine transforms. These are followed by a Relu\n",
    "- A second affine layer has 100 inputs from the 100 activations of the past layer, and does 100 affine transforms. These are followed by a Relu\n",
    "- A third affine layer has 100 activations and does 2 affine transformations to create an embedding for visualization. There is no non-linearity here.\n",
    "- A final \"logistic regression\" which has an affine transform from 2 inputs to 1 output, which is squeezed through a sigmoid.\n"
   ]
  },
  {
   "cell_type": "code",
   "execution_count": 17,
   "id": "2b9c66db",
   "metadata": {
    "execution": {
     "iopub.execute_input": "2021-12-16T20:09:05.302690Z",
     "iopub.status.busy": "2021-12-16T20:09:05.302048Z",
     "iopub.status.idle": "2021-12-16T20:09:05.311270Z",
     "shell.execute_reply": "2021-12-16T20:09:05.310803Z"
    },
    "papermill": {
     "duration": 0.046457,
     "end_time": "2021-12-16T20:09:05.311393",
     "exception": false,
     "start_time": "2021-12-16T20:09:05.264936",
     "status": "completed"
    },
    "tags": []
   },
   "outputs": [],
   "source": [
    "data = Data(X_train, y_train.reshape(-1,1))\n",
    "sampler = Sampler(data, config.bs, shuffle=True)\n",
    "\n",
    "dl = Dataloader(data, sampler)\n",
    "\n",
    "opt = GD(config.lr)\n",
    "loss = MSE()"
   ]
  },
  {
   "cell_type": "code",
   "execution_count": 18,
   "id": "b275e4c2",
   "metadata": {
    "execution": {
     "iopub.execute_input": "2021-12-16T20:09:05.374183Z",
     "iopub.status.busy": "2021-12-16T20:09:05.373623Z",
     "iopub.status.idle": "2021-12-16T20:09:05.384843Z",
     "shell.execute_reply": "2021-12-16T20:09:05.384398Z"
    },
    "papermill": {
     "duration": 0.045869,
     "end_time": "2021-12-16T20:09:05.384971",
     "exception": false,
     "start_time": "2021-12-16T20:09:05.339102",
     "status": "completed"
    },
    "tags": []
   },
   "outputs": [],
   "source": [
    "training_data_x = X_train\n",
    "testing_data_x = X_test\n",
    "training_data_y = y_train.reshape(-1,1)\n",
    "testing_data_y = y_test.reshape(-1,1)"
   ]
  },
  {
   "cell_type": "code",
   "execution_count": 19,
   "id": "76951160",
   "metadata": {
    "execution": {
     "iopub.execute_input": "2021-12-16T20:09:05.448491Z",
     "iopub.status.busy": "2021-12-16T20:09:05.447936Z",
     "iopub.status.idle": "2021-12-16T20:09:05.462407Z",
     "shell.execute_reply": "2021-12-16T20:09:05.461959Z"
    },
    "papermill": {
     "duration": 0.050008,
     "end_time": "2021-12-16T20:09:05.462531",
     "exception": false,
     "start_time": "2021-12-16T20:09:05.412523",
     "status": "completed"
    },
    "tags": []
   },
   "outputs": [
    {
     "name": "stdout",
     "output_type": "stream",
     "text": [
      "xavier\n",
      "xavier\n",
      "xavier\n",
      "xavier\n",
      "xavier\n"
     ]
    }
   ],
   "source": [
    "layers = [Affine(\"first\", 784, 100), Relu(\"first\"), Affine(\"second\", 100, 100), Relu(\"second\"), Affine(\"third\", 100, 2), Affine(\"last\", 2, 1), Sigmoid(\"last\")]\n",
    "model_nn = Model(layers)\n",
    "model_lr = Model([Affine(\"logits\", 784, 1), Sigmoid(\"sigmoid\")])"
   ]
  },
  {
   "cell_type": "code",
   "execution_count": 20,
   "id": "6eede77a",
   "metadata": {
    "execution": {
     "iopub.execute_input": "2021-12-16T20:09:05.522989Z",
     "iopub.status.busy": "2021-12-16T20:09:05.522451Z",
     "iopub.status.idle": "2021-12-16T20:09:05.535395Z",
     "shell.execute_reply": "2021-12-16T20:09:05.534972Z"
    },
    "papermill": {
     "duration": 0.045151,
     "end_time": "2021-12-16T20:09:05.535519",
     "exception": false,
     "start_time": "2021-12-16T20:09:05.490368",
     "status": "completed"
    },
    "tags": []
   },
   "outputs": [],
   "source": [
    "nn_learner = Learner(loss, model_nn, opt, config.num_epochs)\n",
    "acc_nn = ClfCallback(nn_learner, config.bs, training_data_x , testing_data_x, training_data_y, testing_data_y)\n",
    "nn_learner.set_callbacks([acc_nn])"
   ]
  },
  {
   "cell_type": "code",
   "execution_count": 21,
   "id": "877b6cc7",
   "metadata": {
    "execution": {
     "iopub.execute_input": "2021-12-16T20:09:05.597029Z",
     "iopub.status.busy": "2021-12-16T20:09:05.596501Z",
     "iopub.status.idle": "2021-12-16T20:09:05.608788Z",
     "shell.execute_reply": "2021-12-16T20:09:05.608322Z"
    },
    "papermill": {
     "duration": 0.045547,
     "end_time": "2021-12-16T20:09:05.608910",
     "exception": false,
     "start_time": "2021-12-16T20:09:05.563363",
     "status": "completed"
    },
    "tags": []
   },
   "outputs": [],
   "source": [
    "lr_learner = Learner(loss, model_lr, opt, config.num_epochs)\n",
    "acc_lr = ClfCallback(lr_learner, config.bs, training_data_x , testing_data_x, training_data_y, testing_data_y)\n",
    "lr_learner.set_callbacks([acc_lr])"
   ]
  },
  {
   "cell_type": "code",
   "execution_count": 22,
   "id": "d9b133c3",
   "metadata": {
    "execution": {
     "iopub.execute_input": "2021-12-16T20:09:05.677587Z",
     "iopub.status.busy": "2021-12-16T20:09:05.675561Z",
     "iopub.status.idle": "2021-12-16T20:10:29.063782Z",
     "shell.execute_reply": "2021-12-16T20:10:29.064579Z"
    },
    "papermill": {
     "duration": 83.427852,
     "end_time": "2021-12-16T20:10:29.064741",
     "exception": false,
     "start_time": "2021-12-16T20:09:05.636889",
     "status": "completed"
    },
    "tags": []
   },
   "outputs": [
    {
     "name": "stdout",
     "output_type": "stream",
     "text": [
      "Epoch 0, Loss 0.2428\n",
      "Training Accuracy: 0.6949, Testing Accuracy: 0.6895\n",
      "\n"
     ]
    },
    {
     "name": "stdout",
     "output_type": "stream",
     "text": [
      "Epoch 10, Loss 0.0841\n",
      "Training Accuracy: 0.9240, Testing Accuracy: 0.9315\n",
      "\n"
     ]
    },
    {
     "name": "stdout",
     "output_type": "stream",
     "text": [
      "Epoch 20, Loss 0.0532\n",
      "Training Accuracy: 0.9454, Testing Accuracy: 0.9551\n",
      "\n"
     ]
    },
    {
     "name": "stdout",
     "output_type": "stream",
     "text": [
      "Epoch 30, Loss 0.0423\n",
      "Training Accuracy: 0.9548, Testing Accuracy: 0.9617\n",
      "\n"
     ]
    },
    {
     "name": "stdout",
     "output_type": "stream",
     "text": [
      "Epoch 40, Loss 0.0367\n",
      "Training Accuracy: 0.9598, Testing Accuracy: 0.9682\n",
      "\n"
     ]
    },
    {
     "name": "stdout",
     "output_type": "stream",
     "text": [
      "Epoch 50, Loss 0.0332\n",
      "Training Accuracy: 0.9625, Testing Accuracy: 0.9698\n",
      "\n"
     ]
    },
    {
     "name": "stdout",
     "output_type": "stream",
     "text": [
      "Epoch 60, Loss 0.0308\n",
      "Training Accuracy: 0.9650, Testing Accuracy: 0.9718\n",
      "\n"
     ]
    },
    {
     "name": "stdout",
     "output_type": "stream",
     "text": [
      "Epoch 70, Loss 0.0289\n",
      "Training Accuracy: 0.9670, Testing Accuracy: 0.9713\n",
      "\n"
     ]
    },
    {
     "name": "stdout",
     "output_type": "stream",
     "text": [
      "Epoch 80, Loss 0.0275\n",
      "Training Accuracy: 0.9685, Testing Accuracy: 0.9718\n",
      "\n"
     ]
    },
    {
     "name": "stdout",
     "output_type": "stream",
     "text": [
      "Epoch 90, Loss 0.0263\n",
      "Training Accuracy: 0.9691, Testing Accuracy: 0.9708\n",
      "\n"
     ]
    },
    {
     "name": "stdout",
     "output_type": "stream",
     "text": [
      "Epoch 100, Loss 0.0253\n",
      "Training Accuracy: 0.9710, Testing Accuracy: 0.9708\n",
      "\n"
     ]
    },
    {
     "name": "stdout",
     "output_type": "stream",
     "text": [
      "Epoch 110, Loss 0.0244\n",
      "Training Accuracy: 0.9720, Testing Accuracy: 0.9713\n",
      "\n"
     ]
    },
    {
     "name": "stdout",
     "output_type": "stream",
     "text": [
      "Epoch 120, Loss 0.0236\n",
      "Training Accuracy: 0.9730, Testing Accuracy: 0.9723\n",
      "\n"
     ]
    },
    {
     "name": "stdout",
     "output_type": "stream",
     "text": [
      "Epoch 130, Loss 0.0229\n",
      "Training Accuracy: 0.9742, Testing Accuracy: 0.9728\n",
      "\n"
     ]
    },
    {
     "name": "stdout",
     "output_type": "stream",
     "text": [
      "Epoch 140, Loss 0.0223\n",
      "Training Accuracy: 0.9748, Testing Accuracy: 0.9723\n",
      "\n"
     ]
    },
    {
     "name": "stdout",
     "output_type": "stream",
     "text": [
      "Epoch 150, Loss 0.0217\n",
      "Training Accuracy: 0.9755, Testing Accuracy: 0.9718\n",
      "\n"
     ]
    },
    {
     "name": "stdout",
     "output_type": "stream",
     "text": [
      "Epoch 160, Loss 0.0211\n",
      "Training Accuracy: 0.9765, Testing Accuracy: 0.9728\n",
      "\n"
     ]
    },
    {
     "name": "stdout",
     "output_type": "stream",
     "text": [
      "Epoch 170, Loss 0.0206\n",
      "Training Accuracy: 0.9770, Testing Accuracy: 0.9738\n",
      "\n"
     ]
    },
    {
     "name": "stdout",
     "output_type": "stream",
     "text": [
      "Epoch 180, Loss 0.0201\n",
      "Training Accuracy: 0.9773, Testing Accuracy: 0.9738\n",
      "\n"
     ]
    },
    {
     "name": "stdout",
     "output_type": "stream",
     "text": [
      "Epoch 190, Loss 0.0197\n",
      "Training Accuracy: 0.9779, Testing Accuracy: 0.9743\n",
      "\n"
     ]
    },
    {
     "name": "stdout",
     "output_type": "stream",
     "text": [
      "Epoch 200, Loss 0.0192\n",
      "Training Accuracy: 0.9789, Testing Accuracy: 0.9748\n",
      "\n"
     ]
    },
    {
     "name": "stdout",
     "output_type": "stream",
     "text": [
      "Epoch 210, Loss 0.0188\n",
      "Training Accuracy: 0.9795, Testing Accuracy: 0.9758\n",
      "\n"
     ]
    },
    {
     "name": "stdout",
     "output_type": "stream",
     "text": [
      "Epoch 220, Loss 0.0184\n",
      "Training Accuracy: 0.9796, Testing Accuracy: 0.9758\n",
      "\n"
     ]
    },
    {
     "name": "stdout",
     "output_type": "stream",
     "text": [
      "Epoch 230, Loss 0.0181\n",
      "Training Accuracy: 0.9800, Testing Accuracy: 0.9763\n",
      "\n"
     ]
    },
    {
     "name": "stdout",
     "output_type": "stream",
     "text": [
      "Epoch 240, Loss 0.0177\n",
      "Training Accuracy: 0.9806, Testing Accuracy: 0.9763\n",
      "\n"
     ]
    },
    {
     "data": {
      "text/plain": [
       "0.007938182497182651"
      ]
     },
     "execution_count": 22,
     "metadata": {},
     "output_type": "execute_result"
    }
   ],
   "source": [
    "nn_learner.train_loop(dl)"
   ]
  },
  {
   "cell_type": "code",
   "execution_count": 23,
   "id": "e0163366",
   "metadata": {
    "execution": {
     "iopub.execute_input": "2021-12-16T20:10:29.144278Z",
     "iopub.status.busy": "2021-12-16T20:10:29.143732Z",
     "iopub.status.idle": "2021-12-16T20:10:44.182757Z",
     "shell.execute_reply": "2021-12-16T20:10:44.183525Z"
    },
    "papermill": {
     "duration": 15.083968,
     "end_time": "2021-12-16T20:10:44.183681",
     "exception": false,
     "start_time": "2021-12-16T20:10:29.099713",
     "status": "completed"
    },
    "tags": []
   },
   "outputs": [
    {
     "name": "stdout",
     "output_type": "stream",
     "text": [
      "Epoch 0, Loss 0.2327\n",
      "Training Accuracy: 0.7433, Testing Accuracy: 0.7152\n",
      "\n"
     ]
    },
    {
     "name": "stdout",
     "output_type": "stream",
     "text": [
      "Epoch 10, Loss 0.102\n",
      "Training Accuracy: 0.9099, Testing Accuracy: 0.9189\n",
      "\n"
     ]
    },
    {
     "name": "stdout",
     "output_type": "stream",
     "text": [
      "Epoch 20, Loss 0.0791\n",
      "Training Accuracy: 0.9285, Testing Accuracy: 0.9395\n",
      "\n"
     ]
    },
    {
     "name": "stdout",
     "output_type": "stream",
     "text": [
      "Epoch 30, Loss 0.0683\n",
      "Training Accuracy: 0.9357, Testing Accuracy: 0.9466\n",
      "\n"
     ]
    },
    {
     "name": "stdout",
     "output_type": "stream",
     "text": [
      "Epoch 40, Loss 0.0618\n",
      "Training Accuracy: 0.9397, Testing Accuracy: 0.9516\n",
      "\n"
     ]
    },
    {
     "name": "stdout",
     "output_type": "stream",
     "text": [
      "Epoch 50, Loss 0.0573\n",
      "Training Accuracy: 0.9428, Testing Accuracy: 0.9541\n",
      "\n"
     ]
    },
    {
     "name": "stdout",
     "output_type": "stream",
     "text": [
      "Epoch 60, Loss 0.054\n",
      "Training Accuracy: 0.9458, Testing Accuracy: 0.9567\n",
      "\n"
     ]
    },
    {
     "name": "stdout",
     "output_type": "stream",
     "text": [
      "Epoch 70, Loss 0.0515\n",
      "Training Accuracy: 0.9477, Testing Accuracy: 0.9592\n",
      "\n"
     ]
    },
    {
     "name": "stdout",
     "output_type": "stream",
     "text": [
      "Epoch 80, Loss 0.0494\n",
      "Training Accuracy: 0.9503, Testing Accuracy: 0.9602\n",
      "\n"
     ]
    },
    {
     "name": "stdout",
     "output_type": "stream",
     "text": [
      "Epoch 90, Loss 0.0477\n",
      "Training Accuracy: 0.9516, Testing Accuracy: 0.9607\n",
      "\n"
     ]
    },
    {
     "name": "stdout",
     "output_type": "stream",
     "text": [
      "Epoch 100, Loss 0.0463\n",
      "Training Accuracy: 0.9528, Testing Accuracy: 0.9612\n",
      "\n"
     ]
    },
    {
     "name": "stdout",
     "output_type": "stream",
     "text": [
      "Epoch 110, Loss 0.0451\n",
      "Training Accuracy: 0.9542, Testing Accuracy: 0.9632\n",
      "\n"
     ]
    },
    {
     "name": "stdout",
     "output_type": "stream",
     "text": [
      "Epoch 120, Loss 0.044\n",
      "Training Accuracy: 0.9557, Testing Accuracy: 0.9637\n",
      "\n"
     ]
    },
    {
     "name": "stdout",
     "output_type": "stream",
     "text": [
      "Epoch 130, Loss 0.0431\n",
      "Training Accuracy: 0.9565, Testing Accuracy: 0.9652\n",
      "\n"
     ]
    },
    {
     "name": "stdout",
     "output_type": "stream",
     "text": [
      "Epoch 140, Loss 0.0422\n",
      "Training Accuracy: 0.9571, Testing Accuracy: 0.9657\n",
      "\n"
     ]
    },
    {
     "name": "stdout",
     "output_type": "stream",
     "text": [
      "Epoch 150, Loss 0.0415\n",
      "Training Accuracy: 0.9581, Testing Accuracy: 0.9652\n",
      "\n"
     ]
    },
    {
     "name": "stdout",
     "output_type": "stream",
     "text": [
      "Epoch 160, Loss 0.0408\n",
      "Training Accuracy: 0.9584, Testing Accuracy: 0.9652\n",
      "\n"
     ]
    },
    {
     "name": "stdout",
     "output_type": "stream",
     "text": [
      "Epoch 170, Loss 0.0402\n",
      "Training Accuracy: 0.9586, Testing Accuracy: 0.9652\n",
      "\n"
     ]
    },
    {
     "name": "stdout",
     "output_type": "stream",
     "text": [
      "Epoch 180, Loss 0.0396\n",
      "Training Accuracy: 0.9595, Testing Accuracy: 0.9657\n",
      "\n"
     ]
    },
    {
     "name": "stdout",
     "output_type": "stream",
     "text": [
      "Epoch 190, Loss 0.0391\n",
      "Training Accuracy: 0.9594, Testing Accuracy: 0.9662\n",
      "\n"
     ]
    },
    {
     "name": "stdout",
     "output_type": "stream",
     "text": [
      "Epoch 200, Loss 0.0386\n",
      "Training Accuracy: 0.9596, Testing Accuracy: 0.9667\n",
      "\n"
     ]
    },
    {
     "name": "stdout",
     "output_type": "stream",
     "text": [
      "Epoch 210, Loss 0.0382\n",
      "Training Accuracy: 0.9601, Testing Accuracy: 0.9667\n",
      "\n"
     ]
    },
    {
     "name": "stdout",
     "output_type": "stream",
     "text": [
      "Epoch 220, Loss 0.0377\n",
      "Training Accuracy: 0.9601, Testing Accuracy: 0.9662\n",
      "\n"
     ]
    },
    {
     "name": "stdout",
     "output_type": "stream",
     "text": [
      "Epoch 230, Loss 0.0374\n",
      "Training Accuracy: 0.9603, Testing Accuracy: 0.9662\n",
      "\n"
     ]
    },
    {
     "name": "stdout",
     "output_type": "stream",
     "text": [
      "Epoch 240, Loss 0.037\n",
      "Training Accuracy: 0.9604, Testing Accuracy: 0.9667\n",
      "\n"
     ]
    },
    {
     "data": {
      "text/plain": [
       "0.035356828477478446"
      ]
     },
     "execution_count": 23,
     "metadata": {},
     "output_type": "execute_result"
    }
   ],
   "source": [
    "lr_learner.train_loop(dl)"
   ]
  },
  {
   "cell_type": "code",
   "execution_count": 24,
   "id": "ca410940",
   "metadata": {
    "execution": {
     "iopub.execute_input": "2021-12-16T20:10:44.276482Z",
     "iopub.status.busy": "2021-12-16T20:10:44.275898Z",
     "iopub.status.idle": "2021-12-16T20:10:44.507299Z",
     "shell.execute_reply": "2021-12-16T20:10:44.506792Z"
    },
    "papermill": {
     "duration": 0.28213,
     "end_time": "2021-12-16T20:10:44.507440",
     "exception": false,
     "start_time": "2021-12-16T20:10:44.225310",
     "status": "completed"
    },
    "tags": []
   },
   "outputs": [
    {
     "data": {
      "text/plain": [
       "<matplotlib.legend.Legend at 0x7f5116012c50>"
      ]
     },
     "execution_count": 24,
     "metadata": {},
     "output_type": "execute_result"
    },
    {
     "data": {
      "image/png": "[encoded data removed]",
      "text/plain": [
       "<Figure size 1080x720 with 1 Axes>"
      ]
     },
     "metadata": {
      "needs_background": "light"
     },
     "output_type": "display_data"
    }
   ],
   "source": [
    "#comparing the results of NN and LR\n",
    "plt.figure(figsize=(15,10))\n",
    "\n",
    "# Neural Network plots\n",
    "plt.plot(acc_nn.accuracies, 'r-', label = \"Training Accuracies - NN\")\n",
    "plt.plot(acc_nn.test_accuracies, 'g-', label = \"Testing Accuracies - NN\")\n",
    "\n",
    "# Logistic Regression plots\n",
    "plt.plot(acc_lr.accuracies, 'k-', label = \"Training Accuracies - LR\")\n",
    "plt.plot(acc_lr.test_accuracies, 'b-', label = \"Testing Accuracies - LR\")\n",
    "plt.legend()"
   ]
  },
  {
   "cell_type": "markdown",
   "id": "80dfb35c",
   "metadata": {
    "papermill": {
     "duration": 0.042526,
     "end_time": "2021-12-16T20:10:44.593267",
     "exception": false,
     "start_time": "2021-12-16T20:10:44.550741",
     "status": "completed"
    },
    "tags": []
   },
   "source": [
    "#### Plotting the outputs of this layer of the NN.\n"
   ]
  },
  {
   "cell_type": "code",
   "execution_count": 25,
   "id": "45eb2ff5",
   "metadata": {
    "execution": {
     "iopub.execute_input": "2021-12-16T20:10:44.683155Z",
     "iopub.status.busy": "2021-12-16T20:10:44.682578Z",
     "iopub.status.idle": "2021-12-16T20:10:44.704246Z",
     "shell.execute_reply": "2021-12-16T20:10:44.704711Z"
    },
    "papermill": {
     "duration": 0.06886,
     "end_time": "2021-12-16T20:10:44.704869",
     "exception": false,
     "start_time": "2021-12-16T20:10:44.636009",
     "status": "completed"
    },
    "tags": []
   },
   "outputs": [],
   "source": [
    "new_model = Model(layers[:-2])\n",
    "testing_plot = new_model(testing_data_x)"
   ]
  },
  {
   "cell_type": "code",
   "execution_count": 26,
   "id": "4c0a5485",
   "metadata": {
    "execution": {
     "iopub.execute_input": "2021-12-16T20:10:44.799215Z",
     "iopub.status.busy": "2021-12-16T20:10:44.796977Z",
     "iopub.status.idle": "2021-12-16T20:10:44.985317Z",
     "shell.execute_reply": "2021-12-16T20:10:44.984858Z"
    },
    "papermill": {
     "duration": 0.237603,
     "end_time": "2021-12-16T20:10:44.985437",
     "exception": false,
     "start_time": "2021-12-16T20:10:44.747834",
     "status": "completed"
    },
    "tags": []
   },
   "outputs": [
    {
     "data": {
      "text/plain": [
       "Text(0.5, 1.0, 'Outputs')"
      ]
     },
     "execution_count": 26,
     "metadata": {},
     "output_type": "execute_result"
    },
    {
     "data": {
      "image/png": "[encoded data removed]",
      "text/plain": [
       "<Figure size 576x504 with 1 Axes>"
      ]
     },
     "metadata": {
      "needs_background": "light"
     },
     "output_type": "display_data"
    }
   ],
   "source": [
    "# Plotting the scatter plot of points and color coding by class\n",
    "plt.figure(figsize=(8,7))\n",
    "plt.scatter(testing_plot[:,0], testing_plot[:,1], alpha = 0.1, c = y_test.ravel());\n",
    "plt.title('Outputs')"
   ]
  },
  {
   "cell_type": "markdown",
   "id": "a74fcf8f",
   "metadata": {
    "papermill": {
     "duration": 0.044589,
     "end_time": "2021-12-16T20:10:45.074867",
     "exception": false,
     "start_time": "2021-12-16T20:10:45.030278",
     "status": "completed"
    },
    "tags": []
   },
   "source": [
    "Probability contours"
   ]
  },
  {
   "cell_type": "code",
   "execution_count": 27,
   "id": "d0afc8e3",
   "metadata": {
    "execution": {
     "iopub.execute_input": "2021-12-16T20:10:45.175442Z",
     "iopub.status.busy": "2021-12-16T20:10:45.174866Z",
     "iopub.status.idle": "2021-12-16T20:10:45.185621Z",
     "shell.execute_reply": "2021-12-16T20:10:45.184665Z"
    },
    "papermill": {
     "duration": 0.066195,
     "end_time": "2021-12-16T20:10:45.185750",
     "exception": false,
     "start_time": "2021-12-16T20:10:45.119555",
     "status": "completed"
    },
    "tags": []
   },
   "outputs": [],
   "source": [
    "model_prob = Model(layers[-2:]) "
   ]
  },
  {
   "cell_type": "code",
   "execution_count": 28,
   "id": "9b96e238",
   "metadata": {
    "execution": {
     "iopub.execute_input": "2021-12-16T20:10:45.320074Z",
     "iopub.status.busy": "2021-12-16T20:10:45.319145Z",
     "iopub.status.idle": "2021-12-16T20:10:45.333425Z",
     "shell.execute_reply": "2021-12-16T20:10:45.332921Z"
    },
    "papermill": {
     "duration": 0.068185,
     "end_time": "2021-12-16T20:10:45.333550",
     "exception": false,
     "start_time": "2021-12-16T20:10:45.265365",
     "status": "completed"
    },
    "tags": []
   },
   "outputs": [],
   "source": [
    "#creating the x and y ranges according to the above generated plot.\n",
    "x_range = np.linspace(-4, 1, 100) \n",
    "y_range = np.linspace(-6, 6, 100) \n",
    "x_grid, y_grid = np.meshgrid(x_range, y_range) # x_grid and y_grig are of size 100 X 100\n",
    "\n",
    "# converting x_grid and y_grid to continuous arrays\n",
    "x_gridflat = np.ravel(x_grid)\n",
    "y_gridflat = np.ravel(y_grid)\n",
    "\n",
    "# The last layer of the current model takes two columns as input. Hence transpose of np.vstack() is required.\n",
    "X = np.vstack((x_gridflat, y_gridflat)).T\n",
    "\n",
    "prob_contour = model_prob(X).reshape(100,100) "
   ]
  },
  {
   "cell_type": "code",
   "execution_count": 29,
   "id": "da72499a",
   "metadata": {
    "execution": {
     "iopub.execute_input": "2021-12-16T20:10:45.431750Z",
     "iopub.status.busy": "2021-12-16T20:10:45.429681Z",
     "iopub.status.idle": "2021-12-16T20:10:45.672384Z",
     "shell.execute_reply": "2021-12-16T20:10:45.672855Z"
    },
    "papermill": {
     "duration": 0.294625,
     "end_time": "2021-12-16T20:10:45.673020",
     "exception": false,
     "start_time": "2021-12-16T20:10:45.378395",
     "status": "completed"
    },
    "tags": []
   },
   "outputs": [
    {
     "data": {
      "image/png": "[encoded data removed]",
      "text/plain": [
       "<Figure size 720x648 with 1 Axes>"
      ]
     },
     "metadata": {
      "needs_background": "light"
     },
     "output_type": "display_data"
    }
   ],
   "source": [
    "plt.figure(figsize=(10,9))\n",
    "plt.scatter(testing_plot[:,0], testing_plot[:,1], alpha = 0.1, c = y_test.ravel())\n",
    "contours = plt.contour(x_grid,y_grid,prob_contour)\n",
    "plt.title('Probability Contours')\n",
    "plt.clabel(contours, inline = True );"
   ]
  },
  {
   "cell_type": "code",
   "execution_count": null,
   "id": "e81b4ac7",
   "metadata": {
    "papermill": {
     "duration": 0.047443,
     "end_time": "2021-12-16T20:10:45.768429",
     "exception": false,
     "start_time": "2021-12-16T20:10:45.720986",
     "status": "completed"
    },
    "tags": []
   },
   "outputs": [],
   "source": []
  }
 ],
 "metadata": {
  "kernelspec": {
   "display_name": "Python 3",
   "language": "python",
   "name": "python3"
  },
  "language_info": {
   "codemirror_mode": {
    "name": "ipython",
    "version": 3
   },
   "file_extension": ".py",
   "mimetype": "text/x-python",
   "name": "python",
   "nbconvert_exporter": "python",
   "pygments_lexer": "ipython3",
   "version": "3.6.15"
  },
  "papermill": {
   "default_parameters": {},
   "duration": 106.770062,
   "end_time": "2021-12-16T20:10:46.224728",
   "environment_variables": {},
   "exception": null,
   "input_path": "2020-08-11-part2.ipynb",
   "output_path": "2020-08-11-part2.ipynb",
   "parameters": {},
   "start_time": "2021-12-16T20:08:59.454666",
   "version": "2.3.3"
  }
 },
 "nbformat": 4,
 "nbformat_minor": 5
}