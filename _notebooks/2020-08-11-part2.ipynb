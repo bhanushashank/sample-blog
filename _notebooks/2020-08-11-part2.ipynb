{
 "cells": [
  {
   "cell_type": "markdown",
   "id": "98380cd3",
   "metadata": {
    "papermill": {
     "duration": 0.031163,
     "end_time": "2021-10-29T20:08:01.548403",
     "exception": false,
     "start_time": "2021-10-29T20:08:01.517240",
     "status": "completed"
    },
    "tags": []
   },
   "source": [
    "# Distinguish Your Own Digits (DYOD)"
   ]
  },
  {
   "cell_type": "markdown",
   "id": "ef31240d",
   "metadata": {
    "papermill": {
     "duration": 0.028118,
     "end_time": "2021-10-29T20:08:01.603734",
     "exception": false,
     "start_time": "2021-10-29T20:08:01.575616",
     "status": "completed"
    },
    "tags": []
   },
   "source": [
    "You are going to write a classifier that distinguishes between the number 3 and number 8."
   ]
  },
  {
   "cell_type": "code",
   "execution_count": 1,
   "id": "b15c8646",
   "metadata": {
    "execution": {
     "iopub.execute_input": "2021-10-29T20:08:01.670184Z",
     "iopub.status.busy": "2021-10-29T20:08:01.669556Z",
     "iopub.status.idle": "2021-10-29T20:08:01.680466Z",
     "shell.execute_reply": "2021-10-29T20:08:01.681011Z"
    },
    "papermill": {
     "duration": 0.049613,
     "end_time": "2021-10-29T20:08:01.681187",
     "exception": false,
     "start_time": "2021-10-29T20:08:01.631574",
     "status": "completed"
    },
    "tags": []
   },
   "outputs": [],
   "source": [
    "%load_ext autoreload\n",
    "%autoreload 2"
   ]
  },
  {
   "cell_type": "code",
   "execution_count": 2,
   "id": "22ef38dc",
   "metadata": {
    "execution": {
     "iopub.execute_input": "2021-10-29T20:08:01.740937Z",
     "iopub.status.busy": "2021-10-29T20:08:01.740330Z",
     "iopub.status.idle": "2021-10-29T20:08:02.325001Z",
     "shell.execute_reply": "2021-10-29T20:08:02.324385Z"
    },
    "papermill": {
     "duration": 0.617889,
     "end_time": "2021-10-29T20:08:02.325161",
     "exception": false,
     "start_time": "2021-10-29T20:08:01.707272",
     "status": "completed"
    },
    "tags": []
   },
   "outputs": [],
   "source": [
    "%matplotlib inline\n",
    "import numpy as np\n",
    "import matplotlib.pyplot as plt\n",
    "import pandas as pd"
   ]
  },
  {
   "cell_type": "markdown",
   "id": "ba036198",
   "metadata": {
    "papermill": {
     "duration": 0.027585,
     "end_time": "2021-10-29T20:08:02.380816",
     "exception": false,
     "start_time": "2021-10-29T20:08:02.353231",
     "status": "completed"
    },
    "tags": []
   },
   "source": [
    "From the command line run `pip install mnist`. This is a library that will help you bring down the mnist dataset. If you run this from a notebook, you need to put  `!pip install mnist` in a cell by itself."
   ]
  },
  {
   "cell_type": "code",
   "execution_count": 3,
   "id": "bb6ad8a1",
   "metadata": {
    "execution": {
     "iopub.execute_input": "2021-10-29T20:08:02.445040Z",
     "iopub.status.busy": "2021-10-29T20:08:02.444371Z",
     "iopub.status.idle": "2021-10-29T20:08:05.182707Z",
     "shell.execute_reply": "2021-10-29T20:08:05.183620Z"
    },
    "papermill": {
     "duration": 2.775588,
     "end_time": "2021-10-29T20:08:05.183804",
     "exception": false,
     "start_time": "2021-10-29T20:08:02.408216",
     "status": "completed"
    },
    "tags": []
   },
   "outputs": [
    {
     "name": "stdout",
     "output_type": "stream",
     "text": [
      "Collecting mnist\r\n"
     ]
    },
    {
     "name": "stdout",
     "output_type": "stream",
     "text": [
      "  Downloading mnist-0.2.2-py2.py3-none-any.whl (3.5 kB)\r\n",
      "Requirement already satisfied: numpy in /opt/hostedtoolcache/Python/3.6.15/x64/lib/python3.6/site-packages (from mnist) (1.19.5)\r\n"
     ]
    },
    {
     "name": "stdout",
     "output_type": "stream",
     "text": [
      "Installing collected packages: mnist\r\n"
     ]
    },
    {
     "name": "stdout",
     "output_type": "stream",
     "text": [
      "Successfully installed mnist-0.2.2\r\n"
     ]
    },
    {
     "name": "stdout",
     "output_type": "stream",
     "text": [
      "\u001b[33mWARNING: You are using pip version 21.3; however, version 21.3.1 is available.\r\n",
      "You should consider upgrading via the '/opt/hostedtoolcache/Python/3.6.15/x64/bin/python -m pip install --upgrade pip' command.\u001b[0m\r\n"
     ]
    }
   ],
   "source": [
    "!pip install mnist"
   ]
  },
  {
   "cell_type": "markdown",
   "id": "69df9c9a",
   "metadata": {
    "papermill": {
     "duration": 0.031141,
     "end_time": "2021-10-29T20:08:05.244359",
     "exception": false,
     "start_time": "2021-10-29T20:08:05.213218",
     "status": "completed"
    },
    "tags": []
   },
   "source": [
    "## Preparing the Data"
   ]
  },
  {
   "cell_type": "code",
   "execution_count": 4,
   "id": "7f69d806",
   "metadata": {
    "execution": {
     "iopub.execute_input": "2021-10-29T20:08:05.311711Z",
     "iopub.status.busy": "2021-10-29T20:08:05.310736Z",
     "iopub.status.idle": "2021-10-29T20:08:05.336280Z",
     "shell.execute_reply": "2021-10-29T20:08:05.336864Z"
    },
    "papermill": {
     "duration": 0.06384,
     "end_time": "2021-10-29T20:08:05.337031",
     "exception": false,
     "start_time": "2021-10-29T20:08:05.273191",
     "status": "completed"
    },
    "tags": []
   },
   "outputs": [],
   "source": [
    "import mnist"
   ]
  },
  {
   "cell_type": "code",
   "execution_count": 5,
   "id": "a411e44f",
   "metadata": {
    "execution": {
     "iopub.execute_input": "2021-10-29T20:08:05.398011Z",
     "iopub.status.busy": "2021-10-29T20:08:05.397430Z",
     "iopub.status.idle": "2021-10-29T20:08:06.159178Z",
     "shell.execute_reply": "2021-10-29T20:08:06.158557Z"
    },
    "papermill": {
     "duration": 0.79361,
     "end_time": "2021-10-29T20:08:06.159341",
     "exception": false,
     "start_time": "2021-10-29T20:08:05.365731",
     "status": "completed"
    },
    "tags": []
   },
   "outputs": [],
   "source": [
    "train_images = mnist.train_images()\n",
    "train_labels = mnist.train_labels()"
   ]
  },
  {
   "cell_type": "code",
   "execution_count": 6,
   "id": "dceab3a5",
   "metadata": {
    "execution": {
     "iopub.execute_input": "2021-10-29T20:08:06.223238Z",
     "iopub.status.busy": "2021-10-29T20:08:06.222637Z",
     "iopub.status.idle": "2021-10-29T20:08:06.240268Z",
     "shell.execute_reply": "2021-10-29T20:08:06.239781Z"
    },
    "papermill": {
     "duration": 0.051369,
     "end_time": "2021-10-29T20:08:06.240404",
     "exception": false,
     "start_time": "2021-10-29T20:08:06.189035",
     "status": "completed"
    },
    "tags": []
   },
   "outputs": [
    {
     "data": {
      "text/plain": [
       "((60000, 28, 28), (60000,))"
      ]
     },
     "execution_count": 6,
     "metadata": {},
     "output_type": "execute_result"
    }
   ],
   "source": [
    "train_images.shape, train_labels.shape"
   ]
  },
  {
   "cell_type": "code",
   "execution_count": 7,
   "id": "f50dc2bb",
   "metadata": {
    "execution": {
     "iopub.execute_input": "2021-10-29T20:08:06.302842Z",
     "iopub.status.busy": "2021-10-29T20:08:06.302221Z",
     "iopub.status.idle": "2021-10-29T20:08:06.506374Z",
     "shell.execute_reply": "2021-10-29T20:08:06.505821Z"
    },
    "papermill": {
     "duration": 0.237076,
     "end_time": "2021-10-29T20:08:06.506506",
     "exception": false,
     "start_time": "2021-10-29T20:08:06.269430",
     "status": "completed"
    },
    "tags": []
   },
   "outputs": [],
   "source": [
    "test_images = mnist.test_images()\n",
    "test_labels = mnist.test_labels()"
   ]
  },
  {
   "cell_type": "code",
   "execution_count": 8,
   "id": "fc38cf1b",
   "metadata": {
    "execution": {
     "iopub.execute_input": "2021-10-29T20:08:06.568812Z",
     "iopub.status.busy": "2021-10-29T20:08:06.568155Z",
     "iopub.status.idle": "2021-10-29T20:08:06.583299Z",
     "shell.execute_reply": "2021-10-29T20:08:06.582789Z"
    },
    "papermill": {
     "duration": 0.048225,
     "end_time": "2021-10-29T20:08:06.583431",
     "exception": false,
     "start_time": "2021-10-29T20:08:06.535206",
     "status": "completed"
    },
    "tags": []
   },
   "outputs": [
    {
     "data": {
      "text/plain": [
       "((10000, 28, 28), (10000,))"
      ]
     },
     "execution_count": 8,
     "metadata": {},
     "output_type": "execute_result"
    }
   ],
   "source": [
    "test_images.shape, test_labels.shape"
   ]
  },
  {
   "cell_type": "code",
   "execution_count": 9,
   "id": "f9ed8fe0",
   "metadata": {
    "execution": {
     "iopub.execute_input": "2021-10-29T20:08:06.646827Z",
     "iopub.status.busy": "2021-10-29T20:08:06.646216Z",
     "iopub.status.idle": "2021-10-29T20:08:06.809016Z",
     "shell.execute_reply": "2021-10-29T20:08:06.808458Z"
    },
    "papermill": {
     "duration": 0.196814,
     "end_time": "2021-10-29T20:08:06.809149",
     "exception": false,
     "start_time": "2021-10-29T20:08:06.612335",
     "status": "completed"
    },
    "tags": []
   },
   "outputs": [
    {
     "name": "stdout",
     "output_type": "stream",
     "text": [
      "2\n"
     ]
    },
    {
     "data": {
      "text/plain": [
       "<matplotlib.image.AxesImage at 0x7fe64e3d0080>"
      ]
     },
     "execution_count": 9,
     "metadata": {},
     "output_type": "execute_result"
    },
    {
     "data": {
      "image/png": "[encoded data removed]",
      "text/plain": [
       "<Figure size 432x288 with 1 Axes>"
      ]
     },
     "metadata": {
      "needs_background": "light"
     },
     "output_type": "display_data"
    }
   ],
   "source": [
    "image_index = 7776 # You may select anything up to 60,000\n",
    "print(train_labels[image_index]) \n",
    "plt.imshow(train_images[image_index], cmap='Greys')"
   ]
  },
  {
   "cell_type": "markdown",
   "id": "a8d2388d",
   "metadata": {
    "papermill": {
     "duration": 0.032686,
     "end_time": "2021-10-29T20:08:06.872734",
     "exception": false,
     "start_time": "2021-10-29T20:08:06.840048",
     "status": "completed"
    },
    "tags": []
   },
   "source": [
    "## Filter data to get 3 and 8 out"
   ]
  },
  {
   "cell_type": "code",
   "execution_count": 10,
   "id": "776f7fc7",
   "metadata": {
    "execution": {
     "iopub.execute_input": "2021-10-29T20:08:06.942264Z",
     "iopub.status.busy": "2021-10-29T20:08:06.940611Z",
     "iopub.status.idle": "2021-10-29T20:08:06.960505Z",
     "shell.execute_reply": "2021-10-29T20:08:06.959856Z"
    },
    "papermill": {
     "duration": 0.055176,
     "end_time": "2021-10-29T20:08:06.960637",
     "exception": false,
     "start_time": "2021-10-29T20:08:06.905461",
     "status": "completed"
    },
    "tags": []
   },
   "outputs": [],
   "source": [
    "train_filter = np.where((train_labels == 3 ) | (train_labels == 8))\n",
    "test_filter = np.where((test_labels == 3) | (test_labels == 8))\n",
    "X_train, y_train = train_images[train_filter], train_labels[train_filter]\n",
    "X_test, y_test = test_images[test_filter], test_labels[test_filter]"
   ]
  },
  {
   "cell_type": "markdown",
   "id": "948f0b7e",
   "metadata": {
    "papermill": {
     "duration": 0.030394,
     "end_time": "2021-10-29T20:08:07.022544",
     "exception": false,
     "start_time": "2021-10-29T20:08:06.992150",
     "status": "completed"
    },
    "tags": []
   },
   "source": [
    "We normalize the pizel values in the 0 to 1 range"
   ]
  },
  {
   "cell_type": "code",
   "execution_count": 11,
   "id": "ee4c2166",
   "metadata": {
    "execution": {
     "iopub.execute_input": "2021-10-29T20:08:07.094169Z",
     "iopub.status.busy": "2021-10-29T20:08:07.091908Z",
     "iopub.status.idle": "2021-10-29T20:08:07.145799Z",
     "shell.execute_reply": "2021-10-29T20:08:07.144883Z"
    },
    "papermill": {
     "duration": 0.092026,
     "end_time": "2021-10-29T20:08:07.145944",
     "exception": false,
     "start_time": "2021-10-29T20:08:07.053918",
     "status": "completed"
    },
    "tags": []
   },
   "outputs": [],
   "source": [
    "X_train = X_train/255.\n",
    "X_test = X_test/255."
   ]
  },
  {
   "cell_type": "markdown",
   "id": "ddcf4fab",
   "metadata": {
    "papermill": {
     "duration": 0.030901,
     "end_time": "2021-10-29T20:08:07.207520",
     "exception": false,
     "start_time": "2021-10-29T20:08:07.176619",
     "status": "completed"
    },
    "tags": []
   },
   "source": [
    "And setup the labels as 1 (when the digit is 3) and 0 (when the digit is 8)"
   ]
  },
  {
   "cell_type": "code",
   "execution_count": 12,
   "id": "7dc908f2",
   "metadata": {
    "execution": {
     "iopub.execute_input": "2021-10-29T20:08:07.277841Z",
     "iopub.status.busy": "2021-10-29T20:08:07.271972Z",
     "iopub.status.idle": "2021-10-29T20:08:07.286924Z",
     "shell.execute_reply": "2021-10-29T20:08:07.287414Z"
    },
    "papermill": {
     "duration": 0.049655,
     "end_time": "2021-10-29T20:08:07.287570",
     "exception": false,
     "start_time": "2021-10-29T20:08:07.237915",
     "status": "completed"
    },
    "tags": []
   },
   "outputs": [],
   "source": [
    "y_train = 1*(y_train==3)\n",
    "y_test = 1*(y_test==3)"
   ]
  },
  {
   "cell_type": "code",
   "execution_count": 13,
   "id": "01e4e969",
   "metadata": {
    "execution": {
     "iopub.execute_input": "2021-10-29T20:08:07.354685Z",
     "iopub.status.busy": "2021-10-29T20:08:07.354070Z",
     "iopub.status.idle": "2021-10-29T20:08:07.367886Z",
     "shell.execute_reply": "2021-10-29T20:08:07.368337Z"
    },
    "papermill": {
     "duration": 0.050173,
     "end_time": "2021-10-29T20:08:07.368498",
     "exception": false,
     "start_time": "2021-10-29T20:08:07.318325",
     "status": "completed"
    },
    "tags": []
   },
   "outputs": [
    {
     "data": {
      "text/plain": [
       "((11982, 28, 28), (1984, 28, 28))"
      ]
     },
     "execution_count": 13,
     "metadata": {},
     "output_type": "execute_result"
    }
   ],
   "source": [
    "X_train.shape, X_test.shape"
   ]
  },
  {
   "cell_type": "markdown",
   "id": "5ccf3f85",
   "metadata": {
    "papermill": {
     "duration": 0.030513,
     "end_time": "2021-10-29T20:08:07.429743",
     "exception": false,
     "start_time": "2021-10-29T20:08:07.399230",
     "status": "completed"
    },
    "tags": []
   },
   "source": [
    "We reshape the data to flatten the image pixels into a set of features or co-variates:"
   ]
  },
  {
   "cell_type": "code",
   "execution_count": 14,
   "id": "5286a4a3",
   "metadata": {
    "execution": {
     "iopub.execute_input": "2021-10-29T20:08:07.496787Z",
     "iopub.status.busy": "2021-10-29T20:08:07.496141Z",
     "iopub.status.idle": "2021-10-29T20:08:07.511730Z",
     "shell.execute_reply": "2021-10-29T20:08:07.511219Z"
    },
    "papermill": {
     "duration": 0.051372,
     "end_time": "2021-10-29T20:08:07.511862",
     "exception": false,
     "start_time": "2021-10-29T20:08:07.460490",
     "status": "completed"
    },
    "tags": []
   },
   "outputs": [
    {
     "data": {
      "text/plain": [
       "((11982, 784), (1984, 784))"
      ]
     },
     "execution_count": 14,
     "metadata": {},
     "output_type": "execute_result"
    }
   ],
   "source": [
    "X_train = X_train.reshape(X_train.shape[0], -1)\n",
    "X_test = X_test.reshape(X_test.shape[0], -1)\n",
    "X_train.shape, X_test.shape"
   ]
  },
  {
   "cell_type": "code",
   "execution_count": 15,
   "id": "73c5f88a",
   "metadata": {
    "execution": {
     "iopub.execute_input": "2021-10-29T20:08:07.580558Z",
     "iopub.status.busy": "2021-10-29T20:08:07.579912Z",
     "iopub.status.idle": "2021-10-29T20:08:07.600441Z",
     "shell.execute_reply": "2021-10-29T20:08:07.599949Z"
    },
    "papermill": {
     "duration": 0.057541,
     "end_time": "2021-10-29T20:08:07.600579",
     "exception": false,
     "start_time": "2021-10-29T20:08:07.543038",
     "status": "completed"
    },
    "tags": []
   },
   "outputs": [],
   "source": [
    "#Impoting functions from 'Kudzu'\n",
    "from kudzu.model import Model\n",
    "from kudzu.train import Learner\n",
    "from kudzu.optim import GD\n",
    "from kudzu.data import Data, Sampler,Dataloader\n",
    "\n",
    "from kudzu.callbacks import AccCallback\n",
    "from kudzu.callbacks import ClfCallback\n",
    "\n",
    "from kudzu.loss import MSE\n",
    "\n",
    "from kudzu.layer import Sigmoid,Relu\n",
    "from kudzu.layer import Affine"
   ]
  },
  {
   "cell_type": "markdown",
   "id": "bc01172a",
   "metadata": {
    "papermill": {
     "duration": 0.030866,
     "end_time": "2021-10-29T20:08:07.662876",
     "exception": false,
     "start_time": "2021-10-29T20:08:07.632010",
     "status": "completed"
    },
    "tags": []
   },
   "source": [
    "### Let us create a `Config` class, to store important parameters. \n",
    "This class essentially plays the role of a dictionary."
   ]
  },
  {
   "cell_type": "code",
   "execution_count": 16,
   "id": "978281aa",
   "metadata": {
    "execution": {
     "iopub.execute_input": "2021-10-29T20:08:07.729143Z",
     "iopub.status.busy": "2021-10-29T20:08:07.728494Z",
     "iopub.status.idle": "2021-10-29T20:08:07.742776Z",
     "shell.execute_reply": "2021-10-29T20:08:07.742263Z"
    },
    "papermill": {
     "duration": 0.049119,
     "end_time": "2021-10-29T20:08:07.742910",
     "exception": false,
     "start_time": "2021-10-29T20:08:07.693791",
     "status": "completed"
    },
    "tags": []
   },
   "outputs": [],
   "source": [
    "class Config:\n",
    "    pass\n",
    "config = Config()\n",
    "config.lr = 0.001\n",
    "config.num_epochs = 250\n",
    "config.bs = 50"
   ]
  },
  {
   "cell_type": "markdown",
   "id": "1385fa59",
   "metadata": {
    "papermill": {
     "duration": 0.030866,
     "end_time": "2021-10-29T20:08:07.805539",
     "exception": false,
     "start_time": "2021-10-29T20:08:07.774673",
     "status": "completed"
    },
    "tags": []
   },
   "source": [
    "### Running Models with the Training data\n",
    "Details about the network layers:\n",
    "- A first affine layer has 784 inputs and does 100 affine transforms. These are followed by a Relu\n",
    "- A second affine layer has 100 inputs from the 100 activations of the past layer, and does 100 affine transforms. These are followed by a Relu\n",
    "- A third affine layer has 100 activations and does 2 affine transformations to create an embedding for visualization. There is no non-linearity here.\n",
    "- A final \"logistic regression\" which has an affine transform from 2 inputs to 1 output, which is squeezed through a sigmoid.\n"
   ]
  },
  {
   "cell_type": "code",
   "execution_count": 17,
   "id": "2b9c66db",
   "metadata": {
    "execution": {
     "iopub.execute_input": "2021-10-29T20:08:07.873843Z",
     "iopub.status.busy": "2021-10-29T20:08:07.873227Z",
     "iopub.status.idle": "2021-10-29T20:08:07.886510Z",
     "shell.execute_reply": "2021-10-29T20:08:07.886015Z"
    },
    "papermill": {
     "duration": 0.050114,
     "end_time": "2021-10-29T20:08:07.886647",
     "exception": false,
     "start_time": "2021-10-29T20:08:07.836533",
     "status": "completed"
    },
    "tags": []
   },
   "outputs": [],
   "source": [
    "data = Data(X_train, y_train.reshape(-1,1))\n",
    "sampler = Sampler(data, config.bs, shuffle=True)\n",
    "\n",
    "dl = Dataloader(data, sampler)\n",
    "\n",
    "opt = GD(config.lr)\n",
    "loss = MSE()"
   ]
  },
  {
   "cell_type": "code",
   "execution_count": 18,
   "id": "b275e4c2",
   "metadata": {
    "execution": {
     "iopub.execute_input": "2021-10-29T20:08:07.952575Z",
     "iopub.status.busy": "2021-10-29T20:08:07.951961Z",
     "iopub.status.idle": "2021-10-29T20:08:07.967180Z",
     "shell.execute_reply": "2021-10-29T20:08:07.966686Z"
    },
    "papermill": {
     "duration": 0.049682,
     "end_time": "2021-10-29T20:08:07.967314",
     "exception": false,
     "start_time": "2021-10-29T20:08:07.917632",
     "status": "completed"
    },
    "tags": []
   },
   "outputs": [],
   "source": [
    "training_data_x = X_train\n",
    "testing_data_x = X_test\n",
    "training_data_y = y_train.reshape(-1,1)\n",
    "testing_data_y = y_test.reshape(-1,1)"
   ]
  },
  {
   "cell_type": "code",
   "execution_count": 19,
   "id": "76951160",
   "metadata": {
    "execution": {
     "iopub.execute_input": "2021-10-29T20:08:08.034841Z",
     "iopub.status.busy": "2021-10-29T20:08:08.034210Z",
     "iopub.status.idle": "2021-10-29T20:08:08.053451Z",
     "shell.execute_reply": "2021-10-29T20:08:08.052921Z"
    },
    "papermill": {
     "duration": 0.055287,
     "end_time": "2021-10-29T20:08:08.053583",
     "exception": false,
     "start_time": "2021-10-29T20:08:07.998296",
     "status": "completed"
    },
    "tags": []
   },
   "outputs": [
    {
     "name": "stdout",
     "output_type": "stream",
     "text": [
      "xavier\n",
      "xavier\n",
      "xavier\n",
      "xavier\n",
      "xavier\n"
     ]
    }
   ],
   "source": [
    "layers = [Affine(\"first\", 784, 100), Relu(\"first\"), Affine(\"second\", 100, 100), Relu(\"second\"), Affine(\"third\", 100, 2), Affine(\"last\", 2, 1), Sigmoid(\"last\")]\n",
    "model_nn = Model(layers)\n",
    "model_lr = Model([Affine(\"logits\", 784, 1), Sigmoid(\"sigmoid\")])"
   ]
  },
  {
   "cell_type": "code",
   "execution_count": 20,
   "id": "6eede77a",
   "metadata": {
    "execution": {
     "iopub.execute_input": "2021-10-29T20:08:08.120927Z",
     "iopub.status.busy": "2021-10-29T20:08:08.120262Z",
     "iopub.status.idle": "2021-10-29T20:08:08.135165Z",
     "shell.execute_reply": "2021-10-29T20:08:08.135618Z"
    },
    "papermill": {
     "duration": 0.050619,
     "end_time": "2021-10-29T20:08:08.135775",
     "exception": false,
     "start_time": "2021-10-29T20:08:08.085156",
     "status": "completed"
    },
    "tags": []
   },
   "outputs": [],
   "source": [
    "nn_learner = Learner(loss, model_nn, opt, config.num_epochs)\n",
    "acc_nn = ClfCallback(nn_learner, config.bs, training_data_x , testing_data_x, training_data_y, testing_data_y)\n",
    "nn_learner.set_callbacks([acc_nn])"
   ]
  },
  {
   "cell_type": "code",
   "execution_count": 21,
   "id": "877b6cc7",
   "metadata": {
    "execution": {
     "iopub.execute_input": "2021-10-29T20:08:08.202739Z",
     "iopub.status.busy": "2021-10-29T20:08:08.202124Z",
     "iopub.status.idle": "2021-10-29T20:08:08.215068Z",
     "shell.execute_reply": "2021-10-29T20:08:08.215579Z"
    },
    "papermill": {
     "duration": 0.049221,
     "end_time": "2021-10-29T20:08:08.215732",
     "exception": false,
     "start_time": "2021-10-29T20:08:08.166511",
     "status": "completed"
    },
    "tags": []
   },
   "outputs": [],
   "source": [
    "lr_learner = Learner(loss, model_lr, opt, config.num_epochs)\n",
    "acc_lr = ClfCallback(lr_learner, config.bs, training_data_x , testing_data_x, training_data_y, testing_data_y)\n",
    "lr_learner.set_callbacks([acc_lr])"
   ]
  },
  {
   "cell_type": "code",
   "execution_count": 22,
   "id": "d9b133c3",
   "metadata": {
    "execution": {
     "iopub.execute_input": "2021-10-29T20:08:08.289927Z",
     "iopub.status.busy": "2021-10-29T20:08:08.286538Z",
     "iopub.status.idle": "2021-10-29T20:09:37.350593Z",
     "shell.execute_reply": "2021-10-29T20:09:37.351386Z"
    },
    "papermill": {
     "duration": 89.105043,
     "end_time": "2021-10-29T20:09:37.351543",
     "exception": false,
     "start_time": "2021-10-29T20:08:08.246500",
     "status": "completed"
    },
    "tags": []
   },
   "outputs": [
    {
     "name": "stdout",
     "output_type": "stream",
     "text": [
      "Epoch 0, Loss 0.2557\n",
      "Training Accuracy: 0.3840, Testing Accuracy: 0.3634\n",
      "\n"
     ]
    },
    {
     "name": "stdout",
     "output_type": "stream",
     "text": [
      "Epoch 10, Loss 0.2256\n",
      "Training Accuracy: 0.8270, Testing Accuracy: 0.8332\n",
      "\n"
     ]
    },
    {
     "name": "stdout",
     "output_type": "stream",
     "text": [
      "Epoch 20, Loss 0.1413\n",
      "Training Accuracy: 0.9039, Testing Accuracy: 0.9183\n",
      "\n"
     ]
    },
    {
     "name": "stdout",
     "output_type": "stream",
     "text": [
      "Epoch 30, Loss 0.0733\n",
      "Training Accuracy: 0.9280, Testing Accuracy: 0.9390\n",
      "\n"
     ]
    },
    {
     "name": "stdout",
     "output_type": "stream",
     "text": [
      "Epoch 40, Loss 0.0526\n",
      "Training Accuracy: 0.9442, Testing Accuracy: 0.9521\n",
      "\n"
     ]
    },
    {
     "name": "stdout",
     "output_type": "stream",
     "text": [
      "Epoch 50, Loss 0.0436\n",
      "Training Accuracy: 0.9523, Testing Accuracy: 0.9597\n",
      "\n"
     ]
    },
    {
     "name": "stdout",
     "output_type": "stream",
     "text": [
      "Epoch 60, Loss 0.0387\n",
      "Training Accuracy: 0.9574, Testing Accuracy: 0.9642\n",
      "\n"
     ]
    },
    {
     "name": "stdout",
     "output_type": "stream",
     "text": [
      "Epoch 70, Loss 0.0355\n",
      "Training Accuracy: 0.9594, Testing Accuracy: 0.9672\n",
      "\n"
     ]
    },
    {
     "name": "stdout",
     "output_type": "stream",
     "text": [
      "Epoch 80, Loss 0.0332\n",
      "Training Accuracy: 0.9618, Testing Accuracy: 0.9677\n",
      "\n"
     ]
    },
    {
     "name": "stdout",
     "output_type": "stream",
     "text": [
      "Epoch 90, Loss 0.0315\n",
      "Training Accuracy: 0.9634, Testing Accuracy: 0.9698\n",
      "\n"
     ]
    },
    {
     "name": "stdout",
     "output_type": "stream",
     "text": [
      "Epoch 100, Loss 0.03\n",
      "Training Accuracy: 0.9653, Testing Accuracy: 0.9703\n",
      "\n"
     ]
    },
    {
     "name": "stdout",
     "output_type": "stream",
     "text": [
      "Epoch 110, Loss 0.0288\n",
      "Training Accuracy: 0.9655, Testing Accuracy: 0.9713\n",
      "\n"
     ]
    },
    {
     "name": "stdout",
     "output_type": "stream",
     "text": [
      "Epoch 120, Loss 0.0278\n",
      "Training Accuracy: 0.9670, Testing Accuracy: 0.9718\n",
      "\n"
     ]
    },
    {
     "name": "stdout",
     "output_type": "stream",
     "text": [
      "Epoch 130, Loss 0.0268\n",
      "Training Accuracy: 0.9680, Testing Accuracy: 0.9723\n",
      "\n"
     ]
    },
    {
     "name": "stdout",
     "output_type": "stream",
     "text": [
      "Epoch 140, Loss 0.026\n",
      "Training Accuracy: 0.9690, Testing Accuracy: 0.9723\n",
      "\n"
     ]
    },
    {
     "name": "stdout",
     "output_type": "stream",
     "text": [
      "Epoch 150, Loss 0.0252\n",
      "Training Accuracy: 0.9699, Testing Accuracy: 0.9723\n",
      "\n"
     ]
    },
    {
     "name": "stdout",
     "output_type": "stream",
     "text": [
      "Epoch 160, Loss 0.0245\n",
      "Training Accuracy: 0.9710, Testing Accuracy: 0.9728\n",
      "\n"
     ]
    },
    {
     "name": "stdout",
     "output_type": "stream",
     "text": [
      "Epoch 170, Loss 0.0238\n",
      "Training Accuracy: 0.9720, Testing Accuracy: 0.9723\n",
      "\n"
     ]
    },
    {
     "name": "stdout",
     "output_type": "stream",
     "text": [
      "Epoch 180, Loss 0.0232\n",
      "Training Accuracy: 0.9726, Testing Accuracy: 0.9728\n",
      "\n"
     ]
    },
    {
     "name": "stdout",
     "output_type": "stream",
     "text": [
      "Epoch 190, Loss 0.0226\n",
      "Training Accuracy: 0.9740, Testing Accuracy: 0.9723\n",
      "\n"
     ]
    },
    {
     "name": "stdout",
     "output_type": "stream",
     "text": [
      "Epoch 200, Loss 0.0221\n",
      "Training Accuracy: 0.9750, Testing Accuracy: 0.9728\n",
      "\n"
     ]
    },
    {
     "name": "stdout",
     "output_type": "stream",
     "text": [
      "Epoch 210, Loss 0.0216\n",
      "Training Accuracy: 0.9757, Testing Accuracy: 0.9718\n",
      "\n"
     ]
    },
    {
     "name": "stdout",
     "output_type": "stream",
     "text": [
      "Epoch 220, Loss 0.0211\n",
      "Training Accuracy: 0.9763, Testing Accuracy: 0.9723\n",
      "\n"
     ]
    },
    {
     "name": "stdout",
     "output_type": "stream",
     "text": [
      "Epoch 230, Loss 0.0206\n",
      "Training Accuracy: 0.9770, Testing Accuracy: 0.9723\n",
      "\n"
     ]
    },
    {
     "name": "stdout",
     "output_type": "stream",
     "text": [
      "Epoch 240, Loss 0.0202\n",
      "Training Accuracy: 0.9777, Testing Accuracy: 0.9728\n",
      "\n"
     ]
    },
    {
     "data": {
      "text/plain": [
       "0.033239560608888274"
      ]
     },
     "execution_count": 22,
     "metadata": {},
     "output_type": "execute_result"
    }
   ],
   "source": [
    "nn_learner.train_loop(dl)"
   ]
  },
  {
   "cell_type": "code",
   "execution_count": 23,
   "id": "e0163366",
   "metadata": {
    "execution": {
     "iopub.execute_input": "2021-10-29T20:09:37.438259Z",
     "iopub.status.busy": "2021-10-29T20:09:37.437651Z",
     "iopub.status.idle": "2021-10-29T20:09:52.807887Z",
     "shell.execute_reply": "2021-10-29T20:09:52.808707Z"
    },
    "papermill": {
     "duration": 15.419025,
     "end_time": "2021-10-29T20:09:52.808870",
     "exception": false,
     "start_time": "2021-10-29T20:09:37.389845",
     "status": "completed"
    },
    "tags": []
   },
   "outputs": [
    {
     "name": "stdout",
     "output_type": "stream",
     "text": [
      "Epoch 0, Loss 0.2165\n",
      "Training Accuracy: 0.7916, Testing Accuracy: 0.7979\n",
      "\n"
     ]
    },
    {
     "name": "stdout",
     "output_type": "stream",
     "text": [
      "Epoch 10, Loss 0.0992\n",
      "Training Accuracy: 0.9162, Testing Accuracy: 0.9320\n",
      "\n"
     ]
    },
    {
     "name": "stdout",
     "output_type": "stream",
     "text": [
      "Epoch 20, Loss 0.077\n",
      "Training Accuracy: 0.9329, Testing Accuracy: 0.9471\n",
      "\n"
     ]
    },
    {
     "name": "stdout",
     "output_type": "stream",
     "text": [
      "Epoch 30, Loss 0.0666\n",
      "Training Accuracy: 0.9398, Testing Accuracy: 0.9521\n",
      "\n"
     ]
    },
    {
     "name": "stdout",
     "output_type": "stream",
     "text": [
      "Epoch 40, Loss 0.0603\n",
      "Training Accuracy: 0.9435, Testing Accuracy: 0.9546\n",
      "\n"
     ]
    },
    {
     "name": "stdout",
     "output_type": "stream",
     "text": [
      "Epoch 50, Loss 0.0561\n",
      "Training Accuracy: 0.9470, Testing Accuracy: 0.9592\n",
      "\n"
     ]
    },
    {
     "name": "stdout",
     "output_type": "stream",
     "text": [
      "Epoch 60, Loss 0.0529\n",
      "Training Accuracy: 0.9506, Testing Accuracy: 0.9597\n",
      "\n"
     ]
    },
    {
     "name": "stdout",
     "output_type": "stream",
     "text": [
      "Epoch 70, Loss 0.0505\n",
      "Training Accuracy: 0.9519, Testing Accuracy: 0.9592\n",
      "\n"
     ]
    },
    {
     "name": "stdout",
     "output_type": "stream",
     "text": [
      "Epoch 80, Loss 0.0485\n",
      "Training Accuracy: 0.9528, Testing Accuracy: 0.9602\n",
      "\n"
     ]
    },
    {
     "name": "stdout",
     "output_type": "stream",
     "text": [
      "Epoch 90, Loss 0.0469\n",
      "Training Accuracy: 0.9538, Testing Accuracy: 0.9607\n",
      "\n"
     ]
    },
    {
     "name": "stdout",
     "output_type": "stream",
     "text": [
      "Epoch 100, Loss 0.0455\n",
      "Training Accuracy: 0.9550, Testing Accuracy: 0.9612\n",
      "\n"
     ]
    },
    {
     "name": "stdout",
     "output_type": "stream",
     "text": [
      "Epoch 110, Loss 0.0443\n",
      "Training Accuracy: 0.9556, Testing Accuracy: 0.9622\n",
      "\n"
     ]
    },
    {
     "name": "stdout",
     "output_type": "stream",
     "text": [
      "Epoch 120, Loss 0.0433\n",
      "Training Accuracy: 0.9569, Testing Accuracy: 0.9627\n",
      "\n"
     ]
    },
    {
     "name": "stdout",
     "output_type": "stream",
     "text": [
      "Epoch 130, Loss 0.0424\n",
      "Training Accuracy: 0.9577, Testing Accuracy: 0.9637\n",
      "\n"
     ]
    },
    {
     "name": "stdout",
     "output_type": "stream",
     "text": [
      "Epoch 140, Loss 0.0416\n",
      "Training Accuracy: 0.9577, Testing Accuracy: 0.9647\n",
      "\n"
     ]
    },
    {
     "name": "stdout",
     "output_type": "stream",
     "text": [
      "Epoch 150, Loss 0.0408\n",
      "Training Accuracy: 0.9579, Testing Accuracy: 0.9642\n",
      "\n"
     ]
    },
    {
     "name": "stdout",
     "output_type": "stream",
     "text": [
      "Epoch 160, Loss 0.0402\n",
      "Training Accuracy: 0.9590, Testing Accuracy: 0.9652\n",
      "\n"
     ]
    },
    {
     "name": "stdout",
     "output_type": "stream",
     "text": [
      "Epoch 170, Loss 0.0396\n",
      "Training Accuracy: 0.9593, Testing Accuracy: 0.9652\n",
      "\n"
     ]
    },
    {
     "name": "stdout",
     "output_type": "stream",
     "text": [
      "Epoch 180, Loss 0.0391\n",
      "Training Accuracy: 0.9596, Testing Accuracy: 0.9657\n",
      "\n"
     ]
    },
    {
     "name": "stdout",
     "output_type": "stream",
     "text": [
      "Epoch 190, Loss 0.0386\n",
      "Training Accuracy: 0.9599, Testing Accuracy: 0.9657\n",
      "\n"
     ]
    },
    {
     "name": "stdout",
     "output_type": "stream",
     "text": [
      "Epoch 200, Loss 0.0381\n",
      "Training Accuracy: 0.9603, Testing Accuracy: 0.9662\n",
      "\n"
     ]
    },
    {
     "name": "stdout",
     "output_type": "stream",
     "text": [
      "Epoch 210, Loss 0.0377\n",
      "Training Accuracy: 0.9604, Testing Accuracy: 0.9662\n",
      "\n"
     ]
    },
    {
     "name": "stdout",
     "output_type": "stream",
     "text": [
      "Epoch 220, Loss 0.0373\n",
      "Training Accuracy: 0.9607, Testing Accuracy: 0.9662\n",
      "\n"
     ]
    },
    {
     "name": "stdout",
     "output_type": "stream",
     "text": [
      "Epoch 230, Loss 0.0369\n",
      "Training Accuracy: 0.9607, Testing Accuracy: 0.9667\n",
      "\n"
     ]
    },
    {
     "name": "stdout",
     "output_type": "stream",
     "text": [
      "Epoch 240, Loss 0.0365\n",
      "Training Accuracy: 0.9609, Testing Accuracy: 0.9672\n",
      "\n"
     ]
    },
    {
     "data": {
      "text/plain": [
       "0.032161977574517504"
      ]
     },
     "execution_count": 23,
     "metadata": {},
     "output_type": "execute_result"
    }
   ],
   "source": [
    "lr_learner.train_loop(dl)"
   ]
  },
  {
   "cell_type": "code",
   "execution_count": 24,
   "id": "ca410940",
   "metadata": {
    "execution": {
     "iopub.execute_input": "2021-10-29T20:09:52.910644Z",
     "iopub.status.busy": "2021-10-29T20:09:52.910029Z",
     "iopub.status.idle": "2021-10-29T20:09:53.168370Z",
     "shell.execute_reply": "2021-10-29T20:09:53.168971Z"
    },
    "papermill": {
     "duration": 0.312808,
     "end_time": "2021-10-29T20:09:53.169152",
     "exception": false,
     "start_time": "2021-10-29T20:09:52.856344",
     "status": "completed"
    },
    "tags": []
   },
   "outputs": [
    {
     "data": {
      "text/plain": [
       "<matplotlib.legend.Legend at 0x7fe64df2e710>"
      ]
     },
     "execution_count": 24,
     "metadata": {},
     "output_type": "execute_result"
    },
    {
     "data": {
      "image/png": "[encoded data removed]",
      "text/plain": [
       "<Figure size 1080x720 with 1 Axes>"
      ]
     },
     "metadata": {
      "needs_background": "light"
     },
     "output_type": "display_data"
    }
   ],
   "source": [
    "#comparing the results of NN and LR\n",
    "plt.figure(figsize=(15,10))\n",
    "\n",
    "# Neural Network plots\n",
    "plt.plot(acc_nn.accuracies, 'r-', label = \"Training Accuracies - NN\")\n",
    "plt.plot(acc_nn.test_accuracies, 'g-', label = \"Testing Accuracies - NN\")\n",
    "\n",
    "# Logistic Regression plots\n",
    "plt.plot(acc_lr.accuracies, 'k-', label = \"Training Accuracies - LR\")\n",
    "plt.plot(acc_lr.test_accuracies, 'b-', label = \"Testing Accuracies - LR\")\n",
    "plt.legend()"
   ]
  },
  {
   "cell_type": "markdown",
   "id": "80dfb35c",
   "metadata": {
    "papermill": {
     "duration": 0.046915,
     "end_time": "2021-10-29T20:09:53.263734",
     "exception": false,
     "start_time": "2021-10-29T20:09:53.216819",
     "status": "completed"
    },
    "tags": []
   },
   "source": [
    "#### Plotting the outputs of this layer of the NN.\n"
   ]
  },
  {
   "cell_type": "code",
   "execution_count": 25,
   "id": "45eb2ff5",
   "metadata": {
    "execution": {
     "iopub.execute_input": "2021-10-29T20:09:53.365152Z",
     "iopub.status.busy": "2021-10-29T20:09:53.364471Z",
     "iopub.status.idle": "2021-10-29T20:09:53.383223Z",
     "shell.execute_reply": "2021-10-29T20:09:53.383683Z"
    },
    "papermill": {
     "duration": 0.072982,
     "end_time": "2021-10-29T20:09:53.383829",
     "exception": false,
     "start_time": "2021-10-29T20:09:53.310847",
     "status": "completed"
    },
    "tags": []
   },
   "outputs": [],
   "source": [
    "new_model = Model(layers[:-2])\n",
    "testing_plot = new_model(testing_data_x)"
   ]
  },
  {
   "cell_type": "code",
   "execution_count": 26,
   "id": "4c0a5485",
   "metadata": {
    "execution": {
     "iopub.execute_input": "2021-10-29T20:09:53.494168Z",
     "iopub.status.busy": "2021-10-29T20:09:53.493545Z",
     "iopub.status.idle": "2021-10-29T20:09:53.717051Z",
     "shell.execute_reply": "2021-10-29T20:09:53.716170Z"
    },
    "papermill": {
     "duration": 0.281653,
     "end_time": "2021-10-29T20:09:53.717204",
     "exception": false,
     "start_time": "2021-10-29T20:09:53.435551",
     "status": "completed"
    },
    "tags": []
   },
   "outputs": [
    {
     "data": {
      "text/plain": [
       "Text(0.5, 1.0, 'Outputs')"
      ]
     },
     "execution_count": 26,
     "metadata": {},
     "output_type": "execute_result"
    },
    {
     "data": {
      "image/png": "[encoded data removed]",
      "text/plain": [
       "<Figure size 576x504 with 1 Axes>"
      ]
     },
     "metadata": {
      "needs_background": "light"
     },
     "output_type": "display_data"
    }
   ],
   "source": [
    "# Plotting the scatter plot of points and color coding by class\n",
    "plt.figure(figsize=(8,7))\n",
    "plt.scatter(testing_plot[:,0], testing_plot[:,1], alpha = 0.1, c = y_test.ravel());\n",
    "plt.title('Outputs')"
   ]
  },
  {
   "cell_type": "markdown",
   "id": "a74fcf8f",
   "metadata": {
    "papermill": {
     "duration": 0.05151,
     "end_time": "2021-10-29T20:09:53.823991",
     "exception": false,
     "start_time": "2021-10-29T20:09:53.772481",
     "status": "completed"
    },
    "tags": []
   },
   "source": [
    "Probability contours"
   ]
  },
  {
   "cell_type": "code",
   "execution_count": 27,
   "id": "d0afc8e3",
   "metadata": {
    "execution": {
     "iopub.execute_input": "2021-10-29T20:09:53.934972Z",
     "iopub.status.busy": "2021-10-29T20:09:53.933261Z",
     "iopub.status.idle": "2021-10-29T20:09:53.946604Z",
     "shell.execute_reply": "2021-10-29T20:09:53.947069Z"
    },
    "papermill": {
     "duration": 0.073604,
     "end_time": "2021-10-29T20:09:53.947213",
     "exception": false,
     "start_time": "2021-10-29T20:09:53.873609",
     "status": "completed"
    },
    "tags": []
   },
   "outputs": [],
   "source": [
    "model_prob = Model(layers[-2:]) "
   ]
  },
  {
   "cell_type": "code",
   "execution_count": 28,
   "id": "9b96e238",
   "metadata": {
    "execution": {
     "iopub.execute_input": "2021-10-29T20:09:54.082255Z",
     "iopub.status.busy": "2021-10-29T20:09:54.081635Z",
     "iopub.status.idle": "2021-10-29T20:09:54.097716Z",
     "shell.execute_reply": "2021-10-29T20:09:54.098160Z"
    },
    "papermill": {
     "duration": 0.072105,
     "end_time": "2021-10-29T20:09:54.098308",
     "exception": false,
     "start_time": "2021-10-29T20:09:54.026203",
     "status": "completed"
    },
    "tags": []
   },
   "outputs": [],
   "source": [
    "#creating the x and y ranges according to the above generated plot.\n",
    "x_range = np.linspace(-4, 1, 100) \n",
    "y_range = np.linspace(-6, 6, 100) \n",
    "x_grid, y_grid = np.meshgrid(x_range, y_range) # x_grid and y_grig are of size 100 X 100\n",
    "\n",
    "# converting x_grid and y_grid to continuous arrays\n",
    "x_gridflat = np.ravel(x_grid)\n",
    "y_gridflat = np.ravel(y_grid)\n",
    "\n",
    "# The last layer of the current model takes two columns as input. Hence transpose of np.vstack() is required.\n",
    "X = np.vstack((x_gridflat, y_gridflat)).T\n",
    "\n",
    "prob_contour = model_prob(X).reshape(100,100) "
   ]
  },
  {
   "cell_type": "code",
   "execution_count": 29,
   "id": "da72499a",
   "metadata": {
    "execution": {
     "iopub.execute_input": "2021-10-29T20:09:54.217358Z",
     "iopub.status.busy": "2021-10-29T20:09:54.216678Z",
     "iopub.status.idle": "2021-10-29T20:09:54.499696Z",
     "shell.execute_reply": "2021-10-29T20:09:54.499204Z"
    },
    "papermill": {
     "duration": 0.347519,
     "end_time": "2021-10-29T20:09:54.499824",
     "exception": false,
     "start_time": "2021-10-29T20:09:54.152305",
     "status": "completed"
    },
    "tags": []
   },
   "outputs": [
    {
     "data": {
      "image/png": "[encoded data removed]",
      "text/plain": [
       "<Figure size 720x648 with 1 Axes>"
      ]
     },
     "metadata": {
      "needs_background": "light"
     },
     "output_type": "display_data"
    }
   ],
   "source": [
    "plt.figure(figsize=(10,9))\n",
    "plt.scatter(testing_plot[:,0], testing_plot[:,1], alpha = 0.1, c = y_test.ravel())\n",
    "contours = plt.contour(x_grid,y_grid,prob_contour)\n",
    "plt.title('Probability Contours')\n",
    "plt.clabel(contours, inline = True );"
   ]
  },
  {
   "cell_type": "code",
   "execution_count": null,
   "id": "e81b4ac7",
   "metadata": {
    "papermill": {
     "duration": 0.051851,
     "end_time": "2021-10-29T20:09:54.604406",
     "exception": false,
     "start_time": "2021-10-29T20:09:54.552555",
     "status": "completed"
    },
    "tags": []
   },
   "outputs": [],
   "source": []
  }
 ],
 "metadata": {
  "kernelspec": {
   "display_name": "Python 3",
   "language": "python",
   "name": "python3"
  },
  "language_info": {
   "codemirror_mode": {
    "name": "ipython",
    "version": 3
   },
   "file_extension": ".py",
   "mimetype": "text/x-python",
   "name": "python",
   "nbconvert_exporter": "python",
   "pygments_lexer": "ipython3",
   "version": "3.6.15"
  },
  "papermill": {
   "default_parameters": {},
   "duration": 114.622392,
   "end_time": "2021-10-29T20:09:55.065764",
   "environment_variables": {},
   "exception": null,
   "input_path": "2020-08-11-part2.ipynb",
   "output_path": "2020-08-11-part2.ipynb",
   "parameters": {},
   "start_time": "2021-10-29T20:08:00.443372",
   "version": "2.3.3"
  }
 },
 "nbformat": 4,
 "nbformat_minor": 5
}