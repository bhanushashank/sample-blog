{
 "cells": [
  {
   "cell_type": "markdown",
   "id": "98380cd3",
   "metadata": {
    "papermill": {
     "duration": 0.037354,
     "end_time": "2022-08-27T20:10:41.028698",
     "exception": false,
     "start_time": "2022-08-27T20:10:40.991344",
     "status": "completed"
    },
    "tags": []
   },
   "source": [
    "# Distinguish Your Own Digits (DYOD)"
   ]
  },
  {
   "cell_type": "markdown",
   "id": "ef31240d",
   "metadata": {
    "papermill": {
     "duration": 0.030582,
     "end_time": "2022-08-27T20:10:41.094142",
     "exception": false,
     "start_time": "2022-08-27T20:10:41.063560",
     "status": "completed"
    },
    "tags": []
   },
   "source": [
    "You are going to write a classifier that distinguishes between the number 3 and number 8."
   ]
  },
  {
   "cell_type": "code",
   "execution_count": 1,
   "id": "b15c8646",
   "metadata": {
    "execution": {
     "iopub.execute_input": "2022-08-27T20:10:41.169737Z",
     "iopub.status.busy": "2022-08-27T20:10:41.168950Z",
     "iopub.status.idle": "2022-08-27T20:10:41.181732Z",
     "shell.execute_reply": "2022-08-27T20:10:41.181078Z"
    },
    "papermill": {
     "duration": 0.057206,
     "end_time": "2022-08-27T20:10:41.181924",
     "exception": false,
     "start_time": "2022-08-27T20:10:41.124718",
     "status": "completed"
    },
    "tags": []
   },
   "outputs": [],
   "source": [
    "%load_ext autoreload\n",
    "%autoreload 2"
   ]
  },
  {
   "cell_type": "code",
   "execution_count": 2,
   "id": "22ef38dc",
   "metadata": {
    "execution": {
     "iopub.execute_input": "2022-08-27T20:10:41.252831Z",
     "iopub.status.busy": "2022-08-27T20:10:41.252029Z",
     "iopub.status.idle": "2022-08-27T20:10:41.921212Z",
     "shell.execute_reply": "2022-08-27T20:10:41.920562Z"
    },
    "papermill": {
     "duration": 0.707667,
     "end_time": "2022-08-27T20:10:41.921361",
     "exception": false,
     "start_time": "2022-08-27T20:10:41.213694",
     "status": "completed"
    },
    "tags": []
   },
   "outputs": [],
   "source": [
    "%matplotlib inline\n",
    "import numpy as np\n",
    "import matplotlib.pyplot as plt\n",
    "import pandas as pd"
   ]
  },
  {
   "cell_type": "markdown",
   "id": "ba036198",
   "metadata": {
    "papermill": {
     "duration": 0.030243,
     "end_time": "2022-08-27T20:10:41.982683",
     "exception": false,
     "start_time": "2022-08-27T20:10:41.952440",
     "status": "completed"
    },
    "tags": []
   },
   "source": [
    "From the command line run `pip install mnist`. This is a library that will help you bring down the mnist dataset. If you run this from a notebook, you need to put  `!pip install mnist` in a cell by itself."
   ]
  },
  {
   "cell_type": "code",
   "execution_count": 3,
   "id": "bb6ad8a1",
   "metadata": {
    "execution": {
     "iopub.execute_input": "2022-08-27T20:10:42.052436Z",
     "iopub.status.busy": "2022-08-27T20:10:42.051664Z",
     "iopub.status.idle": "2022-08-27T20:10:44.084138Z",
     "shell.execute_reply": "2022-08-27T20:10:44.083348Z"
    },
    "papermill": {
     "duration": 2.071701,
     "end_time": "2022-08-27T20:10:44.084293",
     "exception": false,
     "start_time": "2022-08-27T20:10:42.012592",
     "status": "completed"
    },
    "tags": []
   },
   "outputs": [
    {
     "name": "stdout",
     "output_type": "stream",
     "text": [
      "Collecting mnist\r\n"
     ]
    },
    {
     "name": "stdout",
     "output_type": "stream",
     "text": [
      "  Downloading mnist-0.2.2-py2.py3-none-any.whl (3.5 kB)\r\n",
      "Requirement already satisfied: numpy in /opt/hostedtoolcache/Python/3.6.15/x64/lib/python3.6/site-packages (from mnist) (1.19.5)\r\n"
     ]
    },
    {
     "name": "stdout",
     "output_type": "stream",
     "text": [
      "Installing collected packages: mnist\r\n"
     ]
    },
    {
     "name": "stdout",
     "output_type": "stream",
     "text": [
      "Successfully installed mnist-0.2.2\r\n"
     ]
    }
   ],
   "source": [
    "!pip install mnist"
   ]
  },
  {
   "cell_type": "markdown",
   "id": "69df9c9a",
   "metadata": {
    "papermill": {
     "duration": 0.032268,
     "end_time": "2022-08-27T20:10:44.147936",
     "exception": false,
     "start_time": "2022-08-27T20:10:44.115668",
     "status": "completed"
    },
    "tags": []
   },
   "source": [
    "## Preparing the Data"
   ]
  },
  {
   "cell_type": "code",
   "execution_count": 4,
   "id": "7f69d806",
   "metadata": {
    "execution": {
     "iopub.execute_input": "2022-08-27T20:10:44.234756Z",
     "iopub.status.busy": "2022-08-27T20:10:44.233979Z",
     "iopub.status.idle": "2022-08-27T20:10:44.241288Z",
     "shell.execute_reply": "2022-08-27T20:10:44.240632Z"
    },
    "papermill": {
     "duration": 0.062276,
     "end_time": "2022-08-27T20:10:44.241441",
     "exception": false,
     "start_time": "2022-08-27T20:10:44.179165",
     "status": "completed"
    },
    "tags": []
   },
   "outputs": [],
   "source": [
    "import mnist"
   ]
  },
  {
   "cell_type": "code",
   "execution_count": 5,
   "id": "a411e44f",
   "metadata": {
    "execution": {
     "iopub.execute_input": "2022-08-27T20:10:44.313510Z",
     "iopub.status.busy": "2022-08-27T20:10:44.312773Z",
     "iopub.status.idle": "2022-08-27T20:10:45.012742Z",
     "shell.execute_reply": "2022-08-27T20:10:45.011951Z"
    },
    "papermill": {
     "duration": 0.739999,
     "end_time": "2022-08-27T20:10:45.012894",
     "exception": false,
     "start_time": "2022-08-27T20:10:44.272895",
     "status": "completed"
    },
    "tags": []
   },
   "outputs": [],
   "source": [
    "train_images = mnist.train_images()\n",
    "train_labels = mnist.train_labels()"
   ]
  },
  {
   "cell_type": "code",
   "execution_count": 6,
   "id": "dceab3a5",
   "metadata": {
    "execution": {
     "iopub.execute_input": "2022-08-27T20:10:45.086772Z",
     "iopub.status.busy": "2022-08-27T20:10:45.085982Z",
     "iopub.status.idle": "2022-08-27T20:10:45.103454Z",
     "shell.execute_reply": "2022-08-27T20:10:45.104235Z"
    },
    "papermill": {
     "duration": 0.058067,
     "end_time": "2022-08-27T20:10:45.104414",
     "exception": false,
     "start_time": "2022-08-27T20:10:45.046347",
     "status": "completed"
    },
    "tags": []
   },
   "outputs": [
    {
     "data": {
      "text/plain": [
       "((60000, 28, 28), (60000,))"
      ]
     },
     "execution_count": 6,
     "metadata": {},
     "output_type": "execute_result"
    }
   ],
   "source": [
    "train_images.shape, train_labels.shape"
   ]
  },
  {
   "cell_type": "code",
   "execution_count": 7,
   "id": "f50dc2bb",
   "metadata": {
    "execution": {
     "iopub.execute_input": "2022-08-27T20:10:45.177970Z",
     "iopub.status.busy": "2022-08-27T20:10:45.177232Z",
     "iopub.status.idle": "2022-08-27T20:10:45.404761Z",
     "shell.execute_reply": "2022-08-27T20:10:45.403990Z"
    },
    "papermill": {
     "duration": 0.267021,
     "end_time": "2022-08-27T20:10:45.404935",
     "exception": false,
     "start_time": "2022-08-27T20:10:45.137914",
     "status": "completed"
    },
    "tags": []
   },
   "outputs": [],
   "source": [
    "test_images = mnist.test_images()\n",
    "test_labels = mnist.test_labels()"
   ]
  },
  {
   "cell_type": "code",
   "execution_count": 8,
   "id": "fc38cf1b",
   "metadata": {
    "execution": {
     "iopub.execute_input": "2022-08-27T20:10:45.477551Z",
     "iopub.status.busy": "2022-08-27T20:10:45.476789Z",
     "iopub.status.idle": "2022-08-27T20:10:45.493320Z",
     "shell.execute_reply": "2022-08-27T20:10:45.494049Z"
    },
    "papermill": {
     "duration": 0.055394,
     "end_time": "2022-08-27T20:10:45.494220",
     "exception": false,
     "start_time": "2022-08-27T20:10:45.438826",
     "status": "completed"
    },
    "tags": []
   },
   "outputs": [
    {
     "data": {
      "text/plain": [
       "((10000, 28, 28), (10000,))"
      ]
     },
     "execution_count": 8,
     "metadata": {},
     "output_type": "execute_result"
    }
   ],
   "source": [
    "test_images.shape, test_labels.shape"
   ]
  },
  {
   "cell_type": "code",
   "execution_count": 9,
   "id": "f9ed8fe0",
   "metadata": {
    "execution": {
     "iopub.execute_input": "2022-08-27T20:10:45.573860Z",
     "iopub.status.busy": "2022-08-27T20:10:45.573101Z",
     "iopub.status.idle": "2022-08-27T20:10:45.758523Z",
     "shell.execute_reply": "2022-08-27T20:10:45.757881Z"
    },
    "papermill": {
     "duration": 0.228451,
     "end_time": "2022-08-27T20:10:45.758676",
     "exception": false,
     "start_time": "2022-08-27T20:10:45.530225",
     "status": "completed"
    },
    "tags": []
   },
   "outputs": [
    {
     "name": "stdout",
     "output_type": "stream",
     "text": [
      "2\n"
     ]
    },
    {
     "data": {
      "text/plain": [
       "<matplotlib.image.AxesImage at 0x7fc9738c1940>"
      ]
     },
     "execution_count": 9,
     "metadata": {},
     "output_type": "execute_result"
    },
    {
     "data": {
      "image/png": "[encoded data removed]",
      "text/plain": [
       "<Figure size 432x288 with 1 Axes>"
      ]
     },
     "metadata": {
      "needs_background": "light"
     },
     "output_type": "display_data"
    }
   ],
   "source": [
    "image_index = 7776 # You may select anything up to 60,000\n",
    "print(train_labels[image_index]) \n",
    "plt.imshow(train_images[image_index], cmap='Greys')"
   ]
  },
  {
   "cell_type": "markdown",
   "id": "a8d2388d",
   "metadata": {
    "papermill": {
     "duration": 0.034257,
     "end_time": "2022-08-27T20:10:45.826974",
     "exception": false,
     "start_time": "2022-08-27T20:10:45.792717",
     "status": "completed"
    },
    "tags": []
   },
   "source": [
    "## Filter data to get 3 and 8 out"
   ]
  },
  {
   "cell_type": "code",
   "execution_count": 10,
   "id": "776f7fc7",
   "metadata": {
    "execution": {
     "iopub.execute_input": "2022-08-27T20:10:45.903905Z",
     "iopub.status.busy": "2022-08-27T20:10:45.903130Z",
     "iopub.status.idle": "2022-08-27T20:10:45.923626Z",
     "shell.execute_reply": "2022-08-27T20:10:45.922984Z"
    },
    "papermill": {
     "duration": 0.062423,
     "end_time": "2022-08-27T20:10:45.923782",
     "exception": false,
     "start_time": "2022-08-27T20:10:45.861359",
     "status": "completed"
    },
    "tags": []
   },
   "outputs": [],
   "source": [
    "train_filter = np.where((train_labels == 3 ) | (train_labels == 8))\n",
    "test_filter = np.where((test_labels == 3) | (test_labels == 8))\n",
    "X_train, y_train = train_images[train_filter], train_labels[train_filter]\n",
    "X_test, y_test = test_images[test_filter], test_labels[test_filter]"
   ]
  },
  {
   "cell_type": "markdown",
   "id": "948f0b7e",
   "metadata": {
    "papermill": {
     "duration": 0.033987,
     "end_time": "2022-08-27T20:10:45.991382",
     "exception": false,
     "start_time": "2022-08-27T20:10:45.957395",
     "status": "completed"
    },
    "tags": []
   },
   "source": [
    "We normalize the pizel values in the 0 to 1 range"
   ]
  },
  {
   "cell_type": "code",
   "execution_count": 11,
   "id": "ee4c2166",
   "metadata": {
    "execution": {
     "iopub.execute_input": "2022-08-27T20:10:46.070834Z",
     "iopub.status.busy": "2022-08-27T20:10:46.070064Z",
     "iopub.status.idle": "2022-08-27T20:10:46.133308Z",
     "shell.execute_reply": "2022-08-27T20:10:46.132647Z"
    },
    "papermill": {
     "duration": 0.108612,
     "end_time": "2022-08-27T20:10:46.133460",
     "exception": false,
     "start_time": "2022-08-27T20:10:46.024848",
     "status": "completed"
    },
    "tags": []
   },
   "outputs": [],
   "source": [
    "X_train = X_train/255.\n",
    "X_test = X_test/255."
   ]
  },
  {
   "cell_type": "markdown",
   "id": "ddcf4fab",
   "metadata": {
    "papermill": {
     "duration": 0.033484,
     "end_time": "2022-08-27T20:10:46.201852",
     "exception": false,
     "start_time": "2022-08-27T20:10:46.168368",
     "status": "completed"
    },
    "tags": []
   },
   "source": [
    "And setup the labels as 1 (when the digit is 3) and 0 (when the digit is 8)"
   ]
  },
  {
   "cell_type": "code",
   "execution_count": 12,
   "id": "7dc908f2",
   "metadata": {
    "execution": {
     "iopub.execute_input": "2022-08-27T20:10:46.276509Z",
     "iopub.status.busy": "2022-08-27T20:10:46.275772Z",
     "iopub.status.idle": "2022-08-27T20:10:46.290463Z",
     "shell.execute_reply": "2022-08-27T20:10:46.291085Z"
    },
    "papermill": {
     "duration": 0.055047,
     "end_time": "2022-08-27T20:10:46.291254",
     "exception": false,
     "start_time": "2022-08-27T20:10:46.236207",
     "status": "completed"
    },
    "tags": []
   },
   "outputs": [],
   "source": [
    "y_train = 1*(y_train==3)\n",
    "y_test = 1*(y_test==3)"
   ]
  },
  {
   "cell_type": "code",
   "execution_count": 13,
   "id": "01e4e969",
   "metadata": {
    "execution": {
     "iopub.execute_input": "2022-08-27T20:10:46.367021Z",
     "iopub.status.busy": "2022-08-27T20:10:46.366280Z",
     "iopub.status.idle": "2022-08-27T20:10:46.381995Z",
     "shell.execute_reply": "2022-08-27T20:10:46.381369Z"
    },
    "papermill": {
     "duration": 0.056574,
     "end_time": "2022-08-27T20:10:46.382139",
     "exception": false,
     "start_time": "2022-08-27T20:10:46.325565",
     "status": "completed"
    },
    "tags": []
   },
   "outputs": [
    {
     "data": {
      "text/plain": [
       "((11982, 28, 28), (1984, 28, 28))"
      ]
     },
     "execution_count": 13,
     "metadata": {},
     "output_type": "execute_result"
    }
   ],
   "source": [
    "X_train.shape, X_test.shape"
   ]
  },
  {
   "cell_type": "markdown",
   "id": "5ccf3f85",
   "metadata": {
    "papermill": {
     "duration": 0.034332,
     "end_time": "2022-08-27T20:10:46.450365",
     "exception": false,
     "start_time": "2022-08-27T20:10:46.416033",
     "status": "completed"
    },
    "tags": []
   },
   "source": [
    "We reshape the data to flatten the image pixels into a set of features or co-variates:"
   ]
  },
  {
   "cell_type": "code",
   "execution_count": 14,
   "id": "5286a4a3",
   "metadata": {
    "execution": {
     "iopub.execute_input": "2022-08-27T20:10:46.527355Z",
     "iopub.status.busy": "2022-08-27T20:10:46.526567Z",
     "iopub.status.idle": "2022-08-27T20:10:46.543069Z",
     "shell.execute_reply": "2022-08-27T20:10:46.542439Z"
    },
    "papermill": {
     "duration": 0.057701,
     "end_time": "2022-08-27T20:10:46.543214",
     "exception": false,
     "start_time": "2022-08-27T20:10:46.485513",
     "status": "completed"
    },
    "tags": []
   },
   "outputs": [
    {
     "data": {
      "text/plain": [
       "((11982, 784), (1984, 784))"
      ]
     },
     "execution_count": 14,
     "metadata": {},
     "output_type": "execute_result"
    }
   ],
   "source": [
    "X_train = X_train.reshape(X_train.shape[0], -1)\n",
    "X_test = X_test.reshape(X_test.shape[0], -1)\n",
    "X_train.shape, X_test.shape"
   ]
  },
  {
   "cell_type": "code",
   "execution_count": 15,
   "id": "73c5f88a",
   "metadata": {
    "execution": {
     "iopub.execute_input": "2022-08-27T20:10:46.622817Z",
     "iopub.status.busy": "2022-08-27T20:10:46.622000Z",
     "iopub.status.idle": "2022-08-27T20:10:46.643697Z",
     "shell.execute_reply": "2022-08-27T20:10:46.644309Z"
    },
    "papermill": {
     "duration": 0.064962,
     "end_time": "2022-08-27T20:10:46.644487",
     "exception": false,
     "start_time": "2022-08-27T20:10:46.579525",
     "status": "completed"
    },
    "tags": []
   },
   "outputs": [],
   "source": [
    "#Impoting functions from 'Kudzu'\n",
    "from kudzu.model import Model\n",
    "from kudzu.train import Learner\n",
    "from kudzu.optim import GD\n",
    "from kudzu.data import Data, Sampler,Dataloader\n",
    "\n",
    "from kudzu.callbacks import AccCallback\n",
    "from kudzu.callbacks import ClfCallback\n",
    "\n",
    "from kudzu.loss import MSE\n",
    "\n",
    "from kudzu.layer import Sigmoid,Relu\n",
    "from kudzu.layer import Affine"
   ]
  },
  {
   "cell_type": "markdown",
   "id": "bc01172a",
   "metadata": {
    "papermill": {
     "duration": 0.037625,
     "end_time": "2022-08-27T20:10:46.717759",
     "exception": false,
     "start_time": "2022-08-27T20:10:46.680134",
     "status": "completed"
    },
    "tags": []
   },
   "source": [
    "### Let us create a `Config` class, to store important parameters. \n",
    "This class essentially plays the role of a dictionary."
   ]
  },
  {
   "cell_type": "code",
   "execution_count": 16,
   "id": "978281aa",
   "metadata": {
    "execution": {
     "iopub.execute_input": "2022-08-27T20:10:46.797611Z",
     "iopub.status.busy": "2022-08-27T20:10:46.796768Z",
     "iopub.status.idle": "2022-08-27T20:10:46.810523Z",
     "shell.execute_reply": "2022-08-27T20:10:46.809866Z"
    },
    "papermill": {
     "duration": 0.053866,
     "end_time": "2022-08-27T20:10:46.810681",
     "exception": false,
     "start_time": "2022-08-27T20:10:46.756815",
     "status": "completed"
    },
    "tags": []
   },
   "outputs": [],
   "source": [
    "class Config:\n",
    "    pass\n",
    "config = Config()\n",
    "config.lr = 0.001\n",
    "config.num_epochs = 250\n",
    "config.bs = 50"
   ]
  },
  {
   "cell_type": "markdown",
   "id": "1385fa59",
   "metadata": {
    "papermill": {
     "duration": 0.034221,
     "end_time": "2022-08-27T20:10:46.880201",
     "exception": false,
     "start_time": "2022-08-27T20:10:46.845980",
     "status": "completed"
    },
    "tags": []
   },
   "source": [
    "### Running Models with the Training data\n",
    "Details about the network layers:\n",
    "- A first affine layer has 784 inputs and does 100 affine transforms. These are followed by a Relu\n",
    "- A second affine layer has 100 inputs from the 100 activations of the past layer, and does 100 affine transforms. These are followed by a Relu\n",
    "- A third affine layer has 100 activations and does 2 affine transformations to create an embedding for visualization. There is no non-linearity here.\n",
    "- A final \"logistic regression\" which has an affine transform from 2 inputs to 1 output, which is squeezed through a sigmoid.\n"
   ]
  },
  {
   "cell_type": "code",
   "execution_count": 17,
   "id": "2b9c66db",
   "metadata": {
    "execution": {
     "iopub.execute_input": "2022-08-27T20:10:46.957309Z",
     "iopub.status.busy": "2022-08-27T20:10:46.956556Z",
     "iopub.status.idle": "2022-08-27T20:10:46.970438Z",
     "shell.execute_reply": "2022-08-27T20:10:46.969792Z"
    },
    "papermill": {
     "duration": 0.055702,
     "end_time": "2022-08-27T20:10:46.970585",
     "exception": false,
     "start_time": "2022-08-27T20:10:46.914883",
     "status": "completed"
    },
    "tags": []
   },
   "outputs": [],
   "source": [
    "data = Data(X_train, y_train.reshape(-1,1))\n",
    "sampler = Sampler(data, config.bs, shuffle=True)\n",
    "\n",
    "dl = Dataloader(data, sampler)\n",
    "\n",
    "opt = GD(config.lr)\n",
    "loss = MSE()"
   ]
  },
  {
   "cell_type": "code",
   "execution_count": 18,
   "id": "b275e4c2",
   "metadata": {
    "execution": {
     "iopub.execute_input": "2022-08-27T20:10:47.050114Z",
     "iopub.status.busy": "2022-08-27T20:10:47.049336Z",
     "iopub.status.idle": "2022-08-27T20:10:47.061481Z",
     "shell.execute_reply": "2022-08-27T20:10:47.062272Z"
    },
    "papermill": {
     "duration": 0.057378,
     "end_time": "2022-08-27T20:10:47.062445",
     "exception": false,
     "start_time": "2022-08-27T20:10:47.005067",
     "status": "completed"
    },
    "tags": []
   },
   "outputs": [],
   "source": [
    "training_data_x = X_train\n",
    "testing_data_x = X_test\n",
    "training_data_y = y_train.reshape(-1,1)\n",
    "testing_data_y = y_test.reshape(-1,1)"
   ]
  },
  {
   "cell_type": "code",
   "execution_count": 19,
   "id": "76951160",
   "metadata": {
    "execution": {
     "iopub.execute_input": "2022-08-27T20:10:47.139000Z",
     "iopub.status.busy": "2022-08-27T20:10:47.138091Z",
     "iopub.status.idle": "2022-08-27T20:10:47.158353Z",
     "shell.execute_reply": "2022-08-27T20:10:47.159134Z"
    },
    "papermill": {
     "duration": 0.061131,
     "end_time": "2022-08-27T20:10:47.159310",
     "exception": false,
     "start_time": "2022-08-27T20:10:47.098179",
     "status": "completed"
    },
    "tags": []
   },
   "outputs": [
    {
     "name": "stdout",
     "output_type": "stream",
     "text": [
      "xavier\n",
      "xavier\n",
      "xavier\n",
      "xavier\n",
      "xavier\n"
     ]
    }
   ],
   "source": [
    "layers = [Affine(\"first\", 784, 100), Relu(\"first\"), Affine(\"second\", 100, 100), Relu(\"second\"), Affine(\"third\", 100, 2), Affine(\"last\", 2, 1), Sigmoid(\"last\")]\n",
    "model_nn = Model(layers)\n",
    "model_lr = Model([Affine(\"logits\", 784, 1), Sigmoid(\"sigmoid\")])"
   ]
  },
  {
   "cell_type": "code",
   "execution_count": 20,
   "id": "6eede77a",
   "metadata": {
    "execution": {
     "iopub.execute_input": "2022-08-27T20:10:47.241192Z",
     "iopub.status.busy": "2022-08-27T20:10:47.236186Z",
     "iopub.status.idle": "2022-08-27T20:10:47.254232Z",
     "shell.execute_reply": "2022-08-27T20:10:47.254821Z"
    },
    "papermill": {
     "duration": 0.060106,
     "end_time": "2022-08-27T20:10:47.254998",
     "exception": false,
     "start_time": "2022-08-27T20:10:47.194892",
     "status": "completed"
    },
    "tags": []
   },
   "outputs": [],
   "source": [
    "nn_learner = Learner(loss, model_nn, opt, config.num_epochs)\n",
    "acc_nn = ClfCallback(nn_learner, config.bs, training_data_x , testing_data_x, training_data_y, testing_data_y)\n",
    "nn_learner.set_callbacks([acc_nn])"
   ]
  },
  {
   "cell_type": "code",
   "execution_count": 21,
   "id": "877b6cc7",
   "metadata": {
    "execution": {
     "iopub.execute_input": "2022-08-27T20:10:47.331816Z",
     "iopub.status.busy": "2022-08-27T20:10:47.331038Z",
     "iopub.status.idle": "2022-08-27T20:10:47.346151Z",
     "shell.execute_reply": "2022-08-27T20:10:47.345498Z"
    },
    "papermill": {
     "duration": 0.055064,
     "end_time": "2022-08-27T20:10:47.346302",
     "exception": false,
     "start_time": "2022-08-27T20:10:47.291238",
     "status": "completed"
    },
    "tags": []
   },
   "outputs": [],
   "source": [
    "lr_learner = Learner(loss, model_lr, opt, config.num_epochs)\n",
    "acc_lr = ClfCallback(lr_learner, config.bs, training_data_x , testing_data_x, training_data_y, testing_data_y)\n",
    "lr_learner.set_callbacks([acc_lr])"
   ]
  },
  {
   "cell_type": "code",
   "execution_count": 22,
   "id": "d9b133c3",
   "metadata": {
    "execution": {
     "iopub.execute_input": "2022-08-27T20:10:47.434766Z",
     "iopub.status.busy": "2022-08-27T20:10:47.429129Z",
     "iopub.status.idle": "2022-08-27T20:12:52.179731Z",
     "shell.execute_reply": "2022-08-27T20:12:52.180764Z"
    },
    "papermill": {
     "duration": 124.799202,
     "end_time": "2022-08-27T20:12:52.180936",
     "exception": false,
     "start_time": "2022-08-27T20:10:47.381734",
     "status": "completed"
    },
    "tags": []
   },
   "outputs": [
    {
     "name": "stdout",
     "output_type": "stream",
     "text": [
      "Epoch 0, Loss 0.2386\n",
      "Training Accuracy: 0.7104, Testing Accuracy: 0.7354\n",
      "\n"
     ]
    },
    {
     "name": "stdout",
     "output_type": "stream",
     "text": [
      "Epoch 10, Loss 0.0863\n",
      "Training Accuracy: 0.9170, Testing Accuracy: 0.9274\n",
      "\n"
     ]
    },
    {
     "name": "stdout",
     "output_type": "stream",
     "text": [
      "Epoch 20, Loss 0.0545\n",
      "Training Accuracy: 0.9428, Testing Accuracy: 0.9466\n",
      "\n"
     ]
    },
    {
     "name": "stdout",
     "output_type": "stream",
     "text": [
      "Epoch 30, Loss 0.0434\n",
      "Training Accuracy: 0.9517, Testing Accuracy: 0.9577\n",
      "\n"
     ]
    },
    {
     "name": "stdout",
     "output_type": "stream",
     "text": [
      "Epoch 40, Loss 0.0379\n",
      "Training Accuracy: 0.9568, Testing Accuracy: 0.9612\n",
      "\n"
     ]
    },
    {
     "name": "stdout",
     "output_type": "stream",
     "text": [
      "Epoch 50, Loss 0.0345\n",
      "Training Accuracy: 0.9606, Testing Accuracy: 0.9632\n",
      "\n"
     ]
    },
    {
     "name": "stdout",
     "output_type": "stream",
     "text": [
      "Epoch 60, Loss 0.0321\n",
      "Training Accuracy: 0.9634, Testing Accuracy: 0.9652\n",
      "\n"
     ]
    },
    {
     "name": "stdout",
     "output_type": "stream",
     "text": [
      "Epoch 70, Loss 0.0302\n",
      "Training Accuracy: 0.9653, Testing Accuracy: 0.9667\n",
      "\n"
     ]
    },
    {
     "name": "stdout",
     "output_type": "stream",
     "text": [
      "Epoch 80, Loss 0.0288\n",
      "Training Accuracy: 0.9664, Testing Accuracy: 0.9672\n",
      "\n"
     ]
    },
    {
     "name": "stdout",
     "output_type": "stream",
     "text": [
      "Epoch 90, Loss 0.0276\n",
      "Training Accuracy: 0.9682, Testing Accuracy: 0.9693\n",
      "\n"
     ]
    },
    {
     "name": "stdout",
     "output_type": "stream",
     "text": [
      "Epoch 100, Loss 0.0265\n",
      "Training Accuracy: 0.9692, Testing Accuracy: 0.9698\n",
      "\n"
     ]
    },
    {
     "name": "stdout",
     "output_type": "stream",
     "text": [
      "Epoch 110, Loss 0.0256\n",
      "Training Accuracy: 0.9700, Testing Accuracy: 0.9698\n",
      "\n"
     ]
    },
    {
     "name": "stdout",
     "output_type": "stream",
     "text": [
      "Epoch 120, Loss 0.0248\n",
      "Training Accuracy: 0.9710, Testing Accuracy: 0.9703\n",
      "\n"
     ]
    },
    {
     "name": "stdout",
     "output_type": "stream",
     "text": [
      "Epoch 130, Loss 0.0241\n",
      "Training Accuracy: 0.9718, Testing Accuracy: 0.9703\n",
      "\n"
     ]
    },
    {
     "name": "stdout",
     "output_type": "stream",
     "text": [
      "Epoch 140, Loss 0.0234\n",
      "Training Accuracy: 0.9726, Testing Accuracy: 0.9708\n",
      "\n"
     ]
    },
    {
     "name": "stdout",
     "output_type": "stream",
     "text": [
      "Epoch 150, Loss 0.0228\n",
      "Training Accuracy: 0.9739, Testing Accuracy: 0.9713\n",
      "\n"
     ]
    },
    {
     "name": "stdout",
     "output_type": "stream",
     "text": [
      "Epoch 160, Loss 0.0223\n",
      "Training Accuracy: 0.9750, Testing Accuracy: 0.9723\n",
      "\n"
     ]
    },
    {
     "name": "stdout",
     "output_type": "stream",
     "text": [
      "Epoch 170, Loss 0.0217\n",
      "Training Accuracy: 0.9760, Testing Accuracy: 0.9718\n",
      "\n"
     ]
    },
    {
     "name": "stdout",
     "output_type": "stream",
     "text": [
      "Epoch 180, Loss 0.0212\n",
      "Training Accuracy: 0.9762, Testing Accuracy: 0.9723\n",
      "\n"
     ]
    },
    {
     "name": "stdout",
     "output_type": "stream",
     "text": [
      "Epoch 190, Loss 0.0208\n",
      "Training Accuracy: 0.9765, Testing Accuracy: 0.9723\n",
      "\n"
     ]
    },
    {
     "name": "stdout",
     "output_type": "stream",
     "text": [
      "Epoch 200, Loss 0.0203\n",
      "Training Accuracy: 0.9772, Testing Accuracy: 0.9733\n",
      "\n"
     ]
    },
    {
     "name": "stdout",
     "output_type": "stream",
     "text": [
      "Epoch 210, Loss 0.0199\n",
      "Training Accuracy: 0.9775, Testing Accuracy: 0.9733\n",
      "\n"
     ]
    },
    {
     "name": "stdout",
     "output_type": "stream",
     "text": [
      "Epoch 220, Loss 0.0195\n",
      "Training Accuracy: 0.9778, Testing Accuracy: 0.9738\n",
      "\n"
     ]
    },
    {
     "name": "stdout",
     "output_type": "stream",
     "text": [
      "Epoch 230, Loss 0.0191\n",
      "Training Accuracy: 0.9781, Testing Accuracy: 0.9748\n",
      "\n"
     ]
    },
    {
     "name": "stdout",
     "output_type": "stream",
     "text": [
      "Epoch 240, Loss 0.0188\n",
      "Training Accuracy: 0.9789, Testing Accuracy: 0.9758\n",
      "\n"
     ]
    },
    {
     "data": {
      "text/plain": [
       "0.000871386608833974"
      ]
     },
     "execution_count": 22,
     "metadata": {},
     "output_type": "execute_result"
    }
   ],
   "source": [
    "nn_learner.train_loop(dl)"
   ]
  },
  {
   "cell_type": "code",
   "execution_count": 23,
   "id": "e0163366",
   "metadata": {
    "execution": {
     "iopub.execute_input": "2022-08-27T20:12:52.286369Z",
     "iopub.status.busy": "2022-08-27T20:12:52.285621Z",
     "iopub.status.idle": "2022-08-27T20:13:10.122355Z",
     "shell.execute_reply": "2022-08-27T20:13:10.123464Z"
    },
    "papermill": {
     "duration": 17.897114,
     "end_time": "2022-08-27T20:13:10.123634",
     "exception": false,
     "start_time": "2022-08-27T20:12:52.226520",
     "status": "completed"
    },
    "tags": []
   },
   "outputs": [
    {
     "name": "stdout",
     "output_type": "stream",
     "text": [
      "Epoch 0, Loss 0.2165\n",
      "Training Accuracy: 0.7544, Testing Accuracy: 0.7676\n",
      "\n"
     ]
    },
    {
     "name": "stdout",
     "output_type": "stream",
     "text": [
      "Epoch 10, Loss 0.1036\n",
      "Training Accuracy: 0.9044, Testing Accuracy: 0.9199\n",
      "\n"
     ]
    },
    {
     "name": "stdout",
     "output_type": "stream",
     "text": [
      "Epoch 20, Loss 0.0801\n",
      "Training Accuracy: 0.9247, Testing Accuracy: 0.9370\n",
      "\n"
     ]
    },
    {
     "name": "stdout",
     "output_type": "stream",
     "text": [
      "Epoch 30, Loss 0.069\n",
      "Training Accuracy: 0.9347, Testing Accuracy: 0.9451\n",
      "\n"
     ]
    },
    {
     "name": "stdout",
     "output_type": "stream",
     "text": [
      "Epoch 40, Loss 0.0623\n",
      "Training Accuracy: 0.9406, Testing Accuracy: 0.9476\n",
      "\n"
     ]
    },
    {
     "name": "stdout",
     "output_type": "stream",
     "text": [
      "Epoch 50, Loss 0.0578\n",
      "Training Accuracy: 0.9431, Testing Accuracy: 0.9536\n",
      "\n"
     ]
    },
    {
     "name": "stdout",
     "output_type": "stream",
     "text": [
      "Epoch 60, Loss 0.0545\n",
      "Training Accuracy: 0.9459, Testing Accuracy: 0.9577\n",
      "\n"
     ]
    },
    {
     "name": "stdout",
     "output_type": "stream",
     "text": [
      "Epoch 70, Loss 0.0519\n",
      "Training Accuracy: 0.9480, Testing Accuracy: 0.9602\n",
      "\n"
     ]
    },
    {
     "name": "stdout",
     "output_type": "stream",
     "text": [
      "Epoch 80, Loss 0.0498\n",
      "Training Accuracy: 0.9493, Testing Accuracy: 0.9612\n",
      "\n"
     ]
    },
    {
     "name": "stdout",
     "output_type": "stream",
     "text": [
      "Epoch 90, Loss 0.0481\n",
      "Training Accuracy: 0.9508, Testing Accuracy: 0.9622\n",
      "\n"
     ]
    },
    {
     "name": "stdout",
     "output_type": "stream",
     "text": [
      "Epoch 100, Loss 0.0467\n",
      "Training Accuracy: 0.9520, Testing Accuracy: 0.9632\n",
      "\n"
     ]
    },
    {
     "name": "stdout",
     "output_type": "stream",
     "text": [
      "Epoch 110, Loss 0.0455\n",
      "Training Accuracy: 0.9528, Testing Accuracy: 0.9642\n",
      "\n"
     ]
    },
    {
     "name": "stdout",
     "output_type": "stream",
     "text": [
      "Epoch 120, Loss 0.0444\n",
      "Training Accuracy: 0.9541, Testing Accuracy: 0.9652\n",
      "\n"
     ]
    },
    {
     "name": "stdout",
     "output_type": "stream",
     "text": [
      "Epoch 130, Loss 0.0434\n",
      "Training Accuracy: 0.9546, Testing Accuracy: 0.9652\n",
      "\n"
     ]
    },
    {
     "name": "stdout",
     "output_type": "stream",
     "text": [
      "Epoch 140, Loss 0.0426\n",
      "Training Accuracy: 0.9551, Testing Accuracy: 0.9657\n",
      "\n"
     ]
    },
    {
     "name": "stdout",
     "output_type": "stream",
     "text": [
      "Epoch 150, Loss 0.0418\n",
      "Training Accuracy: 0.9559, Testing Accuracy: 0.9662\n",
      "\n"
     ]
    },
    {
     "name": "stdout",
     "output_type": "stream",
     "text": [
      "Epoch 160, Loss 0.0412\n",
      "Training Accuracy: 0.9560, Testing Accuracy: 0.9662\n",
      "\n"
     ]
    },
    {
     "name": "stdout",
     "output_type": "stream",
     "text": [
      "Epoch 170, Loss 0.0405\n",
      "Training Accuracy: 0.9571, Testing Accuracy: 0.9672\n",
      "\n"
     ]
    },
    {
     "name": "stdout",
     "output_type": "stream",
     "text": [
      "Epoch 180, Loss 0.04\n",
      "Training Accuracy: 0.9575, Testing Accuracy: 0.9662\n",
      "\n"
     ]
    },
    {
     "name": "stdout",
     "output_type": "stream",
     "text": [
      "Epoch 190, Loss 0.0394\n",
      "Training Accuracy: 0.9580, Testing Accuracy: 0.9662\n",
      "\n"
     ]
    },
    {
     "name": "stdout",
     "output_type": "stream",
     "text": [
      "Epoch 200, Loss 0.0389\n",
      "Training Accuracy: 0.9584, Testing Accuracy: 0.9667\n",
      "\n"
     ]
    },
    {
     "name": "stdout",
     "output_type": "stream",
     "text": [
      "Epoch 210, Loss 0.0385\n",
      "Training Accuracy: 0.9584, Testing Accuracy: 0.9672\n",
      "\n"
     ]
    },
    {
     "name": "stdout",
     "output_type": "stream",
     "text": [
      "Epoch 220, Loss 0.0381\n",
      "Training Accuracy: 0.9587, Testing Accuracy: 0.9677\n",
      "\n"
     ]
    },
    {
     "name": "stdout",
     "output_type": "stream",
     "text": [
      "Epoch 230, Loss 0.0377\n",
      "Training Accuracy: 0.9592, Testing Accuracy: 0.9677\n",
      "\n"
     ]
    },
    {
     "name": "stdout",
     "output_type": "stream",
     "text": [
      "Epoch 240, Loss 0.0373\n",
      "Training Accuracy: 0.9596, Testing Accuracy: 0.9682\n",
      "\n"
     ]
    },
    {
     "data": {
      "text/plain": [
       "0.022290592906865702"
      ]
     },
     "execution_count": 23,
     "metadata": {},
     "output_type": "execute_result"
    }
   ],
   "source": [
    "lr_learner.train_loop(dl)"
   ]
  },
  {
   "cell_type": "code",
   "execution_count": 24,
   "id": "ca410940",
   "metadata": {
    "execution": {
     "iopub.execute_input": "2022-08-27T20:13:10.238222Z",
     "iopub.status.busy": "2022-08-27T20:13:10.237457Z",
     "iopub.status.idle": "2022-08-27T20:13:10.532072Z",
     "shell.execute_reply": "2022-08-27T20:13:10.532708Z"
    },
    "papermill": {
     "duration": 0.354628,
     "end_time": "2022-08-27T20:13:10.532878",
     "exception": false,
     "start_time": "2022-08-27T20:13:10.178250",
     "status": "completed"
    },
    "tags": []
   },
   "outputs": [
    {
     "data": {
      "text/plain": [
       "<matplotlib.legend.Legend at 0x7fc973422f98>"
      ]
     },
     "execution_count": 24,
     "metadata": {},
     "output_type": "execute_result"
    },
    {
     "data": {
      "image/png": "[encoded data removed]",
      "text/plain": [
       "<Figure size 1080x720 with 1 Axes>"
      ]
     },
     "metadata": {
      "needs_background": "light"
     },
     "output_type": "display_data"
    }
   ],
   "source": [
    "#comparing the results of NN and LR\n",
    "plt.figure(figsize=(15,10))\n",
    "\n",
    "# Neural Network plots\n",
    "plt.plot(acc_nn.accuracies, 'r-', label = \"Training Accuracies - NN\")\n",
    "plt.plot(acc_nn.test_accuracies, 'g-', label = \"Testing Accuracies - NN\")\n",
    "\n",
    "# Logistic Regression plots\n",
    "plt.plot(acc_lr.accuracies, 'k-', label = \"Training Accuracies - LR\")\n",
    "plt.plot(acc_lr.test_accuracies, 'b-', label = \"Testing Accuracies - LR\")\n",
    "plt.legend()"
   ]
  },
  {
   "cell_type": "markdown",
   "id": "80dfb35c",
   "metadata": {
    "papermill": {
     "duration": 0.053632,
     "end_time": "2022-08-27T20:13:10.641092",
     "exception": false,
     "start_time": "2022-08-27T20:13:10.587460",
     "status": "completed"
    },
    "tags": []
   },
   "source": [
    "#### Plotting the outputs of this layer of the NN.\n"
   ]
  },
  {
   "cell_type": "code",
   "execution_count": 25,
   "id": "45eb2ff5",
   "metadata": {
    "execution": {
     "iopub.execute_input": "2022-08-27T20:13:10.760487Z",
     "iopub.status.busy": "2022-08-27T20:13:10.759681Z",
     "iopub.status.idle": "2022-08-27T20:13:10.784035Z",
     "shell.execute_reply": "2022-08-27T20:13:10.784689Z"
    },
    "papermill": {
     "duration": 0.08933,
     "end_time": "2022-08-27T20:13:10.784868",
     "exception": false,
     "start_time": "2022-08-27T20:13:10.695538",
     "status": "completed"
    },
    "tags": []
   },
   "outputs": [],
   "source": [
    "new_model = Model(layers[:-2])\n",
    "testing_plot = new_model(testing_data_x)"
   ]
  },
  {
   "cell_type": "code",
   "execution_count": 26,
   "id": "4c0a5485",
   "metadata": {
    "execution": {
     "iopub.execute_input": "2022-08-27T20:13:10.901375Z",
     "iopub.status.busy": "2022-08-27T20:13:10.900097Z",
     "iopub.status.idle": "2022-08-27T20:13:11.179583Z",
     "shell.execute_reply": "2022-08-27T20:13:11.178959Z"
    },
    "papermill": {
     "duration": 0.341139,
     "end_time": "2022-08-27T20:13:11.179740",
     "exception": false,
     "start_time": "2022-08-27T20:13:10.838601",
     "status": "completed"
    },
    "tags": []
   },
   "outputs": [
    {
     "data": {
      "text/plain": [
       "Text(0.5, 1.0, 'Outputs')"
      ]
     },
     "execution_count": 26,
     "metadata": {},
     "output_type": "execute_result"
    },
    {
     "data": {
      "image/png": "[encoded data removed]",
      "text/plain": [
       "<Figure size 576x504 with 1 Axes>"
      ]
     },
     "metadata": {
      "needs_background": "light"
     },
     "output_type": "display_data"
    }
   ],
   "source": [
    "# Plotting the scatter plot of points and color coding by class\n",
    "plt.figure(figsize=(8,7))\n",
    "plt.scatter(testing_plot[:,0], testing_plot[:,1], alpha = 0.1, c = y_test.ravel());\n",
    "plt.title('Outputs')"
   ]
  },
  {
   "cell_type": "markdown",
   "id": "a74fcf8f",
   "metadata": {
    "papermill": {
     "duration": 0.081907,
     "end_time": "2022-08-27T20:13:11.317715",
     "exception": false,
     "start_time": "2022-08-27T20:13:11.235808",
     "status": "completed"
    },
    "tags": []
   },
   "source": [
    "Probability contours"
   ]
  },
  {
   "cell_type": "code",
   "execution_count": 27,
   "id": "d0afc8e3",
   "metadata": {
    "execution": {
     "iopub.execute_input": "2022-08-27T20:13:11.438033Z",
     "iopub.status.busy": "2022-08-27T20:13:11.437293Z",
     "iopub.status.idle": "2022-08-27T20:13:11.455268Z",
     "shell.execute_reply": "2022-08-27T20:13:11.454656Z"
    },
    "papermill": {
     "duration": 0.080434,
     "end_time": "2022-08-27T20:13:11.455405",
     "exception": false,
     "start_time": "2022-08-27T20:13:11.374971",
     "status": "completed"
    },
    "tags": []
   },
   "outputs": [],
   "source": [
    "model_prob = Model(layers[-2:]) "
   ]
  },
  {
   "cell_type": "code",
   "execution_count": 28,
   "id": "9b96e238",
   "metadata": {
    "execution": {
     "iopub.execute_input": "2022-08-27T20:13:11.577795Z",
     "iopub.status.busy": "2022-08-27T20:13:11.577020Z",
     "iopub.status.idle": "2022-08-27T20:13:11.592408Z",
     "shell.execute_reply": "2022-08-27T20:13:11.592963Z"
    },
    "papermill": {
     "duration": 0.078892,
     "end_time": "2022-08-27T20:13:11.593116",
     "exception": false,
     "start_time": "2022-08-27T20:13:11.514224",
     "status": "completed"
    },
    "tags": []
   },
   "outputs": [],
   "source": [
    "#creating the x and y ranges according to the above generated plot.\n",
    "x_range = np.linspace(-4, 1, 100) \n",
    "y_range = np.linspace(-6, 6, 100) \n",
    "x_grid, y_grid = np.meshgrid(x_range, y_range) # x_grid and y_grig are of size 100 X 100\n",
    "\n",
    "# converting x_grid and y_grid to continuous arrays\n",
    "x_gridflat = np.ravel(x_grid)\n",
    "y_gridflat = np.ravel(y_grid)\n",
    "\n",
    "# The last layer of the current model takes two columns as input. Hence transpose of np.vstack() is required.\n",
    "X = np.vstack((x_gridflat, y_gridflat)).T\n",
    "\n",
    "prob_contour = model_prob(X).reshape(100,100) "
   ]
  },
  {
   "cell_type": "code",
   "execution_count": 29,
   "id": "da72499a",
   "metadata": {
    "execution": {
     "iopub.execute_input": "2022-08-27T20:13:11.714901Z",
     "iopub.status.busy": "2022-08-27T20:13:11.714138Z",
     "iopub.status.idle": "2022-08-27T20:13:12.030073Z",
     "shell.execute_reply": "2022-08-27T20:13:12.029408Z"
    },
    "papermill": {
     "duration": 0.380415,
     "end_time": "2022-08-27T20:13:12.030220",
     "exception": false,
     "start_time": "2022-08-27T20:13:11.649805",
     "status": "completed"
    },
    "tags": []
   },
   "outputs": [
    {
     "data": {
      "image/png": "[encoded data removed]",
      "text/plain": [
       "<Figure size 720x648 with 1 Axes>"
      ]
     },
     "metadata": {
      "needs_background": "light"
     },
     "output_type": "display_data"
    }
   ],
   "source": [
    "plt.figure(figsize=(10,9))\n",
    "plt.scatter(testing_plot[:,0], testing_plot[:,1], alpha = 0.1, c = y_test.ravel())\n",
    "contours = plt.contour(x_grid,y_grid,prob_contour)\n",
    "plt.title('Probability Contours')\n",
    "plt.clabel(contours, inline = True );"
   ]
  },
  {
   "cell_type": "code",
   "execution_count": null,
   "id": "e81b4ac7",
   "metadata": {
    "papermill": {
     "duration": 0.060936,
     "end_time": "2022-08-27T20:13:12.151808",
     "exception": false,
     "start_time": "2022-08-27T20:13:12.090872",
     "status": "completed"
    },
    "tags": []
   },
   "outputs": [],
   "source": []
  }
 ],
 "metadata": {
  "kernelspec": {
   "display_name": "Python 3",
   "language": "python",
   "name": "python3"
  },
  "language_info": {
   "codemirror_mode": {
    "name": "ipython",
    "version": 3
   },
   "file_extension": ".py",
   "mimetype": "text/x-python",
   "name": "python",
   "nbconvert_exporter": "python",
   "pygments_lexer": "ipython3",
   "version": "3.6.15"
  },
  "papermill": {
   "default_parameters": {},
   "duration": 152.978251,
   "end_time": "2022-08-27T20:13:12.633348",
   "environment_variables": {},
   "exception": null,
   "input_path": "2020-08-11-part2.ipynb",
   "output_path": "2020-08-11-part2.ipynb",
   "parameters": {},
   "start_time": "2022-08-27T20:10:39.655097",
   "version": "2.3.3"
  }
 },
 "nbformat": 4,
 "nbformat_minor": 5
}