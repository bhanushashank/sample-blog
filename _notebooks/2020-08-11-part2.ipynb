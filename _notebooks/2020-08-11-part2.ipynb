{
 "cells": [
  {
   "cell_type": "markdown",
   "id": "98380cd3",
   "metadata": {
    "papermill": {
     "duration": 0.029189,
     "end_time": "2022-09-14T20:11:58.480397",
     "exception": false,
     "start_time": "2022-09-14T20:11:58.451208",
     "status": "completed"
    },
    "tags": []
   },
   "source": [
    "# Distinguish Your Own Digits (DYOD)"
   ]
  },
  {
   "cell_type": "markdown",
   "id": "ef31240d",
   "metadata": {
    "papermill": {
     "duration": 0.024331,
     "end_time": "2022-09-14T20:11:58.529733",
     "exception": false,
     "start_time": "2022-09-14T20:11:58.505402",
     "status": "completed"
    },
    "tags": []
   },
   "source": [
    "You are going to write a classifier that distinguishes between the number 3 and number 8."
   ]
  },
  {
   "cell_type": "code",
   "execution_count": 1,
   "id": "b15c8646",
   "metadata": {
    "execution": {
     "iopub.execute_input": "2022-09-14T20:11:58.588782Z",
     "iopub.status.busy": "2022-09-14T20:11:58.588215Z",
     "iopub.status.idle": "2022-09-14T20:11:58.599196Z",
     "shell.execute_reply": "2022-09-14T20:11:58.598728Z"
    },
    "papermill": {
     "duration": 0.045246,
     "end_time": "2022-09-14T20:11:58.599322",
     "exception": false,
     "start_time": "2022-09-14T20:11:58.554076",
     "status": "completed"
    },
    "tags": []
   },
   "outputs": [],
   "source": [
    "%load_ext autoreload\n",
    "%autoreload 2"
   ]
  },
  {
   "cell_type": "code",
   "execution_count": 2,
   "id": "22ef38dc",
   "metadata": {
    "execution": {
     "iopub.execute_input": "2022-09-14T20:11:58.652884Z",
     "iopub.status.busy": "2022-09-14T20:11:58.652327Z",
     "iopub.status.idle": "2022-09-14T20:11:59.186424Z",
     "shell.execute_reply": "2022-09-14T20:11:59.185450Z"
    },
    "papermill": {
     "duration": 0.562673,
     "end_time": "2022-09-14T20:11:59.186548",
     "exception": false,
     "start_time": "2022-09-14T20:11:58.623875",
     "status": "completed"
    },
    "tags": []
   },
   "outputs": [],
   "source": [
    "%matplotlib inline\n",
    "import numpy as np\n",
    "import matplotlib.pyplot as plt\n",
    "import pandas as pd"
   ]
  },
  {
   "cell_type": "markdown",
   "id": "ba036198",
   "metadata": {
    "papermill": {
     "duration": 0.024533,
     "end_time": "2022-09-14T20:11:59.235702",
     "exception": false,
     "start_time": "2022-09-14T20:11:59.211169",
     "status": "completed"
    },
    "tags": []
   },
   "source": [
    "From the command line run `pip install mnist`. This is a library that will help you bring down the mnist dataset. If you run this from a notebook, you need to put  `!pip install mnist` in a cell by itself."
   ]
  },
  {
   "cell_type": "code",
   "execution_count": 3,
   "id": "bb6ad8a1",
   "metadata": {
    "execution": {
     "iopub.execute_input": "2022-09-14T20:11:59.295893Z",
     "iopub.status.busy": "2022-09-14T20:11:59.288424Z",
     "iopub.status.idle": "2022-09-14T20:12:00.896411Z",
     "shell.execute_reply": "2022-09-14T20:12:00.895901Z"
    },
    "papermill": {
     "duration": 1.636152,
     "end_time": "2022-09-14T20:12:00.896525",
     "exception": false,
     "start_time": "2022-09-14T20:11:59.260373",
     "status": "completed"
    },
    "tags": []
   },
   "outputs": [
    {
     "name": "stdout",
     "output_type": "stream",
     "text": [
      "Collecting mnist\r\n"
     ]
    },
    {
     "name": "stdout",
     "output_type": "stream",
     "text": [
      "  Downloading mnist-0.2.2-py2.py3-none-any.whl (3.5 kB)\r\n",
      "Requirement already satisfied: numpy in /opt/hostedtoolcache/Python/3.6.15/x64/lib/python3.6/site-packages (from mnist) (1.19.5)\r\n"
     ]
    },
    {
     "name": "stdout",
     "output_type": "stream",
     "text": [
      "Installing collected packages: mnist\r\n"
     ]
    },
    {
     "name": "stdout",
     "output_type": "stream",
     "text": [
      "Successfully installed mnist-0.2.2\r\n"
     ]
    }
   ],
   "source": [
    "!pip install mnist"
   ]
  },
  {
   "cell_type": "markdown",
   "id": "69df9c9a",
   "metadata": {
    "papermill": {
     "duration": 0.025585,
     "end_time": "2022-09-14T20:12:00.947851",
     "exception": false,
     "start_time": "2022-09-14T20:12:00.922266",
     "status": "completed"
    },
    "tags": []
   },
   "source": [
    "## Preparing the Data"
   ]
  },
  {
   "cell_type": "code",
   "execution_count": 4,
   "id": "7f69d806",
   "metadata": {
    "execution": {
     "iopub.execute_input": "2022-09-14T20:12:01.002397Z",
     "iopub.status.busy": "2022-09-14T20:12:01.001842Z",
     "iopub.status.idle": "2022-09-14T20:12:01.015634Z",
     "shell.execute_reply": "2022-09-14T20:12:01.016061Z"
    },
    "papermill": {
     "duration": 0.043106,
     "end_time": "2022-09-14T20:12:01.016181",
     "exception": false,
     "start_time": "2022-09-14T20:12:00.973075",
     "status": "completed"
    },
    "tags": []
   },
   "outputs": [],
   "source": [
    "import mnist"
   ]
  },
  {
   "cell_type": "code",
   "execution_count": 5,
   "id": "a411e44f",
   "metadata": {
    "execution": {
     "iopub.execute_input": "2022-09-14T20:12:01.071226Z",
     "iopub.status.busy": "2022-09-14T20:12:01.070628Z",
     "iopub.status.idle": "2022-09-14T20:12:01.739165Z",
     "shell.execute_reply": "2022-09-14T20:12:01.738031Z"
    },
    "papermill": {
     "duration": 0.69751,
     "end_time": "2022-09-14T20:12:01.739290",
     "exception": false,
     "start_time": "2022-09-14T20:12:01.041780",
     "status": "completed"
    },
    "tags": []
   },
   "outputs": [],
   "source": [
    "train_images = mnist.train_images()\n",
    "train_labels = mnist.train_labels()"
   ]
  },
  {
   "cell_type": "code",
   "execution_count": 6,
   "id": "dceab3a5",
   "metadata": {
    "execution": {
     "iopub.execute_input": "2022-09-14T20:12:01.799667Z",
     "iopub.status.busy": "2022-09-14T20:12:01.794230Z",
     "iopub.status.idle": "2022-09-14T20:12:01.808558Z",
     "shell.execute_reply": "2022-09-14T20:12:01.808108Z"
    },
    "papermill": {
     "duration": 0.04366,
     "end_time": "2022-09-14T20:12:01.808658",
     "exception": false,
     "start_time": "2022-09-14T20:12:01.764998",
     "status": "completed"
    },
    "tags": []
   },
   "outputs": [
    {
     "data": {
      "text/plain": [
       "((60000, 28, 28), (60000,))"
      ]
     },
     "execution_count": 6,
     "metadata": {},
     "output_type": "execute_result"
    }
   ],
   "source": [
    "train_images.shape, train_labels.shape"
   ]
  },
  {
   "cell_type": "code",
   "execution_count": 7,
   "id": "f50dc2bb",
   "metadata": {
    "execution": {
     "iopub.execute_input": "2022-09-14T20:12:01.863909Z",
     "iopub.status.busy": "2022-09-14T20:12:01.863348Z",
     "iopub.status.idle": "2022-09-14T20:12:02.139148Z",
     "shell.execute_reply": "2022-09-14T20:12:02.138017Z"
    },
    "papermill": {
     "duration": 0.304809,
     "end_time": "2022-09-14T20:12:02.139271",
     "exception": false,
     "start_time": "2022-09-14T20:12:01.834462",
     "status": "completed"
    },
    "tags": []
   },
   "outputs": [],
   "source": [
    "test_images = mnist.test_images()\n",
    "test_labels = mnist.test_labels()"
   ]
  },
  {
   "cell_type": "code",
   "execution_count": 8,
   "id": "fc38cf1b",
   "metadata": {
    "execution": {
     "iopub.execute_input": "2022-09-14T20:12:02.195407Z",
     "iopub.status.busy": "2022-09-14T20:12:02.194240Z",
     "iopub.status.idle": "2022-09-14T20:12:02.207532Z",
     "shell.execute_reply": "2022-09-14T20:12:02.206968Z"
    },
    "papermill": {
     "duration": 0.042325,
     "end_time": "2022-09-14T20:12:02.207640",
     "exception": false,
     "start_time": "2022-09-14T20:12:02.165315",
     "status": "completed"
    },
    "tags": []
   },
   "outputs": [
    {
     "data": {
      "text/plain": [
       "((10000, 28, 28), (10000,))"
      ]
     },
     "execution_count": 8,
     "metadata": {},
     "output_type": "execute_result"
    }
   ],
   "source": [
    "test_images.shape, test_labels.shape"
   ]
  },
  {
   "cell_type": "code",
   "execution_count": 9,
   "id": "f9ed8fe0",
   "metadata": {
    "execution": {
     "iopub.execute_input": "2022-09-14T20:12:02.263519Z",
     "iopub.status.busy": "2022-09-14T20:12:02.262967Z",
     "iopub.status.idle": "2022-09-14T20:12:02.394555Z",
     "shell.execute_reply": "2022-09-14T20:12:02.395250Z"
    },
    "papermill": {
     "duration": 0.161647,
     "end_time": "2022-09-14T20:12:02.395385",
     "exception": false,
     "start_time": "2022-09-14T20:12:02.233738",
     "status": "completed"
    },
    "tags": []
   },
   "outputs": [
    {
     "name": "stdout",
     "output_type": "stream",
     "text": [
      "2\n"
     ]
    },
    {
     "data": {
      "text/plain": [
       "<matplotlib.image.AxesImage at 0x7fcec67c3c50>"
      ]
     },
     "execution_count": 9,
     "metadata": {},
     "output_type": "execute_result"
    },
    {
     "data": {
      "image/png": "[encoded data removed]",
      "text/plain": [
       "<Figure size 432x288 with 1 Axes>"
      ]
     },
     "metadata": {
      "needs_background": "light"
     },
     "output_type": "display_data"
    }
   ],
   "source": [
    "image_index = 7776 # You may select anything up to 60,000\n",
    "print(train_labels[image_index]) \n",
    "plt.imshow(train_images[image_index], cmap='Greys')"
   ]
  },
  {
   "cell_type": "markdown",
   "id": "a8d2388d",
   "metadata": {
    "papermill": {
     "duration": 0.027163,
     "end_time": "2022-09-14T20:12:02.449975",
     "exception": false,
     "start_time": "2022-09-14T20:12:02.422812",
     "status": "completed"
    },
    "tags": []
   },
   "source": [
    "## Filter data to get 3 and 8 out"
   ]
  },
  {
   "cell_type": "code",
   "execution_count": 10,
   "id": "776f7fc7",
   "metadata": {
    "execution": {
     "iopub.execute_input": "2022-09-14T20:12:02.508586Z",
     "iopub.status.busy": "2022-09-14T20:12:02.508011Z",
     "iopub.status.idle": "2022-09-14T20:12:02.522838Z",
     "shell.execute_reply": "2022-09-14T20:12:02.523370Z"
    },
    "papermill": {
     "duration": 0.046382,
     "end_time": "2022-09-14T20:12:02.523496",
     "exception": false,
     "start_time": "2022-09-14T20:12:02.477114",
     "status": "completed"
    },
    "tags": []
   },
   "outputs": [],
   "source": [
    "train_filter = np.where((train_labels == 3 ) | (train_labels == 8))\n",
    "test_filter = np.where((test_labels == 3) | (test_labels == 8))\n",
    "X_train, y_train = train_images[train_filter], train_labels[train_filter]\n",
    "X_test, y_test = test_images[test_filter], test_labels[test_filter]"
   ]
  },
  {
   "cell_type": "markdown",
   "id": "948f0b7e",
   "metadata": {
    "papermill": {
     "duration": 0.02722,
     "end_time": "2022-09-14T20:12:02.578042",
     "exception": false,
     "start_time": "2022-09-14T20:12:02.550822",
     "status": "completed"
    },
    "tags": []
   },
   "source": [
    "We normalize the pizel values in the 0 to 1 range"
   ]
  },
  {
   "cell_type": "code",
   "execution_count": 11,
   "id": "ee4c2166",
   "metadata": {
    "execution": {
     "iopub.execute_input": "2022-09-14T20:12:02.636197Z",
     "iopub.status.busy": "2022-09-14T20:12:02.635650Z",
     "iopub.status.idle": "2022-09-14T20:12:02.674780Z",
     "shell.execute_reply": "2022-09-14T20:12:02.675212Z"
    },
    "papermill": {
     "duration": 0.069926,
     "end_time": "2022-09-14T20:12:02.675345",
     "exception": false,
     "start_time": "2022-09-14T20:12:02.605419",
     "status": "completed"
    },
    "tags": []
   },
   "outputs": [],
   "source": [
    "X_train = X_train/255.\n",
    "X_test = X_test/255."
   ]
  },
  {
   "cell_type": "markdown",
   "id": "ddcf4fab",
   "metadata": {
    "papermill": {
     "duration": 0.027201,
     "end_time": "2022-09-14T20:12:02.729925",
     "exception": false,
     "start_time": "2022-09-14T20:12:02.702724",
     "status": "completed"
    },
    "tags": []
   },
   "source": [
    "And setup the labels as 1 (when the digit is 3) and 0 (when the digit is 8)"
   ]
  },
  {
   "cell_type": "code",
   "execution_count": 12,
   "id": "7dc908f2",
   "metadata": {
    "execution": {
     "iopub.execute_input": "2022-09-14T20:12:02.788782Z",
     "iopub.status.busy": "2022-09-14T20:12:02.788237Z",
     "iopub.status.idle": "2022-09-14T20:12:02.799878Z",
     "shell.execute_reply": "2022-09-14T20:12:02.799412Z"
    },
    "papermill": {
     "duration": 0.042843,
     "end_time": "2022-09-14T20:12:02.799981",
     "exception": false,
     "start_time": "2022-09-14T20:12:02.757138",
     "status": "completed"
    },
    "tags": []
   },
   "outputs": [],
   "source": [
    "y_train = 1*(y_train==3)\n",
    "y_test = 1*(y_test==3)"
   ]
  },
  {
   "cell_type": "code",
   "execution_count": 13,
   "id": "01e4e969",
   "metadata": {
    "execution": {
     "iopub.execute_input": "2022-09-14T20:12:02.858060Z",
     "iopub.status.busy": "2022-09-14T20:12:02.857504Z",
     "iopub.status.idle": "2022-09-14T20:12:02.870476Z",
     "shell.execute_reply": "2022-09-14T20:12:02.870927Z"
    },
    "papermill": {
     "duration": 0.043747,
     "end_time": "2022-09-14T20:12:02.871048",
     "exception": false,
     "start_time": "2022-09-14T20:12:02.827301",
     "status": "completed"
    },
    "tags": []
   },
   "outputs": [
    {
     "data": {
      "text/plain": [
       "((11982, 28, 28), (1984, 28, 28))"
      ]
     },
     "execution_count": 13,
     "metadata": {},
     "output_type": "execute_result"
    }
   ],
   "source": [
    "X_train.shape, X_test.shape"
   ]
  },
  {
   "cell_type": "markdown",
   "id": "5ccf3f85",
   "metadata": {
    "papermill": {
     "duration": 0.027421,
     "end_time": "2022-09-14T20:12:02.926029",
     "exception": false,
     "start_time": "2022-09-14T20:12:02.898608",
     "status": "completed"
    },
    "tags": []
   },
   "source": [
    "We reshape the data to flatten the image pixels into a set of features or co-variates:"
   ]
  },
  {
   "cell_type": "code",
   "execution_count": 14,
   "id": "5286a4a3",
   "metadata": {
    "execution": {
     "iopub.execute_input": "2022-09-14T20:12:02.985658Z",
     "iopub.status.busy": "2022-09-14T20:12:02.985064Z",
     "iopub.status.idle": "2022-09-14T20:12:02.997705Z",
     "shell.execute_reply": "2022-09-14T20:12:02.998159Z"
    },
    "papermill": {
     "duration": 0.044519,
     "end_time": "2022-09-14T20:12:02.998288",
     "exception": false,
     "start_time": "2022-09-14T20:12:02.953769",
     "status": "completed"
    },
    "tags": []
   },
   "outputs": [
    {
     "data": {
      "text/plain": [
       "((11982, 784), (1984, 784))"
      ]
     },
     "execution_count": 14,
     "metadata": {},
     "output_type": "execute_result"
    }
   ],
   "source": [
    "X_train = X_train.reshape(X_train.shape[0], -1)\n",
    "X_test = X_test.reshape(X_test.shape[0], -1)\n",
    "X_train.shape, X_test.shape"
   ]
  },
  {
   "cell_type": "code",
   "execution_count": 15,
   "id": "73c5f88a",
   "metadata": {
    "execution": {
     "iopub.execute_input": "2022-09-14T20:12:03.059004Z",
     "iopub.status.busy": "2022-09-14T20:12:03.058373Z",
     "iopub.status.idle": "2022-09-14T20:12:03.077162Z",
     "shell.execute_reply": "2022-09-14T20:12:03.076658Z"
    },
    "papermill": {
     "duration": 0.050932,
     "end_time": "2022-09-14T20:12:03.077273",
     "exception": false,
     "start_time": "2022-09-14T20:12:03.026341",
     "status": "completed"
    },
    "tags": []
   },
   "outputs": [],
   "source": [
    "#Impoting functions from 'Kudzu'\n",
    "from kudzu.model import Model\n",
    "from kudzu.train import Learner\n",
    "from kudzu.optim import GD\n",
    "from kudzu.data import Data, Sampler,Dataloader\n",
    "\n",
    "from kudzu.callbacks import AccCallback\n",
    "from kudzu.callbacks import ClfCallback\n",
    "\n",
    "from kudzu.loss import MSE\n",
    "\n",
    "from kudzu.layer import Sigmoid,Relu\n",
    "from kudzu.layer import Affine"
   ]
  },
  {
   "cell_type": "markdown",
   "id": "bc01172a",
   "metadata": {
    "papermill": {
     "duration": 0.028007,
     "end_time": "2022-09-14T20:12:03.133416",
     "exception": false,
     "start_time": "2022-09-14T20:12:03.105409",
     "status": "completed"
    },
    "tags": []
   },
   "source": [
    "### Let us create a `Config` class, to store important parameters. \n",
    "This class essentially plays the role of a dictionary."
   ]
  },
  {
   "cell_type": "code",
   "execution_count": 16,
   "id": "978281aa",
   "metadata": {
    "execution": {
     "iopub.execute_input": "2022-09-14T20:12:03.193701Z",
     "iopub.status.busy": "2022-09-14T20:12:03.192775Z",
     "iopub.status.idle": "2022-09-14T20:12:03.205786Z",
     "shell.execute_reply": "2022-09-14T20:12:03.205325Z"
    },
    "papermill": {
     "duration": 0.044523,
     "end_time": "2022-09-14T20:12:03.205892",
     "exception": false,
     "start_time": "2022-09-14T20:12:03.161369",
     "status": "completed"
    },
    "tags": []
   },
   "outputs": [],
   "source": [
    "class Config:\n",
    "    pass\n",
    "config = Config()\n",
    "config.lr = 0.001\n",
    "config.num_epochs = 250\n",
    "config.bs = 50"
   ]
  },
  {
   "cell_type": "markdown",
   "id": "1385fa59",
   "metadata": {
    "papermill": {
     "duration": 0.027685,
     "end_time": "2022-09-14T20:12:03.261528",
     "exception": false,
     "start_time": "2022-09-14T20:12:03.233843",
     "status": "completed"
    },
    "tags": []
   },
   "source": [
    "### Running Models with the Training data\n",
    "Details about the network layers:\n",
    "- A first affine layer has 784 inputs and does 100 affine transforms. These are followed by a Relu\n",
    "- A second affine layer has 100 inputs from the 100 activations of the past layer, and does 100 affine transforms. These are followed by a Relu\n",
    "- A third affine layer has 100 activations and does 2 affine transformations to create an embedding for visualization. There is no non-linearity here.\n",
    "- A final \"logistic regression\" which has an affine transform from 2 inputs to 1 output, which is squeezed through a sigmoid.\n"
   ]
  },
  {
   "cell_type": "code",
   "execution_count": 17,
   "id": "2b9c66db",
   "metadata": {
    "execution": {
     "iopub.execute_input": "2022-09-14T20:12:03.321298Z",
     "iopub.status.busy": "2022-09-14T20:12:03.320732Z",
     "iopub.status.idle": "2022-09-14T20:12:03.332867Z",
     "shell.execute_reply": "2022-09-14T20:12:03.332409Z"
    },
    "papermill": {
     "duration": 0.0435,
     "end_time": "2022-09-14T20:12:03.332973",
     "exception": false,
     "start_time": "2022-09-14T20:12:03.289473",
     "status": "completed"
    },
    "tags": []
   },
   "outputs": [],
   "source": [
    "data = Data(X_train, y_train.reshape(-1,1))\n",
    "sampler = Sampler(data, config.bs, shuffle=True)\n",
    "\n",
    "dl = Dataloader(data, sampler)\n",
    "\n",
    "opt = GD(config.lr)\n",
    "loss = MSE()"
   ]
  },
  {
   "cell_type": "code",
   "execution_count": 18,
   "id": "b275e4c2",
   "metadata": {
    "execution": {
     "iopub.execute_input": "2022-09-14T20:12:03.392271Z",
     "iopub.status.busy": "2022-09-14T20:12:03.391706Z",
     "iopub.status.idle": "2022-09-14T20:12:03.403595Z",
     "shell.execute_reply": "2022-09-14T20:12:03.403126Z"
    },
    "papermill": {
     "duration": 0.04292,
     "end_time": "2022-09-14T20:12:03.403695",
     "exception": false,
     "start_time": "2022-09-14T20:12:03.360775",
     "status": "completed"
    },
    "tags": []
   },
   "outputs": [],
   "source": [
    "training_data_x = X_train\n",
    "testing_data_x = X_test\n",
    "training_data_y = y_train.reshape(-1,1)\n",
    "testing_data_y = y_test.reshape(-1,1)"
   ]
  },
  {
   "cell_type": "code",
   "execution_count": 19,
   "id": "76951160",
   "metadata": {
    "execution": {
     "iopub.execute_input": "2022-09-14T20:12:03.463530Z",
     "iopub.status.busy": "2022-09-14T20:12:03.462949Z",
     "iopub.status.idle": "2022-09-14T20:12:03.479050Z",
     "shell.execute_reply": "2022-09-14T20:12:03.479488Z"
    },
    "papermill": {
     "duration": 0.048177,
     "end_time": "2022-09-14T20:12:03.479608",
     "exception": false,
     "start_time": "2022-09-14T20:12:03.431431",
     "status": "completed"
    },
    "tags": []
   },
   "outputs": [
    {
     "name": "stdout",
     "output_type": "stream",
     "text": [
      "xavier\n",
      "xavier\n",
      "xavier\n",
      "xavier\n",
      "xavier\n"
     ]
    }
   ],
   "source": [
    "layers = [Affine(\"first\", 784, 100), Relu(\"first\"), Affine(\"second\", 100, 100), Relu(\"second\"), Affine(\"third\", 100, 2), Affine(\"last\", 2, 1), Sigmoid(\"last\")]\n",
    "model_nn = Model(layers)\n",
    "model_lr = Model([Affine(\"logits\", 784, 1), Sigmoid(\"sigmoid\")])"
   ]
  },
  {
   "cell_type": "code",
   "execution_count": 20,
   "id": "6eede77a",
   "metadata": {
    "execution": {
     "iopub.execute_input": "2022-09-14T20:12:03.539568Z",
     "iopub.status.busy": "2022-09-14T20:12:03.538996Z",
     "iopub.status.idle": "2022-09-14T20:12:03.551004Z",
     "shell.execute_reply": "2022-09-14T20:12:03.550515Z"
    },
    "papermill": {
     "duration": 0.043473,
     "end_time": "2022-09-14T20:12:03.551107",
     "exception": false,
     "start_time": "2022-09-14T20:12:03.507634",
     "status": "completed"
    },
    "tags": []
   },
   "outputs": [],
   "source": [
    "nn_learner = Learner(loss, model_nn, opt, config.num_epochs)\n",
    "acc_nn = ClfCallback(nn_learner, config.bs, training_data_x , testing_data_x, training_data_y, testing_data_y)\n",
    "nn_learner.set_callbacks([acc_nn])"
   ]
  },
  {
   "cell_type": "code",
   "execution_count": 21,
   "id": "877b6cc7",
   "metadata": {
    "execution": {
     "iopub.execute_input": "2022-09-14T20:12:03.611102Z",
     "iopub.status.busy": "2022-09-14T20:12:03.610505Z",
     "iopub.status.idle": "2022-09-14T20:12:03.622238Z",
     "shell.execute_reply": "2022-09-14T20:12:03.621775Z"
    },
    "papermill": {
     "duration": 0.04318,
     "end_time": "2022-09-14T20:12:03.622342",
     "exception": false,
     "start_time": "2022-09-14T20:12:03.579162",
     "status": "completed"
    },
    "tags": []
   },
   "outputs": [],
   "source": [
    "lr_learner = Learner(loss, model_lr, opt, config.num_epochs)\n",
    "acc_lr = ClfCallback(lr_learner, config.bs, training_data_x , testing_data_x, training_data_y, testing_data_y)\n",
    "lr_learner.set_callbacks([acc_lr])"
   ]
  },
  {
   "cell_type": "code",
   "execution_count": 22,
   "id": "d9b133c3",
   "metadata": {
    "execution": {
     "iopub.execute_input": "2022-09-14T20:12:03.681770Z",
     "iopub.status.busy": "2022-09-14T20:12:03.681222Z",
     "iopub.status.idle": "2022-09-14T20:15:00.640193Z",
     "shell.execute_reply": "2022-09-14T20:15:00.640645Z"
    },
    "papermill": {
     "duration": 176.990245,
     "end_time": "2022-09-14T20:15:00.640772",
     "exception": false,
     "start_time": "2022-09-14T20:12:03.650527",
     "status": "completed"
    },
    "tags": []
   },
   "outputs": [
    {
     "name": "stdout",
     "output_type": "stream",
     "text": [
      "Epoch 0, Loss 0.2488\n",
      "Training Accuracy: 0.5945, Testing Accuracy: 0.6053\n",
      "\n"
     ]
    },
    {
     "name": "stdout",
     "output_type": "stream",
     "text": [
      "Epoch 10, Loss 0.107\n",
      "Training Accuracy: 0.9068, Testing Accuracy: 0.9143\n",
      "\n"
     ]
    },
    {
     "name": "stdout",
     "output_type": "stream",
     "text": [
      "Epoch 20, Loss 0.0623\n",
      "Training Accuracy: 0.9367, Testing Accuracy: 0.9516\n",
      "\n"
     ]
    },
    {
     "name": "stdout",
     "output_type": "stream",
     "text": [
      "Epoch 30, Loss 0.0471\n",
      "Training Accuracy: 0.9495, Testing Accuracy: 0.9602\n",
      "\n"
     ]
    },
    {
     "name": "stdout",
     "output_type": "stream",
     "text": [
      "Epoch 40, Loss 0.0399\n",
      "Training Accuracy: 0.9542, Testing Accuracy: 0.9652\n",
      "\n"
     ]
    },
    {
     "name": "stdout",
     "output_type": "stream",
     "text": [
      "Epoch 50, Loss 0.0358\n",
      "Training Accuracy: 0.9588, Testing Accuracy: 0.9682\n",
      "\n"
     ]
    },
    {
     "name": "stdout",
     "output_type": "stream",
     "text": [
      "Epoch 60, Loss 0.033\n",
      "Training Accuracy: 0.9614, Testing Accuracy: 0.9693\n",
      "\n"
     ]
    },
    {
     "name": "stdout",
     "output_type": "stream",
     "text": [
      "Epoch 70, Loss 0.0309\n",
      "Training Accuracy: 0.9635, Testing Accuracy: 0.9703\n",
      "\n"
     ]
    },
    {
     "name": "stdout",
     "output_type": "stream",
     "text": [
      "Epoch 80, Loss 0.0293\n",
      "Training Accuracy: 0.9658, Testing Accuracy: 0.9698\n",
      "\n"
     ]
    },
    {
     "name": "stdout",
     "output_type": "stream",
     "text": [
      "Epoch 90, Loss 0.0279\n",
      "Training Accuracy: 0.9672, Testing Accuracy: 0.9703\n",
      "\n"
     ]
    },
    {
     "name": "stdout",
     "output_type": "stream",
     "text": [
      "Epoch 100, Loss 0.0268\n",
      "Training Accuracy: 0.9688, Testing Accuracy: 0.9713\n",
      "\n"
     ]
    },
    {
     "name": "stdout",
     "output_type": "stream",
     "text": [
      "Epoch 110, Loss 0.0258\n",
      "Training Accuracy: 0.9701, Testing Accuracy: 0.9718\n",
      "\n"
     ]
    },
    {
     "name": "stdout",
     "output_type": "stream",
     "text": [
      "Epoch 120, Loss 0.025\n",
      "Training Accuracy: 0.9717, Testing Accuracy: 0.9743\n",
      "\n"
     ]
    },
    {
     "name": "stdout",
     "output_type": "stream",
     "text": [
      "Epoch 130, Loss 0.0242\n",
      "Training Accuracy: 0.9725, Testing Accuracy: 0.9743\n",
      "\n"
     ]
    },
    {
     "name": "stdout",
     "output_type": "stream",
     "text": [
      "Epoch 140, Loss 0.0235\n",
      "Training Accuracy: 0.9735, Testing Accuracy: 0.9738\n",
      "\n"
     ]
    },
    {
     "name": "stdout",
     "output_type": "stream",
     "text": [
      "Epoch 150, Loss 0.0228\n",
      "Training Accuracy: 0.9742, Testing Accuracy: 0.9743\n",
      "\n"
     ]
    },
    {
     "name": "stdout",
     "output_type": "stream",
     "text": [
      "Epoch 160, Loss 0.0222\n",
      "Training Accuracy: 0.9750, Testing Accuracy: 0.9743\n",
      "\n"
     ]
    },
    {
     "name": "stdout",
     "output_type": "stream",
     "text": [
      "Epoch 170, Loss 0.0217\n",
      "Training Accuracy: 0.9755, Testing Accuracy: 0.9738\n",
      "\n"
     ]
    },
    {
     "name": "stdout",
     "output_type": "stream",
     "text": [
      "Epoch 180, Loss 0.0212\n",
      "Training Accuracy: 0.9760, Testing Accuracy: 0.9743\n",
      "\n"
     ]
    },
    {
     "name": "stdout",
     "output_type": "stream",
     "text": [
      "Epoch 190, Loss 0.0207\n",
      "Training Accuracy: 0.9766, Testing Accuracy: 0.9738\n",
      "\n"
     ]
    },
    {
     "name": "stdout",
     "output_type": "stream",
     "text": [
      "Epoch 200, Loss 0.0202\n",
      "Training Accuracy: 0.9775, Testing Accuracy: 0.9748\n",
      "\n"
     ]
    },
    {
     "name": "stdout",
     "output_type": "stream",
     "text": [
      "Epoch 210, Loss 0.0198\n",
      "Training Accuracy: 0.9782, Testing Accuracy: 0.9743\n",
      "\n"
     ]
    },
    {
     "name": "stdout",
     "output_type": "stream",
     "text": [
      "Epoch 220, Loss 0.0194\n",
      "Training Accuracy: 0.9786, Testing Accuracy: 0.9748\n",
      "\n"
     ]
    },
    {
     "name": "stdout",
     "output_type": "stream",
     "text": [
      "Epoch 230, Loss 0.019\n",
      "Training Accuracy: 0.9793, Testing Accuracy: 0.9748\n",
      "\n"
     ]
    },
    {
     "name": "stdout",
     "output_type": "stream",
     "text": [
      "Epoch 240, Loss 0.0186\n",
      "Training Accuracy: 0.9799, Testing Accuracy: 0.9748\n",
      "\n"
     ]
    },
    {
     "data": {
      "text/plain": [
       "0.008786105161572912"
      ]
     },
     "execution_count": 22,
     "metadata": {},
     "output_type": "execute_result"
    }
   ],
   "source": [
    "nn_learner.train_loop(dl)"
   ]
  },
  {
   "cell_type": "code",
   "execution_count": 23,
   "id": "e0163366",
   "metadata": {
    "execution": {
     "iopub.execute_input": "2022-09-14T20:15:00.719231Z",
     "iopub.status.busy": "2022-09-14T20:15:00.715034Z",
     "iopub.status.idle": "2022-09-14T20:15:13.123566Z",
     "shell.execute_reply": "2022-09-14T20:15:13.123103Z"
    },
    "papermill": {
     "duration": 12.44751,
     "end_time": "2022-09-14T20:15:13.123680",
     "exception": false,
     "start_time": "2022-09-14T20:15:00.676170",
     "status": "completed"
    },
    "tags": []
   },
   "outputs": [
    {
     "name": "stdout",
     "output_type": "stream",
     "text": [
      "Epoch 0, Loss 0.2302\n",
      "Training Accuracy: 0.7436, Testing Accuracy: 0.7888\n",
      "\n"
     ]
    },
    {
     "name": "stdout",
     "output_type": "stream",
     "text": [
      "Epoch 10, Loss 0.1015\n",
      "Training Accuracy: 0.9102, Testing Accuracy: 0.9264\n",
      "\n"
     ]
    },
    {
     "name": "stdout",
     "output_type": "stream",
     "text": [
      "Epoch 20, Loss 0.079\n",
      "Training Accuracy: 0.9261, Testing Accuracy: 0.9395\n",
      "\n"
     ]
    },
    {
     "name": "stdout",
     "output_type": "stream",
     "text": [
      "Epoch 30, Loss 0.0684\n",
      "Training Accuracy: 0.9344, Testing Accuracy: 0.9466\n",
      "\n"
     ]
    },
    {
     "name": "stdout",
     "output_type": "stream",
     "text": [
      "Epoch 40, Loss 0.0619\n",
      "Training Accuracy: 0.9398, Testing Accuracy: 0.9531\n",
      "\n"
     ]
    },
    {
     "name": "stdout",
     "output_type": "stream",
     "text": [
      "Epoch 50, Loss 0.0575\n",
      "Training Accuracy: 0.9430, Testing Accuracy: 0.9561\n",
      "\n"
     ]
    },
    {
     "name": "stdout",
     "output_type": "stream",
     "text": [
      "Epoch 60, Loss 0.0542\n",
      "Training Accuracy: 0.9459, Testing Accuracy: 0.9572\n",
      "\n"
     ]
    },
    {
     "name": "stdout",
     "output_type": "stream",
     "text": [
      "Epoch 70, Loss 0.0516\n",
      "Training Accuracy: 0.9484, Testing Accuracy: 0.9587\n",
      "\n"
     ]
    },
    {
     "name": "stdout",
     "output_type": "stream",
     "text": [
      "Epoch 80, Loss 0.0496\n",
      "Training Accuracy: 0.9501, Testing Accuracy: 0.9617\n",
      "\n"
     ]
    },
    {
     "name": "stdout",
     "output_type": "stream",
     "text": [
      "Epoch 90, Loss 0.0479\n",
      "Training Accuracy: 0.9514, Testing Accuracy: 0.9632\n",
      "\n"
     ]
    },
    {
     "name": "stdout",
     "output_type": "stream",
     "text": [
      "Epoch 100, Loss 0.0465\n",
      "Training Accuracy: 0.9527, Testing Accuracy: 0.9647\n",
      "\n"
     ]
    },
    {
     "name": "stdout",
     "output_type": "stream",
     "text": [
      "Epoch 110, Loss 0.0452\n",
      "Training Accuracy: 0.9535, Testing Accuracy: 0.9652\n",
      "\n"
     ]
    },
    {
     "name": "stdout",
     "output_type": "stream",
     "text": [
      "Epoch 120, Loss 0.0442\n",
      "Training Accuracy: 0.9540, Testing Accuracy: 0.9657\n",
      "\n"
     ]
    },
    {
     "name": "stdout",
     "output_type": "stream",
     "text": [
      "Epoch 130, Loss 0.0432\n",
      "Training Accuracy: 0.9549, Testing Accuracy: 0.9667\n",
      "\n"
     ]
    },
    {
     "name": "stdout",
     "output_type": "stream",
     "text": [
      "Epoch 140, Loss 0.0424\n",
      "Training Accuracy: 0.9556, Testing Accuracy: 0.9667\n",
      "\n"
     ]
    },
    {
     "name": "stdout",
     "output_type": "stream",
     "text": [
      "Epoch 150, Loss 0.0416\n",
      "Training Accuracy: 0.9566, Testing Accuracy: 0.9662\n",
      "\n"
     ]
    },
    {
     "name": "stdout",
     "output_type": "stream",
     "text": [
      "Epoch 160, Loss 0.041\n",
      "Training Accuracy: 0.9572, Testing Accuracy: 0.9667\n",
      "\n"
     ]
    },
    {
     "name": "stdout",
     "output_type": "stream",
     "text": [
      "Epoch 170, Loss 0.0403\n",
      "Training Accuracy: 0.9575, Testing Accuracy: 0.9667\n",
      "\n"
     ]
    },
    {
     "name": "stdout",
     "output_type": "stream",
     "text": [
      "Epoch 180, Loss 0.0398\n",
      "Training Accuracy: 0.9579, Testing Accuracy: 0.9662\n",
      "\n"
     ]
    },
    {
     "name": "stdout",
     "output_type": "stream",
     "text": [
      "Epoch 190, Loss 0.0392\n",
      "Training Accuracy: 0.9583, Testing Accuracy: 0.9662\n",
      "\n"
     ]
    },
    {
     "name": "stdout",
     "output_type": "stream",
     "text": [
      "Epoch 200, Loss 0.0388\n",
      "Training Accuracy: 0.9589, Testing Accuracy: 0.9662\n",
      "\n"
     ]
    },
    {
     "name": "stdout",
     "output_type": "stream",
     "text": [
      "Epoch 210, Loss 0.0383\n",
      "Training Accuracy: 0.9591, Testing Accuracy: 0.9672\n",
      "\n"
     ]
    },
    {
     "name": "stdout",
     "output_type": "stream",
     "text": [
      "Epoch 220, Loss 0.0379\n",
      "Training Accuracy: 0.9594, Testing Accuracy: 0.9672\n",
      "\n"
     ]
    },
    {
     "name": "stdout",
     "output_type": "stream",
     "text": [
      "Epoch 230, Loss 0.0375\n",
      "Training Accuracy: 0.9594, Testing Accuracy: 0.9672\n",
      "\n"
     ]
    },
    {
     "name": "stdout",
     "output_type": "stream",
     "text": [
      "Epoch 240, Loss 0.0371\n",
      "Training Accuracy: 0.9596, Testing Accuracy: 0.9672\n",
      "\n"
     ]
    },
    {
     "data": {
      "text/plain": [
       "0.028710062898367947"
      ]
     },
     "execution_count": 23,
     "metadata": {},
     "output_type": "execute_result"
    }
   ],
   "source": [
    "lr_learner.train_loop(dl)"
   ]
  },
  {
   "cell_type": "code",
   "execution_count": 24,
   "id": "ca410940",
   "metadata": {
    "execution": {
     "iopub.execute_input": "2022-09-14T20:15:13.216118Z",
     "iopub.status.busy": "2022-09-14T20:15:13.215540Z",
     "iopub.status.idle": "2022-09-14T20:15:13.452635Z",
     "shell.execute_reply": "2022-09-14T20:15:13.453069Z"
    },
    "papermill": {
     "duration": 0.287019,
     "end_time": "2022-09-14T20:15:13.453193",
     "exception": false,
     "start_time": "2022-09-14T20:15:13.166174",
     "status": "completed"
    },
    "tags": []
   },
   "outputs": [
    {
     "data": {
      "text/plain": [
       "<matplotlib.legend.Legend at 0x7fceb9b843c8>"
      ]
     },
     "execution_count": 24,
     "metadata": {},
     "output_type": "execute_result"
    },
    {
     "data": {
      "image/png": "[encoded data removed]",
      "text/plain": [
       "<Figure size 1080x720 with 1 Axes>"
      ]
     },
     "metadata": {
      "needs_background": "light"
     },
     "output_type": "display_data"
    }
   ],
   "source": [
    "#comparing the results of NN and LR\n",
    "plt.figure(figsize=(15,10))\n",
    "\n",
    "# Neural Network plots\n",
    "plt.plot(acc_nn.accuracies, 'r-', label = \"Training Accuracies - NN\")\n",
    "plt.plot(acc_nn.test_accuracies, 'g-', label = \"Testing Accuracies - NN\")\n",
    "\n",
    "# Logistic Regression plots\n",
    "plt.plot(acc_lr.accuracies, 'k-', label = \"Training Accuracies - LR\")\n",
    "plt.plot(acc_lr.test_accuracies, 'b-', label = \"Testing Accuracies - LR\")\n",
    "plt.legend()"
   ]
  },
  {
   "cell_type": "markdown",
   "id": "80dfb35c",
   "metadata": {
    "papermill": {
     "duration": 0.043253,
     "end_time": "2022-09-14T20:15:13.539582",
     "exception": false,
     "start_time": "2022-09-14T20:15:13.496329",
     "status": "completed"
    },
    "tags": []
   },
   "source": [
    "#### Plotting the outputs of this layer of the NN.\n"
   ]
  },
  {
   "cell_type": "code",
   "execution_count": 25,
   "id": "45eb2ff5",
   "metadata": {
    "execution": {
     "iopub.execute_input": "2022-09-14T20:15:13.629923Z",
     "iopub.status.busy": "2022-09-14T20:15:13.629345Z",
     "iopub.status.idle": "2022-09-14T20:15:13.667471Z",
     "shell.execute_reply": "2022-09-14T20:15:13.666555Z"
    },
    "papermill": {
     "duration": 0.084909,
     "end_time": "2022-09-14T20:15:13.667588",
     "exception": false,
     "start_time": "2022-09-14T20:15:13.582679",
     "status": "completed"
    },
    "tags": []
   },
   "outputs": [],
   "source": [
    "new_model = Model(layers[:-2])\n",
    "testing_plot = new_model(testing_data_x)"
   ]
  },
  {
   "cell_type": "code",
   "execution_count": 26,
   "id": "4c0a5485",
   "metadata": {
    "execution": {
     "iopub.execute_input": "2022-09-14T20:15:13.763957Z",
     "iopub.status.busy": "2022-09-14T20:15:13.763385Z",
     "iopub.status.idle": "2022-09-14T20:15:13.944134Z",
     "shell.execute_reply": "2022-09-14T20:15:13.944558Z"
    },
    "papermill": {
     "duration": 0.233473,
     "end_time": "2022-09-14T20:15:13.944689",
     "exception": false,
     "start_time": "2022-09-14T20:15:13.711216",
     "status": "completed"
    },
    "tags": []
   },
   "outputs": [
    {
     "data": {
      "text/plain": [
       "Text(0.5, 1.0, 'Outputs')"
      ]
     },
     "execution_count": 26,
     "metadata": {},
     "output_type": "execute_result"
    },
    {
     "data": {
      "image/png": "[encoded data removed]",
      "text/plain": [
       "<Figure size 576x504 with 1 Axes>"
      ]
     },
     "metadata": {
      "needs_background": "light"
     },
     "output_type": "display_data"
    }
   ],
   "source": [
    "# Plotting the scatter plot of points and color coding by class\n",
    "plt.figure(figsize=(8,7))\n",
    "plt.scatter(testing_plot[:,0], testing_plot[:,1], alpha = 0.1, c = y_test.ravel());\n",
    "plt.title('Outputs')"
   ]
  },
  {
   "cell_type": "markdown",
   "id": "a74fcf8f",
   "metadata": {
    "papermill": {
     "duration": 0.045233,
     "end_time": "2022-09-14T20:15:14.058828",
     "exception": false,
     "start_time": "2022-09-14T20:15:14.013595",
     "status": "completed"
    },
    "tags": []
   },
   "source": [
    "Probability contours"
   ]
  },
  {
   "cell_type": "code",
   "execution_count": 27,
   "id": "d0afc8e3",
   "metadata": {
    "execution": {
     "iopub.execute_input": "2022-09-14T20:15:14.152220Z",
     "iopub.status.busy": "2022-09-14T20:15:14.151652Z",
     "iopub.status.idle": "2022-09-14T20:15:14.163000Z",
     "shell.execute_reply": "2022-09-14T20:15:14.163453Z"
    },
    "papermill": {
     "duration": 0.059895,
     "end_time": "2022-09-14T20:15:14.163569",
     "exception": false,
     "start_time": "2022-09-14T20:15:14.103674",
     "status": "completed"
    },
    "tags": []
   },
   "outputs": [],
   "source": [
    "model_prob = Model(layers[-2:]) "
   ]
  },
  {
   "cell_type": "code",
   "execution_count": 28,
   "id": "9b96e238",
   "metadata": {
    "execution": {
     "iopub.execute_input": "2022-09-14T20:15:14.257948Z",
     "iopub.status.busy": "2022-09-14T20:15:14.257384Z",
     "iopub.status.idle": "2022-09-14T20:15:14.270164Z",
     "shell.execute_reply": "2022-09-14T20:15:14.270605Z"
    },
    "papermill": {
     "duration": 0.062592,
     "end_time": "2022-09-14T20:15:14.270758",
     "exception": false,
     "start_time": "2022-09-14T20:15:14.208166",
     "status": "completed"
    },
    "tags": []
   },
   "outputs": [],
   "source": [
    "#creating the x and y ranges according to the above generated plot.\n",
    "x_range = np.linspace(-4, 1, 100) \n",
    "y_range = np.linspace(-6, 6, 100) \n",
    "x_grid, y_grid = np.meshgrid(x_range, y_range) # x_grid and y_grig are of size 100 X 100\n",
    "\n",
    "# converting x_grid and y_grid to continuous arrays\n",
    "x_gridflat = np.ravel(x_grid)\n",
    "y_gridflat = np.ravel(y_grid)\n",
    "\n",
    "# The last layer of the current model takes two columns as input. Hence transpose of np.vstack() is required.\n",
    "X = np.vstack((x_gridflat, y_gridflat)).T\n",
    "\n",
    "prob_contour = model_prob(X).reshape(100,100) "
   ]
  },
  {
   "cell_type": "code",
   "execution_count": 29,
   "id": "da72499a",
   "metadata": {
    "execution": {
     "iopub.execute_input": "2022-09-14T20:15:14.367781Z",
     "iopub.status.busy": "2022-09-14T20:15:14.367239Z",
     "iopub.status.idle": "2022-09-14T20:15:14.604679Z",
     "shell.execute_reply": "2022-09-14T20:15:14.605111Z"
    },
    "papermill": {
     "duration": 0.289013,
     "end_time": "2022-09-14T20:15:14.605237",
     "exception": false,
     "start_time": "2022-09-14T20:15:14.316224",
     "status": "completed"
    },
    "tags": []
   },
   "outputs": [
    {
     "data": {
      "image/png": "[encoded data removed]",
      "text/plain": [
       "<Figure size 720x648 with 1 Axes>"
      ]
     },
     "metadata": {
      "needs_background": "light"
     },
     "output_type": "display_data"
    }
   ],
   "source": [
    "plt.figure(figsize=(10,9))\n",
    "plt.scatter(testing_plot[:,0], testing_plot[:,1], alpha = 0.1, c = y_test.ravel())\n",
    "contours = plt.contour(x_grid,y_grid,prob_contour)\n",
    "plt.title('Probability Contours')\n",
    "plt.clabel(contours, inline = True );"
   ]
  },
  {
   "cell_type": "code",
   "execution_count": null,
   "id": "e81b4ac7",
   "metadata": {
    "papermill": {
     "duration": 0.047341,
     "end_time": "2022-09-14T20:15:14.699820",
     "exception": false,
     "start_time": "2022-09-14T20:15:14.652479",
     "status": "completed"
    },
    "tags": []
   },
   "outputs": [],
   "source": []
  }
 ],
 "metadata": {
  "kernelspec": {
   "display_name": "Python 3",
   "language": "python",
   "name": "python3"
  },
  "language_info": {
   "codemirror_mode": {
    "name": "ipython",
    "version": 3
   },
   "file_extension": ".py",
   "mimetype": "text/x-python",
   "name": "python",
   "nbconvert_exporter": "python",
   "pygments_lexer": "ipython3",
   "version": "3.6.15"
  },
  "papermill": {
   "default_parameters": {},
   "duration": 197.552538,
   "end_time": "2022-09-14T20:15:15.064870",
   "environment_variables": {},
   "exception": null,
   "input_path": "2020-08-11-part2.ipynb",
   "output_path": "2020-08-11-part2.ipynb",
   "parameters": {},
   "start_time": "2022-09-14T20:11:57.512332",
   "version": "2.3.3"
  }
 },
 "nbformat": 4,
 "nbformat_minor": 5
}