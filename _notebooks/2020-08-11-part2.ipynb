{
 "cells": [
  {
   "cell_type": "markdown",
   "id": "98380cd3",
   "metadata": {
    "papermill": {
     "duration": 0.028983,
     "end_time": "2022-09-05T20:11:08.381677",
     "exception": false,
     "start_time": "2022-09-05T20:11:08.352694",
     "status": "completed"
    },
    "tags": []
   },
   "source": [
    "# Distinguish Your Own Digits (DYOD)"
   ]
  },
  {
   "cell_type": "markdown",
   "id": "ef31240d",
   "metadata": {
    "papermill": {
     "duration": 0.024044,
     "end_time": "2022-09-05T20:11:08.430299",
     "exception": false,
     "start_time": "2022-09-05T20:11:08.406255",
     "status": "completed"
    },
    "tags": []
   },
   "source": [
    "You are going to write a classifier that distinguishes between the number 3 and number 8."
   ]
  },
  {
   "cell_type": "code",
   "execution_count": 1,
   "id": "b15c8646",
   "metadata": {
    "execution": {
     "iopub.execute_input": "2022-09-05T20:11:08.488510Z",
     "iopub.status.busy": "2022-09-05T20:11:08.485544Z",
     "iopub.status.idle": "2022-09-05T20:11:08.499189Z",
     "shell.execute_reply": "2022-09-05T20:11:08.498698Z"
    },
    "papermill": {
     "duration": 0.045193,
     "end_time": "2022-09-05T20:11:08.499306",
     "exception": false,
     "start_time": "2022-09-05T20:11:08.454113",
     "status": "completed"
    },
    "tags": []
   },
   "outputs": [],
   "source": [
    "%load_ext autoreload\n",
    "%autoreload 2"
   ]
  },
  {
   "cell_type": "code",
   "execution_count": 2,
   "id": "22ef38dc",
   "metadata": {
    "execution": {
     "iopub.execute_input": "2022-09-05T20:11:08.549890Z",
     "iopub.status.busy": "2022-09-05T20:11:08.549308Z",
     "iopub.status.idle": "2022-09-05T20:11:09.069428Z",
     "shell.execute_reply": "2022-09-05T20:11:09.068847Z"
    },
    "papermill": {
     "duration": 0.546411,
     "end_time": "2022-09-05T20:11:09.069566",
     "exception": false,
     "start_time": "2022-09-05T20:11:08.523155",
     "status": "completed"
    },
    "tags": []
   },
   "outputs": [],
   "source": [
    "%matplotlib inline\n",
    "import numpy as np\n",
    "import matplotlib.pyplot as plt\n",
    "import pandas as pd"
   ]
  },
  {
   "cell_type": "markdown",
   "id": "ba036198",
   "metadata": {
    "papermill": {
     "duration": 0.023853,
     "end_time": "2022-09-05T20:11:09.118774",
     "exception": false,
     "start_time": "2022-09-05T20:11:09.094921",
     "status": "completed"
    },
    "tags": []
   },
   "source": [
    "From the command line run `pip install mnist`. This is a library that will help you bring down the mnist dataset. If you run this from a notebook, you need to put  `!pip install mnist` in a cell by itself."
   ]
  },
  {
   "cell_type": "code",
   "execution_count": 3,
   "id": "bb6ad8a1",
   "metadata": {
    "execution": {
     "iopub.execute_input": "2022-09-05T20:11:09.170639Z",
     "iopub.status.busy": "2022-09-05T20:11:09.170062Z",
     "iopub.status.idle": "2022-09-05T20:11:11.632830Z",
     "shell.execute_reply": "2022-09-05T20:11:11.631881Z"
    },
    "papermill": {
     "duration": 2.490236,
     "end_time": "2022-09-05T20:11:11.632975",
     "exception": false,
     "start_time": "2022-09-05T20:11:09.142739",
     "status": "completed"
    },
    "tags": []
   },
   "outputs": [
    {
     "name": "stdout",
     "output_type": "stream",
     "text": [
      "Collecting mnist\r\n"
     ]
    },
    {
     "name": "stdout",
     "output_type": "stream",
     "text": [
      "  Downloading mnist-0.2.2-py2.py3-none-any.whl (3.5 kB)\r\n",
      "Requirement already satisfied: numpy in /opt/hostedtoolcache/Python/3.6.15/x64/lib/python3.6/site-packages (from mnist) (1.19.5)\r\n"
     ]
    },
    {
     "name": "stdout",
     "output_type": "stream",
     "text": [
      "Installing collected packages: mnist\r\n"
     ]
    },
    {
     "name": "stdout",
     "output_type": "stream",
     "text": [
      "Successfully installed mnist-0.2.2\r\n"
     ]
    }
   ],
   "source": [
    "!pip install mnist"
   ]
  },
  {
   "cell_type": "markdown",
   "id": "69df9c9a",
   "metadata": {
    "papermill": {
     "duration": 0.024838,
     "end_time": "2022-09-05T20:11:11.683228",
     "exception": false,
     "start_time": "2022-09-05T20:11:11.658390",
     "status": "completed"
    },
    "tags": []
   },
   "source": [
    "## Preparing the Data"
   ]
  },
  {
   "cell_type": "code",
   "execution_count": 4,
   "id": "7f69d806",
   "metadata": {
    "execution": {
     "iopub.execute_input": "2022-09-05T20:11:11.744429Z",
     "iopub.status.busy": "2022-09-05T20:11:11.736406Z",
     "iopub.status.idle": "2022-09-05T20:11:11.752853Z",
     "shell.execute_reply": "2022-09-05T20:11:11.752370Z"
    },
    "papermill": {
     "duration": 0.044581,
     "end_time": "2022-09-05T20:11:11.752955",
     "exception": false,
     "start_time": "2022-09-05T20:11:11.708374",
     "status": "completed"
    },
    "tags": []
   },
   "outputs": [],
   "source": [
    "import mnist"
   ]
  },
  {
   "cell_type": "code",
   "execution_count": 5,
   "id": "a411e44f",
   "metadata": {
    "execution": {
     "iopub.execute_input": "2022-09-05T20:11:11.810736Z",
     "iopub.status.busy": "2022-09-05T20:11:11.805283Z",
     "iopub.status.idle": "2022-09-05T20:11:12.350597Z",
     "shell.execute_reply": "2022-09-05T20:11:12.350027Z"
    },
    "papermill": {
     "duration": 0.572902,
     "end_time": "2022-09-05T20:11:12.350736",
     "exception": false,
     "start_time": "2022-09-05T20:11:11.777834",
     "status": "completed"
    },
    "tags": []
   },
   "outputs": [],
   "source": [
    "train_images = mnist.train_images()\n",
    "train_labels = mnist.train_labels()"
   ]
  },
  {
   "cell_type": "code",
   "execution_count": 6,
   "id": "dceab3a5",
   "metadata": {
    "execution": {
     "iopub.execute_input": "2022-09-05T20:11:12.407215Z",
     "iopub.status.busy": "2022-09-05T20:11:12.406535Z",
     "iopub.status.idle": "2022-09-05T20:11:12.420324Z",
     "shell.execute_reply": "2022-09-05T20:11:12.419830Z"
    },
    "papermill": {
     "duration": 0.043413,
     "end_time": "2022-09-05T20:11:12.420429",
     "exception": false,
     "start_time": "2022-09-05T20:11:12.377016",
     "status": "completed"
    },
    "tags": []
   },
   "outputs": [
    {
     "data": {
      "text/plain": [
       "((60000, 28, 28), (60000,))"
      ]
     },
     "execution_count": 6,
     "metadata": {},
     "output_type": "execute_result"
    }
   ],
   "source": [
    "train_images.shape, train_labels.shape"
   ]
  },
  {
   "cell_type": "code",
   "execution_count": 7,
   "id": "f50dc2bb",
   "metadata": {
    "execution": {
     "iopub.execute_input": "2022-09-05T20:11:12.473993Z",
     "iopub.status.busy": "2022-09-05T20:11:12.473422Z",
     "iopub.status.idle": "2022-09-05T20:11:12.657382Z",
     "shell.execute_reply": "2022-09-05T20:11:12.656676Z"
    },
    "papermill": {
     "duration": 0.211949,
     "end_time": "2022-09-05T20:11:12.657509",
     "exception": false,
     "start_time": "2022-09-05T20:11:12.445560",
     "status": "completed"
    },
    "tags": []
   },
   "outputs": [],
   "source": [
    "test_images = mnist.test_images()\n",
    "test_labels = mnist.test_labels()"
   ]
  },
  {
   "cell_type": "code",
   "execution_count": 8,
   "id": "fc38cf1b",
   "metadata": {
    "execution": {
     "iopub.execute_input": "2022-09-05T20:11:12.712394Z",
     "iopub.status.busy": "2022-09-05T20:11:12.711778Z",
     "iopub.status.idle": "2022-09-05T20:11:12.725274Z",
     "shell.execute_reply": "2022-09-05T20:11:12.724708Z"
    },
    "papermill": {
     "duration": 0.041833,
     "end_time": "2022-09-05T20:11:12.725378",
     "exception": false,
     "start_time": "2022-09-05T20:11:12.683545",
     "status": "completed"
    },
    "tags": []
   },
   "outputs": [
    {
     "data": {
      "text/plain": [
       "((10000, 28, 28), (10000,))"
      ]
     },
     "execution_count": 8,
     "metadata": {},
     "output_type": "execute_result"
    }
   ],
   "source": [
    "test_images.shape, test_labels.shape"
   ]
  },
  {
   "cell_type": "code",
   "execution_count": 9,
   "id": "f9ed8fe0",
   "metadata": {
    "execution": {
     "iopub.execute_input": "2022-09-05T20:11:12.779612Z",
     "iopub.status.busy": "2022-09-05T20:11:12.779038Z",
     "iopub.status.idle": "2022-09-05T20:11:12.914999Z",
     "shell.execute_reply": "2022-09-05T20:11:12.915511Z"
    },
    "papermill": {
     "duration": 0.164835,
     "end_time": "2022-09-05T20:11:12.915641",
     "exception": false,
     "start_time": "2022-09-05T20:11:12.750806",
     "status": "completed"
    },
    "tags": []
   },
   "outputs": [
    {
     "name": "stdout",
     "output_type": "stream",
     "text": [
      "2\n"
     ]
    },
    {
     "data": {
      "text/plain": [
       "<matplotlib.image.AxesImage at 0x7f875d6edcc0>"
      ]
     },
     "execution_count": 9,
     "metadata": {},
     "output_type": "execute_result"
    },
    {
     "data": {
      "image/png": "[encoded data removed]",
      "text/plain": [
       "<Figure size 432x288 with 1 Axes>"
      ]
     },
     "metadata": {
      "needs_background": "light"
     },
     "output_type": "display_data"
    }
   ],
   "source": [
    "image_index = 7776 # You may select anything up to 60,000\n",
    "print(train_labels[image_index]) \n",
    "plt.imshow(train_images[image_index], cmap='Greys')"
   ]
  },
  {
   "cell_type": "markdown",
   "id": "a8d2388d",
   "metadata": {
    "papermill": {
     "duration": 0.026431,
     "end_time": "2022-09-05T20:11:12.968610",
     "exception": false,
     "start_time": "2022-09-05T20:11:12.942179",
     "status": "completed"
    },
    "tags": []
   },
   "source": [
    "## Filter data to get 3 and 8 out"
   ]
  },
  {
   "cell_type": "code",
   "execution_count": 10,
   "id": "776f7fc7",
   "metadata": {
    "execution": {
     "iopub.execute_input": "2022-09-05T20:11:13.027887Z",
     "iopub.status.busy": "2022-09-05T20:11:13.027304Z",
     "iopub.status.idle": "2022-09-05T20:11:13.043831Z",
     "shell.execute_reply": "2022-09-05T20:11:13.043362Z"
    },
    "papermill": {
     "duration": 0.04875,
     "end_time": "2022-09-05T20:11:13.043933",
     "exception": false,
     "start_time": "2022-09-05T20:11:12.995183",
     "status": "completed"
    },
    "tags": []
   },
   "outputs": [],
   "source": [
    "train_filter = np.where((train_labels == 3 ) | (train_labels == 8))\n",
    "test_filter = np.where((test_labels == 3) | (test_labels == 8))\n",
    "X_train, y_train = train_images[train_filter], train_labels[train_filter]\n",
    "X_test, y_test = test_images[test_filter], test_labels[test_filter]"
   ]
  },
  {
   "cell_type": "markdown",
   "id": "948f0b7e",
   "metadata": {
    "papermill": {
     "duration": 0.026401,
     "end_time": "2022-09-05T20:11:13.096919",
     "exception": false,
     "start_time": "2022-09-05T20:11:13.070518",
     "status": "completed"
    },
    "tags": []
   },
   "source": [
    "We normalize the pizel values in the 0 to 1 range"
   ]
  },
  {
   "cell_type": "code",
   "execution_count": 11,
   "id": "ee4c2166",
   "metadata": {
    "execution": {
     "iopub.execute_input": "2022-09-05T20:11:13.152996Z",
     "iopub.status.busy": "2022-09-05T20:11:13.152417Z",
     "iopub.status.idle": "2022-09-05T20:11:13.201380Z",
     "shell.execute_reply": "2022-09-05T20:11:13.201834Z"
    },
    "papermill": {
     "duration": 0.078668,
     "end_time": "2022-09-05T20:11:13.201977",
     "exception": false,
     "start_time": "2022-09-05T20:11:13.123309",
     "status": "completed"
    },
    "tags": []
   },
   "outputs": [],
   "source": [
    "X_train = X_train/255.\n",
    "X_test = X_test/255."
   ]
  },
  {
   "cell_type": "markdown",
   "id": "ddcf4fab",
   "metadata": {
    "papermill": {
     "duration": 0.026572,
     "end_time": "2022-09-05T20:11:13.255584",
     "exception": false,
     "start_time": "2022-09-05T20:11:13.229012",
     "status": "completed"
    },
    "tags": []
   },
   "source": [
    "And setup the labels as 1 (when the digit is 3) and 0 (when the digit is 8)"
   ]
  },
  {
   "cell_type": "code",
   "execution_count": 12,
   "id": "7dc908f2",
   "metadata": {
    "execution": {
     "iopub.execute_input": "2022-09-05T20:11:13.312469Z",
     "iopub.status.busy": "2022-09-05T20:11:13.311856Z",
     "iopub.status.idle": "2022-09-05T20:11:13.324516Z",
     "shell.execute_reply": "2022-09-05T20:11:13.324016Z"
    },
    "papermill": {
     "duration": 0.042468,
     "end_time": "2022-09-05T20:11:13.324623",
     "exception": false,
     "start_time": "2022-09-05T20:11:13.282155",
     "status": "completed"
    },
    "tags": []
   },
   "outputs": [],
   "source": [
    "y_train = 1*(y_train==3)\n",
    "y_test = 1*(y_test==3)"
   ]
  },
  {
   "cell_type": "code",
   "execution_count": 13,
   "id": "01e4e969",
   "metadata": {
    "execution": {
     "iopub.execute_input": "2022-09-05T20:11:13.380786Z",
     "iopub.status.busy": "2022-09-05T20:11:13.380174Z",
     "iopub.status.idle": "2022-09-05T20:11:13.393638Z",
     "shell.execute_reply": "2022-09-05T20:11:13.393171Z"
    },
    "papermill": {
     "duration": 0.042669,
     "end_time": "2022-09-05T20:11:13.393736",
     "exception": false,
     "start_time": "2022-09-05T20:11:13.351067",
     "status": "completed"
    },
    "tags": []
   },
   "outputs": [
    {
     "data": {
      "text/plain": [
       "((11982, 28, 28), (1984, 28, 28))"
      ]
     },
     "execution_count": 13,
     "metadata": {},
     "output_type": "execute_result"
    }
   ],
   "source": [
    "X_train.shape, X_test.shape"
   ]
  },
  {
   "cell_type": "markdown",
   "id": "5ccf3f85",
   "metadata": {
    "papermill": {
     "duration": 0.026632,
     "end_time": "2022-09-05T20:11:13.447021",
     "exception": false,
     "start_time": "2022-09-05T20:11:13.420389",
     "status": "completed"
    },
    "tags": []
   },
   "source": [
    "We reshape the data to flatten the image pixels into a set of features or co-variates:"
   ]
  },
  {
   "cell_type": "code",
   "execution_count": 14,
   "id": "5286a4a3",
   "metadata": {
    "execution": {
     "iopub.execute_input": "2022-09-05T20:11:13.504889Z",
     "iopub.status.busy": "2022-09-05T20:11:13.504280Z",
     "iopub.status.idle": "2022-09-05T20:11:13.518098Z",
     "shell.execute_reply": "2022-09-05T20:11:13.518571Z"
    },
    "papermill": {
     "duration": 0.044713,
     "end_time": "2022-09-05T20:11:13.518689",
     "exception": false,
     "start_time": "2022-09-05T20:11:13.473976",
     "status": "completed"
    },
    "tags": []
   },
   "outputs": [
    {
     "data": {
      "text/plain": [
       "((11982, 784), (1984, 784))"
      ]
     },
     "execution_count": 14,
     "metadata": {},
     "output_type": "execute_result"
    }
   ],
   "source": [
    "X_train = X_train.reshape(X_train.shape[0], -1)\n",
    "X_test = X_test.reshape(X_test.shape[0], -1)\n",
    "X_train.shape, X_test.shape"
   ]
  },
  {
   "cell_type": "code",
   "execution_count": 15,
   "id": "73c5f88a",
   "metadata": {
    "execution": {
     "iopub.execute_input": "2022-09-05T20:11:13.585121Z",
     "iopub.status.busy": "2022-09-05T20:11:13.582850Z",
     "iopub.status.idle": "2022-09-05T20:11:13.597913Z",
     "shell.execute_reply": "2022-09-05T20:11:13.597447Z"
    },
    "papermill": {
     "duration": 0.05225,
     "end_time": "2022-09-05T20:11:13.598011",
     "exception": false,
     "start_time": "2022-09-05T20:11:13.545761",
     "status": "completed"
    },
    "tags": []
   },
   "outputs": [],
   "source": [
    "#Impoting functions from 'Kudzu'\n",
    "from kudzu.model import Model\n",
    "from kudzu.train import Learner\n",
    "from kudzu.optim import GD\n",
    "from kudzu.data import Data, Sampler,Dataloader\n",
    "\n",
    "from kudzu.callbacks import AccCallback\n",
    "from kudzu.callbacks import ClfCallback\n",
    "\n",
    "from kudzu.loss import MSE\n",
    "\n",
    "from kudzu.layer import Sigmoid,Relu\n",
    "from kudzu.layer import Affine"
   ]
  },
  {
   "cell_type": "markdown",
   "id": "bc01172a",
   "metadata": {
    "papermill": {
     "duration": 0.026835,
     "end_time": "2022-09-05T20:11:13.651815",
     "exception": false,
     "start_time": "2022-09-05T20:11:13.624980",
     "status": "completed"
    },
    "tags": []
   },
   "source": [
    "### Let us create a `Config` class, to store important parameters. \n",
    "This class essentially plays the role of a dictionary."
   ]
  },
  {
   "cell_type": "code",
   "execution_count": 16,
   "id": "978281aa",
   "metadata": {
    "execution": {
     "iopub.execute_input": "2022-09-05T20:11:13.709326Z",
     "iopub.status.busy": "2022-09-05T20:11:13.708745Z",
     "iopub.status.idle": "2022-09-05T20:11:13.720680Z",
     "shell.execute_reply": "2022-09-05T20:11:13.721236Z"
    },
    "papermill": {
     "duration": 0.042694,
     "end_time": "2022-09-05T20:11:13.721346",
     "exception": false,
     "start_time": "2022-09-05T20:11:13.678652",
     "status": "completed"
    },
    "tags": []
   },
   "outputs": [],
   "source": [
    "class Config:\n",
    "    pass\n",
    "config = Config()\n",
    "config.lr = 0.001\n",
    "config.num_epochs = 250\n",
    "config.bs = 50"
   ]
  },
  {
   "cell_type": "markdown",
   "id": "1385fa59",
   "metadata": {
    "papermill": {
     "duration": 0.026791,
     "end_time": "2022-09-05T20:11:13.775277",
     "exception": false,
     "start_time": "2022-09-05T20:11:13.748486",
     "status": "completed"
    },
    "tags": []
   },
   "source": [
    "### Running Models with the Training data\n",
    "Details about the network layers:\n",
    "- A first affine layer has 784 inputs and does 100 affine transforms. These are followed by a Relu\n",
    "- A second affine layer has 100 inputs from the 100 activations of the past layer, and does 100 affine transforms. These are followed by a Relu\n",
    "- A third affine layer has 100 activations and does 2 affine transformations to create an embedding for visualization. There is no non-linearity here.\n",
    "- A final \"logistic regression\" which has an affine transform from 2 inputs to 1 output, which is squeezed through a sigmoid.\n"
   ]
  },
  {
   "cell_type": "code",
   "execution_count": 17,
   "id": "2b9c66db",
   "metadata": {
    "execution": {
     "iopub.execute_input": "2022-09-05T20:11:13.832865Z",
     "iopub.status.busy": "2022-09-05T20:11:13.832275Z",
     "iopub.status.idle": "2022-09-05T20:11:13.845404Z",
     "shell.execute_reply": "2022-09-05T20:11:13.844844Z"
    },
    "papermill": {
     "duration": 0.043215,
     "end_time": "2022-09-05T20:11:13.845501",
     "exception": false,
     "start_time": "2022-09-05T20:11:13.802286",
     "status": "completed"
    },
    "tags": []
   },
   "outputs": [],
   "source": [
    "data = Data(X_train, y_train.reshape(-1,1))\n",
    "sampler = Sampler(data, config.bs, shuffle=True)\n",
    "\n",
    "dl = Dataloader(data, sampler)\n",
    "\n",
    "opt = GD(config.lr)\n",
    "loss = MSE()"
   ]
  },
  {
   "cell_type": "code",
   "execution_count": 18,
   "id": "b275e4c2",
   "metadata": {
    "execution": {
     "iopub.execute_input": "2022-09-05T20:11:13.914319Z",
     "iopub.status.busy": "2022-09-05T20:11:13.913091Z",
     "iopub.status.idle": "2022-09-05T20:11:13.917838Z",
     "shell.execute_reply": "2022-09-05T20:11:13.917372Z"
    },
    "papermill": {
     "duration": 0.045499,
     "end_time": "2022-09-05T20:11:13.917935",
     "exception": false,
     "start_time": "2022-09-05T20:11:13.872436",
     "status": "completed"
    },
    "tags": []
   },
   "outputs": [],
   "source": [
    "training_data_x = X_train\n",
    "testing_data_x = X_test\n",
    "training_data_y = y_train.reshape(-1,1)\n",
    "testing_data_y = y_test.reshape(-1,1)"
   ]
  },
  {
   "cell_type": "code",
   "execution_count": 19,
   "id": "76951160",
   "metadata": {
    "execution": {
     "iopub.execute_input": "2022-09-05T20:11:13.977046Z",
     "iopub.status.busy": "2022-09-05T20:11:13.975086Z",
     "iopub.status.idle": "2022-09-05T20:11:13.993401Z",
     "shell.execute_reply": "2022-09-05T20:11:13.992603Z"
    },
    "papermill": {
     "duration": 0.048681,
     "end_time": "2022-09-05T20:11:13.993502",
     "exception": false,
     "start_time": "2022-09-05T20:11:13.944821",
     "status": "completed"
    },
    "tags": []
   },
   "outputs": [
    {
     "name": "stdout",
     "output_type": "stream",
     "text": [
      "xavier\n",
      "xavier\n",
      "xavier\n",
      "xavier\n",
      "xavier\n"
     ]
    }
   ],
   "source": [
    "layers = [Affine(\"first\", 784, 100), Relu(\"first\"), Affine(\"second\", 100, 100), Relu(\"second\"), Affine(\"third\", 100, 2), Affine(\"last\", 2, 1), Sigmoid(\"last\")]\n",
    "model_nn = Model(layers)\n",
    "model_lr = Model([Affine(\"logits\", 784, 1), Sigmoid(\"sigmoid\")])"
   ]
  },
  {
   "cell_type": "code",
   "execution_count": 20,
   "id": "6eede77a",
   "metadata": {
    "execution": {
     "iopub.execute_input": "2022-09-05T20:11:14.055023Z",
     "iopub.status.busy": "2022-09-05T20:11:14.050974Z",
     "iopub.status.idle": "2022-09-05T20:11:14.063937Z",
     "shell.execute_reply": "2022-09-05T20:11:14.063149Z"
    },
    "papermill": {
     "duration": 0.043257,
     "end_time": "2022-09-05T20:11:14.064039",
     "exception": false,
     "start_time": "2022-09-05T20:11:14.020782",
     "status": "completed"
    },
    "tags": []
   },
   "outputs": [],
   "source": [
    "nn_learner = Learner(loss, model_nn, opt, config.num_epochs)\n",
    "acc_nn = ClfCallback(nn_learner, config.bs, training_data_x , testing_data_x, training_data_y, testing_data_y)\n",
    "nn_learner.set_callbacks([acc_nn])"
   ]
  },
  {
   "cell_type": "code",
   "execution_count": 21,
   "id": "877b6cc7",
   "metadata": {
    "execution": {
     "iopub.execute_input": "2022-09-05T20:11:14.125047Z",
     "iopub.status.busy": "2022-09-05T20:11:14.121532Z",
     "iopub.status.idle": "2022-09-05T20:11:14.133119Z",
     "shell.execute_reply": "2022-09-05T20:11:14.133540Z"
    },
    "papermill": {
     "duration": 0.042344,
     "end_time": "2022-09-05T20:11:14.133652",
     "exception": false,
     "start_time": "2022-09-05T20:11:14.091308",
     "status": "completed"
    },
    "tags": []
   },
   "outputs": [],
   "source": [
    "lr_learner = Learner(loss, model_lr, opt, config.num_epochs)\n",
    "acc_lr = ClfCallback(lr_learner, config.bs, training_data_x , testing_data_x, training_data_y, testing_data_y)\n",
    "lr_learner.set_callbacks([acc_lr])"
   ]
  },
  {
   "cell_type": "code",
   "execution_count": 22,
   "id": "d9b133c3",
   "metadata": {
    "execution": {
     "iopub.execute_input": "2022-09-05T20:11:14.195778Z",
     "iopub.status.busy": "2022-09-05T20:11:14.190817Z",
     "iopub.status.idle": "2022-09-05T20:12:28.279370Z",
     "shell.execute_reply": "2022-09-05T20:12:28.280407Z"
    },
    "papermill": {
     "duration": 74.119579,
     "end_time": "2022-09-05T20:12:28.280555",
     "exception": false,
     "start_time": "2022-09-05T20:11:14.160976",
     "status": "completed"
    },
    "tags": []
   },
   "outputs": [
    {
     "name": "stdout",
     "output_type": "stream",
     "text": [
      "Epoch 0, Loss 0.2264\n",
      "Training Accuracy: 0.7615, Testing Accuracy: 0.7626\n",
      "\n"
     ]
    },
    {
     "name": "stdout",
     "output_type": "stream",
     "text": [
      "Epoch 10, Loss 0.0675\n",
      "Training Accuracy: 0.9330, Testing Accuracy: 0.9430\n",
      "\n"
     ]
    },
    {
     "name": "stdout",
     "output_type": "stream",
     "text": [
      "Epoch 20, Loss 0.0461\n",
      "Training Accuracy: 0.9502, Testing Accuracy: 0.9582\n",
      "\n"
     ]
    },
    {
     "name": "stdout",
     "output_type": "stream",
     "text": [
      "Epoch 30, Loss 0.0379\n",
      "Training Accuracy: 0.9582, Testing Accuracy: 0.9627\n",
      "\n"
     ]
    },
    {
     "name": "stdout",
     "output_type": "stream",
     "text": [
      "Epoch 40, Loss 0.0336\n",
      "Training Accuracy: 0.9619, Testing Accuracy: 0.9657\n",
      "\n"
     ]
    },
    {
     "name": "stdout",
     "output_type": "stream",
     "text": [
      "Epoch 50, Loss 0.0308\n",
      "Training Accuracy: 0.9648, Testing Accuracy: 0.9667\n",
      "\n"
     ]
    },
    {
     "name": "stdout",
     "output_type": "stream",
     "text": [
      "Epoch 60, Loss 0.0288\n",
      "Training Accuracy: 0.9670, Testing Accuracy: 0.9672\n",
      "\n"
     ]
    },
    {
     "name": "stdout",
     "output_type": "stream",
     "text": [
      "Epoch 70, Loss 0.0273\n",
      "Training Accuracy: 0.9686, Testing Accuracy: 0.9672\n",
      "\n"
     ]
    },
    {
     "name": "stdout",
     "output_type": "stream",
     "text": [
      "Epoch 80, Loss 0.0261\n",
      "Training Accuracy: 0.9706, Testing Accuracy: 0.9672\n",
      "\n"
     ]
    },
    {
     "name": "stdout",
     "output_type": "stream",
     "text": [
      "Epoch 90, Loss 0.025\n",
      "Training Accuracy: 0.9715, Testing Accuracy: 0.9688\n",
      "\n"
     ]
    },
    {
     "name": "stdout",
     "output_type": "stream",
     "text": [
      "Epoch 100, Loss 0.0241\n",
      "Training Accuracy: 0.9727, Testing Accuracy: 0.9688\n",
      "\n"
     ]
    },
    {
     "name": "stdout",
     "output_type": "stream",
     "text": [
      "Epoch 110, Loss 0.0233\n",
      "Training Accuracy: 0.9740, Testing Accuracy: 0.9693\n",
      "\n"
     ]
    },
    {
     "name": "stdout",
     "output_type": "stream",
     "text": [
      "Epoch 120, Loss 0.0226\n",
      "Training Accuracy: 0.9745, Testing Accuracy: 0.9698\n",
      "\n"
     ]
    },
    {
     "name": "stdout",
     "output_type": "stream",
     "text": [
      "Epoch 130, Loss 0.022\n",
      "Training Accuracy: 0.9755, Testing Accuracy: 0.9703\n",
      "\n"
     ]
    },
    {
     "name": "stdout",
     "output_type": "stream",
     "text": [
      "Epoch 140, Loss 0.0214\n",
      "Training Accuracy: 0.9763, Testing Accuracy: 0.9713\n",
      "\n"
     ]
    },
    {
     "name": "stdout",
     "output_type": "stream",
     "text": [
      "Epoch 150, Loss 0.0209\n",
      "Training Accuracy: 0.9769, Testing Accuracy: 0.9713\n",
      "\n"
     ]
    },
    {
     "name": "stdout",
     "output_type": "stream",
     "text": [
      "Epoch 160, Loss 0.0204\n",
      "Training Accuracy: 0.9774, Testing Accuracy: 0.9718\n",
      "\n"
     ]
    },
    {
     "name": "stdout",
     "output_type": "stream",
     "text": [
      "Epoch 170, Loss 0.0199\n",
      "Training Accuracy: 0.9781, Testing Accuracy: 0.9718\n",
      "\n"
     ]
    },
    {
     "name": "stdout",
     "output_type": "stream",
     "text": [
      "Epoch 180, Loss 0.0195\n",
      "Training Accuracy: 0.9788, Testing Accuracy: 0.9723\n",
      "\n"
     ]
    },
    {
     "name": "stdout",
     "output_type": "stream",
     "text": [
      "Epoch 190, Loss 0.0191\n",
      "Training Accuracy: 0.9795, Testing Accuracy: 0.9733\n",
      "\n"
     ]
    },
    {
     "name": "stdout",
     "output_type": "stream",
     "text": [
      "Epoch 200, Loss 0.0187\n",
      "Training Accuracy: 0.9801, Testing Accuracy: 0.9738\n",
      "\n"
     ]
    },
    {
     "name": "stdout",
     "output_type": "stream",
     "text": [
      "Epoch 210, Loss 0.0183\n",
      "Training Accuracy: 0.9801, Testing Accuracy: 0.9743\n",
      "\n"
     ]
    },
    {
     "name": "stdout",
     "output_type": "stream",
     "text": [
      "Epoch 220, Loss 0.0179\n",
      "Training Accuracy: 0.9803, Testing Accuracy: 0.9753\n",
      "\n"
     ]
    },
    {
     "name": "stdout",
     "output_type": "stream",
     "text": [
      "Epoch 230, Loss 0.0175\n",
      "Training Accuracy: 0.9806, Testing Accuracy: 0.9763\n",
      "\n"
     ]
    },
    {
     "name": "stdout",
     "output_type": "stream",
     "text": [
      "Epoch 240, Loss 0.0172\n",
      "Training Accuracy: 0.9811, Testing Accuracy: 0.9763\n",
      "\n"
     ]
    },
    {
     "data": {
      "text/plain": [
       "0.03406573916357529"
      ]
     },
     "execution_count": 22,
     "metadata": {},
     "output_type": "execute_result"
    }
   ],
   "source": [
    "nn_learner.train_loop(dl)"
   ]
  },
  {
   "cell_type": "code",
   "execution_count": 23,
   "id": "e0163366",
   "metadata": {
    "execution": {
     "iopub.execute_input": "2022-09-05T20:12:28.365691Z",
     "iopub.status.busy": "2022-09-05T20:12:28.365103Z",
     "iopub.status.idle": "2022-09-05T20:12:41.271676Z",
     "shell.execute_reply": "2022-09-05T20:12:41.272564Z"
    },
    "papermill": {
     "duration": 12.953053,
     "end_time": "2022-09-05T20:12:41.272716",
     "exception": false,
     "start_time": "2022-09-05T20:12:28.319663",
     "status": "completed"
    },
    "tags": []
   },
   "outputs": [
    {
     "name": "stdout",
     "output_type": "stream",
     "text": [
      "Epoch 0, Loss 0.2291\n",
      "Training Accuracy: 0.7096, Testing Accuracy: 0.7127\n",
      "\n"
     ]
    },
    {
     "name": "stdout",
     "output_type": "stream",
     "text": [
      "Epoch 10, Loss 0.1041\n",
      "Training Accuracy: 0.9044, Testing Accuracy: 0.9158\n",
      "\n"
     ]
    },
    {
     "name": "stdout",
     "output_type": "stream",
     "text": [
      "Epoch 20, Loss 0.0797\n",
      "Training Accuracy: 0.9257, Testing Accuracy: 0.9385\n",
      "\n"
     ]
    },
    {
     "name": "stdout",
     "output_type": "stream",
     "text": [
      "Epoch 30, Loss 0.0684\n",
      "Training Accuracy: 0.9353, Testing Accuracy: 0.9471\n",
      "\n"
     ]
    },
    {
     "name": "stdout",
     "output_type": "stream",
     "text": [
      "Epoch 40, Loss 0.0617\n",
      "Training Accuracy: 0.9417, Testing Accuracy: 0.9536\n",
      "\n"
     ]
    },
    {
     "name": "stdout",
     "output_type": "stream",
     "text": [
      "Epoch 50, Loss 0.0571\n",
      "Training Accuracy: 0.9452, Testing Accuracy: 0.9567\n",
      "\n"
     ]
    },
    {
     "name": "stdout",
     "output_type": "stream",
     "text": [
      "Epoch 60, Loss 0.0538\n",
      "Training Accuracy: 0.9476, Testing Accuracy: 0.9587\n",
      "\n"
     ]
    },
    {
     "name": "stdout",
     "output_type": "stream",
     "text": [
      "Epoch 70, Loss 0.0512\n",
      "Training Accuracy: 0.9495, Testing Accuracy: 0.9607\n",
      "\n"
     ]
    },
    {
     "name": "stdout",
     "output_type": "stream",
     "text": [
      "Epoch 80, Loss 0.0491\n",
      "Training Accuracy: 0.9507, Testing Accuracy: 0.9617\n",
      "\n"
     ]
    },
    {
     "name": "stdout",
     "output_type": "stream",
     "text": [
      "Epoch 90, Loss 0.0475\n",
      "Training Accuracy: 0.9523, Testing Accuracy: 0.9622\n",
      "\n"
     ]
    },
    {
     "name": "stdout",
     "output_type": "stream",
     "text": [
      "Epoch 100, Loss 0.046\n",
      "Training Accuracy: 0.9534, Testing Accuracy: 0.9637\n",
      "\n"
     ]
    },
    {
     "name": "stdout",
     "output_type": "stream",
     "text": [
      "Epoch 110, Loss 0.0448\n",
      "Training Accuracy: 0.9539, Testing Accuracy: 0.9642\n",
      "\n"
     ]
    },
    {
     "name": "stdout",
     "output_type": "stream",
     "text": [
      "Epoch 120, Loss 0.0438\n",
      "Training Accuracy: 0.9552, Testing Accuracy: 0.9647\n",
      "\n"
     ]
    },
    {
     "name": "stdout",
     "output_type": "stream",
     "text": [
      "Epoch 130, Loss 0.0428\n",
      "Training Accuracy: 0.9558, Testing Accuracy: 0.9652\n",
      "\n"
     ]
    },
    {
     "name": "stdout",
     "output_type": "stream",
     "text": [
      "Epoch 140, Loss 0.042\n",
      "Training Accuracy: 0.9561, Testing Accuracy: 0.9652\n",
      "\n"
     ]
    },
    {
     "name": "stdout",
     "output_type": "stream",
     "text": [
      "Epoch 150, Loss 0.0412\n",
      "Training Accuracy: 0.9569, Testing Accuracy: 0.9647\n",
      "\n"
     ]
    },
    {
     "name": "stdout",
     "output_type": "stream",
     "text": [
      "Epoch 160, Loss 0.0406\n",
      "Training Accuracy: 0.9578, Testing Accuracy: 0.9652\n",
      "\n"
     ]
    },
    {
     "name": "stdout",
     "output_type": "stream",
     "text": [
      "Epoch 170, Loss 0.04\n",
      "Training Accuracy: 0.9583, Testing Accuracy: 0.9652\n",
      "\n"
     ]
    },
    {
     "name": "stdout",
     "output_type": "stream",
     "text": [
      "Epoch 180, Loss 0.0394\n",
      "Training Accuracy: 0.9588, Testing Accuracy: 0.9652\n",
      "\n"
     ]
    },
    {
     "name": "stdout",
     "output_type": "stream",
     "text": [
      "Epoch 190, Loss 0.0389\n",
      "Training Accuracy: 0.9593, Testing Accuracy: 0.9647\n",
      "\n"
     ]
    },
    {
     "name": "stdout",
     "output_type": "stream",
     "text": [
      "Epoch 200, Loss 0.0384\n",
      "Training Accuracy: 0.9597, Testing Accuracy: 0.9642\n",
      "\n"
     ]
    },
    {
     "name": "stdout",
     "output_type": "stream",
     "text": [
      "Epoch 210, Loss 0.038\n",
      "Training Accuracy: 0.9600, Testing Accuracy: 0.9647\n",
      "\n"
     ]
    },
    {
     "name": "stdout",
     "output_type": "stream",
     "text": [
      "Epoch 220, Loss 0.0376\n",
      "Training Accuracy: 0.9604, Testing Accuracy: 0.9652\n",
      "\n"
     ]
    },
    {
     "name": "stdout",
     "output_type": "stream",
     "text": [
      "Epoch 230, Loss 0.0372\n",
      "Training Accuracy: 0.9604, Testing Accuracy: 0.9662\n",
      "\n"
     ]
    },
    {
     "name": "stdout",
     "output_type": "stream",
     "text": [
      "Epoch 240, Loss 0.0368\n",
      "Training Accuracy: 0.9608, Testing Accuracy: 0.9662\n",
      "\n"
     ]
    },
    {
     "data": {
      "text/plain": [
       "0.035126793180222986"
      ]
     },
     "execution_count": 23,
     "metadata": {},
     "output_type": "execute_result"
    }
   ],
   "source": [
    "lr_learner.train_loop(dl)"
   ]
  },
  {
   "cell_type": "code",
   "execution_count": 24,
   "id": "ca410940",
   "metadata": {
    "execution": {
     "iopub.execute_input": "2022-09-05T20:12:41.367104Z",
     "iopub.status.busy": "2022-09-05T20:12:41.365318Z",
     "iopub.status.idle": "2022-09-05T20:12:41.591429Z",
     "shell.execute_reply": "2022-09-05T20:12:41.590535Z"
    },
    "papermill": {
     "duration": 0.275578,
     "end_time": "2022-09-05T20:12:41.591558",
     "exception": false,
     "start_time": "2022-09-05T20:12:41.315980",
     "status": "completed"
    },
    "tags": []
   },
   "outputs": [
    {
     "data": {
      "text/plain": [
       "<matplotlib.legend.Legend at 0x7f875d25c2e8>"
      ]
     },
     "execution_count": 24,
     "metadata": {},
     "output_type": "execute_result"
    },
    {
     "data": {
      "image/png": "[encoded data removed]",
      "text/plain": [
       "<Figure size 1080x720 with 1 Axes>"
      ]
     },
     "metadata": {
      "needs_background": "light"
     },
     "output_type": "display_data"
    }
   ],
   "source": [
    "#comparing the results of NN and LR\n",
    "plt.figure(figsize=(15,10))\n",
    "\n",
    "# Neural Network plots\n",
    "plt.plot(acc_nn.accuracies, 'r-', label = \"Training Accuracies - NN\")\n",
    "plt.plot(acc_nn.test_accuracies, 'g-', label = \"Testing Accuracies - NN\")\n",
    "\n",
    "# Logistic Regression plots\n",
    "plt.plot(acc_lr.accuracies, 'k-', label = \"Training Accuracies - LR\")\n",
    "plt.plot(acc_lr.test_accuracies, 'b-', label = \"Testing Accuracies - LR\")\n",
    "plt.legend()"
   ]
  },
  {
   "cell_type": "markdown",
   "id": "80dfb35c",
   "metadata": {
    "papermill": {
     "duration": 0.042315,
     "end_time": "2022-09-05T20:12:41.676916",
     "exception": false,
     "start_time": "2022-09-05T20:12:41.634601",
     "status": "completed"
    },
    "tags": []
   },
   "source": [
    "#### Plotting the outputs of this layer of the NN.\n"
   ]
  },
  {
   "cell_type": "code",
   "execution_count": 25,
   "id": "45eb2ff5",
   "metadata": {
    "execution": {
     "iopub.execute_input": "2022-09-05T20:12:41.765686Z",
     "iopub.status.busy": "2022-09-05T20:12:41.765098Z",
     "iopub.status.idle": "2022-09-05T20:12:41.784915Z",
     "shell.execute_reply": "2022-09-05T20:12:41.784432Z"
    },
    "papermill": {
     "duration": 0.065869,
     "end_time": "2022-09-05T20:12:41.785019",
     "exception": false,
     "start_time": "2022-09-05T20:12:41.719150",
     "status": "completed"
    },
    "tags": []
   },
   "outputs": [],
   "source": [
    "new_model = Model(layers[:-2])\n",
    "testing_plot = new_model(testing_data_x)"
   ]
  },
  {
   "cell_type": "code",
   "execution_count": 26,
   "id": "4c0a5485",
   "metadata": {
    "execution": {
     "iopub.execute_input": "2022-09-05T20:12:41.877608Z",
     "iopub.status.busy": "2022-09-05T20:12:41.877024Z",
     "iopub.status.idle": "2022-09-05T20:12:42.058894Z",
     "shell.execute_reply": "2022-09-05T20:12:42.059328Z"
    },
    "papermill": {
     "duration": 0.229091,
     "end_time": "2022-09-05T20:12:42.059463",
     "exception": false,
     "start_time": "2022-09-05T20:12:41.830372",
     "status": "completed"
    },
    "tags": []
   },
   "outputs": [
    {
     "data": {
      "text/plain": [
       "Text(0.5, 1.0, 'Outputs')"
      ]
     },
     "execution_count": 26,
     "metadata": {},
     "output_type": "execute_result"
    },
    {
     "data": {
      "image/png": "[encoded data removed]",
      "text/plain": [
       "<Figure size 576x504 with 1 Axes>"
      ]
     },
     "metadata": {
      "needs_background": "light"
     },
     "output_type": "display_data"
    }
   ],
   "source": [
    "# Plotting the scatter plot of points and color coding by class\n",
    "plt.figure(figsize=(8,7))\n",
    "plt.scatter(testing_plot[:,0], testing_plot[:,1], alpha = 0.1, c = y_test.ravel());\n",
    "plt.title('Outputs')"
   ]
  },
  {
   "cell_type": "markdown",
   "id": "a74fcf8f",
   "metadata": {
    "papermill": {
     "duration": 0.044299,
     "end_time": "2022-09-05T20:12:42.148532",
     "exception": false,
     "start_time": "2022-09-05T20:12:42.104233",
     "status": "completed"
    },
    "tags": []
   },
   "source": [
    "Probability contours"
   ]
  },
  {
   "cell_type": "code",
   "execution_count": 27,
   "id": "d0afc8e3",
   "metadata": {
    "execution": {
     "iopub.execute_input": "2022-09-05T20:12:42.267670Z",
     "iopub.status.busy": "2022-09-05T20:12:42.267090Z",
     "iopub.status.idle": "2022-09-05T20:12:42.279370Z",
     "shell.execute_reply": "2022-09-05T20:12:42.279846Z"
    },
    "papermill": {
     "duration": 0.086873,
     "end_time": "2022-09-05T20:12:42.279963",
     "exception": false,
     "start_time": "2022-09-05T20:12:42.193090",
     "status": "completed"
    },
    "tags": []
   },
   "outputs": [],
   "source": [
    "model_prob = Model(layers[-2:]) "
   ]
  },
  {
   "cell_type": "code",
   "execution_count": 28,
   "id": "9b96e238",
   "metadata": {
    "execution": {
     "iopub.execute_input": "2022-09-05T20:12:42.373600Z",
     "iopub.status.busy": "2022-09-05T20:12:42.372842Z",
     "iopub.status.idle": "2022-09-05T20:12:42.388078Z",
     "shell.execute_reply": "2022-09-05T20:12:42.388534Z"
    },
    "papermill": {
     "duration": 0.064246,
     "end_time": "2022-09-05T20:12:42.388659",
     "exception": false,
     "start_time": "2022-09-05T20:12:42.324413",
     "status": "completed"
    },
    "tags": []
   },
   "outputs": [],
   "source": [
    "#creating the x and y ranges according to the above generated plot.\n",
    "x_range = np.linspace(-4, 1, 100) \n",
    "y_range = np.linspace(-6, 6, 100) \n",
    "x_grid, y_grid = np.meshgrid(x_range, y_range) # x_grid and y_grig are of size 100 X 100\n",
    "\n",
    "# converting x_grid and y_grid to continuous arrays\n",
    "x_gridflat = np.ravel(x_grid)\n",
    "y_gridflat = np.ravel(y_grid)\n",
    "\n",
    "# The last layer of the current model takes two columns as input. Hence transpose of np.vstack() is required.\n",
    "X = np.vstack((x_gridflat, y_gridflat)).T\n",
    "\n",
    "prob_contour = model_prob(X).reshape(100,100) "
   ]
  },
  {
   "cell_type": "code",
   "execution_count": 29,
   "id": "da72499a",
   "metadata": {
    "execution": {
     "iopub.execute_input": "2022-09-05T20:12:42.493309Z",
     "iopub.status.busy": "2022-09-05T20:12:42.482309Z",
     "iopub.status.idle": "2022-09-05T20:12:42.721138Z",
     "shell.execute_reply": "2022-09-05T20:12:42.720643Z"
    },
    "papermill": {
     "duration": 0.288253,
     "end_time": "2022-09-05T20:12:42.721250",
     "exception": false,
     "start_time": "2022-09-05T20:12:42.432997",
     "status": "completed"
    },
    "tags": []
   },
   "outputs": [
    {
     "data": {
      "image/png": "[encoded data removed]",
      "text/plain": [
       "<Figure size 720x648 with 1 Axes>"
      ]
     },
     "metadata": {
      "needs_background": "light"
     },
     "output_type": "display_data"
    }
   ],
   "source": [
    "plt.figure(figsize=(10,9))\n",
    "plt.scatter(testing_plot[:,0], testing_plot[:,1], alpha = 0.1, c = y_test.ravel())\n",
    "contours = plt.contour(x_grid,y_grid,prob_contour)\n",
    "plt.title('Probability Contours')\n",
    "plt.clabel(contours, inline = True );"
   ]
  },
  {
   "cell_type": "code",
   "execution_count": null,
   "id": "e81b4ac7",
   "metadata": {
    "papermill": {
     "duration": 0.047202,
     "end_time": "2022-09-05T20:12:42.817501",
     "exception": false,
     "start_time": "2022-09-05T20:12:42.770299",
     "status": "completed"
    },
    "tags": []
   },
   "outputs": [],
   "source": []
  }
 ],
 "metadata": {
  "kernelspec": {
   "display_name": "Python 3",
   "language": "python",
   "name": "python3"
  },
  "language_info": {
   "codemirror_mode": {
    "name": "ipython",
    "version": 3
   },
   "file_extension": ".py",
   "mimetype": "text/x-python",
   "name": "python",
   "nbconvert_exporter": "python",
   "pygments_lexer": "ipython3",
   "version": "3.6.15"
  },
  "papermill": {
   "default_parameters": {},
   "duration": 95.761536,
   "end_time": "2022-09-05T20:12:43.183046",
   "environment_variables": {},
   "exception": null,
   "input_path": "2020-08-11-part2.ipynb",
   "output_path": "2020-08-11-part2.ipynb",
   "parameters": {},
   "start_time": "2022-09-05T20:11:07.421510",
   "version": "2.3.3"
  }
 },
 "nbformat": 4,
 "nbformat_minor": 5
}