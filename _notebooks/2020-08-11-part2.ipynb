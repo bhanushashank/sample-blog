{
 "cells": [
  {
   "cell_type": "markdown",
   "id": "98380cd3",
   "metadata": {
    "papermill": {
     "duration": 0.035752,
     "end_time": "2022-10-26T20:11:58.904808",
     "exception": false,
     "start_time": "2022-10-26T20:11:58.869056",
     "status": "completed"
    },
    "tags": []
   },
   "source": [
    "# Distinguish Your Own Digits (DYOD)"
   ]
  },
  {
   "cell_type": "markdown",
   "id": "ef31240d",
   "metadata": {
    "papermill": {
     "duration": 0.030816,
     "end_time": "2022-10-26T20:11:58.966915",
     "exception": false,
     "start_time": "2022-10-26T20:11:58.936099",
     "status": "completed"
    },
    "tags": []
   },
   "source": [
    "You are going to write a classifier that distinguishes between the number 3 and number 8."
   ]
  },
  {
   "cell_type": "code",
   "execution_count": 1,
   "id": "b15c8646",
   "metadata": {
    "execution": {
     "iopub.execute_input": "2022-10-26T20:11:59.038639Z",
     "iopub.status.busy": "2022-10-26T20:11:59.037752Z",
     "iopub.status.idle": "2022-10-26T20:11:59.052499Z",
     "shell.execute_reply": "2022-10-26T20:11:59.051858Z"
    },
    "papermill": {
     "duration": 0.056309,
     "end_time": "2022-10-26T20:11:59.052679",
     "exception": false,
     "start_time": "2022-10-26T20:11:58.996370",
     "status": "completed"
    },
    "tags": []
   },
   "outputs": [],
   "source": [
    "%load_ext autoreload\n",
    "%autoreload 2"
   ]
  },
  {
   "cell_type": "code",
   "execution_count": 2,
   "id": "22ef38dc",
   "metadata": {
    "execution": {
     "iopub.execute_input": "2022-10-26T20:11:59.123425Z",
     "iopub.status.busy": "2022-10-26T20:11:59.122677Z",
     "iopub.status.idle": "2022-10-26T20:11:59.774114Z",
     "shell.execute_reply": "2022-10-26T20:11:59.773388Z"
    },
    "papermill": {
     "duration": 0.691055,
     "end_time": "2022-10-26T20:11:59.774268",
     "exception": false,
     "start_time": "2022-10-26T20:11:59.083213",
     "status": "completed"
    },
    "tags": []
   },
   "outputs": [],
   "source": [
    "%matplotlib inline\n",
    "import numpy as np\n",
    "import matplotlib.pyplot as plt\n",
    "import pandas as pd"
   ]
  },
  {
   "cell_type": "markdown",
   "id": "ba036198",
   "metadata": {
    "papermill": {
     "duration": 0.032094,
     "end_time": "2022-10-26T20:11:59.837482",
     "exception": false,
     "start_time": "2022-10-26T20:11:59.805388",
     "status": "completed"
    },
    "tags": []
   },
   "source": [
    "From the command line run `pip install mnist`. This is a library that will help you bring down the mnist dataset. If you run this from a notebook, you need to put  `!pip install mnist` in a cell by itself."
   ]
  },
  {
   "cell_type": "code",
   "execution_count": 3,
   "id": "bb6ad8a1",
   "metadata": {
    "execution": {
     "iopub.execute_input": "2022-10-26T20:11:59.905630Z",
     "iopub.status.busy": "2022-10-26T20:11:59.904876Z",
     "iopub.status.idle": "2022-10-26T20:12:01.820721Z",
     "shell.execute_reply": "2022-10-26T20:12:01.819948Z"
    },
    "papermill": {
     "duration": 1.954144,
     "end_time": "2022-10-26T20:12:01.820874",
     "exception": false,
     "start_time": "2022-10-26T20:11:59.866730",
     "status": "completed"
    },
    "tags": []
   },
   "outputs": [
    {
     "name": "stdout",
     "output_type": "stream",
     "text": [
      "Collecting mnist\r\n"
     ]
    },
    {
     "name": "stdout",
     "output_type": "stream",
     "text": [
      "  Downloading mnist-0.2.2-py2.py3-none-any.whl (3.5 kB)\r\n",
      "Requirement already satisfied: numpy in /opt/hostedtoolcache/Python/3.6.15/x64/lib/python3.6/site-packages (from mnist) (1.19.5)\r\n"
     ]
    },
    {
     "name": "stdout",
     "output_type": "stream",
     "text": [
      "Installing collected packages: mnist\r\n"
     ]
    },
    {
     "name": "stdout",
     "output_type": "stream",
     "text": [
      "Successfully installed mnist-0.2.2\r\n"
     ]
    }
   ],
   "source": [
    "!pip install mnist"
   ]
  },
  {
   "cell_type": "markdown",
   "id": "69df9c9a",
   "metadata": {
    "papermill": {
     "duration": 0.031862,
     "end_time": "2022-10-26T20:12:01.884898",
     "exception": false,
     "start_time": "2022-10-26T20:12:01.853036",
     "status": "completed"
    },
    "tags": []
   },
   "source": [
    "## Preparing the Data"
   ]
  },
  {
   "cell_type": "code",
   "execution_count": 4,
   "id": "7f69d806",
   "metadata": {
    "execution": {
     "iopub.execute_input": "2022-10-26T20:12:01.965771Z",
     "iopub.status.busy": "2022-10-26T20:12:01.965053Z",
     "iopub.status.idle": "2022-10-26T20:12:01.977319Z",
     "shell.execute_reply": "2022-10-26T20:12:01.977961Z"
    },
    "papermill": {
     "duration": 0.061894,
     "end_time": "2022-10-26T20:12:01.978121",
     "exception": false,
     "start_time": "2022-10-26T20:12:01.916227",
     "status": "completed"
    },
    "tags": []
   },
   "outputs": [],
   "source": [
    "import mnist"
   ]
  },
  {
   "cell_type": "code",
   "execution_count": 5,
   "id": "a411e44f",
   "metadata": {
    "execution": {
     "iopub.execute_input": "2022-10-26T20:12:02.052048Z",
     "iopub.status.busy": "2022-10-26T20:12:02.051318Z",
     "iopub.status.idle": "2022-10-26T20:12:02.777099Z",
     "shell.execute_reply": "2022-10-26T20:12:02.777679Z"
    },
    "papermill": {
     "duration": 0.767731,
     "end_time": "2022-10-26T20:12:02.777886",
     "exception": false,
     "start_time": "2022-10-26T20:12:02.010155",
     "status": "completed"
    },
    "tags": []
   },
   "outputs": [],
   "source": [
    "train_images = mnist.train_images()\n",
    "train_labels = mnist.train_labels()"
   ]
  },
  {
   "cell_type": "code",
   "execution_count": 6,
   "id": "dceab3a5",
   "metadata": {
    "execution": {
     "iopub.execute_input": "2022-10-26T20:12:02.852024Z",
     "iopub.status.busy": "2022-10-26T20:12:02.851298Z",
     "iopub.status.idle": "2022-10-26T20:12:02.872276Z",
     "shell.execute_reply": "2022-10-26T20:12:02.872949Z"
    },
    "papermill": {
     "duration": 0.063884,
     "end_time": "2022-10-26T20:12:02.873114",
     "exception": false,
     "start_time": "2022-10-26T20:12:02.809230",
     "status": "completed"
    },
    "tags": []
   },
   "outputs": [
    {
     "data": {
      "text/plain": [
       "((60000, 28, 28), (60000,))"
      ]
     },
     "execution_count": 6,
     "metadata": {},
     "output_type": "execute_result"
    }
   ],
   "source": [
    "train_images.shape, train_labels.shape"
   ]
  },
  {
   "cell_type": "code",
   "execution_count": 7,
   "id": "f50dc2bb",
   "metadata": {
    "execution": {
     "iopub.execute_input": "2022-10-26T20:12:02.943139Z",
     "iopub.status.busy": "2022-10-26T20:12:02.942369Z",
     "iopub.status.idle": "2022-10-26T20:12:03.743925Z",
     "shell.execute_reply": "2022-10-26T20:12:03.743274Z"
    },
    "papermill": {
     "duration": 0.839643,
     "end_time": "2022-10-26T20:12:03.744092",
     "exception": false,
     "start_time": "2022-10-26T20:12:02.904449",
     "status": "completed"
    },
    "tags": []
   },
   "outputs": [],
   "source": [
    "test_images = mnist.test_images()\n",
    "test_labels = mnist.test_labels()"
   ]
  },
  {
   "cell_type": "code",
   "execution_count": 8,
   "id": "fc38cf1b",
   "metadata": {
    "execution": {
     "iopub.execute_input": "2022-10-26T20:12:03.814312Z",
     "iopub.status.busy": "2022-10-26T20:12:03.813487Z",
     "iopub.status.idle": "2022-10-26T20:12:03.831240Z",
     "shell.execute_reply": "2022-10-26T20:12:03.830380Z"
    },
    "papermill": {
     "duration": 0.054685,
     "end_time": "2022-10-26T20:12:03.831386",
     "exception": false,
     "start_time": "2022-10-26T20:12:03.776701",
     "status": "completed"
    },
    "tags": []
   },
   "outputs": [
    {
     "data": {
      "text/plain": [
       "((10000, 28, 28), (10000,))"
      ]
     },
     "execution_count": 8,
     "metadata": {},
     "output_type": "execute_result"
    }
   ],
   "source": [
    "test_images.shape, test_labels.shape"
   ]
  },
  {
   "cell_type": "code",
   "execution_count": 9,
   "id": "f9ed8fe0",
   "metadata": {
    "execution": {
     "iopub.execute_input": "2022-10-26T20:12:03.901058Z",
     "iopub.status.busy": "2022-10-26T20:12:03.900310Z",
     "iopub.status.idle": "2022-10-26T20:12:04.097343Z",
     "shell.execute_reply": "2022-10-26T20:12:04.097933Z"
    },
    "papermill": {
     "duration": 0.23447,
     "end_time": "2022-10-26T20:12:04.098104",
     "exception": false,
     "start_time": "2022-10-26T20:12:03.863634",
     "status": "completed"
    },
    "tags": []
   },
   "outputs": [
    {
     "name": "stdout",
     "output_type": "stream",
     "text": [
      "2\n"
     ]
    },
    {
     "data": {
      "text/plain": [
       "<matplotlib.image.AxesImage at 0x7f480195ac50>"
      ]
     },
     "execution_count": 9,
     "metadata": {},
     "output_type": "execute_result"
    },
    {
     "data": {
      "image/png": "[encoded data removed]",
      "text/plain": [
       "<Figure size 432x288 with 1 Axes>"
      ]
     },
     "metadata": {
      "needs_background": "light"
     },
     "output_type": "display_data"
    }
   ],
   "source": [
    "image_index = 7776 # You may select anything up to 60,000\n",
    "print(train_labels[image_index]) \n",
    "plt.imshow(train_images[image_index], cmap='Greys')"
   ]
  },
  {
   "cell_type": "markdown",
   "id": "a8d2388d",
   "metadata": {
    "papermill": {
     "duration": 0.03323,
     "end_time": "2022-10-26T20:12:04.164751",
     "exception": false,
     "start_time": "2022-10-26T20:12:04.131521",
     "status": "completed"
    },
    "tags": []
   },
   "source": [
    "## Filter data to get 3 and 8 out"
   ]
  },
  {
   "cell_type": "code",
   "execution_count": 10,
   "id": "776f7fc7",
   "metadata": {
    "execution": {
     "iopub.execute_input": "2022-10-26T20:12:04.251762Z",
     "iopub.status.busy": "2022-10-26T20:12:04.250892Z",
     "iopub.status.idle": "2022-10-26T20:12:04.260779Z",
     "shell.execute_reply": "2022-10-26T20:12:04.261374Z"
    },
    "papermill": {
     "duration": 0.064087,
     "end_time": "2022-10-26T20:12:04.261626",
     "exception": false,
     "start_time": "2022-10-26T20:12:04.197539",
     "status": "completed"
    },
    "tags": []
   },
   "outputs": [],
   "source": [
    "train_filter = np.where((train_labels == 3 ) | (train_labels == 8))\n",
    "test_filter = np.where((test_labels == 3) | (test_labels == 8))\n",
    "X_train, y_train = train_images[train_filter], train_labels[train_filter]\n",
    "X_test, y_test = test_images[test_filter], test_labels[test_filter]"
   ]
  },
  {
   "cell_type": "markdown",
   "id": "948f0b7e",
   "metadata": {
    "papermill": {
     "duration": 0.033412,
     "end_time": "2022-10-26T20:12:04.327241",
     "exception": false,
     "start_time": "2022-10-26T20:12:04.293829",
     "status": "completed"
    },
    "tags": []
   },
   "source": [
    "We normalize the pizel values in the 0 to 1 range"
   ]
  },
  {
   "cell_type": "code",
   "execution_count": 11,
   "id": "ee4c2166",
   "metadata": {
    "execution": {
     "iopub.execute_input": "2022-10-26T20:12:04.399246Z",
     "iopub.status.busy": "2022-10-26T20:12:04.398550Z",
     "iopub.status.idle": "2022-10-26T20:12:04.464326Z",
     "shell.execute_reply": "2022-10-26T20:12:04.464908Z"
    },
    "papermill": {
     "duration": 0.105458,
     "end_time": "2022-10-26T20:12:04.465097",
     "exception": false,
     "start_time": "2022-10-26T20:12:04.359639",
     "status": "completed"
    },
    "tags": []
   },
   "outputs": [],
   "source": [
    "X_train = X_train/255.\n",
    "X_test = X_test/255."
   ]
  },
  {
   "cell_type": "markdown",
   "id": "ddcf4fab",
   "metadata": {
    "papermill": {
     "duration": 0.033313,
     "end_time": "2022-10-26T20:12:04.534268",
     "exception": false,
     "start_time": "2022-10-26T20:12:04.500955",
     "status": "completed"
    },
    "tags": []
   },
   "source": [
    "And setup the labels as 1 (when the digit is 3) and 0 (when the digit is 8)"
   ]
  },
  {
   "cell_type": "code",
   "execution_count": 12,
   "id": "7dc908f2",
   "metadata": {
    "execution": {
     "iopub.execute_input": "2022-10-26T20:12:04.605537Z",
     "iopub.status.busy": "2022-10-26T20:12:04.604801Z",
     "iopub.status.idle": "2022-10-26T20:12:04.619670Z",
     "shell.execute_reply": "2022-10-26T20:12:04.619049Z"
    },
    "papermill": {
     "duration": 0.053521,
     "end_time": "2022-10-26T20:12:04.619796",
     "exception": false,
     "start_time": "2022-10-26T20:12:04.566275",
     "status": "completed"
    },
    "tags": []
   },
   "outputs": [],
   "source": [
    "y_train = 1*(y_train==3)\n",
    "y_test = 1*(y_test==3)"
   ]
  },
  {
   "cell_type": "code",
   "execution_count": 13,
   "id": "01e4e969",
   "metadata": {
    "execution": {
     "iopub.execute_input": "2022-10-26T20:12:04.697578Z",
     "iopub.status.busy": "2022-10-26T20:12:04.696811Z",
     "iopub.status.idle": "2022-10-26T20:12:04.711901Z",
     "shell.execute_reply": "2022-10-26T20:12:04.712449Z"
    },
    "papermill": {
     "duration": 0.057081,
     "end_time": "2022-10-26T20:12:04.712622",
     "exception": false,
     "start_time": "2022-10-26T20:12:04.655541",
     "status": "completed"
    },
    "tags": []
   },
   "outputs": [
    {
     "data": {
      "text/plain": [
       "((11982, 28, 28), (1984, 28, 28))"
      ]
     },
     "execution_count": 13,
     "metadata": {},
     "output_type": "execute_result"
    }
   ],
   "source": [
    "X_train.shape, X_test.shape"
   ]
  },
  {
   "cell_type": "markdown",
   "id": "5ccf3f85",
   "metadata": {
    "papermill": {
     "duration": 0.035971,
     "end_time": "2022-10-26T20:12:04.782975",
     "exception": false,
     "start_time": "2022-10-26T20:12:04.747004",
     "status": "completed"
    },
    "tags": []
   },
   "source": [
    "We reshape the data to flatten the image pixels into a set of features or co-variates:"
   ]
  },
  {
   "cell_type": "code",
   "execution_count": 14,
   "id": "5286a4a3",
   "metadata": {
    "execution": {
     "iopub.execute_input": "2022-10-26T20:12:04.861155Z",
     "iopub.status.busy": "2022-10-26T20:12:04.860379Z",
     "iopub.status.idle": "2022-10-26T20:12:04.875228Z",
     "shell.execute_reply": "2022-10-26T20:12:04.875921Z"
    },
    "papermill": {
     "duration": 0.059016,
     "end_time": "2022-10-26T20:12:04.876080",
     "exception": false,
     "start_time": "2022-10-26T20:12:04.817064",
     "status": "completed"
    },
    "tags": []
   },
   "outputs": [
    {
     "data": {
      "text/plain": [
       "((11982, 784), (1984, 784))"
      ]
     },
     "execution_count": 14,
     "metadata": {},
     "output_type": "execute_result"
    }
   ],
   "source": [
    "X_train = X_train.reshape(X_train.shape[0], -1)\n",
    "X_test = X_test.reshape(X_test.shape[0], -1)\n",
    "X_train.shape, X_test.shape"
   ]
  },
  {
   "cell_type": "code",
   "execution_count": 15,
   "id": "73c5f88a",
   "metadata": {
    "execution": {
     "iopub.execute_input": "2022-10-26T20:12:04.955078Z",
     "iopub.status.busy": "2022-10-26T20:12:04.951941Z",
     "iopub.status.idle": "2022-10-26T20:12:04.974880Z",
     "shell.execute_reply": "2022-10-26T20:12:04.975416Z"
    },
    "papermill": {
     "duration": 0.064747,
     "end_time": "2022-10-26T20:12:04.975573",
     "exception": false,
     "start_time": "2022-10-26T20:12:04.910826",
     "status": "completed"
    },
    "tags": []
   },
   "outputs": [],
   "source": [
    "#Impoting functions from 'Kudzu'\n",
    "from kudzu.model import Model\n",
    "from kudzu.train import Learner\n",
    "from kudzu.optim import GD\n",
    "from kudzu.data import Data, Sampler,Dataloader\n",
    "\n",
    "from kudzu.callbacks import AccCallback\n",
    "from kudzu.callbacks import ClfCallback\n",
    "\n",
    "from kudzu.loss import MSE\n",
    "\n",
    "from kudzu.layer import Sigmoid,Relu\n",
    "from kudzu.layer import Affine"
   ]
  },
  {
   "cell_type": "markdown",
   "id": "bc01172a",
   "metadata": {
    "papermill": {
     "duration": 0.034637,
     "end_time": "2022-10-26T20:12:05.044184",
     "exception": false,
     "start_time": "2022-10-26T20:12:05.009547",
     "status": "completed"
    },
    "tags": []
   },
   "source": [
    "### Let us create a `Config` class, to store important parameters. \n",
    "This class essentially plays the role of a dictionary."
   ]
  },
  {
   "cell_type": "code",
   "execution_count": 16,
   "id": "978281aa",
   "metadata": {
    "execution": {
     "iopub.execute_input": "2022-10-26T20:12:05.119750Z",
     "iopub.status.busy": "2022-10-26T20:12:05.118823Z",
     "iopub.status.idle": "2022-10-26T20:12:05.132624Z",
     "shell.execute_reply": "2022-10-26T20:12:05.133223Z"
    },
    "papermill": {
     "duration": 0.055735,
     "end_time": "2022-10-26T20:12:05.133402",
     "exception": false,
     "start_time": "2022-10-26T20:12:05.077667",
     "status": "completed"
    },
    "tags": []
   },
   "outputs": [],
   "source": [
    "class Config:\n",
    "    pass\n",
    "config = Config()\n",
    "config.lr = 0.001\n",
    "config.num_epochs = 250\n",
    "config.bs = 50"
   ]
  },
  {
   "cell_type": "markdown",
   "id": "1385fa59",
   "metadata": {
    "papermill": {
     "duration": 0.036703,
     "end_time": "2022-10-26T20:12:05.203869",
     "exception": false,
     "start_time": "2022-10-26T20:12:05.167166",
     "status": "completed"
    },
    "tags": []
   },
   "source": [
    "### Running Models with the Training data\n",
    "Details about the network layers:\n",
    "- A first affine layer has 784 inputs and does 100 affine transforms. These are followed by a Relu\n",
    "- A second affine layer has 100 inputs from the 100 activations of the past layer, and does 100 affine transforms. These are followed by a Relu\n",
    "- A third affine layer has 100 activations and does 2 affine transformations to create an embedding for visualization. There is no non-linearity here.\n",
    "- A final \"logistic regression\" which has an affine transform from 2 inputs to 1 output, which is squeezed through a sigmoid.\n"
   ]
  },
  {
   "cell_type": "code",
   "execution_count": 17,
   "id": "2b9c66db",
   "metadata": {
    "execution": {
     "iopub.execute_input": "2022-10-26T20:12:05.280625Z",
     "iopub.status.busy": "2022-10-26T20:12:05.279761Z",
     "iopub.status.idle": "2022-10-26T20:12:05.295252Z",
     "shell.execute_reply": "2022-10-26T20:12:05.294653Z"
    },
    "papermill": {
     "duration": 0.05524,
     "end_time": "2022-10-26T20:12:05.295393",
     "exception": false,
     "start_time": "2022-10-26T20:12:05.240153",
     "status": "completed"
    },
    "tags": []
   },
   "outputs": [],
   "source": [
    "data = Data(X_train, y_train.reshape(-1,1))\n",
    "sampler = Sampler(data, config.bs, shuffle=True)\n",
    "\n",
    "dl = Dataloader(data, sampler)\n",
    "\n",
    "opt = GD(config.lr)\n",
    "loss = MSE()"
   ]
  },
  {
   "cell_type": "code",
   "execution_count": 18,
   "id": "b275e4c2",
   "metadata": {
    "execution": {
     "iopub.execute_input": "2022-10-26T20:12:05.372199Z",
     "iopub.status.busy": "2022-10-26T20:12:05.371489Z",
     "iopub.status.idle": "2022-10-26T20:12:05.389124Z",
     "shell.execute_reply": "2022-10-26T20:12:05.389707Z"
    },
    "papermill": {
     "duration": 0.058934,
     "end_time": "2022-10-26T20:12:05.389897",
     "exception": false,
     "start_time": "2022-10-26T20:12:05.330963",
     "status": "completed"
    },
    "tags": []
   },
   "outputs": [],
   "source": [
    "training_data_x = X_train\n",
    "testing_data_x = X_test\n",
    "training_data_y = y_train.reshape(-1,1)\n",
    "testing_data_y = y_test.reshape(-1,1)"
   ]
  },
  {
   "cell_type": "code",
   "execution_count": 19,
   "id": "76951160",
   "metadata": {
    "execution": {
     "iopub.execute_input": "2022-10-26T20:12:05.463234Z",
     "iopub.status.busy": "2022-10-26T20:12:05.462465Z",
     "iopub.status.idle": "2022-10-26T20:12:05.482844Z",
     "shell.execute_reply": "2022-10-26T20:12:05.482109Z"
    },
    "papermill": {
     "duration": 0.058924,
     "end_time": "2022-10-26T20:12:05.483010",
     "exception": false,
     "start_time": "2022-10-26T20:12:05.424086",
     "status": "completed"
    },
    "tags": []
   },
   "outputs": [
    {
     "name": "stdout",
     "output_type": "stream",
     "text": [
      "xavier\n",
      "xavier\n",
      "xavier\n",
      "xavier\n",
      "xavier\n"
     ]
    }
   ],
   "source": [
    "layers = [Affine(\"first\", 784, 100), Relu(\"first\"), Affine(\"second\", 100, 100), Relu(\"second\"), Affine(\"third\", 100, 2), Affine(\"last\", 2, 1), Sigmoid(\"last\")]\n",
    "model_nn = Model(layers)\n",
    "model_lr = Model([Affine(\"logits\", 784, 1), Sigmoid(\"sigmoid\")])"
   ]
  },
  {
   "cell_type": "code",
   "execution_count": 20,
   "id": "6eede77a",
   "metadata": {
    "execution": {
     "iopub.execute_input": "2022-10-26T20:12:05.559450Z",
     "iopub.status.busy": "2022-10-26T20:12:05.558605Z",
     "iopub.status.idle": "2022-10-26T20:12:05.573163Z",
     "shell.execute_reply": "2022-10-26T20:12:05.572582Z"
    },
    "papermill": {
     "duration": 0.0543,
     "end_time": "2022-10-26T20:12:05.573285",
     "exception": false,
     "start_time": "2022-10-26T20:12:05.518985",
     "status": "completed"
    },
    "tags": []
   },
   "outputs": [],
   "source": [
    "nn_learner = Learner(loss, model_nn, opt, config.num_epochs)\n",
    "acc_nn = ClfCallback(nn_learner, config.bs, training_data_x , testing_data_x, training_data_y, testing_data_y)\n",
    "nn_learner.set_callbacks([acc_nn])"
   ]
  },
  {
   "cell_type": "code",
   "execution_count": 21,
   "id": "877b6cc7",
   "metadata": {
    "execution": {
     "iopub.execute_input": "2022-10-26T20:12:05.650239Z",
     "iopub.status.busy": "2022-10-26T20:12:05.649136Z",
     "iopub.status.idle": "2022-10-26T20:12:05.663213Z",
     "shell.execute_reply": "2022-10-26T20:12:05.662636Z"
    },
    "papermill": {
     "duration": 0.056034,
     "end_time": "2022-10-26T20:12:05.663340",
     "exception": false,
     "start_time": "2022-10-26T20:12:05.607306",
     "status": "completed"
    },
    "tags": []
   },
   "outputs": [],
   "source": [
    "lr_learner = Learner(loss, model_lr, opt, config.num_epochs)\n",
    "acc_lr = ClfCallback(lr_learner, config.bs, training_data_x , testing_data_x, training_data_y, testing_data_y)\n",
    "lr_learner.set_callbacks([acc_lr])"
   ]
  },
  {
   "cell_type": "code",
   "execution_count": 22,
   "id": "d9b133c3",
   "metadata": {
    "execution": {
     "iopub.execute_input": "2022-10-26T20:12:05.739740Z",
     "iopub.status.busy": "2022-10-26T20:12:05.739012Z",
     "iopub.status.idle": "2022-10-26T20:14:29.518232Z",
     "shell.execute_reply": "2022-10-26T20:14:29.519243Z"
    },
    "papermill": {
     "duration": 143.821327,
     "end_time": "2022-10-26T20:14:29.519429",
     "exception": false,
     "start_time": "2022-10-26T20:12:05.698102",
     "status": "completed"
    },
    "tags": []
   },
   "outputs": [
    {
     "name": "stdout",
     "output_type": "stream",
     "text": [
      "Epoch 0, Loss 0.24\n",
      "Training Accuracy: 0.7422, Testing Accuracy: 0.7535\n",
      "\n"
     ]
    },
    {
     "name": "stdout",
     "output_type": "stream",
     "text": [
      "Epoch 10, Loss 0.1249\n",
      "Training Accuracy: 0.9080, Testing Accuracy: 0.9153\n",
      "\n"
     ]
    },
    {
     "name": "stdout",
     "output_type": "stream",
     "text": [
      "Epoch 20, Loss 0.0658\n",
      "Training Accuracy: 0.9343, Testing Accuracy: 0.9496\n",
      "\n"
     ]
    },
    {
     "name": "stdout",
     "output_type": "stream",
     "text": [
      "Epoch 30, Loss 0.0489\n",
      "Training Accuracy: 0.9460, Testing Accuracy: 0.9597\n",
      "\n"
     ]
    },
    {
     "name": "stdout",
     "output_type": "stream",
     "text": [
      "Epoch 40, Loss 0.0411\n",
      "Training Accuracy: 0.9532, Testing Accuracy: 0.9632\n",
      "\n"
     ]
    },
    {
     "name": "stdout",
     "output_type": "stream",
     "text": [
      "Epoch 50, Loss 0.0366\n",
      "Training Accuracy: 0.9577, Testing Accuracy: 0.9657\n",
      "\n"
     ]
    },
    {
     "name": "stdout",
     "output_type": "stream",
     "text": [
      "Epoch 60, Loss 0.0336\n",
      "Training Accuracy: 0.9607, Testing Accuracy: 0.9698\n",
      "\n"
     ]
    },
    {
     "name": "stdout",
     "output_type": "stream",
     "text": [
      "Epoch 70, Loss 0.0314\n",
      "Training Accuracy: 0.9631, Testing Accuracy: 0.9693\n",
      "\n"
     ]
    },
    {
     "name": "stdout",
     "output_type": "stream",
     "text": [
      "Epoch 80, Loss 0.0297\n",
      "Training Accuracy: 0.9649, Testing Accuracy: 0.9698\n",
      "\n"
     ]
    },
    {
     "name": "stdout",
     "output_type": "stream",
     "text": [
      "Epoch 90, Loss 0.0283\n",
      "Training Accuracy: 0.9661, Testing Accuracy: 0.9698\n",
      "\n"
     ]
    },
    {
     "name": "stdout",
     "output_type": "stream",
     "text": [
      "Epoch 100, Loss 0.0271\n",
      "Training Accuracy: 0.9675, Testing Accuracy: 0.9713\n",
      "\n"
     ]
    },
    {
     "name": "stdout",
     "output_type": "stream",
     "text": [
      "Epoch 110, Loss 0.0261\n",
      "Training Accuracy: 0.9687, Testing Accuracy: 0.9723\n",
      "\n"
     ]
    },
    {
     "name": "stdout",
     "output_type": "stream",
     "text": [
      "Epoch 120, Loss 0.0253\n",
      "Training Accuracy: 0.9700, Testing Accuracy: 0.9733\n",
      "\n"
     ]
    },
    {
     "name": "stdout",
     "output_type": "stream",
     "text": [
      "Epoch 130, Loss 0.0245\n",
      "Training Accuracy: 0.9713, Testing Accuracy: 0.9733\n",
      "\n"
     ]
    },
    {
     "name": "stdout",
     "output_type": "stream",
     "text": [
      "Epoch 140, Loss 0.0238\n",
      "Training Accuracy: 0.9723, Testing Accuracy: 0.9728\n",
      "\n"
     ]
    },
    {
     "name": "stdout",
     "output_type": "stream",
     "text": [
      "Epoch 150, Loss 0.0232\n",
      "Training Accuracy: 0.9731, Testing Accuracy: 0.9723\n",
      "\n"
     ]
    },
    {
     "name": "stdout",
     "output_type": "stream",
     "text": [
      "Epoch 160, Loss 0.0226\n",
      "Training Accuracy: 0.9739, Testing Accuracy: 0.9733\n",
      "\n"
     ]
    },
    {
     "name": "stdout",
     "output_type": "stream",
     "text": [
      "Epoch 170, Loss 0.0221\n",
      "Training Accuracy: 0.9744, Testing Accuracy: 0.9728\n",
      "\n"
     ]
    },
    {
     "name": "stdout",
     "output_type": "stream",
     "text": [
      "Epoch 180, Loss 0.0216\n",
      "Training Accuracy: 0.9750, Testing Accuracy: 0.9738\n",
      "\n"
     ]
    },
    {
     "name": "stdout",
     "output_type": "stream",
     "text": [
      "Epoch 190, Loss 0.0212\n",
      "Training Accuracy: 0.9760, Testing Accuracy: 0.9743\n",
      "\n"
     ]
    },
    {
     "name": "stdout",
     "output_type": "stream",
     "text": [
      "Epoch 200, Loss 0.0207\n",
      "Training Accuracy: 0.9769, Testing Accuracy: 0.9743\n",
      "\n"
     ]
    },
    {
     "name": "stdout",
     "output_type": "stream",
     "text": [
      "Epoch 210, Loss 0.0203\n",
      "Training Accuracy: 0.9770, Testing Accuracy: 0.9738\n",
      "\n"
     ]
    },
    {
     "name": "stdout",
     "output_type": "stream",
     "text": [
      "Epoch 220, Loss 0.0199\n",
      "Training Accuracy: 0.9775, Testing Accuracy: 0.9728\n",
      "\n"
     ]
    },
    {
     "name": "stdout",
     "output_type": "stream",
     "text": [
      "Epoch 230, Loss 0.0196\n",
      "Training Accuracy: 0.9780, Testing Accuracy: 0.9728\n",
      "\n"
     ]
    },
    {
     "name": "stdout",
     "output_type": "stream",
     "text": [
      "Epoch 240, Loss 0.0192\n",
      "Training Accuracy: 0.9789, Testing Accuracy: 0.9733\n",
      "\n"
     ]
    },
    {
     "data": {
      "text/plain": [
       "0.005005832339749486"
      ]
     },
     "execution_count": 22,
     "metadata": {},
     "output_type": "execute_result"
    }
   ],
   "source": [
    "nn_learner.train_loop(dl)"
   ]
  },
  {
   "cell_type": "code",
   "execution_count": 23,
   "id": "e0163366",
   "metadata": {
    "execution": {
     "iopub.execute_input": "2022-10-26T20:14:29.622448Z",
     "iopub.status.busy": "2022-10-26T20:14:29.621521Z",
     "iopub.status.idle": "2022-10-26T20:14:50.335010Z",
     "shell.execute_reply": "2022-10-26T20:14:50.336056Z"
    },
    "papermill": {
     "duration": 20.773319,
     "end_time": "2022-10-26T20:14:50.336228",
     "exception": false,
     "start_time": "2022-10-26T20:14:29.562909",
     "status": "completed"
    },
    "tags": []
   },
   "outputs": [
    {
     "name": "stdout",
     "output_type": "stream",
     "text": [
      "Epoch 0, Loss 0.2909\n",
      "Training Accuracy: 0.5102, Testing Accuracy: 0.5050\n",
      "\n"
     ]
    },
    {
     "name": "stdout",
     "output_type": "stream",
     "text": [
      "Epoch 10, Loss 0.1061\n",
      "Training Accuracy: 0.9044, Testing Accuracy: 0.9204\n",
      "\n"
     ]
    },
    {
     "name": "stdout",
     "output_type": "stream",
     "text": [
      "Epoch 20, Loss 0.0802\n",
      "Training Accuracy: 0.9258, Testing Accuracy: 0.9370\n",
      "\n"
     ]
    },
    {
     "name": "stdout",
     "output_type": "stream",
     "text": [
      "Epoch 30, Loss 0.0687\n",
      "Training Accuracy: 0.9352, Testing Accuracy: 0.9501\n",
      "\n"
     ]
    },
    {
     "name": "stdout",
     "output_type": "stream",
     "text": [
      "Epoch 40, Loss 0.0619\n",
      "Training Accuracy: 0.9407, Testing Accuracy: 0.9546\n",
      "\n"
     ]
    },
    {
     "name": "stdout",
     "output_type": "stream",
     "text": [
      "Epoch 50, Loss 0.0573\n",
      "Training Accuracy: 0.9439, Testing Accuracy: 0.9561\n",
      "\n"
     ]
    },
    {
     "name": "stdout",
     "output_type": "stream",
     "text": [
      "Epoch 60, Loss 0.0539\n",
      "Training Accuracy: 0.9463, Testing Accuracy: 0.9577\n",
      "\n"
     ]
    },
    {
     "name": "stdout",
     "output_type": "stream",
     "text": [
      "Epoch 70, Loss 0.0514\n",
      "Training Accuracy: 0.9491, Testing Accuracy: 0.9577\n",
      "\n"
     ]
    },
    {
     "name": "stdout",
     "output_type": "stream",
     "text": [
      "Epoch 80, Loss 0.0493\n",
      "Training Accuracy: 0.9503, Testing Accuracy: 0.9577\n",
      "\n"
     ]
    },
    {
     "name": "stdout",
     "output_type": "stream",
     "text": [
      "Epoch 90, Loss 0.0476\n",
      "Training Accuracy: 0.9518, Testing Accuracy: 0.9577\n",
      "\n"
     ]
    },
    {
     "name": "stdout",
     "output_type": "stream",
     "text": [
      "Epoch 100, Loss 0.0461\n",
      "Training Accuracy: 0.9529, Testing Accuracy: 0.9577\n",
      "\n"
     ]
    },
    {
     "name": "stdout",
     "output_type": "stream",
     "text": [
      "Epoch 110, Loss 0.0449\n",
      "Training Accuracy: 0.9538, Testing Accuracy: 0.9592\n",
      "\n"
     ]
    },
    {
     "name": "stdout",
     "output_type": "stream",
     "text": [
      "Epoch 120, Loss 0.0438\n",
      "Training Accuracy: 0.9548, Testing Accuracy: 0.9597\n",
      "\n"
     ]
    },
    {
     "name": "stdout",
     "output_type": "stream",
     "text": [
      "Epoch 130, Loss 0.0429\n",
      "Training Accuracy: 0.9561, Testing Accuracy: 0.9612\n",
      "\n"
     ]
    },
    {
     "name": "stdout",
     "output_type": "stream",
     "text": [
      "Epoch 140, Loss 0.0421\n",
      "Training Accuracy: 0.9567, Testing Accuracy: 0.9622\n",
      "\n"
     ]
    },
    {
     "name": "stdout",
     "output_type": "stream",
     "text": [
      "Epoch 150, Loss 0.0413\n",
      "Training Accuracy: 0.9570, Testing Accuracy: 0.9617\n",
      "\n"
     ]
    },
    {
     "name": "stdout",
     "output_type": "stream",
     "text": [
      "Epoch 160, Loss 0.0406\n",
      "Training Accuracy: 0.9574, Testing Accuracy: 0.9632\n",
      "\n"
     ]
    },
    {
     "name": "stdout",
     "output_type": "stream",
     "text": [
      "Epoch 170, Loss 0.04\n",
      "Training Accuracy: 0.9580, Testing Accuracy: 0.9627\n",
      "\n"
     ]
    },
    {
     "name": "stdout",
     "output_type": "stream",
     "text": [
      "Epoch 180, Loss 0.0395\n",
      "Training Accuracy: 0.9588, Testing Accuracy: 0.9627\n",
      "\n"
     ]
    },
    {
     "name": "stdout",
     "output_type": "stream",
     "text": [
      "Epoch 190, Loss 0.0389\n",
      "Training Accuracy: 0.9591, Testing Accuracy: 0.9632\n",
      "\n"
     ]
    },
    {
     "name": "stdout",
     "output_type": "stream",
     "text": [
      "Epoch 200, Loss 0.0385\n",
      "Training Accuracy: 0.9599, Testing Accuracy: 0.9632\n",
      "\n"
     ]
    },
    {
     "name": "stdout",
     "output_type": "stream",
     "text": [
      "Epoch 210, Loss 0.038\n",
      "Training Accuracy: 0.9600, Testing Accuracy: 0.9632\n",
      "\n"
     ]
    },
    {
     "name": "stdout",
     "output_type": "stream",
     "text": [
      "Epoch 220, Loss 0.0376\n",
      "Training Accuracy: 0.9602, Testing Accuracy: 0.9632\n",
      "\n"
     ]
    },
    {
     "name": "stdout",
     "output_type": "stream",
     "text": [
      "Epoch 230, Loss 0.0372\n",
      "Training Accuracy: 0.9608, Testing Accuracy: 0.9632\n",
      "\n"
     ]
    },
    {
     "name": "stdout",
     "output_type": "stream",
     "text": [
      "Epoch 240, Loss 0.0369\n",
      "Training Accuracy: 0.9609, Testing Accuracy: 0.9632\n",
      "\n"
     ]
    },
    {
     "data": {
      "text/plain": [
       "0.05096091605007427"
      ]
     },
     "execution_count": 23,
     "metadata": {},
     "output_type": "execute_result"
    }
   ],
   "source": [
    "lr_learner.train_loop(dl)"
   ]
  },
  {
   "cell_type": "code",
   "execution_count": 24,
   "id": "ca410940",
   "metadata": {
    "execution": {
     "iopub.execute_input": "2022-10-26T20:14:50.451059Z",
     "iopub.status.busy": "2022-10-26T20:14:50.450297Z",
     "iopub.status.idle": "2022-10-26T20:14:50.769845Z",
     "shell.execute_reply": "2022-10-26T20:14:50.770468Z"
    },
    "papermill": {
     "duration": 0.379977,
     "end_time": "2022-10-26T20:14:50.770667",
     "exception": false,
     "start_time": "2022-10-26T20:14:50.390690",
     "status": "completed"
    },
    "tags": []
   },
   "outputs": [
    {
     "data": {
      "text/plain": [
       "<matplotlib.legend.Legend at 0x7f48014c8320>"
      ]
     },
     "execution_count": 24,
     "metadata": {},
     "output_type": "execute_result"
    },
    {
     "data": {
      "image/png": "[encoded data removed]",
      "text/plain": [
       "<Figure size 1080x720 with 1 Axes>"
      ]
     },
     "metadata": {
      "needs_background": "light"
     },
     "output_type": "display_data"
    }
   ],
   "source": [
    "#comparing the results of NN and LR\n",
    "plt.figure(figsize=(15,10))\n",
    "\n",
    "# Neural Network plots\n",
    "plt.plot(acc_nn.accuracies, 'r-', label = \"Training Accuracies - NN\")\n",
    "plt.plot(acc_nn.test_accuracies, 'g-', label = \"Testing Accuracies - NN\")\n",
    "\n",
    "# Logistic Regression plots\n",
    "plt.plot(acc_lr.accuracies, 'k-', label = \"Training Accuracies - LR\")\n",
    "plt.plot(acc_lr.test_accuracies, 'b-', label = \"Testing Accuracies - LR\")\n",
    "plt.legend()"
   ]
  },
  {
   "cell_type": "markdown",
   "id": "80dfb35c",
   "metadata": {
    "papermill": {
     "duration": 0.054351,
     "end_time": "2022-10-26T20:14:50.880251",
     "exception": false,
     "start_time": "2022-10-26T20:14:50.825900",
     "status": "completed"
    },
    "tags": []
   },
   "source": [
    "#### Plotting the outputs of this layer of the NN.\n"
   ]
  },
  {
   "cell_type": "code",
   "execution_count": 25,
   "id": "45eb2ff5",
   "metadata": {
    "execution": {
     "iopub.execute_input": "2022-10-26T20:14:50.998207Z",
     "iopub.status.busy": "2022-10-26T20:14:50.997371Z",
     "iopub.status.idle": "2022-10-26T20:14:51.027716Z",
     "shell.execute_reply": "2022-10-26T20:14:51.028356Z"
    },
    "papermill": {
     "duration": 0.093042,
     "end_time": "2022-10-26T20:14:51.028550",
     "exception": false,
     "start_time": "2022-10-26T20:14:50.935508",
     "status": "completed"
    },
    "tags": []
   },
   "outputs": [],
   "source": [
    "new_model = Model(layers[:-2])\n",
    "testing_plot = new_model(testing_data_x)"
   ]
  },
  {
   "cell_type": "code",
   "execution_count": 26,
   "id": "4c0a5485",
   "metadata": {
    "execution": {
     "iopub.execute_input": "2022-10-26T20:14:51.150761Z",
     "iopub.status.busy": "2022-10-26T20:14:51.149968Z",
     "iopub.status.idle": "2022-10-26T20:14:51.420377Z",
     "shell.execute_reply": "2022-10-26T20:14:51.420942Z"
    },
    "papermill": {
     "duration": 0.335145,
     "end_time": "2022-10-26T20:14:51.421130",
     "exception": false,
     "start_time": "2022-10-26T20:14:51.085985",
     "status": "completed"
    },
    "tags": []
   },
   "outputs": [
    {
     "data": {
      "text/plain": [
       "Text(0.5, 1.0, 'Outputs')"
      ]
     },
     "execution_count": 26,
     "metadata": {},
     "output_type": "execute_result"
    },
    {
     "data": {
      "image/png": "[encoded data removed]",
      "text/plain": [
       "<Figure size 576x504 with 1 Axes>"
      ]
     },
     "metadata": {
      "needs_background": "light"
     },
     "output_type": "display_data"
    }
   ],
   "source": [
    "# Plotting the scatter plot of points and color coding by class\n",
    "plt.figure(figsize=(8,7))\n",
    "plt.scatter(testing_plot[:,0], testing_plot[:,1], alpha = 0.1, c = y_test.ravel());\n",
    "plt.title('Outputs')"
   ]
  },
  {
   "cell_type": "markdown",
   "id": "a74fcf8f",
   "metadata": {
    "papermill": {
     "duration": 0.087395,
     "end_time": "2022-10-26T20:14:51.565562",
     "exception": false,
     "start_time": "2022-10-26T20:14:51.478167",
     "status": "completed"
    },
    "tags": []
   },
   "source": [
    "Probability contours"
   ]
  },
  {
   "cell_type": "code",
   "execution_count": 27,
   "id": "d0afc8e3",
   "metadata": {
    "execution": {
     "iopub.execute_input": "2022-10-26T20:14:51.681414Z",
     "iopub.status.busy": "2022-10-26T20:14:51.680708Z",
     "iopub.status.idle": "2022-10-26T20:14:51.695092Z",
     "shell.execute_reply": "2022-10-26T20:14:51.694562Z"
    },
    "papermill": {
     "duration": 0.07367,
     "end_time": "2022-10-26T20:14:51.695226",
     "exception": false,
     "start_time": "2022-10-26T20:14:51.621556",
     "status": "completed"
    },
    "tags": []
   },
   "outputs": [],
   "source": [
    "model_prob = Model(layers[-2:]) "
   ]
  },
  {
   "cell_type": "code",
   "execution_count": 28,
   "id": "9b96e238",
   "metadata": {
    "execution": {
     "iopub.execute_input": "2022-10-26T20:14:51.815814Z",
     "iopub.status.busy": "2022-10-26T20:14:51.815060Z",
     "iopub.status.idle": "2022-10-26T20:14:51.833526Z",
     "shell.execute_reply": "2022-10-26T20:14:51.832915Z"
    },
    "papermill": {
     "duration": 0.080466,
     "end_time": "2022-10-26T20:14:51.833676",
     "exception": false,
     "start_time": "2022-10-26T20:14:51.753210",
     "status": "completed"
    },
    "tags": []
   },
   "outputs": [],
   "source": [
    "#creating the x and y ranges according to the above generated plot.\n",
    "x_range = np.linspace(-4, 1, 100) \n",
    "y_range = np.linspace(-6, 6, 100) \n",
    "x_grid, y_grid = np.meshgrid(x_range, y_range) # x_grid and y_grig are of size 100 X 100\n",
    "\n",
    "# converting x_grid and y_grid to continuous arrays\n",
    "x_gridflat = np.ravel(x_grid)\n",
    "y_gridflat = np.ravel(y_grid)\n",
    "\n",
    "# The last layer of the current model takes two columns as input. Hence transpose of np.vstack() is required.\n",
    "X = np.vstack((x_gridflat, y_gridflat)).T\n",
    "\n",
    "prob_contour = model_prob(X).reshape(100,100) "
   ]
  },
  {
   "cell_type": "code",
   "execution_count": 29,
   "id": "da72499a",
   "metadata": {
    "execution": {
     "iopub.execute_input": "2022-10-26T20:14:51.958091Z",
     "iopub.status.busy": "2022-10-26T20:14:51.957268Z",
     "iopub.status.idle": "2022-10-26T20:14:52.304994Z",
     "shell.execute_reply": "2022-10-26T20:14:52.304272Z"
    },
    "papermill": {
     "duration": 0.413352,
     "end_time": "2022-10-26T20:14:52.305141",
     "exception": false,
     "start_time": "2022-10-26T20:14:51.891789",
     "status": "completed"
    },
    "tags": []
   },
   "outputs": [
    {
     "data": {
      "image/png": "[encoded data removed]",
      "text/plain": [
       "<Figure size 720x648 with 1 Axes>"
      ]
     },
     "metadata": {
      "needs_background": "light"
     },
     "output_type": "display_data"
    }
   ],
   "source": [
    "plt.figure(figsize=(10,9))\n",
    "plt.scatter(testing_plot[:,0], testing_plot[:,1], alpha = 0.1, c = y_test.ravel())\n",
    "contours = plt.contour(x_grid,y_grid,prob_contour)\n",
    "plt.title('Probability Contours')\n",
    "plt.clabel(contours, inline = True );"
   ]
  },
  {
   "cell_type": "code",
   "execution_count": null,
   "id": "e81b4ac7",
   "metadata": {
    "papermill": {
     "duration": 0.061486,
     "end_time": "2022-10-26T20:14:52.426773",
     "exception": false,
     "start_time": "2022-10-26T20:14:52.365287",
     "status": "completed"
    },
    "tags": []
   },
   "outputs": [],
   "source": []
  }
 ],
 "metadata": {
  "kernelspec": {
   "display_name": "Python 3",
   "language": "python",
   "name": "python3"
  },
  "language_info": {
   "codemirror_mode": {
    "name": "ipython",
    "version": 3
   },
   "file_extension": ".py",
   "mimetype": "text/x-python",
   "name": "python",
   "nbconvert_exporter": "python",
   "pygments_lexer": "ipython3",
   "version": "3.6.15"
  },
  "papermill": {
   "default_parameters": {},
   "duration": 175.516605,
   "end_time": "2022-10-26T20:14:53.008965",
   "environment_variables": {},
   "exception": null,
   "input_path": "2020-08-11-part2.ipynb",
   "output_path": "2020-08-11-part2.ipynb",
   "parameters": {},
   "start_time": "2022-10-26T20:11:57.492360",
   "version": "2.3.3"
  }
 },
 "nbformat": 4,
 "nbformat_minor": 5
}