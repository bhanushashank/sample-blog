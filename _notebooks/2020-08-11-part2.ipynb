{
 "cells": [
  {
   "cell_type": "markdown",
   "id": "98380cd3",
   "metadata": {
    "papermill": {
     "duration": 0.041111,
     "end_time": "2022-07-06T20:10:30.137543",
     "exception": false,
     "start_time": "2022-07-06T20:10:30.096432",
     "status": "completed"
    },
    "tags": []
   },
   "source": [
    "# Distinguish Your Own Digits (DYOD)"
   ]
  },
  {
   "cell_type": "markdown",
   "id": "ef31240d",
   "metadata": {
    "papermill": {
     "duration": 0.027764,
     "end_time": "2022-07-06T20:10:30.194447",
     "exception": false,
     "start_time": "2022-07-06T20:10:30.166683",
     "status": "completed"
    },
    "tags": []
   },
   "source": [
    "You are going to write a classifier that distinguishes between the number 3 and number 8."
   ]
  },
  {
   "cell_type": "code",
   "execution_count": 1,
   "id": "b15c8646",
   "metadata": {
    "execution": {
     "iopub.execute_input": "2022-07-06T20:10:30.266799Z",
     "iopub.status.busy": "2022-07-06T20:10:30.266057Z",
     "iopub.status.idle": "2022-07-06T20:10:30.279072Z",
     "shell.execute_reply": "2022-07-06T20:10:30.279599Z"
    },
    "papermill": {
     "duration": 0.057552,
     "end_time": "2022-07-06T20:10:30.279785",
     "exception": false,
     "start_time": "2022-07-06T20:10:30.222233",
     "status": "completed"
    },
    "tags": []
   },
   "outputs": [],
   "source": [
    "%load_ext autoreload\n",
    "%autoreload 2"
   ]
  },
  {
   "cell_type": "code",
   "execution_count": 2,
   "id": "22ef38dc",
   "metadata": {
    "execution": {
     "iopub.execute_input": "2022-07-06T20:10:30.339886Z",
     "iopub.status.busy": "2022-07-06T20:10:30.338681Z",
     "iopub.status.idle": "2022-07-06T20:10:30.954200Z",
     "shell.execute_reply": "2022-07-06T20:10:30.953459Z"
    },
    "papermill": {
     "duration": 0.647605,
     "end_time": "2022-07-06T20:10:30.954342",
     "exception": false,
     "start_time": "2022-07-06T20:10:30.306737",
     "status": "completed"
    },
    "tags": []
   },
   "outputs": [],
   "source": [
    "%matplotlib inline\n",
    "import numpy as np\n",
    "import matplotlib.pyplot as plt\n",
    "import pandas as pd"
   ]
  },
  {
   "cell_type": "markdown",
   "id": "ba036198",
   "metadata": {
    "papermill": {
     "duration": 0.026588,
     "end_time": "2022-07-06T20:10:31.007658",
     "exception": false,
     "start_time": "2022-07-06T20:10:30.981070",
     "status": "completed"
    },
    "tags": []
   },
   "source": [
    "From the command line run `pip install mnist`. This is a library that will help you bring down the mnist dataset. If you run this from a notebook, you need to put  `!pip install mnist` in a cell by itself."
   ]
  },
  {
   "cell_type": "code",
   "execution_count": 3,
   "id": "bb6ad8a1",
   "metadata": {
    "execution": {
     "iopub.execute_input": "2022-07-06T20:10:31.067575Z",
     "iopub.status.busy": "2022-07-06T20:10:31.066886Z",
     "iopub.status.idle": "2022-07-06T20:10:33.740959Z",
     "shell.execute_reply": "2022-07-06T20:10:33.741892Z"
    },
    "papermill": {
     "duration": 2.708283,
     "end_time": "2022-07-06T20:10:33.742156",
     "exception": false,
     "start_time": "2022-07-06T20:10:31.033873",
     "status": "completed"
    },
    "tags": []
   },
   "outputs": [
    {
     "name": "stdout",
     "output_type": "stream",
     "text": [
      "Collecting mnist\r\n",
      "  Downloading mnist-0.2.2-py2.py3-none-any.whl (3.5 kB)\r\n",
      "Requirement already satisfied: numpy in /opt/hostedtoolcache/Python/3.6.15/x64/lib/python3.6/site-packages (from mnist) (1.19.5)\r\n"
     ]
    },
    {
     "name": "stdout",
     "output_type": "stream",
     "text": [
      "Installing collected packages: mnist\r\n"
     ]
    },
    {
     "name": "stdout",
     "output_type": "stream",
     "text": [
      "Successfully installed mnist-0.2.2\r\n"
     ]
    }
   ],
   "source": [
    "!pip install mnist"
   ]
  },
  {
   "cell_type": "markdown",
   "id": "69df9c9a",
   "metadata": {
    "papermill": {
     "duration": 0.027454,
     "end_time": "2022-07-06T20:10:33.797723",
     "exception": false,
     "start_time": "2022-07-06T20:10:33.770269",
     "status": "completed"
    },
    "tags": []
   },
   "source": [
    "## Preparing the Data"
   ]
  },
  {
   "cell_type": "code",
   "execution_count": 4,
   "id": "7f69d806",
   "metadata": {
    "execution": {
     "iopub.execute_input": "2022-07-06T20:10:33.859124Z",
     "iopub.status.busy": "2022-07-06T20:10:33.857924Z",
     "iopub.status.idle": "2022-07-06T20:10:33.874720Z",
     "shell.execute_reply": "2022-07-06T20:10:33.874149Z"
    },
    "papermill": {
     "duration": 0.049366,
     "end_time": "2022-07-06T20:10:33.874855",
     "exception": false,
     "start_time": "2022-07-06T20:10:33.825489",
     "status": "completed"
    },
    "tags": []
   },
   "outputs": [],
   "source": [
    "import mnist"
   ]
  },
  {
   "cell_type": "code",
   "execution_count": 5,
   "id": "a411e44f",
   "metadata": {
    "execution": {
     "iopub.execute_input": "2022-07-06T20:10:33.937987Z",
     "iopub.status.busy": "2022-07-06T20:10:33.937295Z",
     "iopub.status.idle": "2022-07-06T20:10:34.655934Z",
     "shell.execute_reply": "2022-07-06T20:10:34.654734Z"
    },
    "papermill": {
     "duration": 0.753275,
     "end_time": "2022-07-06T20:10:34.656095",
     "exception": false,
     "start_time": "2022-07-06T20:10:33.902820",
     "status": "completed"
    },
    "tags": []
   },
   "outputs": [],
   "source": [
    "train_images = mnist.train_images()\n",
    "train_labels = mnist.train_labels()"
   ]
  },
  {
   "cell_type": "code",
   "execution_count": 6,
   "id": "dceab3a5",
   "metadata": {
    "execution": {
     "iopub.execute_input": "2022-07-06T20:10:34.717679Z",
     "iopub.status.busy": "2022-07-06T20:10:34.715560Z",
     "iopub.status.idle": "2022-07-06T20:10:34.732501Z",
     "shell.execute_reply": "2022-07-06T20:10:34.731766Z"
    },
    "papermill": {
     "duration": 0.048459,
     "end_time": "2022-07-06T20:10:34.732636",
     "exception": false,
     "start_time": "2022-07-06T20:10:34.684177",
     "status": "completed"
    },
    "tags": []
   },
   "outputs": [
    {
     "data": {
      "text/plain": [
       "((60000, 28, 28), (60000,))"
      ]
     },
     "execution_count": 6,
     "metadata": {},
     "output_type": "execute_result"
    }
   ],
   "source": [
    "train_images.shape, train_labels.shape"
   ]
  },
  {
   "cell_type": "code",
   "execution_count": 7,
   "id": "f50dc2bb",
   "metadata": {
    "execution": {
     "iopub.execute_input": "2022-07-06T20:10:34.792452Z",
     "iopub.status.busy": "2022-07-06T20:10:34.791756Z",
     "iopub.status.idle": "2022-07-06T20:10:34.950739Z",
     "shell.execute_reply": "2022-07-06T20:10:34.949332Z"
    },
    "papermill": {
     "duration": 0.190444,
     "end_time": "2022-07-06T20:10:34.950888",
     "exception": false,
     "start_time": "2022-07-06T20:10:34.760444",
     "status": "completed"
    },
    "tags": []
   },
   "outputs": [],
   "source": [
    "test_images = mnist.test_images()\n",
    "test_labels = mnist.test_labels()"
   ]
  },
  {
   "cell_type": "code",
   "execution_count": 8,
   "id": "fc38cf1b",
   "metadata": {
    "execution": {
     "iopub.execute_input": "2022-07-06T20:10:35.012898Z",
     "iopub.status.busy": "2022-07-06T20:10:35.010657Z",
     "iopub.status.idle": "2022-07-06T20:10:35.025546Z",
     "shell.execute_reply": "2022-07-06T20:10:35.024984Z"
    },
    "papermill": {
     "duration": 0.046685,
     "end_time": "2022-07-06T20:10:35.025674",
     "exception": false,
     "start_time": "2022-07-06T20:10:34.978989",
     "status": "completed"
    },
    "tags": []
   },
   "outputs": [
    {
     "data": {
      "text/plain": [
       "((10000, 28, 28), (10000,))"
      ]
     },
     "execution_count": 8,
     "metadata": {},
     "output_type": "execute_result"
    }
   ],
   "source": [
    "test_images.shape, test_labels.shape"
   ]
  },
  {
   "cell_type": "code",
   "execution_count": 9,
   "id": "f9ed8fe0",
   "metadata": {
    "execution": {
     "iopub.execute_input": "2022-07-06T20:10:35.092046Z",
     "iopub.status.busy": "2022-07-06T20:10:35.091374Z",
     "iopub.status.idle": "2022-07-06T20:10:35.259139Z",
     "shell.execute_reply": "2022-07-06T20:10:35.258564Z"
    },
    "papermill": {
     "duration": 0.205239,
     "end_time": "2022-07-06T20:10:35.259272",
     "exception": false,
     "start_time": "2022-07-06T20:10:35.054033",
     "status": "completed"
    },
    "tags": []
   },
   "outputs": [
    {
     "name": "stdout",
     "output_type": "stream",
     "text": [
      "2\n"
     ]
    },
    {
     "data": {
      "text/plain": [
       "<matplotlib.image.AxesImage at 0x7f28a879b518>"
      ]
     },
     "execution_count": 9,
     "metadata": {},
     "output_type": "execute_result"
    },
    {
     "data": {
      "image/png": "[encoded data removed]",
      "text/plain": [
       "<Figure size 432x288 with 1 Axes>"
      ]
     },
     "metadata": {
      "needs_background": "light"
     },
     "output_type": "display_data"
    }
   ],
   "source": [
    "image_index = 7776 # You may select anything up to 60,000\n",
    "print(train_labels[image_index]) \n",
    "plt.imshow(train_images[image_index], cmap='Greys')"
   ]
  },
  {
   "cell_type": "markdown",
   "id": "a8d2388d",
   "metadata": {
    "papermill": {
     "duration": 0.029548,
     "end_time": "2022-07-06T20:10:35.319466",
     "exception": false,
     "start_time": "2022-07-06T20:10:35.289918",
     "status": "completed"
    },
    "tags": []
   },
   "source": [
    "## Filter data to get 3 and 8 out"
   ]
  },
  {
   "cell_type": "code",
   "execution_count": 10,
   "id": "776f7fc7",
   "metadata": {
    "execution": {
     "iopub.execute_input": "2022-07-06T20:10:35.384920Z",
     "iopub.status.busy": "2022-07-06T20:10:35.384125Z",
     "iopub.status.idle": "2022-07-06T20:10:35.404726Z",
     "shell.execute_reply": "2022-07-06T20:10:35.404093Z"
    },
    "papermill": {
     "duration": 0.056192,
     "end_time": "2022-07-06T20:10:35.404869",
     "exception": false,
     "start_time": "2022-07-06T20:10:35.348677",
     "status": "completed"
    },
    "tags": []
   },
   "outputs": [],
   "source": [
    "train_filter = np.where((train_labels == 3 ) | (train_labels == 8))\n",
    "test_filter = np.where((test_labels == 3) | (test_labels == 8))\n",
    "X_train, y_train = train_images[train_filter], train_labels[train_filter]\n",
    "X_test, y_test = test_images[test_filter], test_labels[test_filter]"
   ]
  },
  {
   "cell_type": "markdown",
   "id": "948f0b7e",
   "metadata": {
    "papermill": {
     "duration": 0.029806,
     "end_time": "2022-07-06T20:10:35.464297",
     "exception": false,
     "start_time": "2022-07-06T20:10:35.434491",
     "status": "completed"
    },
    "tags": []
   },
   "source": [
    "We normalize the pizel values in the 0 to 1 range"
   ]
  },
  {
   "cell_type": "code",
   "execution_count": 11,
   "id": "ee4c2166",
   "metadata": {
    "execution": {
     "iopub.execute_input": "2022-07-06T20:10:35.534691Z",
     "iopub.status.busy": "2022-07-06T20:10:35.534007Z",
     "iopub.status.idle": "2022-07-06T20:10:35.588001Z",
     "shell.execute_reply": "2022-07-06T20:10:35.587403Z"
    },
    "papermill": {
     "duration": 0.090389,
     "end_time": "2022-07-06T20:10:35.588141",
     "exception": false,
     "start_time": "2022-07-06T20:10:35.497752",
     "status": "completed"
    },
    "tags": []
   },
   "outputs": [],
   "source": [
    "X_train = X_train/255.\n",
    "X_test = X_test/255."
   ]
  },
  {
   "cell_type": "markdown",
   "id": "ddcf4fab",
   "metadata": {
    "papermill": {
     "duration": 0.029765,
     "end_time": "2022-07-06T20:10:35.647521",
     "exception": false,
     "start_time": "2022-07-06T20:10:35.617756",
     "status": "completed"
    },
    "tags": []
   },
   "source": [
    "And setup the labels as 1 (when the digit is 3) and 0 (when the digit is 8)"
   ]
  },
  {
   "cell_type": "code",
   "execution_count": 12,
   "id": "7dc908f2",
   "metadata": {
    "execution": {
     "iopub.execute_input": "2022-07-06T20:10:35.715950Z",
     "iopub.status.busy": "2022-07-06T20:10:35.715267Z",
     "iopub.status.idle": "2022-07-06T20:10:35.730705Z",
     "shell.execute_reply": "2022-07-06T20:10:35.731255Z"
    },
    "papermill": {
     "duration": 0.049951,
     "end_time": "2022-07-06T20:10:35.731400",
     "exception": false,
     "start_time": "2022-07-06T20:10:35.681449",
     "status": "completed"
    },
    "tags": []
   },
   "outputs": [],
   "source": [
    "y_train = 1*(y_train==3)\n",
    "y_test = 1*(y_test==3)"
   ]
  },
  {
   "cell_type": "code",
   "execution_count": 13,
   "id": "01e4e969",
   "metadata": {
    "execution": {
     "iopub.execute_input": "2022-07-06T20:10:35.798867Z",
     "iopub.status.busy": "2022-07-06T20:10:35.795478Z",
     "iopub.status.idle": "2022-07-06T20:10:35.810993Z",
     "shell.execute_reply": "2022-07-06T20:10:35.811516Z"
    },
    "papermill": {
     "duration": 0.050777,
     "end_time": "2022-07-06T20:10:35.811666",
     "exception": false,
     "start_time": "2022-07-06T20:10:35.760889",
     "status": "completed"
    },
    "tags": []
   },
   "outputs": [
    {
     "data": {
      "text/plain": [
       "((11982, 28, 28), (1984, 28, 28))"
      ]
     },
     "execution_count": 13,
     "metadata": {},
     "output_type": "execute_result"
    }
   ],
   "source": [
    "X_train.shape, X_test.shape"
   ]
  },
  {
   "cell_type": "markdown",
   "id": "5ccf3f85",
   "metadata": {
    "papermill": {
     "duration": 0.029953,
     "end_time": "2022-07-06T20:10:35.871041",
     "exception": false,
     "start_time": "2022-07-06T20:10:35.841088",
     "status": "completed"
    },
    "tags": []
   },
   "source": [
    "We reshape the data to flatten the image pixels into a set of features or co-variates:"
   ]
  },
  {
   "cell_type": "code",
   "execution_count": 14,
   "id": "5286a4a3",
   "metadata": {
    "execution": {
     "iopub.execute_input": "2022-07-06T20:10:35.935947Z",
     "iopub.status.busy": "2022-07-06T20:10:35.935269Z",
     "iopub.status.idle": "2022-07-06T20:10:35.950994Z",
     "shell.execute_reply": "2022-07-06T20:10:35.951491Z"
    },
    "papermill": {
     "duration": 0.050685,
     "end_time": "2022-07-06T20:10:35.951650",
     "exception": false,
     "start_time": "2022-07-06T20:10:35.900965",
     "status": "completed"
    },
    "tags": []
   },
   "outputs": [
    {
     "data": {
      "text/plain": [
       "((11982, 784), (1984, 784))"
      ]
     },
     "execution_count": 14,
     "metadata": {},
     "output_type": "execute_result"
    }
   ],
   "source": [
    "X_train = X_train.reshape(X_train.shape[0], -1)\n",
    "X_test = X_test.reshape(X_test.shape[0], -1)\n",
    "X_train.shape, X_test.shape"
   ]
  },
  {
   "cell_type": "code",
   "execution_count": 15,
   "id": "73c5f88a",
   "metadata": {
    "execution": {
     "iopub.execute_input": "2022-07-06T20:10:36.017676Z",
     "iopub.status.busy": "2022-07-06T20:10:36.016970Z",
     "iopub.status.idle": "2022-07-06T20:10:36.038571Z",
     "shell.execute_reply": "2022-07-06T20:10:36.039227Z"
    },
    "papermill": {
     "duration": 0.057583,
     "end_time": "2022-07-06T20:10:36.039410",
     "exception": false,
     "start_time": "2022-07-06T20:10:35.981827",
     "status": "completed"
    },
    "tags": []
   },
   "outputs": [],
   "source": [
    "#Impoting functions from 'Kudzu'\n",
    "from kudzu.model import Model\n",
    "from kudzu.train import Learner\n",
    "from kudzu.optim import GD\n",
    "from kudzu.data import Data, Sampler,Dataloader\n",
    "\n",
    "from kudzu.callbacks import AccCallback\n",
    "from kudzu.callbacks import ClfCallback\n",
    "\n",
    "from kudzu.loss import MSE\n",
    "\n",
    "from kudzu.layer import Sigmoid,Relu\n",
    "from kudzu.layer import Affine"
   ]
  },
  {
   "cell_type": "markdown",
   "id": "bc01172a",
   "metadata": {
    "papermill": {
     "duration": 0.030181,
     "end_time": "2022-07-06T20:10:36.101137",
     "exception": false,
     "start_time": "2022-07-06T20:10:36.070956",
     "status": "completed"
    },
    "tags": []
   },
   "source": [
    "### Let us create a `Config` class, to store important parameters. \n",
    "This class essentially plays the role of a dictionary."
   ]
  },
  {
   "cell_type": "code",
   "execution_count": 16,
   "id": "978281aa",
   "metadata": {
    "execution": {
     "iopub.execute_input": "2022-07-06T20:10:36.165893Z",
     "iopub.status.busy": "2022-07-06T20:10:36.165202Z",
     "iopub.status.idle": "2022-07-06T20:10:36.179875Z",
     "shell.execute_reply": "2022-07-06T20:10:36.180411Z"
    },
    "papermill": {
     "duration": 0.049273,
     "end_time": "2022-07-06T20:10:36.180576",
     "exception": false,
     "start_time": "2022-07-06T20:10:36.131303",
     "status": "completed"
    },
    "tags": []
   },
   "outputs": [],
   "source": [
    "class Config:\n",
    "    pass\n",
    "config = Config()\n",
    "config.lr = 0.001\n",
    "config.num_epochs = 250\n",
    "config.bs = 50"
   ]
  },
  {
   "cell_type": "markdown",
   "id": "1385fa59",
   "metadata": {
    "papermill": {
     "duration": 0.030457,
     "end_time": "2022-07-06T20:10:36.242073",
     "exception": false,
     "start_time": "2022-07-06T20:10:36.211616",
     "status": "completed"
    },
    "tags": []
   },
   "source": [
    "### Running Models with the Training data\n",
    "Details about the network layers:\n",
    "- A first affine layer has 784 inputs and does 100 affine transforms. These are followed by a Relu\n",
    "- A second affine layer has 100 inputs from the 100 activations of the past layer, and does 100 affine transforms. These are followed by a Relu\n",
    "- A third affine layer has 100 activations and does 2 affine transformations to create an embedding for visualization. There is no non-linearity here.\n",
    "- A final \"logistic regression\" which has an affine transform from 2 inputs to 1 output, which is squeezed through a sigmoid.\n"
   ]
  },
  {
   "cell_type": "code",
   "execution_count": 17,
   "id": "2b9c66db",
   "metadata": {
    "execution": {
     "iopub.execute_input": "2022-07-06T20:10:36.308987Z",
     "iopub.status.busy": "2022-07-06T20:10:36.308134Z",
     "iopub.status.idle": "2022-07-06T20:10:36.322656Z",
     "shell.execute_reply": "2022-07-06T20:10:36.322090Z"
    },
    "papermill": {
     "duration": 0.050678,
     "end_time": "2022-07-06T20:10:36.322788",
     "exception": false,
     "start_time": "2022-07-06T20:10:36.272110",
     "status": "completed"
    },
    "tags": []
   },
   "outputs": [],
   "source": [
    "data = Data(X_train, y_train.reshape(-1,1))\n",
    "sampler = Sampler(data, config.bs, shuffle=True)\n",
    "\n",
    "dl = Dataloader(data, sampler)\n",
    "\n",
    "opt = GD(config.lr)\n",
    "loss = MSE()"
   ]
  },
  {
   "cell_type": "code",
   "execution_count": 18,
   "id": "b275e4c2",
   "metadata": {
    "execution": {
     "iopub.execute_input": "2022-07-06T20:10:36.392415Z",
     "iopub.status.busy": "2022-07-06T20:10:36.391703Z",
     "iopub.status.idle": "2022-07-06T20:10:36.406113Z",
     "shell.execute_reply": "2022-07-06T20:10:36.405558Z"
    },
    "papermill": {
     "duration": 0.053268,
     "end_time": "2022-07-06T20:10:36.406232",
     "exception": false,
     "start_time": "2022-07-06T20:10:36.352964",
     "status": "completed"
    },
    "tags": []
   },
   "outputs": [],
   "source": [
    "training_data_x = X_train\n",
    "testing_data_x = X_test\n",
    "training_data_y = y_train.reshape(-1,1)\n",
    "testing_data_y = y_test.reshape(-1,1)"
   ]
  },
  {
   "cell_type": "code",
   "execution_count": 19,
   "id": "76951160",
   "metadata": {
    "execution": {
     "iopub.execute_input": "2022-07-06T20:10:36.474051Z",
     "iopub.status.busy": "2022-07-06T20:10:36.473366Z",
     "iopub.status.idle": "2022-07-06T20:10:36.491968Z",
     "shell.execute_reply": "2022-07-06T20:10:36.492558Z"
    },
    "papermill": {
     "duration": 0.056432,
     "end_time": "2022-07-06T20:10:36.492711",
     "exception": false,
     "start_time": "2022-07-06T20:10:36.436279",
     "status": "completed"
    },
    "tags": []
   },
   "outputs": [
    {
     "name": "stdout",
     "output_type": "stream",
     "text": [
      "xavier\n",
      "xavier\n",
      "xavier\n",
      "xavier\n",
      "xavier\n"
     ]
    }
   ],
   "source": [
    "layers = [Affine(\"first\", 784, 100), Relu(\"first\"), Affine(\"second\", 100, 100), Relu(\"second\"), Affine(\"third\", 100, 2), Affine(\"last\", 2, 1), Sigmoid(\"last\")]\n",
    "model_nn = Model(layers)\n",
    "model_lr = Model([Affine(\"logits\", 784, 1), Sigmoid(\"sigmoid\")])"
   ]
  },
  {
   "cell_type": "code",
   "execution_count": 20,
   "id": "6eede77a",
   "metadata": {
    "execution": {
     "iopub.execute_input": "2022-07-06T20:10:36.557804Z",
     "iopub.status.busy": "2022-07-06T20:10:36.557129Z",
     "iopub.status.idle": "2022-07-06T20:10:36.571475Z",
     "shell.execute_reply": "2022-07-06T20:10:36.570909Z"
    },
    "papermill": {
     "duration": 0.048916,
     "end_time": "2022-07-06T20:10:36.571596",
     "exception": false,
     "start_time": "2022-07-06T20:10:36.522680",
     "status": "completed"
    },
    "tags": []
   },
   "outputs": [],
   "source": [
    "nn_learner = Learner(loss, model_nn, opt, config.num_epochs)\n",
    "acc_nn = ClfCallback(nn_learner, config.bs, training_data_x , testing_data_x, training_data_y, testing_data_y)\n",
    "nn_learner.set_callbacks([acc_nn])"
   ]
  },
  {
   "cell_type": "code",
   "execution_count": 21,
   "id": "877b6cc7",
   "metadata": {
    "execution": {
     "iopub.execute_input": "2022-07-06T20:10:36.642068Z",
     "iopub.status.busy": "2022-07-06T20:10:36.641360Z",
     "iopub.status.idle": "2022-07-06T20:10:36.659158Z",
     "shell.execute_reply": "2022-07-06T20:10:36.658617Z"
    },
    "papermill": {
     "duration": 0.053356,
     "end_time": "2022-07-06T20:10:36.659294",
     "exception": false,
     "start_time": "2022-07-06T20:10:36.605938",
     "status": "completed"
    },
    "tags": []
   },
   "outputs": [],
   "source": [
    "lr_learner = Learner(loss, model_lr, opt, config.num_epochs)\n",
    "acc_lr = ClfCallback(lr_learner, config.bs, training_data_x , testing_data_x, training_data_y, testing_data_y)\n",
    "lr_learner.set_callbacks([acc_lr])"
   ]
  },
  {
   "cell_type": "code",
   "execution_count": 22,
   "id": "d9b133c3",
   "metadata": {
    "execution": {
     "iopub.execute_input": "2022-07-06T20:10:36.731016Z",
     "iopub.status.busy": "2022-07-06T20:10:36.730349Z",
     "iopub.status.idle": "2022-07-06T20:12:04.889862Z",
     "shell.execute_reply": "2022-07-06T20:12:04.889317Z"
    },
    "papermill": {
     "duration": 88.194256,
     "end_time": "2022-07-06T20:12:04.889999",
     "exception": false,
     "start_time": "2022-07-06T20:10:36.695743",
     "status": "completed"
    },
    "tags": []
   },
   "outputs": [
    {
     "name": "stdout",
     "output_type": "stream",
     "text": [
      "Epoch 0, Loss 0.2507\n",
      "Training Accuracy: 0.4757, Testing Accuracy: 0.4597\n",
      "\n"
     ]
    },
    {
     "name": "stdout",
     "output_type": "stream",
     "text": [
      "Epoch 10, Loss 0.2411\n",
      "Training Accuracy: 0.7762, Testing Accuracy: 0.7898\n",
      "\n"
     ]
    },
    {
     "name": "stdout",
     "output_type": "stream",
     "text": [
      "Epoch 20, Loss 0.2066\n",
      "Training Accuracy: 0.8655, Testing Accuracy: 0.8826\n",
      "\n"
     ]
    },
    {
     "name": "stdout",
     "output_type": "stream",
     "text": [
      "Epoch 30, Loss 0.1182\n",
      "Training Accuracy: 0.9109, Testing Accuracy: 0.9294\n",
      "\n"
     ]
    },
    {
     "name": "stdout",
     "output_type": "stream",
     "text": [
      "Epoch 40, Loss 0.0683\n",
      "Training Accuracy: 0.9317, Testing Accuracy: 0.9410\n",
      "\n"
     ]
    },
    {
     "name": "stdout",
     "output_type": "stream",
     "text": [
      "Epoch 50, Loss 0.0513\n",
      "Training Accuracy: 0.9454, Testing Accuracy: 0.9516\n",
      "\n"
     ]
    },
    {
     "name": "stdout",
     "output_type": "stream",
     "text": [
      "Epoch 60, Loss 0.0431\n",
      "Training Accuracy: 0.9507, Testing Accuracy: 0.9577\n",
      "\n"
     ]
    },
    {
     "name": "stdout",
     "output_type": "stream",
     "text": [
      "Epoch 70, Loss 0.0385\n",
      "Training Accuracy: 0.9553, Testing Accuracy: 0.9632\n",
      "\n"
     ]
    },
    {
     "name": "stdout",
     "output_type": "stream",
     "text": [
      "Epoch 80, Loss 0.0354\n",
      "Training Accuracy: 0.9586, Testing Accuracy: 0.9652\n",
      "\n"
     ]
    },
    {
     "name": "stdout",
     "output_type": "stream",
     "text": [
      "Epoch 90, Loss 0.0333\n",
      "Training Accuracy: 0.9609, Testing Accuracy: 0.9652\n",
      "\n"
     ]
    },
    {
     "name": "stdout",
     "output_type": "stream",
     "text": [
      "Epoch 100, Loss 0.0316\n",
      "Training Accuracy: 0.9629, Testing Accuracy: 0.9657\n",
      "\n"
     ]
    },
    {
     "name": "stdout",
     "output_type": "stream",
     "text": [
      "Epoch 110, Loss 0.0302\n",
      "Training Accuracy: 0.9645, Testing Accuracy: 0.9662\n",
      "\n"
     ]
    },
    {
     "name": "stdout",
     "output_type": "stream",
     "text": [
      "Epoch 120, Loss 0.0291\n",
      "Training Accuracy: 0.9660, Testing Accuracy: 0.9672\n",
      "\n"
     ]
    },
    {
     "name": "stdout",
     "output_type": "stream",
     "text": [
      "Epoch 130, Loss 0.0281\n",
      "Training Accuracy: 0.9670, Testing Accuracy: 0.9682\n",
      "\n"
     ]
    },
    {
     "name": "stdout",
     "output_type": "stream",
     "text": [
      "Epoch 140, Loss 0.0273\n",
      "Training Accuracy: 0.9682, Testing Accuracy: 0.9682\n",
      "\n"
     ]
    },
    {
     "name": "stdout",
     "output_type": "stream",
     "text": [
      "Epoch 150, Loss 0.0265\n",
      "Training Accuracy: 0.9689, Testing Accuracy: 0.9682\n",
      "\n"
     ]
    },
    {
     "name": "stdout",
     "output_type": "stream",
     "text": [
      "Epoch 160, Loss 0.0258\n",
      "Training Accuracy: 0.9693, Testing Accuracy: 0.9693\n",
      "\n"
     ]
    },
    {
     "name": "stdout",
     "output_type": "stream",
     "text": [
      "Epoch 170, Loss 0.0252\n",
      "Training Accuracy: 0.9703, Testing Accuracy: 0.9698\n",
      "\n"
     ]
    },
    {
     "name": "stdout",
     "output_type": "stream",
     "text": [
      "Epoch 180, Loss 0.0246\n",
      "Training Accuracy: 0.9711, Testing Accuracy: 0.9698\n",
      "\n"
     ]
    },
    {
     "name": "stdout",
     "output_type": "stream",
     "text": [
      "Epoch 190, Loss 0.0241\n",
      "Training Accuracy: 0.9715, Testing Accuracy: 0.9698\n",
      "\n"
     ]
    },
    {
     "name": "stdout",
     "output_type": "stream",
     "text": [
      "Epoch 200, Loss 0.0236\n",
      "Training Accuracy: 0.9726, Testing Accuracy: 0.9693\n",
      "\n"
     ]
    },
    {
     "name": "stdout",
     "output_type": "stream",
     "text": [
      "Epoch 210, Loss 0.0231\n",
      "Training Accuracy: 0.9732, Testing Accuracy: 0.9698\n",
      "\n"
     ]
    },
    {
     "name": "stdout",
     "output_type": "stream",
     "text": [
      "Epoch 220, Loss 0.0227\n",
      "Training Accuracy: 0.9736, Testing Accuracy: 0.9693\n",
      "\n"
     ]
    },
    {
     "name": "stdout",
     "output_type": "stream",
     "text": [
      "Epoch 230, Loss 0.0223\n",
      "Training Accuracy: 0.9745, Testing Accuracy: 0.9698\n",
      "\n"
     ]
    },
    {
     "name": "stdout",
     "output_type": "stream",
     "text": [
      "Epoch 240, Loss 0.0219\n",
      "Training Accuracy: 0.9750, Testing Accuracy: 0.9698\n",
      "\n"
     ]
    },
    {
     "data": {
      "text/plain": [
       "0.03213298249269386"
      ]
     },
     "execution_count": 22,
     "metadata": {},
     "output_type": "execute_result"
    }
   ],
   "source": [
    "nn_learner.train_loop(dl)"
   ]
  },
  {
   "cell_type": "code",
   "execution_count": 23,
   "id": "e0163366",
   "metadata": {
    "execution": {
     "iopub.execute_input": "2022-07-06T20:12:04.974142Z",
     "iopub.status.busy": "2022-07-06T20:12:04.973431Z",
     "iopub.status.idle": "2022-07-06T20:12:20.447304Z",
     "shell.execute_reply": "2022-07-06T20:12:20.448332Z"
    },
    "papermill": {
     "duration": 15.519397,
     "end_time": "2022-07-06T20:12:20.448577",
     "exception": false,
     "start_time": "2022-07-06T20:12:04.929180",
     "status": "completed"
    },
    "tags": []
   },
   "outputs": [
    {
     "name": "stdout",
     "output_type": "stream",
     "text": [
      "Epoch 0, Loss 0.2307\n",
      "Training Accuracy: 0.7555, Testing Accuracy: 0.7767\n",
      "\n"
     ]
    },
    {
     "name": "stdout",
     "output_type": "stream",
     "text": [
      "Epoch 10, Loss 0.1006\n",
      "Training Accuracy: 0.9127, Testing Accuracy: 0.9249\n",
      "\n"
     ]
    },
    {
     "name": "stdout",
     "output_type": "stream",
     "text": [
      "Epoch 20, Loss 0.0778\n",
      "Training Accuracy: 0.9293, Testing Accuracy: 0.9385\n",
      "\n"
     ]
    },
    {
     "name": "stdout",
     "output_type": "stream",
     "text": [
      "Epoch 30, Loss 0.0673\n",
      "Training Accuracy: 0.9372, Testing Accuracy: 0.9491\n",
      "\n"
     ]
    },
    {
     "name": "stdout",
     "output_type": "stream",
     "text": [
      "Epoch 40, Loss 0.0609\n",
      "Training Accuracy: 0.9426, Testing Accuracy: 0.9521\n",
      "\n"
     ]
    },
    {
     "name": "stdout",
     "output_type": "stream",
     "text": [
      "Epoch 50, Loss 0.0565\n",
      "Training Accuracy: 0.9456, Testing Accuracy: 0.9541\n",
      "\n"
     ]
    },
    {
     "name": "stdout",
     "output_type": "stream",
     "text": [
      "Epoch 60, Loss 0.0533\n",
      "Training Accuracy: 0.9494, Testing Accuracy: 0.9551\n",
      "\n"
     ]
    },
    {
     "name": "stdout",
     "output_type": "stream",
     "text": [
      "Epoch 70, Loss 0.0508\n",
      "Training Accuracy: 0.9513, Testing Accuracy: 0.9572\n",
      "\n"
     ]
    },
    {
     "name": "stdout",
     "output_type": "stream",
     "text": [
      "Epoch 80, Loss 0.0488\n",
      "Training Accuracy: 0.9518, Testing Accuracy: 0.9587\n",
      "\n"
     ]
    },
    {
     "name": "stdout",
     "output_type": "stream",
     "text": [
      "Epoch 90, Loss 0.0471\n",
      "Training Accuracy: 0.9531, Testing Accuracy: 0.9597\n",
      "\n"
     ]
    },
    {
     "name": "stdout",
     "output_type": "stream",
     "text": [
      "Epoch 100, Loss 0.0457\n",
      "Training Accuracy: 0.9535, Testing Accuracy: 0.9617\n",
      "\n"
     ]
    },
    {
     "name": "stdout",
     "output_type": "stream",
     "text": [
      "Epoch 110, Loss 0.0445\n",
      "Training Accuracy: 0.9543, Testing Accuracy: 0.9622\n",
      "\n"
     ]
    },
    {
     "name": "stdout",
     "output_type": "stream",
     "text": [
      "Epoch 120, Loss 0.0435\n",
      "Training Accuracy: 0.9553, Testing Accuracy: 0.9617\n",
      "\n"
     ]
    },
    {
     "name": "stdout",
     "output_type": "stream",
     "text": [
      "Epoch 130, Loss 0.0425\n",
      "Training Accuracy: 0.9559, Testing Accuracy: 0.9627\n",
      "\n"
     ]
    },
    {
     "name": "stdout",
     "output_type": "stream",
     "text": [
      "Epoch 140, Loss 0.0417\n",
      "Training Accuracy: 0.9564, Testing Accuracy: 0.9632\n",
      "\n"
     ]
    },
    {
     "name": "stdout",
     "output_type": "stream",
     "text": [
      "Epoch 150, Loss 0.041\n",
      "Training Accuracy: 0.9569, Testing Accuracy: 0.9642\n",
      "\n"
     ]
    },
    {
     "name": "stdout",
     "output_type": "stream",
     "text": [
      "Epoch 160, Loss 0.0403\n",
      "Training Accuracy: 0.9578, Testing Accuracy: 0.9647\n",
      "\n"
     ]
    },
    {
     "name": "stdout",
     "output_type": "stream",
     "text": [
      "Epoch 170, Loss 0.0397\n",
      "Training Accuracy: 0.9583, Testing Accuracy: 0.9652\n",
      "\n"
     ]
    },
    {
     "name": "stdout",
     "output_type": "stream",
     "text": [
      "Epoch 180, Loss 0.0392\n",
      "Training Accuracy: 0.9592, Testing Accuracy: 0.9652\n",
      "\n"
     ]
    },
    {
     "name": "stdout",
     "output_type": "stream",
     "text": [
      "Epoch 190, Loss 0.0387\n",
      "Training Accuracy: 0.9596, Testing Accuracy: 0.9657\n",
      "\n"
     ]
    },
    {
     "name": "stdout",
     "output_type": "stream",
     "text": [
      "Epoch 200, Loss 0.0382\n",
      "Training Accuracy: 0.9601, Testing Accuracy: 0.9657\n",
      "\n"
     ]
    },
    {
     "name": "stdout",
     "output_type": "stream",
     "text": [
      "Epoch 210, Loss 0.0378\n",
      "Training Accuracy: 0.9607, Testing Accuracy: 0.9667\n",
      "\n"
     ]
    },
    {
     "name": "stdout",
     "output_type": "stream",
     "text": [
      "Epoch 220, Loss 0.0373\n",
      "Training Accuracy: 0.9609, Testing Accuracy: 0.9667\n",
      "\n"
     ]
    },
    {
     "name": "stdout",
     "output_type": "stream",
     "text": [
      "Epoch 230, Loss 0.037\n",
      "Training Accuracy: 0.9613, Testing Accuracy: 0.9672\n",
      "\n"
     ]
    },
    {
     "name": "stdout",
     "output_type": "stream",
     "text": [
      "Epoch 240, Loss 0.0366\n",
      "Training Accuracy: 0.9619, Testing Accuracy: 0.9672\n",
      "\n"
     ]
    },
    {
     "data": {
      "text/plain": [
       "0.04068758227243192"
      ]
     },
     "execution_count": 23,
     "metadata": {},
     "output_type": "execute_result"
    }
   ],
   "source": [
    "lr_learner.train_loop(dl)"
   ]
  },
  {
   "cell_type": "code",
   "execution_count": 24,
   "id": "ca410940",
   "metadata": {
    "execution": {
     "iopub.execute_input": "2022-07-06T20:12:20.550414Z",
     "iopub.status.busy": "2022-07-06T20:12:20.549362Z",
     "iopub.status.idle": "2022-07-06T20:12:20.815997Z",
     "shell.execute_reply": "2022-07-06T20:12:20.815341Z"
    },
    "papermill": {
     "duration": 0.321517,
     "end_time": "2022-07-06T20:12:20.816144",
     "exception": false,
     "start_time": "2022-07-06T20:12:20.494627",
     "status": "completed"
    },
    "tags": []
   },
   "outputs": [
    {
     "data": {
      "text/plain": [
       "<matplotlib.legend.Legend at 0x7f28a82fbb00>"
      ]
     },
     "execution_count": 24,
     "metadata": {},
     "output_type": "execute_result"
    },
    {
     "data": {
      "image/png": "[encoded data removed]",
      "text/plain": [
       "<Figure size 1080x720 with 1 Axes>"
      ]
     },
     "metadata": {
      "needs_background": "light"
     },
     "output_type": "display_data"
    }
   ],
   "source": [
    "#comparing the results of NN and LR\n",
    "plt.figure(figsize=(15,10))\n",
    "\n",
    "# Neural Network plots\n",
    "plt.plot(acc_nn.accuracies, 'r-', label = \"Training Accuracies - NN\")\n",
    "plt.plot(acc_nn.test_accuracies, 'g-', label = \"Testing Accuracies - NN\")\n",
    "\n",
    "# Logistic Regression plots\n",
    "plt.plot(acc_lr.accuracies, 'k-', label = \"Training Accuracies - LR\")\n",
    "plt.plot(acc_lr.test_accuracies, 'b-', label = \"Testing Accuracies - LR\")\n",
    "plt.legend()"
   ]
  },
  {
   "cell_type": "markdown",
   "id": "80dfb35c",
   "metadata": {
    "papermill": {
     "duration": 0.047378,
     "end_time": "2022-07-06T20:12:20.911531",
     "exception": false,
     "start_time": "2022-07-06T20:12:20.864153",
     "status": "completed"
    },
    "tags": []
   },
   "source": [
    "#### Plotting the outputs of this layer of the NN.\n"
   ]
  },
  {
   "cell_type": "code",
   "execution_count": 25,
   "id": "45eb2ff5",
   "metadata": {
    "execution": {
     "iopub.execute_input": "2022-07-06T20:12:21.013946Z",
     "iopub.status.busy": "2022-07-06T20:12:21.013223Z",
     "iopub.status.idle": "2022-07-06T20:12:21.035323Z",
     "shell.execute_reply": "2022-07-06T20:12:21.035879Z"
    },
    "papermill": {
     "duration": 0.07677,
     "end_time": "2022-07-06T20:12:21.036041",
     "exception": false,
     "start_time": "2022-07-06T20:12:20.959271",
     "status": "completed"
    },
    "tags": []
   },
   "outputs": [],
   "source": [
    "new_model = Model(layers[:-2])\n",
    "testing_plot = new_model(testing_data_x)"
   ]
  },
  {
   "cell_type": "code",
   "execution_count": 26,
   "id": "4c0a5485",
   "metadata": {
    "execution": {
     "iopub.execute_input": "2022-07-06T20:12:21.140039Z",
     "iopub.status.busy": "2022-07-06T20:12:21.137447Z",
     "iopub.status.idle": "2022-07-06T20:12:21.368351Z",
     "shell.execute_reply": "2022-07-06T20:12:21.368932Z"
    },
    "papermill": {
     "duration": 0.28485,
     "end_time": "2022-07-06T20:12:21.369093",
     "exception": false,
     "start_time": "2022-07-06T20:12:21.084243",
     "status": "completed"
    },
    "tags": []
   },
   "outputs": [
    {
     "data": {
      "text/plain": [
       "Text(0.5, 1.0, 'Outputs')"
      ]
     },
     "execution_count": 26,
     "metadata": {},
     "output_type": "execute_result"
    },
    {
     "data": {
      "image/png": "[encoded data removed]",
      "text/plain": [
       "<Figure size 576x504 with 1 Axes>"
      ]
     },
     "metadata": {
      "needs_background": "light"
     },
     "output_type": "display_data"
    }
   ],
   "source": [
    "# Plotting the scatter plot of points and color coding by class\n",
    "plt.figure(figsize=(8,7))\n",
    "plt.scatter(testing_plot[:,0], testing_plot[:,1], alpha = 0.1, c = y_test.ravel());\n",
    "plt.title('Outputs')"
   ]
  },
  {
   "cell_type": "markdown",
   "id": "a74fcf8f",
   "metadata": {
    "papermill": {
     "duration": 0.049098,
     "end_time": "2022-07-06T20:12:21.467859",
     "exception": false,
     "start_time": "2022-07-06T20:12:21.418761",
     "status": "completed"
    },
    "tags": []
   },
   "source": [
    "Probability contours"
   ]
  },
  {
   "cell_type": "code",
   "execution_count": 27,
   "id": "d0afc8e3",
   "metadata": {
    "execution": {
     "iopub.execute_input": "2022-07-06T20:12:21.577324Z",
     "iopub.status.busy": "2022-07-06T20:12:21.575816Z",
     "iopub.status.idle": "2022-07-06T20:12:21.587481Z",
     "shell.execute_reply": "2022-07-06T20:12:21.586814Z"
    },
    "papermill": {
     "duration": 0.070497,
     "end_time": "2022-07-06T20:12:21.587612",
     "exception": false,
     "start_time": "2022-07-06T20:12:21.517115",
     "status": "completed"
    },
    "tags": []
   },
   "outputs": [],
   "source": [
    "model_prob = Model(layers[-2:]) "
   ]
  },
  {
   "cell_type": "code",
   "execution_count": 28,
   "id": "9b96e238",
   "metadata": {
    "execution": {
     "iopub.execute_input": "2022-07-06T20:12:21.730592Z",
     "iopub.status.busy": "2022-07-06T20:12:21.729878Z",
     "iopub.status.idle": "2022-07-06T20:12:21.743777Z",
     "shell.execute_reply": "2022-07-06T20:12:21.744285Z"
    },
    "papermill": {
     "duration": 0.107203,
     "end_time": "2022-07-06T20:12:21.744464",
     "exception": false,
     "start_time": "2022-07-06T20:12:21.637261",
     "status": "completed"
    },
    "tags": []
   },
   "outputs": [],
   "source": [
    "#creating the x and y ranges according to the above generated plot.\n",
    "x_range = np.linspace(-4, 1, 100) \n",
    "y_range = np.linspace(-6, 6, 100) \n",
    "x_grid, y_grid = np.meshgrid(x_range, y_range) # x_grid and y_grig are of size 100 X 100\n",
    "\n",
    "# converting x_grid and y_grid to continuous arrays\n",
    "x_gridflat = np.ravel(x_grid)\n",
    "y_gridflat = np.ravel(y_grid)\n",
    "\n",
    "# The last layer of the current model takes two columns as input. Hence transpose of np.vstack() is required.\n",
    "X = np.vstack((x_gridflat, y_gridflat)).T\n",
    "\n",
    "prob_contour = model_prob(X).reshape(100,100) "
   ]
  },
  {
   "cell_type": "code",
   "execution_count": 29,
   "id": "da72499a",
   "metadata": {
    "execution": {
     "iopub.execute_input": "2022-07-06T20:12:21.854245Z",
     "iopub.status.busy": "2022-07-06T20:12:21.853529Z",
     "iopub.status.idle": "2022-07-06T20:12:22.138991Z",
     "shell.execute_reply": "2022-07-06T20:12:22.139526Z"
    },
    "papermill": {
     "duration": 0.345155,
     "end_time": "2022-07-06T20:12:22.139684",
     "exception": false,
     "start_time": "2022-07-06T20:12:21.794529",
     "status": "completed"
    },
    "tags": []
   },
   "outputs": [
    {
     "data": {
      "image/png": "[encoded data removed]",
      "text/plain": [
       "<Figure size 720x648 with 1 Axes>"
      ]
     },
     "metadata": {
      "needs_background": "light"
     },
     "output_type": "display_data"
    }
   ],
   "source": [
    "plt.figure(figsize=(10,9))\n",
    "plt.scatter(testing_plot[:,0], testing_plot[:,1], alpha = 0.1, c = y_test.ravel())\n",
    "contours = plt.contour(x_grid,y_grid,prob_contour)\n",
    "plt.title('Probability Contours')\n",
    "plt.clabel(contours, inline = True );"
   ]
  },
  {
   "cell_type": "code",
   "execution_count": null,
   "id": "e81b4ac7",
   "metadata": {
    "papermill": {
     "duration": 0.051969,
     "end_time": "2022-07-06T20:12:22.244162",
     "exception": false,
     "start_time": "2022-07-06T20:12:22.192193",
     "status": "completed"
    },
    "tags": []
   },
   "outputs": [],
   "source": []
  }
 ],
 "metadata": {
  "kernelspec": {
   "display_name": "Python 3",
   "language": "python",
   "name": "python3"
  },
  "language_info": {
   "codemirror_mode": {
    "name": "ipython",
    "version": 3
   },
   "file_extension": ".py",
   "mimetype": "text/x-python",
   "name": "python",
   "nbconvert_exporter": "python",
   "pygments_lexer": "ipython3",
   "version": "3.6.15"
  },
  "papermill": {
   "default_parameters": {},
   "duration": 113.781823,
   "end_time": "2022-07-06T20:12:22.716915",
   "environment_variables": {},
   "exception": null,
   "input_path": "2020-08-11-part2.ipynb",
   "output_path": "2020-08-11-part2.ipynb",
   "parameters": {},
   "start_time": "2022-07-06T20:10:28.935092",
   "version": "2.3.3"
  }
 },
 "nbformat": 4,
 "nbformat_minor": 5
}