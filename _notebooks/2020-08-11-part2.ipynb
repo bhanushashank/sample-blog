{
 "cells": [
  {
   "cell_type": "markdown",
   "id": "98380cd3",
   "metadata": {
    "papermill": {
     "duration": 0.03397,
     "end_time": "2022-05-27T20:11:38.814512",
     "exception": false,
     "start_time": "2022-05-27T20:11:38.780542",
     "status": "completed"
    },
    "tags": []
   },
   "source": [
    "# Distinguish Your Own Digits (DYOD)"
   ]
  },
  {
   "cell_type": "markdown",
   "id": "ef31240d",
   "metadata": {
    "papermill": {
     "duration": 0.028089,
     "end_time": "2022-05-27T20:11:38.872492",
     "exception": false,
     "start_time": "2022-05-27T20:11:38.844403",
     "status": "completed"
    },
    "tags": []
   },
   "source": [
    "You are going to write a classifier that distinguishes between the number 3 and number 8."
   ]
  },
  {
   "cell_type": "code",
   "execution_count": 1,
   "id": "b15c8646",
   "metadata": {
    "execution": {
     "iopub.execute_input": "2022-05-27T20:11:38.939649Z",
     "iopub.status.busy": "2022-05-27T20:11:38.938883Z",
     "iopub.status.idle": "2022-05-27T20:11:38.951825Z",
     "shell.execute_reply": "2022-05-27T20:11:38.951151Z"
    },
    "papermill": {
     "duration": 0.051723,
     "end_time": "2022-05-27T20:11:38.952016",
     "exception": false,
     "start_time": "2022-05-27T20:11:38.900293",
     "status": "completed"
    },
    "tags": []
   },
   "outputs": [],
   "source": [
    "%load_ext autoreload\n",
    "%autoreload 2"
   ]
  },
  {
   "cell_type": "code",
   "execution_count": 2,
   "id": "22ef38dc",
   "metadata": {
    "execution": {
     "iopub.execute_input": "2022-05-27T20:11:39.014154Z",
     "iopub.status.busy": "2022-05-27T20:11:39.013251Z",
     "iopub.status.idle": "2022-05-27T20:11:39.635894Z",
     "shell.execute_reply": "2022-05-27T20:11:39.635255Z"
    },
    "papermill": {
     "duration": 0.655328,
     "end_time": "2022-05-27T20:11:39.636046",
     "exception": false,
     "start_time": "2022-05-27T20:11:38.980718",
     "status": "completed"
    },
    "tags": []
   },
   "outputs": [],
   "source": [
    "%matplotlib inline\n",
    "import numpy as np\n",
    "import matplotlib.pyplot as plt\n",
    "import pandas as pd"
   ]
  },
  {
   "cell_type": "markdown",
   "id": "ba036198",
   "metadata": {
    "papermill": {
     "duration": 0.029394,
     "end_time": "2022-05-27T20:11:39.693987",
     "exception": false,
     "start_time": "2022-05-27T20:11:39.664593",
     "status": "completed"
    },
    "tags": []
   },
   "source": [
    "From the command line run `pip install mnist`. This is a library that will help you bring down the mnist dataset. If you run this from a notebook, you need to put  `!pip install mnist` in a cell by itself."
   ]
  },
  {
   "cell_type": "code",
   "execution_count": 3,
   "id": "bb6ad8a1",
   "metadata": {
    "execution": {
     "iopub.execute_input": "2022-05-27T20:11:39.759523Z",
     "iopub.status.busy": "2022-05-27T20:11:39.758817Z",
     "iopub.status.idle": "2022-05-27T20:11:42.452889Z",
     "shell.execute_reply": "2022-05-27T20:11:42.452244Z"
    },
    "papermill": {
     "duration": 2.731203,
     "end_time": "2022-05-27T20:11:42.453043",
     "exception": false,
     "start_time": "2022-05-27T20:11:39.721840",
     "status": "completed"
    },
    "tags": []
   },
   "outputs": [
    {
     "name": "stdout",
     "output_type": "stream",
     "text": [
      "Collecting mnist\r\n"
     ]
    },
    {
     "name": "stdout",
     "output_type": "stream",
     "text": [
      "  Downloading mnist-0.2.2-py2.py3-none-any.whl (3.5 kB)\r\n",
      "Requirement already satisfied: numpy in /opt/hostedtoolcache/Python/3.6.15/x64/lib/python3.6/site-packages (from mnist) (1.19.5)\r\n"
     ]
    },
    {
     "name": "stdout",
     "output_type": "stream",
     "text": [
      "Installing collected packages: mnist\r\n"
     ]
    },
    {
     "name": "stdout",
     "output_type": "stream",
     "text": [
      "Successfully installed mnist-0.2.2\r\n"
     ]
    }
   ],
   "source": [
    "!pip install mnist"
   ]
  },
  {
   "cell_type": "markdown",
   "id": "69df9c9a",
   "metadata": {
    "papermill": {
     "duration": 0.031943,
     "end_time": "2022-05-27T20:11:42.516850",
     "exception": false,
     "start_time": "2022-05-27T20:11:42.484907",
     "status": "completed"
    },
    "tags": []
   },
   "source": [
    "## Preparing the Data"
   ]
  },
  {
   "cell_type": "code",
   "execution_count": 4,
   "id": "7f69d806",
   "metadata": {
    "execution": {
     "iopub.execute_input": "2022-05-27T20:11:42.592371Z",
     "iopub.status.busy": "2022-05-27T20:11:42.591291Z",
     "iopub.status.idle": "2022-05-27T20:11:42.603342Z",
     "shell.execute_reply": "2022-05-27T20:11:42.602724Z"
    },
    "papermill": {
     "duration": 0.055021,
     "end_time": "2022-05-27T20:11:42.603471",
     "exception": false,
     "start_time": "2022-05-27T20:11:42.548450",
     "status": "completed"
    },
    "tags": []
   },
   "outputs": [],
   "source": [
    "import mnist"
   ]
  },
  {
   "cell_type": "code",
   "execution_count": 5,
   "id": "a411e44f",
   "metadata": {
    "execution": {
     "iopub.execute_input": "2022-05-27T20:11:42.668538Z",
     "iopub.status.busy": "2022-05-27T20:11:42.667778Z",
     "iopub.status.idle": "2022-05-27T20:11:43.215924Z",
     "shell.execute_reply": "2022-05-27T20:11:43.216493Z"
    },
    "papermill": {
     "duration": 0.580706,
     "end_time": "2022-05-27T20:11:43.216668",
     "exception": false,
     "start_time": "2022-05-27T20:11:42.635962",
     "status": "completed"
    },
    "tags": []
   },
   "outputs": [],
   "source": [
    "train_images = mnist.train_images()\n",
    "train_labels = mnist.train_labels()"
   ]
  },
  {
   "cell_type": "code",
   "execution_count": 6,
   "id": "dceab3a5",
   "metadata": {
    "execution": {
     "iopub.execute_input": "2022-05-27T20:11:43.296916Z",
     "iopub.status.busy": "2022-05-27T20:11:43.286020Z",
     "iopub.status.idle": "2022-05-27T20:11:43.302642Z",
     "shell.execute_reply": "2022-05-27T20:11:43.303341Z"
    },
    "papermill": {
     "duration": 0.056893,
     "end_time": "2022-05-27T20:11:43.303492",
     "exception": false,
     "start_time": "2022-05-27T20:11:43.246599",
     "status": "completed"
    },
    "tags": []
   },
   "outputs": [
    {
     "data": {
      "text/plain": [
       "((60000, 28, 28), (60000,))"
      ]
     },
     "execution_count": 6,
     "metadata": {},
     "output_type": "execute_result"
    }
   ],
   "source": [
    "train_images.shape, train_labels.shape"
   ]
  },
  {
   "cell_type": "code",
   "execution_count": 7,
   "id": "f50dc2bb",
   "metadata": {
    "execution": {
     "iopub.execute_input": "2022-05-27T20:11:43.380480Z",
     "iopub.status.busy": "2022-05-27T20:11:43.371541Z",
     "iopub.status.idle": "2022-05-27T20:11:43.489321Z",
     "shell.execute_reply": "2022-05-27T20:11:43.488694Z"
    },
    "papermill": {
     "duration": 0.155052,
     "end_time": "2022-05-27T20:11:43.489461",
     "exception": false,
     "start_time": "2022-05-27T20:11:43.334409",
     "status": "completed"
    },
    "tags": []
   },
   "outputs": [],
   "source": [
    "test_images = mnist.test_images()\n",
    "test_labels = mnist.test_labels()"
   ]
  },
  {
   "cell_type": "code",
   "execution_count": 8,
   "id": "fc38cf1b",
   "metadata": {
    "execution": {
     "iopub.execute_input": "2022-05-27T20:11:43.569209Z",
     "iopub.status.busy": "2022-05-27T20:11:43.566929Z",
     "iopub.status.idle": "2022-05-27T20:11:43.573928Z",
     "shell.execute_reply": "2022-05-27T20:11:43.574423Z"
    },
    "papermill": {
     "duration": 0.052689,
     "end_time": "2022-05-27T20:11:43.574565",
     "exception": false,
     "start_time": "2022-05-27T20:11:43.521876",
     "status": "completed"
    },
    "tags": []
   },
   "outputs": [
    {
     "data": {
      "text/plain": [
       "((10000, 28, 28), (10000,))"
      ]
     },
     "execution_count": 8,
     "metadata": {},
     "output_type": "execute_result"
    }
   ],
   "source": [
    "test_images.shape, test_labels.shape"
   ]
  },
  {
   "cell_type": "code",
   "execution_count": 9,
   "id": "f9ed8fe0",
   "metadata": {
    "execution": {
     "iopub.execute_input": "2022-05-27T20:11:43.643905Z",
     "iopub.status.busy": "2022-05-27T20:11:43.638570Z",
     "iopub.status.idle": "2022-05-27T20:11:43.816357Z",
     "shell.execute_reply": "2022-05-27T20:11:43.814902Z"
    },
    "papermill": {
     "duration": 0.211589,
     "end_time": "2022-05-27T20:11:43.816535",
     "exception": false,
     "start_time": "2022-05-27T20:11:43.604946",
     "status": "completed"
    },
    "tags": []
   },
   "outputs": [
    {
     "name": "stdout",
     "output_type": "stream",
     "text": [
      "2\n"
     ]
    },
    {
     "data": {
      "text/plain": [
       "<matplotlib.image.AxesImage at 0x7f207e31aef0>"
      ]
     },
     "execution_count": 9,
     "metadata": {},
     "output_type": "execute_result"
    },
    {
     "data": {
      "image/png": "[encoded data removed]",
      "text/plain": [
       "<Figure size 432x288 with 1 Axes>"
      ]
     },
     "metadata": {
      "needs_background": "light"
     },
     "output_type": "display_data"
    }
   ],
   "source": [
    "image_index = 7776 # You may select anything up to 60,000\n",
    "print(train_labels[image_index]) \n",
    "plt.imshow(train_images[image_index], cmap='Greys')"
   ]
  },
  {
   "cell_type": "markdown",
   "id": "a8d2388d",
   "metadata": {
    "papermill": {
     "duration": 0.0316,
     "end_time": "2022-05-27T20:11:43.881578",
     "exception": false,
     "start_time": "2022-05-27T20:11:43.849978",
     "status": "completed"
    },
    "tags": []
   },
   "source": [
    "## Filter data to get 3 and 8 out"
   ]
  },
  {
   "cell_type": "code",
   "execution_count": 10,
   "id": "776f7fc7",
   "metadata": {
    "execution": {
     "iopub.execute_input": "2022-05-27T20:11:43.961892Z",
     "iopub.status.busy": "2022-05-27T20:11:43.948416Z",
     "iopub.status.idle": "2022-05-27T20:11:43.971703Z",
     "shell.execute_reply": "2022-05-27T20:11:43.972615Z"
    },
    "papermill": {
     "duration": 0.060664,
     "end_time": "2022-05-27T20:11:43.972783",
     "exception": false,
     "start_time": "2022-05-27T20:11:43.912119",
     "status": "completed"
    },
    "tags": []
   },
   "outputs": [],
   "source": [
    "train_filter = np.where((train_labels == 3 ) | (train_labels == 8))\n",
    "test_filter = np.where((test_labels == 3) | (test_labels == 8))\n",
    "X_train, y_train = train_images[train_filter], train_labels[train_filter]\n",
    "X_test, y_test = test_images[test_filter], test_labels[test_filter]"
   ]
  },
  {
   "cell_type": "markdown",
   "id": "948f0b7e",
   "metadata": {
    "papermill": {
     "duration": 0.033128,
     "end_time": "2022-05-27T20:11:44.039243",
     "exception": false,
     "start_time": "2022-05-27T20:11:44.006115",
     "status": "completed"
    },
    "tags": []
   },
   "source": [
    "We normalize the pizel values in the 0 to 1 range"
   ]
  },
  {
   "cell_type": "code",
   "execution_count": 11,
   "id": "ee4c2166",
   "metadata": {
    "execution": {
     "iopub.execute_input": "2022-05-27T20:11:44.113982Z",
     "iopub.status.busy": "2022-05-27T20:11:44.112583Z",
     "iopub.status.idle": "2022-05-27T20:11:44.173983Z",
     "shell.execute_reply": "2022-05-27T20:11:44.173012Z"
    },
    "papermill": {
     "duration": 0.100695,
     "end_time": "2022-05-27T20:11:44.174146",
     "exception": false,
     "start_time": "2022-05-27T20:11:44.073451",
     "status": "completed"
    },
    "tags": []
   },
   "outputs": [],
   "source": [
    "X_train = X_train/255.\n",
    "X_test = X_test/255."
   ]
  },
  {
   "cell_type": "markdown",
   "id": "ddcf4fab",
   "metadata": {
    "papermill": {
     "duration": 0.032663,
     "end_time": "2022-05-27T20:11:44.243452",
     "exception": false,
     "start_time": "2022-05-27T20:11:44.210789",
     "status": "completed"
    },
    "tags": []
   },
   "source": [
    "And setup the labels as 1 (when the digit is 3) and 0 (when the digit is 8)"
   ]
  },
  {
   "cell_type": "code",
   "execution_count": 12,
   "id": "7dc908f2",
   "metadata": {
    "execution": {
     "iopub.execute_input": "2022-05-27T20:11:44.328081Z",
     "iopub.status.busy": "2022-05-27T20:11:44.326705Z",
     "iopub.status.idle": "2022-05-27T20:11:44.330799Z",
     "shell.execute_reply": "2022-05-27T20:11:44.331406Z"
    },
    "papermill": {
     "duration": 0.054747,
     "end_time": "2022-05-27T20:11:44.331571",
     "exception": false,
     "start_time": "2022-05-27T20:11:44.276824",
     "status": "completed"
    },
    "tags": []
   },
   "outputs": [],
   "source": [
    "y_train = 1*(y_train==3)\n",
    "y_test = 1*(y_test==3)"
   ]
  },
  {
   "cell_type": "code",
   "execution_count": 13,
   "id": "01e4e969",
   "metadata": {
    "execution": {
     "iopub.execute_input": "2022-05-27T20:11:44.401454Z",
     "iopub.status.busy": "2022-05-27T20:11:44.396179Z",
     "iopub.status.idle": "2022-05-27T20:11:44.411905Z",
     "shell.execute_reply": "2022-05-27T20:11:44.411245Z"
    },
    "papermill": {
     "duration": 0.048878,
     "end_time": "2022-05-27T20:11:44.412018",
     "exception": false,
     "start_time": "2022-05-27T20:11:44.363140",
     "status": "completed"
    },
    "tags": []
   },
   "outputs": [
    {
     "data": {
      "text/plain": [
       "((11982, 28, 28), (1984, 28, 28))"
      ]
     },
     "execution_count": 13,
     "metadata": {},
     "output_type": "execute_result"
    }
   ],
   "source": [
    "X_train.shape, X_test.shape"
   ]
  },
  {
   "cell_type": "markdown",
   "id": "5ccf3f85",
   "metadata": {
    "papermill": {
     "duration": 0.031851,
     "end_time": "2022-05-27T20:11:44.477147",
     "exception": false,
     "start_time": "2022-05-27T20:11:44.445296",
     "status": "completed"
    },
    "tags": []
   },
   "source": [
    "We reshape the data to flatten the image pixels into a set of features or co-variates:"
   ]
  },
  {
   "cell_type": "code",
   "execution_count": 14,
   "id": "5286a4a3",
   "metadata": {
    "execution": {
     "iopub.execute_input": "2022-05-27T20:11:44.544484Z",
     "iopub.status.busy": "2022-05-27T20:11:44.543789Z",
     "iopub.status.idle": "2022-05-27T20:11:44.559003Z",
     "shell.execute_reply": "2022-05-27T20:11:44.559736Z"
    },
    "papermill": {
     "duration": 0.051911,
     "end_time": "2022-05-27T20:11:44.559910",
     "exception": false,
     "start_time": "2022-05-27T20:11:44.507999",
     "status": "completed"
    },
    "tags": []
   },
   "outputs": [
    {
     "data": {
      "text/plain": [
       "((11982, 784), (1984, 784))"
      ]
     },
     "execution_count": 14,
     "metadata": {},
     "output_type": "execute_result"
    }
   ],
   "source": [
    "X_train = X_train.reshape(X_train.shape[0], -1)\n",
    "X_test = X_test.reshape(X_test.shape[0], -1)\n",
    "X_train.shape, X_test.shape"
   ]
  },
  {
   "cell_type": "code",
   "execution_count": 15,
   "id": "73c5f88a",
   "metadata": {
    "execution": {
     "iopub.execute_input": "2022-05-27T20:11:44.627624Z",
     "iopub.status.busy": "2022-05-27T20:11:44.626755Z",
     "iopub.status.idle": "2022-05-27T20:11:44.648771Z",
     "shell.execute_reply": "2022-05-27T20:11:44.648160Z"
    },
    "papermill": {
     "duration": 0.05752,
     "end_time": "2022-05-27T20:11:44.648886",
     "exception": false,
     "start_time": "2022-05-27T20:11:44.591366",
     "status": "completed"
    },
    "tags": []
   },
   "outputs": [],
   "source": [
    "#Impoting functions from 'Kudzu'\n",
    "from kudzu.model import Model\n",
    "from kudzu.train import Learner\n",
    "from kudzu.optim import GD\n",
    "from kudzu.data import Data, Sampler,Dataloader\n",
    "\n",
    "from kudzu.callbacks import AccCallback\n",
    "from kudzu.callbacks import ClfCallback\n",
    "\n",
    "from kudzu.loss import MSE\n",
    "\n",
    "from kudzu.layer import Sigmoid,Relu\n",
    "from kudzu.layer import Affine"
   ]
  },
  {
   "cell_type": "markdown",
   "id": "bc01172a",
   "metadata": {
    "papermill": {
     "duration": 0.031747,
     "end_time": "2022-05-27T20:11:44.713095",
     "exception": false,
     "start_time": "2022-05-27T20:11:44.681348",
     "status": "completed"
    },
    "tags": []
   },
   "source": [
    "### Let us create a `Config` class, to store important parameters. \n",
    "This class essentially plays the role of a dictionary."
   ]
  },
  {
   "cell_type": "code",
   "execution_count": 16,
   "id": "978281aa",
   "metadata": {
    "execution": {
     "iopub.execute_input": "2022-05-27T20:11:44.779407Z",
     "iopub.status.busy": "2022-05-27T20:11:44.778660Z",
     "iopub.status.idle": "2022-05-27T20:11:44.792346Z",
     "shell.execute_reply": "2022-05-27T20:11:44.791806Z"
    },
    "papermill": {
     "duration": 0.048158,
     "end_time": "2022-05-27T20:11:44.792490",
     "exception": false,
     "start_time": "2022-05-27T20:11:44.744332",
     "status": "completed"
    },
    "tags": []
   },
   "outputs": [],
   "source": [
    "class Config:\n",
    "    pass\n",
    "config = Config()\n",
    "config.lr = 0.001\n",
    "config.num_epochs = 250\n",
    "config.bs = 50"
   ]
  },
  {
   "cell_type": "markdown",
   "id": "1385fa59",
   "metadata": {
    "papermill": {
     "duration": 0.033643,
     "end_time": "2022-05-27T20:11:44.858137",
     "exception": false,
     "start_time": "2022-05-27T20:11:44.824494",
     "status": "completed"
    },
    "tags": []
   },
   "source": [
    "### Running Models with the Training data\n",
    "Details about the network layers:\n",
    "- A first affine layer has 784 inputs and does 100 affine transforms. These are followed by a Relu\n",
    "- A second affine layer has 100 inputs from the 100 activations of the past layer, and does 100 affine transforms. These are followed by a Relu\n",
    "- A third affine layer has 100 activations and does 2 affine transformations to create an embedding for visualization. There is no non-linearity here.\n",
    "- A final \"logistic regression\" which has an affine transform from 2 inputs to 1 output, which is squeezed through a sigmoid.\n"
   ]
  },
  {
   "cell_type": "code",
   "execution_count": 17,
   "id": "2b9c66db",
   "metadata": {
    "execution": {
     "iopub.execute_input": "2022-05-27T20:11:44.929685Z",
     "iopub.status.busy": "2022-05-27T20:11:44.928927Z",
     "iopub.status.idle": "2022-05-27T20:11:44.943429Z",
     "shell.execute_reply": "2022-05-27T20:11:44.942866Z"
    },
    "papermill": {
     "duration": 0.052735,
     "end_time": "2022-05-27T20:11:44.943575",
     "exception": false,
     "start_time": "2022-05-27T20:11:44.890840",
     "status": "completed"
    },
    "tags": []
   },
   "outputs": [],
   "source": [
    "data = Data(X_train, y_train.reshape(-1,1))\n",
    "sampler = Sampler(data, config.bs, shuffle=True)\n",
    "\n",
    "dl = Dataloader(data, sampler)\n",
    "\n",
    "opt = GD(config.lr)\n",
    "loss = MSE()"
   ]
  },
  {
   "cell_type": "code",
   "execution_count": 18,
   "id": "b275e4c2",
   "metadata": {
    "execution": {
     "iopub.execute_input": "2022-05-27T20:11:45.016611Z",
     "iopub.status.busy": "2022-05-27T20:11:45.015838Z",
     "iopub.status.idle": "2022-05-27T20:11:45.027429Z",
     "shell.execute_reply": "2022-05-27T20:11:45.028029Z"
    },
    "papermill": {
     "duration": 0.051301,
     "end_time": "2022-05-27T20:11:45.028158",
     "exception": false,
     "start_time": "2022-05-27T20:11:44.976857",
     "status": "completed"
    },
    "tags": []
   },
   "outputs": [],
   "source": [
    "training_data_x = X_train\n",
    "testing_data_x = X_test\n",
    "training_data_y = y_train.reshape(-1,1)\n",
    "testing_data_y = y_test.reshape(-1,1)"
   ]
  },
  {
   "cell_type": "code",
   "execution_count": 19,
   "id": "76951160",
   "metadata": {
    "execution": {
     "iopub.execute_input": "2022-05-27T20:11:45.097008Z",
     "iopub.status.busy": "2022-05-27T20:11:45.096308Z",
     "iopub.status.idle": "2022-05-27T20:11:45.113746Z",
     "shell.execute_reply": "2022-05-27T20:11:45.113206Z"
    },
    "papermill": {
     "duration": 0.053233,
     "end_time": "2022-05-27T20:11:45.113875",
     "exception": false,
     "start_time": "2022-05-27T20:11:45.060642",
     "status": "completed"
    },
    "tags": []
   },
   "outputs": [
    {
     "name": "stdout",
     "output_type": "stream",
     "text": [
      "xavier\n",
      "xavier\n",
      "xavier\n",
      "xavier\n",
      "xavier\n"
     ]
    }
   ],
   "source": [
    "layers = [Affine(\"first\", 784, 100), Relu(\"first\"), Affine(\"second\", 100, 100), Relu(\"second\"), Affine(\"third\", 100, 2), Affine(\"last\", 2, 1), Sigmoid(\"last\")]\n",
    "model_nn = Model(layers)\n",
    "model_lr = Model([Affine(\"logits\", 784, 1), Sigmoid(\"sigmoid\")])"
   ]
  },
  {
   "cell_type": "code",
   "execution_count": 20,
   "id": "6eede77a",
   "metadata": {
    "execution": {
     "iopub.execute_input": "2022-05-27T20:11:45.187715Z",
     "iopub.status.busy": "2022-05-27T20:11:45.186903Z",
     "iopub.status.idle": "2022-05-27T20:11:45.201906Z",
     "shell.execute_reply": "2022-05-27T20:11:45.201189Z"
    },
    "papermill": {
     "duration": 0.055289,
     "end_time": "2022-05-27T20:11:45.202051",
     "exception": false,
     "start_time": "2022-05-27T20:11:45.146762",
     "status": "completed"
    },
    "tags": []
   },
   "outputs": [],
   "source": [
    "nn_learner = Learner(loss, model_nn, opt, config.num_epochs)\n",
    "acc_nn = ClfCallback(nn_learner, config.bs, training_data_x , testing_data_x, training_data_y, testing_data_y)\n",
    "nn_learner.set_callbacks([acc_nn])"
   ]
  },
  {
   "cell_type": "code",
   "execution_count": 21,
   "id": "877b6cc7",
   "metadata": {
    "execution": {
     "iopub.execute_input": "2022-05-27T20:11:45.280266Z",
     "iopub.status.busy": "2022-05-27T20:11:45.279431Z",
     "iopub.status.idle": "2022-05-27T20:11:45.293467Z",
     "shell.execute_reply": "2022-05-27T20:11:45.294140Z"
    },
    "papermill": {
     "duration": 0.052671,
     "end_time": "2022-05-27T20:11:45.294281",
     "exception": false,
     "start_time": "2022-05-27T20:11:45.241610",
     "status": "completed"
    },
    "tags": []
   },
   "outputs": [],
   "source": [
    "lr_learner = Learner(loss, model_lr, opt, config.num_epochs)\n",
    "acc_lr = ClfCallback(lr_learner, config.bs, training_data_x , testing_data_x, training_data_y, testing_data_y)\n",
    "lr_learner.set_callbacks([acc_lr])"
   ]
  },
  {
   "cell_type": "code",
   "execution_count": 22,
   "id": "d9b133c3",
   "metadata": {
    "execution": {
     "iopub.execute_input": "2022-05-27T20:11:45.366225Z",
     "iopub.status.busy": "2022-05-27T20:11:45.365489Z",
     "iopub.status.idle": "2022-05-27T20:13:48.405364Z",
     "shell.execute_reply": "2022-05-27T20:13:48.406393Z"
    },
    "papermill": {
     "duration": 123.079665,
     "end_time": "2022-05-27T20:13:48.406592",
     "exception": false,
     "start_time": "2022-05-27T20:11:45.326927",
     "status": "completed"
    },
    "tags": []
   },
   "outputs": [
    {
     "name": "stdout",
     "output_type": "stream",
     "text": [
      "Epoch 0, Loss 0.2414\n",
      "Training Accuracy: 0.7290, Testing Accuracy: 0.7349\n",
      "\n"
     ]
    },
    {
     "name": "stdout",
     "output_type": "stream",
     "text": [
      "Epoch 10, Loss 0.0734\n",
      "Training Accuracy: 0.9291, Testing Accuracy: 0.9441\n",
      "\n"
     ]
    },
    {
     "name": "stdout",
     "output_type": "stream",
     "text": [
      "Epoch 20, Loss 0.0493\n",
      "Training Accuracy: 0.9481, Testing Accuracy: 0.9597\n",
      "\n"
     ]
    },
    {
     "name": "stdout",
     "output_type": "stream",
     "text": [
      "Epoch 30, Loss 0.0404\n",
      "Training Accuracy: 0.9546, Testing Accuracy: 0.9627\n",
      "\n"
     ]
    },
    {
     "name": "stdout",
     "output_type": "stream",
     "text": [
      "Epoch 40, Loss 0.0358\n",
      "Training Accuracy: 0.9592, Testing Accuracy: 0.9677\n",
      "\n"
     ]
    },
    {
     "name": "stdout",
     "output_type": "stream",
     "text": [
      "Epoch 50, Loss 0.0328\n",
      "Training Accuracy: 0.9633, Testing Accuracy: 0.9703\n",
      "\n"
     ]
    },
    {
     "name": "stdout",
     "output_type": "stream",
     "text": [
      "Epoch 60, Loss 0.0307\n",
      "Training Accuracy: 0.9643, Testing Accuracy: 0.9703\n",
      "\n"
     ]
    },
    {
     "name": "stdout",
     "output_type": "stream",
     "text": [
      "Epoch 70, Loss 0.0291\n",
      "Training Accuracy: 0.9657, Testing Accuracy: 0.9713\n",
      "\n"
     ]
    },
    {
     "name": "stdout",
     "output_type": "stream",
     "text": [
      "Epoch 80, Loss 0.0278\n",
      "Training Accuracy: 0.9670, Testing Accuracy: 0.9718\n",
      "\n"
     ]
    },
    {
     "name": "stdout",
     "output_type": "stream",
     "text": [
      "Epoch 90, Loss 0.0267\n",
      "Training Accuracy: 0.9685, Testing Accuracy: 0.9718\n",
      "\n"
     ]
    },
    {
     "name": "stdout",
     "output_type": "stream",
     "text": [
      "Epoch 100, Loss 0.0258\n",
      "Training Accuracy: 0.9697, Testing Accuracy: 0.9728\n",
      "\n"
     ]
    },
    {
     "name": "stdout",
     "output_type": "stream",
     "text": [
      "Epoch 110, Loss 0.025\n",
      "Training Accuracy: 0.9705, Testing Accuracy: 0.9728\n",
      "\n"
     ]
    },
    {
     "name": "stdout",
     "output_type": "stream",
     "text": [
      "Epoch 120, Loss 0.0242\n",
      "Training Accuracy: 0.9712, Testing Accuracy: 0.9733\n",
      "\n"
     ]
    },
    {
     "name": "stdout",
     "output_type": "stream",
     "text": [
      "Epoch 130, Loss 0.0235\n",
      "Training Accuracy: 0.9725, Testing Accuracy: 0.9728\n",
      "\n"
     ]
    },
    {
     "name": "stdout",
     "output_type": "stream",
     "text": [
      "Epoch 140, Loss 0.0229\n",
      "Training Accuracy: 0.9733, Testing Accuracy: 0.9733\n",
      "\n"
     ]
    },
    {
     "name": "stdout",
     "output_type": "stream",
     "text": [
      "Epoch 150, Loss 0.0223\n",
      "Training Accuracy: 0.9744, Testing Accuracy: 0.9728\n",
      "\n"
     ]
    },
    {
     "name": "stdout",
     "output_type": "stream",
     "text": [
      "Epoch 160, Loss 0.0218\n",
      "Training Accuracy: 0.9754, Testing Accuracy: 0.9718\n",
      "\n"
     ]
    },
    {
     "name": "stdout",
     "output_type": "stream",
     "text": [
      "Epoch 170, Loss 0.0213\n",
      "Training Accuracy: 0.9760, Testing Accuracy: 0.9713\n",
      "\n"
     ]
    },
    {
     "name": "stdout",
     "output_type": "stream",
     "text": [
      "Epoch 180, Loss 0.0208\n",
      "Training Accuracy: 0.9768, Testing Accuracy: 0.9723\n",
      "\n"
     ]
    },
    {
     "name": "stdout",
     "output_type": "stream",
     "text": [
      "Epoch 190, Loss 0.0203\n",
      "Training Accuracy: 0.9774, Testing Accuracy: 0.9723\n",
      "\n"
     ]
    },
    {
     "name": "stdout",
     "output_type": "stream",
     "text": [
      "Epoch 200, Loss 0.0199\n",
      "Training Accuracy: 0.9781, Testing Accuracy: 0.9723\n",
      "\n"
     ]
    },
    {
     "name": "stdout",
     "output_type": "stream",
     "text": [
      "Epoch 210, Loss 0.0195\n",
      "Training Accuracy: 0.9786, Testing Accuracy: 0.9718\n",
      "\n"
     ]
    },
    {
     "name": "stdout",
     "output_type": "stream",
     "text": [
      "Epoch 220, Loss 0.019\n",
      "Training Accuracy: 0.9792, Testing Accuracy: 0.9728\n",
      "\n"
     ]
    },
    {
     "name": "stdout",
     "output_type": "stream",
     "text": [
      "Epoch 230, Loss 0.0186\n",
      "Training Accuracy: 0.9799, Testing Accuracy: 0.9733\n",
      "\n"
     ]
    },
    {
     "name": "stdout",
     "output_type": "stream",
     "text": [
      "Epoch 240, Loss 0.0183\n",
      "Training Accuracy: 0.9806, Testing Accuracy: 0.9743\n",
      "\n"
     ]
    },
    {
     "data": {
      "text/plain": [
       "0.006716297147472147"
      ]
     },
     "execution_count": 22,
     "metadata": {},
     "output_type": "execute_result"
    }
   ],
   "source": [
    "nn_learner.train_loop(dl)"
   ]
  },
  {
   "cell_type": "code",
   "execution_count": 23,
   "id": "e0163366",
   "metadata": {
    "execution": {
     "iopub.execute_input": "2022-05-27T20:13:48.502209Z",
     "iopub.status.busy": "2022-05-27T20:13:48.501176Z",
     "iopub.status.idle": "2022-05-27T20:14:06.380154Z",
     "shell.execute_reply": "2022-05-27T20:14:06.381144Z"
    },
    "papermill": {
     "duration": 17.932572,
     "end_time": "2022-05-27T20:14:06.381305",
     "exception": false,
     "start_time": "2022-05-27T20:13:48.448733",
     "status": "completed"
    },
    "tags": []
   },
   "outputs": [
    {
     "name": "stdout",
     "output_type": "stream",
     "text": [
      "Epoch 0, Loss 0.2472\n",
      "Training Accuracy: 0.6945, Testing Accuracy: 0.6789\n",
      "\n"
     ]
    },
    {
     "name": "stdout",
     "output_type": "stream",
     "text": [
      "Epoch 10, Loss 0.0995\n",
      "Training Accuracy: 0.9234, Testing Accuracy: 0.9370\n",
      "\n"
     ]
    },
    {
     "name": "stdout",
     "output_type": "stream",
     "text": [
      "Epoch 20, Loss 0.0763\n",
      "Training Accuracy: 0.9361, Testing Accuracy: 0.9506\n",
      "\n"
     ]
    },
    {
     "name": "stdout",
     "output_type": "stream",
     "text": [
      "Epoch 30, Loss 0.066\n",
      "Training Accuracy: 0.9413, Testing Accuracy: 0.9577\n",
      "\n"
     ]
    },
    {
     "name": "stdout",
     "output_type": "stream",
     "text": [
      "Epoch 40, Loss 0.0599\n",
      "Training Accuracy: 0.9452, Testing Accuracy: 0.9607\n",
      "\n"
     ]
    },
    {
     "name": "stdout",
     "output_type": "stream",
     "text": [
      "Epoch 50, Loss 0.0557\n",
      "Training Accuracy: 0.9473, Testing Accuracy: 0.9597\n",
      "\n"
     ]
    },
    {
     "name": "stdout",
     "output_type": "stream",
     "text": [
      "Epoch 60, Loss 0.0527\n",
      "Training Accuracy: 0.9490, Testing Accuracy: 0.9612\n",
      "\n"
     ]
    },
    {
     "name": "stdout",
     "output_type": "stream",
     "text": [
      "Epoch 70, Loss 0.0503\n",
      "Training Accuracy: 0.9508, Testing Accuracy: 0.9622\n",
      "\n"
     ]
    },
    {
     "name": "stdout",
     "output_type": "stream",
     "text": [
      "Epoch 80, Loss 0.0484\n",
      "Training Accuracy: 0.9530, Testing Accuracy: 0.9632\n",
      "\n"
     ]
    },
    {
     "name": "stdout",
     "output_type": "stream",
     "text": [
      "Epoch 90, Loss 0.0468\n",
      "Training Accuracy: 0.9536, Testing Accuracy: 0.9652\n",
      "\n"
     ]
    },
    {
     "name": "stdout",
     "output_type": "stream",
     "text": [
      "Epoch 100, Loss 0.0455\n",
      "Training Accuracy: 0.9546, Testing Accuracy: 0.9652\n",
      "\n"
     ]
    },
    {
     "name": "stdout",
     "output_type": "stream",
     "text": [
      "Epoch 110, Loss 0.0443\n",
      "Training Accuracy: 0.9553, Testing Accuracy: 0.9657\n",
      "\n"
     ]
    },
    {
     "name": "stdout",
     "output_type": "stream",
     "text": [
      "Epoch 120, Loss 0.0433\n",
      "Training Accuracy: 0.9559, Testing Accuracy: 0.9667\n",
      "\n"
     ]
    },
    {
     "name": "stdout",
     "output_type": "stream",
     "text": [
      "Epoch 130, Loss 0.0424\n",
      "Training Accuracy: 0.9565, Testing Accuracy: 0.9667\n",
      "\n"
     ]
    },
    {
     "name": "stdout",
     "output_type": "stream",
     "text": [
      "Epoch 140, Loss 0.0416\n",
      "Training Accuracy: 0.9569, Testing Accuracy: 0.9667\n",
      "\n"
     ]
    },
    {
     "name": "stdout",
     "output_type": "stream",
     "text": [
      "Epoch 150, Loss 0.0409\n",
      "Training Accuracy: 0.9574, Testing Accuracy: 0.9662\n",
      "\n"
     ]
    },
    {
     "name": "stdout",
     "output_type": "stream",
     "text": [
      "Epoch 160, Loss 0.0403\n",
      "Training Accuracy: 0.9578, Testing Accuracy: 0.9667\n",
      "\n"
     ]
    },
    {
     "name": "stdout",
     "output_type": "stream",
     "text": [
      "Epoch 170, Loss 0.0397\n",
      "Training Accuracy: 0.9583, Testing Accuracy: 0.9672\n",
      "\n"
     ]
    },
    {
     "name": "stdout",
     "output_type": "stream",
     "text": [
      "Epoch 180, Loss 0.0392\n",
      "Training Accuracy: 0.9585, Testing Accuracy: 0.9672\n",
      "\n"
     ]
    },
    {
     "name": "stdout",
     "output_type": "stream",
     "text": [
      "Epoch 190, Loss 0.0387\n",
      "Training Accuracy: 0.9590, Testing Accuracy: 0.9672\n",
      "\n"
     ]
    },
    {
     "name": "stdout",
     "output_type": "stream",
     "text": [
      "Epoch 200, Loss 0.0382\n",
      "Training Accuracy: 0.9590, Testing Accuracy: 0.9672\n",
      "\n"
     ]
    },
    {
     "name": "stdout",
     "output_type": "stream",
     "text": [
      "Epoch 210, Loss 0.0378\n",
      "Training Accuracy: 0.9594, Testing Accuracy: 0.9672\n",
      "\n"
     ]
    },
    {
     "name": "stdout",
     "output_type": "stream",
     "text": [
      "Epoch 220, Loss 0.0374\n",
      "Training Accuracy: 0.9598, Testing Accuracy: 0.9672\n",
      "\n"
     ]
    },
    {
     "name": "stdout",
     "output_type": "stream",
     "text": [
      "Epoch 230, Loss 0.037\n",
      "Training Accuracy: 0.9601, Testing Accuracy: 0.9672\n",
      "\n"
     ]
    },
    {
     "name": "stdout",
     "output_type": "stream",
     "text": [
      "Epoch 240, Loss 0.0367\n",
      "Training Accuracy: 0.9604, Testing Accuracy: 0.9672\n",
      "\n"
     ]
    },
    {
     "data": {
      "text/plain": [
       "0.03365192627345014"
      ]
     },
     "execution_count": 23,
     "metadata": {},
     "output_type": "execute_result"
    }
   ],
   "source": [
    "lr_learner.train_loop(dl)"
   ]
  },
  {
   "cell_type": "code",
   "execution_count": 24,
   "id": "ca410940",
   "metadata": {
    "execution": {
     "iopub.execute_input": "2022-05-27T20:14:06.486467Z",
     "iopub.status.busy": "2022-05-27T20:14:06.485634Z",
     "iopub.status.idle": "2022-05-27T20:14:06.770005Z",
     "shell.execute_reply": "2022-05-27T20:14:06.770677Z"
    },
    "papermill": {
     "duration": 0.338744,
     "end_time": "2022-05-27T20:14:06.770829",
     "exception": false,
     "start_time": "2022-05-27T20:14:06.432085",
     "status": "completed"
    },
    "tags": []
   },
   "outputs": [
    {
     "data": {
      "text/plain": [
       "<matplotlib.legend.Legend at 0x7f207de8a668>"
      ]
     },
     "execution_count": 24,
     "metadata": {},
     "output_type": "execute_result"
    },
    {
     "data": {
      "image/png": "[encoded data removed]",
      "text/plain": [
       "<Figure size 1080x720 with 1 Axes>"
      ]
     },
     "metadata": {
      "needs_background": "light"
     },
     "output_type": "display_data"
    }
   ],
   "source": [
    "#comparing the results of NN and LR\n",
    "plt.figure(figsize=(15,10))\n",
    "\n",
    "# Neural Network plots\n",
    "plt.plot(acc_nn.accuracies, 'r-', label = \"Training Accuracies - NN\")\n",
    "plt.plot(acc_nn.test_accuracies, 'g-', label = \"Testing Accuracies - NN\")\n",
    "\n",
    "# Logistic Regression plots\n",
    "plt.plot(acc_lr.accuracies, 'k-', label = \"Training Accuracies - LR\")\n",
    "plt.plot(acc_lr.test_accuracies, 'b-', label = \"Testing Accuracies - LR\")\n",
    "plt.legend()"
   ]
  },
  {
   "cell_type": "markdown",
   "id": "80dfb35c",
   "metadata": {
    "papermill": {
     "duration": 0.048909,
     "end_time": "2022-05-27T20:14:06.871492",
     "exception": false,
     "start_time": "2022-05-27T20:14:06.822583",
     "status": "completed"
    },
    "tags": []
   },
   "source": [
    "#### Plotting the outputs of this layer of the NN.\n"
   ]
  },
  {
   "cell_type": "code",
   "execution_count": 25,
   "id": "45eb2ff5",
   "metadata": {
    "execution": {
     "iopub.execute_input": "2022-05-27T20:14:06.976182Z",
     "iopub.status.busy": "2022-05-27T20:14:06.975457Z",
     "iopub.status.idle": "2022-05-27T20:14:06.998465Z",
     "shell.execute_reply": "2022-05-27T20:14:06.999403Z"
    },
    "papermill": {
     "duration": 0.079598,
     "end_time": "2022-05-27T20:14:06.999613",
     "exception": false,
     "start_time": "2022-05-27T20:14:06.920015",
     "status": "completed"
    },
    "tags": []
   },
   "outputs": [],
   "source": [
    "new_model = Model(layers[:-2])\n",
    "testing_plot = new_model(testing_data_x)"
   ]
  },
  {
   "cell_type": "code",
   "execution_count": 26,
   "id": "4c0a5485",
   "metadata": {
    "execution": {
     "iopub.execute_input": "2022-05-27T20:14:07.114556Z",
     "iopub.status.busy": "2022-05-27T20:14:07.113819Z",
     "iopub.status.idle": "2022-05-27T20:14:07.371388Z",
     "shell.execute_reply": "2022-05-27T20:14:07.371961Z"
    },
    "papermill": {
     "duration": 0.320755,
     "end_time": "2022-05-27T20:14:07.372123",
     "exception": false,
     "start_time": "2022-05-27T20:14:07.051368",
     "status": "completed"
    },
    "tags": []
   },
   "outputs": [
    {
     "data": {
      "text/plain": [
       "Text(0.5, 1.0, 'Outputs')"
      ]
     },
     "execution_count": 26,
     "metadata": {},
     "output_type": "execute_result"
    },
    {
     "data": {
      "image/png": "[encoded data removed]",
      "text/plain": [
       "<Figure size 576x504 with 1 Axes>"
      ]
     },
     "metadata": {
      "needs_background": "light"
     },
     "output_type": "display_data"
    }
   ],
   "source": [
    "# Plotting the scatter plot of points and color coding by class\n",
    "plt.figure(figsize=(8,7))\n",
    "plt.scatter(testing_plot[:,0], testing_plot[:,1], alpha = 0.1, c = y_test.ravel());\n",
    "plt.title('Outputs')"
   ]
  },
  {
   "cell_type": "markdown",
   "id": "a74fcf8f",
   "metadata": {
    "papermill": {
     "duration": 0.085569,
     "end_time": "2022-05-27T20:14:07.513099",
     "exception": false,
     "start_time": "2022-05-27T20:14:07.427530",
     "status": "completed"
    },
    "tags": []
   },
   "source": [
    "Probability contours"
   ]
  },
  {
   "cell_type": "code",
   "execution_count": 27,
   "id": "d0afc8e3",
   "metadata": {
    "execution": {
     "iopub.execute_input": "2022-05-27T20:14:07.628480Z",
     "iopub.status.busy": "2022-05-27T20:14:07.627718Z",
     "iopub.status.idle": "2022-05-27T20:14:07.640159Z",
     "shell.execute_reply": "2022-05-27T20:14:07.640894Z"
    },
    "papermill": {
     "duration": 0.074391,
     "end_time": "2022-05-27T20:14:07.641115",
     "exception": false,
     "start_time": "2022-05-27T20:14:07.566724",
     "status": "completed"
    },
    "tags": []
   },
   "outputs": [],
   "source": [
    "model_prob = Model(layers[-2:]) "
   ]
  },
  {
   "cell_type": "code",
   "execution_count": 28,
   "id": "9b96e238",
   "metadata": {
    "execution": {
     "iopub.execute_input": "2022-05-27T20:14:07.752685Z",
     "iopub.status.busy": "2022-05-27T20:14:07.751958Z",
     "iopub.status.idle": "2022-05-27T20:14:07.767151Z",
     "shell.execute_reply": "2022-05-27T20:14:07.768025Z"
    },
    "papermill": {
     "duration": 0.073469,
     "end_time": "2022-05-27T20:14:07.768180",
     "exception": false,
     "start_time": "2022-05-27T20:14:07.694711",
     "status": "completed"
    },
    "tags": []
   },
   "outputs": [],
   "source": [
    "#creating the x and y ranges according to the above generated plot.\n",
    "x_range = np.linspace(-4, 1, 100) \n",
    "y_range = np.linspace(-6, 6, 100) \n",
    "x_grid, y_grid = np.meshgrid(x_range, y_range) # x_grid and y_grig are of size 100 X 100\n",
    "\n",
    "# converting x_grid and y_grid to continuous arrays\n",
    "x_gridflat = np.ravel(x_grid)\n",
    "y_gridflat = np.ravel(y_grid)\n",
    "\n",
    "# The last layer of the current model takes two columns as input. Hence transpose of np.vstack() is required.\n",
    "X = np.vstack((x_gridflat, y_gridflat)).T\n",
    "\n",
    "prob_contour = model_prob(X).reshape(100,100) "
   ]
  },
  {
   "cell_type": "code",
   "execution_count": 29,
   "id": "da72499a",
   "metadata": {
    "execution": {
     "iopub.execute_input": "2022-05-27T20:14:07.885267Z",
     "iopub.status.busy": "2022-05-27T20:14:07.884562Z",
     "iopub.status.idle": "2022-05-27T20:14:08.199496Z",
     "shell.execute_reply": "2022-05-27T20:14:08.198726Z"
    },
    "papermill": {
     "duration": 0.376876,
     "end_time": "2022-05-27T20:14:08.199683",
     "exception": false,
     "start_time": "2022-05-27T20:14:07.822807",
     "status": "completed"
    },
    "tags": []
   },
   "outputs": [
    {
     "data": {
      "image/png": "[encoded data removed]",
      "text/plain": [
       "<Figure size 720x648 with 1 Axes>"
      ]
     },
     "metadata": {
      "needs_background": "light"
     },
     "output_type": "display_data"
    }
   ],
   "source": [
    "plt.figure(figsize=(10,9))\n",
    "plt.scatter(testing_plot[:,0], testing_plot[:,1], alpha = 0.1, c = y_test.ravel())\n",
    "contours = plt.contour(x_grid,y_grid,prob_contour)\n",
    "plt.title('Probability Contours')\n",
    "plt.clabel(contours, inline = True );"
   ]
  },
  {
   "cell_type": "code",
   "execution_count": null,
   "id": "e81b4ac7",
   "metadata": {
    "papermill": {
     "duration": 0.056646,
     "end_time": "2022-05-27T20:14:08.315858",
     "exception": false,
     "start_time": "2022-05-27T20:14:08.259212",
     "status": "completed"
    },
    "tags": []
   },
   "outputs": [],
   "source": []
  }
 ],
 "metadata": {
  "kernelspec": {
   "display_name": "Python 3",
   "language": "python",
   "name": "python3"
  },
  "language_info": {
   "codemirror_mode": {
    "name": "ipython",
    "version": 3
   },
   "file_extension": ".py",
   "mimetype": "text/x-python",
   "name": "python",
   "nbconvert_exporter": "python",
   "pygments_lexer": "ipython3",
   "version": "3.6.15"
  },
  "papermill": {
   "default_parameters": {},
   "duration": 151.306162,
   "end_time": "2022-05-27T20:14:08.793509",
   "environment_variables": {},
   "exception": null,
   "input_path": "2020-08-11-part2.ipynb",
   "output_path": "2020-08-11-part2.ipynb",
   "parameters": {},
   "start_time": "2022-05-27T20:11:37.487347",
   "version": "2.3.3"
  }
 },
 "nbformat": 4,
 "nbformat_minor": 5
}