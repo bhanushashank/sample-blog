{
 "cells": [
  {
   "cell_type": "markdown",
   "id": "98380cd3",
   "metadata": {
    "papermill": {
     "duration": 0.028855,
     "end_time": "2022-04-17T10:09:36.139688",
     "exception": false,
     "start_time": "2022-04-17T10:09:36.110833",
     "status": "completed"
    },
    "tags": []
   },
   "source": [
    "# Distinguish Your Own Digits (DYOD)"
   ]
  },
  {
   "cell_type": "markdown",
   "id": "ef31240d",
   "metadata": {
    "papermill": {
     "duration": 0.025155,
     "end_time": "2022-04-17T10:09:36.189158",
     "exception": false,
     "start_time": "2022-04-17T10:09:36.164003",
     "status": "completed"
    },
    "tags": []
   },
   "source": [
    "You are going to write a classifier that distinguishes between the number 3 and number 8."
   ]
  },
  {
   "cell_type": "code",
   "execution_count": 1,
   "id": "b15c8646",
   "metadata": {
    "execution": {
     "iopub.execute_input": "2022-04-17T10:09:36.247048Z",
     "iopub.status.busy": "2022-04-17T10:09:36.246507Z",
     "iopub.status.idle": "2022-04-17T10:09:36.256988Z",
     "shell.execute_reply": "2022-04-17T10:09:36.256560Z"
    },
    "papermill": {
     "duration": 0.044337,
     "end_time": "2022-04-17T10:09:36.257114",
     "exception": false,
     "start_time": "2022-04-17T10:09:36.212777",
     "status": "completed"
    },
    "tags": []
   },
   "outputs": [],
   "source": [
    "%load_ext autoreload\n",
    "%autoreload 2"
   ]
  },
  {
   "cell_type": "code",
   "execution_count": 2,
   "id": "22ef38dc",
   "metadata": {
    "execution": {
     "iopub.execute_input": "2022-04-17T10:09:36.320845Z",
     "iopub.status.busy": "2022-04-17T10:09:36.317873Z",
     "iopub.status.idle": "2022-04-17T10:09:36.841465Z",
     "shell.execute_reply": "2022-04-17T10:09:36.840948Z"
    },
    "papermill": {
     "duration": 0.560639,
     "end_time": "2022-04-17T10:09:36.841604",
     "exception": false,
     "start_time": "2022-04-17T10:09:36.280965",
     "status": "completed"
    },
    "tags": []
   },
   "outputs": [],
   "source": [
    "%matplotlib inline\n",
    "import numpy as np\n",
    "import matplotlib.pyplot as plt\n",
    "import pandas as pd"
   ]
  },
  {
   "cell_type": "markdown",
   "id": "ba036198",
   "metadata": {
    "papermill": {
     "duration": 0.023832,
     "end_time": "2022-04-17T10:09:36.889313",
     "exception": false,
     "start_time": "2022-04-17T10:09:36.865481",
     "status": "completed"
    },
    "tags": []
   },
   "source": [
    "From the command line run `pip install mnist`. This is a library that will help you bring down the mnist dataset. If you run this from a notebook, you need to put  `!pip install mnist` in a cell by itself."
   ]
  },
  {
   "cell_type": "code",
   "execution_count": 3,
   "id": "bb6ad8a1",
   "metadata": {
    "execution": {
     "iopub.execute_input": "2022-04-17T10:09:36.941647Z",
     "iopub.status.busy": "2022-04-17T10:09:36.941134Z",
     "iopub.status.idle": "2022-04-17T10:09:38.654912Z",
     "shell.execute_reply": "2022-04-17T10:09:38.654365Z"
    },
    "papermill": {
     "duration": 1.741901,
     "end_time": "2022-04-17T10:09:38.655046",
     "exception": false,
     "start_time": "2022-04-17T10:09:36.913145",
     "status": "completed"
    },
    "tags": []
   },
   "outputs": [
    {
     "name": "stdout",
     "output_type": "stream",
     "text": [
      "Collecting mnist\r\n"
     ]
    },
    {
     "name": "stdout",
     "output_type": "stream",
     "text": [
      "  Downloading mnist-0.2.2-py2.py3-none-any.whl (3.5 kB)\r\n",
      "Requirement already satisfied: numpy in /opt/hostedtoolcache/Python/3.6.15/x64/lib/python3.6/site-packages (from mnist) (1.19.5)\r\n"
     ]
    },
    {
     "name": "stdout",
     "output_type": "stream",
     "text": [
      "Installing collected packages: mnist\r\n"
     ]
    },
    {
     "name": "stdout",
     "output_type": "stream",
     "text": [
      "Successfully installed mnist-0.2.2\r\n"
     ]
    }
   ],
   "source": [
    "!pip install mnist"
   ]
  },
  {
   "cell_type": "markdown",
   "id": "69df9c9a",
   "metadata": {
    "papermill": {
     "duration": 0.024954,
     "end_time": "2022-04-17T10:09:38.705781",
     "exception": false,
     "start_time": "2022-04-17T10:09:38.680827",
     "status": "completed"
    },
    "tags": []
   },
   "source": [
    "## Preparing the Data"
   ]
  },
  {
   "cell_type": "code",
   "execution_count": 4,
   "id": "7f69d806",
   "metadata": {
    "execution": {
     "iopub.execute_input": "2022-04-17T10:09:38.759345Z",
     "iopub.status.busy": "2022-04-17T10:09:38.758840Z",
     "iopub.status.idle": "2022-04-17T10:09:38.787228Z",
     "shell.execute_reply": "2022-04-17T10:09:38.786762Z"
    },
    "papermill": {
     "duration": 0.056704,
     "end_time": "2022-04-17T10:09:38.787352",
     "exception": false,
     "start_time": "2022-04-17T10:09:38.730648",
     "status": "completed"
    },
    "tags": []
   },
   "outputs": [],
   "source": [
    "import mnist"
   ]
  },
  {
   "cell_type": "code",
   "execution_count": 5,
   "id": "a411e44f",
   "metadata": {
    "execution": {
     "iopub.execute_input": "2022-04-17T10:09:38.848388Z",
     "iopub.status.busy": "2022-04-17T10:09:38.847841Z",
     "iopub.status.idle": "2022-04-17T10:09:39.350938Z",
     "shell.execute_reply": "2022-04-17T10:09:39.350455Z"
    },
    "papermill": {
     "duration": 0.538347,
     "end_time": "2022-04-17T10:09:39.351056",
     "exception": false,
     "start_time": "2022-04-17T10:09:38.812709",
     "status": "completed"
    },
    "tags": []
   },
   "outputs": [],
   "source": [
    "train_images = mnist.train_images()\n",
    "train_labels = mnist.train_labels()"
   ]
  },
  {
   "cell_type": "code",
   "execution_count": 6,
   "id": "dceab3a5",
   "metadata": {
    "execution": {
     "iopub.execute_input": "2022-04-17T10:09:39.409228Z",
     "iopub.status.busy": "2022-04-17T10:09:39.408717Z",
     "iopub.status.idle": "2022-04-17T10:09:39.421716Z",
     "shell.execute_reply": "2022-04-17T10:09:39.421307Z"
    },
    "papermill": {
     "duration": 0.045491,
     "end_time": "2022-04-17T10:09:39.421825",
     "exception": false,
     "start_time": "2022-04-17T10:09:39.376334",
     "status": "completed"
    },
    "tags": []
   },
   "outputs": [
    {
     "data": {
      "text/plain": [
       "((60000, 28, 28), (60000,))"
      ]
     },
     "execution_count": 6,
     "metadata": {},
     "output_type": "execute_result"
    }
   ],
   "source": [
    "train_images.shape, train_labels.shape"
   ]
  },
  {
   "cell_type": "code",
   "execution_count": 7,
   "id": "f50dc2bb",
   "metadata": {
    "execution": {
     "iopub.execute_input": "2022-04-17T10:09:39.476655Z",
     "iopub.status.busy": "2022-04-17T10:09:39.476136Z",
     "iopub.status.idle": "2022-04-17T10:09:39.621524Z",
     "shell.execute_reply": "2022-04-17T10:09:39.620999Z"
    },
    "papermill": {
     "duration": 0.174899,
     "end_time": "2022-04-17T10:09:39.621664",
     "exception": false,
     "start_time": "2022-04-17T10:09:39.446765",
     "status": "completed"
    },
    "tags": []
   },
   "outputs": [],
   "source": [
    "test_images = mnist.test_images()\n",
    "test_labels = mnist.test_labels()"
   ]
  },
  {
   "cell_type": "code",
   "execution_count": 8,
   "id": "fc38cf1b",
   "metadata": {
    "execution": {
     "iopub.execute_input": "2022-04-17T10:09:39.676262Z",
     "iopub.status.busy": "2022-04-17T10:09:39.675671Z",
     "iopub.status.idle": "2022-04-17T10:09:39.689045Z",
     "shell.execute_reply": "2022-04-17T10:09:39.689528Z"
    },
    "papermill": {
     "duration": 0.042354,
     "end_time": "2022-04-17T10:09:39.689654",
     "exception": false,
     "start_time": "2022-04-17T10:09:39.647300",
     "status": "completed"
    },
    "tags": []
   },
   "outputs": [
    {
     "data": {
      "text/plain": [
       "((10000, 28, 28), (10000,))"
      ]
     },
     "execution_count": 8,
     "metadata": {},
     "output_type": "execute_result"
    }
   ],
   "source": [
    "test_images.shape, test_labels.shape"
   ]
  },
  {
   "cell_type": "code",
   "execution_count": 9,
   "id": "f9ed8fe0",
   "metadata": {
    "execution": {
     "iopub.execute_input": "2022-04-17T10:09:39.743664Z",
     "iopub.status.busy": "2022-04-17T10:09:39.743161Z",
     "iopub.status.idle": "2022-04-17T10:09:39.878725Z",
     "shell.execute_reply": "2022-04-17T10:09:39.879195Z"
    },
    "papermill": {
     "duration": 0.164419,
     "end_time": "2022-04-17T10:09:39.879341",
     "exception": false,
     "start_time": "2022-04-17T10:09:39.714922",
     "status": "completed"
    },
    "tags": []
   },
   "outputs": [
    {
     "name": "stdout",
     "output_type": "stream",
     "text": [
      "2\n"
     ]
    },
    {
     "data": {
      "text/plain": [
       "<matplotlib.image.AxesImage at 0x7ff7e8de7048>"
      ]
     },
     "execution_count": 9,
     "metadata": {},
     "output_type": "execute_result"
    },
    {
     "data": {
      "image/png": "[encoded data removed]",
      "text/plain": [
       "<Figure size 432x288 with 1 Axes>"
      ]
     },
     "metadata": {
      "needs_background": "light"
     },
     "output_type": "display_data"
    }
   ],
   "source": [
    "image_index = 7776 # You may select anything up to 60,000\n",
    "print(train_labels[image_index]) \n",
    "plt.imshow(train_images[image_index], cmap='Greys')"
   ]
  },
  {
   "cell_type": "markdown",
   "id": "a8d2388d",
   "metadata": {
    "papermill": {
     "duration": 0.026385,
     "end_time": "2022-04-17T10:09:39.933082",
     "exception": false,
     "start_time": "2022-04-17T10:09:39.906697",
     "status": "completed"
    },
    "tags": []
   },
   "source": [
    "## Filter data to get 3 and 8 out"
   ]
  },
  {
   "cell_type": "code",
   "execution_count": 10,
   "id": "776f7fc7",
   "metadata": {
    "execution": {
     "iopub.execute_input": "2022-04-17T10:09:39.993614Z",
     "iopub.status.busy": "2022-04-17T10:09:39.993091Z",
     "iopub.status.idle": "2022-04-17T10:09:40.008631Z",
     "shell.execute_reply": "2022-04-17T10:09:40.008209Z"
    },
    "papermill": {
     "duration": 0.049368,
     "end_time": "2022-04-17T10:09:40.008741",
     "exception": false,
     "start_time": "2022-04-17T10:09:39.959373",
     "status": "completed"
    },
    "tags": []
   },
   "outputs": [],
   "source": [
    "train_filter = np.where((train_labels == 3 ) | (train_labels == 8))\n",
    "test_filter = np.where((test_labels == 3) | (test_labels == 8))\n",
    "X_train, y_train = train_images[train_filter], train_labels[train_filter]\n",
    "X_test, y_test = test_images[test_filter], test_labels[test_filter]"
   ]
  },
  {
   "cell_type": "markdown",
   "id": "948f0b7e",
   "metadata": {
    "papermill": {
     "duration": 0.026231,
     "end_time": "2022-04-17T10:09:40.061333",
     "exception": false,
     "start_time": "2022-04-17T10:09:40.035102",
     "status": "completed"
    },
    "tags": []
   },
   "source": [
    "We normalize the pizel values in the 0 to 1 range"
   ]
  },
  {
   "cell_type": "code",
   "execution_count": 11,
   "id": "ee4c2166",
   "metadata": {
    "execution": {
     "iopub.execute_input": "2022-04-17T10:09:40.121393Z",
     "iopub.status.busy": "2022-04-17T10:09:40.120867Z",
     "iopub.status.idle": "2022-04-17T10:09:40.166688Z",
     "shell.execute_reply": "2022-04-17T10:09:40.166208Z"
    },
    "papermill": {
     "duration": 0.07916,
     "end_time": "2022-04-17T10:09:40.166806",
     "exception": false,
     "start_time": "2022-04-17T10:09:40.087646",
     "status": "completed"
    },
    "tags": []
   },
   "outputs": [],
   "source": [
    "X_train = X_train/255.\n",
    "X_test = X_test/255."
   ]
  },
  {
   "cell_type": "markdown",
   "id": "ddcf4fab",
   "metadata": {
    "papermill": {
     "duration": 0.026773,
     "end_time": "2022-04-17T10:09:40.220311",
     "exception": false,
     "start_time": "2022-04-17T10:09:40.193538",
     "status": "completed"
    },
    "tags": []
   },
   "source": [
    "And setup the labels as 1 (when the digit is 3) and 0 (when the digit is 8)"
   ]
  },
  {
   "cell_type": "code",
   "execution_count": 12,
   "id": "7dc908f2",
   "metadata": {
    "execution": {
     "iopub.execute_input": "2022-04-17T10:09:40.282675Z",
     "iopub.status.busy": "2022-04-17T10:09:40.278266Z",
     "iopub.status.idle": "2022-04-17T10:09:40.290059Z",
     "shell.execute_reply": "2022-04-17T10:09:40.289645Z"
    },
    "papermill": {
     "duration": 0.043684,
     "end_time": "2022-04-17T10:09:40.290169",
     "exception": false,
     "start_time": "2022-04-17T10:09:40.246485",
     "status": "completed"
    },
    "tags": []
   },
   "outputs": [],
   "source": [
    "y_train = 1*(y_train==3)\n",
    "y_test = 1*(y_test==3)"
   ]
  },
  {
   "cell_type": "code",
   "execution_count": 13,
   "id": "01e4e969",
   "metadata": {
    "execution": {
     "iopub.execute_input": "2022-04-17T10:09:40.357285Z",
     "iopub.status.busy": "2022-04-17T10:09:40.356770Z",
     "iopub.status.idle": "2022-04-17T10:09:40.364000Z",
     "shell.execute_reply": "2022-04-17T10:09:40.363564Z"
    },
    "papermill": {
     "duration": 0.047569,
     "end_time": "2022-04-17T10:09:40.364117",
     "exception": false,
     "start_time": "2022-04-17T10:09:40.316548",
     "status": "completed"
    },
    "tags": []
   },
   "outputs": [
    {
     "data": {
      "text/plain": [
       "((11982, 28, 28), (1984, 28, 28))"
      ]
     },
     "execution_count": 13,
     "metadata": {},
     "output_type": "execute_result"
    }
   ],
   "source": [
    "X_train.shape, X_test.shape"
   ]
  },
  {
   "cell_type": "markdown",
   "id": "5ccf3f85",
   "metadata": {
    "papermill": {
     "duration": 0.026525,
     "end_time": "2022-04-17T10:09:40.417297",
     "exception": false,
     "start_time": "2022-04-17T10:09:40.390772",
     "status": "completed"
    },
    "tags": []
   },
   "source": [
    "We reshape the data to flatten the image pixels into a set of features or co-variates:"
   ]
  },
  {
   "cell_type": "code",
   "execution_count": 14,
   "id": "5286a4a3",
   "metadata": {
    "execution": {
     "iopub.execute_input": "2022-04-17T10:09:40.489086Z",
     "iopub.status.busy": "2022-04-17T10:09:40.485448Z",
     "iopub.status.idle": "2022-04-17T10:09:40.491709Z",
     "shell.execute_reply": "2022-04-17T10:09:40.492136Z"
    },
    "papermill": {
     "duration": 0.048389,
     "end_time": "2022-04-17T10:09:40.492266",
     "exception": false,
     "start_time": "2022-04-17T10:09:40.443877",
     "status": "completed"
    },
    "tags": []
   },
   "outputs": [
    {
     "data": {
      "text/plain": [
       "((11982, 784), (1984, 784))"
      ]
     },
     "execution_count": 14,
     "metadata": {},
     "output_type": "execute_result"
    }
   ],
   "source": [
    "X_train = X_train.reshape(X_train.shape[0], -1)\n",
    "X_test = X_test.reshape(X_test.shape[0], -1)\n",
    "X_train.shape, X_test.shape"
   ]
  },
  {
   "cell_type": "code",
   "execution_count": 15,
   "id": "73c5f88a",
   "metadata": {
    "execution": {
     "iopub.execute_input": "2022-04-17T10:09:40.560834Z",
     "iopub.status.busy": "2022-04-17T10:09:40.551685Z",
     "iopub.status.idle": "2022-04-17T10:09:40.570008Z",
     "shell.execute_reply": "2022-04-17T10:09:40.570390Z"
    },
    "papermill": {
     "duration": 0.051306,
     "end_time": "2022-04-17T10:09:40.570510",
     "exception": false,
     "start_time": "2022-04-17T10:09:40.519204",
     "status": "completed"
    },
    "tags": []
   },
   "outputs": [],
   "source": [
    "#Impoting functions from 'Kudzu'\n",
    "from kudzu.model import Model\n",
    "from kudzu.train import Learner\n",
    "from kudzu.optim import GD\n",
    "from kudzu.data import Data, Sampler,Dataloader\n",
    "\n",
    "from kudzu.callbacks import AccCallback\n",
    "from kudzu.callbacks import ClfCallback\n",
    "\n",
    "from kudzu.loss import MSE\n",
    "\n",
    "from kudzu.layer import Sigmoid,Relu\n",
    "from kudzu.layer import Affine"
   ]
  },
  {
   "cell_type": "markdown",
   "id": "bc01172a",
   "metadata": {
    "papermill": {
     "duration": 0.027226,
     "end_time": "2022-04-17T10:09:40.624669",
     "exception": false,
     "start_time": "2022-04-17T10:09:40.597443",
     "status": "completed"
    },
    "tags": []
   },
   "source": [
    "### Let us create a `Config` class, to store important parameters. \n",
    "This class essentially plays the role of a dictionary."
   ]
  },
  {
   "cell_type": "code",
   "execution_count": 16,
   "id": "978281aa",
   "metadata": {
    "execution": {
     "iopub.execute_input": "2022-04-17T10:09:40.692786Z",
     "iopub.status.busy": "2022-04-17T10:09:40.686812Z",
     "iopub.status.idle": "2022-04-17T10:09:40.696544Z",
     "shell.execute_reply": "2022-04-17T10:09:40.696104Z"
    },
    "papermill": {
     "duration": 0.044935,
     "end_time": "2022-04-17T10:09:40.696649",
     "exception": false,
     "start_time": "2022-04-17T10:09:40.651714",
     "status": "completed"
    },
    "tags": []
   },
   "outputs": [],
   "source": [
    "class Config:\n",
    "    pass\n",
    "config = Config()\n",
    "config.lr = 0.001\n",
    "config.num_epochs = 250\n",
    "config.bs = 50"
   ]
  },
  {
   "cell_type": "markdown",
   "id": "1385fa59",
   "metadata": {
    "papermill": {
     "duration": 0.027297,
     "end_time": "2022-04-17T10:09:40.750941",
     "exception": false,
     "start_time": "2022-04-17T10:09:40.723644",
     "status": "completed"
    },
    "tags": []
   },
   "source": [
    "### Running Models with the Training data\n",
    "Details about the network layers:\n",
    "- A first affine layer has 784 inputs and does 100 affine transforms. These are followed by a Relu\n",
    "- A second affine layer has 100 inputs from the 100 activations of the past layer, and does 100 affine transforms. These are followed by a Relu\n",
    "- A third affine layer has 100 activations and does 2 affine transformations to create an embedding for visualization. There is no non-linearity here.\n",
    "- A final \"logistic regression\" which has an affine transform from 2 inputs to 1 output, which is squeezed through a sigmoid.\n"
   ]
  },
  {
   "cell_type": "code",
   "execution_count": 17,
   "id": "2b9c66db",
   "metadata": {
    "execution": {
     "iopub.execute_input": "2022-04-17T10:09:40.821887Z",
     "iopub.status.busy": "2022-04-17T10:09:40.821381Z",
     "iopub.status.idle": "2022-04-17T10:09:40.824132Z",
     "shell.execute_reply": "2022-04-17T10:09:40.824570Z"
    },
    "papermill": {
     "duration": 0.046803,
     "end_time": "2022-04-17T10:09:40.824689",
     "exception": false,
     "start_time": "2022-04-17T10:09:40.777886",
     "status": "completed"
    },
    "tags": []
   },
   "outputs": [],
   "source": [
    "data = Data(X_train, y_train.reshape(-1,1))\n",
    "sampler = Sampler(data, config.bs, shuffle=True)\n",
    "\n",
    "dl = Dataloader(data, sampler)\n",
    "\n",
    "opt = GD(config.lr)\n",
    "loss = MSE()"
   ]
  },
  {
   "cell_type": "code",
   "execution_count": 18,
   "id": "b275e4c2",
   "metadata": {
    "execution": {
     "iopub.execute_input": "2022-04-17T10:09:40.895570Z",
     "iopub.status.busy": "2022-04-17T10:09:40.889400Z",
     "iopub.status.idle": "2022-04-17T10:09:40.897808Z",
     "shell.execute_reply": "2022-04-17T10:09:40.897380Z"
    },
    "papermill": {
     "duration": 0.046292,
     "end_time": "2022-04-17T10:09:40.897911",
     "exception": false,
     "start_time": "2022-04-17T10:09:40.851619",
     "status": "completed"
    },
    "tags": []
   },
   "outputs": [],
   "source": [
    "training_data_x = X_train\n",
    "testing_data_x = X_test\n",
    "training_data_y = y_train.reshape(-1,1)\n",
    "testing_data_y = y_test.reshape(-1,1)"
   ]
  },
  {
   "cell_type": "code",
   "execution_count": 19,
   "id": "76951160",
   "metadata": {
    "execution": {
     "iopub.execute_input": "2022-04-17T10:09:40.956698Z",
     "iopub.status.busy": "2022-04-17T10:09:40.954937Z",
     "iopub.status.idle": "2022-04-17T10:09:40.970207Z",
     "shell.execute_reply": "2022-04-17T10:09:40.969806Z"
    },
    "papermill": {
     "duration": 0.045687,
     "end_time": "2022-04-17T10:09:40.970309",
     "exception": false,
     "start_time": "2022-04-17T10:09:40.924622",
     "status": "completed"
    },
    "tags": []
   },
   "outputs": [
    {
     "name": "stdout",
     "output_type": "stream",
     "text": [
      "xavier\n",
      "xavier\n",
      "xavier\n",
      "xavier\n",
      "xavier\n"
     ]
    }
   ],
   "source": [
    "layers = [Affine(\"first\", 784, 100), Relu(\"first\"), Affine(\"second\", 100, 100), Relu(\"second\"), Affine(\"third\", 100, 2), Affine(\"last\", 2, 1), Sigmoid(\"last\")]\n",
    "model_nn = Model(layers)\n",
    "model_lr = Model([Affine(\"logits\", 784, 1), Sigmoid(\"sigmoid\")])"
   ]
  },
  {
   "cell_type": "code",
   "execution_count": 20,
   "id": "6eede77a",
   "metadata": {
    "execution": {
     "iopub.execute_input": "2022-04-17T10:09:41.041225Z",
     "iopub.status.busy": "2022-04-17T10:09:41.040714Z",
     "iopub.status.idle": "2022-04-17T10:09:41.045806Z",
     "shell.execute_reply": "2022-04-17T10:09:41.046206Z"
    },
    "papermill": {
     "duration": 0.04834,
     "end_time": "2022-04-17T10:09:41.046322",
     "exception": false,
     "start_time": "2022-04-17T10:09:40.997982",
     "status": "completed"
    },
    "tags": []
   },
   "outputs": [],
   "source": [
    "nn_learner = Learner(loss, model_nn, opt, config.num_epochs)\n",
    "acc_nn = ClfCallback(nn_learner, config.bs, training_data_x , testing_data_x, training_data_y, testing_data_y)\n",
    "nn_learner.set_callbacks([acc_nn])"
   ]
  },
  {
   "cell_type": "code",
   "execution_count": 21,
   "id": "877b6cc7",
   "metadata": {
    "execution": {
     "iopub.execute_input": "2022-04-17T10:09:41.107631Z",
     "iopub.status.busy": "2022-04-17T10:09:41.103752Z",
     "iopub.status.idle": "2022-04-17T10:09:41.116464Z",
     "shell.execute_reply": "2022-04-17T10:09:41.116869Z"
    },
    "papermill": {
     "duration": 0.043469,
     "end_time": "2022-04-17T10:09:41.116986",
     "exception": false,
     "start_time": "2022-04-17T10:09:41.073517",
     "status": "completed"
    },
    "tags": []
   },
   "outputs": [],
   "source": [
    "lr_learner = Learner(loss, model_lr, opt, config.num_epochs)\n",
    "acc_lr = ClfCallback(lr_learner, config.bs, training_data_x , testing_data_x, training_data_y, testing_data_y)\n",
    "lr_learner.set_callbacks([acc_lr])"
   ]
  },
  {
   "cell_type": "code",
   "execution_count": 22,
   "id": "d9b133c3",
   "metadata": {
    "execution": {
     "iopub.execute_input": "2022-04-17T10:09:41.181121Z",
     "iopub.status.busy": "2022-04-17T10:09:41.180623Z",
     "iopub.status.idle": "2022-04-17T10:10:55.794905Z",
     "shell.execute_reply": "2022-04-17T10:10:55.795639Z"
    },
    "papermill": {
     "duration": 74.651644,
     "end_time": "2022-04-17T10:10:55.795786",
     "exception": false,
     "start_time": "2022-04-17T10:09:41.144142",
     "status": "completed"
    },
    "tags": []
   },
   "outputs": [
    {
     "name": "stdout",
     "output_type": "stream",
     "text": [
      "Epoch 0, Loss 0.2402\n",
      "Training Accuracy: 0.5411, Testing Accuracy: 0.5398\n",
      "\n"
     ]
    },
    {
     "name": "stdout",
     "output_type": "stream",
     "text": [
      "Epoch 10, Loss 0.1121\n",
      "Training Accuracy: 0.9064, Testing Accuracy: 0.9168\n",
      "\n"
     ]
    },
    {
     "name": "stdout",
     "output_type": "stream",
     "text": [
      "Epoch 20, Loss 0.0639\n",
      "Training Accuracy: 0.9352, Testing Accuracy: 0.9446\n",
      "\n"
     ]
    },
    {
     "name": "stdout",
     "output_type": "stream",
     "text": [
      "Epoch 30, Loss 0.048\n",
      "Training Accuracy: 0.9479, Testing Accuracy: 0.9541\n",
      "\n"
     ]
    },
    {
     "name": "stdout",
     "output_type": "stream",
     "text": [
      "Epoch 40, Loss 0.0406\n",
      "Training Accuracy: 0.9550, Testing Accuracy: 0.9622\n",
      "\n"
     ]
    },
    {
     "name": "stdout",
     "output_type": "stream",
     "text": [
      "Epoch 50, Loss 0.0364\n",
      "Training Accuracy: 0.9588, Testing Accuracy: 0.9647\n",
      "\n"
     ]
    },
    {
     "name": "stdout",
     "output_type": "stream",
     "text": [
      "Epoch 60, Loss 0.0336\n",
      "Training Accuracy: 0.9614, Testing Accuracy: 0.9657\n",
      "\n"
     ]
    },
    {
     "name": "stdout",
     "output_type": "stream",
     "text": [
      "Epoch 70, Loss 0.0315\n",
      "Training Accuracy: 0.9635, Testing Accuracy: 0.9667\n",
      "\n"
     ]
    },
    {
     "name": "stdout",
     "output_type": "stream",
     "text": [
      "Epoch 80, Loss 0.0299\n",
      "Training Accuracy: 0.9648, Testing Accuracy: 0.9662\n",
      "\n"
     ]
    },
    {
     "name": "stdout",
     "output_type": "stream",
     "text": [
      "Epoch 90, Loss 0.0286\n",
      "Training Accuracy: 0.9661, Testing Accuracy: 0.9667\n",
      "\n"
     ]
    },
    {
     "name": "stdout",
     "output_type": "stream",
     "text": [
      "Epoch 100, Loss 0.0276\n",
      "Training Accuracy: 0.9671, Testing Accuracy: 0.9672\n",
      "\n"
     ]
    },
    {
     "name": "stdout",
     "output_type": "stream",
     "text": [
      "Epoch 110, Loss 0.0266\n",
      "Training Accuracy: 0.9685, Testing Accuracy: 0.9688\n",
      "\n"
     ]
    },
    {
     "name": "stdout",
     "output_type": "stream",
     "text": [
      "Epoch 120, Loss 0.0258\n",
      "Training Accuracy: 0.9702, Testing Accuracy: 0.9703\n",
      "\n"
     ]
    },
    {
     "name": "stdout",
     "output_type": "stream",
     "text": [
      "Epoch 130, Loss 0.0251\n",
      "Training Accuracy: 0.9710, Testing Accuracy: 0.9708\n",
      "\n"
     ]
    },
    {
     "name": "stdout",
     "output_type": "stream",
     "text": [
      "Epoch 140, Loss 0.0244\n",
      "Training Accuracy: 0.9713, Testing Accuracy: 0.9708\n",
      "\n"
     ]
    },
    {
     "name": "stdout",
     "output_type": "stream",
     "text": [
      "Epoch 150, Loss 0.0238\n",
      "Training Accuracy: 0.9720, Testing Accuracy: 0.9713\n",
      "\n"
     ]
    },
    {
     "name": "stdout",
     "output_type": "stream",
     "text": [
      "Epoch 160, Loss 0.0232\n",
      "Training Accuracy: 0.9725, Testing Accuracy: 0.9708\n",
      "\n"
     ]
    },
    {
     "name": "stdout",
     "output_type": "stream",
     "text": [
      "Epoch 170, Loss 0.0227\n",
      "Training Accuracy: 0.9730, Testing Accuracy: 0.9713\n",
      "\n"
     ]
    },
    {
     "name": "stdout",
     "output_type": "stream",
     "text": [
      "Epoch 180, Loss 0.0221\n",
      "Training Accuracy: 0.9733, Testing Accuracy: 0.9728\n",
      "\n"
     ]
    },
    {
     "name": "stdout",
     "output_type": "stream",
     "text": [
      "Epoch 190, Loss 0.0217\n",
      "Training Accuracy: 0.9740, Testing Accuracy: 0.9733\n",
      "\n"
     ]
    },
    {
     "name": "stdout",
     "output_type": "stream",
     "text": [
      "Epoch 200, Loss 0.0212\n",
      "Training Accuracy: 0.9751, Testing Accuracy: 0.9733\n",
      "\n"
     ]
    },
    {
     "name": "stdout",
     "output_type": "stream",
     "text": [
      "Epoch 210, Loss 0.0207\n",
      "Training Accuracy: 0.9755, Testing Accuracy: 0.9733\n",
      "\n"
     ]
    },
    {
     "name": "stdout",
     "output_type": "stream",
     "text": [
      "Epoch 220, Loss 0.0203\n",
      "Training Accuracy: 0.9761, Testing Accuracy: 0.9738\n",
      "\n"
     ]
    },
    {
     "name": "stdout",
     "output_type": "stream",
     "text": [
      "Epoch 230, Loss 0.0199\n",
      "Training Accuracy: 0.9768, Testing Accuracy: 0.9743\n",
      "\n"
     ]
    },
    {
     "name": "stdout",
     "output_type": "stream",
     "text": [
      "Epoch 240, Loss 0.0195\n",
      "Training Accuracy: 0.9772, Testing Accuracy: 0.9738\n",
      "\n"
     ]
    },
    {
     "data": {
      "text/plain": [
       "0.04949925527164109"
      ]
     },
     "execution_count": 22,
     "metadata": {},
     "output_type": "execute_result"
    }
   ],
   "source": [
    "nn_learner.train_loop(dl)"
   ]
  },
  {
   "cell_type": "code",
   "execution_count": 23,
   "id": "e0163366",
   "metadata": {
    "execution": {
     "iopub.execute_input": "2022-04-17T10:10:55.873585Z",
     "iopub.status.busy": "2022-04-17T10:10:55.873077Z",
     "iopub.status.idle": "2022-04-17T10:11:09.109098Z",
     "shell.execute_reply": "2022-04-17T10:11:09.109827Z"
    },
    "papermill": {
     "duration": 13.279667,
     "end_time": "2022-04-17T10:11:09.109976",
     "exception": false,
     "start_time": "2022-04-17T10:10:55.830309",
     "status": "completed"
    },
    "tags": []
   },
   "outputs": [
    {
     "name": "stdout",
     "output_type": "stream",
     "text": [
      "Epoch 0, Loss 0.2593\n",
      "Training Accuracy: 0.6239, Testing Accuracy: 0.6225\n",
      "\n"
     ]
    },
    {
     "name": "stdout",
     "output_type": "stream",
     "text": [
      "Epoch 10, Loss 0.1052\n",
      "Training Accuracy: 0.9075, Testing Accuracy: 0.9158\n",
      "\n"
     ]
    },
    {
     "name": "stdout",
     "output_type": "stream",
     "text": [
      "Epoch 20, Loss 0.0798\n",
      "Training Accuracy: 0.9286, Testing Accuracy: 0.9365\n",
      "\n"
     ]
    },
    {
     "name": "stdout",
     "output_type": "stream",
     "text": [
      "Epoch 30, Loss 0.0684\n",
      "Training Accuracy: 0.9372, Testing Accuracy: 0.9461\n",
      "\n"
     ]
    },
    {
     "name": "stdout",
     "output_type": "stream",
     "text": [
      "Epoch 40, Loss 0.0616\n",
      "Training Accuracy: 0.9412, Testing Accuracy: 0.9491\n",
      "\n"
     ]
    },
    {
     "name": "stdout",
     "output_type": "stream",
     "text": [
      "Epoch 50, Loss 0.057\n",
      "Training Accuracy: 0.9452, Testing Accuracy: 0.9546\n",
      "\n"
     ]
    },
    {
     "name": "stdout",
     "output_type": "stream",
     "text": [
      "Epoch 60, Loss 0.0537\n",
      "Training Accuracy: 0.9478, Testing Accuracy: 0.9577\n",
      "\n"
     ]
    },
    {
     "name": "stdout",
     "output_type": "stream",
     "text": [
      "Epoch 70, Loss 0.0511\n",
      "Training Accuracy: 0.9493, Testing Accuracy: 0.9612\n",
      "\n"
     ]
    },
    {
     "name": "stdout",
     "output_type": "stream",
     "text": [
      "Epoch 80, Loss 0.049\n",
      "Training Accuracy: 0.9508, Testing Accuracy: 0.9602\n",
      "\n"
     ]
    },
    {
     "name": "stdout",
     "output_type": "stream",
     "text": [
      "Epoch 90, Loss 0.0473\n",
      "Training Accuracy: 0.9518, Testing Accuracy: 0.9617\n",
      "\n"
     ]
    },
    {
     "name": "stdout",
     "output_type": "stream",
     "text": [
      "Epoch 100, Loss 0.0459\n",
      "Training Accuracy: 0.9532, Testing Accuracy: 0.9627\n",
      "\n"
     ]
    },
    {
     "name": "stdout",
     "output_type": "stream",
     "text": [
      "Epoch 110, Loss 0.0447\n",
      "Training Accuracy: 0.9547, Testing Accuracy: 0.9632\n",
      "\n"
     ]
    },
    {
     "name": "stdout",
     "output_type": "stream",
     "text": [
      "Epoch 120, Loss 0.0436\n",
      "Training Accuracy: 0.9558, Testing Accuracy: 0.9637\n",
      "\n"
     ]
    },
    {
     "name": "stdout",
     "output_type": "stream",
     "text": [
      "Epoch 130, Loss 0.0427\n",
      "Training Accuracy: 0.9567, Testing Accuracy: 0.9652\n",
      "\n"
     ]
    },
    {
     "name": "stdout",
     "output_type": "stream",
     "text": [
      "Epoch 140, Loss 0.0418\n",
      "Training Accuracy: 0.9571, Testing Accuracy: 0.9652\n",
      "\n"
     ]
    },
    {
     "name": "stdout",
     "output_type": "stream",
     "text": [
      "Epoch 150, Loss 0.0411\n",
      "Training Accuracy: 0.9574, Testing Accuracy: 0.9657\n",
      "\n"
     ]
    },
    {
     "name": "stdout",
     "output_type": "stream",
     "text": [
      "Epoch 160, Loss 0.0404\n",
      "Training Accuracy: 0.9580, Testing Accuracy: 0.9657\n",
      "\n"
     ]
    },
    {
     "name": "stdout",
     "output_type": "stream",
     "text": [
      "Epoch 170, Loss 0.0398\n",
      "Training Accuracy: 0.9588, Testing Accuracy: 0.9662\n",
      "\n"
     ]
    },
    {
     "name": "stdout",
     "output_type": "stream",
     "text": [
      "Epoch 180, Loss 0.0392\n",
      "Training Accuracy: 0.9594, Testing Accuracy: 0.9662\n",
      "\n"
     ]
    },
    {
     "name": "stdout",
     "output_type": "stream",
     "text": [
      "Epoch 190, Loss 0.0387\n",
      "Training Accuracy: 0.9595, Testing Accuracy: 0.9662\n",
      "\n"
     ]
    },
    {
     "name": "stdout",
     "output_type": "stream",
     "text": [
      "Epoch 200, Loss 0.0382\n",
      "Training Accuracy: 0.9600, Testing Accuracy: 0.9667\n",
      "\n"
     ]
    },
    {
     "name": "stdout",
     "output_type": "stream",
     "text": [
      "Epoch 210, Loss 0.0378\n",
      "Training Accuracy: 0.9603, Testing Accuracy: 0.9662\n",
      "\n"
     ]
    },
    {
     "name": "stdout",
     "output_type": "stream",
     "text": [
      "Epoch 220, Loss 0.0374\n",
      "Training Accuracy: 0.9605, Testing Accuracy: 0.9662\n",
      "\n"
     ]
    },
    {
     "name": "stdout",
     "output_type": "stream",
     "text": [
      "Epoch 230, Loss 0.037\n",
      "Training Accuracy: 0.9606, Testing Accuracy: 0.9662\n",
      "\n"
     ]
    },
    {
     "name": "stdout",
     "output_type": "stream",
     "text": [
      "Epoch 240, Loss 0.0366\n",
      "Training Accuracy: 0.9610, Testing Accuracy: 0.9662\n",
      "\n"
     ]
    },
    {
     "data": {
      "text/plain": [
       "0.09387581530369686"
      ]
     },
     "execution_count": 23,
     "metadata": {},
     "output_type": "execute_result"
    }
   ],
   "source": [
    "lr_learner.train_loop(dl)"
   ]
  },
  {
   "cell_type": "code",
   "execution_count": 24,
   "id": "ca410940",
   "metadata": {
    "execution": {
     "iopub.execute_input": "2022-04-17T10:11:09.203550Z",
     "iopub.status.busy": "2022-04-17T10:11:09.203023Z",
     "iopub.status.idle": "2022-04-17T10:11:09.426471Z",
     "shell.execute_reply": "2022-04-17T10:11:09.426862Z"
    },
    "papermill": {
     "duration": 0.275495,
     "end_time": "2022-04-17T10:11:09.427005",
     "exception": false,
     "start_time": "2022-04-17T10:11:09.151510",
     "status": "completed"
    },
    "tags": []
   },
   "outputs": [
    {
     "data": {
      "text/plain": [
       "<matplotlib.legend.Legend at 0x7ff7e59c4b00>"
      ]
     },
     "execution_count": 24,
     "metadata": {},
     "output_type": "execute_result"
    },
    {
     "data": {
      "image/png": "[encoded data removed]",
      "text/plain": [
       "<Figure size 1080x720 with 1 Axes>"
      ]
     },
     "metadata": {
      "needs_background": "light"
     },
     "output_type": "display_data"
    }
   ],
   "source": [
    "#comparing the results of NN and LR\n",
    "plt.figure(figsize=(15,10))\n",
    "\n",
    "# Neural Network plots\n",
    "plt.plot(acc_nn.accuracies, 'r-', label = \"Training Accuracies - NN\")\n",
    "plt.plot(acc_nn.test_accuracies, 'g-', label = \"Testing Accuracies - NN\")\n",
    "\n",
    "# Logistic Regression plots\n",
    "plt.plot(acc_lr.accuracies, 'k-', label = \"Training Accuracies - LR\")\n",
    "plt.plot(acc_lr.test_accuracies, 'b-', label = \"Testing Accuracies - LR\")\n",
    "plt.legend()"
   ]
  },
  {
   "cell_type": "markdown",
   "id": "80dfb35c",
   "metadata": {
    "papermill": {
     "duration": 0.042264,
     "end_time": "2022-04-17T10:11:09.511707",
     "exception": false,
     "start_time": "2022-04-17T10:11:09.469443",
     "status": "completed"
    },
    "tags": []
   },
   "source": [
    "#### Plotting the outputs of this layer of the NN.\n"
   ]
  },
  {
   "cell_type": "code",
   "execution_count": 25,
   "id": "45eb2ff5",
   "metadata": {
    "execution": {
     "iopub.execute_input": "2022-04-17T10:11:09.600955Z",
     "iopub.status.busy": "2022-04-17T10:11:09.599566Z",
     "iopub.status.idle": "2022-04-17T10:11:09.618884Z",
     "shell.execute_reply": "2022-04-17T10:11:09.619296Z"
    },
    "papermill": {
     "duration": 0.065773,
     "end_time": "2022-04-17T10:11:09.619427",
     "exception": false,
     "start_time": "2022-04-17T10:11:09.553654",
     "status": "completed"
    },
    "tags": []
   },
   "outputs": [],
   "source": [
    "new_model = Model(layers[:-2])\n",
    "testing_plot = new_model(testing_data_x)"
   ]
  },
  {
   "cell_type": "code",
   "execution_count": 26,
   "id": "4c0a5485",
   "metadata": {
    "execution": {
     "iopub.execute_input": "2022-04-17T10:11:09.712979Z",
     "iopub.status.busy": "2022-04-17T10:11:09.707762Z",
     "iopub.status.idle": "2022-04-17T10:11:09.917265Z",
     "shell.execute_reply": "2022-04-17T10:11:09.916819Z"
    },
    "papermill": {
     "duration": 0.255866,
     "end_time": "2022-04-17T10:11:09.917380",
     "exception": false,
     "start_time": "2022-04-17T10:11:09.661514",
     "status": "completed"
    },
    "tags": []
   },
   "outputs": [
    {
     "data": {
      "text/plain": [
       "Text(0.5, 1.0, 'Outputs')"
      ]
     },
     "execution_count": 26,
     "metadata": {},
     "output_type": "execute_result"
    },
    {
     "data": {
      "image/png": "[encoded data removed]",
      "text/plain": [
       "<Figure size 576x504 with 1 Axes>"
      ]
     },
     "metadata": {
      "needs_background": "light"
     },
     "output_type": "display_data"
    }
   ],
   "source": [
    "# Plotting the scatter plot of points and color coding by class\n",
    "plt.figure(figsize=(8,7))\n",
    "plt.scatter(testing_plot[:,0], testing_plot[:,1], alpha = 0.1, c = y_test.ravel());\n",
    "plt.title('Outputs')"
   ]
  },
  {
   "cell_type": "markdown",
   "id": "a74fcf8f",
   "metadata": {
    "papermill": {
     "duration": 0.043908,
     "end_time": "2022-04-17T10:11:10.005896",
     "exception": false,
     "start_time": "2022-04-17T10:11:09.961988",
     "status": "completed"
    },
    "tags": []
   },
   "source": [
    "Probability contours"
   ]
  },
  {
   "cell_type": "code",
   "execution_count": 27,
   "id": "d0afc8e3",
   "metadata": {
    "execution": {
     "iopub.execute_input": "2022-04-17T10:11:10.103118Z",
     "iopub.status.busy": "2022-04-17T10:11:10.099232Z",
     "iopub.status.idle": "2022-04-17T10:11:10.111075Z",
     "shell.execute_reply": "2022-04-17T10:11:10.110643Z"
    },
    "papermill": {
     "duration": 0.061249,
     "end_time": "2022-04-17T10:11:10.111183",
     "exception": false,
     "start_time": "2022-04-17T10:11:10.049934",
     "status": "completed"
    },
    "tags": []
   },
   "outputs": [],
   "source": [
    "model_prob = Model(layers[-2:]) "
   ]
  },
  {
   "cell_type": "code",
   "execution_count": 28,
   "id": "9b96e238",
   "metadata": {
    "execution": {
     "iopub.execute_input": "2022-04-17T10:11:10.244557Z",
     "iopub.status.busy": "2022-04-17T10:11:10.244014Z",
     "iopub.status.idle": "2022-04-17T10:11:10.247772Z",
     "shell.execute_reply": "2022-04-17T10:11:10.247283Z"
    },
    "papermill": {
     "duration": 0.067637,
     "end_time": "2022-04-17T10:11:10.247877",
     "exception": false,
     "start_time": "2022-04-17T10:11:10.180240",
     "status": "completed"
    },
    "tags": []
   },
   "outputs": [],
   "source": [
    "#creating the x and y ranges according to the above generated plot.\n",
    "x_range = np.linspace(-4, 1, 100) \n",
    "y_range = np.linspace(-6, 6, 100) \n",
    "x_grid, y_grid = np.meshgrid(x_range, y_range) # x_grid and y_grig are of size 100 X 100\n",
    "\n",
    "# converting x_grid and y_grid to continuous arrays\n",
    "x_gridflat = np.ravel(x_grid)\n",
    "y_gridflat = np.ravel(y_grid)\n",
    "\n",
    "# The last layer of the current model takes two columns as input. Hence transpose of np.vstack() is required.\n",
    "X = np.vstack((x_gridflat, y_gridflat)).T\n",
    "\n",
    "prob_contour = model_prob(X).reshape(100,100) "
   ]
  },
  {
   "cell_type": "code",
   "execution_count": 29,
   "id": "da72499a",
   "metadata": {
    "execution": {
     "iopub.execute_input": "2022-04-17T10:11:10.364207Z",
     "iopub.status.busy": "2022-04-17T10:11:10.363661Z",
     "iopub.status.idle": "2022-04-17T10:11:10.594333Z",
     "shell.execute_reply": "2022-04-17T10:11:10.594798Z"
    },
    "papermill": {
     "duration": 0.302748,
     "end_time": "2022-04-17T10:11:10.594950",
     "exception": false,
     "start_time": "2022-04-17T10:11:10.292202",
     "status": "completed"
    },
    "tags": []
   },
   "outputs": [
    {
     "data": {
      "image/png": "[encoded data removed]",
      "text/plain": [
       "<Figure size 720x648 with 1 Axes>"
      ]
     },
     "metadata": {
      "needs_background": "light"
     },
     "output_type": "display_data"
    }
   ],
   "source": [
    "plt.figure(figsize=(10,9))\n",
    "plt.scatter(testing_plot[:,0], testing_plot[:,1], alpha = 0.1, c = y_test.ravel())\n",
    "contours = plt.contour(x_grid,y_grid,prob_contour)\n",
    "plt.title('Probability Contours')\n",
    "plt.clabel(contours, inline = True );"
   ]
  },
  {
   "cell_type": "code",
   "execution_count": null,
   "id": "e81b4ac7",
   "metadata": {
    "papermill": {
     "duration": 0.0467,
     "end_time": "2022-04-17T10:11:10.689287",
     "exception": false,
     "start_time": "2022-04-17T10:11:10.642587",
     "status": "completed"
    },
    "tags": []
   },
   "outputs": [],
   "source": []
  }
 ],
 "metadata": {
  "kernelspec": {
   "display_name": "Python 3",
   "language": "python",
   "name": "python3"
  },
  "language_info": {
   "codemirror_mode": {
    "name": "ipython",
    "version": 3
   },
   "file_extension": ".py",
   "mimetype": "text/x-python",
   "name": "python",
   "nbconvert_exporter": "python",
   "pygments_lexer": "ipython3",
   "version": "3.6.15"
  },
  "papermill": {
   "default_parameters": {},
   "duration": 95.86887,
   "end_time": "2022-04-17T10:11:11.054068",
   "environment_variables": {},
   "exception": null,
   "input_path": "2020-08-11-part2.ipynb",
   "output_path": "2020-08-11-part2.ipynb",
   "parameters": {},
   "start_time": "2022-04-17T10:09:35.185198",
   "version": "2.3.3"
  }
 },
 "nbformat": 4,
 "nbformat_minor": 5
}