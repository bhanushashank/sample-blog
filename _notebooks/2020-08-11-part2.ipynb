{
 "cells": [
  {
   "cell_type": "markdown",
   "id": "98380cd3",
   "metadata": {
    "papermill": {
     "duration": 0.024774,
     "end_time": "2021-12-25T20:08:44.928268",
     "exception": false,
     "start_time": "2021-12-25T20:08:44.903494",
     "status": "completed"
    },
    "tags": []
   },
   "source": [
    "# Distinguish Your Own Digits (DYOD)"
   ]
  },
  {
   "cell_type": "markdown",
   "id": "ef31240d",
   "metadata": {
    "papermill": {
     "duration": 0.020716,
     "end_time": "2021-12-25T20:08:44.970405",
     "exception": false,
     "start_time": "2021-12-25T20:08:44.949689",
     "status": "completed"
    },
    "tags": []
   },
   "source": [
    "You are going to write a classifier that distinguishes between the number 3 and number 8."
   ]
  },
  {
   "cell_type": "code",
   "execution_count": 1,
   "id": "b15c8646",
   "metadata": {
    "execution": {
     "iopub.execute_input": "2021-12-25T20:08:45.023093Z",
     "iopub.status.busy": "2021-12-25T20:08:45.022632Z",
     "iopub.status.idle": "2021-12-25T20:08:45.033066Z",
     "shell.execute_reply": "2021-12-25T20:08:45.032678Z"
    },
    "papermill": {
     "duration": 0.042017,
     "end_time": "2021-12-25T20:08:45.033176",
     "exception": false,
     "start_time": "2021-12-25T20:08:44.991159",
     "status": "completed"
    },
    "tags": []
   },
   "outputs": [],
   "source": [
    "%load_ext autoreload\n",
    "%autoreload 2"
   ]
  },
  {
   "cell_type": "code",
   "execution_count": 2,
   "id": "22ef38dc",
   "metadata": {
    "execution": {
     "iopub.execute_input": "2021-12-25T20:08:45.089839Z",
     "iopub.status.busy": "2021-12-25T20:08:45.089387Z",
     "iopub.status.idle": "2021-12-25T20:08:45.647765Z",
     "shell.execute_reply": "2021-12-25T20:08:45.647239Z"
    },
    "papermill": {
     "duration": 0.593881,
     "end_time": "2021-12-25T20:08:45.647904",
     "exception": false,
     "start_time": "2021-12-25T20:08:45.054023",
     "status": "completed"
    },
    "tags": []
   },
   "outputs": [],
   "source": [
    "%matplotlib inline\n",
    "import numpy as np\n",
    "import matplotlib.pyplot as plt\n",
    "import pandas as pd"
   ]
  },
  {
   "cell_type": "markdown",
   "id": "ba036198",
   "metadata": {
    "papermill": {
     "duration": 0.020967,
     "end_time": "2021-12-25T20:08:45.692187",
     "exception": false,
     "start_time": "2021-12-25T20:08:45.671220",
     "status": "completed"
    },
    "tags": []
   },
   "source": [
    "From the command line run `pip install mnist`. This is a library that will help you bring down the mnist dataset. If you run this from a notebook, you need to put  `!pip install mnist` in a cell by itself."
   ]
  },
  {
   "cell_type": "code",
   "execution_count": 3,
   "id": "bb6ad8a1",
   "metadata": {
    "execution": {
     "iopub.execute_input": "2021-12-25T20:08:45.738084Z",
     "iopub.status.busy": "2021-12-25T20:08:45.737630Z",
     "iopub.status.idle": "2021-12-25T20:08:48.102015Z",
     "shell.execute_reply": "2021-12-25T20:08:48.101162Z"
    },
    "papermill": {
     "duration": 2.388889,
     "end_time": "2021-12-25T20:08:48.102159",
     "exception": false,
     "start_time": "2021-12-25T20:08:45.713270",
     "status": "completed"
    },
    "tags": []
   },
   "outputs": [
    {
     "name": "stdout",
     "output_type": "stream",
     "text": [
      "Collecting mnist\r\n"
     ]
    },
    {
     "name": "stdout",
     "output_type": "stream",
     "text": [
      "  Downloading mnist-0.2.2-py2.py3-none-any.whl (3.5 kB)\r\n",
      "Requirement already satisfied: numpy in /opt/hostedtoolcache/Python/3.6.15/x64/lib/python3.6/site-packages (from mnist) (1.19.5)\r\n"
     ]
    },
    {
     "name": "stdout",
     "output_type": "stream",
     "text": [
      "Installing collected packages: mnist\r\n"
     ]
    },
    {
     "name": "stdout",
     "output_type": "stream",
     "text": [
      "Successfully installed mnist-0.2.2\r\n"
     ]
    }
   ],
   "source": [
    "!pip install mnist"
   ]
  },
  {
   "cell_type": "markdown",
   "id": "69df9c9a",
   "metadata": {
    "papermill": {
     "duration": 0.024745,
     "end_time": "2021-12-25T20:08:48.152407",
     "exception": false,
     "start_time": "2021-12-25T20:08:48.127662",
     "status": "completed"
    },
    "tags": []
   },
   "source": [
    "## Preparing the Data"
   ]
  },
  {
   "cell_type": "code",
   "execution_count": 4,
   "id": "7f69d806",
   "metadata": {
    "execution": {
     "iopub.execute_input": "2021-12-25T20:08:48.205919Z",
     "iopub.status.busy": "2021-12-25T20:08:48.205408Z",
     "iopub.status.idle": "2021-12-25T20:08:48.218245Z",
     "shell.execute_reply": "2021-12-25T20:08:48.217811Z"
    },
    "papermill": {
     "duration": 0.041276,
     "end_time": "2021-12-25T20:08:48.218354",
     "exception": false,
     "start_time": "2021-12-25T20:08:48.177078",
     "status": "completed"
    },
    "tags": []
   },
   "outputs": [],
   "source": [
    "import mnist"
   ]
  },
  {
   "cell_type": "code",
   "execution_count": 5,
   "id": "a411e44f",
   "metadata": {
    "execution": {
     "iopub.execute_input": "2021-12-25T20:08:48.280174Z",
     "iopub.status.busy": "2021-12-25T20:08:48.279650Z",
     "iopub.status.idle": "2021-12-25T20:08:48.761264Z",
     "shell.execute_reply": "2021-12-25T20:08:48.760727Z"
    },
    "papermill": {
     "duration": 0.518132,
     "end_time": "2021-12-25T20:08:48.761407",
     "exception": false,
     "start_time": "2021-12-25T20:08:48.243275",
     "status": "completed"
    },
    "tags": []
   },
   "outputs": [],
   "source": [
    "train_images = mnist.train_images()\n",
    "train_labels = mnist.train_labels()"
   ]
  },
  {
   "cell_type": "code",
   "execution_count": 6,
   "id": "dceab3a5",
   "metadata": {
    "execution": {
     "iopub.execute_input": "2021-12-25T20:08:48.817355Z",
     "iopub.status.busy": "2021-12-25T20:08:48.816829Z",
     "iopub.status.idle": "2021-12-25T20:08:48.828693Z",
     "shell.execute_reply": "2021-12-25T20:08:48.828233Z"
    },
    "papermill": {
     "duration": 0.041903,
     "end_time": "2021-12-25T20:08:48.828807",
     "exception": false,
     "start_time": "2021-12-25T20:08:48.786904",
     "status": "completed"
    },
    "tags": []
   },
   "outputs": [
    {
     "data": {
      "text/plain": [
       "((60000, 28, 28), (60000,))"
      ]
     },
     "execution_count": 6,
     "metadata": {},
     "output_type": "execute_result"
    }
   ],
   "source": [
    "train_images.shape, train_labels.shape"
   ]
  },
  {
   "cell_type": "code",
   "execution_count": 7,
   "id": "f50dc2bb",
   "metadata": {
    "execution": {
     "iopub.execute_input": "2021-12-25T20:08:48.892812Z",
     "iopub.status.busy": "2021-12-25T20:08:48.887071Z",
     "iopub.status.idle": "2021-12-25T20:08:49.022488Z",
     "shell.execute_reply": "2021-12-25T20:08:49.021967Z"
    },
    "papermill": {
     "duration": 0.168759,
     "end_time": "2021-12-25T20:08:49.022627",
     "exception": false,
     "start_time": "2021-12-25T20:08:48.853868",
     "status": "completed"
    },
    "tags": []
   },
   "outputs": [],
   "source": [
    "test_images = mnist.test_images()\n",
    "test_labels = mnist.test_labels()"
   ]
  },
  {
   "cell_type": "code",
   "execution_count": 8,
   "id": "fc38cf1b",
   "metadata": {
    "execution": {
     "iopub.execute_input": "2021-12-25T20:08:49.080895Z",
     "iopub.status.busy": "2021-12-25T20:08:49.080352Z",
     "iopub.status.idle": "2021-12-25T20:08:49.090337Z",
     "shell.execute_reply": "2021-12-25T20:08:49.089925Z"
    },
    "papermill": {
     "duration": 0.041627,
     "end_time": "2021-12-25T20:08:49.090453",
     "exception": false,
     "start_time": "2021-12-25T20:08:49.048826",
     "status": "completed"
    },
    "tags": []
   },
   "outputs": [
    {
     "data": {
      "text/plain": [
       "((10000, 28, 28), (10000,))"
      ]
     },
     "execution_count": 8,
     "metadata": {},
     "output_type": "execute_result"
    }
   ],
   "source": [
    "test_images.shape, test_labels.shape"
   ]
  },
  {
   "cell_type": "code",
   "execution_count": 9,
   "id": "f9ed8fe0",
   "metadata": {
    "execution": {
     "iopub.execute_input": "2021-12-25T20:08:49.153347Z",
     "iopub.status.busy": "2021-12-25T20:08:49.150837Z",
     "iopub.status.idle": "2021-12-25T20:08:49.272899Z",
     "shell.execute_reply": "2021-12-25T20:08:49.272443Z"
    },
    "papermill": {
     "duration": 0.157153,
     "end_time": "2021-12-25T20:08:49.273026",
     "exception": false,
     "start_time": "2021-12-25T20:08:49.115873",
     "status": "completed"
    },
    "tags": []
   },
   "outputs": [
    {
     "name": "stdout",
     "output_type": "stream",
     "text": [
      "2\n"
     ]
    },
    {
     "data": {
      "text/plain": [
       "<matplotlib.image.AxesImage at 0x7fcc21a0c5c0>"
      ]
     },
     "execution_count": 9,
     "metadata": {},
     "output_type": "execute_result"
    },
    {
     "data": {
      "image/png": "[encoded data removed]",
      "text/plain": [
       "<Figure size 432x288 with 1 Axes>"
      ]
     },
     "metadata": {
      "needs_background": "light"
     },
     "output_type": "display_data"
    }
   ],
   "source": [
    "image_index = 7776 # You may select anything up to 60,000\n",
    "print(train_labels[image_index]) \n",
    "plt.imshow(train_images[image_index], cmap='Greys')"
   ]
  },
  {
   "cell_type": "markdown",
   "id": "a8d2388d",
   "metadata": {
    "papermill": {
     "duration": 0.026529,
     "end_time": "2021-12-25T20:08:49.326386",
     "exception": false,
     "start_time": "2021-12-25T20:08:49.299857",
     "status": "completed"
    },
    "tags": []
   },
   "source": [
    "## Filter data to get 3 and 8 out"
   ]
  },
  {
   "cell_type": "code",
   "execution_count": 10,
   "id": "776f7fc7",
   "metadata": {
    "execution": {
     "iopub.execute_input": "2021-12-25T20:08:49.383563Z",
     "iopub.status.busy": "2021-12-25T20:08:49.383035Z",
     "iopub.status.idle": "2021-12-25T20:08:49.398883Z",
     "shell.execute_reply": "2021-12-25T20:08:49.399268Z"
    },
    "papermill": {
     "duration": 0.046348,
     "end_time": "2021-12-25T20:08:49.399404",
     "exception": false,
     "start_time": "2021-12-25T20:08:49.353056",
     "status": "completed"
    },
    "tags": []
   },
   "outputs": [],
   "source": [
    "train_filter = np.where((train_labels == 3 ) | (train_labels == 8))\n",
    "test_filter = np.where((test_labels == 3) | (test_labels == 8))\n",
    "X_train, y_train = train_images[train_filter], train_labels[train_filter]\n",
    "X_test, y_test = test_images[test_filter], test_labels[test_filter]"
   ]
  },
  {
   "cell_type": "markdown",
   "id": "948f0b7e",
   "metadata": {
    "papermill": {
     "duration": 0.026225,
     "end_time": "2021-12-25T20:08:49.451996",
     "exception": false,
     "start_time": "2021-12-25T20:08:49.425771",
     "status": "completed"
    },
    "tags": []
   },
   "source": [
    "We normalize the pizel values in the 0 to 1 range"
   ]
  },
  {
   "cell_type": "code",
   "execution_count": 11,
   "id": "ee4c2166",
   "metadata": {
    "execution": {
     "iopub.execute_input": "2021-12-25T20:08:49.508570Z",
     "iopub.status.busy": "2021-12-25T20:08:49.508052Z",
     "iopub.status.idle": "2021-12-25T20:08:49.553487Z",
     "shell.execute_reply": "2021-12-25T20:08:49.552973Z"
    },
    "papermill": {
     "duration": 0.075096,
     "end_time": "2021-12-25T20:08:49.553626",
     "exception": false,
     "start_time": "2021-12-25T20:08:49.478530",
     "status": "completed"
    },
    "tags": []
   },
   "outputs": [],
   "source": [
    "X_train = X_train/255.\n",
    "X_test = X_test/255."
   ]
  },
  {
   "cell_type": "markdown",
   "id": "ddcf4fab",
   "metadata": {
    "papermill": {
     "duration": 0.026894,
     "end_time": "2021-12-25T20:08:49.607720",
     "exception": false,
     "start_time": "2021-12-25T20:08:49.580826",
     "status": "completed"
    },
    "tags": []
   },
   "source": [
    "And setup the labels as 1 (when the digit is 3) and 0 (when the digit is 8)"
   ]
  },
  {
   "cell_type": "code",
   "execution_count": 12,
   "id": "7dc908f2",
   "metadata": {
    "execution": {
     "iopub.execute_input": "2021-12-25T20:08:49.664191Z",
     "iopub.status.busy": "2021-12-25T20:08:49.663583Z",
     "iopub.status.idle": "2021-12-25T20:08:49.674331Z",
     "shell.execute_reply": "2021-12-25T20:08:49.674705Z"
    },
    "papermill": {
     "duration": 0.040792,
     "end_time": "2021-12-25T20:08:49.674823",
     "exception": false,
     "start_time": "2021-12-25T20:08:49.634031",
     "status": "completed"
    },
    "tags": []
   },
   "outputs": [],
   "source": [
    "y_train = 1*(y_train==3)\n",
    "y_test = 1*(y_test==3)"
   ]
  },
  {
   "cell_type": "code",
   "execution_count": 13,
   "id": "01e4e969",
   "metadata": {
    "execution": {
     "iopub.execute_input": "2021-12-25T20:08:49.736808Z",
     "iopub.status.busy": "2021-12-25T20:08:49.730866Z",
     "iopub.status.idle": "2021-12-25T20:08:49.739257Z",
     "shell.execute_reply": "2021-12-25T20:08:49.739594Z"
    },
    "papermill": {
     "duration": 0.04147,
     "end_time": "2021-12-25T20:08:49.739707",
     "exception": false,
     "start_time": "2021-12-25T20:08:49.698237",
     "status": "completed"
    },
    "tags": []
   },
   "outputs": [
    {
     "data": {
      "text/plain": [
       "((11982, 28, 28), (1984, 28, 28))"
      ]
     },
     "execution_count": 13,
     "metadata": {},
     "output_type": "execute_result"
    }
   ],
   "source": [
    "X_train.shape, X_test.shape"
   ]
  },
  {
   "cell_type": "markdown",
   "id": "5ccf3f85",
   "metadata": {
    "papermill": {
     "duration": 0.023234,
     "end_time": "2021-12-25T20:08:49.786431",
     "exception": false,
     "start_time": "2021-12-25T20:08:49.763197",
     "status": "completed"
    },
    "tags": []
   },
   "source": [
    "We reshape the data to flatten the image pixels into a set of features or co-variates:"
   ]
  },
  {
   "cell_type": "code",
   "execution_count": 14,
   "id": "5286a4a3",
   "metadata": {
    "execution": {
     "iopub.execute_input": "2021-12-25T20:08:49.852302Z",
     "iopub.status.busy": "2021-12-25T20:08:49.851848Z",
     "iopub.status.idle": "2021-12-25T20:08:49.854878Z",
     "shell.execute_reply": "2021-12-25T20:08:49.854497Z"
    },
    "papermill": {
     "duration": 0.045078,
     "end_time": "2021-12-25T20:08:49.854973",
     "exception": false,
     "start_time": "2021-12-25T20:08:49.809895",
     "status": "completed"
    },
    "tags": []
   },
   "outputs": [
    {
     "data": {
      "text/plain": [
       "((11982, 784), (1984, 784))"
      ]
     },
     "execution_count": 14,
     "metadata": {},
     "output_type": "execute_result"
    }
   ],
   "source": [
    "X_train = X_train.reshape(X_train.shape[0], -1)\n",
    "X_test = X_test.reshape(X_test.shape[0], -1)\n",
    "X_train.shape, X_test.shape"
   ]
  },
  {
   "cell_type": "code",
   "execution_count": 15,
   "id": "73c5f88a",
   "metadata": {
    "execution": {
     "iopub.execute_input": "2021-12-25T20:08:49.920063Z",
     "iopub.status.busy": "2021-12-25T20:08:49.919598Z",
     "iopub.status.idle": "2021-12-25T20:08:49.929970Z",
     "shell.execute_reply": "2021-12-25T20:08:49.930308Z"
    },
    "papermill": {
     "duration": 0.05168,
     "end_time": "2021-12-25T20:08:49.930422",
     "exception": false,
     "start_time": "2021-12-25T20:08:49.878742",
     "status": "completed"
    },
    "tags": []
   },
   "outputs": [],
   "source": [
    "#Impoting functions from 'Kudzu'\n",
    "from kudzu.model import Model\n",
    "from kudzu.train import Learner\n",
    "from kudzu.optim import GD\n",
    "from kudzu.data import Data, Sampler,Dataloader\n",
    "\n",
    "from kudzu.callbacks import AccCallback\n",
    "from kudzu.callbacks import ClfCallback\n",
    "\n",
    "from kudzu.loss import MSE\n",
    "\n",
    "from kudzu.layer import Sigmoid,Relu\n",
    "from kudzu.layer import Affine"
   ]
  },
  {
   "cell_type": "markdown",
   "id": "bc01172a",
   "metadata": {
    "papermill": {
     "duration": 0.023656,
     "end_time": "2021-12-25T20:08:49.977848",
     "exception": false,
     "start_time": "2021-12-25T20:08:49.954192",
     "status": "completed"
    },
    "tags": []
   },
   "source": [
    "### Let us create a `Config` class, to store important parameters. \n",
    "This class essentially plays the role of a dictionary."
   ]
  },
  {
   "cell_type": "code",
   "execution_count": 16,
   "id": "978281aa",
   "metadata": {
    "execution": {
     "iopub.execute_input": "2021-12-25T20:08:50.028188Z",
     "iopub.status.busy": "2021-12-25T20:08:50.027736Z",
     "iopub.status.idle": "2021-12-25T20:08:50.039726Z",
     "shell.execute_reply": "2021-12-25T20:08:50.040159Z"
    },
    "papermill": {
     "duration": 0.038899,
     "end_time": "2021-12-25T20:08:50.040271",
     "exception": false,
     "start_time": "2021-12-25T20:08:50.001372",
     "status": "completed"
    },
    "tags": []
   },
   "outputs": [],
   "source": [
    "class Config:\n",
    "    pass\n",
    "config = Config()\n",
    "config.lr = 0.001\n",
    "config.num_epochs = 250\n",
    "config.bs = 50"
   ]
  },
  {
   "cell_type": "markdown",
   "id": "1385fa59",
   "metadata": {
    "papermill": {
     "duration": 0.023552,
     "end_time": "2021-12-25T20:08:50.087577",
     "exception": false,
     "start_time": "2021-12-25T20:08:50.064025",
     "status": "completed"
    },
    "tags": []
   },
   "source": [
    "### Running Models with the Training data\n",
    "Details about the network layers:\n",
    "- A first affine layer has 784 inputs and does 100 affine transforms. These are followed by a Relu\n",
    "- A second affine layer has 100 inputs from the 100 activations of the past layer, and does 100 affine transforms. These are followed by a Relu\n",
    "- A third affine layer has 100 activations and does 2 affine transformations to create an embedding for visualization. There is no non-linearity here.\n",
    "- A final \"logistic regression\" which has an affine transform from 2 inputs to 1 output, which is squeezed through a sigmoid.\n"
   ]
  },
  {
   "cell_type": "code",
   "execution_count": 17,
   "id": "2b9c66db",
   "metadata": {
    "execution": {
     "iopub.execute_input": "2021-12-25T20:08:50.153238Z",
     "iopub.status.busy": "2021-12-25T20:08:50.152740Z",
     "iopub.status.idle": "2021-12-25T20:08:50.156944Z",
     "shell.execute_reply": "2021-12-25T20:08:50.156547Z"
    },
    "papermill": {
     "duration": 0.045876,
     "end_time": "2021-12-25T20:08:50.157052",
     "exception": false,
     "start_time": "2021-12-25T20:08:50.111176",
     "status": "completed"
    },
    "tags": []
   },
   "outputs": [],
   "source": [
    "data = Data(X_train, y_train.reshape(-1,1))\n",
    "sampler = Sampler(data, config.bs, shuffle=True)\n",
    "\n",
    "dl = Dataloader(data, sampler)\n",
    "\n",
    "opt = GD(config.lr)\n",
    "loss = MSE()"
   ]
  },
  {
   "cell_type": "code",
   "execution_count": 18,
   "id": "b275e4c2",
   "metadata": {
    "execution": {
     "iopub.execute_input": "2021-12-25T20:08:50.207827Z",
     "iopub.status.busy": "2021-12-25T20:08:50.207380Z",
     "iopub.status.idle": "2021-12-25T20:08:50.220182Z",
     "shell.execute_reply": "2021-12-25T20:08:50.219823Z"
    },
    "papermill": {
     "duration": 0.039374,
     "end_time": "2021-12-25T20:08:50.220283",
     "exception": false,
     "start_time": "2021-12-25T20:08:50.180909",
     "status": "completed"
    },
    "tags": []
   },
   "outputs": [],
   "source": [
    "training_data_x = X_train\n",
    "testing_data_x = X_test\n",
    "training_data_y = y_train.reshape(-1,1)\n",
    "testing_data_y = y_test.reshape(-1,1)"
   ]
  },
  {
   "cell_type": "code",
   "execution_count": 19,
   "id": "76951160",
   "metadata": {
    "execution": {
     "iopub.execute_input": "2021-12-25T20:08:50.271429Z",
     "iopub.status.busy": "2021-12-25T20:08:50.270975Z",
     "iopub.status.idle": "2021-12-25T20:08:50.286795Z",
     "shell.execute_reply": "2021-12-25T20:08:50.286415Z"
    },
    "papermill": {
     "duration": 0.042991,
     "end_time": "2021-12-25T20:08:50.286898",
     "exception": false,
     "start_time": "2021-12-25T20:08:50.243907",
     "status": "completed"
    },
    "tags": []
   },
   "outputs": [
    {
     "name": "stdout",
     "output_type": "stream",
     "text": [
      "xavier\n",
      "xavier\n",
      "xavier\n",
      "xavier\n",
      "xavier\n"
     ]
    }
   ],
   "source": [
    "layers = [Affine(\"first\", 784, 100), Relu(\"first\"), Affine(\"second\", 100, 100), Relu(\"second\"), Affine(\"third\", 100, 2), Affine(\"last\", 2, 1), Sigmoid(\"last\")]\n",
    "model_nn = Model(layers)\n",
    "model_lr = Model([Affine(\"logits\", 784, 1), Sigmoid(\"sigmoid\")])"
   ]
  },
  {
   "cell_type": "code",
   "execution_count": 20,
   "id": "6eede77a",
   "metadata": {
    "execution": {
     "iopub.execute_input": "2021-12-25T20:08:50.343783Z",
     "iopub.status.busy": "2021-12-25T20:08:50.343281Z",
     "iopub.status.idle": "2021-12-25T20:08:50.351755Z",
     "shell.execute_reply": "2021-12-25T20:08:50.351324Z"
    },
    "papermill": {
     "duration": 0.04093,
     "end_time": "2021-12-25T20:08:50.351856",
     "exception": false,
     "start_time": "2021-12-25T20:08:50.310926",
     "status": "completed"
    },
    "tags": []
   },
   "outputs": [],
   "source": [
    "nn_learner = Learner(loss, model_nn, opt, config.num_epochs)\n",
    "acc_nn = ClfCallback(nn_learner, config.bs, training_data_x , testing_data_x, training_data_y, testing_data_y)\n",
    "nn_learner.set_callbacks([acc_nn])"
   ]
  },
  {
   "cell_type": "code",
   "execution_count": 21,
   "id": "877b6cc7",
   "metadata": {
    "execution": {
     "iopub.execute_input": "2021-12-25T20:08:50.414138Z",
     "iopub.status.busy": "2021-12-25T20:08:50.409674Z",
     "iopub.status.idle": "2021-12-25T20:08:50.419774Z",
     "shell.execute_reply": "2021-12-25T20:08:50.420180Z"
    },
    "papermill": {
     "duration": 0.041388,
     "end_time": "2021-12-25T20:08:50.420297",
     "exception": false,
     "start_time": "2021-12-25T20:08:50.378909",
     "status": "completed"
    },
    "tags": []
   },
   "outputs": [],
   "source": [
    "lr_learner = Learner(loss, model_lr, opt, config.num_epochs)\n",
    "acc_lr = ClfCallback(lr_learner, config.bs, training_data_x , testing_data_x, training_data_y, testing_data_y)\n",
    "lr_learner.set_callbacks([acc_lr])"
   ]
  },
  {
   "cell_type": "code",
   "execution_count": 22,
   "id": "d9b133c3",
   "metadata": {
    "execution": {
     "iopub.execute_input": "2021-12-25T20:08:50.486117Z",
     "iopub.status.busy": "2021-12-25T20:08:50.481371Z",
     "iopub.status.idle": "2021-12-25T20:10:03.400322Z",
     "shell.execute_reply": "2021-12-25T20:10:03.400995Z"
    },
    "papermill": {
     "duration": 72.953825,
     "end_time": "2021-12-25T20:10:03.401133",
     "exception": false,
     "start_time": "2021-12-25T20:08:50.447308",
     "status": "completed"
    },
    "tags": []
   },
   "outputs": [
    {
     "name": "stdout",
     "output_type": "stream",
     "text": [
      "Epoch 0, Loss 0.2324\n",
      "Training Accuracy: 0.7414, Testing Accuracy: 0.7581\n",
      "\n"
     ]
    },
    {
     "name": "stdout",
     "output_type": "stream",
     "text": [
      "Epoch 10, Loss 0.0675\n",
      "Training Accuracy: 0.9321, Testing Accuracy: 0.9410\n",
      "\n"
     ]
    },
    {
     "name": "stdout",
     "output_type": "stream",
     "text": [
      "Epoch 20, Loss 0.0466\n",
      "Training Accuracy: 0.9484, Testing Accuracy: 0.9541\n",
      "\n"
     ]
    },
    {
     "name": "stdout",
     "output_type": "stream",
     "text": [
      "Epoch 30, Loss 0.0389\n",
      "Training Accuracy: 0.9553, Testing Accuracy: 0.9622\n",
      "\n"
     ]
    },
    {
     "name": "stdout",
     "output_type": "stream",
     "text": [
      "Epoch 40, Loss 0.0348\n",
      "Training Accuracy: 0.9595, Testing Accuracy: 0.9657\n",
      "\n"
     ]
    },
    {
     "name": "stdout",
     "output_type": "stream",
     "text": [
      "Epoch 50, Loss 0.032\n",
      "Training Accuracy: 0.9636, Testing Accuracy: 0.9682\n",
      "\n"
     ]
    },
    {
     "name": "stdout",
     "output_type": "stream",
     "text": [
      "Epoch 60, Loss 0.03\n",
      "Training Accuracy: 0.9656, Testing Accuracy: 0.9708\n",
      "\n"
     ]
    },
    {
     "name": "stdout",
     "output_type": "stream",
     "text": [
      "Epoch 70, Loss 0.0284\n",
      "Training Accuracy: 0.9679, Testing Accuracy: 0.9718\n",
      "\n"
     ]
    },
    {
     "name": "stdout",
     "output_type": "stream",
     "text": [
      "Epoch 80, Loss 0.0271\n",
      "Training Accuracy: 0.9692, Testing Accuracy: 0.9728\n",
      "\n"
     ]
    },
    {
     "name": "stdout",
     "output_type": "stream",
     "text": [
      "Epoch 90, Loss 0.026\n",
      "Training Accuracy: 0.9702, Testing Accuracy: 0.9723\n",
      "\n"
     ]
    },
    {
     "name": "stdout",
     "output_type": "stream",
     "text": [
      "Epoch 100, Loss 0.0251\n",
      "Training Accuracy: 0.9709, Testing Accuracy: 0.9713\n",
      "\n"
     ]
    },
    {
     "name": "stdout",
     "output_type": "stream",
     "text": [
      "Epoch 110, Loss 0.0242\n",
      "Training Accuracy: 0.9724, Testing Accuracy: 0.9713\n",
      "\n"
     ]
    },
    {
     "name": "stdout",
     "output_type": "stream",
     "text": [
      "Epoch 120, Loss 0.0234\n",
      "Training Accuracy: 0.9732, Testing Accuracy: 0.9718\n",
      "\n"
     ]
    },
    {
     "name": "stdout",
     "output_type": "stream",
     "text": [
      "Epoch 130, Loss 0.0227\n",
      "Training Accuracy: 0.9739, Testing Accuracy: 0.9728\n",
      "\n"
     ]
    },
    {
     "name": "stdout",
     "output_type": "stream",
     "text": [
      "Epoch 140, Loss 0.022\n",
      "Training Accuracy: 0.9746, Testing Accuracy: 0.9728\n",
      "\n"
     ]
    },
    {
     "name": "stdout",
     "output_type": "stream",
     "text": [
      "Epoch 150, Loss 0.0214\n",
      "Training Accuracy: 0.9754, Testing Accuracy: 0.9723\n",
      "\n"
     ]
    },
    {
     "name": "stdout",
     "output_type": "stream",
     "text": [
      "Epoch 160, Loss 0.0208\n",
      "Training Accuracy: 0.9761, Testing Accuracy: 0.9723\n",
      "\n"
     ]
    },
    {
     "name": "stdout",
     "output_type": "stream",
     "text": [
      "Epoch 170, Loss 0.0202\n",
      "Training Accuracy: 0.9767, Testing Accuracy: 0.9728\n",
      "\n"
     ]
    },
    {
     "name": "stdout",
     "output_type": "stream",
     "text": [
      "Epoch 180, Loss 0.0197\n",
      "Training Accuracy: 0.9772, Testing Accuracy: 0.9748\n",
      "\n"
     ]
    },
    {
     "name": "stdout",
     "output_type": "stream",
     "text": [
      "Epoch 190, Loss 0.0192\n",
      "Training Accuracy: 0.9779, Testing Accuracy: 0.9748\n",
      "\n"
     ]
    },
    {
     "name": "stdout",
     "output_type": "stream",
     "text": [
      "Epoch 200, Loss 0.0187\n",
      "Training Accuracy: 0.9784, Testing Accuracy: 0.9758\n",
      "\n"
     ]
    },
    {
     "name": "stdout",
     "output_type": "stream",
     "text": [
      "Epoch 210, Loss 0.0183\n",
      "Training Accuracy: 0.9789, Testing Accuracy: 0.9758\n",
      "\n"
     ]
    },
    {
     "name": "stdout",
     "output_type": "stream",
     "text": [
      "Epoch 220, Loss 0.0178\n",
      "Training Accuracy: 0.9797, Testing Accuracy: 0.9758\n",
      "\n"
     ]
    },
    {
     "name": "stdout",
     "output_type": "stream",
     "text": [
      "Epoch 230, Loss 0.0174\n",
      "Training Accuracy: 0.9804, Testing Accuracy: 0.9758\n",
      "\n"
     ]
    },
    {
     "name": "stdout",
     "output_type": "stream",
     "text": [
      "Epoch 240, Loss 0.017\n",
      "Training Accuracy: 0.9810, Testing Accuracy: 0.9763\n",
      "\n"
     ]
    },
    {
     "data": {
      "text/plain": [
       "0.018344017811433216"
      ]
     },
     "execution_count": 22,
     "metadata": {},
     "output_type": "execute_result"
    }
   ],
   "source": [
    "nn_learner.train_loop(dl)"
   ]
  },
  {
   "cell_type": "code",
   "execution_count": 23,
   "id": "e0163366",
   "metadata": {
    "execution": {
     "iopub.execute_input": "2021-12-25T20:10:03.470057Z",
     "iopub.status.busy": "2021-12-25T20:10:03.469598Z",
     "iopub.status.idle": "2021-12-25T20:10:16.387704Z",
     "shell.execute_reply": "2021-12-25T20:10:16.388390Z"
    },
    "papermill": {
     "duration": 12.956945,
     "end_time": "2021-12-25T20:10:16.388533",
     "exception": false,
     "start_time": "2021-12-25T20:10:03.431588",
     "status": "completed"
    },
    "tags": []
   },
   "outputs": [
    {
     "name": "stdout",
     "output_type": "stream",
     "text": [
      "Epoch 0, Loss 0.2506\n",
      "Training Accuracy: 0.6585, Testing Accuracy: 0.6865\n",
      "\n"
     ]
    },
    {
     "name": "stdout",
     "output_type": "stream",
     "text": [
      "Epoch 10, Loss 0.1059\n",
      "Training Accuracy: 0.8987, Testing Accuracy: 0.9148\n",
      "\n"
     ]
    },
    {
     "name": "stdout",
     "output_type": "stream",
     "text": [
      "Epoch 20, Loss 0.0807\n",
      "Training Accuracy: 0.9221, Testing Accuracy: 0.9390\n",
      "\n"
     ]
    },
    {
     "name": "stdout",
     "output_type": "stream",
     "text": [
      "Epoch 30, Loss 0.0691\n",
      "Training Accuracy: 0.9339, Testing Accuracy: 0.9471\n",
      "\n"
     ]
    },
    {
     "name": "stdout",
     "output_type": "stream",
     "text": [
      "Epoch 40, Loss 0.0622\n",
      "Training Accuracy: 0.9394, Testing Accuracy: 0.9521\n",
      "\n"
     ]
    },
    {
     "name": "stdout",
     "output_type": "stream",
     "text": [
      "Epoch 50, Loss 0.0575\n",
      "Training Accuracy: 0.9432, Testing Accuracy: 0.9551\n",
      "\n"
     ]
    },
    {
     "name": "stdout",
     "output_type": "stream",
     "text": [
      "Epoch 60, Loss 0.0541\n",
      "Training Accuracy: 0.9464, Testing Accuracy: 0.9567\n",
      "\n"
     ]
    },
    {
     "name": "stdout",
     "output_type": "stream",
     "text": [
      "Epoch 70, Loss 0.0514\n",
      "Training Accuracy: 0.9493, Testing Accuracy: 0.9582\n",
      "\n"
     ]
    },
    {
     "name": "stdout",
     "output_type": "stream",
     "text": [
      "Epoch 80, Loss 0.0493\n",
      "Training Accuracy: 0.9509, Testing Accuracy: 0.9592\n",
      "\n"
     ]
    },
    {
     "name": "stdout",
     "output_type": "stream",
     "text": [
      "Epoch 90, Loss 0.0476\n",
      "Training Accuracy: 0.9523, Testing Accuracy: 0.9597\n",
      "\n"
     ]
    },
    {
     "name": "stdout",
     "output_type": "stream",
     "text": [
      "Epoch 100, Loss 0.0461\n",
      "Training Accuracy: 0.9532, Testing Accuracy: 0.9602\n",
      "\n"
     ]
    },
    {
     "name": "stdout",
     "output_type": "stream",
     "text": [
      "Epoch 110, Loss 0.0449\n",
      "Training Accuracy: 0.9539, Testing Accuracy: 0.9607\n",
      "\n"
     ]
    },
    {
     "name": "stdout",
     "output_type": "stream",
     "text": [
      "Epoch 120, Loss 0.0438\n",
      "Training Accuracy: 0.9553, Testing Accuracy: 0.9637\n",
      "\n"
     ]
    },
    {
     "name": "stdout",
     "output_type": "stream",
     "text": [
      "Epoch 130, Loss 0.0428\n",
      "Training Accuracy: 0.9559, Testing Accuracy: 0.9642\n",
      "\n"
     ]
    },
    {
     "name": "stdout",
     "output_type": "stream",
     "text": [
      "Epoch 140, Loss 0.042\n",
      "Training Accuracy: 0.9561, Testing Accuracy: 0.9637\n",
      "\n"
     ]
    },
    {
     "name": "stdout",
     "output_type": "stream",
     "text": [
      "Epoch 150, Loss 0.0412\n",
      "Training Accuracy: 0.9568, Testing Accuracy: 0.9647\n",
      "\n"
     ]
    },
    {
     "name": "stdout",
     "output_type": "stream",
     "text": [
      "Epoch 160, Loss 0.0406\n",
      "Training Accuracy: 0.9574, Testing Accuracy: 0.9647\n",
      "\n"
     ]
    },
    {
     "name": "stdout",
     "output_type": "stream",
     "text": [
      "Epoch 170, Loss 0.0399\n",
      "Training Accuracy: 0.9577, Testing Accuracy: 0.9657\n",
      "\n"
     ]
    },
    {
     "name": "stdout",
     "output_type": "stream",
     "text": [
      "Epoch 180, Loss 0.0394\n",
      "Training Accuracy: 0.9587, Testing Accuracy: 0.9657\n",
      "\n"
     ]
    },
    {
     "name": "stdout",
     "output_type": "stream",
     "text": [
      "Epoch 190, Loss 0.0388\n",
      "Training Accuracy: 0.9589, Testing Accuracy: 0.9652\n",
      "\n"
     ]
    },
    {
     "name": "stdout",
     "output_type": "stream",
     "text": [
      "Epoch 200, Loss 0.0384\n",
      "Training Accuracy: 0.9592, Testing Accuracy: 0.9652\n",
      "\n"
     ]
    },
    {
     "name": "stdout",
     "output_type": "stream",
     "text": [
      "Epoch 210, Loss 0.0379\n",
      "Training Accuracy: 0.9594, Testing Accuracy: 0.9652\n",
      "\n"
     ]
    },
    {
     "name": "stdout",
     "output_type": "stream",
     "text": [
      "Epoch 220, Loss 0.0375\n",
      "Training Accuracy: 0.9593, Testing Accuracy: 0.9657\n",
      "\n"
     ]
    },
    {
     "name": "stdout",
     "output_type": "stream",
     "text": [
      "Epoch 230, Loss 0.0371\n",
      "Training Accuracy: 0.9594, Testing Accuracy: 0.9652\n",
      "\n"
     ]
    },
    {
     "name": "stdout",
     "output_type": "stream",
     "text": [
      "Epoch 240, Loss 0.0367\n",
      "Training Accuracy: 0.9597, Testing Accuracy: 0.9652\n",
      "\n"
     ]
    },
    {
     "data": {
      "text/plain": [
       "0.03875195448893372"
      ]
     },
     "execution_count": 23,
     "metadata": {},
     "output_type": "execute_result"
    }
   ],
   "source": [
    "lr_learner.train_loop(dl)"
   ]
  },
  {
   "cell_type": "code",
   "execution_count": 24,
   "id": "ca410940",
   "metadata": {
    "execution": {
     "iopub.execute_input": "2021-12-25T20:10:16.470203Z",
     "iopub.status.busy": "2021-12-25T20:10:16.469730Z",
     "iopub.status.idle": "2021-12-25T20:10:16.675697Z",
     "shell.execute_reply": "2021-12-25T20:10:16.676127Z"
    },
    "papermill": {
     "duration": 0.250281,
     "end_time": "2021-12-25T20:10:16.676272",
     "exception": false,
     "start_time": "2021-12-25T20:10:16.425991",
     "status": "completed"
    },
    "tags": []
   },
   "outputs": [
    {
     "data": {
      "text/plain": [
       "<matplotlib.legend.Legend at 0x7fcc215db630>"
      ]
     },
     "execution_count": 24,
     "metadata": {},
     "output_type": "execute_result"
    },
    {
     "data": {
      "image/png": "[encoded data removed]",
      "text/plain": [
       "<Figure size 1080x720 with 1 Axes>"
      ]
     },
     "metadata": {
      "needs_background": "light"
     },
     "output_type": "display_data"
    }
   ],
   "source": [
    "#comparing the results of NN and LR\n",
    "plt.figure(figsize=(15,10))\n",
    "\n",
    "# Neural Network plots\n",
    "plt.plot(acc_nn.accuracies, 'r-', label = \"Training Accuracies - NN\")\n",
    "plt.plot(acc_nn.test_accuracies, 'g-', label = \"Testing Accuracies - NN\")\n",
    "\n",
    "# Logistic Regression plots\n",
    "plt.plot(acc_lr.accuracies, 'k-', label = \"Training Accuracies - LR\")\n",
    "plt.plot(acc_lr.test_accuracies, 'b-', label = \"Testing Accuracies - LR\")\n",
    "plt.legend()"
   ]
  },
  {
   "cell_type": "markdown",
   "id": "80dfb35c",
   "metadata": {
    "papermill": {
     "duration": 0.037209,
     "end_time": "2021-12-25T20:10:16.751172",
     "exception": false,
     "start_time": "2021-12-25T20:10:16.713963",
     "status": "completed"
    },
    "tags": []
   },
   "source": [
    "#### Plotting the outputs of this layer of the NN.\n"
   ]
  },
  {
   "cell_type": "code",
   "execution_count": 25,
   "id": "45eb2ff5",
   "metadata": {
    "execution": {
     "iopub.execute_input": "2021-12-25T20:10:16.836061Z",
     "iopub.status.busy": "2021-12-25T20:10:16.835318Z",
     "iopub.status.idle": "2021-12-25T20:10:16.853849Z",
     "shell.execute_reply": "2021-12-25T20:10:16.853395Z"
    },
    "papermill": {
     "duration": 0.064448,
     "end_time": "2021-12-25T20:10:16.853972",
     "exception": false,
     "start_time": "2021-12-25T20:10:16.789524",
     "status": "completed"
    },
    "tags": []
   },
   "outputs": [],
   "source": [
    "new_model = Model(layers[:-2])\n",
    "testing_plot = new_model(testing_data_x)"
   ]
  },
  {
   "cell_type": "code",
   "execution_count": 26,
   "id": "4c0a5485",
   "metadata": {
    "execution": {
     "iopub.execute_input": "2021-12-25T20:10:16.945602Z",
     "iopub.status.busy": "2021-12-25T20:10:16.945093Z",
     "iopub.status.idle": "2021-12-25T20:10:17.158642Z",
     "shell.execute_reply": "2021-12-25T20:10:17.159062Z"
    },
    "papermill": {
     "duration": 0.261909,
     "end_time": "2021-12-25T20:10:17.159200",
     "exception": false,
     "start_time": "2021-12-25T20:10:16.897291",
     "status": "completed"
    },
    "tags": []
   },
   "outputs": [
    {
     "data": {
      "text/plain": [
       "Text(0.5, 1.0, 'Outputs')"
      ]
     },
     "execution_count": 26,
     "metadata": {},
     "output_type": "execute_result"
    },
    {
     "data": {
      "image/png": "[encoded data removed]",
      "text/plain": [
       "<Figure size 576x504 with 1 Axes>"
      ]
     },
     "metadata": {
      "needs_background": "light"
     },
     "output_type": "display_data"
    }
   ],
   "source": [
    "# Plotting the scatter plot of points and color coding by class\n",
    "plt.figure(figsize=(8,7))\n",
    "plt.scatter(testing_plot[:,0], testing_plot[:,1], alpha = 0.1, c = y_test.ravel());\n",
    "plt.title('Outputs')"
   ]
  },
  {
   "cell_type": "markdown",
   "id": "a74fcf8f",
   "metadata": {
    "papermill": {
     "duration": 0.044819,
     "end_time": "2021-12-25T20:10:17.249294",
     "exception": false,
     "start_time": "2021-12-25T20:10:17.204475",
     "status": "completed"
    },
    "tags": []
   },
   "source": [
    "Probability contours"
   ]
  },
  {
   "cell_type": "code",
   "execution_count": 27,
   "id": "d0afc8e3",
   "metadata": {
    "execution": {
     "iopub.execute_input": "2021-12-25T20:10:17.346804Z",
     "iopub.status.busy": "2021-12-25T20:10:17.346211Z",
     "iopub.status.idle": "2021-12-25T20:10:17.356024Z",
     "shell.execute_reply": "2021-12-25T20:10:17.355651Z"
    },
    "papermill": {
     "duration": 0.06174,
     "end_time": "2021-12-25T20:10:17.356130",
     "exception": false,
     "start_time": "2021-12-25T20:10:17.294390",
     "status": "completed"
    },
    "tags": []
   },
   "outputs": [],
   "source": [
    "model_prob = Model(layers[-2:]) "
   ]
  },
  {
   "cell_type": "code",
   "execution_count": 28,
   "id": "9b96e238",
   "metadata": {
    "execution": {
     "iopub.execute_input": "2021-12-25T20:10:17.464024Z",
     "iopub.status.busy": "2021-12-25T20:10:17.463554Z",
     "iopub.status.idle": "2021-12-25T20:10:17.476073Z",
     "shell.execute_reply": "2021-12-25T20:10:17.476434Z"
    },
    "papermill": {
     "duration": 0.08056,
     "end_time": "2021-12-25T20:10:17.476547",
     "exception": false,
     "start_time": "2021-12-25T20:10:17.395987",
     "status": "completed"
    },
    "tags": []
   },
   "outputs": [],
   "source": [
    "#creating the x and y ranges according to the above generated plot.\n",
    "x_range = np.linspace(-4, 1, 100) \n",
    "y_range = np.linspace(-6, 6, 100) \n",
    "x_grid, y_grid = np.meshgrid(x_range, y_range) # x_grid and y_grig are of size 100 X 100\n",
    "\n",
    "# converting x_grid and y_grid to continuous arrays\n",
    "x_gridflat = np.ravel(x_grid)\n",
    "y_gridflat = np.ravel(y_grid)\n",
    "\n",
    "# The last layer of the current model takes two columns as input. Hence transpose of np.vstack() is required.\n",
    "X = np.vstack((x_gridflat, y_gridflat)).T\n",
    "\n",
    "prob_contour = model_prob(X).reshape(100,100) "
   ]
  },
  {
   "cell_type": "code",
   "execution_count": 29,
   "id": "da72499a",
   "metadata": {
    "execution": {
     "iopub.execute_input": "2021-12-25T20:10:17.573765Z",
     "iopub.status.busy": "2021-12-25T20:10:17.573291Z",
     "iopub.status.idle": "2021-12-25T20:10:17.786791Z",
     "shell.execute_reply": "2021-12-25T20:10:17.787134Z"
    },
    "papermill": {
     "duration": 0.270404,
     "end_time": "2021-12-25T20:10:17.787264",
     "exception": false,
     "start_time": "2021-12-25T20:10:17.516860",
     "status": "completed"
    },
    "tags": []
   },
   "outputs": [
    {
     "data": {
      "image/png": "[encoded data removed]",
      "text/plain": [
       "<Figure size 720x648 with 1 Axes>"
      ]
     },
     "metadata": {
      "needs_background": "light"
     },
     "output_type": "display_data"
    }
   ],
   "source": [
    "plt.figure(figsize=(10,9))\n",
    "plt.scatter(testing_plot[:,0], testing_plot[:,1], alpha = 0.1, c = y_test.ravel())\n",
    "contours = plt.contour(x_grid,y_grid,prob_contour)\n",
    "plt.title('Probability Contours')\n",
    "plt.clabel(contours, inline = True );"
   ]
  },
  {
   "cell_type": "code",
   "execution_count": null,
   "id": "e81b4ac7",
   "metadata": {
    "papermill": {
     "duration": 0.041493,
     "end_time": "2021-12-25T20:10:17.870855",
     "exception": false,
     "start_time": "2021-12-25T20:10:17.829362",
     "status": "completed"
    },
    "tags": []
   },
   "outputs": [],
   "source": []
  }
 ],
 "metadata": {
  "kernelspec": {
   "display_name": "Python 3",
   "language": "python",
   "name": "python3"
  },
  "language_info": {
   "codemirror_mode": {
    "name": "ipython",
    "version": 3
   },
   "file_extension": ".py",
   "mimetype": "text/x-python",
   "name": "python",
   "nbconvert_exporter": "python",
   "pygments_lexer": "ipython3",
   "version": "3.6.15"
  },
  "papermill": {
   "default_parameters": {},
   "duration": 94.2052,
   "end_time": "2021-12-25T20:10:18.219395",
   "environment_variables": {},
   "exception": null,
   "input_path": "2020-08-11-part2.ipynb",
   "output_path": "2020-08-11-part2.ipynb",
   "parameters": {},
   "start_time": "2021-12-25T20:08:44.014195",
   "version": "2.3.3"
  }
 },
 "nbformat": 4,
 "nbformat_minor": 5
}