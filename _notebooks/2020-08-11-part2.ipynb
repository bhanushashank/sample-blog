{
 "cells": [
  {
   "cell_type": "markdown",
   "id": "98380cd3",
   "metadata": {
    "papermill": {
     "duration": 0.02834,
     "end_time": "2021-09-02T10:07:39.720930",
     "exception": false,
     "start_time": "2021-09-02T10:07:39.692590",
     "status": "completed"
    },
    "tags": []
   },
   "source": [
    "# Distinguish Your Own Digits (DYOD)"
   ]
  },
  {
   "cell_type": "markdown",
   "id": "ef31240d",
   "metadata": {
    "papermill": {
     "duration": 0.023434,
     "end_time": "2021-09-02T10:07:39.768476",
     "exception": false,
     "start_time": "2021-09-02T10:07:39.745042",
     "status": "completed"
    },
    "tags": []
   },
   "source": [
    "You are going to write a classifier that distinguishes between the number 3 and number 8."
   ]
  },
  {
   "cell_type": "code",
   "execution_count": 1,
   "id": "b15c8646",
   "metadata": {
    "execution": {
     "iopub.execute_input": "2021-09-02T10:07:39.826102Z",
     "iopub.status.busy": "2021-09-02T10:07:39.825576Z",
     "iopub.status.idle": "2021-09-02T10:07:39.835738Z",
     "shell.execute_reply": "2021-09-02T10:07:39.835270Z"
    },
    "papermill": {
     "duration": 0.043954,
     "end_time": "2021-09-02T10:07:39.835867",
     "exception": false,
     "start_time": "2021-09-02T10:07:39.791913",
     "status": "completed"
    },
    "tags": []
   },
   "outputs": [],
   "source": [
    "%load_ext autoreload\n",
    "%autoreload 2"
   ]
  },
  {
   "cell_type": "code",
   "execution_count": 2,
   "id": "22ef38dc",
   "metadata": {
    "execution": {
     "iopub.execute_input": "2021-09-02T10:07:39.891091Z",
     "iopub.status.busy": "2021-09-02T10:07:39.890568Z",
     "iopub.status.idle": "2021-09-02T10:07:40.401301Z",
     "shell.execute_reply": "2021-09-02T10:07:40.400786Z"
    },
    "papermill": {
     "duration": 0.541906,
     "end_time": "2021-09-02T10:07:40.401440",
     "exception": false,
     "start_time": "2021-09-02T10:07:39.859534",
     "status": "completed"
    },
    "tags": []
   },
   "outputs": [],
   "source": [
    "%matplotlib inline\n",
    "import numpy as np\n",
    "import matplotlib.pyplot as plt\n",
    "import pandas as pd"
   ]
  },
  {
   "cell_type": "markdown",
   "id": "ba036198",
   "metadata": {
    "papermill": {
     "duration": 0.024565,
     "end_time": "2021-09-02T10:07:40.449734",
     "exception": false,
     "start_time": "2021-09-02T10:07:40.425169",
     "status": "completed"
    },
    "tags": []
   },
   "source": [
    "From the command line run `pip install mnist`. This is a library that will help you bring down the mnist dataset. If you run this from a notebook, you need to put  `!pip install mnist` in a cell by itself."
   ]
  },
  {
   "cell_type": "code",
   "execution_count": 3,
   "id": "bb6ad8a1",
   "metadata": {
    "execution": {
     "iopub.execute_input": "2021-09-02T10:07:40.501502Z",
     "iopub.status.busy": "2021-09-02T10:07:40.500987Z",
     "iopub.status.idle": "2021-09-02T10:07:42.171901Z",
     "shell.execute_reply": "2021-09-02T10:07:42.172388Z"
    },
    "papermill": {
     "duration": 1.699223,
     "end_time": "2021-09-02T10:07:42.172553",
     "exception": false,
     "start_time": "2021-09-02T10:07:40.473330",
     "status": "completed"
    },
    "tags": []
   },
   "outputs": [
    {
     "name": "stdout",
     "output_type": "stream",
     "text": [
      "Collecting mnist\r\n"
     ]
    },
    {
     "name": "stdout",
     "output_type": "stream",
     "text": [
      "  Downloading mnist-0.2.2-py2.py3-none-any.whl (3.5 kB)\r\n",
      "Requirement already satisfied: numpy in /opt/hostedtoolcache/Python/3.6.14/x64/lib/python3.6/site-packages (from mnist) (1.19.5)\r\n"
     ]
    },
    {
     "name": "stdout",
     "output_type": "stream",
     "text": [
      "Installing collected packages: mnist\r\n"
     ]
    },
    {
     "name": "stdout",
     "output_type": "stream",
     "text": [
      "Successfully installed mnist-0.2.2\r\n"
     ]
    }
   ],
   "source": [
    "!pip install mnist"
   ]
  },
  {
   "cell_type": "markdown",
   "id": "69df9c9a",
   "metadata": {
    "papermill": {
     "duration": 0.024764,
     "end_time": "2021-09-02T10:07:42.223348",
     "exception": false,
     "start_time": "2021-09-02T10:07:42.198584",
     "status": "completed"
    },
    "tags": []
   },
   "source": [
    "## Preparing the Data"
   ]
  },
  {
   "cell_type": "code",
   "execution_count": 4,
   "id": "7f69d806",
   "metadata": {
    "execution": {
     "iopub.execute_input": "2021-09-02T10:07:42.277046Z",
     "iopub.status.busy": "2021-09-02T10:07:42.276442Z",
     "iopub.status.idle": "2021-09-02T10:07:42.290095Z",
     "shell.execute_reply": "2021-09-02T10:07:42.289638Z"
    },
    "papermill": {
     "duration": 0.042244,
     "end_time": "2021-09-02T10:07:42.290208",
     "exception": false,
     "start_time": "2021-09-02T10:07:42.247964",
     "status": "completed"
    },
    "tags": []
   },
   "outputs": [],
   "source": [
    "import mnist"
   ]
  },
  {
   "cell_type": "code",
   "execution_count": 5,
   "id": "a411e44f",
   "metadata": {
    "execution": {
     "iopub.execute_input": "2021-09-02T10:07:42.343905Z",
     "iopub.status.busy": "2021-09-02T10:07:42.343354Z",
     "iopub.status.idle": "2021-09-02T10:07:42.892496Z",
     "shell.execute_reply": "2021-09-02T10:07:42.891968Z"
    },
    "papermill": {
     "duration": 0.577678,
     "end_time": "2021-09-02T10:07:42.892617",
     "exception": false,
     "start_time": "2021-09-02T10:07:42.314939",
     "status": "completed"
    },
    "tags": []
   },
   "outputs": [],
   "source": [
    "train_images = mnist.train_images()\n",
    "train_labels = mnist.train_labels()"
   ]
  },
  {
   "cell_type": "code",
   "execution_count": 6,
   "id": "dceab3a5",
   "metadata": {
    "execution": {
     "iopub.execute_input": "2021-09-02T10:07:42.947303Z",
     "iopub.status.busy": "2021-09-02T10:07:42.946798Z",
     "iopub.status.idle": "2021-09-02T10:07:42.961892Z",
     "shell.execute_reply": "2021-09-02T10:07:42.961464Z"
    },
    "papermill": {
     "duration": 0.044118,
     "end_time": "2021-09-02T10:07:42.962010",
     "exception": false,
     "start_time": "2021-09-02T10:07:42.917892",
     "status": "completed"
    },
    "tags": []
   },
   "outputs": [
    {
     "data": {
      "text/plain": [
       "((60000, 28, 28), (60000,))"
      ]
     },
     "execution_count": 6,
     "metadata": {},
     "output_type": "execute_result"
    }
   ],
   "source": [
    "train_images.shape, train_labels.shape"
   ]
  },
  {
   "cell_type": "code",
   "execution_count": 7,
   "id": "f50dc2bb",
   "metadata": {
    "execution": {
     "iopub.execute_input": "2021-09-02T10:07:43.016422Z",
     "iopub.status.busy": "2021-09-02T10:07:43.015909Z",
     "iopub.status.idle": "2021-09-02T10:07:43.167671Z",
     "shell.execute_reply": "2021-09-02T10:07:43.167157Z"
    },
    "papermill": {
     "duration": 0.180631,
     "end_time": "2021-09-02T10:07:43.167797",
     "exception": false,
     "start_time": "2021-09-02T10:07:42.987166",
     "status": "completed"
    },
    "tags": []
   },
   "outputs": [],
   "source": [
    "test_images = mnist.test_images()\n",
    "test_labels = mnist.test_labels()"
   ]
  },
  {
   "cell_type": "code",
   "execution_count": 8,
   "id": "fc38cf1b",
   "metadata": {
    "execution": {
     "iopub.execute_input": "2021-09-02T10:07:43.224159Z",
     "iopub.status.busy": "2021-09-02T10:07:43.223638Z",
     "iopub.status.idle": "2021-09-02T10:07:43.234820Z",
     "shell.execute_reply": "2021-09-02T10:07:43.235300Z"
    },
    "papermill": {
     "duration": 0.042227,
     "end_time": "2021-09-02T10:07:43.235426",
     "exception": false,
     "start_time": "2021-09-02T10:07:43.193199",
     "status": "completed"
    },
    "tags": []
   },
   "outputs": [
    {
     "data": {
      "text/plain": [
       "((10000, 28, 28), (10000,))"
      ]
     },
     "execution_count": 8,
     "metadata": {},
     "output_type": "execute_result"
    }
   ],
   "source": [
    "test_images.shape, test_labels.shape"
   ]
  },
  {
   "cell_type": "code",
   "execution_count": 9,
   "id": "f9ed8fe0",
   "metadata": {
    "execution": {
     "iopub.execute_input": "2021-09-02T10:07:43.290724Z",
     "iopub.status.busy": "2021-09-02T10:07:43.290219Z",
     "iopub.status.idle": "2021-09-02T10:07:43.429191Z",
     "shell.execute_reply": "2021-09-02T10:07:43.428758Z"
    },
    "papermill": {
     "duration": 0.168731,
     "end_time": "2021-09-02T10:07:43.429315",
     "exception": false,
     "start_time": "2021-09-02T10:07:43.260584",
     "status": "completed"
    },
    "tags": []
   },
   "outputs": [
    {
     "name": "stdout",
     "output_type": "stream",
     "text": [
      "2\n"
     ]
    },
    {
     "data": {
      "text/plain": [
       "<matplotlib.image.AxesImage at 0x7fb32643dac8>"
      ]
     },
     "execution_count": 9,
     "metadata": {},
     "output_type": "execute_result"
    },
    {
     "data": {
      "image/png": "[encoded data removed]",
      "text/plain": [
       "<Figure size 432x288 with 1 Axes>"
      ]
     },
     "metadata": {
      "needs_background": "light"
     },
     "output_type": "display_data"
    }
   ],
   "source": [
    "image_index = 7776 # You may select anything up to 60,000\n",
    "print(train_labels[image_index]) \n",
    "plt.imshow(train_images[image_index], cmap='Greys')"
   ]
  },
  {
   "cell_type": "markdown",
   "id": "a8d2388d",
   "metadata": {
    "papermill": {
     "duration": 0.026433,
     "end_time": "2021-09-02T10:07:43.482298",
     "exception": false,
     "start_time": "2021-09-02T10:07:43.455865",
     "status": "completed"
    },
    "tags": []
   },
   "source": [
    "## Filter data to get 3 and 8 out"
   ]
  },
  {
   "cell_type": "code",
   "execution_count": 10,
   "id": "776f7fc7",
   "metadata": {
    "execution": {
     "iopub.execute_input": "2021-09-02T10:07:43.544444Z",
     "iopub.status.busy": "2021-09-02T10:07:43.539013Z",
     "iopub.status.idle": "2021-09-02T10:07:43.557837Z",
     "shell.execute_reply": "2021-09-02T10:07:43.558246Z"
    },
    "papermill": {
     "duration": 0.049619,
     "end_time": "2021-09-02T10:07:43.558393",
     "exception": false,
     "start_time": "2021-09-02T10:07:43.508774",
     "status": "completed"
    },
    "tags": []
   },
   "outputs": [],
   "source": [
    "train_filter = np.where((train_labels == 3 ) | (train_labels == 8))\n",
    "test_filter = np.where((test_labels == 3) | (test_labels == 8))\n",
    "X_train, y_train = train_images[train_filter], train_labels[train_filter]\n",
    "X_test, y_test = test_images[test_filter], test_labels[test_filter]"
   ]
  },
  {
   "cell_type": "markdown",
   "id": "948f0b7e",
   "metadata": {
    "papermill": {
     "duration": 0.026317,
     "end_time": "2021-09-02T10:07:43.611310",
     "exception": false,
     "start_time": "2021-09-02T10:07:43.584993",
     "status": "completed"
    },
    "tags": []
   },
   "source": [
    "We normalize the pizel values in the 0 to 1 range"
   ]
  },
  {
   "cell_type": "code",
   "execution_count": 11,
   "id": "ee4c2166",
   "metadata": {
    "execution": {
     "iopub.execute_input": "2021-09-02T10:07:43.669580Z",
     "iopub.status.busy": "2021-09-02T10:07:43.669001Z",
     "iopub.status.idle": "2021-09-02T10:07:43.716796Z",
     "shell.execute_reply": "2021-09-02T10:07:43.716297Z"
    },
    "papermill": {
     "duration": 0.079337,
     "end_time": "2021-09-02T10:07:43.716929",
     "exception": false,
     "start_time": "2021-09-02T10:07:43.637592",
     "status": "completed"
    },
    "tags": []
   },
   "outputs": [],
   "source": [
    "X_train = X_train/255.\n",
    "X_test = X_test/255."
   ]
  },
  {
   "cell_type": "markdown",
   "id": "ddcf4fab",
   "metadata": {
    "papermill": {
     "duration": 0.026323,
     "end_time": "2021-09-02T10:07:43.771003",
     "exception": false,
     "start_time": "2021-09-02T10:07:43.744680",
     "status": "completed"
    },
    "tags": []
   },
   "source": [
    "And setup the labels as 1 (when the digit is 3) and 0 (when the digit is 8)"
   ]
  },
  {
   "cell_type": "code",
   "execution_count": 12,
   "id": "7dc908f2",
   "metadata": {
    "execution": {
     "iopub.execute_input": "2021-09-02T10:07:43.828483Z",
     "iopub.status.busy": "2021-09-02T10:07:43.827957Z",
     "iopub.status.idle": "2021-09-02T10:07:43.840397Z",
     "shell.execute_reply": "2021-09-02T10:07:43.839977Z"
    },
    "papermill": {
     "duration": 0.043181,
     "end_time": "2021-09-02T10:07:43.840510",
     "exception": false,
     "start_time": "2021-09-02T10:07:43.797329",
     "status": "completed"
    },
    "tags": []
   },
   "outputs": [],
   "source": [
    "y_train = 1*(y_train==3)\n",
    "y_test = 1*(y_test==3)"
   ]
  },
  {
   "cell_type": "code",
   "execution_count": 13,
   "id": "01e4e969",
   "metadata": {
    "execution": {
     "iopub.execute_input": "2021-09-02T10:07:43.900589Z",
     "iopub.status.busy": "2021-09-02T10:07:43.900057Z",
     "iopub.status.idle": "2021-09-02T10:07:43.910821Z",
     "shell.execute_reply": "2021-09-02T10:07:43.910410Z"
    },
    "papermill": {
     "duration": 0.044137,
     "end_time": "2021-09-02T10:07:43.910931",
     "exception": false,
     "start_time": "2021-09-02T10:07:43.866794",
     "status": "completed"
    },
    "tags": []
   },
   "outputs": [
    {
     "data": {
      "text/plain": [
       "((11982, 28, 28), (1984, 28, 28))"
      ]
     },
     "execution_count": 13,
     "metadata": {},
     "output_type": "execute_result"
    }
   ],
   "source": [
    "X_train.shape, X_test.shape"
   ]
  },
  {
   "cell_type": "markdown",
   "id": "5ccf3f85",
   "metadata": {
    "papermill": {
     "duration": 0.026974,
     "end_time": "2021-09-02T10:07:43.964427",
     "exception": false,
     "start_time": "2021-09-02T10:07:43.937453",
     "status": "completed"
    },
    "tags": []
   },
   "source": [
    "We reshape the data to flatten the image pixels into a set of features or co-variates:"
   ]
  },
  {
   "cell_type": "code",
   "execution_count": 14,
   "id": "5286a4a3",
   "metadata": {
    "execution": {
     "iopub.execute_input": "2021-09-02T10:07:44.022603Z",
     "iopub.status.busy": "2021-09-02T10:07:44.022093Z",
     "iopub.status.idle": "2021-09-02T10:07:44.034382Z",
     "shell.execute_reply": "2021-09-02T10:07:44.034812Z"
    },
    "papermill": {
     "duration": 0.043864,
     "end_time": "2021-09-02T10:07:44.034945",
     "exception": false,
     "start_time": "2021-09-02T10:07:43.991081",
     "status": "completed"
    },
    "tags": []
   },
   "outputs": [
    {
     "data": {
      "text/plain": [
       "((11982, 784), (1984, 784))"
      ]
     },
     "execution_count": 14,
     "metadata": {},
     "output_type": "execute_result"
    }
   ],
   "source": [
    "X_train = X_train.reshape(X_train.shape[0], -1)\n",
    "X_test = X_test.reshape(X_test.shape[0], -1)\n",
    "X_train.shape, X_test.shape"
   ]
  },
  {
   "cell_type": "code",
   "execution_count": 15,
   "id": "73c5f88a",
   "metadata": {
    "execution": {
     "iopub.execute_input": "2021-09-02T10:07:44.093713Z",
     "iopub.status.busy": "2021-09-02T10:07:44.093194Z",
     "iopub.status.idle": "2021-09-02T10:07:44.110664Z",
     "shell.execute_reply": "2021-09-02T10:07:44.110249Z"
    },
    "papermill": {
     "duration": 0.048704,
     "end_time": "2021-09-02T10:07:44.110774",
     "exception": false,
     "start_time": "2021-09-02T10:07:44.062070",
     "status": "completed"
    },
    "tags": []
   },
   "outputs": [],
   "source": [
    "#Impoting functions from 'Kudzu'\n",
    "from kudzu.model import Model\n",
    "from kudzu.train import Learner\n",
    "from kudzu.optim import GD\n",
    "from kudzu.data import Data, Sampler,Dataloader\n",
    "\n",
    "from kudzu.callbacks import AccCallback\n",
    "from kudzu.callbacks import ClfCallback\n",
    "\n",
    "from kudzu.loss import MSE\n",
    "\n",
    "from kudzu.layer import Sigmoid,Relu\n",
    "from kudzu.layer import Affine"
   ]
  },
  {
   "cell_type": "markdown",
   "id": "bc01172a",
   "metadata": {
    "papermill": {
     "duration": 0.026781,
     "end_time": "2021-09-02T10:07:44.164552",
     "exception": false,
     "start_time": "2021-09-02T10:07:44.137771",
     "status": "completed"
    },
    "tags": []
   },
   "source": [
    "### Let us create a `Config` class, to store important parameters. \n",
    "This class essentially plays the role of a dictionary."
   ]
  },
  {
   "cell_type": "code",
   "execution_count": 16,
   "id": "978281aa",
   "metadata": {
    "execution": {
     "iopub.execute_input": "2021-09-02T10:07:44.222312Z",
     "iopub.status.busy": "2021-09-02T10:07:44.221785Z",
     "iopub.status.idle": "2021-09-02T10:07:44.233892Z",
     "shell.execute_reply": "2021-09-02T10:07:44.233478Z"
    },
    "papermill": {
     "duration": 0.042716,
     "end_time": "2021-09-02T10:07:44.234007",
     "exception": false,
     "start_time": "2021-09-02T10:07:44.191291",
     "status": "completed"
    },
    "tags": []
   },
   "outputs": [],
   "source": [
    "class Config:\n",
    "    pass\n",
    "config = Config()\n",
    "config.lr = 0.001\n",
    "config.num_epochs = 250\n",
    "config.bs = 50"
   ]
  },
  {
   "cell_type": "markdown",
   "id": "1385fa59",
   "metadata": {
    "papermill": {
     "duration": 0.026762,
     "end_time": "2021-09-02T10:07:44.287783",
     "exception": false,
     "start_time": "2021-09-02T10:07:44.261021",
     "status": "completed"
    },
    "tags": []
   },
   "source": [
    "### Running Models with the Training data\n",
    "Details about the network layers:\n",
    "- A first affine layer has 784 inputs and does 100 affine transforms. These are followed by a Relu\n",
    "- A second affine layer has 100 inputs from the 100 activations of the past layer, and does 100 affine transforms. These are followed by a Relu\n",
    "- A third affine layer has 100 activations and does 2 affine transformations to create an embedding for visualization. There is no non-linearity here.\n",
    "- A final \"logistic regression\" which has an affine transform from 2 inputs to 1 output, which is squeezed through a sigmoid.\n"
   ]
  },
  {
   "cell_type": "code",
   "execution_count": 17,
   "id": "2b9c66db",
   "metadata": {
    "execution": {
     "iopub.execute_input": "2021-09-02T10:07:44.345347Z",
     "iopub.status.busy": "2021-09-02T10:07:44.344831Z",
     "iopub.status.idle": "2021-09-02T10:07:44.357553Z",
     "shell.execute_reply": "2021-09-02T10:07:44.357136Z"
    },
    "papermill": {
     "duration": 0.043143,
     "end_time": "2021-09-02T10:07:44.357667",
     "exception": false,
     "start_time": "2021-09-02T10:07:44.314524",
     "status": "completed"
    },
    "tags": []
   },
   "outputs": [],
   "source": [
    "data = Data(X_train, y_train.reshape(-1,1))\n",
    "sampler = Sampler(data, config.bs, shuffle=True)\n",
    "\n",
    "dl = Dataloader(data, sampler)\n",
    "\n",
    "opt = GD(config.lr)\n",
    "loss = MSE()"
   ]
  },
  {
   "cell_type": "code",
   "execution_count": 18,
   "id": "b275e4c2",
   "metadata": {
    "execution": {
     "iopub.execute_input": "2021-09-02T10:07:44.415494Z",
     "iopub.status.busy": "2021-09-02T10:07:44.414974Z",
     "iopub.status.idle": "2021-09-02T10:07:44.427358Z",
     "shell.execute_reply": "2021-09-02T10:07:44.426938Z"
    },
    "papermill": {
     "duration": 0.042903,
     "end_time": "2021-09-02T10:07:44.427474",
     "exception": false,
     "start_time": "2021-09-02T10:07:44.384571",
     "status": "completed"
    },
    "tags": []
   },
   "outputs": [],
   "source": [
    "training_data_x = X_train\n",
    "testing_data_x = X_test\n",
    "training_data_y = y_train.reshape(-1,1)\n",
    "testing_data_y = y_test.reshape(-1,1)"
   ]
  },
  {
   "cell_type": "code",
   "execution_count": 19,
   "id": "76951160",
   "metadata": {
    "execution": {
     "iopub.execute_input": "2021-09-02T10:07:44.485431Z",
     "iopub.status.busy": "2021-09-02T10:07:44.484915Z",
     "iopub.status.idle": "2021-09-02T10:07:44.500996Z",
     "shell.execute_reply": "2021-09-02T10:07:44.500560Z"
    },
    "papermill": {
     "duration": 0.0468,
     "end_time": "2021-09-02T10:07:44.501108",
     "exception": false,
     "start_time": "2021-09-02T10:07:44.454308",
     "status": "completed"
    },
    "tags": []
   },
   "outputs": [
    {
     "name": "stdout",
     "output_type": "stream",
     "text": [
      "xavier\n",
      "xavier\n",
      "xavier\n",
      "xavier\n",
      "xavier\n"
     ]
    }
   ],
   "source": [
    "layers = [Affine(\"first\", 784, 100), Relu(\"first\"), Affine(\"second\", 100, 100), Relu(\"second\"), Affine(\"third\", 100, 2), Affine(\"last\", 2, 1), Sigmoid(\"last\")]\n",
    "model_nn = Model(layers)\n",
    "model_lr = Model([Affine(\"logits\", 784, 1), Sigmoid(\"sigmoid\")])"
   ]
  },
  {
   "cell_type": "code",
   "execution_count": 20,
   "id": "6eede77a",
   "metadata": {
    "execution": {
     "iopub.execute_input": "2021-09-02T10:07:44.568356Z",
     "iopub.status.busy": "2021-09-02T10:07:44.567254Z",
     "iopub.status.idle": "2021-09-02T10:07:44.574421Z",
     "shell.execute_reply": "2021-09-02T10:07:44.574012Z"
    },
    "papermill": {
     "duration": 0.046151,
     "end_time": "2021-09-02T10:07:44.574533",
     "exception": false,
     "start_time": "2021-09-02T10:07:44.528382",
     "status": "completed"
    },
    "tags": []
   },
   "outputs": [],
   "source": [
    "nn_learner = Learner(loss, model_nn, opt, config.num_epochs)\n",
    "acc_nn = ClfCallback(nn_learner, config.bs, training_data_x , testing_data_x, training_data_y, testing_data_y)\n",
    "nn_learner.set_callbacks([acc_nn])"
   ]
  },
  {
   "cell_type": "code",
   "execution_count": 21,
   "id": "877b6cc7",
   "metadata": {
    "execution": {
     "iopub.execute_input": "2021-09-02T10:07:44.634764Z",
     "iopub.status.busy": "2021-09-02T10:07:44.634247Z",
     "iopub.status.idle": "2021-09-02T10:07:44.645108Z",
     "shell.execute_reply": "2021-09-02T10:07:44.645536Z"
    },
    "papermill": {
     "duration": 0.043921,
     "end_time": "2021-09-02T10:07:44.645661",
     "exception": false,
     "start_time": "2021-09-02T10:07:44.601740",
     "status": "completed"
    },
    "tags": []
   },
   "outputs": [],
   "source": [
    "lr_learner = Learner(loss, model_lr, opt, config.num_epochs)\n",
    "acc_lr = ClfCallback(lr_learner, config.bs, training_data_x , testing_data_x, training_data_y, testing_data_y)\n",
    "lr_learner.set_callbacks([acc_lr])"
   ]
  },
  {
   "cell_type": "code",
   "execution_count": 22,
   "id": "d9b133c3",
   "metadata": {
    "execution": {
     "iopub.execute_input": "2021-09-02T10:07:44.704267Z",
     "iopub.status.busy": "2021-09-02T10:07:44.703741Z",
     "iopub.status.idle": "2021-09-02T10:09:02.045544Z",
     "shell.execute_reply": "2021-09-02T10:09:02.046280Z"
    },
    "papermill": {
     "duration": 77.373585,
     "end_time": "2021-09-02T10:09:02.046427",
     "exception": false,
     "start_time": "2021-09-02T10:07:44.672842",
     "status": "completed"
    },
    "tags": []
   },
   "outputs": [
    {
     "name": "stdout",
     "output_type": "stream",
     "text": [
      "Epoch 0, Loss 0.2472\n",
      "Training Accuracy: 0.5872, Testing Accuracy: 0.5786\n",
      "\n"
     ]
    },
    {
     "name": "stdout",
     "output_type": "stream",
     "text": [
      "Epoch 10, Loss 0.1046\n",
      "Training Accuracy: 0.9167, Testing Accuracy: 0.9254\n",
      "\n"
     ]
    },
    {
     "name": "stdout",
     "output_type": "stream",
     "text": [
      "Epoch 20, Loss 0.0609\n",
      "Training Accuracy: 0.9380, Testing Accuracy: 0.9536\n",
      "\n"
     ]
    },
    {
     "name": "stdout",
     "output_type": "stream",
     "text": [
      "Epoch 30, Loss 0.0471\n",
      "Training Accuracy: 0.9483, Testing Accuracy: 0.9597\n",
      "\n"
     ]
    },
    {
     "name": "stdout",
     "output_type": "stream",
     "text": [
      "Epoch 40, Loss 0.0406\n",
      "Training Accuracy: 0.9539, Testing Accuracy: 0.9612\n",
      "\n"
     ]
    },
    {
     "name": "stdout",
     "output_type": "stream",
     "text": [
      "Epoch 50, Loss 0.0366\n",
      "Training Accuracy: 0.9577, Testing Accuracy: 0.9647\n",
      "\n"
     ]
    },
    {
     "name": "stdout",
     "output_type": "stream",
     "text": [
      "Epoch 60, Loss 0.034\n",
      "Training Accuracy: 0.9606, Testing Accuracy: 0.9657\n",
      "\n"
     ]
    },
    {
     "name": "stdout",
     "output_type": "stream",
     "text": [
      "Epoch 70, Loss 0.032\n",
      "Training Accuracy: 0.9630, Testing Accuracy: 0.9667\n",
      "\n"
     ]
    },
    {
     "name": "stdout",
     "output_type": "stream",
     "text": [
      "Epoch 80, Loss 0.0305\n",
      "Training Accuracy: 0.9645, Testing Accuracy: 0.9672\n",
      "\n"
     ]
    },
    {
     "name": "stdout",
     "output_type": "stream",
     "text": [
      "Epoch 90, Loss 0.0292\n",
      "Training Accuracy: 0.9658, Testing Accuracy: 0.9667\n",
      "\n"
     ]
    },
    {
     "name": "stdout",
     "output_type": "stream",
     "text": [
      "Epoch 100, Loss 0.0282\n",
      "Training Accuracy: 0.9674, Testing Accuracy: 0.9657\n",
      "\n"
     ]
    },
    {
     "name": "stdout",
     "output_type": "stream",
     "text": [
      "Epoch 110, Loss 0.0273\n",
      "Training Accuracy: 0.9685, Testing Accuracy: 0.9667\n",
      "\n"
     ]
    },
    {
     "name": "stdout",
     "output_type": "stream",
     "text": [
      "Epoch 120, Loss 0.0265\n",
      "Training Accuracy: 0.9699, Testing Accuracy: 0.9677\n",
      "\n"
     ]
    },
    {
     "name": "stdout",
     "output_type": "stream",
     "text": [
      "Epoch 130, Loss 0.0258\n",
      "Training Accuracy: 0.9702, Testing Accuracy: 0.9688\n",
      "\n"
     ]
    },
    {
     "name": "stdout",
     "output_type": "stream",
     "text": [
      "Epoch 140, Loss 0.0252\n",
      "Training Accuracy: 0.9716, Testing Accuracy: 0.9693\n",
      "\n"
     ]
    },
    {
     "name": "stdout",
     "output_type": "stream",
     "text": [
      "Epoch 150, Loss 0.0247\n",
      "Training Accuracy: 0.9720, Testing Accuracy: 0.9688\n",
      "\n"
     ]
    },
    {
     "name": "stdout",
     "output_type": "stream",
     "text": [
      "Epoch 160, Loss 0.0241\n",
      "Training Accuracy: 0.9727, Testing Accuracy: 0.9703\n",
      "\n"
     ]
    },
    {
     "name": "stdout",
     "output_type": "stream",
     "text": [
      "Epoch 170, Loss 0.0237\n",
      "Training Accuracy: 0.9731, Testing Accuracy: 0.9693\n",
      "\n"
     ]
    },
    {
     "name": "stdout",
     "output_type": "stream",
     "text": [
      "Epoch 180, Loss 0.0232\n",
      "Training Accuracy: 0.9733, Testing Accuracy: 0.9698\n",
      "\n"
     ]
    },
    {
     "name": "stdout",
     "output_type": "stream",
     "text": [
      "Epoch 190, Loss 0.0228\n",
      "Training Accuracy: 0.9735, Testing Accuracy: 0.9703\n",
      "\n"
     ]
    },
    {
     "name": "stdout",
     "output_type": "stream",
     "text": [
      "Epoch 200, Loss 0.0224\n",
      "Training Accuracy: 0.9742, Testing Accuracy: 0.9703\n",
      "\n"
     ]
    },
    {
     "name": "stdout",
     "output_type": "stream",
     "text": [
      "Epoch 210, Loss 0.0221\n",
      "Training Accuracy: 0.9747, Testing Accuracy: 0.9698\n",
      "\n"
     ]
    },
    {
     "name": "stdout",
     "output_type": "stream",
     "text": [
      "Epoch 220, Loss 0.0217\n",
      "Training Accuracy: 0.9750, Testing Accuracy: 0.9703\n",
      "\n"
     ]
    },
    {
     "name": "stdout",
     "output_type": "stream",
     "text": [
      "Epoch 230, Loss 0.0214\n",
      "Training Accuracy: 0.9753, Testing Accuracy: 0.9703\n",
      "\n"
     ]
    },
    {
     "name": "stdout",
     "output_type": "stream",
     "text": [
      "Epoch 240, Loss 0.021\n",
      "Training Accuracy: 0.9759, Testing Accuracy: 0.9708\n",
      "\n"
     ]
    },
    {
     "data": {
      "text/plain": [
       "0.0042354782221587384"
      ]
     },
     "execution_count": 22,
     "metadata": {},
     "output_type": "execute_result"
    }
   ],
   "source": [
    "nn_learner.train_loop(dl)"
   ]
  },
  {
   "cell_type": "code",
   "execution_count": 23,
   "id": "e0163366",
   "metadata": {
    "execution": {
     "iopub.execute_input": "2021-09-02T10:09:02.124957Z",
     "iopub.status.busy": "2021-09-02T10:09:02.124448Z",
     "iopub.status.idle": "2021-09-02T10:09:16.348026Z",
     "shell.execute_reply": "2021-09-02T10:09:16.348767Z"
    },
    "papermill": {
     "duration": 14.268124,
     "end_time": "2021-09-02T10:09:16.348913",
     "exception": false,
     "start_time": "2021-09-02T10:09:02.080789",
     "status": "completed"
    },
    "tags": []
   },
   "outputs": [
    {
     "name": "stdout",
     "output_type": "stream",
     "text": [
      "Epoch 0, Loss 0.255\n",
      "Training Accuracy: 0.6251, Testing Accuracy: 0.6270\n",
      "\n"
     ]
    },
    {
     "name": "stdout",
     "output_type": "stream",
     "text": [
      "Epoch 10, Loss 0.1023\n",
      "Training Accuracy: 0.9122, Testing Accuracy: 0.9249\n",
      "\n"
     ]
    },
    {
     "name": "stdout",
     "output_type": "stream",
     "text": [
      "Epoch 20, Loss 0.0785\n",
      "Training Accuracy: 0.9277, Testing Accuracy: 0.9380\n",
      "\n"
     ]
    },
    {
     "name": "stdout",
     "output_type": "stream",
     "text": [
      "Epoch 30, Loss 0.0677\n",
      "Training Accuracy: 0.9358, Testing Accuracy: 0.9456\n",
      "\n"
     ]
    },
    {
     "name": "stdout",
     "output_type": "stream",
     "text": [
      "Epoch 40, Loss 0.0612\n",
      "Training Accuracy: 0.9417, Testing Accuracy: 0.9536\n",
      "\n"
     ]
    },
    {
     "name": "stdout",
     "output_type": "stream",
     "text": [
      "Epoch 50, Loss 0.0568\n",
      "Training Accuracy: 0.9453, Testing Accuracy: 0.9567\n",
      "\n"
     ]
    },
    {
     "name": "stdout",
     "output_type": "stream",
     "text": [
      "Epoch 60, Loss 0.0535\n",
      "Training Accuracy: 0.9476, Testing Accuracy: 0.9592\n",
      "\n"
     ]
    },
    {
     "name": "stdout",
     "output_type": "stream",
     "text": [
      "Epoch 70, Loss 0.051\n",
      "Training Accuracy: 0.9498, Testing Accuracy: 0.9587\n",
      "\n"
     ]
    },
    {
     "name": "stdout",
     "output_type": "stream",
     "text": [
      "Epoch 80, Loss 0.049\n",
      "Training Accuracy: 0.9518, Testing Accuracy: 0.9597\n",
      "\n"
     ]
    },
    {
     "name": "stdout",
     "output_type": "stream",
     "text": [
      "Epoch 90, Loss 0.0473\n",
      "Training Accuracy: 0.9522, Testing Accuracy: 0.9602\n",
      "\n"
     ]
    },
    {
     "name": "stdout",
     "output_type": "stream",
     "text": [
      "Epoch 100, Loss 0.0459\n",
      "Training Accuracy: 0.9529, Testing Accuracy: 0.9612\n",
      "\n"
     ]
    },
    {
     "name": "stdout",
     "output_type": "stream",
     "text": [
      "Epoch 110, Loss 0.0447\n",
      "Training Accuracy: 0.9538, Testing Accuracy: 0.9617\n",
      "\n"
     ]
    },
    {
     "name": "stdout",
     "output_type": "stream",
     "text": [
      "Epoch 120, Loss 0.0436\n",
      "Training Accuracy: 0.9549, Testing Accuracy: 0.9622\n",
      "\n"
     ]
    },
    {
     "name": "stdout",
     "output_type": "stream",
     "text": [
      "Epoch 130, Loss 0.0427\n",
      "Training Accuracy: 0.9554, Testing Accuracy: 0.9622\n",
      "\n"
     ]
    },
    {
     "name": "stdout",
     "output_type": "stream",
     "text": [
      "Epoch 140, Loss 0.0419\n",
      "Training Accuracy: 0.9563, Testing Accuracy: 0.9627\n",
      "\n"
     ]
    },
    {
     "name": "stdout",
     "output_type": "stream",
     "text": [
      "Epoch 150, Loss 0.0412\n",
      "Training Accuracy: 0.9571, Testing Accuracy: 0.9632\n",
      "\n"
     ]
    },
    {
     "name": "stdout",
     "output_type": "stream",
     "text": [
      "Epoch 160, Loss 0.0405\n",
      "Training Accuracy: 0.9574, Testing Accuracy: 0.9637\n",
      "\n"
     ]
    },
    {
     "name": "stdout",
     "output_type": "stream",
     "text": [
      "Epoch 170, Loss 0.0399\n",
      "Training Accuracy: 0.9576, Testing Accuracy: 0.9642\n",
      "\n"
     ]
    },
    {
     "name": "stdout",
     "output_type": "stream",
     "text": [
      "Epoch 180, Loss 0.0393\n",
      "Training Accuracy: 0.9586, Testing Accuracy: 0.9642\n",
      "\n"
     ]
    },
    {
     "name": "stdout",
     "output_type": "stream",
     "text": [
      "Epoch 190, Loss 0.0388\n",
      "Training Accuracy: 0.9593, Testing Accuracy: 0.9647\n",
      "\n"
     ]
    },
    {
     "name": "stdout",
     "output_type": "stream",
     "text": [
      "Epoch 200, Loss 0.0383\n",
      "Training Accuracy: 0.9598, Testing Accuracy: 0.9647\n",
      "\n"
     ]
    },
    {
     "name": "stdout",
     "output_type": "stream",
     "text": [
      "Epoch 210, Loss 0.0379\n",
      "Training Accuracy: 0.9599, Testing Accuracy: 0.9677\n",
      "\n"
     ]
    },
    {
     "name": "stdout",
     "output_type": "stream",
     "text": [
      "Epoch 220, Loss 0.0375\n",
      "Training Accuracy: 0.9602, Testing Accuracy: 0.9677\n",
      "\n"
     ]
    },
    {
     "name": "stdout",
     "output_type": "stream",
     "text": [
      "Epoch 230, Loss 0.0371\n",
      "Training Accuracy: 0.9605, Testing Accuracy: 0.9682\n",
      "\n"
     ]
    },
    {
     "name": "stdout",
     "output_type": "stream",
     "text": [
      "Epoch 240, Loss 0.0367\n",
      "Training Accuracy: 0.9609, Testing Accuracy: 0.9688\n",
      "\n"
     ]
    },
    {
     "data": {
      "text/plain": [
       "0.011139699481042393"
      ]
     },
     "execution_count": 23,
     "metadata": {},
     "output_type": "execute_result"
    }
   ],
   "source": [
    "lr_learner.train_loop(dl)"
   ]
  },
  {
   "cell_type": "code",
   "execution_count": 24,
   "id": "ca410940",
   "metadata": {
    "execution": {
     "iopub.execute_input": "2021-09-02T10:09:16.445098Z",
     "iopub.status.busy": "2021-09-02T10:09:16.444553Z",
     "iopub.status.idle": "2021-09-02T10:09:16.679492Z",
     "shell.execute_reply": "2021-09-02T10:09:16.679944Z"
    },
    "papermill": {
     "duration": 0.290045,
     "end_time": "2021-09-02T10:09:16.680093",
     "exception": false,
     "start_time": "2021-09-02T10:09:16.390048",
     "status": "completed"
    },
    "tags": []
   },
   "outputs": [
    {
     "data": {
      "text/plain": [
       "<matplotlib.legend.Legend at 0x7fb32601fbe0>"
      ]
     },
     "execution_count": 24,
     "metadata": {},
     "output_type": "execute_result"
    },
    {
     "data": {
      "image/png": "[encoded data removed]",
      "text/plain": [
       "<Figure size 1080x720 with 1 Axes>"
      ]
     },
     "metadata": {
      "needs_background": "light"
     },
     "output_type": "display_data"
    }
   ],
   "source": [
    "#comparing the results of NN and LR\n",
    "plt.figure(figsize=(15,10))\n",
    "\n",
    "# Neural Network plots\n",
    "plt.plot(acc_nn.accuracies, 'r-', label = \"Training Accuracies - NN\")\n",
    "plt.plot(acc_nn.test_accuracies, 'g-', label = \"Testing Accuracies - NN\")\n",
    "\n",
    "# Logistic Regression plots\n",
    "plt.plot(acc_lr.accuracies, 'k-', label = \"Training Accuracies - LR\")\n",
    "plt.plot(acc_lr.test_accuracies, 'b-', label = \"Testing Accuracies - LR\")\n",
    "plt.legend()"
   ]
  },
  {
   "cell_type": "markdown",
   "id": "80dfb35c",
   "metadata": {
    "papermill": {
     "duration": 0.042465,
     "end_time": "2021-09-02T10:09:16.764885",
     "exception": false,
     "start_time": "2021-09-02T10:09:16.722420",
     "status": "completed"
    },
    "tags": []
   },
   "source": [
    "#### Plotting the outputs of this layer of the NN.\n"
   ]
  },
  {
   "cell_type": "code",
   "execution_count": 25,
   "id": "45eb2ff5",
   "metadata": {
    "execution": {
     "iopub.execute_input": "2021-09-02T10:09:16.852546Z",
     "iopub.status.busy": "2021-09-02T10:09:16.852008Z",
     "iopub.status.idle": "2021-09-02T10:09:16.871849Z",
     "shell.execute_reply": "2021-09-02T10:09:16.872286Z"
    },
    "papermill": {
     "duration": 0.065826,
     "end_time": "2021-09-02T10:09:16.872428",
     "exception": false,
     "start_time": "2021-09-02T10:09:16.806602",
     "status": "completed"
    },
    "tags": []
   },
   "outputs": [],
   "source": [
    "new_model = Model(layers[:-2])\n",
    "testing_plot = new_model(testing_data_x)"
   ]
  },
  {
   "cell_type": "code",
   "execution_count": 26,
   "id": "4c0a5485",
   "metadata": {
    "execution": {
     "iopub.execute_input": "2021-09-02T10:09:16.973001Z",
     "iopub.status.busy": "2021-09-02T10:09:16.972428Z",
     "iopub.status.idle": "2021-09-02T10:09:17.173550Z",
     "shell.execute_reply": "2021-09-02T10:09:17.173121Z"
    },
    "papermill": {
     "duration": 0.249313,
     "end_time": "2021-09-02T10:09:17.173671",
     "exception": false,
     "start_time": "2021-09-02T10:09:16.924358",
     "status": "completed"
    },
    "tags": []
   },
   "outputs": [
    {
     "data": {
      "text/plain": [
       "Text(0.5, 1.0, 'Outputs')"
      ]
     },
     "execution_count": 26,
     "metadata": {},
     "output_type": "execute_result"
    },
    {
     "data": {
      "image/png": "[encoded data removed]",
      "text/plain": [
       "<Figure size 576x504 with 1 Axes>"
      ]
     },
     "metadata": {
      "needs_background": "light"
     },
     "output_type": "display_data"
    }
   ],
   "source": [
    "# Plotting the scatter plot of points and color coding by class\n",
    "plt.figure(figsize=(8,7))\n",
    "plt.scatter(testing_plot[:,0], testing_plot[:,1], alpha = 0.1, c = y_test.ravel());\n",
    "plt.title('Outputs')"
   ]
  },
  {
   "cell_type": "markdown",
   "id": "a74fcf8f",
   "metadata": {
    "papermill": {
     "duration": 0.043568,
     "end_time": "2021-09-02T10:09:17.261388",
     "exception": false,
     "start_time": "2021-09-02T10:09:17.217820",
     "status": "completed"
    },
    "tags": []
   },
   "source": [
    "Probability contours"
   ]
  },
  {
   "cell_type": "code",
   "execution_count": 27,
   "id": "d0afc8e3",
   "metadata": {
    "execution": {
     "iopub.execute_input": "2021-09-02T10:09:17.361326Z",
     "iopub.status.busy": "2021-09-02T10:09:17.360521Z",
     "iopub.status.idle": "2021-09-02T10:09:17.367383Z",
     "shell.execute_reply": "2021-09-02T10:09:17.366714Z"
    },
    "papermill": {
     "duration": 0.062513,
     "end_time": "2021-09-02T10:09:17.367493",
     "exception": false,
     "start_time": "2021-09-02T10:09:17.304980",
     "status": "completed"
    },
    "tags": []
   },
   "outputs": [],
   "source": [
    "model_prob = Model(layers[-2:]) "
   ]
  },
  {
   "cell_type": "code",
   "execution_count": 28,
   "id": "9b96e238",
   "metadata": {
    "execution": {
     "iopub.execute_input": "2021-09-02T10:09:17.461727Z",
     "iopub.status.busy": "2021-09-02T10:09:17.461212Z",
     "iopub.status.idle": "2021-09-02T10:09:17.474128Z",
     "shell.execute_reply": "2021-09-02T10:09:17.474510Z"
    },
    "papermill": {
     "duration": 0.063592,
     "end_time": "2021-09-02T10:09:17.474645",
     "exception": false,
     "start_time": "2021-09-02T10:09:17.411053",
     "status": "completed"
    },
    "tags": []
   },
   "outputs": [],
   "source": [
    "#creating the x and y ranges according to the above generated plot.\n",
    "x_range = np.linspace(-4, 1, 100) \n",
    "y_range = np.linspace(-6, 6, 100) \n",
    "x_grid, y_grid = np.meshgrid(x_range, y_range) # x_grid and y_grig are of size 100 X 100\n",
    "\n",
    "# converting x_grid and y_grid to continuous arrays\n",
    "x_gridflat = np.ravel(x_grid)\n",
    "y_gridflat = np.ravel(y_grid)\n",
    "\n",
    "# The last layer of the current model takes two columns as input. Hence transpose of np.vstack() is required.\n",
    "X = np.vstack((x_gridflat, y_gridflat)).T\n",
    "\n",
    "prob_contour = model_prob(X).reshape(100,100) "
   ]
  },
  {
   "cell_type": "code",
   "execution_count": 29,
   "id": "da72499a",
   "metadata": {
    "execution": {
     "iopub.execute_input": "2021-09-02T10:09:17.611616Z",
     "iopub.status.busy": "2021-09-02T10:09:17.611078Z",
     "iopub.status.idle": "2021-09-02T10:09:17.861225Z",
     "shell.execute_reply": "2021-09-02T10:09:17.860797Z"
    },
    "papermill": {
     "duration": 0.334645,
     "end_time": "2021-09-02T10:09:17.861345",
     "exception": false,
     "start_time": "2021-09-02T10:09:17.526700",
     "status": "completed"
    },
    "tags": []
   },
   "outputs": [
    {
     "data": {
      "image/png": "[encoded data removed]",
      "text/plain": [
       "<Figure size 720x648 with 1 Axes>"
      ]
     },
     "metadata": {
      "needs_background": "light"
     },
     "output_type": "display_data"
    }
   ],
   "source": [
    "plt.figure(figsize=(10,9))\n",
    "plt.scatter(testing_plot[:,0], testing_plot[:,1], alpha = 0.1, c = y_test.ravel())\n",
    "contours = plt.contour(x_grid,y_grid,prob_contour)\n",
    "plt.title('Probability Contours')\n",
    "plt.clabel(contours, inline = True );"
   ]
  },
  {
   "cell_type": "code",
   "execution_count": null,
   "id": "e81b4ac7",
   "metadata": {
    "papermill": {
     "duration": 0.045847,
     "end_time": "2021-09-02T10:09:17.953612",
     "exception": false,
     "start_time": "2021-09-02T10:09:17.907765",
     "status": "completed"
    },
    "tags": []
   },
   "outputs": [],
   "source": []
  }
 ],
 "metadata": {
  "kernelspec": {
   "display_name": "Python 3",
   "language": "python",
   "name": "python3"
  },
  "language_info": {
   "codemirror_mode": {
    "name": "ipython",
    "version": 3
   },
   "file_extension": ".py",
   "mimetype": "text/x-python",
   "name": "python",
   "nbconvert_exporter": "python",
   "pygments_lexer": "ipython3",
   "version": "3.6.14"
  },
  "papermill": {
   "default_parameters": {},
   "duration": 99.755743,
   "end_time": "2021-09-02T10:09:18.419295",
   "environment_variables": {},
   "exception": null,
   "input_path": "2020-08-11-part2.ipynb",
   "output_path": "2020-08-11-part2.ipynb",
   "parameters": {},
   "start_time": "2021-09-02T10:07:38.663552",
   "version": "2.3.3"
  }
 },
 "nbformat": 4,
 "nbformat_minor": 5
}