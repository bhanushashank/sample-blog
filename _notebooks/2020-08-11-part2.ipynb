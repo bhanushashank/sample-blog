{
 "cells": [
  {
   "cell_type": "markdown",
   "id": "98380cd3",
   "metadata": {
    "papermill": {
     "duration": 0.037834,
     "end_time": "2021-10-03T10:07:17.675155",
     "exception": false,
     "start_time": "2021-10-03T10:07:17.637321",
     "status": "completed"
    },
    "tags": []
   },
   "source": [
    "# Distinguish Your Own Digits (DYOD)"
   ]
  },
  {
   "cell_type": "markdown",
   "id": "ef31240d",
   "metadata": {
    "papermill": {
     "duration": 0.028923,
     "end_time": "2021-10-03T10:07:17.734164",
     "exception": false,
     "start_time": "2021-10-03T10:07:17.705241",
     "status": "completed"
    },
    "tags": []
   },
   "source": [
    "You are going to write a classifier that distinguishes between the number 3 and number 8."
   ]
  },
  {
   "cell_type": "code",
   "execution_count": 1,
   "id": "b15c8646",
   "metadata": {
    "execution": {
     "iopub.execute_input": "2021-10-03T10:07:17.804467Z",
     "iopub.status.busy": "2021-10-03T10:07:17.803772Z",
     "iopub.status.idle": "2021-10-03T10:07:17.815544Z",
     "shell.execute_reply": "2021-10-03T10:07:17.815009Z"
    },
    "papermill": {
     "duration": 0.05283,
     "end_time": "2021-10-03T10:07:17.815705",
     "exception": false,
     "start_time": "2021-10-03T10:07:17.762875",
     "status": "completed"
    },
    "tags": []
   },
   "outputs": [],
   "source": [
    "%load_ext autoreload\n",
    "%autoreload 2"
   ]
  },
  {
   "cell_type": "code",
   "execution_count": 2,
   "id": "22ef38dc",
   "metadata": {
    "execution": {
     "iopub.execute_input": "2021-10-03T10:07:17.897157Z",
     "iopub.status.busy": "2021-10-03T10:07:17.896533Z",
     "iopub.status.idle": "2021-10-03T10:07:18.532484Z",
     "shell.execute_reply": "2021-10-03T10:07:18.529299Z"
    },
    "papermill": {
     "duration": 0.671353,
     "end_time": "2021-10-03T10:07:18.532679",
     "exception": false,
     "start_time": "2021-10-03T10:07:17.861326",
     "status": "completed"
    },
    "tags": []
   },
   "outputs": [],
   "source": [
    "%matplotlib inline\n",
    "import numpy as np\n",
    "import matplotlib.pyplot as plt\n",
    "import pandas as pd"
   ]
  },
  {
   "cell_type": "markdown",
   "id": "ba036198",
   "metadata": {
    "papermill": {
     "duration": 0.034899,
     "end_time": "2021-10-03T10:07:18.599302",
     "exception": false,
     "start_time": "2021-10-03T10:07:18.564403",
     "status": "completed"
    },
    "tags": []
   },
   "source": [
    "From the command line run `pip install mnist`. This is a library that will help you bring down the mnist dataset. If you run this from a notebook, you need to put  `!pip install mnist` in a cell by itself."
   ]
  },
  {
   "cell_type": "code",
   "execution_count": 3,
   "id": "bb6ad8a1",
   "metadata": {
    "execution": {
     "iopub.execute_input": "2021-10-03T10:07:18.662892Z",
     "iopub.status.busy": "2021-10-03T10:07:18.662132Z",
     "iopub.status.idle": "2021-10-03T10:07:20.672268Z",
     "shell.execute_reply": "2021-10-03T10:07:20.670955Z"
    },
    "papermill": {
     "duration": 2.044924,
     "end_time": "2021-10-03T10:07:20.672558",
     "exception": false,
     "start_time": "2021-10-03T10:07:18.627634",
     "status": "completed"
    },
    "tags": []
   },
   "outputs": [
    {
     "name": "stdout",
     "output_type": "stream",
     "text": [
      "Collecting mnist\r\n"
     ]
    },
    {
     "name": "stdout",
     "output_type": "stream",
     "text": [
      "  Downloading mnist-0.2.2-py2.py3-none-any.whl (3.5 kB)\r\n",
      "Requirement already satisfied: numpy in /opt/hostedtoolcache/Python/3.6.15/x64/lib/python3.6/site-packages (from mnist) (1.19.5)\r\n"
     ]
    },
    {
     "name": "stdout",
     "output_type": "stream",
     "text": [
      "Installing collected packages: mnist\r\n"
     ]
    },
    {
     "name": "stdout",
     "output_type": "stream",
     "text": [
      "Successfully installed mnist-0.2.2\r\n"
     ]
    }
   ],
   "source": [
    "!pip install mnist"
   ]
  },
  {
   "cell_type": "markdown",
   "id": "69df9c9a",
   "metadata": {
    "papermill": {
     "duration": 0.031779,
     "end_time": "2021-10-03T10:07:20.735637",
     "exception": false,
     "start_time": "2021-10-03T10:07:20.703858",
     "status": "completed"
    },
    "tags": []
   },
   "source": [
    "## Preparing the Data"
   ]
  },
  {
   "cell_type": "code",
   "execution_count": 4,
   "id": "7f69d806",
   "metadata": {
    "execution": {
     "iopub.execute_input": "2021-10-03T10:07:20.811083Z",
     "iopub.status.busy": "2021-10-03T10:07:20.810391Z",
     "iopub.status.idle": "2021-10-03T10:07:20.826565Z",
     "shell.execute_reply": "2021-10-03T10:07:20.827120Z"
    },
    "papermill": {
     "duration": 0.061396,
     "end_time": "2021-10-03T10:07:20.827290",
     "exception": false,
     "start_time": "2021-10-03T10:07:20.765894",
     "status": "completed"
    },
    "tags": []
   },
   "outputs": [],
   "source": [
    "import mnist"
   ]
  },
  {
   "cell_type": "code",
   "execution_count": 5,
   "id": "a411e44f",
   "metadata": {
    "execution": {
     "iopub.execute_input": "2021-10-03T10:07:20.900225Z",
     "iopub.status.busy": "2021-10-03T10:07:20.899476Z",
     "iopub.status.idle": "2021-10-03T10:07:21.565115Z",
     "shell.execute_reply": "2021-10-03T10:07:21.564577Z"
    },
    "papermill": {
     "duration": 0.702068,
     "end_time": "2021-10-03T10:07:21.565265",
     "exception": false,
     "start_time": "2021-10-03T10:07:20.863197",
     "status": "completed"
    },
    "tags": []
   },
   "outputs": [],
   "source": [
    "train_images = mnist.train_images()\n",
    "train_labels = mnist.train_labels()"
   ]
  },
  {
   "cell_type": "code",
   "execution_count": 6,
   "id": "dceab3a5",
   "metadata": {
    "execution": {
     "iopub.execute_input": "2021-10-03T10:07:21.643377Z",
     "iopub.status.busy": "2021-10-03T10:07:21.642727Z",
     "iopub.status.idle": "2021-10-03T10:07:21.659063Z",
     "shell.execute_reply": "2021-10-03T10:07:21.659651Z"
    },
    "papermill": {
     "duration": 0.060579,
     "end_time": "2021-10-03T10:07:21.659841",
     "exception": false,
     "start_time": "2021-10-03T10:07:21.599262",
     "status": "completed"
    },
    "tags": []
   },
   "outputs": [
    {
     "data": {
      "text/plain": [
       "((60000, 28, 28), (60000,))"
      ]
     },
     "execution_count": 6,
     "metadata": {},
     "output_type": "execute_result"
    }
   ],
   "source": [
    "train_images.shape, train_labels.shape"
   ]
  },
  {
   "cell_type": "code",
   "execution_count": 7,
   "id": "f50dc2bb",
   "metadata": {
    "execution": {
     "iopub.execute_input": "2021-10-03T10:07:21.731799Z",
     "iopub.status.busy": "2021-10-03T10:07:21.731167Z",
     "iopub.status.idle": "2021-10-03T10:07:21.952382Z",
     "shell.execute_reply": "2021-10-03T10:07:21.951810Z"
    },
    "papermill": {
     "duration": 0.258997,
     "end_time": "2021-10-03T10:07:21.952540",
     "exception": false,
     "start_time": "2021-10-03T10:07:21.693543",
     "status": "completed"
    },
    "tags": []
   },
   "outputs": [],
   "source": [
    "test_images = mnist.test_images()\n",
    "test_labels = mnist.test_labels()"
   ]
  },
  {
   "cell_type": "code",
   "execution_count": 8,
   "id": "fc38cf1b",
   "metadata": {
    "execution": {
     "iopub.execute_input": "2021-10-03T10:07:22.017569Z",
     "iopub.status.busy": "2021-10-03T10:07:22.016927Z",
     "iopub.status.idle": "2021-10-03T10:07:22.031435Z",
     "shell.execute_reply": "2021-10-03T10:07:22.032006Z"
    },
    "papermill": {
     "duration": 0.050079,
     "end_time": "2021-10-03T10:07:22.032170",
     "exception": false,
     "start_time": "2021-10-03T10:07:21.982091",
     "status": "completed"
    },
    "tags": []
   },
   "outputs": [
    {
     "data": {
      "text/plain": [
       "((10000, 28, 28), (10000,))"
      ]
     },
     "execution_count": 8,
     "metadata": {},
     "output_type": "execute_result"
    }
   ],
   "source": [
    "test_images.shape, test_labels.shape"
   ]
  },
  {
   "cell_type": "code",
   "execution_count": 9,
   "id": "f9ed8fe0",
   "metadata": {
    "execution": {
     "iopub.execute_input": "2021-10-03T10:07:22.095838Z",
     "iopub.status.busy": "2021-10-03T10:07:22.095206Z",
     "iopub.status.idle": "2021-10-03T10:07:22.259910Z",
     "shell.execute_reply": "2021-10-03T10:07:22.259341Z"
    },
    "papermill": {
     "duration": 0.198242,
     "end_time": "2021-10-03T10:07:22.260052",
     "exception": false,
     "start_time": "2021-10-03T10:07:22.061810",
     "status": "completed"
    },
    "tags": []
   },
   "outputs": [
    {
     "name": "stdout",
     "output_type": "stream",
     "text": [
      "2\n"
     ]
    },
    {
     "data": {
      "text/plain": [
       "<matplotlib.image.AxesImage at 0x7fd321acd7f0>"
      ]
     },
     "execution_count": 9,
     "metadata": {},
     "output_type": "execute_result"
    },
    {
     "data": {
      "image/png": "[encoded data removed]",
      "text/plain": [
       "<Figure size 432x288 with 1 Axes>"
      ]
     },
     "metadata": {
      "needs_background": "light"
     },
     "output_type": "display_data"
    }
   ],
   "source": [
    "image_index = 7776 # You may select anything up to 60,000\n",
    "print(train_labels[image_index]) \n",
    "plt.imshow(train_images[image_index], cmap='Greys')"
   ]
  },
  {
   "cell_type": "markdown",
   "id": "a8d2388d",
   "metadata": {
    "papermill": {
     "duration": 0.030601,
     "end_time": "2021-10-03T10:07:22.321626",
     "exception": false,
     "start_time": "2021-10-03T10:07:22.291025",
     "status": "completed"
    },
    "tags": []
   },
   "source": [
    "## Filter data to get 3 and 8 out"
   ]
  },
  {
   "cell_type": "code",
   "execution_count": 10,
   "id": "776f7fc7",
   "metadata": {
    "execution": {
     "iopub.execute_input": "2021-10-03T10:07:22.391515Z",
     "iopub.status.busy": "2021-10-03T10:07:22.390320Z",
     "iopub.status.idle": "2021-10-03T10:07:22.408729Z",
     "shell.execute_reply": "2021-10-03T10:07:22.408193Z"
    },
    "papermill": {
     "duration": 0.056635,
     "end_time": "2021-10-03T10:07:22.408882",
     "exception": false,
     "start_time": "2021-10-03T10:07:22.352247",
     "status": "completed"
    },
    "tags": []
   },
   "outputs": [],
   "source": [
    "train_filter = np.where((train_labels == 3 ) | (train_labels == 8))\n",
    "test_filter = np.where((test_labels == 3) | (test_labels == 8))\n",
    "X_train, y_train = train_images[train_filter], train_labels[train_filter]\n",
    "X_test, y_test = test_images[test_filter], test_labels[test_filter]"
   ]
  },
  {
   "cell_type": "markdown",
   "id": "948f0b7e",
   "metadata": {
    "papermill": {
     "duration": 0.030458,
     "end_time": "2021-10-03T10:07:22.470094",
     "exception": false,
     "start_time": "2021-10-03T10:07:22.439636",
     "status": "completed"
    },
    "tags": []
   },
   "source": [
    "We normalize the pizel values in the 0 to 1 range"
   ]
  },
  {
   "cell_type": "code",
   "execution_count": 11,
   "id": "ee4c2166",
   "metadata": {
    "execution": {
     "iopub.execute_input": "2021-10-03T10:07:22.536031Z",
     "iopub.status.busy": "2021-10-03T10:07:22.535410Z",
     "iopub.status.idle": "2021-10-03T10:07:22.599348Z",
     "shell.execute_reply": "2021-10-03T10:07:22.598382Z"
    },
    "papermill": {
     "duration": 0.098847,
     "end_time": "2021-10-03T10:07:22.599595",
     "exception": false,
     "start_time": "2021-10-03T10:07:22.500748",
     "status": "completed"
    },
    "tags": []
   },
   "outputs": [],
   "source": [
    "X_train = X_train/255.\n",
    "X_test = X_test/255."
   ]
  },
  {
   "cell_type": "markdown",
   "id": "ddcf4fab",
   "metadata": {
    "papermill": {
     "duration": 0.030551,
     "end_time": "2021-10-03T10:07:22.663722",
     "exception": false,
     "start_time": "2021-10-03T10:07:22.633171",
     "status": "completed"
    },
    "tags": []
   },
   "source": [
    "And setup the labels as 1 (when the digit is 3) and 0 (when the digit is 8)"
   ]
  },
  {
   "cell_type": "code",
   "execution_count": 12,
   "id": "7dc908f2",
   "metadata": {
    "execution": {
     "iopub.execute_input": "2021-10-03T10:07:22.730220Z",
     "iopub.status.busy": "2021-10-03T10:07:22.729615Z",
     "iopub.status.idle": "2021-10-03T10:07:22.743276Z",
     "shell.execute_reply": "2021-10-03T10:07:22.743820Z"
    },
    "papermill": {
     "duration": 0.048797,
     "end_time": "2021-10-03T10:07:22.743983",
     "exception": false,
     "start_time": "2021-10-03T10:07:22.695186",
     "status": "completed"
    },
    "tags": []
   },
   "outputs": [],
   "source": [
    "y_train = 1*(y_train==3)\n",
    "y_test = 1*(y_test==3)"
   ]
  },
  {
   "cell_type": "code",
   "execution_count": 13,
   "id": "01e4e969",
   "metadata": {
    "execution": {
     "iopub.execute_input": "2021-10-03T10:07:22.810405Z",
     "iopub.status.busy": "2021-10-03T10:07:22.809761Z",
     "iopub.status.idle": "2021-10-03T10:07:22.825166Z",
     "shell.execute_reply": "2021-10-03T10:07:22.825619Z"
    },
    "papermill": {
     "duration": 0.050783,
     "end_time": "2021-10-03T10:07:22.825783",
     "exception": false,
     "start_time": "2021-10-03T10:07:22.775000",
     "status": "completed"
    },
    "tags": []
   },
   "outputs": [
    {
     "data": {
      "text/plain": [
       "((11982, 28, 28), (1984, 28, 28))"
      ]
     },
     "execution_count": 13,
     "metadata": {},
     "output_type": "execute_result"
    }
   ],
   "source": [
    "X_train.shape, X_test.shape"
   ]
  },
  {
   "cell_type": "markdown",
   "id": "5ccf3f85",
   "metadata": {
    "papermill": {
     "duration": 0.030856,
     "end_time": "2021-10-03T10:07:22.887500",
     "exception": false,
     "start_time": "2021-10-03T10:07:22.856644",
     "status": "completed"
    },
    "tags": []
   },
   "source": [
    "We reshape the data to flatten the image pixels into a set of features or co-variates:"
   ]
  },
  {
   "cell_type": "code",
   "execution_count": 14,
   "id": "5286a4a3",
   "metadata": {
    "execution": {
     "iopub.execute_input": "2021-10-03T10:07:22.954330Z",
     "iopub.status.busy": "2021-10-03T10:07:22.953681Z",
     "iopub.status.idle": "2021-10-03T10:07:22.970849Z",
     "shell.execute_reply": "2021-10-03T10:07:22.971362Z"
    },
    "papermill": {
     "duration": 0.053021,
     "end_time": "2021-10-03T10:07:22.971526",
     "exception": false,
     "start_time": "2021-10-03T10:07:22.918505",
     "status": "completed"
    },
    "tags": []
   },
   "outputs": [
    {
     "data": {
      "text/plain": [
       "((11982, 784), (1984, 784))"
      ]
     },
     "execution_count": 14,
     "metadata": {},
     "output_type": "execute_result"
    }
   ],
   "source": [
    "X_train = X_train.reshape(X_train.shape[0], -1)\n",
    "X_test = X_test.reshape(X_test.shape[0], -1)\n",
    "X_train.shape, X_test.shape"
   ]
  },
  {
   "cell_type": "code",
   "execution_count": 15,
   "id": "73c5f88a",
   "metadata": {
    "execution": {
     "iopub.execute_input": "2021-10-03T10:07:23.039754Z",
     "iopub.status.busy": "2021-10-03T10:07:23.039136Z",
     "iopub.status.idle": "2021-10-03T10:07:23.061683Z",
     "shell.execute_reply": "2021-10-03T10:07:23.061091Z"
    },
    "papermill": {
     "duration": 0.058921,
     "end_time": "2021-10-03T10:07:23.061825",
     "exception": false,
     "start_time": "2021-10-03T10:07:23.002904",
     "status": "completed"
    },
    "tags": []
   },
   "outputs": [],
   "source": [
    "#Impoting functions from 'Kudzu'\n",
    "from kudzu.model import Model\n",
    "from kudzu.train import Learner\n",
    "from kudzu.optim import GD\n",
    "from kudzu.data import Data, Sampler,Dataloader\n",
    "\n",
    "from kudzu.callbacks import AccCallback\n",
    "from kudzu.callbacks import ClfCallback\n",
    "\n",
    "from kudzu.loss import MSE\n",
    "\n",
    "from kudzu.layer import Sigmoid,Relu\n",
    "from kudzu.layer import Affine"
   ]
  },
  {
   "cell_type": "markdown",
   "id": "bc01172a",
   "metadata": {
    "papermill": {
     "duration": 0.032786,
     "end_time": "2021-10-03T10:07:23.127634",
     "exception": false,
     "start_time": "2021-10-03T10:07:23.094848",
     "status": "completed"
    },
    "tags": []
   },
   "source": [
    "### Let us create a `Config` class, to store important parameters. \n",
    "This class essentially plays the role of a dictionary."
   ]
  },
  {
   "cell_type": "code",
   "execution_count": 16,
   "id": "978281aa",
   "metadata": {
    "execution": {
     "iopub.execute_input": "2021-10-03T10:07:23.204108Z",
     "iopub.status.busy": "2021-10-03T10:07:23.203464Z",
     "iopub.status.idle": "2021-10-03T10:07:23.219695Z",
     "shell.execute_reply": "2021-10-03T10:07:23.219167Z"
    },
    "papermill": {
     "duration": 0.058734,
     "end_time": "2021-10-03T10:07:23.219839",
     "exception": false,
     "start_time": "2021-10-03T10:07:23.161105",
     "status": "completed"
    },
    "tags": []
   },
   "outputs": [],
   "source": [
    "class Config:\n",
    "    pass\n",
    "config = Config()\n",
    "config.lr = 0.001\n",
    "config.num_epochs = 250\n",
    "config.bs = 50"
   ]
  },
  {
   "cell_type": "markdown",
   "id": "1385fa59",
   "metadata": {
    "papermill": {
     "duration": 0.031107,
     "end_time": "2021-10-03T10:07:23.282360",
     "exception": false,
     "start_time": "2021-10-03T10:07:23.251253",
     "status": "completed"
    },
    "tags": []
   },
   "source": [
    "### Running Models with the Training data\n",
    "Details about the network layers:\n",
    "- A first affine layer has 784 inputs and does 100 affine transforms. These are followed by a Relu\n",
    "- A second affine layer has 100 inputs from the 100 activations of the past layer, and does 100 affine transforms. These are followed by a Relu\n",
    "- A third affine layer has 100 activations and does 2 affine transformations to create an embedding for visualization. There is no non-linearity here.\n",
    "- A final \"logistic regression\" which has an affine transform from 2 inputs to 1 output, which is squeezed through a sigmoid.\n"
   ]
  },
  {
   "cell_type": "code",
   "execution_count": 17,
   "id": "2b9c66db",
   "metadata": {
    "execution": {
     "iopub.execute_input": "2021-10-03T10:07:23.349788Z",
     "iopub.status.busy": "2021-10-03T10:07:23.349142Z",
     "iopub.status.idle": "2021-10-03T10:07:23.363757Z",
     "shell.execute_reply": "2021-10-03T10:07:23.363226Z"
    },
    "papermill": {
     "duration": 0.050264,
     "end_time": "2021-10-03T10:07:23.363898",
     "exception": false,
     "start_time": "2021-10-03T10:07:23.313634",
     "status": "completed"
    },
    "tags": []
   },
   "outputs": [],
   "source": [
    "data = Data(X_train, y_train.reshape(-1,1))\n",
    "sampler = Sampler(data, config.bs, shuffle=True)\n",
    "\n",
    "dl = Dataloader(data, sampler)\n",
    "\n",
    "opt = GD(config.lr)\n",
    "loss = MSE()"
   ]
  },
  {
   "cell_type": "code",
   "execution_count": 18,
   "id": "b275e4c2",
   "metadata": {
    "execution": {
     "iopub.execute_input": "2021-10-03T10:07:23.430711Z",
     "iopub.status.busy": "2021-10-03T10:07:23.430060Z",
     "iopub.status.idle": "2021-10-03T10:07:23.446102Z",
     "shell.execute_reply": "2021-10-03T10:07:23.445586Z"
    },
    "papermill": {
     "duration": 0.050968,
     "end_time": "2021-10-03T10:07:23.446242",
     "exception": false,
     "start_time": "2021-10-03T10:07:23.395274",
     "status": "completed"
    },
    "tags": []
   },
   "outputs": [],
   "source": [
    "training_data_x = X_train\n",
    "testing_data_x = X_test\n",
    "training_data_y = y_train.reshape(-1,1)\n",
    "testing_data_y = y_test.reshape(-1,1)"
   ]
  },
  {
   "cell_type": "code",
   "execution_count": 19,
   "id": "76951160",
   "metadata": {
    "execution": {
     "iopub.execute_input": "2021-10-03T10:07:23.513513Z",
     "iopub.status.busy": "2021-10-03T10:07:23.512889Z",
     "iopub.status.idle": "2021-10-03T10:07:23.531178Z",
     "shell.execute_reply": "2021-10-03T10:07:23.531639Z"
    },
    "papermill": {
     "duration": 0.054406,
     "end_time": "2021-10-03T10:07:23.531802",
     "exception": false,
     "start_time": "2021-10-03T10:07:23.477396",
     "status": "completed"
    },
    "tags": []
   },
   "outputs": [
    {
     "name": "stdout",
     "output_type": "stream",
     "text": [
      "xavier\n",
      "xavier\n",
      "xavier\n",
      "xavier\n",
      "xavier\n"
     ]
    }
   ],
   "source": [
    "layers = [Affine(\"first\", 784, 100), Relu(\"first\"), Affine(\"second\", 100, 100), Relu(\"second\"), Affine(\"third\", 100, 2), Affine(\"last\", 2, 1), Sigmoid(\"last\")]\n",
    "model_nn = Model(layers)\n",
    "model_lr = Model([Affine(\"logits\", 784, 1), Sigmoid(\"sigmoid\")])"
   ]
  },
  {
   "cell_type": "code",
   "execution_count": 20,
   "id": "6eede77a",
   "metadata": {
    "execution": {
     "iopub.execute_input": "2021-10-03T10:07:23.600525Z",
     "iopub.status.busy": "2021-10-03T10:07:23.599908Z",
     "iopub.status.idle": "2021-10-03T10:07:23.613116Z",
     "shell.execute_reply": "2021-10-03T10:07:23.613612Z"
    },
    "papermill": {
     "duration": 0.050292,
     "end_time": "2021-10-03T10:07:23.613774",
     "exception": false,
     "start_time": "2021-10-03T10:07:23.563482",
     "status": "completed"
    },
    "tags": []
   },
   "outputs": [],
   "source": [
    "nn_learner = Learner(loss, model_nn, opt, config.num_epochs)\n",
    "acc_nn = ClfCallback(nn_learner, config.bs, training_data_x , testing_data_x, training_data_y, testing_data_y)\n",
    "nn_learner.set_callbacks([acc_nn])"
   ]
  },
  {
   "cell_type": "code",
   "execution_count": 21,
   "id": "877b6cc7",
   "metadata": {
    "execution": {
     "iopub.execute_input": "2021-10-03T10:07:23.682322Z",
     "iopub.status.busy": "2021-10-03T10:07:23.681705Z",
     "iopub.status.idle": "2021-10-03T10:07:23.695837Z",
     "shell.execute_reply": "2021-10-03T10:07:23.696297Z"
    },
    "papermill": {
     "duration": 0.051139,
     "end_time": "2021-10-03T10:07:23.696452",
     "exception": false,
     "start_time": "2021-10-03T10:07:23.645313",
     "status": "completed"
    },
    "tags": []
   },
   "outputs": [],
   "source": [
    "lr_learner = Learner(loss, model_lr, opt, config.num_epochs)\n",
    "acc_lr = ClfCallback(lr_learner, config.bs, training_data_x , testing_data_x, training_data_y, testing_data_y)\n",
    "lr_learner.set_callbacks([acc_lr])"
   ]
  },
  {
   "cell_type": "code",
   "execution_count": 22,
   "id": "d9b133c3",
   "metadata": {
    "execution": {
     "iopub.execute_input": "2021-10-03T10:07:23.765052Z",
     "iopub.status.busy": "2021-10-03T10:07:23.764433Z",
     "iopub.status.idle": "2021-10-03T10:08:55.015852Z",
     "shell.execute_reply": "2021-10-03T10:08:55.016686Z"
    },
    "papermill": {
     "duration": 91.28867,
     "end_time": "2021-10-03T10:08:55.016849",
     "exception": false,
     "start_time": "2021-10-03T10:07:23.728179",
     "status": "completed"
    },
    "tags": []
   },
   "outputs": [
    {
     "name": "stdout",
     "output_type": "stream",
     "text": [
      "Epoch 0, Loss 0.2197\n",
      "Training Accuracy: 0.7841, Testing Accuracy: 0.7888\n",
      "\n"
     ]
    },
    {
     "name": "stdout",
     "output_type": "stream",
     "text": [
      "Epoch 10, Loss 0.0603\n",
      "Training Accuracy: 0.9414, Testing Accuracy: 0.9541\n",
      "\n"
     ]
    },
    {
     "name": "stdout",
     "output_type": "stream",
     "text": [
      "Epoch 20, Loss 0.0421\n",
      "Training Accuracy: 0.9564, Testing Accuracy: 0.9662\n",
      "\n"
     ]
    },
    {
     "name": "stdout",
     "output_type": "stream",
     "text": [
      "Epoch 30, Loss 0.0349\n",
      "Training Accuracy: 0.9629, Testing Accuracy: 0.9682\n",
      "\n"
     ]
    },
    {
     "name": "stdout",
     "output_type": "stream",
     "text": [
      "Epoch 40, Loss 0.031\n",
      "Training Accuracy: 0.9661, Testing Accuracy: 0.9703\n",
      "\n"
     ]
    },
    {
     "name": "stdout",
     "output_type": "stream",
     "text": [
      "Epoch 50, Loss 0.0283\n",
      "Training Accuracy: 0.9692, Testing Accuracy: 0.9728\n",
      "\n"
     ]
    },
    {
     "name": "stdout",
     "output_type": "stream",
     "text": [
      "Epoch 60, Loss 0.0264\n",
      "Training Accuracy: 0.9712, Testing Accuracy: 0.9718\n",
      "\n"
     ]
    },
    {
     "name": "stdout",
     "output_type": "stream",
     "text": [
      "Epoch 70, Loss 0.0249\n",
      "Training Accuracy: 0.9725, Testing Accuracy: 0.9733\n",
      "\n"
     ]
    },
    {
     "name": "stdout",
     "output_type": "stream",
     "text": [
      "Epoch 80, Loss 0.0237\n",
      "Training Accuracy: 0.9738, Testing Accuracy: 0.9753\n",
      "\n"
     ]
    },
    {
     "name": "stdout",
     "output_type": "stream",
     "text": [
      "Epoch 90, Loss 0.0226\n",
      "Training Accuracy: 0.9749, Testing Accuracy: 0.9753\n",
      "\n"
     ]
    },
    {
     "name": "stdout",
     "output_type": "stream",
     "text": [
      "Epoch 100, Loss 0.0217\n",
      "Training Accuracy: 0.9755, Testing Accuracy: 0.9758\n",
      "\n"
     ]
    },
    {
     "name": "stdout",
     "output_type": "stream",
     "text": [
      "Epoch 110, Loss 0.0209\n",
      "Training Accuracy: 0.9768, Testing Accuracy: 0.9758\n",
      "\n"
     ]
    },
    {
     "name": "stdout",
     "output_type": "stream",
     "text": [
      "Epoch 120, Loss 0.0202\n",
      "Training Accuracy: 0.9772, Testing Accuracy: 0.9753\n",
      "\n"
     ]
    },
    {
     "name": "stdout",
     "output_type": "stream",
     "text": [
      "Epoch 130, Loss 0.0195\n",
      "Training Accuracy: 0.9782, Testing Accuracy: 0.9763\n",
      "\n"
     ]
    },
    {
     "name": "stdout",
     "output_type": "stream",
     "text": [
      "Epoch 140, Loss 0.0189\n",
      "Training Accuracy: 0.9791, Testing Accuracy: 0.9763\n",
      "\n"
     ]
    },
    {
     "name": "stdout",
     "output_type": "stream",
     "text": [
      "Epoch 150, Loss 0.0184\n",
      "Training Accuracy: 0.9794, Testing Accuracy: 0.9763\n",
      "\n"
     ]
    },
    {
     "name": "stdout",
     "output_type": "stream",
     "text": [
      "Epoch 160, Loss 0.0178\n",
      "Training Accuracy: 0.9802, Testing Accuracy: 0.9778\n",
      "\n"
     ]
    },
    {
     "name": "stdout",
     "output_type": "stream",
     "text": [
      "Epoch 170, Loss 0.0173\n",
      "Training Accuracy: 0.9806, Testing Accuracy: 0.9788\n",
      "\n"
     ]
    },
    {
     "name": "stdout",
     "output_type": "stream",
     "text": [
      "Epoch 180, Loss 0.0169\n",
      "Training Accuracy: 0.9811, Testing Accuracy: 0.9798\n",
      "\n"
     ]
    },
    {
     "name": "stdout",
     "output_type": "stream",
     "text": [
      "Epoch 190, Loss 0.0164\n",
      "Training Accuracy: 0.9818, Testing Accuracy: 0.9798\n",
      "\n"
     ]
    },
    {
     "name": "stdout",
     "output_type": "stream",
     "text": [
      "Epoch 200, Loss 0.016\n",
      "Training Accuracy: 0.9827, Testing Accuracy: 0.9803\n",
      "\n"
     ]
    },
    {
     "name": "stdout",
     "output_type": "stream",
     "text": [
      "Epoch 210, Loss 0.0156\n",
      "Training Accuracy: 0.9831, Testing Accuracy: 0.9803\n",
      "\n"
     ]
    },
    {
     "name": "stdout",
     "output_type": "stream",
     "text": [
      "Epoch 220, Loss 0.0152\n",
      "Training Accuracy: 0.9838, Testing Accuracy: 0.9803\n",
      "\n"
     ]
    },
    {
     "name": "stdout",
     "output_type": "stream",
     "text": [
      "Epoch 230, Loss 0.0148\n",
      "Training Accuracy: 0.9846, Testing Accuracy: 0.9803\n",
      "\n"
     ]
    },
    {
     "name": "stdout",
     "output_type": "stream",
     "text": [
      "Epoch 240, Loss 0.0145\n",
      "Training Accuracy: 0.9851, Testing Accuracy: 0.9798\n",
      "\n"
     ]
    },
    {
     "data": {
      "text/plain": [
       "0.011088454102090448"
      ]
     },
     "execution_count": 22,
     "metadata": {},
     "output_type": "execute_result"
    }
   ],
   "source": [
    "nn_learner.train_loop(dl)"
   ]
  },
  {
   "cell_type": "code",
   "execution_count": 23,
   "id": "e0163366",
   "metadata": {
    "execution": {
     "iopub.execute_input": "2021-10-03T10:08:55.103161Z",
     "iopub.status.busy": "2021-10-03T10:08:55.102515Z",
     "iopub.status.idle": "2021-10-03T10:09:11.500796Z",
     "shell.execute_reply": "2021-10-03T10:09:11.501688Z"
    },
    "papermill": {
     "duration": 16.445368,
     "end_time": "2021-10-03T10:09:11.501854",
     "exception": false,
     "start_time": "2021-10-03T10:08:55.056486",
     "status": "completed"
    },
    "tags": []
   },
   "outputs": [
    {
     "name": "stdout",
     "output_type": "stream",
     "text": [
      "Epoch 0, Loss 0.2238\n",
      "Training Accuracy: 0.7548, Testing Accuracy: 0.7692\n",
      "\n"
     ]
    },
    {
     "name": "stdout",
     "output_type": "stream",
     "text": [
      "Epoch 10, Loss 0.1032\n",
      "Training Accuracy: 0.9043, Testing Accuracy: 0.9189\n",
      "\n"
     ]
    },
    {
     "name": "stdout",
     "output_type": "stream",
     "text": [
      "Epoch 20, Loss 0.0797\n",
      "Training Accuracy: 0.9242, Testing Accuracy: 0.9400\n",
      "\n"
     ]
    },
    {
     "name": "stdout",
     "output_type": "stream",
     "text": [
      "Epoch 30, Loss 0.0686\n",
      "Training Accuracy: 0.9340, Testing Accuracy: 0.9511\n",
      "\n"
     ]
    },
    {
     "name": "stdout",
     "output_type": "stream",
     "text": [
      "Epoch 40, Loss 0.0619\n",
      "Training Accuracy: 0.9392, Testing Accuracy: 0.9531\n",
      "\n"
     ]
    },
    {
     "name": "stdout",
     "output_type": "stream",
     "text": [
      "Epoch 50, Loss 0.0574\n",
      "Training Accuracy: 0.9432, Testing Accuracy: 0.9587\n",
      "\n"
     ]
    },
    {
     "name": "stdout",
     "output_type": "stream",
     "text": [
      "Epoch 60, Loss 0.054\n",
      "Training Accuracy: 0.9464, Testing Accuracy: 0.9592\n",
      "\n"
     ]
    },
    {
     "name": "stdout",
     "output_type": "stream",
     "text": [
      "Epoch 70, Loss 0.0514\n",
      "Training Accuracy: 0.9489, Testing Accuracy: 0.9617\n",
      "\n"
     ]
    },
    {
     "name": "stdout",
     "output_type": "stream",
     "text": [
      "Epoch 80, Loss 0.0493\n",
      "Training Accuracy: 0.9508, Testing Accuracy: 0.9622\n",
      "\n"
     ]
    },
    {
     "name": "stdout",
     "output_type": "stream",
     "text": [
      "Epoch 90, Loss 0.0476\n",
      "Training Accuracy: 0.9525, Testing Accuracy: 0.9622\n",
      "\n"
     ]
    },
    {
     "name": "stdout",
     "output_type": "stream",
     "text": [
      "Epoch 100, Loss 0.0462\n",
      "Training Accuracy: 0.9533, Testing Accuracy: 0.9622\n",
      "\n"
     ]
    },
    {
     "name": "stdout",
     "output_type": "stream",
     "text": [
      "Epoch 110, Loss 0.0449\n",
      "Training Accuracy: 0.9545, Testing Accuracy: 0.9637\n",
      "\n"
     ]
    },
    {
     "name": "stdout",
     "output_type": "stream",
     "text": [
      "Epoch 120, Loss 0.0438\n",
      "Training Accuracy: 0.9551, Testing Accuracy: 0.9637\n",
      "\n"
     ]
    },
    {
     "name": "stdout",
     "output_type": "stream",
     "text": [
      "Epoch 130, Loss 0.0429\n",
      "Training Accuracy: 0.9559, Testing Accuracy: 0.9647\n",
      "\n"
     ]
    },
    {
     "name": "stdout",
     "output_type": "stream",
     "text": [
      "Epoch 140, Loss 0.042\n",
      "Training Accuracy: 0.9564, Testing Accuracy: 0.9657\n",
      "\n"
     ]
    },
    {
     "name": "stdout",
     "output_type": "stream",
     "text": [
      "Epoch 150, Loss 0.0413\n",
      "Training Accuracy: 0.9565, Testing Accuracy: 0.9652\n",
      "\n"
     ]
    },
    {
     "name": "stdout",
     "output_type": "stream",
     "text": [
      "Epoch 160, Loss 0.0406\n",
      "Training Accuracy: 0.9569, Testing Accuracy: 0.9652\n",
      "\n"
     ]
    },
    {
     "name": "stdout",
     "output_type": "stream",
     "text": [
      "Epoch 170, Loss 0.04\n",
      "Training Accuracy: 0.9577, Testing Accuracy: 0.9652\n",
      "\n"
     ]
    },
    {
     "name": "stdout",
     "output_type": "stream",
     "text": [
      "Epoch 180, Loss 0.0394\n",
      "Training Accuracy: 0.9583, Testing Accuracy: 0.9657\n",
      "\n"
     ]
    },
    {
     "name": "stdout",
     "output_type": "stream",
     "text": [
      "Epoch 190, Loss 0.0389\n",
      "Training Accuracy: 0.9592, Testing Accuracy: 0.9657\n",
      "\n"
     ]
    },
    {
     "name": "stdout",
     "output_type": "stream",
     "text": [
      "Epoch 200, Loss 0.0384\n",
      "Training Accuracy: 0.9594, Testing Accuracy: 0.9657\n",
      "\n"
     ]
    },
    {
     "name": "stdout",
     "output_type": "stream",
     "text": [
      "Epoch 210, Loss 0.038\n",
      "Training Accuracy: 0.9596, Testing Accuracy: 0.9657\n",
      "\n"
     ]
    },
    {
     "name": "stdout",
     "output_type": "stream",
     "text": [
      "Epoch 220, Loss 0.0376\n",
      "Training Accuracy: 0.9600, Testing Accuracy: 0.9657\n",
      "\n"
     ]
    },
    {
     "name": "stdout",
     "output_type": "stream",
     "text": [
      "Epoch 230, Loss 0.0372\n",
      "Training Accuracy: 0.9604, Testing Accuracy: 0.9657\n",
      "\n"
     ]
    },
    {
     "name": "stdout",
     "output_type": "stream",
     "text": [
      "Epoch 240, Loss 0.0368\n",
      "Training Accuracy: 0.9608, Testing Accuracy: 0.9657\n",
      "\n"
     ]
    },
    {
     "data": {
      "text/plain": [
       "0.01763421103688835"
      ]
     },
     "execution_count": 23,
     "metadata": {},
     "output_type": "execute_result"
    }
   ],
   "source": [
    "lr_learner.train_loop(dl)"
   ]
  },
  {
   "cell_type": "code",
   "execution_count": 24,
   "id": "ca410940",
   "metadata": {
    "execution": {
     "iopub.execute_input": "2021-10-03T10:09:11.605510Z",
     "iopub.status.busy": "2021-10-03T10:09:11.604889Z",
     "iopub.status.idle": "2021-10-03T10:09:11.865950Z",
     "shell.execute_reply": "2021-10-03T10:09:11.865413Z"
    },
    "papermill": {
     "duration": 0.316834,
     "end_time": "2021-10-03T10:09:11.866086",
     "exception": false,
     "start_time": "2021-10-03T10:09:11.549252",
     "status": "completed"
    },
    "tags": []
   },
   "outputs": [
    {
     "data": {
      "text/plain": [
       "<matplotlib.legend.Legend at 0x7fd3142a5908>"
      ]
     },
     "execution_count": 24,
     "metadata": {},
     "output_type": "execute_result"
    },
    {
     "data": {
      "image/png": "[encoded data removed]",
      "text/plain": [
       "<Figure size 1080x720 with 1 Axes>"
      ]
     },
     "metadata": {
      "needs_background": "light"
     },
     "output_type": "display_data"
    }
   ],
   "source": [
    "#comparing the results of NN and LR\n",
    "plt.figure(figsize=(15,10))\n",
    "\n",
    "# Neural Network plots\n",
    "plt.plot(acc_nn.accuracies, 'r-', label = \"Training Accuracies - NN\")\n",
    "plt.plot(acc_nn.test_accuracies, 'g-', label = \"Testing Accuracies - NN\")\n",
    "\n",
    "# Logistic Regression plots\n",
    "plt.plot(acc_lr.accuracies, 'k-', label = \"Training Accuracies - LR\")\n",
    "plt.plot(acc_lr.test_accuracies, 'b-', label = \"Testing Accuracies - LR\")\n",
    "plt.legend()"
   ]
  },
  {
   "cell_type": "markdown",
   "id": "80dfb35c",
   "metadata": {
    "papermill": {
     "duration": 0.056294,
     "end_time": "2021-10-03T10:09:11.976616",
     "exception": false,
     "start_time": "2021-10-03T10:09:11.920322",
     "status": "completed"
    },
    "tags": []
   },
   "source": [
    "#### Plotting the outputs of this layer of the NN.\n"
   ]
  },
  {
   "cell_type": "code",
   "execution_count": 25,
   "id": "45eb2ff5",
   "metadata": {
    "execution": {
     "iopub.execute_input": "2021-10-03T10:09:12.092940Z",
     "iopub.status.busy": "2021-10-03T10:09:12.092064Z",
     "iopub.status.idle": "2021-10-03T10:09:12.114521Z",
     "shell.execute_reply": "2021-10-03T10:09:12.115011Z"
    },
    "papermill": {
     "duration": 0.083303,
     "end_time": "2021-10-03T10:09:12.115179",
     "exception": false,
     "start_time": "2021-10-03T10:09:12.031876",
     "status": "completed"
    },
    "tags": []
   },
   "outputs": [],
   "source": [
    "new_model = Model(layers[:-2])\n",
    "testing_plot = new_model(testing_data_x)"
   ]
  },
  {
   "cell_type": "code",
   "execution_count": 26,
   "id": "4c0a5485",
   "metadata": {
    "execution": {
     "iopub.execute_input": "2021-10-03T10:09:12.236081Z",
     "iopub.status.busy": "2021-10-03T10:09:12.235479Z",
     "iopub.status.idle": "2021-10-03T10:09:12.450542Z",
     "shell.execute_reply": "2021-10-03T10:09:12.450033Z"
    },
    "papermill": {
     "duration": 0.275938,
     "end_time": "2021-10-03T10:09:12.450690",
     "exception": false,
     "start_time": "2021-10-03T10:09:12.174752",
     "status": "completed"
    },
    "tags": []
   },
   "outputs": [
    {
     "data": {
      "text/plain": [
       "Text(0.5, 1.0, 'Outputs')"
      ]
     },
     "execution_count": 26,
     "metadata": {},
     "output_type": "execute_result"
    },
    {
     "data": {
      "image/png": "[encoded data removed]",
      "text/plain": [
       "<Figure size 576x504 with 1 Axes>"
      ]
     },
     "metadata": {
      "needs_background": "light"
     },
     "output_type": "display_data"
    }
   ],
   "source": [
    "# Plotting the scatter plot of points and color coding by class\n",
    "plt.figure(figsize=(8,7))\n",
    "plt.scatter(testing_plot[:,0], testing_plot[:,1], alpha = 0.1, c = y_test.ravel());\n",
    "plt.title('Outputs')"
   ]
  },
  {
   "cell_type": "markdown",
   "id": "a74fcf8f",
   "metadata": {
    "papermill": {
     "duration": 0.05158,
     "end_time": "2021-10-03T10:09:12.554453",
     "exception": false,
     "start_time": "2021-10-03T10:09:12.502873",
     "status": "completed"
    },
    "tags": []
   },
   "source": [
    "Probability contours"
   ]
  },
  {
   "cell_type": "code",
   "execution_count": 27,
   "id": "d0afc8e3",
   "metadata": {
    "execution": {
     "iopub.execute_input": "2021-10-03T10:09:12.662328Z",
     "iopub.status.busy": "2021-10-03T10:09:12.661706Z",
     "iopub.status.idle": "2021-10-03T10:09:12.676319Z",
     "shell.execute_reply": "2021-10-03T10:09:12.676839Z"
    },
    "papermill": {
     "duration": 0.070824,
     "end_time": "2021-10-03T10:09:12.676992",
     "exception": false,
     "start_time": "2021-10-03T10:09:12.606168",
     "status": "completed"
    },
    "tags": []
   },
   "outputs": [],
   "source": [
    "model_prob = Model(layers[-2:]) "
   ]
  },
  {
   "cell_type": "code",
   "execution_count": 28,
   "id": "9b96e238",
   "metadata": {
    "execution": {
     "iopub.execute_input": "2021-10-03T10:09:12.816881Z",
     "iopub.status.busy": "2021-10-03T10:09:12.816265Z",
     "iopub.status.idle": "2021-10-03T10:09:12.833112Z",
     "shell.execute_reply": "2021-10-03T10:09:12.833565Z"
    },
    "papermill": {
     "duration": 0.074762,
     "end_time": "2021-10-03T10:09:12.833719",
     "exception": false,
     "start_time": "2021-10-03T10:09:12.758957",
     "status": "completed"
    },
    "tags": []
   },
   "outputs": [],
   "source": [
    "#creating the x and y ranges according to the above generated plot.\n",
    "x_range = np.linspace(-4, 1, 100) \n",
    "y_range = np.linspace(-6, 6, 100) \n",
    "x_grid, y_grid = np.meshgrid(x_range, y_range) # x_grid and y_grig are of size 100 X 100\n",
    "\n",
    "# converting x_grid and y_grid to continuous arrays\n",
    "x_gridflat = np.ravel(x_grid)\n",
    "y_gridflat = np.ravel(y_grid)\n",
    "\n",
    "# The last layer of the current model takes two columns as input. Hence transpose of np.vstack() is required.\n",
    "X = np.vstack((x_gridflat, y_gridflat)).T\n",
    "\n",
    "prob_contour = model_prob(X).reshape(100,100) "
   ]
  },
  {
   "cell_type": "code",
   "execution_count": 29,
   "id": "da72499a",
   "metadata": {
    "execution": {
     "iopub.execute_input": "2021-10-03T10:09:12.958148Z",
     "iopub.status.busy": "2021-10-03T10:09:12.957528Z",
     "iopub.status.idle": "2021-10-03T10:09:13.232889Z",
     "shell.execute_reply": "2021-10-03T10:09:13.231760Z"
    },
    "papermill": {
     "duration": 0.336827,
     "end_time": "2021-10-03T10:09:13.233034",
     "exception": false,
     "start_time": "2021-10-03T10:09:12.896207",
     "status": "completed"
    },
    "tags": []
   },
   "outputs": [
    {
     "data": {
      "image/png": "[encoded data removed]",
      "text/plain": [
       "<Figure size 720x648 with 1 Axes>"
      ]
     },
     "metadata": {
      "needs_background": "light"
     },
     "output_type": "display_data"
    }
   ],
   "source": [
    "plt.figure(figsize=(10,9))\n",
    "plt.scatter(testing_plot[:,0], testing_plot[:,1], alpha = 0.1, c = y_test.ravel())\n",
    "contours = plt.contour(x_grid,y_grid,prob_contour)\n",
    "plt.title('Probability Contours')\n",
    "plt.clabel(contours, inline = True );"
   ]
  },
  {
   "cell_type": "code",
   "execution_count": null,
   "id": "e81b4ac7",
   "metadata": {
    "papermill": {
     "duration": 0.055148,
     "end_time": "2021-10-03T10:09:13.343144",
     "exception": false,
     "start_time": "2021-10-03T10:09:13.287996",
     "status": "completed"
    },
    "tags": []
   },
   "outputs": [],
   "source": []
  }
 ],
 "metadata": {
  "kernelspec": {
   "display_name": "Python 3",
   "language": "python",
   "name": "python3"
  },
  "language_info": {
   "codemirror_mode": {
    "name": "ipython",
    "version": 3
   },
   "file_extension": ".py",
   "mimetype": "text/x-python",
   "name": "python",
   "nbconvert_exporter": "python",
   "pygments_lexer": "ipython3",
   "version": "3.6.15"
  },
  "papermill": {
   "default_parameters": {},
   "duration": 117.596675,
   "end_time": "2021-10-03T10:09:13.911065",
   "environment_variables": {},
   "exception": null,
   "input_path": "2020-08-11-part2.ipynb",
   "output_path": "2020-08-11-part2.ipynb",
   "parameters": {},
   "start_time": "2021-10-03T10:07:16.314390",
   "version": "2.3.3"
  }
 },
 "nbformat": 4,
 "nbformat_minor": 5
}