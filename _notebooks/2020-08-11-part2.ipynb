{
 "cells": [
  {
   "cell_type": "markdown",
   "id": "98380cd3",
   "metadata": {
    "papermill": {
     "duration": 0.029956,
     "end_time": "2021-11-19T10:08:42.596272",
     "exception": false,
     "start_time": "2021-11-19T10:08:42.566316",
     "status": "completed"
    },
    "tags": []
   },
   "source": [
    "# Distinguish Your Own Digits (DYOD)"
   ]
  },
  {
   "cell_type": "markdown",
   "id": "ef31240d",
   "metadata": {
    "papermill": {
     "duration": 0.027024,
     "end_time": "2021-11-19T10:08:42.649123",
     "exception": false,
     "start_time": "2021-11-19T10:08:42.622099",
     "status": "completed"
    },
    "tags": []
   },
   "source": [
    "You are going to write a classifier that distinguishes between the number 3 and number 8."
   ]
  },
  {
   "cell_type": "code",
   "execution_count": 1,
   "id": "b15c8646",
   "metadata": {
    "execution": {
     "iopub.execute_input": "2021-11-19T10:08:42.715336Z",
     "iopub.status.busy": "2021-11-19T10:08:42.714720Z",
     "iopub.status.idle": "2021-11-19T10:08:42.726513Z",
     "shell.execute_reply": "2021-11-19T10:08:42.725808Z"
    },
    "papermill": {
     "duration": 0.050528,
     "end_time": "2021-11-19T10:08:42.726661",
     "exception": false,
     "start_time": "2021-11-19T10:08:42.676133",
     "status": "completed"
    },
    "tags": []
   },
   "outputs": [],
   "source": [
    "%load_ext autoreload\n",
    "%autoreload 2"
   ]
  },
  {
   "cell_type": "code",
   "execution_count": 2,
   "id": "22ef38dc",
   "metadata": {
    "execution": {
     "iopub.execute_input": "2021-11-19T10:08:42.781519Z",
     "iopub.status.busy": "2021-11-19T10:08:42.780930Z",
     "iopub.status.idle": "2021-11-19T10:08:43.466511Z",
     "shell.execute_reply": "2021-11-19T10:08:43.465939Z"
    },
    "papermill": {
     "duration": 0.71485,
     "end_time": "2021-11-19T10:08:43.466665",
     "exception": false,
     "start_time": "2021-11-19T10:08:42.751815",
     "status": "completed"
    },
    "tags": []
   },
   "outputs": [],
   "source": [
    "%matplotlib inline\n",
    "import numpy as np\n",
    "import matplotlib.pyplot as plt\n",
    "import pandas as pd"
   ]
  },
  {
   "cell_type": "markdown",
   "id": "ba036198",
   "metadata": {
    "papermill": {
     "duration": 0.028338,
     "end_time": "2021-11-19T10:08:43.523010",
     "exception": false,
     "start_time": "2021-11-19T10:08:43.494672",
     "status": "completed"
    },
    "tags": []
   },
   "source": [
    "From the command line run `pip install mnist`. This is a library that will help you bring down the mnist dataset. If you run this from a notebook, you need to put  `!pip install mnist` in a cell by itself."
   ]
  },
  {
   "cell_type": "code",
   "execution_count": 3,
   "id": "bb6ad8a1",
   "metadata": {
    "execution": {
     "iopub.execute_input": "2021-11-19T10:08:43.586962Z",
     "iopub.status.busy": "2021-11-19T10:08:43.585167Z",
     "iopub.status.idle": "2021-11-19T10:08:45.471216Z",
     "shell.execute_reply": "2021-11-19T10:08:45.470707Z"
    },
    "papermill": {
     "duration": 1.918928,
     "end_time": "2021-11-19T10:08:45.471348",
     "exception": false,
     "start_time": "2021-11-19T10:08:43.552420",
     "status": "completed"
    },
    "tags": []
   },
   "outputs": [
    {
     "name": "stdout",
     "output_type": "stream",
     "text": [
      "Collecting mnist\r\n"
     ]
    },
    {
     "name": "stdout",
     "output_type": "stream",
     "text": [
      "  Downloading mnist-0.2.2-py2.py3-none-any.whl (3.5 kB)\r\n",
      "Requirement already satisfied: numpy in /opt/hostedtoolcache/Python/3.6.15/x64/lib/python3.6/site-packages (from mnist) (1.19.5)\r\n"
     ]
    },
    {
     "name": "stdout",
     "output_type": "stream",
     "text": [
      "Installing collected packages: mnist\r\n",
      "Successfully installed mnist-0.2.2\r\n"
     ]
    }
   ],
   "source": [
    "!pip install mnist"
   ]
  },
  {
   "cell_type": "markdown",
   "id": "69df9c9a",
   "metadata": {
    "papermill": {
     "duration": 0.02811,
     "end_time": "2021-11-19T10:08:45.526884",
     "exception": false,
     "start_time": "2021-11-19T10:08:45.498774",
     "status": "completed"
    },
    "tags": []
   },
   "source": [
    "## Preparing the Data"
   ]
  },
  {
   "cell_type": "code",
   "execution_count": 4,
   "id": "7f69d806",
   "metadata": {
    "execution": {
     "iopub.execute_input": "2021-11-19T10:08:45.581733Z",
     "iopub.status.busy": "2021-11-19T10:08:45.581003Z",
     "iopub.status.idle": "2021-11-19T10:08:45.596898Z",
     "shell.execute_reply": "2021-11-19T10:08:45.597630Z"
    },
    "papermill": {
     "duration": 0.045427,
     "end_time": "2021-11-19T10:08:45.597756",
     "exception": false,
     "start_time": "2021-11-19T10:08:45.552329",
     "status": "completed"
    },
    "tags": []
   },
   "outputs": [],
   "source": [
    "import mnist"
   ]
  },
  {
   "cell_type": "code",
   "execution_count": 5,
   "id": "a411e44f",
   "metadata": {
    "execution": {
     "iopub.execute_input": "2021-11-19T10:08:45.658826Z",
     "iopub.status.busy": "2021-11-19T10:08:45.658057Z",
     "iopub.status.idle": "2021-11-19T10:08:46.339382Z",
     "shell.execute_reply": "2021-11-19T10:08:46.338873Z"
    },
    "papermill": {
     "duration": 0.712787,
     "end_time": "2021-11-19T10:08:46.339510",
     "exception": false,
     "start_time": "2021-11-19T10:08:45.626723",
     "status": "completed"
    },
    "tags": []
   },
   "outputs": [],
   "source": [
    "train_images = mnist.train_images()\n",
    "train_labels = mnist.train_labels()"
   ]
  },
  {
   "cell_type": "code",
   "execution_count": 6,
   "id": "dceab3a5",
   "metadata": {
    "execution": {
     "iopub.execute_input": "2021-11-19T10:08:46.397259Z",
     "iopub.status.busy": "2021-11-19T10:08:46.396687Z",
     "iopub.status.idle": "2021-11-19T10:08:46.411229Z",
     "shell.execute_reply": "2021-11-19T10:08:46.410781Z"
    },
    "papermill": {
     "duration": 0.044552,
     "end_time": "2021-11-19T10:08:46.411335",
     "exception": false,
     "start_time": "2021-11-19T10:08:46.366783",
     "status": "completed"
    },
    "tags": []
   },
   "outputs": [
    {
     "data": {
      "text/plain": [
       "((60000, 28, 28), (60000,))"
      ]
     },
     "execution_count": 6,
     "metadata": {},
     "output_type": "execute_result"
    }
   ],
   "source": [
    "train_images.shape, train_labels.shape"
   ]
  },
  {
   "cell_type": "code",
   "execution_count": 7,
   "id": "f50dc2bb",
   "metadata": {
    "execution": {
     "iopub.execute_input": "2021-11-19T10:08:46.468480Z",
     "iopub.status.busy": "2021-11-19T10:08:46.467874Z",
     "iopub.status.idle": "2021-11-19T10:08:46.661106Z",
     "shell.execute_reply": "2021-11-19T10:08:46.660501Z"
    },
    "papermill": {
     "duration": 0.223493,
     "end_time": "2021-11-19T10:08:46.661406",
     "exception": false,
     "start_time": "2021-11-19T10:08:46.437913",
     "status": "completed"
    },
    "tags": []
   },
   "outputs": [],
   "source": [
    "test_images = mnist.test_images()\n",
    "test_labels = mnist.test_labels()"
   ]
  },
  {
   "cell_type": "code",
   "execution_count": 8,
   "id": "fc38cf1b",
   "metadata": {
    "execution": {
     "iopub.execute_input": "2021-11-19T10:08:46.724204Z",
     "iopub.status.busy": "2021-11-19T10:08:46.723596Z",
     "iopub.status.idle": "2021-11-19T10:08:46.738737Z",
     "shell.execute_reply": "2021-11-19T10:08:46.738263Z"
    },
    "papermill": {
     "duration": 0.047479,
     "end_time": "2021-11-19T10:08:46.738855",
     "exception": false,
     "start_time": "2021-11-19T10:08:46.691376",
     "status": "completed"
    },
    "tags": []
   },
   "outputs": [
    {
     "data": {
      "text/plain": [
       "((10000, 28, 28), (10000,))"
      ]
     },
     "execution_count": 8,
     "metadata": {},
     "output_type": "execute_result"
    }
   ],
   "source": [
    "test_images.shape, test_labels.shape"
   ]
  },
  {
   "cell_type": "code",
   "execution_count": 9,
   "id": "f9ed8fe0",
   "metadata": {
    "execution": {
     "iopub.execute_input": "2021-11-19T10:08:46.802177Z",
     "iopub.status.busy": "2021-11-19T10:08:46.801636Z",
     "iopub.status.idle": "2021-11-19T10:08:46.982112Z",
     "shell.execute_reply": "2021-11-19T10:08:46.982678Z"
    },
    "papermill": {
     "duration": 0.214745,
     "end_time": "2021-11-19T10:08:46.982837",
     "exception": false,
     "start_time": "2021-11-19T10:08:46.768092",
     "status": "completed"
    },
    "tags": []
   },
   "outputs": [
    {
     "name": "stdout",
     "output_type": "stream",
     "text": [
      "2\n"
     ]
    },
    {
     "data": {
      "text/plain": [
       "<matplotlib.image.AxesImage at 0x7f9c2ded98d0>"
      ]
     },
     "execution_count": 9,
     "metadata": {},
     "output_type": "execute_result"
    },
    {
     "data": {
      "image/png": "[encoded data removed]",
      "text/plain": [
       "<Figure size 432x288 with 1 Axes>"
      ]
     },
     "metadata": {
      "needs_background": "light"
     },
     "output_type": "display_data"
    }
   ],
   "source": [
    "image_index = 7776 # You may select anything up to 60,000\n",
    "print(train_labels[image_index]) \n",
    "plt.imshow(train_images[image_index], cmap='Greys')"
   ]
  },
  {
   "cell_type": "markdown",
   "id": "a8d2388d",
   "metadata": {
    "papermill": {
     "duration": 0.029898,
     "end_time": "2021-11-19T10:08:47.040345",
     "exception": false,
     "start_time": "2021-11-19T10:08:47.010447",
     "status": "completed"
    },
    "tags": []
   },
   "source": [
    "## Filter data to get 3 and 8 out"
   ]
  },
  {
   "cell_type": "code",
   "execution_count": 10,
   "id": "776f7fc7",
   "metadata": {
    "execution": {
     "iopub.execute_input": "2021-11-19T10:08:47.106272Z",
     "iopub.status.busy": "2021-11-19T10:08:47.105676Z",
     "iopub.status.idle": "2021-11-19T10:08:47.120169Z",
     "shell.execute_reply": "2021-11-19T10:08:47.119628Z"
    },
    "papermill": {
     "duration": 0.051087,
     "end_time": "2021-11-19T10:08:47.120330",
     "exception": false,
     "start_time": "2021-11-19T10:08:47.069243",
     "status": "completed"
    },
    "tags": []
   },
   "outputs": [],
   "source": [
    "train_filter = np.where((train_labels == 3 ) | (train_labels == 8))\n",
    "test_filter = np.where((test_labels == 3) | (test_labels == 8))\n",
    "X_train, y_train = train_images[train_filter], train_labels[train_filter]\n",
    "X_test, y_test = test_images[test_filter], test_labels[test_filter]"
   ]
  },
  {
   "cell_type": "markdown",
   "id": "948f0b7e",
   "metadata": {
    "papermill": {
     "duration": 0.030219,
     "end_time": "2021-11-19T10:08:47.181274",
     "exception": false,
     "start_time": "2021-11-19T10:08:47.151055",
     "status": "completed"
    },
    "tags": []
   },
   "source": [
    "We normalize the pizel values in the 0 to 1 range"
   ]
  },
  {
   "cell_type": "code",
   "execution_count": 11,
   "id": "ee4c2166",
   "metadata": {
    "execution": {
     "iopub.execute_input": "2021-11-19T10:08:47.246837Z",
     "iopub.status.busy": "2021-11-19T10:08:47.243983Z",
     "iopub.status.idle": "2021-11-19T10:08:47.308338Z",
     "shell.execute_reply": "2021-11-19T10:08:47.307755Z"
    },
    "papermill": {
     "duration": 0.097657,
     "end_time": "2021-11-19T10:08:47.308472",
     "exception": false,
     "start_time": "2021-11-19T10:08:47.210815",
     "status": "completed"
    },
    "tags": []
   },
   "outputs": [],
   "source": [
    "X_train = X_train/255.\n",
    "X_test = X_test/255."
   ]
  },
  {
   "cell_type": "markdown",
   "id": "ddcf4fab",
   "metadata": {
    "papermill": {
     "duration": 0.0316,
     "end_time": "2021-11-19T10:08:47.376437",
     "exception": false,
     "start_time": "2021-11-19T10:08:47.344837",
     "status": "completed"
    },
    "tags": []
   },
   "source": [
    "And setup the labels as 1 (when the digit is 3) and 0 (when the digit is 8)"
   ]
  },
  {
   "cell_type": "code",
   "execution_count": 12,
   "id": "7dc908f2",
   "metadata": {
    "execution": {
     "iopub.execute_input": "2021-11-19T10:08:47.438720Z",
     "iopub.status.busy": "2021-11-19T10:08:47.437962Z",
     "iopub.status.idle": "2021-11-19T10:08:47.451324Z",
     "shell.execute_reply": "2021-11-19T10:08:47.450843Z"
    },
    "papermill": {
     "duration": 0.047062,
     "end_time": "2021-11-19T10:08:47.451451",
     "exception": false,
     "start_time": "2021-11-19T10:08:47.404389",
     "status": "completed"
    },
    "tags": []
   },
   "outputs": [],
   "source": [
    "y_train = 1*(y_train==3)\n",
    "y_test = 1*(y_test==3)"
   ]
  },
  {
   "cell_type": "code",
   "execution_count": 13,
   "id": "01e4e969",
   "metadata": {
    "execution": {
     "iopub.execute_input": "2021-11-19T10:08:47.516030Z",
     "iopub.status.busy": "2021-11-19T10:08:47.515382Z",
     "iopub.status.idle": "2021-11-19T10:08:47.527560Z",
     "shell.execute_reply": "2021-11-19T10:08:47.528102Z"
    },
    "papermill": {
     "duration": 0.046991,
     "end_time": "2021-11-19T10:08:47.528239",
     "exception": false,
     "start_time": "2021-11-19T10:08:47.481248",
     "status": "completed"
    },
    "tags": []
   },
   "outputs": [
    {
     "data": {
      "text/plain": [
       "((11982, 28, 28), (1984, 28, 28))"
      ]
     },
     "execution_count": 13,
     "metadata": {},
     "output_type": "execute_result"
    }
   ],
   "source": [
    "X_train.shape, X_test.shape"
   ]
  },
  {
   "cell_type": "markdown",
   "id": "5ccf3f85",
   "metadata": {
    "papermill": {
     "duration": 0.028352,
     "end_time": "2021-11-19T10:08:47.585908",
     "exception": false,
     "start_time": "2021-11-19T10:08:47.557556",
     "status": "completed"
    },
    "tags": []
   },
   "source": [
    "We reshape the data to flatten the image pixels into a set of features or co-variates:"
   ]
  },
  {
   "cell_type": "code",
   "execution_count": 14,
   "id": "5286a4a3",
   "metadata": {
    "execution": {
     "iopub.execute_input": "2021-11-19T10:08:47.650542Z",
     "iopub.status.busy": "2021-11-19T10:08:47.649935Z",
     "iopub.status.idle": "2021-11-19T10:08:47.661777Z",
     "shell.execute_reply": "2021-11-19T10:08:47.662177Z"
    },
    "papermill": {
     "duration": 0.048016,
     "end_time": "2021-11-19T10:08:47.662319",
     "exception": false,
     "start_time": "2021-11-19T10:08:47.614303",
     "status": "completed"
    },
    "tags": []
   },
   "outputs": [
    {
     "data": {
      "text/plain": [
       "((11982, 784), (1984, 784))"
      ]
     },
     "execution_count": 14,
     "metadata": {},
     "output_type": "execute_result"
    }
   ],
   "source": [
    "X_train = X_train.reshape(X_train.shape[0], -1)\n",
    "X_test = X_test.reshape(X_test.shape[0], -1)\n",
    "X_train.shape, X_test.shape"
   ]
  },
  {
   "cell_type": "code",
   "execution_count": 15,
   "id": "73c5f88a",
   "metadata": {
    "execution": {
     "iopub.execute_input": "2021-11-19T10:08:47.724929Z",
     "iopub.status.busy": "2021-11-19T10:08:47.724217Z",
     "iopub.status.idle": "2021-11-19T10:08:47.743215Z",
     "shell.execute_reply": "2021-11-19T10:08:47.742717Z"
    },
    "papermill": {
     "duration": 0.050777,
     "end_time": "2021-11-19T10:08:47.743336",
     "exception": false,
     "start_time": "2021-11-19T10:08:47.692559",
     "status": "completed"
    },
    "tags": []
   },
   "outputs": [],
   "source": [
    "#Impoting functions from 'Kudzu'\n",
    "from kudzu.model import Model\n",
    "from kudzu.train import Learner\n",
    "from kudzu.optim import GD\n",
    "from kudzu.data import Data, Sampler,Dataloader\n",
    "\n",
    "from kudzu.callbacks import AccCallback\n",
    "from kudzu.callbacks import ClfCallback\n",
    "\n",
    "from kudzu.loss import MSE\n",
    "\n",
    "from kudzu.layer import Sigmoid,Relu\n",
    "from kudzu.layer import Affine"
   ]
  },
  {
   "cell_type": "markdown",
   "id": "bc01172a",
   "metadata": {
    "papermill": {
     "duration": 0.02885,
     "end_time": "2021-11-19T10:08:47.800866",
     "exception": false,
     "start_time": "2021-11-19T10:08:47.772016",
     "status": "completed"
    },
    "tags": []
   },
   "source": [
    "### Let us create a `Config` class, to store important parameters. \n",
    "This class essentially plays the role of a dictionary."
   ]
  },
  {
   "cell_type": "code",
   "execution_count": 16,
   "id": "978281aa",
   "metadata": {
    "execution": {
     "iopub.execute_input": "2021-11-19T10:08:47.865917Z",
     "iopub.status.busy": "2021-11-19T10:08:47.865346Z",
     "iopub.status.idle": "2021-11-19T10:08:47.876060Z",
     "shell.execute_reply": "2021-11-19T10:08:47.876786Z"
    },
    "papermill": {
     "duration": 0.04761,
     "end_time": "2021-11-19T10:08:47.876917",
     "exception": false,
     "start_time": "2021-11-19T10:08:47.829307",
     "status": "completed"
    },
    "tags": []
   },
   "outputs": [],
   "source": [
    "class Config:\n",
    "    pass\n",
    "config = Config()\n",
    "config.lr = 0.001\n",
    "config.num_epochs = 250\n",
    "config.bs = 50"
   ]
  },
  {
   "cell_type": "markdown",
   "id": "1385fa59",
   "metadata": {
    "papermill": {
     "duration": 0.030843,
     "end_time": "2021-11-19T10:08:47.937354",
     "exception": false,
     "start_time": "2021-11-19T10:08:47.906511",
     "status": "completed"
    },
    "tags": []
   },
   "source": [
    "### Running Models with the Training data\n",
    "Details about the network layers:\n",
    "- A first affine layer has 784 inputs and does 100 affine transforms. These are followed by a Relu\n",
    "- A second affine layer has 100 inputs from the 100 activations of the past layer, and does 100 affine transforms. These are followed by a Relu\n",
    "- A third affine layer has 100 activations and does 2 affine transformations to create an embedding for visualization. There is no non-linearity here.\n",
    "- A final \"logistic regression\" which has an affine transform from 2 inputs to 1 output, which is squeezed through a sigmoid.\n"
   ]
  },
  {
   "cell_type": "code",
   "execution_count": 17,
   "id": "2b9c66db",
   "metadata": {
    "execution": {
     "iopub.execute_input": "2021-11-19T10:08:48.005781Z",
     "iopub.status.busy": "2021-11-19T10:08:48.004861Z",
     "iopub.status.idle": "2021-11-19T10:08:48.020101Z",
     "shell.execute_reply": "2021-11-19T10:08:48.019400Z"
    },
    "papermill": {
     "duration": 0.05095,
     "end_time": "2021-11-19T10:08:48.020234",
     "exception": false,
     "start_time": "2021-11-19T10:08:47.969284",
     "status": "completed"
    },
    "tags": []
   },
   "outputs": [],
   "source": [
    "data = Data(X_train, y_train.reshape(-1,1))\n",
    "sampler = Sampler(data, config.bs, shuffle=True)\n",
    "\n",
    "dl = Dataloader(data, sampler)\n",
    "\n",
    "opt = GD(config.lr)\n",
    "loss = MSE()"
   ]
  },
  {
   "cell_type": "code",
   "execution_count": 18,
   "id": "b275e4c2",
   "metadata": {
    "execution": {
     "iopub.execute_input": "2021-11-19T10:08:48.097065Z",
     "iopub.status.busy": "2021-11-19T10:08:48.096233Z",
     "iopub.status.idle": "2021-11-19T10:08:48.108196Z",
     "shell.execute_reply": "2021-11-19T10:08:48.108699Z"
    },
    "papermill": {
     "duration": 0.050373,
     "end_time": "2021-11-19T10:08:48.108832",
     "exception": false,
     "start_time": "2021-11-19T10:08:48.058459",
     "status": "completed"
    },
    "tags": []
   },
   "outputs": [],
   "source": [
    "training_data_x = X_train\n",
    "testing_data_x = X_test\n",
    "training_data_y = y_train.reshape(-1,1)\n",
    "testing_data_y = y_test.reshape(-1,1)"
   ]
  },
  {
   "cell_type": "code",
   "execution_count": 19,
   "id": "76951160",
   "metadata": {
    "execution": {
     "iopub.execute_input": "2021-11-19T10:08:48.182238Z",
     "iopub.status.busy": "2021-11-19T10:08:48.181650Z",
     "iopub.status.idle": "2021-11-19T10:08:48.197981Z",
     "shell.execute_reply": "2021-11-19T10:08:48.197453Z"
    },
    "papermill": {
     "duration": 0.056953,
     "end_time": "2021-11-19T10:08:48.198099",
     "exception": false,
     "start_time": "2021-11-19T10:08:48.141146",
     "status": "completed"
    },
    "tags": []
   },
   "outputs": [
    {
     "name": "stdout",
     "output_type": "stream",
     "text": [
      "xavier\n",
      "xavier\n",
      "xavier\n",
      "xavier\n",
      "xavier\n"
     ]
    }
   ],
   "source": [
    "layers = [Affine(\"first\", 784, 100), Relu(\"first\"), Affine(\"second\", 100, 100), Relu(\"second\"), Affine(\"third\", 100, 2), Affine(\"last\", 2, 1), Sigmoid(\"last\")]\n",
    "model_nn = Model(layers)\n",
    "model_lr = Model([Affine(\"logits\", 784, 1), Sigmoid(\"sigmoid\")])"
   ]
  },
  {
   "cell_type": "code",
   "execution_count": 20,
   "id": "6eede77a",
   "metadata": {
    "execution": {
     "iopub.execute_input": "2021-11-19T10:08:48.272799Z",
     "iopub.status.busy": "2021-11-19T10:08:48.271982Z",
     "iopub.status.idle": "2021-11-19T10:08:48.284988Z",
     "shell.execute_reply": "2021-11-19T10:08:48.284258Z"
    },
    "papermill": {
     "duration": 0.053291,
     "end_time": "2021-11-19T10:08:48.285129",
     "exception": false,
     "start_time": "2021-11-19T10:08:48.231838",
     "status": "completed"
    },
    "tags": []
   },
   "outputs": [],
   "source": [
    "nn_learner = Learner(loss, model_nn, opt, config.num_epochs)\n",
    "acc_nn = ClfCallback(nn_learner, config.bs, training_data_x , testing_data_x, training_data_y, testing_data_y)\n",
    "nn_learner.set_callbacks([acc_nn])"
   ]
  },
  {
   "cell_type": "code",
   "execution_count": 21,
   "id": "877b6cc7",
   "metadata": {
    "execution": {
     "iopub.execute_input": "2021-11-19T10:08:48.354376Z",
     "iopub.status.busy": "2021-11-19T10:08:48.353805Z",
     "iopub.status.idle": "2021-11-19T10:08:48.365646Z",
     "shell.execute_reply": "2021-11-19T10:08:48.366245Z"
    },
    "papermill": {
     "duration": 0.047658,
     "end_time": "2021-11-19T10:08:48.366377",
     "exception": false,
     "start_time": "2021-11-19T10:08:48.318719",
     "status": "completed"
    },
    "tags": []
   },
   "outputs": [],
   "source": [
    "lr_learner = Learner(loss, model_lr, opt, config.num_epochs)\n",
    "acc_lr = ClfCallback(lr_learner, config.bs, training_data_x , testing_data_x, training_data_y, testing_data_y)\n",
    "lr_learner.set_callbacks([acc_lr])"
   ]
  },
  {
   "cell_type": "code",
   "execution_count": 22,
   "id": "d9b133c3",
   "metadata": {
    "execution": {
     "iopub.execute_input": "2021-11-19T10:08:48.428133Z",
     "iopub.status.busy": "2021-11-19T10:08:48.427573Z",
     "iopub.status.idle": "2021-11-19T10:11:11.735516Z",
     "shell.execute_reply": "2021-11-19T10:11:11.736295Z"
    },
    "papermill": {
     "duration": 143.341609,
     "end_time": "2021-11-19T10:11:11.736449",
     "exception": false,
     "start_time": "2021-11-19T10:08:48.394840",
     "status": "completed"
    },
    "tags": []
   },
   "outputs": [
    {
     "name": "stdout",
     "output_type": "stream",
     "text": [
      "Epoch 0, Loss 0.2424\n",
      "Training Accuracy: 0.5720, Testing Accuracy: 0.5706\n",
      "\n"
     ]
    },
    {
     "name": "stdout",
     "output_type": "stream",
     "text": [
      "Epoch 10, Loss 0.1723\n",
      "Training Accuracy: 0.8921, Testing Accuracy: 0.9017\n",
      "\n"
     ]
    },
    {
     "name": "stdout",
     "output_type": "stream",
     "text": [
      "Epoch 20, Loss 0.0842\n",
      "Training Accuracy: 0.9227, Testing Accuracy: 0.9355\n",
      "\n"
     ]
    },
    {
     "name": "stdout",
     "output_type": "stream",
     "text": [
      "Epoch 30, Loss 0.0555\n",
      "Training Accuracy: 0.9437, Testing Accuracy: 0.9536\n",
      "\n"
     ]
    },
    {
     "name": "stdout",
     "output_type": "stream",
     "text": [
      "Epoch 40, Loss 0.0442\n",
      "Training Accuracy: 0.9523, Testing Accuracy: 0.9602\n",
      "\n"
     ]
    },
    {
     "name": "stdout",
     "output_type": "stream",
     "text": [
      "Epoch 50, Loss 0.0383\n",
      "Training Accuracy: 0.9574, Testing Accuracy: 0.9647\n",
      "\n"
     ]
    },
    {
     "name": "stdout",
     "output_type": "stream",
     "text": [
      "Epoch 60, Loss 0.0347\n",
      "Training Accuracy: 0.9603, Testing Accuracy: 0.9672\n",
      "\n"
     ]
    },
    {
     "name": "stdout",
     "output_type": "stream",
     "text": [
      "Epoch 70, Loss 0.0321\n",
      "Training Accuracy: 0.9632, Testing Accuracy: 0.9682\n",
      "\n"
     ]
    },
    {
     "name": "stdout",
     "output_type": "stream",
     "text": [
      "Epoch 80, Loss 0.0303\n",
      "Training Accuracy: 0.9650, Testing Accuracy: 0.9698\n",
      "\n"
     ]
    },
    {
     "name": "stdout",
     "output_type": "stream",
     "text": [
      "Epoch 90, Loss 0.0288\n",
      "Training Accuracy: 0.9669, Testing Accuracy: 0.9713\n",
      "\n"
     ]
    },
    {
     "name": "stdout",
     "output_type": "stream",
     "text": [
      "Epoch 100, Loss 0.0275\n",
      "Training Accuracy: 0.9684, Testing Accuracy: 0.9718\n",
      "\n"
     ]
    },
    {
     "name": "stdout",
     "output_type": "stream",
     "text": [
      "Epoch 110, Loss 0.0264\n",
      "Training Accuracy: 0.9692, Testing Accuracy: 0.9713\n",
      "\n"
     ]
    },
    {
     "name": "stdout",
     "output_type": "stream",
     "text": [
      "Epoch 120, Loss 0.0255\n",
      "Training Accuracy: 0.9707, Testing Accuracy: 0.9723\n",
      "\n"
     ]
    },
    {
     "name": "stdout",
     "output_type": "stream",
     "text": [
      "Epoch 130, Loss 0.0247\n",
      "Training Accuracy: 0.9715, Testing Accuracy: 0.9718\n",
      "\n"
     ]
    },
    {
     "name": "stdout",
     "output_type": "stream",
     "text": [
      "Epoch 140, Loss 0.024\n",
      "Training Accuracy: 0.9725, Testing Accuracy: 0.9718\n",
      "\n"
     ]
    },
    {
     "name": "stdout",
     "output_type": "stream",
     "text": [
      "Epoch 150, Loss 0.0233\n",
      "Training Accuracy: 0.9735, Testing Accuracy: 0.9723\n",
      "\n"
     ]
    },
    {
     "name": "stdout",
     "output_type": "stream",
     "text": [
      "Epoch 160, Loss 0.0227\n",
      "Training Accuracy: 0.9734, Testing Accuracy: 0.9733\n",
      "\n"
     ]
    },
    {
     "name": "stdout",
     "output_type": "stream",
     "text": [
      "Epoch 170, Loss 0.0221\n",
      "Training Accuracy: 0.9738, Testing Accuracy: 0.9728\n",
      "\n"
     ]
    },
    {
     "name": "stdout",
     "output_type": "stream",
     "text": [
      "Epoch 180, Loss 0.0216\n",
      "Training Accuracy: 0.9745, Testing Accuracy: 0.9728\n",
      "\n"
     ]
    },
    {
     "name": "stdout",
     "output_type": "stream",
     "text": [
      "Epoch 190, Loss 0.0211\n",
      "Training Accuracy: 0.9751, Testing Accuracy: 0.9738\n",
      "\n"
     ]
    },
    {
     "name": "stdout",
     "output_type": "stream",
     "text": [
      "Epoch 200, Loss 0.0207\n",
      "Training Accuracy: 0.9759, Testing Accuracy: 0.9738\n",
      "\n"
     ]
    },
    {
     "name": "stdout",
     "output_type": "stream",
     "text": [
      "Epoch 210, Loss 0.0202\n",
      "Training Accuracy: 0.9765, Testing Accuracy: 0.9748\n",
      "\n"
     ]
    },
    {
     "name": "stdout",
     "output_type": "stream",
     "text": [
      "Epoch 220, Loss 0.0198\n",
      "Training Accuracy: 0.9773, Testing Accuracy: 0.9743\n",
      "\n"
     ]
    },
    {
     "name": "stdout",
     "output_type": "stream",
     "text": [
      "Epoch 230, Loss 0.0194\n",
      "Training Accuracy: 0.9779, Testing Accuracy: 0.9743\n",
      "\n"
     ]
    },
    {
     "name": "stdout",
     "output_type": "stream",
     "text": [
      "Epoch 240, Loss 0.019\n",
      "Training Accuracy: 0.9785, Testing Accuracy: 0.9743\n",
      "\n"
     ]
    },
    {
     "data": {
      "text/plain": [
       "0.008964991576848453"
      ]
     },
     "execution_count": 22,
     "metadata": {},
     "output_type": "execute_result"
    }
   ],
   "source": [
    "nn_learner.train_loop(dl)"
   ]
  },
  {
   "cell_type": "code",
   "execution_count": 23,
   "id": "e0163366",
   "metadata": {
    "execution": {
     "iopub.execute_input": "2021-11-19T10:11:11.826816Z",
     "iopub.status.busy": "2021-11-19T10:11:11.825880Z",
     "iopub.status.idle": "2021-11-19T10:11:32.615448Z",
     "shell.execute_reply": "2021-11-19T10:11:32.616326Z"
    },
    "papermill": {
     "duration": 20.842052,
     "end_time": "2021-11-19T10:11:32.616502",
     "exception": false,
     "start_time": "2021-11-19T10:11:11.774450",
     "status": "completed"
    },
    "tags": []
   },
   "outputs": [
    {
     "name": "stdout",
     "output_type": "stream",
     "text": [
      "Epoch 0, Loss 0.241\n",
      "Training Accuracy: 0.6924, Testing Accuracy: 0.6971\n",
      "\n"
     ]
    },
    {
     "name": "stdout",
     "output_type": "stream",
     "text": [
      "Epoch 10, Loss 0.1011\n",
      "Training Accuracy: 0.9143, Testing Accuracy: 0.9183\n",
      "\n"
     ]
    },
    {
     "name": "stdout",
     "output_type": "stream",
     "text": [
      "Epoch 20, Loss 0.0781\n",
      "Training Accuracy: 0.9292, Testing Accuracy: 0.9365\n",
      "\n"
     ]
    },
    {
     "name": "stdout",
     "output_type": "stream",
     "text": [
      "Epoch 30, Loss 0.0677\n",
      "Training Accuracy: 0.9372, Testing Accuracy: 0.9461\n",
      "\n"
     ]
    },
    {
     "name": "stdout",
     "output_type": "stream",
     "text": [
      "Epoch 40, Loss 0.0614\n",
      "Training Accuracy: 0.9416, Testing Accuracy: 0.9486\n",
      "\n"
     ]
    },
    {
     "name": "stdout",
     "output_type": "stream",
     "text": [
      "Epoch 50, Loss 0.0571\n",
      "Training Accuracy: 0.9455, Testing Accuracy: 0.9521\n",
      "\n"
     ]
    },
    {
     "name": "stdout",
     "output_type": "stream",
     "text": [
      "Epoch 60, Loss 0.0539\n",
      "Training Accuracy: 0.9469, Testing Accuracy: 0.9531\n",
      "\n"
     ]
    },
    {
     "name": "stdout",
     "output_type": "stream",
     "text": [
      "Epoch 70, Loss 0.0515\n",
      "Training Accuracy: 0.9482, Testing Accuracy: 0.9541\n",
      "\n"
     ]
    },
    {
     "name": "stdout",
     "output_type": "stream",
     "text": [
      "Epoch 80, Loss 0.0495\n",
      "Training Accuracy: 0.9505, Testing Accuracy: 0.9556\n",
      "\n"
     ]
    },
    {
     "name": "stdout",
     "output_type": "stream",
     "text": [
      "Epoch 90, Loss 0.0478\n",
      "Training Accuracy: 0.9510, Testing Accuracy: 0.9572\n",
      "\n"
     ]
    },
    {
     "name": "stdout",
     "output_type": "stream",
     "text": [
      "Epoch 100, Loss 0.0464\n",
      "Training Accuracy: 0.9524, Testing Accuracy: 0.9567\n",
      "\n"
     ]
    },
    {
     "name": "stdout",
     "output_type": "stream",
     "text": [
      "Epoch 110, Loss 0.0452\n",
      "Training Accuracy: 0.9533, Testing Accuracy: 0.9592\n",
      "\n"
     ]
    },
    {
     "name": "stdout",
     "output_type": "stream",
     "text": [
      "Epoch 120, Loss 0.0441\n",
      "Training Accuracy: 0.9543, Testing Accuracy: 0.9607\n",
      "\n"
     ]
    },
    {
     "name": "stdout",
     "output_type": "stream",
     "text": [
      "Epoch 130, Loss 0.0432\n",
      "Training Accuracy: 0.9548, Testing Accuracy: 0.9617\n",
      "\n"
     ]
    },
    {
     "name": "stdout",
     "output_type": "stream",
     "text": [
      "Epoch 140, Loss 0.0424\n",
      "Training Accuracy: 0.9553, Testing Accuracy: 0.9632\n",
      "\n"
     ]
    },
    {
     "name": "stdout",
     "output_type": "stream",
     "text": [
      "Epoch 150, Loss 0.0416\n",
      "Training Accuracy: 0.9560, Testing Accuracy: 0.9637\n",
      "\n"
     ]
    },
    {
     "name": "stdout",
     "output_type": "stream",
     "text": [
      "Epoch 160, Loss 0.041\n",
      "Training Accuracy: 0.9570, Testing Accuracy: 0.9637\n",
      "\n"
     ]
    },
    {
     "name": "stdout",
     "output_type": "stream",
     "text": [
      "Epoch 170, Loss 0.0403\n",
      "Training Accuracy: 0.9577, Testing Accuracy: 0.9632\n",
      "\n"
     ]
    },
    {
     "name": "stdout",
     "output_type": "stream",
     "text": [
      "Epoch 180, Loss 0.0398\n",
      "Training Accuracy: 0.9587, Testing Accuracy: 0.9632\n",
      "\n"
     ]
    },
    {
     "name": "stdout",
     "output_type": "stream",
     "text": [
      "Epoch 190, Loss 0.0393\n",
      "Training Accuracy: 0.9588, Testing Accuracy: 0.9637\n",
      "\n"
     ]
    },
    {
     "name": "stdout",
     "output_type": "stream",
     "text": [
      "Epoch 200, Loss 0.0388\n",
      "Training Accuracy: 0.9592, Testing Accuracy: 0.9637\n",
      "\n"
     ]
    },
    {
     "name": "stdout",
     "output_type": "stream",
     "text": [
      "Epoch 210, Loss 0.0383\n",
      "Training Accuracy: 0.9594, Testing Accuracy: 0.9642\n",
      "\n"
     ]
    },
    {
     "name": "stdout",
     "output_type": "stream",
     "text": [
      "Epoch 220, Loss 0.0379\n",
      "Training Accuracy: 0.9600, Testing Accuracy: 0.9647\n",
      "\n"
     ]
    },
    {
     "name": "stdout",
     "output_type": "stream",
     "text": [
      "Epoch 230, Loss 0.0375\n",
      "Training Accuracy: 0.9604, Testing Accuracy: 0.9647\n",
      "\n"
     ]
    },
    {
     "name": "stdout",
     "output_type": "stream",
     "text": [
      "Epoch 240, Loss 0.0372\n",
      "Training Accuracy: 0.9605, Testing Accuracy: 0.9647\n",
      "\n"
     ]
    },
    {
     "data": {
      "text/plain": [
       "0.011944401929080533"
      ]
     },
     "execution_count": 23,
     "metadata": {},
     "output_type": "execute_result"
    }
   ],
   "source": [
    "lr_learner.train_loop(dl)"
   ]
  },
  {
   "cell_type": "code",
   "execution_count": 24,
   "id": "ca410940",
   "metadata": {
    "execution": {
     "iopub.execute_input": "2021-11-19T10:11:32.733152Z",
     "iopub.status.busy": "2021-11-19T10:11:32.730551Z",
     "iopub.status.idle": "2021-11-19T10:11:33.050818Z",
     "shell.execute_reply": "2021-11-19T10:11:33.051509Z"
    },
    "papermill": {
     "duration": 0.380368,
     "end_time": "2021-11-19T10:11:33.051713",
     "exception": false,
     "start_time": "2021-11-19T10:11:32.671345",
     "status": "completed"
    },
    "tags": []
   },
   "outputs": [
    {
     "data": {
      "text/plain": [
       "<matplotlib.legend.Legend at 0x7f9c1d7257f0>"
      ]
     },
     "execution_count": 24,
     "metadata": {},
     "output_type": "execute_result"
    },
    {
     "data": {
      "image/png": "[encoded data removed]",
      "text/plain": [
       "<Figure size 1080x720 with 1 Axes>"
      ]
     },
     "metadata": {
      "needs_background": "light"
     },
     "output_type": "display_data"
    }
   ],
   "source": [
    "#comparing the results of NN and LR\n",
    "plt.figure(figsize=(15,10))\n",
    "\n",
    "# Neural Network plots\n",
    "plt.plot(acc_nn.accuracies, 'r-', label = \"Training Accuracies - NN\")\n",
    "plt.plot(acc_nn.test_accuracies, 'g-', label = \"Testing Accuracies - NN\")\n",
    "\n",
    "# Logistic Regression plots\n",
    "plt.plot(acc_lr.accuracies, 'k-', label = \"Training Accuracies - LR\")\n",
    "plt.plot(acc_lr.test_accuracies, 'b-', label = \"Testing Accuracies - LR\")\n",
    "plt.legend()"
   ]
  },
  {
   "cell_type": "markdown",
   "id": "80dfb35c",
   "metadata": {
    "papermill": {
     "duration": 0.052614,
     "end_time": "2021-11-19T10:11:33.159567",
     "exception": false,
     "start_time": "2021-11-19T10:11:33.106953",
     "status": "completed"
    },
    "tags": []
   },
   "source": [
    "#### Plotting the outputs of this layer of the NN.\n"
   ]
  },
  {
   "cell_type": "code",
   "execution_count": 25,
   "id": "45eb2ff5",
   "metadata": {
    "execution": {
     "iopub.execute_input": "2021-11-19T10:11:33.275850Z",
     "iopub.status.busy": "2021-11-19T10:11:33.274066Z",
     "iopub.status.idle": "2021-11-19T10:11:33.305009Z",
     "shell.execute_reply": "2021-11-19T10:11:33.304367Z"
    },
    "papermill": {
     "duration": 0.091186,
     "end_time": "2021-11-19T10:11:33.305151",
     "exception": false,
     "start_time": "2021-11-19T10:11:33.213965",
     "status": "completed"
    },
    "tags": []
   },
   "outputs": [],
   "source": [
    "new_model = Model(layers[:-2])\n",
    "testing_plot = new_model(testing_data_x)"
   ]
  },
  {
   "cell_type": "code",
   "execution_count": 26,
   "id": "4c0a5485",
   "metadata": {
    "execution": {
     "iopub.execute_input": "2021-11-19T10:11:33.426152Z",
     "iopub.status.busy": "2021-11-19T10:11:33.413563Z",
     "iopub.status.idle": "2021-11-19T10:11:33.660128Z",
     "shell.execute_reply": "2021-11-19T10:11:33.661189Z"
    },
    "papermill": {
     "duration": 0.30649,
     "end_time": "2021-11-19T10:11:33.661338",
     "exception": false,
     "start_time": "2021-11-19T10:11:33.354848",
     "status": "completed"
    },
    "tags": []
   },
   "outputs": [
    {
     "data": {
      "text/plain": [
       "Text(0.5, 1.0, 'Outputs')"
      ]
     },
     "execution_count": 26,
     "metadata": {},
     "output_type": "execute_result"
    },
    {
     "data": {
      "image/png": "[encoded data removed]",
      "text/plain": [
       "<Figure size 576x504 with 1 Axes>"
      ]
     },
     "metadata": {
      "needs_background": "light"
     },
     "output_type": "display_data"
    }
   ],
   "source": [
    "# Plotting the scatter plot of points and color coding by class\n",
    "plt.figure(figsize=(8,7))\n",
    "plt.scatter(testing_plot[:,0], testing_plot[:,1], alpha = 0.1, c = y_test.ravel());\n",
    "plt.title('Outputs')"
   ]
  },
  {
   "cell_type": "markdown",
   "id": "a74fcf8f",
   "metadata": {
    "papermill": {
     "duration": 0.04768,
     "end_time": "2021-11-19T10:11:33.754039",
     "exception": false,
     "start_time": "2021-11-19T10:11:33.706359",
     "status": "completed"
    },
    "tags": []
   },
   "source": [
    "Probability contours"
   ]
  },
  {
   "cell_type": "code",
   "execution_count": 27,
   "id": "d0afc8e3",
   "metadata": {
    "execution": {
     "iopub.execute_input": "2021-11-19T10:11:33.861351Z",
     "iopub.status.busy": "2021-11-19T10:11:33.854575Z",
     "iopub.status.idle": "2021-11-19T10:11:33.867882Z",
     "shell.execute_reply": "2021-11-19T10:11:33.866688Z"
    },
    "papermill": {
     "duration": 0.068246,
     "end_time": "2021-11-19T10:11:33.868022",
     "exception": false,
     "start_time": "2021-11-19T10:11:33.799776",
     "status": "completed"
    },
    "tags": []
   },
   "outputs": [],
   "source": [
    "model_prob = Model(layers[-2:]) "
   ]
  },
  {
   "cell_type": "code",
   "execution_count": 28,
   "id": "9b96e238",
   "metadata": {
    "execution": {
     "iopub.execute_input": "2021-11-19T10:11:34.016700Z",
     "iopub.status.busy": "2021-11-19T10:11:34.014307Z",
     "iopub.status.idle": "2021-11-19T10:11:34.033622Z",
     "shell.execute_reply": "2021-11-19T10:11:34.034449Z"
    },
    "papermill": {
     "duration": 0.114549,
     "end_time": "2021-11-19T10:11:34.034590",
     "exception": false,
     "start_time": "2021-11-19T10:11:33.920041",
     "status": "completed"
    },
    "tags": []
   },
   "outputs": [],
   "source": [
    "#creating the x and y ranges according to the above generated plot.\n",
    "x_range = np.linspace(-4, 1, 100) \n",
    "y_range = np.linspace(-6, 6, 100) \n",
    "x_grid, y_grid = np.meshgrid(x_range, y_range) # x_grid and y_grig are of size 100 X 100\n",
    "\n",
    "# converting x_grid and y_grid to continuous arrays\n",
    "x_gridflat = np.ravel(x_grid)\n",
    "y_gridflat = np.ravel(y_grid)\n",
    "\n",
    "# The last layer of the current model takes two columns as input. Hence transpose of np.vstack() is required.\n",
    "X = np.vstack((x_gridflat, y_gridflat)).T\n",
    "\n",
    "prob_contour = model_prob(X).reshape(100,100) "
   ]
  },
  {
   "cell_type": "code",
   "execution_count": 29,
   "id": "da72499a",
   "metadata": {
    "execution": {
     "iopub.execute_input": "2021-11-19T10:11:34.146006Z",
     "iopub.status.busy": "2021-11-19T10:11:34.145411Z",
     "iopub.status.idle": "2021-11-19T10:11:34.482681Z",
     "shell.execute_reply": "2021-11-19T10:11:34.483156Z"
    },
    "papermill": {
     "duration": 0.396276,
     "end_time": "2021-11-19T10:11:34.483303",
     "exception": false,
     "start_time": "2021-11-19T10:11:34.087027",
     "status": "completed"
    },
    "tags": []
   },
   "outputs": [
    {
     "data": {
      "image/png": "[encoded data removed]",
      "text/plain": [
       "<Figure size 720x648 with 1 Axes>"
      ]
     },
     "metadata": {
      "needs_background": "light"
     },
     "output_type": "display_data"
    }
   ],
   "source": [
    "plt.figure(figsize=(10,9))\n",
    "plt.scatter(testing_plot[:,0], testing_plot[:,1], alpha = 0.1, c = y_test.ravel())\n",
    "contours = plt.contour(x_grid,y_grid,prob_contour)\n",
    "plt.title('Probability Contours')\n",
    "plt.clabel(contours, inline = True );"
   ]
  },
  {
   "cell_type": "code",
   "execution_count": null,
   "id": "e81b4ac7",
   "metadata": {
    "papermill": {
     "duration": 0.050877,
     "end_time": "2021-11-19T10:11:34.581226",
     "exception": false,
     "start_time": "2021-11-19T10:11:34.530349",
     "status": "completed"
    },
    "tags": []
   },
   "outputs": [],
   "source": []
  }
 ],
 "metadata": {
  "kernelspec": {
   "display_name": "Python 3",
   "language": "python",
   "name": "python3"
  },
  "language_info": {
   "codemirror_mode": {
    "name": "ipython",
    "version": 3
   },
   "file_extension": ".py",
   "mimetype": "text/x-python",
   "name": "python",
   "nbconvert_exporter": "python",
   "pygments_lexer": "ipython3",
   "version": "3.6.15"
  },
  "papermill": {
   "default_parameters": {},
   "duration": 173.716342,
   "end_time": "2021-11-19T10:11:35.049516",
   "environment_variables": {},
   "exception": null,
   "input_path": "2020-08-11-part2.ipynb",
   "output_path": "2020-08-11-part2.ipynb",
   "parameters": {},
   "start_time": "2021-11-19T10:08:41.333174",
   "version": "2.3.3"
  }
 },
 "nbformat": 4,
 "nbformat_minor": 5
}