{
 "cells": [
  {
   "cell_type": "markdown",
   "id": "98380cd3",
   "metadata": {
    "papermill": {
     "duration": 0.038946,
     "end_time": "2022-09-27T20:13:14.476528",
     "exception": false,
     "start_time": "2022-09-27T20:13:14.437582",
     "status": "completed"
    },
    "tags": []
   },
   "source": [
    "# Distinguish Your Own Digits (DYOD)"
   ]
  },
  {
   "cell_type": "markdown",
   "id": "ef31240d",
   "metadata": {
    "papermill": {
     "duration": 0.027453,
     "end_time": "2022-09-27T20:13:14.535261",
     "exception": false,
     "start_time": "2022-09-27T20:13:14.507808",
     "status": "completed"
    },
    "tags": []
   },
   "source": [
    "You are going to write a classifier that distinguishes between the number 3 and number 8."
   ]
  },
  {
   "cell_type": "code",
   "execution_count": 1,
   "id": "b15c8646",
   "metadata": {
    "execution": {
     "iopub.execute_input": "2022-09-27T20:13:14.606523Z",
     "iopub.status.busy": "2022-09-27T20:13:14.605796Z",
     "iopub.status.idle": "2022-09-27T20:13:14.619852Z",
     "shell.execute_reply": "2022-09-27T20:13:14.619261Z"
    },
    "papermill": {
     "duration": 0.055711,
     "end_time": "2022-09-27T20:13:14.620003",
     "exception": false,
     "start_time": "2022-09-27T20:13:14.564292",
     "status": "completed"
    },
    "tags": []
   },
   "outputs": [],
   "source": [
    "%load_ext autoreload\n",
    "%autoreload 2"
   ]
  },
  {
   "cell_type": "code",
   "execution_count": 2,
   "id": "22ef38dc",
   "metadata": {
    "execution": {
     "iopub.execute_input": "2022-09-27T20:13:14.682079Z",
     "iopub.status.busy": "2022-09-27T20:13:14.681390Z",
     "iopub.status.idle": "2022-09-27T20:13:15.351635Z",
     "shell.execute_reply": "2022-09-27T20:13:15.351042Z"
    },
    "papermill": {
     "duration": 0.703821,
     "end_time": "2022-09-27T20:13:15.351778",
     "exception": false,
     "start_time": "2022-09-27T20:13:14.647957",
     "status": "completed"
    },
    "tags": []
   },
   "outputs": [],
   "source": [
    "%matplotlib inline\n",
    "import numpy as np\n",
    "import matplotlib.pyplot as plt\n",
    "import pandas as pd"
   ]
  },
  {
   "cell_type": "markdown",
   "id": "ba036198",
   "metadata": {
    "papermill": {
     "duration": 0.027951,
     "end_time": "2022-09-27T20:13:15.408015",
     "exception": false,
     "start_time": "2022-09-27T20:13:15.380064",
     "status": "completed"
    },
    "tags": []
   },
   "source": [
    "From the command line run `pip install mnist`. This is a library that will help you bring down the mnist dataset. If you run this from a notebook, you need to put  `!pip install mnist` in a cell by itself."
   ]
  },
  {
   "cell_type": "code",
   "execution_count": 3,
   "id": "bb6ad8a1",
   "metadata": {
    "execution": {
     "iopub.execute_input": "2022-09-27T20:13:15.470092Z",
     "iopub.status.busy": "2022-09-27T20:13:15.469406Z",
     "iopub.status.idle": "2022-09-27T20:13:17.313860Z",
     "shell.execute_reply": "2022-09-27T20:13:17.314471Z"
    },
    "papermill": {
     "duration": 1.878793,
     "end_time": "2022-09-27T20:13:17.314639",
     "exception": false,
     "start_time": "2022-09-27T20:13:15.435846",
     "status": "completed"
    },
    "tags": []
   },
   "outputs": [
    {
     "name": "stdout",
     "output_type": "stream",
     "text": [
      "Collecting mnist\r\n",
      "  Downloading mnist-0.2.2-py2.py3-none-any.whl (3.5 kB)\r\n",
      "Requirement already satisfied: numpy in /opt/hostedtoolcache/Python/3.6.15/x64/lib/python3.6/site-packages (from mnist) (1.19.5)\r\n"
     ]
    },
    {
     "name": "stdout",
     "output_type": "stream",
     "text": [
      "Installing collected packages: mnist\r\n",
      "Successfully installed mnist-0.2.2\r\n"
     ]
    }
   ],
   "source": [
    "!pip install mnist"
   ]
  },
  {
   "cell_type": "markdown",
   "id": "69df9c9a",
   "metadata": {
    "papermill": {
     "duration": 0.027643,
     "end_time": "2022-09-27T20:13:17.370495",
     "exception": false,
     "start_time": "2022-09-27T20:13:17.342852",
     "status": "completed"
    },
    "tags": []
   },
   "source": [
    "## Preparing the Data"
   ]
  },
  {
   "cell_type": "code",
   "execution_count": 4,
   "id": "7f69d806",
   "metadata": {
    "execution": {
     "iopub.execute_input": "2022-09-27T20:13:17.440361Z",
     "iopub.status.busy": "2022-09-27T20:13:17.429963Z",
     "iopub.status.idle": "2022-09-27T20:13:17.449976Z",
     "shell.execute_reply": "2022-09-27T20:13:17.450515Z"
    },
    "papermill": {
     "duration": 0.052587,
     "end_time": "2022-09-27T20:13:17.450669",
     "exception": false,
     "start_time": "2022-09-27T20:13:17.398082",
     "status": "completed"
    },
    "tags": []
   },
   "outputs": [],
   "source": [
    "import mnist"
   ]
  },
  {
   "cell_type": "code",
   "execution_count": 5,
   "id": "a411e44f",
   "metadata": {
    "execution": {
     "iopub.execute_input": "2022-09-27T20:13:17.513134Z",
     "iopub.status.busy": "2022-09-27T20:13:17.511892Z",
     "iopub.status.idle": "2022-09-27T20:13:18.179248Z",
     "shell.execute_reply": "2022-09-27T20:13:18.178601Z"
    },
    "papermill": {
     "duration": 0.700253,
     "end_time": "2022-09-27T20:13:18.179387",
     "exception": false,
     "start_time": "2022-09-27T20:13:17.479134",
     "status": "completed"
    },
    "tags": []
   },
   "outputs": [],
   "source": [
    "train_images = mnist.train_images()\n",
    "train_labels = mnist.train_labels()"
   ]
  },
  {
   "cell_type": "code",
   "execution_count": 6,
   "id": "dceab3a5",
   "metadata": {
    "execution": {
     "iopub.execute_input": "2022-09-27T20:13:18.245240Z",
     "iopub.status.busy": "2022-09-27T20:13:18.242000Z",
     "iopub.status.idle": "2022-09-27T20:13:18.261149Z",
     "shell.execute_reply": "2022-09-27T20:13:18.260445Z"
    },
    "papermill": {
     "duration": 0.05312,
     "end_time": "2022-09-27T20:13:18.261282",
     "exception": false,
     "start_time": "2022-09-27T20:13:18.208162",
     "status": "completed"
    },
    "tags": []
   },
   "outputs": [
    {
     "data": {
      "text/plain": [
       "((60000, 28, 28), (60000,))"
      ]
     },
     "execution_count": 6,
     "metadata": {},
     "output_type": "execute_result"
    }
   ],
   "source": [
    "train_images.shape, train_labels.shape"
   ]
  },
  {
   "cell_type": "code",
   "execution_count": 7,
   "id": "f50dc2bb",
   "metadata": {
    "execution": {
     "iopub.execute_input": "2022-09-27T20:13:18.326176Z",
     "iopub.status.busy": "2022-09-27T20:13:18.325088Z",
     "iopub.status.idle": "2022-09-27T20:13:18.468147Z",
     "shell.execute_reply": "2022-09-27T20:13:18.467518Z"
    },
    "papermill": {
     "duration": 0.177769,
     "end_time": "2022-09-27T20:13:18.468315",
     "exception": false,
     "start_time": "2022-09-27T20:13:18.290546",
     "status": "completed"
    },
    "tags": []
   },
   "outputs": [],
   "source": [
    "test_images = mnist.test_images()\n",
    "test_labels = mnist.test_labels()"
   ]
  },
  {
   "cell_type": "code",
   "execution_count": 8,
   "id": "fc38cf1b",
   "metadata": {
    "execution": {
     "iopub.execute_input": "2022-09-27T20:13:18.534386Z",
     "iopub.status.busy": "2022-09-27T20:13:18.529077Z",
     "iopub.status.idle": "2022-09-27T20:13:18.546681Z",
     "shell.execute_reply": "2022-09-27T20:13:18.547175Z"
    },
    "papermill": {
     "duration": 0.050413,
     "end_time": "2022-09-27T20:13:18.547331",
     "exception": false,
     "start_time": "2022-09-27T20:13:18.496918",
     "status": "completed"
    },
    "tags": []
   },
   "outputs": [
    {
     "data": {
      "text/plain": [
       "((10000, 28, 28), (10000,))"
      ]
     },
     "execution_count": 8,
     "metadata": {},
     "output_type": "execute_result"
    }
   ],
   "source": [
    "test_images.shape, test_labels.shape"
   ]
  },
  {
   "cell_type": "code",
   "execution_count": 9,
   "id": "f9ed8fe0",
   "metadata": {
    "execution": {
     "iopub.execute_input": "2022-09-27T20:13:18.613789Z",
     "iopub.status.busy": "2022-09-27T20:13:18.609920Z",
     "iopub.status.idle": "2022-09-27T20:13:18.779803Z",
     "shell.execute_reply": "2022-09-27T20:13:18.779246Z"
    },
    "papermill": {
     "duration": 0.204463,
     "end_time": "2022-09-27T20:13:18.779938",
     "exception": false,
     "start_time": "2022-09-27T20:13:18.575475",
     "status": "completed"
    },
    "tags": []
   },
   "outputs": [
    {
     "name": "stdout",
     "output_type": "stream",
     "text": [
      "2\n"
     ]
    },
    {
     "data": {
      "text/plain": [
       "<matplotlib.image.AxesImage at 0x7f7c97caac88>"
      ]
     },
     "execution_count": 9,
     "metadata": {},
     "output_type": "execute_result"
    },
    {
     "data": {
      "image/png": "[encoded data removed]",
      "text/plain": [
       "<Figure size 432x288 with 1 Axes>"
      ]
     },
     "metadata": {
      "needs_background": "light"
     },
     "output_type": "display_data"
    }
   ],
   "source": [
    "image_index = 7776 # You may select anything up to 60,000\n",
    "print(train_labels[image_index]) \n",
    "plt.imshow(train_images[image_index], cmap='Greys')"
   ]
  },
  {
   "cell_type": "markdown",
   "id": "a8d2388d",
   "metadata": {
    "papermill": {
     "duration": 0.030457,
     "end_time": "2022-09-27T20:13:18.841029",
     "exception": false,
     "start_time": "2022-09-27T20:13:18.810572",
     "status": "completed"
    },
    "tags": []
   },
   "source": [
    "## Filter data to get 3 and 8 out"
   ]
  },
  {
   "cell_type": "code",
   "execution_count": 10,
   "id": "776f7fc7",
   "metadata": {
    "execution": {
     "iopub.execute_input": "2022-09-27T20:13:18.906942Z",
     "iopub.status.busy": "2022-09-27T20:13:18.905742Z",
     "iopub.status.idle": "2022-09-27T20:13:18.929777Z",
     "shell.execute_reply": "2022-09-27T20:13:18.928487Z"
    },
    "papermill": {
     "duration": 0.059071,
     "end_time": "2022-09-27T20:13:18.929946",
     "exception": false,
     "start_time": "2022-09-27T20:13:18.870875",
     "status": "completed"
    },
    "tags": []
   },
   "outputs": [],
   "source": [
    "train_filter = np.where((train_labels == 3 ) | (train_labels == 8))\n",
    "test_filter = np.where((test_labels == 3) | (test_labels == 8))\n",
    "X_train, y_train = train_images[train_filter], train_labels[train_filter]\n",
    "X_test, y_test = test_images[test_filter], test_labels[test_filter]"
   ]
  },
  {
   "cell_type": "markdown",
   "id": "948f0b7e",
   "metadata": {
    "papermill": {
     "duration": 0.029897,
     "end_time": "2022-09-27T20:13:18.991670",
     "exception": false,
     "start_time": "2022-09-27T20:13:18.961773",
     "status": "completed"
    },
    "tags": []
   },
   "source": [
    "We normalize the pizel values in the 0 to 1 range"
   ]
  },
  {
   "cell_type": "code",
   "execution_count": 11,
   "id": "ee4c2166",
   "metadata": {
    "execution": {
     "iopub.execute_input": "2022-09-27T20:13:19.057674Z",
     "iopub.status.busy": "2022-09-27T20:13:19.056938Z",
     "iopub.status.idle": "2022-09-27T20:13:19.114222Z",
     "shell.execute_reply": "2022-09-27T20:13:19.113600Z"
    },
    "papermill": {
     "duration": 0.092755,
     "end_time": "2022-09-27T20:13:19.114356",
     "exception": false,
     "start_time": "2022-09-27T20:13:19.021601",
     "status": "completed"
    },
    "tags": []
   },
   "outputs": [],
   "source": [
    "X_train = X_train/255.\n",
    "X_test = X_test/255."
   ]
  },
  {
   "cell_type": "markdown",
   "id": "ddcf4fab",
   "metadata": {
    "papermill": {
     "duration": 0.030586,
     "end_time": "2022-09-27T20:13:19.179272",
     "exception": false,
     "start_time": "2022-09-27T20:13:19.148686",
     "status": "completed"
    },
    "tags": []
   },
   "source": [
    "And setup the labels as 1 (when the digit is 3) and 0 (when the digit is 8)"
   ]
  },
  {
   "cell_type": "code",
   "execution_count": 12,
   "id": "7dc908f2",
   "metadata": {
    "execution": {
     "iopub.execute_input": "2022-09-27T20:13:19.246378Z",
     "iopub.status.busy": "2022-09-27T20:13:19.245681Z",
     "iopub.status.idle": "2022-09-27T20:13:19.259921Z",
     "shell.execute_reply": "2022-09-27T20:13:19.259342Z"
    },
    "papermill": {
     "duration": 0.049948,
     "end_time": "2022-09-27T20:13:19.260050",
     "exception": false,
     "start_time": "2022-09-27T20:13:19.210102",
     "status": "completed"
    },
    "tags": []
   },
   "outputs": [],
   "source": [
    "y_train = 1*(y_train==3)\n",
    "y_test = 1*(y_test==3)"
   ]
  },
  {
   "cell_type": "code",
   "execution_count": 13,
   "id": "01e4e969",
   "metadata": {
    "execution": {
     "iopub.execute_input": "2022-09-27T20:13:19.330405Z",
     "iopub.status.busy": "2022-09-27T20:13:19.329701Z",
     "iopub.status.idle": "2022-09-27T20:13:19.345167Z",
     "shell.execute_reply": "2022-09-27T20:13:19.344587Z"
    },
    "papermill": {
     "duration": 0.054778,
     "end_time": "2022-09-27T20:13:19.345299",
     "exception": false,
     "start_time": "2022-09-27T20:13:19.290521",
     "status": "completed"
    },
    "tags": []
   },
   "outputs": [
    {
     "data": {
      "text/plain": [
       "((11982, 28, 28), (1984, 28, 28))"
      ]
     },
     "execution_count": 13,
     "metadata": {},
     "output_type": "execute_result"
    }
   ],
   "source": [
    "X_train.shape, X_test.shape"
   ]
  },
  {
   "cell_type": "markdown",
   "id": "5ccf3f85",
   "metadata": {
    "papermill": {
     "duration": 0.030406,
     "end_time": "2022-09-27T20:13:19.407165",
     "exception": false,
     "start_time": "2022-09-27T20:13:19.376759",
     "status": "completed"
    },
    "tags": []
   },
   "source": [
    "We reshape the data to flatten the image pixels into a set of features or co-variates:"
   ]
  },
  {
   "cell_type": "code",
   "execution_count": 14,
   "id": "5286a4a3",
   "metadata": {
    "execution": {
     "iopub.execute_input": "2022-09-27T20:13:19.473750Z",
     "iopub.status.busy": "2022-09-27T20:13:19.472801Z",
     "iopub.status.idle": "2022-09-27T20:13:19.488167Z",
     "shell.execute_reply": "2022-09-27T20:13:19.488926Z"
    },
    "papermill": {
     "duration": 0.051548,
     "end_time": "2022-09-27T20:13:19.489080",
     "exception": false,
     "start_time": "2022-09-27T20:13:19.437532",
     "status": "completed"
    },
    "tags": []
   },
   "outputs": [
    {
     "data": {
      "text/plain": [
       "((11982, 784), (1984, 784))"
      ]
     },
     "execution_count": 14,
     "metadata": {},
     "output_type": "execute_result"
    }
   ],
   "source": [
    "X_train = X_train.reshape(X_train.shape[0], -1)\n",
    "X_test = X_test.reshape(X_test.shape[0], -1)\n",
    "X_train.shape, X_test.shape"
   ]
  },
  {
   "cell_type": "code",
   "execution_count": 15,
   "id": "73c5f88a",
   "metadata": {
    "execution": {
     "iopub.execute_input": "2022-09-27T20:13:19.557152Z",
     "iopub.status.busy": "2022-09-27T20:13:19.556321Z",
     "iopub.status.idle": "2022-09-27T20:13:19.578277Z",
     "shell.execute_reply": "2022-09-27T20:13:19.578911Z"
    },
    "papermill": {
     "duration": 0.059291,
     "end_time": "2022-09-27T20:13:19.579083",
     "exception": false,
     "start_time": "2022-09-27T20:13:19.519792",
     "status": "completed"
    },
    "tags": []
   },
   "outputs": [],
   "source": [
    "#Impoting functions from 'Kudzu'\n",
    "from kudzu.model import Model\n",
    "from kudzu.train import Learner\n",
    "from kudzu.optim import GD\n",
    "from kudzu.data import Data, Sampler,Dataloader\n",
    "\n",
    "from kudzu.callbacks import AccCallback\n",
    "from kudzu.callbacks import ClfCallback\n",
    "\n",
    "from kudzu.loss import MSE\n",
    "\n",
    "from kudzu.layer import Sigmoid,Relu\n",
    "from kudzu.layer import Affine"
   ]
  },
  {
   "cell_type": "markdown",
   "id": "bc01172a",
   "metadata": {
    "papermill": {
     "duration": 0.03093,
     "end_time": "2022-09-27T20:13:19.641337",
     "exception": false,
     "start_time": "2022-09-27T20:13:19.610407",
     "status": "completed"
    },
    "tags": []
   },
   "source": [
    "### Let us create a `Config` class, to store important parameters. \n",
    "This class essentially plays the role of a dictionary."
   ]
  },
  {
   "cell_type": "code",
   "execution_count": 16,
   "id": "978281aa",
   "metadata": {
    "execution": {
     "iopub.execute_input": "2022-09-27T20:13:19.707667Z",
     "iopub.status.busy": "2022-09-27T20:13:19.706959Z",
     "iopub.status.idle": "2022-09-27T20:13:19.721707Z",
     "shell.execute_reply": "2022-09-27T20:13:19.721031Z"
    },
    "papermill": {
     "duration": 0.05041,
     "end_time": "2022-09-27T20:13:19.721844",
     "exception": false,
     "start_time": "2022-09-27T20:13:19.671434",
     "status": "completed"
    },
    "tags": []
   },
   "outputs": [],
   "source": [
    "class Config:\n",
    "    pass\n",
    "config = Config()\n",
    "config.lr = 0.001\n",
    "config.num_epochs = 250\n",
    "config.bs = 50"
   ]
  },
  {
   "cell_type": "markdown",
   "id": "1385fa59",
   "metadata": {
    "papermill": {
     "duration": 0.030969,
     "end_time": "2022-09-27T20:13:19.785373",
     "exception": false,
     "start_time": "2022-09-27T20:13:19.754404",
     "status": "completed"
    },
    "tags": []
   },
   "source": [
    "### Running Models with the Training data\n",
    "Details about the network layers:\n",
    "- A first affine layer has 784 inputs and does 100 affine transforms. These are followed by a Relu\n",
    "- A second affine layer has 100 inputs from the 100 activations of the past layer, and does 100 affine transforms. These are followed by a Relu\n",
    "- A third affine layer has 100 activations and does 2 affine transformations to create an embedding for visualization. There is no non-linearity here.\n",
    "- A final \"logistic regression\" which has an affine transform from 2 inputs to 1 output, which is squeezed through a sigmoid.\n"
   ]
  },
  {
   "cell_type": "code",
   "execution_count": 17,
   "id": "2b9c66db",
   "metadata": {
    "execution": {
     "iopub.execute_input": "2022-09-27T20:13:19.853791Z",
     "iopub.status.busy": "2022-09-27T20:13:19.853074Z",
     "iopub.status.idle": "2022-09-27T20:13:19.869410Z",
     "shell.execute_reply": "2022-09-27T20:13:19.868813Z"
    },
    "papermill": {
     "duration": 0.053036,
     "end_time": "2022-09-27T20:13:19.869537",
     "exception": false,
     "start_time": "2022-09-27T20:13:19.816501",
     "status": "completed"
    },
    "tags": []
   },
   "outputs": [],
   "source": [
    "data = Data(X_train, y_train.reshape(-1,1))\n",
    "sampler = Sampler(data, config.bs, shuffle=True)\n",
    "\n",
    "dl = Dataloader(data, sampler)\n",
    "\n",
    "opt = GD(config.lr)\n",
    "loss = MSE()"
   ]
  },
  {
   "cell_type": "code",
   "execution_count": 18,
   "id": "b275e4c2",
   "metadata": {
    "execution": {
     "iopub.execute_input": "2022-09-27T20:13:19.938265Z",
     "iopub.status.busy": "2022-09-27T20:13:19.937538Z",
     "iopub.status.idle": "2022-09-27T20:13:19.951459Z",
     "shell.execute_reply": "2022-09-27T20:13:19.950893Z"
    },
    "papermill": {
     "duration": 0.050151,
     "end_time": "2022-09-27T20:13:19.951590",
     "exception": false,
     "start_time": "2022-09-27T20:13:19.901439",
     "status": "completed"
    },
    "tags": []
   },
   "outputs": [],
   "source": [
    "training_data_x = X_train\n",
    "testing_data_x = X_test\n",
    "training_data_y = y_train.reshape(-1,1)\n",
    "testing_data_y = y_test.reshape(-1,1)"
   ]
  },
  {
   "cell_type": "code",
   "execution_count": 19,
   "id": "76951160",
   "metadata": {
    "execution": {
     "iopub.execute_input": "2022-09-27T20:13:20.017725Z",
     "iopub.status.busy": "2022-09-27T20:13:20.017022Z",
     "iopub.status.idle": "2022-09-27T20:13:20.036890Z",
     "shell.execute_reply": "2022-09-27T20:13:20.036247Z"
    },
    "papermill": {
     "duration": 0.05514,
     "end_time": "2022-09-27T20:13:20.037027",
     "exception": false,
     "start_time": "2022-09-27T20:13:19.981887",
     "status": "completed"
    },
    "tags": []
   },
   "outputs": [
    {
     "name": "stdout",
     "output_type": "stream",
     "text": [
      "xavier\n",
      "xavier\n",
      "xavier\n",
      "xavier\n",
      "xavier\n"
     ]
    }
   ],
   "source": [
    "layers = [Affine(\"first\", 784, 100), Relu(\"first\"), Affine(\"second\", 100, 100), Relu(\"second\"), Affine(\"third\", 100, 2), Affine(\"last\", 2, 1), Sigmoid(\"last\")]\n",
    "model_nn = Model(layers)\n",
    "model_lr = Model([Affine(\"logits\", 784, 1), Sigmoid(\"sigmoid\")])"
   ]
  },
  {
   "cell_type": "code",
   "execution_count": 20,
   "id": "6eede77a",
   "metadata": {
    "execution": {
     "iopub.execute_input": "2022-09-27T20:13:20.105540Z",
     "iopub.status.busy": "2022-09-27T20:13:20.104824Z",
     "iopub.status.idle": "2022-09-27T20:13:20.119699Z",
     "shell.execute_reply": "2022-09-27T20:13:20.119160Z"
    },
    "papermill": {
     "duration": 0.051382,
     "end_time": "2022-09-27T20:13:20.119833",
     "exception": false,
     "start_time": "2022-09-27T20:13:20.068451",
     "status": "completed"
    },
    "tags": []
   },
   "outputs": [],
   "source": [
    "nn_learner = Learner(loss, model_nn, opt, config.num_epochs)\n",
    "acc_nn = ClfCallback(nn_learner, config.bs, training_data_x , testing_data_x, training_data_y, testing_data_y)\n",
    "nn_learner.set_callbacks([acc_nn])"
   ]
  },
  {
   "cell_type": "code",
   "execution_count": 21,
   "id": "877b6cc7",
   "metadata": {
    "execution": {
     "iopub.execute_input": "2022-09-27T20:13:20.189954Z",
     "iopub.status.busy": "2022-09-27T20:13:20.187934Z",
     "iopub.status.idle": "2022-09-27T20:13:20.202422Z",
     "shell.execute_reply": "2022-09-27T20:13:20.203035Z"
    },
    "papermill": {
     "duration": 0.051358,
     "end_time": "2022-09-27T20:13:20.203193",
     "exception": false,
     "start_time": "2022-09-27T20:13:20.151835",
     "status": "completed"
    },
    "tags": []
   },
   "outputs": [],
   "source": [
    "lr_learner = Learner(loss, model_lr, opt, config.num_epochs)\n",
    "acc_lr = ClfCallback(lr_learner, config.bs, training_data_x , testing_data_x, training_data_y, testing_data_y)\n",
    "lr_learner.set_callbacks([acc_lr])"
   ]
  },
  {
   "cell_type": "code",
   "execution_count": 22,
   "id": "d9b133c3",
   "metadata": {
    "execution": {
     "iopub.execute_input": "2022-09-27T20:13:20.271773Z",
     "iopub.status.busy": "2022-09-27T20:13:20.271094Z",
     "iopub.status.idle": "2022-09-27T20:14:50.757641Z",
     "shell.execute_reply": "2022-09-27T20:14:50.758681Z"
    },
    "papermill": {
     "duration": 90.523802,
     "end_time": "2022-09-27T20:14:50.758850",
     "exception": false,
     "start_time": "2022-09-27T20:13:20.235048",
     "status": "completed"
    },
    "tags": []
   },
   "outputs": [
    {
     "name": "stdout",
     "output_type": "stream",
     "text": [
      "Epoch 0, Loss 0.2471\n",
      "Training Accuracy: 0.6910, Testing Accuracy: 0.7152\n",
      "\n"
     ]
    },
    {
     "name": "stdout",
     "output_type": "stream",
     "text": [
      "Epoch 10, Loss 0.0716\n",
      "Training Accuracy: 0.9276, Testing Accuracy: 0.9370\n",
      "\n"
     ]
    },
    {
     "name": "stdout",
     "output_type": "stream",
     "text": [
      "Epoch 20, Loss 0.0474\n",
      "Training Accuracy: 0.9492, Testing Accuracy: 0.9587\n",
      "\n"
     ]
    },
    {
     "name": "stdout",
     "output_type": "stream",
     "text": [
      "Epoch 30, Loss 0.0388\n",
      "Training Accuracy: 0.9565, Testing Accuracy: 0.9637\n",
      "\n"
     ]
    },
    {
     "name": "stdout",
     "output_type": "stream",
     "text": [
      "Epoch 40, Loss 0.0343\n",
      "Training Accuracy: 0.9604, Testing Accuracy: 0.9682\n",
      "\n"
     ]
    },
    {
     "name": "stdout",
     "output_type": "stream",
     "text": [
      "Epoch 50, Loss 0.0314\n",
      "Training Accuracy: 0.9640, Testing Accuracy: 0.9703\n",
      "\n"
     ]
    },
    {
     "name": "stdout",
     "output_type": "stream",
     "text": [
      "Epoch 60, Loss 0.0293\n",
      "Training Accuracy: 0.9662, Testing Accuracy: 0.9723\n",
      "\n"
     ]
    },
    {
     "name": "stdout",
     "output_type": "stream",
     "text": [
      "Epoch 70, Loss 0.0277\n",
      "Training Accuracy: 0.9680, Testing Accuracy: 0.9743\n",
      "\n"
     ]
    },
    {
     "name": "stdout",
     "output_type": "stream",
     "text": [
      "Epoch 80, Loss 0.0264\n",
      "Training Accuracy: 0.9693, Testing Accuracy: 0.9733\n",
      "\n"
     ]
    },
    {
     "name": "stdout",
     "output_type": "stream",
     "text": [
      "Epoch 90, Loss 0.0253\n",
      "Training Accuracy: 0.9710, Testing Accuracy: 0.9728\n",
      "\n"
     ]
    },
    {
     "name": "stdout",
     "output_type": "stream",
     "text": [
      "Epoch 100, Loss 0.0243\n",
      "Training Accuracy: 0.9719, Testing Accuracy: 0.9723\n",
      "\n"
     ]
    },
    {
     "name": "stdout",
     "output_type": "stream",
     "text": [
      "Epoch 110, Loss 0.0234\n",
      "Training Accuracy: 0.9737, Testing Accuracy: 0.9718\n",
      "\n"
     ]
    },
    {
     "name": "stdout",
     "output_type": "stream",
     "text": [
      "Epoch 120, Loss 0.0227\n",
      "Training Accuracy: 0.9749, Testing Accuracy: 0.9718\n",
      "\n"
     ]
    },
    {
     "name": "stdout",
     "output_type": "stream",
     "text": [
      "Epoch 130, Loss 0.022\n",
      "Training Accuracy: 0.9755, Testing Accuracy: 0.9718\n",
      "\n"
     ]
    },
    {
     "name": "stdout",
     "output_type": "stream",
     "text": [
      "Epoch 140, Loss 0.0213\n",
      "Training Accuracy: 0.9759, Testing Accuracy: 0.9718\n",
      "\n"
     ]
    },
    {
     "name": "stdout",
     "output_type": "stream",
     "text": [
      "Epoch 150, Loss 0.0207\n",
      "Training Accuracy: 0.9769, Testing Accuracy: 0.9733\n",
      "\n"
     ]
    },
    {
     "name": "stdout",
     "output_type": "stream",
     "text": [
      "Epoch 160, Loss 0.0201\n",
      "Training Accuracy: 0.9777, Testing Accuracy: 0.9743\n",
      "\n"
     ]
    },
    {
     "name": "stdout",
     "output_type": "stream",
     "text": [
      "Epoch 170, Loss 0.0196\n",
      "Training Accuracy: 0.9788, Testing Accuracy: 0.9738\n",
      "\n"
     ]
    },
    {
     "name": "stdout",
     "output_type": "stream",
     "text": [
      "Epoch 180, Loss 0.0191\n",
      "Training Accuracy: 0.9791, Testing Accuracy: 0.9738\n",
      "\n"
     ]
    },
    {
     "name": "stdout",
     "output_type": "stream",
     "text": [
      "Epoch 190, Loss 0.0186\n",
      "Training Accuracy: 0.9793, Testing Accuracy: 0.9743\n",
      "\n"
     ]
    },
    {
     "name": "stdout",
     "output_type": "stream",
     "text": [
      "Epoch 200, Loss 0.0181\n",
      "Training Accuracy: 0.9801, Testing Accuracy: 0.9748\n",
      "\n"
     ]
    },
    {
     "name": "stdout",
     "output_type": "stream",
     "text": [
      "Epoch 210, Loss 0.0177\n",
      "Training Accuracy: 0.9806, Testing Accuracy: 0.9753\n",
      "\n"
     ]
    },
    {
     "name": "stdout",
     "output_type": "stream",
     "text": [
      "Epoch 220, Loss 0.0173\n",
      "Training Accuracy: 0.9814, Testing Accuracy: 0.9753\n",
      "\n"
     ]
    },
    {
     "name": "stdout",
     "output_type": "stream",
     "text": [
      "Epoch 230, Loss 0.0169\n",
      "Training Accuracy: 0.9821, Testing Accuracy: 0.9763\n",
      "\n"
     ]
    },
    {
     "name": "stdout",
     "output_type": "stream",
     "text": [
      "Epoch 240, Loss 0.0165\n",
      "Training Accuracy: 0.9825, Testing Accuracy: 0.9763\n",
      "\n"
     ]
    },
    {
     "data": {
      "text/plain": [
       "0.03661088403475895"
      ]
     },
     "execution_count": 22,
     "metadata": {},
     "output_type": "execute_result"
    }
   ],
   "source": [
    "nn_learner.train_loop(dl)"
   ]
  },
  {
   "cell_type": "code",
   "execution_count": 23,
   "id": "e0163366",
   "metadata": {
    "execution": {
     "iopub.execute_input": "2022-09-27T20:14:50.850053Z",
     "iopub.status.busy": "2022-09-27T20:14:50.849342Z",
     "iopub.status.idle": "2022-09-27T20:15:07.029872Z",
     "shell.execute_reply": "2022-09-27T20:15:07.030836Z"
    },
    "papermill": {
     "duration": 16.232479,
     "end_time": "2022-09-27T20:15:07.030998",
     "exception": false,
     "start_time": "2022-09-27T20:14:50.798519",
     "status": "completed"
    },
    "tags": []
   },
   "outputs": [
    {
     "name": "stdout",
     "output_type": "stream",
     "text": [
      "Epoch 0, Loss 0.2353\n",
      "Training Accuracy: 0.6914, Testing Accuracy: 0.7157\n",
      "\n"
     ]
    },
    {
     "name": "stdout",
     "output_type": "stream",
     "text": [
      "Epoch 10, Loss 0.1029\n",
      "Training Accuracy: 0.9124, Testing Accuracy: 0.9234\n",
      "\n"
     ]
    },
    {
     "name": "stdout",
     "output_type": "stream",
     "text": [
      "Epoch 20, Loss 0.079\n",
      "Training Accuracy: 0.9291, Testing Accuracy: 0.9410\n",
      "\n"
     ]
    },
    {
     "name": "stdout",
     "output_type": "stream",
     "text": [
      "Epoch 30, Loss 0.0682\n",
      "Training Accuracy: 0.9356, Testing Accuracy: 0.9476\n",
      "\n"
     ]
    },
    {
     "name": "stdout",
     "output_type": "stream",
     "text": [
      "Epoch 40, Loss 0.0617\n",
      "Training Accuracy: 0.9404, Testing Accuracy: 0.9496\n",
      "\n"
     ]
    },
    {
     "name": "stdout",
     "output_type": "stream",
     "text": [
      "Epoch 50, Loss 0.0573\n",
      "Training Accuracy: 0.9435, Testing Accuracy: 0.9511\n",
      "\n"
     ]
    },
    {
     "name": "stdout",
     "output_type": "stream",
     "text": [
      "Epoch 60, Loss 0.0541\n",
      "Training Accuracy: 0.9458, Testing Accuracy: 0.9541\n",
      "\n"
     ]
    },
    {
     "name": "stdout",
     "output_type": "stream",
     "text": [
      "Epoch 70, Loss 0.0515\n",
      "Training Accuracy: 0.9474, Testing Accuracy: 0.9561\n",
      "\n"
     ]
    },
    {
     "name": "stdout",
     "output_type": "stream",
     "text": [
      "Epoch 80, Loss 0.0495\n",
      "Training Accuracy: 0.9493, Testing Accuracy: 0.9577\n",
      "\n"
     ]
    },
    {
     "name": "stdout",
     "output_type": "stream",
     "text": [
      "Epoch 90, Loss 0.0478\n",
      "Training Accuracy: 0.9507, Testing Accuracy: 0.9587\n",
      "\n"
     ]
    },
    {
     "name": "stdout",
     "output_type": "stream",
     "text": [
      "Epoch 100, Loss 0.0464\n",
      "Training Accuracy: 0.9525, Testing Accuracy: 0.9597\n",
      "\n"
     ]
    },
    {
     "name": "stdout",
     "output_type": "stream",
     "text": [
      "Epoch 110, Loss 0.0452\n",
      "Training Accuracy: 0.9535, Testing Accuracy: 0.9607\n",
      "\n"
     ]
    },
    {
     "name": "stdout",
     "output_type": "stream",
     "text": [
      "Epoch 120, Loss 0.0441\n",
      "Training Accuracy: 0.9547, Testing Accuracy: 0.9627\n",
      "\n"
     ]
    },
    {
     "name": "stdout",
     "output_type": "stream",
     "text": [
      "Epoch 130, Loss 0.0431\n",
      "Training Accuracy: 0.9552, Testing Accuracy: 0.9642\n",
      "\n"
     ]
    },
    {
     "name": "stdout",
     "output_type": "stream",
     "text": [
      "Epoch 140, Loss 0.0423\n",
      "Training Accuracy: 0.9555, Testing Accuracy: 0.9637\n",
      "\n"
     ]
    },
    {
     "name": "stdout",
     "output_type": "stream",
     "text": [
      "Epoch 150, Loss 0.0416\n",
      "Training Accuracy: 0.9564, Testing Accuracy: 0.9637\n",
      "\n"
     ]
    },
    {
     "name": "stdout",
     "output_type": "stream",
     "text": [
      "Epoch 160, Loss 0.0409\n",
      "Training Accuracy: 0.9571, Testing Accuracy: 0.9637\n",
      "\n"
     ]
    },
    {
     "name": "stdout",
     "output_type": "stream",
     "text": [
      "Epoch 170, Loss 0.0403\n",
      "Training Accuracy: 0.9582, Testing Accuracy: 0.9642\n",
      "\n"
     ]
    },
    {
     "name": "stdout",
     "output_type": "stream",
     "text": [
      "Epoch 180, Loss 0.0397\n",
      "Training Accuracy: 0.9585, Testing Accuracy: 0.9642\n",
      "\n"
     ]
    },
    {
     "name": "stdout",
     "output_type": "stream",
     "text": [
      "Epoch 190, Loss 0.0392\n",
      "Training Accuracy: 0.9589, Testing Accuracy: 0.9637\n",
      "\n"
     ]
    },
    {
     "name": "stdout",
     "output_type": "stream",
     "text": [
      "Epoch 200, Loss 0.0387\n",
      "Training Accuracy: 0.9590, Testing Accuracy: 0.9637\n",
      "\n"
     ]
    },
    {
     "name": "stdout",
     "output_type": "stream",
     "text": [
      "Epoch 210, Loss 0.0382\n",
      "Training Accuracy: 0.9594, Testing Accuracy: 0.9642\n",
      "\n"
     ]
    },
    {
     "name": "stdout",
     "output_type": "stream",
     "text": [
      "Epoch 220, Loss 0.0378\n",
      "Training Accuracy: 0.9594, Testing Accuracy: 0.9642\n",
      "\n"
     ]
    },
    {
     "name": "stdout",
     "output_type": "stream",
     "text": [
      "Epoch 230, Loss 0.0374\n",
      "Training Accuracy: 0.9595, Testing Accuracy: 0.9647\n",
      "\n"
     ]
    },
    {
     "name": "stdout",
     "output_type": "stream",
     "text": [
      "Epoch 240, Loss 0.0371\n",
      "Training Accuracy: 0.9597, Testing Accuracy: 0.9642\n",
      "\n"
     ]
    },
    {
     "data": {
      "text/plain": [
       "0.026635523486584697"
      ]
     },
     "execution_count": 23,
     "metadata": {},
     "output_type": "execute_result"
    }
   ],
   "source": [
    "lr_learner.train_loop(dl)"
   ]
  },
  {
   "cell_type": "code",
   "execution_count": 24,
   "id": "ca410940",
   "metadata": {
    "execution": {
     "iopub.execute_input": "2022-09-27T20:15:07.133317Z",
     "iopub.status.busy": "2022-09-27T20:15:07.132566Z",
     "iopub.status.idle": "2022-09-27T20:15:07.399913Z",
     "shell.execute_reply": "2022-09-27T20:15:07.400484Z"
    },
    "papermill": {
     "duration": 0.323167,
     "end_time": "2022-09-27T20:15:07.400644",
     "exception": false,
     "start_time": "2022-09-27T20:15:07.077477",
     "status": "completed"
    },
    "tags": []
   },
   "outputs": [
    {
     "data": {
      "text/plain": [
       "<matplotlib.legend.Legend at 0x7f7c978182b0>"
      ]
     },
     "execution_count": 24,
     "metadata": {},
     "output_type": "execute_result"
    },
    {
     "data": {
      "image/png": "[encoded data removed]",
      "text/plain": [
       "<Figure size 1080x720 with 1 Axes>"
      ]
     },
     "metadata": {
      "needs_background": "light"
     },
     "output_type": "display_data"
    }
   ],
   "source": [
    "#comparing the results of NN and LR\n",
    "plt.figure(figsize=(15,10))\n",
    "\n",
    "# Neural Network plots\n",
    "plt.plot(acc_nn.accuracies, 'r-', label = \"Training Accuracies - NN\")\n",
    "plt.plot(acc_nn.test_accuracies, 'g-', label = \"Testing Accuracies - NN\")\n",
    "\n",
    "# Logistic Regression plots\n",
    "plt.plot(acc_lr.accuracies, 'k-', label = \"Training Accuracies - LR\")\n",
    "plt.plot(acc_lr.test_accuracies, 'b-', label = \"Testing Accuracies - LR\")\n",
    "plt.legend()"
   ]
  },
  {
   "cell_type": "markdown",
   "id": "80dfb35c",
   "metadata": {
    "papermill": {
     "duration": 0.049667,
     "end_time": "2022-09-27T20:15:07.501002",
     "exception": false,
     "start_time": "2022-09-27T20:15:07.451335",
     "status": "completed"
    },
    "tags": []
   },
   "source": [
    "#### Plotting the outputs of this layer of the NN.\n"
   ]
  },
  {
   "cell_type": "code",
   "execution_count": 25,
   "id": "45eb2ff5",
   "metadata": {
    "execution": {
     "iopub.execute_input": "2022-09-27T20:15:07.605992Z",
     "iopub.status.busy": "2022-09-27T20:15:07.605302Z",
     "iopub.status.idle": "2022-09-27T20:15:07.631493Z",
     "shell.execute_reply": "2022-09-27T20:15:07.630885Z"
    },
    "papermill": {
     "duration": 0.079664,
     "end_time": "2022-09-27T20:15:07.631625",
     "exception": false,
     "start_time": "2022-09-27T20:15:07.551961",
     "status": "completed"
    },
    "tags": []
   },
   "outputs": [],
   "source": [
    "new_model = Model(layers[:-2])\n",
    "testing_plot = new_model(testing_data_x)"
   ]
  },
  {
   "cell_type": "code",
   "execution_count": 26,
   "id": "4c0a5485",
   "metadata": {
    "execution": {
     "iopub.execute_input": "2022-09-27T20:15:07.749018Z",
     "iopub.status.busy": "2022-09-27T20:15:07.736764Z",
     "iopub.status.idle": "2022-09-27T20:15:07.986862Z",
     "shell.execute_reply": "2022-09-27T20:15:07.987402Z"
    },
    "papermill": {
     "duration": 0.306511,
     "end_time": "2022-09-27T20:15:07.987561",
     "exception": false,
     "start_time": "2022-09-27T20:15:07.681050",
     "status": "completed"
    },
    "tags": []
   },
   "outputs": [
    {
     "data": {
      "text/plain": [
       "Text(0.5, 1.0, 'Outputs')"
      ]
     },
     "execution_count": 26,
     "metadata": {},
     "output_type": "execute_result"
    },
    {
     "data": {
      "image/png": "[encoded data removed]",
      "text/plain": [
       "<Figure size 576x504 with 1 Axes>"
      ]
     },
     "metadata": {
      "needs_background": "light"
     },
     "output_type": "display_data"
    }
   ],
   "source": [
    "# Plotting the scatter plot of points and color coding by class\n",
    "plt.figure(figsize=(8,7))\n",
    "plt.scatter(testing_plot[:,0], testing_plot[:,1], alpha = 0.1, c = y_test.ravel());\n",
    "plt.title('Outputs')"
   ]
  },
  {
   "cell_type": "markdown",
   "id": "a74fcf8f",
   "metadata": {
    "papermill": {
     "duration": 0.059776,
     "end_time": "2022-09-27T20:15:08.100184",
     "exception": false,
     "start_time": "2022-09-27T20:15:08.040408",
     "status": "completed"
    },
    "tags": []
   },
   "source": [
    "Probability contours"
   ]
  },
  {
   "cell_type": "code",
   "execution_count": 27,
   "id": "d0afc8e3",
   "metadata": {
    "execution": {
     "iopub.execute_input": "2022-09-27T20:15:08.210216Z",
     "iopub.status.busy": "2022-09-27T20:15:08.208191Z",
     "iopub.status.idle": "2022-09-27T20:15:08.222260Z",
     "shell.execute_reply": "2022-09-27T20:15:08.221689Z"
    },
    "papermill": {
     "duration": 0.071101,
     "end_time": "2022-09-27T20:15:08.222383",
     "exception": false,
     "start_time": "2022-09-27T20:15:08.151282",
     "status": "completed"
    },
    "tags": []
   },
   "outputs": [],
   "source": [
    "model_prob = Model(layers[-2:]) "
   ]
  },
  {
   "cell_type": "code",
   "execution_count": 28,
   "id": "9b96e238",
   "metadata": {
    "execution": {
     "iopub.execute_input": "2022-09-27T20:15:08.364546Z",
     "iopub.status.busy": "2022-09-27T20:15:08.363780Z",
     "iopub.status.idle": "2022-09-27T20:15:08.380326Z",
     "shell.execute_reply": "2022-09-27T20:15:08.380846Z"
    },
    "papermill": {
     "duration": 0.074768,
     "end_time": "2022-09-27T20:15:08.381007",
     "exception": false,
     "start_time": "2022-09-27T20:15:08.306239",
     "status": "completed"
    },
    "tags": []
   },
   "outputs": [],
   "source": [
    "#creating the x and y ranges according to the above generated plot.\n",
    "x_range = np.linspace(-4, 1, 100) \n",
    "y_range = np.linspace(-6, 6, 100) \n",
    "x_grid, y_grid = np.meshgrid(x_range, y_range) # x_grid and y_grig are of size 100 X 100\n",
    "\n",
    "# converting x_grid and y_grid to continuous arrays\n",
    "x_gridflat = np.ravel(x_grid)\n",
    "y_gridflat = np.ravel(y_grid)\n",
    "\n",
    "# The last layer of the current model takes two columns as input. Hence transpose of np.vstack() is required.\n",
    "X = np.vstack((x_gridflat, y_gridflat)).T\n",
    "\n",
    "prob_contour = model_prob(X).reshape(100,100) "
   ]
  },
  {
   "cell_type": "code",
   "execution_count": 29,
   "id": "da72499a",
   "metadata": {
    "execution": {
     "iopub.execute_input": "2022-09-27T20:15:08.486771Z",
     "iopub.status.busy": "2022-09-27T20:15:08.486081Z",
     "iopub.status.idle": "2022-09-27T20:15:08.787468Z",
     "shell.execute_reply": "2022-09-27T20:15:08.788002Z"
    },
    "papermill": {
     "duration": 0.356933,
     "end_time": "2022-09-27T20:15:08.788158",
     "exception": false,
     "start_time": "2022-09-27T20:15:08.431225",
     "status": "completed"
    },
    "tags": []
   },
   "outputs": [
    {
     "data": {
      "image/png": "[encoded data removed]",
      "text/plain": [
       "<Figure size 720x648 with 1 Axes>"
      ]
     },
     "metadata": {
      "needs_background": "light"
     },
     "output_type": "display_data"
    }
   ],
   "source": [
    "plt.figure(figsize=(10,9))\n",
    "plt.scatter(testing_plot[:,0], testing_plot[:,1], alpha = 0.1, c = y_test.ravel())\n",
    "contours = plt.contour(x_grid,y_grid,prob_contour)\n",
    "plt.title('Probability Contours')\n",
    "plt.clabel(contours, inline = True );"
   ]
  },
  {
   "cell_type": "code",
   "execution_count": null,
   "id": "e81b4ac7",
   "metadata": {
    "papermill": {
     "duration": 0.05359,
     "end_time": "2022-09-27T20:15:08.895968",
     "exception": false,
     "start_time": "2022-09-27T20:15:08.842378",
     "status": "completed"
    },
    "tags": []
   },
   "outputs": [],
   "source": []
  }
 ],
 "metadata": {
  "kernelspec": {
   "display_name": "Python 3",
   "language": "python",
   "name": "python3"
  },
  "language_info": {
   "codemirror_mode": {
    "name": "ipython",
    "version": 3
   },
   "file_extension": ".py",
   "mimetype": "text/x-python",
   "name": "python",
   "nbconvert_exporter": "python",
   "pygments_lexer": "ipython3",
   "version": "3.6.15"
  },
  "papermill": {
   "default_parameters": {},
   "duration": 116.238392,
   "end_time": "2022-09-27T20:15:09.370741",
   "environment_variables": {},
   "exception": null,
   "input_path": "2020-08-11-part2.ipynb",
   "output_path": "2020-08-11-part2.ipynb",
   "parameters": {},
   "start_time": "2022-09-27T20:13:13.132349",
   "version": "2.3.3"
  }
 },
 "nbformat": 4,
 "nbformat_minor": 5
}