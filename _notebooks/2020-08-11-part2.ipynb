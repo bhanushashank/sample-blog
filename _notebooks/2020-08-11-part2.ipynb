{
 "cells": [
  {
   "cell_type": "markdown",
   "id": "98380cd3",
   "metadata": {
    "papermill": {
     "duration": 0.031326,
     "end_time": "2021-09-23T00:21:22.302218",
     "exception": false,
     "start_time": "2021-09-23T00:21:22.270892",
     "status": "completed"
    },
    "tags": []
   },
   "source": [
    "# Distinguish Your Own Digits (DYOD)"
   ]
  },
  {
   "cell_type": "markdown",
   "id": "ef31240d",
   "metadata": {
    "papermill": {
     "duration": 0.026973,
     "end_time": "2021-09-23T00:21:22.357138",
     "exception": false,
     "start_time": "2021-09-23T00:21:22.330165",
     "status": "completed"
    },
    "tags": []
   },
   "source": [
    "You are going to write a classifier that distinguishes between the number 3 and number 8."
   ]
  },
  {
   "cell_type": "code",
   "execution_count": 1,
   "id": "b15c8646",
   "metadata": {
    "execution": {
     "iopub.execute_input": "2021-09-23T00:21:22.422731Z",
     "iopub.status.busy": "2021-09-23T00:21:22.422127Z",
     "iopub.status.idle": "2021-09-23T00:21:22.438613Z",
     "shell.execute_reply": "2021-09-23T00:21:22.438080Z"
    },
    "papermill": {
     "duration": 0.055415,
     "end_time": "2021-09-23T00:21:22.438740",
     "exception": false,
     "start_time": "2021-09-23T00:21:22.383325",
     "status": "completed"
    },
    "tags": []
   },
   "outputs": [],
   "source": [
    "%load_ext autoreload\n",
    "%autoreload 2"
   ]
  },
  {
   "cell_type": "code",
   "execution_count": 2,
   "id": "22ef38dc",
   "metadata": {
    "execution": {
     "iopub.execute_input": "2021-09-23T00:21:22.497224Z",
     "iopub.status.busy": "2021-09-23T00:21:22.496617Z",
     "iopub.status.idle": "2021-09-23T00:21:23.072947Z",
     "shell.execute_reply": "2021-09-23T00:21:23.072294Z"
    },
    "papermill": {
     "duration": 0.607001,
     "end_time": "2021-09-23T00:21:23.073104",
     "exception": false,
     "start_time": "2021-09-23T00:21:22.466103",
     "status": "completed"
    },
    "tags": []
   },
   "outputs": [],
   "source": [
    "%matplotlib inline\n",
    "import numpy as np\n",
    "import matplotlib.pyplot as plt\n",
    "import pandas as pd"
   ]
  },
  {
   "cell_type": "markdown",
   "id": "ba036198",
   "metadata": {
    "papermill": {
     "duration": 0.027635,
     "end_time": "2021-09-23T00:21:23.127396",
     "exception": false,
     "start_time": "2021-09-23T00:21:23.099761",
     "status": "completed"
    },
    "tags": []
   },
   "source": [
    "From the command line run `pip install mnist`. This is a library that will help you bring down the mnist dataset. If you run this from a notebook, you need to put  `!pip install mnist` in a cell by itself."
   ]
  },
  {
   "cell_type": "code",
   "execution_count": 3,
   "id": "bb6ad8a1",
   "metadata": {
    "execution": {
     "iopub.execute_input": "2021-09-23T00:21:23.186841Z",
     "iopub.status.busy": "2021-09-23T00:21:23.186245Z",
     "iopub.status.idle": "2021-09-23T00:21:25.854912Z",
     "shell.execute_reply": "2021-09-23T00:21:25.854268Z"
    },
    "papermill": {
     "duration": 2.700674,
     "end_time": "2021-09-23T00:21:25.855060",
     "exception": false,
     "start_time": "2021-09-23T00:21:23.154386",
     "status": "completed"
    },
    "tags": []
   },
   "outputs": [
    {
     "name": "stdout",
     "output_type": "stream",
     "text": [
      "Collecting mnist\r\n"
     ]
    },
    {
     "name": "stdout",
     "output_type": "stream",
     "text": [
      "  Downloading mnist-0.2.2-py2.py3-none-any.whl (3.5 kB)\r\n",
      "Requirement already satisfied: numpy in /opt/hostedtoolcache/Python/3.6.15/x64/lib/python3.6/site-packages (from mnist) (1.19.5)\r\n"
     ]
    },
    {
     "name": "stdout",
     "output_type": "stream",
     "text": [
      "Installing collected packages: mnist\r\n",
      "Successfully installed mnist-0.2.2\r\n"
     ]
    }
   ],
   "source": [
    "!pip install mnist"
   ]
  },
  {
   "cell_type": "markdown",
   "id": "69df9c9a",
   "metadata": {
    "papermill": {
     "duration": 0.030327,
     "end_time": "2021-09-23T00:21:25.913826",
     "exception": false,
     "start_time": "2021-09-23T00:21:25.883499",
     "status": "completed"
    },
    "tags": []
   },
   "source": [
    "## Preparing the Data"
   ]
  },
  {
   "cell_type": "code",
   "execution_count": 4,
   "id": "7f69d806",
   "metadata": {
    "execution": {
     "iopub.execute_input": "2021-09-23T00:21:25.982240Z",
     "iopub.status.busy": "2021-09-23T00:21:25.981376Z",
     "iopub.status.idle": "2021-09-23T00:21:25.994095Z",
     "shell.execute_reply": "2021-09-23T00:21:25.993653Z"
    },
    "papermill": {
     "duration": 0.052573,
     "end_time": "2021-09-23T00:21:25.994211",
     "exception": false,
     "start_time": "2021-09-23T00:21:25.941638",
     "status": "completed"
    },
    "tags": []
   },
   "outputs": [],
   "source": [
    "import mnist"
   ]
  },
  {
   "cell_type": "code",
   "execution_count": 5,
   "id": "a411e44f",
   "metadata": {
    "execution": {
     "iopub.execute_input": "2021-09-23T00:21:26.056175Z",
     "iopub.status.busy": "2021-09-23T00:21:26.054388Z",
     "iopub.status.idle": "2021-09-23T00:21:26.707160Z",
     "shell.execute_reply": "2021-09-23T00:21:26.706036Z"
    },
    "papermill": {
     "duration": 0.684789,
     "end_time": "2021-09-23T00:21:26.707299",
     "exception": false,
     "start_time": "2021-09-23T00:21:26.022510",
     "status": "completed"
    },
    "tags": []
   },
   "outputs": [],
   "source": [
    "train_images = mnist.train_images()\n",
    "train_labels = mnist.train_labels()"
   ]
  },
  {
   "cell_type": "code",
   "execution_count": 6,
   "id": "dceab3a5",
   "metadata": {
    "execution": {
     "iopub.execute_input": "2021-09-23T00:21:26.769841Z",
     "iopub.status.busy": "2021-09-23T00:21:26.765510Z",
     "iopub.status.idle": "2021-09-23T00:21:26.781020Z",
     "shell.execute_reply": "2021-09-23T00:21:26.780455Z"
    },
    "papermill": {
     "duration": 0.046136,
     "end_time": "2021-09-23T00:21:26.781145",
     "exception": false,
     "start_time": "2021-09-23T00:21:26.735009",
     "status": "completed"
    },
    "tags": []
   },
   "outputs": [
    {
     "data": {
      "text/plain": [
       "((60000, 28, 28), (60000,))"
      ]
     },
     "execution_count": 6,
     "metadata": {},
     "output_type": "execute_result"
    }
   ],
   "source": [
    "train_images.shape, train_labels.shape"
   ]
  },
  {
   "cell_type": "code",
   "execution_count": 7,
   "id": "f50dc2bb",
   "metadata": {
    "execution": {
     "iopub.execute_input": "2021-09-23T00:21:26.840161Z",
     "iopub.status.busy": "2021-09-23T00:21:26.839586Z",
     "iopub.status.idle": "2021-09-23T00:21:27.072451Z",
     "shell.execute_reply": "2021-09-23T00:21:27.071789Z"
    },
    "papermill": {
     "duration": 0.262951,
     "end_time": "2021-09-23T00:21:27.072597",
     "exception": false,
     "start_time": "2021-09-23T00:21:26.809646",
     "status": "completed"
    },
    "tags": []
   },
   "outputs": [],
   "source": [
    "test_images = mnist.test_images()\n",
    "test_labels = mnist.test_labels()"
   ]
  },
  {
   "cell_type": "code",
   "execution_count": 8,
   "id": "fc38cf1b",
   "metadata": {
    "execution": {
     "iopub.execute_input": "2021-09-23T00:21:27.142950Z",
     "iopub.status.busy": "2021-09-23T00:21:27.142368Z",
     "iopub.status.idle": "2021-09-23T00:21:27.156379Z",
     "shell.execute_reply": "2021-09-23T00:21:27.156966Z"
    },
    "papermill": {
     "duration": 0.050525,
     "end_time": "2021-09-23T00:21:27.157102",
     "exception": false,
     "start_time": "2021-09-23T00:21:27.106577",
     "status": "completed"
    },
    "tags": []
   },
   "outputs": [
    {
     "data": {
      "text/plain": [
       "((10000, 28, 28), (10000,))"
      ]
     },
     "execution_count": 8,
     "metadata": {},
     "output_type": "execute_result"
    }
   ],
   "source": [
    "test_images.shape, test_labels.shape"
   ]
  },
  {
   "cell_type": "code",
   "execution_count": 9,
   "id": "f9ed8fe0",
   "metadata": {
    "execution": {
     "iopub.execute_input": "2021-09-23T00:21:27.217692Z",
     "iopub.status.busy": "2021-09-23T00:21:27.217152Z",
     "iopub.status.idle": "2021-09-23T00:21:27.376465Z",
     "shell.execute_reply": "2021-09-23T00:21:27.377070Z"
    },
    "papermill": {
     "duration": 0.191714,
     "end_time": "2021-09-23T00:21:27.377257",
     "exception": false,
     "start_time": "2021-09-23T00:21:27.185543",
     "status": "completed"
    },
    "tags": []
   },
   "outputs": [
    {
     "name": "stdout",
     "output_type": "stream",
     "text": [
      "2\n"
     ]
    },
    {
     "data": {
      "text/plain": [
       "<matplotlib.image.AxesImage at 0x7f2eea29f8d0>"
      ]
     },
     "execution_count": 9,
     "metadata": {},
     "output_type": "execute_result"
    },
    {
     "data": {
      "image/png": "[encoded data removed]",
      "text/plain": [
       "<Figure size 432x288 with 1 Axes>"
      ]
     },
     "metadata": {
      "needs_background": "light"
     },
     "output_type": "display_data"
    }
   ],
   "source": [
    "image_index = 7776 # You may select anything up to 60,000\n",
    "print(train_labels[image_index]) \n",
    "plt.imshow(train_images[image_index], cmap='Greys')"
   ]
  },
  {
   "cell_type": "markdown",
   "id": "a8d2388d",
   "metadata": {
    "papermill": {
     "duration": 0.029503,
     "end_time": "2021-09-23T00:21:27.439891",
     "exception": false,
     "start_time": "2021-09-23T00:21:27.410388",
     "status": "completed"
    },
    "tags": []
   },
   "source": [
    "## Filter data to get 3 and 8 out"
   ]
  },
  {
   "cell_type": "code",
   "execution_count": 10,
   "id": "776f7fc7",
   "metadata": {
    "execution": {
     "iopub.execute_input": "2021-09-23T00:21:27.502663Z",
     "iopub.status.busy": "2021-09-23T00:21:27.502112Z",
     "iopub.status.idle": "2021-09-23T00:21:27.523921Z",
     "shell.execute_reply": "2021-09-23T00:21:27.523440Z"
    },
    "papermill": {
     "duration": 0.05469,
     "end_time": "2021-09-23T00:21:27.524044",
     "exception": false,
     "start_time": "2021-09-23T00:21:27.469354",
     "status": "completed"
    },
    "tags": []
   },
   "outputs": [],
   "source": [
    "train_filter = np.where((train_labels == 3 ) | (train_labels == 8))\n",
    "test_filter = np.where((test_labels == 3) | (test_labels == 8))\n",
    "X_train, y_train = train_images[train_filter], train_labels[train_filter]\n",
    "X_test, y_test = test_images[test_filter], test_labels[test_filter]"
   ]
  },
  {
   "cell_type": "markdown",
   "id": "948f0b7e",
   "metadata": {
    "papermill": {
     "duration": 0.030576,
     "end_time": "2021-09-23T00:21:27.584659",
     "exception": false,
     "start_time": "2021-09-23T00:21:27.554083",
     "status": "completed"
    },
    "tags": []
   },
   "source": [
    "We normalize the pizel values in the 0 to 1 range"
   ]
  },
  {
   "cell_type": "code",
   "execution_count": 11,
   "id": "ee4c2166",
   "metadata": {
    "execution": {
     "iopub.execute_input": "2021-09-23T00:21:27.662816Z",
     "iopub.status.busy": "2021-09-23T00:21:27.662250Z",
     "iopub.status.idle": "2021-09-23T00:21:27.720197Z",
     "shell.execute_reply": "2021-09-23T00:21:27.719595Z"
    },
    "papermill": {
     "duration": 0.099855,
     "end_time": "2021-09-23T00:21:27.720350",
     "exception": false,
     "start_time": "2021-09-23T00:21:27.620495",
     "status": "completed"
    },
    "tags": []
   },
   "outputs": [],
   "source": [
    "X_train = X_train/255.\n",
    "X_test = X_test/255."
   ]
  },
  {
   "cell_type": "markdown",
   "id": "ddcf4fab",
   "metadata": {
    "papermill": {
     "duration": 0.029369,
     "end_time": "2021-09-23T00:21:27.780442",
     "exception": false,
     "start_time": "2021-09-23T00:21:27.751073",
     "status": "completed"
    },
    "tags": []
   },
   "source": [
    "And setup the labels as 1 (when the digit is 3) and 0 (when the digit is 8)"
   ]
  },
  {
   "cell_type": "code",
   "execution_count": 12,
   "id": "7dc908f2",
   "metadata": {
    "execution": {
     "iopub.execute_input": "2021-09-23T00:21:27.845234Z",
     "iopub.status.busy": "2021-09-23T00:21:27.844627Z",
     "iopub.status.idle": "2021-09-23T00:21:27.857548Z",
     "shell.execute_reply": "2021-09-23T00:21:27.857070Z"
    },
    "papermill": {
     "duration": 0.047454,
     "end_time": "2021-09-23T00:21:27.857669",
     "exception": false,
     "start_time": "2021-09-23T00:21:27.810215",
     "status": "completed"
    },
    "tags": []
   },
   "outputs": [],
   "source": [
    "y_train = 1*(y_train==3)\n",
    "y_test = 1*(y_test==3)"
   ]
  },
  {
   "cell_type": "code",
   "execution_count": 13,
   "id": "01e4e969",
   "metadata": {
    "execution": {
     "iopub.execute_input": "2021-09-23T00:21:27.926013Z",
     "iopub.status.busy": "2021-09-23T00:21:27.925425Z",
     "iopub.status.idle": "2021-09-23T00:21:27.941128Z",
     "shell.execute_reply": "2021-09-23T00:21:27.941636Z"
    },
    "papermill": {
     "duration": 0.054258,
     "end_time": "2021-09-23T00:21:27.941773",
     "exception": false,
     "start_time": "2021-09-23T00:21:27.887515",
     "status": "completed"
    },
    "tags": []
   },
   "outputs": [
    {
     "data": {
      "text/plain": [
       "((11982, 28, 28), (1984, 28, 28))"
      ]
     },
     "execution_count": 13,
     "metadata": {},
     "output_type": "execute_result"
    }
   ],
   "source": [
    "X_train.shape, X_test.shape"
   ]
  },
  {
   "cell_type": "markdown",
   "id": "5ccf3f85",
   "metadata": {
    "papermill": {
     "duration": 0.031161,
     "end_time": "2021-09-23T00:21:28.002936",
     "exception": false,
     "start_time": "2021-09-23T00:21:27.971775",
     "status": "completed"
    },
    "tags": []
   },
   "source": [
    "We reshape the data to flatten the image pixels into a set of features or co-variates:"
   ]
  },
  {
   "cell_type": "code",
   "execution_count": 14,
   "id": "5286a4a3",
   "metadata": {
    "execution": {
     "iopub.execute_input": "2021-09-23T00:21:28.068586Z",
     "iopub.status.busy": "2021-09-23T00:21:28.068002Z",
     "iopub.status.idle": "2021-09-23T00:21:28.082958Z",
     "shell.execute_reply": "2021-09-23T00:21:28.082476Z"
    },
    "papermill": {
     "duration": 0.048197,
     "end_time": "2021-09-23T00:21:28.083086",
     "exception": false,
     "start_time": "2021-09-23T00:21:28.034889",
     "status": "completed"
    },
    "tags": []
   },
   "outputs": [
    {
     "data": {
      "text/plain": [
       "((11982, 784), (1984, 784))"
      ]
     },
     "execution_count": 14,
     "metadata": {},
     "output_type": "execute_result"
    }
   ],
   "source": [
    "X_train = X_train.reshape(X_train.shape[0], -1)\n",
    "X_test = X_test.reshape(X_test.shape[0], -1)\n",
    "X_train.shape, X_test.shape"
   ]
  },
  {
   "cell_type": "code",
   "execution_count": 15,
   "id": "73c5f88a",
   "metadata": {
    "execution": {
     "iopub.execute_input": "2021-09-23T00:21:28.149319Z",
     "iopub.status.busy": "2021-09-23T00:21:28.148688Z",
     "iopub.status.idle": "2021-09-23T00:21:28.169087Z",
     "shell.execute_reply": "2021-09-23T00:21:28.168577Z"
    },
    "papermill": {
     "duration": 0.055661,
     "end_time": "2021-09-23T00:21:28.169212",
     "exception": false,
     "start_time": "2021-09-23T00:21:28.113551",
     "status": "completed"
    },
    "tags": []
   },
   "outputs": [],
   "source": [
    "#Impoting functions from 'Kudzu'\n",
    "from kudzu.model import Model\n",
    "from kudzu.train import Learner\n",
    "from kudzu.optim import GD\n",
    "from kudzu.data import Data, Sampler,Dataloader\n",
    "\n",
    "from kudzu.callbacks import AccCallback\n",
    "from kudzu.callbacks import ClfCallback\n",
    "\n",
    "from kudzu.loss import MSE\n",
    "\n",
    "from kudzu.layer import Sigmoid,Relu\n",
    "from kudzu.layer import Affine"
   ]
  },
  {
   "cell_type": "markdown",
   "id": "bc01172a",
   "metadata": {
    "papermill": {
     "duration": 0.030667,
     "end_time": "2021-09-23T00:21:28.231941",
     "exception": false,
     "start_time": "2021-09-23T00:21:28.201274",
     "status": "completed"
    },
    "tags": []
   },
   "source": [
    "### Let us create a `Config` class, to store important parameters. \n",
    "This class essentially plays the role of a dictionary."
   ]
  },
  {
   "cell_type": "code",
   "execution_count": 16,
   "id": "978281aa",
   "metadata": {
    "execution": {
     "iopub.execute_input": "2021-09-23T00:21:28.297017Z",
     "iopub.status.busy": "2021-09-23T00:21:28.296241Z",
     "iopub.status.idle": "2021-09-23T00:21:28.310219Z",
     "shell.execute_reply": "2021-09-23T00:21:28.309740Z"
    },
    "papermill": {
     "duration": 0.048131,
     "end_time": "2021-09-23T00:21:28.310346",
     "exception": false,
     "start_time": "2021-09-23T00:21:28.262215",
     "status": "completed"
    },
    "tags": []
   },
   "outputs": [],
   "source": [
    "class Config:\n",
    "    pass\n",
    "config = Config()\n",
    "config.lr = 0.001\n",
    "config.num_epochs = 250\n",
    "config.bs = 50"
   ]
  },
  {
   "cell_type": "markdown",
   "id": "1385fa59",
   "metadata": {
    "papermill": {
     "duration": 0.030087,
     "end_time": "2021-09-23T00:21:28.372174",
     "exception": false,
     "start_time": "2021-09-23T00:21:28.342087",
     "status": "completed"
    },
    "tags": []
   },
   "source": [
    "### Running Models with the Training data\n",
    "Details about the network layers:\n",
    "- A first affine layer has 784 inputs and does 100 affine transforms. These are followed by a Relu\n",
    "- A second affine layer has 100 inputs from the 100 activations of the past layer, and does 100 affine transforms. These are followed by a Relu\n",
    "- A third affine layer has 100 activations and does 2 affine transformations to create an embedding for visualization. There is no non-linearity here.\n",
    "- A final \"logistic regression\" which has an affine transform from 2 inputs to 1 output, which is squeezed through a sigmoid.\n"
   ]
  },
  {
   "cell_type": "code",
   "execution_count": 17,
   "id": "2b9c66db",
   "metadata": {
    "execution": {
     "iopub.execute_input": "2021-09-23T00:21:28.439482Z",
     "iopub.status.busy": "2021-09-23T00:21:28.438855Z",
     "iopub.status.idle": "2021-09-23T00:21:28.452058Z",
     "shell.execute_reply": "2021-09-23T00:21:28.452638Z"
    },
    "papermill": {
     "duration": 0.04988,
     "end_time": "2021-09-23T00:21:28.452802",
     "exception": false,
     "start_time": "2021-09-23T00:21:28.402922",
     "status": "completed"
    },
    "tags": []
   },
   "outputs": [],
   "source": [
    "data = Data(X_train, y_train.reshape(-1,1))\n",
    "sampler = Sampler(data, config.bs, shuffle=True)\n",
    "\n",
    "dl = Dataloader(data, sampler)\n",
    "\n",
    "opt = GD(config.lr)\n",
    "loss = MSE()"
   ]
  },
  {
   "cell_type": "code",
   "execution_count": 18,
   "id": "b275e4c2",
   "metadata": {
    "execution": {
     "iopub.execute_input": "2021-09-23T00:21:28.522859Z",
     "iopub.status.busy": "2021-09-23T00:21:28.522277Z",
     "iopub.status.idle": "2021-09-23T00:21:28.534050Z",
     "shell.execute_reply": "2021-09-23T00:21:28.534528Z"
    },
    "papermill": {
     "duration": 0.050509,
     "end_time": "2021-09-23T00:21:28.534663",
     "exception": false,
     "start_time": "2021-09-23T00:21:28.484154",
     "status": "completed"
    },
    "tags": []
   },
   "outputs": [],
   "source": [
    "training_data_x = X_train\n",
    "testing_data_x = X_test\n",
    "training_data_y = y_train.reshape(-1,1)\n",
    "testing_data_y = y_test.reshape(-1,1)"
   ]
  },
  {
   "cell_type": "code",
   "execution_count": 19,
   "id": "76951160",
   "metadata": {
    "execution": {
     "iopub.execute_input": "2021-09-23T00:21:28.600017Z",
     "iopub.status.busy": "2021-09-23T00:21:28.599434Z",
     "iopub.status.idle": "2021-09-23T00:21:28.618413Z",
     "shell.execute_reply": "2021-09-23T00:21:28.617955Z"
    },
    "papermill": {
     "duration": 0.052598,
     "end_time": "2021-09-23T00:21:28.618521",
     "exception": false,
     "start_time": "2021-09-23T00:21:28.565923",
     "status": "completed"
    },
    "tags": []
   },
   "outputs": [
    {
     "name": "stdout",
     "output_type": "stream",
     "text": [
      "xavier\n",
      "xavier\n",
      "xavier\n",
      "xavier\n",
      "xavier\n"
     ]
    }
   ],
   "source": [
    "layers = [Affine(\"first\", 784, 100), Relu(\"first\"), Affine(\"second\", 100, 100), Relu(\"second\"), Affine(\"third\", 100, 2), Affine(\"last\", 2, 1), Sigmoid(\"last\")]\n",
    "model_nn = Model(layers)\n",
    "model_lr = Model([Affine(\"logits\", 784, 1), Sigmoid(\"sigmoid\")])"
   ]
  },
  {
   "cell_type": "code",
   "execution_count": 20,
   "id": "6eede77a",
   "metadata": {
    "execution": {
     "iopub.execute_input": "2021-09-23T00:21:28.685343Z",
     "iopub.status.busy": "2021-09-23T00:21:28.684754Z",
     "iopub.status.idle": "2021-09-23T00:21:28.697392Z",
     "shell.execute_reply": "2021-09-23T00:21:28.696897Z"
    },
    "papermill": {
     "duration": 0.047912,
     "end_time": "2021-09-23T00:21:28.697508",
     "exception": false,
     "start_time": "2021-09-23T00:21:28.649596",
     "status": "completed"
    },
    "tags": []
   },
   "outputs": [],
   "source": [
    "nn_learner = Learner(loss, model_nn, opt, config.num_epochs)\n",
    "acc_nn = ClfCallback(nn_learner, config.bs, training_data_x , testing_data_x, training_data_y, testing_data_y)\n",
    "nn_learner.set_callbacks([acc_nn])"
   ]
  },
  {
   "cell_type": "code",
   "execution_count": 21,
   "id": "877b6cc7",
   "metadata": {
    "execution": {
     "iopub.execute_input": "2021-09-23T00:21:28.766451Z",
     "iopub.status.busy": "2021-09-23T00:21:28.765871Z",
     "iopub.status.idle": "2021-09-23T00:21:28.777467Z",
     "shell.execute_reply": "2021-09-23T00:21:28.776994Z"
    },
    "papermill": {
     "duration": 0.048176,
     "end_time": "2021-09-23T00:21:28.777586",
     "exception": false,
     "start_time": "2021-09-23T00:21:28.729410",
     "status": "completed"
    },
    "tags": []
   },
   "outputs": [],
   "source": [
    "lr_learner = Learner(loss, model_lr, opt, config.num_epochs)\n",
    "acc_lr = ClfCallback(lr_learner, config.bs, training_data_x , testing_data_x, training_data_y, testing_data_y)\n",
    "lr_learner.set_callbacks([acc_lr])"
   ]
  },
  {
   "cell_type": "code",
   "execution_count": 22,
   "id": "d9b133c3",
   "metadata": {
    "execution": {
     "iopub.execute_input": "2021-09-23T00:21:28.847130Z",
     "iopub.status.busy": "2021-09-23T00:21:28.845083Z",
     "iopub.status.idle": "2021-09-23T00:22:57.152984Z",
     "shell.execute_reply": "2021-09-23T00:22:57.153824Z"
    },
    "papermill": {
     "duration": 88.345446,
     "end_time": "2021-09-23T00:22:57.153980",
     "exception": false,
     "start_time": "2021-09-23T00:21:28.808534",
     "status": "completed"
    },
    "tags": []
   },
   "outputs": [
    {
     "name": "stdout",
     "output_type": "stream",
     "text": [
      "Epoch 0, Loss 0.2551\n",
      "Training Accuracy: 0.5770, Testing Accuracy: 0.5761\n",
      "\n"
     ]
    },
    {
     "name": "stdout",
     "output_type": "stream",
     "text": [
      "Epoch 10, Loss 0.0997\n",
      "Training Accuracy: 0.9136, Testing Accuracy: 0.9204\n",
      "\n"
     ]
    },
    {
     "name": "stdout",
     "output_type": "stream",
     "text": [
      "Epoch 20, Loss 0.0587\n",
      "Training Accuracy: 0.9396, Testing Accuracy: 0.9456\n",
      "\n"
     ]
    },
    {
     "name": "stdout",
     "output_type": "stream",
     "text": [
      "Epoch 30, Loss 0.0457\n",
      "Training Accuracy: 0.9504, Testing Accuracy: 0.9572\n",
      "\n"
     ]
    },
    {
     "name": "stdout",
     "output_type": "stream",
     "text": [
      "Epoch 40, Loss 0.0395\n",
      "Training Accuracy: 0.9554, Testing Accuracy: 0.9607\n",
      "\n"
     ]
    },
    {
     "name": "stdout",
     "output_type": "stream",
     "text": [
      "Epoch 50, Loss 0.0358\n",
      "Training Accuracy: 0.9586, Testing Accuracy: 0.9667\n",
      "\n"
     ]
    },
    {
     "name": "stdout",
     "output_type": "stream",
     "text": [
      "Epoch 60, Loss 0.0332\n",
      "Training Accuracy: 0.9624, Testing Accuracy: 0.9688\n",
      "\n"
     ]
    },
    {
     "name": "stdout",
     "output_type": "stream",
     "text": [
      "Epoch 70, Loss 0.0313\n",
      "Training Accuracy: 0.9642, Testing Accuracy: 0.9698\n",
      "\n"
     ]
    },
    {
     "name": "stdout",
     "output_type": "stream",
     "text": [
      "Epoch 80, Loss 0.0299\n",
      "Training Accuracy: 0.9659, Testing Accuracy: 0.9693\n",
      "\n"
     ]
    },
    {
     "name": "stdout",
     "output_type": "stream",
     "text": [
      "Epoch 90, Loss 0.0286\n",
      "Training Accuracy: 0.9671, Testing Accuracy: 0.9693\n",
      "\n"
     ]
    },
    {
     "name": "stdout",
     "output_type": "stream",
     "text": [
      "Epoch 100, Loss 0.0276\n",
      "Training Accuracy: 0.9685, Testing Accuracy: 0.9703\n",
      "\n"
     ]
    },
    {
     "name": "stdout",
     "output_type": "stream",
     "text": [
      "Epoch 110, Loss 0.0267\n",
      "Training Accuracy: 0.9690, Testing Accuracy: 0.9708\n",
      "\n"
     ]
    },
    {
     "name": "stdout",
     "output_type": "stream",
     "text": [
      "Epoch 120, Loss 0.0259\n",
      "Training Accuracy: 0.9700, Testing Accuracy: 0.9698\n",
      "\n"
     ]
    },
    {
     "name": "stdout",
     "output_type": "stream",
     "text": [
      "Epoch 130, Loss 0.0252\n",
      "Training Accuracy: 0.9709, Testing Accuracy: 0.9698\n",
      "\n"
     ]
    },
    {
     "name": "stdout",
     "output_type": "stream",
     "text": [
      "Epoch 140, Loss 0.0246\n",
      "Training Accuracy: 0.9717, Testing Accuracy: 0.9703\n",
      "\n"
     ]
    },
    {
     "name": "stdout",
     "output_type": "stream",
     "text": [
      "Epoch 150, Loss 0.024\n",
      "Training Accuracy: 0.9724, Testing Accuracy: 0.9703\n",
      "\n"
     ]
    },
    {
     "name": "stdout",
     "output_type": "stream",
     "text": [
      "Epoch 160, Loss 0.0235\n",
      "Training Accuracy: 0.9730, Testing Accuracy: 0.9718\n",
      "\n"
     ]
    },
    {
     "name": "stdout",
     "output_type": "stream",
     "text": [
      "Epoch 170, Loss 0.023\n",
      "Training Accuracy: 0.9735, Testing Accuracy: 0.9723\n",
      "\n"
     ]
    },
    {
     "name": "stdout",
     "output_type": "stream",
     "text": [
      "Epoch 180, Loss 0.0225\n",
      "Training Accuracy: 0.9743, Testing Accuracy: 0.9723\n",
      "\n"
     ]
    },
    {
     "name": "stdout",
     "output_type": "stream",
     "text": [
      "Epoch 190, Loss 0.022\n",
      "Training Accuracy: 0.9746, Testing Accuracy: 0.9723\n",
      "\n"
     ]
    },
    {
     "name": "stdout",
     "output_type": "stream",
     "text": [
      "Epoch 200, Loss 0.0216\n",
      "Training Accuracy: 0.9752, Testing Accuracy: 0.9723\n",
      "\n"
     ]
    },
    {
     "name": "stdout",
     "output_type": "stream",
     "text": [
      "Epoch 210, Loss 0.0212\n",
      "Training Accuracy: 0.9760, Testing Accuracy: 0.9718\n",
      "\n"
     ]
    },
    {
     "name": "stdout",
     "output_type": "stream",
     "text": [
      "Epoch 220, Loss 0.0208\n",
      "Training Accuracy: 0.9766, Testing Accuracy: 0.9723\n",
      "\n"
     ]
    },
    {
     "name": "stdout",
     "output_type": "stream",
     "text": [
      "Epoch 230, Loss 0.0204\n",
      "Training Accuracy: 0.9770, Testing Accuracy: 0.9728\n",
      "\n"
     ]
    },
    {
     "name": "stdout",
     "output_type": "stream",
     "text": [
      "Epoch 240, Loss 0.02\n",
      "Training Accuracy: 0.9773, Testing Accuracy: 0.9733\n",
      "\n"
     ]
    },
    {
     "data": {
      "text/plain": [
       "0.014414749641217015"
      ]
     },
     "execution_count": 22,
     "metadata": {},
     "output_type": "execute_result"
    }
   ],
   "source": [
    "nn_learner.train_loop(dl)"
   ]
  },
  {
   "cell_type": "code",
   "execution_count": 23,
   "id": "e0163366",
   "metadata": {
    "execution": {
     "iopub.execute_input": "2021-09-23T00:22:57.242329Z",
     "iopub.status.busy": "2021-09-23T00:22:57.241762Z",
     "iopub.status.idle": "2021-09-23T00:23:13.096309Z",
     "shell.execute_reply": "2021-09-23T00:23:13.097195Z"
    },
    "papermill": {
     "duration": 15.903753,
     "end_time": "2021-09-23T00:23:13.097356",
     "exception": false,
     "start_time": "2021-09-23T00:22:57.193603",
     "status": "completed"
    },
    "tags": []
   },
   "outputs": [
    {
     "name": "stdout",
     "output_type": "stream",
     "text": [
      "Epoch 0, Loss 0.2612\n",
      "Training Accuracy: 0.5937, Testing Accuracy: 0.5897\n",
      "\n"
     ]
    },
    {
     "name": "stdout",
     "output_type": "stream",
     "text": [
      "Epoch 10, Loss 0.1062\n",
      "Training Accuracy: 0.9051, Testing Accuracy: 0.9133\n",
      "\n"
     ]
    },
    {
     "name": "stdout",
     "output_type": "stream",
     "text": [
      "Epoch 20, Loss 0.0803\n",
      "Training Accuracy: 0.9269, Testing Accuracy: 0.9380\n",
      "\n"
     ]
    },
    {
     "name": "stdout",
     "output_type": "stream",
     "text": [
      "Epoch 30, Loss 0.0688\n",
      "Training Accuracy: 0.9369, Testing Accuracy: 0.9446\n",
      "\n"
     ]
    },
    {
     "name": "stdout",
     "output_type": "stream",
     "text": [
      "Epoch 40, Loss 0.062\n",
      "Training Accuracy: 0.9414, Testing Accuracy: 0.9496\n",
      "\n"
     ]
    },
    {
     "name": "stdout",
     "output_type": "stream",
     "text": [
      "Epoch 50, Loss 0.0574\n",
      "Training Accuracy: 0.9447, Testing Accuracy: 0.9536\n",
      "\n"
     ]
    },
    {
     "name": "stdout",
     "output_type": "stream",
     "text": [
      "Epoch 60, Loss 0.054\n",
      "Training Accuracy: 0.9473, Testing Accuracy: 0.9546\n",
      "\n"
     ]
    },
    {
     "name": "stdout",
     "output_type": "stream",
     "text": [
      "Epoch 70, Loss 0.0514\n",
      "Training Accuracy: 0.9493, Testing Accuracy: 0.9567\n",
      "\n"
     ]
    },
    {
     "name": "stdout",
     "output_type": "stream",
     "text": [
      "Epoch 80, Loss 0.0494\n",
      "Training Accuracy: 0.9503, Testing Accuracy: 0.9582\n",
      "\n"
     ]
    },
    {
     "name": "stdout",
     "output_type": "stream",
     "text": [
      "Epoch 90, Loss 0.0476\n",
      "Training Accuracy: 0.9524, Testing Accuracy: 0.9607\n",
      "\n"
     ]
    },
    {
     "name": "stdout",
     "output_type": "stream",
     "text": [
      "Epoch 100, Loss 0.0462\n",
      "Training Accuracy: 0.9542, Testing Accuracy: 0.9627\n",
      "\n"
     ]
    },
    {
     "name": "stdout",
     "output_type": "stream",
     "text": [
      "Epoch 110, Loss 0.045\n",
      "Training Accuracy: 0.9557, Testing Accuracy: 0.9632\n",
      "\n"
     ]
    },
    {
     "name": "stdout",
     "output_type": "stream",
     "text": [
      "Epoch 120, Loss 0.0439\n",
      "Training Accuracy: 0.9567, Testing Accuracy: 0.9632\n",
      "\n"
     ]
    },
    {
     "name": "stdout",
     "output_type": "stream",
     "text": [
      "Epoch 130, Loss 0.043\n",
      "Training Accuracy: 0.9574, Testing Accuracy: 0.9632\n",
      "\n"
     ]
    },
    {
     "name": "stdout",
     "output_type": "stream",
     "text": [
      "Epoch 140, Loss 0.0421\n",
      "Training Accuracy: 0.9575, Testing Accuracy: 0.9637\n",
      "\n"
     ]
    },
    {
     "name": "stdout",
     "output_type": "stream",
     "text": [
      "Epoch 150, Loss 0.0414\n",
      "Training Accuracy: 0.9586, Testing Accuracy: 0.9647\n",
      "\n"
     ]
    },
    {
     "name": "stdout",
     "output_type": "stream",
     "text": [
      "Epoch 160, Loss 0.0407\n",
      "Training Accuracy: 0.9592, Testing Accuracy: 0.9647\n",
      "\n"
     ]
    },
    {
     "name": "stdout",
     "output_type": "stream",
     "text": [
      "Epoch 170, Loss 0.0401\n",
      "Training Accuracy: 0.9596, Testing Accuracy: 0.9652\n",
      "\n"
     ]
    },
    {
     "name": "stdout",
     "output_type": "stream",
     "text": [
      "Epoch 180, Loss 0.0395\n",
      "Training Accuracy: 0.9601, Testing Accuracy: 0.9652\n",
      "\n"
     ]
    },
    {
     "name": "stdout",
     "output_type": "stream",
     "text": [
      "Epoch 190, Loss 0.039\n",
      "Training Accuracy: 0.9603, Testing Accuracy: 0.9657\n",
      "\n"
     ]
    },
    {
     "name": "stdout",
     "output_type": "stream",
     "text": [
      "Epoch 200, Loss 0.0385\n",
      "Training Accuracy: 0.9605, Testing Accuracy: 0.9657\n",
      "\n"
     ]
    },
    {
     "name": "stdout",
     "output_type": "stream",
     "text": [
      "Epoch 210, Loss 0.0381\n",
      "Training Accuracy: 0.9606, Testing Accuracy: 0.9657\n",
      "\n"
     ]
    },
    {
     "name": "stdout",
     "output_type": "stream",
     "text": [
      "Epoch 220, Loss 0.0377\n",
      "Training Accuracy: 0.9610, Testing Accuracy: 0.9672\n",
      "\n"
     ]
    },
    {
     "name": "stdout",
     "output_type": "stream",
     "text": [
      "Epoch 230, Loss 0.0373\n",
      "Training Accuracy: 0.9613, Testing Accuracy: 0.9682\n",
      "\n"
     ]
    },
    {
     "name": "stdout",
     "output_type": "stream",
     "text": [
      "Epoch 240, Loss 0.0369\n",
      "Training Accuracy: 0.9616, Testing Accuracy: 0.9688\n",
      "\n"
     ]
    },
    {
     "data": {
      "text/plain": [
       "0.043831560996736935"
      ]
     },
     "execution_count": 23,
     "metadata": {},
     "output_type": "execute_result"
    }
   ],
   "source": [
    "lr_learner.train_loop(dl)"
   ]
  },
  {
   "cell_type": "code",
   "execution_count": 24,
   "id": "ca410940",
   "metadata": {
    "execution": {
     "iopub.execute_input": "2021-09-23T00:23:13.209206Z",
     "iopub.status.busy": "2021-09-23T00:23:13.205097Z",
     "iopub.status.idle": "2021-09-23T00:23:13.474198Z",
     "shell.execute_reply": "2021-09-23T00:23:13.474648Z"
    },
    "papermill": {
     "duration": 0.329271,
     "end_time": "2021-09-23T00:23:13.474778",
     "exception": false,
     "start_time": "2021-09-23T00:23:13.145507",
     "status": "completed"
    },
    "tags": []
   },
   "outputs": [
    {
     "data": {
      "text/plain": [
       "<matplotlib.legend.Legend at 0x7f2ee9e02978>"
      ]
     },
     "execution_count": 24,
     "metadata": {},
     "output_type": "execute_result"
    },
    {
     "data": {
      "image/png": "[encoded data removed]",
      "text/plain": [
       "<Figure size 1080x720 with 1 Axes>"
      ]
     },
     "metadata": {
      "needs_background": "light"
     },
     "output_type": "display_data"
    }
   ],
   "source": [
    "#comparing the results of NN and LR\n",
    "plt.figure(figsize=(15,10))\n",
    "\n",
    "# Neural Network plots\n",
    "plt.plot(acc_nn.accuracies, 'r-', label = \"Training Accuracies - NN\")\n",
    "plt.plot(acc_nn.test_accuracies, 'g-', label = \"Testing Accuracies - NN\")\n",
    "\n",
    "# Logistic Regression plots\n",
    "plt.plot(acc_lr.accuracies, 'k-', label = \"Training Accuracies - LR\")\n",
    "plt.plot(acc_lr.test_accuracies, 'b-', label = \"Testing Accuracies - LR\")\n",
    "plt.legend()"
   ]
  },
  {
   "cell_type": "markdown",
   "id": "80dfb35c",
   "metadata": {
    "papermill": {
     "duration": 0.047062,
     "end_time": "2021-09-23T00:23:13.569211",
     "exception": false,
     "start_time": "2021-09-23T00:23:13.522149",
     "status": "completed"
    },
    "tags": []
   },
   "source": [
    "#### Plotting the outputs of this layer of the NN.\n"
   ]
  },
  {
   "cell_type": "code",
   "execution_count": 25,
   "id": "45eb2ff5",
   "metadata": {
    "execution": {
     "iopub.execute_input": "2021-09-23T00:23:13.666192Z",
     "iopub.status.busy": "2021-09-23T00:23:13.665591Z",
     "iopub.status.idle": "2021-09-23T00:23:13.686796Z",
     "shell.execute_reply": "2021-09-23T00:23:13.687518Z"
    },
    "papermill": {
     "duration": 0.073108,
     "end_time": "2021-09-23T00:23:13.687664",
     "exception": false,
     "start_time": "2021-09-23T00:23:13.614556",
     "status": "completed"
    },
    "tags": []
   },
   "outputs": [],
   "source": [
    "new_model = Model(layers[:-2])\n",
    "testing_plot = new_model(testing_data_x)"
   ]
  },
  {
   "cell_type": "code",
   "execution_count": 26,
   "id": "4c0a5485",
   "metadata": {
    "execution": {
     "iopub.execute_input": "2021-09-23T00:23:13.798190Z",
     "iopub.status.busy": "2021-09-23T00:23:13.797645Z",
     "iopub.status.idle": "2021-09-23T00:23:14.060602Z",
     "shell.execute_reply": "2021-09-23T00:23:14.061105Z"
    },
    "papermill": {
     "duration": 0.321106,
     "end_time": "2021-09-23T00:23:14.061254",
     "exception": false,
     "start_time": "2021-09-23T00:23:13.740148",
     "status": "completed"
    },
    "tags": []
   },
   "outputs": [
    {
     "data": {
      "text/plain": [
       "Text(0.5, 1.0, 'Outputs')"
      ]
     },
     "execution_count": 26,
     "metadata": {},
     "output_type": "execute_result"
    },
    {
     "data": {
      "image/png": "[encoded data removed]",
      "text/plain": [
       "<Figure size 576x504 with 1 Axes>"
      ]
     },
     "metadata": {
      "needs_background": "light"
     },
     "output_type": "display_data"
    }
   ],
   "source": [
    "# Plotting the scatter plot of points and color coding by class\n",
    "plt.figure(figsize=(8,7))\n",
    "plt.scatter(testing_plot[:,0], testing_plot[:,1], alpha = 0.1, c = y_test.ravel());\n",
    "plt.title('Outputs')"
   ]
  },
  {
   "cell_type": "markdown",
   "id": "a74fcf8f",
   "metadata": {
    "papermill": {
     "duration": 0.05026,
     "end_time": "2021-09-23T00:23:14.162498",
     "exception": false,
     "start_time": "2021-09-23T00:23:14.112238",
     "status": "completed"
    },
    "tags": []
   },
   "source": [
    "Probability contours"
   ]
  },
  {
   "cell_type": "code",
   "execution_count": 27,
   "id": "d0afc8e3",
   "metadata": {
    "execution": {
     "iopub.execute_input": "2021-09-23T00:23:14.270124Z",
     "iopub.status.busy": "2021-09-23T00:23:14.269519Z",
     "iopub.status.idle": "2021-09-23T00:23:14.278610Z",
     "shell.execute_reply": "2021-09-23T00:23:14.278165Z"
    },
    "papermill": {
     "duration": 0.065508,
     "end_time": "2021-09-23T00:23:14.278726",
     "exception": false,
     "start_time": "2021-09-23T00:23:14.213218",
     "status": "completed"
    },
    "tags": []
   },
   "outputs": [],
   "source": [
    "model_prob = Model(layers[-2:]) "
   ]
  },
  {
   "cell_type": "code",
   "execution_count": 28,
   "id": "9b96e238",
   "metadata": {
    "execution": {
     "iopub.execute_input": "2021-09-23T00:23:14.386432Z",
     "iopub.status.busy": "2021-09-23T00:23:14.384639Z",
     "iopub.status.idle": "2021-09-23T00:23:14.401077Z",
     "shell.execute_reply": "2021-09-23T00:23:14.401535Z"
    },
    "papermill": {
     "duration": 0.072752,
     "end_time": "2021-09-23T00:23:14.401668",
     "exception": false,
     "start_time": "2021-09-23T00:23:14.328916",
     "status": "completed"
    },
    "tags": []
   },
   "outputs": [],
   "source": [
    "#creating the x and y ranges according to the above generated plot.\n",
    "x_range = np.linspace(-4, 1, 100) \n",
    "y_range = np.linspace(-6, 6, 100) \n",
    "x_grid, y_grid = np.meshgrid(x_range, y_range) # x_grid and y_grig are of size 100 X 100\n",
    "\n",
    "# converting x_grid and y_grid to continuous arrays\n",
    "x_gridflat = np.ravel(x_grid)\n",
    "y_gridflat = np.ravel(y_grid)\n",
    "\n",
    "# The last layer of the current model takes two columns as input. Hence transpose of np.vstack() is required.\n",
    "X = np.vstack((x_gridflat, y_gridflat)).T\n",
    "\n",
    "prob_contour = model_prob(X).reshape(100,100) "
   ]
  },
  {
   "cell_type": "code",
   "execution_count": 29,
   "id": "da72499a",
   "metadata": {
    "execution": {
     "iopub.execute_input": "2021-09-23T00:23:14.552441Z",
     "iopub.status.busy": "2021-09-23T00:23:14.551804Z",
     "iopub.status.idle": "2021-09-23T00:23:14.830242Z",
     "shell.execute_reply": "2021-09-23T00:23:14.829726Z"
    },
    "papermill": {
     "duration": 0.344345,
     "end_time": "2021-09-23T00:23:14.830363",
     "exception": false,
     "start_time": "2021-09-23T00:23:14.486018",
     "status": "completed"
    },
    "tags": []
   },
   "outputs": [
    {
     "data": {
      "image/png": "[encoded data removed]",
      "text/plain": [
       "<Figure size 720x648 with 1 Axes>"
      ]
     },
     "metadata": {
      "needs_background": "light"
     },
     "output_type": "display_data"
    }
   ],
   "source": [
    "plt.figure(figsize=(10,9))\n",
    "plt.scatter(testing_plot[:,0], testing_plot[:,1], alpha = 0.1, c = y_test.ravel())\n",
    "contours = plt.contour(x_grid,y_grid,prob_contour)\n",
    "plt.title('Probability Contours')\n",
    "plt.clabel(contours, inline = True );"
   ]
  },
  {
   "cell_type": "code",
   "execution_count": null,
   "id": "e81b4ac7",
   "metadata": {
    "papermill": {
     "duration": 0.053901,
     "end_time": "2021-09-23T00:23:14.936464",
     "exception": false,
     "start_time": "2021-09-23T00:23:14.882563",
     "status": "completed"
    },
    "tags": []
   },
   "outputs": [],
   "source": []
  }
 ],
 "metadata": {
  "kernelspec": {
   "display_name": "Python 3",
   "language": "python",
   "name": "python3"
  },
  "language_info": {
   "codemirror_mode": {
    "name": "ipython",
    "version": 3
   },
   "file_extension": ".py",
   "mimetype": "text/x-python",
   "name": "python",
   "nbconvert_exporter": "python",
   "pygments_lexer": "ipython3",
   "version": "3.6.15"
  },
  "papermill": {
   "default_parameters": {},
   "duration": 114.198367,
   "end_time": "2021-09-23T00:23:15.400219",
   "environment_variables": {},
   "exception": null,
   "input_path": "2020-08-11-part2.ipynb",
   "output_path": "2020-08-11-part2.ipynb",
   "parameters": {},
   "start_time": "2021-09-23T00:21:21.201852",
   "version": "2.3.3"
  }
 },
 "nbformat": 4,
 "nbformat_minor": 5
}