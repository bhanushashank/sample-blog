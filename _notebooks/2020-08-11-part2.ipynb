{
 "cells": [
  {
   "cell_type": "markdown",
   "id": "98380cd3",
   "metadata": {
    "papermill": {
     "duration": 0.030053,
     "end_time": "2022-08-08T00:37:27.382623",
     "exception": false,
     "start_time": "2022-08-08T00:37:27.352570",
     "status": "completed"
    },
    "tags": []
   },
   "source": [
    "# Distinguish Your Own Digits (DYOD)"
   ]
  },
  {
   "cell_type": "markdown",
   "id": "ef31240d",
   "metadata": {
    "papermill": {
     "duration": 0.024338,
     "end_time": "2022-08-08T00:37:27.431580",
     "exception": false,
     "start_time": "2022-08-08T00:37:27.407242",
     "status": "completed"
    },
    "tags": []
   },
   "source": [
    "You are going to write a classifier that distinguishes between the number 3 and number 8."
   ]
  },
  {
   "cell_type": "code",
   "execution_count": 1,
   "id": "b15c8646",
   "metadata": {
    "execution": {
     "iopub.execute_input": "2022-08-08T00:37:27.493439Z",
     "iopub.status.busy": "2022-08-08T00:37:27.490880Z",
     "iopub.status.idle": "2022-08-08T00:37:27.504253Z",
     "shell.execute_reply": "2022-08-08T00:37:27.503763Z"
    },
    "papermill": {
     "duration": 0.048843,
     "end_time": "2022-08-08T00:37:27.504397",
     "exception": false,
     "start_time": "2022-08-08T00:37:27.455554",
     "status": "completed"
    },
    "tags": []
   },
   "outputs": [],
   "source": [
    "%load_ext autoreload\n",
    "%autoreload 2"
   ]
  },
  {
   "cell_type": "code",
   "execution_count": 2,
   "id": "22ef38dc",
   "metadata": {
    "execution": {
     "iopub.execute_input": "2022-08-08T00:37:27.556078Z",
     "iopub.status.busy": "2022-08-08T00:37:27.555504Z",
     "iopub.status.idle": "2022-08-08T00:37:28.084871Z",
     "shell.execute_reply": "2022-08-08T00:37:28.084254Z"
    },
    "papermill": {
     "duration": 0.556771,
     "end_time": "2022-08-08T00:37:28.085014",
     "exception": false,
     "start_time": "2022-08-08T00:37:27.528243",
     "status": "completed"
    },
    "tags": []
   },
   "outputs": [],
   "source": [
    "%matplotlib inline\n",
    "import numpy as np\n",
    "import matplotlib.pyplot as plt\n",
    "import pandas as pd"
   ]
  },
  {
   "cell_type": "markdown",
   "id": "ba036198",
   "metadata": {
    "papermill": {
     "duration": 0.024242,
     "end_time": "2022-08-08T00:37:28.134054",
     "exception": false,
     "start_time": "2022-08-08T00:37:28.109812",
     "status": "completed"
    },
    "tags": []
   },
   "source": [
    "From the command line run `pip install mnist`. This is a library that will help you bring down the mnist dataset. If you run this from a notebook, you need to put  `!pip install mnist` in a cell by itself."
   ]
  },
  {
   "cell_type": "code",
   "execution_count": 3,
   "id": "bb6ad8a1",
   "metadata": {
    "execution": {
     "iopub.execute_input": "2022-08-08T00:37:28.186216Z",
     "iopub.status.busy": "2022-08-08T00:37:28.185639Z",
     "iopub.status.idle": "2022-08-08T00:37:29.882744Z",
     "shell.execute_reply": "2022-08-08T00:37:29.882222Z"
    },
    "papermill": {
     "duration": 1.724796,
     "end_time": "2022-08-08T00:37:29.882864",
     "exception": false,
     "start_time": "2022-08-08T00:37:28.158068",
     "status": "completed"
    },
    "tags": []
   },
   "outputs": [
    {
     "name": "stdout",
     "output_type": "stream",
     "text": [
      "Collecting mnist\r\n"
     ]
    },
    {
     "name": "stdout",
     "output_type": "stream",
     "text": [
      "  Downloading mnist-0.2.2-py2.py3-none-any.whl (3.5 kB)\r\n",
      "Requirement already satisfied: numpy in /opt/hostedtoolcache/Python/3.6.15/x64/lib/python3.6/site-packages (from mnist) (1.19.5)\r\n"
     ]
    },
    {
     "name": "stdout",
     "output_type": "stream",
     "text": [
      "Installing collected packages: mnist\r\n",
      "Successfully installed mnist-0.2.2\r\n"
     ]
    }
   ],
   "source": [
    "!pip install mnist"
   ]
  },
  {
   "cell_type": "markdown",
   "id": "69df9c9a",
   "metadata": {
    "papermill": {
     "duration": 0.024885,
     "end_time": "2022-08-08T00:37:29.932709",
     "exception": false,
     "start_time": "2022-08-08T00:37:29.907824",
     "status": "completed"
    },
    "tags": []
   },
   "source": [
    "## Preparing the Data"
   ]
  },
  {
   "cell_type": "code",
   "execution_count": 4,
   "id": "7f69d806",
   "metadata": {
    "execution": {
     "iopub.execute_input": "2022-08-08T00:37:29.986347Z",
     "iopub.status.busy": "2022-08-08T00:37:29.985760Z",
     "iopub.status.idle": "2022-08-08T00:37:30.001173Z",
     "shell.execute_reply": "2022-08-08T00:37:30.000694Z"
    },
    "papermill": {
     "duration": 0.043908,
     "end_time": "2022-08-08T00:37:30.001283",
     "exception": false,
     "start_time": "2022-08-08T00:37:29.957375",
     "status": "completed"
    },
    "tags": []
   },
   "outputs": [],
   "source": [
    "import mnist"
   ]
  },
  {
   "cell_type": "code",
   "execution_count": 5,
   "id": "a411e44f",
   "metadata": {
    "execution": {
     "iopub.execute_input": "2022-08-08T00:37:30.054924Z",
     "iopub.status.busy": "2022-08-08T00:37:30.054346Z",
     "iopub.status.idle": "2022-08-08T00:37:30.713189Z",
     "shell.execute_reply": "2022-08-08T00:37:30.712085Z"
    },
    "papermill": {
     "duration": 0.687237,
     "end_time": "2022-08-08T00:37:30.713342",
     "exception": false,
     "start_time": "2022-08-08T00:37:30.026105",
     "status": "completed"
    },
    "tags": []
   },
   "outputs": [],
   "source": [
    "train_images = mnist.train_images()\n",
    "train_labels = mnist.train_labels()"
   ]
  },
  {
   "cell_type": "code",
   "execution_count": 6,
   "id": "dceab3a5",
   "metadata": {
    "execution": {
     "iopub.execute_input": "2022-08-08T00:37:30.772250Z",
     "iopub.status.busy": "2022-08-08T00:37:30.768906Z",
     "iopub.status.idle": "2022-08-08T00:37:30.785308Z",
     "shell.execute_reply": "2022-08-08T00:37:30.784564Z"
    },
    "papermill": {
     "duration": 0.046786,
     "end_time": "2022-08-08T00:37:30.785425",
     "exception": false,
     "start_time": "2022-08-08T00:37:30.738639",
     "status": "completed"
    },
    "tags": []
   },
   "outputs": [
    {
     "data": {
      "text/plain": [
       "((60000, 28, 28), (60000,))"
      ]
     },
     "execution_count": 6,
     "metadata": {},
     "output_type": "execute_result"
    }
   ],
   "source": [
    "train_images.shape, train_labels.shape"
   ]
  },
  {
   "cell_type": "code",
   "execution_count": 7,
   "id": "f50dc2bb",
   "metadata": {
    "execution": {
     "iopub.execute_input": "2022-08-08T00:37:30.838857Z",
     "iopub.status.busy": "2022-08-08T00:37:30.838293Z",
     "iopub.status.idle": "2022-08-08T00:37:31.074160Z",
     "shell.execute_reply": "2022-08-08T00:37:31.073580Z"
    },
    "papermill": {
     "duration": 0.264019,
     "end_time": "2022-08-08T00:37:31.074288",
     "exception": false,
     "start_time": "2022-08-08T00:37:30.810269",
     "status": "completed"
    },
    "tags": []
   },
   "outputs": [],
   "source": [
    "test_images = mnist.test_images()\n",
    "test_labels = mnist.test_labels()"
   ]
  },
  {
   "cell_type": "code",
   "execution_count": 8,
   "id": "fc38cf1b",
   "metadata": {
    "execution": {
     "iopub.execute_input": "2022-08-08T00:37:31.129706Z",
     "iopub.status.busy": "2022-08-08T00:37:31.129124Z",
     "iopub.status.idle": "2022-08-08T00:37:31.142797Z",
     "shell.execute_reply": "2022-08-08T00:37:31.143348Z"
    },
    "papermill": {
     "duration": 0.042936,
     "end_time": "2022-08-08T00:37:31.143474",
     "exception": false,
     "start_time": "2022-08-08T00:37:31.100538",
     "status": "completed"
    },
    "tags": []
   },
   "outputs": [
    {
     "data": {
      "text/plain": [
       "((10000, 28, 28), (10000,))"
      ]
     },
     "execution_count": 8,
     "metadata": {},
     "output_type": "execute_result"
    }
   ],
   "source": [
    "test_images.shape, test_labels.shape"
   ]
  },
  {
   "cell_type": "code",
   "execution_count": 9,
   "id": "f9ed8fe0",
   "metadata": {
    "execution": {
     "iopub.execute_input": "2022-08-08T00:37:31.202199Z",
     "iopub.status.busy": "2022-08-08T00:37:31.201594Z",
     "iopub.status.idle": "2022-08-08T00:37:31.337389Z",
     "shell.execute_reply": "2022-08-08T00:37:31.337839Z"
    },
    "papermill": {
     "duration": 0.169282,
     "end_time": "2022-08-08T00:37:31.337978",
     "exception": false,
     "start_time": "2022-08-08T00:37:31.168696",
     "status": "completed"
    },
    "tags": []
   },
   "outputs": [
    {
     "name": "stdout",
     "output_type": "stream",
     "text": [
      "2\n"
     ]
    },
    {
     "data": {
      "text/plain": [
       "<matplotlib.image.AxesImage at 0x7f53b68f9a90>"
      ]
     },
     "execution_count": 9,
     "metadata": {},
     "output_type": "execute_result"
    },
    {
     "data": {
      "image/png": "[encoded data removed]",
      "text/plain": [
       "<Figure size 432x288 with 1 Axes>"
      ]
     },
     "metadata": {
      "needs_background": "light"
     },
     "output_type": "display_data"
    }
   ],
   "source": [
    "image_index = 7776 # You may select anything up to 60,000\n",
    "print(train_labels[image_index]) \n",
    "plt.imshow(train_images[image_index], cmap='Greys')"
   ]
  },
  {
   "cell_type": "markdown",
   "id": "a8d2388d",
   "metadata": {
    "papermill": {
     "duration": 0.026761,
     "end_time": "2022-08-08T00:37:31.391535",
     "exception": false,
     "start_time": "2022-08-08T00:37:31.364774",
     "status": "completed"
    },
    "tags": []
   },
   "source": [
    "## Filter data to get 3 and 8 out"
   ]
  },
  {
   "cell_type": "code",
   "execution_count": 10,
   "id": "776f7fc7",
   "metadata": {
    "execution": {
     "iopub.execute_input": "2022-08-08T00:37:31.449201Z",
     "iopub.status.busy": "2022-08-08T00:37:31.448590Z",
     "iopub.status.idle": "2022-08-08T00:37:31.466987Z",
     "shell.execute_reply": "2022-08-08T00:37:31.466259Z"
    },
    "papermill": {
     "duration": 0.049153,
     "end_time": "2022-08-08T00:37:31.467110",
     "exception": false,
     "start_time": "2022-08-08T00:37:31.417957",
     "status": "completed"
    },
    "tags": []
   },
   "outputs": [],
   "source": [
    "train_filter = np.where((train_labels == 3 ) | (train_labels == 8))\n",
    "test_filter = np.where((test_labels == 3) | (test_labels == 8))\n",
    "X_train, y_train = train_images[train_filter], train_labels[train_filter]\n",
    "X_test, y_test = test_images[test_filter], test_labels[test_filter]"
   ]
  },
  {
   "cell_type": "markdown",
   "id": "948f0b7e",
   "metadata": {
    "papermill": {
     "duration": 0.026412,
     "end_time": "2022-08-08T00:37:31.520222",
     "exception": false,
     "start_time": "2022-08-08T00:37:31.493810",
     "status": "completed"
    },
    "tags": []
   },
   "source": [
    "We normalize the pizel values in the 0 to 1 range"
   ]
  },
  {
   "cell_type": "code",
   "execution_count": 11,
   "id": "ee4c2166",
   "metadata": {
    "execution": {
     "iopub.execute_input": "2022-08-08T00:37:31.577143Z",
     "iopub.status.busy": "2022-08-08T00:37:31.576548Z",
     "iopub.status.idle": "2022-08-08T00:37:31.624101Z",
     "shell.execute_reply": "2022-08-08T00:37:31.623529Z"
    },
    "papermill": {
     "duration": 0.077533,
     "end_time": "2022-08-08T00:37:31.624235",
     "exception": false,
     "start_time": "2022-08-08T00:37:31.546702",
     "status": "completed"
    },
    "tags": []
   },
   "outputs": [],
   "source": [
    "X_train = X_train/255.\n",
    "X_test = X_test/255."
   ]
  },
  {
   "cell_type": "markdown",
   "id": "ddcf4fab",
   "metadata": {
    "papermill": {
     "duration": 0.026391,
     "end_time": "2022-08-08T00:37:31.678413",
     "exception": false,
     "start_time": "2022-08-08T00:37:31.652022",
     "status": "completed"
    },
    "tags": []
   },
   "source": [
    "And setup the labels as 1 (when the digit is 3) and 0 (when the digit is 8)"
   ]
  },
  {
   "cell_type": "code",
   "execution_count": 12,
   "id": "7dc908f2",
   "metadata": {
    "execution": {
     "iopub.execute_input": "2022-08-08T00:37:31.735384Z",
     "iopub.status.busy": "2022-08-08T00:37:31.734804Z",
     "iopub.status.idle": "2022-08-08T00:37:31.747410Z",
     "shell.execute_reply": "2022-08-08T00:37:31.746933Z"
    },
    "papermill": {
     "duration": 0.042406,
     "end_time": "2022-08-08T00:37:31.747520",
     "exception": false,
     "start_time": "2022-08-08T00:37:31.705114",
     "status": "completed"
    },
    "tags": []
   },
   "outputs": [],
   "source": [
    "y_train = 1*(y_train==3)\n",
    "y_test = 1*(y_test==3)"
   ]
  },
  {
   "cell_type": "code",
   "execution_count": 13,
   "id": "01e4e969",
   "metadata": {
    "execution": {
     "iopub.execute_input": "2022-08-08T00:37:31.804092Z",
     "iopub.status.busy": "2022-08-08T00:37:31.803519Z",
     "iopub.status.idle": "2022-08-08T00:37:31.816944Z",
     "shell.execute_reply": "2022-08-08T00:37:31.817414Z"
    },
    "papermill": {
     "duration": 0.043467,
     "end_time": "2022-08-08T00:37:31.817538",
     "exception": false,
     "start_time": "2022-08-08T00:37:31.774071",
     "status": "completed"
    },
    "tags": []
   },
   "outputs": [
    {
     "data": {
      "text/plain": [
       "((11982, 28, 28), (1984, 28, 28))"
      ]
     },
     "execution_count": 13,
     "metadata": {},
     "output_type": "execute_result"
    }
   ],
   "source": [
    "X_train.shape, X_test.shape"
   ]
  },
  {
   "cell_type": "markdown",
   "id": "5ccf3f85",
   "metadata": {
    "papermill": {
     "duration": 0.026953,
     "end_time": "2022-08-08T00:37:31.870981",
     "exception": false,
     "start_time": "2022-08-08T00:37:31.844028",
     "status": "completed"
    },
    "tags": []
   },
   "source": [
    "We reshape the data to flatten the image pixels into a set of features or co-variates:"
   ]
  },
  {
   "cell_type": "code",
   "execution_count": 14,
   "id": "5286a4a3",
   "metadata": {
    "execution": {
     "iopub.execute_input": "2022-08-08T00:37:31.928373Z",
     "iopub.status.busy": "2022-08-08T00:37:31.927767Z",
     "iopub.status.idle": "2022-08-08T00:37:31.941842Z",
     "shell.execute_reply": "2022-08-08T00:37:31.941283Z"
    },
    "papermill": {
     "duration": 0.044258,
     "end_time": "2022-08-08T00:37:31.941951",
     "exception": false,
     "start_time": "2022-08-08T00:37:31.897693",
     "status": "completed"
    },
    "tags": []
   },
   "outputs": [
    {
     "data": {
      "text/plain": [
       "((11982, 784), (1984, 784))"
      ]
     },
     "execution_count": 14,
     "metadata": {},
     "output_type": "execute_result"
    }
   ],
   "source": [
    "X_train = X_train.reshape(X_train.shape[0], -1)\n",
    "X_test = X_test.reshape(X_test.shape[0], -1)\n",
    "X_train.shape, X_test.shape"
   ]
  },
  {
   "cell_type": "code",
   "execution_count": 15,
   "id": "73c5f88a",
   "metadata": {
    "execution": {
     "iopub.execute_input": "2022-08-08T00:37:32.000792Z",
     "iopub.status.busy": "2022-08-08T00:37:32.000175Z",
     "iopub.status.idle": "2022-08-08T00:37:32.018824Z",
     "shell.execute_reply": "2022-08-08T00:37:32.018258Z"
    },
    "papermill": {
     "duration": 0.049783,
     "end_time": "2022-08-08T00:37:32.018933",
     "exception": false,
     "start_time": "2022-08-08T00:37:31.969150",
     "status": "completed"
    },
    "tags": []
   },
   "outputs": [],
   "source": [
    "#Impoting functions from 'Kudzu'\n",
    "from kudzu.model import Model\n",
    "from kudzu.train import Learner\n",
    "from kudzu.optim import GD\n",
    "from kudzu.data import Data, Sampler,Dataloader\n",
    "\n",
    "from kudzu.callbacks import AccCallback\n",
    "from kudzu.callbacks import ClfCallback\n",
    "\n",
    "from kudzu.loss import MSE\n",
    "\n",
    "from kudzu.layer import Sigmoid,Relu\n",
    "from kudzu.layer import Affine"
   ]
  },
  {
   "cell_type": "markdown",
   "id": "bc01172a",
   "metadata": {
    "papermill": {
     "duration": 0.027112,
     "end_time": "2022-08-08T00:37:32.073076",
     "exception": false,
     "start_time": "2022-08-08T00:37:32.045964",
     "status": "completed"
    },
    "tags": []
   },
   "source": [
    "### Let us create a `Config` class, to store important parameters. \n",
    "This class essentially plays the role of a dictionary."
   ]
  },
  {
   "cell_type": "code",
   "execution_count": 16,
   "id": "978281aa",
   "metadata": {
    "execution": {
     "iopub.execute_input": "2022-08-08T00:37:32.133027Z",
     "iopub.status.busy": "2022-08-08T00:37:32.132410Z",
     "iopub.status.idle": "2022-08-08T00:37:32.144311Z",
     "shell.execute_reply": "2022-08-08T00:37:32.143827Z"
    },
    "papermill": {
     "duration": 0.043308,
     "end_time": "2022-08-08T00:37:32.144439",
     "exception": false,
     "start_time": "2022-08-08T00:37:32.101131",
     "status": "completed"
    },
    "tags": []
   },
   "outputs": [],
   "source": [
    "class Config:\n",
    "    pass\n",
    "config = Config()\n",
    "config.lr = 0.001\n",
    "config.num_epochs = 250\n",
    "config.bs = 50"
   ]
  },
  {
   "cell_type": "markdown",
   "id": "1385fa59",
   "metadata": {
    "papermill": {
     "duration": 0.026843,
     "end_time": "2022-08-08T00:37:32.198434",
     "exception": false,
     "start_time": "2022-08-08T00:37:32.171591",
     "status": "completed"
    },
    "tags": []
   },
   "source": [
    "### Running Models with the Training data\n",
    "Details about the network layers:\n",
    "- A first affine layer has 784 inputs and does 100 affine transforms. These are followed by a Relu\n",
    "- A second affine layer has 100 inputs from the 100 activations of the past layer, and does 100 affine transforms. These are followed by a Relu\n",
    "- A third affine layer has 100 activations and does 2 affine transformations to create an embedding for visualization. There is no non-linearity here.\n",
    "- A final \"logistic regression\" which has an affine transform from 2 inputs to 1 output, which is squeezed through a sigmoid.\n"
   ]
  },
  {
   "cell_type": "code",
   "execution_count": 17,
   "id": "2b9c66db",
   "metadata": {
    "execution": {
     "iopub.execute_input": "2022-08-08T00:37:32.257148Z",
     "iopub.status.busy": "2022-08-08T00:37:32.256206Z",
     "iopub.status.idle": "2022-08-08T00:37:32.271549Z",
     "shell.execute_reply": "2022-08-08T00:37:32.271071Z"
    },
    "papermill": {
     "duration": 0.04624,
     "end_time": "2022-08-08T00:37:32.271659",
     "exception": false,
     "start_time": "2022-08-08T00:37:32.225419",
     "status": "completed"
    },
    "tags": []
   },
   "outputs": [],
   "source": [
    "data = Data(X_train, y_train.reshape(-1,1))\n",
    "sampler = Sampler(data, config.bs, shuffle=True)\n",
    "\n",
    "dl = Dataloader(data, sampler)\n",
    "\n",
    "opt = GD(config.lr)\n",
    "loss = MSE()"
   ]
  },
  {
   "cell_type": "code",
   "execution_count": 18,
   "id": "b275e4c2",
   "metadata": {
    "execution": {
     "iopub.execute_input": "2022-08-08T00:37:32.331005Z",
     "iopub.status.busy": "2022-08-08T00:37:32.330426Z",
     "iopub.status.idle": "2022-08-08T00:37:32.343362Z",
     "shell.execute_reply": "2022-08-08T00:37:32.342888Z"
    },
    "papermill": {
     "duration": 0.044775,
     "end_time": "2022-08-08T00:37:32.343470",
     "exception": false,
     "start_time": "2022-08-08T00:37:32.298695",
     "status": "completed"
    },
    "tags": []
   },
   "outputs": [],
   "source": [
    "training_data_x = X_train\n",
    "testing_data_x = X_test\n",
    "training_data_y = y_train.reshape(-1,1)\n",
    "testing_data_y = y_test.reshape(-1,1)"
   ]
  },
  {
   "cell_type": "code",
   "execution_count": 19,
   "id": "76951160",
   "metadata": {
    "execution": {
     "iopub.execute_input": "2022-08-08T00:37:32.402011Z",
     "iopub.status.busy": "2022-08-08T00:37:32.401425Z",
     "iopub.status.idle": "2022-08-08T00:37:32.418936Z",
     "shell.execute_reply": "2022-08-08T00:37:32.418465Z"
    },
    "papermill": {
     "duration": 0.048744,
     "end_time": "2022-08-08T00:37:32.419044",
     "exception": false,
     "start_time": "2022-08-08T00:37:32.370300",
     "status": "completed"
    },
    "tags": []
   },
   "outputs": [
    {
     "name": "stdout",
     "output_type": "stream",
     "text": [
      "xavier\n",
      "xavier\n",
      "xavier\n",
      "xavier\n",
      "xavier\n"
     ]
    }
   ],
   "source": [
    "layers = [Affine(\"first\", 784, 100), Relu(\"first\"), Affine(\"second\", 100, 100), Relu(\"second\"), Affine(\"third\", 100, 2), Affine(\"last\", 2, 1), Sigmoid(\"last\")]\n",
    "model_nn = Model(layers)\n",
    "model_lr = Model([Affine(\"logits\", 784, 1), Sigmoid(\"sigmoid\")])"
   ]
  },
  {
   "cell_type": "code",
   "execution_count": 20,
   "id": "6eede77a",
   "metadata": {
    "execution": {
     "iopub.execute_input": "2022-08-08T00:37:32.478065Z",
     "iopub.status.busy": "2022-08-08T00:37:32.477488Z",
     "iopub.status.idle": "2022-08-08T00:37:32.490147Z",
     "shell.execute_reply": "2022-08-08T00:37:32.489670Z"
    },
    "papermill": {
     "duration": 0.044004,
     "end_time": "2022-08-08T00:37:32.490256",
     "exception": false,
     "start_time": "2022-08-08T00:37:32.446252",
     "status": "completed"
    },
    "tags": []
   },
   "outputs": [],
   "source": [
    "nn_learner = Learner(loss, model_nn, opt, config.num_epochs)\n",
    "acc_nn = ClfCallback(nn_learner, config.bs, training_data_x , testing_data_x, training_data_y, testing_data_y)\n",
    "nn_learner.set_callbacks([acc_nn])"
   ]
  },
  {
   "cell_type": "code",
   "execution_count": 21,
   "id": "877b6cc7",
   "metadata": {
    "execution": {
     "iopub.execute_input": "2022-08-08T00:37:32.548186Z",
     "iopub.status.busy": "2022-08-08T00:37:32.547620Z",
     "iopub.status.idle": "2022-08-08T00:37:32.560050Z",
     "shell.execute_reply": "2022-08-08T00:37:32.559588Z"
    },
    "papermill": {
     "duration": 0.042777,
     "end_time": "2022-08-08T00:37:32.560152",
     "exception": false,
     "start_time": "2022-08-08T00:37:32.517375",
     "status": "completed"
    },
    "tags": []
   },
   "outputs": [],
   "source": [
    "lr_learner = Learner(loss, model_lr, opt, config.num_epochs)\n",
    "acc_lr = ClfCallback(lr_learner, config.bs, training_data_x , testing_data_x, training_data_y, testing_data_y)\n",
    "lr_learner.set_callbacks([acc_lr])"
   ]
  },
  {
   "cell_type": "code",
   "execution_count": 22,
   "id": "d9b133c3",
   "metadata": {
    "execution": {
     "iopub.execute_input": "2022-08-08T00:37:32.618017Z",
     "iopub.status.busy": "2022-08-08T00:37:32.617452Z",
     "iopub.status.idle": "2022-08-08T00:38:48.659385Z",
     "shell.execute_reply": "2022-08-08T00:38:48.660212Z"
    },
    "papermill": {
     "duration": 76.073106,
     "end_time": "2022-08-08T00:38:48.660378",
     "exception": false,
     "start_time": "2022-08-08T00:37:32.587272",
     "status": "completed"
    },
    "tags": []
   },
   "outputs": [
    {
     "name": "stdout",
     "output_type": "stream",
     "text": [
      "Epoch 0, Loss 0.2305\n",
      "Training Accuracy: 0.7784, Testing Accuracy: 0.7949\n",
      "\n"
     ]
    },
    {
     "name": "stdout",
     "output_type": "stream",
     "text": [
      "Epoch 10, Loss 0.0806\n",
      "Training Accuracy: 0.9274, Testing Accuracy: 0.9420\n",
      "\n"
     ]
    },
    {
     "name": "stdout",
     "output_type": "stream",
     "text": [
      "Epoch 20, Loss 0.0516\n",
      "Training Accuracy: 0.9481, Testing Accuracy: 0.9607\n",
      "\n"
     ]
    },
    {
     "name": "stdout",
     "output_type": "stream",
     "text": [
      "Epoch 30, Loss 0.0415\n",
      "Training Accuracy: 0.9551, Testing Accuracy: 0.9637\n",
      "\n"
     ]
    },
    {
     "name": "stdout",
     "output_type": "stream",
     "text": [
      "Epoch 40, Loss 0.0364\n",
      "Training Accuracy: 0.9594, Testing Accuracy: 0.9667\n",
      "\n"
     ]
    },
    {
     "name": "stdout",
     "output_type": "stream",
     "text": [
      "Epoch 50, Loss 0.0333\n",
      "Training Accuracy: 0.9615, Testing Accuracy: 0.9672\n",
      "\n"
     ]
    },
    {
     "name": "stdout",
     "output_type": "stream",
     "text": [
      "Epoch 60, Loss 0.0311\n",
      "Training Accuracy: 0.9636, Testing Accuracy: 0.9682\n",
      "\n"
     ]
    },
    {
     "name": "stdout",
     "output_type": "stream",
     "text": [
      "Epoch 70, Loss 0.0294\n",
      "Training Accuracy: 0.9653, Testing Accuracy: 0.9693\n",
      "\n"
     ]
    },
    {
     "name": "stdout",
     "output_type": "stream",
     "text": [
      "Epoch 80, Loss 0.0281\n",
      "Training Accuracy: 0.9667, Testing Accuracy: 0.9708\n",
      "\n"
     ]
    },
    {
     "name": "stdout",
     "output_type": "stream",
     "text": [
      "Epoch 90, Loss 0.027\n",
      "Training Accuracy: 0.9685, Testing Accuracy: 0.9713\n",
      "\n"
     ]
    },
    {
     "name": "stdout",
     "output_type": "stream",
     "text": [
      "Epoch 100, Loss 0.0261\n",
      "Training Accuracy: 0.9699, Testing Accuracy: 0.9708\n",
      "\n"
     ]
    },
    {
     "name": "stdout",
     "output_type": "stream",
     "text": [
      "Epoch 110, Loss 0.0252\n",
      "Training Accuracy: 0.9710, Testing Accuracy: 0.9698\n",
      "\n"
     ]
    },
    {
     "name": "stdout",
     "output_type": "stream",
     "text": [
      "Epoch 120, Loss 0.0245\n",
      "Training Accuracy: 0.9712, Testing Accuracy: 0.9703\n",
      "\n"
     ]
    },
    {
     "name": "stdout",
     "output_type": "stream",
     "text": [
      "Epoch 130, Loss 0.0238\n",
      "Training Accuracy: 0.9720, Testing Accuracy: 0.9688\n",
      "\n"
     ]
    },
    {
     "name": "stdout",
     "output_type": "stream",
     "text": [
      "Epoch 140, Loss 0.0232\n",
      "Training Accuracy: 0.9728, Testing Accuracy: 0.9682\n",
      "\n"
     ]
    },
    {
     "name": "stdout",
     "output_type": "stream",
     "text": [
      "Epoch 150, Loss 0.0227\n",
      "Training Accuracy: 0.9735, Testing Accuracy: 0.9682\n",
      "\n"
     ]
    },
    {
     "name": "stdout",
     "output_type": "stream",
     "text": [
      "Epoch 160, Loss 0.0222\n",
      "Training Accuracy: 0.9746, Testing Accuracy: 0.9693\n",
      "\n"
     ]
    },
    {
     "name": "stdout",
     "output_type": "stream",
     "text": [
      "Epoch 170, Loss 0.0217\n",
      "Training Accuracy: 0.9755, Testing Accuracy: 0.9698\n",
      "\n"
     ]
    },
    {
     "name": "stdout",
     "output_type": "stream",
     "text": [
      "Epoch 180, Loss 0.0212\n",
      "Training Accuracy: 0.9765, Testing Accuracy: 0.9698\n",
      "\n"
     ]
    },
    {
     "name": "stdout",
     "output_type": "stream",
     "text": [
      "Epoch 190, Loss 0.0208\n",
      "Training Accuracy: 0.9766, Testing Accuracy: 0.9703\n",
      "\n"
     ]
    },
    {
     "name": "stdout",
     "output_type": "stream",
     "text": [
      "Epoch 200, Loss 0.0204\n",
      "Training Accuracy: 0.9771, Testing Accuracy: 0.9703\n",
      "\n"
     ]
    },
    {
     "name": "stdout",
     "output_type": "stream",
     "text": [
      "Epoch 210, Loss 0.02\n",
      "Training Accuracy: 0.9776, Testing Accuracy: 0.9703\n",
      "\n"
     ]
    },
    {
     "name": "stdout",
     "output_type": "stream",
     "text": [
      "Epoch 220, Loss 0.0196\n",
      "Training Accuracy: 0.9776, Testing Accuracy: 0.9703\n",
      "\n"
     ]
    },
    {
     "name": "stdout",
     "output_type": "stream",
     "text": [
      "Epoch 230, Loss 0.0193\n",
      "Training Accuracy: 0.9783, Testing Accuracy: 0.9703\n",
      "\n"
     ]
    },
    {
     "name": "stdout",
     "output_type": "stream",
     "text": [
      "Epoch 240, Loss 0.0189\n",
      "Training Accuracy: 0.9788, Testing Accuracy: 0.9703\n",
      "\n"
     ]
    },
    {
     "data": {
      "text/plain": [
       "0.0008375696508893792"
      ]
     },
     "execution_count": 22,
     "metadata": {},
     "output_type": "execute_result"
    }
   ],
   "source": [
    "nn_learner.train_loop(dl)"
   ]
  },
  {
   "cell_type": "code",
   "execution_count": 23,
   "id": "e0163366",
   "metadata": {
    "execution": {
     "iopub.execute_input": "2022-08-08T00:38:48.742949Z",
     "iopub.status.busy": "2022-08-08T00:38:48.742356Z",
     "iopub.status.idle": "2022-08-08T00:39:02.304872Z",
     "shell.execute_reply": "2022-08-08T00:39:02.305719Z"
    },
    "papermill": {
     "duration": 13.610261,
     "end_time": "2022-08-08T00:39:02.305867",
     "exception": false,
     "start_time": "2022-08-08T00:38:48.695606",
     "status": "completed"
    },
    "tags": []
   },
   "outputs": [
    {
     "name": "stdout",
     "output_type": "stream",
     "text": [
      "Epoch 0, Loss 0.2889\n",
      "Training Accuracy: 0.5143, Testing Accuracy: 0.5242\n",
      "\n"
     ]
    },
    {
     "name": "stdout",
     "output_type": "stream",
     "text": [
      "Epoch 10, Loss 0.1063\n",
      "Training Accuracy: 0.9062, Testing Accuracy: 0.9178\n",
      "\n"
     ]
    },
    {
     "name": "stdout",
     "output_type": "stream",
     "text": [
      "Epoch 20, Loss 0.08\n",
      "Training Accuracy: 0.9255, Testing Accuracy: 0.9420\n",
      "\n"
     ]
    },
    {
     "name": "stdout",
     "output_type": "stream",
     "text": [
      "Epoch 30, Loss 0.0685\n",
      "Training Accuracy: 0.9350, Testing Accuracy: 0.9481\n",
      "\n"
     ]
    },
    {
     "name": "stdout",
     "output_type": "stream",
     "text": [
      "Epoch 40, Loss 0.0617\n",
      "Training Accuracy: 0.9413, Testing Accuracy: 0.9521\n",
      "\n"
     ]
    },
    {
     "name": "stdout",
     "output_type": "stream",
     "text": [
      "Epoch 50, Loss 0.0571\n",
      "Training Accuracy: 0.9450, Testing Accuracy: 0.9536\n",
      "\n"
     ]
    },
    {
     "name": "stdout",
     "output_type": "stream",
     "text": [
      "Epoch 60, Loss 0.0538\n",
      "Training Accuracy: 0.9478, Testing Accuracy: 0.9587\n",
      "\n"
     ]
    },
    {
     "name": "stdout",
     "output_type": "stream",
     "text": [
      "Epoch 70, Loss 0.0512\n",
      "Training Accuracy: 0.9500, Testing Accuracy: 0.9602\n",
      "\n"
     ]
    },
    {
     "name": "stdout",
     "output_type": "stream",
     "text": [
      "Epoch 80, Loss 0.0491\n",
      "Training Accuracy: 0.9514, Testing Accuracy: 0.9612\n",
      "\n"
     ]
    },
    {
     "name": "stdout",
     "output_type": "stream",
     "text": [
      "Epoch 90, Loss 0.0475\n",
      "Training Accuracy: 0.9528, Testing Accuracy: 0.9627\n",
      "\n"
     ]
    },
    {
     "name": "stdout",
     "output_type": "stream",
     "text": [
      "Epoch 100, Loss 0.046\n",
      "Training Accuracy: 0.9536, Testing Accuracy: 0.9637\n",
      "\n"
     ]
    },
    {
     "name": "stdout",
     "output_type": "stream",
     "text": [
      "Epoch 110, Loss 0.0448\n",
      "Training Accuracy: 0.9548, Testing Accuracy: 0.9647\n",
      "\n"
     ]
    },
    {
     "name": "stdout",
     "output_type": "stream",
     "text": [
      "Epoch 120, Loss 0.0437\n",
      "Training Accuracy: 0.9558, Testing Accuracy: 0.9642\n",
      "\n"
     ]
    },
    {
     "name": "stdout",
     "output_type": "stream",
     "text": [
      "Epoch 130, Loss 0.0428\n",
      "Training Accuracy: 0.9561, Testing Accuracy: 0.9637\n",
      "\n"
     ]
    },
    {
     "name": "stdout",
     "output_type": "stream",
     "text": [
      "Epoch 140, Loss 0.042\n",
      "Training Accuracy: 0.9569, Testing Accuracy: 0.9647\n",
      "\n"
     ]
    },
    {
     "name": "stdout",
     "output_type": "stream",
     "text": [
      "Epoch 150, Loss 0.0412\n",
      "Training Accuracy: 0.9574, Testing Accuracy: 0.9647\n",
      "\n"
     ]
    },
    {
     "name": "stdout",
     "output_type": "stream",
     "text": [
      "Epoch 160, Loss 0.0406\n",
      "Training Accuracy: 0.9577, Testing Accuracy: 0.9652\n",
      "\n"
     ]
    },
    {
     "name": "stdout",
     "output_type": "stream",
     "text": [
      "Epoch 170, Loss 0.04\n",
      "Training Accuracy: 0.9584, Testing Accuracy: 0.9662\n",
      "\n"
     ]
    },
    {
     "name": "stdout",
     "output_type": "stream",
     "text": [
      "Epoch 180, Loss 0.0394\n",
      "Training Accuracy: 0.9591, Testing Accuracy: 0.9667\n",
      "\n"
     ]
    },
    {
     "name": "stdout",
     "output_type": "stream",
     "text": [
      "Epoch 190, Loss 0.0389\n",
      "Training Accuracy: 0.9592, Testing Accuracy: 0.9667\n",
      "\n"
     ]
    },
    {
     "name": "stdout",
     "output_type": "stream",
     "text": [
      "Epoch 200, Loss 0.0384\n",
      "Training Accuracy: 0.9595, Testing Accuracy: 0.9677\n",
      "\n"
     ]
    },
    {
     "name": "stdout",
     "output_type": "stream",
     "text": [
      "Epoch 210, Loss 0.038\n",
      "Training Accuracy: 0.9600, Testing Accuracy: 0.9672\n",
      "\n"
     ]
    },
    {
     "name": "stdout",
     "output_type": "stream",
     "text": [
      "Epoch 220, Loss 0.0375\n",
      "Training Accuracy: 0.9606, Testing Accuracy: 0.9667\n",
      "\n"
     ]
    },
    {
     "name": "stdout",
     "output_type": "stream",
     "text": [
      "Epoch 230, Loss 0.0372\n",
      "Training Accuracy: 0.9613, Testing Accuracy: 0.9662\n",
      "\n"
     ]
    },
    {
     "name": "stdout",
     "output_type": "stream",
     "text": [
      "Epoch 240, Loss 0.0368\n",
      "Training Accuracy: 0.9616, Testing Accuracy: 0.9662\n",
      "\n"
     ]
    },
    {
     "data": {
      "text/plain": [
       "0.027355280481013836"
      ]
     },
     "execution_count": 23,
     "metadata": {},
     "output_type": "execute_result"
    }
   ],
   "source": [
    "lr_learner.train_loop(dl)"
   ]
  },
  {
   "cell_type": "code",
   "execution_count": 24,
   "id": "ca410940",
   "metadata": {
    "execution": {
     "iopub.execute_input": "2022-08-08T00:39:02.401931Z",
     "iopub.status.busy": "2022-08-08T00:39:02.401320Z",
     "iopub.status.idle": "2022-08-08T00:39:02.623453Z",
     "shell.execute_reply": "2022-08-08T00:39:02.622952Z"
    },
    "papermill": {
     "duration": 0.274912,
     "end_time": "2022-08-08T00:39:02.623572",
     "exception": false,
     "start_time": "2022-08-08T00:39:02.348660",
     "status": "completed"
    },
    "tags": []
   },
   "outputs": [
    {
     "data": {
      "text/plain": [
       "<matplotlib.legend.Legend at 0x7f53b6469b00>"
      ]
     },
     "execution_count": 24,
     "metadata": {},
     "output_type": "execute_result"
    },
    {
     "data": {
      "image/png": "[encoded data removed]",
      "text/plain": [
       "<Figure size 1080x720 with 1 Axes>"
      ]
     },
     "metadata": {
      "needs_background": "light"
     },
     "output_type": "display_data"
    }
   ],
   "source": [
    "#comparing the results of NN and LR\n",
    "plt.figure(figsize=(15,10))\n",
    "\n",
    "# Neural Network plots\n",
    "plt.plot(acc_nn.accuracies, 'r-', label = \"Training Accuracies - NN\")\n",
    "plt.plot(acc_nn.test_accuracies, 'g-', label = \"Testing Accuracies - NN\")\n",
    "\n",
    "# Logistic Regression plots\n",
    "plt.plot(acc_lr.accuracies, 'k-', label = \"Training Accuracies - LR\")\n",
    "plt.plot(acc_lr.test_accuracies, 'b-', label = \"Testing Accuracies - LR\")\n",
    "plt.legend()"
   ]
  },
  {
   "cell_type": "markdown",
   "id": "80dfb35c",
   "metadata": {
    "papermill": {
     "duration": 0.042192,
     "end_time": "2022-08-08T00:39:02.712255",
     "exception": false,
     "start_time": "2022-08-08T00:39:02.670063",
     "status": "completed"
    },
    "tags": []
   },
   "source": [
    "#### Plotting the outputs of this layer of the NN.\n"
   ]
  },
  {
   "cell_type": "code",
   "execution_count": 25,
   "id": "45eb2ff5",
   "metadata": {
    "execution": {
     "iopub.execute_input": "2022-08-08T00:39:02.803791Z",
     "iopub.status.busy": "2022-08-08T00:39:02.802646Z",
     "iopub.status.idle": "2022-08-08T00:39:02.823149Z",
     "shell.execute_reply": "2022-08-08T00:39:02.822646Z"
    },
    "papermill": {
     "duration": 0.068525,
     "end_time": "2022-08-08T00:39:02.823264",
     "exception": false,
     "start_time": "2022-08-08T00:39:02.754739",
     "status": "completed"
    },
    "tags": []
   },
   "outputs": [],
   "source": [
    "new_model = Model(layers[:-2])\n",
    "testing_plot = new_model(testing_data_x)"
   ]
  },
  {
   "cell_type": "code",
   "execution_count": 26,
   "id": "4c0a5485",
   "metadata": {
    "execution": {
     "iopub.execute_input": "2022-08-08T00:39:02.920140Z",
     "iopub.status.busy": "2022-08-08T00:39:02.919559Z",
     "iopub.status.idle": "2022-08-08T00:39:03.103320Z",
     "shell.execute_reply": "2022-08-08T00:39:03.102763Z"
    },
    "papermill": {
     "duration": 0.23572,
     "end_time": "2022-08-08T00:39:03.103450",
     "exception": false,
     "start_time": "2022-08-08T00:39:02.867730",
     "status": "completed"
    },
    "tags": []
   },
   "outputs": [
    {
     "data": {
      "text/plain": [
       "Text(0.5, 1.0, 'Outputs')"
      ]
     },
     "execution_count": 26,
     "metadata": {},
     "output_type": "execute_result"
    },
    {
     "data": {
      "image/png": "[encoded data removed]",
      "text/plain": [
       "<Figure size 576x504 with 1 Axes>"
      ]
     },
     "metadata": {
      "needs_background": "light"
     },
     "output_type": "display_data"
    }
   ],
   "source": [
    "# Plotting the scatter plot of points and color coding by class\n",
    "plt.figure(figsize=(8,7))\n",
    "plt.scatter(testing_plot[:,0], testing_plot[:,1], alpha = 0.1, c = y_test.ravel());\n",
    "plt.title('Outputs')"
   ]
  },
  {
   "cell_type": "markdown",
   "id": "a74fcf8f",
   "metadata": {
    "papermill": {
     "duration": 0.044279,
     "end_time": "2022-08-08T00:39:03.192503",
     "exception": false,
     "start_time": "2022-08-08T00:39:03.148224",
     "status": "completed"
    },
    "tags": []
   },
   "source": [
    "Probability contours"
   ]
  },
  {
   "cell_type": "code",
   "execution_count": 27,
   "id": "d0afc8e3",
   "metadata": {
    "execution": {
     "iopub.execute_input": "2022-08-08T00:39:03.299756Z",
     "iopub.status.busy": "2022-08-08T00:39:03.298055Z",
     "iopub.status.idle": "2022-08-08T00:39:03.302837Z",
     "shell.execute_reply": "2022-08-08T00:39:03.303282Z"
    },
    "papermill": {
     "duration": 0.066664,
     "end_time": "2022-08-08T00:39:03.303417",
     "exception": false,
     "start_time": "2022-08-08T00:39:03.236753",
     "status": "completed"
    },
    "tags": []
   },
   "outputs": [],
   "source": [
    "model_prob = Model(layers[-2:]) "
   ]
  },
  {
   "cell_type": "code",
   "execution_count": 28,
   "id": "9b96e238",
   "metadata": {
    "execution": {
     "iopub.execute_input": "2022-08-08T00:39:03.400747Z",
     "iopub.status.busy": "2022-08-08T00:39:03.400108Z",
     "iopub.status.idle": "2022-08-08T00:39:03.413971Z",
     "shell.execute_reply": "2022-08-08T00:39:03.414423Z"
    },
    "papermill": {
     "duration": 0.066498,
     "end_time": "2022-08-08T00:39:03.414562",
     "exception": false,
     "start_time": "2022-08-08T00:39:03.348064",
     "status": "completed"
    },
    "tags": []
   },
   "outputs": [],
   "source": [
    "#creating the x and y ranges according to the above generated plot.\n",
    "x_range = np.linspace(-4, 1, 100) \n",
    "y_range = np.linspace(-6, 6, 100) \n",
    "x_grid, y_grid = np.meshgrid(x_range, y_range) # x_grid and y_grig are of size 100 X 100\n",
    "\n",
    "# converting x_grid and y_grid to continuous arrays\n",
    "x_gridflat = np.ravel(x_grid)\n",
    "y_gridflat = np.ravel(y_grid)\n",
    "\n",
    "# The last layer of the current model takes two columns as input. Hence transpose of np.vstack() is required.\n",
    "X = np.vstack((x_gridflat, y_gridflat)).T\n",
    "\n",
    "prob_contour = model_prob(X).reshape(100,100) "
   ]
  },
  {
   "cell_type": "code",
   "execution_count": 29,
   "id": "da72499a",
   "metadata": {
    "execution": {
     "iopub.execute_input": "2022-08-08T00:39:03.535257Z",
     "iopub.status.busy": "2022-08-08T00:39:03.534589Z",
     "iopub.status.idle": "2022-08-08T00:39:03.775439Z",
     "shell.execute_reply": "2022-08-08T00:39:03.775921Z"
    },
    "papermill": {
     "duration": 0.290381,
     "end_time": "2022-08-08T00:39:03.776055",
     "exception": false,
     "start_time": "2022-08-08T00:39:03.485674",
     "status": "completed"
    },
    "tags": []
   },
   "outputs": [
    {
     "data": {
      "image/png": "[encoded data removed]",
      "text/plain": [
       "<Figure size 720x648 with 1 Axes>"
      ]
     },
     "metadata": {
      "needs_background": "light"
     },
     "output_type": "display_data"
    }
   ],
   "source": [
    "plt.figure(figsize=(10,9))\n",
    "plt.scatter(testing_plot[:,0], testing_plot[:,1], alpha = 0.1, c = y_test.ravel())\n",
    "contours = plt.contour(x_grid,y_grid,prob_contour)\n",
    "plt.title('Probability Contours')\n",
    "plt.clabel(contours, inline = True );"
   ]
  },
  {
   "cell_type": "code",
   "execution_count": null,
   "id": "e81b4ac7",
   "metadata": {
    "papermill": {
     "duration": 0.047048,
     "end_time": "2022-08-08T00:39:03.871579",
     "exception": false,
     "start_time": "2022-08-08T00:39:03.824531",
     "status": "completed"
    },
    "tags": []
   },
   "outputs": [],
   "source": []
  }
 ],
 "metadata": {
  "kernelspec": {
   "display_name": "Python 3",
   "language": "python",
   "name": "python3"
  },
  "language_info": {
   "codemirror_mode": {
    "name": "ipython",
    "version": 3
   },
   "file_extension": ".py",
   "mimetype": "text/x-python",
   "name": "python",
   "nbconvert_exporter": "python",
   "pygments_lexer": "ipython3",
   "version": "3.6.15"
  },
  "papermill": {
   "default_parameters": {},
   "duration": 97.924352,
   "end_time": "2022-08-08T00:39:04.337986",
   "environment_variables": {},
   "exception": null,
   "input_path": "2020-08-11-part2.ipynb",
   "output_path": "2020-08-11-part2.ipynb",
   "parameters": {},
   "start_time": "2022-08-08T00:37:26.413634",
   "version": "2.3.3"
  }
 },
 "nbformat": 4,
 "nbformat_minor": 5
}