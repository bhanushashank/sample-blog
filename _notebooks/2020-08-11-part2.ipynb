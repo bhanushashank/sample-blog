{
 "cells": [
  {
   "cell_type": "markdown",
   "id": "98380cd3",
   "metadata": {
    "papermill": {
     "duration": 0.028493,
     "end_time": "2022-04-08T00:35:00.113394",
     "exception": false,
     "start_time": "2022-04-08T00:35:00.084901",
     "status": "completed"
    },
    "tags": []
   },
   "source": [
    "# Distinguish Your Own Digits (DYOD)"
   ]
  },
  {
   "cell_type": "markdown",
   "id": "ef31240d",
   "metadata": {
    "papermill": {
     "duration": 0.024943,
     "end_time": "2022-04-08T00:35:00.162650",
     "exception": false,
     "start_time": "2022-04-08T00:35:00.137707",
     "status": "completed"
    },
    "tags": []
   },
   "source": [
    "You are going to write a classifier that distinguishes between the number 3 and number 8."
   ]
  },
  {
   "cell_type": "code",
   "execution_count": 1,
   "id": "b15c8646",
   "metadata": {
    "execution": {
     "iopub.execute_input": "2022-04-08T00:35:00.220098Z",
     "iopub.status.busy": "2022-04-08T00:35:00.219580Z",
     "iopub.status.idle": "2022-04-08T00:35:00.229638Z",
     "shell.execute_reply": "2022-04-08T00:35:00.229191Z"
    },
    "papermill": {
     "duration": 0.043546,
     "end_time": "2022-04-08T00:35:00.229762",
     "exception": false,
     "start_time": "2022-04-08T00:35:00.186216",
     "status": "completed"
    },
    "tags": []
   },
   "outputs": [],
   "source": [
    "%load_ext autoreload\n",
    "%autoreload 2"
   ]
  },
  {
   "cell_type": "code",
   "execution_count": 2,
   "id": "22ef38dc",
   "metadata": {
    "execution": {
     "iopub.execute_input": "2022-04-08T00:35:00.281405Z",
     "iopub.status.busy": "2022-04-08T00:35:00.280890Z",
     "iopub.status.idle": "2022-04-08T00:35:00.868373Z",
     "shell.execute_reply": "2022-04-08T00:35:00.868842Z"
    },
    "papermill": {
     "duration": 0.615437,
     "end_time": "2022-04-08T00:35:00.868982",
     "exception": false,
     "start_time": "2022-04-08T00:35:00.253545",
     "status": "completed"
    },
    "tags": []
   },
   "outputs": [],
   "source": [
    "%matplotlib inline\n",
    "import numpy as np\n",
    "import matplotlib.pyplot as plt\n",
    "import pandas as pd"
   ]
  },
  {
   "cell_type": "markdown",
   "id": "ba036198",
   "metadata": {
    "papermill": {
     "duration": 0.023884,
     "end_time": "2022-04-08T00:35:00.916679",
     "exception": false,
     "start_time": "2022-04-08T00:35:00.892795",
     "status": "completed"
    },
    "tags": []
   },
   "source": [
    "From the command line run `pip install mnist`. This is a library that will help you bring down the mnist dataset. If you run this from a notebook, you need to put  `!pip install mnist` in a cell by itself."
   ]
  },
  {
   "cell_type": "code",
   "execution_count": 3,
   "id": "bb6ad8a1",
   "metadata": {
    "execution": {
     "iopub.execute_input": "2022-04-08T00:35:00.969048Z",
     "iopub.status.busy": "2022-04-08T00:35:00.968518Z",
     "iopub.status.idle": "2022-04-08T00:35:02.625597Z",
     "shell.execute_reply": "2022-04-08T00:35:02.625047Z"
    },
    "papermill": {
     "duration": 1.68502,
     "end_time": "2022-04-08T00:35:02.625732",
     "exception": false,
     "start_time": "2022-04-08T00:35:00.940712",
     "status": "completed"
    },
    "tags": []
   },
   "outputs": [
    {
     "name": "stdout",
     "output_type": "stream",
     "text": [
      "Collecting mnist\r\n"
     ]
    },
    {
     "name": "stdout",
     "output_type": "stream",
     "text": [
      "  Downloading mnist-0.2.2-py2.py3-none-any.whl (3.5 kB)\r\n",
      "Requirement already satisfied: numpy in /opt/hostedtoolcache/Python/3.6.15/x64/lib/python3.6/site-packages (from mnist) (1.19.5)\r\n"
     ]
    },
    {
     "name": "stdout",
     "output_type": "stream",
     "text": [
      "Installing collected packages: mnist\r\n"
     ]
    },
    {
     "name": "stdout",
     "output_type": "stream",
     "text": [
      "Successfully installed mnist-0.2.2\r\n"
     ]
    }
   ],
   "source": [
    "!pip install mnist"
   ]
  },
  {
   "cell_type": "markdown",
   "id": "69df9c9a",
   "metadata": {
    "papermill": {
     "duration": 0.02685,
     "end_time": "2022-04-08T00:35:02.677786",
     "exception": false,
     "start_time": "2022-04-08T00:35:02.650936",
     "status": "completed"
    },
    "tags": []
   },
   "source": [
    "## Preparing the Data"
   ]
  },
  {
   "cell_type": "code",
   "execution_count": 4,
   "id": "7f69d806",
   "metadata": {
    "execution": {
     "iopub.execute_input": "2022-04-08T00:35:02.731545Z",
     "iopub.status.busy": "2022-04-08T00:35:02.731029Z",
     "iopub.status.idle": "2022-04-08T00:35:02.746138Z",
     "shell.execute_reply": "2022-04-08T00:35:02.745725Z"
    },
    "papermill": {
     "duration": 0.043551,
     "end_time": "2022-04-08T00:35:02.746252",
     "exception": false,
     "start_time": "2022-04-08T00:35:02.702701",
     "status": "completed"
    },
    "tags": []
   },
   "outputs": [],
   "source": [
    "import mnist"
   ]
  },
  {
   "cell_type": "code",
   "execution_count": 5,
   "id": "a411e44f",
   "metadata": {
    "execution": {
     "iopub.execute_input": "2022-04-08T00:35:02.801672Z",
     "iopub.status.busy": "2022-04-08T00:35:02.801130Z",
     "iopub.status.idle": "2022-04-08T00:35:04.405208Z",
     "shell.execute_reply": "2022-04-08T00:35:04.404682Z"
    },
    "papermill": {
     "duration": 1.633399,
     "end_time": "2022-04-08T00:35:04.405338",
     "exception": false,
     "start_time": "2022-04-08T00:35:02.771939",
     "status": "completed"
    },
    "tags": []
   },
   "outputs": [],
   "source": [
    "train_images = mnist.train_images()\n",
    "train_labels = mnist.train_labels()"
   ]
  },
  {
   "cell_type": "code",
   "execution_count": 6,
   "id": "dceab3a5",
   "metadata": {
    "execution": {
     "iopub.execute_input": "2022-04-08T00:35:04.469406Z",
     "iopub.status.busy": "2022-04-08T00:35:04.467127Z",
     "iopub.status.idle": "2022-04-08T00:35:04.478510Z",
     "shell.execute_reply": "2022-04-08T00:35:04.478075Z"
    },
    "papermill": {
     "duration": 0.048131,
     "end_time": "2022-04-08T00:35:04.478622",
     "exception": false,
     "start_time": "2022-04-08T00:35:04.430491",
     "status": "completed"
    },
    "tags": []
   },
   "outputs": [
    {
     "data": {
      "text/plain": [
       "((60000, 28, 28), (60000,))"
      ]
     },
     "execution_count": 6,
     "metadata": {},
     "output_type": "execute_result"
    }
   ],
   "source": [
    "train_images.shape, train_labels.shape"
   ]
  },
  {
   "cell_type": "code",
   "execution_count": 7,
   "id": "f50dc2bb",
   "metadata": {
    "execution": {
     "iopub.execute_input": "2022-04-08T00:35:04.533276Z",
     "iopub.status.busy": "2022-04-08T00:35:04.532761Z",
     "iopub.status.idle": "2022-04-08T00:35:04.683942Z",
     "shell.execute_reply": "2022-04-08T00:35:04.684444Z"
    },
    "papermill": {
     "duration": 0.180822,
     "end_time": "2022-04-08T00:35:04.684612",
     "exception": false,
     "start_time": "2022-04-08T00:35:04.503790",
     "status": "completed"
    },
    "tags": []
   },
   "outputs": [],
   "source": [
    "test_images = mnist.test_images()\n",
    "test_labels = mnist.test_labels()"
   ]
  },
  {
   "cell_type": "code",
   "execution_count": 8,
   "id": "fc38cf1b",
   "metadata": {
    "execution": {
     "iopub.execute_input": "2022-04-08T00:35:04.740187Z",
     "iopub.status.busy": "2022-04-08T00:35:04.739677Z",
     "iopub.status.idle": "2022-04-08T00:35:04.753549Z",
     "shell.execute_reply": "2022-04-08T00:35:04.753113Z"
    },
    "papermill": {
     "duration": 0.042743,
     "end_time": "2022-04-08T00:35:04.753659",
     "exception": false,
     "start_time": "2022-04-08T00:35:04.710916",
     "status": "completed"
    },
    "tags": []
   },
   "outputs": [
    {
     "data": {
      "text/plain": [
       "((10000, 28, 28), (10000,))"
      ]
     },
     "execution_count": 8,
     "metadata": {},
     "output_type": "execute_result"
    }
   ],
   "source": [
    "test_images.shape, test_labels.shape"
   ]
  },
  {
   "cell_type": "code",
   "execution_count": 9,
   "id": "f9ed8fe0",
   "metadata": {
    "execution": {
     "iopub.execute_input": "2022-04-08T00:35:04.808897Z",
     "iopub.status.busy": "2022-04-08T00:35:04.808025Z",
     "iopub.status.idle": "2022-04-08T00:35:04.946927Z",
     "shell.execute_reply": "2022-04-08T00:35:04.946470Z"
    },
    "papermill": {
     "duration": 0.167962,
     "end_time": "2022-04-08T00:35:04.947042",
     "exception": false,
     "start_time": "2022-04-08T00:35:04.779080",
     "status": "completed"
    },
    "tags": []
   },
   "outputs": [
    {
     "name": "stdout",
     "output_type": "stream",
     "text": [
      "2\n"
     ]
    },
    {
     "data": {
      "text/plain": [
       "<matplotlib.image.AxesImage at 0x7ff25af31438>"
      ]
     },
     "execution_count": 9,
     "metadata": {},
     "output_type": "execute_result"
    },
    {
     "data": {
      "image/png": "[encoded data removed]",
      "text/plain": [
       "<Figure size 432x288 with 1 Axes>"
      ]
     },
     "metadata": {
      "needs_background": "light"
     },
     "output_type": "display_data"
    }
   ],
   "source": [
    "image_index = 7776 # You may select anything up to 60,000\n",
    "print(train_labels[image_index]) \n",
    "plt.imshow(train_images[image_index], cmap='Greys')"
   ]
  },
  {
   "cell_type": "markdown",
   "id": "a8d2388d",
   "metadata": {
    "papermill": {
     "duration": 0.026614,
     "end_time": "2022-04-08T00:35:05.000354",
     "exception": false,
     "start_time": "2022-04-08T00:35:04.973740",
     "status": "completed"
    },
    "tags": []
   },
   "source": [
    "## Filter data to get 3 and 8 out"
   ]
  },
  {
   "cell_type": "code",
   "execution_count": 10,
   "id": "776f7fc7",
   "metadata": {
    "execution": {
     "iopub.execute_input": "2022-04-08T00:35:05.061380Z",
     "iopub.status.busy": "2022-04-08T00:35:05.056929Z",
     "iopub.status.idle": "2022-04-08T00:35:05.075196Z",
     "shell.execute_reply": "2022-04-08T00:35:05.074754Z"
    },
    "papermill": {
     "duration": 0.048522,
     "end_time": "2022-04-08T00:35:05.075318",
     "exception": false,
     "start_time": "2022-04-08T00:35:05.026796",
     "status": "completed"
    },
    "tags": []
   },
   "outputs": [],
   "source": [
    "train_filter = np.where((train_labels == 3 ) | (train_labels == 8))\n",
    "test_filter = np.where((test_labels == 3) | (test_labels == 8))\n",
    "X_train, y_train = train_images[train_filter], train_labels[train_filter]\n",
    "X_test, y_test = test_images[test_filter], test_labels[test_filter]"
   ]
  },
  {
   "cell_type": "markdown",
   "id": "948f0b7e",
   "metadata": {
    "papermill": {
     "duration": 0.026962,
     "end_time": "2022-04-08T00:35:05.129074",
     "exception": false,
     "start_time": "2022-04-08T00:35:05.102112",
     "status": "completed"
    },
    "tags": []
   },
   "source": [
    "We normalize the pizel values in the 0 to 1 range"
   ]
  },
  {
   "cell_type": "code",
   "execution_count": 11,
   "id": "ee4c2166",
   "metadata": {
    "execution": {
     "iopub.execute_input": "2022-04-08T00:35:05.189645Z",
     "iopub.status.busy": "2022-04-08T00:35:05.189123Z",
     "iopub.status.idle": "2022-04-08T00:35:05.234133Z",
     "shell.execute_reply": "2022-04-08T00:35:05.233625Z"
    },
    "papermill": {
     "duration": 0.078804,
     "end_time": "2022-04-08T00:35:05.234271",
     "exception": false,
     "start_time": "2022-04-08T00:35:05.155467",
     "status": "completed"
    },
    "tags": []
   },
   "outputs": [],
   "source": [
    "X_train = X_train/255.\n",
    "X_test = X_test/255."
   ]
  },
  {
   "cell_type": "markdown",
   "id": "ddcf4fab",
   "metadata": {
    "papermill": {
     "duration": 0.026538,
     "end_time": "2022-04-08T00:35:05.288255",
     "exception": false,
     "start_time": "2022-04-08T00:35:05.261717",
     "status": "completed"
    },
    "tags": []
   },
   "source": [
    "And setup the labels as 1 (when the digit is 3) and 0 (when the digit is 8)"
   ]
  },
  {
   "cell_type": "code",
   "execution_count": 12,
   "id": "7dc908f2",
   "metadata": {
    "execution": {
     "iopub.execute_input": "2022-04-08T00:35:05.344812Z",
     "iopub.status.busy": "2022-04-08T00:35:05.344252Z",
     "iopub.status.idle": "2022-04-08T00:35:05.356696Z",
     "shell.execute_reply": "2022-04-08T00:35:05.357140Z"
    },
    "papermill": {
     "duration": 0.04261,
     "end_time": "2022-04-08T00:35:05.357276",
     "exception": false,
     "start_time": "2022-04-08T00:35:05.314666",
     "status": "completed"
    },
    "tags": []
   },
   "outputs": [],
   "source": [
    "y_train = 1*(y_train==3)\n",
    "y_test = 1*(y_test==3)"
   ]
  },
  {
   "cell_type": "code",
   "execution_count": 13,
   "id": "01e4e969",
   "metadata": {
    "execution": {
     "iopub.execute_input": "2022-04-08T00:35:05.414476Z",
     "iopub.status.busy": "2022-04-08T00:35:05.413963Z",
     "iopub.status.idle": "2022-04-08T00:35:05.427097Z",
     "shell.execute_reply": "2022-04-08T00:35:05.426692Z"
    },
    "papermill": {
     "duration": 0.043562,
     "end_time": "2022-04-08T00:35:05.427205",
     "exception": false,
     "start_time": "2022-04-08T00:35:05.383643",
     "status": "completed"
    },
    "tags": []
   },
   "outputs": [
    {
     "data": {
      "text/plain": [
       "((11982, 28, 28), (1984, 28, 28))"
      ]
     },
     "execution_count": 13,
     "metadata": {},
     "output_type": "execute_result"
    }
   ],
   "source": [
    "X_train.shape, X_test.shape"
   ]
  },
  {
   "cell_type": "markdown",
   "id": "5ccf3f85",
   "metadata": {
    "papermill": {
     "duration": 0.02671,
     "end_time": "2022-04-08T00:35:05.480661",
     "exception": false,
     "start_time": "2022-04-08T00:35:05.453951",
     "status": "completed"
    },
    "tags": []
   },
   "source": [
    "We reshape the data to flatten the image pixels into a set of features or co-variates:"
   ]
  },
  {
   "cell_type": "code",
   "execution_count": 14,
   "id": "5286a4a3",
   "metadata": {
    "execution": {
     "iopub.execute_input": "2022-04-08T00:35:05.552950Z",
     "iopub.status.busy": "2022-04-08T00:35:05.550198Z",
     "iopub.status.idle": "2022-04-08T00:35:05.555926Z",
     "shell.execute_reply": "2022-04-08T00:35:05.555494Z"
    },
    "papermill": {
     "duration": 0.048654,
     "end_time": "2022-04-08T00:35:05.556035",
     "exception": false,
     "start_time": "2022-04-08T00:35:05.507381",
     "status": "completed"
    },
    "tags": []
   },
   "outputs": [
    {
     "data": {
      "text/plain": [
       "((11982, 784), (1984, 784))"
      ]
     },
     "execution_count": 14,
     "metadata": {},
     "output_type": "execute_result"
    }
   ],
   "source": [
    "X_train = X_train.reshape(X_train.shape[0], -1)\n",
    "X_test = X_test.reshape(X_test.shape[0], -1)\n",
    "X_train.shape, X_test.shape"
   ]
  },
  {
   "cell_type": "code",
   "execution_count": 15,
   "id": "73c5f88a",
   "metadata": {
    "execution": {
     "iopub.execute_input": "2022-04-08T00:35:05.628659Z",
     "iopub.status.busy": "2022-04-08T00:35:05.628096Z",
     "iopub.status.idle": "2022-04-08T00:35:05.637279Z",
     "shell.execute_reply": "2022-04-08T00:35:05.637963Z"
    },
    "papermill": {
     "duration": 0.055232,
     "end_time": "2022-04-08T00:35:05.638105",
     "exception": false,
     "start_time": "2022-04-08T00:35:05.582873",
     "status": "completed"
    },
    "tags": []
   },
   "outputs": [],
   "source": [
    "#Impoting functions from 'Kudzu'\n",
    "from kudzu.model import Model\n",
    "from kudzu.train import Learner\n",
    "from kudzu.optim import GD\n",
    "from kudzu.data import Data, Sampler,Dataloader\n",
    "\n",
    "from kudzu.callbacks import AccCallback\n",
    "from kudzu.callbacks import ClfCallback\n",
    "\n",
    "from kudzu.loss import MSE\n",
    "\n",
    "from kudzu.layer import Sigmoid,Relu\n",
    "from kudzu.layer import Affine"
   ]
  },
  {
   "cell_type": "markdown",
   "id": "bc01172a",
   "metadata": {
    "papermill": {
     "duration": 0.027197,
     "end_time": "2022-04-08T00:35:05.692578",
     "exception": false,
     "start_time": "2022-04-08T00:35:05.665381",
     "status": "completed"
    },
    "tags": []
   },
   "source": [
    "### Let us create a `Config` class, to store important parameters. \n",
    "This class essentially plays the role of a dictionary."
   ]
  },
  {
   "cell_type": "code",
   "execution_count": 16,
   "id": "978281aa",
   "metadata": {
    "execution": {
     "iopub.execute_input": "2022-04-08T00:35:05.750669Z",
     "iopub.status.busy": "2022-04-08T00:35:05.750064Z",
     "iopub.status.idle": "2022-04-08T00:35:05.762003Z",
     "shell.execute_reply": "2022-04-08T00:35:05.761575Z"
    },
    "papermill": {
     "duration": 0.042714,
     "end_time": "2022-04-08T00:35:05.762117",
     "exception": false,
     "start_time": "2022-04-08T00:35:05.719403",
     "status": "completed"
    },
    "tags": []
   },
   "outputs": [],
   "source": [
    "class Config:\n",
    "    pass\n",
    "config = Config()\n",
    "config.lr = 0.001\n",
    "config.num_epochs = 250\n",
    "config.bs = 50"
   ]
  },
  {
   "cell_type": "markdown",
   "id": "1385fa59",
   "metadata": {
    "papermill": {
     "duration": 0.027457,
     "end_time": "2022-04-08T00:35:05.816627",
     "exception": false,
     "start_time": "2022-04-08T00:35:05.789170",
     "status": "completed"
    },
    "tags": []
   },
   "source": [
    "### Running Models with the Training data\n",
    "Details about the network layers:\n",
    "- A first affine layer has 784 inputs and does 100 affine transforms. These are followed by a Relu\n",
    "- A second affine layer has 100 inputs from the 100 activations of the past layer, and does 100 affine transforms. These are followed by a Relu\n",
    "- A third affine layer has 100 activations and does 2 affine transformations to create an embedding for visualization. There is no non-linearity here.\n",
    "- A final \"logistic regression\" which has an affine transform from 2 inputs to 1 output, which is squeezed through a sigmoid.\n"
   ]
  },
  {
   "cell_type": "code",
   "execution_count": 17,
   "id": "2b9c66db",
   "metadata": {
    "execution": {
     "iopub.execute_input": "2022-04-08T00:35:05.874825Z",
     "iopub.status.busy": "2022-04-08T00:35:05.874315Z",
     "iopub.status.idle": "2022-04-08T00:35:05.887515Z",
     "shell.execute_reply": "2022-04-08T00:35:05.887103Z"
    },
    "papermill": {
     "duration": 0.043991,
     "end_time": "2022-04-08T00:35:05.887628",
     "exception": false,
     "start_time": "2022-04-08T00:35:05.843637",
     "status": "completed"
    },
    "tags": []
   },
   "outputs": [],
   "source": [
    "data = Data(X_train, y_train.reshape(-1,1))\n",
    "sampler = Sampler(data, config.bs, shuffle=True)\n",
    "\n",
    "dl = Dataloader(data, sampler)\n",
    "\n",
    "opt = GD(config.lr)\n",
    "loss = MSE()"
   ]
  },
  {
   "cell_type": "code",
   "execution_count": 18,
   "id": "b275e4c2",
   "metadata": {
    "execution": {
     "iopub.execute_input": "2022-04-08T00:35:05.945849Z",
     "iopub.status.busy": "2022-04-08T00:35:05.944940Z",
     "iopub.status.idle": "2022-04-08T00:35:05.956766Z",
     "shell.execute_reply": "2022-04-08T00:35:05.956317Z"
    },
    "papermill": {
     "duration": 0.042262,
     "end_time": "2022-04-08T00:35:05.956876",
     "exception": false,
     "start_time": "2022-04-08T00:35:05.914614",
     "status": "completed"
    },
    "tags": []
   },
   "outputs": [],
   "source": [
    "training_data_x = X_train\n",
    "testing_data_x = X_test\n",
    "training_data_y = y_train.reshape(-1,1)\n",
    "testing_data_y = y_test.reshape(-1,1)"
   ]
  },
  {
   "cell_type": "code",
   "execution_count": 19,
   "id": "76951160",
   "metadata": {
    "execution": {
     "iopub.execute_input": "2022-04-08T00:35:06.025385Z",
     "iopub.status.busy": "2022-04-08T00:35:06.016990Z",
     "iopub.status.idle": "2022-04-08T00:35:06.031521Z",
     "shell.execute_reply": "2022-04-08T00:35:06.031112Z"
    },
    "papermill": {
     "duration": 0.047879,
     "end_time": "2022-04-08T00:35:06.031631",
     "exception": false,
     "start_time": "2022-04-08T00:35:05.983752",
     "status": "completed"
    },
    "tags": []
   },
   "outputs": [
    {
     "name": "stdout",
     "output_type": "stream",
     "text": [
      "xavier\n",
      "xavier\n",
      "xavier\n",
      "xavier\n",
      "xavier\n"
     ]
    }
   ],
   "source": [
    "layers = [Affine(\"first\", 784, 100), Relu(\"first\"), Affine(\"second\", 100, 100), Relu(\"second\"), Affine(\"third\", 100, 2), Affine(\"last\", 2, 1), Sigmoid(\"last\")]\n",
    "model_nn = Model(layers)\n",
    "model_lr = Model([Affine(\"logits\", 784, 1), Sigmoid(\"sigmoid\")])"
   ]
  },
  {
   "cell_type": "code",
   "execution_count": 20,
   "id": "6eede77a",
   "metadata": {
    "execution": {
     "iopub.execute_input": "2022-04-08T00:35:06.089723Z",
     "iopub.status.busy": "2022-04-08T00:35:06.089218Z",
     "iopub.status.idle": "2022-04-08T00:35:06.101448Z",
     "shell.execute_reply": "2022-04-08T00:35:06.101045Z"
    },
    "papermill": {
     "duration": 0.042806,
     "end_time": "2022-04-08T00:35:06.101557",
     "exception": false,
     "start_time": "2022-04-08T00:35:06.058751",
     "status": "completed"
    },
    "tags": []
   },
   "outputs": [],
   "source": [
    "nn_learner = Learner(loss, model_nn, opt, config.num_epochs)\n",
    "acc_nn = ClfCallback(nn_learner, config.bs, training_data_x , testing_data_x, training_data_y, testing_data_y)\n",
    "nn_learner.set_callbacks([acc_nn])"
   ]
  },
  {
   "cell_type": "code",
   "execution_count": 21,
   "id": "877b6cc7",
   "metadata": {
    "execution": {
     "iopub.execute_input": "2022-04-08T00:35:06.159918Z",
     "iopub.status.busy": "2022-04-08T00:35:06.159418Z",
     "iopub.status.idle": "2022-04-08T00:35:06.172106Z",
     "shell.execute_reply": "2022-04-08T00:35:06.171690Z"
    },
    "papermill": {
     "duration": 0.0434,
     "end_time": "2022-04-08T00:35:06.172218",
     "exception": false,
     "start_time": "2022-04-08T00:35:06.128818",
     "status": "completed"
    },
    "tags": []
   },
   "outputs": [],
   "source": [
    "lr_learner = Learner(loss, model_lr, opt, config.num_epochs)\n",
    "acc_lr = ClfCallback(lr_learner, config.bs, training_data_x , testing_data_x, training_data_y, testing_data_y)\n",
    "lr_learner.set_callbacks([acc_lr])"
   ]
  },
  {
   "cell_type": "code",
   "execution_count": 22,
   "id": "d9b133c3",
   "metadata": {
    "execution": {
     "iopub.execute_input": "2022-04-08T00:35:06.233151Z",
     "iopub.status.busy": "2022-04-08T00:35:06.232639Z",
     "iopub.status.idle": "2022-04-08T00:36:21.052362Z",
     "shell.execute_reply": "2022-04-08T00:36:21.052869Z"
    },
    "papermill": {
     "duration": 74.853561,
     "end_time": "2022-04-08T00:36:21.053012",
     "exception": false,
     "start_time": "2022-04-08T00:35:06.199451",
     "status": "completed"
    },
    "tags": []
   },
   "outputs": [
    {
     "name": "stdout",
     "output_type": "stream",
     "text": [
      "Epoch 0, Loss 0.2228\n",
      "Training Accuracy: 0.7713, Testing Accuracy: 0.7843\n",
      "\n"
     ]
    },
    {
     "name": "stdout",
     "output_type": "stream",
     "text": [
      "Epoch 10, Loss 0.0669\n",
      "Training Accuracy: 0.9316, Testing Accuracy: 0.9430\n",
      "\n"
     ]
    },
    {
     "name": "stdout",
     "output_type": "stream",
     "text": [
      "Epoch 20, Loss 0.0456\n",
      "Training Accuracy: 0.9513, Testing Accuracy: 0.9556\n",
      "\n"
     ]
    },
    {
     "name": "stdout",
     "output_type": "stream",
     "text": [
      "Epoch 30, Loss 0.0377\n",
      "Training Accuracy: 0.9580, Testing Accuracy: 0.9612\n",
      "\n"
     ]
    },
    {
     "name": "stdout",
     "output_type": "stream",
     "text": [
      "Epoch 40, Loss 0.0335\n",
      "Training Accuracy: 0.9629, Testing Accuracy: 0.9677\n",
      "\n"
     ]
    },
    {
     "name": "stdout",
     "output_type": "stream",
     "text": [
      "Epoch 50, Loss 0.0307\n",
      "Training Accuracy: 0.9656, Testing Accuracy: 0.9703\n",
      "\n"
     ]
    },
    {
     "name": "stdout",
     "output_type": "stream",
     "text": [
      "Epoch 60, Loss 0.0287\n",
      "Training Accuracy: 0.9671, Testing Accuracy: 0.9718\n",
      "\n"
     ]
    },
    {
     "name": "stdout",
     "output_type": "stream",
     "text": [
      "Epoch 70, Loss 0.0271\n",
      "Training Accuracy: 0.9693, Testing Accuracy: 0.9718\n",
      "\n"
     ]
    },
    {
     "name": "stdout",
     "output_type": "stream",
     "text": [
      "Epoch 80, Loss 0.0258\n",
      "Training Accuracy: 0.9708, Testing Accuracy: 0.9733\n",
      "\n"
     ]
    },
    {
     "name": "stdout",
     "output_type": "stream",
     "text": [
      "Epoch 90, Loss 0.0247\n",
      "Training Accuracy: 0.9723, Testing Accuracy: 0.9743\n",
      "\n"
     ]
    },
    {
     "name": "stdout",
     "output_type": "stream",
     "text": [
      "Epoch 100, Loss 0.0238\n",
      "Training Accuracy: 0.9731, Testing Accuracy: 0.9753\n",
      "\n"
     ]
    },
    {
     "name": "stdout",
     "output_type": "stream",
     "text": [
      "Epoch 110, Loss 0.023\n",
      "Training Accuracy: 0.9738, Testing Accuracy: 0.9753\n",
      "\n"
     ]
    },
    {
     "name": "stdout",
     "output_type": "stream",
     "text": [
      "Epoch 120, Loss 0.0222\n",
      "Training Accuracy: 0.9745, Testing Accuracy: 0.9763\n",
      "\n"
     ]
    },
    {
     "name": "stdout",
     "output_type": "stream",
     "text": [
      "Epoch 130, Loss 0.0216\n",
      "Training Accuracy: 0.9750, Testing Accuracy: 0.9768\n",
      "\n"
     ]
    },
    {
     "name": "stdout",
     "output_type": "stream",
     "text": [
      "Epoch 140, Loss 0.021\n",
      "Training Accuracy: 0.9758, Testing Accuracy: 0.9768\n",
      "\n"
     ]
    },
    {
     "name": "stdout",
     "output_type": "stream",
     "text": [
      "Epoch 150, Loss 0.0204\n",
      "Training Accuracy: 0.9768, Testing Accuracy: 0.9778\n",
      "\n"
     ]
    },
    {
     "name": "stdout",
     "output_type": "stream",
     "text": [
      "Epoch 160, Loss 0.0199\n",
      "Training Accuracy: 0.9774, Testing Accuracy: 0.9773\n",
      "\n"
     ]
    },
    {
     "name": "stdout",
     "output_type": "stream",
     "text": [
      "Epoch 170, Loss 0.0194\n",
      "Training Accuracy: 0.9780, Testing Accuracy: 0.9768\n",
      "\n"
     ]
    },
    {
     "name": "stdout",
     "output_type": "stream",
     "text": [
      "Epoch 180, Loss 0.019\n",
      "Training Accuracy: 0.9783, Testing Accuracy: 0.9773\n",
      "\n"
     ]
    },
    {
     "name": "stdout",
     "output_type": "stream",
     "text": [
      "Epoch 190, Loss 0.0185\n",
      "Training Accuracy: 0.9793, Testing Accuracy: 0.9773\n",
      "\n"
     ]
    },
    {
     "name": "stdout",
     "output_type": "stream",
     "text": [
      "Epoch 200, Loss 0.0181\n",
      "Training Accuracy: 0.9794, Testing Accuracy: 0.9773\n",
      "\n"
     ]
    },
    {
     "name": "stdout",
     "output_type": "stream",
     "text": [
      "Epoch 210, Loss 0.0177\n",
      "Training Accuracy: 0.9801, Testing Accuracy: 0.9783\n",
      "\n"
     ]
    },
    {
     "name": "stdout",
     "output_type": "stream",
     "text": [
      "Epoch 220, Loss 0.0173\n",
      "Training Accuracy: 0.9811, Testing Accuracy: 0.9773\n",
      "\n"
     ]
    },
    {
     "name": "stdout",
     "output_type": "stream",
     "text": [
      "Epoch 230, Loss 0.0169\n",
      "Training Accuracy: 0.9816, Testing Accuracy: 0.9778\n",
      "\n"
     ]
    },
    {
     "name": "stdout",
     "output_type": "stream",
     "text": [
      "Epoch 240, Loss 0.0166\n",
      "Training Accuracy: 0.9822, Testing Accuracy: 0.9783\n",
      "\n"
     ]
    },
    {
     "data": {
      "text/plain": [
       "0.005414179483408598"
      ]
     },
     "execution_count": 22,
     "metadata": {},
     "output_type": "execute_result"
    }
   ],
   "source": [
    "nn_learner.train_loop(dl)"
   ]
  },
  {
   "cell_type": "code",
   "execution_count": 23,
   "id": "e0163366",
   "metadata": {
    "execution": {
     "iopub.execute_input": "2022-04-08T00:36:21.125705Z",
     "iopub.status.busy": "2022-04-08T00:36:21.125195Z",
     "iopub.status.idle": "2022-04-08T00:36:34.808716Z",
     "shell.execute_reply": "2022-04-08T00:36:34.809456Z"
    },
    "papermill": {
     "duration": 13.722321,
     "end_time": "2022-04-08T00:36:34.809611",
     "exception": false,
     "start_time": "2022-04-08T00:36:21.087290",
     "status": "completed"
    },
    "tags": []
   },
   "outputs": [
    {
     "name": "stdout",
     "output_type": "stream",
     "text": [
      "Epoch 0, Loss 0.2248\n",
      "Training Accuracy: 0.7686, Testing Accuracy: 0.7928\n",
      "\n"
     ]
    },
    {
     "name": "stdout",
     "output_type": "stream",
     "text": [
      "Epoch 10, Loss 0.1015\n",
      "Training Accuracy: 0.9079, Testing Accuracy: 0.9183\n",
      "\n"
     ]
    },
    {
     "name": "stdout",
     "output_type": "stream",
     "text": [
      "Epoch 20, Loss 0.0788\n",
      "Training Accuracy: 0.9261, Testing Accuracy: 0.9410\n",
      "\n"
     ]
    },
    {
     "name": "stdout",
     "output_type": "stream",
     "text": [
      "Epoch 30, Loss 0.0679\n",
      "Training Accuracy: 0.9338, Testing Accuracy: 0.9491\n",
      "\n"
     ]
    },
    {
     "name": "stdout",
     "output_type": "stream",
     "text": [
      "Epoch 40, Loss 0.0613\n",
      "Training Accuracy: 0.9419, Testing Accuracy: 0.9531\n",
      "\n"
     ]
    },
    {
     "name": "stdout",
     "output_type": "stream",
     "text": [
      "Epoch 50, Loss 0.0568\n",
      "Training Accuracy: 0.9458, Testing Accuracy: 0.9551\n",
      "\n"
     ]
    },
    {
     "name": "stdout",
     "output_type": "stream",
     "text": [
      "Epoch 60, Loss 0.0535\n",
      "Training Accuracy: 0.9483, Testing Accuracy: 0.9582\n",
      "\n"
     ]
    },
    {
     "name": "stdout",
     "output_type": "stream",
     "text": [
      "Epoch 70, Loss 0.0509\n",
      "Training Accuracy: 0.9498, Testing Accuracy: 0.9577\n",
      "\n"
     ]
    },
    {
     "name": "stdout",
     "output_type": "stream",
     "text": [
      "Epoch 80, Loss 0.0489\n",
      "Training Accuracy: 0.9515, Testing Accuracy: 0.9602\n",
      "\n"
     ]
    },
    {
     "name": "stdout",
     "output_type": "stream",
     "text": [
      "Epoch 90, Loss 0.0472\n",
      "Training Accuracy: 0.9527, Testing Accuracy: 0.9617\n",
      "\n"
     ]
    },
    {
     "name": "stdout",
     "output_type": "stream",
     "text": [
      "Epoch 100, Loss 0.0458\n",
      "Training Accuracy: 0.9538, Testing Accuracy: 0.9632\n",
      "\n"
     ]
    },
    {
     "name": "stdout",
     "output_type": "stream",
     "text": [
      "Epoch 110, Loss 0.0446\n",
      "Training Accuracy: 0.9547, Testing Accuracy: 0.9632\n",
      "\n"
     ]
    },
    {
     "name": "stdout",
     "output_type": "stream",
     "text": [
      "Epoch 120, Loss 0.0436\n",
      "Training Accuracy: 0.9558, Testing Accuracy: 0.9632\n",
      "\n"
     ]
    },
    {
     "name": "stdout",
     "output_type": "stream",
     "text": [
      "Epoch 130, Loss 0.0426\n",
      "Training Accuracy: 0.9569, Testing Accuracy: 0.9642\n",
      "\n"
     ]
    },
    {
     "name": "stdout",
     "output_type": "stream",
     "text": [
      "Epoch 140, Loss 0.0418\n",
      "Training Accuracy: 0.9570, Testing Accuracy: 0.9647\n",
      "\n"
     ]
    },
    {
     "name": "stdout",
     "output_type": "stream",
     "text": [
      "Epoch 150, Loss 0.0411\n",
      "Training Accuracy: 0.9573, Testing Accuracy: 0.9647\n",
      "\n"
     ]
    },
    {
     "name": "stdout",
     "output_type": "stream",
     "text": [
      "Epoch 160, Loss 0.0404\n",
      "Training Accuracy: 0.9576, Testing Accuracy: 0.9647\n",
      "\n"
     ]
    },
    {
     "name": "stdout",
     "output_type": "stream",
     "text": [
      "Epoch 170, Loss 0.0398\n",
      "Training Accuracy: 0.9581, Testing Accuracy: 0.9657\n",
      "\n"
     ]
    },
    {
     "name": "stdout",
     "output_type": "stream",
     "text": [
      "Epoch 180, Loss 0.0393\n",
      "Training Accuracy: 0.9589, Testing Accuracy: 0.9667\n",
      "\n"
     ]
    },
    {
     "name": "stdout",
     "output_type": "stream",
     "text": [
      "Epoch 190, Loss 0.0388\n",
      "Training Accuracy: 0.9590, Testing Accuracy: 0.9667\n",
      "\n"
     ]
    },
    {
     "name": "stdout",
     "output_type": "stream",
     "text": [
      "Epoch 200, Loss 0.0383\n",
      "Training Accuracy: 0.9594, Testing Accuracy: 0.9672\n",
      "\n"
     ]
    },
    {
     "name": "stdout",
     "output_type": "stream",
     "text": [
      "Epoch 210, Loss 0.0379\n",
      "Training Accuracy: 0.9599, Testing Accuracy: 0.9672\n",
      "\n"
     ]
    },
    {
     "name": "stdout",
     "output_type": "stream",
     "text": [
      "Epoch 220, Loss 0.0374\n",
      "Training Accuracy: 0.9603, Testing Accuracy: 0.9672\n",
      "\n"
     ]
    },
    {
     "name": "stdout",
     "output_type": "stream",
     "text": [
      "Epoch 230, Loss 0.0371\n",
      "Training Accuracy: 0.9604, Testing Accuracy: 0.9672\n",
      "\n"
     ]
    },
    {
     "name": "stdout",
     "output_type": "stream",
     "text": [
      "Epoch 240, Loss 0.0367\n",
      "Training Accuracy: 0.9604, Testing Accuracy: 0.9682\n",
      "\n"
     ]
    },
    {
     "data": {
      "text/plain": [
       "0.03018926820893667"
      ]
     },
     "execution_count": 23,
     "metadata": {},
     "output_type": "execute_result"
    }
   ],
   "source": [
    "lr_learner.train_loop(dl)"
   ]
  },
  {
   "cell_type": "code",
   "execution_count": 24,
   "id": "ca410940",
   "metadata": {
    "execution": {
     "iopub.execute_input": "2022-04-08T00:36:34.901561Z",
     "iopub.status.busy": "2022-04-08T00:36:34.901023Z",
     "iopub.status.idle": "2022-04-08T00:36:35.118366Z",
     "shell.execute_reply": "2022-04-08T00:36:35.119077Z"
    },
    "papermill": {
     "duration": 0.268101,
     "end_time": "2022-04-08T00:36:35.119229",
     "exception": false,
     "start_time": "2022-04-08T00:36:34.851128",
     "status": "completed"
    },
    "tags": []
   },
   "outputs": [
    {
     "data": {
      "text/plain": [
       "<matplotlib.legend.Legend at 0x7ff25ab0eb70>"
      ]
     },
     "execution_count": 24,
     "metadata": {},
     "output_type": "execute_result"
    },
    {
     "data": {
      "image/png": "[encoded data removed]",
      "text/plain": [
       "<Figure size 1080x720 with 1 Axes>"
      ]
     },
     "metadata": {
      "needs_background": "light"
     },
     "output_type": "display_data"
    }
   ],
   "source": [
    "#comparing the results of NN and LR\n",
    "plt.figure(figsize=(15,10))\n",
    "\n",
    "# Neural Network plots\n",
    "plt.plot(acc_nn.accuracies, 'r-', label = \"Training Accuracies - NN\")\n",
    "plt.plot(acc_nn.test_accuracies, 'g-', label = \"Testing Accuracies - NN\")\n",
    "\n",
    "# Logistic Regression plots\n",
    "plt.plot(acc_lr.accuracies, 'k-', label = \"Training Accuracies - LR\")\n",
    "plt.plot(acc_lr.test_accuracies, 'b-', label = \"Testing Accuracies - LR\")\n",
    "plt.legend()"
   ]
  },
  {
   "cell_type": "markdown",
   "id": "80dfb35c",
   "metadata": {
    "papermill": {
     "duration": 0.042456,
     "end_time": "2022-04-08T00:36:35.204269",
     "exception": false,
     "start_time": "2022-04-08T00:36:35.161813",
     "status": "completed"
    },
    "tags": []
   },
   "source": [
    "#### Plotting the outputs of this layer of the NN.\n"
   ]
  },
  {
   "cell_type": "code",
   "execution_count": 25,
   "id": "45eb2ff5",
   "metadata": {
    "execution": {
     "iopub.execute_input": "2022-04-08T00:36:35.293611Z",
     "iopub.status.busy": "2022-04-08T00:36:35.293069Z",
     "iopub.status.idle": "2022-04-08T00:36:35.312766Z",
     "shell.execute_reply": "2022-04-08T00:36:35.313213Z"
    },
    "papermill": {
     "duration": 0.066761,
     "end_time": "2022-04-08T00:36:35.313357",
     "exception": false,
     "start_time": "2022-04-08T00:36:35.246596",
     "status": "completed"
    },
    "tags": []
   },
   "outputs": [],
   "source": [
    "new_model = Model(layers[:-2])\n",
    "testing_plot = new_model(testing_data_x)"
   ]
  },
  {
   "cell_type": "code",
   "execution_count": 26,
   "id": "4c0a5485",
   "metadata": {
    "execution": {
     "iopub.execute_input": "2022-04-08T00:36:35.405234Z",
     "iopub.status.busy": "2022-04-08T00:36:35.403291Z",
     "iopub.status.idle": "2022-04-08T00:36:35.605167Z",
     "shell.execute_reply": "2022-04-08T00:36:35.605582Z"
    },
    "papermill": {
     "duration": 0.24965,
     "end_time": "2022-04-08T00:36:35.605725",
     "exception": false,
     "start_time": "2022-04-08T00:36:35.356075",
     "status": "completed"
    },
    "tags": []
   },
   "outputs": [
    {
     "data": {
      "text/plain": [
       "Text(0.5, 1.0, 'Outputs')"
      ]
     },
     "execution_count": 26,
     "metadata": {},
     "output_type": "execute_result"
    },
    {
     "data": {
      "image/png": "[encoded data removed]",
      "text/plain": [
       "<Figure size 576x504 with 1 Axes>"
      ]
     },
     "metadata": {
      "needs_background": "light"
     },
     "output_type": "display_data"
    }
   ],
   "source": [
    "# Plotting the scatter plot of points and color coding by class\n",
    "plt.figure(figsize=(8,7))\n",
    "plt.scatter(testing_plot[:,0], testing_plot[:,1], alpha = 0.1, c = y_test.ravel());\n",
    "plt.title('Outputs')"
   ]
  },
  {
   "cell_type": "markdown",
   "id": "a74fcf8f",
   "metadata": {
    "papermill": {
     "duration": 0.044613,
     "end_time": "2022-04-08T00:36:35.694946",
     "exception": false,
     "start_time": "2022-04-08T00:36:35.650333",
     "status": "completed"
    },
    "tags": []
   },
   "source": [
    "Probability contours"
   ]
  },
  {
   "cell_type": "code",
   "execution_count": 27,
   "id": "d0afc8e3",
   "metadata": {
    "execution": {
     "iopub.execute_input": "2022-04-08T00:36:35.790494Z",
     "iopub.status.busy": "2022-04-08T00:36:35.789639Z",
     "iopub.status.idle": "2022-04-08T00:36:35.799951Z",
     "shell.execute_reply": "2022-04-08T00:36:35.800363Z"
    },
    "papermill": {
     "duration": 0.060966,
     "end_time": "2022-04-08T00:36:35.800505",
     "exception": false,
     "start_time": "2022-04-08T00:36:35.739539",
     "status": "completed"
    },
    "tags": []
   },
   "outputs": [],
   "source": [
    "model_prob = Model(layers[-2:]) "
   ]
  },
  {
   "cell_type": "code",
   "execution_count": 28,
   "id": "9b96e238",
   "metadata": {
    "execution": {
     "iopub.execute_input": "2022-04-08T00:36:35.934223Z",
     "iopub.status.busy": "2022-04-08T00:36:35.932422Z",
     "iopub.status.idle": "2022-04-08T00:36:35.940406Z",
     "shell.execute_reply": "2022-04-08T00:36:35.940787Z"
    },
    "papermill": {
     "duration": 0.068004,
     "end_time": "2022-04-08T00:36:35.940925",
     "exception": false,
     "start_time": "2022-04-08T00:36:35.872921",
     "status": "completed"
    },
    "tags": []
   },
   "outputs": [],
   "source": [
    "#creating the x and y ranges according to the above generated plot.\n",
    "x_range = np.linspace(-4, 1, 100) \n",
    "y_range = np.linspace(-6, 6, 100) \n",
    "x_grid, y_grid = np.meshgrid(x_range, y_range) # x_grid and y_grig are of size 100 X 100\n",
    "\n",
    "# converting x_grid and y_grid to continuous arrays\n",
    "x_gridflat = np.ravel(x_grid)\n",
    "y_gridflat = np.ravel(y_grid)\n",
    "\n",
    "# The last layer of the current model takes two columns as input. Hence transpose of np.vstack() is required.\n",
    "X = np.vstack((x_gridflat, y_gridflat)).T\n",
    "\n",
    "prob_contour = model_prob(X).reshape(100,100) "
   ]
  },
  {
   "cell_type": "code",
   "execution_count": 29,
   "id": "da72499a",
   "metadata": {
    "execution": {
     "iopub.execute_input": "2022-04-08T00:36:36.034475Z",
     "iopub.status.busy": "2022-04-08T00:36:36.033963Z",
     "iopub.status.idle": "2022-04-08T00:36:36.275185Z",
     "shell.execute_reply": "2022-04-08T00:36:36.274757Z"
    },
    "papermill": {
     "duration": 0.289803,
     "end_time": "2022-04-08T00:36:36.275303",
     "exception": false,
     "start_time": "2022-04-08T00:36:35.985500",
     "status": "completed"
    },
    "tags": []
   },
   "outputs": [
    {
     "data": {
      "image/png": "[encoded data removed]",
      "text/plain": [
       "<Figure size 720x648 with 1 Axes>"
      ]
     },
     "metadata": {
      "needs_background": "light"
     },
     "output_type": "display_data"
    }
   ],
   "source": [
    "plt.figure(figsize=(10,9))\n",
    "plt.scatter(testing_plot[:,0], testing_plot[:,1], alpha = 0.1, c = y_test.ravel())\n",
    "contours = plt.contour(x_grid,y_grid,prob_contour)\n",
    "plt.title('Probability Contours')\n",
    "plt.clabel(contours, inline = True );"
   ]
  },
  {
   "cell_type": "code",
   "execution_count": null,
   "id": "e81b4ac7",
   "metadata": {
    "papermill": {
     "duration": 0.047082,
     "end_time": "2022-04-08T00:36:36.370834",
     "exception": false,
     "start_time": "2022-04-08T00:36:36.323752",
     "status": "completed"
    },
    "tags": []
   },
   "outputs": [],
   "source": []
  }
 ],
 "metadata": {
  "kernelspec": {
   "display_name": "Python 3",
   "language": "python",
   "name": "python3"
  },
  "language_info": {
   "codemirror_mode": {
    "name": "ipython",
    "version": 3
   },
   "file_extension": ".py",
   "mimetype": "text/x-python",
   "name": "python",
   "nbconvert_exporter": "python",
   "pygments_lexer": "ipython3",
   "version": "3.6.15"
  },
  "papermill": {
   "default_parameters": {},
   "duration": 97.683532,
   "end_time": "2022-04-08T00:36:36.836383",
   "environment_variables": {},
   "exception": null,
   "input_path": "2020-08-11-part2.ipynb",
   "output_path": "2020-08-11-part2.ipynb",
   "parameters": {},
   "start_time": "2022-04-08T00:34:59.152851",
   "version": "2.3.3"
  }
 },
 "nbformat": 4,
 "nbformat_minor": 5
}