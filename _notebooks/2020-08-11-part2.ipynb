{
 "cells": [
  {
   "cell_type": "markdown",
   "id": "98380cd3",
   "metadata": {
    "papermill": {
     "duration": 0.030566,
     "end_time": "2022-11-03T20:10:01.259247",
     "exception": false,
     "start_time": "2022-11-03T20:10:01.228681",
     "status": "completed"
    },
    "tags": []
   },
   "source": [
    "# Distinguish Your Own Digits (DYOD)"
   ]
  },
  {
   "cell_type": "markdown",
   "id": "ef31240d",
   "metadata": {
    "papermill": {
     "duration": 0.024031,
     "end_time": "2022-11-03T20:10:01.308422",
     "exception": false,
     "start_time": "2022-11-03T20:10:01.284391",
     "status": "completed"
    },
    "tags": []
   },
   "source": [
    "You are going to write a classifier that distinguishes between the number 3 and number 8."
   ]
  },
  {
   "cell_type": "code",
   "execution_count": 1,
   "id": "b15c8646",
   "metadata": {
    "execution": {
     "iopub.execute_input": "2022-11-03T20:10:01.368350Z",
     "iopub.status.busy": "2022-11-03T20:10:01.367517Z",
     "iopub.status.idle": "2022-11-03T20:10:01.379218Z",
     "shell.execute_reply": "2022-11-03T20:10:01.378736Z"
    },
    "papermill": {
     "duration": 0.045862,
     "end_time": "2022-11-03T20:10:01.379334",
     "exception": false,
     "start_time": "2022-11-03T20:10:01.333472",
     "status": "completed"
    },
    "tags": []
   },
   "outputs": [],
   "source": [
    "%load_ext autoreload\n",
    "%autoreload 2"
   ]
  },
  {
   "cell_type": "code",
   "execution_count": 2,
   "id": "22ef38dc",
   "metadata": {
    "execution": {
     "iopub.execute_input": "2022-11-03T20:10:01.436431Z",
     "iopub.status.busy": "2022-11-03T20:10:01.435673Z",
     "iopub.status.idle": "2022-11-03T20:10:01.997098Z",
     "shell.execute_reply": "2022-11-03T20:10:01.996473Z"
    },
    "papermill": {
     "duration": 0.592907,
     "end_time": "2022-11-03T20:10:01.997418",
     "exception": false,
     "start_time": "2022-11-03T20:10:01.404511",
     "status": "completed"
    },
    "tags": []
   },
   "outputs": [],
   "source": [
    "%matplotlib inline\n",
    "import numpy as np\n",
    "import matplotlib.pyplot as plt\n",
    "import pandas as pd"
   ]
  },
  {
   "cell_type": "markdown",
   "id": "ba036198",
   "metadata": {
    "papermill": {
     "duration": 0.027539,
     "end_time": "2022-11-03T20:10:02.055789",
     "exception": false,
     "start_time": "2022-11-03T20:10:02.028250",
     "status": "completed"
    },
    "tags": []
   },
   "source": [
    "From the command line run `pip install mnist`. This is a library that will help you bring down the mnist dataset. If you run this from a notebook, you need to put  `!pip install mnist` in a cell by itself."
   ]
  },
  {
   "cell_type": "code",
   "execution_count": 3,
   "id": "bb6ad8a1",
   "metadata": {
    "execution": {
     "iopub.execute_input": "2022-11-03T20:10:02.120101Z",
     "iopub.status.busy": "2022-11-03T20:10:02.118947Z",
     "iopub.status.idle": "2022-11-03T20:10:03.922203Z",
     "shell.execute_reply": "2022-11-03T20:10:03.921415Z"
    },
    "papermill": {
     "duration": 1.841758,
     "end_time": "2022-11-03T20:10:03.922354",
     "exception": false,
     "start_time": "2022-11-03T20:10:02.080596",
     "status": "completed"
    },
    "tags": []
   },
   "outputs": [
    {
     "name": "stdout",
     "output_type": "stream",
     "text": [
      "Collecting mnist\r\n"
     ]
    },
    {
     "name": "stdout",
     "output_type": "stream",
     "text": [
      "  Downloading mnist-0.2.2-py2.py3-none-any.whl (3.5 kB)\r\n",
      "Requirement already satisfied: numpy in /opt/hostedtoolcache/Python/3.6.15/x64/lib/python3.6/site-packages (from mnist) (1.19.5)\r\n"
     ]
    },
    {
     "name": "stdout",
     "output_type": "stream",
     "text": [
      "Installing collected packages: mnist\r\n"
     ]
    },
    {
     "name": "stdout",
     "output_type": "stream",
     "text": [
      "Successfully installed mnist-0.2.2\r\n"
     ]
    }
   ],
   "source": [
    "!pip install mnist"
   ]
  },
  {
   "cell_type": "markdown",
   "id": "69df9c9a",
   "metadata": {
    "papermill": {
     "duration": 0.03324,
     "end_time": "2022-11-03T20:10:03.988838",
     "exception": false,
     "start_time": "2022-11-03T20:10:03.955598",
     "status": "completed"
    },
    "tags": []
   },
   "source": [
    "## Preparing the Data"
   ]
  },
  {
   "cell_type": "code",
   "execution_count": 4,
   "id": "7f69d806",
   "metadata": {
    "execution": {
     "iopub.execute_input": "2022-11-03T20:10:04.049279Z",
     "iopub.status.busy": "2022-11-03T20:10:04.048629Z",
     "iopub.status.idle": "2022-11-03T20:10:04.062632Z",
     "shell.execute_reply": "2022-11-03T20:10:04.063308Z"
    },
    "papermill": {
     "duration": 0.046044,
     "end_time": "2022-11-03T20:10:04.063419",
     "exception": false,
     "start_time": "2022-11-03T20:10:04.017375",
     "status": "completed"
    },
    "tags": []
   },
   "outputs": [],
   "source": [
    "import mnist"
   ]
  },
  {
   "cell_type": "code",
   "execution_count": 5,
   "id": "a411e44f",
   "metadata": {
    "execution": {
     "iopub.execute_input": "2022-11-03T20:10:04.119328Z",
     "iopub.status.busy": "2022-11-03T20:10:04.118726Z",
     "iopub.status.idle": "2022-11-03T20:10:04.810465Z",
     "shell.execute_reply": "2022-11-03T20:10:04.809937Z"
    },
    "papermill": {
     "duration": 0.720803,
     "end_time": "2022-11-03T20:10:04.810588",
     "exception": false,
     "start_time": "2022-11-03T20:10:04.089785",
     "status": "completed"
    },
    "tags": []
   },
   "outputs": [],
   "source": [
    "train_images = mnist.train_images()\n",
    "train_labels = mnist.train_labels()"
   ]
  },
  {
   "cell_type": "code",
   "execution_count": 6,
   "id": "dceab3a5",
   "metadata": {
    "execution": {
     "iopub.execute_input": "2022-11-03T20:10:04.870801Z",
     "iopub.status.busy": "2022-11-03T20:10:04.870183Z",
     "iopub.status.idle": "2022-11-03T20:10:04.886206Z",
     "shell.execute_reply": "2022-11-03T20:10:04.885381Z"
    },
    "papermill": {
     "duration": 0.048111,
     "end_time": "2022-11-03T20:10:04.886309",
     "exception": false,
     "start_time": "2022-11-03T20:10:04.838198",
     "status": "completed"
    },
    "tags": []
   },
   "outputs": [
    {
     "data": {
      "text/plain": [
       "((60000, 28, 28), (60000,))"
      ]
     },
     "execution_count": 6,
     "metadata": {},
     "output_type": "execute_result"
    }
   ],
   "source": [
    "train_images.shape, train_labels.shape"
   ]
  },
  {
   "cell_type": "code",
   "execution_count": 7,
   "id": "f50dc2bb",
   "metadata": {
    "execution": {
     "iopub.execute_input": "2022-11-03T20:10:04.944313Z",
     "iopub.status.busy": "2022-11-03T20:10:04.943534Z",
     "iopub.status.idle": "2022-11-03T20:10:05.225868Z",
     "shell.execute_reply": "2022-11-03T20:10:05.224666Z"
    },
    "papermill": {
     "duration": 0.313323,
     "end_time": "2022-11-03T20:10:05.226036",
     "exception": false,
     "start_time": "2022-11-03T20:10:04.912713",
     "status": "completed"
    },
    "tags": []
   },
   "outputs": [],
   "source": [
    "test_images = mnist.test_images()\n",
    "test_labels = mnist.test_labels()"
   ]
  },
  {
   "cell_type": "code",
   "execution_count": 8,
   "id": "fc38cf1b",
   "metadata": {
    "execution": {
     "iopub.execute_input": "2022-11-03T20:10:05.284689Z",
     "iopub.status.busy": "2022-11-03T20:10:05.284090Z",
     "iopub.status.idle": "2022-11-03T20:10:05.297892Z",
     "shell.execute_reply": "2022-11-03T20:10:05.297103Z"
    },
    "papermill": {
     "duration": 0.044464,
     "end_time": "2022-11-03T20:10:05.298012",
     "exception": false,
     "start_time": "2022-11-03T20:10:05.253548",
     "status": "completed"
    },
    "tags": []
   },
   "outputs": [
    {
     "data": {
      "text/plain": [
       "((10000, 28, 28), (10000,))"
      ]
     },
     "execution_count": 8,
     "metadata": {},
     "output_type": "execute_result"
    }
   ],
   "source": [
    "test_images.shape, test_labels.shape"
   ]
  },
  {
   "cell_type": "code",
   "execution_count": 9,
   "id": "f9ed8fe0",
   "metadata": {
    "execution": {
     "iopub.execute_input": "2022-11-03T20:10:05.358289Z",
     "iopub.status.busy": "2022-11-03T20:10:05.357681Z",
     "iopub.status.idle": "2022-11-03T20:10:05.536839Z",
     "shell.execute_reply": "2022-11-03T20:10:05.536223Z"
    },
    "papermill": {
     "duration": 0.211714,
     "end_time": "2022-11-03T20:10:05.536955",
     "exception": false,
     "start_time": "2022-11-03T20:10:05.325241",
     "status": "completed"
    },
    "tags": []
   },
   "outputs": [
    {
     "name": "stdout",
     "output_type": "stream",
     "text": [
      "2\n"
     ]
    },
    {
     "data": {
      "text/plain": [
       "<matplotlib.image.AxesImage at 0x7fc9478d2cf8>"
      ]
     },
     "execution_count": 9,
     "metadata": {},
     "output_type": "execute_result"
    },
    {
     "data": {
      "image/png": "[encoded data removed]",
      "text/plain": [
       "<Figure size 432x288 with 1 Axes>"
      ]
     },
     "metadata": {
      "needs_background": "light"
     },
     "output_type": "display_data"
    }
   ],
   "source": [
    "image_index = 7776 # You may select anything up to 60,000\n",
    "print(train_labels[image_index]) \n",
    "plt.imshow(train_images[image_index], cmap='Greys')"
   ]
  },
  {
   "cell_type": "markdown",
   "id": "a8d2388d",
   "metadata": {
    "papermill": {
     "duration": 0.028652,
     "end_time": "2022-11-03T20:10:05.597401",
     "exception": false,
     "start_time": "2022-11-03T20:10:05.568749",
     "status": "completed"
    },
    "tags": []
   },
   "source": [
    "## Filter data to get 3 and 8 out"
   ]
  },
  {
   "cell_type": "code",
   "execution_count": 10,
   "id": "776f7fc7",
   "metadata": {
    "execution": {
     "iopub.execute_input": "2022-11-03T20:10:05.662807Z",
     "iopub.status.busy": "2022-11-03T20:10:05.661919Z",
     "iopub.status.idle": "2022-11-03T20:10:05.680261Z",
     "shell.execute_reply": "2022-11-03T20:10:05.680903Z"
    },
    "papermill": {
     "duration": 0.054272,
     "end_time": "2022-11-03T20:10:05.681060",
     "exception": false,
     "start_time": "2022-11-03T20:10:05.626788",
     "status": "completed"
    },
    "tags": []
   },
   "outputs": [],
   "source": [
    "train_filter = np.where((train_labels == 3 ) | (train_labels == 8))\n",
    "test_filter = np.where((test_labels == 3) | (test_labels == 8))\n",
    "X_train, y_train = train_images[train_filter], train_labels[train_filter]\n",
    "X_test, y_test = test_images[test_filter], test_labels[test_filter]"
   ]
  },
  {
   "cell_type": "markdown",
   "id": "948f0b7e",
   "metadata": {
    "papermill": {
     "duration": 0.033146,
     "end_time": "2022-11-03T20:10:05.747075",
     "exception": false,
     "start_time": "2022-11-03T20:10:05.713929",
     "status": "completed"
    },
    "tags": []
   },
   "source": [
    "We normalize the pizel values in the 0 to 1 range"
   ]
  },
  {
   "cell_type": "code",
   "execution_count": 11,
   "id": "ee4c2166",
   "metadata": {
    "execution": {
     "iopub.execute_input": "2022-11-03T20:10:05.823688Z",
     "iopub.status.busy": "2022-11-03T20:10:05.816249Z",
     "iopub.status.idle": "2022-11-03T20:10:05.874857Z",
     "shell.execute_reply": "2022-11-03T20:10:05.874119Z"
    },
    "papermill": {
     "duration": 0.098006,
     "end_time": "2022-11-03T20:10:05.875049",
     "exception": false,
     "start_time": "2022-11-03T20:10:05.777043",
     "status": "completed"
    },
    "tags": []
   },
   "outputs": [],
   "source": [
    "X_train = X_train/255.\n",
    "X_test = X_test/255."
   ]
  },
  {
   "cell_type": "markdown",
   "id": "ddcf4fab",
   "metadata": {
    "papermill": {
     "duration": 0.035947,
     "end_time": "2022-11-03T20:10:05.946409",
     "exception": false,
     "start_time": "2022-11-03T20:10:05.910462",
     "status": "completed"
    },
    "tags": []
   },
   "source": [
    "And setup the labels as 1 (when the digit is 3) and 0 (when the digit is 8)"
   ]
  },
  {
   "cell_type": "code",
   "execution_count": 12,
   "id": "7dc908f2",
   "metadata": {
    "execution": {
     "iopub.execute_input": "2022-11-03T20:10:06.020345Z",
     "iopub.status.busy": "2022-11-03T20:10:06.019632Z",
     "iopub.status.idle": "2022-11-03T20:10:06.034635Z",
     "shell.execute_reply": "2022-11-03T20:10:06.033933Z"
    },
    "papermill": {
     "duration": 0.053788,
     "end_time": "2022-11-03T20:10:06.034771",
     "exception": false,
     "start_time": "2022-11-03T20:10:05.980983",
     "status": "completed"
    },
    "tags": []
   },
   "outputs": [],
   "source": [
    "y_train = 1*(y_train==3)\n",
    "y_test = 1*(y_test==3)"
   ]
  },
  {
   "cell_type": "code",
   "execution_count": 13,
   "id": "01e4e969",
   "metadata": {
    "execution": {
     "iopub.execute_input": "2022-11-03T20:10:06.110572Z",
     "iopub.status.busy": "2022-11-03T20:10:06.109730Z",
     "iopub.status.idle": "2022-11-03T20:10:06.126467Z",
     "shell.execute_reply": "2022-11-03T20:10:06.127121Z"
    },
    "papermill": {
     "duration": 0.057427,
     "end_time": "2022-11-03T20:10:06.127276",
     "exception": false,
     "start_time": "2022-11-03T20:10:06.069849",
     "status": "completed"
    },
    "tags": []
   },
   "outputs": [
    {
     "data": {
      "text/plain": [
       "((11982, 28, 28), (1984, 28, 28))"
      ]
     },
     "execution_count": 13,
     "metadata": {},
     "output_type": "execute_result"
    }
   ],
   "source": [
    "X_train.shape, X_test.shape"
   ]
  },
  {
   "cell_type": "markdown",
   "id": "5ccf3f85",
   "metadata": {
    "papermill": {
     "duration": 0.034423,
     "end_time": "2022-11-03T20:10:06.196187",
     "exception": false,
     "start_time": "2022-11-03T20:10:06.161764",
     "status": "completed"
    },
    "tags": []
   },
   "source": [
    "We reshape the data to flatten the image pixels into a set of features or co-variates:"
   ]
  },
  {
   "cell_type": "code",
   "execution_count": 14,
   "id": "5286a4a3",
   "metadata": {
    "execution": {
     "iopub.execute_input": "2022-11-03T20:10:06.261931Z",
     "iopub.status.busy": "2022-11-03T20:10:06.261063Z",
     "iopub.status.idle": "2022-11-03T20:10:06.274970Z",
     "shell.execute_reply": "2022-11-03T20:10:06.275580Z"
    },
    "papermill": {
     "duration": 0.050215,
     "end_time": "2022-11-03T20:10:06.275700",
     "exception": false,
     "start_time": "2022-11-03T20:10:06.225485",
     "status": "completed"
    },
    "tags": []
   },
   "outputs": [
    {
     "data": {
      "text/plain": [
       "((11982, 784), (1984, 784))"
      ]
     },
     "execution_count": 14,
     "metadata": {},
     "output_type": "execute_result"
    }
   ],
   "source": [
    "X_train = X_train.reshape(X_train.shape[0], -1)\n",
    "X_test = X_test.reshape(X_test.shape[0], -1)\n",
    "X_train.shape, X_test.shape"
   ]
  },
  {
   "cell_type": "code",
   "execution_count": 15,
   "id": "73c5f88a",
   "metadata": {
    "execution": {
     "iopub.execute_input": "2022-11-03T20:10:06.337498Z",
     "iopub.status.busy": "2022-11-03T20:10:06.336865Z",
     "iopub.status.idle": "2022-11-03T20:10:06.354348Z",
     "shell.execute_reply": "2022-11-03T20:10:06.353862Z"
    },
    "papermill": {
     "duration": 0.04965,
     "end_time": "2022-11-03T20:10:06.354448",
     "exception": false,
     "start_time": "2022-11-03T20:10:06.304798",
     "status": "completed"
    },
    "tags": []
   },
   "outputs": [],
   "source": [
    "#Impoting functions from 'Kudzu'\n",
    "from kudzu.model import Model\n",
    "from kudzu.train import Learner\n",
    "from kudzu.optim import GD\n",
    "from kudzu.data import Data, Sampler,Dataloader\n",
    "\n",
    "from kudzu.callbacks import AccCallback\n",
    "from kudzu.callbacks import ClfCallback\n",
    "\n",
    "from kudzu.loss import MSE\n",
    "\n",
    "from kudzu.layer import Sigmoid,Relu\n",
    "from kudzu.layer import Affine"
   ]
  },
  {
   "cell_type": "markdown",
   "id": "bc01172a",
   "metadata": {
    "papermill": {
     "duration": 0.027574,
     "end_time": "2022-11-03T20:10:06.410740",
     "exception": false,
     "start_time": "2022-11-03T20:10:06.383166",
     "status": "completed"
    },
    "tags": []
   },
   "source": [
    "### Let us create a `Config` class, to store important parameters. \n",
    "This class essentially plays the role of a dictionary."
   ]
  },
  {
   "cell_type": "code",
   "execution_count": 16,
   "id": "978281aa",
   "metadata": {
    "execution": {
     "iopub.execute_input": "2022-11-03T20:10:06.469520Z",
     "iopub.status.busy": "2022-11-03T20:10:06.468891Z",
     "iopub.status.idle": "2022-11-03T20:10:06.480199Z",
     "shell.execute_reply": "2022-11-03T20:10:06.480664Z"
    },
    "papermill": {
     "duration": 0.042304,
     "end_time": "2022-11-03T20:10:06.480775",
     "exception": false,
     "start_time": "2022-11-03T20:10:06.438471",
     "status": "completed"
    },
    "tags": []
   },
   "outputs": [],
   "source": [
    "class Config:\n",
    "    pass\n",
    "config = Config()\n",
    "config.lr = 0.001\n",
    "config.num_epochs = 250\n",
    "config.bs = 50"
   ]
  },
  {
   "cell_type": "markdown",
   "id": "1385fa59",
   "metadata": {
    "papermill": {
     "duration": 0.027361,
     "end_time": "2022-11-03T20:10:06.535608",
     "exception": false,
     "start_time": "2022-11-03T20:10:06.508247",
     "status": "completed"
    },
    "tags": []
   },
   "source": [
    "### Running Models with the Training data\n",
    "Details about the network layers:\n",
    "- A first affine layer has 784 inputs and does 100 affine transforms. These are followed by a Relu\n",
    "- A second affine layer has 100 inputs from the 100 activations of the past layer, and does 100 affine transforms. These are followed by a Relu\n",
    "- A third affine layer has 100 activations and does 2 affine transformations to create an embedding for visualization. There is no non-linearity here.\n",
    "- A final \"logistic regression\" which has an affine transform from 2 inputs to 1 output, which is squeezed through a sigmoid.\n"
   ]
  },
  {
   "cell_type": "code",
   "execution_count": 17,
   "id": "2b9c66db",
   "metadata": {
    "execution": {
     "iopub.execute_input": "2022-11-03T20:10:06.595894Z",
     "iopub.status.busy": "2022-11-03T20:10:06.595247Z",
     "iopub.status.idle": "2022-11-03T20:10:06.606142Z",
     "shell.execute_reply": "2022-11-03T20:10:06.606754Z"
    },
    "papermill": {
     "duration": 0.04296,
     "end_time": "2022-11-03T20:10:06.606873",
     "exception": false,
     "start_time": "2022-11-03T20:10:06.563913",
     "status": "completed"
    },
    "tags": []
   },
   "outputs": [],
   "source": [
    "data = Data(X_train, y_train.reshape(-1,1))\n",
    "sampler = Sampler(data, config.bs, shuffle=True)\n",
    "\n",
    "dl = Dataloader(data, sampler)\n",
    "\n",
    "opt = GD(config.lr)\n",
    "loss = MSE()"
   ]
  },
  {
   "cell_type": "code",
   "execution_count": 18,
   "id": "b275e4c2",
   "metadata": {
    "execution": {
     "iopub.execute_input": "2022-11-03T20:10:06.666766Z",
     "iopub.status.busy": "2022-11-03T20:10:06.665941Z",
     "iopub.status.idle": "2022-11-03T20:10:06.678719Z",
     "shell.execute_reply": "2022-11-03T20:10:06.677983Z"
    },
    "papermill": {
     "duration": 0.044033,
     "end_time": "2022-11-03T20:10:06.678869",
     "exception": false,
     "start_time": "2022-11-03T20:10:06.634836",
     "status": "completed"
    },
    "tags": []
   },
   "outputs": [],
   "source": [
    "training_data_x = X_train\n",
    "testing_data_x = X_test\n",
    "training_data_y = y_train.reshape(-1,1)\n",
    "testing_data_y = y_test.reshape(-1,1)"
   ]
  },
  {
   "cell_type": "code",
   "execution_count": 19,
   "id": "76951160",
   "metadata": {
    "execution": {
     "iopub.execute_input": "2022-11-03T20:10:06.740923Z",
     "iopub.status.busy": "2022-11-03T20:10:06.740323Z",
     "iopub.status.idle": "2022-11-03T20:10:06.756251Z",
     "shell.execute_reply": "2022-11-03T20:10:06.755722Z"
    },
    "papermill": {
     "duration": 0.047599,
     "end_time": "2022-11-03T20:10:06.756371",
     "exception": false,
     "start_time": "2022-11-03T20:10:06.708772",
     "status": "completed"
    },
    "tags": []
   },
   "outputs": [
    {
     "name": "stdout",
     "output_type": "stream",
     "text": [
      "xavier\n",
      "xavier\n",
      "xavier\n",
      "xavier\n",
      "xavier\n"
     ]
    }
   ],
   "source": [
    "layers = [Affine(\"first\", 784, 100), Relu(\"first\"), Affine(\"second\", 100, 100), Relu(\"second\"), Affine(\"third\", 100, 2), Affine(\"last\", 2, 1), Sigmoid(\"last\")]\n",
    "model_nn = Model(layers)\n",
    "model_lr = Model([Affine(\"logits\", 784, 1), Sigmoid(\"sigmoid\")])"
   ]
  },
  {
   "cell_type": "code",
   "execution_count": 20,
   "id": "6eede77a",
   "metadata": {
    "execution": {
     "iopub.execute_input": "2022-11-03T20:10:06.820753Z",
     "iopub.status.busy": "2022-11-03T20:10:06.820123Z",
     "iopub.status.idle": "2022-11-03T20:10:06.832277Z",
     "shell.execute_reply": "2022-11-03T20:10:06.831709Z"
    },
    "papermill": {
     "duration": 0.045795,
     "end_time": "2022-11-03T20:10:06.832406",
     "exception": false,
     "start_time": "2022-11-03T20:10:06.786611",
     "status": "completed"
    },
    "tags": []
   },
   "outputs": [],
   "source": [
    "nn_learner = Learner(loss, model_nn, opt, config.num_epochs)\n",
    "acc_nn = ClfCallback(nn_learner, config.bs, training_data_x , testing_data_x, training_data_y, testing_data_y)\n",
    "nn_learner.set_callbacks([acc_nn])"
   ]
  },
  {
   "cell_type": "code",
   "execution_count": 21,
   "id": "877b6cc7",
   "metadata": {
    "execution": {
     "iopub.execute_input": "2022-11-03T20:10:06.896254Z",
     "iopub.status.busy": "2022-11-03T20:10:06.895508Z",
     "iopub.status.idle": "2022-11-03T20:10:06.906725Z",
     "shell.execute_reply": "2022-11-03T20:10:06.906128Z"
    },
    "papermill": {
     "duration": 0.044061,
     "end_time": "2022-11-03T20:10:06.906825",
     "exception": false,
     "start_time": "2022-11-03T20:10:06.862764",
     "status": "completed"
    },
    "tags": []
   },
   "outputs": [],
   "source": [
    "lr_learner = Learner(loss, model_lr, opt, config.num_epochs)\n",
    "acc_lr = ClfCallback(lr_learner, config.bs, training_data_x , testing_data_x, training_data_y, testing_data_y)\n",
    "lr_learner.set_callbacks([acc_lr])"
   ]
  },
  {
   "cell_type": "code",
   "execution_count": 22,
   "id": "d9b133c3",
   "metadata": {
    "execution": {
     "iopub.execute_input": "2022-11-03T20:10:06.969108Z",
     "iopub.status.busy": "2022-11-03T20:10:06.968455Z",
     "iopub.status.idle": "2022-11-03T20:12:22.098623Z",
     "shell.execute_reply": "2022-11-03T20:12:22.099675Z"
    },
    "papermill": {
     "duration": 135.163614,
     "end_time": "2022-11-03T20:12:22.099873",
     "exception": false,
     "start_time": "2022-11-03T20:10:06.936259",
     "status": "completed"
    },
    "tags": []
   },
   "outputs": [
    {
     "name": "stdout",
     "output_type": "stream",
     "text": [
      "Epoch 0, Loss 0.1962\n",
      "Training Accuracy: 0.7964, Testing Accuracy: 0.8160\n",
      "\n"
     ]
    },
    {
     "name": "stdout",
     "output_type": "stream",
     "text": [
      "Epoch 10, Loss 0.0596\n",
      "Training Accuracy: 0.9397, Testing Accuracy: 0.9491\n",
      "\n"
     ]
    },
    {
     "name": "stdout",
     "output_type": "stream",
     "text": [
      "Epoch 20, Loss 0.0412\n",
      "Training Accuracy: 0.9564, Testing Accuracy: 0.9617\n",
      "\n"
     ]
    },
    {
     "name": "stdout",
     "output_type": "stream",
     "text": [
      "Epoch 30, Loss 0.0343\n",
      "Training Accuracy: 0.9638, Testing Accuracy: 0.9662\n",
      "\n"
     ]
    },
    {
     "name": "stdout",
     "output_type": "stream",
     "text": [
      "Epoch 40, Loss 0.0305\n",
      "Training Accuracy: 0.9670, Testing Accuracy: 0.9682\n",
      "\n"
     ]
    },
    {
     "name": "stdout",
     "output_type": "stream",
     "text": [
      "Epoch 50, Loss 0.0279\n",
      "Training Accuracy: 0.9690, Testing Accuracy: 0.9677\n",
      "\n"
     ]
    },
    {
     "name": "stdout",
     "output_type": "stream",
     "text": [
      "Epoch 60, Loss 0.026\n",
      "Training Accuracy: 0.9714, Testing Accuracy: 0.9682\n",
      "\n"
     ]
    },
    {
     "name": "stdout",
     "output_type": "stream",
     "text": [
      "Epoch 70, Loss 0.0245\n",
      "Training Accuracy: 0.9725, Testing Accuracy: 0.9698\n",
      "\n"
     ]
    },
    {
     "name": "stdout",
     "output_type": "stream",
     "text": [
      "Epoch 80, Loss 0.0233\n",
      "Training Accuracy: 0.9737, Testing Accuracy: 0.9723\n",
      "\n"
     ]
    },
    {
     "name": "stdout",
     "output_type": "stream",
     "text": [
      "Epoch 90, Loss 0.0222\n",
      "Training Accuracy: 0.9750, Testing Accuracy: 0.9738\n",
      "\n"
     ]
    },
    {
     "name": "stdout",
     "output_type": "stream",
     "text": [
      "Epoch 100, Loss 0.0213\n",
      "Training Accuracy: 0.9768, Testing Accuracy: 0.9733\n",
      "\n"
     ]
    },
    {
     "name": "stdout",
     "output_type": "stream",
     "text": [
      "Epoch 110, Loss 0.0205\n",
      "Training Accuracy: 0.9775, Testing Accuracy: 0.9733\n",
      "\n"
     ]
    },
    {
     "name": "stdout",
     "output_type": "stream",
     "text": [
      "Epoch 120, Loss 0.0198\n",
      "Training Accuracy: 0.9780, Testing Accuracy: 0.9733\n",
      "\n"
     ]
    },
    {
     "name": "stdout",
     "output_type": "stream",
     "text": [
      "Epoch 130, Loss 0.0191\n",
      "Training Accuracy: 0.9787, Testing Accuracy: 0.9748\n",
      "\n"
     ]
    },
    {
     "name": "stdout",
     "output_type": "stream",
     "text": [
      "Epoch 140, Loss 0.0185\n",
      "Training Accuracy: 0.9799, Testing Accuracy: 0.9748\n",
      "\n"
     ]
    },
    {
     "name": "stdout",
     "output_type": "stream",
     "text": [
      "Epoch 150, Loss 0.018\n",
      "Training Accuracy: 0.9804, Testing Accuracy: 0.9758\n",
      "\n"
     ]
    },
    {
     "name": "stdout",
     "output_type": "stream",
     "text": [
      "Epoch 160, Loss 0.0175\n",
      "Training Accuracy: 0.9811, Testing Accuracy: 0.9758\n",
      "\n"
     ]
    },
    {
     "name": "stdout",
     "output_type": "stream",
     "text": [
      "Epoch 170, Loss 0.017\n",
      "Training Accuracy: 0.9815, Testing Accuracy: 0.9768\n",
      "\n"
     ]
    },
    {
     "name": "stdout",
     "output_type": "stream",
     "text": [
      "Epoch 180, Loss 0.0165\n",
      "Training Accuracy: 0.9819, Testing Accuracy: 0.9773\n",
      "\n"
     ]
    },
    {
     "name": "stdout",
     "output_type": "stream",
     "text": [
      "Epoch 190, Loss 0.0161\n",
      "Training Accuracy: 0.9826, Testing Accuracy: 0.9778\n",
      "\n"
     ]
    },
    {
     "name": "stdout",
     "output_type": "stream",
     "text": [
      "Epoch 200, Loss 0.0157\n",
      "Training Accuracy: 0.9831, Testing Accuracy: 0.9783\n",
      "\n"
     ]
    },
    {
     "name": "stdout",
     "output_type": "stream",
     "text": [
      "Epoch 210, Loss 0.0153\n",
      "Training Accuracy: 0.9835, Testing Accuracy: 0.9788\n",
      "\n"
     ]
    },
    {
     "name": "stdout",
     "output_type": "stream",
     "text": [
      "Epoch 220, Loss 0.015\n",
      "Training Accuracy: 0.9837, Testing Accuracy: 0.9798\n",
      "\n"
     ]
    },
    {
     "name": "stdout",
     "output_type": "stream",
     "text": [
      "Epoch 230, Loss 0.0146\n",
      "Training Accuracy: 0.9839, Testing Accuracy: 0.9798\n",
      "\n"
     ]
    },
    {
     "name": "stdout",
     "output_type": "stream",
     "text": [
      "Epoch 240, Loss 0.0143\n",
      "Training Accuracy: 0.9843, Testing Accuracy: 0.9808\n",
      "\n"
     ]
    },
    {
     "data": {
      "text/plain": [
       "0.010255564395480067"
      ]
     },
     "execution_count": 22,
     "metadata": {},
     "output_type": "execute_result"
    }
   ],
   "source": [
    "nn_learner.train_loop(dl)"
   ]
  },
  {
   "cell_type": "code",
   "execution_count": 23,
   "id": "e0163366",
   "metadata": {
    "execution": {
     "iopub.execute_input": "2022-11-03T20:12:22.204507Z",
     "iopub.status.busy": "2022-11-03T20:12:22.203807Z",
     "iopub.status.idle": "2022-11-03T20:12:42.687475Z",
     "shell.execute_reply": "2022-11-03T20:12:42.688356Z"
    },
    "papermill": {
     "duration": 20.545959,
     "end_time": "2022-11-03T20:12:42.688520",
     "exception": false,
     "start_time": "2022-11-03T20:12:22.142561",
     "status": "completed"
    },
    "tags": []
   },
   "outputs": [
    {
     "name": "stdout",
     "output_type": "stream",
     "text": [
      "Epoch 0, Loss 0.256\n",
      "Training Accuracy: 0.6092, Testing Accuracy: 0.5932\n",
      "\n"
     ]
    },
    {
     "name": "stdout",
     "output_type": "stream",
     "text": [
      "Epoch 10, Loss 0.1054\n",
      "Training Accuracy: 0.9098, Testing Accuracy: 0.9199\n",
      "\n"
     ]
    },
    {
     "name": "stdout",
     "output_type": "stream",
     "text": [
      "Epoch 20, Loss 0.0797\n",
      "Training Accuracy: 0.9302, Testing Accuracy: 0.9370\n",
      "\n"
     ]
    },
    {
     "name": "stdout",
     "output_type": "stream",
     "text": [
      "Epoch 30, Loss 0.0682\n",
      "Training Accuracy: 0.9384, Testing Accuracy: 0.9461\n",
      "\n"
     ]
    },
    {
     "name": "stdout",
     "output_type": "stream",
     "text": [
      "Epoch 40, Loss 0.0614\n",
      "Training Accuracy: 0.9427, Testing Accuracy: 0.9521\n",
      "\n"
     ]
    },
    {
     "name": "stdout",
     "output_type": "stream",
     "text": [
      "Epoch 50, Loss 0.0568\n",
      "Training Accuracy: 0.9458, Testing Accuracy: 0.9551\n",
      "\n"
     ]
    },
    {
     "name": "stdout",
     "output_type": "stream",
     "text": [
      "Epoch 60, Loss 0.0535\n",
      "Training Accuracy: 0.9483, Testing Accuracy: 0.9582\n",
      "\n"
     ]
    },
    {
     "name": "stdout",
     "output_type": "stream",
     "text": [
      "Epoch 70, Loss 0.0509\n",
      "Training Accuracy: 0.9505, Testing Accuracy: 0.9612\n",
      "\n"
     ]
    },
    {
     "name": "stdout",
     "output_type": "stream",
     "text": [
      "Epoch 80, Loss 0.0489\n",
      "Training Accuracy: 0.9517, Testing Accuracy: 0.9607\n",
      "\n"
     ]
    },
    {
     "name": "stdout",
     "output_type": "stream",
     "text": [
      "Epoch 90, Loss 0.0472\n",
      "Training Accuracy: 0.9532, Testing Accuracy: 0.9612\n",
      "\n"
     ]
    },
    {
     "name": "stdout",
     "output_type": "stream",
     "text": [
      "Epoch 100, Loss 0.0458\n",
      "Training Accuracy: 0.9542, Testing Accuracy: 0.9627\n",
      "\n"
     ]
    },
    {
     "name": "stdout",
     "output_type": "stream",
     "text": [
      "Epoch 110, Loss 0.0445\n",
      "Training Accuracy: 0.9546, Testing Accuracy: 0.9632\n",
      "\n"
     ]
    },
    {
     "name": "stdout",
     "output_type": "stream",
     "text": [
      "Epoch 120, Loss 0.0435\n",
      "Training Accuracy: 0.9559, Testing Accuracy: 0.9632\n",
      "\n"
     ]
    },
    {
     "name": "stdout",
     "output_type": "stream",
     "text": [
      "Epoch 130, Loss 0.0426\n",
      "Training Accuracy: 0.9564, Testing Accuracy: 0.9632\n",
      "\n"
     ]
    },
    {
     "name": "stdout",
     "output_type": "stream",
     "text": [
      "Epoch 140, Loss 0.0417\n",
      "Training Accuracy: 0.9570, Testing Accuracy: 0.9627\n",
      "\n"
     ]
    },
    {
     "name": "stdout",
     "output_type": "stream",
     "text": [
      "Epoch 150, Loss 0.041\n",
      "Training Accuracy: 0.9574, Testing Accuracy: 0.9632\n",
      "\n"
     ]
    },
    {
     "name": "stdout",
     "output_type": "stream",
     "text": [
      "Epoch 160, Loss 0.0403\n",
      "Training Accuracy: 0.9579, Testing Accuracy: 0.9642\n",
      "\n"
     ]
    },
    {
     "name": "stdout",
     "output_type": "stream",
     "text": [
      "Epoch 170, Loss 0.0397\n",
      "Training Accuracy: 0.9585, Testing Accuracy: 0.9657\n",
      "\n"
     ]
    },
    {
     "name": "stdout",
     "output_type": "stream",
     "text": [
      "Epoch 180, Loss 0.0392\n",
      "Training Accuracy: 0.9591, Testing Accuracy: 0.9657\n",
      "\n"
     ]
    },
    {
     "name": "stdout",
     "output_type": "stream",
     "text": [
      "Epoch 190, Loss 0.0387\n",
      "Training Accuracy: 0.9595, Testing Accuracy: 0.9657\n",
      "\n"
     ]
    },
    {
     "name": "stdout",
     "output_type": "stream",
     "text": [
      "Epoch 200, Loss 0.0382\n",
      "Training Accuracy: 0.9600, Testing Accuracy: 0.9652\n",
      "\n"
     ]
    },
    {
     "name": "stdout",
     "output_type": "stream",
     "text": [
      "Epoch 210, Loss 0.0378\n",
      "Training Accuracy: 0.9606, Testing Accuracy: 0.9657\n",
      "\n"
     ]
    },
    {
     "name": "stdout",
     "output_type": "stream",
     "text": [
      "Epoch 220, Loss 0.0374\n",
      "Training Accuracy: 0.9609, Testing Accuracy: 0.9652\n",
      "\n"
     ]
    },
    {
     "name": "stdout",
     "output_type": "stream",
     "text": [
      "Epoch 230, Loss 0.037\n",
      "Training Accuracy: 0.9609, Testing Accuracy: 0.9652\n",
      "\n"
     ]
    },
    {
     "name": "stdout",
     "output_type": "stream",
     "text": [
      "Epoch 240, Loss 0.0366\n",
      "Training Accuracy: 0.9613, Testing Accuracy: 0.9662\n",
      "\n"
     ]
    },
    {
     "data": {
      "text/plain": [
       "0.03227913449515634"
      ]
     },
     "execution_count": 23,
     "metadata": {},
     "output_type": "execute_result"
    }
   ],
   "source": [
    "lr_learner.train_loop(dl)"
   ]
  },
  {
   "cell_type": "code",
   "execution_count": 24,
   "id": "ca410940",
   "metadata": {
    "execution": {
     "iopub.execute_input": "2022-11-03T20:12:42.795497Z",
     "iopub.status.busy": "2022-11-03T20:12:42.794819Z",
     "iopub.status.idle": "2022-11-03T20:12:43.120464Z",
     "shell.execute_reply": "2022-11-03T20:12:43.120988Z"
    },
    "papermill": {
     "duration": 0.382545,
     "end_time": "2022-11-03T20:12:43.121145",
     "exception": false,
     "start_time": "2022-11-03T20:12:42.738600",
     "status": "completed"
    },
    "tags": []
   },
   "outputs": [
    {
     "data": {
      "text/plain": [
       "<matplotlib.legend.Legend at 0x7fc93ac934e0>"
      ]
     },
     "execution_count": 24,
     "metadata": {},
     "output_type": "execute_result"
    },
    {
     "data": {
      "image/png": "[encoded data removed]",
      "text/plain": [
       "<Figure size 1080x720 with 1 Axes>"
      ]
     },
     "metadata": {
      "needs_background": "light"
     },
     "output_type": "display_data"
    }
   ],
   "source": [
    "#comparing the results of NN and LR\n",
    "plt.figure(figsize=(15,10))\n",
    "\n",
    "# Neural Network plots\n",
    "plt.plot(acc_nn.accuracies, 'r-', label = \"Training Accuracies - NN\")\n",
    "plt.plot(acc_nn.test_accuracies, 'g-', label = \"Testing Accuracies - NN\")\n",
    "\n",
    "# Logistic Regression plots\n",
    "plt.plot(acc_lr.accuracies, 'k-', label = \"Training Accuracies - LR\")\n",
    "plt.plot(acc_lr.test_accuracies, 'b-', label = \"Testing Accuracies - LR\")\n",
    "plt.legend()"
   ]
  },
  {
   "cell_type": "markdown",
   "id": "80dfb35c",
   "metadata": {
    "papermill": {
     "duration": 0.047708,
     "end_time": "2022-11-03T20:12:43.218466",
     "exception": false,
     "start_time": "2022-11-03T20:12:43.170758",
     "status": "completed"
    },
    "tags": []
   },
   "source": [
    "#### Plotting the outputs of this layer of the NN.\n"
   ]
  },
  {
   "cell_type": "code",
   "execution_count": 25,
   "id": "45eb2ff5",
   "metadata": {
    "execution": {
     "iopub.execute_input": "2022-11-03T20:12:43.320274Z",
     "iopub.status.busy": "2022-11-03T20:12:43.319540Z",
     "iopub.status.idle": "2022-11-03T20:12:43.343410Z",
     "shell.execute_reply": "2022-11-03T20:12:43.344112Z"
    },
    "papermill": {
     "duration": 0.078719,
     "end_time": "2022-11-03T20:12:43.344238",
     "exception": false,
     "start_time": "2022-11-03T20:12:43.265519",
     "status": "completed"
    },
    "tags": []
   },
   "outputs": [],
   "source": [
    "new_model = Model(layers[:-2])\n",
    "testing_plot = new_model(testing_data_x)"
   ]
  },
  {
   "cell_type": "code",
   "execution_count": 26,
   "id": "4c0a5485",
   "metadata": {
    "execution": {
     "iopub.execute_input": "2022-11-03T20:12:43.446158Z",
     "iopub.status.busy": "2022-11-03T20:12:43.445353Z",
     "iopub.status.idle": "2022-11-03T20:12:43.696990Z",
     "shell.execute_reply": "2022-11-03T20:12:43.696071Z"
    },
    "papermill": {
     "duration": 0.302992,
     "end_time": "2022-11-03T20:12:43.697159",
     "exception": false,
     "start_time": "2022-11-03T20:12:43.394167",
     "status": "completed"
    },
    "tags": []
   },
   "outputs": [
    {
     "data": {
      "text/plain": [
       "Text(0.5, 1.0, 'Outputs')"
      ]
     },
     "execution_count": 26,
     "metadata": {},
     "output_type": "execute_result"
    },
    {
     "data": {
      "image/png": "[encoded data removed]",
      "text/plain": [
       "<Figure size 576x504 with 1 Axes>"
      ]
     },
     "metadata": {
      "needs_background": "light"
     },
     "output_type": "display_data"
    }
   ],
   "source": [
    "# Plotting the scatter plot of points and color coding by class\n",
    "plt.figure(figsize=(8,7))\n",
    "plt.scatter(testing_plot[:,0], testing_plot[:,1], alpha = 0.1, c = y_test.ravel());\n",
    "plt.title('Outputs')"
   ]
  },
  {
   "cell_type": "markdown",
   "id": "a74fcf8f",
   "metadata": {
    "papermill": {
     "duration": 0.070783,
     "end_time": "2022-11-03T20:12:43.821954",
     "exception": false,
     "start_time": "2022-11-03T20:12:43.751171",
     "status": "completed"
    },
    "tags": []
   },
   "source": [
    "Probability contours"
   ]
  },
  {
   "cell_type": "code",
   "execution_count": 27,
   "id": "d0afc8e3",
   "metadata": {
    "execution": {
     "iopub.execute_input": "2022-11-03T20:12:43.934787Z",
     "iopub.status.busy": "2022-11-03T20:12:43.934123Z",
     "iopub.status.idle": "2022-11-03T20:12:43.946686Z",
     "shell.execute_reply": "2022-11-03T20:12:43.947342Z"
    },
    "papermill": {
     "duration": 0.070494,
     "end_time": "2022-11-03T20:12:43.947467",
     "exception": false,
     "start_time": "2022-11-03T20:12:43.876973",
     "status": "completed"
    },
    "tags": []
   },
   "outputs": [],
   "source": [
    "model_prob = Model(layers[-2:]) "
   ]
  },
  {
   "cell_type": "code",
   "execution_count": 28,
   "id": "9b96e238",
   "metadata": {
    "execution": {
     "iopub.execute_input": "2022-11-03T20:12:44.057897Z",
     "iopub.status.busy": "2022-11-03T20:12:44.057148Z",
     "iopub.status.idle": "2022-11-03T20:12:44.072597Z",
     "shell.execute_reply": "2022-11-03T20:12:44.073153Z"
    },
    "papermill": {
     "duration": 0.072605,
     "end_time": "2022-11-03T20:12:44.073282",
     "exception": false,
     "start_time": "2022-11-03T20:12:44.000677",
     "status": "completed"
    },
    "tags": []
   },
   "outputs": [],
   "source": [
    "#creating the x and y ranges according to the above generated plot.\n",
    "x_range = np.linspace(-4, 1, 100) \n",
    "y_range = np.linspace(-6, 6, 100) \n",
    "x_grid, y_grid = np.meshgrid(x_range, y_range) # x_grid and y_grig are of size 100 X 100\n",
    "\n",
    "# converting x_grid and y_grid to continuous arrays\n",
    "x_gridflat = np.ravel(x_grid)\n",
    "y_gridflat = np.ravel(y_grid)\n",
    "\n",
    "# The last layer of the current model takes two columns as input. Hence transpose of np.vstack() is required.\n",
    "X = np.vstack((x_gridflat, y_gridflat)).T\n",
    "\n",
    "prob_contour = model_prob(X).reshape(100,100) "
   ]
  },
  {
   "cell_type": "code",
   "execution_count": 29,
   "id": "da72499a",
   "metadata": {
    "execution": {
     "iopub.execute_input": "2022-11-03T20:12:44.191789Z",
     "iopub.status.busy": "2022-11-03T20:12:44.191043Z",
     "iopub.status.idle": "2022-11-03T20:12:44.532412Z",
     "shell.execute_reply": "2022-11-03T20:12:44.531853Z"
    },
    "papermill": {
     "duration": 0.406997,
     "end_time": "2022-11-03T20:12:44.532538",
     "exception": false,
     "start_time": "2022-11-03T20:12:44.125541",
     "status": "completed"
    },
    "tags": []
   },
   "outputs": [
    {
     "data": {
      "image/png": "[encoded data removed]",
      "text/plain": [
       "<Figure size 720x648 with 1 Axes>"
      ]
     },
     "metadata": {
      "needs_background": "light"
     },
     "output_type": "display_data"
    }
   ],
   "source": [
    "plt.figure(figsize=(10,9))\n",
    "plt.scatter(testing_plot[:,0], testing_plot[:,1], alpha = 0.1, c = y_test.ravel())\n",
    "contours = plt.contour(x_grid,y_grid,prob_contour)\n",
    "plt.title('Probability Contours')\n",
    "plt.clabel(contours, inline = True );"
   ]
  },
  {
   "cell_type": "code",
   "execution_count": null,
   "id": "e81b4ac7",
   "metadata": {
    "papermill": {
     "duration": 0.054069,
     "end_time": "2022-11-03T20:12:44.643381",
     "exception": false,
     "start_time": "2022-11-03T20:12:44.589312",
     "status": "completed"
    },
    "tags": []
   },
   "outputs": [],
   "source": []
  }
 ],
 "metadata": {
  "kernelspec": {
   "display_name": "Python 3",
   "language": "python",
   "name": "python3"
  },
  "language_info": {
   "codemirror_mode": {
    "name": "ipython",
    "version": 3
   },
   "file_extension": ".py",
   "mimetype": "text/x-python",
   "name": "python",
   "nbconvert_exporter": "python",
   "pygments_lexer": "ipython3",
   "version": "3.6.15"
  },
  "papermill": {
   "default_parameters": {},
   "duration": 165.156086,
   "end_time": "2022-11-03T20:12:45.121346",
   "environment_variables": {},
   "exception": null,
   "input_path": "2020-08-11-part2.ipynb",
   "output_path": "2020-08-11-part2.ipynb",
   "parameters": {},
   "start_time": "2022-11-03T20:09:59.965260",
   "version": "2.3.3"
  }
 },
 "nbformat": 4,
 "nbformat_minor": 5
}