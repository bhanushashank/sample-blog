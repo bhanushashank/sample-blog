{
 "cells": [
  {
   "cell_type": "markdown",
   "id": "98380cd3",
   "metadata": {
    "papermill": {
     "duration": 0.035607,
     "end_time": "2022-02-26T20:09:22.181382",
     "exception": false,
     "start_time": "2022-02-26T20:09:22.145775",
     "status": "completed"
    },
    "tags": []
   },
   "source": [
    "# Distinguish Your Own Digits (DYOD)"
   ]
  },
  {
   "cell_type": "markdown",
   "id": "ef31240d",
   "metadata": {
    "papermill": {
     "duration": 0.035307,
     "end_time": "2022-02-26T20:09:22.249653",
     "exception": false,
     "start_time": "2022-02-26T20:09:22.214346",
     "status": "completed"
    },
    "tags": []
   },
   "source": [
    "You are going to write a classifier that distinguishes between the number 3 and number 8."
   ]
  },
  {
   "cell_type": "code",
   "execution_count": 1,
   "id": "b15c8646",
   "metadata": {
    "execution": {
     "iopub.execute_input": "2022-02-26T20:09:22.322310Z",
     "iopub.status.busy": "2022-02-26T20:09:22.321535Z",
     "iopub.status.idle": "2022-02-26T20:09:22.334095Z",
     "shell.execute_reply": "2022-02-26T20:09:22.333545Z"
    },
    "papermill": {
     "duration": 0.05408,
     "end_time": "2022-02-26T20:09:22.334254",
     "exception": false,
     "start_time": "2022-02-26T20:09:22.280174",
     "status": "completed"
    },
    "tags": []
   },
   "outputs": [],
   "source": [
    "%load_ext autoreload\n",
    "%autoreload 2"
   ]
  },
  {
   "cell_type": "code",
   "execution_count": 2,
   "id": "22ef38dc",
   "metadata": {
    "execution": {
     "iopub.execute_input": "2022-02-26T20:09:22.401595Z",
     "iopub.status.busy": "2022-02-26T20:09:22.400764Z",
     "iopub.status.idle": "2022-02-26T20:09:23.136818Z",
     "shell.execute_reply": "2022-02-26T20:09:23.136138Z"
    },
    "papermill": {
     "duration": 0.771508,
     "end_time": "2022-02-26T20:09:23.136974",
     "exception": false,
     "start_time": "2022-02-26T20:09:22.365466",
     "status": "completed"
    },
    "tags": []
   },
   "outputs": [],
   "source": [
    "%matplotlib inline\n",
    "import numpy as np\n",
    "import matplotlib.pyplot as plt\n",
    "import pandas as pd"
   ]
  },
  {
   "cell_type": "markdown",
   "id": "ba036198",
   "metadata": {
    "papermill": {
     "duration": 0.029866,
     "end_time": "2022-02-26T20:09:23.195523",
     "exception": false,
     "start_time": "2022-02-26T20:09:23.165657",
     "status": "completed"
    },
    "tags": []
   },
   "source": [
    "From the command line run `pip install mnist`. This is a library that will help you bring down the mnist dataset. If you run this from a notebook, you need to put  `!pip install mnist` in a cell by itself."
   ]
  },
  {
   "cell_type": "code",
   "execution_count": 3,
   "id": "bb6ad8a1",
   "metadata": {
    "execution": {
     "iopub.execute_input": "2022-02-26T20:09:23.259023Z",
     "iopub.status.busy": "2022-02-26T20:09:23.258413Z",
     "iopub.status.idle": "2022-02-26T20:09:26.105007Z",
     "shell.execute_reply": "2022-02-26T20:09:26.104398Z"
    },
    "papermill": {
     "duration": 2.880497,
     "end_time": "2022-02-26T20:09:26.105227",
     "exception": false,
     "start_time": "2022-02-26T20:09:23.224730",
     "status": "completed"
    },
    "tags": []
   },
   "outputs": [
    {
     "name": "stdout",
     "output_type": "stream",
     "text": [
      "Collecting mnist\r\n"
     ]
    },
    {
     "name": "stdout",
     "output_type": "stream",
     "text": [
      "  Downloading mnist-0.2.2-py2.py3-none-any.whl (3.5 kB)\r\n",
      "Requirement already satisfied: numpy in /opt/hostedtoolcache/Python/3.6.15/x64/lib/python3.6/site-packages (from mnist) (1.19.5)\r\n"
     ]
    },
    {
     "name": "stdout",
     "output_type": "stream",
     "text": [
      "Installing collected packages: mnist\r\n",
      "Successfully installed mnist-0.2.2\r\n"
     ]
    }
   ],
   "source": [
    "!pip install mnist"
   ]
  },
  {
   "cell_type": "markdown",
   "id": "69df9c9a",
   "metadata": {
    "papermill": {
     "duration": 0.032411,
     "end_time": "2022-02-26T20:09:26.170873",
     "exception": false,
     "start_time": "2022-02-26T20:09:26.138462",
     "status": "completed"
    },
    "tags": []
   },
   "source": [
    "## Preparing the Data"
   ]
  },
  {
   "cell_type": "code",
   "execution_count": 4,
   "id": "7f69d806",
   "metadata": {
    "execution": {
     "iopub.execute_input": "2022-02-26T20:09:26.248273Z",
     "iopub.status.busy": "2022-02-26T20:09:26.247548Z",
     "iopub.status.idle": "2022-02-26T20:09:26.265214Z",
     "shell.execute_reply": "2022-02-26T20:09:26.265821Z"
    },
    "papermill": {
     "duration": 0.057592,
     "end_time": "2022-02-26T20:09:26.265994",
     "exception": false,
     "start_time": "2022-02-26T20:09:26.208402",
     "status": "completed"
    },
    "tags": []
   },
   "outputs": [],
   "source": [
    "import mnist"
   ]
  },
  {
   "cell_type": "code",
   "execution_count": 5,
   "id": "a411e44f",
   "metadata": {
    "execution": {
     "iopub.execute_input": "2022-02-26T20:09:26.338598Z",
     "iopub.status.busy": "2022-02-26T20:09:26.333804Z",
     "iopub.status.idle": "2022-02-26T20:09:26.907470Z",
     "shell.execute_reply": "2022-02-26T20:09:26.906309Z"
    },
    "papermill": {
     "duration": 0.609374,
     "end_time": "2022-02-26T20:09:26.907637",
     "exception": false,
     "start_time": "2022-02-26T20:09:26.298263",
     "status": "completed"
    },
    "tags": []
   },
   "outputs": [],
   "source": [
    "train_images = mnist.train_images()\n",
    "train_labels = mnist.train_labels()"
   ]
  },
  {
   "cell_type": "code",
   "execution_count": 6,
   "id": "dceab3a5",
   "metadata": {
    "execution": {
     "iopub.execute_input": "2022-02-26T20:09:26.978855Z",
     "iopub.status.busy": "2022-02-26T20:09:26.978101Z",
     "iopub.status.idle": "2022-02-26T20:09:26.997713Z",
     "shell.execute_reply": "2022-02-26T20:09:26.996949Z"
    },
    "papermill": {
     "duration": 0.057798,
     "end_time": "2022-02-26T20:09:26.997876",
     "exception": false,
     "start_time": "2022-02-26T20:09:26.940078",
     "status": "completed"
    },
    "tags": []
   },
   "outputs": [
    {
     "data": {
      "text/plain": [
       "((60000, 28, 28), (60000,))"
      ]
     },
     "execution_count": 6,
     "metadata": {},
     "output_type": "execute_result"
    }
   ],
   "source": [
    "train_images.shape, train_labels.shape"
   ]
  },
  {
   "cell_type": "code",
   "execution_count": 7,
   "id": "f50dc2bb",
   "metadata": {
    "execution": {
     "iopub.execute_input": "2022-02-26T20:09:27.071161Z",
     "iopub.status.busy": "2022-02-26T20:09:27.070466Z",
     "iopub.status.idle": "2022-02-26T20:09:27.207020Z",
     "shell.execute_reply": "2022-02-26T20:09:27.207543Z"
    },
    "papermill": {
     "duration": 0.175334,
     "end_time": "2022-02-26T20:09:27.207738",
     "exception": false,
     "start_time": "2022-02-26T20:09:27.032404",
     "status": "completed"
    },
    "tags": []
   },
   "outputs": [],
   "source": [
    "test_images = mnist.test_images()\n",
    "test_labels = mnist.test_labels()"
   ]
  },
  {
   "cell_type": "code",
   "execution_count": 8,
   "id": "fc38cf1b",
   "metadata": {
    "execution": {
     "iopub.execute_input": "2022-02-26T20:09:27.279224Z",
     "iopub.status.busy": "2022-02-26T20:09:27.278323Z",
     "iopub.status.idle": "2022-02-26T20:09:27.292942Z",
     "shell.execute_reply": "2022-02-26T20:09:27.293694Z"
    },
    "papermill": {
     "duration": 0.052846,
     "end_time": "2022-02-26T20:09:27.293934",
     "exception": false,
     "start_time": "2022-02-26T20:09:27.241088",
     "status": "completed"
    },
    "tags": []
   },
   "outputs": [
    {
     "data": {
      "text/plain": [
       "((10000, 28, 28), (10000,))"
      ]
     },
     "execution_count": 8,
     "metadata": {},
     "output_type": "execute_result"
    }
   ],
   "source": [
    "test_images.shape, test_labels.shape"
   ]
  },
  {
   "cell_type": "code",
   "execution_count": 9,
   "id": "f9ed8fe0",
   "metadata": {
    "execution": {
     "iopub.execute_input": "2022-02-26T20:09:27.362571Z",
     "iopub.status.busy": "2022-02-26T20:09:27.361826Z",
     "iopub.status.idle": "2022-02-26T20:09:27.572611Z",
     "shell.execute_reply": "2022-02-26T20:09:27.573217Z"
    },
    "papermill": {
     "duration": 0.248367,
     "end_time": "2022-02-26T20:09:27.573411",
     "exception": false,
     "start_time": "2022-02-26T20:09:27.325044",
     "status": "completed"
    },
    "tags": []
   },
   "outputs": [
    {
     "name": "stdout",
     "output_type": "stream",
     "text": [
      "2\n"
     ]
    },
    {
     "data": {
      "text/plain": [
       "<matplotlib.image.AxesImage at 0x7f991c8ae550>"
      ]
     },
     "execution_count": 9,
     "metadata": {},
     "output_type": "execute_result"
    },
    {
     "data": {
      "image/png": "[encoded data removed]",
      "text/plain": [
       "<Figure size 432x288 with 1 Axes>"
      ]
     },
     "metadata": {
      "needs_background": "light"
     },
     "output_type": "display_data"
    }
   ],
   "source": [
    "image_index = 7776 # You may select anything up to 60,000\n",
    "print(train_labels[image_index]) \n",
    "plt.imshow(train_images[image_index], cmap='Greys')"
   ]
  },
  {
   "cell_type": "markdown",
   "id": "a8d2388d",
   "metadata": {
    "papermill": {
     "duration": 0.036067,
     "end_time": "2022-02-26T20:09:27.644400",
     "exception": false,
     "start_time": "2022-02-26T20:09:27.608333",
     "status": "completed"
    },
    "tags": []
   },
   "source": [
    "## Filter data to get 3 and 8 out"
   ]
  },
  {
   "cell_type": "code",
   "execution_count": 10,
   "id": "776f7fc7",
   "metadata": {
    "execution": {
     "iopub.execute_input": "2022-02-26T20:09:27.722170Z",
     "iopub.status.busy": "2022-02-26T20:09:27.720857Z",
     "iopub.status.idle": "2022-02-26T20:09:27.744487Z",
     "shell.execute_reply": "2022-02-26T20:09:27.743774Z"
    },
    "papermill": {
     "duration": 0.064518,
     "end_time": "2022-02-26T20:09:27.744683",
     "exception": false,
     "start_time": "2022-02-26T20:09:27.680165",
     "status": "completed"
    },
    "tags": []
   },
   "outputs": [],
   "source": [
    "train_filter = np.where((train_labels == 3 ) | (train_labels == 8))\n",
    "test_filter = np.where((test_labels == 3) | (test_labels == 8))\n",
    "X_train, y_train = train_images[train_filter], train_labels[train_filter]\n",
    "X_test, y_test = test_images[test_filter], test_labels[test_filter]"
   ]
  },
  {
   "cell_type": "markdown",
   "id": "948f0b7e",
   "metadata": {
    "papermill": {
     "duration": 0.034523,
     "end_time": "2022-02-26T20:09:27.814242",
     "exception": false,
     "start_time": "2022-02-26T20:09:27.779719",
     "status": "completed"
    },
    "tags": []
   },
   "source": [
    "We normalize the pizel values in the 0 to 1 range"
   ]
  },
  {
   "cell_type": "code",
   "execution_count": 11,
   "id": "ee4c2166",
   "metadata": {
    "execution": {
     "iopub.execute_input": "2022-02-26T20:09:27.889901Z",
     "iopub.status.busy": "2022-02-26T20:09:27.889192Z",
     "iopub.status.idle": "2022-02-26T20:09:27.954443Z",
     "shell.execute_reply": "2022-02-26T20:09:27.953816Z"
    },
    "papermill": {
     "duration": 0.106301,
     "end_time": "2022-02-26T20:09:27.954603",
     "exception": false,
     "start_time": "2022-02-26T20:09:27.848302",
     "status": "completed"
    },
    "tags": []
   },
   "outputs": [],
   "source": [
    "X_train = X_train/255.\n",
    "X_test = X_test/255."
   ]
  },
  {
   "cell_type": "markdown",
   "id": "ddcf4fab",
   "metadata": {
    "papermill": {
     "duration": 0.035679,
     "end_time": "2022-02-26T20:09:28.025281",
     "exception": false,
     "start_time": "2022-02-26T20:09:27.989602",
     "status": "completed"
    },
    "tags": []
   },
   "source": [
    "And setup the labels as 1 (when the digit is 3) and 0 (when the digit is 8)"
   ]
  },
  {
   "cell_type": "code",
   "execution_count": 12,
   "id": "7dc908f2",
   "metadata": {
    "execution": {
     "iopub.execute_input": "2022-02-26T20:09:28.110520Z",
     "iopub.status.busy": "2022-02-26T20:09:28.109789Z",
     "iopub.status.idle": "2022-02-26T20:09:28.123899Z",
     "shell.execute_reply": "2022-02-26T20:09:28.124511Z"
    },
    "papermill": {
     "duration": 0.064145,
     "end_time": "2022-02-26T20:09:28.124715",
     "exception": false,
     "start_time": "2022-02-26T20:09:28.060570",
     "status": "completed"
    },
    "tags": []
   },
   "outputs": [],
   "source": [
    "y_train = 1*(y_train==3)\n",
    "y_test = 1*(y_test==3)"
   ]
  },
  {
   "cell_type": "code",
   "execution_count": 13,
   "id": "01e4e969",
   "metadata": {
    "execution": {
     "iopub.execute_input": "2022-02-26T20:09:28.199172Z",
     "iopub.status.busy": "2022-02-26T20:09:28.198551Z",
     "iopub.status.idle": "2022-02-26T20:09:28.214775Z",
     "shell.execute_reply": "2022-02-26T20:09:28.215380Z"
    },
    "papermill": {
     "duration": 0.053714,
     "end_time": "2022-02-26T20:09:28.215562",
     "exception": false,
     "start_time": "2022-02-26T20:09:28.161848",
     "status": "completed"
    },
    "tags": []
   },
   "outputs": [
    {
     "data": {
      "text/plain": [
       "((11982, 28, 28), (1984, 28, 28))"
      ]
     },
     "execution_count": 13,
     "metadata": {},
     "output_type": "execute_result"
    }
   ],
   "source": [
    "X_train.shape, X_test.shape"
   ]
  },
  {
   "cell_type": "markdown",
   "id": "5ccf3f85",
   "metadata": {
    "papermill": {
     "duration": 0.035678,
     "end_time": "2022-02-26T20:09:28.286325",
     "exception": false,
     "start_time": "2022-02-26T20:09:28.250647",
     "status": "completed"
    },
    "tags": []
   },
   "source": [
    "We reshape the data to flatten the image pixels into a set of features or co-variates:"
   ]
  },
  {
   "cell_type": "code",
   "execution_count": 14,
   "id": "5286a4a3",
   "metadata": {
    "execution": {
     "iopub.execute_input": "2022-02-26T20:09:28.363778Z",
     "iopub.status.busy": "2022-02-26T20:09:28.362985Z",
     "iopub.status.idle": "2022-02-26T20:09:28.377305Z",
     "shell.execute_reply": "2022-02-26T20:09:28.377914Z"
    },
    "papermill": {
     "duration": 0.056586,
     "end_time": "2022-02-26T20:09:28.378110",
     "exception": false,
     "start_time": "2022-02-26T20:09:28.321524",
     "status": "completed"
    },
    "tags": []
   },
   "outputs": [
    {
     "data": {
      "text/plain": [
       "((11982, 784), (1984, 784))"
      ]
     },
     "execution_count": 14,
     "metadata": {},
     "output_type": "execute_result"
    }
   ],
   "source": [
    "X_train = X_train.reshape(X_train.shape[0], -1)\n",
    "X_test = X_test.reshape(X_test.shape[0], -1)\n",
    "X_train.shape, X_test.shape"
   ]
  },
  {
   "cell_type": "code",
   "execution_count": 15,
   "id": "73c5f88a",
   "metadata": {
    "execution": {
     "iopub.execute_input": "2022-02-26T20:09:28.456243Z",
     "iopub.status.busy": "2022-02-26T20:09:28.455625Z",
     "iopub.status.idle": "2022-02-26T20:09:28.477342Z",
     "shell.execute_reply": "2022-02-26T20:09:28.477917Z"
    },
    "papermill": {
     "duration": 0.062977,
     "end_time": "2022-02-26T20:09:28.478098",
     "exception": false,
     "start_time": "2022-02-26T20:09:28.415121",
     "status": "completed"
    },
    "tags": []
   },
   "outputs": [],
   "source": [
    "#Impoting functions from 'Kudzu'\n",
    "from kudzu.model import Model\n",
    "from kudzu.train import Learner\n",
    "from kudzu.optim import GD\n",
    "from kudzu.data import Data, Sampler,Dataloader\n",
    "\n",
    "from kudzu.callbacks import AccCallback\n",
    "from kudzu.callbacks import ClfCallback\n",
    "\n",
    "from kudzu.loss import MSE\n",
    "\n",
    "from kudzu.layer import Sigmoid,Relu\n",
    "from kudzu.layer import Affine"
   ]
  },
  {
   "cell_type": "markdown",
   "id": "bc01172a",
   "metadata": {
    "papermill": {
     "duration": 0.035282,
     "end_time": "2022-02-26T20:09:28.548511",
     "exception": false,
     "start_time": "2022-02-26T20:09:28.513229",
     "status": "completed"
    },
    "tags": []
   },
   "source": [
    "### Let us create a `Config` class, to store important parameters. \n",
    "This class essentially plays the role of a dictionary."
   ]
  },
  {
   "cell_type": "code",
   "execution_count": 16,
   "id": "978281aa",
   "metadata": {
    "execution": {
     "iopub.execute_input": "2022-02-26T20:09:28.626791Z",
     "iopub.status.busy": "2022-02-26T20:09:28.624303Z",
     "iopub.status.idle": "2022-02-26T20:09:28.639355Z",
     "shell.execute_reply": "2022-02-26T20:09:28.639897Z"
    },
    "papermill": {
     "duration": 0.05605,
     "end_time": "2022-02-26T20:09:28.640081",
     "exception": false,
     "start_time": "2022-02-26T20:09:28.584031",
     "status": "completed"
    },
    "tags": []
   },
   "outputs": [],
   "source": [
    "class Config:\n",
    "    pass\n",
    "config = Config()\n",
    "config.lr = 0.001\n",
    "config.num_epochs = 250\n",
    "config.bs = 50"
   ]
  },
  {
   "cell_type": "markdown",
   "id": "1385fa59",
   "metadata": {
    "papermill": {
     "duration": 0.033453,
     "end_time": "2022-02-26T20:09:28.707679",
     "exception": false,
     "start_time": "2022-02-26T20:09:28.674226",
     "status": "completed"
    },
    "tags": []
   },
   "source": [
    "### Running Models with the Training data\n",
    "Details about the network layers:\n",
    "- A first affine layer has 784 inputs and does 100 affine transforms. These are followed by a Relu\n",
    "- A second affine layer has 100 inputs from the 100 activations of the past layer, and does 100 affine transforms. These are followed by a Relu\n",
    "- A third affine layer has 100 activations and does 2 affine transformations to create an embedding for visualization. There is no non-linearity here.\n",
    "- A final \"logistic regression\" which has an affine transform from 2 inputs to 1 output, which is squeezed through a sigmoid.\n"
   ]
  },
  {
   "cell_type": "code",
   "execution_count": 17,
   "id": "2b9c66db",
   "metadata": {
    "execution": {
     "iopub.execute_input": "2022-02-26T20:09:28.779397Z",
     "iopub.status.busy": "2022-02-26T20:09:28.778763Z",
     "iopub.status.idle": "2022-02-26T20:09:28.793267Z",
     "shell.execute_reply": "2022-02-26T20:09:28.792440Z"
    },
    "papermill": {
     "duration": 0.052299,
     "end_time": "2022-02-26T20:09:28.793427",
     "exception": false,
     "start_time": "2022-02-26T20:09:28.741128",
     "status": "completed"
    },
    "tags": []
   },
   "outputs": [],
   "source": [
    "data = Data(X_train, y_train.reshape(-1,1))\n",
    "sampler = Sampler(data, config.bs, shuffle=True)\n",
    "\n",
    "dl = Dataloader(data, sampler)\n",
    "\n",
    "opt = GD(config.lr)\n",
    "loss = MSE()"
   ]
  },
  {
   "cell_type": "code",
   "execution_count": 18,
   "id": "b275e4c2",
   "metadata": {
    "execution": {
     "iopub.execute_input": "2022-02-26T20:09:28.867889Z",
     "iopub.status.busy": "2022-02-26T20:09:28.867182Z",
     "iopub.status.idle": "2022-02-26T20:09:28.881575Z",
     "shell.execute_reply": "2022-02-26T20:09:28.882059Z"
    },
    "papermill": {
     "duration": 0.0546,
     "end_time": "2022-02-26T20:09:28.882225",
     "exception": false,
     "start_time": "2022-02-26T20:09:28.827625",
     "status": "completed"
    },
    "tags": []
   },
   "outputs": [],
   "source": [
    "training_data_x = X_train\n",
    "testing_data_x = X_test\n",
    "training_data_y = y_train.reshape(-1,1)\n",
    "testing_data_y = y_test.reshape(-1,1)"
   ]
  },
  {
   "cell_type": "code",
   "execution_count": 19,
   "id": "76951160",
   "metadata": {
    "execution": {
     "iopub.execute_input": "2022-02-26T20:09:28.956595Z",
     "iopub.status.busy": "2022-02-26T20:09:28.955932Z",
     "iopub.status.idle": "2022-02-26T20:09:28.974639Z",
     "shell.execute_reply": "2022-02-26T20:09:28.973947Z"
    },
    "papermill": {
     "duration": 0.058329,
     "end_time": "2022-02-26T20:09:28.974804",
     "exception": false,
     "start_time": "2022-02-26T20:09:28.916475",
     "status": "completed"
    },
    "tags": []
   },
   "outputs": [
    {
     "name": "stdout",
     "output_type": "stream",
     "text": [
      "xavier\n",
      "xavier\n",
      "xavier\n",
      "xavier\n",
      "xavier\n"
     ]
    }
   ],
   "source": [
    "layers = [Affine(\"first\", 784, 100), Relu(\"first\"), Affine(\"second\", 100, 100), Relu(\"second\"), Affine(\"third\", 100, 2), Affine(\"last\", 2, 1), Sigmoid(\"last\")]\n",
    "model_nn = Model(layers)\n",
    "model_lr = Model([Affine(\"logits\", 784, 1), Sigmoid(\"sigmoid\")])"
   ]
  },
  {
   "cell_type": "code",
   "execution_count": 20,
   "id": "6eede77a",
   "metadata": {
    "execution": {
     "iopub.execute_input": "2022-02-26T20:09:29.054975Z",
     "iopub.status.busy": "2022-02-26T20:09:29.054285Z",
     "iopub.status.idle": "2022-02-26T20:09:29.070337Z",
     "shell.execute_reply": "2022-02-26T20:09:29.069726Z"
    },
    "papermill": {
     "duration": 0.060105,
     "end_time": "2022-02-26T20:09:29.070493",
     "exception": false,
     "start_time": "2022-02-26T20:09:29.010388",
     "status": "completed"
    },
    "tags": []
   },
   "outputs": [],
   "source": [
    "nn_learner = Learner(loss, model_nn, opt, config.num_epochs)\n",
    "acc_nn = ClfCallback(nn_learner, config.bs, training_data_x , testing_data_x, training_data_y, testing_data_y)\n",
    "nn_learner.set_callbacks([acc_nn])"
   ]
  },
  {
   "cell_type": "code",
   "execution_count": 21,
   "id": "877b6cc7",
   "metadata": {
    "execution": {
     "iopub.execute_input": "2022-02-26T20:09:29.148914Z",
     "iopub.status.busy": "2022-02-26T20:09:29.148280Z",
     "iopub.status.idle": "2022-02-26T20:09:29.162257Z",
     "shell.execute_reply": "2022-02-26T20:09:29.162755Z"
    },
    "papermill": {
     "duration": 0.055748,
     "end_time": "2022-02-26T20:09:29.162926",
     "exception": false,
     "start_time": "2022-02-26T20:09:29.107178",
     "status": "completed"
    },
    "tags": []
   },
   "outputs": [],
   "source": [
    "lr_learner = Learner(loss, model_lr, opt, config.num_epochs)\n",
    "acc_lr = ClfCallback(lr_learner, config.bs, training_data_x , testing_data_x, training_data_y, testing_data_y)\n",
    "lr_learner.set_callbacks([acc_lr])"
   ]
  },
  {
   "cell_type": "code",
   "execution_count": 22,
   "id": "d9b133c3",
   "metadata": {
    "execution": {
     "iopub.execute_input": "2022-02-26T20:09:29.236786Z",
     "iopub.status.busy": "2022-02-26T20:09:29.235968Z",
     "iopub.status.idle": "2022-02-26T20:11:55.444012Z",
     "shell.execute_reply": "2022-02-26T20:11:55.444938Z"
    },
    "papermill": {
     "duration": 146.247576,
     "end_time": "2022-02-26T20:11:55.445116",
     "exception": false,
     "start_time": "2022-02-26T20:09:29.197540",
     "status": "completed"
    },
    "tags": []
   },
   "outputs": [
    {
     "name": "stdout",
     "output_type": "stream",
     "text": [
      "Epoch 0, Loss 0.2421\n",
      "Training Accuracy: 0.5561, Testing Accuracy: 0.5459\n",
      "\n"
     ]
    },
    {
     "name": "stdout",
     "output_type": "stream",
     "text": [
      "Epoch 10, Loss 0.1414\n",
      "Training Accuracy: 0.8935, Testing Accuracy: 0.9088\n",
      "\n"
     ]
    },
    {
     "name": "stdout",
     "output_type": "stream",
     "text": [
      "Epoch 20, Loss 0.0729\n",
      "Training Accuracy: 0.9291, Testing Accuracy: 0.9420\n",
      "\n"
     ]
    },
    {
     "name": "stdout",
     "output_type": "stream",
     "text": [
      "Epoch 30, Loss 0.052\n",
      "Training Accuracy: 0.9451, Testing Accuracy: 0.9567\n",
      "\n"
     ]
    },
    {
     "name": "stdout",
     "output_type": "stream",
     "text": [
      "Epoch 40, Loss 0.0429\n",
      "Training Accuracy: 0.9529, Testing Accuracy: 0.9607\n",
      "\n"
     ]
    },
    {
     "name": "stdout",
     "output_type": "stream",
     "text": [
      "Epoch 50, Loss 0.0378\n",
      "Training Accuracy: 0.9580, Testing Accuracy: 0.9652\n",
      "\n"
     ]
    },
    {
     "name": "stdout",
     "output_type": "stream",
     "text": [
      "Epoch 60, Loss 0.0345\n",
      "Training Accuracy: 0.9612, Testing Accuracy: 0.9672\n",
      "\n"
     ]
    },
    {
     "name": "stdout",
     "output_type": "stream",
     "text": [
      "Epoch 70, Loss 0.0321\n",
      "Training Accuracy: 0.9636, Testing Accuracy: 0.9677\n",
      "\n"
     ]
    },
    {
     "name": "stdout",
     "output_type": "stream",
     "text": [
      "Epoch 80, Loss 0.0302\n",
      "Training Accuracy: 0.9659, Testing Accuracy: 0.9677\n",
      "\n"
     ]
    },
    {
     "name": "stdout",
     "output_type": "stream",
     "text": [
      "Epoch 90, Loss 0.0288\n",
      "Training Accuracy: 0.9678, Testing Accuracy: 0.9672\n",
      "\n"
     ]
    },
    {
     "name": "stdout",
     "output_type": "stream",
     "text": [
      "Epoch 100, Loss 0.0275\n",
      "Training Accuracy: 0.9690, Testing Accuracy: 0.9672\n",
      "\n"
     ]
    },
    {
     "name": "stdout",
     "output_type": "stream",
     "text": [
      "Epoch 110, Loss 0.0265\n",
      "Training Accuracy: 0.9705, Testing Accuracy: 0.9682\n",
      "\n"
     ]
    },
    {
     "name": "stdout",
     "output_type": "stream",
     "text": [
      "Epoch 120, Loss 0.0255\n",
      "Training Accuracy: 0.9715, Testing Accuracy: 0.9682\n",
      "\n"
     ]
    },
    {
     "name": "stdout",
     "output_type": "stream",
     "text": [
      "Epoch 130, Loss 0.0247\n",
      "Training Accuracy: 0.9725, Testing Accuracy: 0.9688\n",
      "\n"
     ]
    },
    {
     "name": "stdout",
     "output_type": "stream",
     "text": [
      "Epoch 140, Loss 0.024\n",
      "Training Accuracy: 0.9730, Testing Accuracy: 0.9688\n",
      "\n"
     ]
    },
    {
     "name": "stdout",
     "output_type": "stream",
     "text": [
      "Epoch 150, Loss 0.0233\n",
      "Training Accuracy: 0.9738, Testing Accuracy: 0.9688\n",
      "\n"
     ]
    },
    {
     "name": "stdout",
     "output_type": "stream",
     "text": [
      "Epoch 160, Loss 0.0228\n",
      "Training Accuracy: 0.9749, Testing Accuracy: 0.9698\n",
      "\n"
     ]
    },
    {
     "name": "stdout",
     "output_type": "stream",
     "text": [
      "Epoch 170, Loss 0.0222\n",
      "Training Accuracy: 0.9752, Testing Accuracy: 0.9703\n",
      "\n"
     ]
    },
    {
     "name": "stdout",
     "output_type": "stream",
     "text": [
      "Epoch 180, Loss 0.0217\n",
      "Training Accuracy: 0.9755, Testing Accuracy: 0.9703\n",
      "\n"
     ]
    },
    {
     "name": "stdout",
     "output_type": "stream",
     "text": [
      "Epoch 190, Loss 0.0212\n",
      "Training Accuracy: 0.9760, Testing Accuracy: 0.9718\n",
      "\n"
     ]
    },
    {
     "name": "stdout",
     "output_type": "stream",
     "text": [
      "Epoch 200, Loss 0.0208\n",
      "Training Accuracy: 0.9768, Testing Accuracy: 0.9728\n",
      "\n"
     ]
    },
    {
     "name": "stdout",
     "output_type": "stream",
     "text": [
      "Epoch 210, Loss 0.0204\n",
      "Training Accuracy: 0.9774, Testing Accuracy: 0.9728\n",
      "\n"
     ]
    },
    {
     "name": "stdout",
     "output_type": "stream",
     "text": [
      "Epoch 220, Loss 0.02\n",
      "Training Accuracy: 0.9778, Testing Accuracy: 0.9748\n",
      "\n"
     ]
    },
    {
     "name": "stdout",
     "output_type": "stream",
     "text": [
      "Epoch 230, Loss 0.0196\n",
      "Training Accuracy: 0.9783, Testing Accuracy: 0.9748\n",
      "\n"
     ]
    },
    {
     "name": "stdout",
     "output_type": "stream",
     "text": [
      "Epoch 240, Loss 0.0192\n",
      "Training Accuracy: 0.9789, Testing Accuracy: 0.9753\n",
      "\n"
     ]
    },
    {
     "data": {
      "text/plain": [
       "0.026893841347813405"
      ]
     },
     "execution_count": 22,
     "metadata": {},
     "output_type": "execute_result"
    }
   ],
   "source": [
    "nn_learner.train_loop(dl)"
   ]
  },
  {
   "cell_type": "code",
   "execution_count": 23,
   "id": "e0163366",
   "metadata": {
    "execution": {
     "iopub.execute_input": "2022-02-26T20:11:55.547647Z",
     "iopub.status.busy": "2022-02-26T20:11:55.546926Z",
     "iopub.status.idle": "2022-02-26T20:12:17.239385Z",
     "shell.execute_reply": "2022-02-26T20:12:17.240296Z"
    },
    "papermill": {
     "duration": 21.748753,
     "end_time": "2022-02-26T20:12:17.240467",
     "exception": false,
     "start_time": "2022-02-26T20:11:55.491714",
     "status": "completed"
    },
    "tags": []
   },
   "outputs": [
    {
     "name": "stdout",
     "output_type": "stream",
     "text": [
      "Epoch 0, Loss 0.2487\n",
      "Training Accuracy: 0.6725, Testing Accuracy: 0.7026\n",
      "\n"
     ]
    },
    {
     "name": "stdout",
     "output_type": "stream",
     "text": [
      "Epoch 10, Loss 0.103\n",
      "Training Accuracy: 0.9106, Testing Accuracy: 0.9259\n",
      "\n"
     ]
    },
    {
     "name": "stdout",
     "output_type": "stream",
     "text": [
      "Epoch 20, Loss 0.0798\n",
      "Training Accuracy: 0.9257, Testing Accuracy: 0.9410\n",
      "\n"
     ]
    },
    {
     "name": "stdout",
     "output_type": "stream",
     "text": [
      "Epoch 30, Loss 0.069\n",
      "Training Accuracy: 0.9331, Testing Accuracy: 0.9481\n",
      "\n"
     ]
    },
    {
     "name": "stdout",
     "output_type": "stream",
     "text": [
      "Epoch 40, Loss 0.0625\n",
      "Training Accuracy: 0.9387, Testing Accuracy: 0.9516\n",
      "\n"
     ]
    },
    {
     "name": "stdout",
     "output_type": "stream",
     "text": [
      "Epoch 50, Loss 0.058\n",
      "Training Accuracy: 0.9429, Testing Accuracy: 0.9551\n",
      "\n"
     ]
    },
    {
     "name": "stdout",
     "output_type": "stream",
     "text": [
      "Epoch 60, Loss 0.0547\n",
      "Training Accuracy: 0.9454, Testing Accuracy: 0.9577\n",
      "\n"
     ]
    },
    {
     "name": "stdout",
     "output_type": "stream",
     "text": [
      "Epoch 70, Loss 0.0521\n",
      "Training Accuracy: 0.9472, Testing Accuracy: 0.9572\n",
      "\n"
     ]
    },
    {
     "name": "stdout",
     "output_type": "stream",
     "text": [
      "Epoch 80, Loss 0.05\n",
      "Training Accuracy: 0.9498, Testing Accuracy: 0.9577\n",
      "\n"
     ]
    },
    {
     "name": "stdout",
     "output_type": "stream",
     "text": [
      "Epoch 90, Loss 0.0483\n",
      "Training Accuracy: 0.9516, Testing Accuracy: 0.9597\n",
      "\n"
     ]
    },
    {
     "name": "stdout",
     "output_type": "stream",
     "text": [
      "Epoch 100, Loss 0.0468\n",
      "Training Accuracy: 0.9522, Testing Accuracy: 0.9602\n",
      "\n"
     ]
    },
    {
     "name": "stdout",
     "output_type": "stream",
     "text": [
      "Epoch 110, Loss 0.0455\n",
      "Training Accuracy: 0.9528, Testing Accuracy: 0.9612\n",
      "\n"
     ]
    },
    {
     "name": "stdout",
     "output_type": "stream",
     "text": [
      "Epoch 120, Loss 0.0445\n",
      "Training Accuracy: 0.9539, Testing Accuracy: 0.9612\n",
      "\n"
     ]
    },
    {
     "name": "stdout",
     "output_type": "stream",
     "text": [
      "Epoch 130, Loss 0.0435\n",
      "Training Accuracy: 0.9548, Testing Accuracy: 0.9617\n",
      "\n"
     ]
    },
    {
     "name": "stdout",
     "output_type": "stream",
     "text": [
      "Epoch 140, Loss 0.0426\n",
      "Training Accuracy: 0.9551, Testing Accuracy: 0.9617\n",
      "\n"
     ]
    },
    {
     "name": "stdout",
     "output_type": "stream",
     "text": [
      "Epoch 150, Loss 0.0419\n",
      "Training Accuracy: 0.9553, Testing Accuracy: 0.9617\n",
      "\n"
     ]
    },
    {
     "name": "stdout",
     "output_type": "stream",
     "text": [
      "Epoch 160, Loss 0.0412\n",
      "Training Accuracy: 0.9562, Testing Accuracy: 0.9622\n",
      "\n"
     ]
    },
    {
     "name": "stdout",
     "output_type": "stream",
     "text": [
      "Epoch 170, Loss 0.0405\n",
      "Training Accuracy: 0.9569, Testing Accuracy: 0.9632\n",
      "\n"
     ]
    },
    {
     "name": "stdout",
     "output_type": "stream",
     "text": [
      "Epoch 180, Loss 0.04\n",
      "Training Accuracy: 0.9573, Testing Accuracy: 0.9647\n",
      "\n"
     ]
    },
    {
     "name": "stdout",
     "output_type": "stream",
     "text": [
      "Epoch 190, Loss 0.0394\n",
      "Training Accuracy: 0.9579, Testing Accuracy: 0.9652\n",
      "\n"
     ]
    },
    {
     "name": "stdout",
     "output_type": "stream",
     "text": [
      "Epoch 200, Loss 0.0389\n",
      "Training Accuracy: 0.9579, Testing Accuracy: 0.9652\n",
      "\n"
     ]
    },
    {
     "name": "stdout",
     "output_type": "stream",
     "text": [
      "Epoch 210, Loss 0.0385\n",
      "Training Accuracy: 0.9584, Testing Accuracy: 0.9662\n",
      "\n"
     ]
    },
    {
     "name": "stdout",
     "output_type": "stream",
     "text": [
      "Epoch 220, Loss 0.0381\n",
      "Training Accuracy: 0.9584, Testing Accuracy: 0.9667\n",
      "\n"
     ]
    },
    {
     "name": "stdout",
     "output_type": "stream",
     "text": [
      "Epoch 230, Loss 0.0377\n",
      "Training Accuracy: 0.9584, Testing Accuracy: 0.9682\n",
      "\n"
     ]
    },
    {
     "name": "stdout",
     "output_type": "stream",
     "text": [
      "Epoch 240, Loss 0.0373\n",
      "Training Accuracy: 0.9588, Testing Accuracy: 0.9682\n",
      "\n"
     ]
    },
    {
     "data": {
      "text/plain": [
       "0.04467470264491853"
      ]
     },
     "execution_count": 23,
     "metadata": {},
     "output_type": "execute_result"
    }
   ],
   "source": [
    "lr_learner.train_loop(dl)"
   ]
  },
  {
   "cell_type": "code",
   "execution_count": 24,
   "id": "ca410940",
   "metadata": {
    "execution": {
     "iopub.execute_input": "2022-02-26T20:12:17.354583Z",
     "iopub.status.busy": "2022-02-26T20:12:17.353873Z",
     "iopub.status.idle": "2022-02-26T20:12:17.661359Z",
     "shell.execute_reply": "2022-02-26T20:12:17.660715Z"
    },
    "papermill": {
     "duration": 0.367946,
     "end_time": "2022-02-26T20:12:17.661505",
     "exception": false,
     "start_time": "2022-02-26T20:12:17.293559",
     "status": "completed"
    },
    "tags": []
   },
   "outputs": [
    {
     "data": {
      "text/plain": [
       "<matplotlib.legend.Legend at 0x7f991c48bc88>"
      ]
     },
     "execution_count": 24,
     "metadata": {},
     "output_type": "execute_result"
    },
    {
     "data": {
      "image/png": "[encoded data removed]",
      "text/plain": [
       "<Figure size 1080x720 with 1 Axes>"
      ]
     },
     "metadata": {
      "needs_background": "light"
     },
     "output_type": "display_data"
    }
   ],
   "source": [
    "#comparing the results of NN and LR\n",
    "plt.figure(figsize=(15,10))\n",
    "\n",
    "# Neural Network plots\n",
    "plt.plot(acc_nn.accuracies, 'r-', label = \"Training Accuracies - NN\")\n",
    "plt.plot(acc_nn.test_accuracies, 'g-', label = \"Testing Accuracies - NN\")\n",
    "\n",
    "# Logistic Regression plots\n",
    "plt.plot(acc_lr.accuracies, 'k-', label = \"Training Accuracies - LR\")\n",
    "plt.plot(acc_lr.test_accuracies, 'b-', label = \"Testing Accuracies - LR\")\n",
    "plt.legend()"
   ]
  },
  {
   "cell_type": "markdown",
   "id": "80dfb35c",
   "metadata": {
    "papermill": {
     "duration": 0.056936,
     "end_time": "2022-02-26T20:12:17.774330",
     "exception": false,
     "start_time": "2022-02-26T20:12:17.717394",
     "status": "completed"
    },
    "tags": []
   },
   "source": [
    "#### Plotting the outputs of this layer of the NN.\n"
   ]
  },
  {
   "cell_type": "code",
   "execution_count": 25,
   "id": "45eb2ff5",
   "metadata": {
    "execution": {
     "iopub.execute_input": "2022-02-26T20:12:17.898816Z",
     "iopub.status.busy": "2022-02-26T20:12:17.898021Z",
     "iopub.status.idle": "2022-02-26T20:12:17.924694Z",
     "shell.execute_reply": "2022-02-26T20:12:17.925327Z"
    },
    "papermill": {
     "duration": 0.093347,
     "end_time": "2022-02-26T20:12:17.925512",
     "exception": false,
     "start_time": "2022-02-26T20:12:17.832165",
     "status": "completed"
    },
    "tags": []
   },
   "outputs": [],
   "source": [
    "new_model = Model(layers[:-2])\n",
    "testing_plot = new_model(testing_data_x)"
   ]
  },
  {
   "cell_type": "code",
   "execution_count": 26,
   "id": "4c0a5485",
   "metadata": {
    "execution": {
     "iopub.execute_input": "2022-02-26T20:12:18.046945Z",
     "iopub.status.busy": "2022-02-26T20:12:18.046230Z",
     "iopub.status.idle": "2022-02-26T20:12:18.341553Z",
     "shell.execute_reply": "2022-02-26T20:12:18.342131Z"
    },
    "papermill": {
     "duration": 0.35925,
     "end_time": "2022-02-26T20:12:18.342309",
     "exception": false,
     "start_time": "2022-02-26T20:12:17.983059",
     "status": "completed"
    },
    "tags": []
   },
   "outputs": [
    {
     "data": {
      "text/plain": [
       "Text(0.5, 1.0, 'Outputs')"
      ]
     },
     "execution_count": 26,
     "metadata": {},
     "output_type": "execute_result"
    },
    {
     "data": {
      "image/png": "[encoded data removed]",
      "text/plain": [
       "<Figure size 576x504 with 1 Axes>"
      ]
     },
     "metadata": {
      "needs_background": "light"
     },
     "output_type": "display_data"
    }
   ],
   "source": [
    "# Plotting the scatter plot of points and color coding by class\n",
    "plt.figure(figsize=(8,7))\n",
    "plt.scatter(testing_plot[:,0], testing_plot[:,1], alpha = 0.1, c = y_test.ravel());\n",
    "plt.title('Outputs')"
   ]
  },
  {
   "cell_type": "markdown",
   "id": "a74fcf8f",
   "metadata": {
    "papermill": {
     "duration": 0.058432,
     "end_time": "2022-02-26T20:12:18.459899",
     "exception": false,
     "start_time": "2022-02-26T20:12:18.401467",
     "status": "completed"
    },
    "tags": []
   },
   "source": [
    "Probability contours"
   ]
  },
  {
   "cell_type": "code",
   "execution_count": 27,
   "id": "d0afc8e3",
   "metadata": {
    "execution": {
     "iopub.execute_input": "2022-02-26T20:12:18.582209Z",
     "iopub.status.busy": "2022-02-26T20:12:18.581526Z",
     "iopub.status.idle": "2022-02-26T20:12:18.597591Z",
     "shell.execute_reply": "2022-02-26T20:12:18.596933Z"
    },
    "papermill": {
     "duration": 0.079876,
     "end_time": "2022-02-26T20:12:18.597751",
     "exception": false,
     "start_time": "2022-02-26T20:12:18.517875",
     "status": "completed"
    },
    "tags": []
   },
   "outputs": [],
   "source": [
    "model_prob = Model(layers[-2:]) "
   ]
  },
  {
   "cell_type": "code",
   "execution_count": 28,
   "id": "9b96e238",
   "metadata": {
    "execution": {
     "iopub.execute_input": "2022-02-26T20:12:18.756939Z",
     "iopub.status.busy": "2022-02-26T20:12:18.756218Z",
     "iopub.status.idle": "2022-02-26T20:12:18.772319Z",
     "shell.execute_reply": "2022-02-26T20:12:18.772852Z"
    },
    "papermill": {
     "duration": 0.117441,
     "end_time": "2022-02-26T20:12:18.773032",
     "exception": false,
     "start_time": "2022-02-26T20:12:18.655591",
     "status": "completed"
    },
    "tags": []
   },
   "outputs": [],
   "source": [
    "#creating the x and y ranges according to the above generated plot.\n",
    "x_range = np.linspace(-4, 1, 100) \n",
    "y_range = np.linspace(-6, 6, 100) \n",
    "x_grid, y_grid = np.meshgrid(x_range, y_range) # x_grid and y_grig are of size 100 X 100\n",
    "\n",
    "# converting x_grid and y_grid to continuous arrays\n",
    "x_gridflat = np.ravel(x_grid)\n",
    "y_gridflat = np.ravel(y_grid)\n",
    "\n",
    "# The last layer of the current model takes two columns as input. Hence transpose of np.vstack() is required.\n",
    "X = np.vstack((x_gridflat, y_gridflat)).T\n",
    "\n",
    "prob_contour = model_prob(X).reshape(100,100) "
   ]
  },
  {
   "cell_type": "code",
   "execution_count": 29,
   "id": "da72499a",
   "metadata": {
    "execution": {
     "iopub.execute_input": "2022-02-26T20:12:18.898646Z",
     "iopub.status.busy": "2022-02-26T20:12:18.897921Z",
     "iopub.status.idle": "2022-02-26T20:12:19.244182Z",
     "shell.execute_reply": "2022-02-26T20:12:19.244734Z"
    },
    "papermill": {
     "duration": 0.413544,
     "end_time": "2022-02-26T20:12:19.244905",
     "exception": false,
     "start_time": "2022-02-26T20:12:18.831361",
     "status": "completed"
    },
    "tags": []
   },
   "outputs": [
    {
     "data": {
      "image/png": "[encoded data removed]",
      "text/plain": [
       "<Figure size 720x648 with 1 Axes>"
      ]
     },
     "metadata": {
      "needs_background": "light"
     },
     "output_type": "display_data"
    }
   ],
   "source": [
    "plt.figure(figsize=(10,9))\n",
    "plt.scatter(testing_plot[:,0], testing_plot[:,1], alpha = 0.1, c = y_test.ravel())\n",
    "contours = plt.contour(x_grid,y_grid,prob_contour)\n",
    "plt.title('Probability Contours')\n",
    "plt.clabel(contours, inline = True );"
   ]
  },
  {
   "cell_type": "code",
   "execution_count": null,
   "id": "e81b4ac7",
   "metadata": {
    "papermill": {
     "duration": 0.062168,
     "end_time": "2022-02-26T20:12:19.363651",
     "exception": false,
     "start_time": "2022-02-26T20:12:19.301483",
     "status": "completed"
    },
    "tags": []
   },
   "outputs": [],
   "source": []
  }
 ],
 "metadata": {
  "kernelspec": {
   "display_name": "Python 3",
   "language": "python",
   "name": "python3"
  },
  "language_info": {
   "codemirror_mode": {
    "name": "ipython",
    "version": 3
   },
   "file_extension": ".py",
   "mimetype": "text/x-python",
   "name": "python",
   "nbconvert_exporter": "python",
   "pygments_lexer": "ipython3",
   "version": "3.6.15"
  },
  "papermill": {
   "default_parameters": {},
   "duration": 179.164432,
   "end_time": "2022-02-26T20:12:19.947252",
   "environment_variables": {},
   "exception": null,
   "input_path": "2020-08-11-part2.ipynb",
   "output_path": "2020-08-11-part2.ipynb",
   "parameters": {},
   "start_time": "2022-02-26T20:09:20.782820",
   "version": "2.3.3"
  }
 },
 "nbformat": 4,
 "nbformat_minor": 5
}