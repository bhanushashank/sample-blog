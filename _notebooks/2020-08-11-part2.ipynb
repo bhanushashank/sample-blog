{
 "cells": [
  {
   "cell_type": "markdown",
   "id": "98380cd3",
   "metadata": {
    "papermill": {
     "duration": 0.038887,
     "end_time": "2022-08-16T00:48:04.616961",
     "exception": false,
     "start_time": "2022-08-16T00:48:04.578074",
     "status": "completed"
    },
    "tags": []
   },
   "source": [
    "# Distinguish Your Own Digits (DYOD)"
   ]
  },
  {
   "cell_type": "markdown",
   "id": "ef31240d",
   "metadata": {
    "papermill": {
     "duration": 0.030918,
     "end_time": "2022-08-16T00:48:04.678635",
     "exception": false,
     "start_time": "2022-08-16T00:48:04.647717",
     "status": "completed"
    },
    "tags": []
   },
   "source": [
    "You are going to write a classifier that distinguishes between the number 3 and number 8."
   ]
  },
  {
   "cell_type": "code",
   "execution_count": 1,
   "id": "b15c8646",
   "metadata": {
    "execution": {
     "iopub.execute_input": "2022-08-16T00:48:04.751643Z",
     "iopub.status.busy": "2022-08-16T00:48:04.750849Z",
     "iopub.status.idle": "2022-08-16T00:48:04.764492Z",
     "shell.execute_reply": "2022-08-16T00:48:04.763926Z"
    },
    "papermill": {
     "duration": 0.055468,
     "end_time": "2022-08-16T00:48:04.764642",
     "exception": false,
     "start_time": "2022-08-16T00:48:04.709174",
     "status": "completed"
    },
    "tags": []
   },
   "outputs": [],
   "source": [
    "%load_ext autoreload\n",
    "%autoreload 2"
   ]
  },
  {
   "cell_type": "code",
   "execution_count": 2,
   "id": "22ef38dc",
   "metadata": {
    "execution": {
     "iopub.execute_input": "2022-08-16T00:48:04.827771Z",
     "iopub.status.busy": "2022-08-16T00:48:04.826926Z",
     "iopub.status.idle": "2022-08-16T00:48:05.476523Z",
     "shell.execute_reply": "2022-08-16T00:48:05.475920Z"
    },
    "papermill": {
     "duration": 0.684199,
     "end_time": "2022-08-16T00:48:05.476671",
     "exception": false,
     "start_time": "2022-08-16T00:48:04.792472",
     "status": "completed"
    },
    "tags": []
   },
   "outputs": [],
   "source": [
    "%matplotlib inline\n",
    "import numpy as np\n",
    "import matplotlib.pyplot as plt\n",
    "import pandas as pd"
   ]
  },
  {
   "cell_type": "markdown",
   "id": "ba036198",
   "metadata": {
    "papermill": {
     "duration": 0.031143,
     "end_time": "2022-08-16T00:48:05.537093",
     "exception": false,
     "start_time": "2022-08-16T00:48:05.505950",
     "status": "completed"
    },
    "tags": []
   },
   "source": [
    "From the command line run `pip install mnist`. This is a library that will help you bring down the mnist dataset. If you run this from a notebook, you need to put  `!pip install mnist` in a cell by itself."
   ]
  },
  {
   "cell_type": "code",
   "execution_count": 3,
   "id": "bb6ad8a1",
   "metadata": {
    "execution": {
     "iopub.execute_input": "2022-08-16T00:48:05.607593Z",
     "iopub.status.busy": "2022-08-16T00:48:05.606625Z",
     "iopub.status.idle": "2022-08-16T00:48:07.554854Z",
     "shell.execute_reply": "2022-08-16T00:48:07.554165Z"
    },
    "papermill": {
     "duration": 1.985918,
     "end_time": "2022-08-16T00:48:07.554995",
     "exception": false,
     "start_time": "2022-08-16T00:48:05.569077",
     "status": "completed"
    },
    "tags": []
   },
   "outputs": [
    {
     "name": "stdout",
     "output_type": "stream",
     "text": [
      "Collecting mnist\r\n"
     ]
    },
    {
     "name": "stdout",
     "output_type": "stream",
     "text": [
      "  Downloading mnist-0.2.2-py2.py3-none-any.whl (3.5 kB)\r\n",
      "Requirement already satisfied: numpy in /opt/hostedtoolcache/Python/3.6.15/x64/lib/python3.6/site-packages (from mnist) (1.19.5)\r\n"
     ]
    },
    {
     "name": "stdout",
     "output_type": "stream",
     "text": [
      "Installing collected packages: mnist\r\n"
     ]
    },
    {
     "name": "stdout",
     "output_type": "stream",
     "text": [
      "Successfully installed mnist-0.2.2\r\n"
     ]
    }
   ],
   "source": [
    "!pip install mnist"
   ]
  },
  {
   "cell_type": "markdown",
   "id": "69df9c9a",
   "metadata": {
    "papermill": {
     "duration": 0.03251,
     "end_time": "2022-08-16T00:48:07.618519",
     "exception": false,
     "start_time": "2022-08-16T00:48:07.586009",
     "status": "completed"
    },
    "tags": []
   },
   "source": [
    "## Preparing the Data"
   ]
  },
  {
   "cell_type": "code",
   "execution_count": 4,
   "id": "7f69d806",
   "metadata": {
    "execution": {
     "iopub.execute_input": "2022-08-16T00:48:07.684747Z",
     "iopub.status.busy": "2022-08-16T00:48:07.681989Z",
     "iopub.status.idle": "2022-08-16T00:48:07.699157Z",
     "shell.execute_reply": "2022-08-16T00:48:07.698632Z"
    },
    "papermill": {
     "duration": 0.051654,
     "end_time": "2022-08-16T00:48:07.699288",
     "exception": false,
     "start_time": "2022-08-16T00:48:07.647634",
     "status": "completed"
    },
    "tags": []
   },
   "outputs": [],
   "source": [
    "import mnist"
   ]
  },
  {
   "cell_type": "code",
   "execution_count": 5,
   "id": "a411e44f",
   "metadata": {
    "execution": {
     "iopub.execute_input": "2022-08-16T00:48:07.763579Z",
     "iopub.status.busy": "2022-08-16T00:48:07.762814Z",
     "iopub.status.idle": "2022-08-16T00:48:08.300118Z",
     "shell.execute_reply": "2022-08-16T00:48:08.299232Z"
    },
    "papermill": {
     "duration": 0.571033,
     "end_time": "2022-08-16T00:48:08.300289",
     "exception": false,
     "start_time": "2022-08-16T00:48:07.729256",
     "status": "completed"
    },
    "tags": []
   },
   "outputs": [],
   "source": [
    "train_images = mnist.train_images()\n",
    "train_labels = mnist.train_labels()"
   ]
  },
  {
   "cell_type": "code",
   "execution_count": 6,
   "id": "dceab3a5",
   "metadata": {
    "execution": {
     "iopub.execute_input": "2022-08-16T00:48:08.367216Z",
     "iopub.status.busy": "2022-08-16T00:48:08.366521Z",
     "iopub.status.idle": "2022-08-16T00:48:08.383025Z",
     "shell.execute_reply": "2022-08-16T00:48:08.383689Z"
    },
    "papermill": {
     "duration": 0.053055,
     "end_time": "2022-08-16T00:48:08.383853",
     "exception": false,
     "start_time": "2022-08-16T00:48:08.330798",
     "status": "completed"
    },
    "tags": []
   },
   "outputs": [
    {
     "data": {
      "text/plain": [
       "((60000, 28, 28), (60000,))"
      ]
     },
     "execution_count": 6,
     "metadata": {},
     "output_type": "execute_result"
    }
   ],
   "source": [
    "train_images.shape, train_labels.shape"
   ]
  },
  {
   "cell_type": "code",
   "execution_count": 7,
   "id": "f50dc2bb",
   "metadata": {
    "execution": {
     "iopub.execute_input": "2022-08-16T00:48:08.453463Z",
     "iopub.status.busy": "2022-08-16T00:48:08.452624Z",
     "iopub.status.idle": "2022-08-16T00:48:08.589620Z",
     "shell.execute_reply": "2022-08-16T00:48:08.590223Z"
    },
    "papermill": {
     "duration": 0.176184,
     "end_time": "2022-08-16T00:48:08.590496",
     "exception": false,
     "start_time": "2022-08-16T00:48:08.414312",
     "status": "completed"
    },
    "tags": []
   },
   "outputs": [],
   "source": [
    "test_images = mnist.test_images()\n",
    "test_labels = mnist.test_labels()"
   ]
  },
  {
   "cell_type": "code",
   "execution_count": 8,
   "id": "fc38cf1b",
   "metadata": {
    "execution": {
     "iopub.execute_input": "2022-08-16T00:48:08.665319Z",
     "iopub.status.busy": "2022-08-16T00:48:08.664508Z",
     "iopub.status.idle": "2022-08-16T00:48:08.680145Z",
     "shell.execute_reply": "2022-08-16T00:48:08.679503Z"
    },
    "papermill": {
     "duration": 0.055387,
     "end_time": "2022-08-16T00:48:08.680281",
     "exception": false,
     "start_time": "2022-08-16T00:48:08.624894",
     "status": "completed"
    },
    "tags": []
   },
   "outputs": [
    {
     "data": {
      "text/plain": [
       "((10000, 28, 28), (10000,))"
      ]
     },
     "execution_count": 8,
     "metadata": {},
     "output_type": "execute_result"
    }
   ],
   "source": [
    "test_images.shape, test_labels.shape"
   ]
  },
  {
   "cell_type": "code",
   "execution_count": 9,
   "id": "f9ed8fe0",
   "metadata": {
    "execution": {
     "iopub.execute_input": "2022-08-16T00:48:08.751664Z",
     "iopub.status.busy": "2022-08-16T00:48:08.750774Z",
     "iopub.status.idle": "2022-08-16T00:48:08.937498Z",
     "shell.execute_reply": "2022-08-16T00:48:08.936812Z"
    },
    "papermill": {
     "duration": 0.225092,
     "end_time": "2022-08-16T00:48:08.937649",
     "exception": false,
     "start_time": "2022-08-16T00:48:08.712557",
     "status": "completed"
    },
    "tags": []
   },
   "outputs": [
    {
     "name": "stdout",
     "output_type": "stream",
     "text": [
      "2\n"
     ]
    },
    {
     "data": {
      "text/plain": [
       "<matplotlib.image.AxesImage at 0x7f064bb979e8>"
      ]
     },
     "execution_count": 9,
     "metadata": {},
     "output_type": "execute_result"
    },
    {
     "data": {
      "image/png": "[encoded data removed]",
      "text/plain": [
       "<Figure size 432x288 with 1 Axes>"
      ]
     },
     "metadata": {
      "needs_background": "light"
     },
     "output_type": "display_data"
    }
   ],
   "source": [
    "image_index = 7776 # You may select anything up to 60,000\n",
    "print(train_labels[image_index]) \n",
    "plt.imshow(train_images[image_index], cmap='Greys')"
   ]
  },
  {
   "cell_type": "markdown",
   "id": "a8d2388d",
   "metadata": {
    "papermill": {
     "duration": 0.033031,
     "end_time": "2022-08-16T00:48:09.002649",
     "exception": false,
     "start_time": "2022-08-16T00:48:08.969618",
     "status": "completed"
    },
    "tags": []
   },
   "source": [
    "## Filter data to get 3 and 8 out"
   ]
  },
  {
   "cell_type": "code",
   "execution_count": 10,
   "id": "776f7fc7",
   "metadata": {
    "execution": {
     "iopub.execute_input": "2022-08-16T00:48:09.079614Z",
     "iopub.status.busy": "2022-08-16T00:48:09.077456Z",
     "iopub.status.idle": "2022-08-16T00:48:09.099889Z",
     "shell.execute_reply": "2022-08-16T00:48:09.099324Z"
    },
    "papermill": {
     "duration": 0.064399,
     "end_time": "2022-08-16T00:48:09.100090",
     "exception": false,
     "start_time": "2022-08-16T00:48:09.035691",
     "status": "completed"
    },
    "tags": []
   },
   "outputs": [],
   "source": [
    "train_filter = np.where((train_labels == 3 ) | (train_labels == 8))\n",
    "test_filter = np.where((test_labels == 3) | (test_labels == 8))\n",
    "X_train, y_train = train_images[train_filter], train_labels[train_filter]\n",
    "X_test, y_test = test_images[test_filter], test_labels[test_filter]"
   ]
  },
  {
   "cell_type": "markdown",
   "id": "948f0b7e",
   "metadata": {
    "papermill": {
     "duration": 0.031367,
     "end_time": "2022-08-16T00:48:09.165338",
     "exception": false,
     "start_time": "2022-08-16T00:48:09.133971",
     "status": "completed"
    },
    "tags": []
   },
   "source": [
    "We normalize the pizel values in the 0 to 1 range"
   ]
  },
  {
   "cell_type": "code",
   "execution_count": 11,
   "id": "ee4c2166",
   "metadata": {
    "execution": {
     "iopub.execute_input": "2022-08-16T00:48:09.236344Z",
     "iopub.status.busy": "2022-08-16T00:48:09.235554Z",
     "iopub.status.idle": "2022-08-16T00:48:09.302120Z",
     "shell.execute_reply": "2022-08-16T00:48:09.301406Z"
    },
    "papermill": {
     "duration": 0.104863,
     "end_time": "2022-08-16T00:48:09.302304",
     "exception": false,
     "start_time": "2022-08-16T00:48:09.197441",
     "status": "completed"
    },
    "tags": []
   },
   "outputs": [],
   "source": [
    "X_train = X_train/255.\n",
    "X_test = X_test/255."
   ]
  },
  {
   "cell_type": "markdown",
   "id": "ddcf4fab",
   "metadata": {
    "papermill": {
     "duration": 0.032424,
     "end_time": "2022-08-16T00:48:09.366442",
     "exception": false,
     "start_time": "2022-08-16T00:48:09.334018",
     "status": "completed"
    },
    "tags": []
   },
   "source": [
    "And setup the labels as 1 (when the digit is 3) and 0 (when the digit is 8)"
   ]
  },
  {
   "cell_type": "code",
   "execution_count": 12,
   "id": "7dc908f2",
   "metadata": {
    "execution": {
     "iopub.execute_input": "2022-08-16T00:48:09.433440Z",
     "iopub.status.busy": "2022-08-16T00:48:09.432687Z",
     "iopub.status.idle": "2022-08-16T00:48:09.447862Z",
     "shell.execute_reply": "2022-08-16T00:48:09.447248Z"
    },
    "papermill": {
     "duration": 0.050676,
     "end_time": "2022-08-16T00:48:09.447976",
     "exception": false,
     "start_time": "2022-08-16T00:48:09.397300",
     "status": "completed"
    },
    "tags": []
   },
   "outputs": [],
   "source": [
    "y_train = 1*(y_train==3)\n",
    "y_test = 1*(y_test==3)"
   ]
  },
  {
   "cell_type": "code",
   "execution_count": 13,
   "id": "01e4e969",
   "metadata": {
    "execution": {
     "iopub.execute_input": "2022-08-16T00:48:09.521300Z",
     "iopub.status.busy": "2022-08-16T00:48:09.520448Z",
     "iopub.status.idle": "2022-08-16T00:48:09.537743Z",
     "shell.execute_reply": "2022-08-16T00:48:09.538439Z"
    },
    "papermill": {
     "duration": 0.058582,
     "end_time": "2022-08-16T00:48:09.538589",
     "exception": false,
     "start_time": "2022-08-16T00:48:09.480007",
     "status": "completed"
    },
    "tags": []
   },
   "outputs": [
    {
     "data": {
      "text/plain": [
       "((11982, 28, 28), (1984, 28, 28))"
      ]
     },
     "execution_count": 13,
     "metadata": {},
     "output_type": "execute_result"
    }
   ],
   "source": [
    "X_train.shape, X_test.shape"
   ]
  },
  {
   "cell_type": "markdown",
   "id": "5ccf3f85",
   "metadata": {
    "papermill": {
     "duration": 0.031515,
     "end_time": "2022-08-16T00:48:09.604758",
     "exception": false,
     "start_time": "2022-08-16T00:48:09.573243",
     "status": "completed"
    },
    "tags": []
   },
   "source": [
    "We reshape the data to flatten the image pixels into a set of features or co-variates:"
   ]
  },
  {
   "cell_type": "code",
   "execution_count": 14,
   "id": "5286a4a3",
   "metadata": {
    "execution": {
     "iopub.execute_input": "2022-08-16T00:48:09.671748Z",
     "iopub.status.busy": "2022-08-16T00:48:09.670962Z",
     "iopub.status.idle": "2022-08-16T00:48:09.689199Z",
     "shell.execute_reply": "2022-08-16T00:48:09.689890Z"
    },
    "papermill": {
     "duration": 0.053459,
     "end_time": "2022-08-16T00:48:09.690072",
     "exception": false,
     "start_time": "2022-08-16T00:48:09.636613",
     "status": "completed"
    },
    "tags": []
   },
   "outputs": [
    {
     "data": {
      "text/plain": [
       "((11982, 784), (1984, 784))"
      ]
     },
     "execution_count": 14,
     "metadata": {},
     "output_type": "execute_result"
    }
   ],
   "source": [
    "X_train = X_train.reshape(X_train.shape[0], -1)\n",
    "X_test = X_test.reshape(X_test.shape[0], -1)\n",
    "X_train.shape, X_test.shape"
   ]
  },
  {
   "cell_type": "code",
   "execution_count": 15,
   "id": "73c5f88a",
   "metadata": {
    "execution": {
     "iopub.execute_input": "2022-08-16T00:48:09.761346Z",
     "iopub.status.busy": "2022-08-16T00:48:09.760629Z",
     "iopub.status.idle": "2022-08-16T00:48:09.782710Z",
     "shell.execute_reply": "2022-08-16T00:48:09.783328Z"
    },
    "papermill": {
     "duration": 0.060969,
     "end_time": "2022-08-16T00:48:09.783500",
     "exception": false,
     "start_time": "2022-08-16T00:48:09.722531",
     "status": "completed"
    },
    "tags": []
   },
   "outputs": [],
   "source": [
    "#Impoting functions from 'Kudzu'\n",
    "from kudzu.model import Model\n",
    "from kudzu.train import Learner\n",
    "from kudzu.optim import GD\n",
    "from kudzu.data import Data, Sampler,Dataloader\n",
    "\n",
    "from kudzu.callbacks import AccCallback\n",
    "from kudzu.callbacks import ClfCallback\n",
    "\n",
    "from kudzu.loss import MSE\n",
    "\n",
    "from kudzu.layer import Sigmoid,Relu\n",
    "from kudzu.layer import Affine"
   ]
  },
  {
   "cell_type": "markdown",
   "id": "bc01172a",
   "metadata": {
    "papermill": {
     "duration": 0.032043,
     "end_time": "2022-08-16T00:48:09.848765",
     "exception": false,
     "start_time": "2022-08-16T00:48:09.816722",
     "status": "completed"
    },
    "tags": []
   },
   "source": [
    "### Let us create a `Config` class, to store important parameters. \n",
    "This class essentially plays the role of a dictionary."
   ]
  },
  {
   "cell_type": "code",
   "execution_count": 16,
   "id": "978281aa",
   "metadata": {
    "execution": {
     "iopub.execute_input": "2022-08-16T00:48:09.914482Z",
     "iopub.status.busy": "2022-08-16T00:48:09.913777Z",
     "iopub.status.idle": "2022-08-16T00:48:09.928197Z",
     "shell.execute_reply": "2022-08-16T00:48:09.928790Z"
    },
    "papermill": {
     "duration": 0.050204,
     "end_time": "2022-08-16T00:48:09.928917",
     "exception": false,
     "start_time": "2022-08-16T00:48:09.878713",
     "status": "completed"
    },
    "tags": []
   },
   "outputs": [],
   "source": [
    "class Config:\n",
    "    pass\n",
    "config = Config()\n",
    "config.lr = 0.001\n",
    "config.num_epochs = 250\n",
    "config.bs = 50"
   ]
  },
  {
   "cell_type": "markdown",
   "id": "1385fa59",
   "metadata": {
    "papermill": {
     "duration": 0.031371,
     "end_time": "2022-08-16T00:48:09.990250",
     "exception": false,
     "start_time": "2022-08-16T00:48:09.958879",
     "status": "completed"
    },
    "tags": []
   },
   "source": [
    "### Running Models with the Training data\n",
    "Details about the network layers:\n",
    "- A first affine layer has 784 inputs and does 100 affine transforms. These are followed by a Relu\n",
    "- A second affine layer has 100 inputs from the 100 activations of the past layer, and does 100 affine transforms. These are followed by a Relu\n",
    "- A third affine layer has 100 activations and does 2 affine transformations to create an embedding for visualization. There is no non-linearity here.\n",
    "- A final \"logistic regression\" which has an affine transform from 2 inputs to 1 output, which is squeezed through a sigmoid.\n"
   ]
  },
  {
   "cell_type": "code",
   "execution_count": 17,
   "id": "2b9c66db",
   "metadata": {
    "execution": {
     "iopub.execute_input": "2022-08-16T00:48:10.064211Z",
     "iopub.status.busy": "2022-08-16T00:48:10.063354Z",
     "iopub.status.idle": "2022-08-16T00:48:10.079510Z",
     "shell.execute_reply": "2022-08-16T00:48:10.078924Z"
    },
    "papermill": {
     "duration": 0.054027,
     "end_time": "2022-08-16T00:48:10.079640",
     "exception": false,
     "start_time": "2022-08-16T00:48:10.025613",
     "status": "completed"
    },
    "tags": []
   },
   "outputs": [],
   "source": [
    "data = Data(X_train, y_train.reshape(-1,1))\n",
    "sampler = Sampler(data, config.bs, shuffle=True)\n",
    "\n",
    "dl = Dataloader(data, sampler)\n",
    "\n",
    "opt = GD(config.lr)\n",
    "loss = MSE()"
   ]
  },
  {
   "cell_type": "code",
   "execution_count": 18,
   "id": "b275e4c2",
   "metadata": {
    "execution": {
     "iopub.execute_input": "2022-08-16T00:48:10.150134Z",
     "iopub.status.busy": "2022-08-16T00:48:10.149303Z",
     "iopub.status.idle": "2022-08-16T00:48:10.163326Z",
     "shell.execute_reply": "2022-08-16T00:48:10.163896Z"
    },
    "papermill": {
     "duration": 0.052112,
     "end_time": "2022-08-16T00:48:10.164032",
     "exception": false,
     "start_time": "2022-08-16T00:48:10.111920",
     "status": "completed"
    },
    "tags": []
   },
   "outputs": [],
   "source": [
    "training_data_x = X_train\n",
    "testing_data_x = X_test\n",
    "training_data_y = y_train.reshape(-1,1)\n",
    "testing_data_y = y_test.reshape(-1,1)"
   ]
  },
  {
   "cell_type": "code",
   "execution_count": 19,
   "id": "76951160",
   "metadata": {
    "execution": {
     "iopub.execute_input": "2022-08-16T00:48:10.239664Z",
     "iopub.status.busy": "2022-08-16T00:48:10.238738Z",
     "iopub.status.idle": "2022-08-16T00:48:10.259039Z",
     "shell.execute_reply": "2022-08-16T00:48:10.258327Z"
    },
    "papermill": {
     "duration": 0.063515,
     "end_time": "2022-08-16T00:48:10.259291",
     "exception": false,
     "start_time": "2022-08-16T00:48:10.195776",
     "status": "completed"
    },
    "tags": []
   },
   "outputs": [
    {
     "name": "stdout",
     "output_type": "stream",
     "text": [
      "xavier\n",
      "xavier\n",
      "xavier\n",
      "xavier\n",
      "xavier\n"
     ]
    }
   ],
   "source": [
    "layers = [Affine(\"first\", 784, 100), Relu(\"first\"), Affine(\"second\", 100, 100), Relu(\"second\"), Affine(\"third\", 100, 2), Affine(\"last\", 2, 1), Sigmoid(\"last\")]\n",
    "model_nn = Model(layers)\n",
    "model_lr = Model([Affine(\"logits\", 784, 1), Sigmoid(\"sigmoid\")])"
   ]
  },
  {
   "cell_type": "code",
   "execution_count": 20,
   "id": "6eede77a",
   "metadata": {
    "execution": {
     "iopub.execute_input": "2022-08-16T00:48:10.334939Z",
     "iopub.status.busy": "2022-08-16T00:48:10.334143Z",
     "iopub.status.idle": "2022-08-16T00:48:10.349376Z",
     "shell.execute_reply": "2022-08-16T00:48:10.348799Z"
    },
    "papermill": {
     "duration": 0.054411,
     "end_time": "2022-08-16T00:48:10.349508",
     "exception": false,
     "start_time": "2022-08-16T00:48:10.295097",
     "status": "completed"
    },
    "tags": []
   },
   "outputs": [],
   "source": [
    "nn_learner = Learner(loss, model_nn, opt, config.num_epochs)\n",
    "acc_nn = ClfCallback(nn_learner, config.bs, training_data_x , testing_data_x, training_data_y, testing_data_y)\n",
    "nn_learner.set_callbacks([acc_nn])"
   ]
  },
  {
   "cell_type": "code",
   "execution_count": 21,
   "id": "877b6cc7",
   "metadata": {
    "execution": {
     "iopub.execute_input": "2022-08-16T00:48:10.423079Z",
     "iopub.status.busy": "2022-08-16T00:48:10.422234Z",
     "iopub.status.idle": "2022-08-16T00:48:10.435654Z",
     "shell.execute_reply": "2022-08-16T00:48:10.436309Z"
    },
    "papermill": {
     "duration": 0.053805,
     "end_time": "2022-08-16T00:48:10.436448",
     "exception": false,
     "start_time": "2022-08-16T00:48:10.382643",
     "status": "completed"
    },
    "tags": []
   },
   "outputs": [],
   "source": [
    "lr_learner = Learner(loss, model_lr, opt, config.num_epochs)\n",
    "acc_lr = ClfCallback(lr_learner, config.bs, training_data_x , testing_data_x, training_data_y, testing_data_y)\n",
    "lr_learner.set_callbacks([acc_lr])"
   ]
  },
  {
   "cell_type": "code",
   "execution_count": 22,
   "id": "d9b133c3",
   "metadata": {
    "execution": {
     "iopub.execute_input": "2022-08-16T00:48:10.510435Z",
     "iopub.status.busy": "2022-08-16T00:48:10.509683Z",
     "iopub.status.idle": "2022-08-16T00:50:34.804671Z",
     "shell.execute_reply": "2022-08-16T00:50:34.805642Z"
    },
    "papermill": {
     "duration": 144.337312,
     "end_time": "2022-08-16T00:50:34.805792",
     "exception": false,
     "start_time": "2022-08-16T00:48:10.468480",
     "status": "completed"
    },
    "tags": []
   },
   "outputs": [
    {
     "name": "stdout",
     "output_type": "stream",
     "text": [
      "Epoch 0, Loss 0.2286\n",
      "Training Accuracy: 0.7531, Testing Accuracy: 0.7560\n",
      "\n"
     ]
    },
    {
     "name": "stdout",
     "output_type": "stream",
     "text": [
      "Epoch 10, Loss 0.0676\n",
      "Training Accuracy: 0.9304, Testing Accuracy: 0.9375\n",
      "\n"
     ]
    },
    {
     "name": "stdout",
     "output_type": "stream",
     "text": [
      "Epoch 20, Loss 0.0467\n",
      "Training Accuracy: 0.9495, Testing Accuracy: 0.9551\n",
      "\n"
     ]
    },
    {
     "name": "stdout",
     "output_type": "stream",
     "text": [
      "Epoch 30, Loss 0.0387\n",
      "Training Accuracy: 0.9570, Testing Accuracy: 0.9627\n",
      "\n"
     ]
    },
    {
     "name": "stdout",
     "output_type": "stream",
     "text": [
      "Epoch 40, Loss 0.0345\n",
      "Training Accuracy: 0.9614, Testing Accuracy: 0.9657\n",
      "\n"
     ]
    },
    {
     "name": "stdout",
     "output_type": "stream",
     "text": [
      "Epoch 50, Loss 0.0316\n",
      "Training Accuracy: 0.9644, Testing Accuracy: 0.9688\n",
      "\n"
     ]
    },
    {
     "name": "stdout",
     "output_type": "stream",
     "text": [
      "Epoch 60, Loss 0.0296\n",
      "Training Accuracy: 0.9669, Testing Accuracy: 0.9688\n",
      "\n"
     ]
    },
    {
     "name": "stdout",
     "output_type": "stream",
     "text": [
      "Epoch 70, Loss 0.0279\n",
      "Training Accuracy: 0.9685, Testing Accuracy: 0.9698\n",
      "\n"
     ]
    },
    {
     "name": "stdout",
     "output_type": "stream",
     "text": [
      "Epoch 80, Loss 0.0266\n",
      "Training Accuracy: 0.9699, Testing Accuracy: 0.9693\n",
      "\n"
     ]
    },
    {
     "name": "stdout",
     "output_type": "stream",
     "text": [
      "Epoch 90, Loss 0.0255\n",
      "Training Accuracy: 0.9713, Testing Accuracy: 0.9693\n",
      "\n"
     ]
    },
    {
     "name": "stdout",
     "output_type": "stream",
     "text": [
      "Epoch 100, Loss 0.0245\n",
      "Training Accuracy: 0.9723, Testing Accuracy: 0.9688\n",
      "\n"
     ]
    },
    {
     "name": "stdout",
     "output_type": "stream",
     "text": [
      "Epoch 110, Loss 0.0236\n",
      "Training Accuracy: 0.9735, Testing Accuracy: 0.9713\n",
      "\n"
     ]
    },
    {
     "name": "stdout",
     "output_type": "stream",
     "text": [
      "Epoch 120, Loss 0.0228\n",
      "Training Accuracy: 0.9743, Testing Accuracy: 0.9713\n",
      "\n"
     ]
    },
    {
     "name": "stdout",
     "output_type": "stream",
     "text": [
      "Epoch 130, Loss 0.0221\n",
      "Training Accuracy: 0.9750, Testing Accuracy: 0.9718\n",
      "\n"
     ]
    },
    {
     "name": "stdout",
     "output_type": "stream",
     "text": [
      "Epoch 140, Loss 0.0214\n",
      "Training Accuracy: 0.9761, Testing Accuracy: 0.9718\n",
      "\n"
     ]
    },
    {
     "name": "stdout",
     "output_type": "stream",
     "text": [
      "Epoch 150, Loss 0.0208\n",
      "Training Accuracy: 0.9770, Testing Accuracy: 0.9723\n",
      "\n"
     ]
    },
    {
     "name": "stdout",
     "output_type": "stream",
     "text": [
      "Epoch 160, Loss 0.0202\n",
      "Training Accuracy: 0.9778, Testing Accuracy: 0.9718\n",
      "\n"
     ]
    },
    {
     "name": "stdout",
     "output_type": "stream",
     "text": [
      "Epoch 170, Loss 0.0196\n",
      "Training Accuracy: 0.9786, Testing Accuracy: 0.9718\n",
      "\n"
     ]
    },
    {
     "name": "stdout",
     "output_type": "stream",
     "text": [
      "Epoch 180, Loss 0.0191\n",
      "Training Accuracy: 0.9791, Testing Accuracy: 0.9723\n",
      "\n"
     ]
    },
    {
     "name": "stdout",
     "output_type": "stream",
     "text": [
      "Epoch 190, Loss 0.0186\n",
      "Training Accuracy: 0.9796, Testing Accuracy: 0.9728\n",
      "\n"
     ]
    },
    {
     "name": "stdout",
     "output_type": "stream",
     "text": [
      "Epoch 200, Loss 0.0181\n",
      "Training Accuracy: 0.9800, Testing Accuracy: 0.9728\n",
      "\n"
     ]
    },
    {
     "name": "stdout",
     "output_type": "stream",
     "text": [
      "Epoch 210, Loss 0.0177\n",
      "Training Accuracy: 0.9807, Testing Accuracy: 0.9748\n",
      "\n"
     ]
    },
    {
     "name": "stdout",
     "output_type": "stream",
     "text": [
      "Epoch 220, Loss 0.0173\n",
      "Training Accuracy: 0.9812, Testing Accuracy: 0.9743\n",
      "\n"
     ]
    },
    {
     "name": "stdout",
     "output_type": "stream",
     "text": [
      "Epoch 230, Loss 0.0169\n",
      "Training Accuracy: 0.9817, Testing Accuracy: 0.9753\n",
      "\n"
     ]
    },
    {
     "name": "stdout",
     "output_type": "stream",
     "text": [
      "Epoch 240, Loss 0.0165\n",
      "Training Accuracy: 0.9820, Testing Accuracy: 0.9753\n",
      "\n"
     ]
    },
    {
     "data": {
      "text/plain": [
       "0.0066685380796643115"
      ]
     },
     "execution_count": 22,
     "metadata": {},
     "output_type": "execute_result"
    }
   ],
   "source": [
    "nn_learner.train_loop(dl)"
   ]
  },
  {
   "cell_type": "code",
   "execution_count": 23,
   "id": "e0163366",
   "metadata": {
    "execution": {
     "iopub.execute_input": "2022-08-16T00:50:34.899860Z",
     "iopub.status.busy": "2022-08-16T00:50:34.899215Z",
     "iopub.status.idle": "2022-08-16T00:50:55.857361Z",
     "shell.execute_reply": "2022-08-16T00:50:55.858598Z"
    },
    "papermill": {
     "duration": 21.011556,
     "end_time": "2022-08-16T00:50:55.858791",
     "exception": false,
     "start_time": "2022-08-16T00:50:34.847235",
     "status": "completed"
    },
    "tags": []
   },
   "outputs": [
    {
     "name": "stdout",
     "output_type": "stream",
     "text": [
      "Epoch 0, Loss 0.2627\n",
      "Training Accuracy: 0.6060, Testing Accuracy: 0.5973\n",
      "\n"
     ]
    },
    {
     "name": "stdout",
     "output_type": "stream",
     "text": [
      "Epoch 10, Loss 0.1087\n",
      "Training Accuracy: 0.8938, Testing Accuracy: 0.9032\n",
      "\n"
     ]
    },
    {
     "name": "stdout",
     "output_type": "stream",
     "text": [
      "Epoch 20, Loss 0.0825\n",
      "Training Accuracy: 0.9200, Testing Accuracy: 0.9304\n",
      "\n"
     ]
    },
    {
     "name": "stdout",
     "output_type": "stream",
     "text": [
      "Epoch 30, Loss 0.0705\n",
      "Training Accuracy: 0.9306, Testing Accuracy: 0.9441\n",
      "\n"
     ]
    },
    {
     "name": "stdout",
     "output_type": "stream",
     "text": [
      "Epoch 40, Loss 0.0634\n",
      "Training Accuracy: 0.9368, Testing Accuracy: 0.9501\n",
      "\n"
     ]
    },
    {
     "name": "stdout",
     "output_type": "stream",
     "text": [
      "Epoch 50, Loss 0.0585\n",
      "Training Accuracy: 0.9425, Testing Accuracy: 0.9556\n",
      "\n"
     ]
    },
    {
     "name": "stdout",
     "output_type": "stream",
     "text": [
      "Epoch 60, Loss 0.055\n",
      "Training Accuracy: 0.9454, Testing Accuracy: 0.9561\n",
      "\n"
     ]
    },
    {
     "name": "stdout",
     "output_type": "stream",
     "text": [
      "Epoch 70, Loss 0.0523\n",
      "Training Accuracy: 0.9472, Testing Accuracy: 0.9592\n",
      "\n"
     ]
    },
    {
     "name": "stdout",
     "output_type": "stream",
     "text": [
      "Epoch 80, Loss 0.0501\n",
      "Training Accuracy: 0.9492, Testing Accuracy: 0.9612\n",
      "\n"
     ]
    },
    {
     "name": "stdout",
     "output_type": "stream",
     "text": [
      "Epoch 90, Loss 0.0483\n",
      "Training Accuracy: 0.9514, Testing Accuracy: 0.9617\n",
      "\n"
     ]
    },
    {
     "name": "stdout",
     "output_type": "stream",
     "text": [
      "Epoch 100, Loss 0.0468\n",
      "Training Accuracy: 0.9527, Testing Accuracy: 0.9637\n",
      "\n"
     ]
    },
    {
     "name": "stdout",
     "output_type": "stream",
     "text": [
      "Epoch 110, Loss 0.0455\n",
      "Training Accuracy: 0.9540, Testing Accuracy: 0.9632\n",
      "\n"
     ]
    },
    {
     "name": "stdout",
     "output_type": "stream",
     "text": [
      "Epoch 120, Loss 0.0444\n",
      "Training Accuracy: 0.9548, Testing Accuracy: 0.9642\n",
      "\n"
     ]
    },
    {
     "name": "stdout",
     "output_type": "stream",
     "text": [
      "Epoch 130, Loss 0.0434\n",
      "Training Accuracy: 0.9553, Testing Accuracy: 0.9647\n",
      "\n"
     ]
    },
    {
     "name": "stdout",
     "output_type": "stream",
     "text": [
      "Epoch 140, Loss 0.0426\n",
      "Training Accuracy: 0.9558, Testing Accuracy: 0.9642\n",
      "\n"
     ]
    },
    {
     "name": "stdout",
     "output_type": "stream",
     "text": [
      "Epoch 150, Loss 0.0418\n",
      "Training Accuracy: 0.9561, Testing Accuracy: 0.9647\n",
      "\n"
     ]
    },
    {
     "name": "stdout",
     "output_type": "stream",
     "text": [
      "Epoch 160, Loss 0.0411\n",
      "Training Accuracy: 0.9564, Testing Accuracy: 0.9647\n",
      "\n"
     ]
    },
    {
     "name": "stdout",
     "output_type": "stream",
     "text": [
      "Epoch 170, Loss 0.0405\n",
      "Training Accuracy: 0.9570, Testing Accuracy: 0.9657\n",
      "\n"
     ]
    },
    {
     "name": "stdout",
     "output_type": "stream",
     "text": [
      "Epoch 180, Loss 0.0399\n",
      "Training Accuracy: 0.9580, Testing Accuracy: 0.9662\n",
      "\n"
     ]
    },
    {
     "name": "stdout",
     "output_type": "stream",
     "text": [
      "Epoch 190, Loss 0.0393\n",
      "Training Accuracy: 0.9587, Testing Accuracy: 0.9667\n",
      "\n"
     ]
    },
    {
     "name": "stdout",
     "output_type": "stream",
     "text": [
      "Epoch 200, Loss 0.0389\n",
      "Training Accuracy: 0.9593, Testing Accuracy: 0.9667\n",
      "\n"
     ]
    },
    {
     "name": "stdout",
     "output_type": "stream",
     "text": [
      "Epoch 210, Loss 0.0384\n",
      "Training Accuracy: 0.9598, Testing Accuracy: 0.9672\n",
      "\n"
     ]
    },
    {
     "name": "stdout",
     "output_type": "stream",
     "text": [
      "Epoch 220, Loss 0.038\n",
      "Training Accuracy: 0.9598, Testing Accuracy: 0.9672\n",
      "\n"
     ]
    },
    {
     "name": "stdout",
     "output_type": "stream",
     "text": [
      "Epoch 230, Loss 0.0376\n",
      "Training Accuracy: 0.9604, Testing Accuracy: 0.9677\n",
      "\n"
     ]
    },
    {
     "name": "stdout",
     "output_type": "stream",
     "text": [
      "Epoch 240, Loss 0.0372\n",
      "Training Accuracy: 0.9606, Testing Accuracy: 0.9682\n",
      "\n"
     ]
    },
    {
     "data": {
      "text/plain": [
       "0.05892353310699225"
      ]
     },
     "execution_count": 23,
     "metadata": {},
     "output_type": "execute_result"
    }
   ],
   "source": [
    "lr_learner.train_loop(dl)"
   ]
  },
  {
   "cell_type": "code",
   "execution_count": 24,
   "id": "ca410940",
   "metadata": {
    "execution": {
     "iopub.execute_input": "2022-08-16T00:50:55.975737Z",
     "iopub.status.busy": "2022-08-16T00:50:55.974802Z",
     "iopub.status.idle": "2022-08-16T00:50:56.319143Z",
     "shell.execute_reply": "2022-08-16T00:50:56.318500Z"
    },
    "papermill": {
     "duration": 0.401807,
     "end_time": "2022-08-16T00:50:56.319292",
     "exception": false,
     "start_time": "2022-08-16T00:50:55.917485",
     "status": "completed"
    },
    "tags": []
   },
   "outputs": [
    {
     "data": {
      "text/plain": [
       "<matplotlib.legend.Legend at 0x7f064b6f8f98>"
      ]
     },
     "execution_count": 24,
     "metadata": {},
     "output_type": "execute_result"
    },
    {
     "data": {
      "image/png": "[encoded data removed]",
      "text/plain": [
       "<Figure size 1080x720 with 1 Axes>"
      ]
     },
     "metadata": {
      "needs_background": "light"
     },
     "output_type": "display_data"
    }
   ],
   "source": [
    "#comparing the results of NN and LR\n",
    "plt.figure(figsize=(15,10))\n",
    "\n",
    "# Neural Network plots\n",
    "plt.plot(acc_nn.accuracies, 'r-', label = \"Training Accuracies - NN\")\n",
    "plt.plot(acc_nn.test_accuracies, 'g-', label = \"Testing Accuracies - NN\")\n",
    "\n",
    "# Logistic Regression plots\n",
    "plt.plot(acc_lr.accuracies, 'k-', label = \"Training Accuracies - LR\")\n",
    "plt.plot(acc_lr.test_accuracies, 'b-', label = \"Testing Accuracies - LR\")\n",
    "plt.legend()"
   ]
  },
  {
   "cell_type": "markdown",
   "id": "80dfb35c",
   "metadata": {
    "papermill": {
     "duration": 0.055448,
     "end_time": "2022-08-16T00:50:56.430702",
     "exception": false,
     "start_time": "2022-08-16T00:50:56.375254",
     "status": "completed"
    },
    "tags": []
   },
   "source": [
    "#### Plotting the outputs of this layer of the NN.\n"
   ]
  },
  {
   "cell_type": "code",
   "execution_count": 25,
   "id": "45eb2ff5",
   "metadata": {
    "execution": {
     "iopub.execute_input": "2022-08-16T00:50:56.580672Z",
     "iopub.status.busy": "2022-08-16T00:50:56.579338Z",
     "iopub.status.idle": "2022-08-16T00:50:56.622765Z",
     "shell.execute_reply": "2022-08-16T00:50:56.623296Z"
    },
    "papermill": {
     "duration": 0.123842,
     "end_time": "2022-08-16T00:50:56.623458",
     "exception": false,
     "start_time": "2022-08-16T00:50:56.499616",
     "status": "completed"
    },
    "tags": []
   },
   "outputs": [],
   "source": [
    "new_model = Model(layers[:-2])\n",
    "testing_plot = new_model(testing_data_x)"
   ]
  },
  {
   "cell_type": "code",
   "execution_count": 26,
   "id": "4c0a5485",
   "metadata": {
    "execution": {
     "iopub.execute_input": "2022-08-16T00:50:56.733142Z",
     "iopub.status.busy": "2022-08-16T00:50:56.732512Z",
     "iopub.status.idle": "2022-08-16T00:50:56.985643Z",
     "shell.execute_reply": "2022-08-16T00:50:56.986162Z"
    },
    "papermill": {
     "duration": 0.30973,
     "end_time": "2022-08-16T00:50:56.986318",
     "exception": false,
     "start_time": "2022-08-16T00:50:56.676588",
     "status": "completed"
    },
    "tags": []
   },
   "outputs": [
    {
     "data": {
      "text/plain": [
       "Text(0.5, 1.0, 'Outputs')"
      ]
     },
     "execution_count": 26,
     "metadata": {},
     "output_type": "execute_result"
    },
    {
     "data": {
      "image/png": "[encoded data removed]",
      "text/plain": [
       "<Figure size 576x504 with 1 Axes>"
      ]
     },
     "metadata": {
      "needs_background": "light"
     },
     "output_type": "display_data"
    }
   ],
   "source": [
    "# Plotting the scatter plot of points and color coding by class\n",
    "plt.figure(figsize=(8,7))\n",
    "plt.scatter(testing_plot[:,0], testing_plot[:,1], alpha = 0.1, c = y_test.ravel());\n",
    "plt.title('Outputs')"
   ]
  },
  {
   "cell_type": "markdown",
   "id": "a74fcf8f",
   "metadata": {
    "papermill": {
     "duration": 0.088777,
     "end_time": "2022-08-16T00:50:57.127541",
     "exception": false,
     "start_time": "2022-08-16T00:50:57.038764",
     "status": "completed"
    },
    "tags": []
   },
   "source": [
    "Probability contours"
   ]
  },
  {
   "cell_type": "code",
   "execution_count": 27,
   "id": "d0afc8e3",
   "metadata": {
    "execution": {
     "iopub.execute_input": "2022-08-16T00:50:57.246764Z",
     "iopub.status.busy": "2022-08-16T00:50:57.245866Z",
     "iopub.status.idle": "2022-08-16T00:50:57.260970Z",
     "shell.execute_reply": "2022-08-16T00:50:57.261575Z"
    },
    "papermill": {
     "duration": 0.077861,
     "end_time": "2022-08-16T00:50:57.261736",
     "exception": false,
     "start_time": "2022-08-16T00:50:57.183875",
     "status": "completed"
    },
    "tags": []
   },
   "outputs": [],
   "source": [
    "model_prob = Model(layers[-2:]) "
   ]
  },
  {
   "cell_type": "code",
   "execution_count": 28,
   "id": "9b96e238",
   "metadata": {
    "execution": {
     "iopub.execute_input": "2022-08-16T00:50:57.387741Z",
     "iopub.status.busy": "2022-08-16T00:50:57.386908Z",
     "iopub.status.idle": "2022-08-16T00:50:57.402862Z",
     "shell.execute_reply": "2022-08-16T00:50:57.403509Z"
    },
    "papermill": {
     "duration": 0.083572,
     "end_time": "2022-08-16T00:50:57.403713",
     "exception": false,
     "start_time": "2022-08-16T00:50:57.320141",
     "status": "completed"
    },
    "tags": []
   },
   "outputs": [],
   "source": [
    "#creating the x and y ranges according to the above generated plot.\n",
    "x_range = np.linspace(-4, 1, 100) \n",
    "y_range = np.linspace(-6, 6, 100) \n",
    "x_grid, y_grid = np.meshgrid(x_range, y_range) # x_grid and y_grig are of size 100 X 100\n",
    "\n",
    "# converting x_grid and y_grid to continuous arrays\n",
    "x_gridflat = np.ravel(x_grid)\n",
    "y_gridflat = np.ravel(y_grid)\n",
    "\n",
    "# The last layer of the current model takes two columns as input. Hence transpose of np.vstack() is required.\n",
    "X = np.vstack((x_gridflat, y_gridflat)).T\n",
    "\n",
    "prob_contour = model_prob(X).reshape(100,100) "
   ]
  },
  {
   "cell_type": "code",
   "execution_count": 29,
   "id": "da72499a",
   "metadata": {
    "execution": {
     "iopub.execute_input": "2022-08-16T00:50:57.523911Z",
     "iopub.status.busy": "2022-08-16T00:50:57.522948Z",
     "iopub.status.idle": "2022-08-16T00:50:57.873881Z",
     "shell.execute_reply": "2022-08-16T00:50:57.873239Z"
    },
    "papermill": {
     "duration": 0.413274,
     "end_time": "2022-08-16T00:50:57.874009",
     "exception": false,
     "start_time": "2022-08-16T00:50:57.460735",
     "status": "completed"
    },
    "tags": []
   },
   "outputs": [
    {
     "data": {
      "image/png": "[encoded data removed]",
      "text/plain": [
       "<Figure size 720x648 with 1 Axes>"
      ]
     },
     "metadata": {
      "needs_background": "light"
     },
     "output_type": "display_data"
    }
   ],
   "source": [
    "plt.figure(figsize=(10,9))\n",
    "plt.scatter(testing_plot[:,0], testing_plot[:,1], alpha = 0.1, c = y_test.ravel())\n",
    "contours = plt.contour(x_grid,y_grid,prob_contour)\n",
    "plt.title('Probability Contours')\n",
    "plt.clabel(contours, inline = True );"
   ]
  },
  {
   "cell_type": "code",
   "execution_count": null,
   "id": "e81b4ac7",
   "metadata": {
    "papermill": {
     "duration": 0.064775,
     "end_time": "2022-08-16T00:50:57.998626",
     "exception": false,
     "start_time": "2022-08-16T00:50:57.933851",
     "status": "completed"
    },
    "tags": []
   },
   "outputs": [],
   "source": []
  }
 ],
 "metadata": {
  "kernelspec": {
   "display_name": "Python 3",
   "language": "python",
   "name": "python3"
  },
  "language_info": {
   "codemirror_mode": {
    "name": "ipython",
    "version": 3
   },
   "file_extension": ".py",
   "mimetype": "text/x-python",
   "name": "python",
   "nbconvert_exporter": "python",
   "pygments_lexer": "ipython3",
   "version": "3.6.15"
  },
  "papermill": {
   "default_parameters": {},
   "duration": 175.231098,
   "end_time": "2022-08-16T00:50:58.491775",
   "environment_variables": {},
   "exception": null,
   "input_path": "2020-08-11-part2.ipynb",
   "output_path": "2020-08-11-part2.ipynb",
   "parameters": {},
   "start_time": "2022-08-16T00:48:03.260677",
   "version": "2.3.3"
  }
 },
 "nbformat": 4,
 "nbformat_minor": 5
}