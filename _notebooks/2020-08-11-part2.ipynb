{
 "cells": [
  {
   "cell_type": "markdown",
   "id": "98380cd3",
   "metadata": {
    "papermill": {
     "duration": 0.027987,
     "end_time": "2022-05-11T00:37:15.232043",
     "exception": false,
     "start_time": "2022-05-11T00:37:15.204056",
     "status": "completed"
    },
    "tags": []
   },
   "source": [
    "# Distinguish Your Own Digits (DYOD)"
   ]
  },
  {
   "cell_type": "markdown",
   "id": "ef31240d",
   "metadata": {
    "papermill": {
     "duration": 0.024865,
     "end_time": "2022-05-11T00:37:15.280990",
     "exception": false,
     "start_time": "2022-05-11T00:37:15.256125",
     "status": "completed"
    },
    "tags": []
   },
   "source": [
    "You are going to write a classifier that distinguishes between the number 3 and number 8."
   ]
  },
  {
   "cell_type": "code",
   "execution_count": 1,
   "id": "b15c8646",
   "metadata": {
    "execution": {
     "iopub.execute_input": "2022-05-11T00:37:15.337148Z",
     "iopub.status.busy": "2022-05-11T00:37:15.336636Z",
     "iopub.status.idle": "2022-05-11T00:37:15.347176Z",
     "shell.execute_reply": "2022-05-11T00:37:15.346755Z"
    },
    "papermill": {
     "duration": 0.042938,
     "end_time": "2022-05-11T00:37:15.347291",
     "exception": false,
     "start_time": "2022-05-11T00:37:15.304353",
     "status": "completed"
    },
    "tags": []
   },
   "outputs": [],
   "source": [
    "%load_ext autoreload\n",
    "%autoreload 2"
   ]
  },
  {
   "cell_type": "code",
   "execution_count": 2,
   "id": "22ef38dc",
   "metadata": {
    "execution": {
     "iopub.execute_input": "2022-05-11T00:37:15.401598Z",
     "iopub.status.busy": "2022-05-11T00:37:15.401103Z",
     "iopub.status.idle": "2022-05-11T00:37:15.920462Z",
     "shell.execute_reply": "2022-05-11T00:37:15.919891Z"
    },
    "papermill": {
     "duration": 0.550014,
     "end_time": "2022-05-11T00:37:15.920617",
     "exception": false,
     "start_time": "2022-05-11T00:37:15.370603",
     "status": "completed"
    },
    "tags": []
   },
   "outputs": [],
   "source": [
    "%matplotlib inline\n",
    "import numpy as np\n",
    "import matplotlib.pyplot as plt\n",
    "import pandas as pd"
   ]
  },
  {
   "cell_type": "markdown",
   "id": "ba036198",
   "metadata": {
    "papermill": {
     "duration": 0.023481,
     "end_time": "2022-05-11T00:37:15.968783",
     "exception": false,
     "start_time": "2022-05-11T00:37:15.945302",
     "status": "completed"
    },
    "tags": []
   },
   "source": [
    "From the command line run `pip install mnist`. This is a library that will help you bring down the mnist dataset. If you run this from a notebook, you need to put  `!pip install mnist` in a cell by itself."
   ]
  },
  {
   "cell_type": "code",
   "execution_count": 3,
   "id": "bb6ad8a1",
   "metadata": {
    "execution": {
     "iopub.execute_input": "2022-05-11T00:37:16.020154Z",
     "iopub.status.busy": "2022-05-11T00:37:16.019647Z",
     "iopub.status.idle": "2022-05-11T00:37:17.639443Z",
     "shell.execute_reply": "2022-05-11T00:37:17.638921Z"
    },
    "papermill": {
     "duration": 1.647325,
     "end_time": "2022-05-11T00:37:17.639583",
     "exception": false,
     "start_time": "2022-05-11T00:37:15.992258",
     "status": "completed"
    },
    "tags": []
   },
   "outputs": [
    {
     "name": "stdout",
     "output_type": "stream",
     "text": [
      "Collecting mnist\r\n"
     ]
    },
    {
     "name": "stdout",
     "output_type": "stream",
     "text": [
      "  Downloading mnist-0.2.2-py2.py3-none-any.whl (3.5 kB)\r\n",
      "Requirement already satisfied: numpy in /opt/hostedtoolcache/Python/3.6.15/x64/lib/python3.6/site-packages (from mnist) (1.19.5)\r\n"
     ]
    },
    {
     "name": "stdout",
     "output_type": "stream",
     "text": [
      "Installing collected packages: mnist\r\n",
      "Successfully installed mnist-0.2.2\r\n"
     ]
    }
   ],
   "source": [
    "!pip install mnist"
   ]
  },
  {
   "cell_type": "markdown",
   "id": "69df9c9a",
   "metadata": {
    "papermill": {
     "duration": 0.024835,
     "end_time": "2022-05-11T00:37:17.690361",
     "exception": false,
     "start_time": "2022-05-11T00:37:17.665526",
     "status": "completed"
    },
    "tags": []
   },
   "source": [
    "## Preparing the Data"
   ]
  },
  {
   "cell_type": "code",
   "execution_count": 4,
   "id": "7f69d806",
   "metadata": {
    "execution": {
     "iopub.execute_input": "2022-05-11T00:37:17.745417Z",
     "iopub.status.busy": "2022-05-11T00:37:17.744904Z",
     "iopub.status.idle": "2022-05-11T00:37:17.758342Z",
     "shell.execute_reply": "2022-05-11T00:37:17.758719Z"
    },
    "papermill": {
     "duration": 0.04421,
     "end_time": "2022-05-11T00:37:17.758840",
     "exception": false,
     "start_time": "2022-05-11T00:37:17.714630",
     "status": "completed"
    },
    "tags": []
   },
   "outputs": [],
   "source": [
    "import mnist"
   ]
  },
  {
   "cell_type": "code",
   "execution_count": 5,
   "id": "a411e44f",
   "metadata": {
    "execution": {
     "iopub.execute_input": "2022-05-11T00:37:17.810515Z",
     "iopub.status.busy": "2022-05-11T00:37:17.810016Z",
     "iopub.status.idle": "2022-05-11T00:37:18.333903Z",
     "shell.execute_reply": "2022-05-11T00:37:18.333375Z"
    },
    "papermill": {
     "duration": 0.550829,
     "end_time": "2022-05-11T00:37:18.334043",
     "exception": false,
     "start_time": "2022-05-11T00:37:17.783214",
     "status": "completed"
    },
    "tags": []
   },
   "outputs": [],
   "source": [
    "train_images = mnist.train_images()\n",
    "train_labels = mnist.train_labels()"
   ]
  },
  {
   "cell_type": "code",
   "execution_count": 6,
   "id": "dceab3a5",
   "metadata": {
    "execution": {
     "iopub.execute_input": "2022-05-11T00:37:18.386843Z",
     "iopub.status.busy": "2022-05-11T00:37:18.386336Z",
     "iopub.status.idle": "2022-05-11T00:37:18.400971Z",
     "shell.execute_reply": "2022-05-11T00:37:18.400545Z"
    },
    "papermill": {
     "duration": 0.041907,
     "end_time": "2022-05-11T00:37:18.401072",
     "exception": false,
     "start_time": "2022-05-11T00:37:18.359165",
     "status": "completed"
    },
    "tags": []
   },
   "outputs": [
    {
     "data": {
      "text/plain": [
       "((60000, 28, 28), (60000,))"
      ]
     },
     "execution_count": 6,
     "metadata": {},
     "output_type": "execute_result"
    }
   ],
   "source": [
    "train_images.shape, train_labels.shape"
   ]
  },
  {
   "cell_type": "code",
   "execution_count": 7,
   "id": "f50dc2bb",
   "metadata": {
    "execution": {
     "iopub.execute_input": "2022-05-11T00:37:18.453048Z",
     "iopub.status.busy": "2022-05-11T00:37:18.452467Z",
     "iopub.status.idle": "2022-05-11T00:37:18.579947Z",
     "shell.execute_reply": "2022-05-11T00:37:18.579495Z"
    },
    "papermill": {
     "duration": 0.154605,
     "end_time": "2022-05-11T00:37:18.580071",
     "exception": false,
     "start_time": "2022-05-11T00:37:18.425466",
     "status": "completed"
    },
    "tags": []
   },
   "outputs": [],
   "source": [
    "test_images = mnist.test_images()\n",
    "test_labels = mnist.test_labels()"
   ]
  },
  {
   "cell_type": "code",
   "execution_count": 8,
   "id": "fc38cf1b",
   "metadata": {
    "execution": {
     "iopub.execute_input": "2022-05-11T00:37:18.633378Z",
     "iopub.status.busy": "2022-05-11T00:37:18.632868Z",
     "iopub.status.idle": "2022-05-11T00:37:18.646568Z",
     "shell.execute_reply": "2022-05-11T00:37:18.646145Z"
    },
    "papermill": {
     "duration": 0.041657,
     "end_time": "2022-05-11T00:37:18.646669",
     "exception": false,
     "start_time": "2022-05-11T00:37:18.605012",
     "status": "completed"
    },
    "tags": []
   },
   "outputs": [
    {
     "data": {
      "text/plain": [
       "((10000, 28, 28), (10000,))"
      ]
     },
     "execution_count": 8,
     "metadata": {},
     "output_type": "execute_result"
    }
   ],
   "source": [
    "test_images.shape, test_labels.shape"
   ]
  },
  {
   "cell_type": "code",
   "execution_count": 9,
   "id": "f9ed8fe0",
   "metadata": {
    "execution": {
     "iopub.execute_input": "2022-05-11T00:37:18.700653Z",
     "iopub.status.busy": "2022-05-11T00:37:18.700119Z",
     "iopub.status.idle": "2022-05-11T00:37:18.832458Z",
     "shell.execute_reply": "2022-05-11T00:37:18.832872Z"
    },
    "papermill": {
     "duration": 0.161626,
     "end_time": "2022-05-11T00:37:18.832991",
     "exception": false,
     "start_time": "2022-05-11T00:37:18.671365",
     "status": "completed"
    },
    "tags": []
   },
   "outputs": [
    {
     "name": "stdout",
     "output_type": "stream",
     "text": [
      "2\n"
     ]
    },
    {
     "data": {
      "text/plain": [
       "<matplotlib.image.AxesImage at 0x7f5f1a9e2518>"
      ]
     },
     "execution_count": 9,
     "metadata": {},
     "output_type": "execute_result"
    },
    {
     "data": {
      "image/png": "[encoded data removed]",
      "text/plain": [
       "<Figure size 432x288 with 1 Axes>"
      ]
     },
     "metadata": {
      "needs_background": "light"
     },
     "output_type": "display_data"
    }
   ],
   "source": [
    "image_index = 7776 # You may select anything up to 60,000\n",
    "print(train_labels[image_index]) \n",
    "plt.imshow(train_images[image_index], cmap='Greys')"
   ]
  },
  {
   "cell_type": "markdown",
   "id": "a8d2388d",
   "metadata": {
    "papermill": {
     "duration": 0.02568,
     "end_time": "2022-05-11T00:37:18.884544",
     "exception": false,
     "start_time": "2022-05-11T00:37:18.858864",
     "status": "completed"
    },
    "tags": []
   },
   "source": [
    "## Filter data to get 3 and 8 out"
   ]
  },
  {
   "cell_type": "code",
   "execution_count": 10,
   "id": "776f7fc7",
   "metadata": {
    "execution": {
     "iopub.execute_input": "2022-05-11T00:37:18.944037Z",
     "iopub.status.busy": "2022-05-11T00:37:18.943523Z",
     "iopub.status.idle": "2022-05-11T00:37:18.960297Z",
     "shell.execute_reply": "2022-05-11T00:37:18.959867Z"
    },
    "papermill": {
     "duration": 0.049908,
     "end_time": "2022-05-11T00:37:18.960402",
     "exception": false,
     "start_time": "2022-05-11T00:37:18.910494",
     "status": "completed"
    },
    "tags": []
   },
   "outputs": [],
   "source": [
    "train_filter = np.where((train_labels == 3 ) | (train_labels == 8))\n",
    "test_filter = np.where((test_labels == 3) | (test_labels == 8))\n",
    "X_train, y_train = train_images[train_filter], train_labels[train_filter]\n",
    "X_test, y_test = test_images[test_filter], test_labels[test_filter]"
   ]
  },
  {
   "cell_type": "markdown",
   "id": "948f0b7e",
   "metadata": {
    "papermill": {
     "duration": 0.025677,
     "end_time": "2022-05-11T00:37:19.011907",
     "exception": false,
     "start_time": "2022-05-11T00:37:18.986230",
     "status": "completed"
    },
    "tags": []
   },
   "source": [
    "We normalize the pizel values in the 0 to 1 range"
   ]
  },
  {
   "cell_type": "code",
   "execution_count": 11,
   "id": "ee4c2166",
   "metadata": {
    "execution": {
     "iopub.execute_input": "2022-05-11T00:37:19.077345Z",
     "iopub.status.busy": "2022-05-11T00:37:19.076842Z",
     "iopub.status.idle": "2022-05-11T00:37:19.118510Z",
     "shell.execute_reply": "2022-05-11T00:37:19.118001Z"
    },
    "papermill": {
     "duration": 0.081058,
     "end_time": "2022-05-11T00:37:19.118650",
     "exception": false,
     "start_time": "2022-05-11T00:37:19.037592",
     "status": "completed"
    },
    "tags": []
   },
   "outputs": [],
   "source": [
    "X_train = X_train/255.\n",
    "X_test = X_test/255."
   ]
  },
  {
   "cell_type": "markdown",
   "id": "ddcf4fab",
   "metadata": {
    "papermill": {
     "duration": 0.02591,
     "end_time": "2022-05-11T00:37:19.171748",
     "exception": false,
     "start_time": "2022-05-11T00:37:19.145838",
     "status": "completed"
    },
    "tags": []
   },
   "source": [
    "And setup the labels as 1 (when the digit is 3) and 0 (when the digit is 8)"
   ]
  },
  {
   "cell_type": "code",
   "execution_count": 12,
   "id": "7dc908f2",
   "metadata": {
    "execution": {
     "iopub.execute_input": "2022-05-11T00:37:19.226633Z",
     "iopub.status.busy": "2022-05-11T00:37:19.226126Z",
     "iopub.status.idle": "2022-05-11T00:37:19.238061Z",
     "shell.execute_reply": "2022-05-11T00:37:19.238496Z"
    },
    "papermill": {
     "duration": 0.040987,
     "end_time": "2022-05-11T00:37:19.238612",
     "exception": false,
     "start_time": "2022-05-11T00:37:19.197625",
     "status": "completed"
    },
    "tags": []
   },
   "outputs": [],
   "source": [
    "y_train = 1*(y_train==3)\n",
    "y_test = 1*(y_test==3)"
   ]
  },
  {
   "cell_type": "code",
   "execution_count": 13,
   "id": "01e4e969",
   "metadata": {
    "execution": {
     "iopub.execute_input": "2022-05-11T00:37:19.306992Z",
     "iopub.status.busy": "2022-05-11T00:37:19.304889Z",
     "iopub.status.idle": "2022-05-11T00:37:19.309441Z",
     "shell.execute_reply": "2022-05-11T00:37:19.309819Z"
    },
    "papermill": {
     "duration": 0.045529,
     "end_time": "2022-05-11T00:37:19.309933",
     "exception": false,
     "start_time": "2022-05-11T00:37:19.264404",
     "status": "completed"
    },
    "tags": []
   },
   "outputs": [
    {
     "data": {
      "text/plain": [
       "((11982, 28, 28), (1984, 28, 28))"
      ]
     },
     "execution_count": 13,
     "metadata": {},
     "output_type": "execute_result"
    }
   ],
   "source": [
    "X_train.shape, X_test.shape"
   ]
  },
  {
   "cell_type": "markdown",
   "id": "5ccf3f85",
   "metadata": {
    "papermill": {
     "duration": 0.025788,
     "end_time": "2022-05-11T00:37:19.361735",
     "exception": false,
     "start_time": "2022-05-11T00:37:19.335947",
     "status": "completed"
    },
    "tags": []
   },
   "source": [
    "We reshape the data to flatten the image pixels into a set of features or co-variates:"
   ]
  },
  {
   "cell_type": "code",
   "execution_count": 14,
   "id": "5286a4a3",
   "metadata": {
    "execution": {
     "iopub.execute_input": "2022-05-11T00:37:19.424874Z",
     "iopub.status.busy": "2022-05-11T00:37:19.422150Z",
     "iopub.status.idle": "2022-05-11T00:37:19.433017Z",
     "shell.execute_reply": "2022-05-11T00:37:19.433393Z"
    },
    "papermill": {
     "duration": 0.045687,
     "end_time": "2022-05-11T00:37:19.433504",
     "exception": false,
     "start_time": "2022-05-11T00:37:19.387817",
     "status": "completed"
    },
    "tags": []
   },
   "outputs": [
    {
     "data": {
      "text/plain": [
       "((11982, 784), (1984, 784))"
      ]
     },
     "execution_count": 14,
     "metadata": {},
     "output_type": "execute_result"
    }
   ],
   "source": [
    "X_train = X_train.reshape(X_train.shape[0], -1)\n",
    "X_test = X_test.reshape(X_test.shape[0], -1)\n",
    "X_train.shape, X_test.shape"
   ]
  },
  {
   "cell_type": "code",
   "execution_count": 15,
   "id": "73c5f88a",
   "metadata": {
    "execution": {
     "iopub.execute_input": "2022-05-11T00:37:19.500932Z",
     "iopub.status.busy": "2022-05-11T00:37:19.496789Z",
     "iopub.status.idle": "2022-05-11T00:37:19.509895Z",
     "shell.execute_reply": "2022-05-11T00:37:19.509494Z"
    },
    "papermill": {
     "duration": 0.050196,
     "end_time": "2022-05-11T00:37:19.509992",
     "exception": false,
     "start_time": "2022-05-11T00:37:19.459796",
     "status": "completed"
    },
    "tags": []
   },
   "outputs": [],
   "source": [
    "#Impoting functions from 'Kudzu'\n",
    "from kudzu.model import Model\n",
    "from kudzu.train import Learner\n",
    "from kudzu.optim import GD\n",
    "from kudzu.data import Data, Sampler,Dataloader\n",
    "\n",
    "from kudzu.callbacks import AccCallback\n",
    "from kudzu.callbacks import ClfCallback\n",
    "\n",
    "from kudzu.loss import MSE\n",
    "\n",
    "from kudzu.layer import Sigmoid,Relu\n",
    "from kudzu.layer import Affine"
   ]
  },
  {
   "cell_type": "markdown",
   "id": "bc01172a",
   "metadata": {
    "papermill": {
     "duration": 0.026634,
     "end_time": "2022-05-11T00:37:19.563061",
     "exception": false,
     "start_time": "2022-05-11T00:37:19.536427",
     "status": "completed"
    },
    "tags": []
   },
   "source": [
    "### Let us create a `Config` class, to store important parameters. \n",
    "This class essentially plays the role of a dictionary."
   ]
  },
  {
   "cell_type": "code",
   "execution_count": 16,
   "id": "978281aa",
   "metadata": {
    "execution": {
     "iopub.execute_input": "2022-05-11T00:37:19.619394Z",
     "iopub.status.busy": "2022-05-11T00:37:19.618890Z",
     "iopub.status.idle": "2022-05-11T00:37:19.631109Z",
     "shell.execute_reply": "2022-05-11T00:37:19.630685Z"
    },
    "papermill": {
     "duration": 0.041628,
     "end_time": "2022-05-11T00:37:19.631209",
     "exception": false,
     "start_time": "2022-05-11T00:37:19.589581",
     "status": "completed"
    },
    "tags": []
   },
   "outputs": [],
   "source": [
    "class Config:\n",
    "    pass\n",
    "config = Config()\n",
    "config.lr = 0.001\n",
    "config.num_epochs = 250\n",
    "config.bs = 50"
   ]
  },
  {
   "cell_type": "markdown",
   "id": "1385fa59",
   "metadata": {
    "papermill": {
     "duration": 0.02621,
     "end_time": "2022-05-11T00:37:19.683866",
     "exception": false,
     "start_time": "2022-05-11T00:37:19.657656",
     "status": "completed"
    },
    "tags": []
   },
   "source": [
    "### Running Models with the Training data\n",
    "Details about the network layers:\n",
    "- A first affine layer has 784 inputs and does 100 affine transforms. These are followed by a Relu\n",
    "- A second affine layer has 100 inputs from the 100 activations of the past layer, and does 100 affine transforms. These are followed by a Relu\n",
    "- A third affine layer has 100 activations and does 2 affine transformations to create an embedding for visualization. There is no non-linearity here.\n",
    "- A final \"logistic regression\" which has an affine transform from 2 inputs to 1 output, which is squeezed through a sigmoid.\n"
   ]
  },
  {
   "cell_type": "code",
   "execution_count": 17,
   "id": "2b9c66db",
   "metadata": {
    "execution": {
     "iopub.execute_input": "2022-05-11T00:37:19.741865Z",
     "iopub.status.busy": "2022-05-11T00:37:19.741360Z",
     "iopub.status.idle": "2022-05-11T00:37:19.751788Z",
     "shell.execute_reply": "2022-05-11T00:37:19.752236Z"
    },
    "papermill": {
     "duration": 0.042119,
     "end_time": "2022-05-11T00:37:19.752353",
     "exception": false,
     "start_time": "2022-05-11T00:37:19.710234",
     "status": "completed"
    },
    "tags": []
   },
   "outputs": [],
   "source": [
    "data = Data(X_train, y_train.reshape(-1,1))\n",
    "sampler = Sampler(data, config.bs, shuffle=True)\n",
    "\n",
    "dl = Dataloader(data, sampler)\n",
    "\n",
    "opt = GD(config.lr)\n",
    "loss = MSE()"
   ]
  },
  {
   "cell_type": "code",
   "execution_count": 18,
   "id": "b275e4c2",
   "metadata": {
    "execution": {
     "iopub.execute_input": "2022-05-11T00:37:19.808408Z",
     "iopub.status.busy": "2022-05-11T00:37:19.807872Z",
     "iopub.status.idle": "2022-05-11T00:37:19.818505Z",
     "shell.execute_reply": "2022-05-11T00:37:19.818932Z"
    },
    "papermill": {
     "duration": 0.040312,
     "end_time": "2022-05-11T00:37:19.819043",
     "exception": false,
     "start_time": "2022-05-11T00:37:19.778731",
     "status": "completed"
    },
    "tags": []
   },
   "outputs": [],
   "source": [
    "training_data_x = X_train\n",
    "testing_data_x = X_test\n",
    "training_data_y = y_train.reshape(-1,1)\n",
    "testing_data_y = y_test.reshape(-1,1)"
   ]
  },
  {
   "cell_type": "code",
   "execution_count": 19,
   "id": "76951160",
   "metadata": {
    "execution": {
     "iopub.execute_input": "2022-05-11T00:37:19.887611Z",
     "iopub.status.busy": "2022-05-11T00:37:19.882177Z",
     "iopub.status.idle": "2022-05-11T00:37:19.893196Z",
     "shell.execute_reply": "2022-05-11T00:37:19.893602Z"
    },
    "papermill": {
     "duration": 0.048436,
     "end_time": "2022-05-11T00:37:19.893717",
     "exception": false,
     "start_time": "2022-05-11T00:37:19.845281",
     "status": "completed"
    },
    "tags": []
   },
   "outputs": [
    {
     "name": "stdout",
     "output_type": "stream",
     "text": [
      "xavier\n",
      "xavier\n",
      "xavier\n",
      "xavier\n",
      "xavier\n"
     ]
    }
   ],
   "source": [
    "layers = [Affine(\"first\", 784, 100), Relu(\"first\"), Affine(\"second\", 100, 100), Relu(\"second\"), Affine(\"third\", 100, 2), Affine(\"last\", 2, 1), Sigmoid(\"last\")]\n",
    "model_nn = Model(layers)\n",
    "model_lr = Model([Affine(\"logits\", 784, 1), Sigmoid(\"sigmoid\")])"
   ]
  },
  {
   "cell_type": "code",
   "execution_count": 20,
   "id": "6eede77a",
   "metadata": {
    "execution": {
     "iopub.execute_input": "2022-05-11T00:37:19.961927Z",
     "iopub.status.busy": "2022-05-11T00:37:19.961429Z",
     "iopub.status.idle": "2022-05-11T00:37:19.963803Z",
     "shell.execute_reply": "2022-05-11T00:37:19.963399Z"
    },
    "papermill": {
     "duration": 0.043588,
     "end_time": "2022-05-11T00:37:19.963904",
     "exception": false,
     "start_time": "2022-05-11T00:37:19.920316",
     "status": "completed"
    },
    "tags": []
   },
   "outputs": [],
   "source": [
    "nn_learner = Learner(loss, model_nn, opt, config.num_epochs)\n",
    "acc_nn = ClfCallback(nn_learner, config.bs, training_data_x , testing_data_x, training_data_y, testing_data_y)\n",
    "nn_learner.set_callbacks([acc_nn])"
   ]
  },
  {
   "cell_type": "code",
   "execution_count": 21,
   "id": "877b6cc7",
   "metadata": {
    "execution": {
     "iopub.execute_input": "2022-05-11T00:37:20.028882Z",
     "iopub.status.busy": "2022-05-11T00:37:20.027725Z",
     "iopub.status.idle": "2022-05-11T00:37:20.034962Z",
     "shell.execute_reply": "2022-05-11T00:37:20.034557Z"
    },
    "papermill": {
     "duration": 0.044542,
     "end_time": "2022-05-11T00:37:20.035062",
     "exception": false,
     "start_time": "2022-05-11T00:37:19.990520",
     "status": "completed"
    },
    "tags": []
   },
   "outputs": [],
   "source": [
    "lr_learner = Learner(loss, model_lr, opt, config.num_epochs)\n",
    "acc_lr = ClfCallback(lr_learner, config.bs, training_data_x , testing_data_x, training_data_y, testing_data_y)\n",
    "lr_learner.set_callbacks([acc_lr])"
   ]
  },
  {
   "cell_type": "code",
   "execution_count": 22,
   "id": "d9b133c3",
   "metadata": {
    "execution": {
     "iopub.execute_input": "2022-05-11T00:37:20.099465Z",
     "iopub.status.busy": "2022-05-11T00:37:20.098386Z",
     "iopub.status.idle": "2022-05-11T00:38:33.831914Z",
     "shell.execute_reply": "2022-05-11T00:38:33.831482Z"
    },
    "papermill": {
     "duration": 73.77029,
     "end_time": "2022-05-11T00:38:33.832039",
     "exception": false,
     "start_time": "2022-05-11T00:37:20.061749",
     "status": "completed"
    },
    "tags": []
   },
   "outputs": [
    {
     "name": "stdout",
     "output_type": "stream",
     "text": [
      "Epoch 0, Loss 0.2509\n",
      "Training Accuracy: 0.5119, Testing Accuracy: 0.5091\n",
      "\n"
     ]
    },
    {
     "name": "stdout",
     "output_type": "stream",
     "text": [
      "Epoch 10, Loss 0.2163\n",
      "Training Accuracy: 0.7918, Testing Accuracy: 0.7712\n",
      "\n"
     ]
    },
    {
     "name": "stdout",
     "output_type": "stream",
     "text": [
      "Epoch 20, Loss 0.1283\n",
      "Training Accuracy: 0.9030, Testing Accuracy: 0.9093\n",
      "\n"
     ]
    },
    {
     "name": "stdout",
     "output_type": "stream",
     "text": [
      "Epoch 30, Loss 0.072\n",
      "Training Accuracy: 0.9266, Testing Accuracy: 0.9375\n",
      "\n"
     ]
    },
    {
     "name": "stdout",
     "output_type": "stream",
     "text": [
      "Epoch 40, Loss 0.0533\n",
      "Training Accuracy: 0.9411, Testing Accuracy: 0.9541\n",
      "\n"
     ]
    },
    {
     "name": "stdout",
     "output_type": "stream",
     "text": [
      "Epoch 50, Loss 0.0446\n",
      "Training Accuracy: 0.9492, Testing Accuracy: 0.9627\n",
      "\n"
     ]
    },
    {
     "name": "stdout",
     "output_type": "stream",
     "text": [
      "Epoch 60, Loss 0.0397\n",
      "Training Accuracy: 0.9543, Testing Accuracy: 0.9657\n",
      "\n"
     ]
    },
    {
     "name": "stdout",
     "output_type": "stream",
     "text": [
      "Epoch 70, Loss 0.0364\n",
      "Training Accuracy: 0.9573, Testing Accuracy: 0.9657\n",
      "\n"
     ]
    },
    {
     "name": "stdout",
     "output_type": "stream",
     "text": [
      "Epoch 80, Loss 0.0341\n",
      "Training Accuracy: 0.9604, Testing Accuracy: 0.9652\n",
      "\n"
     ]
    },
    {
     "name": "stdout",
     "output_type": "stream",
     "text": [
      "Epoch 90, Loss 0.0324\n",
      "Training Accuracy: 0.9625, Testing Accuracy: 0.9652\n",
      "\n"
     ]
    },
    {
     "name": "stdout",
     "output_type": "stream",
     "text": [
      "Epoch 100, Loss 0.0309\n",
      "Training Accuracy: 0.9640, Testing Accuracy: 0.9672\n",
      "\n"
     ]
    },
    {
     "name": "stdout",
     "output_type": "stream",
     "text": [
      "Epoch 110, Loss 0.0297\n",
      "Training Accuracy: 0.9653, Testing Accuracy: 0.9677\n",
      "\n"
     ]
    },
    {
     "name": "stdout",
     "output_type": "stream",
     "text": [
      "Epoch 120, Loss 0.0287\n",
      "Training Accuracy: 0.9671, Testing Accuracy: 0.9698\n",
      "\n"
     ]
    },
    {
     "name": "stdout",
     "output_type": "stream",
     "text": [
      "Epoch 130, Loss 0.0278\n",
      "Training Accuracy: 0.9682, Testing Accuracy: 0.9713\n",
      "\n"
     ]
    },
    {
     "name": "stdout",
     "output_type": "stream",
     "text": [
      "Epoch 140, Loss 0.027\n",
      "Training Accuracy: 0.9688, Testing Accuracy: 0.9708\n",
      "\n"
     ]
    },
    {
     "name": "stdout",
     "output_type": "stream",
     "text": [
      "Epoch 150, Loss 0.0263\n",
      "Training Accuracy: 0.9695, Testing Accuracy: 0.9703\n",
      "\n"
     ]
    },
    {
     "name": "stdout",
     "output_type": "stream",
     "text": [
      "Epoch 160, Loss 0.0257\n",
      "Training Accuracy: 0.9701, Testing Accuracy: 0.9708\n",
      "\n"
     ]
    },
    {
     "name": "stdout",
     "output_type": "stream",
     "text": [
      "Epoch 170, Loss 0.0251\n",
      "Training Accuracy: 0.9705, Testing Accuracy: 0.9708\n",
      "\n"
     ]
    },
    {
     "name": "stdout",
     "output_type": "stream",
     "text": [
      "Epoch 180, Loss 0.0245\n",
      "Training Accuracy: 0.9709, Testing Accuracy: 0.9713\n",
      "\n"
     ]
    },
    {
     "name": "stdout",
     "output_type": "stream",
     "text": [
      "Epoch 190, Loss 0.024\n",
      "Training Accuracy: 0.9716, Testing Accuracy: 0.9723\n",
      "\n"
     ]
    },
    {
     "name": "stdout",
     "output_type": "stream",
     "text": [
      "Epoch 200, Loss 0.0235\n",
      "Training Accuracy: 0.9723, Testing Accuracy: 0.9723\n",
      "\n"
     ]
    },
    {
     "name": "stdout",
     "output_type": "stream",
     "text": [
      "Epoch 210, Loss 0.0231\n",
      "Training Accuracy: 0.9729, Testing Accuracy: 0.9723\n",
      "\n"
     ]
    },
    {
     "name": "stdout",
     "output_type": "stream",
     "text": [
      "Epoch 220, Loss 0.0227\n",
      "Training Accuracy: 0.9735, Testing Accuracy: 0.9718\n",
      "\n"
     ]
    },
    {
     "name": "stdout",
     "output_type": "stream",
     "text": [
      "Epoch 230, Loss 0.0223\n",
      "Training Accuracy: 0.9744, Testing Accuracy: 0.9723\n",
      "\n"
     ]
    },
    {
     "name": "stdout",
     "output_type": "stream",
     "text": [
      "Epoch 240, Loss 0.0219\n",
      "Training Accuracy: 0.9750, Testing Accuracy: 0.9733\n",
      "\n"
     ]
    },
    {
     "data": {
      "text/plain": [
       "0.0025539716768124728"
      ]
     },
     "execution_count": 22,
     "metadata": {},
     "output_type": "execute_result"
    }
   ],
   "source": [
    "nn_learner.train_loop(dl)"
   ]
  },
  {
   "cell_type": "code",
   "execution_count": 23,
   "id": "e0163366",
   "metadata": {
    "execution": {
     "iopub.execute_input": "2022-05-11T00:38:33.921591Z",
     "iopub.status.busy": "2022-05-11T00:38:33.920849Z",
     "iopub.status.idle": "2022-05-11T00:38:47.347936Z",
     "shell.execute_reply": "2022-05-11T00:38:47.348376Z"
    },
    "papermill": {
     "duration": 13.47923,
     "end_time": "2022-05-11T00:38:47.348528",
     "exception": false,
     "start_time": "2022-05-11T00:38:33.869298",
     "status": "completed"
    },
    "tags": []
   },
   "outputs": [
    {
     "name": "stdout",
     "output_type": "stream",
     "text": [
      "Epoch 0, Loss 0.2603\n",
      "Training Accuracy: 0.5995, Testing Accuracy: 0.5827\n",
      "\n"
     ]
    },
    {
     "name": "stdout",
     "output_type": "stream",
     "text": [
      "Epoch 10, Loss 0.1047\n",
      "Training Accuracy: 0.9067, Testing Accuracy: 0.9178\n",
      "\n"
     ]
    },
    {
     "name": "stdout",
     "output_type": "stream",
     "text": [
      "Epoch 20, Loss 0.0802\n",
      "Training Accuracy: 0.9255, Testing Accuracy: 0.9345\n",
      "\n"
     ]
    },
    {
     "name": "stdout",
     "output_type": "stream",
     "text": [
      "Epoch 30, Loss 0.0691\n",
      "Training Accuracy: 0.9338, Testing Accuracy: 0.9430\n",
      "\n"
     ]
    },
    {
     "name": "stdout",
     "output_type": "stream",
     "text": [
      "Epoch 40, Loss 0.0624\n",
      "Training Accuracy: 0.9386, Testing Accuracy: 0.9486\n",
      "\n"
     ]
    },
    {
     "name": "stdout",
     "output_type": "stream",
     "text": [
      "Epoch 50, Loss 0.0578\n",
      "Training Accuracy: 0.9427, Testing Accuracy: 0.9521\n",
      "\n"
     ]
    },
    {
     "name": "stdout",
     "output_type": "stream",
     "text": [
      "Epoch 60, Loss 0.0545\n",
      "Training Accuracy: 0.9458, Testing Accuracy: 0.9536\n",
      "\n"
     ]
    },
    {
     "name": "stdout",
     "output_type": "stream",
     "text": [
      "Epoch 70, Loss 0.0519\n",
      "Training Accuracy: 0.9471, Testing Accuracy: 0.9551\n",
      "\n"
     ]
    },
    {
     "name": "stdout",
     "output_type": "stream",
     "text": [
      "Epoch 80, Loss 0.0498\n",
      "Training Accuracy: 0.9489, Testing Accuracy: 0.9577\n",
      "\n"
     ]
    },
    {
     "name": "stdout",
     "output_type": "stream",
     "text": [
      "Epoch 90, Loss 0.0481\n",
      "Training Accuracy: 0.9509, Testing Accuracy: 0.9587\n",
      "\n"
     ]
    },
    {
     "name": "stdout",
     "output_type": "stream",
     "text": [
      "Epoch 100, Loss 0.0466\n",
      "Training Accuracy: 0.9520, Testing Accuracy: 0.9617\n",
      "\n"
     ]
    },
    {
     "name": "stdout",
     "output_type": "stream",
     "text": [
      "Epoch 110, Loss 0.0454\n",
      "Training Accuracy: 0.9531, Testing Accuracy: 0.9632\n",
      "\n"
     ]
    },
    {
     "name": "stdout",
     "output_type": "stream",
     "text": [
      "Epoch 120, Loss 0.0443\n",
      "Training Accuracy: 0.9543, Testing Accuracy: 0.9637\n",
      "\n"
     ]
    },
    {
     "name": "stdout",
     "output_type": "stream",
     "text": [
      "Epoch 130, Loss 0.0434\n",
      "Training Accuracy: 0.9549, Testing Accuracy: 0.9642\n",
      "\n"
     ]
    },
    {
     "name": "stdout",
     "output_type": "stream",
     "text": [
      "Epoch 140, Loss 0.0425\n",
      "Training Accuracy: 0.9557, Testing Accuracy: 0.9652\n",
      "\n"
     ]
    },
    {
     "name": "stdout",
     "output_type": "stream",
     "text": [
      "Epoch 150, Loss 0.0418\n",
      "Training Accuracy: 0.9561, Testing Accuracy: 0.9657\n",
      "\n"
     ]
    },
    {
     "name": "stdout",
     "output_type": "stream",
     "text": [
      "Epoch 160, Loss 0.0411\n",
      "Training Accuracy: 0.9564, Testing Accuracy: 0.9657\n",
      "\n"
     ]
    },
    {
     "name": "stdout",
     "output_type": "stream",
     "text": [
      "Epoch 170, Loss 0.0404\n",
      "Training Accuracy: 0.9567, Testing Accuracy: 0.9657\n",
      "\n"
     ]
    },
    {
     "name": "stdout",
     "output_type": "stream",
     "text": [
      "Epoch 180, Loss 0.0399\n",
      "Training Accuracy: 0.9573, Testing Accuracy: 0.9652\n",
      "\n"
     ]
    },
    {
     "name": "stdout",
     "output_type": "stream",
     "text": [
      "Epoch 190, Loss 0.0393\n",
      "Training Accuracy: 0.9579, Testing Accuracy: 0.9657\n",
      "\n"
     ]
    },
    {
     "name": "stdout",
     "output_type": "stream",
     "text": [
      "Epoch 200, Loss 0.0389\n",
      "Training Accuracy: 0.9585, Testing Accuracy: 0.9662\n",
      "\n"
     ]
    },
    {
     "name": "stdout",
     "output_type": "stream",
     "text": [
      "Epoch 210, Loss 0.0384\n",
      "Training Accuracy: 0.9589, Testing Accuracy: 0.9662\n",
      "\n"
     ]
    },
    {
     "name": "stdout",
     "output_type": "stream",
     "text": [
      "Epoch 220, Loss 0.038\n",
      "Training Accuracy: 0.9594, Testing Accuracy: 0.9662\n",
      "\n"
     ]
    },
    {
     "name": "stdout",
     "output_type": "stream",
     "text": [
      "Epoch 230, Loss 0.0376\n",
      "Training Accuracy: 0.9594, Testing Accuracy: 0.9672\n",
      "\n"
     ]
    },
    {
     "name": "stdout",
     "output_type": "stream",
     "text": [
      "Epoch 240, Loss 0.0372\n",
      "Training Accuracy: 0.9598, Testing Accuracy: 0.9672\n",
      "\n"
     ]
    },
    {
     "data": {
      "text/plain": [
       "0.04863416080523295"
      ]
     },
     "execution_count": 23,
     "metadata": {},
     "output_type": "execute_result"
    }
   ],
   "source": [
    "lr_learner.train_loop(dl)"
   ]
  },
  {
   "cell_type": "code",
   "execution_count": 24,
   "id": "ca410940",
   "metadata": {
    "execution": {
     "iopub.execute_input": "2022-05-11T00:38:47.441265Z",
     "iopub.status.busy": "2022-05-11T00:38:47.440737Z",
     "iopub.status.idle": "2022-05-11T00:38:47.655249Z",
     "shell.execute_reply": "2022-05-11T00:38:47.655658Z"
    },
    "papermill": {
     "duration": 0.266462,
     "end_time": "2022-05-11T00:38:47.655792",
     "exception": false,
     "start_time": "2022-05-11T00:38:47.389330",
     "status": "completed"
    },
    "tags": []
   },
   "outputs": [
    {
     "data": {
      "text/plain": [
       "<matplotlib.legend.Legend at 0x7f5f1a5c2cc0>"
      ]
     },
     "execution_count": 24,
     "metadata": {},
     "output_type": "execute_result"
    },
    {
     "data": {
      "image/png": "[encoded data removed]",
      "text/plain": [
       "<Figure size 1080x720 with 1 Axes>"
      ]
     },
     "metadata": {
      "needs_background": "light"
     },
     "output_type": "display_data"
    }
   ],
   "source": [
    "#comparing the results of NN and LR\n",
    "plt.figure(figsize=(15,10))\n",
    "\n",
    "# Neural Network plots\n",
    "plt.plot(acc_nn.accuracies, 'r-', label = \"Training Accuracies - NN\")\n",
    "plt.plot(acc_nn.test_accuracies, 'g-', label = \"Testing Accuracies - NN\")\n",
    "\n",
    "# Logistic Regression plots\n",
    "plt.plot(acc_lr.accuracies, 'k-', label = \"Training Accuracies - LR\")\n",
    "plt.plot(acc_lr.test_accuracies, 'b-', label = \"Testing Accuracies - LR\")\n",
    "plt.legend()"
   ]
  },
  {
   "cell_type": "markdown",
   "id": "80dfb35c",
   "metadata": {
    "papermill": {
     "duration": 0.041181,
     "end_time": "2022-05-11T00:38:47.744488",
     "exception": false,
     "start_time": "2022-05-11T00:38:47.703307",
     "status": "completed"
    },
    "tags": []
   },
   "source": [
    "#### Plotting the outputs of this layer of the NN.\n"
   ]
  },
  {
   "cell_type": "code",
   "execution_count": 25,
   "id": "45eb2ff5",
   "metadata": {
    "execution": {
     "iopub.execute_input": "2022-05-11T00:38:47.830971Z",
     "iopub.status.busy": "2022-05-11T00:38:47.830449Z",
     "iopub.status.idle": "2022-05-11T00:38:47.850808Z",
     "shell.execute_reply": "2022-05-11T00:38:47.851216Z"
    },
    "papermill": {
     "duration": 0.065603,
     "end_time": "2022-05-11T00:38:47.851339",
     "exception": false,
     "start_time": "2022-05-11T00:38:47.785736",
     "status": "completed"
    },
    "tags": []
   },
   "outputs": [],
   "source": [
    "new_model = Model(layers[:-2])\n",
    "testing_plot = new_model(testing_data_x)"
   ]
  },
  {
   "cell_type": "code",
   "execution_count": 26,
   "id": "4c0a5485",
   "metadata": {
    "execution": {
     "iopub.execute_input": "2022-05-11T00:38:47.937688Z",
     "iopub.status.busy": "2022-05-11T00:38:47.937187Z",
     "iopub.status.idle": "2022-05-11T00:38:48.135379Z",
     "shell.execute_reply": "2022-05-11T00:38:48.134948Z"
    },
    "papermill": {
     "duration": 0.242641,
     "end_time": "2022-05-11T00:38:48.135486",
     "exception": false,
     "start_time": "2022-05-11T00:38:47.892845",
     "status": "completed"
    },
    "tags": []
   },
   "outputs": [
    {
     "data": {
      "text/plain": [
       "Text(0.5, 1.0, 'Outputs')"
      ]
     },
     "execution_count": 26,
     "metadata": {},
     "output_type": "execute_result"
    },
    {
     "data": {
      "image/png": "[encoded data removed]",
      "text/plain": [
       "<Figure size 576x504 with 1 Axes>"
      ]
     },
     "metadata": {
      "needs_background": "light"
     },
     "output_type": "display_data"
    }
   ],
   "source": [
    "# Plotting the scatter plot of points and color coding by class\n",
    "plt.figure(figsize=(8,7))\n",
    "plt.scatter(testing_plot[:,0], testing_plot[:,1], alpha = 0.1, c = y_test.ravel());\n",
    "plt.title('Outputs')"
   ]
  },
  {
   "cell_type": "markdown",
   "id": "a74fcf8f",
   "metadata": {
    "papermill": {
     "duration": 0.043447,
     "end_time": "2022-05-11T00:38:48.222597",
     "exception": false,
     "start_time": "2022-05-11T00:38:48.179150",
     "status": "completed"
    },
    "tags": []
   },
   "source": [
    "Probability contours"
   ]
  },
  {
   "cell_type": "code",
   "execution_count": 27,
   "id": "d0afc8e3",
   "metadata": {
    "execution": {
     "iopub.execute_input": "2022-05-11T00:38:48.324715Z",
     "iopub.status.busy": "2022-05-11T00:38:48.312834Z",
     "iopub.status.idle": "2022-05-11T00:38:48.327097Z",
     "shell.execute_reply": "2022-05-11T00:38:48.326694Z"
    },
    "papermill": {
     "duration": 0.061078,
     "end_time": "2022-05-11T00:38:48.327202",
     "exception": false,
     "start_time": "2022-05-11T00:38:48.266124",
     "status": "completed"
    },
    "tags": []
   },
   "outputs": [],
   "source": [
    "model_prob = Model(layers[-2:]) "
   ]
  },
  {
   "cell_type": "code",
   "execution_count": 28,
   "id": "9b96e238",
   "metadata": {
    "execution": {
     "iopub.execute_input": "2022-05-11T00:38:48.420999Z",
     "iopub.status.busy": "2022-05-11T00:38:48.420478Z",
     "iopub.status.idle": "2022-05-11T00:38:48.432706Z",
     "shell.execute_reply": "2022-05-11T00:38:48.433087Z"
    },
    "papermill": {
     "duration": 0.062599,
     "end_time": "2022-05-11T00:38:48.433208",
     "exception": false,
     "start_time": "2022-05-11T00:38:48.370609",
     "status": "completed"
    },
    "tags": []
   },
   "outputs": [],
   "source": [
    "#creating the x and y ranges according to the above generated plot.\n",
    "x_range = np.linspace(-4, 1, 100) \n",
    "y_range = np.linspace(-6, 6, 100) \n",
    "x_grid, y_grid = np.meshgrid(x_range, y_range) # x_grid and y_grig are of size 100 X 100\n",
    "\n",
    "# converting x_grid and y_grid to continuous arrays\n",
    "x_gridflat = np.ravel(x_grid)\n",
    "y_gridflat = np.ravel(y_grid)\n",
    "\n",
    "# The last layer of the current model takes two columns as input. Hence transpose of np.vstack() is required.\n",
    "X = np.vstack((x_gridflat, y_gridflat)).T\n",
    "\n",
    "prob_contour = model_prob(X).reshape(100,100) "
   ]
  },
  {
   "cell_type": "code",
   "execution_count": 29,
   "id": "da72499a",
   "metadata": {
    "execution": {
     "iopub.execute_input": "2022-05-11T00:38:48.585022Z",
     "iopub.status.busy": "2022-05-11T00:38:48.566469Z",
     "iopub.status.idle": "2022-05-11T00:38:48.810696Z",
     "shell.execute_reply": "2022-05-11T00:38:48.811388Z"
    },
    "papermill": {
     "duration": 0.334285,
     "end_time": "2022-05-11T00:38:48.811540",
     "exception": false,
     "start_time": "2022-05-11T00:38:48.477255",
     "status": "completed"
    },
    "tags": []
   },
   "outputs": [
    {
     "data": {
      "image/png": "[encoded data removed]",
      "text/plain": [
       "<Figure size 720x648 with 1 Axes>"
      ]
     },
     "metadata": {
      "needs_background": "light"
     },
     "output_type": "display_data"
    }
   ],
   "source": [
    "plt.figure(figsize=(10,9))\n",
    "plt.scatter(testing_plot[:,0], testing_plot[:,1], alpha = 0.1, c = y_test.ravel())\n",
    "contours = plt.contour(x_grid,y_grid,prob_contour)\n",
    "plt.title('Probability Contours')\n",
    "plt.clabel(contours, inline = True );"
   ]
  },
  {
   "cell_type": "code",
   "execution_count": null,
   "id": "e81b4ac7",
   "metadata": {
    "papermill": {
     "duration": 0.046146,
     "end_time": "2022-05-11T00:38:48.904754",
     "exception": false,
     "start_time": "2022-05-11T00:38:48.858608",
     "status": "completed"
    },
    "tags": []
   },
   "outputs": [],
   "source": []
  }
 ],
 "metadata": {
  "kernelspec": {
   "display_name": "Python 3",
   "language": "python",
   "name": "python3"
  },
  "language_info": {
   "codemirror_mode": {
    "name": "ipython",
    "version": 3
   },
   "file_extension": ".py",
   "mimetype": "text/x-python",
   "name": "python",
   "nbconvert_exporter": "python",
   "pygments_lexer": "ipython3",
   "version": "3.6.15"
  },
  "papermill": {
   "default_parameters": {},
   "duration": 95.079202,
   "end_time": "2022-05-11T00:38:49.369713",
   "environment_variables": {},
   "exception": null,
   "input_path": "2020-08-11-part2.ipynb",
   "output_path": "2020-08-11-part2.ipynb",
   "parameters": {},
   "start_time": "2022-05-11T00:37:14.290511",
   "version": "2.3.3"
  }
 },
 "nbformat": 4,
 "nbformat_minor": 5
}