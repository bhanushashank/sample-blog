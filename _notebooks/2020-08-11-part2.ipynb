{
 "cells": [
  {
   "cell_type": "markdown",
   "id": "98380cd3",
   "metadata": {
    "papermill": {
     "duration": 0.03177,
     "end_time": "2022-01-27T20:06:58.729784",
     "exception": false,
     "start_time": "2022-01-27T20:06:58.698014",
     "status": "completed"
    },
    "tags": []
   },
   "source": [
    "# Distinguish Your Own Digits (DYOD)"
   ]
  },
  {
   "cell_type": "markdown",
   "id": "ef31240d",
   "metadata": {
    "papermill": {
     "duration": 0.026537,
     "end_time": "2022-01-27T20:06:58.783608",
     "exception": false,
     "start_time": "2022-01-27T20:06:58.757071",
     "status": "completed"
    },
    "tags": []
   },
   "source": [
    "You are going to write a classifier that distinguishes between the number 3 and number 8."
   ]
  },
  {
   "cell_type": "code",
   "execution_count": 1,
   "id": "b15c8646",
   "metadata": {
    "execution": {
     "iopub.execute_input": "2022-01-27T20:06:58.850321Z",
     "iopub.status.busy": "2022-01-27T20:06:58.849705Z",
     "iopub.status.idle": "2022-01-27T20:06:58.861678Z",
     "shell.execute_reply": "2022-01-27T20:06:58.861142Z"
    },
    "papermill": {
     "duration": 0.051418,
     "end_time": "2022-01-27T20:06:58.861825",
     "exception": false,
     "start_time": "2022-01-27T20:06:58.810407",
     "status": "completed"
    },
    "tags": []
   },
   "outputs": [],
   "source": [
    "%load_ext autoreload\n",
    "%autoreload 2"
   ]
  },
  {
   "cell_type": "code",
   "execution_count": 2,
   "id": "22ef38dc",
   "metadata": {
    "execution": {
     "iopub.execute_input": "2022-01-27T20:06:58.921508Z",
     "iopub.status.busy": "2022-01-27T20:06:58.920898Z",
     "iopub.status.idle": "2022-01-27T20:06:59.589268Z",
     "shell.execute_reply": "2022-01-27T20:06:59.590108Z"
    },
    "papermill": {
     "duration": 0.701613,
     "end_time": "2022-01-27T20:06:59.590370",
     "exception": false,
     "start_time": "2022-01-27T20:06:58.888757",
     "status": "completed"
    },
    "tags": []
   },
   "outputs": [],
   "source": [
    "%matplotlib inline\n",
    "import numpy as np\n",
    "import matplotlib.pyplot as plt\n",
    "import pandas as pd"
   ]
  },
  {
   "cell_type": "markdown",
   "id": "ba036198",
   "metadata": {
    "papermill": {
     "duration": 0.0272,
     "end_time": "2022-01-27T20:06:59.647695",
     "exception": false,
     "start_time": "2022-01-27T20:06:59.620495",
     "status": "completed"
    },
    "tags": []
   },
   "source": [
    "From the command line run `pip install mnist`. This is a library that will help you bring down the mnist dataset. If you run this from a notebook, you need to put  `!pip install mnist` in a cell by itself."
   ]
  },
  {
   "cell_type": "code",
   "execution_count": 3,
   "id": "bb6ad8a1",
   "metadata": {
    "execution": {
     "iopub.execute_input": "2022-01-27T20:06:59.707974Z",
     "iopub.status.busy": "2022-01-27T20:06:59.707335Z",
     "iopub.status.idle": "2022-01-27T20:07:02.421645Z",
     "shell.execute_reply": "2022-01-27T20:07:02.421062Z"
    },
    "papermill": {
     "duration": 2.748099,
     "end_time": "2022-01-27T20:07:02.421800",
     "exception": false,
     "start_time": "2022-01-27T20:06:59.673701",
     "status": "completed"
    },
    "tags": []
   },
   "outputs": [
    {
     "name": "stdout",
     "output_type": "stream",
     "text": [
      "Collecting mnist\r\n"
     ]
    },
    {
     "name": "stdout",
     "output_type": "stream",
     "text": [
      "  Downloading mnist-0.2.2-py2.py3-none-any.whl (3.5 kB)\r\n",
      "Requirement already satisfied: numpy in /opt/hostedtoolcache/Python/3.6.15/x64/lib/python3.6/site-packages (from mnist) (1.19.5)\r\n"
     ]
    },
    {
     "name": "stdout",
     "output_type": "stream",
     "text": [
      "Installing collected packages: mnist\r\n"
     ]
    },
    {
     "name": "stdout",
     "output_type": "stream",
     "text": [
      "Successfully installed mnist-0.2.2\r\n"
     ]
    }
   ],
   "source": [
    "!pip install mnist"
   ]
  },
  {
   "cell_type": "markdown",
   "id": "69df9c9a",
   "metadata": {
    "papermill": {
     "duration": 0.028037,
     "end_time": "2022-01-27T20:07:02.478549",
     "exception": false,
     "start_time": "2022-01-27T20:07:02.450512",
     "status": "completed"
    },
    "tags": []
   },
   "source": [
    "## Preparing the Data"
   ]
  },
  {
   "cell_type": "code",
   "execution_count": 4,
   "id": "7f69d806",
   "metadata": {
    "execution": {
     "iopub.execute_input": "2022-01-27T20:07:02.545098Z",
     "iopub.status.busy": "2022-01-27T20:07:02.539335Z",
     "iopub.status.idle": "2022-01-27T20:07:02.558572Z",
     "shell.execute_reply": "2022-01-27T20:07:02.559076Z"
    },
    "papermill": {
     "duration": 0.052557,
     "end_time": "2022-01-27T20:07:02.559232",
     "exception": false,
     "start_time": "2022-01-27T20:07:02.506675",
     "status": "completed"
    },
    "tags": []
   },
   "outputs": [],
   "source": [
    "import mnist"
   ]
  },
  {
   "cell_type": "code",
   "execution_count": 5,
   "id": "a411e44f",
   "metadata": {
    "execution": {
     "iopub.execute_input": "2022-01-27T20:07:02.636399Z",
     "iopub.status.busy": "2022-01-27T20:07:02.632334Z",
     "iopub.status.idle": "2022-01-27T20:07:03.160559Z",
     "shell.execute_reply": "2022-01-27T20:07:03.160013Z"
    },
    "papermill": {
     "duration": 0.573936,
     "end_time": "2022-01-27T20:07:03.160706",
     "exception": false,
     "start_time": "2022-01-27T20:07:02.586770",
     "status": "completed"
    },
    "tags": []
   },
   "outputs": [],
   "source": [
    "train_images = mnist.train_images()\n",
    "train_labels = mnist.train_labels()"
   ]
  },
  {
   "cell_type": "code",
   "execution_count": 6,
   "id": "dceab3a5",
   "metadata": {
    "execution": {
     "iopub.execute_input": "2022-01-27T20:07:03.222367Z",
     "iopub.status.busy": "2022-01-27T20:07:03.221770Z",
     "iopub.status.idle": "2022-01-27T20:07:03.237592Z",
     "shell.execute_reply": "2022-01-27T20:07:03.237145Z"
    },
    "papermill": {
     "duration": 0.049109,
     "end_time": "2022-01-27T20:07:03.237720",
     "exception": false,
     "start_time": "2022-01-27T20:07:03.188611",
     "status": "completed"
    },
    "tags": []
   },
   "outputs": [
    {
     "data": {
      "text/plain": [
       "((60000, 28, 28), (60000,))"
      ]
     },
     "execution_count": 6,
     "metadata": {},
     "output_type": "execute_result"
    }
   ],
   "source": [
    "train_images.shape, train_labels.shape"
   ]
  },
  {
   "cell_type": "code",
   "execution_count": 7,
   "id": "f50dc2bb",
   "metadata": {
    "execution": {
     "iopub.execute_input": "2022-01-27T20:07:03.301691Z",
     "iopub.status.busy": "2022-01-27T20:07:03.300747Z",
     "iopub.status.idle": "2022-01-27T20:07:03.429168Z",
     "shell.execute_reply": "2022-01-27T20:07:03.428259Z"
    },
    "papermill": {
     "duration": 0.164693,
     "end_time": "2022-01-27T20:07:03.429397",
     "exception": false,
     "start_time": "2022-01-27T20:07:03.264704",
     "status": "completed"
    },
    "tags": []
   },
   "outputs": [],
   "source": [
    "test_images = mnist.test_images()\n",
    "test_labels = mnist.test_labels()"
   ]
  },
  {
   "cell_type": "code",
   "execution_count": 8,
   "id": "fc38cf1b",
   "metadata": {
    "execution": {
     "iopub.execute_input": "2022-01-27T20:07:03.491322Z",
     "iopub.status.busy": "2022-01-27T20:07:03.490732Z",
     "iopub.status.idle": "2022-01-27T20:07:03.507732Z",
     "shell.execute_reply": "2022-01-27T20:07:03.506971Z"
    },
    "papermill": {
     "duration": 0.048588,
     "end_time": "2022-01-27T20:07:03.507889",
     "exception": false,
     "start_time": "2022-01-27T20:07:03.459301",
     "status": "completed"
    },
    "tags": []
   },
   "outputs": [
    {
     "data": {
      "text/plain": [
       "((10000, 28, 28), (10000,))"
      ]
     },
     "execution_count": 8,
     "metadata": {},
     "output_type": "execute_result"
    }
   ],
   "source": [
    "test_images.shape, test_labels.shape"
   ]
  },
  {
   "cell_type": "code",
   "execution_count": 9,
   "id": "f9ed8fe0",
   "metadata": {
    "execution": {
     "iopub.execute_input": "2022-01-27T20:07:03.568112Z",
     "iopub.status.busy": "2022-01-27T20:07:03.567490Z",
     "iopub.status.idle": "2022-01-27T20:07:03.726398Z",
     "shell.execute_reply": "2022-01-27T20:07:03.725900Z"
    },
    "papermill": {
     "duration": 0.191265,
     "end_time": "2022-01-27T20:07:03.726528",
     "exception": false,
     "start_time": "2022-01-27T20:07:03.535263",
     "status": "completed"
    },
    "tags": []
   },
   "outputs": [
    {
     "name": "stdout",
     "output_type": "stream",
     "text": [
      "2\n"
     ]
    },
    {
     "data": {
      "text/plain": [
       "<matplotlib.image.AxesImage at 0x7f81e9e2ac18>"
      ]
     },
     "execution_count": 9,
     "metadata": {},
     "output_type": "execute_result"
    },
    {
     "data": {
      "image/png": "[encoded data removed]",
      "text/plain": [
       "<Figure size 432x288 with 1 Axes>"
      ]
     },
     "metadata": {
      "needs_background": "light"
     },
     "output_type": "display_data"
    }
   ],
   "source": [
    "image_index = 7776 # You may select anything up to 60,000\n",
    "print(train_labels[image_index]) \n",
    "plt.imshow(train_images[image_index], cmap='Greys')"
   ]
  },
  {
   "cell_type": "markdown",
   "id": "a8d2388d",
   "metadata": {
    "papermill": {
     "duration": 0.029258,
     "end_time": "2022-01-27T20:07:03.786061",
     "exception": false,
     "start_time": "2022-01-27T20:07:03.756803",
     "status": "completed"
    },
    "tags": []
   },
   "source": [
    "## Filter data to get 3 and 8 out"
   ]
  },
  {
   "cell_type": "code",
   "execution_count": 10,
   "id": "776f7fc7",
   "metadata": {
    "execution": {
     "iopub.execute_input": "2022-01-27T20:07:03.852703Z",
     "iopub.status.busy": "2022-01-27T20:07:03.852084Z",
     "iopub.status.idle": "2022-01-27T20:07:03.871398Z",
     "shell.execute_reply": "2022-01-27T20:07:03.871911Z"
    },
    "papermill": {
     "duration": 0.057309,
     "end_time": "2022-01-27T20:07:03.872068",
     "exception": false,
     "start_time": "2022-01-27T20:07:03.814759",
     "status": "completed"
    },
    "tags": []
   },
   "outputs": [],
   "source": [
    "train_filter = np.where((train_labels == 3 ) | (train_labels == 8))\n",
    "test_filter = np.where((test_labels == 3) | (test_labels == 8))\n",
    "X_train, y_train = train_images[train_filter], train_labels[train_filter]\n",
    "X_test, y_test = test_images[test_filter], test_labels[test_filter]"
   ]
  },
  {
   "cell_type": "markdown",
   "id": "948f0b7e",
   "metadata": {
    "papermill": {
     "duration": 0.030156,
     "end_time": "2022-01-27T20:07:03.931284",
     "exception": false,
     "start_time": "2022-01-27T20:07:03.901128",
     "status": "completed"
    },
    "tags": []
   },
   "source": [
    "We normalize the pizel values in the 0 to 1 range"
   ]
  },
  {
   "cell_type": "code",
   "execution_count": 11,
   "id": "ee4c2166",
   "metadata": {
    "execution": {
     "iopub.execute_input": "2022-01-27T20:07:03.997884Z",
     "iopub.status.busy": "2022-01-27T20:07:03.997075Z",
     "iopub.status.idle": "2022-01-27T20:07:04.047470Z",
     "shell.execute_reply": "2022-01-27T20:07:04.046753Z"
    },
    "papermill": {
     "duration": 0.087039,
     "end_time": "2022-01-27T20:07:04.047648",
     "exception": false,
     "start_time": "2022-01-27T20:07:03.960609",
     "status": "completed"
    },
    "tags": []
   },
   "outputs": [],
   "source": [
    "X_train = X_train/255.\n",
    "X_test = X_test/255."
   ]
  },
  {
   "cell_type": "markdown",
   "id": "ddcf4fab",
   "metadata": {
    "papermill": {
     "duration": 0.02896,
     "end_time": "2022-01-27T20:07:04.107575",
     "exception": false,
     "start_time": "2022-01-27T20:07:04.078615",
     "status": "completed"
    },
    "tags": []
   },
   "source": [
    "And setup the labels as 1 (when the digit is 3) and 0 (when the digit is 8)"
   ]
  },
  {
   "cell_type": "code",
   "execution_count": 12,
   "id": "7dc908f2",
   "metadata": {
    "execution": {
     "iopub.execute_input": "2022-01-27T20:07:04.175277Z",
     "iopub.status.busy": "2022-01-27T20:07:04.174678Z",
     "iopub.status.idle": "2022-01-27T20:07:04.188728Z",
     "shell.execute_reply": "2022-01-27T20:07:04.188208Z"
    },
    "papermill": {
     "duration": 0.051352,
     "end_time": "2022-01-27T20:07:04.188864",
     "exception": false,
     "start_time": "2022-01-27T20:07:04.137512",
     "status": "completed"
    },
    "tags": []
   },
   "outputs": [],
   "source": [
    "y_train = 1*(y_train==3)\n",
    "y_test = 1*(y_test==3)"
   ]
  },
  {
   "cell_type": "code",
   "execution_count": 13,
   "id": "01e4e969",
   "metadata": {
    "execution": {
     "iopub.execute_input": "2022-01-27T20:07:04.252168Z",
     "iopub.status.busy": "2022-01-27T20:07:04.251552Z",
     "iopub.status.idle": "2022-01-27T20:07:04.267285Z",
     "shell.execute_reply": "2022-01-27T20:07:04.267822Z"
    },
    "papermill": {
     "duration": 0.049084,
     "end_time": "2022-01-27T20:07:04.267979",
     "exception": false,
     "start_time": "2022-01-27T20:07:04.218895",
     "status": "completed"
    },
    "tags": []
   },
   "outputs": [
    {
     "data": {
      "text/plain": [
       "((11982, 28, 28), (1984, 28, 28))"
      ]
     },
     "execution_count": 13,
     "metadata": {},
     "output_type": "execute_result"
    }
   ],
   "source": [
    "X_train.shape, X_test.shape"
   ]
  },
  {
   "cell_type": "markdown",
   "id": "5ccf3f85",
   "metadata": {
    "papermill": {
     "duration": 0.030199,
     "end_time": "2022-01-27T20:07:04.328765",
     "exception": false,
     "start_time": "2022-01-27T20:07:04.298566",
     "status": "completed"
    },
    "tags": []
   },
   "source": [
    "We reshape the data to flatten the image pixels into a set of features or co-variates:"
   ]
  },
  {
   "cell_type": "code",
   "execution_count": 14,
   "id": "5286a4a3",
   "metadata": {
    "execution": {
     "iopub.execute_input": "2022-01-27T20:07:04.395655Z",
     "iopub.status.busy": "2022-01-27T20:07:04.395035Z",
     "iopub.status.idle": "2022-01-27T20:07:04.413007Z",
     "shell.execute_reply": "2022-01-27T20:07:04.413423Z"
    },
    "papermill": {
     "duration": 0.053958,
     "end_time": "2022-01-27T20:07:04.413567",
     "exception": false,
     "start_time": "2022-01-27T20:07:04.359609",
     "status": "completed"
    },
    "tags": []
   },
   "outputs": [
    {
     "data": {
      "text/plain": [
       "((11982, 784), (1984, 784))"
      ]
     },
     "execution_count": 14,
     "metadata": {},
     "output_type": "execute_result"
    }
   ],
   "source": [
    "X_train = X_train.reshape(X_train.shape[0], -1)\n",
    "X_test = X_test.reshape(X_test.shape[0], -1)\n",
    "X_train.shape, X_test.shape"
   ]
  },
  {
   "cell_type": "code",
   "execution_count": 15,
   "id": "73c5f88a",
   "metadata": {
    "execution": {
     "iopub.execute_input": "2022-01-27T20:07:04.479996Z",
     "iopub.status.busy": "2022-01-27T20:07:04.479348Z",
     "iopub.status.idle": "2022-01-27T20:07:04.503052Z",
     "shell.execute_reply": "2022-01-27T20:07:04.502527Z"
    },
    "papermill": {
     "duration": 0.059183,
     "end_time": "2022-01-27T20:07:04.503184",
     "exception": false,
     "start_time": "2022-01-27T20:07:04.444001",
     "status": "completed"
    },
    "tags": []
   },
   "outputs": [],
   "source": [
    "#Impoting functions from 'Kudzu'\n",
    "from kudzu.model import Model\n",
    "from kudzu.train import Learner\n",
    "from kudzu.optim import GD\n",
    "from kudzu.data import Data, Sampler,Dataloader\n",
    "\n",
    "from kudzu.callbacks import AccCallback\n",
    "from kudzu.callbacks import ClfCallback\n",
    "\n",
    "from kudzu.loss import MSE\n",
    "\n",
    "from kudzu.layer import Sigmoid,Relu\n",
    "from kudzu.layer import Affine"
   ]
  },
  {
   "cell_type": "markdown",
   "id": "bc01172a",
   "metadata": {
    "papermill": {
     "duration": 0.031023,
     "end_time": "2022-01-27T20:07:04.565949",
     "exception": false,
     "start_time": "2022-01-27T20:07:04.534926",
     "status": "completed"
    },
    "tags": []
   },
   "source": [
    "### Let us create a `Config` class, to store important parameters. \n",
    "This class essentially plays the role of a dictionary."
   ]
  },
  {
   "cell_type": "code",
   "execution_count": 16,
   "id": "978281aa",
   "metadata": {
    "execution": {
     "iopub.execute_input": "2022-01-27T20:07:04.636597Z",
     "iopub.status.busy": "2022-01-27T20:07:04.635980Z",
     "iopub.status.idle": "2022-01-27T20:07:04.650369Z",
     "shell.execute_reply": "2022-01-27T20:07:04.649855Z"
    },
    "papermill": {
     "duration": 0.049715,
     "end_time": "2022-01-27T20:07:04.650508",
     "exception": false,
     "start_time": "2022-01-27T20:07:04.600793",
     "status": "completed"
    },
    "tags": []
   },
   "outputs": [],
   "source": [
    "class Config:\n",
    "    pass\n",
    "config = Config()\n",
    "config.lr = 0.001\n",
    "config.num_epochs = 250\n",
    "config.bs = 50"
   ]
  },
  {
   "cell_type": "markdown",
   "id": "1385fa59",
   "metadata": {
    "papermill": {
     "duration": 0.030679,
     "end_time": "2022-01-27T20:07:04.711894",
     "exception": false,
     "start_time": "2022-01-27T20:07:04.681215",
     "status": "completed"
    },
    "tags": []
   },
   "source": [
    "### Running Models with the Training data\n",
    "Details about the network layers:\n",
    "- A first affine layer has 784 inputs and does 100 affine transforms. These are followed by a Relu\n",
    "- A second affine layer has 100 inputs from the 100 activations of the past layer, and does 100 affine transforms. These are followed by a Relu\n",
    "- A third affine layer has 100 activations and does 2 affine transformations to create an embedding for visualization. There is no non-linearity here.\n",
    "- A final \"logistic regression\" which has an affine transform from 2 inputs to 1 output, which is squeezed through a sigmoid.\n"
   ]
  },
  {
   "cell_type": "code",
   "execution_count": 17,
   "id": "2b9c66db",
   "metadata": {
    "execution": {
     "iopub.execute_input": "2022-01-27T20:07:04.778547Z",
     "iopub.status.busy": "2022-01-27T20:07:04.777938Z",
     "iopub.status.idle": "2022-01-27T20:07:04.800120Z",
     "shell.execute_reply": "2022-01-27T20:07:04.799592Z"
    },
    "papermill": {
     "duration": 0.057594,
     "end_time": "2022-01-27T20:07:04.800253",
     "exception": false,
     "start_time": "2022-01-27T20:07:04.742659",
     "status": "completed"
    },
    "tags": []
   },
   "outputs": [],
   "source": [
    "data = Data(X_train, y_train.reshape(-1,1))\n",
    "sampler = Sampler(data, config.bs, shuffle=True)\n",
    "\n",
    "dl = Dataloader(data, sampler)\n",
    "\n",
    "opt = GD(config.lr)\n",
    "loss = MSE()"
   ]
  },
  {
   "cell_type": "code",
   "execution_count": 18,
   "id": "b275e4c2",
   "metadata": {
    "execution": {
     "iopub.execute_input": "2022-01-27T20:07:04.867177Z",
     "iopub.status.busy": "2022-01-27T20:07:04.866575Z",
     "iopub.status.idle": "2022-01-27T20:07:04.880862Z",
     "shell.execute_reply": "2022-01-27T20:07:04.880366Z"
    },
    "papermill": {
     "duration": 0.049922,
     "end_time": "2022-01-27T20:07:04.880989",
     "exception": false,
     "start_time": "2022-01-27T20:07:04.831067",
     "status": "completed"
    },
    "tags": []
   },
   "outputs": [],
   "source": [
    "training_data_x = X_train\n",
    "testing_data_x = X_test\n",
    "training_data_y = y_train.reshape(-1,1)\n",
    "testing_data_y = y_test.reshape(-1,1)"
   ]
  },
  {
   "cell_type": "code",
   "execution_count": 19,
   "id": "76951160",
   "metadata": {
    "execution": {
     "iopub.execute_input": "2022-01-27T20:07:04.946229Z",
     "iopub.status.busy": "2022-01-27T20:07:04.945618Z",
     "iopub.status.idle": "2022-01-27T20:07:04.965277Z",
     "shell.execute_reply": "2022-01-27T20:07:04.964794Z"
    },
    "papermill": {
     "duration": 0.054731,
     "end_time": "2022-01-27T20:07:04.965410",
     "exception": false,
     "start_time": "2022-01-27T20:07:04.910679",
     "status": "completed"
    },
    "tags": []
   },
   "outputs": [
    {
     "name": "stdout",
     "output_type": "stream",
     "text": [
      "xavier\n",
      "xavier\n",
      "xavier\n",
      "xavier\n",
      "xavier\n"
     ]
    }
   ],
   "source": [
    "layers = [Affine(\"first\", 784, 100), Relu(\"first\"), Affine(\"second\", 100, 100), Relu(\"second\"), Affine(\"third\", 100, 2), Affine(\"last\", 2, 1), Sigmoid(\"last\")]\n",
    "model_nn = Model(layers)\n",
    "model_lr = Model([Affine(\"logits\", 784, 1), Sigmoid(\"sigmoid\")])"
   ]
  },
  {
   "cell_type": "code",
   "execution_count": 20,
   "id": "6eede77a",
   "metadata": {
    "execution": {
     "iopub.execute_input": "2022-01-27T20:07:05.029343Z",
     "iopub.status.busy": "2022-01-27T20:07:05.028747Z",
     "iopub.status.idle": "2022-01-27T20:07:05.042597Z",
     "shell.execute_reply": "2022-01-27T20:07:05.043044Z"
    },
    "papermill": {
     "duration": 0.047855,
     "end_time": "2022-01-27T20:07:05.043208",
     "exception": false,
     "start_time": "2022-01-27T20:07:04.995353",
     "status": "completed"
    },
    "tags": []
   },
   "outputs": [],
   "source": [
    "nn_learner = Learner(loss, model_nn, opt, config.num_epochs)\n",
    "acc_nn = ClfCallback(nn_learner, config.bs, training_data_x , testing_data_x, training_data_y, testing_data_y)\n",
    "nn_learner.set_callbacks([acc_nn])"
   ]
  },
  {
   "cell_type": "code",
   "execution_count": 21,
   "id": "877b6cc7",
   "metadata": {
    "execution": {
     "iopub.execute_input": "2022-01-27T20:07:05.109384Z",
     "iopub.status.busy": "2022-01-27T20:07:05.108791Z",
     "iopub.status.idle": "2022-01-27T20:07:05.129623Z",
     "shell.execute_reply": "2022-01-27T20:07:05.128954Z"
    },
    "papermill": {
     "duration": 0.05633,
     "end_time": "2022-01-27T20:07:05.129786",
     "exception": false,
     "start_time": "2022-01-27T20:07:05.073456",
     "status": "completed"
    },
    "tags": []
   },
   "outputs": [],
   "source": [
    "lr_learner = Learner(loss, model_lr, opt, config.num_epochs)\n",
    "acc_lr = ClfCallback(lr_learner, config.bs, training_data_x , testing_data_x, training_data_y, testing_data_y)\n",
    "lr_learner.set_callbacks([acc_lr])"
   ]
  },
  {
   "cell_type": "code",
   "execution_count": 22,
   "id": "d9b133c3",
   "metadata": {
    "execution": {
     "iopub.execute_input": "2022-01-27T20:07:05.212854Z",
     "iopub.status.busy": "2022-01-27T20:07:05.212235Z",
     "iopub.status.idle": "2022-01-27T20:08:32.373452Z",
     "shell.execute_reply": "2022-01-27T20:08:32.374336Z"
    },
    "papermill": {
     "duration": 87.200271,
     "end_time": "2022-01-27T20:08:32.374504",
     "exception": false,
     "start_time": "2022-01-27T20:07:05.174233",
     "status": "completed"
    },
    "tags": []
   },
   "outputs": [
    {
     "name": "stdout",
     "output_type": "stream",
     "text": [
      "Epoch 0, Loss 0.2293\n",
      "Training Accuracy: 0.7521, Testing Accuracy: 0.7450\n",
      "\n"
     ]
    },
    {
     "name": "stdout",
     "output_type": "stream",
     "text": [
      "Epoch 10, Loss 0.0624\n",
      "Training Accuracy: 0.9397, Testing Accuracy: 0.9536\n",
      "\n"
     ]
    },
    {
     "name": "stdout",
     "output_type": "stream",
     "text": [
      "Epoch 20, Loss 0.044\n",
      "Training Accuracy: 0.9524, Testing Accuracy: 0.9632\n",
      "\n"
     ]
    },
    {
     "name": "stdout",
     "output_type": "stream",
     "text": [
      "Epoch 30, Loss 0.037\n",
      "Training Accuracy: 0.9589, Testing Accuracy: 0.9667\n",
      "\n"
     ]
    },
    {
     "name": "stdout",
     "output_type": "stream",
     "text": [
      "Epoch 40, Loss 0.033\n",
      "Training Accuracy: 0.9610, Testing Accuracy: 0.9703\n",
      "\n"
     ]
    },
    {
     "name": "stdout",
     "output_type": "stream",
     "text": [
      "Epoch 50, Loss 0.0304\n",
      "Training Accuracy: 0.9639, Testing Accuracy: 0.9718\n",
      "\n"
     ]
    },
    {
     "name": "stdout",
     "output_type": "stream",
     "text": [
      "Epoch 60, Loss 0.0285\n",
      "Training Accuracy: 0.9651, Testing Accuracy: 0.9713\n",
      "\n"
     ]
    },
    {
     "name": "stdout",
     "output_type": "stream",
     "text": [
      "Epoch 70, Loss 0.027\n",
      "Training Accuracy: 0.9673, Testing Accuracy: 0.9703\n",
      "\n"
     ]
    },
    {
     "name": "stdout",
     "output_type": "stream",
     "text": [
      "Epoch 80, Loss 0.0258\n",
      "Training Accuracy: 0.9688, Testing Accuracy: 0.9728\n",
      "\n"
     ]
    },
    {
     "name": "stdout",
     "output_type": "stream",
     "text": [
      "Epoch 90, Loss 0.0247\n",
      "Training Accuracy: 0.9702, Testing Accuracy: 0.9733\n",
      "\n"
     ]
    },
    {
     "name": "stdout",
     "output_type": "stream",
     "text": [
      "Epoch 100, Loss 0.0238\n",
      "Training Accuracy: 0.9720, Testing Accuracy: 0.9733\n",
      "\n"
     ]
    },
    {
     "name": "stdout",
     "output_type": "stream",
     "text": [
      "Epoch 110, Loss 0.023\n",
      "Training Accuracy: 0.9734, Testing Accuracy: 0.9728\n",
      "\n"
     ]
    },
    {
     "name": "stdout",
     "output_type": "stream",
     "text": [
      "Epoch 120, Loss 0.0223\n",
      "Training Accuracy: 0.9743, Testing Accuracy: 0.9733\n",
      "\n"
     ]
    },
    {
     "name": "stdout",
     "output_type": "stream",
     "text": [
      "Epoch 130, Loss 0.0217\n",
      "Training Accuracy: 0.9755, Testing Accuracy: 0.9738\n",
      "\n"
     ]
    },
    {
     "name": "stdout",
     "output_type": "stream",
     "text": [
      "Epoch 140, Loss 0.0211\n",
      "Training Accuracy: 0.9764, Testing Accuracy: 0.9748\n",
      "\n"
     ]
    },
    {
     "name": "stdout",
     "output_type": "stream",
     "text": [
      "Epoch 150, Loss 0.0205\n",
      "Training Accuracy: 0.9775, Testing Accuracy: 0.9753\n",
      "\n"
     ]
    },
    {
     "name": "stdout",
     "output_type": "stream",
     "text": [
      "Epoch 160, Loss 0.02\n",
      "Training Accuracy: 0.9779, Testing Accuracy: 0.9753\n",
      "\n"
     ]
    },
    {
     "name": "stdout",
     "output_type": "stream",
     "text": [
      "Epoch 170, Loss 0.0195\n",
      "Training Accuracy: 0.9788, Testing Accuracy: 0.9753\n",
      "\n"
     ]
    },
    {
     "name": "stdout",
     "output_type": "stream",
     "text": [
      "Epoch 180, Loss 0.019\n",
      "Training Accuracy: 0.9792, Testing Accuracy: 0.9758\n",
      "\n"
     ]
    },
    {
     "name": "stdout",
     "output_type": "stream",
     "text": [
      "Epoch 190, Loss 0.0185\n",
      "Training Accuracy: 0.9798, Testing Accuracy: 0.9758\n",
      "\n"
     ]
    },
    {
     "name": "stdout",
     "output_type": "stream",
     "text": [
      "Epoch 200, Loss 0.0181\n",
      "Training Accuracy: 0.9808, Testing Accuracy: 0.9763\n",
      "\n"
     ]
    },
    {
     "name": "stdout",
     "output_type": "stream",
     "text": [
      "Epoch 210, Loss 0.0177\n",
      "Training Accuracy: 0.9816, Testing Accuracy: 0.9768\n",
      "\n"
     ]
    },
    {
     "name": "stdout",
     "output_type": "stream",
     "text": [
      "Epoch 220, Loss 0.0173\n",
      "Training Accuracy: 0.9820, Testing Accuracy: 0.9768\n",
      "\n"
     ]
    },
    {
     "name": "stdout",
     "output_type": "stream",
     "text": [
      "Epoch 230, Loss 0.0169\n",
      "Training Accuracy: 0.9826, Testing Accuracy: 0.9788\n",
      "\n"
     ]
    },
    {
     "name": "stdout",
     "output_type": "stream",
     "text": [
      "Epoch 240, Loss 0.0165\n",
      "Training Accuracy: 0.9826, Testing Accuracy: 0.9793\n",
      "\n"
     ]
    },
    {
     "data": {
      "text/plain": [
       "0.004271938221031414"
      ]
     },
     "execution_count": 22,
     "metadata": {},
     "output_type": "execute_result"
    }
   ],
   "source": [
    "nn_learner.train_loop(dl)"
   ]
  },
  {
   "cell_type": "code",
   "execution_count": 23,
   "id": "e0163366",
   "metadata": {
    "execution": {
     "iopub.execute_input": "2022-01-27T20:08:32.469122Z",
     "iopub.status.busy": "2022-01-27T20:08:32.468504Z",
     "iopub.status.idle": "2022-01-27T20:08:48.194428Z",
     "shell.execute_reply": "2022-01-27T20:08:48.195287Z"
    },
    "papermill": {
     "duration": 15.781695,
     "end_time": "2022-01-27T20:08:48.195478",
     "exception": false,
     "start_time": "2022-01-27T20:08:32.413783",
     "status": "completed"
    },
    "tags": []
   },
   "outputs": [
    {
     "name": "stdout",
     "output_type": "stream",
     "text": [
      "Epoch 0, Loss 0.2174\n",
      "Training Accuracy: 0.7586, Testing Accuracy: 0.7621\n",
      "\n"
     ]
    },
    {
     "name": "stdout",
     "output_type": "stream",
     "text": [
      "Epoch 10, Loss 0.1013\n",
      "Training Accuracy: 0.9100, Testing Accuracy: 0.9163\n",
      "\n"
     ]
    },
    {
     "name": "stdout",
     "output_type": "stream",
     "text": [
      "Epoch 20, Loss 0.0784\n",
      "Training Accuracy: 0.9291, Testing Accuracy: 0.9400\n",
      "\n"
     ]
    },
    {
     "name": "stdout",
     "output_type": "stream",
     "text": [
      "Epoch 30, Loss 0.0677\n",
      "Training Accuracy: 0.9364, Testing Accuracy: 0.9476\n",
      "\n"
     ]
    },
    {
     "name": "stdout",
     "output_type": "stream",
     "text": [
      "Epoch 40, Loss 0.0612\n",
      "Training Accuracy: 0.9417, Testing Accuracy: 0.9536\n",
      "\n"
     ]
    },
    {
     "name": "stdout",
     "output_type": "stream",
     "text": [
      "Epoch 50, Loss 0.0568\n",
      "Training Accuracy: 0.9448, Testing Accuracy: 0.9587\n",
      "\n"
     ]
    },
    {
     "name": "stdout",
     "output_type": "stream",
     "text": [
      "Epoch 60, Loss 0.0536\n",
      "Training Accuracy: 0.9470, Testing Accuracy: 0.9612\n",
      "\n"
     ]
    },
    {
     "name": "stdout",
     "output_type": "stream",
     "text": [
      "Epoch 70, Loss 0.0511\n",
      "Training Accuracy: 0.9485, Testing Accuracy: 0.9617\n",
      "\n"
     ]
    },
    {
     "name": "stdout",
     "output_type": "stream",
     "text": [
      "Epoch 80, Loss 0.0491\n",
      "Training Accuracy: 0.9501, Testing Accuracy: 0.9622\n",
      "\n"
     ]
    },
    {
     "name": "stdout",
     "output_type": "stream",
     "text": [
      "Epoch 90, Loss 0.0474\n",
      "Training Accuracy: 0.9517, Testing Accuracy: 0.9617\n",
      "\n"
     ]
    },
    {
     "name": "stdout",
     "output_type": "stream",
     "text": [
      "Epoch 100, Loss 0.046\n",
      "Training Accuracy: 0.9527, Testing Accuracy: 0.9622\n",
      "\n"
     ]
    },
    {
     "name": "stdout",
     "output_type": "stream",
     "text": [
      "Epoch 110, Loss 0.0448\n",
      "Training Accuracy: 0.9537, Testing Accuracy: 0.9627\n",
      "\n"
     ]
    },
    {
     "name": "stdout",
     "output_type": "stream",
     "text": [
      "Epoch 120, Loss 0.0437\n",
      "Training Accuracy: 0.9546, Testing Accuracy: 0.9617\n",
      "\n"
     ]
    },
    {
     "name": "stdout",
     "output_type": "stream",
     "text": [
      "Epoch 130, Loss 0.0428\n",
      "Training Accuracy: 0.9547, Testing Accuracy: 0.9617\n",
      "\n"
     ]
    },
    {
     "name": "stdout",
     "output_type": "stream",
     "text": [
      "Epoch 140, Loss 0.042\n",
      "Training Accuracy: 0.9558, Testing Accuracy: 0.9627\n",
      "\n"
     ]
    },
    {
     "name": "stdout",
     "output_type": "stream",
     "text": [
      "Epoch 150, Loss 0.0413\n",
      "Training Accuracy: 0.9562, Testing Accuracy: 0.9637\n",
      "\n"
     ]
    },
    {
     "name": "stdout",
     "output_type": "stream",
     "text": [
      "Epoch 160, Loss 0.0406\n",
      "Training Accuracy: 0.9567, Testing Accuracy: 0.9637\n",
      "\n"
     ]
    },
    {
     "name": "stdout",
     "output_type": "stream",
     "text": [
      "Epoch 170, Loss 0.04\n",
      "Training Accuracy: 0.9574, Testing Accuracy: 0.9642\n",
      "\n"
     ]
    },
    {
     "name": "stdout",
     "output_type": "stream",
     "text": [
      "Epoch 180, Loss 0.0394\n",
      "Training Accuracy: 0.9581, Testing Accuracy: 0.9647\n",
      "\n"
     ]
    },
    {
     "name": "stdout",
     "output_type": "stream",
     "text": [
      "Epoch 190, Loss 0.0389\n",
      "Training Accuracy: 0.9586, Testing Accuracy: 0.9647\n",
      "\n"
     ]
    },
    {
     "name": "stdout",
     "output_type": "stream",
     "text": [
      "Epoch 200, Loss 0.0385\n",
      "Training Accuracy: 0.9593, Testing Accuracy: 0.9647\n",
      "\n"
     ]
    },
    {
     "name": "stdout",
     "output_type": "stream",
     "text": [
      "Epoch 210, Loss 0.038\n",
      "Training Accuracy: 0.9599, Testing Accuracy: 0.9657\n",
      "\n"
     ]
    },
    {
     "name": "stdout",
     "output_type": "stream",
     "text": [
      "Epoch 220, Loss 0.0376\n",
      "Training Accuracy: 0.9604, Testing Accuracy: 0.9657\n",
      "\n"
     ]
    },
    {
     "name": "stdout",
     "output_type": "stream",
     "text": [
      "Epoch 230, Loss 0.0372\n",
      "Training Accuracy: 0.9604, Testing Accuracy: 0.9662\n",
      "\n"
     ]
    },
    {
     "name": "stdout",
     "output_type": "stream",
     "text": [
      "Epoch 240, Loss 0.0369\n",
      "Training Accuracy: 0.9607, Testing Accuracy: 0.9662\n",
      "\n"
     ]
    },
    {
     "data": {
      "text/plain": [
       "0.07645842251240678"
      ]
     },
     "execution_count": 23,
     "metadata": {},
     "output_type": "execute_result"
    }
   ],
   "source": [
    "lr_learner.train_loop(dl)"
   ]
  },
  {
   "cell_type": "code",
   "execution_count": 24,
   "id": "ca410940",
   "metadata": {
    "execution": {
     "iopub.execute_input": "2022-01-27T20:08:48.296541Z",
     "iopub.status.busy": "2022-01-27T20:08:48.295957Z",
     "iopub.status.idle": "2022-01-27T20:08:48.551617Z",
     "shell.execute_reply": "2022-01-27T20:08:48.550652Z"
    },
    "papermill": {
     "duration": 0.309471,
     "end_time": "2022-01-27T20:08:48.551759",
     "exception": false,
     "start_time": "2022-01-27T20:08:48.242288",
     "status": "completed"
    },
    "tags": []
   },
   "outputs": [
    {
     "data": {
      "text/plain": [
       "<matplotlib.legend.Legend at 0x7f81e9997400>"
      ]
     },
     "execution_count": 24,
     "metadata": {},
     "output_type": "execute_result"
    },
    {
     "data": {
      "image/png": "[encoded data removed]",
      "text/plain": [
       "<Figure size 1080x720 with 1 Axes>"
      ]
     },
     "metadata": {
      "needs_background": "light"
     },
     "output_type": "display_data"
    }
   ],
   "source": [
    "#comparing the results of NN and LR\n",
    "plt.figure(figsize=(15,10))\n",
    "\n",
    "# Neural Network plots\n",
    "plt.plot(acc_nn.accuracies, 'r-', label = \"Training Accuracies - NN\")\n",
    "plt.plot(acc_nn.test_accuracies, 'g-', label = \"Testing Accuracies - NN\")\n",
    "\n",
    "# Logistic Regression plots\n",
    "plt.plot(acc_lr.accuracies, 'k-', label = \"Training Accuracies - LR\")\n",
    "plt.plot(acc_lr.test_accuracies, 'b-', label = \"Testing Accuracies - LR\")\n",
    "plt.legend()"
   ]
  },
  {
   "cell_type": "markdown",
   "id": "80dfb35c",
   "metadata": {
    "papermill": {
     "duration": 0.046623,
     "end_time": "2022-01-27T20:08:48.652508",
     "exception": false,
     "start_time": "2022-01-27T20:08:48.605885",
     "status": "completed"
    },
    "tags": []
   },
   "source": [
    "#### Plotting the outputs of this layer of the NN.\n"
   ]
  },
  {
   "cell_type": "code",
   "execution_count": 25,
   "id": "45eb2ff5",
   "metadata": {
    "execution": {
     "iopub.execute_input": "2022-01-27T20:08:48.753069Z",
     "iopub.status.busy": "2022-01-27T20:08:48.752420Z",
     "iopub.status.idle": "2022-01-27T20:08:48.776114Z",
     "shell.execute_reply": "2022-01-27T20:08:48.775552Z"
    },
    "papermill": {
     "duration": 0.075927,
     "end_time": "2022-01-27T20:08:48.776252",
     "exception": false,
     "start_time": "2022-01-27T20:08:48.700325",
     "status": "completed"
    },
    "tags": []
   },
   "outputs": [],
   "source": [
    "new_model = Model(layers[:-2])\n",
    "testing_plot = new_model(testing_data_x)"
   ]
  },
  {
   "cell_type": "code",
   "execution_count": 26,
   "id": "4c0a5485",
   "metadata": {
    "execution": {
     "iopub.execute_input": "2022-01-27T20:08:48.878611Z",
     "iopub.status.busy": "2022-01-27T20:08:48.877196Z",
     "iopub.status.idle": "2022-01-27T20:08:49.117179Z",
     "shell.execute_reply": "2022-01-27T20:08:49.116711Z"
    },
    "papermill": {
     "duration": 0.292799,
     "end_time": "2022-01-27T20:08:49.117312",
     "exception": false,
     "start_time": "2022-01-27T20:08:48.824513",
     "status": "completed"
    },
    "tags": []
   },
   "outputs": [
    {
     "data": {
      "text/plain": [
       "Text(0.5, 1.0, 'Outputs')"
      ]
     },
     "execution_count": 26,
     "metadata": {},
     "output_type": "execute_result"
    },
    {
     "data": {
      "image/png": "[encoded data removed]",
      "text/plain": [
       "<Figure size 576x504 with 1 Axes>"
      ]
     },
     "metadata": {
      "needs_background": "light"
     },
     "output_type": "display_data"
    }
   ],
   "source": [
    "# Plotting the scatter plot of points and color coding by class\n",
    "plt.figure(figsize=(8,7))\n",
    "plt.scatter(testing_plot[:,0], testing_plot[:,1], alpha = 0.1, c = y_test.ravel());\n",
    "plt.title('Outputs')"
   ]
  },
  {
   "cell_type": "markdown",
   "id": "a74fcf8f",
   "metadata": {
    "papermill": {
     "duration": 0.047821,
     "end_time": "2022-01-27T20:08:49.214072",
     "exception": false,
     "start_time": "2022-01-27T20:08:49.166251",
     "status": "completed"
    },
    "tags": []
   },
   "source": [
    "Probability contours"
   ]
  },
  {
   "cell_type": "code",
   "execution_count": 27,
   "id": "d0afc8e3",
   "metadata": {
    "execution": {
     "iopub.execute_input": "2022-01-27T20:08:49.316171Z",
     "iopub.status.busy": "2022-01-27T20:08:49.315593Z",
     "iopub.status.idle": "2022-01-27T20:08:49.328609Z",
     "shell.execute_reply": "2022-01-27T20:08:49.328135Z"
    },
    "papermill": {
     "duration": 0.066453,
     "end_time": "2022-01-27T20:08:49.328739",
     "exception": false,
     "start_time": "2022-01-27T20:08:49.262286",
     "status": "completed"
    },
    "tags": []
   },
   "outputs": [],
   "source": [
    "model_prob = Model(layers[-2:]) "
   ]
  },
  {
   "cell_type": "code",
   "execution_count": 28,
   "id": "9b96e238",
   "metadata": {
    "execution": {
     "iopub.execute_input": "2022-01-27T20:08:49.459183Z",
     "iopub.status.busy": "2022-01-27T20:08:49.457992Z",
     "iopub.status.idle": "2022-01-27T20:08:49.473394Z",
     "shell.execute_reply": "2022-01-27T20:08:49.473873Z"
    },
    "papermill": {
     "duration": 0.069104,
     "end_time": "2022-01-27T20:08:49.474014",
     "exception": false,
     "start_time": "2022-01-27T20:08:49.404910",
     "status": "completed"
    },
    "tags": []
   },
   "outputs": [],
   "source": [
    "#creating the x and y ranges according to the above generated plot.\n",
    "x_range = np.linspace(-4, 1, 100) \n",
    "y_range = np.linspace(-6, 6, 100) \n",
    "x_grid, y_grid = np.meshgrid(x_range, y_range) # x_grid and y_grig are of size 100 X 100\n",
    "\n",
    "# converting x_grid and y_grid to continuous arrays\n",
    "x_gridflat = np.ravel(x_grid)\n",
    "y_gridflat = np.ravel(y_grid)\n",
    "\n",
    "# The last layer of the current model takes two columns as input. Hence transpose of np.vstack() is required.\n",
    "X = np.vstack((x_gridflat, y_gridflat)).T\n",
    "\n",
    "prob_contour = model_prob(X).reshape(100,100) "
   ]
  },
  {
   "cell_type": "code",
   "execution_count": 29,
   "id": "da72499a",
   "metadata": {
    "execution": {
     "iopub.execute_input": "2022-01-27T20:08:49.577887Z",
     "iopub.status.busy": "2022-01-27T20:08:49.577296Z",
     "iopub.status.idle": "2022-01-27T20:08:49.863202Z",
     "shell.execute_reply": "2022-01-27T20:08:49.862275Z"
    },
    "papermill": {
     "duration": 0.34035,
     "end_time": "2022-01-27T20:08:49.863344",
     "exception": false,
     "start_time": "2022-01-27T20:08:49.522994",
     "status": "completed"
    },
    "tags": []
   },
   "outputs": [
    {
     "data": {
      "image/png": "[encoded data removed]",
      "text/plain": [
       "<Figure size 720x648 with 1 Axes>"
      ]
     },
     "metadata": {
      "needs_background": "light"
     },
     "output_type": "display_data"
    }
   ],
   "source": [
    "plt.figure(figsize=(10,9))\n",
    "plt.scatter(testing_plot[:,0], testing_plot[:,1], alpha = 0.1, c = y_test.ravel())\n",
    "contours = plt.contour(x_grid,y_grid,prob_contour)\n",
    "plt.title('Probability Contours')\n",
    "plt.clabel(contours, inline = True );"
   ]
  },
  {
   "cell_type": "code",
   "execution_count": null,
   "id": "e81b4ac7",
   "metadata": {
    "papermill": {
     "duration": 0.052,
     "end_time": "2022-01-27T20:08:49.966738",
     "exception": false,
     "start_time": "2022-01-27T20:08:49.914738",
     "status": "completed"
    },
    "tags": []
   },
   "outputs": [],
   "source": []
  }
 ],
 "metadata": {
  "kernelspec": {
   "display_name": "Python 3",
   "language": "python",
   "name": "python3"
  },
  "language_info": {
   "codemirror_mode": {
    "name": "ipython",
    "version": 3
   },
   "file_extension": ".py",
   "mimetype": "text/x-python",
   "name": "python",
   "nbconvert_exporter": "python",
   "pygments_lexer": "ipython3",
   "version": "3.6.15"
  },
  "papermill": {
   "default_parameters": {},
   "duration": 113.033143,
   "end_time": "2022-01-27T20:08:50.439516",
   "environment_variables": {},
   "exception": null,
   "input_path": "2020-08-11-part2.ipynb",
   "output_path": "2020-08-11-part2.ipynb",
   "parameters": {},
   "start_time": "2022-01-27T20:06:57.406373",
   "version": "2.3.3"
  }
 },
 "nbformat": 4,
 "nbformat_minor": 5
}