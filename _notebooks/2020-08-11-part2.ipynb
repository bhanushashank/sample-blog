{
 "cells": [
  {
   "cell_type": "markdown",
   "id": "98380cd3",
   "metadata": {
    "papermill": {
     "duration": 0.034193,
     "end_time": "2021-09-20T00:21:05.146254",
     "exception": false,
     "start_time": "2021-09-20T00:21:05.112061",
     "status": "completed"
    },
    "tags": []
   },
   "source": [
    "# Distinguish Your Own Digits (DYOD)"
   ]
  },
  {
   "cell_type": "markdown",
   "id": "ef31240d",
   "metadata": {
    "papermill": {
     "duration": 0.02535,
     "end_time": "2021-09-20T00:21:05.197776",
     "exception": false,
     "start_time": "2021-09-20T00:21:05.172426",
     "status": "completed"
    },
    "tags": []
   },
   "source": [
    "You are going to write a classifier that distinguishes between the number 3 and number 8."
   ]
  },
  {
   "cell_type": "code",
   "execution_count": 1,
   "id": "b15c8646",
   "metadata": {
    "execution": {
     "iopub.execute_input": "2021-09-20T00:21:05.263179Z",
     "iopub.status.busy": "2021-09-20T00:21:05.262623Z",
     "iopub.status.idle": "2021-09-20T00:21:05.273686Z",
     "shell.execute_reply": "2021-09-20T00:21:05.273112Z"
    },
    "papermill": {
     "duration": 0.050907,
     "end_time": "2021-09-20T00:21:05.273829",
     "exception": false,
     "start_time": "2021-09-20T00:21:05.222922",
     "status": "completed"
    },
    "tags": []
   },
   "outputs": [],
   "source": [
    "%load_ext autoreload\n",
    "%autoreload 2"
   ]
  },
  {
   "cell_type": "code",
   "execution_count": 2,
   "id": "22ef38dc",
   "metadata": {
    "execution": {
     "iopub.execute_input": "2021-09-20T00:21:05.328329Z",
     "iopub.status.busy": "2021-09-20T00:21:05.327750Z",
     "iopub.status.idle": "2021-09-20T00:21:05.862866Z",
     "shell.execute_reply": "2021-09-20T00:21:05.862356Z"
    },
    "papermill": {
     "duration": 0.564703,
     "end_time": "2021-09-20T00:21:05.862977",
     "exception": false,
     "start_time": "2021-09-20T00:21:05.298274",
     "status": "completed"
    },
    "tags": []
   },
   "outputs": [],
   "source": [
    "%matplotlib inline\n",
    "import numpy as np\n",
    "import matplotlib.pyplot as plt\n",
    "import pandas as pd"
   ]
  },
  {
   "cell_type": "markdown",
   "id": "ba036198",
   "metadata": {
    "papermill": {
     "duration": 0.026401,
     "end_time": "2021-09-20T00:21:05.915369",
     "exception": false,
     "start_time": "2021-09-20T00:21:05.888968",
     "status": "completed"
    },
    "tags": []
   },
   "source": [
    "From the command line run `pip install mnist`. This is a library that will help you bring down the mnist dataset. If you run this from a notebook, you need to put  `!pip install mnist` in a cell by itself."
   ]
  },
  {
   "cell_type": "code",
   "execution_count": 3,
   "id": "bb6ad8a1",
   "metadata": {
    "execution": {
     "iopub.execute_input": "2021-09-20T00:21:05.979740Z",
     "iopub.status.busy": "2021-09-20T00:21:05.978298Z",
     "iopub.status.idle": "2021-09-20T00:21:07.850131Z",
     "shell.execute_reply": "2021-09-20T00:21:07.849214Z"
    },
    "papermill": {
     "duration": 1.909029,
     "end_time": "2021-09-20T00:21:07.850344",
     "exception": false,
     "start_time": "2021-09-20T00:21:05.941315",
     "status": "completed"
    },
    "tags": []
   },
   "outputs": [
    {
     "name": "stdout",
     "output_type": "stream",
     "text": [
      "Collecting mnist\r\n"
     ]
    },
    {
     "name": "stdout",
     "output_type": "stream",
     "text": [
      "  Downloading mnist-0.2.2-py2.py3-none-any.whl (3.5 kB)\r\n",
      "Requirement already satisfied: numpy in /opt/hostedtoolcache/Python/3.6.15/x64/lib/python3.6/site-packages (from mnist) (1.19.5)\r\n"
     ]
    },
    {
     "name": "stdout",
     "output_type": "stream",
     "text": [
      "Installing collected packages: mnist\r\n"
     ]
    },
    {
     "name": "stdout",
     "output_type": "stream",
     "text": [
      "Successfully installed mnist-0.2.2\r\n"
     ]
    }
   ],
   "source": [
    "!pip install mnist"
   ]
  },
  {
   "cell_type": "markdown",
   "id": "69df9c9a",
   "metadata": {
    "papermill": {
     "duration": 0.025,
     "end_time": "2021-09-20T00:21:07.903822",
     "exception": false,
     "start_time": "2021-09-20T00:21:07.878822",
     "status": "completed"
    },
    "tags": []
   },
   "source": [
    "## Preparing the Data"
   ]
  },
  {
   "cell_type": "code",
   "execution_count": 4,
   "id": "7f69d806",
   "metadata": {
    "execution": {
     "iopub.execute_input": "2021-09-20T00:21:07.958602Z",
     "iopub.status.busy": "2021-09-20T00:21:07.958056Z",
     "iopub.status.idle": "2021-09-20T00:21:07.974087Z",
     "shell.execute_reply": "2021-09-20T00:21:07.973083Z"
    },
    "papermill": {
     "duration": 0.045501,
     "end_time": "2021-09-20T00:21:07.974202",
     "exception": false,
     "start_time": "2021-09-20T00:21:07.928701",
     "status": "completed"
    },
    "tags": []
   },
   "outputs": [],
   "source": [
    "import mnist"
   ]
  },
  {
   "cell_type": "code",
   "execution_count": 5,
   "id": "a411e44f",
   "metadata": {
    "execution": {
     "iopub.execute_input": "2021-09-20T00:21:08.029735Z",
     "iopub.status.busy": "2021-09-20T00:21:08.029162Z",
     "iopub.status.idle": "2021-09-20T00:21:08.654734Z",
     "shell.execute_reply": "2021-09-20T00:21:08.653851Z"
    },
    "papermill": {
     "duration": 0.653972,
     "end_time": "2021-09-20T00:21:08.654948",
     "exception": false,
     "start_time": "2021-09-20T00:21:08.000976",
     "status": "completed"
    },
    "tags": []
   },
   "outputs": [],
   "source": [
    "train_images = mnist.train_images()\n",
    "train_labels = mnist.train_labels()"
   ]
  },
  {
   "cell_type": "code",
   "execution_count": 6,
   "id": "dceab3a5",
   "metadata": {
    "execution": {
     "iopub.execute_input": "2021-09-20T00:21:08.715155Z",
     "iopub.status.busy": "2021-09-20T00:21:08.714605Z",
     "iopub.status.idle": "2021-09-20T00:21:08.728912Z",
     "shell.execute_reply": "2021-09-20T00:21:08.728452Z"
    },
    "papermill": {
     "duration": 0.045257,
     "end_time": "2021-09-20T00:21:08.729020",
     "exception": false,
     "start_time": "2021-09-20T00:21:08.683763",
     "status": "completed"
    },
    "tags": []
   },
   "outputs": [
    {
     "data": {
      "text/plain": [
       "((60000, 28, 28), (60000,))"
      ]
     },
     "execution_count": 6,
     "metadata": {},
     "output_type": "execute_result"
    }
   ],
   "source": [
    "train_images.shape, train_labels.shape"
   ]
  },
  {
   "cell_type": "code",
   "execution_count": 7,
   "id": "f50dc2bb",
   "metadata": {
    "execution": {
     "iopub.execute_input": "2021-09-20T00:21:08.783756Z",
     "iopub.status.busy": "2021-09-20T00:21:08.783174Z",
     "iopub.status.idle": "2021-09-20T00:21:08.937317Z",
     "shell.execute_reply": "2021-09-20T00:21:08.936689Z"
    },
    "papermill": {
     "duration": 0.1823,
     "end_time": "2021-09-20T00:21:08.937487",
     "exception": false,
     "start_time": "2021-09-20T00:21:08.755187",
     "status": "completed"
    },
    "tags": []
   },
   "outputs": [],
   "source": [
    "test_images = mnist.test_images()\n",
    "test_labels = mnist.test_labels()"
   ]
  },
  {
   "cell_type": "code",
   "execution_count": 8,
   "id": "fc38cf1b",
   "metadata": {
    "execution": {
     "iopub.execute_input": "2021-09-20T00:21:08.996512Z",
     "iopub.status.busy": "2021-09-20T00:21:08.995925Z",
     "iopub.status.idle": "2021-09-20T00:21:09.009155Z",
     "shell.execute_reply": "2021-09-20T00:21:09.009766Z"
    },
    "papermill": {
     "duration": 0.04335,
     "end_time": "2021-09-20T00:21:09.009895",
     "exception": false,
     "start_time": "2021-09-20T00:21:08.966545",
     "status": "completed"
    },
    "tags": []
   },
   "outputs": [
    {
     "data": {
      "text/plain": [
       "((10000, 28, 28), (10000,))"
      ]
     },
     "execution_count": 8,
     "metadata": {},
     "output_type": "execute_result"
    }
   ],
   "source": [
    "test_images.shape, test_labels.shape"
   ]
  },
  {
   "cell_type": "code",
   "execution_count": 9,
   "id": "f9ed8fe0",
   "metadata": {
    "execution": {
     "iopub.execute_input": "2021-09-20T00:21:09.066699Z",
     "iopub.status.busy": "2021-09-20T00:21:09.066125Z",
     "iopub.status.idle": "2021-09-20T00:21:09.215669Z",
     "shell.execute_reply": "2021-09-20T00:21:09.216506Z"
    },
    "papermill": {
     "duration": 0.179816,
     "end_time": "2021-09-20T00:21:09.216733",
     "exception": false,
     "start_time": "2021-09-20T00:21:09.036917",
     "status": "completed"
    },
    "tags": []
   },
   "outputs": [
    {
     "name": "stdout",
     "output_type": "stream",
     "text": [
      "2\n"
     ]
    },
    {
     "data": {
      "text/plain": [
       "<matplotlib.image.AxesImage at 0x7ff330914828>"
      ]
     },
     "execution_count": 9,
     "metadata": {},
     "output_type": "execute_result"
    },
    {
     "data": {
      "image/png": "[encoded data removed]",
      "text/plain": [
       "<Figure size 432x288 with 1 Axes>"
      ]
     },
     "metadata": {
      "needs_background": "light"
     },
     "output_type": "display_data"
    }
   ],
   "source": [
    "image_index = 7776 # You may select anything up to 60,000\n",
    "print(train_labels[image_index]) \n",
    "plt.imshow(train_images[image_index], cmap='Greys')"
   ]
  },
  {
   "cell_type": "markdown",
   "id": "a8d2388d",
   "metadata": {
    "papermill": {
     "duration": 0.030815,
     "end_time": "2021-09-20T00:21:09.278066",
     "exception": false,
     "start_time": "2021-09-20T00:21:09.247251",
     "status": "completed"
    },
    "tags": []
   },
   "source": [
    "## Filter data to get 3 and 8 out"
   ]
  },
  {
   "cell_type": "code",
   "execution_count": 10,
   "id": "776f7fc7",
   "metadata": {
    "execution": {
     "iopub.execute_input": "2021-09-20T00:21:09.342854Z",
     "iopub.status.busy": "2021-09-20T00:21:09.342270Z",
     "iopub.status.idle": "2021-09-20T00:21:09.362347Z",
     "shell.execute_reply": "2021-09-20T00:21:09.361758Z"
    },
    "papermill": {
     "duration": 0.055112,
     "end_time": "2021-09-20T00:21:09.362466",
     "exception": false,
     "start_time": "2021-09-20T00:21:09.307354",
     "status": "completed"
    },
    "tags": []
   },
   "outputs": [],
   "source": [
    "train_filter = np.where((train_labels == 3 ) | (train_labels == 8))\n",
    "test_filter = np.where((test_labels == 3) | (test_labels == 8))\n",
    "X_train, y_train = train_images[train_filter], train_labels[train_filter]\n",
    "X_test, y_test = test_images[test_filter], test_labels[test_filter]"
   ]
  },
  {
   "cell_type": "markdown",
   "id": "948f0b7e",
   "metadata": {
    "papermill": {
     "duration": 0.033919,
     "end_time": "2021-09-20T00:21:09.424898",
     "exception": false,
     "start_time": "2021-09-20T00:21:09.390979",
     "status": "completed"
    },
    "tags": []
   },
   "source": [
    "We normalize the pizel values in the 0 to 1 range"
   ]
  },
  {
   "cell_type": "code",
   "execution_count": 11,
   "id": "ee4c2166",
   "metadata": {
    "execution": {
     "iopub.execute_input": "2021-09-20T00:21:09.485961Z",
     "iopub.status.busy": "2021-09-20T00:21:09.485461Z",
     "iopub.status.idle": "2021-09-20T00:21:09.536199Z",
     "shell.execute_reply": "2021-09-20T00:21:09.535682Z"
    },
    "papermill": {
     "duration": 0.083085,
     "end_time": "2021-09-20T00:21:09.536337",
     "exception": false,
     "start_time": "2021-09-20T00:21:09.453252",
     "status": "completed"
    },
    "tags": []
   },
   "outputs": [],
   "source": [
    "X_train = X_train/255.\n",
    "X_test = X_test/255."
   ]
  },
  {
   "cell_type": "markdown",
   "id": "ddcf4fab",
   "metadata": {
    "papermill": {
     "duration": 0.029056,
     "end_time": "2021-09-20T00:21:09.598963",
     "exception": false,
     "start_time": "2021-09-20T00:21:09.569907",
     "status": "completed"
    },
    "tags": []
   },
   "source": [
    "And setup the labels as 1 (when the digit is 3) and 0 (when the digit is 8)"
   ]
  },
  {
   "cell_type": "code",
   "execution_count": 12,
   "id": "7dc908f2",
   "metadata": {
    "execution": {
     "iopub.execute_input": "2021-09-20T00:21:09.663960Z",
     "iopub.status.busy": "2021-09-20T00:21:09.663374Z",
     "iopub.status.idle": "2021-09-20T00:21:09.676349Z",
     "shell.execute_reply": "2021-09-20T00:21:09.675845Z"
    },
    "papermill": {
     "duration": 0.048566,
     "end_time": "2021-09-20T00:21:09.676468",
     "exception": false,
     "start_time": "2021-09-20T00:21:09.627902",
     "status": "completed"
    },
    "tags": []
   },
   "outputs": [],
   "source": [
    "y_train = 1*(y_train==3)\n",
    "y_test = 1*(y_test==3)"
   ]
  },
  {
   "cell_type": "code",
   "execution_count": 13,
   "id": "01e4e969",
   "metadata": {
    "execution": {
     "iopub.execute_input": "2021-09-20T00:21:09.737737Z",
     "iopub.status.busy": "2021-09-20T00:21:09.736934Z",
     "iopub.status.idle": "2021-09-20T00:21:09.749819Z",
     "shell.execute_reply": "2021-09-20T00:21:09.749342Z"
    },
    "papermill": {
     "duration": 0.044999,
     "end_time": "2021-09-20T00:21:09.749933",
     "exception": false,
     "start_time": "2021-09-20T00:21:09.704934",
     "status": "completed"
    },
    "tags": []
   },
   "outputs": [
    {
     "data": {
      "text/plain": [
       "((11982, 28, 28), (1984, 28, 28))"
      ]
     },
     "execution_count": 13,
     "metadata": {},
     "output_type": "execute_result"
    }
   ],
   "source": [
    "X_train.shape, X_test.shape"
   ]
  },
  {
   "cell_type": "markdown",
   "id": "5ccf3f85",
   "metadata": {
    "papermill": {
     "duration": 0.027603,
     "end_time": "2021-09-20T00:21:09.806412",
     "exception": false,
     "start_time": "2021-09-20T00:21:09.778809",
     "status": "completed"
    },
    "tags": []
   },
   "source": [
    "We reshape the data to flatten the image pixels into a set of features or co-variates:"
   ]
  },
  {
   "cell_type": "code",
   "execution_count": 14,
   "id": "5286a4a3",
   "metadata": {
    "execution": {
     "iopub.execute_input": "2021-09-20T00:21:09.875205Z",
     "iopub.status.busy": "2021-09-20T00:21:09.874619Z",
     "iopub.status.idle": "2021-09-20T00:21:09.888002Z",
     "shell.execute_reply": "2021-09-20T00:21:09.887536Z"
    },
    "papermill": {
     "duration": 0.051527,
     "end_time": "2021-09-20T00:21:09.888118",
     "exception": false,
     "start_time": "2021-09-20T00:21:09.836591",
     "status": "completed"
    },
    "tags": []
   },
   "outputs": [
    {
     "data": {
      "text/plain": [
       "((11982, 784), (1984, 784))"
      ]
     },
     "execution_count": 14,
     "metadata": {},
     "output_type": "execute_result"
    }
   ],
   "source": [
    "X_train = X_train.reshape(X_train.shape[0], -1)\n",
    "X_test = X_test.reshape(X_test.shape[0], -1)\n",
    "X_train.shape, X_test.shape"
   ]
  },
  {
   "cell_type": "code",
   "execution_count": 15,
   "id": "73c5f88a",
   "metadata": {
    "execution": {
     "iopub.execute_input": "2021-09-20T00:21:09.954179Z",
     "iopub.status.busy": "2021-09-20T00:21:09.953589Z",
     "iopub.status.idle": "2021-09-20T00:21:09.976598Z",
     "shell.execute_reply": "2021-09-20T00:21:09.975958Z"
    },
    "papermill": {
     "duration": 0.058278,
     "end_time": "2021-09-20T00:21:09.976751",
     "exception": false,
     "start_time": "2021-09-20T00:21:09.918473",
     "status": "completed"
    },
    "tags": []
   },
   "outputs": [],
   "source": [
    "#Impoting functions from 'Kudzu'\n",
    "from kudzu.model import Model\n",
    "from kudzu.train import Learner\n",
    "from kudzu.optim import GD\n",
    "from kudzu.data import Data, Sampler,Dataloader\n",
    "\n",
    "from kudzu.callbacks import AccCallback\n",
    "from kudzu.callbacks import ClfCallback\n",
    "\n",
    "from kudzu.loss import MSE\n",
    "\n",
    "from kudzu.layer import Sigmoid,Relu\n",
    "from kudzu.layer import Affine"
   ]
  },
  {
   "cell_type": "markdown",
   "id": "bc01172a",
   "metadata": {
    "papermill": {
     "duration": 0.028501,
     "end_time": "2021-09-20T00:21:10.034489",
     "exception": false,
     "start_time": "2021-09-20T00:21:10.005988",
     "status": "completed"
    },
    "tags": []
   },
   "source": [
    "### Let us create a `Config` class, to store important parameters. \n",
    "This class essentially plays the role of a dictionary."
   ]
  },
  {
   "cell_type": "code",
   "execution_count": 16,
   "id": "978281aa",
   "metadata": {
    "execution": {
     "iopub.execute_input": "2021-09-20T00:21:10.103854Z",
     "iopub.status.busy": "2021-09-20T00:21:10.103260Z",
     "iopub.status.idle": "2021-09-20T00:21:10.114499Z",
     "shell.execute_reply": "2021-09-20T00:21:10.114048Z"
    },
    "papermill": {
     "duration": 0.050355,
     "end_time": "2021-09-20T00:21:10.114609",
     "exception": false,
     "start_time": "2021-09-20T00:21:10.064254",
     "status": "completed"
    },
    "tags": []
   },
   "outputs": [],
   "source": [
    "class Config:\n",
    "    pass\n",
    "config = Config()\n",
    "config.lr = 0.001\n",
    "config.num_epochs = 250\n",
    "config.bs = 50"
   ]
  },
  {
   "cell_type": "markdown",
   "id": "1385fa59",
   "metadata": {
    "papermill": {
     "duration": 0.028803,
     "end_time": "2021-09-20T00:21:10.172060",
     "exception": false,
     "start_time": "2021-09-20T00:21:10.143257",
     "status": "completed"
    },
    "tags": []
   },
   "source": [
    "### Running Models with the Training data\n",
    "Details about the network layers:\n",
    "- A first affine layer has 784 inputs and does 100 affine transforms. These are followed by a Relu\n",
    "- A second affine layer has 100 inputs from the 100 activations of the past layer, and does 100 affine transforms. These are followed by a Relu\n",
    "- A third affine layer has 100 activations and does 2 affine transformations to create an embedding for visualization. There is no non-linearity here.\n",
    "- A final \"logistic regression\" which has an affine transform from 2 inputs to 1 output, which is squeezed through a sigmoid.\n"
   ]
  },
  {
   "cell_type": "code",
   "execution_count": 17,
   "id": "2b9c66db",
   "metadata": {
    "execution": {
     "iopub.execute_input": "2021-09-20T00:21:10.235845Z",
     "iopub.status.busy": "2021-09-20T00:21:10.235298Z",
     "iopub.status.idle": "2021-09-20T00:21:10.247723Z",
     "shell.execute_reply": "2021-09-20T00:21:10.247233Z"
    },
    "papermill": {
     "duration": 0.046835,
     "end_time": "2021-09-20T00:21:10.247836",
     "exception": false,
     "start_time": "2021-09-20T00:21:10.201001",
     "status": "completed"
    },
    "tags": []
   },
   "outputs": [],
   "source": [
    "data = Data(X_train, y_train.reshape(-1,1))\n",
    "sampler = Sampler(data, config.bs, shuffle=True)\n",
    "\n",
    "dl = Dataloader(data, sampler)\n",
    "\n",
    "opt = GD(config.lr)\n",
    "loss = MSE()"
   ]
  },
  {
   "cell_type": "code",
   "execution_count": 18,
   "id": "b275e4c2",
   "metadata": {
    "execution": {
     "iopub.execute_input": "2021-09-20T00:21:10.310647Z",
     "iopub.status.busy": "2021-09-20T00:21:10.310079Z",
     "iopub.status.idle": "2021-09-20T00:21:10.324802Z",
     "shell.execute_reply": "2021-09-20T00:21:10.324345Z"
    },
    "papermill": {
     "duration": 0.048841,
     "end_time": "2021-09-20T00:21:10.324905",
     "exception": false,
     "start_time": "2021-09-20T00:21:10.276064",
     "status": "completed"
    },
    "tags": []
   },
   "outputs": [],
   "source": [
    "training_data_x = X_train\n",
    "testing_data_x = X_test\n",
    "training_data_y = y_train.reshape(-1,1)\n",
    "testing_data_y = y_test.reshape(-1,1)"
   ]
  },
  {
   "cell_type": "code",
   "execution_count": 19,
   "id": "76951160",
   "metadata": {
    "execution": {
     "iopub.execute_input": "2021-09-20T00:21:10.388038Z",
     "iopub.status.busy": "2021-09-20T00:21:10.387500Z",
     "iopub.status.idle": "2021-09-20T00:21:10.403417Z",
     "shell.execute_reply": "2021-09-20T00:21:10.402961Z"
    },
    "papermill": {
     "duration": 0.049456,
     "end_time": "2021-09-20T00:21:10.403519",
     "exception": false,
     "start_time": "2021-09-20T00:21:10.354063",
     "status": "completed"
    },
    "tags": []
   },
   "outputs": [
    {
     "name": "stdout",
     "output_type": "stream",
     "text": [
      "xavier\n",
      "xavier\n",
      "xavier\n",
      "xavier\n",
      "xavier\n"
     ]
    }
   ],
   "source": [
    "layers = [Affine(\"first\", 784, 100), Relu(\"first\"), Affine(\"second\", 100, 100), Relu(\"second\"), Affine(\"third\", 100, 2), Affine(\"last\", 2, 1), Sigmoid(\"last\")]\n",
    "model_nn = Model(layers)\n",
    "model_lr = Model([Affine(\"logits\", 784, 1), Sigmoid(\"sigmoid\")])"
   ]
  },
  {
   "cell_type": "code",
   "execution_count": 20,
   "id": "6eede77a",
   "metadata": {
    "execution": {
     "iopub.execute_input": "2021-09-20T00:21:10.467014Z",
     "iopub.status.busy": "2021-09-20T00:21:10.466438Z",
     "iopub.status.idle": "2021-09-20T00:21:10.478000Z",
     "shell.execute_reply": "2021-09-20T00:21:10.478469Z"
    },
    "papermill": {
     "duration": 0.046231,
     "end_time": "2021-09-20T00:21:10.478592",
     "exception": false,
     "start_time": "2021-09-20T00:21:10.432361",
     "status": "completed"
    },
    "tags": []
   },
   "outputs": [],
   "source": [
    "nn_learner = Learner(loss, model_nn, opt, config.num_epochs)\n",
    "acc_nn = ClfCallback(nn_learner, config.bs, training_data_x , testing_data_x, training_data_y, testing_data_y)\n",
    "nn_learner.set_callbacks([acc_nn])"
   ]
  },
  {
   "cell_type": "code",
   "execution_count": 21,
   "id": "877b6cc7",
   "metadata": {
    "execution": {
     "iopub.execute_input": "2021-09-20T00:21:10.539545Z",
     "iopub.status.busy": "2021-09-20T00:21:10.539007Z",
     "iopub.status.idle": "2021-09-20T00:21:10.551430Z",
     "shell.execute_reply": "2021-09-20T00:21:10.550939Z"
    },
    "papermill": {
     "duration": 0.04501,
     "end_time": "2021-09-20T00:21:10.551541",
     "exception": false,
     "start_time": "2021-09-20T00:21:10.506531",
     "status": "completed"
    },
    "tags": []
   },
   "outputs": [],
   "source": [
    "lr_learner = Learner(loss, model_lr, opt, config.num_epochs)\n",
    "acc_lr = ClfCallback(lr_learner, config.bs, training_data_x , testing_data_x, training_data_y, testing_data_y)\n",
    "lr_learner.set_callbacks([acc_lr])"
   ]
  },
  {
   "cell_type": "code",
   "execution_count": 22,
   "id": "d9b133c3",
   "metadata": {
    "execution": {
     "iopub.execute_input": "2021-09-20T00:21:10.614750Z",
     "iopub.status.busy": "2021-09-20T00:21:10.614212Z",
     "iopub.status.idle": "2021-09-20T00:22:33.591519Z",
     "shell.execute_reply": "2021-09-20T00:22:33.592337Z"
    },
    "papermill": {
     "duration": 83.01021,
     "end_time": "2021-09-20T00:22:33.592490",
     "exception": false,
     "start_time": "2021-09-20T00:21:10.582280",
     "status": "completed"
    },
    "tags": []
   },
   "outputs": [
    {
     "name": "stdout",
     "output_type": "stream",
     "text": [
      "Epoch 0, Loss 0.2491\n",
      "Training Accuracy: 0.6247, Testing Accuracy: 0.6013\n",
      "\n"
     ]
    },
    {
     "name": "stdout",
     "output_type": "stream",
     "text": [
      "Epoch 10, Loss 0.091\n",
      "Training Accuracy: 0.9155, Testing Accuracy: 0.9244\n",
      "\n"
     ]
    },
    {
     "name": "stdout",
     "output_type": "stream",
     "text": [
      "Epoch 20, Loss 0.0549\n",
      "Training Accuracy: 0.9422, Testing Accuracy: 0.9536\n",
      "\n"
     ]
    },
    {
     "name": "stdout",
     "output_type": "stream",
     "text": [
      "Epoch 30, Loss 0.0431\n",
      "Training Accuracy: 0.9543, Testing Accuracy: 0.9632\n",
      "\n"
     ]
    },
    {
     "name": "stdout",
     "output_type": "stream",
     "text": [
      "Epoch 40, Loss 0.0374\n",
      "Training Accuracy: 0.9593, Testing Accuracy: 0.9657\n",
      "\n"
     ]
    },
    {
     "name": "stdout",
     "output_type": "stream",
     "text": [
      "Epoch 50, Loss 0.0339\n",
      "Training Accuracy: 0.9621, Testing Accuracy: 0.9688\n",
      "\n"
     ]
    },
    {
     "name": "stdout",
     "output_type": "stream",
     "text": [
      "Epoch 60, Loss 0.0316\n",
      "Training Accuracy: 0.9643, Testing Accuracy: 0.9708\n",
      "\n"
     ]
    },
    {
     "name": "stdout",
     "output_type": "stream",
     "text": [
      "Epoch 70, Loss 0.0299\n",
      "Training Accuracy: 0.9659, Testing Accuracy: 0.9713\n",
      "\n"
     ]
    },
    {
     "name": "stdout",
     "output_type": "stream",
     "text": [
      "Epoch 80, Loss 0.0285\n",
      "Training Accuracy: 0.9674, Testing Accuracy: 0.9718\n",
      "\n"
     ]
    },
    {
     "name": "stdout",
     "output_type": "stream",
     "text": [
      "Epoch 90, Loss 0.0274\n",
      "Training Accuracy: 0.9691, Testing Accuracy: 0.9718\n",
      "\n"
     ]
    },
    {
     "name": "stdout",
     "output_type": "stream",
     "text": [
      "Epoch 100, Loss 0.0264\n",
      "Training Accuracy: 0.9700, Testing Accuracy: 0.9723\n",
      "\n"
     ]
    },
    {
     "name": "stdout",
     "output_type": "stream",
     "text": [
      "Epoch 110, Loss 0.0255\n",
      "Training Accuracy: 0.9708, Testing Accuracy: 0.9728\n",
      "\n"
     ]
    },
    {
     "name": "stdout",
     "output_type": "stream",
     "text": [
      "Epoch 120, Loss 0.0248\n",
      "Training Accuracy: 0.9711, Testing Accuracy: 0.9733\n",
      "\n"
     ]
    },
    {
     "name": "stdout",
     "output_type": "stream",
     "text": [
      "Epoch 130, Loss 0.0241\n",
      "Training Accuracy: 0.9728, Testing Accuracy: 0.9723\n",
      "\n"
     ]
    },
    {
     "name": "stdout",
     "output_type": "stream",
     "text": [
      "Epoch 140, Loss 0.0235\n",
      "Training Accuracy: 0.9738, Testing Accuracy: 0.9723\n",
      "\n"
     ]
    },
    {
     "name": "stdout",
     "output_type": "stream",
     "text": [
      "Epoch 150, Loss 0.0229\n",
      "Training Accuracy: 0.9742, Testing Accuracy: 0.9723\n",
      "\n"
     ]
    },
    {
     "name": "stdout",
     "output_type": "stream",
     "text": [
      "Epoch 160, Loss 0.0224\n",
      "Training Accuracy: 0.9749, Testing Accuracy: 0.9723\n",
      "\n"
     ]
    },
    {
     "name": "stdout",
     "output_type": "stream",
     "text": [
      "Epoch 170, Loss 0.0219\n",
      "Training Accuracy: 0.9756, Testing Accuracy: 0.9723\n",
      "\n"
     ]
    },
    {
     "name": "stdout",
     "output_type": "stream",
     "text": [
      "Epoch 180, Loss 0.0214\n",
      "Training Accuracy: 0.9763, Testing Accuracy: 0.9723\n",
      "\n"
     ]
    },
    {
     "name": "stdout",
     "output_type": "stream",
     "text": [
      "Epoch 190, Loss 0.021\n",
      "Training Accuracy: 0.9767, Testing Accuracy: 0.9718\n",
      "\n"
     ]
    },
    {
     "name": "stdout",
     "output_type": "stream",
     "text": [
      "Epoch 200, Loss 0.0205\n",
      "Training Accuracy: 0.9773, Testing Accuracy: 0.9723\n",
      "\n"
     ]
    },
    {
     "name": "stdout",
     "output_type": "stream",
     "text": [
      "Epoch 210, Loss 0.0201\n",
      "Training Accuracy: 0.9778, Testing Accuracy: 0.9723\n",
      "\n"
     ]
    },
    {
     "name": "stdout",
     "output_type": "stream",
     "text": [
      "Epoch 220, Loss 0.0197\n",
      "Training Accuracy: 0.9780, Testing Accuracy: 0.9723\n",
      "\n"
     ]
    },
    {
     "name": "stdout",
     "output_type": "stream",
     "text": [
      "Epoch 230, Loss 0.0194\n",
      "Training Accuracy: 0.9786, Testing Accuracy: 0.9733\n",
      "\n"
     ]
    },
    {
     "name": "stdout",
     "output_type": "stream",
     "text": [
      "Epoch 240, Loss 0.019\n",
      "Training Accuracy: 0.9790, Testing Accuracy: 0.9743\n",
      "\n"
     ]
    },
    {
     "data": {
      "text/plain": [
       "0.0049972489254067175"
      ]
     },
     "execution_count": 22,
     "metadata": {},
     "output_type": "execute_result"
    }
   ],
   "source": [
    "nn_learner.train_loop(dl)"
   ]
  },
  {
   "cell_type": "code",
   "execution_count": 23,
   "id": "e0163366",
   "metadata": {
    "execution": {
     "iopub.execute_input": "2021-09-20T00:22:33.678906Z",
     "iopub.status.busy": "2021-09-20T00:22:33.678124Z",
     "iopub.status.idle": "2021-09-20T00:22:48.260902Z",
     "shell.execute_reply": "2021-09-20T00:22:48.261714Z"
    },
    "papermill": {
     "duration": 14.631625,
     "end_time": "2021-09-20T00:22:48.261863",
     "exception": false,
     "start_time": "2021-09-20T00:22:33.630238",
     "status": "completed"
    },
    "tags": []
   },
   "outputs": [
    {
     "name": "stdout",
     "output_type": "stream",
     "text": [
      "Epoch 0, Loss 0.2768\n",
      "Training Accuracy: 0.5361, Testing Accuracy: 0.5222\n",
      "\n"
     ]
    },
    {
     "name": "stdout",
     "output_type": "stream",
     "text": [
      "Epoch 10, Loss 0.1029\n",
      "Training Accuracy: 0.9134, Testing Accuracy: 0.9269\n",
      "\n"
     ]
    },
    {
     "name": "stdout",
     "output_type": "stream",
     "text": [
      "Epoch 20, Loss 0.0786\n",
      "Training Accuracy: 0.9289, Testing Accuracy: 0.9420\n",
      "\n"
     ]
    },
    {
     "name": "stdout",
     "output_type": "stream",
     "text": [
      "Epoch 30, Loss 0.0678\n",
      "Training Accuracy: 0.9369, Testing Accuracy: 0.9511\n",
      "\n"
     ]
    },
    {
     "name": "stdout",
     "output_type": "stream",
     "text": [
      "Epoch 40, Loss 0.0613\n",
      "Training Accuracy: 0.9424, Testing Accuracy: 0.9551\n",
      "\n"
     ]
    },
    {
     "name": "stdout",
     "output_type": "stream",
     "text": [
      "Epoch 50, Loss 0.0568\n",
      "Training Accuracy: 0.9462, Testing Accuracy: 0.9556\n",
      "\n"
     ]
    },
    {
     "name": "stdout",
     "output_type": "stream",
     "text": [
      "Epoch 60, Loss 0.0536\n",
      "Training Accuracy: 0.9478, Testing Accuracy: 0.9561\n",
      "\n"
     ]
    },
    {
     "name": "stdout",
     "output_type": "stream",
     "text": [
      "Epoch 70, Loss 0.051\n",
      "Training Accuracy: 0.9494, Testing Accuracy: 0.9612\n",
      "\n"
     ]
    },
    {
     "name": "stdout",
     "output_type": "stream",
     "text": [
      "Epoch 80, Loss 0.049\n",
      "Training Accuracy: 0.9514, Testing Accuracy: 0.9602\n",
      "\n"
     ]
    },
    {
     "name": "stdout",
     "output_type": "stream",
     "text": [
      "Epoch 90, Loss 0.0473\n",
      "Training Accuracy: 0.9533, Testing Accuracy: 0.9602\n",
      "\n"
     ]
    },
    {
     "name": "stdout",
     "output_type": "stream",
     "text": [
      "Epoch 100, Loss 0.0459\n",
      "Training Accuracy: 0.9544, Testing Accuracy: 0.9607\n",
      "\n"
     ]
    },
    {
     "name": "stdout",
     "output_type": "stream",
     "text": [
      "Epoch 110, Loss 0.0447\n",
      "Training Accuracy: 0.9552, Testing Accuracy: 0.9612\n",
      "\n"
     ]
    },
    {
     "name": "stdout",
     "output_type": "stream",
     "text": [
      "Epoch 120, Loss 0.0437\n",
      "Training Accuracy: 0.9556, Testing Accuracy: 0.9632\n",
      "\n"
     ]
    },
    {
     "name": "stdout",
     "output_type": "stream",
     "text": [
      "Epoch 130, Loss 0.0428\n",
      "Training Accuracy: 0.9564, Testing Accuracy: 0.9642\n",
      "\n"
     ]
    },
    {
     "name": "stdout",
     "output_type": "stream",
     "text": [
      "Epoch 140, Loss 0.0419\n",
      "Training Accuracy: 0.9569, Testing Accuracy: 0.9652\n",
      "\n"
     ]
    },
    {
     "name": "stdout",
     "output_type": "stream",
     "text": [
      "Epoch 150, Loss 0.0412\n",
      "Training Accuracy: 0.9574, Testing Accuracy: 0.9657\n",
      "\n"
     ]
    },
    {
     "name": "stdout",
     "output_type": "stream",
     "text": [
      "Epoch 160, Loss 0.0405\n",
      "Training Accuracy: 0.9579, Testing Accuracy: 0.9657\n",
      "\n"
     ]
    },
    {
     "name": "stdout",
     "output_type": "stream",
     "text": [
      "Epoch 170, Loss 0.0399\n",
      "Training Accuracy: 0.9584, Testing Accuracy: 0.9657\n",
      "\n"
     ]
    },
    {
     "name": "stdout",
     "output_type": "stream",
     "text": [
      "Epoch 180, Loss 0.0394\n",
      "Training Accuracy: 0.9587, Testing Accuracy: 0.9662\n",
      "\n"
     ]
    },
    {
     "name": "stdout",
     "output_type": "stream",
     "text": [
      "Epoch 190, Loss 0.0389\n",
      "Training Accuracy: 0.9591, Testing Accuracy: 0.9672\n",
      "\n"
     ]
    },
    {
     "name": "stdout",
     "output_type": "stream",
     "text": [
      "Epoch 200, Loss 0.0384\n",
      "Training Accuracy: 0.9594, Testing Accuracy: 0.9672\n",
      "\n"
     ]
    },
    {
     "name": "stdout",
     "output_type": "stream",
     "text": [
      "Epoch 210, Loss 0.038\n",
      "Training Accuracy: 0.9597, Testing Accuracy: 0.9677\n",
      "\n"
     ]
    },
    {
     "name": "stdout",
     "output_type": "stream",
     "text": [
      "Epoch 220, Loss 0.0376\n",
      "Training Accuracy: 0.9600, Testing Accuracy: 0.9682\n",
      "\n"
     ]
    },
    {
     "name": "stdout",
     "output_type": "stream",
     "text": [
      "Epoch 230, Loss 0.0372\n",
      "Training Accuracy: 0.9606, Testing Accuracy: 0.9682\n",
      "\n"
     ]
    },
    {
     "name": "stdout",
     "output_type": "stream",
     "text": [
      "Epoch 240, Loss 0.0368\n",
      "Training Accuracy: 0.9607, Testing Accuracy: 0.9682\n",
      "\n"
     ]
    },
    {
     "data": {
      "text/plain": [
       "0.03323819571031809"
      ]
     },
     "execution_count": 23,
     "metadata": {},
     "output_type": "execute_result"
    }
   ],
   "source": [
    "lr_learner.train_loop(dl)"
   ]
  },
  {
   "cell_type": "code",
   "execution_count": 24,
   "id": "ca410940",
   "metadata": {
    "execution": {
     "iopub.execute_input": "2021-09-20T00:22:48.361212Z",
     "iopub.status.busy": "2021-09-20T00:22:48.360618Z",
     "iopub.status.idle": "2021-09-20T00:22:48.613968Z",
     "shell.execute_reply": "2021-09-20T00:22:48.612925Z"
    },
    "papermill": {
     "duration": 0.306454,
     "end_time": "2021-09-20T00:22:48.614095",
     "exception": false,
     "start_time": "2021-09-20T00:22:48.307641",
     "status": "completed"
    },
    "tags": []
   },
   "outputs": [
    {
     "data": {
      "text/plain": [
       "<matplotlib.legend.Legend at 0x7ff330477940>"
      ]
     },
     "execution_count": 24,
     "metadata": {},
     "output_type": "execute_result"
    },
    {
     "data": {
      "image/png": "[encoded data removed]",
      "text/plain": [
       "<Figure size 1080x720 with 1 Axes>"
      ]
     },
     "metadata": {
      "needs_background": "light"
     },
     "output_type": "display_data"
    }
   ],
   "source": [
    "#comparing the results of NN and LR\n",
    "plt.figure(figsize=(15,10))\n",
    "\n",
    "# Neural Network plots\n",
    "plt.plot(acc_nn.accuracies, 'r-', label = \"Training Accuracies - NN\")\n",
    "plt.plot(acc_nn.test_accuracies, 'g-', label = \"Testing Accuracies - NN\")\n",
    "\n",
    "# Logistic Regression plots\n",
    "plt.plot(acc_lr.accuracies, 'k-', label = \"Training Accuracies - LR\")\n",
    "plt.plot(acc_lr.test_accuracies, 'b-', label = \"Testing Accuracies - LR\")\n",
    "plt.legend()"
   ]
  },
  {
   "cell_type": "markdown",
   "id": "80dfb35c",
   "metadata": {
    "papermill": {
     "duration": 0.04572,
     "end_time": "2021-09-20T00:22:48.706416",
     "exception": false,
     "start_time": "2021-09-20T00:22:48.660696",
     "status": "completed"
    },
    "tags": []
   },
   "source": [
    "#### Plotting the outputs of this layer of the NN.\n"
   ]
  },
  {
   "cell_type": "code",
   "execution_count": 25,
   "id": "45eb2ff5",
   "metadata": {
    "execution": {
     "iopub.execute_input": "2021-09-20T00:22:48.802904Z",
     "iopub.status.busy": "2021-09-20T00:22:48.802316Z",
     "iopub.status.idle": "2021-09-20T00:22:48.823923Z",
     "shell.execute_reply": "2021-09-20T00:22:48.824639Z"
    },
    "papermill": {
     "duration": 0.07296,
     "end_time": "2021-09-20T00:22:48.824777",
     "exception": false,
     "start_time": "2021-09-20T00:22:48.751817",
     "status": "completed"
    },
    "tags": []
   },
   "outputs": [],
   "source": [
    "new_model = Model(layers[:-2])\n",
    "testing_plot = new_model(testing_data_x)"
   ]
  },
  {
   "cell_type": "code",
   "execution_count": 26,
   "id": "4c0a5485",
   "metadata": {
    "execution": {
     "iopub.execute_input": "2021-09-20T00:22:48.936164Z",
     "iopub.status.busy": "2021-09-20T00:22:48.935589Z",
     "iopub.status.idle": "2021-09-20T00:22:49.172507Z",
     "shell.execute_reply": "2021-09-20T00:22:49.171995Z"
    },
    "papermill": {
     "duration": 0.29136,
     "end_time": "2021-09-20T00:22:49.172634",
     "exception": false,
     "start_time": "2021-09-20T00:22:48.881274",
     "status": "completed"
    },
    "tags": []
   },
   "outputs": [
    {
     "data": {
      "text/plain": [
       "Text(0.5, 1.0, 'Outputs')"
      ]
     },
     "execution_count": 26,
     "metadata": {},
     "output_type": "execute_result"
    },
    {
     "data": {
      "image/png": "[encoded data removed]",
      "text/plain": [
       "<Figure size 576x504 with 1 Axes>"
      ]
     },
     "metadata": {
      "needs_background": "light"
     },
     "output_type": "display_data"
    }
   ],
   "source": [
    "# Plotting the scatter plot of points and color coding by class\n",
    "plt.figure(figsize=(8,7))\n",
    "plt.scatter(testing_plot[:,0], testing_plot[:,1], alpha = 0.1, c = y_test.ravel());\n",
    "plt.title('Outputs')"
   ]
  },
  {
   "cell_type": "markdown",
   "id": "a74fcf8f",
   "metadata": {
    "papermill": {
     "duration": 0.05002,
     "end_time": "2021-09-20T00:22:49.273091",
     "exception": false,
     "start_time": "2021-09-20T00:22:49.223071",
     "status": "completed"
    },
    "tags": []
   },
   "source": [
    "Probability contours"
   ]
  },
  {
   "cell_type": "code",
   "execution_count": 27,
   "id": "d0afc8e3",
   "metadata": {
    "execution": {
     "iopub.execute_input": "2021-09-20T00:22:49.374165Z",
     "iopub.status.busy": "2021-09-20T00:22:49.373619Z",
     "iopub.status.idle": "2021-09-20T00:22:49.385838Z",
     "shell.execute_reply": "2021-09-20T00:22:49.386307Z"
    },
    "papermill": {
     "duration": 0.065422,
     "end_time": "2021-09-20T00:22:49.386434",
     "exception": false,
     "start_time": "2021-09-20T00:22:49.321012",
     "status": "completed"
    },
    "tags": []
   },
   "outputs": [],
   "source": [
    "model_prob = Model(layers[-2:]) "
   ]
  },
  {
   "cell_type": "code",
   "execution_count": 28,
   "id": "9b96e238",
   "metadata": {
    "execution": {
     "iopub.execute_input": "2021-09-20T00:22:49.516573Z",
     "iopub.status.busy": "2021-09-20T00:22:49.515964Z",
     "iopub.status.idle": "2021-09-20T00:22:49.530840Z",
     "shell.execute_reply": "2021-09-20T00:22:49.531277Z"
    },
    "papermill": {
     "duration": 0.069977,
     "end_time": "2021-09-20T00:22:49.531416",
     "exception": false,
     "start_time": "2021-09-20T00:22:49.461439",
     "status": "completed"
    },
    "tags": []
   },
   "outputs": [],
   "source": [
    "#creating the x and y ranges according to the above generated plot.\n",
    "x_range = np.linspace(-4, 1, 100) \n",
    "y_range = np.linspace(-6, 6, 100) \n",
    "x_grid, y_grid = np.meshgrid(x_range, y_range) # x_grid and y_grig are of size 100 X 100\n",
    "\n",
    "# converting x_grid and y_grid to continuous arrays\n",
    "x_gridflat = np.ravel(x_grid)\n",
    "y_gridflat = np.ravel(y_grid)\n",
    "\n",
    "# The last layer of the current model takes two columns as input. Hence transpose of np.vstack() is required.\n",
    "X = np.vstack((x_gridflat, y_gridflat)).T\n",
    "\n",
    "prob_contour = model_prob(X).reshape(100,100) "
   ]
  },
  {
   "cell_type": "code",
   "execution_count": 29,
   "id": "da72499a",
   "metadata": {
    "execution": {
     "iopub.execute_input": "2021-09-20T00:22:49.646626Z",
     "iopub.status.busy": "2021-09-20T00:22:49.646043Z",
     "iopub.status.idle": "2021-09-20T00:22:49.907188Z",
     "shell.execute_reply": "2021-09-20T00:22:49.906705Z"
    },
    "papermill": {
     "duration": 0.320194,
     "end_time": "2021-09-20T00:22:49.907308",
     "exception": false,
     "start_time": "2021-09-20T00:22:49.587114",
     "status": "completed"
    },
    "tags": []
   },
   "outputs": [
    {
     "data": {
      "image/png": "[encoded data removed]",
      "text/plain": [
       "<Figure size 720x648 with 1 Axes>"
      ]
     },
     "metadata": {
      "needs_background": "light"
     },
     "output_type": "display_data"
    }
   ],
   "source": [
    "plt.figure(figsize=(10,9))\n",
    "plt.scatter(testing_plot[:,0], testing_plot[:,1], alpha = 0.1, c = y_test.ravel())\n",
    "contours = plt.contour(x_grid,y_grid,prob_contour)\n",
    "plt.title('Probability Contours')\n",
    "plt.clabel(contours, inline = True );"
   ]
  },
  {
   "cell_type": "code",
   "execution_count": null,
   "id": "e81b4ac7",
   "metadata": {
    "papermill": {
     "duration": 0.050837,
     "end_time": "2021-09-20T00:22:50.009860",
     "exception": false,
     "start_time": "2021-09-20T00:22:49.959023",
     "status": "completed"
    },
    "tags": []
   },
   "outputs": [],
   "source": []
  }
 ],
 "metadata": {
  "kernelspec": {
   "display_name": "Python 3",
   "language": "python",
   "name": "python3"
  },
  "language_info": {
   "codemirror_mode": {
    "name": "ipython",
    "version": 3
   },
   "file_extension": ".py",
   "mimetype": "text/x-python",
   "name": "python",
   "nbconvert_exporter": "python",
   "pygments_lexer": "ipython3",
   "version": "3.6.15"
  },
  "papermill": {
   "default_parameters": {},
   "duration": 106.565477,
   "end_time": "2021-09-20T00:22:50.468956",
   "environment_variables": {},
   "exception": null,
   "input_path": "2020-08-11-part2.ipynb",
   "output_path": "2020-08-11-part2.ipynb",
   "parameters": {},
   "start_time": "2021-09-20T00:21:03.903479",
   "version": "2.3.3"
  }
 },
 "nbformat": 4,
 "nbformat_minor": 5
}