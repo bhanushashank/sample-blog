{
 "cells": [
  {
   "cell_type": "markdown",
   "id": "98380cd3",
   "metadata": {
    "papermill": {
     "duration": 0.028722,
     "end_time": "2021-11-26T00:22:30.466263",
     "exception": false,
     "start_time": "2021-11-26T00:22:30.437541",
     "status": "completed"
    },
    "tags": []
   },
   "source": [
    "# Distinguish Your Own Digits (DYOD)"
   ]
  },
  {
   "cell_type": "markdown",
   "id": "ef31240d",
   "metadata": {
    "papermill": {
     "duration": 0.025172,
     "end_time": "2021-11-26T00:22:30.515799",
     "exception": false,
     "start_time": "2021-11-26T00:22:30.490627",
     "status": "completed"
    },
    "tags": []
   },
   "source": [
    "You are going to write a classifier that distinguishes between the number 3 and number 8."
   ]
  },
  {
   "cell_type": "code",
   "execution_count": 1,
   "id": "b15c8646",
   "metadata": {
    "execution": {
     "iopub.execute_input": "2021-11-26T00:22:30.573674Z",
     "iopub.status.busy": "2021-11-26T00:22:30.573158Z",
     "iopub.status.idle": "2021-11-26T00:22:30.583730Z",
     "shell.execute_reply": "2021-11-26T00:22:30.583278Z"
    },
    "papermill": {
     "duration": 0.044367,
     "end_time": "2021-11-26T00:22:30.583857",
     "exception": false,
     "start_time": "2021-11-26T00:22:30.539490",
     "status": "completed"
    },
    "tags": []
   },
   "outputs": [],
   "source": [
    "%load_ext autoreload\n",
    "%autoreload 2"
   ]
  },
  {
   "cell_type": "code",
   "execution_count": 2,
   "id": "22ef38dc",
   "metadata": {
    "execution": {
     "iopub.execute_input": "2021-11-26T00:22:30.637250Z",
     "iopub.status.busy": "2021-11-26T00:22:30.636738Z",
     "iopub.status.idle": "2021-11-26T00:22:31.222055Z",
     "shell.execute_reply": "2021-11-26T00:22:31.221507Z"
    },
    "papermill": {
     "duration": 0.614608,
     "end_time": "2021-11-26T00:22:31.222203",
     "exception": false,
     "start_time": "2021-11-26T00:22:30.607595",
     "status": "completed"
    },
    "tags": []
   },
   "outputs": [],
   "source": [
    "%matplotlib inline\n",
    "import numpy as np\n",
    "import matplotlib.pyplot as plt\n",
    "import pandas as pd"
   ]
  },
  {
   "cell_type": "markdown",
   "id": "ba036198",
   "metadata": {
    "papermill": {
     "duration": 0.023816,
     "end_time": "2021-11-26T00:22:31.270779",
     "exception": false,
     "start_time": "2021-11-26T00:22:31.246963",
     "status": "completed"
    },
    "tags": []
   },
   "source": [
    "From the command line run `pip install mnist`. This is a library that will help you bring down the mnist dataset. If you run this from a notebook, you need to put  `!pip install mnist` in a cell by itself."
   ]
  },
  {
   "cell_type": "code",
   "execution_count": 3,
   "id": "bb6ad8a1",
   "metadata": {
    "execution": {
     "iopub.execute_input": "2021-11-26T00:22:31.336957Z",
     "iopub.status.busy": "2021-11-26T00:22:31.334440Z",
     "iopub.status.idle": "2021-11-26T00:22:33.882026Z",
     "shell.execute_reply": "2021-11-26T00:22:33.882545Z"
    },
    "papermill": {
     "duration": 2.588092,
     "end_time": "2021-11-26T00:22:33.882716",
     "exception": false,
     "start_time": "2021-11-26T00:22:31.294624",
     "status": "completed"
    },
    "tags": []
   },
   "outputs": [
    {
     "name": "stdout",
     "output_type": "stream",
     "text": [
      "Collecting mnist\r\n"
     ]
    },
    {
     "name": "stdout",
     "output_type": "stream",
     "text": [
      "  Downloading mnist-0.2.2-py2.py3-none-any.whl (3.5 kB)\r\n",
      "Requirement already satisfied: numpy in /opt/hostedtoolcache/Python/3.6.15/x64/lib/python3.6/site-packages (from mnist) (1.19.5)\r\n"
     ]
    },
    {
     "name": "stdout",
     "output_type": "stream",
     "text": [
      "Installing collected packages: mnist\r\n",
      "Successfully installed mnist-0.2.2\r\n"
     ]
    }
   ],
   "source": [
    "!pip install mnist"
   ]
  },
  {
   "cell_type": "markdown",
   "id": "69df9c9a",
   "metadata": {
    "papermill": {
     "duration": 0.024643,
     "end_time": "2021-11-26T00:22:33.932925",
     "exception": false,
     "start_time": "2021-11-26T00:22:33.908282",
     "status": "completed"
    },
    "tags": []
   },
   "source": [
    "## Preparing the Data"
   ]
  },
  {
   "cell_type": "code",
   "execution_count": 4,
   "id": "7f69d806",
   "metadata": {
    "execution": {
     "iopub.execute_input": "2021-11-26T00:22:33.989537Z",
     "iopub.status.busy": "2021-11-26T00:22:33.989018Z",
     "iopub.status.idle": "2021-11-26T00:22:34.001122Z",
     "shell.execute_reply": "2021-11-26T00:22:34.001538Z"
    },
    "papermill": {
     "duration": 0.044268,
     "end_time": "2021-11-26T00:22:34.001675",
     "exception": false,
     "start_time": "2021-11-26T00:22:33.957407",
     "status": "completed"
    },
    "tags": []
   },
   "outputs": [],
   "source": [
    "import mnist"
   ]
  },
  {
   "cell_type": "code",
   "execution_count": 5,
   "id": "a411e44f",
   "metadata": {
    "execution": {
     "iopub.execute_input": "2021-11-26T00:22:34.054254Z",
     "iopub.status.busy": "2021-11-26T00:22:34.053732Z",
     "iopub.status.idle": "2021-11-26T00:22:34.745692Z",
     "shell.execute_reply": "2021-11-26T00:22:34.745118Z"
    },
    "papermill": {
     "duration": 0.719512,
     "end_time": "2021-11-26T00:22:34.745842",
     "exception": false,
     "start_time": "2021-11-26T00:22:34.026330",
     "status": "completed"
    },
    "tags": []
   },
   "outputs": [],
   "source": [
    "train_images = mnist.train_images()\n",
    "train_labels = mnist.train_labels()"
   ]
  },
  {
   "cell_type": "code",
   "execution_count": 6,
   "id": "dceab3a5",
   "metadata": {
    "execution": {
     "iopub.execute_input": "2021-11-26T00:22:34.799923Z",
     "iopub.status.busy": "2021-11-26T00:22:34.799400Z",
     "iopub.status.idle": "2021-11-26T00:22:34.813923Z",
     "shell.execute_reply": "2021-11-26T00:22:34.813488Z"
    },
    "papermill": {
     "duration": 0.042865,
     "end_time": "2021-11-26T00:22:34.814033",
     "exception": false,
     "start_time": "2021-11-26T00:22:34.771168",
     "status": "completed"
    },
    "tags": []
   },
   "outputs": [
    {
     "data": {
      "text/plain": [
       "((60000, 28, 28), (60000,))"
      ]
     },
     "execution_count": 6,
     "metadata": {},
     "output_type": "execute_result"
    }
   ],
   "source": [
    "train_images.shape, train_labels.shape"
   ]
  },
  {
   "cell_type": "code",
   "execution_count": 7,
   "id": "f50dc2bb",
   "metadata": {
    "execution": {
     "iopub.execute_input": "2021-11-26T00:22:34.866269Z",
     "iopub.status.busy": "2021-11-26T00:22:34.865591Z",
     "iopub.status.idle": "2021-11-26T00:22:35.114229Z",
     "shell.execute_reply": "2021-11-26T00:22:35.113682Z"
    },
    "papermill": {
     "duration": 0.275723,
     "end_time": "2021-11-26T00:22:35.114378",
     "exception": false,
     "start_time": "2021-11-26T00:22:34.838655",
     "status": "completed"
    },
    "tags": []
   },
   "outputs": [],
   "source": [
    "test_images = mnist.test_images()\n",
    "test_labels = mnist.test_labels()"
   ]
  },
  {
   "cell_type": "code",
   "execution_count": 8,
   "id": "fc38cf1b",
   "metadata": {
    "execution": {
     "iopub.execute_input": "2021-11-26T00:22:35.181759Z",
     "iopub.status.busy": "2021-11-26T00:22:35.176925Z",
     "iopub.status.idle": "2021-11-26T00:22:35.184441Z",
     "shell.execute_reply": "2021-11-26T00:22:35.184828Z"
    },
    "papermill": {
     "duration": 0.045143,
     "end_time": "2021-11-26T00:22:35.184958",
     "exception": false,
     "start_time": "2021-11-26T00:22:35.139815",
     "status": "completed"
    },
    "tags": []
   },
   "outputs": [
    {
     "data": {
      "text/plain": [
       "((10000, 28, 28), (10000,))"
      ]
     },
     "execution_count": 8,
     "metadata": {},
     "output_type": "execute_result"
    }
   ],
   "source": [
    "test_images.shape, test_labels.shape"
   ]
  },
  {
   "cell_type": "code",
   "execution_count": 9,
   "id": "f9ed8fe0",
   "metadata": {
    "execution": {
     "iopub.execute_input": "2021-11-26T00:22:35.242492Z",
     "iopub.status.busy": "2021-11-26T00:22:35.239844Z",
     "iopub.status.idle": "2021-11-26T00:22:35.377274Z",
     "shell.execute_reply": "2021-11-26T00:22:35.376821Z"
    },
    "papermill": {
     "duration": 0.167547,
     "end_time": "2021-11-26T00:22:35.377395",
     "exception": false,
     "start_time": "2021-11-26T00:22:35.209848",
     "status": "completed"
    },
    "tags": []
   },
   "outputs": [
    {
     "name": "stdout",
     "output_type": "stream",
     "text": [
      "2\n"
     ]
    },
    {
     "data": {
      "text/plain": [
       "<matplotlib.image.AxesImage at 0x7f5581cce1d0>"
      ]
     },
     "execution_count": 9,
     "metadata": {},
     "output_type": "execute_result"
    },
    {
     "data": {
      "image/png": "[encoded data removed]",
      "text/plain": [
       "<Figure size 432x288 with 1 Axes>"
      ]
     },
     "metadata": {
      "needs_background": "light"
     },
     "output_type": "display_data"
    }
   ],
   "source": [
    "image_index = 7776 # You may select anything up to 60,000\n",
    "print(train_labels[image_index]) \n",
    "plt.imshow(train_images[image_index], cmap='Greys')"
   ]
  },
  {
   "cell_type": "markdown",
   "id": "a8d2388d",
   "metadata": {
    "papermill": {
     "duration": 0.026099,
     "end_time": "2021-11-26T00:22:35.429834",
     "exception": false,
     "start_time": "2021-11-26T00:22:35.403735",
     "status": "completed"
    },
    "tags": []
   },
   "source": [
    "## Filter data to get 3 and 8 out"
   ]
  },
  {
   "cell_type": "code",
   "execution_count": 10,
   "id": "776f7fc7",
   "metadata": {
    "execution": {
     "iopub.execute_input": "2021-11-26T00:22:35.496970Z",
     "iopub.status.busy": "2021-11-26T00:22:35.494077Z",
     "iopub.status.idle": "2021-11-26T00:22:35.506486Z",
     "shell.execute_reply": "2021-11-26T00:22:35.506894Z"
    },
    "papermill": {
     "duration": 0.051249,
     "end_time": "2021-11-26T00:22:35.507028",
     "exception": false,
     "start_time": "2021-11-26T00:22:35.455779",
     "status": "completed"
    },
    "tags": []
   },
   "outputs": [],
   "source": [
    "train_filter = np.where((train_labels == 3 ) | (train_labels == 8))\n",
    "test_filter = np.where((test_labels == 3) | (test_labels == 8))\n",
    "X_train, y_train = train_images[train_filter], train_labels[train_filter]\n",
    "X_test, y_test = test_images[test_filter], test_labels[test_filter]"
   ]
  },
  {
   "cell_type": "markdown",
   "id": "948f0b7e",
   "metadata": {
    "papermill": {
     "duration": 0.026016,
     "end_time": "2021-11-26T00:22:35.559155",
     "exception": false,
     "start_time": "2021-11-26T00:22:35.533139",
     "status": "completed"
    },
    "tags": []
   },
   "source": [
    "We normalize the pizel values in the 0 to 1 range"
   ]
  },
  {
   "cell_type": "code",
   "execution_count": 11,
   "id": "ee4c2166",
   "metadata": {
    "execution": {
     "iopub.execute_input": "2021-11-26T00:22:35.629763Z",
     "iopub.status.busy": "2021-11-26T00:22:35.629233Z",
     "iopub.status.idle": "2021-11-26T00:22:35.669446Z",
     "shell.execute_reply": "2021-11-26T00:22:35.668899Z"
    },
    "papermill": {
     "duration": 0.084542,
     "end_time": "2021-11-26T00:22:35.669598",
     "exception": false,
     "start_time": "2021-11-26T00:22:35.585056",
     "status": "completed"
    },
    "tags": []
   },
   "outputs": [],
   "source": [
    "X_train = X_train/255.\n",
    "X_test = X_test/255."
   ]
  },
  {
   "cell_type": "markdown",
   "id": "ddcf4fab",
   "metadata": {
    "papermill": {
     "duration": 0.026718,
     "end_time": "2021-11-26T00:22:35.723263",
     "exception": false,
     "start_time": "2021-11-26T00:22:35.696545",
     "status": "completed"
    },
    "tags": []
   },
   "source": [
    "And setup the labels as 1 (when the digit is 3) and 0 (when the digit is 8)"
   ]
  },
  {
   "cell_type": "code",
   "execution_count": 12,
   "id": "7dc908f2",
   "metadata": {
    "execution": {
     "iopub.execute_input": "2021-11-26T00:22:35.780260Z",
     "iopub.status.busy": "2021-11-26T00:22:35.779281Z",
     "iopub.status.idle": "2021-11-26T00:22:35.792373Z",
     "shell.execute_reply": "2021-11-26T00:22:35.792798Z"
    },
    "papermill": {
     "duration": 0.043653,
     "end_time": "2021-11-26T00:22:35.792941",
     "exception": false,
     "start_time": "2021-11-26T00:22:35.749288",
     "status": "completed"
    },
    "tags": []
   },
   "outputs": [],
   "source": [
    "y_train = 1*(y_train==3)\n",
    "y_test = 1*(y_test==3)"
   ]
  },
  {
   "cell_type": "code",
   "execution_count": 13,
   "id": "01e4e969",
   "metadata": {
    "execution": {
     "iopub.execute_input": "2021-11-26T00:22:35.863444Z",
     "iopub.status.busy": "2021-11-26T00:22:35.860893Z",
     "iopub.status.idle": "2021-11-26T00:22:35.866535Z",
     "shell.execute_reply": "2021-11-26T00:22:35.866125Z"
    },
    "papermill": {
     "duration": 0.047307,
     "end_time": "2021-11-26T00:22:35.866649",
     "exception": false,
     "start_time": "2021-11-26T00:22:35.819342",
     "status": "completed"
    },
    "tags": []
   },
   "outputs": [
    {
     "data": {
      "text/plain": [
       "((11982, 28, 28), (1984, 28, 28))"
      ]
     },
     "execution_count": 13,
     "metadata": {},
     "output_type": "execute_result"
    }
   ],
   "source": [
    "X_train.shape, X_test.shape"
   ]
  },
  {
   "cell_type": "markdown",
   "id": "5ccf3f85",
   "metadata": {
    "papermill": {
     "duration": 0.026146,
     "end_time": "2021-11-26T00:22:35.918885",
     "exception": false,
     "start_time": "2021-11-26T00:22:35.892739",
     "status": "completed"
    },
    "tags": []
   },
   "source": [
    "We reshape the data to flatten the image pixels into a set of features or co-variates:"
   ]
  },
  {
   "cell_type": "code",
   "execution_count": 14,
   "id": "5286a4a3",
   "metadata": {
    "execution": {
     "iopub.execute_input": "2021-11-26T00:22:35.978322Z",
     "iopub.status.busy": "2021-11-26T00:22:35.977800Z",
     "iopub.status.idle": "2021-11-26T00:22:35.989743Z",
     "shell.execute_reply": "2021-11-26T00:22:35.989304Z"
    },
    "papermill": {
     "duration": 0.044571,
     "end_time": "2021-11-26T00:22:35.989855",
     "exception": false,
     "start_time": "2021-11-26T00:22:35.945284",
     "status": "completed"
    },
    "tags": []
   },
   "outputs": [
    {
     "data": {
      "text/plain": [
       "((11982, 784), (1984, 784))"
      ]
     },
     "execution_count": 14,
     "metadata": {},
     "output_type": "execute_result"
    }
   ],
   "source": [
    "X_train = X_train.reshape(X_train.shape[0], -1)\n",
    "X_test = X_test.reshape(X_test.shape[0], -1)\n",
    "X_train.shape, X_test.shape"
   ]
  },
  {
   "cell_type": "code",
   "execution_count": 15,
   "id": "73c5f88a",
   "metadata": {
    "execution": {
     "iopub.execute_input": "2021-11-26T00:22:36.049293Z",
     "iopub.status.busy": "2021-11-26T00:22:36.048777Z",
     "iopub.status.idle": "2021-11-26T00:22:36.066660Z",
     "shell.execute_reply": "2021-11-26T00:22:36.066245Z"
    },
    "papermill": {
     "duration": 0.050474,
     "end_time": "2021-11-26T00:22:36.066775",
     "exception": false,
     "start_time": "2021-11-26T00:22:36.016301",
     "status": "completed"
    },
    "tags": []
   },
   "outputs": [],
   "source": [
    "#Impoting functions from 'Kudzu'\n",
    "from kudzu.model import Model\n",
    "from kudzu.train import Learner\n",
    "from kudzu.optim import GD\n",
    "from kudzu.data import Data, Sampler,Dataloader\n",
    "\n",
    "from kudzu.callbacks import AccCallback\n",
    "from kudzu.callbacks import ClfCallback\n",
    "\n",
    "from kudzu.loss import MSE\n",
    "\n",
    "from kudzu.layer import Sigmoid,Relu\n",
    "from kudzu.layer import Affine"
   ]
  },
  {
   "cell_type": "markdown",
   "id": "bc01172a",
   "metadata": {
    "papermill": {
     "duration": 0.026984,
     "end_time": "2021-11-26T00:22:36.120525",
     "exception": false,
     "start_time": "2021-11-26T00:22:36.093541",
     "status": "completed"
    },
    "tags": []
   },
   "source": [
    "### Let us create a `Config` class, to store important parameters. \n",
    "This class essentially plays the role of a dictionary."
   ]
  },
  {
   "cell_type": "code",
   "execution_count": 16,
   "id": "978281aa",
   "metadata": {
    "execution": {
     "iopub.execute_input": "2021-11-26T00:22:36.181410Z",
     "iopub.status.busy": "2021-11-26T00:22:36.180885Z",
     "iopub.status.idle": "2021-11-26T00:22:36.191784Z",
     "shell.execute_reply": "2021-11-26T00:22:36.192221Z"
    },
    "papermill": {
     "duration": 0.045383,
     "end_time": "2021-11-26T00:22:36.192365",
     "exception": false,
     "start_time": "2021-11-26T00:22:36.146982",
     "status": "completed"
    },
    "tags": []
   },
   "outputs": [],
   "source": [
    "class Config:\n",
    "    pass\n",
    "config = Config()\n",
    "config.lr = 0.001\n",
    "config.num_epochs = 250\n",
    "config.bs = 50"
   ]
  },
  {
   "cell_type": "markdown",
   "id": "1385fa59",
   "metadata": {
    "papermill": {
     "duration": 0.026661,
     "end_time": "2021-11-26T00:22:36.245719",
     "exception": false,
     "start_time": "2021-11-26T00:22:36.219058",
     "status": "completed"
    },
    "tags": []
   },
   "source": [
    "### Running Models with the Training data\n",
    "Details about the network layers:\n",
    "- A first affine layer has 784 inputs and does 100 affine transforms. These are followed by a Relu\n",
    "- A second affine layer has 100 inputs from the 100 activations of the past layer, and does 100 affine transforms. These are followed by a Relu\n",
    "- A third affine layer has 100 activations and does 2 affine transformations to create an embedding for visualization. There is no non-linearity here.\n",
    "- A final \"logistic regression\" which has an affine transform from 2 inputs to 1 output, which is squeezed through a sigmoid.\n"
   ]
  },
  {
   "cell_type": "code",
   "execution_count": 17,
   "id": "2b9c66db",
   "metadata": {
    "execution": {
     "iopub.execute_input": "2021-11-26T00:22:36.303473Z",
     "iopub.status.busy": "2021-11-26T00:22:36.302953Z",
     "iopub.status.idle": "2021-11-26T00:22:36.315306Z",
     "shell.execute_reply": "2021-11-26T00:22:36.314865Z"
    },
    "papermill": {
     "duration": 0.043055,
     "end_time": "2021-11-26T00:22:36.315419",
     "exception": false,
     "start_time": "2021-11-26T00:22:36.272364",
     "status": "completed"
    },
    "tags": []
   },
   "outputs": [],
   "source": [
    "data = Data(X_train, y_train.reshape(-1,1))\n",
    "sampler = Sampler(data, config.bs, shuffle=True)\n",
    "\n",
    "dl = Dataloader(data, sampler)\n",
    "\n",
    "opt = GD(config.lr)\n",
    "loss = MSE()"
   ]
  },
  {
   "cell_type": "code",
   "execution_count": 18,
   "id": "b275e4c2",
   "metadata": {
    "execution": {
     "iopub.execute_input": "2021-11-26T00:22:36.372657Z",
     "iopub.status.busy": "2021-11-26T00:22:36.372119Z",
     "iopub.status.idle": "2021-11-26T00:22:36.383990Z",
     "shell.execute_reply": "2021-11-26T00:22:36.384407Z"
    },
    "papermill": {
     "duration": 0.042496,
     "end_time": "2021-11-26T00:22:36.384544",
     "exception": false,
     "start_time": "2021-11-26T00:22:36.342048",
     "status": "completed"
    },
    "tags": []
   },
   "outputs": [],
   "source": [
    "training_data_x = X_train\n",
    "testing_data_x = X_test\n",
    "training_data_y = y_train.reshape(-1,1)\n",
    "testing_data_y = y_test.reshape(-1,1)"
   ]
  },
  {
   "cell_type": "code",
   "execution_count": 19,
   "id": "76951160",
   "metadata": {
    "execution": {
     "iopub.execute_input": "2021-11-26T00:22:36.443307Z",
     "iopub.status.busy": "2021-11-26T00:22:36.442790Z",
     "iopub.status.idle": "2021-11-26T00:22:36.458478Z",
     "shell.execute_reply": "2021-11-26T00:22:36.458918Z"
    },
    "papermill": {
     "duration": 0.04809,
     "end_time": "2021-11-26T00:22:36.459048",
     "exception": false,
     "start_time": "2021-11-26T00:22:36.410958",
     "status": "completed"
    },
    "tags": []
   },
   "outputs": [
    {
     "name": "stdout",
     "output_type": "stream",
     "text": [
      "xavier\n",
      "xavier\n",
      "xavier\n",
      "xavier\n",
      "xavier\n"
     ]
    }
   ],
   "source": [
    "layers = [Affine(\"first\", 784, 100), Relu(\"first\"), Affine(\"second\", 100, 100), Relu(\"second\"), Affine(\"third\", 100, 2), Affine(\"last\", 2, 1), Sigmoid(\"last\")]\n",
    "model_nn = Model(layers)\n",
    "model_lr = Model([Affine(\"logits\", 784, 1), Sigmoid(\"sigmoid\")])"
   ]
  },
  {
   "cell_type": "code",
   "execution_count": 20,
   "id": "6eede77a",
   "metadata": {
    "execution": {
     "iopub.execute_input": "2021-11-26T00:22:36.519109Z",
     "iopub.status.busy": "2021-11-26T00:22:36.518599Z",
     "iopub.status.idle": "2021-11-26T00:22:36.529146Z",
     "shell.execute_reply": "2021-11-26T00:22:36.528736Z"
    },
    "papermill": {
     "duration": 0.043119,
     "end_time": "2021-11-26T00:22:36.529258",
     "exception": false,
     "start_time": "2021-11-26T00:22:36.486139",
     "status": "completed"
    },
    "tags": []
   },
   "outputs": [],
   "source": [
    "nn_learner = Learner(loss, model_nn, opt, config.num_epochs)\n",
    "acc_nn = ClfCallback(nn_learner, config.bs, training_data_x , testing_data_x, training_data_y, testing_data_y)\n",
    "nn_learner.set_callbacks([acc_nn])"
   ]
  },
  {
   "cell_type": "code",
   "execution_count": 21,
   "id": "877b6cc7",
   "metadata": {
    "execution": {
     "iopub.execute_input": "2021-11-26T00:22:36.586364Z",
     "iopub.status.busy": "2021-11-26T00:22:36.585858Z",
     "iopub.status.idle": "2021-11-26T00:22:36.598178Z",
     "shell.execute_reply": "2021-11-26T00:22:36.597766Z"
    },
    "papermill": {
     "duration": 0.042328,
     "end_time": "2021-11-26T00:22:36.598290",
     "exception": false,
     "start_time": "2021-11-26T00:22:36.555962",
     "status": "completed"
    },
    "tags": []
   },
   "outputs": [],
   "source": [
    "lr_learner = Learner(loss, model_lr, opt, config.num_epochs)\n",
    "acc_lr = ClfCallback(lr_learner, config.bs, training_data_x , testing_data_x, training_data_y, testing_data_y)\n",
    "lr_learner.set_callbacks([acc_lr])"
   ]
  },
  {
   "cell_type": "code",
   "execution_count": 22,
   "id": "d9b133c3",
   "metadata": {
    "execution": {
     "iopub.execute_input": "2021-11-26T00:22:36.657406Z",
     "iopub.status.busy": "2021-11-26T00:22:36.656888Z",
     "iopub.status.idle": "2021-11-26T00:23:52.768981Z",
     "shell.execute_reply": "2021-11-26T00:23:52.769488Z"
    },
    "papermill": {
     "duration": 76.144296,
     "end_time": "2021-11-26T00:23:52.769639",
     "exception": false,
     "start_time": "2021-11-26T00:22:36.625343",
     "status": "completed"
    },
    "tags": []
   },
   "outputs": [
    {
     "name": "stdout",
     "output_type": "stream",
     "text": [
      "Epoch 0, Loss 0.2539\n",
      "Training Accuracy: 0.4920, Testing Accuracy: 0.4773\n",
      "\n"
     ]
    },
    {
     "name": "stdout",
     "output_type": "stream",
     "text": [
      "Epoch 10, Loss 0.2138\n",
      "Training Accuracy: 0.8103, Testing Accuracy: 0.8105\n",
      "\n"
     ]
    },
    {
     "name": "stdout",
     "output_type": "stream",
     "text": [
      "Epoch 20, Loss 0.1226\n",
      "Training Accuracy: 0.8904, Testing Accuracy: 0.8997\n",
      "\n"
     ]
    },
    {
     "name": "stdout",
     "output_type": "stream",
     "text": [
      "Epoch 30, Loss 0.0705\n",
      "Training Accuracy: 0.9272, Testing Accuracy: 0.9390\n",
      "\n"
     ]
    },
    {
     "name": "stdout",
     "output_type": "stream",
     "text": [
      "Epoch 40, Loss 0.0522\n",
      "Training Accuracy: 0.9421, Testing Accuracy: 0.9521\n",
      "\n"
     ]
    },
    {
     "name": "stdout",
     "output_type": "stream",
     "text": [
      "Epoch 50, Loss 0.0439\n",
      "Training Accuracy: 0.9492, Testing Accuracy: 0.9577\n",
      "\n"
     ]
    },
    {
     "name": "stdout",
     "output_type": "stream",
     "text": [
      "Epoch 60, Loss 0.0391\n",
      "Training Accuracy: 0.9544, Testing Accuracy: 0.9622\n",
      "\n"
     ]
    },
    {
     "name": "stdout",
     "output_type": "stream",
     "text": [
      "Epoch 70, Loss 0.036\n",
      "Training Accuracy: 0.9572, Testing Accuracy: 0.9652\n",
      "\n"
     ]
    },
    {
     "name": "stdout",
     "output_type": "stream",
     "text": [
      "Epoch 80, Loss 0.0338\n",
      "Training Accuracy: 0.9597, Testing Accuracy: 0.9652\n",
      "\n"
     ]
    },
    {
     "name": "stdout",
     "output_type": "stream",
     "text": [
      "Epoch 90, Loss 0.032\n",
      "Training Accuracy: 0.9613, Testing Accuracy: 0.9677\n",
      "\n"
     ]
    },
    {
     "name": "stdout",
     "output_type": "stream",
     "text": [
      "Epoch 100, Loss 0.0306\n",
      "Training Accuracy: 0.9633, Testing Accuracy: 0.9682\n",
      "\n"
     ]
    },
    {
     "name": "stdout",
     "output_type": "stream",
     "text": [
      "Epoch 110, Loss 0.0294\n",
      "Training Accuracy: 0.9649, Testing Accuracy: 0.9703\n",
      "\n"
     ]
    },
    {
     "name": "stdout",
     "output_type": "stream",
     "text": [
      "Epoch 120, Loss 0.0284\n",
      "Training Accuracy: 0.9665, Testing Accuracy: 0.9703\n",
      "\n"
     ]
    },
    {
     "name": "stdout",
     "output_type": "stream",
     "text": [
      "Epoch 130, Loss 0.0275\n",
      "Training Accuracy: 0.9680, Testing Accuracy: 0.9713\n",
      "\n"
     ]
    },
    {
     "name": "stdout",
     "output_type": "stream",
     "text": [
      "Epoch 140, Loss 0.0268\n",
      "Training Accuracy: 0.9689, Testing Accuracy: 0.9713\n",
      "\n"
     ]
    },
    {
     "name": "stdout",
     "output_type": "stream",
     "text": [
      "Epoch 150, Loss 0.0261\n",
      "Training Accuracy: 0.9695, Testing Accuracy: 0.9718\n",
      "\n"
     ]
    },
    {
     "name": "stdout",
     "output_type": "stream",
     "text": [
      "Epoch 160, Loss 0.0254\n",
      "Training Accuracy: 0.9706, Testing Accuracy: 0.9718\n",
      "\n"
     ]
    },
    {
     "name": "stdout",
     "output_type": "stream",
     "text": [
      "Epoch 170, Loss 0.0248\n",
      "Training Accuracy: 0.9719, Testing Accuracy: 0.9713\n",
      "\n"
     ]
    },
    {
     "name": "stdout",
     "output_type": "stream",
     "text": [
      "Epoch 180, Loss 0.0243\n",
      "Training Accuracy: 0.9725, Testing Accuracy: 0.9713\n",
      "\n"
     ]
    },
    {
     "name": "stdout",
     "output_type": "stream",
     "text": [
      "Epoch 190, Loss 0.0238\n",
      "Training Accuracy: 0.9731, Testing Accuracy: 0.9708\n",
      "\n"
     ]
    },
    {
     "name": "stdout",
     "output_type": "stream",
     "text": [
      "Epoch 200, Loss 0.0233\n",
      "Training Accuracy: 0.9734, Testing Accuracy: 0.9713\n",
      "\n"
     ]
    },
    {
     "name": "stdout",
     "output_type": "stream",
     "text": [
      "Epoch 210, Loss 0.0228\n",
      "Training Accuracy: 0.9740, Testing Accuracy: 0.9713\n",
      "\n"
     ]
    },
    {
     "name": "stdout",
     "output_type": "stream",
     "text": [
      "Epoch 220, Loss 0.0224\n",
      "Training Accuracy: 0.9740, Testing Accuracy: 0.9718\n",
      "\n"
     ]
    },
    {
     "name": "stdout",
     "output_type": "stream",
     "text": [
      "Epoch 230, Loss 0.022\n",
      "Training Accuracy: 0.9746, Testing Accuracy: 0.9718\n",
      "\n"
     ]
    },
    {
     "name": "stdout",
     "output_type": "stream",
     "text": [
      "Epoch 240, Loss 0.0216\n",
      "Training Accuracy: 0.9750, Testing Accuracy: 0.9718\n",
      "\n"
     ]
    },
    {
     "data": {
      "text/plain": [
       "0.06919788937500082"
      ]
     },
     "execution_count": 22,
     "metadata": {},
     "output_type": "execute_result"
    }
   ],
   "source": [
    "nn_learner.train_loop(dl)"
   ]
  },
  {
   "cell_type": "code",
   "execution_count": 23,
   "id": "e0163366",
   "metadata": {
    "execution": {
     "iopub.execute_input": "2021-11-26T00:23:52.881018Z",
     "iopub.status.busy": "2021-11-26T00:23:52.880484Z",
     "iopub.status.idle": "2021-11-26T00:24:06.796785Z",
     "shell.execute_reply": "2021-11-26T00:24:06.797545Z"
    },
    "papermill": {
     "duration": 13.983979,
     "end_time": "2021-11-26T00:24:06.797710",
     "exception": false,
     "start_time": "2021-11-26T00:23:52.813731",
     "status": "completed"
    },
    "tags": []
   },
   "outputs": [
    {
     "name": "stdout",
     "output_type": "stream",
     "text": [
      "Epoch 0, Loss 0.2279\n",
      "Training Accuracy: 0.7318, Testing Accuracy: 0.7525\n",
      "\n"
     ]
    },
    {
     "name": "stdout",
     "output_type": "stream",
     "text": [
      "Epoch 10, Loss 0.104\n",
      "Training Accuracy: 0.9049, Testing Accuracy: 0.9153\n",
      "\n"
     ]
    },
    {
     "name": "stdout",
     "output_type": "stream",
     "text": [
      "Epoch 20, Loss 0.0805\n",
      "Training Accuracy: 0.9246, Testing Accuracy: 0.9325\n",
      "\n"
     ]
    },
    {
     "name": "stdout",
     "output_type": "stream",
     "text": [
      "Epoch 30, Loss 0.0693\n",
      "Training Accuracy: 0.9332, Testing Accuracy: 0.9446\n",
      "\n"
     ]
    },
    {
     "name": "stdout",
     "output_type": "stream",
     "text": [
      "Epoch 40, Loss 0.0625\n",
      "Training Accuracy: 0.9398, Testing Accuracy: 0.9496\n",
      "\n"
     ]
    },
    {
     "name": "stdout",
     "output_type": "stream",
     "text": [
      "Epoch 50, Loss 0.0578\n",
      "Training Accuracy: 0.9435, Testing Accuracy: 0.9572\n",
      "\n"
     ]
    },
    {
     "name": "stdout",
     "output_type": "stream",
     "text": [
      "Epoch 60, Loss 0.0544\n",
      "Training Accuracy: 0.9463, Testing Accuracy: 0.9577\n",
      "\n"
     ]
    },
    {
     "name": "stdout",
     "output_type": "stream",
     "text": [
      "Epoch 70, Loss 0.0518\n",
      "Training Accuracy: 0.9483, Testing Accuracy: 0.9592\n",
      "\n"
     ]
    },
    {
     "name": "stdout",
     "output_type": "stream",
     "text": [
      "Epoch 80, Loss 0.0497\n",
      "Training Accuracy: 0.9505, Testing Accuracy: 0.9607\n",
      "\n"
     ]
    },
    {
     "name": "stdout",
     "output_type": "stream",
     "text": [
      "Epoch 90, Loss 0.048\n",
      "Training Accuracy: 0.9517, Testing Accuracy: 0.9602\n",
      "\n"
     ]
    },
    {
     "name": "stdout",
     "output_type": "stream",
     "text": [
      "Epoch 100, Loss 0.0465\n",
      "Training Accuracy: 0.9529, Testing Accuracy: 0.9612\n",
      "\n"
     ]
    },
    {
     "name": "stdout",
     "output_type": "stream",
     "text": [
      "Epoch 110, Loss 0.0453\n",
      "Training Accuracy: 0.9535, Testing Accuracy: 0.9627\n",
      "\n"
     ]
    },
    {
     "name": "stdout",
     "output_type": "stream",
     "text": [
      "Epoch 120, Loss 0.0442\n",
      "Training Accuracy: 0.9542, Testing Accuracy: 0.9637\n",
      "\n"
     ]
    },
    {
     "name": "stdout",
     "output_type": "stream",
     "text": [
      "Epoch 130, Loss 0.0432\n",
      "Training Accuracy: 0.9548, Testing Accuracy: 0.9637\n",
      "\n"
     ]
    },
    {
     "name": "stdout",
     "output_type": "stream",
     "text": [
      "Epoch 140, Loss 0.0424\n",
      "Training Accuracy: 0.9560, Testing Accuracy: 0.9642\n",
      "\n"
     ]
    },
    {
     "name": "stdout",
     "output_type": "stream",
     "text": [
      "Epoch 150, Loss 0.0416\n",
      "Training Accuracy: 0.9571, Testing Accuracy: 0.9642\n",
      "\n"
     ]
    },
    {
     "name": "stdout",
     "output_type": "stream",
     "text": [
      "Epoch 160, Loss 0.0409\n",
      "Training Accuracy: 0.9577, Testing Accuracy: 0.9637\n",
      "\n"
     ]
    },
    {
     "name": "stdout",
     "output_type": "stream",
     "text": [
      "Epoch 170, Loss 0.0403\n",
      "Training Accuracy: 0.9579, Testing Accuracy: 0.9637\n",
      "\n"
     ]
    },
    {
     "name": "stdout",
     "output_type": "stream",
     "text": [
      "Epoch 180, Loss 0.0397\n",
      "Training Accuracy: 0.9586, Testing Accuracy: 0.9637\n",
      "\n"
     ]
    },
    {
     "name": "stdout",
     "output_type": "stream",
     "text": [
      "Epoch 190, Loss 0.0392\n",
      "Training Accuracy: 0.9591, Testing Accuracy: 0.9642\n",
      "\n"
     ]
    },
    {
     "name": "stdout",
     "output_type": "stream",
     "text": [
      "Epoch 200, Loss 0.0387\n",
      "Training Accuracy: 0.9594, Testing Accuracy: 0.9642\n",
      "\n"
     ]
    },
    {
     "name": "stdout",
     "output_type": "stream",
     "text": [
      "Epoch 210, Loss 0.0383\n",
      "Training Accuracy: 0.9597, Testing Accuracy: 0.9642\n",
      "\n"
     ]
    },
    {
     "name": "stdout",
     "output_type": "stream",
     "text": [
      "Epoch 220, Loss 0.0378\n",
      "Training Accuracy: 0.9598, Testing Accuracy: 0.9652\n",
      "\n"
     ]
    },
    {
     "name": "stdout",
     "output_type": "stream",
     "text": [
      "Epoch 230, Loss 0.0374\n",
      "Training Accuracy: 0.9599, Testing Accuracy: 0.9657\n",
      "\n"
     ]
    },
    {
     "name": "stdout",
     "output_type": "stream",
     "text": [
      "Epoch 240, Loss 0.0371\n",
      "Training Accuracy: 0.9603, Testing Accuracy: 0.9667\n",
      "\n"
     ]
    },
    {
     "data": {
      "text/plain": [
       "0.05753774543210463"
      ]
     },
     "execution_count": 23,
     "metadata": {},
     "output_type": "execute_result"
    }
   ],
   "source": [
    "lr_learner.train_loop(dl)"
   ]
  },
  {
   "cell_type": "code",
   "execution_count": 24,
   "id": "ca410940",
   "metadata": {
    "execution": {
     "iopub.execute_input": "2021-11-26T00:24:06.889859Z",
     "iopub.status.busy": "2021-11-26T00:24:06.889320Z",
     "iopub.status.idle": "2021-11-26T00:24:07.115149Z",
     "shell.execute_reply": "2021-11-26T00:24:07.114691Z"
    },
    "papermill": {
     "duration": 0.276009,
     "end_time": "2021-11-26T00:24:07.115277",
     "exception": false,
     "start_time": "2021-11-26T00:24:06.839268",
     "status": "completed"
    },
    "tags": []
   },
   "outputs": [
    {
     "data": {
      "text/plain": [
       "<matplotlib.legend.Legend at 0x7f55744a18d0>"
      ]
     },
     "execution_count": 24,
     "metadata": {},
     "output_type": "execute_result"
    },
    {
     "data": {
      "image/png": "[encoded data removed]",
      "text/plain": [
       "<Figure size 1080x720 with 1 Axes>"
      ]
     },
     "metadata": {
      "needs_background": "light"
     },
     "output_type": "display_data"
    }
   ],
   "source": [
    "#comparing the results of NN and LR\n",
    "plt.figure(figsize=(15,10))\n",
    "\n",
    "# Neural Network plots\n",
    "plt.plot(acc_nn.accuracies, 'r-', label = \"Training Accuracies - NN\")\n",
    "plt.plot(acc_nn.test_accuracies, 'g-', label = \"Testing Accuracies - NN\")\n",
    "\n",
    "# Logistic Regression plots\n",
    "plt.plot(acc_lr.accuracies, 'k-', label = \"Training Accuracies - LR\")\n",
    "plt.plot(acc_lr.test_accuracies, 'b-', label = \"Testing Accuracies - LR\")\n",
    "plt.legend()"
   ]
  },
  {
   "cell_type": "markdown",
   "id": "80dfb35c",
   "metadata": {
    "papermill": {
     "duration": 0.041701,
     "end_time": "2021-11-26T00:24:07.199125",
     "exception": false,
     "start_time": "2021-11-26T00:24:07.157424",
     "status": "completed"
    },
    "tags": []
   },
   "source": [
    "#### Plotting the outputs of this layer of the NN.\n"
   ]
  },
  {
   "cell_type": "code",
   "execution_count": 25,
   "id": "45eb2ff5",
   "metadata": {
    "execution": {
     "iopub.execute_input": "2021-11-26T00:24:07.289655Z",
     "iopub.status.busy": "2021-11-26T00:24:07.289112Z",
     "iopub.status.idle": "2021-11-26T00:24:07.308253Z",
     "shell.execute_reply": "2021-11-26T00:24:07.308687Z"
    },
    "papermill": {
     "duration": 0.067962,
     "end_time": "2021-11-26T00:24:07.308835",
     "exception": false,
     "start_time": "2021-11-26T00:24:07.240873",
     "status": "completed"
    },
    "tags": []
   },
   "outputs": [],
   "source": [
    "new_model = Model(layers[:-2])\n",
    "testing_plot = new_model(testing_data_x)"
   ]
  },
  {
   "cell_type": "code",
   "execution_count": 26,
   "id": "4c0a5485",
   "metadata": {
    "execution": {
     "iopub.execute_input": "2021-11-26T00:24:07.399054Z",
     "iopub.status.busy": "2021-11-26T00:24:07.397902Z",
     "iopub.status.idle": "2021-11-26T00:24:07.592767Z",
     "shell.execute_reply": "2021-11-26T00:24:07.593170Z"
    },
    "papermill": {
     "duration": 0.242337,
     "end_time": "2021-11-26T00:24:07.593323",
     "exception": false,
     "start_time": "2021-11-26T00:24:07.350986",
     "status": "completed"
    },
    "tags": []
   },
   "outputs": [
    {
     "data": {
      "text/plain": [
       "Text(0.5, 1.0, 'Outputs')"
      ]
     },
     "execution_count": 26,
     "metadata": {},
     "output_type": "execute_result"
    },
    {
     "data": {
      "image/png": "[encoded data removed]",
      "text/plain": [
       "<Figure size 576x504 with 1 Axes>"
      ]
     },
     "metadata": {
      "needs_background": "light"
     },
     "output_type": "display_data"
    }
   ],
   "source": [
    "# Plotting the scatter plot of points and color coding by class\n",
    "plt.figure(figsize=(8,7))\n",
    "plt.scatter(testing_plot[:,0], testing_plot[:,1], alpha = 0.1, c = y_test.ravel());\n",
    "plt.title('Outputs')"
   ]
  },
  {
   "cell_type": "markdown",
   "id": "a74fcf8f",
   "metadata": {
    "papermill": {
     "duration": 0.043711,
     "end_time": "2021-11-26T00:24:07.681023",
     "exception": false,
     "start_time": "2021-11-26T00:24:07.637312",
     "status": "completed"
    },
    "tags": []
   },
   "source": [
    "Probability contours"
   ]
  },
  {
   "cell_type": "code",
   "execution_count": 27,
   "id": "d0afc8e3",
   "metadata": {
    "execution": {
     "iopub.execute_input": "2021-11-26T00:24:07.780537Z",
     "iopub.status.busy": "2021-11-26T00:24:07.779697Z",
     "iopub.status.idle": "2021-11-26T00:24:07.787006Z",
     "shell.execute_reply": "2021-11-26T00:24:07.787392Z"
    },
    "papermill": {
     "duration": 0.06269,
     "end_time": "2021-11-26T00:24:07.787534",
     "exception": false,
     "start_time": "2021-11-26T00:24:07.724844",
     "status": "completed"
    },
    "tags": []
   },
   "outputs": [],
   "source": [
    "model_prob = Model(layers[-2:]) "
   ]
  },
  {
   "cell_type": "code",
   "execution_count": 28,
   "id": "9b96e238",
   "metadata": {
    "execution": {
     "iopub.execute_input": "2021-11-26T00:24:07.880474Z",
     "iopub.status.busy": "2021-11-26T00:24:07.879551Z",
     "iopub.status.idle": "2021-11-26T00:24:07.895239Z",
     "shell.execute_reply": "2021-11-26T00:24:07.894311Z"
    },
    "papermill": {
     "duration": 0.064088,
     "end_time": "2021-11-26T00:24:07.895368",
     "exception": false,
     "start_time": "2021-11-26T00:24:07.831280",
     "status": "completed"
    },
    "tags": []
   },
   "outputs": [],
   "source": [
    "#creating the x and y ranges according to the above generated plot.\n",
    "x_range = np.linspace(-4, 1, 100) \n",
    "y_range = np.linspace(-6, 6, 100) \n",
    "x_grid, y_grid = np.meshgrid(x_range, y_range) # x_grid and y_grig are of size 100 X 100\n",
    "\n",
    "# converting x_grid and y_grid to continuous arrays\n",
    "x_gridflat = np.ravel(x_grid)\n",
    "y_gridflat = np.ravel(y_grid)\n",
    "\n",
    "# The last layer of the current model takes two columns as input. Hence transpose of np.vstack() is required.\n",
    "X = np.vstack((x_gridflat, y_gridflat)).T\n",
    "\n",
    "prob_contour = model_prob(X).reshape(100,100) "
   ]
  },
  {
   "cell_type": "code",
   "execution_count": 29,
   "id": "da72499a",
   "metadata": {
    "execution": {
     "iopub.execute_input": "2021-11-26T00:24:08.017085Z",
     "iopub.status.busy": "2021-11-26T00:24:08.016552Z",
     "iopub.status.idle": "2021-11-26T00:24:08.265014Z",
     "shell.execute_reply": "2021-11-26T00:24:08.265429Z"
    },
    "papermill": {
     "duration": 0.326381,
     "end_time": "2021-11-26T00:24:08.265573",
     "exception": false,
     "start_time": "2021-11-26T00:24:07.939192",
     "status": "completed"
    },
    "tags": []
   },
   "outputs": [
    {
     "data": {
      "image/png": "[encoded data removed]",
      "text/plain": [
       "<Figure size 720x648 with 1 Axes>"
      ]
     },
     "metadata": {
      "needs_background": "light"
     },
     "output_type": "display_data"
    }
   ],
   "source": [
    "plt.figure(figsize=(10,9))\n",
    "plt.scatter(testing_plot[:,0], testing_plot[:,1], alpha = 0.1, c = y_test.ravel())\n",
    "contours = plt.contour(x_grid,y_grid,prob_contour)\n",
    "plt.title('Probability Contours')\n",
    "plt.clabel(contours, inline = True );"
   ]
  },
  {
   "cell_type": "code",
   "execution_count": null,
   "id": "e81b4ac7",
   "metadata": {
    "papermill": {
     "duration": 0.046604,
     "end_time": "2021-11-26T00:24:08.359424",
     "exception": false,
     "start_time": "2021-11-26T00:24:08.312820",
     "status": "completed"
    },
    "tags": []
   },
   "outputs": [],
   "source": []
  }
 ],
 "metadata": {
  "kernelspec": {
   "display_name": "Python 3",
   "language": "python",
   "name": "python3"
  },
  "language_info": {
   "codemirror_mode": {
    "name": "ipython",
    "version": 3
   },
   "file_extension": ".py",
   "mimetype": "text/x-python",
   "name": "python",
   "nbconvert_exporter": "python",
   "pygments_lexer": "ipython3",
   "version": "3.6.15"
  },
  "papermill": {
   "default_parameters": {},
   "duration": 99.318031,
   "end_time": "2021-11-26T00:24:08.814739",
   "environment_variables": {},
   "exception": null,
   "input_path": "2020-08-11-part2.ipynb",
   "output_path": "2020-08-11-part2.ipynb",
   "parameters": {},
   "start_time": "2021-11-26T00:22:29.496708",
   "version": "2.3.3"
  }
 },
 "nbformat": 4,
 "nbformat_minor": 5
}