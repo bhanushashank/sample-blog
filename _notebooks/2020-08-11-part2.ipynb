{
 "cells": [
  {
   "cell_type": "markdown",
   "id": "98380cd3",
   "metadata": {
    "papermill": {
     "duration": 0.041898,
     "end_time": "2022-11-02T10:12:37.662892",
     "exception": false,
     "start_time": "2022-11-02T10:12:37.620994",
     "status": "completed"
    },
    "tags": []
   },
   "source": [
    "# Distinguish Your Own Digits (DYOD)"
   ]
  },
  {
   "cell_type": "markdown",
   "id": "ef31240d",
   "metadata": {
    "papermill": {
     "duration": 0.029517,
     "end_time": "2022-11-02T10:12:37.723359",
     "exception": false,
     "start_time": "2022-11-02T10:12:37.693842",
     "status": "completed"
    },
    "tags": []
   },
   "source": [
    "You are going to write a classifier that distinguishes between the number 3 and number 8."
   ]
  },
  {
   "cell_type": "code",
   "execution_count": 1,
   "id": "b15c8646",
   "metadata": {
    "execution": {
     "iopub.execute_input": "2022-11-02T10:12:37.797225Z",
     "iopub.status.busy": "2022-11-02T10:12:37.796437Z",
     "iopub.status.idle": "2022-11-02T10:12:37.808997Z",
     "shell.execute_reply": "2022-11-02T10:12:37.808274Z"
    },
    "papermill": {
     "duration": 0.055485,
     "end_time": "2022-11-02T10:12:37.809214",
     "exception": false,
     "start_time": "2022-11-02T10:12:37.753729",
     "status": "completed"
    },
    "tags": []
   },
   "outputs": [],
   "source": [
    "%load_ext autoreload\n",
    "%autoreload 2"
   ]
  },
  {
   "cell_type": "code",
   "execution_count": 2,
   "id": "22ef38dc",
   "metadata": {
    "execution": {
     "iopub.execute_input": "2022-11-02T10:12:37.875930Z",
     "iopub.status.busy": "2022-11-02T10:12:37.875022Z",
     "iopub.status.idle": "2022-11-02T10:12:38.556055Z",
     "shell.execute_reply": "2022-11-02T10:12:38.555389Z"
    },
    "papermill": {
     "duration": 0.716448,
     "end_time": "2022-11-02T10:12:38.556198",
     "exception": false,
     "start_time": "2022-11-02T10:12:37.839750",
     "status": "completed"
    },
    "tags": []
   },
   "outputs": [],
   "source": [
    "%matplotlib inline\n",
    "import numpy as np\n",
    "import matplotlib.pyplot as plt\n",
    "import pandas as pd"
   ]
  },
  {
   "cell_type": "markdown",
   "id": "ba036198",
   "metadata": {
    "papermill": {
     "duration": 0.030402,
     "end_time": "2022-11-02T10:12:38.616647",
     "exception": false,
     "start_time": "2022-11-02T10:12:38.586245",
     "status": "completed"
    },
    "tags": []
   },
   "source": [
    "From the command line run `pip install mnist`. This is a library that will help you bring down the mnist dataset. If you run this from a notebook, you need to put  `!pip install mnist` in a cell by itself."
   ]
  },
  {
   "cell_type": "code",
   "execution_count": 3,
   "id": "bb6ad8a1",
   "metadata": {
    "execution": {
     "iopub.execute_input": "2022-11-02T10:12:38.683601Z",
     "iopub.status.busy": "2022-11-02T10:12:38.682803Z",
     "iopub.status.idle": "2022-11-02T10:12:41.435234Z",
     "shell.execute_reply": "2022-11-02T10:12:41.434576Z"
    },
    "papermill": {
     "duration": 2.789856,
     "end_time": "2022-11-02T10:12:41.435420",
     "exception": false,
     "start_time": "2022-11-02T10:12:38.645564",
     "status": "completed"
    },
    "tags": []
   },
   "outputs": [
    {
     "name": "stdout",
     "output_type": "stream",
     "text": [
      "Collecting mnist\r\n"
     ]
    },
    {
     "name": "stdout",
     "output_type": "stream",
     "text": [
      "  Downloading mnist-0.2.2-py2.py3-none-any.whl (3.5 kB)\r\n",
      "Requirement already satisfied: numpy in /opt/hostedtoolcache/Python/3.6.15/x64/lib/python3.6/site-packages (from mnist) (1.19.5)\r\n"
     ]
    },
    {
     "name": "stdout",
     "output_type": "stream",
     "text": [
      "Installing collected packages: mnist\r\n"
     ]
    },
    {
     "name": "stdout",
     "output_type": "stream",
     "text": [
      "Successfully installed mnist-0.2.2\r\n"
     ]
    }
   ],
   "source": [
    "!pip install mnist"
   ]
  },
  {
   "cell_type": "markdown",
   "id": "69df9c9a",
   "metadata": {
    "papermill": {
     "duration": 0.033955,
     "end_time": "2022-11-02T10:12:41.499822",
     "exception": false,
     "start_time": "2022-11-02T10:12:41.465867",
     "status": "completed"
    },
    "tags": []
   },
   "source": [
    "## Preparing the Data"
   ]
  },
  {
   "cell_type": "code",
   "execution_count": 4,
   "id": "7f69d806",
   "metadata": {
    "execution": {
     "iopub.execute_input": "2022-11-02T10:12:41.568576Z",
     "iopub.status.busy": "2022-11-02T10:12:41.567820Z",
     "iopub.status.idle": "2022-11-02T10:12:41.584592Z",
     "shell.execute_reply": "2022-11-02T10:12:41.583856Z"
    },
    "papermill": {
     "duration": 0.053096,
     "end_time": "2022-11-02T10:12:41.584745",
     "exception": false,
     "start_time": "2022-11-02T10:12:41.531649",
     "status": "completed"
    },
    "tags": []
   },
   "outputs": [],
   "source": [
    "import mnist"
   ]
  },
  {
   "cell_type": "code",
   "execution_count": 5,
   "id": "a411e44f",
   "metadata": {
    "execution": {
     "iopub.execute_input": "2022-11-02T10:12:41.658624Z",
     "iopub.status.busy": "2022-11-02T10:12:41.654318Z",
     "iopub.status.idle": "2022-11-02T10:12:42.172280Z",
     "shell.execute_reply": "2022-11-02T10:12:42.171589Z"
    },
    "papermill": {
     "duration": 0.555926,
     "end_time": "2022-11-02T10:12:42.172423",
     "exception": false,
     "start_time": "2022-11-02T10:12:41.616497",
     "status": "completed"
    },
    "tags": []
   },
   "outputs": [],
   "source": [
    "train_images = mnist.train_images()\n",
    "train_labels = mnist.train_labels()"
   ]
  },
  {
   "cell_type": "code",
   "execution_count": 6,
   "id": "dceab3a5",
   "metadata": {
    "execution": {
     "iopub.execute_input": "2022-11-02T10:12:42.240016Z",
     "iopub.status.busy": "2022-11-02T10:12:42.239276Z",
     "iopub.status.idle": "2022-11-02T10:12:42.254996Z",
     "shell.execute_reply": "2022-11-02T10:12:42.255730Z"
    },
    "papermill": {
     "duration": 0.053097,
     "end_time": "2022-11-02T10:12:42.255880",
     "exception": false,
     "start_time": "2022-11-02T10:12:42.202783",
     "status": "completed"
    },
    "tags": []
   },
   "outputs": [
    {
     "data": {
      "text/plain": [
       "((60000, 28, 28), (60000,))"
      ]
     },
     "execution_count": 6,
     "metadata": {},
     "output_type": "execute_result"
    }
   ],
   "source": [
    "train_images.shape, train_labels.shape"
   ]
  },
  {
   "cell_type": "code",
   "execution_count": 7,
   "id": "f50dc2bb",
   "metadata": {
    "execution": {
     "iopub.execute_input": "2022-11-02T10:12:42.325448Z",
     "iopub.status.busy": "2022-11-02T10:12:42.324701Z",
     "iopub.status.idle": "2022-11-02T10:12:42.446736Z",
     "shell.execute_reply": "2022-11-02T10:12:42.446075Z"
    },
    "papermill": {
     "duration": 0.159662,
     "end_time": "2022-11-02T10:12:42.446886",
     "exception": false,
     "start_time": "2022-11-02T10:12:42.287224",
     "status": "completed"
    },
    "tags": []
   },
   "outputs": [],
   "source": [
    "test_images = mnist.test_images()\n",
    "test_labels = mnist.test_labels()"
   ]
  },
  {
   "cell_type": "code",
   "execution_count": 8,
   "id": "fc38cf1b",
   "metadata": {
    "execution": {
     "iopub.execute_input": "2022-11-02T10:12:42.522547Z",
     "iopub.status.busy": "2022-11-02T10:12:42.521800Z",
     "iopub.status.idle": "2022-11-02T10:12:42.537095Z",
     "shell.execute_reply": "2022-11-02T10:12:42.537842Z"
    },
    "papermill": {
     "duration": 0.058995,
     "end_time": "2022-11-02T10:12:42.538018",
     "exception": false,
     "start_time": "2022-11-02T10:12:42.479023",
     "status": "completed"
    },
    "tags": []
   },
   "outputs": [
    {
     "data": {
      "text/plain": [
       "((10000, 28, 28), (10000,))"
      ]
     },
     "execution_count": 8,
     "metadata": {},
     "output_type": "execute_result"
    }
   ],
   "source": [
    "test_images.shape, test_labels.shape"
   ]
  },
  {
   "cell_type": "code",
   "execution_count": 9,
   "id": "f9ed8fe0",
   "metadata": {
    "execution": {
     "iopub.execute_input": "2022-11-02T10:12:42.608889Z",
     "iopub.status.busy": "2022-11-02T10:12:42.608124Z",
     "iopub.status.idle": "2022-11-02T10:12:42.804915Z",
     "shell.execute_reply": "2022-11-02T10:12:42.805467Z"
    },
    "papermill": {
     "duration": 0.236171,
     "end_time": "2022-11-02T10:12:42.805648",
     "exception": false,
     "start_time": "2022-11-02T10:12:42.569477",
     "status": "completed"
    },
    "tags": []
   },
   "outputs": [
    {
     "name": "stdout",
     "output_type": "stream",
     "text": [
      "2\n"
     ]
    },
    {
     "data": {
      "text/plain": [
       "<matplotlib.image.AxesImage at 0x7f74ca069c18>"
      ]
     },
     "execution_count": 9,
     "metadata": {},
     "output_type": "execute_result"
    },
    {
     "data": {
      "image/png": "[encoded data removed]",
      "text/plain": [
       "<Figure size 432x288 with 1 Axes>"
      ]
     },
     "metadata": {
      "needs_background": "light"
     },
     "output_type": "display_data"
    }
   ],
   "source": [
    "image_index = 7776 # You may select anything up to 60,000\n",
    "print(train_labels[image_index]) \n",
    "plt.imshow(train_images[image_index], cmap='Greys')"
   ]
  },
  {
   "cell_type": "markdown",
   "id": "a8d2388d",
   "metadata": {
    "papermill": {
     "duration": 0.034935,
     "end_time": "2022-11-02T10:12:42.876772",
     "exception": false,
     "start_time": "2022-11-02T10:12:42.841837",
     "status": "completed"
    },
    "tags": []
   },
   "source": [
    "## Filter data to get 3 and 8 out"
   ]
  },
  {
   "cell_type": "code",
   "execution_count": 10,
   "id": "776f7fc7",
   "metadata": {
    "execution": {
     "iopub.execute_input": "2022-11-02T10:12:42.947955Z",
     "iopub.status.busy": "2022-11-02T10:12:42.947110Z",
     "iopub.status.idle": "2022-11-02T10:12:42.969533Z",
     "shell.execute_reply": "2022-11-02T10:12:42.968907Z"
    },
    "papermill": {
     "duration": 0.060827,
     "end_time": "2022-11-02T10:12:42.969691",
     "exception": false,
     "start_time": "2022-11-02T10:12:42.908864",
     "status": "completed"
    },
    "tags": []
   },
   "outputs": [],
   "source": [
    "train_filter = np.where((train_labels == 3 ) | (train_labels == 8))\n",
    "test_filter = np.where((test_labels == 3) | (test_labels == 8))\n",
    "X_train, y_train = train_images[train_filter], train_labels[train_filter]\n",
    "X_test, y_test = test_images[test_filter], test_labels[test_filter]"
   ]
  },
  {
   "cell_type": "markdown",
   "id": "948f0b7e",
   "metadata": {
    "papermill": {
     "duration": 0.033085,
     "end_time": "2022-11-02T10:12:43.035708",
     "exception": false,
     "start_time": "2022-11-02T10:12:43.002623",
     "status": "completed"
    },
    "tags": []
   },
   "source": [
    "We normalize the pizel values in the 0 to 1 range"
   ]
  },
  {
   "cell_type": "code",
   "execution_count": 11,
   "id": "ee4c2166",
   "metadata": {
    "execution": {
     "iopub.execute_input": "2022-11-02T10:12:43.111794Z",
     "iopub.status.busy": "2022-11-02T10:12:43.110999Z",
     "iopub.status.idle": "2022-11-02T10:12:43.170378Z",
     "shell.execute_reply": "2022-11-02T10:12:43.169765Z"
    },
    "papermill": {
     "duration": 0.100094,
     "end_time": "2022-11-02T10:12:43.170518",
     "exception": false,
     "start_time": "2022-11-02T10:12:43.070424",
     "status": "completed"
    },
    "tags": []
   },
   "outputs": [],
   "source": [
    "X_train = X_train/255.\n",
    "X_test = X_test/255."
   ]
  },
  {
   "cell_type": "markdown",
   "id": "ddcf4fab",
   "metadata": {
    "papermill": {
     "duration": 0.032942,
     "end_time": "2022-11-02T10:12:43.237466",
     "exception": false,
     "start_time": "2022-11-02T10:12:43.204524",
     "status": "completed"
    },
    "tags": []
   },
   "source": [
    "And setup the labels as 1 (when the digit is 3) and 0 (when the digit is 8)"
   ]
  },
  {
   "cell_type": "code",
   "execution_count": 12,
   "id": "7dc908f2",
   "metadata": {
    "execution": {
     "iopub.execute_input": "2022-11-02T10:12:43.314323Z",
     "iopub.status.busy": "2022-11-02T10:12:43.313568Z",
     "iopub.status.idle": "2022-11-02T10:12:43.328152Z",
     "shell.execute_reply": "2022-11-02T10:12:43.327447Z"
    },
    "papermill": {
     "duration": 0.056578,
     "end_time": "2022-11-02T10:12:43.328300",
     "exception": false,
     "start_time": "2022-11-02T10:12:43.271722",
     "status": "completed"
    },
    "tags": []
   },
   "outputs": [],
   "source": [
    "y_train = 1*(y_train==3)\n",
    "y_test = 1*(y_test==3)"
   ]
  },
  {
   "cell_type": "code",
   "execution_count": 13,
   "id": "01e4e969",
   "metadata": {
    "execution": {
     "iopub.execute_input": "2022-11-02T10:12:43.400685Z",
     "iopub.status.busy": "2022-11-02T10:12:43.399916Z",
     "iopub.status.idle": "2022-11-02T10:12:43.415897Z",
     "shell.execute_reply": "2022-11-02T10:12:43.416426Z"
    },
    "papermill": {
     "duration": 0.053946,
     "end_time": "2022-11-02T10:12:43.416580",
     "exception": false,
     "start_time": "2022-11-02T10:12:43.362634",
     "status": "completed"
    },
    "tags": []
   },
   "outputs": [
    {
     "data": {
      "text/plain": [
       "((11982, 28, 28), (1984, 28, 28))"
      ]
     },
     "execution_count": 13,
     "metadata": {},
     "output_type": "execute_result"
    }
   ],
   "source": [
    "X_train.shape, X_test.shape"
   ]
  },
  {
   "cell_type": "markdown",
   "id": "5ccf3f85",
   "metadata": {
    "papermill": {
     "duration": 0.033064,
     "end_time": "2022-11-02T10:12:43.482439",
     "exception": false,
     "start_time": "2022-11-02T10:12:43.449375",
     "status": "completed"
    },
    "tags": []
   },
   "source": [
    "We reshape the data to flatten the image pixels into a set of features or co-variates:"
   ]
  },
  {
   "cell_type": "code",
   "execution_count": 14,
   "id": "5286a4a3",
   "metadata": {
    "execution": {
     "iopub.execute_input": "2022-11-02T10:12:43.566405Z",
     "iopub.status.busy": "2022-11-02T10:12:43.558708Z",
     "iopub.status.idle": "2022-11-02T10:12:43.574047Z",
     "shell.execute_reply": "2022-11-02T10:12:43.573472Z"
    },
    "papermill": {
     "duration": 0.058131,
     "end_time": "2022-11-02T10:12:43.574188",
     "exception": false,
     "start_time": "2022-11-02T10:12:43.516057",
     "status": "completed"
    },
    "tags": []
   },
   "outputs": [
    {
     "data": {
      "text/plain": [
       "((11982, 784), (1984, 784))"
      ]
     },
     "execution_count": 14,
     "metadata": {},
     "output_type": "execute_result"
    }
   ],
   "source": [
    "X_train = X_train.reshape(X_train.shape[0], -1)\n",
    "X_test = X_test.reshape(X_test.shape[0], -1)\n",
    "X_train.shape, X_test.shape"
   ]
  },
  {
   "cell_type": "code",
   "execution_count": 15,
   "id": "73c5f88a",
   "metadata": {
    "execution": {
     "iopub.execute_input": "2022-11-02T10:12:43.648521Z",
     "iopub.status.busy": "2022-11-02T10:12:43.647192Z",
     "iopub.status.idle": "2022-11-02T10:12:43.670389Z",
     "shell.execute_reply": "2022-11-02T10:12:43.670960Z"
    },
    "papermill": {
     "duration": 0.063879,
     "end_time": "2022-11-02T10:12:43.671232",
     "exception": false,
     "start_time": "2022-11-02T10:12:43.607353",
     "status": "completed"
    },
    "tags": []
   },
   "outputs": [],
   "source": [
    "#Impoting functions from 'Kudzu'\n",
    "from kudzu.model import Model\n",
    "from kudzu.train import Learner\n",
    "from kudzu.optim import GD\n",
    "from kudzu.data import Data, Sampler,Dataloader\n",
    "\n",
    "from kudzu.callbacks import AccCallback\n",
    "from kudzu.callbacks import ClfCallback\n",
    "\n",
    "from kudzu.loss import MSE\n",
    "\n",
    "from kudzu.layer import Sigmoid,Relu\n",
    "from kudzu.layer import Affine"
   ]
  },
  {
   "cell_type": "markdown",
   "id": "bc01172a",
   "metadata": {
    "papermill": {
     "duration": 0.036408,
     "end_time": "2022-11-02T10:12:43.742262",
     "exception": false,
     "start_time": "2022-11-02T10:12:43.705854",
     "status": "completed"
    },
    "tags": []
   },
   "source": [
    "### Let us create a `Config` class, to store important parameters. \n",
    "This class essentially plays the role of a dictionary."
   ]
  },
  {
   "cell_type": "code",
   "execution_count": 16,
   "id": "978281aa",
   "metadata": {
    "execution": {
     "iopub.execute_input": "2022-11-02T10:12:43.816412Z",
     "iopub.status.busy": "2022-11-02T10:12:43.812410Z",
     "iopub.status.idle": "2022-11-02T10:12:43.827154Z",
     "shell.execute_reply": "2022-11-02T10:12:43.826552Z"
    },
    "papermill": {
     "duration": 0.052683,
     "end_time": "2022-11-02T10:12:43.827333",
     "exception": false,
     "start_time": "2022-11-02T10:12:43.774650",
     "status": "completed"
    },
    "tags": []
   },
   "outputs": [],
   "source": [
    "class Config:\n",
    "    pass\n",
    "config = Config()\n",
    "config.lr = 0.001\n",
    "config.num_epochs = 250\n",
    "config.bs = 50"
   ]
  },
  {
   "cell_type": "markdown",
   "id": "1385fa59",
   "metadata": {
    "papermill": {
     "duration": 0.034389,
     "end_time": "2022-11-02T10:12:43.908578",
     "exception": false,
     "start_time": "2022-11-02T10:12:43.874189",
     "status": "completed"
    },
    "tags": []
   },
   "source": [
    "### Running Models with the Training data\n",
    "Details about the network layers:\n",
    "- A first affine layer has 784 inputs and does 100 affine transforms. These are followed by a Relu\n",
    "- A second affine layer has 100 inputs from the 100 activations of the past layer, and does 100 affine transforms. These are followed by a Relu\n",
    "- A third affine layer has 100 activations and does 2 affine transformations to create an embedding for visualization. There is no non-linearity here.\n",
    "- A final \"logistic regression\" which has an affine transform from 2 inputs to 1 output, which is squeezed through a sigmoid.\n"
   ]
  },
  {
   "cell_type": "code",
   "execution_count": 17,
   "id": "2b9c66db",
   "metadata": {
    "execution": {
     "iopub.execute_input": "2022-11-02T10:12:43.987501Z",
     "iopub.status.busy": "2022-11-02T10:12:43.986674Z",
     "iopub.status.idle": "2022-11-02T10:12:44.000468Z",
     "shell.execute_reply": "2022-11-02T10:12:44.001198Z"
    },
    "papermill": {
     "duration": 0.057861,
     "end_time": "2022-11-02T10:12:44.001355",
     "exception": false,
     "start_time": "2022-11-02T10:12:43.943494",
     "status": "completed"
    },
    "tags": []
   },
   "outputs": [],
   "source": [
    "data = Data(X_train, y_train.reshape(-1,1))\n",
    "sampler = Sampler(data, config.bs, shuffle=True)\n",
    "\n",
    "dl = Dataloader(data, sampler)\n",
    "\n",
    "opt = GD(config.lr)\n",
    "loss = MSE()"
   ]
  },
  {
   "cell_type": "code",
   "execution_count": 18,
   "id": "b275e4c2",
   "metadata": {
    "execution": {
     "iopub.execute_input": "2022-11-02T10:12:44.088790Z",
     "iopub.status.busy": "2022-11-02T10:12:44.083273Z",
     "iopub.status.idle": "2022-11-02T10:12:44.092018Z",
     "shell.execute_reply": "2022-11-02T10:12:44.091475Z"
    },
    "papermill": {
     "duration": 0.056783,
     "end_time": "2022-11-02T10:12:44.092145",
     "exception": false,
     "start_time": "2022-11-02T10:12:44.035362",
     "status": "completed"
    },
    "tags": []
   },
   "outputs": [],
   "source": [
    "training_data_x = X_train\n",
    "testing_data_x = X_test\n",
    "training_data_y = y_train.reshape(-1,1)\n",
    "testing_data_y = y_test.reshape(-1,1)"
   ]
  },
  {
   "cell_type": "code",
   "execution_count": 19,
   "id": "76951160",
   "metadata": {
    "execution": {
     "iopub.execute_input": "2022-11-02T10:12:44.169737Z",
     "iopub.status.busy": "2022-11-02T10:12:44.168985Z",
     "iopub.status.idle": "2022-11-02T10:12:44.188650Z",
     "shell.execute_reply": "2022-11-02T10:12:44.188010Z"
    },
    "papermill": {
     "duration": 0.062617,
     "end_time": "2022-11-02T10:12:44.188790",
     "exception": false,
     "start_time": "2022-11-02T10:12:44.126173",
     "status": "completed"
    },
    "tags": []
   },
   "outputs": [
    {
     "name": "stdout",
     "output_type": "stream",
     "text": [
      "xavier\n",
      "xavier\n",
      "xavier\n",
      "xavier\n",
      "xavier\n"
     ]
    }
   ],
   "source": [
    "layers = [Affine(\"first\", 784, 100), Relu(\"first\"), Affine(\"second\", 100, 100), Relu(\"second\"), Affine(\"third\", 100, 2), Affine(\"last\", 2, 1), Sigmoid(\"last\")]\n",
    "model_nn = Model(layers)\n",
    "model_lr = Model([Affine(\"logits\", 784, 1), Sigmoid(\"sigmoid\")])"
   ]
  },
  {
   "cell_type": "code",
   "execution_count": 20,
   "id": "6eede77a",
   "metadata": {
    "execution": {
     "iopub.execute_input": "2022-11-02T10:12:44.273720Z",
     "iopub.status.busy": "2022-11-02T10:12:44.272948Z",
     "iopub.status.idle": "2022-11-02T10:12:44.285825Z",
     "shell.execute_reply": "2022-11-02T10:12:44.285185Z"
    },
    "papermill": {
     "duration": 0.062096,
     "end_time": "2022-11-02T10:12:44.285978",
     "exception": false,
     "start_time": "2022-11-02T10:12:44.223882",
     "status": "completed"
    },
    "tags": []
   },
   "outputs": [],
   "source": [
    "nn_learner = Learner(loss, model_nn, opt, config.num_epochs)\n",
    "acc_nn = ClfCallback(nn_learner, config.bs, training_data_x , testing_data_x, training_data_y, testing_data_y)\n",
    "nn_learner.set_callbacks([acc_nn])"
   ]
  },
  {
   "cell_type": "code",
   "execution_count": 21,
   "id": "877b6cc7",
   "metadata": {
    "execution": {
     "iopub.execute_input": "2022-11-02T10:12:44.362127Z",
     "iopub.status.busy": "2022-11-02T10:12:44.361318Z",
     "iopub.status.idle": "2022-11-02T10:12:44.373600Z",
     "shell.execute_reply": "2022-11-02T10:12:44.373008Z"
    },
    "papermill": {
     "duration": 0.054129,
     "end_time": "2022-11-02T10:12:44.373767",
     "exception": false,
     "start_time": "2022-11-02T10:12:44.319638",
     "status": "completed"
    },
    "tags": []
   },
   "outputs": [],
   "source": [
    "lr_learner = Learner(loss, model_lr, opt, config.num_epochs)\n",
    "acc_lr = ClfCallback(lr_learner, config.bs, training_data_x , testing_data_x, training_data_y, testing_data_y)\n",
    "lr_learner.set_callbacks([acc_lr])"
   ]
  },
  {
   "cell_type": "code",
   "execution_count": 22,
   "id": "d9b133c3",
   "metadata": {
    "execution": {
     "iopub.execute_input": "2022-11-02T10:12:44.451227Z",
     "iopub.status.busy": "2022-11-02T10:12:44.450531Z",
     "iopub.status.idle": "2022-11-02T10:14:52.976633Z",
     "shell.execute_reply": "2022-11-02T10:14:52.977691Z"
    },
    "papermill": {
     "duration": 128.568641,
     "end_time": "2022-11-02T10:14:52.977848",
     "exception": false,
     "start_time": "2022-11-02T10:12:44.409207",
     "status": "completed"
    },
    "tags": []
   },
   "outputs": [
    {
     "name": "stdout",
     "output_type": "stream",
     "text": [
      "Epoch 0, Loss 0.1632\n",
      "Training Accuracy: 0.8718, Testing Accuracy: 0.8816\n",
      "\n"
     ]
    },
    {
     "name": "stdout",
     "output_type": "stream",
     "text": [
      "Epoch 10, Loss 0.0557\n",
      "Training Accuracy: 0.9423, Testing Accuracy: 0.9526\n",
      "\n"
     ]
    },
    {
     "name": "stdout",
     "output_type": "stream",
     "text": [
      "Epoch 20, Loss 0.0416\n",
      "Training Accuracy: 0.9541, Testing Accuracy: 0.9607\n",
      "\n"
     ]
    },
    {
     "name": "stdout",
     "output_type": "stream",
     "text": [
      "Epoch 30, Loss 0.0358\n",
      "Training Accuracy: 0.9586, Testing Accuracy: 0.9632\n",
      "\n"
     ]
    },
    {
     "name": "stdout",
     "output_type": "stream",
     "text": [
      "Epoch 40, Loss 0.0325\n",
      "Training Accuracy: 0.9625, Testing Accuracy: 0.9662\n",
      "\n"
     ]
    },
    {
     "name": "stdout",
     "output_type": "stream",
     "text": [
      "Epoch 50, Loss 0.0302\n",
      "Training Accuracy: 0.9651, Testing Accuracy: 0.9662\n",
      "\n"
     ]
    },
    {
     "name": "stdout",
     "output_type": "stream",
     "text": [
      "Epoch 60, Loss 0.0285\n",
      "Training Accuracy: 0.9671, Testing Accuracy: 0.9682\n",
      "\n"
     ]
    },
    {
     "name": "stdout",
     "output_type": "stream",
     "text": [
      "Epoch 70, Loss 0.0271\n",
      "Training Accuracy: 0.9689, Testing Accuracy: 0.9693\n",
      "\n"
     ]
    },
    {
     "name": "stdout",
     "output_type": "stream",
     "text": [
      "Epoch 80, Loss 0.0259\n",
      "Training Accuracy: 0.9703, Testing Accuracy: 0.9703\n",
      "\n"
     ]
    },
    {
     "name": "stdout",
     "output_type": "stream",
     "text": [
      "Epoch 90, Loss 0.0249\n",
      "Training Accuracy: 0.9717, Testing Accuracy: 0.9703\n",
      "\n"
     ]
    },
    {
     "name": "stdout",
     "output_type": "stream",
     "text": [
      "Epoch 100, Loss 0.024\n",
      "Training Accuracy: 0.9728, Testing Accuracy: 0.9708\n",
      "\n"
     ]
    },
    {
     "name": "stdout",
     "output_type": "stream",
     "text": [
      "Epoch 110, Loss 0.0232\n",
      "Training Accuracy: 0.9740, Testing Accuracy: 0.9713\n",
      "\n"
     ]
    },
    {
     "name": "stdout",
     "output_type": "stream",
     "text": [
      "Epoch 120, Loss 0.0225\n",
      "Training Accuracy: 0.9748, Testing Accuracy: 0.9718\n",
      "\n"
     ]
    },
    {
     "name": "stdout",
     "output_type": "stream",
     "text": [
      "Epoch 130, Loss 0.0218\n",
      "Training Accuracy: 0.9756, Testing Accuracy: 0.9723\n",
      "\n"
     ]
    },
    {
     "name": "stdout",
     "output_type": "stream",
     "text": [
      "Epoch 140, Loss 0.0212\n",
      "Training Accuracy: 0.9760, Testing Accuracy: 0.9728\n",
      "\n"
     ]
    },
    {
     "name": "stdout",
     "output_type": "stream",
     "text": [
      "Epoch 150, Loss 0.0206\n",
      "Training Accuracy: 0.9773, Testing Accuracy: 0.9723\n",
      "\n"
     ]
    },
    {
     "name": "stdout",
     "output_type": "stream",
     "text": [
      "Epoch 160, Loss 0.02\n",
      "Training Accuracy: 0.9780, Testing Accuracy: 0.9713\n",
      "\n"
     ]
    },
    {
     "name": "stdout",
     "output_type": "stream",
     "text": [
      "Epoch 170, Loss 0.0195\n",
      "Training Accuracy: 0.9783, Testing Accuracy: 0.9728\n",
      "\n"
     ]
    },
    {
     "name": "stdout",
     "output_type": "stream",
     "text": [
      "Epoch 180, Loss 0.019\n",
      "Training Accuracy: 0.9793, Testing Accuracy: 0.9718\n",
      "\n"
     ]
    },
    {
     "name": "stdout",
     "output_type": "stream",
     "text": [
      "Epoch 190, Loss 0.0185\n",
      "Training Accuracy: 0.9801, Testing Accuracy: 0.9728\n",
      "\n"
     ]
    },
    {
     "name": "stdout",
     "output_type": "stream",
     "text": [
      "Epoch 200, Loss 0.018\n",
      "Training Accuracy: 0.9811, Testing Accuracy: 0.9723\n",
      "\n"
     ]
    },
    {
     "name": "stdout",
     "output_type": "stream",
     "text": [
      "Epoch 210, Loss 0.0176\n",
      "Training Accuracy: 0.9821, Testing Accuracy: 0.9728\n",
      "\n"
     ]
    },
    {
     "name": "stdout",
     "output_type": "stream",
     "text": [
      "Epoch 220, Loss 0.0172\n",
      "Training Accuracy: 0.9824, Testing Accuracy: 0.9733\n",
      "\n"
     ]
    },
    {
     "name": "stdout",
     "output_type": "stream",
     "text": [
      "Epoch 230, Loss 0.0167\n",
      "Training Accuracy: 0.9831, Testing Accuracy: 0.9733\n",
      "\n"
     ]
    },
    {
     "name": "stdout",
     "output_type": "stream",
     "text": [
      "Epoch 240, Loss 0.0163\n",
      "Training Accuracy: 0.9835, Testing Accuracy: 0.9743\n",
      "\n"
     ]
    },
    {
     "data": {
      "text/plain": [
       "0.05753485234978664"
      ]
     },
     "execution_count": 22,
     "metadata": {},
     "output_type": "execute_result"
    }
   ],
   "source": [
    "nn_learner.train_loop(dl)"
   ]
  },
  {
   "cell_type": "code",
   "execution_count": 23,
   "id": "e0163366",
   "metadata": {
    "execution": {
     "iopub.execute_input": "2022-11-02T10:14:53.074103Z",
     "iopub.status.busy": "2022-11-02T10:14:53.072804Z",
     "iopub.status.idle": "2022-11-02T10:15:12.775320Z",
     "shell.execute_reply": "2022-11-02T10:15:12.776361Z"
    },
    "papermill": {
     "duration": 19.755578,
     "end_time": "2022-11-02T10:15:12.776523",
     "exception": false,
     "start_time": "2022-11-02T10:14:53.020945",
     "status": "completed"
    },
    "tags": []
   },
   "outputs": [
    {
     "name": "stdout",
     "output_type": "stream",
     "text": [
      "Epoch 0, Loss 0.2367\n",
      "Training Accuracy: 0.6957, Testing Accuracy: 0.6784\n",
      "\n"
     ]
    },
    {
     "name": "stdout",
     "output_type": "stream",
     "text": [
      "Epoch 10, Loss 0.1021\n",
      "Training Accuracy: 0.9135, Testing Accuracy: 0.9214\n",
      "\n"
     ]
    },
    {
     "name": "stdout",
     "output_type": "stream",
     "text": [
      "Epoch 20, Loss 0.0784\n",
      "Training Accuracy: 0.9289, Testing Accuracy: 0.9410\n",
      "\n"
     ]
    },
    {
     "name": "stdout",
     "output_type": "stream",
     "text": [
      "Epoch 30, Loss 0.0676\n",
      "Training Accuracy: 0.9371, Testing Accuracy: 0.9491\n",
      "\n"
     ]
    },
    {
     "name": "stdout",
     "output_type": "stream",
     "text": [
      "Epoch 40, Loss 0.0611\n",
      "Training Accuracy: 0.9417, Testing Accuracy: 0.9541\n",
      "\n"
     ]
    },
    {
     "name": "stdout",
     "output_type": "stream",
     "text": [
      "Epoch 50, Loss 0.0568\n",
      "Training Accuracy: 0.9451, Testing Accuracy: 0.9567\n",
      "\n"
     ]
    },
    {
     "name": "stdout",
     "output_type": "stream",
     "text": [
      "Epoch 60, Loss 0.0535\n",
      "Training Accuracy: 0.9472, Testing Accuracy: 0.9607\n",
      "\n"
     ]
    },
    {
     "name": "stdout",
     "output_type": "stream",
     "text": [
      "Epoch 70, Loss 0.0511\n",
      "Training Accuracy: 0.9482, Testing Accuracy: 0.9632\n",
      "\n"
     ]
    },
    {
     "name": "stdout",
     "output_type": "stream",
     "text": [
      "Epoch 80, Loss 0.0491\n",
      "Training Accuracy: 0.9499, Testing Accuracy: 0.9642\n",
      "\n"
     ]
    },
    {
     "name": "stdout",
     "output_type": "stream",
     "text": [
      "Epoch 90, Loss 0.0474\n",
      "Training Accuracy: 0.9515, Testing Accuracy: 0.9642\n",
      "\n"
     ]
    },
    {
     "name": "stdout",
     "output_type": "stream",
     "text": [
      "Epoch 100, Loss 0.046\n",
      "Training Accuracy: 0.9532, Testing Accuracy: 0.9642\n",
      "\n"
     ]
    },
    {
     "name": "stdout",
     "output_type": "stream",
     "text": [
      "Epoch 110, Loss 0.0448\n",
      "Training Accuracy: 0.9538, Testing Accuracy: 0.9647\n",
      "\n"
     ]
    },
    {
     "name": "stdout",
     "output_type": "stream",
     "text": [
      "Epoch 120, Loss 0.0438\n",
      "Training Accuracy: 0.9548, Testing Accuracy: 0.9647\n",
      "\n"
     ]
    },
    {
     "name": "stdout",
     "output_type": "stream",
     "text": [
      "Epoch 130, Loss 0.0429\n",
      "Training Accuracy: 0.9558, Testing Accuracy: 0.9642\n",
      "\n"
     ]
    },
    {
     "name": "stdout",
     "output_type": "stream",
     "text": [
      "Epoch 140, Loss 0.042\n",
      "Training Accuracy: 0.9559, Testing Accuracy: 0.9642\n",
      "\n"
     ]
    },
    {
     "name": "stdout",
     "output_type": "stream",
     "text": [
      "Epoch 150, Loss 0.0413\n",
      "Training Accuracy: 0.9566, Testing Accuracy: 0.9642\n",
      "\n"
     ]
    },
    {
     "name": "stdout",
     "output_type": "stream",
     "text": [
      "Epoch 160, Loss 0.0406\n",
      "Training Accuracy: 0.9574, Testing Accuracy: 0.9647\n",
      "\n"
     ]
    },
    {
     "name": "stdout",
     "output_type": "stream",
     "text": [
      "Epoch 170, Loss 0.04\n",
      "Training Accuracy: 0.9582, Testing Accuracy: 0.9657\n",
      "\n"
     ]
    },
    {
     "name": "stdout",
     "output_type": "stream",
     "text": [
      "Epoch 180, Loss 0.0395\n",
      "Training Accuracy: 0.9584, Testing Accuracy: 0.9652\n",
      "\n"
     ]
    },
    {
     "name": "stdout",
     "output_type": "stream",
     "text": [
      "Epoch 190, Loss 0.039\n",
      "Training Accuracy: 0.9585, Testing Accuracy: 0.9652\n",
      "\n"
     ]
    },
    {
     "name": "stdout",
     "output_type": "stream",
     "text": [
      "Epoch 200, Loss 0.0385\n",
      "Training Accuracy: 0.9590, Testing Accuracy: 0.9652\n",
      "\n"
     ]
    },
    {
     "name": "stdout",
     "output_type": "stream",
     "text": [
      "Epoch 210, Loss 0.0381\n",
      "Training Accuracy: 0.9590, Testing Accuracy: 0.9657\n",
      "\n"
     ]
    },
    {
     "name": "stdout",
     "output_type": "stream",
     "text": [
      "Epoch 220, Loss 0.0377\n",
      "Training Accuracy: 0.9594, Testing Accuracy: 0.9657\n",
      "\n"
     ]
    },
    {
     "name": "stdout",
     "output_type": "stream",
     "text": [
      "Epoch 230, Loss 0.0373\n",
      "Training Accuracy: 0.9596, Testing Accuracy: 0.9657\n",
      "\n"
     ]
    },
    {
     "name": "stdout",
     "output_type": "stream",
     "text": [
      "Epoch 240, Loss 0.0369\n",
      "Training Accuracy: 0.9600, Testing Accuracy: 0.9657\n",
      "\n"
     ]
    },
    {
     "data": {
      "text/plain": [
       "0.028875169740360227"
      ]
     },
     "execution_count": 23,
     "metadata": {},
     "output_type": "execute_result"
    }
   ],
   "source": [
    "lr_learner.train_loop(dl)"
   ]
  },
  {
   "cell_type": "code",
   "execution_count": 24,
   "id": "ca410940",
   "metadata": {
    "execution": {
     "iopub.execute_input": "2022-11-02T10:15:12.896766Z",
     "iopub.status.busy": "2022-11-02T10:15:12.895917Z",
     "iopub.status.idle": "2022-11-02T10:15:13.201570Z",
     "shell.execute_reply": "2022-11-02T10:15:13.200936Z"
    },
    "papermill": {
     "duration": 0.364546,
     "end_time": "2022-11-02T10:15:13.201908",
     "exception": false,
     "start_time": "2022-11-02T10:15:12.837362",
     "status": "completed"
    },
    "tags": []
   },
   "outputs": [
    {
     "data": {
      "text/plain": [
       "<matplotlib.legend.Legend at 0x7f74c9bf6320>"
      ]
     },
     "execution_count": 24,
     "metadata": {},
     "output_type": "execute_result"
    },
    {
     "data": {
      "image/png": "[encoded data removed]",
      "text/plain": [
       "<Figure size 1080x720 with 1 Axes>"
      ]
     },
     "metadata": {
      "needs_background": "light"
     },
     "output_type": "display_data"
    }
   ],
   "source": [
    "#comparing the results of NN and LR\n",
    "plt.figure(figsize=(15,10))\n",
    "\n",
    "# Neural Network plots\n",
    "plt.plot(acc_nn.accuracies, 'r-', label = \"Training Accuracies - NN\")\n",
    "plt.plot(acc_nn.test_accuracies, 'g-', label = \"Testing Accuracies - NN\")\n",
    "\n",
    "# Logistic Regression plots\n",
    "plt.plot(acc_lr.accuracies, 'k-', label = \"Training Accuracies - LR\")\n",
    "plt.plot(acc_lr.test_accuracies, 'b-', label = \"Testing Accuracies - LR\")\n",
    "plt.legend()"
   ]
  },
  {
   "cell_type": "markdown",
   "id": "80dfb35c",
   "metadata": {
    "papermill": {
     "duration": 0.052934,
     "end_time": "2022-11-02T10:15:13.308847",
     "exception": false,
     "start_time": "2022-11-02T10:15:13.255913",
     "status": "completed"
    },
    "tags": []
   },
   "source": [
    "#### Plotting the outputs of this layer of the NN.\n"
   ]
  },
  {
   "cell_type": "code",
   "execution_count": 25,
   "id": "45eb2ff5",
   "metadata": {
    "execution": {
     "iopub.execute_input": "2022-11-02T10:15:13.429118Z",
     "iopub.status.busy": "2022-11-02T10:15:13.428356Z",
     "iopub.status.idle": "2022-11-02T10:15:13.453979Z",
     "shell.execute_reply": "2022-11-02T10:15:13.454899Z"
    },
    "papermill": {
     "duration": 0.090496,
     "end_time": "2022-11-02T10:15:13.455069",
     "exception": false,
     "start_time": "2022-11-02T10:15:13.364573",
     "status": "completed"
    },
    "tags": []
   },
   "outputs": [],
   "source": [
    "new_model = Model(layers[:-2])\n",
    "testing_plot = new_model(testing_data_x)"
   ]
  },
  {
   "cell_type": "code",
   "execution_count": 26,
   "id": "4c0a5485",
   "metadata": {
    "execution": {
     "iopub.execute_input": "2022-11-02T10:15:13.576751Z",
     "iopub.status.busy": "2022-11-02T10:15:13.576004Z",
     "iopub.status.idle": "2022-11-02T10:15:13.834900Z",
     "shell.execute_reply": "2022-11-02T10:15:13.834174Z"
    },
    "papermill": {
     "duration": 0.324189,
     "end_time": "2022-11-02T10:15:13.835052",
     "exception": false,
     "start_time": "2022-11-02T10:15:13.510863",
     "status": "completed"
    },
    "tags": []
   },
   "outputs": [
    {
     "data": {
      "text/plain": [
       "Text(0.5, 1.0, 'Outputs')"
      ]
     },
     "execution_count": 26,
     "metadata": {},
     "output_type": "execute_result"
    },
    {
     "data": {
      "image/png": "[encoded data removed]",
      "text/plain": [
       "<Figure size 576x504 with 1 Axes>"
      ]
     },
     "metadata": {
      "needs_background": "light"
     },
     "output_type": "display_data"
    }
   ],
   "source": [
    "# Plotting the scatter plot of points and color coding by class\n",
    "plt.figure(figsize=(8,7))\n",
    "plt.scatter(testing_plot[:,0], testing_plot[:,1], alpha = 0.1, c = y_test.ravel());\n",
    "plt.title('Outputs')"
   ]
  },
  {
   "cell_type": "markdown",
   "id": "a74fcf8f",
   "metadata": {
    "papermill": {
     "duration": 0.088749,
     "end_time": "2022-11-02T10:15:13.982461",
     "exception": false,
     "start_time": "2022-11-02T10:15:13.893712",
     "status": "completed"
    },
    "tags": []
   },
   "source": [
    "Probability contours"
   ]
  },
  {
   "cell_type": "code",
   "execution_count": 27,
   "id": "d0afc8e3",
   "metadata": {
    "execution": {
     "iopub.execute_input": "2022-11-02T10:15:14.114578Z",
     "iopub.status.busy": "2022-11-02T10:15:14.113590Z",
     "iopub.status.idle": "2022-11-02T10:15:14.129548Z",
     "shell.execute_reply": "2022-11-02T10:15:14.130664Z"
    },
    "papermill": {
     "duration": 0.08055,
     "end_time": "2022-11-02T10:15:14.130836",
     "exception": false,
     "start_time": "2022-11-02T10:15:14.050286",
     "status": "completed"
    },
    "tags": []
   },
   "outputs": [],
   "source": [
    "model_prob = Model(layers[-2:]) "
   ]
  },
  {
   "cell_type": "code",
   "execution_count": 28,
   "id": "9b96e238",
   "metadata": {
    "execution": {
     "iopub.execute_input": "2022-11-02T10:15:14.252240Z",
     "iopub.status.busy": "2022-11-02T10:15:14.250915Z",
     "iopub.status.idle": "2022-11-02T10:15:14.265389Z",
     "shell.execute_reply": "2022-11-02T10:15:14.264765Z"
    },
    "papermill": {
     "duration": 0.077782,
     "end_time": "2022-11-02T10:15:14.265530",
     "exception": false,
     "start_time": "2022-11-02T10:15:14.187748",
     "status": "completed"
    },
    "tags": []
   },
   "outputs": [],
   "source": [
    "#creating the x and y ranges according to the above generated plot.\n",
    "x_range = np.linspace(-4, 1, 100) \n",
    "y_range = np.linspace(-6, 6, 100) \n",
    "x_grid, y_grid = np.meshgrid(x_range, y_range) # x_grid and y_grig are of size 100 X 100\n",
    "\n",
    "# converting x_grid and y_grid to continuous arrays\n",
    "x_gridflat = np.ravel(x_grid)\n",
    "y_gridflat = np.ravel(y_grid)\n",
    "\n",
    "# The last layer of the current model takes two columns as input. Hence transpose of np.vstack() is required.\n",
    "X = np.vstack((x_gridflat, y_gridflat)).T\n",
    "\n",
    "prob_contour = model_prob(X).reshape(100,100) "
   ]
  },
  {
   "cell_type": "code",
   "execution_count": 29,
   "id": "da72499a",
   "metadata": {
    "execution": {
     "iopub.execute_input": "2022-11-02T10:15:14.383697Z",
     "iopub.status.busy": "2022-11-02T10:15:14.382911Z",
     "iopub.status.idle": "2022-11-02T10:15:14.719880Z",
     "shell.execute_reply": "2022-11-02T10:15:14.718927Z"
    },
    "papermill": {
     "duration": 0.398764,
     "end_time": "2022-11-02T10:15:14.720022",
     "exception": false,
     "start_time": "2022-11-02T10:15:14.321258",
     "status": "completed"
    },
    "tags": []
   },
   "outputs": [
    {
     "data": {
      "image/png": "[encoded data removed]",
      "text/plain": [
       "<Figure size 720x648 with 1 Axes>"
      ]
     },
     "metadata": {
      "needs_background": "light"
     },
     "output_type": "display_data"
    }
   ],
   "source": [
    "plt.figure(figsize=(10,9))\n",
    "plt.scatter(testing_plot[:,0], testing_plot[:,1], alpha = 0.1, c = y_test.ravel())\n",
    "contours = plt.contour(x_grid,y_grid,prob_contour)\n",
    "plt.title('Probability Contours')\n",
    "plt.clabel(contours, inline = True );"
   ]
  },
  {
   "cell_type": "code",
   "execution_count": null,
   "id": "e81b4ac7",
   "metadata": {
    "papermill": {
     "duration": 0.057988,
     "end_time": "2022-11-02T10:15:14.838217",
     "exception": false,
     "start_time": "2022-11-02T10:15:14.780229",
     "status": "completed"
    },
    "tags": []
   },
   "outputs": [],
   "source": []
  }
 ],
 "metadata": {
  "kernelspec": {
   "display_name": "Python 3",
   "language": "python",
   "name": "python3"
  },
  "language_info": {
   "codemirror_mode": {
    "name": "ipython",
    "version": 3
   },
   "file_extension": ".py",
   "mimetype": "text/x-python",
   "name": "python",
   "nbconvert_exporter": "python",
   "pygments_lexer": "ipython3",
   "version": "3.6.15"
  },
  "papermill": {
   "default_parameters": {},
   "duration": 159.04122,
   "end_time": "2022-11-02T10:15:15.316573",
   "environment_variables": {},
   "exception": null,
   "input_path": "2020-08-11-part2.ipynb",
   "output_path": "2020-08-11-part2.ipynb",
   "parameters": {},
   "start_time": "2022-11-02T10:12:36.275353",
   "version": "2.3.3"
  }
 },
 "nbformat": 4,
 "nbformat_minor": 5
}