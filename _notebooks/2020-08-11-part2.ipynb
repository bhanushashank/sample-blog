{
 "cells": [
  {
   "cell_type": "markdown",
   "id": "98380cd3",
   "metadata": {
    "papermill": {
     "duration": 0.030077,
     "end_time": "2022-03-22T10:10:09.748367",
     "exception": false,
     "start_time": "2022-03-22T10:10:09.718290",
     "status": "completed"
    },
    "tags": []
   },
   "source": [
    "# Distinguish Your Own Digits (DYOD)"
   ]
  },
  {
   "cell_type": "markdown",
   "id": "ef31240d",
   "metadata": {
    "papermill": {
     "duration": 0.028099,
     "end_time": "2022-03-22T10:10:09.802785",
     "exception": false,
     "start_time": "2022-03-22T10:10:09.774686",
     "status": "completed"
    },
    "tags": []
   },
   "source": [
    "You are going to write a classifier that distinguishes between the number 3 and number 8."
   ]
  },
  {
   "cell_type": "code",
   "execution_count": 1,
   "id": "b15c8646",
   "metadata": {
    "execution": {
     "iopub.execute_input": "2022-03-22T10:10:09.866747Z",
     "iopub.status.busy": "2022-03-22T10:10:09.866136Z",
     "iopub.status.idle": "2022-03-22T10:10:09.877914Z",
     "shell.execute_reply": "2022-03-22T10:10:09.877398Z"
    },
    "papermill": {
     "duration": 0.050598,
     "end_time": "2022-03-22T10:10:09.878065",
     "exception": false,
     "start_time": "2022-03-22T10:10:09.827467",
     "status": "completed"
    },
    "tags": []
   },
   "outputs": [],
   "source": [
    "%load_ext autoreload\n",
    "%autoreload 2"
   ]
  },
  {
   "cell_type": "code",
   "execution_count": 2,
   "id": "22ef38dc",
   "metadata": {
    "execution": {
     "iopub.execute_input": "2022-03-22T10:10:09.932788Z",
     "iopub.status.busy": "2022-03-22T10:10:09.932205Z",
     "iopub.status.idle": "2022-03-22T10:10:10.599860Z",
     "shell.execute_reply": "2022-03-22T10:10:10.600593Z"
    },
    "papermill": {
     "duration": 0.698246,
     "end_time": "2022-03-22T10:10:10.600882",
     "exception": false,
     "start_time": "2022-03-22T10:10:09.902636",
     "status": "completed"
    },
    "tags": []
   },
   "outputs": [],
   "source": [
    "%matplotlib inline\n",
    "import numpy as np\n",
    "import matplotlib.pyplot as plt\n",
    "import pandas as pd"
   ]
  },
  {
   "cell_type": "markdown",
   "id": "ba036198",
   "metadata": {
    "papermill": {
     "duration": 0.025856,
     "end_time": "2022-03-22T10:10:10.653434",
     "exception": false,
     "start_time": "2022-03-22T10:10:10.627578",
     "status": "completed"
    },
    "tags": []
   },
   "source": [
    "From the command line run `pip install mnist`. This is a library that will help you bring down the mnist dataset. If you run this from a notebook, you need to put  `!pip install mnist` in a cell by itself."
   ]
  },
  {
   "cell_type": "code",
   "execution_count": 3,
   "id": "bb6ad8a1",
   "metadata": {
    "execution": {
     "iopub.execute_input": "2022-03-22T10:10:10.710299Z",
     "iopub.status.busy": "2022-03-22T10:10:10.709676Z",
     "iopub.status.idle": "2022-03-22T10:10:13.366857Z",
     "shell.execute_reply": "2022-03-22T10:10:13.365943Z"
    },
    "papermill": {
     "duration": 2.687541,
     "end_time": "2022-03-22T10:10:13.367084",
     "exception": false,
     "start_time": "2022-03-22T10:10:10.679543",
     "status": "completed"
    },
    "tags": []
   },
   "outputs": [
    {
     "name": "stdout",
     "output_type": "stream",
     "text": [
      "Collecting mnist\r\n"
     ]
    },
    {
     "name": "stdout",
     "output_type": "stream",
     "text": [
      "  Downloading mnist-0.2.2-py2.py3-none-any.whl (3.5 kB)\r\n",
      "Requirement already satisfied: numpy in /opt/hostedtoolcache/Python/3.6.15/x64/lib/python3.6/site-packages (from mnist) (1.19.5)\r\n"
     ]
    },
    {
     "name": "stdout",
     "output_type": "stream",
     "text": [
      "Installing collected packages: mnist\r\n"
     ]
    },
    {
     "name": "stdout",
     "output_type": "stream",
     "text": [
      "Successfully installed mnist-0.2.2\r\n"
     ]
    }
   ],
   "source": [
    "!pip install mnist"
   ]
  },
  {
   "cell_type": "markdown",
   "id": "69df9c9a",
   "metadata": {
    "papermill": {
     "duration": 0.02667,
     "end_time": "2022-03-22T10:10:13.422675",
     "exception": false,
     "start_time": "2022-03-22T10:10:13.396005",
     "status": "completed"
    },
    "tags": []
   },
   "source": [
    "## Preparing the Data"
   ]
  },
  {
   "cell_type": "code",
   "execution_count": 4,
   "id": "7f69d806",
   "metadata": {
    "execution": {
     "iopub.execute_input": "2022-03-22T10:10:13.481860Z",
     "iopub.status.busy": "2022-03-22T10:10:13.479432Z",
     "iopub.status.idle": "2022-03-22T10:10:13.495798Z",
     "shell.execute_reply": "2022-03-22T10:10:13.495314Z"
    },
    "papermill": {
     "duration": 0.047054,
     "end_time": "2022-03-22T10:10:13.495913",
     "exception": false,
     "start_time": "2022-03-22T10:10:13.448859",
     "status": "completed"
    },
    "tags": []
   },
   "outputs": [],
   "source": [
    "import mnist"
   ]
  },
  {
   "cell_type": "code",
   "execution_count": 5,
   "id": "a411e44f",
   "metadata": {
    "execution": {
     "iopub.execute_input": "2022-03-22T10:10:13.555937Z",
     "iopub.status.busy": "2022-03-22T10:10:13.555414Z",
     "iopub.status.idle": "2022-03-22T10:10:14.092767Z",
     "shell.execute_reply": "2022-03-22T10:10:14.093243Z"
    },
    "papermill": {
     "duration": 0.569337,
     "end_time": "2022-03-22T10:10:14.093409",
     "exception": false,
     "start_time": "2022-03-22T10:10:13.524072",
     "status": "completed"
    },
    "tags": []
   },
   "outputs": [],
   "source": [
    "train_images = mnist.train_images()\n",
    "train_labels = mnist.train_labels()"
   ]
  },
  {
   "cell_type": "code",
   "execution_count": 6,
   "id": "dceab3a5",
   "metadata": {
    "execution": {
     "iopub.execute_input": "2022-03-22T10:10:14.152279Z",
     "iopub.status.busy": "2022-03-22T10:10:14.151586Z",
     "iopub.status.idle": "2022-03-22T10:10:14.165935Z",
     "shell.execute_reply": "2022-03-22T10:10:14.166355Z"
    },
    "papermill": {
     "duration": 0.046045,
     "end_time": "2022-03-22T10:10:14.166499",
     "exception": false,
     "start_time": "2022-03-22T10:10:14.120454",
     "status": "completed"
    },
    "tags": []
   },
   "outputs": [
    {
     "data": {
      "text/plain": [
       "((60000, 28, 28), (60000,))"
      ]
     },
     "execution_count": 6,
     "metadata": {},
     "output_type": "execute_result"
    }
   ],
   "source": [
    "train_images.shape, train_labels.shape"
   ]
  },
  {
   "cell_type": "code",
   "execution_count": 7,
   "id": "f50dc2bb",
   "metadata": {
    "execution": {
     "iopub.execute_input": "2022-03-22T10:10:14.222702Z",
     "iopub.status.busy": "2022-03-22T10:10:14.222108Z",
     "iopub.status.idle": "2022-03-22T10:10:14.375139Z",
     "shell.execute_reply": "2022-03-22T10:10:14.375994Z"
    },
    "papermill": {
     "duration": 0.183341,
     "end_time": "2022-03-22T10:10:14.376151",
     "exception": false,
     "start_time": "2022-03-22T10:10:14.192810",
     "status": "completed"
    },
    "tags": []
   },
   "outputs": [],
   "source": [
    "test_images = mnist.test_images()\n",
    "test_labels = mnist.test_labels()"
   ]
  },
  {
   "cell_type": "code",
   "execution_count": 8,
   "id": "fc38cf1b",
   "metadata": {
    "execution": {
     "iopub.execute_input": "2022-03-22T10:10:14.436110Z",
     "iopub.status.busy": "2022-03-22T10:10:14.435514Z",
     "iopub.status.idle": "2022-03-22T10:10:14.449714Z",
     "shell.execute_reply": "2022-03-22T10:10:14.449265Z"
    },
    "papermill": {
     "duration": 0.045932,
     "end_time": "2022-03-22T10:10:14.449834",
     "exception": false,
     "start_time": "2022-03-22T10:10:14.403902",
     "status": "completed"
    },
    "tags": []
   },
   "outputs": [
    {
     "data": {
      "text/plain": [
       "((10000, 28, 28), (10000,))"
      ]
     },
     "execution_count": 8,
     "metadata": {},
     "output_type": "execute_result"
    }
   ],
   "source": [
    "test_images.shape, test_labels.shape"
   ]
  },
  {
   "cell_type": "code",
   "execution_count": 9,
   "id": "f9ed8fe0",
   "metadata": {
    "execution": {
     "iopub.execute_input": "2022-03-22T10:10:14.507258Z",
     "iopub.status.busy": "2022-03-22T10:10:14.506665Z",
     "iopub.status.idle": "2022-03-22T10:10:14.658923Z",
     "shell.execute_reply": "2022-03-22T10:10:14.658414Z"
    },
    "papermill": {
     "duration": 0.183354,
     "end_time": "2022-03-22T10:10:14.659060",
     "exception": false,
     "start_time": "2022-03-22T10:10:14.475706",
     "status": "completed"
    },
    "tags": []
   },
   "outputs": [
    {
     "name": "stdout",
     "output_type": "stream",
     "text": [
      "2\n"
     ]
    },
    {
     "data": {
      "text/plain": [
       "<matplotlib.image.AxesImage at 0x7f3900279588>"
      ]
     },
     "execution_count": 9,
     "metadata": {},
     "output_type": "execute_result"
    },
    {
     "data": {
      "image/png": "[encoded data removed]",
      "text/plain": [
       "<Figure size 432x288 with 1 Axes>"
      ]
     },
     "metadata": {
      "needs_background": "light"
     },
     "output_type": "display_data"
    }
   ],
   "source": [
    "image_index = 7776 # You may select anything up to 60,000\n",
    "print(train_labels[image_index]) \n",
    "plt.imshow(train_images[image_index], cmap='Greys')"
   ]
  },
  {
   "cell_type": "markdown",
   "id": "a8d2388d",
   "metadata": {
    "papermill": {
     "duration": 0.028955,
     "end_time": "2022-03-22T10:10:14.715928",
     "exception": false,
     "start_time": "2022-03-22T10:10:14.686973",
     "status": "completed"
    },
    "tags": []
   },
   "source": [
    "## Filter data to get 3 and 8 out"
   ]
  },
  {
   "cell_type": "code",
   "execution_count": 10,
   "id": "776f7fc7",
   "metadata": {
    "execution": {
     "iopub.execute_input": "2022-03-22T10:10:14.778749Z",
     "iopub.status.busy": "2022-03-22T10:10:14.777179Z",
     "iopub.status.idle": "2022-03-22T10:10:14.797444Z",
     "shell.execute_reply": "2022-03-22T10:10:14.796521Z"
    },
    "papermill": {
     "duration": 0.053117,
     "end_time": "2022-03-22T10:10:14.797612",
     "exception": false,
     "start_time": "2022-03-22T10:10:14.744495",
     "status": "completed"
    },
    "tags": []
   },
   "outputs": [],
   "source": [
    "train_filter = np.where((train_labels == 3 ) | (train_labels == 8))\n",
    "test_filter = np.where((test_labels == 3) | (test_labels == 8))\n",
    "X_train, y_train = train_images[train_filter], train_labels[train_filter]\n",
    "X_test, y_test = test_images[test_filter], test_labels[test_filter]"
   ]
  },
  {
   "cell_type": "markdown",
   "id": "948f0b7e",
   "metadata": {
    "papermill": {
     "duration": 0.029496,
     "end_time": "2022-03-22T10:10:14.856697",
     "exception": false,
     "start_time": "2022-03-22T10:10:14.827201",
     "status": "completed"
    },
    "tags": []
   },
   "source": [
    "We normalize the pizel values in the 0 to 1 range"
   ]
  },
  {
   "cell_type": "code",
   "execution_count": 11,
   "id": "ee4c2166",
   "metadata": {
    "execution": {
     "iopub.execute_input": "2022-03-22T10:10:14.914990Z",
     "iopub.status.busy": "2022-03-22T10:10:14.914424Z",
     "iopub.status.idle": "2022-03-22T10:10:14.971609Z",
     "shell.execute_reply": "2022-03-22T10:10:14.972468Z"
    },
    "papermill": {
     "duration": 0.088829,
     "end_time": "2022-03-22T10:10:14.972774",
     "exception": false,
     "start_time": "2022-03-22T10:10:14.883945",
     "status": "completed"
    },
    "tags": []
   },
   "outputs": [],
   "source": [
    "X_train = X_train/255.\n",
    "X_test = X_test/255."
   ]
  },
  {
   "cell_type": "markdown",
   "id": "ddcf4fab",
   "metadata": {
    "papermill": {
     "duration": 0.029777,
     "end_time": "2022-03-22T10:10:15.032574",
     "exception": false,
     "start_time": "2022-03-22T10:10:15.002797",
     "status": "completed"
    },
    "tags": []
   },
   "source": [
    "And setup the labels as 1 (when the digit is 3) and 0 (when the digit is 8)"
   ]
  },
  {
   "cell_type": "code",
   "execution_count": 12,
   "id": "7dc908f2",
   "metadata": {
    "execution": {
     "iopub.execute_input": "2022-03-22T10:10:15.098692Z",
     "iopub.status.busy": "2022-03-22T10:10:15.098089Z",
     "iopub.status.idle": "2022-03-22T10:10:15.111108Z",
     "shell.execute_reply": "2022-03-22T10:10:15.110613Z"
    },
    "papermill": {
     "duration": 0.048467,
     "end_time": "2022-03-22T10:10:15.111241",
     "exception": false,
     "start_time": "2022-03-22T10:10:15.062774",
     "status": "completed"
    },
    "tags": []
   },
   "outputs": [],
   "source": [
    "y_train = 1*(y_train==3)\n",
    "y_test = 1*(y_test==3)"
   ]
  },
  {
   "cell_type": "code",
   "execution_count": 13,
   "id": "01e4e969",
   "metadata": {
    "execution": {
     "iopub.execute_input": "2022-03-22T10:10:15.180022Z",
     "iopub.status.busy": "2022-03-22T10:10:15.179414Z",
     "iopub.status.idle": "2022-03-22T10:10:15.192709Z",
     "shell.execute_reply": "2022-03-22T10:10:15.193202Z"
    },
    "papermill": {
     "duration": 0.051293,
     "end_time": "2022-03-22T10:10:15.193345",
     "exception": false,
     "start_time": "2022-03-22T10:10:15.142052",
     "status": "completed"
    },
    "tags": []
   },
   "outputs": [
    {
     "data": {
      "text/plain": [
       "((11982, 28, 28), (1984, 28, 28))"
      ]
     },
     "execution_count": 13,
     "metadata": {},
     "output_type": "execute_result"
    }
   ],
   "source": [
    "X_train.shape, X_test.shape"
   ]
  },
  {
   "cell_type": "markdown",
   "id": "5ccf3f85",
   "metadata": {
    "papermill": {
     "duration": 0.027068,
     "end_time": "2022-03-22T10:10:15.248214",
     "exception": false,
     "start_time": "2022-03-22T10:10:15.221146",
     "status": "completed"
    },
    "tags": []
   },
   "source": [
    "We reshape the data to flatten the image pixels into a set of features or co-variates:"
   ]
  },
  {
   "cell_type": "code",
   "execution_count": 14,
   "id": "5286a4a3",
   "metadata": {
    "execution": {
     "iopub.execute_input": "2022-03-22T10:10:15.308897Z",
     "iopub.status.busy": "2022-03-22T10:10:15.308253Z",
     "iopub.status.idle": "2022-03-22T10:10:15.323264Z",
     "shell.execute_reply": "2022-03-22T10:10:15.323784Z"
    },
    "papermill": {
     "duration": 0.047472,
     "end_time": "2022-03-22T10:10:15.323917",
     "exception": false,
     "start_time": "2022-03-22T10:10:15.276445",
     "status": "completed"
    },
    "tags": []
   },
   "outputs": [
    {
     "data": {
      "text/plain": [
       "((11982, 784), (1984, 784))"
      ]
     },
     "execution_count": 14,
     "metadata": {},
     "output_type": "execute_result"
    }
   ],
   "source": [
    "X_train = X_train.reshape(X_train.shape[0], -1)\n",
    "X_test = X_test.reshape(X_test.shape[0], -1)\n",
    "X_train.shape, X_test.shape"
   ]
  },
  {
   "cell_type": "code",
   "execution_count": 15,
   "id": "73c5f88a",
   "metadata": {
    "execution": {
     "iopub.execute_input": "2022-03-22T10:10:15.386062Z",
     "iopub.status.busy": "2022-03-22T10:10:15.385467Z",
     "iopub.status.idle": "2022-03-22T10:10:15.408753Z",
     "shell.execute_reply": "2022-03-22T10:10:15.408029Z"
    },
    "papermill": {
     "duration": 0.056162,
     "end_time": "2022-03-22T10:10:15.408918",
     "exception": false,
     "start_time": "2022-03-22T10:10:15.352756",
     "status": "completed"
    },
    "tags": []
   },
   "outputs": [],
   "source": [
    "#Impoting functions from 'Kudzu'\n",
    "from kudzu.model import Model\n",
    "from kudzu.train import Learner\n",
    "from kudzu.optim import GD\n",
    "from kudzu.data import Data, Sampler,Dataloader\n",
    "\n",
    "from kudzu.callbacks import AccCallback\n",
    "from kudzu.callbacks import ClfCallback\n",
    "\n",
    "from kudzu.loss import MSE\n",
    "\n",
    "from kudzu.layer import Sigmoid,Relu\n",
    "from kudzu.layer import Affine"
   ]
  },
  {
   "cell_type": "markdown",
   "id": "bc01172a",
   "metadata": {
    "papermill": {
     "duration": 0.028172,
     "end_time": "2022-03-22T10:10:15.468024",
     "exception": false,
     "start_time": "2022-03-22T10:10:15.439852",
     "status": "completed"
    },
    "tags": []
   },
   "source": [
    "### Let us create a `Config` class, to store important parameters. \n",
    "This class essentially plays the role of a dictionary."
   ]
  },
  {
   "cell_type": "code",
   "execution_count": 16,
   "id": "978281aa",
   "metadata": {
    "execution": {
     "iopub.execute_input": "2022-03-22T10:10:15.534696Z",
     "iopub.status.busy": "2022-03-22T10:10:15.534087Z",
     "iopub.status.idle": "2022-03-22T10:10:15.546496Z",
     "shell.execute_reply": "2022-03-22T10:10:15.546010Z"
    },
    "papermill": {
     "duration": 0.05014,
     "end_time": "2022-03-22T10:10:15.546635",
     "exception": false,
     "start_time": "2022-03-22T10:10:15.496495",
     "status": "completed"
    },
    "tags": []
   },
   "outputs": [],
   "source": [
    "class Config:\n",
    "    pass\n",
    "config = Config()\n",
    "config.lr = 0.001\n",
    "config.num_epochs = 250\n",
    "config.bs = 50"
   ]
  },
  {
   "cell_type": "markdown",
   "id": "1385fa59",
   "metadata": {
    "papermill": {
     "duration": 0.027974,
     "end_time": "2022-03-22T10:10:15.604205",
     "exception": false,
     "start_time": "2022-03-22T10:10:15.576231",
     "status": "completed"
    },
    "tags": []
   },
   "source": [
    "### Running Models with the Training data\n",
    "Details about the network layers:\n",
    "- A first affine layer has 784 inputs and does 100 affine transforms. These are followed by a Relu\n",
    "- A second affine layer has 100 inputs from the 100 activations of the past layer, and does 100 affine transforms. These are followed by a Relu\n",
    "- A third affine layer has 100 activations and does 2 affine transformations to create an embedding for visualization. There is no non-linearity here.\n",
    "- A final \"logistic regression\" which has an affine transform from 2 inputs to 1 output, which is squeezed through a sigmoid.\n"
   ]
  },
  {
   "cell_type": "code",
   "execution_count": 17,
   "id": "2b9c66db",
   "metadata": {
    "execution": {
     "iopub.execute_input": "2022-03-22T10:10:15.663521Z",
     "iopub.status.busy": "2022-03-22T10:10:15.662972Z",
     "iopub.status.idle": "2022-03-22T10:10:15.677728Z",
     "shell.execute_reply": "2022-03-22T10:10:15.677312Z"
    },
    "papermill": {
     "duration": 0.047226,
     "end_time": "2022-03-22T10:10:15.677830",
     "exception": false,
     "start_time": "2022-03-22T10:10:15.630604",
     "status": "completed"
    },
    "tags": []
   },
   "outputs": [],
   "source": [
    "data = Data(X_train, y_train.reshape(-1,1))\n",
    "sampler = Sampler(data, config.bs, shuffle=True)\n",
    "\n",
    "dl = Dataloader(data, sampler)\n",
    "\n",
    "opt = GD(config.lr)\n",
    "loss = MSE()"
   ]
  },
  {
   "cell_type": "code",
   "execution_count": 18,
   "id": "b275e4c2",
   "metadata": {
    "execution": {
     "iopub.execute_input": "2022-03-22T10:10:15.739820Z",
     "iopub.status.busy": "2022-03-22T10:10:15.739208Z",
     "iopub.status.idle": "2022-03-22T10:10:15.764387Z",
     "shell.execute_reply": "2022-03-22T10:10:15.763693Z"
    },
    "papermill": {
     "duration": 0.059015,
     "end_time": "2022-03-22T10:10:15.764539",
     "exception": false,
     "start_time": "2022-03-22T10:10:15.705524",
     "status": "completed"
    },
    "tags": []
   },
   "outputs": [],
   "source": [
    "training_data_x = X_train\n",
    "testing_data_x = X_test\n",
    "training_data_y = y_train.reshape(-1,1)\n",
    "testing_data_y = y_test.reshape(-1,1)"
   ]
  },
  {
   "cell_type": "code",
   "execution_count": 19,
   "id": "76951160",
   "metadata": {
    "execution": {
     "iopub.execute_input": "2022-03-22T10:10:15.833924Z",
     "iopub.status.busy": "2022-03-22T10:10:15.832939Z",
     "iopub.status.idle": "2022-03-22T10:10:15.851009Z",
     "shell.execute_reply": "2022-03-22T10:10:15.851840Z"
    },
    "papermill": {
     "duration": 0.053727,
     "end_time": "2022-03-22T10:10:15.852072",
     "exception": false,
     "start_time": "2022-03-22T10:10:15.798345",
     "status": "completed"
    },
    "tags": []
   },
   "outputs": [
    {
     "name": "stdout",
     "output_type": "stream",
     "text": [
      "xavier\n",
      "xavier\n",
      "xavier\n",
      "xavier\n",
      "xavier\n"
     ]
    }
   ],
   "source": [
    "layers = [Affine(\"first\", 784, 100), Relu(\"first\"), Affine(\"second\", 100, 100), Relu(\"second\"), Affine(\"third\", 100, 2), Affine(\"last\", 2, 1), Sigmoid(\"last\")]\n",
    "model_nn = Model(layers)\n",
    "model_lr = Model([Affine(\"logits\", 784, 1), Sigmoid(\"sigmoid\")])"
   ]
  },
  {
   "cell_type": "code",
   "execution_count": 20,
   "id": "6eede77a",
   "metadata": {
    "execution": {
     "iopub.execute_input": "2022-03-22T10:10:15.922232Z",
     "iopub.status.busy": "2022-03-22T10:10:15.921637Z",
     "iopub.status.idle": "2022-03-22T10:10:15.936114Z",
     "shell.execute_reply": "2022-03-22T10:10:15.936620Z"
    },
    "papermill": {
     "duration": 0.051202,
     "end_time": "2022-03-22T10:10:15.936794",
     "exception": false,
     "start_time": "2022-03-22T10:10:15.885592",
     "status": "completed"
    },
    "tags": []
   },
   "outputs": [],
   "source": [
    "nn_learner = Learner(loss, model_nn, opt, config.num_epochs)\n",
    "acc_nn = ClfCallback(nn_learner, config.bs, training_data_x , testing_data_x, training_data_y, testing_data_y)\n",
    "nn_learner.set_callbacks([acc_nn])"
   ]
  },
  {
   "cell_type": "code",
   "execution_count": 21,
   "id": "877b6cc7",
   "metadata": {
    "execution": {
     "iopub.execute_input": "2022-03-22T10:10:16.001526Z",
     "iopub.status.busy": "2022-03-22T10:10:16.000922Z",
     "iopub.status.idle": "2022-03-22T10:10:16.014790Z",
     "shell.execute_reply": "2022-03-22T10:10:16.014282Z"
    },
    "papermill": {
     "duration": 0.047648,
     "end_time": "2022-03-22T10:10:16.014910",
     "exception": false,
     "start_time": "2022-03-22T10:10:15.967262",
     "status": "completed"
    },
    "tags": []
   },
   "outputs": [],
   "source": [
    "lr_learner = Learner(loss, model_lr, opt, config.num_epochs)\n",
    "acc_lr = ClfCallback(lr_learner, config.bs, training_data_x , testing_data_x, training_data_y, testing_data_y)\n",
    "lr_learner.set_callbacks([acc_lr])"
   ]
  },
  {
   "cell_type": "code",
   "execution_count": 22,
   "id": "d9b133c3",
   "metadata": {
    "execution": {
     "iopub.execute_input": "2022-03-22T10:10:16.079883Z",
     "iopub.status.busy": "2022-03-22T10:10:16.079290Z",
     "iopub.status.idle": "2022-03-22T10:11:43.361611Z",
     "shell.execute_reply": "2022-03-22T10:11:43.362403Z"
    },
    "papermill": {
     "duration": 87.317075,
     "end_time": "2022-03-22T10:11:43.362572",
     "exception": false,
     "start_time": "2022-03-22T10:10:16.045497",
     "status": "completed"
    },
    "tags": []
   },
   "outputs": [
    {
     "name": "stdout",
     "output_type": "stream",
     "text": [
      "Epoch 0, Loss 0.2527\n",
      "Training Accuracy: 0.5720, Testing Accuracy: 0.5781\n",
      "\n"
     ]
    },
    {
     "name": "stdout",
     "output_type": "stream",
     "text": [
      "Epoch 10, Loss 0.1107\n",
      "Training Accuracy: 0.9162, Testing Accuracy: 0.9294\n",
      "\n"
     ]
    },
    {
     "name": "stdout",
     "output_type": "stream",
     "text": [
      "Epoch 20, Loss 0.0612\n",
      "Training Accuracy: 0.9400, Testing Accuracy: 0.9521\n",
      "\n"
     ]
    },
    {
     "name": "stdout",
     "output_type": "stream",
     "text": [
      "Epoch 30, Loss 0.0468\n",
      "Training Accuracy: 0.9490, Testing Accuracy: 0.9597\n",
      "\n"
     ]
    },
    {
     "name": "stdout",
     "output_type": "stream",
     "text": [
      "Epoch 40, Loss 0.0401\n",
      "Training Accuracy: 0.9547, Testing Accuracy: 0.9627\n",
      "\n"
     ]
    },
    {
     "name": "stdout",
     "output_type": "stream",
     "text": [
      "Epoch 50, Loss 0.0361\n",
      "Training Accuracy: 0.9582, Testing Accuracy: 0.9662\n",
      "\n"
     ]
    },
    {
     "name": "stdout",
     "output_type": "stream",
     "text": [
      "Epoch 60, Loss 0.0333\n",
      "Training Accuracy: 0.9608, Testing Accuracy: 0.9667\n",
      "\n"
     ]
    },
    {
     "name": "stdout",
     "output_type": "stream",
     "text": [
      "Epoch 70, Loss 0.0313\n",
      "Training Accuracy: 0.9643, Testing Accuracy: 0.9682\n",
      "\n"
     ]
    },
    {
     "name": "stdout",
     "output_type": "stream",
     "text": [
      "Epoch 80, Loss 0.0297\n",
      "Training Accuracy: 0.9664, Testing Accuracy: 0.9688\n",
      "\n"
     ]
    },
    {
     "name": "stdout",
     "output_type": "stream",
     "text": [
      "Epoch 90, Loss 0.0284\n",
      "Training Accuracy: 0.9678, Testing Accuracy: 0.9698\n",
      "\n"
     ]
    },
    {
     "name": "stdout",
     "output_type": "stream",
     "text": [
      "Epoch 100, Loss 0.0272\n",
      "Training Accuracy: 0.9690, Testing Accuracy: 0.9703\n",
      "\n"
     ]
    },
    {
     "name": "stdout",
     "output_type": "stream",
     "text": [
      "Epoch 110, Loss 0.0263\n",
      "Training Accuracy: 0.9699, Testing Accuracy: 0.9698\n",
      "\n"
     ]
    },
    {
     "name": "stdout",
     "output_type": "stream",
     "text": [
      "Epoch 120, Loss 0.0254\n",
      "Training Accuracy: 0.9705, Testing Accuracy: 0.9698\n",
      "\n"
     ]
    },
    {
     "name": "stdout",
     "output_type": "stream",
     "text": [
      "Epoch 130, Loss 0.0246\n",
      "Training Accuracy: 0.9715, Testing Accuracy: 0.9698\n",
      "\n"
     ]
    },
    {
     "name": "stdout",
     "output_type": "stream",
     "text": [
      "Epoch 140, Loss 0.0239\n",
      "Training Accuracy: 0.9719, Testing Accuracy: 0.9698\n",
      "\n"
     ]
    },
    {
     "name": "stdout",
     "output_type": "stream",
     "text": [
      "Epoch 150, Loss 0.0232\n",
      "Training Accuracy: 0.9733, Testing Accuracy: 0.9713\n",
      "\n"
     ]
    },
    {
     "name": "stdout",
     "output_type": "stream",
     "text": [
      "Epoch 160, Loss 0.0225\n",
      "Training Accuracy: 0.9741, Testing Accuracy: 0.9723\n",
      "\n"
     ]
    },
    {
     "name": "stdout",
     "output_type": "stream",
     "text": [
      "Epoch 170, Loss 0.0219\n",
      "Training Accuracy: 0.9750, Testing Accuracy: 0.9723\n",
      "\n"
     ]
    },
    {
     "name": "stdout",
     "output_type": "stream",
     "text": [
      "Epoch 180, Loss 0.0213\n",
      "Training Accuracy: 0.9758, Testing Accuracy: 0.9718\n",
      "\n"
     ]
    },
    {
     "name": "stdout",
     "output_type": "stream",
     "text": [
      "Epoch 190, Loss 0.0208\n",
      "Training Accuracy: 0.9770, Testing Accuracy: 0.9728\n",
      "\n"
     ]
    },
    {
     "name": "stdout",
     "output_type": "stream",
     "text": [
      "Epoch 200, Loss 0.0202\n",
      "Training Accuracy: 0.9774, Testing Accuracy: 0.9728\n",
      "\n"
     ]
    },
    {
     "name": "stdout",
     "output_type": "stream",
     "text": [
      "Epoch 210, Loss 0.0198\n",
      "Training Accuracy: 0.9779, Testing Accuracy: 0.9723\n",
      "\n"
     ]
    },
    {
     "name": "stdout",
     "output_type": "stream",
     "text": [
      "Epoch 220, Loss 0.0193\n",
      "Training Accuracy: 0.9786, Testing Accuracy: 0.9723\n",
      "\n"
     ]
    },
    {
     "name": "stdout",
     "output_type": "stream",
     "text": [
      "Epoch 230, Loss 0.0189\n",
      "Training Accuracy: 0.9788, Testing Accuracy: 0.9723\n",
      "\n"
     ]
    },
    {
     "name": "stdout",
     "output_type": "stream",
     "text": [
      "Epoch 240, Loss 0.0184\n",
      "Training Accuracy: 0.9796, Testing Accuracy: 0.9723\n",
      "\n"
     ]
    },
    {
     "data": {
      "text/plain": [
       "0.03660783129800769"
      ]
     },
     "execution_count": 22,
     "metadata": {},
     "output_type": "execute_result"
    }
   ],
   "source": [
    "nn_learner.train_loop(dl)"
   ]
  },
  {
   "cell_type": "code",
   "execution_count": 23,
   "id": "e0163366",
   "metadata": {
    "execution": {
     "iopub.execute_input": "2022-03-22T10:11:43.449969Z",
     "iopub.status.busy": "2022-03-22T10:11:43.449409Z",
     "iopub.status.idle": "2022-03-22T10:11:58.404400Z",
     "shell.execute_reply": "2022-03-22T10:11:58.404995Z"
    },
    "papermill": {
     "duration": 15.005852,
     "end_time": "2022-03-22T10:11:58.405155",
     "exception": false,
     "start_time": "2022-03-22T10:11:43.399303",
     "status": "completed"
    },
    "tags": []
   },
   "outputs": [
    {
     "name": "stdout",
     "output_type": "stream",
     "text": [
      "Epoch 0, Loss 0.273\n",
      "Training Accuracy: 0.5572, Testing Accuracy: 0.5650\n",
      "\n"
     ]
    },
    {
     "name": "stdout",
     "output_type": "stream",
     "text": [
      "Epoch 10, Loss 0.1052\n",
      "Training Accuracy: 0.9121, Testing Accuracy: 0.9244\n",
      "\n"
     ]
    },
    {
     "name": "stdout",
     "output_type": "stream",
     "text": [
      "Epoch 20, Loss 0.0798\n",
      "Training Accuracy: 0.9273, Testing Accuracy: 0.9390\n",
      "\n"
     ]
    },
    {
     "name": "stdout",
     "output_type": "stream",
     "text": [
      "Epoch 30, Loss 0.0684\n",
      "Training Accuracy: 0.9365, Testing Accuracy: 0.9476\n",
      "\n"
     ]
    },
    {
     "name": "stdout",
     "output_type": "stream",
     "text": [
      "Epoch 40, Loss 0.0617\n",
      "Training Accuracy: 0.9418, Testing Accuracy: 0.9531\n",
      "\n"
     ]
    },
    {
     "name": "stdout",
     "output_type": "stream",
     "text": [
      "Epoch 50, Loss 0.0571\n",
      "Training Accuracy: 0.9447, Testing Accuracy: 0.9567\n",
      "\n"
     ]
    },
    {
     "name": "stdout",
     "output_type": "stream",
     "text": [
      "Epoch 60, Loss 0.0538\n",
      "Training Accuracy: 0.9478, Testing Accuracy: 0.9597\n",
      "\n"
     ]
    },
    {
     "name": "stdout",
     "output_type": "stream",
     "text": [
      "Epoch 70, Loss 0.0512\n",
      "Training Accuracy: 0.9492, Testing Accuracy: 0.9602\n",
      "\n"
     ]
    },
    {
     "name": "stdout",
     "output_type": "stream",
     "text": [
      "Epoch 80, Loss 0.0492\n",
      "Training Accuracy: 0.9503, Testing Accuracy: 0.9607\n",
      "\n"
     ]
    },
    {
     "name": "stdout",
     "output_type": "stream",
     "text": [
      "Epoch 90, Loss 0.0475\n",
      "Training Accuracy: 0.9518, Testing Accuracy: 0.9607\n",
      "\n"
     ]
    },
    {
     "name": "stdout",
     "output_type": "stream",
     "text": [
      "Epoch 100, Loss 0.0461\n",
      "Training Accuracy: 0.9528, Testing Accuracy: 0.9617\n",
      "\n"
     ]
    },
    {
     "name": "stdout",
     "output_type": "stream",
     "text": [
      "Epoch 110, Loss 0.0449\n",
      "Training Accuracy: 0.9533, Testing Accuracy: 0.9632\n",
      "\n"
     ]
    },
    {
     "name": "stdout",
     "output_type": "stream",
     "text": [
      "Epoch 120, Loss 0.0438\n",
      "Training Accuracy: 0.9541, Testing Accuracy: 0.9652\n",
      "\n"
     ]
    },
    {
     "name": "stdout",
     "output_type": "stream",
     "text": [
      "Epoch 130, Loss 0.0429\n",
      "Training Accuracy: 0.9546, Testing Accuracy: 0.9652\n",
      "\n"
     ]
    },
    {
     "name": "stdout",
     "output_type": "stream",
     "text": [
      "Epoch 140, Loss 0.0421\n",
      "Training Accuracy: 0.9553, Testing Accuracy: 0.9647\n",
      "\n"
     ]
    },
    {
     "name": "stdout",
     "output_type": "stream",
     "text": [
      "Epoch 150, Loss 0.0414\n",
      "Training Accuracy: 0.9560, Testing Accuracy: 0.9657\n",
      "\n"
     ]
    },
    {
     "name": "stdout",
     "output_type": "stream",
     "text": [
      "Epoch 160, Loss 0.0407\n",
      "Training Accuracy: 0.9564, Testing Accuracy: 0.9657\n",
      "\n"
     ]
    },
    {
     "name": "stdout",
     "output_type": "stream",
     "text": [
      "Epoch 170, Loss 0.0401\n",
      "Training Accuracy: 0.9569, Testing Accuracy: 0.9662\n",
      "\n"
     ]
    },
    {
     "name": "stdout",
     "output_type": "stream",
     "text": [
      "Epoch 180, Loss 0.0395\n",
      "Training Accuracy: 0.9576, Testing Accuracy: 0.9667\n",
      "\n"
     ]
    },
    {
     "name": "stdout",
     "output_type": "stream",
     "text": [
      "Epoch 190, Loss 0.039\n",
      "Training Accuracy: 0.9580, Testing Accuracy: 0.9672\n",
      "\n"
     ]
    },
    {
     "name": "stdout",
     "output_type": "stream",
     "text": [
      "Epoch 200, Loss 0.0385\n",
      "Training Accuracy: 0.9584, Testing Accuracy: 0.9672\n",
      "\n"
     ]
    },
    {
     "name": "stdout",
     "output_type": "stream",
     "text": [
      "Epoch 210, Loss 0.0381\n",
      "Training Accuracy: 0.9589, Testing Accuracy: 0.9672\n",
      "\n"
     ]
    },
    {
     "name": "stdout",
     "output_type": "stream",
     "text": [
      "Epoch 220, Loss 0.0377\n",
      "Training Accuracy: 0.9594, Testing Accuracy: 0.9677\n",
      "\n"
     ]
    },
    {
     "name": "stdout",
     "output_type": "stream",
     "text": [
      "Epoch 230, Loss 0.0373\n",
      "Training Accuracy: 0.9595, Testing Accuracy: 0.9677\n",
      "\n"
     ]
    },
    {
     "name": "stdout",
     "output_type": "stream",
     "text": [
      "Epoch 240, Loss 0.037\n",
      "Training Accuracy: 0.9602, Testing Accuracy: 0.9672\n",
      "\n"
     ]
    },
    {
     "data": {
      "text/plain": [
       "0.03773538251841611"
      ]
     },
     "execution_count": 23,
     "metadata": {},
     "output_type": "execute_result"
    }
   ],
   "source": [
    "lr_learner.train_loop(dl)"
   ]
  },
  {
   "cell_type": "code",
   "execution_count": 24,
   "id": "ca410940",
   "metadata": {
    "execution": {
     "iopub.execute_input": "2022-03-22T10:11:58.502334Z",
     "iopub.status.busy": "2022-03-22T10:11:58.501707Z",
     "iopub.status.idle": "2022-03-22T10:11:58.740624Z",
     "shell.execute_reply": "2022-03-22T10:11:58.739387Z"
    },
    "papermill": {
     "duration": 0.292454,
     "end_time": "2022-03-22T10:11:58.740790",
     "exception": false,
     "start_time": "2022-03-22T10:11:58.448336",
     "status": "completed"
    },
    "tags": []
   },
   "outputs": [
    {
     "data": {
      "text/plain": [
       "<matplotlib.legend.Legend at 0x7f38ffe55cf8>"
      ]
     },
     "execution_count": 24,
     "metadata": {},
     "output_type": "execute_result"
    },
    {
     "data": {
      "image/png": "[encoded data removed]",
      "text/plain": [
       "<Figure size 1080x720 with 1 Axes>"
      ]
     },
     "metadata": {
      "needs_background": "light"
     },
     "output_type": "display_data"
    }
   ],
   "source": [
    "#comparing the results of NN and LR\n",
    "plt.figure(figsize=(15,10))\n",
    "\n",
    "# Neural Network plots\n",
    "plt.plot(acc_nn.accuracies, 'r-', label = \"Training Accuracies - NN\")\n",
    "plt.plot(acc_nn.test_accuracies, 'g-', label = \"Testing Accuracies - NN\")\n",
    "\n",
    "# Logistic Regression plots\n",
    "plt.plot(acc_lr.accuracies, 'k-', label = \"Training Accuracies - LR\")\n",
    "plt.plot(acc_lr.test_accuracies, 'b-', label = \"Testing Accuracies - LR\")\n",
    "plt.legend()"
   ]
  },
  {
   "cell_type": "markdown",
   "id": "80dfb35c",
   "metadata": {
    "papermill": {
     "duration": 0.046191,
     "end_time": "2022-03-22T10:11:58.831512",
     "exception": false,
     "start_time": "2022-03-22T10:11:58.785321",
     "status": "completed"
    },
    "tags": []
   },
   "source": [
    "#### Plotting the outputs of this layer of the NN.\n"
   ]
  },
  {
   "cell_type": "code",
   "execution_count": 25,
   "id": "45eb2ff5",
   "metadata": {
    "execution": {
     "iopub.execute_input": "2022-03-22T10:11:58.926256Z",
     "iopub.status.busy": "2022-03-22T10:11:58.925657Z",
     "iopub.status.idle": "2022-03-22T10:11:58.946832Z",
     "shell.execute_reply": "2022-03-22T10:11:58.946303Z"
    },
    "papermill": {
     "duration": 0.069828,
     "end_time": "2022-03-22T10:11:58.946978",
     "exception": false,
     "start_time": "2022-03-22T10:11:58.877150",
     "status": "completed"
    },
    "tags": []
   },
   "outputs": [],
   "source": [
    "new_model = Model(layers[:-2])\n",
    "testing_plot = new_model(testing_data_x)"
   ]
  },
  {
   "cell_type": "code",
   "execution_count": 26,
   "id": "4c0a5485",
   "metadata": {
    "execution": {
     "iopub.execute_input": "2022-03-22T10:11:59.047318Z",
     "iopub.status.busy": "2022-03-22T10:11:59.043895Z",
     "iopub.status.idle": "2022-03-22T10:11:59.286765Z",
     "shell.execute_reply": "2022-03-22T10:11:59.286275Z"
    },
    "papermill": {
     "duration": 0.293525,
     "end_time": "2022-03-22T10:11:59.286893",
     "exception": false,
     "start_time": "2022-03-22T10:11:58.993368",
     "status": "completed"
    },
    "tags": []
   },
   "outputs": [
    {
     "data": {
      "text/plain": [
       "Text(0.5, 1.0, 'Outputs')"
      ]
     },
     "execution_count": 26,
     "metadata": {},
     "output_type": "execute_result"
    },
    {
     "data": {
      "image/png": "[encoded data removed]",
      "text/plain": [
       "<Figure size 576x504 with 1 Axes>"
      ]
     },
     "metadata": {
      "needs_background": "light"
     },
     "output_type": "display_data"
    }
   ],
   "source": [
    "# Plotting the scatter plot of points and color coding by class\n",
    "plt.figure(figsize=(8,7))\n",
    "plt.scatter(testing_plot[:,0], testing_plot[:,1], alpha = 0.1, c = y_test.ravel());\n",
    "plt.title('Outputs')"
   ]
  },
  {
   "cell_type": "markdown",
   "id": "a74fcf8f",
   "metadata": {
    "papermill": {
     "duration": 0.046542,
     "end_time": "2022-03-22T10:11:59.380901",
     "exception": false,
     "start_time": "2022-03-22T10:11:59.334359",
     "status": "completed"
    },
    "tags": []
   },
   "source": [
    "Probability contours"
   ]
  },
  {
   "cell_type": "code",
   "execution_count": 27,
   "id": "d0afc8e3",
   "metadata": {
    "execution": {
     "iopub.execute_input": "2022-03-22T10:11:59.511570Z",
     "iopub.status.busy": "2022-03-22T10:11:59.510990Z",
     "iopub.status.idle": "2022-03-22T10:11:59.529419Z",
     "shell.execute_reply": "2022-03-22T10:11:59.529877Z"
    },
    "papermill": {
     "duration": 0.10029,
     "end_time": "2022-03-22T10:11:59.530025",
     "exception": false,
     "start_time": "2022-03-22T10:11:59.429735",
     "status": "completed"
    },
    "tags": []
   },
   "outputs": [],
   "source": [
    "model_prob = Model(layers[-2:]) "
   ]
  },
  {
   "cell_type": "code",
   "execution_count": 28,
   "id": "9b96e238",
   "metadata": {
    "execution": {
     "iopub.execute_input": "2022-03-22T10:11:59.635722Z",
     "iopub.status.busy": "2022-03-22T10:11:59.635094Z",
     "iopub.status.idle": "2022-03-22T10:11:59.649067Z",
     "shell.execute_reply": "2022-03-22T10:11:59.649553Z"
    },
    "papermill": {
     "duration": 0.068312,
     "end_time": "2022-03-22T10:11:59.649720",
     "exception": false,
     "start_time": "2022-03-22T10:11:59.581408",
     "status": "completed"
    },
    "tags": []
   },
   "outputs": [],
   "source": [
    "#creating the x and y ranges according to the above generated plot.\n",
    "x_range = np.linspace(-4, 1, 100) \n",
    "y_range = np.linspace(-6, 6, 100) \n",
    "x_grid, y_grid = np.meshgrid(x_range, y_range) # x_grid and y_grig are of size 100 X 100\n",
    "\n",
    "# converting x_grid and y_grid to continuous arrays\n",
    "x_gridflat = np.ravel(x_grid)\n",
    "y_gridflat = np.ravel(y_grid)\n",
    "\n",
    "# The last layer of the current model takes two columns as input. Hence transpose of np.vstack() is required.\n",
    "X = np.vstack((x_gridflat, y_gridflat)).T\n",
    "\n",
    "prob_contour = model_prob(X).reshape(100,100) "
   ]
  },
  {
   "cell_type": "code",
   "execution_count": 29,
   "id": "da72499a",
   "metadata": {
    "execution": {
     "iopub.execute_input": "2022-03-22T10:11:59.758568Z",
     "iopub.status.busy": "2022-03-22T10:11:59.757950Z",
     "iopub.status.idle": "2022-03-22T10:12:00.028813Z",
     "shell.execute_reply": "2022-03-22T10:12:00.027588Z"
    },
    "papermill": {
     "duration": 0.32855,
     "end_time": "2022-03-22T10:12:00.028972",
     "exception": false,
     "start_time": "2022-03-22T10:11:59.700422",
     "status": "completed"
    },
    "tags": []
   },
   "outputs": [
    {
     "data": {
      "image/png": "[encoded data removed]",
      "text/plain": [
       "<Figure size 720x648 with 1 Axes>"
      ]
     },
     "metadata": {
      "needs_background": "light"
     },
     "output_type": "display_data"
    }
   ],
   "source": [
    "plt.figure(figsize=(10,9))\n",
    "plt.scatter(testing_plot[:,0], testing_plot[:,1], alpha = 0.1, c = y_test.ravel())\n",
    "contours = plt.contour(x_grid,y_grid,prob_contour)\n",
    "plt.title('Probability Contours')\n",
    "plt.clabel(contours, inline = True );"
   ]
  },
  {
   "cell_type": "code",
   "execution_count": null,
   "id": "e81b4ac7",
   "metadata": {
    "papermill": {
     "duration": 0.054046,
     "end_time": "2022-03-22T10:12:00.147837",
     "exception": false,
     "start_time": "2022-03-22T10:12:00.093791",
     "status": "completed"
    },
    "tags": []
   },
   "outputs": [],
   "source": []
  }
 ],
 "metadata": {
  "kernelspec": {
   "display_name": "Python 3",
   "language": "python",
   "name": "python3"
  },
  "language_info": {
   "codemirror_mode": {
    "name": "ipython",
    "version": 3
   },
   "file_extension": ".py",
   "mimetype": "text/x-python",
   "name": "python",
   "nbconvert_exporter": "python",
   "pygments_lexer": "ipython3",
   "version": "3.6.15"
  },
  "papermill": {
   "default_parameters": {},
   "duration": 112.188825,
   "end_time": "2022-03-22T10:12:00.623436",
   "environment_variables": {},
   "exception": null,
   "input_path": "2020-08-11-part2.ipynb",
   "output_path": "2020-08-11-part2.ipynb",
   "parameters": {},
   "start_time": "2022-03-22T10:10:08.434611",
   "version": "2.3.3"
  }
 },
 "nbformat": 4,
 "nbformat_minor": 5
}