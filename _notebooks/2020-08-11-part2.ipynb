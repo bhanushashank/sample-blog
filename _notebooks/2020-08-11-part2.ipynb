{
 "cells": [
  {
   "cell_type": "markdown",
   "id": "98380cd3",
   "metadata": {
    "papermill": {
     "duration": 0.033901,
     "end_time": "2022-03-04T10:09:37.218002",
     "exception": false,
     "start_time": "2022-03-04T10:09:37.184101",
     "status": "completed"
    },
    "tags": []
   },
   "source": [
    "# Distinguish Your Own Digits (DYOD)"
   ]
  },
  {
   "cell_type": "markdown",
   "id": "ef31240d",
   "metadata": {
    "papermill": {
     "duration": 0.032333,
     "end_time": "2022-03-04T10:09:37.281400",
     "exception": false,
     "start_time": "2022-03-04T10:09:37.249067",
     "status": "completed"
    },
    "tags": []
   },
   "source": [
    "You are going to write a classifier that distinguishes between the number 3 and number 8."
   ]
  },
  {
   "cell_type": "code",
   "execution_count": 1,
   "id": "b15c8646",
   "metadata": {
    "execution": {
     "iopub.execute_input": "2022-03-04T10:09:37.354493Z",
     "iopub.status.busy": "2022-03-04T10:09:37.353759Z",
     "iopub.status.idle": "2022-03-04T10:09:37.367417Z",
     "shell.execute_reply": "2022-03-04T10:09:37.366845Z"
    },
    "papermill": {
     "duration": 0.055717,
     "end_time": "2022-03-04T10:09:37.367595",
     "exception": false,
     "start_time": "2022-03-04T10:09:37.311878",
     "status": "completed"
    },
    "tags": []
   },
   "outputs": [],
   "source": [
    "%load_ext autoreload\n",
    "%autoreload 2"
   ]
  },
  {
   "cell_type": "code",
   "execution_count": 2,
   "id": "22ef38dc",
   "metadata": {
    "execution": {
     "iopub.execute_input": "2022-03-04T10:09:37.436980Z",
     "iopub.status.busy": "2022-03-04T10:09:37.436305Z",
     "iopub.status.idle": "2022-03-04T10:09:38.141942Z",
     "shell.execute_reply": "2022-03-04T10:09:38.142496Z"
    },
    "papermill": {
     "duration": 0.742437,
     "end_time": "2022-03-04T10:09:38.142679",
     "exception": false,
     "start_time": "2022-03-04T10:09:37.400242",
     "status": "completed"
    },
    "tags": []
   },
   "outputs": [],
   "source": [
    "%matplotlib inline\n",
    "import numpy as np\n",
    "import matplotlib.pyplot as plt\n",
    "import pandas as pd"
   ]
  },
  {
   "cell_type": "markdown",
   "id": "ba036198",
   "metadata": {
    "papermill": {
     "duration": 0.033356,
     "end_time": "2022-03-04T10:09:38.206196",
     "exception": false,
     "start_time": "2022-03-04T10:09:38.172840",
     "status": "completed"
    },
    "tags": []
   },
   "source": [
    "From the command line run `pip install mnist`. This is a library that will help you bring down the mnist dataset. If you run this from a notebook, you need to put  `!pip install mnist` in a cell by itself."
   ]
  },
  {
   "cell_type": "code",
   "execution_count": 3,
   "id": "bb6ad8a1",
   "metadata": {
    "execution": {
     "iopub.execute_input": "2022-03-04T10:09:38.282465Z",
     "iopub.status.busy": "2022-03-04T10:09:38.281759Z",
     "iopub.status.idle": "2022-03-04T10:09:40.304383Z",
     "shell.execute_reply": "2022-03-04T10:09:40.304895Z"
    },
    "papermill": {
     "duration": 2.062492,
     "end_time": "2022-03-04T10:09:40.305078",
     "exception": false,
     "start_time": "2022-03-04T10:09:38.242586",
     "status": "completed"
    },
    "tags": []
   },
   "outputs": [
    {
     "name": "stdout",
     "output_type": "stream",
     "text": [
      "Collecting mnist\r\n",
      "  Downloading mnist-0.2.2-py2.py3-none-any.whl (3.5 kB)\r\n"
     ]
    },
    {
     "name": "stdout",
     "output_type": "stream",
     "text": [
      "Requirement already satisfied: numpy in /opt/hostedtoolcache/Python/3.6.15/x64/lib/python3.6/site-packages (from mnist) (1.19.5)\r\n"
     ]
    },
    {
     "name": "stdout",
     "output_type": "stream",
     "text": [
      "Installing collected packages: mnist\r\n"
     ]
    },
    {
     "name": "stdout",
     "output_type": "stream",
     "text": [
      "Successfully installed mnist-0.2.2\r\n"
     ]
    }
   ],
   "source": [
    "!pip install mnist"
   ]
  },
  {
   "cell_type": "markdown",
   "id": "69df9c9a",
   "metadata": {
    "papermill": {
     "duration": 0.031736,
     "end_time": "2022-03-04T10:09:40.368442",
     "exception": false,
     "start_time": "2022-03-04T10:09:40.336706",
     "status": "completed"
    },
    "tags": []
   },
   "source": [
    "## Preparing the Data"
   ]
  },
  {
   "cell_type": "code",
   "execution_count": 4,
   "id": "7f69d806",
   "metadata": {
    "execution": {
     "iopub.execute_input": "2022-03-04T10:09:40.448623Z",
     "iopub.status.busy": "2022-03-04T10:09:40.443737Z",
     "iopub.status.idle": "2022-03-04T10:09:40.457126Z",
     "shell.execute_reply": "2022-03-04T10:09:40.457682Z"
    },
    "papermill": {
     "duration": 0.05787,
     "end_time": "2022-03-04T10:09:40.457844",
     "exception": false,
     "start_time": "2022-03-04T10:09:40.399974",
     "status": "completed"
    },
    "tags": []
   },
   "outputs": [],
   "source": [
    "import mnist"
   ]
  },
  {
   "cell_type": "code",
   "execution_count": 5,
   "id": "a411e44f",
   "metadata": {
    "execution": {
     "iopub.execute_input": "2022-03-04T10:09:40.535448Z",
     "iopub.status.busy": "2022-03-04T10:09:40.531031Z",
     "iopub.status.idle": "2022-03-04T10:09:41.106241Z",
     "shell.execute_reply": "2022-03-04T10:09:41.105009Z"
    },
    "papermill": {
     "duration": 0.61652,
     "end_time": "2022-03-04T10:09:41.106402",
     "exception": false,
     "start_time": "2022-03-04T10:09:40.489882",
     "status": "completed"
    },
    "tags": []
   },
   "outputs": [],
   "source": [
    "train_images = mnist.train_images()\n",
    "train_labels = mnist.train_labels()"
   ]
  },
  {
   "cell_type": "code",
   "execution_count": 6,
   "id": "dceab3a5",
   "metadata": {
    "execution": {
     "iopub.execute_input": "2022-03-04T10:09:41.192986Z",
     "iopub.status.busy": "2022-03-04T10:09:41.192189Z",
     "iopub.status.idle": "2022-03-04T10:09:41.199116Z",
     "shell.execute_reply": "2022-03-04T10:09:41.198542Z"
    },
    "papermill": {
     "duration": 0.056525,
     "end_time": "2022-03-04T10:09:41.199263",
     "exception": false,
     "start_time": "2022-03-04T10:09:41.142738",
     "status": "completed"
    },
    "tags": []
   },
   "outputs": [
    {
     "data": {
      "text/plain": [
       "((60000, 28, 28), (60000,))"
      ]
     },
     "execution_count": 6,
     "metadata": {},
     "output_type": "execute_result"
    }
   ],
   "source": [
    "train_images.shape, train_labels.shape"
   ]
  },
  {
   "cell_type": "code",
   "execution_count": 7,
   "id": "f50dc2bb",
   "metadata": {
    "execution": {
     "iopub.execute_input": "2022-03-04T10:09:41.271787Z",
     "iopub.status.busy": "2022-03-04T10:09:41.271123Z",
     "iopub.status.idle": "2022-03-04T10:09:41.456979Z",
     "shell.execute_reply": "2022-03-04T10:09:41.456388Z"
    },
    "papermill": {
     "duration": 0.223252,
     "end_time": "2022-03-04T10:09:41.457132",
     "exception": false,
     "start_time": "2022-03-04T10:09:41.233880",
     "status": "completed"
    },
    "tags": []
   },
   "outputs": [],
   "source": [
    "test_images = mnist.test_images()\n",
    "test_labels = mnist.test_labels()"
   ]
  },
  {
   "cell_type": "code",
   "execution_count": 8,
   "id": "fc38cf1b",
   "metadata": {
    "execution": {
     "iopub.execute_input": "2022-03-04T10:09:41.526053Z",
     "iopub.status.busy": "2022-03-04T10:09:41.525398Z",
     "iopub.status.idle": "2022-03-04T10:09:41.539819Z",
     "shell.execute_reply": "2022-03-04T10:09:41.540457Z"
    },
    "papermill": {
     "duration": 0.050975,
     "end_time": "2022-03-04T10:09:41.540636",
     "exception": false,
     "start_time": "2022-03-04T10:09:41.489661",
     "status": "completed"
    },
    "tags": []
   },
   "outputs": [
    {
     "data": {
      "text/plain": [
       "((10000, 28, 28), (10000,))"
      ]
     },
     "execution_count": 8,
     "metadata": {},
     "output_type": "execute_result"
    }
   ],
   "source": [
    "test_images.shape, test_labels.shape"
   ]
  },
  {
   "cell_type": "code",
   "execution_count": 9,
   "id": "f9ed8fe0",
   "metadata": {
    "execution": {
     "iopub.execute_input": "2022-03-04T10:09:41.610898Z",
     "iopub.status.busy": "2022-03-04T10:09:41.610216Z",
     "iopub.status.idle": "2022-03-04T10:09:41.795279Z",
     "shell.execute_reply": "2022-03-04T10:09:41.795832Z"
    },
    "papermill": {
     "duration": 0.22331,
     "end_time": "2022-03-04T10:09:41.796010",
     "exception": false,
     "start_time": "2022-03-04T10:09:41.572700",
     "status": "completed"
    },
    "tags": []
   },
   "outputs": [
    {
     "name": "stdout",
     "output_type": "stream",
     "text": [
      "2\n"
     ]
    },
    {
     "data": {
      "text/plain": [
       "<matplotlib.image.AxesImage at 0x7efdc42535c0>"
      ]
     },
     "execution_count": 9,
     "metadata": {},
     "output_type": "execute_result"
    },
    {
     "data": {
      "image/png": "[encoded data removed]",
      "text/plain": [
       "<Figure size 432x288 with 1 Axes>"
      ]
     },
     "metadata": {
      "needs_background": "light"
     },
     "output_type": "display_data"
    }
   ],
   "source": [
    "image_index = 7776 # You may select anything up to 60,000\n",
    "print(train_labels[image_index]) \n",
    "plt.imshow(train_images[image_index], cmap='Greys')"
   ]
  },
  {
   "cell_type": "markdown",
   "id": "a8d2388d",
   "metadata": {
    "papermill": {
     "duration": 0.034217,
     "end_time": "2022-03-04T10:09:41.864887",
     "exception": false,
     "start_time": "2022-03-04T10:09:41.830670",
     "status": "completed"
    },
    "tags": []
   },
   "source": [
    "## Filter data to get 3 and 8 out"
   ]
  },
  {
   "cell_type": "code",
   "execution_count": 10,
   "id": "776f7fc7",
   "metadata": {
    "execution": {
     "iopub.execute_input": "2022-03-04T10:09:41.938027Z",
     "iopub.status.busy": "2022-03-04T10:09:41.937335Z",
     "iopub.status.idle": "2022-03-04T10:09:41.958050Z",
     "shell.execute_reply": "2022-03-04T10:09:41.957462Z"
    },
    "papermill": {
     "duration": 0.060172,
     "end_time": "2022-03-04T10:09:41.958239",
     "exception": false,
     "start_time": "2022-03-04T10:09:41.898067",
     "status": "completed"
    },
    "tags": []
   },
   "outputs": [],
   "source": [
    "train_filter = np.where((train_labels == 3 ) | (train_labels == 8))\n",
    "test_filter = np.where((test_labels == 3) | (test_labels == 8))\n",
    "X_train, y_train = train_images[train_filter], train_labels[train_filter]\n",
    "X_test, y_test = test_images[test_filter], test_labels[test_filter]"
   ]
  },
  {
   "cell_type": "markdown",
   "id": "948f0b7e",
   "metadata": {
    "papermill": {
     "duration": 0.034528,
     "end_time": "2022-03-04T10:09:42.026780",
     "exception": false,
     "start_time": "2022-03-04T10:09:41.992252",
     "status": "completed"
    },
    "tags": []
   },
   "source": [
    "We normalize the pizel values in the 0 to 1 range"
   ]
  },
  {
   "cell_type": "code",
   "execution_count": 11,
   "id": "ee4c2166",
   "metadata": {
    "execution": {
     "iopub.execute_input": "2022-03-04T10:09:42.099379Z",
     "iopub.status.busy": "2022-03-04T10:09:42.098699Z",
     "iopub.status.idle": "2022-03-04T10:09:42.160491Z",
     "shell.execute_reply": "2022-03-04T10:09:42.159896Z"
    },
    "papermill": {
     "duration": 0.099257,
     "end_time": "2022-03-04T10:09:42.160645",
     "exception": false,
     "start_time": "2022-03-04T10:09:42.061388",
     "status": "completed"
    },
    "tags": []
   },
   "outputs": [],
   "source": [
    "X_train = X_train/255.\n",
    "X_test = X_test/255."
   ]
  },
  {
   "cell_type": "markdown",
   "id": "ddcf4fab",
   "metadata": {
    "papermill": {
     "duration": 0.033555,
     "end_time": "2022-03-04T10:09:42.230005",
     "exception": false,
     "start_time": "2022-03-04T10:09:42.196450",
     "status": "completed"
    },
    "tags": []
   },
   "source": [
    "And setup the labels as 1 (when the digit is 3) and 0 (when the digit is 8)"
   ]
  },
  {
   "cell_type": "code",
   "execution_count": 12,
   "id": "7dc908f2",
   "metadata": {
    "execution": {
     "iopub.execute_input": "2022-03-04T10:09:42.303561Z",
     "iopub.status.busy": "2022-03-04T10:09:42.302881Z",
     "iopub.status.idle": "2022-03-04T10:09:42.328009Z",
     "shell.execute_reply": "2022-03-04T10:09:42.327394Z"
    },
    "papermill": {
     "duration": 0.063164,
     "end_time": "2022-03-04T10:09:42.328161",
     "exception": false,
     "start_time": "2022-03-04T10:09:42.264997",
     "status": "completed"
    },
    "tags": []
   },
   "outputs": [],
   "source": [
    "y_train = 1*(y_train==3)\n",
    "y_test = 1*(y_test==3)"
   ]
  },
  {
   "cell_type": "code",
   "execution_count": 13,
   "id": "01e4e969",
   "metadata": {
    "execution": {
     "iopub.execute_input": "2022-03-04T10:09:42.400260Z",
     "iopub.status.busy": "2022-03-04T10:09:42.399592Z",
     "iopub.status.idle": "2022-03-04T10:09:42.415667Z",
     "shell.execute_reply": "2022-03-04T10:09:42.416446Z"
    },
    "papermill": {
     "duration": 0.054657,
     "end_time": "2022-03-04T10:09:42.416619",
     "exception": false,
     "start_time": "2022-03-04T10:09:42.361962",
     "status": "completed"
    },
    "tags": []
   },
   "outputs": [
    {
     "data": {
      "text/plain": [
       "((11982, 28, 28), (1984, 28, 28))"
      ]
     },
     "execution_count": 13,
     "metadata": {},
     "output_type": "execute_result"
    }
   ],
   "source": [
    "X_train.shape, X_test.shape"
   ]
  },
  {
   "cell_type": "markdown",
   "id": "5ccf3f85",
   "metadata": {
    "papermill": {
     "duration": 0.035391,
     "end_time": "2022-03-04T10:09:42.498465",
     "exception": false,
     "start_time": "2022-03-04T10:09:42.463074",
     "status": "completed"
    },
    "tags": []
   },
   "source": [
    "We reshape the data to flatten the image pixels into a set of features or co-variates:"
   ]
  },
  {
   "cell_type": "code",
   "execution_count": 14,
   "id": "5286a4a3",
   "metadata": {
    "execution": {
     "iopub.execute_input": "2022-03-04T10:09:42.571681Z",
     "iopub.status.busy": "2022-03-04T10:09:42.571014Z",
     "iopub.status.idle": "2022-03-04T10:09:42.586473Z",
     "shell.execute_reply": "2022-03-04T10:09:42.585895Z"
    },
    "papermill": {
     "duration": 0.054062,
     "end_time": "2022-03-04T10:09:42.586609",
     "exception": false,
     "start_time": "2022-03-04T10:09:42.532547",
     "status": "completed"
    },
    "tags": []
   },
   "outputs": [
    {
     "data": {
      "text/plain": [
       "((11982, 784), (1984, 784))"
      ]
     },
     "execution_count": 14,
     "metadata": {},
     "output_type": "execute_result"
    }
   ],
   "source": [
    "X_train = X_train.reshape(X_train.shape[0], -1)\n",
    "X_test = X_test.reshape(X_test.shape[0], -1)\n",
    "X_train.shape, X_test.shape"
   ]
  },
  {
   "cell_type": "code",
   "execution_count": 15,
   "id": "73c5f88a",
   "metadata": {
    "execution": {
     "iopub.execute_input": "2022-03-04T10:09:42.665559Z",
     "iopub.status.busy": "2022-03-04T10:09:42.664883Z",
     "iopub.status.idle": "2022-03-04T10:09:42.685288Z",
     "shell.execute_reply": "2022-03-04T10:09:42.684685Z"
    },
    "papermill": {
     "duration": 0.064017,
     "end_time": "2022-03-04T10:09:42.685435",
     "exception": false,
     "start_time": "2022-03-04T10:09:42.621418",
     "status": "completed"
    },
    "tags": []
   },
   "outputs": [],
   "source": [
    "#Impoting functions from 'Kudzu'\n",
    "from kudzu.model import Model\n",
    "from kudzu.train import Learner\n",
    "from kudzu.optim import GD\n",
    "from kudzu.data import Data, Sampler,Dataloader\n",
    "\n",
    "from kudzu.callbacks import AccCallback\n",
    "from kudzu.callbacks import ClfCallback\n",
    "\n",
    "from kudzu.loss import MSE\n",
    "\n",
    "from kudzu.layer import Sigmoid,Relu\n",
    "from kudzu.layer import Affine"
   ]
  },
  {
   "cell_type": "markdown",
   "id": "bc01172a",
   "metadata": {
    "papermill": {
     "duration": 0.034129,
     "end_time": "2022-03-04T10:09:42.754235",
     "exception": false,
     "start_time": "2022-03-04T10:09:42.720106",
     "status": "completed"
    },
    "tags": []
   },
   "source": [
    "### Let us create a `Config` class, to store important parameters. \n",
    "This class essentially plays the role of a dictionary."
   ]
  },
  {
   "cell_type": "code",
   "execution_count": 16,
   "id": "978281aa",
   "metadata": {
    "execution": {
     "iopub.execute_input": "2022-03-04T10:09:42.830054Z",
     "iopub.status.busy": "2022-03-04T10:09:42.829229Z",
     "iopub.status.idle": "2022-03-04T10:09:42.841372Z",
     "shell.execute_reply": "2022-03-04T10:09:42.840809Z"
    },
    "papermill": {
     "duration": 0.05363,
     "end_time": "2022-03-04T10:09:42.841511",
     "exception": false,
     "start_time": "2022-03-04T10:09:42.787881",
     "status": "completed"
    },
    "tags": []
   },
   "outputs": [],
   "source": [
    "class Config:\n",
    "    pass\n",
    "config = Config()\n",
    "config.lr = 0.001\n",
    "config.num_epochs = 250\n",
    "config.bs = 50"
   ]
  },
  {
   "cell_type": "markdown",
   "id": "1385fa59",
   "metadata": {
    "papermill": {
     "duration": 0.035031,
     "end_time": "2022-03-04T10:09:42.910355",
     "exception": false,
     "start_time": "2022-03-04T10:09:42.875324",
     "status": "completed"
    },
    "tags": []
   },
   "source": [
    "### Running Models with the Training data\n",
    "Details about the network layers:\n",
    "- A first affine layer has 784 inputs and does 100 affine transforms. These are followed by a Relu\n",
    "- A second affine layer has 100 inputs from the 100 activations of the past layer, and does 100 affine transforms. These are followed by a Relu\n",
    "- A third affine layer has 100 activations and does 2 affine transformations to create an embedding for visualization. There is no non-linearity here.\n",
    "- A final \"logistic regression\" which has an affine transform from 2 inputs to 1 output, which is squeezed through a sigmoid.\n"
   ]
  },
  {
   "cell_type": "code",
   "execution_count": 17,
   "id": "2b9c66db",
   "metadata": {
    "execution": {
     "iopub.execute_input": "2022-03-04T10:09:42.984449Z",
     "iopub.status.busy": "2022-03-04T10:09:42.983785Z",
     "iopub.status.idle": "2022-03-04T10:09:42.997757Z",
     "shell.execute_reply": "2022-03-04T10:09:42.998417Z"
    },
    "papermill": {
     "duration": 0.05375,
     "end_time": "2022-03-04T10:09:42.998581",
     "exception": false,
     "start_time": "2022-03-04T10:09:42.944831",
     "status": "completed"
    },
    "tags": []
   },
   "outputs": [],
   "source": [
    "data = Data(X_train, y_train.reshape(-1,1))\n",
    "sampler = Sampler(data, config.bs, shuffle=True)\n",
    "\n",
    "dl = Dataloader(data, sampler)\n",
    "\n",
    "opt = GD(config.lr)\n",
    "loss = MSE()"
   ]
  },
  {
   "cell_type": "code",
   "execution_count": 18,
   "id": "b275e4c2",
   "metadata": {
    "execution": {
     "iopub.execute_input": "2022-03-04T10:09:43.071837Z",
     "iopub.status.busy": "2022-03-04T10:09:43.071170Z",
     "iopub.status.idle": "2022-03-04T10:09:43.084637Z",
     "shell.execute_reply": "2022-03-04T10:09:43.084074Z"
    },
    "papermill": {
     "duration": 0.051741,
     "end_time": "2022-03-04T10:09:43.084774",
     "exception": false,
     "start_time": "2022-03-04T10:09:43.033033",
     "status": "completed"
    },
    "tags": []
   },
   "outputs": [],
   "source": [
    "training_data_x = X_train\n",
    "testing_data_x = X_test\n",
    "training_data_y = y_train.reshape(-1,1)\n",
    "testing_data_y = y_test.reshape(-1,1)"
   ]
  },
  {
   "cell_type": "code",
   "execution_count": 19,
   "id": "76951160",
   "metadata": {
    "execution": {
     "iopub.execute_input": "2022-03-04T10:09:43.159994Z",
     "iopub.status.busy": "2022-03-04T10:09:43.159317Z",
     "iopub.status.idle": "2022-03-04T10:09:43.177530Z",
     "shell.execute_reply": "2022-03-04T10:09:43.178195Z"
    },
    "papermill": {
     "duration": 0.05887,
     "end_time": "2022-03-04T10:09:43.178357",
     "exception": false,
     "start_time": "2022-03-04T10:09:43.119487",
     "status": "completed"
    },
    "tags": []
   },
   "outputs": [
    {
     "name": "stdout",
     "output_type": "stream",
     "text": [
      "xavier\n",
      "xavier\n",
      "xavier\n",
      "xavier\n",
      "xavier\n"
     ]
    }
   ],
   "source": [
    "layers = [Affine(\"first\", 784, 100), Relu(\"first\"), Affine(\"second\", 100, 100), Relu(\"second\"), Affine(\"third\", 100, 2), Affine(\"last\", 2, 1), Sigmoid(\"last\")]\n",
    "model_nn = Model(layers)\n",
    "model_lr = Model([Affine(\"logits\", 784, 1), Sigmoid(\"sigmoid\")])"
   ]
  },
  {
   "cell_type": "code",
   "execution_count": 20,
   "id": "6eede77a",
   "metadata": {
    "execution": {
     "iopub.execute_input": "2022-03-04T10:09:43.250861Z",
     "iopub.status.busy": "2022-03-04T10:09:43.250191Z",
     "iopub.status.idle": "2022-03-04T10:09:43.263431Z",
     "shell.execute_reply": "2022-03-04T10:09:43.264063Z"
    },
    "papermill": {
     "duration": 0.05198,
     "end_time": "2022-03-04T10:09:43.264217",
     "exception": false,
     "start_time": "2022-03-04T10:09:43.212237",
     "status": "completed"
    },
    "tags": []
   },
   "outputs": [],
   "source": [
    "nn_learner = Learner(loss, model_nn, opt, config.num_epochs)\n",
    "acc_nn = ClfCallback(nn_learner, config.bs, training_data_x , testing_data_x, training_data_y, testing_data_y)\n",
    "nn_learner.set_callbacks([acc_nn])"
   ]
  },
  {
   "cell_type": "code",
   "execution_count": 21,
   "id": "877b6cc7",
   "metadata": {
    "execution": {
     "iopub.execute_input": "2022-03-04T10:09:43.341021Z",
     "iopub.status.busy": "2022-03-04T10:09:43.340358Z",
     "iopub.status.idle": "2022-03-04T10:09:43.353980Z",
     "shell.execute_reply": "2022-03-04T10:09:43.354644Z"
    },
    "papermill": {
     "duration": 0.052863,
     "end_time": "2022-03-04T10:09:43.354798",
     "exception": false,
     "start_time": "2022-03-04T10:09:43.301935",
     "status": "completed"
    },
    "tags": []
   },
   "outputs": [],
   "source": [
    "lr_learner = Learner(loss, model_lr, opt, config.num_epochs)\n",
    "acc_lr = ClfCallback(lr_learner, config.bs, training_data_x , testing_data_x, training_data_y, testing_data_y)\n",
    "lr_learner.set_callbacks([acc_lr])"
   ]
  },
  {
   "cell_type": "code",
   "execution_count": 22,
   "id": "d9b133c3",
   "metadata": {
    "execution": {
     "iopub.execute_input": "2022-03-04T10:09:43.429794Z",
     "iopub.status.busy": "2022-03-04T10:09:43.429144Z",
     "iopub.status.idle": "2022-03-04T10:11:49.908321Z",
     "shell.execute_reply": "2022-03-04T10:11:49.908821Z"
    },
    "papermill": {
     "duration": 126.519153,
     "end_time": "2022-03-04T10:11:49.908977",
     "exception": false,
     "start_time": "2022-03-04T10:09:43.389824",
     "status": "completed"
    },
    "tags": []
   },
   "outputs": [
    {
     "name": "stdout",
     "output_type": "stream",
     "text": [
      "Epoch 0, Loss 0.2421\n",
      "Training Accuracy: 0.6690, Testing Accuracy: 0.6542\n",
      "\n"
     ]
    },
    {
     "name": "stdout",
     "output_type": "stream",
     "text": [
      "Epoch 10, Loss 0.1129\n",
      "Training Accuracy: 0.8939, Testing Accuracy: 0.9022\n",
      "\n"
     ]
    },
    {
     "name": "stdout",
     "output_type": "stream",
     "text": [
      "Epoch 20, Loss 0.0651\n",
      "Training Accuracy: 0.9325, Testing Accuracy: 0.9451\n",
      "\n"
     ]
    },
    {
     "name": "stdout",
     "output_type": "stream",
     "text": [
      "Epoch 30, Loss 0.0486\n",
      "Training Accuracy: 0.9472, Testing Accuracy: 0.9572\n",
      "\n"
     ]
    },
    {
     "name": "stdout",
     "output_type": "stream",
     "text": [
      "Epoch 40, Loss 0.0409\n",
      "Training Accuracy: 0.9539, Testing Accuracy: 0.9637\n",
      "\n"
     ]
    },
    {
     "name": "stdout",
     "output_type": "stream",
     "text": [
      "Epoch 50, Loss 0.0364\n",
      "Training Accuracy: 0.9583, Testing Accuracy: 0.9667\n",
      "\n"
     ]
    },
    {
     "name": "stdout",
     "output_type": "stream",
     "text": [
      "Epoch 60, Loss 0.0333\n",
      "Training Accuracy: 0.9616, Testing Accuracy: 0.9703\n",
      "\n"
     ]
    },
    {
     "name": "stdout",
     "output_type": "stream",
     "text": [
      "Epoch 70, Loss 0.0311\n",
      "Training Accuracy: 0.9639, Testing Accuracy: 0.9713\n",
      "\n"
     ]
    },
    {
     "name": "stdout",
     "output_type": "stream",
     "text": [
      "Epoch 80, Loss 0.0294\n",
      "Training Accuracy: 0.9660, Testing Accuracy: 0.9713\n",
      "\n"
     ]
    },
    {
     "name": "stdout",
     "output_type": "stream",
     "text": [
      "Epoch 90, Loss 0.0279\n",
      "Training Accuracy: 0.9677, Testing Accuracy: 0.9718\n",
      "\n"
     ]
    },
    {
     "name": "stdout",
     "output_type": "stream",
     "text": [
      "Epoch 100, Loss 0.0267\n",
      "Training Accuracy: 0.9687, Testing Accuracy: 0.9708\n",
      "\n"
     ]
    },
    {
     "name": "stdout",
     "output_type": "stream",
     "text": [
      "Epoch 110, Loss 0.0257\n",
      "Training Accuracy: 0.9698, Testing Accuracy: 0.9708\n",
      "\n"
     ]
    },
    {
     "name": "stdout",
     "output_type": "stream",
     "text": [
      "Epoch 120, Loss 0.0248\n",
      "Training Accuracy: 0.9709, Testing Accuracy: 0.9733\n",
      "\n"
     ]
    },
    {
     "name": "stdout",
     "output_type": "stream",
     "text": [
      "Epoch 130, Loss 0.024\n",
      "Training Accuracy: 0.9716, Testing Accuracy: 0.9733\n",
      "\n"
     ]
    },
    {
     "name": "stdout",
     "output_type": "stream",
     "text": [
      "Epoch 140, Loss 0.0233\n",
      "Training Accuracy: 0.9731, Testing Accuracy: 0.9743\n",
      "\n"
     ]
    },
    {
     "name": "stdout",
     "output_type": "stream",
     "text": [
      "Epoch 150, Loss 0.0226\n",
      "Training Accuracy: 0.9739, Testing Accuracy: 0.9748\n",
      "\n"
     ]
    },
    {
     "name": "stdout",
     "output_type": "stream",
     "text": [
      "Epoch 160, Loss 0.022\n",
      "Training Accuracy: 0.9748, Testing Accuracy: 0.9748\n",
      "\n"
     ]
    },
    {
     "name": "stdout",
     "output_type": "stream",
     "text": [
      "Epoch 170, Loss 0.0214\n",
      "Training Accuracy: 0.9756, Testing Accuracy: 0.9748\n",
      "\n"
     ]
    },
    {
     "name": "stdout",
     "output_type": "stream",
     "text": [
      "Epoch 180, Loss 0.0209\n",
      "Training Accuracy: 0.9766, Testing Accuracy: 0.9753\n",
      "\n"
     ]
    },
    {
     "name": "stdout",
     "output_type": "stream",
     "text": [
      "Epoch 190, Loss 0.0204\n",
      "Training Accuracy: 0.9772, Testing Accuracy: 0.9753\n",
      "\n"
     ]
    },
    {
     "name": "stdout",
     "output_type": "stream",
     "text": [
      "Epoch 200, Loss 0.0199\n",
      "Training Accuracy: 0.9781, Testing Accuracy: 0.9763\n",
      "\n"
     ]
    },
    {
     "name": "stdout",
     "output_type": "stream",
     "text": [
      "Epoch 210, Loss 0.0195\n",
      "Training Accuracy: 0.9789, Testing Accuracy: 0.9768\n",
      "\n"
     ]
    },
    {
     "name": "stdout",
     "output_type": "stream",
     "text": [
      "Epoch 220, Loss 0.019\n",
      "Training Accuracy: 0.9796, Testing Accuracy: 0.9768\n",
      "\n"
     ]
    },
    {
     "name": "stdout",
     "output_type": "stream",
     "text": [
      "Epoch 230, Loss 0.0186\n",
      "Training Accuracy: 0.9796, Testing Accuracy: 0.9773\n",
      "\n"
     ]
    },
    {
     "name": "stdout",
     "output_type": "stream",
     "text": [
      "Epoch 240, Loss 0.0182\n",
      "Training Accuracy: 0.9801, Testing Accuracy: 0.9778\n",
      "\n"
     ]
    },
    {
     "data": {
      "text/plain": [
       "0.0015117164443197227"
      ]
     },
     "execution_count": 22,
     "metadata": {},
     "output_type": "execute_result"
    }
   ],
   "source": [
    "nn_learner.train_loop(dl)"
   ]
  },
  {
   "cell_type": "code",
   "execution_count": 23,
   "id": "e0163366",
   "metadata": {
    "execution": {
     "iopub.execute_input": "2022-03-04T10:11:49.996017Z",
     "iopub.status.busy": "2022-03-04T10:11:49.995415Z",
     "iopub.status.idle": "2022-03-04T10:12:07.926041Z",
     "shell.execute_reply": "2022-03-04T10:12:07.926910Z"
    },
    "papermill": {
     "duration": 17.977246,
     "end_time": "2022-03-04T10:12:07.927081",
     "exception": false,
     "start_time": "2022-03-04T10:11:49.949835",
     "status": "completed"
    },
    "tags": []
   },
   "outputs": [
    {
     "name": "stdout",
     "output_type": "stream",
     "text": [
      "Epoch 0, Loss 0.2159\n",
      "Training Accuracy: 0.7656, Testing Accuracy: 0.7606\n",
      "\n"
     ]
    },
    {
     "name": "stdout",
     "output_type": "stream",
     "text": [
      "Epoch 10, Loss 0.099\n",
      "Training Accuracy: 0.9150, Testing Accuracy: 0.9269\n",
      "\n"
     ]
    },
    {
     "name": "stdout",
     "output_type": "stream",
     "text": [
      "Epoch 20, Loss 0.0773\n",
      "Training Accuracy: 0.9306, Testing Accuracy: 0.9456\n",
      "\n"
     ]
    },
    {
     "name": "stdout",
     "output_type": "stream",
     "text": [
      "Epoch 30, Loss 0.0673\n",
      "Training Accuracy: 0.9375, Testing Accuracy: 0.9496\n",
      "\n"
     ]
    },
    {
     "name": "stdout",
     "output_type": "stream",
     "text": [
      "Epoch 40, Loss 0.0612\n",
      "Training Accuracy: 0.9410, Testing Accuracy: 0.9526\n",
      "\n"
     ]
    },
    {
     "name": "stdout",
     "output_type": "stream",
     "text": [
      "Epoch 50, Loss 0.057\n",
      "Training Accuracy: 0.9453, Testing Accuracy: 0.9546\n",
      "\n"
     ]
    },
    {
     "name": "stdout",
     "output_type": "stream",
     "text": [
      "Epoch 60, Loss 0.0538\n",
      "Training Accuracy: 0.9478, Testing Accuracy: 0.9567\n",
      "\n"
     ]
    },
    {
     "name": "stdout",
     "output_type": "stream",
     "text": [
      "Epoch 70, Loss 0.0514\n",
      "Training Accuracy: 0.9501, Testing Accuracy: 0.9572\n",
      "\n"
     ]
    },
    {
     "name": "stdout",
     "output_type": "stream",
     "text": [
      "Epoch 80, Loss 0.0494\n",
      "Training Accuracy: 0.9511, Testing Accuracy: 0.9592\n",
      "\n"
     ]
    },
    {
     "name": "stdout",
     "output_type": "stream",
     "text": [
      "Epoch 90, Loss 0.0477\n",
      "Training Accuracy: 0.9518, Testing Accuracy: 0.9602\n",
      "\n"
     ]
    },
    {
     "name": "stdout",
     "output_type": "stream",
     "text": [
      "Epoch 100, Loss 0.0463\n",
      "Training Accuracy: 0.9531, Testing Accuracy: 0.9612\n",
      "\n"
     ]
    },
    {
     "name": "stdout",
     "output_type": "stream",
     "text": [
      "Epoch 110, Loss 0.0451\n",
      "Training Accuracy: 0.9540, Testing Accuracy: 0.9612\n",
      "\n"
     ]
    },
    {
     "name": "stdout",
     "output_type": "stream",
     "text": [
      "Epoch 120, Loss 0.0441\n",
      "Training Accuracy: 0.9549, Testing Accuracy: 0.9622\n",
      "\n"
     ]
    },
    {
     "name": "stdout",
     "output_type": "stream",
     "text": [
      "Epoch 130, Loss 0.0432\n",
      "Training Accuracy: 0.9556, Testing Accuracy: 0.9627\n",
      "\n"
     ]
    },
    {
     "name": "stdout",
     "output_type": "stream",
     "text": [
      "Epoch 140, Loss 0.0424\n",
      "Training Accuracy: 0.9558, Testing Accuracy: 0.9637\n",
      "\n"
     ]
    },
    {
     "name": "stdout",
     "output_type": "stream",
     "text": [
      "Epoch 150, Loss 0.0416\n",
      "Training Accuracy: 0.9564, Testing Accuracy: 0.9637\n",
      "\n"
     ]
    },
    {
     "name": "stdout",
     "output_type": "stream",
     "text": [
      "Epoch 160, Loss 0.0409\n",
      "Training Accuracy: 0.9567, Testing Accuracy: 0.9642\n",
      "\n"
     ]
    },
    {
     "name": "stdout",
     "output_type": "stream",
     "text": [
      "Epoch 170, Loss 0.0403\n",
      "Training Accuracy: 0.9572, Testing Accuracy: 0.9642\n",
      "\n"
     ]
    },
    {
     "name": "stdout",
     "output_type": "stream",
     "text": [
      "Epoch 180, Loss 0.0398\n",
      "Training Accuracy: 0.9576, Testing Accuracy: 0.9652\n",
      "\n"
     ]
    },
    {
     "name": "stdout",
     "output_type": "stream",
     "text": [
      "Epoch 190, Loss 0.0393\n",
      "Training Accuracy: 0.9580, Testing Accuracy: 0.9652\n",
      "\n"
     ]
    },
    {
     "name": "stdout",
     "output_type": "stream",
     "text": [
      "Epoch 200, Loss 0.0388\n",
      "Training Accuracy: 0.9582, Testing Accuracy: 0.9652\n",
      "\n"
     ]
    },
    {
     "name": "stdout",
     "output_type": "stream",
     "text": [
      "Epoch 210, Loss 0.0383\n",
      "Training Accuracy: 0.9585, Testing Accuracy: 0.9652\n",
      "\n"
     ]
    },
    {
     "name": "stdout",
     "output_type": "stream",
     "text": [
      "Epoch 220, Loss 0.0379\n",
      "Training Accuracy: 0.9589, Testing Accuracy: 0.9652\n",
      "\n"
     ]
    },
    {
     "name": "stdout",
     "output_type": "stream",
     "text": [
      "Epoch 230, Loss 0.0375\n",
      "Training Accuracy: 0.9594, Testing Accuracy: 0.9657\n",
      "\n"
     ]
    },
    {
     "name": "stdout",
     "output_type": "stream",
     "text": [
      "Epoch 240, Loss 0.0372\n",
      "Training Accuracy: 0.9595, Testing Accuracy: 0.9657\n",
      "\n"
     ]
    },
    {
     "data": {
      "text/plain": [
       "0.029650305810518703"
      ]
     },
     "execution_count": 23,
     "metadata": {},
     "output_type": "execute_result"
    }
   ],
   "source": [
    "lr_learner.train_loop(dl)"
   ]
  },
  {
   "cell_type": "code",
   "execution_count": 24,
   "id": "ca410940",
   "metadata": {
    "execution": {
     "iopub.execute_input": "2022-03-04T10:12:08.035991Z",
     "iopub.status.busy": "2022-03-04T10:12:08.035340Z",
     "iopub.status.idle": "2022-03-04T10:12:08.312459Z",
     "shell.execute_reply": "2022-03-04T10:12:08.310707Z"
    },
    "papermill": {
     "duration": 0.33422,
     "end_time": "2022-03-04T10:12:08.312629",
     "exception": false,
     "start_time": "2022-03-04T10:12:07.978409",
     "status": "completed"
    },
    "tags": []
   },
   "outputs": [
    {
     "data": {
      "text/plain": [
       "<matplotlib.legend.Legend at 0x7efdc3e2ed30>"
      ]
     },
     "execution_count": 24,
     "metadata": {},
     "output_type": "execute_result"
    },
    {
     "data": {
      "image/png": "[encoded data removed]",
      "text/plain": [
       "<Figure size 1080x720 with 1 Axes>"
      ]
     },
     "metadata": {
      "needs_background": "light"
     },
     "output_type": "display_data"
    }
   ],
   "source": [
    "#comparing the results of NN and LR\n",
    "plt.figure(figsize=(15,10))\n",
    "\n",
    "# Neural Network plots\n",
    "plt.plot(acc_nn.accuracies, 'r-', label = \"Training Accuracies - NN\")\n",
    "plt.plot(acc_nn.test_accuracies, 'g-', label = \"Testing Accuracies - NN\")\n",
    "\n",
    "# Logistic Regression plots\n",
    "plt.plot(acc_lr.accuracies, 'k-', label = \"Training Accuracies - LR\")\n",
    "plt.plot(acc_lr.test_accuracies, 'b-', label = \"Testing Accuracies - LR\")\n",
    "plt.legend()"
   ]
  },
  {
   "cell_type": "markdown",
   "id": "80dfb35c",
   "metadata": {
    "papermill": {
     "duration": 0.048807,
     "end_time": "2022-03-04T10:12:08.411253",
     "exception": false,
     "start_time": "2022-03-04T10:12:08.362446",
     "status": "completed"
    },
    "tags": []
   },
   "source": [
    "#### Plotting the outputs of this layer of the NN.\n"
   ]
  },
  {
   "cell_type": "code",
   "execution_count": 25,
   "id": "45eb2ff5",
   "metadata": {
    "execution": {
     "iopub.execute_input": "2022-03-04T10:12:08.515045Z",
     "iopub.status.busy": "2022-03-04T10:12:08.512456Z",
     "iopub.status.idle": "2022-03-04T10:12:08.535882Z",
     "shell.execute_reply": "2022-03-04T10:12:08.536448Z"
    },
    "papermill": {
     "duration": 0.078307,
     "end_time": "2022-03-04T10:12:08.536606",
     "exception": false,
     "start_time": "2022-03-04T10:12:08.458299",
     "status": "completed"
    },
    "tags": []
   },
   "outputs": [],
   "source": [
    "new_model = Model(layers[:-2])\n",
    "testing_plot = new_model(testing_data_x)"
   ]
  },
  {
   "cell_type": "code",
   "execution_count": 26,
   "id": "4c0a5485",
   "metadata": {
    "execution": {
     "iopub.execute_input": "2022-03-04T10:12:08.636843Z",
     "iopub.status.busy": "2022-03-04T10:12:08.636236Z",
     "iopub.status.idle": "2022-03-04T10:12:08.880909Z",
     "shell.execute_reply": "2022-03-04T10:12:08.880399Z"
    },
    "papermill": {
     "duration": 0.296421,
     "end_time": "2022-03-04T10:12:08.881059",
     "exception": false,
     "start_time": "2022-03-04T10:12:08.584638",
     "status": "completed"
    },
    "tags": []
   },
   "outputs": [
    {
     "data": {
      "text/plain": [
       "Text(0.5, 1.0, 'Outputs')"
      ]
     },
     "execution_count": 26,
     "metadata": {},
     "output_type": "execute_result"
    },
    {
     "data": {
      "image/png": "[encoded data removed]",
      "text/plain": [
       "<Figure size 576x504 with 1 Axes>"
      ]
     },
     "metadata": {
      "needs_background": "light"
     },
     "output_type": "display_data"
    }
   ],
   "source": [
    "# Plotting the scatter plot of points and color coding by class\n",
    "plt.figure(figsize=(8,7))\n",
    "plt.scatter(testing_plot[:,0], testing_plot[:,1], alpha = 0.1, c = y_test.ravel());\n",
    "plt.title('Outputs')"
   ]
  },
  {
   "cell_type": "markdown",
   "id": "a74fcf8f",
   "metadata": {
    "papermill": {
     "duration": 0.050127,
     "end_time": "2022-03-04T10:12:08.982993",
     "exception": false,
     "start_time": "2022-03-04T10:12:08.932866",
     "status": "completed"
    },
    "tags": []
   },
   "source": [
    "Probability contours"
   ]
  },
  {
   "cell_type": "code",
   "execution_count": 27,
   "id": "d0afc8e3",
   "metadata": {
    "execution": {
     "iopub.execute_input": "2022-03-04T10:12:09.115326Z",
     "iopub.status.busy": "2022-03-04T10:12:09.114702Z",
     "iopub.status.idle": "2022-03-04T10:12:09.125415Z",
     "shell.execute_reply": "2022-03-04T10:12:09.124915Z"
    },
    "papermill": {
     "duration": 0.07054,
     "end_time": "2022-03-04T10:12:09.125535",
     "exception": false,
     "start_time": "2022-03-04T10:12:09.054995",
     "status": "completed"
    },
    "tags": []
   },
   "outputs": [],
   "source": [
    "model_prob = Model(layers[-2:]) "
   ]
  },
  {
   "cell_type": "code",
   "execution_count": 28,
   "id": "9b96e238",
   "metadata": {
    "execution": {
     "iopub.execute_input": "2022-03-04T10:12:09.233948Z",
     "iopub.status.busy": "2022-03-04T10:12:09.233342Z",
     "iopub.status.idle": "2022-03-04T10:12:09.246643Z",
     "shell.execute_reply": "2022-03-04T10:12:09.247152Z"
    },
    "papermill": {
     "duration": 0.06929,
     "end_time": "2022-03-04T10:12:09.247336",
     "exception": false,
     "start_time": "2022-03-04T10:12:09.178046",
     "status": "completed"
    },
    "tags": []
   },
   "outputs": [],
   "source": [
    "#creating the x and y ranges according to the above generated plot.\n",
    "x_range = np.linspace(-4, 1, 100) \n",
    "y_range = np.linspace(-6, 6, 100) \n",
    "x_grid, y_grid = np.meshgrid(x_range, y_range) # x_grid and y_grig are of size 100 X 100\n",
    "\n",
    "# converting x_grid and y_grid to continuous arrays\n",
    "x_gridflat = np.ravel(x_grid)\n",
    "y_gridflat = np.ravel(y_grid)\n",
    "\n",
    "# The last layer of the current model takes two columns as input. Hence transpose of np.vstack() is required.\n",
    "X = np.vstack((x_gridflat, y_gridflat)).T\n",
    "\n",
    "prob_contour = model_prob(X).reshape(100,100) "
   ]
  },
  {
   "cell_type": "code",
   "execution_count": 29,
   "id": "da72499a",
   "metadata": {
    "execution": {
     "iopub.execute_input": "2022-03-04T10:12:09.356229Z",
     "iopub.status.busy": "2022-03-04T10:12:09.355582Z",
     "iopub.status.idle": "2022-03-04T10:12:09.636665Z",
     "shell.execute_reply": "2022-03-04T10:12:09.637233Z"
    },
    "papermill": {
     "duration": 0.339687,
     "end_time": "2022-03-04T10:12:09.637461",
     "exception": false,
     "start_time": "2022-03-04T10:12:09.297774",
     "status": "completed"
    },
    "tags": []
   },
   "outputs": [
    {
     "data": {
      "image/png": "[encoded data removed]",
      "text/plain": [
       "<Figure size 720x648 with 1 Axes>"
      ]
     },
     "metadata": {
      "needs_background": "light"
     },
     "output_type": "display_data"
    }
   ],
   "source": [
    "plt.figure(figsize=(10,9))\n",
    "plt.scatter(testing_plot[:,0], testing_plot[:,1], alpha = 0.1, c = y_test.ravel())\n",
    "contours = plt.contour(x_grid,y_grid,prob_contour)\n",
    "plt.title('Probability Contours')\n",
    "plt.clabel(contours, inline = True );"
   ]
  },
  {
   "cell_type": "code",
   "execution_count": null,
   "id": "e81b4ac7",
   "metadata": {
    "papermill": {
     "duration": 0.052578,
     "end_time": "2022-03-04T10:12:09.744488",
     "exception": false,
     "start_time": "2022-03-04T10:12:09.691910",
     "status": "completed"
    },
    "tags": []
   },
   "outputs": [],
   "source": []
  }
 ],
 "metadata": {
  "kernelspec": {
   "display_name": "Python 3",
   "language": "python",
   "name": "python3"
  },
  "language_info": {
   "codemirror_mode": {
    "name": "ipython",
    "version": 3
   },
   "file_extension": ".py",
   "mimetype": "text/x-python",
   "name": "python",
   "nbconvert_exporter": "python",
   "pygments_lexer": "ipython3",
   "version": "3.6.15"
  },
  "papermill": {
   "default_parameters": {},
   "duration": 154.341062,
   "end_time": "2022-03-04T10:12:10.215756",
   "environment_variables": {},
   "exception": null,
   "input_path": "2020-08-11-part2.ipynb",
   "output_path": "2020-08-11-part2.ipynb",
   "parameters": {},
   "start_time": "2022-03-04T10:09:35.874694",
   "version": "2.3.3"
  }
 },
 "nbformat": 4,
 "nbformat_minor": 5
}