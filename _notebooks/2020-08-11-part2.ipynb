{
 "cells": [
  {
   "cell_type": "markdown",
   "id": "98380cd3",
   "metadata": {
    "papermill": {
     "duration": 0.032365,
     "end_time": "2022-11-06T20:10:58.419964",
     "exception": false,
     "start_time": "2022-11-06T20:10:58.387599",
     "status": "completed"
    },
    "tags": []
   },
   "source": [
    "# Distinguish Your Own Digits (DYOD)"
   ]
  },
  {
   "cell_type": "markdown",
   "id": "ef31240d",
   "metadata": {
    "papermill": {
     "duration": 0.023683,
     "end_time": "2022-11-06T20:10:58.468573",
     "exception": false,
     "start_time": "2022-11-06T20:10:58.444890",
     "status": "completed"
    },
    "tags": []
   },
   "source": [
    "You are going to write a classifier that distinguishes between the number 3 and number 8."
   ]
  },
  {
   "cell_type": "code",
   "execution_count": 1,
   "id": "b15c8646",
   "metadata": {
    "execution": {
     "iopub.execute_input": "2022-11-06T20:10:58.526929Z",
     "iopub.status.busy": "2022-11-06T20:10:58.526289Z",
     "iopub.status.idle": "2022-11-06T20:10:58.537659Z",
     "shell.execute_reply": "2022-11-06T20:10:58.537175Z"
    },
    "papermill": {
     "duration": 0.04549,
     "end_time": "2022-11-06T20:10:58.537779",
     "exception": false,
     "start_time": "2022-11-06T20:10:58.492289",
     "status": "completed"
    },
    "tags": []
   },
   "outputs": [],
   "source": [
    "%load_ext autoreload\n",
    "%autoreload 2"
   ]
  },
  {
   "cell_type": "code",
   "execution_count": 2,
   "id": "22ef38dc",
   "metadata": {
    "execution": {
     "iopub.execute_input": "2022-11-06T20:10:58.589379Z",
     "iopub.status.busy": "2022-11-06T20:10:58.588790Z",
     "iopub.status.idle": "2022-11-06T20:10:59.113968Z",
     "shell.execute_reply": "2022-11-06T20:10:59.112971Z"
    },
    "papermill": {
     "duration": 0.552551,
     "end_time": "2022-11-06T20:10:59.114112",
     "exception": false,
     "start_time": "2022-11-06T20:10:58.561561",
     "status": "completed"
    },
    "tags": []
   },
   "outputs": [],
   "source": [
    "%matplotlib inline\n",
    "import numpy as np\n",
    "import matplotlib.pyplot as plt\n",
    "import pandas as pd"
   ]
  },
  {
   "cell_type": "markdown",
   "id": "ba036198",
   "metadata": {
    "papermill": {
     "duration": 0.023825,
     "end_time": "2022-11-06T20:10:59.163068",
     "exception": false,
     "start_time": "2022-11-06T20:10:59.139243",
     "status": "completed"
    },
    "tags": []
   },
   "source": [
    "From the command line run `pip install mnist`. This is a library that will help you bring down the mnist dataset. If you run this from a notebook, you need to put  `!pip install mnist` in a cell by itself."
   ]
  },
  {
   "cell_type": "code",
   "execution_count": 3,
   "id": "bb6ad8a1",
   "metadata": {
    "execution": {
     "iopub.execute_input": "2022-11-06T20:10:59.217110Z",
     "iopub.status.busy": "2022-11-06T20:10:59.216517Z",
     "iopub.status.idle": "2022-11-06T20:11:00.866257Z",
     "shell.execute_reply": "2022-11-06T20:11:00.865654Z"
    },
    "papermill": {
     "duration": 1.679439,
     "end_time": "2022-11-06T20:11:00.866390",
     "exception": false,
     "start_time": "2022-11-06T20:10:59.186951",
     "status": "completed"
    },
    "tags": []
   },
   "outputs": [
    {
     "name": "stdout",
     "output_type": "stream",
     "text": [
      "Collecting mnist\r\n"
     ]
    },
    {
     "name": "stdout",
     "output_type": "stream",
     "text": [
      "  Downloading mnist-0.2.2-py2.py3-none-any.whl (3.5 kB)\r\n",
      "Requirement already satisfied: numpy in /opt/hostedtoolcache/Python/3.6.15/x64/lib/python3.6/site-packages (from mnist) (1.19.5)\r\n"
     ]
    },
    {
     "name": "stdout",
     "output_type": "stream",
     "text": [
      "Installing collected packages: mnist\r\n",
      "Successfully installed mnist-0.2.2\r\n"
     ]
    }
   ],
   "source": [
    "!pip install mnist"
   ]
  },
  {
   "cell_type": "markdown",
   "id": "69df9c9a",
   "metadata": {
    "papermill": {
     "duration": 0.024566,
     "end_time": "2022-11-06T20:11:00.916072",
     "exception": false,
     "start_time": "2022-11-06T20:11:00.891506",
     "status": "completed"
    },
    "tags": []
   },
   "source": [
    "## Preparing the Data"
   ]
  },
  {
   "cell_type": "code",
   "execution_count": 4,
   "id": "7f69d806",
   "metadata": {
    "execution": {
     "iopub.execute_input": "2022-11-06T20:11:00.969119Z",
     "iopub.status.busy": "2022-11-06T20:11:00.968533Z",
     "iopub.status.idle": "2022-11-06T20:11:00.983344Z",
     "shell.execute_reply": "2022-11-06T20:11:00.982861Z"
    },
    "papermill": {
     "duration": 0.042997,
     "end_time": "2022-11-06T20:11:00.983457",
     "exception": false,
     "start_time": "2022-11-06T20:11:00.940460",
     "status": "completed"
    },
    "tags": []
   },
   "outputs": [],
   "source": [
    "import mnist"
   ]
  },
  {
   "cell_type": "code",
   "execution_count": 5,
   "id": "a411e44f",
   "metadata": {
    "execution": {
     "iopub.execute_input": "2022-11-06T20:11:01.039919Z",
     "iopub.status.busy": "2022-11-06T20:11:01.039340Z",
     "iopub.status.idle": "2022-11-06T20:11:01.676677Z",
     "shell.execute_reply": "2022-11-06T20:11:01.677203Z"
    },
    "papermill": {
     "duration": 0.669337,
     "end_time": "2022-11-06T20:11:01.677364",
     "exception": false,
     "start_time": "2022-11-06T20:11:01.008027",
     "status": "completed"
    },
    "tags": []
   },
   "outputs": [],
   "source": [
    "train_images = mnist.train_images()\n",
    "train_labels = mnist.train_labels()"
   ]
  },
  {
   "cell_type": "code",
   "execution_count": 6,
   "id": "dceab3a5",
   "metadata": {
    "execution": {
     "iopub.execute_input": "2022-11-06T20:11:01.743539Z",
     "iopub.status.busy": "2022-11-06T20:11:01.731735Z",
     "iopub.status.idle": "2022-11-06T20:11:01.749827Z",
     "shell.execute_reply": "2022-11-06T20:11:01.750253Z"
    },
    "papermill": {
     "duration": 0.047931,
     "end_time": "2022-11-06T20:11:01.750384",
     "exception": false,
     "start_time": "2022-11-06T20:11:01.702453",
     "status": "completed"
    },
    "tags": []
   },
   "outputs": [
    {
     "data": {
      "text/plain": [
       "((60000, 28, 28), (60000,))"
      ]
     },
     "execution_count": 6,
     "metadata": {},
     "output_type": "execute_result"
    }
   ],
   "source": [
    "train_images.shape, train_labels.shape"
   ]
  },
  {
   "cell_type": "code",
   "execution_count": 7,
   "id": "f50dc2bb",
   "metadata": {
    "execution": {
     "iopub.execute_input": "2022-11-06T20:11:01.813072Z",
     "iopub.status.busy": "2022-11-06T20:11:01.803286Z",
     "iopub.status.idle": "2022-11-06T20:11:02.116407Z",
     "shell.execute_reply": "2022-11-06T20:11:02.115831Z"
    },
    "papermill": {
     "duration": 0.341465,
     "end_time": "2022-11-06T20:11:02.116547",
     "exception": false,
     "start_time": "2022-11-06T20:11:01.775082",
     "status": "completed"
    },
    "tags": []
   },
   "outputs": [],
   "source": [
    "test_images = mnist.test_images()\n",
    "test_labels = mnist.test_labels()"
   ]
  },
  {
   "cell_type": "code",
   "execution_count": 8,
   "id": "fc38cf1b",
   "metadata": {
    "execution": {
     "iopub.execute_input": "2022-11-06T20:11:02.176176Z",
     "iopub.status.busy": "2022-11-06T20:11:02.175498Z",
     "iopub.status.idle": "2022-11-06T20:11:02.187252Z",
     "shell.execute_reply": "2022-11-06T20:11:02.186513Z"
    },
    "papermill": {
     "duration": 0.045565,
     "end_time": "2022-11-06T20:11:02.187364",
     "exception": false,
     "start_time": "2022-11-06T20:11:02.141799",
     "status": "completed"
    },
    "tags": []
   },
   "outputs": [
    {
     "data": {
      "text/plain": [
       "((10000, 28, 28), (10000,))"
      ]
     },
     "execution_count": 8,
     "metadata": {},
     "output_type": "execute_result"
    }
   ],
   "source": [
    "test_images.shape, test_labels.shape"
   ]
  },
  {
   "cell_type": "code",
   "execution_count": 9,
   "id": "f9ed8fe0",
   "metadata": {
    "execution": {
     "iopub.execute_input": "2022-11-06T20:11:02.243323Z",
     "iopub.status.busy": "2022-11-06T20:11:02.240500Z",
     "iopub.status.idle": "2022-11-06T20:11:02.377493Z",
     "shell.execute_reply": "2022-11-06T20:11:02.377923Z"
    },
    "papermill": {
     "duration": 0.165697,
     "end_time": "2022-11-06T20:11:02.378064",
     "exception": false,
     "start_time": "2022-11-06T20:11:02.212367",
     "status": "completed"
    },
    "tags": []
   },
   "outputs": [
    {
     "name": "stdout",
     "output_type": "stream",
     "text": [
      "2\n"
     ]
    },
    {
     "data": {
      "text/plain": [
       "<matplotlib.image.AxesImage at 0x7ff655decda0>"
      ]
     },
     "execution_count": 9,
     "metadata": {},
     "output_type": "execute_result"
    },
    {
     "data": {
      "image/png": "[encoded data removed]",
      "text/plain": [
       "<Figure size 432x288 with 1 Axes>"
      ]
     },
     "metadata": {
      "needs_background": "light"
     },
     "output_type": "display_data"
    }
   ],
   "source": [
    "image_index = 7776 # You may select anything up to 60,000\n",
    "print(train_labels[image_index]) \n",
    "plt.imshow(train_images[image_index], cmap='Greys')"
   ]
  },
  {
   "cell_type": "markdown",
   "id": "a8d2388d",
   "metadata": {
    "papermill": {
     "duration": 0.026485,
     "end_time": "2022-11-06T20:11:02.431103",
     "exception": false,
     "start_time": "2022-11-06T20:11:02.404618",
     "status": "completed"
    },
    "tags": []
   },
   "source": [
    "## Filter data to get 3 and 8 out"
   ]
  },
  {
   "cell_type": "code",
   "execution_count": 10,
   "id": "776f7fc7",
   "metadata": {
    "execution": {
     "iopub.execute_input": "2022-11-06T20:11:02.490181Z",
     "iopub.status.busy": "2022-11-06T20:11:02.489585Z",
     "iopub.status.idle": "2022-11-06T20:11:02.508401Z",
     "shell.execute_reply": "2022-11-06T20:11:02.507911Z"
    },
    "papermill": {
     "duration": 0.048788,
     "end_time": "2022-11-06T20:11:02.508515",
     "exception": false,
     "start_time": "2022-11-06T20:11:02.459727",
     "status": "completed"
    },
    "tags": []
   },
   "outputs": [],
   "source": [
    "train_filter = np.where((train_labels == 3 ) | (train_labels == 8))\n",
    "test_filter = np.where((test_labels == 3) | (test_labels == 8))\n",
    "X_train, y_train = train_images[train_filter], train_labels[train_filter]\n",
    "X_test, y_test = test_images[test_filter], test_labels[test_filter]"
   ]
  },
  {
   "cell_type": "markdown",
   "id": "948f0b7e",
   "metadata": {
    "papermill": {
     "duration": 0.026318,
     "end_time": "2022-11-06T20:11:02.561301",
     "exception": false,
     "start_time": "2022-11-06T20:11:02.534983",
     "status": "completed"
    },
    "tags": []
   },
   "source": [
    "We normalize the pizel values in the 0 to 1 range"
   ]
  },
  {
   "cell_type": "code",
   "execution_count": 11,
   "id": "ee4c2166",
   "metadata": {
    "execution": {
     "iopub.execute_input": "2022-11-06T20:11:02.625162Z",
     "iopub.status.busy": "2022-11-06T20:11:02.624559Z",
     "iopub.status.idle": "2022-11-06T20:11:02.668297Z",
     "shell.execute_reply": "2022-11-06T20:11:02.667717Z"
    },
    "papermill": {
     "duration": 0.080948,
     "end_time": "2022-11-06T20:11:02.668429",
     "exception": false,
     "start_time": "2022-11-06T20:11:02.587481",
     "status": "completed"
    },
    "tags": []
   },
   "outputs": [],
   "source": [
    "X_train = X_train/255.\n",
    "X_test = X_test/255."
   ]
  },
  {
   "cell_type": "markdown",
   "id": "ddcf4fab",
   "metadata": {
    "papermill": {
     "duration": 0.026582,
     "end_time": "2022-11-06T20:11:02.722461",
     "exception": false,
     "start_time": "2022-11-06T20:11:02.695879",
     "status": "completed"
    },
    "tags": []
   },
   "source": [
    "And setup the labels as 1 (when the digit is 3) and 0 (when the digit is 8)"
   ]
  },
  {
   "cell_type": "code",
   "execution_count": 12,
   "id": "7dc908f2",
   "metadata": {
    "execution": {
     "iopub.execute_input": "2022-11-06T20:11:02.788126Z",
     "iopub.status.busy": "2022-11-06T20:11:02.787532Z",
     "iopub.status.idle": "2022-11-06T20:11:02.793629Z",
     "shell.execute_reply": "2022-11-06T20:11:02.794054Z"
    },
    "papermill": {
     "duration": 0.045623,
     "end_time": "2022-11-06T20:11:02.794181",
     "exception": false,
     "start_time": "2022-11-06T20:11:02.748558",
     "status": "completed"
    },
    "tags": []
   },
   "outputs": [],
   "source": [
    "y_train = 1*(y_train==3)\n",
    "y_test = 1*(y_test==3)"
   ]
  },
  {
   "cell_type": "code",
   "execution_count": 13,
   "id": "01e4e969",
   "metadata": {
    "execution": {
     "iopub.execute_input": "2022-11-06T20:11:02.850810Z",
     "iopub.status.busy": "2022-11-06T20:11:02.849733Z",
     "iopub.status.idle": "2022-11-06T20:11:02.862834Z",
     "shell.execute_reply": "2022-11-06T20:11:02.862246Z"
    },
    "papermill": {
     "duration": 0.042581,
     "end_time": "2022-11-06T20:11:02.862944",
     "exception": false,
     "start_time": "2022-11-06T20:11:02.820363",
     "status": "completed"
    },
    "tags": []
   },
   "outputs": [
    {
     "data": {
      "text/plain": [
       "((11982, 28, 28), (1984, 28, 28))"
      ]
     },
     "execution_count": 13,
     "metadata": {},
     "output_type": "execute_result"
    }
   ],
   "source": [
    "X_train.shape, X_test.shape"
   ]
  },
  {
   "cell_type": "markdown",
   "id": "5ccf3f85",
   "metadata": {
    "papermill": {
     "duration": 0.026401,
     "end_time": "2022-11-06T20:11:02.915709",
     "exception": false,
     "start_time": "2022-11-06T20:11:02.889308",
     "status": "completed"
    },
    "tags": []
   },
   "source": [
    "We reshape the data to flatten the image pixels into a set of features or co-variates:"
   ]
  },
  {
   "cell_type": "code",
   "execution_count": 14,
   "id": "5286a4a3",
   "metadata": {
    "execution": {
     "iopub.execute_input": "2022-11-06T20:11:02.985146Z",
     "iopub.status.busy": "2022-11-06T20:11:02.979419Z",
     "iopub.status.idle": "2022-11-06T20:11:02.988342Z",
     "shell.execute_reply": "2022-11-06T20:11:02.988765Z"
    },
    "papermill": {
     "duration": 0.046659,
     "end_time": "2022-11-06T20:11:02.988896",
     "exception": false,
     "start_time": "2022-11-06T20:11:02.942237",
     "status": "completed"
    },
    "tags": []
   },
   "outputs": [
    {
     "data": {
      "text/plain": [
       "((11982, 784), (1984, 784))"
      ]
     },
     "execution_count": 14,
     "metadata": {},
     "output_type": "execute_result"
    }
   ],
   "source": [
    "X_train = X_train.reshape(X_train.shape[0], -1)\n",
    "X_test = X_test.reshape(X_test.shape[0], -1)\n",
    "X_train.shape, X_test.shape"
   ]
  },
  {
   "cell_type": "code",
   "execution_count": 15,
   "id": "73c5f88a",
   "metadata": {
    "execution": {
     "iopub.execute_input": "2022-11-06T20:11:03.059274Z",
     "iopub.status.busy": "2022-11-06T20:11:03.051906Z",
     "iopub.status.idle": "2022-11-06T20:11:03.068970Z",
     "shell.execute_reply": "2022-11-06T20:11:03.068467Z"
    },
    "papermill": {
     "duration": 0.053512,
     "end_time": "2022-11-06T20:11:03.069085",
     "exception": false,
     "start_time": "2022-11-06T20:11:03.015573",
     "status": "completed"
    },
    "tags": []
   },
   "outputs": [],
   "source": [
    "#Impoting functions from 'Kudzu'\n",
    "from kudzu.model import Model\n",
    "from kudzu.train import Learner\n",
    "from kudzu.optim import GD\n",
    "from kudzu.data import Data, Sampler,Dataloader\n",
    "\n",
    "from kudzu.callbacks import AccCallback\n",
    "from kudzu.callbacks import ClfCallback\n",
    "\n",
    "from kudzu.loss import MSE\n",
    "\n",
    "from kudzu.layer import Sigmoid,Relu\n",
    "from kudzu.layer import Affine"
   ]
  },
  {
   "cell_type": "markdown",
   "id": "bc01172a",
   "metadata": {
    "papermill": {
     "duration": 0.026764,
     "end_time": "2022-11-06T20:11:03.122780",
     "exception": false,
     "start_time": "2022-11-06T20:11:03.096016",
     "status": "completed"
    },
    "tags": []
   },
   "source": [
    "### Let us create a `Config` class, to store important parameters. \n",
    "This class essentially plays the role of a dictionary."
   ]
  },
  {
   "cell_type": "code",
   "execution_count": 16,
   "id": "978281aa",
   "metadata": {
    "execution": {
     "iopub.execute_input": "2022-11-06T20:11:03.194872Z",
     "iopub.status.busy": "2022-11-06T20:11:03.194243Z",
     "iopub.status.idle": "2022-11-06T20:11:03.196952Z",
     "shell.execute_reply": "2022-11-06T20:11:03.196382Z"
    },
    "papermill": {
     "duration": 0.047609,
     "end_time": "2022-11-06T20:11:03.197060",
     "exception": false,
     "start_time": "2022-11-06T20:11:03.149451",
     "status": "completed"
    },
    "tags": []
   },
   "outputs": [],
   "source": [
    "class Config:\n",
    "    pass\n",
    "config = Config()\n",
    "config.lr = 0.001\n",
    "config.num_epochs = 250\n",
    "config.bs = 50"
   ]
  },
  {
   "cell_type": "markdown",
   "id": "1385fa59",
   "metadata": {
    "papermill": {
     "duration": 0.026581,
     "end_time": "2022-11-06T20:11:03.250340",
     "exception": false,
     "start_time": "2022-11-06T20:11:03.223759",
     "status": "completed"
    },
    "tags": []
   },
   "source": [
    "### Running Models with the Training data\n",
    "Details about the network layers:\n",
    "- A first affine layer has 784 inputs and does 100 affine transforms. These are followed by a Relu\n",
    "- A second affine layer has 100 inputs from the 100 activations of the past layer, and does 100 affine transforms. These are followed by a Relu\n",
    "- A third affine layer has 100 activations and does 2 affine transformations to create an embedding for visualization. There is no non-linearity here.\n",
    "- A final \"logistic regression\" which has an affine transform from 2 inputs to 1 output, which is squeezed through a sigmoid.\n"
   ]
  },
  {
   "cell_type": "code",
   "execution_count": 17,
   "id": "2b9c66db",
   "metadata": {
    "execution": {
     "iopub.execute_input": "2022-11-06T20:11:03.315354Z",
     "iopub.status.busy": "2022-11-06T20:11:03.307172Z",
     "iopub.status.idle": "2022-11-06T20:11:03.321182Z",
     "shell.execute_reply": "2022-11-06T20:11:03.320614Z"
    },
    "papermill": {
     "duration": 0.044318,
     "end_time": "2022-11-06T20:11:03.321288",
     "exception": false,
     "start_time": "2022-11-06T20:11:03.276970",
     "status": "completed"
    },
    "tags": []
   },
   "outputs": [],
   "source": [
    "data = Data(X_train, y_train.reshape(-1,1))\n",
    "sampler = Sampler(data, config.bs, shuffle=True)\n",
    "\n",
    "dl = Dataloader(data, sampler)\n",
    "\n",
    "opt = GD(config.lr)\n",
    "loss = MSE()"
   ]
  },
  {
   "cell_type": "code",
   "execution_count": 18,
   "id": "b275e4c2",
   "metadata": {
    "execution": {
     "iopub.execute_input": "2022-11-06T20:11:03.392530Z",
     "iopub.status.busy": "2022-11-06T20:11:03.378137Z",
     "iopub.status.idle": "2022-11-06T20:11:03.394802Z",
     "shell.execute_reply": "2022-11-06T20:11:03.395257Z"
    },
    "papermill": {
     "duration": 0.047277,
     "end_time": "2022-11-06T20:11:03.395382",
     "exception": false,
     "start_time": "2022-11-06T20:11:03.348105",
     "status": "completed"
    },
    "tags": []
   },
   "outputs": [],
   "source": [
    "training_data_x = X_train\n",
    "testing_data_x = X_test\n",
    "training_data_y = y_train.reshape(-1,1)\n",
    "testing_data_y = y_test.reshape(-1,1)"
   ]
  },
  {
   "cell_type": "code",
   "execution_count": 19,
   "id": "76951160",
   "metadata": {
    "execution": {
     "iopub.execute_input": "2022-11-06T20:11:03.467508Z",
     "iopub.status.busy": "2022-11-06T20:11:03.465069Z",
     "iopub.status.idle": "2022-11-06T20:11:03.474865Z",
     "shell.execute_reply": "2022-11-06T20:11:03.475606Z"
    },
    "papermill": {
     "duration": 0.05372,
     "end_time": "2022-11-06T20:11:03.475739",
     "exception": false,
     "start_time": "2022-11-06T20:11:03.422019",
     "status": "completed"
    },
    "tags": []
   },
   "outputs": [
    {
     "name": "stdout",
     "output_type": "stream",
     "text": [
      "xavier\n",
      "xavier\n",
      "xavier\n",
      "xavier\n",
      "xavier\n"
     ]
    }
   ],
   "source": [
    "layers = [Affine(\"first\", 784, 100), Relu(\"first\"), Affine(\"second\", 100, 100), Relu(\"second\"), Affine(\"third\", 100, 2), Affine(\"last\", 2, 1), Sigmoid(\"last\")]\n",
    "model_nn = Model(layers)\n",
    "model_lr = Model([Affine(\"logits\", 784, 1), Sigmoid(\"sigmoid\")])"
   ]
  },
  {
   "cell_type": "code",
   "execution_count": 20,
   "id": "6eede77a",
   "metadata": {
    "execution": {
     "iopub.execute_input": "2022-11-06T20:11:03.536208Z",
     "iopub.status.busy": "2022-11-06T20:11:03.532651Z",
     "iopub.status.idle": "2022-11-06T20:11:03.545742Z",
     "shell.execute_reply": "2022-11-06T20:11:03.546278Z"
    },
    "papermill": {
     "duration": 0.043711,
     "end_time": "2022-11-06T20:11:03.546395",
     "exception": false,
     "start_time": "2022-11-06T20:11:03.502684",
     "status": "completed"
    },
    "tags": []
   },
   "outputs": [],
   "source": [
    "nn_learner = Learner(loss, model_nn, opt, config.num_epochs)\n",
    "acc_nn = ClfCallback(nn_learner, config.bs, training_data_x , testing_data_x, training_data_y, testing_data_y)\n",
    "nn_learner.set_callbacks([acc_nn])"
   ]
  },
  {
   "cell_type": "code",
   "execution_count": 21,
   "id": "877b6cc7",
   "metadata": {
    "execution": {
     "iopub.execute_input": "2022-11-06T20:11:03.603682Z",
     "iopub.status.busy": "2022-11-06T20:11:03.603111Z",
     "iopub.status.idle": "2022-11-06T20:11:03.616653Z",
     "shell.execute_reply": "2022-11-06T20:11:03.616186Z"
    },
    "papermill": {
     "duration": 0.043672,
     "end_time": "2022-11-06T20:11:03.616755",
     "exception": false,
     "start_time": "2022-11-06T20:11:03.573083",
     "status": "completed"
    },
    "tags": []
   },
   "outputs": [],
   "source": [
    "lr_learner = Learner(loss, model_lr, opt, config.num_epochs)\n",
    "acc_lr = ClfCallback(lr_learner, config.bs, training_data_x , testing_data_x, training_data_y, testing_data_y)\n",
    "lr_learner.set_callbacks([acc_lr])"
   ]
  },
  {
   "cell_type": "code",
   "execution_count": 22,
   "id": "d9b133c3",
   "metadata": {
    "execution": {
     "iopub.execute_input": "2022-11-06T20:11:03.675937Z",
     "iopub.status.busy": "2022-11-06T20:11:03.675370Z",
     "iopub.status.idle": "2022-11-06T20:12:17.039248Z",
     "shell.execute_reply": "2022-11-06T20:12:17.039810Z"
    },
    "papermill": {
     "duration": 73.395161,
     "end_time": "2022-11-06T20:12:17.039947",
     "exception": false,
     "start_time": "2022-11-06T20:11:03.644786",
     "status": "completed"
    },
    "tags": []
   },
   "outputs": [
    {
     "name": "stdout",
     "output_type": "stream",
     "text": [
      "Epoch 0, Loss 0.2174\n",
      "Training Accuracy: 0.7671, Testing Accuracy: 0.7762\n",
      "\n"
     ]
    },
    {
     "name": "stdout",
     "output_type": "stream",
     "text": [
      "Epoch 10, Loss 0.0608\n",
      "Training Accuracy: 0.9334, Testing Accuracy: 0.9511\n",
      "\n"
     ]
    },
    {
     "name": "stdout",
     "output_type": "stream",
     "text": [
      "Epoch 20, Loss 0.0434\n",
      "Training Accuracy: 0.9495, Testing Accuracy: 0.9627\n",
      "\n"
     ]
    },
    {
     "name": "stdout",
     "output_type": "stream",
     "text": [
      "Epoch 30, Loss 0.0366\n",
      "Training Accuracy: 0.9574, Testing Accuracy: 0.9672\n",
      "\n"
     ]
    },
    {
     "name": "stdout",
     "output_type": "stream",
     "text": [
      "Epoch 40, Loss 0.0327\n",
      "Training Accuracy: 0.9608, Testing Accuracy: 0.9698\n",
      "\n"
     ]
    },
    {
     "name": "stdout",
     "output_type": "stream",
     "text": [
      "Epoch 50, Loss 0.0301\n",
      "Training Accuracy: 0.9644, Testing Accuracy: 0.9698\n",
      "\n"
     ]
    },
    {
     "name": "stdout",
     "output_type": "stream",
     "text": [
      "Epoch 60, Loss 0.0282\n",
      "Training Accuracy: 0.9670, Testing Accuracy: 0.9698\n",
      "\n"
     ]
    },
    {
     "name": "stdout",
     "output_type": "stream",
     "text": [
      "Epoch 70, Loss 0.0266\n",
      "Training Accuracy: 0.9696, Testing Accuracy: 0.9703\n",
      "\n"
     ]
    },
    {
     "name": "stdout",
     "output_type": "stream",
     "text": [
      "Epoch 80, Loss 0.0254\n",
      "Training Accuracy: 0.9717, Testing Accuracy: 0.9703\n",
      "\n"
     ]
    },
    {
     "name": "stdout",
     "output_type": "stream",
     "text": [
      "Epoch 90, Loss 0.0243\n",
      "Training Accuracy: 0.9727, Testing Accuracy: 0.9713\n",
      "\n"
     ]
    },
    {
     "name": "stdout",
     "output_type": "stream",
     "text": [
      "Epoch 100, Loss 0.0233\n",
      "Training Accuracy: 0.9739, Testing Accuracy: 0.9718\n",
      "\n"
     ]
    },
    {
     "name": "stdout",
     "output_type": "stream",
     "text": [
      "Epoch 110, Loss 0.0225\n",
      "Training Accuracy: 0.9750, Testing Accuracy: 0.9713\n",
      "\n"
     ]
    },
    {
     "name": "stdout",
     "output_type": "stream",
     "text": [
      "Epoch 120, Loss 0.0217\n",
      "Training Accuracy: 0.9756, Testing Accuracy: 0.9723\n",
      "\n"
     ]
    },
    {
     "name": "stdout",
     "output_type": "stream",
     "text": [
      "Epoch 130, Loss 0.021\n",
      "Training Accuracy: 0.9764, Testing Accuracy: 0.9723\n",
      "\n"
     ]
    },
    {
     "name": "stdout",
     "output_type": "stream",
     "text": [
      "Epoch 140, Loss 0.0204\n",
      "Training Accuracy: 0.9773, Testing Accuracy: 0.9728\n",
      "\n"
     ]
    },
    {
     "name": "stdout",
     "output_type": "stream",
     "text": [
      "Epoch 150, Loss 0.0198\n",
      "Training Accuracy: 0.9786, Testing Accuracy: 0.9728\n",
      "\n"
     ]
    },
    {
     "name": "stdout",
     "output_type": "stream",
     "text": [
      "Epoch 160, Loss 0.0192\n",
      "Training Accuracy: 0.9790, Testing Accuracy: 0.9733\n",
      "\n"
     ]
    },
    {
     "name": "stdout",
     "output_type": "stream",
     "text": [
      "Epoch 170, Loss 0.0187\n",
      "Training Accuracy: 0.9795, Testing Accuracy: 0.9738\n",
      "\n"
     ]
    },
    {
     "name": "stdout",
     "output_type": "stream",
     "text": [
      "Epoch 180, Loss 0.0182\n",
      "Training Accuracy: 0.9806, Testing Accuracy: 0.9738\n",
      "\n"
     ]
    },
    {
     "name": "stdout",
     "output_type": "stream",
     "text": [
      "Epoch 190, Loss 0.0177\n",
      "Training Accuracy: 0.9814, Testing Accuracy: 0.9753\n",
      "\n"
     ]
    },
    {
     "name": "stdout",
     "output_type": "stream",
     "text": [
      "Epoch 200, Loss 0.0172\n",
      "Training Accuracy: 0.9818, Testing Accuracy: 0.9763\n",
      "\n"
     ]
    },
    {
     "name": "stdout",
     "output_type": "stream",
     "text": [
      "Epoch 210, Loss 0.0168\n",
      "Training Accuracy: 0.9823, Testing Accuracy: 0.9768\n",
      "\n"
     ]
    },
    {
     "name": "stdout",
     "output_type": "stream",
     "text": [
      "Epoch 220, Loss 0.0164\n",
      "Training Accuracy: 0.9822, Testing Accuracy: 0.9778\n",
      "\n"
     ]
    },
    {
     "name": "stdout",
     "output_type": "stream",
     "text": [
      "Epoch 230, Loss 0.016\n",
      "Training Accuracy: 0.9830, Testing Accuracy: 0.9778\n",
      "\n"
     ]
    },
    {
     "name": "stdout",
     "output_type": "stream",
     "text": [
      "Epoch 240, Loss 0.0156\n",
      "Training Accuracy: 0.9836, Testing Accuracy: 0.9783\n",
      "\n"
     ]
    },
    {
     "data": {
      "text/plain": [
       "0.002215455521003619"
      ]
     },
     "execution_count": 22,
     "metadata": {},
     "output_type": "execute_result"
    }
   ],
   "source": [
    "nn_learner.train_loop(dl)"
   ]
  },
  {
   "cell_type": "code",
   "execution_count": 23,
   "id": "e0163366",
   "metadata": {
    "execution": {
     "iopub.execute_input": "2022-11-06T20:12:17.120157Z",
     "iopub.status.busy": "2022-11-06T20:12:17.119577Z",
     "iopub.status.idle": "2022-11-06T20:12:30.165931Z",
     "shell.execute_reply": "2022-11-06T20:12:30.166822Z"
    },
    "papermill": {
     "duration": 13.092072,
     "end_time": "2022-11-06T20:12:30.166973",
     "exception": false,
     "start_time": "2022-11-06T20:12:17.074901",
     "status": "completed"
    },
    "tags": []
   },
   "outputs": [
    {
     "name": "stdout",
     "output_type": "stream",
     "text": [
      "Epoch 0, Loss 0.2479\n",
      "Training Accuracy: 0.6668, Testing Accuracy: 0.6668\n",
      "\n"
     ]
    },
    {
     "name": "stdout",
     "output_type": "stream",
     "text": [
      "Epoch 10, Loss 0.0995\n",
      "Training Accuracy: 0.9220, Testing Accuracy: 0.9345\n",
      "\n"
     ]
    },
    {
     "name": "stdout",
     "output_type": "stream",
     "text": [
      "Epoch 20, Loss 0.0763\n",
      "Training Accuracy: 0.9342, Testing Accuracy: 0.9441\n",
      "\n"
     ]
    },
    {
     "name": "stdout",
     "output_type": "stream",
     "text": [
      "Epoch 30, Loss 0.0661\n",
      "Training Accuracy: 0.9394, Testing Accuracy: 0.9501\n",
      "\n"
     ]
    },
    {
     "name": "stdout",
     "output_type": "stream",
     "text": [
      "Epoch 40, Loss 0.06\n",
      "Training Accuracy: 0.9430, Testing Accuracy: 0.9551\n",
      "\n"
     ]
    },
    {
     "name": "stdout",
     "output_type": "stream",
     "text": [
      "Epoch 50, Loss 0.0559\n",
      "Training Accuracy: 0.9458, Testing Accuracy: 0.9556\n",
      "\n"
     ]
    },
    {
     "name": "stdout",
     "output_type": "stream",
     "text": [
      "Epoch 60, Loss 0.0528\n",
      "Training Accuracy: 0.9474, Testing Accuracy: 0.9597\n",
      "\n"
     ]
    },
    {
     "name": "stdout",
     "output_type": "stream",
     "text": [
      "Epoch 70, Loss 0.0504\n",
      "Training Accuracy: 0.9497, Testing Accuracy: 0.9627\n",
      "\n"
     ]
    },
    {
     "name": "stdout",
     "output_type": "stream",
     "text": [
      "Epoch 80, Loss 0.0485\n",
      "Training Accuracy: 0.9508, Testing Accuracy: 0.9632\n",
      "\n"
     ]
    },
    {
     "name": "stdout",
     "output_type": "stream",
     "text": [
      "Epoch 90, Loss 0.0469\n",
      "Training Accuracy: 0.9515, Testing Accuracy: 0.9637\n",
      "\n"
     ]
    },
    {
     "name": "stdout",
     "output_type": "stream",
     "text": [
      "Epoch 100, Loss 0.0455\n",
      "Training Accuracy: 0.9530, Testing Accuracy: 0.9652\n",
      "\n"
     ]
    },
    {
     "name": "stdout",
     "output_type": "stream",
     "text": [
      "Epoch 110, Loss 0.0444\n",
      "Training Accuracy: 0.9539, Testing Accuracy: 0.9652\n",
      "\n"
     ]
    },
    {
     "name": "stdout",
     "output_type": "stream",
     "text": [
      "Epoch 120, Loss 0.0434\n",
      "Training Accuracy: 0.9548, Testing Accuracy: 0.9652\n",
      "\n"
     ]
    },
    {
     "name": "stdout",
     "output_type": "stream",
     "text": [
      "Epoch 130, Loss 0.0425\n",
      "Training Accuracy: 0.9553, Testing Accuracy: 0.9657\n",
      "\n"
     ]
    },
    {
     "name": "stdout",
     "output_type": "stream",
     "text": [
      "Epoch 140, Loss 0.0417\n",
      "Training Accuracy: 0.9560, Testing Accuracy: 0.9662\n",
      "\n"
     ]
    },
    {
     "name": "stdout",
     "output_type": "stream",
     "text": [
      "Epoch 150, Loss 0.041\n",
      "Training Accuracy: 0.9568, Testing Accuracy: 0.9667\n",
      "\n"
     ]
    },
    {
     "name": "stdout",
     "output_type": "stream",
     "text": [
      "Epoch 160, Loss 0.0403\n",
      "Training Accuracy: 0.9573, Testing Accuracy: 0.9672\n",
      "\n"
     ]
    },
    {
     "name": "stdout",
     "output_type": "stream",
     "text": [
      "Epoch 170, Loss 0.0397\n",
      "Training Accuracy: 0.9574, Testing Accuracy: 0.9677\n",
      "\n"
     ]
    },
    {
     "name": "stdout",
     "output_type": "stream",
     "text": [
      "Epoch 180, Loss 0.0392\n",
      "Training Accuracy: 0.9576, Testing Accuracy: 0.9677\n",
      "\n"
     ]
    },
    {
     "name": "stdout",
     "output_type": "stream",
     "text": [
      "Epoch 190, Loss 0.0387\n",
      "Training Accuracy: 0.9582, Testing Accuracy: 0.9672\n",
      "\n"
     ]
    },
    {
     "name": "stdout",
     "output_type": "stream",
     "text": [
      "Epoch 200, Loss 0.0382\n",
      "Training Accuracy: 0.9583, Testing Accuracy: 0.9677\n",
      "\n"
     ]
    },
    {
     "name": "stdout",
     "output_type": "stream",
     "text": [
      "Epoch 210, Loss 0.0378\n",
      "Training Accuracy: 0.9586, Testing Accuracy: 0.9677\n",
      "\n"
     ]
    },
    {
     "name": "stdout",
     "output_type": "stream",
     "text": [
      "Epoch 220, Loss 0.0374\n",
      "Training Accuracy: 0.9591, Testing Accuracy: 0.9677\n",
      "\n"
     ]
    },
    {
     "name": "stdout",
     "output_type": "stream",
     "text": [
      "Epoch 230, Loss 0.037\n",
      "Training Accuracy: 0.9597, Testing Accuracy: 0.9672\n",
      "\n"
     ]
    },
    {
     "name": "stdout",
     "output_type": "stream",
     "text": [
      "Epoch 240, Loss 0.0367\n",
      "Training Accuracy: 0.9599, Testing Accuracy: 0.9688\n",
      "\n"
     ]
    },
    {
     "data": {
      "text/plain": [
       "0.02431382262136317"
      ]
     },
     "execution_count": 23,
     "metadata": {},
     "output_type": "execute_result"
    }
   ],
   "source": [
    "lr_learner.train_loop(dl)"
   ]
  },
  {
   "cell_type": "code",
   "execution_count": 24,
   "id": "ca410940",
   "metadata": {
    "execution": {
     "iopub.execute_input": "2022-11-06T20:12:30.260200Z",
     "iopub.status.busy": "2022-11-06T20:12:30.259567Z",
     "iopub.status.idle": "2022-11-06T20:12:30.485974Z",
     "shell.execute_reply": "2022-11-06T20:12:30.485481Z"
    },
    "papermill": {
     "duration": 0.278088,
     "end_time": "2022-11-06T20:12:30.486090",
     "exception": false,
     "start_time": "2022-11-06T20:12:30.208002",
     "status": "completed"
    },
    "tags": []
   },
   "outputs": [
    {
     "data": {
      "text/plain": [
       "<matplotlib.legend.Legend at 0x7ff655959438>"
      ]
     },
     "execution_count": 24,
     "metadata": {},
     "output_type": "execute_result"
    },
    {
     "data": {
      "image/png": "[encoded data removed]",
      "text/plain": [
       "<Figure size 1080x720 with 1 Axes>"
      ]
     },
     "metadata": {
      "needs_background": "light"
     },
     "output_type": "display_data"
    }
   ],
   "source": [
    "#comparing the results of NN and LR\n",
    "plt.figure(figsize=(15,10))\n",
    "\n",
    "# Neural Network plots\n",
    "plt.plot(acc_nn.accuracies, 'r-', label = \"Training Accuracies - NN\")\n",
    "plt.plot(acc_nn.test_accuracies, 'g-', label = \"Testing Accuracies - NN\")\n",
    "\n",
    "# Logistic Regression plots\n",
    "plt.plot(acc_lr.accuracies, 'k-', label = \"Training Accuracies - LR\")\n",
    "plt.plot(acc_lr.test_accuracies, 'b-', label = \"Testing Accuracies - LR\")\n",
    "plt.legend()"
   ]
  },
  {
   "cell_type": "markdown",
   "id": "80dfb35c",
   "metadata": {
    "papermill": {
     "duration": 0.042648,
     "end_time": "2022-11-06T20:12:30.570928",
     "exception": false,
     "start_time": "2022-11-06T20:12:30.528280",
     "status": "completed"
    },
    "tags": []
   },
   "source": [
    "#### Plotting the outputs of this layer of the NN.\n"
   ]
  },
  {
   "cell_type": "code",
   "execution_count": 25,
   "id": "45eb2ff5",
   "metadata": {
    "execution": {
     "iopub.execute_input": "2022-11-06T20:12:30.667386Z",
     "iopub.status.busy": "2022-11-06T20:12:30.659258Z",
     "iopub.status.idle": "2022-11-06T20:12:30.681402Z",
     "shell.execute_reply": "2022-11-06T20:12:30.681862Z"
    },
    "papermill": {
     "duration": 0.069293,
     "end_time": "2022-11-06T20:12:30.681999",
     "exception": false,
     "start_time": "2022-11-06T20:12:30.612706",
     "status": "completed"
    },
    "tags": []
   },
   "outputs": [],
   "source": [
    "new_model = Model(layers[:-2])\n",
    "testing_plot = new_model(testing_data_x)"
   ]
  },
  {
   "cell_type": "code",
   "execution_count": 26,
   "id": "4c0a5485",
   "metadata": {
    "execution": {
     "iopub.execute_input": "2022-11-06T20:12:30.775441Z",
     "iopub.status.busy": "2022-11-06T20:12:30.771873Z",
     "iopub.status.idle": "2022-11-06T20:12:30.949917Z",
     "shell.execute_reply": "2022-11-06T20:12:30.949393Z"
    },
    "papermill": {
     "duration": 0.225915,
     "end_time": "2022-11-06T20:12:30.950033",
     "exception": false,
     "start_time": "2022-11-06T20:12:30.724118",
     "status": "completed"
    },
    "tags": []
   },
   "outputs": [
    {
     "data": {
      "text/plain": [
       "Text(0.5, 1.0, 'Outputs')"
      ]
     },
     "execution_count": 26,
     "metadata": {},
     "output_type": "execute_result"
    },
    {
     "data": {
      "image/png": "[encoded data removed]",
      "text/plain": [
       "<Figure size 576x504 with 1 Axes>"
      ]
     },
     "metadata": {
      "needs_background": "light"
     },
     "output_type": "display_data"
    }
   ],
   "source": [
    "# Plotting the scatter plot of points and color coding by class\n",
    "plt.figure(figsize=(8,7))\n",
    "plt.scatter(testing_plot[:,0], testing_plot[:,1], alpha = 0.1, c = y_test.ravel());\n",
    "plt.title('Outputs')"
   ]
  },
  {
   "cell_type": "markdown",
   "id": "a74fcf8f",
   "metadata": {
    "papermill": {
     "duration": 0.047792,
     "end_time": "2022-11-06T20:12:31.041786",
     "exception": false,
     "start_time": "2022-11-06T20:12:30.993994",
     "status": "completed"
    },
    "tags": []
   },
   "source": [
    "Probability contours"
   ]
  },
  {
   "cell_type": "code",
   "execution_count": 27,
   "id": "d0afc8e3",
   "metadata": {
    "execution": {
     "iopub.execute_input": "2022-11-06T20:12:31.135550Z",
     "iopub.status.busy": "2022-11-06T20:12:31.134211Z",
     "iopub.status.idle": "2022-11-06T20:12:31.146677Z",
     "shell.execute_reply": "2022-11-06T20:12:31.147107Z"
    },
    "papermill": {
     "duration": 0.061634,
     "end_time": "2022-11-06T20:12:31.147234",
     "exception": false,
     "start_time": "2022-11-06T20:12:31.085600",
     "status": "completed"
    },
    "tags": []
   },
   "outputs": [],
   "source": [
    "model_prob = Model(layers[-2:]) "
   ]
  },
  {
   "cell_type": "code",
   "execution_count": 28,
   "id": "9b96e238",
   "metadata": {
    "execution": {
     "iopub.execute_input": "2022-11-06T20:12:31.239699Z",
     "iopub.status.busy": "2022-11-06T20:12:31.239111Z",
     "iopub.status.idle": "2022-11-06T20:12:31.252533Z",
     "shell.execute_reply": "2022-11-06T20:12:31.252966Z"
    },
    "papermill": {
     "duration": 0.062241,
     "end_time": "2022-11-06T20:12:31.253099",
     "exception": false,
     "start_time": "2022-11-06T20:12:31.190858",
     "status": "completed"
    },
    "tags": []
   },
   "outputs": [],
   "source": [
    "#creating the x and y ranges according to the above generated plot.\n",
    "x_range = np.linspace(-4, 1, 100) \n",
    "y_range = np.linspace(-6, 6, 100) \n",
    "x_grid, y_grid = np.meshgrid(x_range, y_range) # x_grid and y_grig are of size 100 X 100\n",
    "\n",
    "# converting x_grid and y_grid to continuous arrays\n",
    "x_gridflat = np.ravel(x_grid)\n",
    "y_gridflat = np.ravel(y_grid)\n",
    "\n",
    "# The last layer of the current model takes two columns as input. Hence transpose of np.vstack() is required.\n",
    "X = np.vstack((x_gridflat, y_gridflat)).T\n",
    "\n",
    "prob_contour = model_prob(X).reshape(100,100) "
   ]
  },
  {
   "cell_type": "code",
   "execution_count": 29,
   "id": "da72499a",
   "metadata": {
    "execution": {
     "iopub.execute_input": "2022-11-06T20:12:31.372006Z",
     "iopub.status.busy": "2022-11-06T20:12:31.371403Z",
     "iopub.status.idle": "2022-11-06T20:12:31.612498Z",
     "shell.execute_reply": "2022-11-06T20:12:31.612953Z"
    },
    "papermill": {
     "duration": 0.289807,
     "end_time": "2022-11-06T20:12:31.613091",
     "exception": false,
     "start_time": "2022-11-06T20:12:31.323284",
     "status": "completed"
    },
    "tags": []
   },
   "outputs": [
    {
     "data": {
      "image/png": "[encoded data removed]",
      "text/plain": [
       "<Figure size 720x648 with 1 Axes>"
      ]
     },
     "metadata": {
      "needs_background": "light"
     },
     "output_type": "display_data"
    }
   ],
   "source": [
    "plt.figure(figsize=(10,9))\n",
    "plt.scatter(testing_plot[:,0], testing_plot[:,1], alpha = 0.1, c = y_test.ravel())\n",
    "contours = plt.contour(x_grid,y_grid,prob_contour)\n",
    "plt.title('Probability Contours')\n",
    "plt.clabel(contours, inline = True );"
   ]
  },
  {
   "cell_type": "code",
   "execution_count": null,
   "id": "e81b4ac7",
   "metadata": {
    "papermill": {
     "duration": 0.046308,
     "end_time": "2022-11-06T20:12:31.706735",
     "exception": false,
     "start_time": "2022-11-06T20:12:31.660427",
     "status": "completed"
    },
    "tags": []
   },
   "outputs": [],
   "source": []
  }
 ],
 "metadata": {
  "kernelspec": {
   "display_name": "Python 3",
   "language": "python",
   "name": "python3"
  },
  "language_info": {
   "codemirror_mode": {
    "name": "ipython",
    "version": 3
   },
   "file_extension": ".py",
   "mimetype": "text/x-python",
   "name": "python",
   "nbconvert_exporter": "python",
   "pygments_lexer": "ipython3",
   "version": "3.6.15"
  },
  "papermill": {
   "default_parameters": {},
   "duration": 95.028683,
   "end_time": "2022-11-06T20:12:32.172301",
   "environment_variables": {},
   "exception": null,
   "input_path": "2020-08-11-part2.ipynb",
   "output_path": "2020-08-11-part2.ipynb",
   "parameters": {},
   "start_time": "2022-11-06T20:10:57.143618",
   "version": "2.3.3"
  }
 },
 "nbformat": 4,
 "nbformat_minor": 5
}