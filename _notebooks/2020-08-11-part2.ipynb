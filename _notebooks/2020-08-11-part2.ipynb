{
 "cells": [
  {
   "cell_type": "markdown",
   "id": "98380cd3",
   "metadata": {
    "papermill": {
     "duration": 0.02584,
     "end_time": "2022-01-05T10:08:15.029314",
     "exception": false,
     "start_time": "2022-01-05T10:08:15.003474",
     "status": "completed"
    },
    "tags": []
   },
   "source": [
    "# Distinguish Your Own Digits (DYOD)"
   ]
  },
  {
   "cell_type": "markdown",
   "id": "ef31240d",
   "metadata": {
    "papermill": {
     "duration": 0.021342,
     "end_time": "2022-01-05T10:08:15.072514",
     "exception": false,
     "start_time": "2022-01-05T10:08:15.051172",
     "status": "completed"
    },
    "tags": []
   },
   "source": [
    "You are going to write a classifier that distinguishes between the number 3 and number 8."
   ]
  },
  {
   "cell_type": "code",
   "execution_count": 1,
   "id": "b15c8646",
   "metadata": {
    "execution": {
     "iopub.execute_input": "2022-01-05T10:08:15.126126Z",
     "iopub.status.busy": "2022-01-05T10:08:15.125648Z",
     "iopub.status.idle": "2022-01-05T10:08:15.135087Z",
     "shell.execute_reply": "2022-01-05T10:08:15.135443Z"
    },
    "papermill": {
     "duration": 0.041917,
     "end_time": "2022-01-05T10:08:15.135602",
     "exception": false,
     "start_time": "2022-01-05T10:08:15.093685",
     "status": "completed"
    },
    "tags": []
   },
   "outputs": [],
   "source": [
    "%load_ext autoreload\n",
    "%autoreload 2"
   ]
  },
  {
   "cell_type": "code",
   "execution_count": 2,
   "id": "22ef38dc",
   "metadata": {
    "execution": {
     "iopub.execute_input": "2022-01-05T10:08:15.185510Z",
     "iopub.status.busy": "2022-01-05T10:08:15.185013Z",
     "iopub.status.idle": "2022-01-05T10:08:15.726820Z",
     "shell.execute_reply": "2022-01-05T10:08:15.725938Z"
    },
    "papermill": {
     "duration": 0.569951,
     "end_time": "2022-01-05T10:08:15.726973",
     "exception": false,
     "start_time": "2022-01-05T10:08:15.157022",
     "status": "completed"
    },
    "tags": []
   },
   "outputs": [],
   "source": [
    "%matplotlib inline\n",
    "import numpy as np\n",
    "import matplotlib.pyplot as plt\n",
    "import pandas as pd"
   ]
  },
  {
   "cell_type": "markdown",
   "id": "ba036198",
   "metadata": {
    "papermill": {
     "duration": 0.021486,
     "end_time": "2022-01-05T10:08:15.771269",
     "exception": false,
     "start_time": "2022-01-05T10:08:15.749783",
     "status": "completed"
    },
    "tags": []
   },
   "source": [
    "From the command line run `pip install mnist`. This is a library that will help you bring down the mnist dataset. If you run this from a notebook, you need to put  `!pip install mnist` in a cell by itself."
   ]
  },
  {
   "cell_type": "code",
   "execution_count": 3,
   "id": "bb6ad8a1",
   "metadata": {
    "execution": {
     "iopub.execute_input": "2022-01-05T10:08:15.818236Z",
     "iopub.status.busy": "2022-01-05T10:08:15.817761Z",
     "iopub.status.idle": "2022-01-05T10:08:17.464527Z",
     "shell.execute_reply": "2022-01-05T10:08:17.463924Z"
    },
    "papermill": {
     "duration": 1.672088,
     "end_time": "2022-01-05T10:08:17.464670",
     "exception": false,
     "start_time": "2022-01-05T10:08:15.792582",
     "status": "completed"
    },
    "tags": []
   },
   "outputs": [
    {
     "name": "stdout",
     "output_type": "stream",
     "text": [
      "Collecting mnist\r\n"
     ]
    },
    {
     "name": "stdout",
     "output_type": "stream",
     "text": [
      "  Downloading mnist-0.2.2-py2.py3-none-any.whl (3.5 kB)\r\n",
      "Requirement already satisfied: numpy in /opt/hostedtoolcache/Python/3.6.15/x64/lib/python3.6/site-packages (from mnist) (1.19.5)\r\n"
     ]
    },
    {
     "name": "stdout",
     "output_type": "stream",
     "text": [
      "Installing collected packages: mnist\r\n"
     ]
    },
    {
     "name": "stdout",
     "output_type": "stream",
     "text": [
      "Successfully installed mnist-0.2.2\r\n"
     ]
    }
   ],
   "source": [
    "!pip install mnist"
   ]
  },
  {
   "cell_type": "markdown",
   "id": "69df9c9a",
   "metadata": {
    "papermill": {
     "duration": 0.022491,
     "end_time": "2022-01-05T10:08:17.509819",
     "exception": false,
     "start_time": "2022-01-05T10:08:17.487328",
     "status": "completed"
    },
    "tags": []
   },
   "source": [
    "## Preparing the Data"
   ]
  },
  {
   "cell_type": "code",
   "execution_count": 4,
   "id": "7f69d806",
   "metadata": {
    "execution": {
     "iopub.execute_input": "2022-01-05T10:08:17.557888Z",
     "iopub.status.busy": "2022-01-05T10:08:17.557424Z",
     "iopub.status.idle": "2022-01-05T10:08:17.570599Z",
     "shell.execute_reply": "2022-01-05T10:08:17.570973Z"
    },
    "papermill": {
     "duration": 0.039322,
     "end_time": "2022-01-05T10:08:17.571100",
     "exception": false,
     "start_time": "2022-01-05T10:08:17.531778",
     "status": "completed"
    },
    "tags": []
   },
   "outputs": [],
   "source": [
    "import mnist"
   ]
  },
  {
   "cell_type": "code",
   "execution_count": 5,
   "id": "a411e44f",
   "metadata": {
    "execution": {
     "iopub.execute_input": "2022-01-05T10:08:17.626497Z",
     "iopub.status.busy": "2022-01-05T10:08:17.626002Z",
     "iopub.status.idle": "2022-01-05T10:08:18.186845Z",
     "shell.execute_reply": "2022-01-05T10:08:18.185848Z"
    },
    "papermill": {
     "duration": 0.593665,
     "end_time": "2022-01-05T10:08:18.187009",
     "exception": false,
     "start_time": "2022-01-05T10:08:17.593344",
     "status": "completed"
    },
    "tags": []
   },
   "outputs": [],
   "source": [
    "train_images = mnist.train_images()\n",
    "train_labels = mnist.train_labels()"
   ]
  },
  {
   "cell_type": "code",
   "execution_count": 6,
   "id": "dceab3a5",
   "metadata": {
    "execution": {
     "iopub.execute_input": "2022-01-05T10:08:18.236587Z",
     "iopub.status.busy": "2022-01-05T10:08:18.236090Z",
     "iopub.status.idle": "2022-01-05T10:08:18.249809Z",
     "shell.execute_reply": "2022-01-05T10:08:18.250242Z"
    },
    "papermill": {
     "duration": 0.040448,
     "end_time": "2022-01-05T10:08:18.250373",
     "exception": false,
     "start_time": "2022-01-05T10:08:18.209925",
     "status": "completed"
    },
    "tags": []
   },
   "outputs": [
    {
     "data": {
      "text/plain": [
       "((60000, 28, 28), (60000,))"
      ]
     },
     "execution_count": 6,
     "metadata": {},
     "output_type": "execute_result"
    }
   ],
   "source": [
    "train_images.shape, train_labels.shape"
   ]
  },
  {
   "cell_type": "code",
   "execution_count": 7,
   "id": "f50dc2bb",
   "metadata": {
    "execution": {
     "iopub.execute_input": "2022-01-05T10:08:18.311768Z",
     "iopub.status.busy": "2022-01-05T10:08:18.308648Z",
     "iopub.status.idle": "2022-01-05T10:08:18.476331Z",
     "shell.execute_reply": "2022-01-05T10:08:18.476846Z"
    },
    "papermill": {
     "duration": 0.204381,
     "end_time": "2022-01-05T10:08:18.477045",
     "exception": false,
     "start_time": "2022-01-05T10:08:18.272664",
     "status": "completed"
    },
    "tags": []
   },
   "outputs": [],
   "source": [
    "test_images = mnist.test_images()\n",
    "test_labels = mnist.test_labels()"
   ]
  },
  {
   "cell_type": "code",
   "execution_count": 8,
   "id": "fc38cf1b",
   "metadata": {
    "execution": {
     "iopub.execute_input": "2022-01-05T10:08:18.541260Z",
     "iopub.status.busy": "2022-01-05T10:08:18.534956Z",
     "iopub.status.idle": "2022-01-05T10:08:18.544231Z",
     "shell.execute_reply": "2022-01-05T10:08:18.543809Z"
    },
    "papermill": {
     "duration": 0.042916,
     "end_time": "2022-01-05T10:08:18.544350",
     "exception": false,
     "start_time": "2022-01-05T10:08:18.501434",
     "status": "completed"
    },
    "tags": []
   },
   "outputs": [
    {
     "data": {
      "text/plain": [
       "((10000, 28, 28), (10000,))"
      ]
     },
     "execution_count": 8,
     "metadata": {},
     "output_type": "execute_result"
    }
   ],
   "source": [
    "test_images.shape, test_labels.shape"
   ]
  },
  {
   "cell_type": "code",
   "execution_count": 9,
   "id": "f9ed8fe0",
   "metadata": {
    "execution": {
     "iopub.execute_input": "2022-01-05T10:08:18.597577Z",
     "iopub.status.busy": "2022-01-05T10:08:18.593146Z",
     "iopub.status.idle": "2022-01-05T10:08:18.732064Z",
     "shell.execute_reply": "2022-01-05T10:08:18.732504Z"
    },
    "papermill": {
     "duration": 0.165714,
     "end_time": "2022-01-05T10:08:18.732648",
     "exception": false,
     "start_time": "2022-01-05T10:08:18.566934",
     "status": "completed"
    },
    "tags": []
   },
   "outputs": [
    {
     "name": "stdout",
     "output_type": "stream",
     "text": [
      "2\n"
     ]
    },
    {
     "data": {
      "text/plain": [
       "<matplotlib.image.AxesImage at 0x7f1c17837390>"
      ]
     },
     "execution_count": 9,
     "metadata": {},
     "output_type": "execute_result"
    },
    {
     "data": {
      "image/png": "[encoded data removed]",
      "text/plain": [
       "<Figure size 432x288 with 1 Axes>"
      ]
     },
     "metadata": {
      "needs_background": "light"
     },
     "output_type": "display_data"
    }
   ],
   "source": [
    "image_index = 7776 # You may select anything up to 60,000\n",
    "print(train_labels[image_index]) \n",
    "plt.imshow(train_images[image_index], cmap='Greys')"
   ]
  },
  {
   "cell_type": "markdown",
   "id": "a8d2388d",
   "metadata": {
    "papermill": {
     "duration": 0.02405,
     "end_time": "2022-01-05T10:08:18.781142",
     "exception": false,
     "start_time": "2022-01-05T10:08:18.757092",
     "status": "completed"
    },
    "tags": []
   },
   "source": [
    "## Filter data to get 3 and 8 out"
   ]
  },
  {
   "cell_type": "code",
   "execution_count": 10,
   "id": "776f7fc7",
   "metadata": {
    "execution": {
     "iopub.execute_input": "2022-01-05T10:08:18.841684Z",
     "iopub.status.busy": "2022-01-05T10:08:18.841154Z",
     "iopub.status.idle": "2022-01-05T10:08:18.851615Z",
     "shell.execute_reply": "2022-01-05T10:08:18.851970Z"
    },
    "papermill": {
     "duration": 0.047392,
     "end_time": "2022-01-05T10:08:18.852107",
     "exception": false,
     "start_time": "2022-01-05T10:08:18.804715",
     "status": "completed"
    },
    "tags": []
   },
   "outputs": [],
   "source": [
    "train_filter = np.where((train_labels == 3 ) | (train_labels == 8))\n",
    "test_filter = np.where((test_labels == 3) | (test_labels == 8))\n",
    "X_train, y_train = train_images[train_filter], train_labels[train_filter]\n",
    "X_test, y_test = test_images[test_filter], test_labels[test_filter]"
   ]
  },
  {
   "cell_type": "markdown",
   "id": "948f0b7e",
   "metadata": {
    "papermill": {
     "duration": 0.023405,
     "end_time": "2022-01-05T10:08:18.899254",
     "exception": false,
     "start_time": "2022-01-05T10:08:18.875849",
     "status": "completed"
    },
    "tags": []
   },
   "source": [
    "We normalize the pizel values in the 0 to 1 range"
   ]
  },
  {
   "cell_type": "code",
   "execution_count": 11,
   "id": "ee4c2166",
   "metadata": {
    "execution": {
     "iopub.execute_input": "2022-01-05T10:08:18.950341Z",
     "iopub.status.busy": "2022-01-05T10:08:18.949327Z",
     "iopub.status.idle": "2022-01-05T10:08:18.994939Z",
     "shell.execute_reply": "2022-01-05T10:08:18.994018Z"
    },
    "papermill": {
     "duration": 0.07237,
     "end_time": "2022-01-05T10:08:18.995073",
     "exception": false,
     "start_time": "2022-01-05T10:08:18.922703",
     "status": "completed"
    },
    "tags": []
   },
   "outputs": [],
   "source": [
    "X_train = X_train/255.\n",
    "X_test = X_test/255."
   ]
  },
  {
   "cell_type": "markdown",
   "id": "ddcf4fab",
   "metadata": {
    "papermill": {
     "duration": 0.023482,
     "end_time": "2022-01-05T10:08:19.042305",
     "exception": false,
     "start_time": "2022-01-05T10:08:19.018823",
     "status": "completed"
    },
    "tags": []
   },
   "source": [
    "And setup the labels as 1 (when the digit is 3) and 0 (when the digit is 8)"
   ]
  },
  {
   "cell_type": "code",
   "execution_count": 12,
   "id": "7dc908f2",
   "metadata": {
    "execution": {
     "iopub.execute_input": "2022-01-05T10:08:19.097697Z",
     "iopub.status.busy": "2022-01-05T10:08:19.097180Z",
     "iopub.status.idle": "2022-01-05T10:08:19.107421Z",
     "shell.execute_reply": "2022-01-05T10:08:19.107013Z"
    },
    "papermill": {
     "duration": 0.041788,
     "end_time": "2022-01-05T10:08:19.107533",
     "exception": false,
     "start_time": "2022-01-05T10:08:19.065745",
     "status": "completed"
    },
    "tags": []
   },
   "outputs": [],
   "source": [
    "y_train = 1*(y_train==3)\n",
    "y_test = 1*(y_test==3)"
   ]
  },
  {
   "cell_type": "code",
   "execution_count": 13,
   "id": "01e4e969",
   "metadata": {
    "execution": {
     "iopub.execute_input": "2022-01-05T10:08:19.157898Z",
     "iopub.status.busy": "2022-01-05T10:08:19.157445Z",
     "iopub.status.idle": "2022-01-05T10:08:19.169412Z",
     "shell.execute_reply": "2022-01-05T10:08:19.169021Z"
    },
    "papermill": {
     "duration": 0.038381,
     "end_time": "2022-01-05T10:08:19.169517",
     "exception": false,
     "start_time": "2022-01-05T10:08:19.131136",
     "status": "completed"
    },
    "tags": []
   },
   "outputs": [
    {
     "data": {
      "text/plain": [
       "((11982, 28, 28), (1984, 28, 28))"
      ]
     },
     "execution_count": 13,
     "metadata": {},
     "output_type": "execute_result"
    }
   ],
   "source": [
    "X_train.shape, X_test.shape"
   ]
  },
  {
   "cell_type": "markdown",
   "id": "5ccf3f85",
   "metadata": {
    "papermill": {
     "duration": 0.023759,
     "end_time": "2022-01-05T10:08:19.217275",
     "exception": false,
     "start_time": "2022-01-05T10:08:19.193516",
     "status": "completed"
    },
    "tags": []
   },
   "source": [
    "We reshape the data to flatten the image pixels into a set of features or co-variates:"
   ]
  },
  {
   "cell_type": "code",
   "execution_count": 14,
   "id": "5286a4a3",
   "metadata": {
    "execution": {
     "iopub.execute_input": "2022-01-05T10:08:19.269037Z",
     "iopub.status.busy": "2022-01-05T10:08:19.268538Z",
     "iopub.status.idle": "2022-01-05T10:08:19.281739Z",
     "shell.execute_reply": "2022-01-05T10:08:19.281363Z"
    },
    "papermill": {
     "duration": 0.04059,
     "end_time": "2022-01-05T10:08:19.281849",
     "exception": false,
     "start_time": "2022-01-05T10:08:19.241259",
     "status": "completed"
    },
    "tags": []
   },
   "outputs": [
    {
     "data": {
      "text/plain": [
       "((11982, 784), (1984, 784))"
      ]
     },
     "execution_count": 14,
     "metadata": {},
     "output_type": "execute_result"
    }
   ],
   "source": [
    "X_train = X_train.reshape(X_train.shape[0], -1)\n",
    "X_test = X_test.reshape(X_test.shape[0], -1)\n",
    "X_train.shape, X_test.shape"
   ]
  },
  {
   "cell_type": "code",
   "execution_count": 15,
   "id": "73c5f88a",
   "metadata": {
    "execution": {
     "iopub.execute_input": "2022-01-05T10:08:19.336217Z",
     "iopub.status.busy": "2022-01-05T10:08:19.335711Z",
     "iopub.status.idle": "2022-01-05T10:08:19.352977Z",
     "shell.execute_reply": "2022-01-05T10:08:19.353417Z"
    },
    "papermill": {
     "duration": 0.0473,
     "end_time": "2022-01-05T10:08:19.353574",
     "exception": false,
     "start_time": "2022-01-05T10:08:19.306274",
     "status": "completed"
    },
    "tags": []
   },
   "outputs": [],
   "source": [
    "#Impoting functions from 'Kudzu'\n",
    "from kudzu.model import Model\n",
    "from kudzu.train import Learner\n",
    "from kudzu.optim import GD\n",
    "from kudzu.data import Data, Sampler,Dataloader\n",
    "\n",
    "from kudzu.callbacks import AccCallback\n",
    "from kudzu.callbacks import ClfCallback\n",
    "\n",
    "from kudzu.loss import MSE\n",
    "\n",
    "from kudzu.layer import Sigmoid,Relu\n",
    "from kudzu.layer import Affine"
   ]
  },
  {
   "cell_type": "markdown",
   "id": "bc01172a",
   "metadata": {
    "papermill": {
     "duration": 0.023963,
     "end_time": "2022-01-05T10:08:19.403104",
     "exception": false,
     "start_time": "2022-01-05T10:08:19.379141",
     "status": "completed"
    },
    "tags": []
   },
   "source": [
    "### Let us create a `Config` class, to store important parameters. \n",
    "This class essentially plays the role of a dictionary."
   ]
  },
  {
   "cell_type": "code",
   "execution_count": 16,
   "id": "978281aa",
   "metadata": {
    "execution": {
     "iopub.execute_input": "2022-01-05T10:08:19.455074Z",
     "iopub.status.busy": "2022-01-05T10:08:19.454600Z",
     "iopub.status.idle": "2022-01-05T10:08:19.465106Z",
     "shell.execute_reply": "2022-01-05T10:08:19.465499Z"
    },
    "papermill": {
     "duration": 0.038671,
     "end_time": "2022-01-05T10:08:19.465625",
     "exception": false,
     "start_time": "2022-01-05T10:08:19.426954",
     "status": "completed"
    },
    "tags": []
   },
   "outputs": [],
   "source": [
    "class Config:\n",
    "    pass\n",
    "config = Config()\n",
    "config.lr = 0.001\n",
    "config.num_epochs = 250\n",
    "config.bs = 50"
   ]
  },
  {
   "cell_type": "markdown",
   "id": "1385fa59",
   "metadata": {
    "papermill": {
     "duration": 0.023887,
     "end_time": "2022-01-05T10:08:19.513587",
     "exception": false,
     "start_time": "2022-01-05T10:08:19.489700",
     "status": "completed"
    },
    "tags": []
   },
   "source": [
    "### Running Models with the Training data\n",
    "Details about the network layers:\n",
    "- A first affine layer has 784 inputs and does 100 affine transforms. These are followed by a Relu\n",
    "- A second affine layer has 100 inputs from the 100 activations of the past layer, and does 100 affine transforms. These are followed by a Relu\n",
    "- A third affine layer has 100 activations and does 2 affine transformations to create an embedding for visualization. There is no non-linearity here.\n",
    "- A final \"logistic regression\" which has an affine transform from 2 inputs to 1 output, which is squeezed through a sigmoid.\n"
   ]
  },
  {
   "cell_type": "code",
   "execution_count": 17,
   "id": "2b9c66db",
   "metadata": {
    "execution": {
     "iopub.execute_input": "2022-01-05T10:08:19.579191Z",
     "iopub.status.busy": "2022-01-05T10:08:19.577066Z",
     "iopub.status.idle": "2022-01-05T10:08:19.581437Z",
     "shell.execute_reply": "2022-01-05T10:08:19.581063Z"
    },
    "papermill": {
     "duration": 0.044029,
     "end_time": "2022-01-05T10:08:19.581548",
     "exception": false,
     "start_time": "2022-01-05T10:08:19.537519",
     "status": "completed"
    },
    "tags": []
   },
   "outputs": [],
   "source": [
    "data = Data(X_train, y_train.reshape(-1,1))\n",
    "sampler = Sampler(data, config.bs, shuffle=True)\n",
    "\n",
    "dl = Dataloader(data, sampler)\n",
    "\n",
    "opt = GD(config.lr)\n",
    "loss = MSE()"
   ]
  },
  {
   "cell_type": "code",
   "execution_count": 18,
   "id": "b275e4c2",
   "metadata": {
    "execution": {
     "iopub.execute_input": "2022-01-05T10:08:19.633531Z",
     "iopub.status.busy": "2022-01-05T10:08:19.633058Z",
     "iopub.status.idle": "2022-01-05T10:08:19.644455Z",
     "shell.execute_reply": "2022-01-05T10:08:19.644835Z"
    },
    "papermill": {
     "duration": 0.039224,
     "end_time": "2022-01-05T10:08:19.644965",
     "exception": false,
     "start_time": "2022-01-05T10:08:19.605741",
     "status": "completed"
    },
    "tags": []
   },
   "outputs": [],
   "source": [
    "training_data_x = X_train\n",
    "testing_data_x = X_test\n",
    "training_data_y = y_train.reshape(-1,1)\n",
    "testing_data_y = y_test.reshape(-1,1)"
   ]
  },
  {
   "cell_type": "code",
   "execution_count": 19,
   "id": "76951160",
   "metadata": {
    "execution": {
     "iopub.execute_input": "2022-01-05T10:08:19.699384Z",
     "iopub.status.busy": "2022-01-05T10:08:19.698876Z",
     "iopub.status.idle": "2022-01-05T10:08:19.712471Z",
     "shell.execute_reply": "2022-01-05T10:08:19.712868Z"
    },
    "papermill": {
     "duration": 0.044164,
     "end_time": "2022-01-05T10:08:19.713001",
     "exception": false,
     "start_time": "2022-01-05T10:08:19.668837",
     "status": "completed"
    },
    "tags": []
   },
   "outputs": [
    {
     "name": "stdout",
     "output_type": "stream",
     "text": [
      "xavier\n",
      "xavier\n",
      "xavier\n",
      "xavier\n",
      "xavier\n"
     ]
    }
   ],
   "source": [
    "layers = [Affine(\"first\", 784, 100), Relu(\"first\"), Affine(\"second\", 100, 100), Relu(\"second\"), Affine(\"third\", 100, 2), Affine(\"last\", 2, 1), Sigmoid(\"last\")]\n",
    "model_nn = Model(layers)\n",
    "model_lr = Model([Affine(\"logits\", 784, 1), Sigmoid(\"sigmoid\")])"
   ]
  },
  {
   "cell_type": "code",
   "execution_count": 20,
   "id": "6eede77a",
   "metadata": {
    "execution": {
     "iopub.execute_input": "2022-01-05T10:08:19.766511Z",
     "iopub.status.busy": "2022-01-05T10:08:19.766041Z",
     "iopub.status.idle": "2022-01-05T10:08:19.778222Z",
     "shell.execute_reply": "2022-01-05T10:08:19.777844Z"
    },
    "papermill": {
     "duration": 0.040953,
     "end_time": "2022-01-05T10:08:19.778337",
     "exception": false,
     "start_time": "2022-01-05T10:08:19.737384",
     "status": "completed"
    },
    "tags": []
   },
   "outputs": [],
   "source": [
    "nn_learner = Learner(loss, model_nn, opt, config.num_epochs)\n",
    "acc_nn = ClfCallback(nn_learner, config.bs, training_data_x , testing_data_x, training_data_y, testing_data_y)\n",
    "nn_learner.set_callbacks([acc_nn])"
   ]
  },
  {
   "cell_type": "code",
   "execution_count": 21,
   "id": "877b6cc7",
   "metadata": {
    "execution": {
     "iopub.execute_input": "2022-01-05T10:08:19.831541Z",
     "iopub.status.busy": "2022-01-05T10:08:19.831028Z",
     "iopub.status.idle": "2022-01-05T10:08:19.844047Z",
     "shell.execute_reply": "2022-01-05T10:08:19.843593Z"
    },
    "papermill": {
     "duration": 0.04151,
     "end_time": "2022-01-05T10:08:19.844189",
     "exception": false,
     "start_time": "2022-01-05T10:08:19.802679",
     "status": "completed"
    },
    "tags": []
   },
   "outputs": [],
   "source": [
    "lr_learner = Learner(loss, model_lr, opt, config.num_epochs)\n",
    "acc_lr = ClfCallback(lr_learner, config.bs, training_data_x , testing_data_x, training_data_y, testing_data_y)\n",
    "lr_learner.set_callbacks([acc_lr])"
   ]
  },
  {
   "cell_type": "code",
   "execution_count": 22,
   "id": "d9b133c3",
   "metadata": {
    "execution": {
     "iopub.execute_input": "2022-01-05T10:08:19.907438Z",
     "iopub.status.busy": "2022-01-05T10:08:19.900668Z",
     "iopub.status.idle": "2022-01-05T10:09:37.579302Z",
     "shell.execute_reply": "2022-01-05T10:09:37.580006Z"
    },
    "papermill": {
     "duration": 77.711492,
     "end_time": "2022-01-05T10:09:37.580150",
     "exception": false,
     "start_time": "2022-01-05T10:08:19.868658",
     "status": "completed"
    },
    "tags": []
   },
   "outputs": [
    {
     "name": "stdout",
     "output_type": "stream",
     "text": [
      "Epoch 0, Loss 0.2377\n",
      "Training Accuracy: 0.7371, Testing Accuracy: 0.7631\n",
      "\n"
     ]
    },
    {
     "name": "stdout",
     "output_type": "stream",
     "text": [
      "Epoch 10, Loss 0.0922\n",
      "Training Accuracy: 0.9243, Testing Accuracy: 0.9395\n",
      "\n"
     ]
    },
    {
     "name": "stdout",
     "output_type": "stream",
     "text": [
      "Epoch 20, Loss 0.0546\n",
      "Training Accuracy: 0.9491, Testing Accuracy: 0.9587\n",
      "\n"
     ]
    },
    {
     "name": "stdout",
     "output_type": "stream",
     "text": [
      "Epoch 30, Loss 0.0422\n",
      "Training Accuracy: 0.9572, Testing Accuracy: 0.9647\n",
      "\n"
     ]
    },
    {
     "name": "stdout",
     "output_type": "stream",
     "text": [
      "Epoch 40, Loss 0.0362\n",
      "Training Accuracy: 0.9612, Testing Accuracy: 0.9693\n",
      "\n"
     ]
    },
    {
     "name": "stdout",
     "output_type": "stream",
     "text": [
      "Epoch 50, Loss 0.0327\n",
      "Training Accuracy: 0.9649, Testing Accuracy: 0.9698\n",
      "\n"
     ]
    },
    {
     "name": "stdout",
     "output_type": "stream",
     "text": [
      "Epoch 60, Loss 0.0303\n",
      "Training Accuracy: 0.9678, Testing Accuracy: 0.9708\n",
      "\n"
     ]
    },
    {
     "name": "stdout",
     "output_type": "stream",
     "text": [
      "Epoch 70, Loss 0.0285\n",
      "Training Accuracy: 0.9694, Testing Accuracy: 0.9718\n",
      "\n"
     ]
    },
    {
     "name": "stdout",
     "output_type": "stream",
     "text": [
      "Epoch 80, Loss 0.0271\n",
      "Training Accuracy: 0.9709, Testing Accuracy: 0.9723\n",
      "\n"
     ]
    },
    {
     "name": "stdout",
     "output_type": "stream",
     "text": [
      "Epoch 90, Loss 0.0259\n",
      "Training Accuracy: 0.9718, Testing Accuracy: 0.9733\n",
      "\n"
     ]
    },
    {
     "name": "stdout",
     "output_type": "stream",
     "text": [
      "Epoch 100, Loss 0.0249\n",
      "Training Accuracy: 0.9726, Testing Accuracy: 0.9738\n",
      "\n"
     ]
    },
    {
     "name": "stdout",
     "output_type": "stream",
     "text": [
      "Epoch 110, Loss 0.0241\n",
      "Training Accuracy: 0.9738, Testing Accuracy: 0.9738\n",
      "\n"
     ]
    },
    {
     "name": "stdout",
     "output_type": "stream",
     "text": [
      "Epoch 120, Loss 0.0233\n",
      "Training Accuracy: 0.9741, Testing Accuracy: 0.9738\n",
      "\n"
     ]
    },
    {
     "name": "stdout",
     "output_type": "stream",
     "text": [
      "Epoch 130, Loss 0.0227\n",
      "Training Accuracy: 0.9748, Testing Accuracy: 0.9738\n",
      "\n"
     ]
    },
    {
     "name": "stdout",
     "output_type": "stream",
     "text": [
      "Epoch 140, Loss 0.022\n",
      "Training Accuracy: 0.9755, Testing Accuracy: 0.9738\n",
      "\n"
     ]
    },
    {
     "name": "stdout",
     "output_type": "stream",
     "text": [
      "Epoch 150, Loss 0.0215\n",
      "Training Accuracy: 0.9761, Testing Accuracy: 0.9743\n",
      "\n"
     ]
    },
    {
     "name": "stdout",
     "output_type": "stream",
     "text": [
      "Epoch 160, Loss 0.0209\n",
      "Training Accuracy: 0.9768, Testing Accuracy: 0.9743\n",
      "\n"
     ]
    },
    {
     "name": "stdout",
     "output_type": "stream",
     "text": [
      "Epoch 170, Loss 0.0205\n",
      "Training Accuracy: 0.9778, Testing Accuracy: 0.9743\n",
      "\n"
     ]
    },
    {
     "name": "stdout",
     "output_type": "stream",
     "text": [
      "Epoch 180, Loss 0.02\n",
      "Training Accuracy: 0.9784, Testing Accuracy: 0.9748\n",
      "\n"
     ]
    },
    {
     "name": "stdout",
     "output_type": "stream",
     "text": [
      "Epoch 190, Loss 0.0196\n",
      "Training Accuracy: 0.9788, Testing Accuracy: 0.9748\n",
      "\n"
     ]
    },
    {
     "name": "stdout",
     "output_type": "stream",
     "text": [
      "Epoch 200, Loss 0.0192\n",
      "Training Accuracy: 0.9791, Testing Accuracy: 0.9748\n",
      "\n"
     ]
    },
    {
     "name": "stdout",
     "output_type": "stream",
     "text": [
      "Epoch 210, Loss 0.0188\n",
      "Training Accuracy: 0.9795, Testing Accuracy: 0.9748\n",
      "\n"
     ]
    },
    {
     "name": "stdout",
     "output_type": "stream",
     "text": [
      "Epoch 220, Loss 0.0184\n",
      "Training Accuracy: 0.9796, Testing Accuracy: 0.9753\n",
      "\n"
     ]
    },
    {
     "name": "stdout",
     "output_type": "stream",
     "text": [
      "Epoch 230, Loss 0.018\n",
      "Training Accuracy: 0.9807, Testing Accuracy: 0.9753\n",
      "\n"
     ]
    },
    {
     "name": "stdout",
     "output_type": "stream",
     "text": [
      "Epoch 240, Loss 0.0176\n",
      "Training Accuracy: 0.9813, Testing Accuracy: 0.9758\n",
      "\n"
     ]
    },
    {
     "data": {
      "text/plain": [
       "0.01155403191889915"
      ]
     },
     "execution_count": 22,
     "metadata": {},
     "output_type": "execute_result"
    }
   ],
   "source": [
    "nn_learner.train_loop(dl)"
   ]
  },
  {
   "cell_type": "code",
   "execution_count": 23,
   "id": "e0163366",
   "metadata": {
    "execution": {
     "iopub.execute_input": "2022-01-05T10:09:37.653569Z",
     "iopub.status.busy": "2022-01-05T10:09:37.653087Z",
     "iopub.status.idle": "2022-01-05T10:09:51.390714Z",
     "shell.execute_reply": "2022-01-05T10:09:51.391430Z"
    },
    "papermill": {
     "duration": 13.780137,
     "end_time": "2022-01-05T10:09:51.391573",
     "exception": false,
     "start_time": "2022-01-05T10:09:37.611436",
     "status": "completed"
    },
    "tags": []
   },
   "outputs": [
    {
     "name": "stdout",
     "output_type": "stream",
     "text": [
      "Epoch 0, Loss 0.2728\n",
      "Training Accuracy: 0.5603, Testing Accuracy: 0.5761\n",
      "\n"
     ]
    },
    {
     "name": "stdout",
     "output_type": "stream",
     "text": [
      "Epoch 10, Loss 0.1015\n",
      "Training Accuracy: 0.9156, Testing Accuracy: 0.9284\n",
      "\n"
     ]
    },
    {
     "name": "stdout",
     "output_type": "stream",
     "text": [
      "Epoch 20, Loss 0.0776\n",
      "Training Accuracy: 0.9300, Testing Accuracy: 0.9451\n",
      "\n"
     ]
    },
    {
     "name": "stdout",
     "output_type": "stream",
     "text": [
      "Epoch 30, Loss 0.067\n",
      "Training Accuracy: 0.9367, Testing Accuracy: 0.9501\n",
      "\n"
     ]
    },
    {
     "name": "stdout",
     "output_type": "stream",
     "text": [
      "Epoch 40, Loss 0.0607\n",
      "Training Accuracy: 0.9421, Testing Accuracy: 0.9546\n",
      "\n"
     ]
    },
    {
     "name": "stdout",
     "output_type": "stream",
     "text": [
      "Epoch 50, Loss 0.0564\n",
      "Training Accuracy: 0.9448, Testing Accuracy: 0.9572\n",
      "\n"
     ]
    },
    {
     "name": "stdout",
     "output_type": "stream",
     "text": [
      "Epoch 60, Loss 0.0532\n",
      "Training Accuracy: 0.9479, Testing Accuracy: 0.9587\n",
      "\n"
     ]
    },
    {
     "name": "stdout",
     "output_type": "stream",
     "text": [
      "Epoch 70, Loss 0.0508\n",
      "Training Accuracy: 0.9498, Testing Accuracy: 0.9587\n",
      "\n"
     ]
    },
    {
     "name": "stdout",
     "output_type": "stream",
     "text": [
      "Epoch 80, Loss 0.0488\n",
      "Training Accuracy: 0.9509, Testing Accuracy: 0.9597\n",
      "\n"
     ]
    },
    {
     "name": "stdout",
     "output_type": "stream",
     "text": [
      "Epoch 90, Loss 0.0472\n",
      "Training Accuracy: 0.9523, Testing Accuracy: 0.9607\n",
      "\n"
     ]
    },
    {
     "name": "stdout",
     "output_type": "stream",
     "text": [
      "Epoch 100, Loss 0.0458\n",
      "Training Accuracy: 0.9539, Testing Accuracy: 0.9617\n",
      "\n"
     ]
    },
    {
     "name": "stdout",
     "output_type": "stream",
     "text": [
      "Epoch 110, Loss 0.0446\n",
      "Training Accuracy: 0.9551, Testing Accuracy: 0.9637\n",
      "\n"
     ]
    },
    {
     "name": "stdout",
     "output_type": "stream",
     "text": [
      "Epoch 120, Loss 0.0436\n",
      "Training Accuracy: 0.9562, Testing Accuracy: 0.9637\n",
      "\n"
     ]
    },
    {
     "name": "stdout",
     "output_type": "stream",
     "text": [
      "Epoch 130, Loss 0.0427\n",
      "Training Accuracy: 0.9573, Testing Accuracy: 0.9632\n",
      "\n"
     ]
    },
    {
     "name": "stdout",
     "output_type": "stream",
     "text": [
      "Epoch 140, Loss 0.0419\n",
      "Training Accuracy: 0.9578, Testing Accuracy: 0.9637\n",
      "\n"
     ]
    },
    {
     "name": "stdout",
     "output_type": "stream",
     "text": [
      "Epoch 150, Loss 0.0412\n",
      "Training Accuracy: 0.9583, Testing Accuracy: 0.9632\n",
      "\n"
     ]
    },
    {
     "name": "stdout",
     "output_type": "stream",
     "text": [
      "Epoch 160, Loss 0.0405\n",
      "Training Accuracy: 0.9583, Testing Accuracy: 0.9637\n",
      "\n"
     ]
    },
    {
     "name": "stdout",
     "output_type": "stream",
     "text": [
      "Epoch 170, Loss 0.0399\n",
      "Training Accuracy: 0.9585, Testing Accuracy: 0.9642\n",
      "\n"
     ]
    },
    {
     "name": "stdout",
     "output_type": "stream",
     "text": [
      "Epoch 180, Loss 0.0393\n",
      "Training Accuracy: 0.9589, Testing Accuracy: 0.9647\n",
      "\n"
     ]
    },
    {
     "name": "stdout",
     "output_type": "stream",
     "text": [
      "Epoch 190, Loss 0.0388\n",
      "Training Accuracy: 0.9592, Testing Accuracy: 0.9652\n",
      "\n"
     ]
    },
    {
     "name": "stdout",
     "output_type": "stream",
     "text": [
      "Epoch 200, Loss 0.0384\n",
      "Training Accuracy: 0.9592, Testing Accuracy: 0.9652\n",
      "\n"
     ]
    },
    {
     "name": "stdout",
     "output_type": "stream",
     "text": [
      "Epoch 210, Loss 0.0379\n",
      "Training Accuracy: 0.9596, Testing Accuracy: 0.9652\n",
      "\n"
     ]
    },
    {
     "name": "stdout",
     "output_type": "stream",
     "text": [
      "Epoch 220, Loss 0.0375\n",
      "Training Accuracy: 0.9601, Testing Accuracy: 0.9657\n",
      "\n"
     ]
    },
    {
     "name": "stdout",
     "output_type": "stream",
     "text": [
      "Epoch 230, Loss 0.0371\n",
      "Training Accuracy: 0.9604, Testing Accuracy: 0.9657\n",
      "\n"
     ]
    },
    {
     "name": "stdout",
     "output_type": "stream",
     "text": [
      "Epoch 240, Loss 0.0368\n",
      "Training Accuracy: 0.9606, Testing Accuracy: 0.9657\n",
      "\n"
     ]
    },
    {
     "data": {
      "text/plain": [
       "0.06901323023096914"
      ]
     },
     "execution_count": 23,
     "metadata": {},
     "output_type": "execute_result"
    }
   ],
   "source": [
    "lr_learner.train_loop(dl)"
   ]
  },
  {
   "cell_type": "code",
   "execution_count": 24,
   "id": "ca410940",
   "metadata": {
    "execution": {
     "iopub.execute_input": "2022-01-05T10:09:51.473999Z",
     "iopub.status.busy": "2022-01-05T10:09:51.473508Z",
     "iopub.status.idle": "2022-01-05T10:09:51.674327Z",
     "shell.execute_reply": "2022-01-05T10:09:51.674898Z"
    },
    "papermill": {
     "duration": 0.246202,
     "end_time": "2022-01-05T10:09:51.675060",
     "exception": false,
     "start_time": "2022-01-05T10:09:51.428858",
     "status": "completed"
    },
    "tags": []
   },
   "outputs": [
    {
     "data": {
      "text/plain": [
       "<matplotlib.legend.Legend at 0x7f1c0a00ca90>"
      ]
     },
     "execution_count": 24,
     "metadata": {},
     "output_type": "execute_result"
    },
    {
     "data": {
      "image/png": "[encoded data removed]",
      "text/plain": [
       "<Figure size 1080x720 with 1 Axes>"
      ]
     },
     "metadata": {
      "needs_background": "light"
     },
     "output_type": "display_data"
    }
   ],
   "source": [
    "#comparing the results of NN and LR\n",
    "plt.figure(figsize=(15,10))\n",
    "\n",
    "# Neural Network plots\n",
    "plt.plot(acc_nn.accuracies, 'r-', label = \"Training Accuracies - NN\")\n",
    "plt.plot(acc_nn.test_accuracies, 'g-', label = \"Testing Accuracies - NN\")\n",
    "\n",
    "# Logistic Regression plots\n",
    "plt.plot(acc_lr.accuracies, 'k-', label = \"Training Accuracies - LR\")\n",
    "plt.plot(acc_lr.test_accuracies, 'b-', label = \"Testing Accuracies - LR\")\n",
    "plt.legend()"
   ]
  },
  {
   "cell_type": "markdown",
   "id": "80dfb35c",
   "metadata": {
    "papermill": {
     "duration": 0.037334,
     "end_time": "2022-01-05T10:09:51.750218",
     "exception": false,
     "start_time": "2022-01-05T10:09:51.712884",
     "status": "completed"
    },
    "tags": []
   },
   "source": [
    "#### Plotting the outputs of this layer of the NN.\n"
   ]
  },
  {
   "cell_type": "code",
   "execution_count": 25,
   "id": "45eb2ff5",
   "metadata": {
    "execution": {
     "iopub.execute_input": "2022-01-05T10:09:51.828874Z",
     "iopub.status.busy": "2022-01-05T10:09:51.828371Z",
     "iopub.status.idle": "2022-01-05T10:09:51.850299Z",
     "shell.execute_reply": "2022-01-05T10:09:51.850697Z"
    },
    "papermill": {
     "duration": 0.063256,
     "end_time": "2022-01-05T10:09:51.850842",
     "exception": false,
     "start_time": "2022-01-05T10:09:51.787586",
     "status": "completed"
    },
    "tags": []
   },
   "outputs": [],
   "source": [
    "new_model = Model(layers[:-2])\n",
    "testing_plot = new_model(testing_data_x)"
   ]
  },
  {
   "cell_type": "code",
   "execution_count": 26,
   "id": "4c0a5485",
   "metadata": {
    "execution": {
     "iopub.execute_input": "2022-01-05T10:09:51.937062Z",
     "iopub.status.busy": "2022-01-05T10:09:51.936044Z",
     "iopub.status.idle": "2022-01-05T10:09:52.150180Z",
     "shell.execute_reply": "2022-01-05T10:09:52.150542Z"
    },
    "papermill": {
     "duration": 0.26189,
     "end_time": "2022-01-05T10:09:52.150683",
     "exception": false,
     "start_time": "2022-01-05T10:09:51.888793",
     "status": "completed"
    },
    "tags": []
   },
   "outputs": [
    {
     "data": {
      "text/plain": [
       "Text(0.5, 1.0, 'Outputs')"
      ]
     },
     "execution_count": 26,
     "metadata": {},
     "output_type": "execute_result"
    },
    {
     "data": {
      "image/png": "[encoded data removed]",
      "text/plain": [
       "<Figure size 576x504 with 1 Axes>"
      ]
     },
     "metadata": {
      "needs_background": "light"
     },
     "output_type": "display_data"
    }
   ],
   "source": [
    "# Plotting the scatter plot of points and color coding by class\n",
    "plt.figure(figsize=(8,7))\n",
    "plt.scatter(testing_plot[:,0], testing_plot[:,1], alpha = 0.1, c = y_test.ravel());\n",
    "plt.title('Outputs')"
   ]
  },
  {
   "cell_type": "markdown",
   "id": "a74fcf8f",
   "metadata": {
    "papermill": {
     "duration": 0.041874,
     "end_time": "2022-01-05T10:09:52.233385",
     "exception": false,
     "start_time": "2022-01-05T10:09:52.191511",
     "status": "completed"
    },
    "tags": []
   },
   "source": [
    "Probability contours"
   ]
  },
  {
   "cell_type": "code",
   "execution_count": 27,
   "id": "d0afc8e3",
   "metadata": {
    "execution": {
     "iopub.execute_input": "2022-01-05T10:09:52.328805Z",
     "iopub.status.busy": "2022-01-05T10:09:52.325922Z",
     "iopub.status.idle": "2022-01-05T10:09:52.333010Z",
     "shell.execute_reply": "2022-01-05T10:09:52.333388Z"
    },
    "papermill": {
     "duration": 0.05936,
     "end_time": "2022-01-05T10:09:52.333525",
     "exception": false,
     "start_time": "2022-01-05T10:09:52.274165",
     "status": "completed"
    },
    "tags": []
   },
   "outputs": [],
   "source": [
    "model_prob = Model(layers[-2:]) "
   ]
  },
  {
   "cell_type": "code",
   "execution_count": 28,
   "id": "9b96e238",
   "metadata": {
    "execution": {
     "iopub.execute_input": "2022-01-05T10:09:52.460857Z",
     "iopub.status.busy": "2022-01-05T10:09:52.450112Z",
     "iopub.status.idle": "2022-01-05T10:09:52.466796Z",
     "shell.execute_reply": "2022-01-05T10:09:52.466342Z"
    },
    "papermill": {
     "duration": 0.092262,
     "end_time": "2022-01-05T10:09:52.466910",
     "exception": false,
     "start_time": "2022-01-05T10:09:52.374648",
     "status": "completed"
    },
    "tags": []
   },
   "outputs": [],
   "source": [
    "#creating the x and y ranges according to the above generated plot.\n",
    "x_range = np.linspace(-4, 1, 100) \n",
    "y_range = np.linspace(-6, 6, 100) \n",
    "x_grid, y_grid = np.meshgrid(x_range, y_range) # x_grid and y_grig are of size 100 X 100\n",
    "\n",
    "# converting x_grid and y_grid to continuous arrays\n",
    "x_gridflat = np.ravel(x_grid)\n",
    "y_gridflat = np.ravel(y_grid)\n",
    "\n",
    "# The last layer of the current model takes two columns as input. Hence transpose of np.vstack() is required.\n",
    "X = np.vstack((x_gridflat, y_gridflat)).T\n",
    "\n",
    "prob_contour = model_prob(X).reshape(100,100) "
   ]
  },
  {
   "cell_type": "code",
   "execution_count": 29,
   "id": "da72499a",
   "metadata": {
    "execution": {
     "iopub.execute_input": "2022-01-05T10:09:52.558746Z",
     "iopub.status.busy": "2022-01-05T10:09:52.558229Z",
     "iopub.status.idle": "2022-01-05T10:09:52.777948Z",
     "shell.execute_reply": "2022-01-05T10:09:52.777550Z"
    },
    "papermill": {
     "duration": 0.270235,
     "end_time": "2022-01-05T10:09:52.778066",
     "exception": false,
     "start_time": "2022-01-05T10:09:52.507831",
     "status": "completed"
    },
    "tags": []
   },
   "outputs": [
    {
     "data": {
      "image/png": "[encoded data removed]",
      "text/plain": [
       "<Figure size 720x648 with 1 Axes>"
      ]
     },
     "metadata": {
      "needs_background": "light"
     },
     "output_type": "display_data"
    }
   ],
   "source": [
    "plt.figure(figsize=(10,9))\n",
    "plt.scatter(testing_plot[:,0], testing_plot[:,1], alpha = 0.1, c = y_test.ravel())\n",
    "contours = plt.contour(x_grid,y_grid,prob_contour)\n",
    "plt.title('Probability Contours')\n",
    "plt.clabel(contours, inline = True );"
   ]
  },
  {
   "cell_type": "code",
   "execution_count": null,
   "id": "e81b4ac7",
   "metadata": {
    "papermill": {
     "duration": 0.043138,
     "end_time": "2022-01-05T10:09:52.864220",
     "exception": false,
     "start_time": "2022-01-05T10:09:52.821082",
     "status": "completed"
    },
    "tags": []
   },
   "outputs": [],
   "source": []
  }
 ],
 "metadata": {
  "kernelspec": {
   "display_name": "Python 3",
   "language": "python",
   "name": "python3"
  },
  "language_info": {
   "codemirror_mode": {
    "name": "ipython",
    "version": 3
   },
   "file_extension": ".py",
   "mimetype": "text/x-python",
   "name": "python",
   "nbconvert_exporter": "python",
   "pygments_lexer": "ipython3",
   "version": "3.6.15"
  },
  "papermill": {
   "default_parameters": {},
   "duration": 99.431068,
   "end_time": "2022-01-05T10:09:53.315674",
   "environment_variables": {},
   "exception": null,
   "input_path": "2020-08-11-part2.ipynb",
   "output_path": "2020-08-11-part2.ipynb",
   "parameters": {},
   "start_time": "2022-01-05T10:08:13.884606",
   "version": "2.3.3"
  }
 },
 "nbformat": 4,
 "nbformat_minor": 5
}