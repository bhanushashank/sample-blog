{
 "cells": [
  {
   "cell_type": "markdown",
   "id": "98380cd3",
   "metadata": {
    "papermill": {
     "duration": 0.030298,
     "end_time": "2022-09-30T10:13:12.740654",
     "exception": false,
     "start_time": "2022-09-30T10:13:12.710356",
     "status": "completed"
    },
    "tags": []
   },
   "source": [
    "# Distinguish Your Own Digits (DYOD)"
   ]
  },
  {
   "cell_type": "markdown",
   "id": "ef31240d",
   "metadata": {
    "papermill": {
     "duration": 0.023462,
     "end_time": "2022-09-30T10:13:12.788553",
     "exception": false,
     "start_time": "2022-09-30T10:13:12.765091",
     "status": "completed"
    },
    "tags": []
   },
   "source": [
    "You are going to write a classifier that distinguishes between the number 3 and number 8."
   ]
  },
  {
   "cell_type": "code",
   "execution_count": 1,
   "id": "b15c8646",
   "metadata": {
    "execution": {
     "iopub.execute_input": "2022-09-30T10:13:12.846036Z",
     "iopub.status.busy": "2022-09-30T10:13:12.843131Z",
     "iopub.status.idle": "2022-09-30T10:13:12.856949Z",
     "shell.execute_reply": "2022-09-30T10:13:12.856469Z"
    },
    "papermill": {
     "duration": 0.045073,
     "end_time": "2022-09-30T10:13:12.857070",
     "exception": false,
     "start_time": "2022-09-30T10:13:12.811997",
     "status": "completed"
    },
    "tags": []
   },
   "outputs": [],
   "source": [
    "%load_ext autoreload\n",
    "%autoreload 2"
   ]
  },
  {
   "cell_type": "code",
   "execution_count": 2,
   "id": "22ef38dc",
   "metadata": {
    "execution": {
     "iopub.execute_input": "2022-09-30T10:13:12.907997Z",
     "iopub.status.busy": "2022-09-30T10:13:12.907421Z",
     "iopub.status.idle": "2022-09-30T10:13:13.430897Z",
     "shell.execute_reply": "2022-09-30T10:13:13.430305Z"
    },
    "papermill": {
     "duration": 0.55045,
     "end_time": "2022-09-30T10:13:13.431042",
     "exception": false,
     "start_time": "2022-09-30T10:13:12.880592",
     "status": "completed"
    },
    "tags": []
   },
   "outputs": [],
   "source": [
    "%matplotlib inline\n",
    "import numpy as np\n",
    "import matplotlib.pyplot as plt\n",
    "import pandas as pd"
   ]
  },
  {
   "cell_type": "markdown",
   "id": "ba036198",
   "metadata": {
    "papermill": {
     "duration": 0.02363,
     "end_time": "2022-09-30T10:13:13.478635",
     "exception": false,
     "start_time": "2022-09-30T10:13:13.455005",
     "status": "completed"
    },
    "tags": []
   },
   "source": [
    "From the command line run `pip install mnist`. This is a library that will help you bring down the mnist dataset. If you run this from a notebook, you need to put  `!pip install mnist` in a cell by itself."
   ]
  },
  {
   "cell_type": "code",
   "execution_count": 3,
   "id": "bb6ad8a1",
   "metadata": {
    "execution": {
     "iopub.execute_input": "2022-09-30T10:13:13.529768Z",
     "iopub.status.busy": "2022-09-30T10:13:13.529192Z",
     "iopub.status.idle": "2022-09-30T10:13:15.194220Z",
     "shell.execute_reply": "2022-09-30T10:13:15.192632Z"
    },
    "papermill": {
     "duration": 1.692068,
     "end_time": "2022-09-30T10:13:15.194361",
     "exception": false,
     "start_time": "2022-09-30T10:13:13.502293",
     "status": "completed"
    },
    "tags": []
   },
   "outputs": [
    {
     "name": "stdout",
     "output_type": "stream",
     "text": [
      "Collecting mnist\r\n"
     ]
    },
    {
     "name": "stdout",
     "output_type": "stream",
     "text": [
      "  Downloading mnist-0.2.2-py2.py3-none-any.whl (3.5 kB)\r\n",
      "Requirement already satisfied: numpy in /opt/hostedtoolcache/Python/3.6.15/x64/lib/python3.6/site-packages (from mnist) (1.19.5)\r\n"
     ]
    },
    {
     "name": "stdout",
     "output_type": "stream",
     "text": [
      "Installing collected packages: mnist\r\n"
     ]
    },
    {
     "name": "stdout",
     "output_type": "stream",
     "text": [
      "Successfully installed mnist-0.2.2\r\n"
     ]
    }
   ],
   "source": [
    "!pip install mnist"
   ]
  },
  {
   "cell_type": "markdown",
   "id": "69df9c9a",
   "metadata": {
    "papermill": {
     "duration": 0.024631,
     "end_time": "2022-09-30T10:13:15.243925",
     "exception": false,
     "start_time": "2022-09-30T10:13:15.219294",
     "status": "completed"
    },
    "tags": []
   },
   "source": [
    "## Preparing the Data"
   ]
  },
  {
   "cell_type": "code",
   "execution_count": 4,
   "id": "7f69d806",
   "metadata": {
    "execution": {
     "iopub.execute_input": "2022-09-30T10:13:15.296825Z",
     "iopub.status.busy": "2022-09-30T10:13:15.296234Z",
     "iopub.status.idle": "2022-09-30T10:13:15.310155Z",
     "shell.execute_reply": "2022-09-30T10:13:15.310629Z"
    },
    "papermill": {
     "duration": 0.042327,
     "end_time": "2022-09-30T10:13:15.310753",
     "exception": false,
     "start_time": "2022-09-30T10:13:15.268426",
     "status": "completed"
    },
    "tags": []
   },
   "outputs": [],
   "source": [
    "import mnist"
   ]
  },
  {
   "cell_type": "code",
   "execution_count": 5,
   "id": "a411e44f",
   "metadata": {
    "execution": {
     "iopub.execute_input": "2022-09-30T10:13:15.362942Z",
     "iopub.status.busy": "2022-09-30T10:13:15.362347Z",
     "iopub.status.idle": "2022-09-30T10:13:15.942150Z",
     "shell.execute_reply": "2022-09-30T10:13:15.941136Z"
    },
    "papermill": {
     "duration": 0.607024,
     "end_time": "2022-09-30T10:13:15.942295",
     "exception": false,
     "start_time": "2022-09-30T10:13:15.335271",
     "status": "completed"
    },
    "tags": []
   },
   "outputs": [],
   "source": [
    "train_images = mnist.train_images()\n",
    "train_labels = mnist.train_labels()"
   ]
  },
  {
   "cell_type": "code",
   "execution_count": 6,
   "id": "dceab3a5",
   "metadata": {
    "execution": {
     "iopub.execute_input": "2022-09-30T10:13:16.000229Z",
     "iopub.status.busy": "2022-09-30T10:13:15.999644Z",
     "iopub.status.idle": "2022-09-30T10:13:16.011663Z",
     "shell.execute_reply": "2022-09-30T10:13:16.012201Z"
    },
    "papermill": {
     "duration": 0.044233,
     "end_time": "2022-09-30T10:13:16.012326",
     "exception": false,
     "start_time": "2022-09-30T10:13:15.968093",
     "status": "completed"
    },
    "tags": []
   },
   "outputs": [
    {
     "data": {
      "text/plain": [
       "((60000, 28, 28), (60000,))"
      ]
     },
     "execution_count": 6,
     "metadata": {},
     "output_type": "execute_result"
    }
   ],
   "source": [
    "train_images.shape, train_labels.shape"
   ]
  },
  {
   "cell_type": "code",
   "execution_count": 7,
   "id": "f50dc2bb",
   "metadata": {
    "execution": {
     "iopub.execute_input": "2022-09-30T10:13:16.065276Z",
     "iopub.status.busy": "2022-09-30T10:13:16.064707Z",
     "iopub.status.idle": "2022-09-30T10:13:16.266092Z",
     "shell.execute_reply": "2022-09-30T10:13:16.265493Z"
    },
    "papermill": {
     "duration": 0.229208,
     "end_time": "2022-09-30T10:13:16.266223",
     "exception": false,
     "start_time": "2022-09-30T10:13:16.037015",
     "status": "completed"
    },
    "tags": []
   },
   "outputs": [],
   "source": [
    "test_images = mnist.test_images()\n",
    "test_labels = mnist.test_labels()"
   ]
  },
  {
   "cell_type": "code",
   "execution_count": 8,
   "id": "fc38cf1b",
   "metadata": {
    "execution": {
     "iopub.execute_input": "2022-09-30T10:13:16.320831Z",
     "iopub.status.busy": "2022-09-30T10:13:16.320250Z",
     "iopub.status.idle": "2022-09-30T10:13:16.333761Z",
     "shell.execute_reply": "2022-09-30T10:13:16.333197Z"
    },
    "papermill": {
     "duration": 0.041399,
     "end_time": "2022-09-30T10:13:16.333870",
     "exception": false,
     "start_time": "2022-09-30T10:13:16.292471",
     "status": "completed"
    },
    "tags": []
   },
   "outputs": [
    {
     "data": {
      "text/plain": [
       "((10000, 28, 28), (10000,))"
      ]
     },
     "execution_count": 8,
     "metadata": {},
     "output_type": "execute_result"
    }
   ],
   "source": [
    "test_images.shape, test_labels.shape"
   ]
  },
  {
   "cell_type": "code",
   "execution_count": 9,
   "id": "f9ed8fe0",
   "metadata": {
    "execution": {
     "iopub.execute_input": "2022-09-30T10:13:16.387697Z",
     "iopub.status.busy": "2022-09-30T10:13:16.387122Z",
     "iopub.status.idle": "2022-09-30T10:13:16.523484Z",
     "shell.execute_reply": "2022-09-30T10:13:16.523993Z"
    },
    "papermill": {
     "duration": 0.165141,
     "end_time": "2022-09-30T10:13:16.524143",
     "exception": false,
     "start_time": "2022-09-30T10:13:16.359002",
     "status": "completed"
    },
    "tags": []
   },
   "outputs": [
    {
     "name": "stdout",
     "output_type": "stream",
     "text": [
      "2\n"
     ]
    },
    {
     "data": {
      "text/plain": [
       "<matplotlib.image.AxesImage at 0x7fba2a107c88>"
      ]
     },
     "execution_count": 9,
     "metadata": {},
     "output_type": "execute_result"
    },
    {
     "data": {
      "image/png": "[encoded data removed]",
      "text/plain": [
       "<Figure size 432x288 with 1 Axes>"
      ]
     },
     "metadata": {
      "needs_background": "light"
     },
     "output_type": "display_data"
    }
   ],
   "source": [
    "image_index = 7776 # You may select anything up to 60,000\n",
    "print(train_labels[image_index]) \n",
    "plt.imshow(train_images[image_index], cmap='Greys')"
   ]
  },
  {
   "cell_type": "markdown",
   "id": "a8d2388d",
   "metadata": {
    "papermill": {
     "duration": 0.026155,
     "end_time": "2022-09-30T10:13:16.577430",
     "exception": false,
     "start_time": "2022-09-30T10:13:16.551275",
     "status": "completed"
    },
    "tags": []
   },
   "source": [
    "## Filter data to get 3 and 8 out"
   ]
  },
  {
   "cell_type": "code",
   "execution_count": 10,
   "id": "776f7fc7",
   "metadata": {
    "execution": {
     "iopub.execute_input": "2022-09-30T10:13:16.635913Z",
     "iopub.status.busy": "2022-09-30T10:13:16.634361Z",
     "iopub.status.idle": "2022-09-30T10:13:16.652922Z",
     "shell.execute_reply": "2022-09-30T10:13:16.652376Z"
    },
    "papermill": {
     "duration": 0.049547,
     "end_time": "2022-09-30T10:13:16.653045",
     "exception": false,
     "start_time": "2022-09-30T10:13:16.603498",
     "status": "completed"
    },
    "tags": []
   },
   "outputs": [],
   "source": [
    "train_filter = np.where((train_labels == 3 ) | (train_labels == 8))\n",
    "test_filter = np.where((test_labels == 3) | (test_labels == 8))\n",
    "X_train, y_train = train_images[train_filter], train_labels[train_filter]\n",
    "X_test, y_test = test_images[test_filter], test_labels[test_filter]"
   ]
  },
  {
   "cell_type": "markdown",
   "id": "948f0b7e",
   "metadata": {
    "papermill": {
     "duration": 0.026148,
     "end_time": "2022-09-30T10:13:16.706656",
     "exception": false,
     "start_time": "2022-09-30T10:13:16.680508",
     "status": "completed"
    },
    "tags": []
   },
   "source": [
    "We normalize the pizel values in the 0 to 1 range"
   ]
  },
  {
   "cell_type": "code",
   "execution_count": 11,
   "id": "ee4c2166",
   "metadata": {
    "execution": {
     "iopub.execute_input": "2022-09-30T10:13:16.762747Z",
     "iopub.status.busy": "2022-09-30T10:13:16.762176Z",
     "iopub.status.idle": "2022-09-30T10:13:16.809128Z",
     "shell.execute_reply": "2022-09-30T10:13:16.808523Z"
    },
    "papermill": {
     "duration": 0.076457,
     "end_time": "2022-09-30T10:13:16.809261",
     "exception": false,
     "start_time": "2022-09-30T10:13:16.732804",
     "status": "completed"
    },
    "tags": []
   },
   "outputs": [],
   "source": [
    "X_train = X_train/255.\n",
    "X_test = X_test/255."
   ]
  },
  {
   "cell_type": "markdown",
   "id": "ddcf4fab",
   "metadata": {
    "papermill": {
     "duration": 0.026564,
     "end_time": "2022-09-30T10:13:16.863074",
     "exception": false,
     "start_time": "2022-09-30T10:13:16.836510",
     "status": "completed"
    },
    "tags": []
   },
   "source": [
    "And setup the labels as 1 (when the digit is 3) and 0 (when the digit is 8)"
   ]
  },
  {
   "cell_type": "code",
   "execution_count": 12,
   "id": "7dc908f2",
   "metadata": {
    "execution": {
     "iopub.execute_input": "2022-09-30T10:13:16.919338Z",
     "iopub.status.busy": "2022-09-30T10:13:16.918718Z",
     "iopub.status.idle": "2022-09-30T10:13:16.931536Z",
     "shell.execute_reply": "2022-09-30T10:13:16.931055Z"
    },
    "papermill": {
     "duration": 0.042438,
     "end_time": "2022-09-30T10:13:16.931644",
     "exception": false,
     "start_time": "2022-09-30T10:13:16.889206",
     "status": "completed"
    },
    "tags": []
   },
   "outputs": [],
   "source": [
    "y_train = 1*(y_train==3)\n",
    "y_test = 1*(y_test==3)"
   ]
  },
  {
   "cell_type": "code",
   "execution_count": 13,
   "id": "01e4e969",
   "metadata": {
    "execution": {
     "iopub.execute_input": "2022-09-30T10:13:16.988162Z",
     "iopub.status.busy": "2022-09-30T10:13:16.987590Z",
     "iopub.status.idle": "2022-09-30T10:13:17.000617Z",
     "shell.execute_reply": "2022-09-30T10:13:17.001067Z"
    },
    "papermill": {
     "duration": 0.043068,
     "end_time": "2022-09-30T10:13:17.001199",
     "exception": false,
     "start_time": "2022-09-30T10:13:16.958131",
     "status": "completed"
    },
    "tags": []
   },
   "outputs": [
    {
     "data": {
      "text/plain": [
       "((11982, 28, 28), (1984, 28, 28))"
      ]
     },
     "execution_count": 13,
     "metadata": {},
     "output_type": "execute_result"
    }
   ],
   "source": [
    "X_train.shape, X_test.shape"
   ]
  },
  {
   "cell_type": "markdown",
   "id": "5ccf3f85",
   "metadata": {
    "papermill": {
     "duration": 0.026317,
     "end_time": "2022-09-30T10:13:17.053944",
     "exception": false,
     "start_time": "2022-09-30T10:13:17.027627",
     "status": "completed"
    },
    "tags": []
   },
   "source": [
    "We reshape the data to flatten the image pixels into a set of features or co-variates:"
   ]
  },
  {
   "cell_type": "code",
   "execution_count": 14,
   "id": "5286a4a3",
   "metadata": {
    "execution": {
     "iopub.execute_input": "2022-09-30T10:13:17.111783Z",
     "iopub.status.busy": "2022-09-30T10:13:17.111178Z",
     "iopub.status.idle": "2022-09-30T10:13:17.124506Z",
     "shell.execute_reply": "2022-09-30T10:13:17.124976Z"
    },
    "papermill": {
     "duration": 0.044102,
     "end_time": "2022-09-30T10:13:17.125105",
     "exception": false,
     "start_time": "2022-09-30T10:13:17.081003",
     "status": "completed"
    },
    "tags": []
   },
   "outputs": [
    {
     "data": {
      "text/plain": [
       "((11982, 784), (1984, 784))"
      ]
     },
     "execution_count": 14,
     "metadata": {},
     "output_type": "execute_result"
    }
   ],
   "source": [
    "X_train = X_train.reshape(X_train.shape[0], -1)\n",
    "X_test = X_test.reshape(X_test.shape[0], -1)\n",
    "X_train.shape, X_test.shape"
   ]
  },
  {
   "cell_type": "code",
   "execution_count": 15,
   "id": "73c5f88a",
   "metadata": {
    "execution": {
     "iopub.execute_input": "2022-09-30T10:13:17.184446Z",
     "iopub.status.busy": "2022-09-30T10:13:17.183782Z",
     "iopub.status.idle": "2022-09-30T10:13:17.228912Z",
     "shell.execute_reply": "2022-09-30T10:13:17.228441Z"
    },
    "papermill": {
     "duration": 0.077146,
     "end_time": "2022-09-30T10:13:17.229023",
     "exception": false,
     "start_time": "2022-09-30T10:13:17.151877",
     "status": "completed"
    },
    "tags": []
   },
   "outputs": [],
   "source": [
    "#Impoting functions from 'Kudzu'\n",
    "from kudzu.model import Model\n",
    "from kudzu.train import Learner\n",
    "from kudzu.optim import GD\n",
    "from kudzu.data import Data, Sampler,Dataloader\n",
    "\n",
    "from kudzu.callbacks import AccCallback\n",
    "from kudzu.callbacks import ClfCallback\n",
    "\n",
    "from kudzu.loss import MSE\n",
    "\n",
    "from kudzu.layer import Sigmoid,Relu\n",
    "from kudzu.layer import Affine"
   ]
  },
  {
   "cell_type": "markdown",
   "id": "bc01172a",
   "metadata": {
    "papermill": {
     "duration": 0.02656,
     "end_time": "2022-09-30T10:13:17.284018",
     "exception": false,
     "start_time": "2022-09-30T10:13:17.257458",
     "status": "completed"
    },
    "tags": []
   },
   "source": [
    "### Let us create a `Config` class, to store important parameters. \n",
    "This class essentially plays the role of a dictionary."
   ]
  },
  {
   "cell_type": "code",
   "execution_count": 16,
   "id": "978281aa",
   "metadata": {
    "execution": {
     "iopub.execute_input": "2022-09-30T10:13:17.342371Z",
     "iopub.status.busy": "2022-09-30T10:13:17.341783Z",
     "iopub.status.idle": "2022-09-30T10:13:17.353611Z",
     "shell.execute_reply": "2022-09-30T10:13:17.353042Z"
    },
    "papermill": {
     "duration": 0.043151,
     "end_time": "2022-09-30T10:13:17.353719",
     "exception": false,
     "start_time": "2022-09-30T10:13:17.310568",
     "status": "completed"
    },
    "tags": []
   },
   "outputs": [],
   "source": [
    "class Config:\n",
    "    pass\n",
    "config = Config()\n",
    "config.lr = 0.001\n",
    "config.num_epochs = 250\n",
    "config.bs = 50"
   ]
  },
  {
   "cell_type": "markdown",
   "id": "1385fa59",
   "metadata": {
    "papermill": {
     "duration": 0.026618,
     "end_time": "2022-09-30T10:13:17.407051",
     "exception": false,
     "start_time": "2022-09-30T10:13:17.380433",
     "status": "completed"
    },
    "tags": []
   },
   "source": [
    "### Running Models with the Training data\n",
    "Details about the network layers:\n",
    "- A first affine layer has 784 inputs and does 100 affine transforms. These are followed by a Relu\n",
    "- A second affine layer has 100 inputs from the 100 activations of the past layer, and does 100 affine transforms. These are followed by a Relu\n",
    "- A third affine layer has 100 activations and does 2 affine transformations to create an embedding for visualization. There is no non-linearity here.\n",
    "- A final \"logistic regression\" which has an affine transform from 2 inputs to 1 output, which is squeezed through a sigmoid.\n"
   ]
  },
  {
   "cell_type": "code",
   "execution_count": 17,
   "id": "2b9c66db",
   "metadata": {
    "execution": {
     "iopub.execute_input": "2022-09-30T10:13:17.465196Z",
     "iopub.status.busy": "2022-09-30T10:13:17.464618Z",
     "iopub.status.idle": "2022-09-30T10:13:17.477315Z",
     "shell.execute_reply": "2022-09-30T10:13:17.476845Z"
    },
    "papermill": {
     "duration": 0.043657,
     "end_time": "2022-09-30T10:13:17.477424",
     "exception": false,
     "start_time": "2022-09-30T10:13:17.433767",
     "status": "completed"
    },
    "tags": []
   },
   "outputs": [],
   "source": [
    "data = Data(X_train, y_train.reshape(-1,1))\n",
    "sampler = Sampler(data, config.bs, shuffle=True)\n",
    "\n",
    "dl = Dataloader(data, sampler)\n",
    "\n",
    "opt = GD(config.lr)\n",
    "loss = MSE()"
   ]
  },
  {
   "cell_type": "code",
   "execution_count": 18,
   "id": "b275e4c2",
   "metadata": {
    "execution": {
     "iopub.execute_input": "2022-09-30T10:13:17.534584Z",
     "iopub.status.busy": "2022-09-30T10:13:17.534008Z",
     "iopub.status.idle": "2022-09-30T10:13:17.546593Z",
     "shell.execute_reply": "2022-09-30T10:13:17.546123Z"
    },
    "papermill": {
     "duration": 0.042527,
     "end_time": "2022-09-30T10:13:17.546699",
     "exception": false,
     "start_time": "2022-09-30T10:13:17.504172",
     "status": "completed"
    },
    "tags": []
   },
   "outputs": [],
   "source": [
    "training_data_x = X_train\n",
    "testing_data_x = X_test\n",
    "training_data_y = y_train.reshape(-1,1)\n",
    "testing_data_y = y_test.reshape(-1,1)"
   ]
  },
  {
   "cell_type": "code",
   "execution_count": 19,
   "id": "76951160",
   "metadata": {
    "execution": {
     "iopub.execute_input": "2022-09-30T10:13:17.604710Z",
     "iopub.status.busy": "2022-09-30T10:13:17.604122Z",
     "iopub.status.idle": "2022-09-30T10:13:17.620824Z",
     "shell.execute_reply": "2022-09-30T10:13:17.621296Z"
    },
    "papermill": {
     "duration": 0.048041,
     "end_time": "2022-09-30T10:13:17.621425",
     "exception": false,
     "start_time": "2022-09-30T10:13:17.573384",
     "status": "completed"
    },
    "tags": []
   },
   "outputs": [
    {
     "name": "stdout",
     "output_type": "stream",
     "text": [
      "xavier\n",
      "xavier\n",
      "xavier\n",
      "xavier\n",
      "xavier\n"
     ]
    }
   ],
   "source": [
    "layers = [Affine(\"first\", 784, 100), Relu(\"first\"), Affine(\"second\", 100, 100), Relu(\"second\"), Affine(\"third\", 100, 2), Affine(\"last\", 2, 1), Sigmoid(\"last\")]\n",
    "model_nn = Model(layers)\n",
    "model_lr = Model([Affine(\"logits\", 784, 1), Sigmoid(\"sigmoid\")])"
   ]
  },
  {
   "cell_type": "code",
   "execution_count": 20,
   "id": "6eede77a",
   "metadata": {
    "execution": {
     "iopub.execute_input": "2022-09-30T10:13:17.679718Z",
     "iopub.status.busy": "2022-09-30T10:13:17.679123Z",
     "iopub.status.idle": "2022-09-30T10:13:17.691105Z",
     "shell.execute_reply": "2022-09-30T10:13:17.690608Z"
    },
    "papermill": {
     "duration": 0.042693,
     "end_time": "2022-09-30T10:13:17.691217",
     "exception": false,
     "start_time": "2022-09-30T10:13:17.648524",
     "status": "completed"
    },
    "tags": []
   },
   "outputs": [],
   "source": [
    "nn_learner = Learner(loss, model_nn, opt, config.num_epochs)\n",
    "acc_nn = ClfCallback(nn_learner, config.bs, training_data_x , testing_data_x, training_data_y, testing_data_y)\n",
    "nn_learner.set_callbacks([acc_nn])"
   ]
  },
  {
   "cell_type": "code",
   "execution_count": 21,
   "id": "877b6cc7",
   "metadata": {
    "execution": {
     "iopub.execute_input": "2022-09-30T10:13:17.749401Z",
     "iopub.status.busy": "2022-09-30T10:13:17.748826Z",
     "iopub.status.idle": "2022-09-30T10:13:17.761284Z",
     "shell.execute_reply": "2022-09-30T10:13:17.760703Z"
    },
    "papermill": {
     "duration": 0.043119,
     "end_time": "2022-09-30T10:13:17.761392",
     "exception": false,
     "start_time": "2022-09-30T10:13:17.718273",
     "status": "completed"
    },
    "tags": []
   },
   "outputs": [],
   "source": [
    "lr_learner = Learner(loss, model_lr, opt, config.num_epochs)\n",
    "acc_lr = ClfCallback(lr_learner, config.bs, training_data_x , testing_data_x, training_data_y, testing_data_y)\n",
    "lr_learner.set_callbacks([acc_lr])"
   ]
  },
  {
   "cell_type": "code",
   "execution_count": 22,
   "id": "d9b133c3",
   "metadata": {
    "execution": {
     "iopub.execute_input": "2022-09-30T10:13:17.820098Z",
     "iopub.status.busy": "2022-09-30T10:13:17.819312Z",
     "iopub.status.idle": "2022-09-30T10:14:31.604689Z",
     "shell.execute_reply": "2022-09-30T10:14:31.605531Z"
    },
    "papermill": {
     "duration": 73.817242,
     "end_time": "2022-09-30T10:14:31.605679",
     "exception": false,
     "start_time": "2022-09-30T10:13:17.788437",
     "status": "completed"
    },
    "tags": []
   },
   "outputs": [
    {
     "name": "stdout",
     "output_type": "stream",
     "text": [
      "Epoch 0, Loss 0.2493\n",
      "Training Accuracy: 0.6440, Testing Accuracy: 0.6381\n",
      "\n"
     ]
    },
    {
     "name": "stdout",
     "output_type": "stream",
     "text": [
      "Epoch 10, Loss 0.0876\n",
      "Training Accuracy: 0.9197, Testing Accuracy: 0.9304\n",
      "\n"
     ]
    },
    {
     "name": "stdout",
     "output_type": "stream",
     "text": [
      "Epoch 20, Loss 0.0555\n",
      "Training Accuracy: 0.9432, Testing Accuracy: 0.9511\n",
      "\n"
     ]
    },
    {
     "name": "stdout",
     "output_type": "stream",
     "text": [
      "Epoch 30, Loss 0.0442\n",
      "Training Accuracy: 0.9509, Testing Accuracy: 0.9622\n",
      "\n"
     ]
    },
    {
     "name": "stdout",
     "output_type": "stream",
     "text": [
      "Epoch 40, Loss 0.0385\n",
      "Training Accuracy: 0.9559, Testing Accuracy: 0.9672\n",
      "\n"
     ]
    },
    {
     "name": "stdout",
     "output_type": "stream",
     "text": [
      "Epoch 50, Loss 0.0349\n",
      "Training Accuracy: 0.9589, Testing Accuracy: 0.9693\n",
      "\n"
     ]
    },
    {
     "name": "stdout",
     "output_type": "stream",
     "text": [
      "Epoch 60, Loss 0.0325\n",
      "Training Accuracy: 0.9614, Testing Accuracy: 0.9703\n",
      "\n"
     ]
    },
    {
     "name": "stdout",
     "output_type": "stream",
     "text": [
      "Epoch 70, Loss 0.0306\n",
      "Training Accuracy: 0.9634, Testing Accuracy: 0.9723\n",
      "\n"
     ]
    },
    {
     "name": "stdout",
     "output_type": "stream",
     "text": [
      "Epoch 80, Loss 0.0291\n",
      "Training Accuracy: 0.9654, Testing Accuracy: 0.9728\n",
      "\n"
     ]
    },
    {
     "name": "stdout",
     "output_type": "stream",
     "text": [
      "Epoch 90, Loss 0.0279\n",
      "Training Accuracy: 0.9666, Testing Accuracy: 0.9723\n",
      "\n"
     ]
    },
    {
     "name": "stdout",
     "output_type": "stream",
     "text": [
      "Epoch 100, Loss 0.0269\n",
      "Training Accuracy: 0.9684, Testing Accuracy: 0.9718\n",
      "\n"
     ]
    },
    {
     "name": "stdout",
     "output_type": "stream",
     "text": [
      "Epoch 110, Loss 0.0259\n",
      "Training Accuracy: 0.9693, Testing Accuracy: 0.9728\n",
      "\n"
     ]
    },
    {
     "name": "stdout",
     "output_type": "stream",
     "text": [
      "Epoch 120, Loss 0.0251\n",
      "Training Accuracy: 0.9702, Testing Accuracy: 0.9723\n",
      "\n"
     ]
    },
    {
     "name": "stdout",
     "output_type": "stream",
     "text": [
      "Epoch 130, Loss 0.0244\n",
      "Training Accuracy: 0.9714, Testing Accuracy: 0.9728\n",
      "\n"
     ]
    },
    {
     "name": "stdout",
     "output_type": "stream",
     "text": [
      "Epoch 140, Loss 0.0237\n",
      "Training Accuracy: 0.9728, Testing Accuracy: 0.9728\n",
      "\n"
     ]
    },
    {
     "name": "stdout",
     "output_type": "stream",
     "text": [
      "Epoch 150, Loss 0.0231\n",
      "Training Accuracy: 0.9740, Testing Accuracy: 0.9728\n",
      "\n"
     ]
    },
    {
     "name": "stdout",
     "output_type": "stream",
     "text": [
      "Epoch 160, Loss 0.0225\n",
      "Training Accuracy: 0.9747, Testing Accuracy: 0.9733\n",
      "\n"
     ]
    },
    {
     "name": "stdout",
     "output_type": "stream",
     "text": [
      "Epoch 170, Loss 0.022\n",
      "Training Accuracy: 0.9751, Testing Accuracy: 0.9728\n",
      "\n"
     ]
    },
    {
     "name": "stdout",
     "output_type": "stream",
     "text": [
      "Epoch 180, Loss 0.0215\n",
      "Training Accuracy: 0.9752, Testing Accuracy: 0.9733\n",
      "\n"
     ]
    },
    {
     "name": "stdout",
     "output_type": "stream",
     "text": [
      "Epoch 190, Loss 0.021\n",
      "Training Accuracy: 0.9759, Testing Accuracy: 0.9738\n",
      "\n"
     ]
    },
    {
     "name": "stdout",
     "output_type": "stream",
     "text": [
      "Epoch 200, Loss 0.0206\n",
      "Training Accuracy: 0.9763, Testing Accuracy: 0.9738\n",
      "\n"
     ]
    },
    {
     "name": "stdout",
     "output_type": "stream",
     "text": [
      "Epoch 210, Loss 0.0202\n",
      "Training Accuracy: 0.9771, Testing Accuracy: 0.9738\n",
      "\n"
     ]
    },
    {
     "name": "stdout",
     "output_type": "stream",
     "text": [
      "Epoch 220, Loss 0.0198\n",
      "Training Accuracy: 0.9776, Testing Accuracy: 0.9738\n",
      "\n"
     ]
    },
    {
     "name": "stdout",
     "output_type": "stream",
     "text": [
      "Epoch 230, Loss 0.0194\n",
      "Training Accuracy: 0.9781, Testing Accuracy: 0.9743\n",
      "\n"
     ]
    },
    {
     "name": "stdout",
     "output_type": "stream",
     "text": [
      "Epoch 240, Loss 0.019\n",
      "Training Accuracy: 0.9786, Testing Accuracy: 0.9743\n",
      "\n"
     ]
    },
    {
     "data": {
      "text/plain": [
       "0.002679954966791569"
      ]
     },
     "execution_count": 22,
     "metadata": {},
     "output_type": "execute_result"
    }
   ],
   "source": [
    "nn_learner.train_loop(dl)"
   ]
  },
  {
   "cell_type": "code",
   "execution_count": 23,
   "id": "e0163366",
   "metadata": {
    "execution": {
     "iopub.execute_input": "2022-09-30T10:14:31.686561Z",
     "iopub.status.busy": "2022-09-30T10:14:31.685970Z",
     "iopub.status.idle": "2022-09-30T10:14:44.909026Z",
     "shell.execute_reply": "2022-09-30T10:14:44.909852Z"
    },
    "papermill": {
     "duration": 13.269854,
     "end_time": "2022-09-30T10:14:44.910000",
     "exception": false,
     "start_time": "2022-09-30T10:14:31.640146",
     "status": "completed"
    },
    "tags": []
   },
   "outputs": [
    {
     "name": "stdout",
     "output_type": "stream",
     "text": [
      "Epoch 0, Loss 0.2294\n",
      "Training Accuracy: 0.7320, Testing Accuracy: 0.7535\n",
      "\n"
     ]
    },
    {
     "name": "stdout",
     "output_type": "stream",
     "text": [
      "Epoch 10, Loss 0.1037\n",
      "Training Accuracy: 0.9059, Testing Accuracy: 0.9178\n",
      "\n"
     ]
    },
    {
     "name": "stdout",
     "output_type": "stream",
     "text": [
      "Epoch 20, Loss 0.0805\n",
      "Training Accuracy: 0.9232, Testing Accuracy: 0.9400\n",
      "\n"
     ]
    },
    {
     "name": "stdout",
     "output_type": "stream",
     "text": [
      "Epoch 30, Loss 0.0695\n",
      "Training Accuracy: 0.9331, Testing Accuracy: 0.9476\n",
      "\n"
     ]
    },
    {
     "name": "stdout",
     "output_type": "stream",
     "text": [
      "Epoch 40, Loss 0.0629\n",
      "Training Accuracy: 0.9393, Testing Accuracy: 0.9521\n",
      "\n"
     ]
    },
    {
     "name": "stdout",
     "output_type": "stream",
     "text": [
      "Epoch 50, Loss 0.0583\n",
      "Training Accuracy: 0.9424, Testing Accuracy: 0.9536\n",
      "\n"
     ]
    },
    {
     "name": "stdout",
     "output_type": "stream",
     "text": [
      "Epoch 60, Loss 0.0549\n",
      "Training Accuracy: 0.9449, Testing Accuracy: 0.9556\n",
      "\n"
     ]
    },
    {
     "name": "stdout",
     "output_type": "stream",
     "text": [
      "Epoch 70, Loss 0.0523\n",
      "Training Accuracy: 0.9470, Testing Accuracy: 0.9587\n",
      "\n"
     ]
    },
    {
     "name": "stdout",
     "output_type": "stream",
     "text": [
      "Epoch 80, Loss 0.0501\n",
      "Training Accuracy: 0.9484, Testing Accuracy: 0.9587\n",
      "\n"
     ]
    },
    {
     "name": "stdout",
     "output_type": "stream",
     "text": [
      "Epoch 90, Loss 0.0484\n",
      "Training Accuracy: 0.9499, Testing Accuracy: 0.9597\n",
      "\n"
     ]
    },
    {
     "name": "stdout",
     "output_type": "stream",
     "text": [
      "Epoch 100, Loss 0.0469\n",
      "Training Accuracy: 0.9511, Testing Accuracy: 0.9622\n",
      "\n"
     ]
    },
    {
     "name": "stdout",
     "output_type": "stream",
     "text": [
      "Epoch 110, Loss 0.0457\n",
      "Training Accuracy: 0.9523, Testing Accuracy: 0.9622\n",
      "\n"
     ]
    },
    {
     "name": "stdout",
     "output_type": "stream",
     "text": [
      "Epoch 120, Loss 0.0446\n",
      "Training Accuracy: 0.9532, Testing Accuracy: 0.9622\n",
      "\n"
     ]
    },
    {
     "name": "stdout",
     "output_type": "stream",
     "text": [
      "Epoch 130, Loss 0.0436\n",
      "Training Accuracy: 0.9541, Testing Accuracy: 0.9617\n",
      "\n"
     ]
    },
    {
     "name": "stdout",
     "output_type": "stream",
     "text": [
      "Epoch 140, Loss 0.0427\n",
      "Training Accuracy: 0.9549, Testing Accuracy: 0.9632\n",
      "\n"
     ]
    },
    {
     "name": "stdout",
     "output_type": "stream",
     "text": [
      "Epoch 150, Loss 0.042\n",
      "Training Accuracy: 0.9555, Testing Accuracy: 0.9647\n",
      "\n"
     ]
    },
    {
     "name": "stdout",
     "output_type": "stream",
     "text": [
      "Epoch 160, Loss 0.0413\n",
      "Training Accuracy: 0.9564, Testing Accuracy: 0.9657\n",
      "\n"
     ]
    },
    {
     "name": "stdout",
     "output_type": "stream",
     "text": [
      "Epoch 170, Loss 0.0406\n",
      "Training Accuracy: 0.9572, Testing Accuracy: 0.9647\n",
      "\n"
     ]
    },
    {
     "name": "stdout",
     "output_type": "stream",
     "text": [
      "Epoch 180, Loss 0.04\n",
      "Training Accuracy: 0.9579, Testing Accuracy: 0.9647\n",
      "\n"
     ]
    },
    {
     "name": "stdout",
     "output_type": "stream",
     "text": [
      "Epoch 190, Loss 0.0395\n",
      "Training Accuracy: 0.9590, Testing Accuracy: 0.9652\n",
      "\n"
     ]
    },
    {
     "name": "stdout",
     "output_type": "stream",
     "text": [
      "Epoch 200, Loss 0.039\n",
      "Training Accuracy: 0.9595, Testing Accuracy: 0.9652\n",
      "\n"
     ]
    },
    {
     "name": "stdout",
     "output_type": "stream",
     "text": [
      "Epoch 210, Loss 0.0386\n",
      "Training Accuracy: 0.9599, Testing Accuracy: 0.9662\n",
      "\n"
     ]
    },
    {
     "name": "stdout",
     "output_type": "stream",
     "text": [
      "Epoch 220, Loss 0.0381\n",
      "Training Accuracy: 0.9600, Testing Accuracy: 0.9667\n",
      "\n"
     ]
    },
    {
     "name": "stdout",
     "output_type": "stream",
     "text": [
      "Epoch 230, Loss 0.0377\n",
      "Training Accuracy: 0.9602, Testing Accuracy: 0.9667\n",
      "\n"
     ]
    },
    {
     "name": "stdout",
     "output_type": "stream",
     "text": [
      "Epoch 240, Loss 0.0374\n",
      "Training Accuracy: 0.9601, Testing Accuracy: 0.9667\n",
      "\n"
     ]
    },
    {
     "data": {
      "text/plain": [
       "0.03266237961187767"
      ]
     },
     "execution_count": 23,
     "metadata": {},
     "output_type": "execute_result"
    }
   ],
   "source": [
    "lr_learner.train_loop(dl)"
   ]
  },
  {
   "cell_type": "code",
   "execution_count": 24,
   "id": "ca410940",
   "metadata": {
    "execution": {
     "iopub.execute_input": "2022-09-30T10:14:45.000646Z",
     "iopub.status.busy": "2022-09-30T10:14:45.000062Z",
     "iopub.status.idle": "2022-09-30T10:14:45.226173Z",
     "shell.execute_reply": "2022-09-30T10:14:45.225686Z"
    },
    "papermill": {
     "duration": 0.275243,
     "end_time": "2022-09-30T10:14:45.226292",
     "exception": false,
     "start_time": "2022-09-30T10:14:44.951049",
     "status": "completed"
    },
    "tags": []
   },
   "outputs": [
    {
     "data": {
      "text/plain": [
       "<matplotlib.legend.Legend at 0x7fba29c77400>"
      ]
     },
     "execution_count": 24,
     "metadata": {},
     "output_type": "execute_result"
    },
    {
     "data": {
      "image/png": "[encoded data removed]",
      "text/plain": [
       "<Figure size 1080x720 with 1 Axes>"
      ]
     },
     "metadata": {
      "needs_background": "light"
     },
     "output_type": "display_data"
    }
   ],
   "source": [
    "#comparing the results of NN and LR\n",
    "plt.figure(figsize=(15,10))\n",
    "\n",
    "# Neural Network plots\n",
    "plt.plot(acc_nn.accuracies, 'r-', label = \"Training Accuracies - NN\")\n",
    "plt.plot(acc_nn.test_accuracies, 'g-', label = \"Testing Accuracies - NN\")\n",
    "\n",
    "# Logistic Regression plots\n",
    "plt.plot(acc_lr.accuracies, 'k-', label = \"Training Accuracies - LR\")\n",
    "plt.plot(acc_lr.test_accuracies, 'b-', label = \"Testing Accuracies - LR\")\n",
    "plt.legend()"
   ]
  },
  {
   "cell_type": "markdown",
   "id": "80dfb35c",
   "metadata": {
    "papermill": {
     "duration": 0.041876,
     "end_time": "2022-09-30T10:14:45.310362",
     "exception": false,
     "start_time": "2022-09-30T10:14:45.268486",
     "status": "completed"
    },
    "tags": []
   },
   "source": [
    "#### Plotting the outputs of this layer of the NN.\n"
   ]
  },
  {
   "cell_type": "code",
   "execution_count": 25,
   "id": "45eb2ff5",
   "metadata": {
    "execution": {
     "iopub.execute_input": "2022-09-30T10:14:45.397593Z",
     "iopub.status.busy": "2022-09-30T10:14:45.397006Z",
     "iopub.status.idle": "2022-09-30T10:14:45.414283Z",
     "shell.execute_reply": "2022-09-30T10:14:45.414733Z"
    },
    "papermill": {
     "duration": 0.063031,
     "end_time": "2022-09-30T10:14:45.414885",
     "exception": false,
     "start_time": "2022-09-30T10:14:45.351854",
     "status": "completed"
    },
    "tags": []
   },
   "outputs": [],
   "source": [
    "new_model = Model(layers[:-2])\n",
    "testing_plot = new_model(testing_data_x)"
   ]
  },
  {
   "cell_type": "code",
   "execution_count": 26,
   "id": "4c0a5485",
   "metadata": {
    "execution": {
     "iopub.execute_input": "2022-09-30T10:14:45.512145Z",
     "iopub.status.busy": "2022-09-30T10:14:45.511539Z",
     "iopub.status.idle": "2022-09-30T10:14:45.693607Z",
     "shell.execute_reply": "2022-09-30T10:14:45.693067Z"
    },
    "papermill": {
     "duration": 0.237053,
     "end_time": "2022-09-30T10:14:45.693738",
     "exception": false,
     "start_time": "2022-09-30T10:14:45.456685",
     "status": "completed"
    },
    "tags": []
   },
   "outputs": [
    {
     "data": {
      "text/plain": [
       "Text(0.5, 1.0, 'Outputs')"
      ]
     },
     "execution_count": 26,
     "metadata": {},
     "output_type": "execute_result"
    },
    {
     "data": {
      "image/png": "[encoded data removed]",
      "text/plain": [
       "<Figure size 576x504 with 1 Axes>"
      ]
     },
     "metadata": {
      "needs_background": "light"
     },
     "output_type": "display_data"
    }
   ],
   "source": [
    "# Plotting the scatter plot of points and color coding by class\n",
    "plt.figure(figsize=(8,7))\n",
    "plt.scatter(testing_plot[:,0], testing_plot[:,1], alpha = 0.1, c = y_test.ravel());\n",
    "plt.title('Outputs')"
   ]
  },
  {
   "cell_type": "markdown",
   "id": "a74fcf8f",
   "metadata": {
    "papermill": {
     "duration": 0.043913,
     "end_time": "2022-09-30T10:14:45.781908",
     "exception": false,
     "start_time": "2022-09-30T10:14:45.737995",
     "status": "completed"
    },
    "tags": []
   },
   "source": [
    "Probability contours"
   ]
  },
  {
   "cell_type": "code",
   "execution_count": 27,
   "id": "d0afc8e3",
   "metadata": {
    "execution": {
     "iopub.execute_input": "2022-09-30T10:14:45.911554Z",
     "iopub.status.busy": "2022-09-30T10:14:45.901057Z",
     "iopub.status.idle": "2022-09-30T10:14:45.915506Z",
     "shell.execute_reply": "2022-09-30T10:14:45.915947Z"
    },
    "papermill": {
     "duration": 0.090167,
     "end_time": "2022-09-30T10:14:45.916066",
     "exception": false,
     "start_time": "2022-09-30T10:14:45.825899",
     "status": "completed"
    },
    "tags": []
   },
   "outputs": [],
   "source": [
    "model_prob = Model(layers[-2:]) "
   ]
  },
  {
   "cell_type": "code",
   "execution_count": 28,
   "id": "9b96e238",
   "metadata": {
    "execution": {
     "iopub.execute_input": "2022-09-30T10:14:46.008091Z",
     "iopub.status.busy": "2022-09-30T10:14:46.007518Z",
     "iopub.status.idle": "2022-09-30T10:14:46.020524Z",
     "shell.execute_reply": "2022-09-30T10:14:46.020950Z"
    },
    "papermill": {
     "duration": 0.061014,
     "end_time": "2022-09-30T10:14:46.021074",
     "exception": false,
     "start_time": "2022-09-30T10:14:45.960060",
     "status": "completed"
    },
    "tags": []
   },
   "outputs": [],
   "source": [
    "#creating the x and y ranges according to the above generated plot.\n",
    "x_range = np.linspace(-4, 1, 100) \n",
    "y_range = np.linspace(-6, 6, 100) \n",
    "x_grid, y_grid = np.meshgrid(x_range, y_range) # x_grid and y_grig are of size 100 X 100\n",
    "\n",
    "# converting x_grid and y_grid to continuous arrays\n",
    "x_gridflat = np.ravel(x_grid)\n",
    "y_gridflat = np.ravel(y_grid)\n",
    "\n",
    "# The last layer of the current model takes two columns as input. Hence transpose of np.vstack() is required.\n",
    "X = np.vstack((x_gridflat, y_gridflat)).T\n",
    "\n",
    "prob_contour = model_prob(X).reshape(100,100) "
   ]
  },
  {
   "cell_type": "code",
   "execution_count": 29,
   "id": "da72499a",
   "metadata": {
    "execution": {
     "iopub.execute_input": "2022-09-30T10:14:46.122094Z",
     "iopub.status.busy": "2022-09-30T10:14:46.121502Z",
     "iopub.status.idle": "2022-09-30T10:14:46.353668Z",
     "shell.execute_reply": "2022-09-30T10:14:46.354189Z"
    },
    "papermill": {
     "duration": 0.288438,
     "end_time": "2022-09-30T10:14:46.354343",
     "exception": false,
     "start_time": "2022-09-30T10:14:46.065905",
     "status": "completed"
    },
    "tags": []
   },
   "outputs": [
    {
     "data": {
      "image/png": "[encoded data removed]",
      "text/plain": [
       "<Figure size 720x648 with 1 Axes>"
      ]
     },
     "metadata": {
      "needs_background": "light"
     },
     "output_type": "display_data"
    }
   ],
   "source": [
    "plt.figure(figsize=(10,9))\n",
    "plt.scatter(testing_plot[:,0], testing_plot[:,1], alpha = 0.1, c = y_test.ravel())\n",
    "contours = plt.contour(x_grid,y_grid,prob_contour)\n",
    "plt.title('Probability Contours')\n",
    "plt.clabel(contours, inline = True );"
   ]
  },
  {
   "cell_type": "code",
   "execution_count": null,
   "id": "e81b4ac7",
   "metadata": {
    "papermill": {
     "duration": 0.046979,
     "end_time": "2022-09-30T10:14:46.448689",
     "exception": false,
     "start_time": "2022-09-30T10:14:46.401710",
     "status": "completed"
    },
    "tags": []
   },
   "outputs": [],
   "source": []
  }
 ],
 "metadata": {
  "kernelspec": {
   "display_name": "Python 3",
   "language": "python",
   "name": "python3"
  },
  "language_info": {
   "codemirror_mode": {
    "name": "ipython",
    "version": 3
   },
   "file_extension": ".py",
   "mimetype": "text/x-python",
   "name": "python",
   "nbconvert_exporter": "python",
   "pygments_lexer": "ipython3",
   "version": "3.6.15"
  },
  "papermill": {
   "default_parameters": {},
   "duration": 95.133246,
   "end_time": "2022-09-30T10:14:46.914925",
   "environment_variables": {},
   "exception": null,
   "input_path": "2020-08-11-part2.ipynb",
   "output_path": "2020-08-11-part2.ipynb",
   "parameters": {},
   "start_time": "2022-09-30T10:13:11.781679",
   "version": "2.3.3"
  }
 },
 "nbformat": 4,
 "nbformat_minor": 5
}