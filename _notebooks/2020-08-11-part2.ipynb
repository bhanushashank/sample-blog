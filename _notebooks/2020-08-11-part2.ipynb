{
 "cells": [
  {
   "cell_type": "markdown",
   "id": "98380cd3",
   "metadata": {
    "papermill": {
     "duration": 0.029141,
     "end_time": "2022-11-04T20:11:12.357482",
     "exception": false,
     "start_time": "2022-11-04T20:11:12.328341",
     "status": "completed"
    },
    "tags": []
   },
   "source": [
    "# Distinguish Your Own Digits (DYOD)"
   ]
  },
  {
   "cell_type": "markdown",
   "id": "ef31240d",
   "metadata": {
    "papermill": {
     "duration": 0.024173,
     "end_time": "2022-11-04T20:11:12.406600",
     "exception": false,
     "start_time": "2022-11-04T20:11:12.382427",
     "status": "completed"
    },
    "tags": []
   },
   "source": [
    "You are going to write a classifier that distinguishes between the number 3 and number 8."
   ]
  },
  {
   "cell_type": "code",
   "execution_count": 1,
   "id": "b15c8646",
   "metadata": {
    "execution": {
     "iopub.execute_input": "2022-11-04T20:11:12.465830Z",
     "iopub.status.busy": "2022-11-04T20:11:12.465219Z",
     "iopub.status.idle": "2022-11-04T20:11:12.476115Z",
     "shell.execute_reply": "2022-11-04T20:11:12.475641Z"
    },
    "papermill": {
     "duration": 0.045579,
     "end_time": "2022-11-04T20:11:12.476244",
     "exception": false,
     "start_time": "2022-11-04T20:11:12.430665",
     "status": "completed"
    },
    "tags": []
   },
   "outputs": [],
   "source": [
    "%load_ext autoreload\n",
    "%autoreload 2"
   ]
  },
  {
   "cell_type": "code",
   "execution_count": 2,
   "id": "22ef38dc",
   "metadata": {
    "execution": {
     "iopub.execute_input": "2022-11-04T20:11:12.529070Z",
     "iopub.status.busy": "2022-11-04T20:11:12.528502Z",
     "iopub.status.idle": "2022-11-04T20:11:13.050618Z",
     "shell.execute_reply": "2022-11-04T20:11:13.049790Z"
    },
    "papermill": {
     "duration": 0.550109,
     "end_time": "2022-11-04T20:11:13.050737",
     "exception": false,
     "start_time": "2022-11-04T20:11:12.500628",
     "status": "completed"
    },
    "tags": []
   },
   "outputs": [],
   "source": [
    "%matplotlib inline\n",
    "import numpy as np\n",
    "import matplotlib.pyplot as plt\n",
    "import pandas as pd"
   ]
  },
  {
   "cell_type": "markdown",
   "id": "ba036198",
   "metadata": {
    "papermill": {
     "duration": 0.024181,
     "end_time": "2022-11-04T20:11:13.099155",
     "exception": false,
     "start_time": "2022-11-04T20:11:13.074974",
     "status": "completed"
    },
    "tags": []
   },
   "source": [
    "From the command line run `pip install mnist`. This is a library that will help you bring down the mnist dataset. If you run this from a notebook, you need to put  `!pip install mnist` in a cell by itself."
   ]
  },
  {
   "cell_type": "code",
   "execution_count": 3,
   "id": "bb6ad8a1",
   "metadata": {
    "execution": {
     "iopub.execute_input": "2022-11-04T20:11:13.151511Z",
     "iopub.status.busy": "2022-11-04T20:11:13.150908Z",
     "iopub.status.idle": "2022-11-04T20:11:14.730499Z",
     "shell.execute_reply": "2022-11-04T20:11:14.729981Z"
    },
    "papermill": {
     "duration": 1.607185,
     "end_time": "2022-11-04T20:11:14.730612",
     "exception": false,
     "start_time": "2022-11-04T20:11:13.123427",
     "status": "completed"
    },
    "tags": []
   },
   "outputs": [
    {
     "name": "stdout",
     "output_type": "stream",
     "text": [
      "Collecting mnist\r\n"
     ]
    },
    {
     "name": "stdout",
     "output_type": "stream",
     "text": [
      "  Downloading mnist-0.2.2-py2.py3-none-any.whl (3.5 kB)\r\n",
      "Requirement already satisfied: numpy in /opt/hostedtoolcache/Python/3.6.15/x64/lib/python3.6/site-packages (from mnist) (1.19.5)\r\n"
     ]
    },
    {
     "name": "stdout",
     "output_type": "stream",
     "text": [
      "Installing collected packages: mnist\r\n",
      "Successfully installed mnist-0.2.2\r\n"
     ]
    }
   ],
   "source": [
    "!pip install mnist"
   ]
  },
  {
   "cell_type": "markdown",
   "id": "69df9c9a",
   "metadata": {
    "papermill": {
     "duration": 0.025089,
     "end_time": "2022-11-04T20:11:14.780997",
     "exception": false,
     "start_time": "2022-11-04T20:11:14.755908",
     "status": "completed"
    },
    "tags": []
   },
   "source": [
    "## Preparing the Data"
   ]
  },
  {
   "cell_type": "code",
   "execution_count": 4,
   "id": "7f69d806",
   "metadata": {
    "execution": {
     "iopub.execute_input": "2022-11-04T20:11:14.835784Z",
     "iopub.status.busy": "2022-11-04T20:11:14.835183Z",
     "iopub.status.idle": "2022-11-04T20:11:14.849939Z",
     "shell.execute_reply": "2022-11-04T20:11:14.849482Z"
    },
    "papermill": {
     "duration": 0.044013,
     "end_time": "2022-11-04T20:11:14.850053",
     "exception": false,
     "start_time": "2022-11-04T20:11:14.806040",
     "status": "completed"
    },
    "tags": []
   },
   "outputs": [],
   "source": [
    "import mnist"
   ]
  },
  {
   "cell_type": "code",
   "execution_count": 5,
   "id": "a411e44f",
   "metadata": {
    "execution": {
     "iopub.execute_input": "2022-11-04T20:11:14.904308Z",
     "iopub.status.busy": "2022-11-04T20:11:14.903740Z",
     "iopub.status.idle": "2022-11-04T20:11:15.930692Z",
     "shell.execute_reply": "2022-11-04T20:11:15.930182Z"
    },
    "papermill": {
     "duration": 1.055597,
     "end_time": "2022-11-04T20:11:15.930803",
     "exception": false,
     "start_time": "2022-11-04T20:11:14.875206",
     "status": "completed"
    },
    "tags": []
   },
   "outputs": [],
   "source": [
    "train_images = mnist.train_images()\n",
    "train_labels = mnist.train_labels()"
   ]
  },
  {
   "cell_type": "code",
   "execution_count": 6,
   "id": "dceab3a5",
   "metadata": {
    "execution": {
     "iopub.execute_input": "2022-11-04T20:11:15.985104Z",
     "iopub.status.busy": "2022-11-04T20:11:15.984518Z",
     "iopub.status.idle": "2022-11-04T20:11:15.998611Z",
     "shell.execute_reply": "2022-11-04T20:11:15.999079Z"
    },
    "papermill": {
     "duration": 0.043031,
     "end_time": "2022-11-04T20:11:15.999208",
     "exception": false,
     "start_time": "2022-11-04T20:11:15.956177",
     "status": "completed"
    },
    "tags": []
   },
   "outputs": [
    {
     "data": {
      "text/plain": [
       "((60000, 28, 28), (60000,))"
      ]
     },
     "execution_count": 6,
     "metadata": {},
     "output_type": "execute_result"
    }
   ],
   "source": [
    "train_images.shape, train_labels.shape"
   ]
  },
  {
   "cell_type": "code",
   "execution_count": 7,
   "id": "f50dc2bb",
   "metadata": {
    "execution": {
     "iopub.execute_input": "2022-11-04T20:11:16.053843Z",
     "iopub.status.busy": "2022-11-04T20:11:16.053249Z",
     "iopub.status.idle": "2022-11-04T20:11:16.278430Z",
     "shell.execute_reply": "2022-11-04T20:11:16.277335Z"
    },
    "papermill": {
     "duration": 0.253928,
     "end_time": "2022-11-04T20:11:16.278548",
     "exception": false,
     "start_time": "2022-11-04T20:11:16.024620",
     "status": "completed"
    },
    "tags": []
   },
   "outputs": [],
   "source": [
    "test_images = mnist.test_images()\n",
    "test_labels = mnist.test_labels()"
   ]
  },
  {
   "cell_type": "code",
   "execution_count": 8,
   "id": "fc38cf1b",
   "metadata": {
    "execution": {
     "iopub.execute_input": "2022-11-04T20:11:16.334013Z",
     "iopub.status.busy": "2022-11-04T20:11:16.333449Z",
     "iopub.status.idle": "2022-11-04T20:11:16.345274Z",
     "shell.execute_reply": "2022-11-04T20:11:16.345689Z"
    },
    "papermill": {
     "duration": 0.041748,
     "end_time": "2022-11-04T20:11:16.345813",
     "exception": false,
     "start_time": "2022-11-04T20:11:16.304065",
     "status": "completed"
    },
    "tags": []
   },
   "outputs": [
    {
     "data": {
      "text/plain": [
       "((10000, 28, 28), (10000,))"
      ]
     },
     "execution_count": 8,
     "metadata": {},
     "output_type": "execute_result"
    }
   ],
   "source": [
    "test_images.shape, test_labels.shape"
   ]
  },
  {
   "cell_type": "code",
   "execution_count": 9,
   "id": "f9ed8fe0",
   "metadata": {
    "execution": {
     "iopub.execute_input": "2022-11-04T20:11:16.400825Z",
     "iopub.status.busy": "2022-11-04T20:11:16.400248Z",
     "iopub.status.idle": "2022-11-04T20:11:16.534596Z",
     "shell.execute_reply": "2022-11-04T20:11:16.534011Z"
    },
    "papermill": {
     "duration": 0.163276,
     "end_time": "2022-11-04T20:11:16.534705",
     "exception": false,
     "start_time": "2022-11-04T20:11:16.371429",
     "status": "completed"
    },
    "tags": []
   },
   "outputs": [
    {
     "name": "stdout",
     "output_type": "stream",
     "text": [
      "2\n"
     ]
    },
    {
     "data": {
      "text/plain": [
       "<matplotlib.image.AxesImage at 0x7f81fa086d68>"
      ]
     },
     "execution_count": 9,
     "metadata": {},
     "output_type": "execute_result"
    },
    {
     "data": {
      "image/png": "[encoded data removed]",
      "text/plain": [
       "<Figure size 432x288 with 1 Axes>"
      ]
     },
     "metadata": {
      "needs_background": "light"
     },
     "output_type": "display_data"
    }
   ],
   "source": [
    "image_index = 7776 # You may select anything up to 60,000\n",
    "print(train_labels[image_index]) \n",
    "plt.imshow(train_images[image_index], cmap='Greys')"
   ]
  },
  {
   "cell_type": "markdown",
   "id": "a8d2388d",
   "metadata": {
    "papermill": {
     "duration": 0.026831,
     "end_time": "2022-11-04T20:11:16.588368",
     "exception": false,
     "start_time": "2022-11-04T20:11:16.561537",
     "status": "completed"
    },
    "tags": []
   },
   "source": [
    "## Filter data to get 3 and 8 out"
   ]
  },
  {
   "cell_type": "code",
   "execution_count": 10,
   "id": "776f7fc7",
   "metadata": {
    "execution": {
     "iopub.execute_input": "2022-11-04T20:11:16.646480Z",
     "iopub.status.busy": "2022-11-04T20:11:16.645899Z",
     "iopub.status.idle": "2022-11-04T20:11:16.662926Z",
     "shell.execute_reply": "2022-11-04T20:11:16.662468Z"
    },
    "papermill": {
     "duration": 0.047961,
     "end_time": "2022-11-04T20:11:16.663030",
     "exception": false,
     "start_time": "2022-11-04T20:11:16.615069",
     "status": "completed"
    },
    "tags": []
   },
   "outputs": [],
   "source": [
    "train_filter = np.where((train_labels == 3 ) | (train_labels == 8))\n",
    "test_filter = np.where((test_labels == 3) | (test_labels == 8))\n",
    "X_train, y_train = train_images[train_filter], train_labels[train_filter]\n",
    "X_test, y_test = test_images[test_filter], test_labels[test_filter]"
   ]
  },
  {
   "cell_type": "markdown",
   "id": "948f0b7e",
   "metadata": {
    "papermill": {
     "duration": 0.02705,
     "end_time": "2022-11-04T20:11:16.717455",
     "exception": false,
     "start_time": "2022-11-04T20:11:16.690405",
     "status": "completed"
    },
    "tags": []
   },
   "source": [
    "We normalize the pizel values in the 0 to 1 range"
   ]
  },
  {
   "cell_type": "code",
   "execution_count": 11,
   "id": "ee4c2166",
   "metadata": {
    "execution": {
     "iopub.execute_input": "2022-11-04T20:11:16.774932Z",
     "iopub.status.busy": "2022-11-04T20:11:16.774362Z",
     "iopub.status.idle": "2022-11-04T20:11:16.815850Z",
     "shell.execute_reply": "2022-11-04T20:11:16.815372Z"
    },
    "papermill": {
     "duration": 0.071968,
     "end_time": "2022-11-04T20:11:16.815958",
     "exception": false,
     "start_time": "2022-11-04T20:11:16.743990",
     "status": "completed"
    },
    "tags": []
   },
   "outputs": [],
   "source": [
    "X_train = X_train/255.\n",
    "X_test = X_test/255."
   ]
  },
  {
   "cell_type": "markdown",
   "id": "ddcf4fab",
   "metadata": {
    "papermill": {
     "duration": 0.026853,
     "end_time": "2022-11-04T20:11:16.869766",
     "exception": false,
     "start_time": "2022-11-04T20:11:16.842913",
     "status": "completed"
    },
    "tags": []
   },
   "source": [
    "And setup the labels as 1 (when the digit is 3) and 0 (when the digit is 8)"
   ]
  },
  {
   "cell_type": "code",
   "execution_count": 12,
   "id": "7dc908f2",
   "metadata": {
    "execution": {
     "iopub.execute_input": "2022-11-04T20:11:16.926561Z",
     "iopub.status.busy": "2022-11-04T20:11:16.925999Z",
     "iopub.status.idle": "2022-11-04T20:11:16.937889Z",
     "shell.execute_reply": "2022-11-04T20:11:16.937427Z"
    },
    "papermill": {
     "duration": 0.041714,
     "end_time": "2022-11-04T20:11:16.937991",
     "exception": false,
     "start_time": "2022-11-04T20:11:16.896277",
     "status": "completed"
    },
    "tags": []
   },
   "outputs": [],
   "source": [
    "y_train = 1*(y_train==3)\n",
    "y_test = 1*(y_test==3)"
   ]
  },
  {
   "cell_type": "code",
   "execution_count": 13,
   "id": "01e4e969",
   "metadata": {
    "execution": {
     "iopub.execute_input": "2022-11-04T20:11:16.995406Z",
     "iopub.status.busy": "2022-11-04T20:11:16.994819Z",
     "iopub.status.idle": "2022-11-04T20:11:17.007535Z",
     "shell.execute_reply": "2022-11-04T20:11:17.007962Z"
    },
    "papermill": {
     "duration": 0.043257,
     "end_time": "2022-11-04T20:11:17.008089",
     "exception": false,
     "start_time": "2022-11-04T20:11:16.964832",
     "status": "completed"
    },
    "tags": []
   },
   "outputs": [
    {
     "data": {
      "text/plain": [
       "((11982, 28, 28), (1984, 28, 28))"
      ]
     },
     "execution_count": 13,
     "metadata": {},
     "output_type": "execute_result"
    }
   ],
   "source": [
    "X_train.shape, X_test.shape"
   ]
  },
  {
   "cell_type": "markdown",
   "id": "5ccf3f85",
   "metadata": {
    "papermill": {
     "duration": 0.026897,
     "end_time": "2022-11-04T20:11:17.061885",
     "exception": false,
     "start_time": "2022-11-04T20:11:17.034988",
     "status": "completed"
    },
    "tags": []
   },
   "source": [
    "We reshape the data to flatten the image pixels into a set of features or co-variates:"
   ]
  },
  {
   "cell_type": "code",
   "execution_count": 14,
   "id": "5286a4a3",
   "metadata": {
    "execution": {
     "iopub.execute_input": "2022-11-04T20:11:17.119744Z",
     "iopub.status.busy": "2022-11-04T20:11:17.119161Z",
     "iopub.status.idle": "2022-11-04T20:11:17.132198Z",
     "shell.execute_reply": "2022-11-04T20:11:17.132657Z"
    },
    "papermill": {
     "duration": 0.043746,
     "end_time": "2022-11-04T20:11:17.132780",
     "exception": false,
     "start_time": "2022-11-04T20:11:17.089034",
     "status": "completed"
    },
    "tags": []
   },
   "outputs": [
    {
     "data": {
      "text/plain": [
       "((11982, 784), (1984, 784))"
      ]
     },
     "execution_count": 14,
     "metadata": {},
     "output_type": "execute_result"
    }
   ],
   "source": [
    "X_train = X_train.reshape(X_train.shape[0], -1)\n",
    "X_test = X_test.reshape(X_test.shape[0], -1)\n",
    "X_train.shape, X_test.shape"
   ]
  },
  {
   "cell_type": "code",
   "execution_count": 15,
   "id": "73c5f88a",
   "metadata": {
    "execution": {
     "iopub.execute_input": "2022-11-04T20:11:17.191596Z",
     "iopub.status.busy": "2022-11-04T20:11:17.190998Z",
     "iopub.status.idle": "2022-11-04T20:11:17.209524Z",
     "shell.execute_reply": "2022-11-04T20:11:17.209083Z"
    },
    "papermill": {
     "duration": 0.04952,
     "end_time": "2022-11-04T20:11:17.209630",
     "exception": false,
     "start_time": "2022-11-04T20:11:17.160110",
     "status": "completed"
    },
    "tags": []
   },
   "outputs": [],
   "source": [
    "#Impoting functions from 'Kudzu'\n",
    "from kudzu.model import Model\n",
    "from kudzu.train import Learner\n",
    "from kudzu.optim import GD\n",
    "from kudzu.data import Data, Sampler,Dataloader\n",
    "\n",
    "from kudzu.callbacks import AccCallback\n",
    "from kudzu.callbacks import ClfCallback\n",
    "\n",
    "from kudzu.loss import MSE\n",
    "\n",
    "from kudzu.layer import Sigmoid,Relu\n",
    "from kudzu.layer import Affine"
   ]
  },
  {
   "cell_type": "markdown",
   "id": "bc01172a",
   "metadata": {
    "papermill": {
     "duration": 0.027124,
     "end_time": "2022-11-04T20:11:17.263928",
     "exception": false,
     "start_time": "2022-11-04T20:11:17.236804",
     "status": "completed"
    },
    "tags": []
   },
   "source": [
    "### Let us create a `Config` class, to store important parameters. \n",
    "This class essentially plays the role of a dictionary."
   ]
  },
  {
   "cell_type": "code",
   "execution_count": 16,
   "id": "978281aa",
   "metadata": {
    "execution": {
     "iopub.execute_input": "2022-11-04T20:11:17.322494Z",
     "iopub.status.busy": "2022-11-04T20:11:17.321928Z",
     "iopub.status.idle": "2022-11-04T20:11:17.333969Z",
     "shell.execute_reply": "2022-11-04T20:11:17.333517Z"
    },
    "papermill": {
     "duration": 0.042802,
     "end_time": "2022-11-04T20:11:17.334078",
     "exception": false,
     "start_time": "2022-11-04T20:11:17.291276",
     "status": "completed"
    },
    "tags": []
   },
   "outputs": [],
   "source": [
    "class Config:\n",
    "    pass\n",
    "config = Config()\n",
    "config.lr = 0.001\n",
    "config.num_epochs = 250\n",
    "config.bs = 50"
   ]
  },
  {
   "cell_type": "markdown",
   "id": "1385fa59",
   "metadata": {
    "papermill": {
     "duration": 0.027115,
     "end_time": "2022-11-04T20:11:17.388509",
     "exception": false,
     "start_time": "2022-11-04T20:11:17.361394",
     "status": "completed"
    },
    "tags": []
   },
   "source": [
    "### Running Models with the Training data\n",
    "Details about the network layers:\n",
    "- A first affine layer has 784 inputs and does 100 affine transforms. These are followed by a Relu\n",
    "- A second affine layer has 100 inputs from the 100 activations of the past layer, and does 100 affine transforms. These are followed by a Relu\n",
    "- A third affine layer has 100 activations and does 2 affine transformations to create an embedding for visualization. There is no non-linearity here.\n",
    "- A final \"logistic regression\" which has an affine transform from 2 inputs to 1 output, which is squeezed through a sigmoid.\n"
   ]
  },
  {
   "cell_type": "code",
   "execution_count": 17,
   "id": "2b9c66db",
   "metadata": {
    "execution": {
     "iopub.execute_input": "2022-11-04T20:11:17.446978Z",
     "iopub.status.busy": "2022-11-04T20:11:17.446424Z",
     "iopub.status.idle": "2022-11-04T20:11:17.458650Z",
     "shell.execute_reply": "2022-11-04T20:11:17.458192Z"
    },
    "papermill": {
     "duration": 0.043099,
     "end_time": "2022-11-04T20:11:17.458752",
     "exception": false,
     "start_time": "2022-11-04T20:11:17.415653",
     "status": "completed"
    },
    "tags": []
   },
   "outputs": [],
   "source": [
    "data = Data(X_train, y_train.reshape(-1,1))\n",
    "sampler = Sampler(data, config.bs, shuffle=True)\n",
    "\n",
    "dl = Dataloader(data, sampler)\n",
    "\n",
    "opt = GD(config.lr)\n",
    "loss = MSE()"
   ]
  },
  {
   "cell_type": "code",
   "execution_count": 18,
   "id": "b275e4c2",
   "metadata": {
    "execution": {
     "iopub.execute_input": "2022-11-04T20:11:17.517014Z",
     "iopub.status.busy": "2022-11-04T20:11:17.516445Z",
     "iopub.status.idle": "2022-11-04T20:11:17.528749Z",
     "shell.execute_reply": "2022-11-04T20:11:17.528284Z"
    },
    "papermill": {
     "duration": 0.04275,
     "end_time": "2022-11-04T20:11:17.528854",
     "exception": false,
     "start_time": "2022-11-04T20:11:17.486104",
     "status": "completed"
    },
    "tags": []
   },
   "outputs": [],
   "source": [
    "training_data_x = X_train\n",
    "testing_data_x = X_test\n",
    "training_data_y = y_train.reshape(-1,1)\n",
    "testing_data_y = y_test.reshape(-1,1)"
   ]
  },
  {
   "cell_type": "code",
   "execution_count": 19,
   "id": "76951160",
   "metadata": {
    "execution": {
     "iopub.execute_input": "2022-11-04T20:11:17.587384Z",
     "iopub.status.busy": "2022-11-04T20:11:17.586803Z",
     "iopub.status.idle": "2022-11-04T20:11:17.602950Z",
     "shell.execute_reply": "2022-11-04T20:11:17.602496Z"
    },
    "papermill": {
     "duration": 0.047054,
     "end_time": "2022-11-04T20:11:17.603053",
     "exception": false,
     "start_time": "2022-11-04T20:11:17.555999",
     "status": "completed"
    },
    "tags": []
   },
   "outputs": [
    {
     "name": "stdout",
     "output_type": "stream",
     "text": [
      "xavier\n",
      "xavier\n",
      "xavier\n",
      "xavier\n",
      "xavier\n"
     ]
    }
   ],
   "source": [
    "layers = [Affine(\"first\", 784, 100), Relu(\"first\"), Affine(\"second\", 100, 100), Relu(\"second\"), Affine(\"third\", 100, 2), Affine(\"last\", 2, 1), Sigmoid(\"last\")]\n",
    "model_nn = Model(layers)\n",
    "model_lr = Model([Affine(\"logits\", 784, 1), Sigmoid(\"sigmoid\")])"
   ]
  },
  {
   "cell_type": "code",
   "execution_count": 20,
   "id": "6eede77a",
   "metadata": {
    "execution": {
     "iopub.execute_input": "2022-11-04T20:11:17.661989Z",
     "iopub.status.busy": "2022-11-04T20:11:17.661415Z",
     "iopub.status.idle": "2022-11-04T20:11:17.673489Z",
     "shell.execute_reply": "2022-11-04T20:11:17.673030Z"
    },
    "papermill": {
     "duration": 0.042882,
     "end_time": "2022-11-04T20:11:17.673592",
     "exception": false,
     "start_time": "2022-11-04T20:11:17.630710",
     "status": "completed"
    },
    "tags": []
   },
   "outputs": [],
   "source": [
    "nn_learner = Learner(loss, model_nn, opt, config.num_epochs)\n",
    "acc_nn = ClfCallback(nn_learner, config.bs, training_data_x , testing_data_x, training_data_y, testing_data_y)\n",
    "nn_learner.set_callbacks([acc_nn])"
   ]
  },
  {
   "cell_type": "code",
   "execution_count": 21,
   "id": "877b6cc7",
   "metadata": {
    "execution": {
     "iopub.execute_input": "2022-11-04T20:11:17.732876Z",
     "iopub.status.busy": "2022-11-04T20:11:17.732298Z",
     "iopub.status.idle": "2022-11-04T20:11:17.744207Z",
     "shell.execute_reply": "2022-11-04T20:11:17.744638Z"
    },
    "papermill": {
     "duration": 0.043316,
     "end_time": "2022-11-04T20:11:17.744763",
     "exception": false,
     "start_time": "2022-11-04T20:11:17.701447",
     "status": "completed"
    },
    "tags": []
   },
   "outputs": [],
   "source": [
    "lr_learner = Learner(loss, model_lr, opt, config.num_epochs)\n",
    "acc_lr = ClfCallback(lr_learner, config.bs, training_data_x , testing_data_x, training_data_y, testing_data_y)\n",
    "lr_learner.set_callbacks([acc_lr])"
   ]
  },
  {
   "cell_type": "code",
   "execution_count": 22,
   "id": "d9b133c3",
   "metadata": {
    "execution": {
     "iopub.execute_input": "2022-11-04T20:11:17.803498Z",
     "iopub.status.busy": "2022-11-04T20:11:17.802897Z",
     "iopub.status.idle": "2022-11-04T20:14:14.874760Z",
     "shell.execute_reply": "2022-11-04T20:14:14.875264Z"
    },
    "papermill": {
     "duration": 177.102986,
     "end_time": "2022-11-04T20:14:14.875399",
     "exception": false,
     "start_time": "2022-11-04T20:11:17.772413",
     "status": "completed"
    },
    "tags": []
   },
   "outputs": [
    {
     "name": "stdout",
     "output_type": "stream",
     "text": [
      "Epoch 0, Loss 0.2445\n",
      "Training Accuracy: 0.5266, Testing Accuracy: 0.5323\n",
      "\n"
     ]
    },
    {
     "name": "stdout",
     "output_type": "stream",
     "text": [
      "Epoch 10, Loss 0.1271\n",
      "Training Accuracy: 0.9079, Testing Accuracy: 0.9214\n",
      "\n"
     ]
    },
    {
     "name": "stdout",
     "output_type": "stream",
     "text": [
      "Epoch 20, Loss 0.065\n",
      "Training Accuracy: 0.9347, Testing Accuracy: 0.9471\n",
      "\n"
     ]
    },
    {
     "name": "stdout",
     "output_type": "stream",
     "text": [
      "Epoch 30, Loss 0.0478\n",
      "Training Accuracy: 0.9480, Testing Accuracy: 0.9587\n",
      "\n"
     ]
    },
    {
     "name": "stdout",
     "output_type": "stream",
     "text": [
      "Epoch 40, Loss 0.0403\n",
      "Training Accuracy: 0.9548, Testing Accuracy: 0.9647\n",
      "\n"
     ]
    },
    {
     "name": "stdout",
     "output_type": "stream",
     "text": [
      "Epoch 50, Loss 0.036\n",
      "Training Accuracy: 0.9589, Testing Accuracy: 0.9672\n",
      "\n"
     ]
    },
    {
     "name": "stdout",
     "output_type": "stream",
     "text": [
      "Epoch 60, Loss 0.0332\n",
      "Training Accuracy: 0.9620, Testing Accuracy: 0.9688\n",
      "\n"
     ]
    },
    {
     "name": "stdout",
     "output_type": "stream",
     "text": [
      "Epoch 70, Loss 0.0311\n",
      "Training Accuracy: 0.9650, Testing Accuracy: 0.9698\n",
      "\n"
     ]
    },
    {
     "name": "stdout",
     "output_type": "stream",
     "text": [
      "Epoch 80, Loss 0.0295\n",
      "Training Accuracy: 0.9671, Testing Accuracy: 0.9698\n",
      "\n"
     ]
    },
    {
     "name": "stdout",
     "output_type": "stream",
     "text": [
      "Epoch 90, Loss 0.0282\n",
      "Training Accuracy: 0.9679, Testing Accuracy: 0.9708\n",
      "\n"
     ]
    },
    {
     "name": "stdout",
     "output_type": "stream",
     "text": [
      "Epoch 100, Loss 0.0272\n",
      "Training Accuracy: 0.9688, Testing Accuracy: 0.9708\n",
      "\n"
     ]
    },
    {
     "name": "stdout",
     "output_type": "stream",
     "text": [
      "Epoch 110, Loss 0.0263\n",
      "Training Accuracy: 0.9690, Testing Accuracy: 0.9703\n",
      "\n"
     ]
    },
    {
     "name": "stdout",
     "output_type": "stream",
     "text": [
      "Epoch 120, Loss 0.0255\n",
      "Training Accuracy: 0.9699, Testing Accuracy: 0.9713\n",
      "\n"
     ]
    },
    {
     "name": "stdout",
     "output_type": "stream",
     "text": [
      "Epoch 130, Loss 0.0248\n",
      "Training Accuracy: 0.9707, Testing Accuracy: 0.9718\n",
      "\n"
     ]
    },
    {
     "name": "stdout",
     "output_type": "stream",
     "text": [
      "Epoch 140, Loss 0.0242\n",
      "Training Accuracy: 0.9720, Testing Accuracy: 0.9723\n",
      "\n"
     ]
    },
    {
     "name": "stdout",
     "output_type": "stream",
     "text": [
      "Epoch 150, Loss 0.0236\n",
      "Training Accuracy: 0.9727, Testing Accuracy: 0.9718\n",
      "\n"
     ]
    },
    {
     "name": "stdout",
     "output_type": "stream",
     "text": [
      "Epoch 160, Loss 0.023\n",
      "Training Accuracy: 0.9734, Testing Accuracy: 0.9713\n",
      "\n"
     ]
    },
    {
     "name": "stdout",
     "output_type": "stream",
     "text": [
      "Epoch 170, Loss 0.0225\n",
      "Training Accuracy: 0.9739, Testing Accuracy: 0.9718\n",
      "\n"
     ]
    },
    {
     "name": "stdout",
     "output_type": "stream",
     "text": [
      "Epoch 180, Loss 0.0221\n",
      "Training Accuracy: 0.9745, Testing Accuracy: 0.9713\n",
      "\n"
     ]
    },
    {
     "name": "stdout",
     "output_type": "stream",
     "text": [
      "Epoch 190, Loss 0.0216\n",
      "Training Accuracy: 0.9750, Testing Accuracy: 0.9708\n",
      "\n"
     ]
    },
    {
     "name": "stdout",
     "output_type": "stream",
     "text": [
      "Epoch 200, Loss 0.0212\n",
      "Training Accuracy: 0.9754, Testing Accuracy: 0.9723\n",
      "\n"
     ]
    },
    {
     "name": "stdout",
     "output_type": "stream",
     "text": [
      "Epoch 210, Loss 0.0208\n",
      "Training Accuracy: 0.9755, Testing Accuracy: 0.9723\n",
      "\n"
     ]
    },
    {
     "name": "stdout",
     "output_type": "stream",
     "text": [
      "Epoch 220, Loss 0.0204\n",
      "Training Accuracy: 0.9762, Testing Accuracy: 0.9723\n",
      "\n"
     ]
    },
    {
     "name": "stdout",
     "output_type": "stream",
     "text": [
      "Epoch 230, Loss 0.02\n",
      "Training Accuracy: 0.9771, Testing Accuracy: 0.9733\n",
      "\n"
     ]
    },
    {
     "name": "stdout",
     "output_type": "stream",
     "text": [
      "Epoch 240, Loss 0.0197\n",
      "Training Accuracy: 0.9781, Testing Accuracy: 0.9738\n",
      "\n"
     ]
    },
    {
     "data": {
      "text/plain": [
       "0.04284732616260746"
      ]
     },
     "execution_count": 22,
     "metadata": {},
     "output_type": "execute_result"
    }
   ],
   "source": [
    "nn_learner.train_loop(dl)"
   ]
  },
  {
   "cell_type": "code",
   "execution_count": 23,
   "id": "e0163366",
   "metadata": {
    "execution": {
     "iopub.execute_input": "2022-11-04T20:14:14.952575Z",
     "iopub.status.busy": "2022-11-04T20:14:14.951987Z",
     "iopub.status.idle": "2022-11-04T20:14:27.003282Z",
     "shell.execute_reply": "2022-11-04T20:14:27.003817Z"
    },
    "papermill": {
     "duration": 12.093972,
     "end_time": "2022-11-04T20:14:27.003942",
     "exception": false,
     "start_time": "2022-11-04T20:14:14.909970",
     "status": "completed"
    },
    "tags": []
   },
   "outputs": [
    {
     "name": "stdout",
     "output_type": "stream",
     "text": [
      "Epoch 0, Loss 0.2164\n",
      "Training Accuracy: 0.7824, Testing Accuracy: 0.7939\n",
      "\n"
     ]
    },
    {
     "name": "stdout",
     "output_type": "stream",
     "text": [
      "Epoch 10, Loss 0.1012\n",
      "Training Accuracy: 0.9078, Testing Accuracy: 0.9183\n",
      "\n"
     ]
    },
    {
     "name": "stdout",
     "output_type": "stream",
     "text": [
      "Epoch 20, Loss 0.0788\n",
      "Training Accuracy: 0.9271, Testing Accuracy: 0.9385\n",
      "\n"
     ]
    },
    {
     "name": "stdout",
     "output_type": "stream",
     "text": [
      "Epoch 30, Loss 0.0681\n",
      "Training Accuracy: 0.9363, Testing Accuracy: 0.9446\n",
      "\n"
     ]
    },
    {
     "name": "stdout",
     "output_type": "stream",
     "text": [
      "Epoch 40, Loss 0.0615\n",
      "Training Accuracy: 0.9416, Testing Accuracy: 0.9501\n",
      "\n"
     ]
    },
    {
     "name": "stdout",
     "output_type": "stream",
     "text": [
      "Epoch 50, Loss 0.0571\n",
      "Training Accuracy: 0.9447, Testing Accuracy: 0.9526\n",
      "\n"
     ]
    },
    {
     "name": "stdout",
     "output_type": "stream",
     "text": [
      "Epoch 60, Loss 0.0538\n",
      "Training Accuracy: 0.9473, Testing Accuracy: 0.9546\n",
      "\n"
     ]
    },
    {
     "name": "stdout",
     "output_type": "stream",
     "text": [
      "Epoch 70, Loss 0.0513\n",
      "Training Accuracy: 0.9490, Testing Accuracy: 0.9572\n",
      "\n"
     ]
    },
    {
     "name": "stdout",
     "output_type": "stream",
     "text": [
      "Epoch 80, Loss 0.0492\n",
      "Training Accuracy: 0.9513, Testing Accuracy: 0.9582\n",
      "\n"
     ]
    },
    {
     "name": "stdout",
     "output_type": "stream",
     "text": [
      "Epoch 90, Loss 0.0475\n",
      "Training Accuracy: 0.9522, Testing Accuracy: 0.9602\n",
      "\n"
     ]
    },
    {
     "name": "stdout",
     "output_type": "stream",
     "text": [
      "Epoch 100, Loss 0.0461\n",
      "Training Accuracy: 0.9531, Testing Accuracy: 0.9612\n",
      "\n"
     ]
    },
    {
     "name": "stdout",
     "output_type": "stream",
     "text": [
      "Epoch 110, Loss 0.0449\n",
      "Training Accuracy: 0.9549, Testing Accuracy: 0.9627\n",
      "\n"
     ]
    },
    {
     "name": "stdout",
     "output_type": "stream",
     "text": [
      "Epoch 120, Loss 0.0438\n",
      "Training Accuracy: 0.9554, Testing Accuracy: 0.9647\n",
      "\n"
     ]
    },
    {
     "name": "stdout",
     "output_type": "stream",
     "text": [
      "Epoch 130, Loss 0.0429\n",
      "Training Accuracy: 0.9562, Testing Accuracy: 0.9652\n",
      "\n"
     ]
    },
    {
     "name": "stdout",
     "output_type": "stream",
     "text": [
      "Epoch 140, Loss 0.0421\n",
      "Training Accuracy: 0.9568, Testing Accuracy: 0.9657\n",
      "\n"
     ]
    },
    {
     "name": "stdout",
     "output_type": "stream",
     "text": [
      "Epoch 150, Loss 0.0413\n",
      "Training Accuracy: 0.9571, Testing Accuracy: 0.9677\n",
      "\n"
     ]
    },
    {
     "name": "stdout",
     "output_type": "stream",
     "text": [
      "Epoch 160, Loss 0.0407\n",
      "Training Accuracy: 0.9578, Testing Accuracy: 0.9677\n",
      "\n"
     ]
    },
    {
     "name": "stdout",
     "output_type": "stream",
     "text": [
      "Epoch 170, Loss 0.0401\n",
      "Training Accuracy: 0.9584, Testing Accuracy: 0.9672\n",
      "\n"
     ]
    },
    {
     "name": "stdout",
     "output_type": "stream",
     "text": [
      "Epoch 180, Loss 0.0395\n",
      "Training Accuracy: 0.9587, Testing Accuracy: 0.9682\n",
      "\n"
     ]
    },
    {
     "name": "stdout",
     "output_type": "stream",
     "text": [
      "Epoch 190, Loss 0.039\n",
      "Training Accuracy: 0.9594, Testing Accuracy: 0.9682\n",
      "\n"
     ]
    },
    {
     "name": "stdout",
     "output_type": "stream",
     "text": [
      "Epoch 200, Loss 0.0385\n",
      "Training Accuracy: 0.9596, Testing Accuracy: 0.9682\n",
      "\n"
     ]
    },
    {
     "name": "stdout",
     "output_type": "stream",
     "text": [
      "Epoch 210, Loss 0.0381\n",
      "Training Accuracy: 0.9603, Testing Accuracy: 0.9682\n",
      "\n"
     ]
    },
    {
     "name": "stdout",
     "output_type": "stream",
     "text": [
      "Epoch 220, Loss 0.0377\n",
      "Training Accuracy: 0.9604, Testing Accuracy: 0.9682\n",
      "\n"
     ]
    },
    {
     "name": "stdout",
     "output_type": "stream",
     "text": [
      "Epoch 230, Loss 0.0373\n",
      "Training Accuracy: 0.9605, Testing Accuracy: 0.9682\n",
      "\n"
     ]
    },
    {
     "name": "stdout",
     "output_type": "stream",
     "text": [
      "Epoch 240, Loss 0.0369\n",
      "Training Accuracy: 0.9609, Testing Accuracy: 0.9682\n",
      "\n"
     ]
    },
    {
     "data": {
      "text/plain": [
       "0.0441859228819005"
      ]
     },
     "execution_count": 23,
     "metadata": {},
     "output_type": "execute_result"
    }
   ],
   "source": [
    "lr_learner.train_loop(dl)"
   ]
  },
  {
   "cell_type": "code",
   "execution_count": 24,
   "id": "ca410940",
   "metadata": {
    "execution": {
     "iopub.execute_input": "2022-11-04T20:14:27.094940Z",
     "iopub.status.busy": "2022-11-04T20:14:27.094367Z",
     "iopub.status.idle": "2022-11-04T20:14:27.316430Z",
     "shell.execute_reply": "2022-11-04T20:14:27.315949Z"
    },
    "papermill": {
     "duration": 0.270817,
     "end_time": "2022-11-04T20:14:27.316540",
     "exception": false,
     "start_time": "2022-11-04T20:14:27.045723",
     "status": "completed"
    },
    "tags": []
   },
   "outputs": [
    {
     "data": {
      "text/plain": [
       "<matplotlib.legend.Legend at 0x7f81f9bf4470>"
      ]
     },
     "execution_count": 24,
     "metadata": {},
     "output_type": "execute_result"
    },
    {
     "data": {
      "image/png": "[encoded data removed]",
      "text/plain": [
       "<Figure size 1080x720 with 1 Axes>"
      ]
     },
     "metadata": {
      "needs_background": "light"
     },
     "output_type": "display_data"
    }
   ],
   "source": [
    "#comparing the results of NN and LR\n",
    "plt.figure(figsize=(15,10))\n",
    "\n",
    "# Neural Network plots\n",
    "plt.plot(acc_nn.accuracies, 'r-', label = \"Training Accuracies - NN\")\n",
    "plt.plot(acc_nn.test_accuracies, 'g-', label = \"Testing Accuracies - NN\")\n",
    "\n",
    "# Logistic Regression plots\n",
    "plt.plot(acc_lr.accuracies, 'k-', label = \"Training Accuracies - LR\")\n",
    "plt.plot(acc_lr.test_accuracies, 'b-', label = \"Testing Accuracies - LR\")\n",
    "plt.legend()"
   ]
  },
  {
   "cell_type": "markdown",
   "id": "80dfb35c",
   "metadata": {
    "papermill": {
     "duration": 0.042265,
     "end_time": "2022-11-04T20:14:27.401422",
     "exception": false,
     "start_time": "2022-11-04T20:14:27.359157",
     "status": "completed"
    },
    "tags": []
   },
   "source": [
    "#### Plotting the outputs of this layer of the NN.\n"
   ]
  },
  {
   "cell_type": "code",
   "execution_count": 25,
   "id": "45eb2ff5",
   "metadata": {
    "execution": {
     "iopub.execute_input": "2022-11-04T20:14:27.492189Z",
     "iopub.status.busy": "2022-11-04T20:14:27.490710Z",
     "iopub.status.idle": "2022-11-04T20:14:27.527578Z",
     "shell.execute_reply": "2022-11-04T20:14:27.527030Z"
    },
    "papermill": {
     "duration": 0.083922,
     "end_time": "2022-11-04T20:14:27.527692",
     "exception": false,
     "start_time": "2022-11-04T20:14:27.443770",
     "status": "completed"
    },
    "tags": []
   },
   "outputs": [],
   "source": [
    "new_model = Model(layers[:-2])\n",
    "testing_plot = new_model(testing_data_x)"
   ]
  },
  {
   "cell_type": "code",
   "execution_count": 26,
   "id": "4c0a5485",
   "metadata": {
    "execution": {
     "iopub.execute_input": "2022-11-04T20:14:27.620939Z",
     "iopub.status.busy": "2022-11-04T20:14:27.620379Z",
     "iopub.status.idle": "2022-11-04T20:14:27.818263Z",
     "shell.execute_reply": "2022-11-04T20:14:27.817803Z"
    },
    "papermill": {
     "duration": 0.246613,
     "end_time": "2022-11-04T20:14:27.818372",
     "exception": false,
     "start_time": "2022-11-04T20:14:27.571759",
     "status": "completed"
    },
    "tags": []
   },
   "outputs": [
    {
     "data": {
      "text/plain": [
       "Text(0.5, 1.0, 'Outputs')"
      ]
     },
     "execution_count": 26,
     "metadata": {},
     "output_type": "execute_result"
    },
    {
     "data": {
      "image/png": "[encoded data removed]",
      "text/plain": [
       "<Figure size 576x504 with 1 Axes>"
      ]
     },
     "metadata": {
      "needs_background": "light"
     },
     "output_type": "display_data"
    }
   ],
   "source": [
    "# Plotting the scatter plot of points and color coding by class\n",
    "plt.figure(figsize=(8,7))\n",
    "plt.scatter(testing_plot[:,0], testing_plot[:,1], alpha = 0.1, c = y_test.ravel());\n",
    "plt.title('Outputs')"
   ]
  },
  {
   "cell_type": "markdown",
   "id": "a74fcf8f",
   "metadata": {
    "papermill": {
     "duration": 0.044628,
     "end_time": "2022-11-04T20:14:27.907934",
     "exception": false,
     "start_time": "2022-11-04T20:14:27.863306",
     "status": "completed"
    },
    "tags": []
   },
   "source": [
    "Probability contours"
   ]
  },
  {
   "cell_type": "code",
   "execution_count": 27,
   "id": "d0afc8e3",
   "metadata": {
    "execution": {
     "iopub.execute_input": "2022-11-04T20:14:28.028417Z",
     "iopub.status.busy": "2022-11-04T20:14:28.027854Z",
     "iopub.status.idle": "2022-11-04T20:14:28.035914Z",
     "shell.execute_reply": "2022-11-04T20:14:28.035486Z"
    },
    "papermill": {
     "duration": 0.083225,
     "end_time": "2022-11-04T20:14:28.036019",
     "exception": false,
     "start_time": "2022-11-04T20:14:27.952794",
     "status": "completed"
    },
    "tags": []
   },
   "outputs": [],
   "source": [
    "model_prob = Model(layers[-2:]) "
   ]
  },
  {
   "cell_type": "code",
   "execution_count": 28,
   "id": "9b96e238",
   "metadata": {
    "execution": {
     "iopub.execute_input": "2022-11-04T20:14:28.131578Z",
     "iopub.status.busy": "2022-11-04T20:14:28.130962Z",
     "iopub.status.idle": "2022-11-04T20:14:28.144217Z",
     "shell.execute_reply": "2022-11-04T20:14:28.144644Z"
    },
    "papermill": {
     "duration": 0.063993,
     "end_time": "2022-11-04T20:14:28.144777",
     "exception": false,
     "start_time": "2022-11-04T20:14:28.080784",
     "status": "completed"
    },
    "tags": []
   },
   "outputs": [],
   "source": [
    "#creating the x and y ranges according to the above generated plot.\n",
    "x_range = np.linspace(-4, 1, 100) \n",
    "y_range = np.linspace(-6, 6, 100) \n",
    "x_grid, y_grid = np.meshgrid(x_range, y_range) # x_grid and y_grig are of size 100 X 100\n",
    "\n",
    "# converting x_grid and y_grid to continuous arrays\n",
    "x_gridflat = np.ravel(x_grid)\n",
    "y_gridflat = np.ravel(y_grid)\n",
    "\n",
    "# The last layer of the current model takes two columns as input. Hence transpose of np.vstack() is required.\n",
    "X = np.vstack((x_gridflat, y_gridflat)).T\n",
    "\n",
    "prob_contour = model_prob(X).reshape(100,100) "
   ]
  },
  {
   "cell_type": "code",
   "execution_count": 29,
   "id": "da72499a",
   "metadata": {
    "execution": {
     "iopub.execute_input": "2022-11-04T20:14:28.239856Z",
     "iopub.status.busy": "2022-11-04T20:14:28.239293Z",
     "iopub.status.idle": "2022-11-04T20:14:28.486541Z",
     "shell.execute_reply": "2022-11-04T20:14:28.486059Z"
    },
    "papermill": {
     "duration": 0.296874,
     "end_time": "2022-11-04T20:14:28.486649",
     "exception": false,
     "start_time": "2022-11-04T20:14:28.189775",
     "status": "completed"
    },
    "tags": []
   },
   "outputs": [
    {
     "data": {
      "image/png": "[encoded data removed]",
      "text/plain": [
       "<Figure size 720x648 with 1 Axes>"
      ]
     },
     "metadata": {
      "needs_background": "light"
     },
     "output_type": "display_data"
    }
   ],
   "source": [
    "plt.figure(figsize=(10,9))\n",
    "plt.scatter(testing_plot[:,0], testing_plot[:,1], alpha = 0.1, c = y_test.ravel())\n",
    "contours = plt.contour(x_grid,y_grid,prob_contour)\n",
    "plt.title('Probability Contours')\n",
    "plt.clabel(contours, inline = True );"
   ]
  },
  {
   "cell_type": "code",
   "execution_count": null,
   "id": "e81b4ac7",
   "metadata": {
    "papermill": {
     "duration": 0.046992,
     "end_time": "2022-11-04T20:14:28.581349",
     "exception": false,
     "start_time": "2022-11-04T20:14:28.534357",
     "status": "completed"
    },
    "tags": []
   },
   "outputs": [],
   "source": []
  }
 ],
 "metadata": {
  "kernelspec": {
   "display_name": "Python 3",
   "language": "python",
   "name": "python3"
  },
  "language_info": {
   "codemirror_mode": {
    "name": "ipython",
    "version": 3
   },
   "file_extension": ".py",
   "mimetype": "text/x-python",
   "name": "python",
   "nbconvert_exporter": "python",
   "pygments_lexer": "ipython3",
   "version": "3.6.15"
  },
  "papermill": {
   "default_parameters": {},
   "duration": 197.549279,
   "end_time": "2022-11-04T20:14:28.946035",
   "environment_variables": {},
   "exception": null,
   "input_path": "2020-08-11-part2.ipynb",
   "output_path": "2020-08-11-part2.ipynb",
   "parameters": {},
   "start_time": "2022-11-04T20:11:11.396756",
   "version": "2.3.3"
  }
 },
 "nbformat": 4,
 "nbformat_minor": 5
}