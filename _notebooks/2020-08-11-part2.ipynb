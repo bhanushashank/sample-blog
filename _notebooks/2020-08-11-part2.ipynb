{
 "cells": [
  {
   "cell_type": "markdown",
   "id": "98380cd3",
   "metadata": {
    "papermill": {
     "duration": 0.024751,
     "end_time": "2022-04-24T00:33:21.028342",
     "exception": false,
     "start_time": "2022-04-24T00:33:21.003591",
     "status": "completed"
    },
    "tags": []
   },
   "source": [
    "# Distinguish Your Own Digits (DYOD)"
   ]
  },
  {
   "cell_type": "markdown",
   "id": "ef31240d",
   "metadata": {
    "papermill": {
     "duration": 0.022528,
     "end_time": "2022-04-24T00:33:21.072540",
     "exception": false,
     "start_time": "2022-04-24T00:33:21.050012",
     "status": "completed"
    },
    "tags": []
   },
   "source": [
    "You are going to write a classifier that distinguishes between the number 3 and number 8."
   ]
  },
  {
   "cell_type": "code",
   "execution_count": 1,
   "id": "b15c8646",
   "metadata": {
    "execution": {
     "iopub.execute_input": "2022-04-24T00:33:21.125953Z",
     "iopub.status.busy": "2022-04-24T00:33:21.125474Z",
     "iopub.status.idle": "2022-04-24T00:33:21.134557Z",
     "shell.execute_reply": "2022-04-24T00:33:21.134174Z"
    },
    "papermill": {
     "duration": 0.040991,
     "end_time": "2022-04-24T00:33:21.134673",
     "exception": false,
     "start_time": "2022-04-24T00:33:21.093682",
     "status": "completed"
    },
    "tags": []
   },
   "outputs": [],
   "source": [
    "%load_ext autoreload\n",
    "%autoreload 2"
   ]
  },
  {
   "cell_type": "code",
   "execution_count": 2,
   "id": "22ef38dc",
   "metadata": {
    "execution": {
     "iopub.execute_input": "2022-04-24T00:33:21.184140Z",
     "iopub.status.busy": "2022-04-24T00:33:21.183677Z",
     "iopub.status.idle": "2022-04-24T00:33:21.710407Z",
     "shell.execute_reply": "2022-04-24T00:33:21.710898Z"
    },
    "papermill": {
     "duration": 0.555161,
     "end_time": "2022-04-24T00:33:21.711091",
     "exception": false,
     "start_time": "2022-04-24T00:33:21.155930",
     "status": "completed"
    },
    "tags": []
   },
   "outputs": [],
   "source": [
    "%matplotlib inline\n",
    "import numpy as np\n",
    "import matplotlib.pyplot as plt\n",
    "import pandas as pd"
   ]
  },
  {
   "cell_type": "markdown",
   "id": "ba036198",
   "metadata": {
    "papermill": {
     "duration": 0.024003,
     "end_time": "2022-04-24T00:33:21.759786",
     "exception": false,
     "start_time": "2022-04-24T00:33:21.735783",
     "status": "completed"
    },
    "tags": []
   },
   "source": [
    "From the command line run `pip install mnist`. This is a library that will help you bring down the mnist dataset. If you run this from a notebook, you need to put  `!pip install mnist` in a cell by itself."
   ]
  },
  {
   "cell_type": "code",
   "execution_count": 3,
   "id": "bb6ad8a1",
   "metadata": {
    "execution": {
     "iopub.execute_input": "2022-04-24T00:33:21.812564Z",
     "iopub.status.busy": "2022-04-24T00:33:21.812044Z",
     "iopub.status.idle": "2022-04-24T00:33:24.398417Z",
     "shell.execute_reply": "2022-04-24T00:33:24.397981Z"
    },
    "papermill": {
     "duration": 2.614632,
     "end_time": "2022-04-24T00:33:24.398533",
     "exception": false,
     "start_time": "2022-04-24T00:33:21.783901",
     "status": "completed"
    },
    "tags": []
   },
   "outputs": [
    {
     "name": "stdout",
     "output_type": "stream",
     "text": [
      "Collecting mnist\r\n"
     ]
    },
    {
     "name": "stdout",
     "output_type": "stream",
     "text": [
      "  Downloading mnist-0.2.2-py2.py3-none-any.whl (3.5 kB)\r\n",
      "Requirement already satisfied: numpy in /opt/hostedtoolcache/Python/3.6.15/x64/lib/python3.6/site-packages (from mnist) (1.19.5)\r\n"
     ]
    },
    {
     "name": "stdout",
     "output_type": "stream",
     "text": [
      "Installing collected packages: mnist\r\n"
     ]
    },
    {
     "name": "stdout",
     "output_type": "stream",
     "text": [
      "Successfully installed mnist-0.2.2\r\n"
     ]
    }
   ],
   "source": [
    "!pip install mnist"
   ]
  },
  {
   "cell_type": "markdown",
   "id": "69df9c9a",
   "metadata": {
    "papermill": {
     "duration": 0.022389,
     "end_time": "2022-04-24T00:33:24.443720",
     "exception": false,
     "start_time": "2022-04-24T00:33:24.421331",
     "status": "completed"
    },
    "tags": []
   },
   "source": [
    "## Preparing the Data"
   ]
  },
  {
   "cell_type": "code",
   "execution_count": 4,
   "id": "7f69d806",
   "metadata": {
    "execution": {
     "iopub.execute_input": "2022-04-24T00:33:24.503511Z",
     "iopub.status.busy": "2022-04-24T00:33:24.491459Z",
     "iopub.status.idle": "2022-04-24T00:33:24.507721Z",
     "shell.execute_reply": "2022-04-24T00:33:24.508085Z"
    },
    "papermill": {
     "duration": 0.042399,
     "end_time": "2022-04-24T00:33:24.508202",
     "exception": false,
     "start_time": "2022-04-24T00:33:24.465803",
     "status": "completed"
    },
    "tags": []
   },
   "outputs": [],
   "source": [
    "import mnist"
   ]
  },
  {
   "cell_type": "code",
   "execution_count": 5,
   "id": "a411e44f",
   "metadata": {
    "execution": {
     "iopub.execute_input": "2022-04-24T00:33:24.568014Z",
     "iopub.status.busy": "2022-04-24T00:33:24.566765Z",
     "iopub.status.idle": "2022-04-24T00:33:25.241488Z",
     "shell.execute_reply": "2022-04-24T00:33:25.237312Z"
    },
    "papermill": {
     "duration": 0.713248,
     "end_time": "2022-04-24T00:33:25.243680",
     "exception": false,
     "start_time": "2022-04-24T00:33:24.530432",
     "status": "completed"
    },
    "tags": []
   },
   "outputs": [],
   "source": [
    "train_images = mnist.train_images()\n",
    "train_labels = mnist.train_labels()"
   ]
  },
  {
   "cell_type": "code",
   "execution_count": 6,
   "id": "dceab3a5",
   "metadata": {
    "execution": {
     "iopub.execute_input": "2022-04-24T00:33:25.299830Z",
     "iopub.status.busy": "2022-04-24T00:33:25.299365Z",
     "iopub.status.idle": "2022-04-24T00:33:25.310936Z",
     "shell.execute_reply": "2022-04-24T00:33:25.311305Z"
    },
    "papermill": {
     "duration": 0.041301,
     "end_time": "2022-04-24T00:33:25.311430",
     "exception": false,
     "start_time": "2022-04-24T00:33:25.270129",
     "status": "completed"
    },
    "tags": []
   },
   "outputs": [
    {
     "data": {
      "text/plain": [
       "((60000, 28, 28), (60000,))"
      ]
     },
     "execution_count": 6,
     "metadata": {},
     "output_type": "execute_result"
    }
   ],
   "source": [
    "train_images.shape, train_labels.shape"
   ]
  },
  {
   "cell_type": "code",
   "execution_count": 7,
   "id": "f50dc2bb",
   "metadata": {
    "execution": {
     "iopub.execute_input": "2022-04-24T00:33:25.359874Z",
     "iopub.status.busy": "2022-04-24T00:33:25.359220Z",
     "iopub.status.idle": "2022-04-24T00:33:25.609183Z",
     "shell.execute_reply": "2022-04-24T00:33:25.608624Z"
    },
    "papermill": {
     "duration": 0.275461,
     "end_time": "2022-04-24T00:33:25.609317",
     "exception": false,
     "start_time": "2022-04-24T00:33:25.333856",
     "status": "completed"
    },
    "tags": []
   },
   "outputs": [],
   "source": [
    "test_images = mnist.test_images()\n",
    "test_labels = mnist.test_labels()"
   ]
  },
  {
   "cell_type": "code",
   "execution_count": 8,
   "id": "fc38cf1b",
   "metadata": {
    "execution": {
     "iopub.execute_input": "2022-04-24T00:33:25.664901Z",
     "iopub.status.busy": "2022-04-24T00:33:25.664439Z",
     "iopub.status.idle": "2022-04-24T00:33:25.673340Z",
     "shell.execute_reply": "2022-04-24T00:33:25.673783Z"
    },
    "papermill": {
     "duration": 0.039678,
     "end_time": "2022-04-24T00:33:25.673904",
     "exception": false,
     "start_time": "2022-04-24T00:33:25.634226",
     "status": "completed"
    },
    "tags": []
   },
   "outputs": [
    {
     "data": {
      "text/plain": [
       "((10000, 28, 28), (10000,))"
      ]
     },
     "execution_count": 8,
     "metadata": {},
     "output_type": "execute_result"
    }
   ],
   "source": [
    "test_images.shape, test_labels.shape"
   ]
  },
  {
   "cell_type": "code",
   "execution_count": 9,
   "id": "f9ed8fe0",
   "metadata": {
    "execution": {
     "iopub.execute_input": "2022-04-24T00:33:25.731814Z",
     "iopub.status.busy": "2022-04-24T00:33:25.731307Z",
     "iopub.status.idle": "2022-04-24T00:33:25.853404Z",
     "shell.execute_reply": "2022-04-24T00:33:25.852924Z"
    },
    "papermill": {
     "duration": 0.156825,
     "end_time": "2022-04-24T00:33:25.853519",
     "exception": false,
     "start_time": "2022-04-24T00:33:25.696694",
     "status": "completed"
    },
    "tags": []
   },
   "outputs": [
    {
     "name": "stdout",
     "output_type": "stream",
     "text": [
      "2\n"
     ]
    },
    {
     "data": {
      "text/plain": [
       "<matplotlib.image.AxesImage at 0x7fe3f2ce72e8>"
      ]
     },
     "execution_count": 9,
     "metadata": {},
     "output_type": "execute_result"
    },
    {
     "data": {
      "image/png": "[encoded data removed]",
      "text/plain": [
       "<Figure size 432x288 with 1 Axes>"
      ]
     },
     "metadata": {
      "needs_background": "light"
     },
     "output_type": "display_data"
    }
   ],
   "source": [
    "image_index = 7776 # You may select anything up to 60,000\n",
    "print(train_labels[image_index]) \n",
    "plt.imshow(train_images[image_index], cmap='Greys')"
   ]
  },
  {
   "cell_type": "markdown",
   "id": "a8d2388d",
   "metadata": {
    "papermill": {
     "duration": 0.023697,
     "end_time": "2022-04-24T00:33:25.901150",
     "exception": false,
     "start_time": "2022-04-24T00:33:25.877453",
     "status": "completed"
    },
    "tags": []
   },
   "source": [
    "## Filter data to get 3 and 8 out"
   ]
  },
  {
   "cell_type": "code",
   "execution_count": 10,
   "id": "776f7fc7",
   "metadata": {
    "execution": {
     "iopub.execute_input": "2022-04-24T00:33:25.955824Z",
     "iopub.status.busy": "2022-04-24T00:33:25.955332Z",
     "iopub.status.idle": "2022-04-24T00:33:25.969858Z",
     "shell.execute_reply": "2022-04-24T00:33:25.969467Z"
    },
    "papermill": {
     "duration": 0.045156,
     "end_time": "2022-04-24T00:33:25.969966",
     "exception": false,
     "start_time": "2022-04-24T00:33:25.924810",
     "status": "completed"
    },
    "tags": []
   },
   "outputs": [],
   "source": [
    "train_filter = np.where((train_labels == 3 ) | (train_labels == 8))\n",
    "test_filter = np.where((test_labels == 3) | (test_labels == 8))\n",
    "X_train, y_train = train_images[train_filter], train_labels[train_filter]\n",
    "X_test, y_test = test_images[test_filter], test_labels[test_filter]"
   ]
  },
  {
   "cell_type": "markdown",
   "id": "948f0b7e",
   "metadata": {
    "papermill": {
     "duration": 0.02365,
     "end_time": "2022-04-24T00:33:26.017507",
     "exception": false,
     "start_time": "2022-04-24T00:33:25.993857",
     "status": "completed"
    },
    "tags": []
   },
   "source": [
    "We normalize the pizel values in the 0 to 1 range"
   ]
  },
  {
   "cell_type": "code",
   "execution_count": 11,
   "id": "ee4c2166",
   "metadata": {
    "execution": {
     "iopub.execute_input": "2022-04-24T00:33:26.071917Z",
     "iopub.status.busy": "2022-04-24T00:33:26.071416Z",
     "iopub.status.idle": "2022-04-24T00:33:26.113618Z",
     "shell.execute_reply": "2022-04-24T00:33:26.113105Z"
    },
    "papermill": {
     "duration": 0.072511,
     "end_time": "2022-04-24T00:33:26.113755",
     "exception": false,
     "start_time": "2022-04-24T00:33:26.041244",
     "status": "completed"
    },
    "tags": []
   },
   "outputs": [],
   "source": [
    "X_train = X_train/255.\n",
    "X_test = X_test/255."
   ]
  },
  {
   "cell_type": "markdown",
   "id": "ddcf4fab",
   "metadata": {
    "papermill": {
     "duration": 0.023999,
     "end_time": "2022-04-24T00:33:26.162669",
     "exception": false,
     "start_time": "2022-04-24T00:33:26.138670",
     "status": "completed"
    },
    "tags": []
   },
   "source": [
    "And setup the labels as 1 (when the digit is 3) and 0 (when the digit is 8)"
   ]
  },
  {
   "cell_type": "code",
   "execution_count": 12,
   "id": "7dc908f2",
   "metadata": {
    "execution": {
     "iopub.execute_input": "2022-04-24T00:33:26.216350Z",
     "iopub.status.busy": "2022-04-24T00:33:26.215888Z",
     "iopub.status.idle": "2022-04-24T00:33:26.226180Z",
     "shell.execute_reply": "2022-04-24T00:33:26.226545Z"
    },
    "papermill": {
     "duration": 0.039954,
     "end_time": "2022-04-24T00:33:26.226666",
     "exception": false,
     "start_time": "2022-04-24T00:33:26.186712",
     "status": "completed"
    },
    "tags": []
   },
   "outputs": [],
   "source": [
    "y_train = 1*(y_train==3)\n",
    "y_test = 1*(y_test==3)"
   ]
  },
  {
   "cell_type": "code",
   "execution_count": 13,
   "id": "01e4e969",
   "metadata": {
    "execution": {
     "iopub.execute_input": "2022-04-24T00:33:26.284531Z",
     "iopub.status.busy": "2022-04-24T00:33:26.284027Z",
     "iopub.status.idle": "2022-04-24T00:33:26.292463Z",
     "shell.execute_reply": "2022-04-24T00:33:26.292084Z"
    },
    "papermill": {
     "duration": 0.04208,
     "end_time": "2022-04-24T00:33:26.292569",
     "exception": false,
     "start_time": "2022-04-24T00:33:26.250489",
     "status": "completed"
    },
    "tags": []
   },
   "outputs": [
    {
     "data": {
      "text/plain": [
       "((11982, 28, 28), (1984, 28, 28))"
      ]
     },
     "execution_count": 13,
     "metadata": {},
     "output_type": "execute_result"
    }
   ],
   "source": [
    "X_train.shape, X_test.shape"
   ]
  },
  {
   "cell_type": "markdown",
   "id": "5ccf3f85",
   "metadata": {
    "papermill": {
     "duration": 0.02377,
     "end_time": "2022-04-24T00:33:26.340119",
     "exception": false,
     "start_time": "2022-04-24T00:33:26.316349",
     "status": "completed"
    },
    "tags": []
   },
   "source": [
    "We reshape the data to flatten the image pixels into a set of features or co-variates:"
   ]
  },
  {
   "cell_type": "code",
   "execution_count": 14,
   "id": "5286a4a3",
   "metadata": {
    "execution": {
     "iopub.execute_input": "2022-04-24T00:33:26.405770Z",
     "iopub.status.busy": "2022-04-24T00:33:26.405287Z",
     "iopub.status.idle": "2022-04-24T00:33:26.408328Z",
     "shell.execute_reply": "2022-04-24T00:33:26.407948Z"
    },
    "papermill": {
     "duration": 0.044425,
     "end_time": "2022-04-24T00:33:26.408431",
     "exception": false,
     "start_time": "2022-04-24T00:33:26.364006",
     "status": "completed"
    },
    "tags": []
   },
   "outputs": [
    {
     "data": {
      "text/plain": [
       "((11982, 784), (1984, 784))"
      ]
     },
     "execution_count": 14,
     "metadata": {},
     "output_type": "execute_result"
    }
   ],
   "source": [
    "X_train = X_train.reshape(X_train.shape[0], -1)\n",
    "X_test = X_test.reshape(X_test.shape[0], -1)\n",
    "X_train.shape, X_test.shape"
   ]
  },
  {
   "cell_type": "code",
   "execution_count": 15,
   "id": "73c5f88a",
   "metadata": {
    "execution": {
     "iopub.execute_input": "2022-04-24T00:33:26.462986Z",
     "iopub.status.busy": "2022-04-24T00:33:26.462507Z",
     "iopub.status.idle": "2022-04-24T00:33:26.478629Z",
     "shell.execute_reply": "2022-04-24T00:33:26.478238Z"
    },
    "papermill": {
     "duration": 0.046217,
     "end_time": "2022-04-24T00:33:26.478737",
     "exception": false,
     "start_time": "2022-04-24T00:33:26.432520",
     "status": "completed"
    },
    "tags": []
   },
   "outputs": [],
   "source": [
    "#Impoting functions from 'Kudzu'\n",
    "from kudzu.model import Model\n",
    "from kudzu.train import Learner\n",
    "from kudzu.optim import GD\n",
    "from kudzu.data import Data, Sampler,Dataloader\n",
    "\n",
    "from kudzu.callbacks import AccCallback\n",
    "from kudzu.callbacks import ClfCallback\n",
    "\n",
    "from kudzu.loss import MSE\n",
    "\n",
    "from kudzu.layer import Sigmoid,Relu\n",
    "from kudzu.layer import Affine"
   ]
  },
  {
   "cell_type": "markdown",
   "id": "bc01172a",
   "metadata": {
    "papermill": {
     "duration": 0.023969,
     "end_time": "2022-04-24T00:33:26.527076",
     "exception": false,
     "start_time": "2022-04-24T00:33:26.503107",
     "status": "completed"
    },
    "tags": []
   },
   "source": [
    "### Let us create a `Config` class, to store important parameters. \n",
    "This class essentially plays the role of a dictionary."
   ]
  },
  {
   "cell_type": "code",
   "execution_count": 16,
   "id": "978281aa",
   "metadata": {
    "execution": {
     "iopub.execute_input": "2022-04-24T00:33:26.590862Z",
     "iopub.status.busy": "2022-04-24T00:33:26.587811Z",
     "iopub.status.idle": "2022-04-24T00:33:26.593046Z",
     "shell.execute_reply": "2022-04-24T00:33:26.592671Z"
    },
    "papermill": {
     "duration": 0.042032,
     "end_time": "2022-04-24T00:33:26.593148",
     "exception": false,
     "start_time": "2022-04-24T00:33:26.551116",
     "status": "completed"
    },
    "tags": []
   },
   "outputs": [],
   "source": [
    "class Config:\n",
    "    pass\n",
    "config = Config()\n",
    "config.lr = 0.001\n",
    "config.num_epochs = 250\n",
    "config.bs = 50"
   ]
  },
  {
   "cell_type": "markdown",
   "id": "1385fa59",
   "metadata": {
    "papermill": {
     "duration": 0.024129,
     "end_time": "2022-04-24T00:33:26.641513",
     "exception": false,
     "start_time": "2022-04-24T00:33:26.617384",
     "status": "completed"
    },
    "tags": []
   },
   "source": [
    "### Running Models with the Training data\n",
    "Details about the network layers:\n",
    "- A first affine layer has 784 inputs and does 100 affine transforms. These are followed by a Relu\n",
    "- A second affine layer has 100 inputs from the 100 activations of the past layer, and does 100 affine transforms. These are followed by a Relu\n",
    "- A third affine layer has 100 activations and does 2 affine transformations to create an embedding for visualization. There is no non-linearity here.\n",
    "- A final \"logistic regression\" which has an affine transform from 2 inputs to 1 output, which is squeezed through a sigmoid.\n"
   ]
  },
  {
   "cell_type": "code",
   "execution_count": 17,
   "id": "2b9c66db",
   "metadata": {
    "execution": {
     "iopub.execute_input": "2022-04-24T00:33:26.704669Z",
     "iopub.status.busy": "2022-04-24T00:33:26.695805Z",
     "iopub.status.idle": "2022-04-24T00:33:26.706905Z",
     "shell.execute_reply": "2022-04-24T00:33:26.706502Z"
    },
    "papermill": {
     "duration": 0.04127,
     "end_time": "2022-04-24T00:33:26.707010",
     "exception": false,
     "start_time": "2022-04-24T00:33:26.665740",
     "status": "completed"
    },
    "tags": []
   },
   "outputs": [],
   "source": [
    "data = Data(X_train, y_train.reshape(-1,1))\n",
    "sampler = Sampler(data, config.bs, shuffle=True)\n",
    "\n",
    "dl = Dataloader(data, sampler)\n",
    "\n",
    "opt = GD(config.lr)\n",
    "loss = MSE()"
   ]
  },
  {
   "cell_type": "code",
   "execution_count": 18,
   "id": "b275e4c2",
   "metadata": {
    "execution": {
     "iopub.execute_input": "2022-04-24T00:33:26.759383Z",
     "iopub.status.busy": "2022-04-24T00:33:26.758869Z",
     "iopub.status.idle": "2022-04-24T00:33:26.770351Z",
     "shell.execute_reply": "2022-04-24T00:33:26.770712Z"
    },
    "papermill": {
     "duration": 0.039386,
     "end_time": "2022-04-24T00:33:26.770846",
     "exception": false,
     "start_time": "2022-04-24T00:33:26.731460",
     "status": "completed"
    },
    "tags": []
   },
   "outputs": [],
   "source": [
    "training_data_x = X_train\n",
    "testing_data_x = X_test\n",
    "training_data_y = y_train.reshape(-1,1)\n",
    "testing_data_y = y_test.reshape(-1,1)"
   ]
  },
  {
   "cell_type": "code",
   "execution_count": 19,
   "id": "76951160",
   "metadata": {
    "execution": {
     "iopub.execute_input": "2022-04-24T00:33:26.823386Z",
     "iopub.status.busy": "2022-04-24T00:33:26.822889Z",
     "iopub.status.idle": "2022-04-24T00:33:26.836932Z",
     "shell.execute_reply": "2022-04-24T00:33:26.837279Z"
    },
    "papermill": {
     "duration": 0.042308,
     "end_time": "2022-04-24T00:33:26.837401",
     "exception": false,
     "start_time": "2022-04-24T00:33:26.795093",
     "status": "completed"
    },
    "tags": []
   },
   "outputs": [
    {
     "name": "stdout",
     "output_type": "stream",
     "text": [
      "xavier\n",
      "xavier\n",
      "xavier\n",
      "xavier\n",
      "xavier\n"
     ]
    }
   ],
   "source": [
    "layers = [Affine(\"first\", 784, 100), Relu(\"first\"), Affine(\"second\", 100, 100), Relu(\"second\"), Affine(\"third\", 100, 2), Affine(\"last\", 2, 1), Sigmoid(\"last\")]\n",
    "model_nn = Model(layers)\n",
    "model_lr = Model([Affine(\"logits\", 784, 1), Sigmoid(\"sigmoid\")])"
   ]
  },
  {
   "cell_type": "code",
   "execution_count": 20,
   "id": "6eede77a",
   "metadata": {
    "execution": {
     "iopub.execute_input": "2022-04-24T00:33:26.900306Z",
     "iopub.status.busy": "2022-04-24T00:33:26.899822Z",
     "iopub.status.idle": "2022-04-24T00:33:26.903097Z",
     "shell.execute_reply": "2022-04-24T00:33:26.903448Z"
    },
    "papermill": {
     "duration": 0.041716,
     "end_time": "2022-04-24T00:33:26.903569",
     "exception": false,
     "start_time": "2022-04-24T00:33:26.861853",
     "status": "completed"
    },
    "tags": []
   },
   "outputs": [],
   "source": [
    "nn_learner = Learner(loss, model_nn, opt, config.num_epochs)\n",
    "acc_nn = ClfCallback(nn_learner, config.bs, training_data_x , testing_data_x, training_data_y, testing_data_y)\n",
    "nn_learner.set_callbacks([acc_nn])"
   ]
  },
  {
   "cell_type": "code",
   "execution_count": 21,
   "id": "877b6cc7",
   "metadata": {
    "execution": {
     "iopub.execute_input": "2022-04-24T00:33:26.956588Z",
     "iopub.status.busy": "2022-04-24T00:33:26.955733Z",
     "iopub.status.idle": "2022-04-24T00:33:26.966162Z",
     "shell.execute_reply": "2022-04-24T00:33:26.966506Z"
    },
    "papermill": {
     "duration": 0.038527,
     "end_time": "2022-04-24T00:33:26.966627",
     "exception": false,
     "start_time": "2022-04-24T00:33:26.928100",
     "status": "completed"
    },
    "tags": []
   },
   "outputs": [],
   "source": [
    "lr_learner = Learner(loss, model_lr, opt, config.num_epochs)\n",
    "acc_lr = ClfCallback(lr_learner, config.bs, training_data_x , testing_data_x, training_data_y, testing_data_y)\n",
    "lr_learner.set_callbacks([acc_lr])"
   ]
  },
  {
   "cell_type": "code",
   "execution_count": 22,
   "id": "d9b133c3",
   "metadata": {
    "execution": {
     "iopub.execute_input": "2022-04-24T00:33:27.023509Z",
     "iopub.status.busy": "2022-04-24T00:33:27.022973Z",
     "iopub.status.idle": "2022-04-24T00:34:40.897576Z",
     "shell.execute_reply": "2022-04-24T00:34:40.898272Z"
    },
    "papermill": {
     "duration": 73.907192,
     "end_time": "2022-04-24T00:34:40.898410",
     "exception": false,
     "start_time": "2022-04-24T00:33:26.991218",
     "status": "completed"
    },
    "tags": []
   },
   "outputs": [
    {
     "name": "stdout",
     "output_type": "stream",
     "text": [
      "Epoch 0, Loss 0.2532\n",
      "Training Accuracy: 0.6548, Testing Accuracy: 0.6734\n",
      "\n"
     ]
    },
    {
     "name": "stdout",
     "output_type": "stream",
     "text": [
      "Epoch 10, Loss 0.0732\n",
      "Training Accuracy: 0.9286, Testing Accuracy: 0.9355\n",
      "\n"
     ]
    },
    {
     "name": "stdout",
     "output_type": "stream",
     "text": [
      "Epoch 20, Loss 0.048\n",
      "Training Accuracy: 0.9494, Testing Accuracy: 0.9582\n",
      "\n"
     ]
    },
    {
     "name": "stdout",
     "output_type": "stream",
     "text": [
      "Epoch 30, Loss 0.039\n",
      "Training Accuracy: 0.9574, Testing Accuracy: 0.9632\n",
      "\n"
     ]
    },
    {
     "name": "stdout",
     "output_type": "stream",
     "text": [
      "Epoch 40, Loss 0.0345\n",
      "Training Accuracy: 0.9619, Testing Accuracy: 0.9672\n",
      "\n"
     ]
    },
    {
     "name": "stdout",
     "output_type": "stream",
     "text": [
      "Epoch 50, Loss 0.0317\n",
      "Training Accuracy: 0.9645, Testing Accuracy: 0.9662\n",
      "\n"
     ]
    },
    {
     "name": "stdout",
     "output_type": "stream",
     "text": [
      "Epoch 60, Loss 0.0298\n",
      "Training Accuracy: 0.9665, Testing Accuracy: 0.9667\n",
      "\n"
     ]
    },
    {
     "name": "stdout",
     "output_type": "stream",
     "text": [
      "Epoch 70, Loss 0.0283\n",
      "Training Accuracy: 0.9675, Testing Accuracy: 0.9672\n",
      "\n"
     ]
    },
    {
     "name": "stdout",
     "output_type": "stream",
     "text": [
      "Epoch 80, Loss 0.0271\n",
      "Training Accuracy: 0.9686, Testing Accuracy: 0.9672\n",
      "\n"
     ]
    },
    {
     "name": "stdout",
     "output_type": "stream",
     "text": [
      "Epoch 90, Loss 0.0262\n",
      "Training Accuracy: 0.9695, Testing Accuracy: 0.9682\n",
      "\n"
     ]
    },
    {
     "name": "stdout",
     "output_type": "stream",
     "text": [
      "Epoch 100, Loss 0.0253\n",
      "Training Accuracy: 0.9700, Testing Accuracy: 0.9693\n",
      "\n"
     ]
    },
    {
     "name": "stdout",
     "output_type": "stream",
     "text": [
      "Epoch 110, Loss 0.0246\n",
      "Training Accuracy: 0.9709, Testing Accuracy: 0.9693\n",
      "\n"
     ]
    },
    {
     "name": "stdout",
     "output_type": "stream",
     "text": [
      "Epoch 120, Loss 0.024\n",
      "Training Accuracy: 0.9714, Testing Accuracy: 0.9693\n",
      "\n"
     ]
    },
    {
     "name": "stdout",
     "output_type": "stream",
     "text": [
      "Epoch 130, Loss 0.0234\n",
      "Training Accuracy: 0.9719, Testing Accuracy: 0.9688\n",
      "\n"
     ]
    },
    {
     "name": "stdout",
     "output_type": "stream",
     "text": [
      "Epoch 140, Loss 0.0229\n",
      "Training Accuracy: 0.9727, Testing Accuracy: 0.9693\n",
      "\n"
     ]
    },
    {
     "name": "stdout",
     "output_type": "stream",
     "text": [
      "Epoch 150, Loss 0.0224\n",
      "Training Accuracy: 0.9732, Testing Accuracy: 0.9693\n",
      "\n"
     ]
    },
    {
     "name": "stdout",
     "output_type": "stream",
     "text": [
      "Epoch 160, Loss 0.0219\n",
      "Training Accuracy: 0.9740, Testing Accuracy: 0.9688\n",
      "\n"
     ]
    },
    {
     "name": "stdout",
     "output_type": "stream",
     "text": [
      "Epoch 170, Loss 0.0215\n",
      "Training Accuracy: 0.9753, Testing Accuracy: 0.9688\n",
      "\n"
     ]
    },
    {
     "name": "stdout",
     "output_type": "stream",
     "text": [
      "Epoch 180, Loss 0.0211\n",
      "Training Accuracy: 0.9760, Testing Accuracy: 0.9698\n",
      "\n"
     ]
    },
    {
     "name": "stdout",
     "output_type": "stream",
     "text": [
      "Epoch 190, Loss 0.0207\n",
      "Training Accuracy: 0.9764, Testing Accuracy: 0.9703\n",
      "\n"
     ]
    },
    {
     "name": "stdout",
     "output_type": "stream",
     "text": [
      "Epoch 200, Loss 0.0203\n",
      "Training Accuracy: 0.9769, Testing Accuracy: 0.9708\n",
      "\n"
     ]
    },
    {
     "name": "stdout",
     "output_type": "stream",
     "text": [
      "Epoch 210, Loss 0.0199\n",
      "Training Accuracy: 0.9777, Testing Accuracy: 0.9718\n",
      "\n"
     ]
    },
    {
     "name": "stdout",
     "output_type": "stream",
     "text": [
      "Epoch 220, Loss 0.0196\n",
      "Training Accuracy: 0.9781, Testing Accuracy: 0.9713\n",
      "\n"
     ]
    },
    {
     "name": "stdout",
     "output_type": "stream",
     "text": [
      "Epoch 230, Loss 0.0192\n",
      "Training Accuracy: 0.9791, Testing Accuracy: 0.9718\n",
      "\n"
     ]
    },
    {
     "name": "stdout",
     "output_type": "stream",
     "text": [
      "Epoch 240, Loss 0.0189\n",
      "Training Accuracy: 0.9793, Testing Accuracy: 0.9723\n",
      "\n"
     ]
    },
    {
     "data": {
      "text/plain": [
       "0.031283442579052766"
      ]
     },
     "execution_count": 22,
     "metadata": {},
     "output_type": "execute_result"
    }
   ],
   "source": [
    "nn_learner.train_loop(dl)"
   ]
  },
  {
   "cell_type": "code",
   "execution_count": 23,
   "id": "e0163366",
   "metadata": {
    "execution": {
     "iopub.execute_input": "2022-04-24T00:34:40.968555Z",
     "iopub.status.busy": "2022-04-24T00:34:40.968087Z",
     "iopub.status.idle": "2022-04-24T00:34:54.005815Z",
     "shell.execute_reply": "2022-04-24T00:34:54.006475Z"
    },
    "papermill": {
     "duration": 13.076771,
     "end_time": "2022-04-24T00:34:54.006610",
     "exception": false,
     "start_time": "2022-04-24T00:34:40.929839",
     "status": "completed"
    },
    "tags": []
   },
   "outputs": [
    {
     "name": "stdout",
     "output_type": "stream",
     "text": [
      "Epoch 0, Loss 0.2595\n",
      "Training Accuracy: 0.5990, Testing Accuracy: 0.5701\n",
      "\n"
     ]
    },
    {
     "name": "stdout",
     "output_type": "stream",
     "text": [
      "Epoch 10, Loss 0.1072\n",
      "Training Accuracy: 0.9055, Testing Accuracy: 0.9214\n",
      "\n"
     ]
    },
    {
     "name": "stdout",
     "output_type": "stream",
     "text": [
      "Epoch 20, Loss 0.0809\n",
      "Training Accuracy: 0.9277, Testing Accuracy: 0.9415\n",
      "\n"
     ]
    },
    {
     "name": "stdout",
     "output_type": "stream",
     "text": [
      "Epoch 30, Loss 0.069\n",
      "Training Accuracy: 0.9384, Testing Accuracy: 0.9481\n",
      "\n"
     ]
    },
    {
     "name": "stdout",
     "output_type": "stream",
     "text": [
      "Epoch 40, Loss 0.062\n",
      "Training Accuracy: 0.9426, Testing Accuracy: 0.9536\n",
      "\n"
     ]
    },
    {
     "name": "stdout",
     "output_type": "stream",
     "text": [
      "Epoch 50, Loss 0.0573\n",
      "Training Accuracy: 0.9452, Testing Accuracy: 0.9572\n",
      "\n"
     ]
    },
    {
     "name": "stdout",
     "output_type": "stream",
     "text": [
      "Epoch 60, Loss 0.0538\n",
      "Training Accuracy: 0.9476, Testing Accuracy: 0.9597\n",
      "\n"
     ]
    },
    {
     "name": "stdout",
     "output_type": "stream",
     "text": [
      "Epoch 70, Loss 0.0512\n",
      "Training Accuracy: 0.9507, Testing Accuracy: 0.9602\n",
      "\n"
     ]
    },
    {
     "name": "stdout",
     "output_type": "stream",
     "text": [
      "Epoch 80, Loss 0.0491\n",
      "Training Accuracy: 0.9513, Testing Accuracy: 0.9622\n",
      "\n"
     ]
    },
    {
     "name": "stdout",
     "output_type": "stream",
     "text": [
      "Epoch 90, Loss 0.0474\n",
      "Training Accuracy: 0.9521, Testing Accuracy: 0.9632\n",
      "\n"
     ]
    },
    {
     "name": "stdout",
     "output_type": "stream",
     "text": [
      "Epoch 100, Loss 0.046\n",
      "Training Accuracy: 0.9533, Testing Accuracy: 0.9637\n",
      "\n"
     ]
    },
    {
     "name": "stdout",
     "output_type": "stream",
     "text": [
      "Epoch 110, Loss 0.0447\n",
      "Training Accuracy: 0.9542, Testing Accuracy: 0.9642\n",
      "\n"
     ]
    },
    {
     "name": "stdout",
     "output_type": "stream",
     "text": [
      "Epoch 120, Loss 0.0437\n",
      "Training Accuracy: 0.9553, Testing Accuracy: 0.9647\n",
      "\n"
     ]
    },
    {
     "name": "stdout",
     "output_type": "stream",
     "text": [
      "Epoch 130, Loss 0.0427\n",
      "Training Accuracy: 0.9565, Testing Accuracy: 0.9637\n",
      "\n"
     ]
    },
    {
     "name": "stdout",
     "output_type": "stream",
     "text": [
      "Epoch 140, Loss 0.0419\n",
      "Training Accuracy: 0.9570, Testing Accuracy: 0.9632\n",
      "\n"
     ]
    },
    {
     "name": "stdout",
     "output_type": "stream",
     "text": [
      "Epoch 150, Loss 0.0412\n",
      "Training Accuracy: 0.9575, Testing Accuracy: 0.9647\n",
      "\n"
     ]
    },
    {
     "name": "stdout",
     "output_type": "stream",
     "text": [
      "Epoch 160, Loss 0.0405\n",
      "Training Accuracy: 0.9581, Testing Accuracy: 0.9652\n",
      "\n"
     ]
    },
    {
     "name": "stdout",
     "output_type": "stream",
     "text": [
      "Epoch 170, Loss 0.0399\n",
      "Training Accuracy: 0.9584, Testing Accuracy: 0.9652\n",
      "\n"
     ]
    },
    {
     "name": "stdout",
     "output_type": "stream",
     "text": [
      "Epoch 180, Loss 0.0393\n",
      "Training Accuracy: 0.9589, Testing Accuracy: 0.9657\n",
      "\n"
     ]
    },
    {
     "name": "stdout",
     "output_type": "stream",
     "text": [
      "Epoch 190, Loss 0.0388\n",
      "Training Accuracy: 0.9592, Testing Accuracy: 0.9657\n",
      "\n"
     ]
    },
    {
     "name": "stdout",
     "output_type": "stream",
     "text": [
      "Epoch 200, Loss 0.0384\n",
      "Training Accuracy: 0.9598, Testing Accuracy: 0.9662\n",
      "\n"
     ]
    },
    {
     "name": "stdout",
     "output_type": "stream",
     "text": [
      "Epoch 210, Loss 0.0379\n",
      "Training Accuracy: 0.9603, Testing Accuracy: 0.9662\n",
      "\n"
     ]
    },
    {
     "name": "stdout",
     "output_type": "stream",
     "text": [
      "Epoch 220, Loss 0.0375\n",
      "Training Accuracy: 0.9604, Testing Accuracy: 0.9672\n",
      "\n"
     ]
    },
    {
     "name": "stdout",
     "output_type": "stream",
     "text": [
      "Epoch 230, Loss 0.0371\n",
      "Training Accuracy: 0.9605, Testing Accuracy: 0.9672\n",
      "\n"
     ]
    },
    {
     "name": "stdout",
     "output_type": "stream",
     "text": [
      "Epoch 240, Loss 0.0368\n",
      "Training Accuracy: 0.9609, Testing Accuracy: 0.9672\n",
      "\n"
     ]
    },
    {
     "data": {
      "text/plain": [
       "0.036362059923365095"
      ]
     },
     "execution_count": 23,
     "metadata": {},
     "output_type": "execute_result"
    }
   ],
   "source": [
    "lr_learner.train_loop(dl)"
   ]
  },
  {
   "cell_type": "code",
   "execution_count": 24,
   "id": "ca410940",
   "metadata": {
    "execution": {
     "iopub.execute_input": "2022-04-24T00:34:54.092289Z",
     "iopub.status.busy": "2022-04-24T00:34:54.091799Z",
     "iopub.status.idle": "2022-04-24T00:34:54.287160Z",
     "shell.execute_reply": "2022-04-24T00:34:54.287849Z"
    },
    "papermill": {
     "duration": 0.2443,
     "end_time": "2022-04-24T00:34:54.287994",
     "exception": false,
     "start_time": "2022-04-24T00:34:54.043694",
     "status": "completed"
    },
    "tags": []
   },
   "outputs": [
    {
     "data": {
      "text/plain": [
       "<matplotlib.legend.Legend at 0x7fe3f28c3a58>"
      ]
     },
     "execution_count": 24,
     "metadata": {},
     "output_type": "execute_result"
    },
    {
     "data": {
      "image/png": "[encoded data removed]",
      "text/plain": [
       "<Figure size 1080x720 with 1 Axes>"
      ]
     },
     "metadata": {
      "needs_background": "light"
     },
     "output_type": "display_data"
    }
   ],
   "source": [
    "#comparing the results of NN and LR\n",
    "plt.figure(figsize=(15,10))\n",
    "\n",
    "# Neural Network plots\n",
    "plt.plot(acc_nn.accuracies, 'r-', label = \"Training Accuracies - NN\")\n",
    "plt.plot(acc_nn.test_accuracies, 'g-', label = \"Testing Accuracies - NN\")\n",
    "\n",
    "# Logistic Regression plots\n",
    "plt.plot(acc_lr.accuracies, 'k-', label = \"Training Accuracies - LR\")\n",
    "plt.plot(acc_lr.test_accuracies, 'b-', label = \"Testing Accuracies - LR\")\n",
    "plt.legend()"
   ]
  },
  {
   "cell_type": "markdown",
   "id": "80dfb35c",
   "metadata": {
    "papermill": {
     "duration": 0.037215,
     "end_time": "2022-04-24T00:34:54.362762",
     "exception": false,
     "start_time": "2022-04-24T00:34:54.325547",
     "status": "completed"
    },
    "tags": []
   },
   "source": [
    "#### Plotting the outputs of this layer of the NN.\n"
   ]
  },
  {
   "cell_type": "code",
   "execution_count": 25,
   "id": "45eb2ff5",
   "metadata": {
    "execution": {
     "iopub.execute_input": "2022-04-24T00:34:54.447502Z",
     "iopub.status.busy": "2022-04-24T00:34:54.445789Z",
     "iopub.status.idle": "2022-04-24T00:34:54.460960Z",
     "shell.execute_reply": "2022-04-24T00:34:54.461334Z"
    },
    "papermill": {
     "duration": 0.061343,
     "end_time": "2022-04-24T00:34:54.461456",
     "exception": false,
     "start_time": "2022-04-24T00:34:54.400113",
     "status": "completed"
    },
    "tags": []
   },
   "outputs": [],
   "source": [
    "new_model = Model(layers[:-2])\n",
    "testing_plot = new_model(testing_data_x)"
   ]
  },
  {
   "cell_type": "code",
   "execution_count": 26,
   "id": "4c0a5485",
   "metadata": {
    "execution": {
     "iopub.execute_input": "2022-04-24T00:34:54.547906Z",
     "iopub.status.busy": "2022-04-24T00:34:54.547434Z",
     "iopub.status.idle": "2022-04-24T00:34:54.748959Z",
     "shell.execute_reply": "2022-04-24T00:34:54.749333Z"
    },
    "papermill": {
     "duration": 0.250527,
     "end_time": "2022-04-24T00:34:54.749459",
     "exception": false,
     "start_time": "2022-04-24T00:34:54.498932",
     "status": "completed"
    },
    "tags": []
   },
   "outputs": [
    {
     "data": {
      "text/plain": [
       "Text(0.5, 1.0, 'Outputs')"
      ]
     },
     "execution_count": 26,
     "metadata": {},
     "output_type": "execute_result"
    },
    {
     "data": {
      "image/png": "[encoded data removed]",
      "text/plain": [
       "<Figure size 576x504 with 1 Axes>"
      ]
     },
     "metadata": {
      "needs_background": "light"
     },
     "output_type": "display_data"
    }
   ],
   "source": [
    "# Plotting the scatter plot of points and color coding by class\n",
    "plt.figure(figsize=(8,7))\n",
    "plt.scatter(testing_plot[:,0], testing_plot[:,1], alpha = 0.1, c = y_test.ravel());\n",
    "plt.title('Outputs')"
   ]
  },
  {
   "cell_type": "markdown",
   "id": "a74fcf8f",
   "metadata": {
    "papermill": {
     "duration": 0.039491,
     "end_time": "2022-04-24T00:34:54.828973",
     "exception": false,
     "start_time": "2022-04-24T00:34:54.789482",
     "status": "completed"
    },
    "tags": []
   },
   "source": [
    "Probability contours"
   ]
  },
  {
   "cell_type": "code",
   "execution_count": 27,
   "id": "d0afc8e3",
   "metadata": {
    "execution": {
     "iopub.execute_input": "2022-04-24T00:34:54.912832Z",
     "iopub.status.busy": "2022-04-24T00:34:54.912219Z",
     "iopub.status.idle": "2022-04-24T00:34:54.922465Z",
     "shell.execute_reply": "2022-04-24T00:34:54.922083Z"
    },
    "papermill": {
     "duration": 0.053826,
     "end_time": "2022-04-24T00:34:54.922561",
     "exception": false,
     "start_time": "2022-04-24T00:34:54.868735",
     "status": "completed"
    },
    "tags": []
   },
   "outputs": [],
   "source": [
    "model_prob = Model(layers[-2:]) "
   ]
  },
  {
   "cell_type": "code",
   "execution_count": 28,
   "id": "9b96e238",
   "metadata": {
    "execution": {
     "iopub.execute_input": "2022-04-24T00:34:55.040481Z",
     "iopub.status.busy": "2022-04-24T00:34:55.040009Z",
     "iopub.status.idle": "2022-04-24T00:34:55.047645Z",
     "shell.execute_reply": "2022-04-24T00:34:55.047273Z"
    },
    "papermill": {
     "duration": 0.060531,
     "end_time": "2022-04-24T00:34:55.047745",
     "exception": false,
     "start_time": "2022-04-24T00:34:54.987214",
     "status": "completed"
    },
    "tags": []
   },
   "outputs": [],
   "source": [
    "#creating the x and y ranges according to the above generated plot.\n",
    "x_range = np.linspace(-4, 1, 100) \n",
    "y_range = np.linspace(-6, 6, 100) \n",
    "x_grid, y_grid = np.meshgrid(x_range, y_range) # x_grid and y_grig are of size 100 X 100\n",
    "\n",
    "# converting x_grid and y_grid to continuous arrays\n",
    "x_gridflat = np.ravel(x_grid)\n",
    "y_gridflat = np.ravel(y_grid)\n",
    "\n",
    "# The last layer of the current model takes two columns as input. Hence transpose of np.vstack() is required.\n",
    "X = np.vstack((x_gridflat, y_gridflat)).T\n",
    "\n",
    "prob_contour = model_prob(X).reshape(100,100) "
   ]
  },
  {
   "cell_type": "code",
   "execution_count": 29,
   "id": "da72499a",
   "metadata": {
    "execution": {
     "iopub.execute_input": "2022-04-24T00:34:55.144345Z",
     "iopub.status.busy": "2022-04-24T00:34:55.143878Z",
     "iopub.status.idle": "2022-04-24T00:34:55.369479Z",
     "shell.execute_reply": "2022-04-24T00:34:55.369849Z"
    },
    "papermill": {
     "duration": 0.277497,
     "end_time": "2022-04-24T00:34:55.369977",
     "exception": false,
     "start_time": "2022-04-24T00:34:55.092480",
     "status": "completed"
    },
    "tags": []
   },
   "outputs": [
    {
     "data": {
      "image/png": "[encoded data removed]",
      "text/plain": [
       "<Figure size 720x648 with 1 Axes>"
      ]
     },
     "metadata": {
      "needs_background": "light"
     },
     "output_type": "display_data"
    }
   ],
   "source": [
    "plt.figure(figsize=(10,9))\n",
    "plt.scatter(testing_plot[:,0], testing_plot[:,1], alpha = 0.1, c = y_test.ravel())\n",
    "contours = plt.contour(x_grid,y_grid,prob_contour)\n",
    "plt.title('Probability Contours')\n",
    "plt.clabel(contours, inline = True );"
   ]
  },
  {
   "cell_type": "code",
   "execution_count": null,
   "id": "e81b4ac7",
   "metadata": {
    "papermill": {
     "duration": 0.042515,
     "end_time": "2022-04-24T00:34:55.455223",
     "exception": false,
     "start_time": "2022-04-24T00:34:55.412708",
     "status": "completed"
    },
    "tags": []
   },
   "outputs": [],
   "source": []
  }
 ],
 "metadata": {
  "kernelspec": {
   "display_name": "Python 3",
   "language": "python",
   "name": "python3"
  },
  "language_info": {
   "codemirror_mode": {
    "name": "ipython",
    "version": 3
   },
   "file_extension": ".py",
   "mimetype": "text/x-python",
   "name": "python",
   "nbconvert_exporter": "python",
   "pygments_lexer": "ipython3",
   "version": "3.6.15"
  },
  "papermill": {
   "default_parameters": {},
   "duration": 95.893555,
   "end_time": "2022-04-24T00:34:55.814537",
   "environment_variables": {},
   "exception": null,
   "input_path": "2020-08-11-part2.ipynb",
   "output_path": "2020-08-11-part2.ipynb",
   "parameters": {},
   "start_time": "2022-04-24T00:33:19.920982",
   "version": "2.3.3"
  }
 },
 "nbformat": 4,
 "nbformat_minor": 5
}