{
 "cells": [
  {
   "cell_type": "markdown",
   "id": "98380cd3",
   "metadata": {
    "papermill": {
     "duration": 0.031916,
     "end_time": "2021-12-03T10:09:00.663156",
     "exception": false,
     "start_time": "2021-12-03T10:09:00.631240",
     "status": "completed"
    },
    "tags": []
   },
   "source": [
    "# Distinguish Your Own Digits (DYOD)"
   ]
  },
  {
   "cell_type": "markdown",
   "id": "ef31240d",
   "metadata": {
    "papermill": {
     "duration": 0.027647,
     "end_time": "2021-12-03T10:09:00.719755",
     "exception": false,
     "start_time": "2021-12-03T10:09:00.692108",
     "status": "completed"
    },
    "tags": []
   },
   "source": [
    "You are going to write a classifier that distinguishes between the number 3 and number 8."
   ]
  },
  {
   "cell_type": "code",
   "execution_count": 1,
   "id": "b15c8646",
   "metadata": {
    "execution": {
     "iopub.execute_input": "2021-12-03T10:09:00.790307Z",
     "iopub.status.busy": "2021-12-03T10:09:00.789603Z",
     "iopub.status.idle": "2021-12-03T10:09:00.800621Z",
     "shell.execute_reply": "2021-12-03T10:09:00.801104Z"
    },
    "papermill": {
     "duration": 0.053471,
     "end_time": "2021-12-03T10:09:00.801287",
     "exception": false,
     "start_time": "2021-12-03T10:09:00.747816",
     "status": "completed"
    },
    "tags": []
   },
   "outputs": [],
   "source": [
    "%load_ext autoreload\n",
    "%autoreload 2"
   ]
  },
  {
   "cell_type": "code",
   "execution_count": 2,
   "id": "22ef38dc",
   "metadata": {
    "execution": {
     "iopub.execute_input": "2021-12-03T10:09:00.861604Z",
     "iopub.status.busy": "2021-12-03T10:09:00.860985Z",
     "iopub.status.idle": "2021-12-03T10:09:01.616547Z",
     "shell.execute_reply": "2021-12-03T10:09:01.615397Z"
    },
    "papermill": {
     "duration": 0.787479,
     "end_time": "2021-12-03T10:09:01.616734",
     "exception": false,
     "start_time": "2021-12-03T10:09:00.829255",
     "status": "completed"
    },
    "tags": []
   },
   "outputs": [],
   "source": [
    "%matplotlib inline\n",
    "import numpy as np\n",
    "import matplotlib.pyplot as plt\n",
    "import pandas as pd"
   ]
  },
  {
   "cell_type": "markdown",
   "id": "ba036198",
   "metadata": {
    "papermill": {
     "duration": 0.027219,
     "end_time": "2021-12-03T10:09:01.672564",
     "exception": false,
     "start_time": "2021-12-03T10:09:01.645345",
     "status": "completed"
    },
    "tags": []
   },
   "source": [
    "From the command line run `pip install mnist`. This is a library that will help you bring down the mnist dataset. If you run this from a notebook, you need to put  `!pip install mnist` in a cell by itself."
   ]
  },
  {
   "cell_type": "code",
   "execution_count": 3,
   "id": "bb6ad8a1",
   "metadata": {
    "execution": {
     "iopub.execute_input": "2021-12-03T10:09:01.732587Z",
     "iopub.status.busy": "2021-12-03T10:09:01.731952Z",
     "iopub.status.idle": "2021-12-03T10:09:04.495308Z",
     "shell.execute_reply": "2021-12-03T10:09:04.494768Z"
    },
    "papermill": {
     "duration": 2.795364,
     "end_time": "2021-12-03T10:09:04.495451",
     "exception": false,
     "start_time": "2021-12-03T10:09:01.700087",
     "status": "completed"
    },
    "tags": []
   },
   "outputs": [
    {
     "name": "stdout",
     "output_type": "stream",
     "text": [
      "Collecting mnist\r\n"
     ]
    },
    {
     "name": "stdout",
     "output_type": "stream",
     "text": [
      "  Downloading mnist-0.2.2-py2.py3-none-any.whl (3.5 kB)\r\n",
      "Requirement already satisfied: numpy in /opt/hostedtoolcache/Python/3.6.15/x64/lib/python3.6/site-packages (from mnist) (1.19.5)\r\n"
     ]
    },
    {
     "name": "stdout",
     "output_type": "stream",
     "text": [
      "Installing collected packages: mnist\r\n"
     ]
    },
    {
     "name": "stdout",
     "output_type": "stream",
     "text": [
      "Successfully installed mnist-0.2.2\r\n"
     ]
    }
   ],
   "source": [
    "!pip install mnist"
   ]
  },
  {
   "cell_type": "markdown",
   "id": "69df9c9a",
   "metadata": {
    "papermill": {
     "duration": 0.029117,
     "end_time": "2021-12-03T10:09:04.555266",
     "exception": false,
     "start_time": "2021-12-03T10:09:04.526149",
     "status": "completed"
    },
    "tags": []
   },
   "source": [
    "## Preparing the Data"
   ]
  },
  {
   "cell_type": "code",
   "execution_count": 4,
   "id": "7f69d806",
   "metadata": {
    "execution": {
     "iopub.execute_input": "2021-12-03T10:09:04.622210Z",
     "iopub.status.busy": "2021-12-03T10:09:04.621610Z",
     "iopub.status.idle": "2021-12-03T10:09:04.642566Z",
     "shell.execute_reply": "2021-12-03T10:09:04.642028Z"
    },
    "papermill": {
     "duration": 0.05697,
     "end_time": "2021-12-03T10:09:04.642700",
     "exception": false,
     "start_time": "2021-12-03T10:09:04.585730",
     "status": "completed"
    },
    "tags": []
   },
   "outputs": [],
   "source": [
    "import mnist"
   ]
  },
  {
   "cell_type": "code",
   "execution_count": 5,
   "id": "a411e44f",
   "metadata": {
    "execution": {
     "iopub.execute_input": "2021-12-03T10:09:04.707221Z",
     "iopub.status.busy": "2021-12-03T10:09:04.706555Z",
     "iopub.status.idle": "2021-12-03T10:09:05.339787Z",
     "shell.execute_reply": "2021-12-03T10:09:05.340289Z"
    },
    "papermill": {
     "duration": 0.667455,
     "end_time": "2021-12-03T10:09:05.340465",
     "exception": false,
     "start_time": "2021-12-03T10:09:04.673010",
     "status": "completed"
    },
    "tags": []
   },
   "outputs": [],
   "source": [
    "train_images = mnist.train_images()\n",
    "train_labels = mnist.train_labels()"
   ]
  },
  {
   "cell_type": "code",
   "execution_count": 6,
   "id": "dceab3a5",
   "metadata": {
    "execution": {
     "iopub.execute_input": "2021-12-03T10:09:05.406747Z",
     "iopub.status.busy": "2021-12-03T10:09:05.403215Z",
     "iopub.status.idle": "2021-12-03T10:09:05.422044Z",
     "shell.execute_reply": "2021-12-03T10:09:05.421447Z"
    },
    "papermill": {
     "duration": 0.052682,
     "end_time": "2021-12-03T10:09:05.422181",
     "exception": false,
     "start_time": "2021-12-03T10:09:05.369499",
     "status": "completed"
    },
    "tags": []
   },
   "outputs": [
    {
     "data": {
      "text/plain": [
       "((60000, 28, 28), (60000,))"
      ]
     },
     "execution_count": 6,
     "metadata": {},
     "output_type": "execute_result"
    }
   ],
   "source": [
    "train_images.shape, train_labels.shape"
   ]
  },
  {
   "cell_type": "code",
   "execution_count": 7,
   "id": "f50dc2bb",
   "metadata": {
    "execution": {
     "iopub.execute_input": "2021-12-03T10:09:05.485697Z",
     "iopub.status.busy": "2021-12-03T10:09:05.483427Z",
     "iopub.status.idle": "2021-12-03T10:09:05.678638Z",
     "shell.execute_reply": "2021-12-03T10:09:05.679468Z"
    },
    "papermill": {
     "duration": 0.228744,
     "end_time": "2021-12-03T10:09:05.679728",
     "exception": false,
     "start_time": "2021-12-03T10:09:05.450984",
     "status": "completed"
    },
    "tags": []
   },
   "outputs": [],
   "source": [
    "test_images = mnist.test_images()\n",
    "test_labels = mnist.test_labels()"
   ]
  },
  {
   "cell_type": "code",
   "execution_count": 8,
   "id": "fc38cf1b",
   "metadata": {
    "execution": {
     "iopub.execute_input": "2021-12-03T10:09:05.744196Z",
     "iopub.status.busy": "2021-12-03T10:09:05.743590Z",
     "iopub.status.idle": "2021-12-03T10:09:05.758741Z",
     "shell.execute_reply": "2021-12-03T10:09:05.758251Z"
    },
    "papermill": {
     "duration": 0.04783,
     "end_time": "2021-12-03T10:09:05.758875",
     "exception": false,
     "start_time": "2021-12-03T10:09:05.711045",
     "status": "completed"
    },
    "tags": []
   },
   "outputs": [
    {
     "data": {
      "text/plain": [
       "((10000, 28, 28), (10000,))"
      ]
     },
     "execution_count": 8,
     "metadata": {},
     "output_type": "execute_result"
    }
   ],
   "source": [
    "test_images.shape, test_labels.shape"
   ]
  },
  {
   "cell_type": "code",
   "execution_count": 9,
   "id": "f9ed8fe0",
   "metadata": {
    "execution": {
     "iopub.execute_input": "2021-12-03T10:09:05.826667Z",
     "iopub.status.busy": "2021-12-03T10:09:05.826055Z",
     "iopub.status.idle": "2021-12-03T10:09:05.999324Z",
     "shell.execute_reply": "2021-12-03T10:09:05.998802Z"
    },
    "papermill": {
     "duration": 0.211506,
     "end_time": "2021-12-03T10:09:05.999457",
     "exception": false,
     "start_time": "2021-12-03T10:09:05.787951",
     "status": "completed"
    },
    "tags": []
   },
   "outputs": [
    {
     "name": "stdout",
     "output_type": "stream",
     "text": [
      "2\n"
     ]
    },
    {
     "data": {
      "text/plain": [
       "<matplotlib.image.AxesImage at 0x7fbc3d81a518>"
      ]
     },
     "execution_count": 9,
     "metadata": {},
     "output_type": "execute_result"
    },
    {
     "data": {
      "image/png": "[encoded data removed]",
      "text/plain": [
       "<Figure size 432x288 with 1 Axes>"
      ]
     },
     "metadata": {
      "needs_background": "light"
     },
     "output_type": "display_data"
    }
   ],
   "source": [
    "image_index = 7776 # You may select anything up to 60,000\n",
    "print(train_labels[image_index]) \n",
    "plt.imshow(train_images[image_index], cmap='Greys')"
   ]
  },
  {
   "cell_type": "markdown",
   "id": "a8d2388d",
   "metadata": {
    "papermill": {
     "duration": 0.030952,
     "end_time": "2021-12-03T10:09:06.062736",
     "exception": false,
     "start_time": "2021-12-03T10:09:06.031784",
     "status": "completed"
    },
    "tags": []
   },
   "source": [
    "## Filter data to get 3 and 8 out"
   ]
  },
  {
   "cell_type": "code",
   "execution_count": 10,
   "id": "776f7fc7",
   "metadata": {
    "execution": {
     "iopub.execute_input": "2021-12-03T10:09:06.131106Z",
     "iopub.status.busy": "2021-12-03T10:09:06.130454Z",
     "iopub.status.idle": "2021-12-03T10:09:06.152008Z",
     "shell.execute_reply": "2021-12-03T10:09:06.151409Z"
    },
    "papermill": {
     "duration": 0.058021,
     "end_time": "2021-12-03T10:09:06.152144",
     "exception": false,
     "start_time": "2021-12-03T10:09:06.094123",
     "status": "completed"
    },
    "tags": []
   },
   "outputs": [],
   "source": [
    "train_filter = np.where((train_labels == 3 ) | (train_labels == 8))\n",
    "test_filter = np.where((test_labels == 3) | (test_labels == 8))\n",
    "X_train, y_train = train_images[train_filter], train_labels[train_filter]\n",
    "X_test, y_test = test_images[test_filter], test_labels[test_filter]"
   ]
  },
  {
   "cell_type": "markdown",
   "id": "948f0b7e",
   "metadata": {
    "papermill": {
     "duration": 0.031384,
     "end_time": "2021-12-03T10:09:06.215382",
     "exception": false,
     "start_time": "2021-12-03T10:09:06.183998",
     "status": "completed"
    },
    "tags": []
   },
   "source": [
    "We normalize the pizel values in the 0 to 1 range"
   ]
  },
  {
   "cell_type": "code",
   "execution_count": 11,
   "id": "ee4c2166",
   "metadata": {
    "execution": {
     "iopub.execute_input": "2021-12-03T10:09:06.282542Z",
     "iopub.status.busy": "2021-12-03T10:09:06.281949Z",
     "iopub.status.idle": "2021-12-03T10:09:06.336906Z",
     "shell.execute_reply": "2021-12-03T10:09:06.336083Z"
    },
    "papermill": {
     "duration": 0.091164,
     "end_time": "2021-12-03T10:09:06.337103",
     "exception": false,
     "start_time": "2021-12-03T10:09:06.245939",
     "status": "completed"
    },
    "tags": []
   },
   "outputs": [],
   "source": [
    "X_train = X_train/255.\n",
    "X_test = X_test/255."
   ]
  },
  {
   "cell_type": "markdown",
   "id": "ddcf4fab",
   "metadata": {
    "papermill": {
     "duration": 0.031079,
     "end_time": "2021-12-03T10:09:06.404380",
     "exception": false,
     "start_time": "2021-12-03T10:09:06.373301",
     "status": "completed"
    },
    "tags": []
   },
   "source": [
    "And setup the labels as 1 (when the digit is 3) and 0 (when the digit is 8)"
   ]
  },
  {
   "cell_type": "code",
   "execution_count": 12,
   "id": "7dc908f2",
   "metadata": {
    "execution": {
     "iopub.execute_input": "2021-12-03T10:09:06.470864Z",
     "iopub.status.busy": "2021-12-03T10:09:06.470258Z",
     "iopub.status.idle": "2021-12-03T10:09:06.483380Z",
     "shell.execute_reply": "2021-12-03T10:09:06.482856Z"
    },
    "papermill": {
     "duration": 0.048277,
     "end_time": "2021-12-03T10:09:06.483510",
     "exception": false,
     "start_time": "2021-12-03T10:09:06.435233",
     "status": "completed"
    },
    "tags": []
   },
   "outputs": [],
   "source": [
    "y_train = 1*(y_train==3)\n",
    "y_test = 1*(y_test==3)"
   ]
  },
  {
   "cell_type": "code",
   "execution_count": 13,
   "id": "01e4e969",
   "metadata": {
    "execution": {
     "iopub.execute_input": "2021-12-03T10:09:06.550583Z",
     "iopub.status.busy": "2021-12-03T10:09:06.549988Z",
     "iopub.status.idle": "2021-12-03T10:09:06.566115Z",
     "shell.execute_reply": "2021-12-03T10:09:06.565511Z"
    },
    "papermill": {
     "duration": 0.05121,
     "end_time": "2021-12-03T10:09:06.566257",
     "exception": false,
     "start_time": "2021-12-03T10:09:06.515047",
     "status": "completed"
    },
    "tags": []
   },
   "outputs": [
    {
     "data": {
      "text/plain": [
       "((11982, 28, 28), (1984, 28, 28))"
      ]
     },
     "execution_count": 13,
     "metadata": {},
     "output_type": "execute_result"
    }
   ],
   "source": [
    "X_train.shape, X_test.shape"
   ]
  },
  {
   "cell_type": "markdown",
   "id": "5ccf3f85",
   "metadata": {
    "papermill": {
     "duration": 0.031002,
     "end_time": "2021-12-03T10:09:06.630566",
     "exception": false,
     "start_time": "2021-12-03T10:09:06.599564",
     "status": "completed"
    },
    "tags": []
   },
   "source": [
    "We reshape the data to flatten the image pixels into a set of features or co-variates:"
   ]
  },
  {
   "cell_type": "code",
   "execution_count": 14,
   "id": "5286a4a3",
   "metadata": {
    "execution": {
     "iopub.execute_input": "2021-12-03T10:09:06.699523Z",
     "iopub.status.busy": "2021-12-03T10:09:06.698911Z",
     "iopub.status.idle": "2021-12-03T10:09:06.714444Z",
     "shell.execute_reply": "2021-12-03T10:09:06.713961Z"
    },
    "papermill": {
     "duration": 0.050999,
     "end_time": "2021-12-03T10:09:06.714576",
     "exception": false,
     "start_time": "2021-12-03T10:09:06.663577",
     "status": "completed"
    },
    "tags": []
   },
   "outputs": [
    {
     "data": {
      "text/plain": [
       "((11982, 784), (1984, 784))"
      ]
     },
     "execution_count": 14,
     "metadata": {},
     "output_type": "execute_result"
    }
   ],
   "source": [
    "X_train = X_train.reshape(X_train.shape[0], -1)\n",
    "X_test = X_test.reshape(X_test.shape[0], -1)\n",
    "X_train.shape, X_test.shape"
   ]
  },
  {
   "cell_type": "code",
   "execution_count": 15,
   "id": "73c5f88a",
   "metadata": {
    "execution": {
     "iopub.execute_input": "2021-12-03T10:09:06.785215Z",
     "iopub.status.busy": "2021-12-03T10:09:06.784524Z",
     "iopub.status.idle": "2021-12-03T10:09:06.806091Z",
     "shell.execute_reply": "2021-12-03T10:09:06.806633Z"
    },
    "papermill": {
     "duration": 0.060194,
     "end_time": "2021-12-03T10:09:06.806808",
     "exception": false,
     "start_time": "2021-12-03T10:09:06.746614",
     "status": "completed"
    },
    "tags": []
   },
   "outputs": [],
   "source": [
    "#Impoting functions from 'Kudzu'\n",
    "from kudzu.model import Model\n",
    "from kudzu.train import Learner\n",
    "from kudzu.optim import GD\n",
    "from kudzu.data import Data, Sampler,Dataloader\n",
    "\n",
    "from kudzu.callbacks import AccCallback\n",
    "from kudzu.callbacks import ClfCallback\n",
    "\n",
    "from kudzu.loss import MSE\n",
    "\n",
    "from kudzu.layer import Sigmoid,Relu\n",
    "from kudzu.layer import Affine"
   ]
  },
  {
   "cell_type": "markdown",
   "id": "bc01172a",
   "metadata": {
    "papermill": {
     "duration": 0.032315,
     "end_time": "2021-12-03T10:09:06.872054",
     "exception": false,
     "start_time": "2021-12-03T10:09:06.839739",
     "status": "completed"
    },
    "tags": []
   },
   "source": [
    "### Let us create a `Config` class, to store important parameters. \n",
    "This class essentially plays the role of a dictionary."
   ]
  },
  {
   "cell_type": "code",
   "execution_count": 16,
   "id": "978281aa",
   "metadata": {
    "execution": {
     "iopub.execute_input": "2021-12-03T10:09:06.942578Z",
     "iopub.status.busy": "2021-12-03T10:09:06.941886Z",
     "iopub.status.idle": "2021-12-03T10:09:06.955447Z",
     "shell.execute_reply": "2021-12-03T10:09:06.955937Z"
    },
    "papermill": {
     "duration": 0.051743,
     "end_time": "2021-12-03T10:09:06.956093",
     "exception": false,
     "start_time": "2021-12-03T10:09:06.904350",
     "status": "completed"
    },
    "tags": []
   },
   "outputs": [],
   "source": [
    "class Config:\n",
    "    pass\n",
    "config = Config()\n",
    "config.lr = 0.001\n",
    "config.num_epochs = 250\n",
    "config.bs = 50"
   ]
  },
  {
   "cell_type": "markdown",
   "id": "1385fa59",
   "metadata": {
    "papermill": {
     "duration": 0.030695,
     "end_time": "2021-12-03T10:09:07.017845",
     "exception": false,
     "start_time": "2021-12-03T10:09:06.987150",
     "status": "completed"
    },
    "tags": []
   },
   "source": [
    "### Running Models with the Training data\n",
    "Details about the network layers:\n",
    "- A first affine layer has 784 inputs and does 100 affine transforms. These are followed by a Relu\n",
    "- A second affine layer has 100 inputs from the 100 activations of the past layer, and does 100 affine transforms. These are followed by a Relu\n",
    "- A third affine layer has 100 activations and does 2 affine transformations to create an embedding for visualization. There is no non-linearity here.\n",
    "- A final \"logistic regression\" which has an affine transform from 2 inputs to 1 output, which is squeezed through a sigmoid.\n"
   ]
  },
  {
   "cell_type": "code",
   "execution_count": 17,
   "id": "2b9c66db",
   "metadata": {
    "execution": {
     "iopub.execute_input": "2021-12-03T10:09:07.086287Z",
     "iopub.status.busy": "2021-12-03T10:09:07.083941Z",
     "iopub.status.idle": "2021-12-03T10:09:07.097560Z",
     "shell.execute_reply": "2021-12-03T10:09:07.097023Z"
    },
    "papermill": {
     "duration": 0.049069,
     "end_time": "2021-12-03T10:09:07.097701",
     "exception": false,
     "start_time": "2021-12-03T10:09:07.048632",
     "status": "completed"
    },
    "tags": []
   },
   "outputs": [],
   "source": [
    "data = Data(X_train, y_train.reshape(-1,1))\n",
    "sampler = Sampler(data, config.bs, shuffle=True)\n",
    "\n",
    "dl = Dataloader(data, sampler)\n",
    "\n",
    "opt = GD(config.lr)\n",
    "loss = MSE()"
   ]
  },
  {
   "cell_type": "code",
   "execution_count": 18,
   "id": "b275e4c2",
   "metadata": {
    "execution": {
     "iopub.execute_input": "2021-12-03T10:09:07.170985Z",
     "iopub.status.busy": "2021-12-03T10:09:07.170381Z",
     "iopub.status.idle": "2021-12-03T10:09:07.185670Z",
     "shell.execute_reply": "2021-12-03T10:09:07.185116Z"
    },
    "papermill": {
     "duration": 0.053992,
     "end_time": "2021-12-03T10:09:07.185806",
     "exception": false,
     "start_time": "2021-12-03T10:09:07.131814",
     "status": "completed"
    },
    "tags": []
   },
   "outputs": [],
   "source": [
    "training_data_x = X_train\n",
    "testing_data_x = X_test\n",
    "training_data_y = y_train.reshape(-1,1)\n",
    "testing_data_y = y_test.reshape(-1,1)"
   ]
  },
  {
   "cell_type": "code",
   "execution_count": 19,
   "id": "76951160",
   "metadata": {
    "execution": {
     "iopub.execute_input": "2021-12-03T10:09:07.260967Z",
     "iopub.status.busy": "2021-12-03T10:09:07.260295Z",
     "iopub.status.idle": "2021-12-03T10:09:07.278844Z",
     "shell.execute_reply": "2021-12-03T10:09:07.278294Z"
    },
    "papermill": {
     "duration": 0.060051,
     "end_time": "2021-12-03T10:09:07.278979",
     "exception": false,
     "start_time": "2021-12-03T10:09:07.218928",
     "status": "completed"
    },
    "tags": []
   },
   "outputs": [
    {
     "name": "stdout",
     "output_type": "stream",
     "text": [
      "xavier\n",
      "xavier\n",
      "xavier\n",
      "xavier\n",
      "xavier\n"
     ]
    }
   ],
   "source": [
    "layers = [Affine(\"first\", 784, 100), Relu(\"first\"), Affine(\"second\", 100, 100), Relu(\"second\"), Affine(\"third\", 100, 2), Affine(\"last\", 2, 1), Sigmoid(\"last\")]\n",
    "model_nn = Model(layers)\n",
    "model_lr = Model([Affine(\"logits\", 784, 1), Sigmoid(\"sigmoid\")])"
   ]
  },
  {
   "cell_type": "code",
   "execution_count": 20,
   "id": "6eede77a",
   "metadata": {
    "execution": {
     "iopub.execute_input": "2021-12-03T10:09:07.355893Z",
     "iopub.status.busy": "2021-12-03T10:09:07.355230Z",
     "iopub.status.idle": "2021-12-03T10:09:07.370288Z",
     "shell.execute_reply": "2021-12-03T10:09:07.369447Z"
    },
    "papermill": {
     "duration": 0.058731,
     "end_time": "2021-12-03T10:09:07.370478",
     "exception": false,
     "start_time": "2021-12-03T10:09:07.311747",
     "status": "completed"
    },
    "tags": []
   },
   "outputs": [],
   "source": [
    "nn_learner = Learner(loss, model_nn, opt, config.num_epochs)\n",
    "acc_nn = ClfCallback(nn_learner, config.bs, training_data_x , testing_data_x, training_data_y, testing_data_y)\n",
    "nn_learner.set_callbacks([acc_nn])"
   ]
  },
  {
   "cell_type": "code",
   "execution_count": 21,
   "id": "877b6cc7",
   "metadata": {
    "execution": {
     "iopub.execute_input": "2021-12-03T10:09:07.445873Z",
     "iopub.status.busy": "2021-12-03T10:09:07.445255Z",
     "iopub.status.idle": "2021-12-03T10:09:07.459300Z",
     "shell.execute_reply": "2021-12-03T10:09:07.459789Z"
    },
    "papermill": {
     "duration": 0.053657,
     "end_time": "2021-12-03T10:09:07.459943",
     "exception": false,
     "start_time": "2021-12-03T10:09:07.406286",
     "status": "completed"
    },
    "tags": []
   },
   "outputs": [],
   "source": [
    "lr_learner = Learner(loss, model_lr, opt, config.num_epochs)\n",
    "acc_lr = ClfCallback(lr_learner, config.bs, training_data_x , testing_data_x, training_data_y, testing_data_y)\n",
    "lr_learner.set_callbacks([acc_lr])"
   ]
  },
  {
   "cell_type": "code",
   "execution_count": 22,
   "id": "d9b133c3",
   "metadata": {
    "execution": {
     "iopub.execute_input": "2021-12-03T10:09:07.531121Z",
     "iopub.status.busy": "2021-12-03T10:09:07.530525Z",
     "iopub.status.idle": "2021-12-03T10:10:36.358244Z",
     "shell.execute_reply": "2021-12-03T10:10:36.359094Z"
    },
    "papermill": {
     "duration": 88.86621,
     "end_time": "2021-12-03T10:10:36.359265",
     "exception": false,
     "start_time": "2021-12-03T10:09:07.493055",
     "status": "completed"
    },
    "tags": []
   },
   "outputs": [
    {
     "name": "stdout",
     "output_type": "stream",
     "text": [
      "Epoch 0, Loss 0.2169\n",
      "Training Accuracy: 0.7952, Testing Accuracy: 0.8110\n",
      "\n"
     ]
    },
    {
     "name": "stdout",
     "output_type": "stream",
     "text": [
      "Epoch 10, Loss 0.0672\n",
      "Training Accuracy: 0.9304, Testing Accuracy: 0.9380\n",
      "\n"
     ]
    },
    {
     "name": "stdout",
     "output_type": "stream",
     "text": [
      "Epoch 20, Loss 0.0472\n",
      "Training Accuracy: 0.9473, Testing Accuracy: 0.9632\n",
      "\n"
     ]
    },
    {
     "name": "stdout",
     "output_type": "stream",
     "text": [
      "Epoch 30, Loss 0.0392\n",
      "Training Accuracy: 0.9563, Testing Accuracy: 0.9652\n",
      "\n"
     ]
    },
    {
     "name": "stdout",
     "output_type": "stream",
     "text": [
      "Epoch 40, Loss 0.0348\n",
      "Training Accuracy: 0.9602, Testing Accuracy: 0.9688\n",
      "\n"
     ]
    },
    {
     "name": "stdout",
     "output_type": "stream",
     "text": [
      "Epoch 50, Loss 0.032\n",
      "Training Accuracy: 0.9628, Testing Accuracy: 0.9688\n",
      "\n"
     ]
    },
    {
     "name": "stdout",
     "output_type": "stream",
     "text": [
      "Epoch 60, Loss 0.0299\n",
      "Training Accuracy: 0.9658, Testing Accuracy: 0.9682\n",
      "\n"
     ]
    },
    {
     "name": "stdout",
     "output_type": "stream",
     "text": [
      "Epoch 70, Loss 0.0283\n",
      "Training Accuracy: 0.9669, Testing Accuracy: 0.9693\n",
      "\n"
     ]
    },
    {
     "name": "stdout",
     "output_type": "stream",
     "text": [
      "Epoch 80, Loss 0.027\n",
      "Training Accuracy: 0.9685, Testing Accuracy: 0.9698\n",
      "\n"
     ]
    },
    {
     "name": "stdout",
     "output_type": "stream",
     "text": [
      "Epoch 90, Loss 0.0259\n",
      "Training Accuracy: 0.9695, Testing Accuracy: 0.9713\n",
      "\n"
     ]
    },
    {
     "name": "stdout",
     "output_type": "stream",
     "text": [
      "Epoch 100, Loss 0.025\n",
      "Training Accuracy: 0.9704, Testing Accuracy: 0.9718\n",
      "\n"
     ]
    },
    {
     "name": "stdout",
     "output_type": "stream",
     "text": [
      "Epoch 110, Loss 0.0242\n",
      "Training Accuracy: 0.9718, Testing Accuracy: 0.9713\n",
      "\n"
     ]
    },
    {
     "name": "stdout",
     "output_type": "stream",
     "text": [
      "Epoch 120, Loss 0.0235\n",
      "Training Accuracy: 0.9721, Testing Accuracy: 0.9718\n",
      "\n"
     ]
    },
    {
     "name": "stdout",
     "output_type": "stream",
     "text": [
      "Epoch 130, Loss 0.0228\n",
      "Training Accuracy: 0.9730, Testing Accuracy: 0.9718\n",
      "\n"
     ]
    },
    {
     "name": "stdout",
     "output_type": "stream",
     "text": [
      "Epoch 140, Loss 0.0223\n",
      "Training Accuracy: 0.9745, Testing Accuracy: 0.9723\n",
      "\n"
     ]
    },
    {
     "name": "stdout",
     "output_type": "stream",
     "text": [
      "Epoch 150, Loss 0.0217\n",
      "Training Accuracy: 0.9750, Testing Accuracy: 0.9718\n",
      "\n"
     ]
    },
    {
     "name": "stdout",
     "output_type": "stream",
     "text": [
      "Epoch 160, Loss 0.0212\n",
      "Training Accuracy: 0.9757, Testing Accuracy: 0.9723\n",
      "\n"
     ]
    },
    {
     "name": "stdout",
     "output_type": "stream",
     "text": [
      "Epoch 170, Loss 0.0207\n",
      "Training Accuracy: 0.9766, Testing Accuracy: 0.9728\n",
      "\n"
     ]
    },
    {
     "name": "stdout",
     "output_type": "stream",
     "text": [
      "Epoch 180, Loss 0.0202\n",
      "Training Accuracy: 0.9775, Testing Accuracy: 0.9728\n",
      "\n"
     ]
    },
    {
     "name": "stdout",
     "output_type": "stream",
     "text": [
      "Epoch 190, Loss 0.0198\n",
      "Training Accuracy: 0.9778, Testing Accuracy: 0.9728\n",
      "\n"
     ]
    },
    {
     "name": "stdout",
     "output_type": "stream",
     "text": [
      "Epoch 200, Loss 0.0194\n",
      "Training Accuracy: 0.9784, Testing Accuracy: 0.9733\n",
      "\n"
     ]
    },
    {
     "name": "stdout",
     "output_type": "stream",
     "text": [
      "Epoch 210, Loss 0.019\n",
      "Training Accuracy: 0.9790, Testing Accuracy: 0.9733\n",
      "\n"
     ]
    },
    {
     "name": "stdout",
     "output_type": "stream",
     "text": [
      "Epoch 220, Loss 0.0186\n",
      "Training Accuracy: 0.9797, Testing Accuracy: 0.9743\n",
      "\n"
     ]
    },
    {
     "name": "stdout",
     "output_type": "stream",
     "text": [
      "Epoch 230, Loss 0.0182\n",
      "Training Accuracy: 0.9800, Testing Accuracy: 0.9738\n",
      "\n"
     ]
    },
    {
     "name": "stdout",
     "output_type": "stream",
     "text": [
      "Epoch 240, Loss 0.0179\n",
      "Training Accuracy: 0.9806, Testing Accuracy: 0.9743\n",
      "\n"
     ]
    },
    {
     "data": {
      "text/plain": [
       "0.00904111955643645"
      ]
     },
     "execution_count": 22,
     "metadata": {},
     "output_type": "execute_result"
    }
   ],
   "source": [
    "nn_learner.train_loop(dl)"
   ]
  },
  {
   "cell_type": "code",
   "execution_count": 23,
   "id": "e0163366",
   "metadata": {
    "execution": {
     "iopub.execute_input": "2021-12-03T10:10:36.453103Z",
     "iopub.status.busy": "2021-12-03T10:10:36.452418Z",
     "iopub.status.idle": "2021-12-03T10:10:52.532635Z",
     "shell.execute_reply": "2021-12-03T10:10:52.533517Z"
    },
    "papermill": {
     "duration": 16.13426,
     "end_time": "2021-12-03T10:10:52.533687",
     "exception": false,
     "start_time": "2021-12-03T10:10:36.399427",
     "status": "completed"
    },
    "tags": []
   },
   "outputs": [
    {
     "name": "stdout",
     "output_type": "stream",
     "text": [
      "Epoch 0, Loss 0.2239\n",
      "Training Accuracy: 0.7203, Testing Accuracy: 0.7243\n",
      "\n"
     ]
    },
    {
     "name": "stdout",
     "output_type": "stream",
     "text": [
      "Epoch 10, Loss 0.1042\n",
      "Training Accuracy: 0.9020, Testing Accuracy: 0.9153\n",
      "\n"
     ]
    },
    {
     "name": "stdout",
     "output_type": "stream",
     "text": [
      "Epoch 20, Loss 0.0803\n",
      "Training Accuracy: 0.9231, Testing Accuracy: 0.9330\n",
      "\n"
     ]
    },
    {
     "name": "stdout",
     "output_type": "stream",
     "text": [
      "Epoch 30, Loss 0.0691\n",
      "Training Accuracy: 0.9339, Testing Accuracy: 0.9451\n",
      "\n"
     ]
    },
    {
     "name": "stdout",
     "output_type": "stream",
     "text": [
      "Epoch 40, Loss 0.0623\n",
      "Training Accuracy: 0.9406, Testing Accuracy: 0.9511\n",
      "\n"
     ]
    },
    {
     "name": "stdout",
     "output_type": "stream",
     "text": [
      "Epoch 50, Loss 0.0577\n",
      "Training Accuracy: 0.9442, Testing Accuracy: 0.9546\n",
      "\n"
     ]
    },
    {
     "name": "stdout",
     "output_type": "stream",
     "text": [
      "Epoch 60, Loss 0.0543\n",
      "Training Accuracy: 0.9472, Testing Accuracy: 0.9551\n",
      "\n"
     ]
    },
    {
     "name": "stdout",
     "output_type": "stream",
     "text": [
      "Epoch 70, Loss 0.0517\n",
      "Training Accuracy: 0.9493, Testing Accuracy: 0.9551\n",
      "\n"
     ]
    },
    {
     "name": "stdout",
     "output_type": "stream",
     "text": [
      "Epoch 80, Loss 0.0495\n",
      "Training Accuracy: 0.9512, Testing Accuracy: 0.9577\n",
      "\n"
     ]
    },
    {
     "name": "stdout",
     "output_type": "stream",
     "text": [
      "Epoch 90, Loss 0.0478\n",
      "Training Accuracy: 0.9523, Testing Accuracy: 0.9597\n",
      "\n"
     ]
    },
    {
     "name": "stdout",
     "output_type": "stream",
     "text": [
      "Epoch 100, Loss 0.0463\n",
      "Training Accuracy: 0.9533, Testing Accuracy: 0.9597\n",
      "\n"
     ]
    },
    {
     "name": "stdout",
     "output_type": "stream",
     "text": [
      "Epoch 110, Loss 0.0451\n",
      "Training Accuracy: 0.9539, Testing Accuracy: 0.9612\n",
      "\n"
     ]
    },
    {
     "name": "stdout",
     "output_type": "stream",
     "text": [
      "Epoch 120, Loss 0.044\n",
      "Training Accuracy: 0.9555, Testing Accuracy: 0.9617\n",
      "\n"
     ]
    },
    {
     "name": "stdout",
     "output_type": "stream",
     "text": [
      "Epoch 130, Loss 0.043\n",
      "Training Accuracy: 0.9561, Testing Accuracy: 0.9627\n",
      "\n"
     ]
    },
    {
     "name": "stdout",
     "output_type": "stream",
     "text": [
      "Epoch 140, Loss 0.0422\n",
      "Training Accuracy: 0.9569, Testing Accuracy: 0.9622\n",
      "\n"
     ]
    },
    {
     "name": "stdout",
     "output_type": "stream",
     "text": [
      "Epoch 150, Loss 0.0414\n",
      "Training Accuracy: 0.9578, Testing Accuracy: 0.9617\n",
      "\n"
     ]
    },
    {
     "name": "stdout",
     "output_type": "stream",
     "text": [
      "Epoch 160, Loss 0.0407\n",
      "Training Accuracy: 0.9580, Testing Accuracy: 0.9617\n",
      "\n"
     ]
    },
    {
     "name": "stdout",
     "output_type": "stream",
     "text": [
      "Epoch 170, Loss 0.0401\n",
      "Training Accuracy: 0.9589, Testing Accuracy: 0.9622\n",
      "\n"
     ]
    },
    {
     "name": "stdout",
     "output_type": "stream",
     "text": [
      "Epoch 180, Loss 0.0395\n",
      "Training Accuracy: 0.9592, Testing Accuracy: 0.9627\n",
      "\n"
     ]
    },
    {
     "name": "stdout",
     "output_type": "stream",
     "text": [
      "Epoch 190, Loss 0.039\n",
      "Training Accuracy: 0.9597, Testing Accuracy: 0.9637\n",
      "\n"
     ]
    },
    {
     "name": "stdout",
     "output_type": "stream",
     "text": [
      "Epoch 200, Loss 0.0385\n",
      "Training Accuracy: 0.9600, Testing Accuracy: 0.9647\n",
      "\n"
     ]
    },
    {
     "name": "stdout",
     "output_type": "stream",
     "text": [
      "Epoch 210, Loss 0.0381\n",
      "Training Accuracy: 0.9600, Testing Accuracy: 0.9647\n",
      "\n"
     ]
    },
    {
     "name": "stdout",
     "output_type": "stream",
     "text": [
      "Epoch 220, Loss 0.0376\n",
      "Training Accuracy: 0.9601, Testing Accuracy: 0.9647\n",
      "\n"
     ]
    },
    {
     "name": "stdout",
     "output_type": "stream",
     "text": [
      "Epoch 230, Loss 0.0373\n",
      "Training Accuracy: 0.9604, Testing Accuracy: 0.9657\n",
      "\n"
     ]
    },
    {
     "name": "stdout",
     "output_type": "stream",
     "text": [
      "Epoch 240, Loss 0.0369\n",
      "Training Accuracy: 0.9605, Testing Accuracy: 0.9652\n",
      "\n"
     ]
    },
    {
     "data": {
      "text/plain": [
       "0.02774969689262319"
      ]
     },
     "execution_count": 23,
     "metadata": {},
     "output_type": "execute_result"
    }
   ],
   "source": [
    "lr_learner.train_loop(dl)"
   ]
  },
  {
   "cell_type": "code",
   "execution_count": 24,
   "id": "ca410940",
   "metadata": {
    "execution": {
     "iopub.execute_input": "2021-12-03T10:10:52.645586Z",
     "iopub.status.busy": "2021-12-03T10:10:52.636918Z",
     "iopub.status.idle": "2021-12-03T10:10:52.897049Z",
     "shell.execute_reply": "2021-12-03T10:10:52.896470Z"
    },
    "papermill": {
     "duration": 0.315816,
     "end_time": "2021-12-03T10:10:52.897191",
     "exception": false,
     "start_time": "2021-12-03T10:10:52.581375",
     "status": "completed"
    },
    "tags": []
   },
   "outputs": [
    {
     "data": {
      "text/plain": [
       "<matplotlib.legend.Legend at 0x7fbc3d3f6c18>"
      ]
     },
     "execution_count": 24,
     "metadata": {},
     "output_type": "execute_result"
    },
    {
     "data": {
      "image/png": "[encoded data removed]",
      "text/plain": [
       "<Figure size 1080x720 with 1 Axes>"
      ]
     },
     "metadata": {
      "needs_background": "light"
     },
     "output_type": "display_data"
    }
   ],
   "source": [
    "#comparing the results of NN and LR\n",
    "plt.figure(figsize=(15,10))\n",
    "\n",
    "# Neural Network plots\n",
    "plt.plot(acc_nn.accuracies, 'r-', label = \"Training Accuracies - NN\")\n",
    "plt.plot(acc_nn.test_accuracies, 'g-', label = \"Testing Accuracies - NN\")\n",
    "\n",
    "# Logistic Regression plots\n",
    "plt.plot(acc_lr.accuracies, 'k-', label = \"Training Accuracies - LR\")\n",
    "plt.plot(acc_lr.test_accuracies, 'b-', label = \"Testing Accuracies - LR\")\n",
    "plt.legend()"
   ]
  },
  {
   "cell_type": "markdown",
   "id": "80dfb35c",
   "metadata": {
    "papermill": {
     "duration": 0.048129,
     "end_time": "2021-12-03T10:10:52.993874",
     "exception": false,
     "start_time": "2021-12-03T10:10:52.945745",
     "status": "completed"
    },
    "tags": []
   },
   "source": [
    "#### Plotting the outputs of this layer of the NN.\n"
   ]
  },
  {
   "cell_type": "code",
   "execution_count": 25,
   "id": "45eb2ff5",
   "metadata": {
    "execution": {
     "iopub.execute_input": "2021-12-03T10:10:53.095681Z",
     "iopub.status.busy": "2021-12-03T10:10:53.095055Z",
     "iopub.status.idle": "2021-12-03T10:10:53.117593Z",
     "shell.execute_reply": "2021-12-03T10:10:53.118122Z"
    },
    "papermill": {
     "duration": 0.076273,
     "end_time": "2021-12-03T10:10:53.118284",
     "exception": false,
     "start_time": "2021-12-03T10:10:53.042011",
     "status": "completed"
    },
    "tags": []
   },
   "outputs": [],
   "source": [
    "new_model = Model(layers[:-2])\n",
    "testing_plot = new_model(testing_data_x)"
   ]
  },
  {
   "cell_type": "code",
   "execution_count": 26,
   "id": "4c0a5485",
   "metadata": {
    "execution": {
     "iopub.execute_input": "2021-12-03T10:10:53.220358Z",
     "iopub.status.busy": "2021-12-03T10:10:53.219750Z",
     "iopub.status.idle": "2021-12-03T10:10:53.454481Z",
     "shell.execute_reply": "2021-12-03T10:10:53.455079Z"
    },
    "papermill": {
     "duration": 0.287751,
     "end_time": "2021-12-03T10:10:53.455243",
     "exception": false,
     "start_time": "2021-12-03T10:10:53.167492",
     "status": "completed"
    },
    "tags": []
   },
   "outputs": [
    {
     "data": {
      "text/plain": [
       "Text(0.5, 1.0, 'Outputs')"
      ]
     },
     "execution_count": 26,
     "metadata": {},
     "output_type": "execute_result"
    },
    {
     "data": {
      "image/png": "[encoded data removed]",
      "text/plain": [
       "<Figure size 576x504 with 1 Axes>"
      ]
     },
     "metadata": {
      "needs_background": "light"
     },
     "output_type": "display_data"
    }
   ],
   "source": [
    "# Plotting the scatter plot of points and color coding by class\n",
    "plt.figure(figsize=(8,7))\n",
    "plt.scatter(testing_plot[:,0], testing_plot[:,1], alpha = 0.1, c = y_test.ravel());\n",
    "plt.title('Outputs')"
   ]
  },
  {
   "cell_type": "markdown",
   "id": "a74fcf8f",
   "metadata": {
    "papermill": {
     "duration": 0.05071,
     "end_time": "2021-12-03T10:10:53.557061",
     "exception": false,
     "start_time": "2021-12-03T10:10:53.506351",
     "status": "completed"
    },
    "tags": []
   },
   "source": [
    "Probability contours"
   ]
  },
  {
   "cell_type": "code",
   "execution_count": 27,
   "id": "d0afc8e3",
   "metadata": {
    "execution": {
     "iopub.execute_input": "2021-12-03T10:10:53.666422Z",
     "iopub.status.busy": "2021-12-03T10:10:53.665688Z",
     "iopub.status.idle": "2021-12-03T10:10:53.676232Z",
     "shell.execute_reply": "2021-12-03T10:10:53.675714Z"
    },
    "papermill": {
     "duration": 0.068418,
     "end_time": "2021-12-03T10:10:53.676373",
     "exception": false,
     "start_time": "2021-12-03T10:10:53.607955",
     "status": "completed"
    },
    "tags": []
   },
   "outputs": [],
   "source": [
    "model_prob = Model(layers[-2:]) "
   ]
  },
  {
   "cell_type": "code",
   "execution_count": 28,
   "id": "9b96e238",
   "metadata": {
    "execution": {
     "iopub.execute_input": "2021-12-03T10:10:53.831930Z",
     "iopub.status.busy": "2021-12-03T10:10:53.829935Z",
     "iopub.status.idle": "2021-12-03T10:10:53.844520Z",
     "shell.execute_reply": "2021-12-03T10:10:53.845007Z"
    },
    "papermill": {
     "duration": 0.078125,
     "end_time": "2021-12-03T10:10:53.845173",
     "exception": false,
     "start_time": "2021-12-03T10:10:53.767048",
     "status": "completed"
    },
    "tags": []
   },
   "outputs": [],
   "source": [
    "#creating the x and y ranges according to the above generated plot.\n",
    "x_range = np.linspace(-4, 1, 100) \n",
    "y_range = np.linspace(-6, 6, 100) \n",
    "x_grid, y_grid = np.meshgrid(x_range, y_range) # x_grid and y_grig are of size 100 X 100\n",
    "\n",
    "# converting x_grid and y_grid to continuous arrays\n",
    "x_gridflat = np.ravel(x_grid)\n",
    "y_gridflat = np.ravel(y_grid)\n",
    "\n",
    "# The last layer of the current model takes two columns as input. Hence transpose of np.vstack() is required.\n",
    "X = np.vstack((x_gridflat, y_gridflat)).T\n",
    "\n",
    "prob_contour = model_prob(X).reshape(100,100) "
   ]
  },
  {
   "cell_type": "code",
   "execution_count": 29,
   "id": "da72499a",
   "metadata": {
    "execution": {
     "iopub.execute_input": "2021-12-03T10:10:53.958572Z",
     "iopub.status.busy": "2021-12-03T10:10:53.957933Z",
     "iopub.status.idle": "2021-12-03T10:10:54.239814Z",
     "shell.execute_reply": "2021-12-03T10:10:54.240313Z"
    },
    "papermill": {
     "duration": 0.341872,
     "end_time": "2021-12-03T10:10:54.240469",
     "exception": false,
     "start_time": "2021-12-03T10:10:53.898597",
     "status": "completed"
    },
    "tags": []
   },
   "outputs": [
    {
     "data": {
      "image/png": "[encoded data removed]",
      "text/plain": [
       "<Figure size 720x648 with 1 Axes>"
      ]
     },
     "metadata": {
      "needs_background": "light"
     },
     "output_type": "display_data"
    }
   ],
   "source": [
    "plt.figure(figsize=(10,9))\n",
    "plt.scatter(testing_plot[:,0], testing_plot[:,1], alpha = 0.1, c = y_test.ravel())\n",
    "contours = plt.contour(x_grid,y_grid,prob_contour)\n",
    "plt.title('Probability Contours')\n",
    "plt.clabel(contours, inline = True );"
   ]
  },
  {
   "cell_type": "code",
   "execution_count": null,
   "id": "e81b4ac7",
   "metadata": {
    "papermill": {
     "duration": 0.053552,
     "end_time": "2021-12-03T10:10:54.348127",
     "exception": false,
     "start_time": "2021-12-03T10:10:54.294575",
     "status": "completed"
    },
    "tags": []
   },
   "outputs": [],
   "source": []
  }
 ],
 "metadata": {
  "kernelspec": {
   "display_name": "Python 3",
   "language": "python",
   "name": "python3"
  },
  "language_info": {
   "codemirror_mode": {
    "name": "ipython",
    "version": 3
   },
   "file_extension": ".py",
   "mimetype": "text/x-python",
   "name": "python",
   "nbconvert_exporter": "python",
   "pygments_lexer": "ipython3",
   "version": "3.6.15"
  },
  "papermill": {
   "default_parameters": {},
   "duration": 115.57156,
   "end_time": "2021-12-03T10:10:54.912653",
   "environment_variables": {},
   "exception": null,
   "input_path": "2020-08-11-part2.ipynb",
   "output_path": "2020-08-11-part2.ipynb",
   "parameters": {},
   "start_time": "2021-12-03T10:08:59.341093",
   "version": "2.3.3"
  }
 },
 "nbformat": 4,
 "nbformat_minor": 5
}