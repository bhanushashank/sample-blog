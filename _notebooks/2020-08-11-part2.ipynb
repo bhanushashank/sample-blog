{
 "cells": [
  {
   "cell_type": "markdown",
   "id": "98380cd3",
   "metadata": {
    "papermill": {
     "duration": 0.033549,
     "end_time": "2022-11-15T20:12:04.946471",
     "exception": false,
     "start_time": "2022-11-15T20:12:04.912922",
     "status": "completed"
    },
    "tags": []
   },
   "source": [
    "# Distinguish Your Own Digits (DYOD)"
   ]
  },
  {
   "cell_type": "markdown",
   "id": "ef31240d",
   "metadata": {
    "papermill": {
     "duration": 0.025825,
     "end_time": "2022-11-15T20:12:04.999414",
     "exception": false,
     "start_time": "2022-11-15T20:12:04.973589",
     "status": "completed"
    },
    "tags": []
   },
   "source": [
    "You are going to write a classifier that distinguishes between the number 3 and number 8."
   ]
  },
  {
   "cell_type": "code",
   "execution_count": 1,
   "id": "b15c8646",
   "metadata": {
    "execution": {
     "iopub.execute_input": "2022-11-15T20:12:05.064593Z",
     "iopub.status.busy": "2022-11-15T20:12:05.063817Z",
     "iopub.status.idle": "2022-11-15T20:12:05.075798Z",
     "shell.execute_reply": "2022-11-15T20:12:05.076383Z"
    },
    "papermill": {
     "duration": 0.051147,
     "end_time": "2022-11-15T20:12:05.076573",
     "exception": false,
     "start_time": "2022-11-15T20:12:05.025426",
     "status": "completed"
    },
    "tags": []
   },
   "outputs": [],
   "source": [
    "%load_ext autoreload\n",
    "%autoreload 2"
   ]
  },
  {
   "cell_type": "code",
   "execution_count": 2,
   "id": "22ef38dc",
   "metadata": {
    "execution": {
     "iopub.execute_input": "2022-11-15T20:12:05.136592Z",
     "iopub.status.busy": "2022-11-15T20:12:05.135870Z",
     "iopub.status.idle": "2022-11-15T20:12:05.735647Z",
     "shell.execute_reply": "2022-11-15T20:12:05.734822Z"
    },
    "papermill": {
     "duration": 0.633115,
     "end_time": "2022-11-15T20:12:05.735829",
     "exception": false,
     "start_time": "2022-11-15T20:12:05.102714",
     "status": "completed"
    },
    "tags": []
   },
   "outputs": [],
   "source": [
    "%matplotlib inline\n",
    "import numpy as np\n",
    "import matplotlib.pyplot as plt\n",
    "import pandas as pd"
   ]
  },
  {
   "cell_type": "markdown",
   "id": "ba036198",
   "metadata": {
    "papermill": {
     "duration": 0.027398,
     "end_time": "2022-11-15T20:12:05.790219",
     "exception": false,
     "start_time": "2022-11-15T20:12:05.762821",
     "status": "completed"
    },
    "tags": []
   },
   "source": [
    "From the command line run `pip install mnist`. This is a library that will help you bring down the mnist dataset. If you run this from a notebook, you need to put  `!pip install mnist` in a cell by itself."
   ]
  },
  {
   "cell_type": "code",
   "execution_count": 3,
   "id": "bb6ad8a1",
   "metadata": {
    "execution": {
     "iopub.execute_input": "2022-11-15T20:12:05.850775Z",
     "iopub.status.busy": "2022-11-15T20:12:05.850082Z",
     "iopub.status.idle": "2022-11-15T20:12:07.629667Z",
     "shell.execute_reply": "2022-11-15T20:12:07.628732Z"
    },
    "papermill": {
     "duration": 1.812178,
     "end_time": "2022-11-15T20:12:07.629883",
     "exception": false,
     "start_time": "2022-11-15T20:12:05.817705",
     "status": "completed"
    },
    "tags": []
   },
   "outputs": [
    {
     "name": "stdout",
     "output_type": "stream",
     "text": [
      "Collecting mnist\r\n"
     ]
    },
    {
     "name": "stdout",
     "output_type": "stream",
     "text": [
      "  Downloading mnist-0.2.2-py2.py3-none-any.whl (3.5 kB)\r\n",
      "Requirement already satisfied: numpy in /opt/hostedtoolcache/Python/3.6.15/x64/lib/python3.6/site-packages (from mnist) (1.19.5)\r\n"
     ]
    },
    {
     "name": "stdout",
     "output_type": "stream",
     "text": [
      "Installing collected packages: mnist\r\n",
      "Successfully installed mnist-0.2.2\r\n"
     ]
    }
   ],
   "source": [
    "!pip install mnist"
   ]
  },
  {
   "cell_type": "markdown",
   "id": "69df9c9a",
   "metadata": {
    "papermill": {
     "duration": 0.027247,
     "end_time": "2022-11-15T20:12:07.686697",
     "exception": false,
     "start_time": "2022-11-15T20:12:07.659450",
     "status": "completed"
    },
    "tags": []
   },
   "source": [
    "## Preparing the Data"
   ]
  },
  {
   "cell_type": "code",
   "execution_count": 4,
   "id": "7f69d806",
   "metadata": {
    "execution": {
     "iopub.execute_input": "2022-11-15T20:12:07.752807Z",
     "iopub.status.busy": "2022-11-15T20:12:07.746455Z",
     "iopub.status.idle": "2022-11-15T20:12:07.763781Z",
     "shell.execute_reply": "2022-11-15T20:12:07.763221Z"
    },
    "papermill": {
     "duration": 0.049749,
     "end_time": "2022-11-15T20:12:07.763900",
     "exception": false,
     "start_time": "2022-11-15T20:12:07.714151",
     "status": "completed"
    },
    "tags": []
   },
   "outputs": [],
   "source": [
    "import mnist"
   ]
  },
  {
   "cell_type": "code",
   "execution_count": 5,
   "id": "a411e44f",
   "metadata": {
    "execution": {
     "iopub.execute_input": "2022-11-15T20:12:07.823485Z",
     "iopub.status.busy": "2022-11-15T20:12:07.822817Z",
     "iopub.status.idle": "2022-11-15T20:12:08.415441Z",
     "shell.execute_reply": "2022-11-15T20:12:08.416021Z"
    },
    "papermill": {
     "duration": 0.624648,
     "end_time": "2022-11-15T20:12:08.416185",
     "exception": false,
     "start_time": "2022-11-15T20:12:07.791537",
     "status": "completed"
    },
    "tags": []
   },
   "outputs": [],
   "source": [
    "train_images = mnist.train_images()\n",
    "train_labels = mnist.train_labels()"
   ]
  },
  {
   "cell_type": "code",
   "execution_count": 6,
   "id": "dceab3a5",
   "metadata": {
    "execution": {
     "iopub.execute_input": "2022-11-15T20:12:08.476908Z",
     "iopub.status.busy": "2022-11-15T20:12:08.476180Z",
     "iopub.status.idle": "2022-11-15T20:12:08.492311Z",
     "shell.execute_reply": "2022-11-15T20:12:08.491756Z"
    },
    "papermill": {
     "duration": 0.048769,
     "end_time": "2022-11-15T20:12:08.492460",
     "exception": false,
     "start_time": "2022-11-15T20:12:08.443691",
     "status": "completed"
    },
    "tags": []
   },
   "outputs": [
    {
     "data": {
      "text/plain": [
       "((60000, 28, 28), (60000,))"
      ]
     },
     "execution_count": 6,
     "metadata": {},
     "output_type": "execute_result"
    }
   ],
   "source": [
    "train_images.shape, train_labels.shape"
   ]
  },
  {
   "cell_type": "code",
   "execution_count": 7,
   "id": "f50dc2bb",
   "metadata": {
    "execution": {
     "iopub.execute_input": "2022-11-15T20:12:08.553658Z",
     "iopub.status.busy": "2022-11-15T20:12:08.553045Z",
     "iopub.status.idle": "2022-11-15T20:12:08.679716Z",
     "shell.execute_reply": "2022-11-15T20:12:08.679103Z"
    },
    "papermill": {
     "duration": 0.160081,
     "end_time": "2022-11-15T20:12:08.679852",
     "exception": false,
     "start_time": "2022-11-15T20:12:08.519771",
     "status": "completed"
    },
    "tags": []
   },
   "outputs": [],
   "source": [
    "test_images = mnist.test_images()\n",
    "test_labels = mnist.test_labels()"
   ]
  },
  {
   "cell_type": "code",
   "execution_count": 8,
   "id": "fc38cf1b",
   "metadata": {
    "execution": {
     "iopub.execute_input": "2022-11-15T20:12:08.742219Z",
     "iopub.status.busy": "2022-11-15T20:12:08.741541Z",
     "iopub.status.idle": "2022-11-15T20:12:08.755053Z",
     "shell.execute_reply": "2022-11-15T20:12:08.755572Z"
    },
    "papermill": {
     "duration": 0.048446,
     "end_time": "2022-11-15T20:12:08.755713",
     "exception": false,
     "start_time": "2022-11-15T20:12:08.707267",
     "status": "completed"
    },
    "tags": []
   },
   "outputs": [
    {
     "data": {
      "text/plain": [
       "((10000, 28, 28), (10000,))"
      ]
     },
     "execution_count": 8,
     "metadata": {},
     "output_type": "execute_result"
    }
   ],
   "source": [
    "test_images.shape, test_labels.shape"
   ]
  },
  {
   "cell_type": "code",
   "execution_count": 9,
   "id": "f9ed8fe0",
   "metadata": {
    "execution": {
     "iopub.execute_input": "2022-11-15T20:12:08.815625Z",
     "iopub.status.busy": "2022-11-15T20:12:08.814221Z",
     "iopub.status.idle": "2022-11-15T20:12:08.972773Z",
     "shell.execute_reply": "2022-11-15T20:12:08.972187Z"
    },
    "papermill": {
     "duration": 0.189916,
     "end_time": "2022-11-15T20:12:08.972907",
     "exception": false,
     "start_time": "2022-11-15T20:12:08.782991",
     "status": "completed"
    },
    "tags": []
   },
   "outputs": [
    {
     "name": "stdout",
     "output_type": "stream",
     "text": [
      "2\n"
     ]
    },
    {
     "data": {
      "text/plain": [
       "<matplotlib.image.AxesImage at 0x7f20e7016dd8>"
      ]
     },
     "execution_count": 9,
     "metadata": {},
     "output_type": "execute_result"
    },
    {
     "data": {
      "image/png": "[encoded data removed]",
      "text/plain": [
       "<Figure size 432x288 with 1 Axes>"
      ]
     },
     "metadata": {
      "needs_background": "light"
     },
     "output_type": "display_data"
    }
   ],
   "source": [
    "image_index = 7776 # You may select anything up to 60,000\n",
    "print(train_labels[image_index]) \n",
    "plt.imshow(train_images[image_index], cmap='Greys')"
   ]
  },
  {
   "cell_type": "markdown",
   "id": "a8d2388d",
   "metadata": {
    "papermill": {
     "duration": 0.029638,
     "end_time": "2022-11-15T20:12:09.032031",
     "exception": false,
     "start_time": "2022-11-15T20:12:09.002393",
     "status": "completed"
    },
    "tags": []
   },
   "source": [
    "## Filter data to get 3 and 8 out"
   ]
  },
  {
   "cell_type": "code",
   "execution_count": 10,
   "id": "776f7fc7",
   "metadata": {
    "execution": {
     "iopub.execute_input": "2022-11-15T20:12:09.097081Z",
     "iopub.status.busy": "2022-11-15T20:12:09.096349Z",
     "iopub.status.idle": "2022-11-15T20:12:09.115815Z",
     "shell.execute_reply": "2022-11-15T20:12:09.115250Z"
    },
    "papermill": {
     "duration": 0.05503,
     "end_time": "2022-11-15T20:12:09.115943",
     "exception": false,
     "start_time": "2022-11-15T20:12:09.060913",
     "status": "completed"
    },
    "tags": []
   },
   "outputs": [],
   "source": [
    "train_filter = np.where((train_labels == 3 ) | (train_labels == 8))\n",
    "test_filter = np.where((test_labels == 3) | (test_labels == 8))\n",
    "X_train, y_train = train_images[train_filter], train_labels[train_filter]\n",
    "X_test, y_test = test_images[test_filter], test_labels[test_filter]"
   ]
  },
  {
   "cell_type": "markdown",
   "id": "948f0b7e",
   "metadata": {
    "papermill": {
     "duration": 0.028701,
     "end_time": "2022-11-15T20:12:09.173277",
     "exception": false,
     "start_time": "2022-11-15T20:12:09.144576",
     "status": "completed"
    },
    "tags": []
   },
   "source": [
    "We normalize the pizel values in the 0 to 1 range"
   ]
  },
  {
   "cell_type": "code",
   "execution_count": 11,
   "id": "ee4c2166",
   "metadata": {
    "execution": {
     "iopub.execute_input": "2022-11-15T20:12:09.236239Z",
     "iopub.status.busy": "2022-11-15T20:12:09.235530Z",
     "iopub.status.idle": "2022-11-15T20:12:09.289525Z",
     "shell.execute_reply": "2022-11-15T20:12:09.288930Z"
    },
    "papermill": {
     "duration": 0.087524,
     "end_time": "2022-11-15T20:12:09.289672",
     "exception": false,
     "start_time": "2022-11-15T20:12:09.202148",
     "status": "completed"
    },
    "tags": []
   },
   "outputs": [],
   "source": [
    "X_train = X_train/255.\n",
    "X_test = X_test/255."
   ]
  },
  {
   "cell_type": "markdown",
   "id": "ddcf4fab",
   "metadata": {
    "papermill": {
     "duration": 0.029029,
     "end_time": "2022-11-15T20:12:09.347905",
     "exception": false,
     "start_time": "2022-11-15T20:12:09.318876",
     "status": "completed"
    },
    "tags": []
   },
   "source": [
    "And setup the labels as 1 (when the digit is 3) and 0 (when the digit is 8)"
   ]
  },
  {
   "cell_type": "code",
   "execution_count": 12,
   "id": "7dc908f2",
   "metadata": {
    "execution": {
     "iopub.execute_input": "2022-11-15T20:12:09.411714Z",
     "iopub.status.busy": "2022-11-15T20:12:09.411043Z",
     "iopub.status.idle": "2022-11-15T20:12:09.424063Z",
     "shell.execute_reply": "2022-11-15T20:12:09.424594Z"
    },
    "papermill": {
     "duration": 0.047712,
     "end_time": "2022-11-15T20:12:09.424746",
     "exception": false,
     "start_time": "2022-11-15T20:12:09.377034",
     "status": "completed"
    },
    "tags": []
   },
   "outputs": [],
   "source": [
    "y_train = 1*(y_train==3)\n",
    "y_test = 1*(y_test==3)"
   ]
  },
  {
   "cell_type": "code",
   "execution_count": 13,
   "id": "01e4e969",
   "metadata": {
    "execution": {
     "iopub.execute_input": "2022-11-15T20:12:09.490384Z",
     "iopub.status.busy": "2022-11-15T20:12:09.489726Z",
     "iopub.status.idle": "2022-11-15T20:12:09.503873Z",
     "shell.execute_reply": "2022-11-15T20:12:09.503261Z"
    },
    "papermill": {
     "duration": 0.050381,
     "end_time": "2022-11-15T20:12:09.503991",
     "exception": false,
     "start_time": "2022-11-15T20:12:09.453610",
     "status": "completed"
    },
    "tags": []
   },
   "outputs": [
    {
     "data": {
      "text/plain": [
       "((11982, 28, 28), (1984, 28, 28))"
      ]
     },
     "execution_count": 13,
     "metadata": {},
     "output_type": "execute_result"
    }
   ],
   "source": [
    "X_train.shape, X_test.shape"
   ]
  },
  {
   "cell_type": "markdown",
   "id": "5ccf3f85",
   "metadata": {
    "papermill": {
     "duration": 0.028992,
     "end_time": "2022-11-15T20:12:09.562428",
     "exception": false,
     "start_time": "2022-11-15T20:12:09.533436",
     "status": "completed"
    },
    "tags": []
   },
   "source": [
    "We reshape the data to flatten the image pixels into a set of features or co-variates:"
   ]
  },
  {
   "cell_type": "code",
   "execution_count": 14,
   "id": "5286a4a3",
   "metadata": {
    "execution": {
     "iopub.execute_input": "2022-11-15T20:12:09.626104Z",
     "iopub.status.busy": "2022-11-15T20:12:09.625418Z",
     "iopub.status.idle": "2022-11-15T20:12:09.642577Z",
     "shell.execute_reply": "2022-11-15T20:12:09.643131Z"
    },
    "papermill": {
     "duration": 0.051561,
     "end_time": "2022-11-15T20:12:09.643284",
     "exception": false,
     "start_time": "2022-11-15T20:12:09.591723",
     "status": "completed"
    },
    "tags": []
   },
   "outputs": [
    {
     "data": {
      "text/plain": [
       "((11982, 784), (1984, 784))"
      ]
     },
     "execution_count": 14,
     "metadata": {},
     "output_type": "execute_result"
    }
   ],
   "source": [
    "X_train = X_train.reshape(X_train.shape[0], -1)\n",
    "X_test = X_test.reshape(X_test.shape[0], -1)\n",
    "X_train.shape, X_test.shape"
   ]
  },
  {
   "cell_type": "code",
   "execution_count": 15,
   "id": "73c5f88a",
   "metadata": {
    "execution": {
     "iopub.execute_input": "2022-11-15T20:12:09.706913Z",
     "iopub.status.busy": "2022-11-15T20:12:09.706236Z",
     "iopub.status.idle": "2022-11-15T20:12:09.727168Z",
     "shell.execute_reply": "2022-11-15T20:12:09.726621Z"
    },
    "papermill": {
     "duration": 0.055044,
     "end_time": "2022-11-15T20:12:09.727298",
     "exception": false,
     "start_time": "2022-11-15T20:12:09.672254",
     "status": "completed"
    },
    "tags": []
   },
   "outputs": [],
   "source": [
    "#Impoting functions from 'Kudzu'\n",
    "from kudzu.model import Model\n",
    "from kudzu.train import Learner\n",
    "from kudzu.optim import GD\n",
    "from kudzu.data import Data, Sampler,Dataloader\n",
    "\n",
    "from kudzu.callbacks import AccCallback\n",
    "from kudzu.callbacks import ClfCallback\n",
    "\n",
    "from kudzu.loss import MSE\n",
    "\n",
    "from kudzu.layer import Sigmoid,Relu\n",
    "from kudzu.layer import Affine"
   ]
  },
  {
   "cell_type": "markdown",
   "id": "bc01172a",
   "metadata": {
    "papermill": {
     "duration": 0.028971,
     "end_time": "2022-11-15T20:12:09.785677",
     "exception": false,
     "start_time": "2022-11-15T20:12:09.756706",
     "status": "completed"
    },
    "tags": []
   },
   "source": [
    "### Let us create a `Config` class, to store important parameters. \n",
    "This class essentially plays the role of a dictionary."
   ]
  },
  {
   "cell_type": "code",
   "execution_count": 16,
   "id": "978281aa",
   "metadata": {
    "execution": {
     "iopub.execute_input": "2022-11-15T20:12:09.848384Z",
     "iopub.status.busy": "2022-11-15T20:12:09.847711Z",
     "iopub.status.idle": "2022-11-15T20:12:09.861487Z",
     "shell.execute_reply": "2022-11-15T20:12:09.862002Z"
    },
    "papermill": {
     "duration": 0.047679,
     "end_time": "2022-11-15T20:12:09.862143",
     "exception": false,
     "start_time": "2022-11-15T20:12:09.814464",
     "status": "completed"
    },
    "tags": []
   },
   "outputs": [],
   "source": [
    "class Config:\n",
    "    pass\n",
    "config = Config()\n",
    "config.lr = 0.001\n",
    "config.num_epochs = 250\n",
    "config.bs = 50"
   ]
  },
  {
   "cell_type": "markdown",
   "id": "1385fa59",
   "metadata": {
    "papermill": {
     "duration": 0.029182,
     "end_time": "2022-11-15T20:12:09.920729",
     "exception": false,
     "start_time": "2022-11-15T20:12:09.891547",
     "status": "completed"
    },
    "tags": []
   },
   "source": [
    "### Running Models with the Training data\n",
    "Details about the network layers:\n",
    "- A first affine layer has 784 inputs and does 100 affine transforms. These are followed by a Relu\n",
    "- A second affine layer has 100 inputs from the 100 activations of the past layer, and does 100 affine transforms. These are followed by a Relu\n",
    "- A third affine layer has 100 activations and does 2 affine transformations to create an embedding for visualization. There is no non-linearity here.\n",
    "- A final \"logistic regression\" which has an affine transform from 2 inputs to 1 output, which is squeezed through a sigmoid.\n"
   ]
  },
  {
   "cell_type": "code",
   "execution_count": 17,
   "id": "2b9c66db",
   "metadata": {
    "execution": {
     "iopub.execute_input": "2022-11-15T20:12:09.986134Z",
     "iopub.status.busy": "2022-11-15T20:12:09.985516Z",
     "iopub.status.idle": "2022-11-15T20:12:10.000640Z",
     "shell.execute_reply": "2022-11-15T20:12:10.000062Z"
    },
    "papermill": {
     "duration": 0.050098,
     "end_time": "2022-11-15T20:12:10.000777",
     "exception": false,
     "start_time": "2022-11-15T20:12:09.950679",
     "status": "completed"
    },
    "tags": []
   },
   "outputs": [],
   "source": [
    "data = Data(X_train, y_train.reshape(-1,1))\n",
    "sampler = Sampler(data, config.bs, shuffle=True)\n",
    "\n",
    "dl = Dataloader(data, sampler)\n",
    "\n",
    "opt = GD(config.lr)\n",
    "loss = MSE()"
   ]
  },
  {
   "cell_type": "code",
   "execution_count": 18,
   "id": "b275e4c2",
   "metadata": {
    "execution": {
     "iopub.execute_input": "2022-11-15T20:12:10.069025Z",
     "iopub.status.busy": "2022-11-15T20:12:10.068275Z",
     "iopub.status.idle": "2022-11-15T20:12:10.081902Z",
     "shell.execute_reply": "2022-11-15T20:12:10.081378Z"
    },
    "papermill": {
     "duration": 0.05226,
     "end_time": "2022-11-15T20:12:10.082024",
     "exception": false,
     "start_time": "2022-11-15T20:12:10.029764",
     "status": "completed"
    },
    "tags": []
   },
   "outputs": [],
   "source": [
    "training_data_x = X_train\n",
    "testing_data_x = X_test\n",
    "training_data_y = y_train.reshape(-1,1)\n",
    "testing_data_y = y_test.reshape(-1,1)"
   ]
  },
  {
   "cell_type": "code",
   "execution_count": 19,
   "id": "76951160",
   "metadata": {
    "execution": {
     "iopub.execute_input": "2022-11-15T20:12:10.150411Z",
     "iopub.status.busy": "2022-11-15T20:12:10.149748Z",
     "iopub.status.idle": "2022-11-15T20:12:10.167116Z",
     "shell.execute_reply": "2022-11-15T20:12:10.167632Z"
    },
    "papermill": {
     "duration": 0.056529,
     "end_time": "2022-11-15T20:12:10.167778",
     "exception": false,
     "start_time": "2022-11-15T20:12:10.111249",
     "status": "completed"
    },
    "tags": []
   },
   "outputs": [
    {
     "name": "stdout",
     "output_type": "stream",
     "text": [
      "xavier\n",
      "xavier\n",
      "xavier\n",
      "xavier\n",
      "xavier\n"
     ]
    }
   ],
   "source": [
    "layers = [Affine(\"first\", 784, 100), Relu(\"first\"), Affine(\"second\", 100, 100), Relu(\"second\"), Affine(\"third\", 100, 2), Affine(\"last\", 2, 1), Sigmoid(\"last\")]\n",
    "model_nn = Model(layers)\n",
    "model_lr = Model([Affine(\"logits\", 784, 1), Sigmoid(\"sigmoid\")])"
   ]
  },
  {
   "cell_type": "code",
   "execution_count": 20,
   "id": "6eede77a",
   "metadata": {
    "execution": {
     "iopub.execute_input": "2022-11-15T20:12:10.232924Z",
     "iopub.status.busy": "2022-11-15T20:12:10.232208Z",
     "iopub.status.idle": "2022-11-15T20:12:10.245887Z",
     "shell.execute_reply": "2022-11-15T20:12:10.245386Z"
    },
    "papermill": {
     "duration": 0.048352,
     "end_time": "2022-11-15T20:12:10.245998",
     "exception": false,
     "start_time": "2022-11-15T20:12:10.197646",
     "status": "completed"
    },
    "tags": []
   },
   "outputs": [],
   "source": [
    "nn_learner = Learner(loss, model_nn, opt, config.num_epochs)\n",
    "acc_nn = ClfCallback(nn_learner, config.bs, training_data_x , testing_data_x, training_data_y, testing_data_y)\n",
    "nn_learner.set_callbacks([acc_nn])"
   ]
  },
  {
   "cell_type": "code",
   "execution_count": 21,
   "id": "877b6cc7",
   "metadata": {
    "execution": {
     "iopub.execute_input": "2022-11-15T20:12:10.310658Z",
     "iopub.status.busy": "2022-11-15T20:12:10.310033Z",
     "iopub.status.idle": "2022-11-15T20:12:10.325563Z",
     "shell.execute_reply": "2022-11-15T20:12:10.325061Z"
    },
    "papermill": {
     "duration": 0.050231,
     "end_time": "2022-11-15T20:12:10.325673",
     "exception": false,
     "start_time": "2022-11-15T20:12:10.275442",
     "status": "completed"
    },
    "tags": []
   },
   "outputs": [],
   "source": [
    "lr_learner = Learner(loss, model_lr, opt, config.num_epochs)\n",
    "acc_lr = ClfCallback(lr_learner, config.bs, training_data_x , testing_data_x, training_data_y, testing_data_y)\n",
    "lr_learner.set_callbacks([acc_lr])"
   ]
  },
  {
   "cell_type": "code",
   "execution_count": 22,
   "id": "d9b133c3",
   "metadata": {
    "execution": {
     "iopub.execute_input": "2022-11-15T20:12:10.389987Z",
     "iopub.status.busy": "2022-11-15T20:12:10.389327Z",
     "iopub.status.idle": "2022-11-15T20:13:37.042848Z",
     "shell.execute_reply": "2022-11-15T20:13:37.043850Z"
    },
    "papermill": {
     "duration": 86.689133,
     "end_time": "2022-11-15T20:13:37.044017",
     "exception": false,
     "start_time": "2022-11-15T20:12:10.354884",
     "status": "completed"
    },
    "tags": []
   },
   "outputs": [
    {
     "name": "stdout",
     "output_type": "stream",
     "text": [
      "Epoch 0, Loss 0.2378\n",
      "Training Accuracy: 0.6952, Testing Accuracy: 0.7162\n",
      "\n"
     ]
    },
    {
     "name": "stdout",
     "output_type": "stream",
     "text": [
      "Epoch 10, Loss 0.0876\n",
      "Training Accuracy: 0.9113, Testing Accuracy: 0.9244\n",
      "\n"
     ]
    },
    {
     "name": "stdout",
     "output_type": "stream",
     "text": [
      "Epoch 20, Loss 0.0563\n",
      "Training Accuracy: 0.9399, Testing Accuracy: 0.9446\n",
      "\n"
     ]
    },
    {
     "name": "stdout",
     "output_type": "stream",
     "text": [
      "Epoch 30, Loss 0.0444\n",
      "Training Accuracy: 0.9490, Testing Accuracy: 0.9582\n",
      "\n"
     ]
    },
    {
     "name": "stdout",
     "output_type": "stream",
     "text": [
      "Epoch 40, Loss 0.0383\n",
      "Training Accuracy: 0.9557, Testing Accuracy: 0.9627\n",
      "\n"
     ]
    },
    {
     "name": "stdout",
     "output_type": "stream",
     "text": [
      "Epoch 50, Loss 0.0344\n",
      "Training Accuracy: 0.9597, Testing Accuracy: 0.9682\n",
      "\n"
     ]
    },
    {
     "name": "stdout",
     "output_type": "stream",
     "text": [
      "Epoch 60, Loss 0.0318\n",
      "Training Accuracy: 0.9622, Testing Accuracy: 0.9718\n",
      "\n"
     ]
    },
    {
     "name": "stdout",
     "output_type": "stream",
     "text": [
      "Epoch 70, Loss 0.0298\n",
      "Training Accuracy: 0.9645, Testing Accuracy: 0.9723\n",
      "\n"
     ]
    },
    {
     "name": "stdout",
     "output_type": "stream",
     "text": [
      "Epoch 80, Loss 0.0282\n",
      "Training Accuracy: 0.9674, Testing Accuracy: 0.9733\n",
      "\n"
     ]
    },
    {
     "name": "stdout",
     "output_type": "stream",
     "text": [
      "Epoch 90, Loss 0.027\n",
      "Training Accuracy: 0.9688, Testing Accuracy: 0.9748\n",
      "\n"
     ]
    },
    {
     "name": "stdout",
     "output_type": "stream",
     "text": [
      "Epoch 100, Loss 0.0259\n",
      "Training Accuracy: 0.9699, Testing Accuracy: 0.9743\n",
      "\n"
     ]
    },
    {
     "name": "stdout",
     "output_type": "stream",
     "text": [
      "Epoch 110, Loss 0.0249\n",
      "Training Accuracy: 0.9705, Testing Accuracy: 0.9748\n",
      "\n"
     ]
    },
    {
     "name": "stdout",
     "output_type": "stream",
     "text": [
      "Epoch 120, Loss 0.0241\n",
      "Training Accuracy: 0.9710, Testing Accuracy: 0.9743\n",
      "\n"
     ]
    },
    {
     "name": "stdout",
     "output_type": "stream",
     "text": [
      "Epoch 130, Loss 0.0233\n",
      "Training Accuracy: 0.9720, Testing Accuracy: 0.9743\n",
      "\n"
     ]
    },
    {
     "name": "stdout",
     "output_type": "stream",
     "text": [
      "Epoch 140, Loss 0.0226\n",
      "Training Accuracy: 0.9735, Testing Accuracy: 0.9743\n",
      "\n"
     ]
    },
    {
     "name": "stdout",
     "output_type": "stream",
     "text": [
      "Epoch 150, Loss 0.0219\n",
      "Training Accuracy: 0.9744, Testing Accuracy: 0.9743\n",
      "\n"
     ]
    },
    {
     "name": "stdout",
     "output_type": "stream",
     "text": [
      "Epoch 160, Loss 0.0213\n",
      "Training Accuracy: 0.9750, Testing Accuracy: 0.9753\n",
      "\n"
     ]
    },
    {
     "name": "stdout",
     "output_type": "stream",
     "text": [
      "Epoch 170, Loss 0.0208\n",
      "Training Accuracy: 0.9759, Testing Accuracy: 0.9753\n",
      "\n"
     ]
    },
    {
     "name": "stdout",
     "output_type": "stream",
     "text": [
      "Epoch 180, Loss 0.0202\n",
      "Training Accuracy: 0.9765, Testing Accuracy: 0.9753\n",
      "\n"
     ]
    },
    {
     "name": "stdout",
     "output_type": "stream",
     "text": [
      "Epoch 190, Loss 0.0197\n",
      "Training Accuracy: 0.9770, Testing Accuracy: 0.9753\n",
      "\n"
     ]
    },
    {
     "name": "stdout",
     "output_type": "stream",
     "text": [
      "Epoch 200, Loss 0.0192\n",
      "Training Accuracy: 0.9775, Testing Accuracy: 0.9763\n",
      "\n"
     ]
    },
    {
     "name": "stdout",
     "output_type": "stream",
     "text": [
      "Epoch 210, Loss 0.0188\n",
      "Training Accuracy: 0.9789, Testing Accuracy: 0.9763\n",
      "\n"
     ]
    },
    {
     "name": "stdout",
     "output_type": "stream",
     "text": [
      "Epoch 220, Loss 0.0183\n",
      "Training Accuracy: 0.9791, Testing Accuracy: 0.9768\n",
      "\n"
     ]
    },
    {
     "name": "stdout",
     "output_type": "stream",
     "text": [
      "Epoch 230, Loss 0.0179\n",
      "Training Accuracy: 0.9798, Testing Accuracy: 0.9763\n",
      "\n"
     ]
    },
    {
     "name": "stdout",
     "output_type": "stream",
     "text": [
      "Epoch 240, Loss 0.0175\n",
      "Training Accuracy: 0.9802, Testing Accuracy: 0.9778\n",
      "\n"
     ]
    },
    {
     "data": {
      "text/plain": [
       "0.004888535803633645"
      ]
     },
     "execution_count": 22,
     "metadata": {},
     "output_type": "execute_result"
    }
   ],
   "source": [
    "nn_learner.train_loop(dl)"
   ]
  },
  {
   "cell_type": "code",
   "execution_count": 23,
   "id": "e0163366",
   "metadata": {
    "execution": {
     "iopub.execute_input": "2022-11-15T20:13:37.137515Z",
     "iopub.status.busy": "2022-11-15T20:13:37.136798Z",
     "iopub.status.idle": "2022-11-15T20:13:52.403206Z",
     "shell.execute_reply": "2022-11-15T20:13:52.404178Z"
    },
    "papermill": {
     "duration": 15.321364,
     "end_time": "2022-11-15T20:13:52.404337",
     "exception": false,
     "start_time": "2022-11-15T20:13:37.082973",
     "status": "completed"
    },
    "tags": []
   },
   "outputs": [
    {
     "name": "stdout",
     "output_type": "stream",
     "text": [
      "Epoch 0, Loss 0.2454\n",
      "Training Accuracy: 0.6613, Testing Accuracy: 0.6673\n",
      "\n"
     ]
    },
    {
     "name": "stdout",
     "output_type": "stream",
     "text": [
      "Epoch 10, Loss 0.1056\n",
      "Training Accuracy: 0.9041, Testing Accuracy: 0.9148\n",
      "\n"
     ]
    },
    {
     "name": "stdout",
     "output_type": "stream",
     "text": [
      "Epoch 20, Loss 0.0804\n",
      "Training Accuracy: 0.9265, Testing Accuracy: 0.9405\n",
      "\n"
     ]
    },
    {
     "name": "stdout",
     "output_type": "stream",
     "text": [
      "Epoch 30, Loss 0.0688\n",
      "Training Accuracy: 0.9357, Testing Accuracy: 0.9491\n",
      "\n"
     ]
    },
    {
     "name": "stdout",
     "output_type": "stream",
     "text": [
      "Epoch 40, Loss 0.062\n",
      "Training Accuracy: 0.9427, Testing Accuracy: 0.9536\n",
      "\n"
     ]
    },
    {
     "name": "stdout",
     "output_type": "stream",
     "text": [
      "Epoch 50, Loss 0.0574\n",
      "Training Accuracy: 0.9456, Testing Accuracy: 0.9572\n",
      "\n"
     ]
    },
    {
     "name": "stdout",
     "output_type": "stream",
     "text": [
      "Epoch 60, Loss 0.054\n",
      "Training Accuracy: 0.9477, Testing Accuracy: 0.9587\n",
      "\n"
     ]
    },
    {
     "name": "stdout",
     "output_type": "stream",
     "text": [
      "Epoch 70, Loss 0.0514\n",
      "Training Accuracy: 0.9495, Testing Accuracy: 0.9612\n",
      "\n"
     ]
    },
    {
     "name": "stdout",
     "output_type": "stream",
     "text": [
      "Epoch 80, Loss 0.0493\n",
      "Training Accuracy: 0.9508, Testing Accuracy: 0.9617\n",
      "\n"
     ]
    },
    {
     "name": "stdout",
     "output_type": "stream",
     "text": [
      "Epoch 90, Loss 0.0476\n",
      "Training Accuracy: 0.9525, Testing Accuracy: 0.9627\n",
      "\n"
     ]
    },
    {
     "name": "stdout",
     "output_type": "stream",
     "text": [
      "Epoch 100, Loss 0.0462\n",
      "Training Accuracy: 0.9531, Testing Accuracy: 0.9637\n",
      "\n"
     ]
    },
    {
     "name": "stdout",
     "output_type": "stream",
     "text": [
      "Epoch 110, Loss 0.0449\n",
      "Training Accuracy: 0.9541, Testing Accuracy: 0.9652\n",
      "\n"
     ]
    },
    {
     "name": "stdout",
     "output_type": "stream",
     "text": [
      "Epoch 120, Loss 0.0439\n",
      "Training Accuracy: 0.9547, Testing Accuracy: 0.9647\n",
      "\n"
     ]
    },
    {
     "name": "stdout",
     "output_type": "stream",
     "text": [
      "Epoch 130, Loss 0.0429\n",
      "Training Accuracy: 0.9555, Testing Accuracy: 0.9647\n",
      "\n"
     ]
    },
    {
     "name": "stdout",
     "output_type": "stream",
     "text": [
      "Epoch 140, Loss 0.0421\n",
      "Training Accuracy: 0.9561, Testing Accuracy: 0.9647\n",
      "\n"
     ]
    },
    {
     "name": "stdout",
     "output_type": "stream",
     "text": [
      "Epoch 150, Loss 0.0413\n",
      "Training Accuracy: 0.9564, Testing Accuracy: 0.9647\n",
      "\n"
     ]
    },
    {
     "name": "stdout",
     "output_type": "stream",
     "text": [
      "Epoch 160, Loss 0.0406\n",
      "Training Accuracy: 0.9571, Testing Accuracy: 0.9652\n",
      "\n"
     ]
    },
    {
     "name": "stdout",
     "output_type": "stream",
     "text": [
      "Epoch 170, Loss 0.04\n",
      "Training Accuracy: 0.9575, Testing Accuracy: 0.9657\n",
      "\n"
     ]
    },
    {
     "name": "stdout",
     "output_type": "stream",
     "text": [
      "Epoch 180, Loss 0.0394\n",
      "Training Accuracy: 0.9579, Testing Accuracy: 0.9657\n",
      "\n"
     ]
    },
    {
     "name": "stdout",
     "output_type": "stream",
     "text": [
      "Epoch 190, Loss 0.0389\n",
      "Training Accuracy: 0.9588, Testing Accuracy: 0.9657\n",
      "\n"
     ]
    },
    {
     "name": "stdout",
     "output_type": "stream",
     "text": [
      "Epoch 200, Loss 0.0384\n",
      "Training Accuracy: 0.9594, Testing Accuracy: 0.9657\n",
      "\n"
     ]
    },
    {
     "name": "stdout",
     "output_type": "stream",
     "text": [
      "Epoch 210, Loss 0.038\n",
      "Training Accuracy: 0.9597, Testing Accuracy: 0.9662\n",
      "\n"
     ]
    },
    {
     "name": "stdout",
     "output_type": "stream",
     "text": [
      "Epoch 220, Loss 0.0376\n",
      "Training Accuracy: 0.9598, Testing Accuracy: 0.9662\n",
      "\n"
     ]
    },
    {
     "name": "stdout",
     "output_type": "stream",
     "text": [
      "Epoch 230, Loss 0.0372\n",
      "Training Accuracy: 0.9606, Testing Accuracy: 0.9677\n",
      "\n"
     ]
    },
    {
     "name": "stdout",
     "output_type": "stream",
     "text": [
      "Epoch 240, Loss 0.0368\n",
      "Training Accuracy: 0.9608, Testing Accuracy: 0.9677\n",
      "\n"
     ]
    },
    {
     "data": {
      "text/plain": [
       "0.08080996953641295"
      ]
     },
     "execution_count": 23,
     "metadata": {},
     "output_type": "execute_result"
    }
   ],
   "source": [
    "lr_learner.train_loop(dl)"
   ]
  },
  {
   "cell_type": "code",
   "execution_count": 24,
   "id": "ca410940",
   "metadata": {
    "execution": {
     "iopub.execute_input": "2022-11-15T20:13:52.506072Z",
     "iopub.status.busy": "2022-11-15T20:13:52.505366Z",
     "iopub.status.idle": "2022-11-15T20:13:52.767873Z",
     "shell.execute_reply": "2022-11-15T20:13:52.768460Z"
    },
    "papermill": {
     "duration": 0.317817,
     "end_time": "2022-11-15T20:13:52.768624",
     "exception": false,
     "start_time": "2022-11-15T20:13:52.450807",
     "status": "completed"
    },
    "tags": []
   },
   "outputs": [
    {
     "data": {
      "text/plain": [
       "<matplotlib.legend.Legend at 0x7f20e6b83438>"
      ]
     },
     "execution_count": 24,
     "metadata": {},
     "output_type": "execute_result"
    },
    {
     "data": {
      "image/png": "[encoded data removed]",
      "text/plain": [
       "<Figure size 1080x720 with 1 Axes>"
      ]
     },
     "metadata": {
      "needs_background": "light"
     },
     "output_type": "display_data"
    }
   ],
   "source": [
    "#comparing the results of NN and LR\n",
    "plt.figure(figsize=(15,10))\n",
    "\n",
    "# Neural Network plots\n",
    "plt.plot(acc_nn.accuracies, 'r-', label = \"Training Accuracies - NN\")\n",
    "plt.plot(acc_nn.test_accuracies, 'g-', label = \"Testing Accuracies - NN\")\n",
    "\n",
    "# Logistic Regression plots\n",
    "plt.plot(acc_lr.accuracies, 'k-', label = \"Training Accuracies - LR\")\n",
    "plt.plot(acc_lr.test_accuracies, 'b-', label = \"Testing Accuracies - LR\")\n",
    "plt.legend()"
   ]
  },
  {
   "cell_type": "markdown",
   "id": "80dfb35c",
   "metadata": {
    "papermill": {
     "duration": 0.048605,
     "end_time": "2022-11-15T20:13:52.872543",
     "exception": false,
     "start_time": "2022-11-15T20:13:52.823938",
     "status": "completed"
    },
    "tags": []
   },
   "source": [
    "#### Plotting the outputs of this layer of the NN.\n"
   ]
  },
  {
   "cell_type": "code",
   "execution_count": 25,
   "id": "45eb2ff5",
   "metadata": {
    "execution": {
     "iopub.execute_input": "2022-11-15T20:13:52.974634Z",
     "iopub.status.busy": "2022-11-15T20:13:52.973923Z",
     "iopub.status.idle": "2022-11-15T20:13:52.997717Z",
     "shell.execute_reply": "2022-11-15T20:13:52.998265Z"
    },
    "papermill": {
     "duration": 0.078174,
     "end_time": "2022-11-15T20:13:52.998428",
     "exception": false,
     "start_time": "2022-11-15T20:13:52.920254",
     "status": "completed"
    },
    "tags": []
   },
   "outputs": [],
   "source": [
    "new_model = Model(layers[:-2])\n",
    "testing_plot = new_model(testing_data_x)"
   ]
  },
  {
   "cell_type": "code",
   "execution_count": 26,
   "id": "4c0a5485",
   "metadata": {
    "execution": {
     "iopub.execute_input": "2022-11-15T20:13:53.110496Z",
     "iopub.status.busy": "2022-11-15T20:13:53.101477Z",
     "iopub.status.idle": "2022-11-15T20:13:53.319719Z",
     "shell.execute_reply": "2022-11-15T20:13:53.320250Z"
    },
    "papermill": {
     "duration": 0.272853,
     "end_time": "2022-11-15T20:13:53.320406",
     "exception": false,
     "start_time": "2022-11-15T20:13:53.047553",
     "status": "completed"
    },
    "tags": []
   },
   "outputs": [
    {
     "data": {
      "text/plain": [
       "Text(0.5, 1.0, 'Outputs')"
      ]
     },
     "execution_count": 26,
     "metadata": {},
     "output_type": "execute_result"
    },
    {
     "data": {
      "image/png": "[encoded data removed]",
      "text/plain": [
       "<Figure size 576x504 with 1 Axes>"
      ]
     },
     "metadata": {
      "needs_background": "light"
     },
     "output_type": "display_data"
    }
   ],
   "source": [
    "# Plotting the scatter plot of points and color coding by class\n",
    "plt.figure(figsize=(8,7))\n",
    "plt.scatter(testing_plot[:,0], testing_plot[:,1], alpha = 0.1, c = y_test.ravel());\n",
    "plt.title('Outputs')"
   ]
  },
  {
   "cell_type": "markdown",
   "id": "a74fcf8f",
   "metadata": {
    "papermill": {
     "duration": 0.050209,
     "end_time": "2022-11-15T20:13:53.421266",
     "exception": false,
     "start_time": "2022-11-15T20:13:53.371057",
     "status": "completed"
    },
    "tags": []
   },
   "source": [
    "Probability contours"
   ]
  },
  {
   "cell_type": "code",
   "execution_count": 27,
   "id": "d0afc8e3",
   "metadata": {
    "execution": {
     "iopub.execute_input": "2022-11-15T20:13:53.527253Z",
     "iopub.status.busy": "2022-11-15T20:13:53.526556Z",
     "iopub.status.idle": "2022-11-15T20:13:53.540339Z",
     "shell.execute_reply": "2022-11-15T20:13:53.539774Z"
    },
    "papermill": {
     "duration": 0.068693,
     "end_time": "2022-11-15T20:13:53.540489",
     "exception": false,
     "start_time": "2022-11-15T20:13:53.471796",
     "status": "completed"
    },
    "tags": []
   },
   "outputs": [],
   "source": [
    "model_prob = Model(layers[-2:]) "
   ]
  },
  {
   "cell_type": "code",
   "execution_count": 28,
   "id": "9b96e238",
   "metadata": {
    "execution": {
     "iopub.execute_input": "2022-11-15T20:13:53.678049Z",
     "iopub.status.busy": "2022-11-15T20:13:53.677354Z",
     "iopub.status.idle": "2022-11-15T20:13:53.692038Z",
     "shell.execute_reply": "2022-11-15T20:13:53.692546Z"
    },
    "papermill": {
     "duration": 0.102907,
     "end_time": "2022-11-15T20:13:53.692715",
     "exception": false,
     "start_time": "2022-11-15T20:13:53.589808",
     "status": "completed"
    },
    "tags": []
   },
   "outputs": [],
   "source": [
    "#creating the x and y ranges according to the above generated plot.\n",
    "x_range = np.linspace(-4, 1, 100) \n",
    "y_range = np.linspace(-6, 6, 100) \n",
    "x_grid, y_grid = np.meshgrid(x_range, y_range) # x_grid and y_grig are of size 100 X 100\n",
    "\n",
    "# converting x_grid and y_grid to continuous arrays\n",
    "x_gridflat = np.ravel(x_grid)\n",
    "y_gridflat = np.ravel(y_grid)\n",
    "\n",
    "# The last layer of the current model takes two columns as input. Hence transpose of np.vstack() is required.\n",
    "X = np.vstack((x_gridflat, y_gridflat)).T\n",
    "\n",
    "prob_contour = model_prob(X).reshape(100,100) "
   ]
  },
  {
   "cell_type": "code",
   "execution_count": 29,
   "id": "da72499a",
   "metadata": {
    "execution": {
     "iopub.execute_input": "2022-11-15T20:13:53.802557Z",
     "iopub.status.busy": "2022-11-15T20:13:53.801918Z",
     "iopub.status.idle": "2022-11-15T20:13:54.091750Z",
     "shell.execute_reply": "2022-11-15T20:13:54.092263Z"
    },
    "papermill": {
     "duration": 0.349069,
     "end_time": "2022-11-15T20:13:54.092449",
     "exception": false,
     "start_time": "2022-11-15T20:13:53.743380",
     "status": "completed"
    },
    "tags": []
   },
   "outputs": [
    {
     "data": {
      "image/png": "[encoded data removed]",
      "text/plain": [
       "<Figure size 720x648 with 1 Axes>"
      ]
     },
     "metadata": {
      "needs_background": "light"
     },
     "output_type": "display_data"
    }
   ],
   "source": [
    "plt.figure(figsize=(10,9))\n",
    "plt.scatter(testing_plot[:,0], testing_plot[:,1], alpha = 0.1, c = y_test.ravel())\n",
    "contours = plt.contour(x_grid,y_grid,prob_contour)\n",
    "plt.title('Probability Contours')\n",
    "plt.clabel(contours, inline = True );"
   ]
  },
  {
   "cell_type": "code",
   "execution_count": null,
   "id": "e81b4ac7",
   "metadata": {
    "papermill": {
     "duration": 0.053622,
     "end_time": "2022-11-15T20:13:54.200494",
     "exception": false,
     "start_time": "2022-11-15T20:13:54.146872",
     "status": "completed"
    },
    "tags": []
   },
   "outputs": [],
   "source": []
  }
 ],
 "metadata": {
  "kernelspec": {
   "display_name": "Python 3",
   "language": "python",
   "name": "python3"
  },
  "language_info": {
   "codemirror_mode": {
    "name": "ipython",
    "version": 3
   },
   "file_extension": ".py",
   "mimetype": "text/x-python",
   "name": "python",
   "nbconvert_exporter": "python",
   "pygments_lexer": "ipython3",
   "version": "3.6.15"
  },
  "papermill": {
   "default_parameters": {},
   "duration": 111.05204,
   "end_time": "2022-11-15T20:13:54.676694",
   "environment_variables": {},
   "exception": null,
   "input_path": "2020-08-11-part2.ipynb",
   "output_path": "2020-08-11-part2.ipynb",
   "parameters": {},
   "start_time": "2022-11-15T20:12:03.624654",
   "version": "2.3.3"
  }
 },
 "nbformat": 4,
 "nbformat_minor": 5
}