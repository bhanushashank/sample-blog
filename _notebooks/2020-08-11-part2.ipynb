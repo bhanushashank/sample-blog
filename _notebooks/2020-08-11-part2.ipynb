{
 "cells": [
  {
   "cell_type": "markdown",
   "id": "98380cd3",
   "metadata": {
    "papermill": {
     "duration": 0.029073,
     "end_time": "2022-08-07T00:44:49.534917",
     "exception": false,
     "start_time": "2022-08-07T00:44:49.505844",
     "status": "completed"
    },
    "tags": []
   },
   "source": [
    "# Distinguish Your Own Digits (DYOD)"
   ]
  },
  {
   "cell_type": "markdown",
   "id": "ef31240d",
   "metadata": {
    "papermill": {
     "duration": 0.025588,
     "end_time": "2022-08-07T00:44:49.585142",
     "exception": false,
     "start_time": "2022-08-07T00:44:49.559554",
     "status": "completed"
    },
    "tags": []
   },
   "source": [
    "You are going to write a classifier that distinguishes between the number 3 and number 8."
   ]
  },
  {
   "cell_type": "code",
   "execution_count": 1,
   "id": "b15c8646",
   "metadata": {
    "execution": {
     "iopub.execute_input": "2022-08-07T00:44:49.642628Z",
     "iopub.status.busy": "2022-08-07T00:44:49.640690Z",
     "iopub.status.idle": "2022-08-07T00:44:49.652994Z",
     "shell.execute_reply": "2022-08-07T00:44:49.652528Z"
    },
    "papermill": {
     "duration": 0.043985,
     "end_time": "2022-08-07T00:44:49.653108",
     "exception": false,
     "start_time": "2022-08-07T00:44:49.609123",
     "status": "completed"
    },
    "tags": []
   },
   "outputs": [],
   "source": [
    "%load_ext autoreload\n",
    "%autoreload 2"
   ]
  },
  {
   "cell_type": "code",
   "execution_count": 2,
   "id": "22ef38dc",
   "metadata": {
    "execution": {
     "iopub.execute_input": "2022-08-07T00:44:49.704323Z",
     "iopub.status.busy": "2022-08-07T00:44:49.703775Z",
     "iopub.status.idle": "2022-08-07T00:44:50.200366Z",
     "shell.execute_reply": "2022-08-07T00:44:50.199877Z"
    },
    "papermill": {
     "duration": 0.523529,
     "end_time": "2022-08-07T00:44:50.200484",
     "exception": false,
     "start_time": "2022-08-07T00:44:49.676955",
     "status": "completed"
    },
    "tags": []
   },
   "outputs": [],
   "source": [
    "%matplotlib inline\n",
    "import numpy as np\n",
    "import matplotlib.pyplot as plt\n",
    "import pandas as pd"
   ]
  },
  {
   "cell_type": "markdown",
   "id": "ba036198",
   "metadata": {
    "papermill": {
     "duration": 0.023887,
     "end_time": "2022-08-07T00:44:50.248496",
     "exception": false,
     "start_time": "2022-08-07T00:44:50.224609",
     "status": "completed"
    },
    "tags": []
   },
   "source": [
    "From the command line run `pip install mnist`. This is a library that will help you bring down the mnist dataset. If you run this from a notebook, you need to put  `!pip install mnist` in a cell by itself."
   ]
  },
  {
   "cell_type": "code",
   "execution_count": 3,
   "id": "bb6ad8a1",
   "metadata": {
    "execution": {
     "iopub.execute_input": "2022-08-07T00:44:50.299883Z",
     "iopub.status.busy": "2022-08-07T00:44:50.299330Z",
     "iopub.status.idle": "2022-08-07T00:44:51.921488Z",
     "shell.execute_reply": "2022-08-07T00:44:51.920578Z"
    },
    "papermill": {
     "duration": 1.649133,
     "end_time": "2022-08-07T00:44:51.921607",
     "exception": false,
     "start_time": "2022-08-07T00:44:50.272474",
     "status": "completed"
    },
    "tags": []
   },
   "outputs": [
    {
     "name": "stdout",
     "output_type": "stream",
     "text": [
      "Collecting mnist\r\n"
     ]
    },
    {
     "name": "stdout",
     "output_type": "stream",
     "text": [
      "  Downloading mnist-0.2.2-py2.py3-none-any.whl (3.5 kB)\r\n",
      "Requirement already satisfied: numpy in /opt/hostedtoolcache/Python/3.6.15/x64/lib/python3.6/site-packages (from mnist) (1.19.5)\r\n"
     ]
    },
    {
     "name": "stdout",
     "output_type": "stream",
     "text": [
      "Installing collected packages: mnist\r\n"
     ]
    },
    {
     "name": "stdout",
     "output_type": "stream",
     "text": [
      "Successfully installed mnist-0.2.2\r\n"
     ]
    }
   ],
   "source": [
    "!pip install mnist"
   ]
  },
  {
   "cell_type": "markdown",
   "id": "69df9c9a",
   "metadata": {
    "papermill": {
     "duration": 0.025166,
     "end_time": "2022-08-07T00:44:51.972183",
     "exception": false,
     "start_time": "2022-08-07T00:44:51.947017",
     "status": "completed"
    },
    "tags": []
   },
   "source": [
    "## Preparing the Data"
   ]
  },
  {
   "cell_type": "code",
   "execution_count": 4,
   "id": "7f69d806",
   "metadata": {
    "execution": {
     "iopub.execute_input": "2022-08-07T00:44:52.026109Z",
     "iopub.status.busy": "2022-08-07T00:44:52.025543Z",
     "iopub.status.idle": "2022-08-07T00:44:52.039574Z",
     "shell.execute_reply": "2022-08-07T00:44:52.039115Z"
    },
    "papermill": {
     "duration": 0.042468,
     "end_time": "2022-08-07T00:44:52.039675",
     "exception": false,
     "start_time": "2022-08-07T00:44:51.997207",
     "status": "completed"
    },
    "tags": []
   },
   "outputs": [],
   "source": [
    "import mnist"
   ]
  },
  {
   "cell_type": "code",
   "execution_count": 5,
   "id": "a411e44f",
   "metadata": {
    "execution": {
     "iopub.execute_input": "2022-08-07T00:44:52.092948Z",
     "iopub.status.busy": "2022-08-07T00:44:52.092388Z",
     "iopub.status.idle": "2022-08-07T00:44:52.669447Z",
     "shell.execute_reply": "2022-08-07T00:44:52.668953Z"
    },
    "papermill": {
     "duration": 0.604843,
     "end_time": "2022-08-07T00:44:52.669559",
     "exception": false,
     "start_time": "2022-08-07T00:44:52.064716",
     "status": "completed"
    },
    "tags": []
   },
   "outputs": [],
   "source": [
    "train_images = mnist.train_images()\n",
    "train_labels = mnist.train_labels()"
   ]
  },
  {
   "cell_type": "code",
   "execution_count": 6,
   "id": "dceab3a5",
   "metadata": {
    "execution": {
     "iopub.execute_input": "2022-08-07T00:44:52.722995Z",
     "iopub.status.busy": "2022-08-07T00:44:52.722405Z",
     "iopub.status.idle": "2022-08-07T00:44:52.736658Z",
     "shell.execute_reply": "2022-08-07T00:44:52.736206Z"
    },
    "papermill": {
     "duration": 0.042041,
     "end_time": "2022-08-07T00:44:52.736757",
     "exception": false,
     "start_time": "2022-08-07T00:44:52.694716",
     "status": "completed"
    },
    "tags": []
   },
   "outputs": [
    {
     "data": {
      "text/plain": [
       "((60000, 28, 28), (60000,))"
      ]
     },
     "execution_count": 6,
     "metadata": {},
     "output_type": "execute_result"
    }
   ],
   "source": [
    "train_images.shape, train_labels.shape"
   ]
  },
  {
   "cell_type": "code",
   "execution_count": 7,
   "id": "f50dc2bb",
   "metadata": {
    "execution": {
     "iopub.execute_input": "2022-08-07T00:44:52.790580Z",
     "iopub.status.busy": "2022-08-07T00:44:52.790033Z",
     "iopub.status.idle": "2022-08-07T00:44:53.010412Z",
     "shell.execute_reply": "2022-08-07T00:44:53.009908Z"
    },
    "papermill": {
     "duration": 0.248612,
     "end_time": "2022-08-07T00:44:53.010522",
     "exception": false,
     "start_time": "2022-08-07T00:44:52.761910",
     "status": "completed"
    },
    "tags": []
   },
   "outputs": [],
   "source": [
    "test_images = mnist.test_images()\n",
    "test_labels = mnist.test_labels()"
   ]
  },
  {
   "cell_type": "code",
   "execution_count": 8,
   "id": "fc38cf1b",
   "metadata": {
    "execution": {
     "iopub.execute_input": "2022-08-07T00:44:53.064991Z",
     "iopub.status.busy": "2022-08-07T00:44:53.064441Z",
     "iopub.status.idle": "2022-08-07T00:44:53.076903Z",
     "shell.execute_reply": "2022-08-07T00:44:53.077301Z"
    },
    "papermill": {
     "duration": 0.041445,
     "end_time": "2022-08-07T00:44:53.077420",
     "exception": false,
     "start_time": "2022-08-07T00:44:53.035975",
     "status": "completed"
    },
    "tags": []
   },
   "outputs": [
    {
     "data": {
      "text/plain": [
       "((10000, 28, 28), (10000,))"
      ]
     },
     "execution_count": 8,
     "metadata": {},
     "output_type": "execute_result"
    }
   ],
   "source": [
    "test_images.shape, test_labels.shape"
   ]
  },
  {
   "cell_type": "code",
   "execution_count": 9,
   "id": "f9ed8fe0",
   "metadata": {
    "execution": {
     "iopub.execute_input": "2022-08-07T00:44:53.132385Z",
     "iopub.status.busy": "2022-08-07T00:44:53.131818Z",
     "iopub.status.idle": "2022-08-07T00:44:53.262693Z",
     "shell.execute_reply": "2022-08-07T00:44:53.263154Z"
    },
    "papermill": {
     "duration": 0.160357,
     "end_time": "2022-08-07T00:44:53.263277",
     "exception": false,
     "start_time": "2022-08-07T00:44:53.102920",
     "status": "completed"
    },
    "tags": []
   },
   "outputs": [
    {
     "name": "stdout",
     "output_type": "stream",
     "text": [
      "2\n"
     ]
    },
    {
     "data": {
      "text/plain": [
       "<matplotlib.image.AxesImage at 0x7f520d7a2a58>"
      ]
     },
     "execution_count": 9,
     "metadata": {},
     "output_type": "execute_result"
    },
    {
     "data": {
      "image/png": "[encoded data removed]",
      "text/plain": [
       "<Figure size 432x288 with 1 Axes>"
      ]
     },
     "metadata": {
      "needs_background": "light"
     },
     "output_type": "display_data"
    }
   ],
   "source": [
    "image_index = 7776 # You may select anything up to 60,000\n",
    "print(train_labels[image_index]) \n",
    "plt.imshow(train_images[image_index], cmap='Greys')"
   ]
  },
  {
   "cell_type": "markdown",
   "id": "a8d2388d",
   "metadata": {
    "papermill": {
     "duration": 0.026868,
     "end_time": "2022-08-07T00:44:53.317755",
     "exception": false,
     "start_time": "2022-08-07T00:44:53.290887",
     "status": "completed"
    },
    "tags": []
   },
   "source": [
    "## Filter data to get 3 and 8 out"
   ]
  },
  {
   "cell_type": "code",
   "execution_count": 10,
   "id": "776f7fc7",
   "metadata": {
    "execution": {
     "iopub.execute_input": "2022-08-07T00:44:53.374774Z",
     "iopub.status.busy": "2022-08-07T00:44:53.374193Z",
     "iopub.status.idle": "2022-08-07T00:44:53.389018Z",
     "shell.execute_reply": "2022-08-07T00:44:53.388577Z"
    },
    "papermill": {
     "duration": 0.04475,
     "end_time": "2022-08-07T00:44:53.389116",
     "exception": false,
     "start_time": "2022-08-07T00:44:53.344366",
     "status": "completed"
    },
    "tags": []
   },
   "outputs": [],
   "source": [
    "train_filter = np.where((train_labels == 3 ) | (train_labels == 8))\n",
    "test_filter = np.where((test_labels == 3) | (test_labels == 8))\n",
    "X_train, y_train = train_images[train_filter], train_labels[train_filter]\n",
    "X_test, y_test = test_images[test_filter], test_labels[test_filter]"
   ]
  },
  {
   "cell_type": "markdown",
   "id": "948f0b7e",
   "metadata": {
    "papermill": {
     "duration": 0.026481,
     "end_time": "2022-08-07T00:44:53.442160",
     "exception": false,
     "start_time": "2022-08-07T00:44:53.415679",
     "status": "completed"
    },
    "tags": []
   },
   "source": [
    "We normalize the pizel values in the 0 to 1 range"
   ]
  },
  {
   "cell_type": "code",
   "execution_count": 11,
   "id": "ee4c2166",
   "metadata": {
    "execution": {
     "iopub.execute_input": "2022-08-07T00:44:53.498838Z",
     "iopub.status.busy": "2022-08-07T00:44:53.498250Z",
     "iopub.status.idle": "2022-08-07T00:44:53.537495Z",
     "shell.execute_reply": "2022-08-07T00:44:53.537026Z"
    },
    "papermill": {
     "duration": 0.068974,
     "end_time": "2022-08-07T00:44:53.537601",
     "exception": false,
     "start_time": "2022-08-07T00:44:53.468627",
     "status": "completed"
    },
    "tags": []
   },
   "outputs": [],
   "source": [
    "X_train = X_train/255.\n",
    "X_test = X_test/255."
   ]
  },
  {
   "cell_type": "markdown",
   "id": "ddcf4fab",
   "metadata": {
    "papermill": {
     "duration": 0.026587,
     "end_time": "2022-08-07T00:44:53.591144",
     "exception": false,
     "start_time": "2022-08-07T00:44:53.564557",
     "status": "completed"
    },
    "tags": []
   },
   "source": [
    "And setup the labels as 1 (when the digit is 3) and 0 (when the digit is 8)"
   ]
  },
  {
   "cell_type": "code",
   "execution_count": 12,
   "id": "7dc908f2",
   "metadata": {
    "execution": {
     "iopub.execute_input": "2022-08-07T00:44:53.647755Z",
     "iopub.status.busy": "2022-08-07T00:44:53.647205Z",
     "iopub.status.idle": "2022-08-07T00:44:53.659045Z",
     "shell.execute_reply": "2022-08-07T00:44:53.659477Z"
    },
    "papermill": {
     "duration": 0.041827,
     "end_time": "2022-08-07T00:44:53.659590",
     "exception": false,
     "start_time": "2022-08-07T00:44:53.617763",
     "status": "completed"
    },
    "tags": []
   },
   "outputs": [],
   "source": [
    "y_train = 1*(y_train==3)\n",
    "y_test = 1*(y_test==3)"
   ]
  },
  {
   "cell_type": "code",
   "execution_count": 13,
   "id": "01e4e969",
   "metadata": {
    "execution": {
     "iopub.execute_input": "2022-08-07T00:44:53.716401Z",
     "iopub.status.busy": "2022-08-07T00:44:53.715834Z",
     "iopub.status.idle": "2022-08-07T00:44:53.728738Z",
     "shell.execute_reply": "2022-08-07T00:44:53.728205Z"
    },
    "papermill": {
     "duration": 0.042654,
     "end_time": "2022-08-07T00:44:53.728837",
     "exception": false,
     "start_time": "2022-08-07T00:44:53.686183",
     "status": "completed"
    },
    "tags": []
   },
   "outputs": [
    {
     "data": {
      "text/plain": [
       "((11982, 28, 28), (1984, 28, 28))"
      ]
     },
     "execution_count": 13,
     "metadata": {},
     "output_type": "execute_result"
    }
   ],
   "source": [
    "X_train.shape, X_test.shape"
   ]
  },
  {
   "cell_type": "markdown",
   "id": "5ccf3f85",
   "metadata": {
    "papermill": {
     "duration": 0.026729,
     "end_time": "2022-08-07T00:44:53.782318",
     "exception": false,
     "start_time": "2022-08-07T00:44:53.755589",
     "status": "completed"
    },
    "tags": []
   },
   "source": [
    "We reshape the data to flatten the image pixels into a set of features or co-variates:"
   ]
  },
  {
   "cell_type": "code",
   "execution_count": 14,
   "id": "5286a4a3",
   "metadata": {
    "execution": {
     "iopub.execute_input": "2022-08-07T00:44:53.839322Z",
     "iopub.status.busy": "2022-08-07T00:44:53.838738Z",
     "iopub.status.idle": "2022-08-07T00:44:53.852014Z",
     "shell.execute_reply": "2022-08-07T00:44:53.851567Z"
    },
    "papermill": {
     "duration": 0.042874,
     "end_time": "2022-08-07T00:44:53.852111",
     "exception": false,
     "start_time": "2022-08-07T00:44:53.809237",
     "status": "completed"
    },
    "tags": []
   },
   "outputs": [
    {
     "data": {
      "text/plain": [
       "((11982, 784), (1984, 784))"
      ]
     },
     "execution_count": 14,
     "metadata": {},
     "output_type": "execute_result"
    }
   ],
   "source": [
    "X_train = X_train.reshape(X_train.shape[0], -1)\n",
    "X_test = X_test.reshape(X_test.shape[0], -1)\n",
    "X_train.shape, X_test.shape"
   ]
  },
  {
   "cell_type": "code",
   "execution_count": 15,
   "id": "73c5f88a",
   "metadata": {
    "execution": {
     "iopub.execute_input": "2022-08-07T00:44:53.910172Z",
     "iopub.status.busy": "2022-08-07T00:44:53.909609Z",
     "iopub.status.idle": "2022-08-07T00:44:53.927498Z",
     "shell.execute_reply": "2022-08-07T00:44:53.927922Z"
    },
    "papermill": {
     "duration": 0.048563,
     "end_time": "2022-08-07T00:44:53.928032",
     "exception": false,
     "start_time": "2022-08-07T00:44:53.879469",
     "status": "completed"
    },
    "tags": []
   },
   "outputs": [],
   "source": [
    "#Impoting functions from 'Kudzu'\n",
    "from kudzu.model import Model\n",
    "from kudzu.train import Learner\n",
    "from kudzu.optim import GD\n",
    "from kudzu.data import Data, Sampler,Dataloader\n",
    "\n",
    "from kudzu.callbacks import AccCallback\n",
    "from kudzu.callbacks import ClfCallback\n",
    "\n",
    "from kudzu.loss import MSE\n",
    "\n",
    "from kudzu.layer import Sigmoid,Relu\n",
    "from kudzu.layer import Affine"
   ]
  },
  {
   "cell_type": "markdown",
   "id": "bc01172a",
   "metadata": {
    "papermill": {
     "duration": 0.026978,
     "end_time": "2022-08-07T00:44:53.982230",
     "exception": false,
     "start_time": "2022-08-07T00:44:53.955252",
     "status": "completed"
    },
    "tags": []
   },
   "source": [
    "### Let us create a `Config` class, to store important parameters. \n",
    "This class essentially plays the role of a dictionary."
   ]
  },
  {
   "cell_type": "code",
   "execution_count": 16,
   "id": "978281aa",
   "metadata": {
    "execution": {
     "iopub.execute_input": "2022-08-07T00:44:54.039750Z",
     "iopub.status.busy": "2022-08-07T00:44:54.039193Z",
     "iopub.status.idle": "2022-08-07T00:44:54.050800Z",
     "shell.execute_reply": "2022-08-07T00:44:54.051252Z"
    },
    "papermill": {
     "duration": 0.042196,
     "end_time": "2022-08-07T00:44:54.051365",
     "exception": false,
     "start_time": "2022-08-07T00:44:54.009169",
     "status": "completed"
    },
    "tags": []
   },
   "outputs": [],
   "source": [
    "class Config:\n",
    "    pass\n",
    "config = Config()\n",
    "config.lr = 0.001\n",
    "config.num_epochs = 250\n",
    "config.bs = 50"
   ]
  },
  {
   "cell_type": "markdown",
   "id": "1385fa59",
   "metadata": {
    "papermill": {
     "duration": 0.02677,
     "end_time": "2022-08-07T00:44:54.105237",
     "exception": false,
     "start_time": "2022-08-07T00:44:54.078467",
     "status": "completed"
    },
    "tags": []
   },
   "source": [
    "### Running Models with the Training data\n",
    "Details about the network layers:\n",
    "- A first affine layer has 784 inputs and does 100 affine transforms. These are followed by a Relu\n",
    "- A second affine layer has 100 inputs from the 100 activations of the past layer, and does 100 affine transforms. These are followed by a Relu\n",
    "- A third affine layer has 100 activations and does 2 affine transformations to create an embedding for visualization. There is no non-linearity here.\n",
    "- A final \"logistic regression\" which has an affine transform from 2 inputs to 1 output, which is squeezed through a sigmoid.\n"
   ]
  },
  {
   "cell_type": "code",
   "execution_count": 17,
   "id": "2b9c66db",
   "metadata": {
    "execution": {
     "iopub.execute_input": "2022-08-07T00:44:54.162717Z",
     "iopub.status.busy": "2022-08-07T00:44:54.162154Z",
     "iopub.status.idle": "2022-08-07T00:44:54.173813Z",
     "shell.execute_reply": "2022-08-07T00:44:54.174322Z"
    },
    "papermill": {
     "duration": 0.042229,
     "end_time": "2022-08-07T00:44:54.174431",
     "exception": false,
     "start_time": "2022-08-07T00:44:54.132202",
     "status": "completed"
    },
    "tags": []
   },
   "outputs": [],
   "source": [
    "data = Data(X_train, y_train.reshape(-1,1))\n",
    "sampler = Sampler(data, config.bs, shuffle=True)\n",
    "\n",
    "dl = Dataloader(data, sampler)\n",
    "\n",
    "opt = GD(config.lr)\n",
    "loss = MSE()"
   ]
  },
  {
   "cell_type": "code",
   "execution_count": 18,
   "id": "b275e4c2",
   "metadata": {
    "execution": {
     "iopub.execute_input": "2022-08-07T00:44:54.232232Z",
     "iopub.status.busy": "2022-08-07T00:44:54.231684Z",
     "iopub.status.idle": "2022-08-07T00:44:54.242821Z",
     "shell.execute_reply": "2022-08-07T00:44:54.242270Z"
    },
    "papermill": {
     "duration": 0.041336,
     "end_time": "2022-08-07T00:44:54.242915",
     "exception": false,
     "start_time": "2022-08-07T00:44:54.201579",
     "status": "completed"
    },
    "tags": []
   },
   "outputs": [],
   "source": [
    "training_data_x = X_train\n",
    "testing_data_x = X_test\n",
    "training_data_y = y_train.reshape(-1,1)\n",
    "testing_data_y = y_test.reshape(-1,1)"
   ]
  },
  {
   "cell_type": "code",
   "execution_count": 19,
   "id": "76951160",
   "metadata": {
    "execution": {
     "iopub.execute_input": "2022-08-07T00:44:54.300719Z",
     "iopub.status.busy": "2022-08-07T00:44:54.300155Z",
     "iopub.status.idle": "2022-08-07T00:44:54.316452Z",
     "shell.execute_reply": "2022-08-07T00:44:54.315997Z"
    },
    "papermill": {
     "duration": 0.046682,
     "end_time": "2022-08-07T00:44:54.316551",
     "exception": false,
     "start_time": "2022-08-07T00:44:54.269869",
     "status": "completed"
    },
    "tags": []
   },
   "outputs": [
    {
     "name": "stdout",
     "output_type": "stream",
     "text": [
      "xavier\n",
      "xavier\n",
      "xavier\n",
      "xavier\n",
      "xavier\n"
     ]
    }
   ],
   "source": [
    "layers = [Affine(\"first\", 784, 100), Relu(\"first\"), Affine(\"second\", 100, 100), Relu(\"second\"), Affine(\"third\", 100, 2), Affine(\"last\", 2, 1), Sigmoid(\"last\")]\n",
    "model_nn = Model(layers)\n",
    "model_lr = Model([Affine(\"logits\", 784, 1), Sigmoid(\"sigmoid\")])"
   ]
  },
  {
   "cell_type": "code",
   "execution_count": 20,
   "id": "6eede77a",
   "metadata": {
    "execution": {
     "iopub.execute_input": "2022-08-07T00:44:54.374663Z",
     "iopub.status.busy": "2022-08-07T00:44:54.374121Z",
     "iopub.status.idle": "2022-08-07T00:44:54.385645Z",
     "shell.execute_reply": "2022-08-07T00:44:54.386105Z"
    },
    "papermill": {
     "duration": 0.042241,
     "end_time": "2022-08-07T00:44:54.386215",
     "exception": false,
     "start_time": "2022-08-07T00:44:54.343974",
     "status": "completed"
    },
    "tags": []
   },
   "outputs": [],
   "source": [
    "nn_learner = Learner(loss, model_nn, opt, config.num_epochs)\n",
    "acc_nn = ClfCallback(nn_learner, config.bs, training_data_x , testing_data_x, training_data_y, testing_data_y)\n",
    "nn_learner.set_callbacks([acc_nn])"
   ]
  },
  {
   "cell_type": "code",
   "execution_count": 21,
   "id": "877b6cc7",
   "metadata": {
    "execution": {
     "iopub.execute_input": "2022-08-07T00:44:54.444196Z",
     "iopub.status.busy": "2022-08-07T00:44:54.443647Z",
     "iopub.status.idle": "2022-08-07T00:44:54.454639Z",
     "shell.execute_reply": "2022-08-07T00:44:54.455180Z"
    },
    "papermill": {
     "duration": 0.041801,
     "end_time": "2022-08-07T00:44:54.455288",
     "exception": false,
     "start_time": "2022-08-07T00:44:54.413487",
     "status": "completed"
    },
    "tags": []
   },
   "outputs": [],
   "source": [
    "lr_learner = Learner(loss, model_lr, opt, config.num_epochs)\n",
    "acc_lr = ClfCallback(lr_learner, config.bs, training_data_x , testing_data_x, training_data_y, testing_data_y)\n",
    "lr_learner.set_callbacks([acc_lr])"
   ]
  },
  {
   "cell_type": "code",
   "execution_count": 22,
   "id": "d9b133c3",
   "metadata": {
    "execution": {
     "iopub.execute_input": "2022-08-07T00:44:54.512922Z",
     "iopub.status.busy": "2022-08-07T00:44:54.512364Z",
     "iopub.status.idle": "2022-08-07T00:47:49.181709Z",
     "shell.execute_reply": "2022-08-07T00:47:49.182148Z"
    },
    "papermill": {
     "duration": 174.699527,
     "end_time": "2022-08-07T00:47:49.182300",
     "exception": false,
     "start_time": "2022-08-07T00:44:54.482773",
     "status": "completed"
    },
    "tags": []
   },
   "outputs": [
    {
     "name": "stdout",
     "output_type": "stream",
     "text": [
      "Epoch 0, Loss 0.226\n",
      "Training Accuracy: 0.7350, Testing Accuracy: 0.7450\n",
      "\n"
     ]
    },
    {
     "name": "stdout",
     "output_type": "stream",
     "text": [
      "Epoch 10, Loss 0.0886\n",
      "Training Accuracy: 0.9136, Testing Accuracy: 0.9229\n",
      "\n"
     ]
    },
    {
     "name": "stdout",
     "output_type": "stream",
     "text": [
      "Epoch 20, Loss 0.0557\n",
      "Training Accuracy: 0.9412, Testing Accuracy: 0.9531\n",
      "\n"
     ]
    },
    {
     "name": "stdout",
     "output_type": "stream",
     "text": [
      "Epoch 30, Loss 0.044\n",
      "Training Accuracy: 0.9507, Testing Accuracy: 0.9587\n",
      "\n"
     ]
    },
    {
     "name": "stdout",
     "output_type": "stream",
     "text": [
      "Epoch 40, Loss 0.038\n",
      "Training Accuracy: 0.9554, Testing Accuracy: 0.9622\n",
      "\n"
     ]
    },
    {
     "name": "stdout",
     "output_type": "stream",
     "text": [
      "Epoch 50, Loss 0.0342\n",
      "Training Accuracy: 0.9604, Testing Accuracy: 0.9627\n",
      "\n"
     ]
    },
    {
     "name": "stdout",
     "output_type": "stream",
     "text": [
      "Epoch 60, Loss 0.0316\n",
      "Training Accuracy: 0.9629, Testing Accuracy: 0.9642\n",
      "\n"
     ]
    },
    {
     "name": "stdout",
     "output_type": "stream",
     "text": [
      "Epoch 70, Loss 0.0297\n",
      "Training Accuracy: 0.9654, Testing Accuracy: 0.9662\n",
      "\n"
     ]
    },
    {
     "name": "stdout",
     "output_type": "stream",
     "text": [
      "Epoch 80, Loss 0.0282\n",
      "Training Accuracy: 0.9677, Testing Accuracy: 0.9667\n",
      "\n"
     ]
    },
    {
     "name": "stdout",
     "output_type": "stream",
     "text": [
      "Epoch 90, Loss 0.0269\n",
      "Training Accuracy: 0.9696, Testing Accuracy: 0.9682\n",
      "\n"
     ]
    },
    {
     "name": "stdout",
     "output_type": "stream",
     "text": [
      "Epoch 100, Loss 0.0258\n",
      "Training Accuracy: 0.9705, Testing Accuracy: 0.9698\n",
      "\n"
     ]
    },
    {
     "name": "stdout",
     "output_type": "stream",
     "text": [
      "Epoch 110, Loss 0.0248\n",
      "Training Accuracy: 0.9713, Testing Accuracy: 0.9718\n",
      "\n"
     ]
    },
    {
     "name": "stdout",
     "output_type": "stream",
     "text": [
      "Epoch 120, Loss 0.024\n",
      "Training Accuracy: 0.9725, Testing Accuracy: 0.9733\n",
      "\n"
     ]
    },
    {
     "name": "stdout",
     "output_type": "stream",
     "text": [
      "Epoch 130, Loss 0.0232\n",
      "Training Accuracy: 0.9733, Testing Accuracy: 0.9743\n",
      "\n"
     ]
    },
    {
     "name": "stdout",
     "output_type": "stream",
     "text": [
      "Epoch 140, Loss 0.0225\n",
      "Training Accuracy: 0.9741, Testing Accuracy: 0.9738\n",
      "\n"
     ]
    },
    {
     "name": "stdout",
     "output_type": "stream",
     "text": [
      "Epoch 150, Loss 0.0218\n",
      "Training Accuracy: 0.9745, Testing Accuracy: 0.9728\n",
      "\n"
     ]
    },
    {
     "name": "stdout",
     "output_type": "stream",
     "text": [
      "Epoch 160, Loss 0.0212\n",
      "Training Accuracy: 0.9750, Testing Accuracy: 0.9728\n",
      "\n"
     ]
    },
    {
     "name": "stdout",
     "output_type": "stream",
     "text": [
      "Epoch 170, Loss 0.0206\n",
      "Training Accuracy: 0.9765, Testing Accuracy: 0.9728\n",
      "\n"
     ]
    },
    {
     "name": "stdout",
     "output_type": "stream",
     "text": [
      "Epoch 180, Loss 0.0201\n",
      "Training Accuracy: 0.9771, Testing Accuracy: 0.9733\n",
      "\n"
     ]
    },
    {
     "name": "stdout",
     "output_type": "stream",
     "text": [
      "Epoch 190, Loss 0.0196\n",
      "Training Accuracy: 0.9780, Testing Accuracy: 0.9738\n",
      "\n"
     ]
    },
    {
     "name": "stdout",
     "output_type": "stream",
     "text": [
      "Epoch 200, Loss 0.0191\n",
      "Training Accuracy: 0.9789, Testing Accuracy: 0.9738\n",
      "\n"
     ]
    },
    {
     "name": "stdout",
     "output_type": "stream",
     "text": [
      "Epoch 210, Loss 0.0186\n",
      "Training Accuracy: 0.9791, Testing Accuracy: 0.9743\n",
      "\n"
     ]
    },
    {
     "name": "stdout",
     "output_type": "stream",
     "text": [
      "Epoch 220, Loss 0.0182\n",
      "Training Accuracy: 0.9797, Testing Accuracy: 0.9748\n",
      "\n"
     ]
    },
    {
     "name": "stdout",
     "output_type": "stream",
     "text": [
      "Epoch 230, Loss 0.0178\n",
      "Training Accuracy: 0.9801, Testing Accuracy: 0.9753\n",
      "\n"
     ]
    },
    {
     "name": "stdout",
     "output_type": "stream",
     "text": [
      "Epoch 240, Loss 0.0174\n",
      "Training Accuracy: 0.9809, Testing Accuracy: 0.9768\n",
      "\n"
     ]
    },
    {
     "data": {
      "text/plain": [
       "0.04033078570529942"
      ]
     },
     "execution_count": 22,
     "metadata": {},
     "output_type": "execute_result"
    }
   ],
   "source": [
    "nn_learner.train_loop(dl)"
   ]
  },
  {
   "cell_type": "code",
   "execution_count": 23,
   "id": "e0163366",
   "metadata": {
    "execution": {
     "iopub.execute_input": "2022-08-07T00:47:49.257073Z",
     "iopub.status.busy": "2022-08-07T00:47:49.255528Z",
     "iopub.status.idle": "2022-08-07T00:48:01.311818Z",
     "shell.execute_reply": "2022-08-07T00:48:01.312613Z"
    },
    "papermill": {
     "duration": 12.095929,
     "end_time": "2022-08-07T00:48:01.312747",
     "exception": false,
     "start_time": "2022-08-07T00:47:49.216818",
     "status": "completed"
    },
    "tags": []
   },
   "outputs": [
    {
     "name": "stdout",
     "output_type": "stream",
     "text": [
      "Epoch 0, Loss 0.2631\n",
      "Training Accuracy: 0.6192, Testing Accuracy: 0.6250\n",
      "\n"
     ]
    },
    {
     "name": "stdout",
     "output_type": "stream",
     "text": [
      "Epoch 10, Loss 0.1082\n",
      "Training Accuracy: 0.8984, Testing Accuracy: 0.9083\n",
      "\n"
     ]
    },
    {
     "name": "stdout",
     "output_type": "stream",
     "text": [
      "Epoch 20, Loss 0.0821\n",
      "Training Accuracy: 0.9234, Testing Accuracy: 0.9320\n",
      "\n"
     ]
    },
    {
     "name": "stdout",
     "output_type": "stream",
     "text": [
      "Epoch 30, Loss 0.0702\n",
      "Training Accuracy: 0.9334, Testing Accuracy: 0.9441\n",
      "\n"
     ]
    },
    {
     "name": "stdout",
     "output_type": "stream",
     "text": [
      "Epoch 40, Loss 0.0631\n",
      "Training Accuracy: 0.9388, Testing Accuracy: 0.9506\n",
      "\n"
     ]
    },
    {
     "name": "stdout",
     "output_type": "stream",
     "text": [
      "Epoch 50, Loss 0.0583\n",
      "Training Accuracy: 0.9419, Testing Accuracy: 0.9551\n",
      "\n"
     ]
    },
    {
     "name": "stdout",
     "output_type": "stream",
     "text": [
      "Epoch 60, Loss 0.0547\n",
      "Training Accuracy: 0.9442, Testing Accuracy: 0.9567\n",
      "\n"
     ]
    },
    {
     "name": "stdout",
     "output_type": "stream",
     "text": [
      "Epoch 70, Loss 0.052\n",
      "Training Accuracy: 0.9454, Testing Accuracy: 0.9587\n",
      "\n"
     ]
    },
    {
     "name": "stdout",
     "output_type": "stream",
     "text": [
      "Epoch 80, Loss 0.0498\n",
      "Training Accuracy: 0.9475, Testing Accuracy: 0.9607\n",
      "\n"
     ]
    },
    {
     "name": "stdout",
     "output_type": "stream",
     "text": [
      "Epoch 90, Loss 0.0481\n",
      "Training Accuracy: 0.9495, Testing Accuracy: 0.9607\n",
      "\n"
     ]
    },
    {
     "name": "stdout",
     "output_type": "stream",
     "text": [
      "Epoch 100, Loss 0.0466\n",
      "Training Accuracy: 0.9509, Testing Accuracy: 0.9617\n",
      "\n"
     ]
    },
    {
     "name": "stdout",
     "output_type": "stream",
     "text": [
      "Epoch 110, Loss 0.0453\n",
      "Training Accuracy: 0.9524, Testing Accuracy: 0.9627\n",
      "\n"
     ]
    },
    {
     "name": "stdout",
     "output_type": "stream",
     "text": [
      "Epoch 120, Loss 0.0442\n",
      "Training Accuracy: 0.9536, Testing Accuracy: 0.9637\n",
      "\n"
     ]
    },
    {
     "name": "stdout",
     "output_type": "stream",
     "text": [
      "Epoch 130, Loss 0.0432\n",
      "Training Accuracy: 0.9545, Testing Accuracy: 0.9642\n",
      "\n"
     ]
    },
    {
     "name": "stdout",
     "output_type": "stream",
     "text": [
      "Epoch 140, Loss 0.0423\n",
      "Training Accuracy: 0.9558, Testing Accuracy: 0.9632\n",
      "\n"
     ]
    },
    {
     "name": "stdout",
     "output_type": "stream",
     "text": [
      "Epoch 150, Loss 0.0415\n",
      "Training Accuracy: 0.9569, Testing Accuracy: 0.9637\n",
      "\n"
     ]
    },
    {
     "name": "stdout",
     "output_type": "stream",
     "text": [
      "Epoch 160, Loss 0.0408\n",
      "Training Accuracy: 0.9577, Testing Accuracy: 0.9642\n",
      "\n"
     ]
    },
    {
     "name": "stdout",
     "output_type": "stream",
     "text": [
      "Epoch 170, Loss 0.0402\n",
      "Training Accuracy: 0.9579, Testing Accuracy: 0.9647\n",
      "\n"
     ]
    },
    {
     "name": "stdout",
     "output_type": "stream",
     "text": [
      "Epoch 180, Loss 0.0396\n",
      "Training Accuracy: 0.9581, Testing Accuracy: 0.9647\n",
      "\n"
     ]
    },
    {
     "name": "stdout",
     "output_type": "stream",
     "text": [
      "Epoch 190, Loss 0.0391\n",
      "Training Accuracy: 0.9586, Testing Accuracy: 0.9652\n",
      "\n"
     ]
    },
    {
     "name": "stdout",
     "output_type": "stream",
     "text": [
      "Epoch 200, Loss 0.0386\n",
      "Training Accuracy: 0.9592, Testing Accuracy: 0.9652\n",
      "\n"
     ]
    },
    {
     "name": "stdout",
     "output_type": "stream",
     "text": [
      "Epoch 210, Loss 0.0382\n",
      "Training Accuracy: 0.9594, Testing Accuracy: 0.9662\n",
      "\n"
     ]
    },
    {
     "name": "stdout",
     "output_type": "stream",
     "text": [
      "Epoch 220, Loss 0.0377\n",
      "Training Accuracy: 0.9599, Testing Accuracy: 0.9667\n",
      "\n"
     ]
    },
    {
     "name": "stdout",
     "output_type": "stream",
     "text": [
      "Epoch 230, Loss 0.0373\n",
      "Training Accuracy: 0.9603, Testing Accuracy: 0.9672\n",
      "\n"
     ]
    },
    {
     "name": "stdout",
     "output_type": "stream",
     "text": [
      "Epoch 240, Loss 0.037\n",
      "Training Accuracy: 0.9604, Testing Accuracy: 0.9677\n",
      "\n"
     ]
    },
    {
     "data": {
      "text/plain": [
       "0.006945454545482897"
      ]
     },
     "execution_count": 23,
     "metadata": {},
     "output_type": "execute_result"
    }
   ],
   "source": [
    "lr_learner.train_loop(dl)"
   ]
  },
  {
   "cell_type": "code",
   "execution_count": 24,
   "id": "ca410940",
   "metadata": {
    "execution": {
     "iopub.execute_input": "2022-08-07T00:48:01.404999Z",
     "iopub.status.busy": "2022-08-07T00:48:01.404429Z",
     "iopub.status.idle": "2022-08-07T00:48:01.629378Z",
     "shell.execute_reply": "2022-08-07T00:48:01.629802Z"
    },
    "papermill": {
     "duration": 0.275716,
     "end_time": "2022-08-07T00:48:01.629933",
     "exception": false,
     "start_time": "2022-08-07T00:48:01.354217",
     "status": "completed"
    },
    "tags": []
   },
   "outputs": [
    {
     "data": {
      "text/plain": [
       "<matplotlib.legend.Legend at 0x7f51fff83b70>"
      ]
     },
     "execution_count": 24,
     "metadata": {},
     "output_type": "execute_result"
    },
    {
     "data": {
      "image/png": "[encoded data removed]",
      "text/plain": [
       "<Figure size 1080x720 with 1 Axes>"
      ]
     },
     "metadata": {
      "needs_background": "light"
     },
     "output_type": "display_data"
    }
   ],
   "source": [
    "#comparing the results of NN and LR\n",
    "plt.figure(figsize=(15,10))\n",
    "\n",
    "# Neural Network plots\n",
    "plt.plot(acc_nn.accuracies, 'r-', label = \"Training Accuracies - NN\")\n",
    "plt.plot(acc_nn.test_accuracies, 'g-', label = \"Testing Accuracies - NN\")\n",
    "\n",
    "# Logistic Regression plots\n",
    "plt.plot(acc_lr.accuracies, 'k-', label = \"Training Accuracies - LR\")\n",
    "plt.plot(acc_lr.test_accuracies, 'b-', label = \"Testing Accuracies - LR\")\n",
    "plt.legend()"
   ]
  },
  {
   "cell_type": "markdown",
   "id": "80dfb35c",
   "metadata": {
    "papermill": {
     "duration": 0.042267,
     "end_time": "2022-08-07T00:48:01.715236",
     "exception": false,
     "start_time": "2022-08-07T00:48:01.672969",
     "status": "completed"
    },
    "tags": []
   },
   "source": [
    "#### Plotting the outputs of this layer of the NN.\n"
   ]
  },
  {
   "cell_type": "code",
   "execution_count": 25,
   "id": "45eb2ff5",
   "metadata": {
    "execution": {
     "iopub.execute_input": "2022-08-07T00:48:01.803998Z",
     "iopub.status.busy": "2022-08-07T00:48:01.803423Z",
     "iopub.status.idle": "2022-08-07T00:48:01.839197Z",
     "shell.execute_reply": "2022-08-07T00:48:01.838713Z"
    },
    "papermill": {
     "duration": 0.081727,
     "end_time": "2022-08-07T00:48:01.839310",
     "exception": false,
     "start_time": "2022-08-07T00:48:01.757583",
     "status": "completed"
    },
    "tags": []
   },
   "outputs": [],
   "source": [
    "new_model = Model(layers[:-2])\n",
    "testing_plot = new_model(testing_data_x)"
   ]
  },
  {
   "cell_type": "code",
   "execution_count": 26,
   "id": "4c0a5485",
   "metadata": {
    "execution": {
     "iopub.execute_input": "2022-08-07T00:48:01.932832Z",
     "iopub.status.busy": "2022-08-07T00:48:01.932258Z",
     "iopub.status.idle": "2022-08-07T00:48:02.123473Z",
     "shell.execute_reply": "2022-08-07T00:48:02.122997Z"
    },
    "papermill": {
     "duration": 0.241121,
     "end_time": "2022-08-07T00:48:02.123579",
     "exception": false,
     "start_time": "2022-08-07T00:48:01.882458",
     "status": "completed"
    },
    "tags": []
   },
   "outputs": [
    {
     "data": {
      "text/plain": [
       "Text(0.5, 1.0, 'Outputs')"
      ]
     },
     "execution_count": 26,
     "metadata": {},
     "output_type": "execute_result"
    },
    {
     "data": {
      "image/png": "[encoded data removed]",
      "text/plain": [
       "<Figure size 576x504 with 1 Axes>"
      ]
     },
     "metadata": {
      "needs_background": "light"
     },
     "output_type": "display_data"
    }
   ],
   "source": [
    "# Plotting the scatter plot of points and color coding by class\n",
    "plt.figure(figsize=(8,7))\n",
    "plt.scatter(testing_plot[:,0], testing_plot[:,1], alpha = 0.1, c = y_test.ravel());\n",
    "plt.title('Outputs')"
   ]
  },
  {
   "cell_type": "markdown",
   "id": "a74fcf8f",
   "metadata": {
    "papermill": {
     "duration": 0.044347,
     "end_time": "2022-08-07T00:48:02.233044",
     "exception": false,
     "start_time": "2022-08-07T00:48:02.188697",
     "status": "completed"
    },
    "tags": []
   },
   "source": [
    "Probability contours"
   ]
  },
  {
   "cell_type": "code",
   "execution_count": 27,
   "id": "d0afc8e3",
   "metadata": {
    "execution": {
     "iopub.execute_input": "2022-08-07T00:48:02.325490Z",
     "iopub.status.busy": "2022-08-07T00:48:02.324928Z",
     "iopub.status.idle": "2022-08-07T00:48:02.336405Z",
     "shell.execute_reply": "2022-08-07T00:48:02.335953Z"
    },
    "papermill": {
     "duration": 0.05905,
     "end_time": "2022-08-07T00:48:02.336504",
     "exception": false,
     "start_time": "2022-08-07T00:48:02.277454",
     "status": "completed"
    },
    "tags": []
   },
   "outputs": [],
   "source": [
    "model_prob = Model(layers[-2:]) "
   ]
  },
  {
   "cell_type": "code",
   "execution_count": 28,
   "id": "9b96e238",
   "metadata": {
    "execution": {
     "iopub.execute_input": "2022-08-07T00:48:02.429302Z",
     "iopub.status.busy": "2022-08-07T00:48:02.428751Z",
     "iopub.status.idle": "2022-08-07T00:48:02.441522Z",
     "shell.execute_reply": "2022-08-07T00:48:02.441960Z"
    },
    "papermill": {
     "duration": 0.061317,
     "end_time": "2022-08-07T00:48:02.442084",
     "exception": false,
     "start_time": "2022-08-07T00:48:02.380767",
     "status": "completed"
    },
    "tags": []
   },
   "outputs": [],
   "source": [
    "#creating the x and y ranges according to the above generated plot.\n",
    "x_range = np.linspace(-4, 1, 100) \n",
    "y_range = np.linspace(-6, 6, 100) \n",
    "x_grid, y_grid = np.meshgrid(x_range, y_range) # x_grid and y_grig are of size 100 X 100\n",
    "\n",
    "# converting x_grid and y_grid to continuous arrays\n",
    "x_gridflat = np.ravel(x_grid)\n",
    "y_gridflat = np.ravel(y_grid)\n",
    "\n",
    "# The last layer of the current model takes two columns as input. Hence transpose of np.vstack() is required.\n",
    "X = np.vstack((x_gridflat, y_gridflat)).T\n",
    "\n",
    "prob_contour = model_prob(X).reshape(100,100) "
   ]
  },
  {
   "cell_type": "code",
   "execution_count": 29,
   "id": "da72499a",
   "metadata": {
    "execution": {
     "iopub.execute_input": "2022-08-07T00:48:02.536179Z",
     "iopub.status.busy": "2022-08-07T00:48:02.535632Z",
     "iopub.status.idle": "2022-08-07T00:48:02.784517Z",
     "shell.execute_reply": "2022-08-07T00:48:02.783810Z"
    },
    "papermill": {
     "duration": 0.297719,
     "end_time": "2022-08-07T00:48:02.784630",
     "exception": false,
     "start_time": "2022-08-07T00:48:02.486911",
     "status": "completed"
    },
    "tags": []
   },
   "outputs": [
    {
     "data": {
      "image/png": "[encoded data removed]",
      "text/plain": [
       "<Figure size 720x648 with 1 Axes>"
      ]
     },
     "metadata": {
      "needs_background": "light"
     },
     "output_type": "display_data"
    }
   ],
   "source": [
    "plt.figure(figsize=(10,9))\n",
    "plt.scatter(testing_plot[:,0], testing_plot[:,1], alpha = 0.1, c = y_test.ravel())\n",
    "contours = plt.contour(x_grid,y_grid,prob_contour)\n",
    "plt.title('Probability Contours')\n",
    "plt.clabel(contours, inline = True );"
   ]
  },
  {
   "cell_type": "code",
   "execution_count": null,
   "id": "e81b4ac7",
   "metadata": {
    "papermill": {
     "duration": 0.046646,
     "end_time": "2022-08-07T00:48:02.878486",
     "exception": false,
     "start_time": "2022-08-07T00:48:02.831840",
     "status": "completed"
    },
    "tags": []
   },
   "outputs": [],
   "source": []
  }
 ],
 "metadata": {
  "kernelspec": {
   "display_name": "Python 3",
   "language": "python",
   "name": "python3"
  },
  "language_info": {
   "codemirror_mode": {
    "name": "ipython",
    "version": 3
   },
   "file_extension": ".py",
   "mimetype": "text/x-python",
   "name": "python",
   "nbconvert_exporter": "python",
   "pygments_lexer": "ipython3",
   "version": "3.6.15"
  },
  "papermill": {
   "default_parameters": {},
   "duration": 194.660727,
   "end_time": "2022-08-07T00:48:03.245013",
   "environment_variables": {},
   "exception": null,
   "input_path": "2020-08-11-part2.ipynb",
   "output_path": "2020-08-11-part2.ipynb",
   "parameters": {},
   "start_time": "2022-08-07T00:44:48.584286",
   "version": "2.3.3"
  }
 },
 "nbformat": 4,
 "nbformat_minor": 5
}