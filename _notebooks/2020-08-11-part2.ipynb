{
 "cells": [
  {
   "cell_type": "markdown",
   "id": "98380cd3",
   "metadata": {
    "papermill": {
     "duration": 0.029775,
     "end_time": "2022-07-16T10:09:49.367434",
     "exception": false,
     "start_time": "2022-07-16T10:09:49.337659",
     "status": "completed"
    },
    "tags": []
   },
   "source": [
    "# Distinguish Your Own Digits (DYOD)"
   ]
  },
  {
   "cell_type": "markdown",
   "id": "ef31240d",
   "metadata": {
    "papermill": {
     "duration": 0.02376,
     "end_time": "2022-07-16T10:09:49.415567",
     "exception": false,
     "start_time": "2022-07-16T10:09:49.391807",
     "status": "completed"
    },
    "tags": []
   },
   "source": [
    "You are going to write a classifier that distinguishes between the number 3 and number 8."
   ]
  },
  {
   "cell_type": "code",
   "execution_count": 1,
   "id": "b15c8646",
   "metadata": {
    "execution": {
     "iopub.execute_input": "2022-07-16T10:09:49.473105Z",
     "iopub.status.busy": "2022-07-16T10:09:49.472503Z",
     "iopub.status.idle": "2022-07-16T10:09:49.484116Z",
     "shell.execute_reply": "2022-07-16T10:09:49.483619Z"
    },
    "papermill": {
     "duration": 0.045001,
     "end_time": "2022-07-16T10:09:49.484236",
     "exception": false,
     "start_time": "2022-07-16T10:09:49.439235",
     "status": "completed"
    },
    "tags": []
   },
   "outputs": [],
   "source": [
    "%load_ext autoreload\n",
    "%autoreload 2"
   ]
  },
  {
   "cell_type": "code",
   "execution_count": 2,
   "id": "22ef38dc",
   "metadata": {
    "execution": {
     "iopub.execute_input": "2022-07-16T10:09:49.535664Z",
     "iopub.status.busy": "2022-07-16T10:09:49.535080Z",
     "iopub.status.idle": "2022-07-16T10:09:50.053968Z",
     "shell.execute_reply": "2022-07-16T10:09:50.054516Z"
    },
    "papermill": {
     "duration": 0.546668,
     "end_time": "2022-07-16T10:09:50.054679",
     "exception": false,
     "start_time": "2022-07-16T10:09:49.508011",
     "status": "completed"
    },
    "tags": []
   },
   "outputs": [],
   "source": [
    "%matplotlib inline\n",
    "import numpy as np\n",
    "import matplotlib.pyplot as plt\n",
    "import pandas as pd"
   ]
  },
  {
   "cell_type": "markdown",
   "id": "ba036198",
   "metadata": {
    "papermill": {
     "duration": 0.023673,
     "end_time": "2022-07-16T10:09:50.102272",
     "exception": false,
     "start_time": "2022-07-16T10:09:50.078599",
     "status": "completed"
    },
    "tags": []
   },
   "source": [
    "From the command line run `pip install mnist`. This is a library that will help you bring down the mnist dataset. If you run this from a notebook, you need to put  `!pip install mnist` in a cell by itself."
   ]
  },
  {
   "cell_type": "code",
   "execution_count": 3,
   "id": "bb6ad8a1",
   "metadata": {
    "execution": {
     "iopub.execute_input": "2022-07-16T10:09:50.153619Z",
     "iopub.status.busy": "2022-07-16T10:09:50.153029Z",
     "iopub.status.idle": "2022-07-16T10:09:51.813876Z",
     "shell.execute_reply": "2022-07-16T10:09:51.812369Z"
    },
    "papermill": {
     "duration": 1.687957,
     "end_time": "2022-07-16T10:09:51.814026",
     "exception": false,
     "start_time": "2022-07-16T10:09:50.126069",
     "status": "completed"
    },
    "tags": []
   },
   "outputs": [
    {
     "name": "stdout",
     "output_type": "stream",
     "text": [
      "Collecting mnist\r\n"
     ]
    },
    {
     "name": "stdout",
     "output_type": "stream",
     "text": [
      "  Downloading mnist-0.2.2-py2.py3-none-any.whl (3.5 kB)\r\n",
      "Requirement already satisfied: numpy in /opt/hostedtoolcache/Python/3.6.15/x64/lib/python3.6/site-packages (from mnist) (1.19.5)\r\n"
     ]
    },
    {
     "name": "stdout",
     "output_type": "stream",
     "text": [
      "Installing collected packages: mnist\r\n"
     ]
    },
    {
     "name": "stdout",
     "output_type": "stream",
     "text": [
      "Successfully installed mnist-0.2.2\r\n"
     ]
    }
   ],
   "source": [
    "!pip install mnist"
   ]
  },
  {
   "cell_type": "markdown",
   "id": "69df9c9a",
   "metadata": {
    "papermill": {
     "duration": 0.024753,
     "end_time": "2022-07-16T10:09:51.864475",
     "exception": false,
     "start_time": "2022-07-16T10:09:51.839722",
     "status": "completed"
    },
    "tags": []
   },
   "source": [
    "## Preparing the Data"
   ]
  },
  {
   "cell_type": "code",
   "execution_count": 4,
   "id": "7f69d806",
   "metadata": {
    "execution": {
     "iopub.execute_input": "2022-07-16T10:09:51.917397Z",
     "iopub.status.busy": "2022-07-16T10:09:51.916815Z",
     "iopub.status.idle": "2022-07-16T10:09:51.931769Z",
     "shell.execute_reply": "2022-07-16T10:09:51.931295Z"
    },
    "papermill": {
     "duration": 0.042887,
     "end_time": "2022-07-16T10:09:51.931874",
     "exception": false,
     "start_time": "2022-07-16T10:09:51.888987",
     "status": "completed"
    },
    "tags": []
   },
   "outputs": [],
   "source": [
    "import mnist"
   ]
  },
  {
   "cell_type": "code",
   "execution_count": 5,
   "id": "a411e44f",
   "metadata": {
    "execution": {
     "iopub.execute_input": "2022-07-16T10:09:51.995249Z",
     "iopub.status.busy": "2022-07-16T10:09:51.989314Z",
     "iopub.status.idle": "2022-07-16T10:09:52.519465Z",
     "shell.execute_reply": "2022-07-16T10:09:52.518792Z"
    },
    "papermill": {
     "duration": 0.56297,
     "end_time": "2022-07-16T10:09:52.519588",
     "exception": false,
     "start_time": "2022-07-16T10:09:51.956618",
     "status": "completed"
    },
    "tags": []
   },
   "outputs": [],
   "source": [
    "train_images = mnist.train_images()\n",
    "train_labels = mnist.train_labels()"
   ]
  },
  {
   "cell_type": "code",
   "execution_count": 6,
   "id": "dceab3a5",
   "metadata": {
    "execution": {
     "iopub.execute_input": "2022-07-16T10:09:52.588053Z",
     "iopub.status.busy": "2022-07-16T10:09:52.583428Z",
     "iopub.status.idle": "2022-07-16T10:09:52.593657Z",
     "shell.execute_reply": "2022-07-16T10:09:52.592880Z"
    },
    "papermill": {
     "duration": 0.049116,
     "end_time": "2022-07-16T10:09:52.593771",
     "exception": false,
     "start_time": "2022-07-16T10:09:52.544655",
     "status": "completed"
    },
    "tags": []
   },
   "outputs": [
    {
     "data": {
      "text/plain": [
       "((60000, 28, 28), (60000,))"
      ]
     },
     "execution_count": 6,
     "metadata": {},
     "output_type": "execute_result"
    }
   ],
   "source": [
    "train_images.shape, train_labels.shape"
   ]
  },
  {
   "cell_type": "code",
   "execution_count": 7,
   "id": "f50dc2bb",
   "metadata": {
    "execution": {
     "iopub.execute_input": "2022-07-16T10:09:52.650075Z",
     "iopub.status.busy": "2022-07-16T10:09:52.649506Z",
     "iopub.status.idle": "2022-07-16T10:09:52.798123Z",
     "shell.execute_reply": "2022-07-16T10:09:52.797524Z"
    },
    "papermill": {
     "duration": 0.179545,
     "end_time": "2022-07-16T10:09:52.798256",
     "exception": false,
     "start_time": "2022-07-16T10:09:52.618711",
     "status": "completed"
    },
    "tags": []
   },
   "outputs": [],
   "source": [
    "test_images = mnist.test_images()\n",
    "test_labels = mnist.test_labels()"
   ]
  },
  {
   "cell_type": "code",
   "execution_count": 8,
   "id": "fc38cf1b",
   "metadata": {
    "execution": {
     "iopub.execute_input": "2022-07-16T10:09:52.852711Z",
     "iopub.status.busy": "2022-07-16T10:09:52.852112Z",
     "iopub.status.idle": "2022-07-16T10:09:52.864896Z",
     "shell.execute_reply": "2022-07-16T10:09:52.865321Z"
    },
    "papermill": {
     "duration": 0.041382,
     "end_time": "2022-07-16T10:09:52.865443",
     "exception": false,
     "start_time": "2022-07-16T10:09:52.824061",
     "status": "completed"
    },
    "tags": []
   },
   "outputs": [
    {
     "data": {
      "text/plain": [
       "((10000, 28, 28), (10000,))"
      ]
     },
     "execution_count": 8,
     "metadata": {},
     "output_type": "execute_result"
    }
   ],
   "source": [
    "test_images.shape, test_labels.shape"
   ]
  },
  {
   "cell_type": "code",
   "execution_count": 9,
   "id": "f9ed8fe0",
   "metadata": {
    "execution": {
     "iopub.execute_input": "2022-07-16T10:09:52.919469Z",
     "iopub.status.busy": "2022-07-16T10:09:52.918894Z",
     "iopub.status.idle": "2022-07-16T10:09:53.054148Z",
     "shell.execute_reply": "2022-07-16T10:09:53.054636Z"
    },
    "papermill": {
     "duration": 0.164109,
     "end_time": "2022-07-16T10:09:53.054768",
     "exception": false,
     "start_time": "2022-07-16T10:09:52.890659",
     "status": "completed"
    },
    "tags": []
   },
   "outputs": [
    {
     "name": "stdout",
     "output_type": "stream",
     "text": [
      "2\n"
     ]
    },
    {
     "data": {
      "text/plain": [
       "<matplotlib.image.AxesImage at 0x7f4b89f0d518>"
      ]
     },
     "execution_count": 9,
     "metadata": {},
     "output_type": "execute_result"
    },
    {
     "data": {
      "image/png": "[encoded data removed]",
      "text/plain": [
       "<Figure size 432x288 with 1 Axes>"
      ]
     },
     "metadata": {
      "needs_background": "light"
     },
     "output_type": "display_data"
    }
   ],
   "source": [
    "image_index = 7776 # You may select anything up to 60,000\n",
    "print(train_labels[image_index]) \n",
    "plt.imshow(train_images[image_index], cmap='Greys')"
   ]
  },
  {
   "cell_type": "markdown",
   "id": "a8d2388d",
   "metadata": {
    "papermill": {
     "duration": 0.026535,
     "end_time": "2022-07-16T10:09:53.107791",
     "exception": false,
     "start_time": "2022-07-16T10:09:53.081256",
     "status": "completed"
    },
    "tags": []
   },
   "source": [
    "## Filter data to get 3 and 8 out"
   ]
  },
  {
   "cell_type": "code",
   "execution_count": 10,
   "id": "776f7fc7",
   "metadata": {
    "execution": {
     "iopub.execute_input": "2022-07-16T10:09:53.165862Z",
     "iopub.status.busy": "2022-07-16T10:09:53.165267Z",
     "iopub.status.idle": "2022-07-16T10:09:53.183245Z",
     "shell.execute_reply": "2022-07-16T10:09:53.182763Z"
    },
    "papermill": {
     "duration": 0.048061,
     "end_time": "2022-07-16T10:09:53.183353",
     "exception": false,
     "start_time": "2022-07-16T10:09:53.135292",
     "status": "completed"
    },
    "tags": []
   },
   "outputs": [],
   "source": [
    "train_filter = np.where((train_labels == 3 ) | (train_labels == 8))\n",
    "test_filter = np.where((test_labels == 3) | (test_labels == 8))\n",
    "X_train, y_train = train_images[train_filter], train_labels[train_filter]\n",
    "X_test, y_test = test_images[test_filter], test_labels[test_filter]"
   ]
  },
  {
   "cell_type": "markdown",
   "id": "948f0b7e",
   "metadata": {
    "papermill": {
     "duration": 0.026297,
     "end_time": "2022-07-16T10:09:53.235924",
     "exception": false,
     "start_time": "2022-07-16T10:09:53.209627",
     "status": "completed"
    },
    "tags": []
   },
   "source": [
    "We normalize the pizel values in the 0 to 1 range"
   ]
  },
  {
   "cell_type": "code",
   "execution_count": 11,
   "id": "ee4c2166",
   "metadata": {
    "execution": {
     "iopub.execute_input": "2022-07-16T10:09:53.291831Z",
     "iopub.status.busy": "2022-07-16T10:09:53.291258Z",
     "iopub.status.idle": "2022-07-16T10:09:53.339491Z",
     "shell.execute_reply": "2022-07-16T10:09:53.338911Z"
    },
    "papermill": {
     "duration": 0.077436,
     "end_time": "2022-07-16T10:09:53.339625",
     "exception": false,
     "start_time": "2022-07-16T10:09:53.262189",
     "status": "completed"
    },
    "tags": []
   },
   "outputs": [],
   "source": [
    "X_train = X_train/255.\n",
    "X_test = X_test/255."
   ]
  },
  {
   "cell_type": "markdown",
   "id": "ddcf4fab",
   "metadata": {
    "papermill": {
     "duration": 0.026399,
     "end_time": "2022-07-16T10:09:53.393730",
     "exception": false,
     "start_time": "2022-07-16T10:09:53.367331",
     "status": "completed"
    },
    "tags": []
   },
   "source": [
    "And setup the labels as 1 (when the digit is 3) and 0 (when the digit is 8)"
   ]
  },
  {
   "cell_type": "code",
   "execution_count": 12,
   "id": "7dc908f2",
   "metadata": {
    "execution": {
     "iopub.execute_input": "2022-07-16T10:09:53.452644Z",
     "iopub.status.busy": "2022-07-16T10:09:53.452065Z",
     "iopub.status.idle": "2022-07-16T10:09:53.465259Z",
     "shell.execute_reply": "2022-07-16T10:09:53.464784Z"
    },
    "papermill": {
     "duration": 0.042729,
     "end_time": "2022-07-16T10:09:53.465366",
     "exception": false,
     "start_time": "2022-07-16T10:09:53.422637",
     "status": "completed"
    },
    "tags": []
   },
   "outputs": [],
   "source": [
    "y_train = 1*(y_train==3)\n",
    "y_test = 1*(y_test==3)"
   ]
  },
  {
   "cell_type": "code",
   "execution_count": 13,
   "id": "01e4e969",
   "metadata": {
    "execution": {
     "iopub.execute_input": "2022-07-16T10:09:53.521227Z",
     "iopub.status.busy": "2022-07-16T10:09:53.520657Z",
     "iopub.status.idle": "2022-07-16T10:09:53.533299Z",
     "shell.execute_reply": "2022-07-16T10:09:53.533745Z"
    },
    "papermill": {
     "duration": 0.042193,
     "end_time": "2022-07-16T10:09:53.533862",
     "exception": false,
     "start_time": "2022-07-16T10:09:53.491669",
     "status": "completed"
    },
    "tags": []
   },
   "outputs": [
    {
     "data": {
      "text/plain": [
       "((11982, 28, 28), (1984, 28, 28))"
      ]
     },
     "execution_count": 13,
     "metadata": {},
     "output_type": "execute_result"
    }
   ],
   "source": [
    "X_train.shape, X_test.shape"
   ]
  },
  {
   "cell_type": "markdown",
   "id": "5ccf3f85",
   "metadata": {
    "papermill": {
     "duration": 0.026479,
     "end_time": "2022-07-16T10:09:53.586821",
     "exception": false,
     "start_time": "2022-07-16T10:09:53.560342",
     "status": "completed"
    },
    "tags": []
   },
   "source": [
    "We reshape the data to flatten the image pixels into a set of features or co-variates:"
   ]
  },
  {
   "cell_type": "code",
   "execution_count": 14,
   "id": "5286a4a3",
   "metadata": {
    "execution": {
     "iopub.execute_input": "2022-07-16T10:09:53.643759Z",
     "iopub.status.busy": "2022-07-16T10:09:53.643183Z",
     "iopub.status.idle": "2022-07-16T10:09:53.656546Z",
     "shell.execute_reply": "2022-07-16T10:09:53.656076Z"
    },
    "papermill": {
     "duration": 0.043144,
     "end_time": "2022-07-16T10:09:53.656650",
     "exception": false,
     "start_time": "2022-07-16T10:09:53.613506",
     "status": "completed"
    },
    "tags": []
   },
   "outputs": [
    {
     "data": {
      "text/plain": [
       "((11982, 784), (1984, 784))"
      ]
     },
     "execution_count": 14,
     "metadata": {},
     "output_type": "execute_result"
    }
   ],
   "source": [
    "X_train = X_train.reshape(X_train.shape[0], -1)\n",
    "X_test = X_test.reshape(X_test.shape[0], -1)\n",
    "X_train.shape, X_test.shape"
   ]
  },
  {
   "cell_type": "code",
   "execution_count": 15,
   "id": "73c5f88a",
   "metadata": {
    "execution": {
     "iopub.execute_input": "2022-07-16T10:09:53.714733Z",
     "iopub.status.busy": "2022-07-16T10:09:53.714124Z",
     "iopub.status.idle": "2022-07-16T10:09:53.732669Z",
     "shell.execute_reply": "2022-07-16T10:09:53.732202Z"
    },
    "papermill": {
     "duration": 0.049291,
     "end_time": "2022-07-16T10:09:53.732772",
     "exception": false,
     "start_time": "2022-07-16T10:09:53.683481",
     "status": "completed"
    },
    "tags": []
   },
   "outputs": [],
   "source": [
    "#Impoting functions from 'Kudzu'\n",
    "from kudzu.model import Model\n",
    "from kudzu.train import Learner\n",
    "from kudzu.optim import GD\n",
    "from kudzu.data import Data, Sampler,Dataloader\n",
    "\n",
    "from kudzu.callbacks import AccCallback\n",
    "from kudzu.callbacks import ClfCallback\n",
    "\n",
    "from kudzu.loss import MSE\n",
    "\n",
    "from kudzu.layer import Sigmoid,Relu\n",
    "from kudzu.layer import Affine"
   ]
  },
  {
   "cell_type": "markdown",
   "id": "bc01172a",
   "metadata": {
    "papermill": {
     "duration": 0.026737,
     "end_time": "2022-07-16T10:09:53.786530",
     "exception": false,
     "start_time": "2022-07-16T10:09:53.759793",
     "status": "completed"
    },
    "tags": []
   },
   "source": [
    "### Let us create a `Config` class, to store important parameters. \n",
    "This class essentially plays the role of a dictionary."
   ]
  },
  {
   "cell_type": "code",
   "execution_count": 16,
   "id": "978281aa",
   "metadata": {
    "execution": {
     "iopub.execute_input": "2022-07-16T10:09:53.844425Z",
     "iopub.status.busy": "2022-07-16T10:09:53.843818Z",
     "iopub.status.idle": "2022-07-16T10:09:53.856300Z",
     "shell.execute_reply": "2022-07-16T10:09:53.855816Z"
    },
    "papermill": {
     "duration": 0.043092,
     "end_time": "2022-07-16T10:09:53.856409",
     "exception": false,
     "start_time": "2022-07-16T10:09:53.813317",
     "status": "completed"
    },
    "tags": []
   },
   "outputs": [],
   "source": [
    "class Config:\n",
    "    pass\n",
    "config = Config()\n",
    "config.lr = 0.001\n",
    "config.num_epochs = 250\n",
    "config.bs = 50"
   ]
  },
  {
   "cell_type": "markdown",
   "id": "1385fa59",
   "metadata": {
    "papermill": {
     "duration": 0.026695,
     "end_time": "2022-07-16T10:09:53.910190",
     "exception": false,
     "start_time": "2022-07-16T10:09:53.883495",
     "status": "completed"
    },
    "tags": []
   },
   "source": [
    "### Running Models with the Training data\n",
    "Details about the network layers:\n",
    "- A first affine layer has 784 inputs and does 100 affine transforms. These are followed by a Relu\n",
    "- A second affine layer has 100 inputs from the 100 activations of the past layer, and does 100 affine transforms. These are followed by a Relu\n",
    "- A third affine layer has 100 activations and does 2 affine transformations to create an embedding for visualization. There is no non-linearity here.\n",
    "- A final \"logistic regression\" which has an affine transform from 2 inputs to 1 output, which is squeezed through a sigmoid.\n"
   ]
  },
  {
   "cell_type": "code",
   "execution_count": 17,
   "id": "2b9c66db",
   "metadata": {
    "execution": {
     "iopub.execute_input": "2022-07-16T10:09:53.967768Z",
     "iopub.status.busy": "2022-07-16T10:09:53.967181Z",
     "iopub.status.idle": "2022-07-16T10:09:53.979110Z",
     "shell.execute_reply": "2022-07-16T10:09:53.979586Z"
    },
    "papermill": {
     "duration": 0.042718,
     "end_time": "2022-07-16T10:09:53.979708",
     "exception": false,
     "start_time": "2022-07-16T10:09:53.936990",
     "status": "completed"
    },
    "tags": []
   },
   "outputs": [],
   "source": [
    "data = Data(X_train, y_train.reshape(-1,1))\n",
    "sampler = Sampler(data, config.bs, shuffle=True)\n",
    "\n",
    "dl = Dataloader(data, sampler)\n",
    "\n",
    "opt = GD(config.lr)\n",
    "loss = MSE()"
   ]
  },
  {
   "cell_type": "code",
   "execution_count": 18,
   "id": "b275e4c2",
   "metadata": {
    "execution": {
     "iopub.execute_input": "2022-07-16T10:09:54.036875Z",
     "iopub.status.busy": "2022-07-16T10:09:54.036299Z",
     "iopub.status.idle": "2022-07-16T10:09:54.048421Z",
     "shell.execute_reply": "2022-07-16T10:09:54.047950Z"
    },
    "papermill": {
     "duration": 0.041866,
     "end_time": "2022-07-16T10:09:54.048524",
     "exception": false,
     "start_time": "2022-07-16T10:09:54.006658",
     "status": "completed"
    },
    "tags": []
   },
   "outputs": [],
   "source": [
    "training_data_x = X_train\n",
    "testing_data_x = X_test\n",
    "training_data_y = y_train.reshape(-1,1)\n",
    "testing_data_y = y_test.reshape(-1,1)"
   ]
  },
  {
   "cell_type": "code",
   "execution_count": 19,
   "id": "76951160",
   "metadata": {
    "execution": {
     "iopub.execute_input": "2022-07-16T10:09:54.105999Z",
     "iopub.status.busy": "2022-07-16T10:09:54.105415Z",
     "iopub.status.idle": "2022-07-16T10:09:54.122026Z",
     "shell.execute_reply": "2022-07-16T10:09:54.122525Z"
    },
    "papermill": {
     "duration": 0.047443,
     "end_time": "2022-07-16T10:09:54.122647",
     "exception": false,
     "start_time": "2022-07-16T10:09:54.075204",
     "status": "completed"
    },
    "tags": []
   },
   "outputs": [
    {
     "name": "stdout",
     "output_type": "stream",
     "text": [
      "xavier\n",
      "xavier\n",
      "xavier\n",
      "xavier\n",
      "xavier\n"
     ]
    }
   ],
   "source": [
    "layers = [Affine(\"first\", 784, 100), Relu(\"first\"), Affine(\"second\", 100, 100), Relu(\"second\"), Affine(\"third\", 100, 2), Affine(\"last\", 2, 1), Sigmoid(\"last\")]\n",
    "model_nn = Model(layers)\n",
    "model_lr = Model([Affine(\"logits\", 784, 1), Sigmoid(\"sigmoid\")])"
   ]
  },
  {
   "cell_type": "code",
   "execution_count": 20,
   "id": "6eede77a",
   "metadata": {
    "execution": {
     "iopub.execute_input": "2022-07-16T10:09:54.180498Z",
     "iopub.status.busy": "2022-07-16T10:09:54.179924Z",
     "iopub.status.idle": "2022-07-16T10:09:54.191396Z",
     "shell.execute_reply": "2022-07-16T10:09:54.191871Z"
    },
    "papermill": {
     "duration": 0.042156,
     "end_time": "2022-07-16T10:09:54.191987",
     "exception": false,
     "start_time": "2022-07-16T10:09:54.149831",
     "status": "completed"
    },
    "tags": []
   },
   "outputs": [],
   "source": [
    "nn_learner = Learner(loss, model_nn, opt, config.num_epochs)\n",
    "acc_nn = ClfCallback(nn_learner, config.bs, training_data_x , testing_data_x, training_data_y, testing_data_y)\n",
    "nn_learner.set_callbacks([acc_nn])"
   ]
  },
  {
   "cell_type": "code",
   "execution_count": 21,
   "id": "877b6cc7",
   "metadata": {
    "execution": {
     "iopub.execute_input": "2022-07-16T10:09:54.249760Z",
     "iopub.status.busy": "2022-07-16T10:09:54.249191Z",
     "iopub.status.idle": "2022-07-16T10:09:54.260807Z",
     "shell.execute_reply": "2022-07-16T10:09:54.260242Z"
    },
    "papermill": {
     "duration": 0.041787,
     "end_time": "2022-07-16T10:09:54.260908",
     "exception": false,
     "start_time": "2022-07-16T10:09:54.219121",
     "status": "completed"
    },
    "tags": []
   },
   "outputs": [],
   "source": [
    "lr_learner = Learner(loss, model_lr, opt, config.num_epochs)\n",
    "acc_lr = ClfCallback(lr_learner, config.bs, training_data_x , testing_data_x, training_data_y, testing_data_y)\n",
    "lr_learner.set_callbacks([acc_lr])"
   ]
  },
  {
   "cell_type": "code",
   "execution_count": 22,
   "id": "d9b133c3",
   "metadata": {
    "execution": {
     "iopub.execute_input": "2022-07-16T10:09:54.318967Z",
     "iopub.status.busy": "2022-07-16T10:09:54.318343Z",
     "iopub.status.idle": "2022-07-16T10:11:08.350668Z",
     "shell.execute_reply": "2022-07-16T10:11:08.351512Z"
    },
    "papermill": {
     "duration": 74.063561,
     "end_time": "2022-07-16T10:11:08.351658",
     "exception": false,
     "start_time": "2022-07-16T10:09:54.288097",
     "status": "completed"
    },
    "tags": []
   },
   "outputs": [
    {
     "name": "stdout",
     "output_type": "stream",
     "text": [
      "Epoch 0, Loss 0.2395\n",
      "Training Accuracy: 0.7175, Testing Accuracy: 0.7263\n",
      "\n"
     ]
    },
    {
     "name": "stdout",
     "output_type": "stream",
     "text": [
      "Epoch 10, Loss 0.1035\n",
      "Training Accuracy: 0.9003, Testing Accuracy: 0.9168\n",
      "\n"
     ]
    },
    {
     "name": "stdout",
     "output_type": "stream",
     "text": [
      "Epoch 20, Loss 0.0629\n",
      "Training Accuracy: 0.9326, Testing Accuracy: 0.9400\n",
      "\n"
     ]
    },
    {
     "name": "stdout",
     "output_type": "stream",
     "text": [
      "Epoch 30, Loss 0.0483\n",
      "Training Accuracy: 0.9458, Testing Accuracy: 0.9531\n",
      "\n"
     ]
    },
    {
     "name": "stdout",
     "output_type": "stream",
     "text": [
      "Epoch 40, Loss 0.041\n",
      "Training Accuracy: 0.9541, Testing Accuracy: 0.9577\n",
      "\n"
     ]
    },
    {
     "name": "stdout",
     "output_type": "stream",
     "text": [
      "Epoch 50, Loss 0.0366\n",
      "Training Accuracy: 0.9585, Testing Accuracy: 0.9622\n",
      "\n"
     ]
    },
    {
     "name": "stdout",
     "output_type": "stream",
     "text": [
      "Epoch 60, Loss 0.0337\n",
      "Training Accuracy: 0.9613, Testing Accuracy: 0.9642\n",
      "\n"
     ]
    },
    {
     "name": "stdout",
     "output_type": "stream",
     "text": [
      "Epoch 70, Loss 0.0316\n",
      "Training Accuracy: 0.9634, Testing Accuracy: 0.9642\n",
      "\n"
     ]
    },
    {
     "name": "stdout",
     "output_type": "stream",
     "text": [
      "Epoch 80, Loss 0.03\n",
      "Training Accuracy: 0.9652, Testing Accuracy: 0.9677\n",
      "\n"
     ]
    },
    {
     "name": "stdout",
     "output_type": "stream",
     "text": [
      "Epoch 90, Loss 0.0287\n",
      "Training Accuracy: 0.9659, Testing Accuracy: 0.9682\n",
      "\n"
     ]
    },
    {
     "name": "stdout",
     "output_type": "stream",
     "text": [
      "Epoch 100, Loss 0.0276\n",
      "Training Accuracy: 0.9673, Testing Accuracy: 0.9688\n",
      "\n"
     ]
    },
    {
     "name": "stdout",
     "output_type": "stream",
     "text": [
      "Epoch 110, Loss 0.0266\n",
      "Training Accuracy: 0.9680, Testing Accuracy: 0.9693\n",
      "\n"
     ]
    },
    {
     "name": "stdout",
     "output_type": "stream",
     "text": [
      "Epoch 120, Loss 0.0258\n",
      "Training Accuracy: 0.9691, Testing Accuracy: 0.9693\n",
      "\n"
     ]
    },
    {
     "name": "stdout",
     "output_type": "stream",
     "text": [
      "Epoch 130, Loss 0.025\n",
      "Training Accuracy: 0.9700, Testing Accuracy: 0.9703\n",
      "\n"
     ]
    },
    {
     "name": "stdout",
     "output_type": "stream",
     "text": [
      "Epoch 140, Loss 0.0244\n",
      "Training Accuracy: 0.9708, Testing Accuracy: 0.9703\n",
      "\n"
     ]
    },
    {
     "name": "stdout",
     "output_type": "stream",
     "text": [
      "Epoch 150, Loss 0.0238\n",
      "Training Accuracy: 0.9715, Testing Accuracy: 0.9713\n",
      "\n"
     ]
    },
    {
     "name": "stdout",
     "output_type": "stream",
     "text": [
      "Epoch 160, Loss 0.0232\n",
      "Training Accuracy: 0.9724, Testing Accuracy: 0.9723\n",
      "\n"
     ]
    },
    {
     "name": "stdout",
     "output_type": "stream",
     "text": [
      "Epoch 170, Loss 0.0227\n",
      "Training Accuracy: 0.9731, Testing Accuracy: 0.9713\n",
      "\n"
     ]
    },
    {
     "name": "stdout",
     "output_type": "stream",
     "text": [
      "Epoch 180, Loss 0.0222\n",
      "Training Accuracy: 0.9738, Testing Accuracy: 0.9718\n",
      "\n"
     ]
    },
    {
     "name": "stdout",
     "output_type": "stream",
     "text": [
      "Epoch 190, Loss 0.0218\n",
      "Training Accuracy: 0.9741, Testing Accuracy: 0.9723\n",
      "\n"
     ]
    },
    {
     "name": "stdout",
     "output_type": "stream",
     "text": [
      "Epoch 200, Loss 0.0213\n",
      "Training Accuracy: 0.9744, Testing Accuracy: 0.9738\n",
      "\n"
     ]
    },
    {
     "name": "stdout",
     "output_type": "stream",
     "text": [
      "Epoch 210, Loss 0.0209\n",
      "Training Accuracy: 0.9753, Testing Accuracy: 0.9743\n",
      "\n"
     ]
    },
    {
     "name": "stdout",
     "output_type": "stream",
     "text": [
      "Epoch 220, Loss 0.0205\n",
      "Training Accuracy: 0.9760, Testing Accuracy: 0.9743\n",
      "\n"
     ]
    },
    {
     "name": "stdout",
     "output_type": "stream",
     "text": [
      "Epoch 230, Loss 0.0201\n",
      "Training Accuracy: 0.9769, Testing Accuracy: 0.9743\n",
      "\n"
     ]
    },
    {
     "name": "stdout",
     "output_type": "stream",
     "text": [
      "Epoch 240, Loss 0.0198\n",
      "Training Accuracy: 0.9770, Testing Accuracy: 0.9743\n",
      "\n"
     ]
    },
    {
     "data": {
      "text/plain": [
       "0.012081685858400165"
      ]
     },
     "execution_count": 22,
     "metadata": {},
     "output_type": "execute_result"
    }
   ],
   "source": [
    "nn_learner.train_loop(dl)"
   ]
  },
  {
   "cell_type": "code",
   "execution_count": 23,
   "id": "e0163366",
   "metadata": {
    "execution": {
     "iopub.execute_input": "2022-07-16T10:11:08.433161Z",
     "iopub.status.busy": "2022-07-16T10:11:08.432583Z",
     "iopub.status.idle": "2022-07-16T10:11:21.449316Z",
     "shell.execute_reply": "2022-07-16T10:11:21.450157Z"
    },
    "papermill": {
     "duration": 13.063897,
     "end_time": "2022-07-16T10:11:21.450297",
     "exception": false,
     "start_time": "2022-07-16T10:11:08.386400",
     "status": "completed"
    },
    "tags": []
   },
   "outputs": [
    {
     "name": "stdout",
     "output_type": "stream",
     "text": [
      "Epoch 0, Loss 0.2479\n",
      "Training Accuracy: 0.6735, Testing Accuracy: 0.6815\n",
      "\n"
     ]
    },
    {
     "name": "stdout",
     "output_type": "stream",
     "text": [
      "Epoch 10, Loss 0.1012\n",
      "Training Accuracy: 0.9116, Testing Accuracy: 0.9108\n",
      "\n"
     ]
    },
    {
     "name": "stdout",
     "output_type": "stream",
     "text": [
      "Epoch 20, Loss 0.0784\n",
      "Training Accuracy: 0.9278, Testing Accuracy: 0.9304\n",
      "\n"
     ]
    },
    {
     "name": "stdout",
     "output_type": "stream",
     "text": [
      "Epoch 30, Loss 0.0679\n",
      "Training Accuracy: 0.9353, Testing Accuracy: 0.9405\n",
      "\n"
     ]
    },
    {
     "name": "stdout",
     "output_type": "stream",
     "text": [
      "Epoch 40, Loss 0.0616\n",
      "Training Accuracy: 0.9403, Testing Accuracy: 0.9481\n",
      "\n"
     ]
    },
    {
     "name": "stdout",
     "output_type": "stream",
     "text": [
      "Epoch 50, Loss 0.0572\n",
      "Training Accuracy: 0.9442, Testing Accuracy: 0.9511\n",
      "\n"
     ]
    },
    {
     "name": "stdout",
     "output_type": "stream",
     "text": [
      "Epoch 60, Loss 0.054\n",
      "Training Accuracy: 0.9471, Testing Accuracy: 0.9551\n",
      "\n"
     ]
    },
    {
     "name": "stdout",
     "output_type": "stream",
     "text": [
      "Epoch 70, Loss 0.0515\n",
      "Training Accuracy: 0.9485, Testing Accuracy: 0.9567\n",
      "\n"
     ]
    },
    {
     "name": "stdout",
     "output_type": "stream",
     "text": [
      "Epoch 80, Loss 0.0495\n",
      "Training Accuracy: 0.9505, Testing Accuracy: 0.9582\n",
      "\n"
     ]
    },
    {
     "name": "stdout",
     "output_type": "stream",
     "text": [
      "Epoch 90, Loss 0.0479\n",
      "Training Accuracy: 0.9517, Testing Accuracy: 0.9577\n",
      "\n"
     ]
    },
    {
     "name": "stdout",
     "output_type": "stream",
     "text": [
      "Epoch 100, Loss 0.0465\n",
      "Training Accuracy: 0.9524, Testing Accuracy: 0.9597\n",
      "\n"
     ]
    },
    {
     "name": "stdout",
     "output_type": "stream",
     "text": [
      "Epoch 110, Loss 0.0452\n",
      "Training Accuracy: 0.9531, Testing Accuracy: 0.9592\n",
      "\n"
     ]
    },
    {
     "name": "stdout",
     "output_type": "stream",
     "text": [
      "Epoch 120, Loss 0.0442\n",
      "Training Accuracy: 0.9537, Testing Accuracy: 0.9602\n",
      "\n"
     ]
    },
    {
     "name": "stdout",
     "output_type": "stream",
     "text": [
      "Epoch 130, Loss 0.0433\n",
      "Training Accuracy: 0.9547, Testing Accuracy: 0.9612\n",
      "\n"
     ]
    },
    {
     "name": "stdout",
     "output_type": "stream",
     "text": [
      "Epoch 140, Loss 0.0424\n",
      "Training Accuracy: 0.9555, Testing Accuracy: 0.9617\n",
      "\n"
     ]
    },
    {
     "name": "stdout",
     "output_type": "stream",
     "text": [
      "Epoch 150, Loss 0.0417\n",
      "Training Accuracy: 0.9561, Testing Accuracy: 0.9627\n",
      "\n"
     ]
    },
    {
     "name": "stdout",
     "output_type": "stream",
     "text": [
      "Epoch 160, Loss 0.041\n",
      "Training Accuracy: 0.9564, Testing Accuracy: 0.9637\n",
      "\n"
     ]
    },
    {
     "name": "stdout",
     "output_type": "stream",
     "text": [
      "Epoch 170, Loss 0.0404\n",
      "Training Accuracy: 0.9570, Testing Accuracy: 0.9637\n",
      "\n"
     ]
    },
    {
     "name": "stdout",
     "output_type": "stream",
     "text": [
      "Epoch 180, Loss 0.0398\n",
      "Training Accuracy: 0.9579, Testing Accuracy: 0.9642\n",
      "\n"
     ]
    },
    {
     "name": "stdout",
     "output_type": "stream",
     "text": [
      "Epoch 190, Loss 0.0393\n",
      "Training Accuracy: 0.9587, Testing Accuracy: 0.9647\n",
      "\n"
     ]
    },
    {
     "name": "stdout",
     "output_type": "stream",
     "text": [
      "Epoch 200, Loss 0.0388\n",
      "Training Accuracy: 0.9591, Testing Accuracy: 0.9652\n",
      "\n"
     ]
    },
    {
     "name": "stdout",
     "output_type": "stream",
     "text": [
      "Epoch 210, Loss 0.0384\n",
      "Training Accuracy: 0.9595, Testing Accuracy: 0.9662\n",
      "\n"
     ]
    },
    {
     "name": "stdout",
     "output_type": "stream",
     "text": [
      "Epoch 220, Loss 0.0379\n",
      "Training Accuracy: 0.9595, Testing Accuracy: 0.9662\n",
      "\n"
     ]
    },
    {
     "name": "stdout",
     "output_type": "stream",
     "text": [
      "Epoch 230, Loss 0.0376\n",
      "Training Accuracy: 0.9604, Testing Accuracy: 0.9667\n",
      "\n"
     ]
    },
    {
     "name": "stdout",
     "output_type": "stream",
     "text": [
      "Epoch 240, Loss 0.0372\n",
      "Training Accuracy: 0.9605, Testing Accuracy: 0.9672\n",
      "\n"
     ]
    },
    {
     "data": {
      "text/plain": [
       "0.09130630796818251"
      ]
     },
     "execution_count": 23,
     "metadata": {},
     "output_type": "execute_result"
    }
   ],
   "source": [
    "lr_learner.train_loop(dl)"
   ]
  },
  {
   "cell_type": "code",
   "execution_count": 24,
   "id": "ca410940",
   "metadata": {
    "execution": {
     "iopub.execute_input": "2022-07-16T10:11:21.540477Z",
     "iopub.status.busy": "2022-07-16T10:11:21.539887Z",
     "iopub.status.idle": "2022-07-16T10:11:21.764381Z",
     "shell.execute_reply": "2022-07-16T10:11:21.763887Z"
    },
    "papermill": {
     "duration": 0.27296,
     "end_time": "2022-07-16T10:11:21.764498",
     "exception": false,
     "start_time": "2022-07-16T10:11:21.491538",
     "status": "completed"
    },
    "tags": []
   },
   "outputs": [
    {
     "data": {
      "text/plain": [
       "<matplotlib.legend.Legend at 0x7f4b89a6eb00>"
      ]
     },
     "execution_count": 24,
     "metadata": {},
     "output_type": "execute_result"
    },
    {
     "data": {
      "image/png": "[encoded data removed]",
      "text/plain": [
       "<Figure size 1080x720 with 1 Axes>"
      ]
     },
     "metadata": {
      "needs_background": "light"
     },
     "output_type": "display_data"
    }
   ],
   "source": [
    "#comparing the results of NN and LR\n",
    "plt.figure(figsize=(15,10))\n",
    "\n",
    "# Neural Network plots\n",
    "plt.plot(acc_nn.accuracies, 'r-', label = \"Training Accuracies - NN\")\n",
    "plt.plot(acc_nn.test_accuracies, 'g-', label = \"Testing Accuracies - NN\")\n",
    "\n",
    "# Logistic Regression plots\n",
    "plt.plot(acc_lr.accuracies, 'k-', label = \"Training Accuracies - LR\")\n",
    "plt.plot(acc_lr.test_accuracies, 'b-', label = \"Testing Accuracies - LR\")\n",
    "plt.legend()"
   ]
  },
  {
   "cell_type": "markdown",
   "id": "80dfb35c",
   "metadata": {
    "papermill": {
     "duration": 0.041704,
     "end_time": "2022-07-16T10:11:21.848401",
     "exception": false,
     "start_time": "2022-07-16T10:11:21.806697",
     "status": "completed"
    },
    "tags": []
   },
   "source": [
    "#### Plotting the outputs of this layer of the NN.\n"
   ]
  },
  {
   "cell_type": "code",
   "execution_count": 25,
   "id": "45eb2ff5",
   "metadata": {
    "execution": {
     "iopub.execute_input": "2022-07-16T10:11:21.936509Z",
     "iopub.status.busy": "2022-07-16T10:11:21.935341Z",
     "iopub.status.idle": "2022-07-16T10:11:21.956162Z",
     "shell.execute_reply": "2022-07-16T10:11:21.955673Z"
    },
    "papermill": {
     "duration": 0.066192,
     "end_time": "2022-07-16T10:11:21.956277",
     "exception": false,
     "start_time": "2022-07-16T10:11:21.890085",
     "status": "completed"
    },
    "tags": []
   },
   "outputs": [],
   "source": [
    "new_model = Model(layers[:-2])\n",
    "testing_plot = new_model(testing_data_x)"
   ]
  },
  {
   "cell_type": "code",
   "execution_count": 26,
   "id": "4c0a5485",
   "metadata": {
    "execution": {
     "iopub.execute_input": "2022-07-16T10:11:22.050356Z",
     "iopub.status.busy": "2022-07-16T10:11:22.048167Z",
     "iopub.status.idle": "2022-07-16T10:11:22.257756Z",
     "shell.execute_reply": "2022-07-16T10:11:22.257266Z"
    },
    "papermill": {
     "duration": 0.256942,
     "end_time": "2022-07-16T10:11:22.257872",
     "exception": false,
     "start_time": "2022-07-16T10:11:22.000930",
     "status": "completed"
    },
    "tags": []
   },
   "outputs": [
    {
     "data": {
      "text/plain": [
       "Text(0.5, 1.0, 'Outputs')"
      ]
     },
     "execution_count": 26,
     "metadata": {},
     "output_type": "execute_result"
    },
    {
     "data": {
      "image/png": "[encoded data removed]",
      "text/plain": [
       "<Figure size 576x504 with 1 Axes>"
      ]
     },
     "metadata": {
      "needs_background": "light"
     },
     "output_type": "display_data"
    }
   ],
   "source": [
    "# Plotting the scatter plot of points and color coding by class\n",
    "plt.figure(figsize=(8,7))\n",
    "plt.scatter(testing_plot[:,0], testing_plot[:,1], alpha = 0.1, c = y_test.ravel());\n",
    "plt.title('Outputs')"
   ]
  },
  {
   "cell_type": "markdown",
   "id": "a74fcf8f",
   "metadata": {
    "papermill": {
     "duration": 0.048724,
     "end_time": "2022-07-16T10:11:22.351393",
     "exception": false,
     "start_time": "2022-07-16T10:11:22.302669",
     "status": "completed"
    },
    "tags": []
   },
   "source": [
    "Probability contours"
   ]
  },
  {
   "cell_type": "code",
   "execution_count": 27,
   "id": "d0afc8e3",
   "metadata": {
    "execution": {
     "iopub.execute_input": "2022-07-16T10:11:22.470352Z",
     "iopub.status.busy": "2022-07-16T10:11:22.469766Z",
     "iopub.status.idle": "2022-07-16T10:11:22.481921Z",
     "shell.execute_reply": "2022-07-16T10:11:22.481453Z"
    },
    "papermill": {
     "duration": 0.085875,
     "end_time": "2022-07-16T10:11:22.482026",
     "exception": false,
     "start_time": "2022-07-16T10:11:22.396151",
     "status": "completed"
    },
    "tags": []
   },
   "outputs": [],
   "source": [
    "model_prob = Model(layers[-2:]) "
   ]
  },
  {
   "cell_type": "code",
   "execution_count": 28,
   "id": "9b96e238",
   "metadata": {
    "execution": {
     "iopub.execute_input": "2022-07-16T10:11:22.575981Z",
     "iopub.status.busy": "2022-07-16T10:11:22.575399Z",
     "iopub.status.idle": "2022-07-16T10:11:22.590011Z",
     "shell.execute_reply": "2022-07-16T10:11:22.590427Z"
    },
    "papermill": {
     "duration": 0.063954,
     "end_time": "2022-07-16T10:11:22.590573",
     "exception": false,
     "start_time": "2022-07-16T10:11:22.526619",
     "status": "completed"
    },
    "tags": []
   },
   "outputs": [],
   "source": [
    "#creating the x and y ranges according to the above generated plot.\n",
    "x_range = np.linspace(-4, 1, 100) \n",
    "y_range = np.linspace(-6, 6, 100) \n",
    "x_grid, y_grid = np.meshgrid(x_range, y_range) # x_grid and y_grig are of size 100 X 100\n",
    "\n",
    "# converting x_grid and y_grid to continuous arrays\n",
    "x_gridflat = np.ravel(x_grid)\n",
    "y_gridflat = np.ravel(y_grid)\n",
    "\n",
    "# The last layer of the current model takes two columns as input. Hence transpose of np.vstack() is required.\n",
    "X = np.vstack((x_gridflat, y_gridflat)).T\n",
    "\n",
    "prob_contour = model_prob(X).reshape(100,100) "
   ]
  },
  {
   "cell_type": "code",
   "execution_count": 29,
   "id": "da72499a",
   "metadata": {
    "execution": {
     "iopub.execute_input": "2022-07-16T10:11:22.683985Z",
     "iopub.status.busy": "2022-07-16T10:11:22.683416Z",
     "iopub.status.idle": "2022-07-16T10:11:22.925885Z",
     "shell.execute_reply": "2022-07-16T10:11:22.925337Z"
    },
    "papermill": {
     "duration": 0.290835,
     "end_time": "2022-07-16T10:11:22.926010",
     "exception": false,
     "start_time": "2022-07-16T10:11:22.635175",
     "status": "completed"
    },
    "tags": []
   },
   "outputs": [
    {
     "data": {
      "image/png": "[encoded data removed]",
      "text/plain": [
       "<Figure size 720x648 with 1 Axes>"
      ]
     },
     "metadata": {
      "needs_background": "light"
     },
     "output_type": "display_data"
    }
   ],
   "source": [
    "plt.figure(figsize=(10,9))\n",
    "plt.scatter(testing_plot[:,0], testing_plot[:,1], alpha = 0.1, c = y_test.ravel())\n",
    "contours = plt.contour(x_grid,y_grid,prob_contour)\n",
    "plt.title('Probability Contours')\n",
    "plt.clabel(contours, inline = True );"
   ]
  },
  {
   "cell_type": "code",
   "execution_count": null,
   "id": "e81b4ac7",
   "metadata": {
    "papermill": {
     "duration": 0.047007,
     "end_time": "2022-07-16T10:11:23.020628",
     "exception": false,
     "start_time": "2022-07-16T10:11:22.973621",
     "status": "completed"
    },
    "tags": []
   },
   "outputs": [],
   "source": []
  }
 ],
 "metadata": {
  "kernelspec": {
   "display_name": "Python 3",
   "language": "python",
   "name": "python3"
  },
  "language_info": {
   "codemirror_mode": {
    "name": "ipython",
    "version": 3
   },
   "file_extension": ".py",
   "mimetype": "text/x-python",
   "name": "python",
   "nbconvert_exporter": "python",
   "pygments_lexer": "ipython3",
   "version": "3.6.15"
  },
  "papermill": {
   "default_parameters": {},
   "duration": 94.976945,
   "end_time": "2022-07-16T10:11:23.386375",
   "environment_variables": {},
   "exception": null,
   "input_path": "2020-08-11-part2.ipynb",
   "output_path": "2020-08-11-part2.ipynb",
   "parameters": {},
   "start_time": "2022-07-16T10:09:48.409430",
   "version": "2.3.3"
  }
 },
 "nbformat": 4,
 "nbformat_minor": 5
}