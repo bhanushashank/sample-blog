{
 "cells": [
  {
   "cell_type": "markdown",
   "id": "98380cd3",
   "metadata": {
    "papermill": {
     "duration": 0.028711,
     "end_time": "2021-11-28T10:07:35.365624",
     "exception": false,
     "start_time": "2021-11-28T10:07:35.336913",
     "status": "completed"
    },
    "tags": []
   },
   "source": [
    "# Distinguish Your Own Digits (DYOD)"
   ]
  },
  {
   "cell_type": "markdown",
   "id": "ef31240d",
   "metadata": {
    "papermill": {
     "duration": 0.023746,
     "end_time": "2021-11-28T10:07:35.413906",
     "exception": false,
     "start_time": "2021-11-28T10:07:35.390160",
     "status": "completed"
    },
    "tags": []
   },
   "source": [
    "You are going to write a classifier that distinguishes between the number 3 and number 8."
   ]
  },
  {
   "cell_type": "code",
   "execution_count": 1,
   "id": "b15c8646",
   "metadata": {
    "execution": {
     "iopub.execute_input": "2021-11-28T10:07:35.473278Z",
     "iopub.status.busy": "2021-11-28T10:07:35.472730Z",
     "iopub.status.idle": "2021-11-28T10:07:35.482828Z",
     "shell.execute_reply": "2021-11-28T10:07:35.483223Z"
    },
    "papermill": {
     "duration": 0.045802,
     "end_time": "2021-11-28T10:07:35.483379",
     "exception": false,
     "start_time": "2021-11-28T10:07:35.437577",
     "status": "completed"
    },
    "tags": []
   },
   "outputs": [],
   "source": [
    "%load_ext autoreload\n",
    "%autoreload 2"
   ]
  },
  {
   "cell_type": "code",
   "execution_count": 2,
   "id": "22ef38dc",
   "metadata": {
    "execution": {
     "iopub.execute_input": "2021-11-28T10:07:35.543147Z",
     "iopub.status.busy": "2021-11-28T10:07:35.540101Z",
     "iopub.status.idle": "2021-11-28T10:07:36.128994Z",
     "shell.execute_reply": "2021-11-28T10:07:36.128451Z"
    },
    "papermill": {
     "duration": 0.621838,
     "end_time": "2021-11-28T10:07:36.129136",
     "exception": false,
     "start_time": "2021-11-28T10:07:35.507298",
     "status": "completed"
    },
    "tags": []
   },
   "outputs": [],
   "source": [
    "%matplotlib inline\n",
    "import numpy as np\n",
    "import matplotlib.pyplot as plt\n",
    "import pandas as pd"
   ]
  },
  {
   "cell_type": "markdown",
   "id": "ba036198",
   "metadata": {
    "papermill": {
     "duration": 0.024138,
     "end_time": "2021-11-28T10:07:36.178453",
     "exception": false,
     "start_time": "2021-11-28T10:07:36.154315",
     "status": "completed"
    },
    "tags": []
   },
   "source": [
    "From the command line run `pip install mnist`. This is a library that will help you bring down the mnist dataset. If you run this from a notebook, you need to put  `!pip install mnist` in a cell by itself."
   ]
  },
  {
   "cell_type": "code",
   "execution_count": 3,
   "id": "bb6ad8a1",
   "metadata": {
    "execution": {
     "iopub.execute_input": "2021-11-28T10:07:36.235800Z",
     "iopub.status.busy": "2021-11-28T10:07:36.235257Z",
     "iopub.status.idle": "2021-11-28T10:07:37.913458Z",
     "shell.execute_reply": "2021-11-28T10:07:37.912890Z"
    },
    "papermill": {
     "duration": 1.710986,
     "end_time": "2021-11-28T10:07:37.913597",
     "exception": false,
     "start_time": "2021-11-28T10:07:36.202611",
     "status": "completed"
    },
    "tags": []
   },
   "outputs": [
    {
     "name": "stdout",
     "output_type": "stream",
     "text": [
      "Collecting mnist\r\n"
     ]
    },
    {
     "name": "stdout",
     "output_type": "stream",
     "text": [
      "  Downloading mnist-0.2.2-py2.py3-none-any.whl (3.5 kB)\r\n",
      "Requirement already satisfied: numpy in /opt/hostedtoolcache/Python/3.6.15/x64/lib/python3.6/site-packages (from mnist) (1.19.5)\r\n"
     ]
    },
    {
     "name": "stdout",
     "output_type": "stream",
     "text": [
      "Installing collected packages: mnist\r\n"
     ]
    },
    {
     "name": "stdout",
     "output_type": "stream",
     "text": [
      "Successfully installed mnist-0.2.2\r\n"
     ]
    }
   ],
   "source": [
    "!pip install mnist"
   ]
  },
  {
   "cell_type": "markdown",
   "id": "69df9c9a",
   "metadata": {
    "papermill": {
     "duration": 0.024881,
     "end_time": "2021-11-28T10:07:37.964063",
     "exception": false,
     "start_time": "2021-11-28T10:07:37.939182",
     "status": "completed"
    },
    "tags": []
   },
   "source": [
    "## Preparing the Data"
   ]
  },
  {
   "cell_type": "code",
   "execution_count": 4,
   "id": "7f69d806",
   "metadata": {
    "execution": {
     "iopub.execute_input": "2021-11-28T10:07:38.017908Z",
     "iopub.status.busy": "2021-11-28T10:07:38.017398Z",
     "iopub.status.idle": "2021-11-28T10:07:38.033142Z",
     "shell.execute_reply": "2021-11-28T10:07:38.032719Z"
    },
    "papermill": {
     "duration": 0.044418,
     "end_time": "2021-11-28T10:07:38.033258",
     "exception": false,
     "start_time": "2021-11-28T10:07:37.988840",
     "status": "completed"
    },
    "tags": []
   },
   "outputs": [],
   "source": [
    "import mnist"
   ]
  },
  {
   "cell_type": "code",
   "execution_count": 5,
   "id": "a411e44f",
   "metadata": {
    "execution": {
     "iopub.execute_input": "2021-11-28T10:07:38.087506Z",
     "iopub.status.busy": "2021-11-28T10:07:38.086981Z",
     "iopub.status.idle": "2021-11-28T10:07:38.619831Z",
     "shell.execute_reply": "2021-11-28T10:07:38.619301Z"
    },
    "papermill": {
     "duration": 0.561334,
     "end_time": "2021-11-28T10:07:38.619957",
     "exception": false,
     "start_time": "2021-11-28T10:07:38.058623",
     "status": "completed"
    },
    "tags": []
   },
   "outputs": [],
   "source": [
    "train_images = mnist.train_images()\n",
    "train_labels = mnist.train_labels()"
   ]
  },
  {
   "cell_type": "code",
   "execution_count": 6,
   "id": "dceab3a5",
   "metadata": {
    "execution": {
     "iopub.execute_input": "2021-11-28T10:07:38.674084Z",
     "iopub.status.busy": "2021-11-28T10:07:38.673570Z",
     "iopub.status.idle": "2021-11-28T10:07:38.688806Z",
     "shell.execute_reply": "2021-11-28T10:07:38.688368Z"
    },
    "papermill": {
     "duration": 0.043838,
     "end_time": "2021-11-28T10:07:38.688920",
     "exception": false,
     "start_time": "2021-11-28T10:07:38.645082",
     "status": "completed"
    },
    "tags": []
   },
   "outputs": [
    {
     "data": {
      "text/plain": [
       "((60000, 28, 28), (60000,))"
      ]
     },
     "execution_count": 6,
     "metadata": {},
     "output_type": "execute_result"
    }
   ],
   "source": [
    "train_images.shape, train_labels.shape"
   ]
  },
  {
   "cell_type": "code",
   "execution_count": 7,
   "id": "f50dc2bb",
   "metadata": {
    "execution": {
     "iopub.execute_input": "2021-11-28T10:07:38.747655Z",
     "iopub.status.busy": "2021-11-28T10:07:38.747145Z",
     "iopub.status.idle": "2021-11-28T10:07:38.881717Z",
     "shell.execute_reply": "2021-11-28T10:07:38.881158Z"
    },
    "papermill": {
     "duration": 0.167794,
     "end_time": "2021-11-28T10:07:38.881857",
     "exception": false,
     "start_time": "2021-11-28T10:07:38.714063",
     "status": "completed"
    },
    "tags": []
   },
   "outputs": [],
   "source": [
    "test_images = mnist.test_images()\n",
    "test_labels = mnist.test_labels()"
   ]
  },
  {
   "cell_type": "code",
   "execution_count": 8,
   "id": "fc38cf1b",
   "metadata": {
    "execution": {
     "iopub.execute_input": "2021-11-28T10:07:38.943603Z",
     "iopub.status.busy": "2021-11-28T10:07:38.943050Z",
     "iopub.status.idle": "2021-11-28T10:07:38.952933Z",
     "shell.execute_reply": "2021-11-28T10:07:38.952511Z"
    },
    "papermill": {
     "duration": 0.045203,
     "end_time": "2021-11-28T10:07:38.953052",
     "exception": false,
     "start_time": "2021-11-28T10:07:38.907849",
     "status": "completed"
    },
    "tags": []
   },
   "outputs": [
    {
     "data": {
      "text/plain": [
       "((10000, 28, 28), (10000,))"
      ]
     },
     "execution_count": 8,
     "metadata": {},
     "output_type": "execute_result"
    }
   ],
   "source": [
    "test_images.shape, test_labels.shape"
   ]
  },
  {
   "cell_type": "code",
   "execution_count": 9,
   "id": "f9ed8fe0",
   "metadata": {
    "execution": {
     "iopub.execute_input": "2021-11-28T10:07:39.007948Z",
     "iopub.status.busy": "2021-11-28T10:07:39.007435Z",
     "iopub.status.idle": "2021-11-28T10:07:39.144579Z",
     "shell.execute_reply": "2021-11-28T10:07:39.145065Z"
    },
    "papermill": {
     "duration": 0.16667,
     "end_time": "2021-11-28T10:07:39.145219",
     "exception": false,
     "start_time": "2021-11-28T10:07:38.978549",
     "status": "completed"
    },
    "tags": []
   },
   "outputs": [
    {
     "name": "stdout",
     "output_type": "stream",
     "text": [
      "2\n"
     ]
    },
    {
     "data": {
      "text/plain": [
       "<matplotlib.image.AxesImage at 0x7ffa41d6da90>"
      ]
     },
     "execution_count": 9,
     "metadata": {},
     "output_type": "execute_result"
    },
    {
     "data": {
      "image/png": "[encoded data removed]",
      "text/plain": [
       "<Figure size 432x288 with 1 Axes>"
      ]
     },
     "metadata": {
      "needs_background": "light"
     },
     "output_type": "display_data"
    }
   ],
   "source": [
    "image_index = 7776 # You may select anything up to 60,000\n",
    "print(train_labels[image_index]) \n",
    "plt.imshow(train_images[image_index], cmap='Greys')"
   ]
  },
  {
   "cell_type": "markdown",
   "id": "a8d2388d",
   "metadata": {
    "papermill": {
     "duration": 0.0271,
     "end_time": "2021-11-28T10:07:39.199589",
     "exception": false,
     "start_time": "2021-11-28T10:07:39.172489",
     "status": "completed"
    },
    "tags": []
   },
   "source": [
    "## Filter data to get 3 and 8 out"
   ]
  },
  {
   "cell_type": "code",
   "execution_count": 10,
   "id": "776f7fc7",
   "metadata": {
    "execution": {
     "iopub.execute_input": "2021-11-28T10:07:39.271804Z",
     "iopub.status.busy": "2021-11-28T10:07:39.271245Z",
     "iopub.status.idle": "2021-11-28T10:07:39.277595Z",
     "shell.execute_reply": "2021-11-28T10:07:39.277141Z"
    },
    "papermill": {
     "duration": 0.051513,
     "end_time": "2021-11-28T10:07:39.277714",
     "exception": false,
     "start_time": "2021-11-28T10:07:39.226201",
     "status": "completed"
    },
    "tags": []
   },
   "outputs": [],
   "source": [
    "train_filter = np.where((train_labels == 3 ) | (train_labels == 8))\n",
    "test_filter = np.where((test_labels == 3) | (test_labels == 8))\n",
    "X_train, y_train = train_images[train_filter], train_labels[train_filter]\n",
    "X_test, y_test = test_images[test_filter], test_labels[test_filter]"
   ]
  },
  {
   "cell_type": "markdown",
   "id": "948f0b7e",
   "metadata": {
    "papermill": {
     "duration": 0.026477,
     "end_time": "2021-11-28T10:07:39.330887",
     "exception": false,
     "start_time": "2021-11-28T10:07:39.304410",
     "status": "completed"
    },
    "tags": []
   },
   "source": [
    "We normalize the pizel values in the 0 to 1 range"
   ]
  },
  {
   "cell_type": "code",
   "execution_count": 11,
   "id": "ee4c2166",
   "metadata": {
    "execution": {
     "iopub.execute_input": "2021-11-28T10:07:39.389645Z",
     "iopub.status.busy": "2021-11-28T10:07:39.389128Z",
     "iopub.status.idle": "2021-11-28T10:07:39.436801Z",
     "shell.execute_reply": "2021-11-28T10:07:39.436244Z"
    },
    "papermill": {
     "duration": 0.079476,
     "end_time": "2021-11-28T10:07:39.436953",
     "exception": false,
     "start_time": "2021-11-28T10:07:39.357477",
     "status": "completed"
    },
    "tags": []
   },
   "outputs": [],
   "source": [
    "X_train = X_train/255.\n",
    "X_test = X_test/255."
   ]
  },
  {
   "cell_type": "markdown",
   "id": "ddcf4fab",
   "metadata": {
    "papermill": {
     "duration": 0.027149,
     "end_time": "2021-11-28T10:07:39.492073",
     "exception": false,
     "start_time": "2021-11-28T10:07:39.464924",
     "status": "completed"
    },
    "tags": []
   },
   "source": [
    "And setup the labels as 1 (when the digit is 3) and 0 (when the digit is 8)"
   ]
  },
  {
   "cell_type": "code",
   "execution_count": 12,
   "id": "7dc908f2",
   "metadata": {
    "execution": {
     "iopub.execute_input": "2021-11-28T10:07:39.552769Z",
     "iopub.status.busy": "2021-11-28T10:07:39.552202Z",
     "iopub.status.idle": "2021-11-28T10:07:39.567349Z",
     "shell.execute_reply": "2021-11-28T10:07:39.566910Z"
    },
    "papermill": {
     "duration": 0.048656,
     "end_time": "2021-11-28T10:07:39.567472",
     "exception": false,
     "start_time": "2021-11-28T10:07:39.518816",
     "status": "completed"
    },
    "tags": []
   },
   "outputs": [],
   "source": [
    "y_train = 1*(y_train==3)\n",
    "y_test = 1*(y_test==3)"
   ]
  },
  {
   "cell_type": "code",
   "execution_count": 13,
   "id": "01e4e969",
   "metadata": {
    "execution": {
     "iopub.execute_input": "2021-11-28T10:07:39.631913Z",
     "iopub.status.busy": "2021-11-28T10:07:39.631328Z",
     "iopub.status.idle": "2021-11-28T10:07:39.642798Z",
     "shell.execute_reply": "2021-11-28T10:07:39.642055Z"
    },
    "papermill": {
     "duration": 0.048409,
     "end_time": "2021-11-28T10:07:39.642923",
     "exception": false,
     "start_time": "2021-11-28T10:07:39.594514",
     "status": "completed"
    },
    "tags": []
   },
   "outputs": [
    {
     "data": {
      "text/plain": [
       "((11982, 28, 28), (1984, 28, 28))"
      ]
     },
     "execution_count": 13,
     "metadata": {},
     "output_type": "execute_result"
    }
   ],
   "source": [
    "X_train.shape, X_test.shape"
   ]
  },
  {
   "cell_type": "markdown",
   "id": "5ccf3f85",
   "metadata": {
    "papermill": {
     "duration": 0.027361,
     "end_time": "2021-11-28T10:07:39.697536",
     "exception": false,
     "start_time": "2021-11-28T10:07:39.670175",
     "status": "completed"
    },
    "tags": []
   },
   "source": [
    "We reshape the data to flatten the image pixels into a set of features or co-variates:"
   ]
  },
  {
   "cell_type": "code",
   "execution_count": 14,
   "id": "5286a4a3",
   "metadata": {
    "execution": {
     "iopub.execute_input": "2021-11-28T10:07:39.756439Z",
     "iopub.status.busy": "2021-11-28T10:07:39.755908Z",
     "iopub.status.idle": "2021-11-28T10:07:39.769766Z",
     "shell.execute_reply": "2021-11-28T10:07:39.769344Z"
    },
    "papermill": {
     "duration": 0.045263,
     "end_time": "2021-11-28T10:07:39.769885",
     "exception": false,
     "start_time": "2021-11-28T10:07:39.724622",
     "status": "completed"
    },
    "tags": []
   },
   "outputs": [
    {
     "data": {
      "text/plain": [
       "((11982, 784), (1984, 784))"
      ]
     },
     "execution_count": 14,
     "metadata": {},
     "output_type": "execute_result"
    }
   ],
   "source": [
    "X_train = X_train.reshape(X_train.shape[0], -1)\n",
    "X_test = X_test.reshape(X_test.shape[0], -1)\n",
    "X_train.shape, X_test.shape"
   ]
  },
  {
   "cell_type": "code",
   "execution_count": 15,
   "id": "73c5f88a",
   "metadata": {
    "execution": {
     "iopub.execute_input": "2021-11-28T10:07:39.835861Z",
     "iopub.status.busy": "2021-11-28T10:07:39.835299Z",
     "iopub.status.idle": "2021-11-28T10:07:39.850632Z",
     "shell.execute_reply": "2021-11-28T10:07:39.850157Z"
    },
    "papermill": {
     "duration": 0.053474,
     "end_time": "2021-11-28T10:07:39.850758",
     "exception": false,
     "start_time": "2021-11-28T10:07:39.797284",
     "status": "completed"
    },
    "tags": []
   },
   "outputs": [],
   "source": [
    "#Impoting functions from 'Kudzu'\n",
    "from kudzu.model import Model\n",
    "from kudzu.train import Learner\n",
    "from kudzu.optim import GD\n",
    "from kudzu.data import Data, Sampler,Dataloader\n",
    "\n",
    "from kudzu.callbacks import AccCallback\n",
    "from kudzu.callbacks import ClfCallback\n",
    "\n",
    "from kudzu.loss import MSE\n",
    "\n",
    "from kudzu.layer import Sigmoid,Relu\n",
    "from kudzu.layer import Affine"
   ]
  },
  {
   "cell_type": "markdown",
   "id": "bc01172a",
   "metadata": {
    "papermill": {
     "duration": 0.027316,
     "end_time": "2021-11-28T10:07:39.905661",
     "exception": false,
     "start_time": "2021-11-28T10:07:39.878345",
     "status": "completed"
    },
    "tags": []
   },
   "source": [
    "### Let us create a `Config` class, to store important parameters. \n",
    "This class essentially plays the role of a dictionary."
   ]
  },
  {
   "cell_type": "code",
   "execution_count": 16,
   "id": "978281aa",
   "metadata": {
    "execution": {
     "iopub.execute_input": "2021-11-28T10:07:39.964421Z",
     "iopub.status.busy": "2021-11-28T10:07:39.963888Z",
     "iopub.status.idle": "2021-11-28T10:07:39.976086Z",
     "shell.execute_reply": "2021-11-28T10:07:39.975663Z"
    },
    "papermill": {
     "duration": 0.043312,
     "end_time": "2021-11-28T10:07:39.976201",
     "exception": false,
     "start_time": "2021-11-28T10:07:39.932889",
     "status": "completed"
    },
    "tags": []
   },
   "outputs": [],
   "source": [
    "class Config:\n",
    "    pass\n",
    "config = Config()\n",
    "config.lr = 0.001\n",
    "config.num_epochs = 250\n",
    "config.bs = 50"
   ]
  },
  {
   "cell_type": "markdown",
   "id": "1385fa59",
   "metadata": {
    "papermill": {
     "duration": 0.026908,
     "end_time": "2021-11-28T10:07:40.030282",
     "exception": false,
     "start_time": "2021-11-28T10:07:40.003374",
     "status": "completed"
    },
    "tags": []
   },
   "source": [
    "### Running Models with the Training data\n",
    "Details about the network layers:\n",
    "- A first affine layer has 784 inputs and does 100 affine transforms. These are followed by a Relu\n",
    "- A second affine layer has 100 inputs from the 100 activations of the past layer, and does 100 affine transforms. These are followed by a Relu\n",
    "- A third affine layer has 100 activations and does 2 affine transformations to create an embedding for visualization. There is no non-linearity here.\n",
    "- A final \"logistic regression\" which has an affine transform from 2 inputs to 1 output, which is squeezed through a sigmoid.\n"
   ]
  },
  {
   "cell_type": "code",
   "execution_count": 17,
   "id": "2b9c66db",
   "metadata": {
    "execution": {
     "iopub.execute_input": "2021-11-28T10:07:40.097499Z",
     "iopub.status.busy": "2021-11-28T10:07:40.096947Z",
     "iopub.status.idle": "2021-11-28T10:07:40.104167Z",
     "shell.execute_reply": "2021-11-28T10:07:40.104582Z"
    },
    "papermill": {
     "duration": 0.047345,
     "end_time": "2021-11-28T10:07:40.104719",
     "exception": false,
     "start_time": "2021-11-28T10:07:40.057374",
     "status": "completed"
    },
    "tags": []
   },
   "outputs": [],
   "source": [
    "data = Data(X_train, y_train.reshape(-1,1))\n",
    "sampler = Sampler(data, config.bs, shuffle=True)\n",
    "\n",
    "dl = Dataloader(data, sampler)\n",
    "\n",
    "opt = GD(config.lr)\n",
    "loss = MSE()"
   ]
  },
  {
   "cell_type": "code",
   "execution_count": 18,
   "id": "b275e4c2",
   "metadata": {
    "execution": {
     "iopub.execute_input": "2021-11-28T10:07:40.163912Z",
     "iopub.status.busy": "2021-11-28T10:07:40.162924Z",
     "iopub.status.idle": "2021-11-28T10:07:40.176251Z",
     "shell.execute_reply": "2021-11-28T10:07:40.175800Z"
    },
    "papermill": {
     "duration": 0.044435,
     "end_time": "2021-11-28T10:07:40.176367",
     "exception": false,
     "start_time": "2021-11-28T10:07:40.131932",
     "status": "completed"
    },
    "tags": []
   },
   "outputs": [],
   "source": [
    "training_data_x = X_train\n",
    "testing_data_x = X_test\n",
    "training_data_y = y_train.reshape(-1,1)\n",
    "testing_data_y = y_test.reshape(-1,1)"
   ]
  },
  {
   "cell_type": "code",
   "execution_count": 19,
   "id": "76951160",
   "metadata": {
    "execution": {
     "iopub.execute_input": "2021-11-28T10:07:40.235023Z",
     "iopub.status.busy": "2021-11-28T10:07:40.234474Z",
     "iopub.status.idle": "2021-11-28T10:07:40.251486Z",
     "shell.execute_reply": "2021-11-28T10:07:40.251042Z"
    },
    "papermill": {
     "duration": 0.048028,
     "end_time": "2021-11-28T10:07:40.251601",
     "exception": false,
     "start_time": "2021-11-28T10:07:40.203573",
     "status": "completed"
    },
    "tags": []
   },
   "outputs": [
    {
     "name": "stdout",
     "output_type": "stream",
     "text": [
      "xavier\n",
      "xavier\n",
      "xavier\n",
      "xavier\n",
      "xavier\n"
     ]
    }
   ],
   "source": [
    "layers = [Affine(\"first\", 784, 100), Relu(\"first\"), Affine(\"second\", 100, 100), Relu(\"second\"), Affine(\"third\", 100, 2), Affine(\"last\", 2, 1), Sigmoid(\"last\")]\n",
    "model_nn = Model(layers)\n",
    "model_lr = Model([Affine(\"logits\", 784, 1), Sigmoid(\"sigmoid\")])"
   ]
  },
  {
   "cell_type": "code",
   "execution_count": 20,
   "id": "6eede77a",
   "metadata": {
    "execution": {
     "iopub.execute_input": "2021-11-28T10:07:40.312061Z",
     "iopub.status.busy": "2021-11-28T10:07:40.311516Z",
     "iopub.status.idle": "2021-11-28T10:07:40.323185Z",
     "shell.execute_reply": "2021-11-28T10:07:40.322743Z"
    },
    "papermill": {
     "duration": 0.043954,
     "end_time": "2021-11-28T10:07:40.323304",
     "exception": false,
     "start_time": "2021-11-28T10:07:40.279350",
     "status": "completed"
    },
    "tags": []
   },
   "outputs": [],
   "source": [
    "nn_learner = Learner(loss, model_nn, opt, config.num_epochs)\n",
    "acc_nn = ClfCallback(nn_learner, config.bs, training_data_x , testing_data_x, training_data_y, testing_data_y)\n",
    "nn_learner.set_callbacks([acc_nn])"
   ]
  },
  {
   "cell_type": "code",
   "execution_count": 21,
   "id": "877b6cc7",
   "metadata": {
    "execution": {
     "iopub.execute_input": "2021-11-28T10:07:40.383917Z",
     "iopub.status.busy": "2021-11-28T10:07:40.383395Z",
     "iopub.status.idle": "2021-11-28T10:07:40.394397Z",
     "shell.execute_reply": "2021-11-28T10:07:40.394823Z"
    },
    "papermill": {
     "duration": 0.044077,
     "end_time": "2021-11-28T10:07:40.394957",
     "exception": false,
     "start_time": "2021-11-28T10:07:40.350880",
     "status": "completed"
    },
    "tags": []
   },
   "outputs": [],
   "source": [
    "lr_learner = Learner(loss, model_lr, opt, config.num_epochs)\n",
    "acc_lr = ClfCallback(lr_learner, config.bs, training_data_x , testing_data_x, training_data_y, testing_data_y)\n",
    "lr_learner.set_callbacks([acc_lr])"
   ]
  },
  {
   "cell_type": "code",
   "execution_count": 22,
   "id": "d9b133c3",
   "metadata": {
    "execution": {
     "iopub.execute_input": "2021-11-28T10:07:40.453404Z",
     "iopub.status.busy": "2021-11-28T10:07:40.452896Z",
     "iopub.status.idle": "2021-11-28T10:08:56.975325Z",
     "shell.execute_reply": "2021-11-28T10:08:56.976115Z"
    },
    "papermill": {
     "duration": 76.553718,
     "end_time": "2021-11-28T10:08:56.976276",
     "exception": false,
     "start_time": "2021-11-28T10:07:40.422558",
     "status": "completed"
    },
    "tags": []
   },
   "outputs": [
    {
     "name": "stdout",
     "output_type": "stream",
     "text": [
      "Epoch 0, Loss 0.2379\n",
      "Training Accuracy: 0.6472, Testing Accuracy: 0.6850\n",
      "\n"
     ]
    },
    {
     "name": "stdout",
     "output_type": "stream",
     "text": [
      "Epoch 10, Loss 0.0924\n",
      "Training Accuracy: 0.9099, Testing Accuracy: 0.9244\n",
      "\n"
     ]
    },
    {
     "name": "stdout",
     "output_type": "stream",
     "text": [
      "Epoch 20, Loss 0.0565\n",
      "Training Accuracy: 0.9407, Testing Accuracy: 0.9516\n",
      "\n"
     ]
    },
    {
     "name": "stdout",
     "output_type": "stream",
     "text": [
      "Epoch 30, Loss 0.0442\n",
      "Training Accuracy: 0.9512, Testing Accuracy: 0.9597\n",
      "\n"
     ]
    },
    {
     "name": "stdout",
     "output_type": "stream",
     "text": [
      "Epoch 40, Loss 0.0383\n",
      "Training Accuracy: 0.9569, Testing Accuracy: 0.9642\n",
      "\n"
     ]
    },
    {
     "name": "stdout",
     "output_type": "stream",
     "text": [
      "Epoch 50, Loss 0.0348\n",
      "Training Accuracy: 0.9609, Testing Accuracy: 0.9642\n",
      "\n"
     ]
    },
    {
     "name": "stdout",
     "output_type": "stream",
     "text": [
      "Epoch 60, Loss 0.0323\n",
      "Training Accuracy: 0.9634, Testing Accuracy: 0.9652\n",
      "\n"
     ]
    },
    {
     "name": "stdout",
     "output_type": "stream",
     "text": [
      "Epoch 70, Loss 0.0305\n",
      "Training Accuracy: 0.9650, Testing Accuracy: 0.9682\n",
      "\n"
     ]
    },
    {
     "name": "stdout",
     "output_type": "stream",
     "text": [
      "Epoch 80, Loss 0.029\n",
      "Training Accuracy: 0.9662, Testing Accuracy: 0.9693\n",
      "\n"
     ]
    },
    {
     "name": "stdout",
     "output_type": "stream",
     "text": [
      "Epoch 90, Loss 0.0278\n",
      "Training Accuracy: 0.9674, Testing Accuracy: 0.9703\n",
      "\n"
     ]
    },
    {
     "name": "stdout",
     "output_type": "stream",
     "text": [
      "Epoch 100, Loss 0.0268\n",
      "Training Accuracy: 0.9684, Testing Accuracy: 0.9698\n",
      "\n"
     ]
    },
    {
     "name": "stdout",
     "output_type": "stream",
     "text": [
      "Epoch 110, Loss 0.0259\n",
      "Training Accuracy: 0.9698, Testing Accuracy: 0.9693\n",
      "\n"
     ]
    },
    {
     "name": "stdout",
     "output_type": "stream",
     "text": [
      "Epoch 120, Loss 0.0251\n",
      "Training Accuracy: 0.9707, Testing Accuracy: 0.9713\n",
      "\n"
     ]
    },
    {
     "name": "stdout",
     "output_type": "stream",
     "text": [
      "Epoch 130, Loss 0.0244\n",
      "Training Accuracy: 0.9713, Testing Accuracy: 0.9718\n",
      "\n"
     ]
    },
    {
     "name": "stdout",
     "output_type": "stream",
     "text": [
      "Epoch 140, Loss 0.0238\n",
      "Training Accuracy: 0.9725, Testing Accuracy: 0.9723\n",
      "\n"
     ]
    },
    {
     "name": "stdout",
     "output_type": "stream",
     "text": [
      "Epoch 150, Loss 0.0232\n",
      "Training Accuracy: 0.9737, Testing Accuracy: 0.9733\n",
      "\n"
     ]
    },
    {
     "name": "stdout",
     "output_type": "stream",
     "text": [
      "Epoch 160, Loss 0.0226\n",
      "Training Accuracy: 0.9745, Testing Accuracy: 0.9733\n",
      "\n"
     ]
    },
    {
     "name": "stdout",
     "output_type": "stream",
     "text": [
      "Epoch 170, Loss 0.022\n",
      "Training Accuracy: 0.9753, Testing Accuracy: 0.9738\n",
      "\n"
     ]
    },
    {
     "name": "stdout",
     "output_type": "stream",
     "text": [
      "Epoch 180, Loss 0.0215\n",
      "Training Accuracy: 0.9758, Testing Accuracy: 0.9743\n",
      "\n"
     ]
    },
    {
     "name": "stdout",
     "output_type": "stream",
     "text": [
      "Epoch 190, Loss 0.021\n",
      "Training Accuracy: 0.9765, Testing Accuracy: 0.9743\n",
      "\n"
     ]
    },
    {
     "name": "stdout",
     "output_type": "stream",
     "text": [
      "Epoch 200, Loss 0.0205\n",
      "Training Accuracy: 0.9767, Testing Accuracy: 0.9743\n",
      "\n"
     ]
    },
    {
     "name": "stdout",
     "output_type": "stream",
     "text": [
      "Epoch 210, Loss 0.0201\n",
      "Training Accuracy: 0.9777, Testing Accuracy: 0.9748\n",
      "\n"
     ]
    },
    {
     "name": "stdout",
     "output_type": "stream",
     "text": [
      "Epoch 220, Loss 0.0196\n",
      "Training Accuracy: 0.9783, Testing Accuracy: 0.9748\n",
      "\n"
     ]
    },
    {
     "name": "stdout",
     "output_type": "stream",
     "text": [
      "Epoch 230, Loss 0.0192\n",
      "Training Accuracy: 0.9786, Testing Accuracy: 0.9748\n",
      "\n"
     ]
    },
    {
     "name": "stdout",
     "output_type": "stream",
     "text": [
      "Epoch 240, Loss 0.0188\n",
      "Training Accuracy: 0.9791, Testing Accuracy: 0.9748\n",
      "\n"
     ]
    },
    {
     "data": {
      "text/plain": [
       "0.008777921824883399"
      ]
     },
     "execution_count": 22,
     "metadata": {},
     "output_type": "execute_result"
    }
   ],
   "source": [
    "nn_learner.train_loop(dl)"
   ]
  },
  {
   "cell_type": "code",
   "execution_count": 23,
   "id": "e0163366",
   "metadata": {
    "execution": {
     "iopub.execute_input": "2021-11-28T10:08:57.058886Z",
     "iopub.status.busy": "2021-11-28T10:08:57.058306Z",
     "iopub.status.idle": "2021-11-28T10:09:11.215419Z",
     "shell.execute_reply": "2021-11-28T10:09:11.216185Z"
    },
    "papermill": {
     "duration": 14.204981,
     "end_time": "2021-11-28T10:09:11.216346",
     "exception": false,
     "start_time": "2021-11-28T10:08:57.011365",
     "status": "completed"
    },
    "tags": []
   },
   "outputs": [
    {
     "name": "stdout",
     "output_type": "stream",
     "text": [
      "Epoch 0, Loss 0.2474\n",
      "Training Accuracy: 0.6580, Testing Accuracy: 0.6658\n",
      "\n"
     ]
    },
    {
     "name": "stdout",
     "output_type": "stream",
     "text": [
      "Epoch 10, Loss 0.1068\n",
      "Training Accuracy: 0.9002, Testing Accuracy: 0.9128\n",
      "\n"
     ]
    },
    {
     "name": "stdout",
     "output_type": "stream",
     "text": [
      "Epoch 20, Loss 0.0813\n",
      "Training Accuracy: 0.9260, Testing Accuracy: 0.9320\n",
      "\n"
     ]
    },
    {
     "name": "stdout",
     "output_type": "stream",
     "text": [
      "Epoch 30, Loss 0.0696\n",
      "Training Accuracy: 0.9350, Testing Accuracy: 0.9425\n",
      "\n"
     ]
    },
    {
     "name": "stdout",
     "output_type": "stream",
     "text": [
      "Epoch 40, Loss 0.0626\n",
      "Training Accuracy: 0.9417, Testing Accuracy: 0.9501\n",
      "\n"
     ]
    },
    {
     "name": "stdout",
     "output_type": "stream",
     "text": [
      "Epoch 50, Loss 0.0579\n",
      "Training Accuracy: 0.9449, Testing Accuracy: 0.9536\n",
      "\n"
     ]
    },
    {
     "name": "stdout",
     "output_type": "stream",
     "text": [
      "Epoch 60, Loss 0.0544\n",
      "Training Accuracy: 0.9475, Testing Accuracy: 0.9572\n",
      "\n"
     ]
    },
    {
     "name": "stdout",
     "output_type": "stream",
     "text": [
      "Epoch 70, Loss 0.0518\n",
      "Training Accuracy: 0.9498, Testing Accuracy: 0.9602\n",
      "\n"
     ]
    },
    {
     "name": "stdout",
     "output_type": "stream",
     "text": [
      "Epoch 80, Loss 0.0496\n",
      "Training Accuracy: 0.9513, Testing Accuracy: 0.9607\n",
      "\n"
     ]
    },
    {
     "name": "stdout",
     "output_type": "stream",
     "text": [
      "Epoch 90, Loss 0.0479\n",
      "Training Accuracy: 0.9526, Testing Accuracy: 0.9622\n",
      "\n"
     ]
    },
    {
     "name": "stdout",
     "output_type": "stream",
     "text": [
      "Epoch 100, Loss 0.0464\n",
      "Training Accuracy: 0.9534, Testing Accuracy: 0.9627\n",
      "\n"
     ]
    },
    {
     "name": "stdout",
     "output_type": "stream",
     "text": [
      "Epoch 110, Loss 0.0452\n",
      "Training Accuracy: 0.9547, Testing Accuracy: 0.9627\n",
      "\n"
     ]
    },
    {
     "name": "stdout",
     "output_type": "stream",
     "text": [
      "Epoch 120, Loss 0.0441\n",
      "Training Accuracy: 0.9554, Testing Accuracy: 0.9647\n",
      "\n"
     ]
    },
    {
     "name": "stdout",
     "output_type": "stream",
     "text": [
      "Epoch 130, Loss 0.0431\n",
      "Training Accuracy: 0.9559, Testing Accuracy: 0.9647\n",
      "\n"
     ]
    },
    {
     "name": "stdout",
     "output_type": "stream",
     "text": [
      "Epoch 140, Loss 0.0423\n",
      "Training Accuracy: 0.9567, Testing Accuracy: 0.9647\n",
      "\n"
     ]
    },
    {
     "name": "stdout",
     "output_type": "stream",
     "text": [
      "Epoch 150, Loss 0.0415\n",
      "Training Accuracy: 0.9572, Testing Accuracy: 0.9657\n",
      "\n"
     ]
    },
    {
     "name": "stdout",
     "output_type": "stream",
     "text": [
      "Epoch 160, Loss 0.0408\n",
      "Training Accuracy: 0.9576, Testing Accuracy: 0.9657\n",
      "\n"
     ]
    },
    {
     "name": "stdout",
     "output_type": "stream",
     "text": [
      "Epoch 170, Loss 0.0402\n",
      "Training Accuracy: 0.9583, Testing Accuracy: 0.9662\n",
      "\n"
     ]
    },
    {
     "name": "stdout",
     "output_type": "stream",
     "text": [
      "Epoch 180, Loss 0.0396\n",
      "Training Accuracy: 0.9588, Testing Accuracy: 0.9667\n",
      "\n"
     ]
    },
    {
     "name": "stdout",
     "output_type": "stream",
     "text": [
      "Epoch 190, Loss 0.0391\n",
      "Training Accuracy: 0.9591, Testing Accuracy: 0.9667\n",
      "\n"
     ]
    },
    {
     "name": "stdout",
     "output_type": "stream",
     "text": [
      "Epoch 200, Loss 0.0386\n",
      "Training Accuracy: 0.9592, Testing Accuracy: 0.9667\n",
      "\n"
     ]
    },
    {
     "name": "stdout",
     "output_type": "stream",
     "text": [
      "Epoch 210, Loss 0.0381\n",
      "Training Accuracy: 0.9597, Testing Accuracy: 0.9662\n",
      "\n"
     ]
    },
    {
     "name": "stdout",
     "output_type": "stream",
     "text": [
      "Epoch 220, Loss 0.0377\n",
      "Training Accuracy: 0.9599, Testing Accuracy: 0.9662\n",
      "\n"
     ]
    },
    {
     "name": "stdout",
     "output_type": "stream",
     "text": [
      "Epoch 230, Loss 0.0373\n",
      "Training Accuracy: 0.9603, Testing Accuracy: 0.9662\n",
      "\n"
     ]
    },
    {
     "name": "stdout",
     "output_type": "stream",
     "text": [
      "Epoch 240, Loss 0.0369\n",
      "Training Accuracy: 0.9605, Testing Accuracy: 0.9677\n",
      "\n"
     ]
    },
    {
     "data": {
      "text/plain": [
       "0.020552519601083112"
      ]
     },
     "execution_count": 23,
     "metadata": {},
     "output_type": "execute_result"
    }
   ],
   "source": [
    "lr_learner.train_loop(dl)"
   ]
  },
  {
   "cell_type": "code",
   "execution_count": 24,
   "id": "ca410940",
   "metadata": {
    "execution": {
     "iopub.execute_input": "2021-11-28T10:09:11.307274Z",
     "iopub.status.busy": "2021-11-28T10:09:11.306746Z",
     "iopub.status.idle": "2021-11-28T10:09:11.537869Z",
     "shell.execute_reply": "2021-11-28T10:09:11.536960Z"
    },
    "papermill": {
     "duration": 0.280483,
     "end_time": "2021-11-28T10:09:11.538019",
     "exception": false,
     "start_time": "2021-11-28T10:09:11.257536",
     "status": "completed"
    },
    "tags": []
   },
   "outputs": [
    {
     "data": {
      "text/plain": [
       "<matplotlib.legend.Legend at 0x7ffa345cbc18>"
      ]
     },
     "execution_count": 24,
     "metadata": {},
     "output_type": "execute_result"
    },
    {
     "data": {
      "image/png": "[encoded data removed]",
      "text/plain": [
       "<Figure size 1080x720 with 1 Axes>"
      ]
     },
     "metadata": {
      "needs_background": "light"
     },
     "output_type": "display_data"
    }
   ],
   "source": [
    "#comparing the results of NN and LR\n",
    "plt.figure(figsize=(15,10))\n",
    "\n",
    "# Neural Network plots\n",
    "plt.plot(acc_nn.accuracies, 'r-', label = \"Training Accuracies - NN\")\n",
    "plt.plot(acc_nn.test_accuracies, 'g-', label = \"Testing Accuracies - NN\")\n",
    "\n",
    "# Logistic Regression plots\n",
    "plt.plot(acc_lr.accuracies, 'k-', label = \"Training Accuracies - LR\")\n",
    "plt.plot(acc_lr.test_accuracies, 'b-', label = \"Testing Accuracies - LR\")\n",
    "plt.legend()"
   ]
  },
  {
   "cell_type": "markdown",
   "id": "80dfb35c",
   "metadata": {
    "papermill": {
     "duration": 0.042623,
     "end_time": "2021-11-28T10:09:11.623625",
     "exception": false,
     "start_time": "2021-11-28T10:09:11.581002",
     "status": "completed"
    },
    "tags": []
   },
   "source": [
    "#### Plotting the outputs of this layer of the NN.\n"
   ]
  },
  {
   "cell_type": "code",
   "execution_count": 25,
   "id": "45eb2ff5",
   "metadata": {
    "execution": {
     "iopub.execute_input": "2021-11-28T10:09:11.713806Z",
     "iopub.status.busy": "2021-11-28T10:09:11.712904Z",
     "iopub.status.idle": "2021-11-28T10:09:11.733900Z",
     "shell.execute_reply": "2021-11-28T10:09:11.733425Z"
    },
    "papermill": {
     "duration": 0.068059,
     "end_time": "2021-11-28T10:09:11.734021",
     "exception": false,
     "start_time": "2021-11-28T10:09:11.665962",
     "status": "completed"
    },
    "tags": []
   },
   "outputs": [],
   "source": [
    "new_model = Model(layers[:-2])\n",
    "testing_plot = new_model(testing_data_x)"
   ]
  },
  {
   "cell_type": "code",
   "execution_count": 26,
   "id": "4c0a5485",
   "metadata": {
    "execution": {
     "iopub.execute_input": "2021-11-28T10:09:11.826561Z",
     "iopub.status.busy": "2021-11-28T10:09:11.825108Z",
     "iopub.status.idle": "2021-11-28T10:09:12.028564Z",
     "shell.execute_reply": "2021-11-28T10:09:12.028074Z"
    },
    "papermill": {
     "duration": 0.251617,
     "end_time": "2021-11-28T10:09:12.028692",
     "exception": false,
     "start_time": "2021-11-28T10:09:11.777075",
     "status": "completed"
    },
    "tags": []
   },
   "outputs": [
    {
     "data": {
      "text/plain": [
       "Text(0.5, 1.0, 'Outputs')"
      ]
     },
     "execution_count": 26,
     "metadata": {},
     "output_type": "execute_result"
    },
    {
     "data": {
      "image/png": "[encoded data removed]",
      "text/plain": [
       "<Figure size 576x504 with 1 Axes>"
      ]
     },
     "metadata": {
      "needs_background": "light"
     },
     "output_type": "display_data"
    }
   ],
   "source": [
    "# Plotting the scatter plot of points and color coding by class\n",
    "plt.figure(figsize=(8,7))\n",
    "plt.scatter(testing_plot[:,0], testing_plot[:,1], alpha = 0.1, c = y_test.ravel());\n",
    "plt.title('Outputs')"
   ]
  },
  {
   "cell_type": "markdown",
   "id": "a74fcf8f",
   "metadata": {
    "papermill": {
     "duration": 0.044364,
     "end_time": "2021-11-28T10:09:12.117651",
     "exception": false,
     "start_time": "2021-11-28T10:09:12.073287",
     "status": "completed"
    },
    "tags": []
   },
   "source": [
    "Probability contours"
   ]
  },
  {
   "cell_type": "code",
   "execution_count": 27,
   "id": "d0afc8e3",
   "metadata": {
    "execution": {
     "iopub.execute_input": "2021-11-28T10:09:12.213717Z",
     "iopub.status.busy": "2021-11-28T10:09:12.212806Z",
     "iopub.status.idle": "2021-11-28T10:09:12.223721Z",
     "shell.execute_reply": "2021-11-28T10:09:12.223261Z"
    },
    "papermill": {
     "duration": 0.061476,
     "end_time": "2021-11-28T10:09:12.223836",
     "exception": false,
     "start_time": "2021-11-28T10:09:12.162360",
     "status": "completed"
    },
    "tags": []
   },
   "outputs": [],
   "source": [
    "model_prob = Model(layers[-2:]) "
   ]
  },
  {
   "cell_type": "code",
   "execution_count": 28,
   "id": "9b96e238",
   "metadata": {
    "execution": {
     "iopub.execute_input": "2021-11-28T10:09:12.351684Z",
     "iopub.status.busy": "2021-11-28T10:09:12.350180Z",
     "iopub.status.idle": "2021-11-28T10:09:12.364776Z",
     "shell.execute_reply": "2021-11-28T10:09:12.365197Z"
    },
    "papermill": {
     "duration": 0.096482,
     "end_time": "2021-11-28T10:09:12.365334",
     "exception": false,
     "start_time": "2021-11-28T10:09:12.268852",
     "status": "completed"
    },
    "tags": []
   },
   "outputs": [],
   "source": [
    "#creating the x and y ranges according to the above generated plot.\n",
    "x_range = np.linspace(-4, 1, 100) \n",
    "y_range = np.linspace(-6, 6, 100) \n",
    "x_grid, y_grid = np.meshgrid(x_range, y_range) # x_grid and y_grig are of size 100 X 100\n",
    "\n",
    "# converting x_grid and y_grid to continuous arrays\n",
    "x_gridflat = np.ravel(x_grid)\n",
    "y_gridflat = np.ravel(y_grid)\n",
    "\n",
    "# The last layer of the current model takes two columns as input. Hence transpose of np.vstack() is required.\n",
    "X = np.vstack((x_gridflat, y_gridflat)).T\n",
    "\n",
    "prob_contour = model_prob(X).reshape(100,100) "
   ]
  },
  {
   "cell_type": "code",
   "execution_count": 29,
   "id": "da72499a",
   "metadata": {
    "execution": {
     "iopub.execute_input": "2021-11-28T10:09:12.462937Z",
     "iopub.status.busy": "2021-11-28T10:09:12.462329Z",
     "iopub.status.idle": "2021-11-28T10:09:12.713663Z",
     "shell.execute_reply": "2021-11-28T10:09:12.712819Z"
    },
    "papermill": {
     "duration": 0.303546,
     "end_time": "2021-11-28T10:09:12.713797",
     "exception": false,
     "start_time": "2021-11-28T10:09:12.410251",
     "status": "completed"
    },
    "tags": []
   },
   "outputs": [
    {
     "data": {
      "image/png": "[encoded data removed]",
      "text/plain": [
       "<Figure size 720x648 with 1 Axes>"
      ]
     },
     "metadata": {
      "needs_background": "light"
     },
     "output_type": "display_data"
    }
   ],
   "source": [
    "plt.figure(figsize=(10,9))\n",
    "plt.scatter(testing_plot[:,0], testing_plot[:,1], alpha = 0.1, c = y_test.ravel())\n",
    "contours = plt.contour(x_grid,y_grid,prob_contour)\n",
    "plt.title('Probability Contours')\n",
    "plt.clabel(contours, inline = True );"
   ]
  },
  {
   "cell_type": "code",
   "execution_count": null,
   "id": "e81b4ac7",
   "metadata": {
    "papermill": {
     "duration": 0.047828,
     "end_time": "2021-11-28T10:09:12.809740",
     "exception": false,
     "start_time": "2021-11-28T10:09:12.761912",
     "status": "completed"
    },
    "tags": []
   },
   "outputs": [],
   "source": []
  }
 ],
 "metadata": {
  "kernelspec": {
   "display_name": "Python 3",
   "language": "python",
   "name": "python3"
  },
  "language_info": {
   "codemirror_mode": {
    "name": "ipython",
    "version": 3
   },
   "file_extension": ".py",
   "mimetype": "text/x-python",
   "name": "python",
   "nbconvert_exporter": "python",
   "pygments_lexer": "ipython3",
   "version": "3.6.15"
  },
  "papermill": {
   "default_parameters": {},
   "duration": 98.862826,
   "end_time": "2021-11-28T10:09:13.266332",
   "environment_variables": {},
   "exception": null,
   "input_path": "2020-08-11-part2.ipynb",
   "output_path": "2020-08-11-part2.ipynb",
   "parameters": {},
   "start_time": "2021-11-28T10:07:34.403506",
   "version": "2.3.3"
  }
 },
 "nbformat": 4,
 "nbformat_minor": 5
}