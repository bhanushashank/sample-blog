{
 "cells": [
  {
   "cell_type": "markdown",
   "id": "98380cd3",
   "metadata": {
    "papermill": {
     "duration": 0.029383,
     "end_time": "2021-10-11T10:07:49.780445",
     "exception": false,
     "start_time": "2021-10-11T10:07:49.751062",
     "status": "completed"
    },
    "tags": []
   },
   "source": [
    "# Distinguish Your Own Digits (DYOD)"
   ]
  },
  {
   "cell_type": "markdown",
   "id": "ef31240d",
   "metadata": {
    "papermill": {
     "duration": 0.023991,
     "end_time": "2021-10-11T10:07:49.829432",
     "exception": false,
     "start_time": "2021-10-11T10:07:49.805441",
     "status": "completed"
    },
    "tags": []
   },
   "source": [
    "You are going to write a classifier that distinguishes between the number 3 and number 8."
   ]
  },
  {
   "cell_type": "code",
   "execution_count": 1,
   "id": "b15c8646",
   "metadata": {
    "execution": {
     "iopub.execute_input": "2021-10-11T10:07:49.889220Z",
     "iopub.status.busy": "2021-10-11T10:07:49.888632Z",
     "iopub.status.idle": "2021-10-11T10:07:49.899105Z",
     "shell.execute_reply": "2021-10-11T10:07:49.898639Z"
    },
    "papermill": {
     "duration": 0.045961,
     "end_time": "2021-10-11T10:07:49.899235",
     "exception": false,
     "start_time": "2021-10-11T10:07:49.853274",
     "status": "completed"
    },
    "tags": []
   },
   "outputs": [],
   "source": [
    "%load_ext autoreload\n",
    "%autoreload 2"
   ]
  },
  {
   "cell_type": "code",
   "execution_count": 2,
   "id": "22ef38dc",
   "metadata": {
    "execution": {
     "iopub.execute_input": "2021-10-11T10:07:49.952437Z",
     "iopub.status.busy": "2021-10-11T10:07:49.951915Z",
     "iopub.status.idle": "2021-10-11T10:07:50.477069Z",
     "shell.execute_reply": "2021-10-11T10:07:50.476500Z"
    },
    "papermill": {
     "duration": 0.553197,
     "end_time": "2021-10-11T10:07:50.477207",
     "exception": false,
     "start_time": "2021-10-11T10:07:49.924010",
     "status": "completed"
    },
    "tags": []
   },
   "outputs": [],
   "source": [
    "%matplotlib inline\n",
    "import numpy as np\n",
    "import matplotlib.pyplot as plt\n",
    "import pandas as pd"
   ]
  },
  {
   "cell_type": "markdown",
   "id": "ba036198",
   "metadata": {
    "papermill": {
     "duration": 0.024164,
     "end_time": "2021-10-11T10:07:50.525534",
     "exception": false,
     "start_time": "2021-10-11T10:07:50.501370",
     "status": "completed"
    },
    "tags": []
   },
   "source": [
    "From the command line run `pip install mnist`. This is a library that will help you bring down the mnist dataset. If you run this from a notebook, you need to put  `!pip install mnist` in a cell by itself."
   ]
  },
  {
   "cell_type": "code",
   "execution_count": 3,
   "id": "bb6ad8a1",
   "metadata": {
    "execution": {
     "iopub.execute_input": "2021-10-11T10:07:50.582162Z",
     "iopub.status.busy": "2021-10-11T10:07:50.581638Z",
     "iopub.status.idle": "2021-10-11T10:07:53.060822Z",
     "shell.execute_reply": "2021-10-11T10:07:53.059935Z"
    },
    "papermill": {
     "duration": 2.511384,
     "end_time": "2021-10-11T10:07:53.060971",
     "exception": false,
     "start_time": "2021-10-11T10:07:50.549587",
     "status": "completed"
    },
    "tags": []
   },
   "outputs": [
    {
     "name": "stdout",
     "output_type": "stream",
     "text": [
      "Collecting mnist\r\n"
     ]
    },
    {
     "name": "stdout",
     "output_type": "stream",
     "text": [
      "  Downloading mnist-0.2.2-py2.py3-none-any.whl (3.5 kB)\r\n",
      "Requirement already satisfied: numpy in /opt/hostedtoolcache/Python/3.6.15/x64/lib/python3.6/site-packages (from mnist) (1.19.5)\r\n"
     ]
    },
    {
     "name": "stdout",
     "output_type": "stream",
     "text": [
      "Installing collected packages: mnist\r\n"
     ]
    },
    {
     "name": "stdout",
     "output_type": "stream",
     "text": [
      "Successfully installed mnist-0.2.2\r\n"
     ]
    }
   ],
   "source": [
    "!pip install mnist"
   ]
  },
  {
   "cell_type": "markdown",
   "id": "69df9c9a",
   "metadata": {
    "papermill": {
     "duration": 0.024906,
     "end_time": "2021-10-11T10:07:53.111831",
     "exception": false,
     "start_time": "2021-10-11T10:07:53.086925",
     "status": "completed"
    },
    "tags": []
   },
   "source": [
    "## Preparing the Data"
   ]
  },
  {
   "cell_type": "code",
   "execution_count": 4,
   "id": "7f69d806",
   "metadata": {
    "execution": {
     "iopub.execute_input": "2021-10-11T10:07:53.170162Z",
     "iopub.status.busy": "2021-10-11T10:07:53.169646Z",
     "iopub.status.idle": "2021-10-11T10:07:53.181575Z",
     "shell.execute_reply": "2021-10-11T10:07:53.181154Z"
    },
    "papermill": {
     "duration": 0.045039,
     "end_time": "2021-10-11T10:07:53.181687",
     "exception": false,
     "start_time": "2021-10-11T10:07:53.136648",
     "status": "completed"
    },
    "tags": []
   },
   "outputs": [],
   "source": [
    "import mnist"
   ]
  },
  {
   "cell_type": "code",
   "execution_count": 5,
   "id": "a411e44f",
   "metadata": {
    "execution": {
     "iopub.execute_input": "2021-10-11T10:07:53.235675Z",
     "iopub.status.busy": "2021-10-11T10:07:53.235154Z",
     "iopub.status.idle": "2021-10-11T10:07:53.754036Z",
     "shell.execute_reply": "2021-10-11T10:07:53.753507Z"
    },
    "papermill": {
     "duration": 0.547552,
     "end_time": "2021-10-11T10:07:53.754176",
     "exception": false,
     "start_time": "2021-10-11T10:07:53.206624",
     "status": "completed"
    },
    "tags": []
   },
   "outputs": [],
   "source": [
    "train_images = mnist.train_images()\n",
    "train_labels = mnist.train_labels()"
   ]
  },
  {
   "cell_type": "code",
   "execution_count": 6,
   "id": "dceab3a5",
   "metadata": {
    "execution": {
     "iopub.execute_input": "2021-10-11T10:07:53.810076Z",
     "iopub.status.busy": "2021-10-11T10:07:53.809559Z",
     "iopub.status.idle": "2021-10-11T10:07:53.824976Z",
     "shell.execute_reply": "2021-10-11T10:07:53.824528Z"
    },
    "papermill": {
     "duration": 0.044919,
     "end_time": "2021-10-11T10:07:53.825093",
     "exception": false,
     "start_time": "2021-10-11T10:07:53.780174",
     "status": "completed"
    },
    "tags": []
   },
   "outputs": [
    {
     "data": {
      "text/plain": [
       "((60000, 28, 28), (60000,))"
      ]
     },
     "execution_count": 6,
     "metadata": {},
     "output_type": "execute_result"
    }
   ],
   "source": [
    "train_images.shape, train_labels.shape"
   ]
  },
  {
   "cell_type": "code",
   "execution_count": 7,
   "id": "f50dc2bb",
   "metadata": {
    "execution": {
     "iopub.execute_input": "2021-10-11T10:07:53.878782Z",
     "iopub.status.busy": "2021-10-11T10:07:53.878282Z",
     "iopub.status.idle": "2021-10-11T10:07:54.034720Z",
     "shell.execute_reply": "2021-10-11T10:07:54.034179Z"
    },
    "papermill": {
     "duration": 0.184536,
     "end_time": "2021-10-11T10:07:54.034861",
     "exception": false,
     "start_time": "2021-10-11T10:07:53.850325",
     "status": "completed"
    },
    "tags": []
   },
   "outputs": [],
   "source": [
    "test_images = mnist.test_images()\n",
    "test_labels = mnist.test_labels()"
   ]
  },
  {
   "cell_type": "code",
   "execution_count": 8,
   "id": "fc38cf1b",
   "metadata": {
    "execution": {
     "iopub.execute_input": "2021-10-11T10:07:54.094119Z",
     "iopub.status.busy": "2021-10-11T10:07:54.093599Z",
     "iopub.status.idle": "2021-10-11T10:07:54.104529Z",
     "shell.execute_reply": "2021-10-11T10:07:54.104096Z"
    },
    "papermill": {
     "duration": 0.044212,
     "end_time": "2021-10-11T10:07:54.104639",
     "exception": false,
     "start_time": "2021-10-11T10:07:54.060427",
     "status": "completed"
    },
    "tags": []
   },
   "outputs": [
    {
     "data": {
      "text/plain": [
       "((10000, 28, 28), (10000,))"
      ]
     },
     "execution_count": 8,
     "metadata": {},
     "output_type": "execute_result"
    }
   ],
   "source": [
    "test_images.shape, test_labels.shape"
   ]
  },
  {
   "cell_type": "code",
   "execution_count": 9,
   "id": "f9ed8fe0",
   "metadata": {
    "execution": {
     "iopub.execute_input": "2021-10-11T10:07:54.161961Z",
     "iopub.status.busy": "2021-10-11T10:07:54.161454Z",
     "iopub.status.idle": "2021-10-11T10:07:54.297457Z",
     "shell.execute_reply": "2021-10-11T10:07:54.297928Z"
    },
    "papermill": {
     "duration": 0.167865,
     "end_time": "2021-10-11T10:07:54.298082",
     "exception": false,
     "start_time": "2021-10-11T10:07:54.130217",
     "status": "completed"
    },
    "tags": []
   },
   "outputs": [
    {
     "name": "stdout",
     "output_type": "stream",
     "text": [
      "2\n"
     ]
    },
    {
     "data": {
      "text/plain": [
       "<matplotlib.image.AxesImage at 0x7fe3512ec860>"
      ]
     },
     "execution_count": 9,
     "metadata": {},
     "output_type": "execute_result"
    },
    {
     "data": {
      "image/png": "[encoded data removed]",
      "text/plain": [
       "<Figure size 432x288 with 1 Axes>"
      ]
     },
     "metadata": {
      "needs_background": "light"
     },
     "output_type": "display_data"
    }
   ],
   "source": [
    "image_index = 7776 # You may select anything up to 60,000\n",
    "print(train_labels[image_index]) \n",
    "plt.imshow(train_images[image_index], cmap='Greys')"
   ]
  },
  {
   "cell_type": "markdown",
   "id": "a8d2388d",
   "metadata": {
    "papermill": {
     "duration": 0.02646,
     "end_time": "2021-10-11T10:07:54.353936",
     "exception": false,
     "start_time": "2021-10-11T10:07:54.327476",
     "status": "completed"
    },
    "tags": []
   },
   "source": [
    "## Filter data to get 3 and 8 out"
   ]
  },
  {
   "cell_type": "code",
   "execution_count": 10,
   "id": "776f7fc7",
   "metadata": {
    "execution": {
     "iopub.execute_input": "2021-10-11T10:07:54.412885Z",
     "iopub.status.busy": "2021-10-11T10:07:54.412323Z",
     "iopub.status.idle": "2021-10-11T10:07:54.430099Z",
     "shell.execute_reply": "2021-10-11T10:07:54.429674Z"
    },
    "papermill": {
     "duration": 0.049762,
     "end_time": "2021-10-11T10:07:54.430217",
     "exception": false,
     "start_time": "2021-10-11T10:07:54.380455",
     "status": "completed"
    },
    "tags": []
   },
   "outputs": [],
   "source": [
    "train_filter = np.where((train_labels == 3 ) | (train_labels == 8))\n",
    "test_filter = np.where((test_labels == 3) | (test_labels == 8))\n",
    "X_train, y_train = train_images[train_filter], train_labels[train_filter]\n",
    "X_test, y_test = test_images[test_filter], test_labels[test_filter]"
   ]
  },
  {
   "cell_type": "markdown",
   "id": "948f0b7e",
   "metadata": {
    "papermill": {
     "duration": 0.026551,
     "end_time": "2021-10-11T10:07:54.483549",
     "exception": false,
     "start_time": "2021-10-11T10:07:54.456998",
     "status": "completed"
    },
    "tags": []
   },
   "source": [
    "We normalize the pizel values in the 0 to 1 range"
   ]
  },
  {
   "cell_type": "code",
   "execution_count": 11,
   "id": "ee4c2166",
   "metadata": {
    "execution": {
     "iopub.execute_input": "2021-10-11T10:07:54.542142Z",
     "iopub.status.busy": "2021-10-11T10:07:54.541608Z",
     "iopub.status.idle": "2021-10-11T10:07:54.589939Z",
     "shell.execute_reply": "2021-10-11T10:07:54.589430Z"
    },
    "papermill": {
     "duration": 0.08001,
     "end_time": "2021-10-11T10:07:54.590080",
     "exception": false,
     "start_time": "2021-10-11T10:07:54.510070",
     "status": "completed"
    },
    "tags": []
   },
   "outputs": [],
   "source": [
    "X_train = X_train/255.\n",
    "X_test = X_test/255."
   ]
  },
  {
   "cell_type": "markdown",
   "id": "ddcf4fab",
   "metadata": {
    "papermill": {
     "duration": 0.026575,
     "end_time": "2021-10-11T10:07:54.644663",
     "exception": false,
     "start_time": "2021-10-11T10:07:54.618088",
     "status": "completed"
    },
    "tags": []
   },
   "source": [
    "And setup the labels as 1 (when the digit is 3) and 0 (when the digit is 8)"
   ]
  },
  {
   "cell_type": "code",
   "execution_count": 12,
   "id": "7dc908f2",
   "metadata": {
    "execution": {
     "iopub.execute_input": "2021-10-11T10:07:54.703481Z",
     "iopub.status.busy": "2021-10-11T10:07:54.702963Z",
     "iopub.status.idle": "2021-10-11T10:07:54.714717Z",
     "shell.execute_reply": "2021-10-11T10:07:54.714303Z"
    },
    "papermill": {
     "duration": 0.043685,
     "end_time": "2021-10-11T10:07:54.714830",
     "exception": false,
     "start_time": "2021-10-11T10:07:54.671145",
     "status": "completed"
    },
    "tags": []
   },
   "outputs": [],
   "source": [
    "y_train = 1*(y_train==3)\n",
    "y_test = 1*(y_test==3)"
   ]
  },
  {
   "cell_type": "code",
   "execution_count": 13,
   "id": "01e4e969",
   "metadata": {
    "execution": {
     "iopub.execute_input": "2021-10-11T10:07:54.772374Z",
     "iopub.status.busy": "2021-10-11T10:07:54.771861Z",
     "iopub.status.idle": "2021-10-11T10:07:54.784349Z",
     "shell.execute_reply": "2021-10-11T10:07:54.783931Z"
    },
    "papermill": {
     "duration": 0.043125,
     "end_time": "2021-10-11T10:07:54.784461",
     "exception": false,
     "start_time": "2021-10-11T10:07:54.741336",
     "status": "completed"
    },
    "tags": []
   },
   "outputs": [
    {
     "data": {
      "text/plain": [
       "((11982, 28, 28), (1984, 28, 28))"
      ]
     },
     "execution_count": 13,
     "metadata": {},
     "output_type": "execute_result"
    }
   ],
   "source": [
    "X_train.shape, X_test.shape"
   ]
  },
  {
   "cell_type": "markdown",
   "id": "5ccf3f85",
   "metadata": {
    "papermill": {
     "duration": 0.02678,
     "end_time": "2021-10-11T10:07:54.838297",
     "exception": false,
     "start_time": "2021-10-11T10:07:54.811517",
     "status": "completed"
    },
    "tags": []
   },
   "source": [
    "We reshape the data to flatten the image pixels into a set of features or co-variates:"
   ]
  },
  {
   "cell_type": "code",
   "execution_count": 14,
   "id": "5286a4a3",
   "metadata": {
    "execution": {
     "iopub.execute_input": "2021-10-11T10:07:54.896019Z",
     "iopub.status.busy": "2021-10-11T10:07:54.895503Z",
     "iopub.status.idle": "2021-10-11T10:07:54.910252Z",
     "shell.execute_reply": "2021-10-11T10:07:54.909839Z"
    },
    "papermill": {
     "duration": 0.045136,
     "end_time": "2021-10-11T10:07:54.910364",
     "exception": false,
     "start_time": "2021-10-11T10:07:54.865228",
     "status": "completed"
    },
    "tags": []
   },
   "outputs": [
    {
     "data": {
      "text/plain": [
       "((11982, 784), (1984, 784))"
      ]
     },
     "execution_count": 14,
     "metadata": {},
     "output_type": "execute_result"
    }
   ],
   "source": [
    "X_train = X_train.reshape(X_train.shape[0], -1)\n",
    "X_test = X_test.reshape(X_test.shape[0], -1)\n",
    "X_train.shape, X_test.shape"
   ]
  },
  {
   "cell_type": "code",
   "execution_count": 15,
   "id": "73c5f88a",
   "metadata": {
    "execution": {
     "iopub.execute_input": "2021-10-11T10:07:54.974277Z",
     "iopub.status.busy": "2021-10-11T10:07:54.973761Z",
     "iopub.status.idle": "2021-10-11T10:07:54.994205Z",
     "shell.execute_reply": "2021-10-11T10:07:54.994931Z"
    },
    "papermill": {
     "duration": 0.057515,
     "end_time": "2021-10-11T10:07:54.995066",
     "exception": false,
     "start_time": "2021-10-11T10:07:54.937551",
     "status": "completed"
    },
    "tags": []
   },
   "outputs": [],
   "source": [
    "#Impoting functions from 'Kudzu'\n",
    "from kudzu.model import Model\n",
    "from kudzu.train import Learner\n",
    "from kudzu.optim import GD\n",
    "from kudzu.data import Data, Sampler,Dataloader\n",
    "\n",
    "from kudzu.callbacks import AccCallback\n",
    "from kudzu.callbacks import ClfCallback\n",
    "\n",
    "from kudzu.loss import MSE\n",
    "\n",
    "from kudzu.layer import Sigmoid,Relu\n",
    "from kudzu.layer import Affine"
   ]
  },
  {
   "cell_type": "markdown",
   "id": "bc01172a",
   "metadata": {
    "papermill": {
     "duration": 0.027074,
     "end_time": "2021-10-11T10:07:55.049873",
     "exception": false,
     "start_time": "2021-10-11T10:07:55.022799",
     "status": "completed"
    },
    "tags": []
   },
   "source": [
    "### Let us create a `Config` class, to store important parameters. \n",
    "This class essentially plays the role of a dictionary."
   ]
  },
  {
   "cell_type": "code",
   "execution_count": 16,
   "id": "978281aa",
   "metadata": {
    "execution": {
     "iopub.execute_input": "2021-10-11T10:07:55.113965Z",
     "iopub.status.busy": "2021-10-11T10:07:55.113427Z",
     "iopub.status.idle": "2021-10-11T10:07:55.119644Z",
     "shell.execute_reply": "2021-10-11T10:07:55.119208Z"
    },
    "papermill": {
     "duration": 0.042881,
     "end_time": "2021-10-11T10:07:55.119752",
     "exception": false,
     "start_time": "2021-10-11T10:07:55.076871",
     "status": "completed"
    },
    "tags": []
   },
   "outputs": [],
   "source": [
    "class Config:\n",
    "    pass\n",
    "config = Config()\n",
    "config.lr = 0.001\n",
    "config.num_epochs = 250\n",
    "config.bs = 50"
   ]
  },
  {
   "cell_type": "markdown",
   "id": "1385fa59",
   "metadata": {
    "papermill": {
     "duration": 0.026918,
     "end_time": "2021-10-11T10:07:55.173704",
     "exception": false,
     "start_time": "2021-10-11T10:07:55.146786",
     "status": "completed"
    },
    "tags": []
   },
   "source": [
    "### Running Models with the Training data\n",
    "Details about the network layers:\n",
    "- A first affine layer has 784 inputs and does 100 affine transforms. These are followed by a Relu\n",
    "- A second affine layer has 100 inputs from the 100 activations of the past layer, and does 100 affine transforms. These are followed by a Relu\n",
    "- A third affine layer has 100 activations and does 2 affine transformations to create an embedding for visualization. There is no non-linearity here.\n",
    "- A final \"logistic regression\" which has an affine transform from 2 inputs to 1 output, which is squeezed through a sigmoid.\n"
   ]
  },
  {
   "cell_type": "code",
   "execution_count": 17,
   "id": "2b9c66db",
   "metadata": {
    "execution": {
     "iopub.execute_input": "2021-10-11T10:07:55.245151Z",
     "iopub.status.busy": "2021-10-11T10:07:55.238468Z",
     "iopub.status.idle": "2021-10-11T10:07:55.248586Z",
     "shell.execute_reply": "2021-10-11T10:07:55.248119Z"
    },
    "papermill": {
     "duration": 0.047999,
     "end_time": "2021-10-11T10:07:55.248694",
     "exception": false,
     "start_time": "2021-10-11T10:07:55.200695",
     "status": "completed"
    },
    "tags": []
   },
   "outputs": [],
   "source": [
    "data = Data(X_train, y_train.reshape(-1,1))\n",
    "sampler = Sampler(data, config.bs, shuffle=True)\n",
    "\n",
    "dl = Dataloader(data, sampler)\n",
    "\n",
    "opt = GD(config.lr)\n",
    "loss = MSE()"
   ]
  },
  {
   "cell_type": "code",
   "execution_count": 18,
   "id": "b275e4c2",
   "metadata": {
    "execution": {
     "iopub.execute_input": "2021-10-11T10:07:55.321424Z",
     "iopub.status.busy": "2021-10-11T10:07:55.320882Z",
     "iopub.status.idle": "2021-10-11T10:07:55.323223Z",
     "shell.execute_reply": "2021-10-11T10:07:55.322756Z"
    },
    "papermill": {
     "duration": 0.047478,
     "end_time": "2021-10-11T10:07:55.323338",
     "exception": false,
     "start_time": "2021-10-11T10:07:55.275860",
     "status": "completed"
    },
    "tags": []
   },
   "outputs": [],
   "source": [
    "training_data_x = X_train\n",
    "testing_data_x = X_test\n",
    "training_data_y = y_train.reshape(-1,1)\n",
    "testing_data_y = y_test.reshape(-1,1)"
   ]
  },
  {
   "cell_type": "code",
   "execution_count": 19,
   "id": "76951160",
   "metadata": {
    "execution": {
     "iopub.execute_input": "2021-10-11T10:07:55.394054Z",
     "iopub.status.busy": "2021-10-11T10:07:55.393525Z",
     "iopub.status.idle": "2021-10-11T10:07:55.404001Z",
     "shell.execute_reply": "2021-10-11T10:07:55.404388Z"
    },
    "papermill": {
     "duration": 0.054066,
     "end_time": "2021-10-11T10:07:55.404518",
     "exception": false,
     "start_time": "2021-10-11T10:07:55.350452",
     "status": "completed"
    },
    "tags": []
   },
   "outputs": [
    {
     "name": "stdout",
     "output_type": "stream",
     "text": [
      "xavier\n",
      "xavier\n",
      "xavier\n",
      "xavier\n",
      "xavier\n"
     ]
    }
   ],
   "source": [
    "layers = [Affine(\"first\", 784, 100), Relu(\"first\"), Affine(\"second\", 100, 100), Relu(\"second\"), Affine(\"third\", 100, 2), Affine(\"last\", 2, 1), Sigmoid(\"last\")]\n",
    "model_nn = Model(layers)\n",
    "model_lr = Model([Affine(\"logits\", 784, 1), Sigmoid(\"sigmoid\")])"
   ]
  },
  {
   "cell_type": "code",
   "execution_count": 20,
   "id": "6eede77a",
   "metadata": {
    "execution": {
     "iopub.execute_input": "2021-10-11T10:07:55.470115Z",
     "iopub.status.busy": "2021-10-11T10:07:55.469605Z",
     "iopub.status.idle": "2021-10-11T10:07:55.479030Z",
     "shell.execute_reply": "2021-10-11T10:07:55.478600Z"
    },
    "papermill": {
     "duration": 0.047205,
     "end_time": "2021-10-11T10:07:55.479135",
     "exception": false,
     "start_time": "2021-10-11T10:07:55.431930",
     "status": "completed"
    },
    "tags": []
   },
   "outputs": [],
   "source": [
    "nn_learner = Learner(loss, model_nn, opt, config.num_epochs)\n",
    "acc_nn = ClfCallback(nn_learner, config.bs, training_data_x , testing_data_x, training_data_y, testing_data_y)\n",
    "nn_learner.set_callbacks([acc_nn])"
   ]
  },
  {
   "cell_type": "code",
   "execution_count": 21,
   "id": "877b6cc7",
   "metadata": {
    "execution": {
     "iopub.execute_input": "2021-10-11T10:07:55.539073Z",
     "iopub.status.busy": "2021-10-11T10:07:55.538570Z",
     "iopub.status.idle": "2021-10-11T10:07:55.548936Z",
     "shell.execute_reply": "2021-10-11T10:07:55.549324Z"
    },
    "papermill": {
     "duration": 0.043071,
     "end_time": "2021-10-11T10:07:55.549451",
     "exception": false,
     "start_time": "2021-10-11T10:07:55.506380",
     "status": "completed"
    },
    "tags": []
   },
   "outputs": [],
   "source": [
    "lr_learner = Learner(loss, model_lr, opt, config.num_epochs)\n",
    "acc_lr = ClfCallback(lr_learner, config.bs, training_data_x , testing_data_x, training_data_y, testing_data_y)\n",
    "lr_learner.set_callbacks([acc_lr])"
   ]
  },
  {
   "cell_type": "code",
   "execution_count": 22,
   "id": "d9b133c3",
   "metadata": {
    "execution": {
     "iopub.execute_input": "2021-10-11T10:07:55.609798Z",
     "iopub.status.busy": "2021-10-11T10:07:55.609291Z",
     "iopub.status.idle": "2021-10-11T10:09:13.402044Z",
     "shell.execute_reply": "2021-10-11T10:09:13.402800Z"
    },
    "papermill": {
     "duration": 77.826028,
     "end_time": "2021-10-11T10:09:13.402959",
     "exception": false,
     "start_time": "2021-10-11T10:07:55.576931",
     "status": "completed"
    },
    "tags": []
   },
   "outputs": [
    {
     "name": "stdout",
     "output_type": "stream",
     "text": [
      "Epoch 0, Loss 0.2422\n",
      "Training Accuracy: 0.6802, Testing Accuracy: 0.6673\n",
      "\n"
     ]
    },
    {
     "name": "stdout",
     "output_type": "stream",
     "text": [
      "Epoch 10, Loss 0.1044\n",
      "Training Accuracy: 0.9117, Testing Accuracy: 0.9244\n",
      "\n"
     ]
    },
    {
     "name": "stdout",
     "output_type": "stream",
     "text": [
      "Epoch 20, Loss 0.0597\n",
      "Training Accuracy: 0.9392, Testing Accuracy: 0.9536\n",
      "\n"
     ]
    },
    {
     "name": "stdout",
     "output_type": "stream",
     "text": [
      "Epoch 30, Loss 0.0454\n",
      "Training Accuracy: 0.9512, Testing Accuracy: 0.9637\n",
      "\n"
     ]
    },
    {
     "name": "stdout",
     "output_type": "stream",
     "text": [
      "Epoch 40, Loss 0.0388\n",
      "Training Accuracy: 0.9575, Testing Accuracy: 0.9688\n",
      "\n"
     ]
    },
    {
     "name": "stdout",
     "output_type": "stream",
     "text": [
      "Epoch 50, Loss 0.0349\n",
      "Training Accuracy: 0.9610, Testing Accuracy: 0.9703\n",
      "\n"
     ]
    },
    {
     "name": "stdout",
     "output_type": "stream",
     "text": [
      "Epoch 60, Loss 0.0324\n",
      "Training Accuracy: 0.9634, Testing Accuracy: 0.9698\n",
      "\n"
     ]
    },
    {
     "name": "stdout",
     "output_type": "stream",
     "text": [
      "Epoch 70, Loss 0.0305\n",
      "Training Accuracy: 0.9653, Testing Accuracy: 0.9693\n",
      "\n"
     ]
    },
    {
     "name": "stdout",
     "output_type": "stream",
     "text": [
      "Epoch 80, Loss 0.0291\n",
      "Training Accuracy: 0.9669, Testing Accuracy: 0.9698\n",
      "\n"
     ]
    },
    {
     "name": "stdout",
     "output_type": "stream",
     "text": [
      "Epoch 90, Loss 0.0279\n",
      "Training Accuracy: 0.9684, Testing Accuracy: 0.9698\n",
      "\n"
     ]
    },
    {
     "name": "stdout",
     "output_type": "stream",
     "text": [
      "Epoch 100, Loss 0.0269\n",
      "Training Accuracy: 0.9690, Testing Accuracy: 0.9703\n",
      "\n"
     ]
    },
    {
     "name": "stdout",
     "output_type": "stream",
     "text": [
      "Epoch 110, Loss 0.026\n",
      "Training Accuracy: 0.9707, Testing Accuracy: 0.9708\n",
      "\n"
     ]
    },
    {
     "name": "stdout",
     "output_type": "stream",
     "text": [
      "Epoch 120, Loss 0.0252\n",
      "Training Accuracy: 0.9718, Testing Accuracy: 0.9718\n",
      "\n"
     ]
    },
    {
     "name": "stdout",
     "output_type": "stream",
     "text": [
      "Epoch 130, Loss 0.0245\n",
      "Training Accuracy: 0.9721, Testing Accuracy: 0.9728\n",
      "\n"
     ]
    },
    {
     "name": "stdout",
     "output_type": "stream",
     "text": [
      "Epoch 140, Loss 0.0239\n",
      "Training Accuracy: 0.9737, Testing Accuracy: 0.9723\n",
      "\n"
     ]
    },
    {
     "name": "stdout",
     "output_type": "stream",
     "text": [
      "Epoch 150, Loss 0.0233\n",
      "Training Accuracy: 0.9741, Testing Accuracy: 0.9723\n",
      "\n"
     ]
    },
    {
     "name": "stdout",
     "output_type": "stream",
     "text": [
      "Epoch 160, Loss 0.0228\n",
      "Training Accuracy: 0.9745, Testing Accuracy: 0.9728\n",
      "\n"
     ]
    },
    {
     "name": "stdout",
     "output_type": "stream",
     "text": [
      "Epoch 170, Loss 0.0222\n",
      "Training Accuracy: 0.9750, Testing Accuracy: 0.9728\n",
      "\n"
     ]
    },
    {
     "name": "stdout",
     "output_type": "stream",
     "text": [
      "Epoch 180, Loss 0.0218\n",
      "Training Accuracy: 0.9754, Testing Accuracy: 0.9728\n",
      "\n"
     ]
    },
    {
     "name": "stdout",
     "output_type": "stream",
     "text": [
      "Epoch 190, Loss 0.0213\n",
      "Training Accuracy: 0.9763, Testing Accuracy: 0.9723\n",
      "\n"
     ]
    },
    {
     "name": "stdout",
     "output_type": "stream",
     "text": [
      "Epoch 200, Loss 0.0209\n",
      "Training Accuracy: 0.9765, Testing Accuracy: 0.9723\n",
      "\n"
     ]
    },
    {
     "name": "stdout",
     "output_type": "stream",
     "text": [
      "Epoch 210, Loss 0.0205\n",
      "Training Accuracy: 0.9769, Testing Accuracy: 0.9728\n",
      "\n"
     ]
    },
    {
     "name": "stdout",
     "output_type": "stream",
     "text": [
      "Epoch 220, Loss 0.0201\n",
      "Training Accuracy: 0.9768, Testing Accuracy: 0.9723\n",
      "\n"
     ]
    },
    {
     "name": "stdout",
     "output_type": "stream",
     "text": [
      "Epoch 230, Loss 0.0197\n",
      "Training Accuracy: 0.9775, Testing Accuracy: 0.9723\n",
      "\n"
     ]
    },
    {
     "name": "stdout",
     "output_type": "stream",
     "text": [
      "Epoch 240, Loss 0.0193\n",
      "Training Accuracy: 0.9781, Testing Accuracy: 0.9728\n",
      "\n"
     ]
    },
    {
     "data": {
      "text/plain": [
       "0.0023984109428375985"
      ]
     },
     "execution_count": 22,
     "metadata": {},
     "output_type": "execute_result"
    }
   ],
   "source": [
    "nn_learner.train_loop(dl)"
   ]
  },
  {
   "cell_type": "code",
   "execution_count": 23,
   "id": "e0163366",
   "metadata": {
    "execution": {
     "iopub.execute_input": "2021-10-11T10:09:13.482142Z",
     "iopub.status.busy": "2021-10-11T10:09:13.481612Z",
     "iopub.status.idle": "2021-10-11T10:09:27.452997Z",
     "shell.execute_reply": "2021-10-11T10:09:27.453783Z"
    },
    "papermill": {
     "duration": 14.015811,
     "end_time": "2021-10-11T10:09:27.453941",
     "exception": false,
     "start_time": "2021-10-11T10:09:13.438130",
     "status": "completed"
    },
    "tags": []
   },
   "outputs": [
    {
     "name": "stdout",
     "output_type": "stream",
     "text": [
      "Epoch 0, Loss 0.2249\n",
      "Training Accuracy: 0.7325, Testing Accuracy: 0.7233\n",
      "\n"
     ]
    },
    {
     "name": "stdout",
     "output_type": "stream",
     "text": [
      "Epoch 10, Loss 0.1029\n",
      "Training Accuracy: 0.9074, Testing Accuracy: 0.9163\n",
      "\n"
     ]
    },
    {
     "name": "stdout",
     "output_type": "stream",
     "text": [
      "Epoch 20, Loss 0.0794\n",
      "Training Accuracy: 0.9271, Testing Accuracy: 0.9370\n",
      "\n"
     ]
    },
    {
     "name": "stdout",
     "output_type": "stream",
     "text": [
      "Epoch 30, Loss 0.0685\n",
      "Training Accuracy: 0.9361, Testing Accuracy: 0.9456\n",
      "\n"
     ]
    },
    {
     "name": "stdout",
     "output_type": "stream",
     "text": [
      "Epoch 40, Loss 0.0619\n",
      "Training Accuracy: 0.9404, Testing Accuracy: 0.9511\n",
      "\n"
     ]
    },
    {
     "name": "stdout",
     "output_type": "stream",
     "text": [
      "Epoch 50, Loss 0.0574\n",
      "Training Accuracy: 0.9439, Testing Accuracy: 0.9531\n",
      "\n"
     ]
    },
    {
     "name": "stdout",
     "output_type": "stream",
     "text": [
      "Epoch 60, Loss 0.0541\n",
      "Training Accuracy: 0.9459, Testing Accuracy: 0.9587\n",
      "\n"
     ]
    },
    {
     "name": "stdout",
     "output_type": "stream",
     "text": [
      "Epoch 70, Loss 0.0515\n",
      "Training Accuracy: 0.9481, Testing Accuracy: 0.9597\n",
      "\n"
     ]
    },
    {
     "name": "stdout",
     "output_type": "stream",
     "text": [
      "Epoch 80, Loss 0.0495\n",
      "Training Accuracy: 0.9497, Testing Accuracy: 0.9602\n",
      "\n"
     ]
    },
    {
     "name": "stdout",
     "output_type": "stream",
     "text": [
      "Epoch 90, Loss 0.0478\n",
      "Training Accuracy: 0.9510, Testing Accuracy: 0.9607\n",
      "\n"
     ]
    },
    {
     "name": "stdout",
     "output_type": "stream",
     "text": [
      "Epoch 100, Loss 0.0463\n",
      "Training Accuracy: 0.9520, Testing Accuracy: 0.9617\n",
      "\n"
     ]
    },
    {
     "name": "stdout",
     "output_type": "stream",
     "text": [
      "Epoch 110, Loss 0.0451\n",
      "Training Accuracy: 0.9533, Testing Accuracy: 0.9632\n",
      "\n"
     ]
    },
    {
     "name": "stdout",
     "output_type": "stream",
     "text": [
      "Epoch 120, Loss 0.044\n",
      "Training Accuracy: 0.9546, Testing Accuracy: 0.9637\n",
      "\n"
     ]
    },
    {
     "name": "stdout",
     "output_type": "stream",
     "text": [
      "Epoch 130, Loss 0.0431\n",
      "Training Accuracy: 0.9557, Testing Accuracy: 0.9637\n",
      "\n"
     ]
    },
    {
     "name": "stdout",
     "output_type": "stream",
     "text": [
      "Epoch 140, Loss 0.0422\n",
      "Training Accuracy: 0.9563, Testing Accuracy: 0.9642\n",
      "\n"
     ]
    },
    {
     "name": "stdout",
     "output_type": "stream",
     "text": [
      "Epoch 150, Loss 0.0415\n",
      "Training Accuracy: 0.9569, Testing Accuracy: 0.9647\n",
      "\n"
     ]
    },
    {
     "name": "stdout",
     "output_type": "stream",
     "text": [
      "Epoch 160, Loss 0.0408\n",
      "Training Accuracy: 0.9575, Testing Accuracy: 0.9652\n",
      "\n"
     ]
    },
    {
     "name": "stdout",
     "output_type": "stream",
     "text": [
      "Epoch 170, Loss 0.0402\n",
      "Training Accuracy: 0.9579, Testing Accuracy: 0.9662\n",
      "\n"
     ]
    },
    {
     "name": "stdout",
     "output_type": "stream",
     "text": [
      "Epoch 180, Loss 0.0396\n",
      "Training Accuracy: 0.9585, Testing Accuracy: 0.9662\n",
      "\n"
     ]
    },
    {
     "name": "stdout",
     "output_type": "stream",
     "text": [
      "Epoch 190, Loss 0.0391\n",
      "Training Accuracy: 0.9590, Testing Accuracy: 0.9662\n",
      "\n"
     ]
    },
    {
     "name": "stdout",
     "output_type": "stream",
     "text": [
      "Epoch 200, Loss 0.0386\n",
      "Training Accuracy: 0.9594, Testing Accuracy: 0.9662\n",
      "\n"
     ]
    },
    {
     "name": "stdout",
     "output_type": "stream",
     "text": [
      "Epoch 210, Loss 0.0381\n",
      "Training Accuracy: 0.9599, Testing Accuracy: 0.9672\n",
      "\n"
     ]
    },
    {
     "name": "stdout",
     "output_type": "stream",
     "text": [
      "Epoch 220, Loss 0.0377\n",
      "Training Accuracy: 0.9604, Testing Accuracy: 0.9672\n",
      "\n"
     ]
    },
    {
     "name": "stdout",
     "output_type": "stream",
     "text": [
      "Epoch 230, Loss 0.0373\n",
      "Training Accuracy: 0.9606, Testing Accuracy: 0.9677\n",
      "\n"
     ]
    },
    {
     "name": "stdout",
     "output_type": "stream",
     "text": [
      "Epoch 240, Loss 0.037\n",
      "Training Accuracy: 0.9609, Testing Accuracy: 0.9677\n",
      "\n"
     ]
    },
    {
     "data": {
      "text/plain": [
       "0.006842542947218899"
      ]
     },
     "execution_count": 23,
     "metadata": {},
     "output_type": "execute_result"
    }
   ],
   "source": [
    "lr_learner.train_loop(dl)"
   ]
  },
  {
   "cell_type": "code",
   "execution_count": 24,
   "id": "ca410940",
   "metadata": {
    "execution": {
     "iopub.execute_input": "2021-10-11T10:09:27.546135Z",
     "iopub.status.busy": "2021-10-11T10:09:27.545607Z",
     "iopub.status.idle": "2021-10-11T10:09:27.773493Z",
     "shell.execute_reply": "2021-10-11T10:09:27.773940Z"
    },
    "papermill": {
     "duration": 0.27805,
     "end_time": "2021-10-11T10:09:27.774094",
     "exception": false,
     "start_time": "2021-10-11T10:09:27.496044",
     "status": "completed"
    },
    "tags": []
   },
   "outputs": [
    {
     "data": {
      "text/plain": [
       "<matplotlib.legend.Legend at 0x7fe350e4e9b0>"
      ]
     },
     "execution_count": 24,
     "metadata": {},
     "output_type": "execute_result"
    },
    {
     "data": {
      "image/png": "[encoded data removed]",
      "text/plain": [
       "<Figure size 1080x720 with 1 Axes>"
      ]
     },
     "metadata": {
      "needs_background": "light"
     },
     "output_type": "display_data"
    }
   ],
   "source": [
    "#comparing the results of NN and LR\n",
    "plt.figure(figsize=(15,10))\n",
    "\n",
    "# Neural Network plots\n",
    "plt.plot(acc_nn.accuracies, 'r-', label = \"Training Accuracies - NN\")\n",
    "plt.plot(acc_nn.test_accuracies, 'g-', label = \"Testing Accuracies - NN\")\n",
    "\n",
    "# Logistic Regression plots\n",
    "plt.plot(acc_lr.accuracies, 'k-', label = \"Training Accuracies - LR\")\n",
    "plt.plot(acc_lr.test_accuracies, 'b-', label = \"Testing Accuracies - LR\")\n",
    "plt.legend()"
   ]
  },
  {
   "cell_type": "markdown",
   "id": "80dfb35c",
   "metadata": {
    "papermill": {
     "duration": 0.042653,
     "end_time": "2021-10-11T10:09:27.859948",
     "exception": false,
     "start_time": "2021-10-11T10:09:27.817295",
     "status": "completed"
    },
    "tags": []
   },
   "source": [
    "#### Plotting the outputs of this layer of the NN.\n"
   ]
  },
  {
   "cell_type": "code",
   "execution_count": 25,
   "id": "45eb2ff5",
   "metadata": {
    "execution": {
     "iopub.execute_input": "2021-10-11T10:09:27.950148Z",
     "iopub.status.busy": "2021-10-11T10:09:27.949618Z",
     "iopub.status.idle": "2021-10-11T10:09:27.969367Z",
     "shell.execute_reply": "2021-10-11T10:09:27.968892Z"
    },
    "papermill": {
     "duration": 0.067211,
     "end_time": "2021-10-11T10:09:27.969483",
     "exception": false,
     "start_time": "2021-10-11T10:09:27.902272",
     "status": "completed"
    },
    "tags": []
   },
   "outputs": [],
   "source": [
    "new_model = Model(layers[:-2])\n",
    "testing_plot = new_model(testing_data_x)"
   ]
  },
  {
   "cell_type": "code",
   "execution_count": 26,
   "id": "4c0a5485",
   "metadata": {
    "execution": {
     "iopub.execute_input": "2021-10-11T10:09:28.074037Z",
     "iopub.status.busy": "2021-10-11T10:09:28.073514Z",
     "iopub.status.idle": "2021-10-11T10:09:28.289633Z",
     "shell.execute_reply": "2021-10-11T10:09:28.289132Z"
    },
    "papermill": {
     "duration": 0.270114,
     "end_time": "2021-10-11T10:09:28.289754",
     "exception": false,
     "start_time": "2021-10-11T10:09:28.019640",
     "status": "completed"
    },
    "tags": []
   },
   "outputs": [
    {
     "data": {
      "text/plain": [
       "Text(0.5, 1.0, 'Outputs')"
      ]
     },
     "execution_count": 26,
     "metadata": {},
     "output_type": "execute_result"
    },
    {
     "data": {
      "image/png": "[encoded data removed]",
      "text/plain": [
       "<Figure size 576x504 with 1 Axes>"
      ]
     },
     "metadata": {
      "needs_background": "light"
     },
     "output_type": "display_data"
    }
   ],
   "source": [
    "# Plotting the scatter plot of points and color coding by class\n",
    "plt.figure(figsize=(8,7))\n",
    "plt.scatter(testing_plot[:,0], testing_plot[:,1], alpha = 0.1, c = y_test.ravel());\n",
    "plt.title('Outputs')"
   ]
  },
  {
   "cell_type": "markdown",
   "id": "a74fcf8f",
   "metadata": {
    "papermill": {
     "duration": 0.044973,
     "end_time": "2021-10-11T10:09:28.380015",
     "exception": false,
     "start_time": "2021-10-11T10:09:28.335042",
     "status": "completed"
    },
    "tags": []
   },
   "source": [
    "Probability contours"
   ]
  },
  {
   "cell_type": "code",
   "execution_count": 27,
   "id": "d0afc8e3",
   "metadata": {
    "execution": {
     "iopub.execute_input": "2021-10-11T10:09:28.481979Z",
     "iopub.status.busy": "2021-10-11T10:09:28.481436Z",
     "iopub.status.idle": "2021-10-11T10:09:28.486726Z",
     "shell.execute_reply": "2021-10-11T10:09:28.486297Z"
    },
    "papermill": {
     "duration": 0.061354,
     "end_time": "2021-10-11T10:09:28.486844",
     "exception": false,
     "start_time": "2021-10-11T10:09:28.425490",
     "status": "completed"
    },
    "tags": []
   },
   "outputs": [],
   "source": [
    "model_prob = Model(layers[-2:]) "
   ]
  },
  {
   "cell_type": "code",
   "execution_count": 28,
   "id": "9b96e238",
   "metadata": {
    "execution": {
     "iopub.execute_input": "2021-10-11T10:09:28.614076Z",
     "iopub.status.busy": "2021-10-11T10:09:28.613558Z",
     "iopub.status.idle": "2021-10-11T10:09:28.628059Z",
     "shell.execute_reply": "2021-10-11T10:09:28.628449Z"
    },
    "papermill": {
     "duration": 0.095362,
     "end_time": "2021-10-11T10:09:28.628583",
     "exception": false,
     "start_time": "2021-10-11T10:09:28.533221",
     "status": "completed"
    },
    "tags": []
   },
   "outputs": [],
   "source": [
    "#creating the x and y ranges according to the above generated plot.\n",
    "x_range = np.linspace(-4, 1, 100) \n",
    "y_range = np.linspace(-6, 6, 100) \n",
    "x_grid, y_grid = np.meshgrid(x_range, y_range) # x_grid and y_grig are of size 100 X 100\n",
    "\n",
    "# converting x_grid and y_grid to continuous arrays\n",
    "x_gridflat = np.ravel(x_grid)\n",
    "y_gridflat = np.ravel(y_grid)\n",
    "\n",
    "# The last layer of the current model takes two columns as input. Hence transpose of np.vstack() is required.\n",
    "X = np.vstack((x_gridflat, y_gridflat)).T\n",
    "\n",
    "prob_contour = model_prob(X).reshape(100,100) "
   ]
  },
  {
   "cell_type": "code",
   "execution_count": 29,
   "id": "da72499a",
   "metadata": {
    "execution": {
     "iopub.execute_input": "2021-10-11T10:09:28.738052Z",
     "iopub.status.busy": "2021-10-11T10:09:28.737534Z",
     "iopub.status.idle": "2021-10-11T10:09:28.986077Z",
     "shell.execute_reply": "2021-10-11T10:09:28.985615Z"
    },
    "papermill": {
     "duration": 0.305569,
     "end_time": "2021-10-11T10:09:28.986195",
     "exception": false,
     "start_time": "2021-10-11T10:09:28.680626",
     "status": "completed"
    },
    "tags": []
   },
   "outputs": [
    {
     "data": {
      "image/png": "[encoded data removed]",
      "text/plain": [
       "<Figure size 720x648 with 1 Axes>"
      ]
     },
     "metadata": {
      "needs_background": "light"
     },
     "output_type": "display_data"
    }
   ],
   "source": [
    "plt.figure(figsize=(10,9))\n",
    "plt.scatter(testing_plot[:,0], testing_plot[:,1], alpha = 0.1, c = y_test.ravel())\n",
    "contours = plt.contour(x_grid,y_grid,prob_contour)\n",
    "plt.title('Probability Contours')\n",
    "plt.clabel(contours, inline = True );"
   ]
  },
  {
   "cell_type": "code",
   "execution_count": null,
   "id": "e81b4ac7",
   "metadata": {
    "papermill": {
     "duration": 0.048089,
     "end_time": "2021-10-11T10:09:29.083305",
     "exception": false,
     "start_time": "2021-10-11T10:09:29.035216",
     "status": "completed"
    },
    "tags": []
   },
   "outputs": [],
   "source": []
  }
 ],
 "metadata": {
  "kernelspec": {
   "display_name": "Python 3",
   "language": "python",
   "name": "python3"
  },
  "language_info": {
   "codemirror_mode": {
    "name": "ipython",
    "version": 3
   },
   "file_extension": ".py",
   "mimetype": "text/x-python",
   "name": "python",
   "nbconvert_exporter": "python",
   "pygments_lexer": "ipython3",
   "version": "3.6.15"
  },
  "papermill": {
   "default_parameters": {},
   "duration": 100.830036,
   "end_time": "2021-10-11T10:09:29.541297",
   "environment_variables": {},
   "exception": null,
   "input_path": "2020-08-11-part2.ipynb",
   "output_path": "2020-08-11-part2.ipynb",
   "parameters": {},
   "start_time": "2021-10-11T10:07:48.711261",
   "version": "2.3.3"
  }
 },
 "nbformat": 4,
 "nbformat_minor": 5
}