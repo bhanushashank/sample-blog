{
 "cells": [
  {
   "cell_type": "markdown",
   "id": "98380cd3",
   "metadata": {
    "papermill": {
     "duration": 0.035441,
     "end_time": "2021-12-06T10:09:32.604565",
     "exception": false,
     "start_time": "2021-12-06T10:09:32.569124",
     "status": "completed"
    },
    "tags": []
   },
   "source": [
    "# Distinguish Your Own Digits (DYOD)"
   ]
  },
  {
   "cell_type": "markdown",
   "id": "ef31240d",
   "metadata": {
    "papermill": {
     "duration": 0.027094,
     "end_time": "2021-12-06T10:09:32.659658",
     "exception": false,
     "start_time": "2021-12-06T10:09:32.632564",
     "status": "completed"
    },
    "tags": []
   },
   "source": [
    "You are going to write a classifier that distinguishes between the number 3 and number 8."
   ]
  },
  {
   "cell_type": "code",
   "execution_count": 1,
   "id": "b15c8646",
   "metadata": {
    "execution": {
     "iopub.execute_input": "2021-12-06T10:09:32.729399Z",
     "iopub.status.busy": "2021-12-06T10:09:32.728759Z",
     "iopub.status.idle": "2021-12-06T10:09:32.740739Z",
     "shell.execute_reply": "2021-12-06T10:09:32.740229Z"
    },
    "papermill": {
     "duration": 0.054283,
     "end_time": "2021-12-06T10:09:32.740888",
     "exception": false,
     "start_time": "2021-12-06T10:09:32.686605",
     "status": "completed"
    },
    "tags": []
   },
   "outputs": [],
   "source": [
    "%load_ext autoreload\n",
    "%autoreload 2"
   ]
  },
  {
   "cell_type": "code",
   "execution_count": 2,
   "id": "22ef38dc",
   "metadata": {
    "execution": {
     "iopub.execute_input": "2021-12-06T10:09:32.802234Z",
     "iopub.status.busy": "2021-12-06T10:09:32.801606Z",
     "iopub.status.idle": "2021-12-06T10:09:33.508713Z",
     "shell.execute_reply": "2021-12-06T10:09:33.509193Z"
    },
    "papermill": {
     "duration": 0.741193,
     "end_time": "2021-12-06T10:09:33.509364",
     "exception": false,
     "start_time": "2021-12-06T10:09:32.768171",
     "status": "completed"
    },
    "tags": []
   },
   "outputs": [],
   "source": [
    "%matplotlib inline\n",
    "import numpy as np\n",
    "import matplotlib.pyplot as plt\n",
    "import pandas as pd"
   ]
  },
  {
   "cell_type": "markdown",
   "id": "ba036198",
   "metadata": {
    "papermill": {
     "duration": 0.027822,
     "end_time": "2021-12-06T10:09:33.564687",
     "exception": false,
     "start_time": "2021-12-06T10:09:33.536865",
     "status": "completed"
    },
    "tags": []
   },
   "source": [
    "From the command line run `pip install mnist`. This is a library that will help you bring down the mnist dataset. If you run this from a notebook, you need to put  `!pip install mnist` in a cell by itself."
   ]
  },
  {
   "cell_type": "code",
   "execution_count": 3,
   "id": "bb6ad8a1",
   "metadata": {
    "execution": {
     "iopub.execute_input": "2021-12-06T10:09:33.624816Z",
     "iopub.status.busy": "2021-12-06T10:09:33.624202Z",
     "iopub.status.idle": "2021-12-06T10:09:35.701402Z",
     "shell.execute_reply": "2021-12-06T10:09:35.700240Z"
    },
    "papermill": {
     "duration": 2.109714,
     "end_time": "2021-12-06T10:09:35.701576",
     "exception": false,
     "start_time": "2021-12-06T10:09:33.591862",
     "status": "completed"
    },
    "tags": []
   },
   "outputs": [
    {
     "name": "stdout",
     "output_type": "stream",
     "text": [
      "Collecting mnist\r\n"
     ]
    },
    {
     "name": "stdout",
     "output_type": "stream",
     "text": [
      "  Downloading mnist-0.2.2-py2.py3-none-any.whl (3.5 kB)\r\n"
     ]
    },
    {
     "name": "stdout",
     "output_type": "stream",
     "text": [
      "Requirement already satisfied: numpy in /opt/hostedtoolcache/Python/3.6.15/x64/lib/python3.6/site-packages (from mnist) (1.19.5)\r\n"
     ]
    },
    {
     "name": "stdout",
     "output_type": "stream",
     "text": [
      "Installing collected packages: mnist\r\n"
     ]
    },
    {
     "name": "stdout",
     "output_type": "stream",
     "text": [
      "Successfully installed mnist-0.2.2\r\n"
     ]
    }
   ],
   "source": [
    "!pip install mnist"
   ]
  },
  {
   "cell_type": "markdown",
   "id": "69df9c9a",
   "metadata": {
    "papermill": {
     "duration": 0.028638,
     "end_time": "2021-12-06T10:09:35.759162",
     "exception": false,
     "start_time": "2021-12-06T10:09:35.730524",
     "status": "completed"
    },
    "tags": []
   },
   "source": [
    "## Preparing the Data"
   ]
  },
  {
   "cell_type": "code",
   "execution_count": 4,
   "id": "7f69d806",
   "metadata": {
    "execution": {
     "iopub.execute_input": "2021-12-06T10:09:35.822934Z",
     "iopub.status.busy": "2021-12-06T10:09:35.820747Z",
     "iopub.status.idle": "2021-12-06T10:09:35.838364Z",
     "shell.execute_reply": "2021-12-06T10:09:35.837857Z"
    },
    "papermill": {
     "duration": 0.050582,
     "end_time": "2021-12-06T10:09:35.838501",
     "exception": false,
     "start_time": "2021-12-06T10:09:35.787919",
     "status": "completed"
    },
    "tags": []
   },
   "outputs": [],
   "source": [
    "import mnist"
   ]
  },
  {
   "cell_type": "code",
   "execution_count": 5,
   "id": "a411e44f",
   "metadata": {
    "execution": {
     "iopub.execute_input": "2021-12-06T10:09:35.901293Z",
     "iopub.status.busy": "2021-12-06T10:09:35.900688Z",
     "iopub.status.idle": "2021-12-06T10:09:36.674456Z",
     "shell.execute_reply": "2021-12-06T10:09:36.673882Z"
    },
    "papermill": {
     "duration": 0.807009,
     "end_time": "2021-12-06T10:09:36.674594",
     "exception": false,
     "start_time": "2021-12-06T10:09:35.867585",
     "status": "completed"
    },
    "tags": []
   },
   "outputs": [],
   "source": [
    "train_images = mnist.train_images()\n",
    "train_labels = mnist.train_labels()"
   ]
  },
  {
   "cell_type": "code",
   "execution_count": 6,
   "id": "dceab3a5",
   "metadata": {
    "execution": {
     "iopub.execute_input": "2021-12-06T10:09:36.743027Z",
     "iopub.status.busy": "2021-12-06T10:09:36.742416Z",
     "iopub.status.idle": "2021-12-06T10:09:36.760667Z",
     "shell.execute_reply": "2021-12-06T10:09:36.761128Z"
    },
    "papermill": {
     "duration": 0.052458,
     "end_time": "2021-12-06T10:09:36.761285",
     "exception": false,
     "start_time": "2021-12-06T10:09:36.708827",
     "status": "completed"
    },
    "tags": []
   },
   "outputs": [
    {
     "data": {
      "text/plain": [
       "((60000, 28, 28), (60000,))"
      ]
     },
     "execution_count": 6,
     "metadata": {},
     "output_type": "execute_result"
    }
   ],
   "source": [
    "train_images.shape, train_labels.shape"
   ]
  },
  {
   "cell_type": "code",
   "execution_count": 7,
   "id": "f50dc2bb",
   "metadata": {
    "execution": {
     "iopub.execute_input": "2021-12-06T10:09:36.829762Z",
     "iopub.status.busy": "2021-12-06T10:09:36.829075Z",
     "iopub.status.idle": "2021-12-06T10:09:37.073508Z",
     "shell.execute_reply": "2021-12-06T10:09:37.072796Z"
    },
    "papermill": {
     "duration": 0.279278,
     "end_time": "2021-12-06T10:09:37.073691",
     "exception": false,
     "start_time": "2021-12-06T10:09:36.794413",
     "status": "completed"
    },
    "tags": []
   },
   "outputs": [],
   "source": [
    "test_images = mnist.test_images()\n",
    "test_labels = mnist.test_labels()"
   ]
  },
  {
   "cell_type": "code",
   "execution_count": 8,
   "id": "fc38cf1b",
   "metadata": {
    "execution": {
     "iopub.execute_input": "2021-12-06T10:09:37.138687Z",
     "iopub.status.busy": "2021-12-06T10:09:37.138084Z",
     "iopub.status.idle": "2021-12-06T10:09:37.157771Z",
     "shell.execute_reply": "2021-12-06T10:09:37.157245Z"
    },
    "papermill": {
     "duration": 0.053214,
     "end_time": "2021-12-06T10:09:37.157911",
     "exception": false,
     "start_time": "2021-12-06T10:09:37.104697",
     "status": "completed"
    },
    "tags": []
   },
   "outputs": [
    {
     "data": {
      "text/plain": [
       "((10000, 28, 28), (10000,))"
      ]
     },
     "execution_count": 8,
     "metadata": {},
     "output_type": "execute_result"
    }
   ],
   "source": [
    "test_images.shape, test_labels.shape"
   ]
  },
  {
   "cell_type": "code",
   "execution_count": 9,
   "id": "f9ed8fe0",
   "metadata": {
    "execution": {
     "iopub.execute_input": "2021-12-06T10:09:37.220776Z",
     "iopub.status.busy": "2021-12-06T10:09:37.220169Z",
     "iopub.status.idle": "2021-12-06T10:09:37.392411Z",
     "shell.execute_reply": "2021-12-06T10:09:37.391884Z"
    },
    "papermill": {
     "duration": 0.205287,
     "end_time": "2021-12-06T10:09:37.392544",
     "exception": false,
     "start_time": "2021-12-06T10:09:37.187257",
     "status": "completed"
    },
    "tags": []
   },
   "outputs": [
    {
     "name": "stdout",
     "output_type": "stream",
     "text": [
      "2\n"
     ]
    },
    {
     "data": {
      "text/plain": [
       "<matplotlib.image.AxesImage at 0x7f647ae924e0>"
      ]
     },
     "execution_count": 9,
     "metadata": {},
     "output_type": "execute_result"
    },
    {
     "data": {
      "image/png": "[encoded data removed]",
      "text/plain": [
       "<Figure size 432x288 with 1 Axes>"
      ]
     },
     "metadata": {
      "needs_background": "light"
     },
     "output_type": "display_data"
    }
   ],
   "source": [
    "image_index = 7776 # You may select anything up to 60,000\n",
    "print(train_labels[image_index]) \n",
    "plt.imshow(train_images[image_index], cmap='Greys')"
   ]
  },
  {
   "cell_type": "markdown",
   "id": "a8d2388d",
   "metadata": {
    "papermill": {
     "duration": 0.031238,
     "end_time": "2021-12-06T10:09:37.455244",
     "exception": false,
     "start_time": "2021-12-06T10:09:37.424006",
     "status": "completed"
    },
    "tags": []
   },
   "source": [
    "## Filter data to get 3 and 8 out"
   ]
  },
  {
   "cell_type": "code",
   "execution_count": 10,
   "id": "776f7fc7",
   "metadata": {
    "execution": {
     "iopub.execute_input": "2021-12-06T10:09:37.527611Z",
     "iopub.status.busy": "2021-12-06T10:09:37.526954Z",
     "iopub.status.idle": "2021-12-06T10:09:37.546868Z",
     "shell.execute_reply": "2021-12-06T10:09:37.546251Z"
    },
    "papermill": {
     "duration": 0.060488,
     "end_time": "2021-12-06T10:09:37.547024",
     "exception": false,
     "start_time": "2021-12-06T10:09:37.486536",
     "status": "completed"
    },
    "tags": []
   },
   "outputs": [],
   "source": [
    "train_filter = np.where((train_labels == 3 ) | (train_labels == 8))\n",
    "test_filter = np.where((test_labels == 3) | (test_labels == 8))\n",
    "X_train, y_train = train_images[train_filter], train_labels[train_filter]\n",
    "X_test, y_test = test_images[test_filter], test_labels[test_filter]"
   ]
  },
  {
   "cell_type": "markdown",
   "id": "948f0b7e",
   "metadata": {
    "papermill": {
     "duration": 0.032465,
     "end_time": "2021-12-06T10:09:37.614456",
     "exception": false,
     "start_time": "2021-12-06T10:09:37.581991",
     "status": "completed"
    },
    "tags": []
   },
   "source": [
    "We normalize the pizel values in the 0 to 1 range"
   ]
  },
  {
   "cell_type": "code",
   "execution_count": 11,
   "id": "ee4c2166",
   "metadata": {
    "execution": {
     "iopub.execute_input": "2021-12-06T10:09:37.684788Z",
     "iopub.status.busy": "2021-12-06T10:09:37.684154Z",
     "iopub.status.idle": "2021-12-06T10:09:37.738900Z",
     "shell.execute_reply": "2021-12-06T10:09:37.737762Z"
    },
    "papermill": {
     "duration": 0.092826,
     "end_time": "2021-12-06T10:09:37.739137",
     "exception": false,
     "start_time": "2021-12-06T10:09:37.646311",
     "status": "completed"
    },
    "tags": []
   },
   "outputs": [],
   "source": [
    "X_train = X_train/255.\n",
    "X_test = X_test/255."
   ]
  },
  {
   "cell_type": "markdown",
   "id": "ddcf4fab",
   "metadata": {
    "papermill": {
     "duration": 0.031299,
     "end_time": "2021-12-06T10:09:37.802834",
     "exception": false,
     "start_time": "2021-12-06T10:09:37.771535",
     "status": "completed"
    },
    "tags": []
   },
   "source": [
    "And setup the labels as 1 (when the digit is 3) and 0 (when the digit is 8)"
   ]
  },
  {
   "cell_type": "code",
   "execution_count": 12,
   "id": "7dc908f2",
   "metadata": {
    "execution": {
     "iopub.execute_input": "2021-12-06T10:09:37.871092Z",
     "iopub.status.busy": "2021-12-06T10:09:37.870465Z",
     "iopub.status.idle": "2021-12-06T10:09:37.883762Z",
     "shell.execute_reply": "2021-12-06T10:09:37.884281Z"
    },
    "papermill": {
     "duration": 0.05071,
     "end_time": "2021-12-06T10:09:37.884432",
     "exception": false,
     "start_time": "2021-12-06T10:09:37.833722",
     "status": "completed"
    },
    "tags": []
   },
   "outputs": [],
   "source": [
    "y_train = 1*(y_train==3)\n",
    "y_test = 1*(y_test==3)"
   ]
  },
  {
   "cell_type": "code",
   "execution_count": 13,
   "id": "01e4e969",
   "metadata": {
    "execution": {
     "iopub.execute_input": "2021-12-06T10:09:37.952500Z",
     "iopub.status.busy": "2021-12-06T10:09:37.951872Z",
     "iopub.status.idle": "2021-12-06T10:09:37.965961Z",
     "shell.execute_reply": "2021-12-06T10:09:37.966451Z"
    },
    "papermill": {
     "duration": 0.050855,
     "end_time": "2021-12-06T10:09:37.966602",
     "exception": false,
     "start_time": "2021-12-06T10:09:37.915747",
     "status": "completed"
    },
    "tags": []
   },
   "outputs": [
    {
     "data": {
      "text/plain": [
       "((11982, 28, 28), (1984, 28, 28))"
      ]
     },
     "execution_count": 13,
     "metadata": {},
     "output_type": "execute_result"
    }
   ],
   "source": [
    "X_train.shape, X_test.shape"
   ]
  },
  {
   "cell_type": "markdown",
   "id": "5ccf3f85",
   "metadata": {
    "papermill": {
     "duration": 0.031291,
     "end_time": "2021-12-06T10:09:38.029451",
     "exception": false,
     "start_time": "2021-12-06T10:09:37.998160",
     "status": "completed"
    },
    "tags": []
   },
   "source": [
    "We reshape the data to flatten the image pixels into a set of features or co-variates:"
   ]
  },
  {
   "cell_type": "code",
   "execution_count": 14,
   "id": "5286a4a3",
   "metadata": {
    "execution": {
     "iopub.execute_input": "2021-12-06T10:09:38.102848Z",
     "iopub.status.busy": "2021-12-06T10:09:38.102099Z",
     "iopub.status.idle": "2021-12-06T10:09:38.116766Z",
     "shell.execute_reply": "2021-12-06T10:09:38.116273Z"
    },
    "papermill": {
     "duration": 0.056206,
     "end_time": "2021-12-06T10:09:38.116907",
     "exception": false,
     "start_time": "2021-12-06T10:09:38.060701",
     "status": "completed"
    },
    "tags": []
   },
   "outputs": [
    {
     "data": {
      "text/plain": [
       "((11982, 784), (1984, 784))"
      ]
     },
     "execution_count": 14,
     "metadata": {},
     "output_type": "execute_result"
    }
   ],
   "source": [
    "X_train = X_train.reshape(X_train.shape[0], -1)\n",
    "X_test = X_test.reshape(X_test.shape[0], -1)\n",
    "X_train.shape, X_test.shape"
   ]
  },
  {
   "cell_type": "code",
   "execution_count": 15,
   "id": "73c5f88a",
   "metadata": {
    "execution": {
     "iopub.execute_input": "2021-12-06T10:09:38.192944Z",
     "iopub.status.busy": "2021-12-06T10:09:38.192307Z",
     "iopub.status.idle": "2021-12-06T10:09:38.215074Z",
     "shell.execute_reply": "2021-12-06T10:09:38.215605Z"
    },
    "papermill": {
     "duration": 0.062511,
     "end_time": "2021-12-06T10:09:38.215766",
     "exception": false,
     "start_time": "2021-12-06T10:09:38.153255",
     "status": "completed"
    },
    "tags": []
   },
   "outputs": [],
   "source": [
    "#Impoting functions from 'Kudzu'\n",
    "from kudzu.model import Model\n",
    "from kudzu.train import Learner\n",
    "from kudzu.optim import GD\n",
    "from kudzu.data import Data, Sampler,Dataloader\n",
    "\n",
    "from kudzu.callbacks import AccCallback\n",
    "from kudzu.callbacks import ClfCallback\n",
    "\n",
    "from kudzu.loss import MSE\n",
    "\n",
    "from kudzu.layer import Sigmoid,Relu\n",
    "from kudzu.layer import Affine"
   ]
  },
  {
   "cell_type": "markdown",
   "id": "bc01172a",
   "metadata": {
    "papermill": {
     "duration": 0.031849,
     "end_time": "2021-12-06T10:09:38.279573",
     "exception": false,
     "start_time": "2021-12-06T10:09:38.247724",
     "status": "completed"
    },
    "tags": []
   },
   "source": [
    "### Let us create a `Config` class, to store important parameters. \n",
    "This class essentially plays the role of a dictionary."
   ]
  },
  {
   "cell_type": "code",
   "execution_count": 16,
   "id": "978281aa",
   "metadata": {
    "execution": {
     "iopub.execute_input": "2021-12-06T10:09:38.348545Z",
     "iopub.status.busy": "2021-12-06T10:09:38.347725Z",
     "iopub.status.idle": "2021-12-06T10:09:38.361755Z",
     "shell.execute_reply": "2021-12-06T10:09:38.362258Z"
    },
    "papermill": {
     "duration": 0.051333,
     "end_time": "2021-12-06T10:09:38.362412",
     "exception": false,
     "start_time": "2021-12-06T10:09:38.311079",
     "status": "completed"
    },
    "tags": []
   },
   "outputs": [],
   "source": [
    "class Config:\n",
    "    pass\n",
    "config = Config()\n",
    "config.lr = 0.001\n",
    "config.num_epochs = 250\n",
    "config.bs = 50"
   ]
  },
  {
   "cell_type": "markdown",
   "id": "1385fa59",
   "metadata": {
    "papermill": {
     "duration": 0.03157,
     "end_time": "2021-12-06T10:09:38.425873",
     "exception": false,
     "start_time": "2021-12-06T10:09:38.394303",
     "status": "completed"
    },
    "tags": []
   },
   "source": [
    "### Running Models with the Training data\n",
    "Details about the network layers:\n",
    "- A first affine layer has 784 inputs and does 100 affine transforms. These are followed by a Relu\n",
    "- A second affine layer has 100 inputs from the 100 activations of the past layer, and does 100 affine transforms. These are followed by a Relu\n",
    "- A third affine layer has 100 activations and does 2 affine transformations to create an embedding for visualization. There is no non-linearity here.\n",
    "- A final \"logistic regression\" which has an affine transform from 2 inputs to 1 output, which is squeezed through a sigmoid.\n"
   ]
  },
  {
   "cell_type": "code",
   "execution_count": 17,
   "id": "2b9c66db",
   "metadata": {
    "execution": {
     "iopub.execute_input": "2021-12-06T10:09:38.494071Z",
     "iopub.status.busy": "2021-12-06T10:09:38.493409Z",
     "iopub.status.idle": "2021-12-06T10:09:38.507764Z",
     "shell.execute_reply": "2021-12-06T10:09:38.507237Z"
    },
    "papermill": {
     "duration": 0.050422,
     "end_time": "2021-12-06T10:09:38.507896",
     "exception": false,
     "start_time": "2021-12-06T10:09:38.457474",
     "status": "completed"
    },
    "tags": []
   },
   "outputs": [],
   "source": [
    "data = Data(X_train, y_train.reshape(-1,1))\n",
    "sampler = Sampler(data, config.bs, shuffle=True)\n",
    "\n",
    "dl = Dataloader(data, sampler)\n",
    "\n",
    "opt = GD(config.lr)\n",
    "loss = MSE()"
   ]
  },
  {
   "cell_type": "code",
   "execution_count": 18,
   "id": "b275e4c2",
   "metadata": {
    "execution": {
     "iopub.execute_input": "2021-12-06T10:09:38.579407Z",
     "iopub.status.busy": "2021-12-06T10:09:38.578777Z",
     "iopub.status.idle": "2021-12-06T10:09:38.592716Z",
     "shell.execute_reply": "2021-12-06T10:09:38.593544Z"
    },
    "papermill": {
     "duration": 0.053714,
     "end_time": "2021-12-06T10:09:38.593724",
     "exception": false,
     "start_time": "2021-12-06T10:09:38.540010",
     "status": "completed"
    },
    "tags": []
   },
   "outputs": [],
   "source": [
    "training_data_x = X_train\n",
    "testing_data_x = X_test\n",
    "training_data_y = y_train.reshape(-1,1)\n",
    "testing_data_y = y_test.reshape(-1,1)"
   ]
  },
  {
   "cell_type": "code",
   "execution_count": 19,
   "id": "76951160",
   "metadata": {
    "execution": {
     "iopub.execute_input": "2021-12-06T10:09:38.667910Z",
     "iopub.status.busy": "2021-12-06T10:09:38.667285Z",
     "iopub.status.idle": "2021-12-06T10:09:38.687317Z",
     "shell.execute_reply": "2021-12-06T10:09:38.686819Z"
    },
    "papermill": {
     "duration": 0.059913,
     "end_time": "2021-12-06T10:09:38.687454",
     "exception": false,
     "start_time": "2021-12-06T10:09:38.627541",
     "status": "completed"
    },
    "tags": []
   },
   "outputs": [
    {
     "name": "stdout",
     "output_type": "stream",
     "text": [
      "xavier\n",
      "xavier\n",
      "xavier\n",
      "xavier\n",
      "xavier\n"
     ]
    }
   ],
   "source": [
    "layers = [Affine(\"first\", 784, 100), Relu(\"first\"), Affine(\"second\", 100, 100), Relu(\"second\"), Affine(\"third\", 100, 2), Affine(\"last\", 2, 1), Sigmoid(\"last\")]\n",
    "model_nn = Model(layers)\n",
    "model_lr = Model([Affine(\"logits\", 784, 1), Sigmoid(\"sigmoid\")])"
   ]
  },
  {
   "cell_type": "code",
   "execution_count": 20,
   "id": "6eede77a",
   "metadata": {
    "execution": {
     "iopub.execute_input": "2021-12-06T10:09:38.760138Z",
     "iopub.status.busy": "2021-12-06T10:09:38.759520Z",
     "iopub.status.idle": "2021-12-06T10:09:38.772578Z",
     "shell.execute_reply": "2021-12-06T10:09:38.773073Z"
    },
    "papermill": {
     "duration": 0.05358,
     "end_time": "2021-12-06T10:09:38.773313",
     "exception": false,
     "start_time": "2021-12-06T10:09:38.719733",
     "status": "completed"
    },
    "tags": []
   },
   "outputs": [],
   "source": [
    "nn_learner = Learner(loss, model_nn, opt, config.num_epochs)\n",
    "acc_nn = ClfCallback(nn_learner, config.bs, training_data_x , testing_data_x, training_data_y, testing_data_y)\n",
    "nn_learner.set_callbacks([acc_nn])"
   ]
  },
  {
   "cell_type": "code",
   "execution_count": 21,
   "id": "877b6cc7",
   "metadata": {
    "execution": {
     "iopub.execute_input": "2021-12-06T10:09:38.844316Z",
     "iopub.status.busy": "2021-12-06T10:09:38.843582Z",
     "iopub.status.idle": "2021-12-06T10:09:38.857758Z",
     "shell.execute_reply": "2021-12-06T10:09:38.857212Z"
    },
    "papermill": {
     "duration": 0.051754,
     "end_time": "2021-12-06T10:09:38.857901",
     "exception": false,
     "start_time": "2021-12-06T10:09:38.806147",
     "status": "completed"
    },
    "tags": []
   },
   "outputs": [],
   "source": [
    "lr_learner = Learner(loss, model_lr, opt, config.num_epochs)\n",
    "acc_lr = ClfCallback(lr_learner, config.bs, training_data_x , testing_data_x, training_data_y, testing_data_y)\n",
    "lr_learner.set_callbacks([acc_lr])"
   ]
  },
  {
   "cell_type": "code",
   "execution_count": 22,
   "id": "d9b133c3",
   "metadata": {
    "execution": {
     "iopub.execute_input": "2021-12-06T10:09:38.932180Z",
     "iopub.status.busy": "2021-12-06T10:09:38.931582Z",
     "iopub.status.idle": "2021-12-06T10:11:09.101888Z",
     "shell.execute_reply": "2021-12-06T10:11:09.102743Z"
    },
    "papermill": {
     "duration": 90.212227,
     "end_time": "2021-12-06T10:11:09.102907",
     "exception": false,
     "start_time": "2021-12-06T10:09:38.890680",
     "status": "completed"
    },
    "tags": []
   },
   "outputs": [
    {
     "name": "stdout",
     "output_type": "stream",
     "text": [
      "Epoch 0, Loss 0.2298\n",
      "Training Accuracy: 0.7893, Testing Accuracy: 0.8135\n",
      "\n"
     ]
    },
    {
     "name": "stdout",
     "output_type": "stream",
     "text": [
      "Epoch 10, Loss 0.0664\n",
      "Training Accuracy: 0.9338, Testing Accuracy: 0.9430\n",
      "\n"
     ]
    },
    {
     "name": "stdout",
     "output_type": "stream",
     "text": [
      "Epoch 20, Loss 0.0464\n",
      "Training Accuracy: 0.9505, Testing Accuracy: 0.9582\n",
      "\n"
     ]
    },
    {
     "name": "stdout",
     "output_type": "stream",
     "text": [
      "Epoch 30, Loss 0.0386\n",
      "Training Accuracy: 0.9564, Testing Accuracy: 0.9642\n",
      "\n"
     ]
    },
    {
     "name": "stdout",
     "output_type": "stream",
     "text": [
      "Epoch 40, Loss 0.0344\n",
      "Training Accuracy: 0.9615, Testing Accuracy: 0.9688\n",
      "\n"
     ]
    },
    {
     "name": "stdout",
     "output_type": "stream",
     "text": [
      "Epoch 50, Loss 0.0316\n",
      "Training Accuracy: 0.9644, Testing Accuracy: 0.9703\n",
      "\n"
     ]
    },
    {
     "name": "stdout",
     "output_type": "stream",
     "text": [
      "Epoch 60, Loss 0.0297\n",
      "Training Accuracy: 0.9668, Testing Accuracy: 0.9713\n",
      "\n"
     ]
    },
    {
     "name": "stdout",
     "output_type": "stream",
     "text": [
      "Epoch 70, Loss 0.0281\n",
      "Training Accuracy: 0.9680, Testing Accuracy: 0.9713\n",
      "\n"
     ]
    },
    {
     "name": "stdout",
     "output_type": "stream",
     "text": [
      "Epoch 80, Loss 0.0268\n",
      "Training Accuracy: 0.9692, Testing Accuracy: 0.9733\n",
      "\n"
     ]
    },
    {
     "name": "stdout",
     "output_type": "stream",
     "text": [
      "Epoch 90, Loss 0.0258\n",
      "Training Accuracy: 0.9708, Testing Accuracy: 0.9748\n",
      "\n"
     ]
    },
    {
     "name": "stdout",
     "output_type": "stream",
     "text": [
      "Epoch 100, Loss 0.0248\n",
      "Training Accuracy: 0.9718, Testing Accuracy: 0.9738\n",
      "\n"
     ]
    },
    {
     "name": "stdout",
     "output_type": "stream",
     "text": [
      "Epoch 110, Loss 0.024\n",
      "Training Accuracy: 0.9728, Testing Accuracy: 0.9743\n",
      "\n"
     ]
    },
    {
     "name": "stdout",
     "output_type": "stream",
     "text": [
      "Epoch 120, Loss 0.0232\n",
      "Training Accuracy: 0.9737, Testing Accuracy: 0.9743\n",
      "\n"
     ]
    },
    {
     "name": "stdout",
     "output_type": "stream",
     "text": [
      "Epoch 130, Loss 0.0225\n",
      "Training Accuracy: 0.9738, Testing Accuracy: 0.9733\n",
      "\n"
     ]
    },
    {
     "name": "stdout",
     "output_type": "stream",
     "text": [
      "Epoch 140, Loss 0.0219\n",
      "Training Accuracy: 0.9759, Testing Accuracy: 0.9733\n",
      "\n"
     ]
    },
    {
     "name": "stdout",
     "output_type": "stream",
     "text": [
      "Epoch 150, Loss 0.0213\n",
      "Training Accuracy: 0.9769, Testing Accuracy: 0.9748\n",
      "\n"
     ]
    },
    {
     "name": "stdout",
     "output_type": "stream",
     "text": [
      "Epoch 160, Loss 0.0207\n",
      "Training Accuracy: 0.9775, Testing Accuracy: 0.9753\n",
      "\n"
     ]
    },
    {
     "name": "stdout",
     "output_type": "stream",
     "text": [
      "Epoch 170, Loss 0.0201\n",
      "Training Accuracy: 0.9782, Testing Accuracy: 0.9753\n",
      "\n"
     ]
    },
    {
     "name": "stdout",
     "output_type": "stream",
     "text": [
      "Epoch 180, Loss 0.0196\n",
      "Training Accuracy: 0.9791, Testing Accuracy: 0.9758\n",
      "\n"
     ]
    },
    {
     "name": "stdout",
     "output_type": "stream",
     "text": [
      "Epoch 190, Loss 0.0191\n",
      "Training Accuracy: 0.9795, Testing Accuracy: 0.9763\n",
      "\n"
     ]
    },
    {
     "name": "stdout",
     "output_type": "stream",
     "text": [
      "Epoch 200, Loss 0.0187\n",
      "Training Accuracy: 0.9800, Testing Accuracy: 0.9763\n",
      "\n"
     ]
    },
    {
     "name": "stdout",
     "output_type": "stream",
     "text": [
      "Epoch 210, Loss 0.0182\n",
      "Training Accuracy: 0.9804, Testing Accuracy: 0.9763\n",
      "\n"
     ]
    },
    {
     "name": "stdout",
     "output_type": "stream",
     "text": [
      "Epoch 220, Loss 0.0178\n",
      "Training Accuracy: 0.9806, Testing Accuracy: 0.9768\n",
      "\n"
     ]
    },
    {
     "name": "stdout",
     "output_type": "stream",
     "text": [
      "Epoch 230, Loss 0.0174\n",
      "Training Accuracy: 0.9810, Testing Accuracy: 0.9773\n",
      "\n"
     ]
    },
    {
     "name": "stdout",
     "output_type": "stream",
     "text": [
      "Epoch 240, Loss 0.017\n",
      "Training Accuracy: 0.9815, Testing Accuracy: 0.9768\n",
      "\n"
     ]
    },
    {
     "data": {
      "text/plain": [
       "0.009399437599150134"
      ]
     },
     "execution_count": 22,
     "metadata": {},
     "output_type": "execute_result"
    }
   ],
   "source": [
    "nn_learner.train_loop(dl)"
   ]
  },
  {
   "cell_type": "code",
   "execution_count": 23,
   "id": "e0163366",
   "metadata": {
    "execution": {
     "iopub.execute_input": "2021-12-06T10:11:09.191754Z",
     "iopub.status.busy": "2021-12-06T10:11:09.191112Z",
     "iopub.status.idle": "2021-12-06T10:11:24.546516Z",
     "shell.execute_reply": "2021-12-06T10:11:24.547355Z"
    },
    "papermill": {
     "duration": 15.404489,
     "end_time": "2021-12-06T10:11:24.547513",
     "exception": false,
     "start_time": "2021-12-06T10:11:09.143024",
     "status": "completed"
    },
    "tags": []
   },
   "outputs": [
    {
     "name": "stdout",
     "output_type": "stream",
     "text": [
      "Epoch 0, Loss 0.2387\n",
      "Training Accuracy: 0.6890, Testing Accuracy: 0.6734\n",
      "\n"
     ]
    },
    {
     "name": "stdout",
     "output_type": "stream",
     "text": [
      "Epoch 10, Loss 0.1042\n",
      "Training Accuracy: 0.9035, Testing Accuracy: 0.9108\n",
      "\n"
     ]
    },
    {
     "name": "stdout",
     "output_type": "stream",
     "text": [
      "Epoch 20, Loss 0.0799\n",
      "Training Accuracy: 0.9244, Testing Accuracy: 0.9330\n",
      "\n"
     ]
    },
    {
     "name": "stdout",
     "output_type": "stream",
     "text": [
      "Epoch 30, Loss 0.0686\n",
      "Training Accuracy: 0.9347, Testing Accuracy: 0.9405\n",
      "\n"
     ]
    },
    {
     "name": "stdout",
     "output_type": "stream",
     "text": [
      "Epoch 40, Loss 0.0619\n",
      "Training Accuracy: 0.9408, Testing Accuracy: 0.9486\n",
      "\n"
     ]
    },
    {
     "name": "stdout",
     "output_type": "stream",
     "text": [
      "Epoch 50, Loss 0.0573\n",
      "Training Accuracy: 0.9448, Testing Accuracy: 0.9541\n",
      "\n"
     ]
    },
    {
     "name": "stdout",
     "output_type": "stream",
     "text": [
      "Epoch 60, Loss 0.0539\n",
      "Training Accuracy: 0.9474, Testing Accuracy: 0.9561\n",
      "\n"
     ]
    },
    {
     "name": "stdout",
     "output_type": "stream",
     "text": [
      "Epoch 70, Loss 0.0514\n",
      "Training Accuracy: 0.9493, Testing Accuracy: 0.9577\n",
      "\n"
     ]
    },
    {
     "name": "stdout",
     "output_type": "stream",
     "text": [
      "Epoch 80, Loss 0.0493\n",
      "Training Accuracy: 0.9516, Testing Accuracy: 0.9607\n",
      "\n"
     ]
    },
    {
     "name": "stdout",
     "output_type": "stream",
     "text": [
      "Epoch 90, Loss 0.0476\n",
      "Training Accuracy: 0.9528, Testing Accuracy: 0.9632\n",
      "\n"
     ]
    },
    {
     "name": "stdout",
     "output_type": "stream",
     "text": [
      "Epoch 100, Loss 0.0462\n",
      "Training Accuracy: 0.9543, Testing Accuracy: 0.9632\n",
      "\n"
     ]
    },
    {
     "name": "stdout",
     "output_type": "stream",
     "text": [
      "Epoch 110, Loss 0.0449\n",
      "Training Accuracy: 0.9552, Testing Accuracy: 0.9637\n",
      "\n"
     ]
    },
    {
     "name": "stdout",
     "output_type": "stream",
     "text": [
      "Epoch 120, Loss 0.0439\n",
      "Training Accuracy: 0.9558, Testing Accuracy: 0.9637\n",
      "\n"
     ]
    },
    {
     "name": "stdout",
     "output_type": "stream",
     "text": [
      "Epoch 130, Loss 0.0429\n",
      "Training Accuracy: 0.9563, Testing Accuracy: 0.9642\n",
      "\n"
     ]
    },
    {
     "name": "stdout",
     "output_type": "stream",
     "text": [
      "Epoch 140, Loss 0.0421\n",
      "Training Accuracy: 0.9569, Testing Accuracy: 0.9647\n",
      "\n"
     ]
    },
    {
     "name": "stdout",
     "output_type": "stream",
     "text": [
      "Epoch 150, Loss 0.0414\n",
      "Training Accuracy: 0.9574, Testing Accuracy: 0.9662\n",
      "\n"
     ]
    },
    {
     "name": "stdout",
     "output_type": "stream",
     "text": [
      "Epoch 160, Loss 0.0407\n",
      "Training Accuracy: 0.9584, Testing Accuracy: 0.9667\n",
      "\n"
     ]
    },
    {
     "name": "stdout",
     "output_type": "stream",
     "text": [
      "Epoch 170, Loss 0.0401\n",
      "Training Accuracy: 0.9589, Testing Accuracy: 0.9657\n",
      "\n"
     ]
    },
    {
     "name": "stdout",
     "output_type": "stream",
     "text": [
      "Epoch 180, Loss 0.0395\n",
      "Training Accuracy: 0.9591, Testing Accuracy: 0.9657\n",
      "\n"
     ]
    },
    {
     "name": "stdout",
     "output_type": "stream",
     "text": [
      "Epoch 190, Loss 0.039\n",
      "Training Accuracy: 0.9598, Testing Accuracy: 0.9662\n",
      "\n"
     ]
    },
    {
     "name": "stdout",
     "output_type": "stream",
     "text": [
      "Epoch 200, Loss 0.0385\n",
      "Training Accuracy: 0.9602, Testing Accuracy: 0.9662\n",
      "\n"
     ]
    },
    {
     "name": "stdout",
     "output_type": "stream",
     "text": [
      "Epoch 210, Loss 0.0381\n",
      "Training Accuracy: 0.9603, Testing Accuracy: 0.9662\n",
      "\n"
     ]
    },
    {
     "name": "stdout",
     "output_type": "stream",
     "text": [
      "Epoch 220, Loss 0.0377\n",
      "Training Accuracy: 0.9605, Testing Accuracy: 0.9657\n",
      "\n"
     ]
    },
    {
     "name": "stdout",
     "output_type": "stream",
     "text": [
      "Epoch 230, Loss 0.0373\n",
      "Training Accuracy: 0.9608, Testing Accuracy: 0.9657\n",
      "\n"
     ]
    },
    {
     "name": "stdout",
     "output_type": "stream",
     "text": [
      "Epoch 240, Loss 0.0369\n",
      "Training Accuracy: 0.9607, Testing Accuracy: 0.9667\n",
      "\n"
     ]
    },
    {
     "data": {
      "text/plain": [
       "0.022394944824176723"
      ]
     },
     "execution_count": 23,
     "metadata": {},
     "output_type": "execute_result"
    }
   ],
   "source": [
    "lr_learner.train_loop(dl)"
   ]
  },
  {
   "cell_type": "code",
   "execution_count": 24,
   "id": "ca410940",
   "metadata": {
    "execution": {
     "iopub.execute_input": "2021-12-06T10:11:24.647378Z",
     "iopub.status.busy": "2021-12-06T10:11:24.646758Z",
     "iopub.status.idle": "2021-12-06T10:11:24.903579Z",
     "shell.execute_reply": "2021-12-06T10:11:24.902718Z"
    },
    "papermill": {
     "duration": 0.311156,
     "end_time": "2021-12-06T10:11:24.903719",
     "exception": false,
     "start_time": "2021-12-06T10:11:24.592563",
     "status": "completed"
    },
    "tags": []
   },
   "outputs": [
    {
     "data": {
      "text/plain": [
       "<matplotlib.legend.Legend at 0x7f647aa6dc18>"
      ]
     },
     "execution_count": 24,
     "metadata": {},
     "output_type": "execute_result"
    },
    {
     "data": {
      "image/png": "[encoded data removed]",
      "text/plain": [
       "<Figure size 1080x720 with 1 Axes>"
      ]
     },
     "metadata": {
      "needs_background": "light"
     },
     "output_type": "display_data"
    }
   ],
   "source": [
    "#comparing the results of NN and LR\n",
    "plt.figure(figsize=(15,10))\n",
    "\n",
    "# Neural Network plots\n",
    "plt.plot(acc_nn.accuracies, 'r-', label = \"Training Accuracies - NN\")\n",
    "plt.plot(acc_nn.test_accuracies, 'g-', label = \"Testing Accuracies - NN\")\n",
    "\n",
    "# Logistic Regression plots\n",
    "plt.plot(acc_lr.accuracies, 'k-', label = \"Training Accuracies - LR\")\n",
    "plt.plot(acc_lr.test_accuracies, 'b-', label = \"Testing Accuracies - LR\")\n",
    "plt.legend()"
   ]
  },
  {
   "cell_type": "markdown",
   "id": "80dfb35c",
   "metadata": {
    "papermill": {
     "duration": 0.048438,
     "end_time": "2021-12-06T10:11:24.999156",
     "exception": false,
     "start_time": "2021-12-06T10:11:24.950718",
     "status": "completed"
    },
    "tags": []
   },
   "source": [
    "#### Plotting the outputs of this layer of the NN.\n"
   ]
  },
  {
   "cell_type": "code",
   "execution_count": 25,
   "id": "45eb2ff5",
   "metadata": {
    "execution": {
     "iopub.execute_input": "2021-12-06T10:11:25.099430Z",
     "iopub.status.busy": "2021-12-06T10:11:25.098815Z",
     "iopub.status.idle": "2021-12-06T10:11:25.119495Z",
     "shell.execute_reply": "2021-12-06T10:11:25.119956Z"
    },
    "papermill": {
     "duration": 0.072952,
     "end_time": "2021-12-06T10:11:25.120098",
     "exception": false,
     "start_time": "2021-12-06T10:11:25.047146",
     "status": "completed"
    },
    "tags": []
   },
   "outputs": [],
   "source": [
    "new_model = Model(layers[:-2])\n",
    "testing_plot = new_model(testing_data_x)"
   ]
  },
  {
   "cell_type": "code",
   "execution_count": 26,
   "id": "4c0a5485",
   "metadata": {
    "execution": {
     "iopub.execute_input": "2021-12-06T10:11:25.229267Z",
     "iopub.status.busy": "2021-12-06T10:11:25.219028Z",
     "iopub.status.idle": "2021-12-06T10:11:25.431725Z",
     "shell.execute_reply": "2021-12-06T10:11:25.432187Z"
    },
    "papermill": {
     "duration": 0.264622,
     "end_time": "2021-12-06T10:11:25.432331",
     "exception": false,
     "start_time": "2021-12-06T10:11:25.167709",
     "status": "completed"
    },
    "tags": []
   },
   "outputs": [
    {
     "data": {
      "text/plain": [
       "Text(0.5, 1.0, 'Outputs')"
      ]
     },
     "execution_count": 26,
     "metadata": {},
     "output_type": "execute_result"
    },
    {
     "data": {
      "image/png": "[encoded data removed]",
      "text/plain": [
       "<Figure size 576x504 with 1 Axes>"
      ]
     },
     "metadata": {
      "needs_background": "light"
     },
     "output_type": "display_data"
    }
   ],
   "source": [
    "# Plotting the scatter plot of points and color coding by class\n",
    "plt.figure(figsize=(8,7))\n",
    "plt.scatter(testing_plot[:,0], testing_plot[:,1], alpha = 0.1, c = y_test.ravel());\n",
    "plt.title('Outputs')"
   ]
  },
  {
   "cell_type": "markdown",
   "id": "a74fcf8f",
   "metadata": {
    "papermill": {
     "duration": 0.050544,
     "end_time": "2021-12-06T10:11:25.533009",
     "exception": false,
     "start_time": "2021-12-06T10:11:25.482465",
     "status": "completed"
    },
    "tags": []
   },
   "source": [
    "Probability contours"
   ]
  },
  {
   "cell_type": "code",
   "execution_count": 27,
   "id": "d0afc8e3",
   "metadata": {
    "execution": {
     "iopub.execute_input": "2021-12-06T10:11:25.649751Z",
     "iopub.status.busy": "2021-12-06T10:11:25.643825Z",
     "iopub.status.idle": "2021-12-06T10:11:25.654625Z",
     "shell.execute_reply": "2021-12-06T10:11:25.655107Z"
    },
    "papermill": {
     "duration": 0.071557,
     "end_time": "2021-12-06T10:11:25.655250",
     "exception": false,
     "start_time": "2021-12-06T10:11:25.583693",
     "status": "completed"
    },
    "tags": []
   },
   "outputs": [],
   "source": [
    "model_prob = Model(layers[-2:]) "
   ]
  },
  {
   "cell_type": "code",
   "execution_count": 28,
   "id": "9b96e238",
   "metadata": {
    "execution": {
     "iopub.execute_input": "2021-12-06T10:11:25.786928Z",
     "iopub.status.busy": "2021-12-06T10:11:25.785933Z",
     "iopub.status.idle": "2021-12-06T10:11:25.804871Z",
     "shell.execute_reply": "2021-12-06T10:11:25.803840Z"
    },
    "papermill": {
     "duration": 0.073108,
     "end_time": "2021-12-06T10:11:25.804996",
     "exception": false,
     "start_time": "2021-12-06T10:11:25.731888",
     "status": "completed"
    },
    "tags": []
   },
   "outputs": [],
   "source": [
    "#creating the x and y ranges according to the above generated plot.\n",
    "x_range = np.linspace(-4, 1, 100) \n",
    "y_range = np.linspace(-6, 6, 100) \n",
    "x_grid, y_grid = np.meshgrid(x_range, y_range) # x_grid and y_grig are of size 100 X 100\n",
    "\n",
    "# converting x_grid and y_grid to continuous arrays\n",
    "x_gridflat = np.ravel(x_grid)\n",
    "y_gridflat = np.ravel(y_grid)\n",
    "\n",
    "# The last layer of the current model takes two columns as input. Hence transpose of np.vstack() is required.\n",
    "X = np.vstack((x_gridflat, y_gridflat)).T\n",
    "\n",
    "prob_contour = model_prob(X).reshape(100,100) "
   ]
  },
  {
   "cell_type": "code",
   "execution_count": 29,
   "id": "da72499a",
   "metadata": {
    "execution": {
     "iopub.execute_input": "2021-12-06T10:11:25.912857Z",
     "iopub.status.busy": "2021-12-06T10:11:25.912298Z",
     "iopub.status.idle": "2021-12-06T10:11:26.176530Z",
     "shell.execute_reply": "2021-12-06T10:11:26.176980Z"
    },
    "papermill": {
     "duration": 0.322545,
     "end_time": "2021-12-06T10:11:26.177125",
     "exception": false,
     "start_time": "2021-12-06T10:11:25.854580",
     "status": "completed"
    },
    "tags": []
   },
   "outputs": [
    {
     "data": {
      "image/png": "[encoded data removed]",
      "text/plain": [
       "<Figure size 720x648 with 1 Axes>"
      ]
     },
     "metadata": {
      "needs_background": "light"
     },
     "output_type": "display_data"
    }
   ],
   "source": [
    "plt.figure(figsize=(10,9))\n",
    "plt.scatter(testing_plot[:,0], testing_plot[:,1], alpha = 0.1, c = y_test.ravel())\n",
    "contours = plt.contour(x_grid,y_grid,prob_contour)\n",
    "plt.title('Probability Contours')\n",
    "plt.clabel(contours, inline = True );"
   ]
  },
  {
   "cell_type": "code",
   "execution_count": null,
   "id": "e81b4ac7",
   "metadata": {
    "papermill": {
     "duration": 0.050987,
     "end_time": "2021-12-06T10:11:26.280191",
     "exception": false,
     "start_time": "2021-12-06T10:11:26.229204",
     "status": "completed"
    },
    "tags": []
   },
   "outputs": [],
   "source": []
  }
 ],
 "metadata": {
  "kernelspec": {
   "display_name": "Python 3",
   "language": "python",
   "name": "python3"
  },
  "language_info": {
   "codemirror_mode": {
    "name": "ipython",
    "version": 3
   },
   "file_extension": ".py",
   "mimetype": "text/x-python",
   "name": "python",
   "nbconvert_exporter": "python",
   "pygments_lexer": "ipython3",
   "version": "3.6.15"
  },
  "papermill": {
   "default_parameters": {},
   "duration": 115.46921,
   "end_time": "2021-12-06T10:11:26.741202",
   "environment_variables": {},
   "exception": null,
   "input_path": "2020-08-11-part2.ipynb",
   "output_path": "2020-08-11-part2.ipynb",
   "parameters": {},
   "start_time": "2021-12-06T10:09:31.271992",
   "version": "2.3.3"
  }
 },
 "nbformat": 4,
 "nbformat_minor": 5
}