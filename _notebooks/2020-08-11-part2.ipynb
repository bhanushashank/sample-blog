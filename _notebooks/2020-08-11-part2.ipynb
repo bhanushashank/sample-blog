{
 "cells": [
  {
   "cell_type": "markdown",
   "id": "98380cd3",
   "metadata": {
    "papermill": {
     "duration": 0.039093,
     "end_time": "2022-02-22T00:27:39.372891",
     "exception": false,
     "start_time": "2022-02-22T00:27:39.333798",
     "status": "completed"
    },
    "tags": []
   },
   "source": [
    "# Distinguish Your Own Digits (DYOD)"
   ]
  },
  {
   "cell_type": "markdown",
   "id": "ef31240d",
   "metadata": {
    "papermill": {
     "duration": 0.030184,
     "end_time": "2022-02-22T00:27:39.432170",
     "exception": false,
     "start_time": "2022-02-22T00:27:39.401986",
     "status": "completed"
    },
    "tags": []
   },
   "source": [
    "You are going to write a classifier that distinguishes between the number 3 and number 8."
   ]
  },
  {
   "cell_type": "code",
   "execution_count": 1,
   "id": "b15c8646",
   "metadata": {
    "execution": {
     "iopub.execute_input": "2022-02-22T00:27:39.503258Z",
     "iopub.status.busy": "2022-02-22T00:27:39.502572Z",
     "iopub.status.idle": "2022-02-22T00:27:39.515440Z",
     "shell.execute_reply": "2022-02-22T00:27:39.514869Z"
    },
    "papermill": {
     "duration": 0.054328,
     "end_time": "2022-02-22T00:27:39.515610",
     "exception": false,
     "start_time": "2022-02-22T00:27:39.461282",
     "status": "completed"
    },
    "tags": []
   },
   "outputs": [],
   "source": [
    "%load_ext autoreload\n",
    "%autoreload 2"
   ]
  },
  {
   "cell_type": "code",
   "execution_count": 2,
   "id": "22ef38dc",
   "metadata": {
    "execution": {
     "iopub.execute_input": "2022-02-22T00:27:39.576099Z",
     "iopub.status.busy": "2022-02-22T00:27:39.575439Z",
     "iopub.status.idle": "2022-02-22T00:27:40.282065Z",
     "shell.execute_reply": "2022-02-22T00:27:40.281322Z"
    },
    "papermill": {
     "duration": 0.738729,
     "end_time": "2022-02-22T00:27:40.282229",
     "exception": false,
     "start_time": "2022-02-22T00:27:39.543500",
     "status": "completed"
    },
    "tags": []
   },
   "outputs": [],
   "source": [
    "%matplotlib inline\n",
    "import numpy as np\n",
    "import matplotlib.pyplot as plt\n",
    "import pandas as pd"
   ]
  },
  {
   "cell_type": "markdown",
   "id": "ba036198",
   "metadata": {
    "papermill": {
     "duration": 0.02841,
     "end_time": "2022-02-22T00:27:40.339948",
     "exception": false,
     "start_time": "2022-02-22T00:27:40.311538",
     "status": "completed"
    },
    "tags": []
   },
   "source": [
    "From the command line run `pip install mnist`. This is a library that will help you bring down the mnist dataset. If you run this from a notebook, you need to put  `!pip install mnist` in a cell by itself."
   ]
  },
  {
   "cell_type": "code",
   "execution_count": 3,
   "id": "bb6ad8a1",
   "metadata": {
    "execution": {
     "iopub.execute_input": "2022-02-22T00:27:40.405516Z",
     "iopub.status.busy": "2022-02-22T00:27:40.404373Z",
     "iopub.status.idle": "2022-02-22T00:27:42.380772Z",
     "shell.execute_reply": "2022-02-22T00:27:42.381326Z"
    },
    "papermill": {
     "duration": 2.013786,
     "end_time": "2022-02-22T00:27:42.381492",
     "exception": false,
     "start_time": "2022-02-22T00:27:40.367706",
     "status": "completed"
    },
    "tags": []
   },
   "outputs": [
    {
     "name": "stdout",
     "output_type": "stream",
     "text": [
      "Collecting mnist\r\n",
      "  Downloading mnist-0.2.2-py2.py3-none-any.whl (3.5 kB)\r\n",
      "Requirement already satisfied: numpy in /opt/hostedtoolcache/Python/3.6.15/x64/lib/python3.6/site-packages (from mnist) (1.19.5)\r\n"
     ]
    },
    {
     "name": "stdout",
     "output_type": "stream",
     "text": [
      "Installing collected packages: mnist\r\n"
     ]
    },
    {
     "name": "stdout",
     "output_type": "stream",
     "text": [
      "Successfully installed mnist-0.2.2\r\n"
     ]
    }
   ],
   "source": [
    "!pip install mnist"
   ]
  },
  {
   "cell_type": "markdown",
   "id": "69df9c9a",
   "metadata": {
    "papermill": {
     "duration": 0.029778,
     "end_time": "2022-02-22T00:27:42.441571",
     "exception": false,
     "start_time": "2022-02-22T00:27:42.411793",
     "status": "completed"
    },
    "tags": []
   },
   "source": [
    "## Preparing the Data"
   ]
  },
  {
   "cell_type": "code",
   "execution_count": 4,
   "id": "7f69d806",
   "metadata": {
    "execution": {
     "iopub.execute_input": "2022-02-22T00:27:42.507914Z",
     "iopub.status.busy": "2022-02-22T00:27:42.507271Z",
     "iopub.status.idle": "2022-02-22T00:27:42.524680Z",
     "shell.execute_reply": "2022-02-22T00:27:42.524103Z"
    },
    "papermill": {
     "duration": 0.051495,
     "end_time": "2022-02-22T00:27:42.524829",
     "exception": false,
     "start_time": "2022-02-22T00:27:42.473334",
     "status": "completed"
    },
    "tags": []
   },
   "outputs": [],
   "source": [
    "import mnist"
   ]
  },
  {
   "cell_type": "code",
   "execution_count": 5,
   "id": "a411e44f",
   "metadata": {
    "execution": {
     "iopub.execute_input": "2022-02-22T00:27:42.587521Z",
     "iopub.status.busy": "2022-02-22T00:27:42.586884Z",
     "iopub.status.idle": "2022-02-22T00:27:43.130338Z",
     "shell.execute_reply": "2022-02-22T00:27:43.129285Z"
    },
    "papermill": {
     "duration": 0.576536,
     "end_time": "2022-02-22T00:27:43.130624",
     "exception": false,
     "start_time": "2022-02-22T00:27:42.554088",
     "status": "completed"
    },
    "tags": []
   },
   "outputs": [],
   "source": [
    "train_images = mnist.train_images()\n",
    "train_labels = mnist.train_labels()"
   ]
  },
  {
   "cell_type": "code",
   "execution_count": 6,
   "id": "dceab3a5",
   "metadata": {
    "execution": {
     "iopub.execute_input": "2022-02-22T00:27:43.198633Z",
     "iopub.status.busy": "2022-02-22T00:27:43.198002Z",
     "iopub.status.idle": "2022-02-22T00:27:43.214874Z",
     "shell.execute_reply": "2022-02-22T00:27:43.214307Z"
    },
    "papermill": {
     "duration": 0.05114,
     "end_time": "2022-02-22T00:27:43.215011",
     "exception": false,
     "start_time": "2022-02-22T00:27:43.163871",
     "status": "completed"
    },
    "tags": []
   },
   "outputs": [
    {
     "data": {
      "text/plain": [
       "((60000, 28, 28), (60000,))"
      ]
     },
     "execution_count": 6,
     "metadata": {},
     "output_type": "execute_result"
    }
   ],
   "source": [
    "train_images.shape, train_labels.shape"
   ]
  },
  {
   "cell_type": "code",
   "execution_count": 7,
   "id": "f50dc2bb",
   "metadata": {
    "execution": {
     "iopub.execute_input": "2022-02-22T00:27:43.277834Z",
     "iopub.status.busy": "2022-02-22T00:27:43.277174Z",
     "iopub.status.idle": "2022-02-22T00:27:43.424462Z",
     "shell.execute_reply": "2022-02-22T00:27:43.423176Z"
    },
    "papermill": {
     "duration": 0.180833,
     "end_time": "2022-02-22T00:27:43.424642",
     "exception": false,
     "start_time": "2022-02-22T00:27:43.243809",
     "status": "completed"
    },
    "tags": []
   },
   "outputs": [],
   "source": [
    "test_images = mnist.test_images()\n",
    "test_labels = mnist.test_labels()"
   ]
  },
  {
   "cell_type": "code",
   "execution_count": 8,
   "id": "fc38cf1b",
   "metadata": {
    "execution": {
     "iopub.execute_input": "2022-02-22T00:27:43.488300Z",
     "iopub.status.busy": "2022-02-22T00:27:43.487423Z",
     "iopub.status.idle": "2022-02-22T00:27:43.502686Z",
     "shell.execute_reply": "2022-02-22T00:27:43.503221Z"
    },
    "papermill": {
     "duration": 0.05,
     "end_time": "2022-02-22T00:27:43.503386",
     "exception": false,
     "start_time": "2022-02-22T00:27:43.453386",
     "status": "completed"
    },
    "tags": []
   },
   "outputs": [
    {
     "data": {
      "text/plain": [
       "((10000, 28, 28), (10000,))"
      ]
     },
     "execution_count": 8,
     "metadata": {},
     "output_type": "execute_result"
    }
   ],
   "source": [
    "test_images.shape, test_labels.shape"
   ]
  },
  {
   "cell_type": "code",
   "execution_count": 9,
   "id": "f9ed8fe0",
   "metadata": {
    "execution": {
     "iopub.execute_input": "2022-02-22T00:27:43.569126Z",
     "iopub.status.busy": "2022-02-22T00:27:43.567965Z",
     "iopub.status.idle": "2022-02-22T00:27:43.731045Z",
     "shell.execute_reply": "2022-02-22T00:27:43.731544Z"
    },
    "papermill": {
     "duration": 0.198849,
     "end_time": "2022-02-22T00:27:43.731709",
     "exception": false,
     "start_time": "2022-02-22T00:27:43.532860",
     "status": "completed"
    },
    "tags": []
   },
   "outputs": [
    {
     "name": "stdout",
     "output_type": "stream",
     "text": [
      "2\n"
     ]
    },
    {
     "data": {
      "text/plain": [
       "<matplotlib.image.AxesImage at 0x7f649907c588>"
      ]
     },
     "execution_count": 9,
     "metadata": {},
     "output_type": "execute_result"
    },
    {
     "data": {
      "image/png": "[encoded data removed]",
      "text/plain": [
       "<Figure size 432x288 with 1 Axes>"
      ]
     },
     "metadata": {
      "needs_background": "light"
     },
     "output_type": "display_data"
    }
   ],
   "source": [
    "image_index = 7776 # You may select anything up to 60,000\n",
    "print(train_labels[image_index]) \n",
    "plt.imshow(train_images[image_index], cmap='Greys')"
   ]
  },
  {
   "cell_type": "markdown",
   "id": "a8d2388d",
   "metadata": {
    "papermill": {
     "duration": 0.03018,
     "end_time": "2022-02-22T00:27:43.791852",
     "exception": false,
     "start_time": "2022-02-22T00:27:43.761672",
     "status": "completed"
    },
    "tags": []
   },
   "source": [
    "## Filter data to get 3 and 8 out"
   ]
  },
  {
   "cell_type": "code",
   "execution_count": 10,
   "id": "776f7fc7",
   "metadata": {
    "execution": {
     "iopub.execute_input": "2022-02-22T00:27:43.858506Z",
     "iopub.status.busy": "2022-02-22T00:27:43.857829Z",
     "iopub.status.idle": "2022-02-22T00:27:43.879980Z",
     "shell.execute_reply": "2022-02-22T00:27:43.879284Z"
    },
    "papermill": {
     "duration": 0.05822,
     "end_time": "2022-02-22T00:27:43.880161",
     "exception": false,
     "start_time": "2022-02-22T00:27:43.821941",
     "status": "completed"
    },
    "tags": []
   },
   "outputs": [],
   "source": [
    "train_filter = np.where((train_labels == 3 ) | (train_labels == 8))\n",
    "test_filter = np.where((test_labels == 3) | (test_labels == 8))\n",
    "X_train, y_train = train_images[train_filter], train_labels[train_filter]\n",
    "X_test, y_test = test_images[test_filter], test_labels[test_filter]"
   ]
  },
  {
   "cell_type": "markdown",
   "id": "948f0b7e",
   "metadata": {
    "papermill": {
     "duration": 0.030021,
     "end_time": "2022-02-22T00:27:43.942227",
     "exception": false,
     "start_time": "2022-02-22T00:27:43.912206",
     "status": "completed"
    },
    "tags": []
   },
   "source": [
    "We normalize the pizel values in the 0 to 1 range"
   ]
  },
  {
   "cell_type": "code",
   "execution_count": 11,
   "id": "ee4c2166",
   "metadata": {
    "execution": {
     "iopub.execute_input": "2022-02-22T00:27:44.006599Z",
     "iopub.status.busy": "2022-02-22T00:27:44.005951Z",
     "iopub.status.idle": "2022-02-22T00:27:44.061757Z",
     "shell.execute_reply": "2022-02-22T00:27:44.061033Z"
    },
    "papermill": {
     "duration": 0.089758,
     "end_time": "2022-02-22T00:27:44.061895",
     "exception": false,
     "start_time": "2022-02-22T00:27:43.972137",
     "status": "completed"
    },
    "tags": []
   },
   "outputs": [],
   "source": [
    "X_train = X_train/255.\n",
    "X_test = X_test/255."
   ]
  },
  {
   "cell_type": "markdown",
   "id": "ddcf4fab",
   "metadata": {
    "papermill": {
     "duration": 0.030123,
     "end_time": "2022-02-22T00:27:44.122030",
     "exception": false,
     "start_time": "2022-02-22T00:27:44.091907",
     "status": "completed"
    },
    "tags": []
   },
   "source": [
    "And setup the labels as 1 (when the digit is 3) and 0 (when the digit is 8)"
   ]
  },
  {
   "cell_type": "code",
   "execution_count": 12,
   "id": "7dc908f2",
   "metadata": {
    "execution": {
     "iopub.execute_input": "2022-02-22T00:27:44.187384Z",
     "iopub.status.busy": "2022-02-22T00:27:44.186744Z",
     "iopub.status.idle": "2022-02-22T00:27:44.203216Z",
     "shell.execute_reply": "2022-02-22T00:27:44.202687Z"
    },
    "papermill": {
     "duration": 0.051316,
     "end_time": "2022-02-22T00:27:44.203361",
     "exception": false,
     "start_time": "2022-02-22T00:27:44.152045",
     "status": "completed"
    },
    "tags": []
   },
   "outputs": [],
   "source": [
    "y_train = 1*(y_train==3)\n",
    "y_test = 1*(y_test==3)"
   ]
  },
  {
   "cell_type": "code",
   "execution_count": 13,
   "id": "01e4e969",
   "metadata": {
    "execution": {
     "iopub.execute_input": "2022-02-22T00:27:44.268545Z",
     "iopub.status.busy": "2022-02-22T00:27:44.267912Z",
     "iopub.status.idle": "2022-02-22T00:27:44.284529Z",
     "shell.execute_reply": "2022-02-22T00:27:44.285046Z"
    },
    "papermill": {
     "duration": 0.051599,
     "end_time": "2022-02-22T00:27:44.285217",
     "exception": false,
     "start_time": "2022-02-22T00:27:44.233618",
     "status": "completed"
    },
    "tags": []
   },
   "outputs": [
    {
     "data": {
      "text/plain": [
       "((11982, 28, 28), (1984, 28, 28))"
      ]
     },
     "execution_count": 13,
     "metadata": {},
     "output_type": "execute_result"
    }
   ],
   "source": [
    "X_train.shape, X_test.shape"
   ]
  },
  {
   "cell_type": "markdown",
   "id": "5ccf3f85",
   "metadata": {
    "papermill": {
     "duration": 0.030148,
     "end_time": "2022-02-22T00:27:44.345714",
     "exception": false,
     "start_time": "2022-02-22T00:27:44.315566",
     "status": "completed"
    },
    "tags": []
   },
   "source": [
    "We reshape the data to flatten the image pixels into a set of features or co-variates:"
   ]
  },
  {
   "cell_type": "code",
   "execution_count": 14,
   "id": "5286a4a3",
   "metadata": {
    "execution": {
     "iopub.execute_input": "2022-02-22T00:27:44.413193Z",
     "iopub.status.busy": "2022-02-22T00:27:44.412492Z",
     "iopub.status.idle": "2022-02-22T00:27:44.428932Z",
     "shell.execute_reply": "2022-02-22T00:27:44.428369Z"
    },
    "papermill": {
     "duration": 0.053014,
     "end_time": "2022-02-22T00:27:44.429070",
     "exception": false,
     "start_time": "2022-02-22T00:27:44.376056",
     "status": "completed"
    },
    "tags": []
   },
   "outputs": [
    {
     "data": {
      "text/plain": [
       "((11982, 784), (1984, 784))"
      ]
     },
     "execution_count": 14,
     "metadata": {},
     "output_type": "execute_result"
    }
   ],
   "source": [
    "X_train = X_train.reshape(X_train.shape[0], -1)\n",
    "X_test = X_test.reshape(X_test.shape[0], -1)\n",
    "X_train.shape, X_test.shape"
   ]
  },
  {
   "cell_type": "code",
   "execution_count": 15,
   "id": "73c5f88a",
   "metadata": {
    "execution": {
     "iopub.execute_input": "2022-02-22T00:27:44.495616Z",
     "iopub.status.busy": "2022-02-22T00:27:44.494976Z",
     "iopub.status.idle": "2022-02-22T00:27:44.519933Z",
     "shell.execute_reply": "2022-02-22T00:27:44.519215Z"
    },
    "papermill": {
     "duration": 0.060437,
     "end_time": "2022-02-22T00:27:44.520116",
     "exception": false,
     "start_time": "2022-02-22T00:27:44.459679",
     "status": "completed"
    },
    "tags": []
   },
   "outputs": [],
   "source": [
    "#Impoting functions from 'Kudzu'\n",
    "from kudzu.model import Model\n",
    "from kudzu.train import Learner\n",
    "from kudzu.optim import GD\n",
    "from kudzu.data import Data, Sampler,Dataloader\n",
    "\n",
    "from kudzu.callbacks import AccCallback\n",
    "from kudzu.callbacks import ClfCallback\n",
    "\n",
    "from kudzu.loss import MSE\n",
    "\n",
    "from kudzu.layer import Sigmoid,Relu\n",
    "from kudzu.layer import Affine"
   ]
  },
  {
   "cell_type": "markdown",
   "id": "bc01172a",
   "metadata": {
    "papermill": {
     "duration": 0.030462,
     "end_time": "2022-02-22T00:27:44.582891",
     "exception": false,
     "start_time": "2022-02-22T00:27:44.552429",
     "status": "completed"
    },
    "tags": []
   },
   "source": [
    "### Let us create a `Config` class, to store important parameters. \n",
    "This class essentially plays the role of a dictionary."
   ]
  },
  {
   "cell_type": "code",
   "execution_count": 16,
   "id": "978281aa",
   "metadata": {
    "execution": {
     "iopub.execute_input": "2022-02-22T00:27:44.649691Z",
     "iopub.status.busy": "2022-02-22T00:27:44.649046Z",
     "iopub.status.idle": "2022-02-22T00:27:44.663225Z",
     "shell.execute_reply": "2022-02-22T00:27:44.662701Z"
    },
    "papermill": {
     "duration": 0.049941,
     "end_time": "2022-02-22T00:27:44.663365",
     "exception": false,
     "start_time": "2022-02-22T00:27:44.613424",
     "status": "completed"
    },
    "tags": []
   },
   "outputs": [],
   "source": [
    "class Config:\n",
    "    pass\n",
    "config = Config()\n",
    "config.lr = 0.001\n",
    "config.num_epochs = 250\n",
    "config.bs = 50"
   ]
  },
  {
   "cell_type": "markdown",
   "id": "1385fa59",
   "metadata": {
    "papermill": {
     "duration": 0.030688,
     "end_time": "2022-02-22T00:27:44.724845",
     "exception": false,
     "start_time": "2022-02-22T00:27:44.694157",
     "status": "completed"
    },
    "tags": []
   },
   "source": [
    "### Running Models with the Training data\n",
    "Details about the network layers:\n",
    "- A first affine layer has 784 inputs and does 100 affine transforms. These are followed by a Relu\n",
    "- A second affine layer has 100 inputs from the 100 activations of the past layer, and does 100 affine transforms. These are followed by a Relu\n",
    "- A third affine layer has 100 activations and does 2 affine transformations to create an embedding for visualization. There is no non-linearity here.\n",
    "- A final \"logistic regression\" which has an affine transform from 2 inputs to 1 output, which is squeezed through a sigmoid.\n"
   ]
  },
  {
   "cell_type": "code",
   "execution_count": 17,
   "id": "2b9c66db",
   "metadata": {
    "execution": {
     "iopub.execute_input": "2022-02-22T00:27:44.790971Z",
     "iopub.status.busy": "2022-02-22T00:27:44.790358Z",
     "iopub.status.idle": "2022-02-22T00:27:44.809388Z",
     "shell.execute_reply": "2022-02-22T00:27:44.808853Z"
    },
    "papermill": {
     "duration": 0.053895,
     "end_time": "2022-02-22T00:27:44.809531",
     "exception": false,
     "start_time": "2022-02-22T00:27:44.755636",
     "status": "completed"
    },
    "tags": []
   },
   "outputs": [],
   "source": [
    "data = Data(X_train, y_train.reshape(-1,1))\n",
    "sampler = Sampler(data, config.bs, shuffle=True)\n",
    "\n",
    "dl = Dataloader(data, sampler)\n",
    "\n",
    "opt = GD(config.lr)\n",
    "loss = MSE()"
   ]
  },
  {
   "cell_type": "code",
   "execution_count": 18,
   "id": "b275e4c2",
   "metadata": {
    "execution": {
     "iopub.execute_input": "2022-02-22T00:27:44.876240Z",
     "iopub.status.busy": "2022-02-22T00:27:44.875593Z",
     "iopub.status.idle": "2022-02-22T00:27:44.898145Z",
     "shell.execute_reply": "2022-02-22T00:27:44.897437Z"
    },
    "papermill": {
     "duration": 0.057948,
     "end_time": "2022-02-22T00:27:44.898325",
     "exception": false,
     "start_time": "2022-02-22T00:27:44.840377",
     "status": "completed"
    },
    "tags": []
   },
   "outputs": [],
   "source": [
    "training_data_x = X_train\n",
    "testing_data_x = X_test\n",
    "training_data_y = y_train.reshape(-1,1)\n",
    "testing_data_y = y_test.reshape(-1,1)"
   ]
  },
  {
   "cell_type": "code",
   "execution_count": 19,
   "id": "76951160",
   "metadata": {
    "execution": {
     "iopub.execute_input": "2022-02-22T00:27:44.965581Z",
     "iopub.status.busy": "2022-02-22T00:27:44.964942Z",
     "iopub.status.idle": "2022-02-22T00:27:44.988534Z",
     "shell.execute_reply": "2022-02-22T00:27:44.987330Z"
    },
    "papermill": {
     "duration": 0.059079,
     "end_time": "2022-02-22T00:27:44.988935",
     "exception": false,
     "start_time": "2022-02-22T00:27:44.929856",
     "status": "completed"
    },
    "tags": []
   },
   "outputs": [
    {
     "name": "stdout",
     "output_type": "stream",
     "text": [
      "xavier\n",
      "xavier\n",
      "xavier\n",
      "xavier\n",
      "xavier\n"
     ]
    }
   ],
   "source": [
    "layers = [Affine(\"first\", 784, 100), Relu(\"first\"), Affine(\"second\", 100, 100), Relu(\"second\"), Affine(\"third\", 100, 2), Affine(\"last\", 2, 1), Sigmoid(\"last\")]\n",
    "model_nn = Model(layers)\n",
    "model_lr = Model([Affine(\"logits\", 784, 1), Sigmoid(\"sigmoid\")])"
   ]
  },
  {
   "cell_type": "code",
   "execution_count": 20,
   "id": "6eede77a",
   "metadata": {
    "execution": {
     "iopub.execute_input": "2022-02-22T00:27:45.056017Z",
     "iopub.status.busy": "2022-02-22T00:27:45.055363Z",
     "iopub.status.idle": "2022-02-22T00:27:45.070206Z",
     "shell.execute_reply": "2022-02-22T00:27:45.069639Z"
    },
    "papermill": {
     "duration": 0.050308,
     "end_time": "2022-02-22T00:27:45.070353",
     "exception": false,
     "start_time": "2022-02-22T00:27:45.020045",
     "status": "completed"
    },
    "tags": []
   },
   "outputs": [],
   "source": [
    "nn_learner = Learner(loss, model_nn, opt, config.num_epochs)\n",
    "acc_nn = ClfCallback(nn_learner, config.bs, training_data_x , testing_data_x, training_data_y, testing_data_y)\n",
    "nn_learner.set_callbacks([acc_nn])"
   ]
  },
  {
   "cell_type": "code",
   "execution_count": 21,
   "id": "877b6cc7",
   "metadata": {
    "execution": {
     "iopub.execute_input": "2022-02-22T00:27:45.137866Z",
     "iopub.status.busy": "2022-02-22T00:27:45.137223Z",
     "iopub.status.idle": "2022-02-22T00:27:45.152111Z",
     "shell.execute_reply": "2022-02-22T00:27:45.151582Z"
    },
    "papermill": {
     "duration": 0.050919,
     "end_time": "2022-02-22T00:27:45.152252",
     "exception": false,
     "start_time": "2022-02-22T00:27:45.101333",
     "status": "completed"
    },
    "tags": []
   },
   "outputs": [],
   "source": [
    "lr_learner = Learner(loss, model_lr, opt, config.num_epochs)\n",
    "acc_lr = ClfCallback(lr_learner, config.bs, training_data_x , testing_data_x, training_data_y, testing_data_y)\n",
    "lr_learner.set_callbacks([acc_lr])"
   ]
  },
  {
   "cell_type": "code",
   "execution_count": 22,
   "id": "d9b133c3",
   "metadata": {
    "execution": {
     "iopub.execute_input": "2022-02-22T00:27:45.218890Z",
     "iopub.status.busy": "2022-02-22T00:27:45.218257Z",
     "iopub.status.idle": "2022-02-22T00:29:20.247368Z",
     "shell.execute_reply": "2022-02-22T00:29:20.248353Z"
    },
    "papermill": {
     "duration": 95.065253,
     "end_time": "2022-02-22T00:29:20.248534",
     "exception": false,
     "start_time": "2022-02-22T00:27:45.183281",
     "status": "completed"
    },
    "tags": []
   },
   "outputs": [
    {
     "name": "stdout",
     "output_type": "stream",
     "text": [
      "Epoch 0, Loss 0.2346\n",
      "Training Accuracy: 0.7525, Testing Accuracy: 0.7480\n",
      "\n"
     ]
    },
    {
     "name": "stdout",
     "output_type": "stream",
     "text": [
      "Epoch 10, Loss 0.0884\n",
      "Training Accuracy: 0.9172, Testing Accuracy: 0.9224\n",
      "\n"
     ]
    },
    {
     "name": "stdout",
     "output_type": "stream",
     "text": [
      "Epoch 20, Loss 0.0549\n",
      "Training Accuracy: 0.9437, Testing Accuracy: 0.9551\n",
      "\n"
     ]
    },
    {
     "name": "stdout",
     "output_type": "stream",
     "text": [
      "Epoch 30, Loss 0.0429\n",
      "Training Accuracy: 0.9543, Testing Accuracy: 0.9642\n",
      "\n"
     ]
    },
    {
     "name": "stdout",
     "output_type": "stream",
     "text": [
      "Epoch 40, Loss 0.0369\n",
      "Training Accuracy: 0.9584, Testing Accuracy: 0.9688\n",
      "\n"
     ]
    },
    {
     "name": "stdout",
     "output_type": "stream",
     "text": [
      "Epoch 50, Loss 0.0333\n",
      "Training Accuracy: 0.9620, Testing Accuracy: 0.9703\n",
      "\n"
     ]
    },
    {
     "name": "stdout",
     "output_type": "stream",
     "text": [
      "Epoch 60, Loss 0.0309\n",
      "Training Accuracy: 0.9647, Testing Accuracy: 0.9708\n",
      "\n"
     ]
    },
    {
     "name": "stdout",
     "output_type": "stream",
     "text": [
      "Epoch 70, Loss 0.0291\n",
      "Training Accuracy: 0.9673, Testing Accuracy: 0.9723\n",
      "\n"
     ]
    },
    {
     "name": "stdout",
     "output_type": "stream",
     "text": [
      "Epoch 80, Loss 0.0277\n",
      "Training Accuracy: 0.9690, Testing Accuracy: 0.9713\n",
      "\n"
     ]
    },
    {
     "name": "stdout",
     "output_type": "stream",
     "text": [
      "Epoch 90, Loss 0.0265\n",
      "Training Accuracy: 0.9702, Testing Accuracy: 0.9723\n",
      "\n"
     ]
    },
    {
     "name": "stdout",
     "output_type": "stream",
     "text": [
      "Epoch 100, Loss 0.0256\n",
      "Training Accuracy: 0.9712, Testing Accuracy: 0.9728\n",
      "\n"
     ]
    },
    {
     "name": "stdout",
     "output_type": "stream",
     "text": [
      "Epoch 110, Loss 0.0247\n",
      "Training Accuracy: 0.9724, Testing Accuracy: 0.9728\n",
      "\n"
     ]
    },
    {
     "name": "stdout",
     "output_type": "stream",
     "text": [
      "Epoch 120, Loss 0.024\n",
      "Training Accuracy: 0.9735, Testing Accuracy: 0.9723\n",
      "\n"
     ]
    },
    {
     "name": "stdout",
     "output_type": "stream",
     "text": [
      "Epoch 130, Loss 0.0234\n",
      "Training Accuracy: 0.9739, Testing Accuracy: 0.9718\n",
      "\n"
     ]
    },
    {
     "name": "stdout",
     "output_type": "stream",
     "text": [
      "Epoch 140, Loss 0.0228\n",
      "Training Accuracy: 0.9743, Testing Accuracy: 0.9718\n",
      "\n"
     ]
    },
    {
     "name": "stdout",
     "output_type": "stream",
     "text": [
      "Epoch 150, Loss 0.0223\n",
      "Training Accuracy: 0.9749, Testing Accuracy: 0.9713\n",
      "\n"
     ]
    },
    {
     "name": "stdout",
     "output_type": "stream",
     "text": [
      "Epoch 160, Loss 0.0218\n",
      "Training Accuracy: 0.9754, Testing Accuracy: 0.9718\n",
      "\n"
     ]
    },
    {
     "name": "stdout",
     "output_type": "stream",
     "text": [
      "Epoch 170, Loss 0.0213\n",
      "Training Accuracy: 0.9759, Testing Accuracy: 0.9718\n",
      "\n"
     ]
    },
    {
     "name": "stdout",
     "output_type": "stream",
     "text": [
      "Epoch 180, Loss 0.0209\n",
      "Training Accuracy: 0.9763, Testing Accuracy: 0.9713\n",
      "\n"
     ]
    },
    {
     "name": "stdout",
     "output_type": "stream",
     "text": [
      "Epoch 190, Loss 0.0204\n",
      "Training Accuracy: 0.9768, Testing Accuracy: 0.9718\n",
      "\n"
     ]
    },
    {
     "name": "stdout",
     "output_type": "stream",
     "text": [
      "Epoch 200, Loss 0.0201\n",
      "Training Accuracy: 0.9780, Testing Accuracy: 0.9718\n",
      "\n"
     ]
    },
    {
     "name": "stdout",
     "output_type": "stream",
     "text": [
      "Epoch 210, Loss 0.0197\n",
      "Training Accuracy: 0.9785, Testing Accuracy: 0.9713\n",
      "\n"
     ]
    },
    {
     "name": "stdout",
     "output_type": "stream",
     "text": [
      "Epoch 220, Loss 0.0193\n",
      "Training Accuracy: 0.9789, Testing Accuracy: 0.9713\n",
      "\n"
     ]
    },
    {
     "name": "stdout",
     "output_type": "stream",
     "text": [
      "Epoch 230, Loss 0.019\n",
      "Training Accuracy: 0.9794, Testing Accuracy: 0.9713\n",
      "\n"
     ]
    },
    {
     "name": "stdout",
     "output_type": "stream",
     "text": [
      "Epoch 240, Loss 0.0187\n",
      "Training Accuracy: 0.9797, Testing Accuracy: 0.9713\n",
      "\n"
     ]
    },
    {
     "data": {
      "text/plain": [
       "0.047037459305680845"
      ]
     },
     "execution_count": 22,
     "metadata": {},
     "output_type": "execute_result"
    }
   ],
   "source": [
    "nn_learner.train_loop(dl)"
   ]
  },
  {
   "cell_type": "code",
   "execution_count": 23,
   "id": "e0163366",
   "metadata": {
    "execution": {
     "iopub.execute_input": "2022-02-22T00:29:20.336995Z",
     "iopub.status.busy": "2022-02-22T00:29:20.336251Z",
     "iopub.status.idle": "2022-02-22T00:29:37.277970Z",
     "shell.execute_reply": "2022-02-22T00:29:37.278839Z"
    },
    "papermill": {
     "duration": 16.991282,
     "end_time": "2022-02-22T00:29:37.279015",
     "exception": false,
     "start_time": "2022-02-22T00:29:20.287733",
     "status": "completed"
    },
    "tags": []
   },
   "outputs": [
    {
     "name": "stdout",
     "output_type": "stream",
     "text": [
      "Epoch 0, Loss 0.2393\n",
      "Training Accuracy: 0.7031, Testing Accuracy: 0.7036\n",
      "\n"
     ]
    },
    {
     "name": "stdout",
     "output_type": "stream",
     "text": [
      "Epoch 10, Loss 0.1002\n",
      "Training Accuracy: 0.9155, Testing Accuracy: 0.9249\n",
      "\n"
     ]
    },
    {
     "name": "stdout",
     "output_type": "stream",
     "text": [
      "Epoch 20, Loss 0.0777\n",
      "Training Accuracy: 0.9297, Testing Accuracy: 0.9400\n",
      "\n"
     ]
    },
    {
     "name": "stdout",
     "output_type": "stream",
     "text": [
      "Epoch 30, Loss 0.0673\n",
      "Training Accuracy: 0.9364, Testing Accuracy: 0.9461\n",
      "\n"
     ]
    },
    {
     "name": "stdout",
     "output_type": "stream",
     "text": [
      "Epoch 40, Loss 0.061\n",
      "Training Accuracy: 0.9407, Testing Accuracy: 0.9511\n",
      "\n"
     ]
    },
    {
     "name": "stdout",
     "output_type": "stream",
     "text": [
      "Epoch 50, Loss 0.0567\n",
      "Training Accuracy: 0.9437, Testing Accuracy: 0.9536\n",
      "\n"
     ]
    },
    {
     "name": "stdout",
     "output_type": "stream",
     "text": [
      "Epoch 60, Loss 0.0535\n",
      "Training Accuracy: 0.9461, Testing Accuracy: 0.9541\n",
      "\n"
     ]
    },
    {
     "name": "stdout",
     "output_type": "stream",
     "text": [
      "Epoch 70, Loss 0.051\n",
      "Training Accuracy: 0.9480, Testing Accuracy: 0.9551\n",
      "\n"
     ]
    },
    {
     "name": "stdout",
     "output_type": "stream",
     "text": [
      "Epoch 80, Loss 0.049\n",
      "Training Accuracy: 0.9498, Testing Accuracy: 0.9572\n",
      "\n"
     ]
    },
    {
     "name": "stdout",
     "output_type": "stream",
     "text": [
      "Epoch 90, Loss 0.0473\n",
      "Training Accuracy: 0.9509, Testing Accuracy: 0.9592\n",
      "\n"
     ]
    },
    {
     "name": "stdout",
     "output_type": "stream",
     "text": [
      "Epoch 100, Loss 0.0459\n",
      "Training Accuracy: 0.9520, Testing Accuracy: 0.9602\n",
      "\n"
     ]
    },
    {
     "name": "stdout",
     "output_type": "stream",
     "text": [
      "Epoch 110, Loss 0.0447\n",
      "Training Accuracy: 0.9532, Testing Accuracy: 0.9622\n",
      "\n"
     ]
    },
    {
     "name": "stdout",
     "output_type": "stream",
     "text": [
      "Epoch 120, Loss 0.0437\n",
      "Training Accuracy: 0.9543, Testing Accuracy: 0.9632\n",
      "\n"
     ]
    },
    {
     "name": "stdout",
     "output_type": "stream",
     "text": [
      "Epoch 130, Loss 0.0428\n",
      "Training Accuracy: 0.9553, Testing Accuracy: 0.9652\n",
      "\n"
     ]
    },
    {
     "name": "stdout",
     "output_type": "stream",
     "text": [
      "Epoch 140, Loss 0.042\n",
      "Training Accuracy: 0.9556, Testing Accuracy: 0.9657\n",
      "\n"
     ]
    },
    {
     "name": "stdout",
     "output_type": "stream",
     "text": [
      "Epoch 150, Loss 0.0412\n",
      "Training Accuracy: 0.9568, Testing Accuracy: 0.9667\n",
      "\n"
     ]
    },
    {
     "name": "stdout",
     "output_type": "stream",
     "text": [
      "Epoch 160, Loss 0.0406\n",
      "Training Accuracy: 0.9573, Testing Accuracy: 0.9667\n",
      "\n"
     ]
    },
    {
     "name": "stdout",
     "output_type": "stream",
     "text": [
      "Epoch 170, Loss 0.0399\n",
      "Training Accuracy: 0.9578, Testing Accuracy: 0.9662\n",
      "\n"
     ]
    },
    {
     "name": "stdout",
     "output_type": "stream",
     "text": [
      "Epoch 180, Loss 0.0394\n",
      "Training Accuracy: 0.9581, Testing Accuracy: 0.9677\n",
      "\n"
     ]
    },
    {
     "name": "stdout",
     "output_type": "stream",
     "text": [
      "Epoch 190, Loss 0.0389\n",
      "Training Accuracy: 0.9590, Testing Accuracy: 0.9677\n",
      "\n"
     ]
    },
    {
     "name": "stdout",
     "output_type": "stream",
     "text": [
      "Epoch 200, Loss 0.0384\n",
      "Training Accuracy: 0.9591, Testing Accuracy: 0.9688\n",
      "\n"
     ]
    },
    {
     "name": "stdout",
     "output_type": "stream",
     "text": [
      "Epoch 210, Loss 0.038\n",
      "Training Accuracy: 0.9597, Testing Accuracy: 0.9688\n",
      "\n"
     ]
    },
    {
     "name": "stdout",
     "output_type": "stream",
     "text": [
      "Epoch 220, Loss 0.0376\n",
      "Training Accuracy: 0.9600, Testing Accuracy: 0.9693\n",
      "\n"
     ]
    },
    {
     "name": "stdout",
     "output_type": "stream",
     "text": [
      "Epoch 230, Loss 0.0372\n",
      "Training Accuracy: 0.9604, Testing Accuracy: 0.9688\n",
      "\n"
     ]
    },
    {
     "name": "stdout",
     "output_type": "stream",
     "text": [
      "Epoch 240, Loss 0.0368\n",
      "Training Accuracy: 0.9607, Testing Accuracy: 0.9688\n",
      "\n"
     ]
    },
    {
     "data": {
      "text/plain": [
       "0.020170017594836765"
      ]
     },
     "execution_count": 23,
     "metadata": {},
     "output_type": "execute_result"
    }
   ],
   "source": [
    "lr_learner.train_loop(dl)"
   ]
  },
  {
   "cell_type": "code",
   "execution_count": 24,
   "id": "ca410940",
   "metadata": {
    "execution": {
     "iopub.execute_input": "2022-02-22T00:29:37.382880Z",
     "iopub.status.busy": "2022-02-22T00:29:37.382214Z",
     "iopub.status.idle": "2022-02-22T00:29:37.651348Z",
     "shell.execute_reply": "2022-02-22T00:29:37.652186Z"
    },
    "papermill": {
     "duration": 0.32677,
     "end_time": "2022-02-22T00:29:37.652364",
     "exception": false,
     "start_time": "2022-02-22T00:29:37.325594",
     "status": "completed"
    },
    "tags": []
   },
   "outputs": [
    {
     "data": {
      "text/plain": [
       "<matplotlib.legend.Legend at 0x7f6498c58c50>"
      ]
     },
     "execution_count": 24,
     "metadata": {},
     "output_type": "execute_result"
    },
    {
     "data": {
      "image/png": "[encoded data removed]",
      "text/plain": [
       "<Figure size 1080x720 with 1 Axes>"
      ]
     },
     "metadata": {
      "needs_background": "light"
     },
     "output_type": "display_data"
    }
   ],
   "source": [
    "#comparing the results of NN and LR\n",
    "plt.figure(figsize=(15,10))\n",
    "\n",
    "# Neural Network plots\n",
    "plt.plot(acc_nn.accuracies, 'r-', label = \"Training Accuracies - NN\")\n",
    "plt.plot(acc_nn.test_accuracies, 'g-', label = \"Testing Accuracies - NN\")\n",
    "\n",
    "# Logistic Regression plots\n",
    "plt.plot(acc_lr.accuracies, 'k-', label = \"Training Accuracies - LR\")\n",
    "plt.plot(acc_lr.test_accuracies, 'b-', label = \"Testing Accuracies - LR\")\n",
    "plt.legend()"
   ]
  },
  {
   "cell_type": "markdown",
   "id": "80dfb35c",
   "metadata": {
    "papermill": {
     "duration": 0.047641,
     "end_time": "2022-02-22T00:29:37.748024",
     "exception": false,
     "start_time": "2022-02-22T00:29:37.700383",
     "status": "completed"
    },
    "tags": []
   },
   "source": [
    "#### Plotting the outputs of this layer of the NN.\n"
   ]
  },
  {
   "cell_type": "code",
   "execution_count": 25,
   "id": "45eb2ff5",
   "metadata": {
    "execution": {
     "iopub.execute_input": "2022-02-22T00:29:37.850273Z",
     "iopub.status.busy": "2022-02-22T00:29:37.848842Z",
     "iopub.status.idle": "2022-02-22T00:29:37.882296Z",
     "shell.execute_reply": "2022-02-22T00:29:37.882838Z"
    },
    "papermill": {
     "duration": 0.087382,
     "end_time": "2022-02-22T00:29:37.883010",
     "exception": false,
     "start_time": "2022-02-22T00:29:37.795628",
     "status": "completed"
    },
    "tags": []
   },
   "outputs": [],
   "source": [
    "new_model = Model(layers[:-2])\n",
    "testing_plot = new_model(testing_data_x)"
   ]
  },
  {
   "cell_type": "code",
   "execution_count": 26,
   "id": "4c0a5485",
   "metadata": {
    "execution": {
     "iopub.execute_input": "2022-02-22T00:29:37.990641Z",
     "iopub.status.busy": "2022-02-22T00:29:37.989968Z",
     "iopub.status.idle": "2022-02-22T00:29:38.200068Z",
     "shell.execute_reply": "2022-02-22T00:29:38.200557Z"
    },
    "papermill": {
     "duration": 0.269092,
     "end_time": "2022-02-22T00:29:38.200757",
     "exception": false,
     "start_time": "2022-02-22T00:29:37.931665",
     "status": "completed"
    },
    "tags": []
   },
   "outputs": [
    {
     "data": {
      "text/plain": [
       "Text(0.5, 1.0, 'Outputs')"
      ]
     },
     "execution_count": 26,
     "metadata": {},
     "output_type": "execute_result"
    },
    {
     "data": {
      "image/png": "[encoded data removed]",
      "text/plain": [
       "<Figure size 576x504 with 1 Axes>"
      ]
     },
     "metadata": {
      "needs_background": "light"
     },
     "output_type": "display_data"
    }
   ],
   "source": [
    "# Plotting the scatter plot of points and color coding by class\n",
    "plt.figure(figsize=(8,7))\n",
    "plt.scatter(testing_plot[:,0], testing_plot[:,1], alpha = 0.1, c = y_test.ravel());\n",
    "plt.title('Outputs')"
   ]
  },
  {
   "cell_type": "markdown",
   "id": "a74fcf8f",
   "metadata": {
    "papermill": {
     "duration": 0.050008,
     "end_time": "2022-02-22T00:29:38.301206",
     "exception": false,
     "start_time": "2022-02-22T00:29:38.251198",
     "status": "completed"
    },
    "tags": []
   },
   "source": [
    "Probability contours"
   ]
  },
  {
   "cell_type": "code",
   "execution_count": 27,
   "id": "d0afc8e3",
   "metadata": {
    "execution": {
     "iopub.execute_input": "2022-02-22T00:29:38.405933Z",
     "iopub.status.busy": "2022-02-22T00:29:38.405290Z",
     "iopub.status.idle": "2022-02-22T00:29:38.420184Z",
     "shell.execute_reply": "2022-02-22T00:29:38.420729Z"
    },
    "papermill": {
     "duration": 0.069291,
     "end_time": "2022-02-22T00:29:38.420900",
     "exception": false,
     "start_time": "2022-02-22T00:29:38.351609",
     "status": "completed"
    },
    "tags": []
   },
   "outputs": [],
   "source": [
    "model_prob = Model(layers[-2:]) "
   ]
  },
  {
   "cell_type": "code",
   "execution_count": 28,
   "id": "9b96e238",
   "metadata": {
    "execution": {
     "iopub.execute_input": "2022-02-22T00:29:38.528495Z",
     "iopub.status.busy": "2022-02-22T00:29:38.527146Z",
     "iopub.status.idle": "2022-02-22T00:29:38.545063Z",
     "shell.execute_reply": "2022-02-22T00:29:38.545609Z"
    },
    "papermill": {
     "duration": 0.074059,
     "end_time": "2022-02-22T00:29:38.545777",
     "exception": false,
     "start_time": "2022-02-22T00:29:38.471718",
     "status": "completed"
    },
    "tags": []
   },
   "outputs": [],
   "source": [
    "#creating the x and y ranges according to the above generated plot.\n",
    "x_range = np.linspace(-4, 1, 100) \n",
    "y_range = np.linspace(-6, 6, 100) \n",
    "x_grid, y_grid = np.meshgrid(x_range, y_range) # x_grid and y_grig are of size 100 X 100\n",
    "\n",
    "# converting x_grid and y_grid to continuous arrays\n",
    "x_gridflat = np.ravel(x_grid)\n",
    "y_gridflat = np.ravel(y_grid)\n",
    "\n",
    "# The last layer of the current model takes two columns as input. Hence transpose of np.vstack() is required.\n",
    "X = np.vstack((x_gridflat, y_gridflat)).T\n",
    "\n",
    "prob_contour = model_prob(X).reshape(100,100) "
   ]
  },
  {
   "cell_type": "code",
   "execution_count": 29,
   "id": "da72499a",
   "metadata": {
    "execution": {
     "iopub.execute_input": "2022-02-22T00:29:38.689502Z",
     "iopub.status.busy": "2022-02-22T00:29:38.688844Z",
     "iopub.status.idle": "2022-02-22T00:29:38.965794Z",
     "shell.execute_reply": "2022-02-22T00:29:38.966293Z"
    },
    "papermill": {
     "duration": 0.332456,
     "end_time": "2022-02-22T00:29:38.966459",
     "exception": false,
     "start_time": "2022-02-22T00:29:38.634003",
     "status": "completed"
    },
    "tags": []
   },
   "outputs": [
    {
     "data": {
      "image/png": "[encoded data removed]",
      "text/plain": [
       "<Figure size 720x648 with 1 Axes>"
      ]
     },
     "metadata": {
      "needs_background": "light"
     },
     "output_type": "display_data"
    }
   ],
   "source": [
    "plt.figure(figsize=(10,9))\n",
    "plt.scatter(testing_plot[:,0], testing_plot[:,1], alpha = 0.1, c = y_test.ravel())\n",
    "contours = plt.contour(x_grid,y_grid,prob_contour)\n",
    "plt.title('Probability Contours')\n",
    "plt.clabel(contours, inline = True );"
   ]
  },
  {
   "cell_type": "code",
   "execution_count": null,
   "id": "e81b4ac7",
   "metadata": {
    "papermill": {
     "duration": 0.058018,
     "end_time": "2022-02-22T00:29:39.088742",
     "exception": false,
     "start_time": "2022-02-22T00:29:39.030724",
     "status": "completed"
    },
    "tags": []
   },
   "outputs": [],
   "source": []
  }
 ],
 "metadata": {
  "kernelspec": {
   "display_name": "Python 3",
   "language": "python",
   "name": "python3"
  },
  "language_info": {
   "codemirror_mode": {
    "name": "ipython",
    "version": 3
   },
   "file_extension": ".py",
   "mimetype": "text/x-python",
   "name": "python",
   "nbconvert_exporter": "python",
   "pygments_lexer": "ipython3",
   "version": "3.6.15"
  },
  "papermill": {
   "default_parameters": {},
   "duration": 121.642084,
   "end_time": "2022-02-22T00:29:39.666229",
   "environment_variables": {},
   "exception": null,
   "input_path": "2020-08-11-part2.ipynb",
   "output_path": "2020-08-11-part2.ipynb",
   "parameters": {},
   "start_time": "2022-02-22T00:27:38.024145",
   "version": "2.3.3"
  }
 },
 "nbformat": 4,
 "nbformat_minor": 5
}