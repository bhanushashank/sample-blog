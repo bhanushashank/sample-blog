{
 "cells": [
  {
   "cell_type": "markdown",
   "id": "98380cd3",
   "metadata": {
    "papermill": {
     "duration": 0.03425,
     "end_time": "2022-08-18T10:12:57.991296",
     "exception": false,
     "start_time": "2022-08-18T10:12:57.957046",
     "status": "completed"
    },
    "tags": []
   },
   "source": [
    "# Distinguish Your Own Digits (DYOD)"
   ]
  },
  {
   "cell_type": "markdown",
   "id": "ef31240d",
   "metadata": {
    "papermill": {
     "duration": 0.027763,
     "end_time": "2022-08-18T10:12:58.047426",
     "exception": false,
     "start_time": "2022-08-18T10:12:58.019663",
     "status": "completed"
    },
    "tags": []
   },
   "source": [
    "You are going to write a classifier that distinguishes between the number 3 and number 8."
   ]
  },
  {
   "cell_type": "code",
   "execution_count": 1,
   "id": "b15c8646",
   "metadata": {
    "execution": {
     "iopub.execute_input": "2022-08-18T10:12:58.116667Z",
     "iopub.status.busy": "2022-08-18T10:12:58.112998Z",
     "iopub.status.idle": "2022-08-18T10:12:58.128791Z",
     "shell.execute_reply": "2022-08-18T10:12:58.129382Z"
    },
    "papermill": {
     "duration": 0.053409,
     "end_time": "2022-08-18T10:12:58.129570",
     "exception": false,
     "start_time": "2022-08-18T10:12:58.076161",
     "status": "completed"
    },
    "tags": []
   },
   "outputs": [],
   "source": [
    "%load_ext autoreload\n",
    "%autoreload 2"
   ]
  },
  {
   "cell_type": "code",
   "execution_count": 2,
   "id": "22ef38dc",
   "metadata": {
    "execution": {
     "iopub.execute_input": "2022-08-18T10:12:58.192096Z",
     "iopub.status.busy": "2022-08-18T10:12:58.191370Z",
     "iopub.status.idle": "2022-08-18T10:12:58.877743Z",
     "shell.execute_reply": "2022-08-18T10:12:58.876703Z"
    },
    "papermill": {
     "duration": 0.720569,
     "end_time": "2022-08-18T10:12:58.877890",
     "exception": false,
     "start_time": "2022-08-18T10:12:58.157321",
     "status": "completed"
    },
    "tags": []
   },
   "outputs": [],
   "source": [
    "%matplotlib inline\n",
    "import numpy as np\n",
    "import matplotlib.pyplot as plt\n",
    "import pandas as pd"
   ]
  },
  {
   "cell_type": "markdown",
   "id": "ba036198",
   "metadata": {
    "papermill": {
     "duration": 0.029308,
     "end_time": "2022-08-18T10:12:58.939675",
     "exception": false,
     "start_time": "2022-08-18T10:12:58.910367",
     "status": "completed"
    },
    "tags": []
   },
   "source": [
    "From the command line run `pip install mnist`. This is a library that will help you bring down the mnist dataset. If you run this from a notebook, you need to put  `!pip install mnist` in a cell by itself."
   ]
  },
  {
   "cell_type": "code",
   "execution_count": 3,
   "id": "bb6ad8a1",
   "metadata": {
    "execution": {
     "iopub.execute_input": "2022-08-18T10:12:59.004437Z",
     "iopub.status.busy": "2022-08-18T10:12:59.003723Z",
     "iopub.status.idle": "2022-08-18T10:13:00.930456Z",
     "shell.execute_reply": "2022-08-18T10:13:00.929843Z"
    },
    "papermill": {
     "duration": 1.963452,
     "end_time": "2022-08-18T10:13:00.930597",
     "exception": false,
     "start_time": "2022-08-18T10:12:58.967145",
     "status": "completed"
    },
    "tags": []
   },
   "outputs": [
    {
     "name": "stdout",
     "output_type": "stream",
     "text": [
      "Collecting mnist\r\n",
      "  Downloading mnist-0.2.2-py2.py3-none-any.whl (3.5 kB)\r\n"
     ]
    },
    {
     "name": "stdout",
     "output_type": "stream",
     "text": [
      "Requirement already satisfied: numpy in /opt/hostedtoolcache/Python/3.6.15/x64/lib/python3.6/site-packages (from mnist) (1.19.5)\r\n"
     ]
    },
    {
     "name": "stdout",
     "output_type": "stream",
     "text": [
      "Installing collected packages: mnist\r\n"
     ]
    },
    {
     "name": "stdout",
     "output_type": "stream",
     "text": [
      "Successfully installed mnist-0.2.2\r\n"
     ]
    }
   ],
   "source": [
    "!pip install mnist"
   ]
  },
  {
   "cell_type": "markdown",
   "id": "69df9c9a",
   "metadata": {
    "papermill": {
     "duration": 0.030147,
     "end_time": "2022-08-18T10:13:00.992213",
     "exception": false,
     "start_time": "2022-08-18T10:13:00.962066",
     "status": "completed"
    },
    "tags": []
   },
   "source": [
    "## Preparing the Data"
   ]
  },
  {
   "cell_type": "code",
   "execution_count": 4,
   "id": "7f69d806",
   "metadata": {
    "execution": {
     "iopub.execute_input": "2022-08-18T10:13:01.062194Z",
     "iopub.status.busy": "2022-08-18T10:13:01.056432Z",
     "iopub.status.idle": "2022-08-18T10:13:01.075748Z",
     "shell.execute_reply": "2022-08-18T10:13:01.075146Z"
    },
    "papermill": {
     "duration": 0.053954,
     "end_time": "2022-08-18T10:13:01.075885",
     "exception": false,
     "start_time": "2022-08-18T10:13:01.021931",
     "status": "completed"
    },
    "tags": []
   },
   "outputs": [],
   "source": [
    "import mnist"
   ]
  },
  {
   "cell_type": "code",
   "execution_count": 5,
   "id": "a411e44f",
   "metadata": {
    "execution": {
     "iopub.execute_input": "2022-08-18T10:13:01.140311Z",
     "iopub.status.busy": "2022-08-18T10:13:01.139534Z",
     "iopub.status.idle": "2022-08-18T10:13:01.705433Z",
     "shell.execute_reply": "2022-08-18T10:13:01.704376Z"
    },
    "papermill": {
     "duration": 0.599886,
     "end_time": "2022-08-18T10:13:01.705666",
     "exception": false,
     "start_time": "2022-08-18T10:13:01.105780",
     "status": "completed"
    },
    "tags": []
   },
   "outputs": [],
   "source": [
    "train_images = mnist.train_images()\n",
    "train_labels = mnist.train_labels()"
   ]
  },
  {
   "cell_type": "code",
   "execution_count": 6,
   "id": "dceab3a5",
   "metadata": {
    "execution": {
     "iopub.execute_input": "2022-08-18T10:13:01.772341Z",
     "iopub.status.busy": "2022-08-18T10:13:01.770694Z",
     "iopub.status.idle": "2022-08-18T10:13:01.788369Z",
     "shell.execute_reply": "2022-08-18T10:13:01.787542Z"
    },
    "papermill": {
     "duration": 0.052753,
     "end_time": "2022-08-18T10:13:01.788523",
     "exception": false,
     "start_time": "2022-08-18T10:13:01.735770",
     "status": "completed"
    },
    "tags": []
   },
   "outputs": [
    {
     "data": {
      "text/plain": [
       "((60000, 28, 28), (60000,))"
      ]
     },
     "execution_count": 6,
     "metadata": {},
     "output_type": "execute_result"
    }
   ],
   "source": [
    "train_images.shape, train_labels.shape"
   ]
  },
  {
   "cell_type": "code",
   "execution_count": 7,
   "id": "f50dc2bb",
   "metadata": {
    "execution": {
     "iopub.execute_input": "2022-08-18T10:13:01.864806Z",
     "iopub.status.busy": "2022-08-18T10:13:01.857704Z",
     "iopub.status.idle": "2022-08-18T10:13:02.055738Z",
     "shell.execute_reply": "2022-08-18T10:13:02.055085Z"
    },
    "papermill": {
     "duration": 0.23678,
     "end_time": "2022-08-18T10:13:02.055886",
     "exception": false,
     "start_time": "2022-08-18T10:13:01.819106",
     "status": "completed"
    },
    "tags": []
   },
   "outputs": [],
   "source": [
    "test_images = mnist.test_images()\n",
    "test_labels = mnist.test_labels()"
   ]
  },
  {
   "cell_type": "code",
   "execution_count": 8,
   "id": "fc38cf1b",
   "metadata": {
    "execution": {
     "iopub.execute_input": "2022-08-18T10:13:02.119213Z",
     "iopub.status.busy": "2022-08-18T10:13:02.118521Z",
     "iopub.status.idle": "2022-08-18T10:13:02.136265Z",
     "shell.execute_reply": "2022-08-18T10:13:02.135695Z"
    },
    "papermill": {
     "duration": 0.051757,
     "end_time": "2022-08-18T10:13:02.136396",
     "exception": false,
     "start_time": "2022-08-18T10:13:02.084639",
     "status": "completed"
    },
    "tags": []
   },
   "outputs": [
    {
     "data": {
      "text/plain": [
       "((10000, 28, 28), (10000,))"
      ]
     },
     "execution_count": 8,
     "metadata": {},
     "output_type": "execute_result"
    }
   ],
   "source": [
    "test_images.shape, test_labels.shape"
   ]
  },
  {
   "cell_type": "code",
   "execution_count": 9,
   "id": "f9ed8fe0",
   "metadata": {
    "execution": {
     "iopub.execute_input": "2022-08-18T10:13:02.198630Z",
     "iopub.status.busy": "2022-08-18T10:13:02.197947Z",
     "iopub.status.idle": "2022-08-18T10:13:02.373896Z",
     "shell.execute_reply": "2022-08-18T10:13:02.374434Z"
    },
    "papermill": {
     "duration": 0.209461,
     "end_time": "2022-08-18T10:13:02.374588",
     "exception": false,
     "start_time": "2022-08-18T10:13:02.165127",
     "status": "completed"
    },
    "tags": []
   },
   "outputs": [
    {
     "name": "stdout",
     "output_type": "stream",
     "text": [
      "2\n"
     ]
    },
    {
     "data": {
      "text/plain": [
       "<matplotlib.image.AxesImage at 0x7f5446be89e8>"
      ]
     },
     "execution_count": 9,
     "metadata": {},
     "output_type": "execute_result"
    },
    {
     "data": {
      "image/png": "[encoded data removed]",
      "text/plain": [
       "<Figure size 432x288 with 1 Axes>"
      ]
     },
     "metadata": {
      "needs_background": "light"
     },
     "output_type": "display_data"
    }
   ],
   "source": [
    "image_index = 7776 # You may select anything up to 60,000\n",
    "print(train_labels[image_index]) \n",
    "plt.imshow(train_images[image_index], cmap='Greys')"
   ]
  },
  {
   "cell_type": "markdown",
   "id": "a8d2388d",
   "metadata": {
    "papermill": {
     "duration": 0.031842,
     "end_time": "2022-08-18T10:13:02.437253",
     "exception": false,
     "start_time": "2022-08-18T10:13:02.405411",
     "status": "completed"
    },
    "tags": []
   },
   "source": [
    "## Filter data to get 3 and 8 out"
   ]
  },
  {
   "cell_type": "code",
   "execution_count": 10,
   "id": "776f7fc7",
   "metadata": {
    "execution": {
     "iopub.execute_input": "2022-08-18T10:13:02.507873Z",
     "iopub.status.busy": "2022-08-18T10:13:02.507152Z",
     "iopub.status.idle": "2022-08-18T10:13:02.529956Z",
     "shell.execute_reply": "2022-08-18T10:13:02.529244Z"
    },
    "papermill": {
     "duration": 0.059868,
     "end_time": "2022-08-18T10:13:02.530090",
     "exception": false,
     "start_time": "2022-08-18T10:13:02.470222",
     "status": "completed"
    },
    "tags": []
   },
   "outputs": [],
   "source": [
    "train_filter = np.where((train_labels == 3 ) | (train_labels == 8))\n",
    "test_filter = np.where((test_labels == 3) | (test_labels == 8))\n",
    "X_train, y_train = train_images[train_filter], train_labels[train_filter]\n",
    "X_test, y_test = test_images[test_filter], test_labels[test_filter]"
   ]
  },
  {
   "cell_type": "markdown",
   "id": "948f0b7e",
   "metadata": {
    "papermill": {
     "duration": 0.031345,
     "end_time": "2022-08-18T10:13:02.594642",
     "exception": false,
     "start_time": "2022-08-18T10:13:02.563297",
     "status": "completed"
    },
    "tags": []
   },
   "source": [
    "We normalize the pizel values in the 0 to 1 range"
   ]
  },
  {
   "cell_type": "code",
   "execution_count": 11,
   "id": "ee4c2166",
   "metadata": {
    "execution": {
     "iopub.execute_input": "2022-08-18T10:13:02.665231Z",
     "iopub.status.busy": "2022-08-18T10:13:02.664544Z",
     "iopub.status.idle": "2022-08-18T10:13:02.720572Z",
     "shell.execute_reply": "2022-08-18T10:13:02.719958Z"
    },
    "papermill": {
     "duration": 0.091881,
     "end_time": "2022-08-18T10:13:02.720721",
     "exception": false,
     "start_time": "2022-08-18T10:13:02.628840",
     "status": "completed"
    },
    "tags": []
   },
   "outputs": [],
   "source": [
    "X_train = X_train/255.\n",
    "X_test = X_test/255."
   ]
  },
  {
   "cell_type": "markdown",
   "id": "ddcf4fab",
   "metadata": {
    "papermill": {
     "duration": 0.031563,
     "end_time": "2022-08-18T10:13:02.783339",
     "exception": false,
     "start_time": "2022-08-18T10:13:02.751776",
     "status": "completed"
    },
    "tags": []
   },
   "source": [
    "And setup the labels as 1 (when the digit is 3) and 0 (when the digit is 8)"
   ]
  },
  {
   "cell_type": "code",
   "execution_count": 12,
   "id": "7dc908f2",
   "metadata": {
    "execution": {
     "iopub.execute_input": "2022-08-18T10:13:02.853764Z",
     "iopub.status.busy": "2022-08-18T10:13:02.853079Z",
     "iopub.status.idle": "2022-08-18T10:13:02.869620Z",
     "shell.execute_reply": "2022-08-18T10:13:02.868855Z"
    },
    "papermill": {
     "duration": 0.054222,
     "end_time": "2022-08-18T10:13:02.869786",
     "exception": false,
     "start_time": "2022-08-18T10:13:02.815564",
     "status": "completed"
    },
    "tags": []
   },
   "outputs": [],
   "source": [
    "y_train = 1*(y_train==3)\n",
    "y_test = 1*(y_test==3)"
   ]
  },
  {
   "cell_type": "code",
   "execution_count": 13,
   "id": "01e4e969",
   "metadata": {
    "execution": {
     "iopub.execute_input": "2022-08-18T10:13:02.939047Z",
     "iopub.status.busy": "2022-08-18T10:13:02.938250Z",
     "iopub.status.idle": "2022-08-18T10:13:02.954368Z",
     "shell.execute_reply": "2022-08-18T10:13:02.953705Z"
    },
    "papermill": {
     "duration": 0.051772,
     "end_time": "2022-08-18T10:13:02.954498",
     "exception": false,
     "start_time": "2022-08-18T10:13:02.902726",
     "status": "completed"
    },
    "tags": []
   },
   "outputs": [
    {
     "data": {
      "text/plain": [
       "((11982, 28, 28), (1984, 28, 28))"
      ]
     },
     "execution_count": 13,
     "metadata": {},
     "output_type": "execute_result"
    }
   ],
   "source": [
    "X_train.shape, X_test.shape"
   ]
  },
  {
   "cell_type": "markdown",
   "id": "5ccf3f85",
   "metadata": {
    "papermill": {
     "duration": 0.031505,
     "end_time": "2022-08-18T10:13:03.017087",
     "exception": false,
     "start_time": "2022-08-18T10:13:02.985582",
     "status": "completed"
    },
    "tags": []
   },
   "source": [
    "We reshape the data to flatten the image pixels into a set of features or co-variates:"
   ]
  },
  {
   "cell_type": "code",
   "execution_count": 14,
   "id": "5286a4a3",
   "metadata": {
    "execution": {
     "iopub.execute_input": "2022-08-18T10:13:03.091252Z",
     "iopub.status.busy": "2022-08-18T10:13:03.089996Z",
     "iopub.status.idle": "2022-08-18T10:13:03.104898Z",
     "shell.execute_reply": "2022-08-18T10:13:03.105425Z"
    },
    "papermill": {
     "duration": 0.052362,
     "end_time": "2022-08-18T10:13:03.105575",
     "exception": false,
     "start_time": "2022-08-18T10:13:03.053213",
     "status": "completed"
    },
    "tags": []
   },
   "outputs": [
    {
     "data": {
      "text/plain": [
       "((11982, 784), (1984, 784))"
      ]
     },
     "execution_count": 14,
     "metadata": {},
     "output_type": "execute_result"
    }
   ],
   "source": [
    "X_train = X_train.reshape(X_train.shape[0], -1)\n",
    "X_test = X_test.reshape(X_test.shape[0], -1)\n",
    "X_train.shape, X_test.shape"
   ]
  },
  {
   "cell_type": "code",
   "execution_count": 15,
   "id": "73c5f88a",
   "metadata": {
    "execution": {
     "iopub.execute_input": "2022-08-18T10:13:03.175007Z",
     "iopub.status.busy": "2022-08-18T10:13:03.174180Z",
     "iopub.status.idle": "2022-08-18T10:13:03.195754Z",
     "shell.execute_reply": "2022-08-18T10:13:03.196313Z"
    },
    "papermill": {
     "duration": 0.059405,
     "end_time": "2022-08-18T10:13:03.196465",
     "exception": false,
     "start_time": "2022-08-18T10:13:03.137060",
     "status": "completed"
    },
    "tags": []
   },
   "outputs": [],
   "source": [
    "#Impoting functions from 'Kudzu'\n",
    "from kudzu.model import Model\n",
    "from kudzu.train import Learner\n",
    "from kudzu.optim import GD\n",
    "from kudzu.data import Data, Sampler,Dataloader\n",
    "\n",
    "from kudzu.callbacks import AccCallback\n",
    "from kudzu.callbacks import ClfCallback\n",
    "\n",
    "from kudzu.loss import MSE\n",
    "\n",
    "from kudzu.layer import Sigmoid,Relu\n",
    "from kudzu.layer import Affine"
   ]
  },
  {
   "cell_type": "markdown",
   "id": "bc01172a",
   "metadata": {
    "papermill": {
     "duration": 0.033207,
     "end_time": "2022-08-18T10:13:03.262024",
     "exception": false,
     "start_time": "2022-08-18T10:13:03.228817",
     "status": "completed"
    },
    "tags": []
   },
   "source": [
    "### Let us create a `Config` class, to store important parameters. \n",
    "This class essentially plays the role of a dictionary."
   ]
  },
  {
   "cell_type": "code",
   "execution_count": 16,
   "id": "978281aa",
   "metadata": {
    "execution": {
     "iopub.execute_input": "2022-08-18T10:13:03.336135Z",
     "iopub.status.busy": "2022-08-18T10:13:03.335355Z",
     "iopub.status.idle": "2022-08-18T10:13:03.347775Z",
     "shell.execute_reply": "2022-08-18T10:13:03.348302Z"
    },
    "papermill": {
     "duration": 0.053958,
     "end_time": "2022-08-18T10:13:03.348462",
     "exception": false,
     "start_time": "2022-08-18T10:13:03.294504",
     "status": "completed"
    },
    "tags": []
   },
   "outputs": [],
   "source": [
    "class Config:\n",
    "    pass\n",
    "config = Config()\n",
    "config.lr = 0.001\n",
    "config.num_epochs = 250\n",
    "config.bs = 50"
   ]
  },
  {
   "cell_type": "markdown",
   "id": "1385fa59",
   "metadata": {
    "papermill": {
     "duration": 0.030643,
     "end_time": "2022-08-18T10:13:03.410156",
     "exception": false,
     "start_time": "2022-08-18T10:13:03.379513",
     "status": "completed"
    },
    "tags": []
   },
   "source": [
    "### Running Models with the Training data\n",
    "Details about the network layers:\n",
    "- A first affine layer has 784 inputs and does 100 affine transforms. These are followed by a Relu\n",
    "- A second affine layer has 100 inputs from the 100 activations of the past layer, and does 100 affine transforms. These are followed by a Relu\n",
    "- A third affine layer has 100 activations and does 2 affine transformations to create an embedding for visualization. There is no non-linearity here.\n",
    "- A final \"logistic regression\" which has an affine transform from 2 inputs to 1 output, which is squeezed through a sigmoid.\n"
   ]
  },
  {
   "cell_type": "code",
   "execution_count": 17,
   "id": "2b9c66db",
   "metadata": {
    "execution": {
     "iopub.execute_input": "2022-08-18T10:13:03.482936Z",
     "iopub.status.busy": "2022-08-18T10:13:03.482230Z",
     "iopub.status.idle": "2022-08-18T10:13:03.499053Z",
     "shell.execute_reply": "2022-08-18T10:13:03.497309Z"
    },
    "papermill": {
     "duration": 0.05827,
     "end_time": "2022-08-18T10:13:03.499219",
     "exception": false,
     "start_time": "2022-08-18T10:13:03.440949",
     "status": "completed"
    },
    "tags": []
   },
   "outputs": [],
   "source": [
    "data = Data(X_train, y_train.reshape(-1,1))\n",
    "sampler = Sampler(data, config.bs, shuffle=True)\n",
    "\n",
    "dl = Dataloader(data, sampler)\n",
    "\n",
    "opt = GD(config.lr)\n",
    "loss = MSE()"
   ]
  },
  {
   "cell_type": "code",
   "execution_count": 18,
   "id": "b275e4c2",
   "metadata": {
    "execution": {
     "iopub.execute_input": "2022-08-18T10:13:03.571984Z",
     "iopub.status.busy": "2022-08-18T10:13:03.571213Z",
     "iopub.status.idle": "2022-08-18T10:13:03.585155Z",
     "shell.execute_reply": "2022-08-18T10:13:03.584464Z"
    },
    "papermill": {
     "duration": 0.051653,
     "end_time": "2022-08-18T10:13:03.585328",
     "exception": false,
     "start_time": "2022-08-18T10:13:03.533675",
     "status": "completed"
    },
    "tags": []
   },
   "outputs": [],
   "source": [
    "training_data_x = X_train\n",
    "testing_data_x = X_test\n",
    "training_data_y = y_train.reshape(-1,1)\n",
    "testing_data_y = y_test.reshape(-1,1)"
   ]
  },
  {
   "cell_type": "code",
   "execution_count": 19,
   "id": "76951160",
   "metadata": {
    "execution": {
     "iopub.execute_input": "2022-08-18T10:13:03.656099Z",
     "iopub.status.busy": "2022-08-18T10:13:03.655356Z",
     "iopub.status.idle": "2022-08-18T10:13:03.675202Z",
     "shell.execute_reply": "2022-08-18T10:13:03.674465Z"
    },
    "papermill": {
     "duration": 0.056721,
     "end_time": "2022-08-18T10:13:03.675342",
     "exception": false,
     "start_time": "2022-08-18T10:13:03.618621",
     "status": "completed"
    },
    "tags": []
   },
   "outputs": [
    {
     "name": "stdout",
     "output_type": "stream",
     "text": [
      "xavier\n",
      "xavier\n",
      "xavier\n",
      "xavier\n",
      "xavier\n"
     ]
    }
   ],
   "source": [
    "layers = [Affine(\"first\", 784, 100), Relu(\"first\"), Affine(\"second\", 100, 100), Relu(\"second\"), Affine(\"third\", 100, 2), Affine(\"last\", 2, 1), Sigmoid(\"last\")]\n",
    "model_nn = Model(layers)\n",
    "model_lr = Model([Affine(\"logits\", 784, 1), Sigmoid(\"sigmoid\")])"
   ]
  },
  {
   "cell_type": "code",
   "execution_count": 20,
   "id": "6eede77a",
   "metadata": {
    "execution": {
     "iopub.execute_input": "2022-08-18T10:13:03.750034Z",
     "iopub.status.busy": "2022-08-18T10:13:03.749317Z",
     "iopub.status.idle": "2022-08-18T10:13:03.764501Z",
     "shell.execute_reply": "2022-08-18T10:13:03.763928Z"
    },
    "papermill": {
     "duration": 0.056388,
     "end_time": "2022-08-18T10:13:03.764633",
     "exception": false,
     "start_time": "2022-08-18T10:13:03.708245",
     "status": "completed"
    },
    "tags": []
   },
   "outputs": [],
   "source": [
    "nn_learner = Learner(loss, model_nn, opt, config.num_epochs)\n",
    "acc_nn = ClfCallback(nn_learner, config.bs, training_data_x , testing_data_x, training_data_y, testing_data_y)\n",
    "nn_learner.set_callbacks([acc_nn])"
   ]
  },
  {
   "cell_type": "code",
   "execution_count": 21,
   "id": "877b6cc7",
   "metadata": {
    "execution": {
     "iopub.execute_input": "2022-08-18T10:13:03.834762Z",
     "iopub.status.busy": "2022-08-18T10:13:03.834006Z",
     "iopub.status.idle": "2022-08-18T10:13:03.849228Z",
     "shell.execute_reply": "2022-08-18T10:13:03.848620Z"
    },
    "papermill": {
     "duration": 0.052599,
     "end_time": "2022-08-18T10:13:03.849366",
     "exception": false,
     "start_time": "2022-08-18T10:13:03.796767",
     "status": "completed"
    },
    "tags": []
   },
   "outputs": [],
   "source": [
    "lr_learner = Learner(loss, model_lr, opt, config.num_epochs)\n",
    "acc_lr = ClfCallback(lr_learner, config.bs, training_data_x , testing_data_x, training_data_y, testing_data_y)\n",
    "lr_learner.set_callbacks([acc_lr])"
   ]
  },
  {
   "cell_type": "code",
   "execution_count": 22,
   "id": "d9b133c3",
   "metadata": {
    "execution": {
     "iopub.execute_input": "2022-08-18T10:13:03.921833Z",
     "iopub.status.busy": "2022-08-18T10:13:03.921077Z",
     "iopub.status.idle": "2022-08-18T10:14:37.528092Z",
     "shell.execute_reply": "2022-08-18T10:14:37.529137Z"
    },
    "papermill": {
     "duration": 93.645561,
     "end_time": "2022-08-18T10:14:37.529318",
     "exception": false,
     "start_time": "2022-08-18T10:13:03.883757",
     "status": "completed"
    },
    "tags": []
   },
   "outputs": [
    {
     "name": "stdout",
     "output_type": "stream",
     "text": [
      "Epoch 0, Loss 0.2513\n",
      "Training Accuracy: 0.5043, Testing Accuracy: 0.5176\n",
      "\n"
     ]
    },
    {
     "name": "stdout",
     "output_type": "stream",
     "text": [
      "Epoch 10, Loss 0.1641\n",
      "Training Accuracy: 0.8796, Testing Accuracy: 0.8992\n",
      "\n"
     ]
    },
    {
     "name": "stdout",
     "output_type": "stream",
     "text": [
      "Epoch 20, Loss 0.0825\n",
      "Training Accuracy: 0.9158, Testing Accuracy: 0.9299\n",
      "\n"
     ]
    },
    {
     "name": "stdout",
     "output_type": "stream",
     "text": [
      "Epoch 30, Loss 0.0573\n",
      "Training Accuracy: 0.9358, Testing Accuracy: 0.9466\n",
      "\n"
     ]
    },
    {
     "name": "stdout",
     "output_type": "stream",
     "text": [
      "Epoch 40, Loss 0.0462\n",
      "Training Accuracy: 0.9478, Testing Accuracy: 0.9582\n",
      "\n"
     ]
    },
    {
     "name": "stdout",
     "output_type": "stream",
     "text": [
      "Epoch 50, Loss 0.0401\n",
      "Training Accuracy: 0.9543, Testing Accuracy: 0.9647\n",
      "\n"
     ]
    },
    {
     "name": "stdout",
     "output_type": "stream",
     "text": [
      "Epoch 60, Loss 0.0363\n",
      "Training Accuracy: 0.9571, Testing Accuracy: 0.9693\n",
      "\n"
     ]
    },
    {
     "name": "stdout",
     "output_type": "stream",
     "text": [
      "Epoch 70, Loss 0.0337\n",
      "Training Accuracy: 0.9604, Testing Accuracy: 0.9682\n",
      "\n"
     ]
    },
    {
     "name": "stdout",
     "output_type": "stream",
     "text": [
      "Epoch 80, Loss 0.0317\n",
      "Training Accuracy: 0.9629, Testing Accuracy: 0.9703\n",
      "\n"
     ]
    },
    {
     "name": "stdout",
     "output_type": "stream",
     "text": [
      "Epoch 90, Loss 0.0301\n",
      "Training Accuracy: 0.9645, Testing Accuracy: 0.9713\n",
      "\n"
     ]
    },
    {
     "name": "stdout",
     "output_type": "stream",
     "text": [
      "Epoch 100, Loss 0.0288\n",
      "Training Accuracy: 0.9659, Testing Accuracy: 0.9718\n",
      "\n"
     ]
    },
    {
     "name": "stdout",
     "output_type": "stream",
     "text": [
      "Epoch 110, Loss 0.0277\n",
      "Training Accuracy: 0.9668, Testing Accuracy: 0.9728\n",
      "\n"
     ]
    },
    {
     "name": "stdout",
     "output_type": "stream",
     "text": [
      "Epoch 120, Loss 0.0268\n",
      "Training Accuracy: 0.9680, Testing Accuracy: 0.9718\n",
      "\n"
     ]
    },
    {
     "name": "stdout",
     "output_type": "stream",
     "text": [
      "Epoch 130, Loss 0.0259\n",
      "Training Accuracy: 0.9697, Testing Accuracy: 0.9713\n",
      "\n"
     ]
    },
    {
     "name": "stdout",
     "output_type": "stream",
     "text": [
      "Epoch 140, Loss 0.0252\n",
      "Training Accuracy: 0.9712, Testing Accuracy: 0.9723\n",
      "\n"
     ]
    },
    {
     "name": "stdout",
     "output_type": "stream",
     "text": [
      "Epoch 150, Loss 0.0245\n",
      "Training Accuracy: 0.9725, Testing Accuracy: 0.9718\n",
      "\n"
     ]
    },
    {
     "name": "stdout",
     "output_type": "stream",
     "text": [
      "Epoch 160, Loss 0.0239\n",
      "Training Accuracy: 0.9730, Testing Accuracy: 0.9718\n",
      "\n"
     ]
    },
    {
     "name": "stdout",
     "output_type": "stream",
     "text": [
      "Epoch 170, Loss 0.0234\n",
      "Training Accuracy: 0.9738, Testing Accuracy: 0.9723\n",
      "\n"
     ]
    },
    {
     "name": "stdout",
     "output_type": "stream",
     "text": [
      "Epoch 180, Loss 0.0228\n",
      "Training Accuracy: 0.9745, Testing Accuracy: 0.9733\n",
      "\n"
     ]
    },
    {
     "name": "stdout",
     "output_type": "stream",
     "text": [
      "Epoch 190, Loss 0.0223\n",
      "Training Accuracy: 0.9751, Testing Accuracy: 0.9738\n",
      "\n"
     ]
    },
    {
     "name": "stdout",
     "output_type": "stream",
     "text": [
      "Epoch 200, Loss 0.0219\n",
      "Training Accuracy: 0.9757, Testing Accuracy: 0.9738\n",
      "\n"
     ]
    },
    {
     "name": "stdout",
     "output_type": "stream",
     "text": [
      "Epoch 210, Loss 0.0214\n",
      "Training Accuracy: 0.9758, Testing Accuracy: 0.9733\n",
      "\n"
     ]
    },
    {
     "name": "stdout",
     "output_type": "stream",
     "text": [
      "Epoch 220, Loss 0.021\n",
      "Training Accuracy: 0.9761, Testing Accuracy: 0.9733\n",
      "\n"
     ]
    },
    {
     "name": "stdout",
     "output_type": "stream",
     "text": [
      "Epoch 230, Loss 0.0206\n",
      "Training Accuracy: 0.9765, Testing Accuracy: 0.9738\n",
      "\n"
     ]
    },
    {
     "name": "stdout",
     "output_type": "stream",
     "text": [
      "Epoch 240, Loss 0.0202\n",
      "Training Accuracy: 0.9770, Testing Accuracy: 0.9748\n",
      "\n"
     ]
    },
    {
     "data": {
      "text/plain": [
       "0.0045379686049185925"
      ]
     },
     "execution_count": 22,
     "metadata": {},
     "output_type": "execute_result"
    }
   ],
   "source": [
    "nn_learner.train_loop(dl)"
   ]
  },
  {
   "cell_type": "code",
   "execution_count": 23,
   "id": "e0163366",
   "metadata": {
    "execution": {
     "iopub.execute_input": "2022-08-18T10:14:37.618223Z",
     "iopub.status.busy": "2022-08-18T10:14:37.617509Z",
     "iopub.status.idle": "2022-08-18T10:14:54.430850Z",
     "shell.execute_reply": "2022-08-18T10:14:54.431844Z"
    },
    "papermill": {
     "duration": 16.862933,
     "end_time": "2022-08-18T10:14:54.432011",
     "exception": false,
     "start_time": "2022-08-18T10:14:37.569078",
     "status": "completed"
    },
    "tags": []
   },
   "outputs": [
    {
     "name": "stdout",
     "output_type": "stream",
     "text": [
      "Epoch 0, Loss 0.2605\n",
      "Training Accuracy: 0.6181, Testing Accuracy: 0.6064\n",
      "\n"
     ]
    },
    {
     "name": "stdout",
     "output_type": "stream",
     "text": [
      "Epoch 10, Loss 0.1053\n",
      "Training Accuracy: 0.9084, Testing Accuracy: 0.9199\n",
      "\n"
     ]
    },
    {
     "name": "stdout",
     "output_type": "stream",
     "text": [
      "Epoch 20, Loss 0.0804\n",
      "Training Accuracy: 0.9275, Testing Accuracy: 0.9375\n",
      "\n"
     ]
    },
    {
     "name": "stdout",
     "output_type": "stream",
     "text": [
      "Epoch 30, Loss 0.0691\n",
      "Training Accuracy: 0.9355, Testing Accuracy: 0.9451\n",
      "\n"
     ]
    },
    {
     "name": "stdout",
     "output_type": "stream",
     "text": [
      "Epoch 40, Loss 0.0623\n",
      "Training Accuracy: 0.9416, Testing Accuracy: 0.9491\n",
      "\n"
     ]
    },
    {
     "name": "stdout",
     "output_type": "stream",
     "text": [
      "Epoch 50, Loss 0.0577\n",
      "Training Accuracy: 0.9448, Testing Accuracy: 0.9536\n",
      "\n"
     ]
    },
    {
     "name": "stdout",
     "output_type": "stream",
     "text": [
      "Epoch 60, Loss 0.0543\n",
      "Training Accuracy: 0.9479, Testing Accuracy: 0.9556\n",
      "\n"
     ]
    },
    {
     "name": "stdout",
     "output_type": "stream",
     "text": [
      "Epoch 70, Loss 0.0517\n",
      "Training Accuracy: 0.9493, Testing Accuracy: 0.9587\n",
      "\n"
     ]
    },
    {
     "name": "stdout",
     "output_type": "stream",
     "text": [
      "Epoch 80, Loss 0.0496\n",
      "Training Accuracy: 0.9505, Testing Accuracy: 0.9592\n",
      "\n"
     ]
    },
    {
     "name": "stdout",
     "output_type": "stream",
     "text": [
      "Epoch 90, Loss 0.0479\n",
      "Training Accuracy: 0.9518, Testing Accuracy: 0.9597\n",
      "\n"
     ]
    },
    {
     "name": "stdout",
     "output_type": "stream",
     "text": [
      "Epoch 100, Loss 0.0465\n",
      "Training Accuracy: 0.9531, Testing Accuracy: 0.9632\n",
      "\n"
     ]
    },
    {
     "name": "stdout",
     "output_type": "stream",
     "text": [
      "Epoch 110, Loss 0.0452\n",
      "Training Accuracy: 0.9541, Testing Accuracy: 0.9647\n",
      "\n"
     ]
    },
    {
     "name": "stdout",
     "output_type": "stream",
     "text": [
      "Epoch 120, Loss 0.0441\n",
      "Training Accuracy: 0.9548, Testing Accuracy: 0.9652\n",
      "\n"
     ]
    },
    {
     "name": "stdout",
     "output_type": "stream",
     "text": [
      "Epoch 130, Loss 0.0432\n",
      "Training Accuracy: 0.9555, Testing Accuracy: 0.9647\n",
      "\n"
     ]
    },
    {
     "name": "stdout",
     "output_type": "stream",
     "text": [
      "Epoch 140, Loss 0.0424\n",
      "Training Accuracy: 0.9560, Testing Accuracy: 0.9652\n",
      "\n"
     ]
    },
    {
     "name": "stdout",
     "output_type": "stream",
     "text": [
      "Epoch 150, Loss 0.0416\n",
      "Training Accuracy: 0.9569, Testing Accuracy: 0.9657\n",
      "\n"
     ]
    },
    {
     "name": "stdout",
     "output_type": "stream",
     "text": [
      "Epoch 160, Loss 0.0409\n",
      "Training Accuracy: 0.9572, Testing Accuracy: 0.9662\n",
      "\n"
     ]
    },
    {
     "name": "stdout",
     "output_type": "stream",
     "text": [
      "Epoch 170, Loss 0.0403\n",
      "Training Accuracy: 0.9582, Testing Accuracy: 0.9662\n",
      "\n"
     ]
    },
    {
     "name": "stdout",
     "output_type": "stream",
     "text": [
      "Epoch 180, Loss 0.0397\n",
      "Training Accuracy: 0.9584, Testing Accuracy: 0.9657\n",
      "\n"
     ]
    },
    {
     "name": "stdout",
     "output_type": "stream",
     "text": [
      "Epoch 190, Loss 0.0392\n",
      "Training Accuracy: 0.9586, Testing Accuracy: 0.9657\n",
      "\n"
     ]
    },
    {
     "name": "stdout",
     "output_type": "stream",
     "text": [
      "Epoch 200, Loss 0.0387\n",
      "Training Accuracy: 0.9591, Testing Accuracy: 0.9662\n",
      "\n"
     ]
    },
    {
     "name": "stdout",
     "output_type": "stream",
     "text": [
      "Epoch 210, Loss 0.0383\n",
      "Training Accuracy: 0.9593, Testing Accuracy: 0.9662\n",
      "\n"
     ]
    },
    {
     "name": "stdout",
     "output_type": "stream",
     "text": [
      "Epoch 220, Loss 0.0379\n",
      "Training Accuracy: 0.9595, Testing Accuracy: 0.9667\n",
      "\n"
     ]
    },
    {
     "name": "stdout",
     "output_type": "stream",
     "text": [
      "Epoch 230, Loss 0.0375\n",
      "Training Accuracy: 0.9598, Testing Accuracy: 0.9672\n",
      "\n"
     ]
    },
    {
     "name": "stdout",
     "output_type": "stream",
     "text": [
      "Epoch 240, Loss 0.0371\n",
      "Training Accuracy: 0.9599, Testing Accuracy: 0.9677\n",
      "\n"
     ]
    },
    {
     "data": {
      "text/plain": [
       "0.04825939920419713"
      ]
     },
     "execution_count": 23,
     "metadata": {},
     "output_type": "execute_result"
    }
   ],
   "source": [
    "lr_learner.train_loop(dl)"
   ]
  },
  {
   "cell_type": "code",
   "execution_count": 24,
   "id": "ca410940",
   "metadata": {
    "execution": {
     "iopub.execute_input": "2022-08-18T10:14:54.541372Z",
     "iopub.status.busy": "2022-08-18T10:14:54.540668Z",
     "iopub.status.idle": "2022-08-18T10:14:54.803515Z",
     "shell.execute_reply": "2022-08-18T10:14:54.802934Z"
    },
    "papermill": {
     "duration": 0.323934,
     "end_time": "2022-08-18T10:14:54.803679",
     "exception": false,
     "start_time": "2022-08-18T10:14:54.479745",
     "status": "completed"
    },
    "tags": []
   },
   "outputs": [
    {
     "data": {
      "text/plain": [
       "<matplotlib.legend.Legend at 0x7f5446748eb8>"
      ]
     },
     "execution_count": 24,
     "metadata": {},
     "output_type": "execute_result"
    },
    {
     "data": {
      "image/png": "[encoded data removed]",
      "text/plain": [
       "<Figure size 1080x720 with 1 Axes>"
      ]
     },
     "metadata": {
      "needs_background": "light"
     },
     "output_type": "display_data"
    }
   ],
   "source": [
    "#comparing the results of NN and LR\n",
    "plt.figure(figsize=(15,10))\n",
    "\n",
    "# Neural Network plots\n",
    "plt.plot(acc_nn.accuracies, 'r-', label = \"Training Accuracies - NN\")\n",
    "plt.plot(acc_nn.test_accuracies, 'g-', label = \"Testing Accuracies - NN\")\n",
    "\n",
    "# Logistic Regression plots\n",
    "plt.plot(acc_lr.accuracies, 'k-', label = \"Training Accuracies - LR\")\n",
    "plt.plot(acc_lr.test_accuracies, 'b-', label = \"Testing Accuracies - LR\")\n",
    "plt.legend()"
   ]
  },
  {
   "cell_type": "markdown",
   "id": "80dfb35c",
   "metadata": {
    "papermill": {
     "duration": 0.047939,
     "end_time": "2022-08-18T10:14:54.899542",
     "exception": false,
     "start_time": "2022-08-18T10:14:54.851603",
     "status": "completed"
    },
    "tags": []
   },
   "source": [
    "#### Plotting the outputs of this layer of the NN.\n"
   ]
  },
  {
   "cell_type": "code",
   "execution_count": 25,
   "id": "45eb2ff5",
   "metadata": {
    "execution": {
     "iopub.execute_input": "2022-08-18T10:14:55.001216Z",
     "iopub.status.busy": "2022-08-18T10:14:54.999274Z",
     "iopub.status.idle": "2022-08-18T10:14:55.026603Z",
     "shell.execute_reply": "2022-08-18T10:14:55.025974Z"
    },
    "papermill": {
     "duration": 0.079598,
     "end_time": "2022-08-18T10:14:55.026744",
     "exception": false,
     "start_time": "2022-08-18T10:14:54.947146",
     "status": "completed"
    },
    "tags": []
   },
   "outputs": [],
   "source": [
    "new_model = Model(layers[:-2])\n",
    "testing_plot = new_model(testing_data_x)"
   ]
  },
  {
   "cell_type": "code",
   "execution_count": 26,
   "id": "4c0a5485",
   "metadata": {
    "execution": {
     "iopub.execute_input": "2022-08-18T10:14:55.131776Z",
     "iopub.status.busy": "2022-08-18T10:14:55.131041Z",
     "iopub.status.idle": "2022-08-18T10:14:55.361757Z",
     "shell.execute_reply": "2022-08-18T10:14:55.362605Z"
    },
    "papermill": {
     "duration": 0.286912,
     "end_time": "2022-08-18T10:14:55.362769",
     "exception": false,
     "start_time": "2022-08-18T10:14:55.075857",
     "status": "completed"
    },
    "tags": []
   },
   "outputs": [
    {
     "data": {
      "text/plain": [
       "Text(0.5, 1.0, 'Outputs')"
      ]
     },
     "execution_count": 26,
     "metadata": {},
     "output_type": "execute_result"
    },
    {
     "data": {
      "image/png": "[encoded data removed]",
      "text/plain": [
       "<Figure size 576x504 with 1 Axes>"
      ]
     },
     "metadata": {
      "needs_background": "light"
     },
     "output_type": "display_data"
    }
   ],
   "source": [
    "# Plotting the scatter plot of points and color coding by class\n",
    "plt.figure(figsize=(8,7))\n",
    "plt.scatter(testing_plot[:,0], testing_plot[:,1], alpha = 0.1, c = y_test.ravel());\n",
    "plt.title('Outputs')"
   ]
  },
  {
   "cell_type": "markdown",
   "id": "a74fcf8f",
   "metadata": {
    "papermill": {
     "duration": 0.049892,
     "end_time": "2022-08-18T10:14:55.463195",
     "exception": false,
     "start_time": "2022-08-18T10:14:55.413303",
     "status": "completed"
    },
    "tags": []
   },
   "source": [
    "Probability contours"
   ]
  },
  {
   "cell_type": "code",
   "execution_count": 27,
   "id": "d0afc8e3",
   "metadata": {
    "execution": {
     "iopub.execute_input": "2022-08-18T10:14:55.599976Z",
     "iopub.status.busy": "2022-08-18T10:14:55.599260Z",
     "iopub.status.idle": "2022-08-18T10:14:55.614359Z",
     "shell.execute_reply": "2022-08-18T10:14:55.613812Z"
    },
    "papermill": {
     "duration": 0.070135,
     "end_time": "2022-08-18T10:14:55.614498",
     "exception": false,
     "start_time": "2022-08-18T10:14:55.544363",
     "status": "completed"
    },
    "tags": []
   },
   "outputs": [],
   "source": [
    "model_prob = Model(layers[-2:]) "
   ]
  },
  {
   "cell_type": "code",
   "execution_count": 28,
   "id": "9b96e238",
   "metadata": {
    "execution": {
     "iopub.execute_input": "2022-08-18T10:14:55.719518Z",
     "iopub.status.busy": "2022-08-18T10:14:55.718801Z",
     "iopub.status.idle": "2022-08-18T10:14:55.735674Z",
     "shell.execute_reply": "2022-08-18T10:14:55.736153Z"
    },
    "papermill": {
     "duration": 0.07172,
     "end_time": "2022-08-18T10:14:55.736348",
     "exception": false,
     "start_time": "2022-08-18T10:14:55.664628",
     "status": "completed"
    },
    "tags": []
   },
   "outputs": [],
   "source": [
    "#creating the x and y ranges according to the above generated plot.\n",
    "x_range = np.linspace(-4, 1, 100) \n",
    "y_range = np.linspace(-6, 6, 100) \n",
    "x_grid, y_grid = np.meshgrid(x_range, y_range) # x_grid and y_grig are of size 100 X 100\n",
    "\n",
    "# converting x_grid and y_grid to continuous arrays\n",
    "x_gridflat = np.ravel(x_grid)\n",
    "y_gridflat = np.ravel(y_grid)\n",
    "\n",
    "# The last layer of the current model takes two columns as input. Hence transpose of np.vstack() is required.\n",
    "X = np.vstack((x_gridflat, y_gridflat)).T\n",
    "\n",
    "prob_contour = model_prob(X).reshape(100,100) "
   ]
  },
  {
   "cell_type": "code",
   "execution_count": 29,
   "id": "da72499a",
   "metadata": {
    "execution": {
     "iopub.execute_input": "2022-08-18T10:14:55.844445Z",
     "iopub.status.busy": "2022-08-18T10:14:55.843715Z",
     "iopub.status.idle": "2022-08-18T10:14:56.155346Z",
     "shell.execute_reply": "2022-08-18T10:14:56.154590Z"
    },
    "papermill": {
     "duration": 0.369091,
     "end_time": "2022-08-18T10:14:56.155489",
     "exception": false,
     "start_time": "2022-08-18T10:14:55.786398",
     "status": "completed"
    },
    "tags": []
   },
   "outputs": [
    {
     "data": {
      "image/png": "[encoded data removed]",
      "text/plain": [
       "<Figure size 720x648 with 1 Axes>"
      ]
     },
     "metadata": {
      "needs_background": "light"
     },
     "output_type": "display_data"
    }
   ],
   "source": [
    "plt.figure(figsize=(10,9))\n",
    "plt.scatter(testing_plot[:,0], testing_plot[:,1], alpha = 0.1, c = y_test.ravel())\n",
    "contours = plt.contour(x_grid,y_grid,prob_contour)\n",
    "plt.title('Probability Contours')\n",
    "plt.clabel(contours, inline = True );"
   ]
  },
  {
   "cell_type": "code",
   "execution_count": null,
   "id": "e81b4ac7",
   "metadata": {
    "papermill": {
     "duration": 0.055218,
     "end_time": "2022-08-18T10:14:56.266653",
     "exception": false,
     "start_time": "2022-08-18T10:14:56.211435",
     "status": "completed"
    },
    "tags": []
   },
   "outputs": [],
   "source": []
  }
 ],
 "metadata": {
  "kernelspec": {
   "display_name": "Python 3",
   "language": "python",
   "name": "python3"
  },
  "language_info": {
   "codemirror_mode": {
    "name": "ipython",
    "version": 3
   },
   "file_extension": ".py",
   "mimetype": "text/x-python",
   "name": "python",
   "nbconvert_exporter": "python",
   "pygments_lexer": "ipython3",
   "version": "3.6.15"
  },
  "papermill": {
   "default_parameters": {},
   "duration": 120.195786,
   "end_time": "2022-08-18T10:14:56.840998",
   "environment_variables": {},
   "exception": null,
   "input_path": "2020-08-11-part2.ipynb",
   "output_path": "2020-08-11-part2.ipynb",
   "parameters": {},
   "start_time": "2022-08-18T10:12:56.645212",
   "version": "2.3.3"
  }
 },
 "nbformat": 4,
 "nbformat_minor": 5
}