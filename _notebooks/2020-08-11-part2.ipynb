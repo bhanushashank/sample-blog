{
 "cells": [
  {
   "cell_type": "markdown",
   "id": "98380cd3",
   "metadata": {
    "papermill": {
     "duration": 0.03144,
     "end_time": "2022-10-26T10:10:59.768689",
     "exception": false,
     "start_time": "2022-10-26T10:10:59.737249",
     "status": "completed"
    },
    "tags": []
   },
   "source": [
    "# Distinguish Your Own Digits (DYOD)"
   ]
  },
  {
   "cell_type": "markdown",
   "id": "ef31240d",
   "metadata": {
    "papermill": {
     "duration": 0.023929,
     "end_time": "2022-10-26T10:10:59.818719",
     "exception": false,
     "start_time": "2022-10-26T10:10:59.794790",
     "status": "completed"
    },
    "tags": []
   },
   "source": [
    "You are going to write a classifier that distinguishes between the number 3 and number 8."
   ]
  },
  {
   "cell_type": "code",
   "execution_count": 1,
   "id": "b15c8646",
   "metadata": {
    "execution": {
     "iopub.execute_input": "2022-10-26T10:10:59.876933Z",
     "iopub.status.busy": "2022-10-26T10:10:59.876302Z",
     "iopub.status.idle": "2022-10-26T10:10:59.887121Z",
     "shell.execute_reply": "2022-10-26T10:10:59.887627Z"
    },
    "papermill": {
     "duration": 0.045402,
     "end_time": "2022-10-26T10:10:59.887800",
     "exception": false,
     "start_time": "2022-10-26T10:10:59.842398",
     "status": "completed"
    },
    "tags": []
   },
   "outputs": [],
   "source": [
    "%load_ext autoreload\n",
    "%autoreload 2"
   ]
  },
  {
   "cell_type": "code",
   "execution_count": 2,
   "id": "22ef38dc",
   "metadata": {
    "execution": {
     "iopub.execute_input": "2022-10-26T10:10:59.941042Z",
     "iopub.status.busy": "2022-10-26T10:10:59.940418Z",
     "iopub.status.idle": "2022-10-26T10:11:00.521959Z",
     "shell.execute_reply": "2022-10-26T10:11:00.521437Z"
    },
    "papermill": {
     "duration": 0.610286,
     "end_time": "2022-10-26T10:11:00.522087",
     "exception": false,
     "start_time": "2022-10-26T10:10:59.911801",
     "status": "completed"
    },
    "tags": []
   },
   "outputs": [],
   "source": [
    "%matplotlib inline\n",
    "import numpy as np\n",
    "import matplotlib.pyplot as plt\n",
    "import pandas as pd"
   ]
  },
  {
   "cell_type": "markdown",
   "id": "ba036198",
   "metadata": {
    "papermill": {
     "duration": 0.02389,
     "end_time": "2022-10-26T10:11:00.569883",
     "exception": false,
     "start_time": "2022-10-26T10:11:00.545993",
     "status": "completed"
    },
    "tags": []
   },
   "source": [
    "From the command line run `pip install mnist`. This is a library that will help you bring down the mnist dataset. If you run this from a notebook, you need to put  `!pip install mnist` in a cell by itself."
   ]
  },
  {
   "cell_type": "code",
   "execution_count": 3,
   "id": "bb6ad8a1",
   "metadata": {
    "execution": {
     "iopub.execute_input": "2022-10-26T10:11:00.625247Z",
     "iopub.status.busy": "2022-10-26T10:11:00.624570Z",
     "iopub.status.idle": "2022-10-26T10:11:03.140533Z",
     "shell.execute_reply": "2022-10-26T10:11:03.139989Z"
    },
    "papermill": {
     "duration": 2.546754,
     "end_time": "2022-10-26T10:11:03.140657",
     "exception": false,
     "start_time": "2022-10-26T10:11:00.593903",
     "status": "completed"
    },
    "tags": []
   },
   "outputs": [
    {
     "name": "stdout",
     "output_type": "stream",
     "text": [
      "Collecting mnist\r\n"
     ]
    },
    {
     "name": "stdout",
     "output_type": "stream",
     "text": [
      "  Downloading mnist-0.2.2-py2.py3-none-any.whl (3.5 kB)\r\n",
      "Requirement already satisfied: numpy in /opt/hostedtoolcache/Python/3.6.15/x64/lib/python3.6/site-packages (from mnist) (1.19.5)\r\n"
     ]
    },
    {
     "name": "stdout",
     "output_type": "stream",
     "text": [
      "Installing collected packages: mnist\r\n"
     ]
    },
    {
     "name": "stdout",
     "output_type": "stream",
     "text": [
      "Successfully installed mnist-0.2.2\r\n"
     ]
    }
   ],
   "source": [
    "!pip install mnist"
   ]
  },
  {
   "cell_type": "markdown",
   "id": "69df9c9a",
   "metadata": {
    "papermill": {
     "duration": 0.025077,
     "end_time": "2022-10-26T10:11:03.190913",
     "exception": false,
     "start_time": "2022-10-26T10:11:03.165836",
     "status": "completed"
    },
    "tags": []
   },
   "source": [
    "## Preparing the Data"
   ]
  },
  {
   "cell_type": "code",
   "execution_count": 4,
   "id": "7f69d806",
   "metadata": {
    "execution": {
     "iopub.execute_input": "2022-10-26T10:11:03.262062Z",
     "iopub.status.busy": "2022-10-26T10:11:03.244679Z",
     "iopub.status.idle": "2022-10-26T10:11:03.267149Z",
     "shell.execute_reply": "2022-10-26T10:11:03.266634Z"
    },
    "papermill": {
     "duration": 0.051443,
     "end_time": "2022-10-26T10:11:03.267272",
     "exception": false,
     "start_time": "2022-10-26T10:11:03.215829",
     "status": "completed"
    },
    "tags": []
   },
   "outputs": [],
   "source": [
    "import mnist"
   ]
  },
  {
   "cell_type": "code",
   "execution_count": 5,
   "id": "a411e44f",
   "metadata": {
    "execution": {
     "iopub.execute_input": "2022-10-26T10:11:03.324071Z",
     "iopub.status.busy": "2022-10-26T10:11:03.320973Z",
     "iopub.status.idle": "2022-10-26T10:11:03.855209Z",
     "shell.execute_reply": "2022-10-26T10:11:03.854655Z"
    },
    "papermill": {
     "duration": 0.562841,
     "end_time": "2022-10-26T10:11:03.855337",
     "exception": false,
     "start_time": "2022-10-26T10:11:03.292496",
     "status": "completed"
    },
    "tags": []
   },
   "outputs": [],
   "source": [
    "train_images = mnist.train_images()\n",
    "train_labels = mnist.train_labels()"
   ]
  },
  {
   "cell_type": "code",
   "execution_count": 6,
   "id": "dceab3a5",
   "metadata": {
    "execution": {
     "iopub.execute_input": "2022-10-26T10:11:03.916365Z",
     "iopub.status.busy": "2022-10-26T10:11:03.912420Z",
     "iopub.status.idle": "2022-10-26T10:11:03.928557Z",
     "shell.execute_reply": "2022-10-26T10:11:03.929021Z"
    },
    "papermill": {
     "duration": 0.048658,
     "end_time": "2022-10-26T10:11:03.929163",
     "exception": false,
     "start_time": "2022-10-26T10:11:03.880505",
     "status": "completed"
    },
    "tags": []
   },
   "outputs": [
    {
     "data": {
      "text/plain": [
       "((60000, 28, 28), (60000,))"
      ]
     },
     "execution_count": 6,
     "metadata": {},
     "output_type": "execute_result"
    }
   ],
   "source": [
    "train_images.shape, train_labels.shape"
   ]
  },
  {
   "cell_type": "code",
   "execution_count": 7,
   "id": "f50dc2bb",
   "metadata": {
    "execution": {
     "iopub.execute_input": "2022-10-26T10:11:03.984276Z",
     "iopub.status.busy": "2022-10-26T10:11:03.983041Z",
     "iopub.status.idle": "2022-10-26T10:11:04.096475Z",
     "shell.execute_reply": "2022-10-26T10:11:04.095909Z"
    },
    "papermill": {
     "duration": 0.142351,
     "end_time": "2022-10-26T10:11:04.096599",
     "exception": false,
     "start_time": "2022-10-26T10:11:03.954248",
     "status": "completed"
    },
    "tags": []
   },
   "outputs": [],
   "source": [
    "test_images = mnist.test_images()\n",
    "test_labels = mnist.test_labels()"
   ]
  },
  {
   "cell_type": "code",
   "execution_count": 8,
   "id": "fc38cf1b",
   "metadata": {
    "execution": {
     "iopub.execute_input": "2022-10-26T10:11:04.159267Z",
     "iopub.status.busy": "2022-10-26T10:11:04.150921Z",
     "iopub.status.idle": "2022-10-26T10:11:04.170108Z",
     "shell.execute_reply": "2022-10-26T10:11:04.170562Z"
    },
    "papermill": {
     "duration": 0.048598,
     "end_time": "2022-10-26T10:11:04.170702",
     "exception": false,
     "start_time": "2022-10-26T10:11:04.122104",
     "status": "completed"
    },
    "tags": []
   },
   "outputs": [
    {
     "data": {
      "text/plain": [
       "((10000, 28, 28), (10000,))"
      ]
     },
     "execution_count": 8,
     "metadata": {},
     "output_type": "execute_result"
    }
   ],
   "source": [
    "test_images.shape, test_labels.shape"
   ]
  },
  {
   "cell_type": "code",
   "execution_count": 9,
   "id": "f9ed8fe0",
   "metadata": {
    "execution": {
     "iopub.execute_input": "2022-10-26T10:11:04.236510Z",
     "iopub.status.busy": "2022-10-26T10:11:04.225537Z",
     "iopub.status.idle": "2022-10-26T10:11:04.375264Z",
     "shell.execute_reply": "2022-10-26T10:11:04.374440Z"
    },
    "papermill": {
     "duration": 0.179157,
     "end_time": "2022-10-26T10:11:04.375397",
     "exception": false,
     "start_time": "2022-10-26T10:11:04.196240",
     "status": "completed"
    },
    "tags": []
   },
   "outputs": [
    {
     "name": "stdout",
     "output_type": "stream",
     "text": [
      "2\n"
     ]
    },
    {
     "data": {
      "text/plain": [
       "<matplotlib.image.AxesImage at 0x7f9d875cdc18>"
      ]
     },
     "execution_count": 9,
     "metadata": {},
     "output_type": "execute_result"
    },
    {
     "data": {
      "image/png": "[encoded data removed]",
      "text/plain": [
       "<Figure size 432x288 with 1 Axes>"
      ]
     },
     "metadata": {
      "needs_background": "light"
     },
     "output_type": "display_data"
    }
   ],
   "source": [
    "image_index = 7776 # You may select anything up to 60,000\n",
    "print(train_labels[image_index]) \n",
    "plt.imshow(train_images[image_index], cmap='Greys')"
   ]
  },
  {
   "cell_type": "markdown",
   "id": "a8d2388d",
   "metadata": {
    "papermill": {
     "duration": 0.027027,
     "end_time": "2022-10-26T10:11:04.429320",
     "exception": false,
     "start_time": "2022-10-26T10:11:04.402293",
     "status": "completed"
    },
    "tags": []
   },
   "source": [
    "## Filter data to get 3 and 8 out"
   ]
  },
  {
   "cell_type": "code",
   "execution_count": 10,
   "id": "776f7fc7",
   "metadata": {
    "execution": {
     "iopub.execute_input": "2022-10-26T10:11:04.493688Z",
     "iopub.status.busy": "2022-10-26T10:11:04.492600Z",
     "iopub.status.idle": "2022-10-26T10:11:04.508800Z",
     "shell.execute_reply": "2022-10-26T10:11:04.508280Z"
    },
    "papermill": {
     "duration": 0.052944,
     "end_time": "2022-10-26T10:11:04.508933",
     "exception": false,
     "start_time": "2022-10-26T10:11:04.455989",
     "status": "completed"
    },
    "tags": []
   },
   "outputs": [],
   "source": [
    "train_filter = np.where((train_labels == 3 ) | (train_labels == 8))\n",
    "test_filter = np.where((test_labels == 3) | (test_labels == 8))\n",
    "X_train, y_train = train_images[train_filter], train_labels[train_filter]\n",
    "X_test, y_test = test_images[test_filter], test_labels[test_filter]"
   ]
  },
  {
   "cell_type": "markdown",
   "id": "948f0b7e",
   "metadata": {
    "papermill": {
     "duration": 0.026553,
     "end_time": "2022-10-26T10:11:04.562331",
     "exception": false,
     "start_time": "2022-10-26T10:11:04.535778",
     "status": "completed"
    },
    "tags": []
   },
   "source": [
    "We normalize the pizel values in the 0 to 1 range"
   ]
  },
  {
   "cell_type": "code",
   "execution_count": 11,
   "id": "ee4c2166",
   "metadata": {
    "execution": {
     "iopub.execute_input": "2022-10-26T10:11:04.624429Z",
     "iopub.status.busy": "2022-10-26T10:11:04.620283Z",
     "iopub.status.idle": "2022-10-26T10:11:04.669909Z",
     "shell.execute_reply": "2022-10-26T10:11:04.669384Z"
    },
    "papermill": {
     "duration": 0.081205,
     "end_time": "2022-10-26T10:11:04.670030",
     "exception": false,
     "start_time": "2022-10-26T10:11:04.588825",
     "status": "completed"
    },
    "tags": []
   },
   "outputs": [],
   "source": [
    "X_train = X_train/255.\n",
    "X_test = X_test/255."
   ]
  },
  {
   "cell_type": "markdown",
   "id": "ddcf4fab",
   "metadata": {
    "papermill": {
     "duration": 0.026555,
     "end_time": "2022-10-26T10:11:04.723389",
     "exception": false,
     "start_time": "2022-10-26T10:11:04.696834",
     "status": "completed"
    },
    "tags": []
   },
   "source": [
    "And setup the labels as 1 (when the digit is 3) and 0 (when the digit is 8)"
   ]
  },
  {
   "cell_type": "code",
   "execution_count": 12,
   "id": "7dc908f2",
   "metadata": {
    "execution": {
     "iopub.execute_input": "2022-10-26T10:11:04.780879Z",
     "iopub.status.busy": "2022-10-26T10:11:04.780266Z",
     "iopub.status.idle": "2022-10-26T10:11:04.793579Z",
     "shell.execute_reply": "2022-10-26T10:11:04.793040Z"
    },
    "papermill": {
     "duration": 0.043816,
     "end_time": "2022-10-26T10:11:04.793708",
     "exception": false,
     "start_time": "2022-10-26T10:11:04.749892",
     "status": "completed"
    },
    "tags": []
   },
   "outputs": [],
   "source": [
    "y_train = 1*(y_train==3)\n",
    "y_test = 1*(y_test==3)"
   ]
  },
  {
   "cell_type": "code",
   "execution_count": 13,
   "id": "01e4e969",
   "metadata": {
    "execution": {
     "iopub.execute_input": "2022-10-26T10:11:04.857691Z",
     "iopub.status.busy": "2022-10-26T10:11:04.857040Z",
     "iopub.status.idle": "2022-10-26T10:11:04.869322Z",
     "shell.execute_reply": "2022-10-26T10:11:04.868793Z"
    },
    "papermill": {
     "duration": 0.048979,
     "end_time": "2022-10-26T10:11:04.869449",
     "exception": false,
     "start_time": "2022-10-26T10:11:04.820470",
     "status": "completed"
    },
    "tags": []
   },
   "outputs": [
    {
     "data": {
      "text/plain": [
       "((11982, 28, 28), (1984, 28, 28))"
      ]
     },
     "execution_count": 13,
     "metadata": {},
     "output_type": "execute_result"
    }
   ],
   "source": [
    "X_train.shape, X_test.shape"
   ]
  },
  {
   "cell_type": "markdown",
   "id": "5ccf3f85",
   "metadata": {
    "papermill": {
     "duration": 0.028039,
     "end_time": "2022-10-26T10:11:04.924497",
     "exception": false,
     "start_time": "2022-10-26T10:11:04.896458",
     "status": "completed"
    },
    "tags": []
   },
   "source": [
    "We reshape the data to flatten the image pixels into a set of features or co-variates:"
   ]
  },
  {
   "cell_type": "code",
   "execution_count": 14,
   "id": "5286a4a3",
   "metadata": {
    "execution": {
     "iopub.execute_input": "2022-10-26T10:11:04.983325Z",
     "iopub.status.busy": "2022-10-26T10:11:04.982713Z",
     "iopub.status.idle": "2022-10-26T10:11:04.996841Z",
     "shell.execute_reply": "2022-10-26T10:11:04.997402Z"
    },
    "papermill": {
     "duration": 0.045856,
     "end_time": "2022-10-26T10:11:04.997538",
     "exception": false,
     "start_time": "2022-10-26T10:11:04.951682",
     "status": "completed"
    },
    "tags": []
   },
   "outputs": [
    {
     "data": {
      "text/plain": [
       "((11982, 784), (1984, 784))"
      ]
     },
     "execution_count": 14,
     "metadata": {},
     "output_type": "execute_result"
    }
   ],
   "source": [
    "X_train = X_train.reshape(X_train.shape[0], -1)\n",
    "X_test = X_test.reshape(X_test.shape[0], -1)\n",
    "X_train.shape, X_test.shape"
   ]
  },
  {
   "cell_type": "code",
   "execution_count": 15,
   "id": "73c5f88a",
   "metadata": {
    "execution": {
     "iopub.execute_input": "2022-10-26T10:11:05.066076Z",
     "iopub.status.busy": "2022-10-26T10:11:05.062607Z",
     "iopub.status.idle": "2022-10-26T10:11:05.079686Z",
     "shell.execute_reply": "2022-10-26T10:11:05.079147Z"
    },
    "papermill": {
     "duration": 0.055018,
     "end_time": "2022-10-26T10:11:05.079814",
     "exception": false,
     "start_time": "2022-10-26T10:11:05.024796",
     "status": "completed"
    },
    "tags": []
   },
   "outputs": [],
   "source": [
    "#Impoting functions from 'Kudzu'\n",
    "from kudzu.model import Model\n",
    "from kudzu.train import Learner\n",
    "from kudzu.optim import GD\n",
    "from kudzu.data import Data, Sampler,Dataloader\n",
    "\n",
    "from kudzu.callbacks import AccCallback\n",
    "from kudzu.callbacks import ClfCallback\n",
    "\n",
    "from kudzu.loss import MSE\n",
    "\n",
    "from kudzu.layer import Sigmoid,Relu\n",
    "from kudzu.layer import Affine"
   ]
  },
  {
   "cell_type": "markdown",
   "id": "bc01172a",
   "metadata": {
    "papermill": {
     "duration": 0.027169,
     "end_time": "2022-10-26T10:11:05.134207",
     "exception": false,
     "start_time": "2022-10-26T10:11:05.107038",
     "status": "completed"
    },
    "tags": []
   },
   "source": [
    "### Let us create a `Config` class, to store important parameters. \n",
    "This class essentially plays the role of a dictionary."
   ]
  },
  {
   "cell_type": "code",
   "execution_count": 16,
   "id": "978281aa",
   "metadata": {
    "execution": {
     "iopub.execute_input": "2022-10-26T10:11:05.193240Z",
     "iopub.status.busy": "2022-10-26T10:11:05.192607Z",
     "iopub.status.idle": "2022-10-26T10:11:05.206350Z",
     "shell.execute_reply": "2022-10-26T10:11:05.205873Z"
    },
    "papermill": {
     "duration": 0.04521,
     "end_time": "2022-10-26T10:11:05.206476",
     "exception": false,
     "start_time": "2022-10-26T10:11:05.161266",
     "status": "completed"
    },
    "tags": []
   },
   "outputs": [],
   "source": [
    "class Config:\n",
    "    pass\n",
    "config = Config()\n",
    "config.lr = 0.001\n",
    "config.num_epochs = 250\n",
    "config.bs = 50"
   ]
  },
  {
   "cell_type": "markdown",
   "id": "1385fa59",
   "metadata": {
    "papermill": {
     "duration": 0.026999,
     "end_time": "2022-10-26T10:11:05.260707",
     "exception": false,
     "start_time": "2022-10-26T10:11:05.233708",
     "status": "completed"
    },
    "tags": []
   },
   "source": [
    "### Running Models with the Training data\n",
    "Details about the network layers:\n",
    "- A first affine layer has 784 inputs and does 100 affine transforms. These are followed by a Relu\n",
    "- A second affine layer has 100 inputs from the 100 activations of the past layer, and does 100 affine transforms. These are followed by a Relu\n",
    "- A third affine layer has 100 activations and does 2 affine transformations to create an embedding for visualization. There is no non-linearity here.\n",
    "- A final \"logistic regression\" which has an affine transform from 2 inputs to 1 output, which is squeezed through a sigmoid.\n"
   ]
  },
  {
   "cell_type": "code",
   "execution_count": 17,
   "id": "2b9c66db",
   "metadata": {
    "execution": {
     "iopub.execute_input": "2022-10-26T10:11:05.319989Z",
     "iopub.status.busy": "2022-10-26T10:11:05.319315Z",
     "iopub.status.idle": "2022-10-26T10:11:05.333079Z",
     "shell.execute_reply": "2022-10-26T10:11:05.332558Z"
    },
    "papermill": {
     "duration": 0.045347,
     "end_time": "2022-10-26T10:11:05.333204",
     "exception": false,
     "start_time": "2022-10-26T10:11:05.287857",
     "status": "completed"
    },
    "tags": []
   },
   "outputs": [],
   "source": [
    "data = Data(X_train, y_train.reshape(-1,1))\n",
    "sampler = Sampler(data, config.bs, shuffle=True)\n",
    "\n",
    "dl = Dataloader(data, sampler)\n",
    "\n",
    "opt = GD(config.lr)\n",
    "loss = MSE()"
   ]
  },
  {
   "cell_type": "code",
   "execution_count": 18,
   "id": "b275e4c2",
   "metadata": {
    "execution": {
     "iopub.execute_input": "2022-10-26T10:11:05.392286Z",
     "iopub.status.busy": "2022-10-26T10:11:05.391643Z",
     "iopub.status.idle": "2022-10-26T10:11:05.404644Z",
     "shell.execute_reply": "2022-10-26T10:11:05.404148Z"
    },
    "papermill": {
     "duration": 0.044291,
     "end_time": "2022-10-26T10:11:05.404760",
     "exception": false,
     "start_time": "2022-10-26T10:11:05.360469",
     "status": "completed"
    },
    "tags": []
   },
   "outputs": [],
   "source": [
    "training_data_x = X_train\n",
    "testing_data_x = X_test\n",
    "training_data_y = y_train.reshape(-1,1)\n",
    "testing_data_y = y_test.reshape(-1,1)"
   ]
  },
  {
   "cell_type": "code",
   "execution_count": 19,
   "id": "76951160",
   "metadata": {
    "execution": {
     "iopub.execute_input": "2022-10-26T10:11:05.464859Z",
     "iopub.status.busy": "2022-10-26T10:11:05.464216Z",
     "iopub.status.idle": "2022-10-26T10:11:05.481212Z",
     "shell.execute_reply": "2022-10-26T10:11:05.480601Z"
    },
    "papermill": {
     "duration": 0.049524,
     "end_time": "2022-10-26T10:11:05.481332",
     "exception": false,
     "start_time": "2022-10-26T10:11:05.431808",
     "status": "completed"
    },
    "tags": []
   },
   "outputs": [
    {
     "name": "stdout",
     "output_type": "stream",
     "text": [
      "xavier\n",
      "xavier\n",
      "xavier\n",
      "xavier\n",
      "xavier\n"
     ]
    }
   ],
   "source": [
    "layers = [Affine(\"first\", 784, 100), Relu(\"first\"), Affine(\"second\", 100, 100), Relu(\"second\"), Affine(\"third\", 100, 2), Affine(\"last\", 2, 1), Sigmoid(\"last\")]\n",
    "model_nn = Model(layers)\n",
    "model_lr = Model([Affine(\"logits\", 784, 1), Sigmoid(\"sigmoid\")])"
   ]
  },
  {
   "cell_type": "code",
   "execution_count": 20,
   "id": "6eede77a",
   "metadata": {
    "execution": {
     "iopub.execute_input": "2022-10-26T10:11:05.541051Z",
     "iopub.status.busy": "2022-10-26T10:11:05.540443Z",
     "iopub.status.idle": "2022-10-26T10:11:05.554016Z",
     "shell.execute_reply": "2022-10-26T10:11:05.553516Z"
    },
    "papermill": {
     "duration": 0.045217,
     "end_time": "2022-10-26T10:11:05.554134",
     "exception": false,
     "start_time": "2022-10-26T10:11:05.508917",
     "status": "completed"
    },
    "tags": []
   },
   "outputs": [],
   "source": [
    "nn_learner = Learner(loss, model_nn, opt, config.num_epochs)\n",
    "acc_nn = ClfCallback(nn_learner, config.bs, training_data_x , testing_data_x, training_data_y, testing_data_y)\n",
    "nn_learner.set_callbacks([acc_nn])"
   ]
  },
  {
   "cell_type": "code",
   "execution_count": 21,
   "id": "877b6cc7",
   "metadata": {
    "execution": {
     "iopub.execute_input": "2022-10-26T10:11:05.613763Z",
     "iopub.status.busy": "2022-10-26T10:11:05.613170Z",
     "iopub.status.idle": "2022-10-26T10:11:05.626453Z",
     "shell.execute_reply": "2022-10-26T10:11:05.625970Z"
    },
    "papermill": {
     "duration": 0.044936,
     "end_time": "2022-10-26T10:11:05.626569",
     "exception": false,
     "start_time": "2022-10-26T10:11:05.581633",
     "status": "completed"
    },
    "tags": []
   },
   "outputs": [],
   "source": [
    "lr_learner = Learner(loss, model_lr, opt, config.num_epochs)\n",
    "acc_lr = ClfCallback(lr_learner, config.bs, training_data_x , testing_data_x, training_data_y, testing_data_y)\n",
    "lr_learner.set_callbacks([acc_lr])"
   ]
  },
  {
   "cell_type": "code",
   "execution_count": 22,
   "id": "d9b133c3",
   "metadata": {
    "execution": {
     "iopub.execute_input": "2022-10-26T10:11:05.692769Z",
     "iopub.status.busy": "2022-10-26T10:11:05.692130Z",
     "iopub.status.idle": "2022-10-26T10:12:26.583188Z",
     "shell.execute_reply": "2022-10-26T10:12:26.583802Z"
    },
    "papermill": {
     "duration": 80.929898,
     "end_time": "2022-10-26T10:12:26.583955",
     "exception": false,
     "start_time": "2022-10-26T10:11:05.654057",
     "status": "completed"
    },
    "tags": []
   },
   "outputs": [
    {
     "name": "stdout",
     "output_type": "stream",
     "text": [
      "Epoch 0, Loss 0.2191\n",
      "Training Accuracy: 0.7800, Testing Accuracy: 0.7989\n",
      "\n"
     ]
    },
    {
     "name": "stdout",
     "output_type": "stream",
     "text": [
      "Epoch 10, Loss 0.0675\n",
      "Training Accuracy: 0.9307, Testing Accuracy: 0.9405\n",
      "\n"
     ]
    },
    {
     "name": "stdout",
     "output_type": "stream",
     "text": [
      "Epoch 20, Loss 0.047\n",
      "Training Accuracy: 0.9496, Testing Accuracy: 0.9536\n",
      "\n"
     ]
    },
    {
     "name": "stdout",
     "output_type": "stream",
     "text": [
      "Epoch 30, Loss 0.0391\n",
      "Training Accuracy: 0.9570, Testing Accuracy: 0.9632\n",
      "\n"
     ]
    },
    {
     "name": "stdout",
     "output_type": "stream",
     "text": [
      "Epoch 40, Loss 0.0348\n",
      "Training Accuracy: 0.9600, Testing Accuracy: 0.9627\n",
      "\n"
     ]
    },
    {
     "name": "stdout",
     "output_type": "stream",
     "text": [
      "Epoch 50, Loss 0.032\n",
      "Training Accuracy: 0.9627, Testing Accuracy: 0.9647\n",
      "\n"
     ]
    },
    {
     "name": "stdout",
     "output_type": "stream",
     "text": [
      "Epoch 60, Loss 0.0299\n",
      "Training Accuracy: 0.9655, Testing Accuracy: 0.9652\n",
      "\n"
     ]
    },
    {
     "name": "stdout",
     "output_type": "stream",
     "text": [
      "Epoch 70, Loss 0.0283\n",
      "Training Accuracy: 0.9677, Testing Accuracy: 0.9667\n",
      "\n"
     ]
    },
    {
     "name": "stdout",
     "output_type": "stream",
     "text": [
      "Epoch 80, Loss 0.027\n",
      "Training Accuracy: 0.9690, Testing Accuracy: 0.9693\n",
      "\n"
     ]
    },
    {
     "name": "stdout",
     "output_type": "stream",
     "text": [
      "Epoch 90, Loss 0.0259\n",
      "Training Accuracy: 0.9704, Testing Accuracy: 0.9708\n",
      "\n"
     ]
    },
    {
     "name": "stdout",
     "output_type": "stream",
     "text": [
      "Epoch 100, Loss 0.0249\n",
      "Training Accuracy: 0.9715, Testing Accuracy: 0.9723\n",
      "\n"
     ]
    },
    {
     "name": "stdout",
     "output_type": "stream",
     "text": [
      "Epoch 110, Loss 0.024\n",
      "Training Accuracy: 0.9729, Testing Accuracy: 0.9728\n",
      "\n"
     ]
    },
    {
     "name": "stdout",
     "output_type": "stream",
     "text": [
      "Epoch 120, Loss 0.0232\n",
      "Training Accuracy: 0.9737, Testing Accuracy: 0.9728\n",
      "\n"
     ]
    },
    {
     "name": "stdout",
     "output_type": "stream",
     "text": [
      "Epoch 130, Loss 0.0225\n",
      "Training Accuracy: 0.9743, Testing Accuracy: 0.9723\n",
      "\n"
     ]
    },
    {
     "name": "stdout",
     "output_type": "stream",
     "text": [
      "Epoch 140, Loss 0.0219\n",
      "Training Accuracy: 0.9752, Testing Accuracy: 0.9728\n",
      "\n"
     ]
    },
    {
     "name": "stdout",
     "output_type": "stream",
     "text": [
      "Epoch 150, Loss 0.0213\n",
      "Training Accuracy: 0.9760, Testing Accuracy: 0.9733\n",
      "\n"
     ]
    },
    {
     "name": "stdout",
     "output_type": "stream",
     "text": [
      "Epoch 160, Loss 0.0207\n",
      "Training Accuracy: 0.9769, Testing Accuracy: 0.9733\n",
      "\n"
     ]
    },
    {
     "name": "stdout",
     "output_type": "stream",
     "text": [
      "Epoch 170, Loss 0.0202\n",
      "Training Accuracy: 0.9772, Testing Accuracy: 0.9738\n",
      "\n"
     ]
    },
    {
     "name": "stdout",
     "output_type": "stream",
     "text": [
      "Epoch 180, Loss 0.0197\n",
      "Training Accuracy: 0.9777, Testing Accuracy: 0.9743\n",
      "\n"
     ]
    },
    {
     "name": "stdout",
     "output_type": "stream",
     "text": [
      "Epoch 190, Loss 0.0192\n",
      "Training Accuracy: 0.9781, Testing Accuracy: 0.9743\n",
      "\n"
     ]
    },
    {
     "name": "stdout",
     "output_type": "stream",
     "text": [
      "Epoch 200, Loss 0.0187\n",
      "Training Accuracy: 0.9787, Testing Accuracy: 0.9748\n",
      "\n"
     ]
    },
    {
     "name": "stdout",
     "output_type": "stream",
     "text": [
      "Epoch 210, Loss 0.0183\n",
      "Training Accuracy: 0.9791, Testing Accuracy: 0.9748\n",
      "\n"
     ]
    },
    {
     "name": "stdout",
     "output_type": "stream",
     "text": [
      "Epoch 220, Loss 0.0178\n",
      "Training Accuracy: 0.9798, Testing Accuracy: 0.9748\n",
      "\n"
     ]
    },
    {
     "name": "stdout",
     "output_type": "stream",
     "text": [
      "Epoch 230, Loss 0.0174\n",
      "Training Accuracy: 0.9801, Testing Accuracy: 0.9768\n",
      "\n"
     ]
    },
    {
     "name": "stdout",
     "output_type": "stream",
     "text": [
      "Epoch 240, Loss 0.017\n",
      "Training Accuracy: 0.9811, Testing Accuracy: 0.9763\n",
      "\n"
     ]
    },
    {
     "data": {
      "text/plain": [
       "0.01077692218522922"
      ]
     },
     "execution_count": 22,
     "metadata": {},
     "output_type": "execute_result"
    }
   ],
   "source": [
    "nn_learner.train_loop(dl)"
   ]
  },
  {
   "cell_type": "code",
   "execution_count": 23,
   "id": "e0163366",
   "metadata": {
    "execution": {
     "iopub.execute_input": "2022-10-26T10:12:26.685037Z",
     "iopub.status.busy": "2022-10-26T10:12:26.684134Z",
     "iopub.status.idle": "2022-10-26T10:12:40.219650Z",
     "shell.execute_reply": "2022-10-26T10:12:40.220251Z"
    },
    "papermill": {
     "duration": 13.601056,
     "end_time": "2022-10-26T10:12:40.220392",
     "exception": false,
     "start_time": "2022-10-26T10:12:26.619336",
     "status": "completed"
    },
    "tags": []
   },
   "outputs": [
    {
     "name": "stdout",
     "output_type": "stream",
     "text": [
      "Epoch 0, Loss 0.2253\n",
      "Training Accuracy: 0.7402, Testing Accuracy: 0.7429\n",
      "\n"
     ]
    },
    {
     "name": "stdout",
     "output_type": "stream",
     "text": [
      "Epoch 10, Loss 0.1028\n",
      "Training Accuracy: 0.9059, Testing Accuracy: 0.9163\n",
      "\n"
     ]
    },
    {
     "name": "stdout",
     "output_type": "stream",
     "text": [
      "Epoch 20, Loss 0.0796\n",
      "Training Accuracy: 0.9264, Testing Accuracy: 0.9345\n",
      "\n"
     ]
    },
    {
     "name": "stdout",
     "output_type": "stream",
     "text": [
      "Epoch 30, Loss 0.0686\n",
      "Training Accuracy: 0.9347, Testing Accuracy: 0.9456\n",
      "\n"
     ]
    },
    {
     "name": "stdout",
     "output_type": "stream",
     "text": [
      "Epoch 40, Loss 0.0619\n",
      "Training Accuracy: 0.9390, Testing Accuracy: 0.9506\n",
      "\n"
     ]
    },
    {
     "name": "stdout",
     "output_type": "stream",
     "text": [
      "Epoch 50, Loss 0.0574\n",
      "Training Accuracy: 0.9424, Testing Accuracy: 0.9531\n",
      "\n"
     ]
    },
    {
     "name": "stdout",
     "output_type": "stream",
     "text": [
      "Epoch 60, Loss 0.054\n",
      "Training Accuracy: 0.9462, Testing Accuracy: 0.9577\n",
      "\n"
     ]
    },
    {
     "name": "stdout",
     "output_type": "stream",
     "text": [
      "Epoch 70, Loss 0.0514\n",
      "Training Accuracy: 0.9478, Testing Accuracy: 0.9602\n",
      "\n"
     ]
    },
    {
     "name": "stdout",
     "output_type": "stream",
     "text": [
      "Epoch 80, Loss 0.0493\n",
      "Training Accuracy: 0.9500, Testing Accuracy: 0.9612\n",
      "\n"
     ]
    },
    {
     "name": "stdout",
     "output_type": "stream",
     "text": [
      "Epoch 90, Loss 0.0476\n",
      "Training Accuracy: 0.9515, Testing Accuracy: 0.9622\n",
      "\n"
     ]
    },
    {
     "name": "stdout",
     "output_type": "stream",
     "text": [
      "Epoch 100, Loss 0.0462\n",
      "Training Accuracy: 0.9522, Testing Accuracy: 0.9622\n",
      "\n"
     ]
    },
    {
     "name": "stdout",
     "output_type": "stream",
     "text": [
      "Epoch 110, Loss 0.0449\n",
      "Training Accuracy: 0.9528, Testing Accuracy: 0.9627\n",
      "\n"
     ]
    },
    {
     "name": "stdout",
     "output_type": "stream",
     "text": [
      "Epoch 120, Loss 0.0439\n",
      "Training Accuracy: 0.9533, Testing Accuracy: 0.9642\n",
      "\n"
     ]
    },
    {
     "name": "stdout",
     "output_type": "stream",
     "text": [
      "Epoch 130, Loss 0.0429\n",
      "Training Accuracy: 0.9545, Testing Accuracy: 0.9652\n",
      "\n"
     ]
    },
    {
     "name": "stdout",
     "output_type": "stream",
     "text": [
      "Epoch 140, Loss 0.0421\n",
      "Training Accuracy: 0.9550, Testing Accuracy: 0.9652\n",
      "\n"
     ]
    },
    {
     "name": "stdout",
     "output_type": "stream",
     "text": [
      "Epoch 150, Loss 0.0413\n",
      "Training Accuracy: 0.9557, Testing Accuracy: 0.9652\n",
      "\n"
     ]
    },
    {
     "name": "stdout",
     "output_type": "stream",
     "text": [
      "Epoch 160, Loss 0.0406\n",
      "Training Accuracy: 0.9567, Testing Accuracy: 0.9657\n",
      "\n"
     ]
    },
    {
     "name": "stdout",
     "output_type": "stream",
     "text": [
      "Epoch 170, Loss 0.04\n",
      "Training Accuracy: 0.9574, Testing Accuracy: 0.9657\n",
      "\n"
     ]
    },
    {
     "name": "stdout",
     "output_type": "stream",
     "text": [
      "Epoch 180, Loss 0.0395\n",
      "Training Accuracy: 0.9578, Testing Accuracy: 0.9662\n",
      "\n"
     ]
    },
    {
     "name": "stdout",
     "output_type": "stream",
     "text": [
      "Epoch 190, Loss 0.0389\n",
      "Training Accuracy: 0.9582, Testing Accuracy: 0.9667\n",
      "\n"
     ]
    },
    {
     "name": "stdout",
     "output_type": "stream",
     "text": [
      "Epoch 200, Loss 0.0385\n",
      "Training Accuracy: 0.9591, Testing Accuracy: 0.9672\n",
      "\n"
     ]
    },
    {
     "name": "stdout",
     "output_type": "stream",
     "text": [
      "Epoch 210, Loss 0.038\n",
      "Training Accuracy: 0.9595, Testing Accuracy: 0.9677\n",
      "\n"
     ]
    },
    {
     "name": "stdout",
     "output_type": "stream",
     "text": [
      "Epoch 220, Loss 0.0376\n",
      "Training Accuracy: 0.9600, Testing Accuracy: 0.9677\n",
      "\n"
     ]
    },
    {
     "name": "stdout",
     "output_type": "stream",
     "text": [
      "Epoch 230, Loss 0.0372\n",
      "Training Accuracy: 0.9602, Testing Accuracy: 0.9677\n",
      "\n"
     ]
    },
    {
     "name": "stdout",
     "output_type": "stream",
     "text": [
      "Epoch 240, Loss 0.0368\n",
      "Training Accuracy: 0.9604, Testing Accuracy: 0.9677\n",
      "\n"
     ]
    },
    {
     "data": {
      "text/plain": [
       "0.014073224621006946"
      ]
     },
     "execution_count": 23,
     "metadata": {},
     "output_type": "execute_result"
    }
   ],
   "source": [
    "lr_learner.train_loop(dl)"
   ]
  },
  {
   "cell_type": "code",
   "execution_count": 24,
   "id": "ca410940",
   "metadata": {
    "execution": {
     "iopub.execute_input": "2022-10-26T10:12:40.313071Z",
     "iopub.status.busy": "2022-10-26T10:12:40.312411Z",
     "iopub.status.idle": "2022-10-26T10:12:40.538541Z",
     "shell.execute_reply": "2022-10-26T10:12:40.539367Z"
    },
    "papermill": {
     "duration": 0.278007,
     "end_time": "2022-10-26T10:12:40.539536",
     "exception": false,
     "start_time": "2022-10-26T10:12:40.261529",
     "status": "completed"
    },
    "tags": []
   },
   "outputs": [
    {
     "data": {
      "text/plain": [
       "<matplotlib.legend.Legend at 0x7f9d8713b2e8>"
      ]
     },
     "execution_count": 24,
     "metadata": {},
     "output_type": "execute_result"
    },
    {
     "data": {
      "image/png": "[encoded data removed]",
      "text/plain": [
       "<Figure size 1080x720 with 1 Axes>"
      ]
     },
     "metadata": {
      "needs_background": "light"
     },
     "output_type": "display_data"
    }
   ],
   "source": [
    "#comparing the results of NN and LR\n",
    "plt.figure(figsize=(15,10))\n",
    "\n",
    "# Neural Network plots\n",
    "plt.plot(acc_nn.accuracies, 'r-', label = \"Training Accuracies - NN\")\n",
    "plt.plot(acc_nn.test_accuracies, 'g-', label = \"Testing Accuracies - NN\")\n",
    "\n",
    "# Logistic Regression plots\n",
    "plt.plot(acc_lr.accuracies, 'k-', label = \"Training Accuracies - LR\")\n",
    "plt.plot(acc_lr.test_accuracies, 'b-', label = \"Testing Accuracies - LR\")\n",
    "plt.legend()"
   ]
  },
  {
   "cell_type": "markdown",
   "id": "80dfb35c",
   "metadata": {
    "papermill": {
     "duration": 0.042096,
     "end_time": "2022-10-26T10:12:40.623934",
     "exception": false,
     "start_time": "2022-10-26T10:12:40.581838",
     "status": "completed"
    },
    "tags": []
   },
   "source": [
    "#### Plotting the outputs of this layer of the NN.\n"
   ]
  },
  {
   "cell_type": "code",
   "execution_count": 25,
   "id": "45eb2ff5",
   "metadata": {
    "execution": {
     "iopub.execute_input": "2022-10-26T10:12:40.712464Z",
     "iopub.status.busy": "2022-10-26T10:12:40.711861Z",
     "iopub.status.idle": "2022-10-26T10:12:40.732405Z",
     "shell.execute_reply": "2022-10-26T10:12:40.733175Z"
    },
    "papermill": {
     "duration": 0.067341,
     "end_time": "2022-10-26T10:12:40.733321",
     "exception": false,
     "start_time": "2022-10-26T10:12:40.665980",
     "status": "completed"
    },
    "tags": []
   },
   "outputs": [],
   "source": [
    "new_model = Model(layers[:-2])\n",
    "testing_plot = new_model(testing_data_x)"
   ]
  },
  {
   "cell_type": "code",
   "execution_count": 26,
   "id": "4c0a5485",
   "metadata": {
    "execution": {
     "iopub.execute_input": "2022-10-26T10:12:40.831746Z",
     "iopub.status.busy": "2022-10-26T10:12:40.830558Z",
     "iopub.status.idle": "2022-10-26T10:12:41.026388Z",
     "shell.execute_reply": "2022-10-26T10:12:41.025906Z"
    },
    "papermill": {
     "duration": 0.250895,
     "end_time": "2022-10-26T10:12:41.026512",
     "exception": false,
     "start_time": "2022-10-26T10:12:40.775617",
     "status": "completed"
    },
    "tags": []
   },
   "outputs": [
    {
     "data": {
      "text/plain": [
       "Text(0.5, 1.0, 'Outputs')"
      ]
     },
     "execution_count": 26,
     "metadata": {},
     "output_type": "execute_result"
    },
    {
     "data": {
      "image/png": "[encoded data removed]",
      "text/plain": [
       "<Figure size 576x504 with 1 Axes>"
      ]
     },
     "metadata": {
      "needs_background": "light"
     },
     "output_type": "display_data"
    }
   ],
   "source": [
    "# Plotting the scatter plot of points and color coding by class\n",
    "plt.figure(figsize=(8,7))\n",
    "plt.scatter(testing_plot[:,0], testing_plot[:,1], alpha = 0.1, c = y_test.ravel());\n",
    "plt.title('Outputs')"
   ]
  },
  {
   "cell_type": "markdown",
   "id": "a74fcf8f",
   "metadata": {
    "papermill": {
     "duration": 0.044419,
     "end_time": "2022-10-26T10:12:41.115712",
     "exception": false,
     "start_time": "2022-10-26T10:12:41.071293",
     "status": "completed"
    },
    "tags": []
   },
   "source": [
    "Probability contours"
   ]
  },
  {
   "cell_type": "code",
   "execution_count": 27,
   "id": "d0afc8e3",
   "metadata": {
    "execution": {
     "iopub.execute_input": "2022-10-26T10:12:41.244554Z",
     "iopub.status.busy": "2022-10-26T10:12:41.239430Z",
     "iopub.status.idle": "2022-10-26T10:12:41.252044Z",
     "shell.execute_reply": "2022-10-26T10:12:41.251528Z"
    },
    "papermill": {
     "duration": 0.091806,
     "end_time": "2022-10-26T10:12:41.252163",
     "exception": false,
     "start_time": "2022-10-26T10:12:41.160357",
     "status": "completed"
    },
    "tags": []
   },
   "outputs": [],
   "source": [
    "model_prob = Model(layers[-2:]) "
   ]
  },
  {
   "cell_type": "code",
   "execution_count": 28,
   "id": "9b96e238",
   "metadata": {
    "execution": {
     "iopub.execute_input": "2022-10-26T10:12:41.347003Z",
     "iopub.status.busy": "2022-10-26T10:12:41.346395Z",
     "iopub.status.idle": "2022-10-26T10:12:41.360296Z",
     "shell.execute_reply": "2022-10-26T10:12:41.360748Z"
    },
    "papermill": {
     "duration": 0.063772,
     "end_time": "2022-10-26T10:12:41.360894",
     "exception": false,
     "start_time": "2022-10-26T10:12:41.297122",
     "status": "completed"
    },
    "tags": []
   },
   "outputs": [],
   "source": [
    "#creating the x and y ranges according to the above generated plot.\n",
    "x_range = np.linspace(-4, 1, 100) \n",
    "y_range = np.linspace(-6, 6, 100) \n",
    "x_grid, y_grid = np.meshgrid(x_range, y_range) # x_grid and y_grig are of size 100 X 100\n",
    "\n",
    "# converting x_grid and y_grid to continuous arrays\n",
    "x_gridflat = np.ravel(x_grid)\n",
    "y_gridflat = np.ravel(y_grid)\n",
    "\n",
    "# The last layer of the current model takes two columns as input. Hence transpose of np.vstack() is required.\n",
    "X = np.vstack((x_gridflat, y_gridflat)).T\n",
    "\n",
    "prob_contour = model_prob(X).reshape(100,100) "
   ]
  },
  {
   "cell_type": "code",
   "execution_count": 29,
   "id": "da72499a",
   "metadata": {
    "execution": {
     "iopub.execute_input": "2022-10-26T10:12:41.461596Z",
     "iopub.status.busy": "2022-10-26T10:12:41.460976Z",
     "iopub.status.idle": "2022-10-26T10:12:41.706733Z",
     "shell.execute_reply": "2022-10-26T10:12:41.706237Z"
    },
    "papermill": {
     "duration": 0.30059,
     "end_time": "2022-10-26T10:12:41.706854",
     "exception": false,
     "start_time": "2022-10-26T10:12:41.406264",
     "status": "completed"
    },
    "tags": []
   },
   "outputs": [
    {
     "data": {
      "image/png": "[encoded data removed]",
      "text/plain": [
       "<Figure size 720x648 with 1 Axes>"
      ]
     },
     "metadata": {
      "needs_background": "light"
     },
     "output_type": "display_data"
    }
   ],
   "source": [
    "plt.figure(figsize=(10,9))\n",
    "plt.scatter(testing_plot[:,0], testing_plot[:,1], alpha = 0.1, c = y_test.ravel())\n",
    "contours = plt.contour(x_grid,y_grid,prob_contour)\n",
    "plt.title('Probability Contours')\n",
    "plt.clabel(contours, inline = True );"
   ]
  },
  {
   "cell_type": "code",
   "execution_count": null,
   "id": "e81b4ac7",
   "metadata": {
    "papermill": {
     "duration": 0.047532,
     "end_time": "2022-10-26T10:12:41.803140",
     "exception": false,
     "start_time": "2022-10-26T10:12:41.755608",
     "status": "completed"
    },
    "tags": []
   },
   "outputs": [],
   "source": []
  }
 ],
 "metadata": {
  "kernelspec": {
   "display_name": "Python 3",
   "language": "python",
   "name": "python3"
  },
  "language_info": {
   "codemirror_mode": {
    "name": "ipython",
    "version": 3
   },
   "file_extension": ".py",
   "mimetype": "text/x-python",
   "name": "python",
   "nbconvert_exporter": "python",
   "pygments_lexer": "ipython3",
   "version": "3.6.15"
  },
  "papermill": {
   "default_parameters": {},
   "duration": 103.794706,
   "end_time": "2022-10-26T10:12:42.271231",
   "environment_variables": {},
   "exception": null,
   "input_path": "2020-08-11-part2.ipynb",
   "output_path": "2020-08-11-part2.ipynb",
   "parameters": {},
   "start_time": "2022-10-26T10:10:58.476525",
   "version": "2.3.3"
  }
 },
 "nbformat": 4,
 "nbformat_minor": 5
}