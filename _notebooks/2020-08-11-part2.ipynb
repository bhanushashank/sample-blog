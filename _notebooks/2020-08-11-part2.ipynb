{
 "cells": [
  {
   "cell_type": "markdown",
   "id": "98380cd3",
   "metadata": {
    "papermill": {
     "duration": 0.028719,
     "end_time": "2022-02-15T20:08:04.885766",
     "exception": false,
     "start_time": "2022-02-15T20:08:04.857047",
     "status": "completed"
    },
    "tags": []
   },
   "source": [
    "# Distinguish Your Own Digits (DYOD)"
   ]
  },
  {
   "cell_type": "markdown",
   "id": "ef31240d",
   "metadata": {
    "papermill": {
     "duration": 0.025286,
     "end_time": "2022-02-15T20:08:04.935562",
     "exception": false,
     "start_time": "2022-02-15T20:08:04.910276",
     "status": "completed"
    },
    "tags": []
   },
   "source": [
    "You are going to write a classifier that distinguishes between the number 3 and number 8."
   ]
  },
  {
   "cell_type": "code",
   "execution_count": 1,
   "id": "b15c8646",
   "metadata": {
    "execution": {
     "iopub.execute_input": "2022-02-15T20:08:04.993197Z",
     "iopub.status.busy": "2022-02-15T20:08:04.992668Z",
     "iopub.status.idle": "2022-02-15T20:08:05.003211Z",
     "shell.execute_reply": "2022-02-15T20:08:05.002782Z"
    },
    "papermill": {
     "duration": 0.044013,
     "end_time": "2022-02-15T20:08:05.003335",
     "exception": false,
     "start_time": "2022-02-15T20:08:04.959322",
     "status": "completed"
    },
    "tags": []
   },
   "outputs": [],
   "source": [
    "%load_ext autoreload\n",
    "%autoreload 2"
   ]
  },
  {
   "cell_type": "code",
   "execution_count": 2,
   "id": "22ef38dc",
   "metadata": {
    "execution": {
     "iopub.execute_input": "2022-02-15T20:08:05.054701Z",
     "iopub.status.busy": "2022-02-15T20:08:05.054134Z",
     "iopub.status.idle": "2022-02-15T20:08:05.632829Z",
     "shell.execute_reply": "2022-02-15T20:08:05.633342Z"
    },
    "papermill": {
     "duration": 0.606323,
     "end_time": "2022-02-15T20:08:05.633515",
     "exception": false,
     "start_time": "2022-02-15T20:08:05.027192",
     "status": "completed"
    },
    "tags": []
   },
   "outputs": [],
   "source": [
    "%matplotlib inline\n",
    "import numpy as np\n",
    "import matplotlib.pyplot as plt\n",
    "import pandas as pd"
   ]
  },
  {
   "cell_type": "markdown",
   "id": "ba036198",
   "metadata": {
    "papermill": {
     "duration": 0.023859,
     "end_time": "2022-02-15T20:08:05.681749",
     "exception": false,
     "start_time": "2022-02-15T20:08:05.657890",
     "status": "completed"
    },
    "tags": []
   },
   "source": [
    "From the command line run `pip install mnist`. This is a library that will help you bring down the mnist dataset. If you run this from a notebook, you need to put  `!pip install mnist` in a cell by itself."
   ]
  },
  {
   "cell_type": "code",
   "execution_count": 3,
   "id": "bb6ad8a1",
   "metadata": {
    "execution": {
     "iopub.execute_input": "2022-02-15T20:08:05.750973Z",
     "iopub.status.busy": "2022-02-15T20:08:05.743042Z",
     "iopub.status.idle": "2022-02-15T20:08:08.544017Z",
     "shell.execute_reply": "2022-02-15T20:08:08.543469Z"
    },
    "papermill": {
     "duration": 2.83852,
     "end_time": "2022-02-15T20:08:08.544158",
     "exception": false,
     "start_time": "2022-02-15T20:08:05.705638",
     "status": "completed"
    },
    "tags": []
   },
   "outputs": [
    {
     "name": "stdout",
     "output_type": "stream",
     "text": [
      "Collecting mnist\r\n"
     ]
    },
    {
     "name": "stdout",
     "output_type": "stream",
     "text": [
      "  Downloading mnist-0.2.2-py2.py3-none-any.whl (3.5 kB)\r\n",
      "Requirement already satisfied: numpy in /opt/hostedtoolcache/Python/3.6.15/x64/lib/python3.6/site-packages (from mnist) (1.19.5)\r\n"
     ]
    },
    {
     "name": "stdout",
     "output_type": "stream",
     "text": [
      "Installing collected packages: mnist\r\n",
      "Successfully installed mnist-0.2.2\r\n"
     ]
    }
   ],
   "source": [
    "!pip install mnist"
   ]
  },
  {
   "cell_type": "markdown",
   "id": "69df9c9a",
   "metadata": {
    "papermill": {
     "duration": 0.024835,
     "end_time": "2022-02-15T20:08:08.594572",
     "exception": false,
     "start_time": "2022-02-15T20:08:08.569737",
     "status": "completed"
    },
    "tags": []
   },
   "source": [
    "## Preparing the Data"
   ]
  },
  {
   "cell_type": "code",
   "execution_count": 4,
   "id": "7f69d806",
   "metadata": {
    "execution": {
     "iopub.execute_input": "2022-02-15T20:08:08.663889Z",
     "iopub.status.busy": "2022-02-15T20:08:08.663334Z",
     "iopub.status.idle": "2022-02-15T20:08:08.669343Z",
     "shell.execute_reply": "2022-02-15T20:08:08.668883Z"
    },
    "papermill": {
     "duration": 0.050345,
     "end_time": "2022-02-15T20:08:08.669451",
     "exception": false,
     "start_time": "2022-02-15T20:08:08.619106",
     "status": "completed"
    },
    "tags": []
   },
   "outputs": [],
   "source": [
    "import mnist"
   ]
  },
  {
   "cell_type": "code",
   "execution_count": 5,
   "id": "a411e44f",
   "metadata": {
    "execution": {
     "iopub.execute_input": "2022-02-15T20:08:08.735639Z",
     "iopub.status.busy": "2022-02-15T20:08:08.735117Z",
     "iopub.status.idle": "2022-02-15T20:08:09.315956Z",
     "shell.execute_reply": "2022-02-15T20:08:09.315391Z"
    },
    "papermill": {
     "duration": 0.621845,
     "end_time": "2022-02-15T20:08:09.316101",
     "exception": false,
     "start_time": "2022-02-15T20:08:08.694256",
     "status": "completed"
    },
    "tags": []
   },
   "outputs": [],
   "source": [
    "train_images = mnist.train_images()\n",
    "train_labels = mnist.train_labels()"
   ]
  },
  {
   "cell_type": "code",
   "execution_count": 6,
   "id": "dceab3a5",
   "metadata": {
    "execution": {
     "iopub.execute_input": "2022-02-15T20:08:09.379851Z",
     "iopub.status.busy": "2022-02-15T20:08:09.379322Z",
     "iopub.status.idle": "2022-02-15T20:08:09.388279Z",
     "shell.execute_reply": "2022-02-15T20:08:09.388690Z"
    },
    "papermill": {
     "duration": 0.047175,
     "end_time": "2022-02-15T20:08:09.388817",
     "exception": false,
     "start_time": "2022-02-15T20:08:09.341642",
     "status": "completed"
    },
    "tags": []
   },
   "outputs": [
    {
     "data": {
      "text/plain": [
       "((60000, 28, 28), (60000,))"
      ]
     },
     "execution_count": 6,
     "metadata": {},
     "output_type": "execute_result"
    }
   ],
   "source": [
    "train_images.shape, train_labels.shape"
   ]
  },
  {
   "cell_type": "code",
   "execution_count": 7,
   "id": "f50dc2bb",
   "metadata": {
    "execution": {
     "iopub.execute_input": "2022-02-15T20:08:09.446477Z",
     "iopub.status.busy": "2022-02-15T20:08:09.441118Z",
     "iopub.status.idle": "2022-02-15T20:08:09.641213Z",
     "shell.execute_reply": "2022-02-15T20:08:09.640603Z"
    },
    "papermill": {
     "duration": 0.22769,
     "end_time": "2022-02-15T20:08:09.641370",
     "exception": false,
     "start_time": "2022-02-15T20:08:09.413680",
     "status": "completed"
    },
    "tags": []
   },
   "outputs": [],
   "source": [
    "test_images = mnist.test_images()\n",
    "test_labels = mnist.test_labels()"
   ]
  },
  {
   "cell_type": "code",
   "execution_count": 8,
   "id": "fc38cf1b",
   "metadata": {
    "execution": {
     "iopub.execute_input": "2022-02-15T20:08:09.698918Z",
     "iopub.status.busy": "2022-02-15T20:08:09.698364Z",
     "iopub.status.idle": "2022-02-15T20:08:09.710757Z",
     "shell.execute_reply": "2022-02-15T20:08:09.710334Z"
    },
    "papermill": {
     "duration": 0.043603,
     "end_time": "2022-02-15T20:08:09.710867",
     "exception": false,
     "start_time": "2022-02-15T20:08:09.667264",
     "status": "completed"
    },
    "tags": []
   },
   "outputs": [
    {
     "data": {
      "text/plain": [
       "((10000, 28, 28), (10000,))"
      ]
     },
     "execution_count": 8,
     "metadata": {},
     "output_type": "execute_result"
    }
   ],
   "source": [
    "test_images.shape, test_labels.shape"
   ]
  },
  {
   "cell_type": "code",
   "execution_count": 9,
   "id": "f9ed8fe0",
   "metadata": {
    "execution": {
     "iopub.execute_input": "2022-02-15T20:08:09.764914Z",
     "iopub.status.busy": "2022-02-15T20:08:09.764403Z",
     "iopub.status.idle": "2022-02-15T20:08:09.899926Z",
     "shell.execute_reply": "2022-02-15T20:08:09.900350Z"
    },
    "papermill": {
     "duration": 0.164387,
     "end_time": "2022-02-15T20:08:09.900489",
     "exception": false,
     "start_time": "2022-02-15T20:08:09.736102",
     "status": "completed"
    },
    "tags": []
   },
   "outputs": [
    {
     "name": "stdout",
     "output_type": "stream",
     "text": [
      "2\n"
     ]
    },
    {
     "data": {
      "text/plain": [
       "<matplotlib.image.AxesImage at 0x7f6a69160550>"
      ]
     },
     "execution_count": 9,
     "metadata": {},
     "output_type": "execute_result"
    },
    {
     "data": {
      "image/png": "[encoded data removed]",
      "text/plain": [
       "<Figure size 432x288 with 1 Axes>"
      ]
     },
     "metadata": {
      "needs_background": "light"
     },
     "output_type": "display_data"
    }
   ],
   "source": [
    "image_index = 7776 # You may select anything up to 60,000\n",
    "print(train_labels[image_index]) \n",
    "plt.imshow(train_images[image_index], cmap='Greys')"
   ]
  },
  {
   "cell_type": "markdown",
   "id": "a8d2388d",
   "metadata": {
    "papermill": {
     "duration": 0.0266,
     "end_time": "2022-02-15T20:08:09.953676",
     "exception": false,
     "start_time": "2022-02-15T20:08:09.927076",
     "status": "completed"
    },
    "tags": []
   },
   "source": [
    "## Filter data to get 3 and 8 out"
   ]
  },
  {
   "cell_type": "code",
   "execution_count": 10,
   "id": "776f7fc7",
   "metadata": {
    "execution": {
     "iopub.execute_input": "2022-02-15T20:08:10.011546Z",
     "iopub.status.busy": "2022-02-15T20:08:10.011015Z",
     "iopub.status.idle": "2022-02-15T20:08:10.028629Z",
     "shell.execute_reply": "2022-02-15T20:08:10.029021Z"
    },
    "papermill": {
     "duration": 0.048379,
     "end_time": "2022-02-15T20:08:10.029157",
     "exception": false,
     "start_time": "2022-02-15T20:08:09.980778",
     "status": "completed"
    },
    "tags": []
   },
   "outputs": [],
   "source": [
    "train_filter = np.where((train_labels == 3 ) | (train_labels == 8))\n",
    "test_filter = np.where((test_labels == 3) | (test_labels == 8))\n",
    "X_train, y_train = train_images[train_filter], train_labels[train_filter]\n",
    "X_test, y_test = test_images[test_filter], test_labels[test_filter]"
   ]
  },
  {
   "cell_type": "markdown",
   "id": "948f0b7e",
   "metadata": {
    "papermill": {
     "duration": 0.026261,
     "end_time": "2022-02-15T20:08:10.081762",
     "exception": false,
     "start_time": "2022-02-15T20:08:10.055501",
     "status": "completed"
    },
    "tags": []
   },
   "source": [
    "We normalize the pizel values in the 0 to 1 range"
   ]
  },
  {
   "cell_type": "code",
   "execution_count": 11,
   "id": "ee4c2166",
   "metadata": {
    "execution": {
     "iopub.execute_input": "2022-02-15T20:08:10.139508Z",
     "iopub.status.busy": "2022-02-15T20:08:10.138988Z",
     "iopub.status.idle": "2022-02-15T20:08:10.187700Z",
     "shell.execute_reply": "2022-02-15T20:08:10.187148Z"
    },
    "papermill": {
     "duration": 0.079864,
     "end_time": "2022-02-15T20:08:10.187843",
     "exception": false,
     "start_time": "2022-02-15T20:08:10.107979",
     "status": "completed"
    },
    "tags": []
   },
   "outputs": [],
   "source": [
    "X_train = X_train/255.\n",
    "X_test = X_test/255."
   ]
  },
  {
   "cell_type": "markdown",
   "id": "ddcf4fab",
   "metadata": {
    "papermill": {
     "duration": 0.026378,
     "end_time": "2022-02-15T20:08:10.242034",
     "exception": false,
     "start_time": "2022-02-15T20:08:10.215656",
     "status": "completed"
    },
    "tags": []
   },
   "source": [
    "And setup the labels as 1 (when the digit is 3) and 0 (when the digit is 8)"
   ]
  },
  {
   "cell_type": "code",
   "execution_count": 12,
   "id": "7dc908f2",
   "metadata": {
    "execution": {
     "iopub.execute_input": "2022-02-15T20:08:10.311460Z",
     "iopub.status.busy": "2022-02-15T20:08:10.307008Z",
     "iopub.status.idle": "2022-02-15T20:08:10.315524Z",
     "shell.execute_reply": "2022-02-15T20:08:10.315075Z"
    },
    "papermill": {
     "duration": 0.04731,
     "end_time": "2022-02-15T20:08:10.315632",
     "exception": false,
     "start_time": "2022-02-15T20:08:10.268322",
     "status": "completed"
    },
    "tags": []
   },
   "outputs": [],
   "source": [
    "y_train = 1*(y_train==3)\n",
    "y_test = 1*(y_test==3)"
   ]
  },
  {
   "cell_type": "code",
   "execution_count": 13,
   "id": "01e4e969",
   "metadata": {
    "execution": {
     "iopub.execute_input": "2022-02-15T20:08:10.380080Z",
     "iopub.status.busy": "2022-02-15T20:08:10.370828Z",
     "iopub.status.idle": "2022-02-15T20:08:10.389013Z",
     "shell.execute_reply": "2022-02-15T20:08:10.388600Z"
    },
    "papermill": {
     "duration": 0.047239,
     "end_time": "2022-02-15T20:08:10.389120",
     "exception": false,
     "start_time": "2022-02-15T20:08:10.341881",
     "status": "completed"
    },
    "tags": []
   },
   "outputs": [
    {
     "data": {
      "text/plain": [
       "((11982, 28, 28), (1984, 28, 28))"
      ]
     },
     "execution_count": 13,
     "metadata": {},
     "output_type": "execute_result"
    }
   ],
   "source": [
    "X_train.shape, X_test.shape"
   ]
  },
  {
   "cell_type": "markdown",
   "id": "5ccf3f85",
   "metadata": {
    "papermill": {
     "duration": 0.026714,
     "end_time": "2022-02-15T20:08:10.442165",
     "exception": false,
     "start_time": "2022-02-15T20:08:10.415451",
     "status": "completed"
    },
    "tags": []
   },
   "source": [
    "We reshape the data to flatten the image pixels into a set of features or co-variates:"
   ]
  },
  {
   "cell_type": "code",
   "execution_count": 14,
   "id": "5286a4a3",
   "metadata": {
    "execution": {
     "iopub.execute_input": "2022-02-15T20:08:10.503464Z",
     "iopub.status.busy": "2022-02-15T20:08:10.502331Z",
     "iopub.status.idle": "2022-02-15T20:08:10.514022Z",
     "shell.execute_reply": "2022-02-15T20:08:10.513580Z"
    },
    "papermill": {
     "duration": 0.045321,
     "end_time": "2022-02-15T20:08:10.514131",
     "exception": false,
     "start_time": "2022-02-15T20:08:10.468810",
     "status": "completed"
    },
    "tags": []
   },
   "outputs": [
    {
     "data": {
      "text/plain": [
       "((11982, 784), (1984, 784))"
      ]
     },
     "execution_count": 14,
     "metadata": {},
     "output_type": "execute_result"
    }
   ],
   "source": [
    "X_train = X_train.reshape(X_train.shape[0], -1)\n",
    "X_test = X_test.reshape(X_test.shape[0], -1)\n",
    "X_train.shape, X_test.shape"
   ]
  },
  {
   "cell_type": "code",
   "execution_count": 15,
   "id": "73c5f88a",
   "metadata": {
    "execution": {
     "iopub.execute_input": "2022-02-15T20:08:10.575329Z",
     "iopub.status.busy": "2022-02-15T20:08:10.572134Z",
     "iopub.status.idle": "2022-02-15T20:08:10.591367Z",
     "shell.execute_reply": "2022-02-15T20:08:10.591807Z"
    },
    "papermill": {
     "duration": 0.051058,
     "end_time": "2022-02-15T20:08:10.591949",
     "exception": false,
     "start_time": "2022-02-15T20:08:10.540891",
     "status": "completed"
    },
    "tags": []
   },
   "outputs": [],
   "source": [
    "#Impoting functions from 'Kudzu'\n",
    "from kudzu.model import Model\n",
    "from kudzu.train import Learner\n",
    "from kudzu.optim import GD\n",
    "from kudzu.data import Data, Sampler,Dataloader\n",
    "\n",
    "from kudzu.callbacks import AccCallback\n",
    "from kudzu.callbacks import ClfCallback\n",
    "\n",
    "from kudzu.loss import MSE\n",
    "\n",
    "from kudzu.layer import Sigmoid,Relu\n",
    "from kudzu.layer import Affine"
   ]
  },
  {
   "cell_type": "markdown",
   "id": "bc01172a",
   "metadata": {
    "papermill": {
     "duration": 0.026621,
     "end_time": "2022-02-15T20:08:10.646474",
     "exception": false,
     "start_time": "2022-02-15T20:08:10.619853",
     "status": "completed"
    },
    "tags": []
   },
   "source": [
    "### Let us create a `Config` class, to store important parameters. \n",
    "This class essentially plays the role of a dictionary."
   ]
  },
  {
   "cell_type": "code",
   "execution_count": 16,
   "id": "978281aa",
   "metadata": {
    "execution": {
     "iopub.execute_input": "2022-02-15T20:08:10.705312Z",
     "iopub.status.busy": "2022-02-15T20:08:10.703852Z",
     "iopub.status.idle": "2022-02-15T20:08:10.715979Z",
     "shell.execute_reply": "2022-02-15T20:08:10.716553Z"
    },
    "papermill": {
     "duration": 0.043617,
     "end_time": "2022-02-15T20:08:10.716712",
     "exception": false,
     "start_time": "2022-02-15T20:08:10.673095",
     "status": "completed"
    },
    "tags": []
   },
   "outputs": [],
   "source": [
    "class Config:\n",
    "    pass\n",
    "config = Config()\n",
    "config.lr = 0.001\n",
    "config.num_epochs = 250\n",
    "config.bs = 50"
   ]
  },
  {
   "cell_type": "markdown",
   "id": "1385fa59",
   "metadata": {
    "papermill": {
     "duration": 0.028948,
     "end_time": "2022-02-15T20:08:10.775583",
     "exception": false,
     "start_time": "2022-02-15T20:08:10.746635",
     "status": "completed"
    },
    "tags": []
   },
   "source": [
    "### Running Models with the Training data\n",
    "Details about the network layers:\n",
    "- A first affine layer has 784 inputs and does 100 affine transforms. These are followed by a Relu\n",
    "- A second affine layer has 100 inputs from the 100 activations of the past layer, and does 100 affine transforms. These are followed by a Relu\n",
    "- A third affine layer has 100 activations and does 2 affine transformations to create an embedding for visualization. There is no non-linearity here.\n",
    "- A final \"logistic regression\" which has an affine transform from 2 inputs to 1 output, which is squeezed through a sigmoid.\n"
   ]
  },
  {
   "cell_type": "code",
   "execution_count": 17,
   "id": "2b9c66db",
   "metadata": {
    "execution": {
     "iopub.execute_input": "2022-02-15T20:08:10.835996Z",
     "iopub.status.busy": "2022-02-15T20:08:10.835454Z",
     "iopub.status.idle": "2022-02-15T20:08:10.847497Z",
     "shell.execute_reply": "2022-02-15T20:08:10.847079Z"
    },
    "papermill": {
     "duration": 0.043498,
     "end_time": "2022-02-15T20:08:10.847605",
     "exception": false,
     "start_time": "2022-02-15T20:08:10.804107",
     "status": "completed"
    },
    "tags": []
   },
   "outputs": [],
   "source": [
    "data = Data(X_train, y_train.reshape(-1,1))\n",
    "sampler = Sampler(data, config.bs, shuffle=True)\n",
    "\n",
    "dl = Dataloader(data, sampler)\n",
    "\n",
    "opt = GD(config.lr)\n",
    "loss = MSE()"
   ]
  },
  {
   "cell_type": "code",
   "execution_count": 18,
   "id": "b275e4c2",
   "metadata": {
    "execution": {
     "iopub.execute_input": "2022-02-15T20:08:10.912729Z",
     "iopub.status.busy": "2022-02-15T20:08:10.908445Z",
     "iopub.status.idle": "2022-02-15T20:08:10.919631Z",
     "shell.execute_reply": "2022-02-15T20:08:10.919214Z"
    },
    "papermill": {
     "duration": 0.045261,
     "end_time": "2022-02-15T20:08:10.919740",
     "exception": false,
     "start_time": "2022-02-15T20:08:10.874479",
     "status": "completed"
    },
    "tags": []
   },
   "outputs": [],
   "source": [
    "training_data_x = X_train\n",
    "testing_data_x = X_test\n",
    "training_data_y = y_train.reshape(-1,1)\n",
    "testing_data_y = y_test.reshape(-1,1)"
   ]
  },
  {
   "cell_type": "code",
   "execution_count": 19,
   "id": "76951160",
   "metadata": {
    "execution": {
     "iopub.execute_input": "2022-02-15T20:08:10.979484Z",
     "iopub.status.busy": "2022-02-15T20:08:10.978207Z",
     "iopub.status.idle": "2022-02-15T20:08:10.993522Z",
     "shell.execute_reply": "2022-02-15T20:08:10.993911Z"
    },
    "papermill": {
     "duration": 0.047548,
     "end_time": "2022-02-15T20:08:10.994034",
     "exception": false,
     "start_time": "2022-02-15T20:08:10.946486",
     "status": "completed"
    },
    "tags": []
   },
   "outputs": [
    {
     "name": "stdout",
     "output_type": "stream",
     "text": [
      "xavier\n",
      "xavier\n",
      "xavier\n",
      "xavier\n",
      "xavier\n"
     ]
    }
   ],
   "source": [
    "layers = [Affine(\"first\", 784, 100), Relu(\"first\"), Affine(\"second\", 100, 100), Relu(\"second\"), Affine(\"third\", 100, 2), Affine(\"last\", 2, 1), Sigmoid(\"last\")]\n",
    "model_nn = Model(layers)\n",
    "model_lr = Model([Affine(\"logits\", 784, 1), Sigmoid(\"sigmoid\")])"
   ]
  },
  {
   "cell_type": "code",
   "execution_count": 20,
   "id": "6eede77a",
   "metadata": {
    "execution": {
     "iopub.execute_input": "2022-02-15T20:08:11.051596Z",
     "iopub.status.busy": "2022-02-15T20:08:11.051080Z",
     "iopub.status.idle": "2022-02-15T20:08:11.063211Z",
     "shell.execute_reply": "2022-02-15T20:08:11.063597Z"
    },
    "papermill": {
     "duration": 0.042584,
     "end_time": "2022-02-15T20:08:11.063715",
     "exception": false,
     "start_time": "2022-02-15T20:08:11.021131",
     "status": "completed"
    },
    "tags": []
   },
   "outputs": [],
   "source": [
    "nn_learner = Learner(loss, model_nn, opt, config.num_epochs)\n",
    "acc_nn = ClfCallback(nn_learner, config.bs, training_data_x , testing_data_x, training_data_y, testing_data_y)\n",
    "nn_learner.set_callbacks([acc_nn])"
   ]
  },
  {
   "cell_type": "code",
   "execution_count": 21,
   "id": "877b6cc7",
   "metadata": {
    "execution": {
     "iopub.execute_input": "2022-02-15T20:08:11.129760Z",
     "iopub.status.busy": "2022-02-15T20:08:11.129223Z",
     "iopub.status.idle": "2022-02-15T20:08:11.138215Z",
     "shell.execute_reply": "2022-02-15T20:08:11.137535Z"
    },
    "papermill": {
     "duration": 0.04747,
     "end_time": "2022-02-15T20:08:11.138352",
     "exception": false,
     "start_time": "2022-02-15T20:08:11.090882",
     "status": "completed"
    },
    "tags": []
   },
   "outputs": [],
   "source": [
    "lr_learner = Learner(loss, model_lr, opt, config.num_epochs)\n",
    "acc_lr = ClfCallback(lr_learner, config.bs, training_data_x , testing_data_x, training_data_y, testing_data_y)\n",
    "lr_learner.set_callbacks([acc_lr])"
   ]
  },
  {
   "cell_type": "code",
   "execution_count": 22,
   "id": "d9b133c3",
   "metadata": {
    "execution": {
     "iopub.execute_input": "2022-02-15T20:08:11.196955Z",
     "iopub.status.busy": "2022-02-15T20:08:11.196445Z",
     "iopub.status.idle": "2022-02-15T20:09:27.868257Z",
     "shell.execute_reply": "2022-02-15T20:09:27.869077Z"
    },
    "papermill": {
     "duration": 76.70377,
     "end_time": "2022-02-15T20:09:27.869244",
     "exception": false,
     "start_time": "2022-02-15T20:08:11.165474",
     "status": "completed"
    },
    "tags": []
   },
   "outputs": [
    {
     "name": "stdout",
     "output_type": "stream",
     "text": [
      "Epoch 0, Loss 0.2234\n",
      "Training Accuracy: 0.7934, Testing Accuracy: 0.8165\n",
      "\n"
     ]
    },
    {
     "name": "stdout",
     "output_type": "stream",
     "text": [
      "Epoch 10, Loss 0.0819\n",
      "Training Accuracy: 0.9195, Testing Accuracy: 0.9330\n",
      "\n"
     ]
    },
    {
     "name": "stdout",
     "output_type": "stream",
     "text": [
      "Epoch 20, Loss 0.0546\n",
      "Training Accuracy: 0.9418, Testing Accuracy: 0.9511\n",
      "\n"
     ]
    },
    {
     "name": "stdout",
     "output_type": "stream",
     "text": [
      "Epoch 30, Loss 0.0439\n",
      "Training Accuracy: 0.9511, Testing Accuracy: 0.9597\n",
      "\n"
     ]
    },
    {
     "name": "stdout",
     "output_type": "stream",
     "text": [
      "Epoch 40, Loss 0.0382\n",
      "Training Accuracy: 0.9577, Testing Accuracy: 0.9627\n",
      "\n"
     ]
    },
    {
     "name": "stdout",
     "output_type": "stream",
     "text": [
      "Epoch 50, Loss 0.0346\n",
      "Training Accuracy: 0.9609, Testing Accuracy: 0.9662\n",
      "\n"
     ]
    },
    {
     "name": "stdout",
     "output_type": "stream",
     "text": [
      "Epoch 60, Loss 0.032\n",
      "Training Accuracy: 0.9638, Testing Accuracy: 0.9677\n",
      "\n"
     ]
    },
    {
     "name": "stdout",
     "output_type": "stream",
     "text": [
      "Epoch 70, Loss 0.0301\n",
      "Training Accuracy: 0.9652, Testing Accuracy: 0.9708\n",
      "\n"
     ]
    },
    {
     "name": "stdout",
     "output_type": "stream",
     "text": [
      "Epoch 80, Loss 0.0286\n",
      "Training Accuracy: 0.9671, Testing Accuracy: 0.9723\n",
      "\n"
     ]
    },
    {
     "name": "stdout",
     "output_type": "stream",
     "text": [
      "Epoch 90, Loss 0.0273\n",
      "Training Accuracy: 0.9686, Testing Accuracy: 0.9733\n",
      "\n"
     ]
    },
    {
     "name": "stdout",
     "output_type": "stream",
     "text": [
      "Epoch 100, Loss 0.0262\n",
      "Training Accuracy: 0.9700, Testing Accuracy: 0.9733\n",
      "\n"
     ]
    },
    {
     "name": "stdout",
     "output_type": "stream",
     "text": [
      "Epoch 110, Loss 0.0252\n",
      "Training Accuracy: 0.9711, Testing Accuracy: 0.9728\n",
      "\n"
     ]
    },
    {
     "name": "stdout",
     "output_type": "stream",
     "text": [
      "Epoch 120, Loss 0.0244\n",
      "Training Accuracy: 0.9721, Testing Accuracy: 0.9728\n",
      "\n"
     ]
    },
    {
     "name": "stdout",
     "output_type": "stream",
     "text": [
      "Epoch 130, Loss 0.0236\n",
      "Training Accuracy: 0.9728, Testing Accuracy: 0.9718\n",
      "\n"
     ]
    },
    {
     "name": "stdout",
     "output_type": "stream",
     "text": [
      "Epoch 140, Loss 0.0229\n",
      "Training Accuracy: 0.9732, Testing Accuracy: 0.9723\n",
      "\n"
     ]
    },
    {
     "name": "stdout",
     "output_type": "stream",
     "text": [
      "Epoch 150, Loss 0.0223\n",
      "Training Accuracy: 0.9739, Testing Accuracy: 0.9723\n",
      "\n"
     ]
    },
    {
     "name": "stdout",
     "output_type": "stream",
     "text": [
      "Epoch 160, Loss 0.0217\n",
      "Training Accuracy: 0.9749, Testing Accuracy: 0.9723\n",
      "\n"
     ]
    },
    {
     "name": "stdout",
     "output_type": "stream",
     "text": [
      "Epoch 170, Loss 0.0211\n",
      "Training Accuracy: 0.9755, Testing Accuracy: 0.9718\n",
      "\n"
     ]
    },
    {
     "name": "stdout",
     "output_type": "stream",
     "text": [
      "Epoch 180, Loss 0.0206\n",
      "Training Accuracy: 0.9765, Testing Accuracy: 0.9728\n",
      "\n"
     ]
    },
    {
     "name": "stdout",
     "output_type": "stream",
     "text": [
      "Epoch 190, Loss 0.0201\n",
      "Training Accuracy: 0.9771, Testing Accuracy: 0.9733\n",
      "\n"
     ]
    },
    {
     "name": "stdout",
     "output_type": "stream",
     "text": [
      "Epoch 200, Loss 0.0196\n",
      "Training Accuracy: 0.9780, Testing Accuracy: 0.9733\n",
      "\n"
     ]
    },
    {
     "name": "stdout",
     "output_type": "stream",
     "text": [
      "Epoch 210, Loss 0.0192\n",
      "Training Accuracy: 0.9785, Testing Accuracy: 0.9743\n",
      "\n"
     ]
    },
    {
     "name": "stdout",
     "output_type": "stream",
     "text": [
      "Epoch 220, Loss 0.0187\n",
      "Training Accuracy: 0.9792, Testing Accuracy: 0.9743\n",
      "\n"
     ]
    },
    {
     "name": "stdout",
     "output_type": "stream",
     "text": [
      "Epoch 230, Loss 0.0183\n",
      "Training Accuracy: 0.9798, Testing Accuracy: 0.9753\n",
      "\n"
     ]
    },
    {
     "name": "stdout",
     "output_type": "stream",
     "text": [
      "Epoch 240, Loss 0.018\n",
      "Training Accuracy: 0.9807, Testing Accuracy: 0.9753\n",
      "\n"
     ]
    },
    {
     "data": {
      "text/plain": [
       "0.011739564187489804"
      ]
     },
     "execution_count": 22,
     "metadata": {},
     "output_type": "execute_result"
    }
   ],
   "source": [
    "nn_learner.train_loop(dl)"
   ]
  },
  {
   "cell_type": "code",
   "execution_count": 23,
   "id": "e0163366",
   "metadata": {
    "execution": {
     "iopub.execute_input": "2022-02-15T20:09:27.947926Z",
     "iopub.status.busy": "2022-02-15T20:09:27.947408Z",
     "iopub.status.idle": "2022-02-15T20:09:41.916988Z",
     "shell.execute_reply": "2022-02-15T20:09:41.917743Z"
    },
    "papermill": {
     "duration": 14.013303,
     "end_time": "2022-02-15T20:09:41.917900",
     "exception": false,
     "start_time": "2022-02-15T20:09:27.904597",
     "status": "completed"
    },
    "tags": []
   },
   "outputs": [
    {
     "name": "stdout",
     "output_type": "stream",
     "text": [
      "Epoch 0, Loss 0.2474\n",
      "Training Accuracy: 0.6845, Testing Accuracy: 0.7056\n",
      "\n"
     ]
    },
    {
     "name": "stdout",
     "output_type": "stream",
     "text": [
      "Epoch 10, Loss 0.1018\n",
      "Training Accuracy: 0.9148, Testing Accuracy: 0.9239\n",
      "\n"
     ]
    },
    {
     "name": "stdout",
     "output_type": "stream",
     "text": [
      "Epoch 20, Loss 0.0785\n",
      "Training Accuracy: 0.9308, Testing Accuracy: 0.9345\n",
      "\n"
     ]
    },
    {
     "name": "stdout",
     "output_type": "stream",
     "text": [
      "Epoch 30, Loss 0.068\n",
      "Training Accuracy: 0.9360, Testing Accuracy: 0.9420\n",
      "\n"
     ]
    },
    {
     "name": "stdout",
     "output_type": "stream",
     "text": [
      "Epoch 40, Loss 0.0616\n",
      "Training Accuracy: 0.9407, Testing Accuracy: 0.9506\n",
      "\n"
     ]
    },
    {
     "name": "stdout",
     "output_type": "stream",
     "text": [
      "Epoch 50, Loss 0.0572\n",
      "Training Accuracy: 0.9436, Testing Accuracy: 0.9541\n",
      "\n"
     ]
    },
    {
     "name": "stdout",
     "output_type": "stream",
     "text": [
      "Epoch 60, Loss 0.054\n",
      "Training Accuracy: 0.9464, Testing Accuracy: 0.9572\n",
      "\n"
     ]
    },
    {
     "name": "stdout",
     "output_type": "stream",
     "text": [
      "Epoch 70, Loss 0.0515\n",
      "Training Accuracy: 0.9477, Testing Accuracy: 0.9587\n",
      "\n"
     ]
    },
    {
     "name": "stdout",
     "output_type": "stream",
     "text": [
      "Epoch 80, Loss 0.0495\n",
      "Training Accuracy: 0.9499, Testing Accuracy: 0.9587\n",
      "\n"
     ]
    },
    {
     "name": "stdout",
     "output_type": "stream",
     "text": [
      "Epoch 90, Loss 0.0478\n",
      "Training Accuracy: 0.9514, Testing Accuracy: 0.9612\n",
      "\n"
     ]
    },
    {
     "name": "stdout",
     "output_type": "stream",
     "text": [
      "Epoch 100, Loss 0.0464\n",
      "Training Accuracy: 0.9523, Testing Accuracy: 0.9622\n",
      "\n"
     ]
    },
    {
     "name": "stdout",
     "output_type": "stream",
     "text": [
      "Epoch 110, Loss 0.0452\n",
      "Training Accuracy: 0.9528, Testing Accuracy: 0.9627\n",
      "\n"
     ]
    },
    {
     "name": "stdout",
     "output_type": "stream",
     "text": [
      "Epoch 120, Loss 0.0441\n",
      "Training Accuracy: 0.9542, Testing Accuracy: 0.9642\n",
      "\n"
     ]
    },
    {
     "name": "stdout",
     "output_type": "stream",
     "text": [
      "Epoch 130, Loss 0.0432\n",
      "Training Accuracy: 0.9546, Testing Accuracy: 0.9642\n",
      "\n"
     ]
    },
    {
     "name": "stdout",
     "output_type": "stream",
     "text": [
      "Epoch 140, Loss 0.0423\n",
      "Training Accuracy: 0.9552, Testing Accuracy: 0.9637\n",
      "\n"
     ]
    },
    {
     "name": "stdout",
     "output_type": "stream",
     "text": [
      "Epoch 150, Loss 0.0416\n",
      "Training Accuracy: 0.9562, Testing Accuracy: 0.9632\n",
      "\n"
     ]
    },
    {
     "name": "stdout",
     "output_type": "stream",
     "text": [
      "Epoch 160, Loss 0.0409\n",
      "Training Accuracy: 0.9568, Testing Accuracy: 0.9637\n",
      "\n"
     ]
    },
    {
     "name": "stdout",
     "output_type": "stream",
     "text": [
      "Epoch 170, Loss 0.0403\n",
      "Training Accuracy: 0.9575, Testing Accuracy: 0.9637\n",
      "\n"
     ]
    },
    {
     "name": "stdout",
     "output_type": "stream",
     "text": [
      "Epoch 180, Loss 0.0397\n",
      "Training Accuracy: 0.9579, Testing Accuracy: 0.9652\n",
      "\n"
     ]
    },
    {
     "name": "stdout",
     "output_type": "stream",
     "text": [
      "Epoch 190, Loss 0.0392\n",
      "Training Accuracy: 0.9583, Testing Accuracy: 0.9647\n",
      "\n"
     ]
    },
    {
     "name": "stdout",
     "output_type": "stream",
     "text": [
      "Epoch 200, Loss 0.0387\n",
      "Training Accuracy: 0.9586, Testing Accuracy: 0.9652\n",
      "\n"
     ]
    },
    {
     "name": "stdout",
     "output_type": "stream",
     "text": [
      "Epoch 210, Loss 0.0382\n",
      "Training Accuracy: 0.9593, Testing Accuracy: 0.9652\n",
      "\n"
     ]
    },
    {
     "name": "stdout",
     "output_type": "stream",
     "text": [
      "Epoch 220, Loss 0.0378\n",
      "Training Accuracy: 0.9595, Testing Accuracy: 0.9657\n",
      "\n"
     ]
    },
    {
     "name": "stdout",
     "output_type": "stream",
     "text": [
      "Epoch 230, Loss 0.0374\n",
      "Training Accuracy: 0.9604, Testing Accuracy: 0.9657\n",
      "\n"
     ]
    },
    {
     "name": "stdout",
     "output_type": "stream",
     "text": [
      "Epoch 240, Loss 0.0371\n",
      "Training Accuracy: 0.9604, Testing Accuracy: 0.9662\n",
      "\n"
     ]
    },
    {
     "data": {
      "text/plain": [
       "0.06061886139226223"
      ]
     },
     "execution_count": 23,
     "metadata": {},
     "output_type": "execute_result"
    }
   ],
   "source": [
    "lr_learner.train_loop(dl)"
   ]
  },
  {
   "cell_type": "code",
   "execution_count": 24,
   "id": "ca410940",
   "metadata": {
    "execution": {
     "iopub.execute_input": "2022-02-15T20:09:42.008675Z",
     "iopub.status.busy": "2022-02-15T20:09:42.008141Z",
     "iopub.status.idle": "2022-02-15T20:09:42.233672Z",
     "shell.execute_reply": "2022-02-15T20:09:42.232898Z"
    },
    "papermill": {
     "duration": 0.274813,
     "end_time": "2022-02-15T20:09:42.233804",
     "exception": false,
     "start_time": "2022-02-15T20:09:41.958991",
     "status": "completed"
    },
    "tags": []
   },
   "outputs": [
    {
     "data": {
      "text/plain": [
       "<matplotlib.legend.Legend at 0x7f6a68d3bcc0>"
      ]
     },
     "execution_count": 24,
     "metadata": {},
     "output_type": "execute_result"
    },
    {
     "data": {
      "image/png": "[encoded data removed]",
      "text/plain": [
       "<Figure size 1080x720 with 1 Axes>"
      ]
     },
     "metadata": {
      "needs_background": "light"
     },
     "output_type": "display_data"
    }
   ],
   "source": [
    "#comparing the results of NN and LR\n",
    "plt.figure(figsize=(15,10))\n",
    "\n",
    "# Neural Network plots\n",
    "plt.plot(acc_nn.accuracies, 'r-', label = \"Training Accuracies - NN\")\n",
    "plt.plot(acc_nn.test_accuracies, 'g-', label = \"Testing Accuracies - NN\")\n",
    "\n",
    "# Logistic Regression plots\n",
    "plt.plot(acc_lr.accuracies, 'k-', label = \"Training Accuracies - LR\")\n",
    "plt.plot(acc_lr.test_accuracies, 'b-', label = \"Testing Accuracies - LR\")\n",
    "plt.legend()"
   ]
  },
  {
   "cell_type": "markdown",
   "id": "80dfb35c",
   "metadata": {
    "papermill": {
     "duration": 0.041588,
     "end_time": "2022-02-15T20:09:42.318321",
     "exception": false,
     "start_time": "2022-02-15T20:09:42.276733",
     "status": "completed"
    },
    "tags": []
   },
   "source": [
    "#### Plotting the outputs of this layer of the NN.\n"
   ]
  },
  {
   "cell_type": "code",
   "execution_count": 25,
   "id": "45eb2ff5",
   "metadata": {
    "execution": {
     "iopub.execute_input": "2022-02-15T20:09:42.409353Z",
     "iopub.status.busy": "2022-02-15T20:09:42.408786Z",
     "iopub.status.idle": "2022-02-15T20:09:42.427800Z",
     "shell.execute_reply": "2022-02-15T20:09:42.428520Z"
    },
    "papermill": {
     "duration": 0.068564,
     "end_time": "2022-02-15T20:09:42.428659",
     "exception": false,
     "start_time": "2022-02-15T20:09:42.360095",
     "status": "completed"
    },
    "tags": []
   },
   "outputs": [],
   "source": [
    "new_model = Model(layers[:-2])\n",
    "testing_plot = new_model(testing_data_x)"
   ]
  },
  {
   "cell_type": "code",
   "execution_count": 26,
   "id": "4c0a5485",
   "metadata": {
    "execution": {
     "iopub.execute_input": "2022-02-15T20:09:42.521965Z",
     "iopub.status.busy": "2022-02-15T20:09:42.521438Z",
     "iopub.status.idle": "2022-02-15T20:09:42.740805Z",
     "shell.execute_reply": "2022-02-15T20:09:42.741203Z"
    },
    "papermill": {
     "duration": 0.269669,
     "end_time": "2022-02-15T20:09:42.741356",
     "exception": false,
     "start_time": "2022-02-15T20:09:42.471687",
     "status": "completed"
    },
    "tags": []
   },
   "outputs": [
    {
     "data": {
      "text/plain": [
       "Text(0.5, 1.0, 'Outputs')"
      ]
     },
     "execution_count": 26,
     "metadata": {},
     "output_type": "execute_result"
    },
    {
     "data": {
      "image/png": "[encoded data removed]",
      "text/plain": [
       "<Figure size 576x504 with 1 Axes>"
      ]
     },
     "metadata": {
      "needs_background": "light"
     },
     "output_type": "display_data"
    }
   ],
   "source": [
    "# Plotting the scatter plot of points and color coding by class\n",
    "plt.figure(figsize=(8,7))\n",
    "plt.scatter(testing_plot[:,0], testing_plot[:,1], alpha = 0.1, c = y_test.ravel());\n",
    "plt.title('Outputs')"
   ]
  },
  {
   "cell_type": "markdown",
   "id": "a74fcf8f",
   "metadata": {
    "papermill": {
     "duration": 0.045058,
     "end_time": "2022-02-15T20:09:42.831893",
     "exception": false,
     "start_time": "2022-02-15T20:09:42.786835",
     "status": "completed"
    },
    "tags": []
   },
   "source": [
    "Probability contours"
   ]
  },
  {
   "cell_type": "code",
   "execution_count": 27,
   "id": "d0afc8e3",
   "metadata": {
    "execution": {
     "iopub.execute_input": "2022-02-15T20:09:42.934649Z",
     "iopub.status.busy": "2022-02-15T20:09:42.934088Z",
     "iopub.status.idle": "2022-02-15T20:09:42.941063Z",
     "shell.execute_reply": "2022-02-15T20:09:42.940643Z"
    },
    "papermill": {
     "duration": 0.064083,
     "end_time": "2022-02-15T20:09:42.941175",
     "exception": false,
     "start_time": "2022-02-15T20:09:42.877092",
     "status": "completed"
    },
    "tags": []
   },
   "outputs": [],
   "source": [
    "model_prob = Model(layers[-2:]) "
   ]
  },
  {
   "cell_type": "code",
   "execution_count": 28,
   "id": "9b96e238",
   "metadata": {
    "execution": {
     "iopub.execute_input": "2022-02-15T20:09:43.035866Z",
     "iopub.status.busy": "2022-02-15T20:09:43.035349Z",
     "iopub.status.idle": "2022-02-15T20:09:43.048920Z",
     "shell.execute_reply": "2022-02-15T20:09:43.049314Z"
    },
    "papermill": {
     "duration": 0.063023,
     "end_time": "2022-02-15T20:09:43.049443",
     "exception": false,
     "start_time": "2022-02-15T20:09:42.986420",
     "status": "completed"
    },
    "tags": []
   },
   "outputs": [],
   "source": [
    "#creating the x and y ranges according to the above generated plot.\n",
    "x_range = np.linspace(-4, 1, 100) \n",
    "y_range = np.linspace(-6, 6, 100) \n",
    "x_grid, y_grid = np.meshgrid(x_range, y_range) # x_grid and y_grig are of size 100 X 100\n",
    "\n",
    "# converting x_grid and y_grid to continuous arrays\n",
    "x_gridflat = np.ravel(x_grid)\n",
    "y_gridflat = np.ravel(y_grid)\n",
    "\n",
    "# The last layer of the current model takes two columns as input. Hence transpose of np.vstack() is required.\n",
    "X = np.vstack((x_gridflat, y_gridflat)).T\n",
    "\n",
    "prob_contour = model_prob(X).reshape(100,100) "
   ]
  },
  {
   "cell_type": "code",
   "execution_count": 29,
   "id": "da72499a",
   "metadata": {
    "execution": {
     "iopub.execute_input": "2022-02-15T20:09:43.177823Z",
     "iopub.status.busy": "2022-02-15T20:09:43.177194Z",
     "iopub.status.idle": "2022-02-15T20:09:43.431933Z",
     "shell.execute_reply": "2022-02-15T20:09:43.431467Z"
    },
    "papermill": {
     "duration": 0.332693,
     "end_time": "2022-02-15T20:09:43.432054",
     "exception": false,
     "start_time": "2022-02-15T20:09:43.099361",
     "status": "completed"
    },
    "tags": []
   },
   "outputs": [
    {
     "data": {
      "image/png": "[encoded data removed]",
      "text/plain": [
       "<Figure size 720x648 with 1 Axes>"
      ]
     },
     "metadata": {
      "needs_background": "light"
     },
     "output_type": "display_data"
    }
   ],
   "source": [
    "plt.figure(figsize=(10,9))\n",
    "plt.scatter(testing_plot[:,0], testing_plot[:,1], alpha = 0.1, c = y_test.ravel())\n",
    "contours = plt.contour(x_grid,y_grid,prob_contour)\n",
    "plt.title('Probability Contours')\n",
    "plt.clabel(contours, inline = True );"
   ]
  },
  {
   "cell_type": "code",
   "execution_count": null,
   "id": "e81b4ac7",
   "metadata": {
    "papermill": {
     "duration": 0.047285,
     "end_time": "2022-02-15T20:09:43.527611",
     "exception": false,
     "start_time": "2022-02-15T20:09:43.480326",
     "status": "completed"
    },
    "tags": []
   },
   "outputs": [],
   "source": []
  }
 ],
 "metadata": {
  "kernelspec": {
   "display_name": "Python 3",
   "language": "python",
   "name": "python3"
  },
  "language_info": {
   "codemirror_mode": {
    "name": "ipython",
    "version": 3
   },
   "file_extension": ".py",
   "mimetype": "text/x-python",
   "name": "python",
   "nbconvert_exporter": "python",
   "pygments_lexer": "ipython3",
   "version": "3.6.15"
  },
  "papermill": {
   "default_parameters": {},
   "duration": 100.05886,
   "end_time": "2022-02-15T20:09:43.994515",
   "environment_variables": {},
   "exception": null,
   "input_path": "2020-08-11-part2.ipynb",
   "output_path": "2020-08-11-part2.ipynb",
   "parameters": {},
   "start_time": "2022-02-15T20:08:03.935655",
   "version": "2.3.3"
  }
 },
 "nbformat": 4,
 "nbformat_minor": 5
}