{
 "cells": [
  {
   "cell_type": "markdown",
   "id": "98380cd3",
   "metadata": {
    "papermill": {
     "duration": 0.03043,
     "end_time": "2022-07-28T10:10:21.747875",
     "exception": false,
     "start_time": "2022-07-28T10:10:21.717445",
     "status": "completed"
    },
    "tags": []
   },
   "source": [
    "# Distinguish Your Own Digits (DYOD)"
   ]
  },
  {
   "cell_type": "markdown",
   "id": "ef31240d",
   "metadata": {
    "papermill": {
     "duration": 0.024036,
     "end_time": "2022-07-28T10:10:21.796583",
     "exception": false,
     "start_time": "2022-07-28T10:10:21.772547",
     "status": "completed"
    },
    "tags": []
   },
   "source": [
    "You are going to write a classifier that distinguishes between the number 3 and number 8."
   ]
  },
  {
   "cell_type": "code",
   "execution_count": 1,
   "id": "b15c8646",
   "metadata": {
    "execution": {
     "iopub.execute_input": "2022-07-28T10:10:21.855351Z",
     "iopub.status.busy": "2022-07-28T10:10:21.854745Z",
     "iopub.status.idle": "2022-07-28T10:10:21.865373Z",
     "shell.execute_reply": "2022-07-28T10:10:21.865823Z"
    },
    "papermill": {
     "duration": 0.045403,
     "end_time": "2022-07-28T10:10:21.865977",
     "exception": false,
     "start_time": "2022-07-28T10:10:21.820574",
     "status": "completed"
    },
    "tags": []
   },
   "outputs": [],
   "source": [
    "%load_ext autoreload\n",
    "%autoreload 2"
   ]
  },
  {
   "cell_type": "code",
   "execution_count": 2,
   "id": "22ef38dc",
   "metadata": {
    "execution": {
     "iopub.execute_input": "2022-07-28T10:10:21.917953Z",
     "iopub.status.busy": "2022-07-28T10:10:21.917384Z",
     "iopub.status.idle": "2022-07-28T10:10:22.480334Z",
     "shell.execute_reply": "2022-07-28T10:10:22.479786Z"
    },
    "papermill": {
     "duration": 0.590486,
     "end_time": "2022-07-28T10:10:22.480465",
     "exception": false,
     "start_time": "2022-07-28T10:10:21.889979",
     "status": "completed"
    },
    "tags": []
   },
   "outputs": [],
   "source": [
    "%matplotlib inline\n",
    "import numpy as np\n",
    "import matplotlib.pyplot as plt\n",
    "import pandas as pd"
   ]
  },
  {
   "cell_type": "markdown",
   "id": "ba036198",
   "metadata": {
    "papermill": {
     "duration": 0.024172,
     "end_time": "2022-07-28T10:10:22.528596",
     "exception": false,
     "start_time": "2022-07-28T10:10:22.504424",
     "status": "completed"
    },
    "tags": []
   },
   "source": [
    "From the command line run `pip install mnist`. This is a library that will help you bring down the mnist dataset. If you run this from a notebook, you need to put  `!pip install mnist` in a cell by itself."
   ]
  },
  {
   "cell_type": "code",
   "execution_count": 3,
   "id": "bb6ad8a1",
   "metadata": {
    "execution": {
     "iopub.execute_input": "2022-07-28T10:10:22.586303Z",
     "iopub.status.busy": "2022-07-28T10:10:22.585687Z",
     "iopub.status.idle": "2022-07-28T10:10:24.212615Z",
     "shell.execute_reply": "2022-07-28T10:10:24.213102Z"
    },
    "papermill": {
     "duration": 1.660487,
     "end_time": "2022-07-28T10:10:24.213254",
     "exception": false,
     "start_time": "2022-07-28T10:10:22.552767",
     "status": "completed"
    },
    "tags": []
   },
   "outputs": [
    {
     "name": "stdout",
     "output_type": "stream",
     "text": [
      "Collecting mnist\r\n"
     ]
    },
    {
     "name": "stdout",
     "output_type": "stream",
     "text": [
      "  Downloading mnist-0.2.2-py2.py3-none-any.whl (3.5 kB)\r\n",
      "Requirement already satisfied: numpy in /opt/hostedtoolcache/Python/3.6.15/x64/lib/python3.6/site-packages (from mnist) (1.19.5)\r\n"
     ]
    },
    {
     "name": "stdout",
     "output_type": "stream",
     "text": [
      "Installing collected packages: mnist\r\n"
     ]
    },
    {
     "name": "stdout",
     "output_type": "stream",
     "text": [
      "Successfully installed mnist-0.2.2\r\n"
     ]
    }
   ],
   "source": [
    "!pip install mnist"
   ]
  },
  {
   "cell_type": "markdown",
   "id": "69df9c9a",
   "metadata": {
    "papermill": {
     "duration": 0.025362,
     "end_time": "2022-07-28T10:10:24.264042",
     "exception": false,
     "start_time": "2022-07-28T10:10:24.238680",
     "status": "completed"
    },
    "tags": []
   },
   "source": [
    "## Preparing the Data"
   ]
  },
  {
   "cell_type": "code",
   "execution_count": 4,
   "id": "7f69d806",
   "metadata": {
    "execution": {
     "iopub.execute_input": "2022-07-28T10:10:24.318747Z",
     "iopub.status.busy": "2022-07-28T10:10:24.318136Z",
     "iopub.status.idle": "2022-07-28T10:10:24.334180Z",
     "shell.execute_reply": "2022-07-28T10:10:24.333708Z"
    },
    "papermill": {
     "duration": 0.044965,
     "end_time": "2022-07-28T10:10:24.334294",
     "exception": false,
     "start_time": "2022-07-28T10:10:24.289329",
     "status": "completed"
    },
    "tags": []
   },
   "outputs": [],
   "source": [
    "import mnist"
   ]
  },
  {
   "cell_type": "code",
   "execution_count": 5,
   "id": "a411e44f",
   "metadata": {
    "execution": {
     "iopub.execute_input": "2022-07-28T10:10:24.388805Z",
     "iopub.status.busy": "2022-07-28T10:10:24.388228Z",
     "iopub.status.idle": "2022-07-28T10:10:24.880198Z",
     "shell.execute_reply": "2022-07-28T10:10:24.880728Z"
    },
    "papermill": {
     "duration": 0.521412,
     "end_time": "2022-07-28T10:10:24.880898",
     "exception": false,
     "start_time": "2022-07-28T10:10:24.359486",
     "status": "completed"
    },
    "tags": []
   },
   "outputs": [],
   "source": [
    "train_images = mnist.train_images()\n",
    "train_labels = mnist.train_labels()"
   ]
  },
  {
   "cell_type": "code",
   "execution_count": 6,
   "id": "dceab3a5",
   "metadata": {
    "execution": {
     "iopub.execute_input": "2022-07-28T10:10:24.943884Z",
     "iopub.status.busy": "2022-07-28T10:10:24.943285Z",
     "iopub.status.idle": "2022-07-28T10:10:24.953690Z",
     "shell.execute_reply": "2022-07-28T10:10:24.953217Z"
    },
    "papermill": {
     "duration": 0.047184,
     "end_time": "2022-07-28T10:10:24.953807",
     "exception": false,
     "start_time": "2022-07-28T10:10:24.906623",
     "status": "completed"
    },
    "tags": []
   },
   "outputs": [
    {
     "data": {
      "text/plain": [
       "((60000, 28, 28), (60000,))"
      ]
     },
     "execution_count": 6,
     "metadata": {},
     "output_type": "execute_result"
    }
   ],
   "source": [
    "train_images.shape, train_labels.shape"
   ]
  },
  {
   "cell_type": "code",
   "execution_count": 7,
   "id": "f50dc2bb",
   "metadata": {
    "execution": {
     "iopub.execute_input": "2022-07-28T10:10:25.011275Z",
     "iopub.status.busy": "2022-07-28T10:10:25.007565Z",
     "iopub.status.idle": "2022-07-28T10:10:25.147619Z",
     "shell.execute_reply": "2022-07-28T10:10:25.146873Z"
    },
    "papermill": {
     "duration": 0.168739,
     "end_time": "2022-07-28T10:10:25.147758",
     "exception": false,
     "start_time": "2022-07-28T10:10:24.979019",
     "status": "completed"
    },
    "tags": []
   },
   "outputs": [],
   "source": [
    "test_images = mnist.test_images()\n",
    "test_labels = mnist.test_labels()"
   ]
  },
  {
   "cell_type": "code",
   "execution_count": 8,
   "id": "fc38cf1b",
   "metadata": {
    "execution": {
     "iopub.execute_input": "2022-07-28T10:10:25.203321Z",
     "iopub.status.busy": "2022-07-28T10:10:25.202731Z",
     "iopub.status.idle": "2022-07-28T10:10:25.216620Z",
     "shell.execute_reply": "2022-07-28T10:10:25.216139Z"
    },
    "papermill": {
     "duration": 0.042975,
     "end_time": "2022-07-28T10:10:25.216734",
     "exception": false,
     "start_time": "2022-07-28T10:10:25.173759",
     "status": "completed"
    },
    "tags": []
   },
   "outputs": [
    {
     "data": {
      "text/plain": [
       "((10000, 28, 28), (10000,))"
      ]
     },
     "execution_count": 8,
     "metadata": {},
     "output_type": "execute_result"
    }
   ],
   "source": [
    "test_images.shape, test_labels.shape"
   ]
  },
  {
   "cell_type": "code",
   "execution_count": 9,
   "id": "f9ed8fe0",
   "metadata": {
    "execution": {
     "iopub.execute_input": "2022-07-28T10:10:25.272588Z",
     "iopub.status.busy": "2022-07-28T10:10:25.272012Z",
     "iopub.status.idle": "2022-07-28T10:10:25.413653Z",
     "shell.execute_reply": "2022-07-28T10:10:25.414093Z"
    },
    "papermill": {
     "duration": 0.171838,
     "end_time": "2022-07-28T10:10:25.414245",
     "exception": false,
     "start_time": "2022-07-28T10:10:25.242407",
     "status": "completed"
    },
    "tags": []
   },
   "outputs": [
    {
     "name": "stdout",
     "output_type": "stream",
     "text": [
      "2\n"
     ]
    },
    {
     "data": {
      "text/plain": [
       "<matplotlib.image.AxesImage at 0x7f7d345ef518>"
      ]
     },
     "execution_count": 9,
     "metadata": {},
     "output_type": "execute_result"
    },
    {
     "data": {
      "image/png": "[encoded data removed]",
      "text/plain": [
       "<Figure size 432x288 with 1 Axes>"
      ]
     },
     "metadata": {
      "needs_background": "light"
     },
     "output_type": "display_data"
    }
   ],
   "source": [
    "image_index = 7776 # You may select anything up to 60,000\n",
    "print(train_labels[image_index]) \n",
    "plt.imshow(train_images[image_index], cmap='Greys')"
   ]
  },
  {
   "cell_type": "markdown",
   "id": "a8d2388d",
   "metadata": {
    "papermill": {
     "duration": 0.027296,
     "end_time": "2022-07-28T10:10:25.468570",
     "exception": false,
     "start_time": "2022-07-28T10:10:25.441274",
     "status": "completed"
    },
    "tags": []
   },
   "source": [
    "## Filter data to get 3 and 8 out"
   ]
  },
  {
   "cell_type": "code",
   "execution_count": 10,
   "id": "776f7fc7",
   "metadata": {
    "execution": {
     "iopub.execute_input": "2022-07-28T10:10:25.526918Z",
     "iopub.status.busy": "2022-07-28T10:10:25.526285Z",
     "iopub.status.idle": "2022-07-28T10:10:25.545767Z",
     "shell.execute_reply": "2022-07-28T10:10:25.545279Z"
    },
    "papermill": {
     "duration": 0.050532,
     "end_time": "2022-07-28T10:10:25.545888",
     "exception": false,
     "start_time": "2022-07-28T10:10:25.495356",
     "status": "completed"
    },
    "tags": []
   },
   "outputs": [],
   "source": [
    "train_filter = np.where((train_labels == 3 ) | (train_labels == 8))\n",
    "test_filter = np.where((test_labels == 3) | (test_labels == 8))\n",
    "X_train, y_train = train_images[train_filter], train_labels[train_filter]\n",
    "X_test, y_test = test_images[test_filter], test_labels[test_filter]"
   ]
  },
  {
   "cell_type": "markdown",
   "id": "948f0b7e",
   "metadata": {
    "papermill": {
     "duration": 0.02681,
     "end_time": "2022-07-28T10:10:25.599613",
     "exception": false,
     "start_time": "2022-07-28T10:10:25.572803",
     "status": "completed"
    },
    "tags": []
   },
   "source": [
    "We normalize the pizel values in the 0 to 1 range"
   ]
  },
  {
   "cell_type": "code",
   "execution_count": 11,
   "id": "ee4c2166",
   "metadata": {
    "execution": {
     "iopub.execute_input": "2022-07-28T10:10:25.658526Z",
     "iopub.status.busy": "2022-07-28T10:10:25.657907Z",
     "iopub.status.idle": "2022-07-28T10:10:25.706133Z",
     "shell.execute_reply": "2022-07-28T10:10:25.705542Z"
    },
    "papermill": {
     "duration": 0.079923,
     "end_time": "2022-07-28T10:10:25.706271",
     "exception": false,
     "start_time": "2022-07-28T10:10:25.626348",
     "status": "completed"
    },
    "tags": []
   },
   "outputs": [],
   "source": [
    "X_train = X_train/255.\n",
    "X_test = X_test/255."
   ]
  },
  {
   "cell_type": "markdown",
   "id": "ddcf4fab",
   "metadata": {
    "papermill": {
     "duration": 0.027288,
     "end_time": "2022-07-28T10:10:25.761200",
     "exception": false,
     "start_time": "2022-07-28T10:10:25.733912",
     "status": "completed"
    },
    "tags": []
   },
   "source": [
    "And setup the labels as 1 (when the digit is 3) and 0 (when the digit is 8)"
   ]
  },
  {
   "cell_type": "code",
   "execution_count": 12,
   "id": "7dc908f2",
   "metadata": {
    "execution": {
     "iopub.execute_input": "2022-07-28T10:10:25.831370Z",
     "iopub.status.busy": "2022-07-28T10:10:25.828631Z",
     "iopub.status.idle": "2022-07-28T10:10:25.835222Z",
     "shell.execute_reply": "2022-07-28T10:10:25.835673Z"
    },
    "papermill": {
     "duration": 0.047113,
     "end_time": "2022-07-28T10:10:25.835808",
     "exception": false,
     "start_time": "2022-07-28T10:10:25.788695",
     "status": "completed"
    },
    "tags": []
   },
   "outputs": [],
   "source": [
    "y_train = 1*(y_train==3)\n",
    "y_test = 1*(y_test==3)"
   ]
  },
  {
   "cell_type": "code",
   "execution_count": 13,
   "id": "01e4e969",
   "metadata": {
    "execution": {
     "iopub.execute_input": "2022-07-28T10:10:25.895300Z",
     "iopub.status.busy": "2022-07-28T10:10:25.892880Z",
     "iopub.status.idle": "2022-07-28T10:10:25.907332Z",
     "shell.execute_reply": "2022-07-28T10:10:25.906854Z"
    },
    "papermill": {
     "duration": 0.044858,
     "end_time": "2022-07-28T10:10:25.907444",
     "exception": false,
     "start_time": "2022-07-28T10:10:25.862586",
     "status": "completed"
    },
    "tags": []
   },
   "outputs": [
    {
     "data": {
      "text/plain": [
       "((11982, 28, 28), (1984, 28, 28))"
      ]
     },
     "execution_count": 13,
     "metadata": {},
     "output_type": "execute_result"
    }
   ],
   "source": [
    "X_train.shape, X_test.shape"
   ]
  },
  {
   "cell_type": "markdown",
   "id": "5ccf3f85",
   "metadata": {
    "papermill": {
     "duration": 0.027086,
     "end_time": "2022-07-28T10:10:25.961406",
     "exception": false,
     "start_time": "2022-07-28T10:10:25.934320",
     "status": "completed"
    },
    "tags": []
   },
   "source": [
    "We reshape the data to flatten the image pixels into a set of features or co-variates:"
   ]
  },
  {
   "cell_type": "code",
   "execution_count": 14,
   "id": "5286a4a3",
   "metadata": {
    "execution": {
     "iopub.execute_input": "2022-07-28T10:10:26.020937Z",
     "iopub.status.busy": "2022-07-28T10:10:26.020332Z",
     "iopub.status.idle": "2022-07-28T10:10:26.034630Z",
     "shell.execute_reply": "2022-07-28T10:10:26.035114Z"
    },
    "papermill": {
     "duration": 0.046392,
     "end_time": "2022-07-28T10:10:26.035249",
     "exception": false,
     "start_time": "2022-07-28T10:10:25.988857",
     "status": "completed"
    },
    "tags": []
   },
   "outputs": [
    {
     "data": {
      "text/plain": [
       "((11982, 784), (1984, 784))"
      ]
     },
     "execution_count": 14,
     "metadata": {},
     "output_type": "execute_result"
    }
   ],
   "source": [
    "X_train = X_train.reshape(X_train.shape[0], -1)\n",
    "X_test = X_test.reshape(X_test.shape[0], -1)\n",
    "X_train.shape, X_test.shape"
   ]
  },
  {
   "cell_type": "code",
   "execution_count": 15,
   "id": "73c5f88a",
   "metadata": {
    "execution": {
     "iopub.execute_input": "2022-07-28T10:10:26.096176Z",
     "iopub.status.busy": "2022-07-28T10:10:26.095596Z",
     "iopub.status.idle": "2022-07-28T10:10:26.114346Z",
     "shell.execute_reply": "2022-07-28T10:10:26.113862Z"
    },
    "papermill": {
     "duration": 0.051564,
     "end_time": "2022-07-28T10:10:26.114461",
     "exception": false,
     "start_time": "2022-07-28T10:10:26.062897",
     "status": "completed"
    },
    "tags": []
   },
   "outputs": [],
   "source": [
    "#Impoting functions from 'Kudzu'\n",
    "from kudzu.model import Model\n",
    "from kudzu.train import Learner\n",
    "from kudzu.optim import GD\n",
    "from kudzu.data import Data, Sampler,Dataloader\n",
    "\n",
    "from kudzu.callbacks import AccCallback\n",
    "from kudzu.callbacks import ClfCallback\n",
    "\n",
    "from kudzu.loss import MSE\n",
    "\n",
    "from kudzu.layer import Sigmoid,Relu\n",
    "from kudzu.layer import Affine"
   ]
  },
  {
   "cell_type": "markdown",
   "id": "bc01172a",
   "metadata": {
    "papermill": {
     "duration": 0.027312,
     "end_time": "2022-07-28T10:10:26.169373",
     "exception": false,
     "start_time": "2022-07-28T10:10:26.142061",
     "status": "completed"
    },
    "tags": []
   },
   "source": [
    "### Let us create a `Config` class, to store important parameters. \n",
    "This class essentially plays the role of a dictionary."
   ]
  },
  {
   "cell_type": "code",
   "execution_count": 16,
   "id": "978281aa",
   "metadata": {
    "execution": {
     "iopub.execute_input": "2022-07-28T10:10:26.232213Z",
     "iopub.status.busy": "2022-07-28T10:10:26.231621Z",
     "iopub.status.idle": "2022-07-28T10:10:26.242676Z",
     "shell.execute_reply": "2022-07-28T10:10:26.243139Z"
    },
    "papermill": {
     "duration": 0.045113,
     "end_time": "2022-07-28T10:10:26.243278",
     "exception": false,
     "start_time": "2022-07-28T10:10:26.198165",
     "status": "completed"
    },
    "tags": []
   },
   "outputs": [],
   "source": [
    "class Config:\n",
    "    pass\n",
    "config = Config()\n",
    "config.lr = 0.001\n",
    "config.num_epochs = 250\n",
    "config.bs = 50"
   ]
  },
  {
   "cell_type": "markdown",
   "id": "1385fa59",
   "metadata": {
    "papermill": {
     "duration": 0.027234,
     "end_time": "2022-07-28T10:10:26.298078",
     "exception": false,
     "start_time": "2022-07-28T10:10:26.270844",
     "status": "completed"
    },
    "tags": []
   },
   "source": [
    "### Running Models with the Training data\n",
    "Details about the network layers:\n",
    "- A first affine layer has 784 inputs and does 100 affine transforms. These are followed by a Relu\n",
    "- A second affine layer has 100 inputs from the 100 activations of the past layer, and does 100 affine transforms. These are followed by a Relu\n",
    "- A third affine layer has 100 activations and does 2 affine transformations to create an embedding for visualization. There is no non-linearity here.\n",
    "- A final \"logistic regression\" which has an affine transform from 2 inputs to 1 output, which is squeezed through a sigmoid.\n"
   ]
  },
  {
   "cell_type": "code",
   "execution_count": 17,
   "id": "2b9c66db",
   "metadata": {
    "execution": {
     "iopub.execute_input": "2022-07-28T10:10:26.358222Z",
     "iopub.status.busy": "2022-07-28T10:10:26.357632Z",
     "iopub.status.idle": "2022-07-28T10:10:26.370999Z",
     "shell.execute_reply": "2022-07-28T10:10:26.370474Z"
    },
    "papermill": {
     "duration": 0.045651,
     "end_time": "2022-07-28T10:10:26.371114",
     "exception": false,
     "start_time": "2022-07-28T10:10:26.325463",
     "status": "completed"
    },
    "tags": []
   },
   "outputs": [],
   "source": [
    "data = Data(X_train, y_train.reshape(-1,1))\n",
    "sampler = Sampler(data, config.bs, shuffle=True)\n",
    "\n",
    "dl = Dataloader(data, sampler)\n",
    "\n",
    "opt = GD(config.lr)\n",
    "loss = MSE()"
   ]
  },
  {
   "cell_type": "code",
   "execution_count": 18,
   "id": "b275e4c2",
   "metadata": {
    "execution": {
     "iopub.execute_input": "2022-07-28T10:10:26.430525Z",
     "iopub.status.busy": "2022-07-28T10:10:26.429918Z",
     "iopub.status.idle": "2022-07-28T10:10:26.443009Z",
     "shell.execute_reply": "2022-07-28T10:10:26.442514Z"
    },
    "papermill": {
     "duration": 0.044419,
     "end_time": "2022-07-28T10:10:26.443125",
     "exception": false,
     "start_time": "2022-07-28T10:10:26.398706",
     "status": "completed"
    },
    "tags": []
   },
   "outputs": [],
   "source": [
    "training_data_x = X_train\n",
    "testing_data_x = X_test\n",
    "training_data_y = y_train.reshape(-1,1)\n",
    "testing_data_y = y_test.reshape(-1,1)"
   ]
  },
  {
   "cell_type": "code",
   "execution_count": 19,
   "id": "76951160",
   "metadata": {
    "execution": {
     "iopub.execute_input": "2022-07-28T10:10:26.504638Z",
     "iopub.status.busy": "2022-07-28T10:10:26.504039Z",
     "iopub.status.idle": "2022-07-28T10:10:26.519968Z",
     "shell.execute_reply": "2022-07-28T10:10:26.519486Z"
    },
    "papermill": {
     "duration": 0.049643,
     "end_time": "2022-07-28T10:10:26.520083",
     "exception": false,
     "start_time": "2022-07-28T10:10:26.470440",
     "status": "completed"
    },
    "tags": []
   },
   "outputs": [
    {
     "name": "stdout",
     "output_type": "stream",
     "text": [
      "xavier\n",
      "xavier\n",
      "xavier\n",
      "xavier\n",
      "xavier\n"
     ]
    }
   ],
   "source": [
    "layers = [Affine(\"first\", 784, 100), Relu(\"first\"), Affine(\"second\", 100, 100), Relu(\"second\"), Affine(\"third\", 100, 2), Affine(\"last\", 2, 1), Sigmoid(\"last\")]\n",
    "model_nn = Model(layers)\n",
    "model_lr = Model([Affine(\"logits\", 784, 1), Sigmoid(\"sigmoid\")])"
   ]
  },
  {
   "cell_type": "code",
   "execution_count": 20,
   "id": "6eede77a",
   "metadata": {
    "execution": {
     "iopub.execute_input": "2022-07-28T10:10:26.579973Z",
     "iopub.status.busy": "2022-07-28T10:10:26.579392Z",
     "iopub.status.idle": "2022-07-28T10:10:26.592793Z",
     "shell.execute_reply": "2022-07-28T10:10:26.592223Z"
    },
    "papermill": {
     "duration": 0.044934,
     "end_time": "2022-07-28T10:10:26.592908",
     "exception": false,
     "start_time": "2022-07-28T10:10:26.547974",
     "status": "completed"
    },
    "tags": []
   },
   "outputs": [],
   "source": [
    "nn_learner = Learner(loss, model_nn, opt, config.num_epochs)\n",
    "acc_nn = ClfCallback(nn_learner, config.bs, training_data_x , testing_data_x, training_data_y, testing_data_y)\n",
    "nn_learner.set_callbacks([acc_nn])"
   ]
  },
  {
   "cell_type": "code",
   "execution_count": 21,
   "id": "877b6cc7",
   "metadata": {
    "execution": {
     "iopub.execute_input": "2022-07-28T10:10:26.652065Z",
     "iopub.status.busy": "2022-07-28T10:10:26.651483Z",
     "iopub.status.idle": "2022-07-28T10:10:26.664611Z",
     "shell.execute_reply": "2022-07-28T10:10:26.664140Z"
    },
    "papermill": {
     "duration": 0.044193,
     "end_time": "2022-07-28T10:10:26.664723",
     "exception": false,
     "start_time": "2022-07-28T10:10:26.620530",
     "status": "completed"
    },
    "tags": []
   },
   "outputs": [],
   "source": [
    "lr_learner = Learner(loss, model_lr, opt, config.num_epochs)\n",
    "acc_lr = ClfCallback(lr_learner, config.bs, training_data_x , testing_data_x, training_data_y, testing_data_y)\n",
    "lr_learner.set_callbacks([acc_lr])"
   ]
  },
  {
   "cell_type": "code",
   "execution_count": 22,
   "id": "d9b133c3",
   "metadata": {
    "execution": {
     "iopub.execute_input": "2022-07-28T10:10:26.723727Z",
     "iopub.status.busy": "2022-07-28T10:10:26.723155Z",
     "iopub.status.idle": "2022-07-28T10:11:45.696417Z",
     "shell.execute_reply": "2022-07-28T10:11:45.697271Z"
    },
    "papermill": {
     "duration": 79.004955,
     "end_time": "2022-07-28T10:11:45.697422",
     "exception": false,
     "start_time": "2022-07-28T10:10:26.692467",
     "status": "completed"
    },
    "tags": []
   },
   "outputs": [
    {
     "name": "stdout",
     "output_type": "stream",
     "text": [
      "Epoch 0, Loss 0.2477\n",
      "Training Accuracy: 0.5906, Testing Accuracy: 0.6033\n",
      "\n"
     ]
    },
    {
     "name": "stdout",
     "output_type": "stream",
     "text": [
      "Epoch 10, Loss 0.2025\n",
      "Training Accuracy: 0.8684, Testing Accuracy: 0.8816\n",
      "\n"
     ]
    },
    {
     "name": "stdout",
     "output_type": "stream",
     "text": [
      "Epoch 20, Loss 0.1061\n",
      "Training Accuracy: 0.9066, Testing Accuracy: 0.9178\n",
      "\n"
     ]
    },
    {
     "name": "stdout",
     "output_type": "stream",
     "text": [
      "Epoch 30, Loss 0.0648\n",
      "Training Accuracy: 0.9324, Testing Accuracy: 0.9405\n",
      "\n"
     ]
    },
    {
     "name": "stdout",
     "output_type": "stream",
     "text": [
      "Epoch 40, Loss 0.0497\n",
      "Training Accuracy: 0.9454, Testing Accuracy: 0.9501\n",
      "\n"
     ]
    },
    {
     "name": "stdout",
     "output_type": "stream",
     "text": [
      "Epoch 50, Loss 0.0422\n",
      "Training Accuracy: 0.9522, Testing Accuracy: 0.9597\n",
      "\n"
     ]
    },
    {
     "name": "stdout",
     "output_type": "stream",
     "text": [
      "Epoch 60, Loss 0.0379\n",
      "Training Accuracy: 0.9565, Testing Accuracy: 0.9632\n",
      "\n"
     ]
    },
    {
     "name": "stdout",
     "output_type": "stream",
     "text": [
      "Epoch 70, Loss 0.0351\n",
      "Training Accuracy: 0.9596, Testing Accuracy: 0.9637\n",
      "\n"
     ]
    },
    {
     "name": "stdout",
     "output_type": "stream",
     "text": [
      "Epoch 80, Loss 0.033\n",
      "Training Accuracy: 0.9620, Testing Accuracy: 0.9652\n",
      "\n"
     ]
    },
    {
     "name": "stdout",
     "output_type": "stream",
     "text": [
      "Epoch 90, Loss 0.0313\n",
      "Training Accuracy: 0.9639, Testing Accuracy: 0.9662\n",
      "\n"
     ]
    },
    {
     "name": "stdout",
     "output_type": "stream",
     "text": [
      "Epoch 100, Loss 0.03\n",
      "Training Accuracy: 0.9650, Testing Accuracy: 0.9682\n",
      "\n"
     ]
    },
    {
     "name": "stdout",
     "output_type": "stream",
     "text": [
      "Epoch 110, Loss 0.0288\n",
      "Training Accuracy: 0.9666, Testing Accuracy: 0.9677\n",
      "\n"
     ]
    },
    {
     "name": "stdout",
     "output_type": "stream",
     "text": [
      "Epoch 120, Loss 0.0278\n",
      "Training Accuracy: 0.9675, Testing Accuracy: 0.9693\n",
      "\n"
     ]
    },
    {
     "name": "stdout",
     "output_type": "stream",
     "text": [
      "Epoch 130, Loss 0.0269\n",
      "Training Accuracy: 0.9684, Testing Accuracy: 0.9688\n",
      "\n"
     ]
    },
    {
     "name": "stdout",
     "output_type": "stream",
     "text": [
      "Epoch 140, Loss 0.0261\n",
      "Training Accuracy: 0.9692, Testing Accuracy: 0.9708\n",
      "\n"
     ]
    },
    {
     "name": "stdout",
     "output_type": "stream",
     "text": [
      "Epoch 150, Loss 0.0254\n",
      "Training Accuracy: 0.9702, Testing Accuracy: 0.9698\n",
      "\n"
     ]
    },
    {
     "name": "stdout",
     "output_type": "stream",
     "text": [
      "Epoch 160, Loss 0.0247\n",
      "Training Accuracy: 0.9705, Testing Accuracy: 0.9688\n",
      "\n"
     ]
    },
    {
     "name": "stdout",
     "output_type": "stream",
     "text": [
      "Epoch 170, Loss 0.0241\n",
      "Training Accuracy: 0.9713, Testing Accuracy: 0.9693\n",
      "\n"
     ]
    },
    {
     "name": "stdout",
     "output_type": "stream",
     "text": [
      "Epoch 180, Loss 0.0235\n",
      "Training Accuracy: 0.9720, Testing Accuracy: 0.9703\n",
      "\n"
     ]
    },
    {
     "name": "stdout",
     "output_type": "stream",
     "text": [
      "Epoch 190, Loss 0.0229\n",
      "Training Accuracy: 0.9732, Testing Accuracy: 0.9703\n",
      "\n"
     ]
    },
    {
     "name": "stdout",
     "output_type": "stream",
     "text": [
      "Epoch 200, Loss 0.0224\n",
      "Training Accuracy: 0.9740, Testing Accuracy: 0.9698\n",
      "\n"
     ]
    },
    {
     "name": "stdout",
     "output_type": "stream",
     "text": [
      "Epoch 210, Loss 0.0219\n",
      "Training Accuracy: 0.9750, Testing Accuracy: 0.9708\n",
      "\n"
     ]
    },
    {
     "name": "stdout",
     "output_type": "stream",
     "text": [
      "Epoch 220, Loss 0.0214\n",
      "Training Accuracy: 0.9753, Testing Accuracy: 0.9713\n",
      "\n"
     ]
    },
    {
     "name": "stdout",
     "output_type": "stream",
     "text": [
      "Epoch 230, Loss 0.021\n",
      "Training Accuracy: 0.9760, Testing Accuracy: 0.9713\n",
      "\n"
     ]
    },
    {
     "name": "stdout",
     "output_type": "stream",
     "text": [
      "Epoch 240, Loss 0.0205\n",
      "Training Accuracy: 0.9770, Testing Accuracy: 0.9723\n",
      "\n"
     ]
    },
    {
     "data": {
      "text/plain": [
       "0.0036858446156366404"
      ]
     },
     "execution_count": 22,
     "metadata": {},
     "output_type": "execute_result"
    }
   ],
   "source": [
    "nn_learner.train_loop(dl)"
   ]
  },
  {
   "cell_type": "code",
   "execution_count": 23,
   "id": "e0163366",
   "metadata": {
    "execution": {
     "iopub.execute_input": "2022-07-28T10:11:45.782345Z",
     "iopub.status.busy": "2022-07-28T10:11:45.781731Z",
     "iopub.status.idle": "2022-07-28T10:12:00.113764Z",
     "shell.execute_reply": "2022-07-28T10:12:00.114633Z"
    },
    "papermill": {
     "duration": 14.381581,
     "end_time": "2022-07-28T10:12:00.114791",
     "exception": false,
     "start_time": "2022-07-28T10:11:45.733210",
     "status": "completed"
    },
    "tags": []
   },
   "outputs": [
    {
     "name": "stdout",
     "output_type": "stream",
     "text": [
      "Epoch 0, Loss 0.2338\n",
      "Training Accuracy: 0.7297, Testing Accuracy: 0.7555\n",
      "\n"
     ]
    },
    {
     "name": "stdout",
     "output_type": "stream",
     "text": [
      "Epoch 10, Loss 0.0992\n",
      "Training Accuracy: 0.9149, Testing Accuracy: 0.9279\n",
      "\n"
     ]
    },
    {
     "name": "stdout",
     "output_type": "stream",
     "text": [
      "Epoch 20, Loss 0.0773\n",
      "Training Accuracy: 0.9312, Testing Accuracy: 0.9430\n",
      "\n"
     ]
    },
    {
     "name": "stdout",
     "output_type": "stream",
     "text": [
      "Epoch 30, Loss 0.067\n",
      "Training Accuracy: 0.9384, Testing Accuracy: 0.9506\n",
      "\n"
     ]
    },
    {
     "name": "stdout",
     "output_type": "stream",
     "text": [
      "Epoch 40, Loss 0.0607\n",
      "Training Accuracy: 0.9438, Testing Accuracy: 0.9546\n",
      "\n"
     ]
    },
    {
     "name": "stdout",
     "output_type": "stream",
     "text": [
      "Epoch 50, Loss 0.0564\n",
      "Training Accuracy: 0.9470, Testing Accuracy: 0.9572\n",
      "\n"
     ]
    },
    {
     "name": "stdout",
     "output_type": "stream",
     "text": [
      "Epoch 60, Loss 0.0532\n",
      "Training Accuracy: 0.9490, Testing Accuracy: 0.9572\n",
      "\n"
     ]
    },
    {
     "name": "stdout",
     "output_type": "stream",
     "text": [
      "Epoch 70, Loss 0.0507\n",
      "Training Accuracy: 0.9514, Testing Accuracy: 0.9592\n",
      "\n"
     ]
    },
    {
     "name": "stdout",
     "output_type": "stream",
     "text": [
      "Epoch 80, Loss 0.0487\n",
      "Training Accuracy: 0.9533, Testing Accuracy: 0.9612\n",
      "\n"
     ]
    },
    {
     "name": "stdout",
     "output_type": "stream",
     "text": [
      "Epoch 90, Loss 0.0471\n",
      "Training Accuracy: 0.9543, Testing Accuracy: 0.9632\n",
      "\n"
     ]
    },
    {
     "name": "stdout",
     "output_type": "stream",
     "text": [
      "Epoch 100, Loss 0.0457\n",
      "Training Accuracy: 0.9555, Testing Accuracy: 0.9642\n",
      "\n"
     ]
    },
    {
     "name": "stdout",
     "output_type": "stream",
     "text": [
      "Epoch 110, Loss 0.0445\n",
      "Training Accuracy: 0.9564, Testing Accuracy: 0.9667\n",
      "\n"
     ]
    },
    {
     "name": "stdout",
     "output_type": "stream",
     "text": [
      "Epoch 120, Loss 0.0435\n",
      "Training Accuracy: 0.9574, Testing Accuracy: 0.9667\n",
      "\n"
     ]
    },
    {
     "name": "stdout",
     "output_type": "stream",
     "text": [
      "Epoch 130, Loss 0.0425\n",
      "Training Accuracy: 0.9579, Testing Accuracy: 0.9667\n",
      "\n"
     ]
    },
    {
     "name": "stdout",
     "output_type": "stream",
     "text": [
      "Epoch 140, Loss 0.0417\n",
      "Training Accuracy: 0.9589, Testing Accuracy: 0.9667\n",
      "\n"
     ]
    },
    {
     "name": "stdout",
     "output_type": "stream",
     "text": [
      "Epoch 150, Loss 0.041\n",
      "Training Accuracy: 0.9594, Testing Accuracy: 0.9667\n",
      "\n"
     ]
    },
    {
     "name": "stdout",
     "output_type": "stream",
     "text": [
      "Epoch 160, Loss 0.0403\n",
      "Training Accuracy: 0.9599, Testing Accuracy: 0.9667\n",
      "\n"
     ]
    },
    {
     "name": "stdout",
     "output_type": "stream",
     "text": [
      "Epoch 170, Loss 0.0397\n",
      "Training Accuracy: 0.9601, Testing Accuracy: 0.9662\n",
      "\n"
     ]
    },
    {
     "name": "stdout",
     "output_type": "stream",
     "text": [
      "Epoch 180, Loss 0.0392\n",
      "Training Accuracy: 0.9601, Testing Accuracy: 0.9662\n",
      "\n"
     ]
    },
    {
     "name": "stdout",
     "output_type": "stream",
     "text": [
      "Epoch 190, Loss 0.0386\n",
      "Training Accuracy: 0.9604, Testing Accuracy: 0.9662\n",
      "\n"
     ]
    },
    {
     "name": "stdout",
     "output_type": "stream",
     "text": [
      "Epoch 200, Loss 0.0382\n",
      "Training Accuracy: 0.9608, Testing Accuracy: 0.9667\n",
      "\n"
     ]
    },
    {
     "name": "stdout",
     "output_type": "stream",
     "text": [
      "Epoch 210, Loss 0.0377\n",
      "Training Accuracy: 0.9609, Testing Accuracy: 0.9667\n",
      "\n"
     ]
    },
    {
     "name": "stdout",
     "output_type": "stream",
     "text": [
      "Epoch 220, Loss 0.0373\n",
      "Training Accuracy: 0.9615, Testing Accuracy: 0.9667\n",
      "\n"
     ]
    },
    {
     "name": "stdout",
     "output_type": "stream",
     "text": [
      "Epoch 230, Loss 0.0369\n",
      "Training Accuracy: 0.9618, Testing Accuracy: 0.9667\n",
      "\n"
     ]
    },
    {
     "name": "stdout",
     "output_type": "stream",
     "text": [
      "Epoch 240, Loss 0.0366\n",
      "Training Accuracy: 0.9619, Testing Accuracy: 0.9672\n",
      "\n"
     ]
    },
    {
     "data": {
      "text/plain": [
       "0.029940761976860426"
      ]
     },
     "execution_count": 23,
     "metadata": {},
     "output_type": "execute_result"
    }
   ],
   "source": [
    "lr_learner.train_loop(dl)"
   ]
  },
  {
   "cell_type": "code",
   "execution_count": 24,
   "id": "ca410940",
   "metadata": {
    "execution": {
     "iopub.execute_input": "2022-07-28T10:12:00.212042Z",
     "iopub.status.busy": "2022-07-28T10:12:00.211440Z",
     "iopub.status.idle": "2022-07-28T10:12:00.442149Z",
     "shell.execute_reply": "2022-07-28T10:12:00.441579Z"
    },
    "papermill": {
     "duration": 0.285938,
     "end_time": "2022-07-28T10:12:00.442286",
     "exception": false,
     "start_time": "2022-07-28T10:12:00.156348",
     "status": "completed"
    },
    "tags": []
   },
   "outputs": [
    {
     "data": {
      "text/plain": [
       "<matplotlib.legend.Legend at 0x7f7d3414fac8>"
      ]
     },
     "execution_count": 24,
     "metadata": {},
     "output_type": "execute_result"
    },
    {
     "data": {
      "image/png": "[encoded data removed]",
      "text/plain": [
       "<Figure size 1080x720 with 1 Axes>"
      ]
     },
     "metadata": {
      "needs_background": "light"
     },
     "output_type": "display_data"
    }
   ],
   "source": [
    "#comparing the results of NN and LR\n",
    "plt.figure(figsize=(15,10))\n",
    "\n",
    "# Neural Network plots\n",
    "plt.plot(acc_nn.accuracies, 'r-', label = \"Training Accuracies - NN\")\n",
    "plt.plot(acc_nn.test_accuracies, 'g-', label = \"Testing Accuracies - NN\")\n",
    "\n",
    "# Logistic Regression plots\n",
    "plt.plot(acc_lr.accuracies, 'k-', label = \"Training Accuracies - LR\")\n",
    "plt.plot(acc_lr.test_accuracies, 'b-', label = \"Testing Accuracies - LR\")\n",
    "plt.legend()"
   ]
  },
  {
   "cell_type": "markdown",
   "id": "80dfb35c",
   "metadata": {
    "papermill": {
     "duration": 0.042658,
     "end_time": "2022-07-28T10:12:00.527680",
     "exception": false,
     "start_time": "2022-07-28T10:12:00.485022",
     "status": "completed"
    },
    "tags": []
   },
   "source": [
    "#### Plotting the outputs of this layer of the NN.\n"
   ]
  },
  {
   "cell_type": "code",
   "execution_count": 25,
   "id": "45eb2ff5",
   "metadata": {
    "execution": {
     "iopub.execute_input": "2022-07-28T10:12:00.628237Z",
     "iopub.status.busy": "2022-07-28T10:12:00.627618Z",
     "iopub.status.idle": "2022-07-28T10:12:00.642104Z",
     "shell.execute_reply": "2022-07-28T10:12:00.641599Z"
    },
    "papermill": {
     "duration": 0.072184,
     "end_time": "2022-07-28T10:12:00.642224",
     "exception": false,
     "start_time": "2022-07-28T10:12:00.570040",
     "status": "completed"
    },
    "tags": []
   },
   "outputs": [],
   "source": [
    "new_model = Model(layers[:-2])\n",
    "testing_plot = new_model(testing_data_x)"
   ]
  },
  {
   "cell_type": "code",
   "execution_count": 26,
   "id": "4c0a5485",
   "metadata": {
    "execution": {
     "iopub.execute_input": "2022-07-28T10:12:00.735169Z",
     "iopub.status.busy": "2022-07-28T10:12:00.734493Z",
     "iopub.status.idle": "2022-07-28T10:12:00.957520Z",
     "shell.execute_reply": "2022-07-28T10:12:00.957955Z"
    },
    "papermill": {
     "duration": 0.272605,
     "end_time": "2022-07-28T10:12:00.958109",
     "exception": false,
     "start_time": "2022-07-28T10:12:00.685504",
     "status": "completed"
    },
    "tags": []
   },
   "outputs": [
    {
     "data": {
      "text/plain": [
       "Text(0.5, 1.0, 'Outputs')"
      ]
     },
     "execution_count": 26,
     "metadata": {},
     "output_type": "execute_result"
    },
    {
     "data": {
      "image/png": "[encoded data removed]",
      "text/plain": [
       "<Figure size 576x504 with 1 Axes>"
      ]
     },
     "metadata": {
      "needs_background": "light"
     },
     "output_type": "display_data"
    }
   ],
   "source": [
    "# Plotting the scatter plot of points and color coding by class\n",
    "plt.figure(figsize=(8,7))\n",
    "plt.scatter(testing_plot[:,0], testing_plot[:,1], alpha = 0.1, c = y_test.ravel());\n",
    "plt.title('Outputs')"
   ]
  },
  {
   "cell_type": "markdown",
   "id": "a74fcf8f",
   "metadata": {
    "papermill": {
     "duration": 0.045402,
     "end_time": "2022-07-28T10:12:01.049398",
     "exception": false,
     "start_time": "2022-07-28T10:12:01.003996",
     "status": "completed"
    },
    "tags": []
   },
   "source": [
    "Probability contours"
   ]
  },
  {
   "cell_type": "code",
   "execution_count": 27,
   "id": "d0afc8e3",
   "metadata": {
    "execution": {
     "iopub.execute_input": "2022-07-28T10:12:01.189081Z",
     "iopub.status.busy": "2022-07-28T10:12:01.188121Z",
     "iopub.status.idle": "2022-07-28T10:12:01.194524Z",
     "shell.execute_reply": "2022-07-28T10:12:01.195071Z"
    },
    "papermill": {
     "duration": 0.100109,
     "end_time": "2022-07-28T10:12:01.195205",
     "exception": false,
     "start_time": "2022-07-28T10:12:01.095096",
     "status": "completed"
    },
    "tags": []
   },
   "outputs": [],
   "source": [
    "model_prob = Model(layers[-2:]) "
   ]
  },
  {
   "cell_type": "code",
   "execution_count": 28,
   "id": "9b96e238",
   "metadata": {
    "execution": {
     "iopub.execute_input": "2022-07-28T10:12:01.298171Z",
     "iopub.status.busy": "2022-07-28T10:12:01.291177Z",
     "iopub.status.idle": "2022-07-28T10:12:01.309827Z",
     "shell.execute_reply": "2022-07-28T10:12:01.309273Z"
    },
    "papermill": {
     "duration": 0.069082,
     "end_time": "2022-07-28T10:12:01.309944",
     "exception": false,
     "start_time": "2022-07-28T10:12:01.240862",
     "status": "completed"
    },
    "tags": []
   },
   "outputs": [],
   "source": [
    "#creating the x and y ranges according to the above generated plot.\n",
    "x_range = np.linspace(-4, 1, 100) \n",
    "y_range = np.linspace(-6, 6, 100) \n",
    "x_grid, y_grid = np.meshgrid(x_range, y_range) # x_grid and y_grig are of size 100 X 100\n",
    "\n",
    "# converting x_grid and y_grid to continuous arrays\n",
    "x_gridflat = np.ravel(x_grid)\n",
    "y_gridflat = np.ravel(y_grid)\n",
    "\n",
    "# The last layer of the current model takes two columns as input. Hence transpose of np.vstack() is required.\n",
    "X = np.vstack((x_gridflat, y_gridflat)).T\n",
    "\n",
    "prob_contour = model_prob(X).reshape(100,100) "
   ]
  },
  {
   "cell_type": "code",
   "execution_count": 29,
   "id": "da72499a",
   "metadata": {
    "execution": {
     "iopub.execute_input": "2022-07-28T10:12:01.419834Z",
     "iopub.status.busy": "2022-07-28T10:12:01.419229Z",
     "iopub.status.idle": "2022-07-28T10:12:01.669941Z",
     "shell.execute_reply": "2022-07-28T10:12:01.669446Z"
    },
    "papermill": {
     "duration": 0.30245,
     "end_time": "2022-07-28T10:12:01.670071",
     "exception": false,
     "start_time": "2022-07-28T10:12:01.367621",
     "status": "completed"
    },
    "tags": []
   },
   "outputs": [
    {
     "data": {
      "image/png": "[encoded data removed]",
      "text/plain": [
       "<Figure size 720x648 with 1 Axes>"
      ]
     },
     "metadata": {
      "needs_background": "light"
     },
     "output_type": "display_data"
    }
   ],
   "source": [
    "plt.figure(figsize=(10,9))\n",
    "plt.scatter(testing_plot[:,0], testing_plot[:,1], alpha = 0.1, c = y_test.ravel())\n",
    "contours = plt.contour(x_grid,y_grid,prob_contour)\n",
    "plt.title('Probability Contours')\n",
    "plt.clabel(contours, inline = True );"
   ]
  },
  {
   "cell_type": "code",
   "execution_count": null,
   "id": "e81b4ac7",
   "metadata": {
    "papermill": {
     "duration": 0.047892,
     "end_time": "2022-07-28T10:12:01.767112",
     "exception": false,
     "start_time": "2022-07-28T10:12:01.719220",
     "status": "completed"
    },
    "tags": []
   },
   "outputs": [],
   "source": []
  }
 ],
 "metadata": {
  "kernelspec": {
   "display_name": "Python 3",
   "language": "python",
   "name": "python3"
  },
  "language_info": {
   "codemirror_mode": {
    "name": "ipython",
    "version": 3
   },
   "file_extension": ".py",
   "mimetype": "text/x-python",
   "name": "python",
   "nbconvert_exporter": "python",
   "pygments_lexer": "ipython3",
   "version": "3.6.15"
  },
  "papermill": {
   "default_parameters": {},
   "duration": 101.467163,
   "end_time": "2022-07-28T10:12:02.233839",
   "environment_variables": {},
   "exception": null,
   "input_path": "2020-08-11-part2.ipynb",
   "output_path": "2020-08-11-part2.ipynb",
   "parameters": {},
   "start_time": "2022-07-28T10:10:20.766676",
   "version": "2.3.3"
  }
 },
 "nbformat": 4,
 "nbformat_minor": 5
}